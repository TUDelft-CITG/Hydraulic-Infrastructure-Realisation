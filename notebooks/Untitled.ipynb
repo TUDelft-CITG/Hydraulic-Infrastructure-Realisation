{
 "cells": [
  {
   "cell_type": "code",
   "execution_count": 18,
   "id": "aa5d2231",
   "metadata": {},
   "outputs": [
    {
     "name": "stdout",
     "output_type": "stream",
     "text": [
      "<Response [200]>\n"
     ]
    },
    {
     "data": {
      "text/plain": [
       "-27.0"
      ]
     },
     "execution_count": 18,
     "metadata": {},
     "output_type": "execute_result"
    }
   ],
   "source": [
    "import pandas as pd\n",
    "import io\n",
    "import requests\n",
    "resp = requests.get('https://waterinfo.rws.nl/api/chart/get?mapType=waterhoogte&locationCode=Hoek-van-Holland(HOEK)&values=-48%2C48')\n",
    "print (resp)\n",
    "# data = resp.json()\n",
    "resp.content\n",
    "# pd.DataFrame(io.StringIO(resp.text))\n",
    "df = pd.read_csv(io.StringIO(resp.text), sep=';')\n",
    "df.iloc[10]\n",
    "df.iloc[10]['Waterhoogte Oppervlaktewater t.o.v. Normaal Amsterdams Peil in cm']"
   ]
  },
  {
   "cell_type": "code",
   "execution_count": null,
   "id": "641d8658",
   "metadata": {},
   "outputs": [],
   "source": []
  }
 ],
 "metadata": {
  "kernelspec": {
   "display_name": "myenv",
   "language": "python",
   "name": "myenv"
  },
  "language_info": {
   "codemirror_mode": {
    "name": "ipython",
    "version": 3
   },
   "file_extension": ".py",
   "mimetype": "text/x-python",
   "name": "python",
   "nbconvert_exporter": "python",
   "pygments_lexer": "ipython3",
   "version": "3.9.16"
  }
 },
 "nbformat": 4,
 "nbformat_minor": 5
}
