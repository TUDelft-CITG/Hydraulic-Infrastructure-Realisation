{
 "cells": [
  {
   "cell_type": "markdown",
   "metadata": {},
   "source": [
    "## Registry parsing\n",
    "\n",
    "__UNDER CONSTRUCTION__\n",
    "\n",
    "This notebook provides an example of a simulation that takes a number of __sub_processes__, grouped in a __SequentialActivity__, that is executed in a __WhileActivity__ while a __stop condition__ is not yet met.\n",
    "\n",
    "For this example we work with the following __sub_processes__:\n",
    "* sailing empty\n",
    "* loading\n",
    "* sailing full\n",
    "* unloading"
   ]
  },
  {
   "cell_type": "markdown",
   "metadata": {},
   "source": [
    "#### 0. Import libraries"
   ]
  },
  {
   "cell_type": "code",
   "execution_count": 1,
   "metadata": {},
   "outputs": [],
   "source": [
    "import datetime, time\n",
    "import simpy\n",
    "\n",
    "import shapely.geometry\n",
    "import pandas as pd\n",
    "\n",
    "import openclsim.core as core\n",
    "import openclsim.model as model\n",
    "import openclsim.plot as plot"
   ]
  },
  {
   "cell_type": "markdown",
   "metadata": {},
   "source": [
    "#### 1. Initialise simpy environment"
   ]
  },
  {
   "cell_type": "code",
   "execution_count": 2,
   "metadata": {},
   "outputs": [],
   "source": [
    "# setup environment\n",
    "simulation_start = 0\n",
    "my_env = simpy.Environment(initial_time=simulation_start)"
   ]
  },
  {
   "cell_type": "markdown",
   "metadata": {},
   "source": [
    "#### 2. Define object classes"
   ]
  },
  {
   "cell_type": "code",
   "execution_count": 3,
   "metadata": {},
   "outputs": [],
   "source": [
    "# create a Site object based on desired mixin classes\n",
    "Site = type(\n",
    "    \"Site\",\n",
    "    (\n",
    "        core.Identifiable,\n",
    "        core.Log,\n",
    "        core.Locatable,\n",
    "        core.HasContainer,\n",
    "        core.HasResource,\n",
    "    ),\n",
    "    {},\n",
    ")\n",
    "\n",
    "# create a TransportProcessingResource object based on desired mixin classes\n",
    "TransportProcessingResource = type(\n",
    "    \"TransportProcessingResource\",\n",
    "    (\n",
    "        core.ContainerDependentMovable,\n",
    "        core.Processor,\n",
    "        core.HasResource,\n",
    "        core.LoadingFunction,\n",
    "        core.UnloadingFunction,\n",
    "        core.Identifiable,\n",
    "        core.Log,\n",
    "    ),\n",
    "    {},\n",
    ")"
   ]
  },
  {
   "cell_type": "markdown",
   "metadata": {},
   "source": [
    "#### 3. Create objects\n",
    "##### 3.1. Create site object(s)"
   ]
  },
  {
   "cell_type": "code",
   "execution_count": 4,
   "metadata": {},
   "outputs": [],
   "source": [
    "# prepare input data for from_site\n",
    "location_from_site = shapely.geometry.Point(4.18055556, 52.18664444)\n",
    "data_from_site = {\"env\": my_env,\n",
    "                  \"name\": \"from_site\",\n",
    "                  \"geometry\": location_from_site,\n",
    "                  \"capacity\": 100,\n",
    "                  \"level\": 100\n",
    "                 }\n",
    "# instantiate from_site \n",
    "from_site = Site(**data_from_site)\n",
    "\n",
    "# prepare input data for to_site\n",
    "location_to_site = shapely.geometry.Point(4.25222222, 52.11428333)\n",
    "data_to_site = {\"env\": my_env,\n",
    "                \"name\": \"to_site\",\n",
    "                \"geometry\": location_to_site,\n",
    "                \"capacity\": 100,\n",
    "                \"level\": 0\n",
    "               }\n",
    "# instantiate to_site \n",
    "to_site = Site(**data_to_site)"
   ]
  },
  {
   "cell_type": "markdown",
   "metadata": {},
   "source": [
    "##### 3.2. Create vessel object(s)"
   ]
  },
  {
   "cell_type": "code",
   "execution_count": 5,
   "metadata": {},
   "outputs": [],
   "source": [
    "# prepare input data for vessel_01\n",
    "data_vessel01 = {\"env\": my_env,\n",
    "                 \"name\": \"vessel01\",\n",
    "                 \"geometry\": location_from_site, \n",
    "                 \"loading_rate\": 0.0004,\n",
    "                 \"unloading_rate\": 0.0004,\n",
    "                 \"capacity\": 4,\n",
    "                 \"compute_v\": lambda x: 10\n",
    "               }\n",
    "# instantiate vessel_01 \n",
    "vessel01 = TransportProcessingResource(**data_vessel01)"
   ]
  },
  {
   "cell_type": "markdown",
   "metadata": {},
   "source": [
    "##### 3.3 Create activity/activities"
   ]
  },
  {
   "cell_type": "code",
   "execution_count": 6,
   "metadata": {},
   "outputs": [],
   "source": [
    "# initialise registry\n",
    "registry = {}"
   ]
  },
  {
   "cell_type": "code",
   "execution_count": 7,
   "metadata": {},
   "outputs": [],
   "source": [
    "# create a list of the sub processes\n",
    "sub_processes = [\n",
    "    model.MoveActivity(\n",
    "        env=my_env,\n",
    "        name=\"sailing empty\",\n",
    "        registry=registry,\n",
    "        mover=vessel01,\n",
    "        destination=from_site,\n",
    "    ),\n",
    "    model.ShiftAmountActivity(\n",
    "        env=my_env,\n",
    "        name=\"loading\",\n",
    "        registry=registry,\n",
    "        processor=vessel01,\n",
    "        origin=from_site,\n",
    "        destination=vessel01,\n",
    "        amount=4,\n",
    "        duration=1000,\n",
    "    ),\n",
    "    model.MoveActivity(\n",
    "        env=my_env,\n",
    "        name=\"sailing full\",\n",
    "        registry=registry,\n",
    "        mover=vessel01,\n",
    "        destination=to_site,\n",
    "    ),\n",
    "    model.ShiftAmountActivity(\n",
    "        env=my_env,\n",
    "        name=\"unloading\",\n",
    "        registry=registry,\n",
    "        processor=vessel01,\n",
    "        origin=vessel01,\n",
    "        destination=to_site,\n",
    "        amount=4,\n",
    "        duration=1000,\n",
    "    ),\n",
    "    model.BasicActivity(\n",
    "        env=my_env,\n",
    "        name=\"basic activity\",\n",
    "        registry=registry,\n",
    "        duration=0,\n",
    "        additional_logs=[vessel01],\n",
    "    ),\n",
    "]\n",
    "\n",
    "# create a 'sequential activity' that is made up of the 'sub_processes'\n",
    "sequential_activity = model.SequentialActivity(\n",
    "        env=my_env,\n",
    "        name=\"sequential\",\n",
    "        registry=registry,\n",
    "        sub_processes=sub_processes,\n",
    "    )\n",
    "\n",
    "# create a while activity that executes the 'sequential activity' while the stop condition is not triggered \n",
    "while_activity = model.WhileActivity(\n",
    "    env=my_env,\n",
    "    name=\"while\",\n",
    "    registry=registry,\n",
    "    sub_processes=[sequential_activity],\n",
    "    condition_event=[{\"type\": \"container\", \"concept\": to_site, \"state\": \"full\"}],\n",
    ")"
   ]
  },
  {
   "cell_type": "markdown",
   "metadata": {},
   "source": [
    "#### 4. Register processes and run simpy"
   ]
  },
  {
   "cell_type": "code",
   "execution_count": 8,
   "metadata": {},
   "outputs": [],
   "source": [
    "# initate the simpy processes defined in the 'while activity' and run simpy\n",
    "model.register_processes([while_activity])\n",
    "my_env.run()"
   ]
  },
  {
   "cell_type": "markdown",
   "metadata": {},
   "source": [
    "#### 5. Inspect results\n",
    "##### 5.1 Inspect logs"
   ]
  },
  {
   "cell_type": "code",
   "execution_count": 9,
   "metadata": {},
   "outputs": [
    {
     "data": {
      "text/html": [
       "<div>\n",
       "<style scoped>\n",
       "    .dataframe tbody tr th:only-of-type {\n",
       "        vertical-align: middle;\n",
       "    }\n",
       "\n",
       "    .dataframe tbody tr th {\n",
       "        vertical-align: top;\n",
       "    }\n",
       "\n",
       "    .dataframe thead th {\n",
       "        text-align: right;\n",
       "    }\n",
       "</style>\n",
       "<table border=\"1\" class=\"dataframe\">\n",
       "  <thead>\n",
       "    <tr style=\"text-align: right;\">\n",
       "      <th></th>\n",
       "      <th>Activity</th>\n",
       "      <th>Timestamp</th>\n",
       "      <th>ActivityState</th>\n",
       "      <th>container level</th>\n",
       "      <th>geometry</th>\n",
       "      <th>type</th>\n",
       "      <th>ref</th>\n",
       "    </tr>\n",
       "  </thead>\n",
       "  <tbody>\n",
       "    <tr>\n",
       "      <th>0</th>\n",
       "      <td>sailing empty</td>\n",
       "      <td>1970-01-01 00:00:00.000000</td>\n",
       "      <td>START</td>\n",
       "      <td>0.0</td>\n",
       "      <td>POINT (4.18055556 52.18664444)</td>\n",
       "      <td>NaN</td>\n",
       "      <td>NaN</td>\n",
       "    </tr>\n",
       "    <tr>\n",
       "      <th>1</th>\n",
       "      <td>sailing empty</td>\n",
       "      <td>1970-01-01 00:00:00.000000</td>\n",
       "      <td>STOP</td>\n",
       "      <td>0.0</td>\n",
       "      <td>POINT (4.18055556 52.18664444)</td>\n",
       "      <td>NaN</td>\n",
       "      <td>NaN</td>\n",
       "    </tr>\n",
       "    <tr>\n",
       "      <th>2</th>\n",
       "      <td>loading</td>\n",
       "      <td>1970-01-01 00:00:00.000000</td>\n",
       "      <td>START</td>\n",
       "      <td>0.0</td>\n",
       "      <td>POINT (4.18055556 52.18664444)</td>\n",
       "      <td>NaN</td>\n",
       "      <td>NaN</td>\n",
       "    </tr>\n",
       "    <tr>\n",
       "      <th>3</th>\n",
       "      <td>loading</td>\n",
       "      <td>1970-01-01 00:16:40.000000</td>\n",
       "      <td>STOP</td>\n",
       "      <td>4.0</td>\n",
       "      <td>POINT (4.18055556 52.18664444)</td>\n",
       "      <td>NaN</td>\n",
       "      <td>NaN</td>\n",
       "    </tr>\n",
       "    <tr>\n",
       "      <th>4</th>\n",
       "      <td>sailing full</td>\n",
       "      <td>1970-01-01 00:16:40.000000</td>\n",
       "      <td>START</td>\n",
       "      <td>4.0</td>\n",
       "      <td>POINT (4.18055556 52.18664444)</td>\n",
       "      <td>NaN</td>\n",
       "      <td>NaN</td>\n",
       "    </tr>\n",
       "    <tr>\n",
       "      <th>...</th>\n",
       "      <td>...</td>\n",
       "      <td>...</td>\n",
       "      <td>...</td>\n",
       "      <td>...</td>\n",
       "      <td>...</td>\n",
       "      <td>...</td>\n",
       "      <td>...</td>\n",
       "    </tr>\n",
       "    <tr>\n",
       "      <th>245</th>\n",
       "      <td>sailing full</td>\n",
       "      <td>1970-01-02 02:26:38.404972</td>\n",
       "      <td>STOP</td>\n",
       "      <td>4.0</td>\n",
       "      <td>POINT (4.25222222 52.11428333)</td>\n",
       "      <td>NaN</td>\n",
       "      <td>NaN</td>\n",
       "    </tr>\n",
       "    <tr>\n",
       "      <th>246</th>\n",
       "      <td>unloading</td>\n",
       "      <td>1970-01-02 02:26:38.404972</td>\n",
       "      <td>START</td>\n",
       "      <td>4.0</td>\n",
       "      <td>POINT (4.25222222 52.11428333)</td>\n",
       "      <td>NaN</td>\n",
       "      <td>NaN</td>\n",
       "    </tr>\n",
       "    <tr>\n",
       "      <th>247</th>\n",
       "      <td>unloading</td>\n",
       "      <td>1970-01-02 02:43:18.404972</td>\n",
       "      <td>STOP</td>\n",
       "      <td>0.0</td>\n",
       "      <td>POINT (4.25222222 52.11428333)</td>\n",
       "      <td>NaN</td>\n",
       "      <td>NaN</td>\n",
       "    </tr>\n",
       "    <tr>\n",
       "      <th>248</th>\n",
       "      <td>basic activity</td>\n",
       "      <td>1970-01-02 02:43:18.404972</td>\n",
       "      <td>START</td>\n",
       "      <td>0.0</td>\n",
       "      <td>POINT (4.25222222 52.11428333)</td>\n",
       "      <td>additional log</td>\n",
       "      <td>ff97f07b-5f01-46b1-a60a-398197a75d5f</td>\n",
       "    </tr>\n",
       "    <tr>\n",
       "      <th>249</th>\n",
       "      <td>basic activity</td>\n",
       "      <td>1970-01-02 02:43:18.404972</td>\n",
       "      <td>STOP</td>\n",
       "      <td>0.0</td>\n",
       "      <td>POINT (4.25222222 52.11428333)</td>\n",
       "      <td>additional log</td>\n",
       "      <td>ff97f07b-5f01-46b1-a60a-398197a75d5f</td>\n",
       "    </tr>\n",
       "  </tbody>\n",
       "</table>\n",
       "<p>250 rows × 7 columns</p>\n",
       "</div>"
      ],
      "text/plain": [
       "           Activity                  Timestamp ActivityState  container level  \\\n",
       "0     sailing empty 1970-01-01 00:00:00.000000         START              0.0   \n",
       "1     sailing empty 1970-01-01 00:00:00.000000          STOP              0.0   \n",
       "2           loading 1970-01-01 00:00:00.000000         START              0.0   \n",
       "3           loading 1970-01-01 00:16:40.000000          STOP              4.0   \n",
       "4      sailing full 1970-01-01 00:16:40.000000         START              4.0   \n",
       "..              ...                        ...           ...              ...   \n",
       "245    sailing full 1970-01-02 02:26:38.404972          STOP              4.0   \n",
       "246       unloading 1970-01-02 02:26:38.404972         START              4.0   \n",
       "247       unloading 1970-01-02 02:43:18.404972          STOP              0.0   \n",
       "248  basic activity 1970-01-02 02:43:18.404972         START              0.0   \n",
       "249  basic activity 1970-01-02 02:43:18.404972          STOP              0.0   \n",
       "\n",
       "                           geometry            type  \\\n",
       "0    POINT (4.18055556 52.18664444)             NaN   \n",
       "1    POINT (4.18055556 52.18664444)             NaN   \n",
       "2    POINT (4.18055556 52.18664444)             NaN   \n",
       "3    POINT (4.18055556 52.18664444)             NaN   \n",
       "4    POINT (4.18055556 52.18664444)             NaN   \n",
       "..                              ...             ...   \n",
       "245  POINT (4.25222222 52.11428333)             NaN   \n",
       "246  POINT (4.25222222 52.11428333)             NaN   \n",
       "247  POINT (4.25222222 52.11428333)             NaN   \n",
       "248  POINT (4.25222222 52.11428333)  additional log   \n",
       "249  POINT (4.25222222 52.11428333)  additional log   \n",
       "\n",
       "                                      ref  \n",
       "0                                     NaN  \n",
       "1                                     NaN  \n",
       "2                                     NaN  \n",
       "3                                     NaN  \n",
       "4                                     NaN  \n",
       "..                                    ...  \n",
       "245                                   NaN  \n",
       "246                                   NaN  \n",
       "247                                   NaN  \n",
       "248  ff97f07b-5f01-46b1-a60a-398197a75d5f  \n",
       "249  ff97f07b-5f01-46b1-a60a-398197a75d5f  \n",
       "\n",
       "[250 rows x 7 columns]"
      ]
     },
     "execution_count": 9,
     "metadata": {},
     "output_type": "execute_result"
    }
   ],
   "source": [
    "plot.get_log_dataframe(vessel01, [while_activity])"
   ]
  },
  {
   "cell_type": "markdown",
   "metadata": {},
   "source": [
    "##### 5.2 Visualise gantt charts"
   ]
  },
  {
   "cell_type": "code",
   "execution_count": 10,
   "metadata": {},
   "outputs": [
    {
     "data": {
      "text/html": [
       "        <script type=\"text/javascript\">\n",
       "        window.PlotlyConfig = {MathJaxConfig: 'local'};\n",
       "        if (window.MathJax && window.MathJax.Hub && window.MathJax.Hub.Config) {window.MathJax.Hub.Config({SVG: {font: \"STIX-Web\"}});}\n",
       "        if (typeof require !== 'undefined') {\n",
       "        require.undef(\"plotly\");\n",
       "        requirejs.config({\n",
       "            paths: {\n",
       "                'plotly': ['https://cdn.plot.ly/plotly-2.12.1.min']\n",
       "            }\n",
       "        });\n",
       "        require(['plotly'], function(Plotly) {\n",
       "            window._Plotly = Plotly;\n",
       "        });\n",
       "        }\n",
       "        </script>\n",
       "        "
      ]
     },
     "metadata": {},
     "output_type": "display_data"
    },
    {
     "data": {
      "application/vnd.plotly.v1+json": {
       "config": {
        "linkText": "Export to plot.ly",
        "plotlyServerURL": "https://plot.ly",
        "showLink": false
       },
       "data": [
        {
         "connectgaps": false,
         "hoverinfo": "y+name",
         "line": {
          "color": "rgb(99,106,33)",
          "width": 10
         },
         "mode": "lines",
         "name": "while",
         "type": "scatter",
         "x": [
          "1970-01-01T00:00:00",
          "1970-01-01T00:00:00",
          "1970-01-01T00:49:02.824591",
          "1970-01-01T00:49:02.824591",
          "1970-01-01T00:49:02.824591",
          "1970-01-01T00:49:02.824591",
          "1970-01-01T00:49:02.824591",
          "1970-01-01T01:53:48.473774",
          "1970-01-01T01:53:48.473774",
          "1970-01-01T01:53:48.473774",
          "1970-01-01T01:53:48.473774",
          "1970-01-01T01:53:48.473774",
          "1970-01-01T02:58:34.122956",
          "1970-01-01T02:58:34.122956",
          "1970-01-01T02:58:34.122956",
          "1970-01-01T02:58:34.122956",
          "1970-01-01T02:58:34.122956",
          "1970-01-01T04:03:19.772139",
          "1970-01-01T04:03:19.772139",
          "1970-01-01T04:03:19.772139",
          "1970-01-01T04:03:19.772139",
          "1970-01-01T04:03:19.772139",
          "1970-01-01T05:08:05.421321",
          "1970-01-01T05:08:05.421321",
          "1970-01-01T05:08:05.421321",
          "1970-01-01T05:08:05.421321",
          "1970-01-01T05:08:05.421321",
          "1970-01-01T06:12:51.070504",
          "1970-01-01T06:12:51.070504",
          "1970-01-01T06:12:51.070504",
          "1970-01-01T06:12:51.070504",
          "1970-01-01T06:12:51.070504",
          "1970-01-01T07:17:36.719687",
          "1970-01-01T07:17:36.719687",
          "1970-01-01T07:17:36.719687",
          "1970-01-01T07:17:36.719687",
          "1970-01-01T07:17:36.719687",
          "1970-01-01T08:22:22.368869",
          "1970-01-01T08:22:22.368869",
          "1970-01-01T08:22:22.368869",
          "1970-01-01T08:22:22.368869",
          "1970-01-01T08:22:22.368869",
          "1970-01-01T09:27:08.018052",
          "1970-01-01T09:27:08.018052",
          "1970-01-01T09:27:08.018052",
          "1970-01-01T09:27:08.018052",
          "1970-01-01T09:27:08.018052",
          "1970-01-01T10:31:53.667234",
          "1970-01-01T10:31:53.667234",
          "1970-01-01T10:31:53.667234",
          "1970-01-01T10:31:53.667234",
          "1970-01-01T10:31:53.667234",
          "1970-01-01T11:36:39.316417",
          "1970-01-01T11:36:39.316417",
          "1970-01-01T11:36:39.316417",
          "1970-01-01T11:36:39.316417",
          "1970-01-01T11:36:39.316417",
          "1970-01-01T12:41:24.965599",
          "1970-01-01T12:41:24.965599",
          "1970-01-01T12:41:24.965599",
          "1970-01-01T12:41:24.965599",
          "1970-01-01T12:41:24.965599",
          "1970-01-01T13:46:10.614782",
          "1970-01-01T13:46:10.614782",
          "1970-01-01T13:46:10.614782",
          "1970-01-01T13:46:10.614782",
          "1970-01-01T13:46:10.614782",
          "1970-01-01T14:50:56.263964",
          "1970-01-01T14:50:56.263964",
          "1970-01-01T14:50:56.263964",
          "1970-01-01T14:50:56.263964",
          "1970-01-01T14:50:56.263964",
          "1970-01-01T15:55:41.913147",
          "1970-01-01T15:55:41.913147",
          "1970-01-01T15:55:41.913147",
          "1970-01-01T15:55:41.913147",
          "1970-01-01T15:55:41.913147",
          "1970-01-01T17:00:27.562329",
          "1970-01-01T17:00:27.562329",
          "1970-01-01T17:00:27.562329",
          "1970-01-01T17:00:27.562329",
          "1970-01-01T17:00:27.562329",
          "1970-01-01T18:05:13.211512",
          "1970-01-01T18:05:13.211512",
          "1970-01-01T18:05:13.211512",
          "1970-01-01T18:05:13.211512",
          "1970-01-01T18:05:13.211512",
          "1970-01-01T19:09:58.860695",
          "1970-01-01T19:09:58.860695",
          "1970-01-01T19:09:58.860695",
          "1970-01-01T19:09:58.860695",
          "1970-01-01T19:09:58.860695",
          "1970-01-01T20:14:44.509877",
          "1970-01-01T20:14:44.509877",
          "1970-01-01T20:14:44.509877",
          "1970-01-01T20:14:44.509877",
          "1970-01-01T20:14:44.509877",
          "1970-01-01T21:19:30.159060",
          "1970-01-01T21:19:30.159060",
          "1970-01-01T21:19:30.159060",
          "1970-01-01T21:19:30.159060",
          "1970-01-01T21:19:30.159060",
          "1970-01-01T22:24:15.808242",
          "1970-01-01T22:24:15.808242",
          "1970-01-01T22:24:15.808242",
          "1970-01-01T22:24:15.808242",
          "1970-01-01T22:24:15.808242",
          "1970-01-01T23:29:01.457425",
          "1970-01-01T23:29:01.457425",
          "1970-01-01T23:29:01.457425",
          "1970-01-01T23:29:01.457425",
          "1970-01-01T23:29:01.457425",
          "1970-01-02T00:33:47.106607",
          "1970-01-02T00:33:47.106607",
          "1970-01-02T00:33:47.106607",
          "1970-01-02T00:33:47.106607",
          "1970-01-02T00:33:47.106607",
          "1970-01-02T01:38:32.755790",
          "1970-01-02T01:38:32.755790",
          "1970-01-02T01:38:32.755790",
          "1970-01-02T01:38:32.755790",
          "1970-01-02T01:38:32.755790",
          "1970-01-02T02:43:18.404972",
          "1970-01-02T02:43:18.404972",
          "1970-01-02T02:43:18.404972",
          "1970-01-02T01:38:32.755790",
          "1970-01-02T01:38:32.755790",
          "1970-01-02T02:43:18.404972",
          "1970-01-02T02:43:18.404972",
          "1970-01-02T02:43:18.404972"
         ],
         "y": [
          "while",
          "while",
          "while",
          "while",
          null,
          "while",
          "while",
          "while",
          "while",
          null,
          "while",
          "while",
          "while",
          "while",
          null,
          "while",
          "while",
          "while",
          "while",
          null,
          "while",
          "while",
          "while",
          "while",
          null,
          "while",
          "while",
          "while",
          "while",
          null,
          "while",
          "while",
          "while",
          "while",
          null,
          "while",
          "while",
          "while",
          "while",
          null,
          "while",
          "while",
          "while",
          "while",
          null,
          "while",
          "while",
          "while",
          "while",
          null,
          "while",
          "while",
          "while",
          "while",
          null,
          "while",
          "while",
          "while",
          "while",
          null,
          "while",
          "while",
          "while",
          "while",
          null,
          "while",
          "while",
          "while",
          "while",
          null,
          "while",
          "while",
          "while",
          "while",
          null,
          "while",
          "while",
          "while",
          "while",
          null,
          "while",
          "while",
          "while",
          "while",
          null,
          "while",
          "while",
          "while",
          "while",
          null,
          "while",
          "while",
          "while",
          "while",
          null,
          "while",
          "while",
          "while",
          "while",
          null,
          "while",
          "while",
          "while",
          "while",
          null,
          "while",
          "while",
          "while",
          "while",
          null,
          "while",
          "while",
          "while",
          "while",
          null,
          "while",
          "while",
          "while",
          "while",
          null,
          "while",
          "while",
          "while",
          "while",
          null,
          "while",
          "while",
          "while",
          "while",
          null
         ]
        }
       ],
       "layout": {
        "autosize": true,
        "hovermode": "closest",
        "legend": {
         "orientation": "h",
         "x": 0,
         "y": -0.2
        },
        "template": {
         "data": {
          "bar": [
           {
            "error_x": {
             "color": "#2a3f5f"
            },
            "error_y": {
             "color": "#2a3f5f"
            },
            "marker": {
             "line": {
              "color": "#E5ECF6",
              "width": 0.5
             },
             "pattern": {
              "fillmode": "overlay",
              "size": 10,
              "solidity": 0.2
             }
            },
            "type": "bar"
           }
          ],
          "barpolar": [
           {
            "marker": {
             "line": {
              "color": "#E5ECF6",
              "width": 0.5
             },
             "pattern": {
              "fillmode": "overlay",
              "size": 10,
              "solidity": 0.2
             }
            },
            "type": "barpolar"
           }
          ],
          "carpet": [
           {
            "aaxis": {
             "endlinecolor": "#2a3f5f",
             "gridcolor": "white",
             "linecolor": "white",
             "minorgridcolor": "white",
             "startlinecolor": "#2a3f5f"
            },
            "baxis": {
             "endlinecolor": "#2a3f5f",
             "gridcolor": "white",
             "linecolor": "white",
             "minorgridcolor": "white",
             "startlinecolor": "#2a3f5f"
            },
            "type": "carpet"
           }
          ],
          "choropleth": [
           {
            "colorbar": {
             "outlinewidth": 0,
             "ticks": ""
            },
            "type": "choropleth"
           }
          ],
          "contour": [
           {
            "colorbar": {
             "outlinewidth": 0,
             "ticks": ""
            },
            "colorscale": [
             [
              0,
              "#0d0887"
             ],
             [
              0.1111111111111111,
              "#46039f"
             ],
             [
              0.2222222222222222,
              "#7201a8"
             ],
             [
              0.3333333333333333,
              "#9c179e"
             ],
             [
              0.4444444444444444,
              "#bd3786"
             ],
             [
              0.5555555555555556,
              "#d8576b"
             ],
             [
              0.6666666666666666,
              "#ed7953"
             ],
             [
              0.7777777777777778,
              "#fb9f3a"
             ],
             [
              0.8888888888888888,
              "#fdca26"
             ],
             [
              1,
              "#f0f921"
             ]
            ],
            "type": "contour"
           }
          ],
          "contourcarpet": [
           {
            "colorbar": {
             "outlinewidth": 0,
             "ticks": ""
            },
            "type": "contourcarpet"
           }
          ],
          "heatmap": [
           {
            "colorbar": {
             "outlinewidth": 0,
             "ticks": ""
            },
            "colorscale": [
             [
              0,
              "#0d0887"
             ],
             [
              0.1111111111111111,
              "#46039f"
             ],
             [
              0.2222222222222222,
              "#7201a8"
             ],
             [
              0.3333333333333333,
              "#9c179e"
             ],
             [
              0.4444444444444444,
              "#bd3786"
             ],
             [
              0.5555555555555556,
              "#d8576b"
             ],
             [
              0.6666666666666666,
              "#ed7953"
             ],
             [
              0.7777777777777778,
              "#fb9f3a"
             ],
             [
              0.8888888888888888,
              "#fdca26"
             ],
             [
              1,
              "#f0f921"
             ]
            ],
            "type": "heatmap"
           }
          ],
          "heatmapgl": [
           {
            "colorbar": {
             "outlinewidth": 0,
             "ticks": ""
            },
            "colorscale": [
             [
              0,
              "#0d0887"
             ],
             [
              0.1111111111111111,
              "#46039f"
             ],
             [
              0.2222222222222222,
              "#7201a8"
             ],
             [
              0.3333333333333333,
              "#9c179e"
             ],
             [
              0.4444444444444444,
              "#bd3786"
             ],
             [
              0.5555555555555556,
              "#d8576b"
             ],
             [
              0.6666666666666666,
              "#ed7953"
             ],
             [
              0.7777777777777778,
              "#fb9f3a"
             ],
             [
              0.8888888888888888,
              "#fdca26"
             ],
             [
              1,
              "#f0f921"
             ]
            ],
            "type": "heatmapgl"
           }
          ],
          "histogram": [
           {
            "marker": {
             "pattern": {
              "fillmode": "overlay",
              "size": 10,
              "solidity": 0.2
             }
            },
            "type": "histogram"
           }
          ],
          "histogram2d": [
           {
            "colorbar": {
             "outlinewidth": 0,
             "ticks": ""
            },
            "colorscale": [
             [
              0,
              "#0d0887"
             ],
             [
              0.1111111111111111,
              "#46039f"
             ],
             [
              0.2222222222222222,
              "#7201a8"
             ],
             [
              0.3333333333333333,
              "#9c179e"
             ],
             [
              0.4444444444444444,
              "#bd3786"
             ],
             [
              0.5555555555555556,
              "#d8576b"
             ],
             [
              0.6666666666666666,
              "#ed7953"
             ],
             [
              0.7777777777777778,
              "#fb9f3a"
             ],
             [
              0.8888888888888888,
              "#fdca26"
             ],
             [
              1,
              "#f0f921"
             ]
            ],
            "type": "histogram2d"
           }
          ],
          "histogram2dcontour": [
           {
            "colorbar": {
             "outlinewidth": 0,
             "ticks": ""
            },
            "colorscale": [
             [
              0,
              "#0d0887"
             ],
             [
              0.1111111111111111,
              "#46039f"
             ],
             [
              0.2222222222222222,
              "#7201a8"
             ],
             [
              0.3333333333333333,
              "#9c179e"
             ],
             [
              0.4444444444444444,
              "#bd3786"
             ],
             [
              0.5555555555555556,
              "#d8576b"
             ],
             [
              0.6666666666666666,
              "#ed7953"
             ],
             [
              0.7777777777777778,
              "#fb9f3a"
             ],
             [
              0.8888888888888888,
              "#fdca26"
             ],
             [
              1,
              "#f0f921"
             ]
            ],
            "type": "histogram2dcontour"
           }
          ],
          "mesh3d": [
           {
            "colorbar": {
             "outlinewidth": 0,
             "ticks": ""
            },
            "type": "mesh3d"
           }
          ],
          "parcoords": [
           {
            "line": {
             "colorbar": {
              "outlinewidth": 0,
              "ticks": ""
             }
            },
            "type": "parcoords"
           }
          ],
          "pie": [
           {
            "automargin": true,
            "type": "pie"
           }
          ],
          "scatter": [
           {
            "fillpattern": {
             "fillmode": "overlay",
             "size": 10,
             "solidity": 0.2
            },
            "type": "scatter"
           }
          ],
          "scatter3d": [
           {
            "line": {
             "colorbar": {
              "outlinewidth": 0,
              "ticks": ""
             }
            },
            "marker": {
             "colorbar": {
              "outlinewidth": 0,
              "ticks": ""
             }
            },
            "type": "scatter3d"
           }
          ],
          "scattercarpet": [
           {
            "marker": {
             "colorbar": {
              "outlinewidth": 0,
              "ticks": ""
             }
            },
            "type": "scattercarpet"
           }
          ],
          "scattergeo": [
           {
            "marker": {
             "colorbar": {
              "outlinewidth": 0,
              "ticks": ""
             }
            },
            "type": "scattergeo"
           }
          ],
          "scattergl": [
           {
            "marker": {
             "colorbar": {
              "outlinewidth": 0,
              "ticks": ""
             }
            },
            "type": "scattergl"
           }
          ],
          "scattermapbox": [
           {
            "marker": {
             "colorbar": {
              "outlinewidth": 0,
              "ticks": ""
             }
            },
            "type": "scattermapbox"
           }
          ],
          "scatterpolar": [
           {
            "marker": {
             "colorbar": {
              "outlinewidth": 0,
              "ticks": ""
             }
            },
            "type": "scatterpolar"
           }
          ],
          "scatterpolargl": [
           {
            "marker": {
             "colorbar": {
              "outlinewidth": 0,
              "ticks": ""
             }
            },
            "type": "scatterpolargl"
           }
          ],
          "scatterternary": [
           {
            "marker": {
             "colorbar": {
              "outlinewidth": 0,
              "ticks": ""
             }
            },
            "type": "scatterternary"
           }
          ],
          "surface": [
           {
            "colorbar": {
             "outlinewidth": 0,
             "ticks": ""
            },
            "colorscale": [
             [
              0,
              "#0d0887"
             ],
             [
              0.1111111111111111,
              "#46039f"
             ],
             [
              0.2222222222222222,
              "#7201a8"
             ],
             [
              0.3333333333333333,
              "#9c179e"
             ],
             [
              0.4444444444444444,
              "#bd3786"
             ],
             [
              0.5555555555555556,
              "#d8576b"
             ],
             [
              0.6666666666666666,
              "#ed7953"
             ],
             [
              0.7777777777777778,
              "#fb9f3a"
             ],
             [
              0.8888888888888888,
              "#fdca26"
             ],
             [
              1,
              "#f0f921"
             ]
            ],
            "type": "surface"
           }
          ],
          "table": [
           {
            "cells": {
             "fill": {
              "color": "#EBF0F8"
             },
             "line": {
              "color": "white"
             }
            },
            "header": {
             "fill": {
              "color": "#C8D4E3"
             },
             "line": {
              "color": "white"
             }
            },
            "type": "table"
           }
          ]
         },
         "layout": {
          "annotationdefaults": {
           "arrowcolor": "#2a3f5f",
           "arrowhead": 0,
           "arrowwidth": 1
          },
          "autotypenumbers": "strict",
          "coloraxis": {
           "colorbar": {
            "outlinewidth": 0,
            "ticks": ""
           }
          },
          "colorscale": {
           "diverging": [
            [
             0,
             "#8e0152"
            ],
            [
             0.1,
             "#c51b7d"
            ],
            [
             0.2,
             "#de77ae"
            ],
            [
             0.3,
             "#f1b6da"
            ],
            [
             0.4,
             "#fde0ef"
            ],
            [
             0.5,
             "#f7f7f7"
            ],
            [
             0.6,
             "#e6f5d0"
            ],
            [
             0.7,
             "#b8e186"
            ],
            [
             0.8,
             "#7fbc41"
            ],
            [
             0.9,
             "#4d9221"
            ],
            [
             1,
             "#276419"
            ]
           ],
           "sequential": [
            [
             0,
             "#0d0887"
            ],
            [
             0.1111111111111111,
             "#46039f"
            ],
            [
             0.2222222222222222,
             "#7201a8"
            ],
            [
             0.3333333333333333,
             "#9c179e"
            ],
            [
             0.4444444444444444,
             "#bd3786"
            ],
            [
             0.5555555555555556,
             "#d8576b"
            ],
            [
             0.6666666666666666,
             "#ed7953"
            ],
            [
             0.7777777777777778,
             "#fb9f3a"
            ],
            [
             0.8888888888888888,
             "#fdca26"
            ],
            [
             1,
             "#f0f921"
            ]
           ],
           "sequentialminus": [
            [
             0,
             "#0d0887"
            ],
            [
             0.1111111111111111,
             "#46039f"
            ],
            [
             0.2222222222222222,
             "#7201a8"
            ],
            [
             0.3333333333333333,
             "#9c179e"
            ],
            [
             0.4444444444444444,
             "#bd3786"
            ],
            [
             0.5555555555555556,
             "#d8576b"
            ],
            [
             0.6666666666666666,
             "#ed7953"
            ],
            [
             0.7777777777777778,
             "#fb9f3a"
            ],
            [
             0.8888888888888888,
             "#fdca26"
            ],
            [
             1,
             "#f0f921"
            ]
           ]
          },
          "colorway": [
           "#636efa",
           "#EF553B",
           "#00cc96",
           "#ab63fa",
           "#FFA15A",
           "#19d3f3",
           "#FF6692",
           "#B6E880",
           "#FF97FF",
           "#FECB52"
          ],
          "font": {
           "color": "#2a3f5f"
          },
          "geo": {
           "bgcolor": "white",
           "lakecolor": "white",
           "landcolor": "#E5ECF6",
           "showlakes": true,
           "showland": true,
           "subunitcolor": "white"
          },
          "hoverlabel": {
           "align": "left"
          },
          "hovermode": "closest",
          "mapbox": {
           "style": "light"
          },
          "paper_bgcolor": "white",
          "plot_bgcolor": "#E5ECF6",
          "polar": {
           "angularaxis": {
            "gridcolor": "white",
            "linecolor": "white",
            "ticks": ""
           },
           "bgcolor": "#E5ECF6",
           "radialaxis": {
            "gridcolor": "white",
            "linecolor": "white",
            "ticks": ""
           }
          },
          "scene": {
           "xaxis": {
            "backgroundcolor": "#E5ECF6",
            "gridcolor": "white",
            "gridwidth": 2,
            "linecolor": "white",
            "showbackground": true,
            "ticks": "",
            "zerolinecolor": "white"
           },
           "yaxis": {
            "backgroundcolor": "#E5ECF6",
            "gridcolor": "white",
            "gridwidth": 2,
            "linecolor": "white",
            "showbackground": true,
            "ticks": "",
            "zerolinecolor": "white"
           },
           "zaxis": {
            "backgroundcolor": "#E5ECF6",
            "gridcolor": "white",
            "gridwidth": 2,
            "linecolor": "white",
            "showbackground": true,
            "ticks": "",
            "zerolinecolor": "white"
           }
          },
          "shapedefaults": {
           "line": {
            "color": "#2a3f5f"
           }
          },
          "ternary": {
           "aaxis": {
            "gridcolor": "white",
            "linecolor": "white",
            "ticks": ""
           },
           "baxis": {
            "gridcolor": "white",
            "linecolor": "white",
            "ticks": ""
           },
           "bgcolor": "#E5ECF6",
           "caxis": {
            "gridcolor": "white",
            "linecolor": "white",
            "ticks": ""
           }
          },
          "title": {
           "x": 0.05
          },
          "xaxis": {
           "automargin": true,
           "gridcolor": "white",
           "linecolor": "white",
           "ticks": "",
           "title": {
            "standoff": 15
           },
           "zerolinecolor": "white",
           "zerolinewidth": 2
          },
          "yaxis": {
           "automargin": true,
           "gridcolor": "white",
           "linecolor": "white",
           "ticks": "",
           "title": {
            "standoff": 15
           },
           "zerolinecolor": "white",
           "zerolinewidth": 2
          }
         }
        },
        "title": {
         "text": "GANTT Chart"
        },
        "xaxis": {
         "range": [
          "1970-01-01T00:00:00",
          "1970-01-02T02:43:18.404972"
         ],
         "title": {
          "font": {
           "color": "#7f7f7f",
           "family": "Courier New, monospace",
           "size": 18
          },
          "text": "Time"
         },
         "type": "date"
        },
        "yaxis": {
         "autorange": true,
         "range": [
          -1,
          1
         ],
         "title": {
          "font": {
           "color": "#7f7f7f",
           "family": "Courier New, monospace",
           "size": 18
          },
          "text": "Activities"
         },
         "type": "category"
        }
       }
      },
      "image/png": "[encoded data removed]",
      "text/html": [
       "<div>                            <div id=\"da1a439a-aef2-4210-a998-48585fa0f9a2\" class=\"plotly-graph-div\" style=\"height:525px; width:100%;\"></div>            <script type=\"text/javascript\">                require([\"plotly\"], function(Plotly) {                    window.PLOTLYENV=window.PLOTLYENV || {};                                    if (document.getElementById(\"da1a439a-aef2-4210-a998-48585fa0f9a2\")) {                    Plotly.newPlot(                        \"da1a439a-aef2-4210-a998-48585fa0f9a2\",                        [{\"connectgaps\":false,\"hoverinfo\":\"y+name\",\"line\":{\"color\":\"rgb(99,106,33)\",\"width\":10},\"mode\":\"lines\",\"name\":\"while\",\"x\":[\"1970-01-01T00:00:00\",\"1970-01-01T00:00:00\",\"1970-01-01T00:49:02.824591\",\"1970-01-01T00:49:02.824591\",\"1970-01-01T00:49:02.824591\",\"1970-01-01T00:49:02.824591\",\"1970-01-01T00:49:02.824591\",\"1970-01-01T01:53:48.473774\",\"1970-01-01T01:53:48.473774\",\"1970-01-01T01:53:48.473774\",\"1970-01-01T01:53:48.473774\",\"1970-01-01T01:53:48.473774\",\"1970-01-01T02:58:34.122956\",\"1970-01-01T02:58:34.122956\",\"1970-01-01T02:58:34.122956\",\"1970-01-01T02:58:34.122956\",\"1970-01-01T02:58:34.122956\",\"1970-01-01T04:03:19.772139\",\"1970-01-01T04:03:19.772139\",\"1970-01-01T04:03:19.772139\",\"1970-01-01T04:03:19.772139\",\"1970-01-01T04:03:19.772139\",\"1970-01-01T05:08:05.421321\",\"1970-01-01T05:08:05.421321\",\"1970-01-01T05:08:05.421321\",\"1970-01-01T05:08:05.421321\",\"1970-01-01T05:08:05.421321\",\"1970-01-01T06:12:51.070504\",\"1970-01-01T06:12:51.070504\",\"1970-01-01T06:12:51.070504\",\"1970-01-01T06:12:51.070504\",\"1970-01-01T06:12:51.070504\",\"1970-01-01T07:17:36.719687\",\"1970-01-01T07:17:36.719687\",\"1970-01-01T07:17:36.719687\",\"1970-01-01T07:17:36.719687\",\"1970-01-01T07:17:36.719687\",\"1970-01-01T08:22:22.368869\",\"1970-01-01T08:22:22.368869\",\"1970-01-01T08:22:22.368869\",\"1970-01-01T08:22:22.368869\",\"1970-01-01T08:22:22.368869\",\"1970-01-01T09:27:08.018052\",\"1970-01-01T09:27:08.018052\",\"1970-01-01T09:27:08.018052\",\"1970-01-01T09:27:08.018052\",\"1970-01-01T09:27:08.018052\",\"1970-01-01T10:31:53.667234\",\"1970-01-01T10:31:53.667234\",\"1970-01-01T10:31:53.667234\",\"1970-01-01T10:31:53.667234\",\"1970-01-01T10:31:53.667234\",\"1970-01-01T11:36:39.316417\",\"1970-01-01T11:36:39.316417\",\"1970-01-01T11:36:39.316417\",\"1970-01-01T11:36:39.316417\",\"1970-01-01T11:36:39.316417\",\"1970-01-01T12:41:24.965599\",\"1970-01-01T12:41:24.965599\",\"1970-01-01T12:41:24.965599\",\"1970-01-01T12:41:24.965599\",\"1970-01-01T12:41:24.965599\",\"1970-01-01T13:46:10.614782\",\"1970-01-01T13:46:10.614782\",\"1970-01-01T13:46:10.614782\",\"1970-01-01T13:46:10.614782\",\"1970-01-01T13:46:10.614782\",\"1970-01-01T14:50:56.263964\",\"1970-01-01T14:50:56.263964\",\"1970-01-01T14:50:56.263964\",\"1970-01-01T14:50:56.263964\",\"1970-01-01T14:50:56.263964\",\"1970-01-01T15:55:41.913147\",\"1970-01-01T15:55:41.913147\",\"1970-01-01T15:55:41.913147\",\"1970-01-01T15:55:41.913147\",\"1970-01-01T15:55:41.913147\",\"1970-01-01T17:00:27.562329\",\"1970-01-01T17:00:27.562329\",\"1970-01-01T17:00:27.562329\",\"1970-01-01T17:00:27.562329\",\"1970-01-01T17:00:27.562329\",\"1970-01-01T18:05:13.211512\",\"1970-01-01T18:05:13.211512\",\"1970-01-01T18:05:13.211512\",\"1970-01-01T18:05:13.211512\",\"1970-01-01T18:05:13.211512\",\"1970-01-01T19:09:58.860695\",\"1970-01-01T19:09:58.860695\",\"1970-01-01T19:09:58.860695\",\"1970-01-01T19:09:58.860695\",\"1970-01-01T19:09:58.860695\",\"1970-01-01T20:14:44.509877\",\"1970-01-01T20:14:44.509877\",\"1970-01-01T20:14:44.509877\",\"1970-01-01T20:14:44.509877\",\"1970-01-01T20:14:44.509877\",\"1970-01-01T21:19:30.159060\",\"1970-01-01T21:19:30.159060\",\"1970-01-01T21:19:30.159060\",\"1970-01-01T21:19:30.159060\",\"1970-01-01T21:19:30.159060\",\"1970-01-01T22:24:15.808242\",\"1970-01-01T22:24:15.808242\",\"1970-01-01T22:24:15.808242\",\"1970-01-01T22:24:15.808242\",\"1970-01-01T22:24:15.808242\",\"1970-01-01T23:29:01.457425\",\"1970-01-01T23:29:01.457425\",\"1970-01-01T23:29:01.457425\",\"1970-01-01T23:29:01.457425\",\"1970-01-01T23:29:01.457425\",\"1970-01-02T00:33:47.106607\",\"1970-01-02T00:33:47.106607\",\"1970-01-02T00:33:47.106607\",\"1970-01-02T00:33:47.106607\",\"1970-01-02T00:33:47.106607\",\"1970-01-02T01:38:32.755790\",\"1970-01-02T01:38:32.755790\",\"1970-01-02T01:38:32.755790\",\"1970-01-02T01:38:32.755790\",\"1970-01-02T01:38:32.755790\",\"1970-01-02T02:43:18.404972\",\"1970-01-02T02:43:18.404972\",\"1970-01-02T02:43:18.404972\",\"1970-01-02T01:38:32.755790\",\"1970-01-02T01:38:32.755790\",\"1970-01-02T02:43:18.404972\",\"1970-01-02T02:43:18.404972\",\"1970-01-02T02:43:18.404972\"],\"y\":[\"while\",\"while\",\"while\",\"while\",null,\"while\",\"while\",\"while\",\"while\",null,\"while\",\"while\",\"while\",\"while\",null,\"while\",\"while\",\"while\",\"while\",null,\"while\",\"while\",\"while\",\"while\",null,\"while\",\"while\",\"while\",\"while\",null,\"while\",\"while\",\"while\",\"while\",null,\"while\",\"while\",\"while\",\"while\",null,\"while\",\"while\",\"while\",\"while\",null,\"while\",\"while\",\"while\",\"while\",null,\"while\",\"while\",\"while\",\"while\",null,\"while\",\"while\",\"while\",\"while\",null,\"while\",\"while\",\"while\",\"while\",null,\"while\",\"while\",\"while\",\"while\",null,\"while\",\"while\",\"while\",\"while\",null,\"while\",\"while\",\"while\",\"while\",null,\"while\",\"while\",\"while\",\"while\",null,\"while\",\"while\",\"while\",\"while\",null,\"while\",\"while\",\"while\",\"while\",null,\"while\",\"while\",\"while\",\"while\",null,\"while\",\"while\",\"while\",\"while\",null,\"while\",\"while\",\"while\",\"while\",null,\"while\",\"while\",\"while\",\"while\",null,\"while\",\"while\",\"while\",\"while\",null,\"while\",\"while\",\"while\",\"while\",null,\"while\",\"while\",\"while\",\"while\",null],\"type\":\"scatter\"}],                        {\"hovermode\":\"closest\",\"legend\":{\"orientation\":\"h\",\"x\":0,\"y\":-0.2},\"template\":{\"data\":{\"barpolar\":[{\"marker\":{\"line\":{\"color\":\"#E5ECF6\",\"width\":0.5},\"pattern\":{\"fillmode\":\"overlay\",\"size\":10,\"solidity\":0.2}},\"type\":\"barpolar\"}],\"bar\":[{\"error_x\":{\"color\":\"#2a3f5f\"},\"error_y\":{\"color\":\"#2a3f5f\"},\"marker\":{\"line\":{\"color\":\"#E5ECF6\",\"width\":0.5},\"pattern\":{\"fillmode\":\"overlay\",\"size\":10,\"solidity\":0.2}},\"type\":\"bar\"}],\"carpet\":[{\"aaxis\":{\"endlinecolor\":\"#2a3f5f\",\"gridcolor\":\"white\",\"linecolor\":\"white\",\"minorgridcolor\":\"white\",\"startlinecolor\":\"#2a3f5f\"},\"baxis\":{\"endlinecolor\":\"#2a3f5f\",\"gridcolor\":\"white\",\"linecolor\":\"white\",\"minorgridcolor\":\"white\",\"startlinecolor\":\"#2a3f5f\"},\"type\":\"carpet\"}],\"choropleth\":[{\"colorbar\":{\"outlinewidth\":0,\"ticks\":\"\"},\"type\":\"choropleth\"}],\"contourcarpet\":[{\"colorbar\":{\"outlinewidth\":0,\"ticks\":\"\"},\"type\":\"contourcarpet\"}],\"contour\":[{\"colorbar\":{\"outlinewidth\":0,\"ticks\":\"\"},\"colorscale\":[[0.0,\"#0d0887\"],[0.1111111111111111,\"#46039f\"],[0.2222222222222222,\"#7201a8\"],[0.3333333333333333,\"#9c179e\"],[0.4444444444444444,\"#bd3786\"],[0.5555555555555556,\"#d8576b\"],[0.6666666666666666,\"#ed7953\"],[0.7777777777777778,\"#fb9f3a\"],[0.8888888888888888,\"#fdca26\"],[1.0,\"#f0f921\"]],\"type\":\"contour\"}],\"heatmapgl\":[{\"colorbar\":{\"outlinewidth\":0,\"ticks\":\"\"},\"colorscale\":[[0.0,\"#0d0887\"],[0.1111111111111111,\"#46039f\"],[0.2222222222222222,\"#7201a8\"],[0.3333333333333333,\"#9c179e\"],[0.4444444444444444,\"#bd3786\"],[0.5555555555555556,\"#d8576b\"],[0.6666666666666666,\"#ed7953\"],[0.7777777777777778,\"#fb9f3a\"],[0.8888888888888888,\"#fdca26\"],[1.0,\"#f0f921\"]],\"type\":\"heatmapgl\"}],\"heatmap\":[{\"colorbar\":{\"outlinewidth\":0,\"ticks\":\"\"},\"colorscale\":[[0.0,\"#0d0887\"],[0.1111111111111111,\"#46039f\"],[0.2222222222222222,\"#7201a8\"],[0.3333333333333333,\"#9c179e\"],[0.4444444444444444,\"#bd3786\"],[0.5555555555555556,\"#d8576b\"],[0.6666666666666666,\"#ed7953\"],[0.7777777777777778,\"#fb9f3a\"],[0.8888888888888888,\"#fdca26\"],[1.0,\"#f0f921\"]],\"type\":\"heatmap\"}],\"histogram2dcontour\":[{\"colorbar\":{\"outlinewidth\":0,\"ticks\":\"\"},\"colorscale\":[[0.0,\"#0d0887\"],[0.1111111111111111,\"#46039f\"],[0.2222222222222222,\"#7201a8\"],[0.3333333333333333,\"#9c179e\"],[0.4444444444444444,\"#bd3786\"],[0.5555555555555556,\"#d8576b\"],[0.6666666666666666,\"#ed7953\"],[0.7777777777777778,\"#fb9f3a\"],[0.8888888888888888,\"#fdca26\"],[1.0,\"#f0f921\"]],\"type\":\"histogram2dcontour\"}],\"histogram2d\":[{\"colorbar\":{\"outlinewidth\":0,\"ticks\":\"\"},\"colorscale\":[[0.0,\"#0d0887\"],[0.1111111111111111,\"#46039f\"],[0.2222222222222222,\"#7201a8\"],[0.3333333333333333,\"#9c179e\"],[0.4444444444444444,\"#bd3786\"],[0.5555555555555556,\"#d8576b\"],[0.6666666666666666,\"#ed7953\"],[0.7777777777777778,\"#fb9f3a\"],[0.8888888888888888,\"#fdca26\"],[1.0,\"#f0f921\"]],\"type\":\"histogram2d\"}],\"histogram\":[{\"marker\":{\"pattern\":{\"fillmode\":\"overlay\",\"size\":10,\"solidity\":0.2}},\"type\":\"histogram\"}],\"mesh3d\":[{\"colorbar\":{\"outlinewidth\":0,\"ticks\":\"\"},\"type\":\"mesh3d\"}],\"parcoords\":[{\"line\":{\"colorbar\":{\"outlinewidth\":0,\"ticks\":\"\"}},\"type\":\"parcoords\"}],\"pie\":[{\"automargin\":true,\"type\":\"pie\"}],\"scatter3d\":[{\"line\":{\"colorbar\":{\"outlinewidth\":0,\"ticks\":\"\"}},\"marker\":{\"colorbar\":{\"outlinewidth\":0,\"ticks\":\"\"}},\"type\":\"scatter3d\"}],\"scattercarpet\":[{\"marker\":{\"colorbar\":{\"outlinewidth\":0,\"ticks\":\"\"}},\"type\":\"scattercarpet\"}],\"scattergeo\":[{\"marker\":{\"colorbar\":{\"outlinewidth\":0,\"ticks\":\"\"}},\"type\":\"scattergeo\"}],\"scattergl\":[{\"marker\":{\"colorbar\":{\"outlinewidth\":0,\"ticks\":\"\"}},\"type\":\"scattergl\"}],\"scattermapbox\":[{\"marker\":{\"colorbar\":{\"outlinewidth\":0,\"ticks\":\"\"}},\"type\":\"scattermapbox\"}],\"scatterpolargl\":[{\"marker\":{\"colorbar\":{\"outlinewidth\":0,\"ticks\":\"\"}},\"type\":\"scatterpolargl\"}],\"scatterpolar\":[{\"marker\":{\"colorbar\":{\"outlinewidth\":0,\"ticks\":\"\"}},\"type\":\"scatterpolar\"}],\"scatter\":[{\"fillpattern\":{\"fillmode\":\"overlay\",\"size\":10,\"solidity\":0.2},\"type\":\"scatter\"}],\"scatterternary\":[{\"marker\":{\"colorbar\":{\"outlinewidth\":0,\"ticks\":\"\"}},\"type\":\"scatterternary\"}],\"surface\":[{\"colorbar\":{\"outlinewidth\":0,\"ticks\":\"\"},\"colorscale\":[[0.0,\"#0d0887\"],[0.1111111111111111,\"#46039f\"],[0.2222222222222222,\"#7201a8\"],[0.3333333333333333,\"#9c179e\"],[0.4444444444444444,\"#bd3786\"],[0.5555555555555556,\"#d8576b\"],[0.6666666666666666,\"#ed7953\"],[0.7777777777777778,\"#fb9f3a\"],[0.8888888888888888,\"#fdca26\"],[1.0,\"#f0f921\"]],\"type\":\"surface\"}],\"table\":[{\"cells\":{\"fill\":{\"color\":\"#EBF0F8\"},\"line\":{\"color\":\"white\"}},\"header\":{\"fill\":{\"color\":\"#C8D4E3\"},\"line\":{\"color\":\"white\"}},\"type\":\"table\"}]},\"layout\":{\"annotationdefaults\":{\"arrowcolor\":\"#2a3f5f\",\"arrowhead\":0,\"arrowwidth\":1},\"autotypenumbers\":\"strict\",\"coloraxis\":{\"colorbar\":{\"outlinewidth\":0,\"ticks\":\"\"}},\"colorscale\":{\"diverging\":[[0,\"#8e0152\"],[0.1,\"#c51b7d\"],[0.2,\"#de77ae\"],[0.3,\"#f1b6da\"],[0.4,\"#fde0ef\"],[0.5,\"#f7f7f7\"],[0.6,\"#e6f5d0\"],[0.7,\"#b8e186\"],[0.8,\"#7fbc41\"],[0.9,\"#4d9221\"],[1,\"#276419\"]],\"sequential\":[[0.0,\"#0d0887\"],[0.1111111111111111,\"#46039f\"],[0.2222222222222222,\"#7201a8\"],[0.3333333333333333,\"#9c179e\"],[0.4444444444444444,\"#bd3786\"],[0.5555555555555556,\"#d8576b\"],[0.6666666666666666,\"#ed7953\"],[0.7777777777777778,\"#fb9f3a\"],[0.8888888888888888,\"#fdca26\"],[1.0,\"#f0f921\"]],\"sequentialminus\":[[0.0,\"#0d0887\"],[0.1111111111111111,\"#46039f\"],[0.2222222222222222,\"#7201a8\"],[0.3333333333333333,\"#9c179e\"],[0.4444444444444444,\"#bd3786\"],[0.5555555555555556,\"#d8576b\"],[0.6666666666666666,\"#ed7953\"],[0.7777777777777778,\"#fb9f3a\"],[0.8888888888888888,\"#fdca26\"],[1.0,\"#f0f921\"]]},\"colorway\":[\"#636efa\",\"#EF553B\",\"#00cc96\",\"#ab63fa\",\"#FFA15A\",\"#19d3f3\",\"#FF6692\",\"#B6E880\",\"#FF97FF\",\"#FECB52\"],\"font\":{\"color\":\"#2a3f5f\"},\"geo\":{\"bgcolor\":\"white\",\"lakecolor\":\"white\",\"landcolor\":\"#E5ECF6\",\"showlakes\":true,\"showland\":true,\"subunitcolor\":\"white\"},\"hoverlabel\":{\"align\":\"left\"},\"hovermode\":\"closest\",\"mapbox\":{\"style\":\"light\"},\"paper_bgcolor\":\"white\",\"plot_bgcolor\":\"#E5ECF6\",\"polar\":{\"angularaxis\":{\"gridcolor\":\"white\",\"linecolor\":\"white\",\"ticks\":\"\"},\"bgcolor\":\"#E5ECF6\",\"radialaxis\":{\"gridcolor\":\"white\",\"linecolor\":\"white\",\"ticks\":\"\"}},\"scene\":{\"xaxis\":{\"backgroundcolor\":\"#E5ECF6\",\"gridcolor\":\"white\",\"gridwidth\":2,\"linecolor\":\"white\",\"showbackground\":true,\"ticks\":\"\",\"zerolinecolor\":\"white\"},\"yaxis\":{\"backgroundcolor\":\"#E5ECF6\",\"gridcolor\":\"white\",\"gridwidth\":2,\"linecolor\":\"white\",\"showbackground\":true,\"ticks\":\"\",\"zerolinecolor\":\"white\"},\"zaxis\":{\"backgroundcolor\":\"#E5ECF6\",\"gridcolor\":\"white\",\"gridwidth\":2,\"linecolor\":\"white\",\"showbackground\":true,\"ticks\":\"\",\"zerolinecolor\":\"white\"}},\"shapedefaults\":{\"line\":{\"color\":\"#2a3f5f\"}},\"ternary\":{\"aaxis\":{\"gridcolor\":\"white\",\"linecolor\":\"white\",\"ticks\":\"\"},\"baxis\":{\"gridcolor\":\"white\",\"linecolor\":\"white\",\"ticks\":\"\"},\"bgcolor\":\"#E5ECF6\",\"caxis\":{\"gridcolor\":\"white\",\"linecolor\":\"white\",\"ticks\":\"\"}},\"title\":{\"x\":0.05},\"xaxis\":{\"automargin\":true,\"gridcolor\":\"white\",\"linecolor\":\"white\",\"ticks\":\"\",\"title\":{\"standoff\":15},\"zerolinecolor\":\"white\",\"zerolinewidth\":2},\"yaxis\":{\"automargin\":true,\"gridcolor\":\"white\",\"linecolor\":\"white\",\"ticks\":\"\",\"title\":{\"standoff\":15},\"zerolinecolor\":\"white\",\"zerolinewidth\":2}}},\"title\":{\"text\":\"GANTT Chart\"},\"xaxis\":{\"range\":[\"1970-01-01T00:00:00\",\"1970-01-02T02:43:18.404972\"],\"title\":{\"font\":{\"color\":\"#7f7f7f\",\"family\":\"Courier New, monospace\",\"size\":18},\"text\":\"Time\"}},\"yaxis\":{\"title\":{\"font\":{\"color\":\"#7f7f7f\",\"family\":\"Courier New, monospace\",\"size\":18},\"text\":\"Activities\"}}},                        {\"responsive\": true}                    ).then(function(){\n",
       "                            \n",
       "var gd = document.getElementById('da1a439a-aef2-4210-a998-48585fa0f9a2');\n",
       "var x = new MutationObserver(function (mutations, observer) {{\n",
       "        var display = window.getComputedStyle(gd).display;\n",
       "        if (!display || display === 'none') {{\n",
       "            console.log([gd, 'removed!']);\n",
       "            Plotly.purge(gd);\n",
       "            observer.disconnect();\n",
       "        }}\n",
       "}});\n",
       "\n",
       "// Listen for the removal of the full notebook cells\n",
       "var notebookContainer = gd.closest('#notebook-container');\n",
       "if (notebookContainer) {{\n",
       "    x.observe(notebookContainer, {childList: true});\n",
       "}}\n",
       "\n",
       "// Listen for the clearing of the current output cell\n",
       "var outputEl = gd.closest('.output');\n",
       "if (outputEl) {{\n",
       "    x.observe(outputEl, {childList: true});\n",
       "}}\n",
       "\n",
       "                        })                };                });            </script>        </div>"
      ]
     },
     "metadata": {},
     "output_type": "display_data"
    }
   ],
   "source": [
    "plot.get_gantt_chart([while_activity])"
   ]
  },
  {
   "cell_type": "code",
   "execution_count": 11,
   "metadata": {},
   "outputs": [
    {
     "data": {
      "text/html": [
       "        <script type=\"text/javascript\">\n",
       "        window.PlotlyConfig = {MathJaxConfig: 'local'};\n",
       "        if (window.MathJax && window.MathJax.Hub && window.MathJax.Hub.Config) {window.MathJax.Hub.Config({SVG: {font: \"STIX-Web\"}});}\n",
       "        if (typeof require !== 'undefined') {\n",
       "        require.undef(\"plotly\");\n",
       "        requirejs.config({\n",
       "            paths: {\n",
       "                'plotly': ['https://cdn.plot.ly/plotly-2.12.1.min']\n",
       "            }\n",
       "        });\n",
       "        require(['plotly'], function(Plotly) {\n",
       "            window._Plotly = Plotly;\n",
       "        });\n",
       "        }\n",
       "        </script>\n",
       "        "
      ]
     },
     "metadata": {},
     "output_type": "display_data"
    },
    {
     "data": {
      "application/vnd.plotly.v1+json": {
       "config": {
        "linkText": "Export to plot.ly",
        "plotlyServerURL": "https://plot.ly",
        "showLink": false
       },
       "data": [
        {
         "connectgaps": false,
         "hoverinfo": "y+name",
         "line": {
          "color": "rgb(152,229,50)",
          "width": 10
         },
         "mode": "lines",
         "name": "basic activity",
         "type": "scatter",
         "x": [
          "1970-01-01T00:49:02.824591",
          "1970-01-01T00:49:02.824591",
          "1970-01-01T00:49:02.824591",
          "1970-01-01T00:49:02.824591",
          "1970-01-01T00:49:02.824591",
          "1970-01-01T01:53:48.473774",
          "1970-01-01T01:53:48.473774",
          "1970-01-01T01:53:48.473774",
          "1970-01-01T01:53:48.473774",
          "1970-01-01T01:53:48.473774",
          "1970-01-01T02:58:34.122956",
          "1970-01-01T02:58:34.122956",
          "1970-01-01T02:58:34.122956",
          "1970-01-01T02:58:34.122956",
          "1970-01-01T02:58:34.122956",
          "1970-01-01T02:58:34.122956",
          "1970-01-01T02:58:34.122956",
          "1970-01-01T04:03:19.772139",
          "1970-01-01T04:03:19.772139",
          "1970-01-01T04:03:19.772139",
          "1970-01-01T05:08:05.421321",
          "1970-01-01T05:08:05.421321",
          "1970-01-01T05:08:05.421321",
          "1970-01-01T05:08:05.421321",
          "1970-01-01T05:08:05.421321",
          "1970-01-01T06:12:51.070504",
          "1970-01-01T06:12:51.070504",
          "1970-01-01T06:12:51.070504",
          "1970-01-01T06:12:51.070504",
          "1970-01-01T06:12:51.070504",
          "1970-01-01T07:17:36.719687",
          "1970-01-01T07:17:36.719687",
          "1970-01-01T07:17:36.719687",
          "1970-01-01T07:17:36.719687",
          "1970-01-01T07:17:36.719687",
          "1970-01-01T08:22:22.368869",
          "1970-01-01T08:22:22.368869",
          "1970-01-01T08:22:22.368869",
          "1970-01-01T08:22:22.368869",
          "1970-01-01T08:22:22.368869",
          "1970-01-01T09:27:08.018052",
          "1970-01-01T09:27:08.018052",
          "1970-01-01T09:27:08.018052",
          "1970-01-01T09:27:08.018052",
          "1970-01-01T09:27:08.018052",
          "1970-01-01T09:27:08.018052",
          "1970-01-01T09:27:08.018052",
          "1970-01-01T10:31:53.667234",
          "1970-01-01T10:31:53.667234",
          "1970-01-01T10:31:53.667234",
          "1970-01-01T11:36:39.316417",
          "1970-01-01T11:36:39.316417",
          "1970-01-01T11:36:39.316417",
          "1970-01-01T11:36:39.316417",
          "1970-01-01T11:36:39.316417",
          "1970-01-01T12:41:24.965599",
          "1970-01-01T12:41:24.965599",
          "1970-01-01T12:41:24.965599",
          "1970-01-01T12:41:24.965599",
          "1970-01-01T12:41:24.965599",
          "1970-01-01T13:46:10.614782",
          "1970-01-01T13:46:10.614782",
          "1970-01-01T13:46:10.614782",
          "1970-01-01T13:46:10.614782",
          "1970-01-01T13:46:10.614782",
          "1970-01-01T14:50:56.263964",
          "1970-01-01T14:50:56.263964",
          "1970-01-01T14:50:56.263964",
          "1970-01-01T14:50:56.263964",
          "1970-01-01T14:50:56.263964",
          "1970-01-01T15:55:41.913147",
          "1970-01-01T15:55:41.913147",
          "1970-01-01T15:55:41.913147",
          "1970-01-01T15:55:41.913147",
          "1970-01-01T15:55:41.913147",
          "1970-01-01T17:00:27.562329",
          "1970-01-01T17:00:27.562329",
          "1970-01-01T17:00:27.562329",
          "1970-01-01T17:00:27.562329",
          "1970-01-01T17:00:27.562329",
          "1970-01-01T18:05:13.211512",
          "1970-01-01T18:05:13.211512",
          "1970-01-01T18:05:13.211512",
          "1970-01-01T18:05:13.211512",
          "1970-01-01T18:05:13.211512",
          "1970-01-01T19:09:58.860695",
          "1970-01-01T19:09:58.860695",
          "1970-01-01T19:09:58.860695",
          "1970-01-01T19:09:58.860695",
          "1970-01-01T19:09:58.860695",
          "1970-01-01T20:14:44.509877",
          "1970-01-01T20:14:44.509877",
          "1970-01-01T20:14:44.509877",
          "1970-01-01T20:14:44.509877",
          "1970-01-01T20:14:44.509877",
          "1970-01-01T21:19:30.159060",
          "1970-01-01T21:19:30.159060",
          "1970-01-01T21:19:30.159060",
          "1970-01-01T21:19:30.159060",
          "1970-01-01T21:19:30.159060",
          "1970-01-01T22:24:15.808242",
          "1970-01-01T22:24:15.808242",
          "1970-01-01T22:24:15.808242",
          "1970-01-01T22:24:15.808242",
          "1970-01-01T22:24:15.808242",
          "1970-01-01T23:29:01.457425",
          "1970-01-01T23:29:01.457425",
          "1970-01-01T23:29:01.457425",
          "1970-01-01T23:29:01.457425",
          "1970-01-01T23:29:01.457425",
          "1970-01-01T23:29:01.457425",
          "1970-01-01T23:29:01.457425",
          "1970-01-02T00:33:47.106607",
          "1970-01-02T00:33:47.106607",
          "1970-01-02T00:33:47.106607",
          "1970-01-02T01:38:32.755790",
          "1970-01-02T01:38:32.755790",
          "1970-01-02T01:38:32.755790",
          "1970-01-02T01:38:32.755790",
          "1970-01-02T01:38:32.755790",
          "1970-01-02T02:43:18.404972",
          "1970-01-02T02:43:18.404972",
          "1970-01-02T02:43:18.404972",
          "1970-01-02T02:43:18.404972",
          "1970-01-02T02:43:18.404972"
         ],
         "y": [
          "vessel01",
          "vessel01",
          "vessel01",
          "vessel01",
          null,
          "vessel01",
          "vessel01",
          "vessel01",
          "vessel01",
          null,
          "vessel01",
          "vessel01",
          "vessel01",
          "vessel01",
          null,
          "vessel01",
          "vessel01",
          "vessel01",
          "vessel01",
          null,
          "vessel01",
          "vessel01",
          "vessel01",
          "vessel01",
          null,
          "vessel01",
          "vessel01",
          "vessel01",
          "vessel01",
          null,
          "vessel01",
          "vessel01",
          "vessel01",
          "vessel01",
          null,
          "vessel01",
          "vessel01",
          "vessel01",
          "vessel01",
          null,
          "vessel01",
          "vessel01",
          "vessel01",
          "vessel01",
          null,
          "vessel01",
          "vessel01",
          "vessel01",
          "vessel01",
          null,
          "vessel01",
          "vessel01",
          "vessel01",
          "vessel01",
          null,
          "vessel01",
          "vessel01",
          "vessel01",
          "vessel01",
          null,
          "vessel01",
          "vessel01",
          "vessel01",
          "vessel01",
          null,
          "vessel01",
          "vessel01",
          "vessel01",
          "vessel01",
          null,
          "vessel01",
          "vessel01",
          "vessel01",
          "vessel01",
          null,
          "vessel01",
          "vessel01",
          "vessel01",
          "vessel01",
          null,
          "vessel01",
          "vessel01",
          "vessel01",
          "vessel01",
          null,
          "vessel01",
          "vessel01",
          "vessel01",
          "vessel01",
          null,
          "vessel01",
          "vessel01",
          "vessel01",
          "vessel01",
          null,
          "vessel01",
          "vessel01",
          "vessel01",
          "vessel01",
          null,
          "vessel01",
          "vessel01",
          "vessel01",
          "vessel01",
          null,
          "vessel01",
          "vessel01",
          "vessel01",
          "vessel01",
          null,
          "vessel01",
          "vessel01",
          "vessel01",
          "vessel01",
          null,
          "vessel01",
          "vessel01",
          "vessel01",
          "vessel01",
          null,
          "vessel01",
          "vessel01",
          "vessel01",
          "vessel01",
          null
         ]
        },
        {
         "connectgaps": false,
         "hoverinfo": "y+name",
         "line": {
          "color": "rgb(188,9,86)",
          "width": 10
         },
         "mode": "lines",
         "name": "sailing full",
         "type": "scatter",
         "x": [
          "1970-01-01T00:16:40",
          "1970-01-01T00:16:40",
          "1970-01-01T00:32:22.824591",
          "1970-01-01T00:32:22.824591",
          "1970-01-01T00:32:22.824591",
          "1970-01-01T01:21:25.649183",
          "1970-01-01T01:21:25.649183",
          "1970-01-01T01:37:08.473774",
          "1970-01-01T01:37:08.473774",
          "1970-01-01T01:37:08.473774",
          "1970-01-01T02:26:11.298365",
          "1970-01-01T02:26:11.298365",
          "1970-01-01T02:41:54.122956",
          "1970-01-01T02:41:54.122956",
          "1970-01-01T02:41:54.122956",
          "1970-01-01T03:30:56.947548",
          "1970-01-01T03:30:56.947548",
          "1970-01-01T03:46:39.772139",
          "1970-01-01T03:46:39.772139",
          "1970-01-01T03:46:39.772139",
          "1970-01-01T04:35:42.596730",
          "1970-01-01T04:35:42.596730",
          "1970-01-01T04:51:25.421321",
          "1970-01-01T04:51:25.421321",
          "1970-01-01T04:51:25.421321",
          "1970-01-01T05:40:28.245913",
          "1970-01-01T05:40:28.245913",
          "1970-01-01T05:56:11.070504",
          "1970-01-01T05:56:11.070504",
          "1970-01-01T05:56:11.070504",
          "1970-01-01T06:45:13.895095",
          "1970-01-01T06:45:13.895095",
          "1970-01-01T07:00:56.719687",
          "1970-01-01T07:00:56.719687",
          "1970-01-01T07:00:56.719687",
          "1970-01-01T07:49:59.544278",
          "1970-01-01T07:49:59.544278",
          "1970-01-01T08:05:42.368869",
          "1970-01-01T08:05:42.368869",
          "1970-01-01T08:05:42.368869",
          "1970-01-01T08:54:45.193460",
          "1970-01-01T08:54:45.193460",
          "1970-01-01T09:10:28.018052",
          "1970-01-01T09:10:28.018052",
          "1970-01-01T09:10:28.018052",
          "1970-01-01T09:59:30.842643",
          "1970-01-01T09:59:30.842643",
          "1970-01-01T10:15:13.667234",
          "1970-01-01T10:15:13.667234",
          "1970-01-01T10:15:13.667234",
          "1970-01-01T11:04:16.491825",
          "1970-01-01T11:04:16.491825",
          "1970-01-01T11:19:59.316417",
          "1970-01-01T11:19:59.316417",
          "1970-01-01T11:19:59.316417",
          "1970-01-01T12:09:02.141008",
          "1970-01-01T12:09:02.141008",
          "1970-01-01T12:24:44.965599",
          "1970-01-01T12:24:44.965599",
          "1970-01-01T12:24:44.965599",
          "1970-01-01T13:13:47.790191",
          "1970-01-01T13:13:47.790191",
          "1970-01-01T13:29:30.614782",
          "1970-01-01T13:29:30.614782",
          "1970-01-01T13:29:30.614782",
          "1970-01-01T14:18:33.439373",
          "1970-01-01T14:18:33.439373",
          "1970-01-01T14:34:16.263964",
          "1970-01-01T14:34:16.263964",
          "1970-01-01T14:34:16.263964",
          "1970-01-01T15:23:19.088556",
          "1970-01-01T15:23:19.088556",
          "1970-01-01T15:39:01.913147",
          "1970-01-01T15:39:01.913147",
          "1970-01-01T15:39:01.913147",
          "1970-01-01T16:28:04.737738",
          "1970-01-01T16:28:04.737738",
          "1970-01-01T16:43:47.562329",
          "1970-01-01T16:43:47.562329",
          "1970-01-01T16:43:47.562329",
          "1970-01-01T17:32:50.386921",
          "1970-01-01T17:32:50.386921",
          "1970-01-01T17:48:33.211512",
          "1970-01-01T17:48:33.211512",
          "1970-01-01T17:48:33.211512",
          "1970-01-01T18:37:36.036103",
          "1970-01-01T18:37:36.036103",
          "1970-01-01T18:53:18.860695",
          "1970-01-01T18:53:18.860695",
          "1970-01-01T18:53:18.860695",
          "1970-01-01T19:42:21.685286",
          "1970-01-01T19:42:21.685286",
          "1970-01-01T19:58:04.509877",
          "1970-01-01T19:58:04.509877",
          "1970-01-01T19:58:04.509877",
          "1970-01-01T20:47:07.334468",
          "1970-01-01T20:47:07.334468",
          "1970-01-01T21:02:50.159060",
          "1970-01-01T21:02:50.159060",
          "1970-01-01T21:02:50.159060",
          "1970-01-01T21:51:52.983651",
          "1970-01-01T21:51:52.983651",
          "1970-01-01T22:07:35.808242",
          "1970-01-01T22:07:35.808242",
          "1970-01-01T22:07:35.808242",
          "1970-01-01T22:56:38.632833",
          "1970-01-01T22:56:38.632833",
          "1970-01-01T23:12:21.457425",
          "1970-01-01T23:12:21.457425",
          "1970-01-01T23:12:21.457425",
          "1970-01-02T00:01:24.282016",
          "1970-01-02T00:01:24.282016",
          "1970-01-02T00:17:07.106607",
          "1970-01-02T00:17:07.106607",
          "1970-01-02T00:17:07.106607",
          "1970-01-02T01:06:09.931199",
          "1970-01-02T01:06:09.931199",
          "1970-01-02T01:21:52.755790",
          "1970-01-02T01:21:52.755790",
          "1970-01-02T01:21:52.755790",
          "1970-01-02T02:10:55.580381",
          "1970-01-02T02:10:55.580381",
          "1970-01-02T02:26:38.404972",
          "1970-01-02T02:26:38.404972",
          "1970-01-02T02:26:38.404972"
         ],
         "y": [
          "vessel01",
          "vessel01",
          "vessel01",
          "vessel01",
          null,
          "vessel01",
          "vessel01",
          "vessel01",
          "vessel01",
          null,
          "vessel01",
          "vessel01",
          "vessel01",
          "vessel01",
          null,
          "vessel01",
          "vessel01",
          "vessel01",
          "vessel01",
          null,
          "vessel01",
          "vessel01",
          "vessel01",
          "vessel01",
          null,
          "vessel01",
          "vessel01",
          "vessel01",
          "vessel01",
          null,
          "vessel01",
          "vessel01",
          "vessel01",
          "vessel01",
          null,
          "vessel01",
          "vessel01",
          "vessel01",
          "vessel01",
          null,
          "vessel01",
          "vessel01",
          "vessel01",
          "vessel01",
          null,
          "vessel01",
          "vessel01",
          "vessel01",
          "vessel01",
          null,
          "vessel01",
          "vessel01",
          "vessel01",
          "vessel01",
          null,
          "vessel01",
          "vessel01",
          "vessel01",
          "vessel01",
          null,
          "vessel01",
          "vessel01",
          "vessel01",
          "vessel01",
          null,
          "vessel01",
          "vessel01",
          "vessel01",
          "vessel01",
          null,
          "vessel01",
          "vessel01",
          "vessel01",
          "vessel01",
          null,
          "vessel01",
          "vessel01",
          "vessel01",
          "vessel01",
          null,
          "vessel01",
          "vessel01",
          "vessel01",
          "vessel01",
          null,
          "vessel01",
          "vessel01",
          "vessel01",
          "vessel01",
          null,
          "vessel01",
          "vessel01",
          "vessel01",
          "vessel01",
          null,
          "vessel01",
          "vessel01",
          "vessel01",
          "vessel01",
          null,
          "vessel01",
          "vessel01",
          "vessel01",
          "vessel01",
          null,
          "vessel01",
          "vessel01",
          "vessel01",
          "vessel01",
          null,
          "vessel01",
          "vessel01",
          "vessel01",
          "vessel01",
          null,
          "vessel01",
          "vessel01",
          "vessel01",
          "vessel01",
          null,
          "vessel01",
          "vessel01",
          "vessel01",
          "vessel01",
          null
         ]
        },
        {
         "connectgaps": false,
         "hoverinfo": "y+name",
         "line": {
          "color": "rgb(224,45,122)",
          "width": 10
         },
         "mode": "lines",
         "name": "sailing empty",
         "type": "scatter",
         "x": [
          "1970-01-01T00:00:00",
          "1970-01-01T00:00:00",
          "1970-01-01T00:00:00",
          "1970-01-01T00:00:00",
          "1970-01-01T00:00:00",
          "1970-01-01T00:49:02.824591",
          "1970-01-01T00:49:02.824591",
          "1970-01-01T01:04:45.649183",
          "1970-01-01T01:04:45.649183",
          "1970-01-01T01:04:45.649183",
          "1970-01-01T01:53:48.473774",
          "1970-01-01T01:53:48.473774",
          "1970-01-01T02:09:31.298365",
          "1970-01-01T02:09:31.298365",
          "1970-01-01T02:09:31.298365",
          "1970-01-01T02:58:34.122956",
          "1970-01-01T02:58:34.122956",
          "1970-01-01T03:14:16.947548",
          "1970-01-01T03:14:16.947548",
          "1970-01-01T03:14:16.947548",
          "1970-01-01T04:03:19.772139",
          "1970-01-01T04:03:19.772139",
          "1970-01-01T04:19:02.596730",
          "1970-01-01T04:19:02.596730",
          "1970-01-01T04:19:02.596730",
          "1970-01-01T05:08:05.421321",
          "1970-01-01T05:08:05.421321",
          "1970-01-01T05:23:48.245913",
          "1970-01-01T05:23:48.245913",
          "1970-01-01T05:23:48.245913",
          "1970-01-01T06:12:51.070504",
          "1970-01-01T06:12:51.070504",
          "1970-01-01T06:28:33.895095",
          "1970-01-01T06:28:33.895095",
          "1970-01-01T06:28:33.895095",
          "1970-01-01T07:17:36.719687",
          "1970-01-01T07:17:36.719687",
          "1970-01-01T07:33:19.544278",
          "1970-01-01T07:33:19.544278",
          "1970-01-01T07:33:19.544278",
          "1970-01-01T08:22:22.368869",
          "1970-01-01T08:22:22.368869",
          "1970-01-01T08:38:05.193460",
          "1970-01-01T08:38:05.193460",
          "1970-01-01T08:38:05.193460",
          "1970-01-01T09:27:08.018052",
          "1970-01-01T09:27:08.018052",
          "1970-01-01T09:42:50.842643",
          "1970-01-01T09:42:50.842643",
          "1970-01-01T09:42:50.842643",
          "1970-01-01T10:31:53.667234",
          "1970-01-01T10:31:53.667234",
          "1970-01-01T10:47:36.491825",
          "1970-01-01T10:47:36.491825",
          "1970-01-01T10:47:36.491825",
          "1970-01-01T11:36:39.316417",
          "1970-01-01T11:36:39.316417",
          "1970-01-01T11:52:22.141008",
          "1970-01-01T11:52:22.141008",
          "1970-01-01T11:52:22.141008",
          "1970-01-01T12:41:24.965599",
          "1970-01-01T12:41:24.965599",
          "1970-01-01T12:57:07.790191",
          "1970-01-01T12:57:07.790191",
          "1970-01-01T12:57:07.790191",
          "1970-01-01T13:46:10.614782",
          "1970-01-01T13:46:10.614782",
          "1970-01-01T14:01:53.439373",
          "1970-01-01T14:01:53.439373",
          "1970-01-01T14:01:53.439373",
          "1970-01-01T14:50:56.263964",
          "1970-01-01T14:50:56.263964",
          "1970-01-01T15:06:39.088556",
          "1970-01-01T15:06:39.088556",
          "1970-01-01T15:06:39.088556",
          "1970-01-01T15:55:41.913147",
          "1970-01-01T15:55:41.913147",
          "1970-01-01T16:11:24.737738",
          "1970-01-01T16:11:24.737738",
          "1970-01-01T16:11:24.737738",
          "1970-01-01T17:00:27.562329",
          "1970-01-01T17:00:27.562329",
          "1970-01-01T17:16:10.386921",
          "1970-01-01T17:16:10.386921",
          "1970-01-01T17:16:10.386921",
          "1970-01-01T18:05:13.211512",
          "1970-01-01T18:05:13.211512",
          "1970-01-01T18:20:56.036103",
          "1970-01-01T18:20:56.036103",
          "1970-01-01T18:20:56.036103",
          "1970-01-01T19:09:58.860695",
          "1970-01-01T19:09:58.860695",
          "1970-01-01T19:25:41.685286",
          "1970-01-01T19:25:41.685286",
          "1970-01-01T19:25:41.685286",
          "1970-01-01T20:14:44.509877",
          "1970-01-01T20:14:44.509877",
          "1970-01-01T20:30:27.334468",
          "1970-01-01T20:30:27.334468",
          "1970-01-01T20:30:27.334468",
          "1970-01-01T21:19:30.159060",
          "1970-01-01T21:19:30.159060",
          "1970-01-01T21:35:12.983651",
          "1970-01-01T21:35:12.983651",
          "1970-01-01T21:35:12.983651",
          "1970-01-01T22:24:15.808242",
          "1970-01-01T22:24:15.808242",
          "1970-01-01T22:39:58.632833",
          "1970-01-01T22:39:58.632833",
          "1970-01-01T22:39:58.632833",
          "1970-01-01T23:29:01.457425",
          "1970-01-01T23:29:01.457425",
          "1970-01-01T23:44:44.282016",
          "1970-01-01T23:44:44.282016",
          "1970-01-01T23:44:44.282016",
          "1970-01-02T00:33:47.106607",
          "1970-01-02T00:33:47.106607",
          "1970-01-02T00:49:29.931199",
          "1970-01-02T00:49:29.931199",
          "1970-01-02T00:49:29.931199",
          "1970-01-02T01:38:32.755790",
          "1970-01-02T01:38:32.755790",
          "1970-01-02T01:54:15.580381",
          "1970-01-02T01:54:15.580381",
          "1970-01-02T01:54:15.580381"
         ],
         "y": [
          "vessel01",
          "vessel01",
          "vessel01",
          "vessel01",
          null,
          "vessel01",
          "vessel01",
          "vessel01",
          "vessel01",
          null,
          "vessel01",
          "vessel01",
          "vessel01",
          "vessel01",
          null,
          "vessel01",
          "vessel01",
          "vessel01",
          "vessel01",
          null,
          "vessel01",
          "vessel01",
          "vessel01",
          "vessel01",
          null,
          "vessel01",
          "vessel01",
          "vessel01",
          "vessel01",
          null,
          "vessel01",
          "vessel01",
          "vessel01",
          "vessel01",
          null,
          "vessel01",
          "vessel01",
          "vessel01",
          "vessel01",
          null,
          "vessel01",
          "vessel01",
          "vessel01",
          "vessel01",
          null,
          "vessel01",
          "vessel01",
          "vessel01",
          "vessel01",
          null,
          "vessel01",
          "vessel01",
          "vessel01",
          "vessel01",
          null,
          "vessel01",
          "vessel01",
          "vessel01",
          "vessel01",
          null,
          "vessel01",
          "vessel01",
          "vessel01",
          "vessel01",
          null,
          "vessel01",
          "vessel01",
          "vessel01",
          "vessel01",
          null,
          "vessel01",
          "vessel01",
          "vessel01",
          "vessel01",
          null,
          "vessel01",
          "vessel01",
          "vessel01",
          "vessel01",
          null,
          "vessel01",
          "vessel01",
          "vessel01",
          "vessel01",
          null,
          "vessel01",
          "vessel01",
          "vessel01",
          "vessel01",
          null,
          "vessel01",
          "vessel01",
          "vessel01",
          "vessel01",
          null,
          "vessel01",
          "vessel01",
          "vessel01",
          "vessel01",
          null,
          "vessel01",
          "vessel01",
          "vessel01",
          "vessel01",
          null,
          "vessel01",
          "vessel01",
          "vessel01",
          "vessel01",
          null,
          "vessel01",
          "vessel01",
          "vessel01",
          "vessel01",
          null,
          "vessel01",
          "vessel01",
          "vessel01",
          "vessel01",
          null,
          "vessel01",
          "vessel01",
          "vessel01",
          "vessel01",
          null
         ]
        },
        {
         "connectgaps": false,
         "hoverinfo": "y+name",
         "line": {
          "color": "rgb(4,81,158)",
          "width": 10
         },
         "mode": "lines",
         "name": "loading",
         "type": "scatter",
         "x": [
          "1970-01-01T00:00:00",
          "1970-01-01T00:00:00",
          "1970-01-01T00:16:40",
          "1970-01-01T00:16:40",
          "1970-01-01T00:16:40",
          "1970-01-01T01:04:45.649183",
          "1970-01-01T01:04:45.649183",
          "1970-01-01T01:21:25.649183",
          "1970-01-01T01:21:25.649183",
          "1970-01-01T01:21:25.649183",
          "1970-01-01T02:09:31.298365",
          "1970-01-01T02:09:31.298365",
          "1970-01-01T02:26:11.298365",
          "1970-01-01T02:26:11.298365",
          "1970-01-01T02:26:11.298365",
          "1970-01-01T03:14:16.947548",
          "1970-01-01T03:14:16.947548",
          "1970-01-01T03:30:56.947548",
          "1970-01-01T03:30:56.947548",
          "1970-01-01T03:30:56.947548",
          "1970-01-01T04:19:02.596730",
          "1970-01-01T04:19:02.596730",
          "1970-01-01T04:35:42.596730",
          "1970-01-01T04:35:42.596730",
          "1970-01-01T04:35:42.596730",
          "1970-01-01T05:23:48.245913",
          "1970-01-01T05:23:48.245913",
          "1970-01-01T05:40:28.245913",
          "1970-01-01T05:40:28.245913",
          "1970-01-01T05:40:28.245913",
          "1970-01-01T06:28:33.895095",
          "1970-01-01T06:28:33.895095",
          "1970-01-01T06:45:13.895095",
          "1970-01-01T06:45:13.895095",
          "1970-01-01T06:45:13.895095",
          "1970-01-01T07:33:19.544278",
          "1970-01-01T07:33:19.544278",
          "1970-01-01T07:49:59.544278",
          "1970-01-01T07:49:59.544278",
          "1970-01-01T07:49:59.544278",
          "1970-01-01T08:38:05.193460",
          "1970-01-01T08:38:05.193460",
          "1970-01-01T08:54:45.193460",
          "1970-01-01T08:54:45.193460",
          "1970-01-01T08:54:45.193460",
          "1970-01-01T09:42:50.842643",
          "1970-01-01T09:42:50.842643",
          "1970-01-01T09:59:30.842643",
          "1970-01-01T09:59:30.842643",
          "1970-01-01T09:59:30.842643",
          "1970-01-01T10:47:36.491825",
          "1970-01-01T10:47:36.491825",
          "1970-01-01T11:04:16.491825",
          "1970-01-01T11:04:16.491825",
          "1970-01-01T11:04:16.491825",
          "1970-01-01T11:52:22.141008",
          "1970-01-01T11:52:22.141008",
          "1970-01-01T12:09:02.141008",
          "1970-01-01T12:09:02.141008",
          "1970-01-01T12:09:02.141008",
          "1970-01-01T12:57:07.790191",
          "1970-01-01T12:57:07.790191",
          "1970-01-01T13:13:47.790191",
          "1970-01-01T13:13:47.790191",
          "1970-01-01T13:13:47.790191",
          "1970-01-01T14:01:53.439373",
          "1970-01-01T14:01:53.439373",
          "1970-01-01T14:18:33.439373",
          "1970-01-01T14:18:33.439373",
          "1970-01-01T14:18:33.439373",
          "1970-01-01T15:06:39.088556",
          "1970-01-01T15:06:39.088556",
          "1970-01-01T15:23:19.088556",
          "1970-01-01T15:23:19.088556",
          "1970-01-01T15:23:19.088556",
          "1970-01-01T16:11:24.737738",
          "1970-01-01T16:11:24.737738",
          "1970-01-01T16:28:04.737738",
          "1970-01-01T16:28:04.737738",
          "1970-01-01T16:28:04.737738",
          "1970-01-01T17:16:10.386921",
          "1970-01-01T17:16:10.386921",
          "1970-01-01T17:32:50.386921",
          "1970-01-01T17:32:50.386921",
          "1970-01-01T17:32:50.386921",
          "1970-01-01T18:20:56.036103",
          "1970-01-01T18:20:56.036103",
          "1970-01-01T18:37:36.036103",
          "1970-01-01T18:37:36.036103",
          "1970-01-01T18:37:36.036103",
          "1970-01-01T19:25:41.685286",
          "1970-01-01T19:25:41.685286",
          "1970-01-01T19:42:21.685286",
          "1970-01-01T19:42:21.685286",
          "1970-01-01T19:42:21.685286",
          "1970-01-01T20:30:27.334468",
          "1970-01-01T20:30:27.334468",
          "1970-01-01T20:47:07.334468",
          "1970-01-01T20:47:07.334468",
          "1970-01-01T20:47:07.334468",
          "1970-01-01T21:35:12.983651",
          "1970-01-01T21:35:12.983651",
          "1970-01-01T21:51:52.983651",
          "1970-01-01T21:51:52.983651",
          "1970-01-01T21:51:52.983651",
          "1970-01-01T22:39:58.632833",
          "1970-01-01T22:39:58.632833",
          "1970-01-01T22:56:38.632833",
          "1970-01-01T22:56:38.632833",
          "1970-01-01T22:56:38.632833",
          "1970-01-01T23:44:44.282016",
          "1970-01-01T23:44:44.282016",
          "1970-01-02T00:01:24.282016",
          "1970-01-02T00:01:24.282016",
          "1970-01-02T00:01:24.282016",
          "1970-01-02T00:49:29.931199",
          "1970-01-02T00:49:29.931199",
          "1970-01-02T01:06:09.931199",
          "1970-01-02T01:06:09.931199",
          "1970-01-02T01:06:09.931199",
          "1970-01-02T01:54:15.580381",
          "1970-01-02T01:54:15.580381",
          "1970-01-02T02:10:55.580381",
          "1970-01-02T02:10:55.580381",
          "1970-01-02T02:10:55.580381",
          "1970-01-01T00:00:00",
          "1970-01-01T00:00:00",
          "1970-01-01T00:16:40",
          "1970-01-01T00:16:40",
          "1970-01-01T00:16:40",
          "1970-01-01T01:04:45.649183",
          "1970-01-01T01:04:45.649183",
          "1970-01-01T01:21:25.649183",
          "1970-01-01T01:21:25.649183",
          "1970-01-01T01:21:25.649183",
          "1970-01-01T02:09:31.298365",
          "1970-01-01T02:09:31.298365",
          "1970-01-01T02:26:11.298365",
          "1970-01-01T02:26:11.298365",
          "1970-01-01T02:26:11.298365",
          "1970-01-01T03:14:16.947548",
          "1970-01-01T03:14:16.947548",
          "1970-01-01T03:30:56.947548",
          "1970-01-01T03:30:56.947548",
          "1970-01-01T03:30:56.947548",
          "1970-01-01T04:19:02.596730",
          "1970-01-01T04:19:02.596730",
          "1970-01-01T04:35:42.596730",
          "1970-01-01T04:35:42.596730",
          "1970-01-01T04:35:42.596730",
          "1970-01-01T05:23:48.245913",
          "1970-01-01T05:23:48.245913",
          "1970-01-01T05:40:28.245913",
          "1970-01-01T05:40:28.245913",
          "1970-01-01T05:40:28.245913",
          "1970-01-01T06:28:33.895095",
          "1970-01-01T06:28:33.895095",
          "1970-01-01T06:45:13.895095",
          "1970-01-01T06:45:13.895095",
          "1970-01-01T06:45:13.895095",
          "1970-01-01T07:33:19.544278",
          "1970-01-01T07:33:19.544278",
          "1970-01-01T07:49:59.544278",
          "1970-01-01T07:49:59.544278",
          "1970-01-01T07:49:59.544278",
          "1970-01-01T08:38:05.193460",
          "1970-01-01T08:38:05.193460",
          "1970-01-01T08:54:45.193460",
          "1970-01-01T08:54:45.193460",
          "1970-01-01T08:54:45.193460",
          "1970-01-01T09:42:50.842643",
          "1970-01-01T09:42:50.842643",
          "1970-01-01T09:59:30.842643",
          "1970-01-01T09:59:30.842643",
          "1970-01-01T09:59:30.842643",
          "1970-01-01T10:47:36.491825",
          "1970-01-01T10:47:36.491825",
          "1970-01-01T11:04:16.491825",
          "1970-01-01T11:04:16.491825",
          "1970-01-01T11:04:16.491825",
          "1970-01-01T11:52:22.141008",
          "1970-01-01T11:52:22.141008",
          "1970-01-01T12:09:02.141008",
          "1970-01-01T12:09:02.141008",
          "1970-01-01T12:09:02.141008",
          "1970-01-01T12:57:07.790191",
          "1970-01-01T12:57:07.790191",
          "1970-01-01T13:13:47.790191",
          "1970-01-01T13:13:47.790191",
          "1970-01-01T13:13:47.790191",
          "1970-01-01T14:01:53.439373",
          "1970-01-01T14:01:53.439373",
          "1970-01-01T14:18:33.439373",
          "1970-01-01T14:18:33.439373",
          "1970-01-01T14:18:33.439373",
          "1970-01-01T15:06:39.088556",
          "1970-01-01T15:06:39.088556",
          "1970-01-01T15:23:19.088556",
          "1970-01-01T15:23:19.088556",
          "1970-01-01T15:23:19.088556",
          "1970-01-01T16:11:24.737738",
          "1970-01-01T16:11:24.737738",
          "1970-01-01T16:28:04.737738",
          "1970-01-01T16:28:04.737738",
          "1970-01-01T16:28:04.737738",
          "1970-01-01T17:16:10.386921",
          "1970-01-01T17:16:10.386921",
          "1970-01-01T17:32:50.386921",
          "1970-01-01T17:32:50.386921",
          "1970-01-01T17:32:50.386921",
          "1970-01-01T18:20:56.036103",
          "1970-01-01T18:20:56.036103",
          "1970-01-01T18:37:36.036103",
          "1970-01-01T18:37:36.036103",
          "1970-01-01T18:37:36.036103",
          "1970-01-01T19:25:41.685286",
          "1970-01-01T19:25:41.685286",
          "1970-01-01T19:42:21.685286",
          "1970-01-01T19:42:21.685286",
          "1970-01-01T19:42:21.685286",
          "1970-01-01T20:30:27.334468",
          "1970-01-01T20:30:27.334468",
          "1970-01-01T20:47:07.334468",
          "1970-01-01T20:47:07.334468",
          "1970-01-01T20:47:07.334468",
          "1970-01-01T21:35:12.983651",
          "1970-01-01T21:35:12.983651",
          "1970-01-01T21:51:52.983651",
          "1970-01-01T21:51:52.983651",
          "1970-01-01T21:51:52.983651",
          "1970-01-01T22:39:58.632833",
          "1970-01-01T22:39:58.632833",
          "1970-01-01T22:56:38.632833",
          "1970-01-01T22:56:38.632833",
          "1970-01-01T22:56:38.632833",
          "1970-01-01T23:44:44.282016",
          "1970-01-01T23:44:44.282016",
          "1970-01-02T00:01:24.282016",
          "1970-01-02T00:01:24.282016",
          "1970-01-02T00:01:24.282016",
          "1970-01-02T00:49:29.931199",
          "1970-01-02T00:49:29.931199",
          "1970-01-02T01:06:09.931199",
          "1970-01-02T01:06:09.931199",
          "1970-01-02T01:06:09.931199",
          "1970-01-02T01:54:15.580381",
          "1970-01-02T01:54:15.580381",
          "1970-01-02T02:10:55.580381",
          "1970-01-02T02:10:55.580381",
          "1970-01-02T02:10:55.580381"
         ],
         "y": [
          "vessel01",
          "vessel01",
          "vessel01",
          "vessel01",
          null,
          "vessel01",
          "vessel01",
          "vessel01",
          "vessel01",
          null,
          "vessel01",
          "vessel01",
          "vessel01",
          "vessel01",
          null,
          "vessel01",
          "vessel01",
          "vessel01",
          "vessel01",
          null,
          "vessel01",
          "vessel01",
          "vessel01",
          "vessel01",
          null,
          "vessel01",
          "vessel01",
          "vessel01",
          "vessel01",
          null,
          "vessel01",
          "vessel01",
          "vessel01",
          "vessel01",
          null,
          "vessel01",
          "vessel01",
          "vessel01",
          "vessel01",
          null,
          "vessel01",
          "vessel01",
          "vessel01",
          "vessel01",
          null,
          "vessel01",
          "vessel01",
          "vessel01",
          "vessel01",
          null,
          "vessel01",
          "vessel01",
          "vessel01",
          "vessel01",
          null,
          "vessel01",
          "vessel01",
          "vessel01",
          "vessel01",
          null,
          "vessel01",
          "vessel01",
          "vessel01",
          "vessel01",
          null,
          "vessel01",
          "vessel01",
          "vessel01",
          "vessel01",
          null,
          "vessel01",
          "vessel01",
          "vessel01",
          "vessel01",
          null,
          "vessel01",
          "vessel01",
          "vessel01",
          "vessel01",
          null,
          "vessel01",
          "vessel01",
          "vessel01",
          "vessel01",
          null,
          "vessel01",
          "vessel01",
          "vessel01",
          "vessel01",
          null,
          "vessel01",
          "vessel01",
          "vessel01",
          "vessel01",
          null,
          "vessel01",
          "vessel01",
          "vessel01",
          "vessel01",
          null,
          "vessel01",
          "vessel01",
          "vessel01",
          "vessel01",
          null,
          "vessel01",
          "vessel01",
          "vessel01",
          "vessel01",
          null,
          "vessel01",
          "vessel01",
          "vessel01",
          "vessel01",
          null,
          "vessel01",
          "vessel01",
          "vessel01",
          "vessel01",
          null,
          "vessel01",
          "vessel01",
          "vessel01",
          "vessel01",
          null,
          "from_site",
          "from_site",
          "from_site",
          "from_site",
          null,
          "from_site",
          "from_site",
          "from_site",
          "from_site",
          null,
          "from_site",
          "from_site",
          "from_site",
          "from_site",
          null,
          "from_site",
          "from_site",
          "from_site",
          "from_site",
          null,
          "from_site",
          "from_site",
          "from_site",
          "from_site",
          null,
          "from_site",
          "from_site",
          "from_site",
          "from_site",
          null,
          "from_site",
          "from_site",
          "from_site",
          "from_site",
          null,
          "from_site",
          "from_site",
          "from_site",
          "from_site",
          null,
          "from_site",
          "from_site",
          "from_site",
          "from_site",
          null,
          "from_site",
          "from_site",
          "from_site",
          "from_site",
          null,
          "from_site",
          "from_site",
          "from_site",
          "from_site",
          null,
          "from_site",
          "from_site",
          "from_site",
          "from_site",
          null,
          "from_site",
          "from_site",
          "from_site",
          "from_site",
          null,
          "from_site",
          "from_site",
          "from_site",
          "from_site",
          null,
          "from_site",
          "from_site",
          "from_site",
          "from_site",
          null,
          "from_site",
          "from_site",
          "from_site",
          "from_site",
          null,
          "from_site",
          "from_site",
          "from_site",
          "from_site",
          null,
          "from_site",
          "from_site",
          "from_site",
          "from_site",
          null,
          "from_site",
          "from_site",
          "from_site",
          "from_site",
          null,
          "from_site",
          "from_site",
          "from_site",
          "from_site",
          null,
          "from_site",
          "from_site",
          "from_site",
          "from_site",
          null,
          "from_site",
          "from_site",
          "from_site",
          "from_site",
          null,
          "from_site",
          "from_site",
          "from_site",
          "from_site",
          null,
          "from_site",
          "from_site",
          "from_site",
          "from_site",
          null,
          "from_site",
          "from_site",
          "from_site",
          "from_site",
          null
         ]
        },
        {
         "connectgaps": false,
         "hoverinfo": "y+name",
         "line": {
          "color": "rgb(40,117,194)",
          "width": 10
         },
         "mode": "lines",
         "name": "unloading",
         "type": "scatter",
         "x": [
          "1970-01-01T00:32:22.824591",
          "1970-01-01T00:32:22.824591",
          "1970-01-01T00:49:02.824591",
          "1970-01-01T00:49:02.824591",
          "1970-01-01T00:49:02.824591",
          "1970-01-01T01:37:08.473774",
          "1970-01-01T01:37:08.473774",
          "1970-01-01T01:53:48.473774",
          "1970-01-01T01:53:48.473774",
          "1970-01-01T01:53:48.473774",
          "1970-01-01T02:41:54.122956",
          "1970-01-01T02:41:54.122956",
          "1970-01-01T02:58:34.122956",
          "1970-01-01T02:58:34.122956",
          "1970-01-01T02:58:34.122956",
          "1970-01-01T03:46:39.772139",
          "1970-01-01T03:46:39.772139",
          "1970-01-01T04:03:19.772139",
          "1970-01-01T04:03:19.772139",
          "1970-01-01T04:03:19.772139",
          "1970-01-01T04:51:25.421321",
          "1970-01-01T04:51:25.421321",
          "1970-01-01T05:08:05.421321",
          "1970-01-01T05:08:05.421321",
          "1970-01-01T05:08:05.421321",
          "1970-01-01T05:56:11.070504",
          "1970-01-01T05:56:11.070504",
          "1970-01-01T06:12:51.070504",
          "1970-01-01T06:12:51.070504",
          "1970-01-01T06:12:51.070504",
          "1970-01-01T07:00:56.719687",
          "1970-01-01T07:00:56.719687",
          "1970-01-01T07:17:36.719687",
          "1970-01-01T07:17:36.719687",
          "1970-01-01T07:17:36.719687",
          "1970-01-01T08:05:42.368869",
          "1970-01-01T08:05:42.368869",
          "1970-01-01T08:22:22.368869",
          "1970-01-01T08:22:22.368869",
          "1970-01-01T08:22:22.368869",
          "1970-01-01T09:10:28.018052",
          "1970-01-01T09:10:28.018052",
          "1970-01-01T09:27:08.018052",
          "1970-01-01T09:27:08.018052",
          "1970-01-01T09:27:08.018052",
          "1970-01-01T10:15:13.667234",
          "1970-01-01T10:15:13.667234",
          "1970-01-01T10:31:53.667234",
          "1970-01-01T10:31:53.667234",
          "1970-01-01T10:31:53.667234",
          "1970-01-01T11:19:59.316417",
          "1970-01-01T11:19:59.316417",
          "1970-01-01T11:36:39.316417",
          "1970-01-01T11:36:39.316417",
          "1970-01-01T11:36:39.316417",
          "1970-01-01T12:24:44.965599",
          "1970-01-01T12:24:44.965599",
          "1970-01-01T12:41:24.965599",
          "1970-01-01T12:41:24.965599",
          "1970-01-01T12:41:24.965599",
          "1970-01-01T13:29:30.614782",
          "1970-01-01T13:29:30.614782",
          "1970-01-01T13:46:10.614782",
          "1970-01-01T13:46:10.614782",
          "1970-01-01T13:46:10.614782",
          "1970-01-01T14:34:16.263964",
          "1970-01-01T14:34:16.263964",
          "1970-01-01T14:50:56.263964",
          "1970-01-01T14:50:56.263964",
          "1970-01-01T14:50:56.263964",
          "1970-01-01T15:39:01.913147",
          "1970-01-01T15:39:01.913147",
          "1970-01-01T15:55:41.913147",
          "1970-01-01T15:55:41.913147",
          "1970-01-01T15:55:41.913147",
          "1970-01-01T16:43:47.562329",
          "1970-01-01T16:43:47.562329",
          "1970-01-01T17:00:27.562329",
          "1970-01-01T17:00:27.562329",
          "1970-01-01T17:00:27.562329",
          "1970-01-01T17:48:33.211512",
          "1970-01-01T17:48:33.211512",
          "1970-01-01T18:05:13.211512",
          "1970-01-01T18:05:13.211512",
          "1970-01-01T18:05:13.211512",
          "1970-01-01T18:53:18.860695",
          "1970-01-01T18:53:18.860695",
          "1970-01-01T19:09:58.860695",
          "1970-01-01T19:09:58.860695",
          "1970-01-01T19:09:58.860695",
          "1970-01-01T19:58:04.509877",
          "1970-01-01T19:58:04.509877",
          "1970-01-01T20:14:44.509877",
          "1970-01-01T20:14:44.509877",
          "1970-01-01T20:14:44.509877",
          "1970-01-01T21:02:50.159060",
          "1970-01-01T21:02:50.159060",
          "1970-01-01T21:19:30.159060",
          "1970-01-01T21:19:30.159060",
          "1970-01-01T21:19:30.159060",
          "1970-01-01T22:07:35.808242",
          "1970-01-01T22:07:35.808242",
          "1970-01-01T22:24:15.808242",
          "1970-01-01T22:24:15.808242",
          "1970-01-01T22:24:15.808242",
          "1970-01-01T23:12:21.457425",
          "1970-01-01T23:12:21.457425",
          "1970-01-01T23:29:01.457425",
          "1970-01-01T23:29:01.457425",
          "1970-01-01T23:29:01.457425",
          "1970-01-02T00:17:07.106607",
          "1970-01-02T00:17:07.106607",
          "1970-01-02T00:33:47.106607",
          "1970-01-02T00:33:47.106607",
          "1970-01-02T00:33:47.106607",
          "1970-01-02T01:21:52.755790",
          "1970-01-02T01:21:52.755790",
          "1970-01-02T01:38:32.755790",
          "1970-01-02T01:38:32.755790",
          "1970-01-02T01:38:32.755790",
          "1970-01-02T02:26:38.404972",
          "1970-01-02T02:26:38.404972",
          "1970-01-02T02:43:18.404972",
          "1970-01-02T02:43:18.404972",
          "1970-01-02T02:43:18.404972",
          "1970-01-01T00:32:22.824591",
          "1970-01-01T00:32:22.824591",
          "1970-01-01T00:49:02.824591",
          "1970-01-01T00:49:02.824591",
          "1970-01-01T00:49:02.824591",
          "1970-01-01T01:37:08.473774",
          "1970-01-01T01:37:08.473774",
          "1970-01-01T01:53:48.473774",
          "1970-01-01T01:53:48.473774",
          "1970-01-01T01:53:48.473774",
          "1970-01-01T02:41:54.122956",
          "1970-01-01T02:41:54.122956",
          "1970-01-01T02:58:34.122956",
          "1970-01-01T02:58:34.122956",
          "1970-01-01T02:58:34.122956",
          "1970-01-01T03:46:39.772139",
          "1970-01-01T03:46:39.772139",
          "1970-01-01T04:03:19.772139",
          "1970-01-01T04:03:19.772139",
          "1970-01-01T04:03:19.772139",
          "1970-01-01T04:51:25.421321",
          "1970-01-01T04:51:25.421321",
          "1970-01-01T05:08:05.421321",
          "1970-01-01T05:08:05.421321",
          "1970-01-01T05:08:05.421321",
          "1970-01-01T05:56:11.070504",
          "1970-01-01T05:56:11.070504",
          "1970-01-01T06:12:51.070504",
          "1970-01-01T06:12:51.070504",
          "1970-01-01T06:12:51.070504",
          "1970-01-01T07:00:56.719687",
          "1970-01-01T07:00:56.719687",
          "1970-01-01T07:17:36.719687",
          "1970-01-01T07:17:36.719687",
          "1970-01-01T07:17:36.719687",
          "1970-01-01T08:05:42.368869",
          "1970-01-01T08:05:42.368869",
          "1970-01-01T08:22:22.368869",
          "1970-01-01T08:22:22.368869",
          "1970-01-01T08:22:22.368869",
          "1970-01-01T09:10:28.018052",
          "1970-01-01T09:10:28.018052",
          "1970-01-01T09:27:08.018052",
          "1970-01-01T09:27:08.018052",
          "1970-01-01T09:27:08.018052",
          "1970-01-01T10:15:13.667234",
          "1970-01-01T10:15:13.667234",
          "1970-01-01T10:31:53.667234",
          "1970-01-01T10:31:53.667234",
          "1970-01-01T10:31:53.667234",
          "1970-01-01T11:19:59.316417",
          "1970-01-01T11:19:59.316417",
          "1970-01-01T11:36:39.316417",
          "1970-01-01T11:36:39.316417",
          "1970-01-01T11:36:39.316417",
          "1970-01-01T12:24:44.965599",
          "1970-01-01T12:24:44.965599",
          "1970-01-01T12:41:24.965599",
          "1970-01-01T12:41:24.965599",
          "1970-01-01T12:41:24.965599",
          "1970-01-01T13:29:30.614782",
          "1970-01-01T13:29:30.614782",
          "1970-01-01T13:46:10.614782",
          "1970-01-01T13:46:10.614782",
          "1970-01-01T13:46:10.614782",
          "1970-01-01T14:34:16.263964",
          "1970-01-01T14:34:16.263964",
          "1970-01-01T14:50:56.263964",
          "1970-01-01T14:50:56.263964",
          "1970-01-01T14:50:56.263964",
          "1970-01-01T15:39:01.913147",
          "1970-01-01T15:39:01.913147",
          "1970-01-01T15:55:41.913147",
          "1970-01-01T15:55:41.913147",
          "1970-01-01T15:55:41.913147",
          "1970-01-01T16:43:47.562329",
          "1970-01-01T16:43:47.562329",
          "1970-01-01T17:00:27.562329",
          "1970-01-01T17:00:27.562329",
          "1970-01-01T17:00:27.562329",
          "1970-01-01T17:48:33.211512",
          "1970-01-01T17:48:33.211512",
          "1970-01-01T18:05:13.211512",
          "1970-01-01T18:05:13.211512",
          "1970-01-01T18:05:13.211512",
          "1970-01-01T18:53:18.860695",
          "1970-01-01T18:53:18.860695",
          "1970-01-01T19:09:58.860695",
          "1970-01-01T19:09:58.860695",
          "1970-01-01T19:09:58.860695",
          "1970-01-01T19:58:04.509877",
          "1970-01-01T19:58:04.509877",
          "1970-01-01T20:14:44.509877",
          "1970-01-01T20:14:44.509877",
          "1970-01-01T20:14:44.509877",
          "1970-01-01T21:02:50.159060",
          "1970-01-01T21:02:50.159060",
          "1970-01-01T21:19:30.159060",
          "1970-01-01T21:19:30.159060",
          "1970-01-01T21:19:30.159060",
          "1970-01-01T22:07:35.808242",
          "1970-01-01T22:07:35.808242",
          "1970-01-01T22:24:15.808242",
          "1970-01-01T22:24:15.808242",
          "1970-01-01T22:24:15.808242",
          "1970-01-01T23:12:21.457425",
          "1970-01-01T23:12:21.457425",
          "1970-01-01T23:29:01.457425",
          "1970-01-01T23:29:01.457425",
          "1970-01-01T23:29:01.457425",
          "1970-01-02T00:17:07.106607",
          "1970-01-02T00:17:07.106607",
          "1970-01-02T00:33:47.106607",
          "1970-01-02T00:33:47.106607",
          "1970-01-02T00:33:47.106607",
          "1970-01-02T01:21:52.755790",
          "1970-01-02T01:21:52.755790",
          "1970-01-02T01:38:32.755790",
          "1970-01-02T01:38:32.755790",
          "1970-01-02T01:38:32.755790",
          "1970-01-02T02:26:38.404972",
          "1970-01-02T02:26:38.404972",
          "1970-01-02T02:43:18.404972",
          "1970-01-02T02:43:18.404972",
          "1970-01-02T02:43:18.404972"
         ],
         "y": [
          "vessel01",
          "vessel01",
          "vessel01",
          "vessel01",
          null,
          "vessel01",
          "vessel01",
          "vessel01",
          "vessel01",
          null,
          "vessel01",
          "vessel01",
          "vessel01",
          "vessel01",
          null,
          "vessel01",
          "vessel01",
          "vessel01",
          "vessel01",
          null,
          "vessel01",
          "vessel01",
          "vessel01",
          "vessel01",
          null,
          "vessel01",
          "vessel01",
          "vessel01",
          "vessel01",
          null,
          "vessel01",
          "vessel01",
          "vessel01",
          "vessel01",
          null,
          "vessel01",
          "vessel01",
          "vessel01",
          "vessel01",
          null,
          "vessel01",
          "vessel01",
          "vessel01",
          "vessel01",
          null,
          "vessel01",
          "vessel01",
          "vessel01",
          "vessel01",
          null,
          "vessel01",
          "vessel01",
          "vessel01",
          "vessel01",
          null,
          "vessel01",
          "vessel01",
          "vessel01",
          "vessel01",
          null,
          "vessel01",
          "vessel01",
          "vessel01",
          "vessel01",
          null,
          "vessel01",
          "vessel01",
          "vessel01",
          "vessel01",
          null,
          "vessel01",
          "vessel01",
          "vessel01",
          "vessel01",
          null,
          "vessel01",
          "vessel01",
          "vessel01",
          "vessel01",
          null,
          "vessel01",
          "vessel01",
          "vessel01",
          "vessel01",
          null,
          "vessel01",
          "vessel01",
          "vessel01",
          "vessel01",
          null,
          "vessel01",
          "vessel01",
          "vessel01",
          "vessel01",
          null,
          "vessel01",
          "vessel01",
          "vessel01",
          "vessel01",
          null,
          "vessel01",
          "vessel01",
          "vessel01",
          "vessel01",
          null,
          "vessel01",
          "vessel01",
          "vessel01",
          "vessel01",
          null,
          "vessel01",
          "vessel01",
          "vessel01",
          "vessel01",
          null,
          "vessel01",
          "vessel01",
          "vessel01",
          "vessel01",
          null,
          "vessel01",
          "vessel01",
          "vessel01",
          "vessel01",
          null,
          "to_site",
          "to_site",
          "to_site",
          "to_site",
          null,
          "to_site",
          "to_site",
          "to_site",
          "to_site",
          null,
          "to_site",
          "to_site",
          "to_site",
          "to_site",
          null,
          "to_site",
          "to_site",
          "to_site",
          "to_site",
          null,
          "to_site",
          "to_site",
          "to_site",
          "to_site",
          null,
          "to_site",
          "to_site",
          "to_site",
          "to_site",
          null,
          "to_site",
          "to_site",
          "to_site",
          "to_site",
          null,
          "to_site",
          "to_site",
          "to_site",
          "to_site",
          null,
          "to_site",
          "to_site",
          "to_site",
          "to_site",
          null,
          "to_site",
          "to_site",
          "to_site",
          "to_site",
          null,
          "to_site",
          "to_site",
          "to_site",
          "to_site",
          null,
          "to_site",
          "to_site",
          "to_site",
          "to_site",
          null,
          "to_site",
          "to_site",
          "to_site",
          "to_site",
          null,
          "to_site",
          "to_site",
          "to_site",
          "to_site",
          null,
          "to_site",
          "to_site",
          "to_site",
          "to_site",
          null,
          "to_site",
          "to_site",
          "to_site",
          "to_site",
          null,
          "to_site",
          "to_site",
          "to_site",
          "to_site",
          null,
          "to_site",
          "to_site",
          "to_site",
          "to_site",
          null,
          "to_site",
          "to_site",
          "to_site",
          "to_site",
          null,
          "to_site",
          "to_site",
          "to_site",
          "to_site",
          null,
          "to_site",
          "to_site",
          "to_site",
          "to_site",
          null,
          "to_site",
          "to_site",
          "to_site",
          "to_site",
          null,
          "to_site",
          "to_site",
          "to_site",
          "to_site",
          null,
          "to_site",
          "to_site",
          "to_site",
          "to_site",
          null,
          "to_site",
          "to_site",
          "to_site",
          "to_site",
          null
         ]
        },
        {
         "connectgaps": false,
         "hoverinfo": "y+name",
         "line": {
          "color": "rgb(76,153,230)",
          "width": 10
         },
         "mode": "lines",
         "name": "loading",
         "type": "scatter",
         "x": [
          "1970-01-01T00:00:00",
          "1970-01-01T00:00:00",
          "1970-01-01T00:16:40",
          "1970-01-01T00:16:40",
          "1970-01-01T00:16:40",
          "1970-01-01T01:04:45.649183",
          "1970-01-01T01:04:45.649183",
          "1970-01-01T01:21:25.649183",
          "1970-01-01T01:21:25.649183",
          "1970-01-01T01:21:25.649183",
          "1970-01-01T02:09:31.298365",
          "1970-01-01T02:09:31.298365",
          "1970-01-01T02:26:11.298365",
          "1970-01-01T02:26:11.298365",
          "1970-01-01T02:26:11.298365",
          "1970-01-01T03:14:16.947548",
          "1970-01-01T03:14:16.947548",
          "1970-01-01T03:30:56.947548",
          "1970-01-01T03:30:56.947548",
          "1970-01-01T03:30:56.947548",
          "1970-01-01T04:19:02.596730",
          "1970-01-01T04:19:02.596730",
          "1970-01-01T04:35:42.596730",
          "1970-01-01T04:35:42.596730",
          "1970-01-01T04:35:42.596730",
          "1970-01-01T05:23:48.245913",
          "1970-01-01T05:23:48.245913",
          "1970-01-01T05:40:28.245913",
          "1970-01-01T05:40:28.245913",
          "1970-01-01T05:40:28.245913",
          "1970-01-01T06:28:33.895095",
          "1970-01-01T06:28:33.895095",
          "1970-01-01T06:45:13.895095",
          "1970-01-01T06:45:13.895095",
          "1970-01-01T06:45:13.895095",
          "1970-01-01T07:33:19.544278",
          "1970-01-01T07:33:19.544278",
          "1970-01-01T07:49:59.544278",
          "1970-01-01T07:49:59.544278",
          "1970-01-01T07:49:59.544278",
          "1970-01-01T08:38:05.193460",
          "1970-01-01T08:38:05.193460",
          "1970-01-01T08:54:45.193460",
          "1970-01-01T08:54:45.193460",
          "1970-01-01T08:54:45.193460",
          "1970-01-01T09:42:50.842643",
          "1970-01-01T09:42:50.842643",
          "1970-01-01T09:59:30.842643",
          "1970-01-01T09:59:30.842643",
          "1970-01-01T09:59:30.842643",
          "1970-01-01T10:47:36.491825",
          "1970-01-01T10:47:36.491825",
          "1970-01-01T11:04:16.491825",
          "1970-01-01T11:04:16.491825",
          "1970-01-01T11:04:16.491825",
          "1970-01-01T11:52:22.141008",
          "1970-01-01T11:52:22.141008",
          "1970-01-01T12:09:02.141008",
          "1970-01-01T12:09:02.141008",
          "1970-01-01T12:09:02.141008",
          "1970-01-01T12:57:07.790191",
          "1970-01-01T12:57:07.790191",
          "1970-01-01T13:13:47.790191",
          "1970-01-01T13:13:47.790191",
          "1970-01-01T13:13:47.790191",
          "1970-01-01T14:01:53.439373",
          "1970-01-01T14:01:53.439373",
          "1970-01-01T14:18:33.439373",
          "1970-01-01T14:18:33.439373",
          "1970-01-01T14:18:33.439373",
          "1970-01-01T15:06:39.088556",
          "1970-01-01T15:06:39.088556",
          "1970-01-01T15:23:19.088556",
          "1970-01-01T15:23:19.088556",
          "1970-01-01T15:23:19.088556",
          "1970-01-01T16:11:24.737738",
          "1970-01-01T16:11:24.737738",
          "1970-01-01T16:28:04.737738",
          "1970-01-01T16:28:04.737738",
          "1970-01-01T16:28:04.737738",
          "1970-01-01T17:16:10.386921",
          "1970-01-01T17:16:10.386921",
          "1970-01-01T17:32:50.386921",
          "1970-01-01T17:32:50.386921",
          "1970-01-01T17:32:50.386921",
          "1970-01-01T18:20:56.036103",
          "1970-01-01T18:20:56.036103",
          "1970-01-01T18:37:36.036103",
          "1970-01-01T18:37:36.036103",
          "1970-01-01T18:37:36.036103",
          "1970-01-01T19:25:41.685286",
          "1970-01-01T19:25:41.685286",
          "1970-01-01T19:42:21.685286",
          "1970-01-01T19:42:21.685286",
          "1970-01-01T19:42:21.685286",
          "1970-01-01T20:30:27.334468",
          "1970-01-01T20:30:27.334468",
          "1970-01-01T20:47:07.334468",
          "1970-01-01T20:47:07.334468",
          "1970-01-01T20:47:07.334468",
          "1970-01-01T21:35:12.983651",
          "1970-01-01T21:35:12.983651",
          "1970-01-01T21:51:52.983651",
          "1970-01-01T21:51:52.983651",
          "1970-01-01T21:51:52.983651",
          "1970-01-01T22:39:58.632833",
          "1970-01-01T22:39:58.632833",
          "1970-01-01T22:56:38.632833",
          "1970-01-01T22:56:38.632833",
          "1970-01-01T22:56:38.632833",
          "1970-01-01T23:44:44.282016",
          "1970-01-01T23:44:44.282016",
          "1970-01-02T00:01:24.282016",
          "1970-01-02T00:01:24.282016",
          "1970-01-02T00:01:24.282016",
          "1970-01-02T00:49:29.931199",
          "1970-01-02T00:49:29.931199",
          "1970-01-02T01:06:09.931199",
          "1970-01-02T01:06:09.931199",
          "1970-01-02T01:06:09.931199",
          "1970-01-02T01:54:15.580381",
          "1970-01-02T01:54:15.580381",
          "1970-01-02T02:10:55.580381",
          "1970-01-02T02:10:55.580381",
          "1970-01-02T02:10:55.580381",
          "1970-01-01T00:00:00",
          "1970-01-01T00:00:00",
          "1970-01-01T00:16:40",
          "1970-01-01T00:16:40",
          "1970-01-01T00:16:40",
          "1970-01-01T01:04:45.649183",
          "1970-01-01T01:04:45.649183",
          "1970-01-01T01:21:25.649183",
          "1970-01-01T01:21:25.649183",
          "1970-01-01T01:21:25.649183",
          "1970-01-01T02:09:31.298365",
          "1970-01-01T02:09:31.298365",
          "1970-01-01T02:26:11.298365",
          "1970-01-01T02:26:11.298365",
          "1970-01-01T02:26:11.298365",
          "1970-01-01T03:14:16.947548",
          "1970-01-01T03:14:16.947548",
          "1970-01-01T03:30:56.947548",
          "1970-01-01T03:30:56.947548",
          "1970-01-01T03:30:56.947548",
          "1970-01-01T04:19:02.596730",
          "1970-01-01T04:19:02.596730",
          "1970-01-01T04:35:42.596730",
          "1970-01-01T04:35:42.596730",
          "1970-01-01T04:35:42.596730",
          "1970-01-01T05:23:48.245913",
          "1970-01-01T05:23:48.245913",
          "1970-01-01T05:40:28.245913",
          "1970-01-01T05:40:28.245913",
          "1970-01-01T05:40:28.245913",
          "1970-01-01T06:28:33.895095",
          "1970-01-01T06:28:33.895095",
          "1970-01-01T06:45:13.895095",
          "1970-01-01T06:45:13.895095",
          "1970-01-01T06:45:13.895095",
          "1970-01-01T07:33:19.544278",
          "1970-01-01T07:33:19.544278",
          "1970-01-01T07:49:59.544278",
          "1970-01-01T07:49:59.544278",
          "1970-01-01T07:49:59.544278",
          "1970-01-01T08:38:05.193460",
          "1970-01-01T08:38:05.193460",
          "1970-01-01T08:54:45.193460",
          "1970-01-01T08:54:45.193460",
          "1970-01-01T08:54:45.193460",
          "1970-01-01T09:42:50.842643",
          "1970-01-01T09:42:50.842643",
          "1970-01-01T09:59:30.842643",
          "1970-01-01T09:59:30.842643",
          "1970-01-01T09:59:30.842643",
          "1970-01-01T10:47:36.491825",
          "1970-01-01T10:47:36.491825",
          "1970-01-01T11:04:16.491825",
          "1970-01-01T11:04:16.491825",
          "1970-01-01T11:04:16.491825",
          "1970-01-01T11:52:22.141008",
          "1970-01-01T11:52:22.141008",
          "1970-01-01T12:09:02.141008",
          "1970-01-01T12:09:02.141008",
          "1970-01-01T12:09:02.141008",
          "1970-01-01T12:57:07.790191",
          "1970-01-01T12:57:07.790191",
          "1970-01-01T13:13:47.790191",
          "1970-01-01T13:13:47.790191",
          "1970-01-01T13:13:47.790191",
          "1970-01-01T14:01:53.439373",
          "1970-01-01T14:01:53.439373",
          "1970-01-01T14:18:33.439373",
          "1970-01-01T14:18:33.439373",
          "1970-01-01T14:18:33.439373",
          "1970-01-01T15:06:39.088556",
          "1970-01-01T15:06:39.088556",
          "1970-01-01T15:23:19.088556",
          "1970-01-01T15:23:19.088556",
          "1970-01-01T15:23:19.088556",
          "1970-01-01T16:11:24.737738",
          "1970-01-01T16:11:24.737738",
          "1970-01-01T16:28:04.737738",
          "1970-01-01T16:28:04.737738",
          "1970-01-01T16:28:04.737738",
          "1970-01-01T17:16:10.386921",
          "1970-01-01T17:16:10.386921",
          "1970-01-01T17:32:50.386921",
          "1970-01-01T17:32:50.386921",
          "1970-01-01T17:32:50.386921",
          "1970-01-01T18:20:56.036103",
          "1970-01-01T18:20:56.036103",
          "1970-01-01T18:37:36.036103",
          "1970-01-01T18:37:36.036103",
          "1970-01-01T18:37:36.036103",
          "1970-01-01T19:25:41.685286",
          "1970-01-01T19:25:41.685286",
          "1970-01-01T19:42:21.685286",
          "1970-01-01T19:42:21.685286",
          "1970-01-01T19:42:21.685286",
          "1970-01-01T20:30:27.334468",
          "1970-01-01T20:30:27.334468",
          "1970-01-01T20:47:07.334468",
          "1970-01-01T20:47:07.334468",
          "1970-01-01T20:47:07.334468",
          "1970-01-01T21:35:12.983651",
          "1970-01-01T21:35:12.983651",
          "1970-01-01T21:51:52.983651",
          "1970-01-01T21:51:52.983651",
          "1970-01-01T21:51:52.983651",
          "1970-01-01T22:39:58.632833",
          "1970-01-01T22:39:58.632833",
          "1970-01-01T22:56:38.632833",
          "1970-01-01T22:56:38.632833",
          "1970-01-01T22:56:38.632833",
          "1970-01-01T23:44:44.282016",
          "1970-01-01T23:44:44.282016",
          "1970-01-02T00:01:24.282016",
          "1970-01-02T00:01:24.282016",
          "1970-01-02T00:01:24.282016",
          "1970-01-02T00:49:29.931199",
          "1970-01-02T00:49:29.931199",
          "1970-01-02T01:06:09.931199",
          "1970-01-02T01:06:09.931199",
          "1970-01-02T01:06:09.931199",
          "1970-01-02T01:54:15.580381",
          "1970-01-02T01:54:15.580381",
          "1970-01-02T02:10:55.580381",
          "1970-01-02T02:10:55.580381",
          "1970-01-02T02:10:55.580381"
         ],
         "y": [
          "vessel01",
          "vessel01",
          "vessel01",
          "vessel01",
          null,
          "vessel01",
          "vessel01",
          "vessel01",
          "vessel01",
          null,
          "vessel01",
          "vessel01",
          "vessel01",
          "vessel01",
          null,
          "vessel01",
          "vessel01",
          "vessel01",
          "vessel01",
          null,
          "vessel01",
          "vessel01",
          "vessel01",
          "vessel01",
          null,
          "vessel01",
          "vessel01",
          "vessel01",
          "vessel01",
          null,
          "vessel01",
          "vessel01",
          "vessel01",
          "vessel01",
          null,
          "vessel01",
          "vessel01",
          "vessel01",
          "vessel01",
          null,
          "vessel01",
          "vessel01",
          "vessel01",
          "vessel01",
          null,
          "vessel01",
          "vessel01",
          "vessel01",
          "vessel01",
          null,
          "vessel01",
          "vessel01",
          "vessel01",
          "vessel01",
          null,
          "vessel01",
          "vessel01",
          "vessel01",
          "vessel01",
          null,
          "vessel01",
          "vessel01",
          "vessel01",
          "vessel01",
          null,
          "vessel01",
          "vessel01",
          "vessel01",
          "vessel01",
          null,
          "vessel01",
          "vessel01",
          "vessel01",
          "vessel01",
          null,
          "vessel01",
          "vessel01",
          "vessel01",
          "vessel01",
          null,
          "vessel01",
          "vessel01",
          "vessel01",
          "vessel01",
          null,
          "vessel01",
          "vessel01",
          "vessel01",
          "vessel01",
          null,
          "vessel01",
          "vessel01",
          "vessel01",
          "vessel01",
          null,
          "vessel01",
          "vessel01",
          "vessel01",
          "vessel01",
          null,
          "vessel01",
          "vessel01",
          "vessel01",
          "vessel01",
          null,
          "vessel01",
          "vessel01",
          "vessel01",
          "vessel01",
          null,
          "vessel01",
          "vessel01",
          "vessel01",
          "vessel01",
          null,
          "vessel01",
          "vessel01",
          "vessel01",
          "vessel01",
          null,
          "vessel01",
          "vessel01",
          "vessel01",
          "vessel01",
          null,
          "from_site",
          "from_site",
          "from_site",
          "from_site",
          null,
          "from_site",
          "from_site",
          "from_site",
          "from_site",
          null,
          "from_site",
          "from_site",
          "from_site",
          "from_site",
          null,
          "from_site",
          "from_site",
          "from_site",
          "from_site",
          null,
          "from_site",
          "from_site",
          "from_site",
          "from_site",
          null,
          "from_site",
          "from_site",
          "from_site",
          "from_site",
          null,
          "from_site",
          "from_site",
          "from_site",
          "from_site",
          null,
          "from_site",
          "from_site",
          "from_site",
          "from_site",
          null,
          "from_site",
          "from_site",
          "from_site",
          "from_site",
          null,
          "from_site",
          "from_site",
          "from_site",
          "from_site",
          null,
          "from_site",
          "from_site",
          "from_site",
          "from_site",
          null,
          "from_site",
          "from_site",
          "from_site",
          "from_site",
          null,
          "from_site",
          "from_site",
          "from_site",
          "from_site",
          null,
          "from_site",
          "from_site",
          "from_site",
          "from_site",
          null,
          "from_site",
          "from_site",
          "from_site",
          "from_site",
          null,
          "from_site",
          "from_site",
          "from_site",
          "from_site",
          null,
          "from_site",
          "from_site",
          "from_site",
          "from_site",
          null,
          "from_site",
          "from_site",
          "from_site",
          "from_site",
          null,
          "from_site",
          "from_site",
          "from_site",
          "from_site",
          null,
          "from_site",
          "from_site",
          "from_site",
          "from_site",
          null,
          "from_site",
          "from_site",
          "from_site",
          "from_site",
          null,
          "from_site",
          "from_site",
          "from_site",
          "from_site",
          null,
          "from_site",
          "from_site",
          "from_site",
          "from_site",
          null,
          "from_site",
          "from_site",
          "from_site",
          "from_site",
          null,
          "from_site",
          "from_site",
          "from_site",
          "from_site",
          null
         ]
        },
        {
         "connectgaps": false,
         "hoverinfo": "y+name",
         "line": {
          "color": "rgb(112,189,10)",
          "width": 10
         },
         "mode": "lines",
         "name": "unloading",
         "type": "scatter",
         "x": [
          "1970-01-01T00:32:22.824591",
          "1970-01-01T00:32:22.824591",
          "1970-01-01T00:49:02.824591",
          "1970-01-01T00:49:02.824591",
          "1970-01-01T00:49:02.824591",
          "1970-01-01T01:37:08.473774",
          "1970-01-01T01:37:08.473774",
          "1970-01-01T01:53:48.473774",
          "1970-01-01T01:53:48.473774",
          "1970-01-01T01:53:48.473774",
          "1970-01-01T02:41:54.122956",
          "1970-01-01T02:41:54.122956",
          "1970-01-01T02:58:34.122956",
          "1970-01-01T02:58:34.122956",
          "1970-01-01T02:58:34.122956",
          "1970-01-01T03:46:39.772139",
          "1970-01-01T03:46:39.772139",
          "1970-01-01T04:03:19.772139",
          "1970-01-01T04:03:19.772139",
          "1970-01-01T04:03:19.772139",
          "1970-01-01T04:51:25.421321",
          "1970-01-01T04:51:25.421321",
          "1970-01-01T05:08:05.421321",
          "1970-01-01T05:08:05.421321",
          "1970-01-01T05:08:05.421321",
          "1970-01-01T05:56:11.070504",
          "1970-01-01T05:56:11.070504",
          "1970-01-01T06:12:51.070504",
          "1970-01-01T06:12:51.070504",
          "1970-01-01T06:12:51.070504",
          "1970-01-01T07:00:56.719687",
          "1970-01-01T07:00:56.719687",
          "1970-01-01T07:17:36.719687",
          "1970-01-01T07:17:36.719687",
          "1970-01-01T07:17:36.719687",
          "1970-01-01T08:05:42.368869",
          "1970-01-01T08:05:42.368869",
          "1970-01-01T08:22:22.368869",
          "1970-01-01T08:22:22.368869",
          "1970-01-01T08:22:22.368869",
          "1970-01-01T09:10:28.018052",
          "1970-01-01T09:10:28.018052",
          "1970-01-01T09:27:08.018052",
          "1970-01-01T09:27:08.018052",
          "1970-01-01T09:27:08.018052",
          "1970-01-01T10:15:13.667234",
          "1970-01-01T10:15:13.667234",
          "1970-01-01T10:31:53.667234",
          "1970-01-01T10:31:53.667234",
          "1970-01-01T10:31:53.667234",
          "1970-01-01T11:19:59.316417",
          "1970-01-01T11:19:59.316417",
          "1970-01-01T11:36:39.316417",
          "1970-01-01T11:36:39.316417",
          "1970-01-01T11:36:39.316417",
          "1970-01-01T12:24:44.965599",
          "1970-01-01T12:24:44.965599",
          "1970-01-01T12:41:24.965599",
          "1970-01-01T12:41:24.965599",
          "1970-01-01T12:41:24.965599",
          "1970-01-01T13:29:30.614782",
          "1970-01-01T13:29:30.614782",
          "1970-01-01T13:46:10.614782",
          "1970-01-01T13:46:10.614782",
          "1970-01-01T13:46:10.614782",
          "1970-01-01T14:34:16.263964",
          "1970-01-01T14:34:16.263964",
          "1970-01-01T14:50:56.263964",
          "1970-01-01T14:50:56.263964",
          "1970-01-01T14:50:56.263964",
          "1970-01-01T15:39:01.913147",
          "1970-01-01T15:39:01.913147",
          "1970-01-01T15:55:41.913147",
          "1970-01-01T15:55:41.913147",
          "1970-01-01T15:55:41.913147",
          "1970-01-01T16:43:47.562329",
          "1970-01-01T16:43:47.562329",
          "1970-01-01T17:00:27.562329",
          "1970-01-01T17:00:27.562329",
          "1970-01-01T17:00:27.562329",
          "1970-01-01T17:48:33.211512",
          "1970-01-01T17:48:33.211512",
          "1970-01-01T18:05:13.211512",
          "1970-01-01T18:05:13.211512",
          "1970-01-01T18:05:13.211512",
          "1970-01-01T18:53:18.860695",
          "1970-01-01T18:53:18.860695",
          "1970-01-01T19:09:58.860695",
          "1970-01-01T19:09:58.860695",
          "1970-01-01T19:09:58.860695",
          "1970-01-01T19:58:04.509877",
          "1970-01-01T19:58:04.509877",
          "1970-01-01T20:14:44.509877",
          "1970-01-01T20:14:44.509877",
          "1970-01-01T20:14:44.509877",
          "1970-01-01T21:02:50.159060",
          "1970-01-01T21:02:50.159060",
          "1970-01-01T21:19:30.159060",
          "1970-01-01T21:19:30.159060",
          "1970-01-01T21:19:30.159060",
          "1970-01-01T22:07:35.808242",
          "1970-01-01T22:07:35.808242",
          "1970-01-01T22:24:15.808242",
          "1970-01-01T22:24:15.808242",
          "1970-01-01T22:24:15.808242",
          "1970-01-01T23:12:21.457425",
          "1970-01-01T23:12:21.457425",
          "1970-01-01T23:29:01.457425",
          "1970-01-01T23:29:01.457425",
          "1970-01-01T23:29:01.457425",
          "1970-01-02T00:17:07.106607",
          "1970-01-02T00:17:07.106607",
          "1970-01-02T00:33:47.106607",
          "1970-01-02T00:33:47.106607",
          "1970-01-02T00:33:47.106607",
          "1970-01-02T01:21:52.755790",
          "1970-01-02T01:21:52.755790",
          "1970-01-02T01:38:32.755790",
          "1970-01-02T01:38:32.755790",
          "1970-01-02T01:38:32.755790",
          "1970-01-02T02:26:38.404972",
          "1970-01-02T02:26:38.404972",
          "1970-01-02T02:43:18.404972",
          "1970-01-02T02:43:18.404972",
          "1970-01-02T02:43:18.404972",
          "1970-01-01T00:32:22.824591",
          "1970-01-01T00:32:22.824591",
          "1970-01-01T00:49:02.824591",
          "1970-01-01T00:49:02.824591",
          "1970-01-01T00:49:02.824591",
          "1970-01-01T01:37:08.473774",
          "1970-01-01T01:37:08.473774",
          "1970-01-01T01:53:48.473774",
          "1970-01-01T01:53:48.473774",
          "1970-01-01T01:53:48.473774",
          "1970-01-01T02:41:54.122956",
          "1970-01-01T02:41:54.122956",
          "1970-01-01T02:58:34.122956",
          "1970-01-01T02:58:34.122956",
          "1970-01-01T02:58:34.122956",
          "1970-01-01T03:46:39.772139",
          "1970-01-01T03:46:39.772139",
          "1970-01-01T04:03:19.772139",
          "1970-01-01T04:03:19.772139",
          "1970-01-01T04:03:19.772139",
          "1970-01-01T04:51:25.421321",
          "1970-01-01T04:51:25.421321",
          "1970-01-01T05:08:05.421321",
          "1970-01-01T05:08:05.421321",
          "1970-01-01T05:08:05.421321",
          "1970-01-01T05:56:11.070504",
          "1970-01-01T05:56:11.070504",
          "1970-01-01T06:12:51.070504",
          "1970-01-01T06:12:51.070504",
          "1970-01-01T06:12:51.070504",
          "1970-01-01T07:00:56.719687",
          "1970-01-01T07:00:56.719687",
          "1970-01-01T07:17:36.719687",
          "1970-01-01T07:17:36.719687",
          "1970-01-01T07:17:36.719687",
          "1970-01-01T08:05:42.368869",
          "1970-01-01T08:05:42.368869",
          "1970-01-01T08:22:22.368869",
          "1970-01-01T08:22:22.368869",
          "1970-01-01T08:22:22.368869",
          "1970-01-01T09:10:28.018052",
          "1970-01-01T09:10:28.018052",
          "1970-01-01T09:27:08.018052",
          "1970-01-01T09:27:08.018052",
          "1970-01-01T09:27:08.018052",
          "1970-01-01T10:15:13.667234",
          "1970-01-01T10:15:13.667234",
          "1970-01-01T10:31:53.667234",
          "1970-01-01T10:31:53.667234",
          "1970-01-01T10:31:53.667234",
          "1970-01-01T11:19:59.316417",
          "1970-01-01T11:19:59.316417",
          "1970-01-01T11:36:39.316417",
          "1970-01-01T11:36:39.316417",
          "1970-01-01T11:36:39.316417",
          "1970-01-01T12:24:44.965599",
          "1970-01-01T12:24:44.965599",
          "1970-01-01T12:41:24.965599",
          "1970-01-01T12:41:24.965599",
          "1970-01-01T12:41:24.965599",
          "1970-01-01T13:29:30.614782",
          "1970-01-01T13:29:30.614782",
          "1970-01-01T13:46:10.614782",
          "1970-01-01T13:46:10.614782",
          "1970-01-01T13:46:10.614782",
          "1970-01-01T14:34:16.263964",
          "1970-01-01T14:34:16.263964",
          "1970-01-01T14:50:56.263964",
          "1970-01-01T14:50:56.263964",
          "1970-01-01T14:50:56.263964",
          "1970-01-01T15:39:01.913147",
          "1970-01-01T15:39:01.913147",
          "1970-01-01T15:55:41.913147",
          "1970-01-01T15:55:41.913147",
          "1970-01-01T15:55:41.913147",
          "1970-01-01T16:43:47.562329",
          "1970-01-01T16:43:47.562329",
          "1970-01-01T17:00:27.562329",
          "1970-01-01T17:00:27.562329",
          "1970-01-01T17:00:27.562329",
          "1970-01-01T17:48:33.211512",
          "1970-01-01T17:48:33.211512",
          "1970-01-01T18:05:13.211512",
          "1970-01-01T18:05:13.211512",
          "1970-01-01T18:05:13.211512",
          "1970-01-01T18:53:18.860695",
          "1970-01-01T18:53:18.860695",
          "1970-01-01T19:09:58.860695",
          "1970-01-01T19:09:58.860695",
          "1970-01-01T19:09:58.860695",
          "1970-01-01T19:58:04.509877",
          "1970-01-01T19:58:04.509877",
          "1970-01-01T20:14:44.509877",
          "1970-01-01T20:14:44.509877",
          "1970-01-01T20:14:44.509877",
          "1970-01-01T21:02:50.159060",
          "1970-01-01T21:02:50.159060",
          "1970-01-01T21:19:30.159060",
          "1970-01-01T21:19:30.159060",
          "1970-01-01T21:19:30.159060",
          "1970-01-01T22:07:35.808242",
          "1970-01-01T22:07:35.808242",
          "1970-01-01T22:24:15.808242",
          "1970-01-01T22:24:15.808242",
          "1970-01-01T22:24:15.808242",
          "1970-01-01T23:12:21.457425",
          "1970-01-01T23:12:21.457425",
          "1970-01-01T23:29:01.457425",
          "1970-01-01T23:29:01.457425",
          "1970-01-01T23:29:01.457425",
          "1970-01-02T00:17:07.106607",
          "1970-01-02T00:17:07.106607",
          "1970-01-02T00:33:47.106607",
          "1970-01-02T00:33:47.106607",
          "1970-01-02T00:33:47.106607",
          "1970-01-02T01:21:52.755790",
          "1970-01-02T01:21:52.755790",
          "1970-01-02T01:38:32.755790",
          "1970-01-02T01:38:32.755790",
          "1970-01-02T01:38:32.755790",
          "1970-01-02T02:26:38.404972",
          "1970-01-02T02:26:38.404972",
          "1970-01-02T02:43:18.404972",
          "1970-01-02T02:43:18.404972",
          "1970-01-02T02:43:18.404972"
         ],
         "y": [
          "vessel01",
          "vessel01",
          "vessel01",
          "vessel01",
          null,
          "vessel01",
          "vessel01",
          "vessel01",
          "vessel01",
          null,
          "vessel01",
          "vessel01",
          "vessel01",
          "vessel01",
          null,
          "vessel01",
          "vessel01",
          "vessel01",
          "vessel01",
          null,
          "vessel01",
          "vessel01",
          "vessel01",
          "vessel01",
          null,
          "vessel01",
          "vessel01",
          "vessel01",
          "vessel01",
          null,
          "vessel01",
          "vessel01",
          "vessel01",
          "vessel01",
          null,
          "vessel01",
          "vessel01",
          "vessel01",
          "vessel01",
          null,
          "vessel01",
          "vessel01",
          "vessel01",
          "vessel01",
          null,
          "vessel01",
          "vessel01",
          "vessel01",
          "vessel01",
          null,
          "vessel01",
          "vessel01",
          "vessel01",
          "vessel01",
          null,
          "vessel01",
          "vessel01",
          "vessel01",
          "vessel01",
          null,
          "vessel01",
          "vessel01",
          "vessel01",
          "vessel01",
          null,
          "vessel01",
          "vessel01",
          "vessel01",
          "vessel01",
          null,
          "vessel01",
          "vessel01",
          "vessel01",
          "vessel01",
          null,
          "vessel01",
          "vessel01",
          "vessel01",
          "vessel01",
          null,
          "vessel01",
          "vessel01",
          "vessel01",
          "vessel01",
          null,
          "vessel01",
          "vessel01",
          "vessel01",
          "vessel01",
          null,
          "vessel01",
          "vessel01",
          "vessel01",
          "vessel01",
          null,
          "vessel01",
          "vessel01",
          "vessel01",
          "vessel01",
          null,
          "vessel01",
          "vessel01",
          "vessel01",
          "vessel01",
          null,
          "vessel01",
          "vessel01",
          "vessel01",
          "vessel01",
          null,
          "vessel01",
          "vessel01",
          "vessel01",
          "vessel01",
          null,
          "vessel01",
          "vessel01",
          "vessel01",
          "vessel01",
          null,
          "vessel01",
          "vessel01",
          "vessel01",
          "vessel01",
          null,
          "to_site",
          "to_site",
          "to_site",
          "to_site",
          null,
          "to_site",
          "to_site",
          "to_site",
          "to_site",
          null,
          "to_site",
          "to_site",
          "to_site",
          "to_site",
          null,
          "to_site",
          "to_site",
          "to_site",
          "to_site",
          null,
          "to_site",
          "to_site",
          "to_site",
          "to_site",
          null,
          "to_site",
          "to_site",
          "to_site",
          "to_site",
          null,
          "to_site",
          "to_site",
          "to_site",
          "to_site",
          null,
          "to_site",
          "to_site",
          "to_site",
          "to_site",
          null,
          "to_site",
          "to_site",
          "to_site",
          "to_site",
          null,
          "to_site",
          "to_site",
          "to_site",
          "to_site",
          null,
          "to_site",
          "to_site",
          "to_site",
          "to_site",
          null,
          "to_site",
          "to_site",
          "to_site",
          "to_site",
          null,
          "to_site",
          "to_site",
          "to_site",
          "to_site",
          null,
          "to_site",
          "to_site",
          "to_site",
          "to_site",
          null,
          "to_site",
          "to_site",
          "to_site",
          "to_site",
          null,
          "to_site",
          "to_site",
          "to_site",
          "to_site",
          null,
          "to_site",
          "to_site",
          "to_site",
          "to_site",
          null,
          "to_site",
          "to_site",
          "to_site",
          "to_site",
          null,
          "to_site",
          "to_site",
          "to_site",
          "to_site",
          null,
          "to_site",
          "to_site",
          "to_site",
          "to_site",
          null,
          "to_site",
          "to_site",
          "to_site",
          "to_site",
          null,
          "to_site",
          "to_site",
          "to_site",
          "to_site",
          null,
          "to_site",
          "to_site",
          "to_site",
          "to_site",
          null,
          "to_site",
          "to_site",
          "to_site",
          "to_site",
          null,
          "to_site",
          "to_site",
          "to_site",
          "to_site",
          null
         ]
        }
       ],
       "layout": {
        "autosize": true,
        "hovermode": "closest",
        "legend": {
         "orientation": "h",
         "x": 0,
         "y": -0.2
        },
        "template": {
         "data": {
          "bar": [
           {
            "error_x": {
             "color": "#2a3f5f"
            },
            "error_y": {
             "color": "#2a3f5f"
            },
            "marker": {
             "line": {
              "color": "#E5ECF6",
              "width": 0.5
             },
             "pattern": {
              "fillmode": "overlay",
              "size": 10,
              "solidity": 0.2
             }
            },
            "type": "bar"
           }
          ],
          "barpolar": [
           {
            "marker": {
             "line": {
              "color": "#E5ECF6",
              "width": 0.5
             },
             "pattern": {
              "fillmode": "overlay",
              "size": 10,
              "solidity": 0.2
             }
            },
            "type": "barpolar"
           }
          ],
          "carpet": [
           {
            "aaxis": {
             "endlinecolor": "#2a3f5f",
             "gridcolor": "white",
             "linecolor": "white",
             "minorgridcolor": "white",
             "startlinecolor": "#2a3f5f"
            },
            "baxis": {
             "endlinecolor": "#2a3f5f",
             "gridcolor": "white",
             "linecolor": "white",
             "minorgridcolor": "white",
             "startlinecolor": "#2a3f5f"
            },
            "type": "carpet"
           }
          ],
          "choropleth": [
           {
            "colorbar": {
             "outlinewidth": 0,
             "ticks": ""
            },
            "type": "choropleth"
           }
          ],
          "contour": [
           {
            "colorbar": {
             "outlinewidth": 0,
             "ticks": ""
            },
            "colorscale": [
             [
              0,
              "#0d0887"
             ],
             [
              0.1111111111111111,
              "#46039f"
             ],
             [
              0.2222222222222222,
              "#7201a8"
             ],
             [
              0.3333333333333333,
              "#9c179e"
             ],
             [
              0.4444444444444444,
              "#bd3786"
             ],
             [
              0.5555555555555556,
              "#d8576b"
             ],
             [
              0.6666666666666666,
              "#ed7953"
             ],
             [
              0.7777777777777778,
              "#fb9f3a"
             ],
             [
              0.8888888888888888,
              "#fdca26"
             ],
             [
              1,
              "#f0f921"
             ]
            ],
            "type": "contour"
           }
          ],
          "contourcarpet": [
           {
            "colorbar": {
             "outlinewidth": 0,
             "ticks": ""
            },
            "type": "contourcarpet"
           }
          ],
          "heatmap": [
           {
            "colorbar": {
             "outlinewidth": 0,
             "ticks": ""
            },
            "colorscale": [
             [
              0,
              "#0d0887"
             ],
             [
              0.1111111111111111,
              "#46039f"
             ],
             [
              0.2222222222222222,
              "#7201a8"
             ],
             [
              0.3333333333333333,
              "#9c179e"
             ],
             [
              0.4444444444444444,
              "#bd3786"
             ],
             [
              0.5555555555555556,
              "#d8576b"
             ],
             [
              0.6666666666666666,
              "#ed7953"
             ],
             [
              0.7777777777777778,
              "#fb9f3a"
             ],
             [
              0.8888888888888888,
              "#fdca26"
             ],
             [
              1,
              "#f0f921"
             ]
            ],
            "type": "heatmap"
           }
          ],
          "heatmapgl": [
           {
            "colorbar": {
             "outlinewidth": 0,
             "ticks": ""
            },
            "colorscale": [
             [
              0,
              "#0d0887"
             ],
             [
              0.1111111111111111,
              "#46039f"
             ],
             [
              0.2222222222222222,
              "#7201a8"
             ],
             [
              0.3333333333333333,
              "#9c179e"
             ],
             [
              0.4444444444444444,
              "#bd3786"
             ],
             [
              0.5555555555555556,
              "#d8576b"
             ],
             [
              0.6666666666666666,
              "#ed7953"
             ],
             [
              0.7777777777777778,
              "#fb9f3a"
             ],
             [
              0.8888888888888888,
              "#fdca26"
             ],
             [
              1,
              "#f0f921"
             ]
            ],
            "type": "heatmapgl"
           }
          ],
          "histogram": [
           {
            "marker": {
             "pattern": {
              "fillmode": "overlay",
              "size": 10,
              "solidity": 0.2
             }
            },
            "type": "histogram"
           }
          ],
          "histogram2d": [
           {
            "colorbar": {
             "outlinewidth": 0,
             "ticks": ""
            },
            "colorscale": [
             [
              0,
              "#0d0887"
             ],
             [
              0.1111111111111111,
              "#46039f"
             ],
             [
              0.2222222222222222,
              "#7201a8"
             ],
             [
              0.3333333333333333,
              "#9c179e"
             ],
             [
              0.4444444444444444,
              "#bd3786"
             ],
             [
              0.5555555555555556,
              "#d8576b"
             ],
             [
              0.6666666666666666,
              "#ed7953"
             ],
             [
              0.7777777777777778,
              "#fb9f3a"
             ],
             [
              0.8888888888888888,
              "#fdca26"
             ],
             [
              1,
              "#f0f921"
             ]
            ],
            "type": "histogram2d"
           }
          ],
          "histogram2dcontour": [
           {
            "colorbar": {
             "outlinewidth": 0,
             "ticks": ""
            },
            "colorscale": [
             [
              0,
              "#0d0887"
             ],
             [
              0.1111111111111111,
              "#46039f"
             ],
             [
              0.2222222222222222,
              "#7201a8"
             ],
             [
              0.3333333333333333,
              "#9c179e"
             ],
             [
              0.4444444444444444,
              "#bd3786"
             ],
             [
              0.5555555555555556,
              "#d8576b"
             ],
             [
              0.6666666666666666,
              "#ed7953"
             ],
             [
              0.7777777777777778,
              "#fb9f3a"
             ],
             [
              0.8888888888888888,
              "#fdca26"
             ],
             [
              1,
              "#f0f921"
             ]
            ],
            "type": "histogram2dcontour"
           }
          ],
          "mesh3d": [
           {
            "colorbar": {
             "outlinewidth": 0,
             "ticks": ""
            },
            "type": "mesh3d"
           }
          ],
          "parcoords": [
           {
            "line": {
             "colorbar": {
              "outlinewidth": 0,
              "ticks": ""
             }
            },
            "type": "parcoords"
           }
          ],
          "pie": [
           {
            "automargin": true,
            "type": "pie"
           }
          ],
          "scatter": [
           {
            "fillpattern": {
             "fillmode": "overlay",
             "size": 10,
             "solidity": 0.2
            },
            "type": "scatter"
           }
          ],
          "scatter3d": [
           {
            "line": {
             "colorbar": {
              "outlinewidth": 0,
              "ticks": ""
             }
            },
            "marker": {
             "colorbar": {
              "outlinewidth": 0,
              "ticks": ""
             }
            },
            "type": "scatter3d"
           }
          ],
          "scattercarpet": [
           {
            "marker": {
             "colorbar": {
              "outlinewidth": 0,
              "ticks": ""
             }
            },
            "type": "scattercarpet"
           }
          ],
          "scattergeo": [
           {
            "marker": {
             "colorbar": {
              "outlinewidth": 0,
              "ticks": ""
             }
            },
            "type": "scattergeo"
           }
          ],
          "scattergl": [
           {
            "marker": {
             "colorbar": {
              "outlinewidth": 0,
              "ticks": ""
             }
            },
            "type": "scattergl"
           }
          ],
          "scattermapbox": [
           {
            "marker": {
             "colorbar": {
              "outlinewidth": 0,
              "ticks": ""
             }
            },
            "type": "scattermapbox"
           }
          ],
          "scatterpolar": [
           {
            "marker": {
             "colorbar": {
              "outlinewidth": 0,
              "ticks": ""
             }
            },
            "type": "scatterpolar"
           }
          ],
          "scatterpolargl": [
           {
            "marker": {
             "colorbar": {
              "outlinewidth": 0,
              "ticks": ""
             }
            },
            "type": "scatterpolargl"
           }
          ],
          "scatterternary": [
           {
            "marker": {
             "colorbar": {
              "outlinewidth": 0,
              "ticks": ""
             }
            },
            "type": "scatterternary"
           }
          ],
          "surface": [
           {
            "colorbar": {
             "outlinewidth": 0,
             "ticks": ""
            },
            "colorscale": [
             [
              0,
              "#0d0887"
             ],
             [
              0.1111111111111111,
              "#46039f"
             ],
             [
              0.2222222222222222,
              "#7201a8"
             ],
             [
              0.3333333333333333,
              "#9c179e"
             ],
             [
              0.4444444444444444,
              "#bd3786"
             ],
             [
              0.5555555555555556,
              "#d8576b"
             ],
             [
              0.6666666666666666,
              "#ed7953"
             ],
             [
              0.7777777777777778,
              "#fb9f3a"
             ],
             [
              0.8888888888888888,
              "#fdca26"
             ],
             [
              1,
              "#f0f921"
             ]
            ],
            "type": "surface"
           }
          ],
          "table": [
           {
            "cells": {
             "fill": {
              "color": "#EBF0F8"
             },
             "line": {
              "color": "white"
             }
            },
            "header": {
             "fill": {
              "color": "#C8D4E3"
             },
             "line": {
              "color": "white"
             }
            },
            "type": "table"
           }
          ]
         },
         "layout": {
          "annotationdefaults": {
           "arrowcolor": "#2a3f5f",
           "arrowhead": 0,
           "arrowwidth": 1
          },
          "autotypenumbers": "strict",
          "coloraxis": {
           "colorbar": {
            "outlinewidth": 0,
            "ticks": ""
           }
          },
          "colorscale": {
           "diverging": [
            [
             0,
             "#8e0152"
            ],
            [
             0.1,
             "#c51b7d"
            ],
            [
             0.2,
             "#de77ae"
            ],
            [
             0.3,
             "#f1b6da"
            ],
            [
             0.4,
             "#fde0ef"
            ],
            [
             0.5,
             "#f7f7f7"
            ],
            [
             0.6,
             "#e6f5d0"
            ],
            [
             0.7,
             "#b8e186"
            ],
            [
             0.8,
             "#7fbc41"
            ],
            [
             0.9,
             "#4d9221"
            ],
            [
             1,
             "#276419"
            ]
           ],
           "sequential": [
            [
             0,
             "#0d0887"
            ],
            [
             0.1111111111111111,
             "#46039f"
            ],
            [
             0.2222222222222222,
             "#7201a8"
            ],
            [
             0.3333333333333333,
             "#9c179e"
            ],
            [
             0.4444444444444444,
             "#bd3786"
            ],
            [
             0.5555555555555556,
             "#d8576b"
            ],
            [
             0.6666666666666666,
             "#ed7953"
            ],
            [
             0.7777777777777778,
             "#fb9f3a"
            ],
            [
             0.8888888888888888,
             "#fdca26"
            ],
            [
             1,
             "#f0f921"
            ]
           ],
           "sequentialminus": [
            [
             0,
             "#0d0887"
            ],
            [
             0.1111111111111111,
             "#46039f"
            ],
            [
             0.2222222222222222,
             "#7201a8"
            ],
            [
             0.3333333333333333,
             "#9c179e"
            ],
            [
             0.4444444444444444,
             "#bd3786"
            ],
            [
             0.5555555555555556,
             "#d8576b"
            ],
            [
             0.6666666666666666,
             "#ed7953"
            ],
            [
             0.7777777777777778,
             "#fb9f3a"
            ],
            [
             0.8888888888888888,
             "#fdca26"
            ],
            [
             1,
             "#f0f921"
            ]
           ]
          },
          "colorway": [
           "#636efa",
           "#EF553B",
           "#00cc96",
           "#ab63fa",
           "#FFA15A",
           "#19d3f3",
           "#FF6692",
           "#B6E880",
           "#FF97FF",
           "#FECB52"
          ],
          "font": {
           "color": "#2a3f5f"
          },
          "geo": {
           "bgcolor": "white",
           "lakecolor": "white",
           "landcolor": "#E5ECF6",
           "showlakes": true,
           "showland": true,
           "subunitcolor": "white"
          },
          "hoverlabel": {
           "align": "left"
          },
          "hovermode": "closest",
          "mapbox": {
           "style": "light"
          },
          "paper_bgcolor": "white",
          "plot_bgcolor": "#E5ECF6",
          "polar": {
           "angularaxis": {
            "gridcolor": "white",
            "linecolor": "white",
            "ticks": ""
           },
           "bgcolor": "#E5ECF6",
           "radialaxis": {
            "gridcolor": "white",
            "linecolor": "white",
            "ticks": ""
           }
          },
          "scene": {
           "xaxis": {
            "backgroundcolor": "#E5ECF6",
            "gridcolor": "white",
            "gridwidth": 2,
            "linecolor": "white",
            "showbackground": true,
            "ticks": "",
            "zerolinecolor": "white"
           },
           "yaxis": {
            "backgroundcolor": "#E5ECF6",
            "gridcolor": "white",
            "gridwidth": 2,
            "linecolor": "white",
            "showbackground": true,
            "ticks": "",
            "zerolinecolor": "white"
           },
           "zaxis": {
            "backgroundcolor": "#E5ECF6",
            "gridcolor": "white",
            "gridwidth": 2,
            "linecolor": "white",
            "showbackground": true,
            "ticks": "",
            "zerolinecolor": "white"
           }
          },
          "shapedefaults": {
           "line": {
            "color": "#2a3f5f"
           }
          },
          "ternary": {
           "aaxis": {
            "gridcolor": "white",
            "linecolor": "white",
            "ticks": ""
           },
           "baxis": {
            "gridcolor": "white",
            "linecolor": "white",
            "ticks": ""
           },
           "bgcolor": "#E5ECF6",
           "caxis": {
            "gridcolor": "white",
            "linecolor": "white",
            "ticks": ""
           }
          },
          "title": {
           "x": 0.05
          },
          "xaxis": {
           "automargin": true,
           "gridcolor": "white",
           "linecolor": "white",
           "ticks": "",
           "title": {
            "standoff": 15
           },
           "zerolinecolor": "white",
           "zerolinewidth": 2
          },
          "yaxis": {
           "automargin": true,
           "gridcolor": "white",
           "linecolor": "white",
           "ticks": "",
           "title": {
            "standoff": 15
           },
           "zerolinecolor": "white",
           "zerolinewidth": 2
          }
         }
        },
        "title": {
         "text": "GANTT Chart"
        },
        "xaxis": {
         "range": [
          "1970-01-01T00:00:00",
          "1970-01-02T02:43:18.404972"
         ],
         "title": {
          "font": {
           "color": "#7f7f7f",
           "family": "Courier New, monospace",
           "size": 18
          },
          "text": "Time"
         },
         "type": "date"
        },
        "yaxis": {
         "autorange": true,
         "range": [
          -0.11111111111111112,
          2.111111111111111
         ],
         "title": {
          "font": {
           "color": "#7f7f7f",
           "family": "Courier New, monospace",
           "size": 18
          },
          "text": "Activities"
         },
         "type": "category"
        }
       }
      },
      "image/png": "[encoded data removed]",
      "text/html": [
       "<div>                            <div id=\"a8a1ddc6-7650-4ffc-96b2-c8daaf0384bb\" class=\"plotly-graph-div\" style=\"height:525px; width:100%;\"></div>            <script type=\"text/javascript\">                require([\"plotly\"], function(Plotly) {                    window.PLOTLYENV=window.PLOTLYENV || {};                                    if (document.getElementById(\"a8a1ddc6-7650-4ffc-96b2-c8daaf0384bb\")) {                    Plotly.newPlot(                        \"a8a1ddc6-7650-4ffc-96b2-c8daaf0384bb\",                        [{\"connectgaps\":false,\"hoverinfo\":\"y+name\",\"line\":{\"color\":\"rgb(152,229,50)\",\"width\":10},\"mode\":\"lines\",\"name\":\"basic activity\",\"x\":[\"1970-01-01T00:49:02.824591\",\"1970-01-01T00:49:02.824591\",\"1970-01-01T00:49:02.824591\",\"1970-01-01T00:49:02.824591\",\"1970-01-01T00:49:02.824591\",\"1970-01-01T01:53:48.473774\",\"1970-01-01T01:53:48.473774\",\"1970-01-01T01:53:48.473774\",\"1970-01-01T01:53:48.473774\",\"1970-01-01T01:53:48.473774\",\"1970-01-01T02:58:34.122956\",\"1970-01-01T02:58:34.122956\",\"1970-01-01T02:58:34.122956\",\"1970-01-01T02:58:34.122956\",\"1970-01-01T02:58:34.122956\",\"1970-01-01T02:58:34.122956\",\"1970-01-01T02:58:34.122956\",\"1970-01-01T04:03:19.772139\",\"1970-01-01T04:03:19.772139\",\"1970-01-01T04:03:19.772139\",\"1970-01-01T05:08:05.421321\",\"1970-01-01T05:08:05.421321\",\"1970-01-01T05:08:05.421321\",\"1970-01-01T05:08:05.421321\",\"1970-01-01T05:08:05.421321\",\"1970-01-01T06:12:51.070504\",\"1970-01-01T06:12:51.070504\",\"1970-01-01T06:12:51.070504\",\"1970-01-01T06:12:51.070504\",\"1970-01-01T06:12:51.070504\",\"1970-01-01T07:17:36.719687\",\"1970-01-01T07:17:36.719687\",\"1970-01-01T07:17:36.719687\",\"1970-01-01T07:17:36.719687\",\"1970-01-01T07:17:36.719687\",\"1970-01-01T08:22:22.368869\",\"1970-01-01T08:22:22.368869\",\"1970-01-01T08:22:22.368869\",\"1970-01-01T08:22:22.368869\",\"1970-01-01T08:22:22.368869\",\"1970-01-01T09:27:08.018052\",\"1970-01-01T09:27:08.018052\",\"1970-01-01T09:27:08.018052\",\"1970-01-01T09:27:08.018052\",\"1970-01-01T09:27:08.018052\",\"1970-01-01T09:27:08.018052\",\"1970-01-01T09:27:08.018052\",\"1970-01-01T10:31:53.667234\",\"1970-01-01T10:31:53.667234\",\"1970-01-01T10:31:53.667234\",\"1970-01-01T11:36:39.316417\",\"1970-01-01T11:36:39.316417\",\"1970-01-01T11:36:39.316417\",\"1970-01-01T11:36:39.316417\",\"1970-01-01T11:36:39.316417\",\"1970-01-01T12:41:24.965599\",\"1970-01-01T12:41:24.965599\",\"1970-01-01T12:41:24.965599\",\"1970-01-01T12:41:24.965599\",\"1970-01-01T12:41:24.965599\",\"1970-01-01T13:46:10.614782\",\"1970-01-01T13:46:10.614782\",\"1970-01-01T13:46:10.614782\",\"1970-01-01T13:46:10.614782\",\"1970-01-01T13:46:10.614782\",\"1970-01-01T14:50:56.263964\",\"1970-01-01T14:50:56.263964\",\"1970-01-01T14:50:56.263964\",\"1970-01-01T14:50:56.263964\",\"1970-01-01T14:50:56.263964\",\"1970-01-01T15:55:41.913147\",\"1970-01-01T15:55:41.913147\",\"1970-01-01T15:55:41.913147\",\"1970-01-01T15:55:41.913147\",\"1970-01-01T15:55:41.913147\",\"1970-01-01T17:00:27.562329\",\"1970-01-01T17:00:27.562329\",\"1970-01-01T17:00:27.562329\",\"1970-01-01T17:00:27.562329\",\"1970-01-01T17:00:27.562329\",\"1970-01-01T18:05:13.211512\",\"1970-01-01T18:05:13.211512\",\"1970-01-01T18:05:13.211512\",\"1970-01-01T18:05:13.211512\",\"1970-01-01T18:05:13.211512\",\"1970-01-01T19:09:58.860695\",\"1970-01-01T19:09:58.860695\",\"1970-01-01T19:09:58.860695\",\"1970-01-01T19:09:58.860695\",\"1970-01-01T19:09:58.860695\",\"1970-01-01T20:14:44.509877\",\"1970-01-01T20:14:44.509877\",\"1970-01-01T20:14:44.509877\",\"1970-01-01T20:14:44.509877\",\"1970-01-01T20:14:44.509877\",\"1970-01-01T21:19:30.159060\",\"1970-01-01T21:19:30.159060\",\"1970-01-01T21:19:30.159060\",\"1970-01-01T21:19:30.159060\",\"1970-01-01T21:19:30.159060\",\"1970-01-01T22:24:15.808242\",\"1970-01-01T22:24:15.808242\",\"1970-01-01T22:24:15.808242\",\"1970-01-01T22:24:15.808242\",\"1970-01-01T22:24:15.808242\",\"1970-01-01T23:29:01.457425\",\"1970-01-01T23:29:01.457425\",\"1970-01-01T23:29:01.457425\",\"1970-01-01T23:29:01.457425\",\"1970-01-01T23:29:01.457425\",\"1970-01-01T23:29:01.457425\",\"1970-01-01T23:29:01.457425\",\"1970-01-02T00:33:47.106607\",\"1970-01-02T00:33:47.106607\",\"1970-01-02T00:33:47.106607\",\"1970-01-02T01:38:32.755790\",\"1970-01-02T01:38:32.755790\",\"1970-01-02T01:38:32.755790\",\"1970-01-02T01:38:32.755790\",\"1970-01-02T01:38:32.755790\",\"1970-01-02T02:43:18.404972\",\"1970-01-02T02:43:18.404972\",\"1970-01-02T02:43:18.404972\",\"1970-01-02T02:43:18.404972\",\"1970-01-02T02:43:18.404972\"],\"y\":[\"vessel01\",\"vessel01\",\"vessel01\",\"vessel01\",null,\"vessel01\",\"vessel01\",\"vessel01\",\"vessel01\",null,\"vessel01\",\"vessel01\",\"vessel01\",\"vessel01\",null,\"vessel01\",\"vessel01\",\"vessel01\",\"vessel01\",null,\"vessel01\",\"vessel01\",\"vessel01\",\"vessel01\",null,\"vessel01\",\"vessel01\",\"vessel01\",\"vessel01\",null,\"vessel01\",\"vessel01\",\"vessel01\",\"vessel01\",null,\"vessel01\",\"vessel01\",\"vessel01\",\"vessel01\",null,\"vessel01\",\"vessel01\",\"vessel01\",\"vessel01\",null,\"vessel01\",\"vessel01\",\"vessel01\",\"vessel01\",null,\"vessel01\",\"vessel01\",\"vessel01\",\"vessel01\",null,\"vessel01\",\"vessel01\",\"vessel01\",\"vessel01\",null,\"vessel01\",\"vessel01\",\"vessel01\",\"vessel01\",null,\"vessel01\",\"vessel01\",\"vessel01\",\"vessel01\",null,\"vessel01\",\"vessel01\",\"vessel01\",\"vessel01\",null,\"vessel01\",\"vessel01\",\"vessel01\",\"vessel01\",null,\"vessel01\",\"vessel01\",\"vessel01\",\"vessel01\",null,\"vessel01\",\"vessel01\",\"vessel01\",\"vessel01\",null,\"vessel01\",\"vessel01\",\"vessel01\",\"vessel01\",null,\"vessel01\",\"vessel01\",\"vessel01\",\"vessel01\",null,\"vessel01\",\"vessel01\",\"vessel01\",\"vessel01\",null,\"vessel01\",\"vessel01\",\"vessel01\",\"vessel01\",null,\"vessel01\",\"vessel01\",\"vessel01\",\"vessel01\",null,\"vessel01\",\"vessel01\",\"vessel01\",\"vessel01\",null,\"vessel01\",\"vessel01\",\"vessel01\",\"vessel01\",null],\"type\":\"scatter\"},{\"connectgaps\":false,\"hoverinfo\":\"y+name\",\"line\":{\"color\":\"rgb(188,9,86)\",\"width\":10},\"mode\":\"lines\",\"name\":\"sailing full\",\"x\":[\"1970-01-01T00:16:40\",\"1970-01-01T00:16:40\",\"1970-01-01T00:32:22.824591\",\"1970-01-01T00:32:22.824591\",\"1970-01-01T00:32:22.824591\",\"1970-01-01T01:21:25.649183\",\"1970-01-01T01:21:25.649183\",\"1970-01-01T01:37:08.473774\",\"1970-01-01T01:37:08.473774\",\"1970-01-01T01:37:08.473774\",\"1970-01-01T02:26:11.298365\",\"1970-01-01T02:26:11.298365\",\"1970-01-01T02:41:54.122956\",\"1970-01-01T02:41:54.122956\",\"1970-01-01T02:41:54.122956\",\"1970-01-01T03:30:56.947548\",\"1970-01-01T03:30:56.947548\",\"1970-01-01T03:46:39.772139\",\"1970-01-01T03:46:39.772139\",\"1970-01-01T03:46:39.772139\",\"1970-01-01T04:35:42.596730\",\"1970-01-01T04:35:42.596730\",\"1970-01-01T04:51:25.421321\",\"1970-01-01T04:51:25.421321\",\"1970-01-01T04:51:25.421321\",\"1970-01-01T05:40:28.245913\",\"1970-01-01T05:40:28.245913\",\"1970-01-01T05:56:11.070504\",\"1970-01-01T05:56:11.070504\",\"1970-01-01T05:56:11.070504\",\"1970-01-01T06:45:13.895095\",\"1970-01-01T06:45:13.895095\",\"1970-01-01T07:00:56.719687\",\"1970-01-01T07:00:56.719687\",\"1970-01-01T07:00:56.719687\",\"1970-01-01T07:49:59.544278\",\"1970-01-01T07:49:59.544278\",\"1970-01-01T08:05:42.368869\",\"1970-01-01T08:05:42.368869\",\"1970-01-01T08:05:42.368869\",\"1970-01-01T08:54:45.193460\",\"1970-01-01T08:54:45.193460\",\"1970-01-01T09:10:28.018052\",\"1970-01-01T09:10:28.018052\",\"1970-01-01T09:10:28.018052\",\"1970-01-01T09:59:30.842643\",\"1970-01-01T09:59:30.842643\",\"1970-01-01T10:15:13.667234\",\"1970-01-01T10:15:13.667234\",\"1970-01-01T10:15:13.667234\",\"1970-01-01T11:04:16.491825\",\"1970-01-01T11:04:16.491825\",\"1970-01-01T11:19:59.316417\",\"1970-01-01T11:19:59.316417\",\"1970-01-01T11:19:59.316417\",\"1970-01-01T12:09:02.141008\",\"1970-01-01T12:09:02.141008\",\"1970-01-01T12:24:44.965599\",\"1970-01-01T12:24:44.965599\",\"1970-01-01T12:24:44.965599\",\"1970-01-01T13:13:47.790191\",\"1970-01-01T13:13:47.790191\",\"1970-01-01T13:29:30.614782\",\"1970-01-01T13:29:30.614782\",\"1970-01-01T13:29:30.614782\",\"1970-01-01T14:18:33.439373\",\"1970-01-01T14:18:33.439373\",\"1970-01-01T14:34:16.263964\",\"1970-01-01T14:34:16.263964\",\"1970-01-01T14:34:16.263964\",\"1970-01-01T15:23:19.088556\",\"1970-01-01T15:23:19.088556\",\"1970-01-01T15:39:01.913147\",\"1970-01-01T15:39:01.913147\",\"1970-01-01T15:39:01.913147\",\"1970-01-01T16:28:04.737738\",\"1970-01-01T16:28:04.737738\",\"1970-01-01T16:43:47.562329\",\"1970-01-01T16:43:47.562329\",\"1970-01-01T16:43:47.562329\",\"1970-01-01T17:32:50.386921\",\"1970-01-01T17:32:50.386921\",\"1970-01-01T17:48:33.211512\",\"1970-01-01T17:48:33.211512\",\"1970-01-01T17:48:33.211512\",\"1970-01-01T18:37:36.036103\",\"1970-01-01T18:37:36.036103\",\"1970-01-01T18:53:18.860695\",\"1970-01-01T18:53:18.860695\",\"1970-01-01T18:53:18.860695\",\"1970-01-01T19:42:21.685286\",\"1970-01-01T19:42:21.685286\",\"1970-01-01T19:58:04.509877\",\"1970-01-01T19:58:04.509877\",\"1970-01-01T19:58:04.509877\",\"1970-01-01T20:47:07.334468\",\"1970-01-01T20:47:07.334468\",\"1970-01-01T21:02:50.159060\",\"1970-01-01T21:02:50.159060\",\"1970-01-01T21:02:50.159060\",\"1970-01-01T21:51:52.983651\",\"1970-01-01T21:51:52.983651\",\"1970-01-01T22:07:35.808242\",\"1970-01-01T22:07:35.808242\",\"1970-01-01T22:07:35.808242\",\"1970-01-01T22:56:38.632833\",\"1970-01-01T22:56:38.632833\",\"1970-01-01T23:12:21.457425\",\"1970-01-01T23:12:21.457425\",\"1970-01-01T23:12:21.457425\",\"1970-01-02T00:01:24.282016\",\"1970-01-02T00:01:24.282016\",\"1970-01-02T00:17:07.106607\",\"1970-01-02T00:17:07.106607\",\"1970-01-02T00:17:07.106607\",\"1970-01-02T01:06:09.931199\",\"1970-01-02T01:06:09.931199\",\"1970-01-02T01:21:52.755790\",\"1970-01-02T01:21:52.755790\",\"1970-01-02T01:21:52.755790\",\"1970-01-02T02:10:55.580381\",\"1970-01-02T02:10:55.580381\",\"1970-01-02T02:26:38.404972\",\"1970-01-02T02:26:38.404972\",\"1970-01-02T02:26:38.404972\"],\"y\":[\"vessel01\",\"vessel01\",\"vessel01\",\"vessel01\",null,\"vessel01\",\"vessel01\",\"vessel01\",\"vessel01\",null,\"vessel01\",\"vessel01\",\"vessel01\",\"vessel01\",null,\"vessel01\",\"vessel01\",\"vessel01\",\"vessel01\",null,\"vessel01\",\"vessel01\",\"vessel01\",\"vessel01\",null,\"vessel01\",\"vessel01\",\"vessel01\",\"vessel01\",null,\"vessel01\",\"vessel01\",\"vessel01\",\"vessel01\",null,\"vessel01\",\"vessel01\",\"vessel01\",\"vessel01\",null,\"vessel01\",\"vessel01\",\"vessel01\",\"vessel01\",null,\"vessel01\",\"vessel01\",\"vessel01\",\"vessel01\",null,\"vessel01\",\"vessel01\",\"vessel01\",\"vessel01\",null,\"vessel01\",\"vessel01\",\"vessel01\",\"vessel01\",null,\"vessel01\",\"vessel01\",\"vessel01\",\"vessel01\",null,\"vessel01\",\"vessel01\",\"vessel01\",\"vessel01\",null,\"vessel01\",\"vessel01\",\"vessel01\",\"vessel01\",null,\"vessel01\",\"vessel01\",\"vessel01\",\"vessel01\",null,\"vessel01\",\"vessel01\",\"vessel01\",\"vessel01\",null,\"vessel01\",\"vessel01\",\"vessel01\",\"vessel01\",null,\"vessel01\",\"vessel01\",\"vessel01\",\"vessel01\",null,\"vessel01\",\"vessel01\",\"vessel01\",\"vessel01\",null,\"vessel01\",\"vessel01\",\"vessel01\",\"vessel01\",null,\"vessel01\",\"vessel01\",\"vessel01\",\"vessel01\",null,\"vessel01\",\"vessel01\",\"vessel01\",\"vessel01\",null,\"vessel01\",\"vessel01\",\"vessel01\",\"vessel01\",null,\"vessel01\",\"vessel01\",\"vessel01\",\"vessel01\",null],\"type\":\"scatter\"},{\"connectgaps\":false,\"hoverinfo\":\"y+name\",\"line\":{\"color\":\"rgb(224,45,122)\",\"width\":10},\"mode\":\"lines\",\"name\":\"sailing empty\",\"x\":[\"1970-01-01T00:00:00\",\"1970-01-01T00:00:00\",\"1970-01-01T00:00:00\",\"1970-01-01T00:00:00\",\"1970-01-01T00:00:00\",\"1970-01-01T00:49:02.824591\",\"1970-01-01T00:49:02.824591\",\"1970-01-01T01:04:45.649183\",\"1970-01-01T01:04:45.649183\",\"1970-01-01T01:04:45.649183\",\"1970-01-01T01:53:48.473774\",\"1970-01-01T01:53:48.473774\",\"1970-01-01T02:09:31.298365\",\"1970-01-01T02:09:31.298365\",\"1970-01-01T02:09:31.298365\",\"1970-01-01T02:58:34.122956\",\"1970-01-01T02:58:34.122956\",\"1970-01-01T03:14:16.947548\",\"1970-01-01T03:14:16.947548\",\"1970-01-01T03:14:16.947548\",\"1970-01-01T04:03:19.772139\",\"1970-01-01T04:03:19.772139\",\"1970-01-01T04:19:02.596730\",\"1970-01-01T04:19:02.596730\",\"1970-01-01T04:19:02.596730\",\"1970-01-01T05:08:05.421321\",\"1970-01-01T05:08:05.421321\",\"1970-01-01T05:23:48.245913\",\"1970-01-01T05:23:48.245913\",\"1970-01-01T05:23:48.245913\",\"1970-01-01T06:12:51.070504\",\"1970-01-01T06:12:51.070504\",\"1970-01-01T06:28:33.895095\",\"1970-01-01T06:28:33.895095\",\"1970-01-01T06:28:33.895095\",\"1970-01-01T07:17:36.719687\",\"1970-01-01T07:17:36.719687\",\"1970-01-01T07:33:19.544278\",\"1970-01-01T07:33:19.544278\",\"1970-01-01T07:33:19.544278\",\"1970-01-01T08:22:22.368869\",\"1970-01-01T08:22:22.368869\",\"1970-01-01T08:38:05.193460\",\"1970-01-01T08:38:05.193460\",\"1970-01-01T08:38:05.193460\",\"1970-01-01T09:27:08.018052\",\"1970-01-01T09:27:08.018052\",\"1970-01-01T09:42:50.842643\",\"1970-01-01T09:42:50.842643\",\"1970-01-01T09:42:50.842643\",\"1970-01-01T10:31:53.667234\",\"1970-01-01T10:31:53.667234\",\"1970-01-01T10:47:36.491825\",\"1970-01-01T10:47:36.491825\",\"1970-01-01T10:47:36.491825\",\"1970-01-01T11:36:39.316417\",\"1970-01-01T11:36:39.316417\",\"1970-01-01T11:52:22.141008\",\"1970-01-01T11:52:22.141008\",\"1970-01-01T11:52:22.141008\",\"1970-01-01T12:41:24.965599\",\"1970-01-01T12:41:24.965599\",\"1970-01-01T12:57:07.790191\",\"1970-01-01T12:57:07.790191\",\"1970-01-01T12:57:07.790191\",\"1970-01-01T13:46:10.614782\",\"1970-01-01T13:46:10.614782\",\"1970-01-01T14:01:53.439373\",\"1970-01-01T14:01:53.439373\",\"1970-01-01T14:01:53.439373\",\"1970-01-01T14:50:56.263964\",\"1970-01-01T14:50:56.263964\",\"1970-01-01T15:06:39.088556\",\"1970-01-01T15:06:39.088556\",\"1970-01-01T15:06:39.088556\",\"1970-01-01T15:55:41.913147\",\"1970-01-01T15:55:41.913147\",\"1970-01-01T16:11:24.737738\",\"1970-01-01T16:11:24.737738\",\"1970-01-01T16:11:24.737738\",\"1970-01-01T17:00:27.562329\",\"1970-01-01T17:00:27.562329\",\"1970-01-01T17:16:10.386921\",\"1970-01-01T17:16:10.386921\",\"1970-01-01T17:16:10.386921\",\"1970-01-01T18:05:13.211512\",\"1970-01-01T18:05:13.211512\",\"1970-01-01T18:20:56.036103\",\"1970-01-01T18:20:56.036103\",\"1970-01-01T18:20:56.036103\",\"1970-01-01T19:09:58.860695\",\"1970-01-01T19:09:58.860695\",\"1970-01-01T19:25:41.685286\",\"1970-01-01T19:25:41.685286\",\"1970-01-01T19:25:41.685286\",\"1970-01-01T20:14:44.509877\",\"1970-01-01T20:14:44.509877\",\"1970-01-01T20:30:27.334468\",\"1970-01-01T20:30:27.334468\",\"1970-01-01T20:30:27.334468\",\"1970-01-01T21:19:30.159060\",\"1970-01-01T21:19:30.159060\",\"1970-01-01T21:35:12.983651\",\"1970-01-01T21:35:12.983651\",\"1970-01-01T21:35:12.983651\",\"1970-01-01T22:24:15.808242\",\"1970-01-01T22:24:15.808242\",\"1970-01-01T22:39:58.632833\",\"1970-01-01T22:39:58.632833\",\"1970-01-01T22:39:58.632833\",\"1970-01-01T23:29:01.457425\",\"1970-01-01T23:29:01.457425\",\"1970-01-01T23:44:44.282016\",\"1970-01-01T23:44:44.282016\",\"1970-01-01T23:44:44.282016\",\"1970-01-02T00:33:47.106607\",\"1970-01-02T00:33:47.106607\",\"1970-01-02T00:49:29.931199\",\"1970-01-02T00:49:29.931199\",\"1970-01-02T00:49:29.931199\",\"1970-01-02T01:38:32.755790\",\"1970-01-02T01:38:32.755790\",\"1970-01-02T01:54:15.580381\",\"1970-01-02T01:54:15.580381\",\"1970-01-02T01:54:15.580381\"],\"y\":[\"vessel01\",\"vessel01\",\"vessel01\",\"vessel01\",null,\"vessel01\",\"vessel01\",\"vessel01\",\"vessel01\",null,\"vessel01\",\"vessel01\",\"vessel01\",\"vessel01\",null,\"vessel01\",\"vessel01\",\"vessel01\",\"vessel01\",null,\"vessel01\",\"vessel01\",\"vessel01\",\"vessel01\",null,\"vessel01\",\"vessel01\",\"vessel01\",\"vessel01\",null,\"vessel01\",\"vessel01\",\"vessel01\",\"vessel01\",null,\"vessel01\",\"vessel01\",\"vessel01\",\"vessel01\",null,\"vessel01\",\"vessel01\",\"vessel01\",\"vessel01\",null,\"vessel01\",\"vessel01\",\"vessel01\",\"vessel01\",null,\"vessel01\",\"vessel01\",\"vessel01\",\"vessel01\",null,\"vessel01\",\"vessel01\",\"vessel01\",\"vessel01\",null,\"vessel01\",\"vessel01\",\"vessel01\",\"vessel01\",null,\"vessel01\",\"vessel01\",\"vessel01\",\"vessel01\",null,\"vessel01\",\"vessel01\",\"vessel01\",\"vessel01\",null,\"vessel01\",\"vessel01\",\"vessel01\",\"vessel01\",null,\"vessel01\",\"vessel01\",\"vessel01\",\"vessel01\",null,\"vessel01\",\"vessel01\",\"vessel01\",\"vessel01\",null,\"vessel01\",\"vessel01\",\"vessel01\",\"vessel01\",null,\"vessel01\",\"vessel01\",\"vessel01\",\"vessel01\",null,\"vessel01\",\"vessel01\",\"vessel01\",\"vessel01\",null,\"vessel01\",\"vessel01\",\"vessel01\",\"vessel01\",null,\"vessel01\",\"vessel01\",\"vessel01\",\"vessel01\",null,\"vessel01\",\"vessel01\",\"vessel01\",\"vessel01\",null,\"vessel01\",\"vessel01\",\"vessel01\",\"vessel01\",null],\"type\":\"scatter\"},{\"connectgaps\":false,\"hoverinfo\":\"y+name\",\"line\":{\"color\":\"rgb(4,81,158)\",\"width\":10},\"mode\":\"lines\",\"name\":\"loading\",\"x\":[\"1970-01-01T00:00:00\",\"1970-01-01T00:00:00\",\"1970-01-01T00:16:40\",\"1970-01-01T00:16:40\",\"1970-01-01T00:16:40\",\"1970-01-01T01:04:45.649183\",\"1970-01-01T01:04:45.649183\",\"1970-01-01T01:21:25.649183\",\"1970-01-01T01:21:25.649183\",\"1970-01-01T01:21:25.649183\",\"1970-01-01T02:09:31.298365\",\"1970-01-01T02:09:31.298365\",\"1970-01-01T02:26:11.298365\",\"1970-01-01T02:26:11.298365\",\"1970-01-01T02:26:11.298365\",\"1970-01-01T03:14:16.947548\",\"1970-01-01T03:14:16.947548\",\"1970-01-01T03:30:56.947548\",\"1970-01-01T03:30:56.947548\",\"1970-01-01T03:30:56.947548\",\"1970-01-01T04:19:02.596730\",\"1970-01-01T04:19:02.596730\",\"1970-01-01T04:35:42.596730\",\"1970-01-01T04:35:42.596730\",\"1970-01-01T04:35:42.596730\",\"1970-01-01T05:23:48.245913\",\"1970-01-01T05:23:48.245913\",\"1970-01-01T05:40:28.245913\",\"1970-01-01T05:40:28.245913\",\"1970-01-01T05:40:28.245913\",\"1970-01-01T06:28:33.895095\",\"1970-01-01T06:28:33.895095\",\"1970-01-01T06:45:13.895095\",\"1970-01-01T06:45:13.895095\",\"1970-01-01T06:45:13.895095\",\"1970-01-01T07:33:19.544278\",\"1970-01-01T07:33:19.544278\",\"1970-01-01T07:49:59.544278\",\"1970-01-01T07:49:59.544278\",\"1970-01-01T07:49:59.544278\",\"1970-01-01T08:38:05.193460\",\"1970-01-01T08:38:05.193460\",\"1970-01-01T08:54:45.193460\",\"1970-01-01T08:54:45.193460\",\"1970-01-01T08:54:45.193460\",\"1970-01-01T09:42:50.842643\",\"1970-01-01T09:42:50.842643\",\"1970-01-01T09:59:30.842643\",\"1970-01-01T09:59:30.842643\",\"1970-01-01T09:59:30.842643\",\"1970-01-01T10:47:36.491825\",\"1970-01-01T10:47:36.491825\",\"1970-01-01T11:04:16.491825\",\"1970-01-01T11:04:16.491825\",\"1970-01-01T11:04:16.491825\",\"1970-01-01T11:52:22.141008\",\"1970-01-01T11:52:22.141008\",\"1970-01-01T12:09:02.141008\",\"1970-01-01T12:09:02.141008\",\"1970-01-01T12:09:02.141008\",\"1970-01-01T12:57:07.790191\",\"1970-01-01T12:57:07.790191\",\"1970-01-01T13:13:47.790191\",\"1970-01-01T13:13:47.790191\",\"1970-01-01T13:13:47.790191\",\"1970-01-01T14:01:53.439373\",\"1970-01-01T14:01:53.439373\",\"1970-01-01T14:18:33.439373\",\"1970-01-01T14:18:33.439373\",\"1970-01-01T14:18:33.439373\",\"1970-01-01T15:06:39.088556\",\"1970-01-01T15:06:39.088556\",\"1970-01-01T15:23:19.088556\",\"1970-01-01T15:23:19.088556\",\"1970-01-01T15:23:19.088556\",\"1970-01-01T16:11:24.737738\",\"1970-01-01T16:11:24.737738\",\"1970-01-01T16:28:04.737738\",\"1970-01-01T16:28:04.737738\",\"1970-01-01T16:28:04.737738\",\"1970-01-01T17:16:10.386921\",\"1970-01-01T17:16:10.386921\",\"1970-01-01T17:32:50.386921\",\"1970-01-01T17:32:50.386921\",\"1970-01-01T17:32:50.386921\",\"1970-01-01T18:20:56.036103\",\"1970-01-01T18:20:56.036103\",\"1970-01-01T18:37:36.036103\",\"1970-01-01T18:37:36.036103\",\"1970-01-01T18:37:36.036103\",\"1970-01-01T19:25:41.685286\",\"1970-01-01T19:25:41.685286\",\"1970-01-01T19:42:21.685286\",\"1970-01-01T19:42:21.685286\",\"1970-01-01T19:42:21.685286\",\"1970-01-01T20:30:27.334468\",\"1970-01-01T20:30:27.334468\",\"1970-01-01T20:47:07.334468\",\"1970-01-01T20:47:07.334468\",\"1970-01-01T20:47:07.334468\",\"1970-01-01T21:35:12.983651\",\"1970-01-01T21:35:12.983651\",\"1970-01-01T21:51:52.983651\",\"1970-01-01T21:51:52.983651\",\"1970-01-01T21:51:52.983651\",\"1970-01-01T22:39:58.632833\",\"1970-01-01T22:39:58.632833\",\"1970-01-01T22:56:38.632833\",\"1970-01-01T22:56:38.632833\",\"1970-01-01T22:56:38.632833\",\"1970-01-01T23:44:44.282016\",\"1970-01-01T23:44:44.282016\",\"1970-01-02T00:01:24.282016\",\"1970-01-02T00:01:24.282016\",\"1970-01-02T00:01:24.282016\",\"1970-01-02T00:49:29.931199\",\"1970-01-02T00:49:29.931199\",\"1970-01-02T01:06:09.931199\",\"1970-01-02T01:06:09.931199\",\"1970-01-02T01:06:09.931199\",\"1970-01-02T01:54:15.580381\",\"1970-01-02T01:54:15.580381\",\"1970-01-02T02:10:55.580381\",\"1970-01-02T02:10:55.580381\",\"1970-01-02T02:10:55.580381\",\"1970-01-01T00:00:00\",\"1970-01-01T00:00:00\",\"1970-01-01T00:16:40\",\"1970-01-01T00:16:40\",\"1970-01-01T00:16:40\",\"1970-01-01T01:04:45.649183\",\"1970-01-01T01:04:45.649183\",\"1970-01-01T01:21:25.649183\",\"1970-01-01T01:21:25.649183\",\"1970-01-01T01:21:25.649183\",\"1970-01-01T02:09:31.298365\",\"1970-01-01T02:09:31.298365\",\"1970-01-01T02:26:11.298365\",\"1970-01-01T02:26:11.298365\",\"1970-01-01T02:26:11.298365\",\"1970-01-01T03:14:16.947548\",\"1970-01-01T03:14:16.947548\",\"1970-01-01T03:30:56.947548\",\"1970-01-01T03:30:56.947548\",\"1970-01-01T03:30:56.947548\",\"1970-01-01T04:19:02.596730\",\"1970-01-01T04:19:02.596730\",\"1970-01-01T04:35:42.596730\",\"1970-01-01T04:35:42.596730\",\"1970-01-01T04:35:42.596730\",\"1970-01-01T05:23:48.245913\",\"1970-01-01T05:23:48.245913\",\"1970-01-01T05:40:28.245913\",\"1970-01-01T05:40:28.245913\",\"1970-01-01T05:40:28.245913\",\"1970-01-01T06:28:33.895095\",\"1970-01-01T06:28:33.895095\",\"1970-01-01T06:45:13.895095\",\"1970-01-01T06:45:13.895095\",\"1970-01-01T06:45:13.895095\",\"1970-01-01T07:33:19.544278\",\"1970-01-01T07:33:19.544278\",\"1970-01-01T07:49:59.544278\",\"1970-01-01T07:49:59.544278\",\"1970-01-01T07:49:59.544278\",\"1970-01-01T08:38:05.193460\",\"1970-01-01T08:38:05.193460\",\"1970-01-01T08:54:45.193460\",\"1970-01-01T08:54:45.193460\",\"1970-01-01T08:54:45.193460\",\"1970-01-01T09:42:50.842643\",\"1970-01-01T09:42:50.842643\",\"1970-01-01T09:59:30.842643\",\"1970-01-01T09:59:30.842643\",\"1970-01-01T09:59:30.842643\",\"1970-01-01T10:47:36.491825\",\"1970-01-01T10:47:36.491825\",\"1970-01-01T11:04:16.491825\",\"1970-01-01T11:04:16.491825\",\"1970-01-01T11:04:16.491825\",\"1970-01-01T11:52:22.141008\",\"1970-01-01T11:52:22.141008\",\"1970-01-01T12:09:02.141008\",\"1970-01-01T12:09:02.141008\",\"1970-01-01T12:09:02.141008\",\"1970-01-01T12:57:07.790191\",\"1970-01-01T12:57:07.790191\",\"1970-01-01T13:13:47.790191\",\"1970-01-01T13:13:47.790191\",\"1970-01-01T13:13:47.790191\",\"1970-01-01T14:01:53.439373\",\"1970-01-01T14:01:53.439373\",\"1970-01-01T14:18:33.439373\",\"1970-01-01T14:18:33.439373\",\"1970-01-01T14:18:33.439373\",\"1970-01-01T15:06:39.088556\",\"1970-01-01T15:06:39.088556\",\"1970-01-01T15:23:19.088556\",\"1970-01-01T15:23:19.088556\",\"1970-01-01T15:23:19.088556\",\"1970-01-01T16:11:24.737738\",\"1970-01-01T16:11:24.737738\",\"1970-01-01T16:28:04.737738\",\"1970-01-01T16:28:04.737738\",\"1970-01-01T16:28:04.737738\",\"1970-01-01T17:16:10.386921\",\"1970-01-01T17:16:10.386921\",\"1970-01-01T17:32:50.386921\",\"1970-01-01T17:32:50.386921\",\"1970-01-01T17:32:50.386921\",\"1970-01-01T18:20:56.036103\",\"1970-01-01T18:20:56.036103\",\"1970-01-01T18:37:36.036103\",\"1970-01-01T18:37:36.036103\",\"1970-01-01T18:37:36.036103\",\"1970-01-01T19:25:41.685286\",\"1970-01-01T19:25:41.685286\",\"1970-01-01T19:42:21.685286\",\"1970-01-01T19:42:21.685286\",\"1970-01-01T19:42:21.685286\",\"1970-01-01T20:30:27.334468\",\"1970-01-01T20:30:27.334468\",\"1970-01-01T20:47:07.334468\",\"1970-01-01T20:47:07.334468\",\"1970-01-01T20:47:07.334468\",\"1970-01-01T21:35:12.983651\",\"1970-01-01T21:35:12.983651\",\"1970-01-01T21:51:52.983651\",\"1970-01-01T21:51:52.983651\",\"1970-01-01T21:51:52.983651\",\"1970-01-01T22:39:58.632833\",\"1970-01-01T22:39:58.632833\",\"1970-01-01T22:56:38.632833\",\"1970-01-01T22:56:38.632833\",\"1970-01-01T22:56:38.632833\",\"1970-01-01T23:44:44.282016\",\"1970-01-01T23:44:44.282016\",\"1970-01-02T00:01:24.282016\",\"1970-01-02T00:01:24.282016\",\"1970-01-02T00:01:24.282016\",\"1970-01-02T00:49:29.931199\",\"1970-01-02T00:49:29.931199\",\"1970-01-02T01:06:09.931199\",\"1970-01-02T01:06:09.931199\",\"1970-01-02T01:06:09.931199\",\"1970-01-02T01:54:15.580381\",\"1970-01-02T01:54:15.580381\",\"1970-01-02T02:10:55.580381\",\"1970-01-02T02:10:55.580381\",\"1970-01-02T02:10:55.580381\"],\"y\":[\"vessel01\",\"vessel01\",\"vessel01\",\"vessel01\",null,\"vessel01\",\"vessel01\",\"vessel01\",\"vessel01\",null,\"vessel01\",\"vessel01\",\"vessel01\",\"vessel01\",null,\"vessel01\",\"vessel01\",\"vessel01\",\"vessel01\",null,\"vessel01\",\"vessel01\",\"vessel01\",\"vessel01\",null,\"vessel01\",\"vessel01\",\"vessel01\",\"vessel01\",null,\"vessel01\",\"vessel01\",\"vessel01\",\"vessel01\",null,\"vessel01\",\"vessel01\",\"vessel01\",\"vessel01\",null,\"vessel01\",\"vessel01\",\"vessel01\",\"vessel01\",null,\"vessel01\",\"vessel01\",\"vessel01\",\"vessel01\",null,\"vessel01\",\"vessel01\",\"vessel01\",\"vessel01\",null,\"vessel01\",\"vessel01\",\"vessel01\",\"vessel01\",null,\"vessel01\",\"vessel01\",\"vessel01\",\"vessel01\",null,\"vessel01\",\"vessel01\",\"vessel01\",\"vessel01\",null,\"vessel01\",\"vessel01\",\"vessel01\",\"vessel01\",null,\"vessel01\",\"vessel01\",\"vessel01\",\"vessel01\",null,\"vessel01\",\"vessel01\",\"vessel01\",\"vessel01\",null,\"vessel01\",\"vessel01\",\"vessel01\",\"vessel01\",null,\"vessel01\",\"vessel01\",\"vessel01\",\"vessel01\",null,\"vessel01\",\"vessel01\",\"vessel01\",\"vessel01\",null,\"vessel01\",\"vessel01\",\"vessel01\",\"vessel01\",null,\"vessel01\",\"vessel01\",\"vessel01\",\"vessel01\",null,\"vessel01\",\"vessel01\",\"vessel01\",\"vessel01\",null,\"vessel01\",\"vessel01\",\"vessel01\",\"vessel01\",null,\"vessel01\",\"vessel01\",\"vessel01\",\"vessel01\",null,\"from_site\",\"from_site\",\"from_site\",\"from_site\",null,\"from_site\",\"from_site\",\"from_site\",\"from_site\",null,\"from_site\",\"from_site\",\"from_site\",\"from_site\",null,\"from_site\",\"from_site\",\"from_site\",\"from_site\",null,\"from_site\",\"from_site\",\"from_site\",\"from_site\",null,\"from_site\",\"from_site\",\"from_site\",\"from_site\",null,\"from_site\",\"from_site\",\"from_site\",\"from_site\",null,\"from_site\",\"from_site\",\"from_site\",\"from_site\",null,\"from_site\",\"from_site\",\"from_site\",\"from_site\",null,\"from_site\",\"from_site\",\"from_site\",\"from_site\",null,\"from_site\",\"from_site\",\"from_site\",\"from_site\",null,\"from_site\",\"from_site\",\"from_site\",\"from_site\",null,\"from_site\",\"from_site\",\"from_site\",\"from_site\",null,\"from_site\",\"from_site\",\"from_site\",\"from_site\",null,\"from_site\",\"from_site\",\"from_site\",\"from_site\",null,\"from_site\",\"from_site\",\"from_site\",\"from_site\",null,\"from_site\",\"from_site\",\"from_site\",\"from_site\",null,\"from_site\",\"from_site\",\"from_site\",\"from_site\",null,\"from_site\",\"from_site\",\"from_site\",\"from_site\",null,\"from_site\",\"from_site\",\"from_site\",\"from_site\",null,\"from_site\",\"from_site\",\"from_site\",\"from_site\",null,\"from_site\",\"from_site\",\"from_site\",\"from_site\",null,\"from_site\",\"from_site\",\"from_site\",\"from_site\",null,\"from_site\",\"from_site\",\"from_site\",\"from_site\",null,\"from_site\",\"from_site\",\"from_site\",\"from_site\",null],\"type\":\"scatter\"},{\"connectgaps\":false,\"hoverinfo\":\"y+name\",\"line\":{\"color\":\"rgb(40,117,194)\",\"width\":10},\"mode\":\"lines\",\"name\":\"unloading\",\"x\":[\"1970-01-01T00:32:22.824591\",\"1970-01-01T00:32:22.824591\",\"1970-01-01T00:49:02.824591\",\"1970-01-01T00:49:02.824591\",\"1970-01-01T00:49:02.824591\",\"1970-01-01T01:37:08.473774\",\"1970-01-01T01:37:08.473774\",\"1970-01-01T01:53:48.473774\",\"1970-01-01T01:53:48.473774\",\"1970-01-01T01:53:48.473774\",\"1970-01-01T02:41:54.122956\",\"1970-01-01T02:41:54.122956\",\"1970-01-01T02:58:34.122956\",\"1970-01-01T02:58:34.122956\",\"1970-01-01T02:58:34.122956\",\"1970-01-01T03:46:39.772139\",\"1970-01-01T03:46:39.772139\",\"1970-01-01T04:03:19.772139\",\"1970-01-01T04:03:19.772139\",\"1970-01-01T04:03:19.772139\",\"1970-01-01T04:51:25.421321\",\"1970-01-01T04:51:25.421321\",\"1970-01-01T05:08:05.421321\",\"1970-01-01T05:08:05.421321\",\"1970-01-01T05:08:05.421321\",\"1970-01-01T05:56:11.070504\",\"1970-01-01T05:56:11.070504\",\"1970-01-01T06:12:51.070504\",\"1970-01-01T06:12:51.070504\",\"1970-01-01T06:12:51.070504\",\"1970-01-01T07:00:56.719687\",\"1970-01-01T07:00:56.719687\",\"1970-01-01T07:17:36.719687\",\"1970-01-01T07:17:36.719687\",\"1970-01-01T07:17:36.719687\",\"1970-01-01T08:05:42.368869\",\"1970-01-01T08:05:42.368869\",\"1970-01-01T08:22:22.368869\",\"1970-01-01T08:22:22.368869\",\"1970-01-01T08:22:22.368869\",\"1970-01-01T09:10:28.018052\",\"1970-01-01T09:10:28.018052\",\"1970-01-01T09:27:08.018052\",\"1970-01-01T09:27:08.018052\",\"1970-01-01T09:27:08.018052\",\"1970-01-01T10:15:13.667234\",\"1970-01-01T10:15:13.667234\",\"1970-01-01T10:31:53.667234\",\"1970-01-01T10:31:53.667234\",\"1970-01-01T10:31:53.667234\",\"1970-01-01T11:19:59.316417\",\"1970-01-01T11:19:59.316417\",\"1970-01-01T11:36:39.316417\",\"1970-01-01T11:36:39.316417\",\"1970-01-01T11:36:39.316417\",\"1970-01-01T12:24:44.965599\",\"1970-01-01T12:24:44.965599\",\"1970-01-01T12:41:24.965599\",\"1970-01-01T12:41:24.965599\",\"1970-01-01T12:41:24.965599\",\"1970-01-01T13:29:30.614782\",\"1970-01-01T13:29:30.614782\",\"1970-01-01T13:46:10.614782\",\"1970-01-01T13:46:10.614782\",\"1970-01-01T13:46:10.614782\",\"1970-01-01T14:34:16.263964\",\"1970-01-01T14:34:16.263964\",\"1970-01-01T14:50:56.263964\",\"1970-01-01T14:50:56.263964\",\"1970-01-01T14:50:56.263964\",\"1970-01-01T15:39:01.913147\",\"1970-01-01T15:39:01.913147\",\"1970-01-01T15:55:41.913147\",\"1970-01-01T15:55:41.913147\",\"1970-01-01T15:55:41.913147\",\"1970-01-01T16:43:47.562329\",\"1970-01-01T16:43:47.562329\",\"1970-01-01T17:00:27.562329\",\"1970-01-01T17:00:27.562329\",\"1970-01-01T17:00:27.562329\",\"1970-01-01T17:48:33.211512\",\"1970-01-01T17:48:33.211512\",\"1970-01-01T18:05:13.211512\",\"1970-01-01T18:05:13.211512\",\"1970-01-01T18:05:13.211512\",\"1970-01-01T18:53:18.860695\",\"1970-01-01T18:53:18.860695\",\"1970-01-01T19:09:58.860695\",\"1970-01-01T19:09:58.860695\",\"1970-01-01T19:09:58.860695\",\"1970-01-01T19:58:04.509877\",\"1970-01-01T19:58:04.509877\",\"1970-01-01T20:14:44.509877\",\"1970-01-01T20:14:44.509877\",\"1970-01-01T20:14:44.509877\",\"1970-01-01T21:02:50.159060\",\"1970-01-01T21:02:50.159060\",\"1970-01-01T21:19:30.159060\",\"1970-01-01T21:19:30.159060\",\"1970-01-01T21:19:30.159060\",\"1970-01-01T22:07:35.808242\",\"1970-01-01T22:07:35.808242\",\"1970-01-01T22:24:15.808242\",\"1970-01-01T22:24:15.808242\",\"1970-01-01T22:24:15.808242\",\"1970-01-01T23:12:21.457425\",\"1970-01-01T23:12:21.457425\",\"1970-01-01T23:29:01.457425\",\"1970-01-01T23:29:01.457425\",\"1970-01-01T23:29:01.457425\",\"1970-01-02T00:17:07.106607\",\"1970-01-02T00:17:07.106607\",\"1970-01-02T00:33:47.106607\",\"1970-01-02T00:33:47.106607\",\"1970-01-02T00:33:47.106607\",\"1970-01-02T01:21:52.755790\",\"1970-01-02T01:21:52.755790\",\"1970-01-02T01:38:32.755790\",\"1970-01-02T01:38:32.755790\",\"1970-01-02T01:38:32.755790\",\"1970-01-02T02:26:38.404972\",\"1970-01-02T02:26:38.404972\",\"1970-01-02T02:43:18.404972\",\"1970-01-02T02:43:18.404972\",\"1970-01-02T02:43:18.404972\",\"1970-01-01T00:32:22.824591\",\"1970-01-01T00:32:22.824591\",\"1970-01-01T00:49:02.824591\",\"1970-01-01T00:49:02.824591\",\"1970-01-01T00:49:02.824591\",\"1970-01-01T01:37:08.473774\",\"1970-01-01T01:37:08.473774\",\"1970-01-01T01:53:48.473774\",\"1970-01-01T01:53:48.473774\",\"1970-01-01T01:53:48.473774\",\"1970-01-01T02:41:54.122956\",\"1970-01-01T02:41:54.122956\",\"1970-01-01T02:58:34.122956\",\"1970-01-01T02:58:34.122956\",\"1970-01-01T02:58:34.122956\",\"1970-01-01T03:46:39.772139\",\"1970-01-01T03:46:39.772139\",\"1970-01-01T04:03:19.772139\",\"1970-01-01T04:03:19.772139\",\"1970-01-01T04:03:19.772139\",\"1970-01-01T04:51:25.421321\",\"1970-01-01T04:51:25.421321\",\"1970-01-01T05:08:05.421321\",\"1970-01-01T05:08:05.421321\",\"1970-01-01T05:08:05.421321\",\"1970-01-01T05:56:11.070504\",\"1970-01-01T05:56:11.070504\",\"1970-01-01T06:12:51.070504\",\"1970-01-01T06:12:51.070504\",\"1970-01-01T06:12:51.070504\",\"1970-01-01T07:00:56.719687\",\"1970-01-01T07:00:56.719687\",\"1970-01-01T07:17:36.719687\",\"1970-01-01T07:17:36.719687\",\"1970-01-01T07:17:36.719687\",\"1970-01-01T08:05:42.368869\",\"1970-01-01T08:05:42.368869\",\"1970-01-01T08:22:22.368869\",\"1970-01-01T08:22:22.368869\",\"1970-01-01T08:22:22.368869\",\"1970-01-01T09:10:28.018052\",\"1970-01-01T09:10:28.018052\",\"1970-01-01T09:27:08.018052\",\"1970-01-01T09:27:08.018052\",\"1970-01-01T09:27:08.018052\",\"1970-01-01T10:15:13.667234\",\"1970-01-01T10:15:13.667234\",\"1970-01-01T10:31:53.667234\",\"1970-01-01T10:31:53.667234\",\"1970-01-01T10:31:53.667234\",\"1970-01-01T11:19:59.316417\",\"1970-01-01T11:19:59.316417\",\"1970-01-01T11:36:39.316417\",\"1970-01-01T11:36:39.316417\",\"1970-01-01T11:36:39.316417\",\"1970-01-01T12:24:44.965599\",\"1970-01-01T12:24:44.965599\",\"1970-01-01T12:41:24.965599\",\"1970-01-01T12:41:24.965599\",\"1970-01-01T12:41:24.965599\",\"1970-01-01T13:29:30.614782\",\"1970-01-01T13:29:30.614782\",\"1970-01-01T13:46:10.614782\",\"1970-01-01T13:46:10.614782\",\"1970-01-01T13:46:10.614782\",\"1970-01-01T14:34:16.263964\",\"1970-01-01T14:34:16.263964\",\"1970-01-01T14:50:56.263964\",\"1970-01-01T14:50:56.263964\",\"1970-01-01T14:50:56.263964\",\"1970-01-01T15:39:01.913147\",\"1970-01-01T15:39:01.913147\",\"1970-01-01T15:55:41.913147\",\"1970-01-01T15:55:41.913147\",\"1970-01-01T15:55:41.913147\",\"1970-01-01T16:43:47.562329\",\"1970-01-01T16:43:47.562329\",\"1970-01-01T17:00:27.562329\",\"1970-01-01T17:00:27.562329\",\"1970-01-01T17:00:27.562329\",\"1970-01-01T17:48:33.211512\",\"1970-01-01T17:48:33.211512\",\"1970-01-01T18:05:13.211512\",\"1970-01-01T18:05:13.211512\",\"1970-01-01T18:05:13.211512\",\"1970-01-01T18:53:18.860695\",\"1970-01-01T18:53:18.860695\",\"1970-01-01T19:09:58.860695\",\"1970-01-01T19:09:58.860695\",\"1970-01-01T19:09:58.860695\",\"1970-01-01T19:58:04.509877\",\"1970-01-01T19:58:04.509877\",\"1970-01-01T20:14:44.509877\",\"1970-01-01T20:14:44.509877\",\"1970-01-01T20:14:44.509877\",\"1970-01-01T21:02:50.159060\",\"1970-01-01T21:02:50.159060\",\"1970-01-01T21:19:30.159060\",\"1970-01-01T21:19:30.159060\",\"1970-01-01T21:19:30.159060\",\"1970-01-01T22:07:35.808242\",\"1970-01-01T22:07:35.808242\",\"1970-01-01T22:24:15.808242\",\"1970-01-01T22:24:15.808242\",\"1970-01-01T22:24:15.808242\",\"1970-01-01T23:12:21.457425\",\"1970-01-01T23:12:21.457425\",\"1970-01-01T23:29:01.457425\",\"1970-01-01T23:29:01.457425\",\"1970-01-01T23:29:01.457425\",\"1970-01-02T00:17:07.106607\",\"1970-01-02T00:17:07.106607\",\"1970-01-02T00:33:47.106607\",\"1970-01-02T00:33:47.106607\",\"1970-01-02T00:33:47.106607\",\"1970-01-02T01:21:52.755790\",\"1970-01-02T01:21:52.755790\",\"1970-01-02T01:38:32.755790\",\"1970-01-02T01:38:32.755790\",\"1970-01-02T01:38:32.755790\",\"1970-01-02T02:26:38.404972\",\"1970-01-02T02:26:38.404972\",\"1970-01-02T02:43:18.404972\",\"1970-01-02T02:43:18.404972\",\"1970-01-02T02:43:18.404972\"],\"y\":[\"vessel01\",\"vessel01\",\"vessel01\",\"vessel01\",null,\"vessel01\",\"vessel01\",\"vessel01\",\"vessel01\",null,\"vessel01\",\"vessel01\",\"vessel01\",\"vessel01\",null,\"vessel01\",\"vessel01\",\"vessel01\",\"vessel01\",null,\"vessel01\",\"vessel01\",\"vessel01\",\"vessel01\",null,\"vessel01\",\"vessel01\",\"vessel01\",\"vessel01\",null,\"vessel01\",\"vessel01\",\"vessel01\",\"vessel01\",null,\"vessel01\",\"vessel01\",\"vessel01\",\"vessel01\",null,\"vessel01\",\"vessel01\",\"vessel01\",\"vessel01\",null,\"vessel01\",\"vessel01\",\"vessel01\",\"vessel01\",null,\"vessel01\",\"vessel01\",\"vessel01\",\"vessel01\",null,\"vessel01\",\"vessel01\",\"vessel01\",\"vessel01\",null,\"vessel01\",\"vessel01\",\"vessel01\",\"vessel01\",null,\"vessel01\",\"vessel01\",\"vessel01\",\"vessel01\",null,\"vessel01\",\"vessel01\",\"vessel01\",\"vessel01\",null,\"vessel01\",\"vessel01\",\"vessel01\",\"vessel01\",null,\"vessel01\",\"vessel01\",\"vessel01\",\"vessel01\",null,\"vessel01\",\"vessel01\",\"vessel01\",\"vessel01\",null,\"vessel01\",\"vessel01\",\"vessel01\",\"vessel01\",null,\"vessel01\",\"vessel01\",\"vessel01\",\"vessel01\",null,\"vessel01\",\"vessel01\",\"vessel01\",\"vessel01\",null,\"vessel01\",\"vessel01\",\"vessel01\",\"vessel01\",null,\"vessel01\",\"vessel01\",\"vessel01\",\"vessel01\",null,\"vessel01\",\"vessel01\",\"vessel01\",\"vessel01\",null,\"vessel01\",\"vessel01\",\"vessel01\",\"vessel01\",null,\"to_site\",\"to_site\",\"to_site\",\"to_site\",null,\"to_site\",\"to_site\",\"to_site\",\"to_site\",null,\"to_site\",\"to_site\",\"to_site\",\"to_site\",null,\"to_site\",\"to_site\",\"to_site\",\"to_site\",null,\"to_site\",\"to_site\",\"to_site\",\"to_site\",null,\"to_site\",\"to_site\",\"to_site\",\"to_site\",null,\"to_site\",\"to_site\",\"to_site\",\"to_site\",null,\"to_site\",\"to_site\",\"to_site\",\"to_site\",null,\"to_site\",\"to_site\",\"to_site\",\"to_site\",null,\"to_site\",\"to_site\",\"to_site\",\"to_site\",null,\"to_site\",\"to_site\",\"to_site\",\"to_site\",null,\"to_site\",\"to_site\",\"to_site\",\"to_site\",null,\"to_site\",\"to_site\",\"to_site\",\"to_site\",null,\"to_site\",\"to_site\",\"to_site\",\"to_site\",null,\"to_site\",\"to_site\",\"to_site\",\"to_site\",null,\"to_site\",\"to_site\",\"to_site\",\"to_site\",null,\"to_site\",\"to_site\",\"to_site\",\"to_site\",null,\"to_site\",\"to_site\",\"to_site\",\"to_site\",null,\"to_site\",\"to_site\",\"to_site\",\"to_site\",null,\"to_site\",\"to_site\",\"to_site\",\"to_site\",null,\"to_site\",\"to_site\",\"to_site\",\"to_site\",null,\"to_site\",\"to_site\",\"to_site\",\"to_site\",null,\"to_site\",\"to_site\",\"to_site\",\"to_site\",null,\"to_site\",\"to_site\",\"to_site\",\"to_site\",null,\"to_site\",\"to_site\",\"to_site\",\"to_site\",null],\"type\":\"scatter\"},{\"connectgaps\":false,\"hoverinfo\":\"y+name\",\"line\":{\"color\":\"rgb(76,153,230)\",\"width\":10},\"mode\":\"lines\",\"name\":\"loading\",\"x\":[\"1970-01-01T00:00:00\",\"1970-01-01T00:00:00\",\"1970-01-01T00:16:40\",\"1970-01-01T00:16:40\",\"1970-01-01T00:16:40\",\"1970-01-01T01:04:45.649183\",\"1970-01-01T01:04:45.649183\",\"1970-01-01T01:21:25.649183\",\"1970-01-01T01:21:25.649183\",\"1970-01-01T01:21:25.649183\",\"1970-01-01T02:09:31.298365\",\"1970-01-01T02:09:31.298365\",\"1970-01-01T02:26:11.298365\",\"1970-01-01T02:26:11.298365\",\"1970-01-01T02:26:11.298365\",\"1970-01-01T03:14:16.947548\",\"1970-01-01T03:14:16.947548\",\"1970-01-01T03:30:56.947548\",\"1970-01-01T03:30:56.947548\",\"1970-01-01T03:30:56.947548\",\"1970-01-01T04:19:02.596730\",\"1970-01-01T04:19:02.596730\",\"1970-01-01T04:35:42.596730\",\"1970-01-01T04:35:42.596730\",\"1970-01-01T04:35:42.596730\",\"1970-01-01T05:23:48.245913\",\"1970-01-01T05:23:48.245913\",\"1970-01-01T05:40:28.245913\",\"1970-01-01T05:40:28.245913\",\"1970-01-01T05:40:28.245913\",\"1970-01-01T06:28:33.895095\",\"1970-01-01T06:28:33.895095\",\"1970-01-01T06:45:13.895095\",\"1970-01-01T06:45:13.895095\",\"1970-01-01T06:45:13.895095\",\"1970-01-01T07:33:19.544278\",\"1970-01-01T07:33:19.544278\",\"1970-01-01T07:49:59.544278\",\"1970-01-01T07:49:59.544278\",\"1970-01-01T07:49:59.544278\",\"1970-01-01T08:38:05.193460\",\"1970-01-01T08:38:05.193460\",\"1970-01-01T08:54:45.193460\",\"1970-01-01T08:54:45.193460\",\"1970-01-01T08:54:45.193460\",\"1970-01-01T09:42:50.842643\",\"1970-01-01T09:42:50.842643\",\"1970-01-01T09:59:30.842643\",\"1970-01-01T09:59:30.842643\",\"1970-01-01T09:59:30.842643\",\"1970-01-01T10:47:36.491825\",\"1970-01-01T10:47:36.491825\",\"1970-01-01T11:04:16.491825\",\"1970-01-01T11:04:16.491825\",\"1970-01-01T11:04:16.491825\",\"1970-01-01T11:52:22.141008\",\"1970-01-01T11:52:22.141008\",\"1970-01-01T12:09:02.141008\",\"1970-01-01T12:09:02.141008\",\"1970-01-01T12:09:02.141008\",\"1970-01-01T12:57:07.790191\",\"1970-01-01T12:57:07.790191\",\"1970-01-01T13:13:47.790191\",\"1970-01-01T13:13:47.790191\",\"1970-01-01T13:13:47.790191\",\"1970-01-01T14:01:53.439373\",\"1970-01-01T14:01:53.439373\",\"1970-01-01T14:18:33.439373\",\"1970-01-01T14:18:33.439373\",\"1970-01-01T14:18:33.439373\",\"1970-01-01T15:06:39.088556\",\"1970-01-01T15:06:39.088556\",\"1970-01-01T15:23:19.088556\",\"1970-01-01T15:23:19.088556\",\"1970-01-01T15:23:19.088556\",\"1970-01-01T16:11:24.737738\",\"1970-01-01T16:11:24.737738\",\"1970-01-01T16:28:04.737738\",\"1970-01-01T16:28:04.737738\",\"1970-01-01T16:28:04.737738\",\"1970-01-01T17:16:10.386921\",\"1970-01-01T17:16:10.386921\",\"1970-01-01T17:32:50.386921\",\"1970-01-01T17:32:50.386921\",\"1970-01-01T17:32:50.386921\",\"1970-01-01T18:20:56.036103\",\"1970-01-01T18:20:56.036103\",\"1970-01-01T18:37:36.036103\",\"1970-01-01T18:37:36.036103\",\"1970-01-01T18:37:36.036103\",\"1970-01-01T19:25:41.685286\",\"1970-01-01T19:25:41.685286\",\"1970-01-01T19:42:21.685286\",\"1970-01-01T19:42:21.685286\",\"1970-01-01T19:42:21.685286\",\"1970-01-01T20:30:27.334468\",\"1970-01-01T20:30:27.334468\",\"1970-01-01T20:47:07.334468\",\"1970-01-01T20:47:07.334468\",\"1970-01-01T20:47:07.334468\",\"1970-01-01T21:35:12.983651\",\"1970-01-01T21:35:12.983651\",\"1970-01-01T21:51:52.983651\",\"1970-01-01T21:51:52.983651\",\"1970-01-01T21:51:52.983651\",\"1970-01-01T22:39:58.632833\",\"1970-01-01T22:39:58.632833\",\"1970-01-01T22:56:38.632833\",\"1970-01-01T22:56:38.632833\",\"1970-01-01T22:56:38.632833\",\"1970-01-01T23:44:44.282016\",\"1970-01-01T23:44:44.282016\",\"1970-01-02T00:01:24.282016\",\"1970-01-02T00:01:24.282016\",\"1970-01-02T00:01:24.282016\",\"1970-01-02T00:49:29.931199\",\"1970-01-02T00:49:29.931199\",\"1970-01-02T01:06:09.931199\",\"1970-01-02T01:06:09.931199\",\"1970-01-02T01:06:09.931199\",\"1970-01-02T01:54:15.580381\",\"1970-01-02T01:54:15.580381\",\"1970-01-02T02:10:55.580381\",\"1970-01-02T02:10:55.580381\",\"1970-01-02T02:10:55.580381\",\"1970-01-01T00:00:00\",\"1970-01-01T00:00:00\",\"1970-01-01T00:16:40\",\"1970-01-01T00:16:40\",\"1970-01-01T00:16:40\",\"1970-01-01T01:04:45.649183\",\"1970-01-01T01:04:45.649183\",\"1970-01-01T01:21:25.649183\",\"1970-01-01T01:21:25.649183\",\"1970-01-01T01:21:25.649183\",\"1970-01-01T02:09:31.298365\",\"1970-01-01T02:09:31.298365\",\"1970-01-01T02:26:11.298365\",\"1970-01-01T02:26:11.298365\",\"1970-01-01T02:26:11.298365\",\"1970-01-01T03:14:16.947548\",\"1970-01-01T03:14:16.947548\",\"1970-01-01T03:30:56.947548\",\"1970-01-01T03:30:56.947548\",\"1970-01-01T03:30:56.947548\",\"1970-01-01T04:19:02.596730\",\"1970-01-01T04:19:02.596730\",\"1970-01-01T04:35:42.596730\",\"1970-01-01T04:35:42.596730\",\"1970-01-01T04:35:42.596730\",\"1970-01-01T05:23:48.245913\",\"1970-01-01T05:23:48.245913\",\"1970-01-01T05:40:28.245913\",\"1970-01-01T05:40:28.245913\",\"1970-01-01T05:40:28.245913\",\"1970-01-01T06:28:33.895095\",\"1970-01-01T06:28:33.895095\",\"1970-01-01T06:45:13.895095\",\"1970-01-01T06:45:13.895095\",\"1970-01-01T06:45:13.895095\",\"1970-01-01T07:33:19.544278\",\"1970-01-01T07:33:19.544278\",\"1970-01-01T07:49:59.544278\",\"1970-01-01T07:49:59.544278\",\"1970-01-01T07:49:59.544278\",\"1970-01-01T08:38:05.193460\",\"1970-01-01T08:38:05.193460\",\"1970-01-01T08:54:45.193460\",\"1970-01-01T08:54:45.193460\",\"1970-01-01T08:54:45.193460\",\"1970-01-01T09:42:50.842643\",\"1970-01-01T09:42:50.842643\",\"1970-01-01T09:59:30.842643\",\"1970-01-01T09:59:30.842643\",\"1970-01-01T09:59:30.842643\",\"1970-01-01T10:47:36.491825\",\"1970-01-01T10:47:36.491825\",\"1970-01-01T11:04:16.491825\",\"1970-01-01T11:04:16.491825\",\"1970-01-01T11:04:16.491825\",\"1970-01-01T11:52:22.141008\",\"1970-01-01T11:52:22.141008\",\"1970-01-01T12:09:02.141008\",\"1970-01-01T12:09:02.141008\",\"1970-01-01T12:09:02.141008\",\"1970-01-01T12:57:07.790191\",\"1970-01-01T12:57:07.790191\",\"1970-01-01T13:13:47.790191\",\"1970-01-01T13:13:47.790191\",\"1970-01-01T13:13:47.790191\",\"1970-01-01T14:01:53.439373\",\"1970-01-01T14:01:53.439373\",\"1970-01-01T14:18:33.439373\",\"1970-01-01T14:18:33.439373\",\"1970-01-01T14:18:33.439373\",\"1970-01-01T15:06:39.088556\",\"1970-01-01T15:06:39.088556\",\"1970-01-01T15:23:19.088556\",\"1970-01-01T15:23:19.088556\",\"1970-01-01T15:23:19.088556\",\"1970-01-01T16:11:24.737738\",\"1970-01-01T16:11:24.737738\",\"1970-01-01T16:28:04.737738\",\"1970-01-01T16:28:04.737738\",\"1970-01-01T16:28:04.737738\",\"1970-01-01T17:16:10.386921\",\"1970-01-01T17:16:10.386921\",\"1970-01-01T17:32:50.386921\",\"1970-01-01T17:32:50.386921\",\"1970-01-01T17:32:50.386921\",\"1970-01-01T18:20:56.036103\",\"1970-01-01T18:20:56.036103\",\"1970-01-01T18:37:36.036103\",\"1970-01-01T18:37:36.036103\",\"1970-01-01T18:37:36.036103\",\"1970-01-01T19:25:41.685286\",\"1970-01-01T19:25:41.685286\",\"1970-01-01T19:42:21.685286\",\"1970-01-01T19:42:21.685286\",\"1970-01-01T19:42:21.685286\",\"1970-01-01T20:30:27.334468\",\"1970-01-01T20:30:27.334468\",\"1970-01-01T20:47:07.334468\",\"1970-01-01T20:47:07.334468\",\"1970-01-01T20:47:07.334468\",\"1970-01-01T21:35:12.983651\",\"1970-01-01T21:35:12.983651\",\"1970-01-01T21:51:52.983651\",\"1970-01-01T21:51:52.983651\",\"1970-01-01T21:51:52.983651\",\"1970-01-01T22:39:58.632833\",\"1970-01-01T22:39:58.632833\",\"1970-01-01T22:56:38.632833\",\"1970-01-01T22:56:38.632833\",\"1970-01-01T22:56:38.632833\",\"1970-01-01T23:44:44.282016\",\"1970-01-01T23:44:44.282016\",\"1970-01-02T00:01:24.282016\",\"1970-01-02T00:01:24.282016\",\"1970-01-02T00:01:24.282016\",\"1970-01-02T00:49:29.931199\",\"1970-01-02T00:49:29.931199\",\"1970-01-02T01:06:09.931199\",\"1970-01-02T01:06:09.931199\",\"1970-01-02T01:06:09.931199\",\"1970-01-02T01:54:15.580381\",\"1970-01-02T01:54:15.580381\",\"1970-01-02T02:10:55.580381\",\"1970-01-02T02:10:55.580381\",\"1970-01-02T02:10:55.580381\"],\"y\":[\"vessel01\",\"vessel01\",\"vessel01\",\"vessel01\",null,\"vessel01\",\"vessel01\",\"vessel01\",\"vessel01\",null,\"vessel01\",\"vessel01\",\"vessel01\",\"vessel01\",null,\"vessel01\",\"vessel01\",\"vessel01\",\"vessel01\",null,\"vessel01\",\"vessel01\",\"vessel01\",\"vessel01\",null,\"vessel01\",\"vessel01\",\"vessel01\",\"vessel01\",null,\"vessel01\",\"vessel01\",\"vessel01\",\"vessel01\",null,\"vessel01\",\"vessel01\",\"vessel01\",\"vessel01\",null,\"vessel01\",\"vessel01\",\"vessel01\",\"vessel01\",null,\"vessel01\",\"vessel01\",\"vessel01\",\"vessel01\",null,\"vessel01\",\"vessel01\",\"vessel01\",\"vessel01\",null,\"vessel01\",\"vessel01\",\"vessel01\",\"vessel01\",null,\"vessel01\",\"vessel01\",\"vessel01\",\"vessel01\",null,\"vessel01\",\"vessel01\",\"vessel01\",\"vessel01\",null,\"vessel01\",\"vessel01\",\"vessel01\",\"vessel01\",null,\"vessel01\",\"vessel01\",\"vessel01\",\"vessel01\",null,\"vessel01\",\"vessel01\",\"vessel01\",\"vessel01\",null,\"vessel01\",\"vessel01\",\"vessel01\",\"vessel01\",null,\"vessel01\",\"vessel01\",\"vessel01\",\"vessel01\",null,\"vessel01\",\"vessel01\",\"vessel01\",\"vessel01\",null,\"vessel01\",\"vessel01\",\"vessel01\",\"vessel01\",null,\"vessel01\",\"vessel01\",\"vessel01\",\"vessel01\",null,\"vessel01\",\"vessel01\",\"vessel01\",\"vessel01\",null,\"vessel01\",\"vessel01\",\"vessel01\",\"vessel01\",null,\"vessel01\",\"vessel01\",\"vessel01\",\"vessel01\",null,\"from_site\",\"from_site\",\"from_site\",\"from_site\",null,\"from_site\",\"from_site\",\"from_site\",\"from_site\",null,\"from_site\",\"from_site\",\"from_site\",\"from_site\",null,\"from_site\",\"from_site\",\"from_site\",\"from_site\",null,\"from_site\",\"from_site\",\"from_site\",\"from_site\",null,\"from_site\",\"from_site\",\"from_site\",\"from_site\",null,\"from_site\",\"from_site\",\"from_site\",\"from_site\",null,\"from_site\",\"from_site\",\"from_site\",\"from_site\",null,\"from_site\",\"from_site\",\"from_site\",\"from_site\",null,\"from_site\",\"from_site\",\"from_site\",\"from_site\",null,\"from_site\",\"from_site\",\"from_site\",\"from_site\",null,\"from_site\",\"from_site\",\"from_site\",\"from_site\",null,\"from_site\",\"from_site\",\"from_site\",\"from_site\",null,\"from_site\",\"from_site\",\"from_site\",\"from_site\",null,\"from_site\",\"from_site\",\"from_site\",\"from_site\",null,\"from_site\",\"from_site\",\"from_site\",\"from_site\",null,\"from_site\",\"from_site\",\"from_site\",\"from_site\",null,\"from_site\",\"from_site\",\"from_site\",\"from_site\",null,\"from_site\",\"from_site\",\"from_site\",\"from_site\",null,\"from_site\",\"from_site\",\"from_site\",\"from_site\",null,\"from_site\",\"from_site\",\"from_site\",\"from_site\",null,\"from_site\",\"from_site\",\"from_site\",\"from_site\",null,\"from_site\",\"from_site\",\"from_site\",\"from_site\",null,\"from_site\",\"from_site\",\"from_site\",\"from_site\",null,\"from_site\",\"from_site\",\"from_site\",\"from_site\",null],\"type\":\"scatter\"},{\"connectgaps\":false,\"hoverinfo\":\"y+name\",\"line\":{\"color\":\"rgb(112,189,10)\",\"width\":10},\"mode\":\"lines\",\"name\":\"unloading\",\"x\":[\"1970-01-01T00:32:22.824591\",\"1970-01-01T00:32:22.824591\",\"1970-01-01T00:49:02.824591\",\"1970-01-01T00:49:02.824591\",\"1970-01-01T00:49:02.824591\",\"1970-01-01T01:37:08.473774\",\"1970-01-01T01:37:08.473774\",\"1970-01-01T01:53:48.473774\",\"1970-01-01T01:53:48.473774\",\"1970-01-01T01:53:48.473774\",\"1970-01-01T02:41:54.122956\",\"1970-01-01T02:41:54.122956\",\"1970-01-01T02:58:34.122956\",\"1970-01-01T02:58:34.122956\",\"1970-01-01T02:58:34.122956\",\"1970-01-01T03:46:39.772139\",\"1970-01-01T03:46:39.772139\",\"1970-01-01T04:03:19.772139\",\"1970-01-01T04:03:19.772139\",\"1970-01-01T04:03:19.772139\",\"1970-01-01T04:51:25.421321\",\"1970-01-01T04:51:25.421321\",\"1970-01-01T05:08:05.421321\",\"1970-01-01T05:08:05.421321\",\"1970-01-01T05:08:05.421321\",\"1970-01-01T05:56:11.070504\",\"1970-01-01T05:56:11.070504\",\"1970-01-01T06:12:51.070504\",\"1970-01-01T06:12:51.070504\",\"1970-01-01T06:12:51.070504\",\"1970-01-01T07:00:56.719687\",\"1970-01-01T07:00:56.719687\",\"1970-01-01T07:17:36.719687\",\"1970-01-01T07:17:36.719687\",\"1970-01-01T07:17:36.719687\",\"1970-01-01T08:05:42.368869\",\"1970-01-01T08:05:42.368869\",\"1970-01-01T08:22:22.368869\",\"1970-01-01T08:22:22.368869\",\"1970-01-01T08:22:22.368869\",\"1970-01-01T09:10:28.018052\",\"1970-01-01T09:10:28.018052\",\"1970-01-01T09:27:08.018052\",\"1970-01-01T09:27:08.018052\",\"1970-01-01T09:27:08.018052\",\"1970-01-01T10:15:13.667234\",\"1970-01-01T10:15:13.667234\",\"1970-01-01T10:31:53.667234\",\"1970-01-01T10:31:53.667234\",\"1970-01-01T10:31:53.667234\",\"1970-01-01T11:19:59.316417\",\"1970-01-01T11:19:59.316417\",\"1970-01-01T11:36:39.316417\",\"1970-01-01T11:36:39.316417\",\"1970-01-01T11:36:39.316417\",\"1970-01-01T12:24:44.965599\",\"1970-01-01T12:24:44.965599\",\"1970-01-01T12:41:24.965599\",\"1970-01-01T12:41:24.965599\",\"1970-01-01T12:41:24.965599\",\"1970-01-01T13:29:30.614782\",\"1970-01-01T13:29:30.614782\",\"1970-01-01T13:46:10.614782\",\"1970-01-01T13:46:10.614782\",\"1970-01-01T13:46:10.614782\",\"1970-01-01T14:34:16.263964\",\"1970-01-01T14:34:16.263964\",\"1970-01-01T14:50:56.263964\",\"1970-01-01T14:50:56.263964\",\"1970-01-01T14:50:56.263964\",\"1970-01-01T15:39:01.913147\",\"1970-01-01T15:39:01.913147\",\"1970-01-01T15:55:41.913147\",\"1970-01-01T15:55:41.913147\",\"1970-01-01T15:55:41.913147\",\"1970-01-01T16:43:47.562329\",\"1970-01-01T16:43:47.562329\",\"1970-01-01T17:00:27.562329\",\"1970-01-01T17:00:27.562329\",\"1970-01-01T17:00:27.562329\",\"1970-01-01T17:48:33.211512\",\"1970-01-01T17:48:33.211512\",\"1970-01-01T18:05:13.211512\",\"1970-01-01T18:05:13.211512\",\"1970-01-01T18:05:13.211512\",\"1970-01-01T18:53:18.860695\",\"1970-01-01T18:53:18.860695\",\"1970-01-01T19:09:58.860695\",\"1970-01-01T19:09:58.860695\",\"1970-01-01T19:09:58.860695\",\"1970-01-01T19:58:04.509877\",\"1970-01-01T19:58:04.509877\",\"1970-01-01T20:14:44.509877\",\"1970-01-01T20:14:44.509877\",\"1970-01-01T20:14:44.509877\",\"1970-01-01T21:02:50.159060\",\"1970-01-01T21:02:50.159060\",\"1970-01-01T21:19:30.159060\",\"1970-01-01T21:19:30.159060\",\"1970-01-01T21:19:30.159060\",\"1970-01-01T22:07:35.808242\",\"1970-01-01T22:07:35.808242\",\"1970-01-01T22:24:15.808242\",\"1970-01-01T22:24:15.808242\",\"1970-01-01T22:24:15.808242\",\"1970-01-01T23:12:21.457425\",\"1970-01-01T23:12:21.457425\",\"1970-01-01T23:29:01.457425\",\"1970-01-01T23:29:01.457425\",\"1970-01-01T23:29:01.457425\",\"1970-01-02T00:17:07.106607\",\"1970-01-02T00:17:07.106607\",\"1970-01-02T00:33:47.106607\",\"1970-01-02T00:33:47.106607\",\"1970-01-02T00:33:47.106607\",\"1970-01-02T01:21:52.755790\",\"1970-01-02T01:21:52.755790\",\"1970-01-02T01:38:32.755790\",\"1970-01-02T01:38:32.755790\",\"1970-01-02T01:38:32.755790\",\"1970-01-02T02:26:38.404972\",\"1970-01-02T02:26:38.404972\",\"1970-01-02T02:43:18.404972\",\"1970-01-02T02:43:18.404972\",\"1970-01-02T02:43:18.404972\",\"1970-01-01T00:32:22.824591\",\"1970-01-01T00:32:22.824591\",\"1970-01-01T00:49:02.824591\",\"1970-01-01T00:49:02.824591\",\"1970-01-01T00:49:02.824591\",\"1970-01-01T01:37:08.473774\",\"1970-01-01T01:37:08.473774\",\"1970-01-01T01:53:48.473774\",\"1970-01-01T01:53:48.473774\",\"1970-01-01T01:53:48.473774\",\"1970-01-01T02:41:54.122956\",\"1970-01-01T02:41:54.122956\",\"1970-01-01T02:58:34.122956\",\"1970-01-01T02:58:34.122956\",\"1970-01-01T02:58:34.122956\",\"1970-01-01T03:46:39.772139\",\"1970-01-01T03:46:39.772139\",\"1970-01-01T04:03:19.772139\",\"1970-01-01T04:03:19.772139\",\"1970-01-01T04:03:19.772139\",\"1970-01-01T04:51:25.421321\",\"1970-01-01T04:51:25.421321\",\"1970-01-01T05:08:05.421321\",\"1970-01-01T05:08:05.421321\",\"1970-01-01T05:08:05.421321\",\"1970-01-01T05:56:11.070504\",\"1970-01-01T05:56:11.070504\",\"1970-01-01T06:12:51.070504\",\"1970-01-01T06:12:51.070504\",\"1970-01-01T06:12:51.070504\",\"1970-01-01T07:00:56.719687\",\"1970-01-01T07:00:56.719687\",\"1970-01-01T07:17:36.719687\",\"1970-01-01T07:17:36.719687\",\"1970-01-01T07:17:36.719687\",\"1970-01-01T08:05:42.368869\",\"1970-01-01T08:05:42.368869\",\"1970-01-01T08:22:22.368869\",\"1970-01-01T08:22:22.368869\",\"1970-01-01T08:22:22.368869\",\"1970-01-01T09:10:28.018052\",\"1970-01-01T09:10:28.018052\",\"1970-01-01T09:27:08.018052\",\"1970-01-01T09:27:08.018052\",\"1970-01-01T09:27:08.018052\",\"1970-01-01T10:15:13.667234\",\"1970-01-01T10:15:13.667234\",\"1970-01-01T10:31:53.667234\",\"1970-01-01T10:31:53.667234\",\"1970-01-01T10:31:53.667234\",\"1970-01-01T11:19:59.316417\",\"1970-01-01T11:19:59.316417\",\"1970-01-01T11:36:39.316417\",\"1970-01-01T11:36:39.316417\",\"1970-01-01T11:36:39.316417\",\"1970-01-01T12:24:44.965599\",\"1970-01-01T12:24:44.965599\",\"1970-01-01T12:41:24.965599\",\"1970-01-01T12:41:24.965599\",\"1970-01-01T12:41:24.965599\",\"1970-01-01T13:29:30.614782\",\"1970-01-01T13:29:30.614782\",\"1970-01-01T13:46:10.614782\",\"1970-01-01T13:46:10.614782\",\"1970-01-01T13:46:10.614782\",\"1970-01-01T14:34:16.263964\",\"1970-01-01T14:34:16.263964\",\"1970-01-01T14:50:56.263964\",\"1970-01-01T14:50:56.263964\",\"1970-01-01T14:50:56.263964\",\"1970-01-01T15:39:01.913147\",\"1970-01-01T15:39:01.913147\",\"1970-01-01T15:55:41.913147\",\"1970-01-01T15:55:41.913147\",\"1970-01-01T15:55:41.913147\",\"1970-01-01T16:43:47.562329\",\"1970-01-01T16:43:47.562329\",\"1970-01-01T17:00:27.562329\",\"1970-01-01T17:00:27.562329\",\"1970-01-01T17:00:27.562329\",\"1970-01-01T17:48:33.211512\",\"1970-01-01T17:48:33.211512\",\"1970-01-01T18:05:13.211512\",\"1970-01-01T18:05:13.211512\",\"1970-01-01T18:05:13.211512\",\"1970-01-01T18:53:18.860695\",\"1970-01-01T18:53:18.860695\",\"1970-01-01T19:09:58.860695\",\"1970-01-01T19:09:58.860695\",\"1970-01-01T19:09:58.860695\",\"1970-01-01T19:58:04.509877\",\"1970-01-01T19:58:04.509877\",\"1970-01-01T20:14:44.509877\",\"1970-01-01T20:14:44.509877\",\"1970-01-01T20:14:44.509877\",\"1970-01-01T21:02:50.159060\",\"1970-01-01T21:02:50.159060\",\"1970-01-01T21:19:30.159060\",\"1970-01-01T21:19:30.159060\",\"1970-01-01T21:19:30.159060\",\"1970-01-01T22:07:35.808242\",\"1970-01-01T22:07:35.808242\",\"1970-01-01T22:24:15.808242\",\"1970-01-01T22:24:15.808242\",\"1970-01-01T22:24:15.808242\",\"1970-01-01T23:12:21.457425\",\"1970-01-01T23:12:21.457425\",\"1970-01-01T23:29:01.457425\",\"1970-01-01T23:29:01.457425\",\"1970-01-01T23:29:01.457425\",\"1970-01-02T00:17:07.106607\",\"1970-01-02T00:17:07.106607\",\"1970-01-02T00:33:47.106607\",\"1970-01-02T00:33:47.106607\",\"1970-01-02T00:33:47.106607\",\"1970-01-02T01:21:52.755790\",\"1970-01-02T01:21:52.755790\",\"1970-01-02T01:38:32.755790\",\"1970-01-02T01:38:32.755790\",\"1970-01-02T01:38:32.755790\",\"1970-01-02T02:26:38.404972\",\"1970-01-02T02:26:38.404972\",\"1970-01-02T02:43:18.404972\",\"1970-01-02T02:43:18.404972\",\"1970-01-02T02:43:18.404972\"],\"y\":[\"vessel01\",\"vessel01\",\"vessel01\",\"vessel01\",null,\"vessel01\",\"vessel01\",\"vessel01\",\"vessel01\",null,\"vessel01\",\"vessel01\",\"vessel01\",\"vessel01\",null,\"vessel01\",\"vessel01\",\"vessel01\",\"vessel01\",null,\"vessel01\",\"vessel01\",\"vessel01\",\"vessel01\",null,\"vessel01\",\"vessel01\",\"vessel01\",\"vessel01\",null,\"vessel01\",\"vessel01\",\"vessel01\",\"vessel01\",null,\"vessel01\",\"vessel01\",\"vessel01\",\"vessel01\",null,\"vessel01\",\"vessel01\",\"vessel01\",\"vessel01\",null,\"vessel01\",\"vessel01\",\"vessel01\",\"vessel01\",null,\"vessel01\",\"vessel01\",\"vessel01\",\"vessel01\",null,\"vessel01\",\"vessel01\",\"vessel01\",\"vessel01\",null,\"vessel01\",\"vessel01\",\"vessel01\",\"vessel01\",null,\"vessel01\",\"vessel01\",\"vessel01\",\"vessel01\",null,\"vessel01\",\"vessel01\",\"vessel01\",\"vessel01\",null,\"vessel01\",\"vessel01\",\"vessel01\",\"vessel01\",null,\"vessel01\",\"vessel01\",\"vessel01\",\"vessel01\",null,\"vessel01\",\"vessel01\",\"vessel01\",\"vessel01\",null,\"vessel01\",\"vessel01\",\"vessel01\",\"vessel01\",null,\"vessel01\",\"vessel01\",\"vessel01\",\"vessel01\",null,\"vessel01\",\"vessel01\",\"vessel01\",\"vessel01\",null,\"vessel01\",\"vessel01\",\"vessel01\",\"vessel01\",null,\"vessel01\",\"vessel01\",\"vessel01\",\"vessel01\",null,\"vessel01\",\"vessel01\",\"vessel01\",\"vessel01\",null,\"vessel01\",\"vessel01\",\"vessel01\",\"vessel01\",null,\"to_site\",\"to_site\",\"to_site\",\"to_site\",null,\"to_site\",\"to_site\",\"to_site\",\"to_site\",null,\"to_site\",\"to_site\",\"to_site\",\"to_site\",null,\"to_site\",\"to_site\",\"to_site\",\"to_site\",null,\"to_site\",\"to_site\",\"to_site\",\"to_site\",null,\"to_site\",\"to_site\",\"to_site\",\"to_site\",null,\"to_site\",\"to_site\",\"to_site\",\"to_site\",null,\"to_site\",\"to_site\",\"to_site\",\"to_site\",null,\"to_site\",\"to_site\",\"to_site\",\"to_site\",null,\"to_site\",\"to_site\",\"to_site\",\"to_site\",null,\"to_site\",\"to_site\",\"to_site\",\"to_site\",null,\"to_site\",\"to_site\",\"to_site\",\"to_site\",null,\"to_site\",\"to_site\",\"to_site\",\"to_site\",null,\"to_site\",\"to_site\",\"to_site\",\"to_site\",null,\"to_site\",\"to_site\",\"to_site\",\"to_site\",null,\"to_site\",\"to_site\",\"to_site\",\"to_site\",null,\"to_site\",\"to_site\",\"to_site\",\"to_site\",null,\"to_site\",\"to_site\",\"to_site\",\"to_site\",null,\"to_site\",\"to_site\",\"to_site\",\"to_site\",null,\"to_site\",\"to_site\",\"to_site\",\"to_site\",null,\"to_site\",\"to_site\",\"to_site\",\"to_site\",null,\"to_site\",\"to_site\",\"to_site\",\"to_site\",null,\"to_site\",\"to_site\",\"to_site\",\"to_site\",null,\"to_site\",\"to_site\",\"to_site\",\"to_site\",null,\"to_site\",\"to_site\",\"to_site\",\"to_site\",null],\"type\":\"scatter\"}],                        {\"hovermode\":\"closest\",\"legend\":{\"orientation\":\"h\",\"x\":0,\"y\":-0.2},\"template\":{\"data\":{\"barpolar\":[{\"marker\":{\"line\":{\"color\":\"#E5ECF6\",\"width\":0.5},\"pattern\":{\"fillmode\":\"overlay\",\"size\":10,\"solidity\":0.2}},\"type\":\"barpolar\"}],\"bar\":[{\"error_x\":{\"color\":\"#2a3f5f\"},\"error_y\":{\"color\":\"#2a3f5f\"},\"marker\":{\"line\":{\"color\":\"#E5ECF6\",\"width\":0.5},\"pattern\":{\"fillmode\":\"overlay\",\"size\":10,\"solidity\":0.2}},\"type\":\"bar\"}],\"carpet\":[{\"aaxis\":{\"endlinecolor\":\"#2a3f5f\",\"gridcolor\":\"white\",\"linecolor\":\"white\",\"minorgridcolor\":\"white\",\"startlinecolor\":\"#2a3f5f\"},\"baxis\":{\"endlinecolor\":\"#2a3f5f\",\"gridcolor\":\"white\",\"linecolor\":\"white\",\"minorgridcolor\":\"white\",\"startlinecolor\":\"#2a3f5f\"},\"type\":\"carpet\"}],\"choropleth\":[{\"colorbar\":{\"outlinewidth\":0,\"ticks\":\"\"},\"type\":\"choropleth\"}],\"contourcarpet\":[{\"colorbar\":{\"outlinewidth\":0,\"ticks\":\"\"},\"type\":\"contourcarpet\"}],\"contour\":[{\"colorbar\":{\"outlinewidth\":0,\"ticks\":\"\"},\"colorscale\":[[0.0,\"#0d0887\"],[0.1111111111111111,\"#46039f\"],[0.2222222222222222,\"#7201a8\"],[0.3333333333333333,\"#9c179e\"],[0.4444444444444444,\"#bd3786\"],[0.5555555555555556,\"#d8576b\"],[0.6666666666666666,\"#ed7953\"],[0.7777777777777778,\"#fb9f3a\"],[0.8888888888888888,\"#fdca26\"],[1.0,\"#f0f921\"]],\"type\":\"contour\"}],\"heatmapgl\":[{\"colorbar\":{\"outlinewidth\":0,\"ticks\":\"\"},\"colorscale\":[[0.0,\"#0d0887\"],[0.1111111111111111,\"#46039f\"],[0.2222222222222222,\"#7201a8\"],[0.3333333333333333,\"#9c179e\"],[0.4444444444444444,\"#bd3786\"],[0.5555555555555556,\"#d8576b\"],[0.6666666666666666,\"#ed7953\"],[0.7777777777777778,\"#fb9f3a\"],[0.8888888888888888,\"#fdca26\"],[1.0,\"#f0f921\"]],\"type\":\"heatmapgl\"}],\"heatmap\":[{\"colorbar\":{\"outlinewidth\":0,\"ticks\":\"\"},\"colorscale\":[[0.0,\"#0d0887\"],[0.1111111111111111,\"#46039f\"],[0.2222222222222222,\"#7201a8\"],[0.3333333333333333,\"#9c179e\"],[0.4444444444444444,\"#bd3786\"],[0.5555555555555556,\"#d8576b\"],[0.6666666666666666,\"#ed7953\"],[0.7777777777777778,\"#fb9f3a\"],[0.8888888888888888,\"#fdca26\"],[1.0,\"#f0f921\"]],\"type\":\"heatmap\"}],\"histogram2dcontour\":[{\"colorbar\":{\"outlinewidth\":0,\"ticks\":\"\"},\"colorscale\":[[0.0,\"#0d0887\"],[0.1111111111111111,\"#46039f\"],[0.2222222222222222,\"#7201a8\"],[0.3333333333333333,\"#9c179e\"],[0.4444444444444444,\"#bd3786\"],[0.5555555555555556,\"#d8576b\"],[0.6666666666666666,\"#ed7953\"],[0.7777777777777778,\"#fb9f3a\"],[0.8888888888888888,\"#fdca26\"],[1.0,\"#f0f921\"]],\"type\":\"histogram2dcontour\"}],\"histogram2d\":[{\"colorbar\":{\"outlinewidth\":0,\"ticks\":\"\"},\"colorscale\":[[0.0,\"#0d0887\"],[0.1111111111111111,\"#46039f\"],[0.2222222222222222,\"#7201a8\"],[0.3333333333333333,\"#9c179e\"],[0.4444444444444444,\"#bd3786\"],[0.5555555555555556,\"#d8576b\"],[0.6666666666666666,\"#ed7953\"],[0.7777777777777778,\"#fb9f3a\"],[0.8888888888888888,\"#fdca26\"],[1.0,\"#f0f921\"]],\"type\":\"histogram2d\"}],\"histogram\":[{\"marker\":{\"pattern\":{\"fillmode\":\"overlay\",\"size\":10,\"solidity\":0.2}},\"type\":\"histogram\"}],\"mesh3d\":[{\"colorbar\":{\"outlinewidth\":0,\"ticks\":\"\"},\"type\":\"mesh3d\"}],\"parcoords\":[{\"line\":{\"colorbar\":{\"outlinewidth\":0,\"ticks\":\"\"}},\"type\":\"parcoords\"}],\"pie\":[{\"automargin\":true,\"type\":\"pie\"}],\"scatter3d\":[{\"line\":{\"colorbar\":{\"outlinewidth\":0,\"ticks\":\"\"}},\"marker\":{\"colorbar\":{\"outlinewidth\":0,\"ticks\":\"\"}},\"type\":\"scatter3d\"}],\"scattercarpet\":[{\"marker\":{\"colorbar\":{\"outlinewidth\":0,\"ticks\":\"\"}},\"type\":\"scattercarpet\"}],\"scattergeo\":[{\"marker\":{\"colorbar\":{\"outlinewidth\":0,\"ticks\":\"\"}},\"type\":\"scattergeo\"}],\"scattergl\":[{\"marker\":{\"colorbar\":{\"outlinewidth\":0,\"ticks\":\"\"}},\"type\":\"scattergl\"}],\"scattermapbox\":[{\"marker\":{\"colorbar\":{\"outlinewidth\":0,\"ticks\":\"\"}},\"type\":\"scattermapbox\"}],\"scatterpolargl\":[{\"marker\":{\"colorbar\":{\"outlinewidth\":0,\"ticks\":\"\"}},\"type\":\"scatterpolargl\"}],\"scatterpolar\":[{\"marker\":{\"colorbar\":{\"outlinewidth\":0,\"ticks\":\"\"}},\"type\":\"scatterpolar\"}],\"scatter\":[{\"fillpattern\":{\"fillmode\":\"overlay\",\"size\":10,\"solidity\":0.2},\"type\":\"scatter\"}],\"scatterternary\":[{\"marker\":{\"colorbar\":{\"outlinewidth\":0,\"ticks\":\"\"}},\"type\":\"scatterternary\"}],\"surface\":[{\"colorbar\":{\"outlinewidth\":0,\"ticks\":\"\"},\"colorscale\":[[0.0,\"#0d0887\"],[0.1111111111111111,\"#46039f\"],[0.2222222222222222,\"#7201a8\"],[0.3333333333333333,\"#9c179e\"],[0.4444444444444444,\"#bd3786\"],[0.5555555555555556,\"#d8576b\"],[0.6666666666666666,\"#ed7953\"],[0.7777777777777778,\"#fb9f3a\"],[0.8888888888888888,\"#fdca26\"],[1.0,\"#f0f921\"]],\"type\":\"surface\"}],\"table\":[{\"cells\":{\"fill\":{\"color\":\"#EBF0F8\"},\"line\":{\"color\":\"white\"}},\"header\":{\"fill\":{\"color\":\"#C8D4E3\"},\"line\":{\"color\":\"white\"}},\"type\":\"table\"}]},\"layout\":{\"annotationdefaults\":{\"arrowcolor\":\"#2a3f5f\",\"arrowhead\":0,\"arrowwidth\":1},\"autotypenumbers\":\"strict\",\"coloraxis\":{\"colorbar\":{\"outlinewidth\":0,\"ticks\":\"\"}},\"colorscale\":{\"diverging\":[[0,\"#8e0152\"],[0.1,\"#c51b7d\"],[0.2,\"#de77ae\"],[0.3,\"#f1b6da\"],[0.4,\"#fde0ef\"],[0.5,\"#f7f7f7\"],[0.6,\"#e6f5d0\"],[0.7,\"#b8e186\"],[0.8,\"#7fbc41\"],[0.9,\"#4d9221\"],[1,\"#276419\"]],\"sequential\":[[0.0,\"#0d0887\"],[0.1111111111111111,\"#46039f\"],[0.2222222222222222,\"#7201a8\"],[0.3333333333333333,\"#9c179e\"],[0.4444444444444444,\"#bd3786\"],[0.5555555555555556,\"#d8576b\"],[0.6666666666666666,\"#ed7953\"],[0.7777777777777778,\"#fb9f3a\"],[0.8888888888888888,\"#fdca26\"],[1.0,\"#f0f921\"]],\"sequentialminus\":[[0.0,\"#0d0887\"],[0.1111111111111111,\"#46039f\"],[0.2222222222222222,\"#7201a8\"],[0.3333333333333333,\"#9c179e\"],[0.4444444444444444,\"#bd3786\"],[0.5555555555555556,\"#d8576b\"],[0.6666666666666666,\"#ed7953\"],[0.7777777777777778,\"#fb9f3a\"],[0.8888888888888888,\"#fdca26\"],[1.0,\"#f0f921\"]]},\"colorway\":[\"#636efa\",\"#EF553B\",\"#00cc96\",\"#ab63fa\",\"#FFA15A\",\"#19d3f3\",\"#FF6692\",\"#B6E880\",\"#FF97FF\",\"#FECB52\"],\"font\":{\"color\":\"#2a3f5f\"},\"geo\":{\"bgcolor\":\"white\",\"lakecolor\":\"white\",\"landcolor\":\"#E5ECF6\",\"showlakes\":true,\"showland\":true,\"subunitcolor\":\"white\"},\"hoverlabel\":{\"align\":\"left\"},\"hovermode\":\"closest\",\"mapbox\":{\"style\":\"light\"},\"paper_bgcolor\":\"white\",\"plot_bgcolor\":\"#E5ECF6\",\"polar\":{\"angularaxis\":{\"gridcolor\":\"white\",\"linecolor\":\"white\",\"ticks\":\"\"},\"bgcolor\":\"#E5ECF6\",\"radialaxis\":{\"gridcolor\":\"white\",\"linecolor\":\"white\",\"ticks\":\"\"}},\"scene\":{\"xaxis\":{\"backgroundcolor\":\"#E5ECF6\",\"gridcolor\":\"white\",\"gridwidth\":2,\"linecolor\":\"white\",\"showbackground\":true,\"ticks\":\"\",\"zerolinecolor\":\"white\"},\"yaxis\":{\"backgroundcolor\":\"#E5ECF6\",\"gridcolor\":\"white\",\"gridwidth\":2,\"linecolor\":\"white\",\"showbackground\":true,\"ticks\":\"\",\"zerolinecolor\":\"white\"},\"zaxis\":{\"backgroundcolor\":\"#E5ECF6\",\"gridcolor\":\"white\",\"gridwidth\":2,\"linecolor\":\"white\",\"showbackground\":true,\"ticks\":\"\",\"zerolinecolor\":\"white\"}},\"shapedefaults\":{\"line\":{\"color\":\"#2a3f5f\"}},\"ternary\":{\"aaxis\":{\"gridcolor\":\"white\",\"linecolor\":\"white\",\"ticks\":\"\"},\"baxis\":{\"gridcolor\":\"white\",\"linecolor\":\"white\",\"ticks\":\"\"},\"bgcolor\":\"#E5ECF6\",\"caxis\":{\"gridcolor\":\"white\",\"linecolor\":\"white\",\"ticks\":\"\"}},\"title\":{\"x\":0.05},\"xaxis\":{\"automargin\":true,\"gridcolor\":\"white\",\"linecolor\":\"white\",\"ticks\":\"\",\"title\":{\"standoff\":15},\"zerolinecolor\":\"white\",\"zerolinewidth\":2},\"yaxis\":{\"automargin\":true,\"gridcolor\":\"white\",\"linecolor\":\"white\",\"ticks\":\"\",\"title\":{\"standoff\":15},\"zerolinecolor\":\"white\",\"zerolinewidth\":2}}},\"title\":{\"text\":\"GANTT Chart\"},\"xaxis\":{\"range\":[\"1970-01-01T00:00:00\",\"1970-01-02T02:43:18.404972\"],\"title\":{\"font\":{\"color\":\"#7f7f7f\",\"family\":\"Courier New, monospace\",\"size\":18},\"text\":\"Time\"}},\"yaxis\":{\"title\":{\"font\":{\"color\":\"#7f7f7f\",\"family\":\"Courier New, monospace\",\"size\":18},\"text\":\"Activities\"}}},                        {\"responsive\": true}                    ).then(function(){\n",
       "                            \n",
       "var gd = document.getElementById('a8a1ddc6-7650-4ffc-96b2-c8daaf0384bb');\n",
       "var x = new MutationObserver(function (mutations, observer) {{\n",
       "        var display = window.getComputedStyle(gd).display;\n",
       "        if (!display || display === 'none') {{\n",
       "            console.log([gd, 'removed!']);\n",
       "            Plotly.purge(gd);\n",
       "            observer.disconnect();\n",
       "        }}\n",
       "}});\n",
       "\n",
       "// Listen for the removal of the full notebook cells\n",
       "var notebookContainer = gd.closest('#notebook-container');\n",
       "if (notebookContainer) {{\n",
       "    x.observe(notebookContainer, {childList: true});\n",
       "}}\n",
       "\n",
       "// Listen for the clearing of the current output cell\n",
       "var outputEl = gd.closest('.output');\n",
       "if (outputEl) {{\n",
       "    x.observe(outputEl, {childList: true});\n",
       "}}\n",
       "\n",
       "                        })                };                });            </script>        </div>"
      ]
     },
     "metadata": {},
     "output_type": "display_data"
    }
   ],
   "source": [
    "plot.get_gantt_chart([vessel01, from_site, to_site],id_map=[while_activity])"
   ]
  },
  {
   "cell_type": "markdown",
   "metadata": {},
   "source": [
    "##### 5.3 Visualise container volume developments"
   ]
  },
  {
   "cell_type": "code",
   "execution_count": 12,
   "metadata": {},
   "outputs": [
    {
     "data": {
      "image/png": "[encoded data removed]",
      "text/plain": [
       "<Figure size 1008x504 with 1 Axes>"
      ]
     },
     "metadata": {
      "needs_background": "light"
     },
     "output_type": "display_data"
    }
   ],
   "source": [
    "fig = plot.get_step_chart([vessel01, from_site, to_site])"
   ]
  },
  {
   "cell_type": "markdown",
   "metadata": {},
   "source": [
    "#### Sandbox"
   ]
  },
  {
   "cell_type": "code",
   "execution_count": 13,
   "metadata": {},
   "outputs": [
    {
     "data": {
      "text/html": [
       "<div>\n",
       "<style scoped>\n",
       "    .dataframe tbody tr th:only-of-type {\n",
       "        vertical-align: middle;\n",
       "    }\n",
       "\n",
       "    .dataframe tbody tr th {\n",
       "        vertical-align: top;\n",
       "    }\n",
       "\n",
       "    .dataframe thead th {\n",
       "        text-align: right;\n",
       "    }\n",
       "</style>\n",
       "<table border=\"1\" class=\"dataframe\">\n",
       "  <thead>\n",
       "    <tr style=\"text-align: right;\">\n",
       "      <th></th>\n",
       "      <th>Timestamp</th>\n",
       "      <th>ActivityID</th>\n",
       "      <th>ActivityState</th>\n",
       "      <th>ObjectState</th>\n",
       "      <th>ActivityLabel</th>\n",
       "    </tr>\n",
       "  </thead>\n",
       "  <tbody>\n",
       "    <tr>\n",
       "      <th>0</th>\n",
       "      <td>1970-01-01 00:00:00.000000</td>\n",
       "      <td>dd130af7-2674-4d97-aa51-11b83dcfb184</td>\n",
       "      <td>START</td>\n",
       "      <td>{'container level': 0.0, 'geometry': POINT (4....</td>\n",
       "      <td>{}</td>\n",
       "    </tr>\n",
       "    <tr>\n",
       "      <th>1</th>\n",
       "      <td>1970-01-01 00:00:00.000000</td>\n",
       "      <td>dd130af7-2674-4d97-aa51-11b83dcfb184</td>\n",
       "      <td>STOP</td>\n",
       "      <td>{'container level': 0.0, 'geometry': POINT (4....</td>\n",
       "      <td>{}</td>\n",
       "    </tr>\n",
       "    <tr>\n",
       "      <th>2</th>\n",
       "      <td>1970-01-01 00:00:00.000000</td>\n",
       "      <td>f36f2646-60b3-45e4-9df8-6a785da43e32</td>\n",
       "      <td>START</td>\n",
       "      <td>{'container level': 0.0, 'geometry': POINT (4....</td>\n",
       "      <td>{}</td>\n",
       "    </tr>\n",
       "    <tr>\n",
       "      <th>3</th>\n",
       "      <td>1970-01-01 00:16:40.000000</td>\n",
       "      <td>f36f2646-60b3-45e4-9df8-6a785da43e32</td>\n",
       "      <td>STOP</td>\n",
       "      <td>{'container level': 4.0, 'geometry': POINT (4....</td>\n",
       "      <td>{}</td>\n",
       "    </tr>\n",
       "    <tr>\n",
       "      <th>4</th>\n",
       "      <td>1970-01-01 00:16:40.000000</td>\n",
       "      <td>ce289924-a235-4183-bc76-1c2d20ee633f</td>\n",
       "      <td>START</td>\n",
       "      <td>{'container level': 4.0, 'geometry': POINT (4....</td>\n",
       "      <td>{}</td>\n",
       "    </tr>\n",
       "    <tr>\n",
       "      <th>...</th>\n",
       "      <td>...</td>\n",
       "      <td>...</td>\n",
       "      <td>...</td>\n",
       "      <td>...</td>\n",
       "      <td>...</td>\n",
       "    </tr>\n",
       "    <tr>\n",
       "      <th>245</th>\n",
       "      <td>1970-01-02 02:26:38.404972</td>\n",
       "      <td>ce289924-a235-4183-bc76-1c2d20ee633f</td>\n",
       "      <td>STOP</td>\n",
       "      <td>{'container level': 4.0, 'geometry': POINT (4....</td>\n",
       "      <td>{}</td>\n",
       "    </tr>\n",
       "    <tr>\n",
       "      <th>246</th>\n",
       "      <td>1970-01-02 02:26:38.404972</td>\n",
       "      <td>0202547f-3eea-484e-8618-4e67eef45a79</td>\n",
       "      <td>START</td>\n",
       "      <td>{'container level': 4.0, 'geometry': POINT (4....</td>\n",
       "      <td>{}</td>\n",
       "    </tr>\n",
       "    <tr>\n",
       "      <th>247</th>\n",
       "      <td>1970-01-02 02:43:18.404972</td>\n",
       "      <td>0202547f-3eea-484e-8618-4e67eef45a79</td>\n",
       "      <td>STOP</td>\n",
       "      <td>{'container level': 0.0, 'geometry': POINT (4....</td>\n",
       "      <td>{}</td>\n",
       "    </tr>\n",
       "    <tr>\n",
       "      <th>248</th>\n",
       "      <td>1970-01-02 02:43:18.404972</td>\n",
       "      <td>ff97f07b-5f01-46b1-a60a-398197a75d5f</td>\n",
       "      <td>START</td>\n",
       "      <td>{'container level': 0.0, 'geometry': POINT (4....</td>\n",
       "      <td>{'type': 'additional log', 'ref': 'ff97f07b-5f...</td>\n",
       "    </tr>\n",
       "    <tr>\n",
       "      <th>249</th>\n",
       "      <td>1970-01-02 02:43:18.404972</td>\n",
       "      <td>ff97f07b-5f01-46b1-a60a-398197a75d5f</td>\n",
       "      <td>STOP</td>\n",
       "      <td>{'container level': 0.0, 'geometry': POINT (4....</td>\n",
       "      <td>{'type': 'additional log', 'ref': 'ff97f07b-5f...</td>\n",
       "    </tr>\n",
       "  </tbody>\n",
       "</table>\n",
       "<p>250 rows × 5 columns</p>\n",
       "</div>"
      ],
      "text/plain": [
       "                     Timestamp                            ActivityID  \\\n",
       "0   1970-01-01 00:00:00.000000  dd130af7-2674-4d97-aa51-11b83dcfb184   \n",
       "1   1970-01-01 00:00:00.000000  dd130af7-2674-4d97-aa51-11b83dcfb184   \n",
       "2   1970-01-01 00:00:00.000000  f36f2646-60b3-45e4-9df8-6a785da43e32   \n",
       "3   1970-01-01 00:16:40.000000  f36f2646-60b3-45e4-9df8-6a785da43e32   \n",
       "4   1970-01-01 00:16:40.000000  ce289924-a235-4183-bc76-1c2d20ee633f   \n",
       "..                         ...                                   ...   \n",
       "245 1970-01-02 02:26:38.404972  ce289924-a235-4183-bc76-1c2d20ee633f   \n",
       "246 1970-01-02 02:26:38.404972  0202547f-3eea-484e-8618-4e67eef45a79   \n",
       "247 1970-01-02 02:43:18.404972  0202547f-3eea-484e-8618-4e67eef45a79   \n",
       "248 1970-01-02 02:43:18.404972  ff97f07b-5f01-46b1-a60a-398197a75d5f   \n",
       "249 1970-01-02 02:43:18.404972  ff97f07b-5f01-46b1-a60a-398197a75d5f   \n",
       "\n",
       "    ActivityState                                        ObjectState  \\\n",
       "0           START  {'container level': 0.0, 'geometry': POINT (4....   \n",
       "1            STOP  {'container level': 0.0, 'geometry': POINT (4....   \n",
       "2           START  {'container level': 0.0, 'geometry': POINT (4....   \n",
       "3            STOP  {'container level': 4.0, 'geometry': POINT (4....   \n",
       "4           START  {'container level': 4.0, 'geometry': POINT (4....   \n",
       "..            ...                                                ...   \n",
       "245          STOP  {'container level': 4.0, 'geometry': POINT (4....   \n",
       "246         START  {'container level': 4.0, 'geometry': POINT (4....   \n",
       "247          STOP  {'container level': 0.0, 'geometry': POINT (4....   \n",
       "248         START  {'container level': 0.0, 'geometry': POINT (4....   \n",
       "249          STOP  {'container level': 0.0, 'geometry': POINT (4....   \n",
       "\n",
       "                                         ActivityLabel  \n",
       "0                                                   {}  \n",
       "1                                                   {}  \n",
       "2                                                   {}  \n",
       "3                                                   {}  \n",
       "4                                                   {}  \n",
       "..                                                 ...  \n",
       "245                                                 {}  \n",
       "246                                                 {}  \n",
       "247                                                 {}  \n",
       "248  {'type': 'additional log', 'ref': 'ff97f07b-5f...  \n",
       "249  {'type': 'additional log', 'ref': 'ff97f07b-5f...  \n",
       "\n",
       "[250 rows x 5 columns]"
      ]
     },
     "execution_count": 13,
     "metadata": {},
     "output_type": "execute_result"
    }
   ],
   "source": [
    "pd.DataFrame.from_dict(vessel01.log)"
   ]
  },
  {
   "cell_type": "code",
   "execution_count": 14,
   "metadata": {},
   "outputs": [
    {
     "data": {
      "text/plain": [
       "['ff97f07b-5f01-46b1-a60a-398197a75d5f',\n",
       " 'ce289924-a235-4183-bc76-1c2d20ee633f',\n",
       " 'dd130af7-2674-4d97-aa51-11b83dcfb184',\n",
       " 'f36f2646-60b3-45e4-9df8-6a785da43e32',\n",
       " '0202547f-3eea-484e-8618-4e67eef45a79']"
      ]
     },
     "execution_count": 14,
     "metadata": {},
     "output_type": "execute_result"
    }
   ],
   "source": [
    "list(set(vessel01.log[\"ActivityID\"]))"
   ]
  },
  {
   "cell_type": "code",
   "execution_count": null,
   "metadata": {},
   "outputs": [],
   "source": []
  }
 ],
 "metadata": {
  "kernelspec": {
   "display_name": "Python 3 (ipykernel)",
   "language": "python",
   "name": "python3"
  },
  "language_info": {
   "codemirror_mode": {
    "name": "ipython",
    "version": 3
   },
   "file_extension": ".py",
   "mimetype": "text/x-python",
   "name": "python",
   "nbconvert_exporter": "python",
   "pygments_lexer": "ipython3",
   "version": "3.9.16"
  }
 },
 "nbformat": 4,
 "nbformat_minor": 4
}
