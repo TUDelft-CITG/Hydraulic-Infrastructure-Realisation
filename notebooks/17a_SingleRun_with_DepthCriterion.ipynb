{
 "cells": [
  {
   "cell_type": "markdown",
   "metadata": {},
   "source": [
    "## SingleRun + DepthCriterion\n",
    "\n",
    "This notebook provides an example of a simulation that takes a number of __sub_processes__, grouped in a __SequentialActivity__, that is __executed while a stop condition is not yet met__. In this case the elements of the sub_processes have __depth limitations__. A separate 'Minimum depth' criterion is defined for loading. \n",
    "\n",
    "For this example we work with the following sub processes:\n",
    "* sailing empty\n",
    "* loading\n",
    "* sailing full\n",
    "* unloading"
   ]
  },
  {
   "cell_type": "markdown",
   "metadata": {},
   "source": [
    "#### 0. Import libraries"
   ]
  },
  {
   "cell_type": "code",
   "execution_count": 1,
   "metadata": {},
   "outputs": [
    {
     "data": {
      "text/html": [
       "        <script type=\"text/javascript\">\n",
       "        window.PlotlyConfig = {MathJaxConfig: 'local'};\n",
       "        if (window.MathJax && window.MathJax.Hub && window.MathJax.Hub.Config) {window.MathJax.Hub.Config({SVG: {font: \"STIX-Web\"}});}\n",
       "        if (typeof require !== 'undefined') {\n",
       "        require.undef(\"plotly\");\n",
       "        requirejs.config({\n",
       "            paths: {\n",
       "                'plotly': ['https://cdn.plot.ly/plotly-2.12.1.min']\n",
       "            }\n",
       "        });\n",
       "        require(['plotly'], function(Plotly) {\n",
       "            window._Plotly = Plotly;\n",
       "        });\n",
       "        }\n",
       "        </script>\n",
       "        "
      ]
     },
     "metadata": {},
     "output_type": "display_data"
    }
   ],
   "source": [
    "import datetime, time\n",
    "import simpy\n",
    "\n",
    "import shapely.geometry\n",
    "import pandas as pd\n",
    "import numpy as np\n",
    "\n",
    "import openclsim.core as core\n",
    "import openclsim.utils as utils\n",
    "import openclsim.model as model\n",
    "import openclsim.plot as plot\n",
    "import openclsim.plugins as plugin\n",
    "\n",
    "from plotly.offline import init_notebook_mode, iplot\n",
    "import plotly.graph_objs as go\n",
    "\n",
    "src_path = utils.find_src_path()\n",
    "init_notebook_mode(connected=True)"
   ]
  },
  {
   "cell_type": "markdown",
   "metadata": {},
   "source": [
    "#### 1. Initialise simpy environment"
   ]
  },
  {
   "cell_type": "code",
   "execution_count": 2,
   "metadata": {},
   "outputs": [],
   "source": [
    "# setup environment (simulation time needs to match the available weather data)\n",
    "simulation_start  = datetime.datetime(2018, 8, 1, 0, 0)\n",
    "my_env = simpy.Environment(initial_time=simulation_start.timestamp())"
   ]
  },
  {
   "cell_type": "markdown",
   "metadata": {},
   "source": [
    "#### 2. Define object classes"
   ]
  },
  {
   "cell_type": "code",
   "execution_count": 3,
   "metadata": {},
   "outputs": [],
   "source": [
    "# create a Site object based on desired mixin classes\n",
    "Site = type(\n",
    "    \"Site\",\n",
    "    (\n",
    "        core.Identifiable,\n",
    "        core.Log,\n",
    "        core.Locatable,\n",
    "        core.HasContainer,\n",
    "        core.HasResource,\n",
    "    ),\n",
    "    {},\n",
    ")\n",
    "\n",
    "# create a TransportProcessingResource object based on desired mixin classes\n",
    "TransportProcessingResource = type(\n",
    "    \"TransportProcessingResource\",\n",
    "    (\n",
    "        core.Identifiable,\n",
    "        core.Log,\n",
    "        core.ContainerDependentMovable,\n",
    "        core.Processor,\n",
    "        core.HasResource,  # NB: LoadingFunction and UnloadingFunction are not mixed in\n",
    "    ),\n",
    "    {},\n",
    ")\n",
    "# Todo: we should add vessel properties here so we can get draugth also (as a function of loading rate)\n",
    "\n",
    "# create a TestMoveActivity object based on desired mixin classes\n",
    "TestMoveActivity =  type(\n",
    "    \"TestMoveActivity\",\n",
    "    (\n",
    "        plugin.HasDepthPluginActivity,\n",
    "        model.MoveActivity,  # the order is critical!\n",
    "    ),\n",
    "    {},\n",
    ")\n",
    "\n",
    "# create a TestShiftActivity object based on desired mixin classes\n",
    "TestShiftActivity =  type(\n",
    "    \"TestShiftActivity\",\n",
    "    (\n",
    "        plugin.HasDepthPluginActivity,\n",
    "        model.ShiftAmountActivity,  # the order is critical!\n",
    "    ),\n",
    "    {},\n",
    ")\n",
    "# Todo: how can I add loading rates as a function of available depth"
   ]
  },
  {
   "cell_type": "markdown",
   "metadata": {},
   "source": [
    "#### 3. Create objects\n",
    "##### 3.1. Create site object(s)"
   ]
  },
  {
   "cell_type": "code",
   "execution_count": 4,
   "metadata": {},
   "outputs": [],
   "source": [
    "# prepare input data for from_site\n",
    "location_from_site = shapely.geometry.Point(4.18055556, 52.18664444)\n",
    "data_from_site = {\"env\": my_env,\n",
    "                  \"name\": \"from_site\",\n",
    "                  \"geometry\": location_from_site,\n",
    "                  \"capacity\": 120,\n",
    "                  \"level\": 120\n",
    "                 }\n",
    "# instantiate from_site \n",
    "from_site = Site(**data_from_site)\n",
    "\n",
    "# prepare input data for to_site\n",
    "location_to_site = shapely.geometry.Point(4.25222222, 52.11428333)\n",
    "data_to_site = {\"env\": my_env,\n",
    "                \"name\": \"to_site\",\n",
    "                \"geometry\": location_to_site,\n",
    "                \"capacity\": 120,\n",
    "                \"level\": 0\n",
    "               }\n",
    "# instantiate to_site \n",
    "to_site = Site(**data_to_site)"
   ]
  },
  {
   "cell_type": "markdown",
   "metadata": {},
   "source": [
    "##### 3.2. Create vessel object(s)"
   ]
  },
  {
   "cell_type": "code",
   "execution_count": 5,
   "metadata": {},
   "outputs": [],
   "source": [
    "# prepare input data for vessel_01\n",
    "data_vessel01 = {\"env\": my_env,\n",
    "                 \"name\": \"vessel01\",\n",
    "                 \"geometry\": location_from_site, \n",
    "                 \"capacity\": 4,\n",
    "                 \"compute_v\": lambda x: 10\n",
    "               }\n",
    "# instantiate vessel_01 \n",
    "vessel01 = TransportProcessingResource(**data_vessel01)"
   ]
  },
  {
   "cell_type": "markdown",
   "metadata": {},
   "source": [
    "##### 3.3 Create activity/activities"
   ]
  },
  {
   "cell_type": "code",
   "execution_count": 6,
   "metadata": {},
   "outputs": [
    {
     "data": {
      "text/html": [
       "<div>\n",
       "<style scoped>\n",
       "    .dataframe tbody tr th:only-of-type {\n",
       "        vertical-align: middle;\n",
       "    }\n",
       "\n",
       "    .dataframe tbody tr th {\n",
       "        vertical-align: top;\n",
       "    }\n",
       "\n",
       "    .dataframe thead th {\n",
       "        text-align: right;\n",
       "    }\n",
       "</style>\n",
       "<table border=\"1\" class=\"dataframe\">\n",
       "  <thead>\n",
       "    <tr style=\"text-align: right;\">\n",
       "      <th></th>\n",
       "      <th>Year</th>\n",
       "      <th>Month</th>\n",
       "      <th>Day</th>\n",
       "      <th>Hour</th>\n",
       "      <th>Time</th>\n",
       "      <th>Minimum depth</th>\n",
       "      <th>ts</th>\n",
       "    </tr>\n",
       "    <tr>\n",
       "      <th>Time</th>\n",
       "      <th></th>\n",
       "      <th></th>\n",
       "      <th></th>\n",
       "      <th></th>\n",
       "      <th></th>\n",
       "      <th></th>\n",
       "      <th></th>\n",
       "    </tr>\n",
       "  </thead>\n",
       "  <tbody>\n",
       "    <tr>\n",
       "      <th>2018-08-01 00:00:00</th>\n",
       "      <td>2018</td>\n",
       "      <td>8</td>\n",
       "      <td>1</td>\n",
       "      <td>0</td>\n",
       "      <td>01-08-2018 00:00</td>\n",
       "      <td>1.500000</td>\n",
       "      <td>1.533074e+09</td>\n",
       "    </tr>\n",
       "    <tr>\n",
       "      <th>2018-08-01 01:00:00</th>\n",
       "      <td>2018</td>\n",
       "      <td>8</td>\n",
       "      <td>1</td>\n",
       "      <td>1</td>\n",
       "      <td>01-08-2018 01:00</td>\n",
       "      <td>1.758819</td>\n",
       "      <td>1.533078e+09</td>\n",
       "    </tr>\n",
       "    <tr>\n",
       "      <th>2018-08-01 02:00:00</th>\n",
       "      <td>2018</td>\n",
       "      <td>8</td>\n",
       "      <td>1</td>\n",
       "      <td>2</td>\n",
       "      <td>01-08-2018 02:00</td>\n",
       "      <td>2.000000</td>\n",
       "      <td>1.533082e+09</td>\n",
       "    </tr>\n",
       "    <tr>\n",
       "      <th>2018-08-01 03:00:00</th>\n",
       "      <td>2018</td>\n",
       "      <td>8</td>\n",
       "      <td>1</td>\n",
       "      <td>3</td>\n",
       "      <td>01-08-2018 03:00</td>\n",
       "      <td>2.207107</td>\n",
       "      <td>1.533085e+09</td>\n",
       "    </tr>\n",
       "    <tr>\n",
       "      <th>2018-08-01 04:00:00</th>\n",
       "      <td>2018</td>\n",
       "      <td>8</td>\n",
       "      <td>1</td>\n",
       "      <td>4</td>\n",
       "      <td>01-08-2018 04:00</td>\n",
       "      <td>2.366025</td>\n",
       "      <td>1.533089e+09</td>\n",
       "    </tr>\n",
       "    <tr>\n",
       "      <th>2018-08-01 05:00:00</th>\n",
       "      <td>2018</td>\n",
       "      <td>8</td>\n",
       "      <td>1</td>\n",
       "      <td>5</td>\n",
       "      <td>01-08-2018 05:00</td>\n",
       "      <td>2.465926</td>\n",
       "      <td>1.533092e+09</td>\n",
       "    </tr>\n",
       "    <tr>\n",
       "      <th>2018-08-01 06:00:00</th>\n",
       "      <td>2018</td>\n",
       "      <td>8</td>\n",
       "      <td>1</td>\n",
       "      <td>6</td>\n",
       "      <td>01-08-2018 06:00</td>\n",
       "      <td>2.500000</td>\n",
       "      <td>1.533096e+09</td>\n",
       "    </tr>\n",
       "    <tr>\n",
       "      <th>2018-08-01 07:00:00</th>\n",
       "      <td>2018</td>\n",
       "      <td>8</td>\n",
       "      <td>1</td>\n",
       "      <td>7</td>\n",
       "      <td>01-08-2018 07:00</td>\n",
       "      <td>2.465926</td>\n",
       "      <td>1.533100e+09</td>\n",
       "    </tr>\n",
       "    <tr>\n",
       "      <th>2018-08-01 08:00:00</th>\n",
       "      <td>2018</td>\n",
       "      <td>8</td>\n",
       "      <td>1</td>\n",
       "      <td>8</td>\n",
       "      <td>01-08-2018 08:00</td>\n",
       "      <td>2.366025</td>\n",
       "      <td>1.533103e+09</td>\n",
       "    </tr>\n",
       "    <tr>\n",
       "      <th>2018-08-01 09:00:00</th>\n",
       "      <td>2018</td>\n",
       "      <td>8</td>\n",
       "      <td>1</td>\n",
       "      <td>9</td>\n",
       "      <td>01-08-2018 09:00</td>\n",
       "      <td>2.207107</td>\n",
       "      <td>1.533107e+09</td>\n",
       "    </tr>\n",
       "  </tbody>\n",
       "</table>\n",
       "</div>"
      ],
      "text/plain": [
       "                     Year  Month  Day  Hour              Time  Minimum depth  \\\n",
       "Time                                                                           \n",
       "2018-08-01 00:00:00  2018      8    1     0  01-08-2018 00:00       1.500000   \n",
       "2018-08-01 01:00:00  2018      8    1     1  01-08-2018 01:00       1.758819   \n",
       "2018-08-01 02:00:00  2018      8    1     2  01-08-2018 02:00       2.000000   \n",
       "2018-08-01 03:00:00  2018      8    1     3  01-08-2018 03:00       2.207107   \n",
       "2018-08-01 04:00:00  2018      8    1     4  01-08-2018 04:00       2.366025   \n",
       "2018-08-01 05:00:00  2018      8    1     5  01-08-2018 05:00       2.465926   \n",
       "2018-08-01 06:00:00  2018      8    1     6  01-08-2018 06:00       2.500000   \n",
       "2018-08-01 07:00:00  2018      8    1     7  01-08-2018 07:00       2.465926   \n",
       "2018-08-01 08:00:00  2018      8    1     8  01-08-2018 08:00       2.366025   \n",
       "2018-08-01 09:00:00  2018      8    1     9  01-08-2018 09:00       2.207107   \n",
       "\n",
       "                               ts  \n",
       "Time                               \n",
       "2018-08-01 00:00:00  1.533074e+09  \n",
       "2018-08-01 01:00:00  1.533078e+09  \n",
       "2018-08-01 02:00:00  1.533082e+09  \n",
       "2018-08-01 03:00:00  1.533085e+09  \n",
       "2018-08-01 04:00:00  1.533089e+09  \n",
       "2018-08-01 05:00:00  1.533092e+09  \n",
       "2018-08-01 06:00:00  1.533096e+09  \n",
       "2018-08-01 07:00:00  1.533100e+09  \n",
       "2018-08-01 08:00:00  1.533103e+09  \n",
       "2018-08-01 09:00:00  1.533107e+09  "
      ]
     },
     "execution_count": 6,
     "metadata": {},
     "output_type": "execute_result"
    }
   ],
   "source": [
    "# generate a dataframe with depth data\n",
    "df = pd.DataFrame({'Year': [], 'Month': [], 'Day': [], 'Hour': [], 'Time': [], 'Minimum depth': [], 'ts': []})\n",
    "Year = 2018\n",
    "Month = 8\n",
    "\n",
    "# create two lists  with college id and name\n",
    "Days = 24*[1] + 24*[2] + 24*[3] + 24*[4] \n",
    "Hours = 4*list(range(0,24))\n",
    "  \n",
    "# zip the two lists using zip() function\n",
    "DayHours = list(zip(Days, Hours))\n",
    "\n",
    "for DayHour in DayHours:\n",
    "    Time = str(DayHour[0]).zfill(2) + '-' + str(Month).zfill(2) + '-' + str(Year).zfill(4) + ' ' + str(DayHour[1]).zfill(2) + ':' + str(0).zfill(2)  \n",
    "    df.loc[len(df.index)] = [Year, Month, DayHour[0], DayHour[1], Time, \n",
    "                             np.sin(1/12* DayHour[1] * np.pi) + 1.5, \n",
    "                             datetime.datetime(Year, Month, DayHour[0], DayHour[1]).timestamp()]    \n",
    "\n",
    "df = df.set_index(pd.to_datetime(df[\"Time\"], dayfirst=True))\n",
    "df = df.sort_index()\n",
    "df.head(10)"
   ]
  },
  {
   "cell_type": "code",
   "execution_count": 7,
   "metadata": {},
   "outputs": [
    {
     "data": {
      "text/plain": [
       "<AxesSubplot:xlabel='Time', ylabel='Minimum depth [m]'>"
      ]
     },
     "execution_count": 7,
     "metadata": {},
     "output_type": "execute_result"
    },
    {
     "data": {
      "image/png": "[encoded data removed]",
      "text/plain": [
       "<Figure size 432x288 with 1 Axes>"
      ]
     },
     "metadata": {
      "needs_background": "light"
     },
     "output_type": "display_data"
    }
   ],
   "source": [
    "df.plot(kind='line',x='Time',y='Minimum depth',color='red', ylabel='Minimum depth [m]')"
   ]
  },
  {
   "cell_type": "code",
   "execution_count": 8,
   "metadata": {},
   "outputs": [],
   "source": [
    "# generate a depth criterion for the sailing process\n",
    "sailing_crit = plugin.DepthCriterion(\n",
    "    name=\"sailing_crit\",\n",
    "    condition=\"Minimum depth\",\n",
    "    minimum=1, # for now we assume that 1 m waterdepth is the minimum depth for economic accomodation of draught + ukc + margin\n",
    "    window_length=3600,\n",
    ")\n",
    "\n",
    "# generate a depth criterion for the loading process\n",
    "loading_crit = plugin.DepthCriterion(\n",
    "    name=\"loading_crit\",\n",
    "    condition=\"Minimum depth\",\n",
    "    minimum=1, # for now we assume that 1 m waterdepth is the minimum depth for economic accomodation of draught + ukc + margin\n",
    "    window_length=3600,\n",
    ")\n",
    "# Todo: we should look at the minimum depth for a window as long as the sailing trip (and then make sure we load accordingly)"
   ]
  },
  {
   "cell_type": "code",
   "execution_count": 9,
   "metadata": {},
   "outputs": [],
   "source": [
    "# initialise registry\n",
    "registry = {}"
   ]
  },
  {
   "cell_type": "code",
   "execution_count": 10,
   "metadata": {},
   "outputs": [],
   "source": [
    "# create a list of the sub processes\n",
    "sub_processes = [\n",
    "    TestMoveActivity(\n",
    "        env=my_env,\n",
    "        name=\"sailing empty\",\n",
    "        registry=registry,\n",
    "        mover=vessel01,\n",
    "        destination=from_site,\n",
    "        depth_criteria=sailing_crit,\n",
    "        depth_df=df,\n",
    "    ),\n",
    "    TestShiftActivity(\n",
    "        env=my_env,\n",
    "        name=\"loading\",\n",
    "        registry=registry,\n",
    "        processor=vessel01,\n",
    "        origin=from_site,\n",
    "        destination=vessel01,\n",
    "        amount=4,\n",
    "        duration=3600,\n",
    "        depth_criteria=loading_crit,\n",
    "        depth_df=df,\n",
    "    ),\n",
    "    TestMoveActivity(\n",
    "        env=my_env,\n",
    "        name=\"sailing full\",\n",
    "        registry=registry,\n",
    "        mover=vessel01,\n",
    "        destination=to_site,\n",
    "        depth_criteria=sailing_crit,\n",
    "        depth_df=df,\n",
    "    ),\n",
    "    TestShiftActivity(\n",
    "        env=my_env,\n",
    "        name=\"unloading\",\n",
    "        registry=registry,\n",
    "        processor=vessel01,\n",
    "        origin=vessel01,\n",
    "        destination=to_site,\n",
    "        amount=4,\n",
    "        duration=3600,\n",
    "        depth_criteria=loading_crit,\n",
    "        depth_df=df,\n",
    "    ),\n",
    "]\n",
    "\n",
    "# create a 'sequential activity' that is made up of the 'sub_processes'\n",
    "sequential_activity = model.SequentialActivity(\n",
    "    env=my_env,\n",
    "    name=\"sequential_activity_subcycle\",\n",
    "    registry=registry,\n",
    "    sub_processes=sub_processes,\n",
    ")\n",
    "\n",
    "# create a while activity that executes the 'sequential activity' while the stop condition is not triggered \n",
    "while_activity = model.WhileActivity(\n",
    "    env=my_env,\n",
    "    name=\"while_sequential_activity_subcycle\",\n",
    "    registry=registry,\n",
    "    sub_processes=[sequential_activity],\n",
    "    condition_event=[{\"type\": \"container\", \"concept\": to_site, \"state\": \"full\"}],\n",
    ")"
   ]
  },
  {
   "cell_type": "markdown",
   "metadata": {},
   "source": [
    "#### 4. Register processes and run simpy"
   ]
  },
  {
   "cell_type": "code",
   "execution_count": 11,
   "metadata": {},
   "outputs": [],
   "source": [
    "# initate the simpy processes defined in the 'while activity' and run simpy\n",
    "model.register_processes([while_activity])\n",
    "my_env.run()"
   ]
  },
  {
   "cell_type": "markdown",
   "metadata": {},
   "source": [
    "#### 5. Inspect results\n",
    "##### 5.1 Inspect logs"
   ]
  },
  {
   "cell_type": "code",
   "execution_count": 12,
   "metadata": {
    "scrolled": false
   },
   "outputs": [
    {
     "data": {
      "text/html": [
       "<div>\n",
       "<style scoped>\n",
       "    .dataframe tbody tr th:only-of-type {\n",
       "        vertical-align: middle;\n",
       "    }\n",
       "\n",
       "    .dataframe tbody tr th {\n",
       "        vertical-align: top;\n",
       "    }\n",
       "\n",
       "    .dataframe thead th {\n",
       "        text-align: right;\n",
       "    }\n",
       "</style>\n",
       "<table border=\"1\" class=\"dataframe\">\n",
       "  <thead>\n",
       "    <tr style=\"text-align: right;\">\n",
       "      <th></th>\n",
       "      <th>Activity</th>\n",
       "      <th>Timestamp</th>\n",
       "      <th>ActivityState</th>\n",
       "      <th>type</th>\n",
       "      <th>ref</th>\n",
       "    </tr>\n",
       "  </thead>\n",
       "  <tbody>\n",
       "    <tr>\n",
       "      <th>0</th>\n",
       "      <td>while_sequential_activity_subcycle</td>\n",
       "      <td>2018-07-31 22:00:00.000000</td>\n",
       "      <td>START</td>\n",
       "      <td>NaN</td>\n",
       "      <td>NaN</td>\n",
       "    </tr>\n",
       "    <tr>\n",
       "      <th>1</th>\n",
       "      <td>while_sequential_activity_subcycle</td>\n",
       "      <td>2018-07-31 22:00:00.000000</td>\n",
       "      <td>START</td>\n",
       "      <td>subprocess</td>\n",
       "      <td>afd46a59-5f60-413a-af6d-2b1abc2643a4</td>\n",
       "    </tr>\n",
       "    <tr>\n",
       "      <th>2</th>\n",
       "      <td>while_sequential_activity_subcycle</td>\n",
       "      <td>2018-08-01 00:15:42.824591</td>\n",
       "      <td>STOP</td>\n",
       "      <td>subprocess</td>\n",
       "      <td>afd46a59-5f60-413a-af6d-2b1abc2643a4</td>\n",
       "    </tr>\n",
       "    <tr>\n",
       "      <th>3</th>\n",
       "      <td>while_sequential_activity_subcycle</td>\n",
       "      <td>2018-08-01 00:15:42.824591</td>\n",
       "      <td>START</td>\n",
       "      <td>subprocess</td>\n",
       "      <td>afd46a59-5f60-413a-af6d-2b1abc2643a4</td>\n",
       "    </tr>\n",
       "    <tr>\n",
       "      <th>4</th>\n",
       "      <td>while_sequential_activity_subcycle</td>\n",
       "      <td>2018-08-01 02:47:08.473773</td>\n",
       "      <td>STOP</td>\n",
       "      <td>subprocess</td>\n",
       "      <td>afd46a59-5f60-413a-af6d-2b1abc2643a4</td>\n",
       "    </tr>\n",
       "  </tbody>\n",
       "</table>\n",
       "</div>"
      ],
      "text/plain": [
       "                             Activity                  Timestamp  \\\n",
       "0  while_sequential_activity_subcycle 2018-07-31 22:00:00.000000   \n",
       "1  while_sequential_activity_subcycle 2018-07-31 22:00:00.000000   \n",
       "2  while_sequential_activity_subcycle 2018-08-01 00:15:42.824591   \n",
       "3  while_sequential_activity_subcycle 2018-08-01 00:15:42.824591   \n",
       "4  while_sequential_activity_subcycle 2018-08-01 02:47:08.473773   \n",
       "\n",
       "  ActivityState        type                                   ref  \n",
       "0         START         NaN                                   NaN  \n",
       "1         START  subprocess  afd46a59-5f60-413a-af6d-2b1abc2643a4  \n",
       "2          STOP  subprocess  afd46a59-5f60-413a-af6d-2b1abc2643a4  \n",
       "3         START  subprocess  afd46a59-5f60-413a-af6d-2b1abc2643a4  \n",
       "4          STOP  subprocess  afd46a59-5f60-413a-af6d-2b1abc2643a4  "
      ]
     },
     "execution_count": 12,
     "metadata": {},
     "output_type": "execute_result"
    }
   ],
   "source": [
    "plot.get_log_dataframe(while_activity, [while_activity]).head()"
   ]
  },
  {
   "cell_type": "code",
   "execution_count": 13,
   "metadata": {},
   "outputs": [
    {
     "data": {
      "text/html": [
       "<div>\n",
       "<style scoped>\n",
       "    .dataframe tbody tr th:only-of-type {\n",
       "        vertical-align: middle;\n",
       "    }\n",
       "\n",
       "    .dataframe tbody tr th {\n",
       "        vertical-align: top;\n",
       "    }\n",
       "\n",
       "    .dataframe thead th {\n",
       "        text-align: right;\n",
       "    }\n",
       "</style>\n",
       "<table border=\"1\" class=\"dataframe\">\n",
       "  <thead>\n",
       "    <tr style=\"text-align: right;\">\n",
       "      <th></th>\n",
       "      <th>Activity</th>\n",
       "      <th>Timestamp</th>\n",
       "      <th>ActivityState</th>\n",
       "    </tr>\n",
       "  </thead>\n",
       "  <tbody>\n",
       "    <tr>\n",
       "      <th>0</th>\n",
       "      <td>loading</td>\n",
       "      <td>2018-07-31 22:00:00.000000</td>\n",
       "      <td>START</td>\n",
       "    </tr>\n",
       "    <tr>\n",
       "      <th>1</th>\n",
       "      <td>loading</td>\n",
       "      <td>2018-07-31 23:00:00.000000</td>\n",
       "      <td>STOP</td>\n",
       "    </tr>\n",
       "    <tr>\n",
       "      <th>2</th>\n",
       "      <td>loading</td>\n",
       "      <td>2018-08-01 00:31:25.649182</td>\n",
       "      <td>START</td>\n",
       "    </tr>\n",
       "    <tr>\n",
       "      <th>3</th>\n",
       "      <td>loading</td>\n",
       "      <td>2018-08-01 01:31:25.649182</td>\n",
       "      <td>STOP</td>\n",
       "    </tr>\n",
       "    <tr>\n",
       "      <th>4</th>\n",
       "      <td>loading</td>\n",
       "      <td>2018-08-01 03:02:51.298365</td>\n",
       "      <td>START</td>\n",
       "    </tr>\n",
       "  </tbody>\n",
       "</table>\n",
       "</div>"
      ],
      "text/plain": [
       "  Activity                  Timestamp ActivityState\n",
       "0  loading 2018-07-31 22:00:00.000000         START\n",
       "1  loading 2018-07-31 23:00:00.000000          STOP\n",
       "2  loading 2018-08-01 00:31:25.649182         START\n",
       "3  loading 2018-08-01 01:31:25.649182          STOP\n",
       "4  loading 2018-08-01 03:02:51.298365         START"
      ]
     },
     "execution_count": 13,
     "metadata": {},
     "output_type": "execute_result"
    }
   ],
   "source": [
    "plot.get_log_dataframe(sub_processes[1], [while_activity]).head()"
   ]
  },
  {
   "cell_type": "markdown",
   "metadata": {},
   "source": [
    "##### 5.2 Visualise gantt charts"
   ]
  },
  {
   "cell_type": "code",
   "execution_count": 14,
   "metadata": {},
   "outputs": [
    {
     "data": {
      "application/vnd.plotly.v1+json": {
       "config": {
        "plotlyServerURL": "https://plot.ly"
       },
       "data": [
        {
         "connectgaps": false,
         "hoverinfo": "y+name",
         "line": {
          "color": "rgb(62,85,69)",
          "width": 10
         },
         "mode": "lines",
         "name": "sailing full",
         "type": "scatter",
         "x": [
          "2018-07-31T23:00:00",
          "2018-07-31T23:00:00",
          "2018-07-31T23:15:42.824591",
          "2018-07-31T23:15:42.824591",
          "2018-07-31T23:15:42.824591",
          "2018-08-01T01:31:25.649182",
          "2018-08-01T01:31:25.649182",
          "2018-08-01T01:47:08.473773",
          "2018-08-01T01:47:08.473773",
          "2018-08-01T01:47:08.473773",
          "2018-08-01T04:02:51.298365",
          "2018-08-01T04:02:51.298365",
          "2018-08-01T04:18:34.122956",
          "2018-08-01T04:18:34.122956",
          "2018-08-01T04:18:34.122956",
          "2018-08-01T06:34:16.947547",
          "2018-08-01T06:34:16.947547",
          "2018-08-01T06:49:59.772138",
          "2018-08-01T06:49:59.772138",
          "2018-08-01T06:49:59.772138",
          "2018-08-01T09:05:42.596729",
          "2018-08-01T09:05:42.596729",
          "2018-08-01T09:21:25.421320",
          "2018-08-01T09:21:25.421320",
          "2018-08-01T09:21:25.421320",
          "2018-08-01T11:37:08.245912",
          "2018-08-01T11:37:08.245912",
          "2018-08-01T11:52:51.070503",
          "2018-08-01T11:52:51.070503",
          "2018-08-01T11:52:51.070503",
          "2018-08-01T22:15:42.824591",
          "2018-08-01T22:15:42.824591",
          "2018-08-01T22:31:25.649182",
          "2018-08-01T22:31:25.649182",
          "2018-08-01T22:31:25.649182",
          "2018-08-02T00:47:08.473773",
          "2018-08-02T00:47:08.473773",
          "2018-08-02T01:02:51.298365",
          "2018-08-02T01:02:51.298365",
          "2018-08-02T01:02:51.298365",
          "2018-08-02T03:18:34.122956",
          "2018-08-02T03:18:34.122956",
          "2018-08-02T03:34:16.947547",
          "2018-08-02T03:34:16.947547",
          "2018-08-02T03:34:16.947547",
          "2018-08-02T05:49:59.772138",
          "2018-08-02T05:49:59.772138",
          "2018-08-02T06:05:42.596729",
          "2018-08-02T06:05:42.596729",
          "2018-08-02T06:05:42.596729",
          "2018-08-02T08:21:25.421320",
          "2018-08-02T08:21:25.421320",
          "2018-08-02T08:37:08.245912",
          "2018-08-02T08:37:08.245912",
          "2018-08-02T08:37:08.245912",
          "2018-08-02T10:52:51.070503",
          "2018-08-02T10:52:51.070503",
          "2018-08-02T11:08:33.895094",
          "2018-08-02T11:08:33.895094",
          "2018-08-02T11:08:33.895094",
          "2018-08-02T22:15:42.824591",
          "2018-08-02T22:15:42.824591",
          "2018-08-02T22:31:25.649182",
          "2018-08-02T22:31:25.649182",
          "2018-08-02T22:31:25.649182",
          "2018-08-03T00:47:08.473773",
          "2018-08-03T00:47:08.473773",
          "2018-08-03T01:02:51.298365",
          "2018-08-03T01:02:51.298365",
          "2018-08-03T01:02:51.298365",
          "2018-08-03T03:18:34.122956",
          "2018-08-03T03:18:34.122956",
          "2018-08-03T03:34:16.947547",
          "2018-08-03T03:34:16.947547",
          "2018-08-03T03:34:16.947547",
          "2018-08-03T05:49:59.772138",
          "2018-08-03T05:49:59.772138",
          "2018-08-03T06:05:42.596729",
          "2018-08-03T06:05:42.596729",
          "2018-08-03T06:05:42.596729",
          "2018-08-03T08:21:25.421320",
          "2018-08-03T08:21:25.421320",
          "2018-08-03T08:37:08.245912",
          "2018-08-03T08:37:08.245912",
          "2018-08-03T08:37:08.245912",
          "2018-08-03T10:52:51.070503",
          "2018-08-03T10:52:51.070503",
          "2018-08-03T11:08:33.895094",
          "2018-08-03T11:08:33.895094",
          "2018-08-03T11:08:33.895094",
          "2018-08-03T22:15:42.824591",
          "2018-08-03T22:15:42.824591",
          "2018-08-03T22:31:25.649182",
          "2018-08-03T22:31:25.649182",
          "2018-08-03T22:31:25.649182",
          "2018-08-04T00:47:08.473773",
          "2018-08-04T00:47:08.473773",
          "2018-08-04T01:02:51.298365",
          "2018-08-04T01:02:51.298365",
          "2018-08-04T01:02:51.298365",
          "2018-08-04T03:18:34.122956",
          "2018-08-04T03:18:34.122956",
          "2018-08-04T03:34:16.947547",
          "2018-08-04T03:34:16.947547",
          "2018-08-04T03:34:16.947547",
          "2018-08-04T05:49:59.772138",
          "2018-08-04T05:49:59.772138",
          "2018-08-04T06:05:42.596729",
          "2018-08-04T06:05:42.596729",
          "2018-08-04T06:05:42.596729",
          "2018-08-04T08:21:25.421320",
          "2018-08-04T08:21:25.421320",
          "2018-08-04T08:37:08.245912",
          "2018-08-04T08:37:08.245912",
          "2018-08-04T08:37:08.245912",
          "2018-08-04T10:52:51.070503",
          "2018-08-04T10:52:51.070503",
          "2018-08-04T11:08:33.895094",
          "2018-08-04T11:08:33.895094",
          "2018-08-04T11:08:33.895094",
          "2018-08-04T13:24:16.719685",
          "2018-08-04T13:24:16.719685",
          "2018-08-04T13:39:59.544276",
          "2018-08-04T13:39:59.544276",
          "2018-08-04T13:39:59.544276",
          "2018-08-04T15:55:42.368867",
          "2018-08-04T15:55:42.368867",
          "2018-08-04T16:11:25.193459",
          "2018-08-04T16:11:25.193459",
          "2018-08-04T16:11:25.193459",
          "2018-08-04T18:27:08.018050",
          "2018-08-04T18:27:08.018050",
          "2018-08-04T18:42:50.842641",
          "2018-08-04T18:42:50.842641",
          "2018-08-04T18:42:50.842641",
          "2018-08-04T20:58:33.667232",
          "2018-08-04T20:58:33.667232",
          "2018-08-04T21:14:16.491823",
          "2018-08-04T21:14:16.491823",
          "2018-08-04T21:14:16.491823",
          "2018-08-04T23:29:59.316414",
          "2018-08-04T23:29:59.316414",
          "2018-08-04T23:45:42.141006",
          "2018-08-04T23:45:42.141006",
          "2018-08-04T23:45:42.141006",
          "2018-08-05T02:01:24.965597",
          "2018-08-05T02:01:24.965597",
          "2018-08-05T02:17:07.790188",
          "2018-08-05T02:17:07.790188",
          "2018-08-05T02:17:07.790188"
         ],
         "y": [
          0,
          0,
          0,
          0,
          null,
          0,
          0,
          0,
          0,
          null,
          0,
          0,
          0,
          0,
          null,
          0,
          0,
          0,
          0,
          null,
          0,
          0,
          0,
          0,
          null,
          0,
          0,
          0,
          0,
          null,
          0,
          0,
          0,
          0,
          null,
          0,
          0,
          0,
          0,
          null,
          0,
          0,
          0,
          0,
          null,
          0,
          0,
          0,
          0,
          null,
          0,
          0,
          0,
          0,
          null,
          0,
          0,
          0,
          0,
          null,
          0,
          0,
          0,
          0,
          null,
          0,
          0,
          0,
          0,
          null,
          0,
          0,
          0,
          0,
          null,
          0,
          0,
          0,
          0,
          null,
          0,
          0,
          0,
          0,
          null,
          0,
          0,
          0,
          0,
          null,
          0,
          0,
          0,
          0,
          null,
          0,
          0,
          0,
          0,
          null,
          0,
          0,
          0,
          0,
          null,
          0,
          0,
          0,
          0,
          null,
          0,
          0,
          0,
          0,
          null,
          0,
          0,
          0,
          0,
          null,
          0,
          0,
          0,
          0,
          null,
          0,
          0,
          0,
          0,
          null,
          0,
          0,
          0,
          0,
          null,
          0,
          0,
          0,
          0,
          null,
          0,
          0,
          0,
          0,
          null,
          0,
          0,
          0,
          0,
          null
         ]
        },
        {
         "connectgaps": false,
         "hoverinfo": "y+name",
         "line": {
          "color": "rgb(126,149,133)",
          "width": 10
         },
         "mode": "lines",
         "name": "unloading",
         "type": "scatter",
         "x": [
          "2018-07-31T23:15:42.824591",
          "2018-07-31T23:15:42.824591",
          "2018-08-01T00:15:42.824591",
          "2018-08-01T00:15:42.824591",
          "2018-08-01T00:15:42.824591",
          "2018-08-01T01:47:08.473773",
          "2018-08-01T01:47:08.473773",
          "2018-08-01T02:47:08.473773",
          "2018-08-01T02:47:08.473773",
          "2018-08-01T02:47:08.473773",
          "2018-08-01T04:18:34.122956",
          "2018-08-01T04:18:34.122956",
          "2018-08-01T05:18:34.122956",
          "2018-08-01T05:18:34.122956",
          "2018-08-01T05:18:34.122956",
          "2018-08-01T06:49:59.772138",
          "2018-08-01T06:49:59.772138",
          "2018-08-01T07:49:59.772138",
          "2018-08-01T07:49:59.772138",
          "2018-08-01T07:49:59.772138",
          "2018-08-01T09:21:25.421320",
          "2018-08-01T09:21:25.421320",
          "2018-08-01T10:21:25.421320",
          "2018-08-01T10:21:25.421320",
          "2018-08-01T10:21:25.421320",
          "2018-08-01T11:52:51.070503",
          "2018-08-01T11:52:51.070503",
          "2018-08-01T12:52:51.070503",
          "2018-08-01T12:52:51.070503",
          "2018-08-01T12:52:51.070503",
          "2018-08-01T22:31:25.649182",
          "2018-08-01T22:31:25.649182",
          "2018-08-01T23:31:25.649182",
          "2018-08-01T23:31:25.649182",
          "2018-08-01T23:31:25.649182",
          "2018-08-02T01:02:51.298365",
          "2018-08-02T01:02:51.298365",
          "2018-08-02T02:02:51.298365",
          "2018-08-02T02:02:51.298365",
          "2018-08-02T02:02:51.298365",
          "2018-08-02T03:34:16.947547",
          "2018-08-02T03:34:16.947547",
          "2018-08-02T04:34:16.947547",
          "2018-08-02T04:34:16.947547",
          "2018-08-02T04:34:16.947547",
          "2018-08-02T06:05:42.596729",
          "2018-08-02T06:05:42.596729",
          "2018-08-02T07:05:42.596729",
          "2018-08-02T07:05:42.596729",
          "2018-08-02T07:05:42.596729",
          "2018-08-02T08:37:08.245912",
          "2018-08-02T08:37:08.245912",
          "2018-08-02T09:37:08.245912",
          "2018-08-02T09:37:08.245912",
          "2018-08-02T09:37:08.245912",
          "2018-08-02T11:08:33.895094",
          "2018-08-02T11:08:33.895094",
          "2018-08-02T12:08:33.895094",
          "2018-08-02T12:08:33.895094",
          "2018-08-02T12:08:33.895094",
          "2018-08-02T22:31:25.649182",
          "2018-08-02T22:31:25.649182",
          "2018-08-02T23:31:25.649182",
          "2018-08-02T23:31:25.649182",
          "2018-08-02T23:31:25.649182",
          "2018-08-03T01:02:51.298365",
          "2018-08-03T01:02:51.298365",
          "2018-08-03T02:02:51.298365",
          "2018-08-03T02:02:51.298365",
          "2018-08-03T02:02:51.298365",
          "2018-08-03T03:34:16.947547",
          "2018-08-03T03:34:16.947547",
          "2018-08-03T04:34:16.947547",
          "2018-08-03T04:34:16.947547",
          "2018-08-03T04:34:16.947547",
          "2018-08-03T06:05:42.596729",
          "2018-08-03T06:05:42.596729",
          "2018-08-03T07:05:42.596729",
          "2018-08-03T07:05:42.596729",
          "2018-08-03T07:05:42.596729",
          "2018-08-03T08:37:08.245912",
          "2018-08-03T08:37:08.245912",
          "2018-08-03T09:37:08.245912",
          "2018-08-03T09:37:08.245912",
          "2018-08-03T09:37:08.245912",
          "2018-08-03T11:08:33.895094",
          "2018-08-03T11:08:33.895094",
          "2018-08-03T12:08:33.895094",
          "2018-08-03T12:08:33.895094",
          "2018-08-03T12:08:33.895094",
          "2018-08-03T22:31:25.649182",
          "2018-08-03T22:31:25.649182",
          "2018-08-03T23:31:25.649182",
          "2018-08-03T23:31:25.649182",
          "2018-08-03T23:31:25.649182",
          "2018-08-04T01:02:51.298365",
          "2018-08-04T01:02:51.298365",
          "2018-08-04T02:02:51.298365",
          "2018-08-04T02:02:51.298365",
          "2018-08-04T02:02:51.298365",
          "2018-08-04T03:34:16.947547",
          "2018-08-04T03:34:16.947547",
          "2018-08-04T04:34:16.947547",
          "2018-08-04T04:34:16.947547",
          "2018-08-04T04:34:16.947547",
          "2018-08-04T06:05:42.596729",
          "2018-08-04T06:05:42.596729",
          "2018-08-04T07:05:42.596729",
          "2018-08-04T07:05:42.596729",
          "2018-08-04T07:05:42.596729",
          "2018-08-04T08:37:08.245912",
          "2018-08-04T08:37:08.245912",
          "2018-08-04T09:37:08.245912",
          "2018-08-04T09:37:08.245912",
          "2018-08-04T09:37:08.245912",
          "2018-08-04T11:08:33.895094",
          "2018-08-04T11:08:33.895094",
          "2018-08-04T12:08:33.895094",
          "2018-08-04T12:08:33.895094",
          "2018-08-04T12:08:33.895094",
          "2018-08-04T13:39:59.544276",
          "2018-08-04T13:39:59.544276",
          "2018-08-04T14:39:59.544276",
          "2018-08-04T14:39:59.544276",
          "2018-08-04T14:39:59.544276",
          "2018-08-04T16:11:25.193459",
          "2018-08-04T16:11:25.193459",
          "2018-08-04T17:11:25.193459",
          "2018-08-04T17:11:25.193459",
          "2018-08-04T17:11:25.193459",
          "2018-08-04T18:42:50.842641",
          "2018-08-04T18:42:50.842641",
          "2018-08-04T19:42:50.842641",
          "2018-08-04T19:42:50.842641",
          "2018-08-04T19:42:50.842641",
          "2018-08-04T21:14:16.491823",
          "2018-08-04T21:14:16.491823",
          "2018-08-04T22:14:16.491823",
          "2018-08-04T22:14:16.491823",
          "2018-08-04T22:14:16.491823",
          "2018-08-04T23:45:42.141006",
          "2018-08-04T23:45:42.141006",
          "2018-08-05T00:45:42.141006",
          "2018-08-05T00:45:42.141006",
          "2018-08-05T00:45:42.141006",
          "2018-08-05T02:17:07.790188",
          "2018-08-05T02:17:07.790188",
          "2018-08-05T03:17:07.790188",
          "2018-08-05T03:17:07.790188",
          "2018-08-05T03:17:07.790188"
         ],
         "y": [
          0,
          0,
          0,
          0,
          null,
          0,
          0,
          0,
          0,
          null,
          0,
          0,
          0,
          0,
          null,
          0,
          0,
          0,
          0,
          null,
          0,
          0,
          0,
          0,
          null,
          0,
          0,
          0,
          0,
          null,
          0,
          0,
          0,
          0,
          null,
          0,
          0,
          0,
          0,
          null,
          0,
          0,
          0,
          0,
          null,
          0,
          0,
          0,
          0,
          null,
          0,
          0,
          0,
          0,
          null,
          0,
          0,
          0,
          0,
          null,
          0,
          0,
          0,
          0,
          null,
          0,
          0,
          0,
          0,
          null,
          0,
          0,
          0,
          0,
          null,
          0,
          0,
          0,
          0,
          null,
          0,
          0,
          0,
          0,
          null,
          0,
          0,
          0,
          0,
          null,
          0,
          0,
          0,
          0,
          null,
          0,
          0,
          0,
          0,
          null,
          0,
          0,
          0,
          0,
          null,
          0,
          0,
          0,
          0,
          null,
          0,
          0,
          0,
          0,
          null,
          0,
          0,
          0,
          0,
          null,
          0,
          0,
          0,
          0,
          null,
          0,
          0,
          0,
          0,
          null,
          0,
          0,
          0,
          0,
          null,
          0,
          0,
          0,
          0,
          null,
          0,
          0,
          0,
          0,
          null,
          0,
          0,
          0,
          0,
          null
         ]
        },
        {
         "connectgaps": false,
         "hoverinfo": "y+name",
         "line": {
          "color": "rgb(190,213,197)",
          "width": 10
         },
         "mode": "lines",
         "name": "sailing empty",
         "type": "scatter",
         "x": [
          "2018-07-31T22:00:00",
          "2018-07-31T22:00:00",
          "2018-07-31T22:00:00",
          "2018-07-31T22:00:00",
          "2018-07-31T22:00:00",
          "2018-08-01T00:15:42.824591",
          "2018-08-01T00:15:42.824591",
          "2018-08-01T00:31:25.649182",
          "2018-08-01T00:31:25.649182",
          "2018-08-01T00:31:25.649182",
          "2018-08-01T02:47:08.473773",
          "2018-08-01T02:47:08.473773",
          "2018-08-01T03:02:51.298365",
          "2018-08-01T03:02:51.298365",
          "2018-08-01T03:02:51.298365",
          "2018-08-01T05:18:34.122956",
          "2018-08-01T05:18:34.122956",
          "2018-08-01T05:34:16.947547",
          "2018-08-01T05:34:16.947547",
          "2018-08-01T05:34:16.947547",
          "2018-08-01T07:49:59.772138",
          "2018-08-01T07:49:59.772138",
          "2018-08-01T08:05:42.596729",
          "2018-08-01T08:05:42.596729",
          "2018-08-01T08:05:42.596729",
          "2018-08-01T10:21:25.421320",
          "2018-08-01T10:21:25.421320",
          "2018-08-01T10:37:08.245912",
          "2018-08-01T10:37:08.245912",
          "2018-08-01T10:37:08.245912",
          "2018-08-01T21:00:00",
          "2018-08-01T21:00:00",
          "2018-08-01T21:15:42.824591",
          "2018-08-01T21:15:42.824591",
          "2018-08-01T21:15:42.824591",
          "2018-08-01T23:31:25.649182",
          "2018-08-01T23:31:25.649182",
          "2018-08-01T23:47:08.473773",
          "2018-08-01T23:47:08.473773",
          "2018-08-01T23:47:08.473773",
          "2018-08-02T02:02:51.298365",
          "2018-08-02T02:02:51.298365",
          "2018-08-02T02:18:34.122956",
          "2018-08-02T02:18:34.122956",
          "2018-08-02T02:18:34.122956",
          "2018-08-02T04:34:16.947547",
          "2018-08-02T04:34:16.947547",
          "2018-08-02T04:49:59.772138",
          "2018-08-02T04:49:59.772138",
          "2018-08-02T04:49:59.772138",
          "2018-08-02T07:05:42.596729",
          "2018-08-02T07:05:42.596729",
          "2018-08-02T07:21:25.421320",
          "2018-08-02T07:21:25.421320",
          "2018-08-02T07:21:25.421320",
          "2018-08-02T09:37:08.245912",
          "2018-08-02T09:37:08.245912",
          "2018-08-02T09:52:51.070503",
          "2018-08-02T09:52:51.070503",
          "2018-08-02T09:52:51.070503",
          "2018-08-02T21:00:00",
          "2018-08-02T21:00:00",
          "2018-08-02T21:15:42.824591",
          "2018-08-02T21:15:42.824591",
          "2018-08-02T21:15:42.824591",
          "2018-08-02T23:31:25.649182",
          "2018-08-02T23:31:25.649182",
          "2018-08-02T23:47:08.473773",
          "2018-08-02T23:47:08.473773",
          "2018-08-02T23:47:08.473773",
          "2018-08-03T02:02:51.298365",
          "2018-08-03T02:02:51.298365",
          "2018-08-03T02:18:34.122956",
          "2018-08-03T02:18:34.122956",
          "2018-08-03T02:18:34.122956",
          "2018-08-03T04:34:16.947547",
          "2018-08-03T04:34:16.947547",
          "2018-08-03T04:49:59.772138",
          "2018-08-03T04:49:59.772138",
          "2018-08-03T04:49:59.772138",
          "2018-08-03T07:05:42.596729",
          "2018-08-03T07:05:42.596729",
          "2018-08-03T07:21:25.421320",
          "2018-08-03T07:21:25.421320",
          "2018-08-03T07:21:25.421320",
          "2018-08-03T09:37:08.245912",
          "2018-08-03T09:37:08.245912",
          "2018-08-03T09:52:51.070503",
          "2018-08-03T09:52:51.070503",
          "2018-08-03T09:52:51.070503",
          "2018-08-03T21:00:00",
          "2018-08-03T21:00:00",
          "2018-08-03T21:15:42.824591",
          "2018-08-03T21:15:42.824591",
          "2018-08-03T21:15:42.824591",
          "2018-08-03T23:31:25.649182",
          "2018-08-03T23:31:25.649182",
          "2018-08-03T23:47:08.473773",
          "2018-08-03T23:47:08.473773",
          "2018-08-03T23:47:08.473773",
          "2018-08-04T02:02:51.298365",
          "2018-08-04T02:02:51.298365",
          "2018-08-04T02:18:34.122956",
          "2018-08-04T02:18:34.122956",
          "2018-08-04T02:18:34.122956",
          "2018-08-04T04:34:16.947547",
          "2018-08-04T04:34:16.947547",
          "2018-08-04T04:49:59.772138",
          "2018-08-04T04:49:59.772138",
          "2018-08-04T04:49:59.772138",
          "2018-08-04T07:05:42.596729",
          "2018-08-04T07:05:42.596729",
          "2018-08-04T07:21:25.421320",
          "2018-08-04T07:21:25.421320",
          "2018-08-04T07:21:25.421320",
          "2018-08-04T09:37:08.245912",
          "2018-08-04T09:37:08.245912",
          "2018-08-04T09:52:51.070503",
          "2018-08-04T09:52:51.070503",
          "2018-08-04T09:52:51.070503",
          "2018-08-04T12:08:33.895094",
          "2018-08-04T12:08:33.895094",
          "2018-08-04T12:24:16.719685",
          "2018-08-04T12:24:16.719685",
          "2018-08-04T12:24:16.719685",
          "2018-08-04T14:39:59.544276",
          "2018-08-04T14:39:59.544276",
          "2018-08-04T14:55:42.368867",
          "2018-08-04T14:55:42.368867",
          "2018-08-04T14:55:42.368867",
          "2018-08-04T17:11:25.193459",
          "2018-08-04T17:11:25.193459",
          "2018-08-04T17:27:08.018050",
          "2018-08-04T17:27:08.018050",
          "2018-08-04T17:27:08.018050",
          "2018-08-04T19:42:50.842641",
          "2018-08-04T19:42:50.842641",
          "2018-08-04T19:58:33.667232",
          "2018-08-04T19:58:33.667232",
          "2018-08-04T19:58:33.667232",
          "2018-08-04T22:14:16.491823",
          "2018-08-04T22:14:16.491823",
          "2018-08-04T22:29:59.316414",
          "2018-08-04T22:29:59.316414",
          "2018-08-04T22:29:59.316414",
          "2018-08-05T00:45:42.141006",
          "2018-08-05T00:45:42.141006",
          "2018-08-05T01:01:24.965597",
          "2018-08-05T01:01:24.965597",
          "2018-08-05T01:01:24.965597"
         ],
         "y": [
          0,
          0,
          0,
          0,
          null,
          0,
          0,
          0,
          0,
          null,
          0,
          0,
          0,
          0,
          null,
          0,
          0,
          0,
          0,
          null,
          0,
          0,
          0,
          0,
          null,
          0,
          0,
          0,
          0,
          null,
          0,
          0,
          0,
          0,
          null,
          0,
          0,
          0,
          0,
          null,
          0,
          0,
          0,
          0,
          null,
          0,
          0,
          0,
          0,
          null,
          0,
          0,
          0,
          0,
          null,
          0,
          0,
          0,
          0,
          null,
          0,
          0,
          0,
          0,
          null,
          0,
          0,
          0,
          0,
          null,
          0,
          0,
          0,
          0,
          null,
          0,
          0,
          0,
          0,
          null,
          0,
          0,
          0,
          0,
          null,
          0,
          0,
          0,
          0,
          null,
          0,
          0,
          0,
          0,
          null,
          0,
          0,
          0,
          0,
          null,
          0,
          0,
          0,
          0,
          null,
          0,
          0,
          0,
          0,
          null,
          0,
          0,
          0,
          0,
          null,
          0,
          0,
          0,
          0,
          null,
          0,
          0,
          0,
          0,
          null,
          0,
          0,
          0,
          0,
          null,
          0,
          0,
          0,
          0,
          null,
          0,
          0,
          0,
          0,
          null,
          0,
          0,
          0,
          0,
          null,
          0,
          0,
          0,
          0,
          null
         ]
        },
        {
         "connectgaps": false,
         "hoverinfo": "y+name",
         "line": {
          "color": "rgb(254,21,5)",
          "width": 10
         },
         "mode": "lines",
         "name": "loading",
         "type": "scatter",
         "x": [
          "2018-07-31T22:00:00",
          "2018-07-31T22:00:00",
          "2018-07-31T23:00:00",
          "2018-07-31T23:00:00",
          "2018-07-31T23:00:00",
          "2018-08-01T00:31:25.649182",
          "2018-08-01T00:31:25.649182",
          "2018-08-01T01:31:25.649182",
          "2018-08-01T01:31:25.649182",
          "2018-08-01T01:31:25.649182",
          "2018-08-01T03:02:51.298365",
          "2018-08-01T03:02:51.298365",
          "2018-08-01T04:02:51.298365",
          "2018-08-01T04:02:51.298365",
          "2018-08-01T04:02:51.298365",
          "2018-08-01T05:34:16.947547",
          "2018-08-01T05:34:16.947547",
          "2018-08-01T06:34:16.947547",
          "2018-08-01T06:34:16.947547",
          "2018-08-01T06:34:16.947547",
          "2018-08-01T08:05:42.596729",
          "2018-08-01T08:05:42.596729",
          "2018-08-01T09:05:42.596729",
          "2018-08-01T09:05:42.596729",
          "2018-08-01T09:05:42.596729",
          "2018-08-01T10:37:08.245912",
          "2018-08-01T10:37:08.245912",
          "2018-08-01T11:37:08.245912",
          "2018-08-01T11:37:08.245912",
          "2018-08-01T11:37:08.245912",
          "2018-08-01T21:15:42.824591",
          "2018-08-01T21:15:42.824591",
          "2018-08-01T22:15:42.824591",
          "2018-08-01T22:15:42.824591",
          "2018-08-01T22:15:42.824591",
          "2018-08-01T23:47:08.473773",
          "2018-08-01T23:47:08.473773",
          "2018-08-02T00:47:08.473773",
          "2018-08-02T00:47:08.473773",
          "2018-08-02T00:47:08.473773",
          "2018-08-02T02:18:34.122956",
          "2018-08-02T02:18:34.122956",
          "2018-08-02T03:18:34.122956",
          "2018-08-02T03:18:34.122956",
          "2018-08-02T03:18:34.122956",
          "2018-08-02T04:49:59.772138",
          "2018-08-02T04:49:59.772138",
          "2018-08-02T05:49:59.772138",
          "2018-08-02T05:49:59.772138",
          "2018-08-02T05:49:59.772138",
          "2018-08-02T07:21:25.421320",
          "2018-08-02T07:21:25.421320",
          "2018-08-02T08:21:25.421320",
          "2018-08-02T08:21:25.421320",
          "2018-08-02T08:21:25.421320",
          "2018-08-02T09:52:51.070503",
          "2018-08-02T09:52:51.070503",
          "2018-08-02T10:52:51.070503",
          "2018-08-02T10:52:51.070503",
          "2018-08-02T10:52:51.070503",
          "2018-08-02T21:15:42.824591",
          "2018-08-02T21:15:42.824591",
          "2018-08-02T22:15:42.824591",
          "2018-08-02T22:15:42.824591",
          "2018-08-02T22:15:42.824591",
          "2018-08-02T23:47:08.473773",
          "2018-08-02T23:47:08.473773",
          "2018-08-03T00:47:08.473773",
          "2018-08-03T00:47:08.473773",
          "2018-08-03T00:47:08.473773",
          "2018-08-03T02:18:34.122956",
          "2018-08-03T02:18:34.122956",
          "2018-08-03T03:18:34.122956",
          "2018-08-03T03:18:34.122956",
          "2018-08-03T03:18:34.122956",
          "2018-08-03T04:49:59.772138",
          "2018-08-03T04:49:59.772138",
          "2018-08-03T05:49:59.772138",
          "2018-08-03T05:49:59.772138",
          "2018-08-03T05:49:59.772138",
          "2018-08-03T07:21:25.421320",
          "2018-08-03T07:21:25.421320",
          "2018-08-03T08:21:25.421320",
          "2018-08-03T08:21:25.421320",
          "2018-08-03T08:21:25.421320",
          "2018-08-03T09:52:51.070503",
          "2018-08-03T09:52:51.070503",
          "2018-08-03T10:52:51.070503",
          "2018-08-03T10:52:51.070503",
          "2018-08-03T10:52:51.070503",
          "2018-08-03T21:15:42.824591",
          "2018-08-03T21:15:42.824591",
          "2018-08-03T22:15:42.824591",
          "2018-08-03T22:15:42.824591",
          "2018-08-03T22:15:42.824591",
          "2018-08-03T23:47:08.473773",
          "2018-08-03T23:47:08.473773",
          "2018-08-04T00:47:08.473773",
          "2018-08-04T00:47:08.473773",
          "2018-08-04T00:47:08.473773",
          "2018-08-04T02:18:34.122956",
          "2018-08-04T02:18:34.122956",
          "2018-08-04T03:18:34.122956",
          "2018-08-04T03:18:34.122956",
          "2018-08-04T03:18:34.122956",
          "2018-08-04T04:49:59.772138",
          "2018-08-04T04:49:59.772138",
          "2018-08-04T05:49:59.772138",
          "2018-08-04T05:49:59.772138",
          "2018-08-04T05:49:59.772138",
          "2018-08-04T07:21:25.421320",
          "2018-08-04T07:21:25.421320",
          "2018-08-04T08:21:25.421320",
          "2018-08-04T08:21:25.421320",
          "2018-08-04T08:21:25.421320",
          "2018-08-04T09:52:51.070503",
          "2018-08-04T09:52:51.070503",
          "2018-08-04T10:52:51.070503",
          "2018-08-04T10:52:51.070503",
          "2018-08-04T10:52:51.070503",
          "2018-08-04T12:24:16.719685",
          "2018-08-04T12:24:16.719685",
          "2018-08-04T13:24:16.719685",
          "2018-08-04T13:24:16.719685",
          "2018-08-04T13:24:16.719685",
          "2018-08-04T14:55:42.368867",
          "2018-08-04T14:55:42.368867",
          "2018-08-04T15:55:42.368867",
          "2018-08-04T15:55:42.368867",
          "2018-08-04T15:55:42.368867",
          "2018-08-04T17:27:08.018050",
          "2018-08-04T17:27:08.018050",
          "2018-08-04T18:27:08.018050",
          "2018-08-04T18:27:08.018050",
          "2018-08-04T18:27:08.018050",
          "2018-08-04T19:58:33.667232",
          "2018-08-04T19:58:33.667232",
          "2018-08-04T20:58:33.667232",
          "2018-08-04T20:58:33.667232",
          "2018-08-04T20:58:33.667232",
          "2018-08-04T22:29:59.316414",
          "2018-08-04T22:29:59.316414",
          "2018-08-04T23:29:59.316414",
          "2018-08-04T23:29:59.316414",
          "2018-08-04T23:29:59.316414",
          "2018-08-05T01:01:24.965597",
          "2018-08-05T01:01:24.965597",
          "2018-08-05T02:01:24.965597",
          "2018-08-05T02:01:24.965597",
          "2018-08-05T02:01:24.965597"
         ],
         "y": [
          0,
          0,
          0,
          0,
          null,
          0,
          0,
          0,
          0,
          null,
          0,
          0,
          0,
          0,
          null,
          0,
          0,
          0,
          0,
          null,
          0,
          0,
          0,
          0,
          null,
          0,
          0,
          0,
          0,
          null,
          0,
          0,
          0,
          0,
          null,
          0,
          0,
          0,
          0,
          null,
          0,
          0,
          0,
          0,
          null,
          0,
          0,
          0,
          0,
          null,
          0,
          0,
          0,
          0,
          null,
          0,
          0,
          0,
          0,
          null,
          0,
          0,
          0,
          0,
          null,
          0,
          0,
          0,
          0,
          null,
          0,
          0,
          0,
          0,
          null,
          0,
          0,
          0,
          0,
          null,
          0,
          0,
          0,
          0,
          null,
          0,
          0,
          0,
          0,
          null,
          0,
          0,
          0,
          0,
          null,
          0,
          0,
          0,
          0,
          null,
          0,
          0,
          0,
          0,
          null,
          0,
          0,
          0,
          0,
          null,
          0,
          0,
          0,
          0,
          null,
          0,
          0,
          0,
          0,
          null,
          0,
          0,
          0,
          0,
          null,
          0,
          0,
          0,
          0,
          null,
          0,
          0,
          0,
          0,
          null,
          0,
          0,
          0,
          0,
          null,
          0,
          0,
          0,
          0,
          null,
          0,
          0,
          0,
          0,
          null
         ]
        },
        {
         "name": "sailing_crit",
         "type": "scatter",
         "x": [
          "2018-07-31T22:00:00",
          "2018-08-05T03:17:07.790188"
         ],
         "y": [
          1,
          1
         ]
        },
        {
         "name": "Depth",
         "type": "scatter",
         "x": [
          "2018-08-01T00:00:00",
          "2018-08-01T01:00:00",
          "2018-08-01T02:00:00",
          "2018-08-01T03:00:00",
          "2018-08-01T04:00:00",
          "2018-08-01T05:00:00",
          "2018-08-01T06:00:00",
          "2018-08-01T07:00:00",
          "2018-08-01T08:00:00",
          "2018-08-01T09:00:00",
          "2018-08-01T10:00:00",
          "2018-08-01T11:00:00",
          "2018-08-01T12:00:00",
          "2018-08-01T13:00:00",
          "2018-08-01T14:00:00",
          "2018-08-01T15:00:00",
          "2018-08-01T16:00:00",
          "2018-08-01T17:00:00",
          "2018-08-01T18:00:00",
          "2018-08-01T19:00:00",
          "2018-08-01T20:00:00",
          "2018-08-01T21:00:00",
          "2018-08-01T22:00:00",
          "2018-08-01T23:00:00",
          "2018-08-02T00:00:00",
          "2018-08-02T01:00:00",
          "2018-08-02T02:00:00",
          "2018-08-02T03:00:00",
          "2018-08-02T04:00:00",
          "2018-08-02T05:00:00",
          "2018-08-02T06:00:00",
          "2018-08-02T07:00:00",
          "2018-08-02T08:00:00",
          "2018-08-02T09:00:00",
          "2018-08-02T10:00:00",
          "2018-08-02T11:00:00",
          "2018-08-02T12:00:00",
          "2018-08-02T13:00:00",
          "2018-08-02T14:00:00",
          "2018-08-02T15:00:00",
          "2018-08-02T16:00:00",
          "2018-08-02T17:00:00",
          "2018-08-02T18:00:00",
          "2018-08-02T19:00:00",
          "2018-08-02T20:00:00",
          "2018-08-02T21:00:00",
          "2018-08-02T22:00:00",
          "2018-08-02T23:00:00",
          "2018-08-03T00:00:00",
          "2018-08-03T01:00:00",
          "2018-08-03T02:00:00",
          "2018-08-03T03:00:00",
          "2018-08-03T04:00:00",
          "2018-08-03T05:00:00",
          "2018-08-03T06:00:00",
          "2018-08-03T07:00:00",
          "2018-08-03T08:00:00",
          "2018-08-03T09:00:00",
          "2018-08-03T10:00:00",
          "2018-08-03T11:00:00",
          "2018-08-03T12:00:00",
          "2018-08-03T13:00:00",
          "2018-08-03T14:00:00",
          "2018-08-03T15:00:00",
          "2018-08-03T16:00:00",
          "2018-08-03T17:00:00",
          "2018-08-03T18:00:00",
          "2018-08-03T19:00:00",
          "2018-08-03T20:00:00",
          "2018-08-03T21:00:00",
          "2018-08-03T22:00:00",
          "2018-08-03T23:00:00",
          "2018-08-04T00:00:00",
          "2018-08-04T01:00:00",
          "2018-08-04T02:00:00",
          "2018-08-04T03:00:00",
          "2018-08-04T04:00:00",
          "2018-08-04T05:00:00",
          "2018-08-04T06:00:00",
          "2018-08-04T07:00:00",
          "2018-08-04T08:00:00",
          "2018-08-04T09:00:00",
          "2018-08-04T10:00:00",
          "2018-08-04T11:00:00",
          "2018-08-04T12:00:00",
          "2018-08-04T13:00:00",
          "2018-08-04T14:00:00",
          "2018-08-04T15:00:00",
          "2018-08-04T16:00:00",
          "2018-08-04T17:00:00",
          "2018-08-04T18:00:00",
          "2018-08-04T19:00:00",
          "2018-08-04T20:00:00",
          "2018-08-04T21:00:00",
          "2018-08-04T22:00:00",
          "2018-08-04T23:00:00"
         ],
         "y": [
          1.5,
          1.7588190451025207,
          2,
          2.2071067811865475,
          2.3660254037844384,
          2.465925826289068,
          2.5,
          2.4659258262890686,
          2.366025403784439,
          2.2071067811865475,
          2.0000000000000004,
          1.758819045102521,
          1.5000000000000002,
          1.2411809548974797,
          1.0000000000000007,
          0.7928932188134525,
          0.6339745962155615,
          0.5340741737109319,
          0.5,
          0.5340741737109316,
          0.633974596215561,
          0.7928932188134523,
          0.9999999999999996,
          1.2411809548974784,
          1.5,
          1.7588190451025207,
          2,
          2.2071067811865475,
          2.3660254037844384,
          2.465925826289068,
          2.5,
          2.4659258262890686,
          2.366025403784439,
          2.2071067811865475,
          2.0000000000000004,
          1.758819045102521,
          1.5000000000000002,
          1.2411809548974797,
          1.0000000000000007,
          0.7928932188134525,
          0.6339745962155615,
          0.5340741737109319,
          0.5,
          0.5340741737109316,
          0.633974596215561,
          0.7928932188134523,
          0.9999999999999996,
          1.2411809548974784,
          1.5,
          1.7588190451025207,
          2,
          2.2071067811865475,
          2.3660254037844384,
          2.465925826289068,
          2.5,
          2.4659258262890686,
          2.366025403784439,
          2.2071067811865475,
          2.0000000000000004,
          1.758819045102521,
          1.5000000000000002,
          1.2411809548974797,
          1.0000000000000007,
          0.7928932188134525,
          0.6339745962155615,
          0.5340741737109319,
          0.5,
          0.5340741737109316,
          0.633974596215561,
          0.7928932188134523,
          0.9999999999999996,
          1.2411809548974784,
          1.5,
          1.7588190451025207,
          2,
          2.2071067811865475,
          2.3660254037844384,
          2.465925826289068,
          2.5,
          2.4659258262890686,
          2.366025403784439,
          2.2071067811865475,
          2.0000000000000004,
          1.758819045102521,
          1.5000000000000002,
          1.2411809548974797,
          1.0000000000000007,
          0.7928932188134525,
          0.6339745962155615,
          0.5340741737109319,
          0.5,
          0.5340741737109316,
          0.633974596215561,
          0.7928932188134523,
          0.9999999999999996,
          1.2411809548974784
         ]
        },
        {
         "name": "loading_crit",
         "type": "scatter",
         "x": [
          "2018-07-31T22:00:00",
          "2018-08-05T03:17:07.790188"
         ],
         "y": [
          1,
          1
         ]
        }
       ],
       "layout": {
        "hovermode": "closest",
        "legend": {
         "orientation": "h",
         "x": 0,
         "y": -0.2
        },
        "template": {
         "data": {
          "bar": [
           {
            "error_x": {
             "color": "#2a3f5f"
            },
            "error_y": {
             "color": "#2a3f5f"
            },
            "marker": {
             "line": {
              "color": "#E5ECF6",
              "width": 0.5
             },
             "pattern": {
              "fillmode": "overlay",
              "size": 10,
              "solidity": 0.2
             }
            },
            "type": "bar"
           }
          ],
          "barpolar": [
           {
            "marker": {
             "line": {
              "color": "#E5ECF6",
              "width": 0.5
             },
             "pattern": {
              "fillmode": "overlay",
              "size": 10,
              "solidity": 0.2
             }
            },
            "type": "barpolar"
           }
          ],
          "carpet": [
           {
            "aaxis": {
             "endlinecolor": "#2a3f5f",
             "gridcolor": "white",
             "linecolor": "white",
             "minorgridcolor": "white",
             "startlinecolor": "#2a3f5f"
            },
            "baxis": {
             "endlinecolor": "#2a3f5f",
             "gridcolor": "white",
             "linecolor": "white",
             "minorgridcolor": "white",
             "startlinecolor": "#2a3f5f"
            },
            "type": "carpet"
           }
          ],
          "choropleth": [
           {
            "colorbar": {
             "outlinewidth": 0,
             "ticks": ""
            },
            "type": "choropleth"
           }
          ],
          "contour": [
           {
            "colorbar": {
             "outlinewidth": 0,
             "ticks": ""
            },
            "colorscale": [
             [
              0,
              "#0d0887"
             ],
             [
              0.1111111111111111,
              "#46039f"
             ],
             [
              0.2222222222222222,
              "#7201a8"
             ],
             [
              0.3333333333333333,
              "#9c179e"
             ],
             [
              0.4444444444444444,
              "#bd3786"
             ],
             [
              0.5555555555555556,
              "#d8576b"
             ],
             [
              0.6666666666666666,
              "#ed7953"
             ],
             [
              0.7777777777777778,
              "#fb9f3a"
             ],
             [
              0.8888888888888888,
              "#fdca26"
             ],
             [
              1,
              "#f0f921"
             ]
            ],
            "type": "contour"
           }
          ],
          "contourcarpet": [
           {
            "colorbar": {
             "outlinewidth": 0,
             "ticks": ""
            },
            "type": "contourcarpet"
           }
          ],
          "heatmap": [
           {
            "colorbar": {
             "outlinewidth": 0,
             "ticks": ""
            },
            "colorscale": [
             [
              0,
              "#0d0887"
             ],
             [
              0.1111111111111111,
              "#46039f"
             ],
             [
              0.2222222222222222,
              "#7201a8"
             ],
             [
              0.3333333333333333,
              "#9c179e"
             ],
             [
              0.4444444444444444,
              "#bd3786"
             ],
             [
              0.5555555555555556,
              "#d8576b"
             ],
             [
              0.6666666666666666,
              "#ed7953"
             ],
             [
              0.7777777777777778,
              "#fb9f3a"
             ],
             [
              0.8888888888888888,
              "#fdca26"
             ],
             [
              1,
              "#f0f921"
             ]
            ],
            "type": "heatmap"
           }
          ],
          "heatmapgl": [
           {
            "colorbar": {
             "outlinewidth": 0,
             "ticks": ""
            },
            "colorscale": [
             [
              0,
              "#0d0887"
             ],
             [
              0.1111111111111111,
              "#46039f"
             ],
             [
              0.2222222222222222,
              "#7201a8"
             ],
             [
              0.3333333333333333,
              "#9c179e"
             ],
             [
              0.4444444444444444,
              "#bd3786"
             ],
             [
              0.5555555555555556,
              "#d8576b"
             ],
             [
              0.6666666666666666,
              "#ed7953"
             ],
             [
              0.7777777777777778,
              "#fb9f3a"
             ],
             [
              0.8888888888888888,
              "#fdca26"
             ],
             [
              1,
              "#f0f921"
             ]
            ],
            "type": "heatmapgl"
           }
          ],
          "histogram": [
           {
            "marker": {
             "pattern": {
              "fillmode": "overlay",
              "size": 10,
              "solidity": 0.2
             }
            },
            "type": "histogram"
           }
          ],
          "histogram2d": [
           {
            "colorbar": {
             "outlinewidth": 0,
             "ticks": ""
            },
            "colorscale": [
             [
              0,
              "#0d0887"
             ],
             [
              0.1111111111111111,
              "#46039f"
             ],
             [
              0.2222222222222222,
              "#7201a8"
             ],
             [
              0.3333333333333333,
              "#9c179e"
             ],
             [
              0.4444444444444444,
              "#bd3786"
             ],
             [
              0.5555555555555556,
              "#d8576b"
             ],
             [
              0.6666666666666666,
              "#ed7953"
             ],
             [
              0.7777777777777778,
              "#fb9f3a"
             ],
             [
              0.8888888888888888,
              "#fdca26"
             ],
             [
              1,
              "#f0f921"
             ]
            ],
            "type": "histogram2d"
           }
          ],
          "histogram2dcontour": [
           {
            "colorbar": {
             "outlinewidth": 0,
             "ticks": ""
            },
            "colorscale": [
             [
              0,
              "#0d0887"
             ],
             [
              0.1111111111111111,
              "#46039f"
             ],
             [
              0.2222222222222222,
              "#7201a8"
             ],
             [
              0.3333333333333333,
              "#9c179e"
             ],
             [
              0.4444444444444444,
              "#bd3786"
             ],
             [
              0.5555555555555556,
              "#d8576b"
             ],
             [
              0.6666666666666666,
              "#ed7953"
             ],
             [
              0.7777777777777778,
              "#fb9f3a"
             ],
             [
              0.8888888888888888,
              "#fdca26"
             ],
             [
              1,
              "#f0f921"
             ]
            ],
            "type": "histogram2dcontour"
           }
          ],
          "mesh3d": [
           {
            "colorbar": {
             "outlinewidth": 0,
             "ticks": ""
            },
            "type": "mesh3d"
           }
          ],
          "parcoords": [
           {
            "line": {
             "colorbar": {
              "outlinewidth": 0,
              "ticks": ""
             }
            },
            "type": "parcoords"
           }
          ],
          "pie": [
           {
            "automargin": true,
            "type": "pie"
           }
          ],
          "scatter": [
           {
            "fillpattern": {
             "fillmode": "overlay",
             "size": 10,
             "solidity": 0.2
            },
            "type": "scatter"
           }
          ],
          "scatter3d": [
           {
            "line": {
             "colorbar": {
              "outlinewidth": 0,
              "ticks": ""
             }
            },
            "marker": {
             "colorbar": {
              "outlinewidth": 0,
              "ticks": ""
             }
            },
            "type": "scatter3d"
           }
          ],
          "scattercarpet": [
           {
            "marker": {
             "colorbar": {
              "outlinewidth": 0,
              "ticks": ""
             }
            },
            "type": "scattercarpet"
           }
          ],
          "scattergeo": [
           {
            "marker": {
             "colorbar": {
              "outlinewidth": 0,
              "ticks": ""
             }
            },
            "type": "scattergeo"
           }
          ],
          "scattergl": [
           {
            "marker": {
             "colorbar": {
              "outlinewidth": 0,
              "ticks": ""
             }
            },
            "type": "scattergl"
           }
          ],
          "scattermapbox": [
           {
            "marker": {
             "colorbar": {
              "outlinewidth": 0,
              "ticks": ""
             }
            },
            "type": "scattermapbox"
           }
          ],
          "scatterpolar": [
           {
            "marker": {
             "colorbar": {
              "outlinewidth": 0,
              "ticks": ""
             }
            },
            "type": "scatterpolar"
           }
          ],
          "scatterpolargl": [
           {
            "marker": {
             "colorbar": {
              "outlinewidth": 0,
              "ticks": ""
             }
            },
            "type": "scatterpolargl"
           }
          ],
          "scatterternary": [
           {
            "marker": {
             "colorbar": {
              "outlinewidth": 0,
              "ticks": ""
             }
            },
            "type": "scatterternary"
           }
          ],
          "surface": [
           {
            "colorbar": {
             "outlinewidth": 0,
             "ticks": ""
            },
            "colorscale": [
             [
              0,
              "#0d0887"
             ],
             [
              0.1111111111111111,
              "#46039f"
             ],
             [
              0.2222222222222222,
              "#7201a8"
             ],
             [
              0.3333333333333333,
              "#9c179e"
             ],
             [
              0.4444444444444444,
              "#bd3786"
             ],
             [
              0.5555555555555556,
              "#d8576b"
             ],
             [
              0.6666666666666666,
              "#ed7953"
             ],
             [
              0.7777777777777778,
              "#fb9f3a"
             ],
             [
              0.8888888888888888,
              "#fdca26"
             ],
             [
              1,
              "#f0f921"
             ]
            ],
            "type": "surface"
           }
          ],
          "table": [
           {
            "cells": {
             "fill": {
              "color": "#EBF0F8"
             },
             "line": {
              "color": "white"
             }
            },
            "header": {
             "fill": {
              "color": "#C8D4E3"
             },
             "line": {
              "color": "white"
             }
            },
            "type": "table"
           }
          ]
         },
         "layout": {
          "annotationdefaults": {
           "arrowcolor": "#2a3f5f",
           "arrowhead": 0,
           "arrowwidth": 1
          },
          "autotypenumbers": "strict",
          "coloraxis": {
           "colorbar": {
            "outlinewidth": 0,
            "ticks": ""
           }
          },
          "colorscale": {
           "diverging": [
            [
             0,
             "#8e0152"
            ],
            [
             0.1,
             "#c51b7d"
            ],
            [
             0.2,
             "#de77ae"
            ],
            [
             0.3,
             "#f1b6da"
            ],
            [
             0.4,
             "#fde0ef"
            ],
            [
             0.5,
             "#f7f7f7"
            ],
            [
             0.6,
             "#e6f5d0"
            ],
            [
             0.7,
             "#b8e186"
            ],
            [
             0.8,
             "#7fbc41"
            ],
            [
             0.9,
             "#4d9221"
            ],
            [
             1,
             "#276419"
            ]
           ],
           "sequential": [
            [
             0,
             "#0d0887"
            ],
            [
             0.1111111111111111,
             "#46039f"
            ],
            [
             0.2222222222222222,
             "#7201a8"
            ],
            [
             0.3333333333333333,
             "#9c179e"
            ],
            [
             0.4444444444444444,
             "#bd3786"
            ],
            [
             0.5555555555555556,
             "#d8576b"
            ],
            [
             0.6666666666666666,
             "#ed7953"
            ],
            [
             0.7777777777777778,
             "#fb9f3a"
            ],
            [
             0.8888888888888888,
             "#fdca26"
            ],
            [
             1,
             "#f0f921"
            ]
           ],
           "sequentialminus": [
            [
             0,
             "#0d0887"
            ],
            [
             0.1111111111111111,
             "#46039f"
            ],
            [
             0.2222222222222222,
             "#7201a8"
            ],
            [
             0.3333333333333333,
             "#9c179e"
            ],
            [
             0.4444444444444444,
             "#bd3786"
            ],
            [
             0.5555555555555556,
             "#d8576b"
            ],
            [
             0.6666666666666666,
             "#ed7953"
            ],
            [
             0.7777777777777778,
             "#fb9f3a"
            ],
            [
             0.8888888888888888,
             "#fdca26"
            ],
            [
             1,
             "#f0f921"
            ]
           ]
          },
          "colorway": [
           "#636efa",
           "#EF553B",
           "#00cc96",
           "#ab63fa",
           "#FFA15A",
           "#19d3f3",
           "#FF6692",
           "#B6E880",
           "#FF97FF",
           "#FECB52"
          ],
          "font": {
           "color": "#2a3f5f"
          },
          "geo": {
           "bgcolor": "white",
           "lakecolor": "white",
           "landcolor": "#E5ECF6",
           "showlakes": true,
           "showland": true,
           "subunitcolor": "white"
          },
          "hoverlabel": {
           "align": "left"
          },
          "hovermode": "closest",
          "mapbox": {
           "style": "light"
          },
          "paper_bgcolor": "white",
          "plot_bgcolor": "#E5ECF6",
          "polar": {
           "angularaxis": {
            "gridcolor": "white",
            "linecolor": "white",
            "ticks": ""
           },
           "bgcolor": "#E5ECF6",
           "radialaxis": {
            "gridcolor": "white",
            "linecolor": "white",
            "ticks": ""
           }
          },
          "scene": {
           "xaxis": {
            "backgroundcolor": "#E5ECF6",
            "gridcolor": "white",
            "gridwidth": 2,
            "linecolor": "white",
            "showbackground": true,
            "ticks": "",
            "zerolinecolor": "white"
           },
           "yaxis": {
            "backgroundcolor": "#E5ECF6",
            "gridcolor": "white",
            "gridwidth": 2,
            "linecolor": "white",
            "showbackground": true,
            "ticks": "",
            "zerolinecolor": "white"
           },
           "zaxis": {
            "backgroundcolor": "#E5ECF6",
            "gridcolor": "white",
            "gridwidth": 2,
            "linecolor": "white",
            "showbackground": true,
            "ticks": "",
            "zerolinecolor": "white"
           }
          },
          "shapedefaults": {
           "line": {
            "color": "#2a3f5f"
           }
          },
          "ternary": {
           "aaxis": {
            "gridcolor": "white",
            "linecolor": "white",
            "ticks": ""
           },
           "baxis": {
            "gridcolor": "white",
            "linecolor": "white",
            "ticks": ""
           },
           "bgcolor": "#E5ECF6",
           "caxis": {
            "gridcolor": "white",
            "linecolor": "white",
            "ticks": ""
           }
          },
          "title": {
           "x": 0.05
          },
          "xaxis": {
           "automargin": true,
           "gridcolor": "white",
           "linecolor": "white",
           "ticks": "",
           "title": {
            "standoff": 15
           },
           "zerolinecolor": "white",
           "zerolinewidth": 2
          },
          "yaxis": {
           "automargin": true,
           "gridcolor": "white",
           "linecolor": "white",
           "ticks": "",
           "title": {
            "standoff": 15
           },
           "zerolinecolor": "white",
           "zerolinewidth": 2
          }
         }
        },
        "title": {
         "text": "GANTT Chart"
        },
        "xaxis": {
         "range": [
          "2018-07-31T22:00:00",
          "2018-08-05T03:17:07.790188"
         ],
         "title": {
          "font": {
           "color": "#7f7f7f",
           "family": "Courier New, monospace",
           "size": 18
          },
          "text": "Time"
         }
        },
        "yaxis": {
         "title": {
          "font": {
           "color": "#7f7f7f",
           "family": "Courier New, monospace",
           "size": 18
          },
          "text": "Activities"
         }
        }
       }
      },
      "text/html": [
       "<div>                            <div id=\"50a67a17-ddd0-44f7-a2d6-411075267acb\" class=\"plotly-graph-div\" style=\"height:525px; width:100%;\"></div>            <script type=\"text/javascript\">                require([\"plotly\"], function(Plotly) {                    window.PLOTLYENV=window.PLOTLYENV || {};                                    if (document.getElementById(\"50a67a17-ddd0-44f7-a2d6-411075267acb\")) {                    Plotly.newPlot(                        \"50a67a17-ddd0-44f7-a2d6-411075267acb\",                        [{\"connectgaps\":false,\"hoverinfo\":\"y+name\",\"line\":{\"color\":\"rgb(62,85,69)\",\"width\":10},\"mode\":\"lines\",\"name\":\"sailing full\",\"x\":[\"2018-07-31T23:00:00\",\"2018-07-31T23:00:00\",\"2018-07-31T23:15:42.824591\",\"2018-07-31T23:15:42.824591\",\"2018-07-31T23:15:42.824591\",\"2018-08-01T01:31:25.649182\",\"2018-08-01T01:31:25.649182\",\"2018-08-01T01:47:08.473773\",\"2018-08-01T01:47:08.473773\",\"2018-08-01T01:47:08.473773\",\"2018-08-01T04:02:51.298365\",\"2018-08-01T04:02:51.298365\",\"2018-08-01T04:18:34.122956\",\"2018-08-01T04:18:34.122956\",\"2018-08-01T04:18:34.122956\",\"2018-08-01T06:34:16.947547\",\"2018-08-01T06:34:16.947547\",\"2018-08-01T06:49:59.772138\",\"2018-08-01T06:49:59.772138\",\"2018-08-01T06:49:59.772138\",\"2018-08-01T09:05:42.596729\",\"2018-08-01T09:05:42.596729\",\"2018-08-01T09:21:25.421320\",\"2018-08-01T09:21:25.421320\",\"2018-08-01T09:21:25.421320\",\"2018-08-01T11:37:08.245912\",\"2018-08-01T11:37:08.245912\",\"2018-08-01T11:52:51.070503\",\"2018-08-01T11:52:51.070503\",\"2018-08-01T11:52:51.070503\",\"2018-08-01T22:15:42.824591\",\"2018-08-01T22:15:42.824591\",\"2018-08-01T22:31:25.649182\",\"2018-08-01T22:31:25.649182\",\"2018-08-01T22:31:25.649182\",\"2018-08-02T00:47:08.473773\",\"2018-08-02T00:47:08.473773\",\"2018-08-02T01:02:51.298365\",\"2018-08-02T01:02:51.298365\",\"2018-08-02T01:02:51.298365\",\"2018-08-02T03:18:34.122956\",\"2018-08-02T03:18:34.122956\",\"2018-08-02T03:34:16.947547\",\"2018-08-02T03:34:16.947547\",\"2018-08-02T03:34:16.947547\",\"2018-08-02T05:49:59.772138\",\"2018-08-02T05:49:59.772138\",\"2018-08-02T06:05:42.596729\",\"2018-08-02T06:05:42.596729\",\"2018-08-02T06:05:42.596729\",\"2018-08-02T08:21:25.421320\",\"2018-08-02T08:21:25.421320\",\"2018-08-02T08:37:08.245912\",\"2018-08-02T08:37:08.245912\",\"2018-08-02T08:37:08.245912\",\"2018-08-02T10:52:51.070503\",\"2018-08-02T10:52:51.070503\",\"2018-08-02T11:08:33.895094\",\"2018-08-02T11:08:33.895094\",\"2018-08-02T11:08:33.895094\",\"2018-08-02T22:15:42.824591\",\"2018-08-02T22:15:42.824591\",\"2018-08-02T22:31:25.649182\",\"2018-08-02T22:31:25.649182\",\"2018-08-02T22:31:25.649182\",\"2018-08-03T00:47:08.473773\",\"2018-08-03T00:47:08.473773\",\"2018-08-03T01:02:51.298365\",\"2018-08-03T01:02:51.298365\",\"2018-08-03T01:02:51.298365\",\"2018-08-03T03:18:34.122956\",\"2018-08-03T03:18:34.122956\",\"2018-08-03T03:34:16.947547\",\"2018-08-03T03:34:16.947547\",\"2018-08-03T03:34:16.947547\",\"2018-08-03T05:49:59.772138\",\"2018-08-03T05:49:59.772138\",\"2018-08-03T06:05:42.596729\",\"2018-08-03T06:05:42.596729\",\"2018-08-03T06:05:42.596729\",\"2018-08-03T08:21:25.421320\",\"2018-08-03T08:21:25.421320\",\"2018-08-03T08:37:08.245912\",\"2018-08-03T08:37:08.245912\",\"2018-08-03T08:37:08.245912\",\"2018-08-03T10:52:51.070503\",\"2018-08-03T10:52:51.070503\",\"2018-08-03T11:08:33.895094\",\"2018-08-03T11:08:33.895094\",\"2018-08-03T11:08:33.895094\",\"2018-08-03T22:15:42.824591\",\"2018-08-03T22:15:42.824591\",\"2018-08-03T22:31:25.649182\",\"2018-08-03T22:31:25.649182\",\"2018-08-03T22:31:25.649182\",\"2018-08-04T00:47:08.473773\",\"2018-08-04T00:47:08.473773\",\"2018-08-04T01:02:51.298365\",\"2018-08-04T01:02:51.298365\",\"2018-08-04T01:02:51.298365\",\"2018-08-04T03:18:34.122956\",\"2018-08-04T03:18:34.122956\",\"2018-08-04T03:34:16.947547\",\"2018-08-04T03:34:16.947547\",\"2018-08-04T03:34:16.947547\",\"2018-08-04T05:49:59.772138\",\"2018-08-04T05:49:59.772138\",\"2018-08-04T06:05:42.596729\",\"2018-08-04T06:05:42.596729\",\"2018-08-04T06:05:42.596729\",\"2018-08-04T08:21:25.421320\",\"2018-08-04T08:21:25.421320\",\"2018-08-04T08:37:08.245912\",\"2018-08-04T08:37:08.245912\",\"2018-08-04T08:37:08.245912\",\"2018-08-04T10:52:51.070503\",\"2018-08-04T10:52:51.070503\",\"2018-08-04T11:08:33.895094\",\"2018-08-04T11:08:33.895094\",\"2018-08-04T11:08:33.895094\",\"2018-08-04T13:24:16.719685\",\"2018-08-04T13:24:16.719685\",\"2018-08-04T13:39:59.544276\",\"2018-08-04T13:39:59.544276\",\"2018-08-04T13:39:59.544276\",\"2018-08-04T15:55:42.368867\",\"2018-08-04T15:55:42.368867\",\"2018-08-04T16:11:25.193459\",\"2018-08-04T16:11:25.193459\",\"2018-08-04T16:11:25.193459\",\"2018-08-04T18:27:08.018050\",\"2018-08-04T18:27:08.018050\",\"2018-08-04T18:42:50.842641\",\"2018-08-04T18:42:50.842641\",\"2018-08-04T18:42:50.842641\",\"2018-08-04T20:58:33.667232\",\"2018-08-04T20:58:33.667232\",\"2018-08-04T21:14:16.491823\",\"2018-08-04T21:14:16.491823\",\"2018-08-04T21:14:16.491823\",\"2018-08-04T23:29:59.316414\",\"2018-08-04T23:29:59.316414\",\"2018-08-04T23:45:42.141006\",\"2018-08-04T23:45:42.141006\",\"2018-08-04T23:45:42.141006\",\"2018-08-05T02:01:24.965597\",\"2018-08-05T02:01:24.965597\",\"2018-08-05T02:17:07.790188\",\"2018-08-05T02:17:07.790188\",\"2018-08-05T02:17:07.790188\"],\"y\":[0,0,0,0,null,0,0,0,0,null,0,0,0,0,null,0,0,0,0,null,0,0,0,0,null,0,0,0,0,null,0,0,0,0,null,0,0,0,0,null,0,0,0,0,null,0,0,0,0,null,0,0,0,0,null,0,0,0,0,null,0,0,0,0,null,0,0,0,0,null,0,0,0,0,null,0,0,0,0,null,0,0,0,0,null,0,0,0,0,null,0,0,0,0,null,0,0,0,0,null,0,0,0,0,null,0,0,0,0,null,0,0,0,0,null,0,0,0,0,null,0,0,0,0,null,0,0,0,0,null,0,0,0,0,null,0,0,0,0,null,0,0,0,0,null,0,0,0,0,null],\"type\":\"scatter\"},{\"connectgaps\":false,\"hoverinfo\":\"y+name\",\"line\":{\"color\":\"rgb(126,149,133)\",\"width\":10},\"mode\":\"lines\",\"name\":\"unloading\",\"x\":[\"2018-07-31T23:15:42.824591\",\"2018-07-31T23:15:42.824591\",\"2018-08-01T00:15:42.824591\",\"2018-08-01T00:15:42.824591\",\"2018-08-01T00:15:42.824591\",\"2018-08-01T01:47:08.473773\",\"2018-08-01T01:47:08.473773\",\"2018-08-01T02:47:08.473773\",\"2018-08-01T02:47:08.473773\",\"2018-08-01T02:47:08.473773\",\"2018-08-01T04:18:34.122956\",\"2018-08-01T04:18:34.122956\",\"2018-08-01T05:18:34.122956\",\"2018-08-01T05:18:34.122956\",\"2018-08-01T05:18:34.122956\",\"2018-08-01T06:49:59.772138\",\"2018-08-01T06:49:59.772138\",\"2018-08-01T07:49:59.772138\",\"2018-08-01T07:49:59.772138\",\"2018-08-01T07:49:59.772138\",\"2018-08-01T09:21:25.421320\",\"2018-08-01T09:21:25.421320\",\"2018-08-01T10:21:25.421320\",\"2018-08-01T10:21:25.421320\",\"2018-08-01T10:21:25.421320\",\"2018-08-01T11:52:51.070503\",\"2018-08-01T11:52:51.070503\",\"2018-08-01T12:52:51.070503\",\"2018-08-01T12:52:51.070503\",\"2018-08-01T12:52:51.070503\",\"2018-08-01T22:31:25.649182\",\"2018-08-01T22:31:25.649182\",\"2018-08-01T23:31:25.649182\",\"2018-08-01T23:31:25.649182\",\"2018-08-01T23:31:25.649182\",\"2018-08-02T01:02:51.298365\",\"2018-08-02T01:02:51.298365\",\"2018-08-02T02:02:51.298365\",\"2018-08-02T02:02:51.298365\",\"2018-08-02T02:02:51.298365\",\"2018-08-02T03:34:16.947547\",\"2018-08-02T03:34:16.947547\",\"2018-08-02T04:34:16.947547\",\"2018-08-02T04:34:16.947547\",\"2018-08-02T04:34:16.947547\",\"2018-08-02T06:05:42.596729\",\"2018-08-02T06:05:42.596729\",\"2018-08-02T07:05:42.596729\",\"2018-08-02T07:05:42.596729\",\"2018-08-02T07:05:42.596729\",\"2018-08-02T08:37:08.245912\",\"2018-08-02T08:37:08.245912\",\"2018-08-02T09:37:08.245912\",\"2018-08-02T09:37:08.245912\",\"2018-08-02T09:37:08.245912\",\"2018-08-02T11:08:33.895094\",\"2018-08-02T11:08:33.895094\",\"2018-08-02T12:08:33.895094\",\"2018-08-02T12:08:33.895094\",\"2018-08-02T12:08:33.895094\",\"2018-08-02T22:31:25.649182\",\"2018-08-02T22:31:25.649182\",\"2018-08-02T23:31:25.649182\",\"2018-08-02T23:31:25.649182\",\"2018-08-02T23:31:25.649182\",\"2018-08-03T01:02:51.298365\",\"2018-08-03T01:02:51.298365\",\"2018-08-03T02:02:51.298365\",\"2018-08-03T02:02:51.298365\",\"2018-08-03T02:02:51.298365\",\"2018-08-03T03:34:16.947547\",\"2018-08-03T03:34:16.947547\",\"2018-08-03T04:34:16.947547\",\"2018-08-03T04:34:16.947547\",\"2018-08-03T04:34:16.947547\",\"2018-08-03T06:05:42.596729\",\"2018-08-03T06:05:42.596729\",\"2018-08-03T07:05:42.596729\",\"2018-08-03T07:05:42.596729\",\"2018-08-03T07:05:42.596729\",\"2018-08-03T08:37:08.245912\",\"2018-08-03T08:37:08.245912\",\"2018-08-03T09:37:08.245912\",\"2018-08-03T09:37:08.245912\",\"2018-08-03T09:37:08.245912\",\"2018-08-03T11:08:33.895094\",\"2018-08-03T11:08:33.895094\",\"2018-08-03T12:08:33.895094\",\"2018-08-03T12:08:33.895094\",\"2018-08-03T12:08:33.895094\",\"2018-08-03T22:31:25.649182\",\"2018-08-03T22:31:25.649182\",\"2018-08-03T23:31:25.649182\",\"2018-08-03T23:31:25.649182\",\"2018-08-03T23:31:25.649182\",\"2018-08-04T01:02:51.298365\",\"2018-08-04T01:02:51.298365\",\"2018-08-04T02:02:51.298365\",\"2018-08-04T02:02:51.298365\",\"2018-08-04T02:02:51.298365\",\"2018-08-04T03:34:16.947547\",\"2018-08-04T03:34:16.947547\",\"2018-08-04T04:34:16.947547\",\"2018-08-04T04:34:16.947547\",\"2018-08-04T04:34:16.947547\",\"2018-08-04T06:05:42.596729\",\"2018-08-04T06:05:42.596729\",\"2018-08-04T07:05:42.596729\",\"2018-08-04T07:05:42.596729\",\"2018-08-04T07:05:42.596729\",\"2018-08-04T08:37:08.245912\",\"2018-08-04T08:37:08.245912\",\"2018-08-04T09:37:08.245912\",\"2018-08-04T09:37:08.245912\",\"2018-08-04T09:37:08.245912\",\"2018-08-04T11:08:33.895094\",\"2018-08-04T11:08:33.895094\",\"2018-08-04T12:08:33.895094\",\"2018-08-04T12:08:33.895094\",\"2018-08-04T12:08:33.895094\",\"2018-08-04T13:39:59.544276\",\"2018-08-04T13:39:59.544276\",\"2018-08-04T14:39:59.544276\",\"2018-08-04T14:39:59.544276\",\"2018-08-04T14:39:59.544276\",\"2018-08-04T16:11:25.193459\",\"2018-08-04T16:11:25.193459\",\"2018-08-04T17:11:25.193459\",\"2018-08-04T17:11:25.193459\",\"2018-08-04T17:11:25.193459\",\"2018-08-04T18:42:50.842641\",\"2018-08-04T18:42:50.842641\",\"2018-08-04T19:42:50.842641\",\"2018-08-04T19:42:50.842641\",\"2018-08-04T19:42:50.842641\",\"2018-08-04T21:14:16.491823\",\"2018-08-04T21:14:16.491823\",\"2018-08-04T22:14:16.491823\",\"2018-08-04T22:14:16.491823\",\"2018-08-04T22:14:16.491823\",\"2018-08-04T23:45:42.141006\",\"2018-08-04T23:45:42.141006\",\"2018-08-05T00:45:42.141006\",\"2018-08-05T00:45:42.141006\",\"2018-08-05T00:45:42.141006\",\"2018-08-05T02:17:07.790188\",\"2018-08-05T02:17:07.790188\",\"2018-08-05T03:17:07.790188\",\"2018-08-05T03:17:07.790188\",\"2018-08-05T03:17:07.790188\"],\"y\":[0,0,0,0,null,0,0,0,0,null,0,0,0,0,null,0,0,0,0,null,0,0,0,0,null,0,0,0,0,null,0,0,0,0,null,0,0,0,0,null,0,0,0,0,null,0,0,0,0,null,0,0,0,0,null,0,0,0,0,null,0,0,0,0,null,0,0,0,0,null,0,0,0,0,null,0,0,0,0,null,0,0,0,0,null,0,0,0,0,null,0,0,0,0,null,0,0,0,0,null,0,0,0,0,null,0,0,0,0,null,0,0,0,0,null,0,0,0,0,null,0,0,0,0,null,0,0,0,0,null,0,0,0,0,null,0,0,0,0,null,0,0,0,0,null,0,0,0,0,null],\"type\":\"scatter\"},{\"connectgaps\":false,\"hoverinfo\":\"y+name\",\"line\":{\"color\":\"rgb(190,213,197)\",\"width\":10},\"mode\":\"lines\",\"name\":\"sailing empty\",\"x\":[\"2018-07-31T22:00:00\",\"2018-07-31T22:00:00\",\"2018-07-31T22:00:00\",\"2018-07-31T22:00:00\",\"2018-07-31T22:00:00\",\"2018-08-01T00:15:42.824591\",\"2018-08-01T00:15:42.824591\",\"2018-08-01T00:31:25.649182\",\"2018-08-01T00:31:25.649182\",\"2018-08-01T00:31:25.649182\",\"2018-08-01T02:47:08.473773\",\"2018-08-01T02:47:08.473773\",\"2018-08-01T03:02:51.298365\",\"2018-08-01T03:02:51.298365\",\"2018-08-01T03:02:51.298365\",\"2018-08-01T05:18:34.122956\",\"2018-08-01T05:18:34.122956\",\"2018-08-01T05:34:16.947547\",\"2018-08-01T05:34:16.947547\",\"2018-08-01T05:34:16.947547\",\"2018-08-01T07:49:59.772138\",\"2018-08-01T07:49:59.772138\",\"2018-08-01T08:05:42.596729\",\"2018-08-01T08:05:42.596729\",\"2018-08-01T08:05:42.596729\",\"2018-08-01T10:21:25.421320\",\"2018-08-01T10:21:25.421320\",\"2018-08-01T10:37:08.245912\",\"2018-08-01T10:37:08.245912\",\"2018-08-01T10:37:08.245912\",\"2018-08-01T21:00:00\",\"2018-08-01T21:00:00\",\"2018-08-01T21:15:42.824591\",\"2018-08-01T21:15:42.824591\",\"2018-08-01T21:15:42.824591\",\"2018-08-01T23:31:25.649182\",\"2018-08-01T23:31:25.649182\",\"2018-08-01T23:47:08.473773\",\"2018-08-01T23:47:08.473773\",\"2018-08-01T23:47:08.473773\",\"2018-08-02T02:02:51.298365\",\"2018-08-02T02:02:51.298365\",\"2018-08-02T02:18:34.122956\",\"2018-08-02T02:18:34.122956\",\"2018-08-02T02:18:34.122956\",\"2018-08-02T04:34:16.947547\",\"2018-08-02T04:34:16.947547\",\"2018-08-02T04:49:59.772138\",\"2018-08-02T04:49:59.772138\",\"2018-08-02T04:49:59.772138\",\"2018-08-02T07:05:42.596729\",\"2018-08-02T07:05:42.596729\",\"2018-08-02T07:21:25.421320\",\"2018-08-02T07:21:25.421320\",\"2018-08-02T07:21:25.421320\",\"2018-08-02T09:37:08.245912\",\"2018-08-02T09:37:08.245912\",\"2018-08-02T09:52:51.070503\",\"2018-08-02T09:52:51.070503\",\"2018-08-02T09:52:51.070503\",\"2018-08-02T21:00:00\",\"2018-08-02T21:00:00\",\"2018-08-02T21:15:42.824591\",\"2018-08-02T21:15:42.824591\",\"2018-08-02T21:15:42.824591\",\"2018-08-02T23:31:25.649182\",\"2018-08-02T23:31:25.649182\",\"2018-08-02T23:47:08.473773\",\"2018-08-02T23:47:08.473773\",\"2018-08-02T23:47:08.473773\",\"2018-08-03T02:02:51.298365\",\"2018-08-03T02:02:51.298365\",\"2018-08-03T02:18:34.122956\",\"2018-08-03T02:18:34.122956\",\"2018-08-03T02:18:34.122956\",\"2018-08-03T04:34:16.947547\",\"2018-08-03T04:34:16.947547\",\"2018-08-03T04:49:59.772138\",\"2018-08-03T04:49:59.772138\",\"2018-08-03T04:49:59.772138\",\"2018-08-03T07:05:42.596729\",\"2018-08-03T07:05:42.596729\",\"2018-08-03T07:21:25.421320\",\"2018-08-03T07:21:25.421320\",\"2018-08-03T07:21:25.421320\",\"2018-08-03T09:37:08.245912\",\"2018-08-03T09:37:08.245912\",\"2018-08-03T09:52:51.070503\",\"2018-08-03T09:52:51.070503\",\"2018-08-03T09:52:51.070503\",\"2018-08-03T21:00:00\",\"2018-08-03T21:00:00\",\"2018-08-03T21:15:42.824591\",\"2018-08-03T21:15:42.824591\",\"2018-08-03T21:15:42.824591\",\"2018-08-03T23:31:25.649182\",\"2018-08-03T23:31:25.649182\",\"2018-08-03T23:47:08.473773\",\"2018-08-03T23:47:08.473773\",\"2018-08-03T23:47:08.473773\",\"2018-08-04T02:02:51.298365\",\"2018-08-04T02:02:51.298365\",\"2018-08-04T02:18:34.122956\",\"2018-08-04T02:18:34.122956\",\"2018-08-04T02:18:34.122956\",\"2018-08-04T04:34:16.947547\",\"2018-08-04T04:34:16.947547\",\"2018-08-04T04:49:59.772138\",\"2018-08-04T04:49:59.772138\",\"2018-08-04T04:49:59.772138\",\"2018-08-04T07:05:42.596729\",\"2018-08-04T07:05:42.596729\",\"2018-08-04T07:21:25.421320\",\"2018-08-04T07:21:25.421320\",\"2018-08-04T07:21:25.421320\",\"2018-08-04T09:37:08.245912\",\"2018-08-04T09:37:08.245912\",\"2018-08-04T09:52:51.070503\",\"2018-08-04T09:52:51.070503\",\"2018-08-04T09:52:51.070503\",\"2018-08-04T12:08:33.895094\",\"2018-08-04T12:08:33.895094\",\"2018-08-04T12:24:16.719685\",\"2018-08-04T12:24:16.719685\",\"2018-08-04T12:24:16.719685\",\"2018-08-04T14:39:59.544276\",\"2018-08-04T14:39:59.544276\",\"2018-08-04T14:55:42.368867\",\"2018-08-04T14:55:42.368867\",\"2018-08-04T14:55:42.368867\",\"2018-08-04T17:11:25.193459\",\"2018-08-04T17:11:25.193459\",\"2018-08-04T17:27:08.018050\",\"2018-08-04T17:27:08.018050\",\"2018-08-04T17:27:08.018050\",\"2018-08-04T19:42:50.842641\",\"2018-08-04T19:42:50.842641\",\"2018-08-04T19:58:33.667232\",\"2018-08-04T19:58:33.667232\",\"2018-08-04T19:58:33.667232\",\"2018-08-04T22:14:16.491823\",\"2018-08-04T22:14:16.491823\",\"2018-08-04T22:29:59.316414\",\"2018-08-04T22:29:59.316414\",\"2018-08-04T22:29:59.316414\",\"2018-08-05T00:45:42.141006\",\"2018-08-05T00:45:42.141006\",\"2018-08-05T01:01:24.965597\",\"2018-08-05T01:01:24.965597\",\"2018-08-05T01:01:24.965597\"],\"y\":[0,0,0,0,null,0,0,0,0,null,0,0,0,0,null,0,0,0,0,null,0,0,0,0,null,0,0,0,0,null,0,0,0,0,null,0,0,0,0,null,0,0,0,0,null,0,0,0,0,null,0,0,0,0,null,0,0,0,0,null,0,0,0,0,null,0,0,0,0,null,0,0,0,0,null,0,0,0,0,null,0,0,0,0,null,0,0,0,0,null,0,0,0,0,null,0,0,0,0,null,0,0,0,0,null,0,0,0,0,null,0,0,0,0,null,0,0,0,0,null,0,0,0,0,null,0,0,0,0,null,0,0,0,0,null,0,0,0,0,null,0,0,0,0,null,0,0,0,0,null],\"type\":\"scatter\"},{\"connectgaps\":false,\"hoverinfo\":\"y+name\",\"line\":{\"color\":\"rgb(254,21,5)\",\"width\":10},\"mode\":\"lines\",\"name\":\"loading\",\"x\":[\"2018-07-31T22:00:00\",\"2018-07-31T22:00:00\",\"2018-07-31T23:00:00\",\"2018-07-31T23:00:00\",\"2018-07-31T23:00:00\",\"2018-08-01T00:31:25.649182\",\"2018-08-01T00:31:25.649182\",\"2018-08-01T01:31:25.649182\",\"2018-08-01T01:31:25.649182\",\"2018-08-01T01:31:25.649182\",\"2018-08-01T03:02:51.298365\",\"2018-08-01T03:02:51.298365\",\"2018-08-01T04:02:51.298365\",\"2018-08-01T04:02:51.298365\",\"2018-08-01T04:02:51.298365\",\"2018-08-01T05:34:16.947547\",\"2018-08-01T05:34:16.947547\",\"2018-08-01T06:34:16.947547\",\"2018-08-01T06:34:16.947547\",\"2018-08-01T06:34:16.947547\",\"2018-08-01T08:05:42.596729\",\"2018-08-01T08:05:42.596729\",\"2018-08-01T09:05:42.596729\",\"2018-08-01T09:05:42.596729\",\"2018-08-01T09:05:42.596729\",\"2018-08-01T10:37:08.245912\",\"2018-08-01T10:37:08.245912\",\"2018-08-01T11:37:08.245912\",\"2018-08-01T11:37:08.245912\",\"2018-08-01T11:37:08.245912\",\"2018-08-01T21:15:42.824591\",\"2018-08-01T21:15:42.824591\",\"2018-08-01T22:15:42.824591\",\"2018-08-01T22:15:42.824591\",\"2018-08-01T22:15:42.824591\",\"2018-08-01T23:47:08.473773\",\"2018-08-01T23:47:08.473773\",\"2018-08-02T00:47:08.473773\",\"2018-08-02T00:47:08.473773\",\"2018-08-02T00:47:08.473773\",\"2018-08-02T02:18:34.122956\",\"2018-08-02T02:18:34.122956\",\"2018-08-02T03:18:34.122956\",\"2018-08-02T03:18:34.122956\",\"2018-08-02T03:18:34.122956\",\"2018-08-02T04:49:59.772138\",\"2018-08-02T04:49:59.772138\",\"2018-08-02T05:49:59.772138\",\"2018-08-02T05:49:59.772138\",\"2018-08-02T05:49:59.772138\",\"2018-08-02T07:21:25.421320\",\"2018-08-02T07:21:25.421320\",\"2018-08-02T08:21:25.421320\",\"2018-08-02T08:21:25.421320\",\"2018-08-02T08:21:25.421320\",\"2018-08-02T09:52:51.070503\",\"2018-08-02T09:52:51.070503\",\"2018-08-02T10:52:51.070503\",\"2018-08-02T10:52:51.070503\",\"2018-08-02T10:52:51.070503\",\"2018-08-02T21:15:42.824591\",\"2018-08-02T21:15:42.824591\",\"2018-08-02T22:15:42.824591\",\"2018-08-02T22:15:42.824591\",\"2018-08-02T22:15:42.824591\",\"2018-08-02T23:47:08.473773\",\"2018-08-02T23:47:08.473773\",\"2018-08-03T00:47:08.473773\",\"2018-08-03T00:47:08.473773\",\"2018-08-03T00:47:08.473773\",\"2018-08-03T02:18:34.122956\",\"2018-08-03T02:18:34.122956\",\"2018-08-03T03:18:34.122956\",\"2018-08-03T03:18:34.122956\",\"2018-08-03T03:18:34.122956\",\"2018-08-03T04:49:59.772138\",\"2018-08-03T04:49:59.772138\",\"2018-08-03T05:49:59.772138\",\"2018-08-03T05:49:59.772138\",\"2018-08-03T05:49:59.772138\",\"2018-08-03T07:21:25.421320\",\"2018-08-03T07:21:25.421320\",\"2018-08-03T08:21:25.421320\",\"2018-08-03T08:21:25.421320\",\"2018-08-03T08:21:25.421320\",\"2018-08-03T09:52:51.070503\",\"2018-08-03T09:52:51.070503\",\"2018-08-03T10:52:51.070503\",\"2018-08-03T10:52:51.070503\",\"2018-08-03T10:52:51.070503\",\"2018-08-03T21:15:42.824591\",\"2018-08-03T21:15:42.824591\",\"2018-08-03T22:15:42.824591\",\"2018-08-03T22:15:42.824591\",\"2018-08-03T22:15:42.824591\",\"2018-08-03T23:47:08.473773\",\"2018-08-03T23:47:08.473773\",\"2018-08-04T00:47:08.473773\",\"2018-08-04T00:47:08.473773\",\"2018-08-04T00:47:08.473773\",\"2018-08-04T02:18:34.122956\",\"2018-08-04T02:18:34.122956\",\"2018-08-04T03:18:34.122956\",\"2018-08-04T03:18:34.122956\",\"2018-08-04T03:18:34.122956\",\"2018-08-04T04:49:59.772138\",\"2018-08-04T04:49:59.772138\",\"2018-08-04T05:49:59.772138\",\"2018-08-04T05:49:59.772138\",\"2018-08-04T05:49:59.772138\",\"2018-08-04T07:21:25.421320\",\"2018-08-04T07:21:25.421320\",\"2018-08-04T08:21:25.421320\",\"2018-08-04T08:21:25.421320\",\"2018-08-04T08:21:25.421320\",\"2018-08-04T09:52:51.070503\",\"2018-08-04T09:52:51.070503\",\"2018-08-04T10:52:51.070503\",\"2018-08-04T10:52:51.070503\",\"2018-08-04T10:52:51.070503\",\"2018-08-04T12:24:16.719685\",\"2018-08-04T12:24:16.719685\",\"2018-08-04T13:24:16.719685\",\"2018-08-04T13:24:16.719685\",\"2018-08-04T13:24:16.719685\",\"2018-08-04T14:55:42.368867\",\"2018-08-04T14:55:42.368867\",\"2018-08-04T15:55:42.368867\",\"2018-08-04T15:55:42.368867\",\"2018-08-04T15:55:42.368867\",\"2018-08-04T17:27:08.018050\",\"2018-08-04T17:27:08.018050\",\"2018-08-04T18:27:08.018050\",\"2018-08-04T18:27:08.018050\",\"2018-08-04T18:27:08.018050\",\"2018-08-04T19:58:33.667232\",\"2018-08-04T19:58:33.667232\",\"2018-08-04T20:58:33.667232\",\"2018-08-04T20:58:33.667232\",\"2018-08-04T20:58:33.667232\",\"2018-08-04T22:29:59.316414\",\"2018-08-04T22:29:59.316414\",\"2018-08-04T23:29:59.316414\",\"2018-08-04T23:29:59.316414\",\"2018-08-04T23:29:59.316414\",\"2018-08-05T01:01:24.965597\",\"2018-08-05T01:01:24.965597\",\"2018-08-05T02:01:24.965597\",\"2018-08-05T02:01:24.965597\",\"2018-08-05T02:01:24.965597\"],\"y\":[0,0,0,0,null,0,0,0,0,null,0,0,0,0,null,0,0,0,0,null,0,0,0,0,null,0,0,0,0,null,0,0,0,0,null,0,0,0,0,null,0,0,0,0,null,0,0,0,0,null,0,0,0,0,null,0,0,0,0,null,0,0,0,0,null,0,0,0,0,null,0,0,0,0,null,0,0,0,0,null,0,0,0,0,null,0,0,0,0,null,0,0,0,0,null,0,0,0,0,null,0,0,0,0,null,0,0,0,0,null,0,0,0,0,null,0,0,0,0,null,0,0,0,0,null,0,0,0,0,null,0,0,0,0,null,0,0,0,0,null,0,0,0,0,null,0,0,0,0,null],\"type\":\"scatter\"},{\"name\":\"sailing_crit\",\"x\":[\"2018-07-31T22:00:00\",\"2018-08-05T03:17:07.790188\"],\"y\":[1,1],\"type\":\"scatter\"},{\"name\":\"Depth\",\"x\":[\"2018-08-01T00:00:00\",\"2018-08-01T01:00:00\",\"2018-08-01T02:00:00\",\"2018-08-01T03:00:00\",\"2018-08-01T04:00:00\",\"2018-08-01T05:00:00\",\"2018-08-01T06:00:00\",\"2018-08-01T07:00:00\",\"2018-08-01T08:00:00\",\"2018-08-01T09:00:00\",\"2018-08-01T10:00:00\",\"2018-08-01T11:00:00\",\"2018-08-01T12:00:00\",\"2018-08-01T13:00:00\",\"2018-08-01T14:00:00\",\"2018-08-01T15:00:00\",\"2018-08-01T16:00:00\",\"2018-08-01T17:00:00\",\"2018-08-01T18:00:00\",\"2018-08-01T19:00:00\",\"2018-08-01T20:00:00\",\"2018-08-01T21:00:00\",\"2018-08-01T22:00:00\",\"2018-08-01T23:00:00\",\"2018-08-02T00:00:00\",\"2018-08-02T01:00:00\",\"2018-08-02T02:00:00\",\"2018-08-02T03:00:00\",\"2018-08-02T04:00:00\",\"2018-08-02T05:00:00\",\"2018-08-02T06:00:00\",\"2018-08-02T07:00:00\",\"2018-08-02T08:00:00\",\"2018-08-02T09:00:00\",\"2018-08-02T10:00:00\",\"2018-08-02T11:00:00\",\"2018-08-02T12:00:00\",\"2018-08-02T13:00:00\",\"2018-08-02T14:00:00\",\"2018-08-02T15:00:00\",\"2018-08-02T16:00:00\",\"2018-08-02T17:00:00\",\"2018-08-02T18:00:00\",\"2018-08-02T19:00:00\",\"2018-08-02T20:00:00\",\"2018-08-02T21:00:00\",\"2018-08-02T22:00:00\",\"2018-08-02T23:00:00\",\"2018-08-03T00:00:00\",\"2018-08-03T01:00:00\",\"2018-08-03T02:00:00\",\"2018-08-03T03:00:00\",\"2018-08-03T04:00:00\",\"2018-08-03T05:00:00\",\"2018-08-03T06:00:00\",\"2018-08-03T07:00:00\",\"2018-08-03T08:00:00\",\"2018-08-03T09:00:00\",\"2018-08-03T10:00:00\",\"2018-08-03T11:00:00\",\"2018-08-03T12:00:00\",\"2018-08-03T13:00:00\",\"2018-08-03T14:00:00\",\"2018-08-03T15:00:00\",\"2018-08-03T16:00:00\",\"2018-08-03T17:00:00\",\"2018-08-03T18:00:00\",\"2018-08-03T19:00:00\",\"2018-08-03T20:00:00\",\"2018-08-03T21:00:00\",\"2018-08-03T22:00:00\",\"2018-08-03T23:00:00\",\"2018-08-04T00:00:00\",\"2018-08-04T01:00:00\",\"2018-08-04T02:00:00\",\"2018-08-04T03:00:00\",\"2018-08-04T04:00:00\",\"2018-08-04T05:00:00\",\"2018-08-04T06:00:00\",\"2018-08-04T07:00:00\",\"2018-08-04T08:00:00\",\"2018-08-04T09:00:00\",\"2018-08-04T10:00:00\",\"2018-08-04T11:00:00\",\"2018-08-04T12:00:00\",\"2018-08-04T13:00:00\",\"2018-08-04T14:00:00\",\"2018-08-04T15:00:00\",\"2018-08-04T16:00:00\",\"2018-08-04T17:00:00\",\"2018-08-04T18:00:00\",\"2018-08-04T19:00:00\",\"2018-08-04T20:00:00\",\"2018-08-04T21:00:00\",\"2018-08-04T22:00:00\",\"2018-08-04T23:00:00\"],\"y\":[1.5,1.7588190451025207,2.0,2.2071067811865475,2.3660254037844384,2.465925826289068,2.5,2.4659258262890686,2.366025403784439,2.2071067811865475,2.0000000000000004,1.758819045102521,1.5000000000000002,1.2411809548974797,1.0000000000000007,0.7928932188134525,0.6339745962155615,0.5340741737109319,0.5,0.5340741737109316,0.633974596215561,0.7928932188134523,0.9999999999999996,1.2411809548974784,1.5,1.7588190451025207,2.0,2.2071067811865475,2.3660254037844384,2.465925826289068,2.5,2.4659258262890686,2.366025403784439,2.2071067811865475,2.0000000000000004,1.758819045102521,1.5000000000000002,1.2411809548974797,1.0000000000000007,0.7928932188134525,0.6339745962155615,0.5340741737109319,0.5,0.5340741737109316,0.633974596215561,0.7928932188134523,0.9999999999999996,1.2411809548974784,1.5,1.7588190451025207,2.0,2.2071067811865475,2.3660254037844384,2.465925826289068,2.5,2.4659258262890686,2.366025403784439,2.2071067811865475,2.0000000000000004,1.758819045102521,1.5000000000000002,1.2411809548974797,1.0000000000000007,0.7928932188134525,0.6339745962155615,0.5340741737109319,0.5,0.5340741737109316,0.633974596215561,0.7928932188134523,0.9999999999999996,1.2411809548974784,1.5,1.7588190451025207,2.0,2.2071067811865475,2.3660254037844384,2.465925826289068,2.5,2.4659258262890686,2.366025403784439,2.2071067811865475,2.0000000000000004,1.758819045102521,1.5000000000000002,1.2411809548974797,1.0000000000000007,0.7928932188134525,0.6339745962155615,0.5340741737109319,0.5,0.5340741737109316,0.633974596215561,0.7928932188134523,0.9999999999999996,1.2411809548974784],\"type\":\"scatter\"},{\"name\":\"loading_crit\",\"x\":[\"2018-07-31T22:00:00\",\"2018-08-05T03:17:07.790188\"],\"y\":[1,1],\"type\":\"scatter\"}],                        {\"hovermode\":\"closest\",\"legend\":{\"orientation\":\"h\",\"x\":0,\"y\":-0.2},\"title\":{\"text\":\"GANTT Chart\"},\"xaxis\":{\"range\":[\"2018-07-31T22:00:00\",\"2018-08-05T03:17:07.790188\"],\"title\":{\"font\":{\"color\":\"#7f7f7f\",\"family\":\"Courier New, monospace\",\"size\":18},\"text\":\"Time\"}},\"yaxis\":{\"title\":{\"font\":{\"color\":\"#7f7f7f\",\"family\":\"Courier New, monospace\",\"size\":18},\"text\":\"Activities\"}},\"template\":{\"data\":{\"histogram2dcontour\":[{\"type\":\"histogram2dcontour\",\"colorbar\":{\"outlinewidth\":0,\"ticks\":\"\"},\"colorscale\":[[0.0,\"#0d0887\"],[0.1111111111111111,\"#46039f\"],[0.2222222222222222,\"#7201a8\"],[0.3333333333333333,\"#9c179e\"],[0.4444444444444444,\"#bd3786\"],[0.5555555555555556,\"#d8576b\"],[0.6666666666666666,\"#ed7953\"],[0.7777777777777778,\"#fb9f3a\"],[0.8888888888888888,\"#fdca26\"],[1.0,\"#f0f921\"]]}],\"choropleth\":[{\"type\":\"choropleth\",\"colorbar\":{\"outlinewidth\":0,\"ticks\":\"\"}}],\"histogram2d\":[{\"type\":\"histogram2d\",\"colorbar\":{\"outlinewidth\":0,\"ticks\":\"\"},\"colorscale\":[[0.0,\"#0d0887\"],[0.1111111111111111,\"#46039f\"],[0.2222222222222222,\"#7201a8\"],[0.3333333333333333,\"#9c179e\"],[0.4444444444444444,\"#bd3786\"],[0.5555555555555556,\"#d8576b\"],[0.6666666666666666,\"#ed7953\"],[0.7777777777777778,\"#fb9f3a\"],[0.8888888888888888,\"#fdca26\"],[1.0,\"#f0f921\"]]}],\"heatmap\":[{\"type\":\"heatmap\",\"colorbar\":{\"outlinewidth\":0,\"ticks\":\"\"},\"colorscale\":[[0.0,\"#0d0887\"],[0.1111111111111111,\"#46039f\"],[0.2222222222222222,\"#7201a8\"],[0.3333333333333333,\"#9c179e\"],[0.4444444444444444,\"#bd3786\"],[0.5555555555555556,\"#d8576b\"],[0.6666666666666666,\"#ed7953\"],[0.7777777777777778,\"#fb9f3a\"],[0.8888888888888888,\"#fdca26\"],[1.0,\"#f0f921\"]]}],\"heatmapgl\":[{\"type\":\"heatmapgl\",\"colorbar\":{\"outlinewidth\":0,\"ticks\":\"\"},\"colorscale\":[[0.0,\"#0d0887\"],[0.1111111111111111,\"#46039f\"],[0.2222222222222222,\"#7201a8\"],[0.3333333333333333,\"#9c179e\"],[0.4444444444444444,\"#bd3786\"],[0.5555555555555556,\"#d8576b\"],[0.6666666666666666,\"#ed7953\"],[0.7777777777777778,\"#fb9f3a\"],[0.8888888888888888,\"#fdca26\"],[1.0,\"#f0f921\"]]}],\"contourcarpet\":[{\"type\":\"contourcarpet\",\"colorbar\":{\"outlinewidth\":0,\"ticks\":\"\"}}],\"contour\":[{\"type\":\"contour\",\"colorbar\":{\"outlinewidth\":0,\"ticks\":\"\"},\"colorscale\":[[0.0,\"#0d0887\"],[0.1111111111111111,\"#46039f\"],[0.2222222222222222,\"#7201a8\"],[0.3333333333333333,\"#9c179e\"],[0.4444444444444444,\"#bd3786\"],[0.5555555555555556,\"#d8576b\"],[0.6666666666666666,\"#ed7953\"],[0.7777777777777778,\"#fb9f3a\"],[0.8888888888888888,\"#fdca26\"],[1.0,\"#f0f921\"]]}],\"surface\":[{\"type\":\"surface\",\"colorbar\":{\"outlinewidth\":0,\"ticks\":\"\"},\"colorscale\":[[0.0,\"#0d0887\"],[0.1111111111111111,\"#46039f\"],[0.2222222222222222,\"#7201a8\"],[0.3333333333333333,\"#9c179e\"],[0.4444444444444444,\"#bd3786\"],[0.5555555555555556,\"#d8576b\"],[0.6666666666666666,\"#ed7953\"],[0.7777777777777778,\"#fb9f3a\"],[0.8888888888888888,\"#fdca26\"],[1.0,\"#f0f921\"]]}],\"mesh3d\":[{\"type\":\"mesh3d\",\"colorbar\":{\"outlinewidth\":0,\"ticks\":\"\"}}],\"scatter\":[{\"fillpattern\":{\"fillmode\":\"overlay\",\"size\":10,\"solidity\":0.2},\"type\":\"scatter\"}],\"parcoords\":[{\"type\":\"parcoords\",\"line\":{\"colorbar\":{\"outlinewidth\":0,\"ticks\":\"\"}}}],\"scatterpolargl\":[{\"type\":\"scatterpolargl\",\"marker\":{\"colorbar\":{\"outlinewidth\":0,\"ticks\":\"\"}}}],\"bar\":[{\"error_x\":{\"color\":\"#2a3f5f\"},\"error_y\":{\"color\":\"#2a3f5f\"},\"marker\":{\"line\":{\"color\":\"#E5ECF6\",\"width\":0.5},\"pattern\":{\"fillmode\":\"overlay\",\"size\":10,\"solidity\":0.2}},\"type\":\"bar\"}],\"scattergeo\":[{\"type\":\"scattergeo\",\"marker\":{\"colorbar\":{\"outlinewidth\":0,\"ticks\":\"\"}}}],\"scatterpolar\":[{\"type\":\"scatterpolar\",\"marker\":{\"colorbar\":{\"outlinewidth\":0,\"ticks\":\"\"}}}],\"histogram\":[{\"marker\":{\"pattern\":{\"fillmode\":\"overlay\",\"size\":10,\"solidity\":0.2}},\"type\":\"histogram\"}],\"scattergl\":[{\"type\":\"scattergl\",\"marker\":{\"colorbar\":{\"outlinewidth\":0,\"ticks\":\"\"}}}],\"scatter3d\":[{\"type\":\"scatter3d\",\"line\":{\"colorbar\":{\"outlinewidth\":0,\"ticks\":\"\"}},\"marker\":{\"colorbar\":{\"outlinewidth\":0,\"ticks\":\"\"}}}],\"scattermapbox\":[{\"type\":\"scattermapbox\",\"marker\":{\"colorbar\":{\"outlinewidth\":0,\"ticks\":\"\"}}}],\"scatterternary\":[{\"type\":\"scatterternary\",\"marker\":{\"colorbar\":{\"outlinewidth\":0,\"ticks\":\"\"}}}],\"scattercarpet\":[{\"type\":\"scattercarpet\",\"marker\":{\"colorbar\":{\"outlinewidth\":0,\"ticks\":\"\"}}}],\"carpet\":[{\"aaxis\":{\"endlinecolor\":\"#2a3f5f\",\"gridcolor\":\"white\",\"linecolor\":\"white\",\"minorgridcolor\":\"white\",\"startlinecolor\":\"#2a3f5f\"},\"baxis\":{\"endlinecolor\":\"#2a3f5f\",\"gridcolor\":\"white\",\"linecolor\":\"white\",\"minorgridcolor\":\"white\",\"startlinecolor\":\"#2a3f5f\"},\"type\":\"carpet\"}],\"table\":[{\"cells\":{\"fill\":{\"color\":\"#EBF0F8\"},\"line\":{\"color\":\"white\"}},\"header\":{\"fill\":{\"color\":\"#C8D4E3\"},\"line\":{\"color\":\"white\"}},\"type\":\"table\"}],\"barpolar\":[{\"marker\":{\"line\":{\"color\":\"#E5ECF6\",\"width\":0.5},\"pattern\":{\"fillmode\":\"overlay\",\"size\":10,\"solidity\":0.2}},\"type\":\"barpolar\"}],\"pie\":[{\"automargin\":true,\"type\":\"pie\"}]},\"layout\":{\"autotypenumbers\":\"strict\",\"colorway\":[\"#636efa\",\"#EF553B\",\"#00cc96\",\"#ab63fa\",\"#FFA15A\",\"#19d3f3\",\"#FF6692\",\"#B6E880\",\"#FF97FF\",\"#FECB52\"],\"font\":{\"color\":\"#2a3f5f\"},\"hovermode\":\"closest\",\"hoverlabel\":{\"align\":\"left\"},\"paper_bgcolor\":\"white\",\"plot_bgcolor\":\"#E5ECF6\",\"polar\":{\"bgcolor\":\"#E5ECF6\",\"angularaxis\":{\"gridcolor\":\"white\",\"linecolor\":\"white\",\"ticks\":\"\"},\"radialaxis\":{\"gridcolor\":\"white\",\"linecolor\":\"white\",\"ticks\":\"\"}},\"ternary\":{\"bgcolor\":\"#E5ECF6\",\"aaxis\":{\"gridcolor\":\"white\",\"linecolor\":\"white\",\"ticks\":\"\"},\"baxis\":{\"gridcolor\":\"white\",\"linecolor\":\"white\",\"ticks\":\"\"},\"caxis\":{\"gridcolor\":\"white\",\"linecolor\":\"white\",\"ticks\":\"\"}},\"coloraxis\":{\"colorbar\":{\"outlinewidth\":0,\"ticks\":\"\"}},\"colorscale\":{\"sequential\":[[0.0,\"#0d0887\"],[0.1111111111111111,\"#46039f\"],[0.2222222222222222,\"#7201a8\"],[0.3333333333333333,\"#9c179e\"],[0.4444444444444444,\"#bd3786\"],[0.5555555555555556,\"#d8576b\"],[0.6666666666666666,\"#ed7953\"],[0.7777777777777778,\"#fb9f3a\"],[0.8888888888888888,\"#fdca26\"],[1.0,\"#f0f921\"]],\"sequentialminus\":[[0.0,\"#0d0887\"],[0.1111111111111111,\"#46039f\"],[0.2222222222222222,\"#7201a8\"],[0.3333333333333333,\"#9c179e\"],[0.4444444444444444,\"#bd3786\"],[0.5555555555555556,\"#d8576b\"],[0.6666666666666666,\"#ed7953\"],[0.7777777777777778,\"#fb9f3a\"],[0.8888888888888888,\"#fdca26\"],[1.0,\"#f0f921\"]],\"diverging\":[[0,\"#8e0152\"],[0.1,\"#c51b7d\"],[0.2,\"#de77ae\"],[0.3,\"#f1b6da\"],[0.4,\"#fde0ef\"],[0.5,\"#f7f7f7\"],[0.6,\"#e6f5d0\"],[0.7,\"#b8e186\"],[0.8,\"#7fbc41\"],[0.9,\"#4d9221\"],[1,\"#276419\"]]},\"xaxis\":{\"gridcolor\":\"white\",\"linecolor\":\"white\",\"ticks\":\"\",\"title\":{\"standoff\":15},\"zerolinecolor\":\"white\",\"automargin\":true,\"zerolinewidth\":2},\"yaxis\":{\"gridcolor\":\"white\",\"linecolor\":\"white\",\"ticks\":\"\",\"title\":{\"standoff\":15},\"zerolinecolor\":\"white\",\"automargin\":true,\"zerolinewidth\":2},\"scene\":{\"xaxis\":{\"backgroundcolor\":\"#E5ECF6\",\"gridcolor\":\"white\",\"linecolor\":\"white\",\"showbackground\":true,\"ticks\":\"\",\"zerolinecolor\":\"white\",\"gridwidth\":2},\"yaxis\":{\"backgroundcolor\":\"#E5ECF6\",\"gridcolor\":\"white\",\"linecolor\":\"white\",\"showbackground\":true,\"ticks\":\"\",\"zerolinecolor\":\"white\",\"gridwidth\":2},\"zaxis\":{\"backgroundcolor\":\"#E5ECF6\",\"gridcolor\":\"white\",\"linecolor\":\"white\",\"showbackground\":true,\"ticks\":\"\",\"zerolinecolor\":\"white\",\"gridwidth\":2}},\"shapedefaults\":{\"line\":{\"color\":\"#2a3f5f\"}},\"annotationdefaults\":{\"arrowcolor\":\"#2a3f5f\",\"arrowhead\":0,\"arrowwidth\":1},\"geo\":{\"bgcolor\":\"white\",\"landcolor\":\"#E5ECF6\",\"subunitcolor\":\"white\",\"showland\":true,\"showlakes\":true,\"lakecolor\":\"white\"},\"title\":{\"x\":0.05},\"mapbox\":{\"style\":\"light\"}}}},                        {\"responsive\": true}                    ).then(function(){\n",
       "                            \n",
       "var gd = document.getElementById('50a67a17-ddd0-44f7-a2d6-411075267acb');\n",
       "var x = new MutationObserver(function (mutations, observer) {{\n",
       "        var display = window.getComputedStyle(gd).display;\n",
       "        if (!display || display === 'none') {{\n",
       "            console.log([gd, 'removed!']);\n",
       "            Plotly.purge(gd);\n",
       "            observer.disconnect();\n",
       "        }}\n",
       "}});\n",
       "\n",
       "// Listen for the removal of the full notebook cells\n",
       "var notebookContainer = gd.closest('#notebook-container');\n",
       "if (notebookContainer) {{\n",
       "    x.observe(notebookContainer, {childList: true});\n",
       "}}\n",
       "\n",
       "// Listen for the clearing of the current output cell\n",
       "var outputEl = gd.closest('.output');\n",
       "if (outputEl) {{\n",
       "    x.observe(outputEl, {childList: true});\n",
       "}}\n",
       "\n",
       "                        })                };                });            </script>        </div>"
      ]
     },
     "metadata": {},
     "output_type": "display_data"
    }
   ],
   "source": [
    "res = plot.get_gantt_chart([vessel01], y_scale=\"numbers\", static=True, id_map=[while_activity])\n",
    "data = res['data']\n",
    "layout = res['layout']\n",
    "\n",
    "data.append({\n",
    "    \"name\": \"sailing_crit\",\n",
    "    \"x\":[vessel01.log[\"Timestamp\"][0].isoformat(), vessel01.log[\"Timestamp\"][-1].isoformat()],\n",
    "    \"y\":[sailing_crit.minimum,sailing_crit.minimum],\n",
    "})\n",
    "\n",
    "data.append({\n",
    "    \"name\": \"Depth\",\n",
    "    \"x\":df.index,\n",
    "    \"y\":df[sailing_crit.condition],\n",
    "})\n",
    "\n",
    "data.append({\n",
    "    \"name\": \"loading_crit\",\n",
    "    \"x\":[vessel01.log[\"Timestamp\"][0].isoformat(), vessel01.log[\"Timestamp\"][-1].isoformat()],\n",
    "    \"y\":[loading_crit.minimum,loading_crit.minimum],\n",
    "})\n",
    "\n",
    "go.Figure(data=data, layout=layout)"
   ]
  },
  {
   "cell_type": "markdown",
   "metadata": {},
   "source": [
    "**_Some observations:_**\n",
    "* For some reason loading appears to start 2 hours before the simulation starting time \\[bug?\\]\n",
    "* The moving criterion states that sailing can only commence when Minimum depth is at minimum 1 m for a window of at least 3600 seconds. We see indeed that the plugin introduces waiting when water levels are too low. But it seems that at the end it missed one limiting depth window. "
   ]
  },
  {
   "cell_type": "code",
   "execution_count": 15,
   "metadata": {},
   "outputs": [
    {
     "data": {
      "text/html": [
       "        <script type=\"text/javascript\">\n",
       "        window.PlotlyConfig = {MathJaxConfig: 'local'};\n",
       "        if (window.MathJax && window.MathJax.Hub && window.MathJax.Hub.Config) {window.MathJax.Hub.Config({SVG: {font: \"STIX-Web\"}});}\n",
       "        if (typeof require !== 'undefined') {\n",
       "        require.undef(\"plotly\");\n",
       "        requirejs.config({\n",
       "            paths: {\n",
       "                'plotly': ['https://cdn.plot.ly/plotly-2.12.1.min']\n",
       "            }\n",
       "        });\n",
       "        require(['plotly'], function(Plotly) {\n",
       "            window._Plotly = Plotly;\n",
       "        });\n",
       "        }\n",
       "        </script>\n",
       "        "
      ]
     },
     "metadata": {},
     "output_type": "display_data"
    },
    {
     "data": {
      "application/vnd.plotly.v1+json": {
       "config": {
        "linkText": "Export to plot.ly",
        "plotlyServerURL": "https://plot.ly",
        "showLink": false
       },
       "data": [
        {
         "connectgaps": false,
         "hoverinfo": "y+name",
         "line": {
          "color": "rgb(212,104,238)",
          "width": 10
         },
         "mode": "lines",
         "name": "sailing empty",
         "type": "scatter",
         "x": [
          "2018-07-31T22:00:00",
          "2018-07-31T22:00:00",
          "2018-07-31T22:00:00",
          "2018-07-31T22:00:00",
          "2018-07-31T22:00:00",
          "2018-08-01T00:15:42.824591",
          "2018-08-01T00:15:42.824591",
          "2018-08-01T00:31:25.649182",
          "2018-08-01T00:31:25.649182",
          "2018-08-01T00:31:25.649182",
          "2018-08-01T02:47:08.473773",
          "2018-08-01T02:47:08.473773",
          "2018-08-01T03:02:51.298365",
          "2018-08-01T03:02:51.298365",
          "2018-08-01T03:02:51.298365",
          "2018-08-01T05:18:34.122956",
          "2018-08-01T05:18:34.122956",
          "2018-08-01T05:34:16.947547",
          "2018-08-01T05:34:16.947547",
          "2018-08-01T05:34:16.947547",
          "2018-08-01T07:49:59.772138",
          "2018-08-01T07:49:59.772138",
          "2018-08-01T08:05:42.596729",
          "2018-08-01T08:05:42.596729",
          "2018-08-01T08:05:42.596729",
          "2018-08-01T10:21:25.421320",
          "2018-08-01T10:21:25.421320",
          "2018-08-01T10:37:08.245912",
          "2018-08-01T10:37:08.245912",
          "2018-08-01T10:37:08.245912",
          "2018-08-01T21:00:00",
          "2018-08-01T21:00:00",
          "2018-08-01T21:15:42.824591",
          "2018-08-01T21:15:42.824591",
          "2018-08-01T21:15:42.824591",
          "2018-08-01T23:31:25.649182",
          "2018-08-01T23:31:25.649182",
          "2018-08-01T23:47:08.473773",
          "2018-08-01T23:47:08.473773",
          "2018-08-01T23:47:08.473773",
          "2018-08-02T02:02:51.298365",
          "2018-08-02T02:02:51.298365",
          "2018-08-02T02:18:34.122956",
          "2018-08-02T02:18:34.122956",
          "2018-08-02T02:18:34.122956",
          "2018-08-02T04:34:16.947547",
          "2018-08-02T04:34:16.947547",
          "2018-08-02T04:49:59.772138",
          "2018-08-02T04:49:59.772138",
          "2018-08-02T04:49:59.772138",
          "2018-08-02T07:05:42.596729",
          "2018-08-02T07:05:42.596729",
          "2018-08-02T07:21:25.421320",
          "2018-08-02T07:21:25.421320",
          "2018-08-02T07:21:25.421320",
          "2018-08-02T09:37:08.245912",
          "2018-08-02T09:37:08.245912",
          "2018-08-02T09:52:51.070503",
          "2018-08-02T09:52:51.070503",
          "2018-08-02T09:52:51.070503",
          "2018-08-02T21:00:00",
          "2018-08-02T21:00:00",
          "2018-08-02T21:15:42.824591",
          "2018-08-02T21:15:42.824591",
          "2018-08-02T21:15:42.824591",
          "2018-08-02T23:31:25.649182",
          "2018-08-02T23:31:25.649182",
          "2018-08-02T23:47:08.473773",
          "2018-08-02T23:47:08.473773",
          "2018-08-02T23:47:08.473773",
          "2018-08-03T02:02:51.298365",
          "2018-08-03T02:02:51.298365",
          "2018-08-03T02:18:34.122956",
          "2018-08-03T02:18:34.122956",
          "2018-08-03T02:18:34.122956",
          "2018-08-03T04:34:16.947547",
          "2018-08-03T04:34:16.947547",
          "2018-08-03T04:49:59.772138",
          "2018-08-03T04:49:59.772138",
          "2018-08-03T04:49:59.772138",
          "2018-08-03T07:05:42.596729",
          "2018-08-03T07:05:42.596729",
          "2018-08-03T07:21:25.421320",
          "2018-08-03T07:21:25.421320",
          "2018-08-03T07:21:25.421320",
          "2018-08-03T09:37:08.245912",
          "2018-08-03T09:37:08.245912",
          "2018-08-03T09:52:51.070503",
          "2018-08-03T09:52:51.070503",
          "2018-08-03T09:52:51.070503",
          "2018-08-03T21:00:00",
          "2018-08-03T21:00:00",
          "2018-08-03T21:15:42.824591",
          "2018-08-03T21:15:42.824591",
          "2018-08-03T21:15:42.824591",
          "2018-08-03T23:31:25.649182",
          "2018-08-03T23:31:25.649182",
          "2018-08-03T23:47:08.473773",
          "2018-08-03T23:47:08.473773",
          "2018-08-03T23:47:08.473773",
          "2018-08-04T02:02:51.298365",
          "2018-08-04T02:02:51.298365",
          "2018-08-04T02:18:34.122956",
          "2018-08-04T02:18:34.122956",
          "2018-08-04T02:18:34.122956",
          "2018-08-04T04:34:16.947547",
          "2018-08-04T04:34:16.947547",
          "2018-08-04T04:49:59.772138",
          "2018-08-04T04:49:59.772138",
          "2018-08-04T04:49:59.772138",
          "2018-08-04T07:05:42.596729",
          "2018-08-04T07:05:42.596729",
          "2018-08-04T07:21:25.421320",
          "2018-08-04T07:21:25.421320",
          "2018-08-04T07:21:25.421320",
          "2018-08-04T09:37:08.245912",
          "2018-08-04T09:37:08.245912",
          "2018-08-04T09:52:51.070503",
          "2018-08-04T09:52:51.070503",
          "2018-08-04T09:52:51.070503",
          "2018-08-04T12:08:33.895094",
          "2018-08-04T12:08:33.895094",
          "2018-08-04T12:24:16.719685",
          "2018-08-04T12:24:16.719685",
          "2018-08-04T12:24:16.719685",
          "2018-08-04T14:39:59.544276",
          "2018-08-04T14:39:59.544276",
          "2018-08-04T14:55:42.368867",
          "2018-08-04T14:55:42.368867",
          "2018-08-04T14:55:42.368867",
          "2018-08-04T17:11:25.193459",
          "2018-08-04T17:11:25.193459",
          "2018-08-04T17:27:08.018050",
          "2018-08-04T17:27:08.018050",
          "2018-08-04T17:27:08.018050",
          "2018-08-04T19:42:50.842641",
          "2018-08-04T19:42:50.842641",
          "2018-08-04T19:58:33.667232",
          "2018-08-04T19:58:33.667232",
          "2018-08-04T19:58:33.667232",
          "2018-08-04T22:14:16.491823",
          "2018-08-04T22:14:16.491823",
          "2018-08-04T22:29:59.316414",
          "2018-08-04T22:29:59.316414",
          "2018-08-04T22:29:59.316414",
          "2018-08-05T00:45:42.141006",
          "2018-08-05T00:45:42.141006",
          "2018-08-05T01:01:24.965597",
          "2018-08-05T01:01:24.965597",
          "2018-08-05T01:01:24.965597"
         ],
         "y": [
          "sailing empty",
          "sailing empty",
          "sailing empty",
          "sailing empty",
          null,
          "sailing empty",
          "sailing empty",
          "sailing empty",
          "sailing empty",
          null,
          "sailing empty",
          "sailing empty",
          "sailing empty",
          "sailing empty",
          null,
          "sailing empty",
          "sailing empty",
          "sailing empty",
          "sailing empty",
          null,
          "sailing empty",
          "sailing empty",
          "sailing empty",
          "sailing empty",
          null,
          "sailing empty",
          "sailing empty",
          "sailing empty",
          "sailing empty",
          null,
          "sailing empty",
          "sailing empty",
          "sailing empty",
          "sailing empty",
          null,
          "sailing empty",
          "sailing empty",
          "sailing empty",
          "sailing empty",
          null,
          "sailing empty",
          "sailing empty",
          "sailing empty",
          "sailing empty",
          null,
          "sailing empty",
          "sailing empty",
          "sailing empty",
          "sailing empty",
          null,
          "sailing empty",
          "sailing empty",
          "sailing empty",
          "sailing empty",
          null,
          "sailing empty",
          "sailing empty",
          "sailing empty",
          "sailing empty",
          null,
          "sailing empty",
          "sailing empty",
          "sailing empty",
          "sailing empty",
          null,
          "sailing empty",
          "sailing empty",
          "sailing empty",
          "sailing empty",
          null,
          "sailing empty",
          "sailing empty",
          "sailing empty",
          "sailing empty",
          null,
          "sailing empty",
          "sailing empty",
          "sailing empty",
          "sailing empty",
          null,
          "sailing empty",
          "sailing empty",
          "sailing empty",
          "sailing empty",
          null,
          "sailing empty",
          "sailing empty",
          "sailing empty",
          "sailing empty",
          null,
          "sailing empty",
          "sailing empty",
          "sailing empty",
          "sailing empty",
          null,
          "sailing empty",
          "sailing empty",
          "sailing empty",
          "sailing empty",
          null,
          "sailing empty",
          "sailing empty",
          "sailing empty",
          "sailing empty",
          null,
          "sailing empty",
          "sailing empty",
          "sailing empty",
          "sailing empty",
          null,
          "sailing empty",
          "sailing empty",
          "sailing empty",
          "sailing empty",
          null,
          "sailing empty",
          "sailing empty",
          "sailing empty",
          "sailing empty",
          null,
          "sailing empty",
          "sailing empty",
          "sailing empty",
          "sailing empty",
          null,
          "sailing empty",
          "sailing empty",
          "sailing empty",
          "sailing empty",
          null,
          "sailing empty",
          "sailing empty",
          "sailing empty",
          "sailing empty",
          null,
          "sailing empty",
          "sailing empty",
          "sailing empty",
          "sailing empty",
          null,
          "sailing empty",
          "sailing empty",
          "sailing empty",
          "sailing empty",
          null,
          "sailing empty",
          "sailing empty",
          "sailing empty",
          "sailing empty",
          null
         ]
        },
        {
         "connectgaps": false,
         "hoverinfo": "y+name",
         "line": {
          "color": "rgb(20,168,46)",
          "width": 10
         },
         "mode": "lines",
         "name": "loading",
         "type": "scatter",
         "x": [
          "2018-07-31T22:00:00",
          "2018-07-31T22:00:00",
          "2018-07-31T23:00:00",
          "2018-07-31T23:00:00",
          "2018-07-31T23:00:00",
          "2018-08-01T00:31:25.649182",
          "2018-08-01T00:31:25.649182",
          "2018-08-01T01:31:25.649182",
          "2018-08-01T01:31:25.649182",
          "2018-08-01T01:31:25.649182",
          "2018-08-01T03:02:51.298365",
          "2018-08-01T03:02:51.298365",
          "2018-08-01T04:02:51.298365",
          "2018-08-01T04:02:51.298365",
          "2018-08-01T04:02:51.298365",
          "2018-08-01T05:34:16.947547",
          "2018-08-01T05:34:16.947547",
          "2018-08-01T06:34:16.947547",
          "2018-08-01T06:34:16.947547",
          "2018-08-01T06:34:16.947547",
          "2018-08-01T08:05:42.596729",
          "2018-08-01T08:05:42.596729",
          "2018-08-01T09:05:42.596729",
          "2018-08-01T09:05:42.596729",
          "2018-08-01T09:05:42.596729",
          "2018-08-01T10:37:08.245912",
          "2018-08-01T10:37:08.245912",
          "2018-08-01T11:37:08.245912",
          "2018-08-01T11:37:08.245912",
          "2018-08-01T11:37:08.245912",
          "2018-08-01T21:15:42.824591",
          "2018-08-01T21:15:42.824591",
          "2018-08-01T22:15:42.824591",
          "2018-08-01T22:15:42.824591",
          "2018-08-01T22:15:42.824591",
          "2018-08-01T23:47:08.473773",
          "2018-08-01T23:47:08.473773",
          "2018-08-02T00:47:08.473773",
          "2018-08-02T00:47:08.473773",
          "2018-08-02T00:47:08.473773",
          "2018-08-02T02:18:34.122956",
          "2018-08-02T02:18:34.122956",
          "2018-08-02T03:18:34.122956",
          "2018-08-02T03:18:34.122956",
          "2018-08-02T03:18:34.122956",
          "2018-08-02T04:49:59.772138",
          "2018-08-02T04:49:59.772138",
          "2018-08-02T05:49:59.772138",
          "2018-08-02T05:49:59.772138",
          "2018-08-02T05:49:59.772138",
          "2018-08-02T07:21:25.421320",
          "2018-08-02T07:21:25.421320",
          "2018-08-02T08:21:25.421320",
          "2018-08-02T08:21:25.421320",
          "2018-08-02T08:21:25.421320",
          "2018-08-02T09:52:51.070503",
          "2018-08-02T09:52:51.070503",
          "2018-08-02T10:52:51.070503",
          "2018-08-02T10:52:51.070503",
          "2018-08-02T10:52:51.070503",
          "2018-08-02T21:15:42.824591",
          "2018-08-02T21:15:42.824591",
          "2018-08-02T22:15:42.824591",
          "2018-08-02T22:15:42.824591",
          "2018-08-02T22:15:42.824591",
          "2018-08-02T23:47:08.473773",
          "2018-08-02T23:47:08.473773",
          "2018-08-03T00:47:08.473773",
          "2018-08-03T00:47:08.473773",
          "2018-08-03T00:47:08.473773",
          "2018-08-03T02:18:34.122956",
          "2018-08-03T02:18:34.122956",
          "2018-08-03T03:18:34.122956",
          "2018-08-03T03:18:34.122956",
          "2018-08-03T03:18:34.122956",
          "2018-08-03T04:49:59.772138",
          "2018-08-03T04:49:59.772138",
          "2018-08-03T05:49:59.772138",
          "2018-08-03T05:49:59.772138",
          "2018-08-03T05:49:59.772138",
          "2018-08-03T07:21:25.421320",
          "2018-08-03T07:21:25.421320",
          "2018-08-03T08:21:25.421320",
          "2018-08-03T08:21:25.421320",
          "2018-08-03T08:21:25.421320",
          "2018-08-03T09:52:51.070503",
          "2018-08-03T09:52:51.070503",
          "2018-08-03T10:52:51.070503",
          "2018-08-03T10:52:51.070503",
          "2018-08-03T10:52:51.070503",
          "2018-08-03T21:15:42.824591",
          "2018-08-03T21:15:42.824591",
          "2018-08-03T22:15:42.824591",
          "2018-08-03T22:15:42.824591",
          "2018-08-03T22:15:42.824591",
          "2018-08-03T23:47:08.473773",
          "2018-08-03T23:47:08.473773",
          "2018-08-04T00:47:08.473773",
          "2018-08-04T00:47:08.473773",
          "2018-08-04T00:47:08.473773",
          "2018-08-04T02:18:34.122956",
          "2018-08-04T02:18:34.122956",
          "2018-08-04T03:18:34.122956",
          "2018-08-04T03:18:34.122956",
          "2018-08-04T03:18:34.122956",
          "2018-08-04T04:49:59.772138",
          "2018-08-04T04:49:59.772138",
          "2018-08-04T05:49:59.772138",
          "2018-08-04T05:49:59.772138",
          "2018-08-04T05:49:59.772138",
          "2018-08-04T07:21:25.421320",
          "2018-08-04T07:21:25.421320",
          "2018-08-04T08:21:25.421320",
          "2018-08-04T08:21:25.421320",
          "2018-08-04T08:21:25.421320",
          "2018-08-04T09:52:51.070503",
          "2018-08-04T09:52:51.070503",
          "2018-08-04T10:52:51.070503",
          "2018-08-04T10:52:51.070503",
          "2018-08-04T10:52:51.070503",
          "2018-08-04T12:24:16.719685",
          "2018-08-04T12:24:16.719685",
          "2018-08-04T13:24:16.719685",
          "2018-08-04T13:24:16.719685",
          "2018-08-04T13:24:16.719685",
          "2018-08-04T14:55:42.368867",
          "2018-08-04T14:55:42.368867",
          "2018-08-04T15:55:42.368867",
          "2018-08-04T15:55:42.368867",
          "2018-08-04T15:55:42.368867",
          "2018-08-04T17:27:08.018050",
          "2018-08-04T17:27:08.018050",
          "2018-08-04T18:27:08.018050",
          "2018-08-04T18:27:08.018050",
          "2018-08-04T18:27:08.018050",
          "2018-08-04T19:58:33.667232",
          "2018-08-04T19:58:33.667232",
          "2018-08-04T20:58:33.667232",
          "2018-08-04T20:58:33.667232",
          "2018-08-04T20:58:33.667232",
          "2018-08-04T22:29:59.316414",
          "2018-08-04T22:29:59.316414",
          "2018-08-04T23:29:59.316414",
          "2018-08-04T23:29:59.316414",
          "2018-08-04T23:29:59.316414",
          "2018-08-05T01:01:24.965597",
          "2018-08-05T01:01:24.965597",
          "2018-08-05T02:01:24.965597",
          "2018-08-05T02:01:24.965597",
          "2018-08-05T02:01:24.965597"
         ],
         "y": [
          "loading",
          "loading",
          "loading",
          "loading",
          null,
          "loading",
          "loading",
          "loading",
          "loading",
          null,
          "loading",
          "loading",
          "loading",
          "loading",
          null,
          "loading",
          "loading",
          "loading",
          "loading",
          null,
          "loading",
          "loading",
          "loading",
          "loading",
          null,
          "loading",
          "loading",
          "loading",
          "loading",
          null,
          "loading",
          "loading",
          "loading",
          "loading",
          null,
          "loading",
          "loading",
          "loading",
          "loading",
          null,
          "loading",
          "loading",
          "loading",
          "loading",
          null,
          "loading",
          "loading",
          "loading",
          "loading",
          null,
          "loading",
          "loading",
          "loading",
          "loading",
          null,
          "loading",
          "loading",
          "loading",
          "loading",
          null,
          "loading",
          "loading",
          "loading",
          "loading",
          null,
          "loading",
          "loading",
          "loading",
          "loading",
          null,
          "loading",
          "loading",
          "loading",
          "loading",
          null,
          "loading",
          "loading",
          "loading",
          "loading",
          null,
          "loading",
          "loading",
          "loading",
          "loading",
          null,
          "loading",
          "loading",
          "loading",
          "loading",
          null,
          "loading",
          "loading",
          "loading",
          "loading",
          null,
          "loading",
          "loading",
          "loading",
          "loading",
          null,
          "loading",
          "loading",
          "loading",
          "loading",
          null,
          "loading",
          "loading",
          "loading",
          "loading",
          null,
          "loading",
          "loading",
          "loading",
          "loading",
          null,
          "loading",
          "loading",
          "loading",
          "loading",
          null,
          "loading",
          "loading",
          "loading",
          "loading",
          null,
          "loading",
          "loading",
          "loading",
          "loading",
          null,
          "loading",
          "loading",
          "loading",
          "loading",
          null,
          "loading",
          "loading",
          "loading",
          "loading",
          null,
          "loading",
          "loading",
          "loading",
          "loading",
          null,
          "loading",
          "loading",
          "loading",
          "loading",
          null
         ]
        },
        {
         "connectgaps": false,
         "hoverinfo": "y+name",
         "line": {
          "color": "rgb(84,232,110)",
          "width": 10
         },
         "mode": "lines",
         "name": "sailing full",
         "type": "scatter",
         "x": [
          "2018-07-31T23:00:00",
          "2018-07-31T23:00:00",
          "2018-07-31T23:15:42.824591",
          "2018-07-31T23:15:42.824591",
          "2018-07-31T23:15:42.824591",
          "2018-08-01T01:31:25.649182",
          "2018-08-01T01:31:25.649182",
          "2018-08-01T01:47:08.473773",
          "2018-08-01T01:47:08.473773",
          "2018-08-01T01:47:08.473773",
          "2018-08-01T04:02:51.298365",
          "2018-08-01T04:02:51.298365",
          "2018-08-01T04:18:34.122956",
          "2018-08-01T04:18:34.122956",
          "2018-08-01T04:18:34.122956",
          "2018-08-01T06:34:16.947547",
          "2018-08-01T06:34:16.947547",
          "2018-08-01T06:49:59.772138",
          "2018-08-01T06:49:59.772138",
          "2018-08-01T06:49:59.772138",
          "2018-08-01T09:05:42.596729",
          "2018-08-01T09:05:42.596729",
          "2018-08-01T09:21:25.421320",
          "2018-08-01T09:21:25.421320",
          "2018-08-01T09:21:25.421320",
          "2018-08-01T11:37:08.245912",
          "2018-08-01T11:37:08.245912",
          "2018-08-01T11:52:51.070503",
          "2018-08-01T11:52:51.070503",
          "2018-08-01T11:52:51.070503",
          "2018-08-01T22:15:42.824591",
          "2018-08-01T22:15:42.824591",
          "2018-08-01T22:31:25.649182",
          "2018-08-01T22:31:25.649182",
          "2018-08-01T22:31:25.649182",
          "2018-08-02T00:47:08.473773",
          "2018-08-02T00:47:08.473773",
          "2018-08-02T01:02:51.298365",
          "2018-08-02T01:02:51.298365",
          "2018-08-02T01:02:51.298365",
          "2018-08-02T03:18:34.122956",
          "2018-08-02T03:18:34.122956",
          "2018-08-02T03:34:16.947547",
          "2018-08-02T03:34:16.947547",
          "2018-08-02T03:34:16.947547",
          "2018-08-02T05:49:59.772138",
          "2018-08-02T05:49:59.772138",
          "2018-08-02T06:05:42.596729",
          "2018-08-02T06:05:42.596729",
          "2018-08-02T06:05:42.596729",
          "2018-08-02T08:21:25.421320",
          "2018-08-02T08:21:25.421320",
          "2018-08-02T08:37:08.245912",
          "2018-08-02T08:37:08.245912",
          "2018-08-02T08:37:08.245912",
          "2018-08-02T10:52:51.070503",
          "2018-08-02T10:52:51.070503",
          "2018-08-02T11:08:33.895094",
          "2018-08-02T11:08:33.895094",
          "2018-08-02T11:08:33.895094",
          "2018-08-02T22:15:42.824591",
          "2018-08-02T22:15:42.824591",
          "2018-08-02T22:31:25.649182",
          "2018-08-02T22:31:25.649182",
          "2018-08-02T22:31:25.649182",
          "2018-08-03T00:47:08.473773",
          "2018-08-03T00:47:08.473773",
          "2018-08-03T01:02:51.298365",
          "2018-08-03T01:02:51.298365",
          "2018-08-03T01:02:51.298365",
          "2018-08-03T03:18:34.122956",
          "2018-08-03T03:18:34.122956",
          "2018-08-03T03:34:16.947547",
          "2018-08-03T03:34:16.947547",
          "2018-08-03T03:34:16.947547",
          "2018-08-03T05:49:59.772138",
          "2018-08-03T05:49:59.772138",
          "2018-08-03T06:05:42.596729",
          "2018-08-03T06:05:42.596729",
          "2018-08-03T06:05:42.596729",
          "2018-08-03T08:21:25.421320",
          "2018-08-03T08:21:25.421320",
          "2018-08-03T08:37:08.245912",
          "2018-08-03T08:37:08.245912",
          "2018-08-03T08:37:08.245912",
          "2018-08-03T10:52:51.070503",
          "2018-08-03T10:52:51.070503",
          "2018-08-03T11:08:33.895094",
          "2018-08-03T11:08:33.895094",
          "2018-08-03T11:08:33.895094",
          "2018-08-03T22:15:42.824591",
          "2018-08-03T22:15:42.824591",
          "2018-08-03T22:31:25.649182",
          "2018-08-03T22:31:25.649182",
          "2018-08-03T22:31:25.649182",
          "2018-08-04T00:47:08.473773",
          "2018-08-04T00:47:08.473773",
          "2018-08-04T01:02:51.298365",
          "2018-08-04T01:02:51.298365",
          "2018-08-04T01:02:51.298365",
          "2018-08-04T03:18:34.122956",
          "2018-08-04T03:18:34.122956",
          "2018-08-04T03:34:16.947547",
          "2018-08-04T03:34:16.947547",
          "2018-08-04T03:34:16.947547",
          "2018-08-04T05:49:59.772138",
          "2018-08-04T05:49:59.772138",
          "2018-08-04T06:05:42.596729",
          "2018-08-04T06:05:42.596729",
          "2018-08-04T06:05:42.596729",
          "2018-08-04T08:21:25.421320",
          "2018-08-04T08:21:25.421320",
          "2018-08-04T08:37:08.245912",
          "2018-08-04T08:37:08.245912",
          "2018-08-04T08:37:08.245912",
          "2018-08-04T10:52:51.070503",
          "2018-08-04T10:52:51.070503",
          "2018-08-04T11:08:33.895094",
          "2018-08-04T11:08:33.895094",
          "2018-08-04T11:08:33.895094",
          "2018-08-04T13:24:16.719685",
          "2018-08-04T13:24:16.719685",
          "2018-08-04T13:39:59.544276",
          "2018-08-04T13:39:59.544276",
          "2018-08-04T13:39:59.544276",
          "2018-08-04T15:55:42.368867",
          "2018-08-04T15:55:42.368867",
          "2018-08-04T16:11:25.193459",
          "2018-08-04T16:11:25.193459",
          "2018-08-04T16:11:25.193459",
          "2018-08-04T18:27:08.018050",
          "2018-08-04T18:27:08.018050",
          "2018-08-04T18:42:50.842641",
          "2018-08-04T18:42:50.842641",
          "2018-08-04T18:42:50.842641",
          "2018-08-04T20:58:33.667232",
          "2018-08-04T20:58:33.667232",
          "2018-08-04T21:14:16.491823",
          "2018-08-04T21:14:16.491823",
          "2018-08-04T21:14:16.491823",
          "2018-08-04T23:29:59.316414",
          "2018-08-04T23:29:59.316414",
          "2018-08-04T23:45:42.141006",
          "2018-08-04T23:45:42.141006",
          "2018-08-04T23:45:42.141006",
          "2018-08-05T02:01:24.965597",
          "2018-08-05T02:01:24.965597",
          "2018-08-05T02:17:07.790188",
          "2018-08-05T02:17:07.790188",
          "2018-08-05T02:17:07.790188"
         ],
         "y": [
          "sailing full",
          "sailing full",
          "sailing full",
          "sailing full",
          null,
          "sailing full",
          "sailing full",
          "sailing full",
          "sailing full",
          null,
          "sailing full",
          "sailing full",
          "sailing full",
          "sailing full",
          null,
          "sailing full",
          "sailing full",
          "sailing full",
          "sailing full",
          null,
          "sailing full",
          "sailing full",
          "sailing full",
          "sailing full",
          null,
          "sailing full",
          "sailing full",
          "sailing full",
          "sailing full",
          null,
          "sailing full",
          "sailing full",
          "sailing full",
          "sailing full",
          null,
          "sailing full",
          "sailing full",
          "sailing full",
          "sailing full",
          null,
          "sailing full",
          "sailing full",
          "sailing full",
          "sailing full",
          null,
          "sailing full",
          "sailing full",
          "sailing full",
          "sailing full",
          null,
          "sailing full",
          "sailing full",
          "sailing full",
          "sailing full",
          null,
          "sailing full",
          "sailing full",
          "sailing full",
          "sailing full",
          null,
          "sailing full",
          "sailing full",
          "sailing full",
          "sailing full",
          null,
          "sailing full",
          "sailing full",
          "sailing full",
          "sailing full",
          null,
          "sailing full",
          "sailing full",
          "sailing full",
          "sailing full",
          null,
          "sailing full",
          "sailing full",
          "sailing full",
          "sailing full",
          null,
          "sailing full",
          "sailing full",
          "sailing full",
          "sailing full",
          null,
          "sailing full",
          "sailing full",
          "sailing full",
          "sailing full",
          null,
          "sailing full",
          "sailing full",
          "sailing full",
          "sailing full",
          null,
          "sailing full",
          "sailing full",
          "sailing full",
          "sailing full",
          null,
          "sailing full",
          "sailing full",
          "sailing full",
          "sailing full",
          null,
          "sailing full",
          "sailing full",
          "sailing full",
          "sailing full",
          null,
          "sailing full",
          "sailing full",
          "sailing full",
          "sailing full",
          null,
          "sailing full",
          "sailing full",
          "sailing full",
          "sailing full",
          null,
          "sailing full",
          "sailing full",
          "sailing full",
          "sailing full",
          null,
          "sailing full",
          "sailing full",
          "sailing full",
          "sailing full",
          null,
          "sailing full",
          "sailing full",
          "sailing full",
          "sailing full",
          null,
          "sailing full",
          "sailing full",
          "sailing full",
          "sailing full",
          null,
          "sailing full",
          "sailing full",
          "sailing full",
          "sailing full",
          null,
          "sailing full",
          "sailing full",
          "sailing full",
          "sailing full",
          null
         ]
        },
        {
         "connectgaps": false,
         "hoverinfo": "y+name",
         "line": {
          "color": "rgb(148,40,174)",
          "width": 10
         },
         "mode": "lines",
         "name": "unloading",
         "type": "scatter",
         "x": [
          "2018-07-31T23:15:42.824591",
          "2018-07-31T23:15:42.824591",
          "2018-08-01T00:15:42.824591",
          "2018-08-01T00:15:42.824591",
          "2018-08-01T00:15:42.824591",
          "2018-08-01T01:47:08.473773",
          "2018-08-01T01:47:08.473773",
          "2018-08-01T02:47:08.473773",
          "2018-08-01T02:47:08.473773",
          "2018-08-01T02:47:08.473773",
          "2018-08-01T04:18:34.122956",
          "2018-08-01T04:18:34.122956",
          "2018-08-01T05:18:34.122956",
          "2018-08-01T05:18:34.122956",
          "2018-08-01T05:18:34.122956",
          "2018-08-01T06:49:59.772138",
          "2018-08-01T06:49:59.772138",
          "2018-08-01T07:49:59.772138",
          "2018-08-01T07:49:59.772138",
          "2018-08-01T07:49:59.772138",
          "2018-08-01T09:21:25.421320",
          "2018-08-01T09:21:25.421320",
          "2018-08-01T10:21:25.421320",
          "2018-08-01T10:21:25.421320",
          "2018-08-01T10:21:25.421320",
          "2018-08-01T11:52:51.070503",
          "2018-08-01T11:52:51.070503",
          "2018-08-01T12:52:51.070503",
          "2018-08-01T12:52:51.070503",
          "2018-08-01T12:52:51.070503",
          "2018-08-01T22:31:25.649182",
          "2018-08-01T22:31:25.649182",
          "2018-08-01T23:31:25.649182",
          "2018-08-01T23:31:25.649182",
          "2018-08-01T23:31:25.649182",
          "2018-08-02T01:02:51.298365",
          "2018-08-02T01:02:51.298365",
          "2018-08-02T02:02:51.298365",
          "2018-08-02T02:02:51.298365",
          "2018-08-02T02:02:51.298365",
          "2018-08-02T03:34:16.947547",
          "2018-08-02T03:34:16.947547",
          "2018-08-02T04:34:16.947547",
          "2018-08-02T04:34:16.947547",
          "2018-08-02T04:34:16.947547",
          "2018-08-02T06:05:42.596729",
          "2018-08-02T06:05:42.596729",
          "2018-08-02T07:05:42.596729",
          "2018-08-02T07:05:42.596729",
          "2018-08-02T07:05:42.596729",
          "2018-08-02T08:37:08.245912",
          "2018-08-02T08:37:08.245912",
          "2018-08-02T09:37:08.245912",
          "2018-08-02T09:37:08.245912",
          "2018-08-02T09:37:08.245912",
          "2018-08-02T11:08:33.895094",
          "2018-08-02T11:08:33.895094",
          "2018-08-02T12:08:33.895094",
          "2018-08-02T12:08:33.895094",
          "2018-08-02T12:08:33.895094",
          "2018-08-02T22:31:25.649182",
          "2018-08-02T22:31:25.649182",
          "2018-08-02T23:31:25.649182",
          "2018-08-02T23:31:25.649182",
          "2018-08-02T23:31:25.649182",
          "2018-08-03T01:02:51.298365",
          "2018-08-03T01:02:51.298365",
          "2018-08-03T02:02:51.298365",
          "2018-08-03T02:02:51.298365",
          "2018-08-03T02:02:51.298365",
          "2018-08-03T03:34:16.947547",
          "2018-08-03T03:34:16.947547",
          "2018-08-03T04:34:16.947547",
          "2018-08-03T04:34:16.947547",
          "2018-08-03T04:34:16.947547",
          "2018-08-03T06:05:42.596729",
          "2018-08-03T06:05:42.596729",
          "2018-08-03T07:05:42.596729",
          "2018-08-03T07:05:42.596729",
          "2018-08-03T07:05:42.596729",
          "2018-08-03T08:37:08.245912",
          "2018-08-03T08:37:08.245912",
          "2018-08-03T09:37:08.245912",
          "2018-08-03T09:37:08.245912",
          "2018-08-03T09:37:08.245912",
          "2018-08-03T11:08:33.895094",
          "2018-08-03T11:08:33.895094",
          "2018-08-03T12:08:33.895094",
          "2018-08-03T12:08:33.895094",
          "2018-08-03T12:08:33.895094",
          "2018-08-03T22:31:25.649182",
          "2018-08-03T22:31:25.649182",
          "2018-08-03T23:31:25.649182",
          "2018-08-03T23:31:25.649182",
          "2018-08-03T23:31:25.649182",
          "2018-08-04T01:02:51.298365",
          "2018-08-04T01:02:51.298365",
          "2018-08-04T02:02:51.298365",
          "2018-08-04T02:02:51.298365",
          "2018-08-04T02:02:51.298365",
          "2018-08-04T03:34:16.947547",
          "2018-08-04T03:34:16.947547",
          "2018-08-04T04:34:16.947547",
          "2018-08-04T04:34:16.947547",
          "2018-08-04T04:34:16.947547",
          "2018-08-04T06:05:42.596729",
          "2018-08-04T06:05:42.596729",
          "2018-08-04T07:05:42.596729",
          "2018-08-04T07:05:42.596729",
          "2018-08-04T07:05:42.596729",
          "2018-08-04T08:37:08.245912",
          "2018-08-04T08:37:08.245912",
          "2018-08-04T09:37:08.245912",
          "2018-08-04T09:37:08.245912",
          "2018-08-04T09:37:08.245912",
          "2018-08-04T11:08:33.895094",
          "2018-08-04T11:08:33.895094",
          "2018-08-04T12:08:33.895094",
          "2018-08-04T12:08:33.895094",
          "2018-08-04T12:08:33.895094",
          "2018-08-04T13:39:59.544276",
          "2018-08-04T13:39:59.544276",
          "2018-08-04T14:39:59.544276",
          "2018-08-04T14:39:59.544276",
          "2018-08-04T14:39:59.544276",
          "2018-08-04T16:11:25.193459",
          "2018-08-04T16:11:25.193459",
          "2018-08-04T17:11:25.193459",
          "2018-08-04T17:11:25.193459",
          "2018-08-04T17:11:25.193459",
          "2018-08-04T18:42:50.842641",
          "2018-08-04T18:42:50.842641",
          "2018-08-04T19:42:50.842641",
          "2018-08-04T19:42:50.842641",
          "2018-08-04T19:42:50.842641",
          "2018-08-04T21:14:16.491823",
          "2018-08-04T21:14:16.491823",
          "2018-08-04T22:14:16.491823",
          "2018-08-04T22:14:16.491823",
          "2018-08-04T22:14:16.491823",
          "2018-08-04T23:45:42.141006",
          "2018-08-04T23:45:42.141006",
          "2018-08-05T00:45:42.141006",
          "2018-08-05T00:45:42.141006",
          "2018-08-05T00:45:42.141006",
          "2018-08-05T02:17:07.790188",
          "2018-08-05T02:17:07.790188",
          "2018-08-05T03:17:07.790188",
          "2018-08-05T03:17:07.790188",
          "2018-08-05T03:17:07.790188"
         ],
         "y": [
          "unloading",
          "unloading",
          "unloading",
          "unloading",
          null,
          "unloading",
          "unloading",
          "unloading",
          "unloading",
          null,
          "unloading",
          "unloading",
          "unloading",
          "unloading",
          null,
          "unloading",
          "unloading",
          "unloading",
          "unloading",
          null,
          "unloading",
          "unloading",
          "unloading",
          "unloading",
          null,
          "unloading",
          "unloading",
          "unloading",
          "unloading",
          null,
          "unloading",
          "unloading",
          "unloading",
          "unloading",
          null,
          "unloading",
          "unloading",
          "unloading",
          "unloading",
          null,
          "unloading",
          "unloading",
          "unloading",
          "unloading",
          null,
          "unloading",
          "unloading",
          "unloading",
          "unloading",
          null,
          "unloading",
          "unloading",
          "unloading",
          "unloading",
          null,
          "unloading",
          "unloading",
          "unloading",
          "unloading",
          null,
          "unloading",
          "unloading",
          "unloading",
          "unloading",
          null,
          "unloading",
          "unloading",
          "unloading",
          "unloading",
          null,
          "unloading",
          "unloading",
          "unloading",
          "unloading",
          null,
          "unloading",
          "unloading",
          "unloading",
          "unloading",
          null,
          "unloading",
          "unloading",
          "unloading",
          "unloading",
          null,
          "unloading",
          "unloading",
          "unloading",
          "unloading",
          null,
          "unloading",
          "unloading",
          "unloading",
          "unloading",
          null,
          "unloading",
          "unloading",
          "unloading",
          "unloading",
          null,
          "unloading",
          "unloading",
          "unloading",
          "unloading",
          null,
          "unloading",
          "unloading",
          "unloading",
          "unloading",
          null,
          "unloading",
          "unloading",
          "unloading",
          "unloading",
          null,
          "unloading",
          "unloading",
          "unloading",
          "unloading",
          null,
          "unloading",
          "unloading",
          "unloading",
          "unloading",
          null,
          "unloading",
          "unloading",
          "unloading",
          "unloading",
          null,
          "unloading",
          "unloading",
          "unloading",
          "unloading",
          null,
          "unloading",
          "unloading",
          "unloading",
          "unloading",
          null,
          "unloading",
          "unloading",
          "unloading",
          "unloading",
          null,
          "unloading",
          "unloading",
          "unloading",
          "unloading",
          null
         ]
        }
       ],
       "layout": {
        "hovermode": "closest",
        "legend": {
         "orientation": "h",
         "x": 0,
         "y": -0.2
        },
        "template": {
         "data": {
          "bar": [
           {
            "error_x": {
             "color": "#2a3f5f"
            },
            "error_y": {
             "color": "#2a3f5f"
            },
            "marker": {
             "line": {
              "color": "#E5ECF6",
              "width": 0.5
             },
             "pattern": {
              "fillmode": "overlay",
              "size": 10,
              "solidity": 0.2
             }
            },
            "type": "bar"
           }
          ],
          "barpolar": [
           {
            "marker": {
             "line": {
              "color": "#E5ECF6",
              "width": 0.5
             },
             "pattern": {
              "fillmode": "overlay",
              "size": 10,
              "solidity": 0.2
             }
            },
            "type": "barpolar"
           }
          ],
          "carpet": [
           {
            "aaxis": {
             "endlinecolor": "#2a3f5f",
             "gridcolor": "white",
             "linecolor": "white",
             "minorgridcolor": "white",
             "startlinecolor": "#2a3f5f"
            },
            "baxis": {
             "endlinecolor": "#2a3f5f",
             "gridcolor": "white",
             "linecolor": "white",
             "minorgridcolor": "white",
             "startlinecolor": "#2a3f5f"
            },
            "type": "carpet"
           }
          ],
          "choropleth": [
           {
            "colorbar": {
             "outlinewidth": 0,
             "ticks": ""
            },
            "type": "choropleth"
           }
          ],
          "contour": [
           {
            "colorbar": {
             "outlinewidth": 0,
             "ticks": ""
            },
            "colorscale": [
             [
              0,
              "#0d0887"
             ],
             [
              0.1111111111111111,
              "#46039f"
             ],
             [
              0.2222222222222222,
              "#7201a8"
             ],
             [
              0.3333333333333333,
              "#9c179e"
             ],
             [
              0.4444444444444444,
              "#bd3786"
             ],
             [
              0.5555555555555556,
              "#d8576b"
             ],
             [
              0.6666666666666666,
              "#ed7953"
             ],
             [
              0.7777777777777778,
              "#fb9f3a"
             ],
             [
              0.8888888888888888,
              "#fdca26"
             ],
             [
              1,
              "#f0f921"
             ]
            ],
            "type": "contour"
           }
          ],
          "contourcarpet": [
           {
            "colorbar": {
             "outlinewidth": 0,
             "ticks": ""
            },
            "type": "contourcarpet"
           }
          ],
          "heatmap": [
           {
            "colorbar": {
             "outlinewidth": 0,
             "ticks": ""
            },
            "colorscale": [
             [
              0,
              "#0d0887"
             ],
             [
              0.1111111111111111,
              "#46039f"
             ],
             [
              0.2222222222222222,
              "#7201a8"
             ],
             [
              0.3333333333333333,
              "#9c179e"
             ],
             [
              0.4444444444444444,
              "#bd3786"
             ],
             [
              0.5555555555555556,
              "#d8576b"
             ],
             [
              0.6666666666666666,
              "#ed7953"
             ],
             [
              0.7777777777777778,
              "#fb9f3a"
             ],
             [
              0.8888888888888888,
              "#fdca26"
             ],
             [
              1,
              "#f0f921"
             ]
            ],
            "type": "heatmap"
           }
          ],
          "heatmapgl": [
           {
            "colorbar": {
             "outlinewidth": 0,
             "ticks": ""
            },
            "colorscale": [
             [
              0,
              "#0d0887"
             ],
             [
              0.1111111111111111,
              "#46039f"
             ],
             [
              0.2222222222222222,
              "#7201a8"
             ],
             [
              0.3333333333333333,
              "#9c179e"
             ],
             [
              0.4444444444444444,
              "#bd3786"
             ],
             [
              0.5555555555555556,
              "#d8576b"
             ],
             [
              0.6666666666666666,
              "#ed7953"
             ],
             [
              0.7777777777777778,
              "#fb9f3a"
             ],
             [
              0.8888888888888888,
              "#fdca26"
             ],
             [
              1,
              "#f0f921"
             ]
            ],
            "type": "heatmapgl"
           }
          ],
          "histogram": [
           {
            "marker": {
             "pattern": {
              "fillmode": "overlay",
              "size": 10,
              "solidity": 0.2
             }
            },
            "type": "histogram"
           }
          ],
          "histogram2d": [
           {
            "colorbar": {
             "outlinewidth": 0,
             "ticks": ""
            },
            "colorscale": [
             [
              0,
              "#0d0887"
             ],
             [
              0.1111111111111111,
              "#46039f"
             ],
             [
              0.2222222222222222,
              "#7201a8"
             ],
             [
              0.3333333333333333,
              "#9c179e"
             ],
             [
              0.4444444444444444,
              "#bd3786"
             ],
             [
              0.5555555555555556,
              "#d8576b"
             ],
             [
              0.6666666666666666,
              "#ed7953"
             ],
             [
              0.7777777777777778,
              "#fb9f3a"
             ],
             [
              0.8888888888888888,
              "#fdca26"
             ],
             [
              1,
              "#f0f921"
             ]
            ],
            "type": "histogram2d"
           }
          ],
          "histogram2dcontour": [
           {
            "colorbar": {
             "outlinewidth": 0,
             "ticks": ""
            },
            "colorscale": [
             [
              0,
              "#0d0887"
             ],
             [
              0.1111111111111111,
              "#46039f"
             ],
             [
              0.2222222222222222,
              "#7201a8"
             ],
             [
              0.3333333333333333,
              "#9c179e"
             ],
             [
              0.4444444444444444,
              "#bd3786"
             ],
             [
              0.5555555555555556,
              "#d8576b"
             ],
             [
              0.6666666666666666,
              "#ed7953"
             ],
             [
              0.7777777777777778,
              "#fb9f3a"
             ],
             [
              0.8888888888888888,
              "#fdca26"
             ],
             [
              1,
              "#f0f921"
             ]
            ],
            "type": "histogram2dcontour"
           }
          ],
          "mesh3d": [
           {
            "colorbar": {
             "outlinewidth": 0,
             "ticks": ""
            },
            "type": "mesh3d"
           }
          ],
          "parcoords": [
           {
            "line": {
             "colorbar": {
              "outlinewidth": 0,
              "ticks": ""
             }
            },
            "type": "parcoords"
           }
          ],
          "pie": [
           {
            "automargin": true,
            "type": "pie"
           }
          ],
          "scatter": [
           {
            "fillpattern": {
             "fillmode": "overlay",
             "size": 10,
             "solidity": 0.2
            },
            "type": "scatter"
           }
          ],
          "scatter3d": [
           {
            "line": {
             "colorbar": {
              "outlinewidth": 0,
              "ticks": ""
             }
            },
            "marker": {
             "colorbar": {
              "outlinewidth": 0,
              "ticks": ""
             }
            },
            "type": "scatter3d"
           }
          ],
          "scattercarpet": [
           {
            "marker": {
             "colorbar": {
              "outlinewidth": 0,
              "ticks": ""
             }
            },
            "type": "scattercarpet"
           }
          ],
          "scattergeo": [
           {
            "marker": {
             "colorbar": {
              "outlinewidth": 0,
              "ticks": ""
             }
            },
            "type": "scattergeo"
           }
          ],
          "scattergl": [
           {
            "marker": {
             "colorbar": {
              "outlinewidth": 0,
              "ticks": ""
             }
            },
            "type": "scattergl"
           }
          ],
          "scattermapbox": [
           {
            "marker": {
             "colorbar": {
              "outlinewidth": 0,
              "ticks": ""
             }
            },
            "type": "scattermapbox"
           }
          ],
          "scatterpolar": [
           {
            "marker": {
             "colorbar": {
              "outlinewidth": 0,
              "ticks": ""
             }
            },
            "type": "scatterpolar"
           }
          ],
          "scatterpolargl": [
           {
            "marker": {
             "colorbar": {
              "outlinewidth": 0,
              "ticks": ""
             }
            },
            "type": "scatterpolargl"
           }
          ],
          "scatterternary": [
           {
            "marker": {
             "colorbar": {
              "outlinewidth": 0,
              "ticks": ""
             }
            },
            "type": "scatterternary"
           }
          ],
          "surface": [
           {
            "colorbar": {
             "outlinewidth": 0,
             "ticks": ""
            },
            "colorscale": [
             [
              0,
              "#0d0887"
             ],
             [
              0.1111111111111111,
              "#46039f"
             ],
             [
              0.2222222222222222,
              "#7201a8"
             ],
             [
              0.3333333333333333,
              "#9c179e"
             ],
             [
              0.4444444444444444,
              "#bd3786"
             ],
             [
              0.5555555555555556,
              "#d8576b"
             ],
             [
              0.6666666666666666,
              "#ed7953"
             ],
             [
              0.7777777777777778,
              "#fb9f3a"
             ],
             [
              0.8888888888888888,
              "#fdca26"
             ],
             [
              1,
              "#f0f921"
             ]
            ],
            "type": "surface"
           }
          ],
          "table": [
           {
            "cells": {
             "fill": {
              "color": "#EBF0F8"
             },
             "line": {
              "color": "white"
             }
            },
            "header": {
             "fill": {
              "color": "#C8D4E3"
             },
             "line": {
              "color": "white"
             }
            },
            "type": "table"
           }
          ]
         },
         "layout": {
          "annotationdefaults": {
           "arrowcolor": "#2a3f5f",
           "arrowhead": 0,
           "arrowwidth": 1
          },
          "autotypenumbers": "strict",
          "coloraxis": {
           "colorbar": {
            "outlinewidth": 0,
            "ticks": ""
           }
          },
          "colorscale": {
           "diverging": [
            [
             0,
             "#8e0152"
            ],
            [
             0.1,
             "#c51b7d"
            ],
            [
             0.2,
             "#de77ae"
            ],
            [
             0.3,
             "#f1b6da"
            ],
            [
             0.4,
             "#fde0ef"
            ],
            [
             0.5,
             "#f7f7f7"
            ],
            [
             0.6,
             "#e6f5d0"
            ],
            [
             0.7,
             "#b8e186"
            ],
            [
             0.8,
             "#7fbc41"
            ],
            [
             0.9,
             "#4d9221"
            ],
            [
             1,
             "#276419"
            ]
           ],
           "sequential": [
            [
             0,
             "#0d0887"
            ],
            [
             0.1111111111111111,
             "#46039f"
            ],
            [
             0.2222222222222222,
             "#7201a8"
            ],
            [
             0.3333333333333333,
             "#9c179e"
            ],
            [
             0.4444444444444444,
             "#bd3786"
            ],
            [
             0.5555555555555556,
             "#d8576b"
            ],
            [
             0.6666666666666666,
             "#ed7953"
            ],
            [
             0.7777777777777778,
             "#fb9f3a"
            ],
            [
             0.8888888888888888,
             "#fdca26"
            ],
            [
             1,
             "#f0f921"
            ]
           ],
           "sequentialminus": [
            [
             0,
             "#0d0887"
            ],
            [
             0.1111111111111111,
             "#46039f"
            ],
            [
             0.2222222222222222,
             "#7201a8"
            ],
            [
             0.3333333333333333,
             "#9c179e"
            ],
            [
             0.4444444444444444,
             "#bd3786"
            ],
            [
             0.5555555555555556,
             "#d8576b"
            ],
            [
             0.6666666666666666,
             "#ed7953"
            ],
            [
             0.7777777777777778,
             "#fb9f3a"
            ],
            [
             0.8888888888888888,
             "#fdca26"
            ],
            [
             1,
             "#f0f921"
            ]
           ]
          },
          "colorway": [
           "#636efa",
           "#EF553B",
           "#00cc96",
           "#ab63fa",
           "#FFA15A",
           "#19d3f3",
           "#FF6692",
           "#B6E880",
           "#FF97FF",
           "#FECB52"
          ],
          "font": {
           "color": "#2a3f5f"
          },
          "geo": {
           "bgcolor": "white",
           "lakecolor": "white",
           "landcolor": "#E5ECF6",
           "showlakes": true,
           "showland": true,
           "subunitcolor": "white"
          },
          "hoverlabel": {
           "align": "left"
          },
          "hovermode": "closest",
          "mapbox": {
           "style": "light"
          },
          "paper_bgcolor": "white",
          "plot_bgcolor": "#E5ECF6",
          "polar": {
           "angularaxis": {
            "gridcolor": "white",
            "linecolor": "white",
            "ticks": ""
           },
           "bgcolor": "#E5ECF6",
           "radialaxis": {
            "gridcolor": "white",
            "linecolor": "white",
            "ticks": ""
           }
          },
          "scene": {
           "xaxis": {
            "backgroundcolor": "#E5ECF6",
            "gridcolor": "white",
            "gridwidth": 2,
            "linecolor": "white",
            "showbackground": true,
            "ticks": "",
            "zerolinecolor": "white"
           },
           "yaxis": {
            "backgroundcolor": "#E5ECF6",
            "gridcolor": "white",
            "gridwidth": 2,
            "linecolor": "white",
            "showbackground": true,
            "ticks": "",
            "zerolinecolor": "white"
           },
           "zaxis": {
            "backgroundcolor": "#E5ECF6",
            "gridcolor": "white",
            "gridwidth": 2,
            "linecolor": "white",
            "showbackground": true,
            "ticks": "",
            "zerolinecolor": "white"
           }
          },
          "shapedefaults": {
           "line": {
            "color": "#2a3f5f"
           }
          },
          "ternary": {
           "aaxis": {
            "gridcolor": "white",
            "linecolor": "white",
            "ticks": ""
           },
           "baxis": {
            "gridcolor": "white",
            "linecolor": "white",
            "ticks": ""
           },
           "bgcolor": "#E5ECF6",
           "caxis": {
            "gridcolor": "white",
            "linecolor": "white",
            "ticks": ""
           }
          },
          "title": {
           "x": 0.05
          },
          "xaxis": {
           "automargin": true,
           "gridcolor": "white",
           "linecolor": "white",
           "ticks": "",
           "title": {
            "standoff": 15
           },
           "zerolinecolor": "white",
           "zerolinewidth": 2
          },
          "yaxis": {
           "automargin": true,
           "gridcolor": "white",
           "linecolor": "white",
           "ticks": "",
           "title": {
            "standoff": 15
           },
           "zerolinecolor": "white",
           "zerolinewidth": 2
          }
         }
        },
        "title": {
         "text": "GANTT Chart"
        },
        "xaxis": {
         "range": [
          "2018-07-31T22:00:00",
          "2018-08-05T03:17:07.790188"
         ],
         "title": {
          "font": {
           "color": "#7f7f7f",
           "family": "Courier New, monospace",
           "size": 18
          },
          "text": "Time"
         }
        },
        "yaxis": {
         "title": {
          "font": {
           "color": "#7f7f7f",
           "family": "Courier New, monospace",
           "size": 18
          },
          "text": "Activities"
         }
        }
       }
      },
      "text/html": [
       "<div>                            <div id=\"a64fdf56-b7e4-4921-a4ab-0ebc3a75d8ae\" class=\"plotly-graph-div\" style=\"height:525px; width:100%;\"></div>            <script type=\"text/javascript\">                require([\"plotly\"], function(Plotly) {                    window.PLOTLYENV=window.PLOTLYENV || {};                                    if (document.getElementById(\"a64fdf56-b7e4-4921-a4ab-0ebc3a75d8ae\")) {                    Plotly.newPlot(                        \"a64fdf56-b7e4-4921-a4ab-0ebc3a75d8ae\",                        [{\"connectgaps\":false,\"hoverinfo\":\"y+name\",\"line\":{\"color\":\"rgb(212,104,238)\",\"width\":10},\"mode\":\"lines\",\"name\":\"sailing empty\",\"x\":[\"2018-07-31T22:00:00\",\"2018-07-31T22:00:00\",\"2018-07-31T22:00:00\",\"2018-07-31T22:00:00\",\"2018-07-31T22:00:00\",\"2018-08-01T00:15:42.824591\",\"2018-08-01T00:15:42.824591\",\"2018-08-01T00:31:25.649182\",\"2018-08-01T00:31:25.649182\",\"2018-08-01T00:31:25.649182\",\"2018-08-01T02:47:08.473773\",\"2018-08-01T02:47:08.473773\",\"2018-08-01T03:02:51.298365\",\"2018-08-01T03:02:51.298365\",\"2018-08-01T03:02:51.298365\",\"2018-08-01T05:18:34.122956\",\"2018-08-01T05:18:34.122956\",\"2018-08-01T05:34:16.947547\",\"2018-08-01T05:34:16.947547\",\"2018-08-01T05:34:16.947547\",\"2018-08-01T07:49:59.772138\",\"2018-08-01T07:49:59.772138\",\"2018-08-01T08:05:42.596729\",\"2018-08-01T08:05:42.596729\",\"2018-08-01T08:05:42.596729\",\"2018-08-01T10:21:25.421320\",\"2018-08-01T10:21:25.421320\",\"2018-08-01T10:37:08.245912\",\"2018-08-01T10:37:08.245912\",\"2018-08-01T10:37:08.245912\",\"2018-08-01T21:00:00\",\"2018-08-01T21:00:00\",\"2018-08-01T21:15:42.824591\",\"2018-08-01T21:15:42.824591\",\"2018-08-01T21:15:42.824591\",\"2018-08-01T23:31:25.649182\",\"2018-08-01T23:31:25.649182\",\"2018-08-01T23:47:08.473773\",\"2018-08-01T23:47:08.473773\",\"2018-08-01T23:47:08.473773\",\"2018-08-02T02:02:51.298365\",\"2018-08-02T02:02:51.298365\",\"2018-08-02T02:18:34.122956\",\"2018-08-02T02:18:34.122956\",\"2018-08-02T02:18:34.122956\",\"2018-08-02T04:34:16.947547\",\"2018-08-02T04:34:16.947547\",\"2018-08-02T04:49:59.772138\",\"2018-08-02T04:49:59.772138\",\"2018-08-02T04:49:59.772138\",\"2018-08-02T07:05:42.596729\",\"2018-08-02T07:05:42.596729\",\"2018-08-02T07:21:25.421320\",\"2018-08-02T07:21:25.421320\",\"2018-08-02T07:21:25.421320\",\"2018-08-02T09:37:08.245912\",\"2018-08-02T09:37:08.245912\",\"2018-08-02T09:52:51.070503\",\"2018-08-02T09:52:51.070503\",\"2018-08-02T09:52:51.070503\",\"2018-08-02T21:00:00\",\"2018-08-02T21:00:00\",\"2018-08-02T21:15:42.824591\",\"2018-08-02T21:15:42.824591\",\"2018-08-02T21:15:42.824591\",\"2018-08-02T23:31:25.649182\",\"2018-08-02T23:31:25.649182\",\"2018-08-02T23:47:08.473773\",\"2018-08-02T23:47:08.473773\",\"2018-08-02T23:47:08.473773\",\"2018-08-03T02:02:51.298365\",\"2018-08-03T02:02:51.298365\",\"2018-08-03T02:18:34.122956\",\"2018-08-03T02:18:34.122956\",\"2018-08-03T02:18:34.122956\",\"2018-08-03T04:34:16.947547\",\"2018-08-03T04:34:16.947547\",\"2018-08-03T04:49:59.772138\",\"2018-08-03T04:49:59.772138\",\"2018-08-03T04:49:59.772138\",\"2018-08-03T07:05:42.596729\",\"2018-08-03T07:05:42.596729\",\"2018-08-03T07:21:25.421320\",\"2018-08-03T07:21:25.421320\",\"2018-08-03T07:21:25.421320\",\"2018-08-03T09:37:08.245912\",\"2018-08-03T09:37:08.245912\",\"2018-08-03T09:52:51.070503\",\"2018-08-03T09:52:51.070503\",\"2018-08-03T09:52:51.070503\",\"2018-08-03T21:00:00\",\"2018-08-03T21:00:00\",\"2018-08-03T21:15:42.824591\",\"2018-08-03T21:15:42.824591\",\"2018-08-03T21:15:42.824591\",\"2018-08-03T23:31:25.649182\",\"2018-08-03T23:31:25.649182\",\"2018-08-03T23:47:08.473773\",\"2018-08-03T23:47:08.473773\",\"2018-08-03T23:47:08.473773\",\"2018-08-04T02:02:51.298365\",\"2018-08-04T02:02:51.298365\",\"2018-08-04T02:18:34.122956\",\"2018-08-04T02:18:34.122956\",\"2018-08-04T02:18:34.122956\",\"2018-08-04T04:34:16.947547\",\"2018-08-04T04:34:16.947547\",\"2018-08-04T04:49:59.772138\",\"2018-08-04T04:49:59.772138\",\"2018-08-04T04:49:59.772138\",\"2018-08-04T07:05:42.596729\",\"2018-08-04T07:05:42.596729\",\"2018-08-04T07:21:25.421320\",\"2018-08-04T07:21:25.421320\",\"2018-08-04T07:21:25.421320\",\"2018-08-04T09:37:08.245912\",\"2018-08-04T09:37:08.245912\",\"2018-08-04T09:52:51.070503\",\"2018-08-04T09:52:51.070503\",\"2018-08-04T09:52:51.070503\",\"2018-08-04T12:08:33.895094\",\"2018-08-04T12:08:33.895094\",\"2018-08-04T12:24:16.719685\",\"2018-08-04T12:24:16.719685\",\"2018-08-04T12:24:16.719685\",\"2018-08-04T14:39:59.544276\",\"2018-08-04T14:39:59.544276\",\"2018-08-04T14:55:42.368867\",\"2018-08-04T14:55:42.368867\",\"2018-08-04T14:55:42.368867\",\"2018-08-04T17:11:25.193459\",\"2018-08-04T17:11:25.193459\",\"2018-08-04T17:27:08.018050\",\"2018-08-04T17:27:08.018050\",\"2018-08-04T17:27:08.018050\",\"2018-08-04T19:42:50.842641\",\"2018-08-04T19:42:50.842641\",\"2018-08-04T19:58:33.667232\",\"2018-08-04T19:58:33.667232\",\"2018-08-04T19:58:33.667232\",\"2018-08-04T22:14:16.491823\",\"2018-08-04T22:14:16.491823\",\"2018-08-04T22:29:59.316414\",\"2018-08-04T22:29:59.316414\",\"2018-08-04T22:29:59.316414\",\"2018-08-05T00:45:42.141006\",\"2018-08-05T00:45:42.141006\",\"2018-08-05T01:01:24.965597\",\"2018-08-05T01:01:24.965597\",\"2018-08-05T01:01:24.965597\"],\"y\":[\"sailing empty\",\"sailing empty\",\"sailing empty\",\"sailing empty\",null,\"sailing empty\",\"sailing empty\",\"sailing empty\",\"sailing empty\",null,\"sailing empty\",\"sailing empty\",\"sailing empty\",\"sailing empty\",null,\"sailing empty\",\"sailing empty\",\"sailing empty\",\"sailing empty\",null,\"sailing empty\",\"sailing empty\",\"sailing empty\",\"sailing empty\",null,\"sailing empty\",\"sailing empty\",\"sailing empty\",\"sailing empty\",null,\"sailing empty\",\"sailing empty\",\"sailing empty\",\"sailing empty\",null,\"sailing empty\",\"sailing empty\",\"sailing empty\",\"sailing empty\",null,\"sailing empty\",\"sailing empty\",\"sailing empty\",\"sailing empty\",null,\"sailing empty\",\"sailing empty\",\"sailing empty\",\"sailing empty\",null,\"sailing empty\",\"sailing empty\",\"sailing empty\",\"sailing empty\",null,\"sailing empty\",\"sailing empty\",\"sailing empty\",\"sailing empty\",null,\"sailing empty\",\"sailing empty\",\"sailing empty\",\"sailing empty\",null,\"sailing empty\",\"sailing empty\",\"sailing empty\",\"sailing empty\",null,\"sailing empty\",\"sailing empty\",\"sailing empty\",\"sailing empty\",null,\"sailing empty\",\"sailing empty\",\"sailing empty\",\"sailing empty\",null,\"sailing empty\",\"sailing empty\",\"sailing empty\",\"sailing empty\",null,\"sailing empty\",\"sailing empty\",\"sailing empty\",\"sailing empty\",null,\"sailing empty\",\"sailing empty\",\"sailing empty\",\"sailing empty\",null,\"sailing empty\",\"sailing empty\",\"sailing empty\",\"sailing empty\",null,\"sailing empty\",\"sailing empty\",\"sailing empty\",\"sailing empty\",null,\"sailing empty\",\"sailing empty\",\"sailing empty\",\"sailing empty\",null,\"sailing empty\",\"sailing empty\",\"sailing empty\",\"sailing empty\",null,\"sailing empty\",\"sailing empty\",\"sailing empty\",\"sailing empty\",null,\"sailing empty\",\"sailing empty\",\"sailing empty\",\"sailing empty\",null,\"sailing empty\",\"sailing empty\",\"sailing empty\",\"sailing empty\",null,\"sailing empty\",\"sailing empty\",\"sailing empty\",\"sailing empty\",null,\"sailing empty\",\"sailing empty\",\"sailing empty\",\"sailing empty\",null,\"sailing empty\",\"sailing empty\",\"sailing empty\",\"sailing empty\",null,\"sailing empty\",\"sailing empty\",\"sailing empty\",\"sailing empty\",null],\"type\":\"scatter\"},{\"connectgaps\":false,\"hoverinfo\":\"y+name\",\"line\":{\"color\":\"rgb(20,168,46)\",\"width\":10},\"mode\":\"lines\",\"name\":\"loading\",\"x\":[\"2018-07-31T22:00:00\",\"2018-07-31T22:00:00\",\"2018-07-31T23:00:00\",\"2018-07-31T23:00:00\",\"2018-07-31T23:00:00\",\"2018-08-01T00:31:25.649182\",\"2018-08-01T00:31:25.649182\",\"2018-08-01T01:31:25.649182\",\"2018-08-01T01:31:25.649182\",\"2018-08-01T01:31:25.649182\",\"2018-08-01T03:02:51.298365\",\"2018-08-01T03:02:51.298365\",\"2018-08-01T04:02:51.298365\",\"2018-08-01T04:02:51.298365\",\"2018-08-01T04:02:51.298365\",\"2018-08-01T05:34:16.947547\",\"2018-08-01T05:34:16.947547\",\"2018-08-01T06:34:16.947547\",\"2018-08-01T06:34:16.947547\",\"2018-08-01T06:34:16.947547\",\"2018-08-01T08:05:42.596729\",\"2018-08-01T08:05:42.596729\",\"2018-08-01T09:05:42.596729\",\"2018-08-01T09:05:42.596729\",\"2018-08-01T09:05:42.596729\",\"2018-08-01T10:37:08.245912\",\"2018-08-01T10:37:08.245912\",\"2018-08-01T11:37:08.245912\",\"2018-08-01T11:37:08.245912\",\"2018-08-01T11:37:08.245912\",\"2018-08-01T21:15:42.824591\",\"2018-08-01T21:15:42.824591\",\"2018-08-01T22:15:42.824591\",\"2018-08-01T22:15:42.824591\",\"2018-08-01T22:15:42.824591\",\"2018-08-01T23:47:08.473773\",\"2018-08-01T23:47:08.473773\",\"2018-08-02T00:47:08.473773\",\"2018-08-02T00:47:08.473773\",\"2018-08-02T00:47:08.473773\",\"2018-08-02T02:18:34.122956\",\"2018-08-02T02:18:34.122956\",\"2018-08-02T03:18:34.122956\",\"2018-08-02T03:18:34.122956\",\"2018-08-02T03:18:34.122956\",\"2018-08-02T04:49:59.772138\",\"2018-08-02T04:49:59.772138\",\"2018-08-02T05:49:59.772138\",\"2018-08-02T05:49:59.772138\",\"2018-08-02T05:49:59.772138\",\"2018-08-02T07:21:25.421320\",\"2018-08-02T07:21:25.421320\",\"2018-08-02T08:21:25.421320\",\"2018-08-02T08:21:25.421320\",\"2018-08-02T08:21:25.421320\",\"2018-08-02T09:52:51.070503\",\"2018-08-02T09:52:51.070503\",\"2018-08-02T10:52:51.070503\",\"2018-08-02T10:52:51.070503\",\"2018-08-02T10:52:51.070503\",\"2018-08-02T21:15:42.824591\",\"2018-08-02T21:15:42.824591\",\"2018-08-02T22:15:42.824591\",\"2018-08-02T22:15:42.824591\",\"2018-08-02T22:15:42.824591\",\"2018-08-02T23:47:08.473773\",\"2018-08-02T23:47:08.473773\",\"2018-08-03T00:47:08.473773\",\"2018-08-03T00:47:08.473773\",\"2018-08-03T00:47:08.473773\",\"2018-08-03T02:18:34.122956\",\"2018-08-03T02:18:34.122956\",\"2018-08-03T03:18:34.122956\",\"2018-08-03T03:18:34.122956\",\"2018-08-03T03:18:34.122956\",\"2018-08-03T04:49:59.772138\",\"2018-08-03T04:49:59.772138\",\"2018-08-03T05:49:59.772138\",\"2018-08-03T05:49:59.772138\",\"2018-08-03T05:49:59.772138\",\"2018-08-03T07:21:25.421320\",\"2018-08-03T07:21:25.421320\",\"2018-08-03T08:21:25.421320\",\"2018-08-03T08:21:25.421320\",\"2018-08-03T08:21:25.421320\",\"2018-08-03T09:52:51.070503\",\"2018-08-03T09:52:51.070503\",\"2018-08-03T10:52:51.070503\",\"2018-08-03T10:52:51.070503\",\"2018-08-03T10:52:51.070503\",\"2018-08-03T21:15:42.824591\",\"2018-08-03T21:15:42.824591\",\"2018-08-03T22:15:42.824591\",\"2018-08-03T22:15:42.824591\",\"2018-08-03T22:15:42.824591\",\"2018-08-03T23:47:08.473773\",\"2018-08-03T23:47:08.473773\",\"2018-08-04T00:47:08.473773\",\"2018-08-04T00:47:08.473773\",\"2018-08-04T00:47:08.473773\",\"2018-08-04T02:18:34.122956\",\"2018-08-04T02:18:34.122956\",\"2018-08-04T03:18:34.122956\",\"2018-08-04T03:18:34.122956\",\"2018-08-04T03:18:34.122956\",\"2018-08-04T04:49:59.772138\",\"2018-08-04T04:49:59.772138\",\"2018-08-04T05:49:59.772138\",\"2018-08-04T05:49:59.772138\",\"2018-08-04T05:49:59.772138\",\"2018-08-04T07:21:25.421320\",\"2018-08-04T07:21:25.421320\",\"2018-08-04T08:21:25.421320\",\"2018-08-04T08:21:25.421320\",\"2018-08-04T08:21:25.421320\",\"2018-08-04T09:52:51.070503\",\"2018-08-04T09:52:51.070503\",\"2018-08-04T10:52:51.070503\",\"2018-08-04T10:52:51.070503\",\"2018-08-04T10:52:51.070503\",\"2018-08-04T12:24:16.719685\",\"2018-08-04T12:24:16.719685\",\"2018-08-04T13:24:16.719685\",\"2018-08-04T13:24:16.719685\",\"2018-08-04T13:24:16.719685\",\"2018-08-04T14:55:42.368867\",\"2018-08-04T14:55:42.368867\",\"2018-08-04T15:55:42.368867\",\"2018-08-04T15:55:42.368867\",\"2018-08-04T15:55:42.368867\",\"2018-08-04T17:27:08.018050\",\"2018-08-04T17:27:08.018050\",\"2018-08-04T18:27:08.018050\",\"2018-08-04T18:27:08.018050\",\"2018-08-04T18:27:08.018050\",\"2018-08-04T19:58:33.667232\",\"2018-08-04T19:58:33.667232\",\"2018-08-04T20:58:33.667232\",\"2018-08-04T20:58:33.667232\",\"2018-08-04T20:58:33.667232\",\"2018-08-04T22:29:59.316414\",\"2018-08-04T22:29:59.316414\",\"2018-08-04T23:29:59.316414\",\"2018-08-04T23:29:59.316414\",\"2018-08-04T23:29:59.316414\",\"2018-08-05T01:01:24.965597\",\"2018-08-05T01:01:24.965597\",\"2018-08-05T02:01:24.965597\",\"2018-08-05T02:01:24.965597\",\"2018-08-05T02:01:24.965597\"],\"y\":[\"loading\",\"loading\",\"loading\",\"loading\",null,\"loading\",\"loading\",\"loading\",\"loading\",null,\"loading\",\"loading\",\"loading\",\"loading\",null,\"loading\",\"loading\",\"loading\",\"loading\",null,\"loading\",\"loading\",\"loading\",\"loading\",null,\"loading\",\"loading\",\"loading\",\"loading\",null,\"loading\",\"loading\",\"loading\",\"loading\",null,\"loading\",\"loading\",\"loading\",\"loading\",null,\"loading\",\"loading\",\"loading\",\"loading\",null,\"loading\",\"loading\",\"loading\",\"loading\",null,\"loading\",\"loading\",\"loading\",\"loading\",null,\"loading\",\"loading\",\"loading\",\"loading\",null,\"loading\",\"loading\",\"loading\",\"loading\",null,\"loading\",\"loading\",\"loading\",\"loading\",null,\"loading\",\"loading\",\"loading\",\"loading\",null,\"loading\",\"loading\",\"loading\",\"loading\",null,\"loading\",\"loading\",\"loading\",\"loading\",null,\"loading\",\"loading\",\"loading\",\"loading\",null,\"loading\",\"loading\",\"loading\",\"loading\",null,\"loading\",\"loading\",\"loading\",\"loading\",null,\"loading\",\"loading\",\"loading\",\"loading\",null,\"loading\",\"loading\",\"loading\",\"loading\",null,\"loading\",\"loading\",\"loading\",\"loading\",null,\"loading\",\"loading\",\"loading\",\"loading\",null,\"loading\",\"loading\",\"loading\",\"loading\",null,\"loading\",\"loading\",\"loading\",\"loading\",null,\"loading\",\"loading\",\"loading\",\"loading\",null,\"loading\",\"loading\",\"loading\",\"loading\",null,\"loading\",\"loading\",\"loading\",\"loading\",null,\"loading\",\"loading\",\"loading\",\"loading\",null],\"type\":\"scatter\"},{\"connectgaps\":false,\"hoverinfo\":\"y+name\",\"line\":{\"color\":\"rgb(84,232,110)\",\"width\":10},\"mode\":\"lines\",\"name\":\"sailing full\",\"x\":[\"2018-07-31T23:00:00\",\"2018-07-31T23:00:00\",\"2018-07-31T23:15:42.824591\",\"2018-07-31T23:15:42.824591\",\"2018-07-31T23:15:42.824591\",\"2018-08-01T01:31:25.649182\",\"2018-08-01T01:31:25.649182\",\"2018-08-01T01:47:08.473773\",\"2018-08-01T01:47:08.473773\",\"2018-08-01T01:47:08.473773\",\"2018-08-01T04:02:51.298365\",\"2018-08-01T04:02:51.298365\",\"2018-08-01T04:18:34.122956\",\"2018-08-01T04:18:34.122956\",\"2018-08-01T04:18:34.122956\",\"2018-08-01T06:34:16.947547\",\"2018-08-01T06:34:16.947547\",\"2018-08-01T06:49:59.772138\",\"2018-08-01T06:49:59.772138\",\"2018-08-01T06:49:59.772138\",\"2018-08-01T09:05:42.596729\",\"2018-08-01T09:05:42.596729\",\"2018-08-01T09:21:25.421320\",\"2018-08-01T09:21:25.421320\",\"2018-08-01T09:21:25.421320\",\"2018-08-01T11:37:08.245912\",\"2018-08-01T11:37:08.245912\",\"2018-08-01T11:52:51.070503\",\"2018-08-01T11:52:51.070503\",\"2018-08-01T11:52:51.070503\",\"2018-08-01T22:15:42.824591\",\"2018-08-01T22:15:42.824591\",\"2018-08-01T22:31:25.649182\",\"2018-08-01T22:31:25.649182\",\"2018-08-01T22:31:25.649182\",\"2018-08-02T00:47:08.473773\",\"2018-08-02T00:47:08.473773\",\"2018-08-02T01:02:51.298365\",\"2018-08-02T01:02:51.298365\",\"2018-08-02T01:02:51.298365\",\"2018-08-02T03:18:34.122956\",\"2018-08-02T03:18:34.122956\",\"2018-08-02T03:34:16.947547\",\"2018-08-02T03:34:16.947547\",\"2018-08-02T03:34:16.947547\",\"2018-08-02T05:49:59.772138\",\"2018-08-02T05:49:59.772138\",\"2018-08-02T06:05:42.596729\",\"2018-08-02T06:05:42.596729\",\"2018-08-02T06:05:42.596729\",\"2018-08-02T08:21:25.421320\",\"2018-08-02T08:21:25.421320\",\"2018-08-02T08:37:08.245912\",\"2018-08-02T08:37:08.245912\",\"2018-08-02T08:37:08.245912\",\"2018-08-02T10:52:51.070503\",\"2018-08-02T10:52:51.070503\",\"2018-08-02T11:08:33.895094\",\"2018-08-02T11:08:33.895094\",\"2018-08-02T11:08:33.895094\",\"2018-08-02T22:15:42.824591\",\"2018-08-02T22:15:42.824591\",\"2018-08-02T22:31:25.649182\",\"2018-08-02T22:31:25.649182\",\"2018-08-02T22:31:25.649182\",\"2018-08-03T00:47:08.473773\",\"2018-08-03T00:47:08.473773\",\"2018-08-03T01:02:51.298365\",\"2018-08-03T01:02:51.298365\",\"2018-08-03T01:02:51.298365\",\"2018-08-03T03:18:34.122956\",\"2018-08-03T03:18:34.122956\",\"2018-08-03T03:34:16.947547\",\"2018-08-03T03:34:16.947547\",\"2018-08-03T03:34:16.947547\",\"2018-08-03T05:49:59.772138\",\"2018-08-03T05:49:59.772138\",\"2018-08-03T06:05:42.596729\",\"2018-08-03T06:05:42.596729\",\"2018-08-03T06:05:42.596729\",\"2018-08-03T08:21:25.421320\",\"2018-08-03T08:21:25.421320\",\"2018-08-03T08:37:08.245912\",\"2018-08-03T08:37:08.245912\",\"2018-08-03T08:37:08.245912\",\"2018-08-03T10:52:51.070503\",\"2018-08-03T10:52:51.070503\",\"2018-08-03T11:08:33.895094\",\"2018-08-03T11:08:33.895094\",\"2018-08-03T11:08:33.895094\",\"2018-08-03T22:15:42.824591\",\"2018-08-03T22:15:42.824591\",\"2018-08-03T22:31:25.649182\",\"2018-08-03T22:31:25.649182\",\"2018-08-03T22:31:25.649182\",\"2018-08-04T00:47:08.473773\",\"2018-08-04T00:47:08.473773\",\"2018-08-04T01:02:51.298365\",\"2018-08-04T01:02:51.298365\",\"2018-08-04T01:02:51.298365\",\"2018-08-04T03:18:34.122956\",\"2018-08-04T03:18:34.122956\",\"2018-08-04T03:34:16.947547\",\"2018-08-04T03:34:16.947547\",\"2018-08-04T03:34:16.947547\",\"2018-08-04T05:49:59.772138\",\"2018-08-04T05:49:59.772138\",\"2018-08-04T06:05:42.596729\",\"2018-08-04T06:05:42.596729\",\"2018-08-04T06:05:42.596729\",\"2018-08-04T08:21:25.421320\",\"2018-08-04T08:21:25.421320\",\"2018-08-04T08:37:08.245912\",\"2018-08-04T08:37:08.245912\",\"2018-08-04T08:37:08.245912\",\"2018-08-04T10:52:51.070503\",\"2018-08-04T10:52:51.070503\",\"2018-08-04T11:08:33.895094\",\"2018-08-04T11:08:33.895094\",\"2018-08-04T11:08:33.895094\",\"2018-08-04T13:24:16.719685\",\"2018-08-04T13:24:16.719685\",\"2018-08-04T13:39:59.544276\",\"2018-08-04T13:39:59.544276\",\"2018-08-04T13:39:59.544276\",\"2018-08-04T15:55:42.368867\",\"2018-08-04T15:55:42.368867\",\"2018-08-04T16:11:25.193459\",\"2018-08-04T16:11:25.193459\",\"2018-08-04T16:11:25.193459\",\"2018-08-04T18:27:08.018050\",\"2018-08-04T18:27:08.018050\",\"2018-08-04T18:42:50.842641\",\"2018-08-04T18:42:50.842641\",\"2018-08-04T18:42:50.842641\",\"2018-08-04T20:58:33.667232\",\"2018-08-04T20:58:33.667232\",\"2018-08-04T21:14:16.491823\",\"2018-08-04T21:14:16.491823\",\"2018-08-04T21:14:16.491823\",\"2018-08-04T23:29:59.316414\",\"2018-08-04T23:29:59.316414\",\"2018-08-04T23:45:42.141006\",\"2018-08-04T23:45:42.141006\",\"2018-08-04T23:45:42.141006\",\"2018-08-05T02:01:24.965597\",\"2018-08-05T02:01:24.965597\",\"2018-08-05T02:17:07.790188\",\"2018-08-05T02:17:07.790188\",\"2018-08-05T02:17:07.790188\"],\"y\":[\"sailing full\",\"sailing full\",\"sailing full\",\"sailing full\",null,\"sailing full\",\"sailing full\",\"sailing full\",\"sailing full\",null,\"sailing full\",\"sailing full\",\"sailing full\",\"sailing full\",null,\"sailing full\",\"sailing full\",\"sailing full\",\"sailing full\",null,\"sailing full\",\"sailing full\",\"sailing full\",\"sailing full\",null,\"sailing full\",\"sailing full\",\"sailing full\",\"sailing full\",null,\"sailing full\",\"sailing full\",\"sailing full\",\"sailing full\",null,\"sailing full\",\"sailing full\",\"sailing full\",\"sailing full\",null,\"sailing full\",\"sailing full\",\"sailing full\",\"sailing full\",null,\"sailing full\",\"sailing full\",\"sailing full\",\"sailing full\",null,\"sailing full\",\"sailing full\",\"sailing full\",\"sailing full\",null,\"sailing full\",\"sailing full\",\"sailing full\",\"sailing full\",null,\"sailing full\",\"sailing full\",\"sailing full\",\"sailing full\",null,\"sailing full\",\"sailing full\",\"sailing full\",\"sailing full\",null,\"sailing full\",\"sailing full\",\"sailing full\",\"sailing full\",null,\"sailing full\",\"sailing full\",\"sailing full\",\"sailing full\",null,\"sailing full\",\"sailing full\",\"sailing full\",\"sailing full\",null,\"sailing full\",\"sailing full\",\"sailing full\",\"sailing full\",null,\"sailing full\",\"sailing full\",\"sailing full\",\"sailing full\",null,\"sailing full\",\"sailing full\",\"sailing full\",\"sailing full\",null,\"sailing full\",\"sailing full\",\"sailing full\",\"sailing full\",null,\"sailing full\",\"sailing full\",\"sailing full\",\"sailing full\",null,\"sailing full\",\"sailing full\",\"sailing full\",\"sailing full\",null,\"sailing full\",\"sailing full\",\"sailing full\",\"sailing full\",null,\"sailing full\",\"sailing full\",\"sailing full\",\"sailing full\",null,\"sailing full\",\"sailing full\",\"sailing full\",\"sailing full\",null,\"sailing full\",\"sailing full\",\"sailing full\",\"sailing full\",null,\"sailing full\",\"sailing full\",\"sailing full\",\"sailing full\",null,\"sailing full\",\"sailing full\",\"sailing full\",\"sailing full\",null,\"sailing full\",\"sailing full\",\"sailing full\",\"sailing full\",null],\"type\":\"scatter\"},{\"connectgaps\":false,\"hoverinfo\":\"y+name\",\"line\":{\"color\":\"rgb(148,40,174)\",\"width\":10},\"mode\":\"lines\",\"name\":\"unloading\",\"x\":[\"2018-07-31T23:15:42.824591\",\"2018-07-31T23:15:42.824591\",\"2018-08-01T00:15:42.824591\",\"2018-08-01T00:15:42.824591\",\"2018-08-01T00:15:42.824591\",\"2018-08-01T01:47:08.473773\",\"2018-08-01T01:47:08.473773\",\"2018-08-01T02:47:08.473773\",\"2018-08-01T02:47:08.473773\",\"2018-08-01T02:47:08.473773\",\"2018-08-01T04:18:34.122956\",\"2018-08-01T04:18:34.122956\",\"2018-08-01T05:18:34.122956\",\"2018-08-01T05:18:34.122956\",\"2018-08-01T05:18:34.122956\",\"2018-08-01T06:49:59.772138\",\"2018-08-01T06:49:59.772138\",\"2018-08-01T07:49:59.772138\",\"2018-08-01T07:49:59.772138\",\"2018-08-01T07:49:59.772138\",\"2018-08-01T09:21:25.421320\",\"2018-08-01T09:21:25.421320\",\"2018-08-01T10:21:25.421320\",\"2018-08-01T10:21:25.421320\",\"2018-08-01T10:21:25.421320\",\"2018-08-01T11:52:51.070503\",\"2018-08-01T11:52:51.070503\",\"2018-08-01T12:52:51.070503\",\"2018-08-01T12:52:51.070503\",\"2018-08-01T12:52:51.070503\",\"2018-08-01T22:31:25.649182\",\"2018-08-01T22:31:25.649182\",\"2018-08-01T23:31:25.649182\",\"2018-08-01T23:31:25.649182\",\"2018-08-01T23:31:25.649182\",\"2018-08-02T01:02:51.298365\",\"2018-08-02T01:02:51.298365\",\"2018-08-02T02:02:51.298365\",\"2018-08-02T02:02:51.298365\",\"2018-08-02T02:02:51.298365\",\"2018-08-02T03:34:16.947547\",\"2018-08-02T03:34:16.947547\",\"2018-08-02T04:34:16.947547\",\"2018-08-02T04:34:16.947547\",\"2018-08-02T04:34:16.947547\",\"2018-08-02T06:05:42.596729\",\"2018-08-02T06:05:42.596729\",\"2018-08-02T07:05:42.596729\",\"2018-08-02T07:05:42.596729\",\"2018-08-02T07:05:42.596729\",\"2018-08-02T08:37:08.245912\",\"2018-08-02T08:37:08.245912\",\"2018-08-02T09:37:08.245912\",\"2018-08-02T09:37:08.245912\",\"2018-08-02T09:37:08.245912\",\"2018-08-02T11:08:33.895094\",\"2018-08-02T11:08:33.895094\",\"2018-08-02T12:08:33.895094\",\"2018-08-02T12:08:33.895094\",\"2018-08-02T12:08:33.895094\",\"2018-08-02T22:31:25.649182\",\"2018-08-02T22:31:25.649182\",\"2018-08-02T23:31:25.649182\",\"2018-08-02T23:31:25.649182\",\"2018-08-02T23:31:25.649182\",\"2018-08-03T01:02:51.298365\",\"2018-08-03T01:02:51.298365\",\"2018-08-03T02:02:51.298365\",\"2018-08-03T02:02:51.298365\",\"2018-08-03T02:02:51.298365\",\"2018-08-03T03:34:16.947547\",\"2018-08-03T03:34:16.947547\",\"2018-08-03T04:34:16.947547\",\"2018-08-03T04:34:16.947547\",\"2018-08-03T04:34:16.947547\",\"2018-08-03T06:05:42.596729\",\"2018-08-03T06:05:42.596729\",\"2018-08-03T07:05:42.596729\",\"2018-08-03T07:05:42.596729\",\"2018-08-03T07:05:42.596729\",\"2018-08-03T08:37:08.245912\",\"2018-08-03T08:37:08.245912\",\"2018-08-03T09:37:08.245912\",\"2018-08-03T09:37:08.245912\",\"2018-08-03T09:37:08.245912\",\"2018-08-03T11:08:33.895094\",\"2018-08-03T11:08:33.895094\",\"2018-08-03T12:08:33.895094\",\"2018-08-03T12:08:33.895094\",\"2018-08-03T12:08:33.895094\",\"2018-08-03T22:31:25.649182\",\"2018-08-03T22:31:25.649182\",\"2018-08-03T23:31:25.649182\",\"2018-08-03T23:31:25.649182\",\"2018-08-03T23:31:25.649182\",\"2018-08-04T01:02:51.298365\",\"2018-08-04T01:02:51.298365\",\"2018-08-04T02:02:51.298365\",\"2018-08-04T02:02:51.298365\",\"2018-08-04T02:02:51.298365\",\"2018-08-04T03:34:16.947547\",\"2018-08-04T03:34:16.947547\",\"2018-08-04T04:34:16.947547\",\"2018-08-04T04:34:16.947547\",\"2018-08-04T04:34:16.947547\",\"2018-08-04T06:05:42.596729\",\"2018-08-04T06:05:42.596729\",\"2018-08-04T07:05:42.596729\",\"2018-08-04T07:05:42.596729\",\"2018-08-04T07:05:42.596729\",\"2018-08-04T08:37:08.245912\",\"2018-08-04T08:37:08.245912\",\"2018-08-04T09:37:08.245912\",\"2018-08-04T09:37:08.245912\",\"2018-08-04T09:37:08.245912\",\"2018-08-04T11:08:33.895094\",\"2018-08-04T11:08:33.895094\",\"2018-08-04T12:08:33.895094\",\"2018-08-04T12:08:33.895094\",\"2018-08-04T12:08:33.895094\",\"2018-08-04T13:39:59.544276\",\"2018-08-04T13:39:59.544276\",\"2018-08-04T14:39:59.544276\",\"2018-08-04T14:39:59.544276\",\"2018-08-04T14:39:59.544276\",\"2018-08-04T16:11:25.193459\",\"2018-08-04T16:11:25.193459\",\"2018-08-04T17:11:25.193459\",\"2018-08-04T17:11:25.193459\",\"2018-08-04T17:11:25.193459\",\"2018-08-04T18:42:50.842641\",\"2018-08-04T18:42:50.842641\",\"2018-08-04T19:42:50.842641\",\"2018-08-04T19:42:50.842641\",\"2018-08-04T19:42:50.842641\",\"2018-08-04T21:14:16.491823\",\"2018-08-04T21:14:16.491823\",\"2018-08-04T22:14:16.491823\",\"2018-08-04T22:14:16.491823\",\"2018-08-04T22:14:16.491823\",\"2018-08-04T23:45:42.141006\",\"2018-08-04T23:45:42.141006\",\"2018-08-05T00:45:42.141006\",\"2018-08-05T00:45:42.141006\",\"2018-08-05T00:45:42.141006\",\"2018-08-05T02:17:07.790188\",\"2018-08-05T02:17:07.790188\",\"2018-08-05T03:17:07.790188\",\"2018-08-05T03:17:07.790188\",\"2018-08-05T03:17:07.790188\"],\"y\":[\"unloading\",\"unloading\",\"unloading\",\"unloading\",null,\"unloading\",\"unloading\",\"unloading\",\"unloading\",null,\"unloading\",\"unloading\",\"unloading\",\"unloading\",null,\"unloading\",\"unloading\",\"unloading\",\"unloading\",null,\"unloading\",\"unloading\",\"unloading\",\"unloading\",null,\"unloading\",\"unloading\",\"unloading\",\"unloading\",null,\"unloading\",\"unloading\",\"unloading\",\"unloading\",null,\"unloading\",\"unloading\",\"unloading\",\"unloading\",null,\"unloading\",\"unloading\",\"unloading\",\"unloading\",null,\"unloading\",\"unloading\",\"unloading\",\"unloading\",null,\"unloading\",\"unloading\",\"unloading\",\"unloading\",null,\"unloading\",\"unloading\",\"unloading\",\"unloading\",null,\"unloading\",\"unloading\",\"unloading\",\"unloading\",null,\"unloading\",\"unloading\",\"unloading\",\"unloading\",null,\"unloading\",\"unloading\",\"unloading\",\"unloading\",null,\"unloading\",\"unloading\",\"unloading\",\"unloading\",null,\"unloading\",\"unloading\",\"unloading\",\"unloading\",null,\"unloading\",\"unloading\",\"unloading\",\"unloading\",null,\"unloading\",\"unloading\",\"unloading\",\"unloading\",null,\"unloading\",\"unloading\",\"unloading\",\"unloading\",null,\"unloading\",\"unloading\",\"unloading\",\"unloading\",null,\"unloading\",\"unloading\",\"unloading\",\"unloading\",null,\"unloading\",\"unloading\",\"unloading\",\"unloading\",null,\"unloading\",\"unloading\",\"unloading\",\"unloading\",null,\"unloading\",\"unloading\",\"unloading\",\"unloading\",null,\"unloading\",\"unloading\",\"unloading\",\"unloading\",null,\"unloading\",\"unloading\",\"unloading\",\"unloading\",null,\"unloading\",\"unloading\",\"unloading\",\"unloading\",null,\"unloading\",\"unloading\",\"unloading\",\"unloading\",null,\"unloading\",\"unloading\",\"unloading\",\"unloading\",null],\"type\":\"scatter\"}],                        {\"hovermode\":\"closest\",\"legend\":{\"orientation\":\"h\",\"x\":0,\"y\":-0.2},\"template\":{\"data\":{\"barpolar\":[{\"marker\":{\"line\":{\"color\":\"#E5ECF6\",\"width\":0.5},\"pattern\":{\"fillmode\":\"overlay\",\"size\":10,\"solidity\":0.2}},\"type\":\"barpolar\"}],\"bar\":[{\"error_x\":{\"color\":\"#2a3f5f\"},\"error_y\":{\"color\":\"#2a3f5f\"},\"marker\":{\"line\":{\"color\":\"#E5ECF6\",\"width\":0.5},\"pattern\":{\"fillmode\":\"overlay\",\"size\":10,\"solidity\":0.2}},\"type\":\"bar\"}],\"carpet\":[{\"aaxis\":{\"endlinecolor\":\"#2a3f5f\",\"gridcolor\":\"white\",\"linecolor\":\"white\",\"minorgridcolor\":\"white\",\"startlinecolor\":\"#2a3f5f\"},\"baxis\":{\"endlinecolor\":\"#2a3f5f\",\"gridcolor\":\"white\",\"linecolor\":\"white\",\"minorgridcolor\":\"white\",\"startlinecolor\":\"#2a3f5f\"},\"type\":\"carpet\"}],\"choropleth\":[{\"colorbar\":{\"outlinewidth\":0,\"ticks\":\"\"},\"type\":\"choropleth\"}],\"contourcarpet\":[{\"colorbar\":{\"outlinewidth\":0,\"ticks\":\"\"},\"type\":\"contourcarpet\"}],\"contour\":[{\"colorbar\":{\"outlinewidth\":0,\"ticks\":\"\"},\"colorscale\":[[0.0,\"#0d0887\"],[0.1111111111111111,\"#46039f\"],[0.2222222222222222,\"#7201a8\"],[0.3333333333333333,\"#9c179e\"],[0.4444444444444444,\"#bd3786\"],[0.5555555555555556,\"#d8576b\"],[0.6666666666666666,\"#ed7953\"],[0.7777777777777778,\"#fb9f3a\"],[0.8888888888888888,\"#fdca26\"],[1.0,\"#f0f921\"]],\"type\":\"contour\"}],\"heatmapgl\":[{\"colorbar\":{\"outlinewidth\":0,\"ticks\":\"\"},\"colorscale\":[[0.0,\"#0d0887\"],[0.1111111111111111,\"#46039f\"],[0.2222222222222222,\"#7201a8\"],[0.3333333333333333,\"#9c179e\"],[0.4444444444444444,\"#bd3786\"],[0.5555555555555556,\"#d8576b\"],[0.6666666666666666,\"#ed7953\"],[0.7777777777777778,\"#fb9f3a\"],[0.8888888888888888,\"#fdca26\"],[1.0,\"#f0f921\"]],\"type\":\"heatmapgl\"}],\"heatmap\":[{\"colorbar\":{\"outlinewidth\":0,\"ticks\":\"\"},\"colorscale\":[[0.0,\"#0d0887\"],[0.1111111111111111,\"#46039f\"],[0.2222222222222222,\"#7201a8\"],[0.3333333333333333,\"#9c179e\"],[0.4444444444444444,\"#bd3786\"],[0.5555555555555556,\"#d8576b\"],[0.6666666666666666,\"#ed7953\"],[0.7777777777777778,\"#fb9f3a\"],[0.8888888888888888,\"#fdca26\"],[1.0,\"#f0f921\"]],\"type\":\"heatmap\"}],\"histogram2dcontour\":[{\"colorbar\":{\"outlinewidth\":0,\"ticks\":\"\"},\"colorscale\":[[0.0,\"#0d0887\"],[0.1111111111111111,\"#46039f\"],[0.2222222222222222,\"#7201a8\"],[0.3333333333333333,\"#9c179e\"],[0.4444444444444444,\"#bd3786\"],[0.5555555555555556,\"#d8576b\"],[0.6666666666666666,\"#ed7953\"],[0.7777777777777778,\"#fb9f3a\"],[0.8888888888888888,\"#fdca26\"],[1.0,\"#f0f921\"]],\"type\":\"histogram2dcontour\"}],\"histogram2d\":[{\"colorbar\":{\"outlinewidth\":0,\"ticks\":\"\"},\"colorscale\":[[0.0,\"#0d0887\"],[0.1111111111111111,\"#46039f\"],[0.2222222222222222,\"#7201a8\"],[0.3333333333333333,\"#9c179e\"],[0.4444444444444444,\"#bd3786\"],[0.5555555555555556,\"#d8576b\"],[0.6666666666666666,\"#ed7953\"],[0.7777777777777778,\"#fb9f3a\"],[0.8888888888888888,\"#fdca26\"],[1.0,\"#f0f921\"]],\"type\":\"histogram2d\"}],\"histogram\":[{\"marker\":{\"pattern\":{\"fillmode\":\"overlay\",\"size\":10,\"solidity\":0.2}},\"type\":\"histogram\"}],\"mesh3d\":[{\"colorbar\":{\"outlinewidth\":0,\"ticks\":\"\"},\"type\":\"mesh3d\"}],\"parcoords\":[{\"line\":{\"colorbar\":{\"outlinewidth\":0,\"ticks\":\"\"}},\"type\":\"parcoords\"}],\"pie\":[{\"automargin\":true,\"type\":\"pie\"}],\"scatter3d\":[{\"line\":{\"colorbar\":{\"outlinewidth\":0,\"ticks\":\"\"}},\"marker\":{\"colorbar\":{\"outlinewidth\":0,\"ticks\":\"\"}},\"type\":\"scatter3d\"}],\"scattercarpet\":[{\"marker\":{\"colorbar\":{\"outlinewidth\":0,\"ticks\":\"\"}},\"type\":\"scattercarpet\"}],\"scattergeo\":[{\"marker\":{\"colorbar\":{\"outlinewidth\":0,\"ticks\":\"\"}},\"type\":\"scattergeo\"}],\"scattergl\":[{\"marker\":{\"colorbar\":{\"outlinewidth\":0,\"ticks\":\"\"}},\"type\":\"scattergl\"}],\"scattermapbox\":[{\"marker\":{\"colorbar\":{\"outlinewidth\":0,\"ticks\":\"\"}},\"type\":\"scattermapbox\"}],\"scatterpolargl\":[{\"marker\":{\"colorbar\":{\"outlinewidth\":0,\"ticks\":\"\"}},\"type\":\"scatterpolargl\"}],\"scatterpolar\":[{\"marker\":{\"colorbar\":{\"outlinewidth\":0,\"ticks\":\"\"}},\"type\":\"scatterpolar\"}],\"scatter\":[{\"fillpattern\":{\"fillmode\":\"overlay\",\"size\":10,\"solidity\":0.2},\"type\":\"scatter\"}],\"scatterternary\":[{\"marker\":{\"colorbar\":{\"outlinewidth\":0,\"ticks\":\"\"}},\"type\":\"scatterternary\"}],\"surface\":[{\"colorbar\":{\"outlinewidth\":0,\"ticks\":\"\"},\"colorscale\":[[0.0,\"#0d0887\"],[0.1111111111111111,\"#46039f\"],[0.2222222222222222,\"#7201a8\"],[0.3333333333333333,\"#9c179e\"],[0.4444444444444444,\"#bd3786\"],[0.5555555555555556,\"#d8576b\"],[0.6666666666666666,\"#ed7953\"],[0.7777777777777778,\"#fb9f3a\"],[0.8888888888888888,\"#fdca26\"],[1.0,\"#f0f921\"]],\"type\":\"surface\"}],\"table\":[{\"cells\":{\"fill\":{\"color\":\"#EBF0F8\"},\"line\":{\"color\":\"white\"}},\"header\":{\"fill\":{\"color\":\"#C8D4E3\"},\"line\":{\"color\":\"white\"}},\"type\":\"table\"}]},\"layout\":{\"annotationdefaults\":{\"arrowcolor\":\"#2a3f5f\",\"arrowhead\":0,\"arrowwidth\":1},\"autotypenumbers\":\"strict\",\"coloraxis\":{\"colorbar\":{\"outlinewidth\":0,\"ticks\":\"\"}},\"colorscale\":{\"diverging\":[[0,\"#8e0152\"],[0.1,\"#c51b7d\"],[0.2,\"#de77ae\"],[0.3,\"#f1b6da\"],[0.4,\"#fde0ef\"],[0.5,\"#f7f7f7\"],[0.6,\"#e6f5d0\"],[0.7,\"#b8e186\"],[0.8,\"#7fbc41\"],[0.9,\"#4d9221\"],[1,\"#276419\"]],\"sequential\":[[0.0,\"#0d0887\"],[0.1111111111111111,\"#46039f\"],[0.2222222222222222,\"#7201a8\"],[0.3333333333333333,\"#9c179e\"],[0.4444444444444444,\"#bd3786\"],[0.5555555555555556,\"#d8576b\"],[0.6666666666666666,\"#ed7953\"],[0.7777777777777778,\"#fb9f3a\"],[0.8888888888888888,\"#fdca26\"],[1.0,\"#f0f921\"]],\"sequentialminus\":[[0.0,\"#0d0887\"],[0.1111111111111111,\"#46039f\"],[0.2222222222222222,\"#7201a8\"],[0.3333333333333333,\"#9c179e\"],[0.4444444444444444,\"#bd3786\"],[0.5555555555555556,\"#d8576b\"],[0.6666666666666666,\"#ed7953\"],[0.7777777777777778,\"#fb9f3a\"],[0.8888888888888888,\"#fdca26\"],[1.0,\"#f0f921\"]]},\"colorway\":[\"#636efa\",\"#EF553B\",\"#00cc96\",\"#ab63fa\",\"#FFA15A\",\"#19d3f3\",\"#FF6692\",\"#B6E880\",\"#FF97FF\",\"#FECB52\"],\"font\":{\"color\":\"#2a3f5f\"},\"geo\":{\"bgcolor\":\"white\",\"lakecolor\":\"white\",\"landcolor\":\"#E5ECF6\",\"showlakes\":true,\"showland\":true,\"subunitcolor\":\"white\"},\"hoverlabel\":{\"align\":\"left\"},\"hovermode\":\"closest\",\"mapbox\":{\"style\":\"light\"},\"paper_bgcolor\":\"white\",\"plot_bgcolor\":\"#E5ECF6\",\"polar\":{\"angularaxis\":{\"gridcolor\":\"white\",\"linecolor\":\"white\",\"ticks\":\"\"},\"bgcolor\":\"#E5ECF6\",\"radialaxis\":{\"gridcolor\":\"white\",\"linecolor\":\"white\",\"ticks\":\"\"}},\"scene\":{\"xaxis\":{\"backgroundcolor\":\"#E5ECF6\",\"gridcolor\":\"white\",\"gridwidth\":2,\"linecolor\":\"white\",\"showbackground\":true,\"ticks\":\"\",\"zerolinecolor\":\"white\"},\"yaxis\":{\"backgroundcolor\":\"#E5ECF6\",\"gridcolor\":\"white\",\"gridwidth\":2,\"linecolor\":\"white\",\"showbackground\":true,\"ticks\":\"\",\"zerolinecolor\":\"white\"},\"zaxis\":{\"backgroundcolor\":\"#E5ECF6\",\"gridcolor\":\"white\",\"gridwidth\":2,\"linecolor\":\"white\",\"showbackground\":true,\"ticks\":\"\",\"zerolinecolor\":\"white\"}},\"shapedefaults\":{\"line\":{\"color\":\"#2a3f5f\"}},\"ternary\":{\"aaxis\":{\"gridcolor\":\"white\",\"linecolor\":\"white\",\"ticks\":\"\"},\"baxis\":{\"gridcolor\":\"white\",\"linecolor\":\"white\",\"ticks\":\"\"},\"bgcolor\":\"#E5ECF6\",\"caxis\":{\"gridcolor\":\"white\",\"linecolor\":\"white\",\"ticks\":\"\"}},\"title\":{\"x\":0.05},\"xaxis\":{\"automargin\":true,\"gridcolor\":\"white\",\"linecolor\":\"white\",\"ticks\":\"\",\"title\":{\"standoff\":15},\"zerolinecolor\":\"white\",\"zerolinewidth\":2},\"yaxis\":{\"automargin\":true,\"gridcolor\":\"white\",\"linecolor\":\"white\",\"ticks\":\"\",\"title\":{\"standoff\":15},\"zerolinecolor\":\"white\",\"zerolinewidth\":2}}},\"title\":{\"text\":\"GANTT Chart\"},\"xaxis\":{\"range\":[\"2018-07-31T22:00:00\",\"2018-08-05T03:17:07.790188\"],\"title\":{\"font\":{\"color\":\"#7f7f7f\",\"family\":\"Courier New, monospace\",\"size\":18},\"text\":\"Time\"}},\"yaxis\":{\"title\":{\"font\":{\"color\":\"#7f7f7f\",\"family\":\"Courier New, monospace\",\"size\":18},\"text\":\"Activities\"}}},                        {\"responsive\": true}                    ).then(function(){\n",
       "                            \n",
       "var gd = document.getElementById('a64fdf56-b7e4-4921-a4ab-0ebc3a75d8ae');\n",
       "var x = new MutationObserver(function (mutations, observer) {{\n",
       "        var display = window.getComputedStyle(gd).display;\n",
       "        if (!display || display === 'none') {{\n",
       "            console.log([gd, 'removed!']);\n",
       "            Plotly.purge(gd);\n",
       "            observer.disconnect();\n",
       "        }}\n",
       "}});\n",
       "\n",
       "// Listen for the removal of the full notebook cells\n",
       "var notebookContainer = gd.closest('#notebook-container');\n",
       "if (notebookContainer) {{\n",
       "    x.observe(notebookContainer, {childList: true});\n",
       "}}\n",
       "\n",
       "// Listen for the clearing of the current output cell\n",
       "var outputEl = gd.closest('.output');\n",
       "if (outputEl) {{\n",
       "    x.observe(outputEl, {childList: true});\n",
       "}}\n",
       "\n",
       "                        })                };                });            </script>        </div>"
      ]
     },
     "metadata": {},
     "output_type": "display_data"
    }
   ],
   "source": [
    "plot.get_gantt_chart(sub_processes)"
   ]
  },
  {
   "cell_type": "markdown",
   "metadata": {},
   "source": [
    "##### 5.3 Visualise container volume developments"
   ]
  },
  {
   "cell_type": "code",
   "execution_count": 16,
   "metadata": {},
   "outputs": [
    {
     "data": {
      "image/png": "[encoded data removed]",
      "text/plain": [
       "<Figure size 1008x504 with 1 Axes>"
      ]
     },
     "metadata": {
      "needs_background": "light"
     },
     "output_type": "display_data"
    }
   ],
   "source": [
    "fig = plot.get_step_chart([vessel01, from_site, to_site])"
   ]
  }
 ],
 "metadata": {
  "kernelspec": {
   "display_name": "Python 3 (ipykernel)",
   "language": "python",
   "name": "python3"
  },
  "language_info": {
   "codemirror_mode": {
    "name": "ipython",
    "version": 3
   },
   "file_extension": ".py",
   "mimetype": "text/x-python",
   "name": "python",
   "nbconvert_exporter": "python",
   "pygments_lexer": "ipython3",
   "version": "3.9.12"
  }
 },
 "nbformat": 4,
 "nbformat_minor": 2
}
