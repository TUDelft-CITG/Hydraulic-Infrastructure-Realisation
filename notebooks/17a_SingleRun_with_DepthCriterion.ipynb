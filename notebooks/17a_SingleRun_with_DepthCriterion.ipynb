{
 "cells": [
  {
   "cell_type": "markdown",
   "metadata": {},
   "source": [
    "## SingleRun + DepthCriterion\n",
    "\n",
    "This notebook provides an example of a simulation that takes a number of __sub_processes__, grouped in a __SequentialActivity__, that is __executed while a stop condition is not yet met__. In this case the elements of the sub_processes have __depth limitations__. A separate 'Minimum depth' criterion is defined for loading. \n",
    "\n",
    "For this example we work with the following sub processes:\n",
    "* sailing empty\n",
    "* loading\n",
    "* sailing full\n",
    "* unloading"
   ]
  },
  {
   "cell_type": "markdown",
   "metadata": {},
   "source": [
    "#### 0. Import libraries"
   ]
  },
  {
   "cell_type": "code",
   "execution_count": 27,
   "metadata": {},
   "outputs": [
    {
     "data": {
      "text/html": [
       "        <script type=\"text/javascript\">\n",
       "        window.PlotlyConfig = {MathJaxConfig: 'local'};\n",
       "        if (window.MathJax && window.MathJax.Hub && window.MathJax.Hub.Config) {window.MathJax.Hub.Config({SVG: {font: \"STIX-Web\"}});}\n",
       "        if (typeof require !== 'undefined') {\n",
       "        require.undef(\"plotly\");\n",
       "        requirejs.config({\n",
       "            paths: {\n",
       "                'plotly': ['https://cdn.plot.ly/plotly-2.12.1.min']\n",
       "            }\n",
       "        });\n",
       "        require(['plotly'], function(Plotly) {\n",
       "            window._Plotly = Plotly;\n",
       "        });\n",
       "        }\n",
       "        </script>\n",
       "        "
      ]
     },
     "metadata": {},
     "output_type": "display_data"
    }
   ],
   "source": [
    "import datetime, time\n",
    "import simpy\n",
    "\n",
    "import shapely.geometry\n",
    "import pandas as pd\n",
    "import numpy as np\n",
    "\n",
    "import openclsim.core as core\n",
    "import openclsim.utils as utils\n",
    "import openclsim.model as model\n",
    "import openclsim.plot as plot\n",
    "import openclsim.plugins as plugin\n",
    "\n",
    "from plotly.offline import init_notebook_mode, iplot\n",
    "import plotly.graph_objs as go\n",
    "\n",
    "src_path = utils.find_src_path()\n",
    "init_notebook_mode(connected=True)"
   ]
  },
  {
   "cell_type": "code",
   "execution_count": 28,
   "metadata": {},
   "outputs": [],
   "source": [
    "import opentnsim.core"
   ]
  },
  {
   "cell_type": "markdown",
   "metadata": {},
   "source": [
    "#### 1. Initialise simpy environment"
   ]
  },
  {
   "cell_type": "code",
   "execution_count": 29,
   "metadata": {},
   "outputs": [],
   "source": [
    "# setup environment (simulation time needs to match the available weather data)\n",
    "# hier moet het op UTC gezet worden\n",
    "\n",
    "simulation_start  = datetime.datetime(2018, 8, 1, 0, 0, tzinfo=datetime.timezone.utc)\n",
    "my_env = simpy.Environment(initial_time=simulation_start.timestamp())"
   ]
  },
  {
   "cell_type": "markdown",
   "metadata": {},
   "source": [
    "#### 2. Define object classes"
   ]
  },
  {
   "cell_type": "code",
   "execution_count": 30,
   "metadata": {},
   "outputs": [],
   "source": [
    "# create a Site object based on desired mixin classes\n",
    "Site = type(\n",
    "    \"Site\",\n",
    "    (\n",
    "        core.Identifiable,\n",
    "        core.Log,\n",
    "        core.Locatable,\n",
    "        core.HasContainer,\n",
    "        core.HasResource,\n",
    "    ),\n",
    "    {},\n",
    ")\n",
    "\n",
    "# create a TransportProcessingResource object based on desired mixin classes\n",
    "TransportProcessingResource = type(\n",
    "    \"TransportProcessingResource\",\n",
    "    (\n",
    "        core.Identifiable,\n",
    "        core.Log,\n",
    "        core.ContainerDependentMovable,\n",
    "        core.Processor,\n",
    "        core.HasResource,  \n",
    "        core.LoadingFunction,      # NB: LoadingFunction mixed in\n",
    "        core.UnloadingFunction,    # NB: UnloadingFunction mixed in\n",
    "        opentnsim.core.VesselProperties,\n",
    "    ),\n",
    "    {},\n",
    ")\n",
    "# Todo: we should add vessel properties here so we can get draugth also (as a function of loading rate)\n",
    "\n",
    "# create a TestMoveActivity object based on desired mixin classes\n",
    "TestMoveActivity =  type(\n",
    "    \"TestMoveActivity\",\n",
    "    (\n",
    "        plugin.HasDepthPluginActivity,\n",
    "        model.MoveActivity,  # the order is critical!\n",
    "    ),\n",
    "    {},\n",
    ")\n",
    "\n",
    "# create a TestShiftActivity object based on desired mixin classes\n",
    "TestShiftActivity =  type(\n",
    "    \"TestShiftActivity\",\n",
    "    (\n",
    "        plugin.HasDepthPluginActivity,\n",
    "        model.ShiftAmountActivity,  # the order is critical!\n",
    "    ),\n",
    "    {},\n",
    ")\n",
    "# Todo: how can I add loading rates as a function of available depth"
   ]
  },
  {
   "cell_type": "code",
   "execution_count": null,
   "metadata": {},
   "outputs": [],
   "source": []
  },
  {
   "cell_type": "markdown",
   "metadata": {},
   "source": [
    "#### 3. Create objects\n",
    "##### 3.1. Create site object(s)"
   ]
  },
  {
   "cell_type": "code",
   "execution_count": 31,
   "metadata": {},
   "outputs": [],
   "source": [
    "# prepare input data for from_site\n",
    "location_from_site = shapely.geometry.Point(4.18055556, 52.18664444)\n",
    "data_from_site = {\"env\": my_env,\n",
    "                  \"name\": \"from_site\",\n",
    "                  \"geometry\": location_from_site,\n",
    "                  \"capacity\": 120,\n",
    "                  \"level\": 120\n",
    "                 }\n",
    "# instantiate from_site \n",
    "from_site = Site(**data_from_site)\n",
    "\n",
    "# prepare input data for to_site\n",
    "location_to_site = shapely.geometry.Point(4.25222222, 52.11428333)\n",
    "data_to_site = {\"env\": my_env,\n",
    "                \"name\": \"to_site\",\n",
    "                \"geometry\": location_to_site,\n",
    "                \"capacity\": 120,\n",
    "                \"level\": 0\n",
    "               }\n",
    "# instantiate to_site \n",
    "to_site = Site(**data_to_site)"
   ]
  },
  {
   "cell_type": "markdown",
   "metadata": {},
   "source": [
    "##### 3.2. Create vessel object(s)"
   ]
  },
  {
   "cell_type": "code",
   "execution_count": 32,
   "metadata": {},
   "outputs": [],
   "source": [
    "# prepare input data for vessel_01\n",
    "data_vessel01 = {\"env\": my_env,\n",
    "                 \"name\": \"vessel01\",\n",
    "                 \"geometry\": location_from_site, \n",
    "                 \"capacity\": 4,\n",
    "                 \"compute_v\": lambda x: 3,\n",
    "                 \"loading_rate\": 1,\n",
    "                 \"unloading_rate\": 1,\n",
    "                 \"type\": 'a',\n",
    "                 \"B\": 11,\n",
    "                 \"L\": 135,\n",
    "                 \"T\": 2.5,\n",
    "               }\n",
    "# instantiate vessel_01 \n",
    "vessel01 = TransportProcessingResource(**data_vessel01)"
   ]
  },
  {
   "cell_type": "code",
   "execution_count": 33,
   "metadata": {},
   "outputs": [
    {
     "data": {
      "text/plain": [
       "{'type': 'a',\n",
       " 'B': 11,\n",
       " 'L': 135,\n",
       " '_T': 2.5,\n",
       " '_h_min': None,\n",
       " 'safety_margin': None,\n",
       " 'h_squat': None,\n",
       " 'payload': None,\n",
       " 'vessel_type': None,\n",
       " 'renewable_fuel_mass': None,\n",
       " 'renewable_fuel_volume': None,\n",
       " 'renewable_fuel_required_space': None,\n",
       " 'unloading_rate': 1,\n",
       " 'unload_manoeuvring': 0,\n",
       " 'loading_rate': 1,\n",
       " 'load_manoeuvring': 0,\n",
       " 'geometry': <shapely.geometry.point.Point at 0x23b348b2880>,\n",
       " 'wgs84': Geod(ellps='WGS84'),\n",
       " 'env': <simpy.core.Environment at 0x23b348b2d00>,\n",
       " 'resource': <simpy.resources.resource.Resource at 0x23b348b2cd0>,\n",
       " 'container': <openclsim.core.events_container.EventsContainer at 0x23b348b2ca0>,\n",
       " 'v': 1,\n",
       " 'compute_v': <function __main__.<lambda>(x)>,\n",
       " 'log': {'Timestamp': [],\n",
       "  'ActivityID': [],\n",
       "  'ActivityState': [],\n",
       "  'ObjectState': [],\n",
       "  'ActivityLabel': []},\n",
       " 'name': 'vessel01',\n",
       " 'id': '01d3b35f-8470-4b28-b815-7b6fbec038f5'}"
      ]
     },
     "execution_count": 33,
     "metadata": {},
     "output_type": "execute_result"
    }
   ],
   "source": [
    "vessel01.__dict__"
   ]
  },
  {
   "cell_type": "markdown",
   "metadata": {},
   "source": [
    "##### 3.3 Create activity/activities"
   ]
  },
  {
   "cell_type": "code",
   "execution_count": 34,
   "metadata": {
    "scrolled": true
   },
   "outputs": [
    {
     "data": {
      "text/html": [
       "<div>\n",
       "<style scoped>\n",
       "    .dataframe tbody tr th:only-of-type {\n",
       "        vertical-align: middle;\n",
       "    }\n",
       "\n",
       "    .dataframe tbody tr th {\n",
       "        vertical-align: top;\n",
       "    }\n",
       "\n",
       "    .dataframe thead th {\n",
       "        text-align: right;\n",
       "    }\n",
       "</style>\n",
       "<table border=\"1\" class=\"dataframe\">\n",
       "  <thead>\n",
       "    <tr style=\"text-align: right;\">\n",
       "      <th></th>\n",
       "      <th>Year</th>\n",
       "      <th>Month</th>\n",
       "      <th>Day</th>\n",
       "      <th>Hour</th>\n",
       "      <th>Time</th>\n",
       "      <th>Minimum depth</th>\n",
       "      <th>ts</th>\n",
       "    </tr>\n",
       "    <tr>\n",
       "      <th>Time</th>\n",
       "      <th></th>\n",
       "      <th></th>\n",
       "      <th></th>\n",
       "      <th></th>\n",
       "      <th></th>\n",
       "      <th></th>\n",
       "      <th></th>\n",
       "    </tr>\n",
       "  </thead>\n",
       "  <tbody>\n",
       "    <tr>\n",
       "      <th>2018-08-01 00:00:00</th>\n",
       "      <td>2018</td>\n",
       "      <td>8</td>\n",
       "      <td>1</td>\n",
       "      <td>0</td>\n",
       "      <td>01-08-2018 00:00</td>\n",
       "      <td>1.500000</td>\n",
       "      <td>1.533074e+09</td>\n",
       "    </tr>\n",
       "    <tr>\n",
       "      <th>2018-08-01 01:00:00</th>\n",
       "      <td>2018</td>\n",
       "      <td>8</td>\n",
       "      <td>1</td>\n",
       "      <td>1</td>\n",
       "      <td>01-08-2018 01:00</td>\n",
       "      <td>1.758819</td>\n",
       "      <td>1.533078e+09</td>\n",
       "    </tr>\n",
       "    <tr>\n",
       "      <th>2018-08-01 02:00:00</th>\n",
       "      <td>2018</td>\n",
       "      <td>8</td>\n",
       "      <td>1</td>\n",
       "      <td>2</td>\n",
       "      <td>01-08-2018 02:00</td>\n",
       "      <td>2.000000</td>\n",
       "      <td>1.533082e+09</td>\n",
       "    </tr>\n",
       "    <tr>\n",
       "      <th>2018-08-01 03:00:00</th>\n",
       "      <td>2018</td>\n",
       "      <td>8</td>\n",
       "      <td>1</td>\n",
       "      <td>3</td>\n",
       "      <td>01-08-2018 03:00</td>\n",
       "      <td>2.207107</td>\n",
       "      <td>1.533085e+09</td>\n",
       "    </tr>\n",
       "    <tr>\n",
       "      <th>2018-08-01 04:00:00</th>\n",
       "      <td>2018</td>\n",
       "      <td>8</td>\n",
       "      <td>1</td>\n",
       "      <td>4</td>\n",
       "      <td>01-08-2018 04:00</td>\n",
       "      <td>2.366025</td>\n",
       "      <td>1.533089e+09</td>\n",
       "    </tr>\n",
       "    <tr>\n",
       "      <th>2018-08-01 05:00:00</th>\n",
       "      <td>2018</td>\n",
       "      <td>8</td>\n",
       "      <td>1</td>\n",
       "      <td>5</td>\n",
       "      <td>01-08-2018 05:00</td>\n",
       "      <td>2.465926</td>\n",
       "      <td>1.533092e+09</td>\n",
       "    </tr>\n",
       "    <tr>\n",
       "      <th>2018-08-01 06:00:00</th>\n",
       "      <td>2018</td>\n",
       "      <td>8</td>\n",
       "      <td>1</td>\n",
       "      <td>6</td>\n",
       "      <td>01-08-2018 06:00</td>\n",
       "      <td>2.500000</td>\n",
       "      <td>1.533096e+09</td>\n",
       "    </tr>\n",
       "    <tr>\n",
       "      <th>2018-08-01 07:00:00</th>\n",
       "      <td>2018</td>\n",
       "      <td>8</td>\n",
       "      <td>1</td>\n",
       "      <td>7</td>\n",
       "      <td>01-08-2018 07:00</td>\n",
       "      <td>2.465926</td>\n",
       "      <td>1.533100e+09</td>\n",
       "    </tr>\n",
       "    <tr>\n",
       "      <th>2018-08-01 08:00:00</th>\n",
       "      <td>2018</td>\n",
       "      <td>8</td>\n",
       "      <td>1</td>\n",
       "      <td>8</td>\n",
       "      <td>01-08-2018 08:00</td>\n",
       "      <td>2.366025</td>\n",
       "      <td>1.533103e+09</td>\n",
       "    </tr>\n",
       "    <tr>\n",
       "      <th>2018-08-01 09:00:00</th>\n",
       "      <td>2018</td>\n",
       "      <td>8</td>\n",
       "      <td>1</td>\n",
       "      <td>9</td>\n",
       "      <td>01-08-2018 09:00</td>\n",
       "      <td>2.207107</td>\n",
       "      <td>1.533107e+09</td>\n",
       "    </tr>\n",
       "  </tbody>\n",
       "</table>\n",
       "</div>"
      ],
      "text/plain": [
       "                     Year  Month  Day  Hour              Time  Minimum depth  \\\n",
       "Time                                                                           \n",
       "2018-08-01 00:00:00  2018      8    1     0  01-08-2018 00:00       1.500000   \n",
       "2018-08-01 01:00:00  2018      8    1     1  01-08-2018 01:00       1.758819   \n",
       "2018-08-01 02:00:00  2018      8    1     2  01-08-2018 02:00       2.000000   \n",
       "2018-08-01 03:00:00  2018      8    1     3  01-08-2018 03:00       2.207107   \n",
       "2018-08-01 04:00:00  2018      8    1     4  01-08-2018 04:00       2.366025   \n",
       "2018-08-01 05:00:00  2018      8    1     5  01-08-2018 05:00       2.465926   \n",
       "2018-08-01 06:00:00  2018      8    1     6  01-08-2018 06:00       2.500000   \n",
       "2018-08-01 07:00:00  2018      8    1     7  01-08-2018 07:00       2.465926   \n",
       "2018-08-01 08:00:00  2018      8    1     8  01-08-2018 08:00       2.366025   \n",
       "2018-08-01 09:00:00  2018      8    1     9  01-08-2018 09:00       2.207107   \n",
       "\n",
       "                               ts  \n",
       "Time                               \n",
       "2018-08-01 00:00:00  1.533074e+09  \n",
       "2018-08-01 01:00:00  1.533078e+09  \n",
       "2018-08-01 02:00:00  1.533082e+09  \n",
       "2018-08-01 03:00:00  1.533085e+09  \n",
       "2018-08-01 04:00:00  1.533089e+09  \n",
       "2018-08-01 05:00:00  1.533092e+09  \n",
       "2018-08-01 06:00:00  1.533096e+09  \n",
       "2018-08-01 07:00:00  1.533100e+09  \n",
       "2018-08-01 08:00:00  1.533103e+09  \n",
       "2018-08-01 09:00:00  1.533107e+09  "
      ]
     },
     "execution_count": 34,
     "metadata": {},
     "output_type": "execute_result"
    }
   ],
   "source": [
    "# generate a dataframe with depth data\n",
    "df = pd.DataFrame({'Year': [], 'Month': [], 'Day': [], 'Hour': [], 'Time': [], 'Minimum depth': [], 'ts': []})\n",
    "Year = 2018\n",
    "Month = 8\n",
    "\n",
    "# create two lists  with college id and name\n",
    "Days = 24*[1] + 24*[2] + 24*[3] + 24*[4] + 24*[5] + 24*[6] + 24*[7] \n",
    "Hours = 7*list(range(0,24))\n",
    "  \n",
    "# zip the two lists using zip() function\n",
    "DayHours = list(zip(Days, Hours))\n",
    "\n",
    "for DayHour in DayHours:\n",
    "    Time = str(DayHour[0]).zfill(2) + '-' + str(Month).zfill(2) + '-' + str(Year).zfill(4) + ' ' + str(DayHour[1]).zfill(2) + ':' + str(0).zfill(2)  \n",
    "    df.loc[len(df.index)] = [Year, Month, DayHour[0], DayHour[1], Time, \n",
    "                             np.sin(1/12* DayHour[1] * np.pi) + 1.5, \n",
    "                             datetime.datetime(Year, Month, DayHour[0], DayHour[1]).timestamp()]    \n",
    "\n",
    "df = df.set_index(pd.to_datetime(df[\"Time\"], dayfirst=True))\n",
    "df = df.sort_index()\n",
    "df.head(10)"
   ]
  },
  {
   "cell_type": "code",
   "execution_count": 35,
   "metadata": {},
   "outputs": [
    {
     "data": {
      "text/plain": [
       "<AxesSubplot:xlabel='Time', ylabel='Minimum depth [m]'>"
      ]
     },
     "execution_count": 35,
     "metadata": {},
     "output_type": "execute_result"
    },
    {
     "data": {
      "image/png": "[encoded data removed]",
      "text/plain": [
       "<Figure size 432x288 with 1 Axes>"
      ]
     },
     "metadata": {
      "needs_background": "light"
     },
     "output_type": "display_data"
    }
   ],
   "source": [
    "df.plot(kind='line',x='Time',y='Minimum depth',color='red', ylabel='Minimum depth [m]')"
   ]
  },
  {
   "cell_type": "code",
   "execution_count": 36,
   "metadata": {},
   "outputs": [],
   "source": [
    "# generate a depth criterion for the sailing process\n",
    "sailing_crit = plugin.DepthCriterion(\n",
    "    name=\"sailing_crit\",\n",
    "    condition=\"Minimum depth\",\n",
    "    minimum=1, # for now we assume that 1 m waterdepth is the minimum depth for economic accomodation of draught + ukc + margin\n",
    "    window_length=3600,\n",
    ")\n",
    "\n",
    "# generate a depth criterion for the loading process\n",
    "loading_crit = plugin.DepthCriterion(\n",
    "    name=\"loading_crit\",\n",
    "    condition=\"Minimum depth\",\n",
    "    minimum=1, # for now we assume that 1 m waterdepth is the minimum depth for economic accomodation of draught + ukc + margin\n",
    "    window_length=3600,\n",
    ")\n",
    "# Todo: we should look at the minimum depth for a window as long as the sailing trip (and then make sure we load accordingly)"
   ]
  },
  {
   "cell_type": "code",
   "execution_count": 37,
   "metadata": {},
   "outputs": [],
   "source": [
    "# initialise registry\n",
    "registry = {}"
   ]
  },
  {
   "cell_type": "code",
   "execution_count": 38,
   "metadata": {
    "scrolled": false
   },
   "outputs": [
    {
     "ename": "TypeError",
     "evalue": "object.__init__() takes exactly one argument (the instance to initialize)",
     "output_type": "error",
     "traceback": [
      "\u001b[1;31m---------------------------------------------------------------------------\u001b[0m",
      "\u001b[1;31mTypeError\u001b[0m                                 Traceback (most recent call last)",
      "Input \u001b[1;32mIn [38]\u001b[0m, in \u001b[0;36m<cell line: 3>\u001b[1;34m()\u001b[0m\n\u001b[0;32m      1\u001b[0m \u001b[38;5;66;03m# create a list of the sub processes\u001b[39;00m\n\u001b[0;32m      2\u001b[0m sub_processes \u001b[38;5;241m=\u001b[39m [\n\u001b[0;32m      3\u001b[0m     TestMoveActivity(\n\u001b[0;32m      4\u001b[0m         env\u001b[38;5;241m=\u001b[39mmy_env,\n\u001b[0;32m      5\u001b[0m         name\u001b[38;5;241m=\u001b[39m\u001b[38;5;124m\"\u001b[39m\u001b[38;5;124msailing empty\u001b[39m\u001b[38;5;124m\"\u001b[39m,\n\u001b[0;32m      6\u001b[0m         registry\u001b[38;5;241m=\u001b[39mregistry,\n\u001b[0;32m      7\u001b[0m         mover\u001b[38;5;241m=\u001b[39mvessel01,\n\u001b[0;32m      8\u001b[0m         destination\u001b[38;5;241m=\u001b[39mfrom_site,\n\u001b[0;32m      9\u001b[0m         depth_criteria\u001b[38;5;241m=\u001b[39msailing_crit,\n\u001b[0;32m     10\u001b[0m         depth_df\u001b[38;5;241m=\u001b[39mdf,\n\u001b[0;32m     11\u001b[0m     ),\n\u001b[1;32m---> 12\u001b[0m     \u001b[43mTestShiftActivity\u001b[49m\u001b[43m(\u001b[49m\n\u001b[0;32m     13\u001b[0m \u001b[43m        \u001b[49m\u001b[43menv\u001b[49m\u001b[38;5;241;43m=\u001b[39;49m\u001b[43mmy_env\u001b[49m\u001b[43m,\u001b[49m\n\u001b[0;32m     14\u001b[0m \u001b[43m        \u001b[49m\u001b[43mname\u001b[49m\u001b[38;5;241;43m=\u001b[39;49m\u001b[38;5;124;43m\"\u001b[39;49m\u001b[38;5;124;43mloading\u001b[39;49m\u001b[38;5;124;43m\"\u001b[39;49m\u001b[43m,\u001b[49m\n\u001b[0;32m     15\u001b[0m \u001b[43m        \u001b[49m\u001b[43mregistry\u001b[49m\u001b[38;5;241;43m=\u001b[39;49m\u001b[43mregistry\u001b[49m\u001b[43m,\u001b[49m\n\u001b[0;32m     16\u001b[0m \u001b[43m        \u001b[49m\u001b[43morigin\u001b[49m\u001b[38;5;241;43m=\u001b[39;49m\u001b[43mfrom_site\u001b[49m\u001b[43m,\u001b[49m\n\u001b[0;32m     17\u001b[0m \u001b[43m        \u001b[49m\u001b[43mdestination\u001b[49m\u001b[38;5;241;43m=\u001b[39;49m\u001b[43mvessel01\u001b[49m\u001b[43m,\u001b[49m\n\u001b[0;32m     18\u001b[0m \u001b[43m        \u001b[49m\u001b[43mprocessor\u001b[49m\u001b[38;5;241;43m=\u001b[39;49m\u001b[43mvessel01\u001b[49m\u001b[43m,\u001b[49m\n\u001b[0;32m     19\u001b[0m \u001b[43m        \u001b[49m\u001b[43mmover\u001b[49m\u001b[38;5;241;43m=\u001b[39;49m\u001b[43mvessel01\u001b[49m\u001b[43m,\u001b[49m\n\u001b[0;32m     20\u001b[0m \u001b[43m        \u001b[49m\u001b[43mloader\u001b[49m\u001b[38;5;241;43m=\u001b[39;49m\u001b[43mvessel01\u001b[49m\u001b[43m,\u001b[49m\n\u001b[0;32m     21\u001b[0m \u001b[43m        \u001b[49m\u001b[43munloader\u001b[49m\u001b[38;5;241;43m=\u001b[39;49m\u001b[43mvessel01\u001b[49m\u001b[43m,\u001b[49m\n\u001b[0;32m     22\u001b[0m \u001b[43m        \u001b[49m\u001b[43mdepth_criteria\u001b[49m\u001b[38;5;241;43m=\u001b[39;49m\u001b[43mloading_crit\u001b[49m\u001b[43m,\u001b[49m\n\u001b[0;32m     23\u001b[0m \u001b[43m        \u001b[49m\u001b[43mdepth_df\u001b[49m\u001b[38;5;241;43m=\u001b[39;49m\u001b[43mdf\u001b[49m\u001b[43m,\u001b[49m\n\u001b[0;32m     24\u001b[0m \u001b[43m    \u001b[49m\u001b[43m)\u001b[49m,\n\u001b[0;32m     25\u001b[0m     TestMoveActivity(\n\u001b[0;32m     26\u001b[0m         env\u001b[38;5;241m=\u001b[39mmy_env,\n\u001b[0;32m     27\u001b[0m         name\u001b[38;5;241m=\u001b[39m\u001b[38;5;124m\"\u001b[39m\u001b[38;5;124msailing full\u001b[39m\u001b[38;5;124m\"\u001b[39m,\n\u001b[0;32m     28\u001b[0m         registry\u001b[38;5;241m=\u001b[39mregistry,\n\u001b[0;32m     29\u001b[0m         mover\u001b[38;5;241m=\u001b[39mvessel01,\n\u001b[0;32m     30\u001b[0m         destination\u001b[38;5;241m=\u001b[39mto_site,\n\u001b[0;32m     31\u001b[0m         depth_criteria\u001b[38;5;241m=\u001b[39msailing_crit,\n\u001b[0;32m     32\u001b[0m         depth_df\u001b[38;5;241m=\u001b[39mdf,\n\u001b[0;32m     33\u001b[0m     ),\n\u001b[0;32m     34\u001b[0m     TestShiftActivity(\n\u001b[0;32m     35\u001b[0m         env\u001b[38;5;241m=\u001b[39mmy_env,\n\u001b[0;32m     36\u001b[0m         name\u001b[38;5;241m=\u001b[39m\u001b[38;5;124m\"\u001b[39m\u001b[38;5;124munloading\u001b[39m\u001b[38;5;124m\"\u001b[39m,\n\u001b[0;32m     37\u001b[0m         registry\u001b[38;5;241m=\u001b[39mregistry,\n\u001b[0;32m     38\u001b[0m         processor\u001b[38;5;241m=\u001b[39mvessel01,\n\u001b[0;32m     39\u001b[0m         mover\u001b[38;5;241m=\u001b[39mvessel01,\n\u001b[0;32m     40\u001b[0m         loader\u001b[38;5;241m=\u001b[39mvessel01,\n\u001b[0;32m     41\u001b[0m         unloader\u001b[38;5;241m=\u001b[39mvessel01,\n\u001b[0;32m     42\u001b[0m         origin\u001b[38;5;241m=\u001b[39mvessel01,\n\u001b[0;32m     43\u001b[0m         destination\u001b[38;5;241m=\u001b[39mto_site,\n\u001b[0;32m     44\u001b[0m         amount\u001b[38;5;241m=\u001b[39m\u001b[38;5;241m4\u001b[39m,\n\u001b[0;32m     45\u001b[0m         depth_criteria\u001b[38;5;241m=\u001b[39mloading_crit,\n\u001b[0;32m     46\u001b[0m         depth_df\u001b[38;5;241m=\u001b[39mdf,\n\u001b[0;32m     47\u001b[0m     ),\n\u001b[0;32m     48\u001b[0m ]\n\u001b[0;32m     50\u001b[0m \u001b[38;5;66;03m# create a 'sequential activity' that is made up of the 'sub_processes'\u001b[39;00m\n\u001b[0;32m     51\u001b[0m sequential_activity \u001b[38;5;241m=\u001b[39m model\u001b[38;5;241m.\u001b[39mSequentialActivity(\n\u001b[0;32m     52\u001b[0m     env\u001b[38;5;241m=\u001b[39mmy_env,\n\u001b[0;32m     53\u001b[0m     name\u001b[38;5;241m=\u001b[39m\u001b[38;5;124m\"\u001b[39m\u001b[38;5;124msequential_activity_subcycle\u001b[39m\u001b[38;5;124m\"\u001b[39m,\n\u001b[0;32m     54\u001b[0m     registry\u001b[38;5;241m=\u001b[39mregistry,\n\u001b[0;32m     55\u001b[0m     sub_processes\u001b[38;5;241m=\u001b[39msub_processes,\n\u001b[0;32m     56\u001b[0m )\n",
      "File \u001b[1;32mc:\\users\\mrv\\onedrive - van oord\\software\\github\\openclsim\\src\\openclsim\\plugins\\depth.py:75\u001b[0m, in \u001b[0;36mHasDepthPluginActivity.__init__\u001b[1;34m(self, depth_criteria, depth_df, *args, **kwargs)\u001b[0m\n\u001b[0;32m     74\u001b[0m \u001b[38;5;28;01mdef\u001b[39;00m \u001b[38;5;21m__init__\u001b[39m(\u001b[38;5;28mself\u001b[39m, depth_criteria, depth_df, \u001b[38;5;241m*\u001b[39margs, \u001b[38;5;241m*\u001b[39m\u001b[38;5;241m*\u001b[39mkwargs):\n\u001b[1;32m---> 75\u001b[0m     \u001b[38;5;28msuper\u001b[39m()\u001b[38;5;241m.\u001b[39m\u001b[38;5;21m__init__\u001b[39m(\u001b[38;5;241m*\u001b[39margs, \u001b[38;5;241m*\u001b[39m\u001b[38;5;241m*\u001b[39mkwargs)\n\u001b[0;32m     77\u001b[0m     \u001b[38;5;28;01mif\u001b[39;00m (\n\u001b[0;32m     78\u001b[0m         depth_criteria \u001b[38;5;129;01mis\u001b[39;00m \u001b[38;5;129;01mnot\u001b[39;00m \u001b[38;5;28;01mNone\u001b[39;00m\n\u001b[0;32m     79\u001b[0m         \u001b[38;5;129;01mand\u001b[39;00m depth_df \u001b[38;5;129;01mis\u001b[39;00m \u001b[38;5;129;01mnot\u001b[39;00m \u001b[38;5;28;01mNone\u001b[39;00m\n\u001b[0;32m     80\u001b[0m         \u001b[38;5;129;01mand\u001b[39;00m \u001b[38;5;28misinstance\u001b[39m(\u001b[38;5;28mself\u001b[39m, model\u001b[38;5;241m.\u001b[39mPluginActivity)\n\u001b[0;32m     81\u001b[0m     ):\n\u001b[0;32m     83\u001b[0m         \u001b[38;5;28mself\u001b[39m\u001b[38;5;241m.\u001b[39mdepth_data \u001b[38;5;241m=\u001b[39m depth_df\n",
      "File \u001b[1;32mc:\\users\\mrv\\onedrive - van oord\\software\\github\\openclsim\\src\\openclsim\\model\\shift_amount_activity.py:57\u001b[0m, in \u001b[0;36mShiftAmountActivity.__init__\u001b[1;34m(self, processor, origin, destination, duration, amount, id_, show, phase, *args, **kwargs)\u001b[0m\n\u001b[0;32m     44\u001b[0m \u001b[38;5;28;01mdef\u001b[39;00m \u001b[38;5;21m__init__\u001b[39m(\n\u001b[0;32m     45\u001b[0m     \u001b[38;5;28mself\u001b[39m,\n\u001b[0;32m     46\u001b[0m     processor,\n\u001b[1;32m   (...)\u001b[0m\n\u001b[0;32m     55\u001b[0m     \u001b[38;5;241m*\u001b[39m\u001b[38;5;241m*\u001b[39mkwargs,\n\u001b[0;32m     56\u001b[0m ):\n\u001b[1;32m---> 57\u001b[0m     \u001b[38;5;28msuper\u001b[39m()\u001b[38;5;241m.\u001b[39m\u001b[38;5;21m__init__\u001b[39m(\u001b[38;5;241m*\u001b[39margs, \u001b[38;5;241m*\u001b[39m\u001b[38;5;241m*\u001b[39mkwargs)\n\u001b[0;32m     58\u001b[0m     \u001b[38;5;124;03m\"\"\"Initialization\"\"\"\u001b[39;00m\n\u001b[0;32m     59\u001b[0m     \u001b[38;5;28mself\u001b[39m\u001b[38;5;241m.\u001b[39morigin \u001b[38;5;241m=\u001b[39m origin\n",
      "File \u001b[1;32mc:\\users\\mrv\\onedrive - van oord\\software\\github\\openclsim\\src\\openclsim\\model\\base_activities.py:126\u001b[0m, in \u001b[0;36mGenericActivity.__init__\u001b[1;34m(self, registry, start_event, requested_resources, keep_resources, *args, **kwargs)\u001b[0m\n\u001b[0;32m    117\u001b[0m \u001b[38;5;28;01mdef\u001b[39;00m \u001b[38;5;21m__init__\u001b[39m(\n\u001b[0;32m    118\u001b[0m     \u001b[38;5;28mself\u001b[39m,\n\u001b[0;32m    119\u001b[0m     registry,\n\u001b[1;32m   (...)\u001b[0m\n\u001b[0;32m    124\u001b[0m     \u001b[38;5;241m*\u001b[39m\u001b[38;5;241m*\u001b[39mkwargs,\n\u001b[0;32m    125\u001b[0m ):\n\u001b[1;32m--> 126\u001b[0m     \u001b[38;5;28msuper\u001b[39m()\u001b[38;5;241m.\u001b[39m\u001b[38;5;21m__init__\u001b[39m(\u001b[38;5;241m*\u001b[39margs, \u001b[38;5;241m*\u001b[39m\u001b[38;5;241m*\u001b[39mkwargs)\n\u001b[0;32m    127\u001b[0m     \u001b[38;5;124;03m\"\"\"Initialization\"\"\"\u001b[39;00m\n\u001b[0;32m    128\u001b[0m     requested_resources \u001b[38;5;241m=\u001b[39m (\n\u001b[0;32m    129\u001b[0m         requested_resources \u001b[38;5;28;01mif\u001b[39;00m requested_resources \u001b[38;5;129;01mis\u001b[39;00m \u001b[38;5;129;01mnot\u001b[39;00m \u001b[38;5;28;01mNone\u001b[39;00m \u001b[38;5;28;01melse\u001b[39;00m {}\n\u001b[0;32m    130\u001b[0m     )\n",
      "File \u001b[1;32mc:\\users\\mrv\\onedrive - van oord\\software\\github\\openclsim\\src\\openclsim\\model\\base_activities.py:81\u001b[0m, in \u001b[0;36mPluginActivity.__init__\u001b[1;34m(self, *args, **kwargs)\u001b[0m\n\u001b[0;32m     80\u001b[0m \u001b[38;5;28;01mdef\u001b[39;00m \u001b[38;5;21m__init__\u001b[39m(\u001b[38;5;28mself\u001b[39m, \u001b[38;5;241m*\u001b[39margs, \u001b[38;5;241m*\u001b[39m\u001b[38;5;241m*\u001b[39mkwargs):\n\u001b[1;32m---> 81\u001b[0m     \u001b[38;5;28msuper\u001b[39m()\u001b[38;5;241m.\u001b[39m\u001b[38;5;21m__init__\u001b[39m(\u001b[38;5;241m*\u001b[39margs, \u001b[38;5;241m*\u001b[39m\u001b[38;5;241m*\u001b[39mkwargs)\n\u001b[0;32m     82\u001b[0m     \u001b[38;5;28mself\u001b[39m\u001b[38;5;241m.\u001b[39mplugins \u001b[38;5;241m=\u001b[39m \u001b[38;5;28mlist\u001b[39m()\n",
      "File \u001b[1;32mc:\\users\\mrv\\onedrive - van oord\\software\\github\\openclsim\\src\\openclsim\\core\\identifiable.py:25\u001b[0m, in \u001b[0;36mIdentifiable.__init__\u001b[1;34m(self, name, ID, *args, **kwargs)\u001b[0m\n\u001b[0;32m     24\u001b[0m \u001b[38;5;28;01mdef\u001b[39;00m \u001b[38;5;21m__init__\u001b[39m(\u001b[38;5;28mself\u001b[39m, name: \u001b[38;5;28mstr\u001b[39m, ID: \u001b[38;5;28mstr\u001b[39m \u001b[38;5;241m=\u001b[39m \u001b[38;5;28;01mNone\u001b[39;00m, \u001b[38;5;241m*\u001b[39margs, \u001b[38;5;241m*\u001b[39m\u001b[38;5;241m*\u001b[39mkwargs):\n\u001b[1;32m---> 25\u001b[0m     \u001b[38;5;28msuper\u001b[39m()\u001b[38;5;241m.\u001b[39m\u001b[38;5;21m__init__\u001b[39m(\u001b[38;5;241m*\u001b[39margs, \u001b[38;5;241m*\u001b[39m\u001b[38;5;241m*\u001b[39mkwargs)\n\u001b[0;32m     26\u001b[0m     \u001b[38;5;28mself\u001b[39m\u001b[38;5;241m.\u001b[39mname \u001b[38;5;241m=\u001b[39m name\n\u001b[0;32m     27\u001b[0m     \u001b[38;5;28mself\u001b[39m\u001b[38;5;241m.\u001b[39mid \u001b[38;5;241m=\u001b[39m ID \u001b[38;5;28;01mif\u001b[39;00m ID \u001b[38;5;28;01melse\u001b[39;00m \u001b[38;5;28mstr\u001b[39m(uuid\u001b[38;5;241m.\u001b[39muuid4())\n",
      "File \u001b[1;32mc:\\users\\mrv\\onedrive - van oord\\software\\github\\openclsim\\src\\openclsim\\core\\log.py:26\u001b[0m, in \u001b[0;36mLog.__init__\u001b[1;34m(self, *args, **kwargs)\u001b[0m\n\u001b[0;32m     25\u001b[0m \u001b[38;5;28;01mdef\u001b[39;00m \u001b[38;5;21m__init__\u001b[39m(\u001b[38;5;28mself\u001b[39m, \u001b[38;5;241m*\u001b[39margs, \u001b[38;5;241m*\u001b[39m\u001b[38;5;241m*\u001b[39mkwargs):\n\u001b[1;32m---> 26\u001b[0m     \u001b[38;5;28msuper\u001b[39m()\u001b[38;5;241m.\u001b[39m\u001b[38;5;21m__init__\u001b[39m(\u001b[38;5;241m*\u001b[39margs, \u001b[38;5;241m*\u001b[39m\u001b[38;5;241m*\u001b[39mkwargs)\n\u001b[0;32m     27\u001b[0m     \u001b[38;5;124;03m\"\"\"Initialization\"\"\"\u001b[39;00m\n\u001b[0;32m     28\u001b[0m     \u001b[38;5;28mself\u001b[39m\u001b[38;5;241m.\u001b[39mlog \u001b[38;5;241m=\u001b[39m {\n\u001b[0;32m     29\u001b[0m         \u001b[38;5;124m\"\u001b[39m\u001b[38;5;124mTimestamp\u001b[39m\u001b[38;5;124m\"\u001b[39m: [],\n\u001b[0;32m     30\u001b[0m         \u001b[38;5;124m\"\u001b[39m\u001b[38;5;124mActivityID\u001b[39m\u001b[38;5;124m\"\u001b[39m: [],\n\u001b[1;32m   (...)\u001b[0m\n\u001b[0;32m     33\u001b[0m         \u001b[38;5;124m\"\u001b[39m\u001b[38;5;124mActivityLabel\u001b[39m\u001b[38;5;124m\"\u001b[39m: [],\n\u001b[0;32m     34\u001b[0m     }\n",
      "File \u001b[1;32mc:\\users\\mrv\\onedrive - van oord\\software\\github\\openclsim\\src\\openclsim\\core\\simpy_object.py:15\u001b[0m, in \u001b[0;36mSimpyObject.__init__\u001b[1;34m(self, env, *args, **kwargs)\u001b[0m\n\u001b[0;32m     14\u001b[0m \u001b[38;5;28;01mdef\u001b[39;00m \u001b[38;5;21m__init__\u001b[39m(\u001b[38;5;28mself\u001b[39m, env, \u001b[38;5;241m*\u001b[39margs, \u001b[38;5;241m*\u001b[39m\u001b[38;5;241m*\u001b[39mkwargs):\n\u001b[1;32m---> 15\u001b[0m     \u001b[38;5;28msuper\u001b[39m()\u001b[38;5;241m.\u001b[39m\u001b[38;5;21m__init__\u001b[39m(\u001b[38;5;241m*\u001b[39margs, \u001b[38;5;241m*\u001b[39m\u001b[38;5;241m*\u001b[39mkwargs)\n\u001b[0;32m     16\u001b[0m     \u001b[38;5;28mself\u001b[39m\u001b[38;5;241m.\u001b[39menv \u001b[38;5;241m=\u001b[39m env\n",
      "\u001b[1;31mTypeError\u001b[0m: object.__init__() takes exactly one argument (the instance to initialize)"
     ]
    }
   ],
   "source": [
    "# create a list of the sub processes\n",
    "sub_processes = [\n",
    "    TestMoveActivity(\n",
    "        env=my_env,\n",
    "        name=\"sailing empty\",\n",
    "        registry=registry,\n",
    "        mover=vessel01,\n",
    "        destination=from_site,\n",
    "        depth_criteria=sailing_crit,\n",
    "        depth_df=df,\n",
    "    ),\n",
    "    TestShiftActivity(\n",
    "        env=my_env,\n",
    "        name=\"loading\",\n",
    "        registry=registry,\n",
    "        origin=from_site,\n",
    "        destination=vessel01,\n",
    "        processor=vessel01,\n",
    "        mover=vessel01,\n",
    "        loader=vessel01,\n",
    "        unloader=vessel01,\n",
    "        depth_criteria=loading_crit,\n",
    "        depth_df=df,\n",
    "    ),\n",
    "    TestMoveActivity(\n",
    "        env=my_env,\n",
    "        name=\"sailing full\",\n",
    "        registry=registry,\n",
    "        mover=vessel01,\n",
    "        destination=to_site,\n",
    "        depth_criteria=sailing_crit,\n",
    "        depth_df=df,\n",
    "    ),\n",
    "    TestShiftActivity(\n",
    "        env=my_env,\n",
    "        name=\"unloading\",\n",
    "        registry=registry,\n",
    "        processor=vessel01,\n",
    "        mover=vessel01,\n",
    "        loader=vessel01,\n",
    "        unloader=vessel01,\n",
    "        origin=vessel01,\n",
    "        destination=to_site,\n",
    "        amount=4,\n",
    "        depth_criteria=loading_crit,\n",
    "        depth_df=df,\n",
    "    ),\n",
    "]\n",
    "\n",
    "# create a 'sequential activity' that is made up of the 'sub_processes'\n",
    "sequential_activity = model.SequentialActivity(\n",
    "    env=my_env,\n",
    "    name=\"sequential_activity_subcycle\",\n",
    "    registry=registry,\n",
    "    sub_processes=sub_processes,\n",
    ")\n",
    "\n",
    "# create a while activity that executes the 'sequential activity' while the stop condition is not triggered \n",
    "while_activity = model.WhileActivity(\n",
    "    env=my_env,\n",
    "    name=\"while_sequential_activity_subcycle\",\n",
    "    registry=registry,\n",
    "    sub_processes=[sequential_activity],\n",
    "    condition_event=[{\"type\": \"container\", \"concept\": to_site, \"state\": \"full\"}],\n",
    ")"
   ]
  },
  {
   "cell_type": "markdown",
   "metadata": {},
   "source": [
    "#### 4. Register processes and run simpy"
   ]
  },
  {
   "cell_type": "code",
   "execution_count": null,
   "metadata": {
    "scrolled": false
   },
   "outputs": [],
   "source": [
    "# initate the simpy processes defined in the 'while activity' and run simpy\n",
    "model.register_processes([while_activity])\n",
    "my_env.run()"
   ]
  },
  {
   "cell_type": "markdown",
   "metadata": {},
   "source": [
    "#### 5. Inspect results\n",
    "##### 5.1 Inspect logs"
   ]
  },
  {
   "cell_type": "code",
   "execution_count": null,
   "metadata": {
    "scrolled": false
   },
   "outputs": [],
   "source": [
    "plot.get_log_dataframe(while_activity, [while_activity]).head()"
   ]
  },
  {
   "cell_type": "code",
   "execution_count": null,
   "metadata": {},
   "outputs": [],
   "source": [
    "plot.get_log_dataframe(sub_processes[1], [while_activity]).head()"
   ]
  },
  {
   "cell_type": "markdown",
   "metadata": {},
   "source": [
    "##### 5.2 Visualise gantt charts"
   ]
  },
  {
   "cell_type": "code",
   "execution_count": null,
   "metadata": {},
   "outputs": [],
   "source": [
    "res = plot.get_gantt_chart([vessel01], y_scale=\"numbers\", static=True, id_map=[while_activity])\n",
    "data = res['data']\n",
    "layout = res['layout']\n",
    "\n",
    "data.append({\n",
    "    \"name\": \"sailing_crit\",\n",
    "    \"x\":[vessel01.log[\"Timestamp\"][0].isoformat(), vessel01.log[\"Timestamp\"][-1].isoformat()],\n",
    "    \"y\":[sailing_crit.minimum,sailing_crit.minimum],\n",
    "})\n",
    "\n",
    "data.append({\n",
    "    \"name\": \"Depth\",\n",
    "    \"x\":df.index,\n",
    "    \"y\":df[sailing_crit.condition],\n",
    "})\n",
    "\n",
    "data.append({\n",
    "    \"name\": \"loading_crit\",\n",
    "    \"x\":[vessel01.log[\"Timestamp\"][0].isoformat(), vessel01.log[\"Timestamp\"][-1].isoformat()],\n",
    "    \"y\":[loading_crit.minimum,loading_crit.minimum],\n",
    "})\n",
    "\n",
    "go.Figure(data=data, layout=layout)"
   ]
  },
  {
   "cell_type": "markdown",
   "metadata": {},
   "source": [
    "**_Some observations:_**\n",
    "* For some reason loading appears to start 2 hours before the simulation starting time \\[bug?\\]\n",
    "* The moving criterion states that sailing can only commence when Minimum depth is at minimum 1 m for a window of at least 3600 seconds. We see indeed that the plugin introduces waiting when water levels are too low. But it seems that at the end it missed one limiting depth window. "
   ]
  },
  {
   "cell_type": "code",
   "execution_count": null,
   "metadata": {},
   "outputs": [],
   "source": [
    "plot.get_gantt_chart(sub_processes)"
   ]
  },
  {
   "cell_type": "markdown",
   "metadata": {},
   "source": [
    "##### 5.3 Visualise container volume developments"
   ]
  },
  {
   "cell_type": "code",
   "execution_count": null,
   "metadata": {},
   "outputs": [],
   "source": [
    "fig = plot.get_step_chart([vessel01, from_site, to_site])"
   ]
  }
 ],
 "metadata": {
  "kernelspec": {
   "display_name": "Python 3 (ipykernel)",
   "language": "python",
   "name": "python3"
  },
  "language_info": {
   "codemirror_mode": {
    "name": "ipython",
    "version": 3
   },
   "file_extension": ".py",
   "mimetype": "text/x-python",
   "name": "python",
   "nbconvert_exporter": "python",
   "pygments_lexer": "ipython3",
   "version": "3.9.12"
  }
 },
 "nbformat": 4,
 "nbformat_minor": 2
}
