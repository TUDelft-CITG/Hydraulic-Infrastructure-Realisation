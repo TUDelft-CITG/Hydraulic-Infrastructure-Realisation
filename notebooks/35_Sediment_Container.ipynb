{
 "cells": [
  {
   "cell_type": "code",
   "execution_count": 1,
   "id": "55829d7c",
   "metadata": {},
   "outputs": [],
   "source": [
    "from typing import Any, Optional, Union\n",
    "\n",
    "import numpy as np\n",
    "import pandas as pd\n",
    "import simpy\n",
    "import simpy.resources\n",
    "from simpy.resources.store import StoreGet, StorePut"
   ]
  },
  {
   "cell_type": "code",
   "execution_count": 47,
   "id": "58b0043e-309d-4b8f-a647-129e59411e49",
   "metadata": {},
   "outputs": [],
   "source": [
    "def create_grain_size_info():\n",
    "    columns = [\"group\", \"sub group\",\"name\", \"code\", \"size lower [mm]\", \"size upper [mm]\"]\n",
    "    rows = [\n",
    "      [\"Very coarse soil\", \"Very coarse soil\", \"Large boulder\",  \"lBo\",  630, np.inf],\n",
    "      [\"Very coarse soil\", \"Very coarse soil\", \"Boulder\",  \"Bo\",  200, 630],\n",
    "      [\"Very coarse soil\", \"Very coarse soil\", \"Cobble\",  \"Co\", 63, 200],\n",
    "      [\"Coarse soil\",  \"Gravel\", \"Coarse gravel\", \"cGr\", 20, 63],\n",
    "      [\"Coarse soil\",  \"Gravel\", \"Medium gravel\",  \"mGr\", 6.3, 20],\n",
    "      [\"Coarse soil\",  \"Gravel\", \"Fine gravel\",  \"fGr\", 2.0, 6.3],\n",
    "      [\"Coarse soil\",  \"Sand\",  \"Coarse sand\", \"cSa\", 0.63, 2.0],\n",
    "      [\"Coarse soil\",  \"Sand\",  \"Medium sand\", \"mSa\", 0.2, 0.63],\n",
    "      [\"Coarse soil\",  \"Sand\",  \"Fine sand\", \"fSa\", 0.063, 0.2],\n",
    "      [\"Fine soil\", \"Silt\", \"Coarse silt\", \"cSi\", 0.02, 0.063],\n",
    "      [\"Fine soil\", \"Silt\", \"Medium silt\", \"mSi\", 0.0063, 0.02],\n",
    "      [\"Fine soil\", \"Silt\", \"Fine silt\",  \"fSi\", 0.002, 0.0063],\n",
    "      [\"Fine soil\", \"Clay\", \"Clay\", \"Cl\", 0, 0.002]\n",
    "    ]\n",
    "    grain_sizes = pd.DataFrame(rows, columns=columns)\n",
    "    def add_interval(df):\n",
    "        interval = df.apply(\n",
    "            lambda row: pd.Interval(\n",
    "                row[\"size lower [mm]\"], \n",
    "                row[\"size upper [mm]\"], \n",
    "                closed=\"left\"\n",
    "            ),\n",
    "            axis=1\n",
    "        )\n",
    "        df['interval'] = interval\n",
    "        df = df.sort_values(\"size lower [mm]\", ascending=True)\n",
    "        return df\n",
    "        \n",
    "    agg = {\"size lower [mm]\": min, \"size upper [mm]\": max}\n",
    "    grain_sizes_name = add_interval(grain_sizes.groupby('name').agg(agg))\n",
    "    grain_sizes_code = add_interval(grain_sizes.groupby('code').agg(agg))\n",
    "    grain_sizes_group = grain_sizes.groupby('group').agg(agg)\n",
    "    grain_sizes_group = add_interval(grain_sizes_group)\n",
    "    grain_sizes_sub_group = grain_sizes.groupby('sub group').agg(agg)\n",
    "    grain_sizes_sub_group = add_interval(grain_sizes_sub_group)\n",
    "    grain_sizes = {\n",
    "        \"grain_sizes_name\": grain_sizes_name,\n",
    "        \"grain_sizes_code\": grain_sizes_code,\n",
    "        \"grain_sizes_group\": grain_sizes_group,\n",
    "        \"grain_sizes_sub_group\": grain_sizes_sub_group\n",
    "    }\n",
    "    return grain_sizes\n"
   ]
  },
  {
   "cell_type": "code",
   "execution_count": 190,
   "id": "972254da-a917-4464-8175-7aeb13e68d22",
   "metadata": {},
   "outputs": [
    {
     "name": "stdout",
     "output_type": "stream",
     "text": [
      "Store now has the following layers: ['Sediment layer A']\n",
      "Store now has the following layers: ['Sediment layer A', 'Sediment layer B']\n",
      "Store now has the following layers: ['Sediment layer B']\n"
     ]
    }
   ],
   "source": [
    "\n",
    "env = simpy.Environment()\n",
    "store = simpy.Store(env=env)\n",
    "layer = \"Sediment layer A\"\n",
    "store.put(layer)\n",
    "print(f\"Store now has the following layers: {store.items}\")\n",
    "layer = \"Sediment layer B\"\n",
    "store.put(layer)\n",
    "print(f\"Store now has the following layers: {store.items}\")\n",
    "layer = store.get()\n",
    "print(f\"Store now has the following layers: {store.items}\")"
   ]
  },
  {
   "cell_type": "code",
   "execution_count": 85,
   "id": "07d1f306-8c64-4296-8bc2-dcb6c30a8c81",
   "metadata": {},
   "outputs": [
    {
     "data": {
      "text/plain": [
       "\u001b[0;31mSignature:\u001b[0m \u001b[0mresource\u001b[0m\u001b[0;34m.\u001b[0m\u001b[0mput\u001b[0m\u001b[0;34m(\u001b[0m\u001b[0mitem\u001b[0m\u001b[0;34m:\u001b[0m \u001b[0mAny\u001b[0m\u001b[0;34m)\u001b[0m\u001b[0;34m\u001b[0m\u001b[0;34m\u001b[0m\u001b[0m\n",
       "\u001b[0;31mDocstring:\u001b[0m\n",
       "Request to put *item* into the *store*. The request is triggered once\n",
       "there is space for the item in the store.\n",
       "\u001b[0;31mType:\u001b[0m      method\n"
      ]
     },
     "metadata": {},
     "output_type": "display_data"
    }
   ],
   "source": []
  },
  {
   "cell_type": "code",
   "execution_count": 89,
   "id": "55d09674-bd57-45ce-8a61-b5b50fcb1851",
   "metadata": {},
   "outputs": [],
   "source": [
    "import dataclasses\n",
    "\n",
    "@dataclasses.dataclass(init=True)\n",
    "class Soil:\n",
    "    volume_ratios: dict\n",
    "\n",
    "@dataclasses.dataclass(init=True)\n",
    "class SoilLayer:\n",
    "    soil: Soil\n",
    "    volume: float"
   ]
  },
  {
   "cell_type": "code",
   "execution_count": 187,
   "id": "99a1090e-f86d-408b-abe1-3cf4b86d8b68",
   "metadata": {},
   "outputs": [],
   "source": [
    "class SedimentStoreGet(simpy.resources.store.StoreGet):\n",
    "    \"\"\"Request to get a *layer* from the *store* . The\n",
    "    request is triggered once the soil is available in the store.\n",
    "\n",
    "    *layer* is a SoilLayer\n",
    "    :class:`StoreGet`.\n",
    "\n",
    "    \"\"\"\n",
    "\n",
    "    def __init__(\n",
    "        self,\n",
    "        resource: 'SedimentStore',\n",
    "        volume: float\n",
    "    ):\n",
    "        \"\"\"An event to get a layer of sediment out of a sediment store.\"\"\"\n",
    "        self.volume = volume\n",
    "        super().__init__(resource)\n",
    "\n",
    "class SedimentStore(simpy.Store):\n",
    "    def __init__(self, env: simpy.Environment, capacity: Union[float, int] = float('inf'), layers: list = None):\n",
    "        super().__init__(env, capacity)\n",
    "        # create a dictionary with info on grain sizes\n",
    "        self._grain_size_info = create_grain_sizes()\n",
    "\n",
    "    def get(\n",
    "        self, \n",
    "        volume: float\n",
    "    ) -> SedimentStoreGet:\n",
    "        \"\"\"Request to get a volume out of the sediment store.\"\"\"\n",
    "        return SedimentStoreGet(self, volume)\n",
    "\n",
    "    \n",
    "    def put(  # type: ignore[override] # noqa: F821\n",
    "        self, item: Any, \n",
    "    ) -> StorePut:\n",
    "        \"\"\"Request to put *item* into the store. Item is \"\"\"\n",
    "        return StorePut(self, item)\n",
    "    def _do_put(self, event: StorePut) -> Optional[bool]:\n",
    "        # remaining capacity should allow for volume to fit in\n",
    "        if self._capacity - self.level >= event.item.volume:\n",
    "            self.items.append(event.item)\n",
    "            event.succeed()\n",
    "            return True\n",
    "        return None\n",
    "    def _do_get(self, event: SedimentStoreGet) -> Optional[bool]:\n",
    "        print(f\"getting {event.volume}\")\n",
    "        if self.level >= event.volume:\n",
    "            # get a volume from the storage and return a new layer\n",
    "            # update the current layers with the new layers\n",
    "            new_items, layer = get_layer_from_top(layers=self.items, volume=event.volume)\n",
    "            self.items = new_items\n",
    "            event.succeed(layer)\n",
    "        return None\n",
    "\n",
    "    @property\n",
    "    def grain_sizes(self):\n",
    "        return self._grain_size_info[\"grain_sizes_code\"]\n",
    "        \n",
    "    @property\n",
    "    def level(self):\n",
    "        return sum([layer.volume for layer in self.items]) \n",
    "\n",
    "\n",
    "\n",
    "import dataclasses\n",
    "\n",
    "@dataclasses.dataclass(init=True)\n",
    "class Soil:\n",
    "    volume_ratios: dict\n",
    "\n",
    "@dataclasses.dataclass(init=True)\n",
    "class SoilLayer:\n",
    "    soil: Soil\n",
    "    volume: float\n",
    "\n"
   ]
  },
  {
   "cell_type": "code",
   "execution_count": 188,
   "id": "aa9a699c-4c2f-43d4-a91f-4866f73a91e5",
   "metadata": {},
   "outputs": [
    {
     "data": {
      "text/html": [
       "<div>\n",
       "<style scoped>\n",
       "    .dataframe tbody tr th:only-of-type {\n",
       "        vertical-align: middle;\n",
       "    }\n",
       "\n",
       "    .dataframe tbody tr th {\n",
       "        vertical-align: top;\n",
       "    }\n",
       "\n",
       "    .dataframe thead th {\n",
       "        text-align: right;\n",
       "    }\n",
       "</style>\n",
       "<table border=\"1\" class=\"dataframe\">\n",
       "  <thead>\n",
       "    <tr style=\"text-align: right;\">\n",
       "      <th></th>\n",
       "      <th>size lower [mm]</th>\n",
       "      <th>size upper [mm]</th>\n",
       "      <th>interval</th>\n",
       "    </tr>\n",
       "    <tr>\n",
       "      <th>code</th>\n",
       "      <th></th>\n",
       "      <th></th>\n",
       "      <th></th>\n",
       "    </tr>\n",
       "  </thead>\n",
       "  <tbody>\n",
       "    <tr>\n",
       "      <th>Cl</th>\n",
       "      <td>0.0000</td>\n",
       "      <td>0.0020</td>\n",
       "      <td>[0.0, 0.002)</td>\n",
       "    </tr>\n",
       "    <tr>\n",
       "      <th>fSi</th>\n",
       "      <td>0.0020</td>\n",
       "      <td>0.0063</td>\n",
       "      <td>[0.002, 0.0063)</td>\n",
       "    </tr>\n",
       "    <tr>\n",
       "      <th>mSi</th>\n",
       "      <td>0.0063</td>\n",
       "      <td>0.0200</td>\n",
       "      <td>[0.0063, 0.02)</td>\n",
       "    </tr>\n",
       "    <tr>\n",
       "      <th>cSi</th>\n",
       "      <td>0.0200</td>\n",
       "      <td>0.0630</td>\n",
       "      <td>[0.02, 0.063)</td>\n",
       "    </tr>\n",
       "    <tr>\n",
       "      <th>fSa</th>\n",
       "      <td>0.0630</td>\n",
       "      <td>0.2000</td>\n",
       "      <td>[0.063, 0.2)</td>\n",
       "    </tr>\n",
       "    <tr>\n",
       "      <th>mSa</th>\n",
       "      <td>0.2000</td>\n",
       "      <td>0.6300</td>\n",
       "      <td>[0.2, 0.63)</td>\n",
       "    </tr>\n",
       "    <tr>\n",
       "      <th>cSa</th>\n",
       "      <td>0.6300</td>\n",
       "      <td>2.0000</td>\n",
       "      <td>[0.63, 2.0)</td>\n",
       "    </tr>\n",
       "    <tr>\n",
       "      <th>fGr</th>\n",
       "      <td>2.0000</td>\n",
       "      <td>6.3000</td>\n",
       "      <td>[2.0, 6.3)</td>\n",
       "    </tr>\n",
       "    <tr>\n",
       "      <th>mGr</th>\n",
       "      <td>6.3000</td>\n",
       "      <td>20.0000</td>\n",
       "      <td>[6.3, 20.0)</td>\n",
       "    </tr>\n",
       "    <tr>\n",
       "      <th>cGr</th>\n",
       "      <td>20.0000</td>\n",
       "      <td>63.0000</td>\n",
       "      <td>[20.0, 63.0)</td>\n",
       "    </tr>\n",
       "    <tr>\n",
       "      <th>Co</th>\n",
       "      <td>63.0000</td>\n",
       "      <td>200.0000</td>\n",
       "      <td>[63.0, 200.0)</td>\n",
       "    </tr>\n",
       "    <tr>\n",
       "      <th>Bo</th>\n",
       "      <td>200.0000</td>\n",
       "      <td>630.0000</td>\n",
       "      <td>[200.0, 630.0)</td>\n",
       "    </tr>\n",
       "    <tr>\n",
       "      <th>lBo</th>\n",
       "      <td>630.0000</td>\n",
       "      <td>inf</td>\n",
       "      <td>[630.0, inf)</td>\n",
       "    </tr>\n",
       "  </tbody>\n",
       "</table>\n",
       "</div>"
      ],
      "text/plain": [
       "      size lower [mm]  size upper [mm]         interval\n",
       "code                                                   \n",
       "Cl             0.0000           0.0020     [0.0, 0.002)\n",
       "fSi            0.0020           0.0063  [0.002, 0.0063)\n",
       "mSi            0.0063           0.0200   [0.0063, 0.02)\n",
       "cSi            0.0200           0.0630    [0.02, 0.063)\n",
       "fSa            0.0630           0.2000     [0.063, 0.2)\n",
       "mSa            0.2000           0.6300      [0.2, 0.63)\n",
       "cSa            0.6300           2.0000      [0.63, 2.0)\n",
       "fGr            2.0000           6.3000       [2.0, 6.3)\n",
       "mGr            6.3000          20.0000      [6.3, 20.0)\n",
       "cGr           20.0000          63.0000     [20.0, 63.0)\n",
       "Co            63.0000         200.0000    [63.0, 200.0)\n",
       "Bo           200.0000         630.0000   [200.0, 630.0)\n",
       "lBo          630.0000              inf     [630.0, inf)"
      ]
     },
     "execution_count": 188,
     "metadata": {},
     "output_type": "execute_result"
    }
   ],
   "source": [
    "\n",
    "env = simpy.Environment()\n",
    "sediment_store = SedimentStore(env=env)\n",
    "sediment_store.grain_sizes"
   ]
  },
  {
   "cell_type": "code",
   "execution_count": 189,
   "id": "67c5e299-de32-48df-907f-60410e36f135",
   "metadata": {},
   "outputs": [
    {
     "name": "stdout",
     "output_type": "stream",
     "text": [
      "getting 3\n"
     ]
    },
    {
     "data": {
      "text/plain": [
       "[SoilLayer(soil=Soil(volume_ratios={'Bo': 0.9, 'Co': 0.1}), volume=2),\n",
       " SoilLayer(soil=Soil(volume_ratios={'cGr': 0.9, 'Co': 0.1}), volume=2)]"
      ]
     },
     "execution_count": 189,
     "metadata": {},
     "output_type": "execute_result"
    }
   ],
   "source": [
    "env = simpy.Environment()\n",
    "\n",
    "sediment_store = SedimentStore(env=env, capacity=4)\n",
    "soil = Soil(volume_ratios={\"Cl\": 0.9, \"fSi\": 0.1})\n",
    "layer = SoilLayer(soil=soil, volume=2)\n",
    "sediment_store.put(layer)\n",
    "soil = Soil(volume_ratios={\"Bo\": 0.9, \"Co\": 0.1})\n",
    "layer = SoilLayer(soil=soil, volume=2)\n",
    "sediment_store.put(layer)\n",
    "sediment_store.items\n",
    "\n",
    "# this should not trigger because container is full\n",
    "soil = Soil(volume_ratios={\"cGr\": 0.9, \"Co\": 0.1})\n",
    "layer = SoilLayer(soil=soil, volume=2)\n",
    "put_event = sediment_store.put(layer)\n",
    "# should be one event in the queue\n",
    "sediment_store.put_queue\n",
    "\n",
    "sediment_store.get(volume=3)\n",
    "\n",
    "sediment_store.items\n",
    "env.step()\n",
    "env.step()\n",
    "env.step()\n",
    "env.step()\n",
    "\n",
    "sediment_store.put_queue\n",
    "sediment_store.items\n",
    "\n",
    "\n",
    "\n",
    "\n"
   ]
  },
  {
   "cell_type": "markdown",
   "id": "0312c01f",
   "metadata": {},
   "source": [
    "# Data types for sediment \n",
    "There are a few common methods to store an amount of sediment of different classes. Suppose we have 1kg of sediment with grain size 0.01mm and 2kg of sediment with size 0.02mm. Then we can store it as follows:\n",
    "```\n",
    "bins = [0.01, 0.02]\n",
    "amount = [1, 2]\n",
    "sediment_amount = (amount, bins)\n",
    "```\n",
    "\n",
    "Another way is to store the edges of the bins:\n",
    "```\n",
    "edges = [0.005, 0.015, 0.025]\n",
    "hist = [1, 2]\n",
    "sediment_histogram = (hist, edges)\n",
    "```\n",
    "\n",
    "You can consider the first example as a bar chart. You store the bins, but do not consider them on a continuous (interval, ratio), but rather as a nominal or ordinal variable. Using the edges approach you can also combine bins to make new bins, but you will lose information. Here we refer to the first data model as \"bars\" and the second as \"histograms\". \n",
    "\n",
    "``` \n",
    "sediment_a_bar = ([1, 2], [0.01, 0.02])\n",
    "sediment_b_bar = ([1, 1], [0.01, 0.03])\n",
    "mix_bars(sediment_a_bar, sediment_b_bar)\n",
    "([2, 2, 1], (0.01, 0.02, 0.03)\n",
    "```\n",
    "\n",
    "``` \n",
    "sediment_a_hist = ([1, 2], [0.005, 0.015, 0.025])\n",
    "sediment_b_hist = ([1, 0, 1], [0.005, 0.015, 0.025, 0.035])\n",
    "mix_histograms(sediment_a, sediment_b)\n",
    "([2., 2., 1.], [0.005, 0.015, 0.025, 0.035])\n",
    "```\n",
    "\n",
    "Besides mixing of sediment, we can also stack sediment. To do this we keep a list of histograms or bars. Using this list we can add and remove amounts of sediment. Based on the stacking (lifo) we can retrieve an amount of sediment and retrieve either bars or a histogram of sediment.\n",
    "\n",
    "```\n",
    "# a on top of b\n",
    "sediment_stack = [\n",
    "([1, 1], [0.01, 0.03]),\n",
    "([1, 2], [0.01, 0.02])\n",
    "]\n",
    "get_bar(sediment_stack, 1)\n",
    "([0.333, 0.667], [0.01, 0.02])\n",
    "get_bar(sediment_stack, 2)\n",
    "([0.667, 1.333], [0.01, 0.02])\n",
    "```\n",
    "\n",
    "Or from the histogram:\n",
    "```\n",
    "sediment_stack = [\n",
    "    ([1, 0, 1], [0.005, 0.015, 0.025, 0.035]),\n",
    "    ([1, 2], [0.005, 0.015, 0.025])\n",
    "]\n",
    "get_hist(sediment_stack, 1)\n",
    "([0.005, 0.015, 0.025, 0.035], [0.01, 0.02, 0.0])\n",
    "get_hist(sediment_stack, 2)\n",
    "([0.005, 0.015, 0.025, 0.035], [0.01, 0.02, 0.0])\n",
    "\n",
    "```\n"
   ]
  },
  {
   "cell_type": "code",
   "execution_count": 3,
   "id": "29611355",
   "metadata": {},
   "outputs": [],
   "source": [
    "def mix_histograms(a, b):\n",
    "    # from: https://stackoverflow.com/questions/47085662/merge-histograms-with-different-ranges\n",
    "    if a is None:\n",
    "        return b\n",
    "    hist_a, edges_a = a\n",
    "    if hist_a is None or edges_a is None:\n",
    "        return b\n",
    "    hist_b, edges_b = b\n",
    "    d_a = np.diff(edges_a)[0]\n",
    "    d_b = np.diff(edges_b)[0]\n",
    "    d_int = np.min([d_a, d_b])\n",
    "\n",
    "    min = np.min(np.hstack([edges_a, edges_b]))\n",
    "    max = np.max(np.hstack([edges_a, edges_b]))\n",
    "    # new edges\n",
    "    edges_c = np.arange(min, max, d_int)\n",
    "\n",
    "    def interpolate_hist(edges, hist, edges_int):\n",
    "        # interpolate edges with counts (hist) to new edges (edges_int)\n",
    "        cum_hist = np.hstack([0, np.cumsum(hist)])\n",
    "        cum_hist_int = np.interp(edges_int, edges, cum_hist)\n",
    "        hist_int = np.diff(cum_hist_int)\n",
    "        return hist_int\n",
    "\n",
    "    hist_a_int = interpolate_hist(edges_a, hist_a, edges_c)\n",
    "    hist_b_int = interpolate_hist(edges_b, hist_b, edges_c)\n",
    "\n",
    "    hist_c = hist_a_int + hist_b_int\n",
    "    return hist_c, edges_c\n",
    "\n",
    "class SedimentStore(simpy.Store):\n",
    "    def __init__(self, env: simpy.Environment, capacity: Union[float, int] = float('inf')):\n",
    "        super().__init__(env, capacity)\n",
    "        # initialize with None\n",
    "        self.hist = None\n",
    "        self.bins = None\n",
    "    def put(  # type: ignore[override] # noqa: F821\n",
    "        self, item: Any, \n",
    "    ) -> StorePut:\n",
    "        \"\"\"Request to put *item* into the store. Item is \"\"\"\n",
    "        return StorePut(self, item)\n",
    "    def _do_put(self, event: StorePut) -> Optional[bool]:\n",
    "        print('putting', event)\n",
    "        mix_histograms(self.hist, event.item)\n",
    "        return None\n",
    "\n",
    "    def _do_get(self, event: StoreGet) -> Optional[bool]:\n",
    "        print('getting', event)\n",
    "        if self.items:\n",
    "            event.succeed(self.items.pop(0))\n",
    "        return None"
   ]
  },
  {
   "cell_type": "code",
   "execution_count": 4,
   "id": "1504ef31",
   "metadata": {},
   "outputs": [],
   "source": [
    "env = simpy.Environment()\n",
    "store = SedimentStore(env)"
   ]
  },
  {
   "cell_type": "code",
   "execution_count": 5,
   "id": "4b6824d9",
   "metadata": {},
   "outputs": [
    {
     "name": "stdout",
     "output_type": "stream",
     "text": [
      "putting <StorePut() object at 0x10e859820>\n"
     ]
    },
    {
     "data": {
      "text/plain": [
       "<StorePut() object at 0x10e859820>"
      ]
     },
     "execution_count": 5,
     "metadata": {},
     "output_type": "execute_result"
    }
   ],
   "source": [
    "put = store.put('hi')\n",
    "put"
   ]
  },
  {
   "cell_type": "code",
   "execution_count": 6,
   "id": "07ea448d",
   "metadata": {},
   "outputs": [],
   "source": [
    "env.run()"
   ]
  },
  {
   "cell_type": "code",
   "execution_count": 7,
   "id": "7a4bfbfd",
   "metadata": {},
   "outputs": [],
   "source": [
    "import numpy as np"
   ]
  },
  {
   "cell_type": "code",
   "execution_count": 8,
   "id": "2b932e3e",
   "metadata": {},
   "outputs": [
    {
     "data": {
      "text/plain": [
       "(array([1.92307692, 0.07692308, 0.        , 0.        , 0.        ,\n",
       "        0.        , 0.        , 0.38461538, 1.61538462, 1.23076923]),\n",
       " array([0.  , 0.12, 0.24, 0.36, 0.48, 0.6 , 0.72, 0.84, 0.96, 1.08, 1.2 ]))"
      ]
     },
     "execution_count": 8,
     "metadata": {},
     "output_type": "execute_result"
    }
   ],
   "source": [
    "a = np.histogram([0, 1, 1.2])\n",
    "b = np.histogram([0, 1, 1.3])\n",
    "mix_histograms(a, b)"
   ]
  },
  {
   "cell_type": "code",
   "execution_count": 9,
   "id": "1e3a1cc8",
   "metadata": {},
   "outputs": [
    {
     "data": {
      "text/plain": [
       "1.3"
      ]
     },
     "execution_count": 9,
     "metadata": {},
     "output_type": "execute_result"
    }
   ],
   "source": [
    "np.max(np.hstack([a[1], b[1]]))"
   ]
  },
  {
   "cell_type": "code",
   "execution_count": 10,
   "id": "3e5f4187",
   "metadata": {},
   "outputs": [
    {
     "data": {
      "text/plain": [
       "(array([2., 2., 1.]), array([0.005, 0.015, 0.025, 0.035]))"
      ]
     },
     "execution_count": 10,
     "metadata": {},
     "output_type": "execute_result"
    }
   ],
   "source": [
    "\n",
    "sediment_a = ([1, 2], [0.005, 0.015, 0.025])\n",
    "sediment_b = ([1, 0, 1], [0.005, 0.015, 0.025, 0.035])\n",
    "mix_histograms(sediment_a, sediment_b)"
   ]
  },
  {
   "cell_type": "code",
   "execution_count": null,
   "id": "8f7ad333",
   "metadata": {},
   "outputs": [],
   "source": []
  }
 ],
 "metadata": {
  "kernelspec": {
   "display_name": "Python 3 (ipykernel)",
   "language": "python",
   "name": "python3"
  },
  "language_info": {
   "codemirror_mode": {
    "name": "ipython",
    "version": 3
   },
   "file_extension": ".py",
   "mimetype": "text/x-python",
   "name": "python",
   "nbconvert_exporter": "python",
   "pygments_lexer": "ipython3",
   "version": "3.9.16"
  }
 },
 "nbformat": 4,
 "nbformat_minor": 5
}
