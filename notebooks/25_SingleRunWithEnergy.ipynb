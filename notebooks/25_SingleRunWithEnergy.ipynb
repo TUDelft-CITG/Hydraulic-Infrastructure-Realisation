{
 "cells": [
  {
   "cell_type": "markdown",
   "metadata": {},
   "source": [
    "## Demo: repeating a subcycle until a stop condition is triggered\n",
    "The basic steps to set up an OpenCLSim simulation are:\n",
    "* Import libraries\n",
    "* Initialise simpy environment\n",
    "* Define object classes\n",
    "* Create objects\n",
    "  * Create sites\n",
    "  * Create vessels\n",
    "  * Create activities\n",
    "* Register processes and run simpy\n",
    "\n",
    "----\n",
    "\n",
    "This notebook provides an example of a simulation that takes a number of sub processes, grouped in a sequential activity, that is **executed while a stop condition is not yet met**.\n",
    "\n",
    "For this example we work with the following sub processes:\n",
    "* sailing empty\n",
    "* loading\n",
    "* sailing full\n",
    "* unloading"
   ]
  },
  {
   "cell_type": "markdown",
   "metadata": {},
   "source": [
    "#### 0. Import libraries"
   ]
  },
  {
   "cell_type": "code",
   "execution_count": null,
   "metadata": {},
   "outputs": [],
   "source": [
    "import datetime, time\n",
    "import simpy\n",
    "\n",
    "import shapely.geometry\n",
    "import pandas as pd\n",
    "\n",
    "import openclsim.core as core\n",
    "import openclsim.model as model\n",
    "import openclsim.plot as plot\n",
    "\n",
    "# Used for making the graph to visualize our problem\n",
    "import networkx as nx \n",
    "import matplotlib.pyplot as plt\n",
    "\n",
    "import opentnsim.core"
   ]
  },
  {
   "cell_type": "markdown",
   "metadata": {},
   "source": [
    "#### 1. Initialise simpy environment"
   ]
  },
  {
   "cell_type": "code",
   "execution_count": 2,
   "metadata": {},
   "outputs": [],
   "source": [
    "# setup environment\n",
    "simulation_start = 0\n",
    "my_env = simpy.Environment(initial_time=simulation_start)"
   ]
  },
  {
   "cell_type": "markdown",
   "metadata": {},
   "source": [
    "#### 1.1 Create graph"
   ]
  },
  {
   "cell_type": "code",
   "execution_count": 3,
   "metadata": {},
   "outputs": [],
   "source": [
    "# specify a number of coordinate along your route (coords are: lon, lat)\n",
    "coords = [\n",
    "[4.651810765193616,53.06520633542454],\n",
    "[4.665949515416939,53.06291148049787], \n",
    "[4.678223920527591,53.06107438344198], \n",
    "[4.688183738253528,53.05974704102928], \n",
    "[4.69785320390846 ,53.05828289064841], \n",
    "[4.704381491443237,53.05728100125996], \n",
    "[4.709772259231658,53.05656711326854]] \n",
    "\n",
    "# for each edge (between above coordinates) specify the depth (m)\n",
    "depths = [20, 18, 16, 14, 11, 8]\n",
    "\n",
    "# check of nr of coords and nr of depths align\n",
    "assert len(coords) == len(depths) + 1, 'nr of depths does not correspond to nr of coords'"
   ]
  },
  {
   "cell_type": "code",
   "execution_count": 4,
   "metadata": {},
   "outputs": [],
   "source": [
    "# create a graph based on coords and depths\n",
    "FG = nx.DiGraph()\n",
    "nodes = []\n",
    "path = []\n",
    "\n",
    "# add nodes\n",
    "Node = type('Site', (opentnsim.core.Identifiable, opentnsim.core.Locatable), {})\n",
    "\n",
    "for index, coord in enumerate(coords):\n",
    "    data_node = {\"name\": \"Node \" + str(index), \"geometry\": shapely.geometry.Point(coord[0], coord[1])}\n",
    "    nodes.append(Node(**data_node))\n",
    "    \n",
    "positions = {}\n",
    "for node in nodes:\n",
    "    positions[node.name] = (node.geometry.x, node.geometry.y)\n",
    "    FG.add_node(node.name, geometry = node.geometry)\n",
    "\n",
    "# add edges\n",
    "path = [[nodes[i], nodes[i+1]] for i in range(len(nodes)-1)]\n",
    "\n",
    "for index, edge in enumerate(path):\n",
    "    # For the energy consumption calculation we add info to the graph. We need depth info for resistance.\n",
    "    # NB: the CalculateEnergy routine expects the graph to have \"Info\" that contains \"GeneralDepth\" \n",
    "    #     this may not be very generic!\n",
    "    FG.add_edge(edge[0].name, edge[1].name, weight = 1, Info = {\"GeneralDepth\": depths[index]})\n",
    "\n",
    "# toggle to undirected and back to directed to make sure all edges are two way traffic\n",
    "FG = FG.to_undirected() \n",
    "FG = FG.to_directed() "
   ]
  },
  {
   "cell_type": "code",
   "execution_count": 5,
   "metadata": {},
   "outputs": [
    {
     "data": {
      "image/png": "[encoded data removed]",
      "text/plain": [
       "<Figure size 432x288 with 1 Axes>"
      ]
     },
     "metadata": {},
     "output_type": "display_data"
    }
   ],
   "source": [
    "# show graph\n",
    "nx.draw(FG, positions)\n",
    "plt.show()"
   ]
  },
  {
   "cell_type": "code",
   "execution_count": 6,
   "metadata": {},
   "outputs": [
    {
     "name": "stdout",
     "output_type": "stream",
     "text": [
      "Node 0, Node 1: general depth 20 m\n",
      "Node 1, Node 0: general depth 20 m\n",
      "Node 1, Node 2: general depth 18 m\n",
      "Node 2, Node 1: general depth 18 m\n",
      "Node 2, Node 3: general depth 16 m\n",
      "Node 3, Node 2: general depth 16 m\n",
      "Node 3, Node 4: general depth 14 m\n",
      "Node 4, Node 3: general depth 14 m\n",
      "Node 4, Node 5: general depth 11 m\n",
      "Node 5, Node 4: general depth 11 m\n",
      "Node 5, Node 6: general depth 8 m\n",
      "Node 6, Node 5: general depth 8 m\n"
     ]
    }
   ],
   "source": [
    "# inspect if properties were set correctly\n",
    "for edge in FG.edges(data = True):\n",
    "    print('{}, {}: general depth {} m'.format(edge[0], edge[1], FG.edges[(edge[0], edge[1])]['Info']['GeneralDepth']))"
   ]
  },
  {
   "cell_type": "code",
   "execution_count": 21,
   "metadata": {},
   "outputs": [],
   "source": [
    "my_env.FG = FG"
   ]
  },
  {
   "cell_type": "markdown",
   "metadata": {},
   "source": [
    "#### 2. Define object classes"
   ]
  },
  {
   "cell_type": "code",
   "execution_count": 25,
   "metadata": {},
   "outputs": [],
   "source": [
    "# create a Site object based on desired mixin classes\n",
    "Site = type(\n",
    "    \"Site\",\n",
    "    (\n",
    "        core.Identifiable,\n",
    "        core.Log,\n",
    "        core.Locatable,\n",
    "        core.HasContainer,\n",
    "        core.HasResource,\n",
    "    ),\n",
    "    {},\n",
    ")\n",
    "\n",
    "# create a TransportProcessingResource object based on desired mixin classes\n",
    "TransportProcessingResource = type(\n",
    "    \"TransportProcessingResource\",\n",
    "    (\n",
    "        core.Identifiable,\n",
    "        core.Log,\n",
    "        core.Processor,\n",
    "        core.HasResource,\n",
    "        core.LoadingFunction,\n",
    "        core.UnloadingFunction,\n",
    "        opentnsim.core.ContainerDependentMovable,\n",
    "        opentnsim.core.VesselProperties,\n",
    "        opentnsim.core.Routeable,\n",
    "        opentnsim.core.ExtraMetadata,\n",
    "        opentnsim.core.ConsumesEnergy\n",
    "    ),\n",
    "    {},\n",
    ")"
   ]
  },
  {
   "cell_type": "markdown",
   "metadata": {},
   "source": [
    "#### 3. Create objects\n",
    "##### 3.1. Create site object(s)"
   ]
  },
  {
   "cell_type": "code",
   "execution_count": 23,
   "metadata": {},
   "outputs": [],
   "source": [
    "# prepare input data for from_site\n",
    "location_from_site = FG.nodes(data = True)['Node 0']['geometry']\n",
    "data_from_site = {\"env\": my_env,\n",
    "                  \"name\": \"from_site\",\n",
    "                  \"geometry\": location_from_site,\n",
    "                  \"capacity\": 100,\n",
    "                  \"level\": 50\n",
    "                 }\n",
    "# instantiate from_site \n",
    "from_site = Site(**data_from_site)\n",
    "\n",
    "# prepare input data for to_site\n",
    "location_to_site = FG.nodes(data = True)['Node 6']['geometry']\n",
    "data_to_site = {\"env\": my_env,\n",
    "                \"name\": \"to_site\",\n",
    "                \"geometry\": location_to_site,\n",
    "                \"capacity\": 50,\n",
    "                \"level\": 0\n",
    "               }\n",
    "# instantiate to_site \n",
    "to_site = Site(**data_to_site)"
   ]
  },
  {
   "cell_type": "markdown",
   "metadata": {},
   "source": [
    "##### 3.2. Create vessel object(s)"
   ]
  },
  {
   "cell_type": "code",
   "execution_count": 24,
   "metadata": {
    "scrolled": false
   },
   "outputs": [
    {
     "ename": "TypeError",
     "evalue": "__init__() missing 1 required positional argument: 'env'",
     "output_type": "error",
     "traceback": [
      "\u001b[1;31m---------------------------------------------------------------------------\u001b[0m",
      "\u001b[1;31mTypeError\u001b[0m                                 Traceback (most recent call last)",
      "\u001b[1;32m<ipython-input-24-08b8d25604fa>\u001b[0m in \u001b[0;36m<module>\u001b[1;34m\u001b[0m\n\u001b[0;32m     20\u001b[0m                }\n\u001b[0;32m     21\u001b[0m \u001b[1;31m# instantiate vessel_01\u001b[0m\u001b[1;33m\u001b[0m\u001b[1;33m\u001b[0m\u001b[1;33m\u001b[0m\u001b[0m\n\u001b[1;32m---> 22\u001b[1;33m \u001b[0mvessel01\u001b[0m \u001b[1;33m=\u001b[0m \u001b[0mTransportProcessingResource\u001b[0m\u001b[1;33m(\u001b[0m\u001b[1;33m**\u001b[0m\u001b[0mdata_vessel01\u001b[0m\u001b[1;33m)\u001b[0m\u001b[1;33m\u001b[0m\u001b[1;33m\u001b[0m\u001b[0m\n\u001b[0m\u001b[0;32m     23\u001b[0m \u001b[1;33m\u001b[0m\u001b[0m\n\u001b[0;32m     24\u001b[0m \u001b[1;31m# # monkeypatch with L\u001b[0m\u001b[1;33m\u001b[0m\u001b[1;33m\u001b[0m\u001b[1;33m\u001b[0m\u001b[0m\n",
      "\u001b[1;32mc:\\users\\mrv\\onedrive - van oord\\software\\github\\openclsim\\openclsim\\core\\identifiable.py\u001b[0m in \u001b[0;36m__init__\u001b[1;34m(self, name, ID, *args, **kwargs)\u001b[0m\n\u001b[0;32m     23\u001b[0m \u001b[1;33m\u001b[0m\u001b[0m\n\u001b[0;32m     24\u001b[0m     \u001b[1;32mdef\u001b[0m \u001b[0m__init__\u001b[0m\u001b[1;33m(\u001b[0m\u001b[0mself\u001b[0m\u001b[1;33m,\u001b[0m \u001b[0mname\u001b[0m\u001b[1;33m:\u001b[0m \u001b[0mstr\u001b[0m\u001b[1;33m,\u001b[0m \u001b[0mID\u001b[0m\u001b[1;33m:\u001b[0m \u001b[0mstr\u001b[0m \u001b[1;33m=\u001b[0m \u001b[1;32mNone\u001b[0m\u001b[1;33m,\u001b[0m \u001b[1;33m*\u001b[0m\u001b[0margs\u001b[0m\u001b[1;33m,\u001b[0m \u001b[1;33m**\u001b[0m\u001b[0mkwargs\u001b[0m\u001b[1;33m)\u001b[0m\u001b[1;33m:\u001b[0m\u001b[1;33m\u001b[0m\u001b[1;33m\u001b[0m\u001b[0m\n\u001b[1;32m---> 25\u001b[1;33m         \u001b[0msuper\u001b[0m\u001b[1;33m(\u001b[0m\u001b[1;33m)\u001b[0m\u001b[1;33m.\u001b[0m\u001b[0m__init__\u001b[0m\u001b[1;33m(\u001b[0m\u001b[1;33m*\u001b[0m\u001b[0margs\u001b[0m\u001b[1;33m,\u001b[0m \u001b[1;33m**\u001b[0m\u001b[0mkwargs\u001b[0m\u001b[1;33m)\u001b[0m\u001b[1;33m\u001b[0m\u001b[1;33m\u001b[0m\u001b[0m\n\u001b[0m\u001b[0;32m     26\u001b[0m         \u001b[0mself\u001b[0m\u001b[1;33m.\u001b[0m\u001b[0mname\u001b[0m \u001b[1;33m=\u001b[0m \u001b[0mname\u001b[0m\u001b[1;33m\u001b[0m\u001b[1;33m\u001b[0m\u001b[0m\n\u001b[0;32m     27\u001b[0m         \u001b[0mself\u001b[0m\u001b[1;33m.\u001b[0m\u001b[0mid\u001b[0m \u001b[1;33m=\u001b[0m \u001b[0mID\u001b[0m \u001b[1;32mif\u001b[0m \u001b[0mID\u001b[0m \u001b[1;32melse\u001b[0m \u001b[0mstr\u001b[0m\u001b[1;33m(\u001b[0m\u001b[0muuid\u001b[0m\u001b[1;33m.\u001b[0m\u001b[0muuid4\u001b[0m\u001b[1;33m(\u001b[0m\u001b[1;33m)\u001b[0m\u001b[1;33m)\u001b[0m\u001b[1;33m\u001b[0m\u001b[1;33m\u001b[0m\u001b[0m\n",
      "\u001b[1;32mc:\\users\\mrv\\onedrive - van oord\\software\\github\\openclsim\\openclsim\\core\\log.py\u001b[0m in \u001b[0;36m__init__\u001b[1;34m(self, *args, **kwargs)\u001b[0m\n\u001b[0;32m     24\u001b[0m \u001b[1;33m\u001b[0m\u001b[0m\n\u001b[0;32m     25\u001b[0m     \u001b[1;32mdef\u001b[0m \u001b[0m__init__\u001b[0m\u001b[1;33m(\u001b[0m\u001b[0mself\u001b[0m\u001b[1;33m,\u001b[0m \u001b[1;33m*\u001b[0m\u001b[0margs\u001b[0m\u001b[1;33m,\u001b[0m \u001b[1;33m**\u001b[0m\u001b[0mkwargs\u001b[0m\u001b[1;33m)\u001b[0m\u001b[1;33m:\u001b[0m\u001b[1;33m\u001b[0m\u001b[1;33m\u001b[0m\u001b[0m\n\u001b[1;32m---> 26\u001b[1;33m         \u001b[0msuper\u001b[0m\u001b[1;33m(\u001b[0m\u001b[1;33m)\u001b[0m\u001b[1;33m.\u001b[0m\u001b[0m__init__\u001b[0m\u001b[1;33m(\u001b[0m\u001b[1;33m*\u001b[0m\u001b[0margs\u001b[0m\u001b[1;33m,\u001b[0m \u001b[1;33m**\u001b[0m\u001b[0mkwargs\u001b[0m\u001b[1;33m)\u001b[0m\u001b[1;33m\u001b[0m\u001b[1;33m\u001b[0m\u001b[0m\n\u001b[0m\u001b[0;32m     27\u001b[0m         \u001b[1;34m\"\"\"Initialization\"\"\"\u001b[0m\u001b[1;33m\u001b[0m\u001b[1;33m\u001b[0m\u001b[0m\n\u001b[0;32m     28\u001b[0m         self.log = {\n",
      "\u001b[1;32mc:\\users\\mrv\\onedrive - van oord\\software\\github\\openclsim\\openclsim\\core\\processor.py\u001b[0m in \u001b[0;36m__init__\u001b[1;34m(self, *args, **kwargs)\u001b[0m\n\u001b[0;32m     21\u001b[0m \u001b[1;33m\u001b[0m\u001b[0m\n\u001b[0;32m     22\u001b[0m     \u001b[1;32mdef\u001b[0m \u001b[0m__init__\u001b[0m\u001b[1;33m(\u001b[0m\u001b[0mself\u001b[0m\u001b[1;33m,\u001b[0m \u001b[1;33m*\u001b[0m\u001b[0margs\u001b[0m\u001b[1;33m,\u001b[0m \u001b[1;33m**\u001b[0m\u001b[0mkwargs\u001b[0m\u001b[1;33m)\u001b[0m\u001b[1;33m:\u001b[0m\u001b[1;33m\u001b[0m\u001b[1;33m\u001b[0m\u001b[0m\n\u001b[1;32m---> 23\u001b[1;33m         \u001b[0msuper\u001b[0m\u001b[1;33m(\u001b[0m\u001b[1;33m)\u001b[0m\u001b[1;33m.\u001b[0m\u001b[0m__init__\u001b[0m\u001b[1;33m(\u001b[0m\u001b[1;33m*\u001b[0m\u001b[0margs\u001b[0m\u001b[1;33m,\u001b[0m \u001b[1;33m**\u001b[0m\u001b[0mkwargs\u001b[0m\u001b[1;33m)\u001b[0m\u001b[1;33m\u001b[0m\u001b[1;33m\u001b[0m\u001b[0m\n\u001b[0m\u001b[0;32m     24\u001b[0m         \u001b[1;34m\"\"\"Initialization\"\"\"\u001b[0m\u001b[1;33m\u001b[0m\u001b[1;33m\u001b[0m\u001b[0m\n\u001b[0;32m     25\u001b[0m \u001b[1;33m\u001b[0m\u001b[0m\n",
      "\u001b[1;32mc:\\users\\mrv\\onedrive - van oord\\software\\github\\openclsim\\openclsim\\core\\resource.py\u001b[0m in \u001b[0;36m__init__\u001b[1;34m(self, nr_resources, *args, **kwargs)\u001b[0m\n\u001b[0;32m     19\u001b[0m \u001b[1;33m\u001b[0m\u001b[0m\n\u001b[0;32m     20\u001b[0m     \u001b[1;32mdef\u001b[0m \u001b[0m__init__\u001b[0m\u001b[1;33m(\u001b[0m\u001b[0mself\u001b[0m\u001b[1;33m,\u001b[0m \u001b[0mnr_resources\u001b[0m\u001b[1;33m:\u001b[0m \u001b[0mint\u001b[0m \u001b[1;33m=\u001b[0m \u001b[1;36m1\u001b[0m\u001b[1;33m,\u001b[0m \u001b[1;33m*\u001b[0m\u001b[0margs\u001b[0m\u001b[1;33m,\u001b[0m \u001b[1;33m**\u001b[0m\u001b[0mkwargs\u001b[0m\u001b[1;33m)\u001b[0m\u001b[1;33m:\u001b[0m\u001b[1;33m\u001b[0m\u001b[1;33m\u001b[0m\u001b[0m\n\u001b[1;32m---> 21\u001b[1;33m         \u001b[0msuper\u001b[0m\u001b[1;33m(\u001b[0m\u001b[1;33m)\u001b[0m\u001b[1;33m.\u001b[0m\u001b[0m__init__\u001b[0m\u001b[1;33m(\u001b[0m\u001b[1;33m*\u001b[0m\u001b[0margs\u001b[0m\u001b[1;33m,\u001b[0m \u001b[1;33m**\u001b[0m\u001b[0mkwargs\u001b[0m\u001b[1;33m)\u001b[0m\u001b[1;33m\u001b[0m\u001b[1;33m\u001b[0m\u001b[0m\n\u001b[0m\u001b[0;32m     22\u001b[0m         \u001b[1;34m\"\"\"Initialization\"\"\"\u001b[0m\u001b[1;33m\u001b[0m\u001b[1;33m\u001b[0m\u001b[0m\n\u001b[0;32m     23\u001b[0m         \u001b[0mself\u001b[0m\u001b[1;33m.\u001b[0m\u001b[0mresource\u001b[0m \u001b[1;33m=\u001b[0m \u001b[0msimpy\u001b[0m\u001b[1;33m.\u001b[0m\u001b[0mResource\u001b[0m\u001b[1;33m(\u001b[0m\u001b[0mself\u001b[0m\u001b[1;33m.\u001b[0m\u001b[0menv\u001b[0m\u001b[1;33m,\u001b[0m \u001b[0mcapacity\u001b[0m\u001b[1;33m=\u001b[0m\u001b[0mnr_resources\u001b[0m\u001b[1;33m)\u001b[0m\u001b[1;33m\u001b[0m\u001b[1;33m\u001b[0m\u001b[0m\n",
      "\u001b[1;32mc:\\users\\mrv\\onedrive - van oord\\software\\github\\openclsim\\openclsim\\core\\simpy_object.py\u001b[0m in \u001b[0;36m__init__\u001b[1;34m(self, env, *args, **kwargs)\u001b[0m\n\u001b[0;32m     13\u001b[0m \u001b[1;33m\u001b[0m\u001b[0m\n\u001b[0;32m     14\u001b[0m     \u001b[1;32mdef\u001b[0m \u001b[0m__init__\u001b[0m\u001b[1;33m(\u001b[0m\u001b[0mself\u001b[0m\u001b[1;33m,\u001b[0m \u001b[0menv\u001b[0m\u001b[1;33m,\u001b[0m \u001b[1;33m*\u001b[0m\u001b[0margs\u001b[0m\u001b[1;33m,\u001b[0m \u001b[1;33m**\u001b[0m\u001b[0mkwargs\u001b[0m\u001b[1;33m)\u001b[0m\u001b[1;33m:\u001b[0m\u001b[1;33m\u001b[0m\u001b[1;33m\u001b[0m\u001b[0m\n\u001b[1;32m---> 15\u001b[1;33m         \u001b[0msuper\u001b[0m\u001b[1;33m(\u001b[0m\u001b[1;33m)\u001b[0m\u001b[1;33m.\u001b[0m\u001b[0m__init__\u001b[0m\u001b[1;33m(\u001b[0m\u001b[1;33m*\u001b[0m\u001b[0margs\u001b[0m\u001b[1;33m,\u001b[0m \u001b[1;33m**\u001b[0m\u001b[0mkwargs\u001b[0m\u001b[1;33m)\u001b[0m\u001b[1;33m\u001b[0m\u001b[1;33m\u001b[0m\u001b[0m\n\u001b[0m\u001b[0;32m     16\u001b[0m         \u001b[0mself\u001b[0m\u001b[1;33m.\u001b[0m\u001b[0menv\u001b[0m \u001b[1;33m=\u001b[0m \u001b[0menv\u001b[0m\u001b[1;33m\u001b[0m\u001b[1;33m\u001b[0m\u001b[0m\n",
      "\u001b[1;32mc:\\users\\mrv\\onedrive - van oord\\software\\github\\openclsim\\openclsim\\core\\processor.py\u001b[0m in \u001b[0;36m__init__\u001b[1;34m(self, loading_rate, load_manoeuvring, *args, **kwargs)\u001b[0m\n\u001b[0;32m    187\u001b[0m         \u001b[0mself\u001b[0m\u001b[1;33m,\u001b[0m \u001b[0mloading_rate\u001b[0m\u001b[1;33m:\u001b[0m \u001b[0mfloat\u001b[0m\u001b[1;33m,\u001b[0m \u001b[0mload_manoeuvring\u001b[0m\u001b[1;33m:\u001b[0m \u001b[0mfloat\u001b[0m \u001b[1;33m=\u001b[0m \u001b[1;36m0\u001b[0m\u001b[1;33m,\u001b[0m \u001b[1;33m*\u001b[0m\u001b[0margs\u001b[0m\u001b[1;33m,\u001b[0m \u001b[1;33m**\u001b[0m\u001b[0mkwargs\u001b[0m\u001b[1;33m\u001b[0m\u001b[1;33m\u001b[0m\u001b[0m\n\u001b[0;32m    188\u001b[0m     ):\n\u001b[1;32m--> 189\u001b[1;33m         \u001b[0msuper\u001b[0m\u001b[1;33m(\u001b[0m\u001b[1;33m)\u001b[0m\u001b[1;33m.\u001b[0m\u001b[0m__init__\u001b[0m\u001b[1;33m(\u001b[0m\u001b[1;33m*\u001b[0m\u001b[0margs\u001b[0m\u001b[1;33m,\u001b[0m \u001b[1;33m**\u001b[0m\u001b[0mkwargs\u001b[0m\u001b[1;33m)\u001b[0m\u001b[1;33m\u001b[0m\u001b[1;33m\u001b[0m\u001b[0m\n\u001b[0m\u001b[0;32m    190\u001b[0m         \u001b[1;34m\"\"\"Initialization\"\"\"\u001b[0m\u001b[1;33m\u001b[0m\u001b[1;33m\u001b[0m\u001b[0m\n\u001b[0;32m    191\u001b[0m         \u001b[0mself\u001b[0m\u001b[1;33m.\u001b[0m\u001b[0mloading_rate\u001b[0m \u001b[1;33m=\u001b[0m \u001b[0mloading_rate\u001b[0m\u001b[1;33m\u001b[0m\u001b[1;33m\u001b[0m\u001b[0m\n",
      "\u001b[1;32mc:\\users\\mrv\\onedrive - van oord\\software\\github\\openclsim\\openclsim\\core\\processor.py\u001b[0m in \u001b[0;36m__init__\u001b[1;34m(self, unloading_rate, unload_manoeuvring, *args, **kwargs)\u001b[0m\n\u001b[0;32m    227\u001b[0m         \u001b[0mself\u001b[0m\u001b[1;33m,\u001b[0m \u001b[0munloading_rate\u001b[0m\u001b[1;33m:\u001b[0m \u001b[0mfloat\u001b[0m\u001b[1;33m,\u001b[0m \u001b[0munload_manoeuvring\u001b[0m\u001b[1;33m:\u001b[0m \u001b[0mfloat\u001b[0m \u001b[1;33m=\u001b[0m \u001b[1;36m0\u001b[0m\u001b[1;33m,\u001b[0m \u001b[1;33m*\u001b[0m\u001b[0margs\u001b[0m\u001b[1;33m,\u001b[0m \u001b[1;33m**\u001b[0m\u001b[0mkwargs\u001b[0m\u001b[1;33m\u001b[0m\u001b[1;33m\u001b[0m\u001b[0m\n\u001b[0;32m    228\u001b[0m     ):\n\u001b[1;32m--> 229\u001b[1;33m         \u001b[0msuper\u001b[0m\u001b[1;33m(\u001b[0m\u001b[1;33m)\u001b[0m\u001b[1;33m.\u001b[0m\u001b[0m__init__\u001b[0m\u001b[1;33m(\u001b[0m\u001b[1;33m*\u001b[0m\u001b[0margs\u001b[0m\u001b[1;33m,\u001b[0m \u001b[1;33m**\u001b[0m\u001b[0mkwargs\u001b[0m\u001b[1;33m)\u001b[0m\u001b[1;33m\u001b[0m\u001b[1;33m\u001b[0m\u001b[0m\n\u001b[0m\u001b[0;32m    230\u001b[0m         \u001b[1;34m\"\"\"Initialization\"\"\"\u001b[0m\u001b[1;33m\u001b[0m\u001b[1;33m\u001b[0m\u001b[0m\n\u001b[0;32m    231\u001b[0m         \u001b[0mself\u001b[0m\u001b[1;33m.\u001b[0m\u001b[0munloading_rate\u001b[0m \u001b[1;33m=\u001b[0m \u001b[0munloading_rate\u001b[0m\u001b[1;33m\u001b[0m\u001b[1;33m\u001b[0m\u001b[0m\n",
      "\u001b[1;32mc:\\users\\mrv\\onedrive - van oord\\software\\github\\opentnsim\\opentnsim\\core.py\u001b[0m in \u001b[0;36m__init__\u001b[1;34m(self, compute_v, *args, **kwargs)\u001b[0m\n\u001b[0;32m   2156\u001b[0m         \u001b[1;32mif\u001b[0m \u001b[1;34m\"Line-up area\"\u001b[0m \u001b[1;32min\u001b[0m \u001b[0mself\u001b[0m\u001b[1;33m.\u001b[0m\u001b[0menv\u001b[0m\u001b[1;33m.\u001b[0m\u001b[0mFG\u001b[0m\u001b[1;33m.\u001b[0m\u001b[0mnodes\u001b[0m\u001b[1;33m[\u001b[0m\u001b[0morigin\u001b[0m\u001b[1;33m]\u001b[0m\u001b[1;33m.\u001b[0m\u001b[0mkeys\u001b[0m\u001b[1;33m(\u001b[0m\u001b[1;33m)\u001b[0m\u001b[1;33m:\u001b[0m\u001b[1;33m\u001b[0m\u001b[1;33m\u001b[0m\u001b[0m\n\u001b[0;32m   2157\u001b[0m             \u001b[0morig\u001b[0m \u001b[1;33m=\u001b[0m \u001b[0mshapely\u001b[0m\u001b[1;33m.\u001b[0m\u001b[0mgeometry\u001b[0m\u001b[1;33m.\u001b[0m\u001b[0mPoint\u001b[0m\u001b[1;33m(\u001b[0m\u001b[0mself\u001b[0m\u001b[1;33m.\u001b[0m\u001b[0mlineup_pos_lat\u001b[0m\u001b[1;33m,\u001b[0m\u001b[0mself\u001b[0m\u001b[1;33m.\u001b[0m\u001b[0mlineup_pos_lon\u001b[0m\u001b[1;33m)\u001b[0m\u001b[1;33m\u001b[0m\u001b[1;33m\u001b[0m\u001b[0m\n\u001b[1;32m-> 2158\u001b[1;33m \u001b[1;33m\u001b[0m\u001b[0m\n\u001b[0m\u001b[0;32m   2159\u001b[0m         \u001b[1;32mif\u001b[0m \u001b[1;34m\"Line-up area\"\u001b[0m \u001b[1;32min\u001b[0m \u001b[0mself\u001b[0m\u001b[1;33m.\u001b[0m\u001b[0menv\u001b[0m\u001b[1;33m.\u001b[0m\u001b[0mFG\u001b[0m\u001b[1;33m.\u001b[0m\u001b[0mnodes\u001b[0m\u001b[1;33m[\u001b[0m\u001b[0mdestination\u001b[0m\u001b[1;33m]\u001b[0m\u001b[1;33m.\u001b[0m\u001b[0mkeys\u001b[0m\u001b[1;33m(\u001b[0m\u001b[1;33m)\u001b[0m\u001b[1;33m:\u001b[0m\u001b[1;33m\u001b[0m\u001b[1;33m\u001b[0m\u001b[0m\n\u001b[0;32m   2160\u001b[0m             \u001b[0mdest\u001b[0m \u001b[1;33m=\u001b[0m \u001b[0mshapely\u001b[0m\u001b[1;33m.\u001b[0m\u001b[0mgeometry\u001b[0m\u001b[1;33m.\u001b[0m\u001b[0mPoint\u001b[0m\u001b[1;33m(\u001b[0m\u001b[0mself\u001b[0m\u001b[1;33m.\u001b[0m\u001b[0mlineup_pos_lat\u001b[0m\u001b[1;33m,\u001b[0m\u001b[0mself\u001b[0m\u001b[1;33m.\u001b[0m\u001b[0mlineup_pos_lon\u001b[0m\u001b[1;33m)\u001b[0m\u001b[1;33m\u001b[0m\u001b[1;33m\u001b[0m\u001b[0m\n",
      "\u001b[1;32mc:\\users\\mrv\\onedrive - van oord\\software\\github\\opentnsim\\opentnsim\\core.py\u001b[0m in \u001b[0;36m__init__\u001b[1;34m(self, v, *args, **kwargs)\u001b[0m\n\u001b[0;32m   1323\u001b[0m         \u001b[0mopening_depth\u001b[0m\u001b[1;33m,\u001b[0m\u001b[1;33m\u001b[0m\u001b[1;33m\u001b[0m\u001b[0m\n\u001b[0;32m   1324\u001b[0m         \u001b[0msimulation_start\u001b[0m\u001b[1;33m,\u001b[0m\u001b[1;33m\u001b[0m\u001b[1;33m\u001b[0m\u001b[0m\n\u001b[1;32m-> 1325\u001b[1;33m         \u001b[0moperating_time\u001b[0m\u001b[1;33m,\u001b[0m\u001b[1;33m\u001b[0m\u001b[1;33m\u001b[0m\u001b[0m\n\u001b[0m\u001b[0;32m   1326\u001b[0m         \u001b[1;33m*\u001b[0m\u001b[0margs\u001b[0m\u001b[1;33m,\u001b[0m\u001b[1;33m\u001b[0m\u001b[1;33m\u001b[0m\u001b[0m\n\u001b[0;32m   1327\u001b[0m         \u001b[1;33m**\u001b[0m\u001b[0mkwargs\u001b[0m\u001b[1;33m\u001b[0m\u001b[1;33m\u001b[0m\u001b[0m\n",
      "\u001b[1;32mc:\\users\\mrv\\onedrive - van oord\\software\\github\\opentnsim\\opentnsim\\core.py\u001b[0m in \u001b[0;36m__init__\u001b[1;34m(self, geometry, *args, **kwargs)\u001b[0m\n\u001b[0;32m     76\u001b[0m     \"\"\"Mixin class: Something with a geometry (geojson format)\n\u001b[0;32m     77\u001b[0m \u001b[1;33m\u001b[0m\u001b[0m\n\u001b[1;32m---> 78\u001b[1;33m     \u001b[1;33m-\u001b[0m \u001b[0mgeometry\u001b[0m\u001b[1;33m:\u001b[0m \u001b[0mcan\u001b[0m \u001b[0mbe\u001b[0m \u001b[0ma\u001b[0m \u001b[0mpoint\u001b[0m \u001b[1;32mas\u001b[0m \u001b[0mwell\u001b[0m \u001b[1;32mas\u001b[0m \u001b[0ma\u001b[0m \u001b[0mpolygon\u001b[0m\u001b[1;33m\u001b[0m\u001b[1;33m\u001b[0m\u001b[0m\n\u001b[0m\u001b[0;32m     79\u001b[0m     \"\"\"\n\u001b[0;32m     80\u001b[0m \u001b[1;33m\u001b[0m\u001b[0m\n",
      "\u001b[1;32mc:\\users\\mrv\\onedrive - van oord\\software\\github\\opentnsim\\opentnsim\\core.py\u001b[0m in \u001b[0;36m__init__\u001b[1;34m(self, type, B, L, h_min, T, H_e, H_f, T_e, T_f, *args, **kwargs)\u001b[0m\n\u001b[0;32m    192\u001b[0m             \u001b[0mh_min\u001b[0m\u001b[1;33m=\u001b[0m\u001b[1;32mNone\u001b[0m\u001b[1;33m,\u001b[0m\u001b[1;33m\u001b[0m\u001b[1;33m\u001b[0m\u001b[0m\n\u001b[0;32m    193\u001b[0m             \u001b[0mT\u001b[0m\u001b[1;33m=\u001b[0m\u001b[1;32mNone\u001b[0m\u001b[1;33m,\u001b[0m\u001b[1;33m\u001b[0m\u001b[1;33m\u001b[0m\u001b[0m\n\u001b[1;32m--> 194\u001b[1;33m             \u001b[0mH_e\u001b[0m\u001b[1;33m=\u001b[0m\u001b[1;32mNone\u001b[0m\u001b[1;33m,\u001b[0m\u001b[1;33m\u001b[0m\u001b[1;33m\u001b[0m\u001b[0m\n\u001b[0m\u001b[0;32m    195\u001b[0m             \u001b[0mH_f\u001b[0m\u001b[1;33m=\u001b[0m\u001b[1;32mNone\u001b[0m\u001b[1;33m,\u001b[0m\u001b[1;33m\u001b[0m\u001b[1;33m\u001b[0m\u001b[0m\n\u001b[0;32m    196\u001b[0m             \u001b[0mT_e\u001b[0m\u001b[1;33m=\u001b[0m\u001b[1;32mNone\u001b[0m\u001b[1;33m,\u001b[0m\u001b[1;33m\u001b[0m\u001b[1;33m\u001b[0m\u001b[0m\n",
      "\u001b[1;32mc:\\users\\mrv\\onedrive - van oord\\software\\github\\opentnsim\\opentnsim\\core.py\u001b[0m in \u001b[0;36m__init__\u001b[1;34m(self, route, complete_path, *args, **kwargs)\u001b[0m\n\u001b[0;32m   1124\u001b[0m                     \u001b[1;32mif\u001b[0m \u001b[0mself\u001b[0m\u001b[1;33m.\u001b[0m\u001b[0mL_w\u001b[0m \u001b[1;33m==\u001b[0m \u001b[1;36m1\u001b[0m\u001b[1;33m:\u001b[0m  \u001b[1;31m#\u001b[0m\u001b[1;33m\u001b[0m\u001b[1;33m\u001b[0m\u001b[0m\n\u001b[0;32m   1125\u001b[0m                         self.C_partial_load_NOX = self.C_partial_load.iloc[\n\u001b[1;32m-> 1126\u001b[1;33m                             19, 3]  # Stage V: IWP/IWA-v/c-3 class (vessels with P <300 kW: assumed to be weight class L1)\n\u001b[0m\u001b[0;32m   1127\u001b[0m                     \u001b[1;32melse\u001b[0m\u001b[1;33m:\u001b[0m\u001b[1;33m\u001b[0m\u001b[1;33m\u001b[0m\u001b[0m\n\u001b[0;32m   1128\u001b[0m                         self.C_partial_load_NOX = self.C_partial_load.iloc[\n",
      "\u001b[1;32mc:\\users\\mrv\\onedrive - van oord\\software\\github\\opentnsim\\opentnsim\\core.py\u001b[0m in \u001b[0;36m__init__\u001b[1;34m(self, *args, **kwargs)\u001b[0m\n\u001b[0;32m    134\u001b[0m \u001b[1;33m\u001b[0m\u001b[0m\n\u001b[0;32m    135\u001b[0m \u001b[1;32mclass\u001b[0m \u001b[0mLog\u001b[0m\u001b[1;33m(\u001b[0m\u001b[0mSimpyObject\u001b[0m\u001b[1;33m)\u001b[0m\u001b[1;33m:\u001b[0m\u001b[1;33m\u001b[0m\u001b[1;33m\u001b[0m\u001b[0m\n\u001b[1;32m--> 136\u001b[1;33m     \"\"\"Mixin class: Something that has logging capability\n\u001b[0m\u001b[0;32m    137\u001b[0m \u001b[1;33m\u001b[0m\u001b[0m\n\u001b[0;32m    138\u001b[0m     \u001b[0mlog\u001b[0m\u001b[1;33m:\u001b[0m \u001b[0mlog\u001b[0m \u001b[0mmessage\u001b[0m \u001b[1;33m[\u001b[0m\u001b[0mformat\u001b[0m\u001b[1;33m:\u001b[0m \u001b[1;34m'start activity'\u001b[0m \u001b[1;32mor\u001b[0m \u001b[1;34m'stop activity'\u001b[0m\u001b[1;33m]\u001b[0m\u001b[1;33m\u001b[0m\u001b[1;33m\u001b[0m\u001b[0m\n",
      "\u001b[1;32mc:\\users\\mrv\\onedrive - van oord\\software\\github\\opentnsim\\opentnsim\\core.py\u001b[0m in \u001b[0;36m__init__\u001b[1;34m(self, capacity, level, total_requested, *args, **kwargs)\u001b[0m\n\u001b[0;32m    111\u001b[0m         \u001b[0mself\u001b[0m\u001b[1;33m.\u001b[0m\u001b[0mpos_length\u001b[0m \u001b[1;33m=\u001b[0m \u001b[0msimpy\u001b[0m\u001b[1;33m.\u001b[0m\u001b[0mContainer\u001b[0m\u001b[1;33m(\u001b[0m\u001b[0mself\u001b[0m\u001b[1;33m.\u001b[0m\u001b[0menv\u001b[0m\u001b[1;33m,\u001b[0m \u001b[0mcapacity\u001b[0m \u001b[1;33m=\u001b[0m \u001b[0mlength\u001b[0m\u001b[1;33m,\u001b[0m \u001b[0minit\u001b[0m\u001b[1;33m=\u001b[0m\u001b[0mremaining_length\u001b[0m\u001b[1;33m)\u001b[0m\u001b[1;33m\u001b[0m\u001b[1;33m\u001b[0m\u001b[0m\n\u001b[0;32m    112\u001b[0m \u001b[1;33m\u001b[0m\u001b[0m\n\u001b[1;32m--> 113\u001b[1;33m \u001b[1;32mclass\u001b[0m \u001b[0mHasContainer\u001b[0m\u001b[1;33m(\u001b[0m\u001b[0mSimpyObject\u001b[0m\u001b[1;33m)\u001b[0m\u001b[1;33m:\u001b[0m\u001b[1;33m\u001b[0m\u001b[1;33m\u001b[0m\u001b[0m\n\u001b[0m\u001b[0;32m    114\u001b[0m     \"\"\"Mixin class: Something with a storage capacity\n\u001b[0;32m    115\u001b[0m     \u001b[0mcapacity\u001b[0m\u001b[1;33m:\u001b[0m \u001b[0mamount\u001b[0m \u001b[0mthe\u001b[0m \u001b[0mcontainer\u001b[0m \u001b[0mcan\u001b[0m \u001b[0mhold\u001b[0m\u001b[1;33m\u001b[0m\u001b[1;33m\u001b[0m\u001b[0m\n",
      "\u001b[1;31mTypeError\u001b[0m: __init__() missing 1 required positional argument: 'env'"
     ]
    }
   ],
   "source": [
    "# prepare input data for vessel_01\n",
    "data_vessel01 = {\"env\": my_env,\n",
    "                 \"name\": \"vessel01\",\n",
    "                 \"geometry\": location_from_site, \n",
    "                 \"loading_rate\": 0.00001,\n",
    "                 \"unloading_rate\": 0.00001,\n",
    "                 \"capacity\": 4,\n",
    "                 \"compute_v\": lambda x: 10,\n",
    "                 # TODO: confirm these numbers\n",
    "                 'P_installed': 2200, \n",
    "                 'L_w': 15, \n",
    "                 'C_b': 0.85, \n",
    "                 'current_year': 2022,  \n",
    "                 'c_year': 1990,\n",
    "                 'type': 'a',\n",
    "                 'B': 11,\n",
    "                 'L': 135,\n",
    "                 'T': 2.5,\n",
    "                 'route': None\n",
    "               }\n",
    "# instantiate vessel_01 \n",
    "vessel01 = TransportProcessingResource(**data_vessel01)\n",
    "\n",
    "# # monkeypatch with L\n",
    "# vessel01.L = 227\n",
    "# vessel01.B = 32\n",
    "# vessel01.T = 17\n"
   ]
  },
  {
   "cell_type": "markdown",
   "metadata": {},
   "source": [
    "##### 3.3 Create activity/activities"
   ]
  },
  {
   "cell_type": "code",
   "execution_count": 19,
   "metadata": {},
   "outputs": [],
   "source": [
    "# initialise registry\n",
    "registry = {}"
   ]
  },
  {
   "cell_type": "code",
   "execution_count": 20,
   "metadata": {},
   "outputs": [
    {
     "ename": "NameError",
     "evalue": "name 'vessel01' is not defined",
     "output_type": "error",
     "traceback": [
      "\u001b[1;31m---------------------------------------------------------------------------\u001b[0m",
      "\u001b[1;31mNameError\u001b[0m                                 Traceback (most recent call last)",
      "\u001b[1;32m<ipython-input-20-2fa5855b5724>\u001b[0m in \u001b[0;36m<module>\u001b[1;34m\u001b[0m\n\u001b[0;32m      5\u001b[0m         \u001b[0mname\u001b[0m\u001b[1;33m=\u001b[0m\u001b[1;34m\"sailing empty\"\u001b[0m\u001b[1;33m,\u001b[0m\u001b[1;33m\u001b[0m\u001b[1;33m\u001b[0m\u001b[0m\n\u001b[0;32m      6\u001b[0m         \u001b[0mregistry\u001b[0m\u001b[1;33m=\u001b[0m\u001b[0mregistry\u001b[0m\u001b[1;33m,\u001b[0m\u001b[1;33m\u001b[0m\u001b[1;33m\u001b[0m\u001b[0m\n\u001b[1;32m----> 7\u001b[1;33m         \u001b[0mmover\u001b[0m\u001b[1;33m=\u001b[0m\u001b[0mvessel01\u001b[0m\u001b[1;33m,\u001b[0m\u001b[1;33m\u001b[0m\u001b[1;33m\u001b[0m\u001b[0m\n\u001b[0m\u001b[0;32m      8\u001b[0m         \u001b[0mdestination\u001b[0m\u001b[1;33m=\u001b[0m\u001b[0mfrom_site\u001b[0m\u001b[1;33m,\u001b[0m\u001b[1;33m\u001b[0m\u001b[1;33m\u001b[0m\u001b[0m\n\u001b[0;32m      9\u001b[0m     ),\n",
      "\u001b[1;31mNameError\u001b[0m: name 'vessel01' is not defined"
     ]
    }
   ],
   "source": [
    "# create a list of the sub processes\n",
    "sub_processes = [\n",
    "    model.MoveActivity(\n",
    "        env=my_env,\n",
    "        name=\"sailing empty\",\n",
    "        registry=registry,\n",
    "        mover=vessel01,\n",
    "        destination=from_site,\n",
    "    ),\n",
    "    model.ShiftAmountActivity(\n",
    "        env=my_env,\n",
    "        name=\"loading\",\n",
    "        registry=registry,\n",
    "        processor=vessel01,\n",
    "        origin=from_site,\n",
    "        destination=vessel01,\n",
    "        amount=4,\n",
    "        duration=1000,\n",
    "    ),\n",
    "    model.MoveActivity(\n",
    "        env=my_env,\n",
    "        name=\"sailing full\",\n",
    "        registry=registry,\n",
    "        mover=vessel01,\n",
    "        destination=to_site,\n",
    "    ),\n",
    "    model.ShiftAmountActivity(\n",
    "        env=my_env,\n",
    "        name=\"unloading\",\n",
    "        registry=registry,\n",
    "        processor=vessel01,\n",
    "        origin=vessel01,\n",
    "        destination=to_site,\n",
    "        amount=4,\n",
    "        duration=1000,\n",
    "    ),\n",
    "    model.BasicActivity(\n",
    "        env=my_env,\n",
    "        name=\"basic activity\",\n",
    "        registry=registry,\n",
    "        duration=0,\n",
    "        additional_logs=[vessel01],\n",
    "    ),\n",
    "]\n",
    "\n",
    "# create a 'sequential activity' that is made up of the 'sub_processes'\n",
    "sequential_activity = model.SequentialActivity(\n",
    "    env=my_env,\n",
    "    name=\"sequential_activity_subcycle\",\n",
    "    registry=registry,\n",
    "    sub_processes=sub_processes,\n",
    ")\n",
    "\n",
    "# create a while activity that executes the 'sequential activity' while the stop condition is not triggered \n",
    "while_activity = model.WhileActivity(\n",
    "    env=my_env,\n",
    "    name=\"while_sequential_activity_subcycle\",\n",
    "    registry=registry,\n",
    "    sub_processes=[sequential_activity],\n",
    "    condition_event=[{\"type\": \"container\", \"concept\": to_site, \"state\": \"full\"}],\n",
    ")"
   ]
  },
  {
   "cell_type": "markdown",
   "metadata": {},
   "source": [
    "#### 4. Register processes and run simpy"
   ]
  },
  {
   "cell_type": "code",
   "execution_count": null,
   "metadata": {},
   "outputs": [],
   "source": [
    "# initate the simpy processes defined in the 'while activity' and run simpy\n",
    "model.register_processes([while_activity])\n",
    "my_env.run()"
   ]
  },
  {
   "cell_type": "code",
   "execution_count": null,
   "metadata": {},
   "outputs": [],
   "source": [
    "# This is the power used to do the last move step\n",
    "# TODO: \n",
    "# - remember P_given for each move step (kWh for last move step -> list of steps)\n",
    "# - adapt T for each step\n",
    "# - Sum up the P_given over duration of move activity (kW - kWh)\n",
    "# - acceleration is not included (do small steps where you increase velocity), use power2v to compute velocity\n",
    "# - OR: increase power and compute v (more elegant, scipy integrate...)\n",
    "\n",
    "\n",
    "vessel01.P_given"
   ]
  },
  {
   "cell_type": "markdown",
   "metadata": {},
   "source": [
    "#### 5. Inspect results\n",
    "##### 5.1 Inspect logs"
   ]
  },
  {
   "cell_type": "code",
   "execution_count": null,
   "metadata": {
    "scrolled": false
   },
   "outputs": [],
   "source": [
    "plot.get_log_dataframe(vessel01, [while_activity, *sub_processes, sequential_activity])"
   ]
  },
  {
   "cell_type": "markdown",
   "metadata": {},
   "source": [
    "##### 5.2 Visualise gantt charts"
   ]
  },
  {
   "cell_type": "code",
   "execution_count": null,
   "metadata": {},
   "outputs": [],
   "source": [
    "plot.get_gantt_chart([while_activity, sequential_activity, *sub_processes])"
   ]
  },
  {
   "cell_type": "code",
   "execution_count": null,
   "metadata": {},
   "outputs": [],
   "source": [
    "plot.get_gantt_chart([vessel01, from_site, to_site])"
   ]
  },
  {
   "cell_type": "markdown",
   "metadata": {},
   "source": [
    "##### 5.3 Visualise container volume developments"
   ]
  },
  {
   "cell_type": "code",
   "execution_count": null,
   "metadata": {},
   "outputs": [],
   "source": [
    "fig = plot.get_step_chart([vessel01, from_site, to_site])"
   ]
  },
  {
   "cell_type": "markdown",
   "metadata": {},
   "source": [
    "#### Sandbox"
   ]
  },
  {
   "cell_type": "code",
   "execution_count": null,
   "metadata": {},
   "outputs": [],
   "source": [
    "pd.DataFrame.from_dict(vessel01.log)"
   ]
  },
  {
   "cell_type": "code",
   "execution_count": null,
   "metadata": {},
   "outputs": [],
   "source": [
    "list(set(vessel01.log[\"ActivityID\"]))"
   ]
  },
  {
   "cell_type": "code",
   "execution_count": null,
   "metadata": {},
   "outputs": [],
   "source": [
    "energycalculation = opentnsim.energy.EnergyCalculation([], vessel01)\n",
    "energycalculation.calculate_energy_consumption()\n",
    "df = pd.DataFrame.from_dict(energycalculation.energy_use)"
   ]
  },
  {
   "cell_type": "code",
   "execution_count": null,
   "metadata": {},
   "outputs": [],
   "source": [
    "energycalculation.calculate_energy_consumption()"
   ]
  },
  {
   "cell_type": "code",
   "execution_count": null,
   "metadata": {},
   "outputs": [],
   "source": []
  }
 ],
 "metadata": {
  "kernelspec": {
   "display_name": "Python 3",
   "language": "python",
   "name": "python3"
  },
  "language_info": {
   "codemirror_mode": {
    "name": "ipython",
    "version": 3
   },
   "file_extension": ".py",
   "mimetype": "text/x-python",
   "name": "python",
   "nbconvert_exporter": "python",
   "pygments_lexer": "ipython3",
   "version": "3.8.6"
  }
 },
 "nbformat": 4,
 "nbformat_minor": 2
}
