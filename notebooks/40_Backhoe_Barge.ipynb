{
 "cells": [
  {
   "cell_type": "markdown",
   "id": "685154c6",
   "metadata": {},
   "source": [
    "## Backhoe Barge Hopper Simulation\n",
    "\n",
    "This notebook is used to simulate different setups for three types of equipment available to be used for maintenance dreding as follows.\n",
    "\n",
    "* Backhoe Dredger that uses separate identical barges to transport the dredged sediments to the designated dump location.\n",
    "* Trailing Suction Hopper Dredger (TSHD) that moves back and forth to dredge the sediments and make sure that the berth location is fully dredged.\n",
    "\n",
    "The scenarios vary based on the type of equipment being used, number of equipment from each type, and the total amount of sediment being dredged.\n",
    "The simulations are done for one Backhoe dredger that incorporates multiple identical barges to re-allocate the dredged sediments. Moreover, TSHDs can be also used for the re-allocation of sediments. All the dredged material are discharged in the dump location.\n",
    "\n",
    "You can refer to the following references to get more information on how this simulation works.\n",
    "\n",
    " * https://github.com/TUDelft-CITG/OpenCLSim/blob/master/notebooks/34_fleet_optimization.ipynb\n",
    " * https://pure.tudelft.nl/ws/portalfiles/portal/161150813/Terra_et_Aqua_170_Summer_2023_TECHNICAL_single_pages.pdf\n",
    "\n",
    "Multiple simulation scenarios are developed to compare how duration and emission of the whole project change with different types and numbers of equipment.\n",
    "\n",
    "The fleet list can be found here: https://www.iadc-dredging.com/publication/iadc-fleet-list-2023-2/ "
   ]
  },
  {
   "cell_type": "markdown",
   "id": "9c22bf48",
   "metadata": {},
   "source": [
    "### 0. Import libraries\n",
    "Libraries are imported which can be used for defining the objects in the simulation, implement the simulation, and visualize the results."
   ]
  },
  {
   "cell_type": "code",
   "execution_count": 183,
   "id": "d055e0b6",
   "metadata": {},
   "outputs": [],
   "source": [
    "# libraries used for numerical and data analysis\n",
    "import pandas as pd\n",
    "import shapely\n",
    "from numpy import random\n",
    "\n",
    "# libraries used for the simulation\n",
    "import simpy\n",
    "import openclsim.core as core\n",
    "import openclsim.model as model\n",
    "import openclsim.plot as plot"
   ]
  },
  {
   "cell_type": "markdown",
   "id": "62ca1b2a",
   "metadata": {},
   "source": [
    "### 1. Define object classes\n",
    "Object classes are used to assign different attributes to objects (Sites for important locations and TransportProcessingResource for vessels).\n",
    "\n",
    "They are basically referred to the source code of OpenCLSim by calling the classes that are used to define these attributes."
   ]
  },
  {
   "cell_type": "code",
   "execution_count": 184,
   "id": "5785e657",
   "metadata": {},
   "outputs": [],
   "source": [
    "Site = type(\n",
    "    \"Site\",\n",
    "    (\n",
    "        core.Identifiable,\n",
    "        core.Log,\n",
    "        core.Locatable,\n",
    "        core.HasContainer,\n",
    "        core.HasResource,\n",
    "    ),\n",
    "    {},\n",
    ")\n",
    "TransportProcessingResource = type(\n",
    "    \"TransportProcessingResource\",\n",
    "    (\n",
    "        core.Identifiable,\n",
    "        core.ContainerDependentMovable,\n",
    "        core.Processor,\n",
    "        core.HasResource,\n",
    "        core.Log,\n",
    "    ),\n",
    "    {},\n",
    ")"
   ]
  },
  {
   "cell_type": "markdown",
   "id": "1c95e1ce",
   "metadata": {},
   "source": [
    "### 2. Define objects (sites, vessels, and activities) and run the simulation\n",
    "\n",
    "The following code defines all the objects being used during the simulation (sites and vessels) and the activities that trigger the simulation for these objects.\n",
    "\n",
    "The main structure of the simulation consists of the following items:\n",
    "* define the simulation run that consists of variables that can be controlled during the simulation\n",
    "* define the simulation environment along with start/stop time for the simulation\n",
    "* define the registry that makes sure all the processes are registered within the simulation environment\n",
    "* define the sites (berth, dump, etc.) with their specific characteristics\n",
    "* define the vessels with their specific characteristics (the number of vessels of the same type can also be controlled in the simulation)\n",
    "* define the activities that are used to simulate the processes for vessels among the sites\n",
    "* the desired processes should be registered before running the simulation"
   ]
  },
  {
   "cell_type": "code",
   "execution_count": 185,
   "id": "43916251",
   "metadata": {},
   "outputs": [],
   "source": [
    "def run(nr_tshd, nr_barge, total_amount):\n",
    "    simulation_start = 0\n",
    "    my_env = simpy.Environment(initial_time=simulation_start)\n",
    "    registry = {}\n",
    "\n",
    "    \n",
    "    #create site objects\n",
    "    location_berth = shapely.geometry.Point(4.18055556, 52.18664444)\n",
    "    data_berth = {\"env\": my_env,\n",
    "                      \"name\": \"berth\",\n",
    "                      \"geometry\": location_berth,\n",
    "                      \"capacity\": total_amount,\n",
    "                      \"level\": total_amount,\n",
    "                      \"nr_resources\":2}\n",
    "    berth = Site(**data_berth)\n",
    "\n",
    "    location_dump = shapely.geometry.Point(4.25222222, 52.11428333)\n",
    "    data_dump = {\"env\": my_env,\n",
    "                    \"name\": \"dump\",\n",
    "                    \"geometry\": location_dump,\n",
    "                    \"capacity\": total_amount,\n",
    "                    \"level\": 0,\n",
    "                    \"nr_resources\":2}\n",
    "    dump = Site(**data_dump)\n",
    "    \n",
    "    #create vessel objects\n",
    "    vessels = {}\n",
    "    \n",
    "    for i in range (nr_tshd):\n",
    "        vessels[f\"tshd{i}\"] = TransportProcessingResource(\n",
    "            env=my_env,\n",
    "            name=f\"tshd{i}\",\n",
    "            geometry=location_dump,\n",
    "            capacity=2000,\n",
    "            compute_v=lambda x: 10\n",
    "        )\n",
    "    tshd = TransportProcessingResource(\n",
    "        env=my_env,\n",
    "        name=f\"tshd{i}\",\n",
    "        geometry=location_dump,\n",
    "        capacity=2000,\n",
    "        compute_v=lambda x: 10\n",
    "    )\n",
    "    for i in range (nr_barge):\n",
    "        vessels[f\"barge{i}\"] = TransportProcessingResource(\n",
    "            env=my_env,\n",
    "            name=f\"barge{i}\",\n",
    "            geometry=location_dump,\n",
    "            capacity=4000,\n",
    "            compute_v=lambda x: 7\n",
    "        )\n",
    "    backhoe = TransportProcessingResource(\n",
    "        env=my_env,\n",
    "        name=\"backhoe\",\n",
    "        geometry=location_berth,\n",
    "        capacity=0,\n",
    "        compute_v=lambda x: 0\n",
    "    )\n",
    "    \n",
    "    vessels['tshd'] = tshd\n",
    "    vessels['backhoe'] = backhoe\n",
    "       \n",
    "    activities_tshd = {}\n",
    "    \n",
    "    for i in range (nr_tshd):\n",
    "        requested_resources={}\n",
    "\n",
    "        \n",
    "        subprocesses_tshd = [\n",
    "        model.MoveActivity(\n",
    "                        env=my_env,\n",
    "                        name=f\"sailing empty: \"+vessels[f\"tshd{i}\"].name,\n",
    "                        registry=registry,\n",
    "                        mover=vessels[f\"tshd{i}\"],\n",
    "                        destination=berth,\n",
    "                        duration=1*3600,\n",
    "                    ),\n",
    "        model.ShiftAmountActivity(\n",
    "                        env=my_env,\n",
    "                        name=f\"loading: \"+vessels[f\"tshd{i}\"].name,\n",
    "                        registry=registry,\n",
    "                        processor=vessels[f\"tshd{i}\"],\n",
    "                        origin=berth,\n",
    "                        destination=vessels[f\"tshd{i}\"],\n",
    "                        amount=2000,\n",
    "                        duration=2*3600,\n",
    "                        requested_resources=requested_resources,\n",
    "                    ),\n",
    "        model.MoveActivity(\n",
    "                        env=my_env,\n",
    "                        name=f\"sailing full: \"+vessels[f\"tshd{i}\"].name,\n",
    "                        registry=registry,\n",
    "                        mover=vessels[f\"tshd{i}\"],\n",
    "                        destination=dump,\n",
    "                        duration=1.5*3600,\n",
    "                    ),\n",
    "        model.ShiftAmountActivity(\n",
    "                        env=my_env,\n",
    "                        name=f\"unloading: \"+vessels[f\"tshd{i}\"].name,\n",
    "                        registry=registry,\n",
    "                        processor=vessels[f\"tshd{i}\"],\n",
    "                        origin=vessels[f\"tshd{i}\"],\n",
    "                        destination=dump,\n",
    "                        amount=2000,\n",
    "                        duration=0.5*3600,\n",
    "                        requested_resources=requested_resources,\n",
    "                    )\n",
    "        ]\n",
    "        \n",
    "        activities_tshd[f\"activity{i}\"] = model.WhileActivity(\n",
    "            env=my_env,\n",
    "            name=f\"while_sequential_activity_subcycle_tshd{i}\",\n",
    "            registry=registry,\n",
    "            sub_processes=[model.SequentialActivity(\n",
    "                env=my_env,\n",
    "                name=f\"sequential_activity_subcycle_tshd{i}\",\n",
    "                registry=registry,\n",
    "                sub_processes= subprocesses_tshd\n",
    "            )],\n",
    "             condition_event=[{\"type\": \"container\",\n",
    "                              \"concept\": berth,\n",
    "                              \"state\": \"empty\",\n",
    "                              \"id_\":\"default_reservations\"}\n",
    "                             ]\n",
    "        )\n",
    "\n",
    "\n",
    "    \n",
    "    activities_backhoe_barge = {}\n",
    "\n",
    "    for i in range (nr_barge):\n",
    "        requested_resources={}\n",
    "\n",
    "        subprocesses_backhoe_barge = [\n",
    "        model.MoveActivity(\n",
    "                        env=my_env,\n",
    "                        name=f\"sailing empty:\"+vessels[f\"barge{i}\"].name,\n",
    "                        registry=registry,\n",
    "                        mover=vessels[f\"barge{i}\"],\n",
    "                        destination=berth,\n",
    "                        duration=1*3600,\n",
    "                    ),\n",
    "        model.ShiftAmountActivity(\n",
    "                        env=my_env,\n",
    "                        name=f\"loading:\"+vessels[f\"barge{i}\"].name,\n",
    "                        registry=registry,\n",
    "                        processor=backhoe,\n",
    "                        origin=berth,\n",
    "                        destination=vessels[f\"barge{i}\"],\n",
    "                        amount=4000,\n",
    "                        duration=4*3600,\n",
    "                        requested_resources=requested_resources,\n",
    "                    ),\n",
    "        model.MoveActivity(\n",
    "                        env=my_env,\n",
    "                        name=f\"sailing full:\"+vessels[f\"barge{i}\"].name,\n",
    "                        registry=registry,\n",
    "                        mover=vessels[f\"barge{i}\"],\n",
    "                        destination=dump,\n",
    "                        duration=1.5*3600,\n",
    "                    ),\n",
    "        model.ShiftAmountActivity(\n",
    "                        env=my_env,\n",
    "                        name=f\"unloading: \"+vessels[f\"barge{i}\"].name,\n",
    "                        registry=registry,\n",
    "                        processor=vessels[f\"barge{i}\"],\n",
    "                        origin=vessels[f\"barge{i}\"],\n",
    "                        destination=dump,\n",
    "                        amount=4000,\n",
    "                        duration=0.5*3600,\n",
    "                        requested_resources=requested_resources,\n",
    "                    )\n",
    "        ]\n",
    "         \n",
    "        activities_backhoe_barge[f\"activity{i}\"] = model.WhileActivity(\n",
    "            env=my_env,\n",
    "            name=f\"while_sequential_activity_subcycle_barge{i}\",\n",
    "            registry=registry,\n",
    "            sub_processes=[model.SequentialActivity(\n",
    "                env=my_env,\n",
    "                name=f\"sequential_activity_subcycle_barge{i}\",\n",
    "                registry=registry,\n",
    "                sub_processes= subprocesses_backhoe_barge,\n",
    "            )],\n",
    "             condition_event=[{\"type\": \"container\",\n",
    "                              \"concept\": berth,\n",
    "                              \"state\": \"empty\",\n",
    "                              \"id_\":\"default_reservations\"}\n",
    "                             ]\n",
    "        )        \n",
    "                           \n",
    "    model.register_processes([*activities_tshd.values(), *activities_backhoe_barge.values()])\n",
    "    my_env.run()\n",
    "    \n",
    "    return {\n",
    "        \"vessels\": vessels,\n",
    "        \"activities_tshd\": activities_tshd,\n",
    "        \"activities_backhoe_barge\": activities_backhoe_barge,\n",
    "        \"berth\":berth,\n",
    "        \"dump\":dump,\n",
    "    }"
   ]
  },
  {
   "cell_type": "markdown",
   "id": "207d82a7",
   "metadata": {},
   "source": [
    "### 3. Control the problem variables and show the output\n",
    "The problem variables need to be controled to determine the simulation output for different scenarios."
   ]
  },
  {
   "cell_type": "code",
   "execution_count": 186,
   "id": "21b2b98c",
   "metadata": {},
   "outputs": [
    {
     "name": "stdout",
     "output_type": "stream",
     "text": [
      "mover tshd0 destination berth\n",
      "mover tshd1 destination berth\n",
      "mover barge0 destination berth\n",
      "mover barge1 destination berth\n",
      "updating to destination geometry POINT (4.18055556 52.18664444)\n",
      "updating to destination geometry POINT (4.18055556 52.18664444)\n",
      "updating to destination geometry POINT (4.18055556 52.18664444)\n",
      "updating to destination geometry POINT (4.18055556 52.18664444)\n",
      "mover tshd0 destination dump\n",
      "mover tshd1 destination dump\n",
      "updating to destination geometry POINT (4.25222222 52.11428333)\n",
      "updating to destination geometry POINT (4.25222222 52.11428333)\n",
      "mover tshd0 destination berth\n",
      "mover tshd1 destination berth\n",
      "updating to destination geometry POINT (4.18055556 52.18664444)\n",
      "updating to destination geometry POINT (4.18055556 52.18664444)\n",
      "mover barge0 destination dump\n",
      "mover tshd0 destination dump\n",
      "updating to destination geometry POINT (4.25222222 52.11428333)\n",
      "mover tshd1 destination dump\n",
      "mover barge0 destination berth\n",
      "updating to destination geometry POINT (4.25222222 52.11428333)\n",
      "updating to destination geometry POINT (4.18055556 52.18664444)\n",
      "mover tshd0 destination berth\n",
      "updating to destination geometry POINT (4.25222222 52.11428333)\n",
      "updating to destination geometry POINT (4.18055556 52.18664444)\n",
      "mover tshd1 destination berth\n",
      "updating to destination geometry POINT (4.18055556 52.18664444)\n",
      "mover barge1 destination dump\n",
      "mover tshd0 destination dump\n",
      "updating to destination geometry POINT (4.25222222 52.11428333)\n",
      "mover barge1 destination berth\n",
      "updating to destination geometry POINT (4.25222222 52.11428333)\n",
      "updating to destination geometry POINT (4.18055556 52.18664444)\n",
      "mover tshd1 destination dump\n",
      "mover tshd0 destination berth\n",
      "updating to destination geometry POINT (4.18055556 52.18664444)\n",
      "mover barge0 destination dump\n",
      "updating to destination geometry POINT (4.25222222 52.11428333)\n",
      "updating to destination geometry POINT (4.25222222 52.11428333)\n",
      "mover tshd0 destination dump\n",
      "updating to destination geometry POINT (4.25222222 52.11428333)\n",
      "mover barge1 destination dump\n",
      "updating to destination geometry POINT (4.25222222 52.11428333)\n"
     ]
    }
   ],
   "source": [
    "nr_barges = 2\n",
    "nr_tshds = 2\n",
    "total_amount = 30000\n",
    "res = run(nr_barges, nr_tshds , total_amount)\n",
    "vessels = res['vessels']\n",
    "activities_backhoe_barge = res['activities_backhoe_barge']\n",
    "activities_tshd = res['activities_tshd']\n",
    "berth = res['berth']\n",
    "dump = res['dump']"
   ]
  },
  {
   "cell_type": "markdown",
   "id": "1b7a3bc5",
   "metadata": {},
   "source": [
    "### 4. Visualizing the results"
   ]
  },
  {
   "cell_type": "markdown",
   "id": "0d642bc8",
   "metadata": {},
   "source": [
    "#### 4.1. Vessel data log\n",
    "Vessels' logs can be obtained by a pre-defined function (get_log_dataframe) in OpenCLSim."
   ]
  },
  {
   "cell_type": "code",
   "execution_count": 187,
   "id": "fbf53501",
   "metadata": {},
   "outputs": [
    {
     "data": {
      "text/html": [
       "<div>\n",
       "<style scoped>\n",
       "    .dataframe tbody tr th:only-of-type {\n",
       "        vertical-align: middle;\n",
       "    }\n",
       "\n",
       "    .dataframe tbody tr th {\n",
       "        vertical-align: top;\n",
       "    }\n",
       "\n",
       "    .dataframe thead th {\n",
       "        text-align: right;\n",
       "    }\n",
       "</style>\n",
       "<table border=\"1\" class=\"dataframe\">\n",
       "  <thead>\n",
       "    <tr style=\"text-align: right;\">\n",
       "      <th></th>\n",
       "      <th>Activity</th>\n",
       "      <th>Timestamp</th>\n",
       "      <th>ActivityState</th>\n",
       "      <th>container level</th>\n",
       "      <th>geometry</th>\n",
       "    </tr>\n",
       "  </thead>\n",
       "  <tbody>\n",
       "    <tr>\n",
       "      <th>0</th>\n",
       "      <td>loading: tshd0</td>\n",
       "      <td>1970-01-01 01:00:00</td>\n",
       "      <td>START</td>\n",
       "      <td>30000</td>\n",
       "      <td>POINT (4.18055556 52.18664444)</td>\n",
       "    </tr>\n",
       "    <tr>\n",
       "      <th>1</th>\n",
       "      <td>loading: tshd1</td>\n",
       "      <td>1970-01-01 01:00:00</td>\n",
       "      <td>START</td>\n",
       "      <td>28000</td>\n",
       "      <td>POINT (4.18055556 52.18664444)</td>\n",
       "    </tr>\n",
       "    <tr>\n",
       "      <th>2</th>\n",
       "      <td>loading: tshd0</td>\n",
       "      <td>1970-01-01 03:00:00</td>\n",
       "      <td>STOP</td>\n",
       "      <td>26000</td>\n",
       "      <td>POINT (4.18055556 52.18664444)</td>\n",
       "    </tr>\n",
       "    <tr>\n",
       "      <th>3</th>\n",
       "      <td>loading: tshd1</td>\n",
       "      <td>1970-01-01 03:00:00</td>\n",
       "      <td>STOP</td>\n",
       "      <td>26000</td>\n",
       "      <td>POINT (4.18055556 52.18664444)</td>\n",
       "    </tr>\n",
       "    <tr>\n",
       "      <th>4</th>\n",
       "      <td>loading:barge0</td>\n",
       "      <td>1970-01-01 03:00:00</td>\n",
       "      <td>START</td>\n",
       "      <td>26000</td>\n",
       "      <td>POINT (4.18055556 52.18664444)</td>\n",
       "    </tr>\n",
       "    <tr>\n",
       "      <th>5</th>\n",
       "      <td>loading: tshd0</td>\n",
       "      <td>1970-01-01 06:00:00</td>\n",
       "      <td>START</td>\n",
       "      <td>22000</td>\n",
       "      <td>POINT (4.18055556 52.18664444)</td>\n",
       "    </tr>\n",
       "    <tr>\n",
       "      <th>6</th>\n",
       "      <td>loading:barge0</td>\n",
       "      <td>1970-01-01 07:00:00</td>\n",
       "      <td>STOP</td>\n",
       "      <td>20000</td>\n",
       "      <td>POINT (4.18055556 52.18664444)</td>\n",
       "    </tr>\n",
       "    <tr>\n",
       "      <th>7</th>\n",
       "      <td>loading: tshd1</td>\n",
       "      <td>1970-01-01 07:00:00</td>\n",
       "      <td>START</td>\n",
       "      <td>20000</td>\n",
       "      <td>POINT (4.18055556 52.18664444)</td>\n",
       "    </tr>\n",
       "    <tr>\n",
       "      <th>8</th>\n",
       "      <td>loading: tshd0</td>\n",
       "      <td>1970-01-01 08:00:00</td>\n",
       "      <td>STOP</td>\n",
       "      <td>18000</td>\n",
       "      <td>POINT (4.18055556 52.18664444)</td>\n",
       "    </tr>\n",
       "    <tr>\n",
       "      <th>9</th>\n",
       "      <td>loading:barge1</td>\n",
       "      <td>1970-01-01 08:00:00</td>\n",
       "      <td>START</td>\n",
       "      <td>18000</td>\n",
       "      <td>POINT (4.18055556 52.18664444)</td>\n",
       "    </tr>\n",
       "    <tr>\n",
       "      <th>10</th>\n",
       "      <td>loading: tshd1</td>\n",
       "      <td>1970-01-01 09:00:00</td>\n",
       "      <td>STOP</td>\n",
       "      <td>14000</td>\n",
       "      <td>POINT (4.18055556 52.18664444)</td>\n",
       "    </tr>\n",
       "    <tr>\n",
       "      <th>11</th>\n",
       "      <td>loading: tshd0</td>\n",
       "      <td>1970-01-01 11:00:00</td>\n",
       "      <td>START</td>\n",
       "      <td>14000</td>\n",
       "      <td>POINT (4.18055556 52.18664444)</td>\n",
       "    </tr>\n",
       "    <tr>\n",
       "      <th>12</th>\n",
       "      <td>loading:barge1</td>\n",
       "      <td>1970-01-01 12:00:00</td>\n",
       "      <td>STOP</td>\n",
       "      <td>12000</td>\n",
       "      <td>POINT (4.18055556 52.18664444)</td>\n",
       "    </tr>\n",
       "    <tr>\n",
       "      <th>13</th>\n",
       "      <td>loading:barge0</td>\n",
       "      <td>1970-01-01 12:00:00</td>\n",
       "      <td>START</td>\n",
       "      <td>12000</td>\n",
       "      <td>POINT (4.18055556 52.18664444)</td>\n",
       "    </tr>\n",
       "    <tr>\n",
       "      <th>14</th>\n",
       "      <td>loading: tshd0</td>\n",
       "      <td>1970-01-01 13:00:00</td>\n",
       "      <td>STOP</td>\n",
       "      <td>8000</td>\n",
       "      <td>POINT (4.18055556 52.18664444)</td>\n",
       "    </tr>\n",
       "    <tr>\n",
       "      <th>15</th>\n",
       "      <td>loading: tshd1</td>\n",
       "      <td>1970-01-01 13:00:00</td>\n",
       "      <td>START</td>\n",
       "      <td>8000</td>\n",
       "      <td>POINT (4.18055556 52.18664444)</td>\n",
       "    </tr>\n",
       "    <tr>\n",
       "      <th>16</th>\n",
       "      <td>loading: tshd1</td>\n",
       "      <td>1970-01-01 15:00:00</td>\n",
       "      <td>STOP</td>\n",
       "      <td>6000</td>\n",
       "      <td>POINT (4.18055556 52.18664444)</td>\n",
       "    </tr>\n",
       "    <tr>\n",
       "      <th>17</th>\n",
       "      <td>loading:barge0</td>\n",
       "      <td>1970-01-01 16:00:00</td>\n",
       "      <td>STOP</td>\n",
       "      <td>6000</td>\n",
       "      <td>POINT (4.18055556 52.18664444)</td>\n",
       "    </tr>\n",
       "    <tr>\n",
       "      <th>18</th>\n",
       "      <td>loading:barge1</td>\n",
       "      <td>1970-01-01 16:00:00</td>\n",
       "      <td>START</td>\n",
       "      <td>6000</td>\n",
       "      <td>POINT (4.18055556 52.18664444)</td>\n",
       "    </tr>\n",
       "    <tr>\n",
       "      <th>19</th>\n",
       "      <td>loading: tshd0</td>\n",
       "      <td>1970-01-01 16:00:00</td>\n",
       "      <td>START</td>\n",
       "      <td>2000</td>\n",
       "      <td>POINT (4.18055556 52.18664444)</td>\n",
       "    </tr>\n",
       "    <tr>\n",
       "      <th>20</th>\n",
       "      <td>loading: tshd0</td>\n",
       "      <td>1970-01-01 18:00:00</td>\n",
       "      <td>STOP</td>\n",
       "      <td>0</td>\n",
       "      <td>POINT (4.18055556 52.18664444)</td>\n",
       "    </tr>\n",
       "    <tr>\n",
       "      <th>21</th>\n",
       "      <td>loading:barge1</td>\n",
       "      <td>1970-01-01 20:00:00</td>\n",
       "      <td>STOP</td>\n",
       "      <td>0</td>\n",
       "      <td>POINT (4.18055556 52.18664444)</td>\n",
       "    </tr>\n",
       "  </tbody>\n",
       "</table>\n",
       "</div>"
      ],
      "text/plain": [
       "          Activity           Timestamp ActivityState  container level  \\\n",
       "0   loading: tshd0 1970-01-01 01:00:00         START            30000   \n",
       "1   loading: tshd1 1970-01-01 01:00:00         START            28000   \n",
       "2   loading: tshd0 1970-01-01 03:00:00          STOP            26000   \n",
       "3   loading: tshd1 1970-01-01 03:00:00          STOP            26000   \n",
       "4   loading:barge0 1970-01-01 03:00:00         START            26000   \n",
       "5   loading: tshd0 1970-01-01 06:00:00         START            22000   \n",
       "6   loading:barge0 1970-01-01 07:00:00          STOP            20000   \n",
       "7   loading: tshd1 1970-01-01 07:00:00         START            20000   \n",
       "8   loading: tshd0 1970-01-01 08:00:00          STOP            18000   \n",
       "9   loading:barge1 1970-01-01 08:00:00         START            18000   \n",
       "10  loading: tshd1 1970-01-01 09:00:00          STOP            14000   \n",
       "11  loading: tshd0 1970-01-01 11:00:00         START            14000   \n",
       "12  loading:barge1 1970-01-01 12:00:00          STOP            12000   \n",
       "13  loading:barge0 1970-01-01 12:00:00         START            12000   \n",
       "14  loading: tshd0 1970-01-01 13:00:00          STOP             8000   \n",
       "15  loading: tshd1 1970-01-01 13:00:00         START             8000   \n",
       "16  loading: tshd1 1970-01-01 15:00:00          STOP             6000   \n",
       "17  loading:barge0 1970-01-01 16:00:00          STOP             6000   \n",
       "18  loading:barge1 1970-01-01 16:00:00         START             6000   \n",
       "19  loading: tshd0 1970-01-01 16:00:00         START             2000   \n",
       "20  loading: tshd0 1970-01-01 18:00:00          STOP                0   \n",
       "21  loading:barge1 1970-01-01 20:00:00          STOP                0   \n",
       "\n",
       "                          geometry  \n",
       "0   POINT (4.18055556 52.18664444)  \n",
       "1   POINT (4.18055556 52.18664444)  \n",
       "2   POINT (4.18055556 52.18664444)  \n",
       "3   POINT (4.18055556 52.18664444)  \n",
       "4   POINT (4.18055556 52.18664444)  \n",
       "5   POINT (4.18055556 52.18664444)  \n",
       "6   POINT (4.18055556 52.18664444)  \n",
       "7   POINT (4.18055556 52.18664444)  \n",
       "8   POINT (4.18055556 52.18664444)  \n",
       "9   POINT (4.18055556 52.18664444)  \n",
       "10  POINT (4.18055556 52.18664444)  \n",
       "11  POINT (4.18055556 52.18664444)  \n",
       "12  POINT (4.18055556 52.18664444)  \n",
       "13  POINT (4.18055556 52.18664444)  \n",
       "14  POINT (4.18055556 52.18664444)  \n",
       "15  POINT (4.18055556 52.18664444)  \n",
       "16  POINT (4.18055556 52.18664444)  \n",
       "17  POINT (4.18055556 52.18664444)  \n",
       "18  POINT (4.18055556 52.18664444)  \n",
       "19  POINT (4.18055556 52.18664444)  \n",
       "20  POINT (4.18055556 52.18664444)  \n",
       "21  POINT (4.18055556 52.18664444)  "
      ]
     },
     "metadata": {},
     "output_type": "display_data"
    }
   ],
   "source": [
    "display(plot.get_log_dataframe(berth, [*activities_tshd.values(), *activities_backhoe_barge.values()]))"
   ]
  },
  {
   "cell_type": "markdown",
   "id": "fc97ee9e",
   "metadata": {},
   "source": [
    "#### 4.2. Gantt chart\n",
    "Gantt chart can be drawn for each vessel based on the activities registered in the simulation"
   ]
  },
  {
   "cell_type": "code",
   "execution_count": 188,
   "id": "7cf054e1",
   "metadata": {},
   "outputs": [
    {
     "data": {
      "text/html": [
       "        <script type=\"text/javascript\">\n",
       "        window.PlotlyConfig = {MathJaxConfig: 'local'};\n",
       "        if (window.MathJax && window.MathJax.Hub && window.MathJax.Hub.Config) {window.MathJax.Hub.Config({SVG: {font: \"STIX-Web\"}});}\n",
       "        if (typeof require !== 'undefined') {\n",
       "        require.undef(\"plotly\");\n",
       "        requirejs.config({\n",
       "            paths: {\n",
       "                'plotly': ['https://cdn.plot.ly/plotly-2.18.0.min']\n",
       "            }\n",
       "        });\n",
       "        require(['plotly'], function(Plotly) {\n",
       "            window._Plotly = Plotly;\n",
       "        });\n",
       "        }\n",
       "        </script>\n",
       "        "
      ]
     },
     "metadata": {},
     "output_type": "display_data"
    },
    {
     "data": {
      "application/vnd.plotly.v1+json": {
       "config": {
        "linkText": "Export to plot.ly",
        "plotlyServerURL": "https://plot.ly",
        "showLink": false
       },
       "data": [
        {
         "connectgaps": false,
         "hoverinfo": "y+name",
         "line": {
          "color": "rgb(116,104,24)",
          "width": 10
         },
         "mode": "lines",
         "name": "unloading: tshd0",
         "type": "scatter",
         "x": [
          "1970-01-01T04:30:00",
          "1970-01-01T04:30:00",
          "1970-01-01T05:00:00",
          "1970-01-01T05:00:00",
          "1970-01-01T05:00:00",
          "1970-01-01T09:30:00",
          "1970-01-01T09:30:00",
          "1970-01-01T10:00:00",
          "1970-01-01T10:00:00",
          "1970-01-01T10:00:00",
          "1970-01-01T14:30:00",
          "1970-01-01T14:30:00",
          "1970-01-01T15:00:00",
          "1970-01-01T15:00:00",
          "1970-01-01T15:00:00",
          "1970-01-01T19:30:00",
          "1970-01-01T19:30:00",
          "1970-01-01T20:00:00",
          "1970-01-01T20:00:00",
          "1970-01-01T20:00:00"
         ],
         "y": [
          "tshd0",
          "tshd0",
          "tshd0",
          "tshd0",
          null,
          "tshd0",
          "tshd0",
          "tshd0",
          "tshd0",
          null,
          "tshd0",
          "tshd0",
          "tshd0",
          "tshd0",
          null,
          "tshd0",
          "tshd0",
          "tshd0",
          "tshd0",
          null
         ]
        },
        {
         "connectgaps": false,
         "hoverinfo": "y+name",
         "line": {
          "color": "rgb(130,118,38)",
          "width": 10
         },
         "mode": "lines",
         "name": "loading: tshd0",
         "type": "scatter",
         "x": [
          "1970-01-01T01:00:00",
          "1970-01-01T01:00:00",
          "1970-01-01T03:00:00",
          "1970-01-01T03:00:00",
          "1970-01-01T03:00:00",
          "1970-01-01T06:00:00",
          "1970-01-01T06:00:00",
          "1970-01-01T08:00:00",
          "1970-01-01T08:00:00",
          "1970-01-01T08:00:00",
          "1970-01-01T11:00:00",
          "1970-01-01T11:00:00",
          "1970-01-01T13:00:00",
          "1970-01-01T13:00:00",
          "1970-01-01T13:00:00",
          "1970-01-01T16:00:00",
          "1970-01-01T16:00:00",
          "1970-01-01T18:00:00",
          "1970-01-01T18:00:00",
          "1970-01-01T18:00:00"
         ],
         "y": [
          "tshd0",
          "tshd0",
          "tshd0",
          "tshd0",
          null,
          "tshd0",
          "tshd0",
          "tshd0",
          "tshd0",
          null,
          "tshd0",
          "tshd0",
          "tshd0",
          "tshd0",
          null,
          "tshd0",
          "tshd0",
          "tshd0",
          "tshd0",
          null
         ]
        },
        {
         "connectgaps": false,
         "hoverinfo": "y+name",
         "line": {
          "color": "rgb(144,132,52)",
          "width": 10
         },
         "mode": "lines",
         "name": "sailing empty: tshd0",
         "type": "scatter",
         "x": [
          "1970-01-01T00:00:00",
          "1970-01-01T00:00:00",
          "1970-01-01T01:00:00",
          "1970-01-01T01:00:00",
          "1970-01-01T01:00:00",
          "1970-01-01T05:00:00",
          "1970-01-01T05:00:00",
          "1970-01-01T06:00:00",
          "1970-01-01T06:00:00",
          "1970-01-01T06:00:00",
          "1970-01-01T10:00:00",
          "1970-01-01T10:00:00",
          "1970-01-01T11:00:00",
          "1970-01-01T11:00:00",
          "1970-01-01T11:00:00",
          "1970-01-01T15:00:00",
          "1970-01-01T15:00:00",
          "1970-01-01T16:00:00",
          "1970-01-01T16:00:00",
          "1970-01-01T16:00:00"
         ],
         "y": [
          "tshd0",
          "tshd0",
          "tshd0",
          "tshd0",
          null,
          "tshd0",
          "tshd0",
          "tshd0",
          "tshd0",
          null,
          "tshd0",
          "tshd0",
          "tshd0",
          "tshd0",
          null,
          "tshd0",
          "tshd0",
          "tshd0",
          "tshd0",
          null
         ]
        },
        {
         "connectgaps": false,
         "hoverinfo": "y+name",
         "line": {
          "color": "rgb(158,146,66)",
          "width": 10
         },
         "mode": "lines",
         "name": "sailing full: tshd0",
         "type": "scatter",
         "x": [
          "1970-01-01T03:00:00",
          "1970-01-01T03:00:00",
          "1970-01-01T04:30:00",
          "1970-01-01T04:30:00",
          "1970-01-01T04:30:00",
          "1970-01-01T08:00:00",
          "1970-01-01T08:00:00",
          "1970-01-01T09:30:00",
          "1970-01-01T09:30:00",
          "1970-01-01T09:30:00",
          "1970-01-01T13:00:00",
          "1970-01-01T13:00:00",
          "1970-01-01T14:30:00",
          "1970-01-01T14:30:00",
          "1970-01-01T14:30:00",
          "1970-01-01T18:00:00",
          "1970-01-01T18:00:00",
          "1970-01-01T19:30:00",
          "1970-01-01T19:30:00",
          "1970-01-01T19:30:00"
         ],
         "y": [
          "tshd0",
          "tshd0",
          "tshd0",
          "tshd0",
          null,
          "tshd0",
          "tshd0",
          "tshd0",
          "tshd0",
          null,
          "tshd0",
          "tshd0",
          "tshd0",
          "tshd0",
          null,
          "tshd0",
          "tshd0",
          "tshd0",
          "tshd0",
          null
         ]
        },
        {
         "connectgaps": false,
         "hoverinfo": "y+name",
         "line": {
          "color": "rgb(172,160,80)",
          "width": 10
         },
         "mode": "lines",
         "name": "sailing empty: tshd1",
         "type": "scatter",
         "x": [
          "1970-01-01T00:00:00",
          "1970-01-01T00:00:00",
          "1970-01-01T01:00:00",
          "1970-01-01T01:00:00",
          "1970-01-01T01:00:00",
          "1970-01-01T05:00:00",
          "1970-01-01T05:00:00",
          "1970-01-01T06:00:00",
          "1970-01-01T06:00:00",
          "1970-01-01T06:00:00",
          "1970-01-01T11:00:00",
          "1970-01-01T11:00:00",
          "1970-01-01T12:00:00",
          "1970-01-01T12:00:00",
          "1970-01-01T12:00:00"
         ],
         "y": [
          "tshd1",
          "tshd1",
          "tshd1",
          "tshd1",
          null,
          "tshd1",
          "tshd1",
          "tshd1",
          "tshd1",
          null,
          "tshd1",
          "tshd1",
          "tshd1",
          "tshd1",
          null
         ]
        },
        {
         "connectgaps": false,
         "hoverinfo": "y+name",
         "line": {
          "color": "rgb(186,174,94)",
          "width": 10
         },
         "mode": "lines",
         "name": "unloading: tshd1",
         "type": "scatter",
         "x": [
          "1970-01-01T04:30:00",
          "1970-01-01T04:30:00",
          "1970-01-01T05:00:00",
          "1970-01-01T05:00:00",
          "1970-01-01T05:00:00",
          "1970-01-01T10:30:00",
          "1970-01-01T10:30:00",
          "1970-01-01T11:00:00",
          "1970-01-01T11:00:00",
          "1970-01-01T11:00:00",
          "1970-01-01T16:30:00",
          "1970-01-01T16:30:00",
          "1970-01-01T17:00:00",
          "1970-01-01T17:00:00",
          "1970-01-01T17:00:00"
         ],
         "y": [
          "tshd1",
          "tshd1",
          "tshd1",
          "tshd1",
          null,
          "tshd1",
          "tshd1",
          "tshd1",
          "tshd1",
          null,
          "tshd1",
          "tshd1",
          "tshd1",
          "tshd1",
          null
         ]
        },
        {
         "connectgaps": false,
         "hoverinfo": "y+name",
         "line": {
          "color": "rgb(200,188,108)",
          "width": 10
         },
         "mode": "lines",
         "name": "sailing full: tshd1",
         "type": "scatter",
         "x": [
          "1970-01-01T03:00:00",
          "1970-01-01T03:00:00",
          "1970-01-01T04:30:00",
          "1970-01-01T04:30:00",
          "1970-01-01T04:30:00",
          "1970-01-01T09:00:00",
          "1970-01-01T09:00:00",
          "1970-01-01T10:30:00",
          "1970-01-01T10:30:00",
          "1970-01-01T10:30:00",
          "1970-01-01T15:00:00",
          "1970-01-01T15:00:00",
          "1970-01-01T16:30:00",
          "1970-01-01T16:30:00",
          "1970-01-01T16:30:00"
         ],
         "y": [
          "tshd1",
          "tshd1",
          "tshd1",
          "tshd1",
          null,
          "tshd1",
          "tshd1",
          "tshd1",
          "tshd1",
          null,
          "tshd1",
          "tshd1",
          "tshd1",
          "tshd1",
          null
         ]
        },
        {
         "connectgaps": false,
         "hoverinfo": "y+name",
         "line": {
          "color": "rgb(214,202,122)",
          "width": 10
         },
         "mode": "lines",
         "name": "loading: tshd1",
         "type": "scatter",
         "x": [
          "1970-01-01T01:00:00",
          "1970-01-01T01:00:00",
          "1970-01-01T03:00:00",
          "1970-01-01T03:00:00",
          "1970-01-01T03:00:00",
          "1970-01-01T07:00:00",
          "1970-01-01T07:00:00",
          "1970-01-01T09:00:00",
          "1970-01-01T09:00:00",
          "1970-01-01T09:00:00",
          "1970-01-01T13:00:00",
          "1970-01-01T13:00:00",
          "1970-01-01T15:00:00",
          "1970-01-01T15:00:00",
          "1970-01-01T15:00:00"
         ],
         "y": [
          "tshd1",
          "tshd1",
          "tshd1",
          "tshd1",
          null,
          "tshd1",
          "tshd1",
          "tshd1",
          "tshd1",
          null,
          "tshd1",
          "tshd1",
          "tshd1",
          "tshd1",
          null
         ]
        },
        {
         "connectgaps": false,
         "hoverinfo": "y+name",
         "line": {
          "color": "rgb(228,216,136)",
          "width": 10
         },
         "mode": "lines",
         "name": "unloading: barge0",
         "type": "scatter",
         "x": [
          "1970-01-01T08:30:00",
          "1970-01-01T08:30:00",
          "1970-01-01T09:00:00",
          "1970-01-01T09:00:00",
          "1970-01-01T09:00:00",
          "1970-01-01T17:30:00",
          "1970-01-01T17:30:00",
          "1970-01-01T18:00:00",
          "1970-01-01T18:00:00",
          "1970-01-01T18:00:00"
         ],
         "y": [
          "barge0",
          "barge0",
          "barge0",
          "barge0",
          null,
          "barge0",
          "barge0",
          "barge0",
          "barge0",
          null
         ]
        },
        {
         "connectgaps": false,
         "hoverinfo": "y+name",
         "line": {
          "color": "rgb(242,230,150)",
          "width": 10
         },
         "mode": "lines",
         "name": "loading:barge0",
         "type": "scatter",
         "x": [
          "1970-01-01T03:00:00",
          "1970-01-01T03:00:00",
          "1970-01-01T07:00:00",
          "1970-01-01T07:00:00",
          "1970-01-01T07:00:00",
          "1970-01-01T12:00:00",
          "1970-01-01T12:00:00",
          "1970-01-01T16:00:00",
          "1970-01-01T16:00:00",
          "1970-01-01T16:00:00",
          "1970-01-01T03:00:00",
          "1970-01-01T03:00:00",
          "1970-01-01T07:00:00",
          "1970-01-01T07:00:00",
          "1970-01-01T07:00:00",
          "1970-01-01T12:00:00",
          "1970-01-01T12:00:00",
          "1970-01-01T16:00:00",
          "1970-01-01T16:00:00",
          "1970-01-01T16:00:00"
         ],
         "y": [
          "barge0",
          "barge0",
          "barge0",
          "barge0",
          null,
          "barge0",
          "barge0",
          "barge0",
          "barge0",
          null,
          "backhoe",
          "backhoe",
          "backhoe",
          "backhoe",
          null,
          "backhoe",
          "backhoe",
          "backhoe",
          "backhoe",
          null
         ]
        },
        {
         "connectgaps": false,
         "hoverinfo": "y+name",
         "line": {
          "color": "rgb(0,244,164)",
          "width": 10
         },
         "mode": "lines",
         "name": "sailing full:barge0",
         "type": "scatter",
         "x": [
          "1970-01-01T07:00:00",
          "1970-01-01T07:00:00",
          "1970-01-01T08:30:00",
          "1970-01-01T08:30:00",
          "1970-01-01T08:30:00",
          "1970-01-01T16:00:00",
          "1970-01-01T16:00:00",
          "1970-01-01T17:30:00",
          "1970-01-01T17:30:00",
          "1970-01-01T17:30:00"
         ],
         "y": [
          "barge0",
          "barge0",
          "barge0",
          "barge0",
          null,
          "barge0",
          "barge0",
          "barge0",
          "barge0",
          null
         ]
        },
        {
         "connectgaps": false,
         "hoverinfo": "y+name",
         "line": {
          "color": "rgb(14,2,178)",
          "width": 10
         },
         "mode": "lines",
         "name": "sailing empty:barge0",
         "type": "scatter",
         "x": [
          "1970-01-01T00:00:00",
          "1970-01-01T00:00:00",
          "1970-01-01T01:00:00",
          "1970-01-01T01:00:00",
          "1970-01-01T01:00:00",
          "1970-01-01T09:00:00",
          "1970-01-01T09:00:00",
          "1970-01-01T10:00:00",
          "1970-01-01T10:00:00",
          "1970-01-01T10:00:00"
         ],
         "y": [
          "barge0",
          "barge0",
          "barge0",
          "barge0",
          null,
          "barge0",
          "barge0",
          "barge0",
          "barge0",
          null
         ]
        },
        {
         "connectgaps": false,
         "hoverinfo": "y+name",
         "line": {
          "color": "rgb(28,16,192)",
          "width": 10
         },
         "mode": "lines",
         "name": "sailing empty:barge1",
         "type": "scatter",
         "x": [
          "1970-01-01T00:00:00",
          "1970-01-01T00:00:00",
          "1970-01-01T01:00:00",
          "1970-01-01T01:00:00",
          "1970-01-01T01:00:00",
          "1970-01-01T14:00:00",
          "1970-01-01T14:00:00",
          "1970-01-01T15:00:00",
          "1970-01-01T15:00:00",
          "1970-01-01T15:00:00"
         ],
         "y": [
          "barge1",
          "barge1",
          "barge1",
          "barge1",
          null,
          "barge1",
          "barge1",
          "barge1",
          "barge1",
          null
         ]
        },
        {
         "connectgaps": false,
         "hoverinfo": "y+name",
         "line": {
          "color": "rgb(42,30,206)",
          "width": 10
         },
         "mode": "lines",
         "name": "loading:barge1",
         "type": "scatter",
         "x": [
          "1970-01-01T08:00:00",
          "1970-01-01T08:00:00",
          "1970-01-01T12:00:00",
          "1970-01-01T12:00:00",
          "1970-01-01T12:00:00",
          "1970-01-01T16:00:00",
          "1970-01-01T16:00:00",
          "1970-01-01T20:00:00",
          "1970-01-01T20:00:00",
          "1970-01-01T20:00:00",
          "1970-01-01T08:00:00",
          "1970-01-01T08:00:00",
          "1970-01-01T12:00:00",
          "1970-01-01T12:00:00",
          "1970-01-01T12:00:00",
          "1970-01-01T16:00:00",
          "1970-01-01T16:00:00",
          "1970-01-01T20:00:00",
          "1970-01-01T20:00:00",
          "1970-01-01T20:00:00"
         ],
         "y": [
          "barge1",
          "barge1",
          "barge1",
          "barge1",
          null,
          "barge1",
          "barge1",
          "barge1",
          "barge1",
          null,
          "backhoe",
          "backhoe",
          "backhoe",
          "backhoe",
          null,
          "backhoe",
          "backhoe",
          "backhoe",
          "backhoe",
          null
         ]
        },
        {
         "connectgaps": false,
         "hoverinfo": "y+name",
         "line": {
          "color": "rgb(56,44,220)",
          "width": 10
         },
         "mode": "lines",
         "name": "sailing full:barge1",
         "type": "scatter",
         "x": [
          "1970-01-01T12:00:00",
          "1970-01-01T12:00:00",
          "1970-01-01T13:30:00",
          "1970-01-01T13:30:00",
          "1970-01-01T13:30:00",
          "1970-01-01T20:00:00",
          "1970-01-01T20:00:00",
          "1970-01-01T21:30:00",
          "1970-01-01T21:30:00",
          "1970-01-01T21:30:00"
         ],
         "y": [
          "barge1",
          "barge1",
          "barge1",
          "barge1",
          null,
          "barge1",
          "barge1",
          "barge1",
          "barge1",
          null
         ]
        },
        {
         "connectgaps": false,
         "hoverinfo": "y+name",
         "line": {
          "color": "rgb(70,58,234)",
          "width": 10
         },
         "mode": "lines",
         "name": "unloading: barge1",
         "type": "scatter",
         "x": [
          "1970-01-01T13:30:00",
          "1970-01-01T13:30:00",
          "1970-01-01T14:00:00",
          "1970-01-01T14:00:00",
          "1970-01-01T14:00:00",
          "1970-01-01T21:30:00",
          "1970-01-01T21:30:00",
          "1970-01-01T22:00:00",
          "1970-01-01T22:00:00",
          "1970-01-01T22:00:00"
         ],
         "y": [
          "barge1",
          "barge1",
          "barge1",
          "barge1",
          null,
          "barge1",
          "barge1",
          "barge1",
          "barge1",
          null
         ]
        },
        {
         "connectgaps": false,
         "hoverinfo": "y+name",
         "line": {
          "color": "rgb(84,72,248)",
          "width": 10
         },
         "mode": "lines",
         "name": "loading:barge1",
         "type": "scatter",
         "x": [
          "1970-01-01T08:00:00",
          "1970-01-01T08:00:00",
          "1970-01-01T12:00:00",
          "1970-01-01T12:00:00",
          "1970-01-01T12:00:00",
          "1970-01-01T16:00:00",
          "1970-01-01T16:00:00",
          "1970-01-01T20:00:00",
          "1970-01-01T20:00:00",
          "1970-01-01T20:00:00",
          "1970-01-01T08:00:00",
          "1970-01-01T08:00:00",
          "1970-01-01T12:00:00",
          "1970-01-01T12:00:00",
          "1970-01-01T12:00:00",
          "1970-01-01T16:00:00",
          "1970-01-01T16:00:00",
          "1970-01-01T20:00:00",
          "1970-01-01T20:00:00",
          "1970-01-01T20:00:00"
         ],
         "y": [
          "barge1",
          "barge1",
          "barge1",
          "barge1",
          null,
          "barge1",
          "barge1",
          "barge1",
          "barge1",
          null,
          "backhoe",
          "backhoe",
          "backhoe",
          "backhoe",
          null,
          "backhoe",
          "backhoe",
          "backhoe",
          "backhoe",
          null
         ]
        },
        {
         "connectgaps": false,
         "hoverinfo": "y+name",
         "line": {
          "color": "rgb(98,86,6)",
          "width": 10
         },
         "mode": "lines",
         "name": "loading:barge0",
         "type": "scatter",
         "x": [
          "1970-01-01T03:00:00",
          "1970-01-01T03:00:00",
          "1970-01-01T07:00:00",
          "1970-01-01T07:00:00",
          "1970-01-01T07:00:00",
          "1970-01-01T12:00:00",
          "1970-01-01T12:00:00",
          "1970-01-01T16:00:00",
          "1970-01-01T16:00:00",
          "1970-01-01T16:00:00",
          "1970-01-01T03:00:00",
          "1970-01-01T03:00:00",
          "1970-01-01T07:00:00",
          "1970-01-01T07:00:00",
          "1970-01-01T07:00:00",
          "1970-01-01T12:00:00",
          "1970-01-01T12:00:00",
          "1970-01-01T16:00:00",
          "1970-01-01T16:00:00",
          "1970-01-01T16:00:00"
         ],
         "y": [
          "barge0",
          "barge0",
          "barge0",
          "barge0",
          null,
          "barge0",
          "barge0",
          "barge0",
          "barge0",
          null,
          "backhoe",
          "backhoe",
          "backhoe",
          "backhoe",
          null,
          "backhoe",
          "backhoe",
          "backhoe",
          "backhoe",
          null
         ]
        }
       ],
       "layout": {
        "hovermode": "closest",
        "legend": {
         "orientation": "h",
         "x": 0,
         "y": -0.2
        },
        "template": {
         "data": {
          "bar": [
           {
            "error_x": {
             "color": "#2a3f5f"
            },
            "error_y": {
             "color": "#2a3f5f"
            },
            "marker": {
             "line": {
              "color": "#E5ECF6",
              "width": 0.5
             },
             "pattern": {
              "fillmode": "overlay",
              "size": 10,
              "solidity": 0.2
             }
            },
            "type": "bar"
           }
          ],
          "barpolar": [
           {
            "marker": {
             "line": {
              "color": "#E5ECF6",
              "width": 0.5
             },
             "pattern": {
              "fillmode": "overlay",
              "size": 10,
              "solidity": 0.2
             }
            },
            "type": "barpolar"
           }
          ],
          "carpet": [
           {
            "aaxis": {
             "endlinecolor": "#2a3f5f",
             "gridcolor": "white",
             "linecolor": "white",
             "minorgridcolor": "white",
             "startlinecolor": "#2a3f5f"
            },
            "baxis": {
             "endlinecolor": "#2a3f5f",
             "gridcolor": "white",
             "linecolor": "white",
             "minorgridcolor": "white",
             "startlinecolor": "#2a3f5f"
            },
            "type": "carpet"
           }
          ],
          "choropleth": [
           {
            "colorbar": {
             "outlinewidth": 0,
             "ticks": ""
            },
            "type": "choropleth"
           }
          ],
          "contour": [
           {
            "colorbar": {
             "outlinewidth": 0,
             "ticks": ""
            },
            "colorscale": [
             [
              0,
              "#0d0887"
             ],
             [
              0.1111111111111111,
              "#46039f"
             ],
             [
              0.2222222222222222,
              "#7201a8"
             ],
             [
              0.3333333333333333,
              "#9c179e"
             ],
             [
              0.4444444444444444,
              "#bd3786"
             ],
             [
              0.5555555555555556,
              "#d8576b"
             ],
             [
              0.6666666666666666,
              "#ed7953"
             ],
             [
              0.7777777777777778,
              "#fb9f3a"
             ],
             [
              0.8888888888888888,
              "#fdca26"
             ],
             [
              1,
              "#f0f921"
             ]
            ],
            "type": "contour"
           }
          ],
          "contourcarpet": [
           {
            "colorbar": {
             "outlinewidth": 0,
             "ticks": ""
            },
            "type": "contourcarpet"
           }
          ],
          "heatmap": [
           {
            "colorbar": {
             "outlinewidth": 0,
             "ticks": ""
            },
            "colorscale": [
             [
              0,
              "#0d0887"
             ],
             [
              0.1111111111111111,
              "#46039f"
             ],
             [
              0.2222222222222222,
              "#7201a8"
             ],
             [
              0.3333333333333333,
              "#9c179e"
             ],
             [
              0.4444444444444444,
              "#bd3786"
             ],
             [
              0.5555555555555556,
              "#d8576b"
             ],
             [
              0.6666666666666666,
              "#ed7953"
             ],
             [
              0.7777777777777778,
              "#fb9f3a"
             ],
             [
              0.8888888888888888,
              "#fdca26"
             ],
             [
              1,
              "#f0f921"
             ]
            ],
            "type": "heatmap"
           }
          ],
          "heatmapgl": [
           {
            "colorbar": {
             "outlinewidth": 0,
             "ticks": ""
            },
            "colorscale": [
             [
              0,
              "#0d0887"
             ],
             [
              0.1111111111111111,
              "#46039f"
             ],
             [
              0.2222222222222222,
              "#7201a8"
             ],
             [
              0.3333333333333333,
              "#9c179e"
             ],
             [
              0.4444444444444444,
              "#bd3786"
             ],
             [
              0.5555555555555556,
              "#d8576b"
             ],
             [
              0.6666666666666666,
              "#ed7953"
             ],
             [
              0.7777777777777778,
              "#fb9f3a"
             ],
             [
              0.8888888888888888,
              "#fdca26"
             ],
             [
              1,
              "#f0f921"
             ]
            ],
            "type": "heatmapgl"
           }
          ],
          "histogram": [
           {
            "marker": {
             "pattern": {
              "fillmode": "overlay",
              "size": 10,
              "solidity": 0.2
             }
            },
            "type": "histogram"
           }
          ],
          "histogram2d": [
           {
            "colorbar": {
             "outlinewidth": 0,
             "ticks": ""
            },
            "colorscale": [
             [
              0,
              "#0d0887"
             ],
             [
              0.1111111111111111,
              "#46039f"
             ],
             [
              0.2222222222222222,
              "#7201a8"
             ],
             [
              0.3333333333333333,
              "#9c179e"
             ],
             [
              0.4444444444444444,
              "#bd3786"
             ],
             [
              0.5555555555555556,
              "#d8576b"
             ],
             [
              0.6666666666666666,
              "#ed7953"
             ],
             [
              0.7777777777777778,
              "#fb9f3a"
             ],
             [
              0.8888888888888888,
              "#fdca26"
             ],
             [
              1,
              "#f0f921"
             ]
            ],
            "type": "histogram2d"
           }
          ],
          "histogram2dcontour": [
           {
            "colorbar": {
             "outlinewidth": 0,
             "ticks": ""
            },
            "colorscale": [
             [
              0,
              "#0d0887"
             ],
             [
              0.1111111111111111,
              "#46039f"
             ],
             [
              0.2222222222222222,
              "#7201a8"
             ],
             [
              0.3333333333333333,
              "#9c179e"
             ],
             [
              0.4444444444444444,
              "#bd3786"
             ],
             [
              0.5555555555555556,
              "#d8576b"
             ],
             [
              0.6666666666666666,
              "#ed7953"
             ],
             [
              0.7777777777777778,
              "#fb9f3a"
             ],
             [
              0.8888888888888888,
              "#fdca26"
             ],
             [
              1,
              "#f0f921"
             ]
            ],
            "type": "histogram2dcontour"
           }
          ],
          "mesh3d": [
           {
            "colorbar": {
             "outlinewidth": 0,
             "ticks": ""
            },
            "type": "mesh3d"
           }
          ],
          "parcoords": [
           {
            "line": {
             "colorbar": {
              "outlinewidth": 0,
              "ticks": ""
             }
            },
            "type": "parcoords"
           }
          ],
          "pie": [
           {
            "automargin": true,
            "type": "pie"
           }
          ],
          "scatter": [
           {
            "fillpattern": {
             "fillmode": "overlay",
             "size": 10,
             "solidity": 0.2
            },
            "type": "scatter"
           }
          ],
          "scatter3d": [
           {
            "line": {
             "colorbar": {
              "outlinewidth": 0,
              "ticks": ""
             }
            },
            "marker": {
             "colorbar": {
              "outlinewidth": 0,
              "ticks": ""
             }
            },
            "type": "scatter3d"
           }
          ],
          "scattercarpet": [
           {
            "marker": {
             "colorbar": {
              "outlinewidth": 0,
              "ticks": ""
             }
            },
            "type": "scattercarpet"
           }
          ],
          "scattergeo": [
           {
            "marker": {
             "colorbar": {
              "outlinewidth": 0,
              "ticks": ""
             }
            },
            "type": "scattergeo"
           }
          ],
          "scattergl": [
           {
            "marker": {
             "colorbar": {
              "outlinewidth": 0,
              "ticks": ""
             }
            },
            "type": "scattergl"
           }
          ],
          "scattermapbox": [
           {
            "marker": {
             "colorbar": {
              "outlinewidth": 0,
              "ticks": ""
             }
            },
            "type": "scattermapbox"
           }
          ],
          "scatterpolar": [
           {
            "marker": {
             "colorbar": {
              "outlinewidth": 0,
              "ticks": ""
             }
            },
            "type": "scatterpolar"
           }
          ],
          "scatterpolargl": [
           {
            "marker": {
             "colorbar": {
              "outlinewidth": 0,
              "ticks": ""
             }
            },
            "type": "scatterpolargl"
           }
          ],
          "scatterternary": [
           {
            "marker": {
             "colorbar": {
              "outlinewidth": 0,
              "ticks": ""
             }
            },
            "type": "scatterternary"
           }
          ],
          "surface": [
           {
            "colorbar": {
             "outlinewidth": 0,
             "ticks": ""
            },
            "colorscale": [
             [
              0,
              "#0d0887"
             ],
             [
              0.1111111111111111,
              "#46039f"
             ],
             [
              0.2222222222222222,
              "#7201a8"
             ],
             [
              0.3333333333333333,
              "#9c179e"
             ],
             [
              0.4444444444444444,
              "#bd3786"
             ],
             [
              0.5555555555555556,
              "#d8576b"
             ],
             [
              0.6666666666666666,
              "#ed7953"
             ],
             [
              0.7777777777777778,
              "#fb9f3a"
             ],
             [
              0.8888888888888888,
              "#fdca26"
             ],
             [
              1,
              "#f0f921"
             ]
            ],
            "type": "surface"
           }
          ],
          "table": [
           {
            "cells": {
             "fill": {
              "color": "#EBF0F8"
             },
             "line": {
              "color": "white"
             }
            },
            "header": {
             "fill": {
              "color": "#C8D4E3"
             },
             "line": {
              "color": "white"
             }
            },
            "type": "table"
           }
          ]
         },
         "layout": {
          "annotationdefaults": {
           "arrowcolor": "#2a3f5f",
           "arrowhead": 0,
           "arrowwidth": 1
          },
          "autotypenumbers": "strict",
          "coloraxis": {
           "colorbar": {
            "outlinewidth": 0,
            "ticks": ""
           }
          },
          "colorscale": {
           "diverging": [
            [
             0,
             "#8e0152"
            ],
            [
             0.1,
             "#c51b7d"
            ],
            [
             0.2,
             "#de77ae"
            ],
            [
             0.3,
             "#f1b6da"
            ],
            [
             0.4,
             "#fde0ef"
            ],
            [
             0.5,
             "#f7f7f7"
            ],
            [
             0.6,
             "#e6f5d0"
            ],
            [
             0.7,
             "#b8e186"
            ],
            [
             0.8,
             "#7fbc41"
            ],
            [
             0.9,
             "#4d9221"
            ],
            [
             1,
             "#276419"
            ]
           ],
           "sequential": [
            [
             0,
             "#0d0887"
            ],
            [
             0.1111111111111111,
             "#46039f"
            ],
            [
             0.2222222222222222,
             "#7201a8"
            ],
            [
             0.3333333333333333,
             "#9c179e"
            ],
            [
             0.4444444444444444,
             "#bd3786"
            ],
            [
             0.5555555555555556,
             "#d8576b"
            ],
            [
             0.6666666666666666,
             "#ed7953"
            ],
            [
             0.7777777777777778,
             "#fb9f3a"
            ],
            [
             0.8888888888888888,
             "#fdca26"
            ],
            [
             1,
             "#f0f921"
            ]
           ],
           "sequentialminus": [
            [
             0,
             "#0d0887"
            ],
            [
             0.1111111111111111,
             "#46039f"
            ],
            [
             0.2222222222222222,
             "#7201a8"
            ],
            [
             0.3333333333333333,
             "#9c179e"
            ],
            [
             0.4444444444444444,
             "#bd3786"
            ],
            [
             0.5555555555555556,
             "#d8576b"
            ],
            [
             0.6666666666666666,
             "#ed7953"
            ],
            [
             0.7777777777777778,
             "#fb9f3a"
            ],
            [
             0.8888888888888888,
             "#fdca26"
            ],
            [
             1,
             "#f0f921"
            ]
           ]
          },
          "colorway": [
           "#636efa",
           "#EF553B",
           "#00cc96",
           "#ab63fa",
           "#FFA15A",
           "#19d3f3",
           "#FF6692",
           "#B6E880",
           "#FF97FF",
           "#FECB52"
          ],
          "font": {
           "color": "#2a3f5f"
          },
          "geo": {
           "bgcolor": "white",
           "lakecolor": "white",
           "landcolor": "#E5ECF6",
           "showlakes": true,
           "showland": true,
           "subunitcolor": "white"
          },
          "hoverlabel": {
           "align": "left"
          },
          "hovermode": "closest",
          "mapbox": {
           "style": "light"
          },
          "paper_bgcolor": "white",
          "plot_bgcolor": "#E5ECF6",
          "polar": {
           "angularaxis": {
            "gridcolor": "white",
            "linecolor": "white",
            "ticks": ""
           },
           "bgcolor": "#E5ECF6",
           "radialaxis": {
            "gridcolor": "white",
            "linecolor": "white",
            "ticks": ""
           }
          },
          "scene": {
           "xaxis": {
            "backgroundcolor": "#E5ECF6",
            "gridcolor": "white",
            "gridwidth": 2,
            "linecolor": "white",
            "showbackground": true,
            "ticks": "",
            "zerolinecolor": "white"
           },
           "yaxis": {
            "backgroundcolor": "#E5ECF6",
            "gridcolor": "white",
            "gridwidth": 2,
            "linecolor": "white",
            "showbackground": true,
            "ticks": "",
            "zerolinecolor": "white"
           },
           "zaxis": {
            "backgroundcolor": "#E5ECF6",
            "gridcolor": "white",
            "gridwidth": 2,
            "linecolor": "white",
            "showbackground": true,
            "ticks": "",
            "zerolinecolor": "white"
           }
          },
          "shapedefaults": {
           "line": {
            "color": "#2a3f5f"
           }
          },
          "ternary": {
           "aaxis": {
            "gridcolor": "white",
            "linecolor": "white",
            "ticks": ""
           },
           "baxis": {
            "gridcolor": "white",
            "linecolor": "white",
            "ticks": ""
           },
           "bgcolor": "#E5ECF6",
           "caxis": {
            "gridcolor": "white",
            "linecolor": "white",
            "ticks": ""
           }
          },
          "title": {
           "x": 0.05
          },
          "xaxis": {
           "automargin": true,
           "gridcolor": "white",
           "linecolor": "white",
           "ticks": "",
           "title": {
            "standoff": 15
           },
           "zerolinecolor": "white",
           "zerolinewidth": 2
          },
          "yaxis": {
           "automargin": true,
           "gridcolor": "white",
           "linecolor": "white",
           "ticks": "",
           "title": {
            "standoff": 15
           },
           "zerolinecolor": "white",
           "zerolinewidth": 2
          }
         }
        },
        "title": {
         "text": "GANTT Chart"
        },
        "xaxis": {
         "range": [
          "1970-01-01T00:00:00",
          "1970-01-01T22:00:00"
         ],
         "title": {
          "font": {
           "color": "#7f7f7f",
           "family": "Courier New, monospace",
           "size": 18
          },
          "text": "Time"
         }
        },
        "yaxis": {
         "title": {
          "font": {
           "color": "#7f7f7f",
           "family": "Courier New, monospace",
           "size": 18
          },
          "text": "Activities"
         }
        }
       }
      },
      "text/html": [
       "<div>                            <div id=\"2ea67054-9faa-4895-ac0e-6d3282639841\" class=\"plotly-graph-div\" style=\"height:525px; width:100%;\"></div>            <script type=\"text/javascript\">                require([\"plotly\"], function(Plotly) {                    window.PLOTLYENV=window.PLOTLYENV || {};                                    if (document.getElementById(\"2ea67054-9faa-4895-ac0e-6d3282639841\")) {                    Plotly.newPlot(                        \"2ea67054-9faa-4895-ac0e-6d3282639841\",                        [{\"connectgaps\":false,\"hoverinfo\":\"y+name\",\"line\":{\"color\":\"rgb(116,104,24)\",\"width\":10},\"mode\":\"lines\",\"name\":\"unloading: tshd0\",\"x\":[\"1970-01-01T04:30:00\",\"1970-01-01T04:30:00\",\"1970-01-01T05:00:00\",\"1970-01-01T05:00:00\",\"1970-01-01T05:00:00\",\"1970-01-01T09:30:00\",\"1970-01-01T09:30:00\",\"1970-01-01T10:00:00\",\"1970-01-01T10:00:00\",\"1970-01-01T10:00:00\",\"1970-01-01T14:30:00\",\"1970-01-01T14:30:00\",\"1970-01-01T15:00:00\",\"1970-01-01T15:00:00\",\"1970-01-01T15:00:00\",\"1970-01-01T19:30:00\",\"1970-01-01T19:30:00\",\"1970-01-01T20:00:00\",\"1970-01-01T20:00:00\",\"1970-01-01T20:00:00\"],\"y\":[\"tshd0\",\"tshd0\",\"tshd0\",\"tshd0\",null,\"tshd0\",\"tshd0\",\"tshd0\",\"tshd0\",null,\"tshd0\",\"tshd0\",\"tshd0\",\"tshd0\",null,\"tshd0\",\"tshd0\",\"tshd0\",\"tshd0\",null],\"type\":\"scatter\"},{\"connectgaps\":false,\"hoverinfo\":\"y+name\",\"line\":{\"color\":\"rgb(130,118,38)\",\"width\":10},\"mode\":\"lines\",\"name\":\"loading: tshd0\",\"x\":[\"1970-01-01T01:00:00\",\"1970-01-01T01:00:00\",\"1970-01-01T03:00:00\",\"1970-01-01T03:00:00\",\"1970-01-01T03:00:00\",\"1970-01-01T06:00:00\",\"1970-01-01T06:00:00\",\"1970-01-01T08:00:00\",\"1970-01-01T08:00:00\",\"1970-01-01T08:00:00\",\"1970-01-01T11:00:00\",\"1970-01-01T11:00:00\",\"1970-01-01T13:00:00\",\"1970-01-01T13:00:00\",\"1970-01-01T13:00:00\",\"1970-01-01T16:00:00\",\"1970-01-01T16:00:00\",\"1970-01-01T18:00:00\",\"1970-01-01T18:00:00\",\"1970-01-01T18:00:00\"],\"y\":[\"tshd0\",\"tshd0\",\"tshd0\",\"tshd0\",null,\"tshd0\",\"tshd0\",\"tshd0\",\"tshd0\",null,\"tshd0\",\"tshd0\",\"tshd0\",\"tshd0\",null,\"tshd0\",\"tshd0\",\"tshd0\",\"tshd0\",null],\"type\":\"scatter\"},{\"connectgaps\":false,\"hoverinfo\":\"y+name\",\"line\":{\"color\":\"rgb(144,132,52)\",\"width\":10},\"mode\":\"lines\",\"name\":\"sailing empty: tshd0\",\"x\":[\"1970-01-01T00:00:00\",\"1970-01-01T00:00:00\",\"1970-01-01T01:00:00\",\"1970-01-01T01:00:00\",\"1970-01-01T01:00:00\",\"1970-01-01T05:00:00\",\"1970-01-01T05:00:00\",\"1970-01-01T06:00:00\",\"1970-01-01T06:00:00\",\"1970-01-01T06:00:00\",\"1970-01-01T10:00:00\",\"1970-01-01T10:00:00\",\"1970-01-01T11:00:00\",\"1970-01-01T11:00:00\",\"1970-01-01T11:00:00\",\"1970-01-01T15:00:00\",\"1970-01-01T15:00:00\",\"1970-01-01T16:00:00\",\"1970-01-01T16:00:00\",\"1970-01-01T16:00:00\"],\"y\":[\"tshd0\",\"tshd0\",\"tshd0\",\"tshd0\",null,\"tshd0\",\"tshd0\",\"tshd0\",\"tshd0\",null,\"tshd0\",\"tshd0\",\"tshd0\",\"tshd0\",null,\"tshd0\",\"tshd0\",\"tshd0\",\"tshd0\",null],\"type\":\"scatter\"},{\"connectgaps\":false,\"hoverinfo\":\"y+name\",\"line\":{\"color\":\"rgb(158,146,66)\",\"width\":10},\"mode\":\"lines\",\"name\":\"sailing full: tshd0\",\"x\":[\"1970-01-01T03:00:00\",\"1970-01-01T03:00:00\",\"1970-01-01T04:30:00\",\"1970-01-01T04:30:00\",\"1970-01-01T04:30:00\",\"1970-01-01T08:00:00\",\"1970-01-01T08:00:00\",\"1970-01-01T09:30:00\",\"1970-01-01T09:30:00\",\"1970-01-01T09:30:00\",\"1970-01-01T13:00:00\",\"1970-01-01T13:00:00\",\"1970-01-01T14:30:00\",\"1970-01-01T14:30:00\",\"1970-01-01T14:30:00\",\"1970-01-01T18:00:00\",\"1970-01-01T18:00:00\",\"1970-01-01T19:30:00\",\"1970-01-01T19:30:00\",\"1970-01-01T19:30:00\"],\"y\":[\"tshd0\",\"tshd0\",\"tshd0\",\"tshd0\",null,\"tshd0\",\"tshd0\",\"tshd0\",\"tshd0\",null,\"tshd0\",\"tshd0\",\"tshd0\",\"tshd0\",null,\"tshd0\",\"tshd0\",\"tshd0\",\"tshd0\",null],\"type\":\"scatter\"},{\"connectgaps\":false,\"hoverinfo\":\"y+name\",\"line\":{\"color\":\"rgb(172,160,80)\",\"width\":10},\"mode\":\"lines\",\"name\":\"sailing empty: tshd1\",\"x\":[\"1970-01-01T00:00:00\",\"1970-01-01T00:00:00\",\"1970-01-01T01:00:00\",\"1970-01-01T01:00:00\",\"1970-01-01T01:00:00\",\"1970-01-01T05:00:00\",\"1970-01-01T05:00:00\",\"1970-01-01T06:00:00\",\"1970-01-01T06:00:00\",\"1970-01-01T06:00:00\",\"1970-01-01T11:00:00\",\"1970-01-01T11:00:00\",\"1970-01-01T12:00:00\",\"1970-01-01T12:00:00\",\"1970-01-01T12:00:00\"],\"y\":[\"tshd1\",\"tshd1\",\"tshd1\",\"tshd1\",null,\"tshd1\",\"tshd1\",\"tshd1\",\"tshd1\",null,\"tshd1\",\"tshd1\",\"tshd1\",\"tshd1\",null],\"type\":\"scatter\"},{\"connectgaps\":false,\"hoverinfo\":\"y+name\",\"line\":{\"color\":\"rgb(186,174,94)\",\"width\":10},\"mode\":\"lines\",\"name\":\"unloading: tshd1\",\"x\":[\"1970-01-01T04:30:00\",\"1970-01-01T04:30:00\",\"1970-01-01T05:00:00\",\"1970-01-01T05:00:00\",\"1970-01-01T05:00:00\",\"1970-01-01T10:30:00\",\"1970-01-01T10:30:00\",\"1970-01-01T11:00:00\",\"1970-01-01T11:00:00\",\"1970-01-01T11:00:00\",\"1970-01-01T16:30:00\",\"1970-01-01T16:30:00\",\"1970-01-01T17:00:00\",\"1970-01-01T17:00:00\",\"1970-01-01T17:00:00\"],\"y\":[\"tshd1\",\"tshd1\",\"tshd1\",\"tshd1\",null,\"tshd1\",\"tshd1\",\"tshd1\",\"tshd1\",null,\"tshd1\",\"tshd1\",\"tshd1\",\"tshd1\",null],\"type\":\"scatter\"},{\"connectgaps\":false,\"hoverinfo\":\"y+name\",\"line\":{\"color\":\"rgb(200,188,108)\",\"width\":10},\"mode\":\"lines\",\"name\":\"sailing full: tshd1\",\"x\":[\"1970-01-01T03:00:00\",\"1970-01-01T03:00:00\",\"1970-01-01T04:30:00\",\"1970-01-01T04:30:00\",\"1970-01-01T04:30:00\",\"1970-01-01T09:00:00\",\"1970-01-01T09:00:00\",\"1970-01-01T10:30:00\",\"1970-01-01T10:30:00\",\"1970-01-01T10:30:00\",\"1970-01-01T15:00:00\",\"1970-01-01T15:00:00\",\"1970-01-01T16:30:00\",\"1970-01-01T16:30:00\",\"1970-01-01T16:30:00\"],\"y\":[\"tshd1\",\"tshd1\",\"tshd1\",\"tshd1\",null,\"tshd1\",\"tshd1\",\"tshd1\",\"tshd1\",null,\"tshd1\",\"tshd1\",\"tshd1\",\"tshd1\",null],\"type\":\"scatter\"},{\"connectgaps\":false,\"hoverinfo\":\"y+name\",\"line\":{\"color\":\"rgb(214,202,122)\",\"width\":10},\"mode\":\"lines\",\"name\":\"loading: tshd1\",\"x\":[\"1970-01-01T01:00:00\",\"1970-01-01T01:00:00\",\"1970-01-01T03:00:00\",\"1970-01-01T03:00:00\",\"1970-01-01T03:00:00\",\"1970-01-01T07:00:00\",\"1970-01-01T07:00:00\",\"1970-01-01T09:00:00\",\"1970-01-01T09:00:00\",\"1970-01-01T09:00:00\",\"1970-01-01T13:00:00\",\"1970-01-01T13:00:00\",\"1970-01-01T15:00:00\",\"1970-01-01T15:00:00\",\"1970-01-01T15:00:00\"],\"y\":[\"tshd1\",\"tshd1\",\"tshd1\",\"tshd1\",null,\"tshd1\",\"tshd1\",\"tshd1\",\"tshd1\",null,\"tshd1\",\"tshd1\",\"tshd1\",\"tshd1\",null],\"type\":\"scatter\"},{\"connectgaps\":false,\"hoverinfo\":\"y+name\",\"line\":{\"color\":\"rgb(228,216,136)\",\"width\":10},\"mode\":\"lines\",\"name\":\"unloading: barge0\",\"x\":[\"1970-01-01T08:30:00\",\"1970-01-01T08:30:00\",\"1970-01-01T09:00:00\",\"1970-01-01T09:00:00\",\"1970-01-01T09:00:00\",\"1970-01-01T17:30:00\",\"1970-01-01T17:30:00\",\"1970-01-01T18:00:00\",\"1970-01-01T18:00:00\",\"1970-01-01T18:00:00\"],\"y\":[\"barge0\",\"barge0\",\"barge0\",\"barge0\",null,\"barge0\",\"barge0\",\"barge0\",\"barge0\",null],\"type\":\"scatter\"},{\"connectgaps\":false,\"hoverinfo\":\"y+name\",\"line\":{\"color\":\"rgb(242,230,150)\",\"width\":10},\"mode\":\"lines\",\"name\":\"loading:barge0\",\"x\":[\"1970-01-01T03:00:00\",\"1970-01-01T03:00:00\",\"1970-01-01T07:00:00\",\"1970-01-01T07:00:00\",\"1970-01-01T07:00:00\",\"1970-01-01T12:00:00\",\"1970-01-01T12:00:00\",\"1970-01-01T16:00:00\",\"1970-01-01T16:00:00\",\"1970-01-01T16:00:00\",\"1970-01-01T03:00:00\",\"1970-01-01T03:00:00\",\"1970-01-01T07:00:00\",\"1970-01-01T07:00:00\",\"1970-01-01T07:00:00\",\"1970-01-01T12:00:00\",\"1970-01-01T12:00:00\",\"1970-01-01T16:00:00\",\"1970-01-01T16:00:00\",\"1970-01-01T16:00:00\"],\"y\":[\"barge0\",\"barge0\",\"barge0\",\"barge0\",null,\"barge0\",\"barge0\",\"barge0\",\"barge0\",null,\"backhoe\",\"backhoe\",\"backhoe\",\"backhoe\",null,\"backhoe\",\"backhoe\",\"backhoe\",\"backhoe\",null],\"type\":\"scatter\"},{\"connectgaps\":false,\"hoverinfo\":\"y+name\",\"line\":{\"color\":\"rgb(0,244,164)\",\"width\":10},\"mode\":\"lines\",\"name\":\"sailing full:barge0\",\"x\":[\"1970-01-01T07:00:00\",\"1970-01-01T07:00:00\",\"1970-01-01T08:30:00\",\"1970-01-01T08:30:00\",\"1970-01-01T08:30:00\",\"1970-01-01T16:00:00\",\"1970-01-01T16:00:00\",\"1970-01-01T17:30:00\",\"1970-01-01T17:30:00\",\"1970-01-01T17:30:00\"],\"y\":[\"barge0\",\"barge0\",\"barge0\",\"barge0\",null,\"barge0\",\"barge0\",\"barge0\",\"barge0\",null],\"type\":\"scatter\"},{\"connectgaps\":false,\"hoverinfo\":\"y+name\",\"line\":{\"color\":\"rgb(14,2,178)\",\"width\":10},\"mode\":\"lines\",\"name\":\"sailing empty:barge0\",\"x\":[\"1970-01-01T00:00:00\",\"1970-01-01T00:00:00\",\"1970-01-01T01:00:00\",\"1970-01-01T01:00:00\",\"1970-01-01T01:00:00\",\"1970-01-01T09:00:00\",\"1970-01-01T09:00:00\",\"1970-01-01T10:00:00\",\"1970-01-01T10:00:00\",\"1970-01-01T10:00:00\"],\"y\":[\"barge0\",\"barge0\",\"barge0\",\"barge0\",null,\"barge0\",\"barge0\",\"barge0\",\"barge0\",null],\"type\":\"scatter\"},{\"connectgaps\":false,\"hoverinfo\":\"y+name\",\"line\":{\"color\":\"rgb(28,16,192)\",\"width\":10},\"mode\":\"lines\",\"name\":\"sailing empty:barge1\",\"x\":[\"1970-01-01T00:00:00\",\"1970-01-01T00:00:00\",\"1970-01-01T01:00:00\",\"1970-01-01T01:00:00\",\"1970-01-01T01:00:00\",\"1970-01-01T14:00:00\",\"1970-01-01T14:00:00\",\"1970-01-01T15:00:00\",\"1970-01-01T15:00:00\",\"1970-01-01T15:00:00\"],\"y\":[\"barge1\",\"barge1\",\"barge1\",\"barge1\",null,\"barge1\",\"barge1\",\"barge1\",\"barge1\",null],\"type\":\"scatter\"},{\"connectgaps\":false,\"hoverinfo\":\"y+name\",\"line\":{\"color\":\"rgb(42,30,206)\",\"width\":10},\"mode\":\"lines\",\"name\":\"loading:barge1\",\"x\":[\"1970-01-01T08:00:00\",\"1970-01-01T08:00:00\",\"1970-01-01T12:00:00\",\"1970-01-01T12:00:00\",\"1970-01-01T12:00:00\",\"1970-01-01T16:00:00\",\"1970-01-01T16:00:00\",\"1970-01-01T20:00:00\",\"1970-01-01T20:00:00\",\"1970-01-01T20:00:00\",\"1970-01-01T08:00:00\",\"1970-01-01T08:00:00\",\"1970-01-01T12:00:00\",\"1970-01-01T12:00:00\",\"1970-01-01T12:00:00\",\"1970-01-01T16:00:00\",\"1970-01-01T16:00:00\",\"1970-01-01T20:00:00\",\"1970-01-01T20:00:00\",\"1970-01-01T20:00:00\"],\"y\":[\"barge1\",\"barge1\",\"barge1\",\"barge1\",null,\"barge1\",\"barge1\",\"barge1\",\"barge1\",null,\"backhoe\",\"backhoe\",\"backhoe\",\"backhoe\",null,\"backhoe\",\"backhoe\",\"backhoe\",\"backhoe\",null],\"type\":\"scatter\"},{\"connectgaps\":false,\"hoverinfo\":\"y+name\",\"line\":{\"color\":\"rgb(56,44,220)\",\"width\":10},\"mode\":\"lines\",\"name\":\"sailing full:barge1\",\"x\":[\"1970-01-01T12:00:00\",\"1970-01-01T12:00:00\",\"1970-01-01T13:30:00\",\"1970-01-01T13:30:00\",\"1970-01-01T13:30:00\",\"1970-01-01T20:00:00\",\"1970-01-01T20:00:00\",\"1970-01-01T21:30:00\",\"1970-01-01T21:30:00\",\"1970-01-01T21:30:00\"],\"y\":[\"barge1\",\"barge1\",\"barge1\",\"barge1\",null,\"barge1\",\"barge1\",\"barge1\",\"barge1\",null],\"type\":\"scatter\"},{\"connectgaps\":false,\"hoverinfo\":\"y+name\",\"line\":{\"color\":\"rgb(70,58,234)\",\"width\":10},\"mode\":\"lines\",\"name\":\"unloading: barge1\",\"x\":[\"1970-01-01T13:30:00\",\"1970-01-01T13:30:00\",\"1970-01-01T14:00:00\",\"1970-01-01T14:00:00\",\"1970-01-01T14:00:00\",\"1970-01-01T21:30:00\",\"1970-01-01T21:30:00\",\"1970-01-01T22:00:00\",\"1970-01-01T22:00:00\",\"1970-01-01T22:00:00\"],\"y\":[\"barge1\",\"barge1\",\"barge1\",\"barge1\",null,\"barge1\",\"barge1\",\"barge1\",\"barge1\",null],\"type\":\"scatter\"},{\"connectgaps\":false,\"hoverinfo\":\"y+name\",\"line\":{\"color\":\"rgb(84,72,248)\",\"width\":10},\"mode\":\"lines\",\"name\":\"loading:barge1\",\"x\":[\"1970-01-01T08:00:00\",\"1970-01-01T08:00:00\",\"1970-01-01T12:00:00\",\"1970-01-01T12:00:00\",\"1970-01-01T12:00:00\",\"1970-01-01T16:00:00\",\"1970-01-01T16:00:00\",\"1970-01-01T20:00:00\",\"1970-01-01T20:00:00\",\"1970-01-01T20:00:00\",\"1970-01-01T08:00:00\",\"1970-01-01T08:00:00\",\"1970-01-01T12:00:00\",\"1970-01-01T12:00:00\",\"1970-01-01T12:00:00\",\"1970-01-01T16:00:00\",\"1970-01-01T16:00:00\",\"1970-01-01T20:00:00\",\"1970-01-01T20:00:00\",\"1970-01-01T20:00:00\"],\"y\":[\"barge1\",\"barge1\",\"barge1\",\"barge1\",null,\"barge1\",\"barge1\",\"barge1\",\"barge1\",null,\"backhoe\",\"backhoe\",\"backhoe\",\"backhoe\",null,\"backhoe\",\"backhoe\",\"backhoe\",\"backhoe\",null],\"type\":\"scatter\"},{\"connectgaps\":false,\"hoverinfo\":\"y+name\",\"line\":{\"color\":\"rgb(98,86,6)\",\"width\":10},\"mode\":\"lines\",\"name\":\"loading:barge0\",\"x\":[\"1970-01-01T03:00:00\",\"1970-01-01T03:00:00\",\"1970-01-01T07:00:00\",\"1970-01-01T07:00:00\",\"1970-01-01T07:00:00\",\"1970-01-01T12:00:00\",\"1970-01-01T12:00:00\",\"1970-01-01T16:00:00\",\"1970-01-01T16:00:00\",\"1970-01-01T16:00:00\",\"1970-01-01T03:00:00\",\"1970-01-01T03:00:00\",\"1970-01-01T07:00:00\",\"1970-01-01T07:00:00\",\"1970-01-01T07:00:00\",\"1970-01-01T12:00:00\",\"1970-01-01T12:00:00\",\"1970-01-01T16:00:00\",\"1970-01-01T16:00:00\",\"1970-01-01T16:00:00\"],\"y\":[\"barge0\",\"barge0\",\"barge0\",\"barge0\",null,\"barge0\",\"barge0\",\"barge0\",\"barge0\",null,\"backhoe\",\"backhoe\",\"backhoe\",\"backhoe\",null,\"backhoe\",\"backhoe\",\"backhoe\",\"backhoe\",null],\"type\":\"scatter\"}],                        {\"hovermode\":\"closest\",\"legend\":{\"orientation\":\"h\",\"x\":0,\"y\":-0.2},\"template\":{\"data\":{\"barpolar\":[{\"marker\":{\"line\":{\"color\":\"#E5ECF6\",\"width\":0.5},\"pattern\":{\"fillmode\":\"overlay\",\"size\":10,\"solidity\":0.2}},\"type\":\"barpolar\"}],\"bar\":[{\"error_x\":{\"color\":\"#2a3f5f\"},\"error_y\":{\"color\":\"#2a3f5f\"},\"marker\":{\"line\":{\"color\":\"#E5ECF6\",\"width\":0.5},\"pattern\":{\"fillmode\":\"overlay\",\"size\":10,\"solidity\":0.2}},\"type\":\"bar\"}],\"carpet\":[{\"aaxis\":{\"endlinecolor\":\"#2a3f5f\",\"gridcolor\":\"white\",\"linecolor\":\"white\",\"minorgridcolor\":\"white\",\"startlinecolor\":\"#2a3f5f\"},\"baxis\":{\"endlinecolor\":\"#2a3f5f\",\"gridcolor\":\"white\",\"linecolor\":\"white\",\"minorgridcolor\":\"white\",\"startlinecolor\":\"#2a3f5f\"},\"type\":\"carpet\"}],\"choropleth\":[{\"colorbar\":{\"outlinewidth\":0,\"ticks\":\"\"},\"type\":\"choropleth\"}],\"contourcarpet\":[{\"colorbar\":{\"outlinewidth\":0,\"ticks\":\"\"},\"type\":\"contourcarpet\"}],\"contour\":[{\"colorbar\":{\"outlinewidth\":0,\"ticks\":\"\"},\"colorscale\":[[0.0,\"#0d0887\"],[0.1111111111111111,\"#46039f\"],[0.2222222222222222,\"#7201a8\"],[0.3333333333333333,\"#9c179e\"],[0.4444444444444444,\"#bd3786\"],[0.5555555555555556,\"#d8576b\"],[0.6666666666666666,\"#ed7953\"],[0.7777777777777778,\"#fb9f3a\"],[0.8888888888888888,\"#fdca26\"],[1.0,\"#f0f921\"]],\"type\":\"contour\"}],\"heatmapgl\":[{\"colorbar\":{\"outlinewidth\":0,\"ticks\":\"\"},\"colorscale\":[[0.0,\"#0d0887\"],[0.1111111111111111,\"#46039f\"],[0.2222222222222222,\"#7201a8\"],[0.3333333333333333,\"#9c179e\"],[0.4444444444444444,\"#bd3786\"],[0.5555555555555556,\"#d8576b\"],[0.6666666666666666,\"#ed7953\"],[0.7777777777777778,\"#fb9f3a\"],[0.8888888888888888,\"#fdca26\"],[1.0,\"#f0f921\"]],\"type\":\"heatmapgl\"}],\"heatmap\":[{\"colorbar\":{\"outlinewidth\":0,\"ticks\":\"\"},\"colorscale\":[[0.0,\"#0d0887\"],[0.1111111111111111,\"#46039f\"],[0.2222222222222222,\"#7201a8\"],[0.3333333333333333,\"#9c179e\"],[0.4444444444444444,\"#bd3786\"],[0.5555555555555556,\"#d8576b\"],[0.6666666666666666,\"#ed7953\"],[0.7777777777777778,\"#fb9f3a\"],[0.8888888888888888,\"#fdca26\"],[1.0,\"#f0f921\"]],\"type\":\"heatmap\"}],\"histogram2dcontour\":[{\"colorbar\":{\"outlinewidth\":0,\"ticks\":\"\"},\"colorscale\":[[0.0,\"#0d0887\"],[0.1111111111111111,\"#46039f\"],[0.2222222222222222,\"#7201a8\"],[0.3333333333333333,\"#9c179e\"],[0.4444444444444444,\"#bd3786\"],[0.5555555555555556,\"#d8576b\"],[0.6666666666666666,\"#ed7953\"],[0.7777777777777778,\"#fb9f3a\"],[0.8888888888888888,\"#fdca26\"],[1.0,\"#f0f921\"]],\"type\":\"histogram2dcontour\"}],\"histogram2d\":[{\"colorbar\":{\"outlinewidth\":0,\"ticks\":\"\"},\"colorscale\":[[0.0,\"#0d0887\"],[0.1111111111111111,\"#46039f\"],[0.2222222222222222,\"#7201a8\"],[0.3333333333333333,\"#9c179e\"],[0.4444444444444444,\"#bd3786\"],[0.5555555555555556,\"#d8576b\"],[0.6666666666666666,\"#ed7953\"],[0.7777777777777778,\"#fb9f3a\"],[0.8888888888888888,\"#fdca26\"],[1.0,\"#f0f921\"]],\"type\":\"histogram2d\"}],\"histogram\":[{\"marker\":{\"pattern\":{\"fillmode\":\"overlay\",\"size\":10,\"solidity\":0.2}},\"type\":\"histogram\"}],\"mesh3d\":[{\"colorbar\":{\"outlinewidth\":0,\"ticks\":\"\"},\"type\":\"mesh3d\"}],\"parcoords\":[{\"line\":{\"colorbar\":{\"outlinewidth\":0,\"ticks\":\"\"}},\"type\":\"parcoords\"}],\"pie\":[{\"automargin\":true,\"type\":\"pie\"}],\"scatter3d\":[{\"line\":{\"colorbar\":{\"outlinewidth\":0,\"ticks\":\"\"}},\"marker\":{\"colorbar\":{\"outlinewidth\":0,\"ticks\":\"\"}},\"type\":\"scatter3d\"}],\"scattercarpet\":[{\"marker\":{\"colorbar\":{\"outlinewidth\":0,\"ticks\":\"\"}},\"type\":\"scattercarpet\"}],\"scattergeo\":[{\"marker\":{\"colorbar\":{\"outlinewidth\":0,\"ticks\":\"\"}},\"type\":\"scattergeo\"}],\"scattergl\":[{\"marker\":{\"colorbar\":{\"outlinewidth\":0,\"ticks\":\"\"}},\"type\":\"scattergl\"}],\"scattermapbox\":[{\"marker\":{\"colorbar\":{\"outlinewidth\":0,\"ticks\":\"\"}},\"type\":\"scattermapbox\"}],\"scatterpolargl\":[{\"marker\":{\"colorbar\":{\"outlinewidth\":0,\"ticks\":\"\"}},\"type\":\"scatterpolargl\"}],\"scatterpolar\":[{\"marker\":{\"colorbar\":{\"outlinewidth\":0,\"ticks\":\"\"}},\"type\":\"scatterpolar\"}],\"scatter\":[{\"fillpattern\":{\"fillmode\":\"overlay\",\"size\":10,\"solidity\":0.2},\"type\":\"scatter\"}],\"scatterternary\":[{\"marker\":{\"colorbar\":{\"outlinewidth\":0,\"ticks\":\"\"}},\"type\":\"scatterternary\"}],\"surface\":[{\"colorbar\":{\"outlinewidth\":0,\"ticks\":\"\"},\"colorscale\":[[0.0,\"#0d0887\"],[0.1111111111111111,\"#46039f\"],[0.2222222222222222,\"#7201a8\"],[0.3333333333333333,\"#9c179e\"],[0.4444444444444444,\"#bd3786\"],[0.5555555555555556,\"#d8576b\"],[0.6666666666666666,\"#ed7953\"],[0.7777777777777778,\"#fb9f3a\"],[0.8888888888888888,\"#fdca26\"],[1.0,\"#f0f921\"]],\"type\":\"surface\"}],\"table\":[{\"cells\":{\"fill\":{\"color\":\"#EBF0F8\"},\"line\":{\"color\":\"white\"}},\"header\":{\"fill\":{\"color\":\"#C8D4E3\"},\"line\":{\"color\":\"white\"}},\"type\":\"table\"}]},\"layout\":{\"annotationdefaults\":{\"arrowcolor\":\"#2a3f5f\",\"arrowhead\":0,\"arrowwidth\":1},\"autotypenumbers\":\"strict\",\"coloraxis\":{\"colorbar\":{\"outlinewidth\":0,\"ticks\":\"\"}},\"colorscale\":{\"diverging\":[[0,\"#8e0152\"],[0.1,\"#c51b7d\"],[0.2,\"#de77ae\"],[0.3,\"#f1b6da\"],[0.4,\"#fde0ef\"],[0.5,\"#f7f7f7\"],[0.6,\"#e6f5d0\"],[0.7,\"#b8e186\"],[0.8,\"#7fbc41\"],[0.9,\"#4d9221\"],[1,\"#276419\"]],\"sequential\":[[0.0,\"#0d0887\"],[0.1111111111111111,\"#46039f\"],[0.2222222222222222,\"#7201a8\"],[0.3333333333333333,\"#9c179e\"],[0.4444444444444444,\"#bd3786\"],[0.5555555555555556,\"#d8576b\"],[0.6666666666666666,\"#ed7953\"],[0.7777777777777778,\"#fb9f3a\"],[0.8888888888888888,\"#fdca26\"],[1.0,\"#f0f921\"]],\"sequentialminus\":[[0.0,\"#0d0887\"],[0.1111111111111111,\"#46039f\"],[0.2222222222222222,\"#7201a8\"],[0.3333333333333333,\"#9c179e\"],[0.4444444444444444,\"#bd3786\"],[0.5555555555555556,\"#d8576b\"],[0.6666666666666666,\"#ed7953\"],[0.7777777777777778,\"#fb9f3a\"],[0.8888888888888888,\"#fdca26\"],[1.0,\"#f0f921\"]]},\"colorway\":[\"#636efa\",\"#EF553B\",\"#00cc96\",\"#ab63fa\",\"#FFA15A\",\"#19d3f3\",\"#FF6692\",\"#B6E880\",\"#FF97FF\",\"#FECB52\"],\"font\":{\"color\":\"#2a3f5f\"},\"geo\":{\"bgcolor\":\"white\",\"lakecolor\":\"white\",\"landcolor\":\"#E5ECF6\",\"showlakes\":true,\"showland\":true,\"subunitcolor\":\"white\"},\"hoverlabel\":{\"align\":\"left\"},\"hovermode\":\"closest\",\"mapbox\":{\"style\":\"light\"},\"paper_bgcolor\":\"white\",\"plot_bgcolor\":\"#E5ECF6\",\"polar\":{\"angularaxis\":{\"gridcolor\":\"white\",\"linecolor\":\"white\",\"ticks\":\"\"},\"bgcolor\":\"#E5ECF6\",\"radialaxis\":{\"gridcolor\":\"white\",\"linecolor\":\"white\",\"ticks\":\"\"}},\"scene\":{\"xaxis\":{\"backgroundcolor\":\"#E5ECF6\",\"gridcolor\":\"white\",\"gridwidth\":2,\"linecolor\":\"white\",\"showbackground\":true,\"ticks\":\"\",\"zerolinecolor\":\"white\"},\"yaxis\":{\"backgroundcolor\":\"#E5ECF6\",\"gridcolor\":\"white\",\"gridwidth\":2,\"linecolor\":\"white\",\"showbackground\":true,\"ticks\":\"\",\"zerolinecolor\":\"white\"},\"zaxis\":{\"backgroundcolor\":\"#E5ECF6\",\"gridcolor\":\"white\",\"gridwidth\":2,\"linecolor\":\"white\",\"showbackground\":true,\"ticks\":\"\",\"zerolinecolor\":\"white\"}},\"shapedefaults\":{\"line\":{\"color\":\"#2a3f5f\"}},\"ternary\":{\"aaxis\":{\"gridcolor\":\"white\",\"linecolor\":\"white\",\"ticks\":\"\"},\"baxis\":{\"gridcolor\":\"white\",\"linecolor\":\"white\",\"ticks\":\"\"},\"bgcolor\":\"#E5ECF6\",\"caxis\":{\"gridcolor\":\"white\",\"linecolor\":\"white\",\"ticks\":\"\"}},\"title\":{\"x\":0.05},\"xaxis\":{\"automargin\":true,\"gridcolor\":\"white\",\"linecolor\":\"white\",\"ticks\":\"\",\"title\":{\"standoff\":15},\"zerolinecolor\":\"white\",\"zerolinewidth\":2},\"yaxis\":{\"automargin\":true,\"gridcolor\":\"white\",\"linecolor\":\"white\",\"ticks\":\"\",\"title\":{\"standoff\":15},\"zerolinecolor\":\"white\",\"zerolinewidth\":2}}},\"title\":{\"text\":\"GANTT Chart\"},\"xaxis\":{\"range\":[\"1970-01-01T00:00:00\",\"1970-01-01T22:00:00\"],\"title\":{\"font\":{\"color\":\"#7f7f7f\",\"family\":\"Courier New, monospace\",\"size\":18},\"text\":\"Time\"}},\"yaxis\":{\"title\":{\"font\":{\"color\":\"#7f7f7f\",\"family\":\"Courier New, monospace\",\"size\":18},\"text\":\"Activities\"}}},                        {\"responsive\": true}                    ).then(function(){\n",
       "                            \n",
       "var gd = document.getElementById('2ea67054-9faa-4895-ac0e-6d3282639841');\n",
       "var x = new MutationObserver(function (mutations, observer) {{\n",
       "        var display = window.getComputedStyle(gd).display;\n",
       "        if (!display || display === 'none') {{\n",
       "            console.log([gd, 'removed!']);\n",
       "            Plotly.purge(gd);\n",
       "            observer.disconnect();\n",
       "        }}\n",
       "}});\n",
       "\n",
       "// Listen for the removal of the full notebook cells\n",
       "var notebookContainer = gd.closest('#notebook-container');\n",
       "if (notebookContainer) {{\n",
       "    x.observe(notebookContainer, {childList: true});\n",
       "}}\n",
       "\n",
       "// Listen for the clearing of the current output cell\n",
       "var outputEl = gd.closest('.output');\n",
       "if (outputEl) {{\n",
       "    x.observe(outputEl, {childList: true});\n",
       "}}\n",
       "\n",
       "                        })                };                });            </script>        </div>"
      ]
     },
     "metadata": {},
     "output_type": "display_data"
    }
   ],
   "source": [
    "fig = plot.get_gantt_chart([*vessels.values()], id_map=[*activities_tshd.values(), *activities_backhoe_barge.values()])"
   ]
  },
  {
   "cell_type": "code",
   "execution_count": 189,
   "id": "2c611e5f",
   "metadata": {},
   "outputs": [
    {
     "data": {
      "text/html": [
       "        <script type=\"text/javascript\">\n",
       "        window.PlotlyConfig = {MathJaxConfig: 'local'};\n",
       "        if (window.MathJax && window.MathJax.Hub && window.MathJax.Hub.Config) {window.MathJax.Hub.Config({SVG: {font: \"STIX-Web\"}});}\n",
       "        if (typeof require !== 'undefined') {\n",
       "        require.undef(\"plotly\");\n",
       "        requirejs.config({\n",
       "            paths: {\n",
       "                'plotly': ['https://cdn.plot.ly/plotly-2.18.0.min']\n",
       "            }\n",
       "        });\n",
       "        require(['plotly'], function(Plotly) {\n",
       "            window._Plotly = Plotly;\n",
       "        });\n",
       "        }\n",
       "        </script>\n",
       "        "
      ]
     },
     "metadata": {},
     "output_type": "display_data"
    },
    {
     "data": {
      "application/vnd.plotly.v1+json": {
       "config": {
        "linkText": "Export to plot.ly",
        "plotlyServerURL": "https://plot.ly",
        "showLink": false
       },
       "data": [
        {
         "connectgaps": false,
         "hoverinfo": "y+name",
         "line": {
          "color": "rgb(240,206,117)",
          "width": 10
         },
         "mode": "lines",
         "name": "loading:barge1",
         "type": "scatter",
         "x": [
          "1970-01-01T08:00:00",
          "1970-01-01T08:00:00",
          "1970-01-01T12:00:00",
          "1970-01-01T12:00:00",
          "1970-01-01T12:00:00",
          "1970-01-01T16:00:00",
          "1970-01-01T16:00:00",
          "1970-01-01T20:00:00",
          "1970-01-01T20:00:00",
          "1970-01-01T20:00:00"
         ],
         "y": [
          "berth",
          "berth",
          "berth",
          "berth",
          null,
          "berth",
          "berth",
          "berth",
          "berth",
          null
         ]
        },
        {
         "connectgaps": false,
         "hoverinfo": "y+name",
         "line": {
          "color": "rgb(16,238,149)",
          "width": 10
         },
         "mode": "lines",
         "name": "loading: tshd0",
         "type": "scatter",
         "x": [
          "1970-01-01T01:00:00",
          "1970-01-01T01:00:00",
          "1970-01-01T03:00:00",
          "1970-01-01T03:00:00",
          "1970-01-01T03:00:00",
          "1970-01-01T06:00:00",
          "1970-01-01T06:00:00",
          "1970-01-01T08:00:00",
          "1970-01-01T08:00:00",
          "1970-01-01T08:00:00",
          "1970-01-01T11:00:00",
          "1970-01-01T11:00:00",
          "1970-01-01T13:00:00",
          "1970-01-01T13:00:00",
          "1970-01-01T13:00:00",
          "1970-01-01T16:00:00",
          "1970-01-01T16:00:00",
          "1970-01-01T18:00:00",
          "1970-01-01T18:00:00",
          "1970-01-01T18:00:00"
         ],
         "y": [
          "berth",
          "berth",
          "berth",
          "berth",
          null,
          "berth",
          "berth",
          "berth",
          "berth",
          null,
          "berth",
          "berth",
          "berth",
          "berth",
          null,
          "berth",
          "berth",
          "berth",
          "berth",
          null
         ]
        },
        {
         "connectgaps": false,
         "hoverinfo": "y+name",
         "line": {
          "color": "rgb(48,14,181)",
          "width": 10
         },
         "mode": "lines",
         "name": "loading:barge0",
         "type": "scatter",
         "x": [
          "1970-01-01T03:00:00",
          "1970-01-01T03:00:00",
          "1970-01-01T07:00:00",
          "1970-01-01T07:00:00",
          "1970-01-01T07:00:00",
          "1970-01-01T12:00:00",
          "1970-01-01T12:00:00",
          "1970-01-01T16:00:00",
          "1970-01-01T16:00:00",
          "1970-01-01T16:00:00"
         ],
         "y": [
          "berth",
          "berth",
          "berth",
          "berth",
          null,
          "berth",
          "berth",
          "berth",
          "berth",
          null
         ]
        },
        {
         "connectgaps": false,
         "hoverinfo": "y+name",
         "line": {
          "color": "rgb(80,46,213)",
          "width": 10
         },
         "mode": "lines",
         "name": "loading: tshd1",
         "type": "scatter",
         "x": [
          "1970-01-01T01:00:00",
          "1970-01-01T01:00:00",
          "1970-01-01T03:00:00",
          "1970-01-01T03:00:00",
          "1970-01-01T03:00:00",
          "1970-01-01T07:00:00",
          "1970-01-01T07:00:00",
          "1970-01-01T09:00:00",
          "1970-01-01T09:00:00",
          "1970-01-01T09:00:00",
          "1970-01-01T13:00:00",
          "1970-01-01T13:00:00",
          "1970-01-01T15:00:00",
          "1970-01-01T15:00:00",
          "1970-01-01T15:00:00"
         ],
         "y": [
          "berth",
          "berth",
          "berth",
          "berth",
          null,
          "berth",
          "berth",
          "berth",
          "berth",
          null,
          "berth",
          "berth",
          "berth",
          "berth",
          null
         ]
        },
        {
         "connectgaps": false,
         "hoverinfo": "y+name",
         "line": {
          "color": "rgb(112,78,245)",
          "width": 10
         },
         "mode": "lines",
         "name": "unloading: barge1",
         "type": "scatter",
         "x": [
          "1970-01-01T13:30:00",
          "1970-01-01T13:30:00",
          "1970-01-01T14:00:00",
          "1970-01-01T14:00:00",
          "1970-01-01T14:00:00",
          "1970-01-01T21:30:00",
          "1970-01-01T21:30:00",
          "1970-01-01T22:00:00",
          "1970-01-01T22:00:00",
          "1970-01-01T22:00:00"
         ],
         "y": [
          "dump",
          "dump",
          "dump",
          "dump",
          null,
          "dump",
          "dump",
          "dump",
          "dump",
          null
         ]
        },
        {
         "connectgaps": false,
         "hoverinfo": "y+name",
         "line": {
          "color": "rgb(144,110,21)",
          "width": 10
         },
         "mode": "lines",
         "name": "unloading: barge0",
         "type": "scatter",
         "x": [
          "1970-01-01T08:30:00",
          "1970-01-01T08:30:00",
          "1970-01-01T09:00:00",
          "1970-01-01T09:00:00",
          "1970-01-01T09:00:00",
          "1970-01-01T17:30:00",
          "1970-01-01T17:30:00",
          "1970-01-01T18:00:00",
          "1970-01-01T18:00:00",
          "1970-01-01T18:00:00"
         ],
         "y": [
          "dump",
          "dump",
          "dump",
          "dump",
          null,
          "dump",
          "dump",
          "dump",
          "dump",
          null
         ]
        },
        {
         "connectgaps": false,
         "hoverinfo": "y+name",
         "line": {
          "color": "rgb(176,142,53)",
          "width": 10
         },
         "mode": "lines",
         "name": "unloading: tshd0",
         "type": "scatter",
         "x": [
          "1970-01-01T04:30:00",
          "1970-01-01T04:30:00",
          "1970-01-01T05:00:00",
          "1970-01-01T05:00:00",
          "1970-01-01T05:00:00",
          "1970-01-01T09:30:00",
          "1970-01-01T09:30:00",
          "1970-01-01T10:00:00",
          "1970-01-01T10:00:00",
          "1970-01-01T10:00:00",
          "1970-01-01T14:30:00",
          "1970-01-01T14:30:00",
          "1970-01-01T15:00:00",
          "1970-01-01T15:00:00",
          "1970-01-01T15:00:00",
          "1970-01-01T19:30:00",
          "1970-01-01T19:30:00",
          "1970-01-01T20:00:00",
          "1970-01-01T20:00:00",
          "1970-01-01T20:00:00"
         ],
         "y": [
          "dump",
          "dump",
          "dump",
          "dump",
          null,
          "dump",
          "dump",
          "dump",
          "dump",
          null,
          "dump",
          "dump",
          "dump",
          "dump",
          null,
          "dump",
          "dump",
          "dump",
          "dump",
          null
         ]
        },
        {
         "connectgaps": false,
         "hoverinfo": "y+name",
         "line": {
          "color": "rgb(208,174,85)",
          "width": 10
         },
         "mode": "lines",
         "name": "unloading: tshd1",
         "type": "scatter",
         "x": [
          "1970-01-01T04:30:00",
          "1970-01-01T04:30:00",
          "1970-01-01T05:00:00",
          "1970-01-01T05:00:00",
          "1970-01-01T05:00:00",
          "1970-01-01T10:30:00",
          "1970-01-01T10:30:00",
          "1970-01-01T11:00:00",
          "1970-01-01T11:00:00",
          "1970-01-01T11:00:00",
          "1970-01-01T16:30:00",
          "1970-01-01T16:30:00",
          "1970-01-01T17:00:00",
          "1970-01-01T17:00:00",
          "1970-01-01T17:00:00"
         ],
         "y": [
          "dump",
          "dump",
          "dump",
          "dump",
          null,
          "dump",
          "dump",
          "dump",
          "dump",
          null,
          "dump",
          "dump",
          "dump",
          "dump",
          null
         ]
        }
       ],
       "layout": {
        "hovermode": "closest",
        "legend": {
         "orientation": "h",
         "x": 0,
         "y": -0.2
        },
        "template": {
         "data": {
          "bar": [
           {
            "error_x": {
             "color": "#2a3f5f"
            },
            "error_y": {
             "color": "#2a3f5f"
            },
            "marker": {
             "line": {
              "color": "#E5ECF6",
              "width": 0.5
             },
             "pattern": {
              "fillmode": "overlay",
              "size": 10,
              "solidity": 0.2
             }
            },
            "type": "bar"
           }
          ],
          "barpolar": [
           {
            "marker": {
             "line": {
              "color": "#E5ECF6",
              "width": 0.5
             },
             "pattern": {
              "fillmode": "overlay",
              "size": 10,
              "solidity": 0.2
             }
            },
            "type": "barpolar"
           }
          ],
          "carpet": [
           {
            "aaxis": {
             "endlinecolor": "#2a3f5f",
             "gridcolor": "white",
             "linecolor": "white",
             "minorgridcolor": "white",
             "startlinecolor": "#2a3f5f"
            },
            "baxis": {
             "endlinecolor": "#2a3f5f",
             "gridcolor": "white",
             "linecolor": "white",
             "minorgridcolor": "white",
             "startlinecolor": "#2a3f5f"
            },
            "type": "carpet"
           }
          ],
          "choropleth": [
           {
            "colorbar": {
             "outlinewidth": 0,
             "ticks": ""
            },
            "type": "choropleth"
           }
          ],
          "contour": [
           {
            "colorbar": {
             "outlinewidth": 0,
             "ticks": ""
            },
            "colorscale": [
             [
              0,
              "#0d0887"
             ],
             [
              0.1111111111111111,
              "#46039f"
             ],
             [
              0.2222222222222222,
              "#7201a8"
             ],
             [
              0.3333333333333333,
              "#9c179e"
             ],
             [
              0.4444444444444444,
              "#bd3786"
             ],
             [
              0.5555555555555556,
              "#d8576b"
             ],
             [
              0.6666666666666666,
              "#ed7953"
             ],
             [
              0.7777777777777778,
              "#fb9f3a"
             ],
             [
              0.8888888888888888,
              "#fdca26"
             ],
             [
              1,
              "#f0f921"
             ]
            ],
            "type": "contour"
           }
          ],
          "contourcarpet": [
           {
            "colorbar": {
             "outlinewidth": 0,
             "ticks": ""
            },
            "type": "contourcarpet"
           }
          ],
          "heatmap": [
           {
            "colorbar": {
             "outlinewidth": 0,
             "ticks": ""
            },
            "colorscale": [
             [
              0,
              "#0d0887"
             ],
             [
              0.1111111111111111,
              "#46039f"
             ],
             [
              0.2222222222222222,
              "#7201a8"
             ],
             [
              0.3333333333333333,
              "#9c179e"
             ],
             [
              0.4444444444444444,
              "#bd3786"
             ],
             [
              0.5555555555555556,
              "#d8576b"
             ],
             [
              0.6666666666666666,
              "#ed7953"
             ],
             [
              0.7777777777777778,
              "#fb9f3a"
             ],
             [
              0.8888888888888888,
              "#fdca26"
             ],
             [
              1,
              "#f0f921"
             ]
            ],
            "type": "heatmap"
           }
          ],
          "heatmapgl": [
           {
            "colorbar": {
             "outlinewidth": 0,
             "ticks": ""
            },
            "colorscale": [
             [
              0,
              "#0d0887"
             ],
             [
              0.1111111111111111,
              "#46039f"
             ],
             [
              0.2222222222222222,
              "#7201a8"
             ],
             [
              0.3333333333333333,
              "#9c179e"
             ],
             [
              0.4444444444444444,
              "#bd3786"
             ],
             [
              0.5555555555555556,
              "#d8576b"
             ],
             [
              0.6666666666666666,
              "#ed7953"
             ],
             [
              0.7777777777777778,
              "#fb9f3a"
             ],
             [
              0.8888888888888888,
              "#fdca26"
             ],
             [
              1,
              "#f0f921"
             ]
            ],
            "type": "heatmapgl"
           }
          ],
          "histogram": [
           {
            "marker": {
             "pattern": {
              "fillmode": "overlay",
              "size": 10,
              "solidity": 0.2
             }
            },
            "type": "histogram"
           }
          ],
          "histogram2d": [
           {
            "colorbar": {
             "outlinewidth": 0,
             "ticks": ""
            },
            "colorscale": [
             [
              0,
              "#0d0887"
             ],
             [
              0.1111111111111111,
              "#46039f"
             ],
             [
              0.2222222222222222,
              "#7201a8"
             ],
             [
              0.3333333333333333,
              "#9c179e"
             ],
             [
              0.4444444444444444,
              "#bd3786"
             ],
             [
              0.5555555555555556,
              "#d8576b"
             ],
             [
              0.6666666666666666,
              "#ed7953"
             ],
             [
              0.7777777777777778,
              "#fb9f3a"
             ],
             [
              0.8888888888888888,
              "#fdca26"
             ],
             [
              1,
              "#f0f921"
             ]
            ],
            "type": "histogram2d"
           }
          ],
          "histogram2dcontour": [
           {
            "colorbar": {
             "outlinewidth": 0,
             "ticks": ""
            },
            "colorscale": [
             [
              0,
              "#0d0887"
             ],
             [
              0.1111111111111111,
              "#46039f"
             ],
             [
              0.2222222222222222,
              "#7201a8"
             ],
             [
              0.3333333333333333,
              "#9c179e"
             ],
             [
              0.4444444444444444,
              "#bd3786"
             ],
             [
              0.5555555555555556,
              "#d8576b"
             ],
             [
              0.6666666666666666,
              "#ed7953"
             ],
             [
              0.7777777777777778,
              "#fb9f3a"
             ],
             [
              0.8888888888888888,
              "#fdca26"
             ],
             [
              1,
              "#f0f921"
             ]
            ],
            "type": "histogram2dcontour"
           }
          ],
          "mesh3d": [
           {
            "colorbar": {
             "outlinewidth": 0,
             "ticks": ""
            },
            "type": "mesh3d"
           }
          ],
          "parcoords": [
           {
            "line": {
             "colorbar": {
              "outlinewidth": 0,
              "ticks": ""
             }
            },
            "type": "parcoords"
           }
          ],
          "pie": [
           {
            "automargin": true,
            "type": "pie"
           }
          ],
          "scatter": [
           {
            "fillpattern": {
             "fillmode": "overlay",
             "size": 10,
             "solidity": 0.2
            },
            "type": "scatter"
           }
          ],
          "scatter3d": [
           {
            "line": {
             "colorbar": {
              "outlinewidth": 0,
              "ticks": ""
             }
            },
            "marker": {
             "colorbar": {
              "outlinewidth": 0,
              "ticks": ""
             }
            },
            "type": "scatter3d"
           }
          ],
          "scattercarpet": [
           {
            "marker": {
             "colorbar": {
              "outlinewidth": 0,
              "ticks": ""
             }
            },
            "type": "scattercarpet"
           }
          ],
          "scattergeo": [
           {
            "marker": {
             "colorbar": {
              "outlinewidth": 0,
              "ticks": ""
             }
            },
            "type": "scattergeo"
           }
          ],
          "scattergl": [
           {
            "marker": {
             "colorbar": {
              "outlinewidth": 0,
              "ticks": ""
             }
            },
            "type": "scattergl"
           }
          ],
          "scattermapbox": [
           {
            "marker": {
             "colorbar": {
              "outlinewidth": 0,
              "ticks": ""
             }
            },
            "type": "scattermapbox"
           }
          ],
          "scatterpolar": [
           {
            "marker": {
             "colorbar": {
              "outlinewidth": 0,
              "ticks": ""
             }
            },
            "type": "scatterpolar"
           }
          ],
          "scatterpolargl": [
           {
            "marker": {
             "colorbar": {
              "outlinewidth": 0,
              "ticks": ""
             }
            },
            "type": "scatterpolargl"
           }
          ],
          "scatterternary": [
           {
            "marker": {
             "colorbar": {
              "outlinewidth": 0,
              "ticks": ""
             }
            },
            "type": "scatterternary"
           }
          ],
          "surface": [
           {
            "colorbar": {
             "outlinewidth": 0,
             "ticks": ""
            },
            "colorscale": [
             [
              0,
              "#0d0887"
             ],
             [
              0.1111111111111111,
              "#46039f"
             ],
             [
              0.2222222222222222,
              "#7201a8"
             ],
             [
              0.3333333333333333,
              "#9c179e"
             ],
             [
              0.4444444444444444,
              "#bd3786"
             ],
             [
              0.5555555555555556,
              "#d8576b"
             ],
             [
              0.6666666666666666,
              "#ed7953"
             ],
             [
              0.7777777777777778,
              "#fb9f3a"
             ],
             [
              0.8888888888888888,
              "#fdca26"
             ],
             [
              1,
              "#f0f921"
             ]
            ],
            "type": "surface"
           }
          ],
          "table": [
           {
            "cells": {
             "fill": {
              "color": "#EBF0F8"
             },
             "line": {
              "color": "white"
             }
            },
            "header": {
             "fill": {
              "color": "#C8D4E3"
             },
             "line": {
              "color": "white"
             }
            },
            "type": "table"
           }
          ]
         },
         "layout": {
          "annotationdefaults": {
           "arrowcolor": "#2a3f5f",
           "arrowhead": 0,
           "arrowwidth": 1
          },
          "autotypenumbers": "strict",
          "coloraxis": {
           "colorbar": {
            "outlinewidth": 0,
            "ticks": ""
           }
          },
          "colorscale": {
           "diverging": [
            [
             0,
             "#8e0152"
            ],
            [
             0.1,
             "#c51b7d"
            ],
            [
             0.2,
             "#de77ae"
            ],
            [
             0.3,
             "#f1b6da"
            ],
            [
             0.4,
             "#fde0ef"
            ],
            [
             0.5,
             "#f7f7f7"
            ],
            [
             0.6,
             "#e6f5d0"
            ],
            [
             0.7,
             "#b8e186"
            ],
            [
             0.8,
             "#7fbc41"
            ],
            [
             0.9,
             "#4d9221"
            ],
            [
             1,
             "#276419"
            ]
           ],
           "sequential": [
            [
             0,
             "#0d0887"
            ],
            [
             0.1111111111111111,
             "#46039f"
            ],
            [
             0.2222222222222222,
             "#7201a8"
            ],
            [
             0.3333333333333333,
             "#9c179e"
            ],
            [
             0.4444444444444444,
             "#bd3786"
            ],
            [
             0.5555555555555556,
             "#d8576b"
            ],
            [
             0.6666666666666666,
             "#ed7953"
            ],
            [
             0.7777777777777778,
             "#fb9f3a"
            ],
            [
             0.8888888888888888,
             "#fdca26"
            ],
            [
             1,
             "#f0f921"
            ]
           ],
           "sequentialminus": [
            [
             0,
             "#0d0887"
            ],
            [
             0.1111111111111111,
             "#46039f"
            ],
            [
             0.2222222222222222,
             "#7201a8"
            ],
            [
             0.3333333333333333,
             "#9c179e"
            ],
            [
             0.4444444444444444,
             "#bd3786"
            ],
            [
             0.5555555555555556,
             "#d8576b"
            ],
            [
             0.6666666666666666,
             "#ed7953"
            ],
            [
             0.7777777777777778,
             "#fb9f3a"
            ],
            [
             0.8888888888888888,
             "#fdca26"
            ],
            [
             1,
             "#f0f921"
            ]
           ]
          },
          "colorway": [
           "#636efa",
           "#EF553B",
           "#00cc96",
           "#ab63fa",
           "#FFA15A",
           "#19d3f3",
           "#FF6692",
           "#B6E880",
           "#FF97FF",
           "#FECB52"
          ],
          "font": {
           "color": "#2a3f5f"
          },
          "geo": {
           "bgcolor": "white",
           "lakecolor": "white",
           "landcolor": "#E5ECF6",
           "showlakes": true,
           "showland": true,
           "subunitcolor": "white"
          },
          "hoverlabel": {
           "align": "left"
          },
          "hovermode": "closest",
          "mapbox": {
           "style": "light"
          },
          "paper_bgcolor": "white",
          "plot_bgcolor": "#E5ECF6",
          "polar": {
           "angularaxis": {
            "gridcolor": "white",
            "linecolor": "white",
            "ticks": ""
           },
           "bgcolor": "#E5ECF6",
           "radialaxis": {
            "gridcolor": "white",
            "linecolor": "white",
            "ticks": ""
           }
          },
          "scene": {
           "xaxis": {
            "backgroundcolor": "#E5ECF6",
            "gridcolor": "white",
            "gridwidth": 2,
            "linecolor": "white",
            "showbackground": true,
            "ticks": "",
            "zerolinecolor": "white"
           },
           "yaxis": {
            "backgroundcolor": "#E5ECF6",
            "gridcolor": "white",
            "gridwidth": 2,
            "linecolor": "white",
            "showbackground": true,
            "ticks": "",
            "zerolinecolor": "white"
           },
           "zaxis": {
            "backgroundcolor": "#E5ECF6",
            "gridcolor": "white",
            "gridwidth": 2,
            "linecolor": "white",
            "showbackground": true,
            "ticks": "",
            "zerolinecolor": "white"
           }
          },
          "shapedefaults": {
           "line": {
            "color": "#2a3f5f"
           }
          },
          "ternary": {
           "aaxis": {
            "gridcolor": "white",
            "linecolor": "white",
            "ticks": ""
           },
           "baxis": {
            "gridcolor": "white",
            "linecolor": "white",
            "ticks": ""
           },
           "bgcolor": "#E5ECF6",
           "caxis": {
            "gridcolor": "white",
            "linecolor": "white",
            "ticks": ""
           }
          },
          "title": {
           "x": 0.05
          },
          "xaxis": {
           "automargin": true,
           "gridcolor": "white",
           "linecolor": "white",
           "ticks": "",
           "title": {
            "standoff": 15
           },
           "zerolinecolor": "white",
           "zerolinewidth": 2
          },
          "yaxis": {
           "automargin": true,
           "gridcolor": "white",
           "linecolor": "white",
           "ticks": "",
           "title": {
            "standoff": 15
           },
           "zerolinecolor": "white",
           "zerolinewidth": 2
          }
         }
        },
        "title": {
         "text": "GANTT Chart"
        },
        "xaxis": {
         "range": [
          "1970-01-01T01:00:00",
          "1970-01-01T22:00:00"
         ],
         "title": {
          "font": {
           "color": "#7f7f7f",
           "family": "Courier New, monospace",
           "size": 18
          },
          "text": "Time"
         }
        },
        "yaxis": {
         "title": {
          "font": {
           "color": "#7f7f7f",
           "family": "Courier New, monospace",
           "size": 18
          },
          "text": "Activities"
         }
        }
       }
      },
      "text/html": [
       "<div>                            <div id=\"61774273-1c48-45fb-8e23-a86639f7989f\" class=\"plotly-graph-div\" style=\"height:525px; width:100%;\"></div>            <script type=\"text/javascript\">                require([\"plotly\"], function(Plotly) {                    window.PLOTLYENV=window.PLOTLYENV || {};                                    if (document.getElementById(\"61774273-1c48-45fb-8e23-a86639f7989f\")) {                    Plotly.newPlot(                        \"61774273-1c48-45fb-8e23-a86639f7989f\",                        [{\"connectgaps\":false,\"hoverinfo\":\"y+name\",\"line\":{\"color\":\"rgb(240,206,117)\",\"width\":10},\"mode\":\"lines\",\"name\":\"loading:barge1\",\"x\":[\"1970-01-01T08:00:00\",\"1970-01-01T08:00:00\",\"1970-01-01T12:00:00\",\"1970-01-01T12:00:00\",\"1970-01-01T12:00:00\",\"1970-01-01T16:00:00\",\"1970-01-01T16:00:00\",\"1970-01-01T20:00:00\",\"1970-01-01T20:00:00\",\"1970-01-01T20:00:00\"],\"y\":[\"berth\",\"berth\",\"berth\",\"berth\",null,\"berth\",\"berth\",\"berth\",\"berth\",null],\"type\":\"scatter\"},{\"connectgaps\":false,\"hoverinfo\":\"y+name\",\"line\":{\"color\":\"rgb(16,238,149)\",\"width\":10},\"mode\":\"lines\",\"name\":\"loading: tshd0\",\"x\":[\"1970-01-01T01:00:00\",\"1970-01-01T01:00:00\",\"1970-01-01T03:00:00\",\"1970-01-01T03:00:00\",\"1970-01-01T03:00:00\",\"1970-01-01T06:00:00\",\"1970-01-01T06:00:00\",\"1970-01-01T08:00:00\",\"1970-01-01T08:00:00\",\"1970-01-01T08:00:00\",\"1970-01-01T11:00:00\",\"1970-01-01T11:00:00\",\"1970-01-01T13:00:00\",\"1970-01-01T13:00:00\",\"1970-01-01T13:00:00\",\"1970-01-01T16:00:00\",\"1970-01-01T16:00:00\",\"1970-01-01T18:00:00\",\"1970-01-01T18:00:00\",\"1970-01-01T18:00:00\"],\"y\":[\"berth\",\"berth\",\"berth\",\"berth\",null,\"berth\",\"berth\",\"berth\",\"berth\",null,\"berth\",\"berth\",\"berth\",\"berth\",null,\"berth\",\"berth\",\"berth\",\"berth\",null],\"type\":\"scatter\"},{\"connectgaps\":false,\"hoverinfo\":\"y+name\",\"line\":{\"color\":\"rgb(48,14,181)\",\"width\":10},\"mode\":\"lines\",\"name\":\"loading:barge0\",\"x\":[\"1970-01-01T03:00:00\",\"1970-01-01T03:00:00\",\"1970-01-01T07:00:00\",\"1970-01-01T07:00:00\",\"1970-01-01T07:00:00\",\"1970-01-01T12:00:00\",\"1970-01-01T12:00:00\",\"1970-01-01T16:00:00\",\"1970-01-01T16:00:00\",\"1970-01-01T16:00:00\"],\"y\":[\"berth\",\"berth\",\"berth\",\"berth\",null,\"berth\",\"berth\",\"berth\",\"berth\",null],\"type\":\"scatter\"},{\"connectgaps\":false,\"hoverinfo\":\"y+name\",\"line\":{\"color\":\"rgb(80,46,213)\",\"width\":10},\"mode\":\"lines\",\"name\":\"loading: tshd1\",\"x\":[\"1970-01-01T01:00:00\",\"1970-01-01T01:00:00\",\"1970-01-01T03:00:00\",\"1970-01-01T03:00:00\",\"1970-01-01T03:00:00\",\"1970-01-01T07:00:00\",\"1970-01-01T07:00:00\",\"1970-01-01T09:00:00\",\"1970-01-01T09:00:00\",\"1970-01-01T09:00:00\",\"1970-01-01T13:00:00\",\"1970-01-01T13:00:00\",\"1970-01-01T15:00:00\",\"1970-01-01T15:00:00\",\"1970-01-01T15:00:00\"],\"y\":[\"berth\",\"berth\",\"berth\",\"berth\",null,\"berth\",\"berth\",\"berth\",\"berth\",null,\"berth\",\"berth\",\"berth\",\"berth\",null],\"type\":\"scatter\"},{\"connectgaps\":false,\"hoverinfo\":\"y+name\",\"line\":{\"color\":\"rgb(112,78,245)\",\"width\":10},\"mode\":\"lines\",\"name\":\"unloading: barge1\",\"x\":[\"1970-01-01T13:30:00\",\"1970-01-01T13:30:00\",\"1970-01-01T14:00:00\",\"1970-01-01T14:00:00\",\"1970-01-01T14:00:00\",\"1970-01-01T21:30:00\",\"1970-01-01T21:30:00\",\"1970-01-01T22:00:00\",\"1970-01-01T22:00:00\",\"1970-01-01T22:00:00\"],\"y\":[\"dump\",\"dump\",\"dump\",\"dump\",null,\"dump\",\"dump\",\"dump\",\"dump\",null],\"type\":\"scatter\"},{\"connectgaps\":false,\"hoverinfo\":\"y+name\",\"line\":{\"color\":\"rgb(144,110,21)\",\"width\":10},\"mode\":\"lines\",\"name\":\"unloading: barge0\",\"x\":[\"1970-01-01T08:30:00\",\"1970-01-01T08:30:00\",\"1970-01-01T09:00:00\",\"1970-01-01T09:00:00\",\"1970-01-01T09:00:00\",\"1970-01-01T17:30:00\",\"1970-01-01T17:30:00\",\"1970-01-01T18:00:00\",\"1970-01-01T18:00:00\",\"1970-01-01T18:00:00\"],\"y\":[\"dump\",\"dump\",\"dump\",\"dump\",null,\"dump\",\"dump\",\"dump\",\"dump\",null],\"type\":\"scatter\"},{\"connectgaps\":false,\"hoverinfo\":\"y+name\",\"line\":{\"color\":\"rgb(176,142,53)\",\"width\":10},\"mode\":\"lines\",\"name\":\"unloading: tshd0\",\"x\":[\"1970-01-01T04:30:00\",\"1970-01-01T04:30:00\",\"1970-01-01T05:00:00\",\"1970-01-01T05:00:00\",\"1970-01-01T05:00:00\",\"1970-01-01T09:30:00\",\"1970-01-01T09:30:00\",\"1970-01-01T10:00:00\",\"1970-01-01T10:00:00\",\"1970-01-01T10:00:00\",\"1970-01-01T14:30:00\",\"1970-01-01T14:30:00\",\"1970-01-01T15:00:00\",\"1970-01-01T15:00:00\",\"1970-01-01T15:00:00\",\"1970-01-01T19:30:00\",\"1970-01-01T19:30:00\",\"1970-01-01T20:00:00\",\"1970-01-01T20:00:00\",\"1970-01-01T20:00:00\"],\"y\":[\"dump\",\"dump\",\"dump\",\"dump\",null,\"dump\",\"dump\",\"dump\",\"dump\",null,\"dump\",\"dump\",\"dump\",\"dump\",null,\"dump\",\"dump\",\"dump\",\"dump\",null],\"type\":\"scatter\"},{\"connectgaps\":false,\"hoverinfo\":\"y+name\",\"line\":{\"color\":\"rgb(208,174,85)\",\"width\":10},\"mode\":\"lines\",\"name\":\"unloading: tshd1\",\"x\":[\"1970-01-01T04:30:00\",\"1970-01-01T04:30:00\",\"1970-01-01T05:00:00\",\"1970-01-01T05:00:00\",\"1970-01-01T05:00:00\",\"1970-01-01T10:30:00\",\"1970-01-01T10:30:00\",\"1970-01-01T11:00:00\",\"1970-01-01T11:00:00\",\"1970-01-01T11:00:00\",\"1970-01-01T16:30:00\",\"1970-01-01T16:30:00\",\"1970-01-01T17:00:00\",\"1970-01-01T17:00:00\",\"1970-01-01T17:00:00\"],\"y\":[\"dump\",\"dump\",\"dump\",\"dump\",null,\"dump\",\"dump\",\"dump\",\"dump\",null,\"dump\",\"dump\",\"dump\",\"dump\",null],\"type\":\"scatter\"}],                        {\"hovermode\":\"closest\",\"legend\":{\"orientation\":\"h\",\"x\":0,\"y\":-0.2},\"template\":{\"data\":{\"barpolar\":[{\"marker\":{\"line\":{\"color\":\"#E5ECF6\",\"width\":0.5},\"pattern\":{\"fillmode\":\"overlay\",\"size\":10,\"solidity\":0.2}},\"type\":\"barpolar\"}],\"bar\":[{\"error_x\":{\"color\":\"#2a3f5f\"},\"error_y\":{\"color\":\"#2a3f5f\"},\"marker\":{\"line\":{\"color\":\"#E5ECF6\",\"width\":0.5},\"pattern\":{\"fillmode\":\"overlay\",\"size\":10,\"solidity\":0.2}},\"type\":\"bar\"}],\"carpet\":[{\"aaxis\":{\"endlinecolor\":\"#2a3f5f\",\"gridcolor\":\"white\",\"linecolor\":\"white\",\"minorgridcolor\":\"white\",\"startlinecolor\":\"#2a3f5f\"},\"baxis\":{\"endlinecolor\":\"#2a3f5f\",\"gridcolor\":\"white\",\"linecolor\":\"white\",\"minorgridcolor\":\"white\",\"startlinecolor\":\"#2a3f5f\"},\"type\":\"carpet\"}],\"choropleth\":[{\"colorbar\":{\"outlinewidth\":0,\"ticks\":\"\"},\"type\":\"choropleth\"}],\"contourcarpet\":[{\"colorbar\":{\"outlinewidth\":0,\"ticks\":\"\"},\"type\":\"contourcarpet\"}],\"contour\":[{\"colorbar\":{\"outlinewidth\":0,\"ticks\":\"\"},\"colorscale\":[[0.0,\"#0d0887\"],[0.1111111111111111,\"#46039f\"],[0.2222222222222222,\"#7201a8\"],[0.3333333333333333,\"#9c179e\"],[0.4444444444444444,\"#bd3786\"],[0.5555555555555556,\"#d8576b\"],[0.6666666666666666,\"#ed7953\"],[0.7777777777777778,\"#fb9f3a\"],[0.8888888888888888,\"#fdca26\"],[1.0,\"#f0f921\"]],\"type\":\"contour\"}],\"heatmapgl\":[{\"colorbar\":{\"outlinewidth\":0,\"ticks\":\"\"},\"colorscale\":[[0.0,\"#0d0887\"],[0.1111111111111111,\"#46039f\"],[0.2222222222222222,\"#7201a8\"],[0.3333333333333333,\"#9c179e\"],[0.4444444444444444,\"#bd3786\"],[0.5555555555555556,\"#d8576b\"],[0.6666666666666666,\"#ed7953\"],[0.7777777777777778,\"#fb9f3a\"],[0.8888888888888888,\"#fdca26\"],[1.0,\"#f0f921\"]],\"type\":\"heatmapgl\"}],\"heatmap\":[{\"colorbar\":{\"outlinewidth\":0,\"ticks\":\"\"},\"colorscale\":[[0.0,\"#0d0887\"],[0.1111111111111111,\"#46039f\"],[0.2222222222222222,\"#7201a8\"],[0.3333333333333333,\"#9c179e\"],[0.4444444444444444,\"#bd3786\"],[0.5555555555555556,\"#d8576b\"],[0.6666666666666666,\"#ed7953\"],[0.7777777777777778,\"#fb9f3a\"],[0.8888888888888888,\"#fdca26\"],[1.0,\"#f0f921\"]],\"type\":\"heatmap\"}],\"histogram2dcontour\":[{\"colorbar\":{\"outlinewidth\":0,\"ticks\":\"\"},\"colorscale\":[[0.0,\"#0d0887\"],[0.1111111111111111,\"#46039f\"],[0.2222222222222222,\"#7201a8\"],[0.3333333333333333,\"#9c179e\"],[0.4444444444444444,\"#bd3786\"],[0.5555555555555556,\"#d8576b\"],[0.6666666666666666,\"#ed7953\"],[0.7777777777777778,\"#fb9f3a\"],[0.8888888888888888,\"#fdca26\"],[1.0,\"#f0f921\"]],\"type\":\"histogram2dcontour\"}],\"histogram2d\":[{\"colorbar\":{\"outlinewidth\":0,\"ticks\":\"\"},\"colorscale\":[[0.0,\"#0d0887\"],[0.1111111111111111,\"#46039f\"],[0.2222222222222222,\"#7201a8\"],[0.3333333333333333,\"#9c179e\"],[0.4444444444444444,\"#bd3786\"],[0.5555555555555556,\"#d8576b\"],[0.6666666666666666,\"#ed7953\"],[0.7777777777777778,\"#fb9f3a\"],[0.8888888888888888,\"#fdca26\"],[1.0,\"#f0f921\"]],\"type\":\"histogram2d\"}],\"histogram\":[{\"marker\":{\"pattern\":{\"fillmode\":\"overlay\",\"size\":10,\"solidity\":0.2}},\"type\":\"histogram\"}],\"mesh3d\":[{\"colorbar\":{\"outlinewidth\":0,\"ticks\":\"\"},\"type\":\"mesh3d\"}],\"parcoords\":[{\"line\":{\"colorbar\":{\"outlinewidth\":0,\"ticks\":\"\"}},\"type\":\"parcoords\"}],\"pie\":[{\"automargin\":true,\"type\":\"pie\"}],\"scatter3d\":[{\"line\":{\"colorbar\":{\"outlinewidth\":0,\"ticks\":\"\"}},\"marker\":{\"colorbar\":{\"outlinewidth\":0,\"ticks\":\"\"}},\"type\":\"scatter3d\"}],\"scattercarpet\":[{\"marker\":{\"colorbar\":{\"outlinewidth\":0,\"ticks\":\"\"}},\"type\":\"scattercarpet\"}],\"scattergeo\":[{\"marker\":{\"colorbar\":{\"outlinewidth\":0,\"ticks\":\"\"}},\"type\":\"scattergeo\"}],\"scattergl\":[{\"marker\":{\"colorbar\":{\"outlinewidth\":0,\"ticks\":\"\"}},\"type\":\"scattergl\"}],\"scattermapbox\":[{\"marker\":{\"colorbar\":{\"outlinewidth\":0,\"ticks\":\"\"}},\"type\":\"scattermapbox\"}],\"scatterpolargl\":[{\"marker\":{\"colorbar\":{\"outlinewidth\":0,\"ticks\":\"\"}},\"type\":\"scatterpolargl\"}],\"scatterpolar\":[{\"marker\":{\"colorbar\":{\"outlinewidth\":0,\"ticks\":\"\"}},\"type\":\"scatterpolar\"}],\"scatter\":[{\"fillpattern\":{\"fillmode\":\"overlay\",\"size\":10,\"solidity\":0.2},\"type\":\"scatter\"}],\"scatterternary\":[{\"marker\":{\"colorbar\":{\"outlinewidth\":0,\"ticks\":\"\"}},\"type\":\"scatterternary\"}],\"surface\":[{\"colorbar\":{\"outlinewidth\":0,\"ticks\":\"\"},\"colorscale\":[[0.0,\"#0d0887\"],[0.1111111111111111,\"#46039f\"],[0.2222222222222222,\"#7201a8\"],[0.3333333333333333,\"#9c179e\"],[0.4444444444444444,\"#bd3786\"],[0.5555555555555556,\"#d8576b\"],[0.6666666666666666,\"#ed7953\"],[0.7777777777777778,\"#fb9f3a\"],[0.8888888888888888,\"#fdca26\"],[1.0,\"#f0f921\"]],\"type\":\"surface\"}],\"table\":[{\"cells\":{\"fill\":{\"color\":\"#EBF0F8\"},\"line\":{\"color\":\"white\"}},\"header\":{\"fill\":{\"color\":\"#C8D4E3\"},\"line\":{\"color\":\"white\"}},\"type\":\"table\"}]},\"layout\":{\"annotationdefaults\":{\"arrowcolor\":\"#2a3f5f\",\"arrowhead\":0,\"arrowwidth\":1},\"autotypenumbers\":\"strict\",\"coloraxis\":{\"colorbar\":{\"outlinewidth\":0,\"ticks\":\"\"}},\"colorscale\":{\"diverging\":[[0,\"#8e0152\"],[0.1,\"#c51b7d\"],[0.2,\"#de77ae\"],[0.3,\"#f1b6da\"],[0.4,\"#fde0ef\"],[0.5,\"#f7f7f7\"],[0.6,\"#e6f5d0\"],[0.7,\"#b8e186\"],[0.8,\"#7fbc41\"],[0.9,\"#4d9221\"],[1,\"#276419\"]],\"sequential\":[[0.0,\"#0d0887\"],[0.1111111111111111,\"#46039f\"],[0.2222222222222222,\"#7201a8\"],[0.3333333333333333,\"#9c179e\"],[0.4444444444444444,\"#bd3786\"],[0.5555555555555556,\"#d8576b\"],[0.6666666666666666,\"#ed7953\"],[0.7777777777777778,\"#fb9f3a\"],[0.8888888888888888,\"#fdca26\"],[1.0,\"#f0f921\"]],\"sequentialminus\":[[0.0,\"#0d0887\"],[0.1111111111111111,\"#46039f\"],[0.2222222222222222,\"#7201a8\"],[0.3333333333333333,\"#9c179e\"],[0.4444444444444444,\"#bd3786\"],[0.5555555555555556,\"#d8576b\"],[0.6666666666666666,\"#ed7953\"],[0.7777777777777778,\"#fb9f3a\"],[0.8888888888888888,\"#fdca26\"],[1.0,\"#f0f921\"]]},\"colorway\":[\"#636efa\",\"#EF553B\",\"#00cc96\",\"#ab63fa\",\"#FFA15A\",\"#19d3f3\",\"#FF6692\",\"#B6E880\",\"#FF97FF\",\"#FECB52\"],\"font\":{\"color\":\"#2a3f5f\"},\"geo\":{\"bgcolor\":\"white\",\"lakecolor\":\"white\",\"landcolor\":\"#E5ECF6\",\"showlakes\":true,\"showland\":true,\"subunitcolor\":\"white\"},\"hoverlabel\":{\"align\":\"left\"},\"hovermode\":\"closest\",\"mapbox\":{\"style\":\"light\"},\"paper_bgcolor\":\"white\",\"plot_bgcolor\":\"#E5ECF6\",\"polar\":{\"angularaxis\":{\"gridcolor\":\"white\",\"linecolor\":\"white\",\"ticks\":\"\"},\"bgcolor\":\"#E5ECF6\",\"radialaxis\":{\"gridcolor\":\"white\",\"linecolor\":\"white\",\"ticks\":\"\"}},\"scene\":{\"xaxis\":{\"backgroundcolor\":\"#E5ECF6\",\"gridcolor\":\"white\",\"gridwidth\":2,\"linecolor\":\"white\",\"showbackground\":true,\"ticks\":\"\",\"zerolinecolor\":\"white\"},\"yaxis\":{\"backgroundcolor\":\"#E5ECF6\",\"gridcolor\":\"white\",\"gridwidth\":2,\"linecolor\":\"white\",\"showbackground\":true,\"ticks\":\"\",\"zerolinecolor\":\"white\"},\"zaxis\":{\"backgroundcolor\":\"#E5ECF6\",\"gridcolor\":\"white\",\"gridwidth\":2,\"linecolor\":\"white\",\"showbackground\":true,\"ticks\":\"\",\"zerolinecolor\":\"white\"}},\"shapedefaults\":{\"line\":{\"color\":\"#2a3f5f\"}},\"ternary\":{\"aaxis\":{\"gridcolor\":\"white\",\"linecolor\":\"white\",\"ticks\":\"\"},\"baxis\":{\"gridcolor\":\"white\",\"linecolor\":\"white\",\"ticks\":\"\"},\"bgcolor\":\"#E5ECF6\",\"caxis\":{\"gridcolor\":\"white\",\"linecolor\":\"white\",\"ticks\":\"\"}},\"title\":{\"x\":0.05},\"xaxis\":{\"automargin\":true,\"gridcolor\":\"white\",\"linecolor\":\"white\",\"ticks\":\"\",\"title\":{\"standoff\":15},\"zerolinecolor\":\"white\",\"zerolinewidth\":2},\"yaxis\":{\"automargin\":true,\"gridcolor\":\"white\",\"linecolor\":\"white\",\"ticks\":\"\",\"title\":{\"standoff\":15},\"zerolinecolor\":\"white\",\"zerolinewidth\":2}}},\"title\":{\"text\":\"GANTT Chart\"},\"xaxis\":{\"range\":[\"1970-01-01T01:00:00\",\"1970-01-01T22:00:00\"],\"title\":{\"font\":{\"color\":\"#7f7f7f\",\"family\":\"Courier New, monospace\",\"size\":18},\"text\":\"Time\"}},\"yaxis\":{\"title\":{\"font\":{\"color\":\"#7f7f7f\",\"family\":\"Courier New, monospace\",\"size\":18},\"text\":\"Activities\"}}},                        {\"responsive\": true}                    ).then(function(){\n",
       "                            \n",
       "var gd = document.getElementById('61774273-1c48-45fb-8e23-a86639f7989f');\n",
       "var x = new MutationObserver(function (mutations, observer) {{\n",
       "        var display = window.getComputedStyle(gd).display;\n",
       "        if (!display || display === 'none') {{\n",
       "            console.log([gd, 'removed!']);\n",
       "            Plotly.purge(gd);\n",
       "            observer.disconnect();\n",
       "        }}\n",
       "}});\n",
       "\n",
       "// Listen for the removal of the full notebook cells\n",
       "var notebookContainer = gd.closest('#notebook-container');\n",
       "if (notebookContainer) {{\n",
       "    x.observe(notebookContainer, {childList: true});\n",
       "}}\n",
       "\n",
       "// Listen for the clearing of the current output cell\n",
       "var outputEl = gd.closest('.output');\n",
       "if (outputEl) {{\n",
       "    x.observe(outputEl, {childList: true});\n",
       "}}\n",
       "\n",
       "                        })                };                });            </script>        </div>"
      ]
     },
     "metadata": {},
     "output_type": "display_data"
    }
   ],
   "source": [
    "fig = plot.get_gantt_chart(\n",
    "    [berth, dump],\n",
    "    id_map=[*activities_tshd.values(), *activities_backhoe_barge.values()]\n",
    ")"
   ]
  },
  {
   "cell_type": "markdown",
   "id": "13ca5b5a",
   "metadata": {},
   "source": [
    "#### 4.3. Step chart\n",
    "Step charts can also be visulized to show the changes in the level of container (soil) in sites and vessels"
   ]
  },
  {
   "cell_type": "code",
   "execution_count": 190,
   "id": "f0aa800b",
   "metadata": {},
   "outputs": [
    {
     "data": {
      "image/png": "[encoded data removed]",
      "text/plain": [
       "<Figure size 1400x700 with 1 Axes>"
      ]
     },
     "metadata": {},
     "output_type": "display_data"
    }
   ],
   "source": [
    "fig = plot.get_step_chart([berth, dump, *vessels.values()])"
   ]
  },
  {
   "cell_type": "markdown",
   "id": "d85a3d55",
   "metadata": {},
   "source": [
    "## 5. Exercise\n",
    "\n",
    "Determine the total energy consumption of the maintenance dredging processes for different scenarios (different types and number of BHDs and TSHDs)\n",
    "Draw a graph that compares the emission of each scenario and the duration of doing each job."
   ]
  },
  {
   "cell_type": "markdown",
   "id": "ea94b68d",
   "metadata": {},
   "source": [
    "#### 5.1. Emission factors"
   ]
  },
  {
   "cell_type": "code",
   "execution_count": 191,
   "id": "1ed476cf",
   "metadata": {},
   "outputs": [
    {
     "name": "stdout",
     "output_type": "stream",
     "text": [
      "+-----------+-------------------------------------+\n",
      "| fuel_type | emission_factor (kg of CO2 per KWh) |\n",
      "+-----------+-------------------------------------+\n",
      "|   Diesel  |                 0.9                 |\n",
      "|  RMG 380  |                 0.8                 |\n",
      "|    DMA    |                 0.6                 |\n",
      "|    LNG    |                 0.5                 |\n",
      "|    MGO    |                 0.7                 |\n",
      "|   Gasoil  |                 0.85                |\n",
      "|    MDO    |                 0.75                |\n",
      "+-----------+-------------------------------------+\n"
     ]
    }
   ],
   "source": [
    "from prettytable import PrettyTable\n",
    "\n",
    "# Create a PrettyTable object\n",
    "table = PrettyTable()\n",
    "\n",
    "# Define column names\n",
    "table.field_names = [\"fuel_type\", \"emission_factor (kg of CO2 per KWh)\"]\n",
    "\n",
    "# Add rows to the table\n",
    "table.add_row([\"Diesel\", \"0.9\"])\n",
    "table.add_row([\"RMG 380\", \"0.8\"])\n",
    "table.add_row([\"DMA\", \"0.6\"])\n",
    "table.add_row([\"LNG\", \"0.5\"])\n",
    "table.add_row([\"MGO\", \"0.7\"])\n",
    "table.add_row([\"Gasoil\", \"0.85\"])\n",
    "table.add_row([\"MDO\", \"0.75\"])\n",
    "\n",
    "# Print the table\n",
    "print(table)"
   ]
  },
  {
   "cell_type": "markdown",
   "id": "74a6cb3d",
   "metadata": {},
   "source": [
    "#### 5.2. Power consumption"
   ]
  },
  {
   "cell_type": "code",
   "execution_count": 192,
   "id": "73b2085c",
   "metadata": {},
   "outputs": [
    {
     "data": {
      "text/html": [
       "<div>\n",
       "<style scoped>\n",
       "    .dataframe tbody tr th:only-of-type {\n",
       "        vertical-align: middle;\n",
       "    }\n",
       "\n",
       "    .dataframe tbody tr th {\n",
       "        vertical-align: top;\n",
       "    }\n",
       "\n",
       "    .dataframe thead th {\n",
       "        text-align: right;\n",
       "    }\n",
       "</style>\n",
       "<table border=\"1\" class=\"dataframe\">\n",
       "  <thead>\n",
       "    <tr style=\"text-align: right;\">\n",
       "      <th></th>\n",
       "      <th>sailing empty [kW]</th>\n",
       "      <th>loading [kW]</th>\n",
       "      <th>sailing full [kW]</th>\n",
       "      <th>unloading [kW]</th>\n",
       "      <th>WAIT [kW]</th>\n",
       "      <th>fuel_type</th>\n",
       "    </tr>\n",
       "    <tr>\n",
       "      <th>barge_name</th>\n",
       "      <th></th>\n",
       "      <th></th>\n",
       "      <th></th>\n",
       "      <th></th>\n",
       "      <th></th>\n",
       "      <th></th>\n",
       "    </tr>\n",
       "  </thead>\n",
       "  <tbody>\n",
       "    <tr>\n",
       "      <th>barge I</th>\n",
       "      <td>300</td>\n",
       "      <td>100</td>\n",
       "      <td>500</td>\n",
       "      <td>150</td>\n",
       "      <td>30</td>\n",
       "      <td>Diesel</td>\n",
       "    </tr>\n",
       "    <tr>\n",
       "      <th>barge II</th>\n",
       "      <td>300</td>\n",
       "      <td>100</td>\n",
       "      <td>500</td>\n",
       "      <td>150</td>\n",
       "      <td>30</td>\n",
       "      <td>Diesel</td>\n",
       "    </tr>\n",
       "    <tr>\n",
       "      <th>barge III</th>\n",
       "      <td>300</td>\n",
       "      <td>100</td>\n",
       "      <td>500</td>\n",
       "      <td>150</td>\n",
       "      <td>30</td>\n",
       "      <td>Diesel</td>\n",
       "    </tr>\n",
       "  </tbody>\n",
       "</table>\n",
       "</div>"
      ],
      "text/plain": [
       "            sailing empty [kW]  loading [kW]  sailing full [kW]  \\\n",
       "barge_name                                                        \n",
       "barge I                    300           100                500   \n",
       "barge II                   300           100                500   \n",
       "barge III                  300           100                500   \n",
       "\n",
       "            unloading [kW]  WAIT [kW] fuel_type  \n",
       "barge_name                                       \n",
       "barge I                150         30    Diesel  \n",
       "barge II               150         30    Diesel  \n",
       "barge III              150         30    Diesel  "
      ]
     },
     "execution_count": 192,
     "metadata": {},
     "output_type": "execute_result"
    }
   ],
   "source": [
    "# In this exercise, you can adopt maximum three identical barges\n",
    "\n",
    "barge_empty = 300 # kW\n",
    "barge_full = 500 # kW\n",
    "barge_loading = 100 # kW\n",
    "barge_unloading = 150 # kW\n",
    "barge_WAIT = 30 # kW\n",
    "\n",
    "\n",
    "barge_specs = pd.DataFrame.from_dict(\n",
    "       {'sailing empty [kW]':{'barge I':barge_empty,'barge II':barge_empty,'barge III':barge_empty},\n",
    "       'loading [kW]':{'barge I':barge_loading, 'barge II':barge_loading,'barge III':barge_loading},\n",
    "       'sailing full [kW]':{'barge I':barge_full,'barge II':barge_full,'barge III':barge_full},\n",
    "       'unloading [kW]':{'barge I':barge_unloading,'barge II':barge_unloading,'barge III':barge_unloading},\n",
    "       'WAIT [kW]':{'barge I':barge_WAIT,'barge II':barge_WAIT,'barge III':barge_WAIT},\n",
    "       'fuel_type':{'barge I':'Diesel','barge II':'Diesel','barge III':'Diesel'},\n",
    "       }\n",
    ")\n",
    "\n",
    "barge_specs.index.name = 'barge_name' \n",
    "barge_specs.to_csv('barge_specs.csv', index=True)\n",
    "vessel_specs = pd.read_csv('barge_specs.csv', index_col='barge_name')\n",
    "vessel_specs"
   ]
  },
  {
   "cell_type": "markdown",
   "id": "a628dec7",
   "metadata": {},
   "source": [
    "### 6. Answers\n",
    "\n",
    "Please quantify the duration and emissions of each scenario when utilizing differnt vessels from the fleet list (Backhoes and TSHDs).\n",
    "\n",
    "* Barges are identical and maximum three of them can be used for re-allocating the sediments collected by the Backhoe dredger.\n",
    "* Maximum one Backhoe dredger can be used for the maintenance dredging but the number of TSHDs are unlimited. However, if you choose too many of them, the simulation stops because not all of them are operating."
   ]
  },
  {
   "cell_type": "code",
   "execution_count": null,
   "id": "aa4e3de6",
   "metadata": {},
   "outputs": [],
   "source": []
  }
 ],
 "metadata": {
  "kernelspec": {
   "display_name": "Python 3 (ipykernel)",
   "language": "python",
   "name": "python3"
  },
  "language_info": {
   "codemirror_mode": {
    "name": "ipython",
    "version": 3
   },
   "file_extension": ".py",
   "mimetype": "text/x-python",
   "name": "python",
   "nbconvert_exporter": "python",
   "pygments_lexer": "ipython3",
   "version": "3.9.16"
  }
 },
 "nbformat": 4,
 "nbformat_minor": 5
}
