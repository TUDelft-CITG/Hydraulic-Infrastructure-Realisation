{
 "cells": [
  {
   "cell_type": "markdown",
   "id": "9f1b7ee1",
   "metadata": {},
   "source": [
    "### Single Run with Priority\n",
    "\n",
    "This notebook is developed based on single run for multiple containers. One dredging vessel along with one seagoing vessel serve the same berth area.\n",
    "The aim of this notebook is to find out how the single run and vessels log change when\n",
    "* case 1: the dredging vessel is prior\n",
    "* case 2: the seagoing vessel is prior"
   ]
  },
  {
   "cell_type": "code",
   "execution_count": 11,
   "id": "bd1db812",
   "metadata": {},
   "outputs": [
    {
     "ename": "ImportError",
     "evalue": "cannot import name 'Location' from 'openclsim.core.priority' (C:\\Users\\asepehri\\github\\OpenCLSim\\src\\openclsim\\core\\priority.py)",
     "output_type": "error",
     "traceback": [
      "\u001b[1;31m---------------------------------------------------------------------------\u001b[0m",
      "\u001b[1;31mImportError\u001b[0m                               Traceback (most recent call last)",
      "Cell \u001b[1;32mIn[11], line 8\u001b[0m\n\u001b[0;32m      6\u001b[0m \u001b[39mimport\u001b[39;00m \u001b[39mdatetime\u001b[39;00m\u001b[39m,\u001b[39m \u001b[39mtime\u001b[39;00m\n\u001b[0;32m      7\u001b[0m \u001b[39mimport\u001b[39;00m \u001b[39msimpy\u001b[39;00m\n\u001b[1;32m----> 8\u001b[0m \u001b[39mimport\u001b[39;00m \u001b[39mopenclsim\u001b[39;00m\n\u001b[0;32m      9\u001b[0m \u001b[39mimport\u001b[39;00m \u001b[39mopentnsim\u001b[39;00m\n\u001b[0;32m     11\u001b[0m \u001b[39mimport\u001b[39;00m \u001b[39mpandas\u001b[39;00m \u001b[39mas\u001b[39;00m \u001b[39mpd\u001b[39;00m\n",
      "File \u001b[1;32m~\\github\\OpenCLSim\\src\\openclsim\\__init__.py:3\u001b[0m\n\u001b[0;32m      1\u001b[0m \u001b[39m\"\"\"Top-level package for OpenCLSim.\"\"\"\u001b[39;00m\n\u001b[1;32m----> 3\u001b[0m \u001b[39mimport\u001b[39;00m \u001b[39mopenclsim\u001b[39;00m\u001b[39m.\u001b[39;00m\u001b[39mcore\u001b[39;00m \u001b[39mas\u001b[39;00m \u001b[39mcore\u001b[39;00m\n\u001b[0;32m      4\u001b[0m \u001b[39mimport\u001b[39;00m \u001b[39mopenclsim\u001b[39;00m\u001b[39m.\u001b[39;00m\u001b[39mmodel\u001b[39;00m \u001b[39mas\u001b[39;00m \u001b[39mmodel\u001b[39;00m\n\u001b[0;32m      5\u001b[0m \u001b[39mimport\u001b[39;00m \u001b[39mopenclsim\u001b[39;00m\u001b[39m.\u001b[39;00m\u001b[39mplot\u001b[39;00m \u001b[39mas\u001b[39;00m \u001b[39mplot\u001b[39;00m\n",
      "File \u001b[1;32m~\\github\\OpenCLSim\\src\\openclsim\\core\\__init__.py:13\u001b[0m\n\u001b[0;32m     11\u001b[0m \u001b[39mfrom\u001b[39;00m \u001b[39m.\u001b[39;00m\u001b[39msimpy_object\u001b[39;00m \u001b[39mimport\u001b[39;00m SimpyObject\n\u001b[0;32m     12\u001b[0m \u001b[39mfrom\u001b[39;00m \u001b[39m.\u001b[39;00m\u001b[39mpriority\u001b[39;00m \u001b[39mimport\u001b[39;00m Priority\n\u001b[1;32m---> 13\u001b[0m \u001b[39mfrom\u001b[39;00m \u001b[39m.\u001b[39;00m\u001b[39mpriority\u001b[39;00m \u001b[39mimport\u001b[39;00m Location\n\u001b[0;32m     15\u001b[0m __all__ \u001b[39m=\u001b[39m [\n\u001b[0;32m     16\u001b[0m     \u001b[39m\"\u001b[39m\u001b[39mbasic\u001b[39m\u001b[39m\"\u001b[39m,\n\u001b[0;32m     17\u001b[0m     \u001b[39m\"\u001b[39m\u001b[39mHasContainer\u001b[39m\u001b[39m\"\u001b[39m,\n\u001b[1;32m   (...)\u001b[0m\n\u001b[0;32m     32\u001b[0m     \u001b[39m\"\u001b[39m\u001b[39mPriority\u001b[39m\u001b[39m\"\u001b[39m,\n\u001b[0;32m     33\u001b[0m ]\n",
      "\u001b[1;31mImportError\u001b[0m: cannot import name 'Location' from 'openclsim.core.priority' (C:\\Users\\asepehri\\github\\OpenCLSim\\src\\openclsim\\core\\priority.py)"
     ]
    }
   ],
   "source": [
    "import networkx as nx  \n",
    "import shapely.geometry\n",
    "import pyproj\n",
    "\n",
    "\n",
    "import datetime, time\n",
    "import simpy\n",
    "import openclsim\n",
    "import opentnsim\n",
    "\n",
    "import pandas as pd\n",
    "\n",
    "import matplotlib.pyplot as plt\n",
    "import folium"
   ]
  },
  {
   "cell_type": "code",
   "execution_count": null,
   "id": "10df29e5",
   "metadata": {},
   "outputs": [],
   "source": [
    "# setup environment\n",
    "simulation_start = 0\n",
    "my_env = simpy.Environment(initial_time=simulation_start)"
   ]
  },
  {
   "cell_type": "code",
   "execution_count": null,
   "id": "396aa906",
   "metadata": {},
   "outputs": [
    {
     "name": "stdout",
     "output_type": "stream",
     "text": [
      "Number of edges is 4\n"
     ]
    },
    {
     "data": {
      "image/png": "[encoded data removed]",
      "text/plain": [
       "<Figure size 640x480 with 1 Axes>"
      ]
     },
     "metadata": {},
     "output_type": "display_data"
    }
   ],
   "source": [
    "# we start with creating a graph \n",
    "graph = nx.DiGraph()\n",
    "\n",
    "# make your preferred Site class out of available mix-ins which is a combination of mixins from OpenCLSim and OpenTNSim.\n",
    "Location = type('Site',\n",
    "            (openclsim.core.Identifiable,\n",
    "             openclsim.core.Log,\n",
    "             openclsim.core.Locatable,\n",
    "             openclsim.core.HasContainer,\n",
    "             openclsim.core.HasResource,), {})\n",
    "\n",
    "# three locations (offshore, berth, and dump) are defined to allow the vessels pass the nodes back and forth.\n",
    "# based on the mixins, more attributes are defined for each location.\n",
    "locations = []\n",
    "\n",
    "location_offshore = shapely.geometry.Point(3.637610458072877, 52.10701582514347)\n",
    "data_offshore = {\"env\": my_env,\n",
    "                 \"name\": \"offshore\",\n",
    "                 \"geometry\": location_offshore,\n",
    "                 \"capacity\": 100,\n",
    "                 \"level\": 100,\n",
    "                }\n",
    "locations.append(Location(**data_offshore))\n",
    "offshore = Location(**data_offshore)\n",
    "\n",
    "location_berth = shapely.geometry.Point(4.062705498083785,51.95909715255291)\n",
    "data_berth = {\"env\": my_env,\n",
    "              \"name\": \"berth\",\n",
    "              \"geometry\": location_berth,\n",
    "              \"capacity\": 100,\n",
    "              \"level\": 100,\n",
    "             }\n",
    "locations.append(Location(**data_berth))\n",
    "berth = Location(**data_berth)\n",
    "\n",
    "location_dump = shapely.geometry.Point(4.1795229742823,52.11590591837503)\n",
    "data_dump = {\"env\": my_env,\n",
    "             \"name\": \"dump\",\n",
    "             \"geometry\": location_dump,\n",
    "             \"capacity\": 100,\n",
    "             \"level\": 0\n",
    "            }\n",
    "locations.append(Location(**data_dump))\n",
    "dump = Location(**data_dump)   \n",
    "        \n",
    "# a graph is initiated based on the name and gemometry of locations.\n",
    "# other attributes such as store_capacity and initials are not being used for drawing the graph.\n",
    "for location in locations:\n",
    "    graph.add_node(location.name,\n",
    "                geometry = location.geometry)\n",
    "     \n",
    "# add edges\n",
    "path = [[locations[i], locations[i+1]] for i in range(len(locations)-1)]\n",
    "\n",
    "for index, edge in enumerate(path):\n",
    "    graph.add_edge(edge[0].name, edge[1].name, weight = 1)\n",
    "    \n",
    "# toggle to undirected and back to directed to make sure all edges are two way traffic\n",
    "graph = graph.to_undirected() \n",
    "graph = graph.to_directed()\n",
    "\n",
    "# create a positions dict for the purpose of plotting\n",
    "positions = {}\n",
    "for location in graph.nodes:\n",
    "    positions[location] = (graph.nodes[location]['geometry'].x, graph.nodes[location]['geometry'].y)\n",
    "    \n",
    "# collect node labels.\n",
    "labels = {}\n",
    "for location in graph.nodes:\n",
    "    labels[location] = location\n",
    "print('Number of edges is {}'.format(len(graph.edges)))\n",
    "\n",
    "# draw edges, nodes and labels.\n",
    "nx.draw_networkx_edges(graph,  pos=positions, width=3, edge_color=\"red\", alpha=1, arrowsize=40)\n",
    "nx.draw_networkx_nodes(graph,  pos=positions, node_color=\"darkblue\", node_size=1500)\n",
    "nx.draw_networkx_labels(graph, pos=positions, labels=labels, font_size=8, font_weight='bold', font_color=\"white\")\n",
    "\n",
    "plt.axis(\"off\")\n",
    "plt.show()"
   ]
  },
  {
   "cell_type": "code",
   "execution_count": null,
   "id": "f4953daf",
   "metadata": {},
   "outputs": [],
   "source": [
    "# add a graph to the environment\n",
    "my_env.graph = graph"
   ]
  },
  {
   "cell_type": "code",
   "execution_count": null,
   "id": "6408a82f",
   "metadata": {},
   "outputs": [],
   "source": [
    "# create a Site object based on desired mixin classes\n",
    "Site = type(\n",
    "    \"Site\",\n",
    "    (\n",
    "        openclsim.core.Identifiable,\n",
    "        openclsim.core.Log,\n",
    "        openclsim.core.Locatable,\n",
    "        openclsim.core.HasContainer,\n",
    "        openclsim.core.HasResource,\n",
    "    ),\n",
    "    {},\n",
    ")\n",
    "\n",
    "# create a TransportProcessingResource  object based on desired mixin classes\n",
    "Vessel_obj_01 = type(\n",
    "    \"TransportProcessingResource\",\n",
    "    (\n",
    "        openclsim.core.Identifiable,\n",
    "        openclsim.core.Log,\n",
    "        openclsim.core.ContainerDependentMovable,\n",
    "        openclsim.core.Processor,\n",
    "        openclsim.core.HasResource,\n",
    "        openclsim.core.LoadingFunction,\n",
    "        openclsim.core.UnloadingFunction,\n",
    "        openclsim.core.Priority,\n",
    "    ),\n",
    "    {},\n",
    ")"
   ]
  },
  {
   "cell_type": "code",
   "execution_count": null,
   "id": "197a7c04",
   "metadata": {},
   "outputs": [],
   "source": [
    "# data from_site\n",
    "data_from_site = {\n",
    "    \"env\": my_env,\n",
    "    \"name\": berth,\n",
    "    \"geometry\": location_berth,\n",
    "    \"capacity\": 100,\n",
    "    \"level\": 100\n",
    "}\n",
    "# instantiate from_site \n",
    "from_site = Site(**data_from_site)\n",
    "\n",
    "# data to_site\n",
    "data_to_site = {\n",
    "    \"env\": my_env,\n",
    "    \"name\": dump,\n",
    "    \"geometry\": location_dump,\n",
    "    \"capacity\": 100,\n",
    "    \"level\": 0\n",
    "}\n",
    "# instantiate to_site \n",
    "to_site = Site(**data_to_site)"
   ]
  },
  {
   "cell_type": "code",
   "execution_count": 5,
   "id": "eb96460b",
   "metadata": {},
   "outputs": [
    {
     "ename": "NameError",
     "evalue": "name 'my_env' is not defined",
     "output_type": "error",
     "traceback": [
      "\u001b[1;31m---------------------------------------------------------------------------\u001b[0m",
      "\u001b[1;31mNameError\u001b[0m                                 Traceback (most recent call last)",
      "Cell \u001b[1;32mIn[5], line 3\u001b[0m\n\u001b[0;32m      1\u001b[0m \u001b[39m# prepare input data for vessel_01\u001b[39;00m\n\u001b[0;32m      2\u001b[0m data_vessel01 \u001b[39m=\u001b[39m {\n\u001b[1;32m----> 3\u001b[0m     \u001b[39m\"\u001b[39m\u001b[39menv\u001b[39m\u001b[39m\"\u001b[39m: my_env,\n\u001b[0;32m      4\u001b[0m     \u001b[39m\"\u001b[39m\u001b[39mname\u001b[39m\u001b[39m\"\u001b[39m: \u001b[39m\"\u001b[39m\u001b[39mvessel01\u001b[39m\u001b[39m\"\u001b[39m,\n\u001b[0;32m      5\u001b[0m     \u001b[39m\"\u001b[39m\u001b[39mgeometry\u001b[39m\u001b[39m\"\u001b[39m: location_berth, \n\u001b[0;32m      6\u001b[0m     \u001b[39m\"\u001b[39m\u001b[39mloading_rate\u001b[39m\u001b[39m\"\u001b[39m: \u001b[39m1\u001b[39m,\n\u001b[0;32m      7\u001b[0m     \u001b[39m\"\u001b[39m\u001b[39munloading_rate\u001b[39m\u001b[39m\"\u001b[39m: \u001b[39m5\u001b[39m,\n\u001b[0;32m      8\u001b[0m     \u001b[39m\"\u001b[39m\u001b[39mcapacity\u001b[39m\u001b[39m\"\u001b[39m: \u001b[39m10\u001b[39m,\n\u001b[0;32m      9\u001b[0m     \u001b[39m\"\u001b[39m\u001b[39mtype\u001b[39m\u001b[39m\"\u001b[39m:\u001b[39m\"\u001b[39m\u001b[39mdredging_vessel\u001b[39m\u001b[39m\"\u001b[39m,\n\u001b[0;32m     10\u001b[0m     \u001b[39m\"\u001b[39m\u001b[39mpriority\u001b[39m\u001b[39m\"\u001b[39m: \u001b[39m1\u001b[39m,\n\u001b[0;32m     11\u001b[0m     \u001b[39m\"\u001b[39m\u001b[39mcontainer\u001b[39m\u001b[39m\"\u001b[39m: \u001b[39m\"\u001b[39m\u001b[39msoil\u001b[39m\u001b[39m\"\u001b[39m,\n\u001b[0;32m     12\u001b[0m     \u001b[39m\"\u001b[39m\u001b[39mcompute_v\u001b[39m\u001b[39m\"\u001b[39m: \u001b[39mlambda\u001b[39;00m x: \u001b[39m10\u001b[39m \u001b[39m+\u001b[39m \u001b[39m2\u001b[39m \u001b[39m*\u001b[39m x,\n\u001b[0;32m     13\u001b[0m }\n\u001b[0;32m     14\u001b[0m \u001b[39m# instantiate vessel_01 \u001b[39;00m\n\u001b[0;32m     15\u001b[0m vessel01 \u001b[39m=\u001b[39m Vessel_obj_01(\u001b[39m*\u001b[39m\u001b[39m*\u001b[39mdata_vessel01)\n",
      "\u001b[1;31mNameError\u001b[0m: name 'my_env' is not defined"
     ]
    }
   ],
   "source": [
    "# prepare input data for vessel_01\n",
    "data_vessel01 = {\n",
    "    \"env\": my_env,\n",
    "    \"name\": \"vessel01\",\n",
    "    \"geometry\": location_berth, \n",
    "    \"loading_rate\": 1,\n",
    "    \"unloading_rate\": 5,\n",
    "    \"capacity\": 10,\n",
    "    \"type\":\"dredging_vessel\",\n",
    "    \"priority\": 1,\n",
    "    \"container\": \"soil\",\n",
    "    \"compute_v\": lambda x: 10 + 2 * x,\n",
    "}\n",
    "# instantiate vessel_01 \n",
    "vessel01 = Vessel_obj_01(**data_vessel01)\n",
    "# assert not vessel01.metadata"
   ]
  },
  {
   "cell_type": "code",
   "execution_count": null,
   "id": "2329f3f4",
   "metadata": {},
   "outputs": [],
   "source": [
    "# initialise registry\n",
    "registry = {}"
   ]
  },
  {
   "cell_type": "code",
   "execution_count": null,
   "id": "6ac4b3d9",
   "metadata": {},
   "outputs": [],
   "source": [
    "# create a 'while activity' that contains a pre-packed set of 'sub_processes'\n",
    "single_run, while_activity  = openclsim.model.single_run_process(\n",
    "    name=\"single_run\",\n",
    "    registry={},\n",
    "    env=my_env,\n",
    "    origin=berth,\n",
    "    destination=dump,\n",
    "    mover=vessel01,\n",
    "    loader=vessel01,\n",
    "    unloader=vessel01,\n",
    ")\n",
    "# activity = openclsim.model.MoveActivity(\n",
    "#     env=my_env,\n",
    "#     name=\"Move activity of dredging vessel\",\n",
    "#     registry=registry,\n",
    "#     mover=vessel01,\n",
    "#     destination=dump,\n",
    "# )"
   ]
  },
  {
   "cell_type": "code",
   "execution_count": null,
   "id": "da632d50",
   "metadata": {},
   "outputs": [],
   "source": [
    "openclsim.model.register_processes([while_activity])"
   ]
  },
  {
   "cell_type": "code",
   "execution_count": null,
   "id": "69f85ca3",
   "metadata": {},
   "outputs": [
    {
     "name": "stdout",
     "output_type": "stream",
     "text": [
      "mover vessel01 destination berth\n",
      "updating to destination geometry POINT (4.062705498083785 51.95909715255291)\n",
      "mover vessel01 destination dump\n",
      "updating to destination geometry POINT (4.1795229742823 52.11590591837503)\n",
      "mover vessel01 destination berth\n",
      "updating to destination geometry POINT (4.062705498083785 51.95909715255291)\n",
      "mover vessel01 destination dump\n",
      "updating to destination geometry POINT (4.1795229742823 52.11590591837503)\n",
      "mover vessel01 destination berth\n",
      "updating to destination geometry POINT (4.062705498083785 51.95909715255291)\n",
      "mover vessel01 destination dump\n",
      "updating to destination geometry POINT (4.1795229742823 52.11590591837503)\n",
      "mover vessel01 destination berth\n",
      "updating to destination geometry POINT (4.062705498083785 51.95909715255291)\n",
      "mover vessel01 destination dump\n",
      "updating to destination geometry POINT (4.1795229742823 52.11590591837503)\n",
      "mover vessel01 destination berth\n",
      "updating to destination geometry POINT (4.062705498083785 51.95909715255291)\n",
      "mover vessel01 destination dump\n",
      "updating to destination geometry POINT (4.1795229742823 52.11590591837503)\n",
      "mover vessel01 destination berth\n",
      "updating to destination geometry POINT (4.062705498083785 51.95909715255291)\n",
      "mover vessel01 destination dump\n",
      "updating to destination geometry POINT (4.1795229742823 52.11590591837503)\n",
      "mover vessel01 destination berth\n",
      "updating to destination geometry POINT (4.062705498083785 51.95909715255291)\n",
      "mover vessel01 destination dump\n",
      "updating to destination geometry POINT (4.1795229742823 52.11590591837503)\n",
      "mover vessel01 destination berth\n",
      "updating to destination geometry POINT (4.062705498083785 51.95909715255291)\n",
      "mover vessel01 destination dump\n",
      "updating to destination geometry POINT (4.1795229742823 52.11590591837503)\n",
      "mover vessel01 destination berth\n",
      "updating to destination geometry POINT (4.062705498083785 51.95909715255291)\n",
      "mover vessel01 destination dump\n",
      "updating to destination geometry POINT (4.1795229742823 52.11590591837503)\n",
      "mover vessel01 destination berth\n",
      "updating to destination geometry POINT (4.062705498083785 51.95909715255291)\n",
      "mover vessel01 destination dump\n",
      "updating to destination geometry POINT (4.1795229742823 52.11590591837503)\n"
     ]
    }
   ],
   "source": [
    "my_env.run()"
   ]
  },
  {
   "cell_type": "code",
   "execution_count": null,
   "id": "ec2fc285",
   "metadata": {},
   "outputs": [
    {
     "ename": "NameError",
     "evalue": "name 'activity' is not defined",
     "output_type": "error",
     "traceback": [
      "\u001b[1;31m---------------------------------------------------------------------------\u001b[0m",
      "\u001b[1;31mNameError\u001b[0m                                 Traceback (most recent call last)",
      "Cell \u001b[1;32mIn[103], line 1\u001b[0m\n\u001b[1;32m----> 1\u001b[0m display(openclsim\u001b[39m.\u001b[39mplot\u001b[39m.\u001b[39mget_log_dataframe(activity))\n",
      "\u001b[1;31mNameError\u001b[0m: name 'activity' is not defined"
     ]
    }
   ],
   "source": [
    "display(openclsim.plot.get_log_dataframe(activity))"
   ]
  },
  {
   "cell_type": "code",
   "execution_count": null,
   "id": "a2164d1a",
   "metadata": {},
   "outputs": [],
   "source": [
    "# define a path into and out of the habour\n",
    "path1 = nx.dijkstra_path(my_env.graph, 'offshore', 'berth')\n",
    "path2 = nx.dijkstra_path(my_env.graph, 'berth', 'offshore')\n",
    "path = path1+path2[1:]\n",
    "display(path)\n",
    "    \n",
    "# create a dict with all important settings\n",
    "data_vessel02 = {\"env\": my_env,                     # needed for simpy simulation\n",
    "               \"name\": 'seagoing vessel',           # required by Identifiable\n",
    "               \"geometry\": location_offshore        # required by Locatable\n",
    "               \"route\": path,                       # required by Routeable\n",
    "               \"priority\": 2,                       # the seagoing vessel has the second priority to serve the berth location\n",
    "               \"v\": 1,}                             # required by Movable\n",
    "\n",
    "# instantiate vessel_02 \n",
    "vessel02 = TransportProcessingResource(**data_vessel02)\n",
    "assert not vessel02.metadata"
   ]
  },
  {
   "cell_type": "code",
   "execution_count": null,
   "id": "437ea3dd",
   "metadata": {},
   "outputs": [],
   "source": [
    "# specify the process that needs to be executed\n",
    "my_env.process(vessel02.move())"
   ]
  },
  {
   "cell_type": "code",
   "execution_count": null,
   "id": "01ed80c7",
   "metadata": {},
   "outputs": [],
   "source": [
    "# start the simulation\n",
    "my_env.run()"
   ]
  },
  {
   "cell_type": "code",
   "execution_count": null,
   "id": "8132ea8d",
   "metadata": {},
   "outputs": [],
   "source": [
    "display(openclsim.plot.get_log_dataframe(vessel01, [*single_run, while_activity]))"
   ]
  },
  {
   "cell_type": "code",
   "execution_count": null,
   "id": "141ea4f9",
   "metadata": {},
   "outputs": [],
   "source": [
    "openclsim.plot.get_gantt_chart([while_activity, vessel01, *single_run])"
   ]
  },
  {
   "cell_type": "code",
   "execution_count": null,
   "id": "5205fc7f",
   "metadata": {},
   "outputs": [],
   "source": [
    "fig = openclsim.plot.get_step_chart([berth, dump, vessel01])"
   ]
  },
  {
   "cell_type": "code",
   "execution_count": null,
   "id": "7d901a65",
   "metadata": {},
   "outputs": [],
   "source": [
    "vessel02.log"
   ]
  },
  {
   "cell_type": "code",
   "execution_count": null,
   "id": "6a4095a3",
   "metadata": {},
   "outputs": [],
   "source": [
    "# note the slightly different log handling than for the openclsim elemnents\n",
    "df = pd.DataFrame.from_dict(vessel02.log)\n",
    "df"
   ]
  }
 ],
 "metadata": {
  "kernelspec": {
   "display_name": "myenv",
   "language": "python",
   "name": "python3"
  },
  "language_info": {
   "codemirror_mode": {
    "name": "ipython",
    "version": 3
   },
   "file_extension": ".py",
   "mimetype": "text/x-python",
   "name": "python",
   "nbconvert_exporter": "python",
   "pygments_lexer": "ipython3",
   "version": "3.9.16"
  }
 },
 "nbformat": 4,
 "nbformat_minor": 5
}
