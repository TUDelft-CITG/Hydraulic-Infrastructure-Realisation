{
 "cells": [
  {
   "cell_type": "markdown",
   "metadata": {},
   "source": [
    "## Demo: feeder concept\n",
    "The basic steps to set up an OpenCLSim simulation are:\n",
    "* Import libraries\n",
    "* Initialise simpy environment\n",
    "* Define object classes\n",
    "* Create objects\n",
    "  * Create sites\n",
    "  * Create vessels\n",
    "  * Create activities\n",
    "* Register processes and run simpy\n",
    "\n",
    "----\n",
    "\n",
    "This notebook shows how to implement a basic feeder concept. This scenario has two vessels:\n",
    "* *transporter01*: a vessel that transports the material from 'from_site', the source of the cargo, to 'to_site', the site where the cargo should be installed, and\n",
    "* *installer01*: a vessel that waits at the installation site for material and installs it.\n",
    "\n",
    "Thus, we also need two processes - one for each vessel. In this notebook the hand over of cargo is done from the *transporter01* to *installer01*.\n",
    "\n",
    "NB1: in this example there are two types of cargo: Cargo_1 and Cargo_2. This means that the vessels and sites have to have multistore containers that can contain these different cargos. \n",
    "\n",
    "NB2: For now we only implemented the transport and installation process for Cargo_1. In fact only a quantity of one is shifted each cycle. An example of sequential execution of two types fo cargo transfer is found in Example 10_MultiContainer. "
   ]
  },
  {
   "cell_type": "markdown",
   "metadata": {},
   "source": [
    "#### 0. Import libraries"
   ]
  },
  {
   "cell_type": "code",
   "execution_count": 1,
   "metadata": {},
   "outputs": [],
   "source": [
    "import datetime, time\n",
    "import simpy\n",
    "\n",
    "import shapely.geometry\n",
    "import pandas as pd\n",
    "import sys\n",
    "sys.path.append(r\"D:\\repos\\opencl_sim\\src\")\n",
    "\n",
    "import openclsim.core as core\n",
    "import openclsim.model as model\n",
    "import openclsim.plot as plot"
   ]
  },
  {
   "cell_type": "markdown",
   "metadata": {},
   "source": [
    "#### 1. Initialise simpy environment"
   ]
  },
  {
   "cell_type": "code",
   "execution_count": 2,
   "metadata": {},
   "outputs": [],
   "source": [
    "# setup environment\n",
    "simulation_start = 0\n",
    "my_env = simpy.Environment(initial_time=simulation_start)"
   ]
  },
  {
   "cell_type": "markdown",
   "metadata": {},
   "source": [
    "#### 2. Define object classes"
   ]
  },
  {
   "cell_type": "code",
   "execution_count": 3,
   "metadata": {},
   "outputs": [],
   "source": [
    "# create a Site object based on desired mixin classes\n",
    "Site = type(\n",
    "    \"Site\",\n",
    "    (\n",
    "        core.Identifiable,\n",
    "        core.Log,\n",
    "        core.Locatable,\n",
    "        core.HasMultiContainer,\n",
    "        core.HasResource,\n",
    "    ),\n",
    "    {},\n",
    ")\n",
    "\n",
    "# create a TransportProcessingResource object based on desired mixin classes\n",
    "TransportProcessingResource = type(\n",
    "    \"TransportProcessingResource\",\n",
    "    (\n",
    "        core.Identifiable,\n",
    "        core.Log,\n",
    "        core.MultiContainerDependentMovable,\n",
    "        core.Processor,\n",
    "        core.HasResource,\n",
    "        core.LoadingFunction,\n",
    "        core.UnloadingFunction,\n",
    "    ),\n",
    "    {\"key\": \"MultiStoreHopper\"},\n",
    ")"
   ]
  },
  {
   "cell_type": "markdown",
   "metadata": {},
   "source": [
    "#### 3. Create objects\n",
    "##### 3.1. Create site object(s)"
   ]
  },
  {
   "cell_type": "code",
   "execution_count": 4,
   "metadata": {},
   "outputs": [],
   "source": [
    "# prepare input data for from_site\n",
    "location_from_site = shapely.geometry.Point(4.18055556, 52.18664444)\n",
    "data_from_site = {\"env\": my_env,\n",
    "                  \"name\": \"from_site\",\n",
    "                  \"geometry\": location_from_site,\n",
    "                  \"store_capacity\": 4,\n",
    "                  \"initials\": [\n",
    "                               {\"id\": \"Cargo_1\", \"level\": 5, \"capacity\": 10},\n",
    "                               {\"id\": \"Cargo_2\", \"level\": 5, \"capacity\": 10},\n",
    "                              ]\n",
    "                 }\n",
    "# instantiate from_site \n",
    "from_site = Site(**data_from_site)\n",
    "\n",
    "# prepare input data for to_site\n",
    "location_to_site = shapely.geometry.Point(4.25222222, 52.11428333)\n",
    "data_to_site = {\"env\": my_env,\n",
    "                \"name\": \"to_site\",\n",
    "                \"geometry\": location_to_site,\n",
    "                \"store_capacity\": 4,\n",
    "                \"initials\": [\n",
    "                            {\"id\": \"Cargo_1\", \"level\": 0, \"capacity\": 5},\n",
    "                            {\"id\": \"Cargo_2\", \"level\": 0, \"capacity\": 5},\n",
    "                           ]\n",
    "               }\n",
    "\n",
    "# instantiate to_site \n",
    "to_site = Site(**data_to_site)"
   ]
  },
  {
   "cell_type": "markdown",
   "metadata": {},
   "source": [
    "##### 3.2. Create vessel object(s)"
   ]
  },
  {
   "cell_type": "code",
   "execution_count": 5,
   "metadata": {},
   "outputs": [],
   "source": [
    "# prepare input data for transporter01\n",
    "data_transporter01 = {\"env\": my_env,\n",
    "                      \"name\": \"transporter01\",\n",
    "                      \"geometry\": location_from_site, \n",
    "                      \"loading_rate\": 1,\n",
    "                      \"unloading_rate\": 1,\n",
    "                      \"store_capacity\": 4,\n",
    "                      \"compute_v\": lambda x: 10,\n",
    "                      \"initials\": [\n",
    "                                   {\"id\": \"Cargo_1\", \"level\": 0, \"capacity\": 2},\n",
    "                                   {\"id\": \"Cargo_2\", \"level\": 0, \"capacity\": 2},\n",
    "                                  ],\n",
    "                     }\n",
    "# instantiate transporter01 \n",
    "transporter01 = TransportProcessingResource(**data_transporter01)\n",
    "\n",
    "# prepare input data for installer01\n",
    "data_installer01 = {\"env\": my_env,\n",
    "                    \"name\": \"installer01\",\n",
    "                    \"geometry\": location_from_site, \n",
    "                    \"loading_rate\": 1,\n",
    "                    \"unloading_rate\": 1,\n",
    "                    \"store_capacity\": 4,\n",
    "                    \"compute_v\": lambda x: 10,\n",
    "                    \"initials\": [\n",
    "                                 {\"id\": \"Cargo_1\", \"level\": 0, \"capacity\": 1},\n",
    "                                 {\"id\": \"Cargo_2\", \"level\": 0, \"capacity\": 1},\n",
    "                                ],\n",
    "                   }\n",
    "# instantiate installer01 \n",
    "installer01 = TransportProcessingResource(**data_installer01)"
   ]
  },
  {
   "cell_type": "markdown",
   "metadata": {},
   "source": [
    "##### 3.3 Create activity/activities"
   ]
  },
  {
   "cell_type": "code",
   "execution_count": 6,
   "metadata": {},
   "outputs": [],
   "source": [
    "# initialise registry\n",
    "registry = {}"
   ]
  },
  {
   "cell_type": "markdown",
   "metadata": {},
   "source": [
    "###### 3.3.1 Create transporter activity"
   ]
  },
  {
   "cell_type": "code",
   "execution_count": 7,
   "metadata": {},
   "outputs": [],
   "source": [
    "# create a list of the sub processes: transport to installation site\n",
    "sub_processes =[\n",
    "    model.MoveActivity(\n",
    "        env=my_env,\n",
    "        name=\"sailing empty\",\n",
    "        registry=registry,\n",
    "        mover=transporter01,\n",
    "        destination=from_site,\n",
    "    ),\n",
    "    model.ShiftAmountActivity(\n",
    "        env=my_env,\n",
    "        name=\"loading Cargo_1\",\n",
    "        registry=registry,\n",
    "        processor=transporter01,\n",
    "        origin=from_site,\n",
    "        destination=transporter01,\n",
    "        amount=1,\n",
    "        duration=120,\n",
    "        id_=\"Cargo_1\",\n",
    "    ),\n",
    "    model.MoveActivity(\n",
    "        env=my_env,\n",
    "        name=\"sailing filled\",\n",
    "        registry=registry,\n",
    "        mover=transporter01,\n",
    "        destination=to_site,\n",
    "    ),\n",
    "    model.ShiftAmountActivity(\n",
    "        env=my_env,\n",
    "        name=\"transfer Cargo_1\",\n",
    "        registry=registry,\n",
    "        processor=installer01,\n",
    "        origin=transporter01,\n",
    "        destination=installer01,\n",
    "        amount=1,\n",
    "        duration=120,\n",
    "        id_=\"Cargo_1\",\n",
    "        start_event=[{\"type\": \"activity\", \"name\": \"preparing for delivery\", \"state\": \"done\",}],\n",
    "    ),\n",
    "]\n",
    "\n",
    "# create a 'sequential activity' that is made up of the 'sub_processes'\n",
    "sequential_activity = model.SequentialActivity(\n",
    "    env=my_env,\n",
    "    name=\"sequential_activity_transport_subcycle\",\n",
    "    registry=registry,\n",
    "    sub_processes=sub_processes,\n",
    ")    \n",
    "\n",
    "# create a while activity that executes the 'sequential activity' while the stop condition is not triggered \n",
    "transport_activity = model.WhileActivity(\n",
    "    env=my_env,\n",
    "    name=\"Transporter01 move process\",\n",
    "    registry=registry,\n",
    "    sub_processes=[sequential_activity],\n",
    "    condition_event=[{\"type\": \"container\", \"concept\": from_site, \"state\": \"empty\", \"id_\": \"Cargo_1\"}],\n",
    ")"
   ]
  },
  {
   "cell_type": "markdown",
   "metadata": {},
   "source": [
    "###### 3.3.2 Create installer activity (first move, then install)"
   ]
  },
  {
   "cell_type": "code",
   "execution_count": 8,
   "metadata": {},
   "outputs": [],
   "source": [
    "# create a list of the sub processes: in field installation\n",
    "sub_processes =[\n",
    "    model.BasicActivity(\n",
    "        env=my_env,\n",
    "        name=\"preparing for delivery\",\n",
    "        registry=registry,\n",
    "        duration=30,\n",
    "        additional_logs=[installer01],\n",
    "    ),\n",
    "    model.BasicActivity(\n",
    "        env=my_env,\n",
    "        name=\"preparing for unloading\",\n",
    "        registry=registry,\n",
    "        duration=60,\n",
    "        additional_logs=[installer01],\n",
    "        start_event=[\n",
    "            {\"type\": \"activity\", \"name\": \"sequential_activity_transport_subcycle\", \"state\": \"done\"}\n",
    "        ],\n",
    "    ),\n",
    "    model.ShiftAmountActivity(\n",
    "        env=my_env,\n",
    "        name=\"unload Cargo_1\",\n",
    "        registry=registry,\n",
    "        processor=installer01,\n",
    "        origin=installer01,\n",
    "        destination=to_site,\n",
    "        amount=1,\n",
    "        duration=120,\n",
    "        id_=\"Cargo_1\",\n",
    "    ),\n",
    "]\n",
    "\n",
    "# create a 'sequential activity' that is made up of the 'sub_processes'\n",
    "installer_shift_sequential_activity = model.SequentialActivity(\n",
    "    env=my_env,\n",
    "    name=\"Installer01 installation process\",\n",
    "    registry=registry,\n",
    "    sub_processes=sub_processes,\n",
    ")"
   ]
  },
  {
   "cell_type": "code",
   "execution_count": 10,
   "metadata": {},
   "outputs": [],
   "source": [
    "# create a list of the sub processes: in field installation\n",
    "sub_processes = [\n",
    "    model.MoveActivity(\n",
    "        env=my_env,\n",
    "        name=\"sailing to site\",\n",
    "        registry=registry,\n",
    "        mover=installer01,\n",
    "        destination=to_site,\n",
    "    ),\n",
    "    model.WhileActivity(\n",
    "        env=my_env,\n",
    "        name=\"installer run while\",\n",
    "        registry=registry,\n",
    "        sub_processes=[installer_shift_sequential_activity],\n",
    "        condition_event=[\n",
    "            {\"type\": \"container\", \"concept\": to_site, \"state\": \"full\", \"id_\": \"Cargo_1\"}\n",
    "        ],\n",
    "    ),\n",
    "]\n",
    "\n",
    "installer_move_sequential_activity = model.SequentialActivity(\n",
    "    env=my_env,\n",
    "    name=\"Installer01 move process\",\n",
    "    registry=registry,\n",
    "    sub_processes=sub_processes,\n",
    ")"
   ]
  },
  {
   "cell_type": "markdown",
   "metadata": {
    "scrolled": false
   },
   "source": [
    "#### 4. Register processes and run simpy"
   ]
  },
  {
   "cell_type": "code",
   "execution_count": 11,
   "metadata": {
    "tags": [
     "outputPrepend"
    ]
   },
   "outputs": [],
   "source": [
    "model.register_processes([transport_activity, installer_move_sequential_activity])\n",
    "my_env.run()"
   ]
  },
  {
   "cell_type": "markdown",
   "metadata": {},
   "source": [
    "#### 5. Inspect results\n",
    "##### 5.1 Inspect logs"
   ]
  },
  {
   "cell_type": "code",
   "execution_count": 12,
   "metadata": {},
   "outputs": [
    {
     "data": {
      "text/html": [
       "<div>\n",
       "<style scoped>\n",
       "    .dataframe tbody tr th:only-of-type {\n",
       "        vertical-align: middle;\n",
       "    }\n",
       "\n",
       "    .dataframe tbody tr th {\n",
       "        vertical-align: top;\n",
       "    }\n",
       "\n",
       "    .dataframe thead th {\n",
       "        text-align: right;\n",
       "    }\n",
       "</style>\n",
       "<table border=\"1\" class=\"dataframe\">\n",
       "  <thead>\n",
       "    <tr style=\"text-align: right;\">\n",
       "      <th></th>\n",
       "      <th>Activity</th>\n",
       "      <th>Timestamp</th>\n",
       "      <th>ActivityState</th>\n",
       "      <th>geometry</th>\n",
       "      <th>container level</th>\n",
       "    </tr>\n",
       "  </thead>\n",
       "  <tbody>\n",
       "    <tr>\n",
       "      <th>0</th>\n",
       "      <td>sailing empty</td>\n",
       "      <td>1970-01-01 00:00:00.000000</td>\n",
       "      <td>START</td>\n",
       "      <td>POINT (4.18055556 52.18664444)</td>\n",
       "      <td>{'Cargo_1': 0, 'Cargo_2': 0}</td>\n",
       "    </tr>\n",
       "    <tr>\n",
       "      <th>1</th>\n",
       "      <td>sailing empty</td>\n",
       "      <td>1970-01-01 00:00:00.000000</td>\n",
       "      <td>STOP</td>\n",
       "      <td>POINT (4.18055556 52.18664444)</td>\n",
       "      <td>{'Cargo_1': 0, 'Cargo_2': 0}</td>\n",
       "    </tr>\n",
       "    <tr>\n",
       "      <th>2</th>\n",
       "      <td>loading Cargo_1</td>\n",
       "      <td>1970-01-01 00:00:00.000000</td>\n",
       "      <td>START</td>\n",
       "      <td>POINT (4.18055556 52.18664444)</td>\n",
       "      <td>{'Cargo_1': 0, 'Cargo_2': 0}</td>\n",
       "    </tr>\n",
       "    <tr>\n",
       "      <th>3</th>\n",
       "      <td>loading Cargo_1</td>\n",
       "      <td>1970-01-01 00:02:00.000000</td>\n",
       "      <td>STOP</td>\n",
       "      <td>POINT (4.18055556 52.18664444)</td>\n",
       "      <td>{'Cargo_2': 0, 'Cargo_1': 1}</td>\n",
       "    </tr>\n",
       "    <tr>\n",
       "      <th>4</th>\n",
       "      <td>sailing filled</td>\n",
       "      <td>1970-01-01 00:02:00.000000</td>\n",
       "      <td>START</td>\n",
       "      <td>POINT (4.18055556 52.18664444)</td>\n",
       "      <td>{'Cargo_2': 0, 'Cargo_1': 1}</td>\n",
       "    </tr>\n",
       "    <tr>\n",
       "      <th>5</th>\n",
       "      <td>sailing filled</td>\n",
       "      <td>1970-01-01 00:17:42.824591</td>\n",
       "      <td>STOP</td>\n",
       "      <td>POINT (4.25222222 52.11428333)</td>\n",
       "      <td>{'Cargo_2': 0, 'Cargo_1': 1}</td>\n",
       "    </tr>\n",
       "    <tr>\n",
       "      <th>6</th>\n",
       "      <td>transfer Cargo_1</td>\n",
       "      <td>1970-01-01 00:17:42.824591</td>\n",
       "      <td>START</td>\n",
       "      <td>POINT (4.25222222 52.11428333)</td>\n",
       "      <td>{'Cargo_2': 0, 'Cargo_1': 1}</td>\n",
       "    </tr>\n",
       "    <tr>\n",
       "      <th>7</th>\n",
       "      <td>transfer Cargo_1</td>\n",
       "      <td>1970-01-01 00:19:42.824591</td>\n",
       "      <td>STOP</td>\n",
       "      <td>POINT (4.25222222 52.11428333)</td>\n",
       "      <td>{'Cargo_2': 0, 'Cargo_1': 0}</td>\n",
       "    </tr>\n",
       "    <tr>\n",
       "      <th>8</th>\n",
       "      <td>sailing empty</td>\n",
       "      <td>1970-01-01 00:19:42.824591</td>\n",
       "      <td>START</td>\n",
       "      <td>POINT (4.25222222 52.11428333)</td>\n",
       "      <td>{'Cargo_2': 0, 'Cargo_1': 0}</td>\n",
       "    </tr>\n",
       "    <tr>\n",
       "      <th>9</th>\n",
       "      <td>sailing empty</td>\n",
       "      <td>1970-01-01 00:35:25.649183</td>\n",
       "      <td>STOP</td>\n",
       "      <td>POINT (4.18055556 52.18664444)</td>\n",
       "      <td>{'Cargo_2': 0, 'Cargo_1': 0}</td>\n",
       "    </tr>\n",
       "    <tr>\n",
       "      <th>10</th>\n",
       "      <td>loading Cargo_1</td>\n",
       "      <td>1970-01-01 00:35:25.649183</td>\n",
       "      <td>START</td>\n",
       "      <td>POINT (4.18055556 52.18664444)</td>\n",
       "      <td>{'Cargo_2': 0, 'Cargo_1': 0}</td>\n",
       "    </tr>\n",
       "    <tr>\n",
       "      <th>11</th>\n",
       "      <td>loading Cargo_1</td>\n",
       "      <td>1970-01-01 00:37:25.649183</td>\n",
       "      <td>STOP</td>\n",
       "      <td>POINT (4.18055556 52.18664444)</td>\n",
       "      <td>{'Cargo_2': 0, 'Cargo_1': 1}</td>\n",
       "    </tr>\n",
       "    <tr>\n",
       "      <th>12</th>\n",
       "      <td>sailing filled</td>\n",
       "      <td>1970-01-01 00:37:25.649183</td>\n",
       "      <td>START</td>\n",
       "      <td>POINT (4.18055556 52.18664444)</td>\n",
       "      <td>{'Cargo_2': 0, 'Cargo_1': 1}</td>\n",
       "    </tr>\n",
       "    <tr>\n",
       "      <th>13</th>\n",
       "      <td>sailing filled</td>\n",
       "      <td>1970-01-01 00:53:08.473774</td>\n",
       "      <td>STOP</td>\n",
       "      <td>POINT (4.25222222 52.11428333)</td>\n",
       "      <td>{'Cargo_2': 0, 'Cargo_1': 1}</td>\n",
       "    </tr>\n",
       "    <tr>\n",
       "      <th>14</th>\n",
       "      <td>transfer Cargo_1</td>\n",
       "      <td>1970-01-01 00:53:08.473774</td>\n",
       "      <td>START</td>\n",
       "      <td>POINT (4.25222222 52.11428333)</td>\n",
       "      <td>{'Cargo_2': 0, 'Cargo_1': 1}</td>\n",
       "    </tr>\n",
       "    <tr>\n",
       "      <th>15</th>\n",
       "      <td>transfer Cargo_1</td>\n",
       "      <td>1970-01-01 00:55:08.473774</td>\n",
       "      <td>STOP</td>\n",
       "      <td>POINT (4.25222222 52.11428333)</td>\n",
       "      <td>{'Cargo_2': 0, 'Cargo_1': 0}</td>\n",
       "    </tr>\n",
       "    <tr>\n",
       "      <th>16</th>\n",
       "      <td>sailing empty</td>\n",
       "      <td>1970-01-01 00:55:08.473774</td>\n",
       "      <td>START</td>\n",
       "      <td>POINT (4.25222222 52.11428333)</td>\n",
       "      <td>{'Cargo_2': 0, 'Cargo_1': 0}</td>\n",
       "    </tr>\n",
       "    <tr>\n",
       "      <th>17</th>\n",
       "      <td>sailing empty</td>\n",
       "      <td>1970-01-01 01:10:51.298365</td>\n",
       "      <td>STOP</td>\n",
       "      <td>POINT (4.18055556 52.18664444)</td>\n",
       "      <td>{'Cargo_2': 0, 'Cargo_1': 0}</td>\n",
       "    </tr>\n",
       "    <tr>\n",
       "      <th>18</th>\n",
       "      <td>loading Cargo_1</td>\n",
       "      <td>1970-01-01 01:10:51.298365</td>\n",
       "      <td>START</td>\n",
       "      <td>POINT (4.18055556 52.18664444)</td>\n",
       "      <td>{'Cargo_2': 0, 'Cargo_1': 0}</td>\n",
       "    </tr>\n",
       "    <tr>\n",
       "      <th>19</th>\n",
       "      <td>loading Cargo_1</td>\n",
       "      <td>1970-01-01 01:12:51.298365</td>\n",
       "      <td>STOP</td>\n",
       "      <td>POINT (4.18055556 52.18664444)</td>\n",
       "      <td>{'Cargo_2': 0, 'Cargo_1': 1}</td>\n",
       "    </tr>\n",
       "    <tr>\n",
       "      <th>20</th>\n",
       "      <td>sailing filled</td>\n",
       "      <td>1970-01-01 01:12:51.298365</td>\n",
       "      <td>START</td>\n",
       "      <td>POINT (4.18055556 52.18664444)</td>\n",
       "      <td>{'Cargo_2': 0, 'Cargo_1': 1}</td>\n",
       "    </tr>\n",
       "    <tr>\n",
       "      <th>21</th>\n",
       "      <td>sailing filled</td>\n",
       "      <td>1970-01-01 01:28:34.122956</td>\n",
       "      <td>STOP</td>\n",
       "      <td>POINT (4.25222222 52.11428333)</td>\n",
       "      <td>{'Cargo_2': 0, 'Cargo_1': 1}</td>\n",
       "    </tr>\n",
       "    <tr>\n",
       "      <th>22</th>\n",
       "      <td>transfer Cargo_1</td>\n",
       "      <td>1970-01-01 01:28:34.122956</td>\n",
       "      <td>START</td>\n",
       "      <td>POINT (4.25222222 52.11428333)</td>\n",
       "      <td>{'Cargo_2': 0, 'Cargo_1': 1}</td>\n",
       "    </tr>\n",
       "    <tr>\n",
       "      <th>23</th>\n",
       "      <td>transfer Cargo_1</td>\n",
       "      <td>1970-01-01 01:30:34.122956</td>\n",
       "      <td>STOP</td>\n",
       "      <td>POINT (4.25222222 52.11428333)</td>\n",
       "      <td>{'Cargo_2': 0, 'Cargo_1': 0}</td>\n",
       "    </tr>\n",
       "    <tr>\n",
       "      <th>24</th>\n",
       "      <td>sailing empty</td>\n",
       "      <td>1970-01-01 01:30:34.122956</td>\n",
       "      <td>START</td>\n",
       "      <td>POINT (4.25222222 52.11428333)</td>\n",
       "      <td>{'Cargo_2': 0, 'Cargo_1': 0}</td>\n",
       "    </tr>\n",
       "    <tr>\n",
       "      <th>25</th>\n",
       "      <td>sailing empty</td>\n",
       "      <td>1970-01-01 01:46:16.947548</td>\n",
       "      <td>STOP</td>\n",
       "      <td>POINT (4.18055556 52.18664444)</td>\n",
       "      <td>{'Cargo_2': 0, 'Cargo_1': 0}</td>\n",
       "    </tr>\n",
       "    <tr>\n",
       "      <th>26</th>\n",
       "      <td>loading Cargo_1</td>\n",
       "      <td>1970-01-01 01:46:16.947548</td>\n",
       "      <td>START</td>\n",
       "      <td>POINT (4.18055556 52.18664444)</td>\n",
       "      <td>{'Cargo_2': 0, 'Cargo_1': 0}</td>\n",
       "    </tr>\n",
       "    <tr>\n",
       "      <th>27</th>\n",
       "      <td>loading Cargo_1</td>\n",
       "      <td>1970-01-01 01:48:16.947548</td>\n",
       "      <td>STOP</td>\n",
       "      <td>POINT (4.18055556 52.18664444)</td>\n",
       "      <td>{'Cargo_2': 0, 'Cargo_1': 1}</td>\n",
       "    </tr>\n",
       "    <tr>\n",
       "      <th>28</th>\n",
       "      <td>sailing filled</td>\n",
       "      <td>1970-01-01 01:48:16.947548</td>\n",
       "      <td>START</td>\n",
       "      <td>POINT (4.18055556 52.18664444)</td>\n",
       "      <td>{'Cargo_2': 0, 'Cargo_1': 1}</td>\n",
       "    </tr>\n",
       "    <tr>\n",
       "      <th>29</th>\n",
       "      <td>sailing filled</td>\n",
       "      <td>1970-01-01 02:03:59.772139</td>\n",
       "      <td>STOP</td>\n",
       "      <td>POINT (4.25222222 52.11428333)</td>\n",
       "      <td>{'Cargo_2': 0, 'Cargo_1': 1}</td>\n",
       "    </tr>\n",
       "    <tr>\n",
       "      <th>30</th>\n",
       "      <td>transfer Cargo_1</td>\n",
       "      <td>1970-01-01 02:03:59.772139</td>\n",
       "      <td>START</td>\n",
       "      <td>POINT (4.25222222 52.11428333)</td>\n",
       "      <td>{'Cargo_2': 0, 'Cargo_1': 1}</td>\n",
       "    </tr>\n",
       "    <tr>\n",
       "      <th>31</th>\n",
       "      <td>transfer Cargo_1</td>\n",
       "      <td>1970-01-01 02:05:59.772139</td>\n",
       "      <td>STOP</td>\n",
       "      <td>POINT (4.25222222 52.11428333)</td>\n",
       "      <td>{'Cargo_2': 0, 'Cargo_1': 0}</td>\n",
       "    </tr>\n",
       "    <tr>\n",
       "      <th>32</th>\n",
       "      <td>sailing empty</td>\n",
       "      <td>1970-01-01 02:05:59.772139</td>\n",
       "      <td>START</td>\n",
       "      <td>POINT (4.25222222 52.11428333)</td>\n",
       "      <td>{'Cargo_2': 0, 'Cargo_1': 0}</td>\n",
       "    </tr>\n",
       "    <tr>\n",
       "      <th>33</th>\n",
       "      <td>sailing empty</td>\n",
       "      <td>1970-01-01 02:21:42.596730</td>\n",
       "      <td>STOP</td>\n",
       "      <td>POINT (4.18055556 52.18664444)</td>\n",
       "      <td>{'Cargo_2': 0, 'Cargo_1': 0}</td>\n",
       "    </tr>\n",
       "    <tr>\n",
       "      <th>34</th>\n",
       "      <td>loading Cargo_1</td>\n",
       "      <td>1970-01-01 02:21:42.596730</td>\n",
       "      <td>START</td>\n",
       "      <td>POINT (4.18055556 52.18664444)</td>\n",
       "      <td>{'Cargo_2': 0, 'Cargo_1': 0}</td>\n",
       "    </tr>\n",
       "    <tr>\n",
       "      <th>35</th>\n",
       "      <td>loading Cargo_1</td>\n",
       "      <td>1970-01-01 02:23:42.596730</td>\n",
       "      <td>STOP</td>\n",
       "      <td>POINT (4.18055556 52.18664444)</td>\n",
       "      <td>{'Cargo_2': 0, 'Cargo_1': 1}</td>\n",
       "    </tr>\n",
       "    <tr>\n",
       "      <th>36</th>\n",
       "      <td>sailing filled</td>\n",
       "      <td>1970-01-01 02:23:42.596730</td>\n",
       "      <td>START</td>\n",
       "      <td>POINT (4.18055556 52.18664444)</td>\n",
       "      <td>{'Cargo_2': 0, 'Cargo_1': 1}</td>\n",
       "    </tr>\n",
       "    <tr>\n",
       "      <th>37</th>\n",
       "      <td>sailing filled</td>\n",
       "      <td>1970-01-01 02:39:25.421321</td>\n",
       "      <td>STOP</td>\n",
       "      <td>POINT (4.25222222 52.11428333)</td>\n",
       "      <td>{'Cargo_2': 0, 'Cargo_1': 1}</td>\n",
       "    </tr>\n",
       "    <tr>\n",
       "      <th>38</th>\n",
       "      <td>transfer Cargo_1</td>\n",
       "      <td>1970-01-01 02:39:25.421321</td>\n",
       "      <td>START</td>\n",
       "      <td>POINT (4.25222222 52.11428333)</td>\n",
       "      <td>{'Cargo_2': 0, 'Cargo_1': 1}</td>\n",
       "    </tr>\n",
       "    <tr>\n",
       "      <th>39</th>\n",
       "      <td>transfer Cargo_1</td>\n",
       "      <td>1970-01-01 02:41:25.421321</td>\n",
       "      <td>STOP</td>\n",
       "      <td>POINT (4.25222222 52.11428333)</td>\n",
       "      <td>{'Cargo_2': 0, 'Cargo_1': 0}</td>\n",
       "    </tr>\n",
       "  </tbody>\n",
       "</table>\n",
       "</div>"
      ],
      "text/plain": [
       "            Activity                  Timestamp ActivityState  \\\n",
       "0      sailing empty 1970-01-01 00:00:00.000000         START   \n",
       "1      sailing empty 1970-01-01 00:00:00.000000          STOP   \n",
       "2    loading Cargo_1 1970-01-01 00:00:00.000000         START   \n",
       "3    loading Cargo_1 1970-01-01 00:02:00.000000          STOP   \n",
       "4     sailing filled 1970-01-01 00:02:00.000000         START   \n",
       "5     sailing filled 1970-01-01 00:17:42.824591          STOP   \n",
       "6   transfer Cargo_1 1970-01-01 00:17:42.824591         START   \n",
       "7   transfer Cargo_1 1970-01-01 00:19:42.824591          STOP   \n",
       "8      sailing empty 1970-01-01 00:19:42.824591         START   \n",
       "9      sailing empty 1970-01-01 00:35:25.649183          STOP   \n",
       "10   loading Cargo_1 1970-01-01 00:35:25.649183         START   \n",
       "11   loading Cargo_1 1970-01-01 00:37:25.649183          STOP   \n",
       "12    sailing filled 1970-01-01 00:37:25.649183         START   \n",
       "13    sailing filled 1970-01-01 00:53:08.473774          STOP   \n",
       "14  transfer Cargo_1 1970-01-01 00:53:08.473774         START   \n",
       "15  transfer Cargo_1 1970-01-01 00:55:08.473774          STOP   \n",
       "16     sailing empty 1970-01-01 00:55:08.473774         START   \n",
       "17     sailing empty 1970-01-01 01:10:51.298365          STOP   \n",
       "18   loading Cargo_1 1970-01-01 01:10:51.298365         START   \n",
       "19   loading Cargo_1 1970-01-01 01:12:51.298365          STOP   \n",
       "20    sailing filled 1970-01-01 01:12:51.298365         START   \n",
       "21    sailing filled 1970-01-01 01:28:34.122956          STOP   \n",
       "22  transfer Cargo_1 1970-01-01 01:28:34.122956         START   \n",
       "23  transfer Cargo_1 1970-01-01 01:30:34.122956          STOP   \n",
       "24     sailing empty 1970-01-01 01:30:34.122956         START   \n",
       "25     sailing empty 1970-01-01 01:46:16.947548          STOP   \n",
       "26   loading Cargo_1 1970-01-01 01:46:16.947548         START   \n",
       "27   loading Cargo_1 1970-01-01 01:48:16.947548          STOP   \n",
       "28    sailing filled 1970-01-01 01:48:16.947548         START   \n",
       "29    sailing filled 1970-01-01 02:03:59.772139          STOP   \n",
       "30  transfer Cargo_1 1970-01-01 02:03:59.772139         START   \n",
       "31  transfer Cargo_1 1970-01-01 02:05:59.772139          STOP   \n",
       "32     sailing empty 1970-01-01 02:05:59.772139         START   \n",
       "33     sailing empty 1970-01-01 02:21:42.596730          STOP   \n",
       "34   loading Cargo_1 1970-01-01 02:21:42.596730         START   \n",
       "35   loading Cargo_1 1970-01-01 02:23:42.596730          STOP   \n",
       "36    sailing filled 1970-01-01 02:23:42.596730         START   \n",
       "37    sailing filled 1970-01-01 02:39:25.421321          STOP   \n",
       "38  transfer Cargo_1 1970-01-01 02:39:25.421321         START   \n",
       "39  transfer Cargo_1 1970-01-01 02:41:25.421321          STOP   \n",
       "\n",
       "                          geometry               container level  \n",
       "0   POINT (4.18055556 52.18664444)  {'Cargo_1': 0, 'Cargo_2': 0}  \n",
       "1   POINT (4.18055556 52.18664444)  {'Cargo_1': 0, 'Cargo_2': 0}  \n",
       "2   POINT (4.18055556 52.18664444)  {'Cargo_1': 0, 'Cargo_2': 0}  \n",
       "3   POINT (4.18055556 52.18664444)  {'Cargo_2': 0, 'Cargo_1': 1}  \n",
       "4   POINT (4.18055556 52.18664444)  {'Cargo_2': 0, 'Cargo_1': 1}  \n",
       "5   POINT (4.25222222 52.11428333)  {'Cargo_2': 0, 'Cargo_1': 1}  \n",
       "6   POINT (4.25222222 52.11428333)  {'Cargo_2': 0, 'Cargo_1': 1}  \n",
       "7   POINT (4.25222222 52.11428333)  {'Cargo_2': 0, 'Cargo_1': 0}  \n",
       "8   POINT (4.25222222 52.11428333)  {'Cargo_2': 0, 'Cargo_1': 0}  \n",
       "9   POINT (4.18055556 52.18664444)  {'Cargo_2': 0, 'Cargo_1': 0}  \n",
       "10  POINT (4.18055556 52.18664444)  {'Cargo_2': 0, 'Cargo_1': 0}  \n",
       "11  POINT (4.18055556 52.18664444)  {'Cargo_2': 0, 'Cargo_1': 1}  \n",
       "12  POINT (4.18055556 52.18664444)  {'Cargo_2': 0, 'Cargo_1': 1}  \n",
       "13  POINT (4.25222222 52.11428333)  {'Cargo_2': 0, 'Cargo_1': 1}  \n",
       "14  POINT (4.25222222 52.11428333)  {'Cargo_2': 0, 'Cargo_1': 1}  \n",
       "15  POINT (4.25222222 52.11428333)  {'Cargo_2': 0, 'Cargo_1': 0}  \n",
       "16  POINT (4.25222222 52.11428333)  {'Cargo_2': 0, 'Cargo_1': 0}  \n",
       "17  POINT (4.18055556 52.18664444)  {'Cargo_2': 0, 'Cargo_1': 0}  \n",
       "18  POINT (4.18055556 52.18664444)  {'Cargo_2': 0, 'Cargo_1': 0}  \n",
       "19  POINT (4.18055556 52.18664444)  {'Cargo_2': 0, 'Cargo_1': 1}  \n",
       "20  POINT (4.18055556 52.18664444)  {'Cargo_2': 0, 'Cargo_1': 1}  \n",
       "21  POINT (4.25222222 52.11428333)  {'Cargo_2': 0, 'Cargo_1': 1}  \n",
       "22  POINT (4.25222222 52.11428333)  {'Cargo_2': 0, 'Cargo_1': 1}  \n",
       "23  POINT (4.25222222 52.11428333)  {'Cargo_2': 0, 'Cargo_1': 0}  \n",
       "24  POINT (4.25222222 52.11428333)  {'Cargo_2': 0, 'Cargo_1': 0}  \n",
       "25  POINT (4.18055556 52.18664444)  {'Cargo_2': 0, 'Cargo_1': 0}  \n",
       "26  POINT (4.18055556 52.18664444)  {'Cargo_2': 0, 'Cargo_1': 0}  \n",
       "27  POINT (4.18055556 52.18664444)  {'Cargo_2': 0, 'Cargo_1': 1}  \n",
       "28  POINT (4.18055556 52.18664444)  {'Cargo_2': 0, 'Cargo_1': 1}  \n",
       "29  POINT (4.25222222 52.11428333)  {'Cargo_2': 0, 'Cargo_1': 1}  \n",
       "30  POINT (4.25222222 52.11428333)  {'Cargo_2': 0, 'Cargo_1': 1}  \n",
       "31  POINT (4.25222222 52.11428333)  {'Cargo_2': 0, 'Cargo_1': 0}  \n",
       "32  POINT (4.25222222 52.11428333)  {'Cargo_2': 0, 'Cargo_1': 0}  \n",
       "33  POINT (4.18055556 52.18664444)  {'Cargo_2': 0, 'Cargo_1': 0}  \n",
       "34  POINT (4.18055556 52.18664444)  {'Cargo_2': 0, 'Cargo_1': 0}  \n",
       "35  POINT (4.18055556 52.18664444)  {'Cargo_2': 0, 'Cargo_1': 1}  \n",
       "36  POINT (4.18055556 52.18664444)  {'Cargo_2': 0, 'Cargo_1': 1}  \n",
       "37  POINT (4.25222222 52.11428333)  {'Cargo_2': 0, 'Cargo_1': 1}  \n",
       "38  POINT (4.25222222 52.11428333)  {'Cargo_2': 0, 'Cargo_1': 1}  \n",
       "39  POINT (4.25222222 52.11428333)  {'Cargo_2': 0, 'Cargo_1': 0}  "
      ]
     },
     "execution_count": 12,
     "metadata": {},
     "output_type": "execute_result"
    }
   ],
   "source": [
    "plot.get_log_dataframe(transporter01, [transport_activity])"
   ]
  },
  {
   "cell_type": "markdown",
   "metadata": {},
   "source": [
    "##### 5.2 Visualise gantt charts"
   ]
  },
  {
   "cell_type": "code",
   "execution_count": 15,
   "metadata": {},
   "outputs": [
    {
     "name": "stdout",
     "output_type": "stream",
     "text": [
      "Not adding critical path to GANTT chart\n"
     ]
    },
    {
     "data": {
      "text/html": [
       "        <script type=\"text/javascript\">\n",
       "        window.PlotlyConfig = {MathJaxConfig: 'local'};\n",
       "        if (window.MathJax) {MathJax.Hub.Config({SVG: {font: \"STIX-Web\"}});}\n",
       "        if (typeof require !== 'undefined') {\n",
       "        require.undef(\"plotly\");\n",
       "        requirejs.config({\n",
       "            paths: {\n",
       "                'plotly': ['https://cdn.plot.ly/plotly-2.11.1.min']\n",
       "            }\n",
       "        });\n",
       "        require(['plotly'], function(Plotly) {\n",
       "            window._Plotly = Plotly;\n",
       "        });\n",
       "        }\n",
       "        </script>\n",
       "        "
      ]
     },
     "metadata": {},
     "output_type": "display_data"
    },
    {
     "data": {
      "application/vnd.plotly.v1+json": {
       "config": {
        "linkText": "Export to plot.ly",
        "plotlyServerURL": "https://plot.ly",
        "showLink": false
       },
       "data": [
        {
         "connectgaps": false,
         "hoverinfo": "y+name",
         "line": {
          "color": "rgb(11,226,102)",
          "width": 10
         },
         "mode": "lines",
         "name": "Transporter01 move process",
         "type": "scatter",
         "x": [
          "1970-01-01T00:00:00",
          "1970-01-01T00:00:00",
          "1970-01-01T00:19:42.824591",
          "1970-01-01T00:19:42.824591",
          "1970-01-01T00:19:42.824591",
          "1970-01-01T00:19:42.824591",
          "1970-01-01T00:19:42.824591",
          "1970-01-01T00:55:08.473774",
          "1970-01-01T00:55:08.473774",
          "1970-01-01T00:55:08.473774",
          "1970-01-01T00:55:08.473774",
          "1970-01-01T00:55:08.473774",
          "1970-01-01T01:30:34.122956",
          "1970-01-01T01:30:34.122956",
          "1970-01-01T01:30:34.122956",
          "1970-01-01T01:30:34.122956",
          "1970-01-01T01:30:34.122956",
          "1970-01-01T02:05:59.772139",
          "1970-01-01T02:05:59.772139",
          "1970-01-01T02:05:59.772139",
          "1970-01-01T02:05:59.772139",
          "1970-01-01T02:05:59.772139",
          "1970-01-01T02:41:25.421321",
          "1970-01-01T02:41:25.421321",
          "1970-01-01T02:41:25.421321",
          "1970-01-01T02:05:59.772139",
          "1970-01-01T02:05:59.772139",
          "1970-01-01T02:41:25.421321",
          "1970-01-01T02:41:25.421321",
          "1970-01-01T02:41:25.421321"
         ],
         "y": [
          "Transporter01 move process",
          "Transporter01 move process",
          "Transporter01 move process",
          "Transporter01 move process",
          null,
          "Transporter01 move process",
          "Transporter01 move process",
          "Transporter01 move process",
          "Transporter01 move process",
          null,
          "Transporter01 move process",
          "Transporter01 move process",
          "Transporter01 move process",
          "Transporter01 move process",
          null,
          "Transporter01 move process",
          "Transporter01 move process",
          "Transporter01 move process",
          "Transporter01 move process",
          null,
          "Transporter01 move process",
          "Transporter01 move process",
          "Transporter01 move process",
          "Transporter01 move process",
          null,
          "Transporter01 move process",
          "Transporter01 move process",
          "Transporter01 move process",
          "Transporter01 move process",
          null
         ]
        },
        {
         "connectgaps": false,
         "hoverinfo": "y+name",
         "line": {
          "color": "rgb(139,98,230)",
          "width": 10
         },
         "mode": "lines",
         "name": "Installer01 move process",
         "type": "scatter",
         "x": [
          "1970-01-01T00:00:00",
          "1970-01-01T00:00:00",
          "1970-01-01T00:15:42.824591",
          "1970-01-01T00:15:42.824591",
          "1970-01-01T00:15:42.824591",
          "1970-01-01T00:15:42.824591",
          "1970-01-01T00:15:42.824591",
          "1970-01-01T02:44:25.421321",
          "1970-01-01T02:44:25.421321",
          "1970-01-01T02:44:25.421321",
          "1970-01-01T00:15:42.824591",
          "1970-01-01T00:15:42.824591",
          "1970-01-01T02:44:25.421321",
          "1970-01-01T02:44:25.421321",
          "1970-01-01T02:44:25.421321"
         ],
         "y": [
          "Installer01 move process",
          "Installer01 move process",
          "Installer01 move process",
          "Installer01 move process",
          null,
          "Installer01 move process",
          "Installer01 move process",
          "Installer01 move process",
          "Installer01 move process",
          null,
          "Installer01 move process",
          "Installer01 move process",
          "Installer01 move process",
          "Installer01 move process",
          null
         ]
        }
       ],
       "layout": {
        "hovermode": "closest",
        "legend": {
         "orientation": "h",
         "x": 0,
         "y": -0.2
        },
        "template": {
         "data": {
          "bar": [
           {
            "error_x": {
             "color": "#2a3f5f"
            },
            "error_y": {
             "color": "#2a3f5f"
            },
            "marker": {
             "line": {
              "color": "#E5ECF6",
              "width": 0.5
             },
             "pattern": {
              "fillmode": "overlay",
              "size": 10,
              "solidity": 0.2
             }
            },
            "type": "bar"
           }
          ],
          "barpolar": [
           {
            "marker": {
             "line": {
              "color": "#E5ECF6",
              "width": 0.5
             },
             "pattern": {
              "fillmode": "overlay",
              "size": 10,
              "solidity": 0.2
             }
            },
            "type": "barpolar"
           }
          ],
          "carpet": [
           {
            "aaxis": {
             "endlinecolor": "#2a3f5f",
             "gridcolor": "white",
             "linecolor": "white",
             "minorgridcolor": "white",
             "startlinecolor": "#2a3f5f"
            },
            "baxis": {
             "endlinecolor": "#2a3f5f",
             "gridcolor": "white",
             "linecolor": "white",
             "minorgridcolor": "white",
             "startlinecolor": "#2a3f5f"
            },
            "type": "carpet"
           }
          ],
          "choropleth": [
           {
            "colorbar": {
             "outlinewidth": 0,
             "ticks": ""
            },
            "type": "choropleth"
           }
          ],
          "contour": [
           {
            "colorbar": {
             "outlinewidth": 0,
             "ticks": ""
            },
            "colorscale": [
             [
              0,
              "#0d0887"
             ],
             [
              0.1111111111111111,
              "#46039f"
             ],
             [
              0.2222222222222222,
              "#7201a8"
             ],
             [
              0.3333333333333333,
              "#9c179e"
             ],
             [
              0.4444444444444444,
              "#bd3786"
             ],
             [
              0.5555555555555556,
              "#d8576b"
             ],
             [
              0.6666666666666666,
              "#ed7953"
             ],
             [
              0.7777777777777778,
              "#fb9f3a"
             ],
             [
              0.8888888888888888,
              "#fdca26"
             ],
             [
              1,
              "#f0f921"
             ]
            ],
            "type": "contour"
           }
          ],
          "contourcarpet": [
           {
            "colorbar": {
             "outlinewidth": 0,
             "ticks": ""
            },
            "type": "contourcarpet"
           }
          ],
          "heatmap": [
           {
            "colorbar": {
             "outlinewidth": 0,
             "ticks": ""
            },
            "colorscale": [
             [
              0,
              "#0d0887"
             ],
             [
              0.1111111111111111,
              "#46039f"
             ],
             [
              0.2222222222222222,
              "#7201a8"
             ],
             [
              0.3333333333333333,
              "#9c179e"
             ],
             [
              0.4444444444444444,
              "#bd3786"
             ],
             [
              0.5555555555555556,
              "#d8576b"
             ],
             [
              0.6666666666666666,
              "#ed7953"
             ],
             [
              0.7777777777777778,
              "#fb9f3a"
             ],
             [
              0.8888888888888888,
              "#fdca26"
             ],
             [
              1,
              "#f0f921"
             ]
            ],
            "type": "heatmap"
           }
          ],
          "heatmapgl": [
           {
            "colorbar": {
             "outlinewidth": 0,
             "ticks": ""
            },
            "colorscale": [
             [
              0,
              "#0d0887"
             ],
             [
              0.1111111111111111,
              "#46039f"
             ],
             [
              0.2222222222222222,
              "#7201a8"
             ],
             [
              0.3333333333333333,
              "#9c179e"
             ],
             [
              0.4444444444444444,
              "#bd3786"
             ],
             [
              0.5555555555555556,
              "#d8576b"
             ],
             [
              0.6666666666666666,
              "#ed7953"
             ],
             [
              0.7777777777777778,
              "#fb9f3a"
             ],
             [
              0.8888888888888888,
              "#fdca26"
             ],
             [
              1,
              "#f0f921"
             ]
            ],
            "type": "heatmapgl"
           }
          ],
          "histogram": [
           {
            "marker": {
             "pattern": {
              "fillmode": "overlay",
              "size": 10,
              "solidity": 0.2
             }
            },
            "type": "histogram"
           }
          ],
          "histogram2d": [
           {
            "colorbar": {
             "outlinewidth": 0,
             "ticks": ""
            },
            "colorscale": [
             [
              0,
              "#0d0887"
             ],
             [
              0.1111111111111111,
              "#46039f"
             ],
             [
              0.2222222222222222,
              "#7201a8"
             ],
             [
              0.3333333333333333,
              "#9c179e"
             ],
             [
              0.4444444444444444,
              "#bd3786"
             ],
             [
              0.5555555555555556,
              "#d8576b"
             ],
             [
              0.6666666666666666,
              "#ed7953"
             ],
             [
              0.7777777777777778,
              "#fb9f3a"
             ],
             [
              0.8888888888888888,
              "#fdca26"
             ],
             [
              1,
              "#f0f921"
             ]
            ],
            "type": "histogram2d"
           }
          ],
          "histogram2dcontour": [
           {
            "colorbar": {
             "outlinewidth": 0,
             "ticks": ""
            },
            "colorscale": [
             [
              0,
              "#0d0887"
             ],
             [
              0.1111111111111111,
              "#46039f"
             ],
             [
              0.2222222222222222,
              "#7201a8"
             ],
             [
              0.3333333333333333,
              "#9c179e"
             ],
             [
              0.4444444444444444,
              "#bd3786"
             ],
             [
              0.5555555555555556,
              "#d8576b"
             ],
             [
              0.6666666666666666,
              "#ed7953"
             ],
             [
              0.7777777777777778,
              "#fb9f3a"
             ],
             [
              0.8888888888888888,
              "#fdca26"
             ],
             [
              1,
              "#f0f921"
             ]
            ],
            "type": "histogram2dcontour"
           }
          ],
          "mesh3d": [
           {
            "colorbar": {
             "outlinewidth": 0,
             "ticks": ""
            },
            "type": "mesh3d"
           }
          ],
          "parcoords": [
           {
            "line": {
             "colorbar": {
              "outlinewidth": 0,
              "ticks": ""
             }
            },
            "type": "parcoords"
           }
          ],
          "pie": [
           {
            "automargin": true,
            "type": "pie"
           }
          ],
          "scatter": [
           {
            "fillpattern": {
             "fillmode": "overlay",
             "size": 10,
             "solidity": 0.2
            },
            "type": "scatter"
           }
          ],
          "scatter3d": [
           {
            "line": {
             "colorbar": {
              "outlinewidth": 0,
              "ticks": ""
             }
            },
            "marker": {
             "colorbar": {
              "outlinewidth": 0,
              "ticks": ""
             }
            },
            "type": "scatter3d"
           }
          ],
          "scattercarpet": [
           {
            "marker": {
             "colorbar": {
              "outlinewidth": 0,
              "ticks": ""
             }
            },
            "type": "scattercarpet"
           }
          ],
          "scattergeo": [
           {
            "marker": {
             "colorbar": {
              "outlinewidth": 0,
              "ticks": ""
             }
            },
            "type": "scattergeo"
           }
          ],
          "scattergl": [
           {
            "marker": {
             "colorbar": {
              "outlinewidth": 0,
              "ticks": ""
             }
            },
            "type": "scattergl"
           }
          ],
          "scattermapbox": [
           {
            "marker": {
             "colorbar": {
              "outlinewidth": 0,
              "ticks": ""
             }
            },
            "type": "scattermapbox"
           }
          ],
          "scatterpolar": [
           {
            "marker": {
             "colorbar": {
              "outlinewidth": 0,
              "ticks": ""
             }
            },
            "type": "scatterpolar"
           }
          ],
          "scatterpolargl": [
           {
            "marker": {
             "colorbar": {
              "outlinewidth": 0,
              "ticks": ""
             }
            },
            "type": "scatterpolargl"
           }
          ],
          "scatterternary": [
           {
            "marker": {
             "colorbar": {
              "outlinewidth": 0,
              "ticks": ""
             }
            },
            "type": "scatterternary"
           }
          ],
          "surface": [
           {
            "colorbar": {
             "outlinewidth": 0,
             "ticks": ""
            },
            "colorscale": [
             [
              0,
              "#0d0887"
             ],
             [
              0.1111111111111111,
              "#46039f"
             ],
             [
              0.2222222222222222,
              "#7201a8"
             ],
             [
              0.3333333333333333,
              "#9c179e"
             ],
             [
              0.4444444444444444,
              "#bd3786"
             ],
             [
              0.5555555555555556,
              "#d8576b"
             ],
             [
              0.6666666666666666,
              "#ed7953"
             ],
             [
              0.7777777777777778,
              "#fb9f3a"
             ],
             [
              0.8888888888888888,
              "#fdca26"
             ],
             [
              1,
              "#f0f921"
             ]
            ],
            "type": "surface"
           }
          ],
          "table": [
           {
            "cells": {
             "fill": {
              "color": "#EBF0F8"
             },
             "line": {
              "color": "white"
             }
            },
            "header": {
             "fill": {
              "color": "#C8D4E3"
             },
             "line": {
              "color": "white"
             }
            },
            "type": "table"
           }
          ]
         },
         "layout": {
          "annotationdefaults": {
           "arrowcolor": "#2a3f5f",
           "arrowhead": 0,
           "arrowwidth": 1
          },
          "autotypenumbers": "strict",
          "coloraxis": {
           "colorbar": {
            "outlinewidth": 0,
            "ticks": ""
           }
          },
          "colorscale": {
           "diverging": [
            [
             0,
             "#8e0152"
            ],
            [
             0.1,
             "#c51b7d"
            ],
            [
             0.2,
             "#de77ae"
            ],
            [
             0.3,
             "#f1b6da"
            ],
            [
             0.4,
             "#fde0ef"
            ],
            [
             0.5,
             "#f7f7f7"
            ],
            [
             0.6,
             "#e6f5d0"
            ],
            [
             0.7,
             "#b8e186"
            ],
            [
             0.8,
             "#7fbc41"
            ],
            [
             0.9,
             "#4d9221"
            ],
            [
             1,
             "#276419"
            ]
           ],
           "sequential": [
            [
             0,
             "#0d0887"
            ],
            [
             0.1111111111111111,
             "#46039f"
            ],
            [
             0.2222222222222222,
             "#7201a8"
            ],
            [
             0.3333333333333333,
             "#9c179e"
            ],
            [
             0.4444444444444444,
             "#bd3786"
            ],
            [
             0.5555555555555556,
             "#d8576b"
            ],
            [
             0.6666666666666666,
             "#ed7953"
            ],
            [
             0.7777777777777778,
             "#fb9f3a"
            ],
            [
             0.8888888888888888,
             "#fdca26"
            ],
            [
             1,
             "#f0f921"
            ]
           ],
           "sequentialminus": [
            [
             0,
             "#0d0887"
            ],
            [
             0.1111111111111111,
             "#46039f"
            ],
            [
             0.2222222222222222,
             "#7201a8"
            ],
            [
             0.3333333333333333,
             "#9c179e"
            ],
            [
             0.4444444444444444,
             "#bd3786"
            ],
            [
             0.5555555555555556,
             "#d8576b"
            ],
            [
             0.6666666666666666,
             "#ed7953"
            ],
            [
             0.7777777777777778,
             "#fb9f3a"
            ],
            [
             0.8888888888888888,
             "#fdca26"
            ],
            [
             1,
             "#f0f921"
            ]
           ]
          },
          "colorway": [
           "#636efa",
           "#EF553B",
           "#00cc96",
           "#ab63fa",
           "#FFA15A",
           "#19d3f3",
           "#FF6692",
           "#B6E880",
           "#FF97FF",
           "#FECB52"
          ],
          "font": {
           "color": "#2a3f5f"
          },
          "geo": {
           "bgcolor": "white",
           "lakecolor": "white",
           "landcolor": "#E5ECF6",
           "showlakes": true,
           "showland": true,
           "subunitcolor": "white"
          },
          "hoverlabel": {
           "align": "left"
          },
          "hovermode": "closest",
          "mapbox": {
           "style": "light"
          },
          "paper_bgcolor": "white",
          "plot_bgcolor": "#E5ECF6",
          "polar": {
           "angularaxis": {
            "gridcolor": "white",
            "linecolor": "white",
            "ticks": ""
           },
           "bgcolor": "#E5ECF6",
           "radialaxis": {
            "gridcolor": "white",
            "linecolor": "white",
            "ticks": ""
           }
          },
          "scene": {
           "xaxis": {
            "backgroundcolor": "#E5ECF6",
            "gridcolor": "white",
            "gridwidth": 2,
            "linecolor": "white",
            "showbackground": true,
            "ticks": "",
            "zerolinecolor": "white"
           },
           "yaxis": {
            "backgroundcolor": "#E5ECF6",
            "gridcolor": "white",
            "gridwidth": 2,
            "linecolor": "white",
            "showbackground": true,
            "ticks": "",
            "zerolinecolor": "white"
           },
           "zaxis": {
            "backgroundcolor": "#E5ECF6",
            "gridcolor": "white",
            "gridwidth": 2,
            "linecolor": "white",
            "showbackground": true,
            "ticks": "",
            "zerolinecolor": "white"
           }
          },
          "shapedefaults": {
           "line": {
            "color": "#2a3f5f"
           }
          },
          "ternary": {
           "aaxis": {
            "gridcolor": "white",
            "linecolor": "white",
            "ticks": ""
           },
           "baxis": {
            "gridcolor": "white",
            "linecolor": "white",
            "ticks": ""
           },
           "bgcolor": "#E5ECF6",
           "caxis": {
            "gridcolor": "white",
            "linecolor": "white",
            "ticks": ""
           }
          },
          "title": {
           "x": 0.05
          },
          "xaxis": {
           "automargin": true,
           "gridcolor": "white",
           "linecolor": "white",
           "ticks": "",
           "title": {
            "standoff": 15
           },
           "zerolinecolor": "white",
           "zerolinewidth": 2
          },
          "yaxis": {
           "automargin": true,
           "gridcolor": "white",
           "linecolor": "white",
           "ticks": "",
           "title": {
            "standoff": 15
           },
           "zerolinecolor": "white",
           "zerolinewidth": 2
          }
         }
        },
        "title": {
         "text": "GANTT Chart"
        },
        "xaxis": {
         "range": [
          "1970-01-01T00:00:00",
          "1970-01-01T02:44:25.421321"
         ],
         "title": {
          "font": {
           "color": "#7f7f7f",
           "family": "Courier New, monospace",
           "size": 18
          },
          "text": "Time"
         }
        },
        "yaxis": {
         "title": {
          "font": {
           "color": "#7f7f7f",
           "family": "Courier New, monospace",
           "size": 18
          },
          "text": "Activities"
         }
        }
       }
      },
      "text/html": [
       "<div>                            <div id=\"a19e0de2-7e0f-482c-b389-0a78f7493f74\" class=\"plotly-graph-div\" style=\"height:525px; width:100%;\"></div>            <script type=\"text/javascript\">                require([\"plotly\"], function(Plotly) {                    window.PLOTLYENV=window.PLOTLYENV || {};                                    if (document.getElementById(\"a19e0de2-7e0f-482c-b389-0a78f7493f74\")) {                    Plotly.newPlot(                        \"a19e0de2-7e0f-482c-b389-0a78f7493f74\",                        [{\"connectgaps\":false,\"hoverinfo\":\"y+name\",\"line\":{\"color\":\"rgb(11,226,102)\",\"width\":10},\"mode\":\"lines\",\"name\":\"Transporter01 move process\",\"x\":[\"1970-01-01T00:00:00\",\"1970-01-01T00:00:00\",\"1970-01-01T00:19:42.824591\",\"1970-01-01T00:19:42.824591\",\"1970-01-01T00:19:42.824591\",\"1970-01-01T00:19:42.824591\",\"1970-01-01T00:19:42.824591\",\"1970-01-01T00:55:08.473774\",\"1970-01-01T00:55:08.473774\",\"1970-01-01T00:55:08.473774\",\"1970-01-01T00:55:08.473774\",\"1970-01-01T00:55:08.473774\",\"1970-01-01T01:30:34.122956\",\"1970-01-01T01:30:34.122956\",\"1970-01-01T01:30:34.122956\",\"1970-01-01T01:30:34.122956\",\"1970-01-01T01:30:34.122956\",\"1970-01-01T02:05:59.772139\",\"1970-01-01T02:05:59.772139\",\"1970-01-01T02:05:59.772139\",\"1970-01-01T02:05:59.772139\",\"1970-01-01T02:05:59.772139\",\"1970-01-01T02:41:25.421321\",\"1970-01-01T02:41:25.421321\",\"1970-01-01T02:41:25.421321\",\"1970-01-01T02:05:59.772139\",\"1970-01-01T02:05:59.772139\",\"1970-01-01T02:41:25.421321\",\"1970-01-01T02:41:25.421321\",\"1970-01-01T02:41:25.421321\"],\"y\":[\"Transporter01 move process\",\"Transporter01 move process\",\"Transporter01 move process\",\"Transporter01 move process\",null,\"Transporter01 move process\",\"Transporter01 move process\",\"Transporter01 move process\",\"Transporter01 move process\",null,\"Transporter01 move process\",\"Transporter01 move process\",\"Transporter01 move process\",\"Transporter01 move process\",null,\"Transporter01 move process\",\"Transporter01 move process\",\"Transporter01 move process\",\"Transporter01 move process\",null,\"Transporter01 move process\",\"Transporter01 move process\",\"Transporter01 move process\",\"Transporter01 move process\",null,\"Transporter01 move process\",\"Transporter01 move process\",\"Transporter01 move process\",\"Transporter01 move process\",null],\"type\":\"scatter\"},{\"connectgaps\":false,\"hoverinfo\":\"y+name\",\"line\":{\"color\":\"rgb(139,98,230)\",\"width\":10},\"mode\":\"lines\",\"name\":\"Installer01 move process\",\"x\":[\"1970-01-01T00:00:00\",\"1970-01-01T00:00:00\",\"1970-01-01T00:15:42.824591\",\"1970-01-01T00:15:42.824591\",\"1970-01-01T00:15:42.824591\",\"1970-01-01T00:15:42.824591\",\"1970-01-01T00:15:42.824591\",\"1970-01-01T02:44:25.421321\",\"1970-01-01T02:44:25.421321\",\"1970-01-01T02:44:25.421321\",\"1970-01-01T00:15:42.824591\",\"1970-01-01T00:15:42.824591\",\"1970-01-01T02:44:25.421321\",\"1970-01-01T02:44:25.421321\",\"1970-01-01T02:44:25.421321\"],\"y\":[\"Installer01 move process\",\"Installer01 move process\",\"Installer01 move process\",\"Installer01 move process\",null,\"Installer01 move process\",\"Installer01 move process\",\"Installer01 move process\",\"Installer01 move process\",null,\"Installer01 move process\",\"Installer01 move process\",\"Installer01 move process\",\"Installer01 move process\",null],\"type\":\"scatter\"}],                        {\"hovermode\":\"closest\",\"legend\":{\"orientation\":\"h\",\"x\":0,\"y\":-0.2},\"template\":{\"data\":{\"barpolar\":[{\"marker\":{\"line\":{\"color\":\"#E5ECF6\",\"width\":0.5},\"pattern\":{\"fillmode\":\"overlay\",\"size\":10,\"solidity\":0.2}},\"type\":\"barpolar\"}],\"bar\":[{\"error_x\":{\"color\":\"#2a3f5f\"},\"error_y\":{\"color\":\"#2a3f5f\"},\"marker\":{\"line\":{\"color\":\"#E5ECF6\",\"width\":0.5},\"pattern\":{\"fillmode\":\"overlay\",\"size\":10,\"solidity\":0.2}},\"type\":\"bar\"}],\"carpet\":[{\"aaxis\":{\"endlinecolor\":\"#2a3f5f\",\"gridcolor\":\"white\",\"linecolor\":\"white\",\"minorgridcolor\":\"white\",\"startlinecolor\":\"#2a3f5f\"},\"baxis\":{\"endlinecolor\":\"#2a3f5f\",\"gridcolor\":\"white\",\"linecolor\":\"white\",\"minorgridcolor\":\"white\",\"startlinecolor\":\"#2a3f5f\"},\"type\":\"carpet\"}],\"choropleth\":[{\"colorbar\":{\"outlinewidth\":0,\"ticks\":\"\"},\"type\":\"choropleth\"}],\"contourcarpet\":[{\"colorbar\":{\"outlinewidth\":0,\"ticks\":\"\"},\"type\":\"contourcarpet\"}],\"contour\":[{\"colorbar\":{\"outlinewidth\":0,\"ticks\":\"\"},\"colorscale\":[[0.0,\"#0d0887\"],[0.1111111111111111,\"#46039f\"],[0.2222222222222222,\"#7201a8\"],[0.3333333333333333,\"#9c179e\"],[0.4444444444444444,\"#bd3786\"],[0.5555555555555556,\"#d8576b\"],[0.6666666666666666,\"#ed7953\"],[0.7777777777777778,\"#fb9f3a\"],[0.8888888888888888,\"#fdca26\"],[1.0,\"#f0f921\"]],\"type\":\"contour\"}],\"heatmapgl\":[{\"colorbar\":{\"outlinewidth\":0,\"ticks\":\"\"},\"colorscale\":[[0.0,\"#0d0887\"],[0.1111111111111111,\"#46039f\"],[0.2222222222222222,\"#7201a8\"],[0.3333333333333333,\"#9c179e\"],[0.4444444444444444,\"#bd3786\"],[0.5555555555555556,\"#d8576b\"],[0.6666666666666666,\"#ed7953\"],[0.7777777777777778,\"#fb9f3a\"],[0.8888888888888888,\"#fdca26\"],[1.0,\"#f0f921\"]],\"type\":\"heatmapgl\"}],\"heatmap\":[{\"colorbar\":{\"outlinewidth\":0,\"ticks\":\"\"},\"colorscale\":[[0.0,\"#0d0887\"],[0.1111111111111111,\"#46039f\"],[0.2222222222222222,\"#7201a8\"],[0.3333333333333333,\"#9c179e\"],[0.4444444444444444,\"#bd3786\"],[0.5555555555555556,\"#d8576b\"],[0.6666666666666666,\"#ed7953\"],[0.7777777777777778,\"#fb9f3a\"],[0.8888888888888888,\"#fdca26\"],[1.0,\"#f0f921\"]],\"type\":\"heatmap\"}],\"histogram2dcontour\":[{\"colorbar\":{\"outlinewidth\":0,\"ticks\":\"\"},\"colorscale\":[[0.0,\"#0d0887\"],[0.1111111111111111,\"#46039f\"],[0.2222222222222222,\"#7201a8\"],[0.3333333333333333,\"#9c179e\"],[0.4444444444444444,\"#bd3786\"],[0.5555555555555556,\"#d8576b\"],[0.6666666666666666,\"#ed7953\"],[0.7777777777777778,\"#fb9f3a\"],[0.8888888888888888,\"#fdca26\"],[1.0,\"#f0f921\"]],\"type\":\"histogram2dcontour\"}],\"histogram2d\":[{\"colorbar\":{\"outlinewidth\":0,\"ticks\":\"\"},\"colorscale\":[[0.0,\"#0d0887\"],[0.1111111111111111,\"#46039f\"],[0.2222222222222222,\"#7201a8\"],[0.3333333333333333,\"#9c179e\"],[0.4444444444444444,\"#bd3786\"],[0.5555555555555556,\"#d8576b\"],[0.6666666666666666,\"#ed7953\"],[0.7777777777777778,\"#fb9f3a\"],[0.8888888888888888,\"#fdca26\"],[1.0,\"#f0f921\"]],\"type\":\"histogram2d\"}],\"histogram\":[{\"marker\":{\"pattern\":{\"fillmode\":\"overlay\",\"size\":10,\"solidity\":0.2}},\"type\":\"histogram\"}],\"mesh3d\":[{\"colorbar\":{\"outlinewidth\":0,\"ticks\":\"\"},\"type\":\"mesh3d\"}],\"parcoords\":[{\"line\":{\"colorbar\":{\"outlinewidth\":0,\"ticks\":\"\"}},\"type\":\"parcoords\"}],\"pie\":[{\"automargin\":true,\"type\":\"pie\"}],\"scatter3d\":[{\"line\":{\"colorbar\":{\"outlinewidth\":0,\"ticks\":\"\"}},\"marker\":{\"colorbar\":{\"outlinewidth\":0,\"ticks\":\"\"}},\"type\":\"scatter3d\"}],\"scattercarpet\":[{\"marker\":{\"colorbar\":{\"outlinewidth\":0,\"ticks\":\"\"}},\"type\":\"scattercarpet\"}],\"scattergeo\":[{\"marker\":{\"colorbar\":{\"outlinewidth\":0,\"ticks\":\"\"}},\"type\":\"scattergeo\"}],\"scattergl\":[{\"marker\":{\"colorbar\":{\"outlinewidth\":0,\"ticks\":\"\"}},\"type\":\"scattergl\"}],\"scattermapbox\":[{\"marker\":{\"colorbar\":{\"outlinewidth\":0,\"ticks\":\"\"}},\"type\":\"scattermapbox\"}],\"scatterpolargl\":[{\"marker\":{\"colorbar\":{\"outlinewidth\":0,\"ticks\":\"\"}},\"type\":\"scatterpolargl\"}],\"scatterpolar\":[{\"marker\":{\"colorbar\":{\"outlinewidth\":0,\"ticks\":\"\"}},\"type\":\"scatterpolar\"}],\"scatter\":[{\"fillpattern\":{\"fillmode\":\"overlay\",\"size\":10,\"solidity\":0.2},\"type\":\"scatter\"}],\"scatterternary\":[{\"marker\":{\"colorbar\":{\"outlinewidth\":0,\"ticks\":\"\"}},\"type\":\"scatterternary\"}],\"surface\":[{\"colorbar\":{\"outlinewidth\":0,\"ticks\":\"\"},\"colorscale\":[[0.0,\"#0d0887\"],[0.1111111111111111,\"#46039f\"],[0.2222222222222222,\"#7201a8\"],[0.3333333333333333,\"#9c179e\"],[0.4444444444444444,\"#bd3786\"],[0.5555555555555556,\"#d8576b\"],[0.6666666666666666,\"#ed7953\"],[0.7777777777777778,\"#fb9f3a\"],[0.8888888888888888,\"#fdca26\"],[1.0,\"#f0f921\"]],\"type\":\"surface\"}],\"table\":[{\"cells\":{\"fill\":{\"color\":\"#EBF0F8\"},\"line\":{\"color\":\"white\"}},\"header\":{\"fill\":{\"color\":\"#C8D4E3\"},\"line\":{\"color\":\"white\"}},\"type\":\"table\"}]},\"layout\":{\"annotationdefaults\":{\"arrowcolor\":\"#2a3f5f\",\"arrowhead\":0,\"arrowwidth\":1},\"autotypenumbers\":\"strict\",\"coloraxis\":{\"colorbar\":{\"outlinewidth\":0,\"ticks\":\"\"}},\"colorscale\":{\"diverging\":[[0,\"#8e0152\"],[0.1,\"#c51b7d\"],[0.2,\"#de77ae\"],[0.3,\"#f1b6da\"],[0.4,\"#fde0ef\"],[0.5,\"#f7f7f7\"],[0.6,\"#e6f5d0\"],[0.7,\"#b8e186\"],[0.8,\"#7fbc41\"],[0.9,\"#4d9221\"],[1,\"#276419\"]],\"sequential\":[[0.0,\"#0d0887\"],[0.1111111111111111,\"#46039f\"],[0.2222222222222222,\"#7201a8\"],[0.3333333333333333,\"#9c179e\"],[0.4444444444444444,\"#bd3786\"],[0.5555555555555556,\"#d8576b\"],[0.6666666666666666,\"#ed7953\"],[0.7777777777777778,\"#fb9f3a\"],[0.8888888888888888,\"#fdca26\"],[1.0,\"#f0f921\"]],\"sequentialminus\":[[0.0,\"#0d0887\"],[0.1111111111111111,\"#46039f\"],[0.2222222222222222,\"#7201a8\"],[0.3333333333333333,\"#9c179e\"],[0.4444444444444444,\"#bd3786\"],[0.5555555555555556,\"#d8576b\"],[0.6666666666666666,\"#ed7953\"],[0.7777777777777778,\"#fb9f3a\"],[0.8888888888888888,\"#fdca26\"],[1.0,\"#f0f921\"]]},\"colorway\":[\"#636efa\",\"#EF553B\",\"#00cc96\",\"#ab63fa\",\"#FFA15A\",\"#19d3f3\",\"#FF6692\",\"#B6E880\",\"#FF97FF\",\"#FECB52\"],\"font\":{\"color\":\"#2a3f5f\"},\"geo\":{\"bgcolor\":\"white\",\"lakecolor\":\"white\",\"landcolor\":\"#E5ECF6\",\"showlakes\":true,\"showland\":true,\"subunitcolor\":\"white\"},\"hoverlabel\":{\"align\":\"left\"},\"hovermode\":\"closest\",\"mapbox\":{\"style\":\"light\"},\"paper_bgcolor\":\"white\",\"plot_bgcolor\":\"#E5ECF6\",\"polar\":{\"angularaxis\":{\"gridcolor\":\"white\",\"linecolor\":\"white\",\"ticks\":\"\"},\"bgcolor\":\"#E5ECF6\",\"radialaxis\":{\"gridcolor\":\"white\",\"linecolor\":\"white\",\"ticks\":\"\"}},\"scene\":{\"xaxis\":{\"backgroundcolor\":\"#E5ECF6\",\"gridcolor\":\"white\",\"gridwidth\":2,\"linecolor\":\"white\",\"showbackground\":true,\"ticks\":\"\",\"zerolinecolor\":\"white\"},\"yaxis\":{\"backgroundcolor\":\"#E5ECF6\",\"gridcolor\":\"white\",\"gridwidth\":2,\"linecolor\":\"white\",\"showbackground\":true,\"ticks\":\"\",\"zerolinecolor\":\"white\"},\"zaxis\":{\"backgroundcolor\":\"#E5ECF6\",\"gridcolor\":\"white\",\"gridwidth\":2,\"linecolor\":\"white\",\"showbackground\":true,\"ticks\":\"\",\"zerolinecolor\":\"white\"}},\"shapedefaults\":{\"line\":{\"color\":\"#2a3f5f\"}},\"ternary\":{\"aaxis\":{\"gridcolor\":\"white\",\"linecolor\":\"white\",\"ticks\":\"\"},\"baxis\":{\"gridcolor\":\"white\",\"linecolor\":\"white\",\"ticks\":\"\"},\"bgcolor\":\"#E5ECF6\",\"caxis\":{\"gridcolor\":\"white\",\"linecolor\":\"white\",\"ticks\":\"\"}},\"title\":{\"x\":0.05},\"xaxis\":{\"automargin\":true,\"gridcolor\":\"white\",\"linecolor\":\"white\",\"ticks\":\"\",\"title\":{\"standoff\":15},\"zerolinecolor\":\"white\",\"zerolinewidth\":2},\"yaxis\":{\"automargin\":true,\"gridcolor\":\"white\",\"linecolor\":\"white\",\"ticks\":\"\",\"title\":{\"standoff\":15},\"zerolinecolor\":\"white\",\"zerolinewidth\":2}}},\"title\":{\"text\":\"GANTT Chart\"},\"xaxis\":{\"range\":[\"1970-01-01T00:00:00\",\"1970-01-01T02:44:25.421321\"],\"title\":{\"font\":{\"color\":\"#7f7f7f\",\"family\":\"Courier New, monospace\",\"size\":18},\"text\":\"Time\"}},\"yaxis\":{\"title\":{\"font\":{\"color\":\"#7f7f7f\",\"family\":\"Courier New, monospace\",\"size\":18},\"text\":\"Activities\"}}},                        {\"responsive\": true}                    ).then(function(){\n",
       "                            \n",
       "var gd = document.getElementById('a19e0de2-7e0f-482c-b389-0a78f7493f74');\n",
       "var x = new MutationObserver(function (mutations, observer) {{\n",
       "        var display = window.getComputedStyle(gd).display;\n",
       "        if (!display || display === 'none') {{\n",
       "            console.log([gd, 'removed!']);\n",
       "            Plotly.purge(gd);\n",
       "            observer.disconnect();\n",
       "        }}\n",
       "}});\n",
       "\n",
       "// Listen for the removal of the full notebook cells\n",
       "var notebookContainer = gd.closest('#notebook-container');\n",
       "if (notebookContainer) {{\n",
       "    x.observe(notebookContainer, {childList: true});\n",
       "}}\n",
       "\n",
       "// Listen for the clearing of the current output cell\n",
       "var outputEl = gd.closest('.output');\n",
       "if (outputEl) {{\n",
       "    x.observe(outputEl, {childList: true});\n",
       "}}\n",
       "\n",
       "                        })                };                });            </script>        </div>"
      ]
     },
     "metadata": {},
     "output_type": "display_data"
    }
   ],
   "source": [
    "plot.get_gantt_chart([transport_activity, installer_move_sequential_activity])"
   ]
  },
  {
   "cell_type": "code",
   "execution_count": 13,
   "metadata": {},
   "outputs": [
    {
     "name": "stdout",
     "output_type": "stream",
     "text": [
      "-- total elapsed time 0.03400063514709473 seconds\n",
      "TODO\n"
     ]
    },
    {
     "data": {
      "text/html": [
       "        <script type=\"text/javascript\">\n",
       "        window.PlotlyConfig = {MathJaxConfig: 'local'};\n",
       "        if (window.MathJax) {MathJax.Hub.Config({SVG: {font: \"STIX-Web\"}});}\n",
       "        if (typeof require !== 'undefined') {\n",
       "        require.undef(\"plotly\");\n",
       "        requirejs.config({\n",
       "            paths: {\n",
       "                'plotly': ['https://cdn.plot.ly/plotly-2.11.1.min']\n",
       "            }\n",
       "        });\n",
       "        require(['plotly'], function(Plotly) {\n",
       "            window._Plotly = Plotly;\n",
       "        });\n",
       "        }\n",
       "        </script>\n",
       "        "
      ]
     },
     "metadata": {},
     "output_type": "display_data"
    },
    {
     "data": {
      "application/vnd.plotly.v1+json": {
       "config": {
        "linkText": "Export to plot.ly",
        "plotlyServerURL": "https://plot.ly",
        "showLink": false
       },
       "data": [
        {
         "connectgaps": false,
         "hoverinfo": "y+name",
         "line": {
          "color": "rgb(174,103,55)",
          "width": 10
         },
         "mode": "lines",
         "name": "sailing empty",
         "type": "scatter",
         "x": [
          "1970-01-01T00:00:00",
          "1970-01-01T00:00:00",
          "1970-01-01T00:00:00",
          "1970-01-01T00:00:00",
          "1970-01-01T00:00:00",
          "1970-01-01T00:19:42.824591",
          "1970-01-01T00:19:42.824591",
          "1970-01-01T00:35:25.649183",
          "1970-01-01T00:35:25.649183",
          "1970-01-01T00:35:25.649183",
          "1970-01-01T00:55:08.473774",
          "1970-01-01T00:55:08.473774",
          "1970-01-01T01:10:51.298365",
          "1970-01-01T01:10:51.298365",
          "1970-01-01T01:10:51.298365",
          "1970-01-01T01:30:34.122956",
          "1970-01-01T01:30:34.122956",
          "1970-01-01T01:46:16.947548",
          "1970-01-01T01:46:16.947548",
          "1970-01-01T01:46:16.947548",
          "1970-01-01T02:05:59.772139",
          "1970-01-01T02:05:59.772139",
          "1970-01-01T02:21:42.596730",
          "1970-01-01T02:21:42.596730",
          "1970-01-01T02:21:42.596730"
         ],
         "y": [
          "transporter01",
          "transporter01",
          "transporter01",
          "transporter01",
          null,
          "transporter01",
          "transporter01",
          "transporter01",
          "transporter01",
          null,
          "transporter01",
          "transporter01",
          "transporter01",
          "transporter01",
          null,
          "transporter01",
          "transporter01",
          "transporter01",
          "transporter01",
          null,
          "transporter01",
          "transporter01",
          "transporter01",
          "transporter01",
          null
         ]
        },
        {
         "connectgaps": false,
         "hoverinfo": "y+name",
         "line": {
          "color": "rgb(197,126,78)",
          "width": 10
         },
         "mode": "lines",
         "name": "sailing filled",
         "type": "scatter",
         "x": [
          "1970-01-01T00:02:00",
          "1970-01-01T00:02:00",
          "1970-01-01T00:17:42.824591",
          "1970-01-01T00:17:42.824591",
          "1970-01-01T00:17:42.824591",
          "1970-01-01T00:37:25.649183",
          "1970-01-01T00:37:25.649183",
          "1970-01-01T00:53:08.473774",
          "1970-01-01T00:53:08.473774",
          "1970-01-01T00:53:08.473774",
          "1970-01-01T01:12:51.298365",
          "1970-01-01T01:12:51.298365",
          "1970-01-01T01:28:34.122956",
          "1970-01-01T01:28:34.122956",
          "1970-01-01T01:28:34.122956",
          "1970-01-01T01:48:16.947548",
          "1970-01-01T01:48:16.947548",
          "1970-01-01T02:03:59.772139",
          "1970-01-01T02:03:59.772139",
          "1970-01-01T02:03:59.772139",
          "1970-01-01T02:23:42.596730",
          "1970-01-01T02:23:42.596730",
          "1970-01-01T02:39:25.421321",
          "1970-01-01T02:39:25.421321",
          "1970-01-01T02:39:25.421321"
         ],
         "y": [
          "transporter01",
          "transporter01",
          "transporter01",
          "transporter01",
          null,
          "transporter01",
          "transporter01",
          "transporter01",
          "transporter01",
          null,
          "transporter01",
          "transporter01",
          "transporter01",
          "transporter01",
          null,
          "transporter01",
          "transporter01",
          "transporter01",
          "transporter01",
          null,
          "transporter01",
          "transporter01",
          "transporter01",
          "transporter01",
          null
         ]
        },
        {
         "connectgaps": false,
         "hoverinfo": "y+name",
         "line": {
          "color": "rgb(220,149,101)",
          "width": 10
         },
         "mode": "lines",
         "name": "loading Cargo_1",
         "type": "scatter",
         "x": [
          "1970-01-01T00:00:00",
          "1970-01-01T00:00:00",
          "1970-01-01T00:02:00",
          "1970-01-01T00:02:00",
          "1970-01-01T00:02:00",
          "1970-01-01T00:35:25.649183",
          "1970-01-01T00:35:25.649183",
          "1970-01-01T00:37:25.649183",
          "1970-01-01T00:37:25.649183",
          "1970-01-01T00:37:25.649183",
          "1970-01-01T01:10:51.298365",
          "1970-01-01T01:10:51.298365",
          "1970-01-01T01:12:51.298365",
          "1970-01-01T01:12:51.298365",
          "1970-01-01T01:12:51.298365",
          "1970-01-01T01:46:16.947548",
          "1970-01-01T01:46:16.947548",
          "1970-01-01T01:48:16.947548",
          "1970-01-01T01:48:16.947548",
          "1970-01-01T01:48:16.947548",
          "1970-01-01T02:21:42.596730",
          "1970-01-01T02:21:42.596730",
          "1970-01-01T02:23:42.596730",
          "1970-01-01T02:23:42.596730",
          "1970-01-01T02:23:42.596730",
          "1970-01-01T00:00:00",
          "1970-01-01T00:00:00",
          "1970-01-01T00:02:00",
          "1970-01-01T00:02:00",
          "1970-01-01T00:02:00",
          "1970-01-01T00:35:25.649183",
          "1970-01-01T00:35:25.649183",
          "1970-01-01T00:37:25.649183",
          "1970-01-01T00:37:25.649183",
          "1970-01-01T00:37:25.649183",
          "1970-01-01T01:10:51.298365",
          "1970-01-01T01:10:51.298365",
          "1970-01-01T01:12:51.298365",
          "1970-01-01T01:12:51.298365",
          "1970-01-01T01:12:51.298365",
          "1970-01-01T01:46:16.947548",
          "1970-01-01T01:46:16.947548",
          "1970-01-01T01:48:16.947548",
          "1970-01-01T01:48:16.947548",
          "1970-01-01T01:48:16.947548",
          "1970-01-01T02:21:42.596730",
          "1970-01-01T02:21:42.596730",
          "1970-01-01T02:23:42.596730",
          "1970-01-01T02:23:42.596730",
          "1970-01-01T02:23:42.596730"
         ],
         "y": [
          "transporter01",
          "transporter01",
          "transporter01",
          "transporter01",
          null,
          "transporter01",
          "transporter01",
          "transporter01",
          "transporter01",
          null,
          "transporter01",
          "transporter01",
          "transporter01",
          "transporter01",
          null,
          "transporter01",
          "transporter01",
          "transporter01",
          "transporter01",
          null,
          "transporter01",
          "transporter01",
          "transporter01",
          "transporter01",
          null,
          "from_site",
          "from_site",
          "from_site",
          "from_site",
          null,
          "from_site",
          "from_site",
          "from_site",
          "from_site",
          null,
          "from_site",
          "from_site",
          "from_site",
          "from_site",
          null,
          "from_site",
          "from_site",
          "from_site",
          "from_site",
          null,
          "from_site",
          "from_site",
          "from_site",
          "from_site",
          null
         ]
        },
        {
         "connectgaps": false,
         "hoverinfo": "y+name",
         "line": {
          "color": "rgb(243,172,124)",
          "width": 10
         },
         "mode": "lines",
         "name": "transfer Cargo_1",
         "type": "scatter",
         "x": [
          "1970-01-01T00:17:42.824591",
          "1970-01-01T00:17:42.824591",
          "1970-01-01T00:19:42.824591",
          "1970-01-01T00:19:42.824591",
          "1970-01-01T00:19:42.824591",
          "1970-01-01T00:53:08.473774",
          "1970-01-01T00:53:08.473774",
          "1970-01-01T00:55:08.473774",
          "1970-01-01T00:55:08.473774",
          "1970-01-01T00:55:08.473774",
          "1970-01-01T01:28:34.122956",
          "1970-01-01T01:28:34.122956",
          "1970-01-01T01:30:34.122956",
          "1970-01-01T01:30:34.122956",
          "1970-01-01T01:30:34.122956",
          "1970-01-01T02:03:59.772139",
          "1970-01-01T02:03:59.772139",
          "1970-01-01T02:05:59.772139",
          "1970-01-01T02:05:59.772139",
          "1970-01-01T02:05:59.772139",
          "1970-01-01T02:39:25.421321",
          "1970-01-01T02:39:25.421321",
          "1970-01-01T02:41:25.421321",
          "1970-01-01T02:41:25.421321",
          "1970-01-01T02:41:25.421321",
          "1970-01-01T00:17:42.824591",
          "1970-01-01T00:17:42.824591",
          "1970-01-01T00:19:42.824591",
          "1970-01-01T00:19:42.824591",
          "1970-01-01T00:19:42.824591",
          "1970-01-01T00:53:08.473774",
          "1970-01-01T00:53:08.473774",
          "1970-01-01T00:55:08.473774",
          "1970-01-01T00:55:08.473774",
          "1970-01-01T00:55:08.473774",
          "1970-01-01T01:28:34.122956",
          "1970-01-01T01:28:34.122956",
          "1970-01-01T01:30:34.122956",
          "1970-01-01T01:30:34.122956",
          "1970-01-01T01:30:34.122956",
          "1970-01-01T02:03:59.772139",
          "1970-01-01T02:03:59.772139",
          "1970-01-01T02:05:59.772139",
          "1970-01-01T02:05:59.772139",
          "1970-01-01T02:05:59.772139",
          "1970-01-01T02:39:25.421321",
          "1970-01-01T02:39:25.421321",
          "1970-01-01T02:41:25.421321",
          "1970-01-01T02:41:25.421321",
          "1970-01-01T02:41:25.421321"
         ],
         "y": [
          "transporter01",
          "transporter01",
          "transporter01",
          "transporter01",
          null,
          "transporter01",
          "transporter01",
          "transporter01",
          "transporter01",
          null,
          "transporter01",
          "transporter01",
          "transporter01",
          "transporter01",
          null,
          "transporter01",
          "transporter01",
          "transporter01",
          "transporter01",
          null,
          "transporter01",
          "transporter01",
          "transporter01",
          "transporter01",
          null,
          "installer01",
          "installer01",
          "installer01",
          "installer01",
          null,
          "installer01",
          "installer01",
          "installer01",
          "installer01",
          null,
          "installer01",
          "installer01",
          "installer01",
          "installer01",
          null,
          "installer01",
          "installer01",
          "installer01",
          "installer01",
          null,
          "installer01",
          "installer01",
          "installer01",
          "installer01",
          null
         ]
        },
        {
         "connectgaps": false,
         "hoverinfo": "y+name",
         "line": {
          "color": "rgb(10,195,147)",
          "width": 10
         },
         "mode": "lines",
         "name": "preparing for unloading",
         "type": "scatter",
         "x": [
          "1970-01-01T00:19:42.824591",
          "1970-01-01T00:19:42.824591",
          "1970-01-01T00:20:42.824591",
          "1970-01-01T00:20:42.824591",
          "1970-01-01T00:20:42.824591",
          "1970-01-01T00:55:08.473774",
          "1970-01-01T00:55:08.473774",
          "1970-01-01T00:56:08.473774",
          "1970-01-01T00:56:08.473774",
          "1970-01-01T00:56:08.473774",
          "1970-01-01T01:30:34.122956",
          "1970-01-01T01:30:34.122956",
          "1970-01-01T01:31:34.122956",
          "1970-01-01T01:31:34.122956",
          "1970-01-01T01:31:34.122956",
          "1970-01-01T02:05:59.772139",
          "1970-01-01T02:05:59.772139",
          "1970-01-01T02:06:59.772139",
          "1970-01-01T02:06:59.772139",
          "1970-01-01T02:06:59.772139",
          "1970-01-01T02:41:25.421321",
          "1970-01-01T02:41:25.421321",
          "1970-01-01T02:42:25.421321",
          "1970-01-01T02:42:25.421321",
          "1970-01-01T02:42:25.421321"
         ],
         "y": [
          "installer01",
          "installer01",
          "installer01",
          "installer01",
          null,
          "installer01",
          "installer01",
          "installer01",
          "installer01",
          null,
          "installer01",
          "installer01",
          "installer01",
          "installer01",
          null,
          "installer01",
          "installer01",
          "installer01",
          "installer01",
          null,
          "installer01",
          "installer01",
          "installer01",
          "installer01",
          null
         ]
        },
        {
         "connectgaps": false,
         "hoverinfo": "y+name",
         "line": {
          "color": "rgb(33,218,170)",
          "width": 10
         },
         "mode": "lines",
         "name": "preparing for delivery",
         "type": "scatter",
         "x": [
          "1970-01-01T00:15:42.824591",
          "1970-01-01T00:15:42.824591",
          "1970-01-01T00:16:12.824591",
          "1970-01-01T00:16:12.824591",
          "1970-01-01T00:16:12.824591",
          "1970-01-01T00:22:42.824591",
          "1970-01-01T00:22:42.824591",
          "1970-01-01T00:23:12.824591",
          "1970-01-01T00:23:12.824591",
          "1970-01-01T00:23:12.824591",
          "1970-01-01T00:58:08.473774",
          "1970-01-01T00:58:08.473774",
          "1970-01-01T00:58:38.473774",
          "1970-01-01T00:58:38.473774",
          "1970-01-01T00:58:38.473774",
          "1970-01-01T01:33:34.122956",
          "1970-01-01T01:33:34.122956",
          "1970-01-01T01:34:04.122956",
          "1970-01-01T01:34:04.122956",
          "1970-01-01T01:34:04.122956",
          "1970-01-01T02:08:59.772139",
          "1970-01-01T02:08:59.772139",
          "1970-01-01T02:09:29.772139",
          "1970-01-01T02:09:29.772139",
          "1970-01-01T02:09:29.772139"
         ],
         "y": [
          "installer01",
          "installer01",
          "installer01",
          "installer01",
          null,
          "installer01",
          "installer01",
          "installer01",
          "installer01",
          null,
          "installer01",
          "installer01",
          "installer01",
          "installer01",
          null,
          "installer01",
          "installer01",
          "installer01",
          "installer01",
          null,
          "installer01",
          "installer01",
          "installer01",
          "installer01",
          null
         ]
        },
        {
         "connectgaps": false,
         "hoverinfo": "y+name",
         "line": {
          "color": "rgb(56,241,193)",
          "width": 10
         },
         "mode": "lines",
         "name": "transfer Cargo_1",
         "type": "scatter",
         "x": [
          "1970-01-01T00:17:42.824591",
          "1970-01-01T00:17:42.824591",
          "1970-01-01T00:19:42.824591",
          "1970-01-01T00:19:42.824591",
          "1970-01-01T00:19:42.824591",
          "1970-01-01T00:53:08.473774",
          "1970-01-01T00:53:08.473774",
          "1970-01-01T00:55:08.473774",
          "1970-01-01T00:55:08.473774",
          "1970-01-01T00:55:08.473774",
          "1970-01-01T01:28:34.122956",
          "1970-01-01T01:28:34.122956",
          "1970-01-01T01:30:34.122956",
          "1970-01-01T01:30:34.122956",
          "1970-01-01T01:30:34.122956",
          "1970-01-01T02:03:59.772139",
          "1970-01-01T02:03:59.772139",
          "1970-01-01T02:05:59.772139",
          "1970-01-01T02:05:59.772139",
          "1970-01-01T02:05:59.772139",
          "1970-01-01T02:39:25.421321",
          "1970-01-01T02:39:25.421321",
          "1970-01-01T02:41:25.421321",
          "1970-01-01T02:41:25.421321",
          "1970-01-01T02:41:25.421321",
          "1970-01-01T00:17:42.824591",
          "1970-01-01T00:17:42.824591",
          "1970-01-01T00:19:42.824591",
          "1970-01-01T00:19:42.824591",
          "1970-01-01T00:19:42.824591",
          "1970-01-01T00:53:08.473774",
          "1970-01-01T00:53:08.473774",
          "1970-01-01T00:55:08.473774",
          "1970-01-01T00:55:08.473774",
          "1970-01-01T00:55:08.473774",
          "1970-01-01T01:28:34.122956",
          "1970-01-01T01:28:34.122956",
          "1970-01-01T01:30:34.122956",
          "1970-01-01T01:30:34.122956",
          "1970-01-01T01:30:34.122956",
          "1970-01-01T02:03:59.772139",
          "1970-01-01T02:03:59.772139",
          "1970-01-01T02:05:59.772139",
          "1970-01-01T02:05:59.772139",
          "1970-01-01T02:05:59.772139",
          "1970-01-01T02:39:25.421321",
          "1970-01-01T02:39:25.421321",
          "1970-01-01T02:41:25.421321",
          "1970-01-01T02:41:25.421321",
          "1970-01-01T02:41:25.421321"
         ],
         "y": [
          "transporter01",
          "transporter01",
          "transporter01",
          "transporter01",
          null,
          "transporter01",
          "transporter01",
          "transporter01",
          "transporter01",
          null,
          "transporter01",
          "transporter01",
          "transporter01",
          "transporter01",
          null,
          "transporter01",
          "transporter01",
          "transporter01",
          "transporter01",
          null,
          "transporter01",
          "transporter01",
          "transporter01",
          "transporter01",
          null,
          "installer01",
          "installer01",
          "installer01",
          "installer01",
          null,
          "installer01",
          "installer01",
          "installer01",
          "installer01",
          null,
          "installer01",
          "installer01",
          "installer01",
          "installer01",
          null,
          "installer01",
          "installer01",
          "installer01",
          "installer01",
          null,
          "installer01",
          "installer01",
          "installer01",
          "installer01",
          null
         ]
        },
        {
         "connectgaps": false,
         "hoverinfo": "y+name",
         "line": {
          "color": "rgb(79,8,216)",
          "width": 10
         },
         "mode": "lines",
         "name": "unload Cargo_1",
         "type": "scatter",
         "x": [
          "1970-01-01T00:20:42.824591",
          "1970-01-01T00:20:42.824591",
          "1970-01-01T00:22:42.824591",
          "1970-01-01T00:22:42.824591",
          "1970-01-01T00:22:42.824591",
          "1970-01-01T00:56:08.473774",
          "1970-01-01T00:56:08.473774",
          "1970-01-01T00:58:08.473774",
          "1970-01-01T00:58:08.473774",
          "1970-01-01T00:58:08.473774",
          "1970-01-01T01:31:34.122956",
          "1970-01-01T01:31:34.122956",
          "1970-01-01T01:33:34.122956",
          "1970-01-01T01:33:34.122956",
          "1970-01-01T01:33:34.122956",
          "1970-01-01T02:06:59.772139",
          "1970-01-01T02:06:59.772139",
          "1970-01-01T02:08:59.772139",
          "1970-01-01T02:08:59.772139",
          "1970-01-01T02:08:59.772139",
          "1970-01-01T02:42:25.421321",
          "1970-01-01T02:42:25.421321",
          "1970-01-01T02:44:25.421321",
          "1970-01-01T02:44:25.421321",
          "1970-01-01T02:44:25.421321",
          "1970-01-01T00:20:42.824591",
          "1970-01-01T00:20:42.824591",
          "1970-01-01T00:22:42.824591",
          "1970-01-01T00:22:42.824591",
          "1970-01-01T00:22:42.824591",
          "1970-01-01T00:56:08.473774",
          "1970-01-01T00:56:08.473774",
          "1970-01-01T00:58:08.473774",
          "1970-01-01T00:58:08.473774",
          "1970-01-01T00:58:08.473774",
          "1970-01-01T01:31:34.122956",
          "1970-01-01T01:31:34.122956",
          "1970-01-01T01:33:34.122956",
          "1970-01-01T01:33:34.122956",
          "1970-01-01T01:33:34.122956",
          "1970-01-01T02:06:59.772139",
          "1970-01-01T02:06:59.772139",
          "1970-01-01T02:08:59.772139",
          "1970-01-01T02:08:59.772139",
          "1970-01-01T02:08:59.772139",
          "1970-01-01T02:42:25.421321",
          "1970-01-01T02:42:25.421321",
          "1970-01-01T02:44:25.421321",
          "1970-01-01T02:44:25.421321",
          "1970-01-01T02:44:25.421321"
         ],
         "y": [
          "installer01",
          "installer01",
          "installer01",
          "installer01",
          null,
          "installer01",
          "installer01",
          "installer01",
          "installer01",
          null,
          "installer01",
          "installer01",
          "installer01",
          "installer01",
          null,
          "installer01",
          "installer01",
          "installer01",
          "installer01",
          null,
          "installer01",
          "installer01",
          "installer01",
          "installer01",
          null,
          "to_site",
          "to_site",
          "to_site",
          "to_site",
          null,
          "to_site",
          "to_site",
          "to_site",
          "to_site",
          null,
          "to_site",
          "to_site",
          "to_site",
          "to_site",
          null,
          "to_site",
          "to_site",
          "to_site",
          "to_site",
          null,
          "to_site",
          "to_site",
          "to_site",
          "to_site",
          null
         ]
        },
        {
         "connectgaps": false,
         "hoverinfo": "y+name",
         "line": {
          "color": "rgb(102,31,239)",
          "width": 10
         },
         "mode": "lines",
         "name": "sailing to site",
         "type": "scatter",
         "x": [
          "1970-01-01T00:00:00",
          "1970-01-01T00:00:00",
          "1970-01-01T00:15:42.824591",
          "1970-01-01T00:15:42.824591",
          "1970-01-01T00:15:42.824591"
         ],
         "y": [
          "installer01",
          "installer01",
          "installer01",
          "installer01",
          null
         ]
        },
        {
         "connectgaps": false,
         "hoverinfo": "y+name",
         "line": {
          "color": "rgb(125,54,6)",
          "width": 10
         },
         "mode": "lines",
         "name": "loading Cargo_1",
         "type": "scatter",
         "x": [
          "1970-01-01T00:00:00",
          "1970-01-01T00:00:00",
          "1970-01-01T00:02:00",
          "1970-01-01T00:02:00",
          "1970-01-01T00:02:00",
          "1970-01-01T00:35:25.649183",
          "1970-01-01T00:35:25.649183",
          "1970-01-01T00:37:25.649183",
          "1970-01-01T00:37:25.649183",
          "1970-01-01T00:37:25.649183",
          "1970-01-01T01:10:51.298365",
          "1970-01-01T01:10:51.298365",
          "1970-01-01T01:12:51.298365",
          "1970-01-01T01:12:51.298365",
          "1970-01-01T01:12:51.298365",
          "1970-01-01T01:46:16.947548",
          "1970-01-01T01:46:16.947548",
          "1970-01-01T01:48:16.947548",
          "1970-01-01T01:48:16.947548",
          "1970-01-01T01:48:16.947548",
          "1970-01-01T02:21:42.596730",
          "1970-01-01T02:21:42.596730",
          "1970-01-01T02:23:42.596730",
          "1970-01-01T02:23:42.596730",
          "1970-01-01T02:23:42.596730",
          "1970-01-01T00:00:00",
          "1970-01-01T00:00:00",
          "1970-01-01T00:02:00",
          "1970-01-01T00:02:00",
          "1970-01-01T00:02:00",
          "1970-01-01T00:35:25.649183",
          "1970-01-01T00:35:25.649183",
          "1970-01-01T00:37:25.649183",
          "1970-01-01T00:37:25.649183",
          "1970-01-01T00:37:25.649183",
          "1970-01-01T01:10:51.298365",
          "1970-01-01T01:10:51.298365",
          "1970-01-01T01:12:51.298365",
          "1970-01-01T01:12:51.298365",
          "1970-01-01T01:12:51.298365",
          "1970-01-01T01:46:16.947548",
          "1970-01-01T01:46:16.947548",
          "1970-01-01T01:48:16.947548",
          "1970-01-01T01:48:16.947548",
          "1970-01-01T01:48:16.947548",
          "1970-01-01T02:21:42.596730",
          "1970-01-01T02:21:42.596730",
          "1970-01-01T02:23:42.596730",
          "1970-01-01T02:23:42.596730",
          "1970-01-01T02:23:42.596730"
         ],
         "y": [
          "transporter01",
          "transporter01",
          "transporter01",
          "transporter01",
          null,
          "transporter01",
          "transporter01",
          "transporter01",
          "transporter01",
          null,
          "transporter01",
          "transporter01",
          "transporter01",
          "transporter01",
          null,
          "transporter01",
          "transporter01",
          "transporter01",
          "transporter01",
          null,
          "transporter01",
          "transporter01",
          "transporter01",
          "transporter01",
          null,
          "from_site",
          "from_site",
          "from_site",
          "from_site",
          null,
          "from_site",
          "from_site",
          "from_site",
          "from_site",
          null,
          "from_site",
          "from_site",
          "from_site",
          "from_site",
          null,
          "from_site",
          "from_site",
          "from_site",
          "from_site",
          null,
          "from_site",
          "from_site",
          "from_site",
          "from_site",
          null
         ]
        },
        {
         "connectgaps": false,
         "hoverinfo": "y+name",
         "line": {
          "color": "rgb(148,77,29)",
          "width": 10
         },
         "mode": "lines",
         "name": "unload Cargo_1",
         "type": "scatter",
         "x": [
          "1970-01-01T00:20:42.824591",
          "1970-01-01T00:20:42.824591",
          "1970-01-01T00:22:42.824591",
          "1970-01-01T00:22:42.824591",
          "1970-01-01T00:22:42.824591",
          "1970-01-01T00:56:08.473774",
          "1970-01-01T00:56:08.473774",
          "1970-01-01T00:58:08.473774",
          "1970-01-01T00:58:08.473774",
          "1970-01-01T00:58:08.473774",
          "1970-01-01T01:31:34.122956",
          "1970-01-01T01:31:34.122956",
          "1970-01-01T01:33:34.122956",
          "1970-01-01T01:33:34.122956",
          "1970-01-01T01:33:34.122956",
          "1970-01-01T02:06:59.772139",
          "1970-01-01T02:06:59.772139",
          "1970-01-01T02:08:59.772139",
          "1970-01-01T02:08:59.772139",
          "1970-01-01T02:08:59.772139",
          "1970-01-01T02:42:25.421321",
          "1970-01-01T02:42:25.421321",
          "1970-01-01T02:44:25.421321",
          "1970-01-01T02:44:25.421321",
          "1970-01-01T02:44:25.421321",
          "1970-01-01T00:20:42.824591",
          "1970-01-01T00:20:42.824591",
          "1970-01-01T00:22:42.824591",
          "1970-01-01T00:22:42.824591",
          "1970-01-01T00:22:42.824591",
          "1970-01-01T00:56:08.473774",
          "1970-01-01T00:56:08.473774",
          "1970-01-01T00:58:08.473774",
          "1970-01-01T00:58:08.473774",
          "1970-01-01T00:58:08.473774",
          "1970-01-01T01:31:34.122956",
          "1970-01-01T01:31:34.122956",
          "1970-01-01T01:33:34.122956",
          "1970-01-01T01:33:34.122956",
          "1970-01-01T01:33:34.122956",
          "1970-01-01T02:06:59.772139",
          "1970-01-01T02:06:59.772139",
          "1970-01-01T02:08:59.772139",
          "1970-01-01T02:08:59.772139",
          "1970-01-01T02:08:59.772139",
          "1970-01-01T02:42:25.421321",
          "1970-01-01T02:42:25.421321",
          "1970-01-01T02:44:25.421321",
          "1970-01-01T02:44:25.421321",
          "1970-01-01T02:44:25.421321"
         ],
         "y": [
          "installer01",
          "installer01",
          "installer01",
          "installer01",
          null,
          "installer01",
          "installer01",
          "installer01",
          "installer01",
          null,
          "installer01",
          "installer01",
          "installer01",
          "installer01",
          null,
          "installer01",
          "installer01",
          "installer01",
          "installer01",
          null,
          "installer01",
          "installer01",
          "installer01",
          "installer01",
          null,
          "to_site",
          "to_site",
          "to_site",
          "to_site",
          null,
          "to_site",
          "to_site",
          "to_site",
          "to_site",
          null,
          "to_site",
          "to_site",
          "to_site",
          "to_site",
          null,
          "to_site",
          "to_site",
          "to_site",
          "to_site",
          null,
          "to_site",
          "to_site",
          "to_site",
          "to_site",
          null
         ]
        },
        {
         "connectgaps": false,
         "hoverinfo": "name",
         "line": {
          "color": "Red",
          "width": 5
         },
         "mode": "markers",
         "name": "critical_path",
         "showlegend": true,
         "type": "scatter",
         "x": [
          "1970-01-01T00:00:00"
         ],
         "y": [
          "from_site"
         ]
        },
        {
         "connectgaps": false,
         "hoverinfo": "name",
         "line": {
          "color": "Red",
          "width": 5
         },
         "mode": "markers",
         "name": "critical_path",
         "showlegend": false,
         "type": "scatter",
         "x": [
          "1970-01-01T00:00:00"
         ],
         "y": [
          "installer01"
         ]
        },
        {
         "connectgaps": false,
         "hoverinfo": "name",
         "line": {
          "color": "Red",
          "width": 5
         },
         "mode": "markers",
         "name": "critical_path",
         "showlegend": false,
         "type": "scatter",
         "x": [
          "1970-01-01T00:00:00"
         ],
         "y": [
          "transporter01"
         ]
        },
        {
         "connectgaps": false,
         "hoverinfo": "name",
         "line": {
          "color": "Red",
          "width": 5
         },
         "mode": "markers",
         "name": "critical_path",
         "showlegend": false,
         "type": "scatter",
         "x": [
          "1970-01-01T00:00:00"
         ],
         "y": [
          "transporter01"
         ]
        },
        {
         "connectgaps": false,
         "hoverinfo": "name",
         "line": {
          "color": "Red",
          "width": 5
         },
         "mode": "markers",
         "name": "critical_path",
         "showlegend": false,
         "type": "scatter",
         "x": [
          "1970-01-01T00:02:00"
         ],
         "y": [
          "transporter01"
         ]
        },
        {
         "connectgaps": false,
         "hoverinfo": "name",
         "line": {
          "color": "Red",
          "width": 5
         },
         "mode": "markers",
         "name": "critical_path",
         "showlegend": false,
         "type": "scatter",
         "x": [
          "1970-01-01T00:15:42.824591"
         ],
         "y": [
          "installer01"
         ]
        },
        {
         "connectgaps": false,
         "hoverinfo": "name",
         "line": {
          "color": "Red",
          "width": 5
         },
         "mode": "markers",
         "name": "critical_path",
         "showlegend": false,
         "type": "scatter",
         "x": [
          "1970-01-01T00:16:12.824591"
         ],
         "y": [
          "installer01"
         ]
        },
        {
         "connectgaps": false,
         "hoverinfo": "name",
         "line": {
          "color": "Red",
          "width": 5
         },
         "mode": "markers",
         "name": "critical_path",
         "showlegend": false,
         "type": "scatter",
         "x": [
          "1970-01-01T00:17:42.824591"
         ],
         "y": [
          "installer01"
         ]
        },
        {
         "connectgaps": false,
         "hoverinfo": "name",
         "line": {
          "color": "Red",
          "width": 5
         },
         "mode": "markers",
         "name": "critical_path",
         "showlegend": false,
         "type": "scatter",
         "x": [
          "1970-01-01T00:17:42.824591"
         ],
         "y": [
          "transporter01"
         ]
        },
        {
         "connectgaps": false,
         "hoverinfo": "name",
         "line": {
          "color": "Red",
          "width": 5
         },
         "mode": "markers",
         "name": "critical_path",
         "showlegend": false,
         "type": "scatter",
         "x": [
          "1970-01-01T00:19:42.824591"
         ],
         "y": [
          "installer01"
         ]
        },
        {
         "connectgaps": false,
         "hoverinfo": "name",
         "line": {
          "color": "Red",
          "width": 5
         },
         "mode": "markers",
         "name": "critical_path",
         "showlegend": false,
         "type": "scatter",
         "x": [
          "1970-01-01T00:20:42.824591"
         ],
         "y": [
          "installer01"
         ]
        },
        {
         "connectgaps": false,
         "hoverinfo": "name",
         "line": {
          "color": "Red",
          "width": 5
         },
         "mode": "markers",
         "name": "critical_path",
         "showlegend": false,
         "type": "scatter",
         "x": [
          "1970-01-01T00:20:42.824591"
         ],
         "y": [
          "to_site"
         ]
        },
        {
         "connectgaps": false,
         "hoverinfo": "name",
         "line": {
          "color": "Red",
          "width": 5
         },
         "mode": "markers",
         "name": "critical_path",
         "showlegend": false,
         "type": "scatter",
         "x": [
          "1970-01-01T00:22:42.824591"
         ],
         "y": [
          "installer01"
         ]
        },
        {
         "connectgaps": false,
         "hoverinfo": "name",
         "line": {
          "color": "Red",
          "width": 5
         },
         "mode": "markers",
         "name": "critical_path",
         "showlegend": false,
         "type": "scatter",
         "x": [
          "1970-01-01T00:23:12.824591"
         ],
         "y": [
          "installer01"
         ]
        },
        {
         "connectgaps": false,
         "hoverinfo": "name",
         "line": {
          "color": "Red",
          "width": 5
         },
         "mode": "markers",
         "name": "critical_path",
         "showlegend": false,
         "type": "scatter",
         "x": [
          "1970-01-01T00:55:08.473774"
         ],
         "y": [
          "installer01"
         ]
        },
        {
         "connectgaps": false,
         "hoverinfo": "name",
         "line": {
          "color": "Red",
          "width": 5
         },
         "mode": "markers",
         "name": "critical_path",
         "showlegend": false,
         "type": "scatter",
         "x": [
          "1970-01-01T00:56:08.473774"
         ],
         "y": [
          "installer01"
         ]
        },
        {
         "connectgaps": false,
         "hoverinfo": "name",
         "line": {
          "color": "Red",
          "width": 5
         },
         "mode": "markers",
         "name": "critical_path",
         "showlegend": false,
         "type": "scatter",
         "x": [
          "1970-01-01T00:56:08.473774"
         ],
         "y": [
          "to_site"
         ]
        },
        {
         "connectgaps": false,
         "hoverinfo": "name",
         "line": {
          "color": "Red",
          "width": 5
         },
         "mode": "markers",
         "name": "critical_path",
         "showlegend": false,
         "type": "scatter",
         "x": [
          "1970-01-01T00:58:08.473774"
         ],
         "y": [
          "installer01"
         ]
        },
        {
         "connectgaps": false,
         "hoverinfo": "name",
         "line": {
          "color": "Red",
          "width": 5
         },
         "mode": "markers",
         "name": "critical_path",
         "showlegend": false,
         "type": "scatter",
         "x": [
          "1970-01-01T00:58:38.473774"
         ],
         "y": [
          "installer01"
         ]
        },
        {
         "connectgaps": false,
         "hoverinfo": "name",
         "line": {
          "color": "Red",
          "width": 5
         },
         "mode": "markers",
         "name": "critical_path",
         "showlegend": false,
         "type": "scatter",
         "x": [
          "1970-01-01T01:30:34.122956"
         ],
         "y": [
          "installer01"
         ]
        },
        {
         "connectgaps": false,
         "hoverinfo": "name",
         "line": {
          "color": "Red",
          "width": 5
         },
         "mode": "markers",
         "name": "critical_path",
         "showlegend": false,
         "type": "scatter",
         "x": [
          "1970-01-01T01:31:34.122956"
         ],
         "y": [
          "installer01"
         ]
        },
        {
         "connectgaps": false,
         "hoverinfo": "name",
         "line": {
          "color": "Red",
          "width": 5
         },
         "mode": "markers",
         "name": "critical_path",
         "showlegend": false,
         "type": "scatter",
         "x": [
          "1970-01-01T01:31:34.122956"
         ],
         "y": [
          "to_site"
         ]
        },
        {
         "connectgaps": false,
         "hoverinfo": "name",
         "line": {
          "color": "Red",
          "width": 5
         },
         "mode": "markers",
         "name": "critical_path",
         "showlegend": false,
         "type": "scatter",
         "x": [
          "1970-01-01T01:33:34.122956"
         ],
         "y": [
          "installer01"
         ]
        },
        {
         "connectgaps": false,
         "hoverinfo": "name",
         "line": {
          "color": "Red",
          "width": 5
         },
         "mode": "markers",
         "name": "critical_path",
         "showlegend": false,
         "type": "scatter",
         "x": [
          "1970-01-01T01:34:04.122956"
         ],
         "y": [
          "installer01"
         ]
        },
        {
         "connectgaps": false,
         "hoverinfo": "name",
         "line": {
          "color": "Red",
          "width": 5
         },
         "mode": "markers",
         "name": "critical_path",
         "showlegend": false,
         "type": "scatter",
         "x": [
          "1970-01-01T02:05:59.772139"
         ],
         "y": [
          "installer01"
         ]
        },
        {
         "connectgaps": false,
         "hoverinfo": "name",
         "line": {
          "color": "Red",
          "width": 5
         },
         "mode": "markers",
         "name": "critical_path",
         "showlegend": false,
         "type": "scatter",
         "x": [
          "1970-01-01T02:06:59.772139"
         ],
         "y": [
          "installer01"
         ]
        },
        {
         "connectgaps": false,
         "hoverinfo": "name",
         "line": {
          "color": "Red",
          "width": 5
         },
         "mode": "markers",
         "name": "critical_path",
         "showlegend": false,
         "type": "scatter",
         "x": [
          "1970-01-01T02:06:59.772139"
         ],
         "y": [
          "to_site"
         ]
        },
        {
         "connectgaps": false,
         "hoverinfo": "name",
         "line": {
          "color": "Red",
          "width": 5
         },
         "mode": "markers",
         "name": "critical_path",
         "showlegend": false,
         "type": "scatter",
         "x": [
          "1970-01-01T02:08:59.772139"
         ],
         "y": [
          "installer01"
         ]
        },
        {
         "connectgaps": false,
         "hoverinfo": "name",
         "line": {
          "color": "Red",
          "width": 5
         },
         "mode": "markers",
         "name": "critical_path",
         "showlegend": false,
         "type": "scatter",
         "x": [
          "1970-01-01T02:09:29.772139"
         ],
         "y": [
          "installer01"
         ]
        },
        {
         "connectgaps": false,
         "hoverinfo": "name",
         "line": {
          "color": "Red",
          "width": 5
         },
         "mode": "markers",
         "name": "critical_path",
         "showlegend": false,
         "type": "scatter",
         "x": [
          "1970-01-01T02:41:25.421321"
         ],
         "y": [
          "installer01"
         ]
        },
        {
         "connectgaps": false,
         "hoverinfo": "name",
         "line": {
          "color": "Red",
          "width": 5
         },
         "mode": "markers",
         "name": "critical_path",
         "showlegend": false,
         "type": "scatter",
         "x": [
          "1970-01-01T02:42:25.421321"
         ],
         "y": [
          "installer01"
         ]
        },
        {
         "connectgaps": false,
         "hoverinfo": "name",
         "line": {
          "color": "Red",
          "width": 5
         },
         "mode": "markers",
         "name": "critical_path",
         "showlegend": false,
         "type": "scatter",
         "x": [
          "1970-01-01T02:42:25.421321"
         ],
         "y": [
          "to_site"
         ]
        }
       ],
       "layout": {
        "hovermode": "closest",
        "legend": {
         "orientation": "h",
         "x": 0,
         "y": -0.2
        },
        "template": {
         "data": {
          "bar": [
           {
            "error_x": {
             "color": "#2a3f5f"
            },
            "error_y": {
             "color": "#2a3f5f"
            },
            "marker": {
             "line": {
              "color": "#E5ECF6",
              "width": 0.5
             },
             "pattern": {
              "fillmode": "overlay",
              "size": 10,
              "solidity": 0.2
             }
            },
            "type": "bar"
           }
          ],
          "barpolar": [
           {
            "marker": {
             "line": {
              "color": "#E5ECF6",
              "width": 0.5
             },
             "pattern": {
              "fillmode": "overlay",
              "size": 10,
              "solidity": 0.2
             }
            },
            "type": "barpolar"
           }
          ],
          "carpet": [
           {
            "aaxis": {
             "endlinecolor": "#2a3f5f",
             "gridcolor": "white",
             "linecolor": "white",
             "minorgridcolor": "white",
             "startlinecolor": "#2a3f5f"
            },
            "baxis": {
             "endlinecolor": "#2a3f5f",
             "gridcolor": "white",
             "linecolor": "white",
             "minorgridcolor": "white",
             "startlinecolor": "#2a3f5f"
            },
            "type": "carpet"
           }
          ],
          "choropleth": [
           {
            "colorbar": {
             "outlinewidth": 0,
             "ticks": ""
            },
            "type": "choropleth"
           }
          ],
          "contour": [
           {
            "colorbar": {
             "outlinewidth": 0,
             "ticks": ""
            },
            "colorscale": [
             [
              0,
              "#0d0887"
             ],
             [
              0.1111111111111111,
              "#46039f"
             ],
             [
              0.2222222222222222,
              "#7201a8"
             ],
             [
              0.3333333333333333,
              "#9c179e"
             ],
             [
              0.4444444444444444,
              "#bd3786"
             ],
             [
              0.5555555555555556,
              "#d8576b"
             ],
             [
              0.6666666666666666,
              "#ed7953"
             ],
             [
              0.7777777777777778,
              "#fb9f3a"
             ],
             [
              0.8888888888888888,
              "#fdca26"
             ],
             [
              1,
              "#f0f921"
             ]
            ],
            "type": "contour"
           }
          ],
          "contourcarpet": [
           {
            "colorbar": {
             "outlinewidth": 0,
             "ticks": ""
            },
            "type": "contourcarpet"
           }
          ],
          "heatmap": [
           {
            "colorbar": {
             "outlinewidth": 0,
             "ticks": ""
            },
            "colorscale": [
             [
              0,
              "#0d0887"
             ],
             [
              0.1111111111111111,
              "#46039f"
             ],
             [
              0.2222222222222222,
              "#7201a8"
             ],
             [
              0.3333333333333333,
              "#9c179e"
             ],
             [
              0.4444444444444444,
              "#bd3786"
             ],
             [
              0.5555555555555556,
              "#d8576b"
             ],
             [
              0.6666666666666666,
              "#ed7953"
             ],
             [
              0.7777777777777778,
              "#fb9f3a"
             ],
             [
              0.8888888888888888,
              "#fdca26"
             ],
             [
              1,
              "#f0f921"
             ]
            ],
            "type": "heatmap"
           }
          ],
          "heatmapgl": [
           {
            "colorbar": {
             "outlinewidth": 0,
             "ticks": ""
            },
            "colorscale": [
             [
              0,
              "#0d0887"
             ],
             [
              0.1111111111111111,
              "#46039f"
             ],
             [
              0.2222222222222222,
              "#7201a8"
             ],
             [
              0.3333333333333333,
              "#9c179e"
             ],
             [
              0.4444444444444444,
              "#bd3786"
             ],
             [
              0.5555555555555556,
              "#d8576b"
             ],
             [
              0.6666666666666666,
              "#ed7953"
             ],
             [
              0.7777777777777778,
              "#fb9f3a"
             ],
             [
              0.8888888888888888,
              "#fdca26"
             ],
             [
              1,
              "#f0f921"
             ]
            ],
            "type": "heatmapgl"
           }
          ],
          "histogram": [
           {
            "marker": {
             "pattern": {
              "fillmode": "overlay",
              "size": 10,
              "solidity": 0.2
             }
            },
            "type": "histogram"
           }
          ],
          "histogram2d": [
           {
            "colorbar": {
             "outlinewidth": 0,
             "ticks": ""
            },
            "colorscale": [
             [
              0,
              "#0d0887"
             ],
             [
              0.1111111111111111,
              "#46039f"
             ],
             [
              0.2222222222222222,
              "#7201a8"
             ],
             [
              0.3333333333333333,
              "#9c179e"
             ],
             [
              0.4444444444444444,
              "#bd3786"
             ],
             [
              0.5555555555555556,
              "#d8576b"
             ],
             [
              0.6666666666666666,
              "#ed7953"
             ],
             [
              0.7777777777777778,
              "#fb9f3a"
             ],
             [
              0.8888888888888888,
              "#fdca26"
             ],
             [
              1,
              "#f0f921"
             ]
            ],
            "type": "histogram2d"
           }
          ],
          "histogram2dcontour": [
           {
            "colorbar": {
             "outlinewidth": 0,
             "ticks": ""
            },
            "colorscale": [
             [
              0,
              "#0d0887"
             ],
             [
              0.1111111111111111,
              "#46039f"
             ],
             [
              0.2222222222222222,
              "#7201a8"
             ],
             [
              0.3333333333333333,
              "#9c179e"
             ],
             [
              0.4444444444444444,
              "#bd3786"
             ],
             [
              0.5555555555555556,
              "#d8576b"
             ],
             [
              0.6666666666666666,
              "#ed7953"
             ],
             [
              0.7777777777777778,
              "#fb9f3a"
             ],
             [
              0.8888888888888888,
              "#fdca26"
             ],
             [
              1,
              "#f0f921"
             ]
            ],
            "type": "histogram2dcontour"
           }
          ],
          "mesh3d": [
           {
            "colorbar": {
             "outlinewidth": 0,
             "ticks": ""
            },
            "type": "mesh3d"
           }
          ],
          "parcoords": [
           {
            "line": {
             "colorbar": {
              "outlinewidth": 0,
              "ticks": ""
             }
            },
            "type": "parcoords"
           }
          ],
          "pie": [
           {
            "automargin": true,
            "type": "pie"
           }
          ],
          "scatter": [
           {
            "fillpattern": {
             "fillmode": "overlay",
             "size": 10,
             "solidity": 0.2
            },
            "type": "scatter"
           }
          ],
          "scatter3d": [
           {
            "line": {
             "colorbar": {
              "outlinewidth": 0,
              "ticks": ""
             }
            },
            "marker": {
             "colorbar": {
              "outlinewidth": 0,
              "ticks": ""
             }
            },
            "type": "scatter3d"
           }
          ],
          "scattercarpet": [
           {
            "marker": {
             "colorbar": {
              "outlinewidth": 0,
              "ticks": ""
             }
            },
            "type": "scattercarpet"
           }
          ],
          "scattergeo": [
           {
            "marker": {
             "colorbar": {
              "outlinewidth": 0,
              "ticks": ""
             }
            },
            "type": "scattergeo"
           }
          ],
          "scattergl": [
           {
            "marker": {
             "colorbar": {
              "outlinewidth": 0,
              "ticks": ""
             }
            },
            "type": "scattergl"
           }
          ],
          "scattermapbox": [
           {
            "marker": {
             "colorbar": {
              "outlinewidth": 0,
              "ticks": ""
             }
            },
            "type": "scattermapbox"
           }
          ],
          "scatterpolar": [
           {
            "marker": {
             "colorbar": {
              "outlinewidth": 0,
              "ticks": ""
             }
            },
            "type": "scatterpolar"
           }
          ],
          "scatterpolargl": [
           {
            "marker": {
             "colorbar": {
              "outlinewidth": 0,
              "ticks": ""
             }
            },
            "type": "scatterpolargl"
           }
          ],
          "scatterternary": [
           {
            "marker": {
             "colorbar": {
              "outlinewidth": 0,
              "ticks": ""
             }
            },
            "type": "scatterternary"
           }
          ],
          "surface": [
           {
            "colorbar": {
             "outlinewidth": 0,
             "ticks": ""
            },
            "colorscale": [
             [
              0,
              "#0d0887"
             ],
             [
              0.1111111111111111,
              "#46039f"
             ],
             [
              0.2222222222222222,
              "#7201a8"
             ],
             [
              0.3333333333333333,
              "#9c179e"
             ],
             [
              0.4444444444444444,
              "#bd3786"
             ],
             [
              0.5555555555555556,
              "#d8576b"
             ],
             [
              0.6666666666666666,
              "#ed7953"
             ],
             [
              0.7777777777777778,
              "#fb9f3a"
             ],
             [
              0.8888888888888888,
              "#fdca26"
             ],
             [
              1,
              "#f0f921"
             ]
            ],
            "type": "surface"
           }
          ],
          "table": [
           {
            "cells": {
             "fill": {
              "color": "#EBF0F8"
             },
             "line": {
              "color": "white"
             }
            },
            "header": {
             "fill": {
              "color": "#C8D4E3"
             },
             "line": {
              "color": "white"
             }
            },
            "type": "table"
           }
          ]
         },
         "layout": {
          "annotationdefaults": {
           "arrowcolor": "#2a3f5f",
           "arrowhead": 0,
           "arrowwidth": 1
          },
          "autotypenumbers": "strict",
          "coloraxis": {
           "colorbar": {
            "outlinewidth": 0,
            "ticks": ""
           }
          },
          "colorscale": {
           "diverging": [
            [
             0,
             "#8e0152"
            ],
            [
             0.1,
             "#c51b7d"
            ],
            [
             0.2,
             "#de77ae"
            ],
            [
             0.3,
             "#f1b6da"
            ],
            [
             0.4,
             "#fde0ef"
            ],
            [
             0.5,
             "#f7f7f7"
            ],
            [
             0.6,
             "#e6f5d0"
            ],
            [
             0.7,
             "#b8e186"
            ],
            [
             0.8,
             "#7fbc41"
            ],
            [
             0.9,
             "#4d9221"
            ],
            [
             1,
             "#276419"
            ]
           ],
           "sequential": [
            [
             0,
             "#0d0887"
            ],
            [
             0.1111111111111111,
             "#46039f"
            ],
            [
             0.2222222222222222,
             "#7201a8"
            ],
            [
             0.3333333333333333,
             "#9c179e"
            ],
            [
             0.4444444444444444,
             "#bd3786"
            ],
            [
             0.5555555555555556,
             "#d8576b"
            ],
            [
             0.6666666666666666,
             "#ed7953"
            ],
            [
             0.7777777777777778,
             "#fb9f3a"
            ],
            [
             0.8888888888888888,
             "#fdca26"
            ],
            [
             1,
             "#f0f921"
            ]
           ],
           "sequentialminus": [
            [
             0,
             "#0d0887"
            ],
            [
             0.1111111111111111,
             "#46039f"
            ],
            [
             0.2222222222222222,
             "#7201a8"
            ],
            [
             0.3333333333333333,
             "#9c179e"
            ],
            [
             0.4444444444444444,
             "#bd3786"
            ],
            [
             0.5555555555555556,
             "#d8576b"
            ],
            [
             0.6666666666666666,
             "#ed7953"
            ],
            [
             0.7777777777777778,
             "#fb9f3a"
            ],
            [
             0.8888888888888888,
             "#fdca26"
            ],
            [
             1,
             "#f0f921"
            ]
           ]
          },
          "colorway": [
           "#636efa",
           "#EF553B",
           "#00cc96",
           "#ab63fa",
           "#FFA15A",
           "#19d3f3",
           "#FF6692",
           "#B6E880",
           "#FF97FF",
           "#FECB52"
          ],
          "font": {
           "color": "#2a3f5f"
          },
          "geo": {
           "bgcolor": "white",
           "lakecolor": "white",
           "landcolor": "#E5ECF6",
           "showlakes": true,
           "showland": true,
           "subunitcolor": "white"
          },
          "hoverlabel": {
           "align": "left"
          },
          "hovermode": "closest",
          "mapbox": {
           "style": "light"
          },
          "paper_bgcolor": "white",
          "plot_bgcolor": "#E5ECF6",
          "polar": {
           "angularaxis": {
            "gridcolor": "white",
            "linecolor": "white",
            "ticks": ""
           },
           "bgcolor": "#E5ECF6",
           "radialaxis": {
            "gridcolor": "white",
            "linecolor": "white",
            "ticks": ""
           }
          },
          "scene": {
           "xaxis": {
            "backgroundcolor": "#E5ECF6",
            "gridcolor": "white",
            "gridwidth": 2,
            "linecolor": "white",
            "showbackground": true,
            "ticks": "",
            "zerolinecolor": "white"
           },
           "yaxis": {
            "backgroundcolor": "#E5ECF6",
            "gridcolor": "white",
            "gridwidth": 2,
            "linecolor": "white",
            "showbackground": true,
            "ticks": "",
            "zerolinecolor": "white"
           },
           "zaxis": {
            "backgroundcolor": "#E5ECF6",
            "gridcolor": "white",
            "gridwidth": 2,
            "linecolor": "white",
            "showbackground": true,
            "ticks": "",
            "zerolinecolor": "white"
           }
          },
          "shapedefaults": {
           "line": {
            "color": "#2a3f5f"
           }
          },
          "ternary": {
           "aaxis": {
            "gridcolor": "white",
            "linecolor": "white",
            "ticks": ""
           },
           "baxis": {
            "gridcolor": "white",
            "linecolor": "white",
            "ticks": ""
           },
           "bgcolor": "#E5ECF6",
           "caxis": {
            "gridcolor": "white",
            "linecolor": "white",
            "ticks": ""
           }
          },
          "title": {
           "x": 0.05
          },
          "xaxis": {
           "automargin": true,
           "gridcolor": "white",
           "linecolor": "white",
           "ticks": "",
           "title": {
            "standoff": 15
           },
           "zerolinecolor": "white",
           "zerolinewidth": 2
          },
          "yaxis": {
           "automargin": true,
           "gridcolor": "white",
           "linecolor": "white",
           "ticks": "",
           "title": {
            "standoff": 15
           },
           "zerolinecolor": "white",
           "zerolinewidth": 2
          }
         }
        },
        "title": {
         "text": "GANTT Chart"
        },
        "xaxis": {
         "range": [
          "1970-01-01T00:00:00",
          "1970-01-01T02:44:25.421321"
         ],
         "title": {
          "font": {
           "color": "#7f7f7f",
           "family": "Courier New, monospace",
           "size": 18
          },
          "text": "Time"
         }
        },
        "yaxis": {
         "title": {
          "font": {
           "color": "#7f7f7f",
           "family": "Courier New, monospace",
           "size": 18
          },
          "text": "Activities"
         }
        }
       }
      },
      "text/html": [
       "<div>                            <div id=\"c31ca673-ba6c-41ab-a85d-a4d4b92e25c2\" class=\"plotly-graph-div\" style=\"height:525px; width:100%;\"></div>            <script type=\"text/javascript\">                require([\"plotly\"], function(Plotly) {                    window.PLOTLYENV=window.PLOTLYENV || {};                                    if (document.getElementById(\"c31ca673-ba6c-41ab-a85d-a4d4b92e25c2\")) {                    Plotly.newPlot(                        \"c31ca673-ba6c-41ab-a85d-a4d4b92e25c2\",                        [{\"connectgaps\":false,\"hoverinfo\":\"y+name\",\"line\":{\"color\":\"rgb(174,103,55)\",\"width\":10},\"mode\":\"lines\",\"name\":\"sailing empty\",\"x\":[\"1970-01-01T00:00:00\",\"1970-01-01T00:00:00\",\"1970-01-01T00:00:00\",\"1970-01-01T00:00:00\",\"1970-01-01T00:00:00\",\"1970-01-01T00:19:42.824591\",\"1970-01-01T00:19:42.824591\",\"1970-01-01T00:35:25.649183\",\"1970-01-01T00:35:25.649183\",\"1970-01-01T00:35:25.649183\",\"1970-01-01T00:55:08.473774\",\"1970-01-01T00:55:08.473774\",\"1970-01-01T01:10:51.298365\",\"1970-01-01T01:10:51.298365\",\"1970-01-01T01:10:51.298365\",\"1970-01-01T01:30:34.122956\",\"1970-01-01T01:30:34.122956\",\"1970-01-01T01:46:16.947548\",\"1970-01-01T01:46:16.947548\",\"1970-01-01T01:46:16.947548\",\"1970-01-01T02:05:59.772139\",\"1970-01-01T02:05:59.772139\",\"1970-01-01T02:21:42.596730\",\"1970-01-01T02:21:42.596730\",\"1970-01-01T02:21:42.596730\"],\"y\":[\"transporter01\",\"transporter01\",\"transporter01\",\"transporter01\",null,\"transporter01\",\"transporter01\",\"transporter01\",\"transporter01\",null,\"transporter01\",\"transporter01\",\"transporter01\",\"transporter01\",null,\"transporter01\",\"transporter01\",\"transporter01\",\"transporter01\",null,\"transporter01\",\"transporter01\",\"transporter01\",\"transporter01\",null],\"type\":\"scatter\"},{\"connectgaps\":false,\"hoverinfo\":\"y+name\",\"line\":{\"color\":\"rgb(197,126,78)\",\"width\":10},\"mode\":\"lines\",\"name\":\"sailing filled\",\"x\":[\"1970-01-01T00:02:00\",\"1970-01-01T00:02:00\",\"1970-01-01T00:17:42.824591\",\"1970-01-01T00:17:42.824591\",\"1970-01-01T00:17:42.824591\",\"1970-01-01T00:37:25.649183\",\"1970-01-01T00:37:25.649183\",\"1970-01-01T00:53:08.473774\",\"1970-01-01T00:53:08.473774\",\"1970-01-01T00:53:08.473774\",\"1970-01-01T01:12:51.298365\",\"1970-01-01T01:12:51.298365\",\"1970-01-01T01:28:34.122956\",\"1970-01-01T01:28:34.122956\",\"1970-01-01T01:28:34.122956\",\"1970-01-01T01:48:16.947548\",\"1970-01-01T01:48:16.947548\",\"1970-01-01T02:03:59.772139\",\"1970-01-01T02:03:59.772139\",\"1970-01-01T02:03:59.772139\",\"1970-01-01T02:23:42.596730\",\"1970-01-01T02:23:42.596730\",\"1970-01-01T02:39:25.421321\",\"1970-01-01T02:39:25.421321\",\"1970-01-01T02:39:25.421321\"],\"y\":[\"transporter01\",\"transporter01\",\"transporter01\",\"transporter01\",null,\"transporter01\",\"transporter01\",\"transporter01\",\"transporter01\",null,\"transporter01\",\"transporter01\",\"transporter01\",\"transporter01\",null,\"transporter01\",\"transporter01\",\"transporter01\",\"transporter01\",null,\"transporter01\",\"transporter01\",\"transporter01\",\"transporter01\",null],\"type\":\"scatter\"},{\"connectgaps\":false,\"hoverinfo\":\"y+name\",\"line\":{\"color\":\"rgb(220,149,101)\",\"width\":10},\"mode\":\"lines\",\"name\":\"loading Cargo_1\",\"x\":[\"1970-01-01T00:00:00\",\"1970-01-01T00:00:00\",\"1970-01-01T00:02:00\",\"1970-01-01T00:02:00\",\"1970-01-01T00:02:00\",\"1970-01-01T00:35:25.649183\",\"1970-01-01T00:35:25.649183\",\"1970-01-01T00:37:25.649183\",\"1970-01-01T00:37:25.649183\",\"1970-01-01T00:37:25.649183\",\"1970-01-01T01:10:51.298365\",\"1970-01-01T01:10:51.298365\",\"1970-01-01T01:12:51.298365\",\"1970-01-01T01:12:51.298365\",\"1970-01-01T01:12:51.298365\",\"1970-01-01T01:46:16.947548\",\"1970-01-01T01:46:16.947548\",\"1970-01-01T01:48:16.947548\",\"1970-01-01T01:48:16.947548\",\"1970-01-01T01:48:16.947548\",\"1970-01-01T02:21:42.596730\",\"1970-01-01T02:21:42.596730\",\"1970-01-01T02:23:42.596730\",\"1970-01-01T02:23:42.596730\",\"1970-01-01T02:23:42.596730\",\"1970-01-01T00:00:00\",\"1970-01-01T00:00:00\",\"1970-01-01T00:02:00\",\"1970-01-01T00:02:00\",\"1970-01-01T00:02:00\",\"1970-01-01T00:35:25.649183\",\"1970-01-01T00:35:25.649183\",\"1970-01-01T00:37:25.649183\",\"1970-01-01T00:37:25.649183\",\"1970-01-01T00:37:25.649183\",\"1970-01-01T01:10:51.298365\",\"1970-01-01T01:10:51.298365\",\"1970-01-01T01:12:51.298365\",\"1970-01-01T01:12:51.298365\",\"1970-01-01T01:12:51.298365\",\"1970-01-01T01:46:16.947548\",\"1970-01-01T01:46:16.947548\",\"1970-01-01T01:48:16.947548\",\"1970-01-01T01:48:16.947548\",\"1970-01-01T01:48:16.947548\",\"1970-01-01T02:21:42.596730\",\"1970-01-01T02:21:42.596730\",\"1970-01-01T02:23:42.596730\",\"1970-01-01T02:23:42.596730\",\"1970-01-01T02:23:42.596730\"],\"y\":[\"transporter01\",\"transporter01\",\"transporter01\",\"transporter01\",null,\"transporter01\",\"transporter01\",\"transporter01\",\"transporter01\",null,\"transporter01\",\"transporter01\",\"transporter01\",\"transporter01\",null,\"transporter01\",\"transporter01\",\"transporter01\",\"transporter01\",null,\"transporter01\",\"transporter01\",\"transporter01\",\"transporter01\",null,\"from_site\",\"from_site\",\"from_site\",\"from_site\",null,\"from_site\",\"from_site\",\"from_site\",\"from_site\",null,\"from_site\",\"from_site\",\"from_site\",\"from_site\",null,\"from_site\",\"from_site\",\"from_site\",\"from_site\",null,\"from_site\",\"from_site\",\"from_site\",\"from_site\",null],\"type\":\"scatter\"},{\"connectgaps\":false,\"hoverinfo\":\"y+name\",\"line\":{\"color\":\"rgb(243,172,124)\",\"width\":10},\"mode\":\"lines\",\"name\":\"transfer Cargo_1\",\"x\":[\"1970-01-01T00:17:42.824591\",\"1970-01-01T00:17:42.824591\",\"1970-01-01T00:19:42.824591\",\"1970-01-01T00:19:42.824591\",\"1970-01-01T00:19:42.824591\",\"1970-01-01T00:53:08.473774\",\"1970-01-01T00:53:08.473774\",\"1970-01-01T00:55:08.473774\",\"1970-01-01T00:55:08.473774\",\"1970-01-01T00:55:08.473774\",\"1970-01-01T01:28:34.122956\",\"1970-01-01T01:28:34.122956\",\"1970-01-01T01:30:34.122956\",\"1970-01-01T01:30:34.122956\",\"1970-01-01T01:30:34.122956\",\"1970-01-01T02:03:59.772139\",\"1970-01-01T02:03:59.772139\",\"1970-01-01T02:05:59.772139\",\"1970-01-01T02:05:59.772139\",\"1970-01-01T02:05:59.772139\",\"1970-01-01T02:39:25.421321\",\"1970-01-01T02:39:25.421321\",\"1970-01-01T02:41:25.421321\",\"1970-01-01T02:41:25.421321\",\"1970-01-01T02:41:25.421321\",\"1970-01-01T00:17:42.824591\",\"1970-01-01T00:17:42.824591\",\"1970-01-01T00:19:42.824591\",\"1970-01-01T00:19:42.824591\",\"1970-01-01T00:19:42.824591\",\"1970-01-01T00:53:08.473774\",\"1970-01-01T00:53:08.473774\",\"1970-01-01T00:55:08.473774\",\"1970-01-01T00:55:08.473774\",\"1970-01-01T00:55:08.473774\",\"1970-01-01T01:28:34.122956\",\"1970-01-01T01:28:34.122956\",\"1970-01-01T01:30:34.122956\",\"1970-01-01T01:30:34.122956\",\"1970-01-01T01:30:34.122956\",\"1970-01-01T02:03:59.772139\",\"1970-01-01T02:03:59.772139\",\"1970-01-01T02:05:59.772139\",\"1970-01-01T02:05:59.772139\",\"1970-01-01T02:05:59.772139\",\"1970-01-01T02:39:25.421321\",\"1970-01-01T02:39:25.421321\",\"1970-01-01T02:41:25.421321\",\"1970-01-01T02:41:25.421321\",\"1970-01-01T02:41:25.421321\"],\"y\":[\"transporter01\",\"transporter01\",\"transporter01\",\"transporter01\",null,\"transporter01\",\"transporter01\",\"transporter01\",\"transporter01\",null,\"transporter01\",\"transporter01\",\"transporter01\",\"transporter01\",null,\"transporter01\",\"transporter01\",\"transporter01\",\"transporter01\",null,\"transporter01\",\"transporter01\",\"transporter01\",\"transporter01\",null,\"installer01\",\"installer01\",\"installer01\",\"installer01\",null,\"installer01\",\"installer01\",\"installer01\",\"installer01\",null,\"installer01\",\"installer01\",\"installer01\",\"installer01\",null,\"installer01\",\"installer01\",\"installer01\",\"installer01\",null,\"installer01\",\"installer01\",\"installer01\",\"installer01\",null],\"type\":\"scatter\"},{\"connectgaps\":false,\"hoverinfo\":\"y+name\",\"line\":{\"color\":\"rgb(10,195,147)\",\"width\":10},\"mode\":\"lines\",\"name\":\"preparing for unloading\",\"x\":[\"1970-01-01T00:19:42.824591\",\"1970-01-01T00:19:42.824591\",\"1970-01-01T00:20:42.824591\",\"1970-01-01T00:20:42.824591\",\"1970-01-01T00:20:42.824591\",\"1970-01-01T00:55:08.473774\",\"1970-01-01T00:55:08.473774\",\"1970-01-01T00:56:08.473774\",\"1970-01-01T00:56:08.473774\",\"1970-01-01T00:56:08.473774\",\"1970-01-01T01:30:34.122956\",\"1970-01-01T01:30:34.122956\",\"1970-01-01T01:31:34.122956\",\"1970-01-01T01:31:34.122956\",\"1970-01-01T01:31:34.122956\",\"1970-01-01T02:05:59.772139\",\"1970-01-01T02:05:59.772139\",\"1970-01-01T02:06:59.772139\",\"1970-01-01T02:06:59.772139\",\"1970-01-01T02:06:59.772139\",\"1970-01-01T02:41:25.421321\",\"1970-01-01T02:41:25.421321\",\"1970-01-01T02:42:25.421321\",\"1970-01-01T02:42:25.421321\",\"1970-01-01T02:42:25.421321\"],\"y\":[\"installer01\",\"installer01\",\"installer01\",\"installer01\",null,\"installer01\",\"installer01\",\"installer01\",\"installer01\",null,\"installer01\",\"installer01\",\"installer01\",\"installer01\",null,\"installer01\",\"installer01\",\"installer01\",\"installer01\",null,\"installer01\",\"installer01\",\"installer01\",\"installer01\",null],\"type\":\"scatter\"},{\"connectgaps\":false,\"hoverinfo\":\"y+name\",\"line\":{\"color\":\"rgb(33,218,170)\",\"width\":10},\"mode\":\"lines\",\"name\":\"preparing for delivery\",\"x\":[\"1970-01-01T00:15:42.824591\",\"1970-01-01T00:15:42.824591\",\"1970-01-01T00:16:12.824591\",\"1970-01-01T00:16:12.824591\",\"1970-01-01T00:16:12.824591\",\"1970-01-01T00:22:42.824591\",\"1970-01-01T00:22:42.824591\",\"1970-01-01T00:23:12.824591\",\"1970-01-01T00:23:12.824591\",\"1970-01-01T00:23:12.824591\",\"1970-01-01T00:58:08.473774\",\"1970-01-01T00:58:08.473774\",\"1970-01-01T00:58:38.473774\",\"1970-01-01T00:58:38.473774\",\"1970-01-01T00:58:38.473774\",\"1970-01-01T01:33:34.122956\",\"1970-01-01T01:33:34.122956\",\"1970-01-01T01:34:04.122956\",\"1970-01-01T01:34:04.122956\",\"1970-01-01T01:34:04.122956\",\"1970-01-01T02:08:59.772139\",\"1970-01-01T02:08:59.772139\",\"1970-01-01T02:09:29.772139\",\"1970-01-01T02:09:29.772139\",\"1970-01-01T02:09:29.772139\"],\"y\":[\"installer01\",\"installer01\",\"installer01\",\"installer01\",null,\"installer01\",\"installer01\",\"installer01\",\"installer01\",null,\"installer01\",\"installer01\",\"installer01\",\"installer01\",null,\"installer01\",\"installer01\",\"installer01\",\"installer01\",null,\"installer01\",\"installer01\",\"installer01\",\"installer01\",null],\"type\":\"scatter\"},{\"connectgaps\":false,\"hoverinfo\":\"y+name\",\"line\":{\"color\":\"rgb(56,241,193)\",\"width\":10},\"mode\":\"lines\",\"name\":\"transfer Cargo_1\",\"x\":[\"1970-01-01T00:17:42.824591\",\"1970-01-01T00:17:42.824591\",\"1970-01-01T00:19:42.824591\",\"1970-01-01T00:19:42.824591\",\"1970-01-01T00:19:42.824591\",\"1970-01-01T00:53:08.473774\",\"1970-01-01T00:53:08.473774\",\"1970-01-01T00:55:08.473774\",\"1970-01-01T00:55:08.473774\",\"1970-01-01T00:55:08.473774\",\"1970-01-01T01:28:34.122956\",\"1970-01-01T01:28:34.122956\",\"1970-01-01T01:30:34.122956\",\"1970-01-01T01:30:34.122956\",\"1970-01-01T01:30:34.122956\",\"1970-01-01T02:03:59.772139\",\"1970-01-01T02:03:59.772139\",\"1970-01-01T02:05:59.772139\",\"1970-01-01T02:05:59.772139\",\"1970-01-01T02:05:59.772139\",\"1970-01-01T02:39:25.421321\",\"1970-01-01T02:39:25.421321\",\"1970-01-01T02:41:25.421321\",\"1970-01-01T02:41:25.421321\",\"1970-01-01T02:41:25.421321\",\"1970-01-01T00:17:42.824591\",\"1970-01-01T00:17:42.824591\",\"1970-01-01T00:19:42.824591\",\"1970-01-01T00:19:42.824591\",\"1970-01-01T00:19:42.824591\",\"1970-01-01T00:53:08.473774\",\"1970-01-01T00:53:08.473774\",\"1970-01-01T00:55:08.473774\",\"1970-01-01T00:55:08.473774\",\"1970-01-01T00:55:08.473774\",\"1970-01-01T01:28:34.122956\",\"1970-01-01T01:28:34.122956\",\"1970-01-01T01:30:34.122956\",\"1970-01-01T01:30:34.122956\",\"1970-01-01T01:30:34.122956\",\"1970-01-01T02:03:59.772139\",\"1970-01-01T02:03:59.772139\",\"1970-01-01T02:05:59.772139\",\"1970-01-01T02:05:59.772139\",\"1970-01-01T02:05:59.772139\",\"1970-01-01T02:39:25.421321\",\"1970-01-01T02:39:25.421321\",\"1970-01-01T02:41:25.421321\",\"1970-01-01T02:41:25.421321\",\"1970-01-01T02:41:25.421321\"],\"y\":[\"transporter01\",\"transporter01\",\"transporter01\",\"transporter01\",null,\"transporter01\",\"transporter01\",\"transporter01\",\"transporter01\",null,\"transporter01\",\"transporter01\",\"transporter01\",\"transporter01\",null,\"transporter01\",\"transporter01\",\"transporter01\",\"transporter01\",null,\"transporter01\",\"transporter01\",\"transporter01\",\"transporter01\",null,\"installer01\",\"installer01\",\"installer01\",\"installer01\",null,\"installer01\",\"installer01\",\"installer01\",\"installer01\",null,\"installer01\",\"installer01\",\"installer01\",\"installer01\",null,\"installer01\",\"installer01\",\"installer01\",\"installer01\",null,\"installer01\",\"installer01\",\"installer01\",\"installer01\",null],\"type\":\"scatter\"},{\"connectgaps\":false,\"hoverinfo\":\"y+name\",\"line\":{\"color\":\"rgb(79,8,216)\",\"width\":10},\"mode\":\"lines\",\"name\":\"unload Cargo_1\",\"x\":[\"1970-01-01T00:20:42.824591\",\"1970-01-01T00:20:42.824591\",\"1970-01-01T00:22:42.824591\",\"1970-01-01T00:22:42.824591\",\"1970-01-01T00:22:42.824591\",\"1970-01-01T00:56:08.473774\",\"1970-01-01T00:56:08.473774\",\"1970-01-01T00:58:08.473774\",\"1970-01-01T00:58:08.473774\",\"1970-01-01T00:58:08.473774\",\"1970-01-01T01:31:34.122956\",\"1970-01-01T01:31:34.122956\",\"1970-01-01T01:33:34.122956\",\"1970-01-01T01:33:34.122956\",\"1970-01-01T01:33:34.122956\",\"1970-01-01T02:06:59.772139\",\"1970-01-01T02:06:59.772139\",\"1970-01-01T02:08:59.772139\",\"1970-01-01T02:08:59.772139\",\"1970-01-01T02:08:59.772139\",\"1970-01-01T02:42:25.421321\",\"1970-01-01T02:42:25.421321\",\"1970-01-01T02:44:25.421321\",\"1970-01-01T02:44:25.421321\",\"1970-01-01T02:44:25.421321\",\"1970-01-01T00:20:42.824591\",\"1970-01-01T00:20:42.824591\",\"1970-01-01T00:22:42.824591\",\"1970-01-01T00:22:42.824591\",\"1970-01-01T00:22:42.824591\",\"1970-01-01T00:56:08.473774\",\"1970-01-01T00:56:08.473774\",\"1970-01-01T00:58:08.473774\",\"1970-01-01T00:58:08.473774\",\"1970-01-01T00:58:08.473774\",\"1970-01-01T01:31:34.122956\",\"1970-01-01T01:31:34.122956\",\"1970-01-01T01:33:34.122956\",\"1970-01-01T01:33:34.122956\",\"1970-01-01T01:33:34.122956\",\"1970-01-01T02:06:59.772139\",\"1970-01-01T02:06:59.772139\",\"1970-01-01T02:08:59.772139\",\"1970-01-01T02:08:59.772139\",\"1970-01-01T02:08:59.772139\",\"1970-01-01T02:42:25.421321\",\"1970-01-01T02:42:25.421321\",\"1970-01-01T02:44:25.421321\",\"1970-01-01T02:44:25.421321\",\"1970-01-01T02:44:25.421321\"],\"y\":[\"installer01\",\"installer01\",\"installer01\",\"installer01\",null,\"installer01\",\"installer01\",\"installer01\",\"installer01\",null,\"installer01\",\"installer01\",\"installer01\",\"installer01\",null,\"installer01\",\"installer01\",\"installer01\",\"installer01\",null,\"installer01\",\"installer01\",\"installer01\",\"installer01\",null,\"to_site\",\"to_site\",\"to_site\",\"to_site\",null,\"to_site\",\"to_site\",\"to_site\",\"to_site\",null,\"to_site\",\"to_site\",\"to_site\",\"to_site\",null,\"to_site\",\"to_site\",\"to_site\",\"to_site\",null,\"to_site\",\"to_site\",\"to_site\",\"to_site\",null],\"type\":\"scatter\"},{\"connectgaps\":false,\"hoverinfo\":\"y+name\",\"line\":{\"color\":\"rgb(102,31,239)\",\"width\":10},\"mode\":\"lines\",\"name\":\"sailing to site\",\"x\":[\"1970-01-01T00:00:00\",\"1970-01-01T00:00:00\",\"1970-01-01T00:15:42.824591\",\"1970-01-01T00:15:42.824591\",\"1970-01-01T00:15:42.824591\"],\"y\":[\"installer01\",\"installer01\",\"installer01\",\"installer01\",null],\"type\":\"scatter\"},{\"connectgaps\":false,\"hoverinfo\":\"y+name\",\"line\":{\"color\":\"rgb(125,54,6)\",\"width\":10},\"mode\":\"lines\",\"name\":\"loading Cargo_1\",\"x\":[\"1970-01-01T00:00:00\",\"1970-01-01T00:00:00\",\"1970-01-01T00:02:00\",\"1970-01-01T00:02:00\",\"1970-01-01T00:02:00\",\"1970-01-01T00:35:25.649183\",\"1970-01-01T00:35:25.649183\",\"1970-01-01T00:37:25.649183\",\"1970-01-01T00:37:25.649183\",\"1970-01-01T00:37:25.649183\",\"1970-01-01T01:10:51.298365\",\"1970-01-01T01:10:51.298365\",\"1970-01-01T01:12:51.298365\",\"1970-01-01T01:12:51.298365\",\"1970-01-01T01:12:51.298365\",\"1970-01-01T01:46:16.947548\",\"1970-01-01T01:46:16.947548\",\"1970-01-01T01:48:16.947548\",\"1970-01-01T01:48:16.947548\",\"1970-01-01T01:48:16.947548\",\"1970-01-01T02:21:42.596730\",\"1970-01-01T02:21:42.596730\",\"1970-01-01T02:23:42.596730\",\"1970-01-01T02:23:42.596730\",\"1970-01-01T02:23:42.596730\",\"1970-01-01T00:00:00\",\"1970-01-01T00:00:00\",\"1970-01-01T00:02:00\",\"1970-01-01T00:02:00\",\"1970-01-01T00:02:00\",\"1970-01-01T00:35:25.649183\",\"1970-01-01T00:35:25.649183\",\"1970-01-01T00:37:25.649183\",\"1970-01-01T00:37:25.649183\",\"1970-01-01T00:37:25.649183\",\"1970-01-01T01:10:51.298365\",\"1970-01-01T01:10:51.298365\",\"1970-01-01T01:12:51.298365\",\"1970-01-01T01:12:51.298365\",\"1970-01-01T01:12:51.298365\",\"1970-01-01T01:46:16.947548\",\"1970-01-01T01:46:16.947548\",\"1970-01-01T01:48:16.947548\",\"1970-01-01T01:48:16.947548\",\"1970-01-01T01:48:16.947548\",\"1970-01-01T02:21:42.596730\",\"1970-01-01T02:21:42.596730\",\"1970-01-01T02:23:42.596730\",\"1970-01-01T02:23:42.596730\",\"1970-01-01T02:23:42.596730\"],\"y\":[\"transporter01\",\"transporter01\",\"transporter01\",\"transporter01\",null,\"transporter01\",\"transporter01\",\"transporter01\",\"transporter01\",null,\"transporter01\",\"transporter01\",\"transporter01\",\"transporter01\",null,\"transporter01\",\"transporter01\",\"transporter01\",\"transporter01\",null,\"transporter01\",\"transporter01\",\"transporter01\",\"transporter01\",null,\"from_site\",\"from_site\",\"from_site\",\"from_site\",null,\"from_site\",\"from_site\",\"from_site\",\"from_site\",null,\"from_site\",\"from_site\",\"from_site\",\"from_site\",null,\"from_site\",\"from_site\",\"from_site\",\"from_site\",null,\"from_site\",\"from_site\",\"from_site\",\"from_site\",null],\"type\":\"scatter\"},{\"connectgaps\":false,\"hoverinfo\":\"y+name\",\"line\":{\"color\":\"rgb(148,77,29)\",\"width\":10},\"mode\":\"lines\",\"name\":\"unload Cargo_1\",\"x\":[\"1970-01-01T00:20:42.824591\",\"1970-01-01T00:20:42.824591\",\"1970-01-01T00:22:42.824591\",\"1970-01-01T00:22:42.824591\",\"1970-01-01T00:22:42.824591\",\"1970-01-01T00:56:08.473774\",\"1970-01-01T00:56:08.473774\",\"1970-01-01T00:58:08.473774\",\"1970-01-01T00:58:08.473774\",\"1970-01-01T00:58:08.473774\",\"1970-01-01T01:31:34.122956\",\"1970-01-01T01:31:34.122956\",\"1970-01-01T01:33:34.122956\",\"1970-01-01T01:33:34.122956\",\"1970-01-01T01:33:34.122956\",\"1970-01-01T02:06:59.772139\",\"1970-01-01T02:06:59.772139\",\"1970-01-01T02:08:59.772139\",\"1970-01-01T02:08:59.772139\",\"1970-01-01T02:08:59.772139\",\"1970-01-01T02:42:25.421321\",\"1970-01-01T02:42:25.421321\",\"1970-01-01T02:44:25.421321\",\"1970-01-01T02:44:25.421321\",\"1970-01-01T02:44:25.421321\",\"1970-01-01T00:20:42.824591\",\"1970-01-01T00:20:42.824591\",\"1970-01-01T00:22:42.824591\",\"1970-01-01T00:22:42.824591\",\"1970-01-01T00:22:42.824591\",\"1970-01-01T00:56:08.473774\",\"1970-01-01T00:56:08.473774\",\"1970-01-01T00:58:08.473774\",\"1970-01-01T00:58:08.473774\",\"1970-01-01T00:58:08.473774\",\"1970-01-01T01:31:34.122956\",\"1970-01-01T01:31:34.122956\",\"1970-01-01T01:33:34.122956\",\"1970-01-01T01:33:34.122956\",\"1970-01-01T01:33:34.122956\",\"1970-01-01T02:06:59.772139\",\"1970-01-01T02:06:59.772139\",\"1970-01-01T02:08:59.772139\",\"1970-01-01T02:08:59.772139\",\"1970-01-01T02:08:59.772139\",\"1970-01-01T02:42:25.421321\",\"1970-01-01T02:42:25.421321\",\"1970-01-01T02:44:25.421321\",\"1970-01-01T02:44:25.421321\",\"1970-01-01T02:44:25.421321\"],\"y\":[\"installer01\",\"installer01\",\"installer01\",\"installer01\",null,\"installer01\",\"installer01\",\"installer01\",\"installer01\",null,\"installer01\",\"installer01\",\"installer01\",\"installer01\",null,\"installer01\",\"installer01\",\"installer01\",\"installer01\",null,\"installer01\",\"installer01\",\"installer01\",\"installer01\",null,\"to_site\",\"to_site\",\"to_site\",\"to_site\",null,\"to_site\",\"to_site\",\"to_site\",\"to_site\",null,\"to_site\",\"to_site\",\"to_site\",\"to_site\",null,\"to_site\",\"to_site\",\"to_site\",\"to_site\",null,\"to_site\",\"to_site\",\"to_site\",\"to_site\",null],\"type\":\"scatter\"},{\"connectgaps\":false,\"hoverinfo\":\"name\",\"line\":{\"color\":\"Red\",\"width\":5},\"mode\":\"markers\",\"name\":\"critical_path\",\"showlegend\":true,\"x\":[\"1970-01-01T00:00:00\"],\"y\":[\"from_site\"],\"type\":\"scatter\"},{\"connectgaps\":false,\"hoverinfo\":\"name\",\"line\":{\"color\":\"Red\",\"width\":5},\"mode\":\"markers\",\"name\":\"critical_path\",\"showlegend\":false,\"x\":[\"1970-01-01T00:00:00\"],\"y\":[\"installer01\"],\"type\":\"scatter\"},{\"connectgaps\":false,\"hoverinfo\":\"name\",\"line\":{\"color\":\"Red\",\"width\":5},\"mode\":\"markers\",\"name\":\"critical_path\",\"showlegend\":false,\"x\":[\"1970-01-01T00:00:00\"],\"y\":[\"transporter01\"],\"type\":\"scatter\"},{\"connectgaps\":false,\"hoverinfo\":\"name\",\"line\":{\"color\":\"Red\",\"width\":5},\"mode\":\"markers\",\"name\":\"critical_path\",\"showlegend\":false,\"x\":[\"1970-01-01T00:00:00\"],\"y\":[\"transporter01\"],\"type\":\"scatter\"},{\"connectgaps\":false,\"hoverinfo\":\"name\",\"line\":{\"color\":\"Red\",\"width\":5},\"mode\":\"markers\",\"name\":\"critical_path\",\"showlegend\":false,\"x\":[\"1970-01-01T00:02:00\"],\"y\":[\"transporter01\"],\"type\":\"scatter\"},{\"connectgaps\":false,\"hoverinfo\":\"name\",\"line\":{\"color\":\"Red\",\"width\":5},\"mode\":\"markers\",\"name\":\"critical_path\",\"showlegend\":false,\"x\":[\"1970-01-01T00:15:42.824591\"],\"y\":[\"installer01\"],\"type\":\"scatter\"},{\"connectgaps\":false,\"hoverinfo\":\"name\",\"line\":{\"color\":\"Red\",\"width\":5},\"mode\":\"markers\",\"name\":\"critical_path\",\"showlegend\":false,\"x\":[\"1970-01-01T00:16:12.824591\"],\"y\":[\"installer01\"],\"type\":\"scatter\"},{\"connectgaps\":false,\"hoverinfo\":\"name\",\"line\":{\"color\":\"Red\",\"width\":5},\"mode\":\"markers\",\"name\":\"critical_path\",\"showlegend\":false,\"x\":[\"1970-01-01T00:17:42.824591\"],\"y\":[\"installer01\"],\"type\":\"scatter\"},{\"connectgaps\":false,\"hoverinfo\":\"name\",\"line\":{\"color\":\"Red\",\"width\":5},\"mode\":\"markers\",\"name\":\"critical_path\",\"showlegend\":false,\"x\":[\"1970-01-01T00:17:42.824591\"],\"y\":[\"transporter01\"],\"type\":\"scatter\"},{\"connectgaps\":false,\"hoverinfo\":\"name\",\"line\":{\"color\":\"Red\",\"width\":5},\"mode\":\"markers\",\"name\":\"critical_path\",\"showlegend\":false,\"x\":[\"1970-01-01T00:19:42.824591\"],\"y\":[\"installer01\"],\"type\":\"scatter\"},{\"connectgaps\":false,\"hoverinfo\":\"name\",\"line\":{\"color\":\"Red\",\"width\":5},\"mode\":\"markers\",\"name\":\"critical_path\",\"showlegend\":false,\"x\":[\"1970-01-01T00:20:42.824591\"],\"y\":[\"installer01\"],\"type\":\"scatter\"},{\"connectgaps\":false,\"hoverinfo\":\"name\",\"line\":{\"color\":\"Red\",\"width\":5},\"mode\":\"markers\",\"name\":\"critical_path\",\"showlegend\":false,\"x\":[\"1970-01-01T00:20:42.824591\"],\"y\":[\"to_site\"],\"type\":\"scatter\"},{\"connectgaps\":false,\"hoverinfo\":\"name\",\"line\":{\"color\":\"Red\",\"width\":5},\"mode\":\"markers\",\"name\":\"critical_path\",\"showlegend\":false,\"x\":[\"1970-01-01T00:22:42.824591\"],\"y\":[\"installer01\"],\"type\":\"scatter\"},{\"connectgaps\":false,\"hoverinfo\":\"name\",\"line\":{\"color\":\"Red\",\"width\":5},\"mode\":\"markers\",\"name\":\"critical_path\",\"showlegend\":false,\"x\":[\"1970-01-01T00:23:12.824591\"],\"y\":[\"installer01\"],\"type\":\"scatter\"},{\"connectgaps\":false,\"hoverinfo\":\"name\",\"line\":{\"color\":\"Red\",\"width\":5},\"mode\":\"markers\",\"name\":\"critical_path\",\"showlegend\":false,\"x\":[\"1970-01-01T00:55:08.473774\"],\"y\":[\"installer01\"],\"type\":\"scatter\"},{\"connectgaps\":false,\"hoverinfo\":\"name\",\"line\":{\"color\":\"Red\",\"width\":5},\"mode\":\"markers\",\"name\":\"critical_path\",\"showlegend\":false,\"x\":[\"1970-01-01T00:56:08.473774\"],\"y\":[\"installer01\"],\"type\":\"scatter\"},{\"connectgaps\":false,\"hoverinfo\":\"name\",\"line\":{\"color\":\"Red\",\"width\":5},\"mode\":\"markers\",\"name\":\"critical_path\",\"showlegend\":false,\"x\":[\"1970-01-01T00:56:08.473774\"],\"y\":[\"to_site\"],\"type\":\"scatter\"},{\"connectgaps\":false,\"hoverinfo\":\"name\",\"line\":{\"color\":\"Red\",\"width\":5},\"mode\":\"markers\",\"name\":\"critical_path\",\"showlegend\":false,\"x\":[\"1970-01-01T00:58:08.473774\"],\"y\":[\"installer01\"],\"type\":\"scatter\"},{\"connectgaps\":false,\"hoverinfo\":\"name\",\"line\":{\"color\":\"Red\",\"width\":5},\"mode\":\"markers\",\"name\":\"critical_path\",\"showlegend\":false,\"x\":[\"1970-01-01T00:58:38.473774\"],\"y\":[\"installer01\"],\"type\":\"scatter\"},{\"connectgaps\":false,\"hoverinfo\":\"name\",\"line\":{\"color\":\"Red\",\"width\":5},\"mode\":\"markers\",\"name\":\"critical_path\",\"showlegend\":false,\"x\":[\"1970-01-01T01:30:34.122956\"],\"y\":[\"installer01\"],\"type\":\"scatter\"},{\"connectgaps\":false,\"hoverinfo\":\"name\",\"line\":{\"color\":\"Red\",\"width\":5},\"mode\":\"markers\",\"name\":\"critical_path\",\"showlegend\":false,\"x\":[\"1970-01-01T01:31:34.122956\"],\"y\":[\"installer01\"],\"type\":\"scatter\"},{\"connectgaps\":false,\"hoverinfo\":\"name\",\"line\":{\"color\":\"Red\",\"width\":5},\"mode\":\"markers\",\"name\":\"critical_path\",\"showlegend\":false,\"x\":[\"1970-01-01T01:31:34.122956\"],\"y\":[\"to_site\"],\"type\":\"scatter\"},{\"connectgaps\":false,\"hoverinfo\":\"name\",\"line\":{\"color\":\"Red\",\"width\":5},\"mode\":\"markers\",\"name\":\"critical_path\",\"showlegend\":false,\"x\":[\"1970-01-01T01:33:34.122956\"],\"y\":[\"installer01\"],\"type\":\"scatter\"},{\"connectgaps\":false,\"hoverinfo\":\"name\",\"line\":{\"color\":\"Red\",\"width\":5},\"mode\":\"markers\",\"name\":\"critical_path\",\"showlegend\":false,\"x\":[\"1970-01-01T01:34:04.122956\"],\"y\":[\"installer01\"],\"type\":\"scatter\"},{\"connectgaps\":false,\"hoverinfo\":\"name\",\"line\":{\"color\":\"Red\",\"width\":5},\"mode\":\"markers\",\"name\":\"critical_path\",\"showlegend\":false,\"x\":[\"1970-01-01T02:05:59.772139\"],\"y\":[\"installer01\"],\"type\":\"scatter\"},{\"connectgaps\":false,\"hoverinfo\":\"name\",\"line\":{\"color\":\"Red\",\"width\":5},\"mode\":\"markers\",\"name\":\"critical_path\",\"showlegend\":false,\"x\":[\"1970-01-01T02:06:59.772139\"],\"y\":[\"installer01\"],\"type\":\"scatter\"},{\"connectgaps\":false,\"hoverinfo\":\"name\",\"line\":{\"color\":\"Red\",\"width\":5},\"mode\":\"markers\",\"name\":\"critical_path\",\"showlegend\":false,\"x\":[\"1970-01-01T02:06:59.772139\"],\"y\":[\"to_site\"],\"type\":\"scatter\"},{\"connectgaps\":false,\"hoverinfo\":\"name\",\"line\":{\"color\":\"Red\",\"width\":5},\"mode\":\"markers\",\"name\":\"critical_path\",\"showlegend\":false,\"x\":[\"1970-01-01T02:08:59.772139\"],\"y\":[\"installer01\"],\"type\":\"scatter\"},{\"connectgaps\":false,\"hoverinfo\":\"name\",\"line\":{\"color\":\"Red\",\"width\":5},\"mode\":\"markers\",\"name\":\"critical_path\",\"showlegend\":false,\"x\":[\"1970-01-01T02:09:29.772139\"],\"y\":[\"installer01\"],\"type\":\"scatter\"},{\"connectgaps\":false,\"hoverinfo\":\"name\",\"line\":{\"color\":\"Red\",\"width\":5},\"mode\":\"markers\",\"name\":\"critical_path\",\"showlegend\":false,\"x\":[\"1970-01-01T02:41:25.421321\"],\"y\":[\"installer01\"],\"type\":\"scatter\"},{\"connectgaps\":false,\"hoverinfo\":\"name\",\"line\":{\"color\":\"Red\",\"width\":5},\"mode\":\"markers\",\"name\":\"critical_path\",\"showlegend\":false,\"x\":[\"1970-01-01T02:42:25.421321\"],\"y\":[\"installer01\"],\"type\":\"scatter\"},{\"connectgaps\":false,\"hoverinfo\":\"name\",\"line\":{\"color\":\"Red\",\"width\":5},\"mode\":\"markers\",\"name\":\"critical_path\",\"showlegend\":false,\"x\":[\"1970-01-01T02:42:25.421321\"],\"y\":[\"to_site\"],\"type\":\"scatter\"}],                        {\"hovermode\":\"closest\",\"legend\":{\"orientation\":\"h\",\"x\":0,\"y\":-0.2},\"template\":{\"data\":{\"barpolar\":[{\"marker\":{\"line\":{\"color\":\"#E5ECF6\",\"width\":0.5},\"pattern\":{\"fillmode\":\"overlay\",\"size\":10,\"solidity\":0.2}},\"type\":\"barpolar\"}],\"bar\":[{\"error_x\":{\"color\":\"#2a3f5f\"},\"error_y\":{\"color\":\"#2a3f5f\"},\"marker\":{\"line\":{\"color\":\"#E5ECF6\",\"width\":0.5},\"pattern\":{\"fillmode\":\"overlay\",\"size\":10,\"solidity\":0.2}},\"type\":\"bar\"}],\"carpet\":[{\"aaxis\":{\"endlinecolor\":\"#2a3f5f\",\"gridcolor\":\"white\",\"linecolor\":\"white\",\"minorgridcolor\":\"white\",\"startlinecolor\":\"#2a3f5f\"},\"baxis\":{\"endlinecolor\":\"#2a3f5f\",\"gridcolor\":\"white\",\"linecolor\":\"white\",\"minorgridcolor\":\"white\",\"startlinecolor\":\"#2a3f5f\"},\"type\":\"carpet\"}],\"choropleth\":[{\"colorbar\":{\"outlinewidth\":0,\"ticks\":\"\"},\"type\":\"choropleth\"}],\"contourcarpet\":[{\"colorbar\":{\"outlinewidth\":0,\"ticks\":\"\"},\"type\":\"contourcarpet\"}],\"contour\":[{\"colorbar\":{\"outlinewidth\":0,\"ticks\":\"\"},\"colorscale\":[[0.0,\"#0d0887\"],[0.1111111111111111,\"#46039f\"],[0.2222222222222222,\"#7201a8\"],[0.3333333333333333,\"#9c179e\"],[0.4444444444444444,\"#bd3786\"],[0.5555555555555556,\"#d8576b\"],[0.6666666666666666,\"#ed7953\"],[0.7777777777777778,\"#fb9f3a\"],[0.8888888888888888,\"#fdca26\"],[1.0,\"#f0f921\"]],\"type\":\"contour\"}],\"heatmapgl\":[{\"colorbar\":{\"outlinewidth\":0,\"ticks\":\"\"},\"colorscale\":[[0.0,\"#0d0887\"],[0.1111111111111111,\"#46039f\"],[0.2222222222222222,\"#7201a8\"],[0.3333333333333333,\"#9c179e\"],[0.4444444444444444,\"#bd3786\"],[0.5555555555555556,\"#d8576b\"],[0.6666666666666666,\"#ed7953\"],[0.7777777777777778,\"#fb9f3a\"],[0.8888888888888888,\"#fdca26\"],[1.0,\"#f0f921\"]],\"type\":\"heatmapgl\"}],\"heatmap\":[{\"colorbar\":{\"outlinewidth\":0,\"ticks\":\"\"},\"colorscale\":[[0.0,\"#0d0887\"],[0.1111111111111111,\"#46039f\"],[0.2222222222222222,\"#7201a8\"],[0.3333333333333333,\"#9c179e\"],[0.4444444444444444,\"#bd3786\"],[0.5555555555555556,\"#d8576b\"],[0.6666666666666666,\"#ed7953\"],[0.7777777777777778,\"#fb9f3a\"],[0.8888888888888888,\"#fdca26\"],[1.0,\"#f0f921\"]],\"type\":\"heatmap\"}],\"histogram2dcontour\":[{\"colorbar\":{\"outlinewidth\":0,\"ticks\":\"\"},\"colorscale\":[[0.0,\"#0d0887\"],[0.1111111111111111,\"#46039f\"],[0.2222222222222222,\"#7201a8\"],[0.3333333333333333,\"#9c179e\"],[0.4444444444444444,\"#bd3786\"],[0.5555555555555556,\"#d8576b\"],[0.6666666666666666,\"#ed7953\"],[0.7777777777777778,\"#fb9f3a\"],[0.8888888888888888,\"#fdca26\"],[1.0,\"#f0f921\"]],\"type\":\"histogram2dcontour\"}],\"histogram2d\":[{\"colorbar\":{\"outlinewidth\":0,\"ticks\":\"\"},\"colorscale\":[[0.0,\"#0d0887\"],[0.1111111111111111,\"#46039f\"],[0.2222222222222222,\"#7201a8\"],[0.3333333333333333,\"#9c179e\"],[0.4444444444444444,\"#bd3786\"],[0.5555555555555556,\"#d8576b\"],[0.6666666666666666,\"#ed7953\"],[0.7777777777777778,\"#fb9f3a\"],[0.8888888888888888,\"#fdca26\"],[1.0,\"#f0f921\"]],\"type\":\"histogram2d\"}],\"histogram\":[{\"marker\":{\"pattern\":{\"fillmode\":\"overlay\",\"size\":10,\"solidity\":0.2}},\"type\":\"histogram\"}],\"mesh3d\":[{\"colorbar\":{\"outlinewidth\":0,\"ticks\":\"\"},\"type\":\"mesh3d\"}],\"parcoords\":[{\"line\":{\"colorbar\":{\"outlinewidth\":0,\"ticks\":\"\"}},\"type\":\"parcoords\"}],\"pie\":[{\"automargin\":true,\"type\":\"pie\"}],\"scatter3d\":[{\"line\":{\"colorbar\":{\"outlinewidth\":0,\"ticks\":\"\"}},\"marker\":{\"colorbar\":{\"outlinewidth\":0,\"ticks\":\"\"}},\"type\":\"scatter3d\"}],\"scattercarpet\":[{\"marker\":{\"colorbar\":{\"outlinewidth\":0,\"ticks\":\"\"}},\"type\":\"scattercarpet\"}],\"scattergeo\":[{\"marker\":{\"colorbar\":{\"outlinewidth\":0,\"ticks\":\"\"}},\"type\":\"scattergeo\"}],\"scattergl\":[{\"marker\":{\"colorbar\":{\"outlinewidth\":0,\"ticks\":\"\"}},\"type\":\"scattergl\"}],\"scattermapbox\":[{\"marker\":{\"colorbar\":{\"outlinewidth\":0,\"ticks\":\"\"}},\"type\":\"scattermapbox\"}],\"scatterpolargl\":[{\"marker\":{\"colorbar\":{\"outlinewidth\":0,\"ticks\":\"\"}},\"type\":\"scatterpolargl\"}],\"scatterpolar\":[{\"marker\":{\"colorbar\":{\"outlinewidth\":0,\"ticks\":\"\"}},\"type\":\"scatterpolar\"}],\"scatter\":[{\"fillpattern\":{\"fillmode\":\"overlay\",\"size\":10,\"solidity\":0.2},\"type\":\"scatter\"}],\"scatterternary\":[{\"marker\":{\"colorbar\":{\"outlinewidth\":0,\"ticks\":\"\"}},\"type\":\"scatterternary\"}],\"surface\":[{\"colorbar\":{\"outlinewidth\":0,\"ticks\":\"\"},\"colorscale\":[[0.0,\"#0d0887\"],[0.1111111111111111,\"#46039f\"],[0.2222222222222222,\"#7201a8\"],[0.3333333333333333,\"#9c179e\"],[0.4444444444444444,\"#bd3786\"],[0.5555555555555556,\"#d8576b\"],[0.6666666666666666,\"#ed7953\"],[0.7777777777777778,\"#fb9f3a\"],[0.8888888888888888,\"#fdca26\"],[1.0,\"#f0f921\"]],\"type\":\"surface\"}],\"table\":[{\"cells\":{\"fill\":{\"color\":\"#EBF0F8\"},\"line\":{\"color\":\"white\"}},\"header\":{\"fill\":{\"color\":\"#C8D4E3\"},\"line\":{\"color\":\"white\"}},\"type\":\"table\"}]},\"layout\":{\"annotationdefaults\":{\"arrowcolor\":\"#2a3f5f\",\"arrowhead\":0,\"arrowwidth\":1},\"autotypenumbers\":\"strict\",\"coloraxis\":{\"colorbar\":{\"outlinewidth\":0,\"ticks\":\"\"}},\"colorscale\":{\"diverging\":[[0,\"#8e0152\"],[0.1,\"#c51b7d\"],[0.2,\"#de77ae\"],[0.3,\"#f1b6da\"],[0.4,\"#fde0ef\"],[0.5,\"#f7f7f7\"],[0.6,\"#e6f5d0\"],[0.7,\"#b8e186\"],[0.8,\"#7fbc41\"],[0.9,\"#4d9221\"],[1,\"#276419\"]],\"sequential\":[[0.0,\"#0d0887\"],[0.1111111111111111,\"#46039f\"],[0.2222222222222222,\"#7201a8\"],[0.3333333333333333,\"#9c179e\"],[0.4444444444444444,\"#bd3786\"],[0.5555555555555556,\"#d8576b\"],[0.6666666666666666,\"#ed7953\"],[0.7777777777777778,\"#fb9f3a\"],[0.8888888888888888,\"#fdca26\"],[1.0,\"#f0f921\"]],\"sequentialminus\":[[0.0,\"#0d0887\"],[0.1111111111111111,\"#46039f\"],[0.2222222222222222,\"#7201a8\"],[0.3333333333333333,\"#9c179e\"],[0.4444444444444444,\"#bd3786\"],[0.5555555555555556,\"#d8576b\"],[0.6666666666666666,\"#ed7953\"],[0.7777777777777778,\"#fb9f3a\"],[0.8888888888888888,\"#fdca26\"],[1.0,\"#f0f921\"]]},\"colorway\":[\"#636efa\",\"#EF553B\",\"#00cc96\",\"#ab63fa\",\"#FFA15A\",\"#19d3f3\",\"#FF6692\",\"#B6E880\",\"#FF97FF\",\"#FECB52\"],\"font\":{\"color\":\"#2a3f5f\"},\"geo\":{\"bgcolor\":\"white\",\"lakecolor\":\"white\",\"landcolor\":\"#E5ECF6\",\"showlakes\":true,\"showland\":true,\"subunitcolor\":\"white\"},\"hoverlabel\":{\"align\":\"left\"},\"hovermode\":\"closest\",\"mapbox\":{\"style\":\"light\"},\"paper_bgcolor\":\"white\",\"plot_bgcolor\":\"#E5ECF6\",\"polar\":{\"angularaxis\":{\"gridcolor\":\"white\",\"linecolor\":\"white\",\"ticks\":\"\"},\"bgcolor\":\"#E5ECF6\",\"radialaxis\":{\"gridcolor\":\"white\",\"linecolor\":\"white\",\"ticks\":\"\"}},\"scene\":{\"xaxis\":{\"backgroundcolor\":\"#E5ECF6\",\"gridcolor\":\"white\",\"gridwidth\":2,\"linecolor\":\"white\",\"showbackground\":true,\"ticks\":\"\",\"zerolinecolor\":\"white\"},\"yaxis\":{\"backgroundcolor\":\"#E5ECF6\",\"gridcolor\":\"white\",\"gridwidth\":2,\"linecolor\":\"white\",\"showbackground\":true,\"ticks\":\"\",\"zerolinecolor\":\"white\"},\"zaxis\":{\"backgroundcolor\":\"#E5ECF6\",\"gridcolor\":\"white\",\"gridwidth\":2,\"linecolor\":\"white\",\"showbackground\":true,\"ticks\":\"\",\"zerolinecolor\":\"white\"}},\"shapedefaults\":{\"line\":{\"color\":\"#2a3f5f\"}},\"ternary\":{\"aaxis\":{\"gridcolor\":\"white\",\"linecolor\":\"white\",\"ticks\":\"\"},\"baxis\":{\"gridcolor\":\"white\",\"linecolor\":\"white\",\"ticks\":\"\"},\"bgcolor\":\"#E5ECF6\",\"caxis\":{\"gridcolor\":\"white\",\"linecolor\":\"white\",\"ticks\":\"\"}},\"title\":{\"x\":0.05},\"xaxis\":{\"automargin\":true,\"gridcolor\":\"white\",\"linecolor\":\"white\",\"ticks\":\"\",\"title\":{\"standoff\":15},\"zerolinecolor\":\"white\",\"zerolinewidth\":2},\"yaxis\":{\"automargin\":true,\"gridcolor\":\"white\",\"linecolor\":\"white\",\"ticks\":\"\",\"title\":{\"standoff\":15},\"zerolinecolor\":\"white\",\"zerolinewidth\":2}}},\"title\":{\"text\":\"GANTT Chart\"},\"xaxis\":{\"range\":[\"1970-01-01T00:00:00\",\"1970-01-01T02:44:25.421321\"],\"title\":{\"font\":{\"color\":\"#7f7f7f\",\"family\":\"Courier New, monospace\",\"size\":18},\"text\":\"Time\"}},\"yaxis\":{\"title\":{\"font\":{\"color\":\"#7f7f7f\",\"family\":\"Courier New, monospace\",\"size\":18},\"text\":\"Activities\"}}},                        {\"responsive\": true}                    ).then(function(){\n",
       "                            \n",
       "var gd = document.getElementById('c31ca673-ba6c-41ab-a85d-a4d4b92e25c2');\n",
       "var x = new MutationObserver(function (mutations, observer) {{\n",
       "        var display = window.getComputedStyle(gd).display;\n",
       "        if (!display || display === 'none') {{\n",
       "            console.log([gd, 'removed!']);\n",
       "            Plotly.purge(gd);\n",
       "            observer.disconnect();\n",
       "        }}\n",
       "}});\n",
       "\n",
       "// Listen for the removal of the full notebook cells\n",
       "var notebookContainer = gd.closest('#notebook-container');\n",
       "if (notebookContainer) {{\n",
       "    x.observe(notebookContainer, {childList: true});\n",
       "}}\n",
       "\n",
       "// Listen for the clearing of the current output cell\n",
       "var outputEl = gd.closest('.output');\n",
       "if (outputEl) {{\n",
       "    x.observe(outputEl, {childList: true});\n",
       "}}\n",
       "\n",
       "                        })                };                });            </script>        </div>"
      ]
     },
     "metadata": {},
     "output_type": "display_data"
    },
    {
     "name": "stdout",
     "output_type": "stream",
     "text": [
      "                   Activity   SourceObject                 start_time  \\\n",
      "0           loading Cargo_1      from_site 1970-01-01 00:00:00.000000   \n",
      "1           sailing to site    installer01 1970-01-01 00:00:00.000000   \n",
      "2             sailing empty  transporter01 1970-01-01 00:00:00.000000   \n",
      "3           loading Cargo_1  transporter01 1970-01-01 00:00:00.000000   \n",
      "4            sailing filled  transporter01 1970-01-01 00:02:00.000000   \n",
      "5    preparing for delivery    installer01 1970-01-01 00:15:42.824591   \n",
      "6   preparing for unloading    installer01 1970-01-01 00:16:12.824591   \n",
      "7          transfer Cargo_1    installer01 1970-01-01 00:17:42.824591   \n",
      "8          transfer Cargo_1  transporter01 1970-01-01 00:17:42.824591   \n",
      "9   preparing for unloading    installer01 1970-01-01 00:19:42.824591   \n",
      "10            sailing empty  transporter01 1970-01-01 00:19:42.824591   \n",
      "11           unload Cargo_1    installer01 1970-01-01 00:20:42.824591   \n",
      "12           unload Cargo_1        to_site 1970-01-01 00:20:42.824591   \n",
      "13   preparing for delivery    installer01 1970-01-01 00:22:42.824591   \n",
      "14  preparing for unloading    installer01 1970-01-01 00:23:12.824591   \n",
      "15          loading Cargo_1      from_site 1970-01-01 00:35:25.649183   \n",
      "16          loading Cargo_1  transporter01 1970-01-01 00:35:25.649183   \n",
      "17           sailing filled  transporter01 1970-01-01 00:37:25.649183   \n",
      "18         transfer Cargo_1    installer01 1970-01-01 00:53:08.473774   \n",
      "19         transfer Cargo_1  transporter01 1970-01-01 00:53:08.473774   \n",
      "20  preparing for unloading    installer01 1970-01-01 00:55:08.473774   \n",
      "21            sailing empty  transporter01 1970-01-01 00:55:08.473774   \n",
      "22           unload Cargo_1    installer01 1970-01-01 00:56:08.473774   \n",
      "23           unload Cargo_1        to_site 1970-01-01 00:56:08.473774   \n",
      "24   preparing for delivery    installer01 1970-01-01 00:58:08.473774   \n",
      "25  preparing for unloading    installer01 1970-01-01 00:58:38.473774   \n",
      "26          loading Cargo_1      from_site 1970-01-01 01:10:51.298365   \n",
      "27          loading Cargo_1  transporter01 1970-01-01 01:10:51.298365   \n",
      "28           sailing filled  transporter01 1970-01-01 01:12:51.298365   \n",
      "29         transfer Cargo_1    installer01 1970-01-01 01:28:34.122956   \n",
      "30         transfer Cargo_1  transporter01 1970-01-01 01:28:34.122956   \n",
      "31  preparing for unloading    installer01 1970-01-01 01:30:34.122956   \n",
      "32            sailing empty  transporter01 1970-01-01 01:30:34.122956   \n",
      "33           unload Cargo_1    installer01 1970-01-01 01:31:34.122956   \n",
      "34           unload Cargo_1        to_site 1970-01-01 01:31:34.122956   \n",
      "35   preparing for delivery    installer01 1970-01-01 01:33:34.122956   \n",
      "36  preparing for unloading    installer01 1970-01-01 01:34:04.122956   \n",
      "37          loading Cargo_1      from_site 1970-01-01 01:46:16.947548   \n",
      "38          loading Cargo_1  transporter01 1970-01-01 01:46:16.947548   \n",
      "39           sailing filled  transporter01 1970-01-01 01:48:16.947548   \n",
      "40         transfer Cargo_1    installer01 1970-01-01 02:03:59.772139   \n",
      "41         transfer Cargo_1  transporter01 1970-01-01 02:03:59.772139   \n",
      "42  preparing for unloading    installer01 1970-01-01 02:05:59.772139   \n",
      "43            sailing empty  transporter01 1970-01-01 02:05:59.772139   \n",
      "44           unload Cargo_1    installer01 1970-01-01 02:06:59.772139   \n",
      "45           unload Cargo_1        to_site 1970-01-01 02:06:59.772139   \n",
      "46   preparing for delivery    installer01 1970-01-01 02:08:59.772139   \n",
      "47  preparing for unloading    installer01 1970-01-01 02:09:29.772139   \n",
      "48          loading Cargo_1      from_site 1970-01-01 02:21:42.596730   \n",
      "49          loading Cargo_1  transporter01 1970-01-01 02:21:42.596730   \n",
      "50           sailing filled  transporter01 1970-01-01 02:23:42.596730   \n",
      "51         transfer Cargo_1    installer01 1970-01-01 02:39:25.421321   \n",
      "52         transfer Cargo_1  transporter01 1970-01-01 02:39:25.421321   \n",
      "53  preparing for unloading    installer01 1970-01-01 02:41:25.421321   \n",
      "54           unload Cargo_1    installer01 1970-01-01 02:42:25.421321   \n",
      "55           unload Cargo_1        to_site 1970-01-01 02:42:25.421321   \n",
      "\n",
      "      state               duration                   end_time  cp_activity_id  \\\n",
      "0    ACTIVE        0 days 00:02:00 1970-01-01 00:02:00.000000   cp_activity_1   \n",
      "1    ACTIVE 0 days 00:15:42.824591 1970-01-01 00:15:42.824591  cp_activity_31   \n",
      "2    ACTIVE        0 days 00:00:00 1970-01-01 00:00:00.000000  cp_activity_21   \n",
      "3    ACTIVE        0 days 00:02:00 1970-01-01 00:02:00.000000   cp_activity_1   \n",
      "4    ACTIVE 0 days 00:15:42.824591 1970-01-01 00:17:42.824591  cp_activity_26   \n",
      "5    ACTIVE        0 days 00:00:30 1970-01-01 00:16:12.824591   cp_activity_6   \n",
      "6   WAITING        0 days 00:03:30 1970-01-01 00:19:42.824591  cp_activity_11   \n",
      "7    ACTIVE        0 days 00:02:00 1970-01-01 00:19:42.824591  cp_activity_32   \n",
      "8    ACTIVE        0 days 00:02:00 1970-01-01 00:19:42.824591  cp_activity_32   \n",
      "9    ACTIVE        0 days 00:01:00 1970-01-01 00:20:42.824591  cp_activity_12   \n",
      "10   ACTIVE 0 days 00:15:42.824592 1970-01-01 00:35:25.649183  cp_activity_22   \n",
      "11   ACTIVE        0 days 00:02:00 1970-01-01 00:22:42.824591  cp_activity_37   \n",
      "12   ACTIVE        0 days 00:02:00 1970-01-01 00:22:42.824591  cp_activity_37   \n",
      "13   ACTIVE        0 days 00:00:30 1970-01-01 00:23:12.824591   cp_activity_7   \n",
      "14  WAITING 0 days 00:31:55.649183 1970-01-01 00:55:08.473774  cp_activity_13   \n",
      "15   ACTIVE        0 days 00:02:00 1970-01-01 00:37:25.649183   cp_activity_2   \n",
      "16   ACTIVE        0 days 00:02:00 1970-01-01 00:37:25.649183   cp_activity_2   \n",
      "17   ACTIVE 0 days 00:15:42.824591 1970-01-01 00:53:08.473774  cp_activity_27   \n",
      "18   ACTIVE        0 days 00:02:00 1970-01-01 00:55:08.473774  cp_activity_33   \n",
      "19   ACTIVE        0 days 00:02:00 1970-01-01 00:55:08.473774  cp_activity_33   \n",
      "20   ACTIVE        0 days 00:01:00 1970-01-01 00:56:08.473774  cp_activity_14   \n",
      "21   ACTIVE 0 days 00:15:42.824591 1970-01-01 01:10:51.298365  cp_activity_23   \n",
      "22   ACTIVE        0 days 00:02:00 1970-01-01 00:58:08.473774  cp_activity_38   \n",
      "23   ACTIVE        0 days 00:02:00 1970-01-01 00:58:08.473774  cp_activity_38   \n",
      "24   ACTIVE        0 days 00:00:30 1970-01-01 00:58:38.473774   cp_activity_8   \n",
      "25  WAITING 0 days 00:31:55.649182 1970-01-01 01:30:34.122956  cp_activity_15   \n",
      "26   ACTIVE        0 days 00:02:00 1970-01-01 01:12:51.298365   cp_activity_3   \n",
      "27   ACTIVE        0 days 00:02:00 1970-01-01 01:12:51.298365   cp_activity_3   \n",
      "28   ACTIVE 0 days 00:15:42.824591 1970-01-01 01:28:34.122956  cp_activity_28   \n",
      "29   ACTIVE        0 days 00:02:00 1970-01-01 01:30:34.122956  cp_activity_34   \n",
      "30   ACTIVE        0 days 00:02:00 1970-01-01 01:30:34.122956  cp_activity_34   \n",
      "31   ACTIVE        0 days 00:01:00 1970-01-01 01:31:34.122956  cp_activity_16   \n",
      "32   ACTIVE 0 days 00:15:42.824592 1970-01-01 01:46:16.947548  cp_activity_24   \n",
      "33   ACTIVE        0 days 00:02:00 1970-01-01 01:33:34.122956  cp_activity_39   \n",
      "34   ACTIVE        0 days 00:02:00 1970-01-01 01:33:34.122956  cp_activity_39   \n",
      "35   ACTIVE        0 days 00:00:30 1970-01-01 01:34:04.122956   cp_activity_9   \n",
      "36  WAITING 0 days 00:31:55.649183 1970-01-01 02:05:59.772139  cp_activity_17   \n",
      "37   ACTIVE        0 days 00:02:00 1970-01-01 01:48:16.947548   cp_activity_4   \n",
      "38   ACTIVE        0 days 00:02:00 1970-01-01 01:48:16.947548   cp_activity_4   \n",
      "39   ACTIVE 0 days 00:15:42.824591 1970-01-01 02:03:59.772139  cp_activity_29   \n",
      "40   ACTIVE        0 days 00:02:00 1970-01-01 02:05:59.772139  cp_activity_35   \n",
      "41   ACTIVE        0 days 00:02:00 1970-01-01 02:05:59.772139  cp_activity_35   \n",
      "42   ACTIVE        0 days 00:01:00 1970-01-01 02:06:59.772139  cp_activity_18   \n",
      "43   ACTIVE 0 days 00:15:42.824591 1970-01-01 02:21:42.596730  cp_activity_25   \n",
      "44   ACTIVE        0 days 00:02:00 1970-01-01 02:08:59.772139  cp_activity_40   \n",
      "45   ACTIVE        0 days 00:02:00 1970-01-01 02:08:59.772139  cp_activity_40   \n",
      "46   ACTIVE        0 days 00:00:30 1970-01-01 02:09:29.772139  cp_activity_10   \n",
      "47  WAITING 0 days 00:31:55.649182 1970-01-01 02:41:25.421321  cp_activity_19   \n",
      "48   ACTIVE        0 days 00:02:00 1970-01-01 02:23:42.596730   cp_activity_5   \n",
      "49   ACTIVE        0 days 00:02:00 1970-01-01 02:23:42.596730   cp_activity_5   \n",
      "50   ACTIVE 0 days 00:15:42.824591 1970-01-01 02:39:25.421321  cp_activity_30   \n",
      "51   ACTIVE        0 days 00:02:00 1970-01-01 02:41:25.421321  cp_activity_36   \n",
      "52   ACTIVE        0 days 00:02:00 1970-01-01 02:41:25.421321  cp_activity_36   \n",
      "53   ACTIVE        0 days 00:01:00 1970-01-01 02:42:25.421321  cp_activity_20   \n",
      "54   ACTIVE        0 days 00:02:00 1970-01-01 02:44:25.421321  cp_activity_41   \n",
      "55   ACTIVE        0 days 00:02:00 1970-01-01 02:44:25.421321  cp_activity_41   \n",
      "\n",
      "    is_critical  \n",
      "0          True  \n",
      "1          True  \n",
      "2          True  \n",
      "3          True  \n",
      "4          True  \n",
      "5          True  \n",
      "6          True  \n",
      "7          True  \n",
      "8          True  \n",
      "9          True  \n",
      "10        False  \n",
      "11         True  \n",
      "12         True  \n",
      "13         True  \n",
      "14         True  \n",
      "15        False  \n",
      "16        False  \n",
      "17        False  \n",
      "18        False  \n",
      "19        False  \n",
      "20         True  \n",
      "21        False  \n",
      "22         True  \n",
      "23         True  \n",
      "24         True  \n",
      "25         True  \n",
      "26        False  \n",
      "27        False  \n",
      "28        False  \n",
      "29        False  \n",
      "30        False  \n",
      "31         True  \n",
      "32        False  \n",
      "33         True  \n",
      "34         True  \n",
      "35         True  \n",
      "36         True  \n",
      "37        False  \n",
      "38        False  \n",
      "39        False  \n",
      "40        False  \n",
      "41        False  \n",
      "42         True  \n",
      "43        False  \n",
      "44         True  \n",
      "45         True  \n",
      "46         True  \n",
      "47         True  \n",
      "48        False  \n",
      "49        False  \n",
      "50        False  \n",
      "51        False  \n",
      "52        False  \n",
      "53         True  \n",
      "54         True  \n",
      "55         True  \n"
     ]
    }
   ],
   "source": [
    "# plot.get_gantt_chart([transporter01, installer01, from_site, to_site],id_map=[transport_activity, installer_move_sequential_activity])\n",
    "# compute critical path and plot\n",
    "from openclsim.plot.superlog import get_superlog_with_critical_path\n",
    "df_superlog = get_superlog_with_critical_path([transporter01, installer01, from_site, to_site],\n",
    "                                              id_map=[transport_activity, installer_move_sequential_activity])\n",
    "plot.get_gantt_chart([transporter01, installer01, from_site, to_site],\n",
    "                     id_map=[transport_activity, installer_move_sequential_activity],\n",
    "                    critical_path_superlog=df_superlog)\n",
    "print(df_superlog)\n",
    "\n"
   ]
  },
  {
   "cell_type": "markdown",
   "metadata": {},
   "source": [
    "##### 5.3 Visualise container volume developments"
   ]
  },
  {
   "cell_type": "code",
   "execution_count": 14,
   "metadata": {},
   "outputs": [
    {
     "data": {
      "image/png": "[encoded data removed]",
      "text/plain": [
       "<Figure size 1008x504 with 1 Axes>"
      ]
     },
     "metadata": {
      "needs_background": "light"
     },
     "output_type": "display_data"
    }
   ],
   "source": [
    "fig = plot.get_step_chart([from_site, to_site])"
   ]
  },
  {
   "cell_type": "code",
   "execution_count": 15,
   "metadata": {},
   "outputs": [
    {
     "data": {
      "image/png": "[encoded data removed]",
      "text/plain": [
       "<Figure size 1008x504 with 1 Axes>"
      ]
     },
     "metadata": {
      "needs_background": "light"
     },
     "output_type": "display_data"
    }
   ],
   "source": [
    "fig = plot.get_step_chart([transporter01, installer01])"
   ]
  }
 ],
 "metadata": {
  "kernelspec": {
   "display_name": "Python 3 (ipykernel)",
   "language": "python",
   "name": "python3"
  },
  "language_info": {
   "codemirror_mode": {
    "name": "ipython",
    "version": 3
   },
   "file_extension": ".py",
   "mimetype": "text/x-python",
   "name": "python",
   "nbconvert_exporter": "python",
   "pygments_lexer": "ipython3",
   "version": "3.9.12"
  }
 },
 "nbformat": 4,
 "nbformat_minor": 2
}
