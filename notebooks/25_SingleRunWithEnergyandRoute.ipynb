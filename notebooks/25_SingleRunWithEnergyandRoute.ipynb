{
 "cells": [
  {
   "cell_type": "markdown",
   "metadata": {},
   "source": [
    "## Demo: repeating a subcycle until a stop condition is triggered with energy and route\n",
    "The basic steps to set up an OpenCLSim simulation are:\n",
    "* Import libraries\n",
    "* Initialise simpy environment\n",
    "* Define object classes\n",
    "* Create objects\n",
    "  * Create sites\n",
    "  * Create vessels\n",
    "  * Create activities\n",
    "* Register processes and run simpy\n",
    "\n",
    "----\n",
    "\n",
    "This notebook provides an example of a simulation that takes a number of sub processes, grouped in a sequential activity, that is **executed while a stop condition is not yet met**.\n",
    "\n",
    "For this example we work with the following sub processes:\n",
    "* sailing empty\n",
    "* loading\n",
    "* sailing full\n",
    "* unloading"
   ]
  },
  {
   "cell_type": "markdown",
   "metadata": {},
   "source": [
    "#### 0. Import libraries"
   ]
  },
  {
   "cell_type": "code",
   "execution_count": 23,
   "metadata": {},
   "outputs": [],
   "source": [
    "import datetime, time\n",
    "import simpy\n",
    "import logging\n",
    "\n",
    "import shapely.geometry\n",
    "import pandas as pd\n",
    "\n",
    "import openclsim.core as core\n",
    "import openclsim.model as model\n",
    "import openclsim.plot as plot\n",
    "\n",
    "# Used for making the graph to visualize our problem\n",
    "import networkx as nx \n",
    "import matplotlib.pyplot as plt\n",
    "\n",
    "import openclsim\n",
    "\n",
    "logger = logging.basicConfig(level=logging.INFO)\n",
    "logging.root.setLevel(level=logging.INFO)"
   ]
  },
  {
   "cell_type": "code",
   "execution_count": 2,
   "metadata": {},
   "outputs": [],
   "source": [
    "import opentnsim.core"
   ]
  },
  {
   "cell_type": "markdown",
   "metadata": {},
   "source": [
    "#### 1. Initialise simpy environment"
   ]
  },
  {
   "cell_type": "code",
   "execution_count": 3,
   "metadata": {},
   "outputs": [],
   "source": [
    "# setup environment\n",
    "simulation_start = 0\n",
    "my_env = simpy.Environment(initial_time=simulation_start)"
   ]
  },
  {
   "cell_type": "markdown",
   "metadata": {},
   "source": [
    "#### 1.1 Create graph"
   ]
  },
  {
   "cell_type": "code",
   "execution_count": 4,
   "metadata": {},
   "outputs": [],
   "source": [
    "# specify a number of coordinate along your route (coords are: lon, lat)\n",
    "coords = [\n",
    "[4.651810765193616,53.06520633542454],\n",
    "[4.665949515416939,53.06291148049787], \n",
    "[4.678223920527591,53.06107438344198], \n",
    "[4.688183738253528,53.05974704102928], \n",
    "[4.69785320390846 ,53.05828289064841], \n",
    "[4.704381491443237,53.05728100125996], \n",
    "[4.709772259231658,53.05656711326854]] \n",
    "\n",
    "# for each edge (between above coordinates) specify the depth (m)\n",
    "depths = [20, 18, 16, 14, 11, 8]\n",
    "\n",
    "# check of nr of coords and nr of depths align\n",
    "assert len(coords) == len(depths) + 1, 'nr of depths does not correspond to nr of coords'"
   ]
  },
  {
   "cell_type": "code",
   "execution_count": 5,
   "metadata": {},
   "outputs": [],
   "source": [
    "# create a graph based on coords and depths\n",
    "FG = nx.DiGraph()\n",
    "nodes = []\n",
    "path = []\n",
    "\n",
    "# add nodes\n",
    "Node = type('Site', (opentnsim.core.Identifiable, opentnsim.core.Locatable), {})\n",
    "\n",
    "for index, coord in enumerate(coords):\n",
    "    data_node = {\"name\": \"Node \" + str(index), \"geometry\": shapely.geometry.Point(coord[0], coord[1])}\n",
    "    nodes.append(Node(**data_node))\n",
    "    \n",
    "positions = {}\n",
    "for node in nodes:\n",
    "    positions[node.name] = (node.geometry.x, node.geometry.y)\n",
    "    FG.add_node(node.name, geometry = node.geometry)\n",
    "\n",
    "# add edges\n",
    "path = [[nodes[i], nodes[i+1]] for i in range(len(nodes)-1)]\n",
    "\n",
    "for index, edge in enumerate(path):\n",
    "    # For the energy consumption calculation we add info to the graph. We need depth info for resistance.\n",
    "    # NB: the CalculateEnergy routine expects the graph to have \"Info\" that contains \"GeneralDepth\" \n",
    "    #     this may not be very generic!\n",
    "    FG.add_edge(edge[0].name, edge[1].name, weight = 1, Info = {\"GeneralDepth\": depths[index]})\n",
    "\n",
    "# toggle to undirected and back to directed to make sure all edges are two way traffic\n",
    "FG = FG.to_undirected() \n",
    "FG = FG.to_directed() "
   ]
  },
  {
   "cell_type": "code",
   "execution_count": 6,
   "metadata": {},
   "outputs": [
    {
     "data": {
      "image/png": "[encoded data removed]",
      "text/plain": [
       "<Figure size 432x288 with 1 Axes>"
      ]
     },
     "metadata": {},
     "output_type": "display_data"
    }
   ],
   "source": [
    "# show graph\n",
    "nx.draw(FG, positions)\n",
    "plt.show()"
   ]
  },
  {
   "cell_type": "code",
   "execution_count": 7,
   "metadata": {},
   "outputs": [
    {
     "name": "stdout",
     "output_type": "stream",
     "text": [
      "Node 0, Node 1: general depth 20 m\n",
      "Node 1, Node 0: general depth 20 m\n",
      "Node 1, Node 2: general depth 18 m\n",
      "Node 2, Node 1: general depth 18 m\n",
      "Node 2, Node 3: general depth 16 m\n",
      "Node 3, Node 2: general depth 16 m\n",
      "Node 3, Node 4: general depth 14 m\n",
      "Node 4, Node 3: general depth 14 m\n",
      "Node 4, Node 5: general depth 11 m\n",
      "Node 5, Node 4: general depth 11 m\n",
      "Node 5, Node 6: general depth 8 m\n",
      "Node 6, Node 5: general depth 8 m\n"
     ]
    }
   ],
   "source": [
    "# inspect if properties were set correctly\n",
    "for edge in FG.edges(data = True):\n",
    "    print('{}, {}: general depth {} m'.format(edge[0], edge[1], FG.edges[(edge[0], edge[1])]['Info']['GeneralDepth']))"
   ]
  },
  {
   "cell_type": "code",
   "execution_count": 8,
   "metadata": {},
   "outputs": [],
   "source": [
    "my_env.FG = FG"
   ]
  },
  {
   "cell_type": "markdown",
   "metadata": {},
   "source": [
    "#### 2. Define object classes"
   ]
  },
  {
   "cell_type": "code",
   "execution_count": 10,
   "metadata": {},
   "outputs": [],
   "source": [
    "# create a Site object based on desired mixin classes\n",
    "Site = type(\n",
    "    \"Site\",\n",
    "    (\n",
    "        core.Identifiable,\n",
    "        core.Log,\n",
    "        core.Locatable,\n",
    "        core.HasContainer,\n",
    "        core.HasResource,\n",
    "    ),\n",
    "    {},\n",
    ")\n",
    "\n",
    "class OpenCLSimishMove(opentnsim.core.ContainerDependentMovable):\n",
    "    def move(self, destination, *args, **kwargs):\n",
    "        if self.geometry == destination.geometry:\n",
    "            print(\"we are already at\", destination)\n",
    "            yield self.env.timeout(0)\n",
    "        else:\n",
    "            print('ignoring', args, kwargs, \"we were at\", self.geometry, \"setting sail for\", destination.geometry)\n",
    "            yield from opentnsim.core.ContainerDependentMovable.move(self)\n",
    "            print(\"we are at\", self.geometry)\n",
    "\n",
    "    \n",
    "# create a TransportProcessingResource object based on desired mixin classes\n",
    "TransportProcessingResource = type(\n",
    "    \"TransportProcessingResource\",\n",
    "    (\n",
    "        core.Identifiable,\n",
    "        core.Log,\n",
    "        core.Processor,\n",
    "        core.HasResource,\n",
    "        core.LoadingFunction,\n",
    "        core.UnloadingFunction,\n",
    "        OpenCLSimishMove,\n",
    "        opentnsim.core.VesselProperties,\n",
    "        opentnsim.core.Routeable,\n",
    "        opentnsim.energy.ConsumesEnergy,\n",
    "        opentnsim.core.ExtraMetadata,\n",
    "    ),\n",
    "    {},\n",
    ")\n",
    "\n",
    "\n",
    "# class TransportProcessingResource(opentnsim.core.SimpyObject):\n",
    "#     def __init__(self, env, *args, **kwargs):\n",
    "#         print(f\"not using {args}, {kwargs}\")\n",
    "#         super().__init__(env)\n",
    "#         self.resource = simpy.Resource(self.env, capacity=1)\n",
    "#     def move(self, destination, engine_order, *args, **kwargs):\n",
    "#         print(self, destination, engine_order, args, kwargs)\n",
    "#         yield self.env.timeout(100)\n"
   ]
  },
  {
   "cell_type": "markdown",
   "metadata": {},
   "source": [
    "#### 3. Create objects\n",
    "##### 3.1. Create site object(s)"
   ]
  },
  {
   "cell_type": "code",
   "execution_count": 11,
   "metadata": {},
   "outputs": [],
   "source": [
    "# prepare input data for from_site\n",
    "location_from_site = FG.nodes(data = True)['Node 0']['geometry']\n",
    "data_from_site = {\"env\": my_env,\n",
    "                  \"name\": \"from_site\",\n",
    "                  \"geometry\": location_from_site,\n",
    "                  \"capacity\": 100,\n",
    "                  \"level\": 50\n",
    "                 }\n",
    "# instantiate from_site \n",
    "from_site = Site(**data_from_site)\n",
    "\n",
    "# prepare input data for to_site\n",
    "location_to_site = FG.nodes(data = True)['Node 6']['geometry']\n",
    "data_to_site = {\"env\": my_env,\n",
    "                \"name\": \"to_site\",\n",
    "                \"geometry\": location_to_site,\n",
    "                \"capacity\": 50,\n",
    "                \"level\": 0\n",
    "               }\n",
    "# instantiate to_site \n",
    "to_site = Site(**data_to_site)"
   ]
  },
  {
   "cell_type": "markdown",
   "metadata": {},
   "source": [
    "##### 3.2. Create vessel object(s)"
   ]
  },
  {
   "cell_type": "code",
   "execution_count": 22,
   "metadata": {
    "scrolled": false
   },
   "outputs": [
    {
     "ename": "TypeError",
     "evalue": "__init__() missing 1 required positional argument: 'env'",
     "output_type": "error",
     "traceback": [
      "\u001b[1;31m---------------------------------------------------------------------------\u001b[0m",
      "\u001b[1;31mTypeError\u001b[0m                                 Traceback (most recent call last)",
      "Input \u001b[1;32mIn [22]\u001b[0m, in \u001b[0;36m<cell line: 24>\u001b[1;34m()\u001b[0m\n\u001b[0;32m      2\u001b[0m data_vessel01 \u001b[38;5;241m=\u001b[39m {\u001b[38;5;124m\"\u001b[39m\u001b[38;5;124menv\u001b[39m\u001b[38;5;124m\"\u001b[39m: my_env,\n\u001b[0;32m      3\u001b[0m                  \u001b[38;5;124m\"\u001b[39m\u001b[38;5;124mname\u001b[39m\u001b[38;5;124m\"\u001b[39m: \u001b[38;5;124m\"\u001b[39m\u001b[38;5;124mvessel01\u001b[39m\u001b[38;5;124m\"\u001b[39m,\n\u001b[0;32m      4\u001b[0m                  \u001b[38;5;124m\"\u001b[39m\u001b[38;5;124mgeometry\u001b[39m\u001b[38;5;124m\"\u001b[39m: location_from_site, \n\u001b[1;32m   (...)\u001b[0m\n\u001b[0;32m     21\u001b[0m                  \n\u001b[0;32m     22\u001b[0m                }\n\u001b[0;32m     23\u001b[0m \u001b[38;5;66;03m# instantiate vessel_01 \u001b[39;00m\n\u001b[1;32m---> 24\u001b[0m vessel01 \u001b[38;5;241m=\u001b[39m TransportProcessingResource(\u001b[38;5;241m*\u001b[39m\u001b[38;5;241m*\u001b[39mdata_vessel01)\n",
      "File \u001b[1;32mc:\\users\\mrv\\onedrive - van oord\\software\\github\\openclsim\\src\\openclsim\\core\\identifiable.py:25\u001b[0m, in \u001b[0;36mIdentifiable.__init__\u001b[1;34m(self, name, ID, *args, **kwargs)\u001b[0m\n\u001b[0;32m     24\u001b[0m \u001b[38;5;28;01mdef\u001b[39;00m \u001b[38;5;21m__init__\u001b[39m(\u001b[38;5;28mself\u001b[39m, name: \u001b[38;5;28mstr\u001b[39m, ID: \u001b[38;5;28mstr\u001b[39m \u001b[38;5;241m=\u001b[39m \u001b[38;5;28;01mNone\u001b[39;00m, \u001b[38;5;241m*\u001b[39margs, \u001b[38;5;241m*\u001b[39m\u001b[38;5;241m*\u001b[39mkwargs):\n\u001b[1;32m---> 25\u001b[0m     \u001b[38;5;28msuper\u001b[39m()\u001b[38;5;241m.\u001b[39m\u001b[38;5;21m__init__\u001b[39m(\u001b[38;5;241m*\u001b[39margs, \u001b[38;5;241m*\u001b[39m\u001b[38;5;241m*\u001b[39mkwargs)\n\u001b[0;32m     26\u001b[0m     \u001b[38;5;28mself\u001b[39m\u001b[38;5;241m.\u001b[39mname \u001b[38;5;241m=\u001b[39m name\n\u001b[0;32m     27\u001b[0m     \u001b[38;5;28mself\u001b[39m\u001b[38;5;241m.\u001b[39mid \u001b[38;5;241m=\u001b[39m ID \u001b[38;5;28;01mif\u001b[39;00m ID \u001b[38;5;28;01melse\u001b[39;00m \u001b[38;5;28mstr\u001b[39m(uuid\u001b[38;5;241m.\u001b[39muuid4())\n",
      "File \u001b[1;32mc:\\users\\mrv\\onedrive - van oord\\software\\github\\openclsim\\src\\openclsim\\core\\log.py:26\u001b[0m, in \u001b[0;36mLog.__init__\u001b[1;34m(self, *args, **kwargs)\u001b[0m\n\u001b[0;32m     25\u001b[0m \u001b[38;5;28;01mdef\u001b[39;00m \u001b[38;5;21m__init__\u001b[39m(\u001b[38;5;28mself\u001b[39m, \u001b[38;5;241m*\u001b[39margs, \u001b[38;5;241m*\u001b[39m\u001b[38;5;241m*\u001b[39mkwargs):\n\u001b[1;32m---> 26\u001b[0m     \u001b[38;5;28msuper\u001b[39m()\u001b[38;5;241m.\u001b[39m\u001b[38;5;21m__init__\u001b[39m(\u001b[38;5;241m*\u001b[39margs, \u001b[38;5;241m*\u001b[39m\u001b[38;5;241m*\u001b[39mkwargs)\n\u001b[0;32m     27\u001b[0m     \u001b[38;5;124;03m\"\"\"Initialization\"\"\"\u001b[39;00m\n\u001b[0;32m     28\u001b[0m     \u001b[38;5;28mself\u001b[39m\u001b[38;5;241m.\u001b[39mlog \u001b[38;5;241m=\u001b[39m {\n\u001b[0;32m     29\u001b[0m         \u001b[38;5;124m\"\u001b[39m\u001b[38;5;124mTimestamp\u001b[39m\u001b[38;5;124m\"\u001b[39m: [],\n\u001b[0;32m     30\u001b[0m         \u001b[38;5;124m\"\u001b[39m\u001b[38;5;124mActivityID\u001b[39m\u001b[38;5;124m\"\u001b[39m: [],\n\u001b[1;32m   (...)\u001b[0m\n\u001b[0;32m     33\u001b[0m         \u001b[38;5;124m\"\u001b[39m\u001b[38;5;124mActivityLabel\u001b[39m\u001b[38;5;124m\"\u001b[39m: [],\n\u001b[0;32m     34\u001b[0m     }\n",
      "File \u001b[1;32mc:\\users\\mrv\\onedrive - van oord\\software\\github\\openclsim\\src\\openclsim\\core\\processor.py:25\u001b[0m, in \u001b[0;36mProcessor.__init__\u001b[1;34m(self, *args, **kwargs)\u001b[0m\n\u001b[0;32m     24\u001b[0m \u001b[38;5;28;01mdef\u001b[39;00m \u001b[38;5;21m__init__\u001b[39m(\u001b[38;5;28mself\u001b[39m, \u001b[38;5;241m*\u001b[39margs, \u001b[38;5;241m*\u001b[39m\u001b[38;5;241m*\u001b[39mkwargs):\n\u001b[1;32m---> 25\u001b[0m     \u001b[38;5;28msuper\u001b[39m()\u001b[38;5;241m.\u001b[39m\u001b[38;5;21m__init__\u001b[39m(\u001b[38;5;241m*\u001b[39margs, \u001b[38;5;241m*\u001b[39m\u001b[38;5;241m*\u001b[39mkwargs)\n\u001b[0;32m     26\u001b[0m     \u001b[38;5;124;03m\"\"\"Initialization\"\"\"\u001b[39;00m\n",
      "File \u001b[1;32mc:\\users\\mrv\\onedrive - van oord\\software\\github\\openclsim\\src\\openclsim\\core\\resource.py:24\u001b[0m, in \u001b[0;36mHasResource.__init__\u001b[1;34m(self, nr_resources, *args, **kwargs)\u001b[0m\n\u001b[0;32m     23\u001b[0m \u001b[38;5;28;01mdef\u001b[39;00m \u001b[38;5;21m__init__\u001b[39m(\u001b[38;5;28mself\u001b[39m, nr_resources: \u001b[38;5;28mint\u001b[39m \u001b[38;5;241m=\u001b[39m \u001b[38;5;241m1\u001b[39m, \u001b[38;5;241m*\u001b[39margs, \u001b[38;5;241m*\u001b[39m\u001b[38;5;241m*\u001b[39mkwargs):\n\u001b[1;32m---> 24\u001b[0m     \u001b[38;5;28msuper\u001b[39m()\u001b[38;5;241m.\u001b[39m\u001b[38;5;21m__init__\u001b[39m(\u001b[38;5;241m*\u001b[39margs, \u001b[38;5;241m*\u001b[39m\u001b[38;5;241m*\u001b[39mkwargs)\n\u001b[0;32m     25\u001b[0m     \u001b[38;5;124;03m\"\"\"Initialization\"\"\"\u001b[39;00m\n\u001b[0;32m     26\u001b[0m     \u001b[38;5;28mself\u001b[39m\u001b[38;5;241m.\u001b[39mresource \u001b[38;5;241m=\u001b[39m simpy\u001b[38;5;241m.\u001b[39mResource(\u001b[38;5;28mself\u001b[39m\u001b[38;5;241m.\u001b[39menv, capacity\u001b[38;5;241m=\u001b[39mnr_resources)\n",
      "File \u001b[1;32mc:\\users\\mrv\\onedrive - van oord\\software\\github\\openclsim\\src\\openclsim\\core\\simpy_object.py:15\u001b[0m, in \u001b[0;36mSimpyObject.__init__\u001b[1;34m(self, env, *args, **kwargs)\u001b[0m\n\u001b[0;32m     14\u001b[0m \u001b[38;5;28;01mdef\u001b[39;00m \u001b[38;5;21m__init__\u001b[39m(\u001b[38;5;28mself\u001b[39m, env, \u001b[38;5;241m*\u001b[39margs, \u001b[38;5;241m*\u001b[39m\u001b[38;5;241m*\u001b[39mkwargs):\n\u001b[1;32m---> 15\u001b[0m     \u001b[38;5;28msuper\u001b[39m()\u001b[38;5;241m.\u001b[39m\u001b[38;5;21m__init__\u001b[39m(\u001b[38;5;241m*\u001b[39margs, \u001b[38;5;241m*\u001b[39m\u001b[38;5;241m*\u001b[39mkwargs)\n\u001b[0;32m     16\u001b[0m     \u001b[38;5;28mself\u001b[39m\u001b[38;5;241m.\u001b[39menv \u001b[38;5;241m=\u001b[39m env\n",
      "File \u001b[1;32mc:\\users\\mrv\\onedrive - van oord\\software\\github\\openclsim\\src\\openclsim\\core\\processor.py:204\u001b[0m, in \u001b[0;36mLoadingFunction.__init__\u001b[1;34m(self, loading_rate, load_manoeuvring, *args, **kwargs)\u001b[0m\n\u001b[0;32m    201\u001b[0m \u001b[38;5;28;01mdef\u001b[39;00m \u001b[38;5;21m__init__\u001b[39m(\n\u001b[0;32m    202\u001b[0m     \u001b[38;5;28mself\u001b[39m, loading_rate: \u001b[38;5;28mfloat\u001b[39m, load_manoeuvring: \u001b[38;5;28mfloat\u001b[39m \u001b[38;5;241m=\u001b[39m \u001b[38;5;241m0\u001b[39m, \u001b[38;5;241m*\u001b[39margs, \u001b[38;5;241m*\u001b[39m\u001b[38;5;241m*\u001b[39mkwargs\n\u001b[0;32m    203\u001b[0m ):\n\u001b[1;32m--> 204\u001b[0m     \u001b[38;5;28msuper\u001b[39m()\u001b[38;5;241m.\u001b[39m\u001b[38;5;21m__init__\u001b[39m(\u001b[38;5;241m*\u001b[39margs, \u001b[38;5;241m*\u001b[39m\u001b[38;5;241m*\u001b[39mkwargs)\n\u001b[0;32m    205\u001b[0m     \u001b[38;5;124;03m\"\"\"Initialization\"\"\"\u001b[39;00m\n\u001b[0;32m    206\u001b[0m     \u001b[38;5;28mself\u001b[39m\u001b[38;5;241m.\u001b[39mloading_rate \u001b[38;5;241m=\u001b[39m loading_rate\n",
      "File \u001b[1;32mc:\\users\\mrv\\onedrive - van oord\\software\\github\\openclsim\\src\\openclsim\\core\\processor.py:247\u001b[0m, in \u001b[0;36mUnloadingFunction.__init__\u001b[1;34m(self, unloading_rate, unload_manoeuvring, *args, **kwargs)\u001b[0m\n\u001b[0;32m    244\u001b[0m \u001b[38;5;28;01mdef\u001b[39;00m \u001b[38;5;21m__init__\u001b[39m(\n\u001b[0;32m    245\u001b[0m     \u001b[38;5;28mself\u001b[39m, unloading_rate: \u001b[38;5;28mfloat\u001b[39m, unload_manoeuvring: \u001b[38;5;28mfloat\u001b[39m \u001b[38;5;241m=\u001b[39m \u001b[38;5;241m0\u001b[39m, \u001b[38;5;241m*\u001b[39margs, \u001b[38;5;241m*\u001b[39m\u001b[38;5;241m*\u001b[39mkwargs\n\u001b[0;32m    246\u001b[0m ):\n\u001b[1;32m--> 247\u001b[0m     \u001b[38;5;28msuper\u001b[39m()\u001b[38;5;241m.\u001b[39m\u001b[38;5;21m__init__\u001b[39m(\u001b[38;5;241m*\u001b[39margs, \u001b[38;5;241m*\u001b[39m\u001b[38;5;241m*\u001b[39mkwargs)\n\u001b[0;32m    248\u001b[0m     \u001b[38;5;124;03m\"\"\"Initialization\"\"\"\u001b[39;00m\n\u001b[0;32m    249\u001b[0m     \u001b[38;5;28mself\u001b[39m\u001b[38;5;241m.\u001b[39munloading_rate \u001b[38;5;241m=\u001b[39m unloading_rate\n",
      "File \u001b[1;32mc:\\users\\mrv\\onedrive - van oord\\software\\github\\opentnsim\\opentnsim\\core.py:558\u001b[0m, in \u001b[0;36mContainerDependentMovable.__init__\u001b[1;34m(self, compute_v, *args, **kwargs)\u001b[0m\n\u001b[0;32m    557\u001b[0m \u001b[38;5;28;01mdef\u001b[39;00m \u001b[38;5;21m__init__\u001b[39m(\u001b[38;5;28mself\u001b[39m, compute_v, \u001b[38;5;241m*\u001b[39margs, \u001b[38;5;241m*\u001b[39m\u001b[38;5;241m*\u001b[39mkwargs):\n\u001b[1;32m--> 558\u001b[0m     \u001b[38;5;28msuper\u001b[39m()\u001b[38;5;241m.\u001b[39m\u001b[38;5;21m__init__\u001b[39m(\u001b[38;5;241m*\u001b[39margs, \u001b[38;5;241m*\u001b[39m\u001b[38;5;241m*\u001b[39mkwargs)\n\u001b[0;32m    559\u001b[0m     \u001b[38;5;124;03m\"\"\"Initialization\"\"\"\u001b[39;00m\n\u001b[0;32m    560\u001b[0m     \u001b[38;5;28mself\u001b[39m\u001b[38;5;241m.\u001b[39mcompute_v \u001b[38;5;241m=\u001b[39m compute_v\n",
      "File \u001b[1;32mc:\\users\\mrv\\onedrive - van oord\\software\\github\\opentnsim\\opentnsim\\core.py:377\u001b[0m, in \u001b[0;36mMovable.__init__\u001b[1;34m(self, v, *args, **kwargs)\u001b[0m\n\u001b[0;32m    376\u001b[0m \u001b[38;5;28;01mdef\u001b[39;00m \u001b[38;5;21m__init__\u001b[39m(\u001b[38;5;28mself\u001b[39m, v, \u001b[38;5;241m*\u001b[39margs, \u001b[38;5;241m*\u001b[39m\u001b[38;5;241m*\u001b[39mkwargs):\n\u001b[1;32m--> 377\u001b[0m     \u001b[38;5;28msuper\u001b[39m()\u001b[38;5;241m.\u001b[39m\u001b[38;5;21m__init__\u001b[39m(\u001b[38;5;241m*\u001b[39margs, \u001b[38;5;241m*\u001b[39m\u001b[38;5;241m*\u001b[39mkwargs)\n\u001b[0;32m    378\u001b[0m     \u001b[38;5;124;03m\"\"\"Initialization\"\"\"\u001b[39;00m\n\u001b[0;32m    379\u001b[0m     \u001b[38;5;28mself\u001b[39m\u001b[38;5;241m.\u001b[39mv \u001b[38;5;241m=\u001b[39m v\n",
      "File \u001b[1;32mc:\\users\\mrv\\onedrive - van oord\\software\\github\\opentnsim\\opentnsim\\core.py:76\u001b[0m, in \u001b[0;36mLocatable.__init__\u001b[1;34m(self, geometry, node, *args, **kwargs)\u001b[0m\n\u001b[0;32m     75\u001b[0m \u001b[38;5;28;01mdef\u001b[39;00m \u001b[38;5;21m__init__\u001b[39m(\u001b[38;5;28mself\u001b[39m, geometry, node\u001b[38;5;241m=\u001b[39m\u001b[38;5;28;01mNone\u001b[39;00m, \u001b[38;5;241m*\u001b[39margs, \u001b[38;5;241m*\u001b[39m\u001b[38;5;241m*\u001b[39mkwargs):\n\u001b[1;32m---> 76\u001b[0m     \u001b[38;5;28msuper\u001b[39m()\u001b[38;5;241m.\u001b[39m\u001b[38;5;21m__init__\u001b[39m(\u001b[38;5;241m*\u001b[39margs, \u001b[38;5;241m*\u001b[39m\u001b[38;5;241m*\u001b[39mkwargs)\n\u001b[0;32m     77\u001b[0m     \u001b[38;5;124;03m\"\"\"Initialization\"\"\"\u001b[39;00m\n\u001b[0;32m     78\u001b[0m     \u001b[38;5;28mself\u001b[39m\u001b[38;5;241m.\u001b[39mgeometry \u001b[38;5;241m=\u001b[39m geometry\n",
      "File \u001b[1;32mc:\\users\\mrv\\onedrive - van oord\\software\\github\\opentnsim\\opentnsim\\core.py:245\u001b[0m, in \u001b[0;36mVesselProperties.__init__\u001b[1;34m(self, type, B, L, h_min, T, safety_margin, h_squat, payload, vessel_type, renewable_fuel_mass, renewable_fuel_volume, renewable_fuel_required_space, *args, **kwargs)\u001b[0m\n\u001b[0;32m    228\u001b[0m \u001b[38;5;28;01mdef\u001b[39;00m \u001b[38;5;21m__init__\u001b[39m(\n\u001b[0;32m    229\u001b[0m     \u001b[38;5;28mself\u001b[39m,\n\u001b[0;32m    230\u001b[0m     \u001b[38;5;28mtype\u001b[39m,\n\u001b[1;32m   (...)\u001b[0m\n\u001b[0;32m    243\u001b[0m     \u001b[38;5;241m*\u001b[39m\u001b[38;5;241m*\u001b[39mkwargs\n\u001b[0;32m    244\u001b[0m ):\n\u001b[1;32m--> 245\u001b[0m     \u001b[38;5;28msuper\u001b[39m()\u001b[38;5;241m.\u001b[39m\u001b[38;5;21m__init__\u001b[39m(\u001b[38;5;241m*\u001b[39margs, \u001b[38;5;241m*\u001b[39m\u001b[38;5;241m*\u001b[39mkwargs)\n\u001b[0;32m    247\u001b[0m     \u001b[38;5;124;03m\"\"\"Initialization\u001b[39;00m\n\u001b[0;32m    248\u001b[0m \u001b[38;5;124;03m    \"\"\"\u001b[39;00m\n\u001b[0;32m    249\u001b[0m     \u001b[38;5;28mself\u001b[39m\u001b[38;5;241m.\u001b[39mtype \u001b[38;5;241m=\u001b[39m \u001b[38;5;28mtype\u001b[39m\n",
      "File \u001b[1;32mc:\\users\\mrv\\onedrive - van oord\\software\\github\\opentnsim\\opentnsim\\core.py:361\u001b[0m, in \u001b[0;36mRouteable.__init__\u001b[1;34m(self, route, complete_path, *args, **kwargs)\u001b[0m\n\u001b[0;32m    360\u001b[0m \u001b[38;5;28;01mdef\u001b[39;00m \u001b[38;5;21m__init__\u001b[39m(\u001b[38;5;28mself\u001b[39m, route, complete_path\u001b[38;5;241m=\u001b[39m\u001b[38;5;28;01mNone\u001b[39;00m, \u001b[38;5;241m*\u001b[39margs, \u001b[38;5;241m*\u001b[39m\u001b[38;5;241m*\u001b[39mkwargs):\n\u001b[1;32m--> 361\u001b[0m     \u001b[38;5;28msuper\u001b[39m()\u001b[38;5;241m.\u001b[39m\u001b[38;5;21m__init__\u001b[39m(\u001b[38;5;241m*\u001b[39margs, \u001b[38;5;241m*\u001b[39m\u001b[38;5;241m*\u001b[39mkwargs)\n\u001b[0;32m    362\u001b[0m     \u001b[38;5;124;03m\"\"\"Initialization\"\"\"\u001b[39;00m\n\u001b[0;32m    363\u001b[0m     \u001b[38;5;28mself\u001b[39m\u001b[38;5;241m.\u001b[39mroute \u001b[38;5;241m=\u001b[39m route\n",
      "File \u001b[1;32mc:\\users\\mrv\\onedrive - van oord\\software\\github\\opentnsim\\opentnsim\\core.py:146\u001b[0m, in \u001b[0;36mLog.__init__\u001b[1;34m(self, *args, **kwargs)\u001b[0m\n\u001b[0;32m    145\u001b[0m \u001b[38;5;28;01mdef\u001b[39;00m \u001b[38;5;21m__init__\u001b[39m(\u001b[38;5;28mself\u001b[39m, \u001b[38;5;241m*\u001b[39margs, \u001b[38;5;241m*\u001b[39m\u001b[38;5;241m*\u001b[39mkwargs):\n\u001b[1;32m--> 146\u001b[0m     \u001b[38;5;28msuper\u001b[39m()\u001b[38;5;241m.\u001b[39m\u001b[38;5;21m__init__\u001b[39m(\u001b[38;5;241m*\u001b[39margs, \u001b[38;5;241m*\u001b[39m\u001b[38;5;241m*\u001b[39mkwargs)\n\u001b[0;32m    147\u001b[0m     \u001b[38;5;124;03m\"\"\"Initialization\"\"\"\u001b[39;00m\n\u001b[0;32m    148\u001b[0m     \u001b[38;5;28mself\u001b[39m\u001b[38;5;241m.\u001b[39mlog \u001b[38;5;241m=\u001b[39m {\u001b[38;5;124m\"\u001b[39m\u001b[38;5;124mMessage\u001b[39m\u001b[38;5;124m\"\u001b[39m: [], \u001b[38;5;124m\"\u001b[39m\u001b[38;5;124mTimestamp\u001b[39m\u001b[38;5;124m\"\u001b[39m: [], \u001b[38;5;124m\"\u001b[39m\u001b[38;5;124mValue\u001b[39m\u001b[38;5;124m\"\u001b[39m: [], \u001b[38;5;124m\"\u001b[39m\u001b[38;5;124mGeometry\u001b[39m\u001b[38;5;124m\"\u001b[39m: []}\n",
      "File \u001b[1;32mc:\\users\\mrv\\onedrive - van oord\\software\\github\\opentnsim\\opentnsim\\core.py:117\u001b[0m, in \u001b[0;36mHasContainer.__init__\u001b[1;34m(self, capacity, level, total_requested, *args, **kwargs)\u001b[0m\n\u001b[0;32m    116\u001b[0m \u001b[38;5;28;01mdef\u001b[39;00m \u001b[38;5;21m__init__\u001b[39m(\u001b[38;5;28mself\u001b[39m, capacity, level\u001b[38;5;241m=\u001b[39m\u001b[38;5;241m0\u001b[39m, total_requested\u001b[38;5;241m=\u001b[39m\u001b[38;5;241m0\u001b[39m, \u001b[38;5;241m*\u001b[39margs, \u001b[38;5;241m*\u001b[39m\u001b[38;5;241m*\u001b[39mkwargs):\n\u001b[1;32m--> 117\u001b[0m     \u001b[38;5;28msuper\u001b[39m()\u001b[38;5;241m.\u001b[39m\u001b[38;5;21m__init__\u001b[39m(\u001b[38;5;241m*\u001b[39margs, \u001b[38;5;241m*\u001b[39m\u001b[38;5;241m*\u001b[39mkwargs)\n\u001b[0;32m    118\u001b[0m     \u001b[38;5;124;03m\"\"\"Initialization\"\"\"\u001b[39;00m\n\u001b[0;32m    119\u001b[0m     \u001b[38;5;28mself\u001b[39m\u001b[38;5;241m.\u001b[39mcontainer \u001b[38;5;241m=\u001b[39m simpy\u001b[38;5;241m.\u001b[39mContainer(\u001b[38;5;28mself\u001b[39m\u001b[38;5;241m.\u001b[39menv, capacity, init\u001b[38;5;241m=\u001b[39mlevel)\n",
      "\u001b[1;31mTypeError\u001b[0m: __init__() missing 1 required positional argument: 'env'"
     ]
    }
   ],
   "source": [
    "# prepare input data for vessel_01\n",
    "data_vessel01 = {\"env\": my_env,\n",
    "                 \"name\": \"vessel01\",\n",
    "                 \"geometry\": location_from_site, \n",
    "                 \"loading_rate\": 0.00001,\n",
    "                 \"unloading_rate\": 0.00001,\n",
    "                 \"capacity\": 4,\n",
    "                 \"compute_v\": lambda x: 10,\n",
    "                 # TODO: confirm these numbers\n",
    "                 'v': 3.5,\n",
    "                 'P_installed': 2200, \n",
    "                 'L_w': 15, \n",
    "                 'C_b': 0.85, \n",
    "                 'current_year': 2022,  \n",
    "                 'c_year': 1990,\n",
    "                 'type': 'a',\n",
    "                 'B': 11,\n",
    "                 'L': 135,\n",
    "                 'T': 2.5,\n",
    "                 'route': None\n",
    "                 \n",
    "               }\n",
    "# instantiate vessel_01 \n",
    "vessel01 = TransportProcessingResource(**data_vessel01)"
   ]
  },
  {
   "cell_type": "code",
   "execution_count": 15,
   "metadata": {},
   "outputs": [
    {
     "ename": "NameError",
     "evalue": "name 'vessel01' is not defined",
     "output_type": "error",
     "traceback": [
      "\u001b[1;31m---------------------------------------------------------------------------\u001b[0m",
      "\u001b[1;31mNameError\u001b[0m                                 Traceback (most recent call last)",
      "Input \u001b[1;32mIn [15]\u001b[0m, in \u001b[0;36m<cell line: 1>\u001b[1;34m()\u001b[0m\n\u001b[1;32m----> 1\u001b[0m \u001b[43mvessel01\u001b[49m\u001b[38;5;241m.\u001b[39m\u001b[38;5;18m__dict__\u001b[39m\n",
      "\u001b[1;31mNameError\u001b[0m: name 'vessel01' is not defined"
     ]
    }
   ],
   "source": [
    "vessel01.__dict__"
   ]
  },
  {
   "cell_type": "markdown",
   "metadata": {},
   "source": [
    "##### 3.3 Create activity/activities"
   ]
  },
  {
   "cell_type": "code",
   "execution_count": 16,
   "metadata": {},
   "outputs": [],
   "source": [
    "# initialise registry\n",
    "registry = {}"
   ]
  },
  {
   "cell_type": "code",
   "execution_count": 17,
   "metadata": {},
   "outputs": [],
   "source": [
    "# create a list of the sub processes\n",
    "sub_processes = [\n",
    "    model.MoveActivity(\n",
    "        env=my_env,\n",
    "        name=\"sailing empty\",\n",
    "        registry=registry,\n",
    "        mover=vessel01,\n",
    "        destination=from_site,\n",
    "    ),\n",
    "    model.MoveActivity(\n",
    "        env=my_env,\n",
    "        name=\"sailing full\",\n",
    "        registry=registry,\n",
    "        mover=vessel01,\n",
    "        destination=to_site,\n",
    "    )\n",
    "]\n",
    "\n",
    "# create a 'sequential activity' that is made up of the 'sub_processes'\n",
    "sequential_activity = model.SequentialActivity(\n",
    "    env=my_env,\n",
    "    name=\"sequential_activity_subcycle\",\n",
    "    registry=registry,\n",
    "    sub_processes=sub_processes,\n",
    ")\n",
    "\n",
    "# # create a while activity that executes the 'sequential activity' while the stop condition is not triggered \n",
    "# while_activity = model.WhileActivity(\n",
    "#     env=my_env,\n",
    "#     name=\"while_sequential_activity_subcycle\",\n",
    "#     registry=registry,\n",
    "#     sub_processes=[sequential_activity],\n",
    "#     condition_event=[{\"type\": \"container\", \"concept\": to_site, \"state\": \"full\"}],\n",
    "# )\n",
    "\n",
    "repeat_activity = model.RepeatActivity(\n",
    "    env=my_env,\n",
    "    name=\"repeatit\",\n",
    "    registry=registry,\n",
    "    sub_processes=[sequential_activity],\n",
    "    repetitions=10\n",
    ")"
   ]
  },
  {
   "cell_type": "markdown",
   "metadata": {},
   "source": [
    "#### 4. Register processes and run simpy"
   ]
  },
  {
   "cell_type": "code",
   "execution_count": 18,
   "metadata": {},
   "outputs": [],
   "source": [
    "# initate the simpy processes defined in the 'while activity' and run simpy\n",
    "model.register_processes([repeat_activity])\n",
    "my_env.run()"
   ]
  },
  {
   "cell_type": "code",
   "execution_count": 19,
   "metadata": {},
   "outputs": [
    {
     "ename": "AttributeError",
     "evalue": "'TransportProcessingResource' object has no attribute 'P_given'",
     "output_type": "error",
     "traceback": [
      "\u001b[1;31m---------------------------------------------------------------------------\u001b[0m",
      "\u001b[1;31mAttributeError\u001b[0m                            Traceback (most recent call last)",
      "\u001b[1;32m<ipython-input-19-5e8bf4c75f4e>\u001b[0m in \u001b[0;36m<module>\u001b[1;34m\u001b[0m\n\u001b[0;32m      8\u001b[0m \u001b[1;33m\u001b[0m\u001b[0m\n\u001b[0;32m      9\u001b[0m \u001b[1;33m\u001b[0m\u001b[0m\n\u001b[1;32m---> 10\u001b[1;33m \u001b[0mvessel01\u001b[0m\u001b[1;33m.\u001b[0m\u001b[0mP_given\u001b[0m\u001b[1;33m\u001b[0m\u001b[1;33m\u001b[0m\u001b[0m\n\u001b[0m",
      "\u001b[1;31mAttributeError\u001b[0m: 'TransportProcessingResource' object has no attribute 'P_given'"
     ]
    }
   ],
   "source": [
    "# This is the power used to do the last move step\n",
    "# TODO: \n",
    "# - remember P_given for each move step (kWh for last move step -> list of steps)\n",
    "# - adapt T for each step\n",
    "# - Sum up the P_given over duration of move activity (kW - kWh)\n",
    "# - acceleration is not included (do small steps where you increase velocity), use power2v to compute velocity\n",
    "# - OR: increase power and compute v (more elegant, scipy integrate...)\n",
    "\n",
    "\n",
    "vessel01.P_given"
   ]
  },
  {
   "cell_type": "code",
   "execution_count": 22,
   "metadata": {},
   "outputs": [
    {
     "data": {
      "text/plain": [
       "{'Timestamp': [],\n",
       " 'ActivityID': [],\n",
       " 'ActivityState': [],\n",
       " 'ObjectState': [],\n",
       " 'ActivityLabel': []}"
      ]
     },
     "execution_count": 22,
     "metadata": {},
     "output_type": "execute_result"
    }
   ],
   "source": [
    "vessel01.log"
   ]
  },
  {
   "cell_type": "markdown",
   "metadata": {},
   "source": [
    "#### 5. Inspect results\n",
    "##### 5.1 Inspect logs"
   ]
  },
  {
   "cell_type": "code",
   "execution_count": null,
   "metadata": {
    "scrolled": false
   },
   "outputs": [],
   "source": [
    "plot.get_log_dataframe(vessel01, [while_activity, *sub_processes, sequential_activity])"
   ]
  },
  {
   "cell_type": "markdown",
   "metadata": {},
   "source": [
    "##### 5.2 Visualise gantt charts"
   ]
  },
  {
   "cell_type": "code",
   "execution_count": null,
   "metadata": {},
   "outputs": [],
   "source": [
    "plot.get_gantt_chart([while_activity, sequential_activity, *sub_processes])"
   ]
  },
  {
   "cell_type": "code",
   "execution_count": null,
   "metadata": {},
   "outputs": [],
   "source": [
    "plot.get_gantt_chart([vessel01, from_site, to_site])"
   ]
  },
  {
   "cell_type": "markdown",
   "metadata": {},
   "source": [
    "##### 5.3 Visualise container volume developments"
   ]
  },
  {
   "cell_type": "code",
   "execution_count": null,
   "metadata": {},
   "outputs": [],
   "source": [
    "fig = plot.get_step_chart([vessel01, from_site, to_site])"
   ]
  },
  {
   "cell_type": "markdown",
   "metadata": {},
   "source": [
    "#### Sandbox"
   ]
  },
  {
   "cell_type": "code",
   "execution_count": null,
   "metadata": {},
   "outputs": [],
   "source": [
    "pd.DataFrame.from_dict(vessel01.log)"
   ]
  },
  {
   "cell_type": "code",
   "execution_count": null,
   "metadata": {},
   "outputs": [],
   "source": [
    "list(set(vessel01.log[\"ActivityID\"]))"
   ]
  },
  {
   "cell_type": "code",
   "execution_count": null,
   "metadata": {},
   "outputs": [],
   "source": [
    "energycalculation = opentnsim.energy.EnergyCalculation([], vessel01)\n",
    "energycalculation.calculate_energy_consumption()\n",
    "df = pd.DataFrame.from_dict(energycalculation.energy_use)"
   ]
  },
  {
   "cell_type": "code",
   "execution_count": null,
   "metadata": {},
   "outputs": [],
   "source": [
    "energycalculation.calculate_energy_consumption()"
   ]
  },
  {
   "cell_type": "code",
   "execution_count": null,
   "metadata": {},
   "outputs": [],
   "source": []
  }
 ],
 "metadata": {
  "kernelspec": {
   "display_name": "Python 3 (ipykernel)",
   "language": "python",
   "name": "python3"
  },
  "language_info": {
   "codemirror_mode": {
    "name": "ipython",
    "version": 3
   },
   "file_extension": ".py",
   "mimetype": "text/x-python",
   "name": "python",
   "nbconvert_exporter": "python",
   "pygments_lexer": "ipython3",
   "version": "3.9.12"
  }
 },
 "nbformat": 4,
 "nbformat_minor": 2
}
