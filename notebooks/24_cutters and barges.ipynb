{
 "cells": [
  {
   "cell_type": "markdown",
   "id": "384a3d39",
   "metadata": {},
   "source": [
    "# Feeder concept: cutter + barges\n",
    "\n",
    "This notebook shows how to implement a basic feeder concept for a cutter suction dredge working with multiple barges."
   ]
  },
  {
   "cell_type": "code",
   "execution_count": 1,
   "id": "b6580ad4",
   "metadata": {},
   "outputs": [],
   "source": [
    "import datetime, time\n",
    "import simpy\n",
    "\n",
    "import shapely.geometry\n",
    "import pandas as pd\n",
    "\n",
    "import openclsim.core as core\n",
    "import openclsim.model as model\n",
    "from openclsim.utils import flatten, export_concepts, export_activities, export_ranges\n",
    "from openclsim.plot import get_step_chart, get_gantt_chart, get_log_dataframe, get_ranges_dataframe\n",
    "import numpy as np"
   ]
  },
  {
   "cell_type": "markdown",
   "id": "cc5e7b84",
   "metadata": {},
   "source": [
    "## Define a range of barge scenarios"
   ]
  },
  {
   "cell_type": "code",
   "execution_count": 2,
   "id": "5d93d662",
   "metadata": {},
   "outputs": [],
   "source": [
    "cutter_name    = 'Cutter T'\n",
    "barge_names    = ['Carrier A','Carrier B','Carrier C',\n",
    "                  'Barge I','Barge II','Barge III',\n",
    "                  'Extra 1', 'Extra 2', 'Extra 3']\n",
    "vessel_cost     = {'Carrier A':6000,'Carrier B':6000,'Carrier C':6000,\n",
    "                  'Barge I':5000,'Barge II':5000,'Barge III':5000,\n",
    "                  'Extra 1':4000, 'Extra 2':4000, 'Extra 3':4000,\n",
    "                  'Cutter T':25000} # EUR/day\n",
    "\n",
    "# vessel_amount and vessel_durations are random within a range,\n",
    "# to mimic respectively material density variations\n",
    "# and metocean workability conditions and traffic density.\n",
    "\n",
    "amount_range = [4,6]\n",
    "duration_range = [2000,3000]\n",
    "\n",
    "from_site_name = 'Trench'\n",
    "to_site_name   = 'Reclamation'\n",
    "\n",
    "nbarges = len(barge_names)\n",
    "assert len(set(barge_names))==len(barge_names), 'barge_names need to be unique'\n",
    "total_amount = 100\n",
    "simulation_start = 0"
   ]
  },
  {
   "cell_type": "code",
   "execution_count": 3,
   "id": "102a1c18",
   "metadata": {},
   "outputs": [],
   "source": [
    "Site = type(\n",
    "    \"Site\",\n",
    "    (\n",
    "        core.Identifiable,\n",
    "        core.Log,\n",
    "        core.Locatable,\n",
    "        core.HasContainer,\n",
    "        core.HasResource,\n",
    "    ),\n",
    "    {},\n",
    ")\n",
    "TransportProcessingResource = type(\n",
    "    \"TransportProcessingResource\",\n",
    "    (\n",
    "        core.Identifiable,\n",
    "        core.Log,\n",
    "        core.ContainerDependentMovable,\n",
    "        core.Processor,\n",
    "        core.HasResource,\n",
    "    ),\n",
    "    {},\n",
    ")"
   ]
  },
  {
   "cell_type": "code",
   "execution_count": 4,
   "id": "cef14598",
   "metadata": {},
   "outputs": [],
   "source": [
    "def run(NR_BARGES, total_amount, simulation_start=0):\n",
    "    my_env = simpy.Environment(initial_time=simulation_start)\n",
    "    registry = {}\n",
    "\n",
    "    location_from_site = shapely.geometry.Point(4.18055556, 52.18664444)\n",
    "    location_to_site = shapely.geometry.Point(4.25222222, 52.11428333)\n",
    "    \n",
    "    sites = {}\n",
    "\n",
    "    data_from_site = {\"env\": my_env,\n",
    "                      \"name\": from_site_name,\n",
    "                      \"geometry\": location_from_site,\n",
    "                      \"capacity\": total_amount,\n",
    "                      \"level\": total_amount,\n",
    "                      \"nr_resources\":1\n",
    "                     }\n",
    "    from_site =  Site(**data_from_site)\n",
    "    sites[from_site_name] = from_site\n",
    "\n",
    "\n",
    "    location_to_site = shapely.geometry.Point(4.25222222, 52.11428333)\n",
    "    data_to_site = {\"env\": my_env,\n",
    "                    \"name\": to_site_name,\n",
    "                    \"geometry\": location_to_site,\n",
    "                    \"capacity\": total_amount,\n",
    "                    \"level\": 0,\n",
    "                    \"nr_resources\":4\n",
    "                   }\n",
    "    to_site = Site(**data_to_site)\n",
    "    sites[to_site_name] = to_site\n",
    "\n",
    "    vessels = {}\n",
    "\n",
    "    for i in range(NR_BARGES):\n",
    "        vessel_name = barge_names[i]\n",
    "        vessels[vessel_name] = TransportProcessingResource(\n",
    "            env=my_env,\n",
    "            name=vessel_name,\n",
    "            geometry=location_from_site, \n",
    "            capacity=10,\n",
    "            compute_v=lambda x: 10\n",
    "        )\n",
    "    cutter = TransportProcessingResource(\n",
    "        env=my_env,\n",
    "        name=cutter_name,\n",
    "        geometry=location_from_site, \n",
    "        capacity=10,\n",
    "        compute_v=lambda x: 10\n",
    "    )\n",
    "    vessels[cutter_name] = cutter\n",
    "    \n",
    "\n",
    "    activities = {}\n",
    "    for i in range(NR_BARGES):\n",
    "        vessel_name = barge_names[i]\n",
    "        amount = np.random.randint(amount_range[0], amount_range[1]) # handle loading\n",
    "        duration=np.random.randint(duration_range[0], duration_range[1]) # sailing and unloading\n",
    "\n",
    "        requested_resources={}\n",
    "        activities[f\"activity{i}\"] = model.WhileActivity(\n",
    "            env=my_env,\n",
    "            name=f\"while_sequential_activity_subcycle {vessel_name}\",\n",
    "            registry=registry,\n",
    "            sub_processes=[model.SequentialActivity(\n",
    "                env=my_env,\n",
    "                name=f\"sequential_activity_subcycle {vessel_name}\",\n",
    "                registry=registry,\n",
    "                sub_processes=[\n",
    "# cannot be linked to a vessel as it is neither mover, processor, origin or destination\n",
    "#                     model.BasicActivity(\n",
    "#                         env=my_env,\n",
    "#                         name=f\"basic activity:\"+vessels[vessel_name].name,\n",
    "#                         registry=registry,\n",
    "#                         duration=duration,\n",
    "#                         additional_logs=[vessels[vessel_name]],\n",
    "#                     ),\n",
    "                    model.MoveActivity(\n",
    "                        env=my_env,\n",
    "                        name=f\"sailing empty:\"+vessels[vessel_name].name,\n",
    "                        registry=registry,\n",
    "                        mover=vessels[vessel_name],\n",
    "                        destination=from_site,\n",
    "                        duration=duration,\n",
    "                    ),\n",
    "                    model.ShiftAmountActivity(\n",
    "                        env=my_env,\n",
    "                        name=f\"loading:\"+vessels[vessel_name].name,\n",
    "                        registry=registry,\n",
    "                        processor=cutter,\n",
    "                        origin=from_site,\n",
    "                        destination=vessels[vessel_name],\n",
    "                        amount=amount,\n",
    "                        duration=500*amount,\n",
    "                        requested_resources=requested_resources,\n",
    "                    ),\n",
    "                    model.MoveActivity(\n",
    "                        env=my_env,\n",
    "                        name=f\"sailing full:\"+vessels[vessel_name].name,\n",
    "                        registry=registry,\n",
    "                        mover=vessels[vessel_name],\n",
    "                        destination=to_site,\n",
    "                        duration=duration,\n",
    "                    ),\n",
    "                    model.ShiftAmountActivity(\n",
    "                        env=my_env,\n",
    "                        name=f\"unloading:\"+vessels[vessel_name].name,\n",
    "                        registry=registry,\n",
    "                        processor=vessels[vessel_name],\n",
    "                        origin=vessels[vessel_name],\n",
    "                        destination=to_site,\n",
    "                        amount=amount,\n",
    "                        duration=duration,\n",
    "                        requested_resources=requested_resources,\n",
    "                    ),\n",
    "                ],\n",
    "            )],\n",
    "            condition_event=[\n",
    "                {\n",
    "                    \"type\": \"container\", \n",
    "                    \"concept\": to_site, \n",
    "                    \"state\": \"full\",\n",
    "                    \"id_\":\"default_reservations\"\n",
    "                }\n",
    "            ],\n",
    "        )\n",
    "\n",
    "    model.register_processes(list(activities.values()))\n",
    "    my_env.run()\n",
    "    \n",
    "    return {\n",
    "        \"vessels\": vessels,\n",
    "        \"activities\":activities,\n",
    "        \"sites\":sites\n",
    "    }\n"
   ]
  },
  {
   "cell_type": "markdown",
   "id": "4e7485d8",
   "metadata": {},
   "source": [
    "## Simulate multiple barge scenarios, compare and select optimal one"
   ]
  },
  {
   "cell_type": "code",
   "execution_count": 5,
   "id": "075f63bf",
   "metadata": {},
   "outputs": [],
   "source": [
    "def occupancy_analysis(vessels, cutter_name, total_amount, vessel_cost):\n",
    "    \"\"\"Model specific calculation of vessel occupancy.\n",
    "    \n",
    "    Assumes\n",
    "    * 1 cutter servicing many barges, 1 at a time. The cutter processes same as sum of all barges.\n",
    "    * all vessels arrive JIT when they need to start\n",
    "    * al vessels leave immediately when they are done (so different demob times)\n",
    "    This is an overestimation of actual occupancy, a mob/demob, initial waiting, \n",
    "    and final waiting are considered gratis.\n",
    "    \n",
    "    \"\"\"\n",
    "    \n",
    "    data = []\n",
    "    \n",
    "    for i, vessel_name in enumerate(vessels):\n",
    "        vessel = vessels[vessel_name]\n",
    "\n",
    "        log = get_ranges_dataframe(vessel)\n",
    "        \n",
    "        duration_theory = log.TimestampDt.sum()\n",
    "\n",
    "        \n",
    "        duration_actual = (log.TimestampStop.max() - log.TimestampStart.min()).total_seconds()\n",
    "        nr_trips = len(log.groupby('trip'))\n",
    "        \n",
    "        if vessel.name==cutter_name:\n",
    "            amount = total_amount\n",
    "        else:\n",
    "            amount = sum(log.groupby('trip')['ContainerLevelStop'].max())\n",
    "        \n",
    "        data.append({\n",
    "            'name':vessel.name, \n",
    "            '# trips':nr_trips, \n",
    "            'start': log.TimestampStart.min(),\n",
    "            'finish': log.TimestampStop.max(),\n",
    "            'amount sum': amount,\n",
    "            'duration actual': duration_actual,\n",
    "            'duration theory':duration_theory,\n",
    "            'cost actual':round(duration_actual*vessel_cost[vessel_name]/3600/24,0),\n",
    "            'production actual':(nr_trips * amount) / (duration_actual),\n",
    "            'production theory':(nr_trips * amount / (duration_theory)),\n",
    "        })\n",
    "\n",
    "    df = pd.DataFrame(data).sort_values(by=['production actual'],ascending=False)\n",
    "    df['occupancy [%]'] = [round(x,1) for x in 100*df['production actual']/df['production theory']]\n",
    "    df.set_index('name', inplace=True)\n",
    "\n",
    "    if df['amount sum'].sum()-total_amount!=total_amount:\n",
    "        print('ERROR: material imbalance')\n",
    "    \n",
    "    return df"
   ]
  },
  {
   "cell_type": "code",
   "execution_count": 6,
   "id": "eeb88b8d",
   "metadata": {},
   "outputs": [
    {
     "name": "stdout",
     "output_type": "stream",
     "text": [
      "CPU times: user 1.69 s, sys: 54.9 ms, total: 1.74 s\n",
      "Wall time: 1.72 s\n"
     ]
    },
    {
     "data": {
      "text/html": [
       "<div>\n",
       "<style scoped>\n",
       "    .dataframe tbody tr th:only-of-type {\n",
       "        vertical-align: middle;\n",
       "    }\n",
       "\n",
       "    .dataframe tbody tr th {\n",
       "        vertical-align: top;\n",
       "    }\n",
       "\n",
       "    .dataframe thead th {\n",
       "        text-align: right;\n",
       "    }\n",
       "</style>\n",
       "<table border=\"1\" class=\"dataframe\">\n",
       "  <thead>\n",
       "    <tr style=\"text-align: right;\">\n",
       "      <th></th>\n",
       "      <th># barges</th>\n",
       "      <th>cutter occupancy</th>\n",
       "      <th>total cost</th>\n",
       "      <th>total duration</th>\n",
       "    </tr>\n",
       "  </thead>\n",
       "  <tbody>\n",
       "    <tr>\n",
       "      <th>0</th>\n",
       "      <td>2</td>\n",
       "      <td>45.3</td>\n",
       "      <td>49475.0</td>\n",
       "      <td>1.388889</td>\n",
       "    </tr>\n",
       "    <tr>\n",
       "      <th>1</th>\n",
       "      <td>3</td>\n",
       "      <td>61.9</td>\n",
       "      <td>42312.0</td>\n",
       "      <td>1.067280</td>\n",
       "    </tr>\n",
       "    <tr>\n",
       "      <th>2</th>\n",
       "      <td>4</td>\n",
       "      <td>80.1</td>\n",
       "      <td>35869.0</td>\n",
       "      <td>0.827731</td>\n",
       "    </tr>\n",
       "    <tr>\n",
       "      <th>3</th>\n",
       "      <td>5</td>\n",
       "      <td>100.0</td>\n",
       "      <td>31871.0</td>\n",
       "      <td>0.659664</td>\n",
       "    </tr>\n",
       "    <tr>\n",
       "      <th>4</th>\n",
       "      <td>6</td>\n",
       "      <td>100.0</td>\n",
       "      <td>34979.0</td>\n",
       "      <td>0.679155</td>\n",
       "    </tr>\n",
       "    <tr>\n",
       "      <th>5</th>\n",
       "      <td>7</td>\n",
       "      <td>100.0</td>\n",
       "      <td>36778.0</td>\n",
       "      <td>0.668438</td>\n",
       "    </tr>\n",
       "    <tr>\n",
       "      <th>6</th>\n",
       "      <td>8</td>\n",
       "      <td>100.0</td>\n",
       "      <td>39218.0</td>\n",
       "      <td>0.687998</td>\n",
       "    </tr>\n",
       "  </tbody>\n",
       "</table>\n",
       "</div>"
      ],
      "text/plain": [
       "   # barges  cutter occupancy  total cost  total duration\n",
       "0         2              45.3     49475.0        1.388889\n",
       "1         3              61.9     42312.0        1.067280\n",
       "2         4              80.1     35869.0        0.827731\n",
       "3         5             100.0     31871.0        0.659664\n",
       "4         6             100.0     34979.0        0.679155\n",
       "5         7             100.0     36778.0        0.668438\n",
       "6         8             100.0     39218.0        0.687998"
      ]
     },
     "execution_count": 6,
     "metadata": {},
     "output_type": "execute_result"
    }
   ],
   "source": [
    "%%time\n",
    "results = []\n",
    "occupancy = []\n",
    "cost = []\n",
    "duration = []\n",
    "\n",
    "n_barges = range(2,len(barge_names)) # at least 1 barge\n",
    "for i in n_barges:\n",
    "    results.append(run(i,total_amount))\n",
    "    \n",
    "    vessels = results[-1]['vessels']\n",
    "    activities = results[-1]['activities']\n",
    "    sites = results[-1]['sites']\n",
    "    \n",
    "    cutter = vessels[cutter_name]\n",
    "    \n",
    "    df = occupancy_analysis(vessels, cutter_name, total_amount, vessel_cost)\n",
    "    occupancy.append(df.loc[cutter_name]['occupancy [%]'])\n",
    "    cost.append(df['cost actual'].sum())\n",
    "    duration.append((df['finish'].max() - df['start'].min()).total_seconds()/3600/24)\n",
    "    #     display(df)\n",
    "    \n",
    "scenarios = {'# barges':n_barges,\n",
    "             'cutter occupancy':occupancy,\n",
    "             'total cost':cost,\n",
    "             'total duration':duration}\n",
    "scenarios = pd.DataFrame.from_dict(scenarios)\n",
    "scenarios"
   ]
  },
  {
   "cell_type": "code",
   "execution_count": 7,
   "id": "9e7f3cf4",
   "metadata": {},
   "outputs": [
    {
     "data": {
      "image/png": "[encoded data removed]",
      "text/plain": [
       "<Figure size 640x480 with 3 Axes>"
      ]
     },
     "metadata": {},
     "output_type": "display_data"
    }
   ],
   "source": [
    "# plot 3 optimization criteria: cost, duration, occupancy (1/flexibility)\n",
    "%matplotlib inline\n",
    "import matplotlib.pyplot as plt\n",
    "\n",
    "fig = plt.figure()\n",
    "gs = fig.add_gridspec(3, hspace=0)\n",
    "axs = gs.subplots(sharex=True)\n",
    "\n",
    "\n",
    "axs[0].plot(scenarios['# barges'],scenarios['total cost'],'.-'), axs[0].set_ylabel('# cost [EUR]'),axs[0].grid();\n",
    "# axs[0].set_xlabel('# barges');\n",
    "\n",
    "axs[1].plot(scenarios['# barges'],scenarios['cutter occupancy'],'.-'), axs[1].set_ylabel('cutter occupancy [%]'),axs[1].grid();\n",
    "# axs[1].set_xlabel('# barges');\n",
    "axs[1].yaxis.set_label_position(\"right\")\n",
    "axs[1].yaxis.tick_right()\n",
    "\n",
    "axs[2].plot(scenarios['# barges'],scenarios['total duration'],'.-'), axs[2].set_ylabel('# time [days]'),axs[2].grid();\n",
    "\n",
    "axs[-1].set_xlabel('# barges');"
   ]
  },
  {
   "cell_type": "markdown",
   "id": "a81e634c",
   "metadata": {},
   "source": [
    "## Example plots for 1 chosen scenario"
   ]
  },
  {
   "cell_type": "code",
   "execution_count": 8,
   "id": "88c1391e",
   "metadata": {},
   "outputs": [],
   "source": [
    "# choose 1 scenario for further analysis and export\n",
    "# many barges: close to 100% cutter config, small cost, fast delivery.\n",
    "scenario_index = 2"
   ]
  },
  {
   "cell_type": "code",
   "execution_count": 9,
   "id": "9aa8b351",
   "metadata": {},
   "outputs": [
    {
     "data": {
      "text/html": [
       "<div>\n",
       "<style scoped>\n",
       "    .dataframe tbody tr th:only-of-type {\n",
       "        vertical-align: middle;\n",
       "    }\n",
       "\n",
       "    .dataframe tbody tr th {\n",
       "        vertical-align: top;\n",
       "    }\n",
       "\n",
       "    .dataframe thead th {\n",
       "        text-align: right;\n",
       "    }\n",
       "</style>\n",
       "<table border=\"1\" class=\"dataframe\">\n",
       "  <thead>\n",
       "    <tr style=\"text-align: right;\">\n",
       "      <th></th>\n",
       "      <th># barges</th>\n",
       "      <th>cutter occupancy</th>\n",
       "      <th>total cost</th>\n",
       "      <th>total duration</th>\n",
       "    </tr>\n",
       "  </thead>\n",
       "  <tbody>\n",
       "    <tr>\n",
       "      <th>2</th>\n",
       "      <td>4</td>\n",
       "      <td>80.1</td>\n",
       "      <td>35869.0</td>\n",
       "      <td>0.827731</td>\n",
       "    </tr>\n",
       "  </tbody>\n",
       "</table>\n",
       "</div>"
      ],
      "text/plain": [
       "   # barges  cutter occupancy  total cost  total duration\n",
       "2         4              80.1     35869.0        0.827731"
      ]
     },
     "execution_count": 9,
     "metadata": {},
     "output_type": "execute_result"
    }
   ],
   "source": [
    "vessels = results[scenario_index]['vessels']\n",
    "sites = results[scenario_index]['sites']\n",
    "activities = results[scenario_index]['activities']\n",
    "\n",
    "cutter = vessels[cutter_name]\n",
    "to_site = sites[to_site_name]\n",
    "from_site = sites[from_site_name]\n",
    "scenarios[scenarios.index==scenario_index]"
   ]
  },
  {
   "cell_type": "code",
   "execution_count": 10,
   "id": "78603c28",
   "metadata": {},
   "outputs": [
    {
     "data": {
      "text/html": [
       "<div>\n",
       "<style scoped>\n",
       "    .dataframe tbody tr th:only-of-type {\n",
       "        vertical-align: middle;\n",
       "    }\n",
       "\n",
       "    .dataframe tbody tr th {\n",
       "        vertical-align: top;\n",
       "    }\n",
       "\n",
       "    .dataframe thead th {\n",
       "        text-align: right;\n",
       "    }\n",
       "</style>\n",
       "<table border=\"1\" class=\"dataframe\">\n",
       "  <thead>\n",
       "    <tr style=\"text-align: right;\">\n",
       "      <th></th>\n",
       "      <th># trips</th>\n",
       "      <th>start</th>\n",
       "      <th>finish</th>\n",
       "      <th>amount sum</th>\n",
       "      <th>duration actual</th>\n",
       "      <th>duration theory</th>\n",
       "      <th>cost actual</th>\n",
       "      <th>production actual</th>\n",
       "      <th>production theory</th>\n",
       "      <th>occupancy [%]</th>\n",
       "    </tr>\n",
       "    <tr>\n",
       "      <th>name</th>\n",
       "      <th></th>\n",
       "      <th></th>\n",
       "      <th></th>\n",
       "      <th></th>\n",
       "      <th></th>\n",
       "      <th></th>\n",
       "      <th></th>\n",
       "      <th></th>\n",
       "      <th></th>\n",
       "      <th></th>\n",
       "    </tr>\n",
       "  </thead>\n",
       "  <tbody>\n",
       "    <tr>\n",
       "      <th>Barge I</th>\n",
       "      <td>6</td>\n",
       "      <td>1970-01-01 00:00:00</td>\n",
       "      <td>1970-01-01 18:19:25</td>\n",
       "      <td>24.0</td>\n",
       "      <td>65965.0</td>\n",
       "      <td>58476.0</td>\n",
       "      <td>3817.0</td>\n",
       "      <td>0.002183</td>\n",
       "      <td>0.002463</td>\n",
       "      <td>88.6</td>\n",
       "    </tr>\n",
       "    <tr>\n",
       "      <th>Carrier A</th>\n",
       "      <td>6</td>\n",
       "      <td>1970-01-01 00:00:00</td>\n",
       "      <td>1970-01-01 19:51:56</td>\n",
       "      <td>28.0</td>\n",
       "      <td>71516.0</td>\n",
       "      <td>66174.0</td>\n",
       "      <td>4966.0</td>\n",
       "      <td>0.002349</td>\n",
       "      <td>0.002539</td>\n",
       "      <td>92.5</td>\n",
       "    </tr>\n",
       "    <tr>\n",
       "      <th>Carrier B</th>\n",
       "      <td>6</td>\n",
       "      <td>1970-01-01 00:00:00</td>\n",
       "      <td>1970-01-01 17:41:21</td>\n",
       "      <td>24.0</td>\n",
       "      <td>63681.0</td>\n",
       "      <td>55920.0</td>\n",
       "      <td>4422.0</td>\n",
       "      <td>0.002261</td>\n",
       "      <td>0.002575</td>\n",
       "      <td>87.8</td>\n",
       "    </tr>\n",
       "    <tr>\n",
       "      <th>Carrier C</th>\n",
       "      <td>6</td>\n",
       "      <td>1970-01-01 00:00:00</td>\n",
       "      <td>1970-01-01 16:59:31</td>\n",
       "      <td>24.0</td>\n",
       "      <td>61171.0</td>\n",
       "      <td>51330.0</td>\n",
       "      <td>4248.0</td>\n",
       "      <td>0.002354</td>\n",
       "      <td>0.002805</td>\n",
       "      <td>83.9</td>\n",
       "    </tr>\n",
       "    <tr>\n",
       "      <th>Cutter T</th>\n",
       "      <td>6</td>\n",
       "      <td>1970-01-01 00:36:25</td>\n",
       "      <td>1970-01-01 18:17:10</td>\n",
       "      <td>100.0</td>\n",
       "      <td>63645.0</td>\n",
       "      <td>51000.0</td>\n",
       "      <td>18416.0</td>\n",
       "      <td>0.009427</td>\n",
       "      <td>0.011765</td>\n",
       "      <td>80.1</td>\n",
       "    </tr>\n",
       "  </tbody>\n",
       "</table>\n",
       "</div>"
      ],
      "text/plain": [
       "           # trips               start              finish  amount sum  \\\n",
       "name                                                                     \n",
       "Barge I          6 1970-01-01 00:00:00 1970-01-01 18:19:25        24.0   \n",
       "Carrier A        6 1970-01-01 00:00:00 1970-01-01 19:51:56        28.0   \n",
       "Carrier B        6 1970-01-01 00:00:00 1970-01-01 17:41:21        24.0   \n",
       "Carrier C        6 1970-01-01 00:00:00 1970-01-01 16:59:31        24.0   \n",
       "Cutter T         6 1970-01-01 00:36:25 1970-01-01 18:17:10       100.0   \n",
       "\n",
       "           duration actual  duration theory  cost actual  production actual  \\\n",
       "name                                                                          \n",
       "Barge I            65965.0          58476.0       3817.0           0.002183   \n",
       "Carrier A          71516.0          66174.0       4966.0           0.002349   \n",
       "Carrier B          63681.0          55920.0       4422.0           0.002261   \n",
       "Carrier C          61171.0          51330.0       4248.0           0.002354   \n",
       "Cutter T           63645.0          51000.0      18416.0           0.009427   \n",
       "\n",
       "           production theory  occupancy [%]  \n",
       "name                                         \n",
       "Barge I             0.002463           88.6  \n",
       "Carrier A           0.002539           92.5  \n",
       "Carrier B           0.002575           87.8  \n",
       "Carrier C           0.002805           83.9  \n",
       "Cutter T            0.011765           80.1  "
      ]
     },
     "execution_count": 10,
     "metadata": {},
     "output_type": "execute_result"
    }
   ],
   "source": [
    "# determine occupamncy per vessel\n",
    "\n",
    "occupancy_analysis(vessels, cutter_name, total_amount, vessel_cost).sort_values(by=[\"name\"])"
   ]
  },
  {
   "cell_type": "code",
   "execution_count": 11,
   "id": "8f993fc6",
   "metadata": {},
   "outputs": [
    {
     "data": {
      "text/html": [
       "        <script type=\"text/javascript\">\n",
       "        window.PlotlyConfig = {MathJaxConfig: 'local'};\n",
       "        if (window.MathJax && window.MathJax.Hub && window.MathJax.Hub.Config) {window.MathJax.Hub.Config({SVG: {font: \"STIX-Web\"}});}\n",
       "        if (typeof require !== 'undefined') {\n",
       "        require.undef(\"plotly\");\n",
       "        requirejs.config({\n",
       "            paths: {\n",
       "                'plotly': ['https://cdn.plot.ly/plotly-2.18.2.min']\n",
       "            }\n",
       "        });\n",
       "        require(['plotly'], function(Plotly) {\n",
       "            window._Plotly = Plotly;\n",
       "        });\n",
       "        }\n",
       "        </script>\n",
       "        "
      ]
     },
     "metadata": {},
     "output_type": "display_data"
    },
    {
     "data": {
      "application/vnd.plotly.v1+json": {
       "config": {
        "linkText": "Export to plot.ly",
        "plotlyServerURL": "https://plot.ly",
        "showLink": false
       },
       "data": [
        {
         "connectgaps": false,
         "hoverinfo": "y+name",
         "line": {
          "color": "rgb(149,129,197)",
          "width": 10
         },
         "mode": "lines",
         "name": "sailing empty:Carrier A",
         "type": "scatter",
         "x": [
          "1970-01-01T00:00:00",
          "1970-01-01T00:00:00",
          "1970-01-01T00:47:23",
          "1970-01-01T00:47:23",
          "1970-01-01T00:47:23",
          "1970-01-01T04:32:51",
          "1970-01-01T04:32:51",
          "1970-01-01T05:20:14",
          "1970-01-01T05:20:14",
          "1970-01-01T05:20:14",
          "1970-01-01T07:36:40",
          "1970-01-01T07:36:40",
          "1970-01-01T08:24:03",
          "1970-01-01T08:24:03",
          "1970-01-01T08:24:03",
          "1970-01-01T10:40:29",
          "1970-01-01T10:40:29",
          "1970-01-01T11:27:52",
          "1970-01-01T11:27:52",
          "1970-01-01T11:27:52",
          "1970-01-01T13:44:18",
          "1970-01-01T13:44:18",
          "1970-01-01T14:31:41",
          "1970-01-01T14:31:41",
          "1970-01-01T14:31:41",
          "1970-01-01T16:48:07",
          "1970-01-01T16:48:07",
          "1970-01-01T17:35:30",
          "1970-01-01T17:35:30",
          "1970-01-01T17:35:30"
         ],
         "y": [
          "Carrier A",
          "Carrier A",
          "Carrier A",
          "Carrier A",
          null,
          "Carrier A",
          "Carrier A",
          "Carrier A",
          "Carrier A",
          null,
          "Carrier A",
          "Carrier A",
          "Carrier A",
          "Carrier A",
          null,
          "Carrier A",
          "Carrier A",
          "Carrier A",
          "Carrier A",
          null,
          "Carrier A",
          "Carrier A",
          "Carrier A",
          "Carrier A",
          null,
          "Carrier A",
          "Carrier A",
          "Carrier A",
          "Carrier A",
          null
         ]
        },
        {
         "connectgaps": false,
         "hoverinfo": "y+name",
         "line": {
          "color": "rgb(161,141,209)",
          "width": 10
         },
         "mode": "lines",
         "name": "loading:Carrier A",
         "type": "scatter",
         "x": [
          "1970-01-01T02:16:25",
          "1970-01-01T02:16:25",
          "1970-01-01T02:58:05",
          "1970-01-01T02:58:05",
          "1970-01-01T02:58:05",
          "1970-01-01T05:20:14",
          "1970-01-01T05:20:14",
          "1970-01-01T06:01:54",
          "1970-01-01T06:01:54",
          "1970-01-01T06:01:54",
          "1970-01-01T08:24:03",
          "1970-01-01T08:24:03",
          "1970-01-01T09:05:43",
          "1970-01-01T09:05:43",
          "1970-01-01T09:05:43",
          "1970-01-01T11:27:52",
          "1970-01-01T11:27:52",
          "1970-01-01T12:09:32",
          "1970-01-01T12:09:32",
          "1970-01-01T12:09:32",
          "1970-01-01T14:31:41",
          "1970-01-01T14:31:41",
          "1970-01-01T15:13:21",
          "1970-01-01T15:13:21",
          "1970-01-01T15:13:21",
          "1970-01-01T17:35:30",
          "1970-01-01T17:35:30",
          "1970-01-01T18:17:10",
          "1970-01-01T18:17:10",
          "1970-01-01T18:17:10",
          "1970-01-01T02:16:25",
          "1970-01-01T02:16:25",
          "1970-01-01T02:58:05",
          "1970-01-01T02:58:05",
          "1970-01-01T02:58:05",
          "1970-01-01T05:20:14",
          "1970-01-01T05:20:14",
          "1970-01-01T06:01:54",
          "1970-01-01T06:01:54",
          "1970-01-01T06:01:54",
          "1970-01-01T08:24:03",
          "1970-01-01T08:24:03",
          "1970-01-01T09:05:43",
          "1970-01-01T09:05:43",
          "1970-01-01T09:05:43",
          "1970-01-01T11:27:52",
          "1970-01-01T11:27:52",
          "1970-01-01T12:09:32",
          "1970-01-01T12:09:32",
          "1970-01-01T12:09:32",
          "1970-01-01T14:31:41",
          "1970-01-01T14:31:41",
          "1970-01-01T15:13:21",
          "1970-01-01T15:13:21",
          "1970-01-01T15:13:21",
          "1970-01-01T17:35:30",
          "1970-01-01T17:35:30",
          "1970-01-01T18:17:10",
          "1970-01-01T18:17:10",
          "1970-01-01T18:17:10"
         ],
         "y": [
          "Carrier A",
          "Carrier A",
          "Carrier A",
          "Carrier A",
          null,
          "Carrier A",
          "Carrier A",
          "Carrier A",
          "Carrier A",
          null,
          "Carrier A",
          "Carrier A",
          "Carrier A",
          "Carrier A",
          null,
          "Carrier A",
          "Carrier A",
          "Carrier A",
          "Carrier A",
          null,
          "Carrier A",
          "Carrier A",
          "Carrier A",
          "Carrier A",
          null,
          "Carrier A",
          "Carrier A",
          "Carrier A",
          "Carrier A",
          null,
          "Cutter T",
          "Cutter T",
          "Cutter T",
          "Cutter T",
          null,
          "Cutter T",
          "Cutter T",
          "Cutter T",
          "Cutter T",
          null,
          "Cutter T",
          "Cutter T",
          "Cutter T",
          "Cutter T",
          null,
          "Cutter T",
          "Cutter T",
          "Cutter T",
          "Cutter T",
          null,
          "Cutter T",
          "Cutter T",
          "Cutter T",
          "Cutter T",
          null,
          "Cutter T",
          "Cutter T",
          "Cutter T",
          "Cutter T",
          null
         ]
        },
        {
         "connectgaps": false,
         "hoverinfo": "y+name",
         "line": {
          "color": "rgb(173,153,221)",
          "width": 10
         },
         "mode": "lines",
         "name": "sailing full:Carrier A",
         "type": "scatter",
         "x": [
          "1970-01-01T02:58:05",
          "1970-01-01T02:58:05",
          "1970-01-01T03:45:28",
          "1970-01-01T03:45:28",
          "1970-01-01T03:45:28",
          "1970-01-01T06:01:54",
          "1970-01-01T06:01:54",
          "1970-01-01T06:49:17",
          "1970-01-01T06:49:17",
          "1970-01-01T06:49:17",
          "1970-01-01T09:05:43",
          "1970-01-01T09:05:43",
          "1970-01-01T09:53:06",
          "1970-01-01T09:53:06",
          "1970-01-01T09:53:06",
          "1970-01-01T12:09:32",
          "1970-01-01T12:09:32",
          "1970-01-01T12:56:55",
          "1970-01-01T12:56:55",
          "1970-01-01T12:56:55",
          "1970-01-01T15:13:21",
          "1970-01-01T15:13:21",
          "1970-01-01T16:00:44",
          "1970-01-01T16:00:44",
          "1970-01-01T16:00:44",
          "1970-01-01T18:17:10",
          "1970-01-01T18:17:10",
          "1970-01-01T19:04:33",
          "1970-01-01T19:04:33",
          "1970-01-01T19:04:33"
         ],
         "y": [
          "Carrier A",
          "Carrier A",
          "Carrier A",
          "Carrier A",
          null,
          "Carrier A",
          "Carrier A",
          "Carrier A",
          "Carrier A",
          null,
          "Carrier A",
          "Carrier A",
          "Carrier A",
          "Carrier A",
          null,
          "Carrier A",
          "Carrier A",
          "Carrier A",
          "Carrier A",
          null,
          "Carrier A",
          "Carrier A",
          "Carrier A",
          "Carrier A",
          null,
          "Carrier A",
          "Carrier A",
          "Carrier A",
          "Carrier A",
          null
         ]
        },
        {
         "connectgaps": false,
         "hoverinfo": "y+name",
         "line": {
          "color": "rgb(185,165,233)",
          "width": 10
         },
         "mode": "lines",
         "name": "unloading:Carrier A",
         "type": "scatter",
         "x": [
          "1970-01-01T03:45:28",
          "1970-01-01T03:45:28",
          "1970-01-01T04:32:51",
          "1970-01-01T04:32:51",
          "1970-01-01T04:32:51",
          "1970-01-01T06:49:17",
          "1970-01-01T06:49:17",
          "1970-01-01T07:36:40",
          "1970-01-01T07:36:40",
          "1970-01-01T07:36:40",
          "1970-01-01T09:53:06",
          "1970-01-01T09:53:06",
          "1970-01-01T10:40:29",
          "1970-01-01T10:40:29",
          "1970-01-01T10:40:29",
          "1970-01-01T12:56:55",
          "1970-01-01T12:56:55",
          "1970-01-01T13:44:18",
          "1970-01-01T13:44:18",
          "1970-01-01T13:44:18",
          "1970-01-01T16:00:44",
          "1970-01-01T16:00:44",
          "1970-01-01T16:48:07",
          "1970-01-01T16:48:07",
          "1970-01-01T16:48:07",
          "1970-01-01T19:04:33",
          "1970-01-01T19:04:33",
          "1970-01-01T19:51:56",
          "1970-01-01T19:51:56",
          "1970-01-01T19:51:56"
         ],
         "y": [
          "Carrier A",
          "Carrier A",
          "Carrier A",
          "Carrier A",
          null,
          "Carrier A",
          "Carrier A",
          "Carrier A",
          "Carrier A",
          null,
          "Carrier A",
          "Carrier A",
          "Carrier A",
          "Carrier A",
          null,
          "Carrier A",
          "Carrier A",
          "Carrier A",
          "Carrier A",
          null,
          "Carrier A",
          "Carrier A",
          "Carrier A",
          "Carrier A",
          null,
          "Carrier A",
          "Carrier A",
          "Carrier A",
          "Carrier A",
          null
         ]
        },
        {
         "connectgaps": false,
         "hoverinfo": "y+name",
         "line": {
          "color": "rgb(197,177,245)",
          "width": 10
         },
         "mode": "lines",
         "name": "unloading:Carrier B",
         "type": "scatter",
         "x": [
          "1970-01-01T02:23:45",
          "1970-01-01T02:23:45",
          "1970-01-01T03:04:25",
          "1970-01-01T03:04:25",
          "1970-01-01T03:04:25",
          "1970-01-01T04:59:05",
          "1970-01-01T04:59:05",
          "1970-01-01T05:39:45",
          "1970-01-01T05:39:45",
          "1970-01-01T05:39:45",
          "1970-01-01T07:49:14",
          "1970-01-01T07:49:14",
          "1970-01-01T08:29:54",
          "1970-01-01T08:29:54",
          "1970-01-01T08:29:54",
          "1970-01-01T10:53:03",
          "1970-01-01T10:53:03",
          "1970-01-01T11:33:43",
          "1970-01-01T11:33:43",
          "1970-01-01T11:33:43",
          "1970-01-01T13:56:52",
          "1970-01-01T13:56:52",
          "1970-01-01T14:37:32",
          "1970-01-01T14:37:32",
          "1970-01-01T14:37:32",
          "1970-01-01T17:00:41",
          "1970-01-01T17:00:41",
          "1970-01-01T17:41:21",
          "1970-01-01T17:41:21",
          "1970-01-01T17:41:21"
         ],
         "y": [
          "Carrier B",
          "Carrier B",
          "Carrier B",
          "Carrier B",
          null,
          "Carrier B",
          "Carrier B",
          "Carrier B",
          "Carrier B",
          null,
          "Carrier B",
          "Carrier B",
          "Carrier B",
          "Carrier B",
          null,
          "Carrier B",
          "Carrier B",
          "Carrier B",
          "Carrier B",
          null,
          "Carrier B",
          "Carrier B",
          "Carrier B",
          "Carrier B",
          null,
          "Carrier B",
          "Carrier B",
          "Carrier B",
          "Carrier B",
          null
         ]
        },
        {
         "connectgaps": false,
         "hoverinfo": "y+name",
         "line": {
          "color": "rgb(209,189,1)",
          "width": 10
         },
         "mode": "lines",
         "name": "sailing full:Carrier B",
         "type": "scatter",
         "x": [
          "1970-01-01T01:43:05",
          "1970-01-01T01:43:05",
          "1970-01-01T02:23:45",
          "1970-01-01T02:23:45",
          "1970-01-01T02:23:45",
          "1970-01-01T04:18:25",
          "1970-01-01T04:18:25",
          "1970-01-01T04:59:05",
          "1970-01-01T04:59:05",
          "1970-01-01T04:59:05",
          "1970-01-01T07:08:34",
          "1970-01-01T07:08:34",
          "1970-01-01T07:49:14",
          "1970-01-01T07:49:14",
          "1970-01-01T07:49:14",
          "1970-01-01T10:12:23",
          "1970-01-01T10:12:23",
          "1970-01-01T10:53:03",
          "1970-01-01T10:53:03",
          "1970-01-01T10:53:03",
          "1970-01-01T13:16:12",
          "1970-01-01T13:16:12",
          "1970-01-01T13:56:52",
          "1970-01-01T13:56:52",
          "1970-01-01T13:56:52",
          "1970-01-01T16:20:01",
          "1970-01-01T16:20:01",
          "1970-01-01T17:00:41",
          "1970-01-01T17:00:41",
          "1970-01-01T17:00:41"
         ],
         "y": [
          "Carrier B",
          "Carrier B",
          "Carrier B",
          "Carrier B",
          null,
          "Carrier B",
          "Carrier B",
          "Carrier B",
          "Carrier B",
          null,
          "Carrier B",
          "Carrier B",
          "Carrier B",
          "Carrier B",
          null,
          "Carrier B",
          "Carrier B",
          "Carrier B",
          "Carrier B",
          null,
          "Carrier B",
          "Carrier B",
          "Carrier B",
          "Carrier B",
          null,
          "Carrier B",
          "Carrier B",
          "Carrier B",
          "Carrier B",
          null
         ]
        },
        {
         "connectgaps": false,
         "hoverinfo": "y+name",
         "line": {
          "color": "rgb(221,201,13)",
          "width": 10
         },
         "mode": "lines",
         "name": "sailing empty:Carrier B",
         "type": "scatter",
         "x": [
          "1970-01-01T00:00:00",
          "1970-01-01T00:00:00",
          "1970-01-01T00:40:40",
          "1970-01-01T00:40:40",
          "1970-01-01T00:40:40",
          "1970-01-01T03:04:25",
          "1970-01-01T03:04:25",
          "1970-01-01T03:45:05",
          "1970-01-01T03:45:05",
          "1970-01-01T03:45:05",
          "1970-01-01T05:39:45",
          "1970-01-01T05:39:45",
          "1970-01-01T06:20:25",
          "1970-01-01T06:20:25",
          "1970-01-01T06:20:25",
          "1970-01-01T08:29:54",
          "1970-01-01T08:29:54",
          "1970-01-01T09:10:34",
          "1970-01-01T09:10:34",
          "1970-01-01T09:10:34",
          "1970-01-01T11:33:43",
          "1970-01-01T11:33:43",
          "1970-01-01T12:14:23",
          "1970-01-01T12:14:23",
          "1970-01-01T12:14:23",
          "1970-01-01T14:37:32",
          "1970-01-01T14:37:32",
          "1970-01-01T15:18:12",
          "1970-01-01T15:18:12",
          "1970-01-01T15:18:12"
         ],
         "y": [
          "Carrier B",
          "Carrier B",
          "Carrier B",
          "Carrier B",
          null,
          "Carrier B",
          "Carrier B",
          "Carrier B",
          "Carrier B",
          null,
          "Carrier B",
          "Carrier B",
          "Carrier B",
          "Carrier B",
          null,
          "Carrier B",
          "Carrier B",
          "Carrier B",
          "Carrier B",
          null,
          "Carrier B",
          "Carrier B",
          "Carrier B",
          "Carrier B",
          null,
          "Carrier B",
          "Carrier B",
          "Carrier B",
          "Carrier B",
          null
         ]
        },
        {
         "connectgaps": false,
         "hoverinfo": "y+name",
         "line": {
          "color": "rgb(233,213,25)",
          "width": 10
         },
         "mode": "lines",
         "name": "loading:Carrier B",
         "type": "scatter",
         "x": [
          "1970-01-01T01:09:45",
          "1970-01-01T01:09:45",
          "1970-01-01T01:43:05",
          "1970-01-01T01:43:05",
          "1970-01-01T01:43:05",
          "1970-01-01T03:45:05",
          "1970-01-01T03:45:05",
          "1970-01-01T04:18:25",
          "1970-01-01T04:18:25",
          "1970-01-01T04:18:25",
          "1970-01-01T06:35:14",
          "1970-01-01T06:35:14",
          "1970-01-01T07:08:34",
          "1970-01-01T07:08:34",
          "1970-01-01T07:08:34",
          "1970-01-01T09:39:03",
          "1970-01-01T09:39:03",
          "1970-01-01T10:12:23",
          "1970-01-01T10:12:23",
          "1970-01-01T10:12:23",
          "1970-01-01T12:42:52",
          "1970-01-01T12:42:52",
          "1970-01-01T13:16:12",
          "1970-01-01T13:16:12",
          "1970-01-01T13:16:12",
          "1970-01-01T15:46:41",
          "1970-01-01T15:46:41",
          "1970-01-01T16:20:01",
          "1970-01-01T16:20:01",
          "1970-01-01T16:20:01",
          "1970-01-01T01:09:45",
          "1970-01-01T01:09:45",
          "1970-01-01T01:43:05",
          "1970-01-01T01:43:05",
          "1970-01-01T01:43:05",
          "1970-01-01T03:45:05",
          "1970-01-01T03:45:05",
          "1970-01-01T04:18:25",
          "1970-01-01T04:18:25",
          "1970-01-01T04:18:25",
          "1970-01-01T06:35:14",
          "1970-01-01T06:35:14",
          "1970-01-01T07:08:34",
          "1970-01-01T07:08:34",
          "1970-01-01T07:08:34",
          "1970-01-01T09:39:03",
          "1970-01-01T09:39:03",
          "1970-01-01T10:12:23",
          "1970-01-01T10:12:23",
          "1970-01-01T10:12:23",
          "1970-01-01T12:42:52",
          "1970-01-01T12:42:52",
          "1970-01-01T13:16:12",
          "1970-01-01T13:16:12",
          "1970-01-01T13:16:12",
          "1970-01-01T15:46:41",
          "1970-01-01T15:46:41",
          "1970-01-01T16:20:01",
          "1970-01-01T16:20:01",
          "1970-01-01T16:20:01"
         ],
         "y": [
          "Carrier B",
          "Carrier B",
          "Carrier B",
          "Carrier B",
          null,
          "Carrier B",
          "Carrier B",
          "Carrier B",
          "Carrier B",
          null,
          "Carrier B",
          "Carrier B",
          "Carrier B",
          "Carrier B",
          null,
          "Carrier B",
          "Carrier B",
          "Carrier B",
          "Carrier B",
          null,
          "Carrier B",
          "Carrier B",
          "Carrier B",
          "Carrier B",
          null,
          "Carrier B",
          "Carrier B",
          "Carrier B",
          "Carrier B",
          null,
          "Cutter T",
          "Cutter T",
          "Cutter T",
          "Cutter T",
          null,
          "Cutter T",
          "Cutter T",
          "Cutter T",
          "Cutter T",
          null,
          "Cutter T",
          "Cutter T",
          "Cutter T",
          "Cutter T",
          null,
          "Cutter T",
          "Cutter T",
          "Cutter T",
          "Cutter T",
          null,
          "Cutter T",
          "Cutter T",
          "Cutter T",
          "Cutter T",
          null,
          "Cutter T",
          "Cutter T",
          "Cutter T",
          "Cutter T",
          null
         ]
        },
        {
         "connectgaps": false,
         "hoverinfo": "y+name",
         "line": {
          "color": "rgb(245,225,37)",
          "width": 10
         },
         "mode": "lines",
         "name": "sailing empty:Carrier C",
         "type": "scatter",
         "x": [
          "1970-01-01T00:00:00",
          "1970-01-01T00:00:00",
          "1970-01-01T00:36:25",
          "1970-01-01T00:36:25",
          "1970-01-01T00:36:25",
          "1970-01-01T02:22:35",
          "1970-01-01T02:22:35",
          "1970-01-01T02:59:00",
          "1970-01-01T02:59:00",
          "1970-01-01T02:59:00",
          "1970-01-01T04:45:10",
          "1970-01-01T04:45:10",
          "1970-01-01T05:21:35",
          "1970-01-01T05:21:35",
          "1970-01-01T05:21:35",
          "1970-01-01T07:48:04",
          "1970-01-01T07:48:04",
          "1970-01-01T08:24:29",
          "1970-01-01T08:24:29",
          "1970-01-01T08:24:29",
          "1970-01-01T10:51:53",
          "1970-01-01T10:51:53",
          "1970-01-01T11:28:18",
          "1970-01-01T11:28:18",
          "1970-01-01T11:28:18",
          "1970-01-01T13:55:42",
          "1970-01-01T13:55:42",
          "1970-01-01T14:32:07",
          "1970-01-01T14:32:07",
          "1970-01-01T14:32:07"
         ],
         "y": [
          "Carrier C",
          "Carrier C",
          "Carrier C",
          "Carrier C",
          null,
          "Carrier C",
          "Carrier C",
          "Carrier C",
          "Carrier C",
          null,
          "Carrier C",
          "Carrier C",
          "Carrier C",
          "Carrier C",
          null,
          "Carrier C",
          "Carrier C",
          "Carrier C",
          "Carrier C",
          null,
          "Carrier C",
          "Carrier C",
          "Carrier C",
          "Carrier C",
          null,
          "Carrier C",
          "Carrier C",
          "Carrier C",
          "Carrier C",
          null
         ]
        },
        {
         "connectgaps": false,
         "hoverinfo": "y+name",
         "line": {
          "color": "rgb(1,237,49)",
          "width": 10
         },
         "mode": "lines",
         "name": "loading:Carrier C",
         "type": "scatter",
         "x": [
          "1970-01-01T00:36:25",
          "1970-01-01T00:36:25",
          "1970-01-01T01:09:45",
          "1970-01-01T01:09:45",
          "1970-01-01T01:09:45",
          "1970-01-01T02:59:00",
          "1970-01-01T02:59:00",
          "1970-01-01T03:32:20",
          "1970-01-01T03:32:20",
          "1970-01-01T03:32:20",
          "1970-01-01T06:01:54",
          "1970-01-01T06:01:54",
          "1970-01-01T06:35:14",
          "1970-01-01T06:35:14",
          "1970-01-01T06:35:14",
          "1970-01-01T09:05:43",
          "1970-01-01T09:05:43",
          "1970-01-01T09:39:03",
          "1970-01-01T09:39:03",
          "1970-01-01T09:39:03",
          "1970-01-01T12:09:32",
          "1970-01-01T12:09:32",
          "1970-01-01T12:42:52",
          "1970-01-01T12:42:52",
          "1970-01-01T12:42:52",
          "1970-01-01T15:13:21",
          "1970-01-01T15:13:21",
          "1970-01-01T15:46:41",
          "1970-01-01T15:46:41",
          "1970-01-01T15:46:41",
          "1970-01-01T00:36:25",
          "1970-01-01T00:36:25",
          "1970-01-01T01:09:45",
          "1970-01-01T01:09:45",
          "1970-01-01T01:09:45",
          "1970-01-01T02:59:00",
          "1970-01-01T02:59:00",
          "1970-01-01T03:32:20",
          "1970-01-01T03:32:20",
          "1970-01-01T03:32:20",
          "1970-01-01T06:01:54",
          "1970-01-01T06:01:54",
          "1970-01-01T06:35:14",
          "1970-01-01T06:35:14",
          "1970-01-01T06:35:14",
          "1970-01-01T09:05:43",
          "1970-01-01T09:05:43",
          "1970-01-01T09:39:03",
          "1970-01-01T09:39:03",
          "1970-01-01T09:39:03",
          "1970-01-01T12:09:32",
          "1970-01-01T12:09:32",
          "1970-01-01T12:42:52",
          "1970-01-01T12:42:52",
          "1970-01-01T12:42:52",
          "1970-01-01T15:13:21",
          "1970-01-01T15:13:21",
          "1970-01-01T15:46:41",
          "1970-01-01T15:46:41",
          "1970-01-01T15:46:41"
         ],
         "y": [
          "Carrier C",
          "Carrier C",
          "Carrier C",
          "Carrier C",
          null,
          "Carrier C",
          "Carrier C",
          "Carrier C",
          "Carrier C",
          null,
          "Carrier C",
          "Carrier C",
          "Carrier C",
          "Carrier C",
          null,
          "Carrier C",
          "Carrier C",
          "Carrier C",
          "Carrier C",
          null,
          "Carrier C",
          "Carrier C",
          "Carrier C",
          "Carrier C",
          null,
          "Carrier C",
          "Carrier C",
          "Carrier C",
          "Carrier C",
          null,
          "Cutter T",
          "Cutter T",
          "Cutter T",
          "Cutter T",
          null,
          "Cutter T",
          "Cutter T",
          "Cutter T",
          "Cutter T",
          null,
          "Cutter T",
          "Cutter T",
          "Cutter T",
          "Cutter T",
          null,
          "Cutter T",
          "Cutter T",
          "Cutter T",
          "Cutter T",
          null,
          "Cutter T",
          "Cutter T",
          "Cutter T",
          "Cutter T",
          null,
          "Cutter T",
          "Cutter T",
          "Cutter T",
          "Cutter T",
          null
         ]
        },
        {
         "connectgaps": false,
         "hoverinfo": "y+name",
         "line": {
          "color": "rgb(13,249,61)",
          "width": 10
         },
         "mode": "lines",
         "name": "sailing full:Carrier C",
         "type": "scatter",
         "x": [
          "1970-01-01T01:09:45",
          "1970-01-01T01:09:45",
          "1970-01-01T01:46:10",
          "1970-01-01T01:46:10",
          "1970-01-01T01:46:10",
          "1970-01-01T03:32:20",
          "1970-01-01T03:32:20",
          "1970-01-01T04:08:45",
          "1970-01-01T04:08:45",
          "1970-01-01T04:08:45",
          "1970-01-01T06:35:14",
          "1970-01-01T06:35:14",
          "1970-01-01T07:11:39",
          "1970-01-01T07:11:39",
          "1970-01-01T07:11:39",
          "1970-01-01T09:39:03",
          "1970-01-01T09:39:03",
          "1970-01-01T10:15:28",
          "1970-01-01T10:15:28",
          "1970-01-01T10:15:28",
          "1970-01-01T12:42:52",
          "1970-01-01T12:42:52",
          "1970-01-01T13:19:17",
          "1970-01-01T13:19:17",
          "1970-01-01T13:19:17",
          "1970-01-01T15:46:41",
          "1970-01-01T15:46:41",
          "1970-01-01T16:23:06",
          "1970-01-01T16:23:06",
          "1970-01-01T16:23:06"
         ],
         "y": [
          "Carrier C",
          "Carrier C",
          "Carrier C",
          "Carrier C",
          null,
          "Carrier C",
          "Carrier C",
          "Carrier C",
          "Carrier C",
          null,
          "Carrier C",
          "Carrier C",
          "Carrier C",
          "Carrier C",
          null,
          "Carrier C",
          "Carrier C",
          "Carrier C",
          "Carrier C",
          null,
          "Carrier C",
          "Carrier C",
          "Carrier C",
          "Carrier C",
          null,
          "Carrier C",
          "Carrier C",
          "Carrier C",
          "Carrier C",
          null
         ]
        },
        {
         "connectgaps": false,
         "hoverinfo": "y+name",
         "line": {
          "color": "rgb(25,5,73)",
          "width": 10
         },
         "mode": "lines",
         "name": "unloading:Carrier C",
         "type": "scatter",
         "x": [
          "1970-01-01T01:46:10",
          "1970-01-01T01:46:10",
          "1970-01-01T02:22:35",
          "1970-01-01T02:22:35",
          "1970-01-01T02:22:35",
          "1970-01-01T04:08:45",
          "1970-01-01T04:08:45",
          "1970-01-01T04:45:10",
          "1970-01-01T04:45:10",
          "1970-01-01T04:45:10",
          "1970-01-01T07:11:39",
          "1970-01-01T07:11:39",
          "1970-01-01T07:48:04",
          "1970-01-01T07:48:04",
          "1970-01-01T07:48:04",
          "1970-01-01T10:15:28",
          "1970-01-01T10:15:28",
          "1970-01-01T10:51:53",
          "1970-01-01T10:51:53",
          "1970-01-01T10:51:53",
          "1970-01-01T13:19:17",
          "1970-01-01T13:19:17",
          "1970-01-01T13:55:42",
          "1970-01-01T13:55:42",
          "1970-01-01T13:55:42",
          "1970-01-01T16:23:06",
          "1970-01-01T16:23:06",
          "1970-01-01T16:59:31",
          "1970-01-01T16:59:31",
          "1970-01-01T16:59:31"
         ],
         "y": [
          "Carrier C",
          "Carrier C",
          "Carrier C",
          "Carrier C",
          null,
          "Carrier C",
          "Carrier C",
          "Carrier C",
          "Carrier C",
          null,
          "Carrier C",
          "Carrier C",
          "Carrier C",
          "Carrier C",
          null,
          "Carrier C",
          "Carrier C",
          "Carrier C",
          "Carrier C",
          null,
          "Carrier C",
          "Carrier C",
          "Carrier C",
          "Carrier C",
          null,
          "Carrier C",
          "Carrier C",
          "Carrier C",
          "Carrier C",
          null
         ]
        },
        {
         "connectgaps": false,
         "hoverinfo": "y+name",
         "line": {
          "color": "rgb(37,17,85)",
          "width": 10
         },
         "mode": "lines",
         "name": "loading:Barge I",
         "type": "scatter",
         "x": [
          "1970-01-01T01:43:05",
          "1970-01-01T01:43:05",
          "1970-01-01T02:16:25",
          "1970-01-01T02:16:25",
          "1970-01-01T02:16:25",
          "1970-01-01T04:25:31",
          "1970-01-01T04:25:31",
          "1970-01-01T04:58:51",
          "1970-01-01T04:58:51",
          "1970-01-01T04:58:51",
          "1970-01-01T07:08:34",
          "1970-01-01T07:08:34",
          "1970-01-01T07:41:54",
          "1970-01-01T07:41:54",
          "1970-01-01T07:41:54",
          "1970-01-01T10:12:23",
          "1970-01-01T10:12:23",
          "1970-01-01T10:45:43",
          "1970-01-01T10:45:43",
          "1970-01-01T10:45:43",
          "1970-01-01T13:16:12",
          "1970-01-01T13:16:12",
          "1970-01-01T13:49:32",
          "1970-01-01T13:49:32",
          "1970-01-01T13:49:32",
          "1970-01-01T16:20:01",
          "1970-01-01T16:20:01",
          "1970-01-01T16:53:21",
          "1970-01-01T16:53:21",
          "1970-01-01T16:53:21",
          "1970-01-01T01:43:05",
          "1970-01-01T01:43:05",
          "1970-01-01T02:16:25",
          "1970-01-01T02:16:25",
          "1970-01-01T02:16:25",
          "1970-01-01T04:25:31",
          "1970-01-01T04:25:31",
          "1970-01-01T04:58:51",
          "1970-01-01T04:58:51",
          "1970-01-01T04:58:51",
          "1970-01-01T07:08:34",
          "1970-01-01T07:08:34",
          "1970-01-01T07:41:54",
          "1970-01-01T07:41:54",
          "1970-01-01T07:41:54",
          "1970-01-01T10:12:23",
          "1970-01-01T10:12:23",
          "1970-01-01T10:45:43",
          "1970-01-01T10:45:43",
          "1970-01-01T10:45:43",
          "1970-01-01T13:16:12",
          "1970-01-01T13:16:12",
          "1970-01-01T13:49:32",
          "1970-01-01T13:49:32",
          "1970-01-01T13:49:32",
          "1970-01-01T16:20:01",
          "1970-01-01T16:20:01",
          "1970-01-01T16:53:21",
          "1970-01-01T16:53:21",
          "1970-01-01T16:53:21"
         ],
         "y": [
          "Barge I",
          "Barge I",
          "Barge I",
          "Barge I",
          null,
          "Barge I",
          "Barge I",
          "Barge I",
          "Barge I",
          null,
          "Barge I",
          "Barge I",
          "Barge I",
          "Barge I",
          null,
          "Barge I",
          "Barge I",
          "Barge I",
          "Barge I",
          null,
          "Barge I",
          "Barge I",
          "Barge I",
          "Barge I",
          null,
          "Barge I",
          "Barge I",
          "Barge I",
          "Barge I",
          null,
          "Cutter T",
          "Cutter T",
          "Cutter T",
          "Cutter T",
          null,
          "Cutter T",
          "Cutter T",
          "Cutter T",
          "Cutter T",
          null,
          "Cutter T",
          "Cutter T",
          "Cutter T",
          "Cutter T",
          null,
          "Cutter T",
          "Cutter T",
          "Cutter T",
          "Cutter T",
          null,
          "Cutter T",
          "Cutter T",
          "Cutter T",
          "Cutter T",
          null,
          "Cutter T",
          "Cutter T",
          "Cutter T",
          "Cutter T",
          null
         ]
        },
        {
         "connectgaps": false,
         "hoverinfo": "y+name",
         "line": {
          "color": "rgb(49,29,97)",
          "width": 10
         },
         "mode": "lines",
         "name": "unloading:Barge I",
         "type": "scatter",
         "x": [
          "1970-01-01T02:59:27",
          "1970-01-01T02:59:27",
          "1970-01-01T03:42:29",
          "1970-01-01T03:42:29",
          "1970-01-01T03:42:29",
          "1970-01-01T05:41:53",
          "1970-01-01T05:41:53",
          "1970-01-01T06:24:55",
          "1970-01-01T06:24:55",
          "1970-01-01T06:24:55",
          "1970-01-01T08:24:56",
          "1970-01-01T08:24:56",
          "1970-01-01T09:07:58",
          "1970-01-01T09:07:58",
          "1970-01-01T09:07:58",
          "1970-01-01T11:28:45",
          "1970-01-01T11:28:45",
          "1970-01-01T12:11:47",
          "1970-01-01T12:11:47",
          "1970-01-01T12:11:47",
          "1970-01-01T14:32:34",
          "1970-01-01T14:32:34",
          "1970-01-01T15:15:36",
          "1970-01-01T15:15:36",
          "1970-01-01T15:15:36",
          "1970-01-01T17:36:23",
          "1970-01-01T17:36:23",
          "1970-01-01T18:19:25",
          "1970-01-01T18:19:25",
          "1970-01-01T18:19:25"
         ],
         "y": [
          "Barge I",
          "Barge I",
          "Barge I",
          "Barge I",
          null,
          "Barge I",
          "Barge I",
          "Barge I",
          "Barge I",
          null,
          "Barge I",
          "Barge I",
          "Barge I",
          "Barge I",
          null,
          "Barge I",
          "Barge I",
          "Barge I",
          "Barge I",
          null,
          "Barge I",
          "Barge I",
          "Barge I",
          "Barge I",
          null,
          "Barge I",
          "Barge I",
          "Barge I",
          "Barge I",
          null
         ]
        },
        {
         "connectgaps": false,
         "hoverinfo": "y+name",
         "line": {
          "color": "rgb(61,41,109)",
          "width": 10
         },
         "mode": "lines",
         "name": "sailing empty:Barge I",
         "type": "scatter",
         "x": [
          "1970-01-01T00:00:00",
          "1970-01-01T00:00:00",
          "1970-01-01T00:43:02",
          "1970-01-01T00:43:02",
          "1970-01-01T00:43:02",
          "1970-01-01T03:42:29",
          "1970-01-01T03:42:29",
          "1970-01-01T04:25:31",
          "1970-01-01T04:25:31",
          "1970-01-01T04:25:31",
          "1970-01-01T06:24:55",
          "1970-01-01T06:24:55",
          "1970-01-01T07:07:57",
          "1970-01-01T07:07:57",
          "1970-01-01T07:07:57",
          "1970-01-01T09:07:58",
          "1970-01-01T09:07:58",
          "1970-01-01T09:51:00",
          "1970-01-01T09:51:00",
          "1970-01-01T09:51:00",
          "1970-01-01T12:11:47",
          "1970-01-01T12:11:47",
          "1970-01-01T12:54:49",
          "1970-01-01T12:54:49",
          "1970-01-01T12:54:49",
          "1970-01-01T15:15:36",
          "1970-01-01T15:15:36",
          "1970-01-01T15:58:38",
          "1970-01-01T15:58:38",
          "1970-01-01T15:58:38"
         ],
         "y": [
          "Barge I",
          "Barge I",
          "Barge I",
          "Barge I",
          null,
          "Barge I",
          "Barge I",
          "Barge I",
          "Barge I",
          null,
          "Barge I",
          "Barge I",
          "Barge I",
          "Barge I",
          null,
          "Barge I",
          "Barge I",
          "Barge I",
          "Barge I",
          null,
          "Barge I",
          "Barge I",
          "Barge I",
          "Barge I",
          null,
          "Barge I",
          "Barge I",
          "Barge I",
          "Barge I",
          null
         ]
        },
        {
         "connectgaps": false,
         "hoverinfo": "y+name",
         "line": {
          "color": "rgb(73,53,121)",
          "width": 10
         },
         "mode": "lines",
         "name": "sailing full:Barge I",
         "type": "scatter",
         "x": [
          "1970-01-01T02:16:25",
          "1970-01-01T02:16:25",
          "1970-01-01T02:59:27",
          "1970-01-01T02:59:27",
          "1970-01-01T02:59:27",
          "1970-01-01T04:58:51",
          "1970-01-01T04:58:51",
          "1970-01-01T05:41:53",
          "1970-01-01T05:41:53",
          "1970-01-01T05:41:53",
          "1970-01-01T07:41:54",
          "1970-01-01T07:41:54",
          "1970-01-01T08:24:56",
          "1970-01-01T08:24:56",
          "1970-01-01T08:24:56",
          "1970-01-01T10:45:43",
          "1970-01-01T10:45:43",
          "1970-01-01T11:28:45",
          "1970-01-01T11:28:45",
          "1970-01-01T11:28:45",
          "1970-01-01T13:49:32",
          "1970-01-01T13:49:32",
          "1970-01-01T14:32:34",
          "1970-01-01T14:32:34",
          "1970-01-01T14:32:34",
          "1970-01-01T16:53:21",
          "1970-01-01T16:53:21",
          "1970-01-01T17:36:23",
          "1970-01-01T17:36:23",
          "1970-01-01T17:36:23"
         ],
         "y": [
          "Barge I",
          "Barge I",
          "Barge I",
          "Barge I",
          null,
          "Barge I",
          "Barge I",
          "Barge I",
          "Barge I",
          null,
          "Barge I",
          "Barge I",
          "Barge I",
          "Barge I",
          null,
          "Barge I",
          "Barge I",
          "Barge I",
          "Barge I",
          null,
          "Barge I",
          "Barge I",
          "Barge I",
          "Barge I",
          null,
          "Barge I",
          "Barge I",
          "Barge I",
          "Barge I",
          null
         ]
        },
        {
         "connectgaps": false,
         "hoverinfo": "y+name",
         "line": {
          "color": "rgb(85,65,133)",
          "width": 10
         },
         "mode": "lines",
         "name": "loading:Barge I",
         "type": "scatter",
         "x": [
          "1970-01-01T01:43:05",
          "1970-01-01T01:43:05",
          "1970-01-01T02:16:25",
          "1970-01-01T02:16:25",
          "1970-01-01T02:16:25",
          "1970-01-01T04:25:31",
          "1970-01-01T04:25:31",
          "1970-01-01T04:58:51",
          "1970-01-01T04:58:51",
          "1970-01-01T04:58:51",
          "1970-01-01T07:08:34",
          "1970-01-01T07:08:34",
          "1970-01-01T07:41:54",
          "1970-01-01T07:41:54",
          "1970-01-01T07:41:54",
          "1970-01-01T10:12:23",
          "1970-01-01T10:12:23",
          "1970-01-01T10:45:43",
          "1970-01-01T10:45:43",
          "1970-01-01T10:45:43",
          "1970-01-01T13:16:12",
          "1970-01-01T13:16:12",
          "1970-01-01T13:49:32",
          "1970-01-01T13:49:32",
          "1970-01-01T13:49:32",
          "1970-01-01T16:20:01",
          "1970-01-01T16:20:01",
          "1970-01-01T16:53:21",
          "1970-01-01T16:53:21",
          "1970-01-01T16:53:21",
          "1970-01-01T01:43:05",
          "1970-01-01T01:43:05",
          "1970-01-01T02:16:25",
          "1970-01-01T02:16:25",
          "1970-01-01T02:16:25",
          "1970-01-01T04:25:31",
          "1970-01-01T04:25:31",
          "1970-01-01T04:58:51",
          "1970-01-01T04:58:51",
          "1970-01-01T04:58:51",
          "1970-01-01T07:08:34",
          "1970-01-01T07:08:34",
          "1970-01-01T07:41:54",
          "1970-01-01T07:41:54",
          "1970-01-01T07:41:54",
          "1970-01-01T10:12:23",
          "1970-01-01T10:12:23",
          "1970-01-01T10:45:43",
          "1970-01-01T10:45:43",
          "1970-01-01T10:45:43",
          "1970-01-01T13:16:12",
          "1970-01-01T13:16:12",
          "1970-01-01T13:49:32",
          "1970-01-01T13:49:32",
          "1970-01-01T13:49:32",
          "1970-01-01T16:20:01",
          "1970-01-01T16:20:01",
          "1970-01-01T16:53:21",
          "1970-01-01T16:53:21",
          "1970-01-01T16:53:21"
         ],
         "y": [
          "Barge I",
          "Barge I",
          "Barge I",
          "Barge I",
          null,
          "Barge I",
          "Barge I",
          "Barge I",
          "Barge I",
          null,
          "Barge I",
          "Barge I",
          "Barge I",
          "Barge I",
          null,
          "Barge I",
          "Barge I",
          "Barge I",
          "Barge I",
          null,
          "Barge I",
          "Barge I",
          "Barge I",
          "Barge I",
          null,
          "Barge I",
          "Barge I",
          "Barge I",
          "Barge I",
          null,
          "Cutter T",
          "Cutter T",
          "Cutter T",
          "Cutter T",
          null,
          "Cutter T",
          "Cutter T",
          "Cutter T",
          "Cutter T",
          null,
          "Cutter T",
          "Cutter T",
          "Cutter T",
          "Cutter T",
          null,
          "Cutter T",
          "Cutter T",
          "Cutter T",
          "Cutter T",
          null,
          "Cutter T",
          "Cutter T",
          "Cutter T",
          "Cutter T",
          null,
          "Cutter T",
          "Cutter T",
          "Cutter T",
          "Cutter T",
          null
         ]
        },
        {
         "connectgaps": false,
         "hoverinfo": "y+name",
         "line": {
          "color": "rgb(97,77,145)",
          "width": 10
         },
         "mode": "lines",
         "name": "loading:Carrier A",
         "type": "scatter",
         "x": [
          "1970-01-01T02:16:25",
          "1970-01-01T02:16:25",
          "1970-01-01T02:58:05",
          "1970-01-01T02:58:05",
          "1970-01-01T02:58:05",
          "1970-01-01T05:20:14",
          "1970-01-01T05:20:14",
          "1970-01-01T06:01:54",
          "1970-01-01T06:01:54",
          "1970-01-01T06:01:54",
          "1970-01-01T08:24:03",
          "1970-01-01T08:24:03",
          "1970-01-01T09:05:43",
          "1970-01-01T09:05:43",
          "1970-01-01T09:05:43",
          "1970-01-01T11:27:52",
          "1970-01-01T11:27:52",
          "1970-01-01T12:09:32",
          "1970-01-01T12:09:32",
          "1970-01-01T12:09:32",
          "1970-01-01T14:31:41",
          "1970-01-01T14:31:41",
          "1970-01-01T15:13:21",
          "1970-01-01T15:13:21",
          "1970-01-01T15:13:21",
          "1970-01-01T17:35:30",
          "1970-01-01T17:35:30",
          "1970-01-01T18:17:10",
          "1970-01-01T18:17:10",
          "1970-01-01T18:17:10",
          "1970-01-01T02:16:25",
          "1970-01-01T02:16:25",
          "1970-01-01T02:58:05",
          "1970-01-01T02:58:05",
          "1970-01-01T02:58:05",
          "1970-01-01T05:20:14",
          "1970-01-01T05:20:14",
          "1970-01-01T06:01:54",
          "1970-01-01T06:01:54",
          "1970-01-01T06:01:54",
          "1970-01-01T08:24:03",
          "1970-01-01T08:24:03",
          "1970-01-01T09:05:43",
          "1970-01-01T09:05:43",
          "1970-01-01T09:05:43",
          "1970-01-01T11:27:52",
          "1970-01-01T11:27:52",
          "1970-01-01T12:09:32",
          "1970-01-01T12:09:32",
          "1970-01-01T12:09:32",
          "1970-01-01T14:31:41",
          "1970-01-01T14:31:41",
          "1970-01-01T15:13:21",
          "1970-01-01T15:13:21",
          "1970-01-01T15:13:21",
          "1970-01-01T17:35:30",
          "1970-01-01T17:35:30",
          "1970-01-01T18:17:10",
          "1970-01-01T18:17:10",
          "1970-01-01T18:17:10"
         ],
         "y": [
          "Carrier A",
          "Carrier A",
          "Carrier A",
          "Carrier A",
          null,
          "Carrier A",
          "Carrier A",
          "Carrier A",
          "Carrier A",
          null,
          "Carrier A",
          "Carrier A",
          "Carrier A",
          "Carrier A",
          null,
          "Carrier A",
          "Carrier A",
          "Carrier A",
          "Carrier A",
          null,
          "Carrier A",
          "Carrier A",
          "Carrier A",
          "Carrier A",
          null,
          "Carrier A",
          "Carrier A",
          "Carrier A",
          "Carrier A",
          null,
          "Cutter T",
          "Cutter T",
          "Cutter T",
          "Cutter T",
          null,
          "Cutter T",
          "Cutter T",
          "Cutter T",
          "Cutter T",
          null,
          "Cutter T",
          "Cutter T",
          "Cutter T",
          "Cutter T",
          null,
          "Cutter T",
          "Cutter T",
          "Cutter T",
          "Cutter T",
          null,
          "Cutter T",
          "Cutter T",
          "Cutter T",
          "Cutter T",
          null,
          "Cutter T",
          "Cutter T",
          "Cutter T",
          "Cutter T",
          null
         ]
        },
        {
         "connectgaps": false,
         "hoverinfo": "y+name",
         "line": {
          "color": "rgb(109,89,157)",
          "width": 10
         },
         "mode": "lines",
         "name": "loading:Carrier C",
         "type": "scatter",
         "x": [
          "1970-01-01T00:36:25",
          "1970-01-01T00:36:25",
          "1970-01-01T01:09:45",
          "1970-01-01T01:09:45",
          "1970-01-01T01:09:45",
          "1970-01-01T02:59:00",
          "1970-01-01T02:59:00",
          "1970-01-01T03:32:20",
          "1970-01-01T03:32:20",
          "1970-01-01T03:32:20",
          "1970-01-01T06:01:54",
          "1970-01-01T06:01:54",
          "1970-01-01T06:35:14",
          "1970-01-01T06:35:14",
          "1970-01-01T06:35:14",
          "1970-01-01T09:05:43",
          "1970-01-01T09:05:43",
          "1970-01-01T09:39:03",
          "1970-01-01T09:39:03",
          "1970-01-01T09:39:03",
          "1970-01-01T12:09:32",
          "1970-01-01T12:09:32",
          "1970-01-01T12:42:52",
          "1970-01-01T12:42:52",
          "1970-01-01T12:42:52",
          "1970-01-01T15:13:21",
          "1970-01-01T15:13:21",
          "1970-01-01T15:46:41",
          "1970-01-01T15:46:41",
          "1970-01-01T15:46:41",
          "1970-01-01T00:36:25",
          "1970-01-01T00:36:25",
          "1970-01-01T01:09:45",
          "1970-01-01T01:09:45",
          "1970-01-01T01:09:45",
          "1970-01-01T02:59:00",
          "1970-01-01T02:59:00",
          "1970-01-01T03:32:20",
          "1970-01-01T03:32:20",
          "1970-01-01T03:32:20",
          "1970-01-01T06:01:54",
          "1970-01-01T06:01:54",
          "1970-01-01T06:35:14",
          "1970-01-01T06:35:14",
          "1970-01-01T06:35:14",
          "1970-01-01T09:05:43",
          "1970-01-01T09:05:43",
          "1970-01-01T09:39:03",
          "1970-01-01T09:39:03",
          "1970-01-01T09:39:03",
          "1970-01-01T12:09:32",
          "1970-01-01T12:09:32",
          "1970-01-01T12:42:52",
          "1970-01-01T12:42:52",
          "1970-01-01T12:42:52",
          "1970-01-01T15:13:21",
          "1970-01-01T15:13:21",
          "1970-01-01T15:46:41",
          "1970-01-01T15:46:41",
          "1970-01-01T15:46:41"
         ],
         "y": [
          "Carrier C",
          "Carrier C",
          "Carrier C",
          "Carrier C",
          null,
          "Carrier C",
          "Carrier C",
          "Carrier C",
          "Carrier C",
          null,
          "Carrier C",
          "Carrier C",
          "Carrier C",
          "Carrier C",
          null,
          "Carrier C",
          "Carrier C",
          "Carrier C",
          "Carrier C",
          null,
          "Carrier C",
          "Carrier C",
          "Carrier C",
          "Carrier C",
          null,
          "Carrier C",
          "Carrier C",
          "Carrier C",
          "Carrier C",
          null,
          "Cutter T",
          "Cutter T",
          "Cutter T",
          "Cutter T",
          null,
          "Cutter T",
          "Cutter T",
          "Cutter T",
          "Cutter T",
          null,
          "Cutter T",
          "Cutter T",
          "Cutter T",
          "Cutter T",
          null,
          "Cutter T",
          "Cutter T",
          "Cutter T",
          "Cutter T",
          null,
          "Cutter T",
          "Cutter T",
          "Cutter T",
          "Cutter T",
          null,
          "Cutter T",
          "Cutter T",
          "Cutter T",
          "Cutter T",
          null
         ]
        },
        {
         "connectgaps": false,
         "hoverinfo": "y+name",
         "line": {
          "color": "rgb(121,101,169)",
          "width": 10
         },
         "mode": "lines",
         "name": "loading:Carrier B",
         "type": "scatter",
         "x": [
          "1970-01-01T01:09:45",
          "1970-01-01T01:09:45",
          "1970-01-01T01:43:05",
          "1970-01-01T01:43:05",
          "1970-01-01T01:43:05",
          "1970-01-01T03:45:05",
          "1970-01-01T03:45:05",
          "1970-01-01T04:18:25",
          "1970-01-01T04:18:25",
          "1970-01-01T04:18:25",
          "1970-01-01T06:35:14",
          "1970-01-01T06:35:14",
          "1970-01-01T07:08:34",
          "1970-01-01T07:08:34",
          "1970-01-01T07:08:34",
          "1970-01-01T09:39:03",
          "1970-01-01T09:39:03",
          "1970-01-01T10:12:23",
          "1970-01-01T10:12:23",
          "1970-01-01T10:12:23",
          "1970-01-01T12:42:52",
          "1970-01-01T12:42:52",
          "1970-01-01T13:16:12",
          "1970-01-01T13:16:12",
          "1970-01-01T13:16:12",
          "1970-01-01T15:46:41",
          "1970-01-01T15:46:41",
          "1970-01-01T16:20:01",
          "1970-01-01T16:20:01",
          "1970-01-01T16:20:01",
          "1970-01-01T01:09:45",
          "1970-01-01T01:09:45",
          "1970-01-01T01:43:05",
          "1970-01-01T01:43:05",
          "1970-01-01T01:43:05",
          "1970-01-01T03:45:05",
          "1970-01-01T03:45:05",
          "1970-01-01T04:18:25",
          "1970-01-01T04:18:25",
          "1970-01-01T04:18:25",
          "1970-01-01T06:35:14",
          "1970-01-01T06:35:14",
          "1970-01-01T07:08:34",
          "1970-01-01T07:08:34",
          "1970-01-01T07:08:34",
          "1970-01-01T09:39:03",
          "1970-01-01T09:39:03",
          "1970-01-01T10:12:23",
          "1970-01-01T10:12:23",
          "1970-01-01T10:12:23",
          "1970-01-01T12:42:52",
          "1970-01-01T12:42:52",
          "1970-01-01T13:16:12",
          "1970-01-01T13:16:12",
          "1970-01-01T13:16:12",
          "1970-01-01T15:46:41",
          "1970-01-01T15:46:41",
          "1970-01-01T16:20:01",
          "1970-01-01T16:20:01",
          "1970-01-01T16:20:01"
         ],
         "y": [
          "Carrier B",
          "Carrier B",
          "Carrier B",
          "Carrier B",
          null,
          "Carrier B",
          "Carrier B",
          "Carrier B",
          "Carrier B",
          null,
          "Carrier B",
          "Carrier B",
          "Carrier B",
          "Carrier B",
          null,
          "Carrier B",
          "Carrier B",
          "Carrier B",
          "Carrier B",
          null,
          "Carrier B",
          "Carrier B",
          "Carrier B",
          "Carrier B",
          null,
          "Carrier B",
          "Carrier B",
          "Carrier B",
          "Carrier B",
          null,
          "Cutter T",
          "Cutter T",
          "Cutter T",
          "Cutter T",
          null,
          "Cutter T",
          "Cutter T",
          "Cutter T",
          "Cutter T",
          null,
          "Cutter T",
          "Cutter T",
          "Cutter T",
          "Cutter T",
          null,
          "Cutter T",
          "Cutter T",
          "Cutter T",
          "Cutter T",
          null,
          "Cutter T",
          "Cutter T",
          "Cutter T",
          "Cutter T",
          null,
          "Cutter T",
          "Cutter T",
          "Cutter T",
          "Cutter T",
          null
         ]
        }
       ],
       "layout": {
        "hovermode": "closest",
        "legend": {
         "orientation": "h",
         "x": 0,
         "y": -0.2
        },
        "template": {
         "data": {
          "bar": [
           {
            "error_x": {
             "color": "#2a3f5f"
            },
            "error_y": {
             "color": "#2a3f5f"
            },
            "marker": {
             "line": {
              "color": "#E5ECF6",
              "width": 0.5
             },
             "pattern": {
              "fillmode": "overlay",
              "size": 10,
              "solidity": 0.2
             }
            },
            "type": "bar"
           }
          ],
          "barpolar": [
           {
            "marker": {
             "line": {
              "color": "#E5ECF6",
              "width": 0.5
             },
             "pattern": {
              "fillmode": "overlay",
              "size": 10,
              "solidity": 0.2
             }
            },
            "type": "barpolar"
           }
          ],
          "carpet": [
           {
            "aaxis": {
             "endlinecolor": "#2a3f5f",
             "gridcolor": "white",
             "linecolor": "white",
             "minorgridcolor": "white",
             "startlinecolor": "#2a3f5f"
            },
            "baxis": {
             "endlinecolor": "#2a3f5f",
             "gridcolor": "white",
             "linecolor": "white",
             "minorgridcolor": "white",
             "startlinecolor": "#2a3f5f"
            },
            "type": "carpet"
           }
          ],
          "choropleth": [
           {
            "colorbar": {
             "outlinewidth": 0,
             "ticks": ""
            },
            "type": "choropleth"
           }
          ],
          "contour": [
           {
            "colorbar": {
             "outlinewidth": 0,
             "ticks": ""
            },
            "colorscale": [
             [
              0,
              "#0d0887"
             ],
             [
              0.1111111111111111,
              "#46039f"
             ],
             [
              0.2222222222222222,
              "#7201a8"
             ],
             [
              0.3333333333333333,
              "#9c179e"
             ],
             [
              0.4444444444444444,
              "#bd3786"
             ],
             [
              0.5555555555555556,
              "#d8576b"
             ],
             [
              0.6666666666666666,
              "#ed7953"
             ],
             [
              0.7777777777777778,
              "#fb9f3a"
             ],
             [
              0.8888888888888888,
              "#fdca26"
             ],
             [
              1,
              "#f0f921"
             ]
            ],
            "type": "contour"
           }
          ],
          "contourcarpet": [
           {
            "colorbar": {
             "outlinewidth": 0,
             "ticks": ""
            },
            "type": "contourcarpet"
           }
          ],
          "heatmap": [
           {
            "colorbar": {
             "outlinewidth": 0,
             "ticks": ""
            },
            "colorscale": [
             [
              0,
              "#0d0887"
             ],
             [
              0.1111111111111111,
              "#46039f"
             ],
             [
              0.2222222222222222,
              "#7201a8"
             ],
             [
              0.3333333333333333,
              "#9c179e"
             ],
             [
              0.4444444444444444,
              "#bd3786"
             ],
             [
              0.5555555555555556,
              "#d8576b"
             ],
             [
              0.6666666666666666,
              "#ed7953"
             ],
             [
              0.7777777777777778,
              "#fb9f3a"
             ],
             [
              0.8888888888888888,
              "#fdca26"
             ],
             [
              1,
              "#f0f921"
             ]
            ],
            "type": "heatmap"
           }
          ],
          "heatmapgl": [
           {
            "colorbar": {
             "outlinewidth": 0,
             "ticks": ""
            },
            "colorscale": [
             [
              0,
              "#0d0887"
             ],
             [
              0.1111111111111111,
              "#46039f"
             ],
             [
              0.2222222222222222,
              "#7201a8"
             ],
             [
              0.3333333333333333,
              "#9c179e"
             ],
             [
              0.4444444444444444,
              "#bd3786"
             ],
             [
              0.5555555555555556,
              "#d8576b"
             ],
             [
              0.6666666666666666,
              "#ed7953"
             ],
             [
              0.7777777777777778,
              "#fb9f3a"
             ],
             [
              0.8888888888888888,
              "#fdca26"
             ],
             [
              1,
              "#f0f921"
             ]
            ],
            "type": "heatmapgl"
           }
          ],
          "histogram": [
           {
            "marker": {
             "pattern": {
              "fillmode": "overlay",
              "size": 10,
              "solidity": 0.2
             }
            },
            "type": "histogram"
           }
          ],
          "histogram2d": [
           {
            "colorbar": {
             "outlinewidth": 0,
             "ticks": ""
            },
            "colorscale": [
             [
              0,
              "#0d0887"
             ],
             [
              0.1111111111111111,
              "#46039f"
             ],
             [
              0.2222222222222222,
              "#7201a8"
             ],
             [
              0.3333333333333333,
              "#9c179e"
             ],
             [
              0.4444444444444444,
              "#bd3786"
             ],
             [
              0.5555555555555556,
              "#d8576b"
             ],
             [
              0.6666666666666666,
              "#ed7953"
             ],
             [
              0.7777777777777778,
              "#fb9f3a"
             ],
             [
              0.8888888888888888,
              "#fdca26"
             ],
             [
              1,
              "#f0f921"
             ]
            ],
            "type": "histogram2d"
           }
          ],
          "histogram2dcontour": [
           {
            "colorbar": {
             "outlinewidth": 0,
             "ticks": ""
            },
            "colorscale": [
             [
              0,
              "#0d0887"
             ],
             [
              0.1111111111111111,
              "#46039f"
             ],
             [
              0.2222222222222222,
              "#7201a8"
             ],
             [
              0.3333333333333333,
              "#9c179e"
             ],
             [
              0.4444444444444444,
              "#bd3786"
             ],
             [
              0.5555555555555556,
              "#d8576b"
             ],
             [
              0.6666666666666666,
              "#ed7953"
             ],
             [
              0.7777777777777778,
              "#fb9f3a"
             ],
             [
              0.8888888888888888,
              "#fdca26"
             ],
             [
              1,
              "#f0f921"
             ]
            ],
            "type": "histogram2dcontour"
           }
          ],
          "mesh3d": [
           {
            "colorbar": {
             "outlinewidth": 0,
             "ticks": ""
            },
            "type": "mesh3d"
           }
          ],
          "parcoords": [
           {
            "line": {
             "colorbar": {
              "outlinewidth": 0,
              "ticks": ""
             }
            },
            "type": "parcoords"
           }
          ],
          "pie": [
           {
            "automargin": true,
            "type": "pie"
           }
          ],
          "scatter": [
           {
            "fillpattern": {
             "fillmode": "overlay",
             "size": 10,
             "solidity": 0.2
            },
            "type": "scatter"
           }
          ],
          "scatter3d": [
           {
            "line": {
             "colorbar": {
              "outlinewidth": 0,
              "ticks": ""
             }
            },
            "marker": {
             "colorbar": {
              "outlinewidth": 0,
              "ticks": ""
             }
            },
            "type": "scatter3d"
           }
          ],
          "scattercarpet": [
           {
            "marker": {
             "colorbar": {
              "outlinewidth": 0,
              "ticks": ""
             }
            },
            "type": "scattercarpet"
           }
          ],
          "scattergeo": [
           {
            "marker": {
             "colorbar": {
              "outlinewidth": 0,
              "ticks": ""
             }
            },
            "type": "scattergeo"
           }
          ],
          "scattergl": [
           {
            "marker": {
             "colorbar": {
              "outlinewidth": 0,
              "ticks": ""
             }
            },
            "type": "scattergl"
           }
          ],
          "scattermapbox": [
           {
            "marker": {
             "colorbar": {
              "outlinewidth": 0,
              "ticks": ""
             }
            },
            "type": "scattermapbox"
           }
          ],
          "scatterpolar": [
           {
            "marker": {
             "colorbar": {
              "outlinewidth": 0,
              "ticks": ""
             }
            },
            "type": "scatterpolar"
           }
          ],
          "scatterpolargl": [
           {
            "marker": {
             "colorbar": {
              "outlinewidth": 0,
              "ticks": ""
             }
            },
            "type": "scatterpolargl"
           }
          ],
          "scatterternary": [
           {
            "marker": {
             "colorbar": {
              "outlinewidth": 0,
              "ticks": ""
             }
            },
            "type": "scatterternary"
           }
          ],
          "surface": [
           {
            "colorbar": {
             "outlinewidth": 0,
             "ticks": ""
            },
            "colorscale": [
             [
              0,
              "#0d0887"
             ],
             [
              0.1111111111111111,
              "#46039f"
             ],
             [
              0.2222222222222222,
              "#7201a8"
             ],
             [
              0.3333333333333333,
              "#9c179e"
             ],
             [
              0.4444444444444444,
              "#bd3786"
             ],
             [
              0.5555555555555556,
              "#d8576b"
             ],
             [
              0.6666666666666666,
              "#ed7953"
             ],
             [
              0.7777777777777778,
              "#fb9f3a"
             ],
             [
              0.8888888888888888,
              "#fdca26"
             ],
             [
              1,
              "#f0f921"
             ]
            ],
            "type": "surface"
           }
          ],
          "table": [
           {
            "cells": {
             "fill": {
              "color": "#EBF0F8"
             },
             "line": {
              "color": "white"
             }
            },
            "header": {
             "fill": {
              "color": "#C8D4E3"
             },
             "line": {
              "color": "white"
             }
            },
            "type": "table"
           }
          ]
         },
         "layout": {
          "annotationdefaults": {
           "arrowcolor": "#2a3f5f",
           "arrowhead": 0,
           "arrowwidth": 1
          },
          "autotypenumbers": "strict",
          "coloraxis": {
           "colorbar": {
            "outlinewidth": 0,
            "ticks": ""
           }
          },
          "colorscale": {
           "diverging": [
            [
             0,
             "#8e0152"
            ],
            [
             0.1,
             "#c51b7d"
            ],
            [
             0.2,
             "#de77ae"
            ],
            [
             0.3,
             "#f1b6da"
            ],
            [
             0.4,
             "#fde0ef"
            ],
            [
             0.5,
             "#f7f7f7"
            ],
            [
             0.6,
             "#e6f5d0"
            ],
            [
             0.7,
             "#b8e186"
            ],
            [
             0.8,
             "#7fbc41"
            ],
            [
             0.9,
             "#4d9221"
            ],
            [
             1,
             "#276419"
            ]
           ],
           "sequential": [
            [
             0,
             "#0d0887"
            ],
            [
             0.1111111111111111,
             "#46039f"
            ],
            [
             0.2222222222222222,
             "#7201a8"
            ],
            [
             0.3333333333333333,
             "#9c179e"
            ],
            [
             0.4444444444444444,
             "#bd3786"
            ],
            [
             0.5555555555555556,
             "#d8576b"
            ],
            [
             0.6666666666666666,
             "#ed7953"
            ],
            [
             0.7777777777777778,
             "#fb9f3a"
            ],
            [
             0.8888888888888888,
             "#fdca26"
            ],
            [
             1,
             "#f0f921"
            ]
           ],
           "sequentialminus": [
            [
             0,
             "#0d0887"
            ],
            [
             0.1111111111111111,
             "#46039f"
            ],
            [
             0.2222222222222222,
             "#7201a8"
            ],
            [
             0.3333333333333333,
             "#9c179e"
            ],
            [
             0.4444444444444444,
             "#bd3786"
            ],
            [
             0.5555555555555556,
             "#d8576b"
            ],
            [
             0.6666666666666666,
             "#ed7953"
            ],
            [
             0.7777777777777778,
             "#fb9f3a"
            ],
            [
             0.8888888888888888,
             "#fdca26"
            ],
            [
             1,
             "#f0f921"
            ]
           ]
          },
          "colorway": [
           "#636efa",
           "#EF553B",
           "#00cc96",
           "#ab63fa",
           "#FFA15A",
           "#19d3f3",
           "#FF6692",
           "#B6E880",
           "#FF97FF",
           "#FECB52"
          ],
          "font": {
           "color": "#2a3f5f"
          },
          "geo": {
           "bgcolor": "white",
           "lakecolor": "white",
           "landcolor": "#E5ECF6",
           "showlakes": true,
           "showland": true,
           "subunitcolor": "white"
          },
          "hoverlabel": {
           "align": "left"
          },
          "hovermode": "closest",
          "mapbox": {
           "style": "light"
          },
          "paper_bgcolor": "white",
          "plot_bgcolor": "#E5ECF6",
          "polar": {
           "angularaxis": {
            "gridcolor": "white",
            "linecolor": "white",
            "ticks": ""
           },
           "bgcolor": "#E5ECF6",
           "radialaxis": {
            "gridcolor": "white",
            "linecolor": "white",
            "ticks": ""
           }
          },
          "scene": {
           "xaxis": {
            "backgroundcolor": "#E5ECF6",
            "gridcolor": "white",
            "gridwidth": 2,
            "linecolor": "white",
            "showbackground": true,
            "ticks": "",
            "zerolinecolor": "white"
           },
           "yaxis": {
            "backgroundcolor": "#E5ECF6",
            "gridcolor": "white",
            "gridwidth": 2,
            "linecolor": "white",
            "showbackground": true,
            "ticks": "",
            "zerolinecolor": "white"
           },
           "zaxis": {
            "backgroundcolor": "#E5ECF6",
            "gridcolor": "white",
            "gridwidth": 2,
            "linecolor": "white",
            "showbackground": true,
            "ticks": "",
            "zerolinecolor": "white"
           }
          },
          "shapedefaults": {
           "line": {
            "color": "#2a3f5f"
           }
          },
          "ternary": {
           "aaxis": {
            "gridcolor": "white",
            "linecolor": "white",
            "ticks": ""
           },
           "baxis": {
            "gridcolor": "white",
            "linecolor": "white",
            "ticks": ""
           },
           "bgcolor": "#E5ECF6",
           "caxis": {
            "gridcolor": "white",
            "linecolor": "white",
            "ticks": ""
           }
          },
          "title": {
           "x": 0.05
          },
          "xaxis": {
           "automargin": true,
           "gridcolor": "white",
           "linecolor": "white",
           "ticks": "",
           "title": {
            "standoff": 15
           },
           "zerolinecolor": "white",
           "zerolinewidth": 2
          },
          "yaxis": {
           "automargin": true,
           "gridcolor": "white",
           "linecolor": "white",
           "ticks": "",
           "title": {
            "standoff": 15
           },
           "zerolinecolor": "white",
           "zerolinewidth": 2
          }
         }
        },
        "title": {
         "text": "GANTT Chart"
        },
        "xaxis": {
         "range": [
          "1970-01-01T00:00:00",
          "1970-01-01T19:51:56"
         ],
         "title": {
          "font": {
           "color": "#7f7f7f",
           "family": "Courier New, monospace",
           "size": 18
          },
          "text": "Time"
         }
        },
        "yaxis": {
         "title": {
          "font": {
           "color": "#7f7f7f",
           "family": "Courier New, monospace",
           "size": 18
          },
          "text": "Activities"
         }
        }
       }
      },
      "text/html": [
       "<div>                            <div id=\"d215d634-e469-40d7-a4d0-d5c31e75daca\" class=\"plotly-graph-div\" style=\"height:525px; width:100%;\"></div>            <script type=\"text/javascript\">                require([\"plotly\"], function(Plotly) {                    window.PLOTLYENV=window.PLOTLYENV || {};                                    if (document.getElementById(\"d215d634-e469-40d7-a4d0-d5c31e75daca\")) {                    Plotly.newPlot(                        \"d215d634-e469-40d7-a4d0-d5c31e75daca\",                        [{\"connectgaps\":false,\"hoverinfo\":\"y+name\",\"line\":{\"color\":\"rgb(149,129,197)\",\"width\":10},\"mode\":\"lines\",\"name\":\"sailing empty:Carrier A\",\"x\":[\"1970-01-01T00:00:00\",\"1970-01-01T00:00:00\",\"1970-01-01T00:47:23\",\"1970-01-01T00:47:23\",\"1970-01-01T00:47:23\",\"1970-01-01T04:32:51\",\"1970-01-01T04:32:51\",\"1970-01-01T05:20:14\",\"1970-01-01T05:20:14\",\"1970-01-01T05:20:14\",\"1970-01-01T07:36:40\",\"1970-01-01T07:36:40\",\"1970-01-01T08:24:03\",\"1970-01-01T08:24:03\",\"1970-01-01T08:24:03\",\"1970-01-01T10:40:29\",\"1970-01-01T10:40:29\",\"1970-01-01T11:27:52\",\"1970-01-01T11:27:52\",\"1970-01-01T11:27:52\",\"1970-01-01T13:44:18\",\"1970-01-01T13:44:18\",\"1970-01-01T14:31:41\",\"1970-01-01T14:31:41\",\"1970-01-01T14:31:41\",\"1970-01-01T16:48:07\",\"1970-01-01T16:48:07\",\"1970-01-01T17:35:30\",\"1970-01-01T17:35:30\",\"1970-01-01T17:35:30\"],\"y\":[\"Carrier A\",\"Carrier A\",\"Carrier A\",\"Carrier A\",null,\"Carrier A\",\"Carrier A\",\"Carrier A\",\"Carrier A\",null,\"Carrier A\",\"Carrier A\",\"Carrier A\",\"Carrier A\",null,\"Carrier A\",\"Carrier A\",\"Carrier A\",\"Carrier A\",null,\"Carrier A\",\"Carrier A\",\"Carrier A\",\"Carrier A\",null,\"Carrier A\",\"Carrier A\",\"Carrier A\",\"Carrier A\",null],\"type\":\"scatter\"},{\"connectgaps\":false,\"hoverinfo\":\"y+name\",\"line\":{\"color\":\"rgb(161,141,209)\",\"width\":10},\"mode\":\"lines\",\"name\":\"loading:Carrier A\",\"x\":[\"1970-01-01T02:16:25\",\"1970-01-01T02:16:25\",\"1970-01-01T02:58:05\",\"1970-01-01T02:58:05\",\"1970-01-01T02:58:05\",\"1970-01-01T05:20:14\",\"1970-01-01T05:20:14\",\"1970-01-01T06:01:54\",\"1970-01-01T06:01:54\",\"1970-01-01T06:01:54\",\"1970-01-01T08:24:03\",\"1970-01-01T08:24:03\",\"1970-01-01T09:05:43\",\"1970-01-01T09:05:43\",\"1970-01-01T09:05:43\",\"1970-01-01T11:27:52\",\"1970-01-01T11:27:52\",\"1970-01-01T12:09:32\",\"1970-01-01T12:09:32\",\"1970-01-01T12:09:32\",\"1970-01-01T14:31:41\",\"1970-01-01T14:31:41\",\"1970-01-01T15:13:21\",\"1970-01-01T15:13:21\",\"1970-01-01T15:13:21\",\"1970-01-01T17:35:30\",\"1970-01-01T17:35:30\",\"1970-01-01T18:17:10\",\"1970-01-01T18:17:10\",\"1970-01-01T18:17:10\",\"1970-01-01T02:16:25\",\"1970-01-01T02:16:25\",\"1970-01-01T02:58:05\",\"1970-01-01T02:58:05\",\"1970-01-01T02:58:05\",\"1970-01-01T05:20:14\",\"1970-01-01T05:20:14\",\"1970-01-01T06:01:54\",\"1970-01-01T06:01:54\",\"1970-01-01T06:01:54\",\"1970-01-01T08:24:03\",\"1970-01-01T08:24:03\",\"1970-01-01T09:05:43\",\"1970-01-01T09:05:43\",\"1970-01-01T09:05:43\",\"1970-01-01T11:27:52\",\"1970-01-01T11:27:52\",\"1970-01-01T12:09:32\",\"1970-01-01T12:09:32\",\"1970-01-01T12:09:32\",\"1970-01-01T14:31:41\",\"1970-01-01T14:31:41\",\"1970-01-01T15:13:21\",\"1970-01-01T15:13:21\",\"1970-01-01T15:13:21\",\"1970-01-01T17:35:30\",\"1970-01-01T17:35:30\",\"1970-01-01T18:17:10\",\"1970-01-01T18:17:10\",\"1970-01-01T18:17:10\"],\"y\":[\"Carrier A\",\"Carrier A\",\"Carrier A\",\"Carrier A\",null,\"Carrier A\",\"Carrier A\",\"Carrier A\",\"Carrier A\",null,\"Carrier A\",\"Carrier A\",\"Carrier A\",\"Carrier A\",null,\"Carrier A\",\"Carrier A\",\"Carrier A\",\"Carrier A\",null,\"Carrier A\",\"Carrier A\",\"Carrier A\",\"Carrier A\",null,\"Carrier A\",\"Carrier A\",\"Carrier A\",\"Carrier A\",null,\"Cutter T\",\"Cutter T\",\"Cutter T\",\"Cutter T\",null,\"Cutter T\",\"Cutter T\",\"Cutter T\",\"Cutter T\",null,\"Cutter T\",\"Cutter T\",\"Cutter T\",\"Cutter T\",null,\"Cutter T\",\"Cutter T\",\"Cutter T\",\"Cutter T\",null,\"Cutter T\",\"Cutter T\",\"Cutter T\",\"Cutter T\",null,\"Cutter T\",\"Cutter T\",\"Cutter T\",\"Cutter T\",null],\"type\":\"scatter\"},{\"connectgaps\":false,\"hoverinfo\":\"y+name\",\"line\":{\"color\":\"rgb(173,153,221)\",\"width\":10},\"mode\":\"lines\",\"name\":\"sailing full:Carrier A\",\"x\":[\"1970-01-01T02:58:05\",\"1970-01-01T02:58:05\",\"1970-01-01T03:45:28\",\"1970-01-01T03:45:28\",\"1970-01-01T03:45:28\",\"1970-01-01T06:01:54\",\"1970-01-01T06:01:54\",\"1970-01-01T06:49:17\",\"1970-01-01T06:49:17\",\"1970-01-01T06:49:17\",\"1970-01-01T09:05:43\",\"1970-01-01T09:05:43\",\"1970-01-01T09:53:06\",\"1970-01-01T09:53:06\",\"1970-01-01T09:53:06\",\"1970-01-01T12:09:32\",\"1970-01-01T12:09:32\",\"1970-01-01T12:56:55\",\"1970-01-01T12:56:55\",\"1970-01-01T12:56:55\",\"1970-01-01T15:13:21\",\"1970-01-01T15:13:21\",\"1970-01-01T16:00:44\",\"1970-01-01T16:00:44\",\"1970-01-01T16:00:44\",\"1970-01-01T18:17:10\",\"1970-01-01T18:17:10\",\"1970-01-01T19:04:33\",\"1970-01-01T19:04:33\",\"1970-01-01T19:04:33\"],\"y\":[\"Carrier A\",\"Carrier A\",\"Carrier A\",\"Carrier A\",null,\"Carrier A\",\"Carrier A\",\"Carrier A\",\"Carrier A\",null,\"Carrier A\",\"Carrier A\",\"Carrier A\",\"Carrier A\",null,\"Carrier A\",\"Carrier A\",\"Carrier A\",\"Carrier A\",null,\"Carrier A\",\"Carrier A\",\"Carrier A\",\"Carrier A\",null,\"Carrier A\",\"Carrier A\",\"Carrier A\",\"Carrier A\",null],\"type\":\"scatter\"},{\"connectgaps\":false,\"hoverinfo\":\"y+name\",\"line\":{\"color\":\"rgb(185,165,233)\",\"width\":10},\"mode\":\"lines\",\"name\":\"unloading:Carrier A\",\"x\":[\"1970-01-01T03:45:28\",\"1970-01-01T03:45:28\",\"1970-01-01T04:32:51\",\"1970-01-01T04:32:51\",\"1970-01-01T04:32:51\",\"1970-01-01T06:49:17\",\"1970-01-01T06:49:17\",\"1970-01-01T07:36:40\",\"1970-01-01T07:36:40\",\"1970-01-01T07:36:40\",\"1970-01-01T09:53:06\",\"1970-01-01T09:53:06\",\"1970-01-01T10:40:29\",\"1970-01-01T10:40:29\",\"1970-01-01T10:40:29\",\"1970-01-01T12:56:55\",\"1970-01-01T12:56:55\",\"1970-01-01T13:44:18\",\"1970-01-01T13:44:18\",\"1970-01-01T13:44:18\",\"1970-01-01T16:00:44\",\"1970-01-01T16:00:44\",\"1970-01-01T16:48:07\",\"1970-01-01T16:48:07\",\"1970-01-01T16:48:07\",\"1970-01-01T19:04:33\",\"1970-01-01T19:04:33\",\"1970-01-01T19:51:56\",\"1970-01-01T19:51:56\",\"1970-01-01T19:51:56\"],\"y\":[\"Carrier A\",\"Carrier A\",\"Carrier A\",\"Carrier A\",null,\"Carrier A\",\"Carrier A\",\"Carrier A\",\"Carrier A\",null,\"Carrier A\",\"Carrier A\",\"Carrier A\",\"Carrier A\",null,\"Carrier A\",\"Carrier A\",\"Carrier A\",\"Carrier A\",null,\"Carrier A\",\"Carrier A\",\"Carrier A\",\"Carrier A\",null,\"Carrier A\",\"Carrier A\",\"Carrier A\",\"Carrier A\",null],\"type\":\"scatter\"},{\"connectgaps\":false,\"hoverinfo\":\"y+name\",\"line\":{\"color\":\"rgb(197,177,245)\",\"width\":10},\"mode\":\"lines\",\"name\":\"unloading:Carrier B\",\"x\":[\"1970-01-01T02:23:45\",\"1970-01-01T02:23:45\",\"1970-01-01T03:04:25\",\"1970-01-01T03:04:25\",\"1970-01-01T03:04:25\",\"1970-01-01T04:59:05\",\"1970-01-01T04:59:05\",\"1970-01-01T05:39:45\",\"1970-01-01T05:39:45\",\"1970-01-01T05:39:45\",\"1970-01-01T07:49:14\",\"1970-01-01T07:49:14\",\"1970-01-01T08:29:54\",\"1970-01-01T08:29:54\",\"1970-01-01T08:29:54\",\"1970-01-01T10:53:03\",\"1970-01-01T10:53:03\",\"1970-01-01T11:33:43\",\"1970-01-01T11:33:43\",\"1970-01-01T11:33:43\",\"1970-01-01T13:56:52\",\"1970-01-01T13:56:52\",\"1970-01-01T14:37:32\",\"1970-01-01T14:37:32\",\"1970-01-01T14:37:32\",\"1970-01-01T17:00:41\",\"1970-01-01T17:00:41\",\"1970-01-01T17:41:21\",\"1970-01-01T17:41:21\",\"1970-01-01T17:41:21\"],\"y\":[\"Carrier B\",\"Carrier B\",\"Carrier B\",\"Carrier B\",null,\"Carrier B\",\"Carrier B\",\"Carrier B\",\"Carrier B\",null,\"Carrier B\",\"Carrier B\",\"Carrier B\",\"Carrier B\",null,\"Carrier B\",\"Carrier B\",\"Carrier B\",\"Carrier B\",null,\"Carrier B\",\"Carrier B\",\"Carrier B\",\"Carrier B\",null,\"Carrier B\",\"Carrier B\",\"Carrier B\",\"Carrier B\",null],\"type\":\"scatter\"},{\"connectgaps\":false,\"hoverinfo\":\"y+name\",\"line\":{\"color\":\"rgb(209,189,1)\",\"width\":10},\"mode\":\"lines\",\"name\":\"sailing full:Carrier B\",\"x\":[\"1970-01-01T01:43:05\",\"1970-01-01T01:43:05\",\"1970-01-01T02:23:45\",\"1970-01-01T02:23:45\",\"1970-01-01T02:23:45\",\"1970-01-01T04:18:25\",\"1970-01-01T04:18:25\",\"1970-01-01T04:59:05\",\"1970-01-01T04:59:05\",\"1970-01-01T04:59:05\",\"1970-01-01T07:08:34\",\"1970-01-01T07:08:34\",\"1970-01-01T07:49:14\",\"1970-01-01T07:49:14\",\"1970-01-01T07:49:14\",\"1970-01-01T10:12:23\",\"1970-01-01T10:12:23\",\"1970-01-01T10:53:03\",\"1970-01-01T10:53:03\",\"1970-01-01T10:53:03\",\"1970-01-01T13:16:12\",\"1970-01-01T13:16:12\",\"1970-01-01T13:56:52\",\"1970-01-01T13:56:52\",\"1970-01-01T13:56:52\",\"1970-01-01T16:20:01\",\"1970-01-01T16:20:01\",\"1970-01-01T17:00:41\",\"1970-01-01T17:00:41\",\"1970-01-01T17:00:41\"],\"y\":[\"Carrier B\",\"Carrier B\",\"Carrier B\",\"Carrier B\",null,\"Carrier B\",\"Carrier B\",\"Carrier B\",\"Carrier B\",null,\"Carrier B\",\"Carrier B\",\"Carrier B\",\"Carrier B\",null,\"Carrier B\",\"Carrier B\",\"Carrier B\",\"Carrier B\",null,\"Carrier B\",\"Carrier B\",\"Carrier B\",\"Carrier B\",null,\"Carrier B\",\"Carrier B\",\"Carrier B\",\"Carrier B\",null],\"type\":\"scatter\"},{\"connectgaps\":false,\"hoverinfo\":\"y+name\",\"line\":{\"color\":\"rgb(221,201,13)\",\"width\":10},\"mode\":\"lines\",\"name\":\"sailing empty:Carrier B\",\"x\":[\"1970-01-01T00:00:00\",\"1970-01-01T00:00:00\",\"1970-01-01T00:40:40\",\"1970-01-01T00:40:40\",\"1970-01-01T00:40:40\",\"1970-01-01T03:04:25\",\"1970-01-01T03:04:25\",\"1970-01-01T03:45:05\",\"1970-01-01T03:45:05\",\"1970-01-01T03:45:05\",\"1970-01-01T05:39:45\",\"1970-01-01T05:39:45\",\"1970-01-01T06:20:25\",\"1970-01-01T06:20:25\",\"1970-01-01T06:20:25\",\"1970-01-01T08:29:54\",\"1970-01-01T08:29:54\",\"1970-01-01T09:10:34\",\"1970-01-01T09:10:34\",\"1970-01-01T09:10:34\",\"1970-01-01T11:33:43\",\"1970-01-01T11:33:43\",\"1970-01-01T12:14:23\",\"1970-01-01T12:14:23\",\"1970-01-01T12:14:23\",\"1970-01-01T14:37:32\",\"1970-01-01T14:37:32\",\"1970-01-01T15:18:12\",\"1970-01-01T15:18:12\",\"1970-01-01T15:18:12\"],\"y\":[\"Carrier B\",\"Carrier B\",\"Carrier B\",\"Carrier B\",null,\"Carrier B\",\"Carrier B\",\"Carrier B\",\"Carrier B\",null,\"Carrier B\",\"Carrier B\",\"Carrier B\",\"Carrier B\",null,\"Carrier B\",\"Carrier B\",\"Carrier B\",\"Carrier B\",null,\"Carrier B\",\"Carrier B\",\"Carrier B\",\"Carrier B\",null,\"Carrier B\",\"Carrier B\",\"Carrier B\",\"Carrier B\",null],\"type\":\"scatter\"},{\"connectgaps\":false,\"hoverinfo\":\"y+name\",\"line\":{\"color\":\"rgb(233,213,25)\",\"width\":10},\"mode\":\"lines\",\"name\":\"loading:Carrier B\",\"x\":[\"1970-01-01T01:09:45\",\"1970-01-01T01:09:45\",\"1970-01-01T01:43:05\",\"1970-01-01T01:43:05\",\"1970-01-01T01:43:05\",\"1970-01-01T03:45:05\",\"1970-01-01T03:45:05\",\"1970-01-01T04:18:25\",\"1970-01-01T04:18:25\",\"1970-01-01T04:18:25\",\"1970-01-01T06:35:14\",\"1970-01-01T06:35:14\",\"1970-01-01T07:08:34\",\"1970-01-01T07:08:34\",\"1970-01-01T07:08:34\",\"1970-01-01T09:39:03\",\"1970-01-01T09:39:03\",\"1970-01-01T10:12:23\",\"1970-01-01T10:12:23\",\"1970-01-01T10:12:23\",\"1970-01-01T12:42:52\",\"1970-01-01T12:42:52\",\"1970-01-01T13:16:12\",\"1970-01-01T13:16:12\",\"1970-01-01T13:16:12\",\"1970-01-01T15:46:41\",\"1970-01-01T15:46:41\",\"1970-01-01T16:20:01\",\"1970-01-01T16:20:01\",\"1970-01-01T16:20:01\",\"1970-01-01T01:09:45\",\"1970-01-01T01:09:45\",\"1970-01-01T01:43:05\",\"1970-01-01T01:43:05\",\"1970-01-01T01:43:05\",\"1970-01-01T03:45:05\",\"1970-01-01T03:45:05\",\"1970-01-01T04:18:25\",\"1970-01-01T04:18:25\",\"1970-01-01T04:18:25\",\"1970-01-01T06:35:14\",\"1970-01-01T06:35:14\",\"1970-01-01T07:08:34\",\"1970-01-01T07:08:34\",\"1970-01-01T07:08:34\",\"1970-01-01T09:39:03\",\"1970-01-01T09:39:03\",\"1970-01-01T10:12:23\",\"1970-01-01T10:12:23\",\"1970-01-01T10:12:23\",\"1970-01-01T12:42:52\",\"1970-01-01T12:42:52\",\"1970-01-01T13:16:12\",\"1970-01-01T13:16:12\",\"1970-01-01T13:16:12\",\"1970-01-01T15:46:41\",\"1970-01-01T15:46:41\",\"1970-01-01T16:20:01\",\"1970-01-01T16:20:01\",\"1970-01-01T16:20:01\"],\"y\":[\"Carrier B\",\"Carrier B\",\"Carrier B\",\"Carrier B\",null,\"Carrier B\",\"Carrier B\",\"Carrier B\",\"Carrier B\",null,\"Carrier B\",\"Carrier B\",\"Carrier B\",\"Carrier B\",null,\"Carrier B\",\"Carrier B\",\"Carrier B\",\"Carrier B\",null,\"Carrier B\",\"Carrier B\",\"Carrier B\",\"Carrier B\",null,\"Carrier B\",\"Carrier B\",\"Carrier B\",\"Carrier B\",null,\"Cutter T\",\"Cutter T\",\"Cutter T\",\"Cutter T\",null,\"Cutter T\",\"Cutter T\",\"Cutter T\",\"Cutter T\",null,\"Cutter T\",\"Cutter T\",\"Cutter T\",\"Cutter T\",null,\"Cutter T\",\"Cutter T\",\"Cutter T\",\"Cutter T\",null,\"Cutter T\",\"Cutter T\",\"Cutter T\",\"Cutter T\",null,\"Cutter T\",\"Cutter T\",\"Cutter T\",\"Cutter T\",null],\"type\":\"scatter\"},{\"connectgaps\":false,\"hoverinfo\":\"y+name\",\"line\":{\"color\":\"rgb(245,225,37)\",\"width\":10},\"mode\":\"lines\",\"name\":\"sailing empty:Carrier C\",\"x\":[\"1970-01-01T00:00:00\",\"1970-01-01T00:00:00\",\"1970-01-01T00:36:25\",\"1970-01-01T00:36:25\",\"1970-01-01T00:36:25\",\"1970-01-01T02:22:35\",\"1970-01-01T02:22:35\",\"1970-01-01T02:59:00\",\"1970-01-01T02:59:00\",\"1970-01-01T02:59:00\",\"1970-01-01T04:45:10\",\"1970-01-01T04:45:10\",\"1970-01-01T05:21:35\",\"1970-01-01T05:21:35\",\"1970-01-01T05:21:35\",\"1970-01-01T07:48:04\",\"1970-01-01T07:48:04\",\"1970-01-01T08:24:29\",\"1970-01-01T08:24:29\",\"1970-01-01T08:24:29\",\"1970-01-01T10:51:53\",\"1970-01-01T10:51:53\",\"1970-01-01T11:28:18\",\"1970-01-01T11:28:18\",\"1970-01-01T11:28:18\",\"1970-01-01T13:55:42\",\"1970-01-01T13:55:42\",\"1970-01-01T14:32:07\",\"1970-01-01T14:32:07\",\"1970-01-01T14:32:07\"],\"y\":[\"Carrier C\",\"Carrier C\",\"Carrier C\",\"Carrier C\",null,\"Carrier C\",\"Carrier C\",\"Carrier C\",\"Carrier C\",null,\"Carrier C\",\"Carrier C\",\"Carrier C\",\"Carrier C\",null,\"Carrier C\",\"Carrier C\",\"Carrier C\",\"Carrier C\",null,\"Carrier C\",\"Carrier C\",\"Carrier C\",\"Carrier C\",null,\"Carrier C\",\"Carrier C\",\"Carrier C\",\"Carrier C\",null],\"type\":\"scatter\"},{\"connectgaps\":false,\"hoverinfo\":\"y+name\",\"line\":{\"color\":\"rgb(1,237,49)\",\"width\":10},\"mode\":\"lines\",\"name\":\"loading:Carrier C\",\"x\":[\"1970-01-01T00:36:25\",\"1970-01-01T00:36:25\",\"1970-01-01T01:09:45\",\"1970-01-01T01:09:45\",\"1970-01-01T01:09:45\",\"1970-01-01T02:59:00\",\"1970-01-01T02:59:00\",\"1970-01-01T03:32:20\",\"1970-01-01T03:32:20\",\"1970-01-01T03:32:20\",\"1970-01-01T06:01:54\",\"1970-01-01T06:01:54\",\"1970-01-01T06:35:14\",\"1970-01-01T06:35:14\",\"1970-01-01T06:35:14\",\"1970-01-01T09:05:43\",\"1970-01-01T09:05:43\",\"1970-01-01T09:39:03\",\"1970-01-01T09:39:03\",\"1970-01-01T09:39:03\",\"1970-01-01T12:09:32\",\"1970-01-01T12:09:32\",\"1970-01-01T12:42:52\",\"1970-01-01T12:42:52\",\"1970-01-01T12:42:52\",\"1970-01-01T15:13:21\",\"1970-01-01T15:13:21\",\"1970-01-01T15:46:41\",\"1970-01-01T15:46:41\",\"1970-01-01T15:46:41\",\"1970-01-01T00:36:25\",\"1970-01-01T00:36:25\",\"1970-01-01T01:09:45\",\"1970-01-01T01:09:45\",\"1970-01-01T01:09:45\",\"1970-01-01T02:59:00\",\"1970-01-01T02:59:00\",\"1970-01-01T03:32:20\",\"1970-01-01T03:32:20\",\"1970-01-01T03:32:20\",\"1970-01-01T06:01:54\",\"1970-01-01T06:01:54\",\"1970-01-01T06:35:14\",\"1970-01-01T06:35:14\",\"1970-01-01T06:35:14\",\"1970-01-01T09:05:43\",\"1970-01-01T09:05:43\",\"1970-01-01T09:39:03\",\"1970-01-01T09:39:03\",\"1970-01-01T09:39:03\",\"1970-01-01T12:09:32\",\"1970-01-01T12:09:32\",\"1970-01-01T12:42:52\",\"1970-01-01T12:42:52\",\"1970-01-01T12:42:52\",\"1970-01-01T15:13:21\",\"1970-01-01T15:13:21\",\"1970-01-01T15:46:41\",\"1970-01-01T15:46:41\",\"1970-01-01T15:46:41\"],\"y\":[\"Carrier C\",\"Carrier C\",\"Carrier C\",\"Carrier C\",null,\"Carrier C\",\"Carrier C\",\"Carrier C\",\"Carrier C\",null,\"Carrier C\",\"Carrier C\",\"Carrier C\",\"Carrier C\",null,\"Carrier C\",\"Carrier C\",\"Carrier C\",\"Carrier C\",null,\"Carrier C\",\"Carrier C\",\"Carrier C\",\"Carrier C\",null,\"Carrier C\",\"Carrier C\",\"Carrier C\",\"Carrier C\",null,\"Cutter T\",\"Cutter T\",\"Cutter T\",\"Cutter T\",null,\"Cutter T\",\"Cutter T\",\"Cutter T\",\"Cutter T\",null,\"Cutter T\",\"Cutter T\",\"Cutter T\",\"Cutter T\",null,\"Cutter T\",\"Cutter T\",\"Cutter T\",\"Cutter T\",null,\"Cutter T\",\"Cutter T\",\"Cutter T\",\"Cutter T\",null,\"Cutter T\",\"Cutter T\",\"Cutter T\",\"Cutter T\",null],\"type\":\"scatter\"},{\"connectgaps\":false,\"hoverinfo\":\"y+name\",\"line\":{\"color\":\"rgb(13,249,61)\",\"width\":10},\"mode\":\"lines\",\"name\":\"sailing full:Carrier C\",\"x\":[\"1970-01-01T01:09:45\",\"1970-01-01T01:09:45\",\"1970-01-01T01:46:10\",\"1970-01-01T01:46:10\",\"1970-01-01T01:46:10\",\"1970-01-01T03:32:20\",\"1970-01-01T03:32:20\",\"1970-01-01T04:08:45\",\"1970-01-01T04:08:45\",\"1970-01-01T04:08:45\",\"1970-01-01T06:35:14\",\"1970-01-01T06:35:14\",\"1970-01-01T07:11:39\",\"1970-01-01T07:11:39\",\"1970-01-01T07:11:39\",\"1970-01-01T09:39:03\",\"1970-01-01T09:39:03\",\"1970-01-01T10:15:28\",\"1970-01-01T10:15:28\",\"1970-01-01T10:15:28\",\"1970-01-01T12:42:52\",\"1970-01-01T12:42:52\",\"1970-01-01T13:19:17\",\"1970-01-01T13:19:17\",\"1970-01-01T13:19:17\",\"1970-01-01T15:46:41\",\"1970-01-01T15:46:41\",\"1970-01-01T16:23:06\",\"1970-01-01T16:23:06\",\"1970-01-01T16:23:06\"],\"y\":[\"Carrier C\",\"Carrier C\",\"Carrier C\",\"Carrier C\",null,\"Carrier C\",\"Carrier C\",\"Carrier C\",\"Carrier C\",null,\"Carrier C\",\"Carrier C\",\"Carrier C\",\"Carrier C\",null,\"Carrier C\",\"Carrier C\",\"Carrier C\",\"Carrier C\",null,\"Carrier C\",\"Carrier C\",\"Carrier C\",\"Carrier C\",null,\"Carrier C\",\"Carrier C\",\"Carrier C\",\"Carrier C\",null],\"type\":\"scatter\"},{\"connectgaps\":false,\"hoverinfo\":\"y+name\",\"line\":{\"color\":\"rgb(25,5,73)\",\"width\":10},\"mode\":\"lines\",\"name\":\"unloading:Carrier C\",\"x\":[\"1970-01-01T01:46:10\",\"1970-01-01T01:46:10\",\"1970-01-01T02:22:35\",\"1970-01-01T02:22:35\",\"1970-01-01T02:22:35\",\"1970-01-01T04:08:45\",\"1970-01-01T04:08:45\",\"1970-01-01T04:45:10\",\"1970-01-01T04:45:10\",\"1970-01-01T04:45:10\",\"1970-01-01T07:11:39\",\"1970-01-01T07:11:39\",\"1970-01-01T07:48:04\",\"1970-01-01T07:48:04\",\"1970-01-01T07:48:04\",\"1970-01-01T10:15:28\",\"1970-01-01T10:15:28\",\"1970-01-01T10:51:53\",\"1970-01-01T10:51:53\",\"1970-01-01T10:51:53\",\"1970-01-01T13:19:17\",\"1970-01-01T13:19:17\",\"1970-01-01T13:55:42\",\"1970-01-01T13:55:42\",\"1970-01-01T13:55:42\",\"1970-01-01T16:23:06\",\"1970-01-01T16:23:06\",\"1970-01-01T16:59:31\",\"1970-01-01T16:59:31\",\"1970-01-01T16:59:31\"],\"y\":[\"Carrier C\",\"Carrier C\",\"Carrier C\",\"Carrier C\",null,\"Carrier C\",\"Carrier C\",\"Carrier C\",\"Carrier C\",null,\"Carrier C\",\"Carrier C\",\"Carrier C\",\"Carrier C\",null,\"Carrier C\",\"Carrier C\",\"Carrier C\",\"Carrier C\",null,\"Carrier C\",\"Carrier C\",\"Carrier C\",\"Carrier C\",null,\"Carrier C\",\"Carrier C\",\"Carrier C\",\"Carrier C\",null],\"type\":\"scatter\"},{\"connectgaps\":false,\"hoverinfo\":\"y+name\",\"line\":{\"color\":\"rgb(37,17,85)\",\"width\":10},\"mode\":\"lines\",\"name\":\"loading:Barge I\",\"x\":[\"1970-01-01T01:43:05\",\"1970-01-01T01:43:05\",\"1970-01-01T02:16:25\",\"1970-01-01T02:16:25\",\"1970-01-01T02:16:25\",\"1970-01-01T04:25:31\",\"1970-01-01T04:25:31\",\"1970-01-01T04:58:51\",\"1970-01-01T04:58:51\",\"1970-01-01T04:58:51\",\"1970-01-01T07:08:34\",\"1970-01-01T07:08:34\",\"1970-01-01T07:41:54\",\"1970-01-01T07:41:54\",\"1970-01-01T07:41:54\",\"1970-01-01T10:12:23\",\"1970-01-01T10:12:23\",\"1970-01-01T10:45:43\",\"1970-01-01T10:45:43\",\"1970-01-01T10:45:43\",\"1970-01-01T13:16:12\",\"1970-01-01T13:16:12\",\"1970-01-01T13:49:32\",\"1970-01-01T13:49:32\",\"1970-01-01T13:49:32\",\"1970-01-01T16:20:01\",\"1970-01-01T16:20:01\",\"1970-01-01T16:53:21\",\"1970-01-01T16:53:21\",\"1970-01-01T16:53:21\",\"1970-01-01T01:43:05\",\"1970-01-01T01:43:05\",\"1970-01-01T02:16:25\",\"1970-01-01T02:16:25\",\"1970-01-01T02:16:25\",\"1970-01-01T04:25:31\",\"1970-01-01T04:25:31\",\"1970-01-01T04:58:51\",\"1970-01-01T04:58:51\",\"1970-01-01T04:58:51\",\"1970-01-01T07:08:34\",\"1970-01-01T07:08:34\",\"1970-01-01T07:41:54\",\"1970-01-01T07:41:54\",\"1970-01-01T07:41:54\",\"1970-01-01T10:12:23\",\"1970-01-01T10:12:23\",\"1970-01-01T10:45:43\",\"1970-01-01T10:45:43\",\"1970-01-01T10:45:43\",\"1970-01-01T13:16:12\",\"1970-01-01T13:16:12\",\"1970-01-01T13:49:32\",\"1970-01-01T13:49:32\",\"1970-01-01T13:49:32\",\"1970-01-01T16:20:01\",\"1970-01-01T16:20:01\",\"1970-01-01T16:53:21\",\"1970-01-01T16:53:21\",\"1970-01-01T16:53:21\"],\"y\":[\"Barge I\",\"Barge I\",\"Barge I\",\"Barge I\",null,\"Barge I\",\"Barge I\",\"Barge I\",\"Barge I\",null,\"Barge I\",\"Barge I\",\"Barge I\",\"Barge I\",null,\"Barge I\",\"Barge I\",\"Barge I\",\"Barge I\",null,\"Barge I\",\"Barge I\",\"Barge I\",\"Barge I\",null,\"Barge I\",\"Barge I\",\"Barge I\",\"Barge I\",null,\"Cutter T\",\"Cutter T\",\"Cutter T\",\"Cutter T\",null,\"Cutter T\",\"Cutter T\",\"Cutter T\",\"Cutter T\",null,\"Cutter T\",\"Cutter T\",\"Cutter T\",\"Cutter T\",null,\"Cutter T\",\"Cutter T\",\"Cutter T\",\"Cutter T\",null,\"Cutter T\",\"Cutter T\",\"Cutter T\",\"Cutter T\",null,\"Cutter T\",\"Cutter T\",\"Cutter T\",\"Cutter T\",null],\"type\":\"scatter\"},{\"connectgaps\":false,\"hoverinfo\":\"y+name\",\"line\":{\"color\":\"rgb(49,29,97)\",\"width\":10},\"mode\":\"lines\",\"name\":\"unloading:Barge I\",\"x\":[\"1970-01-01T02:59:27\",\"1970-01-01T02:59:27\",\"1970-01-01T03:42:29\",\"1970-01-01T03:42:29\",\"1970-01-01T03:42:29\",\"1970-01-01T05:41:53\",\"1970-01-01T05:41:53\",\"1970-01-01T06:24:55\",\"1970-01-01T06:24:55\",\"1970-01-01T06:24:55\",\"1970-01-01T08:24:56\",\"1970-01-01T08:24:56\",\"1970-01-01T09:07:58\",\"1970-01-01T09:07:58\",\"1970-01-01T09:07:58\",\"1970-01-01T11:28:45\",\"1970-01-01T11:28:45\",\"1970-01-01T12:11:47\",\"1970-01-01T12:11:47\",\"1970-01-01T12:11:47\",\"1970-01-01T14:32:34\",\"1970-01-01T14:32:34\",\"1970-01-01T15:15:36\",\"1970-01-01T15:15:36\",\"1970-01-01T15:15:36\",\"1970-01-01T17:36:23\",\"1970-01-01T17:36:23\",\"1970-01-01T18:19:25\",\"1970-01-01T18:19:25\",\"1970-01-01T18:19:25\"],\"y\":[\"Barge I\",\"Barge I\",\"Barge I\",\"Barge I\",null,\"Barge I\",\"Barge I\",\"Barge I\",\"Barge I\",null,\"Barge I\",\"Barge I\",\"Barge I\",\"Barge I\",null,\"Barge I\",\"Barge I\",\"Barge I\",\"Barge I\",null,\"Barge I\",\"Barge I\",\"Barge I\",\"Barge I\",null,\"Barge I\",\"Barge I\",\"Barge I\",\"Barge I\",null],\"type\":\"scatter\"},{\"connectgaps\":false,\"hoverinfo\":\"y+name\",\"line\":{\"color\":\"rgb(61,41,109)\",\"width\":10},\"mode\":\"lines\",\"name\":\"sailing empty:Barge I\",\"x\":[\"1970-01-01T00:00:00\",\"1970-01-01T00:00:00\",\"1970-01-01T00:43:02\",\"1970-01-01T00:43:02\",\"1970-01-01T00:43:02\",\"1970-01-01T03:42:29\",\"1970-01-01T03:42:29\",\"1970-01-01T04:25:31\",\"1970-01-01T04:25:31\",\"1970-01-01T04:25:31\",\"1970-01-01T06:24:55\",\"1970-01-01T06:24:55\",\"1970-01-01T07:07:57\",\"1970-01-01T07:07:57\",\"1970-01-01T07:07:57\",\"1970-01-01T09:07:58\",\"1970-01-01T09:07:58\",\"1970-01-01T09:51:00\",\"1970-01-01T09:51:00\",\"1970-01-01T09:51:00\",\"1970-01-01T12:11:47\",\"1970-01-01T12:11:47\",\"1970-01-01T12:54:49\",\"1970-01-01T12:54:49\",\"1970-01-01T12:54:49\",\"1970-01-01T15:15:36\",\"1970-01-01T15:15:36\",\"1970-01-01T15:58:38\",\"1970-01-01T15:58:38\",\"1970-01-01T15:58:38\"],\"y\":[\"Barge I\",\"Barge I\",\"Barge I\",\"Barge I\",null,\"Barge I\",\"Barge I\",\"Barge I\",\"Barge I\",null,\"Barge I\",\"Barge I\",\"Barge I\",\"Barge I\",null,\"Barge I\",\"Barge I\",\"Barge I\",\"Barge I\",null,\"Barge I\",\"Barge I\",\"Barge I\",\"Barge I\",null,\"Barge I\",\"Barge I\",\"Barge I\",\"Barge I\",null],\"type\":\"scatter\"},{\"connectgaps\":false,\"hoverinfo\":\"y+name\",\"line\":{\"color\":\"rgb(73,53,121)\",\"width\":10},\"mode\":\"lines\",\"name\":\"sailing full:Barge I\",\"x\":[\"1970-01-01T02:16:25\",\"1970-01-01T02:16:25\",\"1970-01-01T02:59:27\",\"1970-01-01T02:59:27\",\"1970-01-01T02:59:27\",\"1970-01-01T04:58:51\",\"1970-01-01T04:58:51\",\"1970-01-01T05:41:53\",\"1970-01-01T05:41:53\",\"1970-01-01T05:41:53\",\"1970-01-01T07:41:54\",\"1970-01-01T07:41:54\",\"1970-01-01T08:24:56\",\"1970-01-01T08:24:56\",\"1970-01-01T08:24:56\",\"1970-01-01T10:45:43\",\"1970-01-01T10:45:43\",\"1970-01-01T11:28:45\",\"1970-01-01T11:28:45\",\"1970-01-01T11:28:45\",\"1970-01-01T13:49:32\",\"1970-01-01T13:49:32\",\"1970-01-01T14:32:34\",\"1970-01-01T14:32:34\",\"1970-01-01T14:32:34\",\"1970-01-01T16:53:21\",\"1970-01-01T16:53:21\",\"1970-01-01T17:36:23\",\"1970-01-01T17:36:23\",\"1970-01-01T17:36:23\"],\"y\":[\"Barge I\",\"Barge I\",\"Barge I\",\"Barge I\",null,\"Barge I\",\"Barge I\",\"Barge I\",\"Barge I\",null,\"Barge I\",\"Barge I\",\"Barge I\",\"Barge I\",null,\"Barge I\",\"Barge I\",\"Barge I\",\"Barge I\",null,\"Barge I\",\"Barge I\",\"Barge I\",\"Barge I\",null,\"Barge I\",\"Barge I\",\"Barge I\",\"Barge I\",null],\"type\":\"scatter\"},{\"connectgaps\":false,\"hoverinfo\":\"y+name\",\"line\":{\"color\":\"rgb(85,65,133)\",\"width\":10},\"mode\":\"lines\",\"name\":\"loading:Barge I\",\"x\":[\"1970-01-01T01:43:05\",\"1970-01-01T01:43:05\",\"1970-01-01T02:16:25\",\"1970-01-01T02:16:25\",\"1970-01-01T02:16:25\",\"1970-01-01T04:25:31\",\"1970-01-01T04:25:31\",\"1970-01-01T04:58:51\",\"1970-01-01T04:58:51\",\"1970-01-01T04:58:51\",\"1970-01-01T07:08:34\",\"1970-01-01T07:08:34\",\"1970-01-01T07:41:54\",\"1970-01-01T07:41:54\",\"1970-01-01T07:41:54\",\"1970-01-01T10:12:23\",\"1970-01-01T10:12:23\",\"1970-01-01T10:45:43\",\"1970-01-01T10:45:43\",\"1970-01-01T10:45:43\",\"1970-01-01T13:16:12\",\"1970-01-01T13:16:12\",\"1970-01-01T13:49:32\",\"1970-01-01T13:49:32\",\"1970-01-01T13:49:32\",\"1970-01-01T16:20:01\",\"1970-01-01T16:20:01\",\"1970-01-01T16:53:21\",\"1970-01-01T16:53:21\",\"1970-01-01T16:53:21\",\"1970-01-01T01:43:05\",\"1970-01-01T01:43:05\",\"1970-01-01T02:16:25\",\"1970-01-01T02:16:25\",\"1970-01-01T02:16:25\",\"1970-01-01T04:25:31\",\"1970-01-01T04:25:31\",\"1970-01-01T04:58:51\",\"1970-01-01T04:58:51\",\"1970-01-01T04:58:51\",\"1970-01-01T07:08:34\",\"1970-01-01T07:08:34\",\"1970-01-01T07:41:54\",\"1970-01-01T07:41:54\",\"1970-01-01T07:41:54\",\"1970-01-01T10:12:23\",\"1970-01-01T10:12:23\",\"1970-01-01T10:45:43\",\"1970-01-01T10:45:43\",\"1970-01-01T10:45:43\",\"1970-01-01T13:16:12\",\"1970-01-01T13:16:12\",\"1970-01-01T13:49:32\",\"1970-01-01T13:49:32\",\"1970-01-01T13:49:32\",\"1970-01-01T16:20:01\",\"1970-01-01T16:20:01\",\"1970-01-01T16:53:21\",\"1970-01-01T16:53:21\",\"1970-01-01T16:53:21\"],\"y\":[\"Barge I\",\"Barge I\",\"Barge I\",\"Barge I\",null,\"Barge I\",\"Barge I\",\"Barge I\",\"Barge I\",null,\"Barge I\",\"Barge I\",\"Barge I\",\"Barge I\",null,\"Barge I\",\"Barge I\",\"Barge I\",\"Barge I\",null,\"Barge I\",\"Barge I\",\"Barge I\",\"Barge I\",null,\"Barge I\",\"Barge I\",\"Barge I\",\"Barge I\",null,\"Cutter T\",\"Cutter T\",\"Cutter T\",\"Cutter T\",null,\"Cutter T\",\"Cutter T\",\"Cutter T\",\"Cutter T\",null,\"Cutter T\",\"Cutter T\",\"Cutter T\",\"Cutter T\",null,\"Cutter T\",\"Cutter T\",\"Cutter T\",\"Cutter T\",null,\"Cutter T\",\"Cutter T\",\"Cutter T\",\"Cutter T\",null,\"Cutter T\",\"Cutter T\",\"Cutter T\",\"Cutter T\",null],\"type\":\"scatter\"},{\"connectgaps\":false,\"hoverinfo\":\"y+name\",\"line\":{\"color\":\"rgb(97,77,145)\",\"width\":10},\"mode\":\"lines\",\"name\":\"loading:Carrier A\",\"x\":[\"1970-01-01T02:16:25\",\"1970-01-01T02:16:25\",\"1970-01-01T02:58:05\",\"1970-01-01T02:58:05\",\"1970-01-01T02:58:05\",\"1970-01-01T05:20:14\",\"1970-01-01T05:20:14\",\"1970-01-01T06:01:54\",\"1970-01-01T06:01:54\",\"1970-01-01T06:01:54\",\"1970-01-01T08:24:03\",\"1970-01-01T08:24:03\",\"1970-01-01T09:05:43\",\"1970-01-01T09:05:43\",\"1970-01-01T09:05:43\",\"1970-01-01T11:27:52\",\"1970-01-01T11:27:52\",\"1970-01-01T12:09:32\",\"1970-01-01T12:09:32\",\"1970-01-01T12:09:32\",\"1970-01-01T14:31:41\",\"1970-01-01T14:31:41\",\"1970-01-01T15:13:21\",\"1970-01-01T15:13:21\",\"1970-01-01T15:13:21\",\"1970-01-01T17:35:30\",\"1970-01-01T17:35:30\",\"1970-01-01T18:17:10\",\"1970-01-01T18:17:10\",\"1970-01-01T18:17:10\",\"1970-01-01T02:16:25\",\"1970-01-01T02:16:25\",\"1970-01-01T02:58:05\",\"1970-01-01T02:58:05\",\"1970-01-01T02:58:05\",\"1970-01-01T05:20:14\",\"1970-01-01T05:20:14\",\"1970-01-01T06:01:54\",\"1970-01-01T06:01:54\",\"1970-01-01T06:01:54\",\"1970-01-01T08:24:03\",\"1970-01-01T08:24:03\",\"1970-01-01T09:05:43\",\"1970-01-01T09:05:43\",\"1970-01-01T09:05:43\",\"1970-01-01T11:27:52\",\"1970-01-01T11:27:52\",\"1970-01-01T12:09:32\",\"1970-01-01T12:09:32\",\"1970-01-01T12:09:32\",\"1970-01-01T14:31:41\",\"1970-01-01T14:31:41\",\"1970-01-01T15:13:21\",\"1970-01-01T15:13:21\",\"1970-01-01T15:13:21\",\"1970-01-01T17:35:30\",\"1970-01-01T17:35:30\",\"1970-01-01T18:17:10\",\"1970-01-01T18:17:10\",\"1970-01-01T18:17:10\"],\"y\":[\"Carrier A\",\"Carrier A\",\"Carrier A\",\"Carrier A\",null,\"Carrier A\",\"Carrier A\",\"Carrier A\",\"Carrier A\",null,\"Carrier A\",\"Carrier A\",\"Carrier A\",\"Carrier A\",null,\"Carrier A\",\"Carrier A\",\"Carrier A\",\"Carrier A\",null,\"Carrier A\",\"Carrier A\",\"Carrier A\",\"Carrier A\",null,\"Carrier A\",\"Carrier A\",\"Carrier A\",\"Carrier A\",null,\"Cutter T\",\"Cutter T\",\"Cutter T\",\"Cutter T\",null,\"Cutter T\",\"Cutter T\",\"Cutter T\",\"Cutter T\",null,\"Cutter T\",\"Cutter T\",\"Cutter T\",\"Cutter T\",null,\"Cutter T\",\"Cutter T\",\"Cutter T\",\"Cutter T\",null,\"Cutter T\",\"Cutter T\",\"Cutter T\",\"Cutter T\",null,\"Cutter T\",\"Cutter T\",\"Cutter T\",\"Cutter T\",null],\"type\":\"scatter\"},{\"connectgaps\":false,\"hoverinfo\":\"y+name\",\"line\":{\"color\":\"rgb(109,89,157)\",\"width\":10},\"mode\":\"lines\",\"name\":\"loading:Carrier C\",\"x\":[\"1970-01-01T00:36:25\",\"1970-01-01T00:36:25\",\"1970-01-01T01:09:45\",\"1970-01-01T01:09:45\",\"1970-01-01T01:09:45\",\"1970-01-01T02:59:00\",\"1970-01-01T02:59:00\",\"1970-01-01T03:32:20\",\"1970-01-01T03:32:20\",\"1970-01-01T03:32:20\",\"1970-01-01T06:01:54\",\"1970-01-01T06:01:54\",\"1970-01-01T06:35:14\",\"1970-01-01T06:35:14\",\"1970-01-01T06:35:14\",\"1970-01-01T09:05:43\",\"1970-01-01T09:05:43\",\"1970-01-01T09:39:03\",\"1970-01-01T09:39:03\",\"1970-01-01T09:39:03\",\"1970-01-01T12:09:32\",\"1970-01-01T12:09:32\",\"1970-01-01T12:42:52\",\"1970-01-01T12:42:52\",\"1970-01-01T12:42:52\",\"1970-01-01T15:13:21\",\"1970-01-01T15:13:21\",\"1970-01-01T15:46:41\",\"1970-01-01T15:46:41\",\"1970-01-01T15:46:41\",\"1970-01-01T00:36:25\",\"1970-01-01T00:36:25\",\"1970-01-01T01:09:45\",\"1970-01-01T01:09:45\",\"1970-01-01T01:09:45\",\"1970-01-01T02:59:00\",\"1970-01-01T02:59:00\",\"1970-01-01T03:32:20\",\"1970-01-01T03:32:20\",\"1970-01-01T03:32:20\",\"1970-01-01T06:01:54\",\"1970-01-01T06:01:54\",\"1970-01-01T06:35:14\",\"1970-01-01T06:35:14\",\"1970-01-01T06:35:14\",\"1970-01-01T09:05:43\",\"1970-01-01T09:05:43\",\"1970-01-01T09:39:03\",\"1970-01-01T09:39:03\",\"1970-01-01T09:39:03\",\"1970-01-01T12:09:32\",\"1970-01-01T12:09:32\",\"1970-01-01T12:42:52\",\"1970-01-01T12:42:52\",\"1970-01-01T12:42:52\",\"1970-01-01T15:13:21\",\"1970-01-01T15:13:21\",\"1970-01-01T15:46:41\",\"1970-01-01T15:46:41\",\"1970-01-01T15:46:41\"],\"y\":[\"Carrier C\",\"Carrier C\",\"Carrier C\",\"Carrier C\",null,\"Carrier C\",\"Carrier C\",\"Carrier C\",\"Carrier C\",null,\"Carrier C\",\"Carrier C\",\"Carrier C\",\"Carrier C\",null,\"Carrier C\",\"Carrier C\",\"Carrier C\",\"Carrier C\",null,\"Carrier C\",\"Carrier C\",\"Carrier C\",\"Carrier C\",null,\"Carrier C\",\"Carrier C\",\"Carrier C\",\"Carrier C\",null,\"Cutter T\",\"Cutter T\",\"Cutter T\",\"Cutter T\",null,\"Cutter T\",\"Cutter T\",\"Cutter T\",\"Cutter T\",null,\"Cutter T\",\"Cutter T\",\"Cutter T\",\"Cutter T\",null,\"Cutter T\",\"Cutter T\",\"Cutter T\",\"Cutter T\",null,\"Cutter T\",\"Cutter T\",\"Cutter T\",\"Cutter T\",null,\"Cutter T\",\"Cutter T\",\"Cutter T\",\"Cutter T\",null],\"type\":\"scatter\"},{\"connectgaps\":false,\"hoverinfo\":\"y+name\",\"line\":{\"color\":\"rgb(121,101,169)\",\"width\":10},\"mode\":\"lines\",\"name\":\"loading:Carrier B\",\"x\":[\"1970-01-01T01:09:45\",\"1970-01-01T01:09:45\",\"1970-01-01T01:43:05\",\"1970-01-01T01:43:05\",\"1970-01-01T01:43:05\",\"1970-01-01T03:45:05\",\"1970-01-01T03:45:05\",\"1970-01-01T04:18:25\",\"1970-01-01T04:18:25\",\"1970-01-01T04:18:25\",\"1970-01-01T06:35:14\",\"1970-01-01T06:35:14\",\"1970-01-01T07:08:34\",\"1970-01-01T07:08:34\",\"1970-01-01T07:08:34\",\"1970-01-01T09:39:03\",\"1970-01-01T09:39:03\",\"1970-01-01T10:12:23\",\"1970-01-01T10:12:23\",\"1970-01-01T10:12:23\",\"1970-01-01T12:42:52\",\"1970-01-01T12:42:52\",\"1970-01-01T13:16:12\",\"1970-01-01T13:16:12\",\"1970-01-01T13:16:12\",\"1970-01-01T15:46:41\",\"1970-01-01T15:46:41\",\"1970-01-01T16:20:01\",\"1970-01-01T16:20:01\",\"1970-01-01T16:20:01\",\"1970-01-01T01:09:45\",\"1970-01-01T01:09:45\",\"1970-01-01T01:43:05\",\"1970-01-01T01:43:05\",\"1970-01-01T01:43:05\",\"1970-01-01T03:45:05\",\"1970-01-01T03:45:05\",\"1970-01-01T04:18:25\",\"1970-01-01T04:18:25\",\"1970-01-01T04:18:25\",\"1970-01-01T06:35:14\",\"1970-01-01T06:35:14\",\"1970-01-01T07:08:34\",\"1970-01-01T07:08:34\",\"1970-01-01T07:08:34\",\"1970-01-01T09:39:03\",\"1970-01-01T09:39:03\",\"1970-01-01T10:12:23\",\"1970-01-01T10:12:23\",\"1970-01-01T10:12:23\",\"1970-01-01T12:42:52\",\"1970-01-01T12:42:52\",\"1970-01-01T13:16:12\",\"1970-01-01T13:16:12\",\"1970-01-01T13:16:12\",\"1970-01-01T15:46:41\",\"1970-01-01T15:46:41\",\"1970-01-01T16:20:01\",\"1970-01-01T16:20:01\",\"1970-01-01T16:20:01\"],\"y\":[\"Carrier B\",\"Carrier B\",\"Carrier B\",\"Carrier B\",null,\"Carrier B\",\"Carrier B\",\"Carrier B\",\"Carrier B\",null,\"Carrier B\",\"Carrier B\",\"Carrier B\",\"Carrier B\",null,\"Carrier B\",\"Carrier B\",\"Carrier B\",\"Carrier B\",null,\"Carrier B\",\"Carrier B\",\"Carrier B\",\"Carrier B\",null,\"Carrier B\",\"Carrier B\",\"Carrier B\",\"Carrier B\",null,\"Cutter T\",\"Cutter T\",\"Cutter T\",\"Cutter T\",null,\"Cutter T\",\"Cutter T\",\"Cutter T\",\"Cutter T\",null,\"Cutter T\",\"Cutter T\",\"Cutter T\",\"Cutter T\",null,\"Cutter T\",\"Cutter T\",\"Cutter T\",\"Cutter T\",null,\"Cutter T\",\"Cutter T\",\"Cutter T\",\"Cutter T\",null,\"Cutter T\",\"Cutter T\",\"Cutter T\",\"Cutter T\",null],\"type\":\"scatter\"}],                        {\"hovermode\":\"closest\",\"legend\":{\"orientation\":\"h\",\"x\":0,\"y\":-0.2},\"template\":{\"data\":{\"barpolar\":[{\"marker\":{\"line\":{\"color\":\"#E5ECF6\",\"width\":0.5},\"pattern\":{\"fillmode\":\"overlay\",\"size\":10,\"solidity\":0.2}},\"type\":\"barpolar\"}],\"bar\":[{\"error_x\":{\"color\":\"#2a3f5f\"},\"error_y\":{\"color\":\"#2a3f5f\"},\"marker\":{\"line\":{\"color\":\"#E5ECF6\",\"width\":0.5},\"pattern\":{\"fillmode\":\"overlay\",\"size\":10,\"solidity\":0.2}},\"type\":\"bar\"}],\"carpet\":[{\"aaxis\":{\"endlinecolor\":\"#2a3f5f\",\"gridcolor\":\"white\",\"linecolor\":\"white\",\"minorgridcolor\":\"white\",\"startlinecolor\":\"#2a3f5f\"},\"baxis\":{\"endlinecolor\":\"#2a3f5f\",\"gridcolor\":\"white\",\"linecolor\":\"white\",\"minorgridcolor\":\"white\",\"startlinecolor\":\"#2a3f5f\"},\"type\":\"carpet\"}],\"choropleth\":[{\"colorbar\":{\"outlinewidth\":0,\"ticks\":\"\"},\"type\":\"choropleth\"}],\"contourcarpet\":[{\"colorbar\":{\"outlinewidth\":0,\"ticks\":\"\"},\"type\":\"contourcarpet\"}],\"contour\":[{\"colorbar\":{\"outlinewidth\":0,\"ticks\":\"\"},\"colorscale\":[[0.0,\"#0d0887\"],[0.1111111111111111,\"#46039f\"],[0.2222222222222222,\"#7201a8\"],[0.3333333333333333,\"#9c179e\"],[0.4444444444444444,\"#bd3786\"],[0.5555555555555556,\"#d8576b\"],[0.6666666666666666,\"#ed7953\"],[0.7777777777777778,\"#fb9f3a\"],[0.8888888888888888,\"#fdca26\"],[1.0,\"#f0f921\"]],\"type\":\"contour\"}],\"heatmapgl\":[{\"colorbar\":{\"outlinewidth\":0,\"ticks\":\"\"},\"colorscale\":[[0.0,\"#0d0887\"],[0.1111111111111111,\"#46039f\"],[0.2222222222222222,\"#7201a8\"],[0.3333333333333333,\"#9c179e\"],[0.4444444444444444,\"#bd3786\"],[0.5555555555555556,\"#d8576b\"],[0.6666666666666666,\"#ed7953\"],[0.7777777777777778,\"#fb9f3a\"],[0.8888888888888888,\"#fdca26\"],[1.0,\"#f0f921\"]],\"type\":\"heatmapgl\"}],\"heatmap\":[{\"colorbar\":{\"outlinewidth\":0,\"ticks\":\"\"},\"colorscale\":[[0.0,\"#0d0887\"],[0.1111111111111111,\"#46039f\"],[0.2222222222222222,\"#7201a8\"],[0.3333333333333333,\"#9c179e\"],[0.4444444444444444,\"#bd3786\"],[0.5555555555555556,\"#d8576b\"],[0.6666666666666666,\"#ed7953\"],[0.7777777777777778,\"#fb9f3a\"],[0.8888888888888888,\"#fdca26\"],[1.0,\"#f0f921\"]],\"type\":\"heatmap\"}],\"histogram2dcontour\":[{\"colorbar\":{\"outlinewidth\":0,\"ticks\":\"\"},\"colorscale\":[[0.0,\"#0d0887\"],[0.1111111111111111,\"#46039f\"],[0.2222222222222222,\"#7201a8\"],[0.3333333333333333,\"#9c179e\"],[0.4444444444444444,\"#bd3786\"],[0.5555555555555556,\"#d8576b\"],[0.6666666666666666,\"#ed7953\"],[0.7777777777777778,\"#fb9f3a\"],[0.8888888888888888,\"#fdca26\"],[1.0,\"#f0f921\"]],\"type\":\"histogram2dcontour\"}],\"histogram2d\":[{\"colorbar\":{\"outlinewidth\":0,\"ticks\":\"\"},\"colorscale\":[[0.0,\"#0d0887\"],[0.1111111111111111,\"#46039f\"],[0.2222222222222222,\"#7201a8\"],[0.3333333333333333,\"#9c179e\"],[0.4444444444444444,\"#bd3786\"],[0.5555555555555556,\"#d8576b\"],[0.6666666666666666,\"#ed7953\"],[0.7777777777777778,\"#fb9f3a\"],[0.8888888888888888,\"#fdca26\"],[1.0,\"#f0f921\"]],\"type\":\"histogram2d\"}],\"histogram\":[{\"marker\":{\"pattern\":{\"fillmode\":\"overlay\",\"size\":10,\"solidity\":0.2}},\"type\":\"histogram\"}],\"mesh3d\":[{\"colorbar\":{\"outlinewidth\":0,\"ticks\":\"\"},\"type\":\"mesh3d\"}],\"parcoords\":[{\"line\":{\"colorbar\":{\"outlinewidth\":0,\"ticks\":\"\"}},\"type\":\"parcoords\"}],\"pie\":[{\"automargin\":true,\"type\":\"pie\"}],\"scatter3d\":[{\"line\":{\"colorbar\":{\"outlinewidth\":0,\"ticks\":\"\"}},\"marker\":{\"colorbar\":{\"outlinewidth\":0,\"ticks\":\"\"}},\"type\":\"scatter3d\"}],\"scattercarpet\":[{\"marker\":{\"colorbar\":{\"outlinewidth\":0,\"ticks\":\"\"}},\"type\":\"scattercarpet\"}],\"scattergeo\":[{\"marker\":{\"colorbar\":{\"outlinewidth\":0,\"ticks\":\"\"}},\"type\":\"scattergeo\"}],\"scattergl\":[{\"marker\":{\"colorbar\":{\"outlinewidth\":0,\"ticks\":\"\"}},\"type\":\"scattergl\"}],\"scattermapbox\":[{\"marker\":{\"colorbar\":{\"outlinewidth\":0,\"ticks\":\"\"}},\"type\":\"scattermapbox\"}],\"scatterpolargl\":[{\"marker\":{\"colorbar\":{\"outlinewidth\":0,\"ticks\":\"\"}},\"type\":\"scatterpolargl\"}],\"scatterpolar\":[{\"marker\":{\"colorbar\":{\"outlinewidth\":0,\"ticks\":\"\"}},\"type\":\"scatterpolar\"}],\"scatter\":[{\"fillpattern\":{\"fillmode\":\"overlay\",\"size\":10,\"solidity\":0.2},\"type\":\"scatter\"}],\"scatterternary\":[{\"marker\":{\"colorbar\":{\"outlinewidth\":0,\"ticks\":\"\"}},\"type\":\"scatterternary\"}],\"surface\":[{\"colorbar\":{\"outlinewidth\":0,\"ticks\":\"\"},\"colorscale\":[[0.0,\"#0d0887\"],[0.1111111111111111,\"#46039f\"],[0.2222222222222222,\"#7201a8\"],[0.3333333333333333,\"#9c179e\"],[0.4444444444444444,\"#bd3786\"],[0.5555555555555556,\"#d8576b\"],[0.6666666666666666,\"#ed7953\"],[0.7777777777777778,\"#fb9f3a\"],[0.8888888888888888,\"#fdca26\"],[1.0,\"#f0f921\"]],\"type\":\"surface\"}],\"table\":[{\"cells\":{\"fill\":{\"color\":\"#EBF0F8\"},\"line\":{\"color\":\"white\"}},\"header\":{\"fill\":{\"color\":\"#C8D4E3\"},\"line\":{\"color\":\"white\"}},\"type\":\"table\"}]},\"layout\":{\"annotationdefaults\":{\"arrowcolor\":\"#2a3f5f\",\"arrowhead\":0,\"arrowwidth\":1},\"autotypenumbers\":\"strict\",\"coloraxis\":{\"colorbar\":{\"outlinewidth\":0,\"ticks\":\"\"}},\"colorscale\":{\"diverging\":[[0,\"#8e0152\"],[0.1,\"#c51b7d\"],[0.2,\"#de77ae\"],[0.3,\"#f1b6da\"],[0.4,\"#fde0ef\"],[0.5,\"#f7f7f7\"],[0.6,\"#e6f5d0\"],[0.7,\"#b8e186\"],[0.8,\"#7fbc41\"],[0.9,\"#4d9221\"],[1,\"#276419\"]],\"sequential\":[[0.0,\"#0d0887\"],[0.1111111111111111,\"#46039f\"],[0.2222222222222222,\"#7201a8\"],[0.3333333333333333,\"#9c179e\"],[0.4444444444444444,\"#bd3786\"],[0.5555555555555556,\"#d8576b\"],[0.6666666666666666,\"#ed7953\"],[0.7777777777777778,\"#fb9f3a\"],[0.8888888888888888,\"#fdca26\"],[1.0,\"#f0f921\"]],\"sequentialminus\":[[0.0,\"#0d0887\"],[0.1111111111111111,\"#46039f\"],[0.2222222222222222,\"#7201a8\"],[0.3333333333333333,\"#9c179e\"],[0.4444444444444444,\"#bd3786\"],[0.5555555555555556,\"#d8576b\"],[0.6666666666666666,\"#ed7953\"],[0.7777777777777778,\"#fb9f3a\"],[0.8888888888888888,\"#fdca26\"],[1.0,\"#f0f921\"]]},\"colorway\":[\"#636efa\",\"#EF553B\",\"#00cc96\",\"#ab63fa\",\"#FFA15A\",\"#19d3f3\",\"#FF6692\",\"#B6E880\",\"#FF97FF\",\"#FECB52\"],\"font\":{\"color\":\"#2a3f5f\"},\"geo\":{\"bgcolor\":\"white\",\"lakecolor\":\"white\",\"landcolor\":\"#E5ECF6\",\"showlakes\":true,\"showland\":true,\"subunitcolor\":\"white\"},\"hoverlabel\":{\"align\":\"left\"},\"hovermode\":\"closest\",\"mapbox\":{\"style\":\"light\"},\"paper_bgcolor\":\"white\",\"plot_bgcolor\":\"#E5ECF6\",\"polar\":{\"angularaxis\":{\"gridcolor\":\"white\",\"linecolor\":\"white\",\"ticks\":\"\"},\"bgcolor\":\"#E5ECF6\",\"radialaxis\":{\"gridcolor\":\"white\",\"linecolor\":\"white\",\"ticks\":\"\"}},\"scene\":{\"xaxis\":{\"backgroundcolor\":\"#E5ECF6\",\"gridcolor\":\"white\",\"gridwidth\":2,\"linecolor\":\"white\",\"showbackground\":true,\"ticks\":\"\",\"zerolinecolor\":\"white\"},\"yaxis\":{\"backgroundcolor\":\"#E5ECF6\",\"gridcolor\":\"white\",\"gridwidth\":2,\"linecolor\":\"white\",\"showbackground\":true,\"ticks\":\"\",\"zerolinecolor\":\"white\"},\"zaxis\":{\"backgroundcolor\":\"#E5ECF6\",\"gridcolor\":\"white\",\"gridwidth\":2,\"linecolor\":\"white\",\"showbackground\":true,\"ticks\":\"\",\"zerolinecolor\":\"white\"}},\"shapedefaults\":{\"line\":{\"color\":\"#2a3f5f\"}},\"ternary\":{\"aaxis\":{\"gridcolor\":\"white\",\"linecolor\":\"white\",\"ticks\":\"\"},\"baxis\":{\"gridcolor\":\"white\",\"linecolor\":\"white\",\"ticks\":\"\"},\"bgcolor\":\"#E5ECF6\",\"caxis\":{\"gridcolor\":\"white\",\"linecolor\":\"white\",\"ticks\":\"\"}},\"title\":{\"x\":0.05},\"xaxis\":{\"automargin\":true,\"gridcolor\":\"white\",\"linecolor\":\"white\",\"ticks\":\"\",\"title\":{\"standoff\":15},\"zerolinecolor\":\"white\",\"zerolinewidth\":2},\"yaxis\":{\"automargin\":true,\"gridcolor\":\"white\",\"linecolor\":\"white\",\"ticks\":\"\",\"title\":{\"standoff\":15},\"zerolinecolor\":\"white\",\"zerolinewidth\":2}}},\"title\":{\"text\":\"GANTT Chart\"},\"xaxis\":{\"range\":[\"1970-01-01T00:00:00\",\"1970-01-01T19:51:56\"],\"title\":{\"font\":{\"color\":\"#7f7f7f\",\"family\":\"Courier New, monospace\",\"size\":18},\"text\":\"Time\"}},\"yaxis\":{\"title\":{\"font\":{\"color\":\"#7f7f7f\",\"family\":\"Courier New, monospace\",\"size\":18},\"text\":\"Activities\"}}},                        {\"responsive\": true}                    ).then(function(){\n",
       "                            \n",
       "var gd = document.getElementById('d215d634-e469-40d7-a4d0-d5c31e75daca');\n",
       "var x = new MutationObserver(function (mutations, observer) {{\n",
       "        var display = window.getComputedStyle(gd).display;\n",
       "        if (!display || display === 'none') {{\n",
       "            console.log([gd, 'removed!']);\n",
       "            Plotly.purge(gd);\n",
       "            observer.disconnect();\n",
       "        }}\n",
       "}});\n",
       "\n",
       "// Listen for the removal of the full notebook cells\n",
       "var notebookContainer = gd.closest('#notebook-container');\n",
       "if (notebookContainer) {{\n",
       "    x.observe(notebookContainer, {childList: true});\n",
       "}}\n",
       "\n",
       "// Listen for the clearing of the current output cell\n",
       "var outputEl = gd.closest('.output');\n",
       "if (outputEl) {{\n",
       "    x.observe(outputEl, {childList: true});\n",
       "}}\n",
       "\n",
       "                        })                };                });            </script>        </div>"
      ]
     },
     "metadata": {},
     "output_type": "display_data"
    }
   ],
   "source": [
    "# activities per vessel\n",
    "\n",
    "fig = get_gantt_chart(vessels, id_map=activities)"
   ]
  },
  {
   "cell_type": "code",
   "execution_count": 12,
   "id": "b7331bd0",
   "metadata": {},
   "outputs": [
    {
     "data": {
      "text/html": [
       "        <script type=\"text/javascript\">\n",
       "        window.PlotlyConfig = {MathJaxConfig: 'local'};\n",
       "        if (window.MathJax && window.MathJax.Hub && window.MathJax.Hub.Config) {window.MathJax.Hub.Config({SVG: {font: \"STIX-Web\"}});}\n",
       "        if (typeof require !== 'undefined') {\n",
       "        require.undef(\"plotly\");\n",
       "        requirejs.config({\n",
       "            paths: {\n",
       "                'plotly': ['https://cdn.plot.ly/plotly-2.18.2.min']\n",
       "            }\n",
       "        });\n",
       "        require(['plotly'], function(Plotly) {\n",
       "            window._Plotly = Plotly;\n",
       "        });\n",
       "        }\n",
       "        </script>\n",
       "        "
      ]
     },
     "metadata": {},
     "output_type": "display_data"
    },
    {
     "data": {
      "application/vnd.plotly.v1+json": {
       "config": {
        "linkText": "Export to plot.ly",
        "plotlyServerURL": "https://plot.ly",
        "showLink": false
       },
       "data": [
        {
         "connectgaps": false,
         "hoverinfo": "y+name",
         "line": {
          "color": "rgb(203,150,61)",
          "width": 10
         },
         "mode": "lines",
         "name": "loading:Barge I",
         "type": "scatter",
         "x": [
          "1970-01-01T01:43:05",
          "1970-01-01T01:43:05",
          "1970-01-01T02:16:25",
          "1970-01-01T02:16:25",
          "1970-01-01T02:16:25",
          "1970-01-01T04:25:31",
          "1970-01-01T04:25:31",
          "1970-01-01T04:58:51",
          "1970-01-01T04:58:51",
          "1970-01-01T04:58:51",
          "1970-01-01T07:08:34",
          "1970-01-01T07:08:34",
          "1970-01-01T07:41:54",
          "1970-01-01T07:41:54",
          "1970-01-01T07:41:54",
          "1970-01-01T10:12:23",
          "1970-01-01T10:12:23",
          "1970-01-01T10:45:43",
          "1970-01-01T10:45:43",
          "1970-01-01T10:45:43",
          "1970-01-01T13:16:12",
          "1970-01-01T13:16:12",
          "1970-01-01T13:49:32",
          "1970-01-01T13:49:32",
          "1970-01-01T13:49:32",
          "1970-01-01T16:20:01",
          "1970-01-01T16:20:01",
          "1970-01-01T16:53:21",
          "1970-01-01T16:53:21",
          "1970-01-01T16:53:21",
          "1970-01-01T01:43:05",
          "1970-01-01T01:43:05",
          "1970-01-01T02:16:25",
          "1970-01-01T02:16:25",
          "1970-01-01T02:16:25",
          "1970-01-01T04:25:31",
          "1970-01-01T04:25:31",
          "1970-01-01T04:58:51",
          "1970-01-01T04:58:51",
          "1970-01-01T04:58:51",
          "1970-01-01T07:08:34",
          "1970-01-01T07:08:34",
          "1970-01-01T07:41:54",
          "1970-01-01T07:41:54",
          "1970-01-01T07:41:54",
          "1970-01-01T10:12:23",
          "1970-01-01T10:12:23",
          "1970-01-01T10:45:43",
          "1970-01-01T10:45:43",
          "1970-01-01T10:45:43",
          "1970-01-01T13:16:12",
          "1970-01-01T13:16:12",
          "1970-01-01T13:49:32",
          "1970-01-01T13:49:32",
          "1970-01-01T13:49:32",
          "1970-01-01T16:20:01",
          "1970-01-01T16:20:01",
          "1970-01-01T16:53:21",
          "1970-01-01T16:53:21",
          "1970-01-01T16:53:21"
         ],
         "y": [
          "Trench",
          "Trench",
          "Trench",
          "Trench",
          null,
          "Trench",
          "Trench",
          "Trench",
          "Trench",
          null,
          "Trench",
          "Trench",
          "Trench",
          "Trench",
          null,
          "Trench",
          "Trench",
          "Trench",
          "Trench",
          null,
          "Trench",
          "Trench",
          "Trench",
          "Trench",
          null,
          "Trench",
          "Trench",
          "Trench",
          "Trench",
          null,
          "Cutter T",
          "Cutter T",
          "Cutter T",
          "Cutter T",
          null,
          "Cutter T",
          "Cutter T",
          "Cutter T",
          "Cutter T",
          null,
          "Cutter T",
          "Cutter T",
          "Cutter T",
          "Cutter T",
          null,
          "Cutter T",
          "Cutter T",
          "Cutter T",
          "Cutter T",
          null,
          "Cutter T",
          "Cutter T",
          "Cutter T",
          "Cutter T",
          null,
          "Cutter T",
          "Cutter T",
          "Cutter T",
          "Cutter T",
          null
         ]
        },
        {
         "connectgaps": false,
         "hoverinfo": "y+name",
         "line": {
          "color": "rgb(224,171,82)",
          "width": 10
         },
         "mode": "lines",
         "name": "loading:Carrier A",
         "type": "scatter",
         "x": [
          "1970-01-01T02:16:25",
          "1970-01-01T02:16:25",
          "1970-01-01T02:58:05",
          "1970-01-01T02:58:05",
          "1970-01-01T02:58:05",
          "1970-01-01T05:20:14",
          "1970-01-01T05:20:14",
          "1970-01-01T06:01:54",
          "1970-01-01T06:01:54",
          "1970-01-01T06:01:54",
          "1970-01-01T08:24:03",
          "1970-01-01T08:24:03",
          "1970-01-01T09:05:43",
          "1970-01-01T09:05:43",
          "1970-01-01T09:05:43",
          "1970-01-01T11:27:52",
          "1970-01-01T11:27:52",
          "1970-01-01T12:09:32",
          "1970-01-01T12:09:32",
          "1970-01-01T12:09:32",
          "1970-01-01T14:31:41",
          "1970-01-01T14:31:41",
          "1970-01-01T15:13:21",
          "1970-01-01T15:13:21",
          "1970-01-01T15:13:21",
          "1970-01-01T17:35:30",
          "1970-01-01T17:35:30",
          "1970-01-01T18:17:10",
          "1970-01-01T18:17:10",
          "1970-01-01T18:17:10",
          "1970-01-01T02:16:25",
          "1970-01-01T02:16:25",
          "1970-01-01T02:58:05",
          "1970-01-01T02:58:05",
          "1970-01-01T02:58:05",
          "1970-01-01T05:20:14",
          "1970-01-01T05:20:14",
          "1970-01-01T06:01:54",
          "1970-01-01T06:01:54",
          "1970-01-01T06:01:54",
          "1970-01-01T08:24:03",
          "1970-01-01T08:24:03",
          "1970-01-01T09:05:43",
          "1970-01-01T09:05:43",
          "1970-01-01T09:05:43",
          "1970-01-01T11:27:52",
          "1970-01-01T11:27:52",
          "1970-01-01T12:09:32",
          "1970-01-01T12:09:32",
          "1970-01-01T12:09:32",
          "1970-01-01T14:31:41",
          "1970-01-01T14:31:41",
          "1970-01-01T15:13:21",
          "1970-01-01T15:13:21",
          "1970-01-01T15:13:21",
          "1970-01-01T17:35:30",
          "1970-01-01T17:35:30",
          "1970-01-01T18:17:10",
          "1970-01-01T18:17:10",
          "1970-01-01T18:17:10"
         ],
         "y": [
          "Trench",
          "Trench",
          "Trench",
          "Trench",
          null,
          "Trench",
          "Trench",
          "Trench",
          "Trench",
          null,
          "Trench",
          "Trench",
          "Trench",
          "Trench",
          null,
          "Trench",
          "Trench",
          "Trench",
          "Trench",
          null,
          "Trench",
          "Trench",
          "Trench",
          "Trench",
          null,
          "Trench",
          "Trench",
          "Trench",
          "Trench",
          null,
          "Cutter T",
          "Cutter T",
          "Cutter T",
          "Cutter T",
          null,
          "Cutter T",
          "Cutter T",
          "Cutter T",
          "Cutter T",
          null,
          "Cutter T",
          "Cutter T",
          "Cutter T",
          "Cutter T",
          null,
          "Cutter T",
          "Cutter T",
          "Cutter T",
          "Cutter T",
          null,
          "Cutter T",
          "Cutter T",
          "Cutter T",
          "Cutter T",
          null,
          "Cutter T",
          "Cutter T",
          "Cutter T",
          "Cutter T",
          null
         ]
        },
        {
         "connectgaps": false,
         "hoverinfo": "y+name",
         "line": {
          "color": "rgb(245,192,103)",
          "width": 10
         },
         "mode": "lines",
         "name": "loading:Carrier C",
         "type": "scatter",
         "x": [
          "1970-01-01T00:36:25",
          "1970-01-01T00:36:25",
          "1970-01-01T01:09:45",
          "1970-01-01T01:09:45",
          "1970-01-01T01:09:45",
          "1970-01-01T02:59:00",
          "1970-01-01T02:59:00",
          "1970-01-01T03:32:20",
          "1970-01-01T03:32:20",
          "1970-01-01T03:32:20",
          "1970-01-01T06:01:54",
          "1970-01-01T06:01:54",
          "1970-01-01T06:35:14",
          "1970-01-01T06:35:14",
          "1970-01-01T06:35:14",
          "1970-01-01T09:05:43",
          "1970-01-01T09:05:43",
          "1970-01-01T09:39:03",
          "1970-01-01T09:39:03",
          "1970-01-01T09:39:03",
          "1970-01-01T12:09:32",
          "1970-01-01T12:09:32",
          "1970-01-01T12:42:52",
          "1970-01-01T12:42:52",
          "1970-01-01T12:42:52",
          "1970-01-01T15:13:21",
          "1970-01-01T15:13:21",
          "1970-01-01T15:46:41",
          "1970-01-01T15:46:41",
          "1970-01-01T15:46:41",
          "1970-01-01T00:36:25",
          "1970-01-01T00:36:25",
          "1970-01-01T01:09:45",
          "1970-01-01T01:09:45",
          "1970-01-01T01:09:45",
          "1970-01-01T02:59:00",
          "1970-01-01T02:59:00",
          "1970-01-01T03:32:20",
          "1970-01-01T03:32:20",
          "1970-01-01T03:32:20",
          "1970-01-01T06:01:54",
          "1970-01-01T06:01:54",
          "1970-01-01T06:35:14",
          "1970-01-01T06:35:14",
          "1970-01-01T06:35:14",
          "1970-01-01T09:05:43",
          "1970-01-01T09:05:43",
          "1970-01-01T09:39:03",
          "1970-01-01T09:39:03",
          "1970-01-01T09:39:03",
          "1970-01-01T12:09:32",
          "1970-01-01T12:09:32",
          "1970-01-01T12:42:52",
          "1970-01-01T12:42:52",
          "1970-01-01T12:42:52",
          "1970-01-01T15:13:21",
          "1970-01-01T15:13:21",
          "1970-01-01T15:46:41",
          "1970-01-01T15:46:41",
          "1970-01-01T15:46:41"
         ],
         "y": [
          "Trench",
          "Trench",
          "Trench",
          "Trench",
          null,
          "Trench",
          "Trench",
          "Trench",
          "Trench",
          null,
          "Trench",
          "Trench",
          "Trench",
          "Trench",
          null,
          "Trench",
          "Trench",
          "Trench",
          "Trench",
          null,
          "Trench",
          "Trench",
          "Trench",
          "Trench",
          null,
          "Trench",
          "Trench",
          "Trench",
          "Trench",
          null,
          "Cutter T",
          "Cutter T",
          "Cutter T",
          "Cutter T",
          null,
          "Cutter T",
          "Cutter T",
          "Cutter T",
          "Cutter T",
          null,
          "Cutter T",
          "Cutter T",
          "Cutter T",
          "Cutter T",
          null,
          "Cutter T",
          "Cutter T",
          "Cutter T",
          "Cutter T",
          null,
          "Cutter T",
          "Cutter T",
          "Cutter T",
          "Cutter T",
          null,
          "Cutter T",
          "Cutter T",
          "Cutter T",
          "Cutter T",
          null
         ]
        },
        {
         "connectgaps": false,
         "hoverinfo": "y+name",
         "line": {
          "color": "rgb(10,213,124)",
          "width": 10
         },
         "mode": "lines",
         "name": "loading:Carrier B",
         "type": "scatter",
         "x": [
          "1970-01-01T01:09:45",
          "1970-01-01T01:09:45",
          "1970-01-01T01:43:05",
          "1970-01-01T01:43:05",
          "1970-01-01T01:43:05",
          "1970-01-01T03:45:05",
          "1970-01-01T03:45:05",
          "1970-01-01T04:18:25",
          "1970-01-01T04:18:25",
          "1970-01-01T04:18:25",
          "1970-01-01T06:35:14",
          "1970-01-01T06:35:14",
          "1970-01-01T07:08:34",
          "1970-01-01T07:08:34",
          "1970-01-01T07:08:34",
          "1970-01-01T09:39:03",
          "1970-01-01T09:39:03",
          "1970-01-01T10:12:23",
          "1970-01-01T10:12:23",
          "1970-01-01T10:12:23",
          "1970-01-01T12:42:52",
          "1970-01-01T12:42:52",
          "1970-01-01T13:16:12",
          "1970-01-01T13:16:12",
          "1970-01-01T13:16:12",
          "1970-01-01T15:46:41",
          "1970-01-01T15:46:41",
          "1970-01-01T16:20:01",
          "1970-01-01T16:20:01",
          "1970-01-01T16:20:01",
          "1970-01-01T01:09:45",
          "1970-01-01T01:09:45",
          "1970-01-01T01:43:05",
          "1970-01-01T01:43:05",
          "1970-01-01T01:43:05",
          "1970-01-01T03:45:05",
          "1970-01-01T03:45:05",
          "1970-01-01T04:18:25",
          "1970-01-01T04:18:25",
          "1970-01-01T04:18:25",
          "1970-01-01T06:35:14",
          "1970-01-01T06:35:14",
          "1970-01-01T07:08:34",
          "1970-01-01T07:08:34",
          "1970-01-01T07:08:34",
          "1970-01-01T09:39:03",
          "1970-01-01T09:39:03",
          "1970-01-01T10:12:23",
          "1970-01-01T10:12:23",
          "1970-01-01T10:12:23",
          "1970-01-01T12:42:52",
          "1970-01-01T12:42:52",
          "1970-01-01T13:16:12",
          "1970-01-01T13:16:12",
          "1970-01-01T13:16:12",
          "1970-01-01T15:46:41",
          "1970-01-01T15:46:41",
          "1970-01-01T16:20:01",
          "1970-01-01T16:20:01",
          "1970-01-01T16:20:01"
         ],
         "y": [
          "Trench",
          "Trench",
          "Trench",
          "Trench",
          null,
          "Trench",
          "Trench",
          "Trench",
          "Trench",
          null,
          "Trench",
          "Trench",
          "Trench",
          "Trench",
          null,
          "Trench",
          "Trench",
          "Trench",
          "Trench",
          null,
          "Trench",
          "Trench",
          "Trench",
          "Trench",
          null,
          "Trench",
          "Trench",
          "Trench",
          "Trench",
          null,
          "Cutter T",
          "Cutter T",
          "Cutter T",
          "Cutter T",
          null,
          "Cutter T",
          "Cutter T",
          "Cutter T",
          "Cutter T",
          null,
          "Cutter T",
          "Cutter T",
          "Cutter T",
          "Cutter T",
          null,
          "Cutter T",
          "Cutter T",
          "Cutter T",
          "Cutter T",
          null,
          "Cutter T",
          "Cutter T",
          "Cutter T",
          "Cutter T",
          null,
          "Cutter T",
          "Cutter T",
          "Cutter T",
          "Cutter T",
          null
         ]
        },
        {
         "connectgaps": false,
         "hoverinfo": "y+name",
         "line": {
          "color": "rgb(31,234,145)",
          "width": 10
         },
         "mode": "lines",
         "name": "unloading:Barge I",
         "type": "scatter",
         "x": [
          "1970-01-01T02:59:27",
          "1970-01-01T02:59:27",
          "1970-01-01T03:42:29",
          "1970-01-01T03:42:29",
          "1970-01-01T03:42:29",
          "1970-01-01T05:41:53",
          "1970-01-01T05:41:53",
          "1970-01-01T06:24:55",
          "1970-01-01T06:24:55",
          "1970-01-01T06:24:55",
          "1970-01-01T08:24:56",
          "1970-01-01T08:24:56",
          "1970-01-01T09:07:58",
          "1970-01-01T09:07:58",
          "1970-01-01T09:07:58",
          "1970-01-01T11:28:45",
          "1970-01-01T11:28:45",
          "1970-01-01T12:11:47",
          "1970-01-01T12:11:47",
          "1970-01-01T12:11:47",
          "1970-01-01T14:32:34",
          "1970-01-01T14:32:34",
          "1970-01-01T15:15:36",
          "1970-01-01T15:15:36",
          "1970-01-01T15:15:36",
          "1970-01-01T17:36:23",
          "1970-01-01T17:36:23",
          "1970-01-01T18:19:25",
          "1970-01-01T18:19:25",
          "1970-01-01T18:19:25"
         ],
         "y": [
          "Reclamation",
          "Reclamation",
          "Reclamation",
          "Reclamation",
          null,
          "Reclamation",
          "Reclamation",
          "Reclamation",
          "Reclamation",
          null,
          "Reclamation",
          "Reclamation",
          "Reclamation",
          "Reclamation",
          null,
          "Reclamation",
          "Reclamation",
          "Reclamation",
          "Reclamation",
          null,
          "Reclamation",
          "Reclamation",
          "Reclamation",
          "Reclamation",
          null,
          "Reclamation",
          "Reclamation",
          "Reclamation",
          "Reclamation",
          null
         ]
        },
        {
         "connectgaps": false,
         "hoverinfo": "y+name",
         "line": {
          "color": "rgb(52,255,166)",
          "width": 10
         },
         "mode": "lines",
         "name": "unloading:Carrier B",
         "type": "scatter",
         "x": [
          "1970-01-01T02:23:45",
          "1970-01-01T02:23:45",
          "1970-01-01T03:04:25",
          "1970-01-01T03:04:25",
          "1970-01-01T03:04:25",
          "1970-01-01T04:59:05",
          "1970-01-01T04:59:05",
          "1970-01-01T05:39:45",
          "1970-01-01T05:39:45",
          "1970-01-01T05:39:45",
          "1970-01-01T07:49:14",
          "1970-01-01T07:49:14",
          "1970-01-01T08:29:54",
          "1970-01-01T08:29:54",
          "1970-01-01T08:29:54",
          "1970-01-01T10:53:03",
          "1970-01-01T10:53:03",
          "1970-01-01T11:33:43",
          "1970-01-01T11:33:43",
          "1970-01-01T11:33:43",
          "1970-01-01T13:56:52",
          "1970-01-01T13:56:52",
          "1970-01-01T14:37:32",
          "1970-01-01T14:37:32",
          "1970-01-01T14:37:32",
          "1970-01-01T17:00:41",
          "1970-01-01T17:00:41",
          "1970-01-01T17:41:21",
          "1970-01-01T17:41:21",
          "1970-01-01T17:41:21"
         ],
         "y": [
          "Reclamation",
          "Reclamation",
          "Reclamation",
          "Reclamation",
          null,
          "Reclamation",
          "Reclamation",
          "Reclamation",
          "Reclamation",
          null,
          "Reclamation",
          "Reclamation",
          "Reclamation",
          "Reclamation",
          null,
          "Reclamation",
          "Reclamation",
          "Reclamation",
          "Reclamation",
          null,
          "Reclamation",
          "Reclamation",
          "Reclamation",
          "Reclamation",
          null,
          "Reclamation",
          "Reclamation",
          "Reclamation",
          "Reclamation",
          null
         ]
        },
        {
         "connectgaps": false,
         "hoverinfo": "y+name",
         "line": {
          "color": "rgb(73,20,187)",
          "width": 10
         },
         "mode": "lines",
         "name": "unloading:Carrier A",
         "type": "scatter",
         "x": [
          "1970-01-01T03:45:28",
          "1970-01-01T03:45:28",
          "1970-01-01T04:32:51",
          "1970-01-01T04:32:51",
          "1970-01-01T04:32:51",
          "1970-01-01T06:49:17",
          "1970-01-01T06:49:17",
          "1970-01-01T07:36:40",
          "1970-01-01T07:36:40",
          "1970-01-01T07:36:40",
          "1970-01-01T09:53:06",
          "1970-01-01T09:53:06",
          "1970-01-01T10:40:29",
          "1970-01-01T10:40:29",
          "1970-01-01T10:40:29",
          "1970-01-01T12:56:55",
          "1970-01-01T12:56:55",
          "1970-01-01T13:44:18",
          "1970-01-01T13:44:18",
          "1970-01-01T13:44:18",
          "1970-01-01T16:00:44",
          "1970-01-01T16:00:44",
          "1970-01-01T16:48:07",
          "1970-01-01T16:48:07",
          "1970-01-01T16:48:07",
          "1970-01-01T19:04:33",
          "1970-01-01T19:04:33",
          "1970-01-01T19:51:56",
          "1970-01-01T19:51:56",
          "1970-01-01T19:51:56"
         ],
         "y": [
          "Reclamation",
          "Reclamation",
          "Reclamation",
          "Reclamation",
          null,
          "Reclamation",
          "Reclamation",
          "Reclamation",
          "Reclamation",
          null,
          "Reclamation",
          "Reclamation",
          "Reclamation",
          "Reclamation",
          null,
          "Reclamation",
          "Reclamation",
          "Reclamation",
          "Reclamation",
          null,
          "Reclamation",
          "Reclamation",
          "Reclamation",
          "Reclamation",
          null,
          "Reclamation",
          "Reclamation",
          "Reclamation",
          "Reclamation",
          null
         ]
        },
        {
         "connectgaps": false,
         "hoverinfo": "y+name",
         "line": {
          "color": "rgb(94,41,208)",
          "width": 10
         },
         "mode": "lines",
         "name": "unloading:Carrier C",
         "type": "scatter",
         "x": [
          "1970-01-01T01:46:10",
          "1970-01-01T01:46:10",
          "1970-01-01T02:22:35",
          "1970-01-01T02:22:35",
          "1970-01-01T02:22:35",
          "1970-01-01T04:08:45",
          "1970-01-01T04:08:45",
          "1970-01-01T04:45:10",
          "1970-01-01T04:45:10",
          "1970-01-01T04:45:10",
          "1970-01-01T07:11:39",
          "1970-01-01T07:11:39",
          "1970-01-01T07:48:04",
          "1970-01-01T07:48:04",
          "1970-01-01T07:48:04",
          "1970-01-01T10:15:28",
          "1970-01-01T10:15:28",
          "1970-01-01T10:51:53",
          "1970-01-01T10:51:53",
          "1970-01-01T10:51:53",
          "1970-01-01T13:19:17",
          "1970-01-01T13:19:17",
          "1970-01-01T13:55:42",
          "1970-01-01T13:55:42",
          "1970-01-01T13:55:42",
          "1970-01-01T16:23:06",
          "1970-01-01T16:23:06",
          "1970-01-01T16:59:31",
          "1970-01-01T16:59:31",
          "1970-01-01T16:59:31"
         ],
         "y": [
          "Reclamation",
          "Reclamation",
          "Reclamation",
          "Reclamation",
          null,
          "Reclamation",
          "Reclamation",
          "Reclamation",
          "Reclamation",
          null,
          "Reclamation",
          "Reclamation",
          "Reclamation",
          "Reclamation",
          null,
          "Reclamation",
          "Reclamation",
          "Reclamation",
          "Reclamation",
          null,
          "Reclamation",
          "Reclamation",
          "Reclamation",
          "Reclamation",
          null,
          "Reclamation",
          "Reclamation",
          "Reclamation",
          "Reclamation",
          null
         ]
        },
        {
         "connectgaps": false,
         "hoverinfo": "y+name",
         "line": {
          "color": "rgb(115,62,229)",
          "width": 10
         },
         "mode": "lines",
         "name": "loading:Barge I",
         "type": "scatter",
         "x": [
          "1970-01-01T01:43:05",
          "1970-01-01T01:43:05",
          "1970-01-01T02:16:25",
          "1970-01-01T02:16:25",
          "1970-01-01T02:16:25",
          "1970-01-01T04:25:31",
          "1970-01-01T04:25:31",
          "1970-01-01T04:58:51",
          "1970-01-01T04:58:51",
          "1970-01-01T04:58:51",
          "1970-01-01T07:08:34",
          "1970-01-01T07:08:34",
          "1970-01-01T07:41:54",
          "1970-01-01T07:41:54",
          "1970-01-01T07:41:54",
          "1970-01-01T10:12:23",
          "1970-01-01T10:12:23",
          "1970-01-01T10:45:43",
          "1970-01-01T10:45:43",
          "1970-01-01T10:45:43",
          "1970-01-01T13:16:12",
          "1970-01-01T13:16:12",
          "1970-01-01T13:49:32",
          "1970-01-01T13:49:32",
          "1970-01-01T13:49:32",
          "1970-01-01T16:20:01",
          "1970-01-01T16:20:01",
          "1970-01-01T16:53:21",
          "1970-01-01T16:53:21",
          "1970-01-01T16:53:21",
          "1970-01-01T01:43:05",
          "1970-01-01T01:43:05",
          "1970-01-01T02:16:25",
          "1970-01-01T02:16:25",
          "1970-01-01T02:16:25",
          "1970-01-01T04:25:31",
          "1970-01-01T04:25:31",
          "1970-01-01T04:58:51",
          "1970-01-01T04:58:51",
          "1970-01-01T04:58:51",
          "1970-01-01T07:08:34",
          "1970-01-01T07:08:34",
          "1970-01-01T07:41:54",
          "1970-01-01T07:41:54",
          "1970-01-01T07:41:54",
          "1970-01-01T10:12:23",
          "1970-01-01T10:12:23",
          "1970-01-01T10:45:43",
          "1970-01-01T10:45:43",
          "1970-01-01T10:45:43",
          "1970-01-01T13:16:12",
          "1970-01-01T13:16:12",
          "1970-01-01T13:49:32",
          "1970-01-01T13:49:32",
          "1970-01-01T13:49:32",
          "1970-01-01T16:20:01",
          "1970-01-01T16:20:01",
          "1970-01-01T16:53:21",
          "1970-01-01T16:53:21",
          "1970-01-01T16:53:21"
         ],
         "y": [
          "Trench",
          "Trench",
          "Trench",
          "Trench",
          null,
          "Trench",
          "Trench",
          "Trench",
          "Trench",
          null,
          "Trench",
          "Trench",
          "Trench",
          "Trench",
          null,
          "Trench",
          "Trench",
          "Trench",
          "Trench",
          null,
          "Trench",
          "Trench",
          "Trench",
          "Trench",
          null,
          "Trench",
          "Trench",
          "Trench",
          "Trench",
          null,
          "Cutter T",
          "Cutter T",
          "Cutter T",
          "Cutter T",
          null,
          "Cutter T",
          "Cutter T",
          "Cutter T",
          "Cutter T",
          null,
          "Cutter T",
          "Cutter T",
          "Cutter T",
          "Cutter T",
          null,
          "Cutter T",
          "Cutter T",
          "Cutter T",
          "Cutter T",
          null,
          "Cutter T",
          "Cutter T",
          "Cutter T",
          "Cutter T",
          null,
          "Cutter T",
          "Cutter T",
          "Cutter T",
          "Cutter T",
          null
         ]
        },
        {
         "connectgaps": false,
         "hoverinfo": "y+name",
         "line": {
          "color": "rgb(136,83,250)",
          "width": 10
         },
         "mode": "lines",
         "name": "loading:Carrier A",
         "type": "scatter",
         "x": [
          "1970-01-01T02:16:25",
          "1970-01-01T02:16:25",
          "1970-01-01T02:58:05",
          "1970-01-01T02:58:05",
          "1970-01-01T02:58:05",
          "1970-01-01T05:20:14",
          "1970-01-01T05:20:14",
          "1970-01-01T06:01:54",
          "1970-01-01T06:01:54",
          "1970-01-01T06:01:54",
          "1970-01-01T08:24:03",
          "1970-01-01T08:24:03",
          "1970-01-01T09:05:43",
          "1970-01-01T09:05:43",
          "1970-01-01T09:05:43",
          "1970-01-01T11:27:52",
          "1970-01-01T11:27:52",
          "1970-01-01T12:09:32",
          "1970-01-01T12:09:32",
          "1970-01-01T12:09:32",
          "1970-01-01T14:31:41",
          "1970-01-01T14:31:41",
          "1970-01-01T15:13:21",
          "1970-01-01T15:13:21",
          "1970-01-01T15:13:21",
          "1970-01-01T17:35:30",
          "1970-01-01T17:35:30",
          "1970-01-01T18:17:10",
          "1970-01-01T18:17:10",
          "1970-01-01T18:17:10",
          "1970-01-01T02:16:25",
          "1970-01-01T02:16:25",
          "1970-01-01T02:58:05",
          "1970-01-01T02:58:05",
          "1970-01-01T02:58:05",
          "1970-01-01T05:20:14",
          "1970-01-01T05:20:14",
          "1970-01-01T06:01:54",
          "1970-01-01T06:01:54",
          "1970-01-01T06:01:54",
          "1970-01-01T08:24:03",
          "1970-01-01T08:24:03",
          "1970-01-01T09:05:43",
          "1970-01-01T09:05:43",
          "1970-01-01T09:05:43",
          "1970-01-01T11:27:52",
          "1970-01-01T11:27:52",
          "1970-01-01T12:09:32",
          "1970-01-01T12:09:32",
          "1970-01-01T12:09:32",
          "1970-01-01T14:31:41",
          "1970-01-01T14:31:41",
          "1970-01-01T15:13:21",
          "1970-01-01T15:13:21",
          "1970-01-01T15:13:21",
          "1970-01-01T17:35:30",
          "1970-01-01T17:35:30",
          "1970-01-01T18:17:10",
          "1970-01-01T18:17:10",
          "1970-01-01T18:17:10"
         ],
         "y": [
          "Trench",
          "Trench",
          "Trench",
          "Trench",
          null,
          "Trench",
          "Trench",
          "Trench",
          "Trench",
          null,
          "Trench",
          "Trench",
          "Trench",
          "Trench",
          null,
          "Trench",
          "Trench",
          "Trench",
          "Trench",
          null,
          "Trench",
          "Trench",
          "Trench",
          "Trench",
          null,
          "Trench",
          "Trench",
          "Trench",
          "Trench",
          null,
          "Cutter T",
          "Cutter T",
          "Cutter T",
          "Cutter T",
          null,
          "Cutter T",
          "Cutter T",
          "Cutter T",
          "Cutter T",
          null,
          "Cutter T",
          "Cutter T",
          "Cutter T",
          "Cutter T",
          null,
          "Cutter T",
          "Cutter T",
          "Cutter T",
          "Cutter T",
          null,
          "Cutter T",
          "Cutter T",
          "Cutter T",
          "Cutter T",
          null,
          "Cutter T",
          "Cutter T",
          "Cutter T",
          "Cutter T",
          null
         ]
        },
        {
         "connectgaps": false,
         "hoverinfo": "y+name",
         "line": {
          "color": "rgb(157,104,15)",
          "width": 10
         },
         "mode": "lines",
         "name": "loading:Carrier C",
         "type": "scatter",
         "x": [
          "1970-01-01T00:36:25",
          "1970-01-01T00:36:25",
          "1970-01-01T01:09:45",
          "1970-01-01T01:09:45",
          "1970-01-01T01:09:45",
          "1970-01-01T02:59:00",
          "1970-01-01T02:59:00",
          "1970-01-01T03:32:20",
          "1970-01-01T03:32:20",
          "1970-01-01T03:32:20",
          "1970-01-01T06:01:54",
          "1970-01-01T06:01:54",
          "1970-01-01T06:35:14",
          "1970-01-01T06:35:14",
          "1970-01-01T06:35:14",
          "1970-01-01T09:05:43",
          "1970-01-01T09:05:43",
          "1970-01-01T09:39:03",
          "1970-01-01T09:39:03",
          "1970-01-01T09:39:03",
          "1970-01-01T12:09:32",
          "1970-01-01T12:09:32",
          "1970-01-01T12:42:52",
          "1970-01-01T12:42:52",
          "1970-01-01T12:42:52",
          "1970-01-01T15:13:21",
          "1970-01-01T15:13:21",
          "1970-01-01T15:46:41",
          "1970-01-01T15:46:41",
          "1970-01-01T15:46:41",
          "1970-01-01T00:36:25",
          "1970-01-01T00:36:25",
          "1970-01-01T01:09:45",
          "1970-01-01T01:09:45",
          "1970-01-01T01:09:45",
          "1970-01-01T02:59:00",
          "1970-01-01T02:59:00",
          "1970-01-01T03:32:20",
          "1970-01-01T03:32:20",
          "1970-01-01T03:32:20",
          "1970-01-01T06:01:54",
          "1970-01-01T06:01:54",
          "1970-01-01T06:35:14",
          "1970-01-01T06:35:14",
          "1970-01-01T06:35:14",
          "1970-01-01T09:05:43",
          "1970-01-01T09:05:43",
          "1970-01-01T09:39:03",
          "1970-01-01T09:39:03",
          "1970-01-01T09:39:03",
          "1970-01-01T12:09:32",
          "1970-01-01T12:09:32",
          "1970-01-01T12:42:52",
          "1970-01-01T12:42:52",
          "1970-01-01T12:42:52",
          "1970-01-01T15:13:21",
          "1970-01-01T15:13:21",
          "1970-01-01T15:46:41",
          "1970-01-01T15:46:41",
          "1970-01-01T15:46:41"
         ],
         "y": [
          "Trench",
          "Trench",
          "Trench",
          "Trench",
          null,
          "Trench",
          "Trench",
          "Trench",
          "Trench",
          null,
          "Trench",
          "Trench",
          "Trench",
          "Trench",
          null,
          "Trench",
          "Trench",
          "Trench",
          "Trench",
          null,
          "Trench",
          "Trench",
          "Trench",
          "Trench",
          null,
          "Trench",
          "Trench",
          "Trench",
          "Trench",
          null,
          "Cutter T",
          "Cutter T",
          "Cutter T",
          "Cutter T",
          null,
          "Cutter T",
          "Cutter T",
          "Cutter T",
          "Cutter T",
          null,
          "Cutter T",
          "Cutter T",
          "Cutter T",
          "Cutter T",
          null,
          "Cutter T",
          "Cutter T",
          "Cutter T",
          "Cutter T",
          null,
          "Cutter T",
          "Cutter T",
          "Cutter T",
          "Cutter T",
          null,
          "Cutter T",
          "Cutter T",
          "Cutter T",
          "Cutter T",
          null
         ]
        },
        {
         "connectgaps": false,
         "hoverinfo": "y+name",
         "line": {
          "color": "rgb(178,125,36)",
          "width": 10
         },
         "mode": "lines",
         "name": "loading:Carrier B",
         "type": "scatter",
         "x": [
          "1970-01-01T01:09:45",
          "1970-01-01T01:09:45",
          "1970-01-01T01:43:05",
          "1970-01-01T01:43:05",
          "1970-01-01T01:43:05",
          "1970-01-01T03:45:05",
          "1970-01-01T03:45:05",
          "1970-01-01T04:18:25",
          "1970-01-01T04:18:25",
          "1970-01-01T04:18:25",
          "1970-01-01T06:35:14",
          "1970-01-01T06:35:14",
          "1970-01-01T07:08:34",
          "1970-01-01T07:08:34",
          "1970-01-01T07:08:34",
          "1970-01-01T09:39:03",
          "1970-01-01T09:39:03",
          "1970-01-01T10:12:23",
          "1970-01-01T10:12:23",
          "1970-01-01T10:12:23",
          "1970-01-01T12:42:52",
          "1970-01-01T12:42:52",
          "1970-01-01T13:16:12",
          "1970-01-01T13:16:12",
          "1970-01-01T13:16:12",
          "1970-01-01T15:46:41",
          "1970-01-01T15:46:41",
          "1970-01-01T16:20:01",
          "1970-01-01T16:20:01",
          "1970-01-01T16:20:01",
          "1970-01-01T01:09:45",
          "1970-01-01T01:09:45",
          "1970-01-01T01:43:05",
          "1970-01-01T01:43:05",
          "1970-01-01T01:43:05",
          "1970-01-01T03:45:05",
          "1970-01-01T03:45:05",
          "1970-01-01T04:18:25",
          "1970-01-01T04:18:25",
          "1970-01-01T04:18:25",
          "1970-01-01T06:35:14",
          "1970-01-01T06:35:14",
          "1970-01-01T07:08:34",
          "1970-01-01T07:08:34",
          "1970-01-01T07:08:34",
          "1970-01-01T09:39:03",
          "1970-01-01T09:39:03",
          "1970-01-01T10:12:23",
          "1970-01-01T10:12:23",
          "1970-01-01T10:12:23",
          "1970-01-01T12:42:52",
          "1970-01-01T12:42:52",
          "1970-01-01T13:16:12",
          "1970-01-01T13:16:12",
          "1970-01-01T13:16:12",
          "1970-01-01T15:46:41",
          "1970-01-01T15:46:41",
          "1970-01-01T16:20:01",
          "1970-01-01T16:20:01",
          "1970-01-01T16:20:01"
         ],
         "y": [
          "Trench",
          "Trench",
          "Trench",
          "Trench",
          null,
          "Trench",
          "Trench",
          "Trench",
          "Trench",
          null,
          "Trench",
          "Trench",
          "Trench",
          "Trench",
          null,
          "Trench",
          "Trench",
          "Trench",
          "Trench",
          null,
          "Trench",
          "Trench",
          "Trench",
          "Trench",
          null,
          "Trench",
          "Trench",
          "Trench",
          "Trench",
          null,
          "Cutter T",
          "Cutter T",
          "Cutter T",
          "Cutter T",
          null,
          "Cutter T",
          "Cutter T",
          "Cutter T",
          "Cutter T",
          null,
          "Cutter T",
          "Cutter T",
          "Cutter T",
          "Cutter T",
          null,
          "Cutter T",
          "Cutter T",
          "Cutter T",
          "Cutter T",
          null,
          "Cutter T",
          "Cutter T",
          "Cutter T",
          "Cutter T",
          null,
          "Cutter T",
          "Cutter T",
          "Cutter T",
          "Cutter T",
          null
         ]
        }
       ],
       "layout": {
        "hovermode": "closest",
        "legend": {
         "orientation": "h",
         "x": 0,
         "y": -0.2
        },
        "template": {
         "data": {
          "bar": [
           {
            "error_x": {
             "color": "#2a3f5f"
            },
            "error_y": {
             "color": "#2a3f5f"
            },
            "marker": {
             "line": {
              "color": "#E5ECF6",
              "width": 0.5
             },
             "pattern": {
              "fillmode": "overlay",
              "size": 10,
              "solidity": 0.2
             }
            },
            "type": "bar"
           }
          ],
          "barpolar": [
           {
            "marker": {
             "line": {
              "color": "#E5ECF6",
              "width": 0.5
             },
             "pattern": {
              "fillmode": "overlay",
              "size": 10,
              "solidity": 0.2
             }
            },
            "type": "barpolar"
           }
          ],
          "carpet": [
           {
            "aaxis": {
             "endlinecolor": "#2a3f5f",
             "gridcolor": "white",
             "linecolor": "white",
             "minorgridcolor": "white",
             "startlinecolor": "#2a3f5f"
            },
            "baxis": {
             "endlinecolor": "#2a3f5f",
             "gridcolor": "white",
             "linecolor": "white",
             "minorgridcolor": "white",
             "startlinecolor": "#2a3f5f"
            },
            "type": "carpet"
           }
          ],
          "choropleth": [
           {
            "colorbar": {
             "outlinewidth": 0,
             "ticks": ""
            },
            "type": "choropleth"
           }
          ],
          "contour": [
           {
            "colorbar": {
             "outlinewidth": 0,
             "ticks": ""
            },
            "colorscale": [
             [
              0,
              "#0d0887"
             ],
             [
              0.1111111111111111,
              "#46039f"
             ],
             [
              0.2222222222222222,
              "#7201a8"
             ],
             [
              0.3333333333333333,
              "#9c179e"
             ],
             [
              0.4444444444444444,
              "#bd3786"
             ],
             [
              0.5555555555555556,
              "#d8576b"
             ],
             [
              0.6666666666666666,
              "#ed7953"
             ],
             [
              0.7777777777777778,
              "#fb9f3a"
             ],
             [
              0.8888888888888888,
              "#fdca26"
             ],
             [
              1,
              "#f0f921"
             ]
            ],
            "type": "contour"
           }
          ],
          "contourcarpet": [
           {
            "colorbar": {
             "outlinewidth": 0,
             "ticks": ""
            },
            "type": "contourcarpet"
           }
          ],
          "heatmap": [
           {
            "colorbar": {
             "outlinewidth": 0,
             "ticks": ""
            },
            "colorscale": [
             [
              0,
              "#0d0887"
             ],
             [
              0.1111111111111111,
              "#46039f"
             ],
             [
              0.2222222222222222,
              "#7201a8"
             ],
             [
              0.3333333333333333,
              "#9c179e"
             ],
             [
              0.4444444444444444,
              "#bd3786"
             ],
             [
              0.5555555555555556,
              "#d8576b"
             ],
             [
              0.6666666666666666,
              "#ed7953"
             ],
             [
              0.7777777777777778,
              "#fb9f3a"
             ],
             [
              0.8888888888888888,
              "#fdca26"
             ],
             [
              1,
              "#f0f921"
             ]
            ],
            "type": "heatmap"
           }
          ],
          "heatmapgl": [
           {
            "colorbar": {
             "outlinewidth": 0,
             "ticks": ""
            },
            "colorscale": [
             [
              0,
              "#0d0887"
             ],
             [
              0.1111111111111111,
              "#46039f"
             ],
             [
              0.2222222222222222,
              "#7201a8"
             ],
             [
              0.3333333333333333,
              "#9c179e"
             ],
             [
              0.4444444444444444,
              "#bd3786"
             ],
             [
              0.5555555555555556,
              "#d8576b"
             ],
             [
              0.6666666666666666,
              "#ed7953"
             ],
             [
              0.7777777777777778,
              "#fb9f3a"
             ],
             [
              0.8888888888888888,
              "#fdca26"
             ],
             [
              1,
              "#f0f921"
             ]
            ],
            "type": "heatmapgl"
           }
          ],
          "histogram": [
           {
            "marker": {
             "pattern": {
              "fillmode": "overlay",
              "size": 10,
              "solidity": 0.2
             }
            },
            "type": "histogram"
           }
          ],
          "histogram2d": [
           {
            "colorbar": {
             "outlinewidth": 0,
             "ticks": ""
            },
            "colorscale": [
             [
              0,
              "#0d0887"
             ],
             [
              0.1111111111111111,
              "#46039f"
             ],
             [
              0.2222222222222222,
              "#7201a8"
             ],
             [
              0.3333333333333333,
              "#9c179e"
             ],
             [
              0.4444444444444444,
              "#bd3786"
             ],
             [
              0.5555555555555556,
              "#d8576b"
             ],
             [
              0.6666666666666666,
              "#ed7953"
             ],
             [
              0.7777777777777778,
              "#fb9f3a"
             ],
             [
              0.8888888888888888,
              "#fdca26"
             ],
             [
              1,
              "#f0f921"
             ]
            ],
            "type": "histogram2d"
           }
          ],
          "histogram2dcontour": [
           {
            "colorbar": {
             "outlinewidth": 0,
             "ticks": ""
            },
            "colorscale": [
             [
              0,
              "#0d0887"
             ],
             [
              0.1111111111111111,
              "#46039f"
             ],
             [
              0.2222222222222222,
              "#7201a8"
             ],
             [
              0.3333333333333333,
              "#9c179e"
             ],
             [
              0.4444444444444444,
              "#bd3786"
             ],
             [
              0.5555555555555556,
              "#d8576b"
             ],
             [
              0.6666666666666666,
              "#ed7953"
             ],
             [
              0.7777777777777778,
              "#fb9f3a"
             ],
             [
              0.8888888888888888,
              "#fdca26"
             ],
             [
              1,
              "#f0f921"
             ]
            ],
            "type": "histogram2dcontour"
           }
          ],
          "mesh3d": [
           {
            "colorbar": {
             "outlinewidth": 0,
             "ticks": ""
            },
            "type": "mesh3d"
           }
          ],
          "parcoords": [
           {
            "line": {
             "colorbar": {
              "outlinewidth": 0,
              "ticks": ""
             }
            },
            "type": "parcoords"
           }
          ],
          "pie": [
           {
            "automargin": true,
            "type": "pie"
           }
          ],
          "scatter": [
           {
            "fillpattern": {
             "fillmode": "overlay",
             "size": 10,
             "solidity": 0.2
            },
            "type": "scatter"
           }
          ],
          "scatter3d": [
           {
            "line": {
             "colorbar": {
              "outlinewidth": 0,
              "ticks": ""
             }
            },
            "marker": {
             "colorbar": {
              "outlinewidth": 0,
              "ticks": ""
             }
            },
            "type": "scatter3d"
           }
          ],
          "scattercarpet": [
           {
            "marker": {
             "colorbar": {
              "outlinewidth": 0,
              "ticks": ""
             }
            },
            "type": "scattercarpet"
           }
          ],
          "scattergeo": [
           {
            "marker": {
             "colorbar": {
              "outlinewidth": 0,
              "ticks": ""
             }
            },
            "type": "scattergeo"
           }
          ],
          "scattergl": [
           {
            "marker": {
             "colorbar": {
              "outlinewidth": 0,
              "ticks": ""
             }
            },
            "type": "scattergl"
           }
          ],
          "scattermapbox": [
           {
            "marker": {
             "colorbar": {
              "outlinewidth": 0,
              "ticks": ""
             }
            },
            "type": "scattermapbox"
           }
          ],
          "scatterpolar": [
           {
            "marker": {
             "colorbar": {
              "outlinewidth": 0,
              "ticks": ""
             }
            },
            "type": "scatterpolar"
           }
          ],
          "scatterpolargl": [
           {
            "marker": {
             "colorbar": {
              "outlinewidth": 0,
              "ticks": ""
             }
            },
            "type": "scatterpolargl"
           }
          ],
          "scatterternary": [
           {
            "marker": {
             "colorbar": {
              "outlinewidth": 0,
              "ticks": ""
             }
            },
            "type": "scatterternary"
           }
          ],
          "surface": [
           {
            "colorbar": {
             "outlinewidth": 0,
             "ticks": ""
            },
            "colorscale": [
             [
              0,
              "#0d0887"
             ],
             [
              0.1111111111111111,
              "#46039f"
             ],
             [
              0.2222222222222222,
              "#7201a8"
             ],
             [
              0.3333333333333333,
              "#9c179e"
             ],
             [
              0.4444444444444444,
              "#bd3786"
             ],
             [
              0.5555555555555556,
              "#d8576b"
             ],
             [
              0.6666666666666666,
              "#ed7953"
             ],
             [
              0.7777777777777778,
              "#fb9f3a"
             ],
             [
              0.8888888888888888,
              "#fdca26"
             ],
             [
              1,
              "#f0f921"
             ]
            ],
            "type": "surface"
           }
          ],
          "table": [
           {
            "cells": {
             "fill": {
              "color": "#EBF0F8"
             },
             "line": {
              "color": "white"
             }
            },
            "header": {
             "fill": {
              "color": "#C8D4E3"
             },
             "line": {
              "color": "white"
             }
            },
            "type": "table"
           }
          ]
         },
         "layout": {
          "annotationdefaults": {
           "arrowcolor": "#2a3f5f",
           "arrowhead": 0,
           "arrowwidth": 1
          },
          "autotypenumbers": "strict",
          "coloraxis": {
           "colorbar": {
            "outlinewidth": 0,
            "ticks": ""
           }
          },
          "colorscale": {
           "diverging": [
            [
             0,
             "#8e0152"
            ],
            [
             0.1,
             "#c51b7d"
            ],
            [
             0.2,
             "#de77ae"
            ],
            [
             0.3,
             "#f1b6da"
            ],
            [
             0.4,
             "#fde0ef"
            ],
            [
             0.5,
             "#f7f7f7"
            ],
            [
             0.6,
             "#e6f5d0"
            ],
            [
             0.7,
             "#b8e186"
            ],
            [
             0.8,
             "#7fbc41"
            ],
            [
             0.9,
             "#4d9221"
            ],
            [
             1,
             "#276419"
            ]
           ],
           "sequential": [
            [
             0,
             "#0d0887"
            ],
            [
             0.1111111111111111,
             "#46039f"
            ],
            [
             0.2222222222222222,
             "#7201a8"
            ],
            [
             0.3333333333333333,
             "#9c179e"
            ],
            [
             0.4444444444444444,
             "#bd3786"
            ],
            [
             0.5555555555555556,
             "#d8576b"
            ],
            [
             0.6666666666666666,
             "#ed7953"
            ],
            [
             0.7777777777777778,
             "#fb9f3a"
            ],
            [
             0.8888888888888888,
             "#fdca26"
            ],
            [
             1,
             "#f0f921"
            ]
           ],
           "sequentialminus": [
            [
             0,
             "#0d0887"
            ],
            [
             0.1111111111111111,
             "#46039f"
            ],
            [
             0.2222222222222222,
             "#7201a8"
            ],
            [
             0.3333333333333333,
             "#9c179e"
            ],
            [
             0.4444444444444444,
             "#bd3786"
            ],
            [
             0.5555555555555556,
             "#d8576b"
            ],
            [
             0.6666666666666666,
             "#ed7953"
            ],
            [
             0.7777777777777778,
             "#fb9f3a"
            ],
            [
             0.8888888888888888,
             "#fdca26"
            ],
            [
             1,
             "#f0f921"
            ]
           ]
          },
          "colorway": [
           "#636efa",
           "#EF553B",
           "#00cc96",
           "#ab63fa",
           "#FFA15A",
           "#19d3f3",
           "#FF6692",
           "#B6E880",
           "#FF97FF",
           "#FECB52"
          ],
          "font": {
           "color": "#2a3f5f"
          },
          "geo": {
           "bgcolor": "white",
           "lakecolor": "white",
           "landcolor": "#E5ECF6",
           "showlakes": true,
           "showland": true,
           "subunitcolor": "white"
          },
          "hoverlabel": {
           "align": "left"
          },
          "hovermode": "closest",
          "mapbox": {
           "style": "light"
          },
          "paper_bgcolor": "white",
          "plot_bgcolor": "#E5ECF6",
          "polar": {
           "angularaxis": {
            "gridcolor": "white",
            "linecolor": "white",
            "ticks": ""
           },
           "bgcolor": "#E5ECF6",
           "radialaxis": {
            "gridcolor": "white",
            "linecolor": "white",
            "ticks": ""
           }
          },
          "scene": {
           "xaxis": {
            "backgroundcolor": "#E5ECF6",
            "gridcolor": "white",
            "gridwidth": 2,
            "linecolor": "white",
            "showbackground": true,
            "ticks": "",
            "zerolinecolor": "white"
           },
           "yaxis": {
            "backgroundcolor": "#E5ECF6",
            "gridcolor": "white",
            "gridwidth": 2,
            "linecolor": "white",
            "showbackground": true,
            "ticks": "",
            "zerolinecolor": "white"
           },
           "zaxis": {
            "backgroundcolor": "#E5ECF6",
            "gridcolor": "white",
            "gridwidth": 2,
            "linecolor": "white",
            "showbackground": true,
            "ticks": "",
            "zerolinecolor": "white"
           }
          },
          "shapedefaults": {
           "line": {
            "color": "#2a3f5f"
           }
          },
          "ternary": {
           "aaxis": {
            "gridcolor": "white",
            "linecolor": "white",
            "ticks": ""
           },
           "baxis": {
            "gridcolor": "white",
            "linecolor": "white",
            "ticks": ""
           },
           "bgcolor": "#E5ECF6",
           "caxis": {
            "gridcolor": "white",
            "linecolor": "white",
            "ticks": ""
           }
          },
          "title": {
           "x": 0.05
          },
          "xaxis": {
           "automargin": true,
           "gridcolor": "white",
           "linecolor": "white",
           "ticks": "",
           "title": {
            "standoff": 15
           },
           "zerolinecolor": "white",
           "zerolinewidth": 2
          },
          "yaxis": {
           "automargin": true,
           "gridcolor": "white",
           "linecolor": "white",
           "ticks": "",
           "title": {
            "standoff": 15
           },
           "zerolinecolor": "white",
           "zerolinewidth": 2
          }
         }
        },
        "title": {
         "text": "GANTT Chart"
        },
        "xaxis": {
         "range": [
          "1970-01-01T00:36:25",
          "1970-01-01T19:51:56"
         ],
         "title": {
          "font": {
           "color": "#7f7f7f",
           "family": "Courier New, monospace",
           "size": 18
          },
          "text": "Time"
         }
        },
        "yaxis": {
         "title": {
          "font": {
           "color": "#7f7f7f",
           "family": "Courier New, monospace",
           "size": 18
          },
          "text": "Activities"
         }
        }
       }
      },
      "text/html": [
       "<div>                            <div id=\"2c7bb60a-5441-45fb-8be5-cc5423923303\" class=\"plotly-graph-div\" style=\"height:525px; width:100%;\"></div>            <script type=\"text/javascript\">                require([\"plotly\"], function(Plotly) {                    window.PLOTLYENV=window.PLOTLYENV || {};                                    if (document.getElementById(\"2c7bb60a-5441-45fb-8be5-cc5423923303\")) {                    Plotly.newPlot(                        \"2c7bb60a-5441-45fb-8be5-cc5423923303\",                        [{\"connectgaps\":false,\"hoverinfo\":\"y+name\",\"line\":{\"color\":\"rgb(203,150,61)\",\"width\":10},\"mode\":\"lines\",\"name\":\"loading:Barge I\",\"x\":[\"1970-01-01T01:43:05\",\"1970-01-01T01:43:05\",\"1970-01-01T02:16:25\",\"1970-01-01T02:16:25\",\"1970-01-01T02:16:25\",\"1970-01-01T04:25:31\",\"1970-01-01T04:25:31\",\"1970-01-01T04:58:51\",\"1970-01-01T04:58:51\",\"1970-01-01T04:58:51\",\"1970-01-01T07:08:34\",\"1970-01-01T07:08:34\",\"1970-01-01T07:41:54\",\"1970-01-01T07:41:54\",\"1970-01-01T07:41:54\",\"1970-01-01T10:12:23\",\"1970-01-01T10:12:23\",\"1970-01-01T10:45:43\",\"1970-01-01T10:45:43\",\"1970-01-01T10:45:43\",\"1970-01-01T13:16:12\",\"1970-01-01T13:16:12\",\"1970-01-01T13:49:32\",\"1970-01-01T13:49:32\",\"1970-01-01T13:49:32\",\"1970-01-01T16:20:01\",\"1970-01-01T16:20:01\",\"1970-01-01T16:53:21\",\"1970-01-01T16:53:21\",\"1970-01-01T16:53:21\",\"1970-01-01T01:43:05\",\"1970-01-01T01:43:05\",\"1970-01-01T02:16:25\",\"1970-01-01T02:16:25\",\"1970-01-01T02:16:25\",\"1970-01-01T04:25:31\",\"1970-01-01T04:25:31\",\"1970-01-01T04:58:51\",\"1970-01-01T04:58:51\",\"1970-01-01T04:58:51\",\"1970-01-01T07:08:34\",\"1970-01-01T07:08:34\",\"1970-01-01T07:41:54\",\"1970-01-01T07:41:54\",\"1970-01-01T07:41:54\",\"1970-01-01T10:12:23\",\"1970-01-01T10:12:23\",\"1970-01-01T10:45:43\",\"1970-01-01T10:45:43\",\"1970-01-01T10:45:43\",\"1970-01-01T13:16:12\",\"1970-01-01T13:16:12\",\"1970-01-01T13:49:32\",\"1970-01-01T13:49:32\",\"1970-01-01T13:49:32\",\"1970-01-01T16:20:01\",\"1970-01-01T16:20:01\",\"1970-01-01T16:53:21\",\"1970-01-01T16:53:21\",\"1970-01-01T16:53:21\"],\"y\":[\"Trench\",\"Trench\",\"Trench\",\"Trench\",null,\"Trench\",\"Trench\",\"Trench\",\"Trench\",null,\"Trench\",\"Trench\",\"Trench\",\"Trench\",null,\"Trench\",\"Trench\",\"Trench\",\"Trench\",null,\"Trench\",\"Trench\",\"Trench\",\"Trench\",null,\"Trench\",\"Trench\",\"Trench\",\"Trench\",null,\"Cutter T\",\"Cutter T\",\"Cutter T\",\"Cutter T\",null,\"Cutter T\",\"Cutter T\",\"Cutter T\",\"Cutter T\",null,\"Cutter T\",\"Cutter T\",\"Cutter T\",\"Cutter T\",null,\"Cutter T\",\"Cutter T\",\"Cutter T\",\"Cutter T\",null,\"Cutter T\",\"Cutter T\",\"Cutter T\",\"Cutter T\",null,\"Cutter T\",\"Cutter T\",\"Cutter T\",\"Cutter T\",null],\"type\":\"scatter\"},{\"connectgaps\":false,\"hoverinfo\":\"y+name\",\"line\":{\"color\":\"rgb(224,171,82)\",\"width\":10},\"mode\":\"lines\",\"name\":\"loading:Carrier A\",\"x\":[\"1970-01-01T02:16:25\",\"1970-01-01T02:16:25\",\"1970-01-01T02:58:05\",\"1970-01-01T02:58:05\",\"1970-01-01T02:58:05\",\"1970-01-01T05:20:14\",\"1970-01-01T05:20:14\",\"1970-01-01T06:01:54\",\"1970-01-01T06:01:54\",\"1970-01-01T06:01:54\",\"1970-01-01T08:24:03\",\"1970-01-01T08:24:03\",\"1970-01-01T09:05:43\",\"1970-01-01T09:05:43\",\"1970-01-01T09:05:43\",\"1970-01-01T11:27:52\",\"1970-01-01T11:27:52\",\"1970-01-01T12:09:32\",\"1970-01-01T12:09:32\",\"1970-01-01T12:09:32\",\"1970-01-01T14:31:41\",\"1970-01-01T14:31:41\",\"1970-01-01T15:13:21\",\"1970-01-01T15:13:21\",\"1970-01-01T15:13:21\",\"1970-01-01T17:35:30\",\"1970-01-01T17:35:30\",\"1970-01-01T18:17:10\",\"1970-01-01T18:17:10\",\"1970-01-01T18:17:10\",\"1970-01-01T02:16:25\",\"1970-01-01T02:16:25\",\"1970-01-01T02:58:05\",\"1970-01-01T02:58:05\",\"1970-01-01T02:58:05\",\"1970-01-01T05:20:14\",\"1970-01-01T05:20:14\",\"1970-01-01T06:01:54\",\"1970-01-01T06:01:54\",\"1970-01-01T06:01:54\",\"1970-01-01T08:24:03\",\"1970-01-01T08:24:03\",\"1970-01-01T09:05:43\",\"1970-01-01T09:05:43\",\"1970-01-01T09:05:43\",\"1970-01-01T11:27:52\",\"1970-01-01T11:27:52\",\"1970-01-01T12:09:32\",\"1970-01-01T12:09:32\",\"1970-01-01T12:09:32\",\"1970-01-01T14:31:41\",\"1970-01-01T14:31:41\",\"1970-01-01T15:13:21\",\"1970-01-01T15:13:21\",\"1970-01-01T15:13:21\",\"1970-01-01T17:35:30\",\"1970-01-01T17:35:30\",\"1970-01-01T18:17:10\",\"1970-01-01T18:17:10\",\"1970-01-01T18:17:10\"],\"y\":[\"Trench\",\"Trench\",\"Trench\",\"Trench\",null,\"Trench\",\"Trench\",\"Trench\",\"Trench\",null,\"Trench\",\"Trench\",\"Trench\",\"Trench\",null,\"Trench\",\"Trench\",\"Trench\",\"Trench\",null,\"Trench\",\"Trench\",\"Trench\",\"Trench\",null,\"Trench\",\"Trench\",\"Trench\",\"Trench\",null,\"Cutter T\",\"Cutter T\",\"Cutter T\",\"Cutter T\",null,\"Cutter T\",\"Cutter T\",\"Cutter T\",\"Cutter T\",null,\"Cutter T\",\"Cutter T\",\"Cutter T\",\"Cutter T\",null,\"Cutter T\",\"Cutter T\",\"Cutter T\",\"Cutter T\",null,\"Cutter T\",\"Cutter T\",\"Cutter T\",\"Cutter T\",null,\"Cutter T\",\"Cutter T\",\"Cutter T\",\"Cutter T\",null],\"type\":\"scatter\"},{\"connectgaps\":false,\"hoverinfo\":\"y+name\",\"line\":{\"color\":\"rgb(245,192,103)\",\"width\":10},\"mode\":\"lines\",\"name\":\"loading:Carrier C\",\"x\":[\"1970-01-01T00:36:25\",\"1970-01-01T00:36:25\",\"1970-01-01T01:09:45\",\"1970-01-01T01:09:45\",\"1970-01-01T01:09:45\",\"1970-01-01T02:59:00\",\"1970-01-01T02:59:00\",\"1970-01-01T03:32:20\",\"1970-01-01T03:32:20\",\"1970-01-01T03:32:20\",\"1970-01-01T06:01:54\",\"1970-01-01T06:01:54\",\"1970-01-01T06:35:14\",\"1970-01-01T06:35:14\",\"1970-01-01T06:35:14\",\"1970-01-01T09:05:43\",\"1970-01-01T09:05:43\",\"1970-01-01T09:39:03\",\"1970-01-01T09:39:03\",\"1970-01-01T09:39:03\",\"1970-01-01T12:09:32\",\"1970-01-01T12:09:32\",\"1970-01-01T12:42:52\",\"1970-01-01T12:42:52\",\"1970-01-01T12:42:52\",\"1970-01-01T15:13:21\",\"1970-01-01T15:13:21\",\"1970-01-01T15:46:41\",\"1970-01-01T15:46:41\",\"1970-01-01T15:46:41\",\"1970-01-01T00:36:25\",\"1970-01-01T00:36:25\",\"1970-01-01T01:09:45\",\"1970-01-01T01:09:45\",\"1970-01-01T01:09:45\",\"1970-01-01T02:59:00\",\"1970-01-01T02:59:00\",\"1970-01-01T03:32:20\",\"1970-01-01T03:32:20\",\"1970-01-01T03:32:20\",\"1970-01-01T06:01:54\",\"1970-01-01T06:01:54\",\"1970-01-01T06:35:14\",\"1970-01-01T06:35:14\",\"1970-01-01T06:35:14\",\"1970-01-01T09:05:43\",\"1970-01-01T09:05:43\",\"1970-01-01T09:39:03\",\"1970-01-01T09:39:03\",\"1970-01-01T09:39:03\",\"1970-01-01T12:09:32\",\"1970-01-01T12:09:32\",\"1970-01-01T12:42:52\",\"1970-01-01T12:42:52\",\"1970-01-01T12:42:52\",\"1970-01-01T15:13:21\",\"1970-01-01T15:13:21\",\"1970-01-01T15:46:41\",\"1970-01-01T15:46:41\",\"1970-01-01T15:46:41\"],\"y\":[\"Trench\",\"Trench\",\"Trench\",\"Trench\",null,\"Trench\",\"Trench\",\"Trench\",\"Trench\",null,\"Trench\",\"Trench\",\"Trench\",\"Trench\",null,\"Trench\",\"Trench\",\"Trench\",\"Trench\",null,\"Trench\",\"Trench\",\"Trench\",\"Trench\",null,\"Trench\",\"Trench\",\"Trench\",\"Trench\",null,\"Cutter T\",\"Cutter T\",\"Cutter T\",\"Cutter T\",null,\"Cutter T\",\"Cutter T\",\"Cutter T\",\"Cutter T\",null,\"Cutter T\",\"Cutter T\",\"Cutter T\",\"Cutter T\",null,\"Cutter T\",\"Cutter T\",\"Cutter T\",\"Cutter T\",null,\"Cutter T\",\"Cutter T\",\"Cutter T\",\"Cutter T\",null,\"Cutter T\",\"Cutter T\",\"Cutter T\",\"Cutter T\",null],\"type\":\"scatter\"},{\"connectgaps\":false,\"hoverinfo\":\"y+name\",\"line\":{\"color\":\"rgb(10,213,124)\",\"width\":10},\"mode\":\"lines\",\"name\":\"loading:Carrier B\",\"x\":[\"1970-01-01T01:09:45\",\"1970-01-01T01:09:45\",\"1970-01-01T01:43:05\",\"1970-01-01T01:43:05\",\"1970-01-01T01:43:05\",\"1970-01-01T03:45:05\",\"1970-01-01T03:45:05\",\"1970-01-01T04:18:25\",\"1970-01-01T04:18:25\",\"1970-01-01T04:18:25\",\"1970-01-01T06:35:14\",\"1970-01-01T06:35:14\",\"1970-01-01T07:08:34\",\"1970-01-01T07:08:34\",\"1970-01-01T07:08:34\",\"1970-01-01T09:39:03\",\"1970-01-01T09:39:03\",\"1970-01-01T10:12:23\",\"1970-01-01T10:12:23\",\"1970-01-01T10:12:23\",\"1970-01-01T12:42:52\",\"1970-01-01T12:42:52\",\"1970-01-01T13:16:12\",\"1970-01-01T13:16:12\",\"1970-01-01T13:16:12\",\"1970-01-01T15:46:41\",\"1970-01-01T15:46:41\",\"1970-01-01T16:20:01\",\"1970-01-01T16:20:01\",\"1970-01-01T16:20:01\",\"1970-01-01T01:09:45\",\"1970-01-01T01:09:45\",\"1970-01-01T01:43:05\",\"1970-01-01T01:43:05\",\"1970-01-01T01:43:05\",\"1970-01-01T03:45:05\",\"1970-01-01T03:45:05\",\"1970-01-01T04:18:25\",\"1970-01-01T04:18:25\",\"1970-01-01T04:18:25\",\"1970-01-01T06:35:14\",\"1970-01-01T06:35:14\",\"1970-01-01T07:08:34\",\"1970-01-01T07:08:34\",\"1970-01-01T07:08:34\",\"1970-01-01T09:39:03\",\"1970-01-01T09:39:03\",\"1970-01-01T10:12:23\",\"1970-01-01T10:12:23\",\"1970-01-01T10:12:23\",\"1970-01-01T12:42:52\",\"1970-01-01T12:42:52\",\"1970-01-01T13:16:12\",\"1970-01-01T13:16:12\",\"1970-01-01T13:16:12\",\"1970-01-01T15:46:41\",\"1970-01-01T15:46:41\",\"1970-01-01T16:20:01\",\"1970-01-01T16:20:01\",\"1970-01-01T16:20:01\"],\"y\":[\"Trench\",\"Trench\",\"Trench\",\"Trench\",null,\"Trench\",\"Trench\",\"Trench\",\"Trench\",null,\"Trench\",\"Trench\",\"Trench\",\"Trench\",null,\"Trench\",\"Trench\",\"Trench\",\"Trench\",null,\"Trench\",\"Trench\",\"Trench\",\"Trench\",null,\"Trench\",\"Trench\",\"Trench\",\"Trench\",null,\"Cutter T\",\"Cutter T\",\"Cutter T\",\"Cutter T\",null,\"Cutter T\",\"Cutter T\",\"Cutter T\",\"Cutter T\",null,\"Cutter T\",\"Cutter T\",\"Cutter T\",\"Cutter T\",null,\"Cutter T\",\"Cutter T\",\"Cutter T\",\"Cutter T\",null,\"Cutter T\",\"Cutter T\",\"Cutter T\",\"Cutter T\",null,\"Cutter T\",\"Cutter T\",\"Cutter T\",\"Cutter T\",null],\"type\":\"scatter\"},{\"connectgaps\":false,\"hoverinfo\":\"y+name\",\"line\":{\"color\":\"rgb(31,234,145)\",\"width\":10},\"mode\":\"lines\",\"name\":\"unloading:Barge I\",\"x\":[\"1970-01-01T02:59:27\",\"1970-01-01T02:59:27\",\"1970-01-01T03:42:29\",\"1970-01-01T03:42:29\",\"1970-01-01T03:42:29\",\"1970-01-01T05:41:53\",\"1970-01-01T05:41:53\",\"1970-01-01T06:24:55\",\"1970-01-01T06:24:55\",\"1970-01-01T06:24:55\",\"1970-01-01T08:24:56\",\"1970-01-01T08:24:56\",\"1970-01-01T09:07:58\",\"1970-01-01T09:07:58\",\"1970-01-01T09:07:58\",\"1970-01-01T11:28:45\",\"1970-01-01T11:28:45\",\"1970-01-01T12:11:47\",\"1970-01-01T12:11:47\",\"1970-01-01T12:11:47\",\"1970-01-01T14:32:34\",\"1970-01-01T14:32:34\",\"1970-01-01T15:15:36\",\"1970-01-01T15:15:36\",\"1970-01-01T15:15:36\",\"1970-01-01T17:36:23\",\"1970-01-01T17:36:23\",\"1970-01-01T18:19:25\",\"1970-01-01T18:19:25\",\"1970-01-01T18:19:25\"],\"y\":[\"Reclamation\",\"Reclamation\",\"Reclamation\",\"Reclamation\",null,\"Reclamation\",\"Reclamation\",\"Reclamation\",\"Reclamation\",null,\"Reclamation\",\"Reclamation\",\"Reclamation\",\"Reclamation\",null,\"Reclamation\",\"Reclamation\",\"Reclamation\",\"Reclamation\",null,\"Reclamation\",\"Reclamation\",\"Reclamation\",\"Reclamation\",null,\"Reclamation\",\"Reclamation\",\"Reclamation\",\"Reclamation\",null],\"type\":\"scatter\"},{\"connectgaps\":false,\"hoverinfo\":\"y+name\",\"line\":{\"color\":\"rgb(52,255,166)\",\"width\":10},\"mode\":\"lines\",\"name\":\"unloading:Carrier B\",\"x\":[\"1970-01-01T02:23:45\",\"1970-01-01T02:23:45\",\"1970-01-01T03:04:25\",\"1970-01-01T03:04:25\",\"1970-01-01T03:04:25\",\"1970-01-01T04:59:05\",\"1970-01-01T04:59:05\",\"1970-01-01T05:39:45\",\"1970-01-01T05:39:45\",\"1970-01-01T05:39:45\",\"1970-01-01T07:49:14\",\"1970-01-01T07:49:14\",\"1970-01-01T08:29:54\",\"1970-01-01T08:29:54\",\"1970-01-01T08:29:54\",\"1970-01-01T10:53:03\",\"1970-01-01T10:53:03\",\"1970-01-01T11:33:43\",\"1970-01-01T11:33:43\",\"1970-01-01T11:33:43\",\"1970-01-01T13:56:52\",\"1970-01-01T13:56:52\",\"1970-01-01T14:37:32\",\"1970-01-01T14:37:32\",\"1970-01-01T14:37:32\",\"1970-01-01T17:00:41\",\"1970-01-01T17:00:41\",\"1970-01-01T17:41:21\",\"1970-01-01T17:41:21\",\"1970-01-01T17:41:21\"],\"y\":[\"Reclamation\",\"Reclamation\",\"Reclamation\",\"Reclamation\",null,\"Reclamation\",\"Reclamation\",\"Reclamation\",\"Reclamation\",null,\"Reclamation\",\"Reclamation\",\"Reclamation\",\"Reclamation\",null,\"Reclamation\",\"Reclamation\",\"Reclamation\",\"Reclamation\",null,\"Reclamation\",\"Reclamation\",\"Reclamation\",\"Reclamation\",null,\"Reclamation\",\"Reclamation\",\"Reclamation\",\"Reclamation\",null],\"type\":\"scatter\"},{\"connectgaps\":false,\"hoverinfo\":\"y+name\",\"line\":{\"color\":\"rgb(73,20,187)\",\"width\":10},\"mode\":\"lines\",\"name\":\"unloading:Carrier A\",\"x\":[\"1970-01-01T03:45:28\",\"1970-01-01T03:45:28\",\"1970-01-01T04:32:51\",\"1970-01-01T04:32:51\",\"1970-01-01T04:32:51\",\"1970-01-01T06:49:17\",\"1970-01-01T06:49:17\",\"1970-01-01T07:36:40\",\"1970-01-01T07:36:40\",\"1970-01-01T07:36:40\",\"1970-01-01T09:53:06\",\"1970-01-01T09:53:06\",\"1970-01-01T10:40:29\",\"1970-01-01T10:40:29\",\"1970-01-01T10:40:29\",\"1970-01-01T12:56:55\",\"1970-01-01T12:56:55\",\"1970-01-01T13:44:18\",\"1970-01-01T13:44:18\",\"1970-01-01T13:44:18\",\"1970-01-01T16:00:44\",\"1970-01-01T16:00:44\",\"1970-01-01T16:48:07\",\"1970-01-01T16:48:07\",\"1970-01-01T16:48:07\",\"1970-01-01T19:04:33\",\"1970-01-01T19:04:33\",\"1970-01-01T19:51:56\",\"1970-01-01T19:51:56\",\"1970-01-01T19:51:56\"],\"y\":[\"Reclamation\",\"Reclamation\",\"Reclamation\",\"Reclamation\",null,\"Reclamation\",\"Reclamation\",\"Reclamation\",\"Reclamation\",null,\"Reclamation\",\"Reclamation\",\"Reclamation\",\"Reclamation\",null,\"Reclamation\",\"Reclamation\",\"Reclamation\",\"Reclamation\",null,\"Reclamation\",\"Reclamation\",\"Reclamation\",\"Reclamation\",null,\"Reclamation\",\"Reclamation\",\"Reclamation\",\"Reclamation\",null],\"type\":\"scatter\"},{\"connectgaps\":false,\"hoverinfo\":\"y+name\",\"line\":{\"color\":\"rgb(94,41,208)\",\"width\":10},\"mode\":\"lines\",\"name\":\"unloading:Carrier C\",\"x\":[\"1970-01-01T01:46:10\",\"1970-01-01T01:46:10\",\"1970-01-01T02:22:35\",\"1970-01-01T02:22:35\",\"1970-01-01T02:22:35\",\"1970-01-01T04:08:45\",\"1970-01-01T04:08:45\",\"1970-01-01T04:45:10\",\"1970-01-01T04:45:10\",\"1970-01-01T04:45:10\",\"1970-01-01T07:11:39\",\"1970-01-01T07:11:39\",\"1970-01-01T07:48:04\",\"1970-01-01T07:48:04\",\"1970-01-01T07:48:04\",\"1970-01-01T10:15:28\",\"1970-01-01T10:15:28\",\"1970-01-01T10:51:53\",\"1970-01-01T10:51:53\",\"1970-01-01T10:51:53\",\"1970-01-01T13:19:17\",\"1970-01-01T13:19:17\",\"1970-01-01T13:55:42\",\"1970-01-01T13:55:42\",\"1970-01-01T13:55:42\",\"1970-01-01T16:23:06\",\"1970-01-01T16:23:06\",\"1970-01-01T16:59:31\",\"1970-01-01T16:59:31\",\"1970-01-01T16:59:31\"],\"y\":[\"Reclamation\",\"Reclamation\",\"Reclamation\",\"Reclamation\",null,\"Reclamation\",\"Reclamation\",\"Reclamation\",\"Reclamation\",null,\"Reclamation\",\"Reclamation\",\"Reclamation\",\"Reclamation\",null,\"Reclamation\",\"Reclamation\",\"Reclamation\",\"Reclamation\",null,\"Reclamation\",\"Reclamation\",\"Reclamation\",\"Reclamation\",null,\"Reclamation\",\"Reclamation\",\"Reclamation\",\"Reclamation\",null],\"type\":\"scatter\"},{\"connectgaps\":false,\"hoverinfo\":\"y+name\",\"line\":{\"color\":\"rgb(115,62,229)\",\"width\":10},\"mode\":\"lines\",\"name\":\"loading:Barge I\",\"x\":[\"1970-01-01T01:43:05\",\"1970-01-01T01:43:05\",\"1970-01-01T02:16:25\",\"1970-01-01T02:16:25\",\"1970-01-01T02:16:25\",\"1970-01-01T04:25:31\",\"1970-01-01T04:25:31\",\"1970-01-01T04:58:51\",\"1970-01-01T04:58:51\",\"1970-01-01T04:58:51\",\"1970-01-01T07:08:34\",\"1970-01-01T07:08:34\",\"1970-01-01T07:41:54\",\"1970-01-01T07:41:54\",\"1970-01-01T07:41:54\",\"1970-01-01T10:12:23\",\"1970-01-01T10:12:23\",\"1970-01-01T10:45:43\",\"1970-01-01T10:45:43\",\"1970-01-01T10:45:43\",\"1970-01-01T13:16:12\",\"1970-01-01T13:16:12\",\"1970-01-01T13:49:32\",\"1970-01-01T13:49:32\",\"1970-01-01T13:49:32\",\"1970-01-01T16:20:01\",\"1970-01-01T16:20:01\",\"1970-01-01T16:53:21\",\"1970-01-01T16:53:21\",\"1970-01-01T16:53:21\",\"1970-01-01T01:43:05\",\"1970-01-01T01:43:05\",\"1970-01-01T02:16:25\",\"1970-01-01T02:16:25\",\"1970-01-01T02:16:25\",\"1970-01-01T04:25:31\",\"1970-01-01T04:25:31\",\"1970-01-01T04:58:51\",\"1970-01-01T04:58:51\",\"1970-01-01T04:58:51\",\"1970-01-01T07:08:34\",\"1970-01-01T07:08:34\",\"1970-01-01T07:41:54\",\"1970-01-01T07:41:54\",\"1970-01-01T07:41:54\",\"1970-01-01T10:12:23\",\"1970-01-01T10:12:23\",\"1970-01-01T10:45:43\",\"1970-01-01T10:45:43\",\"1970-01-01T10:45:43\",\"1970-01-01T13:16:12\",\"1970-01-01T13:16:12\",\"1970-01-01T13:49:32\",\"1970-01-01T13:49:32\",\"1970-01-01T13:49:32\",\"1970-01-01T16:20:01\",\"1970-01-01T16:20:01\",\"1970-01-01T16:53:21\",\"1970-01-01T16:53:21\",\"1970-01-01T16:53:21\"],\"y\":[\"Trench\",\"Trench\",\"Trench\",\"Trench\",null,\"Trench\",\"Trench\",\"Trench\",\"Trench\",null,\"Trench\",\"Trench\",\"Trench\",\"Trench\",null,\"Trench\",\"Trench\",\"Trench\",\"Trench\",null,\"Trench\",\"Trench\",\"Trench\",\"Trench\",null,\"Trench\",\"Trench\",\"Trench\",\"Trench\",null,\"Cutter T\",\"Cutter T\",\"Cutter T\",\"Cutter T\",null,\"Cutter T\",\"Cutter T\",\"Cutter T\",\"Cutter T\",null,\"Cutter T\",\"Cutter T\",\"Cutter T\",\"Cutter T\",null,\"Cutter T\",\"Cutter T\",\"Cutter T\",\"Cutter T\",null,\"Cutter T\",\"Cutter T\",\"Cutter T\",\"Cutter T\",null,\"Cutter T\",\"Cutter T\",\"Cutter T\",\"Cutter T\",null],\"type\":\"scatter\"},{\"connectgaps\":false,\"hoverinfo\":\"y+name\",\"line\":{\"color\":\"rgb(136,83,250)\",\"width\":10},\"mode\":\"lines\",\"name\":\"loading:Carrier A\",\"x\":[\"1970-01-01T02:16:25\",\"1970-01-01T02:16:25\",\"1970-01-01T02:58:05\",\"1970-01-01T02:58:05\",\"1970-01-01T02:58:05\",\"1970-01-01T05:20:14\",\"1970-01-01T05:20:14\",\"1970-01-01T06:01:54\",\"1970-01-01T06:01:54\",\"1970-01-01T06:01:54\",\"1970-01-01T08:24:03\",\"1970-01-01T08:24:03\",\"1970-01-01T09:05:43\",\"1970-01-01T09:05:43\",\"1970-01-01T09:05:43\",\"1970-01-01T11:27:52\",\"1970-01-01T11:27:52\",\"1970-01-01T12:09:32\",\"1970-01-01T12:09:32\",\"1970-01-01T12:09:32\",\"1970-01-01T14:31:41\",\"1970-01-01T14:31:41\",\"1970-01-01T15:13:21\",\"1970-01-01T15:13:21\",\"1970-01-01T15:13:21\",\"1970-01-01T17:35:30\",\"1970-01-01T17:35:30\",\"1970-01-01T18:17:10\",\"1970-01-01T18:17:10\",\"1970-01-01T18:17:10\",\"1970-01-01T02:16:25\",\"1970-01-01T02:16:25\",\"1970-01-01T02:58:05\",\"1970-01-01T02:58:05\",\"1970-01-01T02:58:05\",\"1970-01-01T05:20:14\",\"1970-01-01T05:20:14\",\"1970-01-01T06:01:54\",\"1970-01-01T06:01:54\",\"1970-01-01T06:01:54\",\"1970-01-01T08:24:03\",\"1970-01-01T08:24:03\",\"1970-01-01T09:05:43\",\"1970-01-01T09:05:43\",\"1970-01-01T09:05:43\",\"1970-01-01T11:27:52\",\"1970-01-01T11:27:52\",\"1970-01-01T12:09:32\",\"1970-01-01T12:09:32\",\"1970-01-01T12:09:32\",\"1970-01-01T14:31:41\",\"1970-01-01T14:31:41\",\"1970-01-01T15:13:21\",\"1970-01-01T15:13:21\",\"1970-01-01T15:13:21\",\"1970-01-01T17:35:30\",\"1970-01-01T17:35:30\",\"1970-01-01T18:17:10\",\"1970-01-01T18:17:10\",\"1970-01-01T18:17:10\"],\"y\":[\"Trench\",\"Trench\",\"Trench\",\"Trench\",null,\"Trench\",\"Trench\",\"Trench\",\"Trench\",null,\"Trench\",\"Trench\",\"Trench\",\"Trench\",null,\"Trench\",\"Trench\",\"Trench\",\"Trench\",null,\"Trench\",\"Trench\",\"Trench\",\"Trench\",null,\"Trench\",\"Trench\",\"Trench\",\"Trench\",null,\"Cutter T\",\"Cutter T\",\"Cutter T\",\"Cutter T\",null,\"Cutter T\",\"Cutter T\",\"Cutter T\",\"Cutter T\",null,\"Cutter T\",\"Cutter T\",\"Cutter T\",\"Cutter T\",null,\"Cutter T\",\"Cutter T\",\"Cutter T\",\"Cutter T\",null,\"Cutter T\",\"Cutter T\",\"Cutter T\",\"Cutter T\",null,\"Cutter T\",\"Cutter T\",\"Cutter T\",\"Cutter T\",null],\"type\":\"scatter\"},{\"connectgaps\":false,\"hoverinfo\":\"y+name\",\"line\":{\"color\":\"rgb(157,104,15)\",\"width\":10},\"mode\":\"lines\",\"name\":\"loading:Carrier C\",\"x\":[\"1970-01-01T00:36:25\",\"1970-01-01T00:36:25\",\"1970-01-01T01:09:45\",\"1970-01-01T01:09:45\",\"1970-01-01T01:09:45\",\"1970-01-01T02:59:00\",\"1970-01-01T02:59:00\",\"1970-01-01T03:32:20\",\"1970-01-01T03:32:20\",\"1970-01-01T03:32:20\",\"1970-01-01T06:01:54\",\"1970-01-01T06:01:54\",\"1970-01-01T06:35:14\",\"1970-01-01T06:35:14\",\"1970-01-01T06:35:14\",\"1970-01-01T09:05:43\",\"1970-01-01T09:05:43\",\"1970-01-01T09:39:03\",\"1970-01-01T09:39:03\",\"1970-01-01T09:39:03\",\"1970-01-01T12:09:32\",\"1970-01-01T12:09:32\",\"1970-01-01T12:42:52\",\"1970-01-01T12:42:52\",\"1970-01-01T12:42:52\",\"1970-01-01T15:13:21\",\"1970-01-01T15:13:21\",\"1970-01-01T15:46:41\",\"1970-01-01T15:46:41\",\"1970-01-01T15:46:41\",\"1970-01-01T00:36:25\",\"1970-01-01T00:36:25\",\"1970-01-01T01:09:45\",\"1970-01-01T01:09:45\",\"1970-01-01T01:09:45\",\"1970-01-01T02:59:00\",\"1970-01-01T02:59:00\",\"1970-01-01T03:32:20\",\"1970-01-01T03:32:20\",\"1970-01-01T03:32:20\",\"1970-01-01T06:01:54\",\"1970-01-01T06:01:54\",\"1970-01-01T06:35:14\",\"1970-01-01T06:35:14\",\"1970-01-01T06:35:14\",\"1970-01-01T09:05:43\",\"1970-01-01T09:05:43\",\"1970-01-01T09:39:03\",\"1970-01-01T09:39:03\",\"1970-01-01T09:39:03\",\"1970-01-01T12:09:32\",\"1970-01-01T12:09:32\",\"1970-01-01T12:42:52\",\"1970-01-01T12:42:52\",\"1970-01-01T12:42:52\",\"1970-01-01T15:13:21\",\"1970-01-01T15:13:21\",\"1970-01-01T15:46:41\",\"1970-01-01T15:46:41\",\"1970-01-01T15:46:41\"],\"y\":[\"Trench\",\"Trench\",\"Trench\",\"Trench\",null,\"Trench\",\"Trench\",\"Trench\",\"Trench\",null,\"Trench\",\"Trench\",\"Trench\",\"Trench\",null,\"Trench\",\"Trench\",\"Trench\",\"Trench\",null,\"Trench\",\"Trench\",\"Trench\",\"Trench\",null,\"Trench\",\"Trench\",\"Trench\",\"Trench\",null,\"Cutter T\",\"Cutter T\",\"Cutter T\",\"Cutter T\",null,\"Cutter T\",\"Cutter T\",\"Cutter T\",\"Cutter T\",null,\"Cutter T\",\"Cutter T\",\"Cutter T\",\"Cutter T\",null,\"Cutter T\",\"Cutter T\",\"Cutter T\",\"Cutter T\",null,\"Cutter T\",\"Cutter T\",\"Cutter T\",\"Cutter T\",null,\"Cutter T\",\"Cutter T\",\"Cutter T\",\"Cutter T\",null],\"type\":\"scatter\"},{\"connectgaps\":false,\"hoverinfo\":\"y+name\",\"line\":{\"color\":\"rgb(178,125,36)\",\"width\":10},\"mode\":\"lines\",\"name\":\"loading:Carrier B\",\"x\":[\"1970-01-01T01:09:45\",\"1970-01-01T01:09:45\",\"1970-01-01T01:43:05\",\"1970-01-01T01:43:05\",\"1970-01-01T01:43:05\",\"1970-01-01T03:45:05\",\"1970-01-01T03:45:05\",\"1970-01-01T04:18:25\",\"1970-01-01T04:18:25\",\"1970-01-01T04:18:25\",\"1970-01-01T06:35:14\",\"1970-01-01T06:35:14\",\"1970-01-01T07:08:34\",\"1970-01-01T07:08:34\",\"1970-01-01T07:08:34\",\"1970-01-01T09:39:03\",\"1970-01-01T09:39:03\",\"1970-01-01T10:12:23\",\"1970-01-01T10:12:23\",\"1970-01-01T10:12:23\",\"1970-01-01T12:42:52\",\"1970-01-01T12:42:52\",\"1970-01-01T13:16:12\",\"1970-01-01T13:16:12\",\"1970-01-01T13:16:12\",\"1970-01-01T15:46:41\",\"1970-01-01T15:46:41\",\"1970-01-01T16:20:01\",\"1970-01-01T16:20:01\",\"1970-01-01T16:20:01\",\"1970-01-01T01:09:45\",\"1970-01-01T01:09:45\",\"1970-01-01T01:43:05\",\"1970-01-01T01:43:05\",\"1970-01-01T01:43:05\",\"1970-01-01T03:45:05\",\"1970-01-01T03:45:05\",\"1970-01-01T04:18:25\",\"1970-01-01T04:18:25\",\"1970-01-01T04:18:25\",\"1970-01-01T06:35:14\",\"1970-01-01T06:35:14\",\"1970-01-01T07:08:34\",\"1970-01-01T07:08:34\",\"1970-01-01T07:08:34\",\"1970-01-01T09:39:03\",\"1970-01-01T09:39:03\",\"1970-01-01T10:12:23\",\"1970-01-01T10:12:23\",\"1970-01-01T10:12:23\",\"1970-01-01T12:42:52\",\"1970-01-01T12:42:52\",\"1970-01-01T13:16:12\",\"1970-01-01T13:16:12\",\"1970-01-01T13:16:12\",\"1970-01-01T15:46:41\",\"1970-01-01T15:46:41\",\"1970-01-01T16:20:01\",\"1970-01-01T16:20:01\",\"1970-01-01T16:20:01\"],\"y\":[\"Trench\",\"Trench\",\"Trench\",\"Trench\",null,\"Trench\",\"Trench\",\"Trench\",\"Trench\",null,\"Trench\",\"Trench\",\"Trench\",\"Trench\",null,\"Trench\",\"Trench\",\"Trench\",\"Trench\",null,\"Trench\",\"Trench\",\"Trench\",\"Trench\",null,\"Trench\",\"Trench\",\"Trench\",\"Trench\",null,\"Cutter T\",\"Cutter T\",\"Cutter T\",\"Cutter T\",null,\"Cutter T\",\"Cutter T\",\"Cutter T\",\"Cutter T\",null,\"Cutter T\",\"Cutter T\",\"Cutter T\",\"Cutter T\",null,\"Cutter T\",\"Cutter T\",\"Cutter T\",\"Cutter T\",null,\"Cutter T\",\"Cutter T\",\"Cutter T\",\"Cutter T\",null,\"Cutter T\",\"Cutter T\",\"Cutter T\",\"Cutter T\",null],\"type\":\"scatter\"}],                        {\"hovermode\":\"closest\",\"legend\":{\"orientation\":\"h\",\"x\":0,\"y\":-0.2},\"template\":{\"data\":{\"barpolar\":[{\"marker\":{\"line\":{\"color\":\"#E5ECF6\",\"width\":0.5},\"pattern\":{\"fillmode\":\"overlay\",\"size\":10,\"solidity\":0.2}},\"type\":\"barpolar\"}],\"bar\":[{\"error_x\":{\"color\":\"#2a3f5f\"},\"error_y\":{\"color\":\"#2a3f5f\"},\"marker\":{\"line\":{\"color\":\"#E5ECF6\",\"width\":0.5},\"pattern\":{\"fillmode\":\"overlay\",\"size\":10,\"solidity\":0.2}},\"type\":\"bar\"}],\"carpet\":[{\"aaxis\":{\"endlinecolor\":\"#2a3f5f\",\"gridcolor\":\"white\",\"linecolor\":\"white\",\"minorgridcolor\":\"white\",\"startlinecolor\":\"#2a3f5f\"},\"baxis\":{\"endlinecolor\":\"#2a3f5f\",\"gridcolor\":\"white\",\"linecolor\":\"white\",\"minorgridcolor\":\"white\",\"startlinecolor\":\"#2a3f5f\"},\"type\":\"carpet\"}],\"choropleth\":[{\"colorbar\":{\"outlinewidth\":0,\"ticks\":\"\"},\"type\":\"choropleth\"}],\"contourcarpet\":[{\"colorbar\":{\"outlinewidth\":0,\"ticks\":\"\"},\"type\":\"contourcarpet\"}],\"contour\":[{\"colorbar\":{\"outlinewidth\":0,\"ticks\":\"\"},\"colorscale\":[[0.0,\"#0d0887\"],[0.1111111111111111,\"#46039f\"],[0.2222222222222222,\"#7201a8\"],[0.3333333333333333,\"#9c179e\"],[0.4444444444444444,\"#bd3786\"],[0.5555555555555556,\"#d8576b\"],[0.6666666666666666,\"#ed7953\"],[0.7777777777777778,\"#fb9f3a\"],[0.8888888888888888,\"#fdca26\"],[1.0,\"#f0f921\"]],\"type\":\"contour\"}],\"heatmapgl\":[{\"colorbar\":{\"outlinewidth\":0,\"ticks\":\"\"},\"colorscale\":[[0.0,\"#0d0887\"],[0.1111111111111111,\"#46039f\"],[0.2222222222222222,\"#7201a8\"],[0.3333333333333333,\"#9c179e\"],[0.4444444444444444,\"#bd3786\"],[0.5555555555555556,\"#d8576b\"],[0.6666666666666666,\"#ed7953\"],[0.7777777777777778,\"#fb9f3a\"],[0.8888888888888888,\"#fdca26\"],[1.0,\"#f0f921\"]],\"type\":\"heatmapgl\"}],\"heatmap\":[{\"colorbar\":{\"outlinewidth\":0,\"ticks\":\"\"},\"colorscale\":[[0.0,\"#0d0887\"],[0.1111111111111111,\"#46039f\"],[0.2222222222222222,\"#7201a8\"],[0.3333333333333333,\"#9c179e\"],[0.4444444444444444,\"#bd3786\"],[0.5555555555555556,\"#d8576b\"],[0.6666666666666666,\"#ed7953\"],[0.7777777777777778,\"#fb9f3a\"],[0.8888888888888888,\"#fdca26\"],[1.0,\"#f0f921\"]],\"type\":\"heatmap\"}],\"histogram2dcontour\":[{\"colorbar\":{\"outlinewidth\":0,\"ticks\":\"\"},\"colorscale\":[[0.0,\"#0d0887\"],[0.1111111111111111,\"#46039f\"],[0.2222222222222222,\"#7201a8\"],[0.3333333333333333,\"#9c179e\"],[0.4444444444444444,\"#bd3786\"],[0.5555555555555556,\"#d8576b\"],[0.6666666666666666,\"#ed7953\"],[0.7777777777777778,\"#fb9f3a\"],[0.8888888888888888,\"#fdca26\"],[1.0,\"#f0f921\"]],\"type\":\"histogram2dcontour\"}],\"histogram2d\":[{\"colorbar\":{\"outlinewidth\":0,\"ticks\":\"\"},\"colorscale\":[[0.0,\"#0d0887\"],[0.1111111111111111,\"#46039f\"],[0.2222222222222222,\"#7201a8\"],[0.3333333333333333,\"#9c179e\"],[0.4444444444444444,\"#bd3786\"],[0.5555555555555556,\"#d8576b\"],[0.6666666666666666,\"#ed7953\"],[0.7777777777777778,\"#fb9f3a\"],[0.8888888888888888,\"#fdca26\"],[1.0,\"#f0f921\"]],\"type\":\"histogram2d\"}],\"histogram\":[{\"marker\":{\"pattern\":{\"fillmode\":\"overlay\",\"size\":10,\"solidity\":0.2}},\"type\":\"histogram\"}],\"mesh3d\":[{\"colorbar\":{\"outlinewidth\":0,\"ticks\":\"\"},\"type\":\"mesh3d\"}],\"parcoords\":[{\"line\":{\"colorbar\":{\"outlinewidth\":0,\"ticks\":\"\"}},\"type\":\"parcoords\"}],\"pie\":[{\"automargin\":true,\"type\":\"pie\"}],\"scatter3d\":[{\"line\":{\"colorbar\":{\"outlinewidth\":0,\"ticks\":\"\"}},\"marker\":{\"colorbar\":{\"outlinewidth\":0,\"ticks\":\"\"}},\"type\":\"scatter3d\"}],\"scattercarpet\":[{\"marker\":{\"colorbar\":{\"outlinewidth\":0,\"ticks\":\"\"}},\"type\":\"scattercarpet\"}],\"scattergeo\":[{\"marker\":{\"colorbar\":{\"outlinewidth\":0,\"ticks\":\"\"}},\"type\":\"scattergeo\"}],\"scattergl\":[{\"marker\":{\"colorbar\":{\"outlinewidth\":0,\"ticks\":\"\"}},\"type\":\"scattergl\"}],\"scattermapbox\":[{\"marker\":{\"colorbar\":{\"outlinewidth\":0,\"ticks\":\"\"}},\"type\":\"scattermapbox\"}],\"scatterpolargl\":[{\"marker\":{\"colorbar\":{\"outlinewidth\":0,\"ticks\":\"\"}},\"type\":\"scatterpolargl\"}],\"scatterpolar\":[{\"marker\":{\"colorbar\":{\"outlinewidth\":0,\"ticks\":\"\"}},\"type\":\"scatterpolar\"}],\"scatter\":[{\"fillpattern\":{\"fillmode\":\"overlay\",\"size\":10,\"solidity\":0.2},\"type\":\"scatter\"}],\"scatterternary\":[{\"marker\":{\"colorbar\":{\"outlinewidth\":0,\"ticks\":\"\"}},\"type\":\"scatterternary\"}],\"surface\":[{\"colorbar\":{\"outlinewidth\":0,\"ticks\":\"\"},\"colorscale\":[[0.0,\"#0d0887\"],[0.1111111111111111,\"#46039f\"],[0.2222222222222222,\"#7201a8\"],[0.3333333333333333,\"#9c179e\"],[0.4444444444444444,\"#bd3786\"],[0.5555555555555556,\"#d8576b\"],[0.6666666666666666,\"#ed7953\"],[0.7777777777777778,\"#fb9f3a\"],[0.8888888888888888,\"#fdca26\"],[1.0,\"#f0f921\"]],\"type\":\"surface\"}],\"table\":[{\"cells\":{\"fill\":{\"color\":\"#EBF0F8\"},\"line\":{\"color\":\"white\"}},\"header\":{\"fill\":{\"color\":\"#C8D4E3\"},\"line\":{\"color\":\"white\"}},\"type\":\"table\"}]},\"layout\":{\"annotationdefaults\":{\"arrowcolor\":\"#2a3f5f\",\"arrowhead\":0,\"arrowwidth\":1},\"autotypenumbers\":\"strict\",\"coloraxis\":{\"colorbar\":{\"outlinewidth\":0,\"ticks\":\"\"}},\"colorscale\":{\"diverging\":[[0,\"#8e0152\"],[0.1,\"#c51b7d\"],[0.2,\"#de77ae\"],[0.3,\"#f1b6da\"],[0.4,\"#fde0ef\"],[0.5,\"#f7f7f7\"],[0.6,\"#e6f5d0\"],[0.7,\"#b8e186\"],[0.8,\"#7fbc41\"],[0.9,\"#4d9221\"],[1,\"#276419\"]],\"sequential\":[[0.0,\"#0d0887\"],[0.1111111111111111,\"#46039f\"],[0.2222222222222222,\"#7201a8\"],[0.3333333333333333,\"#9c179e\"],[0.4444444444444444,\"#bd3786\"],[0.5555555555555556,\"#d8576b\"],[0.6666666666666666,\"#ed7953\"],[0.7777777777777778,\"#fb9f3a\"],[0.8888888888888888,\"#fdca26\"],[1.0,\"#f0f921\"]],\"sequentialminus\":[[0.0,\"#0d0887\"],[0.1111111111111111,\"#46039f\"],[0.2222222222222222,\"#7201a8\"],[0.3333333333333333,\"#9c179e\"],[0.4444444444444444,\"#bd3786\"],[0.5555555555555556,\"#d8576b\"],[0.6666666666666666,\"#ed7953\"],[0.7777777777777778,\"#fb9f3a\"],[0.8888888888888888,\"#fdca26\"],[1.0,\"#f0f921\"]]},\"colorway\":[\"#636efa\",\"#EF553B\",\"#00cc96\",\"#ab63fa\",\"#FFA15A\",\"#19d3f3\",\"#FF6692\",\"#B6E880\",\"#FF97FF\",\"#FECB52\"],\"font\":{\"color\":\"#2a3f5f\"},\"geo\":{\"bgcolor\":\"white\",\"lakecolor\":\"white\",\"landcolor\":\"#E5ECF6\",\"showlakes\":true,\"showland\":true,\"subunitcolor\":\"white\"},\"hoverlabel\":{\"align\":\"left\"},\"hovermode\":\"closest\",\"mapbox\":{\"style\":\"light\"},\"paper_bgcolor\":\"white\",\"plot_bgcolor\":\"#E5ECF6\",\"polar\":{\"angularaxis\":{\"gridcolor\":\"white\",\"linecolor\":\"white\",\"ticks\":\"\"},\"bgcolor\":\"#E5ECF6\",\"radialaxis\":{\"gridcolor\":\"white\",\"linecolor\":\"white\",\"ticks\":\"\"}},\"scene\":{\"xaxis\":{\"backgroundcolor\":\"#E5ECF6\",\"gridcolor\":\"white\",\"gridwidth\":2,\"linecolor\":\"white\",\"showbackground\":true,\"ticks\":\"\",\"zerolinecolor\":\"white\"},\"yaxis\":{\"backgroundcolor\":\"#E5ECF6\",\"gridcolor\":\"white\",\"gridwidth\":2,\"linecolor\":\"white\",\"showbackground\":true,\"ticks\":\"\",\"zerolinecolor\":\"white\"},\"zaxis\":{\"backgroundcolor\":\"#E5ECF6\",\"gridcolor\":\"white\",\"gridwidth\":2,\"linecolor\":\"white\",\"showbackground\":true,\"ticks\":\"\",\"zerolinecolor\":\"white\"}},\"shapedefaults\":{\"line\":{\"color\":\"#2a3f5f\"}},\"ternary\":{\"aaxis\":{\"gridcolor\":\"white\",\"linecolor\":\"white\",\"ticks\":\"\"},\"baxis\":{\"gridcolor\":\"white\",\"linecolor\":\"white\",\"ticks\":\"\"},\"bgcolor\":\"#E5ECF6\",\"caxis\":{\"gridcolor\":\"white\",\"linecolor\":\"white\",\"ticks\":\"\"}},\"title\":{\"x\":0.05},\"xaxis\":{\"automargin\":true,\"gridcolor\":\"white\",\"linecolor\":\"white\",\"ticks\":\"\",\"title\":{\"standoff\":15},\"zerolinecolor\":\"white\",\"zerolinewidth\":2},\"yaxis\":{\"automargin\":true,\"gridcolor\":\"white\",\"linecolor\":\"white\",\"ticks\":\"\",\"title\":{\"standoff\":15},\"zerolinecolor\":\"white\",\"zerolinewidth\":2}}},\"title\":{\"text\":\"GANTT Chart\"},\"xaxis\":{\"range\":[\"1970-01-01T00:36:25\",\"1970-01-01T19:51:56\"],\"title\":{\"font\":{\"color\":\"#7f7f7f\",\"family\":\"Courier New, monospace\",\"size\":18},\"text\":\"Time\"}},\"yaxis\":{\"title\":{\"font\":{\"color\":\"#7f7f7f\",\"family\":\"Courier New, monospace\",\"size\":18},\"text\":\"Activities\"}}},                        {\"responsive\": true}                    ).then(function(){\n",
       "                            \n",
       "var gd = document.getElementById('2c7bb60a-5441-45fb-8be5-cc5423923303');\n",
       "var x = new MutationObserver(function (mutations, observer) {{\n",
       "        var display = window.getComputedStyle(gd).display;\n",
       "        if (!display || display === 'none') {{\n",
       "            console.log([gd, 'removed!']);\n",
       "            Plotly.purge(gd);\n",
       "            observer.disconnect();\n",
       "        }}\n",
       "}});\n",
       "\n",
       "// Listen for the removal of the full notebook cells\n",
       "var notebookContainer = gd.closest('#notebook-container');\n",
       "if (notebookContainer) {{\n",
       "    x.observe(notebookContainer, {childList: true});\n",
       "}}\n",
       "\n",
       "// Listen for the clearing of the current output cell\n",
       "var outputEl = gd.closest('.output');\n",
       "if (outputEl) {{\n",
       "    x.observe(outputEl, {childList: true});\n",
       "}}\n",
       "\n",
       "                        })                };                });            </script>        </div>"
      ]
     },
     "metadata": {},
     "output_type": "display_data"
    }
   ],
   "source": [
    "# activities per site and cutter\n",
    "\n",
    "fig = get_gantt_chart([from_site, to_site, cutter], id_map=activities)"
   ]
  },
  {
   "cell_type": "code",
   "execution_count": 13,
   "id": "6141ac61",
   "metadata": {},
   "outputs": [
    {
     "data": {
      "text/html": [
       "        <script type=\"text/javascript\">\n",
       "        window.PlotlyConfig = {MathJaxConfig: 'local'};\n",
       "        if (window.MathJax && window.MathJax.Hub && window.MathJax.Hub.Config) {window.MathJax.Hub.Config({SVG: {font: \"STIX-Web\"}});}\n",
       "        if (typeof require !== 'undefined') {\n",
       "        require.undef(\"plotly\");\n",
       "        requirejs.config({\n",
       "            paths: {\n",
       "                'plotly': ['https://cdn.plot.ly/plotly-2.18.2.min']\n",
       "            }\n",
       "        });\n",
       "        require(['plotly'], function(Plotly) {\n",
       "            window._Plotly = Plotly;\n",
       "        });\n",
       "        }\n",
       "        </script>\n",
       "        "
      ]
     },
     "metadata": {},
     "output_type": "display_data"
    },
    {
     "data": {
      "application/vnd.plotly.v1+json": {
       "config": {
        "linkText": "Export to plot.ly",
        "plotlyServerURL": "https://plot.ly",
        "showLink": false
       },
       "data": [
        {
         "connectgaps": false,
         "hoverinfo": "y+name",
         "line": {
          "color": "rgb(223,206,121)",
          "width": 10
         },
         "mode": "lines",
         "name": "loading:Carrier A",
         "type": "scatter",
         "x": [
          "1970-01-01T02:16:25",
          "1970-01-01T02:16:25",
          "1970-01-01T02:58:05",
          "1970-01-01T02:58:05",
          "1970-01-01T02:58:05",
          "1970-01-01T05:20:14",
          "1970-01-01T05:20:14",
          "1970-01-01T06:01:54",
          "1970-01-01T06:01:54",
          "1970-01-01T06:01:54",
          "1970-01-01T08:24:03",
          "1970-01-01T08:24:03",
          "1970-01-01T09:05:43",
          "1970-01-01T09:05:43",
          "1970-01-01T09:05:43",
          "1970-01-01T11:27:52",
          "1970-01-01T11:27:52",
          "1970-01-01T12:09:32",
          "1970-01-01T12:09:32",
          "1970-01-01T12:09:32",
          "1970-01-01T14:31:41",
          "1970-01-01T14:31:41",
          "1970-01-01T15:13:21",
          "1970-01-01T15:13:21",
          "1970-01-01T15:13:21",
          "1970-01-01T17:35:30",
          "1970-01-01T17:35:30",
          "1970-01-01T18:17:10",
          "1970-01-01T18:17:10",
          "1970-01-01T18:17:10"
         ],
         "y": [
          "loading:Carrier A",
          "loading:Carrier A",
          "loading:Carrier A",
          "loading:Carrier A",
          null,
          "loading:Carrier A",
          "loading:Carrier A",
          "loading:Carrier A",
          "loading:Carrier A",
          null,
          "loading:Carrier A",
          "loading:Carrier A",
          "loading:Carrier A",
          "loading:Carrier A",
          null,
          "loading:Carrier A",
          "loading:Carrier A",
          "loading:Carrier A",
          "loading:Carrier A",
          null,
          "loading:Carrier A",
          "loading:Carrier A",
          "loading:Carrier A",
          "loading:Carrier A",
          null,
          "loading:Carrier A",
          "loading:Carrier A",
          "loading:Carrier A",
          "loading:Carrier A",
          null
         ]
        },
        {
         "connectgaps": false,
         "hoverinfo": "y+name",
         "line": {
          "color": "rgb(31,14,185)",
          "width": 10
         },
         "mode": "lines",
         "name": "loading:Carrier B",
         "type": "scatter",
         "x": [
          "1970-01-01T01:09:45",
          "1970-01-01T01:09:45",
          "1970-01-01T01:43:05",
          "1970-01-01T01:43:05",
          "1970-01-01T01:43:05",
          "1970-01-01T03:45:05",
          "1970-01-01T03:45:05",
          "1970-01-01T04:18:25",
          "1970-01-01T04:18:25",
          "1970-01-01T04:18:25",
          "1970-01-01T06:35:14",
          "1970-01-01T06:35:14",
          "1970-01-01T07:08:34",
          "1970-01-01T07:08:34",
          "1970-01-01T07:08:34",
          "1970-01-01T09:39:03",
          "1970-01-01T09:39:03",
          "1970-01-01T10:12:23",
          "1970-01-01T10:12:23",
          "1970-01-01T10:12:23",
          "1970-01-01T12:42:52",
          "1970-01-01T12:42:52",
          "1970-01-01T13:16:12",
          "1970-01-01T13:16:12",
          "1970-01-01T13:16:12",
          "1970-01-01T15:46:41",
          "1970-01-01T15:46:41",
          "1970-01-01T16:20:01",
          "1970-01-01T16:20:01",
          "1970-01-01T16:20:01"
         ],
         "y": [
          "loading:Carrier B",
          "loading:Carrier B",
          "loading:Carrier B",
          "loading:Carrier B",
          null,
          "loading:Carrier B",
          "loading:Carrier B",
          "loading:Carrier B",
          "loading:Carrier B",
          null,
          "loading:Carrier B",
          "loading:Carrier B",
          "loading:Carrier B",
          "loading:Carrier B",
          null,
          "loading:Carrier B",
          "loading:Carrier B",
          "loading:Carrier B",
          "loading:Carrier B",
          null,
          "loading:Carrier B",
          "loading:Carrier B",
          "loading:Carrier B",
          "loading:Carrier B",
          null,
          "loading:Carrier B",
          "loading:Carrier B",
          "loading:Carrier B",
          "loading:Carrier B",
          null
         ]
        },
        {
         "connectgaps": false,
         "hoverinfo": "y+name",
         "line": {
          "color": "rgb(95,78,249)",
          "width": 10
         },
         "mode": "lines",
         "name": "loading:Carrier C",
         "type": "scatter",
         "x": [
          "1970-01-01T00:36:25",
          "1970-01-01T00:36:25",
          "1970-01-01T01:09:45",
          "1970-01-01T01:09:45",
          "1970-01-01T01:09:45",
          "1970-01-01T02:59:00",
          "1970-01-01T02:59:00",
          "1970-01-01T03:32:20",
          "1970-01-01T03:32:20",
          "1970-01-01T03:32:20",
          "1970-01-01T06:01:54",
          "1970-01-01T06:01:54",
          "1970-01-01T06:35:14",
          "1970-01-01T06:35:14",
          "1970-01-01T06:35:14",
          "1970-01-01T09:05:43",
          "1970-01-01T09:05:43",
          "1970-01-01T09:39:03",
          "1970-01-01T09:39:03",
          "1970-01-01T09:39:03",
          "1970-01-01T12:09:32",
          "1970-01-01T12:09:32",
          "1970-01-01T12:42:52",
          "1970-01-01T12:42:52",
          "1970-01-01T12:42:52",
          "1970-01-01T15:13:21",
          "1970-01-01T15:13:21",
          "1970-01-01T15:46:41",
          "1970-01-01T15:46:41",
          "1970-01-01T15:46:41"
         ],
         "y": [
          "loading:Carrier C",
          "loading:Carrier C",
          "loading:Carrier C",
          "loading:Carrier C",
          null,
          "loading:Carrier C",
          "loading:Carrier C",
          "loading:Carrier C",
          "loading:Carrier C",
          null,
          "loading:Carrier C",
          "loading:Carrier C",
          "loading:Carrier C",
          "loading:Carrier C",
          null,
          "loading:Carrier C",
          "loading:Carrier C",
          "loading:Carrier C",
          "loading:Carrier C",
          null,
          "loading:Carrier C",
          "loading:Carrier C",
          "loading:Carrier C",
          "loading:Carrier C",
          null,
          "loading:Carrier C",
          "loading:Carrier C",
          "loading:Carrier C",
          "loading:Carrier C",
          null
         ]
        },
        {
         "connectgaps": false,
         "hoverinfo": "y+name",
         "line": {
          "color": "rgb(159,142,57)",
          "width": 10
         },
         "mode": "lines",
         "name": "loading:Barge I",
         "type": "scatter",
         "x": [
          "1970-01-01T01:43:05",
          "1970-01-01T01:43:05",
          "1970-01-01T02:16:25",
          "1970-01-01T02:16:25",
          "1970-01-01T02:16:25",
          "1970-01-01T04:25:31",
          "1970-01-01T04:25:31",
          "1970-01-01T04:58:51",
          "1970-01-01T04:58:51",
          "1970-01-01T04:58:51",
          "1970-01-01T07:08:34",
          "1970-01-01T07:08:34",
          "1970-01-01T07:41:54",
          "1970-01-01T07:41:54",
          "1970-01-01T07:41:54",
          "1970-01-01T10:12:23",
          "1970-01-01T10:12:23",
          "1970-01-01T10:45:43",
          "1970-01-01T10:45:43",
          "1970-01-01T10:45:43",
          "1970-01-01T13:16:12",
          "1970-01-01T13:16:12",
          "1970-01-01T13:49:32",
          "1970-01-01T13:49:32",
          "1970-01-01T13:49:32",
          "1970-01-01T16:20:01",
          "1970-01-01T16:20:01",
          "1970-01-01T16:53:21",
          "1970-01-01T16:53:21",
          "1970-01-01T16:53:21"
         ],
         "y": [
          "loading:Barge I",
          "loading:Barge I",
          "loading:Barge I",
          "loading:Barge I",
          null,
          "loading:Barge I",
          "loading:Barge I",
          "loading:Barge I",
          "loading:Barge I",
          null,
          "loading:Barge I",
          "loading:Barge I",
          "loading:Barge I",
          "loading:Barge I",
          null,
          "loading:Barge I",
          "loading:Barge I",
          "loading:Barge I",
          "loading:Barge I",
          null,
          "loading:Barge I",
          "loading:Barge I",
          "loading:Barge I",
          "loading:Barge I",
          null,
          "loading:Barge I",
          "loading:Barge I",
          "loading:Barge I",
          "loading:Barge I",
          null
         ]
        }
       ],
       "layout": {
        "hovermode": "closest",
        "legend": {
         "orientation": "h",
         "x": 0,
         "y": -0.2
        },
        "template": {
         "data": {
          "bar": [
           {
            "error_x": {
             "color": "#2a3f5f"
            },
            "error_y": {
             "color": "#2a3f5f"
            },
            "marker": {
             "line": {
              "color": "#E5ECF6",
              "width": 0.5
             },
             "pattern": {
              "fillmode": "overlay",
              "size": 10,
              "solidity": 0.2
             }
            },
            "type": "bar"
           }
          ],
          "barpolar": [
           {
            "marker": {
             "line": {
              "color": "#E5ECF6",
              "width": 0.5
             },
             "pattern": {
              "fillmode": "overlay",
              "size": 10,
              "solidity": 0.2
             }
            },
            "type": "barpolar"
           }
          ],
          "carpet": [
           {
            "aaxis": {
             "endlinecolor": "#2a3f5f",
             "gridcolor": "white",
             "linecolor": "white",
             "minorgridcolor": "white",
             "startlinecolor": "#2a3f5f"
            },
            "baxis": {
             "endlinecolor": "#2a3f5f",
             "gridcolor": "white",
             "linecolor": "white",
             "minorgridcolor": "white",
             "startlinecolor": "#2a3f5f"
            },
            "type": "carpet"
           }
          ],
          "choropleth": [
           {
            "colorbar": {
             "outlinewidth": 0,
             "ticks": ""
            },
            "type": "choropleth"
           }
          ],
          "contour": [
           {
            "colorbar": {
             "outlinewidth": 0,
             "ticks": ""
            },
            "colorscale": [
             [
              0,
              "#0d0887"
             ],
             [
              0.1111111111111111,
              "#46039f"
             ],
             [
              0.2222222222222222,
              "#7201a8"
             ],
             [
              0.3333333333333333,
              "#9c179e"
             ],
             [
              0.4444444444444444,
              "#bd3786"
             ],
             [
              0.5555555555555556,
              "#d8576b"
             ],
             [
              0.6666666666666666,
              "#ed7953"
             ],
             [
              0.7777777777777778,
              "#fb9f3a"
             ],
             [
              0.8888888888888888,
              "#fdca26"
             ],
             [
              1,
              "#f0f921"
             ]
            ],
            "type": "contour"
           }
          ],
          "contourcarpet": [
           {
            "colorbar": {
             "outlinewidth": 0,
             "ticks": ""
            },
            "type": "contourcarpet"
           }
          ],
          "heatmap": [
           {
            "colorbar": {
             "outlinewidth": 0,
             "ticks": ""
            },
            "colorscale": [
             [
              0,
              "#0d0887"
             ],
             [
              0.1111111111111111,
              "#46039f"
             ],
             [
              0.2222222222222222,
              "#7201a8"
             ],
             [
              0.3333333333333333,
              "#9c179e"
             ],
             [
              0.4444444444444444,
              "#bd3786"
             ],
             [
              0.5555555555555556,
              "#d8576b"
             ],
             [
              0.6666666666666666,
              "#ed7953"
             ],
             [
              0.7777777777777778,
              "#fb9f3a"
             ],
             [
              0.8888888888888888,
              "#fdca26"
             ],
             [
              1,
              "#f0f921"
             ]
            ],
            "type": "heatmap"
           }
          ],
          "heatmapgl": [
           {
            "colorbar": {
             "outlinewidth": 0,
             "ticks": ""
            },
            "colorscale": [
             [
              0,
              "#0d0887"
             ],
             [
              0.1111111111111111,
              "#46039f"
             ],
             [
              0.2222222222222222,
              "#7201a8"
             ],
             [
              0.3333333333333333,
              "#9c179e"
             ],
             [
              0.4444444444444444,
              "#bd3786"
             ],
             [
              0.5555555555555556,
              "#d8576b"
             ],
             [
              0.6666666666666666,
              "#ed7953"
             ],
             [
              0.7777777777777778,
              "#fb9f3a"
             ],
             [
              0.8888888888888888,
              "#fdca26"
             ],
             [
              1,
              "#f0f921"
             ]
            ],
            "type": "heatmapgl"
           }
          ],
          "histogram": [
           {
            "marker": {
             "pattern": {
              "fillmode": "overlay",
              "size": 10,
              "solidity": 0.2
             }
            },
            "type": "histogram"
           }
          ],
          "histogram2d": [
           {
            "colorbar": {
             "outlinewidth": 0,
             "ticks": ""
            },
            "colorscale": [
             [
              0,
              "#0d0887"
             ],
             [
              0.1111111111111111,
              "#46039f"
             ],
             [
              0.2222222222222222,
              "#7201a8"
             ],
             [
              0.3333333333333333,
              "#9c179e"
             ],
             [
              0.4444444444444444,
              "#bd3786"
             ],
             [
              0.5555555555555556,
              "#d8576b"
             ],
             [
              0.6666666666666666,
              "#ed7953"
             ],
             [
              0.7777777777777778,
              "#fb9f3a"
             ],
             [
              0.8888888888888888,
              "#fdca26"
             ],
             [
              1,
              "#f0f921"
             ]
            ],
            "type": "histogram2d"
           }
          ],
          "histogram2dcontour": [
           {
            "colorbar": {
             "outlinewidth": 0,
             "ticks": ""
            },
            "colorscale": [
             [
              0,
              "#0d0887"
             ],
             [
              0.1111111111111111,
              "#46039f"
             ],
             [
              0.2222222222222222,
              "#7201a8"
             ],
             [
              0.3333333333333333,
              "#9c179e"
             ],
             [
              0.4444444444444444,
              "#bd3786"
             ],
             [
              0.5555555555555556,
              "#d8576b"
             ],
             [
              0.6666666666666666,
              "#ed7953"
             ],
             [
              0.7777777777777778,
              "#fb9f3a"
             ],
             [
              0.8888888888888888,
              "#fdca26"
             ],
             [
              1,
              "#f0f921"
             ]
            ],
            "type": "histogram2dcontour"
           }
          ],
          "mesh3d": [
           {
            "colorbar": {
             "outlinewidth": 0,
             "ticks": ""
            },
            "type": "mesh3d"
           }
          ],
          "parcoords": [
           {
            "line": {
             "colorbar": {
              "outlinewidth": 0,
              "ticks": ""
             }
            },
            "type": "parcoords"
           }
          ],
          "pie": [
           {
            "automargin": true,
            "type": "pie"
           }
          ],
          "scatter": [
           {
            "fillpattern": {
             "fillmode": "overlay",
             "size": 10,
             "solidity": 0.2
            },
            "type": "scatter"
           }
          ],
          "scatter3d": [
           {
            "line": {
             "colorbar": {
              "outlinewidth": 0,
              "ticks": ""
             }
            },
            "marker": {
             "colorbar": {
              "outlinewidth": 0,
              "ticks": ""
             }
            },
            "type": "scatter3d"
           }
          ],
          "scattercarpet": [
           {
            "marker": {
             "colorbar": {
              "outlinewidth": 0,
              "ticks": ""
             }
            },
            "type": "scattercarpet"
           }
          ],
          "scattergeo": [
           {
            "marker": {
             "colorbar": {
              "outlinewidth": 0,
              "ticks": ""
             }
            },
            "type": "scattergeo"
           }
          ],
          "scattergl": [
           {
            "marker": {
             "colorbar": {
              "outlinewidth": 0,
              "ticks": ""
             }
            },
            "type": "scattergl"
           }
          ],
          "scattermapbox": [
           {
            "marker": {
             "colorbar": {
              "outlinewidth": 0,
              "ticks": ""
             }
            },
            "type": "scattermapbox"
           }
          ],
          "scatterpolar": [
           {
            "marker": {
             "colorbar": {
              "outlinewidth": 0,
              "ticks": ""
             }
            },
            "type": "scatterpolar"
           }
          ],
          "scatterpolargl": [
           {
            "marker": {
             "colorbar": {
              "outlinewidth": 0,
              "ticks": ""
             }
            },
            "type": "scatterpolargl"
           }
          ],
          "scatterternary": [
           {
            "marker": {
             "colorbar": {
              "outlinewidth": 0,
              "ticks": ""
             }
            },
            "type": "scatterternary"
           }
          ],
          "surface": [
           {
            "colorbar": {
             "outlinewidth": 0,
             "ticks": ""
            },
            "colorscale": [
             [
              0,
              "#0d0887"
             ],
             [
              0.1111111111111111,
              "#46039f"
             ],
             [
              0.2222222222222222,
              "#7201a8"
             ],
             [
              0.3333333333333333,
              "#9c179e"
             ],
             [
              0.4444444444444444,
              "#bd3786"
             ],
             [
              0.5555555555555556,
              "#d8576b"
             ],
             [
              0.6666666666666666,
              "#ed7953"
             ],
             [
              0.7777777777777778,
              "#fb9f3a"
             ],
             [
              0.8888888888888888,
              "#fdca26"
             ],
             [
              1,
              "#f0f921"
             ]
            ],
            "type": "surface"
           }
          ],
          "table": [
           {
            "cells": {
             "fill": {
              "color": "#EBF0F8"
             },
             "line": {
              "color": "white"
             }
            },
            "header": {
             "fill": {
              "color": "#C8D4E3"
             },
             "line": {
              "color": "white"
             }
            },
            "type": "table"
           }
          ]
         },
         "layout": {
          "annotationdefaults": {
           "arrowcolor": "#2a3f5f",
           "arrowhead": 0,
           "arrowwidth": 1
          },
          "autotypenumbers": "strict",
          "coloraxis": {
           "colorbar": {
            "outlinewidth": 0,
            "ticks": ""
           }
          },
          "colorscale": {
           "diverging": [
            [
             0,
             "#8e0152"
            ],
            [
             0.1,
             "#c51b7d"
            ],
            [
             0.2,
             "#de77ae"
            ],
            [
             0.3,
             "#f1b6da"
            ],
            [
             0.4,
             "#fde0ef"
            ],
            [
             0.5,
             "#f7f7f7"
            ],
            [
             0.6,
             "#e6f5d0"
            ],
            [
             0.7,
             "#b8e186"
            ],
            [
             0.8,
             "#7fbc41"
            ],
            [
             0.9,
             "#4d9221"
            ],
            [
             1,
             "#276419"
            ]
           ],
           "sequential": [
            [
             0,
             "#0d0887"
            ],
            [
             0.1111111111111111,
             "#46039f"
            ],
            [
             0.2222222222222222,
             "#7201a8"
            ],
            [
             0.3333333333333333,
             "#9c179e"
            ],
            [
             0.4444444444444444,
             "#bd3786"
            ],
            [
             0.5555555555555556,
             "#d8576b"
            ],
            [
             0.6666666666666666,
             "#ed7953"
            ],
            [
             0.7777777777777778,
             "#fb9f3a"
            ],
            [
             0.8888888888888888,
             "#fdca26"
            ],
            [
             1,
             "#f0f921"
            ]
           ],
           "sequentialminus": [
            [
             0,
             "#0d0887"
            ],
            [
             0.1111111111111111,
             "#46039f"
            ],
            [
             0.2222222222222222,
             "#7201a8"
            ],
            [
             0.3333333333333333,
             "#9c179e"
            ],
            [
             0.4444444444444444,
             "#bd3786"
            ],
            [
             0.5555555555555556,
             "#d8576b"
            ],
            [
             0.6666666666666666,
             "#ed7953"
            ],
            [
             0.7777777777777778,
             "#fb9f3a"
            ],
            [
             0.8888888888888888,
             "#fdca26"
            ],
            [
             1,
             "#f0f921"
            ]
           ]
          },
          "colorway": [
           "#636efa",
           "#EF553B",
           "#00cc96",
           "#ab63fa",
           "#FFA15A",
           "#19d3f3",
           "#FF6692",
           "#B6E880",
           "#FF97FF",
           "#FECB52"
          ],
          "font": {
           "color": "#2a3f5f"
          },
          "geo": {
           "bgcolor": "white",
           "lakecolor": "white",
           "landcolor": "#E5ECF6",
           "showlakes": true,
           "showland": true,
           "subunitcolor": "white"
          },
          "hoverlabel": {
           "align": "left"
          },
          "hovermode": "closest",
          "mapbox": {
           "style": "light"
          },
          "paper_bgcolor": "white",
          "plot_bgcolor": "#E5ECF6",
          "polar": {
           "angularaxis": {
            "gridcolor": "white",
            "linecolor": "white",
            "ticks": ""
           },
           "bgcolor": "#E5ECF6",
           "radialaxis": {
            "gridcolor": "white",
            "linecolor": "white",
            "ticks": ""
           }
          },
          "scene": {
           "xaxis": {
            "backgroundcolor": "#E5ECF6",
            "gridcolor": "white",
            "gridwidth": 2,
            "linecolor": "white",
            "showbackground": true,
            "ticks": "",
            "zerolinecolor": "white"
           },
           "yaxis": {
            "backgroundcolor": "#E5ECF6",
            "gridcolor": "white",
            "gridwidth": 2,
            "linecolor": "white",
            "showbackground": true,
            "ticks": "",
            "zerolinecolor": "white"
           },
           "zaxis": {
            "backgroundcolor": "#E5ECF6",
            "gridcolor": "white",
            "gridwidth": 2,
            "linecolor": "white",
            "showbackground": true,
            "ticks": "",
            "zerolinecolor": "white"
           }
          },
          "shapedefaults": {
           "line": {
            "color": "#2a3f5f"
           }
          },
          "ternary": {
           "aaxis": {
            "gridcolor": "white",
            "linecolor": "white",
            "ticks": ""
           },
           "baxis": {
            "gridcolor": "white",
            "linecolor": "white",
            "ticks": ""
           },
           "bgcolor": "#E5ECF6",
           "caxis": {
            "gridcolor": "white",
            "linecolor": "white",
            "ticks": ""
           }
          },
          "title": {
           "x": 0.05
          },
          "xaxis": {
           "automargin": true,
           "gridcolor": "white",
           "linecolor": "white",
           "ticks": "",
           "title": {
            "standoff": 15
           },
           "zerolinecolor": "white",
           "zerolinewidth": 2
          },
          "yaxis": {
           "automargin": true,
           "gridcolor": "white",
           "linecolor": "white",
           "ticks": "",
           "title": {
            "standoff": 15
           },
           "zerolinecolor": "white",
           "zerolinewidth": 2
          }
         }
        },
        "title": {
         "text": "GANTT Chart"
        },
        "xaxis": {
         "range": [
          "1970-01-01T00:36:25",
          "1970-01-01T18:17:10"
         ],
         "title": {
          "font": {
           "color": "#7f7f7f",
           "family": "Courier New, monospace",
           "size": 18
          },
          "text": "Time"
         }
        },
        "yaxis": {
         "title": {
          "font": {
           "color": "#7f7f7f",
           "family": "Courier New, monospace",
           "size": 18
          },
          "text": "Activities"
         }
        }
       }
      },
      "text/html": [
       "<div>                            <div id=\"56c1967d-9b9e-4fd6-a82a-3fed0f5705d7\" class=\"plotly-graph-div\" style=\"height:525px; width:100%;\"></div>            <script type=\"text/javascript\">                require([\"plotly\"], function(Plotly) {                    window.PLOTLYENV=window.PLOTLYENV || {};                                    if (document.getElementById(\"56c1967d-9b9e-4fd6-a82a-3fed0f5705d7\")) {                    Plotly.newPlot(                        \"56c1967d-9b9e-4fd6-a82a-3fed0f5705d7\",                        [{\"connectgaps\":false,\"hoverinfo\":\"y+name\",\"line\":{\"color\":\"rgb(223,206,121)\",\"width\":10},\"mode\":\"lines\",\"name\":\"loading:Carrier A\",\"x\":[\"1970-01-01T02:16:25\",\"1970-01-01T02:16:25\",\"1970-01-01T02:58:05\",\"1970-01-01T02:58:05\",\"1970-01-01T02:58:05\",\"1970-01-01T05:20:14\",\"1970-01-01T05:20:14\",\"1970-01-01T06:01:54\",\"1970-01-01T06:01:54\",\"1970-01-01T06:01:54\",\"1970-01-01T08:24:03\",\"1970-01-01T08:24:03\",\"1970-01-01T09:05:43\",\"1970-01-01T09:05:43\",\"1970-01-01T09:05:43\",\"1970-01-01T11:27:52\",\"1970-01-01T11:27:52\",\"1970-01-01T12:09:32\",\"1970-01-01T12:09:32\",\"1970-01-01T12:09:32\",\"1970-01-01T14:31:41\",\"1970-01-01T14:31:41\",\"1970-01-01T15:13:21\",\"1970-01-01T15:13:21\",\"1970-01-01T15:13:21\",\"1970-01-01T17:35:30\",\"1970-01-01T17:35:30\",\"1970-01-01T18:17:10\",\"1970-01-01T18:17:10\",\"1970-01-01T18:17:10\"],\"y\":[\"loading:Carrier A\",\"loading:Carrier A\",\"loading:Carrier A\",\"loading:Carrier A\",null,\"loading:Carrier A\",\"loading:Carrier A\",\"loading:Carrier A\",\"loading:Carrier A\",null,\"loading:Carrier A\",\"loading:Carrier A\",\"loading:Carrier A\",\"loading:Carrier A\",null,\"loading:Carrier A\",\"loading:Carrier A\",\"loading:Carrier A\",\"loading:Carrier A\",null,\"loading:Carrier A\",\"loading:Carrier A\",\"loading:Carrier A\",\"loading:Carrier A\",null,\"loading:Carrier A\",\"loading:Carrier A\",\"loading:Carrier A\",\"loading:Carrier A\",null],\"type\":\"scatter\"},{\"connectgaps\":false,\"hoverinfo\":\"y+name\",\"line\":{\"color\":\"rgb(31,14,185)\",\"width\":10},\"mode\":\"lines\",\"name\":\"loading:Carrier B\",\"x\":[\"1970-01-01T01:09:45\",\"1970-01-01T01:09:45\",\"1970-01-01T01:43:05\",\"1970-01-01T01:43:05\",\"1970-01-01T01:43:05\",\"1970-01-01T03:45:05\",\"1970-01-01T03:45:05\",\"1970-01-01T04:18:25\",\"1970-01-01T04:18:25\",\"1970-01-01T04:18:25\",\"1970-01-01T06:35:14\",\"1970-01-01T06:35:14\",\"1970-01-01T07:08:34\",\"1970-01-01T07:08:34\",\"1970-01-01T07:08:34\",\"1970-01-01T09:39:03\",\"1970-01-01T09:39:03\",\"1970-01-01T10:12:23\",\"1970-01-01T10:12:23\",\"1970-01-01T10:12:23\",\"1970-01-01T12:42:52\",\"1970-01-01T12:42:52\",\"1970-01-01T13:16:12\",\"1970-01-01T13:16:12\",\"1970-01-01T13:16:12\",\"1970-01-01T15:46:41\",\"1970-01-01T15:46:41\",\"1970-01-01T16:20:01\",\"1970-01-01T16:20:01\",\"1970-01-01T16:20:01\"],\"y\":[\"loading:Carrier B\",\"loading:Carrier B\",\"loading:Carrier B\",\"loading:Carrier B\",null,\"loading:Carrier B\",\"loading:Carrier B\",\"loading:Carrier B\",\"loading:Carrier B\",null,\"loading:Carrier B\",\"loading:Carrier B\",\"loading:Carrier B\",\"loading:Carrier B\",null,\"loading:Carrier B\",\"loading:Carrier B\",\"loading:Carrier B\",\"loading:Carrier B\",null,\"loading:Carrier B\",\"loading:Carrier B\",\"loading:Carrier B\",\"loading:Carrier B\",null,\"loading:Carrier B\",\"loading:Carrier B\",\"loading:Carrier B\",\"loading:Carrier B\",null],\"type\":\"scatter\"},{\"connectgaps\":false,\"hoverinfo\":\"y+name\",\"line\":{\"color\":\"rgb(95,78,249)\",\"width\":10},\"mode\":\"lines\",\"name\":\"loading:Carrier C\",\"x\":[\"1970-01-01T00:36:25\",\"1970-01-01T00:36:25\",\"1970-01-01T01:09:45\",\"1970-01-01T01:09:45\",\"1970-01-01T01:09:45\",\"1970-01-01T02:59:00\",\"1970-01-01T02:59:00\",\"1970-01-01T03:32:20\",\"1970-01-01T03:32:20\",\"1970-01-01T03:32:20\",\"1970-01-01T06:01:54\",\"1970-01-01T06:01:54\",\"1970-01-01T06:35:14\",\"1970-01-01T06:35:14\",\"1970-01-01T06:35:14\",\"1970-01-01T09:05:43\",\"1970-01-01T09:05:43\",\"1970-01-01T09:39:03\",\"1970-01-01T09:39:03\",\"1970-01-01T09:39:03\",\"1970-01-01T12:09:32\",\"1970-01-01T12:09:32\",\"1970-01-01T12:42:52\",\"1970-01-01T12:42:52\",\"1970-01-01T12:42:52\",\"1970-01-01T15:13:21\",\"1970-01-01T15:13:21\",\"1970-01-01T15:46:41\",\"1970-01-01T15:46:41\",\"1970-01-01T15:46:41\"],\"y\":[\"loading:Carrier C\",\"loading:Carrier C\",\"loading:Carrier C\",\"loading:Carrier C\",null,\"loading:Carrier C\",\"loading:Carrier C\",\"loading:Carrier C\",\"loading:Carrier C\",null,\"loading:Carrier C\",\"loading:Carrier C\",\"loading:Carrier C\",\"loading:Carrier C\",null,\"loading:Carrier C\",\"loading:Carrier C\",\"loading:Carrier C\",\"loading:Carrier C\",null,\"loading:Carrier C\",\"loading:Carrier C\",\"loading:Carrier C\",\"loading:Carrier C\",null,\"loading:Carrier C\",\"loading:Carrier C\",\"loading:Carrier C\",\"loading:Carrier C\",null],\"type\":\"scatter\"},{\"connectgaps\":false,\"hoverinfo\":\"y+name\",\"line\":{\"color\":\"rgb(159,142,57)\",\"width\":10},\"mode\":\"lines\",\"name\":\"loading:Barge I\",\"x\":[\"1970-01-01T01:43:05\",\"1970-01-01T01:43:05\",\"1970-01-01T02:16:25\",\"1970-01-01T02:16:25\",\"1970-01-01T02:16:25\",\"1970-01-01T04:25:31\",\"1970-01-01T04:25:31\",\"1970-01-01T04:58:51\",\"1970-01-01T04:58:51\",\"1970-01-01T04:58:51\",\"1970-01-01T07:08:34\",\"1970-01-01T07:08:34\",\"1970-01-01T07:41:54\",\"1970-01-01T07:41:54\",\"1970-01-01T07:41:54\",\"1970-01-01T10:12:23\",\"1970-01-01T10:12:23\",\"1970-01-01T10:45:43\",\"1970-01-01T10:45:43\",\"1970-01-01T10:45:43\",\"1970-01-01T13:16:12\",\"1970-01-01T13:16:12\",\"1970-01-01T13:49:32\",\"1970-01-01T13:49:32\",\"1970-01-01T13:49:32\",\"1970-01-01T16:20:01\",\"1970-01-01T16:20:01\",\"1970-01-01T16:53:21\",\"1970-01-01T16:53:21\",\"1970-01-01T16:53:21\"],\"y\":[\"loading:Barge I\",\"loading:Barge I\",\"loading:Barge I\",\"loading:Barge I\",null,\"loading:Barge I\",\"loading:Barge I\",\"loading:Barge I\",\"loading:Barge I\",null,\"loading:Barge I\",\"loading:Barge I\",\"loading:Barge I\",\"loading:Barge I\",null,\"loading:Barge I\",\"loading:Barge I\",\"loading:Barge I\",\"loading:Barge I\",null,\"loading:Barge I\",\"loading:Barge I\",\"loading:Barge I\",\"loading:Barge I\",null,\"loading:Barge I\",\"loading:Barge I\",\"loading:Barge I\",\"loading:Barge I\",null],\"type\":\"scatter\"}],                        {\"hovermode\":\"closest\",\"legend\":{\"orientation\":\"h\",\"x\":0,\"y\":-0.2},\"template\":{\"data\":{\"barpolar\":[{\"marker\":{\"line\":{\"color\":\"#E5ECF6\",\"width\":0.5},\"pattern\":{\"fillmode\":\"overlay\",\"size\":10,\"solidity\":0.2}},\"type\":\"barpolar\"}],\"bar\":[{\"error_x\":{\"color\":\"#2a3f5f\"},\"error_y\":{\"color\":\"#2a3f5f\"},\"marker\":{\"line\":{\"color\":\"#E5ECF6\",\"width\":0.5},\"pattern\":{\"fillmode\":\"overlay\",\"size\":10,\"solidity\":0.2}},\"type\":\"bar\"}],\"carpet\":[{\"aaxis\":{\"endlinecolor\":\"#2a3f5f\",\"gridcolor\":\"white\",\"linecolor\":\"white\",\"minorgridcolor\":\"white\",\"startlinecolor\":\"#2a3f5f\"},\"baxis\":{\"endlinecolor\":\"#2a3f5f\",\"gridcolor\":\"white\",\"linecolor\":\"white\",\"minorgridcolor\":\"white\",\"startlinecolor\":\"#2a3f5f\"},\"type\":\"carpet\"}],\"choropleth\":[{\"colorbar\":{\"outlinewidth\":0,\"ticks\":\"\"},\"type\":\"choropleth\"}],\"contourcarpet\":[{\"colorbar\":{\"outlinewidth\":0,\"ticks\":\"\"},\"type\":\"contourcarpet\"}],\"contour\":[{\"colorbar\":{\"outlinewidth\":0,\"ticks\":\"\"},\"colorscale\":[[0.0,\"#0d0887\"],[0.1111111111111111,\"#46039f\"],[0.2222222222222222,\"#7201a8\"],[0.3333333333333333,\"#9c179e\"],[0.4444444444444444,\"#bd3786\"],[0.5555555555555556,\"#d8576b\"],[0.6666666666666666,\"#ed7953\"],[0.7777777777777778,\"#fb9f3a\"],[0.8888888888888888,\"#fdca26\"],[1.0,\"#f0f921\"]],\"type\":\"contour\"}],\"heatmapgl\":[{\"colorbar\":{\"outlinewidth\":0,\"ticks\":\"\"},\"colorscale\":[[0.0,\"#0d0887\"],[0.1111111111111111,\"#46039f\"],[0.2222222222222222,\"#7201a8\"],[0.3333333333333333,\"#9c179e\"],[0.4444444444444444,\"#bd3786\"],[0.5555555555555556,\"#d8576b\"],[0.6666666666666666,\"#ed7953\"],[0.7777777777777778,\"#fb9f3a\"],[0.8888888888888888,\"#fdca26\"],[1.0,\"#f0f921\"]],\"type\":\"heatmapgl\"}],\"heatmap\":[{\"colorbar\":{\"outlinewidth\":0,\"ticks\":\"\"},\"colorscale\":[[0.0,\"#0d0887\"],[0.1111111111111111,\"#46039f\"],[0.2222222222222222,\"#7201a8\"],[0.3333333333333333,\"#9c179e\"],[0.4444444444444444,\"#bd3786\"],[0.5555555555555556,\"#d8576b\"],[0.6666666666666666,\"#ed7953\"],[0.7777777777777778,\"#fb9f3a\"],[0.8888888888888888,\"#fdca26\"],[1.0,\"#f0f921\"]],\"type\":\"heatmap\"}],\"histogram2dcontour\":[{\"colorbar\":{\"outlinewidth\":0,\"ticks\":\"\"},\"colorscale\":[[0.0,\"#0d0887\"],[0.1111111111111111,\"#46039f\"],[0.2222222222222222,\"#7201a8\"],[0.3333333333333333,\"#9c179e\"],[0.4444444444444444,\"#bd3786\"],[0.5555555555555556,\"#d8576b\"],[0.6666666666666666,\"#ed7953\"],[0.7777777777777778,\"#fb9f3a\"],[0.8888888888888888,\"#fdca26\"],[1.0,\"#f0f921\"]],\"type\":\"histogram2dcontour\"}],\"histogram2d\":[{\"colorbar\":{\"outlinewidth\":0,\"ticks\":\"\"},\"colorscale\":[[0.0,\"#0d0887\"],[0.1111111111111111,\"#46039f\"],[0.2222222222222222,\"#7201a8\"],[0.3333333333333333,\"#9c179e\"],[0.4444444444444444,\"#bd3786\"],[0.5555555555555556,\"#d8576b\"],[0.6666666666666666,\"#ed7953\"],[0.7777777777777778,\"#fb9f3a\"],[0.8888888888888888,\"#fdca26\"],[1.0,\"#f0f921\"]],\"type\":\"histogram2d\"}],\"histogram\":[{\"marker\":{\"pattern\":{\"fillmode\":\"overlay\",\"size\":10,\"solidity\":0.2}},\"type\":\"histogram\"}],\"mesh3d\":[{\"colorbar\":{\"outlinewidth\":0,\"ticks\":\"\"},\"type\":\"mesh3d\"}],\"parcoords\":[{\"line\":{\"colorbar\":{\"outlinewidth\":0,\"ticks\":\"\"}},\"type\":\"parcoords\"}],\"pie\":[{\"automargin\":true,\"type\":\"pie\"}],\"scatter3d\":[{\"line\":{\"colorbar\":{\"outlinewidth\":0,\"ticks\":\"\"}},\"marker\":{\"colorbar\":{\"outlinewidth\":0,\"ticks\":\"\"}},\"type\":\"scatter3d\"}],\"scattercarpet\":[{\"marker\":{\"colorbar\":{\"outlinewidth\":0,\"ticks\":\"\"}},\"type\":\"scattercarpet\"}],\"scattergeo\":[{\"marker\":{\"colorbar\":{\"outlinewidth\":0,\"ticks\":\"\"}},\"type\":\"scattergeo\"}],\"scattergl\":[{\"marker\":{\"colorbar\":{\"outlinewidth\":0,\"ticks\":\"\"}},\"type\":\"scattergl\"}],\"scattermapbox\":[{\"marker\":{\"colorbar\":{\"outlinewidth\":0,\"ticks\":\"\"}},\"type\":\"scattermapbox\"}],\"scatterpolargl\":[{\"marker\":{\"colorbar\":{\"outlinewidth\":0,\"ticks\":\"\"}},\"type\":\"scatterpolargl\"}],\"scatterpolar\":[{\"marker\":{\"colorbar\":{\"outlinewidth\":0,\"ticks\":\"\"}},\"type\":\"scatterpolar\"}],\"scatter\":[{\"fillpattern\":{\"fillmode\":\"overlay\",\"size\":10,\"solidity\":0.2},\"type\":\"scatter\"}],\"scatterternary\":[{\"marker\":{\"colorbar\":{\"outlinewidth\":0,\"ticks\":\"\"}},\"type\":\"scatterternary\"}],\"surface\":[{\"colorbar\":{\"outlinewidth\":0,\"ticks\":\"\"},\"colorscale\":[[0.0,\"#0d0887\"],[0.1111111111111111,\"#46039f\"],[0.2222222222222222,\"#7201a8\"],[0.3333333333333333,\"#9c179e\"],[0.4444444444444444,\"#bd3786\"],[0.5555555555555556,\"#d8576b\"],[0.6666666666666666,\"#ed7953\"],[0.7777777777777778,\"#fb9f3a\"],[0.8888888888888888,\"#fdca26\"],[1.0,\"#f0f921\"]],\"type\":\"surface\"}],\"table\":[{\"cells\":{\"fill\":{\"color\":\"#EBF0F8\"},\"line\":{\"color\":\"white\"}},\"header\":{\"fill\":{\"color\":\"#C8D4E3\"},\"line\":{\"color\":\"white\"}},\"type\":\"table\"}]},\"layout\":{\"annotationdefaults\":{\"arrowcolor\":\"#2a3f5f\",\"arrowhead\":0,\"arrowwidth\":1},\"autotypenumbers\":\"strict\",\"coloraxis\":{\"colorbar\":{\"outlinewidth\":0,\"ticks\":\"\"}},\"colorscale\":{\"diverging\":[[0,\"#8e0152\"],[0.1,\"#c51b7d\"],[0.2,\"#de77ae\"],[0.3,\"#f1b6da\"],[0.4,\"#fde0ef\"],[0.5,\"#f7f7f7\"],[0.6,\"#e6f5d0\"],[0.7,\"#b8e186\"],[0.8,\"#7fbc41\"],[0.9,\"#4d9221\"],[1,\"#276419\"]],\"sequential\":[[0.0,\"#0d0887\"],[0.1111111111111111,\"#46039f\"],[0.2222222222222222,\"#7201a8\"],[0.3333333333333333,\"#9c179e\"],[0.4444444444444444,\"#bd3786\"],[0.5555555555555556,\"#d8576b\"],[0.6666666666666666,\"#ed7953\"],[0.7777777777777778,\"#fb9f3a\"],[0.8888888888888888,\"#fdca26\"],[1.0,\"#f0f921\"]],\"sequentialminus\":[[0.0,\"#0d0887\"],[0.1111111111111111,\"#46039f\"],[0.2222222222222222,\"#7201a8\"],[0.3333333333333333,\"#9c179e\"],[0.4444444444444444,\"#bd3786\"],[0.5555555555555556,\"#d8576b\"],[0.6666666666666666,\"#ed7953\"],[0.7777777777777778,\"#fb9f3a\"],[0.8888888888888888,\"#fdca26\"],[1.0,\"#f0f921\"]]},\"colorway\":[\"#636efa\",\"#EF553B\",\"#00cc96\",\"#ab63fa\",\"#FFA15A\",\"#19d3f3\",\"#FF6692\",\"#B6E880\",\"#FF97FF\",\"#FECB52\"],\"font\":{\"color\":\"#2a3f5f\"},\"geo\":{\"bgcolor\":\"white\",\"lakecolor\":\"white\",\"landcolor\":\"#E5ECF6\",\"showlakes\":true,\"showland\":true,\"subunitcolor\":\"white\"},\"hoverlabel\":{\"align\":\"left\"},\"hovermode\":\"closest\",\"mapbox\":{\"style\":\"light\"},\"paper_bgcolor\":\"white\",\"plot_bgcolor\":\"#E5ECF6\",\"polar\":{\"angularaxis\":{\"gridcolor\":\"white\",\"linecolor\":\"white\",\"ticks\":\"\"},\"bgcolor\":\"#E5ECF6\",\"radialaxis\":{\"gridcolor\":\"white\",\"linecolor\":\"white\",\"ticks\":\"\"}},\"scene\":{\"xaxis\":{\"backgroundcolor\":\"#E5ECF6\",\"gridcolor\":\"white\",\"gridwidth\":2,\"linecolor\":\"white\",\"showbackground\":true,\"ticks\":\"\",\"zerolinecolor\":\"white\"},\"yaxis\":{\"backgroundcolor\":\"#E5ECF6\",\"gridcolor\":\"white\",\"gridwidth\":2,\"linecolor\":\"white\",\"showbackground\":true,\"ticks\":\"\",\"zerolinecolor\":\"white\"},\"zaxis\":{\"backgroundcolor\":\"#E5ECF6\",\"gridcolor\":\"white\",\"gridwidth\":2,\"linecolor\":\"white\",\"showbackground\":true,\"ticks\":\"\",\"zerolinecolor\":\"white\"}},\"shapedefaults\":{\"line\":{\"color\":\"#2a3f5f\"}},\"ternary\":{\"aaxis\":{\"gridcolor\":\"white\",\"linecolor\":\"white\",\"ticks\":\"\"},\"baxis\":{\"gridcolor\":\"white\",\"linecolor\":\"white\",\"ticks\":\"\"},\"bgcolor\":\"#E5ECF6\",\"caxis\":{\"gridcolor\":\"white\",\"linecolor\":\"white\",\"ticks\":\"\"}},\"title\":{\"x\":0.05},\"xaxis\":{\"automargin\":true,\"gridcolor\":\"white\",\"linecolor\":\"white\",\"ticks\":\"\",\"title\":{\"standoff\":15},\"zerolinecolor\":\"white\",\"zerolinewidth\":2},\"yaxis\":{\"automargin\":true,\"gridcolor\":\"white\",\"linecolor\":\"white\",\"ticks\":\"\",\"title\":{\"standoff\":15},\"zerolinecolor\":\"white\",\"zerolinewidth\":2}}},\"title\":{\"text\":\"GANTT Chart\"},\"xaxis\":{\"range\":[\"1970-01-01T00:36:25\",\"1970-01-01T18:17:10\"],\"title\":{\"font\":{\"color\":\"#7f7f7f\",\"family\":\"Courier New, monospace\",\"size\":18},\"text\":\"Time\"}},\"yaxis\":{\"title\":{\"font\":{\"color\":\"#7f7f7f\",\"family\":\"Courier New, monospace\",\"size\":18},\"text\":\"Activities\"}}},                        {\"responsive\": true}                    ).then(function(){\n",
       "                            \n",
       "var gd = document.getElementById('56c1967d-9b9e-4fd6-a82a-3fed0f5705d7');\n",
       "var x = new MutationObserver(function (mutations, observer) {{\n",
       "        var display = window.getComputedStyle(gd).display;\n",
       "        if (!display || display === 'none') {{\n",
       "            console.log([gd, 'removed!']);\n",
       "            Plotly.purge(gd);\n",
       "            observer.disconnect();\n",
       "        }}\n",
       "}});\n",
       "\n",
       "// Listen for the removal of the full notebook cells\n",
       "var notebookContainer = gd.closest('#notebook-container');\n",
       "if (notebookContainer) {{\n",
       "    x.observe(notebookContainer, {childList: true});\n",
       "}}\n",
       "\n",
       "// Listen for the clearing of the current output cell\n",
       "var outputEl = gd.closest('.output');\n",
       "if (outputEl) {{\n",
       "    x.observe(outputEl, {childList: true});\n",
       "}}\n",
       "\n",
       "                        })                };                });            </script>        </div>"
      ]
     },
     "metadata": {},
     "output_type": "display_data"
    }
   ],
   "source": [
    "# Plot only activities whose namespace (first letters) matches load*: 1 activty_type\n",
    "\n",
    "flat = pd.DataFrame(flatten(activities))\n",
    "loading = list(flat[flat['ActivityName'].str.startswith('loading')]['activity'].values)\n",
    "fig = get_gantt_chart(loading)"
   ]
  },
  {
   "cell_type": "code",
   "execution_count": 14,
   "id": "406b5d85",
   "metadata": {},
   "outputs": [
    {
     "data": {
      "image/png": "[encoded data removed]",
      "text/plain": [
       "<Figure size 1400x700 with 1 Axes>"
      ]
     },
     "metadata": {},
     "output_type": "display_data"
    }
   ],
   "source": [
    "# plot overall amount s-curve\n",
    "\n",
    "fig = get_step_chart([from_site, to_site, *vessels.values()])"
   ]
  },
  {
   "cell_type": "markdown",
   "id": "3e81de2b",
   "metadata": {},
   "source": [
    "## Export data  to BI for interactive a posteriori analysis"
   ]
  },
  {
   "cell_type": "code",
   "execution_count": 15,
   "id": "87cd1b2f",
   "metadata": {},
   "outputs": [
    {
     "data": {
      "text/html": [
       "<div>\n",
       "<style scoped>\n",
       "    .dataframe tbody tr th:only-of-type {\n",
       "        vertical-align: middle;\n",
       "    }\n",
       "\n",
       "    .dataframe tbody tr th {\n",
       "        vertical-align: top;\n",
       "    }\n",
       "\n",
       "    .dataframe thead th {\n",
       "        text-align: right;\n",
       "    }\n",
       "</style>\n",
       "<table border=\"1\" class=\"dataframe\">\n",
       "  <thead>\n",
       "    <tr style=\"text-align: right;\">\n",
       "      <th></th>\n",
       "      <th>siteName</th>\n",
       "      <th>siteID</th>\n",
       "      <th>siteType</th>\n",
       "    </tr>\n",
       "  </thead>\n",
       "  <tbody>\n",
       "    <tr>\n",
       "      <th>0</th>\n",
       "      <td>Trench</td>\n",
       "      <td>9e2b7e22-3ece-4120-87be-498918c0ebad</td>\n",
       "      <td>&lt;class '__main__.Site'&gt;</td>\n",
       "    </tr>\n",
       "    <tr>\n",
       "      <th>1</th>\n",
       "      <td>Reclamation</td>\n",
       "      <td>4b98a552-53b7-4a64-8695-c71274323003</td>\n",
       "      <td>&lt;class '__main__.Site'&gt;</td>\n",
       "    </tr>\n",
       "  </tbody>\n",
       "</table>\n",
       "</div>"
      ],
      "text/plain": [
       "      siteName                                siteID                 siteType\n",
       "0       Trench  9e2b7e22-3ece-4120-87be-498918c0ebad  <class '__main__.Site'>\n",
       "1  Reclamation  4b98a552-53b7-4a64-8695-c71274323003  <class '__main__.Site'>"
      ]
     },
     "execution_count": 15,
     "metadata": {},
     "output_type": "execute_result"
    }
   ],
   "source": [
    "export_concepts(sites, 'site', 'sites.csv')"
   ]
  },
  {
   "cell_type": "code",
   "execution_count": 16,
   "id": "5e5459b1",
   "metadata": {},
   "outputs": [
    {
     "data": {
      "text/html": [
       "<div>\n",
       "<style scoped>\n",
       "    .dataframe tbody tr th:only-of-type {\n",
       "        vertical-align: middle;\n",
       "    }\n",
       "\n",
       "    .dataframe tbody tr th {\n",
       "        vertical-align: top;\n",
       "    }\n",
       "\n",
       "    .dataframe thead th {\n",
       "        text-align: right;\n",
       "    }\n",
       "</style>\n",
       "<table border=\"1\" class=\"dataframe\">\n",
       "  <thead>\n",
       "    <tr style=\"text-align: right;\">\n",
       "      <th></th>\n",
       "      <th>vesselName</th>\n",
       "      <th>vesselID</th>\n",
       "      <th>vesselType</th>\n",
       "    </tr>\n",
       "  </thead>\n",
       "  <tbody>\n",
       "    <tr>\n",
       "      <th>0</th>\n",
       "      <td>Carrier A</td>\n",
       "      <td>f9e9cdff-f435-4e86-9794-f8e50e82f42e</td>\n",
       "      <td>&lt;class '__main__.TransportProcessingResource'&gt;</td>\n",
       "    </tr>\n",
       "    <tr>\n",
       "      <th>1</th>\n",
       "      <td>Carrier B</td>\n",
       "      <td>e9067429-488a-4527-84ee-604c2dcbb461</td>\n",
       "      <td>&lt;class '__main__.TransportProcessingResource'&gt;</td>\n",
       "    </tr>\n",
       "    <tr>\n",
       "      <th>2</th>\n",
       "      <td>Carrier C</td>\n",
       "      <td>dd8392be-8d6f-45ea-bf84-a818d38370eb</td>\n",
       "      <td>&lt;class '__main__.TransportProcessingResource'&gt;</td>\n",
       "    </tr>\n",
       "    <tr>\n",
       "      <th>3</th>\n",
       "      <td>Barge I</td>\n",
       "      <td>2710560a-32f1-4ce7-aad7-68ac331e3481</td>\n",
       "      <td>&lt;class '__main__.TransportProcessingResource'&gt;</td>\n",
       "    </tr>\n",
       "    <tr>\n",
       "      <th>4</th>\n",
       "      <td>Cutter T</td>\n",
       "      <td>5c81f3fe-9480-4e9d-bea3-bc7849466aca</td>\n",
       "      <td>&lt;class '__main__.TransportProcessingResource'&gt;</td>\n",
       "    </tr>\n",
       "  </tbody>\n",
       "</table>\n",
       "</div>"
      ],
      "text/plain": [
       "  vesselName                              vesselID  \\\n",
       "0  Carrier A  f9e9cdff-f435-4e86-9794-f8e50e82f42e   \n",
       "1  Carrier B  e9067429-488a-4527-84ee-604c2dcbb461   \n",
       "2  Carrier C  dd8392be-8d6f-45ea-bf84-a818d38370eb   \n",
       "3    Barge I  2710560a-32f1-4ce7-aad7-68ac331e3481   \n",
       "4   Cutter T  5c81f3fe-9480-4e9d-bea3-bc7849466aca   \n",
       "\n",
       "                                       vesselType  \n",
       "0  <class '__main__.TransportProcessingResource'>  \n",
       "1  <class '__main__.TransportProcessingResource'>  \n",
       "2  <class '__main__.TransportProcessingResource'>  \n",
       "3  <class '__main__.TransportProcessingResource'>  \n",
       "4  <class '__main__.TransportProcessingResource'>  "
      ]
     },
     "execution_count": 16,
     "metadata": {},
     "output_type": "execute_result"
    }
   ],
   "source": [
    "export_concepts(vessels, 'vessel', 'vessels.csv')"
   ]
  },
  {
   "cell_type": "code",
   "execution_count": 17,
   "id": "2baa8eb9",
   "metadata": {},
   "outputs": [
    {
     "data": {
      "text/plain": [
       "24"
      ]
     },
     "execution_count": 17,
     "metadata": {},
     "output_type": "execute_result"
    }
   ],
   "source": [
    "activities_flat = export_activities(activities, 'activities.csv', [*sites.values(), *vessels.values()])\n",
    "len(activities_flat)"
   ]
  },
  {
   "cell_type": "code",
   "execution_count": 18,
   "id": "e4b0ebc5",
   "metadata": {},
   "outputs": [
    {
     "data": {
      "text/plain": [
       "244"
      ]
     },
     "execution_count": 18,
     "metadata": {},
     "output_type": "execute_result"
    }
   ],
   "source": [
    "VesselActivitiesLog = export_ranges(activities_flat, 'instances.csv')\n",
    "len(VesselActivitiesLog)"
   ]
  },
  {
   "cell_type": "code",
   "execution_count": 19,
   "id": "8f7eaa5c",
   "metadata": {},
   "outputs": [
    {
     "data": {
      "text/plain": [
       "24"
      ]
     },
     "execution_count": 19,
     "metadata": {},
     "output_type": "execute_result"
    }
   ],
   "source": [
    "CutterActivitiesLog = export_ranges(activities_flat, 'instances_cutter.csv', cutter_name)\n",
    "len(CutterActivitiesLog)"
   ]
  },
  {
   "cell_type": "markdown",
   "id": "691c6490",
   "metadata": {},
   "source": [
    "## Verification/sanity checks"
   ]
  },
  {
   "cell_type": "code",
   "execution_count": 20,
   "id": "a3e8f617",
   "metadata": {},
   "outputs": [
    {
     "data": {
      "text/plain": [
       "{'', 'Barge I', 'Carrier A', 'Carrier B', 'Carrier C'}"
      ]
     },
     "execution_count": 20,
     "metadata": {},
     "output_type": "execute_result"
    }
   ],
   "source": [
    "set(activities_flat['MoverName'])"
   ]
  },
  {
   "cell_type": "code",
   "execution_count": 21,
   "id": "acfbb1ef",
   "metadata": {},
   "outputs": [
    {
     "data": {
      "text/plain": [
       "{'', 'Barge I', 'Carrier A', 'Carrier B', 'Carrier C', 'Cutter T'}"
      ]
     },
     "execution_count": 21,
     "metadata": {},
     "output_type": "execute_result"
    }
   ],
   "source": [
    "set(activities_flat['ProcessorName'])"
   ]
  },
  {
   "cell_type": "code",
   "execution_count": 22,
   "id": "b680fb2a",
   "metadata": {},
   "outputs": [
    {
     "data": {
      "text/plain": [
       "{'', 'Barge I', 'Carrier A', 'Carrier B', 'Carrier C', 'Trench'}"
      ]
     },
     "execution_count": 22,
     "metadata": {},
     "output_type": "execute_result"
    }
   ],
   "source": [
    "set(activities_flat['OriginName'])"
   ]
  },
  {
   "cell_type": "code",
   "execution_count": 23,
   "id": "1ce51171",
   "metadata": {},
   "outputs": [
    {
     "data": {
      "text/plain": [
       "{'', 'Barge I', 'Carrier A', 'Carrier B', 'Carrier C', 'Reclamation', 'Trench'}"
      ]
     },
     "execution_count": 23,
     "metadata": {},
     "output_type": "execute_result"
    }
   ],
   "source": [
    "set(activities_flat['DestinationName'])"
   ]
  },
  {
   "cell_type": "code",
   "execution_count": 24,
   "id": "49d35cd3",
   "metadata": {},
   "outputs": [
    {
     "data": {
      "text/plain": [
       "{'MoveActivity', 'SequentialActivity', 'ShiftAmountActivity', 'WhileActivity'}"
      ]
     },
     "execution_count": 24,
     "metadata": {},
     "output_type": "execute_result"
    }
   ],
   "source": [
    "set(activities_flat['ActivityClass'])"
   ]
  },
  {
   "cell_type": "code",
   "execution_count": 25,
   "id": "70998a10",
   "metadata": {},
   "outputs": [
    {
     "data": {
      "text/plain": [
       "{'loading:Barge I',\n",
       " 'loading:Carrier A',\n",
       " 'loading:Carrier B',\n",
       " 'loading:Carrier C',\n",
       " 'sailing empty:Barge I',\n",
       " 'sailing empty:Carrier A',\n",
       " 'sailing empty:Carrier B',\n",
       " 'sailing empty:Carrier C',\n",
       " 'sailing full:Barge I',\n",
       " 'sailing full:Carrier A',\n",
       " 'sailing full:Carrier B',\n",
       " 'sailing full:Carrier C',\n",
       " 'sequential_activity_subcycle Barge I',\n",
       " 'sequential_activity_subcycle Carrier A',\n",
       " 'sequential_activity_subcycle Carrier B',\n",
       " 'sequential_activity_subcycle Carrier C',\n",
       " 'unloading:Barge I',\n",
       " 'unloading:Carrier A',\n",
       " 'unloading:Carrier B',\n",
       " 'unloading:Carrier C',\n",
       " 'while_sequential_activity_subcycle Barge I',\n",
       " 'while_sequential_activity_subcycle Carrier A',\n",
       " 'while_sequential_activity_subcycle Carrier B',\n",
       " 'while_sequential_activity_subcycle Carrier C'}"
      ]
     },
     "execution_count": 25,
     "metadata": {},
     "output_type": "execute_result"
    }
   ],
   "source": [
    "set(activities_flat['ActivityName'])"
   ]
  },
  {
   "cell_type": "markdown",
   "id": "9d132a51",
   "metadata": {},
   "source": [
    "# Visualize critical path of chosen optimal scenario"
   ]
  },
  {
   "cell_type": "code",
   "execution_count": 26,
   "id": "63db1761",
   "metadata": {},
   "outputs": [
    {
     "data": {
      "text/html": [
       "        <script type=\"text/javascript\">\n",
       "        window.PlotlyConfig = {MathJaxConfig: 'local'};\n",
       "        if (window.MathJax && window.MathJax.Hub && window.MathJax.Hub.Config) {window.MathJax.Hub.Config({SVG: {font: \"STIX-Web\"}});}\n",
       "        if (typeof require !== 'undefined') {\n",
       "        require.undef(\"plotly\");\n",
       "        requirejs.config({\n",
       "            paths: {\n",
       "                'plotly': ['https://cdn.plot.ly/plotly-2.18.2.min']\n",
       "            }\n",
       "        });\n",
       "        require(['plotly'], function(Plotly) {\n",
       "            window._Plotly = Plotly;\n",
       "        });\n",
       "        }\n",
       "        </script>\n",
       "        "
      ]
     },
     "metadata": {},
     "output_type": "display_data"
    },
    {
     "data": {
      "application/vnd.plotly.v1+json": {
       "config": {
        "linkText": "Export to plot.ly",
        "plotlyServerURL": "https://plot.ly",
        "showLink": false
       },
       "data": [
        {
         "connectgaps": false,
         "hoverinfo": "name",
         "line": {
          "color": "red",
          "width": 14
         },
         "mode": "lines",
         "name": "critical_path",
         "type": "scatter",
         "x": [
          "1970-01-01T00:00:00",
          "1970-01-01T00:36:25",
          "1970-01-01T00:36:25",
          "1970-01-01T00:36:25",
          "1970-01-01T01:09:45",
          "1970-01-01T01:09:45",
          "1970-01-01T00:36:25",
          "1970-01-01T01:09:45",
          "1970-01-01T01:09:45",
          "1970-01-01T00:36:25",
          "1970-01-01T01:09:45",
          "1970-01-01T01:09:45",
          "1970-01-01T01:09:45",
          "1970-01-01T01:43:05",
          "1970-01-01T01:43:05",
          "1970-01-01T01:09:45",
          "1970-01-01T01:43:05",
          "1970-01-01T01:43:05",
          "1970-01-01T01:09:45",
          "1970-01-01T01:43:05",
          "1970-01-01T01:43:05",
          "1970-01-01T01:43:05",
          "1970-01-01T02:16:25",
          "1970-01-01T02:16:25",
          "1970-01-01T01:43:05",
          "1970-01-01T02:16:25",
          "1970-01-01T02:16:25",
          "1970-01-01T01:43:05",
          "1970-01-01T02:16:25",
          "1970-01-01T02:16:25",
          "1970-01-01T02:16:25",
          "1970-01-01T02:58:05",
          "1970-01-01T02:58:05",
          "1970-01-01T02:16:25",
          "1970-01-01T02:58:05",
          "1970-01-01T02:58:05",
          "1970-01-01T02:16:25",
          "1970-01-01T02:58:05",
          "1970-01-01T02:58:05",
          "1970-01-01T02:58:05",
          "1970-01-01T03:45:28",
          "1970-01-01T03:45:28",
          "1970-01-01T03:45:28",
          "1970-01-01T04:32:51",
          "1970-01-01T04:32:51",
          "1970-01-01T03:45:28",
          "1970-01-01T04:32:51",
          "1970-01-01T04:32:51",
          "1970-01-01T04:32:51",
          "1970-01-01T05:20:14",
          "1970-01-01T05:20:14",
          "1970-01-01T05:20:14",
          "1970-01-01T06:01:54",
          "1970-01-01T06:01:54",
          "1970-01-01T05:20:14",
          "1970-01-01T06:01:54",
          "1970-01-01T06:01:54",
          "1970-01-01T05:20:14",
          "1970-01-01T06:01:54",
          "1970-01-01T06:01:54",
          "1970-01-01T06:01:54",
          "1970-01-01T06:49:17",
          "1970-01-01T06:49:17",
          "1970-01-01T06:49:17",
          "1970-01-01T07:36:40",
          "1970-01-01T07:36:40",
          "1970-01-01T06:49:17",
          "1970-01-01T07:36:40",
          "1970-01-01T07:36:40",
          "1970-01-01T07:36:40",
          "1970-01-01T08:24:03",
          "1970-01-01T08:24:03",
          "1970-01-01T08:24:03",
          "1970-01-01T09:05:43",
          "1970-01-01T09:05:43",
          "1970-01-01T08:24:03",
          "1970-01-01T09:05:43",
          "1970-01-01T09:05:43",
          "1970-01-01T08:24:03",
          "1970-01-01T09:05:43",
          "1970-01-01T09:05:43",
          "1970-01-01T09:05:43",
          "1970-01-01T09:53:06",
          "1970-01-01T09:53:06",
          "1970-01-01T09:53:06",
          "1970-01-01T10:40:29",
          "1970-01-01T10:40:29",
          "1970-01-01T09:53:06",
          "1970-01-01T10:40:29",
          "1970-01-01T10:40:29",
          "1970-01-01T10:40:29",
          "1970-01-01T11:27:52",
          "1970-01-01T11:27:52",
          "1970-01-01T11:27:52",
          "1970-01-01T12:09:32",
          "1970-01-01T12:09:32",
          "1970-01-01T11:27:52",
          "1970-01-01T12:09:32",
          "1970-01-01T12:09:32",
          "1970-01-01T11:27:52",
          "1970-01-01T12:09:32",
          "1970-01-01T12:09:32",
          "1970-01-01T12:09:32",
          "1970-01-01T12:56:55",
          "1970-01-01T12:56:55",
          "1970-01-01T12:56:55",
          "1970-01-01T13:44:18",
          "1970-01-01T13:44:18",
          "1970-01-01T12:56:55",
          "1970-01-01T13:44:18",
          "1970-01-01T13:44:18",
          "1970-01-01T13:44:18",
          "1970-01-01T14:31:41",
          "1970-01-01T14:31:41",
          "1970-01-01T14:31:41",
          "1970-01-01T15:13:21",
          "1970-01-01T15:13:21",
          "1970-01-01T14:31:41",
          "1970-01-01T15:13:21",
          "1970-01-01T15:13:21",
          "1970-01-01T14:31:41",
          "1970-01-01T15:13:21",
          "1970-01-01T15:13:21",
          "1970-01-01T15:13:21",
          "1970-01-01T16:00:44",
          "1970-01-01T16:00:44",
          "1970-01-01T16:00:44",
          "1970-01-01T16:48:07",
          "1970-01-01T16:48:07",
          "1970-01-01T16:00:44",
          "1970-01-01T16:48:07",
          "1970-01-01T16:48:07",
          "1970-01-01T16:48:07",
          "1970-01-01T17:35:30",
          "1970-01-01T17:35:30",
          "1970-01-01T17:35:30",
          "1970-01-01T18:17:10",
          "1970-01-01T18:17:10",
          "1970-01-01T17:35:30",
          "1970-01-01T18:17:10",
          "1970-01-01T18:17:10",
          "1970-01-01T17:35:30",
          "1970-01-01T18:17:10",
          "1970-01-01T18:17:10",
          "1970-01-01T18:17:10",
          "1970-01-01T19:04:33",
          "1970-01-01T19:04:33",
          "1970-01-01T19:04:33",
          "1970-01-01T19:51:56",
          "1970-01-01T19:51:56",
          "1970-01-01T19:04:33",
          "1970-01-01T19:51:56",
          "1970-01-01T19:51:56"
         ],
         "y": [
          "Carrier C",
          "Carrier C",
          null,
          "Carrier C",
          "Carrier C",
          null,
          "Cutter T",
          "Cutter T",
          null,
          "Trench",
          "Trench",
          null,
          "Carrier B",
          "Carrier B",
          null,
          "Cutter T",
          "Cutter T",
          null,
          "Trench",
          "Trench",
          null,
          "Barge I",
          "Barge I",
          null,
          "Cutter T",
          "Cutter T",
          null,
          "Trench",
          "Trench",
          null,
          "Carrier A",
          "Carrier A",
          null,
          "Cutter T",
          "Cutter T",
          null,
          "Trench",
          "Trench",
          null,
          "Carrier A",
          "Carrier A",
          null,
          "Carrier A",
          "Carrier A",
          null,
          "Reclamation",
          "Reclamation",
          null,
          "Carrier A",
          "Carrier A",
          null,
          "Carrier A",
          "Carrier A",
          null,
          "Cutter T",
          "Cutter T",
          null,
          "Trench",
          "Trench",
          null,
          "Carrier A",
          "Carrier A",
          null,
          "Carrier A",
          "Carrier A",
          null,
          "Reclamation",
          "Reclamation",
          null,
          "Carrier A",
          "Carrier A",
          null,
          "Carrier A",
          "Carrier A",
          null,
          "Cutter T",
          "Cutter T",
          null,
          "Trench",
          "Trench",
          null,
          "Carrier A",
          "Carrier A",
          null,
          "Carrier A",
          "Carrier A",
          null,
          "Reclamation",
          "Reclamation",
          null,
          "Carrier A",
          "Carrier A",
          null,
          "Carrier A",
          "Carrier A",
          null,
          "Cutter T",
          "Cutter T",
          null,
          "Trench",
          "Trench",
          null,
          "Carrier A",
          "Carrier A",
          null,
          "Carrier A",
          "Carrier A",
          null,
          "Reclamation",
          "Reclamation",
          null,
          "Carrier A",
          "Carrier A",
          null,
          "Carrier A",
          "Carrier A",
          null,
          "Cutter T",
          "Cutter T",
          null,
          "Trench",
          "Trench",
          null,
          "Carrier A",
          "Carrier A",
          null,
          "Carrier A",
          "Carrier A",
          null,
          "Reclamation",
          "Reclamation",
          null,
          "Carrier A",
          "Carrier A",
          null,
          "Carrier A",
          "Carrier A",
          null,
          "Cutter T",
          "Cutter T",
          null,
          "Trench",
          "Trench",
          null,
          "Carrier A",
          "Carrier A",
          null,
          "Carrier A",
          "Carrier A",
          null,
          "Reclamation",
          "Reclamation",
          null
         ]
        },
        {
         "connectgaps": false,
         "hoverinfo": "y+name",
         "line": {
          "color": "rgb(146,122,6)",
          "width": 10
         },
         "mode": "lines",
         "name": "sailing empty:Carrier A",
         "type": "scatter",
         "x": [
          "1970-01-01T00:00:00",
          "1970-01-01T00:00:00",
          "1970-01-01T00:47:23",
          "1970-01-01T00:47:23",
          "1970-01-01T00:47:23",
          "1970-01-01T04:32:51",
          "1970-01-01T04:32:51",
          "1970-01-01T05:20:14",
          "1970-01-01T05:20:14",
          "1970-01-01T05:20:14",
          "1970-01-01T07:36:40",
          "1970-01-01T07:36:40",
          "1970-01-01T08:24:03",
          "1970-01-01T08:24:03",
          "1970-01-01T08:24:03",
          "1970-01-01T10:40:29",
          "1970-01-01T10:40:29",
          "1970-01-01T11:27:52",
          "1970-01-01T11:27:52",
          "1970-01-01T11:27:52",
          "1970-01-01T13:44:18",
          "1970-01-01T13:44:18",
          "1970-01-01T14:31:41",
          "1970-01-01T14:31:41",
          "1970-01-01T14:31:41",
          "1970-01-01T16:48:07",
          "1970-01-01T16:48:07",
          "1970-01-01T17:35:30",
          "1970-01-01T17:35:30",
          "1970-01-01T17:35:30"
         ],
         "y": [
          "Carrier A",
          "Carrier A",
          "Carrier A",
          "Carrier A",
          null,
          "Carrier A",
          "Carrier A",
          "Carrier A",
          "Carrier A",
          null,
          "Carrier A",
          "Carrier A",
          "Carrier A",
          "Carrier A",
          null,
          "Carrier A",
          "Carrier A",
          "Carrier A",
          "Carrier A",
          null,
          "Carrier A",
          "Carrier A",
          "Carrier A",
          "Carrier A",
          null,
          "Carrier A",
          "Carrier A",
          "Carrier A",
          "Carrier A",
          null
         ]
        },
        {
         "connectgaps": false,
         "hoverinfo": "y+name",
         "line": {
          "color": "rgb(155,131,15)",
          "width": 10
         },
         "mode": "lines",
         "name": "loading:Carrier A",
         "type": "scatter",
         "x": [
          "1970-01-01T02:16:25",
          "1970-01-01T02:16:25",
          "1970-01-01T02:58:05",
          "1970-01-01T02:58:05",
          "1970-01-01T02:58:05",
          "1970-01-01T05:20:14",
          "1970-01-01T05:20:14",
          "1970-01-01T06:01:54",
          "1970-01-01T06:01:54",
          "1970-01-01T06:01:54",
          "1970-01-01T08:24:03",
          "1970-01-01T08:24:03",
          "1970-01-01T09:05:43",
          "1970-01-01T09:05:43",
          "1970-01-01T09:05:43",
          "1970-01-01T11:27:52",
          "1970-01-01T11:27:52",
          "1970-01-01T12:09:32",
          "1970-01-01T12:09:32",
          "1970-01-01T12:09:32",
          "1970-01-01T14:31:41",
          "1970-01-01T14:31:41",
          "1970-01-01T15:13:21",
          "1970-01-01T15:13:21",
          "1970-01-01T15:13:21",
          "1970-01-01T17:35:30",
          "1970-01-01T17:35:30",
          "1970-01-01T18:17:10",
          "1970-01-01T18:17:10",
          "1970-01-01T18:17:10",
          "1970-01-01T02:16:25",
          "1970-01-01T02:16:25",
          "1970-01-01T02:58:05",
          "1970-01-01T02:58:05",
          "1970-01-01T02:58:05",
          "1970-01-01T05:20:14",
          "1970-01-01T05:20:14",
          "1970-01-01T06:01:54",
          "1970-01-01T06:01:54",
          "1970-01-01T06:01:54",
          "1970-01-01T08:24:03",
          "1970-01-01T08:24:03",
          "1970-01-01T09:05:43",
          "1970-01-01T09:05:43",
          "1970-01-01T09:05:43",
          "1970-01-01T11:27:52",
          "1970-01-01T11:27:52",
          "1970-01-01T12:09:32",
          "1970-01-01T12:09:32",
          "1970-01-01T12:09:32",
          "1970-01-01T14:31:41",
          "1970-01-01T14:31:41",
          "1970-01-01T15:13:21",
          "1970-01-01T15:13:21",
          "1970-01-01T15:13:21",
          "1970-01-01T17:35:30",
          "1970-01-01T17:35:30",
          "1970-01-01T18:17:10",
          "1970-01-01T18:17:10",
          "1970-01-01T18:17:10",
          "1970-01-01T02:16:25",
          "1970-01-01T02:16:25",
          "1970-01-01T02:58:05",
          "1970-01-01T02:58:05",
          "1970-01-01T02:58:05",
          "1970-01-01T05:20:14",
          "1970-01-01T05:20:14",
          "1970-01-01T06:01:54",
          "1970-01-01T06:01:54",
          "1970-01-01T06:01:54",
          "1970-01-01T08:24:03",
          "1970-01-01T08:24:03",
          "1970-01-01T09:05:43",
          "1970-01-01T09:05:43",
          "1970-01-01T09:05:43",
          "1970-01-01T11:27:52",
          "1970-01-01T11:27:52",
          "1970-01-01T12:09:32",
          "1970-01-01T12:09:32",
          "1970-01-01T12:09:32",
          "1970-01-01T14:31:41",
          "1970-01-01T14:31:41",
          "1970-01-01T15:13:21",
          "1970-01-01T15:13:21",
          "1970-01-01T15:13:21",
          "1970-01-01T17:35:30",
          "1970-01-01T17:35:30",
          "1970-01-01T18:17:10",
          "1970-01-01T18:17:10",
          "1970-01-01T18:17:10"
         ],
         "y": [
          "Carrier A",
          "Carrier A",
          "Carrier A",
          "Carrier A",
          null,
          "Carrier A",
          "Carrier A",
          "Carrier A",
          "Carrier A",
          null,
          "Carrier A",
          "Carrier A",
          "Carrier A",
          "Carrier A",
          null,
          "Carrier A",
          "Carrier A",
          "Carrier A",
          "Carrier A",
          null,
          "Carrier A",
          "Carrier A",
          "Carrier A",
          "Carrier A",
          null,
          "Carrier A",
          "Carrier A",
          "Carrier A",
          "Carrier A",
          null,
          "Cutter T",
          "Cutter T",
          "Cutter T",
          "Cutter T",
          null,
          "Cutter T",
          "Cutter T",
          "Cutter T",
          "Cutter T",
          null,
          "Cutter T",
          "Cutter T",
          "Cutter T",
          "Cutter T",
          null,
          "Cutter T",
          "Cutter T",
          "Cutter T",
          "Cutter T",
          null,
          "Cutter T",
          "Cutter T",
          "Cutter T",
          "Cutter T",
          null,
          "Cutter T",
          "Cutter T",
          "Cutter T",
          "Cutter T",
          null,
          "Trench",
          "Trench",
          "Trench",
          "Trench",
          null,
          "Trench",
          "Trench",
          "Trench",
          "Trench",
          null,
          "Trench",
          "Trench",
          "Trench",
          "Trench",
          null,
          "Trench",
          "Trench",
          "Trench",
          "Trench",
          null,
          "Trench",
          "Trench",
          "Trench",
          "Trench",
          null,
          "Trench",
          "Trench",
          "Trench",
          "Trench",
          null
         ]
        },
        {
         "connectgaps": false,
         "hoverinfo": "y+name",
         "line": {
          "color": "rgb(164,140,24)",
          "width": 10
         },
         "mode": "lines",
         "name": "sailing full:Carrier A",
         "type": "scatter",
         "x": [
          "1970-01-01T02:58:05",
          "1970-01-01T02:58:05",
          "1970-01-01T03:45:28",
          "1970-01-01T03:45:28",
          "1970-01-01T03:45:28",
          "1970-01-01T06:01:54",
          "1970-01-01T06:01:54",
          "1970-01-01T06:49:17",
          "1970-01-01T06:49:17",
          "1970-01-01T06:49:17",
          "1970-01-01T09:05:43",
          "1970-01-01T09:05:43",
          "1970-01-01T09:53:06",
          "1970-01-01T09:53:06",
          "1970-01-01T09:53:06",
          "1970-01-01T12:09:32",
          "1970-01-01T12:09:32",
          "1970-01-01T12:56:55",
          "1970-01-01T12:56:55",
          "1970-01-01T12:56:55",
          "1970-01-01T15:13:21",
          "1970-01-01T15:13:21",
          "1970-01-01T16:00:44",
          "1970-01-01T16:00:44",
          "1970-01-01T16:00:44",
          "1970-01-01T18:17:10",
          "1970-01-01T18:17:10",
          "1970-01-01T19:04:33",
          "1970-01-01T19:04:33",
          "1970-01-01T19:04:33"
         ],
         "y": [
          "Carrier A",
          "Carrier A",
          "Carrier A",
          "Carrier A",
          null,
          "Carrier A",
          "Carrier A",
          "Carrier A",
          "Carrier A",
          null,
          "Carrier A",
          "Carrier A",
          "Carrier A",
          "Carrier A",
          null,
          "Carrier A",
          "Carrier A",
          "Carrier A",
          "Carrier A",
          null,
          "Carrier A",
          "Carrier A",
          "Carrier A",
          "Carrier A",
          null,
          "Carrier A",
          "Carrier A",
          "Carrier A",
          "Carrier A",
          null
         ]
        },
        {
         "connectgaps": false,
         "hoverinfo": "y+name",
         "line": {
          "color": "rgb(173,149,33)",
          "width": 10
         },
         "mode": "lines",
         "name": "unloading:Carrier A",
         "type": "scatter",
         "x": [
          "1970-01-01T03:45:28",
          "1970-01-01T03:45:28",
          "1970-01-01T04:32:51",
          "1970-01-01T04:32:51",
          "1970-01-01T04:32:51",
          "1970-01-01T06:49:17",
          "1970-01-01T06:49:17",
          "1970-01-01T07:36:40",
          "1970-01-01T07:36:40",
          "1970-01-01T07:36:40",
          "1970-01-01T09:53:06",
          "1970-01-01T09:53:06",
          "1970-01-01T10:40:29",
          "1970-01-01T10:40:29",
          "1970-01-01T10:40:29",
          "1970-01-01T12:56:55",
          "1970-01-01T12:56:55",
          "1970-01-01T13:44:18",
          "1970-01-01T13:44:18",
          "1970-01-01T13:44:18",
          "1970-01-01T16:00:44",
          "1970-01-01T16:00:44",
          "1970-01-01T16:48:07",
          "1970-01-01T16:48:07",
          "1970-01-01T16:48:07",
          "1970-01-01T19:04:33",
          "1970-01-01T19:04:33",
          "1970-01-01T19:51:56",
          "1970-01-01T19:51:56",
          "1970-01-01T19:51:56",
          "1970-01-01T03:45:28",
          "1970-01-01T03:45:28",
          "1970-01-01T04:32:51",
          "1970-01-01T04:32:51",
          "1970-01-01T04:32:51",
          "1970-01-01T06:49:17",
          "1970-01-01T06:49:17",
          "1970-01-01T07:36:40",
          "1970-01-01T07:36:40",
          "1970-01-01T07:36:40",
          "1970-01-01T09:53:06",
          "1970-01-01T09:53:06",
          "1970-01-01T10:40:29",
          "1970-01-01T10:40:29",
          "1970-01-01T10:40:29",
          "1970-01-01T12:56:55",
          "1970-01-01T12:56:55",
          "1970-01-01T13:44:18",
          "1970-01-01T13:44:18",
          "1970-01-01T13:44:18",
          "1970-01-01T16:00:44",
          "1970-01-01T16:00:44",
          "1970-01-01T16:48:07",
          "1970-01-01T16:48:07",
          "1970-01-01T16:48:07",
          "1970-01-01T19:04:33",
          "1970-01-01T19:04:33",
          "1970-01-01T19:51:56",
          "1970-01-01T19:51:56",
          "1970-01-01T19:51:56"
         ],
         "y": [
          "Carrier A",
          "Carrier A",
          "Carrier A",
          "Carrier A",
          null,
          "Carrier A",
          "Carrier A",
          "Carrier A",
          "Carrier A",
          null,
          "Carrier A",
          "Carrier A",
          "Carrier A",
          "Carrier A",
          null,
          "Carrier A",
          "Carrier A",
          "Carrier A",
          "Carrier A",
          null,
          "Carrier A",
          "Carrier A",
          "Carrier A",
          "Carrier A",
          null,
          "Carrier A",
          "Carrier A",
          "Carrier A",
          "Carrier A",
          null,
          "Reclamation",
          "Reclamation",
          "Reclamation",
          "Reclamation",
          null,
          "Reclamation",
          "Reclamation",
          "Reclamation",
          "Reclamation",
          null,
          "Reclamation",
          "Reclamation",
          "Reclamation",
          "Reclamation",
          null,
          "Reclamation",
          "Reclamation",
          "Reclamation",
          "Reclamation",
          null,
          "Reclamation",
          "Reclamation",
          "Reclamation",
          "Reclamation",
          null,
          "Reclamation",
          "Reclamation",
          "Reclamation",
          "Reclamation",
          null
         ]
        },
        {
         "connectgaps": false,
         "hoverinfo": "y+name",
         "line": {
          "color": "rgb(182,158,42)",
          "width": 10
         },
         "mode": "lines",
         "name": "unloading:Carrier B",
         "type": "scatter",
         "x": [
          "1970-01-01T02:23:45",
          "1970-01-01T02:23:45",
          "1970-01-01T03:04:25",
          "1970-01-01T03:04:25",
          "1970-01-01T03:04:25",
          "1970-01-01T04:59:05",
          "1970-01-01T04:59:05",
          "1970-01-01T05:39:45",
          "1970-01-01T05:39:45",
          "1970-01-01T05:39:45",
          "1970-01-01T07:49:14",
          "1970-01-01T07:49:14",
          "1970-01-01T08:29:54",
          "1970-01-01T08:29:54",
          "1970-01-01T08:29:54",
          "1970-01-01T10:53:03",
          "1970-01-01T10:53:03",
          "1970-01-01T11:33:43",
          "1970-01-01T11:33:43",
          "1970-01-01T11:33:43",
          "1970-01-01T13:56:52",
          "1970-01-01T13:56:52",
          "1970-01-01T14:37:32",
          "1970-01-01T14:37:32",
          "1970-01-01T14:37:32",
          "1970-01-01T17:00:41",
          "1970-01-01T17:00:41",
          "1970-01-01T17:41:21",
          "1970-01-01T17:41:21",
          "1970-01-01T17:41:21",
          "1970-01-01T02:23:45",
          "1970-01-01T02:23:45",
          "1970-01-01T03:04:25",
          "1970-01-01T03:04:25",
          "1970-01-01T03:04:25",
          "1970-01-01T04:59:05",
          "1970-01-01T04:59:05",
          "1970-01-01T05:39:45",
          "1970-01-01T05:39:45",
          "1970-01-01T05:39:45",
          "1970-01-01T07:49:14",
          "1970-01-01T07:49:14",
          "1970-01-01T08:29:54",
          "1970-01-01T08:29:54",
          "1970-01-01T08:29:54",
          "1970-01-01T10:53:03",
          "1970-01-01T10:53:03",
          "1970-01-01T11:33:43",
          "1970-01-01T11:33:43",
          "1970-01-01T11:33:43",
          "1970-01-01T13:56:52",
          "1970-01-01T13:56:52",
          "1970-01-01T14:37:32",
          "1970-01-01T14:37:32",
          "1970-01-01T14:37:32",
          "1970-01-01T17:00:41",
          "1970-01-01T17:00:41",
          "1970-01-01T17:41:21",
          "1970-01-01T17:41:21",
          "1970-01-01T17:41:21"
         ],
         "y": [
          "Carrier B",
          "Carrier B",
          "Carrier B",
          "Carrier B",
          null,
          "Carrier B",
          "Carrier B",
          "Carrier B",
          "Carrier B",
          null,
          "Carrier B",
          "Carrier B",
          "Carrier B",
          "Carrier B",
          null,
          "Carrier B",
          "Carrier B",
          "Carrier B",
          "Carrier B",
          null,
          "Carrier B",
          "Carrier B",
          "Carrier B",
          "Carrier B",
          null,
          "Carrier B",
          "Carrier B",
          "Carrier B",
          "Carrier B",
          null,
          "Reclamation",
          "Reclamation",
          "Reclamation",
          "Reclamation",
          null,
          "Reclamation",
          "Reclamation",
          "Reclamation",
          "Reclamation",
          null,
          "Reclamation",
          "Reclamation",
          "Reclamation",
          "Reclamation",
          null,
          "Reclamation",
          "Reclamation",
          "Reclamation",
          "Reclamation",
          null,
          "Reclamation",
          "Reclamation",
          "Reclamation",
          "Reclamation",
          null,
          "Reclamation",
          "Reclamation",
          "Reclamation",
          "Reclamation",
          null
         ]
        },
        {
         "connectgaps": false,
         "hoverinfo": "y+name",
         "line": {
          "color": "rgb(191,167,51)",
          "width": 10
         },
         "mode": "lines",
         "name": "sailing full:Carrier B",
         "type": "scatter",
         "x": [
          "1970-01-01T01:43:05",
          "1970-01-01T01:43:05",
          "1970-01-01T02:23:45",
          "1970-01-01T02:23:45",
          "1970-01-01T02:23:45",
          "1970-01-01T04:18:25",
          "1970-01-01T04:18:25",
          "1970-01-01T04:59:05",
          "1970-01-01T04:59:05",
          "1970-01-01T04:59:05",
          "1970-01-01T07:08:34",
          "1970-01-01T07:08:34",
          "1970-01-01T07:49:14",
          "1970-01-01T07:49:14",
          "1970-01-01T07:49:14",
          "1970-01-01T10:12:23",
          "1970-01-01T10:12:23",
          "1970-01-01T10:53:03",
          "1970-01-01T10:53:03",
          "1970-01-01T10:53:03",
          "1970-01-01T13:16:12",
          "1970-01-01T13:16:12",
          "1970-01-01T13:56:52",
          "1970-01-01T13:56:52",
          "1970-01-01T13:56:52",
          "1970-01-01T16:20:01",
          "1970-01-01T16:20:01",
          "1970-01-01T17:00:41",
          "1970-01-01T17:00:41",
          "1970-01-01T17:00:41"
         ],
         "y": [
          "Carrier B",
          "Carrier B",
          "Carrier B",
          "Carrier B",
          null,
          "Carrier B",
          "Carrier B",
          "Carrier B",
          "Carrier B",
          null,
          "Carrier B",
          "Carrier B",
          "Carrier B",
          "Carrier B",
          null,
          "Carrier B",
          "Carrier B",
          "Carrier B",
          "Carrier B",
          null,
          "Carrier B",
          "Carrier B",
          "Carrier B",
          "Carrier B",
          null,
          "Carrier B",
          "Carrier B",
          "Carrier B",
          "Carrier B",
          null
         ]
        },
        {
         "connectgaps": false,
         "hoverinfo": "y+name",
         "line": {
          "color": "rgb(200,176,60)",
          "width": 10
         },
         "mode": "lines",
         "name": "sailing empty:Carrier B",
         "type": "scatter",
         "x": [
          "1970-01-01T00:00:00",
          "1970-01-01T00:00:00",
          "1970-01-01T00:40:40",
          "1970-01-01T00:40:40",
          "1970-01-01T00:40:40",
          "1970-01-01T03:04:25",
          "1970-01-01T03:04:25",
          "1970-01-01T03:45:05",
          "1970-01-01T03:45:05",
          "1970-01-01T03:45:05",
          "1970-01-01T05:39:45",
          "1970-01-01T05:39:45",
          "1970-01-01T06:20:25",
          "1970-01-01T06:20:25",
          "1970-01-01T06:20:25",
          "1970-01-01T08:29:54",
          "1970-01-01T08:29:54",
          "1970-01-01T09:10:34",
          "1970-01-01T09:10:34",
          "1970-01-01T09:10:34",
          "1970-01-01T11:33:43",
          "1970-01-01T11:33:43",
          "1970-01-01T12:14:23",
          "1970-01-01T12:14:23",
          "1970-01-01T12:14:23",
          "1970-01-01T14:37:32",
          "1970-01-01T14:37:32",
          "1970-01-01T15:18:12",
          "1970-01-01T15:18:12",
          "1970-01-01T15:18:12"
         ],
         "y": [
          "Carrier B",
          "Carrier B",
          "Carrier B",
          "Carrier B",
          null,
          "Carrier B",
          "Carrier B",
          "Carrier B",
          "Carrier B",
          null,
          "Carrier B",
          "Carrier B",
          "Carrier B",
          "Carrier B",
          null,
          "Carrier B",
          "Carrier B",
          "Carrier B",
          "Carrier B",
          null,
          "Carrier B",
          "Carrier B",
          "Carrier B",
          "Carrier B",
          null,
          "Carrier B",
          "Carrier B",
          "Carrier B",
          "Carrier B",
          null
         ]
        },
        {
         "connectgaps": false,
         "hoverinfo": "y+name",
         "line": {
          "color": "rgb(209,185,69)",
          "width": 10
         },
         "mode": "lines",
         "name": "loading:Carrier B",
         "type": "scatter",
         "x": [
          "1970-01-01T01:09:45",
          "1970-01-01T01:09:45",
          "1970-01-01T01:43:05",
          "1970-01-01T01:43:05",
          "1970-01-01T01:43:05",
          "1970-01-01T03:45:05",
          "1970-01-01T03:45:05",
          "1970-01-01T04:18:25",
          "1970-01-01T04:18:25",
          "1970-01-01T04:18:25",
          "1970-01-01T06:35:14",
          "1970-01-01T06:35:14",
          "1970-01-01T07:08:34",
          "1970-01-01T07:08:34",
          "1970-01-01T07:08:34",
          "1970-01-01T09:39:03",
          "1970-01-01T09:39:03",
          "1970-01-01T10:12:23",
          "1970-01-01T10:12:23",
          "1970-01-01T10:12:23",
          "1970-01-01T12:42:52",
          "1970-01-01T12:42:52",
          "1970-01-01T13:16:12",
          "1970-01-01T13:16:12",
          "1970-01-01T13:16:12",
          "1970-01-01T15:46:41",
          "1970-01-01T15:46:41",
          "1970-01-01T16:20:01",
          "1970-01-01T16:20:01",
          "1970-01-01T16:20:01",
          "1970-01-01T01:09:45",
          "1970-01-01T01:09:45",
          "1970-01-01T01:43:05",
          "1970-01-01T01:43:05",
          "1970-01-01T01:43:05",
          "1970-01-01T03:45:05",
          "1970-01-01T03:45:05",
          "1970-01-01T04:18:25",
          "1970-01-01T04:18:25",
          "1970-01-01T04:18:25",
          "1970-01-01T06:35:14",
          "1970-01-01T06:35:14",
          "1970-01-01T07:08:34",
          "1970-01-01T07:08:34",
          "1970-01-01T07:08:34",
          "1970-01-01T09:39:03",
          "1970-01-01T09:39:03",
          "1970-01-01T10:12:23",
          "1970-01-01T10:12:23",
          "1970-01-01T10:12:23",
          "1970-01-01T12:42:52",
          "1970-01-01T12:42:52",
          "1970-01-01T13:16:12",
          "1970-01-01T13:16:12",
          "1970-01-01T13:16:12",
          "1970-01-01T15:46:41",
          "1970-01-01T15:46:41",
          "1970-01-01T16:20:01",
          "1970-01-01T16:20:01",
          "1970-01-01T16:20:01",
          "1970-01-01T01:09:45",
          "1970-01-01T01:09:45",
          "1970-01-01T01:43:05",
          "1970-01-01T01:43:05",
          "1970-01-01T01:43:05",
          "1970-01-01T03:45:05",
          "1970-01-01T03:45:05",
          "1970-01-01T04:18:25",
          "1970-01-01T04:18:25",
          "1970-01-01T04:18:25",
          "1970-01-01T06:35:14",
          "1970-01-01T06:35:14",
          "1970-01-01T07:08:34",
          "1970-01-01T07:08:34",
          "1970-01-01T07:08:34",
          "1970-01-01T09:39:03",
          "1970-01-01T09:39:03",
          "1970-01-01T10:12:23",
          "1970-01-01T10:12:23",
          "1970-01-01T10:12:23",
          "1970-01-01T12:42:52",
          "1970-01-01T12:42:52",
          "1970-01-01T13:16:12",
          "1970-01-01T13:16:12",
          "1970-01-01T13:16:12",
          "1970-01-01T15:46:41",
          "1970-01-01T15:46:41",
          "1970-01-01T16:20:01",
          "1970-01-01T16:20:01",
          "1970-01-01T16:20:01"
         ],
         "y": [
          "Carrier B",
          "Carrier B",
          "Carrier B",
          "Carrier B",
          null,
          "Carrier B",
          "Carrier B",
          "Carrier B",
          "Carrier B",
          null,
          "Carrier B",
          "Carrier B",
          "Carrier B",
          "Carrier B",
          null,
          "Carrier B",
          "Carrier B",
          "Carrier B",
          "Carrier B",
          null,
          "Carrier B",
          "Carrier B",
          "Carrier B",
          "Carrier B",
          null,
          "Carrier B",
          "Carrier B",
          "Carrier B",
          "Carrier B",
          null,
          "Cutter T",
          "Cutter T",
          "Cutter T",
          "Cutter T",
          null,
          "Cutter T",
          "Cutter T",
          "Cutter T",
          "Cutter T",
          null,
          "Cutter T",
          "Cutter T",
          "Cutter T",
          "Cutter T",
          null,
          "Cutter T",
          "Cutter T",
          "Cutter T",
          "Cutter T",
          null,
          "Cutter T",
          "Cutter T",
          "Cutter T",
          "Cutter T",
          null,
          "Cutter T",
          "Cutter T",
          "Cutter T",
          "Cutter T",
          null,
          "Trench",
          "Trench",
          "Trench",
          "Trench",
          null,
          "Trench",
          "Trench",
          "Trench",
          "Trench",
          null,
          "Trench",
          "Trench",
          "Trench",
          "Trench",
          null,
          "Trench",
          "Trench",
          "Trench",
          "Trench",
          null,
          "Trench",
          "Trench",
          "Trench",
          "Trench",
          null,
          "Trench",
          "Trench",
          "Trench",
          "Trench",
          null
         ]
        },
        {
         "connectgaps": false,
         "hoverinfo": "y+name",
         "line": {
          "color": "rgb(218,194,78)",
          "width": 10
         },
         "mode": "lines",
         "name": "sailing empty:Carrier C",
         "type": "scatter",
         "x": [
          "1970-01-01T00:00:00",
          "1970-01-01T00:00:00",
          "1970-01-01T00:36:25",
          "1970-01-01T00:36:25",
          "1970-01-01T00:36:25",
          "1970-01-01T02:22:35",
          "1970-01-01T02:22:35",
          "1970-01-01T02:59:00",
          "1970-01-01T02:59:00",
          "1970-01-01T02:59:00",
          "1970-01-01T04:45:10",
          "1970-01-01T04:45:10",
          "1970-01-01T05:21:35",
          "1970-01-01T05:21:35",
          "1970-01-01T05:21:35",
          "1970-01-01T07:48:04",
          "1970-01-01T07:48:04",
          "1970-01-01T08:24:29",
          "1970-01-01T08:24:29",
          "1970-01-01T08:24:29",
          "1970-01-01T10:51:53",
          "1970-01-01T10:51:53",
          "1970-01-01T11:28:18",
          "1970-01-01T11:28:18",
          "1970-01-01T11:28:18",
          "1970-01-01T13:55:42",
          "1970-01-01T13:55:42",
          "1970-01-01T14:32:07",
          "1970-01-01T14:32:07",
          "1970-01-01T14:32:07"
         ],
         "y": [
          "Carrier C",
          "Carrier C",
          "Carrier C",
          "Carrier C",
          null,
          "Carrier C",
          "Carrier C",
          "Carrier C",
          "Carrier C",
          null,
          "Carrier C",
          "Carrier C",
          "Carrier C",
          "Carrier C",
          null,
          "Carrier C",
          "Carrier C",
          "Carrier C",
          "Carrier C",
          null,
          "Carrier C",
          "Carrier C",
          "Carrier C",
          "Carrier C",
          null,
          "Carrier C",
          "Carrier C",
          "Carrier C",
          "Carrier C",
          null
         ]
        },
        {
         "connectgaps": false,
         "hoverinfo": "y+name",
         "line": {
          "color": "rgb(227,203,87)",
          "width": 10
         },
         "mode": "lines",
         "name": "loading:Carrier C",
         "type": "scatter",
         "x": [
          "1970-01-01T00:36:25",
          "1970-01-01T00:36:25",
          "1970-01-01T01:09:45",
          "1970-01-01T01:09:45",
          "1970-01-01T01:09:45",
          "1970-01-01T02:59:00",
          "1970-01-01T02:59:00",
          "1970-01-01T03:32:20",
          "1970-01-01T03:32:20",
          "1970-01-01T03:32:20",
          "1970-01-01T06:01:54",
          "1970-01-01T06:01:54",
          "1970-01-01T06:35:14",
          "1970-01-01T06:35:14",
          "1970-01-01T06:35:14",
          "1970-01-01T09:05:43",
          "1970-01-01T09:05:43",
          "1970-01-01T09:39:03",
          "1970-01-01T09:39:03",
          "1970-01-01T09:39:03",
          "1970-01-01T12:09:32",
          "1970-01-01T12:09:32",
          "1970-01-01T12:42:52",
          "1970-01-01T12:42:52",
          "1970-01-01T12:42:52",
          "1970-01-01T15:13:21",
          "1970-01-01T15:13:21",
          "1970-01-01T15:46:41",
          "1970-01-01T15:46:41",
          "1970-01-01T15:46:41",
          "1970-01-01T00:36:25",
          "1970-01-01T00:36:25",
          "1970-01-01T01:09:45",
          "1970-01-01T01:09:45",
          "1970-01-01T01:09:45",
          "1970-01-01T02:59:00",
          "1970-01-01T02:59:00",
          "1970-01-01T03:32:20",
          "1970-01-01T03:32:20",
          "1970-01-01T03:32:20",
          "1970-01-01T06:01:54",
          "1970-01-01T06:01:54",
          "1970-01-01T06:35:14",
          "1970-01-01T06:35:14",
          "1970-01-01T06:35:14",
          "1970-01-01T09:05:43",
          "1970-01-01T09:05:43",
          "1970-01-01T09:39:03",
          "1970-01-01T09:39:03",
          "1970-01-01T09:39:03",
          "1970-01-01T12:09:32",
          "1970-01-01T12:09:32",
          "1970-01-01T12:42:52",
          "1970-01-01T12:42:52",
          "1970-01-01T12:42:52",
          "1970-01-01T15:13:21",
          "1970-01-01T15:13:21",
          "1970-01-01T15:46:41",
          "1970-01-01T15:46:41",
          "1970-01-01T15:46:41",
          "1970-01-01T00:36:25",
          "1970-01-01T00:36:25",
          "1970-01-01T01:09:45",
          "1970-01-01T01:09:45",
          "1970-01-01T01:09:45",
          "1970-01-01T02:59:00",
          "1970-01-01T02:59:00",
          "1970-01-01T03:32:20",
          "1970-01-01T03:32:20",
          "1970-01-01T03:32:20",
          "1970-01-01T06:01:54",
          "1970-01-01T06:01:54",
          "1970-01-01T06:35:14",
          "1970-01-01T06:35:14",
          "1970-01-01T06:35:14",
          "1970-01-01T09:05:43",
          "1970-01-01T09:05:43",
          "1970-01-01T09:39:03",
          "1970-01-01T09:39:03",
          "1970-01-01T09:39:03",
          "1970-01-01T12:09:32",
          "1970-01-01T12:09:32",
          "1970-01-01T12:42:52",
          "1970-01-01T12:42:52",
          "1970-01-01T12:42:52",
          "1970-01-01T15:13:21",
          "1970-01-01T15:13:21",
          "1970-01-01T15:46:41",
          "1970-01-01T15:46:41",
          "1970-01-01T15:46:41"
         ],
         "y": [
          "Carrier C",
          "Carrier C",
          "Carrier C",
          "Carrier C",
          null,
          "Carrier C",
          "Carrier C",
          "Carrier C",
          "Carrier C",
          null,
          "Carrier C",
          "Carrier C",
          "Carrier C",
          "Carrier C",
          null,
          "Carrier C",
          "Carrier C",
          "Carrier C",
          "Carrier C",
          null,
          "Carrier C",
          "Carrier C",
          "Carrier C",
          "Carrier C",
          null,
          "Carrier C",
          "Carrier C",
          "Carrier C",
          "Carrier C",
          null,
          "Cutter T",
          "Cutter T",
          "Cutter T",
          "Cutter T",
          null,
          "Cutter T",
          "Cutter T",
          "Cutter T",
          "Cutter T",
          null,
          "Cutter T",
          "Cutter T",
          "Cutter T",
          "Cutter T",
          null,
          "Cutter T",
          "Cutter T",
          "Cutter T",
          "Cutter T",
          null,
          "Cutter T",
          "Cutter T",
          "Cutter T",
          "Cutter T",
          null,
          "Cutter T",
          "Cutter T",
          "Cutter T",
          "Cutter T",
          null,
          "Trench",
          "Trench",
          "Trench",
          "Trench",
          null,
          "Trench",
          "Trench",
          "Trench",
          "Trench",
          null,
          "Trench",
          "Trench",
          "Trench",
          "Trench",
          null,
          "Trench",
          "Trench",
          "Trench",
          "Trench",
          null,
          "Trench",
          "Trench",
          "Trench",
          "Trench",
          null,
          "Trench",
          "Trench",
          "Trench",
          "Trench",
          null
         ]
        },
        {
         "connectgaps": false,
         "hoverinfo": "y+name",
         "line": {
          "color": "rgb(236,212,96)",
          "width": 10
         },
         "mode": "lines",
         "name": "sailing full:Carrier C",
         "type": "scatter",
         "x": [
          "1970-01-01T01:09:45",
          "1970-01-01T01:09:45",
          "1970-01-01T01:46:10",
          "1970-01-01T01:46:10",
          "1970-01-01T01:46:10",
          "1970-01-01T03:32:20",
          "1970-01-01T03:32:20",
          "1970-01-01T04:08:45",
          "1970-01-01T04:08:45",
          "1970-01-01T04:08:45",
          "1970-01-01T06:35:14",
          "1970-01-01T06:35:14",
          "1970-01-01T07:11:39",
          "1970-01-01T07:11:39",
          "1970-01-01T07:11:39",
          "1970-01-01T09:39:03",
          "1970-01-01T09:39:03",
          "1970-01-01T10:15:28",
          "1970-01-01T10:15:28",
          "1970-01-01T10:15:28",
          "1970-01-01T12:42:52",
          "1970-01-01T12:42:52",
          "1970-01-01T13:19:17",
          "1970-01-01T13:19:17",
          "1970-01-01T13:19:17",
          "1970-01-01T15:46:41",
          "1970-01-01T15:46:41",
          "1970-01-01T16:23:06",
          "1970-01-01T16:23:06",
          "1970-01-01T16:23:06"
         ],
         "y": [
          "Carrier C",
          "Carrier C",
          "Carrier C",
          "Carrier C",
          null,
          "Carrier C",
          "Carrier C",
          "Carrier C",
          "Carrier C",
          null,
          "Carrier C",
          "Carrier C",
          "Carrier C",
          "Carrier C",
          null,
          "Carrier C",
          "Carrier C",
          "Carrier C",
          "Carrier C",
          null,
          "Carrier C",
          "Carrier C",
          "Carrier C",
          "Carrier C",
          null,
          "Carrier C",
          "Carrier C",
          "Carrier C",
          "Carrier C",
          null
         ]
        },
        {
         "connectgaps": false,
         "hoverinfo": "y+name",
         "line": {
          "color": "rgb(245,221,105)",
          "width": 10
         },
         "mode": "lines",
         "name": "unloading:Carrier C",
         "type": "scatter",
         "x": [
          "1970-01-01T01:46:10",
          "1970-01-01T01:46:10",
          "1970-01-01T02:22:35",
          "1970-01-01T02:22:35",
          "1970-01-01T02:22:35",
          "1970-01-01T04:08:45",
          "1970-01-01T04:08:45",
          "1970-01-01T04:45:10",
          "1970-01-01T04:45:10",
          "1970-01-01T04:45:10",
          "1970-01-01T07:11:39",
          "1970-01-01T07:11:39",
          "1970-01-01T07:48:04",
          "1970-01-01T07:48:04",
          "1970-01-01T07:48:04",
          "1970-01-01T10:15:28",
          "1970-01-01T10:15:28",
          "1970-01-01T10:51:53",
          "1970-01-01T10:51:53",
          "1970-01-01T10:51:53",
          "1970-01-01T13:19:17",
          "1970-01-01T13:19:17",
          "1970-01-01T13:55:42",
          "1970-01-01T13:55:42",
          "1970-01-01T13:55:42",
          "1970-01-01T16:23:06",
          "1970-01-01T16:23:06",
          "1970-01-01T16:59:31",
          "1970-01-01T16:59:31",
          "1970-01-01T16:59:31",
          "1970-01-01T01:46:10",
          "1970-01-01T01:46:10",
          "1970-01-01T02:22:35",
          "1970-01-01T02:22:35",
          "1970-01-01T02:22:35",
          "1970-01-01T04:08:45",
          "1970-01-01T04:08:45",
          "1970-01-01T04:45:10",
          "1970-01-01T04:45:10",
          "1970-01-01T04:45:10",
          "1970-01-01T07:11:39",
          "1970-01-01T07:11:39",
          "1970-01-01T07:48:04",
          "1970-01-01T07:48:04",
          "1970-01-01T07:48:04",
          "1970-01-01T10:15:28",
          "1970-01-01T10:15:28",
          "1970-01-01T10:51:53",
          "1970-01-01T10:51:53",
          "1970-01-01T10:51:53",
          "1970-01-01T13:19:17",
          "1970-01-01T13:19:17",
          "1970-01-01T13:55:42",
          "1970-01-01T13:55:42",
          "1970-01-01T13:55:42",
          "1970-01-01T16:23:06",
          "1970-01-01T16:23:06",
          "1970-01-01T16:59:31",
          "1970-01-01T16:59:31",
          "1970-01-01T16:59:31"
         ],
         "y": [
          "Carrier C",
          "Carrier C",
          "Carrier C",
          "Carrier C",
          null,
          "Carrier C",
          "Carrier C",
          "Carrier C",
          "Carrier C",
          null,
          "Carrier C",
          "Carrier C",
          "Carrier C",
          "Carrier C",
          null,
          "Carrier C",
          "Carrier C",
          "Carrier C",
          "Carrier C",
          null,
          "Carrier C",
          "Carrier C",
          "Carrier C",
          "Carrier C",
          null,
          "Carrier C",
          "Carrier C",
          "Carrier C",
          "Carrier C",
          null,
          "Reclamation",
          "Reclamation",
          "Reclamation",
          "Reclamation",
          null,
          "Reclamation",
          "Reclamation",
          "Reclamation",
          "Reclamation",
          null,
          "Reclamation",
          "Reclamation",
          "Reclamation",
          "Reclamation",
          null,
          "Reclamation",
          "Reclamation",
          "Reclamation",
          "Reclamation",
          null,
          "Reclamation",
          "Reclamation",
          "Reclamation",
          "Reclamation",
          null,
          "Reclamation",
          "Reclamation",
          "Reclamation",
          "Reclamation",
          null
         ]
        },
        {
         "connectgaps": false,
         "hoverinfo": "y+name",
         "line": {
          "color": "rgb(254,230,114)",
          "width": 10
         },
         "mode": "lines",
         "name": "loading:Barge I",
         "type": "scatter",
         "x": [
          "1970-01-01T01:43:05",
          "1970-01-01T01:43:05",
          "1970-01-01T02:16:25",
          "1970-01-01T02:16:25",
          "1970-01-01T02:16:25",
          "1970-01-01T04:25:31",
          "1970-01-01T04:25:31",
          "1970-01-01T04:58:51",
          "1970-01-01T04:58:51",
          "1970-01-01T04:58:51",
          "1970-01-01T07:08:34",
          "1970-01-01T07:08:34",
          "1970-01-01T07:41:54",
          "1970-01-01T07:41:54",
          "1970-01-01T07:41:54",
          "1970-01-01T10:12:23",
          "1970-01-01T10:12:23",
          "1970-01-01T10:45:43",
          "1970-01-01T10:45:43",
          "1970-01-01T10:45:43",
          "1970-01-01T13:16:12",
          "1970-01-01T13:16:12",
          "1970-01-01T13:49:32",
          "1970-01-01T13:49:32",
          "1970-01-01T13:49:32",
          "1970-01-01T16:20:01",
          "1970-01-01T16:20:01",
          "1970-01-01T16:53:21",
          "1970-01-01T16:53:21",
          "1970-01-01T16:53:21",
          "1970-01-01T01:43:05",
          "1970-01-01T01:43:05",
          "1970-01-01T02:16:25",
          "1970-01-01T02:16:25",
          "1970-01-01T02:16:25",
          "1970-01-01T04:25:31",
          "1970-01-01T04:25:31",
          "1970-01-01T04:58:51",
          "1970-01-01T04:58:51",
          "1970-01-01T04:58:51",
          "1970-01-01T07:08:34",
          "1970-01-01T07:08:34",
          "1970-01-01T07:41:54",
          "1970-01-01T07:41:54",
          "1970-01-01T07:41:54",
          "1970-01-01T10:12:23",
          "1970-01-01T10:12:23",
          "1970-01-01T10:45:43",
          "1970-01-01T10:45:43",
          "1970-01-01T10:45:43",
          "1970-01-01T13:16:12",
          "1970-01-01T13:16:12",
          "1970-01-01T13:49:32",
          "1970-01-01T13:49:32",
          "1970-01-01T13:49:32",
          "1970-01-01T16:20:01",
          "1970-01-01T16:20:01",
          "1970-01-01T16:53:21",
          "1970-01-01T16:53:21",
          "1970-01-01T16:53:21",
          "1970-01-01T01:43:05",
          "1970-01-01T01:43:05",
          "1970-01-01T02:16:25",
          "1970-01-01T02:16:25",
          "1970-01-01T02:16:25",
          "1970-01-01T04:25:31",
          "1970-01-01T04:25:31",
          "1970-01-01T04:58:51",
          "1970-01-01T04:58:51",
          "1970-01-01T04:58:51",
          "1970-01-01T07:08:34",
          "1970-01-01T07:08:34",
          "1970-01-01T07:41:54",
          "1970-01-01T07:41:54",
          "1970-01-01T07:41:54",
          "1970-01-01T10:12:23",
          "1970-01-01T10:12:23",
          "1970-01-01T10:45:43",
          "1970-01-01T10:45:43",
          "1970-01-01T10:45:43",
          "1970-01-01T13:16:12",
          "1970-01-01T13:16:12",
          "1970-01-01T13:49:32",
          "1970-01-01T13:49:32",
          "1970-01-01T13:49:32",
          "1970-01-01T16:20:01",
          "1970-01-01T16:20:01",
          "1970-01-01T16:53:21",
          "1970-01-01T16:53:21",
          "1970-01-01T16:53:21"
         ],
         "y": [
          "Barge I",
          "Barge I",
          "Barge I",
          "Barge I",
          null,
          "Barge I",
          "Barge I",
          "Barge I",
          "Barge I",
          null,
          "Barge I",
          "Barge I",
          "Barge I",
          "Barge I",
          null,
          "Barge I",
          "Barge I",
          "Barge I",
          "Barge I",
          null,
          "Barge I",
          "Barge I",
          "Barge I",
          "Barge I",
          null,
          "Barge I",
          "Barge I",
          "Barge I",
          "Barge I",
          null,
          "Cutter T",
          "Cutter T",
          "Cutter T",
          "Cutter T",
          null,
          "Cutter T",
          "Cutter T",
          "Cutter T",
          "Cutter T",
          null,
          "Cutter T",
          "Cutter T",
          "Cutter T",
          "Cutter T",
          null,
          "Cutter T",
          "Cutter T",
          "Cutter T",
          "Cutter T",
          null,
          "Cutter T",
          "Cutter T",
          "Cutter T",
          "Cutter T",
          null,
          "Cutter T",
          "Cutter T",
          "Cutter T",
          "Cutter T",
          null,
          "Trench",
          "Trench",
          "Trench",
          "Trench",
          null,
          "Trench",
          "Trench",
          "Trench",
          "Trench",
          null,
          "Trench",
          "Trench",
          "Trench",
          "Trench",
          null,
          "Trench",
          "Trench",
          "Trench",
          "Trench",
          null,
          "Trench",
          "Trench",
          "Trench",
          "Trench",
          null,
          "Trench",
          "Trench",
          "Trench",
          "Trench",
          null
         ]
        },
        {
         "connectgaps": false,
         "hoverinfo": "y+name",
         "line": {
          "color": "rgb(7,239,123)",
          "width": 10
         },
         "mode": "lines",
         "name": "unloading:Barge I",
         "type": "scatter",
         "x": [
          "1970-01-01T02:59:27",
          "1970-01-01T02:59:27",
          "1970-01-01T03:42:29",
          "1970-01-01T03:42:29",
          "1970-01-01T03:42:29",
          "1970-01-01T05:41:53",
          "1970-01-01T05:41:53",
          "1970-01-01T06:24:55",
          "1970-01-01T06:24:55",
          "1970-01-01T06:24:55",
          "1970-01-01T08:24:56",
          "1970-01-01T08:24:56",
          "1970-01-01T09:07:58",
          "1970-01-01T09:07:58",
          "1970-01-01T09:07:58",
          "1970-01-01T11:28:45",
          "1970-01-01T11:28:45",
          "1970-01-01T12:11:47",
          "1970-01-01T12:11:47",
          "1970-01-01T12:11:47",
          "1970-01-01T14:32:34",
          "1970-01-01T14:32:34",
          "1970-01-01T15:15:36",
          "1970-01-01T15:15:36",
          "1970-01-01T15:15:36",
          "1970-01-01T17:36:23",
          "1970-01-01T17:36:23",
          "1970-01-01T18:19:25",
          "1970-01-01T18:19:25",
          "1970-01-01T18:19:25",
          "1970-01-01T02:59:27",
          "1970-01-01T02:59:27",
          "1970-01-01T03:42:29",
          "1970-01-01T03:42:29",
          "1970-01-01T03:42:29",
          "1970-01-01T05:41:53",
          "1970-01-01T05:41:53",
          "1970-01-01T06:24:55",
          "1970-01-01T06:24:55",
          "1970-01-01T06:24:55",
          "1970-01-01T08:24:56",
          "1970-01-01T08:24:56",
          "1970-01-01T09:07:58",
          "1970-01-01T09:07:58",
          "1970-01-01T09:07:58",
          "1970-01-01T11:28:45",
          "1970-01-01T11:28:45",
          "1970-01-01T12:11:47",
          "1970-01-01T12:11:47",
          "1970-01-01T12:11:47",
          "1970-01-01T14:32:34",
          "1970-01-01T14:32:34",
          "1970-01-01T15:15:36",
          "1970-01-01T15:15:36",
          "1970-01-01T15:15:36",
          "1970-01-01T17:36:23",
          "1970-01-01T17:36:23",
          "1970-01-01T18:19:25",
          "1970-01-01T18:19:25",
          "1970-01-01T18:19:25"
         ],
         "y": [
          "Barge I",
          "Barge I",
          "Barge I",
          "Barge I",
          null,
          "Barge I",
          "Barge I",
          "Barge I",
          "Barge I",
          null,
          "Barge I",
          "Barge I",
          "Barge I",
          "Barge I",
          null,
          "Barge I",
          "Barge I",
          "Barge I",
          "Barge I",
          null,
          "Barge I",
          "Barge I",
          "Barge I",
          "Barge I",
          null,
          "Barge I",
          "Barge I",
          "Barge I",
          "Barge I",
          null,
          "Reclamation",
          "Reclamation",
          "Reclamation",
          "Reclamation",
          null,
          "Reclamation",
          "Reclamation",
          "Reclamation",
          "Reclamation",
          null,
          "Reclamation",
          "Reclamation",
          "Reclamation",
          "Reclamation",
          null,
          "Reclamation",
          "Reclamation",
          "Reclamation",
          "Reclamation",
          null,
          "Reclamation",
          "Reclamation",
          "Reclamation",
          "Reclamation",
          null,
          "Reclamation",
          "Reclamation",
          "Reclamation",
          "Reclamation",
          null
         ]
        },
        {
         "connectgaps": false,
         "hoverinfo": "y+name",
         "line": {
          "color": "rgb(16,248,132)",
          "width": 10
         },
         "mode": "lines",
         "name": "sailing empty:Barge I",
         "type": "scatter",
         "x": [
          "1970-01-01T00:00:00",
          "1970-01-01T00:00:00",
          "1970-01-01T00:43:02",
          "1970-01-01T00:43:02",
          "1970-01-01T00:43:02",
          "1970-01-01T03:42:29",
          "1970-01-01T03:42:29",
          "1970-01-01T04:25:31",
          "1970-01-01T04:25:31",
          "1970-01-01T04:25:31",
          "1970-01-01T06:24:55",
          "1970-01-01T06:24:55",
          "1970-01-01T07:07:57",
          "1970-01-01T07:07:57",
          "1970-01-01T07:07:57",
          "1970-01-01T09:07:58",
          "1970-01-01T09:07:58",
          "1970-01-01T09:51:00",
          "1970-01-01T09:51:00",
          "1970-01-01T09:51:00",
          "1970-01-01T12:11:47",
          "1970-01-01T12:11:47",
          "1970-01-01T12:54:49",
          "1970-01-01T12:54:49",
          "1970-01-01T12:54:49",
          "1970-01-01T15:15:36",
          "1970-01-01T15:15:36",
          "1970-01-01T15:58:38",
          "1970-01-01T15:58:38",
          "1970-01-01T15:58:38"
         ],
         "y": [
          "Barge I",
          "Barge I",
          "Barge I",
          "Barge I",
          null,
          "Barge I",
          "Barge I",
          "Barge I",
          "Barge I",
          null,
          "Barge I",
          "Barge I",
          "Barge I",
          "Barge I",
          null,
          "Barge I",
          "Barge I",
          "Barge I",
          "Barge I",
          null,
          "Barge I",
          "Barge I",
          "Barge I",
          "Barge I",
          null,
          "Barge I",
          "Barge I",
          "Barge I",
          "Barge I",
          null
         ]
        },
        {
         "connectgaps": false,
         "hoverinfo": "y+name",
         "line": {
          "color": "rgb(25,1,141)",
          "width": 10
         },
         "mode": "lines",
         "name": "sailing full:Barge I",
         "type": "scatter",
         "x": [
          "1970-01-01T02:16:25",
          "1970-01-01T02:16:25",
          "1970-01-01T02:59:27",
          "1970-01-01T02:59:27",
          "1970-01-01T02:59:27",
          "1970-01-01T04:58:51",
          "1970-01-01T04:58:51",
          "1970-01-01T05:41:53",
          "1970-01-01T05:41:53",
          "1970-01-01T05:41:53",
          "1970-01-01T07:41:54",
          "1970-01-01T07:41:54",
          "1970-01-01T08:24:56",
          "1970-01-01T08:24:56",
          "1970-01-01T08:24:56",
          "1970-01-01T10:45:43",
          "1970-01-01T10:45:43",
          "1970-01-01T11:28:45",
          "1970-01-01T11:28:45",
          "1970-01-01T11:28:45",
          "1970-01-01T13:49:32",
          "1970-01-01T13:49:32",
          "1970-01-01T14:32:34",
          "1970-01-01T14:32:34",
          "1970-01-01T14:32:34",
          "1970-01-01T16:53:21",
          "1970-01-01T16:53:21",
          "1970-01-01T17:36:23",
          "1970-01-01T17:36:23",
          "1970-01-01T17:36:23"
         ],
         "y": [
          "Barge I",
          "Barge I",
          "Barge I",
          "Barge I",
          null,
          "Barge I",
          "Barge I",
          "Barge I",
          "Barge I",
          null,
          "Barge I",
          "Barge I",
          "Barge I",
          "Barge I",
          null,
          "Barge I",
          "Barge I",
          "Barge I",
          "Barge I",
          null,
          "Barge I",
          "Barge I",
          "Barge I",
          "Barge I",
          null,
          "Barge I",
          "Barge I",
          "Barge I",
          "Barge I",
          null
         ]
        },
        {
         "connectgaps": false,
         "hoverinfo": "y+name",
         "line": {
          "color": "rgb(34,10,150)",
          "width": 10
         },
         "mode": "lines",
         "name": "loading:Barge I",
         "type": "scatter",
         "x": [
          "1970-01-01T01:43:05",
          "1970-01-01T01:43:05",
          "1970-01-01T02:16:25",
          "1970-01-01T02:16:25",
          "1970-01-01T02:16:25",
          "1970-01-01T04:25:31",
          "1970-01-01T04:25:31",
          "1970-01-01T04:58:51",
          "1970-01-01T04:58:51",
          "1970-01-01T04:58:51",
          "1970-01-01T07:08:34",
          "1970-01-01T07:08:34",
          "1970-01-01T07:41:54",
          "1970-01-01T07:41:54",
          "1970-01-01T07:41:54",
          "1970-01-01T10:12:23",
          "1970-01-01T10:12:23",
          "1970-01-01T10:45:43",
          "1970-01-01T10:45:43",
          "1970-01-01T10:45:43",
          "1970-01-01T13:16:12",
          "1970-01-01T13:16:12",
          "1970-01-01T13:49:32",
          "1970-01-01T13:49:32",
          "1970-01-01T13:49:32",
          "1970-01-01T16:20:01",
          "1970-01-01T16:20:01",
          "1970-01-01T16:53:21",
          "1970-01-01T16:53:21",
          "1970-01-01T16:53:21",
          "1970-01-01T01:43:05",
          "1970-01-01T01:43:05",
          "1970-01-01T02:16:25",
          "1970-01-01T02:16:25",
          "1970-01-01T02:16:25",
          "1970-01-01T04:25:31",
          "1970-01-01T04:25:31",
          "1970-01-01T04:58:51",
          "1970-01-01T04:58:51",
          "1970-01-01T04:58:51",
          "1970-01-01T07:08:34",
          "1970-01-01T07:08:34",
          "1970-01-01T07:41:54",
          "1970-01-01T07:41:54",
          "1970-01-01T07:41:54",
          "1970-01-01T10:12:23",
          "1970-01-01T10:12:23",
          "1970-01-01T10:45:43",
          "1970-01-01T10:45:43",
          "1970-01-01T10:45:43",
          "1970-01-01T13:16:12",
          "1970-01-01T13:16:12",
          "1970-01-01T13:49:32",
          "1970-01-01T13:49:32",
          "1970-01-01T13:49:32",
          "1970-01-01T16:20:01",
          "1970-01-01T16:20:01",
          "1970-01-01T16:53:21",
          "1970-01-01T16:53:21",
          "1970-01-01T16:53:21",
          "1970-01-01T01:43:05",
          "1970-01-01T01:43:05",
          "1970-01-01T02:16:25",
          "1970-01-01T02:16:25",
          "1970-01-01T02:16:25",
          "1970-01-01T04:25:31",
          "1970-01-01T04:25:31",
          "1970-01-01T04:58:51",
          "1970-01-01T04:58:51",
          "1970-01-01T04:58:51",
          "1970-01-01T07:08:34",
          "1970-01-01T07:08:34",
          "1970-01-01T07:41:54",
          "1970-01-01T07:41:54",
          "1970-01-01T07:41:54",
          "1970-01-01T10:12:23",
          "1970-01-01T10:12:23",
          "1970-01-01T10:45:43",
          "1970-01-01T10:45:43",
          "1970-01-01T10:45:43",
          "1970-01-01T13:16:12",
          "1970-01-01T13:16:12",
          "1970-01-01T13:49:32",
          "1970-01-01T13:49:32",
          "1970-01-01T13:49:32",
          "1970-01-01T16:20:01",
          "1970-01-01T16:20:01",
          "1970-01-01T16:53:21",
          "1970-01-01T16:53:21",
          "1970-01-01T16:53:21"
         ],
         "y": [
          "Barge I",
          "Barge I",
          "Barge I",
          "Barge I",
          null,
          "Barge I",
          "Barge I",
          "Barge I",
          "Barge I",
          null,
          "Barge I",
          "Barge I",
          "Barge I",
          "Barge I",
          null,
          "Barge I",
          "Barge I",
          "Barge I",
          "Barge I",
          null,
          "Barge I",
          "Barge I",
          "Barge I",
          "Barge I",
          null,
          "Barge I",
          "Barge I",
          "Barge I",
          "Barge I",
          null,
          "Cutter T",
          "Cutter T",
          "Cutter T",
          "Cutter T",
          null,
          "Cutter T",
          "Cutter T",
          "Cutter T",
          "Cutter T",
          null,
          "Cutter T",
          "Cutter T",
          "Cutter T",
          "Cutter T",
          null,
          "Cutter T",
          "Cutter T",
          "Cutter T",
          "Cutter T",
          null,
          "Cutter T",
          "Cutter T",
          "Cutter T",
          "Cutter T",
          null,
          "Cutter T",
          "Cutter T",
          "Cutter T",
          "Cutter T",
          null,
          "Trench",
          "Trench",
          "Trench",
          "Trench",
          null,
          "Trench",
          "Trench",
          "Trench",
          "Trench",
          null,
          "Trench",
          "Trench",
          "Trench",
          "Trench",
          null,
          "Trench",
          "Trench",
          "Trench",
          "Trench",
          null,
          "Trench",
          "Trench",
          "Trench",
          "Trench",
          null,
          "Trench",
          "Trench",
          "Trench",
          "Trench",
          null
         ]
        },
        {
         "connectgaps": false,
         "hoverinfo": "y+name",
         "line": {
          "color": "rgb(43,19,159)",
          "width": 10
         },
         "mode": "lines",
         "name": "loading:Carrier A",
         "type": "scatter",
         "x": [
          "1970-01-01T02:16:25",
          "1970-01-01T02:16:25",
          "1970-01-01T02:58:05",
          "1970-01-01T02:58:05",
          "1970-01-01T02:58:05",
          "1970-01-01T05:20:14",
          "1970-01-01T05:20:14",
          "1970-01-01T06:01:54",
          "1970-01-01T06:01:54",
          "1970-01-01T06:01:54",
          "1970-01-01T08:24:03",
          "1970-01-01T08:24:03",
          "1970-01-01T09:05:43",
          "1970-01-01T09:05:43",
          "1970-01-01T09:05:43",
          "1970-01-01T11:27:52",
          "1970-01-01T11:27:52",
          "1970-01-01T12:09:32",
          "1970-01-01T12:09:32",
          "1970-01-01T12:09:32",
          "1970-01-01T14:31:41",
          "1970-01-01T14:31:41",
          "1970-01-01T15:13:21",
          "1970-01-01T15:13:21",
          "1970-01-01T15:13:21",
          "1970-01-01T17:35:30",
          "1970-01-01T17:35:30",
          "1970-01-01T18:17:10",
          "1970-01-01T18:17:10",
          "1970-01-01T18:17:10",
          "1970-01-01T02:16:25",
          "1970-01-01T02:16:25",
          "1970-01-01T02:58:05",
          "1970-01-01T02:58:05",
          "1970-01-01T02:58:05",
          "1970-01-01T05:20:14",
          "1970-01-01T05:20:14",
          "1970-01-01T06:01:54",
          "1970-01-01T06:01:54",
          "1970-01-01T06:01:54",
          "1970-01-01T08:24:03",
          "1970-01-01T08:24:03",
          "1970-01-01T09:05:43",
          "1970-01-01T09:05:43",
          "1970-01-01T09:05:43",
          "1970-01-01T11:27:52",
          "1970-01-01T11:27:52",
          "1970-01-01T12:09:32",
          "1970-01-01T12:09:32",
          "1970-01-01T12:09:32",
          "1970-01-01T14:31:41",
          "1970-01-01T14:31:41",
          "1970-01-01T15:13:21",
          "1970-01-01T15:13:21",
          "1970-01-01T15:13:21",
          "1970-01-01T17:35:30",
          "1970-01-01T17:35:30",
          "1970-01-01T18:17:10",
          "1970-01-01T18:17:10",
          "1970-01-01T18:17:10",
          "1970-01-01T02:16:25",
          "1970-01-01T02:16:25",
          "1970-01-01T02:58:05",
          "1970-01-01T02:58:05",
          "1970-01-01T02:58:05",
          "1970-01-01T05:20:14",
          "1970-01-01T05:20:14",
          "1970-01-01T06:01:54",
          "1970-01-01T06:01:54",
          "1970-01-01T06:01:54",
          "1970-01-01T08:24:03",
          "1970-01-01T08:24:03",
          "1970-01-01T09:05:43",
          "1970-01-01T09:05:43",
          "1970-01-01T09:05:43",
          "1970-01-01T11:27:52",
          "1970-01-01T11:27:52",
          "1970-01-01T12:09:32",
          "1970-01-01T12:09:32",
          "1970-01-01T12:09:32",
          "1970-01-01T14:31:41",
          "1970-01-01T14:31:41",
          "1970-01-01T15:13:21",
          "1970-01-01T15:13:21",
          "1970-01-01T15:13:21",
          "1970-01-01T17:35:30",
          "1970-01-01T17:35:30",
          "1970-01-01T18:17:10",
          "1970-01-01T18:17:10",
          "1970-01-01T18:17:10"
         ],
         "y": [
          "Carrier A",
          "Carrier A",
          "Carrier A",
          "Carrier A",
          null,
          "Carrier A",
          "Carrier A",
          "Carrier A",
          "Carrier A",
          null,
          "Carrier A",
          "Carrier A",
          "Carrier A",
          "Carrier A",
          null,
          "Carrier A",
          "Carrier A",
          "Carrier A",
          "Carrier A",
          null,
          "Carrier A",
          "Carrier A",
          "Carrier A",
          "Carrier A",
          null,
          "Carrier A",
          "Carrier A",
          "Carrier A",
          "Carrier A",
          null,
          "Cutter T",
          "Cutter T",
          "Cutter T",
          "Cutter T",
          null,
          "Cutter T",
          "Cutter T",
          "Cutter T",
          "Cutter T",
          null,
          "Cutter T",
          "Cutter T",
          "Cutter T",
          "Cutter T",
          null,
          "Cutter T",
          "Cutter T",
          "Cutter T",
          "Cutter T",
          null,
          "Cutter T",
          "Cutter T",
          "Cutter T",
          "Cutter T",
          null,
          "Cutter T",
          "Cutter T",
          "Cutter T",
          "Cutter T",
          null,
          "Trench",
          "Trench",
          "Trench",
          "Trench",
          null,
          "Trench",
          "Trench",
          "Trench",
          "Trench",
          null,
          "Trench",
          "Trench",
          "Trench",
          "Trench",
          null,
          "Trench",
          "Trench",
          "Trench",
          "Trench",
          null,
          "Trench",
          "Trench",
          "Trench",
          "Trench",
          null,
          "Trench",
          "Trench",
          "Trench",
          "Trench",
          null
         ]
        },
        {
         "connectgaps": false,
         "hoverinfo": "y+name",
         "line": {
          "color": "rgb(52,28,168)",
          "width": 10
         },
         "mode": "lines",
         "name": "loading:Carrier C",
         "type": "scatter",
         "x": [
          "1970-01-01T00:36:25",
          "1970-01-01T00:36:25",
          "1970-01-01T01:09:45",
          "1970-01-01T01:09:45",
          "1970-01-01T01:09:45",
          "1970-01-01T02:59:00",
          "1970-01-01T02:59:00",
          "1970-01-01T03:32:20",
          "1970-01-01T03:32:20",
          "1970-01-01T03:32:20",
          "1970-01-01T06:01:54",
          "1970-01-01T06:01:54",
          "1970-01-01T06:35:14",
          "1970-01-01T06:35:14",
          "1970-01-01T06:35:14",
          "1970-01-01T09:05:43",
          "1970-01-01T09:05:43",
          "1970-01-01T09:39:03",
          "1970-01-01T09:39:03",
          "1970-01-01T09:39:03",
          "1970-01-01T12:09:32",
          "1970-01-01T12:09:32",
          "1970-01-01T12:42:52",
          "1970-01-01T12:42:52",
          "1970-01-01T12:42:52",
          "1970-01-01T15:13:21",
          "1970-01-01T15:13:21",
          "1970-01-01T15:46:41",
          "1970-01-01T15:46:41",
          "1970-01-01T15:46:41",
          "1970-01-01T00:36:25",
          "1970-01-01T00:36:25",
          "1970-01-01T01:09:45",
          "1970-01-01T01:09:45",
          "1970-01-01T01:09:45",
          "1970-01-01T02:59:00",
          "1970-01-01T02:59:00",
          "1970-01-01T03:32:20",
          "1970-01-01T03:32:20",
          "1970-01-01T03:32:20",
          "1970-01-01T06:01:54",
          "1970-01-01T06:01:54",
          "1970-01-01T06:35:14",
          "1970-01-01T06:35:14",
          "1970-01-01T06:35:14",
          "1970-01-01T09:05:43",
          "1970-01-01T09:05:43",
          "1970-01-01T09:39:03",
          "1970-01-01T09:39:03",
          "1970-01-01T09:39:03",
          "1970-01-01T12:09:32",
          "1970-01-01T12:09:32",
          "1970-01-01T12:42:52",
          "1970-01-01T12:42:52",
          "1970-01-01T12:42:52",
          "1970-01-01T15:13:21",
          "1970-01-01T15:13:21",
          "1970-01-01T15:46:41",
          "1970-01-01T15:46:41",
          "1970-01-01T15:46:41",
          "1970-01-01T00:36:25",
          "1970-01-01T00:36:25",
          "1970-01-01T01:09:45",
          "1970-01-01T01:09:45",
          "1970-01-01T01:09:45",
          "1970-01-01T02:59:00",
          "1970-01-01T02:59:00",
          "1970-01-01T03:32:20",
          "1970-01-01T03:32:20",
          "1970-01-01T03:32:20",
          "1970-01-01T06:01:54",
          "1970-01-01T06:01:54",
          "1970-01-01T06:35:14",
          "1970-01-01T06:35:14",
          "1970-01-01T06:35:14",
          "1970-01-01T09:05:43",
          "1970-01-01T09:05:43",
          "1970-01-01T09:39:03",
          "1970-01-01T09:39:03",
          "1970-01-01T09:39:03",
          "1970-01-01T12:09:32",
          "1970-01-01T12:09:32",
          "1970-01-01T12:42:52",
          "1970-01-01T12:42:52",
          "1970-01-01T12:42:52",
          "1970-01-01T15:13:21",
          "1970-01-01T15:13:21",
          "1970-01-01T15:46:41",
          "1970-01-01T15:46:41",
          "1970-01-01T15:46:41"
         ],
         "y": [
          "Carrier C",
          "Carrier C",
          "Carrier C",
          "Carrier C",
          null,
          "Carrier C",
          "Carrier C",
          "Carrier C",
          "Carrier C",
          null,
          "Carrier C",
          "Carrier C",
          "Carrier C",
          "Carrier C",
          null,
          "Carrier C",
          "Carrier C",
          "Carrier C",
          "Carrier C",
          null,
          "Carrier C",
          "Carrier C",
          "Carrier C",
          "Carrier C",
          null,
          "Carrier C",
          "Carrier C",
          "Carrier C",
          "Carrier C",
          null,
          "Cutter T",
          "Cutter T",
          "Cutter T",
          "Cutter T",
          null,
          "Cutter T",
          "Cutter T",
          "Cutter T",
          "Cutter T",
          null,
          "Cutter T",
          "Cutter T",
          "Cutter T",
          "Cutter T",
          null,
          "Cutter T",
          "Cutter T",
          "Cutter T",
          "Cutter T",
          null,
          "Cutter T",
          "Cutter T",
          "Cutter T",
          "Cutter T",
          null,
          "Cutter T",
          "Cutter T",
          "Cutter T",
          "Cutter T",
          null,
          "Trench",
          "Trench",
          "Trench",
          "Trench",
          null,
          "Trench",
          "Trench",
          "Trench",
          "Trench",
          null,
          "Trench",
          "Trench",
          "Trench",
          "Trench",
          null,
          "Trench",
          "Trench",
          "Trench",
          "Trench",
          null,
          "Trench",
          "Trench",
          "Trench",
          "Trench",
          null,
          "Trench",
          "Trench",
          "Trench",
          "Trench",
          null
         ]
        },
        {
         "connectgaps": false,
         "hoverinfo": "y+name",
         "line": {
          "color": "rgb(61,37,177)",
          "width": 10
         },
         "mode": "lines",
         "name": "loading:Carrier B",
         "type": "scatter",
         "x": [
          "1970-01-01T01:09:45",
          "1970-01-01T01:09:45",
          "1970-01-01T01:43:05",
          "1970-01-01T01:43:05",
          "1970-01-01T01:43:05",
          "1970-01-01T03:45:05",
          "1970-01-01T03:45:05",
          "1970-01-01T04:18:25",
          "1970-01-01T04:18:25",
          "1970-01-01T04:18:25",
          "1970-01-01T06:35:14",
          "1970-01-01T06:35:14",
          "1970-01-01T07:08:34",
          "1970-01-01T07:08:34",
          "1970-01-01T07:08:34",
          "1970-01-01T09:39:03",
          "1970-01-01T09:39:03",
          "1970-01-01T10:12:23",
          "1970-01-01T10:12:23",
          "1970-01-01T10:12:23",
          "1970-01-01T12:42:52",
          "1970-01-01T12:42:52",
          "1970-01-01T13:16:12",
          "1970-01-01T13:16:12",
          "1970-01-01T13:16:12",
          "1970-01-01T15:46:41",
          "1970-01-01T15:46:41",
          "1970-01-01T16:20:01",
          "1970-01-01T16:20:01",
          "1970-01-01T16:20:01",
          "1970-01-01T01:09:45",
          "1970-01-01T01:09:45",
          "1970-01-01T01:43:05",
          "1970-01-01T01:43:05",
          "1970-01-01T01:43:05",
          "1970-01-01T03:45:05",
          "1970-01-01T03:45:05",
          "1970-01-01T04:18:25",
          "1970-01-01T04:18:25",
          "1970-01-01T04:18:25",
          "1970-01-01T06:35:14",
          "1970-01-01T06:35:14",
          "1970-01-01T07:08:34",
          "1970-01-01T07:08:34",
          "1970-01-01T07:08:34",
          "1970-01-01T09:39:03",
          "1970-01-01T09:39:03",
          "1970-01-01T10:12:23",
          "1970-01-01T10:12:23",
          "1970-01-01T10:12:23",
          "1970-01-01T12:42:52",
          "1970-01-01T12:42:52",
          "1970-01-01T13:16:12",
          "1970-01-01T13:16:12",
          "1970-01-01T13:16:12",
          "1970-01-01T15:46:41",
          "1970-01-01T15:46:41",
          "1970-01-01T16:20:01",
          "1970-01-01T16:20:01",
          "1970-01-01T16:20:01",
          "1970-01-01T01:09:45",
          "1970-01-01T01:09:45",
          "1970-01-01T01:43:05",
          "1970-01-01T01:43:05",
          "1970-01-01T01:43:05",
          "1970-01-01T03:45:05",
          "1970-01-01T03:45:05",
          "1970-01-01T04:18:25",
          "1970-01-01T04:18:25",
          "1970-01-01T04:18:25",
          "1970-01-01T06:35:14",
          "1970-01-01T06:35:14",
          "1970-01-01T07:08:34",
          "1970-01-01T07:08:34",
          "1970-01-01T07:08:34",
          "1970-01-01T09:39:03",
          "1970-01-01T09:39:03",
          "1970-01-01T10:12:23",
          "1970-01-01T10:12:23",
          "1970-01-01T10:12:23",
          "1970-01-01T12:42:52",
          "1970-01-01T12:42:52",
          "1970-01-01T13:16:12",
          "1970-01-01T13:16:12",
          "1970-01-01T13:16:12",
          "1970-01-01T15:46:41",
          "1970-01-01T15:46:41",
          "1970-01-01T16:20:01",
          "1970-01-01T16:20:01",
          "1970-01-01T16:20:01"
         ],
         "y": [
          "Carrier B",
          "Carrier B",
          "Carrier B",
          "Carrier B",
          null,
          "Carrier B",
          "Carrier B",
          "Carrier B",
          "Carrier B",
          null,
          "Carrier B",
          "Carrier B",
          "Carrier B",
          "Carrier B",
          null,
          "Carrier B",
          "Carrier B",
          "Carrier B",
          "Carrier B",
          null,
          "Carrier B",
          "Carrier B",
          "Carrier B",
          "Carrier B",
          null,
          "Carrier B",
          "Carrier B",
          "Carrier B",
          "Carrier B",
          null,
          "Cutter T",
          "Cutter T",
          "Cutter T",
          "Cutter T",
          null,
          "Cutter T",
          "Cutter T",
          "Cutter T",
          "Cutter T",
          null,
          "Cutter T",
          "Cutter T",
          "Cutter T",
          "Cutter T",
          null,
          "Cutter T",
          "Cutter T",
          "Cutter T",
          "Cutter T",
          null,
          "Cutter T",
          "Cutter T",
          "Cutter T",
          "Cutter T",
          null,
          "Cutter T",
          "Cutter T",
          "Cutter T",
          "Cutter T",
          null,
          "Trench",
          "Trench",
          "Trench",
          "Trench",
          null,
          "Trench",
          "Trench",
          "Trench",
          "Trench",
          null,
          "Trench",
          "Trench",
          "Trench",
          "Trench",
          null,
          "Trench",
          "Trench",
          "Trench",
          "Trench",
          null,
          "Trench",
          "Trench",
          "Trench",
          "Trench",
          null,
          "Trench",
          "Trench",
          "Trench",
          "Trench",
          null
         ]
        },
        {
         "connectgaps": false,
         "hoverinfo": "y+name",
         "line": {
          "color": "rgb(70,46,186)",
          "width": 10
         },
         "mode": "lines",
         "name": "loading:Barge I",
         "type": "scatter",
         "x": [
          "1970-01-01T01:43:05",
          "1970-01-01T01:43:05",
          "1970-01-01T02:16:25",
          "1970-01-01T02:16:25",
          "1970-01-01T02:16:25",
          "1970-01-01T04:25:31",
          "1970-01-01T04:25:31",
          "1970-01-01T04:58:51",
          "1970-01-01T04:58:51",
          "1970-01-01T04:58:51",
          "1970-01-01T07:08:34",
          "1970-01-01T07:08:34",
          "1970-01-01T07:41:54",
          "1970-01-01T07:41:54",
          "1970-01-01T07:41:54",
          "1970-01-01T10:12:23",
          "1970-01-01T10:12:23",
          "1970-01-01T10:45:43",
          "1970-01-01T10:45:43",
          "1970-01-01T10:45:43",
          "1970-01-01T13:16:12",
          "1970-01-01T13:16:12",
          "1970-01-01T13:49:32",
          "1970-01-01T13:49:32",
          "1970-01-01T13:49:32",
          "1970-01-01T16:20:01",
          "1970-01-01T16:20:01",
          "1970-01-01T16:53:21",
          "1970-01-01T16:53:21",
          "1970-01-01T16:53:21",
          "1970-01-01T01:43:05",
          "1970-01-01T01:43:05",
          "1970-01-01T02:16:25",
          "1970-01-01T02:16:25",
          "1970-01-01T02:16:25",
          "1970-01-01T04:25:31",
          "1970-01-01T04:25:31",
          "1970-01-01T04:58:51",
          "1970-01-01T04:58:51",
          "1970-01-01T04:58:51",
          "1970-01-01T07:08:34",
          "1970-01-01T07:08:34",
          "1970-01-01T07:41:54",
          "1970-01-01T07:41:54",
          "1970-01-01T07:41:54",
          "1970-01-01T10:12:23",
          "1970-01-01T10:12:23",
          "1970-01-01T10:45:43",
          "1970-01-01T10:45:43",
          "1970-01-01T10:45:43",
          "1970-01-01T13:16:12",
          "1970-01-01T13:16:12",
          "1970-01-01T13:49:32",
          "1970-01-01T13:49:32",
          "1970-01-01T13:49:32",
          "1970-01-01T16:20:01",
          "1970-01-01T16:20:01",
          "1970-01-01T16:53:21",
          "1970-01-01T16:53:21",
          "1970-01-01T16:53:21",
          "1970-01-01T01:43:05",
          "1970-01-01T01:43:05",
          "1970-01-01T02:16:25",
          "1970-01-01T02:16:25",
          "1970-01-01T02:16:25",
          "1970-01-01T04:25:31",
          "1970-01-01T04:25:31",
          "1970-01-01T04:58:51",
          "1970-01-01T04:58:51",
          "1970-01-01T04:58:51",
          "1970-01-01T07:08:34",
          "1970-01-01T07:08:34",
          "1970-01-01T07:41:54",
          "1970-01-01T07:41:54",
          "1970-01-01T07:41:54",
          "1970-01-01T10:12:23",
          "1970-01-01T10:12:23",
          "1970-01-01T10:45:43",
          "1970-01-01T10:45:43",
          "1970-01-01T10:45:43",
          "1970-01-01T13:16:12",
          "1970-01-01T13:16:12",
          "1970-01-01T13:49:32",
          "1970-01-01T13:49:32",
          "1970-01-01T13:49:32",
          "1970-01-01T16:20:01",
          "1970-01-01T16:20:01",
          "1970-01-01T16:53:21",
          "1970-01-01T16:53:21",
          "1970-01-01T16:53:21"
         ],
         "y": [
          "Barge I",
          "Barge I",
          "Barge I",
          "Barge I",
          null,
          "Barge I",
          "Barge I",
          "Barge I",
          "Barge I",
          null,
          "Barge I",
          "Barge I",
          "Barge I",
          "Barge I",
          null,
          "Barge I",
          "Barge I",
          "Barge I",
          "Barge I",
          null,
          "Barge I",
          "Barge I",
          "Barge I",
          "Barge I",
          null,
          "Barge I",
          "Barge I",
          "Barge I",
          "Barge I",
          null,
          "Cutter T",
          "Cutter T",
          "Cutter T",
          "Cutter T",
          null,
          "Cutter T",
          "Cutter T",
          "Cutter T",
          "Cutter T",
          null,
          "Cutter T",
          "Cutter T",
          "Cutter T",
          "Cutter T",
          null,
          "Cutter T",
          "Cutter T",
          "Cutter T",
          "Cutter T",
          null,
          "Cutter T",
          "Cutter T",
          "Cutter T",
          "Cutter T",
          null,
          "Cutter T",
          "Cutter T",
          "Cutter T",
          "Cutter T",
          null,
          "Trench",
          "Trench",
          "Trench",
          "Trench",
          null,
          "Trench",
          "Trench",
          "Trench",
          "Trench",
          null,
          "Trench",
          "Trench",
          "Trench",
          "Trench",
          null,
          "Trench",
          "Trench",
          "Trench",
          "Trench",
          null,
          "Trench",
          "Trench",
          "Trench",
          "Trench",
          null,
          "Trench",
          "Trench",
          "Trench",
          "Trench",
          null
         ]
        },
        {
         "connectgaps": false,
         "hoverinfo": "y+name",
         "line": {
          "color": "rgb(79,55,195)",
          "width": 10
         },
         "mode": "lines",
         "name": "loading:Carrier A",
         "type": "scatter",
         "x": [
          "1970-01-01T02:16:25",
          "1970-01-01T02:16:25",
          "1970-01-01T02:58:05",
          "1970-01-01T02:58:05",
          "1970-01-01T02:58:05",
          "1970-01-01T05:20:14",
          "1970-01-01T05:20:14",
          "1970-01-01T06:01:54",
          "1970-01-01T06:01:54",
          "1970-01-01T06:01:54",
          "1970-01-01T08:24:03",
          "1970-01-01T08:24:03",
          "1970-01-01T09:05:43",
          "1970-01-01T09:05:43",
          "1970-01-01T09:05:43",
          "1970-01-01T11:27:52",
          "1970-01-01T11:27:52",
          "1970-01-01T12:09:32",
          "1970-01-01T12:09:32",
          "1970-01-01T12:09:32",
          "1970-01-01T14:31:41",
          "1970-01-01T14:31:41",
          "1970-01-01T15:13:21",
          "1970-01-01T15:13:21",
          "1970-01-01T15:13:21",
          "1970-01-01T17:35:30",
          "1970-01-01T17:35:30",
          "1970-01-01T18:17:10",
          "1970-01-01T18:17:10",
          "1970-01-01T18:17:10",
          "1970-01-01T02:16:25",
          "1970-01-01T02:16:25",
          "1970-01-01T02:58:05",
          "1970-01-01T02:58:05",
          "1970-01-01T02:58:05",
          "1970-01-01T05:20:14",
          "1970-01-01T05:20:14",
          "1970-01-01T06:01:54",
          "1970-01-01T06:01:54",
          "1970-01-01T06:01:54",
          "1970-01-01T08:24:03",
          "1970-01-01T08:24:03",
          "1970-01-01T09:05:43",
          "1970-01-01T09:05:43",
          "1970-01-01T09:05:43",
          "1970-01-01T11:27:52",
          "1970-01-01T11:27:52",
          "1970-01-01T12:09:32",
          "1970-01-01T12:09:32",
          "1970-01-01T12:09:32",
          "1970-01-01T14:31:41",
          "1970-01-01T14:31:41",
          "1970-01-01T15:13:21",
          "1970-01-01T15:13:21",
          "1970-01-01T15:13:21",
          "1970-01-01T17:35:30",
          "1970-01-01T17:35:30",
          "1970-01-01T18:17:10",
          "1970-01-01T18:17:10",
          "1970-01-01T18:17:10",
          "1970-01-01T02:16:25",
          "1970-01-01T02:16:25",
          "1970-01-01T02:58:05",
          "1970-01-01T02:58:05",
          "1970-01-01T02:58:05",
          "1970-01-01T05:20:14",
          "1970-01-01T05:20:14",
          "1970-01-01T06:01:54",
          "1970-01-01T06:01:54",
          "1970-01-01T06:01:54",
          "1970-01-01T08:24:03",
          "1970-01-01T08:24:03",
          "1970-01-01T09:05:43",
          "1970-01-01T09:05:43",
          "1970-01-01T09:05:43",
          "1970-01-01T11:27:52",
          "1970-01-01T11:27:52",
          "1970-01-01T12:09:32",
          "1970-01-01T12:09:32",
          "1970-01-01T12:09:32",
          "1970-01-01T14:31:41",
          "1970-01-01T14:31:41",
          "1970-01-01T15:13:21",
          "1970-01-01T15:13:21",
          "1970-01-01T15:13:21",
          "1970-01-01T17:35:30",
          "1970-01-01T17:35:30",
          "1970-01-01T18:17:10",
          "1970-01-01T18:17:10",
          "1970-01-01T18:17:10"
         ],
         "y": [
          "Carrier A",
          "Carrier A",
          "Carrier A",
          "Carrier A",
          null,
          "Carrier A",
          "Carrier A",
          "Carrier A",
          "Carrier A",
          null,
          "Carrier A",
          "Carrier A",
          "Carrier A",
          "Carrier A",
          null,
          "Carrier A",
          "Carrier A",
          "Carrier A",
          "Carrier A",
          null,
          "Carrier A",
          "Carrier A",
          "Carrier A",
          "Carrier A",
          null,
          "Carrier A",
          "Carrier A",
          "Carrier A",
          "Carrier A",
          null,
          "Cutter T",
          "Cutter T",
          "Cutter T",
          "Cutter T",
          null,
          "Cutter T",
          "Cutter T",
          "Cutter T",
          "Cutter T",
          null,
          "Cutter T",
          "Cutter T",
          "Cutter T",
          "Cutter T",
          null,
          "Cutter T",
          "Cutter T",
          "Cutter T",
          "Cutter T",
          null,
          "Cutter T",
          "Cutter T",
          "Cutter T",
          "Cutter T",
          null,
          "Cutter T",
          "Cutter T",
          "Cutter T",
          "Cutter T",
          null,
          "Trench",
          "Trench",
          "Trench",
          "Trench",
          null,
          "Trench",
          "Trench",
          "Trench",
          "Trench",
          null,
          "Trench",
          "Trench",
          "Trench",
          "Trench",
          null,
          "Trench",
          "Trench",
          "Trench",
          "Trench",
          null,
          "Trench",
          "Trench",
          "Trench",
          "Trench",
          null,
          "Trench",
          "Trench",
          "Trench",
          "Trench",
          null
         ]
        },
        {
         "connectgaps": false,
         "hoverinfo": "y+name",
         "line": {
          "color": "rgb(88,64,204)",
          "width": 10
         },
         "mode": "lines",
         "name": "loading:Carrier C",
         "type": "scatter",
         "x": [
          "1970-01-01T00:36:25",
          "1970-01-01T00:36:25",
          "1970-01-01T01:09:45",
          "1970-01-01T01:09:45",
          "1970-01-01T01:09:45",
          "1970-01-01T02:59:00",
          "1970-01-01T02:59:00",
          "1970-01-01T03:32:20",
          "1970-01-01T03:32:20",
          "1970-01-01T03:32:20",
          "1970-01-01T06:01:54",
          "1970-01-01T06:01:54",
          "1970-01-01T06:35:14",
          "1970-01-01T06:35:14",
          "1970-01-01T06:35:14",
          "1970-01-01T09:05:43",
          "1970-01-01T09:05:43",
          "1970-01-01T09:39:03",
          "1970-01-01T09:39:03",
          "1970-01-01T09:39:03",
          "1970-01-01T12:09:32",
          "1970-01-01T12:09:32",
          "1970-01-01T12:42:52",
          "1970-01-01T12:42:52",
          "1970-01-01T12:42:52",
          "1970-01-01T15:13:21",
          "1970-01-01T15:13:21",
          "1970-01-01T15:46:41",
          "1970-01-01T15:46:41",
          "1970-01-01T15:46:41",
          "1970-01-01T00:36:25",
          "1970-01-01T00:36:25",
          "1970-01-01T01:09:45",
          "1970-01-01T01:09:45",
          "1970-01-01T01:09:45",
          "1970-01-01T02:59:00",
          "1970-01-01T02:59:00",
          "1970-01-01T03:32:20",
          "1970-01-01T03:32:20",
          "1970-01-01T03:32:20",
          "1970-01-01T06:01:54",
          "1970-01-01T06:01:54",
          "1970-01-01T06:35:14",
          "1970-01-01T06:35:14",
          "1970-01-01T06:35:14",
          "1970-01-01T09:05:43",
          "1970-01-01T09:05:43",
          "1970-01-01T09:39:03",
          "1970-01-01T09:39:03",
          "1970-01-01T09:39:03",
          "1970-01-01T12:09:32",
          "1970-01-01T12:09:32",
          "1970-01-01T12:42:52",
          "1970-01-01T12:42:52",
          "1970-01-01T12:42:52",
          "1970-01-01T15:13:21",
          "1970-01-01T15:13:21",
          "1970-01-01T15:46:41",
          "1970-01-01T15:46:41",
          "1970-01-01T15:46:41",
          "1970-01-01T00:36:25",
          "1970-01-01T00:36:25",
          "1970-01-01T01:09:45",
          "1970-01-01T01:09:45",
          "1970-01-01T01:09:45",
          "1970-01-01T02:59:00",
          "1970-01-01T02:59:00",
          "1970-01-01T03:32:20",
          "1970-01-01T03:32:20",
          "1970-01-01T03:32:20",
          "1970-01-01T06:01:54",
          "1970-01-01T06:01:54",
          "1970-01-01T06:35:14",
          "1970-01-01T06:35:14",
          "1970-01-01T06:35:14",
          "1970-01-01T09:05:43",
          "1970-01-01T09:05:43",
          "1970-01-01T09:39:03",
          "1970-01-01T09:39:03",
          "1970-01-01T09:39:03",
          "1970-01-01T12:09:32",
          "1970-01-01T12:09:32",
          "1970-01-01T12:42:52",
          "1970-01-01T12:42:52",
          "1970-01-01T12:42:52",
          "1970-01-01T15:13:21",
          "1970-01-01T15:13:21",
          "1970-01-01T15:46:41",
          "1970-01-01T15:46:41",
          "1970-01-01T15:46:41"
         ],
         "y": [
          "Carrier C",
          "Carrier C",
          "Carrier C",
          "Carrier C",
          null,
          "Carrier C",
          "Carrier C",
          "Carrier C",
          "Carrier C",
          null,
          "Carrier C",
          "Carrier C",
          "Carrier C",
          "Carrier C",
          null,
          "Carrier C",
          "Carrier C",
          "Carrier C",
          "Carrier C",
          null,
          "Carrier C",
          "Carrier C",
          "Carrier C",
          "Carrier C",
          null,
          "Carrier C",
          "Carrier C",
          "Carrier C",
          "Carrier C",
          null,
          "Cutter T",
          "Cutter T",
          "Cutter T",
          "Cutter T",
          null,
          "Cutter T",
          "Cutter T",
          "Cutter T",
          "Cutter T",
          null,
          "Cutter T",
          "Cutter T",
          "Cutter T",
          "Cutter T",
          null,
          "Cutter T",
          "Cutter T",
          "Cutter T",
          "Cutter T",
          null,
          "Cutter T",
          "Cutter T",
          "Cutter T",
          "Cutter T",
          null,
          "Cutter T",
          "Cutter T",
          "Cutter T",
          "Cutter T",
          null,
          "Trench",
          "Trench",
          "Trench",
          "Trench",
          null,
          "Trench",
          "Trench",
          "Trench",
          "Trench",
          null,
          "Trench",
          "Trench",
          "Trench",
          "Trench",
          null,
          "Trench",
          "Trench",
          "Trench",
          "Trench",
          null,
          "Trench",
          "Trench",
          "Trench",
          "Trench",
          null,
          "Trench",
          "Trench",
          "Trench",
          "Trench",
          null
         ]
        },
        {
         "connectgaps": false,
         "hoverinfo": "y+name",
         "line": {
          "color": "rgb(97,73,213)",
          "width": 10
         },
         "mode": "lines",
         "name": "loading:Carrier B",
         "type": "scatter",
         "x": [
          "1970-01-01T01:09:45",
          "1970-01-01T01:09:45",
          "1970-01-01T01:43:05",
          "1970-01-01T01:43:05",
          "1970-01-01T01:43:05",
          "1970-01-01T03:45:05",
          "1970-01-01T03:45:05",
          "1970-01-01T04:18:25",
          "1970-01-01T04:18:25",
          "1970-01-01T04:18:25",
          "1970-01-01T06:35:14",
          "1970-01-01T06:35:14",
          "1970-01-01T07:08:34",
          "1970-01-01T07:08:34",
          "1970-01-01T07:08:34",
          "1970-01-01T09:39:03",
          "1970-01-01T09:39:03",
          "1970-01-01T10:12:23",
          "1970-01-01T10:12:23",
          "1970-01-01T10:12:23",
          "1970-01-01T12:42:52",
          "1970-01-01T12:42:52",
          "1970-01-01T13:16:12",
          "1970-01-01T13:16:12",
          "1970-01-01T13:16:12",
          "1970-01-01T15:46:41",
          "1970-01-01T15:46:41",
          "1970-01-01T16:20:01",
          "1970-01-01T16:20:01",
          "1970-01-01T16:20:01",
          "1970-01-01T01:09:45",
          "1970-01-01T01:09:45",
          "1970-01-01T01:43:05",
          "1970-01-01T01:43:05",
          "1970-01-01T01:43:05",
          "1970-01-01T03:45:05",
          "1970-01-01T03:45:05",
          "1970-01-01T04:18:25",
          "1970-01-01T04:18:25",
          "1970-01-01T04:18:25",
          "1970-01-01T06:35:14",
          "1970-01-01T06:35:14",
          "1970-01-01T07:08:34",
          "1970-01-01T07:08:34",
          "1970-01-01T07:08:34",
          "1970-01-01T09:39:03",
          "1970-01-01T09:39:03",
          "1970-01-01T10:12:23",
          "1970-01-01T10:12:23",
          "1970-01-01T10:12:23",
          "1970-01-01T12:42:52",
          "1970-01-01T12:42:52",
          "1970-01-01T13:16:12",
          "1970-01-01T13:16:12",
          "1970-01-01T13:16:12",
          "1970-01-01T15:46:41",
          "1970-01-01T15:46:41",
          "1970-01-01T16:20:01",
          "1970-01-01T16:20:01",
          "1970-01-01T16:20:01",
          "1970-01-01T01:09:45",
          "1970-01-01T01:09:45",
          "1970-01-01T01:43:05",
          "1970-01-01T01:43:05",
          "1970-01-01T01:43:05",
          "1970-01-01T03:45:05",
          "1970-01-01T03:45:05",
          "1970-01-01T04:18:25",
          "1970-01-01T04:18:25",
          "1970-01-01T04:18:25",
          "1970-01-01T06:35:14",
          "1970-01-01T06:35:14",
          "1970-01-01T07:08:34",
          "1970-01-01T07:08:34",
          "1970-01-01T07:08:34",
          "1970-01-01T09:39:03",
          "1970-01-01T09:39:03",
          "1970-01-01T10:12:23",
          "1970-01-01T10:12:23",
          "1970-01-01T10:12:23",
          "1970-01-01T12:42:52",
          "1970-01-01T12:42:52",
          "1970-01-01T13:16:12",
          "1970-01-01T13:16:12",
          "1970-01-01T13:16:12",
          "1970-01-01T15:46:41",
          "1970-01-01T15:46:41",
          "1970-01-01T16:20:01",
          "1970-01-01T16:20:01",
          "1970-01-01T16:20:01"
         ],
         "y": [
          "Carrier B",
          "Carrier B",
          "Carrier B",
          "Carrier B",
          null,
          "Carrier B",
          "Carrier B",
          "Carrier B",
          "Carrier B",
          null,
          "Carrier B",
          "Carrier B",
          "Carrier B",
          "Carrier B",
          null,
          "Carrier B",
          "Carrier B",
          "Carrier B",
          "Carrier B",
          null,
          "Carrier B",
          "Carrier B",
          "Carrier B",
          "Carrier B",
          null,
          "Carrier B",
          "Carrier B",
          "Carrier B",
          "Carrier B",
          null,
          "Cutter T",
          "Cutter T",
          "Cutter T",
          "Cutter T",
          null,
          "Cutter T",
          "Cutter T",
          "Cutter T",
          "Cutter T",
          null,
          "Cutter T",
          "Cutter T",
          "Cutter T",
          "Cutter T",
          null,
          "Cutter T",
          "Cutter T",
          "Cutter T",
          "Cutter T",
          null,
          "Cutter T",
          "Cutter T",
          "Cutter T",
          "Cutter T",
          null,
          "Cutter T",
          "Cutter T",
          "Cutter T",
          "Cutter T",
          null,
          "Trench",
          "Trench",
          "Trench",
          "Trench",
          null,
          "Trench",
          "Trench",
          "Trench",
          "Trench",
          null,
          "Trench",
          "Trench",
          "Trench",
          "Trench",
          null,
          "Trench",
          "Trench",
          "Trench",
          "Trench",
          null,
          "Trench",
          "Trench",
          "Trench",
          "Trench",
          null,
          "Trench",
          "Trench",
          "Trench",
          "Trench",
          null
         ]
        },
        {
         "connectgaps": false,
         "hoverinfo": "y+name",
         "line": {
          "color": "rgb(106,82,222)",
          "width": 10
         },
         "mode": "lines",
         "name": "unloading:Barge I",
         "type": "scatter",
         "x": [
          "1970-01-01T02:59:27",
          "1970-01-01T02:59:27",
          "1970-01-01T03:42:29",
          "1970-01-01T03:42:29",
          "1970-01-01T03:42:29",
          "1970-01-01T05:41:53",
          "1970-01-01T05:41:53",
          "1970-01-01T06:24:55",
          "1970-01-01T06:24:55",
          "1970-01-01T06:24:55",
          "1970-01-01T08:24:56",
          "1970-01-01T08:24:56",
          "1970-01-01T09:07:58",
          "1970-01-01T09:07:58",
          "1970-01-01T09:07:58",
          "1970-01-01T11:28:45",
          "1970-01-01T11:28:45",
          "1970-01-01T12:11:47",
          "1970-01-01T12:11:47",
          "1970-01-01T12:11:47",
          "1970-01-01T14:32:34",
          "1970-01-01T14:32:34",
          "1970-01-01T15:15:36",
          "1970-01-01T15:15:36",
          "1970-01-01T15:15:36",
          "1970-01-01T17:36:23",
          "1970-01-01T17:36:23",
          "1970-01-01T18:19:25",
          "1970-01-01T18:19:25",
          "1970-01-01T18:19:25",
          "1970-01-01T02:59:27",
          "1970-01-01T02:59:27",
          "1970-01-01T03:42:29",
          "1970-01-01T03:42:29",
          "1970-01-01T03:42:29",
          "1970-01-01T05:41:53",
          "1970-01-01T05:41:53",
          "1970-01-01T06:24:55",
          "1970-01-01T06:24:55",
          "1970-01-01T06:24:55",
          "1970-01-01T08:24:56",
          "1970-01-01T08:24:56",
          "1970-01-01T09:07:58",
          "1970-01-01T09:07:58",
          "1970-01-01T09:07:58",
          "1970-01-01T11:28:45",
          "1970-01-01T11:28:45",
          "1970-01-01T12:11:47",
          "1970-01-01T12:11:47",
          "1970-01-01T12:11:47",
          "1970-01-01T14:32:34",
          "1970-01-01T14:32:34",
          "1970-01-01T15:15:36",
          "1970-01-01T15:15:36",
          "1970-01-01T15:15:36",
          "1970-01-01T17:36:23",
          "1970-01-01T17:36:23",
          "1970-01-01T18:19:25",
          "1970-01-01T18:19:25",
          "1970-01-01T18:19:25"
         ],
         "y": [
          "Barge I",
          "Barge I",
          "Barge I",
          "Barge I",
          null,
          "Barge I",
          "Barge I",
          "Barge I",
          "Barge I",
          null,
          "Barge I",
          "Barge I",
          "Barge I",
          "Barge I",
          null,
          "Barge I",
          "Barge I",
          "Barge I",
          "Barge I",
          null,
          "Barge I",
          "Barge I",
          "Barge I",
          "Barge I",
          null,
          "Barge I",
          "Barge I",
          "Barge I",
          "Barge I",
          null,
          "Reclamation",
          "Reclamation",
          "Reclamation",
          "Reclamation",
          null,
          "Reclamation",
          "Reclamation",
          "Reclamation",
          "Reclamation",
          null,
          "Reclamation",
          "Reclamation",
          "Reclamation",
          "Reclamation",
          null,
          "Reclamation",
          "Reclamation",
          "Reclamation",
          "Reclamation",
          null,
          "Reclamation",
          "Reclamation",
          "Reclamation",
          "Reclamation",
          null,
          "Reclamation",
          "Reclamation",
          "Reclamation",
          "Reclamation",
          null
         ]
        },
        {
         "connectgaps": false,
         "hoverinfo": "y+name",
         "line": {
          "color": "rgb(115,91,231)",
          "width": 10
         },
         "mode": "lines",
         "name": "unloading:Carrier B",
         "type": "scatter",
         "x": [
          "1970-01-01T02:23:45",
          "1970-01-01T02:23:45",
          "1970-01-01T03:04:25",
          "1970-01-01T03:04:25",
          "1970-01-01T03:04:25",
          "1970-01-01T04:59:05",
          "1970-01-01T04:59:05",
          "1970-01-01T05:39:45",
          "1970-01-01T05:39:45",
          "1970-01-01T05:39:45",
          "1970-01-01T07:49:14",
          "1970-01-01T07:49:14",
          "1970-01-01T08:29:54",
          "1970-01-01T08:29:54",
          "1970-01-01T08:29:54",
          "1970-01-01T10:53:03",
          "1970-01-01T10:53:03",
          "1970-01-01T11:33:43",
          "1970-01-01T11:33:43",
          "1970-01-01T11:33:43",
          "1970-01-01T13:56:52",
          "1970-01-01T13:56:52",
          "1970-01-01T14:37:32",
          "1970-01-01T14:37:32",
          "1970-01-01T14:37:32",
          "1970-01-01T17:00:41",
          "1970-01-01T17:00:41",
          "1970-01-01T17:41:21",
          "1970-01-01T17:41:21",
          "1970-01-01T17:41:21",
          "1970-01-01T02:23:45",
          "1970-01-01T02:23:45",
          "1970-01-01T03:04:25",
          "1970-01-01T03:04:25",
          "1970-01-01T03:04:25",
          "1970-01-01T04:59:05",
          "1970-01-01T04:59:05",
          "1970-01-01T05:39:45",
          "1970-01-01T05:39:45",
          "1970-01-01T05:39:45",
          "1970-01-01T07:49:14",
          "1970-01-01T07:49:14",
          "1970-01-01T08:29:54",
          "1970-01-01T08:29:54",
          "1970-01-01T08:29:54",
          "1970-01-01T10:53:03",
          "1970-01-01T10:53:03",
          "1970-01-01T11:33:43",
          "1970-01-01T11:33:43",
          "1970-01-01T11:33:43",
          "1970-01-01T13:56:52",
          "1970-01-01T13:56:52",
          "1970-01-01T14:37:32",
          "1970-01-01T14:37:32",
          "1970-01-01T14:37:32",
          "1970-01-01T17:00:41",
          "1970-01-01T17:00:41",
          "1970-01-01T17:41:21",
          "1970-01-01T17:41:21",
          "1970-01-01T17:41:21"
         ],
         "y": [
          "Carrier B",
          "Carrier B",
          "Carrier B",
          "Carrier B",
          null,
          "Carrier B",
          "Carrier B",
          "Carrier B",
          "Carrier B",
          null,
          "Carrier B",
          "Carrier B",
          "Carrier B",
          "Carrier B",
          null,
          "Carrier B",
          "Carrier B",
          "Carrier B",
          "Carrier B",
          null,
          "Carrier B",
          "Carrier B",
          "Carrier B",
          "Carrier B",
          null,
          "Carrier B",
          "Carrier B",
          "Carrier B",
          "Carrier B",
          null,
          "Reclamation",
          "Reclamation",
          "Reclamation",
          "Reclamation",
          null,
          "Reclamation",
          "Reclamation",
          "Reclamation",
          "Reclamation",
          null,
          "Reclamation",
          "Reclamation",
          "Reclamation",
          "Reclamation",
          null,
          "Reclamation",
          "Reclamation",
          "Reclamation",
          "Reclamation",
          null,
          "Reclamation",
          "Reclamation",
          "Reclamation",
          "Reclamation",
          null,
          "Reclamation",
          "Reclamation",
          "Reclamation",
          "Reclamation",
          null
         ]
        },
        {
         "connectgaps": false,
         "hoverinfo": "y+name",
         "line": {
          "color": "rgb(124,100,240)",
          "width": 10
         },
         "mode": "lines",
         "name": "unloading:Carrier A",
         "type": "scatter",
         "x": [
          "1970-01-01T03:45:28",
          "1970-01-01T03:45:28",
          "1970-01-01T04:32:51",
          "1970-01-01T04:32:51",
          "1970-01-01T04:32:51",
          "1970-01-01T06:49:17",
          "1970-01-01T06:49:17",
          "1970-01-01T07:36:40",
          "1970-01-01T07:36:40",
          "1970-01-01T07:36:40",
          "1970-01-01T09:53:06",
          "1970-01-01T09:53:06",
          "1970-01-01T10:40:29",
          "1970-01-01T10:40:29",
          "1970-01-01T10:40:29",
          "1970-01-01T12:56:55",
          "1970-01-01T12:56:55",
          "1970-01-01T13:44:18",
          "1970-01-01T13:44:18",
          "1970-01-01T13:44:18",
          "1970-01-01T16:00:44",
          "1970-01-01T16:00:44",
          "1970-01-01T16:48:07",
          "1970-01-01T16:48:07",
          "1970-01-01T16:48:07",
          "1970-01-01T19:04:33",
          "1970-01-01T19:04:33",
          "1970-01-01T19:51:56",
          "1970-01-01T19:51:56",
          "1970-01-01T19:51:56",
          "1970-01-01T03:45:28",
          "1970-01-01T03:45:28",
          "1970-01-01T04:32:51",
          "1970-01-01T04:32:51",
          "1970-01-01T04:32:51",
          "1970-01-01T06:49:17",
          "1970-01-01T06:49:17",
          "1970-01-01T07:36:40",
          "1970-01-01T07:36:40",
          "1970-01-01T07:36:40",
          "1970-01-01T09:53:06",
          "1970-01-01T09:53:06",
          "1970-01-01T10:40:29",
          "1970-01-01T10:40:29",
          "1970-01-01T10:40:29",
          "1970-01-01T12:56:55",
          "1970-01-01T12:56:55",
          "1970-01-01T13:44:18",
          "1970-01-01T13:44:18",
          "1970-01-01T13:44:18",
          "1970-01-01T16:00:44",
          "1970-01-01T16:00:44",
          "1970-01-01T16:48:07",
          "1970-01-01T16:48:07",
          "1970-01-01T16:48:07",
          "1970-01-01T19:04:33",
          "1970-01-01T19:04:33",
          "1970-01-01T19:51:56",
          "1970-01-01T19:51:56",
          "1970-01-01T19:51:56"
         ],
         "y": [
          "Carrier A",
          "Carrier A",
          "Carrier A",
          "Carrier A",
          null,
          "Carrier A",
          "Carrier A",
          "Carrier A",
          "Carrier A",
          null,
          "Carrier A",
          "Carrier A",
          "Carrier A",
          "Carrier A",
          null,
          "Carrier A",
          "Carrier A",
          "Carrier A",
          "Carrier A",
          null,
          "Carrier A",
          "Carrier A",
          "Carrier A",
          "Carrier A",
          null,
          "Carrier A",
          "Carrier A",
          "Carrier A",
          "Carrier A",
          null,
          "Reclamation",
          "Reclamation",
          "Reclamation",
          "Reclamation",
          null,
          "Reclamation",
          "Reclamation",
          "Reclamation",
          "Reclamation",
          null,
          "Reclamation",
          "Reclamation",
          "Reclamation",
          "Reclamation",
          null,
          "Reclamation",
          "Reclamation",
          "Reclamation",
          "Reclamation",
          null,
          "Reclamation",
          "Reclamation",
          "Reclamation",
          "Reclamation",
          null,
          "Reclamation",
          "Reclamation",
          "Reclamation",
          "Reclamation",
          null
         ]
        },
        {
         "connectgaps": false,
         "hoverinfo": "y+name",
         "line": {
          "color": "rgb(133,109,249)",
          "width": 10
         },
         "mode": "lines",
         "name": "unloading:Carrier C",
         "type": "scatter",
         "x": [
          "1970-01-01T01:46:10",
          "1970-01-01T01:46:10",
          "1970-01-01T02:22:35",
          "1970-01-01T02:22:35",
          "1970-01-01T02:22:35",
          "1970-01-01T04:08:45",
          "1970-01-01T04:08:45",
          "1970-01-01T04:45:10",
          "1970-01-01T04:45:10",
          "1970-01-01T04:45:10",
          "1970-01-01T07:11:39",
          "1970-01-01T07:11:39",
          "1970-01-01T07:48:04",
          "1970-01-01T07:48:04",
          "1970-01-01T07:48:04",
          "1970-01-01T10:15:28",
          "1970-01-01T10:15:28",
          "1970-01-01T10:51:53",
          "1970-01-01T10:51:53",
          "1970-01-01T10:51:53",
          "1970-01-01T13:19:17",
          "1970-01-01T13:19:17",
          "1970-01-01T13:55:42",
          "1970-01-01T13:55:42",
          "1970-01-01T13:55:42",
          "1970-01-01T16:23:06",
          "1970-01-01T16:23:06",
          "1970-01-01T16:59:31",
          "1970-01-01T16:59:31",
          "1970-01-01T16:59:31",
          "1970-01-01T01:46:10",
          "1970-01-01T01:46:10",
          "1970-01-01T02:22:35",
          "1970-01-01T02:22:35",
          "1970-01-01T02:22:35",
          "1970-01-01T04:08:45",
          "1970-01-01T04:08:45",
          "1970-01-01T04:45:10",
          "1970-01-01T04:45:10",
          "1970-01-01T04:45:10",
          "1970-01-01T07:11:39",
          "1970-01-01T07:11:39",
          "1970-01-01T07:48:04",
          "1970-01-01T07:48:04",
          "1970-01-01T07:48:04",
          "1970-01-01T10:15:28",
          "1970-01-01T10:15:28",
          "1970-01-01T10:51:53",
          "1970-01-01T10:51:53",
          "1970-01-01T10:51:53",
          "1970-01-01T13:19:17",
          "1970-01-01T13:19:17",
          "1970-01-01T13:55:42",
          "1970-01-01T13:55:42",
          "1970-01-01T13:55:42",
          "1970-01-01T16:23:06",
          "1970-01-01T16:23:06",
          "1970-01-01T16:59:31",
          "1970-01-01T16:59:31",
          "1970-01-01T16:59:31"
         ],
         "y": [
          "Carrier C",
          "Carrier C",
          "Carrier C",
          "Carrier C",
          null,
          "Carrier C",
          "Carrier C",
          "Carrier C",
          "Carrier C",
          null,
          "Carrier C",
          "Carrier C",
          "Carrier C",
          "Carrier C",
          null,
          "Carrier C",
          "Carrier C",
          "Carrier C",
          "Carrier C",
          null,
          "Carrier C",
          "Carrier C",
          "Carrier C",
          "Carrier C",
          null,
          "Carrier C",
          "Carrier C",
          "Carrier C",
          "Carrier C",
          null,
          "Reclamation",
          "Reclamation",
          "Reclamation",
          "Reclamation",
          null,
          "Reclamation",
          "Reclamation",
          "Reclamation",
          "Reclamation",
          null,
          "Reclamation",
          "Reclamation",
          "Reclamation",
          "Reclamation",
          null,
          "Reclamation",
          "Reclamation",
          "Reclamation",
          "Reclamation",
          null,
          "Reclamation",
          "Reclamation",
          "Reclamation",
          "Reclamation",
          null,
          "Reclamation",
          "Reclamation",
          "Reclamation",
          "Reclamation",
          null
         ]
        }
       ],
       "layout": {
        "hovermode": "closest",
        "legend": {
         "orientation": "h",
         "x": 0,
         "y": -0.2
        },
        "showlegend": false,
        "template": {
         "data": {
          "bar": [
           {
            "error_x": {
             "color": "#2a3f5f"
            },
            "error_y": {
             "color": "#2a3f5f"
            },
            "marker": {
             "line": {
              "color": "#E5ECF6",
              "width": 0.5
             },
             "pattern": {
              "fillmode": "overlay",
              "size": 10,
              "solidity": 0.2
             }
            },
            "type": "bar"
           }
          ],
          "barpolar": [
           {
            "marker": {
             "line": {
              "color": "#E5ECF6",
              "width": 0.5
             },
             "pattern": {
              "fillmode": "overlay",
              "size": 10,
              "solidity": 0.2
             }
            },
            "type": "barpolar"
           }
          ],
          "carpet": [
           {
            "aaxis": {
             "endlinecolor": "#2a3f5f",
             "gridcolor": "white",
             "linecolor": "white",
             "minorgridcolor": "white",
             "startlinecolor": "#2a3f5f"
            },
            "baxis": {
             "endlinecolor": "#2a3f5f",
             "gridcolor": "white",
             "linecolor": "white",
             "minorgridcolor": "white",
             "startlinecolor": "#2a3f5f"
            },
            "type": "carpet"
           }
          ],
          "choropleth": [
           {
            "colorbar": {
             "outlinewidth": 0,
             "ticks": ""
            },
            "type": "choropleth"
           }
          ],
          "contour": [
           {
            "colorbar": {
             "outlinewidth": 0,
             "ticks": ""
            },
            "colorscale": [
             [
              0,
              "#0d0887"
             ],
             [
              0.1111111111111111,
              "#46039f"
             ],
             [
              0.2222222222222222,
              "#7201a8"
             ],
             [
              0.3333333333333333,
              "#9c179e"
             ],
             [
              0.4444444444444444,
              "#bd3786"
             ],
             [
              0.5555555555555556,
              "#d8576b"
             ],
             [
              0.6666666666666666,
              "#ed7953"
             ],
             [
              0.7777777777777778,
              "#fb9f3a"
             ],
             [
              0.8888888888888888,
              "#fdca26"
             ],
             [
              1,
              "#f0f921"
             ]
            ],
            "type": "contour"
           }
          ],
          "contourcarpet": [
           {
            "colorbar": {
             "outlinewidth": 0,
             "ticks": ""
            },
            "type": "contourcarpet"
           }
          ],
          "heatmap": [
           {
            "colorbar": {
             "outlinewidth": 0,
             "ticks": ""
            },
            "colorscale": [
             [
              0,
              "#0d0887"
             ],
             [
              0.1111111111111111,
              "#46039f"
             ],
             [
              0.2222222222222222,
              "#7201a8"
             ],
             [
              0.3333333333333333,
              "#9c179e"
             ],
             [
              0.4444444444444444,
              "#bd3786"
             ],
             [
              0.5555555555555556,
              "#d8576b"
             ],
             [
              0.6666666666666666,
              "#ed7953"
             ],
             [
              0.7777777777777778,
              "#fb9f3a"
             ],
             [
              0.8888888888888888,
              "#fdca26"
             ],
             [
              1,
              "#f0f921"
             ]
            ],
            "type": "heatmap"
           }
          ],
          "heatmapgl": [
           {
            "colorbar": {
             "outlinewidth": 0,
             "ticks": ""
            },
            "colorscale": [
             [
              0,
              "#0d0887"
             ],
             [
              0.1111111111111111,
              "#46039f"
             ],
             [
              0.2222222222222222,
              "#7201a8"
             ],
             [
              0.3333333333333333,
              "#9c179e"
             ],
             [
              0.4444444444444444,
              "#bd3786"
             ],
             [
              0.5555555555555556,
              "#d8576b"
             ],
             [
              0.6666666666666666,
              "#ed7953"
             ],
             [
              0.7777777777777778,
              "#fb9f3a"
             ],
             [
              0.8888888888888888,
              "#fdca26"
             ],
             [
              1,
              "#f0f921"
             ]
            ],
            "type": "heatmapgl"
           }
          ],
          "histogram": [
           {
            "marker": {
             "pattern": {
              "fillmode": "overlay",
              "size": 10,
              "solidity": 0.2
             }
            },
            "type": "histogram"
           }
          ],
          "histogram2d": [
           {
            "colorbar": {
             "outlinewidth": 0,
             "ticks": ""
            },
            "colorscale": [
             [
              0,
              "#0d0887"
             ],
             [
              0.1111111111111111,
              "#46039f"
             ],
             [
              0.2222222222222222,
              "#7201a8"
             ],
             [
              0.3333333333333333,
              "#9c179e"
             ],
             [
              0.4444444444444444,
              "#bd3786"
             ],
             [
              0.5555555555555556,
              "#d8576b"
             ],
             [
              0.6666666666666666,
              "#ed7953"
             ],
             [
              0.7777777777777778,
              "#fb9f3a"
             ],
             [
              0.8888888888888888,
              "#fdca26"
             ],
             [
              1,
              "#f0f921"
             ]
            ],
            "type": "histogram2d"
           }
          ],
          "histogram2dcontour": [
           {
            "colorbar": {
             "outlinewidth": 0,
             "ticks": ""
            },
            "colorscale": [
             [
              0,
              "#0d0887"
             ],
             [
              0.1111111111111111,
              "#46039f"
             ],
             [
              0.2222222222222222,
              "#7201a8"
             ],
             [
              0.3333333333333333,
              "#9c179e"
             ],
             [
              0.4444444444444444,
              "#bd3786"
             ],
             [
              0.5555555555555556,
              "#d8576b"
             ],
             [
              0.6666666666666666,
              "#ed7953"
             ],
             [
              0.7777777777777778,
              "#fb9f3a"
             ],
             [
              0.8888888888888888,
              "#fdca26"
             ],
             [
              1,
              "#f0f921"
             ]
            ],
            "type": "histogram2dcontour"
           }
          ],
          "mesh3d": [
           {
            "colorbar": {
             "outlinewidth": 0,
             "ticks": ""
            },
            "type": "mesh3d"
           }
          ],
          "parcoords": [
           {
            "line": {
             "colorbar": {
              "outlinewidth": 0,
              "ticks": ""
             }
            },
            "type": "parcoords"
           }
          ],
          "pie": [
           {
            "automargin": true,
            "type": "pie"
           }
          ],
          "scatter": [
           {
            "fillpattern": {
             "fillmode": "overlay",
             "size": 10,
             "solidity": 0.2
            },
            "type": "scatter"
           }
          ],
          "scatter3d": [
           {
            "line": {
             "colorbar": {
              "outlinewidth": 0,
              "ticks": ""
             }
            },
            "marker": {
             "colorbar": {
              "outlinewidth": 0,
              "ticks": ""
             }
            },
            "type": "scatter3d"
           }
          ],
          "scattercarpet": [
           {
            "marker": {
             "colorbar": {
              "outlinewidth": 0,
              "ticks": ""
             }
            },
            "type": "scattercarpet"
           }
          ],
          "scattergeo": [
           {
            "marker": {
             "colorbar": {
              "outlinewidth": 0,
              "ticks": ""
             }
            },
            "type": "scattergeo"
           }
          ],
          "scattergl": [
           {
            "marker": {
             "colorbar": {
              "outlinewidth": 0,
              "ticks": ""
             }
            },
            "type": "scattergl"
           }
          ],
          "scattermapbox": [
           {
            "marker": {
             "colorbar": {
              "outlinewidth": 0,
              "ticks": ""
             }
            },
            "type": "scattermapbox"
           }
          ],
          "scatterpolar": [
           {
            "marker": {
             "colorbar": {
              "outlinewidth": 0,
              "ticks": ""
             }
            },
            "type": "scatterpolar"
           }
          ],
          "scatterpolargl": [
           {
            "marker": {
             "colorbar": {
              "outlinewidth": 0,
              "ticks": ""
             }
            },
            "type": "scatterpolargl"
           }
          ],
          "scatterternary": [
           {
            "marker": {
             "colorbar": {
              "outlinewidth": 0,
              "ticks": ""
             }
            },
            "type": "scatterternary"
           }
          ],
          "surface": [
           {
            "colorbar": {
             "outlinewidth": 0,
             "ticks": ""
            },
            "colorscale": [
             [
              0,
              "#0d0887"
             ],
             [
              0.1111111111111111,
              "#46039f"
             ],
             [
              0.2222222222222222,
              "#7201a8"
             ],
             [
              0.3333333333333333,
              "#9c179e"
             ],
             [
              0.4444444444444444,
              "#bd3786"
             ],
             [
              0.5555555555555556,
              "#d8576b"
             ],
             [
              0.6666666666666666,
              "#ed7953"
             ],
             [
              0.7777777777777778,
              "#fb9f3a"
             ],
             [
              0.8888888888888888,
              "#fdca26"
             ],
             [
              1,
              "#f0f921"
             ]
            ],
            "type": "surface"
           }
          ],
          "table": [
           {
            "cells": {
             "fill": {
              "color": "#EBF0F8"
             },
             "line": {
              "color": "white"
             }
            },
            "header": {
             "fill": {
              "color": "#C8D4E3"
             },
             "line": {
              "color": "white"
             }
            },
            "type": "table"
           }
          ]
         },
         "layout": {
          "annotationdefaults": {
           "arrowcolor": "#2a3f5f",
           "arrowhead": 0,
           "arrowwidth": 1
          },
          "autotypenumbers": "strict",
          "coloraxis": {
           "colorbar": {
            "outlinewidth": 0,
            "ticks": ""
           }
          },
          "colorscale": {
           "diverging": [
            [
             0,
             "#8e0152"
            ],
            [
             0.1,
             "#c51b7d"
            ],
            [
             0.2,
             "#de77ae"
            ],
            [
             0.3,
             "#f1b6da"
            ],
            [
             0.4,
             "#fde0ef"
            ],
            [
             0.5,
             "#f7f7f7"
            ],
            [
             0.6,
             "#e6f5d0"
            ],
            [
             0.7,
             "#b8e186"
            ],
            [
             0.8,
             "#7fbc41"
            ],
            [
             0.9,
             "#4d9221"
            ],
            [
             1,
             "#276419"
            ]
           ],
           "sequential": [
            [
             0,
             "#0d0887"
            ],
            [
             0.1111111111111111,
             "#46039f"
            ],
            [
             0.2222222222222222,
             "#7201a8"
            ],
            [
             0.3333333333333333,
             "#9c179e"
            ],
            [
             0.4444444444444444,
             "#bd3786"
            ],
            [
             0.5555555555555556,
             "#d8576b"
            ],
            [
             0.6666666666666666,
             "#ed7953"
            ],
            [
             0.7777777777777778,
             "#fb9f3a"
            ],
            [
             0.8888888888888888,
             "#fdca26"
            ],
            [
             1,
             "#f0f921"
            ]
           ],
           "sequentialminus": [
            [
             0,
             "#0d0887"
            ],
            [
             0.1111111111111111,
             "#46039f"
            ],
            [
             0.2222222222222222,
             "#7201a8"
            ],
            [
             0.3333333333333333,
             "#9c179e"
            ],
            [
             0.4444444444444444,
             "#bd3786"
            ],
            [
             0.5555555555555556,
             "#d8576b"
            ],
            [
             0.6666666666666666,
             "#ed7953"
            ],
            [
             0.7777777777777778,
             "#fb9f3a"
            ],
            [
             0.8888888888888888,
             "#fdca26"
            ],
            [
             1,
             "#f0f921"
            ]
           ]
          },
          "colorway": [
           "#636efa",
           "#EF553B",
           "#00cc96",
           "#ab63fa",
           "#FFA15A",
           "#19d3f3",
           "#FF6692",
           "#B6E880",
           "#FF97FF",
           "#FECB52"
          ],
          "font": {
           "color": "#2a3f5f"
          },
          "geo": {
           "bgcolor": "white",
           "lakecolor": "white",
           "landcolor": "#E5ECF6",
           "showlakes": true,
           "showland": true,
           "subunitcolor": "white"
          },
          "hoverlabel": {
           "align": "left"
          },
          "hovermode": "closest",
          "mapbox": {
           "style": "light"
          },
          "paper_bgcolor": "white",
          "plot_bgcolor": "#E5ECF6",
          "polar": {
           "angularaxis": {
            "gridcolor": "white",
            "linecolor": "white",
            "ticks": ""
           },
           "bgcolor": "#E5ECF6",
           "radialaxis": {
            "gridcolor": "white",
            "linecolor": "white",
            "ticks": ""
           }
          },
          "scene": {
           "xaxis": {
            "backgroundcolor": "#E5ECF6",
            "gridcolor": "white",
            "gridwidth": 2,
            "linecolor": "white",
            "showbackground": true,
            "ticks": "",
            "zerolinecolor": "white"
           },
           "yaxis": {
            "backgroundcolor": "#E5ECF6",
            "gridcolor": "white",
            "gridwidth": 2,
            "linecolor": "white",
            "showbackground": true,
            "ticks": "",
            "zerolinecolor": "white"
           },
           "zaxis": {
            "backgroundcolor": "#E5ECF6",
            "gridcolor": "white",
            "gridwidth": 2,
            "linecolor": "white",
            "showbackground": true,
            "ticks": "",
            "zerolinecolor": "white"
           }
          },
          "shapedefaults": {
           "line": {
            "color": "#2a3f5f"
           }
          },
          "ternary": {
           "aaxis": {
            "gridcolor": "white",
            "linecolor": "white",
            "ticks": ""
           },
           "baxis": {
            "gridcolor": "white",
            "linecolor": "white",
            "ticks": ""
           },
           "bgcolor": "#E5ECF6",
           "caxis": {
            "gridcolor": "white",
            "linecolor": "white",
            "ticks": ""
           }
          },
          "title": {
           "x": 0.05
          },
          "xaxis": {
           "automargin": true,
           "gridcolor": "white",
           "linecolor": "white",
           "ticks": "",
           "title": {
            "standoff": 15
           },
           "zerolinecolor": "white",
           "zerolinewidth": 2
          },
          "yaxis": {
           "automargin": true,
           "gridcolor": "white",
           "linecolor": "white",
           "ticks": "",
           "title": {
            "standoff": 15
           },
           "zerolinecolor": "white",
           "zerolinewidth": 2
          }
         }
        },
        "title": {
         "text": "Cutter T occupancy: 80.1duration actual: 63645.0"
        },
        "xaxis": {
         "range": [
          "1970-01-01T00:00:00",
          "1970-01-01T19:51:56"
         ],
         "title": {
          "font": {
           "color": "#7f7f7f",
           "family": "Courier New, monospace",
           "size": 18
          },
          "text": "Time"
         }
        },
        "yaxis": {
         "title": {
          "font": {
           "color": "#7f7f7f",
           "family": "Courier New, monospace",
           "size": 18
          },
          "text": "vesels"
         }
        }
       }
      },
      "text/html": [
       "<div>                            <div id=\"905bc4dc-0656-4487-a044-975c6bf48abc\" class=\"plotly-graph-div\" style=\"height:525px; width:100%;\"></div>            <script type=\"text/javascript\">                require([\"plotly\"], function(Plotly) {                    window.PLOTLYENV=window.PLOTLYENV || {};                                    if (document.getElementById(\"905bc4dc-0656-4487-a044-975c6bf48abc\")) {                    Plotly.newPlot(                        \"905bc4dc-0656-4487-a044-975c6bf48abc\",                        [{\"connectgaps\":false,\"hoverinfo\":\"name\",\"line\":{\"color\":\"red\",\"width\":14},\"mode\":\"lines\",\"name\":\"critical_path\",\"x\":[\"1970-01-01T00:00:00\",\"1970-01-01T00:36:25\",\"1970-01-01T00:36:25\",\"1970-01-01T00:36:25\",\"1970-01-01T01:09:45\",\"1970-01-01T01:09:45\",\"1970-01-01T00:36:25\",\"1970-01-01T01:09:45\",\"1970-01-01T01:09:45\",\"1970-01-01T00:36:25\",\"1970-01-01T01:09:45\",\"1970-01-01T01:09:45\",\"1970-01-01T01:09:45\",\"1970-01-01T01:43:05\",\"1970-01-01T01:43:05\",\"1970-01-01T01:09:45\",\"1970-01-01T01:43:05\",\"1970-01-01T01:43:05\",\"1970-01-01T01:09:45\",\"1970-01-01T01:43:05\",\"1970-01-01T01:43:05\",\"1970-01-01T01:43:05\",\"1970-01-01T02:16:25\",\"1970-01-01T02:16:25\",\"1970-01-01T01:43:05\",\"1970-01-01T02:16:25\",\"1970-01-01T02:16:25\",\"1970-01-01T01:43:05\",\"1970-01-01T02:16:25\",\"1970-01-01T02:16:25\",\"1970-01-01T02:16:25\",\"1970-01-01T02:58:05\",\"1970-01-01T02:58:05\",\"1970-01-01T02:16:25\",\"1970-01-01T02:58:05\",\"1970-01-01T02:58:05\",\"1970-01-01T02:16:25\",\"1970-01-01T02:58:05\",\"1970-01-01T02:58:05\",\"1970-01-01T02:58:05\",\"1970-01-01T03:45:28\",\"1970-01-01T03:45:28\",\"1970-01-01T03:45:28\",\"1970-01-01T04:32:51\",\"1970-01-01T04:32:51\",\"1970-01-01T03:45:28\",\"1970-01-01T04:32:51\",\"1970-01-01T04:32:51\",\"1970-01-01T04:32:51\",\"1970-01-01T05:20:14\",\"1970-01-01T05:20:14\",\"1970-01-01T05:20:14\",\"1970-01-01T06:01:54\",\"1970-01-01T06:01:54\",\"1970-01-01T05:20:14\",\"1970-01-01T06:01:54\",\"1970-01-01T06:01:54\",\"1970-01-01T05:20:14\",\"1970-01-01T06:01:54\",\"1970-01-01T06:01:54\",\"1970-01-01T06:01:54\",\"1970-01-01T06:49:17\",\"1970-01-01T06:49:17\",\"1970-01-01T06:49:17\",\"1970-01-01T07:36:40\",\"1970-01-01T07:36:40\",\"1970-01-01T06:49:17\",\"1970-01-01T07:36:40\",\"1970-01-01T07:36:40\",\"1970-01-01T07:36:40\",\"1970-01-01T08:24:03\",\"1970-01-01T08:24:03\",\"1970-01-01T08:24:03\",\"1970-01-01T09:05:43\",\"1970-01-01T09:05:43\",\"1970-01-01T08:24:03\",\"1970-01-01T09:05:43\",\"1970-01-01T09:05:43\",\"1970-01-01T08:24:03\",\"1970-01-01T09:05:43\",\"1970-01-01T09:05:43\",\"1970-01-01T09:05:43\",\"1970-01-01T09:53:06\",\"1970-01-01T09:53:06\",\"1970-01-01T09:53:06\",\"1970-01-01T10:40:29\",\"1970-01-01T10:40:29\",\"1970-01-01T09:53:06\",\"1970-01-01T10:40:29\",\"1970-01-01T10:40:29\",\"1970-01-01T10:40:29\",\"1970-01-01T11:27:52\",\"1970-01-01T11:27:52\",\"1970-01-01T11:27:52\",\"1970-01-01T12:09:32\",\"1970-01-01T12:09:32\",\"1970-01-01T11:27:52\",\"1970-01-01T12:09:32\",\"1970-01-01T12:09:32\",\"1970-01-01T11:27:52\",\"1970-01-01T12:09:32\",\"1970-01-01T12:09:32\",\"1970-01-01T12:09:32\",\"1970-01-01T12:56:55\",\"1970-01-01T12:56:55\",\"1970-01-01T12:56:55\",\"1970-01-01T13:44:18\",\"1970-01-01T13:44:18\",\"1970-01-01T12:56:55\",\"1970-01-01T13:44:18\",\"1970-01-01T13:44:18\",\"1970-01-01T13:44:18\",\"1970-01-01T14:31:41\",\"1970-01-01T14:31:41\",\"1970-01-01T14:31:41\",\"1970-01-01T15:13:21\",\"1970-01-01T15:13:21\",\"1970-01-01T14:31:41\",\"1970-01-01T15:13:21\",\"1970-01-01T15:13:21\",\"1970-01-01T14:31:41\",\"1970-01-01T15:13:21\",\"1970-01-01T15:13:21\",\"1970-01-01T15:13:21\",\"1970-01-01T16:00:44\",\"1970-01-01T16:00:44\",\"1970-01-01T16:00:44\",\"1970-01-01T16:48:07\",\"1970-01-01T16:48:07\",\"1970-01-01T16:00:44\",\"1970-01-01T16:48:07\",\"1970-01-01T16:48:07\",\"1970-01-01T16:48:07\",\"1970-01-01T17:35:30\",\"1970-01-01T17:35:30\",\"1970-01-01T17:35:30\",\"1970-01-01T18:17:10\",\"1970-01-01T18:17:10\",\"1970-01-01T17:35:30\",\"1970-01-01T18:17:10\",\"1970-01-01T18:17:10\",\"1970-01-01T17:35:30\",\"1970-01-01T18:17:10\",\"1970-01-01T18:17:10\",\"1970-01-01T18:17:10\",\"1970-01-01T19:04:33\",\"1970-01-01T19:04:33\",\"1970-01-01T19:04:33\",\"1970-01-01T19:51:56\",\"1970-01-01T19:51:56\",\"1970-01-01T19:04:33\",\"1970-01-01T19:51:56\",\"1970-01-01T19:51:56\"],\"y\":[\"Carrier C\",\"Carrier C\",null,\"Carrier C\",\"Carrier C\",null,\"Cutter T\",\"Cutter T\",null,\"Trench\",\"Trench\",null,\"Carrier B\",\"Carrier B\",null,\"Cutter T\",\"Cutter T\",null,\"Trench\",\"Trench\",null,\"Barge I\",\"Barge I\",null,\"Cutter T\",\"Cutter T\",null,\"Trench\",\"Trench\",null,\"Carrier A\",\"Carrier A\",null,\"Cutter T\",\"Cutter T\",null,\"Trench\",\"Trench\",null,\"Carrier A\",\"Carrier A\",null,\"Carrier A\",\"Carrier A\",null,\"Reclamation\",\"Reclamation\",null,\"Carrier A\",\"Carrier A\",null,\"Carrier A\",\"Carrier A\",null,\"Cutter T\",\"Cutter T\",null,\"Trench\",\"Trench\",null,\"Carrier A\",\"Carrier A\",null,\"Carrier A\",\"Carrier A\",null,\"Reclamation\",\"Reclamation\",null,\"Carrier A\",\"Carrier A\",null,\"Carrier A\",\"Carrier A\",null,\"Cutter T\",\"Cutter T\",null,\"Trench\",\"Trench\",null,\"Carrier A\",\"Carrier A\",null,\"Carrier A\",\"Carrier A\",null,\"Reclamation\",\"Reclamation\",null,\"Carrier A\",\"Carrier A\",null,\"Carrier A\",\"Carrier A\",null,\"Cutter T\",\"Cutter T\",null,\"Trench\",\"Trench\",null,\"Carrier A\",\"Carrier A\",null,\"Carrier A\",\"Carrier A\",null,\"Reclamation\",\"Reclamation\",null,\"Carrier A\",\"Carrier A\",null,\"Carrier A\",\"Carrier A\",null,\"Cutter T\",\"Cutter T\",null,\"Trench\",\"Trench\",null,\"Carrier A\",\"Carrier A\",null,\"Carrier A\",\"Carrier A\",null,\"Reclamation\",\"Reclamation\",null,\"Carrier A\",\"Carrier A\",null,\"Carrier A\",\"Carrier A\",null,\"Cutter T\",\"Cutter T\",null,\"Trench\",\"Trench\",null,\"Carrier A\",\"Carrier A\",null,\"Carrier A\",\"Carrier A\",null,\"Reclamation\",\"Reclamation\",null],\"type\":\"scatter\"},{\"connectgaps\":false,\"hoverinfo\":\"y+name\",\"line\":{\"color\":\"rgb(146,122,6)\",\"width\":10},\"mode\":\"lines\",\"name\":\"sailing empty:Carrier A\",\"x\":[\"1970-01-01T00:00:00\",\"1970-01-01T00:00:00\",\"1970-01-01T00:47:23\",\"1970-01-01T00:47:23\",\"1970-01-01T00:47:23\",\"1970-01-01T04:32:51\",\"1970-01-01T04:32:51\",\"1970-01-01T05:20:14\",\"1970-01-01T05:20:14\",\"1970-01-01T05:20:14\",\"1970-01-01T07:36:40\",\"1970-01-01T07:36:40\",\"1970-01-01T08:24:03\",\"1970-01-01T08:24:03\",\"1970-01-01T08:24:03\",\"1970-01-01T10:40:29\",\"1970-01-01T10:40:29\",\"1970-01-01T11:27:52\",\"1970-01-01T11:27:52\",\"1970-01-01T11:27:52\",\"1970-01-01T13:44:18\",\"1970-01-01T13:44:18\",\"1970-01-01T14:31:41\",\"1970-01-01T14:31:41\",\"1970-01-01T14:31:41\",\"1970-01-01T16:48:07\",\"1970-01-01T16:48:07\",\"1970-01-01T17:35:30\",\"1970-01-01T17:35:30\",\"1970-01-01T17:35:30\"],\"y\":[\"Carrier A\",\"Carrier A\",\"Carrier A\",\"Carrier A\",null,\"Carrier A\",\"Carrier A\",\"Carrier A\",\"Carrier A\",null,\"Carrier A\",\"Carrier A\",\"Carrier A\",\"Carrier A\",null,\"Carrier A\",\"Carrier A\",\"Carrier A\",\"Carrier A\",null,\"Carrier A\",\"Carrier A\",\"Carrier A\",\"Carrier A\",null,\"Carrier A\",\"Carrier A\",\"Carrier A\",\"Carrier A\",null],\"type\":\"scatter\"},{\"connectgaps\":false,\"hoverinfo\":\"y+name\",\"line\":{\"color\":\"rgb(155,131,15)\",\"width\":10},\"mode\":\"lines\",\"name\":\"loading:Carrier A\",\"x\":[\"1970-01-01T02:16:25\",\"1970-01-01T02:16:25\",\"1970-01-01T02:58:05\",\"1970-01-01T02:58:05\",\"1970-01-01T02:58:05\",\"1970-01-01T05:20:14\",\"1970-01-01T05:20:14\",\"1970-01-01T06:01:54\",\"1970-01-01T06:01:54\",\"1970-01-01T06:01:54\",\"1970-01-01T08:24:03\",\"1970-01-01T08:24:03\",\"1970-01-01T09:05:43\",\"1970-01-01T09:05:43\",\"1970-01-01T09:05:43\",\"1970-01-01T11:27:52\",\"1970-01-01T11:27:52\",\"1970-01-01T12:09:32\",\"1970-01-01T12:09:32\",\"1970-01-01T12:09:32\",\"1970-01-01T14:31:41\",\"1970-01-01T14:31:41\",\"1970-01-01T15:13:21\",\"1970-01-01T15:13:21\",\"1970-01-01T15:13:21\",\"1970-01-01T17:35:30\",\"1970-01-01T17:35:30\",\"1970-01-01T18:17:10\",\"1970-01-01T18:17:10\",\"1970-01-01T18:17:10\",\"1970-01-01T02:16:25\",\"1970-01-01T02:16:25\",\"1970-01-01T02:58:05\",\"1970-01-01T02:58:05\",\"1970-01-01T02:58:05\",\"1970-01-01T05:20:14\",\"1970-01-01T05:20:14\",\"1970-01-01T06:01:54\",\"1970-01-01T06:01:54\",\"1970-01-01T06:01:54\",\"1970-01-01T08:24:03\",\"1970-01-01T08:24:03\",\"1970-01-01T09:05:43\",\"1970-01-01T09:05:43\",\"1970-01-01T09:05:43\",\"1970-01-01T11:27:52\",\"1970-01-01T11:27:52\",\"1970-01-01T12:09:32\",\"1970-01-01T12:09:32\",\"1970-01-01T12:09:32\",\"1970-01-01T14:31:41\",\"1970-01-01T14:31:41\",\"1970-01-01T15:13:21\",\"1970-01-01T15:13:21\",\"1970-01-01T15:13:21\",\"1970-01-01T17:35:30\",\"1970-01-01T17:35:30\",\"1970-01-01T18:17:10\",\"1970-01-01T18:17:10\",\"1970-01-01T18:17:10\",\"1970-01-01T02:16:25\",\"1970-01-01T02:16:25\",\"1970-01-01T02:58:05\",\"1970-01-01T02:58:05\",\"1970-01-01T02:58:05\",\"1970-01-01T05:20:14\",\"1970-01-01T05:20:14\",\"1970-01-01T06:01:54\",\"1970-01-01T06:01:54\",\"1970-01-01T06:01:54\",\"1970-01-01T08:24:03\",\"1970-01-01T08:24:03\",\"1970-01-01T09:05:43\",\"1970-01-01T09:05:43\",\"1970-01-01T09:05:43\",\"1970-01-01T11:27:52\",\"1970-01-01T11:27:52\",\"1970-01-01T12:09:32\",\"1970-01-01T12:09:32\",\"1970-01-01T12:09:32\",\"1970-01-01T14:31:41\",\"1970-01-01T14:31:41\",\"1970-01-01T15:13:21\",\"1970-01-01T15:13:21\",\"1970-01-01T15:13:21\",\"1970-01-01T17:35:30\",\"1970-01-01T17:35:30\",\"1970-01-01T18:17:10\",\"1970-01-01T18:17:10\",\"1970-01-01T18:17:10\"],\"y\":[\"Carrier A\",\"Carrier A\",\"Carrier A\",\"Carrier A\",null,\"Carrier A\",\"Carrier A\",\"Carrier A\",\"Carrier A\",null,\"Carrier A\",\"Carrier A\",\"Carrier A\",\"Carrier A\",null,\"Carrier A\",\"Carrier A\",\"Carrier A\",\"Carrier A\",null,\"Carrier A\",\"Carrier A\",\"Carrier A\",\"Carrier A\",null,\"Carrier A\",\"Carrier A\",\"Carrier A\",\"Carrier A\",null,\"Cutter T\",\"Cutter T\",\"Cutter T\",\"Cutter T\",null,\"Cutter T\",\"Cutter T\",\"Cutter T\",\"Cutter T\",null,\"Cutter T\",\"Cutter T\",\"Cutter T\",\"Cutter T\",null,\"Cutter T\",\"Cutter T\",\"Cutter T\",\"Cutter T\",null,\"Cutter T\",\"Cutter T\",\"Cutter T\",\"Cutter T\",null,\"Cutter T\",\"Cutter T\",\"Cutter T\",\"Cutter T\",null,\"Trench\",\"Trench\",\"Trench\",\"Trench\",null,\"Trench\",\"Trench\",\"Trench\",\"Trench\",null,\"Trench\",\"Trench\",\"Trench\",\"Trench\",null,\"Trench\",\"Trench\",\"Trench\",\"Trench\",null,\"Trench\",\"Trench\",\"Trench\",\"Trench\",null,\"Trench\",\"Trench\",\"Trench\",\"Trench\",null],\"type\":\"scatter\"},{\"connectgaps\":false,\"hoverinfo\":\"y+name\",\"line\":{\"color\":\"rgb(164,140,24)\",\"width\":10},\"mode\":\"lines\",\"name\":\"sailing full:Carrier A\",\"x\":[\"1970-01-01T02:58:05\",\"1970-01-01T02:58:05\",\"1970-01-01T03:45:28\",\"1970-01-01T03:45:28\",\"1970-01-01T03:45:28\",\"1970-01-01T06:01:54\",\"1970-01-01T06:01:54\",\"1970-01-01T06:49:17\",\"1970-01-01T06:49:17\",\"1970-01-01T06:49:17\",\"1970-01-01T09:05:43\",\"1970-01-01T09:05:43\",\"1970-01-01T09:53:06\",\"1970-01-01T09:53:06\",\"1970-01-01T09:53:06\",\"1970-01-01T12:09:32\",\"1970-01-01T12:09:32\",\"1970-01-01T12:56:55\",\"1970-01-01T12:56:55\",\"1970-01-01T12:56:55\",\"1970-01-01T15:13:21\",\"1970-01-01T15:13:21\",\"1970-01-01T16:00:44\",\"1970-01-01T16:00:44\",\"1970-01-01T16:00:44\",\"1970-01-01T18:17:10\",\"1970-01-01T18:17:10\",\"1970-01-01T19:04:33\",\"1970-01-01T19:04:33\",\"1970-01-01T19:04:33\"],\"y\":[\"Carrier A\",\"Carrier A\",\"Carrier A\",\"Carrier A\",null,\"Carrier A\",\"Carrier A\",\"Carrier A\",\"Carrier A\",null,\"Carrier A\",\"Carrier A\",\"Carrier A\",\"Carrier A\",null,\"Carrier A\",\"Carrier A\",\"Carrier A\",\"Carrier A\",null,\"Carrier A\",\"Carrier A\",\"Carrier A\",\"Carrier A\",null,\"Carrier A\",\"Carrier A\",\"Carrier A\",\"Carrier A\",null],\"type\":\"scatter\"},{\"connectgaps\":false,\"hoverinfo\":\"y+name\",\"line\":{\"color\":\"rgb(173,149,33)\",\"width\":10},\"mode\":\"lines\",\"name\":\"unloading:Carrier A\",\"x\":[\"1970-01-01T03:45:28\",\"1970-01-01T03:45:28\",\"1970-01-01T04:32:51\",\"1970-01-01T04:32:51\",\"1970-01-01T04:32:51\",\"1970-01-01T06:49:17\",\"1970-01-01T06:49:17\",\"1970-01-01T07:36:40\",\"1970-01-01T07:36:40\",\"1970-01-01T07:36:40\",\"1970-01-01T09:53:06\",\"1970-01-01T09:53:06\",\"1970-01-01T10:40:29\",\"1970-01-01T10:40:29\",\"1970-01-01T10:40:29\",\"1970-01-01T12:56:55\",\"1970-01-01T12:56:55\",\"1970-01-01T13:44:18\",\"1970-01-01T13:44:18\",\"1970-01-01T13:44:18\",\"1970-01-01T16:00:44\",\"1970-01-01T16:00:44\",\"1970-01-01T16:48:07\",\"1970-01-01T16:48:07\",\"1970-01-01T16:48:07\",\"1970-01-01T19:04:33\",\"1970-01-01T19:04:33\",\"1970-01-01T19:51:56\",\"1970-01-01T19:51:56\",\"1970-01-01T19:51:56\",\"1970-01-01T03:45:28\",\"1970-01-01T03:45:28\",\"1970-01-01T04:32:51\",\"1970-01-01T04:32:51\",\"1970-01-01T04:32:51\",\"1970-01-01T06:49:17\",\"1970-01-01T06:49:17\",\"1970-01-01T07:36:40\",\"1970-01-01T07:36:40\",\"1970-01-01T07:36:40\",\"1970-01-01T09:53:06\",\"1970-01-01T09:53:06\",\"1970-01-01T10:40:29\",\"1970-01-01T10:40:29\",\"1970-01-01T10:40:29\",\"1970-01-01T12:56:55\",\"1970-01-01T12:56:55\",\"1970-01-01T13:44:18\",\"1970-01-01T13:44:18\",\"1970-01-01T13:44:18\",\"1970-01-01T16:00:44\",\"1970-01-01T16:00:44\",\"1970-01-01T16:48:07\",\"1970-01-01T16:48:07\",\"1970-01-01T16:48:07\",\"1970-01-01T19:04:33\",\"1970-01-01T19:04:33\",\"1970-01-01T19:51:56\",\"1970-01-01T19:51:56\",\"1970-01-01T19:51:56\"],\"y\":[\"Carrier A\",\"Carrier A\",\"Carrier A\",\"Carrier A\",null,\"Carrier A\",\"Carrier A\",\"Carrier A\",\"Carrier A\",null,\"Carrier A\",\"Carrier A\",\"Carrier A\",\"Carrier A\",null,\"Carrier A\",\"Carrier A\",\"Carrier A\",\"Carrier A\",null,\"Carrier A\",\"Carrier A\",\"Carrier A\",\"Carrier A\",null,\"Carrier A\",\"Carrier A\",\"Carrier A\",\"Carrier A\",null,\"Reclamation\",\"Reclamation\",\"Reclamation\",\"Reclamation\",null,\"Reclamation\",\"Reclamation\",\"Reclamation\",\"Reclamation\",null,\"Reclamation\",\"Reclamation\",\"Reclamation\",\"Reclamation\",null,\"Reclamation\",\"Reclamation\",\"Reclamation\",\"Reclamation\",null,\"Reclamation\",\"Reclamation\",\"Reclamation\",\"Reclamation\",null,\"Reclamation\",\"Reclamation\",\"Reclamation\",\"Reclamation\",null],\"type\":\"scatter\"},{\"connectgaps\":false,\"hoverinfo\":\"y+name\",\"line\":{\"color\":\"rgb(182,158,42)\",\"width\":10},\"mode\":\"lines\",\"name\":\"unloading:Carrier B\",\"x\":[\"1970-01-01T02:23:45\",\"1970-01-01T02:23:45\",\"1970-01-01T03:04:25\",\"1970-01-01T03:04:25\",\"1970-01-01T03:04:25\",\"1970-01-01T04:59:05\",\"1970-01-01T04:59:05\",\"1970-01-01T05:39:45\",\"1970-01-01T05:39:45\",\"1970-01-01T05:39:45\",\"1970-01-01T07:49:14\",\"1970-01-01T07:49:14\",\"1970-01-01T08:29:54\",\"1970-01-01T08:29:54\",\"1970-01-01T08:29:54\",\"1970-01-01T10:53:03\",\"1970-01-01T10:53:03\",\"1970-01-01T11:33:43\",\"1970-01-01T11:33:43\",\"1970-01-01T11:33:43\",\"1970-01-01T13:56:52\",\"1970-01-01T13:56:52\",\"1970-01-01T14:37:32\",\"1970-01-01T14:37:32\",\"1970-01-01T14:37:32\",\"1970-01-01T17:00:41\",\"1970-01-01T17:00:41\",\"1970-01-01T17:41:21\",\"1970-01-01T17:41:21\",\"1970-01-01T17:41:21\",\"1970-01-01T02:23:45\",\"1970-01-01T02:23:45\",\"1970-01-01T03:04:25\",\"1970-01-01T03:04:25\",\"1970-01-01T03:04:25\",\"1970-01-01T04:59:05\",\"1970-01-01T04:59:05\",\"1970-01-01T05:39:45\",\"1970-01-01T05:39:45\",\"1970-01-01T05:39:45\",\"1970-01-01T07:49:14\",\"1970-01-01T07:49:14\",\"1970-01-01T08:29:54\",\"1970-01-01T08:29:54\",\"1970-01-01T08:29:54\",\"1970-01-01T10:53:03\",\"1970-01-01T10:53:03\",\"1970-01-01T11:33:43\",\"1970-01-01T11:33:43\",\"1970-01-01T11:33:43\",\"1970-01-01T13:56:52\",\"1970-01-01T13:56:52\",\"1970-01-01T14:37:32\",\"1970-01-01T14:37:32\",\"1970-01-01T14:37:32\",\"1970-01-01T17:00:41\",\"1970-01-01T17:00:41\",\"1970-01-01T17:41:21\",\"1970-01-01T17:41:21\",\"1970-01-01T17:41:21\"],\"y\":[\"Carrier B\",\"Carrier B\",\"Carrier B\",\"Carrier B\",null,\"Carrier B\",\"Carrier B\",\"Carrier B\",\"Carrier B\",null,\"Carrier B\",\"Carrier B\",\"Carrier B\",\"Carrier B\",null,\"Carrier B\",\"Carrier B\",\"Carrier B\",\"Carrier B\",null,\"Carrier B\",\"Carrier B\",\"Carrier B\",\"Carrier B\",null,\"Carrier B\",\"Carrier B\",\"Carrier B\",\"Carrier B\",null,\"Reclamation\",\"Reclamation\",\"Reclamation\",\"Reclamation\",null,\"Reclamation\",\"Reclamation\",\"Reclamation\",\"Reclamation\",null,\"Reclamation\",\"Reclamation\",\"Reclamation\",\"Reclamation\",null,\"Reclamation\",\"Reclamation\",\"Reclamation\",\"Reclamation\",null,\"Reclamation\",\"Reclamation\",\"Reclamation\",\"Reclamation\",null,\"Reclamation\",\"Reclamation\",\"Reclamation\",\"Reclamation\",null],\"type\":\"scatter\"},{\"connectgaps\":false,\"hoverinfo\":\"y+name\",\"line\":{\"color\":\"rgb(191,167,51)\",\"width\":10},\"mode\":\"lines\",\"name\":\"sailing full:Carrier B\",\"x\":[\"1970-01-01T01:43:05\",\"1970-01-01T01:43:05\",\"1970-01-01T02:23:45\",\"1970-01-01T02:23:45\",\"1970-01-01T02:23:45\",\"1970-01-01T04:18:25\",\"1970-01-01T04:18:25\",\"1970-01-01T04:59:05\",\"1970-01-01T04:59:05\",\"1970-01-01T04:59:05\",\"1970-01-01T07:08:34\",\"1970-01-01T07:08:34\",\"1970-01-01T07:49:14\",\"1970-01-01T07:49:14\",\"1970-01-01T07:49:14\",\"1970-01-01T10:12:23\",\"1970-01-01T10:12:23\",\"1970-01-01T10:53:03\",\"1970-01-01T10:53:03\",\"1970-01-01T10:53:03\",\"1970-01-01T13:16:12\",\"1970-01-01T13:16:12\",\"1970-01-01T13:56:52\",\"1970-01-01T13:56:52\",\"1970-01-01T13:56:52\",\"1970-01-01T16:20:01\",\"1970-01-01T16:20:01\",\"1970-01-01T17:00:41\",\"1970-01-01T17:00:41\",\"1970-01-01T17:00:41\"],\"y\":[\"Carrier B\",\"Carrier B\",\"Carrier B\",\"Carrier B\",null,\"Carrier B\",\"Carrier B\",\"Carrier B\",\"Carrier B\",null,\"Carrier B\",\"Carrier B\",\"Carrier B\",\"Carrier B\",null,\"Carrier B\",\"Carrier B\",\"Carrier B\",\"Carrier B\",null,\"Carrier B\",\"Carrier B\",\"Carrier B\",\"Carrier B\",null,\"Carrier B\",\"Carrier B\",\"Carrier B\",\"Carrier B\",null],\"type\":\"scatter\"},{\"connectgaps\":false,\"hoverinfo\":\"y+name\",\"line\":{\"color\":\"rgb(200,176,60)\",\"width\":10},\"mode\":\"lines\",\"name\":\"sailing empty:Carrier B\",\"x\":[\"1970-01-01T00:00:00\",\"1970-01-01T00:00:00\",\"1970-01-01T00:40:40\",\"1970-01-01T00:40:40\",\"1970-01-01T00:40:40\",\"1970-01-01T03:04:25\",\"1970-01-01T03:04:25\",\"1970-01-01T03:45:05\",\"1970-01-01T03:45:05\",\"1970-01-01T03:45:05\",\"1970-01-01T05:39:45\",\"1970-01-01T05:39:45\",\"1970-01-01T06:20:25\",\"1970-01-01T06:20:25\",\"1970-01-01T06:20:25\",\"1970-01-01T08:29:54\",\"1970-01-01T08:29:54\",\"1970-01-01T09:10:34\",\"1970-01-01T09:10:34\",\"1970-01-01T09:10:34\",\"1970-01-01T11:33:43\",\"1970-01-01T11:33:43\",\"1970-01-01T12:14:23\",\"1970-01-01T12:14:23\",\"1970-01-01T12:14:23\",\"1970-01-01T14:37:32\",\"1970-01-01T14:37:32\",\"1970-01-01T15:18:12\",\"1970-01-01T15:18:12\",\"1970-01-01T15:18:12\"],\"y\":[\"Carrier B\",\"Carrier B\",\"Carrier B\",\"Carrier B\",null,\"Carrier B\",\"Carrier B\",\"Carrier B\",\"Carrier B\",null,\"Carrier B\",\"Carrier B\",\"Carrier B\",\"Carrier B\",null,\"Carrier B\",\"Carrier B\",\"Carrier B\",\"Carrier B\",null,\"Carrier B\",\"Carrier B\",\"Carrier B\",\"Carrier B\",null,\"Carrier B\",\"Carrier B\",\"Carrier B\",\"Carrier B\",null],\"type\":\"scatter\"},{\"connectgaps\":false,\"hoverinfo\":\"y+name\",\"line\":{\"color\":\"rgb(209,185,69)\",\"width\":10},\"mode\":\"lines\",\"name\":\"loading:Carrier B\",\"x\":[\"1970-01-01T01:09:45\",\"1970-01-01T01:09:45\",\"1970-01-01T01:43:05\",\"1970-01-01T01:43:05\",\"1970-01-01T01:43:05\",\"1970-01-01T03:45:05\",\"1970-01-01T03:45:05\",\"1970-01-01T04:18:25\",\"1970-01-01T04:18:25\",\"1970-01-01T04:18:25\",\"1970-01-01T06:35:14\",\"1970-01-01T06:35:14\",\"1970-01-01T07:08:34\",\"1970-01-01T07:08:34\",\"1970-01-01T07:08:34\",\"1970-01-01T09:39:03\",\"1970-01-01T09:39:03\",\"1970-01-01T10:12:23\",\"1970-01-01T10:12:23\",\"1970-01-01T10:12:23\",\"1970-01-01T12:42:52\",\"1970-01-01T12:42:52\",\"1970-01-01T13:16:12\",\"1970-01-01T13:16:12\",\"1970-01-01T13:16:12\",\"1970-01-01T15:46:41\",\"1970-01-01T15:46:41\",\"1970-01-01T16:20:01\",\"1970-01-01T16:20:01\",\"1970-01-01T16:20:01\",\"1970-01-01T01:09:45\",\"1970-01-01T01:09:45\",\"1970-01-01T01:43:05\",\"1970-01-01T01:43:05\",\"1970-01-01T01:43:05\",\"1970-01-01T03:45:05\",\"1970-01-01T03:45:05\",\"1970-01-01T04:18:25\",\"1970-01-01T04:18:25\",\"1970-01-01T04:18:25\",\"1970-01-01T06:35:14\",\"1970-01-01T06:35:14\",\"1970-01-01T07:08:34\",\"1970-01-01T07:08:34\",\"1970-01-01T07:08:34\",\"1970-01-01T09:39:03\",\"1970-01-01T09:39:03\",\"1970-01-01T10:12:23\",\"1970-01-01T10:12:23\",\"1970-01-01T10:12:23\",\"1970-01-01T12:42:52\",\"1970-01-01T12:42:52\",\"1970-01-01T13:16:12\",\"1970-01-01T13:16:12\",\"1970-01-01T13:16:12\",\"1970-01-01T15:46:41\",\"1970-01-01T15:46:41\",\"1970-01-01T16:20:01\",\"1970-01-01T16:20:01\",\"1970-01-01T16:20:01\",\"1970-01-01T01:09:45\",\"1970-01-01T01:09:45\",\"1970-01-01T01:43:05\",\"1970-01-01T01:43:05\",\"1970-01-01T01:43:05\",\"1970-01-01T03:45:05\",\"1970-01-01T03:45:05\",\"1970-01-01T04:18:25\",\"1970-01-01T04:18:25\",\"1970-01-01T04:18:25\",\"1970-01-01T06:35:14\",\"1970-01-01T06:35:14\",\"1970-01-01T07:08:34\",\"1970-01-01T07:08:34\",\"1970-01-01T07:08:34\",\"1970-01-01T09:39:03\",\"1970-01-01T09:39:03\",\"1970-01-01T10:12:23\",\"1970-01-01T10:12:23\",\"1970-01-01T10:12:23\",\"1970-01-01T12:42:52\",\"1970-01-01T12:42:52\",\"1970-01-01T13:16:12\",\"1970-01-01T13:16:12\",\"1970-01-01T13:16:12\",\"1970-01-01T15:46:41\",\"1970-01-01T15:46:41\",\"1970-01-01T16:20:01\",\"1970-01-01T16:20:01\",\"1970-01-01T16:20:01\"],\"y\":[\"Carrier B\",\"Carrier B\",\"Carrier B\",\"Carrier B\",null,\"Carrier B\",\"Carrier B\",\"Carrier B\",\"Carrier B\",null,\"Carrier B\",\"Carrier B\",\"Carrier B\",\"Carrier B\",null,\"Carrier B\",\"Carrier B\",\"Carrier B\",\"Carrier B\",null,\"Carrier B\",\"Carrier B\",\"Carrier B\",\"Carrier B\",null,\"Carrier B\",\"Carrier B\",\"Carrier B\",\"Carrier B\",null,\"Cutter T\",\"Cutter T\",\"Cutter T\",\"Cutter T\",null,\"Cutter T\",\"Cutter T\",\"Cutter T\",\"Cutter T\",null,\"Cutter T\",\"Cutter T\",\"Cutter T\",\"Cutter T\",null,\"Cutter T\",\"Cutter T\",\"Cutter T\",\"Cutter T\",null,\"Cutter T\",\"Cutter T\",\"Cutter T\",\"Cutter T\",null,\"Cutter T\",\"Cutter T\",\"Cutter T\",\"Cutter T\",null,\"Trench\",\"Trench\",\"Trench\",\"Trench\",null,\"Trench\",\"Trench\",\"Trench\",\"Trench\",null,\"Trench\",\"Trench\",\"Trench\",\"Trench\",null,\"Trench\",\"Trench\",\"Trench\",\"Trench\",null,\"Trench\",\"Trench\",\"Trench\",\"Trench\",null,\"Trench\",\"Trench\",\"Trench\",\"Trench\",null],\"type\":\"scatter\"},{\"connectgaps\":false,\"hoverinfo\":\"y+name\",\"line\":{\"color\":\"rgb(218,194,78)\",\"width\":10},\"mode\":\"lines\",\"name\":\"sailing empty:Carrier C\",\"x\":[\"1970-01-01T00:00:00\",\"1970-01-01T00:00:00\",\"1970-01-01T00:36:25\",\"1970-01-01T00:36:25\",\"1970-01-01T00:36:25\",\"1970-01-01T02:22:35\",\"1970-01-01T02:22:35\",\"1970-01-01T02:59:00\",\"1970-01-01T02:59:00\",\"1970-01-01T02:59:00\",\"1970-01-01T04:45:10\",\"1970-01-01T04:45:10\",\"1970-01-01T05:21:35\",\"1970-01-01T05:21:35\",\"1970-01-01T05:21:35\",\"1970-01-01T07:48:04\",\"1970-01-01T07:48:04\",\"1970-01-01T08:24:29\",\"1970-01-01T08:24:29\",\"1970-01-01T08:24:29\",\"1970-01-01T10:51:53\",\"1970-01-01T10:51:53\",\"1970-01-01T11:28:18\",\"1970-01-01T11:28:18\",\"1970-01-01T11:28:18\",\"1970-01-01T13:55:42\",\"1970-01-01T13:55:42\",\"1970-01-01T14:32:07\",\"1970-01-01T14:32:07\",\"1970-01-01T14:32:07\"],\"y\":[\"Carrier C\",\"Carrier C\",\"Carrier C\",\"Carrier C\",null,\"Carrier C\",\"Carrier C\",\"Carrier C\",\"Carrier C\",null,\"Carrier C\",\"Carrier C\",\"Carrier C\",\"Carrier C\",null,\"Carrier C\",\"Carrier C\",\"Carrier C\",\"Carrier C\",null,\"Carrier C\",\"Carrier C\",\"Carrier C\",\"Carrier C\",null,\"Carrier C\",\"Carrier C\",\"Carrier C\",\"Carrier C\",null],\"type\":\"scatter\"},{\"connectgaps\":false,\"hoverinfo\":\"y+name\",\"line\":{\"color\":\"rgb(227,203,87)\",\"width\":10},\"mode\":\"lines\",\"name\":\"loading:Carrier C\",\"x\":[\"1970-01-01T00:36:25\",\"1970-01-01T00:36:25\",\"1970-01-01T01:09:45\",\"1970-01-01T01:09:45\",\"1970-01-01T01:09:45\",\"1970-01-01T02:59:00\",\"1970-01-01T02:59:00\",\"1970-01-01T03:32:20\",\"1970-01-01T03:32:20\",\"1970-01-01T03:32:20\",\"1970-01-01T06:01:54\",\"1970-01-01T06:01:54\",\"1970-01-01T06:35:14\",\"1970-01-01T06:35:14\",\"1970-01-01T06:35:14\",\"1970-01-01T09:05:43\",\"1970-01-01T09:05:43\",\"1970-01-01T09:39:03\",\"1970-01-01T09:39:03\",\"1970-01-01T09:39:03\",\"1970-01-01T12:09:32\",\"1970-01-01T12:09:32\",\"1970-01-01T12:42:52\",\"1970-01-01T12:42:52\",\"1970-01-01T12:42:52\",\"1970-01-01T15:13:21\",\"1970-01-01T15:13:21\",\"1970-01-01T15:46:41\",\"1970-01-01T15:46:41\",\"1970-01-01T15:46:41\",\"1970-01-01T00:36:25\",\"1970-01-01T00:36:25\",\"1970-01-01T01:09:45\",\"1970-01-01T01:09:45\",\"1970-01-01T01:09:45\",\"1970-01-01T02:59:00\",\"1970-01-01T02:59:00\",\"1970-01-01T03:32:20\",\"1970-01-01T03:32:20\",\"1970-01-01T03:32:20\",\"1970-01-01T06:01:54\",\"1970-01-01T06:01:54\",\"1970-01-01T06:35:14\",\"1970-01-01T06:35:14\",\"1970-01-01T06:35:14\",\"1970-01-01T09:05:43\",\"1970-01-01T09:05:43\",\"1970-01-01T09:39:03\",\"1970-01-01T09:39:03\",\"1970-01-01T09:39:03\",\"1970-01-01T12:09:32\",\"1970-01-01T12:09:32\",\"1970-01-01T12:42:52\",\"1970-01-01T12:42:52\",\"1970-01-01T12:42:52\",\"1970-01-01T15:13:21\",\"1970-01-01T15:13:21\",\"1970-01-01T15:46:41\",\"1970-01-01T15:46:41\",\"1970-01-01T15:46:41\",\"1970-01-01T00:36:25\",\"1970-01-01T00:36:25\",\"1970-01-01T01:09:45\",\"1970-01-01T01:09:45\",\"1970-01-01T01:09:45\",\"1970-01-01T02:59:00\",\"1970-01-01T02:59:00\",\"1970-01-01T03:32:20\",\"1970-01-01T03:32:20\",\"1970-01-01T03:32:20\",\"1970-01-01T06:01:54\",\"1970-01-01T06:01:54\",\"1970-01-01T06:35:14\",\"1970-01-01T06:35:14\",\"1970-01-01T06:35:14\",\"1970-01-01T09:05:43\",\"1970-01-01T09:05:43\",\"1970-01-01T09:39:03\",\"1970-01-01T09:39:03\",\"1970-01-01T09:39:03\",\"1970-01-01T12:09:32\",\"1970-01-01T12:09:32\",\"1970-01-01T12:42:52\",\"1970-01-01T12:42:52\",\"1970-01-01T12:42:52\",\"1970-01-01T15:13:21\",\"1970-01-01T15:13:21\",\"1970-01-01T15:46:41\",\"1970-01-01T15:46:41\",\"1970-01-01T15:46:41\"],\"y\":[\"Carrier C\",\"Carrier C\",\"Carrier C\",\"Carrier C\",null,\"Carrier C\",\"Carrier C\",\"Carrier C\",\"Carrier C\",null,\"Carrier C\",\"Carrier C\",\"Carrier C\",\"Carrier C\",null,\"Carrier C\",\"Carrier C\",\"Carrier C\",\"Carrier C\",null,\"Carrier C\",\"Carrier C\",\"Carrier C\",\"Carrier C\",null,\"Carrier C\",\"Carrier C\",\"Carrier C\",\"Carrier C\",null,\"Cutter T\",\"Cutter T\",\"Cutter T\",\"Cutter T\",null,\"Cutter T\",\"Cutter T\",\"Cutter T\",\"Cutter T\",null,\"Cutter T\",\"Cutter T\",\"Cutter T\",\"Cutter T\",null,\"Cutter T\",\"Cutter T\",\"Cutter T\",\"Cutter T\",null,\"Cutter T\",\"Cutter T\",\"Cutter T\",\"Cutter T\",null,\"Cutter T\",\"Cutter T\",\"Cutter T\",\"Cutter T\",null,\"Trench\",\"Trench\",\"Trench\",\"Trench\",null,\"Trench\",\"Trench\",\"Trench\",\"Trench\",null,\"Trench\",\"Trench\",\"Trench\",\"Trench\",null,\"Trench\",\"Trench\",\"Trench\",\"Trench\",null,\"Trench\",\"Trench\",\"Trench\",\"Trench\",null,\"Trench\",\"Trench\",\"Trench\",\"Trench\",null],\"type\":\"scatter\"},{\"connectgaps\":false,\"hoverinfo\":\"y+name\",\"line\":{\"color\":\"rgb(236,212,96)\",\"width\":10},\"mode\":\"lines\",\"name\":\"sailing full:Carrier C\",\"x\":[\"1970-01-01T01:09:45\",\"1970-01-01T01:09:45\",\"1970-01-01T01:46:10\",\"1970-01-01T01:46:10\",\"1970-01-01T01:46:10\",\"1970-01-01T03:32:20\",\"1970-01-01T03:32:20\",\"1970-01-01T04:08:45\",\"1970-01-01T04:08:45\",\"1970-01-01T04:08:45\",\"1970-01-01T06:35:14\",\"1970-01-01T06:35:14\",\"1970-01-01T07:11:39\",\"1970-01-01T07:11:39\",\"1970-01-01T07:11:39\",\"1970-01-01T09:39:03\",\"1970-01-01T09:39:03\",\"1970-01-01T10:15:28\",\"1970-01-01T10:15:28\",\"1970-01-01T10:15:28\",\"1970-01-01T12:42:52\",\"1970-01-01T12:42:52\",\"1970-01-01T13:19:17\",\"1970-01-01T13:19:17\",\"1970-01-01T13:19:17\",\"1970-01-01T15:46:41\",\"1970-01-01T15:46:41\",\"1970-01-01T16:23:06\",\"1970-01-01T16:23:06\",\"1970-01-01T16:23:06\"],\"y\":[\"Carrier C\",\"Carrier C\",\"Carrier C\",\"Carrier C\",null,\"Carrier C\",\"Carrier C\",\"Carrier C\",\"Carrier C\",null,\"Carrier C\",\"Carrier C\",\"Carrier C\",\"Carrier C\",null,\"Carrier C\",\"Carrier C\",\"Carrier C\",\"Carrier C\",null,\"Carrier C\",\"Carrier C\",\"Carrier C\",\"Carrier C\",null,\"Carrier C\",\"Carrier C\",\"Carrier C\",\"Carrier C\",null],\"type\":\"scatter\"},{\"connectgaps\":false,\"hoverinfo\":\"y+name\",\"line\":{\"color\":\"rgb(245,221,105)\",\"width\":10},\"mode\":\"lines\",\"name\":\"unloading:Carrier C\",\"x\":[\"1970-01-01T01:46:10\",\"1970-01-01T01:46:10\",\"1970-01-01T02:22:35\",\"1970-01-01T02:22:35\",\"1970-01-01T02:22:35\",\"1970-01-01T04:08:45\",\"1970-01-01T04:08:45\",\"1970-01-01T04:45:10\",\"1970-01-01T04:45:10\",\"1970-01-01T04:45:10\",\"1970-01-01T07:11:39\",\"1970-01-01T07:11:39\",\"1970-01-01T07:48:04\",\"1970-01-01T07:48:04\",\"1970-01-01T07:48:04\",\"1970-01-01T10:15:28\",\"1970-01-01T10:15:28\",\"1970-01-01T10:51:53\",\"1970-01-01T10:51:53\",\"1970-01-01T10:51:53\",\"1970-01-01T13:19:17\",\"1970-01-01T13:19:17\",\"1970-01-01T13:55:42\",\"1970-01-01T13:55:42\",\"1970-01-01T13:55:42\",\"1970-01-01T16:23:06\",\"1970-01-01T16:23:06\",\"1970-01-01T16:59:31\",\"1970-01-01T16:59:31\",\"1970-01-01T16:59:31\",\"1970-01-01T01:46:10\",\"1970-01-01T01:46:10\",\"1970-01-01T02:22:35\",\"1970-01-01T02:22:35\",\"1970-01-01T02:22:35\",\"1970-01-01T04:08:45\",\"1970-01-01T04:08:45\",\"1970-01-01T04:45:10\",\"1970-01-01T04:45:10\",\"1970-01-01T04:45:10\",\"1970-01-01T07:11:39\",\"1970-01-01T07:11:39\",\"1970-01-01T07:48:04\",\"1970-01-01T07:48:04\",\"1970-01-01T07:48:04\",\"1970-01-01T10:15:28\",\"1970-01-01T10:15:28\",\"1970-01-01T10:51:53\",\"1970-01-01T10:51:53\",\"1970-01-01T10:51:53\",\"1970-01-01T13:19:17\",\"1970-01-01T13:19:17\",\"1970-01-01T13:55:42\",\"1970-01-01T13:55:42\",\"1970-01-01T13:55:42\",\"1970-01-01T16:23:06\",\"1970-01-01T16:23:06\",\"1970-01-01T16:59:31\",\"1970-01-01T16:59:31\",\"1970-01-01T16:59:31\"],\"y\":[\"Carrier C\",\"Carrier C\",\"Carrier C\",\"Carrier C\",null,\"Carrier C\",\"Carrier C\",\"Carrier C\",\"Carrier C\",null,\"Carrier C\",\"Carrier C\",\"Carrier C\",\"Carrier C\",null,\"Carrier C\",\"Carrier C\",\"Carrier C\",\"Carrier C\",null,\"Carrier C\",\"Carrier C\",\"Carrier C\",\"Carrier C\",null,\"Carrier C\",\"Carrier C\",\"Carrier C\",\"Carrier C\",null,\"Reclamation\",\"Reclamation\",\"Reclamation\",\"Reclamation\",null,\"Reclamation\",\"Reclamation\",\"Reclamation\",\"Reclamation\",null,\"Reclamation\",\"Reclamation\",\"Reclamation\",\"Reclamation\",null,\"Reclamation\",\"Reclamation\",\"Reclamation\",\"Reclamation\",null,\"Reclamation\",\"Reclamation\",\"Reclamation\",\"Reclamation\",null,\"Reclamation\",\"Reclamation\",\"Reclamation\",\"Reclamation\",null],\"type\":\"scatter\"},{\"connectgaps\":false,\"hoverinfo\":\"y+name\",\"line\":{\"color\":\"rgb(254,230,114)\",\"width\":10},\"mode\":\"lines\",\"name\":\"loading:Barge I\",\"x\":[\"1970-01-01T01:43:05\",\"1970-01-01T01:43:05\",\"1970-01-01T02:16:25\",\"1970-01-01T02:16:25\",\"1970-01-01T02:16:25\",\"1970-01-01T04:25:31\",\"1970-01-01T04:25:31\",\"1970-01-01T04:58:51\",\"1970-01-01T04:58:51\",\"1970-01-01T04:58:51\",\"1970-01-01T07:08:34\",\"1970-01-01T07:08:34\",\"1970-01-01T07:41:54\",\"1970-01-01T07:41:54\",\"1970-01-01T07:41:54\",\"1970-01-01T10:12:23\",\"1970-01-01T10:12:23\",\"1970-01-01T10:45:43\",\"1970-01-01T10:45:43\",\"1970-01-01T10:45:43\",\"1970-01-01T13:16:12\",\"1970-01-01T13:16:12\",\"1970-01-01T13:49:32\",\"1970-01-01T13:49:32\",\"1970-01-01T13:49:32\",\"1970-01-01T16:20:01\",\"1970-01-01T16:20:01\",\"1970-01-01T16:53:21\",\"1970-01-01T16:53:21\",\"1970-01-01T16:53:21\",\"1970-01-01T01:43:05\",\"1970-01-01T01:43:05\",\"1970-01-01T02:16:25\",\"1970-01-01T02:16:25\",\"1970-01-01T02:16:25\",\"1970-01-01T04:25:31\",\"1970-01-01T04:25:31\",\"1970-01-01T04:58:51\",\"1970-01-01T04:58:51\",\"1970-01-01T04:58:51\",\"1970-01-01T07:08:34\",\"1970-01-01T07:08:34\",\"1970-01-01T07:41:54\",\"1970-01-01T07:41:54\",\"1970-01-01T07:41:54\",\"1970-01-01T10:12:23\",\"1970-01-01T10:12:23\",\"1970-01-01T10:45:43\",\"1970-01-01T10:45:43\",\"1970-01-01T10:45:43\",\"1970-01-01T13:16:12\",\"1970-01-01T13:16:12\",\"1970-01-01T13:49:32\",\"1970-01-01T13:49:32\",\"1970-01-01T13:49:32\",\"1970-01-01T16:20:01\",\"1970-01-01T16:20:01\",\"1970-01-01T16:53:21\",\"1970-01-01T16:53:21\",\"1970-01-01T16:53:21\",\"1970-01-01T01:43:05\",\"1970-01-01T01:43:05\",\"1970-01-01T02:16:25\",\"1970-01-01T02:16:25\",\"1970-01-01T02:16:25\",\"1970-01-01T04:25:31\",\"1970-01-01T04:25:31\",\"1970-01-01T04:58:51\",\"1970-01-01T04:58:51\",\"1970-01-01T04:58:51\",\"1970-01-01T07:08:34\",\"1970-01-01T07:08:34\",\"1970-01-01T07:41:54\",\"1970-01-01T07:41:54\",\"1970-01-01T07:41:54\",\"1970-01-01T10:12:23\",\"1970-01-01T10:12:23\",\"1970-01-01T10:45:43\",\"1970-01-01T10:45:43\",\"1970-01-01T10:45:43\",\"1970-01-01T13:16:12\",\"1970-01-01T13:16:12\",\"1970-01-01T13:49:32\",\"1970-01-01T13:49:32\",\"1970-01-01T13:49:32\",\"1970-01-01T16:20:01\",\"1970-01-01T16:20:01\",\"1970-01-01T16:53:21\",\"1970-01-01T16:53:21\",\"1970-01-01T16:53:21\"],\"y\":[\"Barge I\",\"Barge I\",\"Barge I\",\"Barge I\",null,\"Barge I\",\"Barge I\",\"Barge I\",\"Barge I\",null,\"Barge I\",\"Barge I\",\"Barge I\",\"Barge I\",null,\"Barge I\",\"Barge I\",\"Barge I\",\"Barge I\",null,\"Barge I\",\"Barge I\",\"Barge I\",\"Barge I\",null,\"Barge I\",\"Barge I\",\"Barge I\",\"Barge I\",null,\"Cutter T\",\"Cutter T\",\"Cutter T\",\"Cutter T\",null,\"Cutter T\",\"Cutter T\",\"Cutter T\",\"Cutter T\",null,\"Cutter T\",\"Cutter T\",\"Cutter T\",\"Cutter T\",null,\"Cutter T\",\"Cutter T\",\"Cutter T\",\"Cutter T\",null,\"Cutter T\",\"Cutter T\",\"Cutter T\",\"Cutter T\",null,\"Cutter T\",\"Cutter T\",\"Cutter T\",\"Cutter T\",null,\"Trench\",\"Trench\",\"Trench\",\"Trench\",null,\"Trench\",\"Trench\",\"Trench\",\"Trench\",null,\"Trench\",\"Trench\",\"Trench\",\"Trench\",null,\"Trench\",\"Trench\",\"Trench\",\"Trench\",null,\"Trench\",\"Trench\",\"Trench\",\"Trench\",null,\"Trench\",\"Trench\",\"Trench\",\"Trench\",null],\"type\":\"scatter\"},{\"connectgaps\":false,\"hoverinfo\":\"y+name\",\"line\":{\"color\":\"rgb(7,239,123)\",\"width\":10},\"mode\":\"lines\",\"name\":\"unloading:Barge I\",\"x\":[\"1970-01-01T02:59:27\",\"1970-01-01T02:59:27\",\"1970-01-01T03:42:29\",\"1970-01-01T03:42:29\",\"1970-01-01T03:42:29\",\"1970-01-01T05:41:53\",\"1970-01-01T05:41:53\",\"1970-01-01T06:24:55\",\"1970-01-01T06:24:55\",\"1970-01-01T06:24:55\",\"1970-01-01T08:24:56\",\"1970-01-01T08:24:56\",\"1970-01-01T09:07:58\",\"1970-01-01T09:07:58\",\"1970-01-01T09:07:58\",\"1970-01-01T11:28:45\",\"1970-01-01T11:28:45\",\"1970-01-01T12:11:47\",\"1970-01-01T12:11:47\",\"1970-01-01T12:11:47\",\"1970-01-01T14:32:34\",\"1970-01-01T14:32:34\",\"1970-01-01T15:15:36\",\"1970-01-01T15:15:36\",\"1970-01-01T15:15:36\",\"1970-01-01T17:36:23\",\"1970-01-01T17:36:23\",\"1970-01-01T18:19:25\",\"1970-01-01T18:19:25\",\"1970-01-01T18:19:25\",\"1970-01-01T02:59:27\",\"1970-01-01T02:59:27\",\"1970-01-01T03:42:29\",\"1970-01-01T03:42:29\",\"1970-01-01T03:42:29\",\"1970-01-01T05:41:53\",\"1970-01-01T05:41:53\",\"1970-01-01T06:24:55\",\"1970-01-01T06:24:55\",\"1970-01-01T06:24:55\",\"1970-01-01T08:24:56\",\"1970-01-01T08:24:56\",\"1970-01-01T09:07:58\",\"1970-01-01T09:07:58\",\"1970-01-01T09:07:58\",\"1970-01-01T11:28:45\",\"1970-01-01T11:28:45\",\"1970-01-01T12:11:47\",\"1970-01-01T12:11:47\",\"1970-01-01T12:11:47\",\"1970-01-01T14:32:34\",\"1970-01-01T14:32:34\",\"1970-01-01T15:15:36\",\"1970-01-01T15:15:36\",\"1970-01-01T15:15:36\",\"1970-01-01T17:36:23\",\"1970-01-01T17:36:23\",\"1970-01-01T18:19:25\",\"1970-01-01T18:19:25\",\"1970-01-01T18:19:25\"],\"y\":[\"Barge I\",\"Barge I\",\"Barge I\",\"Barge I\",null,\"Barge I\",\"Barge I\",\"Barge I\",\"Barge I\",null,\"Barge I\",\"Barge I\",\"Barge I\",\"Barge I\",null,\"Barge I\",\"Barge I\",\"Barge I\",\"Barge I\",null,\"Barge I\",\"Barge I\",\"Barge I\",\"Barge I\",null,\"Barge I\",\"Barge I\",\"Barge I\",\"Barge I\",null,\"Reclamation\",\"Reclamation\",\"Reclamation\",\"Reclamation\",null,\"Reclamation\",\"Reclamation\",\"Reclamation\",\"Reclamation\",null,\"Reclamation\",\"Reclamation\",\"Reclamation\",\"Reclamation\",null,\"Reclamation\",\"Reclamation\",\"Reclamation\",\"Reclamation\",null,\"Reclamation\",\"Reclamation\",\"Reclamation\",\"Reclamation\",null,\"Reclamation\",\"Reclamation\",\"Reclamation\",\"Reclamation\",null],\"type\":\"scatter\"},{\"connectgaps\":false,\"hoverinfo\":\"y+name\",\"line\":{\"color\":\"rgb(16,248,132)\",\"width\":10},\"mode\":\"lines\",\"name\":\"sailing empty:Barge I\",\"x\":[\"1970-01-01T00:00:00\",\"1970-01-01T00:00:00\",\"1970-01-01T00:43:02\",\"1970-01-01T00:43:02\",\"1970-01-01T00:43:02\",\"1970-01-01T03:42:29\",\"1970-01-01T03:42:29\",\"1970-01-01T04:25:31\",\"1970-01-01T04:25:31\",\"1970-01-01T04:25:31\",\"1970-01-01T06:24:55\",\"1970-01-01T06:24:55\",\"1970-01-01T07:07:57\",\"1970-01-01T07:07:57\",\"1970-01-01T07:07:57\",\"1970-01-01T09:07:58\",\"1970-01-01T09:07:58\",\"1970-01-01T09:51:00\",\"1970-01-01T09:51:00\",\"1970-01-01T09:51:00\",\"1970-01-01T12:11:47\",\"1970-01-01T12:11:47\",\"1970-01-01T12:54:49\",\"1970-01-01T12:54:49\",\"1970-01-01T12:54:49\",\"1970-01-01T15:15:36\",\"1970-01-01T15:15:36\",\"1970-01-01T15:58:38\",\"1970-01-01T15:58:38\",\"1970-01-01T15:58:38\"],\"y\":[\"Barge I\",\"Barge I\",\"Barge I\",\"Barge I\",null,\"Barge I\",\"Barge I\",\"Barge I\",\"Barge I\",null,\"Barge I\",\"Barge I\",\"Barge I\",\"Barge I\",null,\"Barge I\",\"Barge I\",\"Barge I\",\"Barge I\",null,\"Barge I\",\"Barge I\",\"Barge I\",\"Barge I\",null,\"Barge I\",\"Barge I\",\"Barge I\",\"Barge I\",null],\"type\":\"scatter\"},{\"connectgaps\":false,\"hoverinfo\":\"y+name\",\"line\":{\"color\":\"rgb(25,1,141)\",\"width\":10},\"mode\":\"lines\",\"name\":\"sailing full:Barge I\",\"x\":[\"1970-01-01T02:16:25\",\"1970-01-01T02:16:25\",\"1970-01-01T02:59:27\",\"1970-01-01T02:59:27\",\"1970-01-01T02:59:27\",\"1970-01-01T04:58:51\",\"1970-01-01T04:58:51\",\"1970-01-01T05:41:53\",\"1970-01-01T05:41:53\",\"1970-01-01T05:41:53\",\"1970-01-01T07:41:54\",\"1970-01-01T07:41:54\",\"1970-01-01T08:24:56\",\"1970-01-01T08:24:56\",\"1970-01-01T08:24:56\",\"1970-01-01T10:45:43\",\"1970-01-01T10:45:43\",\"1970-01-01T11:28:45\",\"1970-01-01T11:28:45\",\"1970-01-01T11:28:45\",\"1970-01-01T13:49:32\",\"1970-01-01T13:49:32\",\"1970-01-01T14:32:34\",\"1970-01-01T14:32:34\",\"1970-01-01T14:32:34\",\"1970-01-01T16:53:21\",\"1970-01-01T16:53:21\",\"1970-01-01T17:36:23\",\"1970-01-01T17:36:23\",\"1970-01-01T17:36:23\"],\"y\":[\"Barge I\",\"Barge I\",\"Barge I\",\"Barge I\",null,\"Barge I\",\"Barge I\",\"Barge I\",\"Barge I\",null,\"Barge I\",\"Barge I\",\"Barge I\",\"Barge I\",null,\"Barge I\",\"Barge I\",\"Barge I\",\"Barge I\",null,\"Barge I\",\"Barge I\",\"Barge I\",\"Barge I\",null,\"Barge I\",\"Barge I\",\"Barge I\",\"Barge I\",null],\"type\":\"scatter\"},{\"connectgaps\":false,\"hoverinfo\":\"y+name\",\"line\":{\"color\":\"rgb(34,10,150)\",\"width\":10},\"mode\":\"lines\",\"name\":\"loading:Barge I\",\"x\":[\"1970-01-01T01:43:05\",\"1970-01-01T01:43:05\",\"1970-01-01T02:16:25\",\"1970-01-01T02:16:25\",\"1970-01-01T02:16:25\",\"1970-01-01T04:25:31\",\"1970-01-01T04:25:31\",\"1970-01-01T04:58:51\",\"1970-01-01T04:58:51\",\"1970-01-01T04:58:51\",\"1970-01-01T07:08:34\",\"1970-01-01T07:08:34\",\"1970-01-01T07:41:54\",\"1970-01-01T07:41:54\",\"1970-01-01T07:41:54\",\"1970-01-01T10:12:23\",\"1970-01-01T10:12:23\",\"1970-01-01T10:45:43\",\"1970-01-01T10:45:43\",\"1970-01-01T10:45:43\",\"1970-01-01T13:16:12\",\"1970-01-01T13:16:12\",\"1970-01-01T13:49:32\",\"1970-01-01T13:49:32\",\"1970-01-01T13:49:32\",\"1970-01-01T16:20:01\",\"1970-01-01T16:20:01\",\"1970-01-01T16:53:21\",\"1970-01-01T16:53:21\",\"1970-01-01T16:53:21\",\"1970-01-01T01:43:05\",\"1970-01-01T01:43:05\",\"1970-01-01T02:16:25\",\"1970-01-01T02:16:25\",\"1970-01-01T02:16:25\",\"1970-01-01T04:25:31\",\"1970-01-01T04:25:31\",\"1970-01-01T04:58:51\",\"1970-01-01T04:58:51\",\"1970-01-01T04:58:51\",\"1970-01-01T07:08:34\",\"1970-01-01T07:08:34\",\"1970-01-01T07:41:54\",\"1970-01-01T07:41:54\",\"1970-01-01T07:41:54\",\"1970-01-01T10:12:23\",\"1970-01-01T10:12:23\",\"1970-01-01T10:45:43\",\"1970-01-01T10:45:43\",\"1970-01-01T10:45:43\",\"1970-01-01T13:16:12\",\"1970-01-01T13:16:12\",\"1970-01-01T13:49:32\",\"1970-01-01T13:49:32\",\"1970-01-01T13:49:32\",\"1970-01-01T16:20:01\",\"1970-01-01T16:20:01\",\"1970-01-01T16:53:21\",\"1970-01-01T16:53:21\",\"1970-01-01T16:53:21\",\"1970-01-01T01:43:05\",\"1970-01-01T01:43:05\",\"1970-01-01T02:16:25\",\"1970-01-01T02:16:25\",\"1970-01-01T02:16:25\",\"1970-01-01T04:25:31\",\"1970-01-01T04:25:31\",\"1970-01-01T04:58:51\",\"1970-01-01T04:58:51\",\"1970-01-01T04:58:51\",\"1970-01-01T07:08:34\",\"1970-01-01T07:08:34\",\"1970-01-01T07:41:54\",\"1970-01-01T07:41:54\",\"1970-01-01T07:41:54\",\"1970-01-01T10:12:23\",\"1970-01-01T10:12:23\",\"1970-01-01T10:45:43\",\"1970-01-01T10:45:43\",\"1970-01-01T10:45:43\",\"1970-01-01T13:16:12\",\"1970-01-01T13:16:12\",\"1970-01-01T13:49:32\",\"1970-01-01T13:49:32\",\"1970-01-01T13:49:32\",\"1970-01-01T16:20:01\",\"1970-01-01T16:20:01\",\"1970-01-01T16:53:21\",\"1970-01-01T16:53:21\",\"1970-01-01T16:53:21\"],\"y\":[\"Barge I\",\"Barge I\",\"Barge I\",\"Barge I\",null,\"Barge I\",\"Barge I\",\"Barge I\",\"Barge I\",null,\"Barge I\",\"Barge I\",\"Barge I\",\"Barge I\",null,\"Barge I\",\"Barge I\",\"Barge I\",\"Barge I\",null,\"Barge I\",\"Barge I\",\"Barge I\",\"Barge I\",null,\"Barge I\",\"Barge I\",\"Barge I\",\"Barge I\",null,\"Cutter T\",\"Cutter T\",\"Cutter T\",\"Cutter T\",null,\"Cutter T\",\"Cutter T\",\"Cutter T\",\"Cutter T\",null,\"Cutter T\",\"Cutter T\",\"Cutter T\",\"Cutter T\",null,\"Cutter T\",\"Cutter T\",\"Cutter T\",\"Cutter T\",null,\"Cutter T\",\"Cutter T\",\"Cutter T\",\"Cutter T\",null,\"Cutter T\",\"Cutter T\",\"Cutter T\",\"Cutter T\",null,\"Trench\",\"Trench\",\"Trench\",\"Trench\",null,\"Trench\",\"Trench\",\"Trench\",\"Trench\",null,\"Trench\",\"Trench\",\"Trench\",\"Trench\",null,\"Trench\",\"Trench\",\"Trench\",\"Trench\",null,\"Trench\",\"Trench\",\"Trench\",\"Trench\",null,\"Trench\",\"Trench\",\"Trench\",\"Trench\",null],\"type\":\"scatter\"},{\"connectgaps\":false,\"hoverinfo\":\"y+name\",\"line\":{\"color\":\"rgb(43,19,159)\",\"width\":10},\"mode\":\"lines\",\"name\":\"loading:Carrier A\",\"x\":[\"1970-01-01T02:16:25\",\"1970-01-01T02:16:25\",\"1970-01-01T02:58:05\",\"1970-01-01T02:58:05\",\"1970-01-01T02:58:05\",\"1970-01-01T05:20:14\",\"1970-01-01T05:20:14\",\"1970-01-01T06:01:54\",\"1970-01-01T06:01:54\",\"1970-01-01T06:01:54\",\"1970-01-01T08:24:03\",\"1970-01-01T08:24:03\",\"1970-01-01T09:05:43\",\"1970-01-01T09:05:43\",\"1970-01-01T09:05:43\",\"1970-01-01T11:27:52\",\"1970-01-01T11:27:52\",\"1970-01-01T12:09:32\",\"1970-01-01T12:09:32\",\"1970-01-01T12:09:32\",\"1970-01-01T14:31:41\",\"1970-01-01T14:31:41\",\"1970-01-01T15:13:21\",\"1970-01-01T15:13:21\",\"1970-01-01T15:13:21\",\"1970-01-01T17:35:30\",\"1970-01-01T17:35:30\",\"1970-01-01T18:17:10\",\"1970-01-01T18:17:10\",\"1970-01-01T18:17:10\",\"1970-01-01T02:16:25\",\"1970-01-01T02:16:25\",\"1970-01-01T02:58:05\",\"1970-01-01T02:58:05\",\"1970-01-01T02:58:05\",\"1970-01-01T05:20:14\",\"1970-01-01T05:20:14\",\"1970-01-01T06:01:54\",\"1970-01-01T06:01:54\",\"1970-01-01T06:01:54\",\"1970-01-01T08:24:03\",\"1970-01-01T08:24:03\",\"1970-01-01T09:05:43\",\"1970-01-01T09:05:43\",\"1970-01-01T09:05:43\",\"1970-01-01T11:27:52\",\"1970-01-01T11:27:52\",\"1970-01-01T12:09:32\",\"1970-01-01T12:09:32\",\"1970-01-01T12:09:32\",\"1970-01-01T14:31:41\",\"1970-01-01T14:31:41\",\"1970-01-01T15:13:21\",\"1970-01-01T15:13:21\",\"1970-01-01T15:13:21\",\"1970-01-01T17:35:30\",\"1970-01-01T17:35:30\",\"1970-01-01T18:17:10\",\"1970-01-01T18:17:10\",\"1970-01-01T18:17:10\",\"1970-01-01T02:16:25\",\"1970-01-01T02:16:25\",\"1970-01-01T02:58:05\",\"1970-01-01T02:58:05\",\"1970-01-01T02:58:05\",\"1970-01-01T05:20:14\",\"1970-01-01T05:20:14\",\"1970-01-01T06:01:54\",\"1970-01-01T06:01:54\",\"1970-01-01T06:01:54\",\"1970-01-01T08:24:03\",\"1970-01-01T08:24:03\",\"1970-01-01T09:05:43\",\"1970-01-01T09:05:43\",\"1970-01-01T09:05:43\",\"1970-01-01T11:27:52\",\"1970-01-01T11:27:52\",\"1970-01-01T12:09:32\",\"1970-01-01T12:09:32\",\"1970-01-01T12:09:32\",\"1970-01-01T14:31:41\",\"1970-01-01T14:31:41\",\"1970-01-01T15:13:21\",\"1970-01-01T15:13:21\",\"1970-01-01T15:13:21\",\"1970-01-01T17:35:30\",\"1970-01-01T17:35:30\",\"1970-01-01T18:17:10\",\"1970-01-01T18:17:10\",\"1970-01-01T18:17:10\"],\"y\":[\"Carrier A\",\"Carrier A\",\"Carrier A\",\"Carrier A\",null,\"Carrier A\",\"Carrier A\",\"Carrier A\",\"Carrier A\",null,\"Carrier A\",\"Carrier A\",\"Carrier A\",\"Carrier A\",null,\"Carrier A\",\"Carrier A\",\"Carrier A\",\"Carrier A\",null,\"Carrier A\",\"Carrier A\",\"Carrier A\",\"Carrier A\",null,\"Carrier A\",\"Carrier A\",\"Carrier A\",\"Carrier A\",null,\"Cutter T\",\"Cutter T\",\"Cutter T\",\"Cutter T\",null,\"Cutter T\",\"Cutter T\",\"Cutter T\",\"Cutter T\",null,\"Cutter T\",\"Cutter T\",\"Cutter T\",\"Cutter T\",null,\"Cutter T\",\"Cutter T\",\"Cutter T\",\"Cutter T\",null,\"Cutter T\",\"Cutter T\",\"Cutter T\",\"Cutter T\",null,\"Cutter T\",\"Cutter T\",\"Cutter T\",\"Cutter T\",null,\"Trench\",\"Trench\",\"Trench\",\"Trench\",null,\"Trench\",\"Trench\",\"Trench\",\"Trench\",null,\"Trench\",\"Trench\",\"Trench\",\"Trench\",null,\"Trench\",\"Trench\",\"Trench\",\"Trench\",null,\"Trench\",\"Trench\",\"Trench\",\"Trench\",null,\"Trench\",\"Trench\",\"Trench\",\"Trench\",null],\"type\":\"scatter\"},{\"connectgaps\":false,\"hoverinfo\":\"y+name\",\"line\":{\"color\":\"rgb(52,28,168)\",\"width\":10},\"mode\":\"lines\",\"name\":\"loading:Carrier C\",\"x\":[\"1970-01-01T00:36:25\",\"1970-01-01T00:36:25\",\"1970-01-01T01:09:45\",\"1970-01-01T01:09:45\",\"1970-01-01T01:09:45\",\"1970-01-01T02:59:00\",\"1970-01-01T02:59:00\",\"1970-01-01T03:32:20\",\"1970-01-01T03:32:20\",\"1970-01-01T03:32:20\",\"1970-01-01T06:01:54\",\"1970-01-01T06:01:54\",\"1970-01-01T06:35:14\",\"1970-01-01T06:35:14\",\"1970-01-01T06:35:14\",\"1970-01-01T09:05:43\",\"1970-01-01T09:05:43\",\"1970-01-01T09:39:03\",\"1970-01-01T09:39:03\",\"1970-01-01T09:39:03\",\"1970-01-01T12:09:32\",\"1970-01-01T12:09:32\",\"1970-01-01T12:42:52\",\"1970-01-01T12:42:52\",\"1970-01-01T12:42:52\",\"1970-01-01T15:13:21\",\"1970-01-01T15:13:21\",\"1970-01-01T15:46:41\",\"1970-01-01T15:46:41\",\"1970-01-01T15:46:41\",\"1970-01-01T00:36:25\",\"1970-01-01T00:36:25\",\"1970-01-01T01:09:45\",\"1970-01-01T01:09:45\",\"1970-01-01T01:09:45\",\"1970-01-01T02:59:00\",\"1970-01-01T02:59:00\",\"1970-01-01T03:32:20\",\"1970-01-01T03:32:20\",\"1970-01-01T03:32:20\",\"1970-01-01T06:01:54\",\"1970-01-01T06:01:54\",\"1970-01-01T06:35:14\",\"1970-01-01T06:35:14\",\"1970-01-01T06:35:14\",\"1970-01-01T09:05:43\",\"1970-01-01T09:05:43\",\"1970-01-01T09:39:03\",\"1970-01-01T09:39:03\",\"1970-01-01T09:39:03\",\"1970-01-01T12:09:32\",\"1970-01-01T12:09:32\",\"1970-01-01T12:42:52\",\"1970-01-01T12:42:52\",\"1970-01-01T12:42:52\",\"1970-01-01T15:13:21\",\"1970-01-01T15:13:21\",\"1970-01-01T15:46:41\",\"1970-01-01T15:46:41\",\"1970-01-01T15:46:41\",\"1970-01-01T00:36:25\",\"1970-01-01T00:36:25\",\"1970-01-01T01:09:45\",\"1970-01-01T01:09:45\",\"1970-01-01T01:09:45\",\"1970-01-01T02:59:00\",\"1970-01-01T02:59:00\",\"1970-01-01T03:32:20\",\"1970-01-01T03:32:20\",\"1970-01-01T03:32:20\",\"1970-01-01T06:01:54\",\"1970-01-01T06:01:54\",\"1970-01-01T06:35:14\",\"1970-01-01T06:35:14\",\"1970-01-01T06:35:14\",\"1970-01-01T09:05:43\",\"1970-01-01T09:05:43\",\"1970-01-01T09:39:03\",\"1970-01-01T09:39:03\",\"1970-01-01T09:39:03\",\"1970-01-01T12:09:32\",\"1970-01-01T12:09:32\",\"1970-01-01T12:42:52\",\"1970-01-01T12:42:52\",\"1970-01-01T12:42:52\",\"1970-01-01T15:13:21\",\"1970-01-01T15:13:21\",\"1970-01-01T15:46:41\",\"1970-01-01T15:46:41\",\"1970-01-01T15:46:41\"],\"y\":[\"Carrier C\",\"Carrier C\",\"Carrier C\",\"Carrier C\",null,\"Carrier C\",\"Carrier C\",\"Carrier C\",\"Carrier C\",null,\"Carrier C\",\"Carrier C\",\"Carrier C\",\"Carrier C\",null,\"Carrier C\",\"Carrier C\",\"Carrier C\",\"Carrier C\",null,\"Carrier C\",\"Carrier C\",\"Carrier C\",\"Carrier C\",null,\"Carrier C\",\"Carrier C\",\"Carrier C\",\"Carrier C\",null,\"Cutter T\",\"Cutter T\",\"Cutter T\",\"Cutter T\",null,\"Cutter T\",\"Cutter T\",\"Cutter T\",\"Cutter T\",null,\"Cutter T\",\"Cutter T\",\"Cutter T\",\"Cutter T\",null,\"Cutter T\",\"Cutter T\",\"Cutter T\",\"Cutter T\",null,\"Cutter T\",\"Cutter T\",\"Cutter T\",\"Cutter T\",null,\"Cutter T\",\"Cutter T\",\"Cutter T\",\"Cutter T\",null,\"Trench\",\"Trench\",\"Trench\",\"Trench\",null,\"Trench\",\"Trench\",\"Trench\",\"Trench\",null,\"Trench\",\"Trench\",\"Trench\",\"Trench\",null,\"Trench\",\"Trench\",\"Trench\",\"Trench\",null,\"Trench\",\"Trench\",\"Trench\",\"Trench\",null,\"Trench\",\"Trench\",\"Trench\",\"Trench\",null],\"type\":\"scatter\"},{\"connectgaps\":false,\"hoverinfo\":\"y+name\",\"line\":{\"color\":\"rgb(61,37,177)\",\"width\":10},\"mode\":\"lines\",\"name\":\"loading:Carrier B\",\"x\":[\"1970-01-01T01:09:45\",\"1970-01-01T01:09:45\",\"1970-01-01T01:43:05\",\"1970-01-01T01:43:05\",\"1970-01-01T01:43:05\",\"1970-01-01T03:45:05\",\"1970-01-01T03:45:05\",\"1970-01-01T04:18:25\",\"1970-01-01T04:18:25\",\"1970-01-01T04:18:25\",\"1970-01-01T06:35:14\",\"1970-01-01T06:35:14\",\"1970-01-01T07:08:34\",\"1970-01-01T07:08:34\",\"1970-01-01T07:08:34\",\"1970-01-01T09:39:03\",\"1970-01-01T09:39:03\",\"1970-01-01T10:12:23\",\"1970-01-01T10:12:23\",\"1970-01-01T10:12:23\",\"1970-01-01T12:42:52\",\"1970-01-01T12:42:52\",\"1970-01-01T13:16:12\",\"1970-01-01T13:16:12\",\"1970-01-01T13:16:12\",\"1970-01-01T15:46:41\",\"1970-01-01T15:46:41\",\"1970-01-01T16:20:01\",\"1970-01-01T16:20:01\",\"1970-01-01T16:20:01\",\"1970-01-01T01:09:45\",\"1970-01-01T01:09:45\",\"1970-01-01T01:43:05\",\"1970-01-01T01:43:05\",\"1970-01-01T01:43:05\",\"1970-01-01T03:45:05\",\"1970-01-01T03:45:05\",\"1970-01-01T04:18:25\",\"1970-01-01T04:18:25\",\"1970-01-01T04:18:25\",\"1970-01-01T06:35:14\",\"1970-01-01T06:35:14\",\"1970-01-01T07:08:34\",\"1970-01-01T07:08:34\",\"1970-01-01T07:08:34\",\"1970-01-01T09:39:03\",\"1970-01-01T09:39:03\",\"1970-01-01T10:12:23\",\"1970-01-01T10:12:23\",\"1970-01-01T10:12:23\",\"1970-01-01T12:42:52\",\"1970-01-01T12:42:52\",\"1970-01-01T13:16:12\",\"1970-01-01T13:16:12\",\"1970-01-01T13:16:12\",\"1970-01-01T15:46:41\",\"1970-01-01T15:46:41\",\"1970-01-01T16:20:01\",\"1970-01-01T16:20:01\",\"1970-01-01T16:20:01\",\"1970-01-01T01:09:45\",\"1970-01-01T01:09:45\",\"1970-01-01T01:43:05\",\"1970-01-01T01:43:05\",\"1970-01-01T01:43:05\",\"1970-01-01T03:45:05\",\"1970-01-01T03:45:05\",\"1970-01-01T04:18:25\",\"1970-01-01T04:18:25\",\"1970-01-01T04:18:25\",\"1970-01-01T06:35:14\",\"1970-01-01T06:35:14\",\"1970-01-01T07:08:34\",\"1970-01-01T07:08:34\",\"1970-01-01T07:08:34\",\"1970-01-01T09:39:03\",\"1970-01-01T09:39:03\",\"1970-01-01T10:12:23\",\"1970-01-01T10:12:23\",\"1970-01-01T10:12:23\",\"1970-01-01T12:42:52\",\"1970-01-01T12:42:52\",\"1970-01-01T13:16:12\",\"1970-01-01T13:16:12\",\"1970-01-01T13:16:12\",\"1970-01-01T15:46:41\",\"1970-01-01T15:46:41\",\"1970-01-01T16:20:01\",\"1970-01-01T16:20:01\",\"1970-01-01T16:20:01\"],\"y\":[\"Carrier B\",\"Carrier B\",\"Carrier B\",\"Carrier B\",null,\"Carrier B\",\"Carrier B\",\"Carrier B\",\"Carrier B\",null,\"Carrier B\",\"Carrier B\",\"Carrier B\",\"Carrier B\",null,\"Carrier B\",\"Carrier B\",\"Carrier B\",\"Carrier B\",null,\"Carrier B\",\"Carrier B\",\"Carrier B\",\"Carrier B\",null,\"Carrier B\",\"Carrier B\",\"Carrier B\",\"Carrier B\",null,\"Cutter T\",\"Cutter T\",\"Cutter T\",\"Cutter T\",null,\"Cutter T\",\"Cutter T\",\"Cutter T\",\"Cutter T\",null,\"Cutter T\",\"Cutter T\",\"Cutter T\",\"Cutter T\",null,\"Cutter T\",\"Cutter T\",\"Cutter T\",\"Cutter T\",null,\"Cutter T\",\"Cutter T\",\"Cutter T\",\"Cutter T\",null,\"Cutter T\",\"Cutter T\",\"Cutter T\",\"Cutter T\",null,\"Trench\",\"Trench\",\"Trench\",\"Trench\",null,\"Trench\",\"Trench\",\"Trench\",\"Trench\",null,\"Trench\",\"Trench\",\"Trench\",\"Trench\",null,\"Trench\",\"Trench\",\"Trench\",\"Trench\",null,\"Trench\",\"Trench\",\"Trench\",\"Trench\",null,\"Trench\",\"Trench\",\"Trench\",\"Trench\",null],\"type\":\"scatter\"},{\"connectgaps\":false,\"hoverinfo\":\"y+name\",\"line\":{\"color\":\"rgb(70,46,186)\",\"width\":10},\"mode\":\"lines\",\"name\":\"loading:Barge I\",\"x\":[\"1970-01-01T01:43:05\",\"1970-01-01T01:43:05\",\"1970-01-01T02:16:25\",\"1970-01-01T02:16:25\",\"1970-01-01T02:16:25\",\"1970-01-01T04:25:31\",\"1970-01-01T04:25:31\",\"1970-01-01T04:58:51\",\"1970-01-01T04:58:51\",\"1970-01-01T04:58:51\",\"1970-01-01T07:08:34\",\"1970-01-01T07:08:34\",\"1970-01-01T07:41:54\",\"1970-01-01T07:41:54\",\"1970-01-01T07:41:54\",\"1970-01-01T10:12:23\",\"1970-01-01T10:12:23\",\"1970-01-01T10:45:43\",\"1970-01-01T10:45:43\",\"1970-01-01T10:45:43\",\"1970-01-01T13:16:12\",\"1970-01-01T13:16:12\",\"1970-01-01T13:49:32\",\"1970-01-01T13:49:32\",\"1970-01-01T13:49:32\",\"1970-01-01T16:20:01\",\"1970-01-01T16:20:01\",\"1970-01-01T16:53:21\",\"1970-01-01T16:53:21\",\"1970-01-01T16:53:21\",\"1970-01-01T01:43:05\",\"1970-01-01T01:43:05\",\"1970-01-01T02:16:25\",\"1970-01-01T02:16:25\",\"1970-01-01T02:16:25\",\"1970-01-01T04:25:31\",\"1970-01-01T04:25:31\",\"1970-01-01T04:58:51\",\"1970-01-01T04:58:51\",\"1970-01-01T04:58:51\",\"1970-01-01T07:08:34\",\"1970-01-01T07:08:34\",\"1970-01-01T07:41:54\",\"1970-01-01T07:41:54\",\"1970-01-01T07:41:54\",\"1970-01-01T10:12:23\",\"1970-01-01T10:12:23\",\"1970-01-01T10:45:43\",\"1970-01-01T10:45:43\",\"1970-01-01T10:45:43\",\"1970-01-01T13:16:12\",\"1970-01-01T13:16:12\",\"1970-01-01T13:49:32\",\"1970-01-01T13:49:32\",\"1970-01-01T13:49:32\",\"1970-01-01T16:20:01\",\"1970-01-01T16:20:01\",\"1970-01-01T16:53:21\",\"1970-01-01T16:53:21\",\"1970-01-01T16:53:21\",\"1970-01-01T01:43:05\",\"1970-01-01T01:43:05\",\"1970-01-01T02:16:25\",\"1970-01-01T02:16:25\",\"1970-01-01T02:16:25\",\"1970-01-01T04:25:31\",\"1970-01-01T04:25:31\",\"1970-01-01T04:58:51\",\"1970-01-01T04:58:51\",\"1970-01-01T04:58:51\",\"1970-01-01T07:08:34\",\"1970-01-01T07:08:34\",\"1970-01-01T07:41:54\",\"1970-01-01T07:41:54\",\"1970-01-01T07:41:54\",\"1970-01-01T10:12:23\",\"1970-01-01T10:12:23\",\"1970-01-01T10:45:43\",\"1970-01-01T10:45:43\",\"1970-01-01T10:45:43\",\"1970-01-01T13:16:12\",\"1970-01-01T13:16:12\",\"1970-01-01T13:49:32\",\"1970-01-01T13:49:32\",\"1970-01-01T13:49:32\",\"1970-01-01T16:20:01\",\"1970-01-01T16:20:01\",\"1970-01-01T16:53:21\",\"1970-01-01T16:53:21\",\"1970-01-01T16:53:21\"],\"y\":[\"Barge I\",\"Barge I\",\"Barge I\",\"Barge I\",null,\"Barge I\",\"Barge I\",\"Barge I\",\"Barge I\",null,\"Barge I\",\"Barge I\",\"Barge I\",\"Barge I\",null,\"Barge I\",\"Barge I\",\"Barge I\",\"Barge I\",null,\"Barge I\",\"Barge I\",\"Barge I\",\"Barge I\",null,\"Barge I\",\"Barge I\",\"Barge I\",\"Barge I\",null,\"Cutter T\",\"Cutter T\",\"Cutter T\",\"Cutter T\",null,\"Cutter T\",\"Cutter T\",\"Cutter T\",\"Cutter T\",null,\"Cutter T\",\"Cutter T\",\"Cutter T\",\"Cutter T\",null,\"Cutter T\",\"Cutter T\",\"Cutter T\",\"Cutter T\",null,\"Cutter T\",\"Cutter T\",\"Cutter T\",\"Cutter T\",null,\"Cutter T\",\"Cutter T\",\"Cutter T\",\"Cutter T\",null,\"Trench\",\"Trench\",\"Trench\",\"Trench\",null,\"Trench\",\"Trench\",\"Trench\",\"Trench\",null,\"Trench\",\"Trench\",\"Trench\",\"Trench\",null,\"Trench\",\"Trench\",\"Trench\",\"Trench\",null,\"Trench\",\"Trench\",\"Trench\",\"Trench\",null,\"Trench\",\"Trench\",\"Trench\",\"Trench\",null],\"type\":\"scatter\"},{\"connectgaps\":false,\"hoverinfo\":\"y+name\",\"line\":{\"color\":\"rgb(79,55,195)\",\"width\":10},\"mode\":\"lines\",\"name\":\"loading:Carrier A\",\"x\":[\"1970-01-01T02:16:25\",\"1970-01-01T02:16:25\",\"1970-01-01T02:58:05\",\"1970-01-01T02:58:05\",\"1970-01-01T02:58:05\",\"1970-01-01T05:20:14\",\"1970-01-01T05:20:14\",\"1970-01-01T06:01:54\",\"1970-01-01T06:01:54\",\"1970-01-01T06:01:54\",\"1970-01-01T08:24:03\",\"1970-01-01T08:24:03\",\"1970-01-01T09:05:43\",\"1970-01-01T09:05:43\",\"1970-01-01T09:05:43\",\"1970-01-01T11:27:52\",\"1970-01-01T11:27:52\",\"1970-01-01T12:09:32\",\"1970-01-01T12:09:32\",\"1970-01-01T12:09:32\",\"1970-01-01T14:31:41\",\"1970-01-01T14:31:41\",\"1970-01-01T15:13:21\",\"1970-01-01T15:13:21\",\"1970-01-01T15:13:21\",\"1970-01-01T17:35:30\",\"1970-01-01T17:35:30\",\"1970-01-01T18:17:10\",\"1970-01-01T18:17:10\",\"1970-01-01T18:17:10\",\"1970-01-01T02:16:25\",\"1970-01-01T02:16:25\",\"1970-01-01T02:58:05\",\"1970-01-01T02:58:05\",\"1970-01-01T02:58:05\",\"1970-01-01T05:20:14\",\"1970-01-01T05:20:14\",\"1970-01-01T06:01:54\",\"1970-01-01T06:01:54\",\"1970-01-01T06:01:54\",\"1970-01-01T08:24:03\",\"1970-01-01T08:24:03\",\"1970-01-01T09:05:43\",\"1970-01-01T09:05:43\",\"1970-01-01T09:05:43\",\"1970-01-01T11:27:52\",\"1970-01-01T11:27:52\",\"1970-01-01T12:09:32\",\"1970-01-01T12:09:32\",\"1970-01-01T12:09:32\",\"1970-01-01T14:31:41\",\"1970-01-01T14:31:41\",\"1970-01-01T15:13:21\",\"1970-01-01T15:13:21\",\"1970-01-01T15:13:21\",\"1970-01-01T17:35:30\",\"1970-01-01T17:35:30\",\"1970-01-01T18:17:10\",\"1970-01-01T18:17:10\",\"1970-01-01T18:17:10\",\"1970-01-01T02:16:25\",\"1970-01-01T02:16:25\",\"1970-01-01T02:58:05\",\"1970-01-01T02:58:05\",\"1970-01-01T02:58:05\",\"1970-01-01T05:20:14\",\"1970-01-01T05:20:14\",\"1970-01-01T06:01:54\",\"1970-01-01T06:01:54\",\"1970-01-01T06:01:54\",\"1970-01-01T08:24:03\",\"1970-01-01T08:24:03\",\"1970-01-01T09:05:43\",\"1970-01-01T09:05:43\",\"1970-01-01T09:05:43\",\"1970-01-01T11:27:52\",\"1970-01-01T11:27:52\",\"1970-01-01T12:09:32\",\"1970-01-01T12:09:32\",\"1970-01-01T12:09:32\",\"1970-01-01T14:31:41\",\"1970-01-01T14:31:41\",\"1970-01-01T15:13:21\",\"1970-01-01T15:13:21\",\"1970-01-01T15:13:21\",\"1970-01-01T17:35:30\",\"1970-01-01T17:35:30\",\"1970-01-01T18:17:10\",\"1970-01-01T18:17:10\",\"1970-01-01T18:17:10\"],\"y\":[\"Carrier A\",\"Carrier A\",\"Carrier A\",\"Carrier A\",null,\"Carrier A\",\"Carrier A\",\"Carrier A\",\"Carrier A\",null,\"Carrier A\",\"Carrier A\",\"Carrier A\",\"Carrier A\",null,\"Carrier A\",\"Carrier A\",\"Carrier A\",\"Carrier A\",null,\"Carrier A\",\"Carrier A\",\"Carrier A\",\"Carrier A\",null,\"Carrier A\",\"Carrier A\",\"Carrier A\",\"Carrier A\",null,\"Cutter T\",\"Cutter T\",\"Cutter T\",\"Cutter T\",null,\"Cutter T\",\"Cutter T\",\"Cutter T\",\"Cutter T\",null,\"Cutter T\",\"Cutter T\",\"Cutter T\",\"Cutter T\",null,\"Cutter T\",\"Cutter T\",\"Cutter T\",\"Cutter T\",null,\"Cutter T\",\"Cutter T\",\"Cutter T\",\"Cutter T\",null,\"Cutter T\",\"Cutter T\",\"Cutter T\",\"Cutter T\",null,\"Trench\",\"Trench\",\"Trench\",\"Trench\",null,\"Trench\",\"Trench\",\"Trench\",\"Trench\",null,\"Trench\",\"Trench\",\"Trench\",\"Trench\",null,\"Trench\",\"Trench\",\"Trench\",\"Trench\",null,\"Trench\",\"Trench\",\"Trench\",\"Trench\",null,\"Trench\",\"Trench\",\"Trench\",\"Trench\",null],\"type\":\"scatter\"},{\"connectgaps\":false,\"hoverinfo\":\"y+name\",\"line\":{\"color\":\"rgb(88,64,204)\",\"width\":10},\"mode\":\"lines\",\"name\":\"loading:Carrier C\",\"x\":[\"1970-01-01T00:36:25\",\"1970-01-01T00:36:25\",\"1970-01-01T01:09:45\",\"1970-01-01T01:09:45\",\"1970-01-01T01:09:45\",\"1970-01-01T02:59:00\",\"1970-01-01T02:59:00\",\"1970-01-01T03:32:20\",\"1970-01-01T03:32:20\",\"1970-01-01T03:32:20\",\"1970-01-01T06:01:54\",\"1970-01-01T06:01:54\",\"1970-01-01T06:35:14\",\"1970-01-01T06:35:14\",\"1970-01-01T06:35:14\",\"1970-01-01T09:05:43\",\"1970-01-01T09:05:43\",\"1970-01-01T09:39:03\",\"1970-01-01T09:39:03\",\"1970-01-01T09:39:03\",\"1970-01-01T12:09:32\",\"1970-01-01T12:09:32\",\"1970-01-01T12:42:52\",\"1970-01-01T12:42:52\",\"1970-01-01T12:42:52\",\"1970-01-01T15:13:21\",\"1970-01-01T15:13:21\",\"1970-01-01T15:46:41\",\"1970-01-01T15:46:41\",\"1970-01-01T15:46:41\",\"1970-01-01T00:36:25\",\"1970-01-01T00:36:25\",\"1970-01-01T01:09:45\",\"1970-01-01T01:09:45\",\"1970-01-01T01:09:45\",\"1970-01-01T02:59:00\",\"1970-01-01T02:59:00\",\"1970-01-01T03:32:20\",\"1970-01-01T03:32:20\",\"1970-01-01T03:32:20\",\"1970-01-01T06:01:54\",\"1970-01-01T06:01:54\",\"1970-01-01T06:35:14\",\"1970-01-01T06:35:14\",\"1970-01-01T06:35:14\",\"1970-01-01T09:05:43\",\"1970-01-01T09:05:43\",\"1970-01-01T09:39:03\",\"1970-01-01T09:39:03\",\"1970-01-01T09:39:03\",\"1970-01-01T12:09:32\",\"1970-01-01T12:09:32\",\"1970-01-01T12:42:52\",\"1970-01-01T12:42:52\",\"1970-01-01T12:42:52\",\"1970-01-01T15:13:21\",\"1970-01-01T15:13:21\",\"1970-01-01T15:46:41\",\"1970-01-01T15:46:41\",\"1970-01-01T15:46:41\",\"1970-01-01T00:36:25\",\"1970-01-01T00:36:25\",\"1970-01-01T01:09:45\",\"1970-01-01T01:09:45\",\"1970-01-01T01:09:45\",\"1970-01-01T02:59:00\",\"1970-01-01T02:59:00\",\"1970-01-01T03:32:20\",\"1970-01-01T03:32:20\",\"1970-01-01T03:32:20\",\"1970-01-01T06:01:54\",\"1970-01-01T06:01:54\",\"1970-01-01T06:35:14\",\"1970-01-01T06:35:14\",\"1970-01-01T06:35:14\",\"1970-01-01T09:05:43\",\"1970-01-01T09:05:43\",\"1970-01-01T09:39:03\",\"1970-01-01T09:39:03\",\"1970-01-01T09:39:03\",\"1970-01-01T12:09:32\",\"1970-01-01T12:09:32\",\"1970-01-01T12:42:52\",\"1970-01-01T12:42:52\",\"1970-01-01T12:42:52\",\"1970-01-01T15:13:21\",\"1970-01-01T15:13:21\",\"1970-01-01T15:46:41\",\"1970-01-01T15:46:41\",\"1970-01-01T15:46:41\"],\"y\":[\"Carrier C\",\"Carrier C\",\"Carrier C\",\"Carrier C\",null,\"Carrier C\",\"Carrier C\",\"Carrier C\",\"Carrier C\",null,\"Carrier C\",\"Carrier C\",\"Carrier C\",\"Carrier C\",null,\"Carrier C\",\"Carrier C\",\"Carrier C\",\"Carrier C\",null,\"Carrier C\",\"Carrier C\",\"Carrier C\",\"Carrier C\",null,\"Carrier C\",\"Carrier C\",\"Carrier C\",\"Carrier C\",null,\"Cutter T\",\"Cutter T\",\"Cutter T\",\"Cutter T\",null,\"Cutter T\",\"Cutter T\",\"Cutter T\",\"Cutter T\",null,\"Cutter T\",\"Cutter T\",\"Cutter T\",\"Cutter T\",null,\"Cutter T\",\"Cutter T\",\"Cutter T\",\"Cutter T\",null,\"Cutter T\",\"Cutter T\",\"Cutter T\",\"Cutter T\",null,\"Cutter T\",\"Cutter T\",\"Cutter T\",\"Cutter T\",null,\"Trench\",\"Trench\",\"Trench\",\"Trench\",null,\"Trench\",\"Trench\",\"Trench\",\"Trench\",null,\"Trench\",\"Trench\",\"Trench\",\"Trench\",null,\"Trench\",\"Trench\",\"Trench\",\"Trench\",null,\"Trench\",\"Trench\",\"Trench\",\"Trench\",null,\"Trench\",\"Trench\",\"Trench\",\"Trench\",null],\"type\":\"scatter\"},{\"connectgaps\":false,\"hoverinfo\":\"y+name\",\"line\":{\"color\":\"rgb(97,73,213)\",\"width\":10},\"mode\":\"lines\",\"name\":\"loading:Carrier B\",\"x\":[\"1970-01-01T01:09:45\",\"1970-01-01T01:09:45\",\"1970-01-01T01:43:05\",\"1970-01-01T01:43:05\",\"1970-01-01T01:43:05\",\"1970-01-01T03:45:05\",\"1970-01-01T03:45:05\",\"1970-01-01T04:18:25\",\"1970-01-01T04:18:25\",\"1970-01-01T04:18:25\",\"1970-01-01T06:35:14\",\"1970-01-01T06:35:14\",\"1970-01-01T07:08:34\",\"1970-01-01T07:08:34\",\"1970-01-01T07:08:34\",\"1970-01-01T09:39:03\",\"1970-01-01T09:39:03\",\"1970-01-01T10:12:23\",\"1970-01-01T10:12:23\",\"1970-01-01T10:12:23\",\"1970-01-01T12:42:52\",\"1970-01-01T12:42:52\",\"1970-01-01T13:16:12\",\"1970-01-01T13:16:12\",\"1970-01-01T13:16:12\",\"1970-01-01T15:46:41\",\"1970-01-01T15:46:41\",\"1970-01-01T16:20:01\",\"1970-01-01T16:20:01\",\"1970-01-01T16:20:01\",\"1970-01-01T01:09:45\",\"1970-01-01T01:09:45\",\"1970-01-01T01:43:05\",\"1970-01-01T01:43:05\",\"1970-01-01T01:43:05\",\"1970-01-01T03:45:05\",\"1970-01-01T03:45:05\",\"1970-01-01T04:18:25\",\"1970-01-01T04:18:25\",\"1970-01-01T04:18:25\",\"1970-01-01T06:35:14\",\"1970-01-01T06:35:14\",\"1970-01-01T07:08:34\",\"1970-01-01T07:08:34\",\"1970-01-01T07:08:34\",\"1970-01-01T09:39:03\",\"1970-01-01T09:39:03\",\"1970-01-01T10:12:23\",\"1970-01-01T10:12:23\",\"1970-01-01T10:12:23\",\"1970-01-01T12:42:52\",\"1970-01-01T12:42:52\",\"1970-01-01T13:16:12\",\"1970-01-01T13:16:12\",\"1970-01-01T13:16:12\",\"1970-01-01T15:46:41\",\"1970-01-01T15:46:41\",\"1970-01-01T16:20:01\",\"1970-01-01T16:20:01\",\"1970-01-01T16:20:01\",\"1970-01-01T01:09:45\",\"1970-01-01T01:09:45\",\"1970-01-01T01:43:05\",\"1970-01-01T01:43:05\",\"1970-01-01T01:43:05\",\"1970-01-01T03:45:05\",\"1970-01-01T03:45:05\",\"1970-01-01T04:18:25\",\"1970-01-01T04:18:25\",\"1970-01-01T04:18:25\",\"1970-01-01T06:35:14\",\"1970-01-01T06:35:14\",\"1970-01-01T07:08:34\",\"1970-01-01T07:08:34\",\"1970-01-01T07:08:34\",\"1970-01-01T09:39:03\",\"1970-01-01T09:39:03\",\"1970-01-01T10:12:23\",\"1970-01-01T10:12:23\",\"1970-01-01T10:12:23\",\"1970-01-01T12:42:52\",\"1970-01-01T12:42:52\",\"1970-01-01T13:16:12\",\"1970-01-01T13:16:12\",\"1970-01-01T13:16:12\",\"1970-01-01T15:46:41\",\"1970-01-01T15:46:41\",\"1970-01-01T16:20:01\",\"1970-01-01T16:20:01\",\"1970-01-01T16:20:01\"],\"y\":[\"Carrier B\",\"Carrier B\",\"Carrier B\",\"Carrier B\",null,\"Carrier B\",\"Carrier B\",\"Carrier B\",\"Carrier B\",null,\"Carrier B\",\"Carrier B\",\"Carrier B\",\"Carrier B\",null,\"Carrier B\",\"Carrier B\",\"Carrier B\",\"Carrier B\",null,\"Carrier B\",\"Carrier B\",\"Carrier B\",\"Carrier B\",null,\"Carrier B\",\"Carrier B\",\"Carrier B\",\"Carrier B\",null,\"Cutter T\",\"Cutter T\",\"Cutter T\",\"Cutter T\",null,\"Cutter T\",\"Cutter T\",\"Cutter T\",\"Cutter T\",null,\"Cutter T\",\"Cutter T\",\"Cutter T\",\"Cutter T\",null,\"Cutter T\",\"Cutter T\",\"Cutter T\",\"Cutter T\",null,\"Cutter T\",\"Cutter T\",\"Cutter T\",\"Cutter T\",null,\"Cutter T\",\"Cutter T\",\"Cutter T\",\"Cutter T\",null,\"Trench\",\"Trench\",\"Trench\",\"Trench\",null,\"Trench\",\"Trench\",\"Trench\",\"Trench\",null,\"Trench\",\"Trench\",\"Trench\",\"Trench\",null,\"Trench\",\"Trench\",\"Trench\",\"Trench\",null,\"Trench\",\"Trench\",\"Trench\",\"Trench\",null,\"Trench\",\"Trench\",\"Trench\",\"Trench\",null],\"type\":\"scatter\"},{\"connectgaps\":false,\"hoverinfo\":\"y+name\",\"line\":{\"color\":\"rgb(106,82,222)\",\"width\":10},\"mode\":\"lines\",\"name\":\"unloading:Barge I\",\"x\":[\"1970-01-01T02:59:27\",\"1970-01-01T02:59:27\",\"1970-01-01T03:42:29\",\"1970-01-01T03:42:29\",\"1970-01-01T03:42:29\",\"1970-01-01T05:41:53\",\"1970-01-01T05:41:53\",\"1970-01-01T06:24:55\",\"1970-01-01T06:24:55\",\"1970-01-01T06:24:55\",\"1970-01-01T08:24:56\",\"1970-01-01T08:24:56\",\"1970-01-01T09:07:58\",\"1970-01-01T09:07:58\",\"1970-01-01T09:07:58\",\"1970-01-01T11:28:45\",\"1970-01-01T11:28:45\",\"1970-01-01T12:11:47\",\"1970-01-01T12:11:47\",\"1970-01-01T12:11:47\",\"1970-01-01T14:32:34\",\"1970-01-01T14:32:34\",\"1970-01-01T15:15:36\",\"1970-01-01T15:15:36\",\"1970-01-01T15:15:36\",\"1970-01-01T17:36:23\",\"1970-01-01T17:36:23\",\"1970-01-01T18:19:25\",\"1970-01-01T18:19:25\",\"1970-01-01T18:19:25\",\"1970-01-01T02:59:27\",\"1970-01-01T02:59:27\",\"1970-01-01T03:42:29\",\"1970-01-01T03:42:29\",\"1970-01-01T03:42:29\",\"1970-01-01T05:41:53\",\"1970-01-01T05:41:53\",\"1970-01-01T06:24:55\",\"1970-01-01T06:24:55\",\"1970-01-01T06:24:55\",\"1970-01-01T08:24:56\",\"1970-01-01T08:24:56\",\"1970-01-01T09:07:58\",\"1970-01-01T09:07:58\",\"1970-01-01T09:07:58\",\"1970-01-01T11:28:45\",\"1970-01-01T11:28:45\",\"1970-01-01T12:11:47\",\"1970-01-01T12:11:47\",\"1970-01-01T12:11:47\",\"1970-01-01T14:32:34\",\"1970-01-01T14:32:34\",\"1970-01-01T15:15:36\",\"1970-01-01T15:15:36\",\"1970-01-01T15:15:36\",\"1970-01-01T17:36:23\",\"1970-01-01T17:36:23\",\"1970-01-01T18:19:25\",\"1970-01-01T18:19:25\",\"1970-01-01T18:19:25\"],\"y\":[\"Barge I\",\"Barge I\",\"Barge I\",\"Barge I\",null,\"Barge I\",\"Barge I\",\"Barge I\",\"Barge I\",null,\"Barge I\",\"Barge I\",\"Barge I\",\"Barge I\",null,\"Barge I\",\"Barge I\",\"Barge I\",\"Barge I\",null,\"Barge I\",\"Barge I\",\"Barge I\",\"Barge I\",null,\"Barge I\",\"Barge I\",\"Barge I\",\"Barge I\",null,\"Reclamation\",\"Reclamation\",\"Reclamation\",\"Reclamation\",null,\"Reclamation\",\"Reclamation\",\"Reclamation\",\"Reclamation\",null,\"Reclamation\",\"Reclamation\",\"Reclamation\",\"Reclamation\",null,\"Reclamation\",\"Reclamation\",\"Reclamation\",\"Reclamation\",null,\"Reclamation\",\"Reclamation\",\"Reclamation\",\"Reclamation\",null,\"Reclamation\",\"Reclamation\",\"Reclamation\",\"Reclamation\",null],\"type\":\"scatter\"},{\"connectgaps\":false,\"hoverinfo\":\"y+name\",\"line\":{\"color\":\"rgb(115,91,231)\",\"width\":10},\"mode\":\"lines\",\"name\":\"unloading:Carrier B\",\"x\":[\"1970-01-01T02:23:45\",\"1970-01-01T02:23:45\",\"1970-01-01T03:04:25\",\"1970-01-01T03:04:25\",\"1970-01-01T03:04:25\",\"1970-01-01T04:59:05\",\"1970-01-01T04:59:05\",\"1970-01-01T05:39:45\",\"1970-01-01T05:39:45\",\"1970-01-01T05:39:45\",\"1970-01-01T07:49:14\",\"1970-01-01T07:49:14\",\"1970-01-01T08:29:54\",\"1970-01-01T08:29:54\",\"1970-01-01T08:29:54\",\"1970-01-01T10:53:03\",\"1970-01-01T10:53:03\",\"1970-01-01T11:33:43\",\"1970-01-01T11:33:43\",\"1970-01-01T11:33:43\",\"1970-01-01T13:56:52\",\"1970-01-01T13:56:52\",\"1970-01-01T14:37:32\",\"1970-01-01T14:37:32\",\"1970-01-01T14:37:32\",\"1970-01-01T17:00:41\",\"1970-01-01T17:00:41\",\"1970-01-01T17:41:21\",\"1970-01-01T17:41:21\",\"1970-01-01T17:41:21\",\"1970-01-01T02:23:45\",\"1970-01-01T02:23:45\",\"1970-01-01T03:04:25\",\"1970-01-01T03:04:25\",\"1970-01-01T03:04:25\",\"1970-01-01T04:59:05\",\"1970-01-01T04:59:05\",\"1970-01-01T05:39:45\",\"1970-01-01T05:39:45\",\"1970-01-01T05:39:45\",\"1970-01-01T07:49:14\",\"1970-01-01T07:49:14\",\"1970-01-01T08:29:54\",\"1970-01-01T08:29:54\",\"1970-01-01T08:29:54\",\"1970-01-01T10:53:03\",\"1970-01-01T10:53:03\",\"1970-01-01T11:33:43\",\"1970-01-01T11:33:43\",\"1970-01-01T11:33:43\",\"1970-01-01T13:56:52\",\"1970-01-01T13:56:52\",\"1970-01-01T14:37:32\",\"1970-01-01T14:37:32\",\"1970-01-01T14:37:32\",\"1970-01-01T17:00:41\",\"1970-01-01T17:00:41\",\"1970-01-01T17:41:21\",\"1970-01-01T17:41:21\",\"1970-01-01T17:41:21\"],\"y\":[\"Carrier B\",\"Carrier B\",\"Carrier B\",\"Carrier B\",null,\"Carrier B\",\"Carrier B\",\"Carrier B\",\"Carrier B\",null,\"Carrier B\",\"Carrier B\",\"Carrier B\",\"Carrier B\",null,\"Carrier B\",\"Carrier B\",\"Carrier B\",\"Carrier B\",null,\"Carrier B\",\"Carrier B\",\"Carrier B\",\"Carrier B\",null,\"Carrier B\",\"Carrier B\",\"Carrier B\",\"Carrier B\",null,\"Reclamation\",\"Reclamation\",\"Reclamation\",\"Reclamation\",null,\"Reclamation\",\"Reclamation\",\"Reclamation\",\"Reclamation\",null,\"Reclamation\",\"Reclamation\",\"Reclamation\",\"Reclamation\",null,\"Reclamation\",\"Reclamation\",\"Reclamation\",\"Reclamation\",null,\"Reclamation\",\"Reclamation\",\"Reclamation\",\"Reclamation\",null,\"Reclamation\",\"Reclamation\",\"Reclamation\",\"Reclamation\",null],\"type\":\"scatter\"},{\"connectgaps\":false,\"hoverinfo\":\"y+name\",\"line\":{\"color\":\"rgb(124,100,240)\",\"width\":10},\"mode\":\"lines\",\"name\":\"unloading:Carrier A\",\"x\":[\"1970-01-01T03:45:28\",\"1970-01-01T03:45:28\",\"1970-01-01T04:32:51\",\"1970-01-01T04:32:51\",\"1970-01-01T04:32:51\",\"1970-01-01T06:49:17\",\"1970-01-01T06:49:17\",\"1970-01-01T07:36:40\",\"1970-01-01T07:36:40\",\"1970-01-01T07:36:40\",\"1970-01-01T09:53:06\",\"1970-01-01T09:53:06\",\"1970-01-01T10:40:29\",\"1970-01-01T10:40:29\",\"1970-01-01T10:40:29\",\"1970-01-01T12:56:55\",\"1970-01-01T12:56:55\",\"1970-01-01T13:44:18\",\"1970-01-01T13:44:18\",\"1970-01-01T13:44:18\",\"1970-01-01T16:00:44\",\"1970-01-01T16:00:44\",\"1970-01-01T16:48:07\",\"1970-01-01T16:48:07\",\"1970-01-01T16:48:07\",\"1970-01-01T19:04:33\",\"1970-01-01T19:04:33\",\"1970-01-01T19:51:56\",\"1970-01-01T19:51:56\",\"1970-01-01T19:51:56\",\"1970-01-01T03:45:28\",\"1970-01-01T03:45:28\",\"1970-01-01T04:32:51\",\"1970-01-01T04:32:51\",\"1970-01-01T04:32:51\",\"1970-01-01T06:49:17\",\"1970-01-01T06:49:17\",\"1970-01-01T07:36:40\",\"1970-01-01T07:36:40\",\"1970-01-01T07:36:40\",\"1970-01-01T09:53:06\",\"1970-01-01T09:53:06\",\"1970-01-01T10:40:29\",\"1970-01-01T10:40:29\",\"1970-01-01T10:40:29\",\"1970-01-01T12:56:55\",\"1970-01-01T12:56:55\",\"1970-01-01T13:44:18\",\"1970-01-01T13:44:18\",\"1970-01-01T13:44:18\",\"1970-01-01T16:00:44\",\"1970-01-01T16:00:44\",\"1970-01-01T16:48:07\",\"1970-01-01T16:48:07\",\"1970-01-01T16:48:07\",\"1970-01-01T19:04:33\",\"1970-01-01T19:04:33\",\"1970-01-01T19:51:56\",\"1970-01-01T19:51:56\",\"1970-01-01T19:51:56\"],\"y\":[\"Carrier A\",\"Carrier A\",\"Carrier A\",\"Carrier A\",null,\"Carrier A\",\"Carrier A\",\"Carrier A\",\"Carrier A\",null,\"Carrier A\",\"Carrier A\",\"Carrier A\",\"Carrier A\",null,\"Carrier A\",\"Carrier A\",\"Carrier A\",\"Carrier A\",null,\"Carrier A\",\"Carrier A\",\"Carrier A\",\"Carrier A\",null,\"Carrier A\",\"Carrier A\",\"Carrier A\",\"Carrier A\",null,\"Reclamation\",\"Reclamation\",\"Reclamation\",\"Reclamation\",null,\"Reclamation\",\"Reclamation\",\"Reclamation\",\"Reclamation\",null,\"Reclamation\",\"Reclamation\",\"Reclamation\",\"Reclamation\",null,\"Reclamation\",\"Reclamation\",\"Reclamation\",\"Reclamation\",null,\"Reclamation\",\"Reclamation\",\"Reclamation\",\"Reclamation\",null,\"Reclamation\",\"Reclamation\",\"Reclamation\",\"Reclamation\",null],\"type\":\"scatter\"},{\"connectgaps\":false,\"hoverinfo\":\"y+name\",\"line\":{\"color\":\"rgb(133,109,249)\",\"width\":10},\"mode\":\"lines\",\"name\":\"unloading:Carrier C\",\"x\":[\"1970-01-01T01:46:10\",\"1970-01-01T01:46:10\",\"1970-01-01T02:22:35\",\"1970-01-01T02:22:35\",\"1970-01-01T02:22:35\",\"1970-01-01T04:08:45\",\"1970-01-01T04:08:45\",\"1970-01-01T04:45:10\",\"1970-01-01T04:45:10\",\"1970-01-01T04:45:10\",\"1970-01-01T07:11:39\",\"1970-01-01T07:11:39\",\"1970-01-01T07:48:04\",\"1970-01-01T07:48:04\",\"1970-01-01T07:48:04\",\"1970-01-01T10:15:28\",\"1970-01-01T10:15:28\",\"1970-01-01T10:51:53\",\"1970-01-01T10:51:53\",\"1970-01-01T10:51:53\",\"1970-01-01T13:19:17\",\"1970-01-01T13:19:17\",\"1970-01-01T13:55:42\",\"1970-01-01T13:55:42\",\"1970-01-01T13:55:42\",\"1970-01-01T16:23:06\",\"1970-01-01T16:23:06\",\"1970-01-01T16:59:31\",\"1970-01-01T16:59:31\",\"1970-01-01T16:59:31\",\"1970-01-01T01:46:10\",\"1970-01-01T01:46:10\",\"1970-01-01T02:22:35\",\"1970-01-01T02:22:35\",\"1970-01-01T02:22:35\",\"1970-01-01T04:08:45\",\"1970-01-01T04:08:45\",\"1970-01-01T04:45:10\",\"1970-01-01T04:45:10\",\"1970-01-01T04:45:10\",\"1970-01-01T07:11:39\",\"1970-01-01T07:11:39\",\"1970-01-01T07:48:04\",\"1970-01-01T07:48:04\",\"1970-01-01T07:48:04\",\"1970-01-01T10:15:28\",\"1970-01-01T10:15:28\",\"1970-01-01T10:51:53\",\"1970-01-01T10:51:53\",\"1970-01-01T10:51:53\",\"1970-01-01T13:19:17\",\"1970-01-01T13:19:17\",\"1970-01-01T13:55:42\",\"1970-01-01T13:55:42\",\"1970-01-01T13:55:42\",\"1970-01-01T16:23:06\",\"1970-01-01T16:23:06\",\"1970-01-01T16:59:31\",\"1970-01-01T16:59:31\",\"1970-01-01T16:59:31\"],\"y\":[\"Carrier C\",\"Carrier C\",\"Carrier C\",\"Carrier C\",null,\"Carrier C\",\"Carrier C\",\"Carrier C\",\"Carrier C\",null,\"Carrier C\",\"Carrier C\",\"Carrier C\",\"Carrier C\",null,\"Carrier C\",\"Carrier C\",\"Carrier C\",\"Carrier C\",null,\"Carrier C\",\"Carrier C\",\"Carrier C\",\"Carrier C\",null,\"Carrier C\",\"Carrier C\",\"Carrier C\",\"Carrier C\",null,\"Reclamation\",\"Reclamation\",\"Reclamation\",\"Reclamation\",null,\"Reclamation\",\"Reclamation\",\"Reclamation\",\"Reclamation\",null,\"Reclamation\",\"Reclamation\",\"Reclamation\",\"Reclamation\",null,\"Reclamation\",\"Reclamation\",\"Reclamation\",\"Reclamation\",null,\"Reclamation\",\"Reclamation\",\"Reclamation\",\"Reclamation\",null,\"Reclamation\",\"Reclamation\",\"Reclamation\",\"Reclamation\",null],\"type\":\"scatter\"}],                        {\"hovermode\":\"closest\",\"legend\":{\"orientation\":\"h\",\"x\":0,\"y\":-0.2},\"showlegend\":false,\"template\":{\"data\":{\"barpolar\":[{\"marker\":{\"line\":{\"color\":\"#E5ECF6\",\"width\":0.5},\"pattern\":{\"fillmode\":\"overlay\",\"size\":10,\"solidity\":0.2}},\"type\":\"barpolar\"}],\"bar\":[{\"error_x\":{\"color\":\"#2a3f5f\"},\"error_y\":{\"color\":\"#2a3f5f\"},\"marker\":{\"line\":{\"color\":\"#E5ECF6\",\"width\":0.5},\"pattern\":{\"fillmode\":\"overlay\",\"size\":10,\"solidity\":0.2}},\"type\":\"bar\"}],\"carpet\":[{\"aaxis\":{\"endlinecolor\":\"#2a3f5f\",\"gridcolor\":\"white\",\"linecolor\":\"white\",\"minorgridcolor\":\"white\",\"startlinecolor\":\"#2a3f5f\"},\"baxis\":{\"endlinecolor\":\"#2a3f5f\",\"gridcolor\":\"white\",\"linecolor\":\"white\",\"minorgridcolor\":\"white\",\"startlinecolor\":\"#2a3f5f\"},\"type\":\"carpet\"}],\"choropleth\":[{\"colorbar\":{\"outlinewidth\":0,\"ticks\":\"\"},\"type\":\"choropleth\"}],\"contourcarpet\":[{\"colorbar\":{\"outlinewidth\":0,\"ticks\":\"\"},\"type\":\"contourcarpet\"}],\"contour\":[{\"colorbar\":{\"outlinewidth\":0,\"ticks\":\"\"},\"colorscale\":[[0.0,\"#0d0887\"],[0.1111111111111111,\"#46039f\"],[0.2222222222222222,\"#7201a8\"],[0.3333333333333333,\"#9c179e\"],[0.4444444444444444,\"#bd3786\"],[0.5555555555555556,\"#d8576b\"],[0.6666666666666666,\"#ed7953\"],[0.7777777777777778,\"#fb9f3a\"],[0.8888888888888888,\"#fdca26\"],[1.0,\"#f0f921\"]],\"type\":\"contour\"}],\"heatmapgl\":[{\"colorbar\":{\"outlinewidth\":0,\"ticks\":\"\"},\"colorscale\":[[0.0,\"#0d0887\"],[0.1111111111111111,\"#46039f\"],[0.2222222222222222,\"#7201a8\"],[0.3333333333333333,\"#9c179e\"],[0.4444444444444444,\"#bd3786\"],[0.5555555555555556,\"#d8576b\"],[0.6666666666666666,\"#ed7953\"],[0.7777777777777778,\"#fb9f3a\"],[0.8888888888888888,\"#fdca26\"],[1.0,\"#f0f921\"]],\"type\":\"heatmapgl\"}],\"heatmap\":[{\"colorbar\":{\"outlinewidth\":0,\"ticks\":\"\"},\"colorscale\":[[0.0,\"#0d0887\"],[0.1111111111111111,\"#46039f\"],[0.2222222222222222,\"#7201a8\"],[0.3333333333333333,\"#9c179e\"],[0.4444444444444444,\"#bd3786\"],[0.5555555555555556,\"#d8576b\"],[0.6666666666666666,\"#ed7953\"],[0.7777777777777778,\"#fb9f3a\"],[0.8888888888888888,\"#fdca26\"],[1.0,\"#f0f921\"]],\"type\":\"heatmap\"}],\"histogram2dcontour\":[{\"colorbar\":{\"outlinewidth\":0,\"ticks\":\"\"},\"colorscale\":[[0.0,\"#0d0887\"],[0.1111111111111111,\"#46039f\"],[0.2222222222222222,\"#7201a8\"],[0.3333333333333333,\"#9c179e\"],[0.4444444444444444,\"#bd3786\"],[0.5555555555555556,\"#d8576b\"],[0.6666666666666666,\"#ed7953\"],[0.7777777777777778,\"#fb9f3a\"],[0.8888888888888888,\"#fdca26\"],[1.0,\"#f0f921\"]],\"type\":\"histogram2dcontour\"}],\"histogram2d\":[{\"colorbar\":{\"outlinewidth\":0,\"ticks\":\"\"},\"colorscale\":[[0.0,\"#0d0887\"],[0.1111111111111111,\"#46039f\"],[0.2222222222222222,\"#7201a8\"],[0.3333333333333333,\"#9c179e\"],[0.4444444444444444,\"#bd3786\"],[0.5555555555555556,\"#d8576b\"],[0.6666666666666666,\"#ed7953\"],[0.7777777777777778,\"#fb9f3a\"],[0.8888888888888888,\"#fdca26\"],[1.0,\"#f0f921\"]],\"type\":\"histogram2d\"}],\"histogram\":[{\"marker\":{\"pattern\":{\"fillmode\":\"overlay\",\"size\":10,\"solidity\":0.2}},\"type\":\"histogram\"}],\"mesh3d\":[{\"colorbar\":{\"outlinewidth\":0,\"ticks\":\"\"},\"type\":\"mesh3d\"}],\"parcoords\":[{\"line\":{\"colorbar\":{\"outlinewidth\":0,\"ticks\":\"\"}},\"type\":\"parcoords\"}],\"pie\":[{\"automargin\":true,\"type\":\"pie\"}],\"scatter3d\":[{\"line\":{\"colorbar\":{\"outlinewidth\":0,\"ticks\":\"\"}},\"marker\":{\"colorbar\":{\"outlinewidth\":0,\"ticks\":\"\"}},\"type\":\"scatter3d\"}],\"scattercarpet\":[{\"marker\":{\"colorbar\":{\"outlinewidth\":0,\"ticks\":\"\"}},\"type\":\"scattercarpet\"}],\"scattergeo\":[{\"marker\":{\"colorbar\":{\"outlinewidth\":0,\"ticks\":\"\"}},\"type\":\"scattergeo\"}],\"scattergl\":[{\"marker\":{\"colorbar\":{\"outlinewidth\":0,\"ticks\":\"\"}},\"type\":\"scattergl\"}],\"scattermapbox\":[{\"marker\":{\"colorbar\":{\"outlinewidth\":0,\"ticks\":\"\"}},\"type\":\"scattermapbox\"}],\"scatterpolargl\":[{\"marker\":{\"colorbar\":{\"outlinewidth\":0,\"ticks\":\"\"}},\"type\":\"scatterpolargl\"}],\"scatterpolar\":[{\"marker\":{\"colorbar\":{\"outlinewidth\":0,\"ticks\":\"\"}},\"type\":\"scatterpolar\"}],\"scatter\":[{\"fillpattern\":{\"fillmode\":\"overlay\",\"size\":10,\"solidity\":0.2},\"type\":\"scatter\"}],\"scatterternary\":[{\"marker\":{\"colorbar\":{\"outlinewidth\":0,\"ticks\":\"\"}},\"type\":\"scatterternary\"}],\"surface\":[{\"colorbar\":{\"outlinewidth\":0,\"ticks\":\"\"},\"colorscale\":[[0.0,\"#0d0887\"],[0.1111111111111111,\"#46039f\"],[0.2222222222222222,\"#7201a8\"],[0.3333333333333333,\"#9c179e\"],[0.4444444444444444,\"#bd3786\"],[0.5555555555555556,\"#d8576b\"],[0.6666666666666666,\"#ed7953\"],[0.7777777777777778,\"#fb9f3a\"],[0.8888888888888888,\"#fdca26\"],[1.0,\"#f0f921\"]],\"type\":\"surface\"}],\"table\":[{\"cells\":{\"fill\":{\"color\":\"#EBF0F8\"},\"line\":{\"color\":\"white\"}},\"header\":{\"fill\":{\"color\":\"#C8D4E3\"},\"line\":{\"color\":\"white\"}},\"type\":\"table\"}]},\"layout\":{\"annotationdefaults\":{\"arrowcolor\":\"#2a3f5f\",\"arrowhead\":0,\"arrowwidth\":1},\"autotypenumbers\":\"strict\",\"coloraxis\":{\"colorbar\":{\"outlinewidth\":0,\"ticks\":\"\"}},\"colorscale\":{\"diverging\":[[0,\"#8e0152\"],[0.1,\"#c51b7d\"],[0.2,\"#de77ae\"],[0.3,\"#f1b6da\"],[0.4,\"#fde0ef\"],[0.5,\"#f7f7f7\"],[0.6,\"#e6f5d0\"],[0.7,\"#b8e186\"],[0.8,\"#7fbc41\"],[0.9,\"#4d9221\"],[1,\"#276419\"]],\"sequential\":[[0.0,\"#0d0887\"],[0.1111111111111111,\"#46039f\"],[0.2222222222222222,\"#7201a8\"],[0.3333333333333333,\"#9c179e\"],[0.4444444444444444,\"#bd3786\"],[0.5555555555555556,\"#d8576b\"],[0.6666666666666666,\"#ed7953\"],[0.7777777777777778,\"#fb9f3a\"],[0.8888888888888888,\"#fdca26\"],[1.0,\"#f0f921\"]],\"sequentialminus\":[[0.0,\"#0d0887\"],[0.1111111111111111,\"#46039f\"],[0.2222222222222222,\"#7201a8\"],[0.3333333333333333,\"#9c179e\"],[0.4444444444444444,\"#bd3786\"],[0.5555555555555556,\"#d8576b\"],[0.6666666666666666,\"#ed7953\"],[0.7777777777777778,\"#fb9f3a\"],[0.8888888888888888,\"#fdca26\"],[1.0,\"#f0f921\"]]},\"colorway\":[\"#636efa\",\"#EF553B\",\"#00cc96\",\"#ab63fa\",\"#FFA15A\",\"#19d3f3\",\"#FF6692\",\"#B6E880\",\"#FF97FF\",\"#FECB52\"],\"font\":{\"color\":\"#2a3f5f\"},\"geo\":{\"bgcolor\":\"white\",\"lakecolor\":\"white\",\"landcolor\":\"#E5ECF6\",\"showlakes\":true,\"showland\":true,\"subunitcolor\":\"white\"},\"hoverlabel\":{\"align\":\"left\"},\"hovermode\":\"closest\",\"mapbox\":{\"style\":\"light\"},\"paper_bgcolor\":\"white\",\"plot_bgcolor\":\"#E5ECF6\",\"polar\":{\"angularaxis\":{\"gridcolor\":\"white\",\"linecolor\":\"white\",\"ticks\":\"\"},\"bgcolor\":\"#E5ECF6\",\"radialaxis\":{\"gridcolor\":\"white\",\"linecolor\":\"white\",\"ticks\":\"\"}},\"scene\":{\"xaxis\":{\"backgroundcolor\":\"#E5ECF6\",\"gridcolor\":\"white\",\"gridwidth\":2,\"linecolor\":\"white\",\"showbackground\":true,\"ticks\":\"\",\"zerolinecolor\":\"white\"},\"yaxis\":{\"backgroundcolor\":\"#E5ECF6\",\"gridcolor\":\"white\",\"gridwidth\":2,\"linecolor\":\"white\",\"showbackground\":true,\"ticks\":\"\",\"zerolinecolor\":\"white\"},\"zaxis\":{\"backgroundcolor\":\"#E5ECF6\",\"gridcolor\":\"white\",\"gridwidth\":2,\"linecolor\":\"white\",\"showbackground\":true,\"ticks\":\"\",\"zerolinecolor\":\"white\"}},\"shapedefaults\":{\"line\":{\"color\":\"#2a3f5f\"}},\"ternary\":{\"aaxis\":{\"gridcolor\":\"white\",\"linecolor\":\"white\",\"ticks\":\"\"},\"baxis\":{\"gridcolor\":\"white\",\"linecolor\":\"white\",\"ticks\":\"\"},\"bgcolor\":\"#E5ECF6\",\"caxis\":{\"gridcolor\":\"white\",\"linecolor\":\"white\",\"ticks\":\"\"}},\"title\":{\"x\":0.05},\"xaxis\":{\"automargin\":true,\"gridcolor\":\"white\",\"linecolor\":\"white\",\"ticks\":\"\",\"title\":{\"standoff\":15},\"zerolinecolor\":\"white\",\"zerolinewidth\":2},\"yaxis\":{\"automargin\":true,\"gridcolor\":\"white\",\"linecolor\":\"white\",\"ticks\":\"\",\"title\":{\"standoff\":15},\"zerolinecolor\":\"white\",\"zerolinewidth\":2}}},\"title\":{\"text\":\"Cutter T occupancy: 80.1duration actual: 63645.0\"},\"xaxis\":{\"range\":[\"1970-01-01T00:00:00\",\"1970-01-01T19:51:56\"],\"title\":{\"font\":{\"color\":\"#7f7f7f\",\"family\":\"Courier New, monospace\",\"size\":18},\"text\":\"Time\"}},\"yaxis\":{\"title\":{\"font\":{\"color\":\"#7f7f7f\",\"family\":\"Courier New, monospace\",\"size\":18},\"text\":\"vesels\"}}},                        {\"responsive\": true}                    ).then(function(){\n",
       "                            \n",
       "var gd = document.getElementById('905bc4dc-0656-4487-a044-975c6bf48abc');\n",
       "var x = new MutationObserver(function (mutations, observer) {{\n",
       "        var display = window.getComputedStyle(gd).display;\n",
       "        if (!display || display === 'none') {{\n",
       "            console.log([gd, 'removed!']);\n",
       "            Plotly.purge(gd);\n",
       "            observer.disconnect();\n",
       "        }}\n",
       "}});\n",
       "\n",
       "// Listen for the removal of the full notebook cells\n",
       "var notebookContainer = gd.closest('#notebook-container');\n",
       "if (notebookContainer) {{\n",
       "    x.observe(notebookContainer, {childList: true});\n",
       "}}\n",
       "\n",
       "// Listen for the clearing of the current output cell\n",
       "var outputEl = gd.closest('.output');\n",
       "if (outputEl) {{\n",
       "    x.observe(outputEl, {childList: true});\n",
       "}}\n",
       "\n",
       "                        })                };                });            </script>        </div>"
      ]
     },
     "metadata": {},
     "output_type": "display_data"
    }
   ],
   "source": [
    "# For explanation of Critical Path see notebook 30\n",
    "from openclsim.plot.critical_path import CpLog\n",
    "my_objects = list(vessels.values()) + list(sites.values())\n",
    "my_activities = list(activities.values())\n",
    "my_log = CpLog(list_objects=my_objects, list_activities=my_activities)\n",
    "dependencies = my_log.get_dependencies_model_based()\n",
    "# dependencies = my_log.get_dependencies_log_based()\n",
    "cp = my_log.mark_critical_activities(dependencies)\n",
    "occupancy = occupancy_analysis(vessels, cutter_name, total_amount, vessel_cost)\n",
    "\n",
    "t = f'{cutter_name} occupancy: ' + str(occupancy.loc[cutter_name]['occupancy [%]']) + f'duration actual: ' +\\\n",
    "     str(occupancy.loc[cutter_name]['duration actual'])\n",
    "fig = get_gantt_chart(concepts=my_objects, critical_path=cp, id_map=activities, title=t, legend=False, ylabel='vesels')"
   ]
  },
  {
   "cell_type": "code",
   "execution_count": null,
   "id": "2f714d6a",
   "metadata": {},
   "outputs": [],
   "source": []
  }
 ],
 "metadata": {
  "kernelspec": {
   "display_name": "Python 3 (ipykernel)",
   "language": "python",
   "name": "python3"
  },
  "language_info": {
   "codemirror_mode": {
    "name": "ipython",
    "version": 3
   },
   "file_extension": ".py",
   "mimetype": "text/x-python",
   "name": "python",
   "nbconvert_exporter": "python",
   "pygments_lexer": "ipython3",
   "version": "3.9.16"
  }
 },
 "nbformat": 4,
 "nbformat_minor": 5
}
