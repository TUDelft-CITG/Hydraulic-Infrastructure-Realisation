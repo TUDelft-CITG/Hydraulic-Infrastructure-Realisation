{
 "cells": [
  {
   "cell_type": "code",
   "execution_count": 1,
   "metadata": {},
   "outputs": [],
   "source": [
    "import datetime, time\n",
    "import simpy\n",
    "\n",
    "import shapely.geometry\n",
    "import pandas as pd\n",
    "\n",
    "import openclsim.core as core\n",
    "import openclsim.model as model\n",
    "import openclsim.plot as plot\n",
    "import numpy as np"
   ]
  },
  {
   "cell_type": "code",
   "execution_count": 2,
   "metadata": {},
   "outputs": [],
   "source": [
    "Site = type(\n",
    "    \"Site\",\n",
    "    (\n",
    "        core.Identifiable,\n",
    "        core.Log,\n",
    "        core.Locatable,\n",
    "        core.HasContainer,\n",
    "        core.HasResource,\n",
    "    ),\n",
    "    {},\n",
    ")\n",
    "TransportProcessingResource = type(\n",
    "    \"TransportProcessingResource\",\n",
    "    (\n",
    "        core.Identifiable,\n",
    "        core.Log,\n",
    "        core.ContainerDependentMovable,\n",
    "        core.Processor,\n",
    "        core.HasResource,\n",
    "    ),\n",
    "    {},\n",
    ")"
   ]
  },
  {
   "cell_type": "code",
   "execution_count": 3,
   "metadata": {},
   "outputs": [],
   "source": [
    "def run(NR_BARGES, total_amount):\n",
    "    simulation_start = 0\n",
    "    my_env = simpy.Environment(initial_time=simulation_start)\n",
    "    registry = {}\n",
    "\n",
    "    location_from_site = shapely.geometry.Point(4.18055556, 52.18664444)\n",
    "    location_to_site = shapely.geometry.Point(4.25222222, 52.11428333)\n",
    "\n",
    "    data_from_site = {\"env\": my_env,\n",
    "                      \"name\": \"from_site\",\n",
    "                      \"geometry\": location_from_site,\n",
    "                      \"capacity\": total_amount,\n",
    "                      \"level\": total_amount,\n",
    "                      \"nr_resources\":1\n",
    "                     }\n",
    "    from_site = Site(**data_from_site)\n",
    "\n",
    "    location_to_site = shapely.geometry.Point(4.25222222, 52.11428333)\n",
    "    data_to_site = {\"env\": my_env,\n",
    "                    \"name\": \"to_site\",\n",
    "                    \"geometry\": location_to_site,\n",
    "                    \"capacity\": total_amount,\n",
    "                    \"level\": 0,\n",
    "                    \"nr_resources\":4\n",
    "                   }\n",
    "    to_site = Site(**data_to_site)\n",
    "\n",
    "    vessels = {}\n",
    "\n",
    "    for i in range(NR_BARGES):\n",
    "        vessels[f\"vessel{i}\"] = TransportProcessingResource(\n",
    "            env=my_env,\n",
    "            name=f\"barge_{i}\",\n",
    "            geometry=location_from_site, \n",
    "            capacity=10,\n",
    "            compute_v=lambda x: 10\n",
    "        )\n",
    "    cutter = TransportProcessingResource(\n",
    "        env=my_env,\n",
    "        name=f\"cutter\",\n",
    "        geometry=location_from_site, \n",
    "        capacity=10,\n",
    "        compute_v=lambda x: 10\n",
    "    )\n",
    "    vessels['cutter'] = cutter\n",
    "    \n",
    "\n",
    "    activities = {}\n",
    "    for i in range(NR_BARGES):\n",
    "        amount = np.random.randint(4,6) # handle loading\n",
    "        duration=np.random.randint(2000,3000) # sailing and unloading\n",
    "\n",
    "        requested_resources={}\n",
    "        activities[f\"activity{i}\"] = model.WhileActivity(\n",
    "            env=my_env,\n",
    "            name=f\"while_sequential_activity_subcycle{i}\",\n",
    "            registry=registry,\n",
    "            sub_processes=[model.SequentialActivity(\n",
    "                env=my_env,\n",
    "                name=f\"sequential_activity_subcycle{i}\",\n",
    "                registry=registry,\n",
    "                sub_processes=[\n",
    "                    model.BasicActivity(\n",
    "                        env=my_env,\n",
    "                        name=f\"basic activity:\"+vessels[f\"vessel{i}\"].name,\n",
    "                        registry=registry,\n",
    "                        duration=duration,\n",
    "                        additional_logs=[vessels[f\"vessel{i}\"]],\n",
    "                    ),\n",
    "                    model.MoveActivity(\n",
    "                        env=my_env,\n",
    "                        name=f\"sailing empty:\"+vessels[f\"vessel{i}\"].name,\n",
    "                        registry=registry,\n",
    "                        mover=vessels[f\"vessel{i}\"],\n",
    "                        destination=from_site,\n",
    "                        duration=duration,\n",
    "                    ),\n",
    "                    model.ShiftAmountActivity(\n",
    "                        env=my_env,\n",
    "                        name=f\"loading:\"+vessels[f\"vessel{i}\"].name,\n",
    "                        registry=registry,\n",
    "                        processor=cutter,\n",
    "                        origin=from_site,\n",
    "                        destination=vessels[f\"vessel{i}\"],\n",
    "                        amount=amount,\n",
    "                        duration=500*amount,\n",
    "                        requested_resources=requested_resources,\n",
    "                    ),\n",
    "                    model.MoveActivity(\n",
    "                        env=my_env,\n",
    "                        name=f\"sailing full:\"+vessels[f\"vessel{i}\"].name,\n",
    "                        registry=registry,\n",
    "                        mover=vessels[f\"vessel{i}\"],\n",
    "                        destination=to_site,\n",
    "                        duration=duration,\n",
    "                    ),\n",
    "                    model.ShiftAmountActivity(\n",
    "                        env=my_env,\n",
    "                        name=f\"unloading:\"+vessels[f\"vessel{i}\"].name,\n",
    "                        registry=registry,\n",
    "                        processor=vessels[f\"vessel{i}\"],\n",
    "                        origin=vessels[f\"vessel{i}\"],\n",
    "                        destination=to_site,\n",
    "                        amount=amount,\n",
    "                        duration=duration,\n",
    "                        requested_resources=requested_resources,\n",
    "                    ),\n",
    "                ],\n",
    "            )],\n",
    "            condition_event=[\n",
    "                {\n",
    "                    \"type\": \"container\", \n",
    "                    \"concept\": to_site, \n",
    "                    \"state\": \"full\",\n",
    "                    \"id_\":\"default_reservations\"\n",
    "                }\n",
    "            ],\n",
    "        )\n",
    "\n",
    "    model.register_processes(list(activities.values()))\n",
    "    my_env.run()\n",
    "    \n",
    "    return {\n",
    "        \"vessels\": vessels,\n",
    "        \"activities\":activities,\n",
    "        \"from_site\":from_site,\n",
    "        \"to_site\":to_site,\n",
    "    }\n"
   ]
  },
  {
   "cell_type": "code",
   "execution_count": 4,
   "metadata": {},
   "outputs": [
    {
     "name": "stdout",
     "output_type": "stream",
     "text": [
      "Wall time: 44 ms\n"
     ]
    }
   ],
   "source": [
    "%%time\n",
    "\n",
    "res = run(3,100)\n",
    "vessels = res['vessels']\n",
    "activities = res['activities']\n",
    "cutter = vessels['cutter']\n",
    "to_site = res['to_site']\n",
    "from_site = res['from_site']"
   ]
  },
  {
   "cell_type": "code",
   "execution_count": 5,
   "metadata": {},
   "outputs": [
    {
     "data": {
      "text/html": [
       "        <script type=\"text/javascript\">\n",
       "        window.PlotlyConfig = {MathJaxConfig: 'local'};\n",
       "        if (window.MathJax) {MathJax.Hub.Config({SVG: {font: \"STIX-Web\"}});}\n",
       "        if (typeof require !== 'undefined') {\n",
       "        require.undef(\"plotly\");\n",
       "        requirejs.config({\n",
       "            paths: {\n",
       "                'plotly': ['https://cdn.plot.ly/plotly-2.8.3.min']\n",
       "            }\n",
       "        });\n",
       "        require(['plotly'], function(Plotly) {\n",
       "            window._Plotly = Plotly;\n",
       "        });\n",
       "        }\n",
       "        </script>\n",
       "        "
      ]
     },
     "metadata": {},
     "output_type": "display_data"
    },
    {
     "data": {
      "application/vnd.plotly.v1+json": {
       "config": {
        "linkText": "Export to plot.ly",
        "plotlyServerURL": "https://plot.ly",
        "showLink": false
       },
       "data": [
        {
         "connectgaps": false,
         "hoverinfo": "y+name",
         "line": {
          "color": "rgb(86,175,199)",
          "width": 10
         },
         "mode": "lines",
         "name": "unloading:barge_0",
         "type": "scatter",
         "x": [
          "1970-01-01T03:58:07",
          "1970-01-01T03:58:07",
          "1970-01-01T04:43:42",
          "1970-01-01T04:43:42",
          "1970-01-01T04:43:42",
          "1970-01-01T07:42:07",
          "1970-01-01T07:42:07",
          "1970-01-01T08:27:42",
          "1970-01-01T08:27:42",
          "1970-01-01T08:27:42",
          "1970-01-01T11:26:07",
          "1970-01-01T11:26:07",
          "1970-01-01T12:11:42",
          "1970-01-01T12:11:42",
          "1970-01-01T12:11:42",
          "1970-01-01T15:10:07",
          "1970-01-01T15:10:07",
          "1970-01-01T15:55:42",
          "1970-01-01T15:55:42",
          "1970-01-01T15:55:42",
          "1970-01-01T18:54:07",
          "1970-01-01T18:54:07",
          "1970-01-01T19:39:42",
          "1970-01-01T19:39:42",
          "1970-01-01T19:39:42",
          "1970-01-01T22:38:07",
          "1970-01-01T22:38:07",
          "1970-01-01T23:23:42",
          "1970-01-01T23:23:42",
          "1970-01-01T23:23:42",
          "1970-01-02T02:22:07",
          "1970-01-02T02:22:07",
          "1970-01-02T03:07:42",
          "1970-01-02T03:07:42",
          "1970-01-02T03:07:42"
         ],
         "y": [
          "barge_0",
          "barge_0",
          "barge_0",
          "barge_0",
          null,
          "barge_0",
          "barge_0",
          "barge_0",
          "barge_0",
          null,
          "barge_0",
          "barge_0",
          "barge_0",
          "barge_0",
          null,
          "barge_0",
          "barge_0",
          "barge_0",
          "barge_0",
          null,
          "barge_0",
          "barge_0",
          "barge_0",
          "barge_0",
          null,
          "barge_0",
          "barge_0",
          "barge_0",
          "barge_0",
          null,
          "barge_0",
          "barge_0",
          "barge_0",
          "barge_0",
          null
         ]
        },
        {
         "connectgaps": false,
         "hoverinfo": "y+name",
         "line": {
          "color": "rgb(100,189,213)",
          "width": 10
         },
         "mode": "lines",
         "name": "basic activity:barge_0",
         "type": "scatter",
         "x": [
          "1970-01-01T00:00:00",
          "1970-01-01T00:00:00",
          "1970-01-01T00:45:35",
          "1970-01-01T00:45:35",
          "1970-01-01T00:45:35",
          "1970-01-01T04:43:42",
          "1970-01-01T04:43:42",
          "1970-01-01T05:29:17",
          "1970-01-01T05:29:17",
          "1970-01-01T05:29:17",
          "1970-01-01T08:27:42",
          "1970-01-01T08:27:42",
          "1970-01-01T09:13:17",
          "1970-01-01T09:13:17",
          "1970-01-01T09:13:17",
          "1970-01-01T12:11:42",
          "1970-01-01T12:11:42",
          "1970-01-01T12:57:17",
          "1970-01-01T12:57:17",
          "1970-01-01T12:57:17",
          "1970-01-01T15:55:42",
          "1970-01-01T15:55:42",
          "1970-01-01T16:41:17",
          "1970-01-01T16:41:17",
          "1970-01-01T16:41:17",
          "1970-01-01T19:39:42",
          "1970-01-01T19:39:42",
          "1970-01-01T20:25:17",
          "1970-01-01T20:25:17",
          "1970-01-01T20:25:17",
          "1970-01-01T23:23:42",
          "1970-01-01T23:23:42",
          "1970-01-02T00:09:17",
          "1970-01-02T00:09:17",
          "1970-01-02T00:09:17"
         ],
         "y": [
          "barge_0",
          "barge_0",
          "barge_0",
          "barge_0",
          null,
          "barge_0",
          "barge_0",
          "barge_0",
          "barge_0",
          null,
          "barge_0",
          "barge_0",
          "barge_0",
          "barge_0",
          null,
          "barge_0",
          "barge_0",
          "barge_0",
          "barge_0",
          null,
          "barge_0",
          "barge_0",
          "barge_0",
          "barge_0",
          null,
          "barge_0",
          "barge_0",
          "barge_0",
          "barge_0",
          null,
          "barge_0",
          "barge_0",
          "barge_0",
          "barge_0",
          null
         ]
        },
        {
         "connectgaps": false,
         "hoverinfo": "y+name",
         "line": {
          "color": "rgb(114,203,227)",
          "width": 10
         },
         "mode": "lines",
         "name": "loading:barge_0",
         "type": "scatter",
         "x": [
          "1970-01-01T02:30:52",
          "1970-01-01T02:30:52",
          "1970-01-01T03:12:32",
          "1970-01-01T03:12:32",
          "1970-01-01T03:12:32",
          "1970-01-01T06:14:52",
          "1970-01-01T06:14:52",
          "1970-01-01T06:56:32",
          "1970-01-01T06:56:32",
          "1970-01-01T06:56:32",
          "1970-01-01T09:58:52",
          "1970-01-01T09:58:52",
          "1970-01-01T10:40:32",
          "1970-01-01T10:40:32",
          "1970-01-01T10:40:32",
          "1970-01-01T13:42:52",
          "1970-01-01T13:42:52",
          "1970-01-01T14:24:32",
          "1970-01-01T14:24:32",
          "1970-01-01T14:24:32",
          "1970-01-01T17:26:52",
          "1970-01-01T17:26:52",
          "1970-01-01T18:08:32",
          "1970-01-01T18:08:32",
          "1970-01-01T18:08:32",
          "1970-01-01T21:10:52",
          "1970-01-01T21:10:52",
          "1970-01-01T21:52:32",
          "1970-01-01T21:52:32",
          "1970-01-01T21:52:32",
          "1970-01-02T00:54:52",
          "1970-01-02T00:54:52",
          "1970-01-02T01:36:32",
          "1970-01-02T01:36:32",
          "1970-01-02T01:36:32",
          "1970-01-01T02:30:52",
          "1970-01-01T02:30:52",
          "1970-01-01T03:12:32",
          "1970-01-01T03:12:32",
          "1970-01-01T03:12:32",
          "1970-01-01T06:14:52",
          "1970-01-01T06:14:52",
          "1970-01-01T06:56:32",
          "1970-01-01T06:56:32",
          "1970-01-01T06:56:32",
          "1970-01-01T09:58:52",
          "1970-01-01T09:58:52",
          "1970-01-01T10:40:32",
          "1970-01-01T10:40:32",
          "1970-01-01T10:40:32",
          "1970-01-01T13:42:52",
          "1970-01-01T13:42:52",
          "1970-01-01T14:24:32",
          "1970-01-01T14:24:32",
          "1970-01-01T14:24:32",
          "1970-01-01T17:26:52",
          "1970-01-01T17:26:52",
          "1970-01-01T18:08:32",
          "1970-01-01T18:08:32",
          "1970-01-01T18:08:32",
          "1970-01-01T21:10:52",
          "1970-01-01T21:10:52",
          "1970-01-01T21:52:32",
          "1970-01-01T21:52:32",
          "1970-01-01T21:52:32",
          "1970-01-02T00:54:52",
          "1970-01-02T00:54:52",
          "1970-01-02T01:36:32",
          "1970-01-02T01:36:32",
          "1970-01-02T01:36:32"
         ],
         "y": [
          "barge_0",
          "barge_0",
          "barge_0",
          "barge_0",
          null,
          "barge_0",
          "barge_0",
          "barge_0",
          "barge_0",
          null,
          "barge_0",
          "barge_0",
          "barge_0",
          "barge_0",
          null,
          "barge_0",
          "barge_0",
          "barge_0",
          "barge_0",
          null,
          "barge_0",
          "barge_0",
          "barge_0",
          "barge_0",
          null,
          "barge_0",
          "barge_0",
          "barge_0",
          "barge_0",
          null,
          "barge_0",
          "barge_0",
          "barge_0",
          "barge_0",
          null,
          "cutter",
          "cutter",
          "cutter",
          "cutter",
          null,
          "cutter",
          "cutter",
          "cutter",
          "cutter",
          null,
          "cutter",
          "cutter",
          "cutter",
          "cutter",
          null,
          "cutter",
          "cutter",
          "cutter",
          "cutter",
          null,
          "cutter",
          "cutter",
          "cutter",
          "cutter",
          null,
          "cutter",
          "cutter",
          "cutter",
          "cutter",
          null,
          "cutter",
          "cutter",
          "cutter",
          "cutter",
          null
         ]
        },
        {
         "connectgaps": false,
         "hoverinfo": "y+name",
         "line": {
          "color": "rgb(128,217,241)",
          "width": 10
         },
         "mode": "lines",
         "name": "sailing empty:barge_0",
         "type": "scatter",
         "x": [
          "1970-01-01T00:45:35",
          "1970-01-01T00:45:35",
          "1970-01-01T01:31:10",
          "1970-01-01T01:31:10",
          "1970-01-01T01:31:10",
          "1970-01-01T05:29:17",
          "1970-01-01T05:29:17",
          "1970-01-01T06:14:52",
          "1970-01-01T06:14:52",
          "1970-01-01T06:14:52",
          "1970-01-01T09:13:17",
          "1970-01-01T09:13:17",
          "1970-01-01T09:58:52",
          "1970-01-01T09:58:52",
          "1970-01-01T09:58:52",
          "1970-01-01T12:57:17",
          "1970-01-01T12:57:17",
          "1970-01-01T13:42:52",
          "1970-01-01T13:42:52",
          "1970-01-01T13:42:52",
          "1970-01-01T16:41:17",
          "1970-01-01T16:41:17",
          "1970-01-01T17:26:52",
          "1970-01-01T17:26:52",
          "1970-01-01T17:26:52",
          "1970-01-01T20:25:17",
          "1970-01-01T20:25:17",
          "1970-01-01T21:10:52",
          "1970-01-01T21:10:52",
          "1970-01-01T21:10:52",
          "1970-01-02T00:09:17",
          "1970-01-02T00:09:17",
          "1970-01-02T00:54:52",
          "1970-01-02T00:54:52",
          "1970-01-02T00:54:52"
         ],
         "y": [
          "barge_0",
          "barge_0",
          "barge_0",
          "barge_0",
          null,
          "barge_0",
          "barge_0",
          "barge_0",
          "barge_0",
          null,
          "barge_0",
          "barge_0",
          "barge_0",
          "barge_0",
          null,
          "barge_0",
          "barge_0",
          "barge_0",
          "barge_0",
          null,
          "barge_0",
          "barge_0",
          "barge_0",
          "barge_0",
          null,
          "barge_0",
          "barge_0",
          "barge_0",
          "barge_0",
          null,
          "barge_0",
          "barge_0",
          "barge_0",
          "barge_0",
          null
         ]
        },
        {
         "connectgaps": false,
         "hoverinfo": "y+name",
         "line": {
          "color": "rgb(142,231,255)",
          "width": 10
         },
         "mode": "lines",
         "name": "sailing full:barge_0",
         "type": "scatter",
         "x": [
          "1970-01-01T03:12:32",
          "1970-01-01T03:12:32",
          "1970-01-01T03:58:07",
          "1970-01-01T03:58:07",
          "1970-01-01T03:58:07",
          "1970-01-01T06:56:32",
          "1970-01-01T06:56:32",
          "1970-01-01T07:42:07",
          "1970-01-01T07:42:07",
          "1970-01-01T07:42:07",
          "1970-01-01T10:40:32",
          "1970-01-01T10:40:32",
          "1970-01-01T11:26:07",
          "1970-01-01T11:26:07",
          "1970-01-01T11:26:07",
          "1970-01-01T14:24:32",
          "1970-01-01T14:24:32",
          "1970-01-01T15:10:07",
          "1970-01-01T15:10:07",
          "1970-01-01T15:10:07",
          "1970-01-01T18:08:32",
          "1970-01-01T18:08:32",
          "1970-01-01T18:54:07",
          "1970-01-01T18:54:07",
          "1970-01-01T18:54:07",
          "1970-01-01T21:52:32",
          "1970-01-01T21:52:32",
          "1970-01-01T22:38:07",
          "1970-01-01T22:38:07",
          "1970-01-01T22:38:07",
          "1970-01-02T01:36:32",
          "1970-01-02T01:36:32",
          "1970-01-02T02:22:07",
          "1970-01-02T02:22:07",
          "1970-01-02T02:22:07"
         ],
         "y": [
          "barge_0",
          "barge_0",
          "barge_0",
          "barge_0",
          null,
          "barge_0",
          "barge_0",
          "barge_0",
          "barge_0",
          null,
          "barge_0",
          "barge_0",
          "barge_0",
          "barge_0",
          null,
          "barge_0",
          "barge_0",
          "barge_0",
          "barge_0",
          null,
          "barge_0",
          "barge_0",
          "barge_0",
          "barge_0",
          null,
          "barge_0",
          "barge_0",
          "barge_0",
          "barge_0",
          null,
          "barge_0",
          "barge_0",
          "barge_0",
          "barge_0",
          null
         ]
        },
        {
         "connectgaps": false,
         "hoverinfo": "y+name",
         "line": {
          "color": "rgb(156,245,13)",
          "width": 10
         },
         "mode": "lines",
         "name": "sailing empty:barge_1",
         "type": "scatter",
         "x": [
          "1970-01-01T00:37:56",
          "1970-01-01T00:37:56",
          "1970-01-01T01:15:52",
          "1970-01-01T01:15:52",
          "1970-01-01T01:15:52",
          "1970-01-01T03:43:00",
          "1970-01-01T03:43:00",
          "1970-01-01T04:20:56",
          "1970-01-01T04:20:56",
          "1970-01-01T04:20:56",
          "1970-01-01T06:48:04",
          "1970-01-01T06:48:04",
          "1970-01-01T07:26:00",
          "1970-01-01T07:26:00",
          "1970-01-01T07:26:00",
          "1970-01-01T09:53:08",
          "1970-01-01T09:53:08",
          "1970-01-01T10:31:04",
          "1970-01-01T10:31:04",
          "1970-01-01T10:31:04",
          "1970-01-01T13:07:40",
          "1970-01-01T13:07:40",
          "1970-01-01T13:45:36",
          "1970-01-01T13:45:36",
          "1970-01-01T13:45:36",
          "1970-01-01T16:51:40",
          "1970-01-01T16:51:40",
          "1970-01-01T17:29:36",
          "1970-01-01T17:29:36",
          "1970-01-01T17:29:36",
          "1970-01-01T20:35:40",
          "1970-01-01T20:35:40",
          "1970-01-01T21:13:36",
          "1970-01-01T21:13:36",
          "1970-01-01T21:13:36",
          "1970-01-02T00:19:40",
          "1970-01-02T00:19:40",
          "1970-01-02T00:57:36",
          "1970-01-02T00:57:36",
          "1970-01-02T00:57:36"
         ],
         "y": [
          "barge_1",
          "barge_1",
          "barge_1",
          "barge_1",
          null,
          "barge_1",
          "barge_1",
          "barge_1",
          "barge_1",
          null,
          "barge_1",
          "barge_1",
          "barge_1",
          "barge_1",
          null,
          "barge_1",
          "barge_1",
          "barge_1",
          "barge_1",
          null,
          "barge_1",
          "barge_1",
          "barge_1",
          "barge_1",
          null,
          "barge_1",
          "barge_1",
          "barge_1",
          "barge_1",
          null,
          "barge_1",
          "barge_1",
          "barge_1",
          "barge_1",
          null,
          "barge_1",
          "barge_1",
          "barge_1",
          "barge_1",
          null
         ]
        },
        {
         "connectgaps": false,
         "hoverinfo": "y+name",
         "line": {
          "color": "rgb(170,3,27)",
          "width": 10
         },
         "mode": "lines",
         "name": "unloading:barge_1",
         "type": "scatter",
         "x": [
          "1970-01-01T02:27:08",
          "1970-01-01T02:27:08",
          "1970-01-01T03:05:04",
          "1970-01-01T03:05:04",
          "1970-01-01T03:05:04",
          "1970-01-01T05:32:12",
          "1970-01-01T05:32:12",
          "1970-01-01T06:10:08",
          "1970-01-01T06:10:08",
          "1970-01-01T06:10:08",
          "1970-01-01T08:37:16",
          "1970-01-01T08:37:16",
          "1970-01-01T09:15:12",
          "1970-01-01T09:15:12",
          "1970-01-01T09:15:12",
          "1970-01-01T11:51:48",
          "1970-01-01T11:51:48",
          "1970-01-01T12:29:44",
          "1970-01-01T12:29:44",
          "1970-01-01T12:29:44",
          "1970-01-01T15:35:48",
          "1970-01-01T15:35:48",
          "1970-01-01T16:13:44",
          "1970-01-01T16:13:44",
          "1970-01-01T16:13:44",
          "1970-01-01T19:19:48",
          "1970-01-01T19:19:48",
          "1970-01-01T19:57:44",
          "1970-01-01T19:57:44",
          "1970-01-01T19:57:44",
          "1970-01-01T23:03:48",
          "1970-01-01T23:03:48",
          "1970-01-01T23:41:44",
          "1970-01-01T23:41:44",
          "1970-01-01T23:41:44",
          "1970-01-02T02:47:48",
          "1970-01-02T02:47:48",
          "1970-01-02T03:25:44",
          "1970-01-02T03:25:44",
          "1970-01-02T03:25:44"
         ],
         "y": [
          "barge_1",
          "barge_1",
          "barge_1",
          "barge_1",
          null,
          "barge_1",
          "barge_1",
          "barge_1",
          "barge_1",
          null,
          "barge_1",
          "barge_1",
          "barge_1",
          "barge_1",
          null,
          "barge_1",
          "barge_1",
          "barge_1",
          "barge_1",
          null,
          "barge_1",
          "barge_1",
          "barge_1",
          "barge_1",
          null,
          "barge_1",
          "barge_1",
          "barge_1",
          "barge_1",
          null,
          "barge_1",
          "barge_1",
          "barge_1",
          "barge_1",
          null,
          "barge_1",
          "barge_1",
          "barge_1",
          "barge_1",
          null
         ]
        },
        {
         "connectgaps": false,
         "hoverinfo": "y+name",
         "line": {
          "color": "rgb(184,17,41)",
          "width": 10
         },
         "mode": "lines",
         "name": "loading:barge_1",
         "type": "scatter",
         "x": [
          "1970-01-01T01:15:52",
          "1970-01-01T01:15:52",
          "1970-01-01T01:49:12",
          "1970-01-01T01:49:12",
          "1970-01-01T01:49:12",
          "1970-01-01T04:20:56",
          "1970-01-01T04:20:56",
          "1970-01-01T04:54:16",
          "1970-01-01T04:54:16",
          "1970-01-01T04:54:16",
          "1970-01-01T07:26:00",
          "1970-01-01T07:26:00",
          "1970-01-01T07:59:20",
          "1970-01-01T07:59:20",
          "1970-01-01T07:59:20",
          "1970-01-01T10:40:32",
          "1970-01-01T10:40:32",
          "1970-01-01T11:13:52",
          "1970-01-01T11:13:52",
          "1970-01-01T11:13:52",
          "1970-01-01T14:24:32",
          "1970-01-01T14:24:32",
          "1970-01-01T14:57:52",
          "1970-01-01T14:57:52",
          "1970-01-01T14:57:52",
          "1970-01-01T18:08:32",
          "1970-01-01T18:08:32",
          "1970-01-01T18:41:52",
          "1970-01-01T18:41:52",
          "1970-01-01T18:41:52",
          "1970-01-01T21:52:32",
          "1970-01-01T21:52:32",
          "1970-01-01T22:25:52",
          "1970-01-01T22:25:52",
          "1970-01-01T22:25:52",
          "1970-01-02T01:36:32",
          "1970-01-02T01:36:32",
          "1970-01-02T02:09:52",
          "1970-01-02T02:09:52",
          "1970-01-02T02:09:52",
          "1970-01-01T01:15:52",
          "1970-01-01T01:15:52",
          "1970-01-01T01:49:12",
          "1970-01-01T01:49:12",
          "1970-01-01T01:49:12",
          "1970-01-01T04:20:56",
          "1970-01-01T04:20:56",
          "1970-01-01T04:54:16",
          "1970-01-01T04:54:16",
          "1970-01-01T04:54:16",
          "1970-01-01T07:26:00",
          "1970-01-01T07:26:00",
          "1970-01-01T07:59:20",
          "1970-01-01T07:59:20",
          "1970-01-01T07:59:20",
          "1970-01-01T10:40:32",
          "1970-01-01T10:40:32",
          "1970-01-01T11:13:52",
          "1970-01-01T11:13:52",
          "1970-01-01T11:13:52",
          "1970-01-01T14:24:32",
          "1970-01-01T14:24:32",
          "1970-01-01T14:57:52",
          "1970-01-01T14:57:52",
          "1970-01-01T14:57:52",
          "1970-01-01T18:08:32",
          "1970-01-01T18:08:32",
          "1970-01-01T18:41:52",
          "1970-01-01T18:41:52",
          "1970-01-01T18:41:52",
          "1970-01-01T21:52:32",
          "1970-01-01T21:52:32",
          "1970-01-01T22:25:52",
          "1970-01-01T22:25:52",
          "1970-01-01T22:25:52",
          "1970-01-02T01:36:32",
          "1970-01-02T01:36:32",
          "1970-01-02T02:09:52",
          "1970-01-02T02:09:52",
          "1970-01-02T02:09:52"
         ],
         "y": [
          "barge_1",
          "barge_1",
          "barge_1",
          "barge_1",
          null,
          "barge_1",
          "barge_1",
          "barge_1",
          "barge_1",
          null,
          "barge_1",
          "barge_1",
          "barge_1",
          "barge_1",
          null,
          "barge_1",
          "barge_1",
          "barge_1",
          "barge_1",
          null,
          "barge_1",
          "barge_1",
          "barge_1",
          "barge_1",
          null,
          "barge_1",
          "barge_1",
          "barge_1",
          "barge_1",
          null,
          "barge_1",
          "barge_1",
          "barge_1",
          "barge_1",
          null,
          "barge_1",
          "barge_1",
          "barge_1",
          "barge_1",
          null,
          "cutter",
          "cutter",
          "cutter",
          "cutter",
          null,
          "cutter",
          "cutter",
          "cutter",
          "cutter",
          null,
          "cutter",
          "cutter",
          "cutter",
          "cutter",
          null,
          "cutter",
          "cutter",
          "cutter",
          "cutter",
          null,
          "cutter",
          "cutter",
          "cutter",
          "cutter",
          null,
          "cutter",
          "cutter",
          "cutter",
          "cutter",
          null,
          "cutter",
          "cutter",
          "cutter",
          "cutter",
          null,
          "cutter",
          "cutter",
          "cutter",
          "cutter",
          null
         ]
        },
        {
         "connectgaps": false,
         "hoverinfo": "y+name",
         "line": {
          "color": "rgb(198,31,55)",
          "width": 10
         },
         "mode": "lines",
         "name": "basic activity:barge_1",
         "type": "scatter",
         "x": [
          "1970-01-01T00:00:00",
          "1970-01-01T00:00:00",
          "1970-01-01T00:37:56",
          "1970-01-01T00:37:56",
          "1970-01-01T00:37:56",
          "1970-01-01T03:05:04",
          "1970-01-01T03:05:04",
          "1970-01-01T03:43:00",
          "1970-01-01T03:43:00",
          "1970-01-01T03:43:00",
          "1970-01-01T06:10:08",
          "1970-01-01T06:10:08",
          "1970-01-01T06:48:04",
          "1970-01-01T06:48:04",
          "1970-01-01T06:48:04",
          "1970-01-01T09:15:12",
          "1970-01-01T09:15:12",
          "1970-01-01T09:53:08",
          "1970-01-01T09:53:08",
          "1970-01-01T09:53:08",
          "1970-01-01T12:29:44",
          "1970-01-01T12:29:44",
          "1970-01-01T13:07:40",
          "1970-01-01T13:07:40",
          "1970-01-01T13:07:40",
          "1970-01-01T16:13:44",
          "1970-01-01T16:13:44",
          "1970-01-01T16:51:40",
          "1970-01-01T16:51:40",
          "1970-01-01T16:51:40",
          "1970-01-01T19:57:44",
          "1970-01-01T19:57:44",
          "1970-01-01T20:35:40",
          "1970-01-01T20:35:40",
          "1970-01-01T20:35:40",
          "1970-01-01T23:41:44",
          "1970-01-01T23:41:44",
          "1970-01-02T00:19:40",
          "1970-01-02T00:19:40",
          "1970-01-02T00:19:40"
         ],
         "y": [
          "barge_1",
          "barge_1",
          "barge_1",
          "barge_1",
          null,
          "barge_1",
          "barge_1",
          "barge_1",
          "barge_1",
          null,
          "barge_1",
          "barge_1",
          "barge_1",
          "barge_1",
          null,
          "barge_1",
          "barge_1",
          "barge_1",
          "barge_1",
          null,
          "barge_1",
          "barge_1",
          "barge_1",
          "barge_1",
          null,
          "barge_1",
          "barge_1",
          "barge_1",
          "barge_1",
          null,
          "barge_1",
          "barge_1",
          "barge_1",
          "barge_1",
          null,
          "barge_1",
          "barge_1",
          "barge_1",
          "barge_1",
          null
         ]
        },
        {
         "connectgaps": false,
         "hoverinfo": "y+name",
         "line": {
          "color": "rgb(212,45,69)",
          "width": 10
         },
         "mode": "lines",
         "name": "sailing full:barge_1",
         "type": "scatter",
         "x": [
          "1970-01-01T01:49:12",
          "1970-01-01T01:49:12",
          "1970-01-01T02:27:08",
          "1970-01-01T02:27:08",
          "1970-01-01T02:27:08",
          "1970-01-01T04:54:16",
          "1970-01-01T04:54:16",
          "1970-01-01T05:32:12",
          "1970-01-01T05:32:12",
          "1970-01-01T05:32:12",
          "1970-01-01T07:59:20",
          "1970-01-01T07:59:20",
          "1970-01-01T08:37:16",
          "1970-01-01T08:37:16",
          "1970-01-01T08:37:16",
          "1970-01-01T11:13:52",
          "1970-01-01T11:13:52",
          "1970-01-01T11:51:48",
          "1970-01-01T11:51:48",
          "1970-01-01T11:51:48",
          "1970-01-01T14:57:52",
          "1970-01-01T14:57:52",
          "1970-01-01T15:35:48",
          "1970-01-01T15:35:48",
          "1970-01-01T15:35:48",
          "1970-01-01T18:41:52",
          "1970-01-01T18:41:52",
          "1970-01-01T19:19:48",
          "1970-01-01T19:19:48",
          "1970-01-01T19:19:48",
          "1970-01-01T22:25:52",
          "1970-01-01T22:25:52",
          "1970-01-01T23:03:48",
          "1970-01-01T23:03:48",
          "1970-01-01T23:03:48",
          "1970-01-02T02:09:52",
          "1970-01-02T02:09:52",
          "1970-01-02T02:47:48",
          "1970-01-02T02:47:48",
          "1970-01-02T02:47:48"
         ],
         "y": [
          "barge_1",
          "barge_1",
          "barge_1",
          "barge_1",
          null,
          "barge_1",
          "barge_1",
          "barge_1",
          "barge_1",
          null,
          "barge_1",
          "barge_1",
          "barge_1",
          "barge_1",
          null,
          "barge_1",
          "barge_1",
          "barge_1",
          "barge_1",
          null,
          "barge_1",
          "barge_1",
          "barge_1",
          "barge_1",
          null,
          "barge_1",
          "barge_1",
          "barge_1",
          "barge_1",
          null,
          "barge_1",
          "barge_1",
          "barge_1",
          "barge_1",
          null,
          "barge_1",
          "barge_1",
          "barge_1",
          "barge_1",
          null
         ]
        },
        {
         "connectgaps": false,
         "hoverinfo": "y+name",
         "line": {
          "color": "rgb(226,59,83)",
          "width": 10
         },
         "mode": "lines",
         "name": "sailing full:barge_2",
         "type": "scatter",
         "x": [
          "1970-01-01T02:30:52",
          "1970-01-01T02:30:52",
          "1970-01-01T03:09:44",
          "1970-01-01T03:09:44",
          "1970-01-01T03:09:44",
          "1970-01-01T05:48:00",
          "1970-01-01T05:48:00",
          "1970-01-01T06:26:52",
          "1970-01-01T06:26:52",
          "1970-01-01T06:26:52",
          "1970-01-01T09:05:08",
          "1970-01-01T09:05:08",
          "1970-01-01T09:44:00",
          "1970-01-01T09:44:00",
          "1970-01-01T09:44:00",
          "1970-01-01T12:22:16",
          "1970-01-01T12:22:16",
          "1970-01-01T13:01:08",
          "1970-01-01T13:01:08",
          "1970-01-01T13:01:08",
          "1970-01-01T15:39:32",
          "1970-01-01T15:39:32",
          "1970-01-01T16:18:24",
          "1970-01-01T16:18:24",
          "1970-01-01T16:18:24",
          "1970-01-01T19:23:32",
          "1970-01-01T19:23:32",
          "1970-01-01T20:02:24",
          "1970-01-01T20:02:24",
          "1970-01-01T20:02:24",
          "1970-01-01T23:07:32",
          "1970-01-01T23:07:32",
          "1970-01-01T23:46:24",
          "1970-01-01T23:46:24",
          "1970-01-01T23:46:24"
         ],
         "y": [
          "barge_2",
          "barge_2",
          "barge_2",
          "barge_2",
          null,
          "barge_2",
          "barge_2",
          "barge_2",
          "barge_2",
          null,
          "barge_2",
          "barge_2",
          "barge_2",
          "barge_2",
          null,
          "barge_2",
          "barge_2",
          "barge_2",
          "barge_2",
          null,
          "barge_2",
          "barge_2",
          "barge_2",
          "barge_2",
          null,
          "barge_2",
          "barge_2",
          "barge_2",
          "barge_2",
          null,
          "barge_2",
          "barge_2",
          "barge_2",
          "barge_2",
          null
         ]
        },
        {
         "connectgaps": false,
         "hoverinfo": "y+name",
         "line": {
          "color": "rgb(240,73,97)",
          "width": 10
         },
         "mode": "lines",
         "name": "loading:barge_2",
         "type": "scatter",
         "x": [
          "1970-01-01T01:49:12",
          "1970-01-01T01:49:12",
          "1970-01-01T02:30:52",
          "1970-01-01T02:30:52",
          "1970-01-01T02:30:52",
          "1970-01-01T05:06:20",
          "1970-01-01T05:06:20",
          "1970-01-01T05:48:00",
          "1970-01-01T05:48:00",
          "1970-01-01T05:48:00",
          "1970-01-01T08:23:28",
          "1970-01-01T08:23:28",
          "1970-01-01T09:05:08",
          "1970-01-01T09:05:08",
          "1970-01-01T09:05:08",
          "1970-01-01T11:40:36",
          "1970-01-01T11:40:36",
          "1970-01-01T12:22:16",
          "1970-01-01T12:22:16",
          "1970-01-01T12:22:16",
          "1970-01-01T14:57:52",
          "1970-01-01T14:57:52",
          "1970-01-01T15:39:32",
          "1970-01-01T15:39:32",
          "1970-01-01T15:39:32",
          "1970-01-01T18:41:52",
          "1970-01-01T18:41:52",
          "1970-01-01T19:23:32",
          "1970-01-01T19:23:32",
          "1970-01-01T19:23:32",
          "1970-01-01T22:25:52",
          "1970-01-01T22:25:52",
          "1970-01-01T23:07:32",
          "1970-01-01T23:07:32",
          "1970-01-01T23:07:32",
          "1970-01-01T01:49:12",
          "1970-01-01T01:49:12",
          "1970-01-01T02:30:52",
          "1970-01-01T02:30:52",
          "1970-01-01T02:30:52",
          "1970-01-01T05:06:20",
          "1970-01-01T05:06:20",
          "1970-01-01T05:48:00",
          "1970-01-01T05:48:00",
          "1970-01-01T05:48:00",
          "1970-01-01T08:23:28",
          "1970-01-01T08:23:28",
          "1970-01-01T09:05:08",
          "1970-01-01T09:05:08",
          "1970-01-01T09:05:08",
          "1970-01-01T11:40:36",
          "1970-01-01T11:40:36",
          "1970-01-01T12:22:16",
          "1970-01-01T12:22:16",
          "1970-01-01T12:22:16",
          "1970-01-01T14:57:52",
          "1970-01-01T14:57:52",
          "1970-01-01T15:39:32",
          "1970-01-01T15:39:32",
          "1970-01-01T15:39:32",
          "1970-01-01T18:41:52",
          "1970-01-01T18:41:52",
          "1970-01-01T19:23:32",
          "1970-01-01T19:23:32",
          "1970-01-01T19:23:32",
          "1970-01-01T22:25:52",
          "1970-01-01T22:25:52",
          "1970-01-01T23:07:32",
          "1970-01-01T23:07:32",
          "1970-01-01T23:07:32"
         ],
         "y": [
          "barge_2",
          "barge_2",
          "barge_2",
          "barge_2",
          null,
          "barge_2",
          "barge_2",
          "barge_2",
          "barge_2",
          null,
          "barge_2",
          "barge_2",
          "barge_2",
          "barge_2",
          null,
          "barge_2",
          "barge_2",
          "barge_2",
          "barge_2",
          null,
          "barge_2",
          "barge_2",
          "barge_2",
          "barge_2",
          null,
          "barge_2",
          "barge_2",
          "barge_2",
          "barge_2",
          null,
          "barge_2",
          "barge_2",
          "barge_2",
          "barge_2",
          null,
          "cutter",
          "cutter",
          "cutter",
          "cutter",
          null,
          "cutter",
          "cutter",
          "cutter",
          "cutter",
          null,
          "cutter",
          "cutter",
          "cutter",
          "cutter",
          null,
          "cutter",
          "cutter",
          "cutter",
          "cutter",
          null,
          "cutter",
          "cutter",
          "cutter",
          "cutter",
          null,
          "cutter",
          "cutter",
          "cutter",
          "cutter",
          null,
          "cutter",
          "cutter",
          "cutter",
          "cutter",
          null
         ]
        },
        {
         "connectgaps": false,
         "hoverinfo": "y+name",
         "line": {
          "color": "rgb(254,87,111)",
          "width": 10
         },
         "mode": "lines",
         "name": "sailing empty:barge_2",
         "type": "scatter",
         "x": [
          "1970-01-01T00:38:52",
          "1970-01-01T00:38:52",
          "1970-01-01T01:17:44",
          "1970-01-01T01:17:44",
          "1970-01-01T01:17:44",
          "1970-01-01T04:27:28",
          "1970-01-01T04:27:28",
          "1970-01-01T05:06:20",
          "1970-01-01T05:06:20",
          "1970-01-01T05:06:20",
          "1970-01-01T07:44:36",
          "1970-01-01T07:44:36",
          "1970-01-01T08:23:28",
          "1970-01-01T08:23:28",
          "1970-01-01T08:23:28",
          "1970-01-01T11:01:44",
          "1970-01-01T11:01:44",
          "1970-01-01T11:40:36",
          "1970-01-01T11:40:36",
          "1970-01-01T11:40:36",
          "1970-01-01T14:18:52",
          "1970-01-01T14:18:52",
          "1970-01-01T14:57:44",
          "1970-01-01T14:57:44",
          "1970-01-01T14:57:44",
          "1970-01-01T17:36:08",
          "1970-01-01T17:36:08",
          "1970-01-01T18:15:00",
          "1970-01-01T18:15:00",
          "1970-01-01T18:15:00",
          "1970-01-01T21:20:08",
          "1970-01-01T21:20:08",
          "1970-01-01T21:59:00",
          "1970-01-01T21:59:00",
          "1970-01-01T21:59:00"
         ],
         "y": [
          "barge_2",
          "barge_2",
          "barge_2",
          "barge_2",
          null,
          "barge_2",
          "barge_2",
          "barge_2",
          "barge_2",
          null,
          "barge_2",
          "barge_2",
          "barge_2",
          "barge_2",
          null,
          "barge_2",
          "barge_2",
          "barge_2",
          "barge_2",
          null,
          "barge_2",
          "barge_2",
          "barge_2",
          "barge_2",
          null,
          "barge_2",
          "barge_2",
          "barge_2",
          "barge_2",
          null,
          "barge_2",
          "barge_2",
          "barge_2",
          "barge_2",
          null
         ]
        },
        {
         "connectgaps": false,
         "hoverinfo": "y+name",
         "line": {
          "color": "rgb(12,101,125)",
          "width": 10
         },
         "mode": "lines",
         "name": "unloading:barge_2",
         "type": "scatter",
         "x": [
          "1970-01-01T03:09:44",
          "1970-01-01T03:09:44",
          "1970-01-01T03:48:36",
          "1970-01-01T03:48:36",
          "1970-01-01T03:48:36",
          "1970-01-01T06:26:52",
          "1970-01-01T06:26:52",
          "1970-01-01T07:05:44",
          "1970-01-01T07:05:44",
          "1970-01-01T07:05:44",
          "1970-01-01T09:44:00",
          "1970-01-01T09:44:00",
          "1970-01-01T10:22:52",
          "1970-01-01T10:22:52",
          "1970-01-01T10:22:52",
          "1970-01-01T13:01:08",
          "1970-01-01T13:01:08",
          "1970-01-01T13:40:00",
          "1970-01-01T13:40:00",
          "1970-01-01T13:40:00",
          "1970-01-01T16:18:24",
          "1970-01-01T16:18:24",
          "1970-01-01T16:57:16",
          "1970-01-01T16:57:16",
          "1970-01-01T16:57:16",
          "1970-01-01T20:02:24",
          "1970-01-01T20:02:24",
          "1970-01-01T20:41:16",
          "1970-01-01T20:41:16",
          "1970-01-01T20:41:16",
          "1970-01-01T23:46:24",
          "1970-01-01T23:46:24",
          "1970-01-02T00:25:16",
          "1970-01-02T00:25:16",
          "1970-01-02T00:25:16"
         ],
         "y": [
          "barge_2",
          "barge_2",
          "barge_2",
          "barge_2",
          null,
          "barge_2",
          "barge_2",
          "barge_2",
          "barge_2",
          null,
          "barge_2",
          "barge_2",
          "barge_2",
          "barge_2",
          null,
          "barge_2",
          "barge_2",
          "barge_2",
          "barge_2",
          null,
          "barge_2",
          "barge_2",
          "barge_2",
          "barge_2",
          null,
          "barge_2",
          "barge_2",
          "barge_2",
          "barge_2",
          null,
          "barge_2",
          "barge_2",
          "barge_2",
          "barge_2",
          null
         ]
        },
        {
         "connectgaps": false,
         "hoverinfo": "y+name",
         "line": {
          "color": "rgb(26,115,139)",
          "width": 10
         },
         "mode": "lines",
         "name": "basic activity:barge_2",
         "type": "scatter",
         "x": [
          "1970-01-01T00:00:00",
          "1970-01-01T00:00:00",
          "1970-01-01T00:38:52",
          "1970-01-01T00:38:52",
          "1970-01-01T00:38:52",
          "1970-01-01T03:48:36",
          "1970-01-01T03:48:36",
          "1970-01-01T04:27:28",
          "1970-01-01T04:27:28",
          "1970-01-01T04:27:28",
          "1970-01-01T07:05:44",
          "1970-01-01T07:05:44",
          "1970-01-01T07:44:36",
          "1970-01-01T07:44:36",
          "1970-01-01T07:44:36",
          "1970-01-01T10:22:52",
          "1970-01-01T10:22:52",
          "1970-01-01T11:01:44",
          "1970-01-01T11:01:44",
          "1970-01-01T11:01:44",
          "1970-01-01T13:40:00",
          "1970-01-01T13:40:00",
          "1970-01-01T14:18:52",
          "1970-01-01T14:18:52",
          "1970-01-01T14:18:52",
          "1970-01-01T16:57:16",
          "1970-01-01T16:57:16",
          "1970-01-01T17:36:08",
          "1970-01-01T17:36:08",
          "1970-01-01T17:36:08",
          "1970-01-01T20:41:16",
          "1970-01-01T20:41:16",
          "1970-01-01T21:20:08",
          "1970-01-01T21:20:08",
          "1970-01-01T21:20:08"
         ],
         "y": [
          "barge_2",
          "barge_2",
          "barge_2",
          "barge_2",
          null,
          "barge_2",
          "barge_2",
          "barge_2",
          "barge_2",
          null,
          "barge_2",
          "barge_2",
          "barge_2",
          "barge_2",
          null,
          "barge_2",
          "barge_2",
          "barge_2",
          "barge_2",
          null,
          "barge_2",
          "barge_2",
          "barge_2",
          "barge_2",
          null,
          "barge_2",
          "barge_2",
          "barge_2",
          "barge_2",
          null,
          "barge_2",
          "barge_2",
          "barge_2",
          "barge_2",
          null
         ]
        },
        {
         "connectgaps": false,
         "hoverinfo": "y+name",
         "line": {
          "color": "rgb(40,129,153)",
          "width": 10
         },
         "mode": "lines",
         "name": "loading:barge_2",
         "type": "scatter",
         "x": [
          "1970-01-01T01:49:12",
          "1970-01-01T01:49:12",
          "1970-01-01T02:30:52",
          "1970-01-01T02:30:52",
          "1970-01-01T02:30:52",
          "1970-01-01T05:06:20",
          "1970-01-01T05:06:20",
          "1970-01-01T05:48:00",
          "1970-01-01T05:48:00",
          "1970-01-01T05:48:00",
          "1970-01-01T08:23:28",
          "1970-01-01T08:23:28",
          "1970-01-01T09:05:08",
          "1970-01-01T09:05:08",
          "1970-01-01T09:05:08",
          "1970-01-01T11:40:36",
          "1970-01-01T11:40:36",
          "1970-01-01T12:22:16",
          "1970-01-01T12:22:16",
          "1970-01-01T12:22:16",
          "1970-01-01T14:57:52",
          "1970-01-01T14:57:52",
          "1970-01-01T15:39:32",
          "1970-01-01T15:39:32",
          "1970-01-01T15:39:32",
          "1970-01-01T18:41:52",
          "1970-01-01T18:41:52",
          "1970-01-01T19:23:32",
          "1970-01-01T19:23:32",
          "1970-01-01T19:23:32",
          "1970-01-01T22:25:52",
          "1970-01-01T22:25:52",
          "1970-01-01T23:07:32",
          "1970-01-01T23:07:32",
          "1970-01-01T23:07:32",
          "1970-01-01T01:49:12",
          "1970-01-01T01:49:12",
          "1970-01-01T02:30:52",
          "1970-01-01T02:30:52",
          "1970-01-01T02:30:52",
          "1970-01-01T05:06:20",
          "1970-01-01T05:06:20",
          "1970-01-01T05:48:00",
          "1970-01-01T05:48:00",
          "1970-01-01T05:48:00",
          "1970-01-01T08:23:28",
          "1970-01-01T08:23:28",
          "1970-01-01T09:05:08",
          "1970-01-01T09:05:08",
          "1970-01-01T09:05:08",
          "1970-01-01T11:40:36",
          "1970-01-01T11:40:36",
          "1970-01-01T12:22:16",
          "1970-01-01T12:22:16",
          "1970-01-01T12:22:16",
          "1970-01-01T14:57:52",
          "1970-01-01T14:57:52",
          "1970-01-01T15:39:32",
          "1970-01-01T15:39:32",
          "1970-01-01T15:39:32",
          "1970-01-01T18:41:52",
          "1970-01-01T18:41:52",
          "1970-01-01T19:23:32",
          "1970-01-01T19:23:32",
          "1970-01-01T19:23:32",
          "1970-01-01T22:25:52",
          "1970-01-01T22:25:52",
          "1970-01-01T23:07:32",
          "1970-01-01T23:07:32",
          "1970-01-01T23:07:32"
         ],
         "y": [
          "barge_2",
          "barge_2",
          "barge_2",
          "barge_2",
          null,
          "barge_2",
          "barge_2",
          "barge_2",
          "barge_2",
          null,
          "barge_2",
          "barge_2",
          "barge_2",
          "barge_2",
          null,
          "barge_2",
          "barge_2",
          "barge_2",
          "barge_2",
          null,
          "barge_2",
          "barge_2",
          "barge_2",
          "barge_2",
          null,
          "barge_2",
          "barge_2",
          "barge_2",
          "barge_2",
          null,
          "barge_2",
          "barge_2",
          "barge_2",
          "barge_2",
          null,
          "cutter",
          "cutter",
          "cutter",
          "cutter",
          null,
          "cutter",
          "cutter",
          "cutter",
          "cutter",
          null,
          "cutter",
          "cutter",
          "cutter",
          "cutter",
          null,
          "cutter",
          "cutter",
          "cutter",
          "cutter",
          null,
          "cutter",
          "cutter",
          "cutter",
          "cutter",
          null,
          "cutter",
          "cutter",
          "cutter",
          "cutter",
          null,
          "cutter",
          "cutter",
          "cutter",
          "cutter",
          null
         ]
        },
        {
         "connectgaps": false,
         "hoverinfo": "y+name",
         "line": {
          "color": "rgb(54,143,167)",
          "width": 10
         },
         "mode": "lines",
         "name": "loading:barge_1",
         "type": "scatter",
         "x": [
          "1970-01-01T01:15:52",
          "1970-01-01T01:15:52",
          "1970-01-01T01:49:12",
          "1970-01-01T01:49:12",
          "1970-01-01T01:49:12",
          "1970-01-01T04:20:56",
          "1970-01-01T04:20:56",
          "1970-01-01T04:54:16",
          "1970-01-01T04:54:16",
          "1970-01-01T04:54:16",
          "1970-01-01T07:26:00",
          "1970-01-01T07:26:00",
          "1970-01-01T07:59:20",
          "1970-01-01T07:59:20",
          "1970-01-01T07:59:20",
          "1970-01-01T10:40:32",
          "1970-01-01T10:40:32",
          "1970-01-01T11:13:52",
          "1970-01-01T11:13:52",
          "1970-01-01T11:13:52",
          "1970-01-01T14:24:32",
          "1970-01-01T14:24:32",
          "1970-01-01T14:57:52",
          "1970-01-01T14:57:52",
          "1970-01-01T14:57:52",
          "1970-01-01T18:08:32",
          "1970-01-01T18:08:32",
          "1970-01-01T18:41:52",
          "1970-01-01T18:41:52",
          "1970-01-01T18:41:52",
          "1970-01-01T21:52:32",
          "1970-01-01T21:52:32",
          "1970-01-01T22:25:52",
          "1970-01-01T22:25:52",
          "1970-01-01T22:25:52",
          "1970-01-02T01:36:32",
          "1970-01-02T01:36:32",
          "1970-01-02T02:09:52",
          "1970-01-02T02:09:52",
          "1970-01-02T02:09:52",
          "1970-01-01T01:15:52",
          "1970-01-01T01:15:52",
          "1970-01-01T01:49:12",
          "1970-01-01T01:49:12",
          "1970-01-01T01:49:12",
          "1970-01-01T04:20:56",
          "1970-01-01T04:20:56",
          "1970-01-01T04:54:16",
          "1970-01-01T04:54:16",
          "1970-01-01T04:54:16",
          "1970-01-01T07:26:00",
          "1970-01-01T07:26:00",
          "1970-01-01T07:59:20",
          "1970-01-01T07:59:20",
          "1970-01-01T07:59:20",
          "1970-01-01T10:40:32",
          "1970-01-01T10:40:32",
          "1970-01-01T11:13:52",
          "1970-01-01T11:13:52",
          "1970-01-01T11:13:52",
          "1970-01-01T14:24:32",
          "1970-01-01T14:24:32",
          "1970-01-01T14:57:52",
          "1970-01-01T14:57:52",
          "1970-01-01T14:57:52",
          "1970-01-01T18:08:32",
          "1970-01-01T18:08:32",
          "1970-01-01T18:41:52",
          "1970-01-01T18:41:52",
          "1970-01-01T18:41:52",
          "1970-01-01T21:52:32",
          "1970-01-01T21:52:32",
          "1970-01-01T22:25:52",
          "1970-01-01T22:25:52",
          "1970-01-01T22:25:52",
          "1970-01-02T01:36:32",
          "1970-01-02T01:36:32",
          "1970-01-02T02:09:52",
          "1970-01-02T02:09:52",
          "1970-01-02T02:09:52"
         ],
         "y": [
          "barge_1",
          "barge_1",
          "barge_1",
          "barge_1",
          null,
          "barge_1",
          "barge_1",
          "barge_1",
          "barge_1",
          null,
          "barge_1",
          "barge_1",
          "barge_1",
          "barge_1",
          null,
          "barge_1",
          "barge_1",
          "barge_1",
          "barge_1",
          null,
          "barge_1",
          "barge_1",
          "barge_1",
          "barge_1",
          null,
          "barge_1",
          "barge_1",
          "barge_1",
          "barge_1",
          null,
          "barge_1",
          "barge_1",
          "barge_1",
          "barge_1",
          null,
          "barge_1",
          "barge_1",
          "barge_1",
          "barge_1",
          null,
          "cutter",
          "cutter",
          "cutter",
          "cutter",
          null,
          "cutter",
          "cutter",
          "cutter",
          "cutter",
          null,
          "cutter",
          "cutter",
          "cutter",
          "cutter",
          null,
          "cutter",
          "cutter",
          "cutter",
          "cutter",
          null,
          "cutter",
          "cutter",
          "cutter",
          "cutter",
          null,
          "cutter",
          "cutter",
          "cutter",
          "cutter",
          null,
          "cutter",
          "cutter",
          "cutter",
          "cutter",
          null,
          "cutter",
          "cutter",
          "cutter",
          "cutter",
          null
         ]
        },
        {
         "connectgaps": false,
         "hoverinfo": "y+name",
         "line": {
          "color": "rgb(68,157,181)",
          "width": 10
         },
         "mode": "lines",
         "name": "loading:barge_0",
         "type": "scatter",
         "x": [
          "1970-01-01T02:30:52",
          "1970-01-01T02:30:52",
          "1970-01-01T03:12:32",
          "1970-01-01T03:12:32",
          "1970-01-01T03:12:32",
          "1970-01-01T06:14:52",
          "1970-01-01T06:14:52",
          "1970-01-01T06:56:32",
          "1970-01-01T06:56:32",
          "1970-01-01T06:56:32",
          "1970-01-01T09:58:52",
          "1970-01-01T09:58:52",
          "1970-01-01T10:40:32",
          "1970-01-01T10:40:32",
          "1970-01-01T10:40:32",
          "1970-01-01T13:42:52",
          "1970-01-01T13:42:52",
          "1970-01-01T14:24:32",
          "1970-01-01T14:24:32",
          "1970-01-01T14:24:32",
          "1970-01-01T17:26:52",
          "1970-01-01T17:26:52",
          "1970-01-01T18:08:32",
          "1970-01-01T18:08:32",
          "1970-01-01T18:08:32",
          "1970-01-01T21:10:52",
          "1970-01-01T21:10:52",
          "1970-01-01T21:52:32",
          "1970-01-01T21:52:32",
          "1970-01-01T21:52:32",
          "1970-01-02T00:54:52",
          "1970-01-02T00:54:52",
          "1970-01-02T01:36:32",
          "1970-01-02T01:36:32",
          "1970-01-02T01:36:32",
          "1970-01-01T02:30:52",
          "1970-01-01T02:30:52",
          "1970-01-01T03:12:32",
          "1970-01-01T03:12:32",
          "1970-01-01T03:12:32",
          "1970-01-01T06:14:52",
          "1970-01-01T06:14:52",
          "1970-01-01T06:56:32",
          "1970-01-01T06:56:32",
          "1970-01-01T06:56:32",
          "1970-01-01T09:58:52",
          "1970-01-01T09:58:52",
          "1970-01-01T10:40:32",
          "1970-01-01T10:40:32",
          "1970-01-01T10:40:32",
          "1970-01-01T13:42:52",
          "1970-01-01T13:42:52",
          "1970-01-01T14:24:32",
          "1970-01-01T14:24:32",
          "1970-01-01T14:24:32",
          "1970-01-01T17:26:52",
          "1970-01-01T17:26:52",
          "1970-01-01T18:08:32",
          "1970-01-01T18:08:32",
          "1970-01-01T18:08:32",
          "1970-01-01T21:10:52",
          "1970-01-01T21:10:52",
          "1970-01-01T21:52:32",
          "1970-01-01T21:52:32",
          "1970-01-01T21:52:32",
          "1970-01-02T00:54:52",
          "1970-01-02T00:54:52",
          "1970-01-02T01:36:32",
          "1970-01-02T01:36:32",
          "1970-01-02T01:36:32"
         ],
         "y": [
          "barge_0",
          "barge_0",
          "barge_0",
          "barge_0",
          null,
          "barge_0",
          "barge_0",
          "barge_0",
          "barge_0",
          null,
          "barge_0",
          "barge_0",
          "barge_0",
          "barge_0",
          null,
          "barge_0",
          "barge_0",
          "barge_0",
          "barge_0",
          null,
          "barge_0",
          "barge_0",
          "barge_0",
          "barge_0",
          null,
          "barge_0",
          "barge_0",
          "barge_0",
          "barge_0",
          null,
          "barge_0",
          "barge_0",
          "barge_0",
          "barge_0",
          null,
          "cutter",
          "cutter",
          "cutter",
          "cutter",
          null,
          "cutter",
          "cutter",
          "cutter",
          "cutter",
          null,
          "cutter",
          "cutter",
          "cutter",
          "cutter",
          null,
          "cutter",
          "cutter",
          "cutter",
          "cutter",
          null,
          "cutter",
          "cutter",
          "cutter",
          "cutter",
          null,
          "cutter",
          "cutter",
          "cutter",
          "cutter",
          null,
          "cutter",
          "cutter",
          "cutter",
          "cutter",
          null
         ]
        }
       ],
       "layout": {
        "hovermode": "closest",
        "legend": {
         "orientation": "h",
         "x": 0,
         "y": -0.2
        },
        "template": {
         "data": {
          "bar": [
           {
            "error_x": {
             "color": "#2a3f5f"
            },
            "error_y": {
             "color": "#2a3f5f"
            },
            "marker": {
             "line": {
              "color": "#E5ECF6",
              "width": 0.5
             },
             "pattern": {
              "fillmode": "overlay",
              "size": 10,
              "solidity": 0.2
             }
            },
            "type": "bar"
           }
          ],
          "barpolar": [
           {
            "marker": {
             "line": {
              "color": "#E5ECF6",
              "width": 0.5
             },
             "pattern": {
              "fillmode": "overlay",
              "size": 10,
              "solidity": 0.2
             }
            },
            "type": "barpolar"
           }
          ],
          "carpet": [
           {
            "aaxis": {
             "endlinecolor": "#2a3f5f",
             "gridcolor": "white",
             "linecolor": "white",
             "minorgridcolor": "white",
             "startlinecolor": "#2a3f5f"
            },
            "baxis": {
             "endlinecolor": "#2a3f5f",
             "gridcolor": "white",
             "linecolor": "white",
             "minorgridcolor": "white",
             "startlinecolor": "#2a3f5f"
            },
            "type": "carpet"
           }
          ],
          "choropleth": [
           {
            "colorbar": {
             "outlinewidth": 0,
             "ticks": ""
            },
            "type": "choropleth"
           }
          ],
          "contour": [
           {
            "colorbar": {
             "outlinewidth": 0,
             "ticks": ""
            },
            "colorscale": [
             [
              0,
              "#0d0887"
             ],
             [
              0.1111111111111111,
              "#46039f"
             ],
             [
              0.2222222222222222,
              "#7201a8"
             ],
             [
              0.3333333333333333,
              "#9c179e"
             ],
             [
              0.4444444444444444,
              "#bd3786"
             ],
             [
              0.5555555555555556,
              "#d8576b"
             ],
             [
              0.6666666666666666,
              "#ed7953"
             ],
             [
              0.7777777777777778,
              "#fb9f3a"
             ],
             [
              0.8888888888888888,
              "#fdca26"
             ],
             [
              1,
              "#f0f921"
             ]
            ],
            "type": "contour"
           }
          ],
          "contourcarpet": [
           {
            "colorbar": {
             "outlinewidth": 0,
             "ticks": ""
            },
            "type": "contourcarpet"
           }
          ],
          "heatmap": [
           {
            "colorbar": {
             "outlinewidth": 0,
             "ticks": ""
            },
            "colorscale": [
             [
              0,
              "#0d0887"
             ],
             [
              0.1111111111111111,
              "#46039f"
             ],
             [
              0.2222222222222222,
              "#7201a8"
             ],
             [
              0.3333333333333333,
              "#9c179e"
             ],
             [
              0.4444444444444444,
              "#bd3786"
             ],
             [
              0.5555555555555556,
              "#d8576b"
             ],
             [
              0.6666666666666666,
              "#ed7953"
             ],
             [
              0.7777777777777778,
              "#fb9f3a"
             ],
             [
              0.8888888888888888,
              "#fdca26"
             ],
             [
              1,
              "#f0f921"
             ]
            ],
            "type": "heatmap"
           }
          ],
          "heatmapgl": [
           {
            "colorbar": {
             "outlinewidth": 0,
             "ticks": ""
            },
            "colorscale": [
             [
              0,
              "#0d0887"
             ],
             [
              0.1111111111111111,
              "#46039f"
             ],
             [
              0.2222222222222222,
              "#7201a8"
             ],
             [
              0.3333333333333333,
              "#9c179e"
             ],
             [
              0.4444444444444444,
              "#bd3786"
             ],
             [
              0.5555555555555556,
              "#d8576b"
             ],
             [
              0.6666666666666666,
              "#ed7953"
             ],
             [
              0.7777777777777778,
              "#fb9f3a"
             ],
             [
              0.8888888888888888,
              "#fdca26"
             ],
             [
              1,
              "#f0f921"
             ]
            ],
            "type": "heatmapgl"
           }
          ],
          "histogram": [
           {
            "marker": {
             "pattern": {
              "fillmode": "overlay",
              "size": 10,
              "solidity": 0.2
             }
            },
            "type": "histogram"
           }
          ],
          "histogram2d": [
           {
            "colorbar": {
             "outlinewidth": 0,
             "ticks": ""
            },
            "colorscale": [
             [
              0,
              "#0d0887"
             ],
             [
              0.1111111111111111,
              "#46039f"
             ],
             [
              0.2222222222222222,
              "#7201a8"
             ],
             [
              0.3333333333333333,
              "#9c179e"
             ],
             [
              0.4444444444444444,
              "#bd3786"
             ],
             [
              0.5555555555555556,
              "#d8576b"
             ],
             [
              0.6666666666666666,
              "#ed7953"
             ],
             [
              0.7777777777777778,
              "#fb9f3a"
             ],
             [
              0.8888888888888888,
              "#fdca26"
             ],
             [
              1,
              "#f0f921"
             ]
            ],
            "type": "histogram2d"
           }
          ],
          "histogram2dcontour": [
           {
            "colorbar": {
             "outlinewidth": 0,
             "ticks": ""
            },
            "colorscale": [
             [
              0,
              "#0d0887"
             ],
             [
              0.1111111111111111,
              "#46039f"
             ],
             [
              0.2222222222222222,
              "#7201a8"
             ],
             [
              0.3333333333333333,
              "#9c179e"
             ],
             [
              0.4444444444444444,
              "#bd3786"
             ],
             [
              0.5555555555555556,
              "#d8576b"
             ],
             [
              0.6666666666666666,
              "#ed7953"
             ],
             [
              0.7777777777777778,
              "#fb9f3a"
             ],
             [
              0.8888888888888888,
              "#fdca26"
             ],
             [
              1,
              "#f0f921"
             ]
            ],
            "type": "histogram2dcontour"
           }
          ],
          "mesh3d": [
           {
            "colorbar": {
             "outlinewidth": 0,
             "ticks": ""
            },
            "type": "mesh3d"
           }
          ],
          "parcoords": [
           {
            "line": {
             "colorbar": {
              "outlinewidth": 0,
              "ticks": ""
             }
            },
            "type": "parcoords"
           }
          ],
          "pie": [
           {
            "automargin": true,
            "type": "pie"
           }
          ],
          "scatter": [
           {
            "marker": {
             "colorbar": {
              "outlinewidth": 0,
              "ticks": ""
             }
            },
            "type": "scatter"
           }
          ],
          "scatter3d": [
           {
            "line": {
             "colorbar": {
              "outlinewidth": 0,
              "ticks": ""
             }
            },
            "marker": {
             "colorbar": {
              "outlinewidth": 0,
              "ticks": ""
             }
            },
            "type": "scatter3d"
           }
          ],
          "scattercarpet": [
           {
            "marker": {
             "colorbar": {
              "outlinewidth": 0,
              "ticks": ""
             }
            },
            "type": "scattercarpet"
           }
          ],
          "scattergeo": [
           {
            "marker": {
             "colorbar": {
              "outlinewidth": 0,
              "ticks": ""
             }
            },
            "type": "scattergeo"
           }
          ],
          "scattergl": [
           {
            "marker": {
             "colorbar": {
              "outlinewidth": 0,
              "ticks": ""
             }
            },
            "type": "scattergl"
           }
          ],
          "scattermapbox": [
           {
            "marker": {
             "colorbar": {
              "outlinewidth": 0,
              "ticks": ""
             }
            },
            "type": "scattermapbox"
           }
          ],
          "scatterpolar": [
           {
            "marker": {
             "colorbar": {
              "outlinewidth": 0,
              "ticks": ""
             }
            },
            "type": "scatterpolar"
           }
          ],
          "scatterpolargl": [
           {
            "marker": {
             "colorbar": {
              "outlinewidth": 0,
              "ticks": ""
             }
            },
            "type": "scatterpolargl"
           }
          ],
          "scatterternary": [
           {
            "marker": {
             "colorbar": {
              "outlinewidth": 0,
              "ticks": ""
             }
            },
            "type": "scatterternary"
           }
          ],
          "surface": [
           {
            "colorbar": {
             "outlinewidth": 0,
             "ticks": ""
            },
            "colorscale": [
             [
              0,
              "#0d0887"
             ],
             [
              0.1111111111111111,
              "#46039f"
             ],
             [
              0.2222222222222222,
              "#7201a8"
             ],
             [
              0.3333333333333333,
              "#9c179e"
             ],
             [
              0.4444444444444444,
              "#bd3786"
             ],
             [
              0.5555555555555556,
              "#d8576b"
             ],
             [
              0.6666666666666666,
              "#ed7953"
             ],
             [
              0.7777777777777778,
              "#fb9f3a"
             ],
             [
              0.8888888888888888,
              "#fdca26"
             ],
             [
              1,
              "#f0f921"
             ]
            ],
            "type": "surface"
           }
          ],
          "table": [
           {
            "cells": {
             "fill": {
              "color": "#EBF0F8"
             },
             "line": {
              "color": "white"
             }
            },
            "header": {
             "fill": {
              "color": "#C8D4E3"
             },
             "line": {
              "color": "white"
             }
            },
            "type": "table"
           }
          ]
         },
         "layout": {
          "annotationdefaults": {
           "arrowcolor": "#2a3f5f",
           "arrowhead": 0,
           "arrowwidth": 1
          },
          "autotypenumbers": "strict",
          "coloraxis": {
           "colorbar": {
            "outlinewidth": 0,
            "ticks": ""
           }
          },
          "colorscale": {
           "diverging": [
            [
             0,
             "#8e0152"
            ],
            [
             0.1,
             "#c51b7d"
            ],
            [
             0.2,
             "#de77ae"
            ],
            [
             0.3,
             "#f1b6da"
            ],
            [
             0.4,
             "#fde0ef"
            ],
            [
             0.5,
             "#f7f7f7"
            ],
            [
             0.6,
             "#e6f5d0"
            ],
            [
             0.7,
             "#b8e186"
            ],
            [
             0.8,
             "#7fbc41"
            ],
            [
             0.9,
             "#4d9221"
            ],
            [
             1,
             "#276419"
            ]
           ],
           "sequential": [
            [
             0,
             "#0d0887"
            ],
            [
             0.1111111111111111,
             "#46039f"
            ],
            [
             0.2222222222222222,
             "#7201a8"
            ],
            [
             0.3333333333333333,
             "#9c179e"
            ],
            [
             0.4444444444444444,
             "#bd3786"
            ],
            [
             0.5555555555555556,
             "#d8576b"
            ],
            [
             0.6666666666666666,
             "#ed7953"
            ],
            [
             0.7777777777777778,
             "#fb9f3a"
            ],
            [
             0.8888888888888888,
             "#fdca26"
            ],
            [
             1,
             "#f0f921"
            ]
           ],
           "sequentialminus": [
            [
             0,
             "#0d0887"
            ],
            [
             0.1111111111111111,
             "#46039f"
            ],
            [
             0.2222222222222222,
             "#7201a8"
            ],
            [
             0.3333333333333333,
             "#9c179e"
            ],
            [
             0.4444444444444444,
             "#bd3786"
            ],
            [
             0.5555555555555556,
             "#d8576b"
            ],
            [
             0.6666666666666666,
             "#ed7953"
            ],
            [
             0.7777777777777778,
             "#fb9f3a"
            ],
            [
             0.8888888888888888,
             "#fdca26"
            ],
            [
             1,
             "#f0f921"
            ]
           ]
          },
          "colorway": [
           "#636efa",
           "#EF553B",
           "#00cc96",
           "#ab63fa",
           "#FFA15A",
           "#19d3f3",
           "#FF6692",
           "#B6E880",
           "#FF97FF",
           "#FECB52"
          ],
          "font": {
           "color": "#2a3f5f"
          },
          "geo": {
           "bgcolor": "white",
           "lakecolor": "white",
           "landcolor": "#E5ECF6",
           "showlakes": true,
           "showland": true,
           "subunitcolor": "white"
          },
          "hoverlabel": {
           "align": "left"
          },
          "hovermode": "closest",
          "mapbox": {
           "style": "light"
          },
          "paper_bgcolor": "white",
          "plot_bgcolor": "#E5ECF6",
          "polar": {
           "angularaxis": {
            "gridcolor": "white",
            "linecolor": "white",
            "ticks": ""
           },
           "bgcolor": "#E5ECF6",
           "radialaxis": {
            "gridcolor": "white",
            "linecolor": "white",
            "ticks": ""
           }
          },
          "scene": {
           "xaxis": {
            "backgroundcolor": "#E5ECF6",
            "gridcolor": "white",
            "gridwidth": 2,
            "linecolor": "white",
            "showbackground": true,
            "ticks": "",
            "zerolinecolor": "white"
           },
           "yaxis": {
            "backgroundcolor": "#E5ECF6",
            "gridcolor": "white",
            "gridwidth": 2,
            "linecolor": "white",
            "showbackground": true,
            "ticks": "",
            "zerolinecolor": "white"
           },
           "zaxis": {
            "backgroundcolor": "#E5ECF6",
            "gridcolor": "white",
            "gridwidth": 2,
            "linecolor": "white",
            "showbackground": true,
            "ticks": "",
            "zerolinecolor": "white"
           }
          },
          "shapedefaults": {
           "line": {
            "color": "#2a3f5f"
           }
          },
          "ternary": {
           "aaxis": {
            "gridcolor": "white",
            "linecolor": "white",
            "ticks": ""
           },
           "baxis": {
            "gridcolor": "white",
            "linecolor": "white",
            "ticks": ""
           },
           "bgcolor": "#E5ECF6",
           "caxis": {
            "gridcolor": "white",
            "linecolor": "white",
            "ticks": ""
           }
          },
          "title": {
           "x": 0.05
          },
          "xaxis": {
           "automargin": true,
           "gridcolor": "white",
           "linecolor": "white",
           "ticks": "",
           "title": {
            "standoff": 15
           },
           "zerolinecolor": "white",
           "zerolinewidth": 2
          },
          "yaxis": {
           "automargin": true,
           "gridcolor": "white",
           "linecolor": "white",
           "ticks": "",
           "title": {
            "standoff": 15
           },
           "zerolinecolor": "white",
           "zerolinewidth": 2
          }
         }
        },
        "title": {
         "text": "GANTT Chart"
        },
        "xaxis": {
         "range": [
          "1970-01-01T00:00:00",
          "1970-01-02T03:25:44"
         ],
         "title": {
          "font": {
           "color": "#7f7f7f",
           "family": "Courier New, monospace",
           "size": 18
          },
          "text": "Time"
         }
        },
        "yaxis": {
         "title": {
          "font": {
           "color": "#7f7f7f",
           "family": "Courier New, monospace",
           "size": 18
          },
          "text": "Activities"
         }
        }
       }
      },
      "text/html": [
       "<div>                            <div id=\"bdfccfe2-f1fa-4f5b-8b64-ff7738687a8a\" class=\"plotly-graph-div\" style=\"height:525px; width:100%;\"></div>            <script type=\"text/javascript\">                require([\"plotly\"], function(Plotly) {                    window.PLOTLYENV=window.PLOTLYENV || {};                                    if (document.getElementById(\"bdfccfe2-f1fa-4f5b-8b64-ff7738687a8a\")) {                    Plotly.newPlot(                        \"bdfccfe2-f1fa-4f5b-8b64-ff7738687a8a\",                        [{\"connectgaps\":false,\"hoverinfo\":\"y+name\",\"line\":{\"color\":\"rgb(86,175,199)\",\"width\":10},\"mode\":\"lines\",\"name\":\"unloading:barge_0\",\"x\":[\"1970-01-01T03:58:07\",\"1970-01-01T03:58:07\",\"1970-01-01T04:43:42\",\"1970-01-01T04:43:42\",\"1970-01-01T04:43:42\",\"1970-01-01T07:42:07\",\"1970-01-01T07:42:07\",\"1970-01-01T08:27:42\",\"1970-01-01T08:27:42\",\"1970-01-01T08:27:42\",\"1970-01-01T11:26:07\",\"1970-01-01T11:26:07\",\"1970-01-01T12:11:42\",\"1970-01-01T12:11:42\",\"1970-01-01T12:11:42\",\"1970-01-01T15:10:07\",\"1970-01-01T15:10:07\",\"1970-01-01T15:55:42\",\"1970-01-01T15:55:42\",\"1970-01-01T15:55:42\",\"1970-01-01T18:54:07\",\"1970-01-01T18:54:07\",\"1970-01-01T19:39:42\",\"1970-01-01T19:39:42\",\"1970-01-01T19:39:42\",\"1970-01-01T22:38:07\",\"1970-01-01T22:38:07\",\"1970-01-01T23:23:42\",\"1970-01-01T23:23:42\",\"1970-01-01T23:23:42\",\"1970-01-02T02:22:07\",\"1970-01-02T02:22:07\",\"1970-01-02T03:07:42\",\"1970-01-02T03:07:42\",\"1970-01-02T03:07:42\"],\"y\":[\"barge_0\",\"barge_0\",\"barge_0\",\"barge_0\",null,\"barge_0\",\"barge_0\",\"barge_0\",\"barge_0\",null,\"barge_0\",\"barge_0\",\"barge_0\",\"barge_0\",null,\"barge_0\",\"barge_0\",\"barge_0\",\"barge_0\",null,\"barge_0\",\"barge_0\",\"barge_0\",\"barge_0\",null,\"barge_0\",\"barge_0\",\"barge_0\",\"barge_0\",null,\"barge_0\",\"barge_0\",\"barge_0\",\"barge_0\",null],\"type\":\"scatter\"},{\"connectgaps\":false,\"hoverinfo\":\"y+name\",\"line\":{\"color\":\"rgb(100,189,213)\",\"width\":10},\"mode\":\"lines\",\"name\":\"basic activity:barge_0\",\"x\":[\"1970-01-01T00:00:00\",\"1970-01-01T00:00:00\",\"1970-01-01T00:45:35\",\"1970-01-01T00:45:35\",\"1970-01-01T00:45:35\",\"1970-01-01T04:43:42\",\"1970-01-01T04:43:42\",\"1970-01-01T05:29:17\",\"1970-01-01T05:29:17\",\"1970-01-01T05:29:17\",\"1970-01-01T08:27:42\",\"1970-01-01T08:27:42\",\"1970-01-01T09:13:17\",\"1970-01-01T09:13:17\",\"1970-01-01T09:13:17\",\"1970-01-01T12:11:42\",\"1970-01-01T12:11:42\",\"1970-01-01T12:57:17\",\"1970-01-01T12:57:17\",\"1970-01-01T12:57:17\",\"1970-01-01T15:55:42\",\"1970-01-01T15:55:42\",\"1970-01-01T16:41:17\",\"1970-01-01T16:41:17\",\"1970-01-01T16:41:17\",\"1970-01-01T19:39:42\",\"1970-01-01T19:39:42\",\"1970-01-01T20:25:17\",\"1970-01-01T20:25:17\",\"1970-01-01T20:25:17\",\"1970-01-01T23:23:42\",\"1970-01-01T23:23:42\",\"1970-01-02T00:09:17\",\"1970-01-02T00:09:17\",\"1970-01-02T00:09:17\"],\"y\":[\"barge_0\",\"barge_0\",\"barge_0\",\"barge_0\",null,\"barge_0\",\"barge_0\",\"barge_0\",\"barge_0\",null,\"barge_0\",\"barge_0\",\"barge_0\",\"barge_0\",null,\"barge_0\",\"barge_0\",\"barge_0\",\"barge_0\",null,\"barge_0\",\"barge_0\",\"barge_0\",\"barge_0\",null,\"barge_0\",\"barge_0\",\"barge_0\",\"barge_0\",null,\"barge_0\",\"barge_0\",\"barge_0\",\"barge_0\",null],\"type\":\"scatter\"},{\"connectgaps\":false,\"hoverinfo\":\"y+name\",\"line\":{\"color\":\"rgb(114,203,227)\",\"width\":10},\"mode\":\"lines\",\"name\":\"loading:barge_0\",\"x\":[\"1970-01-01T02:30:52\",\"1970-01-01T02:30:52\",\"1970-01-01T03:12:32\",\"1970-01-01T03:12:32\",\"1970-01-01T03:12:32\",\"1970-01-01T06:14:52\",\"1970-01-01T06:14:52\",\"1970-01-01T06:56:32\",\"1970-01-01T06:56:32\",\"1970-01-01T06:56:32\",\"1970-01-01T09:58:52\",\"1970-01-01T09:58:52\",\"1970-01-01T10:40:32\",\"1970-01-01T10:40:32\",\"1970-01-01T10:40:32\",\"1970-01-01T13:42:52\",\"1970-01-01T13:42:52\",\"1970-01-01T14:24:32\",\"1970-01-01T14:24:32\",\"1970-01-01T14:24:32\",\"1970-01-01T17:26:52\",\"1970-01-01T17:26:52\",\"1970-01-01T18:08:32\",\"1970-01-01T18:08:32\",\"1970-01-01T18:08:32\",\"1970-01-01T21:10:52\",\"1970-01-01T21:10:52\",\"1970-01-01T21:52:32\",\"1970-01-01T21:52:32\",\"1970-01-01T21:52:32\",\"1970-01-02T00:54:52\",\"1970-01-02T00:54:52\",\"1970-01-02T01:36:32\",\"1970-01-02T01:36:32\",\"1970-01-02T01:36:32\",\"1970-01-01T02:30:52\",\"1970-01-01T02:30:52\",\"1970-01-01T03:12:32\",\"1970-01-01T03:12:32\",\"1970-01-01T03:12:32\",\"1970-01-01T06:14:52\",\"1970-01-01T06:14:52\",\"1970-01-01T06:56:32\",\"1970-01-01T06:56:32\",\"1970-01-01T06:56:32\",\"1970-01-01T09:58:52\",\"1970-01-01T09:58:52\",\"1970-01-01T10:40:32\",\"1970-01-01T10:40:32\",\"1970-01-01T10:40:32\",\"1970-01-01T13:42:52\",\"1970-01-01T13:42:52\",\"1970-01-01T14:24:32\",\"1970-01-01T14:24:32\",\"1970-01-01T14:24:32\",\"1970-01-01T17:26:52\",\"1970-01-01T17:26:52\",\"1970-01-01T18:08:32\",\"1970-01-01T18:08:32\",\"1970-01-01T18:08:32\",\"1970-01-01T21:10:52\",\"1970-01-01T21:10:52\",\"1970-01-01T21:52:32\",\"1970-01-01T21:52:32\",\"1970-01-01T21:52:32\",\"1970-01-02T00:54:52\",\"1970-01-02T00:54:52\",\"1970-01-02T01:36:32\",\"1970-01-02T01:36:32\",\"1970-01-02T01:36:32\"],\"y\":[\"barge_0\",\"barge_0\",\"barge_0\",\"barge_0\",null,\"barge_0\",\"barge_0\",\"barge_0\",\"barge_0\",null,\"barge_0\",\"barge_0\",\"barge_0\",\"barge_0\",null,\"barge_0\",\"barge_0\",\"barge_0\",\"barge_0\",null,\"barge_0\",\"barge_0\",\"barge_0\",\"barge_0\",null,\"barge_0\",\"barge_0\",\"barge_0\",\"barge_0\",null,\"barge_0\",\"barge_0\",\"barge_0\",\"barge_0\",null,\"cutter\",\"cutter\",\"cutter\",\"cutter\",null,\"cutter\",\"cutter\",\"cutter\",\"cutter\",null,\"cutter\",\"cutter\",\"cutter\",\"cutter\",null,\"cutter\",\"cutter\",\"cutter\",\"cutter\",null,\"cutter\",\"cutter\",\"cutter\",\"cutter\",null,\"cutter\",\"cutter\",\"cutter\",\"cutter\",null,\"cutter\",\"cutter\",\"cutter\",\"cutter\",null],\"type\":\"scatter\"},{\"connectgaps\":false,\"hoverinfo\":\"y+name\",\"line\":{\"color\":\"rgb(128,217,241)\",\"width\":10},\"mode\":\"lines\",\"name\":\"sailing empty:barge_0\",\"x\":[\"1970-01-01T00:45:35\",\"1970-01-01T00:45:35\",\"1970-01-01T01:31:10\",\"1970-01-01T01:31:10\",\"1970-01-01T01:31:10\",\"1970-01-01T05:29:17\",\"1970-01-01T05:29:17\",\"1970-01-01T06:14:52\",\"1970-01-01T06:14:52\",\"1970-01-01T06:14:52\",\"1970-01-01T09:13:17\",\"1970-01-01T09:13:17\",\"1970-01-01T09:58:52\",\"1970-01-01T09:58:52\",\"1970-01-01T09:58:52\",\"1970-01-01T12:57:17\",\"1970-01-01T12:57:17\",\"1970-01-01T13:42:52\",\"1970-01-01T13:42:52\",\"1970-01-01T13:42:52\",\"1970-01-01T16:41:17\",\"1970-01-01T16:41:17\",\"1970-01-01T17:26:52\",\"1970-01-01T17:26:52\",\"1970-01-01T17:26:52\",\"1970-01-01T20:25:17\",\"1970-01-01T20:25:17\",\"1970-01-01T21:10:52\",\"1970-01-01T21:10:52\",\"1970-01-01T21:10:52\",\"1970-01-02T00:09:17\",\"1970-01-02T00:09:17\",\"1970-01-02T00:54:52\",\"1970-01-02T00:54:52\",\"1970-01-02T00:54:52\"],\"y\":[\"barge_0\",\"barge_0\",\"barge_0\",\"barge_0\",null,\"barge_0\",\"barge_0\",\"barge_0\",\"barge_0\",null,\"barge_0\",\"barge_0\",\"barge_0\",\"barge_0\",null,\"barge_0\",\"barge_0\",\"barge_0\",\"barge_0\",null,\"barge_0\",\"barge_0\",\"barge_0\",\"barge_0\",null,\"barge_0\",\"barge_0\",\"barge_0\",\"barge_0\",null,\"barge_0\",\"barge_0\",\"barge_0\",\"barge_0\",null],\"type\":\"scatter\"},{\"connectgaps\":false,\"hoverinfo\":\"y+name\",\"line\":{\"color\":\"rgb(142,231,255)\",\"width\":10},\"mode\":\"lines\",\"name\":\"sailing full:barge_0\",\"x\":[\"1970-01-01T03:12:32\",\"1970-01-01T03:12:32\",\"1970-01-01T03:58:07\",\"1970-01-01T03:58:07\",\"1970-01-01T03:58:07\",\"1970-01-01T06:56:32\",\"1970-01-01T06:56:32\",\"1970-01-01T07:42:07\",\"1970-01-01T07:42:07\",\"1970-01-01T07:42:07\",\"1970-01-01T10:40:32\",\"1970-01-01T10:40:32\",\"1970-01-01T11:26:07\",\"1970-01-01T11:26:07\",\"1970-01-01T11:26:07\",\"1970-01-01T14:24:32\",\"1970-01-01T14:24:32\",\"1970-01-01T15:10:07\",\"1970-01-01T15:10:07\",\"1970-01-01T15:10:07\",\"1970-01-01T18:08:32\",\"1970-01-01T18:08:32\",\"1970-01-01T18:54:07\",\"1970-01-01T18:54:07\",\"1970-01-01T18:54:07\",\"1970-01-01T21:52:32\",\"1970-01-01T21:52:32\",\"1970-01-01T22:38:07\",\"1970-01-01T22:38:07\",\"1970-01-01T22:38:07\",\"1970-01-02T01:36:32\",\"1970-01-02T01:36:32\",\"1970-01-02T02:22:07\",\"1970-01-02T02:22:07\",\"1970-01-02T02:22:07\"],\"y\":[\"barge_0\",\"barge_0\",\"barge_0\",\"barge_0\",null,\"barge_0\",\"barge_0\",\"barge_0\",\"barge_0\",null,\"barge_0\",\"barge_0\",\"barge_0\",\"barge_0\",null,\"barge_0\",\"barge_0\",\"barge_0\",\"barge_0\",null,\"barge_0\",\"barge_0\",\"barge_0\",\"barge_0\",null,\"barge_0\",\"barge_0\",\"barge_0\",\"barge_0\",null,\"barge_0\",\"barge_0\",\"barge_0\",\"barge_0\",null],\"type\":\"scatter\"},{\"connectgaps\":false,\"hoverinfo\":\"y+name\",\"line\":{\"color\":\"rgb(156,245,13)\",\"width\":10},\"mode\":\"lines\",\"name\":\"sailing empty:barge_1\",\"x\":[\"1970-01-01T00:37:56\",\"1970-01-01T00:37:56\",\"1970-01-01T01:15:52\",\"1970-01-01T01:15:52\",\"1970-01-01T01:15:52\",\"1970-01-01T03:43:00\",\"1970-01-01T03:43:00\",\"1970-01-01T04:20:56\",\"1970-01-01T04:20:56\",\"1970-01-01T04:20:56\",\"1970-01-01T06:48:04\",\"1970-01-01T06:48:04\",\"1970-01-01T07:26:00\",\"1970-01-01T07:26:00\",\"1970-01-01T07:26:00\",\"1970-01-01T09:53:08\",\"1970-01-01T09:53:08\",\"1970-01-01T10:31:04\",\"1970-01-01T10:31:04\",\"1970-01-01T10:31:04\",\"1970-01-01T13:07:40\",\"1970-01-01T13:07:40\",\"1970-01-01T13:45:36\",\"1970-01-01T13:45:36\",\"1970-01-01T13:45:36\",\"1970-01-01T16:51:40\",\"1970-01-01T16:51:40\",\"1970-01-01T17:29:36\",\"1970-01-01T17:29:36\",\"1970-01-01T17:29:36\",\"1970-01-01T20:35:40\",\"1970-01-01T20:35:40\",\"1970-01-01T21:13:36\",\"1970-01-01T21:13:36\",\"1970-01-01T21:13:36\",\"1970-01-02T00:19:40\",\"1970-01-02T00:19:40\",\"1970-01-02T00:57:36\",\"1970-01-02T00:57:36\",\"1970-01-02T00:57:36\"],\"y\":[\"barge_1\",\"barge_1\",\"barge_1\",\"barge_1\",null,\"barge_1\",\"barge_1\",\"barge_1\",\"barge_1\",null,\"barge_1\",\"barge_1\",\"barge_1\",\"barge_1\",null,\"barge_1\",\"barge_1\",\"barge_1\",\"barge_1\",null,\"barge_1\",\"barge_1\",\"barge_1\",\"barge_1\",null,\"barge_1\",\"barge_1\",\"barge_1\",\"barge_1\",null,\"barge_1\",\"barge_1\",\"barge_1\",\"barge_1\",null,\"barge_1\",\"barge_1\",\"barge_1\",\"barge_1\",null],\"type\":\"scatter\"},{\"connectgaps\":false,\"hoverinfo\":\"y+name\",\"line\":{\"color\":\"rgb(170,3,27)\",\"width\":10},\"mode\":\"lines\",\"name\":\"unloading:barge_1\",\"x\":[\"1970-01-01T02:27:08\",\"1970-01-01T02:27:08\",\"1970-01-01T03:05:04\",\"1970-01-01T03:05:04\",\"1970-01-01T03:05:04\",\"1970-01-01T05:32:12\",\"1970-01-01T05:32:12\",\"1970-01-01T06:10:08\",\"1970-01-01T06:10:08\",\"1970-01-01T06:10:08\",\"1970-01-01T08:37:16\",\"1970-01-01T08:37:16\",\"1970-01-01T09:15:12\",\"1970-01-01T09:15:12\",\"1970-01-01T09:15:12\",\"1970-01-01T11:51:48\",\"1970-01-01T11:51:48\",\"1970-01-01T12:29:44\",\"1970-01-01T12:29:44\",\"1970-01-01T12:29:44\",\"1970-01-01T15:35:48\",\"1970-01-01T15:35:48\",\"1970-01-01T16:13:44\",\"1970-01-01T16:13:44\",\"1970-01-01T16:13:44\",\"1970-01-01T19:19:48\",\"1970-01-01T19:19:48\",\"1970-01-01T19:57:44\",\"1970-01-01T19:57:44\",\"1970-01-01T19:57:44\",\"1970-01-01T23:03:48\",\"1970-01-01T23:03:48\",\"1970-01-01T23:41:44\",\"1970-01-01T23:41:44\",\"1970-01-01T23:41:44\",\"1970-01-02T02:47:48\",\"1970-01-02T02:47:48\",\"1970-01-02T03:25:44\",\"1970-01-02T03:25:44\",\"1970-01-02T03:25:44\"],\"y\":[\"barge_1\",\"barge_1\",\"barge_1\",\"barge_1\",null,\"barge_1\",\"barge_1\",\"barge_1\",\"barge_1\",null,\"barge_1\",\"barge_1\",\"barge_1\",\"barge_1\",null,\"barge_1\",\"barge_1\",\"barge_1\",\"barge_1\",null,\"barge_1\",\"barge_1\",\"barge_1\",\"barge_1\",null,\"barge_1\",\"barge_1\",\"barge_1\",\"barge_1\",null,\"barge_1\",\"barge_1\",\"barge_1\",\"barge_1\",null,\"barge_1\",\"barge_1\",\"barge_1\",\"barge_1\",null],\"type\":\"scatter\"},{\"connectgaps\":false,\"hoverinfo\":\"y+name\",\"line\":{\"color\":\"rgb(184,17,41)\",\"width\":10},\"mode\":\"lines\",\"name\":\"loading:barge_1\",\"x\":[\"1970-01-01T01:15:52\",\"1970-01-01T01:15:52\",\"1970-01-01T01:49:12\",\"1970-01-01T01:49:12\",\"1970-01-01T01:49:12\",\"1970-01-01T04:20:56\",\"1970-01-01T04:20:56\",\"1970-01-01T04:54:16\",\"1970-01-01T04:54:16\",\"1970-01-01T04:54:16\",\"1970-01-01T07:26:00\",\"1970-01-01T07:26:00\",\"1970-01-01T07:59:20\",\"1970-01-01T07:59:20\",\"1970-01-01T07:59:20\",\"1970-01-01T10:40:32\",\"1970-01-01T10:40:32\",\"1970-01-01T11:13:52\",\"1970-01-01T11:13:52\",\"1970-01-01T11:13:52\",\"1970-01-01T14:24:32\",\"1970-01-01T14:24:32\",\"1970-01-01T14:57:52\",\"1970-01-01T14:57:52\",\"1970-01-01T14:57:52\",\"1970-01-01T18:08:32\",\"1970-01-01T18:08:32\",\"1970-01-01T18:41:52\",\"1970-01-01T18:41:52\",\"1970-01-01T18:41:52\",\"1970-01-01T21:52:32\",\"1970-01-01T21:52:32\",\"1970-01-01T22:25:52\",\"1970-01-01T22:25:52\",\"1970-01-01T22:25:52\",\"1970-01-02T01:36:32\",\"1970-01-02T01:36:32\",\"1970-01-02T02:09:52\",\"1970-01-02T02:09:52\",\"1970-01-02T02:09:52\",\"1970-01-01T01:15:52\",\"1970-01-01T01:15:52\",\"1970-01-01T01:49:12\",\"1970-01-01T01:49:12\",\"1970-01-01T01:49:12\",\"1970-01-01T04:20:56\",\"1970-01-01T04:20:56\",\"1970-01-01T04:54:16\",\"1970-01-01T04:54:16\",\"1970-01-01T04:54:16\",\"1970-01-01T07:26:00\",\"1970-01-01T07:26:00\",\"1970-01-01T07:59:20\",\"1970-01-01T07:59:20\",\"1970-01-01T07:59:20\",\"1970-01-01T10:40:32\",\"1970-01-01T10:40:32\",\"1970-01-01T11:13:52\",\"1970-01-01T11:13:52\",\"1970-01-01T11:13:52\",\"1970-01-01T14:24:32\",\"1970-01-01T14:24:32\",\"1970-01-01T14:57:52\",\"1970-01-01T14:57:52\",\"1970-01-01T14:57:52\",\"1970-01-01T18:08:32\",\"1970-01-01T18:08:32\",\"1970-01-01T18:41:52\",\"1970-01-01T18:41:52\",\"1970-01-01T18:41:52\",\"1970-01-01T21:52:32\",\"1970-01-01T21:52:32\",\"1970-01-01T22:25:52\",\"1970-01-01T22:25:52\",\"1970-01-01T22:25:52\",\"1970-01-02T01:36:32\",\"1970-01-02T01:36:32\",\"1970-01-02T02:09:52\",\"1970-01-02T02:09:52\",\"1970-01-02T02:09:52\"],\"y\":[\"barge_1\",\"barge_1\",\"barge_1\",\"barge_1\",null,\"barge_1\",\"barge_1\",\"barge_1\",\"barge_1\",null,\"barge_1\",\"barge_1\",\"barge_1\",\"barge_1\",null,\"barge_1\",\"barge_1\",\"barge_1\",\"barge_1\",null,\"barge_1\",\"barge_1\",\"barge_1\",\"barge_1\",null,\"barge_1\",\"barge_1\",\"barge_1\",\"barge_1\",null,\"barge_1\",\"barge_1\",\"barge_1\",\"barge_1\",null,\"barge_1\",\"barge_1\",\"barge_1\",\"barge_1\",null,\"cutter\",\"cutter\",\"cutter\",\"cutter\",null,\"cutter\",\"cutter\",\"cutter\",\"cutter\",null,\"cutter\",\"cutter\",\"cutter\",\"cutter\",null,\"cutter\",\"cutter\",\"cutter\",\"cutter\",null,\"cutter\",\"cutter\",\"cutter\",\"cutter\",null,\"cutter\",\"cutter\",\"cutter\",\"cutter\",null,\"cutter\",\"cutter\",\"cutter\",\"cutter\",null,\"cutter\",\"cutter\",\"cutter\",\"cutter\",null],\"type\":\"scatter\"},{\"connectgaps\":false,\"hoverinfo\":\"y+name\",\"line\":{\"color\":\"rgb(198,31,55)\",\"width\":10},\"mode\":\"lines\",\"name\":\"basic activity:barge_1\",\"x\":[\"1970-01-01T00:00:00\",\"1970-01-01T00:00:00\",\"1970-01-01T00:37:56\",\"1970-01-01T00:37:56\",\"1970-01-01T00:37:56\",\"1970-01-01T03:05:04\",\"1970-01-01T03:05:04\",\"1970-01-01T03:43:00\",\"1970-01-01T03:43:00\",\"1970-01-01T03:43:00\",\"1970-01-01T06:10:08\",\"1970-01-01T06:10:08\",\"1970-01-01T06:48:04\",\"1970-01-01T06:48:04\",\"1970-01-01T06:48:04\",\"1970-01-01T09:15:12\",\"1970-01-01T09:15:12\",\"1970-01-01T09:53:08\",\"1970-01-01T09:53:08\",\"1970-01-01T09:53:08\",\"1970-01-01T12:29:44\",\"1970-01-01T12:29:44\",\"1970-01-01T13:07:40\",\"1970-01-01T13:07:40\",\"1970-01-01T13:07:40\",\"1970-01-01T16:13:44\",\"1970-01-01T16:13:44\",\"1970-01-01T16:51:40\",\"1970-01-01T16:51:40\",\"1970-01-01T16:51:40\",\"1970-01-01T19:57:44\",\"1970-01-01T19:57:44\",\"1970-01-01T20:35:40\",\"1970-01-01T20:35:40\",\"1970-01-01T20:35:40\",\"1970-01-01T23:41:44\",\"1970-01-01T23:41:44\",\"1970-01-02T00:19:40\",\"1970-01-02T00:19:40\",\"1970-01-02T00:19:40\"],\"y\":[\"barge_1\",\"barge_1\",\"barge_1\",\"barge_1\",null,\"barge_1\",\"barge_1\",\"barge_1\",\"barge_1\",null,\"barge_1\",\"barge_1\",\"barge_1\",\"barge_1\",null,\"barge_1\",\"barge_1\",\"barge_1\",\"barge_1\",null,\"barge_1\",\"barge_1\",\"barge_1\",\"barge_1\",null,\"barge_1\",\"barge_1\",\"barge_1\",\"barge_1\",null,\"barge_1\",\"barge_1\",\"barge_1\",\"barge_1\",null,\"barge_1\",\"barge_1\",\"barge_1\",\"barge_1\",null],\"type\":\"scatter\"},{\"connectgaps\":false,\"hoverinfo\":\"y+name\",\"line\":{\"color\":\"rgb(212,45,69)\",\"width\":10},\"mode\":\"lines\",\"name\":\"sailing full:barge_1\",\"x\":[\"1970-01-01T01:49:12\",\"1970-01-01T01:49:12\",\"1970-01-01T02:27:08\",\"1970-01-01T02:27:08\",\"1970-01-01T02:27:08\",\"1970-01-01T04:54:16\",\"1970-01-01T04:54:16\",\"1970-01-01T05:32:12\",\"1970-01-01T05:32:12\",\"1970-01-01T05:32:12\",\"1970-01-01T07:59:20\",\"1970-01-01T07:59:20\",\"1970-01-01T08:37:16\",\"1970-01-01T08:37:16\",\"1970-01-01T08:37:16\",\"1970-01-01T11:13:52\",\"1970-01-01T11:13:52\",\"1970-01-01T11:51:48\",\"1970-01-01T11:51:48\",\"1970-01-01T11:51:48\",\"1970-01-01T14:57:52\",\"1970-01-01T14:57:52\",\"1970-01-01T15:35:48\",\"1970-01-01T15:35:48\",\"1970-01-01T15:35:48\",\"1970-01-01T18:41:52\",\"1970-01-01T18:41:52\",\"1970-01-01T19:19:48\",\"1970-01-01T19:19:48\",\"1970-01-01T19:19:48\",\"1970-01-01T22:25:52\",\"1970-01-01T22:25:52\",\"1970-01-01T23:03:48\",\"1970-01-01T23:03:48\",\"1970-01-01T23:03:48\",\"1970-01-02T02:09:52\",\"1970-01-02T02:09:52\",\"1970-01-02T02:47:48\",\"1970-01-02T02:47:48\",\"1970-01-02T02:47:48\"],\"y\":[\"barge_1\",\"barge_1\",\"barge_1\",\"barge_1\",null,\"barge_1\",\"barge_1\",\"barge_1\",\"barge_1\",null,\"barge_1\",\"barge_1\",\"barge_1\",\"barge_1\",null,\"barge_1\",\"barge_1\",\"barge_1\",\"barge_1\",null,\"barge_1\",\"barge_1\",\"barge_1\",\"barge_1\",null,\"barge_1\",\"barge_1\",\"barge_1\",\"barge_1\",null,\"barge_1\",\"barge_1\",\"barge_1\",\"barge_1\",null,\"barge_1\",\"barge_1\",\"barge_1\",\"barge_1\",null],\"type\":\"scatter\"},{\"connectgaps\":false,\"hoverinfo\":\"y+name\",\"line\":{\"color\":\"rgb(226,59,83)\",\"width\":10},\"mode\":\"lines\",\"name\":\"sailing full:barge_2\",\"x\":[\"1970-01-01T02:30:52\",\"1970-01-01T02:30:52\",\"1970-01-01T03:09:44\",\"1970-01-01T03:09:44\",\"1970-01-01T03:09:44\",\"1970-01-01T05:48:00\",\"1970-01-01T05:48:00\",\"1970-01-01T06:26:52\",\"1970-01-01T06:26:52\",\"1970-01-01T06:26:52\",\"1970-01-01T09:05:08\",\"1970-01-01T09:05:08\",\"1970-01-01T09:44:00\",\"1970-01-01T09:44:00\",\"1970-01-01T09:44:00\",\"1970-01-01T12:22:16\",\"1970-01-01T12:22:16\",\"1970-01-01T13:01:08\",\"1970-01-01T13:01:08\",\"1970-01-01T13:01:08\",\"1970-01-01T15:39:32\",\"1970-01-01T15:39:32\",\"1970-01-01T16:18:24\",\"1970-01-01T16:18:24\",\"1970-01-01T16:18:24\",\"1970-01-01T19:23:32\",\"1970-01-01T19:23:32\",\"1970-01-01T20:02:24\",\"1970-01-01T20:02:24\",\"1970-01-01T20:02:24\",\"1970-01-01T23:07:32\",\"1970-01-01T23:07:32\",\"1970-01-01T23:46:24\",\"1970-01-01T23:46:24\",\"1970-01-01T23:46:24\"],\"y\":[\"barge_2\",\"barge_2\",\"barge_2\",\"barge_2\",null,\"barge_2\",\"barge_2\",\"barge_2\",\"barge_2\",null,\"barge_2\",\"barge_2\",\"barge_2\",\"barge_2\",null,\"barge_2\",\"barge_2\",\"barge_2\",\"barge_2\",null,\"barge_2\",\"barge_2\",\"barge_2\",\"barge_2\",null,\"barge_2\",\"barge_2\",\"barge_2\",\"barge_2\",null,\"barge_2\",\"barge_2\",\"barge_2\",\"barge_2\",null],\"type\":\"scatter\"},{\"connectgaps\":false,\"hoverinfo\":\"y+name\",\"line\":{\"color\":\"rgb(240,73,97)\",\"width\":10},\"mode\":\"lines\",\"name\":\"loading:barge_2\",\"x\":[\"1970-01-01T01:49:12\",\"1970-01-01T01:49:12\",\"1970-01-01T02:30:52\",\"1970-01-01T02:30:52\",\"1970-01-01T02:30:52\",\"1970-01-01T05:06:20\",\"1970-01-01T05:06:20\",\"1970-01-01T05:48:00\",\"1970-01-01T05:48:00\",\"1970-01-01T05:48:00\",\"1970-01-01T08:23:28\",\"1970-01-01T08:23:28\",\"1970-01-01T09:05:08\",\"1970-01-01T09:05:08\",\"1970-01-01T09:05:08\",\"1970-01-01T11:40:36\",\"1970-01-01T11:40:36\",\"1970-01-01T12:22:16\",\"1970-01-01T12:22:16\",\"1970-01-01T12:22:16\",\"1970-01-01T14:57:52\",\"1970-01-01T14:57:52\",\"1970-01-01T15:39:32\",\"1970-01-01T15:39:32\",\"1970-01-01T15:39:32\",\"1970-01-01T18:41:52\",\"1970-01-01T18:41:52\",\"1970-01-01T19:23:32\",\"1970-01-01T19:23:32\",\"1970-01-01T19:23:32\",\"1970-01-01T22:25:52\",\"1970-01-01T22:25:52\",\"1970-01-01T23:07:32\",\"1970-01-01T23:07:32\",\"1970-01-01T23:07:32\",\"1970-01-01T01:49:12\",\"1970-01-01T01:49:12\",\"1970-01-01T02:30:52\",\"1970-01-01T02:30:52\",\"1970-01-01T02:30:52\",\"1970-01-01T05:06:20\",\"1970-01-01T05:06:20\",\"1970-01-01T05:48:00\",\"1970-01-01T05:48:00\",\"1970-01-01T05:48:00\",\"1970-01-01T08:23:28\",\"1970-01-01T08:23:28\",\"1970-01-01T09:05:08\",\"1970-01-01T09:05:08\",\"1970-01-01T09:05:08\",\"1970-01-01T11:40:36\",\"1970-01-01T11:40:36\",\"1970-01-01T12:22:16\",\"1970-01-01T12:22:16\",\"1970-01-01T12:22:16\",\"1970-01-01T14:57:52\",\"1970-01-01T14:57:52\",\"1970-01-01T15:39:32\",\"1970-01-01T15:39:32\",\"1970-01-01T15:39:32\",\"1970-01-01T18:41:52\",\"1970-01-01T18:41:52\",\"1970-01-01T19:23:32\",\"1970-01-01T19:23:32\",\"1970-01-01T19:23:32\",\"1970-01-01T22:25:52\",\"1970-01-01T22:25:52\",\"1970-01-01T23:07:32\",\"1970-01-01T23:07:32\",\"1970-01-01T23:07:32\"],\"y\":[\"barge_2\",\"barge_2\",\"barge_2\",\"barge_2\",null,\"barge_2\",\"barge_2\",\"barge_2\",\"barge_2\",null,\"barge_2\",\"barge_2\",\"barge_2\",\"barge_2\",null,\"barge_2\",\"barge_2\",\"barge_2\",\"barge_2\",null,\"barge_2\",\"barge_2\",\"barge_2\",\"barge_2\",null,\"barge_2\",\"barge_2\",\"barge_2\",\"barge_2\",null,\"barge_2\",\"barge_2\",\"barge_2\",\"barge_2\",null,\"cutter\",\"cutter\",\"cutter\",\"cutter\",null,\"cutter\",\"cutter\",\"cutter\",\"cutter\",null,\"cutter\",\"cutter\",\"cutter\",\"cutter\",null,\"cutter\",\"cutter\",\"cutter\",\"cutter\",null,\"cutter\",\"cutter\",\"cutter\",\"cutter\",null,\"cutter\",\"cutter\",\"cutter\",\"cutter\",null,\"cutter\",\"cutter\",\"cutter\",\"cutter\",null],\"type\":\"scatter\"},{\"connectgaps\":false,\"hoverinfo\":\"y+name\",\"line\":{\"color\":\"rgb(254,87,111)\",\"width\":10},\"mode\":\"lines\",\"name\":\"sailing empty:barge_2\",\"x\":[\"1970-01-01T00:38:52\",\"1970-01-01T00:38:52\",\"1970-01-01T01:17:44\",\"1970-01-01T01:17:44\",\"1970-01-01T01:17:44\",\"1970-01-01T04:27:28\",\"1970-01-01T04:27:28\",\"1970-01-01T05:06:20\",\"1970-01-01T05:06:20\",\"1970-01-01T05:06:20\",\"1970-01-01T07:44:36\",\"1970-01-01T07:44:36\",\"1970-01-01T08:23:28\",\"1970-01-01T08:23:28\",\"1970-01-01T08:23:28\",\"1970-01-01T11:01:44\",\"1970-01-01T11:01:44\",\"1970-01-01T11:40:36\",\"1970-01-01T11:40:36\",\"1970-01-01T11:40:36\",\"1970-01-01T14:18:52\",\"1970-01-01T14:18:52\",\"1970-01-01T14:57:44\",\"1970-01-01T14:57:44\",\"1970-01-01T14:57:44\",\"1970-01-01T17:36:08\",\"1970-01-01T17:36:08\",\"1970-01-01T18:15:00\",\"1970-01-01T18:15:00\",\"1970-01-01T18:15:00\",\"1970-01-01T21:20:08\",\"1970-01-01T21:20:08\",\"1970-01-01T21:59:00\",\"1970-01-01T21:59:00\",\"1970-01-01T21:59:00\"],\"y\":[\"barge_2\",\"barge_2\",\"barge_2\",\"barge_2\",null,\"barge_2\",\"barge_2\",\"barge_2\",\"barge_2\",null,\"barge_2\",\"barge_2\",\"barge_2\",\"barge_2\",null,\"barge_2\",\"barge_2\",\"barge_2\",\"barge_2\",null,\"barge_2\",\"barge_2\",\"barge_2\",\"barge_2\",null,\"barge_2\",\"barge_2\",\"barge_2\",\"barge_2\",null,\"barge_2\",\"barge_2\",\"barge_2\",\"barge_2\",null],\"type\":\"scatter\"},{\"connectgaps\":false,\"hoverinfo\":\"y+name\",\"line\":{\"color\":\"rgb(12,101,125)\",\"width\":10},\"mode\":\"lines\",\"name\":\"unloading:barge_2\",\"x\":[\"1970-01-01T03:09:44\",\"1970-01-01T03:09:44\",\"1970-01-01T03:48:36\",\"1970-01-01T03:48:36\",\"1970-01-01T03:48:36\",\"1970-01-01T06:26:52\",\"1970-01-01T06:26:52\",\"1970-01-01T07:05:44\",\"1970-01-01T07:05:44\",\"1970-01-01T07:05:44\",\"1970-01-01T09:44:00\",\"1970-01-01T09:44:00\",\"1970-01-01T10:22:52\",\"1970-01-01T10:22:52\",\"1970-01-01T10:22:52\",\"1970-01-01T13:01:08\",\"1970-01-01T13:01:08\",\"1970-01-01T13:40:00\",\"1970-01-01T13:40:00\",\"1970-01-01T13:40:00\",\"1970-01-01T16:18:24\",\"1970-01-01T16:18:24\",\"1970-01-01T16:57:16\",\"1970-01-01T16:57:16\",\"1970-01-01T16:57:16\",\"1970-01-01T20:02:24\",\"1970-01-01T20:02:24\",\"1970-01-01T20:41:16\",\"1970-01-01T20:41:16\",\"1970-01-01T20:41:16\",\"1970-01-01T23:46:24\",\"1970-01-01T23:46:24\",\"1970-01-02T00:25:16\",\"1970-01-02T00:25:16\",\"1970-01-02T00:25:16\"],\"y\":[\"barge_2\",\"barge_2\",\"barge_2\",\"barge_2\",null,\"barge_2\",\"barge_2\",\"barge_2\",\"barge_2\",null,\"barge_2\",\"barge_2\",\"barge_2\",\"barge_2\",null,\"barge_2\",\"barge_2\",\"barge_2\",\"barge_2\",null,\"barge_2\",\"barge_2\",\"barge_2\",\"barge_2\",null,\"barge_2\",\"barge_2\",\"barge_2\",\"barge_2\",null,\"barge_2\",\"barge_2\",\"barge_2\",\"barge_2\",null],\"type\":\"scatter\"},{\"connectgaps\":false,\"hoverinfo\":\"y+name\",\"line\":{\"color\":\"rgb(26,115,139)\",\"width\":10},\"mode\":\"lines\",\"name\":\"basic activity:barge_2\",\"x\":[\"1970-01-01T00:00:00\",\"1970-01-01T00:00:00\",\"1970-01-01T00:38:52\",\"1970-01-01T00:38:52\",\"1970-01-01T00:38:52\",\"1970-01-01T03:48:36\",\"1970-01-01T03:48:36\",\"1970-01-01T04:27:28\",\"1970-01-01T04:27:28\",\"1970-01-01T04:27:28\",\"1970-01-01T07:05:44\",\"1970-01-01T07:05:44\",\"1970-01-01T07:44:36\",\"1970-01-01T07:44:36\",\"1970-01-01T07:44:36\",\"1970-01-01T10:22:52\",\"1970-01-01T10:22:52\",\"1970-01-01T11:01:44\",\"1970-01-01T11:01:44\",\"1970-01-01T11:01:44\",\"1970-01-01T13:40:00\",\"1970-01-01T13:40:00\",\"1970-01-01T14:18:52\",\"1970-01-01T14:18:52\",\"1970-01-01T14:18:52\",\"1970-01-01T16:57:16\",\"1970-01-01T16:57:16\",\"1970-01-01T17:36:08\",\"1970-01-01T17:36:08\",\"1970-01-01T17:36:08\",\"1970-01-01T20:41:16\",\"1970-01-01T20:41:16\",\"1970-01-01T21:20:08\",\"1970-01-01T21:20:08\",\"1970-01-01T21:20:08\"],\"y\":[\"barge_2\",\"barge_2\",\"barge_2\",\"barge_2\",null,\"barge_2\",\"barge_2\",\"barge_2\",\"barge_2\",null,\"barge_2\",\"barge_2\",\"barge_2\",\"barge_2\",null,\"barge_2\",\"barge_2\",\"barge_2\",\"barge_2\",null,\"barge_2\",\"barge_2\",\"barge_2\",\"barge_2\",null,\"barge_2\",\"barge_2\",\"barge_2\",\"barge_2\",null,\"barge_2\",\"barge_2\",\"barge_2\",\"barge_2\",null],\"type\":\"scatter\"},{\"connectgaps\":false,\"hoverinfo\":\"y+name\",\"line\":{\"color\":\"rgb(40,129,153)\",\"width\":10},\"mode\":\"lines\",\"name\":\"loading:barge_2\",\"x\":[\"1970-01-01T01:49:12\",\"1970-01-01T01:49:12\",\"1970-01-01T02:30:52\",\"1970-01-01T02:30:52\",\"1970-01-01T02:30:52\",\"1970-01-01T05:06:20\",\"1970-01-01T05:06:20\",\"1970-01-01T05:48:00\",\"1970-01-01T05:48:00\",\"1970-01-01T05:48:00\",\"1970-01-01T08:23:28\",\"1970-01-01T08:23:28\",\"1970-01-01T09:05:08\",\"1970-01-01T09:05:08\",\"1970-01-01T09:05:08\",\"1970-01-01T11:40:36\",\"1970-01-01T11:40:36\",\"1970-01-01T12:22:16\",\"1970-01-01T12:22:16\",\"1970-01-01T12:22:16\",\"1970-01-01T14:57:52\",\"1970-01-01T14:57:52\",\"1970-01-01T15:39:32\",\"1970-01-01T15:39:32\",\"1970-01-01T15:39:32\",\"1970-01-01T18:41:52\",\"1970-01-01T18:41:52\",\"1970-01-01T19:23:32\",\"1970-01-01T19:23:32\",\"1970-01-01T19:23:32\",\"1970-01-01T22:25:52\",\"1970-01-01T22:25:52\",\"1970-01-01T23:07:32\",\"1970-01-01T23:07:32\",\"1970-01-01T23:07:32\",\"1970-01-01T01:49:12\",\"1970-01-01T01:49:12\",\"1970-01-01T02:30:52\",\"1970-01-01T02:30:52\",\"1970-01-01T02:30:52\",\"1970-01-01T05:06:20\",\"1970-01-01T05:06:20\",\"1970-01-01T05:48:00\",\"1970-01-01T05:48:00\",\"1970-01-01T05:48:00\",\"1970-01-01T08:23:28\",\"1970-01-01T08:23:28\",\"1970-01-01T09:05:08\",\"1970-01-01T09:05:08\",\"1970-01-01T09:05:08\",\"1970-01-01T11:40:36\",\"1970-01-01T11:40:36\",\"1970-01-01T12:22:16\",\"1970-01-01T12:22:16\",\"1970-01-01T12:22:16\",\"1970-01-01T14:57:52\",\"1970-01-01T14:57:52\",\"1970-01-01T15:39:32\",\"1970-01-01T15:39:32\",\"1970-01-01T15:39:32\",\"1970-01-01T18:41:52\",\"1970-01-01T18:41:52\",\"1970-01-01T19:23:32\",\"1970-01-01T19:23:32\",\"1970-01-01T19:23:32\",\"1970-01-01T22:25:52\",\"1970-01-01T22:25:52\",\"1970-01-01T23:07:32\",\"1970-01-01T23:07:32\",\"1970-01-01T23:07:32\"],\"y\":[\"barge_2\",\"barge_2\",\"barge_2\",\"barge_2\",null,\"barge_2\",\"barge_2\",\"barge_2\",\"barge_2\",null,\"barge_2\",\"barge_2\",\"barge_2\",\"barge_2\",null,\"barge_2\",\"barge_2\",\"barge_2\",\"barge_2\",null,\"barge_2\",\"barge_2\",\"barge_2\",\"barge_2\",null,\"barge_2\",\"barge_2\",\"barge_2\",\"barge_2\",null,\"barge_2\",\"barge_2\",\"barge_2\",\"barge_2\",null,\"cutter\",\"cutter\",\"cutter\",\"cutter\",null,\"cutter\",\"cutter\",\"cutter\",\"cutter\",null,\"cutter\",\"cutter\",\"cutter\",\"cutter\",null,\"cutter\",\"cutter\",\"cutter\",\"cutter\",null,\"cutter\",\"cutter\",\"cutter\",\"cutter\",null,\"cutter\",\"cutter\",\"cutter\",\"cutter\",null,\"cutter\",\"cutter\",\"cutter\",\"cutter\",null],\"type\":\"scatter\"},{\"connectgaps\":false,\"hoverinfo\":\"y+name\",\"line\":{\"color\":\"rgb(54,143,167)\",\"width\":10},\"mode\":\"lines\",\"name\":\"loading:barge_1\",\"x\":[\"1970-01-01T01:15:52\",\"1970-01-01T01:15:52\",\"1970-01-01T01:49:12\",\"1970-01-01T01:49:12\",\"1970-01-01T01:49:12\",\"1970-01-01T04:20:56\",\"1970-01-01T04:20:56\",\"1970-01-01T04:54:16\",\"1970-01-01T04:54:16\",\"1970-01-01T04:54:16\",\"1970-01-01T07:26:00\",\"1970-01-01T07:26:00\",\"1970-01-01T07:59:20\",\"1970-01-01T07:59:20\",\"1970-01-01T07:59:20\",\"1970-01-01T10:40:32\",\"1970-01-01T10:40:32\",\"1970-01-01T11:13:52\",\"1970-01-01T11:13:52\",\"1970-01-01T11:13:52\",\"1970-01-01T14:24:32\",\"1970-01-01T14:24:32\",\"1970-01-01T14:57:52\",\"1970-01-01T14:57:52\",\"1970-01-01T14:57:52\",\"1970-01-01T18:08:32\",\"1970-01-01T18:08:32\",\"1970-01-01T18:41:52\",\"1970-01-01T18:41:52\",\"1970-01-01T18:41:52\",\"1970-01-01T21:52:32\",\"1970-01-01T21:52:32\",\"1970-01-01T22:25:52\",\"1970-01-01T22:25:52\",\"1970-01-01T22:25:52\",\"1970-01-02T01:36:32\",\"1970-01-02T01:36:32\",\"1970-01-02T02:09:52\",\"1970-01-02T02:09:52\",\"1970-01-02T02:09:52\",\"1970-01-01T01:15:52\",\"1970-01-01T01:15:52\",\"1970-01-01T01:49:12\",\"1970-01-01T01:49:12\",\"1970-01-01T01:49:12\",\"1970-01-01T04:20:56\",\"1970-01-01T04:20:56\",\"1970-01-01T04:54:16\",\"1970-01-01T04:54:16\",\"1970-01-01T04:54:16\",\"1970-01-01T07:26:00\",\"1970-01-01T07:26:00\",\"1970-01-01T07:59:20\",\"1970-01-01T07:59:20\",\"1970-01-01T07:59:20\",\"1970-01-01T10:40:32\",\"1970-01-01T10:40:32\",\"1970-01-01T11:13:52\",\"1970-01-01T11:13:52\",\"1970-01-01T11:13:52\",\"1970-01-01T14:24:32\",\"1970-01-01T14:24:32\",\"1970-01-01T14:57:52\",\"1970-01-01T14:57:52\",\"1970-01-01T14:57:52\",\"1970-01-01T18:08:32\",\"1970-01-01T18:08:32\",\"1970-01-01T18:41:52\",\"1970-01-01T18:41:52\",\"1970-01-01T18:41:52\",\"1970-01-01T21:52:32\",\"1970-01-01T21:52:32\",\"1970-01-01T22:25:52\",\"1970-01-01T22:25:52\",\"1970-01-01T22:25:52\",\"1970-01-02T01:36:32\",\"1970-01-02T01:36:32\",\"1970-01-02T02:09:52\",\"1970-01-02T02:09:52\",\"1970-01-02T02:09:52\"],\"y\":[\"barge_1\",\"barge_1\",\"barge_1\",\"barge_1\",null,\"barge_1\",\"barge_1\",\"barge_1\",\"barge_1\",null,\"barge_1\",\"barge_1\",\"barge_1\",\"barge_1\",null,\"barge_1\",\"barge_1\",\"barge_1\",\"barge_1\",null,\"barge_1\",\"barge_1\",\"barge_1\",\"barge_1\",null,\"barge_1\",\"barge_1\",\"barge_1\",\"barge_1\",null,\"barge_1\",\"barge_1\",\"barge_1\",\"barge_1\",null,\"barge_1\",\"barge_1\",\"barge_1\",\"barge_1\",null,\"cutter\",\"cutter\",\"cutter\",\"cutter\",null,\"cutter\",\"cutter\",\"cutter\",\"cutter\",null,\"cutter\",\"cutter\",\"cutter\",\"cutter\",null,\"cutter\",\"cutter\",\"cutter\",\"cutter\",null,\"cutter\",\"cutter\",\"cutter\",\"cutter\",null,\"cutter\",\"cutter\",\"cutter\",\"cutter\",null,\"cutter\",\"cutter\",\"cutter\",\"cutter\",null,\"cutter\",\"cutter\",\"cutter\",\"cutter\",null],\"type\":\"scatter\"},{\"connectgaps\":false,\"hoverinfo\":\"y+name\",\"line\":{\"color\":\"rgb(68,157,181)\",\"width\":10},\"mode\":\"lines\",\"name\":\"loading:barge_0\",\"x\":[\"1970-01-01T02:30:52\",\"1970-01-01T02:30:52\",\"1970-01-01T03:12:32\",\"1970-01-01T03:12:32\",\"1970-01-01T03:12:32\",\"1970-01-01T06:14:52\",\"1970-01-01T06:14:52\",\"1970-01-01T06:56:32\",\"1970-01-01T06:56:32\",\"1970-01-01T06:56:32\",\"1970-01-01T09:58:52\",\"1970-01-01T09:58:52\",\"1970-01-01T10:40:32\",\"1970-01-01T10:40:32\",\"1970-01-01T10:40:32\",\"1970-01-01T13:42:52\",\"1970-01-01T13:42:52\",\"1970-01-01T14:24:32\",\"1970-01-01T14:24:32\",\"1970-01-01T14:24:32\",\"1970-01-01T17:26:52\",\"1970-01-01T17:26:52\",\"1970-01-01T18:08:32\",\"1970-01-01T18:08:32\",\"1970-01-01T18:08:32\",\"1970-01-01T21:10:52\",\"1970-01-01T21:10:52\",\"1970-01-01T21:52:32\",\"1970-01-01T21:52:32\",\"1970-01-01T21:52:32\",\"1970-01-02T00:54:52\",\"1970-01-02T00:54:52\",\"1970-01-02T01:36:32\",\"1970-01-02T01:36:32\",\"1970-01-02T01:36:32\",\"1970-01-01T02:30:52\",\"1970-01-01T02:30:52\",\"1970-01-01T03:12:32\",\"1970-01-01T03:12:32\",\"1970-01-01T03:12:32\",\"1970-01-01T06:14:52\",\"1970-01-01T06:14:52\",\"1970-01-01T06:56:32\",\"1970-01-01T06:56:32\",\"1970-01-01T06:56:32\",\"1970-01-01T09:58:52\",\"1970-01-01T09:58:52\",\"1970-01-01T10:40:32\",\"1970-01-01T10:40:32\",\"1970-01-01T10:40:32\",\"1970-01-01T13:42:52\",\"1970-01-01T13:42:52\",\"1970-01-01T14:24:32\",\"1970-01-01T14:24:32\",\"1970-01-01T14:24:32\",\"1970-01-01T17:26:52\",\"1970-01-01T17:26:52\",\"1970-01-01T18:08:32\",\"1970-01-01T18:08:32\",\"1970-01-01T18:08:32\",\"1970-01-01T21:10:52\",\"1970-01-01T21:10:52\",\"1970-01-01T21:52:32\",\"1970-01-01T21:52:32\",\"1970-01-01T21:52:32\",\"1970-01-02T00:54:52\",\"1970-01-02T00:54:52\",\"1970-01-02T01:36:32\",\"1970-01-02T01:36:32\",\"1970-01-02T01:36:32\"],\"y\":[\"barge_0\",\"barge_0\",\"barge_0\",\"barge_0\",null,\"barge_0\",\"barge_0\",\"barge_0\",\"barge_0\",null,\"barge_0\",\"barge_0\",\"barge_0\",\"barge_0\",null,\"barge_0\",\"barge_0\",\"barge_0\",\"barge_0\",null,\"barge_0\",\"barge_0\",\"barge_0\",\"barge_0\",null,\"barge_0\",\"barge_0\",\"barge_0\",\"barge_0\",null,\"barge_0\",\"barge_0\",\"barge_0\",\"barge_0\",null,\"cutter\",\"cutter\",\"cutter\",\"cutter\",null,\"cutter\",\"cutter\",\"cutter\",\"cutter\",null,\"cutter\",\"cutter\",\"cutter\",\"cutter\",null,\"cutter\",\"cutter\",\"cutter\",\"cutter\",null,\"cutter\",\"cutter\",\"cutter\",\"cutter\",null,\"cutter\",\"cutter\",\"cutter\",\"cutter\",null,\"cutter\",\"cutter\",\"cutter\",\"cutter\",null],\"type\":\"scatter\"}],                        {\"hovermode\":\"closest\",\"legend\":{\"orientation\":\"h\",\"x\":0,\"y\":-0.2},\"template\":{\"data\":{\"barpolar\":[{\"marker\":{\"line\":{\"color\":\"#E5ECF6\",\"width\":0.5},\"pattern\":{\"fillmode\":\"overlay\",\"size\":10,\"solidity\":0.2}},\"type\":\"barpolar\"}],\"bar\":[{\"error_x\":{\"color\":\"#2a3f5f\"},\"error_y\":{\"color\":\"#2a3f5f\"},\"marker\":{\"line\":{\"color\":\"#E5ECF6\",\"width\":0.5},\"pattern\":{\"fillmode\":\"overlay\",\"size\":10,\"solidity\":0.2}},\"type\":\"bar\"}],\"carpet\":[{\"aaxis\":{\"endlinecolor\":\"#2a3f5f\",\"gridcolor\":\"white\",\"linecolor\":\"white\",\"minorgridcolor\":\"white\",\"startlinecolor\":\"#2a3f5f\"},\"baxis\":{\"endlinecolor\":\"#2a3f5f\",\"gridcolor\":\"white\",\"linecolor\":\"white\",\"minorgridcolor\":\"white\",\"startlinecolor\":\"#2a3f5f\"},\"type\":\"carpet\"}],\"choropleth\":[{\"colorbar\":{\"outlinewidth\":0,\"ticks\":\"\"},\"type\":\"choropleth\"}],\"contourcarpet\":[{\"colorbar\":{\"outlinewidth\":0,\"ticks\":\"\"},\"type\":\"contourcarpet\"}],\"contour\":[{\"colorbar\":{\"outlinewidth\":0,\"ticks\":\"\"},\"colorscale\":[[0.0,\"#0d0887\"],[0.1111111111111111,\"#46039f\"],[0.2222222222222222,\"#7201a8\"],[0.3333333333333333,\"#9c179e\"],[0.4444444444444444,\"#bd3786\"],[0.5555555555555556,\"#d8576b\"],[0.6666666666666666,\"#ed7953\"],[0.7777777777777778,\"#fb9f3a\"],[0.8888888888888888,\"#fdca26\"],[1.0,\"#f0f921\"]],\"type\":\"contour\"}],\"heatmapgl\":[{\"colorbar\":{\"outlinewidth\":0,\"ticks\":\"\"},\"colorscale\":[[0.0,\"#0d0887\"],[0.1111111111111111,\"#46039f\"],[0.2222222222222222,\"#7201a8\"],[0.3333333333333333,\"#9c179e\"],[0.4444444444444444,\"#bd3786\"],[0.5555555555555556,\"#d8576b\"],[0.6666666666666666,\"#ed7953\"],[0.7777777777777778,\"#fb9f3a\"],[0.8888888888888888,\"#fdca26\"],[1.0,\"#f0f921\"]],\"type\":\"heatmapgl\"}],\"heatmap\":[{\"colorbar\":{\"outlinewidth\":0,\"ticks\":\"\"},\"colorscale\":[[0.0,\"#0d0887\"],[0.1111111111111111,\"#46039f\"],[0.2222222222222222,\"#7201a8\"],[0.3333333333333333,\"#9c179e\"],[0.4444444444444444,\"#bd3786\"],[0.5555555555555556,\"#d8576b\"],[0.6666666666666666,\"#ed7953\"],[0.7777777777777778,\"#fb9f3a\"],[0.8888888888888888,\"#fdca26\"],[1.0,\"#f0f921\"]],\"type\":\"heatmap\"}],\"histogram2dcontour\":[{\"colorbar\":{\"outlinewidth\":0,\"ticks\":\"\"},\"colorscale\":[[0.0,\"#0d0887\"],[0.1111111111111111,\"#46039f\"],[0.2222222222222222,\"#7201a8\"],[0.3333333333333333,\"#9c179e\"],[0.4444444444444444,\"#bd3786\"],[0.5555555555555556,\"#d8576b\"],[0.6666666666666666,\"#ed7953\"],[0.7777777777777778,\"#fb9f3a\"],[0.8888888888888888,\"#fdca26\"],[1.0,\"#f0f921\"]],\"type\":\"histogram2dcontour\"}],\"histogram2d\":[{\"colorbar\":{\"outlinewidth\":0,\"ticks\":\"\"},\"colorscale\":[[0.0,\"#0d0887\"],[0.1111111111111111,\"#46039f\"],[0.2222222222222222,\"#7201a8\"],[0.3333333333333333,\"#9c179e\"],[0.4444444444444444,\"#bd3786\"],[0.5555555555555556,\"#d8576b\"],[0.6666666666666666,\"#ed7953\"],[0.7777777777777778,\"#fb9f3a\"],[0.8888888888888888,\"#fdca26\"],[1.0,\"#f0f921\"]],\"type\":\"histogram2d\"}],\"histogram\":[{\"marker\":{\"pattern\":{\"fillmode\":\"overlay\",\"size\":10,\"solidity\":0.2}},\"type\":\"histogram\"}],\"mesh3d\":[{\"colorbar\":{\"outlinewidth\":0,\"ticks\":\"\"},\"type\":\"mesh3d\"}],\"parcoords\":[{\"line\":{\"colorbar\":{\"outlinewidth\":0,\"ticks\":\"\"}},\"type\":\"parcoords\"}],\"pie\":[{\"automargin\":true,\"type\":\"pie\"}],\"scatter3d\":[{\"line\":{\"colorbar\":{\"outlinewidth\":0,\"ticks\":\"\"}},\"marker\":{\"colorbar\":{\"outlinewidth\":0,\"ticks\":\"\"}},\"type\":\"scatter3d\"}],\"scattercarpet\":[{\"marker\":{\"colorbar\":{\"outlinewidth\":0,\"ticks\":\"\"}},\"type\":\"scattercarpet\"}],\"scattergeo\":[{\"marker\":{\"colorbar\":{\"outlinewidth\":0,\"ticks\":\"\"}},\"type\":\"scattergeo\"}],\"scattergl\":[{\"marker\":{\"colorbar\":{\"outlinewidth\":0,\"ticks\":\"\"}},\"type\":\"scattergl\"}],\"scattermapbox\":[{\"marker\":{\"colorbar\":{\"outlinewidth\":0,\"ticks\":\"\"}},\"type\":\"scattermapbox\"}],\"scatterpolargl\":[{\"marker\":{\"colorbar\":{\"outlinewidth\":0,\"ticks\":\"\"}},\"type\":\"scatterpolargl\"}],\"scatterpolar\":[{\"marker\":{\"colorbar\":{\"outlinewidth\":0,\"ticks\":\"\"}},\"type\":\"scatterpolar\"}],\"scatter\":[{\"marker\":{\"colorbar\":{\"outlinewidth\":0,\"ticks\":\"\"}},\"type\":\"scatter\"}],\"scatterternary\":[{\"marker\":{\"colorbar\":{\"outlinewidth\":0,\"ticks\":\"\"}},\"type\":\"scatterternary\"}],\"surface\":[{\"colorbar\":{\"outlinewidth\":0,\"ticks\":\"\"},\"colorscale\":[[0.0,\"#0d0887\"],[0.1111111111111111,\"#46039f\"],[0.2222222222222222,\"#7201a8\"],[0.3333333333333333,\"#9c179e\"],[0.4444444444444444,\"#bd3786\"],[0.5555555555555556,\"#d8576b\"],[0.6666666666666666,\"#ed7953\"],[0.7777777777777778,\"#fb9f3a\"],[0.8888888888888888,\"#fdca26\"],[1.0,\"#f0f921\"]],\"type\":\"surface\"}],\"table\":[{\"cells\":{\"fill\":{\"color\":\"#EBF0F8\"},\"line\":{\"color\":\"white\"}},\"header\":{\"fill\":{\"color\":\"#C8D4E3\"},\"line\":{\"color\":\"white\"}},\"type\":\"table\"}]},\"layout\":{\"annotationdefaults\":{\"arrowcolor\":\"#2a3f5f\",\"arrowhead\":0,\"arrowwidth\":1},\"autotypenumbers\":\"strict\",\"coloraxis\":{\"colorbar\":{\"outlinewidth\":0,\"ticks\":\"\"}},\"colorscale\":{\"diverging\":[[0,\"#8e0152\"],[0.1,\"#c51b7d\"],[0.2,\"#de77ae\"],[0.3,\"#f1b6da\"],[0.4,\"#fde0ef\"],[0.5,\"#f7f7f7\"],[0.6,\"#e6f5d0\"],[0.7,\"#b8e186\"],[0.8,\"#7fbc41\"],[0.9,\"#4d9221\"],[1,\"#276419\"]],\"sequential\":[[0.0,\"#0d0887\"],[0.1111111111111111,\"#46039f\"],[0.2222222222222222,\"#7201a8\"],[0.3333333333333333,\"#9c179e\"],[0.4444444444444444,\"#bd3786\"],[0.5555555555555556,\"#d8576b\"],[0.6666666666666666,\"#ed7953\"],[0.7777777777777778,\"#fb9f3a\"],[0.8888888888888888,\"#fdca26\"],[1.0,\"#f0f921\"]],\"sequentialminus\":[[0.0,\"#0d0887\"],[0.1111111111111111,\"#46039f\"],[0.2222222222222222,\"#7201a8\"],[0.3333333333333333,\"#9c179e\"],[0.4444444444444444,\"#bd3786\"],[0.5555555555555556,\"#d8576b\"],[0.6666666666666666,\"#ed7953\"],[0.7777777777777778,\"#fb9f3a\"],[0.8888888888888888,\"#fdca26\"],[1.0,\"#f0f921\"]]},\"colorway\":[\"#636efa\",\"#EF553B\",\"#00cc96\",\"#ab63fa\",\"#FFA15A\",\"#19d3f3\",\"#FF6692\",\"#B6E880\",\"#FF97FF\",\"#FECB52\"],\"font\":{\"color\":\"#2a3f5f\"},\"geo\":{\"bgcolor\":\"white\",\"lakecolor\":\"white\",\"landcolor\":\"#E5ECF6\",\"showlakes\":true,\"showland\":true,\"subunitcolor\":\"white\"},\"hoverlabel\":{\"align\":\"left\"},\"hovermode\":\"closest\",\"mapbox\":{\"style\":\"light\"},\"paper_bgcolor\":\"white\",\"plot_bgcolor\":\"#E5ECF6\",\"polar\":{\"angularaxis\":{\"gridcolor\":\"white\",\"linecolor\":\"white\",\"ticks\":\"\"},\"bgcolor\":\"#E5ECF6\",\"radialaxis\":{\"gridcolor\":\"white\",\"linecolor\":\"white\",\"ticks\":\"\"}},\"scene\":{\"xaxis\":{\"backgroundcolor\":\"#E5ECF6\",\"gridcolor\":\"white\",\"gridwidth\":2,\"linecolor\":\"white\",\"showbackground\":true,\"ticks\":\"\",\"zerolinecolor\":\"white\"},\"yaxis\":{\"backgroundcolor\":\"#E5ECF6\",\"gridcolor\":\"white\",\"gridwidth\":2,\"linecolor\":\"white\",\"showbackground\":true,\"ticks\":\"\",\"zerolinecolor\":\"white\"},\"zaxis\":{\"backgroundcolor\":\"#E5ECF6\",\"gridcolor\":\"white\",\"gridwidth\":2,\"linecolor\":\"white\",\"showbackground\":true,\"ticks\":\"\",\"zerolinecolor\":\"white\"}},\"shapedefaults\":{\"line\":{\"color\":\"#2a3f5f\"}},\"ternary\":{\"aaxis\":{\"gridcolor\":\"white\",\"linecolor\":\"white\",\"ticks\":\"\"},\"baxis\":{\"gridcolor\":\"white\",\"linecolor\":\"white\",\"ticks\":\"\"},\"bgcolor\":\"#E5ECF6\",\"caxis\":{\"gridcolor\":\"white\",\"linecolor\":\"white\",\"ticks\":\"\"}},\"title\":{\"x\":0.05},\"xaxis\":{\"automargin\":true,\"gridcolor\":\"white\",\"linecolor\":\"white\",\"ticks\":\"\",\"title\":{\"standoff\":15},\"zerolinecolor\":\"white\",\"zerolinewidth\":2},\"yaxis\":{\"automargin\":true,\"gridcolor\":\"white\",\"linecolor\":\"white\",\"ticks\":\"\",\"title\":{\"standoff\":15},\"zerolinecolor\":\"white\",\"zerolinewidth\":2}}},\"title\":{\"text\":\"GANTT Chart\"},\"xaxis\":{\"range\":[\"1970-01-01T00:00:00\",\"1970-01-02T03:25:44\"],\"title\":{\"font\":{\"color\":\"#7f7f7f\",\"family\":\"Courier New, monospace\",\"size\":18},\"text\":\"Time\"}},\"yaxis\":{\"title\":{\"font\":{\"color\":\"#7f7f7f\",\"family\":\"Courier New, monospace\",\"size\":18},\"text\":\"Activities\"}}},                        {\"responsive\": true}                    ).then(function(){\n",
       "                            \n",
       "var gd = document.getElementById('bdfccfe2-f1fa-4f5b-8b64-ff7738687a8a');\n",
       "var x = new MutationObserver(function (mutations, observer) {{\n",
       "        var display = window.getComputedStyle(gd).display;\n",
       "        if (!display || display === 'none') {{\n",
       "            console.log([gd, 'removed!']);\n",
       "            Plotly.purge(gd);\n",
       "            observer.disconnect();\n",
       "        }}\n",
       "}});\n",
       "\n",
       "// Listen for the removal of the full notebook cells\n",
       "var notebookContainer = gd.closest('#notebook-container');\n",
       "if (notebookContainer) {{\n",
       "    x.observe(notebookContainer, {childList: true});\n",
       "}}\n",
       "\n",
       "// Listen for the clearing of the current output cell\n",
       "var outputEl = gd.closest('.output');\n",
       "if (outputEl) {{\n",
       "    x.observe(outputEl, {childList: true});\n",
       "}}\n",
       "\n",
       "                        })                };                });            </script>        </div>"
      ]
     },
     "metadata": {},
     "output_type": "display_data"
    }
   ],
   "source": [
    "fig = plot.get_gantt_chart([*vessels.values()], id_map=[activities[x] for x in activities])"
   ]
  },
  {
   "cell_type": "code",
   "execution_count": 6,
   "metadata": {},
   "outputs": [
    {
     "data": {
      "text/html": [
       "        <script type=\"text/javascript\">\n",
       "        window.PlotlyConfig = {MathJaxConfig: 'local'};\n",
       "        if (window.MathJax) {MathJax.Hub.Config({SVG: {font: \"STIX-Web\"}});}\n",
       "        if (typeof require !== 'undefined') {\n",
       "        require.undef(\"plotly\");\n",
       "        requirejs.config({\n",
       "            paths: {\n",
       "                'plotly': ['https://cdn.plot.ly/plotly-2.8.3.min']\n",
       "            }\n",
       "        });\n",
       "        require(['plotly'], function(Plotly) {\n",
       "            window._Plotly = Plotly;\n",
       "        });\n",
       "        }\n",
       "        </script>\n",
       "        "
      ]
     },
     "metadata": {},
     "output_type": "display_data"
    },
    {
     "data": {
      "application/vnd.plotly.v1+json": {
       "config": {
        "linkText": "Export to plot.ly",
        "plotlyServerURL": "https://plot.ly",
        "showLink": false
       },
       "data": [
        {
         "connectgaps": false,
         "hoverinfo": "y+name",
         "line": {
          "color": "rgb(12,219,23)",
          "width": 10
         },
         "mode": "lines",
         "name": "loading:barge_2",
         "type": "scatter",
         "x": [
          "1970-01-01T01:49:12",
          "1970-01-01T01:49:12",
          "1970-01-01T02:30:52",
          "1970-01-01T02:30:52",
          "1970-01-01T02:30:52",
          "1970-01-01T05:06:20",
          "1970-01-01T05:06:20",
          "1970-01-01T05:48:00",
          "1970-01-01T05:48:00",
          "1970-01-01T05:48:00",
          "1970-01-01T08:23:28",
          "1970-01-01T08:23:28",
          "1970-01-01T09:05:08",
          "1970-01-01T09:05:08",
          "1970-01-01T09:05:08",
          "1970-01-01T11:40:36",
          "1970-01-01T11:40:36",
          "1970-01-01T12:22:16",
          "1970-01-01T12:22:16",
          "1970-01-01T12:22:16",
          "1970-01-01T14:57:52",
          "1970-01-01T14:57:52",
          "1970-01-01T15:39:32",
          "1970-01-01T15:39:32",
          "1970-01-01T15:39:32",
          "1970-01-01T18:41:52",
          "1970-01-01T18:41:52",
          "1970-01-01T19:23:32",
          "1970-01-01T19:23:32",
          "1970-01-01T19:23:32",
          "1970-01-01T22:25:52",
          "1970-01-01T22:25:52",
          "1970-01-01T23:07:32",
          "1970-01-01T23:07:32",
          "1970-01-01T23:07:32",
          "1970-01-01T01:49:12",
          "1970-01-01T01:49:12",
          "1970-01-01T02:30:52",
          "1970-01-01T02:30:52",
          "1970-01-01T02:30:52",
          "1970-01-01T05:06:20",
          "1970-01-01T05:06:20",
          "1970-01-01T05:48:00",
          "1970-01-01T05:48:00",
          "1970-01-01T05:48:00",
          "1970-01-01T08:23:28",
          "1970-01-01T08:23:28",
          "1970-01-01T09:05:08",
          "1970-01-01T09:05:08",
          "1970-01-01T09:05:08",
          "1970-01-01T11:40:36",
          "1970-01-01T11:40:36",
          "1970-01-01T12:22:16",
          "1970-01-01T12:22:16",
          "1970-01-01T12:22:16",
          "1970-01-01T14:57:52",
          "1970-01-01T14:57:52",
          "1970-01-01T15:39:32",
          "1970-01-01T15:39:32",
          "1970-01-01T15:39:32",
          "1970-01-01T18:41:52",
          "1970-01-01T18:41:52",
          "1970-01-01T19:23:32",
          "1970-01-01T19:23:32",
          "1970-01-01T19:23:32",
          "1970-01-01T22:25:52",
          "1970-01-01T22:25:52",
          "1970-01-01T23:07:32",
          "1970-01-01T23:07:32",
          "1970-01-01T23:07:32"
         ],
         "y": [
          "from_site",
          "from_site",
          "from_site",
          "from_site",
          null,
          "from_site",
          "from_site",
          "from_site",
          "from_site",
          null,
          "from_site",
          "from_site",
          "from_site",
          "from_site",
          null,
          "from_site",
          "from_site",
          "from_site",
          "from_site",
          null,
          "from_site",
          "from_site",
          "from_site",
          "from_site",
          null,
          "from_site",
          "from_site",
          "from_site",
          "from_site",
          null,
          "from_site",
          "from_site",
          "from_site",
          "from_site",
          null,
          "cutter",
          "cutter",
          "cutter",
          "cutter",
          null,
          "cutter",
          "cutter",
          "cutter",
          "cutter",
          null,
          "cutter",
          "cutter",
          "cutter",
          "cutter",
          null,
          "cutter",
          "cutter",
          "cutter",
          "cutter",
          null,
          "cutter",
          "cutter",
          "cutter",
          "cutter",
          null,
          "cutter",
          "cutter",
          "cutter",
          "cutter",
          null,
          "cutter",
          "cutter",
          "cutter",
          "cutter",
          null
         ]
        },
        {
         "connectgaps": false,
         "hoverinfo": "y+name",
         "line": {
          "color": "rgb(40,247,51)",
          "width": 10
         },
         "mode": "lines",
         "name": "loading:barge_1",
         "type": "scatter",
         "x": [
          "1970-01-01T01:15:52",
          "1970-01-01T01:15:52",
          "1970-01-01T01:49:12",
          "1970-01-01T01:49:12",
          "1970-01-01T01:49:12",
          "1970-01-01T04:20:56",
          "1970-01-01T04:20:56",
          "1970-01-01T04:54:16",
          "1970-01-01T04:54:16",
          "1970-01-01T04:54:16",
          "1970-01-01T07:26:00",
          "1970-01-01T07:26:00",
          "1970-01-01T07:59:20",
          "1970-01-01T07:59:20",
          "1970-01-01T07:59:20",
          "1970-01-01T10:40:32",
          "1970-01-01T10:40:32",
          "1970-01-01T11:13:52",
          "1970-01-01T11:13:52",
          "1970-01-01T11:13:52",
          "1970-01-01T14:24:32",
          "1970-01-01T14:24:32",
          "1970-01-01T14:57:52",
          "1970-01-01T14:57:52",
          "1970-01-01T14:57:52",
          "1970-01-01T18:08:32",
          "1970-01-01T18:08:32",
          "1970-01-01T18:41:52",
          "1970-01-01T18:41:52",
          "1970-01-01T18:41:52",
          "1970-01-01T21:52:32",
          "1970-01-01T21:52:32",
          "1970-01-01T22:25:52",
          "1970-01-01T22:25:52",
          "1970-01-01T22:25:52",
          "1970-01-02T01:36:32",
          "1970-01-02T01:36:32",
          "1970-01-02T02:09:52",
          "1970-01-02T02:09:52",
          "1970-01-02T02:09:52",
          "1970-01-01T01:15:52",
          "1970-01-01T01:15:52",
          "1970-01-01T01:49:12",
          "1970-01-01T01:49:12",
          "1970-01-01T01:49:12",
          "1970-01-01T04:20:56",
          "1970-01-01T04:20:56",
          "1970-01-01T04:54:16",
          "1970-01-01T04:54:16",
          "1970-01-01T04:54:16",
          "1970-01-01T07:26:00",
          "1970-01-01T07:26:00",
          "1970-01-01T07:59:20",
          "1970-01-01T07:59:20",
          "1970-01-01T07:59:20",
          "1970-01-01T10:40:32",
          "1970-01-01T10:40:32",
          "1970-01-01T11:13:52",
          "1970-01-01T11:13:52",
          "1970-01-01T11:13:52",
          "1970-01-01T14:24:32",
          "1970-01-01T14:24:32",
          "1970-01-01T14:57:52",
          "1970-01-01T14:57:52",
          "1970-01-01T14:57:52",
          "1970-01-01T18:08:32",
          "1970-01-01T18:08:32",
          "1970-01-01T18:41:52",
          "1970-01-01T18:41:52",
          "1970-01-01T18:41:52",
          "1970-01-01T21:52:32",
          "1970-01-01T21:52:32",
          "1970-01-01T22:25:52",
          "1970-01-01T22:25:52",
          "1970-01-01T22:25:52",
          "1970-01-02T01:36:32",
          "1970-01-02T01:36:32",
          "1970-01-02T02:09:52",
          "1970-01-02T02:09:52",
          "1970-01-02T02:09:52"
         ],
         "y": [
          "from_site",
          "from_site",
          "from_site",
          "from_site",
          null,
          "from_site",
          "from_site",
          "from_site",
          "from_site",
          null,
          "from_site",
          "from_site",
          "from_site",
          "from_site",
          null,
          "from_site",
          "from_site",
          "from_site",
          "from_site",
          null,
          "from_site",
          "from_site",
          "from_site",
          "from_site",
          null,
          "from_site",
          "from_site",
          "from_site",
          "from_site",
          null,
          "from_site",
          "from_site",
          "from_site",
          "from_site",
          null,
          "from_site",
          "from_site",
          "from_site",
          "from_site",
          null,
          "cutter",
          "cutter",
          "cutter",
          "cutter",
          null,
          "cutter",
          "cutter",
          "cutter",
          "cutter",
          null,
          "cutter",
          "cutter",
          "cutter",
          "cutter",
          null,
          "cutter",
          "cutter",
          "cutter",
          "cutter",
          null,
          "cutter",
          "cutter",
          "cutter",
          "cutter",
          null,
          "cutter",
          "cutter",
          "cutter",
          "cutter",
          null,
          "cutter",
          "cutter",
          "cutter",
          "cutter",
          null,
          "cutter",
          "cutter",
          "cutter",
          "cutter",
          null
         ]
        },
        {
         "connectgaps": false,
         "hoverinfo": "y+name",
         "line": {
          "color": "rgb(68,19,79)",
          "width": 10
         },
         "mode": "lines",
         "name": "loading:barge_0",
         "type": "scatter",
         "x": [
          "1970-01-01T02:30:52",
          "1970-01-01T02:30:52",
          "1970-01-01T03:12:32",
          "1970-01-01T03:12:32",
          "1970-01-01T03:12:32",
          "1970-01-01T06:14:52",
          "1970-01-01T06:14:52",
          "1970-01-01T06:56:32",
          "1970-01-01T06:56:32",
          "1970-01-01T06:56:32",
          "1970-01-01T09:58:52",
          "1970-01-01T09:58:52",
          "1970-01-01T10:40:32",
          "1970-01-01T10:40:32",
          "1970-01-01T10:40:32",
          "1970-01-01T13:42:52",
          "1970-01-01T13:42:52",
          "1970-01-01T14:24:32",
          "1970-01-01T14:24:32",
          "1970-01-01T14:24:32",
          "1970-01-01T17:26:52",
          "1970-01-01T17:26:52",
          "1970-01-01T18:08:32",
          "1970-01-01T18:08:32",
          "1970-01-01T18:08:32",
          "1970-01-01T21:10:52",
          "1970-01-01T21:10:52",
          "1970-01-01T21:52:32",
          "1970-01-01T21:52:32",
          "1970-01-01T21:52:32",
          "1970-01-02T00:54:52",
          "1970-01-02T00:54:52",
          "1970-01-02T01:36:32",
          "1970-01-02T01:36:32",
          "1970-01-02T01:36:32",
          "1970-01-01T02:30:52",
          "1970-01-01T02:30:52",
          "1970-01-01T03:12:32",
          "1970-01-01T03:12:32",
          "1970-01-01T03:12:32",
          "1970-01-01T06:14:52",
          "1970-01-01T06:14:52",
          "1970-01-01T06:56:32",
          "1970-01-01T06:56:32",
          "1970-01-01T06:56:32",
          "1970-01-01T09:58:52",
          "1970-01-01T09:58:52",
          "1970-01-01T10:40:32",
          "1970-01-01T10:40:32",
          "1970-01-01T10:40:32",
          "1970-01-01T13:42:52",
          "1970-01-01T13:42:52",
          "1970-01-01T14:24:32",
          "1970-01-01T14:24:32",
          "1970-01-01T14:24:32",
          "1970-01-01T17:26:52",
          "1970-01-01T17:26:52",
          "1970-01-01T18:08:32",
          "1970-01-01T18:08:32",
          "1970-01-01T18:08:32",
          "1970-01-01T21:10:52",
          "1970-01-01T21:10:52",
          "1970-01-01T21:52:32",
          "1970-01-01T21:52:32",
          "1970-01-01T21:52:32",
          "1970-01-02T00:54:52",
          "1970-01-02T00:54:52",
          "1970-01-02T01:36:32",
          "1970-01-02T01:36:32",
          "1970-01-02T01:36:32"
         ],
         "y": [
          "from_site",
          "from_site",
          "from_site",
          "from_site",
          null,
          "from_site",
          "from_site",
          "from_site",
          "from_site",
          null,
          "from_site",
          "from_site",
          "from_site",
          "from_site",
          null,
          "from_site",
          "from_site",
          "from_site",
          "from_site",
          null,
          "from_site",
          "from_site",
          "from_site",
          "from_site",
          null,
          "from_site",
          "from_site",
          "from_site",
          "from_site",
          null,
          "from_site",
          "from_site",
          "from_site",
          "from_site",
          null,
          "cutter",
          "cutter",
          "cutter",
          "cutter",
          null,
          "cutter",
          "cutter",
          "cutter",
          "cutter",
          null,
          "cutter",
          "cutter",
          "cutter",
          "cutter",
          null,
          "cutter",
          "cutter",
          "cutter",
          "cutter",
          null,
          "cutter",
          "cutter",
          "cutter",
          "cutter",
          null,
          "cutter",
          "cutter",
          "cutter",
          "cutter",
          null,
          "cutter",
          "cutter",
          "cutter",
          "cutter",
          null
         ]
        },
        {
         "connectgaps": false,
         "hoverinfo": "y+name",
         "line": {
          "color": "rgb(96,47,107)",
          "width": 10
         },
         "mode": "lines",
         "name": "unloading:barge_2",
         "type": "scatter",
         "x": [
          "1970-01-01T03:09:44",
          "1970-01-01T03:09:44",
          "1970-01-01T03:48:36",
          "1970-01-01T03:48:36",
          "1970-01-01T03:48:36",
          "1970-01-01T06:26:52",
          "1970-01-01T06:26:52",
          "1970-01-01T07:05:44",
          "1970-01-01T07:05:44",
          "1970-01-01T07:05:44",
          "1970-01-01T09:44:00",
          "1970-01-01T09:44:00",
          "1970-01-01T10:22:52",
          "1970-01-01T10:22:52",
          "1970-01-01T10:22:52",
          "1970-01-01T13:01:08",
          "1970-01-01T13:01:08",
          "1970-01-01T13:40:00",
          "1970-01-01T13:40:00",
          "1970-01-01T13:40:00",
          "1970-01-01T16:18:24",
          "1970-01-01T16:18:24",
          "1970-01-01T16:57:16",
          "1970-01-01T16:57:16",
          "1970-01-01T16:57:16",
          "1970-01-01T20:02:24",
          "1970-01-01T20:02:24",
          "1970-01-01T20:41:16",
          "1970-01-01T20:41:16",
          "1970-01-01T20:41:16",
          "1970-01-01T23:46:24",
          "1970-01-01T23:46:24",
          "1970-01-02T00:25:16",
          "1970-01-02T00:25:16",
          "1970-01-02T00:25:16"
         ],
         "y": [
          "to_site",
          "to_site",
          "to_site",
          "to_site",
          null,
          "to_site",
          "to_site",
          "to_site",
          "to_site",
          null,
          "to_site",
          "to_site",
          "to_site",
          "to_site",
          null,
          "to_site",
          "to_site",
          "to_site",
          "to_site",
          null,
          "to_site",
          "to_site",
          "to_site",
          "to_site",
          null,
          "to_site",
          "to_site",
          "to_site",
          "to_site",
          null,
          "to_site",
          "to_site",
          "to_site",
          "to_site",
          null
         ]
        },
        {
         "connectgaps": false,
         "hoverinfo": "y+name",
         "line": {
          "color": "rgb(124,75,135)",
          "width": 10
         },
         "mode": "lines",
         "name": "unloading:barge_1",
         "type": "scatter",
         "x": [
          "1970-01-01T02:27:08",
          "1970-01-01T02:27:08",
          "1970-01-01T03:05:04",
          "1970-01-01T03:05:04",
          "1970-01-01T03:05:04",
          "1970-01-01T05:32:12",
          "1970-01-01T05:32:12",
          "1970-01-01T06:10:08",
          "1970-01-01T06:10:08",
          "1970-01-01T06:10:08",
          "1970-01-01T08:37:16",
          "1970-01-01T08:37:16",
          "1970-01-01T09:15:12",
          "1970-01-01T09:15:12",
          "1970-01-01T09:15:12",
          "1970-01-01T11:51:48",
          "1970-01-01T11:51:48",
          "1970-01-01T12:29:44",
          "1970-01-01T12:29:44",
          "1970-01-01T12:29:44",
          "1970-01-01T15:35:48",
          "1970-01-01T15:35:48",
          "1970-01-01T16:13:44",
          "1970-01-01T16:13:44",
          "1970-01-01T16:13:44",
          "1970-01-01T19:19:48",
          "1970-01-01T19:19:48",
          "1970-01-01T19:57:44",
          "1970-01-01T19:57:44",
          "1970-01-01T19:57:44",
          "1970-01-01T23:03:48",
          "1970-01-01T23:03:48",
          "1970-01-01T23:41:44",
          "1970-01-01T23:41:44",
          "1970-01-01T23:41:44",
          "1970-01-02T02:47:48",
          "1970-01-02T02:47:48",
          "1970-01-02T03:25:44",
          "1970-01-02T03:25:44",
          "1970-01-02T03:25:44"
         ],
         "y": [
          "to_site",
          "to_site",
          "to_site",
          "to_site",
          null,
          "to_site",
          "to_site",
          "to_site",
          "to_site",
          null,
          "to_site",
          "to_site",
          "to_site",
          "to_site",
          null,
          "to_site",
          "to_site",
          "to_site",
          "to_site",
          null,
          "to_site",
          "to_site",
          "to_site",
          "to_site",
          null,
          "to_site",
          "to_site",
          "to_site",
          "to_site",
          null,
          "to_site",
          "to_site",
          "to_site",
          "to_site",
          null,
          "to_site",
          "to_site",
          "to_site",
          "to_site",
          null
         ]
        },
        {
         "connectgaps": false,
         "hoverinfo": "y+name",
         "line": {
          "color": "rgb(152,103,163)",
          "width": 10
         },
         "mode": "lines",
         "name": "unloading:barge_0",
         "type": "scatter",
         "x": [
          "1970-01-01T03:58:07",
          "1970-01-01T03:58:07",
          "1970-01-01T04:43:42",
          "1970-01-01T04:43:42",
          "1970-01-01T04:43:42",
          "1970-01-01T07:42:07",
          "1970-01-01T07:42:07",
          "1970-01-01T08:27:42",
          "1970-01-01T08:27:42",
          "1970-01-01T08:27:42",
          "1970-01-01T11:26:07",
          "1970-01-01T11:26:07",
          "1970-01-01T12:11:42",
          "1970-01-01T12:11:42",
          "1970-01-01T12:11:42",
          "1970-01-01T15:10:07",
          "1970-01-01T15:10:07",
          "1970-01-01T15:55:42",
          "1970-01-01T15:55:42",
          "1970-01-01T15:55:42",
          "1970-01-01T18:54:07",
          "1970-01-01T18:54:07",
          "1970-01-01T19:39:42",
          "1970-01-01T19:39:42",
          "1970-01-01T19:39:42",
          "1970-01-01T22:38:07",
          "1970-01-01T22:38:07",
          "1970-01-01T23:23:42",
          "1970-01-01T23:23:42",
          "1970-01-01T23:23:42",
          "1970-01-02T02:22:07",
          "1970-01-02T02:22:07",
          "1970-01-02T03:07:42",
          "1970-01-02T03:07:42",
          "1970-01-02T03:07:42"
         ],
         "y": [
          "to_site",
          "to_site",
          "to_site",
          "to_site",
          null,
          "to_site",
          "to_site",
          "to_site",
          "to_site",
          null,
          "to_site",
          "to_site",
          "to_site",
          "to_site",
          null,
          "to_site",
          "to_site",
          "to_site",
          "to_site",
          null,
          "to_site",
          "to_site",
          "to_site",
          "to_site",
          null,
          "to_site",
          "to_site",
          "to_site",
          "to_site",
          null,
          "to_site",
          "to_site",
          "to_site",
          "to_site",
          null
         ]
        },
        {
         "connectgaps": false,
         "hoverinfo": "y+name",
         "line": {
          "color": "rgb(180,131,191)",
          "width": 10
         },
         "mode": "lines",
         "name": "loading:barge_2",
         "type": "scatter",
         "x": [
          "1970-01-01T01:49:12",
          "1970-01-01T01:49:12",
          "1970-01-01T02:30:52",
          "1970-01-01T02:30:52",
          "1970-01-01T02:30:52",
          "1970-01-01T05:06:20",
          "1970-01-01T05:06:20",
          "1970-01-01T05:48:00",
          "1970-01-01T05:48:00",
          "1970-01-01T05:48:00",
          "1970-01-01T08:23:28",
          "1970-01-01T08:23:28",
          "1970-01-01T09:05:08",
          "1970-01-01T09:05:08",
          "1970-01-01T09:05:08",
          "1970-01-01T11:40:36",
          "1970-01-01T11:40:36",
          "1970-01-01T12:22:16",
          "1970-01-01T12:22:16",
          "1970-01-01T12:22:16",
          "1970-01-01T14:57:52",
          "1970-01-01T14:57:52",
          "1970-01-01T15:39:32",
          "1970-01-01T15:39:32",
          "1970-01-01T15:39:32",
          "1970-01-01T18:41:52",
          "1970-01-01T18:41:52",
          "1970-01-01T19:23:32",
          "1970-01-01T19:23:32",
          "1970-01-01T19:23:32",
          "1970-01-01T22:25:52",
          "1970-01-01T22:25:52",
          "1970-01-01T23:07:32",
          "1970-01-01T23:07:32",
          "1970-01-01T23:07:32",
          "1970-01-01T01:49:12",
          "1970-01-01T01:49:12",
          "1970-01-01T02:30:52",
          "1970-01-01T02:30:52",
          "1970-01-01T02:30:52",
          "1970-01-01T05:06:20",
          "1970-01-01T05:06:20",
          "1970-01-01T05:48:00",
          "1970-01-01T05:48:00",
          "1970-01-01T05:48:00",
          "1970-01-01T08:23:28",
          "1970-01-01T08:23:28",
          "1970-01-01T09:05:08",
          "1970-01-01T09:05:08",
          "1970-01-01T09:05:08",
          "1970-01-01T11:40:36",
          "1970-01-01T11:40:36",
          "1970-01-01T12:22:16",
          "1970-01-01T12:22:16",
          "1970-01-01T12:22:16",
          "1970-01-01T14:57:52",
          "1970-01-01T14:57:52",
          "1970-01-01T15:39:32",
          "1970-01-01T15:39:32",
          "1970-01-01T15:39:32",
          "1970-01-01T18:41:52",
          "1970-01-01T18:41:52",
          "1970-01-01T19:23:32",
          "1970-01-01T19:23:32",
          "1970-01-01T19:23:32",
          "1970-01-01T22:25:52",
          "1970-01-01T22:25:52",
          "1970-01-01T23:07:32",
          "1970-01-01T23:07:32",
          "1970-01-01T23:07:32"
         ],
         "y": [
          "from_site",
          "from_site",
          "from_site",
          "from_site",
          null,
          "from_site",
          "from_site",
          "from_site",
          "from_site",
          null,
          "from_site",
          "from_site",
          "from_site",
          "from_site",
          null,
          "from_site",
          "from_site",
          "from_site",
          "from_site",
          null,
          "from_site",
          "from_site",
          "from_site",
          "from_site",
          null,
          "from_site",
          "from_site",
          "from_site",
          "from_site",
          null,
          "from_site",
          "from_site",
          "from_site",
          "from_site",
          null,
          "cutter",
          "cutter",
          "cutter",
          "cutter",
          null,
          "cutter",
          "cutter",
          "cutter",
          "cutter",
          null,
          "cutter",
          "cutter",
          "cutter",
          "cutter",
          null,
          "cutter",
          "cutter",
          "cutter",
          "cutter",
          null,
          "cutter",
          "cutter",
          "cutter",
          "cutter",
          null,
          "cutter",
          "cutter",
          "cutter",
          "cutter",
          null,
          "cutter",
          "cutter",
          "cutter",
          "cutter",
          null
         ]
        },
        {
         "connectgaps": false,
         "hoverinfo": "y+name",
         "line": {
          "color": "rgb(208,159,219)",
          "width": 10
         },
         "mode": "lines",
         "name": "loading:barge_1",
         "type": "scatter",
         "x": [
          "1970-01-01T01:15:52",
          "1970-01-01T01:15:52",
          "1970-01-01T01:49:12",
          "1970-01-01T01:49:12",
          "1970-01-01T01:49:12",
          "1970-01-01T04:20:56",
          "1970-01-01T04:20:56",
          "1970-01-01T04:54:16",
          "1970-01-01T04:54:16",
          "1970-01-01T04:54:16",
          "1970-01-01T07:26:00",
          "1970-01-01T07:26:00",
          "1970-01-01T07:59:20",
          "1970-01-01T07:59:20",
          "1970-01-01T07:59:20",
          "1970-01-01T10:40:32",
          "1970-01-01T10:40:32",
          "1970-01-01T11:13:52",
          "1970-01-01T11:13:52",
          "1970-01-01T11:13:52",
          "1970-01-01T14:24:32",
          "1970-01-01T14:24:32",
          "1970-01-01T14:57:52",
          "1970-01-01T14:57:52",
          "1970-01-01T14:57:52",
          "1970-01-01T18:08:32",
          "1970-01-01T18:08:32",
          "1970-01-01T18:41:52",
          "1970-01-01T18:41:52",
          "1970-01-01T18:41:52",
          "1970-01-01T21:52:32",
          "1970-01-01T21:52:32",
          "1970-01-01T22:25:52",
          "1970-01-01T22:25:52",
          "1970-01-01T22:25:52",
          "1970-01-02T01:36:32",
          "1970-01-02T01:36:32",
          "1970-01-02T02:09:52",
          "1970-01-02T02:09:52",
          "1970-01-02T02:09:52",
          "1970-01-01T01:15:52",
          "1970-01-01T01:15:52",
          "1970-01-01T01:49:12",
          "1970-01-01T01:49:12",
          "1970-01-01T01:49:12",
          "1970-01-01T04:20:56",
          "1970-01-01T04:20:56",
          "1970-01-01T04:54:16",
          "1970-01-01T04:54:16",
          "1970-01-01T04:54:16",
          "1970-01-01T07:26:00",
          "1970-01-01T07:26:00",
          "1970-01-01T07:59:20",
          "1970-01-01T07:59:20",
          "1970-01-01T07:59:20",
          "1970-01-01T10:40:32",
          "1970-01-01T10:40:32",
          "1970-01-01T11:13:52",
          "1970-01-01T11:13:52",
          "1970-01-01T11:13:52",
          "1970-01-01T14:24:32",
          "1970-01-01T14:24:32",
          "1970-01-01T14:57:52",
          "1970-01-01T14:57:52",
          "1970-01-01T14:57:52",
          "1970-01-01T18:08:32",
          "1970-01-01T18:08:32",
          "1970-01-01T18:41:52",
          "1970-01-01T18:41:52",
          "1970-01-01T18:41:52",
          "1970-01-01T21:52:32",
          "1970-01-01T21:52:32",
          "1970-01-01T22:25:52",
          "1970-01-01T22:25:52",
          "1970-01-01T22:25:52",
          "1970-01-02T01:36:32",
          "1970-01-02T01:36:32",
          "1970-01-02T02:09:52",
          "1970-01-02T02:09:52",
          "1970-01-02T02:09:52"
         ],
         "y": [
          "from_site",
          "from_site",
          "from_site",
          "from_site",
          null,
          "from_site",
          "from_site",
          "from_site",
          "from_site",
          null,
          "from_site",
          "from_site",
          "from_site",
          "from_site",
          null,
          "from_site",
          "from_site",
          "from_site",
          "from_site",
          null,
          "from_site",
          "from_site",
          "from_site",
          "from_site",
          null,
          "from_site",
          "from_site",
          "from_site",
          "from_site",
          null,
          "from_site",
          "from_site",
          "from_site",
          "from_site",
          null,
          "from_site",
          "from_site",
          "from_site",
          "from_site",
          null,
          "cutter",
          "cutter",
          "cutter",
          "cutter",
          null,
          "cutter",
          "cutter",
          "cutter",
          "cutter",
          null,
          "cutter",
          "cutter",
          "cutter",
          "cutter",
          null,
          "cutter",
          "cutter",
          "cutter",
          "cutter",
          null,
          "cutter",
          "cutter",
          "cutter",
          "cutter",
          null,
          "cutter",
          "cutter",
          "cutter",
          "cutter",
          null,
          "cutter",
          "cutter",
          "cutter",
          "cutter",
          null,
          "cutter",
          "cutter",
          "cutter",
          "cutter",
          null
         ]
        },
        {
         "connectgaps": false,
         "hoverinfo": "y+name",
         "line": {
          "color": "rgb(236,187,247)",
          "width": 10
         },
         "mode": "lines",
         "name": "loading:barge_0",
         "type": "scatter",
         "x": [
          "1970-01-01T02:30:52",
          "1970-01-01T02:30:52",
          "1970-01-01T03:12:32",
          "1970-01-01T03:12:32",
          "1970-01-01T03:12:32",
          "1970-01-01T06:14:52",
          "1970-01-01T06:14:52",
          "1970-01-01T06:56:32",
          "1970-01-01T06:56:32",
          "1970-01-01T06:56:32",
          "1970-01-01T09:58:52",
          "1970-01-01T09:58:52",
          "1970-01-01T10:40:32",
          "1970-01-01T10:40:32",
          "1970-01-01T10:40:32",
          "1970-01-01T13:42:52",
          "1970-01-01T13:42:52",
          "1970-01-01T14:24:32",
          "1970-01-01T14:24:32",
          "1970-01-01T14:24:32",
          "1970-01-01T17:26:52",
          "1970-01-01T17:26:52",
          "1970-01-01T18:08:32",
          "1970-01-01T18:08:32",
          "1970-01-01T18:08:32",
          "1970-01-01T21:10:52",
          "1970-01-01T21:10:52",
          "1970-01-01T21:52:32",
          "1970-01-01T21:52:32",
          "1970-01-01T21:52:32",
          "1970-01-02T00:54:52",
          "1970-01-02T00:54:52",
          "1970-01-02T01:36:32",
          "1970-01-02T01:36:32",
          "1970-01-02T01:36:32",
          "1970-01-01T02:30:52",
          "1970-01-01T02:30:52",
          "1970-01-01T03:12:32",
          "1970-01-01T03:12:32",
          "1970-01-01T03:12:32",
          "1970-01-01T06:14:52",
          "1970-01-01T06:14:52",
          "1970-01-01T06:56:32",
          "1970-01-01T06:56:32",
          "1970-01-01T06:56:32",
          "1970-01-01T09:58:52",
          "1970-01-01T09:58:52",
          "1970-01-01T10:40:32",
          "1970-01-01T10:40:32",
          "1970-01-01T10:40:32",
          "1970-01-01T13:42:52",
          "1970-01-01T13:42:52",
          "1970-01-01T14:24:32",
          "1970-01-01T14:24:32",
          "1970-01-01T14:24:32",
          "1970-01-01T17:26:52",
          "1970-01-01T17:26:52",
          "1970-01-01T18:08:32",
          "1970-01-01T18:08:32",
          "1970-01-01T18:08:32",
          "1970-01-01T21:10:52",
          "1970-01-01T21:10:52",
          "1970-01-01T21:52:32",
          "1970-01-01T21:52:32",
          "1970-01-01T21:52:32",
          "1970-01-02T00:54:52",
          "1970-01-02T00:54:52",
          "1970-01-02T01:36:32",
          "1970-01-02T01:36:32",
          "1970-01-02T01:36:32"
         ],
         "y": [
          "from_site",
          "from_site",
          "from_site",
          "from_site",
          null,
          "from_site",
          "from_site",
          "from_site",
          "from_site",
          null,
          "from_site",
          "from_site",
          "from_site",
          "from_site",
          null,
          "from_site",
          "from_site",
          "from_site",
          "from_site",
          null,
          "from_site",
          "from_site",
          "from_site",
          "from_site",
          null,
          "from_site",
          "from_site",
          "from_site",
          "from_site",
          null,
          "from_site",
          "from_site",
          "from_site",
          "from_site",
          null,
          "cutter",
          "cutter",
          "cutter",
          "cutter",
          null,
          "cutter",
          "cutter",
          "cutter",
          "cutter",
          null,
          "cutter",
          "cutter",
          "cutter",
          "cutter",
          null,
          "cutter",
          "cutter",
          "cutter",
          "cutter",
          null,
          "cutter",
          "cutter",
          "cutter",
          "cutter",
          null,
          "cutter",
          "cutter",
          "cutter",
          "cutter",
          null,
          "cutter",
          "cutter",
          "cutter",
          "cutter",
          null
         ]
        }
       ],
       "layout": {
        "hovermode": "closest",
        "legend": {
         "orientation": "h",
         "x": 0,
         "y": -0.2
        },
        "template": {
         "data": {
          "bar": [
           {
            "error_x": {
             "color": "#2a3f5f"
            },
            "error_y": {
             "color": "#2a3f5f"
            },
            "marker": {
             "line": {
              "color": "#E5ECF6",
              "width": 0.5
             },
             "pattern": {
              "fillmode": "overlay",
              "size": 10,
              "solidity": 0.2
             }
            },
            "type": "bar"
           }
          ],
          "barpolar": [
           {
            "marker": {
             "line": {
              "color": "#E5ECF6",
              "width": 0.5
             },
             "pattern": {
              "fillmode": "overlay",
              "size": 10,
              "solidity": 0.2
             }
            },
            "type": "barpolar"
           }
          ],
          "carpet": [
           {
            "aaxis": {
             "endlinecolor": "#2a3f5f",
             "gridcolor": "white",
             "linecolor": "white",
             "minorgridcolor": "white",
             "startlinecolor": "#2a3f5f"
            },
            "baxis": {
             "endlinecolor": "#2a3f5f",
             "gridcolor": "white",
             "linecolor": "white",
             "minorgridcolor": "white",
             "startlinecolor": "#2a3f5f"
            },
            "type": "carpet"
           }
          ],
          "choropleth": [
           {
            "colorbar": {
             "outlinewidth": 0,
             "ticks": ""
            },
            "type": "choropleth"
           }
          ],
          "contour": [
           {
            "colorbar": {
             "outlinewidth": 0,
             "ticks": ""
            },
            "colorscale": [
             [
              0,
              "#0d0887"
             ],
             [
              0.1111111111111111,
              "#46039f"
             ],
             [
              0.2222222222222222,
              "#7201a8"
             ],
             [
              0.3333333333333333,
              "#9c179e"
             ],
             [
              0.4444444444444444,
              "#bd3786"
             ],
             [
              0.5555555555555556,
              "#d8576b"
             ],
             [
              0.6666666666666666,
              "#ed7953"
             ],
             [
              0.7777777777777778,
              "#fb9f3a"
             ],
             [
              0.8888888888888888,
              "#fdca26"
             ],
             [
              1,
              "#f0f921"
             ]
            ],
            "type": "contour"
           }
          ],
          "contourcarpet": [
           {
            "colorbar": {
             "outlinewidth": 0,
             "ticks": ""
            },
            "type": "contourcarpet"
           }
          ],
          "heatmap": [
           {
            "colorbar": {
             "outlinewidth": 0,
             "ticks": ""
            },
            "colorscale": [
             [
              0,
              "#0d0887"
             ],
             [
              0.1111111111111111,
              "#46039f"
             ],
             [
              0.2222222222222222,
              "#7201a8"
             ],
             [
              0.3333333333333333,
              "#9c179e"
             ],
             [
              0.4444444444444444,
              "#bd3786"
             ],
             [
              0.5555555555555556,
              "#d8576b"
             ],
             [
              0.6666666666666666,
              "#ed7953"
             ],
             [
              0.7777777777777778,
              "#fb9f3a"
             ],
             [
              0.8888888888888888,
              "#fdca26"
             ],
             [
              1,
              "#f0f921"
             ]
            ],
            "type": "heatmap"
           }
          ],
          "heatmapgl": [
           {
            "colorbar": {
             "outlinewidth": 0,
             "ticks": ""
            },
            "colorscale": [
             [
              0,
              "#0d0887"
             ],
             [
              0.1111111111111111,
              "#46039f"
             ],
             [
              0.2222222222222222,
              "#7201a8"
             ],
             [
              0.3333333333333333,
              "#9c179e"
             ],
             [
              0.4444444444444444,
              "#bd3786"
             ],
             [
              0.5555555555555556,
              "#d8576b"
             ],
             [
              0.6666666666666666,
              "#ed7953"
             ],
             [
              0.7777777777777778,
              "#fb9f3a"
             ],
             [
              0.8888888888888888,
              "#fdca26"
             ],
             [
              1,
              "#f0f921"
             ]
            ],
            "type": "heatmapgl"
           }
          ],
          "histogram": [
           {
            "marker": {
             "pattern": {
              "fillmode": "overlay",
              "size": 10,
              "solidity": 0.2
             }
            },
            "type": "histogram"
           }
          ],
          "histogram2d": [
           {
            "colorbar": {
             "outlinewidth": 0,
             "ticks": ""
            },
            "colorscale": [
             [
              0,
              "#0d0887"
             ],
             [
              0.1111111111111111,
              "#46039f"
             ],
             [
              0.2222222222222222,
              "#7201a8"
             ],
             [
              0.3333333333333333,
              "#9c179e"
             ],
             [
              0.4444444444444444,
              "#bd3786"
             ],
             [
              0.5555555555555556,
              "#d8576b"
             ],
             [
              0.6666666666666666,
              "#ed7953"
             ],
             [
              0.7777777777777778,
              "#fb9f3a"
             ],
             [
              0.8888888888888888,
              "#fdca26"
             ],
             [
              1,
              "#f0f921"
             ]
            ],
            "type": "histogram2d"
           }
          ],
          "histogram2dcontour": [
           {
            "colorbar": {
             "outlinewidth": 0,
             "ticks": ""
            },
            "colorscale": [
             [
              0,
              "#0d0887"
             ],
             [
              0.1111111111111111,
              "#46039f"
             ],
             [
              0.2222222222222222,
              "#7201a8"
             ],
             [
              0.3333333333333333,
              "#9c179e"
             ],
             [
              0.4444444444444444,
              "#bd3786"
             ],
             [
              0.5555555555555556,
              "#d8576b"
             ],
             [
              0.6666666666666666,
              "#ed7953"
             ],
             [
              0.7777777777777778,
              "#fb9f3a"
             ],
             [
              0.8888888888888888,
              "#fdca26"
             ],
             [
              1,
              "#f0f921"
             ]
            ],
            "type": "histogram2dcontour"
           }
          ],
          "mesh3d": [
           {
            "colorbar": {
             "outlinewidth": 0,
             "ticks": ""
            },
            "type": "mesh3d"
           }
          ],
          "parcoords": [
           {
            "line": {
             "colorbar": {
              "outlinewidth": 0,
              "ticks": ""
             }
            },
            "type": "parcoords"
           }
          ],
          "pie": [
           {
            "automargin": true,
            "type": "pie"
           }
          ],
          "scatter": [
           {
            "marker": {
             "colorbar": {
              "outlinewidth": 0,
              "ticks": ""
             }
            },
            "type": "scatter"
           }
          ],
          "scatter3d": [
           {
            "line": {
             "colorbar": {
              "outlinewidth": 0,
              "ticks": ""
             }
            },
            "marker": {
             "colorbar": {
              "outlinewidth": 0,
              "ticks": ""
             }
            },
            "type": "scatter3d"
           }
          ],
          "scattercarpet": [
           {
            "marker": {
             "colorbar": {
              "outlinewidth": 0,
              "ticks": ""
             }
            },
            "type": "scattercarpet"
           }
          ],
          "scattergeo": [
           {
            "marker": {
             "colorbar": {
              "outlinewidth": 0,
              "ticks": ""
             }
            },
            "type": "scattergeo"
           }
          ],
          "scattergl": [
           {
            "marker": {
             "colorbar": {
              "outlinewidth": 0,
              "ticks": ""
             }
            },
            "type": "scattergl"
           }
          ],
          "scattermapbox": [
           {
            "marker": {
             "colorbar": {
              "outlinewidth": 0,
              "ticks": ""
             }
            },
            "type": "scattermapbox"
           }
          ],
          "scatterpolar": [
           {
            "marker": {
             "colorbar": {
              "outlinewidth": 0,
              "ticks": ""
             }
            },
            "type": "scatterpolar"
           }
          ],
          "scatterpolargl": [
           {
            "marker": {
             "colorbar": {
              "outlinewidth": 0,
              "ticks": ""
             }
            },
            "type": "scatterpolargl"
           }
          ],
          "scatterternary": [
           {
            "marker": {
             "colorbar": {
              "outlinewidth": 0,
              "ticks": ""
             }
            },
            "type": "scatterternary"
           }
          ],
          "surface": [
           {
            "colorbar": {
             "outlinewidth": 0,
             "ticks": ""
            },
            "colorscale": [
             [
              0,
              "#0d0887"
             ],
             [
              0.1111111111111111,
              "#46039f"
             ],
             [
              0.2222222222222222,
              "#7201a8"
             ],
             [
              0.3333333333333333,
              "#9c179e"
             ],
             [
              0.4444444444444444,
              "#bd3786"
             ],
             [
              0.5555555555555556,
              "#d8576b"
             ],
             [
              0.6666666666666666,
              "#ed7953"
             ],
             [
              0.7777777777777778,
              "#fb9f3a"
             ],
             [
              0.8888888888888888,
              "#fdca26"
             ],
             [
              1,
              "#f0f921"
             ]
            ],
            "type": "surface"
           }
          ],
          "table": [
           {
            "cells": {
             "fill": {
              "color": "#EBF0F8"
             },
             "line": {
              "color": "white"
             }
            },
            "header": {
             "fill": {
              "color": "#C8D4E3"
             },
             "line": {
              "color": "white"
             }
            },
            "type": "table"
           }
          ]
         },
         "layout": {
          "annotationdefaults": {
           "arrowcolor": "#2a3f5f",
           "arrowhead": 0,
           "arrowwidth": 1
          },
          "autotypenumbers": "strict",
          "coloraxis": {
           "colorbar": {
            "outlinewidth": 0,
            "ticks": ""
           }
          },
          "colorscale": {
           "diverging": [
            [
             0,
             "#8e0152"
            ],
            [
             0.1,
             "#c51b7d"
            ],
            [
             0.2,
             "#de77ae"
            ],
            [
             0.3,
             "#f1b6da"
            ],
            [
             0.4,
             "#fde0ef"
            ],
            [
             0.5,
             "#f7f7f7"
            ],
            [
             0.6,
             "#e6f5d0"
            ],
            [
             0.7,
             "#b8e186"
            ],
            [
             0.8,
             "#7fbc41"
            ],
            [
             0.9,
             "#4d9221"
            ],
            [
             1,
             "#276419"
            ]
           ],
           "sequential": [
            [
             0,
             "#0d0887"
            ],
            [
             0.1111111111111111,
             "#46039f"
            ],
            [
             0.2222222222222222,
             "#7201a8"
            ],
            [
             0.3333333333333333,
             "#9c179e"
            ],
            [
             0.4444444444444444,
             "#bd3786"
            ],
            [
             0.5555555555555556,
             "#d8576b"
            ],
            [
             0.6666666666666666,
             "#ed7953"
            ],
            [
             0.7777777777777778,
             "#fb9f3a"
            ],
            [
             0.8888888888888888,
             "#fdca26"
            ],
            [
             1,
             "#f0f921"
            ]
           ],
           "sequentialminus": [
            [
             0,
             "#0d0887"
            ],
            [
             0.1111111111111111,
             "#46039f"
            ],
            [
             0.2222222222222222,
             "#7201a8"
            ],
            [
             0.3333333333333333,
             "#9c179e"
            ],
            [
             0.4444444444444444,
             "#bd3786"
            ],
            [
             0.5555555555555556,
             "#d8576b"
            ],
            [
             0.6666666666666666,
             "#ed7953"
            ],
            [
             0.7777777777777778,
             "#fb9f3a"
            ],
            [
             0.8888888888888888,
             "#fdca26"
            ],
            [
             1,
             "#f0f921"
            ]
           ]
          },
          "colorway": [
           "#636efa",
           "#EF553B",
           "#00cc96",
           "#ab63fa",
           "#FFA15A",
           "#19d3f3",
           "#FF6692",
           "#B6E880",
           "#FF97FF",
           "#FECB52"
          ],
          "font": {
           "color": "#2a3f5f"
          },
          "geo": {
           "bgcolor": "white",
           "lakecolor": "white",
           "landcolor": "#E5ECF6",
           "showlakes": true,
           "showland": true,
           "subunitcolor": "white"
          },
          "hoverlabel": {
           "align": "left"
          },
          "hovermode": "closest",
          "mapbox": {
           "style": "light"
          },
          "paper_bgcolor": "white",
          "plot_bgcolor": "#E5ECF6",
          "polar": {
           "angularaxis": {
            "gridcolor": "white",
            "linecolor": "white",
            "ticks": ""
           },
           "bgcolor": "#E5ECF6",
           "radialaxis": {
            "gridcolor": "white",
            "linecolor": "white",
            "ticks": ""
           }
          },
          "scene": {
           "xaxis": {
            "backgroundcolor": "#E5ECF6",
            "gridcolor": "white",
            "gridwidth": 2,
            "linecolor": "white",
            "showbackground": true,
            "ticks": "",
            "zerolinecolor": "white"
           },
           "yaxis": {
            "backgroundcolor": "#E5ECF6",
            "gridcolor": "white",
            "gridwidth": 2,
            "linecolor": "white",
            "showbackground": true,
            "ticks": "",
            "zerolinecolor": "white"
           },
           "zaxis": {
            "backgroundcolor": "#E5ECF6",
            "gridcolor": "white",
            "gridwidth": 2,
            "linecolor": "white",
            "showbackground": true,
            "ticks": "",
            "zerolinecolor": "white"
           }
          },
          "shapedefaults": {
           "line": {
            "color": "#2a3f5f"
           }
          },
          "ternary": {
           "aaxis": {
            "gridcolor": "white",
            "linecolor": "white",
            "ticks": ""
           },
           "baxis": {
            "gridcolor": "white",
            "linecolor": "white",
            "ticks": ""
           },
           "bgcolor": "#E5ECF6",
           "caxis": {
            "gridcolor": "white",
            "linecolor": "white",
            "ticks": ""
           }
          },
          "title": {
           "x": 0.05
          },
          "xaxis": {
           "automargin": true,
           "gridcolor": "white",
           "linecolor": "white",
           "ticks": "",
           "title": {
            "standoff": 15
           },
           "zerolinecolor": "white",
           "zerolinewidth": 2
          },
          "yaxis": {
           "automargin": true,
           "gridcolor": "white",
           "linecolor": "white",
           "ticks": "",
           "title": {
            "standoff": 15
           },
           "zerolinecolor": "white",
           "zerolinewidth": 2
          }
         }
        },
        "title": {
         "text": "GANTT Chart"
        },
        "xaxis": {
         "range": [
          "1970-01-01T01:15:52",
          "1970-01-02T03:25:44"
         ],
         "title": {
          "font": {
           "color": "#7f7f7f",
           "family": "Courier New, monospace",
           "size": 18
          },
          "text": "Time"
         }
        },
        "yaxis": {
         "title": {
          "font": {
           "color": "#7f7f7f",
           "family": "Courier New, monospace",
           "size": 18
          },
          "text": "Activities"
         }
        }
       }
      },
      "text/html": [
       "<div>                            <div id=\"2e97dcda-473b-4b7e-93a4-da9329cbaee4\" class=\"plotly-graph-div\" style=\"height:525px; width:100%;\"></div>            <script type=\"text/javascript\">                require([\"plotly\"], function(Plotly) {                    window.PLOTLYENV=window.PLOTLYENV || {};                                    if (document.getElementById(\"2e97dcda-473b-4b7e-93a4-da9329cbaee4\")) {                    Plotly.newPlot(                        \"2e97dcda-473b-4b7e-93a4-da9329cbaee4\",                        [{\"connectgaps\":false,\"hoverinfo\":\"y+name\",\"line\":{\"color\":\"rgb(12,219,23)\",\"width\":10},\"mode\":\"lines\",\"name\":\"loading:barge_2\",\"x\":[\"1970-01-01T01:49:12\",\"1970-01-01T01:49:12\",\"1970-01-01T02:30:52\",\"1970-01-01T02:30:52\",\"1970-01-01T02:30:52\",\"1970-01-01T05:06:20\",\"1970-01-01T05:06:20\",\"1970-01-01T05:48:00\",\"1970-01-01T05:48:00\",\"1970-01-01T05:48:00\",\"1970-01-01T08:23:28\",\"1970-01-01T08:23:28\",\"1970-01-01T09:05:08\",\"1970-01-01T09:05:08\",\"1970-01-01T09:05:08\",\"1970-01-01T11:40:36\",\"1970-01-01T11:40:36\",\"1970-01-01T12:22:16\",\"1970-01-01T12:22:16\",\"1970-01-01T12:22:16\",\"1970-01-01T14:57:52\",\"1970-01-01T14:57:52\",\"1970-01-01T15:39:32\",\"1970-01-01T15:39:32\",\"1970-01-01T15:39:32\",\"1970-01-01T18:41:52\",\"1970-01-01T18:41:52\",\"1970-01-01T19:23:32\",\"1970-01-01T19:23:32\",\"1970-01-01T19:23:32\",\"1970-01-01T22:25:52\",\"1970-01-01T22:25:52\",\"1970-01-01T23:07:32\",\"1970-01-01T23:07:32\",\"1970-01-01T23:07:32\",\"1970-01-01T01:49:12\",\"1970-01-01T01:49:12\",\"1970-01-01T02:30:52\",\"1970-01-01T02:30:52\",\"1970-01-01T02:30:52\",\"1970-01-01T05:06:20\",\"1970-01-01T05:06:20\",\"1970-01-01T05:48:00\",\"1970-01-01T05:48:00\",\"1970-01-01T05:48:00\",\"1970-01-01T08:23:28\",\"1970-01-01T08:23:28\",\"1970-01-01T09:05:08\",\"1970-01-01T09:05:08\",\"1970-01-01T09:05:08\",\"1970-01-01T11:40:36\",\"1970-01-01T11:40:36\",\"1970-01-01T12:22:16\",\"1970-01-01T12:22:16\",\"1970-01-01T12:22:16\",\"1970-01-01T14:57:52\",\"1970-01-01T14:57:52\",\"1970-01-01T15:39:32\",\"1970-01-01T15:39:32\",\"1970-01-01T15:39:32\",\"1970-01-01T18:41:52\",\"1970-01-01T18:41:52\",\"1970-01-01T19:23:32\",\"1970-01-01T19:23:32\",\"1970-01-01T19:23:32\",\"1970-01-01T22:25:52\",\"1970-01-01T22:25:52\",\"1970-01-01T23:07:32\",\"1970-01-01T23:07:32\",\"1970-01-01T23:07:32\"],\"y\":[\"from_site\",\"from_site\",\"from_site\",\"from_site\",null,\"from_site\",\"from_site\",\"from_site\",\"from_site\",null,\"from_site\",\"from_site\",\"from_site\",\"from_site\",null,\"from_site\",\"from_site\",\"from_site\",\"from_site\",null,\"from_site\",\"from_site\",\"from_site\",\"from_site\",null,\"from_site\",\"from_site\",\"from_site\",\"from_site\",null,\"from_site\",\"from_site\",\"from_site\",\"from_site\",null,\"cutter\",\"cutter\",\"cutter\",\"cutter\",null,\"cutter\",\"cutter\",\"cutter\",\"cutter\",null,\"cutter\",\"cutter\",\"cutter\",\"cutter\",null,\"cutter\",\"cutter\",\"cutter\",\"cutter\",null,\"cutter\",\"cutter\",\"cutter\",\"cutter\",null,\"cutter\",\"cutter\",\"cutter\",\"cutter\",null,\"cutter\",\"cutter\",\"cutter\",\"cutter\",null],\"type\":\"scatter\"},{\"connectgaps\":false,\"hoverinfo\":\"y+name\",\"line\":{\"color\":\"rgb(40,247,51)\",\"width\":10},\"mode\":\"lines\",\"name\":\"loading:barge_1\",\"x\":[\"1970-01-01T01:15:52\",\"1970-01-01T01:15:52\",\"1970-01-01T01:49:12\",\"1970-01-01T01:49:12\",\"1970-01-01T01:49:12\",\"1970-01-01T04:20:56\",\"1970-01-01T04:20:56\",\"1970-01-01T04:54:16\",\"1970-01-01T04:54:16\",\"1970-01-01T04:54:16\",\"1970-01-01T07:26:00\",\"1970-01-01T07:26:00\",\"1970-01-01T07:59:20\",\"1970-01-01T07:59:20\",\"1970-01-01T07:59:20\",\"1970-01-01T10:40:32\",\"1970-01-01T10:40:32\",\"1970-01-01T11:13:52\",\"1970-01-01T11:13:52\",\"1970-01-01T11:13:52\",\"1970-01-01T14:24:32\",\"1970-01-01T14:24:32\",\"1970-01-01T14:57:52\",\"1970-01-01T14:57:52\",\"1970-01-01T14:57:52\",\"1970-01-01T18:08:32\",\"1970-01-01T18:08:32\",\"1970-01-01T18:41:52\",\"1970-01-01T18:41:52\",\"1970-01-01T18:41:52\",\"1970-01-01T21:52:32\",\"1970-01-01T21:52:32\",\"1970-01-01T22:25:52\",\"1970-01-01T22:25:52\",\"1970-01-01T22:25:52\",\"1970-01-02T01:36:32\",\"1970-01-02T01:36:32\",\"1970-01-02T02:09:52\",\"1970-01-02T02:09:52\",\"1970-01-02T02:09:52\",\"1970-01-01T01:15:52\",\"1970-01-01T01:15:52\",\"1970-01-01T01:49:12\",\"1970-01-01T01:49:12\",\"1970-01-01T01:49:12\",\"1970-01-01T04:20:56\",\"1970-01-01T04:20:56\",\"1970-01-01T04:54:16\",\"1970-01-01T04:54:16\",\"1970-01-01T04:54:16\",\"1970-01-01T07:26:00\",\"1970-01-01T07:26:00\",\"1970-01-01T07:59:20\",\"1970-01-01T07:59:20\",\"1970-01-01T07:59:20\",\"1970-01-01T10:40:32\",\"1970-01-01T10:40:32\",\"1970-01-01T11:13:52\",\"1970-01-01T11:13:52\",\"1970-01-01T11:13:52\",\"1970-01-01T14:24:32\",\"1970-01-01T14:24:32\",\"1970-01-01T14:57:52\",\"1970-01-01T14:57:52\",\"1970-01-01T14:57:52\",\"1970-01-01T18:08:32\",\"1970-01-01T18:08:32\",\"1970-01-01T18:41:52\",\"1970-01-01T18:41:52\",\"1970-01-01T18:41:52\",\"1970-01-01T21:52:32\",\"1970-01-01T21:52:32\",\"1970-01-01T22:25:52\",\"1970-01-01T22:25:52\",\"1970-01-01T22:25:52\",\"1970-01-02T01:36:32\",\"1970-01-02T01:36:32\",\"1970-01-02T02:09:52\",\"1970-01-02T02:09:52\",\"1970-01-02T02:09:52\"],\"y\":[\"from_site\",\"from_site\",\"from_site\",\"from_site\",null,\"from_site\",\"from_site\",\"from_site\",\"from_site\",null,\"from_site\",\"from_site\",\"from_site\",\"from_site\",null,\"from_site\",\"from_site\",\"from_site\",\"from_site\",null,\"from_site\",\"from_site\",\"from_site\",\"from_site\",null,\"from_site\",\"from_site\",\"from_site\",\"from_site\",null,\"from_site\",\"from_site\",\"from_site\",\"from_site\",null,\"from_site\",\"from_site\",\"from_site\",\"from_site\",null,\"cutter\",\"cutter\",\"cutter\",\"cutter\",null,\"cutter\",\"cutter\",\"cutter\",\"cutter\",null,\"cutter\",\"cutter\",\"cutter\",\"cutter\",null,\"cutter\",\"cutter\",\"cutter\",\"cutter\",null,\"cutter\",\"cutter\",\"cutter\",\"cutter\",null,\"cutter\",\"cutter\",\"cutter\",\"cutter\",null,\"cutter\",\"cutter\",\"cutter\",\"cutter\",null,\"cutter\",\"cutter\",\"cutter\",\"cutter\",null],\"type\":\"scatter\"},{\"connectgaps\":false,\"hoverinfo\":\"y+name\",\"line\":{\"color\":\"rgb(68,19,79)\",\"width\":10},\"mode\":\"lines\",\"name\":\"loading:barge_0\",\"x\":[\"1970-01-01T02:30:52\",\"1970-01-01T02:30:52\",\"1970-01-01T03:12:32\",\"1970-01-01T03:12:32\",\"1970-01-01T03:12:32\",\"1970-01-01T06:14:52\",\"1970-01-01T06:14:52\",\"1970-01-01T06:56:32\",\"1970-01-01T06:56:32\",\"1970-01-01T06:56:32\",\"1970-01-01T09:58:52\",\"1970-01-01T09:58:52\",\"1970-01-01T10:40:32\",\"1970-01-01T10:40:32\",\"1970-01-01T10:40:32\",\"1970-01-01T13:42:52\",\"1970-01-01T13:42:52\",\"1970-01-01T14:24:32\",\"1970-01-01T14:24:32\",\"1970-01-01T14:24:32\",\"1970-01-01T17:26:52\",\"1970-01-01T17:26:52\",\"1970-01-01T18:08:32\",\"1970-01-01T18:08:32\",\"1970-01-01T18:08:32\",\"1970-01-01T21:10:52\",\"1970-01-01T21:10:52\",\"1970-01-01T21:52:32\",\"1970-01-01T21:52:32\",\"1970-01-01T21:52:32\",\"1970-01-02T00:54:52\",\"1970-01-02T00:54:52\",\"1970-01-02T01:36:32\",\"1970-01-02T01:36:32\",\"1970-01-02T01:36:32\",\"1970-01-01T02:30:52\",\"1970-01-01T02:30:52\",\"1970-01-01T03:12:32\",\"1970-01-01T03:12:32\",\"1970-01-01T03:12:32\",\"1970-01-01T06:14:52\",\"1970-01-01T06:14:52\",\"1970-01-01T06:56:32\",\"1970-01-01T06:56:32\",\"1970-01-01T06:56:32\",\"1970-01-01T09:58:52\",\"1970-01-01T09:58:52\",\"1970-01-01T10:40:32\",\"1970-01-01T10:40:32\",\"1970-01-01T10:40:32\",\"1970-01-01T13:42:52\",\"1970-01-01T13:42:52\",\"1970-01-01T14:24:32\",\"1970-01-01T14:24:32\",\"1970-01-01T14:24:32\",\"1970-01-01T17:26:52\",\"1970-01-01T17:26:52\",\"1970-01-01T18:08:32\",\"1970-01-01T18:08:32\",\"1970-01-01T18:08:32\",\"1970-01-01T21:10:52\",\"1970-01-01T21:10:52\",\"1970-01-01T21:52:32\",\"1970-01-01T21:52:32\",\"1970-01-01T21:52:32\",\"1970-01-02T00:54:52\",\"1970-01-02T00:54:52\",\"1970-01-02T01:36:32\",\"1970-01-02T01:36:32\",\"1970-01-02T01:36:32\"],\"y\":[\"from_site\",\"from_site\",\"from_site\",\"from_site\",null,\"from_site\",\"from_site\",\"from_site\",\"from_site\",null,\"from_site\",\"from_site\",\"from_site\",\"from_site\",null,\"from_site\",\"from_site\",\"from_site\",\"from_site\",null,\"from_site\",\"from_site\",\"from_site\",\"from_site\",null,\"from_site\",\"from_site\",\"from_site\",\"from_site\",null,\"from_site\",\"from_site\",\"from_site\",\"from_site\",null,\"cutter\",\"cutter\",\"cutter\",\"cutter\",null,\"cutter\",\"cutter\",\"cutter\",\"cutter\",null,\"cutter\",\"cutter\",\"cutter\",\"cutter\",null,\"cutter\",\"cutter\",\"cutter\",\"cutter\",null,\"cutter\",\"cutter\",\"cutter\",\"cutter\",null,\"cutter\",\"cutter\",\"cutter\",\"cutter\",null,\"cutter\",\"cutter\",\"cutter\",\"cutter\",null],\"type\":\"scatter\"},{\"connectgaps\":false,\"hoverinfo\":\"y+name\",\"line\":{\"color\":\"rgb(96,47,107)\",\"width\":10},\"mode\":\"lines\",\"name\":\"unloading:barge_2\",\"x\":[\"1970-01-01T03:09:44\",\"1970-01-01T03:09:44\",\"1970-01-01T03:48:36\",\"1970-01-01T03:48:36\",\"1970-01-01T03:48:36\",\"1970-01-01T06:26:52\",\"1970-01-01T06:26:52\",\"1970-01-01T07:05:44\",\"1970-01-01T07:05:44\",\"1970-01-01T07:05:44\",\"1970-01-01T09:44:00\",\"1970-01-01T09:44:00\",\"1970-01-01T10:22:52\",\"1970-01-01T10:22:52\",\"1970-01-01T10:22:52\",\"1970-01-01T13:01:08\",\"1970-01-01T13:01:08\",\"1970-01-01T13:40:00\",\"1970-01-01T13:40:00\",\"1970-01-01T13:40:00\",\"1970-01-01T16:18:24\",\"1970-01-01T16:18:24\",\"1970-01-01T16:57:16\",\"1970-01-01T16:57:16\",\"1970-01-01T16:57:16\",\"1970-01-01T20:02:24\",\"1970-01-01T20:02:24\",\"1970-01-01T20:41:16\",\"1970-01-01T20:41:16\",\"1970-01-01T20:41:16\",\"1970-01-01T23:46:24\",\"1970-01-01T23:46:24\",\"1970-01-02T00:25:16\",\"1970-01-02T00:25:16\",\"1970-01-02T00:25:16\"],\"y\":[\"to_site\",\"to_site\",\"to_site\",\"to_site\",null,\"to_site\",\"to_site\",\"to_site\",\"to_site\",null,\"to_site\",\"to_site\",\"to_site\",\"to_site\",null,\"to_site\",\"to_site\",\"to_site\",\"to_site\",null,\"to_site\",\"to_site\",\"to_site\",\"to_site\",null,\"to_site\",\"to_site\",\"to_site\",\"to_site\",null,\"to_site\",\"to_site\",\"to_site\",\"to_site\",null],\"type\":\"scatter\"},{\"connectgaps\":false,\"hoverinfo\":\"y+name\",\"line\":{\"color\":\"rgb(124,75,135)\",\"width\":10},\"mode\":\"lines\",\"name\":\"unloading:barge_1\",\"x\":[\"1970-01-01T02:27:08\",\"1970-01-01T02:27:08\",\"1970-01-01T03:05:04\",\"1970-01-01T03:05:04\",\"1970-01-01T03:05:04\",\"1970-01-01T05:32:12\",\"1970-01-01T05:32:12\",\"1970-01-01T06:10:08\",\"1970-01-01T06:10:08\",\"1970-01-01T06:10:08\",\"1970-01-01T08:37:16\",\"1970-01-01T08:37:16\",\"1970-01-01T09:15:12\",\"1970-01-01T09:15:12\",\"1970-01-01T09:15:12\",\"1970-01-01T11:51:48\",\"1970-01-01T11:51:48\",\"1970-01-01T12:29:44\",\"1970-01-01T12:29:44\",\"1970-01-01T12:29:44\",\"1970-01-01T15:35:48\",\"1970-01-01T15:35:48\",\"1970-01-01T16:13:44\",\"1970-01-01T16:13:44\",\"1970-01-01T16:13:44\",\"1970-01-01T19:19:48\",\"1970-01-01T19:19:48\",\"1970-01-01T19:57:44\",\"1970-01-01T19:57:44\",\"1970-01-01T19:57:44\",\"1970-01-01T23:03:48\",\"1970-01-01T23:03:48\",\"1970-01-01T23:41:44\",\"1970-01-01T23:41:44\",\"1970-01-01T23:41:44\",\"1970-01-02T02:47:48\",\"1970-01-02T02:47:48\",\"1970-01-02T03:25:44\",\"1970-01-02T03:25:44\",\"1970-01-02T03:25:44\"],\"y\":[\"to_site\",\"to_site\",\"to_site\",\"to_site\",null,\"to_site\",\"to_site\",\"to_site\",\"to_site\",null,\"to_site\",\"to_site\",\"to_site\",\"to_site\",null,\"to_site\",\"to_site\",\"to_site\",\"to_site\",null,\"to_site\",\"to_site\",\"to_site\",\"to_site\",null,\"to_site\",\"to_site\",\"to_site\",\"to_site\",null,\"to_site\",\"to_site\",\"to_site\",\"to_site\",null,\"to_site\",\"to_site\",\"to_site\",\"to_site\",null],\"type\":\"scatter\"},{\"connectgaps\":false,\"hoverinfo\":\"y+name\",\"line\":{\"color\":\"rgb(152,103,163)\",\"width\":10},\"mode\":\"lines\",\"name\":\"unloading:barge_0\",\"x\":[\"1970-01-01T03:58:07\",\"1970-01-01T03:58:07\",\"1970-01-01T04:43:42\",\"1970-01-01T04:43:42\",\"1970-01-01T04:43:42\",\"1970-01-01T07:42:07\",\"1970-01-01T07:42:07\",\"1970-01-01T08:27:42\",\"1970-01-01T08:27:42\",\"1970-01-01T08:27:42\",\"1970-01-01T11:26:07\",\"1970-01-01T11:26:07\",\"1970-01-01T12:11:42\",\"1970-01-01T12:11:42\",\"1970-01-01T12:11:42\",\"1970-01-01T15:10:07\",\"1970-01-01T15:10:07\",\"1970-01-01T15:55:42\",\"1970-01-01T15:55:42\",\"1970-01-01T15:55:42\",\"1970-01-01T18:54:07\",\"1970-01-01T18:54:07\",\"1970-01-01T19:39:42\",\"1970-01-01T19:39:42\",\"1970-01-01T19:39:42\",\"1970-01-01T22:38:07\",\"1970-01-01T22:38:07\",\"1970-01-01T23:23:42\",\"1970-01-01T23:23:42\",\"1970-01-01T23:23:42\",\"1970-01-02T02:22:07\",\"1970-01-02T02:22:07\",\"1970-01-02T03:07:42\",\"1970-01-02T03:07:42\",\"1970-01-02T03:07:42\"],\"y\":[\"to_site\",\"to_site\",\"to_site\",\"to_site\",null,\"to_site\",\"to_site\",\"to_site\",\"to_site\",null,\"to_site\",\"to_site\",\"to_site\",\"to_site\",null,\"to_site\",\"to_site\",\"to_site\",\"to_site\",null,\"to_site\",\"to_site\",\"to_site\",\"to_site\",null,\"to_site\",\"to_site\",\"to_site\",\"to_site\",null,\"to_site\",\"to_site\",\"to_site\",\"to_site\",null],\"type\":\"scatter\"},{\"connectgaps\":false,\"hoverinfo\":\"y+name\",\"line\":{\"color\":\"rgb(180,131,191)\",\"width\":10},\"mode\":\"lines\",\"name\":\"loading:barge_2\",\"x\":[\"1970-01-01T01:49:12\",\"1970-01-01T01:49:12\",\"1970-01-01T02:30:52\",\"1970-01-01T02:30:52\",\"1970-01-01T02:30:52\",\"1970-01-01T05:06:20\",\"1970-01-01T05:06:20\",\"1970-01-01T05:48:00\",\"1970-01-01T05:48:00\",\"1970-01-01T05:48:00\",\"1970-01-01T08:23:28\",\"1970-01-01T08:23:28\",\"1970-01-01T09:05:08\",\"1970-01-01T09:05:08\",\"1970-01-01T09:05:08\",\"1970-01-01T11:40:36\",\"1970-01-01T11:40:36\",\"1970-01-01T12:22:16\",\"1970-01-01T12:22:16\",\"1970-01-01T12:22:16\",\"1970-01-01T14:57:52\",\"1970-01-01T14:57:52\",\"1970-01-01T15:39:32\",\"1970-01-01T15:39:32\",\"1970-01-01T15:39:32\",\"1970-01-01T18:41:52\",\"1970-01-01T18:41:52\",\"1970-01-01T19:23:32\",\"1970-01-01T19:23:32\",\"1970-01-01T19:23:32\",\"1970-01-01T22:25:52\",\"1970-01-01T22:25:52\",\"1970-01-01T23:07:32\",\"1970-01-01T23:07:32\",\"1970-01-01T23:07:32\",\"1970-01-01T01:49:12\",\"1970-01-01T01:49:12\",\"1970-01-01T02:30:52\",\"1970-01-01T02:30:52\",\"1970-01-01T02:30:52\",\"1970-01-01T05:06:20\",\"1970-01-01T05:06:20\",\"1970-01-01T05:48:00\",\"1970-01-01T05:48:00\",\"1970-01-01T05:48:00\",\"1970-01-01T08:23:28\",\"1970-01-01T08:23:28\",\"1970-01-01T09:05:08\",\"1970-01-01T09:05:08\",\"1970-01-01T09:05:08\",\"1970-01-01T11:40:36\",\"1970-01-01T11:40:36\",\"1970-01-01T12:22:16\",\"1970-01-01T12:22:16\",\"1970-01-01T12:22:16\",\"1970-01-01T14:57:52\",\"1970-01-01T14:57:52\",\"1970-01-01T15:39:32\",\"1970-01-01T15:39:32\",\"1970-01-01T15:39:32\",\"1970-01-01T18:41:52\",\"1970-01-01T18:41:52\",\"1970-01-01T19:23:32\",\"1970-01-01T19:23:32\",\"1970-01-01T19:23:32\",\"1970-01-01T22:25:52\",\"1970-01-01T22:25:52\",\"1970-01-01T23:07:32\",\"1970-01-01T23:07:32\",\"1970-01-01T23:07:32\"],\"y\":[\"from_site\",\"from_site\",\"from_site\",\"from_site\",null,\"from_site\",\"from_site\",\"from_site\",\"from_site\",null,\"from_site\",\"from_site\",\"from_site\",\"from_site\",null,\"from_site\",\"from_site\",\"from_site\",\"from_site\",null,\"from_site\",\"from_site\",\"from_site\",\"from_site\",null,\"from_site\",\"from_site\",\"from_site\",\"from_site\",null,\"from_site\",\"from_site\",\"from_site\",\"from_site\",null,\"cutter\",\"cutter\",\"cutter\",\"cutter\",null,\"cutter\",\"cutter\",\"cutter\",\"cutter\",null,\"cutter\",\"cutter\",\"cutter\",\"cutter\",null,\"cutter\",\"cutter\",\"cutter\",\"cutter\",null,\"cutter\",\"cutter\",\"cutter\",\"cutter\",null,\"cutter\",\"cutter\",\"cutter\",\"cutter\",null,\"cutter\",\"cutter\",\"cutter\",\"cutter\",null],\"type\":\"scatter\"},{\"connectgaps\":false,\"hoverinfo\":\"y+name\",\"line\":{\"color\":\"rgb(208,159,219)\",\"width\":10},\"mode\":\"lines\",\"name\":\"loading:barge_1\",\"x\":[\"1970-01-01T01:15:52\",\"1970-01-01T01:15:52\",\"1970-01-01T01:49:12\",\"1970-01-01T01:49:12\",\"1970-01-01T01:49:12\",\"1970-01-01T04:20:56\",\"1970-01-01T04:20:56\",\"1970-01-01T04:54:16\",\"1970-01-01T04:54:16\",\"1970-01-01T04:54:16\",\"1970-01-01T07:26:00\",\"1970-01-01T07:26:00\",\"1970-01-01T07:59:20\",\"1970-01-01T07:59:20\",\"1970-01-01T07:59:20\",\"1970-01-01T10:40:32\",\"1970-01-01T10:40:32\",\"1970-01-01T11:13:52\",\"1970-01-01T11:13:52\",\"1970-01-01T11:13:52\",\"1970-01-01T14:24:32\",\"1970-01-01T14:24:32\",\"1970-01-01T14:57:52\",\"1970-01-01T14:57:52\",\"1970-01-01T14:57:52\",\"1970-01-01T18:08:32\",\"1970-01-01T18:08:32\",\"1970-01-01T18:41:52\",\"1970-01-01T18:41:52\",\"1970-01-01T18:41:52\",\"1970-01-01T21:52:32\",\"1970-01-01T21:52:32\",\"1970-01-01T22:25:52\",\"1970-01-01T22:25:52\",\"1970-01-01T22:25:52\",\"1970-01-02T01:36:32\",\"1970-01-02T01:36:32\",\"1970-01-02T02:09:52\",\"1970-01-02T02:09:52\",\"1970-01-02T02:09:52\",\"1970-01-01T01:15:52\",\"1970-01-01T01:15:52\",\"1970-01-01T01:49:12\",\"1970-01-01T01:49:12\",\"1970-01-01T01:49:12\",\"1970-01-01T04:20:56\",\"1970-01-01T04:20:56\",\"1970-01-01T04:54:16\",\"1970-01-01T04:54:16\",\"1970-01-01T04:54:16\",\"1970-01-01T07:26:00\",\"1970-01-01T07:26:00\",\"1970-01-01T07:59:20\",\"1970-01-01T07:59:20\",\"1970-01-01T07:59:20\",\"1970-01-01T10:40:32\",\"1970-01-01T10:40:32\",\"1970-01-01T11:13:52\",\"1970-01-01T11:13:52\",\"1970-01-01T11:13:52\",\"1970-01-01T14:24:32\",\"1970-01-01T14:24:32\",\"1970-01-01T14:57:52\",\"1970-01-01T14:57:52\",\"1970-01-01T14:57:52\",\"1970-01-01T18:08:32\",\"1970-01-01T18:08:32\",\"1970-01-01T18:41:52\",\"1970-01-01T18:41:52\",\"1970-01-01T18:41:52\",\"1970-01-01T21:52:32\",\"1970-01-01T21:52:32\",\"1970-01-01T22:25:52\",\"1970-01-01T22:25:52\",\"1970-01-01T22:25:52\",\"1970-01-02T01:36:32\",\"1970-01-02T01:36:32\",\"1970-01-02T02:09:52\",\"1970-01-02T02:09:52\",\"1970-01-02T02:09:52\"],\"y\":[\"from_site\",\"from_site\",\"from_site\",\"from_site\",null,\"from_site\",\"from_site\",\"from_site\",\"from_site\",null,\"from_site\",\"from_site\",\"from_site\",\"from_site\",null,\"from_site\",\"from_site\",\"from_site\",\"from_site\",null,\"from_site\",\"from_site\",\"from_site\",\"from_site\",null,\"from_site\",\"from_site\",\"from_site\",\"from_site\",null,\"from_site\",\"from_site\",\"from_site\",\"from_site\",null,\"from_site\",\"from_site\",\"from_site\",\"from_site\",null,\"cutter\",\"cutter\",\"cutter\",\"cutter\",null,\"cutter\",\"cutter\",\"cutter\",\"cutter\",null,\"cutter\",\"cutter\",\"cutter\",\"cutter\",null,\"cutter\",\"cutter\",\"cutter\",\"cutter\",null,\"cutter\",\"cutter\",\"cutter\",\"cutter\",null,\"cutter\",\"cutter\",\"cutter\",\"cutter\",null,\"cutter\",\"cutter\",\"cutter\",\"cutter\",null,\"cutter\",\"cutter\",\"cutter\",\"cutter\",null],\"type\":\"scatter\"},{\"connectgaps\":false,\"hoverinfo\":\"y+name\",\"line\":{\"color\":\"rgb(236,187,247)\",\"width\":10},\"mode\":\"lines\",\"name\":\"loading:barge_0\",\"x\":[\"1970-01-01T02:30:52\",\"1970-01-01T02:30:52\",\"1970-01-01T03:12:32\",\"1970-01-01T03:12:32\",\"1970-01-01T03:12:32\",\"1970-01-01T06:14:52\",\"1970-01-01T06:14:52\",\"1970-01-01T06:56:32\",\"1970-01-01T06:56:32\",\"1970-01-01T06:56:32\",\"1970-01-01T09:58:52\",\"1970-01-01T09:58:52\",\"1970-01-01T10:40:32\",\"1970-01-01T10:40:32\",\"1970-01-01T10:40:32\",\"1970-01-01T13:42:52\",\"1970-01-01T13:42:52\",\"1970-01-01T14:24:32\",\"1970-01-01T14:24:32\",\"1970-01-01T14:24:32\",\"1970-01-01T17:26:52\",\"1970-01-01T17:26:52\",\"1970-01-01T18:08:32\",\"1970-01-01T18:08:32\",\"1970-01-01T18:08:32\",\"1970-01-01T21:10:52\",\"1970-01-01T21:10:52\",\"1970-01-01T21:52:32\",\"1970-01-01T21:52:32\",\"1970-01-01T21:52:32\",\"1970-01-02T00:54:52\",\"1970-01-02T00:54:52\",\"1970-01-02T01:36:32\",\"1970-01-02T01:36:32\",\"1970-01-02T01:36:32\",\"1970-01-01T02:30:52\",\"1970-01-01T02:30:52\",\"1970-01-01T03:12:32\",\"1970-01-01T03:12:32\",\"1970-01-01T03:12:32\",\"1970-01-01T06:14:52\",\"1970-01-01T06:14:52\",\"1970-01-01T06:56:32\",\"1970-01-01T06:56:32\",\"1970-01-01T06:56:32\",\"1970-01-01T09:58:52\",\"1970-01-01T09:58:52\",\"1970-01-01T10:40:32\",\"1970-01-01T10:40:32\",\"1970-01-01T10:40:32\",\"1970-01-01T13:42:52\",\"1970-01-01T13:42:52\",\"1970-01-01T14:24:32\",\"1970-01-01T14:24:32\",\"1970-01-01T14:24:32\",\"1970-01-01T17:26:52\",\"1970-01-01T17:26:52\",\"1970-01-01T18:08:32\",\"1970-01-01T18:08:32\",\"1970-01-01T18:08:32\",\"1970-01-01T21:10:52\",\"1970-01-01T21:10:52\",\"1970-01-01T21:52:32\",\"1970-01-01T21:52:32\",\"1970-01-01T21:52:32\",\"1970-01-02T00:54:52\",\"1970-01-02T00:54:52\",\"1970-01-02T01:36:32\",\"1970-01-02T01:36:32\",\"1970-01-02T01:36:32\"],\"y\":[\"from_site\",\"from_site\",\"from_site\",\"from_site\",null,\"from_site\",\"from_site\",\"from_site\",\"from_site\",null,\"from_site\",\"from_site\",\"from_site\",\"from_site\",null,\"from_site\",\"from_site\",\"from_site\",\"from_site\",null,\"from_site\",\"from_site\",\"from_site\",\"from_site\",null,\"from_site\",\"from_site\",\"from_site\",\"from_site\",null,\"from_site\",\"from_site\",\"from_site\",\"from_site\",null,\"cutter\",\"cutter\",\"cutter\",\"cutter\",null,\"cutter\",\"cutter\",\"cutter\",\"cutter\",null,\"cutter\",\"cutter\",\"cutter\",\"cutter\",null,\"cutter\",\"cutter\",\"cutter\",\"cutter\",null,\"cutter\",\"cutter\",\"cutter\",\"cutter\",null,\"cutter\",\"cutter\",\"cutter\",\"cutter\",null,\"cutter\",\"cutter\",\"cutter\",\"cutter\",null],\"type\":\"scatter\"}],                        {\"hovermode\":\"closest\",\"legend\":{\"orientation\":\"h\",\"x\":0,\"y\":-0.2},\"template\":{\"data\":{\"barpolar\":[{\"marker\":{\"line\":{\"color\":\"#E5ECF6\",\"width\":0.5},\"pattern\":{\"fillmode\":\"overlay\",\"size\":10,\"solidity\":0.2}},\"type\":\"barpolar\"}],\"bar\":[{\"error_x\":{\"color\":\"#2a3f5f\"},\"error_y\":{\"color\":\"#2a3f5f\"},\"marker\":{\"line\":{\"color\":\"#E5ECF6\",\"width\":0.5},\"pattern\":{\"fillmode\":\"overlay\",\"size\":10,\"solidity\":0.2}},\"type\":\"bar\"}],\"carpet\":[{\"aaxis\":{\"endlinecolor\":\"#2a3f5f\",\"gridcolor\":\"white\",\"linecolor\":\"white\",\"minorgridcolor\":\"white\",\"startlinecolor\":\"#2a3f5f\"},\"baxis\":{\"endlinecolor\":\"#2a3f5f\",\"gridcolor\":\"white\",\"linecolor\":\"white\",\"minorgridcolor\":\"white\",\"startlinecolor\":\"#2a3f5f\"},\"type\":\"carpet\"}],\"choropleth\":[{\"colorbar\":{\"outlinewidth\":0,\"ticks\":\"\"},\"type\":\"choropleth\"}],\"contourcarpet\":[{\"colorbar\":{\"outlinewidth\":0,\"ticks\":\"\"},\"type\":\"contourcarpet\"}],\"contour\":[{\"colorbar\":{\"outlinewidth\":0,\"ticks\":\"\"},\"colorscale\":[[0.0,\"#0d0887\"],[0.1111111111111111,\"#46039f\"],[0.2222222222222222,\"#7201a8\"],[0.3333333333333333,\"#9c179e\"],[0.4444444444444444,\"#bd3786\"],[0.5555555555555556,\"#d8576b\"],[0.6666666666666666,\"#ed7953\"],[0.7777777777777778,\"#fb9f3a\"],[0.8888888888888888,\"#fdca26\"],[1.0,\"#f0f921\"]],\"type\":\"contour\"}],\"heatmapgl\":[{\"colorbar\":{\"outlinewidth\":0,\"ticks\":\"\"},\"colorscale\":[[0.0,\"#0d0887\"],[0.1111111111111111,\"#46039f\"],[0.2222222222222222,\"#7201a8\"],[0.3333333333333333,\"#9c179e\"],[0.4444444444444444,\"#bd3786\"],[0.5555555555555556,\"#d8576b\"],[0.6666666666666666,\"#ed7953\"],[0.7777777777777778,\"#fb9f3a\"],[0.8888888888888888,\"#fdca26\"],[1.0,\"#f0f921\"]],\"type\":\"heatmapgl\"}],\"heatmap\":[{\"colorbar\":{\"outlinewidth\":0,\"ticks\":\"\"},\"colorscale\":[[0.0,\"#0d0887\"],[0.1111111111111111,\"#46039f\"],[0.2222222222222222,\"#7201a8\"],[0.3333333333333333,\"#9c179e\"],[0.4444444444444444,\"#bd3786\"],[0.5555555555555556,\"#d8576b\"],[0.6666666666666666,\"#ed7953\"],[0.7777777777777778,\"#fb9f3a\"],[0.8888888888888888,\"#fdca26\"],[1.0,\"#f0f921\"]],\"type\":\"heatmap\"}],\"histogram2dcontour\":[{\"colorbar\":{\"outlinewidth\":0,\"ticks\":\"\"},\"colorscale\":[[0.0,\"#0d0887\"],[0.1111111111111111,\"#46039f\"],[0.2222222222222222,\"#7201a8\"],[0.3333333333333333,\"#9c179e\"],[0.4444444444444444,\"#bd3786\"],[0.5555555555555556,\"#d8576b\"],[0.6666666666666666,\"#ed7953\"],[0.7777777777777778,\"#fb9f3a\"],[0.8888888888888888,\"#fdca26\"],[1.0,\"#f0f921\"]],\"type\":\"histogram2dcontour\"}],\"histogram2d\":[{\"colorbar\":{\"outlinewidth\":0,\"ticks\":\"\"},\"colorscale\":[[0.0,\"#0d0887\"],[0.1111111111111111,\"#46039f\"],[0.2222222222222222,\"#7201a8\"],[0.3333333333333333,\"#9c179e\"],[0.4444444444444444,\"#bd3786\"],[0.5555555555555556,\"#d8576b\"],[0.6666666666666666,\"#ed7953\"],[0.7777777777777778,\"#fb9f3a\"],[0.8888888888888888,\"#fdca26\"],[1.0,\"#f0f921\"]],\"type\":\"histogram2d\"}],\"histogram\":[{\"marker\":{\"pattern\":{\"fillmode\":\"overlay\",\"size\":10,\"solidity\":0.2}},\"type\":\"histogram\"}],\"mesh3d\":[{\"colorbar\":{\"outlinewidth\":0,\"ticks\":\"\"},\"type\":\"mesh3d\"}],\"parcoords\":[{\"line\":{\"colorbar\":{\"outlinewidth\":0,\"ticks\":\"\"}},\"type\":\"parcoords\"}],\"pie\":[{\"automargin\":true,\"type\":\"pie\"}],\"scatter3d\":[{\"line\":{\"colorbar\":{\"outlinewidth\":0,\"ticks\":\"\"}},\"marker\":{\"colorbar\":{\"outlinewidth\":0,\"ticks\":\"\"}},\"type\":\"scatter3d\"}],\"scattercarpet\":[{\"marker\":{\"colorbar\":{\"outlinewidth\":0,\"ticks\":\"\"}},\"type\":\"scattercarpet\"}],\"scattergeo\":[{\"marker\":{\"colorbar\":{\"outlinewidth\":0,\"ticks\":\"\"}},\"type\":\"scattergeo\"}],\"scattergl\":[{\"marker\":{\"colorbar\":{\"outlinewidth\":0,\"ticks\":\"\"}},\"type\":\"scattergl\"}],\"scattermapbox\":[{\"marker\":{\"colorbar\":{\"outlinewidth\":0,\"ticks\":\"\"}},\"type\":\"scattermapbox\"}],\"scatterpolargl\":[{\"marker\":{\"colorbar\":{\"outlinewidth\":0,\"ticks\":\"\"}},\"type\":\"scatterpolargl\"}],\"scatterpolar\":[{\"marker\":{\"colorbar\":{\"outlinewidth\":0,\"ticks\":\"\"}},\"type\":\"scatterpolar\"}],\"scatter\":[{\"marker\":{\"colorbar\":{\"outlinewidth\":0,\"ticks\":\"\"}},\"type\":\"scatter\"}],\"scatterternary\":[{\"marker\":{\"colorbar\":{\"outlinewidth\":0,\"ticks\":\"\"}},\"type\":\"scatterternary\"}],\"surface\":[{\"colorbar\":{\"outlinewidth\":0,\"ticks\":\"\"},\"colorscale\":[[0.0,\"#0d0887\"],[0.1111111111111111,\"#46039f\"],[0.2222222222222222,\"#7201a8\"],[0.3333333333333333,\"#9c179e\"],[0.4444444444444444,\"#bd3786\"],[0.5555555555555556,\"#d8576b\"],[0.6666666666666666,\"#ed7953\"],[0.7777777777777778,\"#fb9f3a\"],[0.8888888888888888,\"#fdca26\"],[1.0,\"#f0f921\"]],\"type\":\"surface\"}],\"table\":[{\"cells\":{\"fill\":{\"color\":\"#EBF0F8\"},\"line\":{\"color\":\"white\"}},\"header\":{\"fill\":{\"color\":\"#C8D4E3\"},\"line\":{\"color\":\"white\"}},\"type\":\"table\"}]},\"layout\":{\"annotationdefaults\":{\"arrowcolor\":\"#2a3f5f\",\"arrowhead\":0,\"arrowwidth\":1},\"autotypenumbers\":\"strict\",\"coloraxis\":{\"colorbar\":{\"outlinewidth\":0,\"ticks\":\"\"}},\"colorscale\":{\"diverging\":[[0,\"#8e0152\"],[0.1,\"#c51b7d\"],[0.2,\"#de77ae\"],[0.3,\"#f1b6da\"],[0.4,\"#fde0ef\"],[0.5,\"#f7f7f7\"],[0.6,\"#e6f5d0\"],[0.7,\"#b8e186\"],[0.8,\"#7fbc41\"],[0.9,\"#4d9221\"],[1,\"#276419\"]],\"sequential\":[[0.0,\"#0d0887\"],[0.1111111111111111,\"#46039f\"],[0.2222222222222222,\"#7201a8\"],[0.3333333333333333,\"#9c179e\"],[0.4444444444444444,\"#bd3786\"],[0.5555555555555556,\"#d8576b\"],[0.6666666666666666,\"#ed7953\"],[0.7777777777777778,\"#fb9f3a\"],[0.8888888888888888,\"#fdca26\"],[1.0,\"#f0f921\"]],\"sequentialminus\":[[0.0,\"#0d0887\"],[0.1111111111111111,\"#46039f\"],[0.2222222222222222,\"#7201a8\"],[0.3333333333333333,\"#9c179e\"],[0.4444444444444444,\"#bd3786\"],[0.5555555555555556,\"#d8576b\"],[0.6666666666666666,\"#ed7953\"],[0.7777777777777778,\"#fb9f3a\"],[0.8888888888888888,\"#fdca26\"],[1.0,\"#f0f921\"]]},\"colorway\":[\"#636efa\",\"#EF553B\",\"#00cc96\",\"#ab63fa\",\"#FFA15A\",\"#19d3f3\",\"#FF6692\",\"#B6E880\",\"#FF97FF\",\"#FECB52\"],\"font\":{\"color\":\"#2a3f5f\"},\"geo\":{\"bgcolor\":\"white\",\"lakecolor\":\"white\",\"landcolor\":\"#E5ECF6\",\"showlakes\":true,\"showland\":true,\"subunitcolor\":\"white\"},\"hoverlabel\":{\"align\":\"left\"},\"hovermode\":\"closest\",\"mapbox\":{\"style\":\"light\"},\"paper_bgcolor\":\"white\",\"plot_bgcolor\":\"#E5ECF6\",\"polar\":{\"angularaxis\":{\"gridcolor\":\"white\",\"linecolor\":\"white\",\"ticks\":\"\"},\"bgcolor\":\"#E5ECF6\",\"radialaxis\":{\"gridcolor\":\"white\",\"linecolor\":\"white\",\"ticks\":\"\"}},\"scene\":{\"xaxis\":{\"backgroundcolor\":\"#E5ECF6\",\"gridcolor\":\"white\",\"gridwidth\":2,\"linecolor\":\"white\",\"showbackground\":true,\"ticks\":\"\",\"zerolinecolor\":\"white\"},\"yaxis\":{\"backgroundcolor\":\"#E5ECF6\",\"gridcolor\":\"white\",\"gridwidth\":2,\"linecolor\":\"white\",\"showbackground\":true,\"ticks\":\"\",\"zerolinecolor\":\"white\"},\"zaxis\":{\"backgroundcolor\":\"#E5ECF6\",\"gridcolor\":\"white\",\"gridwidth\":2,\"linecolor\":\"white\",\"showbackground\":true,\"ticks\":\"\",\"zerolinecolor\":\"white\"}},\"shapedefaults\":{\"line\":{\"color\":\"#2a3f5f\"}},\"ternary\":{\"aaxis\":{\"gridcolor\":\"white\",\"linecolor\":\"white\",\"ticks\":\"\"},\"baxis\":{\"gridcolor\":\"white\",\"linecolor\":\"white\",\"ticks\":\"\"},\"bgcolor\":\"#E5ECF6\",\"caxis\":{\"gridcolor\":\"white\",\"linecolor\":\"white\",\"ticks\":\"\"}},\"title\":{\"x\":0.05},\"xaxis\":{\"automargin\":true,\"gridcolor\":\"white\",\"linecolor\":\"white\",\"ticks\":\"\",\"title\":{\"standoff\":15},\"zerolinecolor\":\"white\",\"zerolinewidth\":2},\"yaxis\":{\"automargin\":true,\"gridcolor\":\"white\",\"linecolor\":\"white\",\"ticks\":\"\",\"title\":{\"standoff\":15},\"zerolinecolor\":\"white\",\"zerolinewidth\":2}}},\"title\":{\"text\":\"GANTT Chart\"},\"xaxis\":{\"range\":[\"1970-01-01T01:15:52\",\"1970-01-02T03:25:44\"],\"title\":{\"font\":{\"color\":\"#7f7f7f\",\"family\":\"Courier New, monospace\",\"size\":18},\"text\":\"Time\"}},\"yaxis\":{\"title\":{\"font\":{\"color\":\"#7f7f7f\",\"family\":\"Courier New, monospace\",\"size\":18},\"text\":\"Activities\"}}},                        {\"responsive\": true}                    ).then(function(){\n",
       "                            \n",
       "var gd = document.getElementById('2e97dcda-473b-4b7e-93a4-da9329cbaee4');\n",
       "var x = new MutationObserver(function (mutations, observer) {{\n",
       "        var display = window.getComputedStyle(gd).display;\n",
       "        if (!display || display === 'none') {{\n",
       "            console.log([gd, 'removed!']);\n",
       "            Plotly.purge(gd);\n",
       "            observer.disconnect();\n",
       "        }}\n",
       "}});\n",
       "\n",
       "// Listen for the removal of the full notebook cells\n",
       "var notebookContainer = gd.closest('#notebook-container');\n",
       "if (notebookContainer) {{\n",
       "    x.observe(notebookContainer, {childList: true});\n",
       "}}\n",
       "\n",
       "// Listen for the clearing of the current output cell\n",
       "var outputEl = gd.closest('.output');\n",
       "if (outputEl) {{\n",
       "    x.observe(outputEl, {childList: true});\n",
       "}}\n",
       "\n",
       "                        })                };                });            </script>        </div>"
      ]
     },
     "metadata": {},
     "output_type": "display_data"
    }
   ],
   "source": [
    "fig = plot.get_gantt_chart([from_site, to_site, cutter], id_map=[activities[x] for x in activities])"
   ]
  },
  {
   "cell_type": "markdown",
   "metadata": {},
   "source": [
    "Plot only activities whose namespace (firt letters) matches load*"
   ]
  },
  {
   "cell_type": "code",
   "execution_count": 7,
   "metadata": {},
   "outputs": [
    {
     "data": {
      "text/html": [
       "        <script type=\"text/javascript\">\n",
       "        window.PlotlyConfig = {MathJaxConfig: 'local'};\n",
       "        if (window.MathJax) {MathJax.Hub.Config({SVG: {font: \"STIX-Web\"}});}\n",
       "        if (typeof require !== 'undefined') {\n",
       "        require.undef(\"plotly\");\n",
       "        requirejs.config({\n",
       "            paths: {\n",
       "                'plotly': ['https://cdn.plot.ly/plotly-2.8.3.min']\n",
       "            }\n",
       "        });\n",
       "        require(['plotly'], function(Plotly) {\n",
       "            window._Plotly = Plotly;\n",
       "        });\n",
       "        }\n",
       "        </script>\n",
       "        "
      ]
     },
     "metadata": {},
     "output_type": "display_data"
    },
    {
     "data": {
      "application/vnd.plotly.v1+json": {
       "config": {
        "linkText": "Export to plot.ly",
        "plotlyServerURL": "https://plot.ly",
        "showLink": false
       },
       "data": [
        {
         "connectgaps": false,
         "hoverinfo": "y+name",
         "line": {
          "color": "rgb(90,248,48)",
          "width": 10
         },
         "mode": "lines",
         "name": "loading:barge_0",
         "type": "scatter",
         "x": [
          "1970-01-01T02:30:52",
          "1970-01-01T02:30:52",
          "1970-01-01T03:12:32",
          "1970-01-01T03:12:32",
          "1970-01-01T03:12:32",
          "1970-01-01T06:14:52",
          "1970-01-01T06:14:52",
          "1970-01-01T06:56:32",
          "1970-01-01T06:56:32",
          "1970-01-01T06:56:32",
          "1970-01-01T09:58:52",
          "1970-01-01T09:58:52",
          "1970-01-01T10:40:32",
          "1970-01-01T10:40:32",
          "1970-01-01T10:40:32",
          "1970-01-01T13:42:52",
          "1970-01-01T13:42:52",
          "1970-01-01T14:24:32",
          "1970-01-01T14:24:32",
          "1970-01-01T14:24:32",
          "1970-01-01T17:26:52",
          "1970-01-01T17:26:52",
          "1970-01-01T18:08:32",
          "1970-01-01T18:08:32",
          "1970-01-01T18:08:32",
          "1970-01-01T21:10:52",
          "1970-01-01T21:10:52",
          "1970-01-01T21:52:32",
          "1970-01-01T21:52:32",
          "1970-01-01T21:52:32",
          "1970-01-02T00:54:52",
          "1970-01-02T00:54:52",
          "1970-01-02T01:36:32",
          "1970-01-02T01:36:32",
          "1970-01-02T01:36:32",
          "1970-01-01T02:30:52",
          "1970-01-01T02:30:52",
          "1970-01-01T03:12:32",
          "1970-01-01T03:12:32",
          "1970-01-01T03:12:32",
          "1970-01-01T06:14:52",
          "1970-01-01T06:14:52",
          "1970-01-01T06:56:32",
          "1970-01-01T06:56:32",
          "1970-01-01T06:56:32",
          "1970-01-01T09:58:52",
          "1970-01-01T09:58:52",
          "1970-01-01T10:40:32",
          "1970-01-01T10:40:32",
          "1970-01-01T10:40:32",
          "1970-01-01T13:42:52",
          "1970-01-01T13:42:52",
          "1970-01-01T14:24:32",
          "1970-01-01T14:24:32",
          "1970-01-01T14:24:32",
          "1970-01-01T17:26:52",
          "1970-01-01T17:26:52",
          "1970-01-01T18:08:32",
          "1970-01-01T18:08:32",
          "1970-01-01T18:08:32",
          "1970-01-01T21:10:52",
          "1970-01-01T21:10:52",
          "1970-01-01T21:52:32",
          "1970-01-01T21:52:32",
          "1970-01-01T21:52:32",
          "1970-01-02T00:54:52",
          "1970-01-02T00:54:52",
          "1970-01-02T01:36:32",
          "1970-01-02T01:36:32",
          "1970-01-02T01:36:32"
         ],
         "y": [
          "loading:barge_0",
          "loading:barge_0",
          "loading:barge_0",
          "loading:barge_0",
          null,
          "loading:barge_0",
          "loading:barge_0",
          "loading:barge_0",
          "loading:barge_0",
          null,
          "loading:barge_0",
          "loading:barge_0",
          "loading:barge_0",
          "loading:barge_0",
          null,
          "loading:barge_0",
          "loading:barge_0",
          "loading:barge_0",
          "loading:barge_0",
          null,
          "loading:barge_0",
          "loading:barge_0",
          "loading:barge_0",
          "loading:barge_0",
          null,
          "loading:barge_0",
          "loading:barge_0",
          "loading:barge_0",
          "loading:barge_0",
          null,
          "loading:barge_0",
          "loading:barge_0",
          "loading:barge_0",
          "loading:barge_0",
          null,
          "loading:barge_0",
          "loading:barge_0",
          "loading:barge_0",
          "loading:barge_0",
          null,
          "loading:barge_0",
          "loading:barge_0",
          "loading:barge_0",
          "loading:barge_0",
          null,
          "loading:barge_0",
          "loading:barge_0",
          "loading:barge_0",
          "loading:barge_0",
          null,
          "loading:barge_0",
          "loading:barge_0",
          "loading:barge_0",
          "loading:barge_0",
          null,
          "loading:barge_0",
          "loading:barge_0",
          "loading:barge_0",
          "loading:barge_0",
          null,
          "loading:barge_0",
          "loading:barge_0",
          "loading:barge_0",
          "loading:barge_0",
          null,
          "loading:barge_0",
          "loading:barge_0",
          "loading:barge_0",
          "loading:barge_0",
          null
         ]
        },
        {
         "connectgaps": false,
         "hoverinfo": "y+name",
         "line": {
          "color": "rgb(132,34,90)",
          "width": 10
         },
         "mode": "lines",
         "name": "loading:barge_0",
         "type": "scatter",
         "x": [
          "1970-01-01T02:30:52",
          "1970-01-01T02:30:52",
          "1970-01-01T03:12:32",
          "1970-01-01T03:12:32",
          "1970-01-01T03:12:32",
          "1970-01-01T06:14:52",
          "1970-01-01T06:14:52",
          "1970-01-01T06:56:32",
          "1970-01-01T06:56:32",
          "1970-01-01T06:56:32",
          "1970-01-01T09:58:52",
          "1970-01-01T09:58:52",
          "1970-01-01T10:40:32",
          "1970-01-01T10:40:32",
          "1970-01-01T10:40:32",
          "1970-01-01T13:42:52",
          "1970-01-01T13:42:52",
          "1970-01-01T14:24:32",
          "1970-01-01T14:24:32",
          "1970-01-01T14:24:32",
          "1970-01-01T17:26:52",
          "1970-01-01T17:26:52",
          "1970-01-01T18:08:32",
          "1970-01-01T18:08:32",
          "1970-01-01T18:08:32",
          "1970-01-01T21:10:52",
          "1970-01-01T21:10:52",
          "1970-01-01T21:52:32",
          "1970-01-01T21:52:32",
          "1970-01-01T21:52:32",
          "1970-01-02T00:54:52",
          "1970-01-02T00:54:52",
          "1970-01-02T01:36:32",
          "1970-01-02T01:36:32",
          "1970-01-02T01:36:32",
          "1970-01-01T02:30:52",
          "1970-01-01T02:30:52",
          "1970-01-01T03:12:32",
          "1970-01-01T03:12:32",
          "1970-01-01T03:12:32",
          "1970-01-01T06:14:52",
          "1970-01-01T06:14:52",
          "1970-01-01T06:56:32",
          "1970-01-01T06:56:32",
          "1970-01-01T06:56:32",
          "1970-01-01T09:58:52",
          "1970-01-01T09:58:52",
          "1970-01-01T10:40:32",
          "1970-01-01T10:40:32",
          "1970-01-01T10:40:32",
          "1970-01-01T13:42:52",
          "1970-01-01T13:42:52",
          "1970-01-01T14:24:32",
          "1970-01-01T14:24:32",
          "1970-01-01T14:24:32",
          "1970-01-01T17:26:52",
          "1970-01-01T17:26:52",
          "1970-01-01T18:08:32",
          "1970-01-01T18:08:32",
          "1970-01-01T18:08:32",
          "1970-01-01T21:10:52",
          "1970-01-01T21:10:52",
          "1970-01-01T21:52:32",
          "1970-01-01T21:52:32",
          "1970-01-01T21:52:32",
          "1970-01-02T00:54:52",
          "1970-01-02T00:54:52",
          "1970-01-02T01:36:32",
          "1970-01-02T01:36:32",
          "1970-01-02T01:36:32"
         ],
         "y": [
          "loading:barge_0",
          "loading:barge_0",
          "loading:barge_0",
          "loading:barge_0",
          null,
          "loading:barge_0",
          "loading:barge_0",
          "loading:barge_0",
          "loading:barge_0",
          null,
          "loading:barge_0",
          "loading:barge_0",
          "loading:barge_0",
          "loading:barge_0",
          null,
          "loading:barge_0",
          "loading:barge_0",
          "loading:barge_0",
          "loading:barge_0",
          null,
          "loading:barge_0",
          "loading:barge_0",
          "loading:barge_0",
          "loading:barge_0",
          null,
          "loading:barge_0",
          "loading:barge_0",
          "loading:barge_0",
          "loading:barge_0",
          null,
          "loading:barge_0",
          "loading:barge_0",
          "loading:barge_0",
          "loading:barge_0",
          null,
          "loading:barge_0",
          "loading:barge_0",
          "loading:barge_0",
          "loading:barge_0",
          null,
          "loading:barge_0",
          "loading:barge_0",
          "loading:barge_0",
          "loading:barge_0",
          null,
          "loading:barge_0",
          "loading:barge_0",
          "loading:barge_0",
          "loading:barge_0",
          null,
          "loading:barge_0",
          "loading:barge_0",
          "loading:barge_0",
          "loading:barge_0",
          null,
          "loading:barge_0",
          "loading:barge_0",
          "loading:barge_0",
          "loading:barge_0",
          null,
          "loading:barge_0",
          "loading:barge_0",
          "loading:barge_0",
          "loading:barge_0",
          null,
          "loading:barge_0",
          "loading:barge_0",
          "loading:barge_0",
          "loading:barge_0",
          null
         ]
        },
        {
         "connectgaps": false,
         "hoverinfo": "y+name",
         "line": {
          "color": "rgb(174,76,132)",
          "width": 10
         },
         "mode": "lines",
         "name": "loading:barge_1",
         "type": "scatter",
         "x": [
          "1970-01-01T01:15:52",
          "1970-01-01T01:15:52",
          "1970-01-01T01:49:12",
          "1970-01-01T01:49:12",
          "1970-01-01T01:49:12",
          "1970-01-01T04:20:56",
          "1970-01-01T04:20:56",
          "1970-01-01T04:54:16",
          "1970-01-01T04:54:16",
          "1970-01-01T04:54:16",
          "1970-01-01T07:26:00",
          "1970-01-01T07:26:00",
          "1970-01-01T07:59:20",
          "1970-01-01T07:59:20",
          "1970-01-01T07:59:20",
          "1970-01-01T10:40:32",
          "1970-01-01T10:40:32",
          "1970-01-01T11:13:52",
          "1970-01-01T11:13:52",
          "1970-01-01T11:13:52",
          "1970-01-01T14:24:32",
          "1970-01-01T14:24:32",
          "1970-01-01T14:57:52",
          "1970-01-01T14:57:52",
          "1970-01-01T14:57:52",
          "1970-01-01T18:08:32",
          "1970-01-01T18:08:32",
          "1970-01-01T18:41:52",
          "1970-01-01T18:41:52",
          "1970-01-01T18:41:52",
          "1970-01-01T21:52:32",
          "1970-01-01T21:52:32",
          "1970-01-01T22:25:52",
          "1970-01-01T22:25:52",
          "1970-01-01T22:25:52",
          "1970-01-02T01:36:32",
          "1970-01-02T01:36:32",
          "1970-01-02T02:09:52",
          "1970-01-02T02:09:52",
          "1970-01-02T02:09:52",
          "1970-01-01T01:15:52",
          "1970-01-01T01:15:52",
          "1970-01-01T01:49:12",
          "1970-01-01T01:49:12",
          "1970-01-01T01:49:12",
          "1970-01-01T04:20:56",
          "1970-01-01T04:20:56",
          "1970-01-01T04:54:16",
          "1970-01-01T04:54:16",
          "1970-01-01T04:54:16",
          "1970-01-01T07:26:00",
          "1970-01-01T07:26:00",
          "1970-01-01T07:59:20",
          "1970-01-01T07:59:20",
          "1970-01-01T07:59:20",
          "1970-01-01T10:40:32",
          "1970-01-01T10:40:32",
          "1970-01-01T11:13:52",
          "1970-01-01T11:13:52",
          "1970-01-01T11:13:52",
          "1970-01-01T14:24:32",
          "1970-01-01T14:24:32",
          "1970-01-01T14:57:52",
          "1970-01-01T14:57:52",
          "1970-01-01T14:57:52",
          "1970-01-01T18:08:32",
          "1970-01-01T18:08:32",
          "1970-01-01T18:41:52",
          "1970-01-01T18:41:52",
          "1970-01-01T18:41:52",
          "1970-01-01T21:52:32",
          "1970-01-01T21:52:32",
          "1970-01-01T22:25:52",
          "1970-01-01T22:25:52",
          "1970-01-01T22:25:52",
          "1970-01-02T01:36:32",
          "1970-01-02T01:36:32",
          "1970-01-02T02:09:52",
          "1970-01-02T02:09:52",
          "1970-01-02T02:09:52"
         ],
         "y": [
          "loading:barge_1",
          "loading:barge_1",
          "loading:barge_1",
          "loading:barge_1",
          null,
          "loading:barge_1",
          "loading:barge_1",
          "loading:barge_1",
          "loading:barge_1",
          null,
          "loading:barge_1",
          "loading:barge_1",
          "loading:barge_1",
          "loading:barge_1",
          null,
          "loading:barge_1",
          "loading:barge_1",
          "loading:barge_1",
          "loading:barge_1",
          null,
          "loading:barge_1",
          "loading:barge_1",
          "loading:barge_1",
          "loading:barge_1",
          null,
          "loading:barge_1",
          "loading:barge_1",
          "loading:barge_1",
          "loading:barge_1",
          null,
          "loading:barge_1",
          "loading:barge_1",
          "loading:barge_1",
          "loading:barge_1",
          null,
          "loading:barge_1",
          "loading:barge_1",
          "loading:barge_1",
          "loading:barge_1",
          null,
          "loading:barge_1",
          "loading:barge_1",
          "loading:barge_1",
          "loading:barge_1",
          null,
          "loading:barge_1",
          "loading:barge_1",
          "loading:barge_1",
          "loading:barge_1",
          null,
          "loading:barge_1",
          "loading:barge_1",
          "loading:barge_1",
          "loading:barge_1",
          null,
          "loading:barge_1",
          "loading:barge_1",
          "loading:barge_1",
          "loading:barge_1",
          null,
          "loading:barge_1",
          "loading:barge_1",
          "loading:barge_1",
          "loading:barge_1",
          null,
          "loading:barge_1",
          "loading:barge_1",
          "loading:barge_1",
          "loading:barge_1",
          null,
          "loading:barge_1",
          "loading:barge_1",
          "loading:barge_1",
          "loading:barge_1",
          null,
          "loading:barge_1",
          "loading:barge_1",
          "loading:barge_1",
          "loading:barge_1",
          null
         ]
        },
        {
         "connectgaps": false,
         "hoverinfo": "y+name",
         "line": {
          "color": "rgb(216,118,174)",
          "width": 10
         },
         "mode": "lines",
         "name": "loading:barge_1",
         "type": "scatter",
         "x": [
          "1970-01-01T01:15:52",
          "1970-01-01T01:15:52",
          "1970-01-01T01:49:12",
          "1970-01-01T01:49:12",
          "1970-01-01T01:49:12",
          "1970-01-01T04:20:56",
          "1970-01-01T04:20:56",
          "1970-01-01T04:54:16",
          "1970-01-01T04:54:16",
          "1970-01-01T04:54:16",
          "1970-01-01T07:26:00",
          "1970-01-01T07:26:00",
          "1970-01-01T07:59:20",
          "1970-01-01T07:59:20",
          "1970-01-01T07:59:20",
          "1970-01-01T10:40:32",
          "1970-01-01T10:40:32",
          "1970-01-01T11:13:52",
          "1970-01-01T11:13:52",
          "1970-01-01T11:13:52",
          "1970-01-01T14:24:32",
          "1970-01-01T14:24:32",
          "1970-01-01T14:57:52",
          "1970-01-01T14:57:52",
          "1970-01-01T14:57:52",
          "1970-01-01T18:08:32",
          "1970-01-01T18:08:32",
          "1970-01-01T18:41:52",
          "1970-01-01T18:41:52",
          "1970-01-01T18:41:52",
          "1970-01-01T21:52:32",
          "1970-01-01T21:52:32",
          "1970-01-01T22:25:52",
          "1970-01-01T22:25:52",
          "1970-01-01T22:25:52",
          "1970-01-02T01:36:32",
          "1970-01-02T01:36:32",
          "1970-01-02T02:09:52",
          "1970-01-02T02:09:52",
          "1970-01-02T02:09:52",
          "1970-01-01T01:15:52",
          "1970-01-01T01:15:52",
          "1970-01-01T01:49:12",
          "1970-01-01T01:49:12",
          "1970-01-01T01:49:12",
          "1970-01-01T04:20:56",
          "1970-01-01T04:20:56",
          "1970-01-01T04:54:16",
          "1970-01-01T04:54:16",
          "1970-01-01T04:54:16",
          "1970-01-01T07:26:00",
          "1970-01-01T07:26:00",
          "1970-01-01T07:59:20",
          "1970-01-01T07:59:20",
          "1970-01-01T07:59:20",
          "1970-01-01T10:40:32",
          "1970-01-01T10:40:32",
          "1970-01-01T11:13:52",
          "1970-01-01T11:13:52",
          "1970-01-01T11:13:52",
          "1970-01-01T14:24:32",
          "1970-01-01T14:24:32",
          "1970-01-01T14:57:52",
          "1970-01-01T14:57:52",
          "1970-01-01T14:57:52",
          "1970-01-01T18:08:32",
          "1970-01-01T18:08:32",
          "1970-01-01T18:41:52",
          "1970-01-01T18:41:52",
          "1970-01-01T18:41:52",
          "1970-01-01T21:52:32",
          "1970-01-01T21:52:32",
          "1970-01-01T22:25:52",
          "1970-01-01T22:25:52",
          "1970-01-01T22:25:52",
          "1970-01-02T01:36:32",
          "1970-01-02T01:36:32",
          "1970-01-02T02:09:52",
          "1970-01-02T02:09:52",
          "1970-01-02T02:09:52"
         ],
         "y": [
          "loading:barge_1",
          "loading:barge_1",
          "loading:barge_1",
          "loading:barge_1",
          null,
          "loading:barge_1",
          "loading:barge_1",
          "loading:barge_1",
          "loading:barge_1",
          null,
          "loading:barge_1",
          "loading:barge_1",
          "loading:barge_1",
          "loading:barge_1",
          null,
          "loading:barge_1",
          "loading:barge_1",
          "loading:barge_1",
          "loading:barge_1",
          null,
          "loading:barge_1",
          "loading:barge_1",
          "loading:barge_1",
          "loading:barge_1",
          null,
          "loading:barge_1",
          "loading:barge_1",
          "loading:barge_1",
          "loading:barge_1",
          null,
          "loading:barge_1",
          "loading:barge_1",
          "loading:barge_1",
          "loading:barge_1",
          null,
          "loading:barge_1",
          "loading:barge_1",
          "loading:barge_1",
          "loading:barge_1",
          null,
          "loading:barge_1",
          "loading:barge_1",
          "loading:barge_1",
          "loading:barge_1",
          null,
          "loading:barge_1",
          "loading:barge_1",
          "loading:barge_1",
          "loading:barge_1",
          null,
          "loading:barge_1",
          "loading:barge_1",
          "loading:barge_1",
          "loading:barge_1",
          null,
          "loading:barge_1",
          "loading:barge_1",
          "loading:barge_1",
          "loading:barge_1",
          null,
          "loading:barge_1",
          "loading:barge_1",
          "loading:barge_1",
          "loading:barge_1",
          null,
          "loading:barge_1",
          "loading:barge_1",
          "loading:barge_1",
          "loading:barge_1",
          null,
          "loading:barge_1",
          "loading:barge_1",
          "loading:barge_1",
          "loading:barge_1",
          null,
          "loading:barge_1",
          "loading:barge_1",
          "loading:barge_1",
          "loading:barge_1",
          null
         ]
        },
        {
         "connectgaps": false,
         "hoverinfo": "y+name",
         "line": {
          "color": "rgb(2,160,216)",
          "width": 10
         },
         "mode": "lines",
         "name": "loading:barge_2",
         "type": "scatter",
         "x": [
          "1970-01-01T01:49:12",
          "1970-01-01T01:49:12",
          "1970-01-01T02:30:52",
          "1970-01-01T02:30:52",
          "1970-01-01T02:30:52",
          "1970-01-01T05:06:20",
          "1970-01-01T05:06:20",
          "1970-01-01T05:48:00",
          "1970-01-01T05:48:00",
          "1970-01-01T05:48:00",
          "1970-01-01T08:23:28",
          "1970-01-01T08:23:28",
          "1970-01-01T09:05:08",
          "1970-01-01T09:05:08",
          "1970-01-01T09:05:08",
          "1970-01-01T11:40:36",
          "1970-01-01T11:40:36",
          "1970-01-01T12:22:16",
          "1970-01-01T12:22:16",
          "1970-01-01T12:22:16",
          "1970-01-01T14:57:52",
          "1970-01-01T14:57:52",
          "1970-01-01T15:39:32",
          "1970-01-01T15:39:32",
          "1970-01-01T15:39:32",
          "1970-01-01T18:41:52",
          "1970-01-01T18:41:52",
          "1970-01-01T19:23:32",
          "1970-01-01T19:23:32",
          "1970-01-01T19:23:32",
          "1970-01-01T22:25:52",
          "1970-01-01T22:25:52",
          "1970-01-01T23:07:32",
          "1970-01-01T23:07:32",
          "1970-01-01T23:07:32",
          "1970-01-01T01:49:12",
          "1970-01-01T01:49:12",
          "1970-01-01T02:30:52",
          "1970-01-01T02:30:52",
          "1970-01-01T02:30:52",
          "1970-01-01T05:06:20",
          "1970-01-01T05:06:20",
          "1970-01-01T05:48:00",
          "1970-01-01T05:48:00",
          "1970-01-01T05:48:00",
          "1970-01-01T08:23:28",
          "1970-01-01T08:23:28",
          "1970-01-01T09:05:08",
          "1970-01-01T09:05:08",
          "1970-01-01T09:05:08",
          "1970-01-01T11:40:36",
          "1970-01-01T11:40:36",
          "1970-01-01T12:22:16",
          "1970-01-01T12:22:16",
          "1970-01-01T12:22:16",
          "1970-01-01T14:57:52",
          "1970-01-01T14:57:52",
          "1970-01-01T15:39:32",
          "1970-01-01T15:39:32",
          "1970-01-01T15:39:32",
          "1970-01-01T18:41:52",
          "1970-01-01T18:41:52",
          "1970-01-01T19:23:32",
          "1970-01-01T19:23:32",
          "1970-01-01T19:23:32",
          "1970-01-01T22:25:52",
          "1970-01-01T22:25:52",
          "1970-01-01T23:07:32",
          "1970-01-01T23:07:32",
          "1970-01-01T23:07:32"
         ],
         "y": [
          "loading:barge_2",
          "loading:barge_2",
          "loading:barge_2",
          "loading:barge_2",
          null,
          "loading:barge_2",
          "loading:barge_2",
          "loading:barge_2",
          "loading:barge_2",
          null,
          "loading:barge_2",
          "loading:barge_2",
          "loading:barge_2",
          "loading:barge_2",
          null,
          "loading:barge_2",
          "loading:barge_2",
          "loading:barge_2",
          "loading:barge_2",
          null,
          "loading:barge_2",
          "loading:barge_2",
          "loading:barge_2",
          "loading:barge_2",
          null,
          "loading:barge_2",
          "loading:barge_2",
          "loading:barge_2",
          "loading:barge_2",
          null,
          "loading:barge_2",
          "loading:barge_2",
          "loading:barge_2",
          "loading:barge_2",
          null,
          "loading:barge_2",
          "loading:barge_2",
          "loading:barge_2",
          "loading:barge_2",
          null,
          "loading:barge_2",
          "loading:barge_2",
          "loading:barge_2",
          "loading:barge_2",
          null,
          "loading:barge_2",
          "loading:barge_2",
          "loading:barge_2",
          "loading:barge_2",
          null,
          "loading:barge_2",
          "loading:barge_2",
          "loading:barge_2",
          "loading:barge_2",
          null,
          "loading:barge_2",
          "loading:barge_2",
          "loading:barge_2",
          "loading:barge_2",
          null,
          "loading:barge_2",
          "loading:barge_2",
          "loading:barge_2",
          "loading:barge_2",
          null,
          "loading:barge_2",
          "loading:barge_2",
          "loading:barge_2",
          "loading:barge_2",
          null
         ]
        },
        {
         "connectgaps": false,
         "hoverinfo": "y+name",
         "line": {
          "color": "rgb(44,202,2)",
          "width": 10
         },
         "mode": "lines",
         "name": "loading:barge_2",
         "type": "scatter",
         "x": [
          "1970-01-01T01:49:12",
          "1970-01-01T01:49:12",
          "1970-01-01T02:30:52",
          "1970-01-01T02:30:52",
          "1970-01-01T02:30:52",
          "1970-01-01T05:06:20",
          "1970-01-01T05:06:20",
          "1970-01-01T05:48:00",
          "1970-01-01T05:48:00",
          "1970-01-01T05:48:00",
          "1970-01-01T08:23:28",
          "1970-01-01T08:23:28",
          "1970-01-01T09:05:08",
          "1970-01-01T09:05:08",
          "1970-01-01T09:05:08",
          "1970-01-01T11:40:36",
          "1970-01-01T11:40:36",
          "1970-01-01T12:22:16",
          "1970-01-01T12:22:16",
          "1970-01-01T12:22:16",
          "1970-01-01T14:57:52",
          "1970-01-01T14:57:52",
          "1970-01-01T15:39:32",
          "1970-01-01T15:39:32",
          "1970-01-01T15:39:32",
          "1970-01-01T18:41:52",
          "1970-01-01T18:41:52",
          "1970-01-01T19:23:32",
          "1970-01-01T19:23:32",
          "1970-01-01T19:23:32",
          "1970-01-01T22:25:52",
          "1970-01-01T22:25:52",
          "1970-01-01T23:07:32",
          "1970-01-01T23:07:32",
          "1970-01-01T23:07:32",
          "1970-01-01T01:49:12",
          "1970-01-01T01:49:12",
          "1970-01-01T02:30:52",
          "1970-01-01T02:30:52",
          "1970-01-01T02:30:52",
          "1970-01-01T05:06:20",
          "1970-01-01T05:06:20",
          "1970-01-01T05:48:00",
          "1970-01-01T05:48:00",
          "1970-01-01T05:48:00",
          "1970-01-01T08:23:28",
          "1970-01-01T08:23:28",
          "1970-01-01T09:05:08",
          "1970-01-01T09:05:08",
          "1970-01-01T09:05:08",
          "1970-01-01T11:40:36",
          "1970-01-01T11:40:36",
          "1970-01-01T12:22:16",
          "1970-01-01T12:22:16",
          "1970-01-01T12:22:16",
          "1970-01-01T14:57:52",
          "1970-01-01T14:57:52",
          "1970-01-01T15:39:32",
          "1970-01-01T15:39:32",
          "1970-01-01T15:39:32",
          "1970-01-01T18:41:52",
          "1970-01-01T18:41:52",
          "1970-01-01T19:23:32",
          "1970-01-01T19:23:32",
          "1970-01-01T19:23:32",
          "1970-01-01T22:25:52",
          "1970-01-01T22:25:52",
          "1970-01-01T23:07:32",
          "1970-01-01T23:07:32",
          "1970-01-01T23:07:32"
         ],
         "y": [
          "loading:barge_2",
          "loading:barge_2",
          "loading:barge_2",
          "loading:barge_2",
          null,
          "loading:barge_2",
          "loading:barge_2",
          "loading:barge_2",
          "loading:barge_2",
          null,
          "loading:barge_2",
          "loading:barge_2",
          "loading:barge_2",
          "loading:barge_2",
          null,
          "loading:barge_2",
          "loading:barge_2",
          "loading:barge_2",
          "loading:barge_2",
          null,
          "loading:barge_2",
          "loading:barge_2",
          "loading:barge_2",
          "loading:barge_2",
          null,
          "loading:barge_2",
          "loading:barge_2",
          "loading:barge_2",
          "loading:barge_2",
          null,
          "loading:barge_2",
          "loading:barge_2",
          "loading:barge_2",
          "loading:barge_2",
          null,
          "loading:barge_2",
          "loading:barge_2",
          "loading:barge_2",
          "loading:barge_2",
          null,
          "loading:barge_2",
          "loading:barge_2",
          "loading:barge_2",
          "loading:barge_2",
          null,
          "loading:barge_2",
          "loading:barge_2",
          "loading:barge_2",
          "loading:barge_2",
          null,
          "loading:barge_2",
          "loading:barge_2",
          "loading:barge_2",
          "loading:barge_2",
          null,
          "loading:barge_2",
          "loading:barge_2",
          "loading:barge_2",
          "loading:barge_2",
          null,
          "loading:barge_2",
          "loading:barge_2",
          "loading:barge_2",
          "loading:barge_2",
          null,
          "loading:barge_2",
          "loading:barge_2",
          "loading:barge_2",
          "loading:barge_2",
          null
         ]
        }
       ],
       "layout": {
        "hovermode": "closest",
        "legend": {
         "orientation": "h",
         "x": 0,
         "y": -0.2
        },
        "template": {
         "data": {
          "bar": [
           {
            "error_x": {
             "color": "#2a3f5f"
            },
            "error_y": {
             "color": "#2a3f5f"
            },
            "marker": {
             "line": {
              "color": "#E5ECF6",
              "width": 0.5
             },
             "pattern": {
              "fillmode": "overlay",
              "size": 10,
              "solidity": 0.2
             }
            },
            "type": "bar"
           }
          ],
          "barpolar": [
           {
            "marker": {
             "line": {
              "color": "#E5ECF6",
              "width": 0.5
             },
             "pattern": {
              "fillmode": "overlay",
              "size": 10,
              "solidity": 0.2
             }
            },
            "type": "barpolar"
           }
          ],
          "carpet": [
           {
            "aaxis": {
             "endlinecolor": "#2a3f5f",
             "gridcolor": "white",
             "linecolor": "white",
             "minorgridcolor": "white",
             "startlinecolor": "#2a3f5f"
            },
            "baxis": {
             "endlinecolor": "#2a3f5f",
             "gridcolor": "white",
             "linecolor": "white",
             "minorgridcolor": "white",
             "startlinecolor": "#2a3f5f"
            },
            "type": "carpet"
           }
          ],
          "choropleth": [
           {
            "colorbar": {
             "outlinewidth": 0,
             "ticks": ""
            },
            "type": "choropleth"
           }
          ],
          "contour": [
           {
            "colorbar": {
             "outlinewidth": 0,
             "ticks": ""
            },
            "colorscale": [
             [
              0,
              "#0d0887"
             ],
             [
              0.1111111111111111,
              "#46039f"
             ],
             [
              0.2222222222222222,
              "#7201a8"
             ],
             [
              0.3333333333333333,
              "#9c179e"
             ],
             [
              0.4444444444444444,
              "#bd3786"
             ],
             [
              0.5555555555555556,
              "#d8576b"
             ],
             [
              0.6666666666666666,
              "#ed7953"
             ],
             [
              0.7777777777777778,
              "#fb9f3a"
             ],
             [
              0.8888888888888888,
              "#fdca26"
             ],
             [
              1,
              "#f0f921"
             ]
            ],
            "type": "contour"
           }
          ],
          "contourcarpet": [
           {
            "colorbar": {
             "outlinewidth": 0,
             "ticks": ""
            },
            "type": "contourcarpet"
           }
          ],
          "heatmap": [
           {
            "colorbar": {
             "outlinewidth": 0,
             "ticks": ""
            },
            "colorscale": [
             [
              0,
              "#0d0887"
             ],
             [
              0.1111111111111111,
              "#46039f"
             ],
             [
              0.2222222222222222,
              "#7201a8"
             ],
             [
              0.3333333333333333,
              "#9c179e"
             ],
             [
              0.4444444444444444,
              "#bd3786"
             ],
             [
              0.5555555555555556,
              "#d8576b"
             ],
             [
              0.6666666666666666,
              "#ed7953"
             ],
             [
              0.7777777777777778,
              "#fb9f3a"
             ],
             [
              0.8888888888888888,
              "#fdca26"
             ],
             [
              1,
              "#f0f921"
             ]
            ],
            "type": "heatmap"
           }
          ],
          "heatmapgl": [
           {
            "colorbar": {
             "outlinewidth": 0,
             "ticks": ""
            },
            "colorscale": [
             [
              0,
              "#0d0887"
             ],
             [
              0.1111111111111111,
              "#46039f"
             ],
             [
              0.2222222222222222,
              "#7201a8"
             ],
             [
              0.3333333333333333,
              "#9c179e"
             ],
             [
              0.4444444444444444,
              "#bd3786"
             ],
             [
              0.5555555555555556,
              "#d8576b"
             ],
             [
              0.6666666666666666,
              "#ed7953"
             ],
             [
              0.7777777777777778,
              "#fb9f3a"
             ],
             [
              0.8888888888888888,
              "#fdca26"
             ],
             [
              1,
              "#f0f921"
             ]
            ],
            "type": "heatmapgl"
           }
          ],
          "histogram": [
           {
            "marker": {
             "pattern": {
              "fillmode": "overlay",
              "size": 10,
              "solidity": 0.2
             }
            },
            "type": "histogram"
           }
          ],
          "histogram2d": [
           {
            "colorbar": {
             "outlinewidth": 0,
             "ticks": ""
            },
            "colorscale": [
             [
              0,
              "#0d0887"
             ],
             [
              0.1111111111111111,
              "#46039f"
             ],
             [
              0.2222222222222222,
              "#7201a8"
             ],
             [
              0.3333333333333333,
              "#9c179e"
             ],
             [
              0.4444444444444444,
              "#bd3786"
             ],
             [
              0.5555555555555556,
              "#d8576b"
             ],
             [
              0.6666666666666666,
              "#ed7953"
             ],
             [
              0.7777777777777778,
              "#fb9f3a"
             ],
             [
              0.8888888888888888,
              "#fdca26"
             ],
             [
              1,
              "#f0f921"
             ]
            ],
            "type": "histogram2d"
           }
          ],
          "histogram2dcontour": [
           {
            "colorbar": {
             "outlinewidth": 0,
             "ticks": ""
            },
            "colorscale": [
             [
              0,
              "#0d0887"
             ],
             [
              0.1111111111111111,
              "#46039f"
             ],
             [
              0.2222222222222222,
              "#7201a8"
             ],
             [
              0.3333333333333333,
              "#9c179e"
             ],
             [
              0.4444444444444444,
              "#bd3786"
             ],
             [
              0.5555555555555556,
              "#d8576b"
             ],
             [
              0.6666666666666666,
              "#ed7953"
             ],
             [
              0.7777777777777778,
              "#fb9f3a"
             ],
             [
              0.8888888888888888,
              "#fdca26"
             ],
             [
              1,
              "#f0f921"
             ]
            ],
            "type": "histogram2dcontour"
           }
          ],
          "mesh3d": [
           {
            "colorbar": {
             "outlinewidth": 0,
             "ticks": ""
            },
            "type": "mesh3d"
           }
          ],
          "parcoords": [
           {
            "line": {
             "colorbar": {
              "outlinewidth": 0,
              "ticks": ""
             }
            },
            "type": "parcoords"
           }
          ],
          "pie": [
           {
            "automargin": true,
            "type": "pie"
           }
          ],
          "scatter": [
           {
            "marker": {
             "colorbar": {
              "outlinewidth": 0,
              "ticks": ""
             }
            },
            "type": "scatter"
           }
          ],
          "scatter3d": [
           {
            "line": {
             "colorbar": {
              "outlinewidth": 0,
              "ticks": ""
             }
            },
            "marker": {
             "colorbar": {
              "outlinewidth": 0,
              "ticks": ""
             }
            },
            "type": "scatter3d"
           }
          ],
          "scattercarpet": [
           {
            "marker": {
             "colorbar": {
              "outlinewidth": 0,
              "ticks": ""
             }
            },
            "type": "scattercarpet"
           }
          ],
          "scattergeo": [
           {
            "marker": {
             "colorbar": {
              "outlinewidth": 0,
              "ticks": ""
             }
            },
            "type": "scattergeo"
           }
          ],
          "scattergl": [
           {
            "marker": {
             "colorbar": {
              "outlinewidth": 0,
              "ticks": ""
             }
            },
            "type": "scattergl"
           }
          ],
          "scattermapbox": [
           {
            "marker": {
             "colorbar": {
              "outlinewidth": 0,
              "ticks": ""
             }
            },
            "type": "scattermapbox"
           }
          ],
          "scatterpolar": [
           {
            "marker": {
             "colorbar": {
              "outlinewidth": 0,
              "ticks": ""
             }
            },
            "type": "scatterpolar"
           }
          ],
          "scatterpolargl": [
           {
            "marker": {
             "colorbar": {
              "outlinewidth": 0,
              "ticks": ""
             }
            },
            "type": "scatterpolargl"
           }
          ],
          "scatterternary": [
           {
            "marker": {
             "colorbar": {
              "outlinewidth": 0,
              "ticks": ""
             }
            },
            "type": "scatterternary"
           }
          ],
          "surface": [
           {
            "colorbar": {
             "outlinewidth": 0,
             "ticks": ""
            },
            "colorscale": [
             [
              0,
              "#0d0887"
             ],
             [
              0.1111111111111111,
              "#46039f"
             ],
             [
              0.2222222222222222,
              "#7201a8"
             ],
             [
              0.3333333333333333,
              "#9c179e"
             ],
             [
              0.4444444444444444,
              "#bd3786"
             ],
             [
              0.5555555555555556,
              "#d8576b"
             ],
             [
              0.6666666666666666,
              "#ed7953"
             ],
             [
              0.7777777777777778,
              "#fb9f3a"
             ],
             [
              0.8888888888888888,
              "#fdca26"
             ],
             [
              1,
              "#f0f921"
             ]
            ],
            "type": "surface"
           }
          ],
          "table": [
           {
            "cells": {
             "fill": {
              "color": "#EBF0F8"
             },
             "line": {
              "color": "white"
             }
            },
            "header": {
             "fill": {
              "color": "#C8D4E3"
             },
             "line": {
              "color": "white"
             }
            },
            "type": "table"
           }
          ]
         },
         "layout": {
          "annotationdefaults": {
           "arrowcolor": "#2a3f5f",
           "arrowhead": 0,
           "arrowwidth": 1
          },
          "autotypenumbers": "strict",
          "coloraxis": {
           "colorbar": {
            "outlinewidth": 0,
            "ticks": ""
           }
          },
          "colorscale": {
           "diverging": [
            [
             0,
             "#8e0152"
            ],
            [
             0.1,
             "#c51b7d"
            ],
            [
             0.2,
             "#de77ae"
            ],
            [
             0.3,
             "#f1b6da"
            ],
            [
             0.4,
             "#fde0ef"
            ],
            [
             0.5,
             "#f7f7f7"
            ],
            [
             0.6,
             "#e6f5d0"
            ],
            [
             0.7,
             "#b8e186"
            ],
            [
             0.8,
             "#7fbc41"
            ],
            [
             0.9,
             "#4d9221"
            ],
            [
             1,
             "#276419"
            ]
           ],
           "sequential": [
            [
             0,
             "#0d0887"
            ],
            [
             0.1111111111111111,
             "#46039f"
            ],
            [
             0.2222222222222222,
             "#7201a8"
            ],
            [
             0.3333333333333333,
             "#9c179e"
            ],
            [
             0.4444444444444444,
             "#bd3786"
            ],
            [
             0.5555555555555556,
             "#d8576b"
            ],
            [
             0.6666666666666666,
             "#ed7953"
            ],
            [
             0.7777777777777778,
             "#fb9f3a"
            ],
            [
             0.8888888888888888,
             "#fdca26"
            ],
            [
             1,
             "#f0f921"
            ]
           ],
           "sequentialminus": [
            [
             0,
             "#0d0887"
            ],
            [
             0.1111111111111111,
             "#46039f"
            ],
            [
             0.2222222222222222,
             "#7201a8"
            ],
            [
             0.3333333333333333,
             "#9c179e"
            ],
            [
             0.4444444444444444,
             "#bd3786"
            ],
            [
             0.5555555555555556,
             "#d8576b"
            ],
            [
             0.6666666666666666,
             "#ed7953"
            ],
            [
             0.7777777777777778,
             "#fb9f3a"
            ],
            [
             0.8888888888888888,
             "#fdca26"
            ],
            [
             1,
             "#f0f921"
            ]
           ]
          },
          "colorway": [
           "#636efa",
           "#EF553B",
           "#00cc96",
           "#ab63fa",
           "#FFA15A",
           "#19d3f3",
           "#FF6692",
           "#B6E880",
           "#FF97FF",
           "#FECB52"
          ],
          "font": {
           "color": "#2a3f5f"
          },
          "geo": {
           "bgcolor": "white",
           "lakecolor": "white",
           "landcolor": "#E5ECF6",
           "showlakes": true,
           "showland": true,
           "subunitcolor": "white"
          },
          "hoverlabel": {
           "align": "left"
          },
          "hovermode": "closest",
          "mapbox": {
           "style": "light"
          },
          "paper_bgcolor": "white",
          "plot_bgcolor": "#E5ECF6",
          "polar": {
           "angularaxis": {
            "gridcolor": "white",
            "linecolor": "white",
            "ticks": ""
           },
           "bgcolor": "#E5ECF6",
           "radialaxis": {
            "gridcolor": "white",
            "linecolor": "white",
            "ticks": ""
           }
          },
          "scene": {
           "xaxis": {
            "backgroundcolor": "#E5ECF6",
            "gridcolor": "white",
            "gridwidth": 2,
            "linecolor": "white",
            "showbackground": true,
            "ticks": "",
            "zerolinecolor": "white"
           },
           "yaxis": {
            "backgroundcolor": "#E5ECF6",
            "gridcolor": "white",
            "gridwidth": 2,
            "linecolor": "white",
            "showbackground": true,
            "ticks": "",
            "zerolinecolor": "white"
           },
           "zaxis": {
            "backgroundcolor": "#E5ECF6",
            "gridcolor": "white",
            "gridwidth": 2,
            "linecolor": "white",
            "showbackground": true,
            "ticks": "",
            "zerolinecolor": "white"
           }
          },
          "shapedefaults": {
           "line": {
            "color": "#2a3f5f"
           }
          },
          "ternary": {
           "aaxis": {
            "gridcolor": "white",
            "linecolor": "white",
            "ticks": ""
           },
           "baxis": {
            "gridcolor": "white",
            "linecolor": "white",
            "ticks": ""
           },
           "bgcolor": "#E5ECF6",
           "caxis": {
            "gridcolor": "white",
            "linecolor": "white",
            "ticks": ""
           }
          },
          "title": {
           "x": 0.05
          },
          "xaxis": {
           "automargin": true,
           "gridcolor": "white",
           "linecolor": "white",
           "ticks": "",
           "title": {
            "standoff": 15
           },
           "zerolinecolor": "white",
           "zerolinewidth": 2
          },
          "yaxis": {
           "automargin": true,
           "gridcolor": "white",
           "linecolor": "white",
           "ticks": "",
           "title": {
            "standoff": 15
           },
           "zerolinecolor": "white",
           "zerolinewidth": 2
          }
         }
        },
        "title": {
         "text": "GANTT Chart"
        },
        "xaxis": {
         "range": [
          "1970-01-01T01:15:52",
          "1970-01-02T02:09:52"
         ],
         "title": {
          "font": {
           "color": "#7f7f7f",
           "family": "Courier New, monospace",
           "size": 18
          },
          "text": "Time"
         }
        },
        "yaxis": {
         "title": {
          "font": {
           "color": "#7f7f7f",
           "family": "Courier New, monospace",
           "size": 18
          },
          "text": "Activities"
         }
        }
       }
      },
      "text/html": [
       "<div>                            <div id=\"dca848b8-9ad4-4367-b48a-1b23162b455e\" class=\"plotly-graph-div\" style=\"height:525px; width:100%;\"></div>            <script type=\"text/javascript\">                require([\"plotly\"], function(Plotly) {                    window.PLOTLYENV=window.PLOTLYENV || {};                                    if (document.getElementById(\"dca848b8-9ad4-4367-b48a-1b23162b455e\")) {                    Plotly.newPlot(                        \"dca848b8-9ad4-4367-b48a-1b23162b455e\",                        [{\"connectgaps\":false,\"hoverinfo\":\"y+name\",\"line\":{\"color\":\"rgb(90,248,48)\",\"width\":10},\"mode\":\"lines\",\"name\":\"loading:barge_0\",\"x\":[\"1970-01-01T02:30:52\",\"1970-01-01T02:30:52\",\"1970-01-01T03:12:32\",\"1970-01-01T03:12:32\",\"1970-01-01T03:12:32\",\"1970-01-01T06:14:52\",\"1970-01-01T06:14:52\",\"1970-01-01T06:56:32\",\"1970-01-01T06:56:32\",\"1970-01-01T06:56:32\",\"1970-01-01T09:58:52\",\"1970-01-01T09:58:52\",\"1970-01-01T10:40:32\",\"1970-01-01T10:40:32\",\"1970-01-01T10:40:32\",\"1970-01-01T13:42:52\",\"1970-01-01T13:42:52\",\"1970-01-01T14:24:32\",\"1970-01-01T14:24:32\",\"1970-01-01T14:24:32\",\"1970-01-01T17:26:52\",\"1970-01-01T17:26:52\",\"1970-01-01T18:08:32\",\"1970-01-01T18:08:32\",\"1970-01-01T18:08:32\",\"1970-01-01T21:10:52\",\"1970-01-01T21:10:52\",\"1970-01-01T21:52:32\",\"1970-01-01T21:52:32\",\"1970-01-01T21:52:32\",\"1970-01-02T00:54:52\",\"1970-01-02T00:54:52\",\"1970-01-02T01:36:32\",\"1970-01-02T01:36:32\",\"1970-01-02T01:36:32\",\"1970-01-01T02:30:52\",\"1970-01-01T02:30:52\",\"1970-01-01T03:12:32\",\"1970-01-01T03:12:32\",\"1970-01-01T03:12:32\",\"1970-01-01T06:14:52\",\"1970-01-01T06:14:52\",\"1970-01-01T06:56:32\",\"1970-01-01T06:56:32\",\"1970-01-01T06:56:32\",\"1970-01-01T09:58:52\",\"1970-01-01T09:58:52\",\"1970-01-01T10:40:32\",\"1970-01-01T10:40:32\",\"1970-01-01T10:40:32\",\"1970-01-01T13:42:52\",\"1970-01-01T13:42:52\",\"1970-01-01T14:24:32\",\"1970-01-01T14:24:32\",\"1970-01-01T14:24:32\",\"1970-01-01T17:26:52\",\"1970-01-01T17:26:52\",\"1970-01-01T18:08:32\",\"1970-01-01T18:08:32\",\"1970-01-01T18:08:32\",\"1970-01-01T21:10:52\",\"1970-01-01T21:10:52\",\"1970-01-01T21:52:32\",\"1970-01-01T21:52:32\",\"1970-01-01T21:52:32\",\"1970-01-02T00:54:52\",\"1970-01-02T00:54:52\",\"1970-01-02T01:36:32\",\"1970-01-02T01:36:32\",\"1970-01-02T01:36:32\"],\"y\":[\"loading:barge_0\",\"loading:barge_0\",\"loading:barge_0\",\"loading:barge_0\",null,\"loading:barge_0\",\"loading:barge_0\",\"loading:barge_0\",\"loading:barge_0\",null,\"loading:barge_0\",\"loading:barge_0\",\"loading:barge_0\",\"loading:barge_0\",null,\"loading:barge_0\",\"loading:barge_0\",\"loading:barge_0\",\"loading:barge_0\",null,\"loading:barge_0\",\"loading:barge_0\",\"loading:barge_0\",\"loading:barge_0\",null,\"loading:barge_0\",\"loading:barge_0\",\"loading:barge_0\",\"loading:barge_0\",null,\"loading:barge_0\",\"loading:barge_0\",\"loading:barge_0\",\"loading:barge_0\",null,\"loading:barge_0\",\"loading:barge_0\",\"loading:barge_0\",\"loading:barge_0\",null,\"loading:barge_0\",\"loading:barge_0\",\"loading:barge_0\",\"loading:barge_0\",null,\"loading:barge_0\",\"loading:barge_0\",\"loading:barge_0\",\"loading:barge_0\",null,\"loading:barge_0\",\"loading:barge_0\",\"loading:barge_0\",\"loading:barge_0\",null,\"loading:barge_0\",\"loading:barge_0\",\"loading:barge_0\",\"loading:barge_0\",null,\"loading:barge_0\",\"loading:barge_0\",\"loading:barge_0\",\"loading:barge_0\",null,\"loading:barge_0\",\"loading:barge_0\",\"loading:barge_0\",\"loading:barge_0\",null],\"type\":\"scatter\"},{\"connectgaps\":false,\"hoverinfo\":\"y+name\",\"line\":{\"color\":\"rgb(132,34,90)\",\"width\":10},\"mode\":\"lines\",\"name\":\"loading:barge_0\",\"x\":[\"1970-01-01T02:30:52\",\"1970-01-01T02:30:52\",\"1970-01-01T03:12:32\",\"1970-01-01T03:12:32\",\"1970-01-01T03:12:32\",\"1970-01-01T06:14:52\",\"1970-01-01T06:14:52\",\"1970-01-01T06:56:32\",\"1970-01-01T06:56:32\",\"1970-01-01T06:56:32\",\"1970-01-01T09:58:52\",\"1970-01-01T09:58:52\",\"1970-01-01T10:40:32\",\"1970-01-01T10:40:32\",\"1970-01-01T10:40:32\",\"1970-01-01T13:42:52\",\"1970-01-01T13:42:52\",\"1970-01-01T14:24:32\",\"1970-01-01T14:24:32\",\"1970-01-01T14:24:32\",\"1970-01-01T17:26:52\",\"1970-01-01T17:26:52\",\"1970-01-01T18:08:32\",\"1970-01-01T18:08:32\",\"1970-01-01T18:08:32\",\"1970-01-01T21:10:52\",\"1970-01-01T21:10:52\",\"1970-01-01T21:52:32\",\"1970-01-01T21:52:32\",\"1970-01-01T21:52:32\",\"1970-01-02T00:54:52\",\"1970-01-02T00:54:52\",\"1970-01-02T01:36:32\",\"1970-01-02T01:36:32\",\"1970-01-02T01:36:32\",\"1970-01-01T02:30:52\",\"1970-01-01T02:30:52\",\"1970-01-01T03:12:32\",\"1970-01-01T03:12:32\",\"1970-01-01T03:12:32\",\"1970-01-01T06:14:52\",\"1970-01-01T06:14:52\",\"1970-01-01T06:56:32\",\"1970-01-01T06:56:32\",\"1970-01-01T06:56:32\",\"1970-01-01T09:58:52\",\"1970-01-01T09:58:52\",\"1970-01-01T10:40:32\",\"1970-01-01T10:40:32\",\"1970-01-01T10:40:32\",\"1970-01-01T13:42:52\",\"1970-01-01T13:42:52\",\"1970-01-01T14:24:32\",\"1970-01-01T14:24:32\",\"1970-01-01T14:24:32\",\"1970-01-01T17:26:52\",\"1970-01-01T17:26:52\",\"1970-01-01T18:08:32\",\"1970-01-01T18:08:32\",\"1970-01-01T18:08:32\",\"1970-01-01T21:10:52\",\"1970-01-01T21:10:52\",\"1970-01-01T21:52:32\",\"1970-01-01T21:52:32\",\"1970-01-01T21:52:32\",\"1970-01-02T00:54:52\",\"1970-01-02T00:54:52\",\"1970-01-02T01:36:32\",\"1970-01-02T01:36:32\",\"1970-01-02T01:36:32\"],\"y\":[\"loading:barge_0\",\"loading:barge_0\",\"loading:barge_0\",\"loading:barge_0\",null,\"loading:barge_0\",\"loading:barge_0\",\"loading:barge_0\",\"loading:barge_0\",null,\"loading:barge_0\",\"loading:barge_0\",\"loading:barge_0\",\"loading:barge_0\",null,\"loading:barge_0\",\"loading:barge_0\",\"loading:barge_0\",\"loading:barge_0\",null,\"loading:barge_0\",\"loading:barge_0\",\"loading:barge_0\",\"loading:barge_0\",null,\"loading:barge_0\",\"loading:barge_0\",\"loading:barge_0\",\"loading:barge_0\",null,\"loading:barge_0\",\"loading:barge_0\",\"loading:barge_0\",\"loading:barge_0\",null,\"loading:barge_0\",\"loading:barge_0\",\"loading:barge_0\",\"loading:barge_0\",null,\"loading:barge_0\",\"loading:barge_0\",\"loading:barge_0\",\"loading:barge_0\",null,\"loading:barge_0\",\"loading:barge_0\",\"loading:barge_0\",\"loading:barge_0\",null,\"loading:barge_0\",\"loading:barge_0\",\"loading:barge_0\",\"loading:barge_0\",null,\"loading:barge_0\",\"loading:barge_0\",\"loading:barge_0\",\"loading:barge_0\",null,\"loading:barge_0\",\"loading:barge_0\",\"loading:barge_0\",\"loading:barge_0\",null,\"loading:barge_0\",\"loading:barge_0\",\"loading:barge_0\",\"loading:barge_0\",null],\"type\":\"scatter\"},{\"connectgaps\":false,\"hoverinfo\":\"y+name\",\"line\":{\"color\":\"rgb(174,76,132)\",\"width\":10},\"mode\":\"lines\",\"name\":\"loading:barge_1\",\"x\":[\"1970-01-01T01:15:52\",\"1970-01-01T01:15:52\",\"1970-01-01T01:49:12\",\"1970-01-01T01:49:12\",\"1970-01-01T01:49:12\",\"1970-01-01T04:20:56\",\"1970-01-01T04:20:56\",\"1970-01-01T04:54:16\",\"1970-01-01T04:54:16\",\"1970-01-01T04:54:16\",\"1970-01-01T07:26:00\",\"1970-01-01T07:26:00\",\"1970-01-01T07:59:20\",\"1970-01-01T07:59:20\",\"1970-01-01T07:59:20\",\"1970-01-01T10:40:32\",\"1970-01-01T10:40:32\",\"1970-01-01T11:13:52\",\"1970-01-01T11:13:52\",\"1970-01-01T11:13:52\",\"1970-01-01T14:24:32\",\"1970-01-01T14:24:32\",\"1970-01-01T14:57:52\",\"1970-01-01T14:57:52\",\"1970-01-01T14:57:52\",\"1970-01-01T18:08:32\",\"1970-01-01T18:08:32\",\"1970-01-01T18:41:52\",\"1970-01-01T18:41:52\",\"1970-01-01T18:41:52\",\"1970-01-01T21:52:32\",\"1970-01-01T21:52:32\",\"1970-01-01T22:25:52\",\"1970-01-01T22:25:52\",\"1970-01-01T22:25:52\",\"1970-01-02T01:36:32\",\"1970-01-02T01:36:32\",\"1970-01-02T02:09:52\",\"1970-01-02T02:09:52\",\"1970-01-02T02:09:52\",\"1970-01-01T01:15:52\",\"1970-01-01T01:15:52\",\"1970-01-01T01:49:12\",\"1970-01-01T01:49:12\",\"1970-01-01T01:49:12\",\"1970-01-01T04:20:56\",\"1970-01-01T04:20:56\",\"1970-01-01T04:54:16\",\"1970-01-01T04:54:16\",\"1970-01-01T04:54:16\",\"1970-01-01T07:26:00\",\"1970-01-01T07:26:00\",\"1970-01-01T07:59:20\",\"1970-01-01T07:59:20\",\"1970-01-01T07:59:20\",\"1970-01-01T10:40:32\",\"1970-01-01T10:40:32\",\"1970-01-01T11:13:52\",\"1970-01-01T11:13:52\",\"1970-01-01T11:13:52\",\"1970-01-01T14:24:32\",\"1970-01-01T14:24:32\",\"1970-01-01T14:57:52\",\"1970-01-01T14:57:52\",\"1970-01-01T14:57:52\",\"1970-01-01T18:08:32\",\"1970-01-01T18:08:32\",\"1970-01-01T18:41:52\",\"1970-01-01T18:41:52\",\"1970-01-01T18:41:52\",\"1970-01-01T21:52:32\",\"1970-01-01T21:52:32\",\"1970-01-01T22:25:52\",\"1970-01-01T22:25:52\",\"1970-01-01T22:25:52\",\"1970-01-02T01:36:32\",\"1970-01-02T01:36:32\",\"1970-01-02T02:09:52\",\"1970-01-02T02:09:52\",\"1970-01-02T02:09:52\"],\"y\":[\"loading:barge_1\",\"loading:barge_1\",\"loading:barge_1\",\"loading:barge_1\",null,\"loading:barge_1\",\"loading:barge_1\",\"loading:barge_1\",\"loading:barge_1\",null,\"loading:barge_1\",\"loading:barge_1\",\"loading:barge_1\",\"loading:barge_1\",null,\"loading:barge_1\",\"loading:barge_1\",\"loading:barge_1\",\"loading:barge_1\",null,\"loading:barge_1\",\"loading:barge_1\",\"loading:barge_1\",\"loading:barge_1\",null,\"loading:barge_1\",\"loading:barge_1\",\"loading:barge_1\",\"loading:barge_1\",null,\"loading:barge_1\",\"loading:barge_1\",\"loading:barge_1\",\"loading:barge_1\",null,\"loading:barge_1\",\"loading:barge_1\",\"loading:barge_1\",\"loading:barge_1\",null,\"loading:barge_1\",\"loading:barge_1\",\"loading:barge_1\",\"loading:barge_1\",null,\"loading:barge_1\",\"loading:barge_1\",\"loading:barge_1\",\"loading:barge_1\",null,\"loading:barge_1\",\"loading:barge_1\",\"loading:barge_1\",\"loading:barge_1\",null,\"loading:barge_1\",\"loading:barge_1\",\"loading:barge_1\",\"loading:barge_1\",null,\"loading:barge_1\",\"loading:barge_1\",\"loading:barge_1\",\"loading:barge_1\",null,\"loading:barge_1\",\"loading:barge_1\",\"loading:barge_1\",\"loading:barge_1\",null,\"loading:barge_1\",\"loading:barge_1\",\"loading:barge_1\",\"loading:barge_1\",null,\"loading:barge_1\",\"loading:barge_1\",\"loading:barge_1\",\"loading:barge_1\",null],\"type\":\"scatter\"},{\"connectgaps\":false,\"hoverinfo\":\"y+name\",\"line\":{\"color\":\"rgb(216,118,174)\",\"width\":10},\"mode\":\"lines\",\"name\":\"loading:barge_1\",\"x\":[\"1970-01-01T01:15:52\",\"1970-01-01T01:15:52\",\"1970-01-01T01:49:12\",\"1970-01-01T01:49:12\",\"1970-01-01T01:49:12\",\"1970-01-01T04:20:56\",\"1970-01-01T04:20:56\",\"1970-01-01T04:54:16\",\"1970-01-01T04:54:16\",\"1970-01-01T04:54:16\",\"1970-01-01T07:26:00\",\"1970-01-01T07:26:00\",\"1970-01-01T07:59:20\",\"1970-01-01T07:59:20\",\"1970-01-01T07:59:20\",\"1970-01-01T10:40:32\",\"1970-01-01T10:40:32\",\"1970-01-01T11:13:52\",\"1970-01-01T11:13:52\",\"1970-01-01T11:13:52\",\"1970-01-01T14:24:32\",\"1970-01-01T14:24:32\",\"1970-01-01T14:57:52\",\"1970-01-01T14:57:52\",\"1970-01-01T14:57:52\",\"1970-01-01T18:08:32\",\"1970-01-01T18:08:32\",\"1970-01-01T18:41:52\",\"1970-01-01T18:41:52\",\"1970-01-01T18:41:52\",\"1970-01-01T21:52:32\",\"1970-01-01T21:52:32\",\"1970-01-01T22:25:52\",\"1970-01-01T22:25:52\",\"1970-01-01T22:25:52\",\"1970-01-02T01:36:32\",\"1970-01-02T01:36:32\",\"1970-01-02T02:09:52\",\"1970-01-02T02:09:52\",\"1970-01-02T02:09:52\",\"1970-01-01T01:15:52\",\"1970-01-01T01:15:52\",\"1970-01-01T01:49:12\",\"1970-01-01T01:49:12\",\"1970-01-01T01:49:12\",\"1970-01-01T04:20:56\",\"1970-01-01T04:20:56\",\"1970-01-01T04:54:16\",\"1970-01-01T04:54:16\",\"1970-01-01T04:54:16\",\"1970-01-01T07:26:00\",\"1970-01-01T07:26:00\",\"1970-01-01T07:59:20\",\"1970-01-01T07:59:20\",\"1970-01-01T07:59:20\",\"1970-01-01T10:40:32\",\"1970-01-01T10:40:32\",\"1970-01-01T11:13:52\",\"1970-01-01T11:13:52\",\"1970-01-01T11:13:52\",\"1970-01-01T14:24:32\",\"1970-01-01T14:24:32\",\"1970-01-01T14:57:52\",\"1970-01-01T14:57:52\",\"1970-01-01T14:57:52\",\"1970-01-01T18:08:32\",\"1970-01-01T18:08:32\",\"1970-01-01T18:41:52\",\"1970-01-01T18:41:52\",\"1970-01-01T18:41:52\",\"1970-01-01T21:52:32\",\"1970-01-01T21:52:32\",\"1970-01-01T22:25:52\",\"1970-01-01T22:25:52\",\"1970-01-01T22:25:52\",\"1970-01-02T01:36:32\",\"1970-01-02T01:36:32\",\"1970-01-02T02:09:52\",\"1970-01-02T02:09:52\",\"1970-01-02T02:09:52\"],\"y\":[\"loading:barge_1\",\"loading:barge_1\",\"loading:barge_1\",\"loading:barge_1\",null,\"loading:barge_1\",\"loading:barge_1\",\"loading:barge_1\",\"loading:barge_1\",null,\"loading:barge_1\",\"loading:barge_1\",\"loading:barge_1\",\"loading:barge_1\",null,\"loading:barge_1\",\"loading:barge_1\",\"loading:barge_1\",\"loading:barge_1\",null,\"loading:barge_1\",\"loading:barge_1\",\"loading:barge_1\",\"loading:barge_1\",null,\"loading:barge_1\",\"loading:barge_1\",\"loading:barge_1\",\"loading:barge_1\",null,\"loading:barge_1\",\"loading:barge_1\",\"loading:barge_1\",\"loading:barge_1\",null,\"loading:barge_1\",\"loading:barge_1\",\"loading:barge_1\",\"loading:barge_1\",null,\"loading:barge_1\",\"loading:barge_1\",\"loading:barge_1\",\"loading:barge_1\",null,\"loading:barge_1\",\"loading:barge_1\",\"loading:barge_1\",\"loading:barge_1\",null,\"loading:barge_1\",\"loading:barge_1\",\"loading:barge_1\",\"loading:barge_1\",null,\"loading:barge_1\",\"loading:barge_1\",\"loading:barge_1\",\"loading:barge_1\",null,\"loading:barge_1\",\"loading:barge_1\",\"loading:barge_1\",\"loading:barge_1\",null,\"loading:barge_1\",\"loading:barge_1\",\"loading:barge_1\",\"loading:barge_1\",null,\"loading:barge_1\",\"loading:barge_1\",\"loading:barge_1\",\"loading:barge_1\",null,\"loading:barge_1\",\"loading:barge_1\",\"loading:barge_1\",\"loading:barge_1\",null],\"type\":\"scatter\"},{\"connectgaps\":false,\"hoverinfo\":\"y+name\",\"line\":{\"color\":\"rgb(2,160,216)\",\"width\":10},\"mode\":\"lines\",\"name\":\"loading:barge_2\",\"x\":[\"1970-01-01T01:49:12\",\"1970-01-01T01:49:12\",\"1970-01-01T02:30:52\",\"1970-01-01T02:30:52\",\"1970-01-01T02:30:52\",\"1970-01-01T05:06:20\",\"1970-01-01T05:06:20\",\"1970-01-01T05:48:00\",\"1970-01-01T05:48:00\",\"1970-01-01T05:48:00\",\"1970-01-01T08:23:28\",\"1970-01-01T08:23:28\",\"1970-01-01T09:05:08\",\"1970-01-01T09:05:08\",\"1970-01-01T09:05:08\",\"1970-01-01T11:40:36\",\"1970-01-01T11:40:36\",\"1970-01-01T12:22:16\",\"1970-01-01T12:22:16\",\"1970-01-01T12:22:16\",\"1970-01-01T14:57:52\",\"1970-01-01T14:57:52\",\"1970-01-01T15:39:32\",\"1970-01-01T15:39:32\",\"1970-01-01T15:39:32\",\"1970-01-01T18:41:52\",\"1970-01-01T18:41:52\",\"1970-01-01T19:23:32\",\"1970-01-01T19:23:32\",\"1970-01-01T19:23:32\",\"1970-01-01T22:25:52\",\"1970-01-01T22:25:52\",\"1970-01-01T23:07:32\",\"1970-01-01T23:07:32\",\"1970-01-01T23:07:32\",\"1970-01-01T01:49:12\",\"1970-01-01T01:49:12\",\"1970-01-01T02:30:52\",\"1970-01-01T02:30:52\",\"1970-01-01T02:30:52\",\"1970-01-01T05:06:20\",\"1970-01-01T05:06:20\",\"1970-01-01T05:48:00\",\"1970-01-01T05:48:00\",\"1970-01-01T05:48:00\",\"1970-01-01T08:23:28\",\"1970-01-01T08:23:28\",\"1970-01-01T09:05:08\",\"1970-01-01T09:05:08\",\"1970-01-01T09:05:08\",\"1970-01-01T11:40:36\",\"1970-01-01T11:40:36\",\"1970-01-01T12:22:16\",\"1970-01-01T12:22:16\",\"1970-01-01T12:22:16\",\"1970-01-01T14:57:52\",\"1970-01-01T14:57:52\",\"1970-01-01T15:39:32\",\"1970-01-01T15:39:32\",\"1970-01-01T15:39:32\",\"1970-01-01T18:41:52\",\"1970-01-01T18:41:52\",\"1970-01-01T19:23:32\",\"1970-01-01T19:23:32\",\"1970-01-01T19:23:32\",\"1970-01-01T22:25:52\",\"1970-01-01T22:25:52\",\"1970-01-01T23:07:32\",\"1970-01-01T23:07:32\",\"1970-01-01T23:07:32\"],\"y\":[\"loading:barge_2\",\"loading:barge_2\",\"loading:barge_2\",\"loading:barge_2\",null,\"loading:barge_2\",\"loading:barge_2\",\"loading:barge_2\",\"loading:barge_2\",null,\"loading:barge_2\",\"loading:barge_2\",\"loading:barge_2\",\"loading:barge_2\",null,\"loading:barge_2\",\"loading:barge_2\",\"loading:barge_2\",\"loading:barge_2\",null,\"loading:barge_2\",\"loading:barge_2\",\"loading:barge_2\",\"loading:barge_2\",null,\"loading:barge_2\",\"loading:barge_2\",\"loading:barge_2\",\"loading:barge_2\",null,\"loading:barge_2\",\"loading:barge_2\",\"loading:barge_2\",\"loading:barge_2\",null,\"loading:barge_2\",\"loading:barge_2\",\"loading:barge_2\",\"loading:barge_2\",null,\"loading:barge_2\",\"loading:barge_2\",\"loading:barge_2\",\"loading:barge_2\",null,\"loading:barge_2\",\"loading:barge_2\",\"loading:barge_2\",\"loading:barge_2\",null,\"loading:barge_2\",\"loading:barge_2\",\"loading:barge_2\",\"loading:barge_2\",null,\"loading:barge_2\",\"loading:barge_2\",\"loading:barge_2\",\"loading:barge_2\",null,\"loading:barge_2\",\"loading:barge_2\",\"loading:barge_2\",\"loading:barge_2\",null,\"loading:barge_2\",\"loading:barge_2\",\"loading:barge_2\",\"loading:barge_2\",null],\"type\":\"scatter\"},{\"connectgaps\":false,\"hoverinfo\":\"y+name\",\"line\":{\"color\":\"rgb(44,202,2)\",\"width\":10},\"mode\":\"lines\",\"name\":\"loading:barge_2\",\"x\":[\"1970-01-01T01:49:12\",\"1970-01-01T01:49:12\",\"1970-01-01T02:30:52\",\"1970-01-01T02:30:52\",\"1970-01-01T02:30:52\",\"1970-01-01T05:06:20\",\"1970-01-01T05:06:20\",\"1970-01-01T05:48:00\",\"1970-01-01T05:48:00\",\"1970-01-01T05:48:00\",\"1970-01-01T08:23:28\",\"1970-01-01T08:23:28\",\"1970-01-01T09:05:08\",\"1970-01-01T09:05:08\",\"1970-01-01T09:05:08\",\"1970-01-01T11:40:36\",\"1970-01-01T11:40:36\",\"1970-01-01T12:22:16\",\"1970-01-01T12:22:16\",\"1970-01-01T12:22:16\",\"1970-01-01T14:57:52\",\"1970-01-01T14:57:52\",\"1970-01-01T15:39:32\",\"1970-01-01T15:39:32\",\"1970-01-01T15:39:32\",\"1970-01-01T18:41:52\",\"1970-01-01T18:41:52\",\"1970-01-01T19:23:32\",\"1970-01-01T19:23:32\",\"1970-01-01T19:23:32\",\"1970-01-01T22:25:52\",\"1970-01-01T22:25:52\",\"1970-01-01T23:07:32\",\"1970-01-01T23:07:32\",\"1970-01-01T23:07:32\",\"1970-01-01T01:49:12\",\"1970-01-01T01:49:12\",\"1970-01-01T02:30:52\",\"1970-01-01T02:30:52\",\"1970-01-01T02:30:52\",\"1970-01-01T05:06:20\",\"1970-01-01T05:06:20\",\"1970-01-01T05:48:00\",\"1970-01-01T05:48:00\",\"1970-01-01T05:48:00\",\"1970-01-01T08:23:28\",\"1970-01-01T08:23:28\",\"1970-01-01T09:05:08\",\"1970-01-01T09:05:08\",\"1970-01-01T09:05:08\",\"1970-01-01T11:40:36\",\"1970-01-01T11:40:36\",\"1970-01-01T12:22:16\",\"1970-01-01T12:22:16\",\"1970-01-01T12:22:16\",\"1970-01-01T14:57:52\",\"1970-01-01T14:57:52\",\"1970-01-01T15:39:32\",\"1970-01-01T15:39:32\",\"1970-01-01T15:39:32\",\"1970-01-01T18:41:52\",\"1970-01-01T18:41:52\",\"1970-01-01T19:23:32\",\"1970-01-01T19:23:32\",\"1970-01-01T19:23:32\",\"1970-01-01T22:25:52\",\"1970-01-01T22:25:52\",\"1970-01-01T23:07:32\",\"1970-01-01T23:07:32\",\"1970-01-01T23:07:32\"],\"y\":[\"loading:barge_2\",\"loading:barge_2\",\"loading:barge_2\",\"loading:barge_2\",null,\"loading:barge_2\",\"loading:barge_2\",\"loading:barge_2\",\"loading:barge_2\",null,\"loading:barge_2\",\"loading:barge_2\",\"loading:barge_2\",\"loading:barge_2\",null,\"loading:barge_2\",\"loading:barge_2\",\"loading:barge_2\",\"loading:barge_2\",null,\"loading:barge_2\",\"loading:barge_2\",\"loading:barge_2\",\"loading:barge_2\",null,\"loading:barge_2\",\"loading:barge_2\",\"loading:barge_2\",\"loading:barge_2\",null,\"loading:barge_2\",\"loading:barge_2\",\"loading:barge_2\",\"loading:barge_2\",null,\"loading:barge_2\",\"loading:barge_2\",\"loading:barge_2\",\"loading:barge_2\",null,\"loading:barge_2\",\"loading:barge_2\",\"loading:barge_2\",\"loading:barge_2\",null,\"loading:barge_2\",\"loading:barge_2\",\"loading:barge_2\",\"loading:barge_2\",null,\"loading:barge_2\",\"loading:barge_2\",\"loading:barge_2\",\"loading:barge_2\",null,\"loading:barge_2\",\"loading:barge_2\",\"loading:barge_2\",\"loading:barge_2\",null,\"loading:barge_2\",\"loading:barge_2\",\"loading:barge_2\",\"loading:barge_2\",null,\"loading:barge_2\",\"loading:barge_2\",\"loading:barge_2\",\"loading:barge_2\",null],\"type\":\"scatter\"}],                        {\"hovermode\":\"closest\",\"legend\":{\"orientation\":\"h\",\"x\":0,\"y\":-0.2},\"template\":{\"data\":{\"barpolar\":[{\"marker\":{\"line\":{\"color\":\"#E5ECF6\",\"width\":0.5},\"pattern\":{\"fillmode\":\"overlay\",\"size\":10,\"solidity\":0.2}},\"type\":\"barpolar\"}],\"bar\":[{\"error_x\":{\"color\":\"#2a3f5f\"},\"error_y\":{\"color\":\"#2a3f5f\"},\"marker\":{\"line\":{\"color\":\"#E5ECF6\",\"width\":0.5},\"pattern\":{\"fillmode\":\"overlay\",\"size\":10,\"solidity\":0.2}},\"type\":\"bar\"}],\"carpet\":[{\"aaxis\":{\"endlinecolor\":\"#2a3f5f\",\"gridcolor\":\"white\",\"linecolor\":\"white\",\"minorgridcolor\":\"white\",\"startlinecolor\":\"#2a3f5f\"},\"baxis\":{\"endlinecolor\":\"#2a3f5f\",\"gridcolor\":\"white\",\"linecolor\":\"white\",\"minorgridcolor\":\"white\",\"startlinecolor\":\"#2a3f5f\"},\"type\":\"carpet\"}],\"choropleth\":[{\"colorbar\":{\"outlinewidth\":0,\"ticks\":\"\"},\"type\":\"choropleth\"}],\"contourcarpet\":[{\"colorbar\":{\"outlinewidth\":0,\"ticks\":\"\"},\"type\":\"contourcarpet\"}],\"contour\":[{\"colorbar\":{\"outlinewidth\":0,\"ticks\":\"\"},\"colorscale\":[[0.0,\"#0d0887\"],[0.1111111111111111,\"#46039f\"],[0.2222222222222222,\"#7201a8\"],[0.3333333333333333,\"#9c179e\"],[0.4444444444444444,\"#bd3786\"],[0.5555555555555556,\"#d8576b\"],[0.6666666666666666,\"#ed7953\"],[0.7777777777777778,\"#fb9f3a\"],[0.8888888888888888,\"#fdca26\"],[1.0,\"#f0f921\"]],\"type\":\"contour\"}],\"heatmapgl\":[{\"colorbar\":{\"outlinewidth\":0,\"ticks\":\"\"},\"colorscale\":[[0.0,\"#0d0887\"],[0.1111111111111111,\"#46039f\"],[0.2222222222222222,\"#7201a8\"],[0.3333333333333333,\"#9c179e\"],[0.4444444444444444,\"#bd3786\"],[0.5555555555555556,\"#d8576b\"],[0.6666666666666666,\"#ed7953\"],[0.7777777777777778,\"#fb9f3a\"],[0.8888888888888888,\"#fdca26\"],[1.0,\"#f0f921\"]],\"type\":\"heatmapgl\"}],\"heatmap\":[{\"colorbar\":{\"outlinewidth\":0,\"ticks\":\"\"},\"colorscale\":[[0.0,\"#0d0887\"],[0.1111111111111111,\"#46039f\"],[0.2222222222222222,\"#7201a8\"],[0.3333333333333333,\"#9c179e\"],[0.4444444444444444,\"#bd3786\"],[0.5555555555555556,\"#d8576b\"],[0.6666666666666666,\"#ed7953\"],[0.7777777777777778,\"#fb9f3a\"],[0.8888888888888888,\"#fdca26\"],[1.0,\"#f0f921\"]],\"type\":\"heatmap\"}],\"histogram2dcontour\":[{\"colorbar\":{\"outlinewidth\":0,\"ticks\":\"\"},\"colorscale\":[[0.0,\"#0d0887\"],[0.1111111111111111,\"#46039f\"],[0.2222222222222222,\"#7201a8\"],[0.3333333333333333,\"#9c179e\"],[0.4444444444444444,\"#bd3786\"],[0.5555555555555556,\"#d8576b\"],[0.6666666666666666,\"#ed7953\"],[0.7777777777777778,\"#fb9f3a\"],[0.8888888888888888,\"#fdca26\"],[1.0,\"#f0f921\"]],\"type\":\"histogram2dcontour\"}],\"histogram2d\":[{\"colorbar\":{\"outlinewidth\":0,\"ticks\":\"\"},\"colorscale\":[[0.0,\"#0d0887\"],[0.1111111111111111,\"#46039f\"],[0.2222222222222222,\"#7201a8\"],[0.3333333333333333,\"#9c179e\"],[0.4444444444444444,\"#bd3786\"],[0.5555555555555556,\"#d8576b\"],[0.6666666666666666,\"#ed7953\"],[0.7777777777777778,\"#fb9f3a\"],[0.8888888888888888,\"#fdca26\"],[1.0,\"#f0f921\"]],\"type\":\"histogram2d\"}],\"histogram\":[{\"marker\":{\"pattern\":{\"fillmode\":\"overlay\",\"size\":10,\"solidity\":0.2}},\"type\":\"histogram\"}],\"mesh3d\":[{\"colorbar\":{\"outlinewidth\":0,\"ticks\":\"\"},\"type\":\"mesh3d\"}],\"parcoords\":[{\"line\":{\"colorbar\":{\"outlinewidth\":0,\"ticks\":\"\"}},\"type\":\"parcoords\"}],\"pie\":[{\"automargin\":true,\"type\":\"pie\"}],\"scatter3d\":[{\"line\":{\"colorbar\":{\"outlinewidth\":0,\"ticks\":\"\"}},\"marker\":{\"colorbar\":{\"outlinewidth\":0,\"ticks\":\"\"}},\"type\":\"scatter3d\"}],\"scattercarpet\":[{\"marker\":{\"colorbar\":{\"outlinewidth\":0,\"ticks\":\"\"}},\"type\":\"scattercarpet\"}],\"scattergeo\":[{\"marker\":{\"colorbar\":{\"outlinewidth\":0,\"ticks\":\"\"}},\"type\":\"scattergeo\"}],\"scattergl\":[{\"marker\":{\"colorbar\":{\"outlinewidth\":0,\"ticks\":\"\"}},\"type\":\"scattergl\"}],\"scattermapbox\":[{\"marker\":{\"colorbar\":{\"outlinewidth\":0,\"ticks\":\"\"}},\"type\":\"scattermapbox\"}],\"scatterpolargl\":[{\"marker\":{\"colorbar\":{\"outlinewidth\":0,\"ticks\":\"\"}},\"type\":\"scatterpolargl\"}],\"scatterpolar\":[{\"marker\":{\"colorbar\":{\"outlinewidth\":0,\"ticks\":\"\"}},\"type\":\"scatterpolar\"}],\"scatter\":[{\"marker\":{\"colorbar\":{\"outlinewidth\":0,\"ticks\":\"\"}},\"type\":\"scatter\"}],\"scatterternary\":[{\"marker\":{\"colorbar\":{\"outlinewidth\":0,\"ticks\":\"\"}},\"type\":\"scatterternary\"}],\"surface\":[{\"colorbar\":{\"outlinewidth\":0,\"ticks\":\"\"},\"colorscale\":[[0.0,\"#0d0887\"],[0.1111111111111111,\"#46039f\"],[0.2222222222222222,\"#7201a8\"],[0.3333333333333333,\"#9c179e\"],[0.4444444444444444,\"#bd3786\"],[0.5555555555555556,\"#d8576b\"],[0.6666666666666666,\"#ed7953\"],[0.7777777777777778,\"#fb9f3a\"],[0.8888888888888888,\"#fdca26\"],[1.0,\"#f0f921\"]],\"type\":\"surface\"}],\"table\":[{\"cells\":{\"fill\":{\"color\":\"#EBF0F8\"},\"line\":{\"color\":\"white\"}},\"header\":{\"fill\":{\"color\":\"#C8D4E3\"},\"line\":{\"color\":\"white\"}},\"type\":\"table\"}]},\"layout\":{\"annotationdefaults\":{\"arrowcolor\":\"#2a3f5f\",\"arrowhead\":0,\"arrowwidth\":1},\"autotypenumbers\":\"strict\",\"coloraxis\":{\"colorbar\":{\"outlinewidth\":0,\"ticks\":\"\"}},\"colorscale\":{\"diverging\":[[0,\"#8e0152\"],[0.1,\"#c51b7d\"],[0.2,\"#de77ae\"],[0.3,\"#f1b6da\"],[0.4,\"#fde0ef\"],[0.5,\"#f7f7f7\"],[0.6,\"#e6f5d0\"],[0.7,\"#b8e186\"],[0.8,\"#7fbc41\"],[0.9,\"#4d9221\"],[1,\"#276419\"]],\"sequential\":[[0.0,\"#0d0887\"],[0.1111111111111111,\"#46039f\"],[0.2222222222222222,\"#7201a8\"],[0.3333333333333333,\"#9c179e\"],[0.4444444444444444,\"#bd3786\"],[0.5555555555555556,\"#d8576b\"],[0.6666666666666666,\"#ed7953\"],[0.7777777777777778,\"#fb9f3a\"],[0.8888888888888888,\"#fdca26\"],[1.0,\"#f0f921\"]],\"sequentialminus\":[[0.0,\"#0d0887\"],[0.1111111111111111,\"#46039f\"],[0.2222222222222222,\"#7201a8\"],[0.3333333333333333,\"#9c179e\"],[0.4444444444444444,\"#bd3786\"],[0.5555555555555556,\"#d8576b\"],[0.6666666666666666,\"#ed7953\"],[0.7777777777777778,\"#fb9f3a\"],[0.8888888888888888,\"#fdca26\"],[1.0,\"#f0f921\"]]},\"colorway\":[\"#636efa\",\"#EF553B\",\"#00cc96\",\"#ab63fa\",\"#FFA15A\",\"#19d3f3\",\"#FF6692\",\"#B6E880\",\"#FF97FF\",\"#FECB52\"],\"font\":{\"color\":\"#2a3f5f\"},\"geo\":{\"bgcolor\":\"white\",\"lakecolor\":\"white\",\"landcolor\":\"#E5ECF6\",\"showlakes\":true,\"showland\":true,\"subunitcolor\":\"white\"},\"hoverlabel\":{\"align\":\"left\"},\"hovermode\":\"closest\",\"mapbox\":{\"style\":\"light\"},\"paper_bgcolor\":\"white\",\"plot_bgcolor\":\"#E5ECF6\",\"polar\":{\"angularaxis\":{\"gridcolor\":\"white\",\"linecolor\":\"white\",\"ticks\":\"\"},\"bgcolor\":\"#E5ECF6\",\"radialaxis\":{\"gridcolor\":\"white\",\"linecolor\":\"white\",\"ticks\":\"\"}},\"scene\":{\"xaxis\":{\"backgroundcolor\":\"#E5ECF6\",\"gridcolor\":\"white\",\"gridwidth\":2,\"linecolor\":\"white\",\"showbackground\":true,\"ticks\":\"\",\"zerolinecolor\":\"white\"},\"yaxis\":{\"backgroundcolor\":\"#E5ECF6\",\"gridcolor\":\"white\",\"gridwidth\":2,\"linecolor\":\"white\",\"showbackground\":true,\"ticks\":\"\",\"zerolinecolor\":\"white\"},\"zaxis\":{\"backgroundcolor\":\"#E5ECF6\",\"gridcolor\":\"white\",\"gridwidth\":2,\"linecolor\":\"white\",\"showbackground\":true,\"ticks\":\"\",\"zerolinecolor\":\"white\"}},\"shapedefaults\":{\"line\":{\"color\":\"#2a3f5f\"}},\"ternary\":{\"aaxis\":{\"gridcolor\":\"white\",\"linecolor\":\"white\",\"ticks\":\"\"},\"baxis\":{\"gridcolor\":\"white\",\"linecolor\":\"white\",\"ticks\":\"\"},\"bgcolor\":\"#E5ECF6\",\"caxis\":{\"gridcolor\":\"white\",\"linecolor\":\"white\",\"ticks\":\"\"}},\"title\":{\"x\":0.05},\"xaxis\":{\"automargin\":true,\"gridcolor\":\"white\",\"linecolor\":\"white\",\"ticks\":\"\",\"title\":{\"standoff\":15},\"zerolinecolor\":\"white\",\"zerolinewidth\":2},\"yaxis\":{\"automargin\":true,\"gridcolor\":\"white\",\"linecolor\":\"white\",\"ticks\":\"\",\"title\":{\"standoff\":15},\"zerolinecolor\":\"white\",\"zerolinewidth\":2}}},\"title\":{\"text\":\"GANTT Chart\"},\"xaxis\":{\"range\":[\"1970-01-01T01:15:52\",\"1970-01-02T02:09:52\"],\"title\":{\"font\":{\"color\":\"#7f7f7f\",\"family\":\"Courier New, monospace\",\"size\":18},\"text\":\"Time\"}},\"yaxis\":{\"title\":{\"font\":{\"color\":\"#7f7f7f\",\"family\":\"Courier New, monospace\",\"size\":18},\"text\":\"Activities\"}}},                        {\"responsive\": true}                    ).then(function(){\n",
       "                            \n",
       "var gd = document.getElementById('dca848b8-9ad4-4367-b48a-1b23162b455e');\n",
       "var x = new MutationObserver(function (mutations, observer) {{\n",
       "        var display = window.getComputedStyle(gd).display;\n",
       "        if (!display || display === 'none') {{\n",
       "            console.log([gd, 'removed!']);\n",
       "            Plotly.purge(gd);\n",
       "            observer.disconnect();\n",
       "        }}\n",
       "}});\n",
       "\n",
       "// Listen for the removal of the full notebook cells\n",
       "var notebookContainer = gd.closest('#notebook-container');\n",
       "if (notebookContainer) {{\n",
       "    x.observe(notebookContainer, {childList: true});\n",
       "}}\n",
       "\n",
       "// Listen for the clearing of the current output cell\n",
       "var outputEl = gd.closest('.output');\n",
       "if (outputEl) {{\n",
       "    x.observe(outputEl, {childList: true});\n",
       "}}\n",
       "\n",
       "                        })                };                });            </script>        </div>"
      ]
     },
     "metadata": {},
     "output_type": "display_data"
    }
   ],
   "source": [
    "def expand(a, namespace):\n",
    "    n = len(namespace)\n",
    "    sa = []\n",
    "    if a.name[0:n]==namespace:\n",
    "        sa.append(a)\n",
    "    if hasattr(a, \"sub_processes\"):\n",
    "        for s in a.sub_processes:\n",
    "            if s.name[0:n]==namespace:\n",
    "                sa.append(s)\n",
    "            sa+=expand(s,namespace)\n",
    "    return sa\n",
    "all_activities = []\n",
    "for a in [*activities]:\n",
    "    all_activities+=expand(activities[a],'load')\n",
    "all_activities\n",
    "fig = plot.get_gantt_chart(all_activities)"
   ]
  },
  {
   "cell_type": "code",
   "execution_count": 8,
   "metadata": {},
   "outputs": [
    {
     "data": {
      "image/png": "[encoded data removed]",
      "text/plain": [
       "<Figure size 1008x504 with 1 Axes>"
      ]
     },
     "metadata": {
      "needs_background": "light"
     },
     "output_type": "display_data"
    }
   ],
   "source": [
    "fig = plot.get_step_chart([from_site, to_site, *vessels.values()])"
   ]
  },
  {
   "cell_type": "code",
   "execution_count": 9,
   "metadata": {},
   "outputs": [
    {
     "data": {
      "text/html": [
       "<div>\n",
       "<style scoped>\n",
       "    .dataframe tbody tr th:only-of-type {\n",
       "        vertical-align: middle;\n",
       "    }\n",
       "\n",
       "    .dataframe tbody tr th {\n",
       "        vertical-align: top;\n",
       "    }\n",
       "\n",
       "    .dataframe thead th {\n",
       "        text-align: right;\n",
       "    }\n",
       "</style>\n",
       "<table border=\"1\" class=\"dataframe\">\n",
       "  <thead>\n",
       "    <tr style=\"text-align: right;\">\n",
       "      <th></th>\n",
       "      <th>name</th>\n",
       "      <th>trips</th>\n",
       "      <th>theoretical production</th>\n",
       "      <th>production</th>\n",
       "    </tr>\n",
       "  </thead>\n",
       "  <tbody>\n",
       "    <tr>\n",
       "      <th>2</th>\n",
       "      <td>barge_2</td>\n",
       "      <td>7</td>\n",
       "      <td>0.000535</td>\n",
       "      <td>0.000398</td>\n",
       "    </tr>\n",
       "    <tr>\n",
       "      <th>0</th>\n",
       "      <td>barge_0</td>\n",
       "      <td>7</td>\n",
       "      <td>0.000456</td>\n",
       "      <td>0.000358</td>\n",
       "    </tr>\n",
       "    <tr>\n",
       "      <th>1</th>\n",
       "      <td>barge_1</td>\n",
       "      <td>8</td>\n",
       "      <td>0.000438</td>\n",
       "      <td>0.000324</td>\n",
       "    </tr>\n",
       "  </tbody>\n",
       "</table>\n",
       "</div>"
      ],
      "text/plain": [
       "      name  trips  theoretical production  production\n",
       "2  barge_2      7                0.000535    0.000398\n",
       "0  barge_0      7                0.000456    0.000358\n",
       "1  barge_1      8                0.000438    0.000324"
      ]
     },
     "execution_count": 9,
     "metadata": {},
     "output_type": "execute_result"
    }
   ],
   "source": [
    "data = []\n",
    "for i in range(len(vessels.values()) - 1):\n",
    "    vessel = vessels[f'vessel{i}']\n",
    "    activity = activities[f'activity{i}']\n",
    "    sub_act = activity.sub_processes[0].sub_processes[-1]\n",
    "    log = pd.DataFrame(vessel.log)\n",
    "    nr_trips = len(log[(log.ActivityID == sub_act.id) & (log.ActivityState == \"START\")])\n",
    "    data.append({\n",
    "        'name':vessel.name, \n",
    "        'trips':nr_trips, \n",
    "        'theoretical production': (sub_act.amount / (4*sub_act.duration+ 5*sub_act.amount)),\n",
    "        'production':(nr_trips * sub_act.amount) / ((log.Timestamp.max() - log.Timestamp.min()).total_seconds()),\n",
    "    })\n",
    "df = pd.DataFrame(data).sort_values(by=['production'],ascending=False)\n",
    "df"
   ]
  },
  {
   "cell_type": "code",
   "execution_count": null,
   "metadata": {},
   "outputs": [],
   "source": []
  },
  {
   "cell_type": "code",
   "execution_count": null,
   "metadata": {},
   "outputs": [],
   "source": []
  }
 ],
 "metadata": {
  "kernelspec": {
   "display_name": "Python 3",
   "language": "python",
   "name": "python3"
  },
  "language_info": {
   "codemirror_mode": {
    "name": "ipython",
    "version": 3
   },
   "file_extension": ".py",
   "mimetype": "text/x-python",
   "name": "python",
   "nbconvert_exporter": "python",
   "pygments_lexer": "ipython3",
   "version": "3.8.5"
  }
 },
 "nbformat": 4,
 "nbformat_minor": 5
}
