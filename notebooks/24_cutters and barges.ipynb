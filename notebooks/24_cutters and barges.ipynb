{
 "cells": [
  {
   "cell_type": "markdown",
   "id": "384a3d39",
   "metadata": {},
   "source": [
    "## feeder concept: cutter + barges\n",
    "\n",
    "This notebook shows how to implement a basic feeder concept for a cutter suction dredge working with multiple barges."
   ]
  },
  {
   "cell_type": "code",
   "execution_count": 1,
   "id": "b6580ad4",
   "metadata": {},
   "outputs": [],
   "source": [
    "import datetime, time\n",
    "import simpy\n",
    "\n",
    "import shapely.geometry\n",
    "import pandas as pd\n",
    "\n",
    "import openclsim.core as core\n",
    "import openclsim.model as model\n",
    "from openclsim.utils import flatten, export_concepts, export_activities\n",
    "from openclsim.plot import get_step_chart, get_gantt_chart, get_log_dataframe, get_ranges_dataframe\n",
    "import numpy as np"
   ]
  },
  {
   "cell_type": "code",
   "execution_count": 2,
   "id": "5d93d662",
   "metadata": {},
   "outputs": [],
   "source": [
    "cutter_name    = 'Cutter T'\n",
    "barge_names    = ['Carrier A','Carrier B','Carrier C',\n",
    "                  'Barge I','Barge II','Barge III',\n",
    "                  'Extra 1', 'Extra 2', 'Extra 3']\n",
    "vessel_cost     = {'Carrier A':6000,'Carrier B':6000,'Carrier C':6000,\n",
    "                  'Barge I':5000,'Barge II':5000,'Barge III':5000,\n",
    "                  'Extra 1':4000, 'Extra 2':4000, 'Extra 3':4000,\n",
    "                  'Cutter T':25000} # EUR/day\n",
    "# vessel_amount and vessel_durations are random within a range,\n",
    "# to mimic respectively material density variations\n",
    "# and metocean workability conditions and traffic density.\n",
    "\n",
    "amount_range = [4,6]\n",
    "duration_range = [2000,3000]\n",
    "\n",
    "from_site_name = 'Trench'\n",
    "to_site_name   = 'Reclamation'"
   ]
  },
  {
   "cell_type": "code",
   "execution_count": 3,
   "id": "102a1c18",
   "metadata": {},
   "outputs": [],
   "source": [
    "Site = type(\n",
    "    \"Site\",\n",
    "    (\n",
    "        core.Identifiable,\n",
    "        core.Log,\n",
    "        core.Locatable,\n",
    "        core.HasContainer,\n",
    "        core.HasResource,\n",
    "    ),\n",
    "    {},\n",
    ")\n",
    "TransportProcessingResource = type(\n",
    "    \"TransportProcessingResource\",\n",
    "    (\n",
    "        core.Identifiable,\n",
    "        core.Log,\n",
    "        core.ContainerDependentMovable,\n",
    "        core.Processor,\n",
    "        core.HasResource,\n",
    "    ),\n",
    "    {},\n",
    ")"
   ]
  },
  {
   "cell_type": "code",
   "execution_count": 4,
   "id": "cef14598",
   "metadata": {},
   "outputs": [],
   "source": [
    "def run(NR_BARGES, total_amount, simulation_start=0):\n",
    "    my_env = simpy.Environment(initial_time=simulation_start)\n",
    "    registry = {}\n",
    "\n",
    "    location_from_site = shapely.geometry.Point(4.18055556, 52.18664444)\n",
    "    location_to_site = shapely.geometry.Point(4.25222222, 52.11428333)\n",
    "    \n",
    "    sites = {}\n",
    "\n",
    "    data_from_site = {\"env\": my_env,\n",
    "                      \"name\": from_site_name,\n",
    "                      \"geometry\": location_from_site,\n",
    "                      \"capacity\": total_amount,\n",
    "                      \"level\": total_amount,\n",
    "                      \"nr_resources\":1\n",
    "                     }\n",
    "    from_site =  Site(**data_from_site)\n",
    "    sites[from_site_name] = from_site\n",
    "\n",
    "\n",
    "    location_to_site = shapely.geometry.Point(4.25222222, 52.11428333)\n",
    "    data_to_site = {\"env\": my_env,\n",
    "                    \"name\": to_site_name,\n",
    "                    \"geometry\": location_to_site,\n",
    "                    \"capacity\": total_amount,\n",
    "                    \"level\": 0,\n",
    "                    \"nr_resources\":4\n",
    "                   }\n",
    "    to_site = Site(**data_to_site)\n",
    "    sites[to_site_name] = to_site\n",
    "\n",
    "    vessels = {}\n",
    "\n",
    "    for i in range(NR_BARGES):\n",
    "        vessel_name = barge_names[i]\n",
    "        vessels[vessel_name] = TransportProcessingResource(\n",
    "            env=my_env,\n",
    "            name=vessel_name,\n",
    "            geometry=location_from_site, \n",
    "            capacity=10,\n",
    "            compute_v=lambda x: 10\n",
    "        )\n",
    "    cutter = TransportProcessingResource(\n",
    "        env=my_env,\n",
    "        name=cutter_name,\n",
    "        geometry=location_from_site, \n",
    "        capacity=10,\n",
    "        compute_v=lambda x: 10\n",
    "    )\n",
    "    vessels[cutter_name] = cutter\n",
    "    \n",
    "\n",
    "    activities = {}\n",
    "    for i in range(NR_BARGES):\n",
    "        vessel_name = barge_names[i]\n",
    "        amount = np.random.randint(amount_range[0], amount_range[1]) # handle loading\n",
    "        duration=np.random.randint(duration_range[0], duration_range[1]) # sailing and unloading\n",
    "\n",
    "        requested_resources={}\n",
    "        activities[f\"activity{i}\"] = model.WhileActivity(\n",
    "            env=my_env,\n",
    "            name=f\"while_sequential_activity_subcycle {vessel_name}\",\n",
    "            registry=registry,\n",
    "            sub_processes=[model.SequentialActivity(\n",
    "                env=my_env,\n",
    "                name=f\"sequential_activity_subcycle {vessel_name}\",\n",
    "                registry=registry,\n",
    "                sub_processes=[\n",
    "# cannot be linked to a vessel as it is neither mover, processor, origin or destination\n",
    "#                     model.BasicActivity(\n",
    "#                         env=my_env,\n",
    "#                         name=f\"basic activity:\"+vessels[vessel_name].name,\n",
    "#                         registry=registry,\n",
    "#                         duration=duration,\n",
    "#                         additional_logs=[vessels[vessel_name]],\n",
    "#                     ),\n",
    "                    model.MoveActivity(\n",
    "                        env=my_env,\n",
    "                        name=f\"sailing empty:\"+vessels[vessel_name].name,\n",
    "                        registry=registry,\n",
    "                        mover=vessels[vessel_name],\n",
    "                        destination=from_site,\n",
    "                        duration=duration,\n",
    "                    ),\n",
    "                    model.ShiftAmountActivity(\n",
    "                        env=my_env,\n",
    "                        name=f\"loading:\"+vessels[vessel_name].name,\n",
    "                        registry=registry,\n",
    "                        processor=cutter,\n",
    "                        origin=from_site,\n",
    "                        destination=vessels[vessel_name],\n",
    "                        amount=amount,\n",
    "                        duration=500*amount,\n",
    "                        requested_resources=requested_resources,\n",
    "                    ),\n",
    "                    model.MoveActivity(\n",
    "                        env=my_env,\n",
    "                        name=f\"sailing full:\"+vessels[vessel_name].name,\n",
    "                        registry=registry,\n",
    "                        mover=vessels[vessel_name],\n",
    "                        destination=to_site,\n",
    "                        duration=duration,\n",
    "                    ),\n",
    "                    model.ShiftAmountActivity(\n",
    "                        env=my_env,\n",
    "                        name=f\"unloading:\"+vessels[vessel_name].name,\n",
    "                        registry=registry,\n",
    "                        processor=vessels[vessel_name],\n",
    "                        origin=vessels[vessel_name],\n",
    "                        destination=to_site,\n",
    "                        amount=amount,\n",
    "                        duration=duration,\n",
    "                        requested_resources=requested_resources,\n",
    "                    ),\n",
    "                ],\n",
    "            )],\n",
    "            condition_event=[\n",
    "                {\n",
    "                    \"type\": \"container\", \n",
    "                    \"concept\": to_site, \n",
    "                    \"state\": \"full\",\n",
    "                    \"id_\":\"default_reservations\"\n",
    "                }\n",
    "            ],\n",
    "        )\n",
    "\n",
    "    model.register_processes(list(activities.values()))\n",
    "    my_env.run()\n",
    "    \n",
    "    return {\n",
    "        \"vessels\": vessels,\n",
    "        \"activities\":activities,\n",
    "        \"sites\":sites\n",
    "    }\n"
   ]
  },
  {
   "cell_type": "markdown",
   "id": "a81e634c",
   "metadata": {},
   "source": [
    "# Example plots with 3 barges"
   ]
  },
  {
   "cell_type": "code",
   "execution_count": 5,
   "id": "9aa8b351",
   "metadata": {},
   "outputs": [
    {
     "name": "stdout",
     "output_type": "stream",
     "text": [
      "CPU times: user 55.3 ms, sys: 2.25 ms, total: 57.6 ms\n",
      "Wall time: 47.7 ms\n"
     ]
    }
   ],
   "source": [
    "%%time\n",
    "nbarges = len(barge_names)\n",
    "assert len(set(barge_names))==len(barge_names), 'barge_names need to be unique'\n",
    "total_amount = 100\n",
    "simulation_start = 0\n",
    "res = run(3,total_amount, simulation_start)\n",
    "\n",
    "vessels = res['vessels']\n",
    "sites = res['sites']\n",
    "activities = res['activities']\n",
    "\n",
    "cutter = vessels[cutter_name]\n",
    "to_site = sites[to_site_name]\n",
    "from_site = sites[from_site_name]"
   ]
  },
  {
   "cell_type": "code",
   "execution_count": 6,
   "id": "8f993fc6",
   "metadata": {},
   "outputs": [
    {
     "data": {
      "text/html": [
       "        <script type=\"text/javascript\">\n",
       "        window.PlotlyConfig = {MathJaxConfig: 'local'};\n",
       "        if (window.MathJax && window.MathJax.Hub && window.MathJax.Hub.Config) {window.MathJax.Hub.Config({SVG: {font: \"STIX-Web\"}});}\n",
       "        if (typeof require !== 'undefined') {\n",
       "        require.undef(\"plotly\");\n",
       "        requirejs.config({\n",
       "            paths: {\n",
       "                'plotly': ['https://cdn.plot.ly/plotly-2.18.2.min']\n",
       "            }\n",
       "        });\n",
       "        require(['plotly'], function(Plotly) {\n",
       "            window._Plotly = Plotly;\n",
       "        });\n",
       "        }\n",
       "        </script>\n",
       "        "
      ]
     },
     "metadata": {},
     "output_type": "display_data"
    },
    {
     "data": {
      "application/vnd.plotly.v1+json": {
       "config": {
        "linkText": "Export to plot.ly",
        "plotlyServerURL": "https://plot.ly",
        "showLink": false
       },
       "data": [
        {
         "connectgaps": false,
         "hoverinfo": "y+name",
         "line": {
          "color": "rgb(250,192,6)",
          "width": 10
         },
         "mode": "lines",
         "name": "unloading:Carrier A",
         "type": "scatter",
         "x": [
          "1970-01-01T03:15:47",
          "1970-01-01T03:15:47",
          "1970-01-01T03:56:42",
          "1970-01-01T03:56:42",
          "1970-01-01T03:56:42",
          "1970-01-01T06:00:12",
          "1970-01-01T06:00:12",
          "1970-01-01T06:41:07",
          "1970-01-01T06:41:07",
          "1970-01-01T06:41:07",
          "1970-01-01T08:44:37",
          "1970-01-01T08:44:37",
          "1970-01-01T09:25:32",
          "1970-01-01T09:25:32",
          "1970-01-01T09:25:32",
          "1970-01-01T11:29:02",
          "1970-01-01T11:29:02",
          "1970-01-01T12:09:57",
          "1970-01-01T12:09:57",
          "1970-01-01T12:09:57",
          "1970-01-01T14:13:27",
          "1970-01-01T14:13:27",
          "1970-01-01T14:54:22",
          "1970-01-01T14:54:22",
          "1970-01-01T14:54:22",
          "1970-01-01T16:57:52",
          "1970-01-01T16:57:52",
          "1970-01-01T17:38:47",
          "1970-01-01T17:38:47",
          "1970-01-01T17:38:47",
          "1970-01-01T19:42:17",
          "1970-01-01T19:42:17",
          "1970-01-01T20:23:12",
          "1970-01-01T20:23:12",
          "1970-01-01T20:23:12"
         ],
         "y": [
          "Carrier A",
          "Carrier A",
          "Carrier A",
          "Carrier A",
          null,
          "Carrier A",
          "Carrier A",
          "Carrier A",
          "Carrier A",
          null,
          "Carrier A",
          "Carrier A",
          "Carrier A",
          "Carrier A",
          null,
          "Carrier A",
          "Carrier A",
          "Carrier A",
          "Carrier A",
          null,
          "Carrier A",
          "Carrier A",
          "Carrier A",
          "Carrier A",
          null,
          "Carrier A",
          "Carrier A",
          "Carrier A",
          "Carrier A",
          null,
          "Carrier A",
          "Carrier A",
          "Carrier A",
          "Carrier A",
          null
         ]
        },
        {
         "connectgaps": false,
         "hoverinfo": "y+name",
         "line": {
          "color": "rgb(11,209,23)",
          "width": 10
         },
         "mode": "lines",
         "name": "loading:Carrier A",
         "type": "scatter",
         "x": [
          "1970-01-01T01:53:12",
          "1970-01-01T01:53:12",
          "1970-01-01T02:34:52",
          "1970-01-01T02:34:52",
          "1970-01-01T02:34:52",
          "1970-01-01T04:37:37",
          "1970-01-01T04:37:37",
          "1970-01-01T05:19:17",
          "1970-01-01T05:19:17",
          "1970-01-01T05:19:17",
          "1970-01-01T07:22:02",
          "1970-01-01T07:22:02",
          "1970-01-01T08:03:42",
          "1970-01-01T08:03:42",
          "1970-01-01T08:03:42",
          "1970-01-01T10:06:27",
          "1970-01-01T10:06:27",
          "1970-01-01T10:48:07",
          "1970-01-01T10:48:07",
          "1970-01-01T10:48:07",
          "1970-01-01T12:50:52",
          "1970-01-01T12:50:52",
          "1970-01-01T13:32:32",
          "1970-01-01T13:32:32",
          "1970-01-01T13:32:32",
          "1970-01-01T15:35:17",
          "1970-01-01T15:35:17",
          "1970-01-01T16:16:57",
          "1970-01-01T16:16:57",
          "1970-01-01T16:16:57",
          "1970-01-01T18:19:42",
          "1970-01-01T18:19:42",
          "1970-01-01T19:01:22",
          "1970-01-01T19:01:22",
          "1970-01-01T19:01:22",
          "1970-01-01T01:53:12",
          "1970-01-01T01:53:12",
          "1970-01-01T02:34:52",
          "1970-01-01T02:34:52",
          "1970-01-01T02:34:52",
          "1970-01-01T04:37:37",
          "1970-01-01T04:37:37",
          "1970-01-01T05:19:17",
          "1970-01-01T05:19:17",
          "1970-01-01T05:19:17",
          "1970-01-01T07:22:02",
          "1970-01-01T07:22:02",
          "1970-01-01T08:03:42",
          "1970-01-01T08:03:42",
          "1970-01-01T08:03:42",
          "1970-01-01T10:06:27",
          "1970-01-01T10:06:27",
          "1970-01-01T10:48:07",
          "1970-01-01T10:48:07",
          "1970-01-01T10:48:07",
          "1970-01-01T12:50:52",
          "1970-01-01T12:50:52",
          "1970-01-01T13:32:32",
          "1970-01-01T13:32:32",
          "1970-01-01T13:32:32",
          "1970-01-01T15:35:17",
          "1970-01-01T15:35:17",
          "1970-01-01T16:16:57",
          "1970-01-01T16:16:57",
          "1970-01-01T16:16:57",
          "1970-01-01T18:19:42",
          "1970-01-01T18:19:42",
          "1970-01-01T19:01:22",
          "1970-01-01T19:01:22",
          "1970-01-01T19:01:22"
         ],
         "y": [
          "Carrier A",
          "Carrier A",
          "Carrier A",
          "Carrier A",
          null,
          "Carrier A",
          "Carrier A",
          "Carrier A",
          "Carrier A",
          null,
          "Carrier A",
          "Carrier A",
          "Carrier A",
          "Carrier A",
          null,
          "Carrier A",
          "Carrier A",
          "Carrier A",
          "Carrier A",
          null,
          "Carrier A",
          "Carrier A",
          "Carrier A",
          "Carrier A",
          null,
          "Carrier A",
          "Carrier A",
          "Carrier A",
          "Carrier A",
          null,
          "Carrier A",
          "Carrier A",
          "Carrier A",
          "Carrier A",
          null,
          "Cutter T",
          "Cutter T",
          "Cutter T",
          "Cutter T",
          null,
          "Cutter T",
          "Cutter T",
          "Cutter T",
          "Cutter T",
          null,
          "Cutter T",
          "Cutter T",
          "Cutter T",
          "Cutter T",
          null,
          "Cutter T",
          "Cutter T",
          "Cutter T",
          "Cutter T",
          null,
          "Cutter T",
          "Cutter T",
          "Cutter T",
          "Cutter T",
          null,
          "Cutter T",
          "Cutter T",
          "Cutter T",
          "Cutter T",
          null,
          "Cutter T",
          "Cutter T",
          "Cutter T",
          "Cutter T",
          null
         ]
        },
        {
         "connectgaps": false,
         "hoverinfo": "y+name",
         "line": {
          "color": "rgb(28,226,40)",
          "width": 10
         },
         "mode": "lines",
         "name": "sailing empty:Carrier A",
         "type": "scatter",
         "x": [
          "1970-01-01T00:00:00",
          "1970-01-01T00:00:00",
          "1970-01-01T00:40:55",
          "1970-01-01T00:40:55",
          "1970-01-01T00:40:55",
          "1970-01-01T03:56:42",
          "1970-01-01T03:56:42",
          "1970-01-01T04:37:37",
          "1970-01-01T04:37:37",
          "1970-01-01T04:37:37",
          "1970-01-01T06:41:07",
          "1970-01-01T06:41:07",
          "1970-01-01T07:22:02",
          "1970-01-01T07:22:02",
          "1970-01-01T07:22:02",
          "1970-01-01T09:25:32",
          "1970-01-01T09:25:32",
          "1970-01-01T10:06:27",
          "1970-01-01T10:06:27",
          "1970-01-01T10:06:27",
          "1970-01-01T12:09:57",
          "1970-01-01T12:09:57",
          "1970-01-01T12:50:52",
          "1970-01-01T12:50:52",
          "1970-01-01T12:50:52",
          "1970-01-01T14:54:22",
          "1970-01-01T14:54:22",
          "1970-01-01T15:35:17",
          "1970-01-01T15:35:17",
          "1970-01-01T15:35:17",
          "1970-01-01T17:38:47",
          "1970-01-01T17:38:47",
          "1970-01-01T18:19:42",
          "1970-01-01T18:19:42",
          "1970-01-01T18:19:42"
         ],
         "y": [
          "Carrier A",
          "Carrier A",
          "Carrier A",
          "Carrier A",
          null,
          "Carrier A",
          "Carrier A",
          "Carrier A",
          "Carrier A",
          null,
          "Carrier A",
          "Carrier A",
          "Carrier A",
          "Carrier A",
          null,
          "Carrier A",
          "Carrier A",
          "Carrier A",
          "Carrier A",
          null,
          "Carrier A",
          "Carrier A",
          "Carrier A",
          "Carrier A",
          null,
          "Carrier A",
          "Carrier A",
          "Carrier A",
          "Carrier A",
          null,
          "Carrier A",
          "Carrier A",
          "Carrier A",
          "Carrier A",
          null
         ]
        },
        {
         "connectgaps": false,
         "hoverinfo": "y+name",
         "line": {
          "color": "rgb(45,243,57)",
          "width": 10
         },
         "mode": "lines",
         "name": "sailing full:Carrier A",
         "type": "scatter",
         "x": [
          "1970-01-01T02:34:52",
          "1970-01-01T02:34:52",
          "1970-01-01T03:15:47",
          "1970-01-01T03:15:47",
          "1970-01-01T03:15:47",
          "1970-01-01T05:19:17",
          "1970-01-01T05:19:17",
          "1970-01-01T06:00:12",
          "1970-01-01T06:00:12",
          "1970-01-01T06:00:12",
          "1970-01-01T08:03:42",
          "1970-01-01T08:03:42",
          "1970-01-01T08:44:37",
          "1970-01-01T08:44:37",
          "1970-01-01T08:44:37",
          "1970-01-01T10:48:07",
          "1970-01-01T10:48:07",
          "1970-01-01T11:29:02",
          "1970-01-01T11:29:02",
          "1970-01-01T11:29:02",
          "1970-01-01T13:32:32",
          "1970-01-01T13:32:32",
          "1970-01-01T14:13:27",
          "1970-01-01T14:13:27",
          "1970-01-01T14:13:27",
          "1970-01-01T16:16:57",
          "1970-01-01T16:16:57",
          "1970-01-01T16:57:52",
          "1970-01-01T16:57:52",
          "1970-01-01T16:57:52",
          "1970-01-01T19:01:22",
          "1970-01-01T19:01:22",
          "1970-01-01T19:42:17",
          "1970-01-01T19:42:17",
          "1970-01-01T19:42:17"
         ],
         "y": [
          "Carrier A",
          "Carrier A",
          "Carrier A",
          "Carrier A",
          null,
          "Carrier A",
          "Carrier A",
          "Carrier A",
          "Carrier A",
          null,
          "Carrier A",
          "Carrier A",
          "Carrier A",
          "Carrier A",
          null,
          "Carrier A",
          "Carrier A",
          "Carrier A",
          "Carrier A",
          null,
          "Carrier A",
          "Carrier A",
          "Carrier A",
          "Carrier A",
          null,
          "Carrier A",
          "Carrier A",
          "Carrier A",
          "Carrier A",
          null,
          "Carrier A",
          "Carrier A",
          "Carrier A",
          "Carrier A",
          null
         ]
        },
        {
         "connectgaps": false,
         "hoverinfo": "y+name",
         "line": {
          "color": "rgb(62,4,74)",
          "width": 10
         },
         "mode": "lines",
         "name": "unloading:Carrier B",
         "type": "scatter",
         "x": [
          "1970-01-01T02:33:15",
          "1970-01-01T02:33:15",
          "1970-01-01T03:13:18",
          "1970-01-01T03:13:18",
          "1970-01-01T03:13:18",
          "1970-01-01T05:15:04",
          "1970-01-01T05:15:04",
          "1970-01-01T05:55:07",
          "1970-01-01T05:55:07",
          "1970-01-01T05:55:07",
          "1970-01-01T07:56:53",
          "1970-01-01T07:56:53",
          "1970-01-01T08:36:56",
          "1970-01-01T08:36:56",
          "1970-01-01T08:36:56",
          "1970-01-01T10:38:42",
          "1970-01-01T10:38:42",
          "1970-01-01T11:18:45",
          "1970-01-01T11:18:45",
          "1970-01-01T11:18:45",
          "1970-01-01T13:20:31",
          "1970-01-01T13:20:31",
          "1970-01-01T14:00:34",
          "1970-01-01T14:00:34",
          "1970-01-01T14:00:34",
          "1970-01-01T16:02:20",
          "1970-01-01T16:02:20",
          "1970-01-01T16:42:23",
          "1970-01-01T16:42:23",
          "1970-01-01T16:42:23",
          "1970-01-01T18:44:09",
          "1970-01-01T18:44:09",
          "1970-01-01T19:24:12",
          "1970-01-01T19:24:12",
          "1970-01-01T19:24:12"
         ],
         "y": [
          "Carrier B",
          "Carrier B",
          "Carrier B",
          "Carrier B",
          null,
          "Carrier B",
          "Carrier B",
          "Carrier B",
          "Carrier B",
          null,
          "Carrier B",
          "Carrier B",
          "Carrier B",
          "Carrier B",
          null,
          "Carrier B",
          "Carrier B",
          "Carrier B",
          "Carrier B",
          null,
          "Carrier B",
          "Carrier B",
          "Carrier B",
          "Carrier B",
          null,
          "Carrier B",
          "Carrier B",
          "Carrier B",
          "Carrier B",
          null,
          "Carrier B",
          "Carrier B",
          "Carrier B",
          "Carrier B",
          null
         ]
        },
        {
         "connectgaps": false,
         "hoverinfo": "y+name",
         "line": {
          "color": "rgb(79,21,91)",
          "width": 10
         },
         "mode": "lines",
         "name": "sailing empty:Carrier B",
         "type": "scatter",
         "x": [
          "1970-01-01T00:00:00",
          "1970-01-01T00:00:00",
          "1970-01-01T00:40:03",
          "1970-01-01T00:40:03",
          "1970-01-01T00:40:03",
          "1970-01-01T03:13:18",
          "1970-01-01T03:13:18",
          "1970-01-01T03:53:21",
          "1970-01-01T03:53:21",
          "1970-01-01T03:53:21",
          "1970-01-01T05:55:07",
          "1970-01-01T05:55:07",
          "1970-01-01T06:35:10",
          "1970-01-01T06:35:10",
          "1970-01-01T06:35:10",
          "1970-01-01T08:36:56",
          "1970-01-01T08:36:56",
          "1970-01-01T09:16:59",
          "1970-01-01T09:16:59",
          "1970-01-01T09:16:59",
          "1970-01-01T11:18:45",
          "1970-01-01T11:18:45",
          "1970-01-01T11:58:48",
          "1970-01-01T11:58:48",
          "1970-01-01T11:58:48",
          "1970-01-01T14:00:34",
          "1970-01-01T14:00:34",
          "1970-01-01T14:40:37",
          "1970-01-01T14:40:37",
          "1970-01-01T14:40:37",
          "1970-01-01T16:42:23",
          "1970-01-01T16:42:23",
          "1970-01-01T17:22:26",
          "1970-01-01T17:22:26",
          "1970-01-01T17:22:26"
         ],
         "y": [
          "Carrier B",
          "Carrier B",
          "Carrier B",
          "Carrier B",
          null,
          "Carrier B",
          "Carrier B",
          "Carrier B",
          "Carrier B",
          null,
          "Carrier B",
          "Carrier B",
          "Carrier B",
          "Carrier B",
          null,
          "Carrier B",
          "Carrier B",
          "Carrier B",
          "Carrier B",
          null,
          "Carrier B",
          "Carrier B",
          "Carrier B",
          "Carrier B",
          null,
          "Carrier B",
          "Carrier B",
          "Carrier B",
          "Carrier B",
          null,
          "Carrier B",
          "Carrier B",
          "Carrier B",
          "Carrier B",
          null
         ]
        },
        {
         "connectgaps": false,
         "hoverinfo": "y+name",
         "line": {
          "color": "rgb(96,38,108)",
          "width": 10
         },
         "mode": "lines",
         "name": "sailing full:Carrier B",
         "type": "scatter",
         "x": [
          "1970-01-01T01:53:12",
          "1970-01-01T01:53:12",
          "1970-01-01T02:33:15",
          "1970-01-01T02:33:15",
          "1970-01-01T02:33:15",
          "1970-01-01T04:35:01",
          "1970-01-01T04:35:01",
          "1970-01-01T05:15:04",
          "1970-01-01T05:15:04",
          "1970-01-01T05:15:04",
          "1970-01-01T07:16:50",
          "1970-01-01T07:16:50",
          "1970-01-01T07:56:53",
          "1970-01-01T07:56:53",
          "1970-01-01T07:56:53",
          "1970-01-01T09:58:39",
          "1970-01-01T09:58:39",
          "1970-01-01T10:38:42",
          "1970-01-01T10:38:42",
          "1970-01-01T10:38:42",
          "1970-01-01T12:40:28",
          "1970-01-01T12:40:28",
          "1970-01-01T13:20:31",
          "1970-01-01T13:20:31",
          "1970-01-01T13:20:31",
          "1970-01-01T15:22:17",
          "1970-01-01T15:22:17",
          "1970-01-01T16:02:20",
          "1970-01-01T16:02:20",
          "1970-01-01T16:02:20",
          "1970-01-01T18:04:06",
          "1970-01-01T18:04:06",
          "1970-01-01T18:44:09",
          "1970-01-01T18:44:09",
          "1970-01-01T18:44:09"
         ],
         "y": [
          "Carrier B",
          "Carrier B",
          "Carrier B",
          "Carrier B",
          null,
          "Carrier B",
          "Carrier B",
          "Carrier B",
          "Carrier B",
          null,
          "Carrier B",
          "Carrier B",
          "Carrier B",
          "Carrier B",
          null,
          "Carrier B",
          "Carrier B",
          "Carrier B",
          "Carrier B",
          null,
          "Carrier B",
          "Carrier B",
          "Carrier B",
          "Carrier B",
          null,
          "Carrier B",
          "Carrier B",
          "Carrier B",
          "Carrier B",
          null,
          "Carrier B",
          "Carrier B",
          "Carrier B",
          "Carrier B",
          null
         ]
        },
        {
         "connectgaps": false,
         "hoverinfo": "y+name",
         "line": {
          "color": "rgb(113,55,125)",
          "width": 10
         },
         "mode": "lines",
         "name": "loading:Carrier B",
         "type": "scatter",
         "x": [
          "1970-01-01T01:11:32",
          "1970-01-01T01:11:32",
          "1970-01-01T01:53:12",
          "1970-01-01T01:53:12",
          "1970-01-01T01:53:12",
          "1970-01-01T03:53:21",
          "1970-01-01T03:53:21",
          "1970-01-01T04:35:01",
          "1970-01-01T04:35:01",
          "1970-01-01T04:35:01",
          "1970-01-01T06:35:10",
          "1970-01-01T06:35:10",
          "1970-01-01T07:16:50",
          "1970-01-01T07:16:50",
          "1970-01-01T07:16:50",
          "1970-01-01T09:16:59",
          "1970-01-01T09:16:59",
          "1970-01-01T09:58:39",
          "1970-01-01T09:58:39",
          "1970-01-01T09:58:39",
          "1970-01-01T11:58:48",
          "1970-01-01T11:58:48",
          "1970-01-01T12:40:28",
          "1970-01-01T12:40:28",
          "1970-01-01T12:40:28",
          "1970-01-01T14:40:37",
          "1970-01-01T14:40:37",
          "1970-01-01T15:22:17",
          "1970-01-01T15:22:17",
          "1970-01-01T15:22:17",
          "1970-01-01T17:22:26",
          "1970-01-01T17:22:26",
          "1970-01-01T18:04:06",
          "1970-01-01T18:04:06",
          "1970-01-01T18:04:06",
          "1970-01-01T01:11:32",
          "1970-01-01T01:11:32",
          "1970-01-01T01:53:12",
          "1970-01-01T01:53:12",
          "1970-01-01T01:53:12",
          "1970-01-01T03:53:21",
          "1970-01-01T03:53:21",
          "1970-01-01T04:35:01",
          "1970-01-01T04:35:01",
          "1970-01-01T04:35:01",
          "1970-01-01T06:35:10",
          "1970-01-01T06:35:10",
          "1970-01-01T07:16:50",
          "1970-01-01T07:16:50",
          "1970-01-01T07:16:50",
          "1970-01-01T09:16:59",
          "1970-01-01T09:16:59",
          "1970-01-01T09:58:39",
          "1970-01-01T09:58:39",
          "1970-01-01T09:58:39",
          "1970-01-01T11:58:48",
          "1970-01-01T11:58:48",
          "1970-01-01T12:40:28",
          "1970-01-01T12:40:28",
          "1970-01-01T12:40:28",
          "1970-01-01T14:40:37",
          "1970-01-01T14:40:37",
          "1970-01-01T15:22:17",
          "1970-01-01T15:22:17",
          "1970-01-01T15:22:17",
          "1970-01-01T17:22:26",
          "1970-01-01T17:22:26",
          "1970-01-01T18:04:06",
          "1970-01-01T18:04:06",
          "1970-01-01T18:04:06"
         ],
         "y": [
          "Carrier B",
          "Carrier B",
          "Carrier B",
          "Carrier B",
          null,
          "Carrier B",
          "Carrier B",
          "Carrier B",
          "Carrier B",
          null,
          "Carrier B",
          "Carrier B",
          "Carrier B",
          "Carrier B",
          null,
          "Carrier B",
          "Carrier B",
          "Carrier B",
          "Carrier B",
          null,
          "Carrier B",
          "Carrier B",
          "Carrier B",
          "Carrier B",
          null,
          "Carrier B",
          "Carrier B",
          "Carrier B",
          "Carrier B",
          null,
          "Carrier B",
          "Carrier B",
          "Carrier B",
          "Carrier B",
          null,
          "Cutter T",
          "Cutter T",
          "Cutter T",
          "Cutter T",
          null,
          "Cutter T",
          "Cutter T",
          "Cutter T",
          "Cutter T",
          null,
          "Cutter T",
          "Cutter T",
          "Cutter T",
          "Cutter T",
          null,
          "Cutter T",
          "Cutter T",
          "Cutter T",
          "Cutter T",
          null,
          "Cutter T",
          "Cutter T",
          "Cutter T",
          "Cutter T",
          null,
          "Cutter T",
          "Cutter T",
          "Cutter T",
          "Cutter T",
          null,
          "Cutter T",
          "Cutter T",
          "Cutter T",
          "Cutter T",
          null
         ]
        },
        {
         "connectgaps": false,
         "hoverinfo": "y+name",
         "line": {
          "color": "rgb(130,72,142)",
          "width": 10
         },
         "mode": "lines",
         "name": "sailing full:Carrier C",
         "type": "scatter",
         "x": [
          "1970-01-01T01:11:32",
          "1970-01-01T01:11:32",
          "1970-01-01T01:49:44",
          "1970-01-01T01:49:44",
          "1970-01-01T01:49:44",
          "1970-01-01T03:39:28",
          "1970-01-01T03:39:28",
          "1970-01-01T04:17:40",
          "1970-01-01T04:17:40",
          "1970-01-01T04:17:40",
          "1970-01-01T06:07:24",
          "1970-01-01T06:07:24",
          "1970-01-01T06:45:36",
          "1970-01-01T06:45:36",
          "1970-01-01T06:45:36",
          "1970-01-01T08:37:02",
          "1970-01-01T08:37:02",
          "1970-01-01T09:15:14",
          "1970-01-01T09:15:14",
          "1970-01-01T09:15:14",
          "1970-01-01T11:21:27",
          "1970-01-01T11:21:27",
          "1970-01-01T11:59:39",
          "1970-01-01T11:59:39",
          "1970-01-01T11:59:39",
          "1970-01-01T14:05:52",
          "1970-01-01T14:05:52",
          "1970-01-01T14:44:04",
          "1970-01-01T14:44:04",
          "1970-01-01T14:44:04",
          "1970-01-01T16:50:17",
          "1970-01-01T16:50:17",
          "1970-01-01T17:28:29",
          "1970-01-01T17:28:29",
          "1970-01-01T17:28:29",
          "1970-01-01T19:34:42",
          "1970-01-01T19:34:42",
          "1970-01-01T20:12:54",
          "1970-01-01T20:12:54",
          "1970-01-01T20:12:54"
         ],
         "y": [
          "Carrier C",
          "Carrier C",
          "Carrier C",
          "Carrier C",
          null,
          "Carrier C",
          "Carrier C",
          "Carrier C",
          "Carrier C",
          null,
          "Carrier C",
          "Carrier C",
          "Carrier C",
          "Carrier C",
          null,
          "Carrier C",
          "Carrier C",
          "Carrier C",
          "Carrier C",
          null,
          "Carrier C",
          "Carrier C",
          "Carrier C",
          "Carrier C",
          null,
          "Carrier C",
          "Carrier C",
          "Carrier C",
          "Carrier C",
          null,
          "Carrier C",
          "Carrier C",
          "Carrier C",
          "Carrier C",
          null,
          "Carrier C",
          "Carrier C",
          "Carrier C",
          "Carrier C",
          null
         ]
        },
        {
         "connectgaps": false,
         "hoverinfo": "y+name",
         "line": {
          "color": "rgb(147,89,159)",
          "width": 10
         },
         "mode": "lines",
         "name": "loading:Carrier C",
         "type": "scatter",
         "x": [
          "1970-01-01T00:38:12",
          "1970-01-01T00:38:12",
          "1970-01-01T01:11:32",
          "1970-01-01T01:11:32",
          "1970-01-01T01:11:32",
          "1970-01-01T03:06:08",
          "1970-01-01T03:06:08",
          "1970-01-01T03:39:28",
          "1970-01-01T03:39:28",
          "1970-01-01T03:39:28",
          "1970-01-01T05:34:04",
          "1970-01-01T05:34:04",
          "1970-01-01T06:07:24",
          "1970-01-01T06:07:24",
          "1970-01-01T06:07:24",
          "1970-01-01T08:03:42",
          "1970-01-01T08:03:42",
          "1970-01-01T08:37:02",
          "1970-01-01T08:37:02",
          "1970-01-01T08:37:02",
          "1970-01-01T10:48:07",
          "1970-01-01T10:48:07",
          "1970-01-01T11:21:27",
          "1970-01-01T11:21:27",
          "1970-01-01T11:21:27",
          "1970-01-01T13:32:32",
          "1970-01-01T13:32:32",
          "1970-01-01T14:05:52",
          "1970-01-01T14:05:52",
          "1970-01-01T14:05:52",
          "1970-01-01T16:16:57",
          "1970-01-01T16:16:57",
          "1970-01-01T16:50:17",
          "1970-01-01T16:50:17",
          "1970-01-01T16:50:17",
          "1970-01-01T19:01:22",
          "1970-01-01T19:01:22",
          "1970-01-01T19:34:42",
          "1970-01-01T19:34:42",
          "1970-01-01T19:34:42",
          "1970-01-01T00:38:12",
          "1970-01-01T00:38:12",
          "1970-01-01T01:11:32",
          "1970-01-01T01:11:32",
          "1970-01-01T01:11:32",
          "1970-01-01T03:06:08",
          "1970-01-01T03:06:08",
          "1970-01-01T03:39:28",
          "1970-01-01T03:39:28",
          "1970-01-01T03:39:28",
          "1970-01-01T05:34:04",
          "1970-01-01T05:34:04",
          "1970-01-01T06:07:24",
          "1970-01-01T06:07:24",
          "1970-01-01T06:07:24",
          "1970-01-01T08:03:42",
          "1970-01-01T08:03:42",
          "1970-01-01T08:37:02",
          "1970-01-01T08:37:02",
          "1970-01-01T08:37:02",
          "1970-01-01T10:48:07",
          "1970-01-01T10:48:07",
          "1970-01-01T11:21:27",
          "1970-01-01T11:21:27",
          "1970-01-01T11:21:27",
          "1970-01-01T13:32:32",
          "1970-01-01T13:32:32",
          "1970-01-01T14:05:52",
          "1970-01-01T14:05:52",
          "1970-01-01T14:05:52",
          "1970-01-01T16:16:57",
          "1970-01-01T16:16:57",
          "1970-01-01T16:50:17",
          "1970-01-01T16:50:17",
          "1970-01-01T16:50:17",
          "1970-01-01T19:01:22",
          "1970-01-01T19:01:22",
          "1970-01-01T19:34:42",
          "1970-01-01T19:34:42",
          "1970-01-01T19:34:42"
         ],
         "y": [
          "Carrier C",
          "Carrier C",
          "Carrier C",
          "Carrier C",
          null,
          "Carrier C",
          "Carrier C",
          "Carrier C",
          "Carrier C",
          null,
          "Carrier C",
          "Carrier C",
          "Carrier C",
          "Carrier C",
          null,
          "Carrier C",
          "Carrier C",
          "Carrier C",
          "Carrier C",
          null,
          "Carrier C",
          "Carrier C",
          "Carrier C",
          "Carrier C",
          null,
          "Carrier C",
          "Carrier C",
          "Carrier C",
          "Carrier C",
          null,
          "Carrier C",
          "Carrier C",
          "Carrier C",
          "Carrier C",
          null,
          "Carrier C",
          "Carrier C",
          "Carrier C",
          "Carrier C",
          null,
          "Cutter T",
          "Cutter T",
          "Cutter T",
          "Cutter T",
          null,
          "Cutter T",
          "Cutter T",
          "Cutter T",
          "Cutter T",
          null,
          "Cutter T",
          "Cutter T",
          "Cutter T",
          "Cutter T",
          null,
          "Cutter T",
          "Cutter T",
          "Cutter T",
          "Cutter T",
          null,
          "Cutter T",
          "Cutter T",
          "Cutter T",
          "Cutter T",
          null,
          "Cutter T",
          "Cutter T",
          "Cutter T",
          "Cutter T",
          null,
          "Cutter T",
          "Cutter T",
          "Cutter T",
          "Cutter T",
          null,
          "Cutter T",
          "Cutter T",
          "Cutter T",
          "Cutter T",
          null
         ]
        },
        {
         "connectgaps": false,
         "hoverinfo": "y+name",
         "line": {
          "color": "rgb(164,106,176)",
          "width": 10
         },
         "mode": "lines",
         "name": "unloading:Carrier C",
         "type": "scatter",
         "x": [
          "1970-01-01T01:49:44",
          "1970-01-01T01:49:44",
          "1970-01-01T02:27:56",
          "1970-01-01T02:27:56",
          "1970-01-01T02:27:56",
          "1970-01-01T04:17:40",
          "1970-01-01T04:17:40",
          "1970-01-01T04:55:52",
          "1970-01-01T04:55:52",
          "1970-01-01T04:55:52",
          "1970-01-01T06:45:36",
          "1970-01-01T06:45:36",
          "1970-01-01T07:23:48",
          "1970-01-01T07:23:48",
          "1970-01-01T07:23:48",
          "1970-01-01T09:15:14",
          "1970-01-01T09:15:14",
          "1970-01-01T09:53:26",
          "1970-01-01T09:53:26",
          "1970-01-01T09:53:26",
          "1970-01-01T11:59:39",
          "1970-01-01T11:59:39",
          "1970-01-01T12:37:51",
          "1970-01-01T12:37:51",
          "1970-01-01T12:37:51",
          "1970-01-01T14:44:04",
          "1970-01-01T14:44:04",
          "1970-01-01T15:22:16",
          "1970-01-01T15:22:16",
          "1970-01-01T15:22:16",
          "1970-01-01T17:28:29",
          "1970-01-01T17:28:29",
          "1970-01-01T18:06:41",
          "1970-01-01T18:06:41",
          "1970-01-01T18:06:41",
          "1970-01-01T20:12:54",
          "1970-01-01T20:12:54",
          "1970-01-01T20:51:06",
          "1970-01-01T20:51:06",
          "1970-01-01T20:51:06"
         ],
         "y": [
          "Carrier C",
          "Carrier C",
          "Carrier C",
          "Carrier C",
          null,
          "Carrier C",
          "Carrier C",
          "Carrier C",
          "Carrier C",
          null,
          "Carrier C",
          "Carrier C",
          "Carrier C",
          "Carrier C",
          null,
          "Carrier C",
          "Carrier C",
          "Carrier C",
          "Carrier C",
          null,
          "Carrier C",
          "Carrier C",
          "Carrier C",
          "Carrier C",
          null,
          "Carrier C",
          "Carrier C",
          "Carrier C",
          "Carrier C",
          null,
          "Carrier C",
          "Carrier C",
          "Carrier C",
          "Carrier C",
          null,
          "Carrier C",
          "Carrier C",
          "Carrier C",
          "Carrier C",
          null
         ]
        },
        {
         "connectgaps": false,
         "hoverinfo": "y+name",
         "line": {
          "color": "rgb(181,123,193)",
          "width": 10
         },
         "mode": "lines",
         "name": "sailing empty:Carrier C",
         "type": "scatter",
         "x": [
          "1970-01-01T00:00:00",
          "1970-01-01T00:00:00",
          "1970-01-01T00:38:12",
          "1970-01-01T00:38:12",
          "1970-01-01T00:38:12",
          "1970-01-01T02:27:56",
          "1970-01-01T02:27:56",
          "1970-01-01T03:06:08",
          "1970-01-01T03:06:08",
          "1970-01-01T03:06:08",
          "1970-01-01T04:55:52",
          "1970-01-01T04:55:52",
          "1970-01-01T05:34:04",
          "1970-01-01T05:34:04",
          "1970-01-01T05:34:04",
          "1970-01-01T07:23:48",
          "1970-01-01T07:23:48",
          "1970-01-01T08:02:00",
          "1970-01-01T08:02:00",
          "1970-01-01T08:02:00",
          "1970-01-01T09:53:26",
          "1970-01-01T09:53:26",
          "1970-01-01T10:31:38",
          "1970-01-01T10:31:38",
          "1970-01-01T10:31:38",
          "1970-01-01T12:37:51",
          "1970-01-01T12:37:51",
          "1970-01-01T13:16:03",
          "1970-01-01T13:16:03",
          "1970-01-01T13:16:03",
          "1970-01-01T15:22:16",
          "1970-01-01T15:22:16",
          "1970-01-01T16:00:28",
          "1970-01-01T16:00:28",
          "1970-01-01T16:00:28",
          "1970-01-01T18:06:41",
          "1970-01-01T18:06:41",
          "1970-01-01T18:44:53",
          "1970-01-01T18:44:53",
          "1970-01-01T18:44:53"
         ],
         "y": [
          "Carrier C",
          "Carrier C",
          "Carrier C",
          "Carrier C",
          null,
          "Carrier C",
          "Carrier C",
          "Carrier C",
          "Carrier C",
          null,
          "Carrier C",
          "Carrier C",
          "Carrier C",
          "Carrier C",
          null,
          "Carrier C",
          "Carrier C",
          "Carrier C",
          "Carrier C",
          null,
          "Carrier C",
          "Carrier C",
          "Carrier C",
          "Carrier C",
          null,
          "Carrier C",
          "Carrier C",
          "Carrier C",
          "Carrier C",
          null,
          "Carrier C",
          "Carrier C",
          "Carrier C",
          "Carrier C",
          null,
          "Carrier C",
          "Carrier C",
          "Carrier C",
          "Carrier C",
          null
         ]
        },
        {
         "connectgaps": false,
         "hoverinfo": "y+name",
         "line": {
          "color": "rgb(198,140,210)",
          "width": 10
         },
         "mode": "lines",
         "name": "loading:Carrier C",
         "type": "scatter",
         "x": [
          "1970-01-01T00:38:12",
          "1970-01-01T00:38:12",
          "1970-01-01T01:11:32",
          "1970-01-01T01:11:32",
          "1970-01-01T01:11:32",
          "1970-01-01T03:06:08",
          "1970-01-01T03:06:08",
          "1970-01-01T03:39:28",
          "1970-01-01T03:39:28",
          "1970-01-01T03:39:28",
          "1970-01-01T05:34:04",
          "1970-01-01T05:34:04",
          "1970-01-01T06:07:24",
          "1970-01-01T06:07:24",
          "1970-01-01T06:07:24",
          "1970-01-01T08:03:42",
          "1970-01-01T08:03:42",
          "1970-01-01T08:37:02",
          "1970-01-01T08:37:02",
          "1970-01-01T08:37:02",
          "1970-01-01T10:48:07",
          "1970-01-01T10:48:07",
          "1970-01-01T11:21:27",
          "1970-01-01T11:21:27",
          "1970-01-01T11:21:27",
          "1970-01-01T13:32:32",
          "1970-01-01T13:32:32",
          "1970-01-01T14:05:52",
          "1970-01-01T14:05:52",
          "1970-01-01T14:05:52",
          "1970-01-01T16:16:57",
          "1970-01-01T16:16:57",
          "1970-01-01T16:50:17",
          "1970-01-01T16:50:17",
          "1970-01-01T16:50:17",
          "1970-01-01T19:01:22",
          "1970-01-01T19:01:22",
          "1970-01-01T19:34:42",
          "1970-01-01T19:34:42",
          "1970-01-01T19:34:42",
          "1970-01-01T00:38:12",
          "1970-01-01T00:38:12",
          "1970-01-01T01:11:32",
          "1970-01-01T01:11:32",
          "1970-01-01T01:11:32",
          "1970-01-01T03:06:08",
          "1970-01-01T03:06:08",
          "1970-01-01T03:39:28",
          "1970-01-01T03:39:28",
          "1970-01-01T03:39:28",
          "1970-01-01T05:34:04",
          "1970-01-01T05:34:04",
          "1970-01-01T06:07:24",
          "1970-01-01T06:07:24",
          "1970-01-01T06:07:24",
          "1970-01-01T08:03:42",
          "1970-01-01T08:03:42",
          "1970-01-01T08:37:02",
          "1970-01-01T08:37:02",
          "1970-01-01T08:37:02",
          "1970-01-01T10:48:07",
          "1970-01-01T10:48:07",
          "1970-01-01T11:21:27",
          "1970-01-01T11:21:27",
          "1970-01-01T11:21:27",
          "1970-01-01T13:32:32",
          "1970-01-01T13:32:32",
          "1970-01-01T14:05:52",
          "1970-01-01T14:05:52",
          "1970-01-01T14:05:52",
          "1970-01-01T16:16:57",
          "1970-01-01T16:16:57",
          "1970-01-01T16:50:17",
          "1970-01-01T16:50:17",
          "1970-01-01T16:50:17",
          "1970-01-01T19:01:22",
          "1970-01-01T19:01:22",
          "1970-01-01T19:34:42",
          "1970-01-01T19:34:42",
          "1970-01-01T19:34:42"
         ],
         "y": [
          "Carrier C",
          "Carrier C",
          "Carrier C",
          "Carrier C",
          null,
          "Carrier C",
          "Carrier C",
          "Carrier C",
          "Carrier C",
          null,
          "Carrier C",
          "Carrier C",
          "Carrier C",
          "Carrier C",
          null,
          "Carrier C",
          "Carrier C",
          "Carrier C",
          "Carrier C",
          null,
          "Carrier C",
          "Carrier C",
          "Carrier C",
          "Carrier C",
          null,
          "Carrier C",
          "Carrier C",
          "Carrier C",
          "Carrier C",
          null,
          "Carrier C",
          "Carrier C",
          "Carrier C",
          "Carrier C",
          null,
          "Carrier C",
          "Carrier C",
          "Carrier C",
          "Carrier C",
          null,
          "Cutter T",
          "Cutter T",
          "Cutter T",
          "Cutter T",
          null,
          "Cutter T",
          "Cutter T",
          "Cutter T",
          "Cutter T",
          null,
          "Cutter T",
          "Cutter T",
          "Cutter T",
          "Cutter T",
          null,
          "Cutter T",
          "Cutter T",
          "Cutter T",
          "Cutter T",
          null,
          "Cutter T",
          "Cutter T",
          "Cutter T",
          "Cutter T",
          null,
          "Cutter T",
          "Cutter T",
          "Cutter T",
          "Cutter T",
          null,
          "Cutter T",
          "Cutter T",
          "Cutter T",
          "Cutter T",
          null,
          "Cutter T",
          "Cutter T",
          "Cutter T",
          "Cutter T",
          null
         ]
        },
        {
         "connectgaps": false,
         "hoverinfo": "y+name",
         "line": {
          "color": "rgb(215,157,227)",
          "width": 10
         },
         "mode": "lines",
         "name": "loading:Carrier A",
         "type": "scatter",
         "x": [
          "1970-01-01T01:53:12",
          "1970-01-01T01:53:12",
          "1970-01-01T02:34:52",
          "1970-01-01T02:34:52",
          "1970-01-01T02:34:52",
          "1970-01-01T04:37:37",
          "1970-01-01T04:37:37",
          "1970-01-01T05:19:17",
          "1970-01-01T05:19:17",
          "1970-01-01T05:19:17",
          "1970-01-01T07:22:02",
          "1970-01-01T07:22:02",
          "1970-01-01T08:03:42",
          "1970-01-01T08:03:42",
          "1970-01-01T08:03:42",
          "1970-01-01T10:06:27",
          "1970-01-01T10:06:27",
          "1970-01-01T10:48:07",
          "1970-01-01T10:48:07",
          "1970-01-01T10:48:07",
          "1970-01-01T12:50:52",
          "1970-01-01T12:50:52",
          "1970-01-01T13:32:32",
          "1970-01-01T13:32:32",
          "1970-01-01T13:32:32",
          "1970-01-01T15:35:17",
          "1970-01-01T15:35:17",
          "1970-01-01T16:16:57",
          "1970-01-01T16:16:57",
          "1970-01-01T16:16:57",
          "1970-01-01T18:19:42",
          "1970-01-01T18:19:42",
          "1970-01-01T19:01:22",
          "1970-01-01T19:01:22",
          "1970-01-01T19:01:22",
          "1970-01-01T01:53:12",
          "1970-01-01T01:53:12",
          "1970-01-01T02:34:52",
          "1970-01-01T02:34:52",
          "1970-01-01T02:34:52",
          "1970-01-01T04:37:37",
          "1970-01-01T04:37:37",
          "1970-01-01T05:19:17",
          "1970-01-01T05:19:17",
          "1970-01-01T05:19:17",
          "1970-01-01T07:22:02",
          "1970-01-01T07:22:02",
          "1970-01-01T08:03:42",
          "1970-01-01T08:03:42",
          "1970-01-01T08:03:42",
          "1970-01-01T10:06:27",
          "1970-01-01T10:06:27",
          "1970-01-01T10:48:07",
          "1970-01-01T10:48:07",
          "1970-01-01T10:48:07",
          "1970-01-01T12:50:52",
          "1970-01-01T12:50:52",
          "1970-01-01T13:32:32",
          "1970-01-01T13:32:32",
          "1970-01-01T13:32:32",
          "1970-01-01T15:35:17",
          "1970-01-01T15:35:17",
          "1970-01-01T16:16:57",
          "1970-01-01T16:16:57",
          "1970-01-01T16:16:57",
          "1970-01-01T18:19:42",
          "1970-01-01T18:19:42",
          "1970-01-01T19:01:22",
          "1970-01-01T19:01:22",
          "1970-01-01T19:01:22"
         ],
         "y": [
          "Carrier A",
          "Carrier A",
          "Carrier A",
          "Carrier A",
          null,
          "Carrier A",
          "Carrier A",
          "Carrier A",
          "Carrier A",
          null,
          "Carrier A",
          "Carrier A",
          "Carrier A",
          "Carrier A",
          null,
          "Carrier A",
          "Carrier A",
          "Carrier A",
          "Carrier A",
          null,
          "Carrier A",
          "Carrier A",
          "Carrier A",
          "Carrier A",
          null,
          "Carrier A",
          "Carrier A",
          "Carrier A",
          "Carrier A",
          null,
          "Carrier A",
          "Carrier A",
          "Carrier A",
          "Carrier A",
          null,
          "Cutter T",
          "Cutter T",
          "Cutter T",
          "Cutter T",
          null,
          "Cutter T",
          "Cutter T",
          "Cutter T",
          "Cutter T",
          null,
          "Cutter T",
          "Cutter T",
          "Cutter T",
          "Cutter T",
          null,
          "Cutter T",
          "Cutter T",
          "Cutter T",
          "Cutter T",
          null,
          "Cutter T",
          "Cutter T",
          "Cutter T",
          "Cutter T",
          null,
          "Cutter T",
          "Cutter T",
          "Cutter T",
          "Cutter T",
          null,
          "Cutter T",
          "Cutter T",
          "Cutter T",
          "Cutter T",
          null
         ]
        },
        {
         "connectgaps": false,
         "hoverinfo": "y+name",
         "line": {
          "color": "rgb(232,174,244)",
          "width": 10
         },
         "mode": "lines",
         "name": "loading:Carrier B",
         "type": "scatter",
         "x": [
          "1970-01-01T01:11:32",
          "1970-01-01T01:11:32",
          "1970-01-01T01:53:12",
          "1970-01-01T01:53:12",
          "1970-01-01T01:53:12",
          "1970-01-01T03:53:21",
          "1970-01-01T03:53:21",
          "1970-01-01T04:35:01",
          "1970-01-01T04:35:01",
          "1970-01-01T04:35:01",
          "1970-01-01T06:35:10",
          "1970-01-01T06:35:10",
          "1970-01-01T07:16:50",
          "1970-01-01T07:16:50",
          "1970-01-01T07:16:50",
          "1970-01-01T09:16:59",
          "1970-01-01T09:16:59",
          "1970-01-01T09:58:39",
          "1970-01-01T09:58:39",
          "1970-01-01T09:58:39",
          "1970-01-01T11:58:48",
          "1970-01-01T11:58:48",
          "1970-01-01T12:40:28",
          "1970-01-01T12:40:28",
          "1970-01-01T12:40:28",
          "1970-01-01T14:40:37",
          "1970-01-01T14:40:37",
          "1970-01-01T15:22:17",
          "1970-01-01T15:22:17",
          "1970-01-01T15:22:17",
          "1970-01-01T17:22:26",
          "1970-01-01T17:22:26",
          "1970-01-01T18:04:06",
          "1970-01-01T18:04:06",
          "1970-01-01T18:04:06",
          "1970-01-01T01:11:32",
          "1970-01-01T01:11:32",
          "1970-01-01T01:53:12",
          "1970-01-01T01:53:12",
          "1970-01-01T01:53:12",
          "1970-01-01T03:53:21",
          "1970-01-01T03:53:21",
          "1970-01-01T04:35:01",
          "1970-01-01T04:35:01",
          "1970-01-01T04:35:01",
          "1970-01-01T06:35:10",
          "1970-01-01T06:35:10",
          "1970-01-01T07:16:50",
          "1970-01-01T07:16:50",
          "1970-01-01T07:16:50",
          "1970-01-01T09:16:59",
          "1970-01-01T09:16:59",
          "1970-01-01T09:58:39",
          "1970-01-01T09:58:39",
          "1970-01-01T09:58:39",
          "1970-01-01T11:58:48",
          "1970-01-01T11:58:48",
          "1970-01-01T12:40:28",
          "1970-01-01T12:40:28",
          "1970-01-01T12:40:28",
          "1970-01-01T14:40:37",
          "1970-01-01T14:40:37",
          "1970-01-01T15:22:17",
          "1970-01-01T15:22:17",
          "1970-01-01T15:22:17",
          "1970-01-01T17:22:26",
          "1970-01-01T17:22:26",
          "1970-01-01T18:04:06",
          "1970-01-01T18:04:06",
          "1970-01-01T18:04:06"
         ],
         "y": [
          "Carrier B",
          "Carrier B",
          "Carrier B",
          "Carrier B",
          null,
          "Carrier B",
          "Carrier B",
          "Carrier B",
          "Carrier B",
          null,
          "Carrier B",
          "Carrier B",
          "Carrier B",
          "Carrier B",
          null,
          "Carrier B",
          "Carrier B",
          "Carrier B",
          "Carrier B",
          null,
          "Carrier B",
          "Carrier B",
          "Carrier B",
          "Carrier B",
          null,
          "Carrier B",
          "Carrier B",
          "Carrier B",
          "Carrier B",
          null,
          "Carrier B",
          "Carrier B",
          "Carrier B",
          "Carrier B",
          null,
          "Cutter T",
          "Cutter T",
          "Cutter T",
          "Cutter T",
          null,
          "Cutter T",
          "Cutter T",
          "Cutter T",
          "Cutter T",
          null,
          "Cutter T",
          "Cutter T",
          "Cutter T",
          "Cutter T",
          null,
          "Cutter T",
          "Cutter T",
          "Cutter T",
          "Cutter T",
          null,
          "Cutter T",
          "Cutter T",
          "Cutter T",
          "Cutter T",
          null,
          "Cutter T",
          "Cutter T",
          "Cutter T",
          "Cutter T",
          null,
          "Cutter T",
          "Cutter T",
          "Cutter T",
          "Cutter T",
          null
         ]
        }
       ],
       "layout": {
        "hovermode": "closest",
        "legend": {
         "orientation": "h",
         "x": 0,
         "y": -0.2
        },
        "template": {
         "data": {
          "bar": [
           {
            "error_x": {
             "color": "#2a3f5f"
            },
            "error_y": {
             "color": "#2a3f5f"
            },
            "marker": {
             "line": {
              "color": "#E5ECF6",
              "width": 0.5
             },
             "pattern": {
              "fillmode": "overlay",
              "size": 10,
              "solidity": 0.2
             }
            },
            "type": "bar"
           }
          ],
          "barpolar": [
           {
            "marker": {
             "line": {
              "color": "#E5ECF6",
              "width": 0.5
             },
             "pattern": {
              "fillmode": "overlay",
              "size": 10,
              "solidity": 0.2
             }
            },
            "type": "barpolar"
           }
          ],
          "carpet": [
           {
            "aaxis": {
             "endlinecolor": "#2a3f5f",
             "gridcolor": "white",
             "linecolor": "white",
             "minorgridcolor": "white",
             "startlinecolor": "#2a3f5f"
            },
            "baxis": {
             "endlinecolor": "#2a3f5f",
             "gridcolor": "white",
             "linecolor": "white",
             "minorgridcolor": "white",
             "startlinecolor": "#2a3f5f"
            },
            "type": "carpet"
           }
          ],
          "choropleth": [
           {
            "colorbar": {
             "outlinewidth": 0,
             "ticks": ""
            },
            "type": "choropleth"
           }
          ],
          "contour": [
           {
            "colorbar": {
             "outlinewidth": 0,
             "ticks": ""
            },
            "colorscale": [
             [
              0,
              "#0d0887"
             ],
             [
              0.1111111111111111,
              "#46039f"
             ],
             [
              0.2222222222222222,
              "#7201a8"
             ],
             [
              0.3333333333333333,
              "#9c179e"
             ],
             [
              0.4444444444444444,
              "#bd3786"
             ],
             [
              0.5555555555555556,
              "#d8576b"
             ],
             [
              0.6666666666666666,
              "#ed7953"
             ],
             [
              0.7777777777777778,
              "#fb9f3a"
             ],
             [
              0.8888888888888888,
              "#fdca26"
             ],
             [
              1,
              "#f0f921"
             ]
            ],
            "type": "contour"
           }
          ],
          "contourcarpet": [
           {
            "colorbar": {
             "outlinewidth": 0,
             "ticks": ""
            },
            "type": "contourcarpet"
           }
          ],
          "heatmap": [
           {
            "colorbar": {
             "outlinewidth": 0,
             "ticks": ""
            },
            "colorscale": [
             [
              0,
              "#0d0887"
             ],
             [
              0.1111111111111111,
              "#46039f"
             ],
             [
              0.2222222222222222,
              "#7201a8"
             ],
             [
              0.3333333333333333,
              "#9c179e"
             ],
             [
              0.4444444444444444,
              "#bd3786"
             ],
             [
              0.5555555555555556,
              "#d8576b"
             ],
             [
              0.6666666666666666,
              "#ed7953"
             ],
             [
              0.7777777777777778,
              "#fb9f3a"
             ],
             [
              0.8888888888888888,
              "#fdca26"
             ],
             [
              1,
              "#f0f921"
             ]
            ],
            "type": "heatmap"
           }
          ],
          "heatmapgl": [
           {
            "colorbar": {
             "outlinewidth": 0,
             "ticks": ""
            },
            "colorscale": [
             [
              0,
              "#0d0887"
             ],
             [
              0.1111111111111111,
              "#46039f"
             ],
             [
              0.2222222222222222,
              "#7201a8"
             ],
             [
              0.3333333333333333,
              "#9c179e"
             ],
             [
              0.4444444444444444,
              "#bd3786"
             ],
             [
              0.5555555555555556,
              "#d8576b"
             ],
             [
              0.6666666666666666,
              "#ed7953"
             ],
             [
              0.7777777777777778,
              "#fb9f3a"
             ],
             [
              0.8888888888888888,
              "#fdca26"
             ],
             [
              1,
              "#f0f921"
             ]
            ],
            "type": "heatmapgl"
           }
          ],
          "histogram": [
           {
            "marker": {
             "pattern": {
              "fillmode": "overlay",
              "size": 10,
              "solidity": 0.2
             }
            },
            "type": "histogram"
           }
          ],
          "histogram2d": [
           {
            "colorbar": {
             "outlinewidth": 0,
             "ticks": ""
            },
            "colorscale": [
             [
              0,
              "#0d0887"
             ],
             [
              0.1111111111111111,
              "#46039f"
             ],
             [
              0.2222222222222222,
              "#7201a8"
             ],
             [
              0.3333333333333333,
              "#9c179e"
             ],
             [
              0.4444444444444444,
              "#bd3786"
             ],
             [
              0.5555555555555556,
              "#d8576b"
             ],
             [
              0.6666666666666666,
              "#ed7953"
             ],
             [
              0.7777777777777778,
              "#fb9f3a"
             ],
             [
              0.8888888888888888,
              "#fdca26"
             ],
             [
              1,
              "#f0f921"
             ]
            ],
            "type": "histogram2d"
           }
          ],
          "histogram2dcontour": [
           {
            "colorbar": {
             "outlinewidth": 0,
             "ticks": ""
            },
            "colorscale": [
             [
              0,
              "#0d0887"
             ],
             [
              0.1111111111111111,
              "#46039f"
             ],
             [
              0.2222222222222222,
              "#7201a8"
             ],
             [
              0.3333333333333333,
              "#9c179e"
             ],
             [
              0.4444444444444444,
              "#bd3786"
             ],
             [
              0.5555555555555556,
              "#d8576b"
             ],
             [
              0.6666666666666666,
              "#ed7953"
             ],
             [
              0.7777777777777778,
              "#fb9f3a"
             ],
             [
              0.8888888888888888,
              "#fdca26"
             ],
             [
              1,
              "#f0f921"
             ]
            ],
            "type": "histogram2dcontour"
           }
          ],
          "mesh3d": [
           {
            "colorbar": {
             "outlinewidth": 0,
             "ticks": ""
            },
            "type": "mesh3d"
           }
          ],
          "parcoords": [
           {
            "line": {
             "colorbar": {
              "outlinewidth": 0,
              "ticks": ""
             }
            },
            "type": "parcoords"
           }
          ],
          "pie": [
           {
            "automargin": true,
            "type": "pie"
           }
          ],
          "scatter": [
           {
            "fillpattern": {
             "fillmode": "overlay",
             "size": 10,
             "solidity": 0.2
            },
            "type": "scatter"
           }
          ],
          "scatter3d": [
           {
            "line": {
             "colorbar": {
              "outlinewidth": 0,
              "ticks": ""
             }
            },
            "marker": {
             "colorbar": {
              "outlinewidth": 0,
              "ticks": ""
             }
            },
            "type": "scatter3d"
           }
          ],
          "scattercarpet": [
           {
            "marker": {
             "colorbar": {
              "outlinewidth": 0,
              "ticks": ""
             }
            },
            "type": "scattercarpet"
           }
          ],
          "scattergeo": [
           {
            "marker": {
             "colorbar": {
              "outlinewidth": 0,
              "ticks": ""
             }
            },
            "type": "scattergeo"
           }
          ],
          "scattergl": [
           {
            "marker": {
             "colorbar": {
              "outlinewidth": 0,
              "ticks": ""
             }
            },
            "type": "scattergl"
           }
          ],
          "scattermapbox": [
           {
            "marker": {
             "colorbar": {
              "outlinewidth": 0,
              "ticks": ""
             }
            },
            "type": "scattermapbox"
           }
          ],
          "scatterpolar": [
           {
            "marker": {
             "colorbar": {
              "outlinewidth": 0,
              "ticks": ""
             }
            },
            "type": "scatterpolar"
           }
          ],
          "scatterpolargl": [
           {
            "marker": {
             "colorbar": {
              "outlinewidth": 0,
              "ticks": ""
             }
            },
            "type": "scatterpolargl"
           }
          ],
          "scatterternary": [
           {
            "marker": {
             "colorbar": {
              "outlinewidth": 0,
              "ticks": ""
             }
            },
            "type": "scatterternary"
           }
          ],
          "surface": [
           {
            "colorbar": {
             "outlinewidth": 0,
             "ticks": ""
            },
            "colorscale": [
             [
              0,
              "#0d0887"
             ],
             [
              0.1111111111111111,
              "#46039f"
             ],
             [
              0.2222222222222222,
              "#7201a8"
             ],
             [
              0.3333333333333333,
              "#9c179e"
             ],
             [
              0.4444444444444444,
              "#bd3786"
             ],
             [
              0.5555555555555556,
              "#d8576b"
             ],
             [
              0.6666666666666666,
              "#ed7953"
             ],
             [
              0.7777777777777778,
              "#fb9f3a"
             ],
             [
              0.8888888888888888,
              "#fdca26"
             ],
             [
              1,
              "#f0f921"
             ]
            ],
            "type": "surface"
           }
          ],
          "table": [
           {
            "cells": {
             "fill": {
              "color": "#EBF0F8"
             },
             "line": {
              "color": "white"
             }
            },
            "header": {
             "fill": {
              "color": "#C8D4E3"
             },
             "line": {
              "color": "white"
             }
            },
            "type": "table"
           }
          ]
         },
         "layout": {
          "annotationdefaults": {
           "arrowcolor": "#2a3f5f",
           "arrowhead": 0,
           "arrowwidth": 1
          },
          "autotypenumbers": "strict",
          "coloraxis": {
           "colorbar": {
            "outlinewidth": 0,
            "ticks": ""
           }
          },
          "colorscale": {
           "diverging": [
            [
             0,
             "#8e0152"
            ],
            [
             0.1,
             "#c51b7d"
            ],
            [
             0.2,
             "#de77ae"
            ],
            [
             0.3,
             "#f1b6da"
            ],
            [
             0.4,
             "#fde0ef"
            ],
            [
             0.5,
             "#f7f7f7"
            ],
            [
             0.6,
             "#e6f5d0"
            ],
            [
             0.7,
             "#b8e186"
            ],
            [
             0.8,
             "#7fbc41"
            ],
            [
             0.9,
             "#4d9221"
            ],
            [
             1,
             "#276419"
            ]
           ],
           "sequential": [
            [
             0,
             "#0d0887"
            ],
            [
             0.1111111111111111,
             "#46039f"
            ],
            [
             0.2222222222222222,
             "#7201a8"
            ],
            [
             0.3333333333333333,
             "#9c179e"
            ],
            [
             0.4444444444444444,
             "#bd3786"
            ],
            [
             0.5555555555555556,
             "#d8576b"
            ],
            [
             0.6666666666666666,
             "#ed7953"
            ],
            [
             0.7777777777777778,
             "#fb9f3a"
            ],
            [
             0.8888888888888888,
             "#fdca26"
            ],
            [
             1,
             "#f0f921"
            ]
           ],
           "sequentialminus": [
            [
             0,
             "#0d0887"
            ],
            [
             0.1111111111111111,
             "#46039f"
            ],
            [
             0.2222222222222222,
             "#7201a8"
            ],
            [
             0.3333333333333333,
             "#9c179e"
            ],
            [
             0.4444444444444444,
             "#bd3786"
            ],
            [
             0.5555555555555556,
             "#d8576b"
            ],
            [
             0.6666666666666666,
             "#ed7953"
            ],
            [
             0.7777777777777778,
             "#fb9f3a"
            ],
            [
             0.8888888888888888,
             "#fdca26"
            ],
            [
             1,
             "#f0f921"
            ]
           ]
          },
          "colorway": [
           "#636efa",
           "#EF553B",
           "#00cc96",
           "#ab63fa",
           "#FFA15A",
           "#19d3f3",
           "#FF6692",
           "#B6E880",
           "#FF97FF",
           "#FECB52"
          ],
          "font": {
           "color": "#2a3f5f"
          },
          "geo": {
           "bgcolor": "white",
           "lakecolor": "white",
           "landcolor": "#E5ECF6",
           "showlakes": true,
           "showland": true,
           "subunitcolor": "white"
          },
          "hoverlabel": {
           "align": "left"
          },
          "hovermode": "closest",
          "mapbox": {
           "style": "light"
          },
          "paper_bgcolor": "white",
          "plot_bgcolor": "#E5ECF6",
          "polar": {
           "angularaxis": {
            "gridcolor": "white",
            "linecolor": "white",
            "ticks": ""
           },
           "bgcolor": "#E5ECF6",
           "radialaxis": {
            "gridcolor": "white",
            "linecolor": "white",
            "ticks": ""
           }
          },
          "scene": {
           "xaxis": {
            "backgroundcolor": "#E5ECF6",
            "gridcolor": "white",
            "gridwidth": 2,
            "linecolor": "white",
            "showbackground": true,
            "ticks": "",
            "zerolinecolor": "white"
           },
           "yaxis": {
            "backgroundcolor": "#E5ECF6",
            "gridcolor": "white",
            "gridwidth": 2,
            "linecolor": "white",
            "showbackground": true,
            "ticks": "",
            "zerolinecolor": "white"
           },
           "zaxis": {
            "backgroundcolor": "#E5ECF6",
            "gridcolor": "white",
            "gridwidth": 2,
            "linecolor": "white",
            "showbackground": true,
            "ticks": "",
            "zerolinecolor": "white"
           }
          },
          "shapedefaults": {
           "line": {
            "color": "#2a3f5f"
           }
          },
          "ternary": {
           "aaxis": {
            "gridcolor": "white",
            "linecolor": "white",
            "ticks": ""
           },
           "baxis": {
            "gridcolor": "white",
            "linecolor": "white",
            "ticks": ""
           },
           "bgcolor": "#E5ECF6",
           "caxis": {
            "gridcolor": "white",
            "linecolor": "white",
            "ticks": ""
           }
          },
          "title": {
           "x": 0.05
          },
          "xaxis": {
           "automargin": true,
           "gridcolor": "white",
           "linecolor": "white",
           "ticks": "",
           "title": {
            "standoff": 15
           },
           "zerolinecolor": "white",
           "zerolinewidth": 2
          },
          "yaxis": {
           "automargin": true,
           "gridcolor": "white",
           "linecolor": "white",
           "ticks": "",
           "title": {
            "standoff": 15
           },
           "zerolinecolor": "white",
           "zerolinewidth": 2
          }
         }
        },
        "title": {
         "text": "GANTT Chart"
        },
        "xaxis": {
         "range": [
          "1970-01-01T00:00:00",
          "1970-01-01T20:51:06"
         ],
         "title": {
          "font": {
           "color": "#7f7f7f",
           "family": "Courier New, monospace",
           "size": 18
          },
          "text": "Time"
         }
        },
        "yaxis": {
         "title": {
          "font": {
           "color": "#7f7f7f",
           "family": "Courier New, monospace",
           "size": 18
          },
          "text": "Activities"
         }
        }
       }
      },
      "text/html": [
       "<div>                            <div id=\"45353bbb-7812-4c6f-ba88-bedaf23b3aff\" class=\"plotly-graph-div\" style=\"height:525px; width:100%;\"></div>            <script type=\"text/javascript\">                require([\"plotly\"], function(Plotly) {                    window.PLOTLYENV=window.PLOTLYENV || {};                                    if (document.getElementById(\"45353bbb-7812-4c6f-ba88-bedaf23b3aff\")) {                    Plotly.newPlot(                        \"45353bbb-7812-4c6f-ba88-bedaf23b3aff\",                        [{\"connectgaps\":false,\"hoverinfo\":\"y+name\",\"line\":{\"color\":\"rgb(250,192,6)\",\"width\":10},\"mode\":\"lines\",\"name\":\"unloading:Carrier A\",\"x\":[\"1970-01-01T03:15:47\",\"1970-01-01T03:15:47\",\"1970-01-01T03:56:42\",\"1970-01-01T03:56:42\",\"1970-01-01T03:56:42\",\"1970-01-01T06:00:12\",\"1970-01-01T06:00:12\",\"1970-01-01T06:41:07\",\"1970-01-01T06:41:07\",\"1970-01-01T06:41:07\",\"1970-01-01T08:44:37\",\"1970-01-01T08:44:37\",\"1970-01-01T09:25:32\",\"1970-01-01T09:25:32\",\"1970-01-01T09:25:32\",\"1970-01-01T11:29:02\",\"1970-01-01T11:29:02\",\"1970-01-01T12:09:57\",\"1970-01-01T12:09:57\",\"1970-01-01T12:09:57\",\"1970-01-01T14:13:27\",\"1970-01-01T14:13:27\",\"1970-01-01T14:54:22\",\"1970-01-01T14:54:22\",\"1970-01-01T14:54:22\",\"1970-01-01T16:57:52\",\"1970-01-01T16:57:52\",\"1970-01-01T17:38:47\",\"1970-01-01T17:38:47\",\"1970-01-01T17:38:47\",\"1970-01-01T19:42:17\",\"1970-01-01T19:42:17\",\"1970-01-01T20:23:12\",\"1970-01-01T20:23:12\",\"1970-01-01T20:23:12\"],\"y\":[\"Carrier A\",\"Carrier A\",\"Carrier A\",\"Carrier A\",null,\"Carrier A\",\"Carrier A\",\"Carrier A\",\"Carrier A\",null,\"Carrier A\",\"Carrier A\",\"Carrier A\",\"Carrier A\",null,\"Carrier A\",\"Carrier A\",\"Carrier A\",\"Carrier A\",null,\"Carrier A\",\"Carrier A\",\"Carrier A\",\"Carrier A\",null,\"Carrier A\",\"Carrier A\",\"Carrier A\",\"Carrier A\",null,\"Carrier A\",\"Carrier A\",\"Carrier A\",\"Carrier A\",null],\"type\":\"scatter\"},{\"connectgaps\":false,\"hoverinfo\":\"y+name\",\"line\":{\"color\":\"rgb(11,209,23)\",\"width\":10},\"mode\":\"lines\",\"name\":\"loading:Carrier A\",\"x\":[\"1970-01-01T01:53:12\",\"1970-01-01T01:53:12\",\"1970-01-01T02:34:52\",\"1970-01-01T02:34:52\",\"1970-01-01T02:34:52\",\"1970-01-01T04:37:37\",\"1970-01-01T04:37:37\",\"1970-01-01T05:19:17\",\"1970-01-01T05:19:17\",\"1970-01-01T05:19:17\",\"1970-01-01T07:22:02\",\"1970-01-01T07:22:02\",\"1970-01-01T08:03:42\",\"1970-01-01T08:03:42\",\"1970-01-01T08:03:42\",\"1970-01-01T10:06:27\",\"1970-01-01T10:06:27\",\"1970-01-01T10:48:07\",\"1970-01-01T10:48:07\",\"1970-01-01T10:48:07\",\"1970-01-01T12:50:52\",\"1970-01-01T12:50:52\",\"1970-01-01T13:32:32\",\"1970-01-01T13:32:32\",\"1970-01-01T13:32:32\",\"1970-01-01T15:35:17\",\"1970-01-01T15:35:17\",\"1970-01-01T16:16:57\",\"1970-01-01T16:16:57\",\"1970-01-01T16:16:57\",\"1970-01-01T18:19:42\",\"1970-01-01T18:19:42\",\"1970-01-01T19:01:22\",\"1970-01-01T19:01:22\",\"1970-01-01T19:01:22\",\"1970-01-01T01:53:12\",\"1970-01-01T01:53:12\",\"1970-01-01T02:34:52\",\"1970-01-01T02:34:52\",\"1970-01-01T02:34:52\",\"1970-01-01T04:37:37\",\"1970-01-01T04:37:37\",\"1970-01-01T05:19:17\",\"1970-01-01T05:19:17\",\"1970-01-01T05:19:17\",\"1970-01-01T07:22:02\",\"1970-01-01T07:22:02\",\"1970-01-01T08:03:42\",\"1970-01-01T08:03:42\",\"1970-01-01T08:03:42\",\"1970-01-01T10:06:27\",\"1970-01-01T10:06:27\",\"1970-01-01T10:48:07\",\"1970-01-01T10:48:07\",\"1970-01-01T10:48:07\",\"1970-01-01T12:50:52\",\"1970-01-01T12:50:52\",\"1970-01-01T13:32:32\",\"1970-01-01T13:32:32\",\"1970-01-01T13:32:32\",\"1970-01-01T15:35:17\",\"1970-01-01T15:35:17\",\"1970-01-01T16:16:57\",\"1970-01-01T16:16:57\",\"1970-01-01T16:16:57\",\"1970-01-01T18:19:42\",\"1970-01-01T18:19:42\",\"1970-01-01T19:01:22\",\"1970-01-01T19:01:22\",\"1970-01-01T19:01:22\"],\"y\":[\"Carrier A\",\"Carrier A\",\"Carrier A\",\"Carrier A\",null,\"Carrier A\",\"Carrier A\",\"Carrier A\",\"Carrier A\",null,\"Carrier A\",\"Carrier A\",\"Carrier A\",\"Carrier A\",null,\"Carrier A\",\"Carrier A\",\"Carrier A\",\"Carrier A\",null,\"Carrier A\",\"Carrier A\",\"Carrier A\",\"Carrier A\",null,\"Carrier A\",\"Carrier A\",\"Carrier A\",\"Carrier A\",null,\"Carrier A\",\"Carrier A\",\"Carrier A\",\"Carrier A\",null,\"Cutter T\",\"Cutter T\",\"Cutter T\",\"Cutter T\",null,\"Cutter T\",\"Cutter T\",\"Cutter T\",\"Cutter T\",null,\"Cutter T\",\"Cutter T\",\"Cutter T\",\"Cutter T\",null,\"Cutter T\",\"Cutter T\",\"Cutter T\",\"Cutter T\",null,\"Cutter T\",\"Cutter T\",\"Cutter T\",\"Cutter T\",null,\"Cutter T\",\"Cutter T\",\"Cutter T\",\"Cutter T\",null,\"Cutter T\",\"Cutter T\",\"Cutter T\",\"Cutter T\",null],\"type\":\"scatter\"},{\"connectgaps\":false,\"hoverinfo\":\"y+name\",\"line\":{\"color\":\"rgb(28,226,40)\",\"width\":10},\"mode\":\"lines\",\"name\":\"sailing empty:Carrier A\",\"x\":[\"1970-01-01T00:00:00\",\"1970-01-01T00:00:00\",\"1970-01-01T00:40:55\",\"1970-01-01T00:40:55\",\"1970-01-01T00:40:55\",\"1970-01-01T03:56:42\",\"1970-01-01T03:56:42\",\"1970-01-01T04:37:37\",\"1970-01-01T04:37:37\",\"1970-01-01T04:37:37\",\"1970-01-01T06:41:07\",\"1970-01-01T06:41:07\",\"1970-01-01T07:22:02\",\"1970-01-01T07:22:02\",\"1970-01-01T07:22:02\",\"1970-01-01T09:25:32\",\"1970-01-01T09:25:32\",\"1970-01-01T10:06:27\",\"1970-01-01T10:06:27\",\"1970-01-01T10:06:27\",\"1970-01-01T12:09:57\",\"1970-01-01T12:09:57\",\"1970-01-01T12:50:52\",\"1970-01-01T12:50:52\",\"1970-01-01T12:50:52\",\"1970-01-01T14:54:22\",\"1970-01-01T14:54:22\",\"1970-01-01T15:35:17\",\"1970-01-01T15:35:17\",\"1970-01-01T15:35:17\",\"1970-01-01T17:38:47\",\"1970-01-01T17:38:47\",\"1970-01-01T18:19:42\",\"1970-01-01T18:19:42\",\"1970-01-01T18:19:42\"],\"y\":[\"Carrier A\",\"Carrier A\",\"Carrier A\",\"Carrier A\",null,\"Carrier A\",\"Carrier A\",\"Carrier A\",\"Carrier A\",null,\"Carrier A\",\"Carrier A\",\"Carrier A\",\"Carrier A\",null,\"Carrier A\",\"Carrier A\",\"Carrier A\",\"Carrier A\",null,\"Carrier A\",\"Carrier A\",\"Carrier A\",\"Carrier A\",null,\"Carrier A\",\"Carrier A\",\"Carrier A\",\"Carrier A\",null,\"Carrier A\",\"Carrier A\",\"Carrier A\",\"Carrier A\",null],\"type\":\"scatter\"},{\"connectgaps\":false,\"hoverinfo\":\"y+name\",\"line\":{\"color\":\"rgb(45,243,57)\",\"width\":10},\"mode\":\"lines\",\"name\":\"sailing full:Carrier A\",\"x\":[\"1970-01-01T02:34:52\",\"1970-01-01T02:34:52\",\"1970-01-01T03:15:47\",\"1970-01-01T03:15:47\",\"1970-01-01T03:15:47\",\"1970-01-01T05:19:17\",\"1970-01-01T05:19:17\",\"1970-01-01T06:00:12\",\"1970-01-01T06:00:12\",\"1970-01-01T06:00:12\",\"1970-01-01T08:03:42\",\"1970-01-01T08:03:42\",\"1970-01-01T08:44:37\",\"1970-01-01T08:44:37\",\"1970-01-01T08:44:37\",\"1970-01-01T10:48:07\",\"1970-01-01T10:48:07\",\"1970-01-01T11:29:02\",\"1970-01-01T11:29:02\",\"1970-01-01T11:29:02\",\"1970-01-01T13:32:32\",\"1970-01-01T13:32:32\",\"1970-01-01T14:13:27\",\"1970-01-01T14:13:27\",\"1970-01-01T14:13:27\",\"1970-01-01T16:16:57\",\"1970-01-01T16:16:57\",\"1970-01-01T16:57:52\",\"1970-01-01T16:57:52\",\"1970-01-01T16:57:52\",\"1970-01-01T19:01:22\",\"1970-01-01T19:01:22\",\"1970-01-01T19:42:17\",\"1970-01-01T19:42:17\",\"1970-01-01T19:42:17\"],\"y\":[\"Carrier A\",\"Carrier A\",\"Carrier A\",\"Carrier A\",null,\"Carrier A\",\"Carrier A\",\"Carrier A\",\"Carrier A\",null,\"Carrier A\",\"Carrier A\",\"Carrier A\",\"Carrier A\",null,\"Carrier A\",\"Carrier A\",\"Carrier A\",\"Carrier A\",null,\"Carrier A\",\"Carrier A\",\"Carrier A\",\"Carrier A\",null,\"Carrier A\",\"Carrier A\",\"Carrier A\",\"Carrier A\",null,\"Carrier A\",\"Carrier A\",\"Carrier A\",\"Carrier A\",null],\"type\":\"scatter\"},{\"connectgaps\":false,\"hoverinfo\":\"y+name\",\"line\":{\"color\":\"rgb(62,4,74)\",\"width\":10},\"mode\":\"lines\",\"name\":\"unloading:Carrier B\",\"x\":[\"1970-01-01T02:33:15\",\"1970-01-01T02:33:15\",\"1970-01-01T03:13:18\",\"1970-01-01T03:13:18\",\"1970-01-01T03:13:18\",\"1970-01-01T05:15:04\",\"1970-01-01T05:15:04\",\"1970-01-01T05:55:07\",\"1970-01-01T05:55:07\",\"1970-01-01T05:55:07\",\"1970-01-01T07:56:53\",\"1970-01-01T07:56:53\",\"1970-01-01T08:36:56\",\"1970-01-01T08:36:56\",\"1970-01-01T08:36:56\",\"1970-01-01T10:38:42\",\"1970-01-01T10:38:42\",\"1970-01-01T11:18:45\",\"1970-01-01T11:18:45\",\"1970-01-01T11:18:45\",\"1970-01-01T13:20:31\",\"1970-01-01T13:20:31\",\"1970-01-01T14:00:34\",\"1970-01-01T14:00:34\",\"1970-01-01T14:00:34\",\"1970-01-01T16:02:20\",\"1970-01-01T16:02:20\",\"1970-01-01T16:42:23\",\"1970-01-01T16:42:23\",\"1970-01-01T16:42:23\",\"1970-01-01T18:44:09\",\"1970-01-01T18:44:09\",\"1970-01-01T19:24:12\",\"1970-01-01T19:24:12\",\"1970-01-01T19:24:12\"],\"y\":[\"Carrier B\",\"Carrier B\",\"Carrier B\",\"Carrier B\",null,\"Carrier B\",\"Carrier B\",\"Carrier B\",\"Carrier B\",null,\"Carrier B\",\"Carrier B\",\"Carrier B\",\"Carrier B\",null,\"Carrier B\",\"Carrier B\",\"Carrier B\",\"Carrier B\",null,\"Carrier B\",\"Carrier B\",\"Carrier B\",\"Carrier B\",null,\"Carrier B\",\"Carrier B\",\"Carrier B\",\"Carrier B\",null,\"Carrier B\",\"Carrier B\",\"Carrier B\",\"Carrier B\",null],\"type\":\"scatter\"},{\"connectgaps\":false,\"hoverinfo\":\"y+name\",\"line\":{\"color\":\"rgb(79,21,91)\",\"width\":10},\"mode\":\"lines\",\"name\":\"sailing empty:Carrier B\",\"x\":[\"1970-01-01T00:00:00\",\"1970-01-01T00:00:00\",\"1970-01-01T00:40:03\",\"1970-01-01T00:40:03\",\"1970-01-01T00:40:03\",\"1970-01-01T03:13:18\",\"1970-01-01T03:13:18\",\"1970-01-01T03:53:21\",\"1970-01-01T03:53:21\",\"1970-01-01T03:53:21\",\"1970-01-01T05:55:07\",\"1970-01-01T05:55:07\",\"1970-01-01T06:35:10\",\"1970-01-01T06:35:10\",\"1970-01-01T06:35:10\",\"1970-01-01T08:36:56\",\"1970-01-01T08:36:56\",\"1970-01-01T09:16:59\",\"1970-01-01T09:16:59\",\"1970-01-01T09:16:59\",\"1970-01-01T11:18:45\",\"1970-01-01T11:18:45\",\"1970-01-01T11:58:48\",\"1970-01-01T11:58:48\",\"1970-01-01T11:58:48\",\"1970-01-01T14:00:34\",\"1970-01-01T14:00:34\",\"1970-01-01T14:40:37\",\"1970-01-01T14:40:37\",\"1970-01-01T14:40:37\",\"1970-01-01T16:42:23\",\"1970-01-01T16:42:23\",\"1970-01-01T17:22:26\",\"1970-01-01T17:22:26\",\"1970-01-01T17:22:26\"],\"y\":[\"Carrier B\",\"Carrier B\",\"Carrier B\",\"Carrier B\",null,\"Carrier B\",\"Carrier B\",\"Carrier B\",\"Carrier B\",null,\"Carrier B\",\"Carrier B\",\"Carrier B\",\"Carrier B\",null,\"Carrier B\",\"Carrier B\",\"Carrier B\",\"Carrier B\",null,\"Carrier B\",\"Carrier B\",\"Carrier B\",\"Carrier B\",null,\"Carrier B\",\"Carrier B\",\"Carrier B\",\"Carrier B\",null,\"Carrier B\",\"Carrier B\",\"Carrier B\",\"Carrier B\",null],\"type\":\"scatter\"},{\"connectgaps\":false,\"hoverinfo\":\"y+name\",\"line\":{\"color\":\"rgb(96,38,108)\",\"width\":10},\"mode\":\"lines\",\"name\":\"sailing full:Carrier B\",\"x\":[\"1970-01-01T01:53:12\",\"1970-01-01T01:53:12\",\"1970-01-01T02:33:15\",\"1970-01-01T02:33:15\",\"1970-01-01T02:33:15\",\"1970-01-01T04:35:01\",\"1970-01-01T04:35:01\",\"1970-01-01T05:15:04\",\"1970-01-01T05:15:04\",\"1970-01-01T05:15:04\",\"1970-01-01T07:16:50\",\"1970-01-01T07:16:50\",\"1970-01-01T07:56:53\",\"1970-01-01T07:56:53\",\"1970-01-01T07:56:53\",\"1970-01-01T09:58:39\",\"1970-01-01T09:58:39\",\"1970-01-01T10:38:42\",\"1970-01-01T10:38:42\",\"1970-01-01T10:38:42\",\"1970-01-01T12:40:28\",\"1970-01-01T12:40:28\",\"1970-01-01T13:20:31\",\"1970-01-01T13:20:31\",\"1970-01-01T13:20:31\",\"1970-01-01T15:22:17\",\"1970-01-01T15:22:17\",\"1970-01-01T16:02:20\",\"1970-01-01T16:02:20\",\"1970-01-01T16:02:20\",\"1970-01-01T18:04:06\",\"1970-01-01T18:04:06\",\"1970-01-01T18:44:09\",\"1970-01-01T18:44:09\",\"1970-01-01T18:44:09\"],\"y\":[\"Carrier B\",\"Carrier B\",\"Carrier B\",\"Carrier B\",null,\"Carrier B\",\"Carrier B\",\"Carrier B\",\"Carrier B\",null,\"Carrier B\",\"Carrier B\",\"Carrier B\",\"Carrier B\",null,\"Carrier B\",\"Carrier B\",\"Carrier B\",\"Carrier B\",null,\"Carrier B\",\"Carrier B\",\"Carrier B\",\"Carrier B\",null,\"Carrier B\",\"Carrier B\",\"Carrier B\",\"Carrier B\",null,\"Carrier B\",\"Carrier B\",\"Carrier B\",\"Carrier B\",null],\"type\":\"scatter\"},{\"connectgaps\":false,\"hoverinfo\":\"y+name\",\"line\":{\"color\":\"rgb(113,55,125)\",\"width\":10},\"mode\":\"lines\",\"name\":\"loading:Carrier B\",\"x\":[\"1970-01-01T01:11:32\",\"1970-01-01T01:11:32\",\"1970-01-01T01:53:12\",\"1970-01-01T01:53:12\",\"1970-01-01T01:53:12\",\"1970-01-01T03:53:21\",\"1970-01-01T03:53:21\",\"1970-01-01T04:35:01\",\"1970-01-01T04:35:01\",\"1970-01-01T04:35:01\",\"1970-01-01T06:35:10\",\"1970-01-01T06:35:10\",\"1970-01-01T07:16:50\",\"1970-01-01T07:16:50\",\"1970-01-01T07:16:50\",\"1970-01-01T09:16:59\",\"1970-01-01T09:16:59\",\"1970-01-01T09:58:39\",\"1970-01-01T09:58:39\",\"1970-01-01T09:58:39\",\"1970-01-01T11:58:48\",\"1970-01-01T11:58:48\",\"1970-01-01T12:40:28\",\"1970-01-01T12:40:28\",\"1970-01-01T12:40:28\",\"1970-01-01T14:40:37\",\"1970-01-01T14:40:37\",\"1970-01-01T15:22:17\",\"1970-01-01T15:22:17\",\"1970-01-01T15:22:17\",\"1970-01-01T17:22:26\",\"1970-01-01T17:22:26\",\"1970-01-01T18:04:06\",\"1970-01-01T18:04:06\",\"1970-01-01T18:04:06\",\"1970-01-01T01:11:32\",\"1970-01-01T01:11:32\",\"1970-01-01T01:53:12\",\"1970-01-01T01:53:12\",\"1970-01-01T01:53:12\",\"1970-01-01T03:53:21\",\"1970-01-01T03:53:21\",\"1970-01-01T04:35:01\",\"1970-01-01T04:35:01\",\"1970-01-01T04:35:01\",\"1970-01-01T06:35:10\",\"1970-01-01T06:35:10\",\"1970-01-01T07:16:50\",\"1970-01-01T07:16:50\",\"1970-01-01T07:16:50\",\"1970-01-01T09:16:59\",\"1970-01-01T09:16:59\",\"1970-01-01T09:58:39\",\"1970-01-01T09:58:39\",\"1970-01-01T09:58:39\",\"1970-01-01T11:58:48\",\"1970-01-01T11:58:48\",\"1970-01-01T12:40:28\",\"1970-01-01T12:40:28\",\"1970-01-01T12:40:28\",\"1970-01-01T14:40:37\",\"1970-01-01T14:40:37\",\"1970-01-01T15:22:17\",\"1970-01-01T15:22:17\",\"1970-01-01T15:22:17\",\"1970-01-01T17:22:26\",\"1970-01-01T17:22:26\",\"1970-01-01T18:04:06\",\"1970-01-01T18:04:06\",\"1970-01-01T18:04:06\"],\"y\":[\"Carrier B\",\"Carrier B\",\"Carrier B\",\"Carrier B\",null,\"Carrier B\",\"Carrier B\",\"Carrier B\",\"Carrier B\",null,\"Carrier B\",\"Carrier B\",\"Carrier B\",\"Carrier B\",null,\"Carrier B\",\"Carrier B\",\"Carrier B\",\"Carrier B\",null,\"Carrier B\",\"Carrier B\",\"Carrier B\",\"Carrier B\",null,\"Carrier B\",\"Carrier B\",\"Carrier B\",\"Carrier B\",null,\"Carrier B\",\"Carrier B\",\"Carrier B\",\"Carrier B\",null,\"Cutter T\",\"Cutter T\",\"Cutter T\",\"Cutter T\",null,\"Cutter T\",\"Cutter T\",\"Cutter T\",\"Cutter T\",null,\"Cutter T\",\"Cutter T\",\"Cutter T\",\"Cutter T\",null,\"Cutter T\",\"Cutter T\",\"Cutter T\",\"Cutter T\",null,\"Cutter T\",\"Cutter T\",\"Cutter T\",\"Cutter T\",null,\"Cutter T\",\"Cutter T\",\"Cutter T\",\"Cutter T\",null,\"Cutter T\",\"Cutter T\",\"Cutter T\",\"Cutter T\",null],\"type\":\"scatter\"},{\"connectgaps\":false,\"hoverinfo\":\"y+name\",\"line\":{\"color\":\"rgb(130,72,142)\",\"width\":10},\"mode\":\"lines\",\"name\":\"sailing full:Carrier C\",\"x\":[\"1970-01-01T01:11:32\",\"1970-01-01T01:11:32\",\"1970-01-01T01:49:44\",\"1970-01-01T01:49:44\",\"1970-01-01T01:49:44\",\"1970-01-01T03:39:28\",\"1970-01-01T03:39:28\",\"1970-01-01T04:17:40\",\"1970-01-01T04:17:40\",\"1970-01-01T04:17:40\",\"1970-01-01T06:07:24\",\"1970-01-01T06:07:24\",\"1970-01-01T06:45:36\",\"1970-01-01T06:45:36\",\"1970-01-01T06:45:36\",\"1970-01-01T08:37:02\",\"1970-01-01T08:37:02\",\"1970-01-01T09:15:14\",\"1970-01-01T09:15:14\",\"1970-01-01T09:15:14\",\"1970-01-01T11:21:27\",\"1970-01-01T11:21:27\",\"1970-01-01T11:59:39\",\"1970-01-01T11:59:39\",\"1970-01-01T11:59:39\",\"1970-01-01T14:05:52\",\"1970-01-01T14:05:52\",\"1970-01-01T14:44:04\",\"1970-01-01T14:44:04\",\"1970-01-01T14:44:04\",\"1970-01-01T16:50:17\",\"1970-01-01T16:50:17\",\"1970-01-01T17:28:29\",\"1970-01-01T17:28:29\",\"1970-01-01T17:28:29\",\"1970-01-01T19:34:42\",\"1970-01-01T19:34:42\",\"1970-01-01T20:12:54\",\"1970-01-01T20:12:54\",\"1970-01-01T20:12:54\"],\"y\":[\"Carrier C\",\"Carrier C\",\"Carrier C\",\"Carrier C\",null,\"Carrier C\",\"Carrier C\",\"Carrier C\",\"Carrier C\",null,\"Carrier C\",\"Carrier C\",\"Carrier C\",\"Carrier C\",null,\"Carrier C\",\"Carrier C\",\"Carrier C\",\"Carrier C\",null,\"Carrier C\",\"Carrier C\",\"Carrier C\",\"Carrier C\",null,\"Carrier C\",\"Carrier C\",\"Carrier C\",\"Carrier C\",null,\"Carrier C\",\"Carrier C\",\"Carrier C\",\"Carrier C\",null,\"Carrier C\",\"Carrier C\",\"Carrier C\",\"Carrier C\",null],\"type\":\"scatter\"},{\"connectgaps\":false,\"hoverinfo\":\"y+name\",\"line\":{\"color\":\"rgb(147,89,159)\",\"width\":10},\"mode\":\"lines\",\"name\":\"loading:Carrier C\",\"x\":[\"1970-01-01T00:38:12\",\"1970-01-01T00:38:12\",\"1970-01-01T01:11:32\",\"1970-01-01T01:11:32\",\"1970-01-01T01:11:32\",\"1970-01-01T03:06:08\",\"1970-01-01T03:06:08\",\"1970-01-01T03:39:28\",\"1970-01-01T03:39:28\",\"1970-01-01T03:39:28\",\"1970-01-01T05:34:04\",\"1970-01-01T05:34:04\",\"1970-01-01T06:07:24\",\"1970-01-01T06:07:24\",\"1970-01-01T06:07:24\",\"1970-01-01T08:03:42\",\"1970-01-01T08:03:42\",\"1970-01-01T08:37:02\",\"1970-01-01T08:37:02\",\"1970-01-01T08:37:02\",\"1970-01-01T10:48:07\",\"1970-01-01T10:48:07\",\"1970-01-01T11:21:27\",\"1970-01-01T11:21:27\",\"1970-01-01T11:21:27\",\"1970-01-01T13:32:32\",\"1970-01-01T13:32:32\",\"1970-01-01T14:05:52\",\"1970-01-01T14:05:52\",\"1970-01-01T14:05:52\",\"1970-01-01T16:16:57\",\"1970-01-01T16:16:57\",\"1970-01-01T16:50:17\",\"1970-01-01T16:50:17\",\"1970-01-01T16:50:17\",\"1970-01-01T19:01:22\",\"1970-01-01T19:01:22\",\"1970-01-01T19:34:42\",\"1970-01-01T19:34:42\",\"1970-01-01T19:34:42\",\"1970-01-01T00:38:12\",\"1970-01-01T00:38:12\",\"1970-01-01T01:11:32\",\"1970-01-01T01:11:32\",\"1970-01-01T01:11:32\",\"1970-01-01T03:06:08\",\"1970-01-01T03:06:08\",\"1970-01-01T03:39:28\",\"1970-01-01T03:39:28\",\"1970-01-01T03:39:28\",\"1970-01-01T05:34:04\",\"1970-01-01T05:34:04\",\"1970-01-01T06:07:24\",\"1970-01-01T06:07:24\",\"1970-01-01T06:07:24\",\"1970-01-01T08:03:42\",\"1970-01-01T08:03:42\",\"1970-01-01T08:37:02\",\"1970-01-01T08:37:02\",\"1970-01-01T08:37:02\",\"1970-01-01T10:48:07\",\"1970-01-01T10:48:07\",\"1970-01-01T11:21:27\",\"1970-01-01T11:21:27\",\"1970-01-01T11:21:27\",\"1970-01-01T13:32:32\",\"1970-01-01T13:32:32\",\"1970-01-01T14:05:52\",\"1970-01-01T14:05:52\",\"1970-01-01T14:05:52\",\"1970-01-01T16:16:57\",\"1970-01-01T16:16:57\",\"1970-01-01T16:50:17\",\"1970-01-01T16:50:17\",\"1970-01-01T16:50:17\",\"1970-01-01T19:01:22\",\"1970-01-01T19:01:22\",\"1970-01-01T19:34:42\",\"1970-01-01T19:34:42\",\"1970-01-01T19:34:42\"],\"y\":[\"Carrier C\",\"Carrier C\",\"Carrier C\",\"Carrier C\",null,\"Carrier C\",\"Carrier C\",\"Carrier C\",\"Carrier C\",null,\"Carrier C\",\"Carrier C\",\"Carrier C\",\"Carrier C\",null,\"Carrier C\",\"Carrier C\",\"Carrier C\",\"Carrier C\",null,\"Carrier C\",\"Carrier C\",\"Carrier C\",\"Carrier C\",null,\"Carrier C\",\"Carrier C\",\"Carrier C\",\"Carrier C\",null,\"Carrier C\",\"Carrier C\",\"Carrier C\",\"Carrier C\",null,\"Carrier C\",\"Carrier C\",\"Carrier C\",\"Carrier C\",null,\"Cutter T\",\"Cutter T\",\"Cutter T\",\"Cutter T\",null,\"Cutter T\",\"Cutter T\",\"Cutter T\",\"Cutter T\",null,\"Cutter T\",\"Cutter T\",\"Cutter T\",\"Cutter T\",null,\"Cutter T\",\"Cutter T\",\"Cutter T\",\"Cutter T\",null,\"Cutter T\",\"Cutter T\",\"Cutter T\",\"Cutter T\",null,\"Cutter T\",\"Cutter T\",\"Cutter T\",\"Cutter T\",null,\"Cutter T\",\"Cutter T\",\"Cutter T\",\"Cutter T\",null,\"Cutter T\",\"Cutter T\",\"Cutter T\",\"Cutter T\",null],\"type\":\"scatter\"},{\"connectgaps\":false,\"hoverinfo\":\"y+name\",\"line\":{\"color\":\"rgb(164,106,176)\",\"width\":10},\"mode\":\"lines\",\"name\":\"unloading:Carrier C\",\"x\":[\"1970-01-01T01:49:44\",\"1970-01-01T01:49:44\",\"1970-01-01T02:27:56\",\"1970-01-01T02:27:56\",\"1970-01-01T02:27:56\",\"1970-01-01T04:17:40\",\"1970-01-01T04:17:40\",\"1970-01-01T04:55:52\",\"1970-01-01T04:55:52\",\"1970-01-01T04:55:52\",\"1970-01-01T06:45:36\",\"1970-01-01T06:45:36\",\"1970-01-01T07:23:48\",\"1970-01-01T07:23:48\",\"1970-01-01T07:23:48\",\"1970-01-01T09:15:14\",\"1970-01-01T09:15:14\",\"1970-01-01T09:53:26\",\"1970-01-01T09:53:26\",\"1970-01-01T09:53:26\",\"1970-01-01T11:59:39\",\"1970-01-01T11:59:39\",\"1970-01-01T12:37:51\",\"1970-01-01T12:37:51\",\"1970-01-01T12:37:51\",\"1970-01-01T14:44:04\",\"1970-01-01T14:44:04\",\"1970-01-01T15:22:16\",\"1970-01-01T15:22:16\",\"1970-01-01T15:22:16\",\"1970-01-01T17:28:29\",\"1970-01-01T17:28:29\",\"1970-01-01T18:06:41\",\"1970-01-01T18:06:41\",\"1970-01-01T18:06:41\",\"1970-01-01T20:12:54\",\"1970-01-01T20:12:54\",\"1970-01-01T20:51:06\",\"1970-01-01T20:51:06\",\"1970-01-01T20:51:06\"],\"y\":[\"Carrier C\",\"Carrier C\",\"Carrier C\",\"Carrier C\",null,\"Carrier C\",\"Carrier C\",\"Carrier C\",\"Carrier C\",null,\"Carrier C\",\"Carrier C\",\"Carrier C\",\"Carrier C\",null,\"Carrier C\",\"Carrier C\",\"Carrier C\",\"Carrier C\",null,\"Carrier C\",\"Carrier C\",\"Carrier C\",\"Carrier C\",null,\"Carrier C\",\"Carrier C\",\"Carrier C\",\"Carrier C\",null,\"Carrier C\",\"Carrier C\",\"Carrier C\",\"Carrier C\",null,\"Carrier C\",\"Carrier C\",\"Carrier C\",\"Carrier C\",null],\"type\":\"scatter\"},{\"connectgaps\":false,\"hoverinfo\":\"y+name\",\"line\":{\"color\":\"rgb(181,123,193)\",\"width\":10},\"mode\":\"lines\",\"name\":\"sailing empty:Carrier C\",\"x\":[\"1970-01-01T00:00:00\",\"1970-01-01T00:00:00\",\"1970-01-01T00:38:12\",\"1970-01-01T00:38:12\",\"1970-01-01T00:38:12\",\"1970-01-01T02:27:56\",\"1970-01-01T02:27:56\",\"1970-01-01T03:06:08\",\"1970-01-01T03:06:08\",\"1970-01-01T03:06:08\",\"1970-01-01T04:55:52\",\"1970-01-01T04:55:52\",\"1970-01-01T05:34:04\",\"1970-01-01T05:34:04\",\"1970-01-01T05:34:04\",\"1970-01-01T07:23:48\",\"1970-01-01T07:23:48\",\"1970-01-01T08:02:00\",\"1970-01-01T08:02:00\",\"1970-01-01T08:02:00\",\"1970-01-01T09:53:26\",\"1970-01-01T09:53:26\",\"1970-01-01T10:31:38\",\"1970-01-01T10:31:38\",\"1970-01-01T10:31:38\",\"1970-01-01T12:37:51\",\"1970-01-01T12:37:51\",\"1970-01-01T13:16:03\",\"1970-01-01T13:16:03\",\"1970-01-01T13:16:03\",\"1970-01-01T15:22:16\",\"1970-01-01T15:22:16\",\"1970-01-01T16:00:28\",\"1970-01-01T16:00:28\",\"1970-01-01T16:00:28\",\"1970-01-01T18:06:41\",\"1970-01-01T18:06:41\",\"1970-01-01T18:44:53\",\"1970-01-01T18:44:53\",\"1970-01-01T18:44:53\"],\"y\":[\"Carrier C\",\"Carrier C\",\"Carrier C\",\"Carrier C\",null,\"Carrier C\",\"Carrier C\",\"Carrier C\",\"Carrier C\",null,\"Carrier C\",\"Carrier C\",\"Carrier C\",\"Carrier C\",null,\"Carrier C\",\"Carrier C\",\"Carrier C\",\"Carrier C\",null,\"Carrier C\",\"Carrier C\",\"Carrier C\",\"Carrier C\",null,\"Carrier C\",\"Carrier C\",\"Carrier C\",\"Carrier C\",null,\"Carrier C\",\"Carrier C\",\"Carrier C\",\"Carrier C\",null,\"Carrier C\",\"Carrier C\",\"Carrier C\",\"Carrier C\",null],\"type\":\"scatter\"},{\"connectgaps\":false,\"hoverinfo\":\"y+name\",\"line\":{\"color\":\"rgb(198,140,210)\",\"width\":10},\"mode\":\"lines\",\"name\":\"loading:Carrier C\",\"x\":[\"1970-01-01T00:38:12\",\"1970-01-01T00:38:12\",\"1970-01-01T01:11:32\",\"1970-01-01T01:11:32\",\"1970-01-01T01:11:32\",\"1970-01-01T03:06:08\",\"1970-01-01T03:06:08\",\"1970-01-01T03:39:28\",\"1970-01-01T03:39:28\",\"1970-01-01T03:39:28\",\"1970-01-01T05:34:04\",\"1970-01-01T05:34:04\",\"1970-01-01T06:07:24\",\"1970-01-01T06:07:24\",\"1970-01-01T06:07:24\",\"1970-01-01T08:03:42\",\"1970-01-01T08:03:42\",\"1970-01-01T08:37:02\",\"1970-01-01T08:37:02\",\"1970-01-01T08:37:02\",\"1970-01-01T10:48:07\",\"1970-01-01T10:48:07\",\"1970-01-01T11:21:27\",\"1970-01-01T11:21:27\",\"1970-01-01T11:21:27\",\"1970-01-01T13:32:32\",\"1970-01-01T13:32:32\",\"1970-01-01T14:05:52\",\"1970-01-01T14:05:52\",\"1970-01-01T14:05:52\",\"1970-01-01T16:16:57\",\"1970-01-01T16:16:57\",\"1970-01-01T16:50:17\",\"1970-01-01T16:50:17\",\"1970-01-01T16:50:17\",\"1970-01-01T19:01:22\",\"1970-01-01T19:01:22\",\"1970-01-01T19:34:42\",\"1970-01-01T19:34:42\",\"1970-01-01T19:34:42\",\"1970-01-01T00:38:12\",\"1970-01-01T00:38:12\",\"1970-01-01T01:11:32\",\"1970-01-01T01:11:32\",\"1970-01-01T01:11:32\",\"1970-01-01T03:06:08\",\"1970-01-01T03:06:08\",\"1970-01-01T03:39:28\",\"1970-01-01T03:39:28\",\"1970-01-01T03:39:28\",\"1970-01-01T05:34:04\",\"1970-01-01T05:34:04\",\"1970-01-01T06:07:24\",\"1970-01-01T06:07:24\",\"1970-01-01T06:07:24\",\"1970-01-01T08:03:42\",\"1970-01-01T08:03:42\",\"1970-01-01T08:37:02\",\"1970-01-01T08:37:02\",\"1970-01-01T08:37:02\",\"1970-01-01T10:48:07\",\"1970-01-01T10:48:07\",\"1970-01-01T11:21:27\",\"1970-01-01T11:21:27\",\"1970-01-01T11:21:27\",\"1970-01-01T13:32:32\",\"1970-01-01T13:32:32\",\"1970-01-01T14:05:52\",\"1970-01-01T14:05:52\",\"1970-01-01T14:05:52\",\"1970-01-01T16:16:57\",\"1970-01-01T16:16:57\",\"1970-01-01T16:50:17\",\"1970-01-01T16:50:17\",\"1970-01-01T16:50:17\",\"1970-01-01T19:01:22\",\"1970-01-01T19:01:22\",\"1970-01-01T19:34:42\",\"1970-01-01T19:34:42\",\"1970-01-01T19:34:42\"],\"y\":[\"Carrier C\",\"Carrier C\",\"Carrier C\",\"Carrier C\",null,\"Carrier C\",\"Carrier C\",\"Carrier C\",\"Carrier C\",null,\"Carrier C\",\"Carrier C\",\"Carrier C\",\"Carrier C\",null,\"Carrier C\",\"Carrier C\",\"Carrier C\",\"Carrier C\",null,\"Carrier C\",\"Carrier C\",\"Carrier C\",\"Carrier C\",null,\"Carrier C\",\"Carrier C\",\"Carrier C\",\"Carrier C\",null,\"Carrier C\",\"Carrier C\",\"Carrier C\",\"Carrier C\",null,\"Carrier C\",\"Carrier C\",\"Carrier C\",\"Carrier C\",null,\"Cutter T\",\"Cutter T\",\"Cutter T\",\"Cutter T\",null,\"Cutter T\",\"Cutter T\",\"Cutter T\",\"Cutter T\",null,\"Cutter T\",\"Cutter T\",\"Cutter T\",\"Cutter T\",null,\"Cutter T\",\"Cutter T\",\"Cutter T\",\"Cutter T\",null,\"Cutter T\",\"Cutter T\",\"Cutter T\",\"Cutter T\",null,\"Cutter T\",\"Cutter T\",\"Cutter T\",\"Cutter T\",null,\"Cutter T\",\"Cutter T\",\"Cutter T\",\"Cutter T\",null,\"Cutter T\",\"Cutter T\",\"Cutter T\",\"Cutter T\",null],\"type\":\"scatter\"},{\"connectgaps\":false,\"hoverinfo\":\"y+name\",\"line\":{\"color\":\"rgb(215,157,227)\",\"width\":10},\"mode\":\"lines\",\"name\":\"loading:Carrier A\",\"x\":[\"1970-01-01T01:53:12\",\"1970-01-01T01:53:12\",\"1970-01-01T02:34:52\",\"1970-01-01T02:34:52\",\"1970-01-01T02:34:52\",\"1970-01-01T04:37:37\",\"1970-01-01T04:37:37\",\"1970-01-01T05:19:17\",\"1970-01-01T05:19:17\",\"1970-01-01T05:19:17\",\"1970-01-01T07:22:02\",\"1970-01-01T07:22:02\",\"1970-01-01T08:03:42\",\"1970-01-01T08:03:42\",\"1970-01-01T08:03:42\",\"1970-01-01T10:06:27\",\"1970-01-01T10:06:27\",\"1970-01-01T10:48:07\",\"1970-01-01T10:48:07\",\"1970-01-01T10:48:07\",\"1970-01-01T12:50:52\",\"1970-01-01T12:50:52\",\"1970-01-01T13:32:32\",\"1970-01-01T13:32:32\",\"1970-01-01T13:32:32\",\"1970-01-01T15:35:17\",\"1970-01-01T15:35:17\",\"1970-01-01T16:16:57\",\"1970-01-01T16:16:57\",\"1970-01-01T16:16:57\",\"1970-01-01T18:19:42\",\"1970-01-01T18:19:42\",\"1970-01-01T19:01:22\",\"1970-01-01T19:01:22\",\"1970-01-01T19:01:22\",\"1970-01-01T01:53:12\",\"1970-01-01T01:53:12\",\"1970-01-01T02:34:52\",\"1970-01-01T02:34:52\",\"1970-01-01T02:34:52\",\"1970-01-01T04:37:37\",\"1970-01-01T04:37:37\",\"1970-01-01T05:19:17\",\"1970-01-01T05:19:17\",\"1970-01-01T05:19:17\",\"1970-01-01T07:22:02\",\"1970-01-01T07:22:02\",\"1970-01-01T08:03:42\",\"1970-01-01T08:03:42\",\"1970-01-01T08:03:42\",\"1970-01-01T10:06:27\",\"1970-01-01T10:06:27\",\"1970-01-01T10:48:07\",\"1970-01-01T10:48:07\",\"1970-01-01T10:48:07\",\"1970-01-01T12:50:52\",\"1970-01-01T12:50:52\",\"1970-01-01T13:32:32\",\"1970-01-01T13:32:32\",\"1970-01-01T13:32:32\",\"1970-01-01T15:35:17\",\"1970-01-01T15:35:17\",\"1970-01-01T16:16:57\",\"1970-01-01T16:16:57\",\"1970-01-01T16:16:57\",\"1970-01-01T18:19:42\",\"1970-01-01T18:19:42\",\"1970-01-01T19:01:22\",\"1970-01-01T19:01:22\",\"1970-01-01T19:01:22\"],\"y\":[\"Carrier A\",\"Carrier A\",\"Carrier A\",\"Carrier A\",null,\"Carrier A\",\"Carrier A\",\"Carrier A\",\"Carrier A\",null,\"Carrier A\",\"Carrier A\",\"Carrier A\",\"Carrier A\",null,\"Carrier A\",\"Carrier A\",\"Carrier A\",\"Carrier A\",null,\"Carrier A\",\"Carrier A\",\"Carrier A\",\"Carrier A\",null,\"Carrier A\",\"Carrier A\",\"Carrier A\",\"Carrier A\",null,\"Carrier A\",\"Carrier A\",\"Carrier A\",\"Carrier A\",null,\"Cutter T\",\"Cutter T\",\"Cutter T\",\"Cutter T\",null,\"Cutter T\",\"Cutter T\",\"Cutter T\",\"Cutter T\",null,\"Cutter T\",\"Cutter T\",\"Cutter T\",\"Cutter T\",null,\"Cutter T\",\"Cutter T\",\"Cutter T\",\"Cutter T\",null,\"Cutter T\",\"Cutter T\",\"Cutter T\",\"Cutter T\",null,\"Cutter T\",\"Cutter T\",\"Cutter T\",\"Cutter T\",null,\"Cutter T\",\"Cutter T\",\"Cutter T\",\"Cutter T\",null],\"type\":\"scatter\"},{\"connectgaps\":false,\"hoverinfo\":\"y+name\",\"line\":{\"color\":\"rgb(232,174,244)\",\"width\":10},\"mode\":\"lines\",\"name\":\"loading:Carrier B\",\"x\":[\"1970-01-01T01:11:32\",\"1970-01-01T01:11:32\",\"1970-01-01T01:53:12\",\"1970-01-01T01:53:12\",\"1970-01-01T01:53:12\",\"1970-01-01T03:53:21\",\"1970-01-01T03:53:21\",\"1970-01-01T04:35:01\",\"1970-01-01T04:35:01\",\"1970-01-01T04:35:01\",\"1970-01-01T06:35:10\",\"1970-01-01T06:35:10\",\"1970-01-01T07:16:50\",\"1970-01-01T07:16:50\",\"1970-01-01T07:16:50\",\"1970-01-01T09:16:59\",\"1970-01-01T09:16:59\",\"1970-01-01T09:58:39\",\"1970-01-01T09:58:39\",\"1970-01-01T09:58:39\",\"1970-01-01T11:58:48\",\"1970-01-01T11:58:48\",\"1970-01-01T12:40:28\",\"1970-01-01T12:40:28\",\"1970-01-01T12:40:28\",\"1970-01-01T14:40:37\",\"1970-01-01T14:40:37\",\"1970-01-01T15:22:17\",\"1970-01-01T15:22:17\",\"1970-01-01T15:22:17\",\"1970-01-01T17:22:26\",\"1970-01-01T17:22:26\",\"1970-01-01T18:04:06\",\"1970-01-01T18:04:06\",\"1970-01-01T18:04:06\",\"1970-01-01T01:11:32\",\"1970-01-01T01:11:32\",\"1970-01-01T01:53:12\",\"1970-01-01T01:53:12\",\"1970-01-01T01:53:12\",\"1970-01-01T03:53:21\",\"1970-01-01T03:53:21\",\"1970-01-01T04:35:01\",\"1970-01-01T04:35:01\",\"1970-01-01T04:35:01\",\"1970-01-01T06:35:10\",\"1970-01-01T06:35:10\",\"1970-01-01T07:16:50\",\"1970-01-01T07:16:50\",\"1970-01-01T07:16:50\",\"1970-01-01T09:16:59\",\"1970-01-01T09:16:59\",\"1970-01-01T09:58:39\",\"1970-01-01T09:58:39\",\"1970-01-01T09:58:39\",\"1970-01-01T11:58:48\",\"1970-01-01T11:58:48\",\"1970-01-01T12:40:28\",\"1970-01-01T12:40:28\",\"1970-01-01T12:40:28\",\"1970-01-01T14:40:37\",\"1970-01-01T14:40:37\",\"1970-01-01T15:22:17\",\"1970-01-01T15:22:17\",\"1970-01-01T15:22:17\",\"1970-01-01T17:22:26\",\"1970-01-01T17:22:26\",\"1970-01-01T18:04:06\",\"1970-01-01T18:04:06\",\"1970-01-01T18:04:06\"],\"y\":[\"Carrier B\",\"Carrier B\",\"Carrier B\",\"Carrier B\",null,\"Carrier B\",\"Carrier B\",\"Carrier B\",\"Carrier B\",null,\"Carrier B\",\"Carrier B\",\"Carrier B\",\"Carrier B\",null,\"Carrier B\",\"Carrier B\",\"Carrier B\",\"Carrier B\",null,\"Carrier B\",\"Carrier B\",\"Carrier B\",\"Carrier B\",null,\"Carrier B\",\"Carrier B\",\"Carrier B\",\"Carrier B\",null,\"Carrier B\",\"Carrier B\",\"Carrier B\",\"Carrier B\",null,\"Cutter T\",\"Cutter T\",\"Cutter T\",\"Cutter T\",null,\"Cutter T\",\"Cutter T\",\"Cutter T\",\"Cutter T\",null,\"Cutter T\",\"Cutter T\",\"Cutter T\",\"Cutter T\",null,\"Cutter T\",\"Cutter T\",\"Cutter T\",\"Cutter T\",null,\"Cutter T\",\"Cutter T\",\"Cutter T\",\"Cutter T\",null,\"Cutter T\",\"Cutter T\",\"Cutter T\",\"Cutter T\",null,\"Cutter T\",\"Cutter T\",\"Cutter T\",\"Cutter T\",null],\"type\":\"scatter\"}],                        {\"hovermode\":\"closest\",\"legend\":{\"orientation\":\"h\",\"x\":0,\"y\":-0.2},\"template\":{\"data\":{\"barpolar\":[{\"marker\":{\"line\":{\"color\":\"#E5ECF6\",\"width\":0.5},\"pattern\":{\"fillmode\":\"overlay\",\"size\":10,\"solidity\":0.2}},\"type\":\"barpolar\"}],\"bar\":[{\"error_x\":{\"color\":\"#2a3f5f\"},\"error_y\":{\"color\":\"#2a3f5f\"},\"marker\":{\"line\":{\"color\":\"#E5ECF6\",\"width\":0.5},\"pattern\":{\"fillmode\":\"overlay\",\"size\":10,\"solidity\":0.2}},\"type\":\"bar\"}],\"carpet\":[{\"aaxis\":{\"endlinecolor\":\"#2a3f5f\",\"gridcolor\":\"white\",\"linecolor\":\"white\",\"minorgridcolor\":\"white\",\"startlinecolor\":\"#2a3f5f\"},\"baxis\":{\"endlinecolor\":\"#2a3f5f\",\"gridcolor\":\"white\",\"linecolor\":\"white\",\"minorgridcolor\":\"white\",\"startlinecolor\":\"#2a3f5f\"},\"type\":\"carpet\"}],\"choropleth\":[{\"colorbar\":{\"outlinewidth\":0,\"ticks\":\"\"},\"type\":\"choropleth\"}],\"contourcarpet\":[{\"colorbar\":{\"outlinewidth\":0,\"ticks\":\"\"},\"type\":\"contourcarpet\"}],\"contour\":[{\"colorbar\":{\"outlinewidth\":0,\"ticks\":\"\"},\"colorscale\":[[0.0,\"#0d0887\"],[0.1111111111111111,\"#46039f\"],[0.2222222222222222,\"#7201a8\"],[0.3333333333333333,\"#9c179e\"],[0.4444444444444444,\"#bd3786\"],[0.5555555555555556,\"#d8576b\"],[0.6666666666666666,\"#ed7953\"],[0.7777777777777778,\"#fb9f3a\"],[0.8888888888888888,\"#fdca26\"],[1.0,\"#f0f921\"]],\"type\":\"contour\"}],\"heatmapgl\":[{\"colorbar\":{\"outlinewidth\":0,\"ticks\":\"\"},\"colorscale\":[[0.0,\"#0d0887\"],[0.1111111111111111,\"#46039f\"],[0.2222222222222222,\"#7201a8\"],[0.3333333333333333,\"#9c179e\"],[0.4444444444444444,\"#bd3786\"],[0.5555555555555556,\"#d8576b\"],[0.6666666666666666,\"#ed7953\"],[0.7777777777777778,\"#fb9f3a\"],[0.8888888888888888,\"#fdca26\"],[1.0,\"#f0f921\"]],\"type\":\"heatmapgl\"}],\"heatmap\":[{\"colorbar\":{\"outlinewidth\":0,\"ticks\":\"\"},\"colorscale\":[[0.0,\"#0d0887\"],[0.1111111111111111,\"#46039f\"],[0.2222222222222222,\"#7201a8\"],[0.3333333333333333,\"#9c179e\"],[0.4444444444444444,\"#bd3786\"],[0.5555555555555556,\"#d8576b\"],[0.6666666666666666,\"#ed7953\"],[0.7777777777777778,\"#fb9f3a\"],[0.8888888888888888,\"#fdca26\"],[1.0,\"#f0f921\"]],\"type\":\"heatmap\"}],\"histogram2dcontour\":[{\"colorbar\":{\"outlinewidth\":0,\"ticks\":\"\"},\"colorscale\":[[0.0,\"#0d0887\"],[0.1111111111111111,\"#46039f\"],[0.2222222222222222,\"#7201a8\"],[0.3333333333333333,\"#9c179e\"],[0.4444444444444444,\"#bd3786\"],[0.5555555555555556,\"#d8576b\"],[0.6666666666666666,\"#ed7953\"],[0.7777777777777778,\"#fb9f3a\"],[0.8888888888888888,\"#fdca26\"],[1.0,\"#f0f921\"]],\"type\":\"histogram2dcontour\"}],\"histogram2d\":[{\"colorbar\":{\"outlinewidth\":0,\"ticks\":\"\"},\"colorscale\":[[0.0,\"#0d0887\"],[0.1111111111111111,\"#46039f\"],[0.2222222222222222,\"#7201a8\"],[0.3333333333333333,\"#9c179e\"],[0.4444444444444444,\"#bd3786\"],[0.5555555555555556,\"#d8576b\"],[0.6666666666666666,\"#ed7953\"],[0.7777777777777778,\"#fb9f3a\"],[0.8888888888888888,\"#fdca26\"],[1.0,\"#f0f921\"]],\"type\":\"histogram2d\"}],\"histogram\":[{\"marker\":{\"pattern\":{\"fillmode\":\"overlay\",\"size\":10,\"solidity\":0.2}},\"type\":\"histogram\"}],\"mesh3d\":[{\"colorbar\":{\"outlinewidth\":0,\"ticks\":\"\"},\"type\":\"mesh3d\"}],\"parcoords\":[{\"line\":{\"colorbar\":{\"outlinewidth\":0,\"ticks\":\"\"}},\"type\":\"parcoords\"}],\"pie\":[{\"automargin\":true,\"type\":\"pie\"}],\"scatter3d\":[{\"line\":{\"colorbar\":{\"outlinewidth\":0,\"ticks\":\"\"}},\"marker\":{\"colorbar\":{\"outlinewidth\":0,\"ticks\":\"\"}},\"type\":\"scatter3d\"}],\"scattercarpet\":[{\"marker\":{\"colorbar\":{\"outlinewidth\":0,\"ticks\":\"\"}},\"type\":\"scattercarpet\"}],\"scattergeo\":[{\"marker\":{\"colorbar\":{\"outlinewidth\":0,\"ticks\":\"\"}},\"type\":\"scattergeo\"}],\"scattergl\":[{\"marker\":{\"colorbar\":{\"outlinewidth\":0,\"ticks\":\"\"}},\"type\":\"scattergl\"}],\"scattermapbox\":[{\"marker\":{\"colorbar\":{\"outlinewidth\":0,\"ticks\":\"\"}},\"type\":\"scattermapbox\"}],\"scatterpolargl\":[{\"marker\":{\"colorbar\":{\"outlinewidth\":0,\"ticks\":\"\"}},\"type\":\"scatterpolargl\"}],\"scatterpolar\":[{\"marker\":{\"colorbar\":{\"outlinewidth\":0,\"ticks\":\"\"}},\"type\":\"scatterpolar\"}],\"scatter\":[{\"fillpattern\":{\"fillmode\":\"overlay\",\"size\":10,\"solidity\":0.2},\"type\":\"scatter\"}],\"scatterternary\":[{\"marker\":{\"colorbar\":{\"outlinewidth\":0,\"ticks\":\"\"}},\"type\":\"scatterternary\"}],\"surface\":[{\"colorbar\":{\"outlinewidth\":0,\"ticks\":\"\"},\"colorscale\":[[0.0,\"#0d0887\"],[0.1111111111111111,\"#46039f\"],[0.2222222222222222,\"#7201a8\"],[0.3333333333333333,\"#9c179e\"],[0.4444444444444444,\"#bd3786\"],[0.5555555555555556,\"#d8576b\"],[0.6666666666666666,\"#ed7953\"],[0.7777777777777778,\"#fb9f3a\"],[0.8888888888888888,\"#fdca26\"],[1.0,\"#f0f921\"]],\"type\":\"surface\"}],\"table\":[{\"cells\":{\"fill\":{\"color\":\"#EBF0F8\"},\"line\":{\"color\":\"white\"}},\"header\":{\"fill\":{\"color\":\"#C8D4E3\"},\"line\":{\"color\":\"white\"}},\"type\":\"table\"}]},\"layout\":{\"annotationdefaults\":{\"arrowcolor\":\"#2a3f5f\",\"arrowhead\":0,\"arrowwidth\":1},\"autotypenumbers\":\"strict\",\"coloraxis\":{\"colorbar\":{\"outlinewidth\":0,\"ticks\":\"\"}},\"colorscale\":{\"diverging\":[[0,\"#8e0152\"],[0.1,\"#c51b7d\"],[0.2,\"#de77ae\"],[0.3,\"#f1b6da\"],[0.4,\"#fde0ef\"],[0.5,\"#f7f7f7\"],[0.6,\"#e6f5d0\"],[0.7,\"#b8e186\"],[0.8,\"#7fbc41\"],[0.9,\"#4d9221\"],[1,\"#276419\"]],\"sequential\":[[0.0,\"#0d0887\"],[0.1111111111111111,\"#46039f\"],[0.2222222222222222,\"#7201a8\"],[0.3333333333333333,\"#9c179e\"],[0.4444444444444444,\"#bd3786\"],[0.5555555555555556,\"#d8576b\"],[0.6666666666666666,\"#ed7953\"],[0.7777777777777778,\"#fb9f3a\"],[0.8888888888888888,\"#fdca26\"],[1.0,\"#f0f921\"]],\"sequentialminus\":[[0.0,\"#0d0887\"],[0.1111111111111111,\"#46039f\"],[0.2222222222222222,\"#7201a8\"],[0.3333333333333333,\"#9c179e\"],[0.4444444444444444,\"#bd3786\"],[0.5555555555555556,\"#d8576b\"],[0.6666666666666666,\"#ed7953\"],[0.7777777777777778,\"#fb9f3a\"],[0.8888888888888888,\"#fdca26\"],[1.0,\"#f0f921\"]]},\"colorway\":[\"#636efa\",\"#EF553B\",\"#00cc96\",\"#ab63fa\",\"#FFA15A\",\"#19d3f3\",\"#FF6692\",\"#B6E880\",\"#FF97FF\",\"#FECB52\"],\"font\":{\"color\":\"#2a3f5f\"},\"geo\":{\"bgcolor\":\"white\",\"lakecolor\":\"white\",\"landcolor\":\"#E5ECF6\",\"showlakes\":true,\"showland\":true,\"subunitcolor\":\"white\"},\"hoverlabel\":{\"align\":\"left\"},\"hovermode\":\"closest\",\"mapbox\":{\"style\":\"light\"},\"paper_bgcolor\":\"white\",\"plot_bgcolor\":\"#E5ECF6\",\"polar\":{\"angularaxis\":{\"gridcolor\":\"white\",\"linecolor\":\"white\",\"ticks\":\"\"},\"bgcolor\":\"#E5ECF6\",\"radialaxis\":{\"gridcolor\":\"white\",\"linecolor\":\"white\",\"ticks\":\"\"}},\"scene\":{\"xaxis\":{\"backgroundcolor\":\"#E5ECF6\",\"gridcolor\":\"white\",\"gridwidth\":2,\"linecolor\":\"white\",\"showbackground\":true,\"ticks\":\"\",\"zerolinecolor\":\"white\"},\"yaxis\":{\"backgroundcolor\":\"#E5ECF6\",\"gridcolor\":\"white\",\"gridwidth\":2,\"linecolor\":\"white\",\"showbackground\":true,\"ticks\":\"\",\"zerolinecolor\":\"white\"},\"zaxis\":{\"backgroundcolor\":\"#E5ECF6\",\"gridcolor\":\"white\",\"gridwidth\":2,\"linecolor\":\"white\",\"showbackground\":true,\"ticks\":\"\",\"zerolinecolor\":\"white\"}},\"shapedefaults\":{\"line\":{\"color\":\"#2a3f5f\"}},\"ternary\":{\"aaxis\":{\"gridcolor\":\"white\",\"linecolor\":\"white\",\"ticks\":\"\"},\"baxis\":{\"gridcolor\":\"white\",\"linecolor\":\"white\",\"ticks\":\"\"},\"bgcolor\":\"#E5ECF6\",\"caxis\":{\"gridcolor\":\"white\",\"linecolor\":\"white\",\"ticks\":\"\"}},\"title\":{\"x\":0.05},\"xaxis\":{\"automargin\":true,\"gridcolor\":\"white\",\"linecolor\":\"white\",\"ticks\":\"\",\"title\":{\"standoff\":15},\"zerolinecolor\":\"white\",\"zerolinewidth\":2},\"yaxis\":{\"automargin\":true,\"gridcolor\":\"white\",\"linecolor\":\"white\",\"ticks\":\"\",\"title\":{\"standoff\":15},\"zerolinecolor\":\"white\",\"zerolinewidth\":2}}},\"title\":{\"text\":\"GANTT Chart\"},\"xaxis\":{\"range\":[\"1970-01-01T00:00:00\",\"1970-01-01T20:51:06\"],\"title\":{\"font\":{\"color\":\"#7f7f7f\",\"family\":\"Courier New, monospace\",\"size\":18},\"text\":\"Time\"}},\"yaxis\":{\"title\":{\"font\":{\"color\":\"#7f7f7f\",\"family\":\"Courier New, monospace\",\"size\":18},\"text\":\"Activities\"}}},                        {\"responsive\": true}                    ).then(function(){\n",
       "                            \n",
       "var gd = document.getElementById('45353bbb-7812-4c6f-ba88-bedaf23b3aff');\n",
       "var x = new MutationObserver(function (mutations, observer) {{\n",
       "        var display = window.getComputedStyle(gd).display;\n",
       "        if (!display || display === 'none') {{\n",
       "            console.log([gd, 'removed!']);\n",
       "            Plotly.purge(gd);\n",
       "            observer.disconnect();\n",
       "        }}\n",
       "}});\n",
       "\n",
       "// Listen for the removal of the full notebook cells\n",
       "var notebookContainer = gd.closest('#notebook-container');\n",
       "if (notebookContainer) {{\n",
       "    x.observe(notebookContainer, {childList: true});\n",
       "}}\n",
       "\n",
       "// Listen for the clearing of the current output cell\n",
       "var outputEl = gd.closest('.output');\n",
       "if (outputEl) {{\n",
       "    x.observe(outputEl, {childList: true});\n",
       "}}\n",
       "\n",
       "                        })                };                });            </script>        </div>"
      ]
     },
     "metadata": {},
     "output_type": "display_data"
    }
   ],
   "source": [
    "fig = get_gantt_chart(vessels, id_map=activities)"
   ]
  },
  {
   "cell_type": "code",
   "execution_count": 7,
   "id": "b7331bd0",
   "metadata": {},
   "outputs": [
    {
     "data": {
      "text/html": [
       "        <script type=\"text/javascript\">\n",
       "        window.PlotlyConfig = {MathJaxConfig: 'local'};\n",
       "        if (window.MathJax && window.MathJax.Hub && window.MathJax.Hub.Config) {window.MathJax.Hub.Config({SVG: {font: \"STIX-Web\"}});}\n",
       "        if (typeof require !== 'undefined') {\n",
       "        require.undef(\"plotly\");\n",
       "        requirejs.config({\n",
       "            paths: {\n",
       "                'plotly': ['https://cdn.plot.ly/plotly-2.18.2.min']\n",
       "            }\n",
       "        });\n",
       "        require(['plotly'], function(Plotly) {\n",
       "            window._Plotly = Plotly;\n",
       "        });\n",
       "        }\n",
       "        </script>\n",
       "        "
      ]
     },
     "metadata": {},
     "output_type": "display_data"
    },
    {
     "data": {
      "application/vnd.plotly.v1+json": {
       "config": {
        "linkText": "Export to plot.ly",
        "plotlyServerURL": "https://plot.ly",
        "showLink": false
       },
       "data": [
        {
         "connectgaps": false,
         "hoverinfo": "y+name",
         "line": {
          "color": "rgb(48,126,250)",
          "width": 10
         },
         "mode": "lines",
         "name": "loading:Carrier C",
         "type": "scatter",
         "x": [
          "1970-01-01T00:38:12",
          "1970-01-01T00:38:12",
          "1970-01-01T01:11:32",
          "1970-01-01T01:11:32",
          "1970-01-01T01:11:32",
          "1970-01-01T03:06:08",
          "1970-01-01T03:06:08",
          "1970-01-01T03:39:28",
          "1970-01-01T03:39:28",
          "1970-01-01T03:39:28",
          "1970-01-01T05:34:04",
          "1970-01-01T05:34:04",
          "1970-01-01T06:07:24",
          "1970-01-01T06:07:24",
          "1970-01-01T06:07:24",
          "1970-01-01T08:03:42",
          "1970-01-01T08:03:42",
          "1970-01-01T08:37:02",
          "1970-01-01T08:37:02",
          "1970-01-01T08:37:02",
          "1970-01-01T10:48:07",
          "1970-01-01T10:48:07",
          "1970-01-01T11:21:27",
          "1970-01-01T11:21:27",
          "1970-01-01T11:21:27",
          "1970-01-01T13:32:32",
          "1970-01-01T13:32:32",
          "1970-01-01T14:05:52",
          "1970-01-01T14:05:52",
          "1970-01-01T14:05:52",
          "1970-01-01T16:16:57",
          "1970-01-01T16:16:57",
          "1970-01-01T16:50:17",
          "1970-01-01T16:50:17",
          "1970-01-01T16:50:17",
          "1970-01-01T19:01:22",
          "1970-01-01T19:01:22",
          "1970-01-01T19:34:42",
          "1970-01-01T19:34:42",
          "1970-01-01T19:34:42",
          "1970-01-01T00:38:12",
          "1970-01-01T00:38:12",
          "1970-01-01T01:11:32",
          "1970-01-01T01:11:32",
          "1970-01-01T01:11:32",
          "1970-01-01T03:06:08",
          "1970-01-01T03:06:08",
          "1970-01-01T03:39:28",
          "1970-01-01T03:39:28",
          "1970-01-01T03:39:28",
          "1970-01-01T05:34:04",
          "1970-01-01T05:34:04",
          "1970-01-01T06:07:24",
          "1970-01-01T06:07:24",
          "1970-01-01T06:07:24",
          "1970-01-01T08:03:42",
          "1970-01-01T08:03:42",
          "1970-01-01T08:37:02",
          "1970-01-01T08:37:02",
          "1970-01-01T08:37:02",
          "1970-01-01T10:48:07",
          "1970-01-01T10:48:07",
          "1970-01-01T11:21:27",
          "1970-01-01T11:21:27",
          "1970-01-01T11:21:27",
          "1970-01-01T13:32:32",
          "1970-01-01T13:32:32",
          "1970-01-01T14:05:52",
          "1970-01-01T14:05:52",
          "1970-01-01T14:05:52",
          "1970-01-01T16:16:57",
          "1970-01-01T16:16:57",
          "1970-01-01T16:50:17",
          "1970-01-01T16:50:17",
          "1970-01-01T16:50:17",
          "1970-01-01T19:01:22",
          "1970-01-01T19:01:22",
          "1970-01-01T19:34:42",
          "1970-01-01T19:34:42",
          "1970-01-01T19:34:42"
         ],
         "y": [
          "Trench",
          "Trench",
          "Trench",
          "Trench",
          null,
          "Trench",
          "Trench",
          "Trench",
          "Trench",
          null,
          "Trench",
          "Trench",
          "Trench",
          "Trench",
          null,
          "Trench",
          "Trench",
          "Trench",
          "Trench",
          null,
          "Trench",
          "Trench",
          "Trench",
          "Trench",
          null,
          "Trench",
          "Trench",
          "Trench",
          "Trench",
          null,
          "Trench",
          "Trench",
          "Trench",
          "Trench",
          null,
          "Trench",
          "Trench",
          "Trench",
          "Trench",
          null,
          "Cutter T",
          "Cutter T",
          "Cutter T",
          "Cutter T",
          null,
          "Cutter T",
          "Cutter T",
          "Cutter T",
          "Cutter T",
          null,
          "Cutter T",
          "Cutter T",
          "Cutter T",
          "Cutter T",
          null,
          "Cutter T",
          "Cutter T",
          "Cutter T",
          "Cutter T",
          null,
          "Cutter T",
          "Cutter T",
          "Cutter T",
          "Cutter T",
          null,
          "Cutter T",
          "Cutter T",
          "Cutter T",
          "Cutter T",
          null,
          "Cutter T",
          "Cutter T",
          "Cutter T",
          "Cutter T",
          null,
          "Cutter T",
          "Cutter T",
          "Cutter T",
          "Cutter T",
          null
         ]
        },
        {
         "connectgaps": false,
         "hoverinfo": "y+name",
         "line": {
          "color": "rgb(76,154,22)",
          "width": 10
         },
         "mode": "lines",
         "name": "loading:Carrier A",
         "type": "scatter",
         "x": [
          "1970-01-01T01:53:12",
          "1970-01-01T01:53:12",
          "1970-01-01T02:34:52",
          "1970-01-01T02:34:52",
          "1970-01-01T02:34:52",
          "1970-01-01T04:37:37",
          "1970-01-01T04:37:37",
          "1970-01-01T05:19:17",
          "1970-01-01T05:19:17",
          "1970-01-01T05:19:17",
          "1970-01-01T07:22:02",
          "1970-01-01T07:22:02",
          "1970-01-01T08:03:42",
          "1970-01-01T08:03:42",
          "1970-01-01T08:03:42",
          "1970-01-01T10:06:27",
          "1970-01-01T10:06:27",
          "1970-01-01T10:48:07",
          "1970-01-01T10:48:07",
          "1970-01-01T10:48:07",
          "1970-01-01T12:50:52",
          "1970-01-01T12:50:52",
          "1970-01-01T13:32:32",
          "1970-01-01T13:32:32",
          "1970-01-01T13:32:32",
          "1970-01-01T15:35:17",
          "1970-01-01T15:35:17",
          "1970-01-01T16:16:57",
          "1970-01-01T16:16:57",
          "1970-01-01T16:16:57",
          "1970-01-01T18:19:42",
          "1970-01-01T18:19:42",
          "1970-01-01T19:01:22",
          "1970-01-01T19:01:22",
          "1970-01-01T19:01:22",
          "1970-01-01T01:53:12",
          "1970-01-01T01:53:12",
          "1970-01-01T02:34:52",
          "1970-01-01T02:34:52",
          "1970-01-01T02:34:52",
          "1970-01-01T04:37:37",
          "1970-01-01T04:37:37",
          "1970-01-01T05:19:17",
          "1970-01-01T05:19:17",
          "1970-01-01T05:19:17",
          "1970-01-01T07:22:02",
          "1970-01-01T07:22:02",
          "1970-01-01T08:03:42",
          "1970-01-01T08:03:42",
          "1970-01-01T08:03:42",
          "1970-01-01T10:06:27",
          "1970-01-01T10:06:27",
          "1970-01-01T10:48:07",
          "1970-01-01T10:48:07",
          "1970-01-01T10:48:07",
          "1970-01-01T12:50:52",
          "1970-01-01T12:50:52",
          "1970-01-01T13:32:32",
          "1970-01-01T13:32:32",
          "1970-01-01T13:32:32",
          "1970-01-01T15:35:17",
          "1970-01-01T15:35:17",
          "1970-01-01T16:16:57",
          "1970-01-01T16:16:57",
          "1970-01-01T16:16:57",
          "1970-01-01T18:19:42",
          "1970-01-01T18:19:42",
          "1970-01-01T19:01:22",
          "1970-01-01T19:01:22",
          "1970-01-01T19:01:22"
         ],
         "y": [
          "Trench",
          "Trench",
          "Trench",
          "Trench",
          null,
          "Trench",
          "Trench",
          "Trench",
          "Trench",
          null,
          "Trench",
          "Trench",
          "Trench",
          "Trench",
          null,
          "Trench",
          "Trench",
          "Trench",
          "Trench",
          null,
          "Trench",
          "Trench",
          "Trench",
          "Trench",
          null,
          "Trench",
          "Trench",
          "Trench",
          "Trench",
          null,
          "Trench",
          "Trench",
          "Trench",
          "Trench",
          null,
          "Cutter T",
          "Cutter T",
          "Cutter T",
          "Cutter T",
          null,
          "Cutter T",
          "Cutter T",
          "Cutter T",
          "Cutter T",
          null,
          "Cutter T",
          "Cutter T",
          "Cutter T",
          "Cutter T",
          null,
          "Cutter T",
          "Cutter T",
          "Cutter T",
          "Cutter T",
          null,
          "Cutter T",
          "Cutter T",
          "Cutter T",
          "Cutter T",
          null,
          "Cutter T",
          "Cutter T",
          "Cutter T",
          "Cutter T",
          null,
          "Cutter T",
          "Cutter T",
          "Cutter T",
          "Cutter T",
          null
         ]
        },
        {
         "connectgaps": false,
         "hoverinfo": "y+name",
         "line": {
          "color": "rgb(104,182,50)",
          "width": 10
         },
         "mode": "lines",
         "name": "loading:Carrier B",
         "type": "scatter",
         "x": [
          "1970-01-01T01:11:32",
          "1970-01-01T01:11:32",
          "1970-01-01T01:53:12",
          "1970-01-01T01:53:12",
          "1970-01-01T01:53:12",
          "1970-01-01T03:53:21",
          "1970-01-01T03:53:21",
          "1970-01-01T04:35:01",
          "1970-01-01T04:35:01",
          "1970-01-01T04:35:01",
          "1970-01-01T06:35:10",
          "1970-01-01T06:35:10",
          "1970-01-01T07:16:50",
          "1970-01-01T07:16:50",
          "1970-01-01T07:16:50",
          "1970-01-01T09:16:59",
          "1970-01-01T09:16:59",
          "1970-01-01T09:58:39",
          "1970-01-01T09:58:39",
          "1970-01-01T09:58:39",
          "1970-01-01T11:58:48",
          "1970-01-01T11:58:48",
          "1970-01-01T12:40:28",
          "1970-01-01T12:40:28",
          "1970-01-01T12:40:28",
          "1970-01-01T14:40:37",
          "1970-01-01T14:40:37",
          "1970-01-01T15:22:17",
          "1970-01-01T15:22:17",
          "1970-01-01T15:22:17",
          "1970-01-01T17:22:26",
          "1970-01-01T17:22:26",
          "1970-01-01T18:04:06",
          "1970-01-01T18:04:06",
          "1970-01-01T18:04:06",
          "1970-01-01T01:11:32",
          "1970-01-01T01:11:32",
          "1970-01-01T01:53:12",
          "1970-01-01T01:53:12",
          "1970-01-01T01:53:12",
          "1970-01-01T03:53:21",
          "1970-01-01T03:53:21",
          "1970-01-01T04:35:01",
          "1970-01-01T04:35:01",
          "1970-01-01T04:35:01",
          "1970-01-01T06:35:10",
          "1970-01-01T06:35:10",
          "1970-01-01T07:16:50",
          "1970-01-01T07:16:50",
          "1970-01-01T07:16:50",
          "1970-01-01T09:16:59",
          "1970-01-01T09:16:59",
          "1970-01-01T09:58:39",
          "1970-01-01T09:58:39",
          "1970-01-01T09:58:39",
          "1970-01-01T11:58:48",
          "1970-01-01T11:58:48",
          "1970-01-01T12:40:28",
          "1970-01-01T12:40:28",
          "1970-01-01T12:40:28",
          "1970-01-01T14:40:37",
          "1970-01-01T14:40:37",
          "1970-01-01T15:22:17",
          "1970-01-01T15:22:17",
          "1970-01-01T15:22:17",
          "1970-01-01T17:22:26",
          "1970-01-01T17:22:26",
          "1970-01-01T18:04:06",
          "1970-01-01T18:04:06",
          "1970-01-01T18:04:06"
         ],
         "y": [
          "Trench",
          "Trench",
          "Trench",
          "Trench",
          null,
          "Trench",
          "Trench",
          "Trench",
          "Trench",
          null,
          "Trench",
          "Trench",
          "Trench",
          "Trench",
          null,
          "Trench",
          "Trench",
          "Trench",
          "Trench",
          null,
          "Trench",
          "Trench",
          "Trench",
          "Trench",
          null,
          "Trench",
          "Trench",
          "Trench",
          "Trench",
          null,
          "Trench",
          "Trench",
          "Trench",
          "Trench",
          null,
          "Cutter T",
          "Cutter T",
          "Cutter T",
          "Cutter T",
          null,
          "Cutter T",
          "Cutter T",
          "Cutter T",
          "Cutter T",
          null,
          "Cutter T",
          "Cutter T",
          "Cutter T",
          "Cutter T",
          null,
          "Cutter T",
          "Cutter T",
          "Cutter T",
          "Cutter T",
          null,
          "Cutter T",
          "Cutter T",
          "Cutter T",
          "Cutter T",
          null,
          "Cutter T",
          "Cutter T",
          "Cutter T",
          "Cutter T",
          null,
          "Cutter T",
          "Cutter T",
          "Cutter T",
          "Cutter T",
          null
         ]
        },
        {
         "connectgaps": false,
         "hoverinfo": "y+name",
         "line": {
          "color": "rgb(132,210,78)",
          "width": 10
         },
         "mode": "lines",
         "name": "unloading:Carrier A",
         "type": "scatter",
         "x": [
          "1970-01-01T03:15:47",
          "1970-01-01T03:15:47",
          "1970-01-01T03:56:42",
          "1970-01-01T03:56:42",
          "1970-01-01T03:56:42",
          "1970-01-01T06:00:12",
          "1970-01-01T06:00:12",
          "1970-01-01T06:41:07",
          "1970-01-01T06:41:07",
          "1970-01-01T06:41:07",
          "1970-01-01T08:44:37",
          "1970-01-01T08:44:37",
          "1970-01-01T09:25:32",
          "1970-01-01T09:25:32",
          "1970-01-01T09:25:32",
          "1970-01-01T11:29:02",
          "1970-01-01T11:29:02",
          "1970-01-01T12:09:57",
          "1970-01-01T12:09:57",
          "1970-01-01T12:09:57",
          "1970-01-01T14:13:27",
          "1970-01-01T14:13:27",
          "1970-01-01T14:54:22",
          "1970-01-01T14:54:22",
          "1970-01-01T14:54:22",
          "1970-01-01T16:57:52",
          "1970-01-01T16:57:52",
          "1970-01-01T17:38:47",
          "1970-01-01T17:38:47",
          "1970-01-01T17:38:47",
          "1970-01-01T19:42:17",
          "1970-01-01T19:42:17",
          "1970-01-01T20:23:12",
          "1970-01-01T20:23:12",
          "1970-01-01T20:23:12"
         ],
         "y": [
          "Reclamation",
          "Reclamation",
          "Reclamation",
          "Reclamation",
          null,
          "Reclamation",
          "Reclamation",
          "Reclamation",
          "Reclamation",
          null,
          "Reclamation",
          "Reclamation",
          "Reclamation",
          "Reclamation",
          null,
          "Reclamation",
          "Reclamation",
          "Reclamation",
          "Reclamation",
          null,
          "Reclamation",
          "Reclamation",
          "Reclamation",
          "Reclamation",
          null,
          "Reclamation",
          "Reclamation",
          "Reclamation",
          "Reclamation",
          null,
          "Reclamation",
          "Reclamation",
          "Reclamation",
          "Reclamation",
          null
         ]
        },
        {
         "connectgaps": false,
         "hoverinfo": "y+name",
         "line": {
          "color": "rgb(160,238,106)",
          "width": 10
         },
         "mode": "lines",
         "name": "unloading:Carrier C",
         "type": "scatter",
         "x": [
          "1970-01-01T01:49:44",
          "1970-01-01T01:49:44",
          "1970-01-01T02:27:56",
          "1970-01-01T02:27:56",
          "1970-01-01T02:27:56",
          "1970-01-01T04:17:40",
          "1970-01-01T04:17:40",
          "1970-01-01T04:55:52",
          "1970-01-01T04:55:52",
          "1970-01-01T04:55:52",
          "1970-01-01T06:45:36",
          "1970-01-01T06:45:36",
          "1970-01-01T07:23:48",
          "1970-01-01T07:23:48",
          "1970-01-01T07:23:48",
          "1970-01-01T09:15:14",
          "1970-01-01T09:15:14",
          "1970-01-01T09:53:26",
          "1970-01-01T09:53:26",
          "1970-01-01T09:53:26",
          "1970-01-01T11:59:39",
          "1970-01-01T11:59:39",
          "1970-01-01T12:37:51",
          "1970-01-01T12:37:51",
          "1970-01-01T12:37:51",
          "1970-01-01T14:44:04",
          "1970-01-01T14:44:04",
          "1970-01-01T15:22:16",
          "1970-01-01T15:22:16",
          "1970-01-01T15:22:16",
          "1970-01-01T17:28:29",
          "1970-01-01T17:28:29",
          "1970-01-01T18:06:41",
          "1970-01-01T18:06:41",
          "1970-01-01T18:06:41",
          "1970-01-01T20:12:54",
          "1970-01-01T20:12:54",
          "1970-01-01T20:51:06",
          "1970-01-01T20:51:06",
          "1970-01-01T20:51:06"
         ],
         "y": [
          "Reclamation",
          "Reclamation",
          "Reclamation",
          "Reclamation",
          null,
          "Reclamation",
          "Reclamation",
          "Reclamation",
          "Reclamation",
          null,
          "Reclamation",
          "Reclamation",
          "Reclamation",
          "Reclamation",
          null,
          "Reclamation",
          "Reclamation",
          "Reclamation",
          "Reclamation",
          null,
          "Reclamation",
          "Reclamation",
          "Reclamation",
          "Reclamation",
          null,
          "Reclamation",
          "Reclamation",
          "Reclamation",
          "Reclamation",
          null,
          "Reclamation",
          "Reclamation",
          "Reclamation",
          "Reclamation",
          null,
          "Reclamation",
          "Reclamation",
          "Reclamation",
          "Reclamation",
          null
         ]
        },
        {
         "connectgaps": false,
         "hoverinfo": "y+name",
         "line": {
          "color": "rgb(188,10,134)",
          "width": 10
         },
         "mode": "lines",
         "name": "unloading:Carrier B",
         "type": "scatter",
         "x": [
          "1970-01-01T02:33:15",
          "1970-01-01T02:33:15",
          "1970-01-01T03:13:18",
          "1970-01-01T03:13:18",
          "1970-01-01T03:13:18",
          "1970-01-01T05:15:04",
          "1970-01-01T05:15:04",
          "1970-01-01T05:55:07",
          "1970-01-01T05:55:07",
          "1970-01-01T05:55:07",
          "1970-01-01T07:56:53",
          "1970-01-01T07:56:53",
          "1970-01-01T08:36:56",
          "1970-01-01T08:36:56",
          "1970-01-01T08:36:56",
          "1970-01-01T10:38:42",
          "1970-01-01T10:38:42",
          "1970-01-01T11:18:45",
          "1970-01-01T11:18:45",
          "1970-01-01T11:18:45",
          "1970-01-01T13:20:31",
          "1970-01-01T13:20:31",
          "1970-01-01T14:00:34",
          "1970-01-01T14:00:34",
          "1970-01-01T14:00:34",
          "1970-01-01T16:02:20",
          "1970-01-01T16:02:20",
          "1970-01-01T16:42:23",
          "1970-01-01T16:42:23",
          "1970-01-01T16:42:23",
          "1970-01-01T18:44:09",
          "1970-01-01T18:44:09",
          "1970-01-01T19:24:12",
          "1970-01-01T19:24:12",
          "1970-01-01T19:24:12"
         ],
         "y": [
          "Reclamation",
          "Reclamation",
          "Reclamation",
          "Reclamation",
          null,
          "Reclamation",
          "Reclamation",
          "Reclamation",
          "Reclamation",
          null,
          "Reclamation",
          "Reclamation",
          "Reclamation",
          "Reclamation",
          null,
          "Reclamation",
          "Reclamation",
          "Reclamation",
          "Reclamation",
          null,
          "Reclamation",
          "Reclamation",
          "Reclamation",
          "Reclamation",
          null,
          "Reclamation",
          "Reclamation",
          "Reclamation",
          "Reclamation",
          null,
          "Reclamation",
          "Reclamation",
          "Reclamation",
          "Reclamation",
          null
         ]
        },
        {
         "connectgaps": false,
         "hoverinfo": "y+name",
         "line": {
          "color": "rgb(216,38,162)",
          "width": 10
         },
         "mode": "lines",
         "name": "loading:Carrier C",
         "type": "scatter",
         "x": [
          "1970-01-01T00:38:12",
          "1970-01-01T00:38:12",
          "1970-01-01T01:11:32",
          "1970-01-01T01:11:32",
          "1970-01-01T01:11:32",
          "1970-01-01T03:06:08",
          "1970-01-01T03:06:08",
          "1970-01-01T03:39:28",
          "1970-01-01T03:39:28",
          "1970-01-01T03:39:28",
          "1970-01-01T05:34:04",
          "1970-01-01T05:34:04",
          "1970-01-01T06:07:24",
          "1970-01-01T06:07:24",
          "1970-01-01T06:07:24",
          "1970-01-01T08:03:42",
          "1970-01-01T08:03:42",
          "1970-01-01T08:37:02",
          "1970-01-01T08:37:02",
          "1970-01-01T08:37:02",
          "1970-01-01T10:48:07",
          "1970-01-01T10:48:07",
          "1970-01-01T11:21:27",
          "1970-01-01T11:21:27",
          "1970-01-01T11:21:27",
          "1970-01-01T13:32:32",
          "1970-01-01T13:32:32",
          "1970-01-01T14:05:52",
          "1970-01-01T14:05:52",
          "1970-01-01T14:05:52",
          "1970-01-01T16:16:57",
          "1970-01-01T16:16:57",
          "1970-01-01T16:50:17",
          "1970-01-01T16:50:17",
          "1970-01-01T16:50:17",
          "1970-01-01T19:01:22",
          "1970-01-01T19:01:22",
          "1970-01-01T19:34:42",
          "1970-01-01T19:34:42",
          "1970-01-01T19:34:42",
          "1970-01-01T00:38:12",
          "1970-01-01T00:38:12",
          "1970-01-01T01:11:32",
          "1970-01-01T01:11:32",
          "1970-01-01T01:11:32",
          "1970-01-01T03:06:08",
          "1970-01-01T03:06:08",
          "1970-01-01T03:39:28",
          "1970-01-01T03:39:28",
          "1970-01-01T03:39:28",
          "1970-01-01T05:34:04",
          "1970-01-01T05:34:04",
          "1970-01-01T06:07:24",
          "1970-01-01T06:07:24",
          "1970-01-01T06:07:24",
          "1970-01-01T08:03:42",
          "1970-01-01T08:03:42",
          "1970-01-01T08:37:02",
          "1970-01-01T08:37:02",
          "1970-01-01T08:37:02",
          "1970-01-01T10:48:07",
          "1970-01-01T10:48:07",
          "1970-01-01T11:21:27",
          "1970-01-01T11:21:27",
          "1970-01-01T11:21:27",
          "1970-01-01T13:32:32",
          "1970-01-01T13:32:32",
          "1970-01-01T14:05:52",
          "1970-01-01T14:05:52",
          "1970-01-01T14:05:52",
          "1970-01-01T16:16:57",
          "1970-01-01T16:16:57",
          "1970-01-01T16:50:17",
          "1970-01-01T16:50:17",
          "1970-01-01T16:50:17",
          "1970-01-01T19:01:22",
          "1970-01-01T19:01:22",
          "1970-01-01T19:34:42",
          "1970-01-01T19:34:42",
          "1970-01-01T19:34:42"
         ],
         "y": [
          "Trench",
          "Trench",
          "Trench",
          "Trench",
          null,
          "Trench",
          "Trench",
          "Trench",
          "Trench",
          null,
          "Trench",
          "Trench",
          "Trench",
          "Trench",
          null,
          "Trench",
          "Trench",
          "Trench",
          "Trench",
          null,
          "Trench",
          "Trench",
          "Trench",
          "Trench",
          null,
          "Trench",
          "Trench",
          "Trench",
          "Trench",
          null,
          "Trench",
          "Trench",
          "Trench",
          "Trench",
          null,
          "Trench",
          "Trench",
          "Trench",
          "Trench",
          null,
          "Cutter T",
          "Cutter T",
          "Cutter T",
          "Cutter T",
          null,
          "Cutter T",
          "Cutter T",
          "Cutter T",
          "Cutter T",
          null,
          "Cutter T",
          "Cutter T",
          "Cutter T",
          "Cutter T",
          null,
          "Cutter T",
          "Cutter T",
          "Cutter T",
          "Cutter T",
          null,
          "Cutter T",
          "Cutter T",
          "Cutter T",
          "Cutter T",
          null,
          "Cutter T",
          "Cutter T",
          "Cutter T",
          "Cutter T",
          null,
          "Cutter T",
          "Cutter T",
          "Cutter T",
          "Cutter T",
          null,
          "Cutter T",
          "Cutter T",
          "Cutter T",
          "Cutter T",
          null
         ]
        },
        {
         "connectgaps": false,
         "hoverinfo": "y+name",
         "line": {
          "color": "rgb(244,66,190)",
          "width": 10
         },
         "mode": "lines",
         "name": "loading:Carrier A",
         "type": "scatter",
         "x": [
          "1970-01-01T01:53:12",
          "1970-01-01T01:53:12",
          "1970-01-01T02:34:52",
          "1970-01-01T02:34:52",
          "1970-01-01T02:34:52",
          "1970-01-01T04:37:37",
          "1970-01-01T04:37:37",
          "1970-01-01T05:19:17",
          "1970-01-01T05:19:17",
          "1970-01-01T05:19:17",
          "1970-01-01T07:22:02",
          "1970-01-01T07:22:02",
          "1970-01-01T08:03:42",
          "1970-01-01T08:03:42",
          "1970-01-01T08:03:42",
          "1970-01-01T10:06:27",
          "1970-01-01T10:06:27",
          "1970-01-01T10:48:07",
          "1970-01-01T10:48:07",
          "1970-01-01T10:48:07",
          "1970-01-01T12:50:52",
          "1970-01-01T12:50:52",
          "1970-01-01T13:32:32",
          "1970-01-01T13:32:32",
          "1970-01-01T13:32:32",
          "1970-01-01T15:35:17",
          "1970-01-01T15:35:17",
          "1970-01-01T16:16:57",
          "1970-01-01T16:16:57",
          "1970-01-01T16:16:57",
          "1970-01-01T18:19:42",
          "1970-01-01T18:19:42",
          "1970-01-01T19:01:22",
          "1970-01-01T19:01:22",
          "1970-01-01T19:01:22",
          "1970-01-01T01:53:12",
          "1970-01-01T01:53:12",
          "1970-01-01T02:34:52",
          "1970-01-01T02:34:52",
          "1970-01-01T02:34:52",
          "1970-01-01T04:37:37",
          "1970-01-01T04:37:37",
          "1970-01-01T05:19:17",
          "1970-01-01T05:19:17",
          "1970-01-01T05:19:17",
          "1970-01-01T07:22:02",
          "1970-01-01T07:22:02",
          "1970-01-01T08:03:42",
          "1970-01-01T08:03:42",
          "1970-01-01T08:03:42",
          "1970-01-01T10:06:27",
          "1970-01-01T10:06:27",
          "1970-01-01T10:48:07",
          "1970-01-01T10:48:07",
          "1970-01-01T10:48:07",
          "1970-01-01T12:50:52",
          "1970-01-01T12:50:52",
          "1970-01-01T13:32:32",
          "1970-01-01T13:32:32",
          "1970-01-01T13:32:32",
          "1970-01-01T15:35:17",
          "1970-01-01T15:35:17",
          "1970-01-01T16:16:57",
          "1970-01-01T16:16:57",
          "1970-01-01T16:16:57",
          "1970-01-01T18:19:42",
          "1970-01-01T18:19:42",
          "1970-01-01T19:01:22",
          "1970-01-01T19:01:22",
          "1970-01-01T19:01:22"
         ],
         "y": [
          "Trench",
          "Trench",
          "Trench",
          "Trench",
          null,
          "Trench",
          "Trench",
          "Trench",
          "Trench",
          null,
          "Trench",
          "Trench",
          "Trench",
          "Trench",
          null,
          "Trench",
          "Trench",
          "Trench",
          "Trench",
          null,
          "Trench",
          "Trench",
          "Trench",
          "Trench",
          null,
          "Trench",
          "Trench",
          "Trench",
          "Trench",
          null,
          "Trench",
          "Trench",
          "Trench",
          "Trench",
          null,
          "Cutter T",
          "Cutter T",
          "Cutter T",
          "Cutter T",
          null,
          "Cutter T",
          "Cutter T",
          "Cutter T",
          "Cutter T",
          null,
          "Cutter T",
          "Cutter T",
          "Cutter T",
          "Cutter T",
          null,
          "Cutter T",
          "Cutter T",
          "Cutter T",
          "Cutter T",
          null,
          "Cutter T",
          "Cutter T",
          "Cutter T",
          "Cutter T",
          null,
          "Cutter T",
          "Cutter T",
          "Cutter T",
          "Cutter T",
          null,
          "Cutter T",
          "Cutter T",
          "Cutter T",
          "Cutter T",
          null
         ]
        },
        {
         "connectgaps": false,
         "hoverinfo": "y+name",
         "line": {
          "color": "rgb(16,94,218)",
          "width": 10
         },
         "mode": "lines",
         "name": "loading:Carrier B",
         "type": "scatter",
         "x": [
          "1970-01-01T01:11:32",
          "1970-01-01T01:11:32",
          "1970-01-01T01:53:12",
          "1970-01-01T01:53:12",
          "1970-01-01T01:53:12",
          "1970-01-01T03:53:21",
          "1970-01-01T03:53:21",
          "1970-01-01T04:35:01",
          "1970-01-01T04:35:01",
          "1970-01-01T04:35:01",
          "1970-01-01T06:35:10",
          "1970-01-01T06:35:10",
          "1970-01-01T07:16:50",
          "1970-01-01T07:16:50",
          "1970-01-01T07:16:50",
          "1970-01-01T09:16:59",
          "1970-01-01T09:16:59",
          "1970-01-01T09:58:39",
          "1970-01-01T09:58:39",
          "1970-01-01T09:58:39",
          "1970-01-01T11:58:48",
          "1970-01-01T11:58:48",
          "1970-01-01T12:40:28",
          "1970-01-01T12:40:28",
          "1970-01-01T12:40:28",
          "1970-01-01T14:40:37",
          "1970-01-01T14:40:37",
          "1970-01-01T15:22:17",
          "1970-01-01T15:22:17",
          "1970-01-01T15:22:17",
          "1970-01-01T17:22:26",
          "1970-01-01T17:22:26",
          "1970-01-01T18:04:06",
          "1970-01-01T18:04:06",
          "1970-01-01T18:04:06",
          "1970-01-01T01:11:32",
          "1970-01-01T01:11:32",
          "1970-01-01T01:53:12",
          "1970-01-01T01:53:12",
          "1970-01-01T01:53:12",
          "1970-01-01T03:53:21",
          "1970-01-01T03:53:21",
          "1970-01-01T04:35:01",
          "1970-01-01T04:35:01",
          "1970-01-01T04:35:01",
          "1970-01-01T06:35:10",
          "1970-01-01T06:35:10",
          "1970-01-01T07:16:50",
          "1970-01-01T07:16:50",
          "1970-01-01T07:16:50",
          "1970-01-01T09:16:59",
          "1970-01-01T09:16:59",
          "1970-01-01T09:58:39",
          "1970-01-01T09:58:39",
          "1970-01-01T09:58:39",
          "1970-01-01T11:58:48",
          "1970-01-01T11:58:48",
          "1970-01-01T12:40:28",
          "1970-01-01T12:40:28",
          "1970-01-01T12:40:28",
          "1970-01-01T14:40:37",
          "1970-01-01T14:40:37",
          "1970-01-01T15:22:17",
          "1970-01-01T15:22:17",
          "1970-01-01T15:22:17",
          "1970-01-01T17:22:26",
          "1970-01-01T17:22:26",
          "1970-01-01T18:04:06",
          "1970-01-01T18:04:06",
          "1970-01-01T18:04:06"
         ],
         "y": [
          "Trench",
          "Trench",
          "Trench",
          "Trench",
          null,
          "Trench",
          "Trench",
          "Trench",
          "Trench",
          null,
          "Trench",
          "Trench",
          "Trench",
          "Trench",
          null,
          "Trench",
          "Trench",
          "Trench",
          "Trench",
          null,
          "Trench",
          "Trench",
          "Trench",
          "Trench",
          null,
          "Trench",
          "Trench",
          "Trench",
          "Trench",
          null,
          "Trench",
          "Trench",
          "Trench",
          "Trench",
          null,
          "Cutter T",
          "Cutter T",
          "Cutter T",
          "Cutter T",
          null,
          "Cutter T",
          "Cutter T",
          "Cutter T",
          "Cutter T",
          null,
          "Cutter T",
          "Cutter T",
          "Cutter T",
          "Cutter T",
          null,
          "Cutter T",
          "Cutter T",
          "Cutter T",
          "Cutter T",
          null,
          "Cutter T",
          "Cutter T",
          "Cutter T",
          "Cutter T",
          null,
          "Cutter T",
          "Cutter T",
          "Cutter T",
          "Cutter T",
          null,
          "Cutter T",
          "Cutter T",
          "Cutter T",
          "Cutter T",
          null
         ]
        }
       ],
       "layout": {
        "hovermode": "closest",
        "legend": {
         "orientation": "h",
         "x": 0,
         "y": -0.2
        },
        "template": {
         "data": {
          "bar": [
           {
            "error_x": {
             "color": "#2a3f5f"
            },
            "error_y": {
             "color": "#2a3f5f"
            },
            "marker": {
             "line": {
              "color": "#E5ECF6",
              "width": 0.5
             },
             "pattern": {
              "fillmode": "overlay",
              "size": 10,
              "solidity": 0.2
             }
            },
            "type": "bar"
           }
          ],
          "barpolar": [
           {
            "marker": {
             "line": {
              "color": "#E5ECF6",
              "width": 0.5
             },
             "pattern": {
              "fillmode": "overlay",
              "size": 10,
              "solidity": 0.2
             }
            },
            "type": "barpolar"
           }
          ],
          "carpet": [
           {
            "aaxis": {
             "endlinecolor": "#2a3f5f",
             "gridcolor": "white",
             "linecolor": "white",
             "minorgridcolor": "white",
             "startlinecolor": "#2a3f5f"
            },
            "baxis": {
             "endlinecolor": "#2a3f5f",
             "gridcolor": "white",
             "linecolor": "white",
             "minorgridcolor": "white",
             "startlinecolor": "#2a3f5f"
            },
            "type": "carpet"
           }
          ],
          "choropleth": [
           {
            "colorbar": {
             "outlinewidth": 0,
             "ticks": ""
            },
            "type": "choropleth"
           }
          ],
          "contour": [
           {
            "colorbar": {
             "outlinewidth": 0,
             "ticks": ""
            },
            "colorscale": [
             [
              0,
              "#0d0887"
             ],
             [
              0.1111111111111111,
              "#46039f"
             ],
             [
              0.2222222222222222,
              "#7201a8"
             ],
             [
              0.3333333333333333,
              "#9c179e"
             ],
             [
              0.4444444444444444,
              "#bd3786"
             ],
             [
              0.5555555555555556,
              "#d8576b"
             ],
             [
              0.6666666666666666,
              "#ed7953"
             ],
             [
              0.7777777777777778,
              "#fb9f3a"
             ],
             [
              0.8888888888888888,
              "#fdca26"
             ],
             [
              1,
              "#f0f921"
             ]
            ],
            "type": "contour"
           }
          ],
          "contourcarpet": [
           {
            "colorbar": {
             "outlinewidth": 0,
             "ticks": ""
            },
            "type": "contourcarpet"
           }
          ],
          "heatmap": [
           {
            "colorbar": {
             "outlinewidth": 0,
             "ticks": ""
            },
            "colorscale": [
             [
              0,
              "#0d0887"
             ],
             [
              0.1111111111111111,
              "#46039f"
             ],
             [
              0.2222222222222222,
              "#7201a8"
             ],
             [
              0.3333333333333333,
              "#9c179e"
             ],
             [
              0.4444444444444444,
              "#bd3786"
             ],
             [
              0.5555555555555556,
              "#d8576b"
             ],
             [
              0.6666666666666666,
              "#ed7953"
             ],
             [
              0.7777777777777778,
              "#fb9f3a"
             ],
             [
              0.8888888888888888,
              "#fdca26"
             ],
             [
              1,
              "#f0f921"
             ]
            ],
            "type": "heatmap"
           }
          ],
          "heatmapgl": [
           {
            "colorbar": {
             "outlinewidth": 0,
             "ticks": ""
            },
            "colorscale": [
             [
              0,
              "#0d0887"
             ],
             [
              0.1111111111111111,
              "#46039f"
             ],
             [
              0.2222222222222222,
              "#7201a8"
             ],
             [
              0.3333333333333333,
              "#9c179e"
             ],
             [
              0.4444444444444444,
              "#bd3786"
             ],
             [
              0.5555555555555556,
              "#d8576b"
             ],
             [
              0.6666666666666666,
              "#ed7953"
             ],
             [
              0.7777777777777778,
              "#fb9f3a"
             ],
             [
              0.8888888888888888,
              "#fdca26"
             ],
             [
              1,
              "#f0f921"
             ]
            ],
            "type": "heatmapgl"
           }
          ],
          "histogram": [
           {
            "marker": {
             "pattern": {
              "fillmode": "overlay",
              "size": 10,
              "solidity": 0.2
             }
            },
            "type": "histogram"
           }
          ],
          "histogram2d": [
           {
            "colorbar": {
             "outlinewidth": 0,
             "ticks": ""
            },
            "colorscale": [
             [
              0,
              "#0d0887"
             ],
             [
              0.1111111111111111,
              "#46039f"
             ],
             [
              0.2222222222222222,
              "#7201a8"
             ],
             [
              0.3333333333333333,
              "#9c179e"
             ],
             [
              0.4444444444444444,
              "#bd3786"
             ],
             [
              0.5555555555555556,
              "#d8576b"
             ],
             [
              0.6666666666666666,
              "#ed7953"
             ],
             [
              0.7777777777777778,
              "#fb9f3a"
             ],
             [
              0.8888888888888888,
              "#fdca26"
             ],
             [
              1,
              "#f0f921"
             ]
            ],
            "type": "histogram2d"
           }
          ],
          "histogram2dcontour": [
           {
            "colorbar": {
             "outlinewidth": 0,
             "ticks": ""
            },
            "colorscale": [
             [
              0,
              "#0d0887"
             ],
             [
              0.1111111111111111,
              "#46039f"
             ],
             [
              0.2222222222222222,
              "#7201a8"
             ],
             [
              0.3333333333333333,
              "#9c179e"
             ],
             [
              0.4444444444444444,
              "#bd3786"
             ],
             [
              0.5555555555555556,
              "#d8576b"
             ],
             [
              0.6666666666666666,
              "#ed7953"
             ],
             [
              0.7777777777777778,
              "#fb9f3a"
             ],
             [
              0.8888888888888888,
              "#fdca26"
             ],
             [
              1,
              "#f0f921"
             ]
            ],
            "type": "histogram2dcontour"
           }
          ],
          "mesh3d": [
           {
            "colorbar": {
             "outlinewidth": 0,
             "ticks": ""
            },
            "type": "mesh3d"
           }
          ],
          "parcoords": [
           {
            "line": {
             "colorbar": {
              "outlinewidth": 0,
              "ticks": ""
             }
            },
            "type": "parcoords"
           }
          ],
          "pie": [
           {
            "automargin": true,
            "type": "pie"
           }
          ],
          "scatter": [
           {
            "fillpattern": {
             "fillmode": "overlay",
             "size": 10,
             "solidity": 0.2
            },
            "type": "scatter"
           }
          ],
          "scatter3d": [
           {
            "line": {
             "colorbar": {
              "outlinewidth": 0,
              "ticks": ""
             }
            },
            "marker": {
             "colorbar": {
              "outlinewidth": 0,
              "ticks": ""
             }
            },
            "type": "scatter3d"
           }
          ],
          "scattercarpet": [
           {
            "marker": {
             "colorbar": {
              "outlinewidth": 0,
              "ticks": ""
             }
            },
            "type": "scattercarpet"
           }
          ],
          "scattergeo": [
           {
            "marker": {
             "colorbar": {
              "outlinewidth": 0,
              "ticks": ""
             }
            },
            "type": "scattergeo"
           }
          ],
          "scattergl": [
           {
            "marker": {
             "colorbar": {
              "outlinewidth": 0,
              "ticks": ""
             }
            },
            "type": "scattergl"
           }
          ],
          "scattermapbox": [
           {
            "marker": {
             "colorbar": {
              "outlinewidth": 0,
              "ticks": ""
             }
            },
            "type": "scattermapbox"
           }
          ],
          "scatterpolar": [
           {
            "marker": {
             "colorbar": {
              "outlinewidth": 0,
              "ticks": ""
             }
            },
            "type": "scatterpolar"
           }
          ],
          "scatterpolargl": [
           {
            "marker": {
             "colorbar": {
              "outlinewidth": 0,
              "ticks": ""
             }
            },
            "type": "scatterpolargl"
           }
          ],
          "scatterternary": [
           {
            "marker": {
             "colorbar": {
              "outlinewidth": 0,
              "ticks": ""
             }
            },
            "type": "scatterternary"
           }
          ],
          "surface": [
           {
            "colorbar": {
             "outlinewidth": 0,
             "ticks": ""
            },
            "colorscale": [
             [
              0,
              "#0d0887"
             ],
             [
              0.1111111111111111,
              "#46039f"
             ],
             [
              0.2222222222222222,
              "#7201a8"
             ],
             [
              0.3333333333333333,
              "#9c179e"
             ],
             [
              0.4444444444444444,
              "#bd3786"
             ],
             [
              0.5555555555555556,
              "#d8576b"
             ],
             [
              0.6666666666666666,
              "#ed7953"
             ],
             [
              0.7777777777777778,
              "#fb9f3a"
             ],
             [
              0.8888888888888888,
              "#fdca26"
             ],
             [
              1,
              "#f0f921"
             ]
            ],
            "type": "surface"
           }
          ],
          "table": [
           {
            "cells": {
             "fill": {
              "color": "#EBF0F8"
             },
             "line": {
              "color": "white"
             }
            },
            "header": {
             "fill": {
              "color": "#C8D4E3"
             },
             "line": {
              "color": "white"
             }
            },
            "type": "table"
           }
          ]
         },
         "layout": {
          "annotationdefaults": {
           "arrowcolor": "#2a3f5f",
           "arrowhead": 0,
           "arrowwidth": 1
          },
          "autotypenumbers": "strict",
          "coloraxis": {
           "colorbar": {
            "outlinewidth": 0,
            "ticks": ""
           }
          },
          "colorscale": {
           "diverging": [
            [
             0,
             "#8e0152"
            ],
            [
             0.1,
             "#c51b7d"
            ],
            [
             0.2,
             "#de77ae"
            ],
            [
             0.3,
             "#f1b6da"
            ],
            [
             0.4,
             "#fde0ef"
            ],
            [
             0.5,
             "#f7f7f7"
            ],
            [
             0.6,
             "#e6f5d0"
            ],
            [
             0.7,
             "#b8e186"
            ],
            [
             0.8,
             "#7fbc41"
            ],
            [
             0.9,
             "#4d9221"
            ],
            [
             1,
             "#276419"
            ]
           ],
           "sequential": [
            [
             0,
             "#0d0887"
            ],
            [
             0.1111111111111111,
             "#46039f"
            ],
            [
             0.2222222222222222,
             "#7201a8"
            ],
            [
             0.3333333333333333,
             "#9c179e"
            ],
            [
             0.4444444444444444,
             "#bd3786"
            ],
            [
             0.5555555555555556,
             "#d8576b"
            ],
            [
             0.6666666666666666,
             "#ed7953"
            ],
            [
             0.7777777777777778,
             "#fb9f3a"
            ],
            [
             0.8888888888888888,
             "#fdca26"
            ],
            [
             1,
             "#f0f921"
            ]
           ],
           "sequentialminus": [
            [
             0,
             "#0d0887"
            ],
            [
             0.1111111111111111,
             "#46039f"
            ],
            [
             0.2222222222222222,
             "#7201a8"
            ],
            [
             0.3333333333333333,
             "#9c179e"
            ],
            [
             0.4444444444444444,
             "#bd3786"
            ],
            [
             0.5555555555555556,
             "#d8576b"
            ],
            [
             0.6666666666666666,
             "#ed7953"
            ],
            [
             0.7777777777777778,
             "#fb9f3a"
            ],
            [
             0.8888888888888888,
             "#fdca26"
            ],
            [
             1,
             "#f0f921"
            ]
           ]
          },
          "colorway": [
           "#636efa",
           "#EF553B",
           "#00cc96",
           "#ab63fa",
           "#FFA15A",
           "#19d3f3",
           "#FF6692",
           "#B6E880",
           "#FF97FF",
           "#FECB52"
          ],
          "font": {
           "color": "#2a3f5f"
          },
          "geo": {
           "bgcolor": "white",
           "lakecolor": "white",
           "landcolor": "#E5ECF6",
           "showlakes": true,
           "showland": true,
           "subunitcolor": "white"
          },
          "hoverlabel": {
           "align": "left"
          },
          "hovermode": "closest",
          "mapbox": {
           "style": "light"
          },
          "paper_bgcolor": "white",
          "plot_bgcolor": "#E5ECF6",
          "polar": {
           "angularaxis": {
            "gridcolor": "white",
            "linecolor": "white",
            "ticks": ""
           },
           "bgcolor": "#E5ECF6",
           "radialaxis": {
            "gridcolor": "white",
            "linecolor": "white",
            "ticks": ""
           }
          },
          "scene": {
           "xaxis": {
            "backgroundcolor": "#E5ECF6",
            "gridcolor": "white",
            "gridwidth": 2,
            "linecolor": "white",
            "showbackground": true,
            "ticks": "",
            "zerolinecolor": "white"
           },
           "yaxis": {
            "backgroundcolor": "#E5ECF6",
            "gridcolor": "white",
            "gridwidth": 2,
            "linecolor": "white",
            "showbackground": true,
            "ticks": "",
            "zerolinecolor": "white"
           },
           "zaxis": {
            "backgroundcolor": "#E5ECF6",
            "gridcolor": "white",
            "gridwidth": 2,
            "linecolor": "white",
            "showbackground": true,
            "ticks": "",
            "zerolinecolor": "white"
           }
          },
          "shapedefaults": {
           "line": {
            "color": "#2a3f5f"
           }
          },
          "ternary": {
           "aaxis": {
            "gridcolor": "white",
            "linecolor": "white",
            "ticks": ""
           },
           "baxis": {
            "gridcolor": "white",
            "linecolor": "white",
            "ticks": ""
           },
           "bgcolor": "#E5ECF6",
           "caxis": {
            "gridcolor": "white",
            "linecolor": "white",
            "ticks": ""
           }
          },
          "title": {
           "x": 0.05
          },
          "xaxis": {
           "automargin": true,
           "gridcolor": "white",
           "linecolor": "white",
           "ticks": "",
           "title": {
            "standoff": 15
           },
           "zerolinecolor": "white",
           "zerolinewidth": 2
          },
          "yaxis": {
           "automargin": true,
           "gridcolor": "white",
           "linecolor": "white",
           "ticks": "",
           "title": {
            "standoff": 15
           },
           "zerolinecolor": "white",
           "zerolinewidth": 2
          }
         }
        },
        "title": {
         "text": "GANTT Chart"
        },
        "xaxis": {
         "range": [
          "1970-01-01T00:38:12",
          "1970-01-01T20:51:06"
         ],
         "title": {
          "font": {
           "color": "#7f7f7f",
           "family": "Courier New, monospace",
           "size": 18
          },
          "text": "Time"
         }
        },
        "yaxis": {
         "title": {
          "font": {
           "color": "#7f7f7f",
           "family": "Courier New, monospace",
           "size": 18
          },
          "text": "Activities"
         }
        }
       }
      },
      "text/html": [
       "<div>                            <div id=\"518fff43-89ff-480d-8284-6a042827223c\" class=\"plotly-graph-div\" style=\"height:525px; width:100%;\"></div>            <script type=\"text/javascript\">                require([\"plotly\"], function(Plotly) {                    window.PLOTLYENV=window.PLOTLYENV || {};                                    if (document.getElementById(\"518fff43-89ff-480d-8284-6a042827223c\")) {                    Plotly.newPlot(                        \"518fff43-89ff-480d-8284-6a042827223c\",                        [{\"connectgaps\":false,\"hoverinfo\":\"y+name\",\"line\":{\"color\":\"rgb(48,126,250)\",\"width\":10},\"mode\":\"lines\",\"name\":\"loading:Carrier C\",\"x\":[\"1970-01-01T00:38:12\",\"1970-01-01T00:38:12\",\"1970-01-01T01:11:32\",\"1970-01-01T01:11:32\",\"1970-01-01T01:11:32\",\"1970-01-01T03:06:08\",\"1970-01-01T03:06:08\",\"1970-01-01T03:39:28\",\"1970-01-01T03:39:28\",\"1970-01-01T03:39:28\",\"1970-01-01T05:34:04\",\"1970-01-01T05:34:04\",\"1970-01-01T06:07:24\",\"1970-01-01T06:07:24\",\"1970-01-01T06:07:24\",\"1970-01-01T08:03:42\",\"1970-01-01T08:03:42\",\"1970-01-01T08:37:02\",\"1970-01-01T08:37:02\",\"1970-01-01T08:37:02\",\"1970-01-01T10:48:07\",\"1970-01-01T10:48:07\",\"1970-01-01T11:21:27\",\"1970-01-01T11:21:27\",\"1970-01-01T11:21:27\",\"1970-01-01T13:32:32\",\"1970-01-01T13:32:32\",\"1970-01-01T14:05:52\",\"1970-01-01T14:05:52\",\"1970-01-01T14:05:52\",\"1970-01-01T16:16:57\",\"1970-01-01T16:16:57\",\"1970-01-01T16:50:17\",\"1970-01-01T16:50:17\",\"1970-01-01T16:50:17\",\"1970-01-01T19:01:22\",\"1970-01-01T19:01:22\",\"1970-01-01T19:34:42\",\"1970-01-01T19:34:42\",\"1970-01-01T19:34:42\",\"1970-01-01T00:38:12\",\"1970-01-01T00:38:12\",\"1970-01-01T01:11:32\",\"1970-01-01T01:11:32\",\"1970-01-01T01:11:32\",\"1970-01-01T03:06:08\",\"1970-01-01T03:06:08\",\"1970-01-01T03:39:28\",\"1970-01-01T03:39:28\",\"1970-01-01T03:39:28\",\"1970-01-01T05:34:04\",\"1970-01-01T05:34:04\",\"1970-01-01T06:07:24\",\"1970-01-01T06:07:24\",\"1970-01-01T06:07:24\",\"1970-01-01T08:03:42\",\"1970-01-01T08:03:42\",\"1970-01-01T08:37:02\",\"1970-01-01T08:37:02\",\"1970-01-01T08:37:02\",\"1970-01-01T10:48:07\",\"1970-01-01T10:48:07\",\"1970-01-01T11:21:27\",\"1970-01-01T11:21:27\",\"1970-01-01T11:21:27\",\"1970-01-01T13:32:32\",\"1970-01-01T13:32:32\",\"1970-01-01T14:05:52\",\"1970-01-01T14:05:52\",\"1970-01-01T14:05:52\",\"1970-01-01T16:16:57\",\"1970-01-01T16:16:57\",\"1970-01-01T16:50:17\",\"1970-01-01T16:50:17\",\"1970-01-01T16:50:17\",\"1970-01-01T19:01:22\",\"1970-01-01T19:01:22\",\"1970-01-01T19:34:42\",\"1970-01-01T19:34:42\",\"1970-01-01T19:34:42\"],\"y\":[\"Trench\",\"Trench\",\"Trench\",\"Trench\",null,\"Trench\",\"Trench\",\"Trench\",\"Trench\",null,\"Trench\",\"Trench\",\"Trench\",\"Trench\",null,\"Trench\",\"Trench\",\"Trench\",\"Trench\",null,\"Trench\",\"Trench\",\"Trench\",\"Trench\",null,\"Trench\",\"Trench\",\"Trench\",\"Trench\",null,\"Trench\",\"Trench\",\"Trench\",\"Trench\",null,\"Trench\",\"Trench\",\"Trench\",\"Trench\",null,\"Cutter T\",\"Cutter T\",\"Cutter T\",\"Cutter T\",null,\"Cutter T\",\"Cutter T\",\"Cutter T\",\"Cutter T\",null,\"Cutter T\",\"Cutter T\",\"Cutter T\",\"Cutter T\",null,\"Cutter T\",\"Cutter T\",\"Cutter T\",\"Cutter T\",null,\"Cutter T\",\"Cutter T\",\"Cutter T\",\"Cutter T\",null,\"Cutter T\",\"Cutter T\",\"Cutter T\",\"Cutter T\",null,\"Cutter T\",\"Cutter T\",\"Cutter T\",\"Cutter T\",null,\"Cutter T\",\"Cutter T\",\"Cutter T\",\"Cutter T\",null],\"type\":\"scatter\"},{\"connectgaps\":false,\"hoverinfo\":\"y+name\",\"line\":{\"color\":\"rgb(76,154,22)\",\"width\":10},\"mode\":\"lines\",\"name\":\"loading:Carrier A\",\"x\":[\"1970-01-01T01:53:12\",\"1970-01-01T01:53:12\",\"1970-01-01T02:34:52\",\"1970-01-01T02:34:52\",\"1970-01-01T02:34:52\",\"1970-01-01T04:37:37\",\"1970-01-01T04:37:37\",\"1970-01-01T05:19:17\",\"1970-01-01T05:19:17\",\"1970-01-01T05:19:17\",\"1970-01-01T07:22:02\",\"1970-01-01T07:22:02\",\"1970-01-01T08:03:42\",\"1970-01-01T08:03:42\",\"1970-01-01T08:03:42\",\"1970-01-01T10:06:27\",\"1970-01-01T10:06:27\",\"1970-01-01T10:48:07\",\"1970-01-01T10:48:07\",\"1970-01-01T10:48:07\",\"1970-01-01T12:50:52\",\"1970-01-01T12:50:52\",\"1970-01-01T13:32:32\",\"1970-01-01T13:32:32\",\"1970-01-01T13:32:32\",\"1970-01-01T15:35:17\",\"1970-01-01T15:35:17\",\"1970-01-01T16:16:57\",\"1970-01-01T16:16:57\",\"1970-01-01T16:16:57\",\"1970-01-01T18:19:42\",\"1970-01-01T18:19:42\",\"1970-01-01T19:01:22\",\"1970-01-01T19:01:22\",\"1970-01-01T19:01:22\",\"1970-01-01T01:53:12\",\"1970-01-01T01:53:12\",\"1970-01-01T02:34:52\",\"1970-01-01T02:34:52\",\"1970-01-01T02:34:52\",\"1970-01-01T04:37:37\",\"1970-01-01T04:37:37\",\"1970-01-01T05:19:17\",\"1970-01-01T05:19:17\",\"1970-01-01T05:19:17\",\"1970-01-01T07:22:02\",\"1970-01-01T07:22:02\",\"1970-01-01T08:03:42\",\"1970-01-01T08:03:42\",\"1970-01-01T08:03:42\",\"1970-01-01T10:06:27\",\"1970-01-01T10:06:27\",\"1970-01-01T10:48:07\",\"1970-01-01T10:48:07\",\"1970-01-01T10:48:07\",\"1970-01-01T12:50:52\",\"1970-01-01T12:50:52\",\"1970-01-01T13:32:32\",\"1970-01-01T13:32:32\",\"1970-01-01T13:32:32\",\"1970-01-01T15:35:17\",\"1970-01-01T15:35:17\",\"1970-01-01T16:16:57\",\"1970-01-01T16:16:57\",\"1970-01-01T16:16:57\",\"1970-01-01T18:19:42\",\"1970-01-01T18:19:42\",\"1970-01-01T19:01:22\",\"1970-01-01T19:01:22\",\"1970-01-01T19:01:22\"],\"y\":[\"Trench\",\"Trench\",\"Trench\",\"Trench\",null,\"Trench\",\"Trench\",\"Trench\",\"Trench\",null,\"Trench\",\"Trench\",\"Trench\",\"Trench\",null,\"Trench\",\"Trench\",\"Trench\",\"Trench\",null,\"Trench\",\"Trench\",\"Trench\",\"Trench\",null,\"Trench\",\"Trench\",\"Trench\",\"Trench\",null,\"Trench\",\"Trench\",\"Trench\",\"Trench\",null,\"Cutter T\",\"Cutter T\",\"Cutter T\",\"Cutter T\",null,\"Cutter T\",\"Cutter T\",\"Cutter T\",\"Cutter T\",null,\"Cutter T\",\"Cutter T\",\"Cutter T\",\"Cutter T\",null,\"Cutter T\",\"Cutter T\",\"Cutter T\",\"Cutter T\",null,\"Cutter T\",\"Cutter T\",\"Cutter T\",\"Cutter T\",null,\"Cutter T\",\"Cutter T\",\"Cutter T\",\"Cutter T\",null,\"Cutter T\",\"Cutter T\",\"Cutter T\",\"Cutter T\",null],\"type\":\"scatter\"},{\"connectgaps\":false,\"hoverinfo\":\"y+name\",\"line\":{\"color\":\"rgb(104,182,50)\",\"width\":10},\"mode\":\"lines\",\"name\":\"loading:Carrier B\",\"x\":[\"1970-01-01T01:11:32\",\"1970-01-01T01:11:32\",\"1970-01-01T01:53:12\",\"1970-01-01T01:53:12\",\"1970-01-01T01:53:12\",\"1970-01-01T03:53:21\",\"1970-01-01T03:53:21\",\"1970-01-01T04:35:01\",\"1970-01-01T04:35:01\",\"1970-01-01T04:35:01\",\"1970-01-01T06:35:10\",\"1970-01-01T06:35:10\",\"1970-01-01T07:16:50\",\"1970-01-01T07:16:50\",\"1970-01-01T07:16:50\",\"1970-01-01T09:16:59\",\"1970-01-01T09:16:59\",\"1970-01-01T09:58:39\",\"1970-01-01T09:58:39\",\"1970-01-01T09:58:39\",\"1970-01-01T11:58:48\",\"1970-01-01T11:58:48\",\"1970-01-01T12:40:28\",\"1970-01-01T12:40:28\",\"1970-01-01T12:40:28\",\"1970-01-01T14:40:37\",\"1970-01-01T14:40:37\",\"1970-01-01T15:22:17\",\"1970-01-01T15:22:17\",\"1970-01-01T15:22:17\",\"1970-01-01T17:22:26\",\"1970-01-01T17:22:26\",\"1970-01-01T18:04:06\",\"1970-01-01T18:04:06\",\"1970-01-01T18:04:06\",\"1970-01-01T01:11:32\",\"1970-01-01T01:11:32\",\"1970-01-01T01:53:12\",\"1970-01-01T01:53:12\",\"1970-01-01T01:53:12\",\"1970-01-01T03:53:21\",\"1970-01-01T03:53:21\",\"1970-01-01T04:35:01\",\"1970-01-01T04:35:01\",\"1970-01-01T04:35:01\",\"1970-01-01T06:35:10\",\"1970-01-01T06:35:10\",\"1970-01-01T07:16:50\",\"1970-01-01T07:16:50\",\"1970-01-01T07:16:50\",\"1970-01-01T09:16:59\",\"1970-01-01T09:16:59\",\"1970-01-01T09:58:39\",\"1970-01-01T09:58:39\",\"1970-01-01T09:58:39\",\"1970-01-01T11:58:48\",\"1970-01-01T11:58:48\",\"1970-01-01T12:40:28\",\"1970-01-01T12:40:28\",\"1970-01-01T12:40:28\",\"1970-01-01T14:40:37\",\"1970-01-01T14:40:37\",\"1970-01-01T15:22:17\",\"1970-01-01T15:22:17\",\"1970-01-01T15:22:17\",\"1970-01-01T17:22:26\",\"1970-01-01T17:22:26\",\"1970-01-01T18:04:06\",\"1970-01-01T18:04:06\",\"1970-01-01T18:04:06\"],\"y\":[\"Trench\",\"Trench\",\"Trench\",\"Trench\",null,\"Trench\",\"Trench\",\"Trench\",\"Trench\",null,\"Trench\",\"Trench\",\"Trench\",\"Trench\",null,\"Trench\",\"Trench\",\"Trench\",\"Trench\",null,\"Trench\",\"Trench\",\"Trench\",\"Trench\",null,\"Trench\",\"Trench\",\"Trench\",\"Trench\",null,\"Trench\",\"Trench\",\"Trench\",\"Trench\",null,\"Cutter T\",\"Cutter T\",\"Cutter T\",\"Cutter T\",null,\"Cutter T\",\"Cutter T\",\"Cutter T\",\"Cutter T\",null,\"Cutter T\",\"Cutter T\",\"Cutter T\",\"Cutter T\",null,\"Cutter T\",\"Cutter T\",\"Cutter T\",\"Cutter T\",null,\"Cutter T\",\"Cutter T\",\"Cutter T\",\"Cutter T\",null,\"Cutter T\",\"Cutter T\",\"Cutter T\",\"Cutter T\",null,\"Cutter T\",\"Cutter T\",\"Cutter T\",\"Cutter T\",null],\"type\":\"scatter\"},{\"connectgaps\":false,\"hoverinfo\":\"y+name\",\"line\":{\"color\":\"rgb(132,210,78)\",\"width\":10},\"mode\":\"lines\",\"name\":\"unloading:Carrier A\",\"x\":[\"1970-01-01T03:15:47\",\"1970-01-01T03:15:47\",\"1970-01-01T03:56:42\",\"1970-01-01T03:56:42\",\"1970-01-01T03:56:42\",\"1970-01-01T06:00:12\",\"1970-01-01T06:00:12\",\"1970-01-01T06:41:07\",\"1970-01-01T06:41:07\",\"1970-01-01T06:41:07\",\"1970-01-01T08:44:37\",\"1970-01-01T08:44:37\",\"1970-01-01T09:25:32\",\"1970-01-01T09:25:32\",\"1970-01-01T09:25:32\",\"1970-01-01T11:29:02\",\"1970-01-01T11:29:02\",\"1970-01-01T12:09:57\",\"1970-01-01T12:09:57\",\"1970-01-01T12:09:57\",\"1970-01-01T14:13:27\",\"1970-01-01T14:13:27\",\"1970-01-01T14:54:22\",\"1970-01-01T14:54:22\",\"1970-01-01T14:54:22\",\"1970-01-01T16:57:52\",\"1970-01-01T16:57:52\",\"1970-01-01T17:38:47\",\"1970-01-01T17:38:47\",\"1970-01-01T17:38:47\",\"1970-01-01T19:42:17\",\"1970-01-01T19:42:17\",\"1970-01-01T20:23:12\",\"1970-01-01T20:23:12\",\"1970-01-01T20:23:12\"],\"y\":[\"Reclamation\",\"Reclamation\",\"Reclamation\",\"Reclamation\",null,\"Reclamation\",\"Reclamation\",\"Reclamation\",\"Reclamation\",null,\"Reclamation\",\"Reclamation\",\"Reclamation\",\"Reclamation\",null,\"Reclamation\",\"Reclamation\",\"Reclamation\",\"Reclamation\",null,\"Reclamation\",\"Reclamation\",\"Reclamation\",\"Reclamation\",null,\"Reclamation\",\"Reclamation\",\"Reclamation\",\"Reclamation\",null,\"Reclamation\",\"Reclamation\",\"Reclamation\",\"Reclamation\",null],\"type\":\"scatter\"},{\"connectgaps\":false,\"hoverinfo\":\"y+name\",\"line\":{\"color\":\"rgb(160,238,106)\",\"width\":10},\"mode\":\"lines\",\"name\":\"unloading:Carrier C\",\"x\":[\"1970-01-01T01:49:44\",\"1970-01-01T01:49:44\",\"1970-01-01T02:27:56\",\"1970-01-01T02:27:56\",\"1970-01-01T02:27:56\",\"1970-01-01T04:17:40\",\"1970-01-01T04:17:40\",\"1970-01-01T04:55:52\",\"1970-01-01T04:55:52\",\"1970-01-01T04:55:52\",\"1970-01-01T06:45:36\",\"1970-01-01T06:45:36\",\"1970-01-01T07:23:48\",\"1970-01-01T07:23:48\",\"1970-01-01T07:23:48\",\"1970-01-01T09:15:14\",\"1970-01-01T09:15:14\",\"1970-01-01T09:53:26\",\"1970-01-01T09:53:26\",\"1970-01-01T09:53:26\",\"1970-01-01T11:59:39\",\"1970-01-01T11:59:39\",\"1970-01-01T12:37:51\",\"1970-01-01T12:37:51\",\"1970-01-01T12:37:51\",\"1970-01-01T14:44:04\",\"1970-01-01T14:44:04\",\"1970-01-01T15:22:16\",\"1970-01-01T15:22:16\",\"1970-01-01T15:22:16\",\"1970-01-01T17:28:29\",\"1970-01-01T17:28:29\",\"1970-01-01T18:06:41\",\"1970-01-01T18:06:41\",\"1970-01-01T18:06:41\",\"1970-01-01T20:12:54\",\"1970-01-01T20:12:54\",\"1970-01-01T20:51:06\",\"1970-01-01T20:51:06\",\"1970-01-01T20:51:06\"],\"y\":[\"Reclamation\",\"Reclamation\",\"Reclamation\",\"Reclamation\",null,\"Reclamation\",\"Reclamation\",\"Reclamation\",\"Reclamation\",null,\"Reclamation\",\"Reclamation\",\"Reclamation\",\"Reclamation\",null,\"Reclamation\",\"Reclamation\",\"Reclamation\",\"Reclamation\",null,\"Reclamation\",\"Reclamation\",\"Reclamation\",\"Reclamation\",null,\"Reclamation\",\"Reclamation\",\"Reclamation\",\"Reclamation\",null,\"Reclamation\",\"Reclamation\",\"Reclamation\",\"Reclamation\",null,\"Reclamation\",\"Reclamation\",\"Reclamation\",\"Reclamation\",null],\"type\":\"scatter\"},{\"connectgaps\":false,\"hoverinfo\":\"y+name\",\"line\":{\"color\":\"rgb(188,10,134)\",\"width\":10},\"mode\":\"lines\",\"name\":\"unloading:Carrier B\",\"x\":[\"1970-01-01T02:33:15\",\"1970-01-01T02:33:15\",\"1970-01-01T03:13:18\",\"1970-01-01T03:13:18\",\"1970-01-01T03:13:18\",\"1970-01-01T05:15:04\",\"1970-01-01T05:15:04\",\"1970-01-01T05:55:07\",\"1970-01-01T05:55:07\",\"1970-01-01T05:55:07\",\"1970-01-01T07:56:53\",\"1970-01-01T07:56:53\",\"1970-01-01T08:36:56\",\"1970-01-01T08:36:56\",\"1970-01-01T08:36:56\",\"1970-01-01T10:38:42\",\"1970-01-01T10:38:42\",\"1970-01-01T11:18:45\",\"1970-01-01T11:18:45\",\"1970-01-01T11:18:45\",\"1970-01-01T13:20:31\",\"1970-01-01T13:20:31\",\"1970-01-01T14:00:34\",\"1970-01-01T14:00:34\",\"1970-01-01T14:00:34\",\"1970-01-01T16:02:20\",\"1970-01-01T16:02:20\",\"1970-01-01T16:42:23\",\"1970-01-01T16:42:23\",\"1970-01-01T16:42:23\",\"1970-01-01T18:44:09\",\"1970-01-01T18:44:09\",\"1970-01-01T19:24:12\",\"1970-01-01T19:24:12\",\"1970-01-01T19:24:12\"],\"y\":[\"Reclamation\",\"Reclamation\",\"Reclamation\",\"Reclamation\",null,\"Reclamation\",\"Reclamation\",\"Reclamation\",\"Reclamation\",null,\"Reclamation\",\"Reclamation\",\"Reclamation\",\"Reclamation\",null,\"Reclamation\",\"Reclamation\",\"Reclamation\",\"Reclamation\",null,\"Reclamation\",\"Reclamation\",\"Reclamation\",\"Reclamation\",null,\"Reclamation\",\"Reclamation\",\"Reclamation\",\"Reclamation\",null,\"Reclamation\",\"Reclamation\",\"Reclamation\",\"Reclamation\",null],\"type\":\"scatter\"},{\"connectgaps\":false,\"hoverinfo\":\"y+name\",\"line\":{\"color\":\"rgb(216,38,162)\",\"width\":10},\"mode\":\"lines\",\"name\":\"loading:Carrier C\",\"x\":[\"1970-01-01T00:38:12\",\"1970-01-01T00:38:12\",\"1970-01-01T01:11:32\",\"1970-01-01T01:11:32\",\"1970-01-01T01:11:32\",\"1970-01-01T03:06:08\",\"1970-01-01T03:06:08\",\"1970-01-01T03:39:28\",\"1970-01-01T03:39:28\",\"1970-01-01T03:39:28\",\"1970-01-01T05:34:04\",\"1970-01-01T05:34:04\",\"1970-01-01T06:07:24\",\"1970-01-01T06:07:24\",\"1970-01-01T06:07:24\",\"1970-01-01T08:03:42\",\"1970-01-01T08:03:42\",\"1970-01-01T08:37:02\",\"1970-01-01T08:37:02\",\"1970-01-01T08:37:02\",\"1970-01-01T10:48:07\",\"1970-01-01T10:48:07\",\"1970-01-01T11:21:27\",\"1970-01-01T11:21:27\",\"1970-01-01T11:21:27\",\"1970-01-01T13:32:32\",\"1970-01-01T13:32:32\",\"1970-01-01T14:05:52\",\"1970-01-01T14:05:52\",\"1970-01-01T14:05:52\",\"1970-01-01T16:16:57\",\"1970-01-01T16:16:57\",\"1970-01-01T16:50:17\",\"1970-01-01T16:50:17\",\"1970-01-01T16:50:17\",\"1970-01-01T19:01:22\",\"1970-01-01T19:01:22\",\"1970-01-01T19:34:42\",\"1970-01-01T19:34:42\",\"1970-01-01T19:34:42\",\"1970-01-01T00:38:12\",\"1970-01-01T00:38:12\",\"1970-01-01T01:11:32\",\"1970-01-01T01:11:32\",\"1970-01-01T01:11:32\",\"1970-01-01T03:06:08\",\"1970-01-01T03:06:08\",\"1970-01-01T03:39:28\",\"1970-01-01T03:39:28\",\"1970-01-01T03:39:28\",\"1970-01-01T05:34:04\",\"1970-01-01T05:34:04\",\"1970-01-01T06:07:24\",\"1970-01-01T06:07:24\",\"1970-01-01T06:07:24\",\"1970-01-01T08:03:42\",\"1970-01-01T08:03:42\",\"1970-01-01T08:37:02\",\"1970-01-01T08:37:02\",\"1970-01-01T08:37:02\",\"1970-01-01T10:48:07\",\"1970-01-01T10:48:07\",\"1970-01-01T11:21:27\",\"1970-01-01T11:21:27\",\"1970-01-01T11:21:27\",\"1970-01-01T13:32:32\",\"1970-01-01T13:32:32\",\"1970-01-01T14:05:52\",\"1970-01-01T14:05:52\",\"1970-01-01T14:05:52\",\"1970-01-01T16:16:57\",\"1970-01-01T16:16:57\",\"1970-01-01T16:50:17\",\"1970-01-01T16:50:17\",\"1970-01-01T16:50:17\",\"1970-01-01T19:01:22\",\"1970-01-01T19:01:22\",\"1970-01-01T19:34:42\",\"1970-01-01T19:34:42\",\"1970-01-01T19:34:42\"],\"y\":[\"Trench\",\"Trench\",\"Trench\",\"Trench\",null,\"Trench\",\"Trench\",\"Trench\",\"Trench\",null,\"Trench\",\"Trench\",\"Trench\",\"Trench\",null,\"Trench\",\"Trench\",\"Trench\",\"Trench\",null,\"Trench\",\"Trench\",\"Trench\",\"Trench\",null,\"Trench\",\"Trench\",\"Trench\",\"Trench\",null,\"Trench\",\"Trench\",\"Trench\",\"Trench\",null,\"Trench\",\"Trench\",\"Trench\",\"Trench\",null,\"Cutter T\",\"Cutter T\",\"Cutter T\",\"Cutter T\",null,\"Cutter T\",\"Cutter T\",\"Cutter T\",\"Cutter T\",null,\"Cutter T\",\"Cutter T\",\"Cutter T\",\"Cutter T\",null,\"Cutter T\",\"Cutter T\",\"Cutter T\",\"Cutter T\",null,\"Cutter T\",\"Cutter T\",\"Cutter T\",\"Cutter T\",null,\"Cutter T\",\"Cutter T\",\"Cutter T\",\"Cutter T\",null,\"Cutter T\",\"Cutter T\",\"Cutter T\",\"Cutter T\",null,\"Cutter T\",\"Cutter T\",\"Cutter T\",\"Cutter T\",null],\"type\":\"scatter\"},{\"connectgaps\":false,\"hoverinfo\":\"y+name\",\"line\":{\"color\":\"rgb(244,66,190)\",\"width\":10},\"mode\":\"lines\",\"name\":\"loading:Carrier A\",\"x\":[\"1970-01-01T01:53:12\",\"1970-01-01T01:53:12\",\"1970-01-01T02:34:52\",\"1970-01-01T02:34:52\",\"1970-01-01T02:34:52\",\"1970-01-01T04:37:37\",\"1970-01-01T04:37:37\",\"1970-01-01T05:19:17\",\"1970-01-01T05:19:17\",\"1970-01-01T05:19:17\",\"1970-01-01T07:22:02\",\"1970-01-01T07:22:02\",\"1970-01-01T08:03:42\",\"1970-01-01T08:03:42\",\"1970-01-01T08:03:42\",\"1970-01-01T10:06:27\",\"1970-01-01T10:06:27\",\"1970-01-01T10:48:07\",\"1970-01-01T10:48:07\",\"1970-01-01T10:48:07\",\"1970-01-01T12:50:52\",\"1970-01-01T12:50:52\",\"1970-01-01T13:32:32\",\"1970-01-01T13:32:32\",\"1970-01-01T13:32:32\",\"1970-01-01T15:35:17\",\"1970-01-01T15:35:17\",\"1970-01-01T16:16:57\",\"1970-01-01T16:16:57\",\"1970-01-01T16:16:57\",\"1970-01-01T18:19:42\",\"1970-01-01T18:19:42\",\"1970-01-01T19:01:22\",\"1970-01-01T19:01:22\",\"1970-01-01T19:01:22\",\"1970-01-01T01:53:12\",\"1970-01-01T01:53:12\",\"1970-01-01T02:34:52\",\"1970-01-01T02:34:52\",\"1970-01-01T02:34:52\",\"1970-01-01T04:37:37\",\"1970-01-01T04:37:37\",\"1970-01-01T05:19:17\",\"1970-01-01T05:19:17\",\"1970-01-01T05:19:17\",\"1970-01-01T07:22:02\",\"1970-01-01T07:22:02\",\"1970-01-01T08:03:42\",\"1970-01-01T08:03:42\",\"1970-01-01T08:03:42\",\"1970-01-01T10:06:27\",\"1970-01-01T10:06:27\",\"1970-01-01T10:48:07\",\"1970-01-01T10:48:07\",\"1970-01-01T10:48:07\",\"1970-01-01T12:50:52\",\"1970-01-01T12:50:52\",\"1970-01-01T13:32:32\",\"1970-01-01T13:32:32\",\"1970-01-01T13:32:32\",\"1970-01-01T15:35:17\",\"1970-01-01T15:35:17\",\"1970-01-01T16:16:57\",\"1970-01-01T16:16:57\",\"1970-01-01T16:16:57\",\"1970-01-01T18:19:42\",\"1970-01-01T18:19:42\",\"1970-01-01T19:01:22\",\"1970-01-01T19:01:22\",\"1970-01-01T19:01:22\"],\"y\":[\"Trench\",\"Trench\",\"Trench\",\"Trench\",null,\"Trench\",\"Trench\",\"Trench\",\"Trench\",null,\"Trench\",\"Trench\",\"Trench\",\"Trench\",null,\"Trench\",\"Trench\",\"Trench\",\"Trench\",null,\"Trench\",\"Trench\",\"Trench\",\"Trench\",null,\"Trench\",\"Trench\",\"Trench\",\"Trench\",null,\"Trench\",\"Trench\",\"Trench\",\"Trench\",null,\"Cutter T\",\"Cutter T\",\"Cutter T\",\"Cutter T\",null,\"Cutter T\",\"Cutter T\",\"Cutter T\",\"Cutter T\",null,\"Cutter T\",\"Cutter T\",\"Cutter T\",\"Cutter T\",null,\"Cutter T\",\"Cutter T\",\"Cutter T\",\"Cutter T\",null,\"Cutter T\",\"Cutter T\",\"Cutter T\",\"Cutter T\",null,\"Cutter T\",\"Cutter T\",\"Cutter T\",\"Cutter T\",null,\"Cutter T\",\"Cutter T\",\"Cutter T\",\"Cutter T\",null],\"type\":\"scatter\"},{\"connectgaps\":false,\"hoverinfo\":\"y+name\",\"line\":{\"color\":\"rgb(16,94,218)\",\"width\":10},\"mode\":\"lines\",\"name\":\"loading:Carrier B\",\"x\":[\"1970-01-01T01:11:32\",\"1970-01-01T01:11:32\",\"1970-01-01T01:53:12\",\"1970-01-01T01:53:12\",\"1970-01-01T01:53:12\",\"1970-01-01T03:53:21\",\"1970-01-01T03:53:21\",\"1970-01-01T04:35:01\",\"1970-01-01T04:35:01\",\"1970-01-01T04:35:01\",\"1970-01-01T06:35:10\",\"1970-01-01T06:35:10\",\"1970-01-01T07:16:50\",\"1970-01-01T07:16:50\",\"1970-01-01T07:16:50\",\"1970-01-01T09:16:59\",\"1970-01-01T09:16:59\",\"1970-01-01T09:58:39\",\"1970-01-01T09:58:39\",\"1970-01-01T09:58:39\",\"1970-01-01T11:58:48\",\"1970-01-01T11:58:48\",\"1970-01-01T12:40:28\",\"1970-01-01T12:40:28\",\"1970-01-01T12:40:28\",\"1970-01-01T14:40:37\",\"1970-01-01T14:40:37\",\"1970-01-01T15:22:17\",\"1970-01-01T15:22:17\",\"1970-01-01T15:22:17\",\"1970-01-01T17:22:26\",\"1970-01-01T17:22:26\",\"1970-01-01T18:04:06\",\"1970-01-01T18:04:06\",\"1970-01-01T18:04:06\",\"1970-01-01T01:11:32\",\"1970-01-01T01:11:32\",\"1970-01-01T01:53:12\",\"1970-01-01T01:53:12\",\"1970-01-01T01:53:12\",\"1970-01-01T03:53:21\",\"1970-01-01T03:53:21\",\"1970-01-01T04:35:01\",\"1970-01-01T04:35:01\",\"1970-01-01T04:35:01\",\"1970-01-01T06:35:10\",\"1970-01-01T06:35:10\",\"1970-01-01T07:16:50\",\"1970-01-01T07:16:50\",\"1970-01-01T07:16:50\",\"1970-01-01T09:16:59\",\"1970-01-01T09:16:59\",\"1970-01-01T09:58:39\",\"1970-01-01T09:58:39\",\"1970-01-01T09:58:39\",\"1970-01-01T11:58:48\",\"1970-01-01T11:58:48\",\"1970-01-01T12:40:28\",\"1970-01-01T12:40:28\",\"1970-01-01T12:40:28\",\"1970-01-01T14:40:37\",\"1970-01-01T14:40:37\",\"1970-01-01T15:22:17\",\"1970-01-01T15:22:17\",\"1970-01-01T15:22:17\",\"1970-01-01T17:22:26\",\"1970-01-01T17:22:26\",\"1970-01-01T18:04:06\",\"1970-01-01T18:04:06\",\"1970-01-01T18:04:06\"],\"y\":[\"Trench\",\"Trench\",\"Trench\",\"Trench\",null,\"Trench\",\"Trench\",\"Trench\",\"Trench\",null,\"Trench\",\"Trench\",\"Trench\",\"Trench\",null,\"Trench\",\"Trench\",\"Trench\",\"Trench\",null,\"Trench\",\"Trench\",\"Trench\",\"Trench\",null,\"Trench\",\"Trench\",\"Trench\",\"Trench\",null,\"Trench\",\"Trench\",\"Trench\",\"Trench\",null,\"Cutter T\",\"Cutter T\",\"Cutter T\",\"Cutter T\",null,\"Cutter T\",\"Cutter T\",\"Cutter T\",\"Cutter T\",null,\"Cutter T\",\"Cutter T\",\"Cutter T\",\"Cutter T\",null,\"Cutter T\",\"Cutter T\",\"Cutter T\",\"Cutter T\",null,\"Cutter T\",\"Cutter T\",\"Cutter T\",\"Cutter T\",null,\"Cutter T\",\"Cutter T\",\"Cutter T\",\"Cutter T\",null,\"Cutter T\",\"Cutter T\",\"Cutter T\",\"Cutter T\",null],\"type\":\"scatter\"}],                        {\"hovermode\":\"closest\",\"legend\":{\"orientation\":\"h\",\"x\":0,\"y\":-0.2},\"template\":{\"data\":{\"barpolar\":[{\"marker\":{\"line\":{\"color\":\"#E5ECF6\",\"width\":0.5},\"pattern\":{\"fillmode\":\"overlay\",\"size\":10,\"solidity\":0.2}},\"type\":\"barpolar\"}],\"bar\":[{\"error_x\":{\"color\":\"#2a3f5f\"},\"error_y\":{\"color\":\"#2a3f5f\"},\"marker\":{\"line\":{\"color\":\"#E5ECF6\",\"width\":0.5},\"pattern\":{\"fillmode\":\"overlay\",\"size\":10,\"solidity\":0.2}},\"type\":\"bar\"}],\"carpet\":[{\"aaxis\":{\"endlinecolor\":\"#2a3f5f\",\"gridcolor\":\"white\",\"linecolor\":\"white\",\"minorgridcolor\":\"white\",\"startlinecolor\":\"#2a3f5f\"},\"baxis\":{\"endlinecolor\":\"#2a3f5f\",\"gridcolor\":\"white\",\"linecolor\":\"white\",\"minorgridcolor\":\"white\",\"startlinecolor\":\"#2a3f5f\"},\"type\":\"carpet\"}],\"choropleth\":[{\"colorbar\":{\"outlinewidth\":0,\"ticks\":\"\"},\"type\":\"choropleth\"}],\"contourcarpet\":[{\"colorbar\":{\"outlinewidth\":0,\"ticks\":\"\"},\"type\":\"contourcarpet\"}],\"contour\":[{\"colorbar\":{\"outlinewidth\":0,\"ticks\":\"\"},\"colorscale\":[[0.0,\"#0d0887\"],[0.1111111111111111,\"#46039f\"],[0.2222222222222222,\"#7201a8\"],[0.3333333333333333,\"#9c179e\"],[0.4444444444444444,\"#bd3786\"],[0.5555555555555556,\"#d8576b\"],[0.6666666666666666,\"#ed7953\"],[0.7777777777777778,\"#fb9f3a\"],[0.8888888888888888,\"#fdca26\"],[1.0,\"#f0f921\"]],\"type\":\"contour\"}],\"heatmapgl\":[{\"colorbar\":{\"outlinewidth\":0,\"ticks\":\"\"},\"colorscale\":[[0.0,\"#0d0887\"],[0.1111111111111111,\"#46039f\"],[0.2222222222222222,\"#7201a8\"],[0.3333333333333333,\"#9c179e\"],[0.4444444444444444,\"#bd3786\"],[0.5555555555555556,\"#d8576b\"],[0.6666666666666666,\"#ed7953\"],[0.7777777777777778,\"#fb9f3a\"],[0.8888888888888888,\"#fdca26\"],[1.0,\"#f0f921\"]],\"type\":\"heatmapgl\"}],\"heatmap\":[{\"colorbar\":{\"outlinewidth\":0,\"ticks\":\"\"},\"colorscale\":[[0.0,\"#0d0887\"],[0.1111111111111111,\"#46039f\"],[0.2222222222222222,\"#7201a8\"],[0.3333333333333333,\"#9c179e\"],[0.4444444444444444,\"#bd3786\"],[0.5555555555555556,\"#d8576b\"],[0.6666666666666666,\"#ed7953\"],[0.7777777777777778,\"#fb9f3a\"],[0.8888888888888888,\"#fdca26\"],[1.0,\"#f0f921\"]],\"type\":\"heatmap\"}],\"histogram2dcontour\":[{\"colorbar\":{\"outlinewidth\":0,\"ticks\":\"\"},\"colorscale\":[[0.0,\"#0d0887\"],[0.1111111111111111,\"#46039f\"],[0.2222222222222222,\"#7201a8\"],[0.3333333333333333,\"#9c179e\"],[0.4444444444444444,\"#bd3786\"],[0.5555555555555556,\"#d8576b\"],[0.6666666666666666,\"#ed7953\"],[0.7777777777777778,\"#fb9f3a\"],[0.8888888888888888,\"#fdca26\"],[1.0,\"#f0f921\"]],\"type\":\"histogram2dcontour\"}],\"histogram2d\":[{\"colorbar\":{\"outlinewidth\":0,\"ticks\":\"\"},\"colorscale\":[[0.0,\"#0d0887\"],[0.1111111111111111,\"#46039f\"],[0.2222222222222222,\"#7201a8\"],[0.3333333333333333,\"#9c179e\"],[0.4444444444444444,\"#bd3786\"],[0.5555555555555556,\"#d8576b\"],[0.6666666666666666,\"#ed7953\"],[0.7777777777777778,\"#fb9f3a\"],[0.8888888888888888,\"#fdca26\"],[1.0,\"#f0f921\"]],\"type\":\"histogram2d\"}],\"histogram\":[{\"marker\":{\"pattern\":{\"fillmode\":\"overlay\",\"size\":10,\"solidity\":0.2}},\"type\":\"histogram\"}],\"mesh3d\":[{\"colorbar\":{\"outlinewidth\":0,\"ticks\":\"\"},\"type\":\"mesh3d\"}],\"parcoords\":[{\"line\":{\"colorbar\":{\"outlinewidth\":0,\"ticks\":\"\"}},\"type\":\"parcoords\"}],\"pie\":[{\"automargin\":true,\"type\":\"pie\"}],\"scatter3d\":[{\"line\":{\"colorbar\":{\"outlinewidth\":0,\"ticks\":\"\"}},\"marker\":{\"colorbar\":{\"outlinewidth\":0,\"ticks\":\"\"}},\"type\":\"scatter3d\"}],\"scattercarpet\":[{\"marker\":{\"colorbar\":{\"outlinewidth\":0,\"ticks\":\"\"}},\"type\":\"scattercarpet\"}],\"scattergeo\":[{\"marker\":{\"colorbar\":{\"outlinewidth\":0,\"ticks\":\"\"}},\"type\":\"scattergeo\"}],\"scattergl\":[{\"marker\":{\"colorbar\":{\"outlinewidth\":0,\"ticks\":\"\"}},\"type\":\"scattergl\"}],\"scattermapbox\":[{\"marker\":{\"colorbar\":{\"outlinewidth\":0,\"ticks\":\"\"}},\"type\":\"scattermapbox\"}],\"scatterpolargl\":[{\"marker\":{\"colorbar\":{\"outlinewidth\":0,\"ticks\":\"\"}},\"type\":\"scatterpolargl\"}],\"scatterpolar\":[{\"marker\":{\"colorbar\":{\"outlinewidth\":0,\"ticks\":\"\"}},\"type\":\"scatterpolar\"}],\"scatter\":[{\"fillpattern\":{\"fillmode\":\"overlay\",\"size\":10,\"solidity\":0.2},\"type\":\"scatter\"}],\"scatterternary\":[{\"marker\":{\"colorbar\":{\"outlinewidth\":0,\"ticks\":\"\"}},\"type\":\"scatterternary\"}],\"surface\":[{\"colorbar\":{\"outlinewidth\":0,\"ticks\":\"\"},\"colorscale\":[[0.0,\"#0d0887\"],[0.1111111111111111,\"#46039f\"],[0.2222222222222222,\"#7201a8\"],[0.3333333333333333,\"#9c179e\"],[0.4444444444444444,\"#bd3786\"],[0.5555555555555556,\"#d8576b\"],[0.6666666666666666,\"#ed7953\"],[0.7777777777777778,\"#fb9f3a\"],[0.8888888888888888,\"#fdca26\"],[1.0,\"#f0f921\"]],\"type\":\"surface\"}],\"table\":[{\"cells\":{\"fill\":{\"color\":\"#EBF0F8\"},\"line\":{\"color\":\"white\"}},\"header\":{\"fill\":{\"color\":\"#C8D4E3\"},\"line\":{\"color\":\"white\"}},\"type\":\"table\"}]},\"layout\":{\"annotationdefaults\":{\"arrowcolor\":\"#2a3f5f\",\"arrowhead\":0,\"arrowwidth\":1},\"autotypenumbers\":\"strict\",\"coloraxis\":{\"colorbar\":{\"outlinewidth\":0,\"ticks\":\"\"}},\"colorscale\":{\"diverging\":[[0,\"#8e0152\"],[0.1,\"#c51b7d\"],[0.2,\"#de77ae\"],[0.3,\"#f1b6da\"],[0.4,\"#fde0ef\"],[0.5,\"#f7f7f7\"],[0.6,\"#e6f5d0\"],[0.7,\"#b8e186\"],[0.8,\"#7fbc41\"],[0.9,\"#4d9221\"],[1,\"#276419\"]],\"sequential\":[[0.0,\"#0d0887\"],[0.1111111111111111,\"#46039f\"],[0.2222222222222222,\"#7201a8\"],[0.3333333333333333,\"#9c179e\"],[0.4444444444444444,\"#bd3786\"],[0.5555555555555556,\"#d8576b\"],[0.6666666666666666,\"#ed7953\"],[0.7777777777777778,\"#fb9f3a\"],[0.8888888888888888,\"#fdca26\"],[1.0,\"#f0f921\"]],\"sequentialminus\":[[0.0,\"#0d0887\"],[0.1111111111111111,\"#46039f\"],[0.2222222222222222,\"#7201a8\"],[0.3333333333333333,\"#9c179e\"],[0.4444444444444444,\"#bd3786\"],[0.5555555555555556,\"#d8576b\"],[0.6666666666666666,\"#ed7953\"],[0.7777777777777778,\"#fb9f3a\"],[0.8888888888888888,\"#fdca26\"],[1.0,\"#f0f921\"]]},\"colorway\":[\"#636efa\",\"#EF553B\",\"#00cc96\",\"#ab63fa\",\"#FFA15A\",\"#19d3f3\",\"#FF6692\",\"#B6E880\",\"#FF97FF\",\"#FECB52\"],\"font\":{\"color\":\"#2a3f5f\"},\"geo\":{\"bgcolor\":\"white\",\"lakecolor\":\"white\",\"landcolor\":\"#E5ECF6\",\"showlakes\":true,\"showland\":true,\"subunitcolor\":\"white\"},\"hoverlabel\":{\"align\":\"left\"},\"hovermode\":\"closest\",\"mapbox\":{\"style\":\"light\"},\"paper_bgcolor\":\"white\",\"plot_bgcolor\":\"#E5ECF6\",\"polar\":{\"angularaxis\":{\"gridcolor\":\"white\",\"linecolor\":\"white\",\"ticks\":\"\"},\"bgcolor\":\"#E5ECF6\",\"radialaxis\":{\"gridcolor\":\"white\",\"linecolor\":\"white\",\"ticks\":\"\"}},\"scene\":{\"xaxis\":{\"backgroundcolor\":\"#E5ECF6\",\"gridcolor\":\"white\",\"gridwidth\":2,\"linecolor\":\"white\",\"showbackground\":true,\"ticks\":\"\",\"zerolinecolor\":\"white\"},\"yaxis\":{\"backgroundcolor\":\"#E5ECF6\",\"gridcolor\":\"white\",\"gridwidth\":2,\"linecolor\":\"white\",\"showbackground\":true,\"ticks\":\"\",\"zerolinecolor\":\"white\"},\"zaxis\":{\"backgroundcolor\":\"#E5ECF6\",\"gridcolor\":\"white\",\"gridwidth\":2,\"linecolor\":\"white\",\"showbackground\":true,\"ticks\":\"\",\"zerolinecolor\":\"white\"}},\"shapedefaults\":{\"line\":{\"color\":\"#2a3f5f\"}},\"ternary\":{\"aaxis\":{\"gridcolor\":\"white\",\"linecolor\":\"white\",\"ticks\":\"\"},\"baxis\":{\"gridcolor\":\"white\",\"linecolor\":\"white\",\"ticks\":\"\"},\"bgcolor\":\"#E5ECF6\",\"caxis\":{\"gridcolor\":\"white\",\"linecolor\":\"white\",\"ticks\":\"\"}},\"title\":{\"x\":0.05},\"xaxis\":{\"automargin\":true,\"gridcolor\":\"white\",\"linecolor\":\"white\",\"ticks\":\"\",\"title\":{\"standoff\":15},\"zerolinecolor\":\"white\",\"zerolinewidth\":2},\"yaxis\":{\"automargin\":true,\"gridcolor\":\"white\",\"linecolor\":\"white\",\"ticks\":\"\",\"title\":{\"standoff\":15},\"zerolinecolor\":\"white\",\"zerolinewidth\":2}}},\"title\":{\"text\":\"GANTT Chart\"},\"xaxis\":{\"range\":[\"1970-01-01T00:38:12\",\"1970-01-01T20:51:06\"],\"title\":{\"font\":{\"color\":\"#7f7f7f\",\"family\":\"Courier New, monospace\",\"size\":18},\"text\":\"Time\"}},\"yaxis\":{\"title\":{\"font\":{\"color\":\"#7f7f7f\",\"family\":\"Courier New, monospace\",\"size\":18},\"text\":\"Activities\"}}},                        {\"responsive\": true}                    ).then(function(){\n",
       "                            \n",
       "var gd = document.getElementById('518fff43-89ff-480d-8284-6a042827223c');\n",
       "var x = new MutationObserver(function (mutations, observer) {{\n",
       "        var display = window.getComputedStyle(gd).display;\n",
       "        if (!display || display === 'none') {{\n",
       "            console.log([gd, 'removed!']);\n",
       "            Plotly.purge(gd);\n",
       "            observer.disconnect();\n",
       "        }}\n",
       "}});\n",
       "\n",
       "// Listen for the removal of the full notebook cells\n",
       "var notebookContainer = gd.closest('#notebook-container');\n",
       "if (notebookContainer) {{\n",
       "    x.observe(notebookContainer, {childList: true});\n",
       "}}\n",
       "\n",
       "// Listen for the clearing of the current output cell\n",
       "var outputEl = gd.closest('.output');\n",
       "if (outputEl) {{\n",
       "    x.observe(outputEl, {childList: true});\n",
       "}}\n",
       "\n",
       "                        })                };                });            </script>        </div>"
      ]
     },
     "metadata": {},
     "output_type": "display_data"
    }
   ],
   "source": [
    "fig = get_gantt_chart([from_site, to_site, cutter], id_map=activities)"
   ]
  },
  {
   "cell_type": "markdown",
   "id": "9d68aee1",
   "metadata": {},
   "source": [
    "Plot only activities whose namespace (first letters) matches load*"
   ]
  },
  {
   "cell_type": "code",
   "execution_count": 8,
   "id": "6141ac61",
   "metadata": {},
   "outputs": [
    {
     "data": {
      "text/html": [
       "        <script type=\"text/javascript\">\n",
       "        window.PlotlyConfig = {MathJaxConfig: 'local'};\n",
       "        if (window.MathJax && window.MathJax.Hub && window.MathJax.Hub.Config) {window.MathJax.Hub.Config({SVG: {font: \"STIX-Web\"}});}\n",
       "        if (typeof require !== 'undefined') {\n",
       "        require.undef(\"plotly\");\n",
       "        requirejs.config({\n",
       "            paths: {\n",
       "                'plotly': ['https://cdn.plot.ly/plotly-2.18.2.min']\n",
       "            }\n",
       "        });\n",
       "        require(['plotly'], function(Plotly) {\n",
       "            window._Plotly = Plotly;\n",
       "        });\n",
       "        }\n",
       "        </script>\n",
       "        "
      ]
     },
     "metadata": {},
     "output_type": "display_data"
    },
    {
     "data": {
      "application/vnd.plotly.v1+json": {
       "config": {
        "linkText": "Export to plot.ly",
        "plotlyServerURL": "https://plot.ly",
        "showLink": false
       },
       "data": [
        {
         "connectgaps": false,
         "hoverinfo": "y+name",
         "line": {
          "color": "rgb(77,25,41)",
          "width": 10
         },
         "mode": "lines",
         "name": "loading:Carrier A",
         "type": "scatter",
         "x": [
          "1970-01-01T01:53:12",
          "1970-01-01T01:53:12",
          "1970-01-01T02:34:52",
          "1970-01-01T02:34:52",
          "1970-01-01T02:34:52",
          "1970-01-01T04:37:37",
          "1970-01-01T04:37:37",
          "1970-01-01T05:19:17",
          "1970-01-01T05:19:17",
          "1970-01-01T05:19:17",
          "1970-01-01T07:22:02",
          "1970-01-01T07:22:02",
          "1970-01-01T08:03:42",
          "1970-01-01T08:03:42",
          "1970-01-01T08:03:42",
          "1970-01-01T10:06:27",
          "1970-01-01T10:06:27",
          "1970-01-01T10:48:07",
          "1970-01-01T10:48:07",
          "1970-01-01T10:48:07",
          "1970-01-01T12:50:52",
          "1970-01-01T12:50:52",
          "1970-01-01T13:32:32",
          "1970-01-01T13:32:32",
          "1970-01-01T13:32:32",
          "1970-01-01T15:35:17",
          "1970-01-01T15:35:17",
          "1970-01-01T16:16:57",
          "1970-01-01T16:16:57",
          "1970-01-01T16:16:57",
          "1970-01-01T18:19:42",
          "1970-01-01T18:19:42",
          "1970-01-01T19:01:22",
          "1970-01-01T19:01:22",
          "1970-01-01T19:01:22"
         ],
         "y": [
          "loading:Carrier A",
          "loading:Carrier A",
          "loading:Carrier A",
          "loading:Carrier A",
          null,
          "loading:Carrier A",
          "loading:Carrier A",
          "loading:Carrier A",
          "loading:Carrier A",
          null,
          "loading:Carrier A",
          "loading:Carrier A",
          "loading:Carrier A",
          "loading:Carrier A",
          null,
          "loading:Carrier A",
          "loading:Carrier A",
          "loading:Carrier A",
          "loading:Carrier A",
          null,
          "loading:Carrier A",
          "loading:Carrier A",
          "loading:Carrier A",
          "loading:Carrier A",
          null,
          "loading:Carrier A",
          "loading:Carrier A",
          "loading:Carrier A",
          "loading:Carrier A",
          null,
          "loading:Carrier A",
          "loading:Carrier A",
          "loading:Carrier A",
          "loading:Carrier A",
          null
         ]
        },
        {
         "connectgaps": false,
         "hoverinfo": "y+name",
         "line": {
          "color": "rgb(162,110,126)",
          "width": 10
         },
         "mode": "lines",
         "name": "loading:Carrier B",
         "type": "scatter",
         "x": [
          "1970-01-01T01:11:32",
          "1970-01-01T01:11:32",
          "1970-01-01T01:53:12",
          "1970-01-01T01:53:12",
          "1970-01-01T01:53:12",
          "1970-01-01T03:53:21",
          "1970-01-01T03:53:21",
          "1970-01-01T04:35:01",
          "1970-01-01T04:35:01",
          "1970-01-01T04:35:01",
          "1970-01-01T06:35:10",
          "1970-01-01T06:35:10",
          "1970-01-01T07:16:50",
          "1970-01-01T07:16:50",
          "1970-01-01T07:16:50",
          "1970-01-01T09:16:59",
          "1970-01-01T09:16:59",
          "1970-01-01T09:58:39",
          "1970-01-01T09:58:39",
          "1970-01-01T09:58:39",
          "1970-01-01T11:58:48",
          "1970-01-01T11:58:48",
          "1970-01-01T12:40:28",
          "1970-01-01T12:40:28",
          "1970-01-01T12:40:28",
          "1970-01-01T14:40:37",
          "1970-01-01T14:40:37",
          "1970-01-01T15:22:17",
          "1970-01-01T15:22:17",
          "1970-01-01T15:22:17",
          "1970-01-01T17:22:26",
          "1970-01-01T17:22:26",
          "1970-01-01T18:04:06",
          "1970-01-01T18:04:06",
          "1970-01-01T18:04:06"
         ],
         "y": [
          "loading:Carrier B",
          "loading:Carrier B",
          "loading:Carrier B",
          "loading:Carrier B",
          null,
          "loading:Carrier B",
          "loading:Carrier B",
          "loading:Carrier B",
          "loading:Carrier B",
          null,
          "loading:Carrier B",
          "loading:Carrier B",
          "loading:Carrier B",
          "loading:Carrier B",
          null,
          "loading:Carrier B",
          "loading:Carrier B",
          "loading:Carrier B",
          "loading:Carrier B",
          null,
          "loading:Carrier B",
          "loading:Carrier B",
          "loading:Carrier B",
          "loading:Carrier B",
          null,
          "loading:Carrier B",
          "loading:Carrier B",
          "loading:Carrier B",
          "loading:Carrier B",
          null,
          "loading:Carrier B",
          "loading:Carrier B",
          "loading:Carrier B",
          "loading:Carrier B",
          null
         ]
        },
        {
         "connectgaps": false,
         "hoverinfo": "y+name",
         "line": {
          "color": "rgb(247,195,211)",
          "width": 10
         },
         "mode": "lines",
         "name": "loading:Carrier C",
         "type": "scatter",
         "x": [
          "1970-01-01T00:38:12",
          "1970-01-01T00:38:12",
          "1970-01-01T01:11:32",
          "1970-01-01T01:11:32",
          "1970-01-01T01:11:32",
          "1970-01-01T03:06:08",
          "1970-01-01T03:06:08",
          "1970-01-01T03:39:28",
          "1970-01-01T03:39:28",
          "1970-01-01T03:39:28",
          "1970-01-01T05:34:04",
          "1970-01-01T05:34:04",
          "1970-01-01T06:07:24",
          "1970-01-01T06:07:24",
          "1970-01-01T06:07:24",
          "1970-01-01T08:03:42",
          "1970-01-01T08:03:42",
          "1970-01-01T08:37:02",
          "1970-01-01T08:37:02",
          "1970-01-01T08:37:02",
          "1970-01-01T10:48:07",
          "1970-01-01T10:48:07",
          "1970-01-01T11:21:27",
          "1970-01-01T11:21:27",
          "1970-01-01T11:21:27",
          "1970-01-01T13:32:32",
          "1970-01-01T13:32:32",
          "1970-01-01T14:05:52",
          "1970-01-01T14:05:52",
          "1970-01-01T14:05:52",
          "1970-01-01T16:16:57",
          "1970-01-01T16:16:57",
          "1970-01-01T16:50:17",
          "1970-01-01T16:50:17",
          "1970-01-01T16:50:17",
          "1970-01-01T19:01:22",
          "1970-01-01T19:01:22",
          "1970-01-01T19:34:42",
          "1970-01-01T19:34:42",
          "1970-01-01T19:34:42"
         ],
         "y": [
          "loading:Carrier C",
          "loading:Carrier C",
          "loading:Carrier C",
          "loading:Carrier C",
          null,
          "loading:Carrier C",
          "loading:Carrier C",
          "loading:Carrier C",
          "loading:Carrier C",
          null,
          "loading:Carrier C",
          "loading:Carrier C",
          "loading:Carrier C",
          "loading:Carrier C",
          null,
          "loading:Carrier C",
          "loading:Carrier C",
          "loading:Carrier C",
          "loading:Carrier C",
          null,
          "loading:Carrier C",
          "loading:Carrier C",
          "loading:Carrier C",
          "loading:Carrier C",
          null,
          "loading:Carrier C",
          "loading:Carrier C",
          "loading:Carrier C",
          "loading:Carrier C",
          null,
          "loading:Carrier C",
          "loading:Carrier C",
          "loading:Carrier C",
          "loading:Carrier C",
          null,
          "loading:Carrier C",
          "loading:Carrier C",
          "loading:Carrier C",
          "loading:Carrier C",
          null
         ]
        }
       ],
       "layout": {
        "hovermode": "closest",
        "legend": {
         "orientation": "h",
         "x": 0,
         "y": -0.2
        },
        "template": {
         "data": {
          "bar": [
           {
            "error_x": {
             "color": "#2a3f5f"
            },
            "error_y": {
             "color": "#2a3f5f"
            },
            "marker": {
             "line": {
              "color": "#E5ECF6",
              "width": 0.5
             },
             "pattern": {
              "fillmode": "overlay",
              "size": 10,
              "solidity": 0.2
             }
            },
            "type": "bar"
           }
          ],
          "barpolar": [
           {
            "marker": {
             "line": {
              "color": "#E5ECF6",
              "width": 0.5
             },
             "pattern": {
              "fillmode": "overlay",
              "size": 10,
              "solidity": 0.2
             }
            },
            "type": "barpolar"
           }
          ],
          "carpet": [
           {
            "aaxis": {
             "endlinecolor": "#2a3f5f",
             "gridcolor": "white",
             "linecolor": "white",
             "minorgridcolor": "white",
             "startlinecolor": "#2a3f5f"
            },
            "baxis": {
             "endlinecolor": "#2a3f5f",
             "gridcolor": "white",
             "linecolor": "white",
             "minorgridcolor": "white",
             "startlinecolor": "#2a3f5f"
            },
            "type": "carpet"
           }
          ],
          "choropleth": [
           {
            "colorbar": {
             "outlinewidth": 0,
             "ticks": ""
            },
            "type": "choropleth"
           }
          ],
          "contour": [
           {
            "colorbar": {
             "outlinewidth": 0,
             "ticks": ""
            },
            "colorscale": [
             [
              0,
              "#0d0887"
             ],
             [
              0.1111111111111111,
              "#46039f"
             ],
             [
              0.2222222222222222,
              "#7201a8"
             ],
             [
              0.3333333333333333,
              "#9c179e"
             ],
             [
              0.4444444444444444,
              "#bd3786"
             ],
             [
              0.5555555555555556,
              "#d8576b"
             ],
             [
              0.6666666666666666,
              "#ed7953"
             ],
             [
              0.7777777777777778,
              "#fb9f3a"
             ],
             [
              0.8888888888888888,
              "#fdca26"
             ],
             [
              1,
              "#f0f921"
             ]
            ],
            "type": "contour"
           }
          ],
          "contourcarpet": [
           {
            "colorbar": {
             "outlinewidth": 0,
             "ticks": ""
            },
            "type": "contourcarpet"
           }
          ],
          "heatmap": [
           {
            "colorbar": {
             "outlinewidth": 0,
             "ticks": ""
            },
            "colorscale": [
             [
              0,
              "#0d0887"
             ],
             [
              0.1111111111111111,
              "#46039f"
             ],
             [
              0.2222222222222222,
              "#7201a8"
             ],
             [
              0.3333333333333333,
              "#9c179e"
             ],
             [
              0.4444444444444444,
              "#bd3786"
             ],
             [
              0.5555555555555556,
              "#d8576b"
             ],
             [
              0.6666666666666666,
              "#ed7953"
             ],
             [
              0.7777777777777778,
              "#fb9f3a"
             ],
             [
              0.8888888888888888,
              "#fdca26"
             ],
             [
              1,
              "#f0f921"
             ]
            ],
            "type": "heatmap"
           }
          ],
          "heatmapgl": [
           {
            "colorbar": {
             "outlinewidth": 0,
             "ticks": ""
            },
            "colorscale": [
             [
              0,
              "#0d0887"
             ],
             [
              0.1111111111111111,
              "#46039f"
             ],
             [
              0.2222222222222222,
              "#7201a8"
             ],
             [
              0.3333333333333333,
              "#9c179e"
             ],
             [
              0.4444444444444444,
              "#bd3786"
             ],
             [
              0.5555555555555556,
              "#d8576b"
             ],
             [
              0.6666666666666666,
              "#ed7953"
             ],
             [
              0.7777777777777778,
              "#fb9f3a"
             ],
             [
              0.8888888888888888,
              "#fdca26"
             ],
             [
              1,
              "#f0f921"
             ]
            ],
            "type": "heatmapgl"
           }
          ],
          "histogram": [
           {
            "marker": {
             "pattern": {
              "fillmode": "overlay",
              "size": 10,
              "solidity": 0.2
             }
            },
            "type": "histogram"
           }
          ],
          "histogram2d": [
           {
            "colorbar": {
             "outlinewidth": 0,
             "ticks": ""
            },
            "colorscale": [
             [
              0,
              "#0d0887"
             ],
             [
              0.1111111111111111,
              "#46039f"
             ],
             [
              0.2222222222222222,
              "#7201a8"
             ],
             [
              0.3333333333333333,
              "#9c179e"
             ],
             [
              0.4444444444444444,
              "#bd3786"
             ],
             [
              0.5555555555555556,
              "#d8576b"
             ],
             [
              0.6666666666666666,
              "#ed7953"
             ],
             [
              0.7777777777777778,
              "#fb9f3a"
             ],
             [
              0.8888888888888888,
              "#fdca26"
             ],
             [
              1,
              "#f0f921"
             ]
            ],
            "type": "histogram2d"
           }
          ],
          "histogram2dcontour": [
           {
            "colorbar": {
             "outlinewidth": 0,
             "ticks": ""
            },
            "colorscale": [
             [
              0,
              "#0d0887"
             ],
             [
              0.1111111111111111,
              "#46039f"
             ],
             [
              0.2222222222222222,
              "#7201a8"
             ],
             [
              0.3333333333333333,
              "#9c179e"
             ],
             [
              0.4444444444444444,
              "#bd3786"
             ],
             [
              0.5555555555555556,
              "#d8576b"
             ],
             [
              0.6666666666666666,
              "#ed7953"
             ],
             [
              0.7777777777777778,
              "#fb9f3a"
             ],
             [
              0.8888888888888888,
              "#fdca26"
             ],
             [
              1,
              "#f0f921"
             ]
            ],
            "type": "histogram2dcontour"
           }
          ],
          "mesh3d": [
           {
            "colorbar": {
             "outlinewidth": 0,
             "ticks": ""
            },
            "type": "mesh3d"
           }
          ],
          "parcoords": [
           {
            "line": {
             "colorbar": {
              "outlinewidth": 0,
              "ticks": ""
             }
            },
            "type": "parcoords"
           }
          ],
          "pie": [
           {
            "automargin": true,
            "type": "pie"
           }
          ],
          "scatter": [
           {
            "fillpattern": {
             "fillmode": "overlay",
             "size": 10,
             "solidity": 0.2
            },
            "type": "scatter"
           }
          ],
          "scatter3d": [
           {
            "line": {
             "colorbar": {
              "outlinewidth": 0,
              "ticks": ""
             }
            },
            "marker": {
             "colorbar": {
              "outlinewidth": 0,
              "ticks": ""
             }
            },
            "type": "scatter3d"
           }
          ],
          "scattercarpet": [
           {
            "marker": {
             "colorbar": {
              "outlinewidth": 0,
              "ticks": ""
             }
            },
            "type": "scattercarpet"
           }
          ],
          "scattergeo": [
           {
            "marker": {
             "colorbar": {
              "outlinewidth": 0,
              "ticks": ""
             }
            },
            "type": "scattergeo"
           }
          ],
          "scattergl": [
           {
            "marker": {
             "colorbar": {
              "outlinewidth": 0,
              "ticks": ""
             }
            },
            "type": "scattergl"
           }
          ],
          "scattermapbox": [
           {
            "marker": {
             "colorbar": {
              "outlinewidth": 0,
              "ticks": ""
             }
            },
            "type": "scattermapbox"
           }
          ],
          "scatterpolar": [
           {
            "marker": {
             "colorbar": {
              "outlinewidth": 0,
              "ticks": ""
             }
            },
            "type": "scatterpolar"
           }
          ],
          "scatterpolargl": [
           {
            "marker": {
             "colorbar": {
              "outlinewidth": 0,
              "ticks": ""
             }
            },
            "type": "scatterpolargl"
           }
          ],
          "scatterternary": [
           {
            "marker": {
             "colorbar": {
              "outlinewidth": 0,
              "ticks": ""
             }
            },
            "type": "scatterternary"
           }
          ],
          "surface": [
           {
            "colorbar": {
             "outlinewidth": 0,
             "ticks": ""
            },
            "colorscale": [
             [
              0,
              "#0d0887"
             ],
             [
              0.1111111111111111,
              "#46039f"
             ],
             [
              0.2222222222222222,
              "#7201a8"
             ],
             [
              0.3333333333333333,
              "#9c179e"
             ],
             [
              0.4444444444444444,
              "#bd3786"
             ],
             [
              0.5555555555555556,
              "#d8576b"
             ],
             [
              0.6666666666666666,
              "#ed7953"
             ],
             [
              0.7777777777777778,
              "#fb9f3a"
             ],
             [
              0.8888888888888888,
              "#fdca26"
             ],
             [
              1,
              "#f0f921"
             ]
            ],
            "type": "surface"
           }
          ],
          "table": [
           {
            "cells": {
             "fill": {
              "color": "#EBF0F8"
             },
             "line": {
              "color": "white"
             }
            },
            "header": {
             "fill": {
              "color": "#C8D4E3"
             },
             "line": {
              "color": "white"
             }
            },
            "type": "table"
           }
          ]
         },
         "layout": {
          "annotationdefaults": {
           "arrowcolor": "#2a3f5f",
           "arrowhead": 0,
           "arrowwidth": 1
          },
          "autotypenumbers": "strict",
          "coloraxis": {
           "colorbar": {
            "outlinewidth": 0,
            "ticks": ""
           }
          },
          "colorscale": {
           "diverging": [
            [
             0,
             "#8e0152"
            ],
            [
             0.1,
             "#c51b7d"
            ],
            [
             0.2,
             "#de77ae"
            ],
            [
             0.3,
             "#f1b6da"
            ],
            [
             0.4,
             "#fde0ef"
            ],
            [
             0.5,
             "#f7f7f7"
            ],
            [
             0.6,
             "#e6f5d0"
            ],
            [
             0.7,
             "#b8e186"
            ],
            [
             0.8,
             "#7fbc41"
            ],
            [
             0.9,
             "#4d9221"
            ],
            [
             1,
             "#276419"
            ]
           ],
           "sequential": [
            [
             0,
             "#0d0887"
            ],
            [
             0.1111111111111111,
             "#46039f"
            ],
            [
             0.2222222222222222,
             "#7201a8"
            ],
            [
             0.3333333333333333,
             "#9c179e"
            ],
            [
             0.4444444444444444,
             "#bd3786"
            ],
            [
             0.5555555555555556,
             "#d8576b"
            ],
            [
             0.6666666666666666,
             "#ed7953"
            ],
            [
             0.7777777777777778,
             "#fb9f3a"
            ],
            [
             0.8888888888888888,
             "#fdca26"
            ],
            [
             1,
             "#f0f921"
            ]
           ],
           "sequentialminus": [
            [
             0,
             "#0d0887"
            ],
            [
             0.1111111111111111,
             "#46039f"
            ],
            [
             0.2222222222222222,
             "#7201a8"
            ],
            [
             0.3333333333333333,
             "#9c179e"
            ],
            [
             0.4444444444444444,
             "#bd3786"
            ],
            [
             0.5555555555555556,
             "#d8576b"
            ],
            [
             0.6666666666666666,
             "#ed7953"
            ],
            [
             0.7777777777777778,
             "#fb9f3a"
            ],
            [
             0.8888888888888888,
             "#fdca26"
            ],
            [
             1,
             "#f0f921"
            ]
           ]
          },
          "colorway": [
           "#636efa",
           "#EF553B",
           "#00cc96",
           "#ab63fa",
           "#FFA15A",
           "#19d3f3",
           "#FF6692",
           "#B6E880",
           "#FF97FF",
           "#FECB52"
          ],
          "font": {
           "color": "#2a3f5f"
          },
          "geo": {
           "bgcolor": "white",
           "lakecolor": "white",
           "landcolor": "#E5ECF6",
           "showlakes": true,
           "showland": true,
           "subunitcolor": "white"
          },
          "hoverlabel": {
           "align": "left"
          },
          "hovermode": "closest",
          "mapbox": {
           "style": "light"
          },
          "paper_bgcolor": "white",
          "plot_bgcolor": "#E5ECF6",
          "polar": {
           "angularaxis": {
            "gridcolor": "white",
            "linecolor": "white",
            "ticks": ""
           },
           "bgcolor": "#E5ECF6",
           "radialaxis": {
            "gridcolor": "white",
            "linecolor": "white",
            "ticks": ""
           }
          },
          "scene": {
           "xaxis": {
            "backgroundcolor": "#E5ECF6",
            "gridcolor": "white",
            "gridwidth": 2,
            "linecolor": "white",
            "showbackground": true,
            "ticks": "",
            "zerolinecolor": "white"
           },
           "yaxis": {
            "backgroundcolor": "#E5ECF6",
            "gridcolor": "white",
            "gridwidth": 2,
            "linecolor": "white",
            "showbackground": true,
            "ticks": "",
            "zerolinecolor": "white"
           },
           "zaxis": {
            "backgroundcolor": "#E5ECF6",
            "gridcolor": "white",
            "gridwidth": 2,
            "linecolor": "white",
            "showbackground": true,
            "ticks": "",
            "zerolinecolor": "white"
           }
          },
          "shapedefaults": {
           "line": {
            "color": "#2a3f5f"
           }
          },
          "ternary": {
           "aaxis": {
            "gridcolor": "white",
            "linecolor": "white",
            "ticks": ""
           },
           "baxis": {
            "gridcolor": "white",
            "linecolor": "white",
            "ticks": ""
           },
           "bgcolor": "#E5ECF6",
           "caxis": {
            "gridcolor": "white",
            "linecolor": "white",
            "ticks": ""
           }
          },
          "title": {
           "x": 0.05
          },
          "xaxis": {
           "automargin": true,
           "gridcolor": "white",
           "linecolor": "white",
           "ticks": "",
           "title": {
            "standoff": 15
           },
           "zerolinecolor": "white",
           "zerolinewidth": 2
          },
          "yaxis": {
           "automargin": true,
           "gridcolor": "white",
           "linecolor": "white",
           "ticks": "",
           "title": {
            "standoff": 15
           },
           "zerolinecolor": "white",
           "zerolinewidth": 2
          }
         }
        },
        "title": {
         "text": "GANTT Chart"
        },
        "xaxis": {
         "range": [
          "1970-01-01T00:38:12",
          "1970-01-01T19:34:42"
         ],
         "title": {
          "font": {
           "color": "#7f7f7f",
           "family": "Courier New, monospace",
           "size": 18
          },
          "text": "Time"
         }
        },
        "yaxis": {
         "title": {
          "font": {
           "color": "#7f7f7f",
           "family": "Courier New, monospace",
           "size": 18
          },
          "text": "Activities"
         }
        }
       }
      },
      "text/html": [
       "<div>                            <div id=\"c29d3de9-feb0-4fa0-9211-d6dfddb1ed42\" class=\"plotly-graph-div\" style=\"height:525px; width:100%;\"></div>            <script type=\"text/javascript\">                require([\"plotly\"], function(Plotly) {                    window.PLOTLYENV=window.PLOTLYENV || {};                                    if (document.getElementById(\"c29d3de9-feb0-4fa0-9211-d6dfddb1ed42\")) {                    Plotly.newPlot(                        \"c29d3de9-feb0-4fa0-9211-d6dfddb1ed42\",                        [{\"connectgaps\":false,\"hoverinfo\":\"y+name\",\"line\":{\"color\":\"rgb(77,25,41)\",\"width\":10},\"mode\":\"lines\",\"name\":\"loading:Carrier A\",\"x\":[\"1970-01-01T01:53:12\",\"1970-01-01T01:53:12\",\"1970-01-01T02:34:52\",\"1970-01-01T02:34:52\",\"1970-01-01T02:34:52\",\"1970-01-01T04:37:37\",\"1970-01-01T04:37:37\",\"1970-01-01T05:19:17\",\"1970-01-01T05:19:17\",\"1970-01-01T05:19:17\",\"1970-01-01T07:22:02\",\"1970-01-01T07:22:02\",\"1970-01-01T08:03:42\",\"1970-01-01T08:03:42\",\"1970-01-01T08:03:42\",\"1970-01-01T10:06:27\",\"1970-01-01T10:06:27\",\"1970-01-01T10:48:07\",\"1970-01-01T10:48:07\",\"1970-01-01T10:48:07\",\"1970-01-01T12:50:52\",\"1970-01-01T12:50:52\",\"1970-01-01T13:32:32\",\"1970-01-01T13:32:32\",\"1970-01-01T13:32:32\",\"1970-01-01T15:35:17\",\"1970-01-01T15:35:17\",\"1970-01-01T16:16:57\",\"1970-01-01T16:16:57\",\"1970-01-01T16:16:57\",\"1970-01-01T18:19:42\",\"1970-01-01T18:19:42\",\"1970-01-01T19:01:22\",\"1970-01-01T19:01:22\",\"1970-01-01T19:01:22\"],\"y\":[\"loading:Carrier A\",\"loading:Carrier A\",\"loading:Carrier A\",\"loading:Carrier A\",null,\"loading:Carrier A\",\"loading:Carrier A\",\"loading:Carrier A\",\"loading:Carrier A\",null,\"loading:Carrier A\",\"loading:Carrier A\",\"loading:Carrier A\",\"loading:Carrier A\",null,\"loading:Carrier A\",\"loading:Carrier A\",\"loading:Carrier A\",\"loading:Carrier A\",null,\"loading:Carrier A\",\"loading:Carrier A\",\"loading:Carrier A\",\"loading:Carrier A\",null,\"loading:Carrier A\",\"loading:Carrier A\",\"loading:Carrier A\",\"loading:Carrier A\",null,\"loading:Carrier A\",\"loading:Carrier A\",\"loading:Carrier A\",\"loading:Carrier A\",null],\"type\":\"scatter\"},{\"connectgaps\":false,\"hoverinfo\":\"y+name\",\"line\":{\"color\":\"rgb(162,110,126)\",\"width\":10},\"mode\":\"lines\",\"name\":\"loading:Carrier B\",\"x\":[\"1970-01-01T01:11:32\",\"1970-01-01T01:11:32\",\"1970-01-01T01:53:12\",\"1970-01-01T01:53:12\",\"1970-01-01T01:53:12\",\"1970-01-01T03:53:21\",\"1970-01-01T03:53:21\",\"1970-01-01T04:35:01\",\"1970-01-01T04:35:01\",\"1970-01-01T04:35:01\",\"1970-01-01T06:35:10\",\"1970-01-01T06:35:10\",\"1970-01-01T07:16:50\",\"1970-01-01T07:16:50\",\"1970-01-01T07:16:50\",\"1970-01-01T09:16:59\",\"1970-01-01T09:16:59\",\"1970-01-01T09:58:39\",\"1970-01-01T09:58:39\",\"1970-01-01T09:58:39\",\"1970-01-01T11:58:48\",\"1970-01-01T11:58:48\",\"1970-01-01T12:40:28\",\"1970-01-01T12:40:28\",\"1970-01-01T12:40:28\",\"1970-01-01T14:40:37\",\"1970-01-01T14:40:37\",\"1970-01-01T15:22:17\",\"1970-01-01T15:22:17\",\"1970-01-01T15:22:17\",\"1970-01-01T17:22:26\",\"1970-01-01T17:22:26\",\"1970-01-01T18:04:06\",\"1970-01-01T18:04:06\",\"1970-01-01T18:04:06\"],\"y\":[\"loading:Carrier B\",\"loading:Carrier B\",\"loading:Carrier B\",\"loading:Carrier B\",null,\"loading:Carrier B\",\"loading:Carrier B\",\"loading:Carrier B\",\"loading:Carrier B\",null,\"loading:Carrier B\",\"loading:Carrier B\",\"loading:Carrier B\",\"loading:Carrier B\",null,\"loading:Carrier B\",\"loading:Carrier B\",\"loading:Carrier B\",\"loading:Carrier B\",null,\"loading:Carrier B\",\"loading:Carrier B\",\"loading:Carrier B\",\"loading:Carrier B\",null,\"loading:Carrier B\",\"loading:Carrier B\",\"loading:Carrier B\",\"loading:Carrier B\",null,\"loading:Carrier B\",\"loading:Carrier B\",\"loading:Carrier B\",\"loading:Carrier B\",null],\"type\":\"scatter\"},{\"connectgaps\":false,\"hoverinfo\":\"y+name\",\"line\":{\"color\":\"rgb(247,195,211)\",\"width\":10},\"mode\":\"lines\",\"name\":\"loading:Carrier C\",\"x\":[\"1970-01-01T00:38:12\",\"1970-01-01T00:38:12\",\"1970-01-01T01:11:32\",\"1970-01-01T01:11:32\",\"1970-01-01T01:11:32\",\"1970-01-01T03:06:08\",\"1970-01-01T03:06:08\",\"1970-01-01T03:39:28\",\"1970-01-01T03:39:28\",\"1970-01-01T03:39:28\",\"1970-01-01T05:34:04\",\"1970-01-01T05:34:04\",\"1970-01-01T06:07:24\",\"1970-01-01T06:07:24\",\"1970-01-01T06:07:24\",\"1970-01-01T08:03:42\",\"1970-01-01T08:03:42\",\"1970-01-01T08:37:02\",\"1970-01-01T08:37:02\",\"1970-01-01T08:37:02\",\"1970-01-01T10:48:07\",\"1970-01-01T10:48:07\",\"1970-01-01T11:21:27\",\"1970-01-01T11:21:27\",\"1970-01-01T11:21:27\",\"1970-01-01T13:32:32\",\"1970-01-01T13:32:32\",\"1970-01-01T14:05:52\",\"1970-01-01T14:05:52\",\"1970-01-01T14:05:52\",\"1970-01-01T16:16:57\",\"1970-01-01T16:16:57\",\"1970-01-01T16:50:17\",\"1970-01-01T16:50:17\",\"1970-01-01T16:50:17\",\"1970-01-01T19:01:22\",\"1970-01-01T19:01:22\",\"1970-01-01T19:34:42\",\"1970-01-01T19:34:42\",\"1970-01-01T19:34:42\"],\"y\":[\"loading:Carrier C\",\"loading:Carrier C\",\"loading:Carrier C\",\"loading:Carrier C\",null,\"loading:Carrier C\",\"loading:Carrier C\",\"loading:Carrier C\",\"loading:Carrier C\",null,\"loading:Carrier C\",\"loading:Carrier C\",\"loading:Carrier C\",\"loading:Carrier C\",null,\"loading:Carrier C\",\"loading:Carrier C\",\"loading:Carrier C\",\"loading:Carrier C\",null,\"loading:Carrier C\",\"loading:Carrier C\",\"loading:Carrier C\",\"loading:Carrier C\",null,\"loading:Carrier C\",\"loading:Carrier C\",\"loading:Carrier C\",\"loading:Carrier C\",null,\"loading:Carrier C\",\"loading:Carrier C\",\"loading:Carrier C\",\"loading:Carrier C\",null,\"loading:Carrier C\",\"loading:Carrier C\",\"loading:Carrier C\",\"loading:Carrier C\",null],\"type\":\"scatter\"}],                        {\"hovermode\":\"closest\",\"legend\":{\"orientation\":\"h\",\"x\":0,\"y\":-0.2},\"template\":{\"data\":{\"barpolar\":[{\"marker\":{\"line\":{\"color\":\"#E5ECF6\",\"width\":0.5},\"pattern\":{\"fillmode\":\"overlay\",\"size\":10,\"solidity\":0.2}},\"type\":\"barpolar\"}],\"bar\":[{\"error_x\":{\"color\":\"#2a3f5f\"},\"error_y\":{\"color\":\"#2a3f5f\"},\"marker\":{\"line\":{\"color\":\"#E5ECF6\",\"width\":0.5},\"pattern\":{\"fillmode\":\"overlay\",\"size\":10,\"solidity\":0.2}},\"type\":\"bar\"}],\"carpet\":[{\"aaxis\":{\"endlinecolor\":\"#2a3f5f\",\"gridcolor\":\"white\",\"linecolor\":\"white\",\"minorgridcolor\":\"white\",\"startlinecolor\":\"#2a3f5f\"},\"baxis\":{\"endlinecolor\":\"#2a3f5f\",\"gridcolor\":\"white\",\"linecolor\":\"white\",\"minorgridcolor\":\"white\",\"startlinecolor\":\"#2a3f5f\"},\"type\":\"carpet\"}],\"choropleth\":[{\"colorbar\":{\"outlinewidth\":0,\"ticks\":\"\"},\"type\":\"choropleth\"}],\"contourcarpet\":[{\"colorbar\":{\"outlinewidth\":0,\"ticks\":\"\"},\"type\":\"contourcarpet\"}],\"contour\":[{\"colorbar\":{\"outlinewidth\":0,\"ticks\":\"\"},\"colorscale\":[[0.0,\"#0d0887\"],[0.1111111111111111,\"#46039f\"],[0.2222222222222222,\"#7201a8\"],[0.3333333333333333,\"#9c179e\"],[0.4444444444444444,\"#bd3786\"],[0.5555555555555556,\"#d8576b\"],[0.6666666666666666,\"#ed7953\"],[0.7777777777777778,\"#fb9f3a\"],[0.8888888888888888,\"#fdca26\"],[1.0,\"#f0f921\"]],\"type\":\"contour\"}],\"heatmapgl\":[{\"colorbar\":{\"outlinewidth\":0,\"ticks\":\"\"},\"colorscale\":[[0.0,\"#0d0887\"],[0.1111111111111111,\"#46039f\"],[0.2222222222222222,\"#7201a8\"],[0.3333333333333333,\"#9c179e\"],[0.4444444444444444,\"#bd3786\"],[0.5555555555555556,\"#d8576b\"],[0.6666666666666666,\"#ed7953\"],[0.7777777777777778,\"#fb9f3a\"],[0.8888888888888888,\"#fdca26\"],[1.0,\"#f0f921\"]],\"type\":\"heatmapgl\"}],\"heatmap\":[{\"colorbar\":{\"outlinewidth\":0,\"ticks\":\"\"},\"colorscale\":[[0.0,\"#0d0887\"],[0.1111111111111111,\"#46039f\"],[0.2222222222222222,\"#7201a8\"],[0.3333333333333333,\"#9c179e\"],[0.4444444444444444,\"#bd3786\"],[0.5555555555555556,\"#d8576b\"],[0.6666666666666666,\"#ed7953\"],[0.7777777777777778,\"#fb9f3a\"],[0.8888888888888888,\"#fdca26\"],[1.0,\"#f0f921\"]],\"type\":\"heatmap\"}],\"histogram2dcontour\":[{\"colorbar\":{\"outlinewidth\":0,\"ticks\":\"\"},\"colorscale\":[[0.0,\"#0d0887\"],[0.1111111111111111,\"#46039f\"],[0.2222222222222222,\"#7201a8\"],[0.3333333333333333,\"#9c179e\"],[0.4444444444444444,\"#bd3786\"],[0.5555555555555556,\"#d8576b\"],[0.6666666666666666,\"#ed7953\"],[0.7777777777777778,\"#fb9f3a\"],[0.8888888888888888,\"#fdca26\"],[1.0,\"#f0f921\"]],\"type\":\"histogram2dcontour\"}],\"histogram2d\":[{\"colorbar\":{\"outlinewidth\":0,\"ticks\":\"\"},\"colorscale\":[[0.0,\"#0d0887\"],[0.1111111111111111,\"#46039f\"],[0.2222222222222222,\"#7201a8\"],[0.3333333333333333,\"#9c179e\"],[0.4444444444444444,\"#bd3786\"],[0.5555555555555556,\"#d8576b\"],[0.6666666666666666,\"#ed7953\"],[0.7777777777777778,\"#fb9f3a\"],[0.8888888888888888,\"#fdca26\"],[1.0,\"#f0f921\"]],\"type\":\"histogram2d\"}],\"histogram\":[{\"marker\":{\"pattern\":{\"fillmode\":\"overlay\",\"size\":10,\"solidity\":0.2}},\"type\":\"histogram\"}],\"mesh3d\":[{\"colorbar\":{\"outlinewidth\":0,\"ticks\":\"\"},\"type\":\"mesh3d\"}],\"parcoords\":[{\"line\":{\"colorbar\":{\"outlinewidth\":0,\"ticks\":\"\"}},\"type\":\"parcoords\"}],\"pie\":[{\"automargin\":true,\"type\":\"pie\"}],\"scatter3d\":[{\"line\":{\"colorbar\":{\"outlinewidth\":0,\"ticks\":\"\"}},\"marker\":{\"colorbar\":{\"outlinewidth\":0,\"ticks\":\"\"}},\"type\":\"scatter3d\"}],\"scattercarpet\":[{\"marker\":{\"colorbar\":{\"outlinewidth\":0,\"ticks\":\"\"}},\"type\":\"scattercarpet\"}],\"scattergeo\":[{\"marker\":{\"colorbar\":{\"outlinewidth\":0,\"ticks\":\"\"}},\"type\":\"scattergeo\"}],\"scattergl\":[{\"marker\":{\"colorbar\":{\"outlinewidth\":0,\"ticks\":\"\"}},\"type\":\"scattergl\"}],\"scattermapbox\":[{\"marker\":{\"colorbar\":{\"outlinewidth\":0,\"ticks\":\"\"}},\"type\":\"scattermapbox\"}],\"scatterpolargl\":[{\"marker\":{\"colorbar\":{\"outlinewidth\":0,\"ticks\":\"\"}},\"type\":\"scatterpolargl\"}],\"scatterpolar\":[{\"marker\":{\"colorbar\":{\"outlinewidth\":0,\"ticks\":\"\"}},\"type\":\"scatterpolar\"}],\"scatter\":[{\"fillpattern\":{\"fillmode\":\"overlay\",\"size\":10,\"solidity\":0.2},\"type\":\"scatter\"}],\"scatterternary\":[{\"marker\":{\"colorbar\":{\"outlinewidth\":0,\"ticks\":\"\"}},\"type\":\"scatterternary\"}],\"surface\":[{\"colorbar\":{\"outlinewidth\":0,\"ticks\":\"\"},\"colorscale\":[[0.0,\"#0d0887\"],[0.1111111111111111,\"#46039f\"],[0.2222222222222222,\"#7201a8\"],[0.3333333333333333,\"#9c179e\"],[0.4444444444444444,\"#bd3786\"],[0.5555555555555556,\"#d8576b\"],[0.6666666666666666,\"#ed7953\"],[0.7777777777777778,\"#fb9f3a\"],[0.8888888888888888,\"#fdca26\"],[1.0,\"#f0f921\"]],\"type\":\"surface\"}],\"table\":[{\"cells\":{\"fill\":{\"color\":\"#EBF0F8\"},\"line\":{\"color\":\"white\"}},\"header\":{\"fill\":{\"color\":\"#C8D4E3\"},\"line\":{\"color\":\"white\"}},\"type\":\"table\"}]},\"layout\":{\"annotationdefaults\":{\"arrowcolor\":\"#2a3f5f\",\"arrowhead\":0,\"arrowwidth\":1},\"autotypenumbers\":\"strict\",\"coloraxis\":{\"colorbar\":{\"outlinewidth\":0,\"ticks\":\"\"}},\"colorscale\":{\"diverging\":[[0,\"#8e0152\"],[0.1,\"#c51b7d\"],[0.2,\"#de77ae\"],[0.3,\"#f1b6da\"],[0.4,\"#fde0ef\"],[0.5,\"#f7f7f7\"],[0.6,\"#e6f5d0\"],[0.7,\"#b8e186\"],[0.8,\"#7fbc41\"],[0.9,\"#4d9221\"],[1,\"#276419\"]],\"sequential\":[[0.0,\"#0d0887\"],[0.1111111111111111,\"#46039f\"],[0.2222222222222222,\"#7201a8\"],[0.3333333333333333,\"#9c179e\"],[0.4444444444444444,\"#bd3786\"],[0.5555555555555556,\"#d8576b\"],[0.6666666666666666,\"#ed7953\"],[0.7777777777777778,\"#fb9f3a\"],[0.8888888888888888,\"#fdca26\"],[1.0,\"#f0f921\"]],\"sequentialminus\":[[0.0,\"#0d0887\"],[0.1111111111111111,\"#46039f\"],[0.2222222222222222,\"#7201a8\"],[0.3333333333333333,\"#9c179e\"],[0.4444444444444444,\"#bd3786\"],[0.5555555555555556,\"#d8576b\"],[0.6666666666666666,\"#ed7953\"],[0.7777777777777778,\"#fb9f3a\"],[0.8888888888888888,\"#fdca26\"],[1.0,\"#f0f921\"]]},\"colorway\":[\"#636efa\",\"#EF553B\",\"#00cc96\",\"#ab63fa\",\"#FFA15A\",\"#19d3f3\",\"#FF6692\",\"#B6E880\",\"#FF97FF\",\"#FECB52\"],\"font\":{\"color\":\"#2a3f5f\"},\"geo\":{\"bgcolor\":\"white\",\"lakecolor\":\"white\",\"landcolor\":\"#E5ECF6\",\"showlakes\":true,\"showland\":true,\"subunitcolor\":\"white\"},\"hoverlabel\":{\"align\":\"left\"},\"hovermode\":\"closest\",\"mapbox\":{\"style\":\"light\"},\"paper_bgcolor\":\"white\",\"plot_bgcolor\":\"#E5ECF6\",\"polar\":{\"angularaxis\":{\"gridcolor\":\"white\",\"linecolor\":\"white\",\"ticks\":\"\"},\"bgcolor\":\"#E5ECF6\",\"radialaxis\":{\"gridcolor\":\"white\",\"linecolor\":\"white\",\"ticks\":\"\"}},\"scene\":{\"xaxis\":{\"backgroundcolor\":\"#E5ECF6\",\"gridcolor\":\"white\",\"gridwidth\":2,\"linecolor\":\"white\",\"showbackground\":true,\"ticks\":\"\",\"zerolinecolor\":\"white\"},\"yaxis\":{\"backgroundcolor\":\"#E5ECF6\",\"gridcolor\":\"white\",\"gridwidth\":2,\"linecolor\":\"white\",\"showbackground\":true,\"ticks\":\"\",\"zerolinecolor\":\"white\"},\"zaxis\":{\"backgroundcolor\":\"#E5ECF6\",\"gridcolor\":\"white\",\"gridwidth\":2,\"linecolor\":\"white\",\"showbackground\":true,\"ticks\":\"\",\"zerolinecolor\":\"white\"}},\"shapedefaults\":{\"line\":{\"color\":\"#2a3f5f\"}},\"ternary\":{\"aaxis\":{\"gridcolor\":\"white\",\"linecolor\":\"white\",\"ticks\":\"\"},\"baxis\":{\"gridcolor\":\"white\",\"linecolor\":\"white\",\"ticks\":\"\"},\"bgcolor\":\"#E5ECF6\",\"caxis\":{\"gridcolor\":\"white\",\"linecolor\":\"white\",\"ticks\":\"\"}},\"title\":{\"x\":0.05},\"xaxis\":{\"automargin\":true,\"gridcolor\":\"white\",\"linecolor\":\"white\",\"ticks\":\"\",\"title\":{\"standoff\":15},\"zerolinecolor\":\"white\",\"zerolinewidth\":2},\"yaxis\":{\"automargin\":true,\"gridcolor\":\"white\",\"linecolor\":\"white\",\"ticks\":\"\",\"title\":{\"standoff\":15},\"zerolinecolor\":\"white\",\"zerolinewidth\":2}}},\"title\":{\"text\":\"GANTT Chart\"},\"xaxis\":{\"range\":[\"1970-01-01T00:38:12\",\"1970-01-01T19:34:42\"],\"title\":{\"font\":{\"color\":\"#7f7f7f\",\"family\":\"Courier New, monospace\",\"size\":18},\"text\":\"Time\"}},\"yaxis\":{\"title\":{\"font\":{\"color\":\"#7f7f7f\",\"family\":\"Courier New, monospace\",\"size\":18},\"text\":\"Activities\"}}},                        {\"responsive\": true}                    ).then(function(){\n",
       "                            \n",
       "var gd = document.getElementById('c29d3de9-feb0-4fa0-9211-d6dfddb1ed42');\n",
       "var x = new MutationObserver(function (mutations, observer) {{\n",
       "        var display = window.getComputedStyle(gd).display;\n",
       "        if (!display || display === 'none') {{\n",
       "            console.log([gd, 'removed!']);\n",
       "            Plotly.purge(gd);\n",
       "            observer.disconnect();\n",
       "        }}\n",
       "}});\n",
       "\n",
       "// Listen for the removal of the full notebook cells\n",
       "var notebookContainer = gd.closest('#notebook-container');\n",
       "if (notebookContainer) {{\n",
       "    x.observe(notebookContainer, {childList: true});\n",
       "}}\n",
       "\n",
       "// Listen for the clearing of the current output cell\n",
       "var outputEl = gd.closest('.output');\n",
       "if (outputEl) {{\n",
       "    x.observe(outputEl, {childList: true});\n",
       "}}\n",
       "\n",
       "                        })                };                });            </script>        </div>"
      ]
     },
     "metadata": {},
     "output_type": "display_data"
    }
   ],
   "source": [
    "flat = pd.DataFrame(flatten(activities))\n",
    "loading = list(flat[flat['ActivityName'].str.startswith('loading')]['activity'].values)\n",
    "fig = get_gantt_chart(loading)"
   ]
  },
  {
   "cell_type": "code",
   "execution_count": 9,
   "id": "406b5d85",
   "metadata": {},
   "outputs": [
    {
     "data": {
      "image/png": "[encoded data removed]",
      "text/plain": [
       "<Figure size 1400x700 with 1 Axes>"
      ]
     },
     "metadata": {},
     "output_type": "display_data"
    }
   ],
   "source": [
    "fig = get_step_chart([from_site, to_site, *vessels.values()])"
   ]
  },
  {
   "cell_type": "code",
   "execution_count": 10,
   "id": "075f63bf",
   "metadata": {},
   "outputs": [],
   "source": [
    "def occupancy_analysis(vessels, cutter_name, total_amount, vessel_cost):\n",
    "    \"\"\"Model specific calculation of vessel occupancy\"\"\"\n",
    "    \n",
    "    data = []\n",
    "    \n",
    "    for i, vessel_name in enumerate(vessels):\n",
    "        vessel = vessels[vessel_name]\n",
    "\n",
    "        log = get_ranges_dataframe(vessel)\n",
    "        \n",
    "        duration_theory = log.TimestampDt.sum().total_seconds()\n",
    "        \n",
    "        # We assume all vessels arrive JIT when they need to start,\n",
    "        # and leaves immediately when they are done (so different demob times)\n",
    "        # this is an overestimation of actual occupancy\n",
    "        \n",
    "        duration_actual = (log.TimestampStop.max() - log.TimestampStart.min()).total_seconds()\n",
    "        nr_trips = len(log.groupby('trip'))\n",
    "        \n",
    "        if vessel.name==cutter_name:\n",
    "            amount = total_amount\n",
    "        else:\n",
    "            amount = sum(log.groupby('trip')['ContainerLevelStop'].max())\n",
    "        \n",
    "        data.append({\n",
    "            'name':vessel.name, \n",
    "            '# trips':nr_trips, \n",
    "            'start': log.TimestampStart.min(),\n",
    "            'finish': log.TimestampStop.max(),\n",
    "            'amount sum': amount,\n",
    "            'duration actual': duration_actual,\n",
    "            'duration theory':duration_theory,\n",
    "            'cost actual':round(duration_actual*vessel_cost[vessel_name]/3600/24,0),\n",
    "            'production actual':(nr_trips * amount) / (duration_actual),\n",
    "            'production theory':(nr_trips * amount / (duration_theory)),\n",
    "        })\n",
    "\n",
    "    df = pd.DataFrame(data).sort_values(by=['production actual'],ascending=False)\n",
    "    df['occupancy [%]'] = [round(x,1) for x in 100*df['production actual']/df['production theory']]\n",
    "    df.set_index('name', inplace=True)\n",
    "    \n",
    "    # cutter does amount same as all barges\n",
    "    assert df['amount sum'].sum()-total_amount==total_amount, 'material imbalance'\n",
    "    \n",
    "    return df"
   ]
  },
  {
   "cell_type": "code",
   "execution_count": 11,
   "id": "78603c28",
   "metadata": {},
   "outputs": [
    {
     "data": {
      "text/html": [
       "<div>\n",
       "<style scoped>\n",
       "    .dataframe tbody tr th:only-of-type {\n",
       "        vertical-align: middle;\n",
       "    }\n",
       "\n",
       "    .dataframe tbody tr th {\n",
       "        vertical-align: top;\n",
       "    }\n",
       "\n",
       "    .dataframe thead th {\n",
       "        text-align: right;\n",
       "    }\n",
       "</style>\n",
       "<table border=\"1\" class=\"dataframe\">\n",
       "  <thead>\n",
       "    <tr style=\"text-align: right;\">\n",
       "      <th></th>\n",
       "      <th># trips</th>\n",
       "      <th>start</th>\n",
       "      <th>finish</th>\n",
       "      <th>amount sum</th>\n",
       "      <th>duration actual</th>\n",
       "      <th>duration theory</th>\n",
       "      <th>cost actual</th>\n",
       "      <th>production actual</th>\n",
       "      <th>production theory</th>\n",
       "      <th>occupancy [%]</th>\n",
       "    </tr>\n",
       "    <tr>\n",
       "      <th>name</th>\n",
       "      <th></th>\n",
       "      <th></th>\n",
       "      <th></th>\n",
       "      <th></th>\n",
       "      <th></th>\n",
       "      <th></th>\n",
       "      <th></th>\n",
       "      <th></th>\n",
       "      <th></th>\n",
       "      <th></th>\n",
       "    </tr>\n",
       "  </thead>\n",
       "  <tbody>\n",
       "    <tr>\n",
       "      <th>Carrier A</th>\n",
       "      <td>7</td>\n",
       "      <td>1970-01-01 00:00:00</td>\n",
       "      <td>1970-01-01 20:23:12</td>\n",
       "      <td>35.0</td>\n",
       "      <td>73392.0</td>\n",
       "      <td>69055.0</td>\n",
       "      <td>5097.0</td>\n",
       "      <td>0.003338</td>\n",
       "      <td>0.003548</td>\n",
       "      <td>94.1</td>\n",
       "    </tr>\n",
       "    <tr>\n",
       "      <th>Carrier B</th>\n",
       "      <td>7</td>\n",
       "      <td>1970-01-01 00:00:00</td>\n",
       "      <td>1970-01-01 19:24:12</td>\n",
       "      <td>35.0</td>\n",
       "      <td>69852.0</td>\n",
       "      <td>67963.0</td>\n",
       "      <td>4851.0</td>\n",
       "      <td>0.003507</td>\n",
       "      <td>0.003605</td>\n",
       "      <td>97.3</td>\n",
       "    </tr>\n",
       "    <tr>\n",
       "      <th>Carrier C</th>\n",
       "      <td>8</td>\n",
       "      <td>1970-01-01 00:00:00</td>\n",
       "      <td>1970-01-01 20:51:06</td>\n",
       "      <td>30.0</td>\n",
       "      <td>75066.0</td>\n",
       "      <td>71008.0</td>\n",
       "      <td>5213.0</td>\n",
       "      <td>0.003197</td>\n",
       "      <td>0.003380</td>\n",
       "      <td>94.6</td>\n",
       "    </tr>\n",
       "    <tr>\n",
       "      <th>Cutter T</th>\n",
       "      <td>8</td>\n",
       "      <td>1970-01-01 00:38:12</td>\n",
       "      <td>1970-01-01 19:34:42</td>\n",
       "      <td>100.0</td>\n",
       "      <td>68190.0</td>\n",
       "      <td>51000.0</td>\n",
       "      <td>19731.0</td>\n",
       "      <td>0.011732</td>\n",
       "      <td>0.015686</td>\n",
       "      <td>74.8</td>\n",
       "    </tr>\n",
       "  </tbody>\n",
       "</table>\n",
       "</div>"
      ],
      "text/plain": [
       "           # trips               start              finish  amount sum  \\\n",
       "name                                                                     \n",
       "Carrier A        7 1970-01-01 00:00:00 1970-01-01 20:23:12        35.0   \n",
       "Carrier B        7 1970-01-01 00:00:00 1970-01-01 19:24:12        35.0   \n",
       "Carrier C        8 1970-01-01 00:00:00 1970-01-01 20:51:06        30.0   \n",
       "Cutter T         8 1970-01-01 00:38:12 1970-01-01 19:34:42       100.0   \n",
       "\n",
       "           duration actual  duration theory  cost actual  production actual  \\\n",
       "name                                                                          \n",
       "Carrier A          73392.0          69055.0       5097.0           0.003338   \n",
       "Carrier B          69852.0          67963.0       4851.0           0.003507   \n",
       "Carrier C          75066.0          71008.0       5213.0           0.003197   \n",
       "Cutter T           68190.0          51000.0      19731.0           0.011732   \n",
       "\n",
       "           production theory  occupancy [%]  \n",
       "name                                         \n",
       "Carrier A           0.003548           94.1  \n",
       "Carrier B           0.003605           97.3  \n",
       "Carrier C           0.003380           94.6  \n",
       "Cutter T            0.015686           74.8  "
      ]
     },
     "execution_count": 11,
     "metadata": {},
     "output_type": "execute_result"
    }
   ],
   "source": [
    "occupancy_analysis(vessels, cutter_name, total_amount, vessel_cost).sort_values(by=[\"name\"])"
   ]
  },
  {
   "cell_type": "markdown",
   "id": "4e7485d8",
   "metadata": {},
   "source": [
    "# Compare multiple barge scenarios"
   ]
  },
  {
   "cell_type": "code",
   "execution_count": 12,
   "id": "eeb88b8d",
   "metadata": {},
   "outputs": [
    {
     "data": {
      "text/html": [
       "<div>\n",
       "<style scoped>\n",
       "    .dataframe tbody tr th:only-of-type {\n",
       "        vertical-align: middle;\n",
       "    }\n",
       "\n",
       "    .dataframe tbody tr th {\n",
       "        vertical-align: top;\n",
       "    }\n",
       "\n",
       "    .dataframe thead th {\n",
       "        text-align: right;\n",
       "    }\n",
       "</style>\n",
       "<table border=\"1\" class=\"dataframe\">\n",
       "  <thead>\n",
       "    <tr style=\"text-align: right;\">\n",
       "      <th></th>\n",
       "      <th># barges</th>\n",
       "      <th>cutter occupancy</th>\n",
       "      <th>total cost</th>\n",
       "      <th>total duration</th>\n",
       "    </tr>\n",
       "  </thead>\n",
       "  <tbody>\n",
       "    <tr>\n",
       "      <th>0</th>\n",
       "      <td>2</td>\n",
       "      <td>50.5</td>\n",
       "      <td>43032.0</td>\n",
       "      <td>1.236447</td>\n",
       "    </tr>\n",
       "    <tr>\n",
       "      <th>1</th>\n",
       "      <td>3</td>\n",
       "      <td>74.6</td>\n",
       "      <td>34145.0</td>\n",
       "      <td>0.844977</td>\n",
       "    </tr>\n",
       "    <tr>\n",
       "      <th>2</th>\n",
       "      <td>4</td>\n",
       "      <td>88.2</td>\n",
       "      <td>32418.0</td>\n",
       "      <td>0.742593</td>\n",
       "    </tr>\n",
       "    <tr>\n",
       "      <th>3</th>\n",
       "      <td>5</td>\n",
       "      <td>97.9</td>\n",
       "      <td>32630.0</td>\n",
       "      <td>0.685810</td>\n",
       "    </tr>\n",
       "    <tr>\n",
       "      <th>4</th>\n",
       "      <td>6</td>\n",
       "      <td>100.0</td>\n",
       "      <td>35108.0</td>\n",
       "      <td>0.665891</td>\n",
       "    </tr>\n",
       "    <tr>\n",
       "      <th>5</th>\n",
       "      <td>7</td>\n",
       "      <td>100.0</td>\n",
       "      <td>35698.0</td>\n",
       "      <td>0.649051</td>\n",
       "    </tr>\n",
       "    <tr>\n",
       "      <th>6</th>\n",
       "      <td>8</td>\n",
       "      <td>100.0</td>\n",
       "      <td>38591.0</td>\n",
       "      <td>0.676238</td>\n",
       "    </tr>\n",
       "  </tbody>\n",
       "</table>\n",
       "</div>"
      ],
      "text/plain": [
       "   # barges  cutter occupancy  total cost  total duration\n",
       "0         2              50.5     43032.0        1.236447\n",
       "1         3              74.6     34145.0        0.844977\n",
       "2         4              88.2     32418.0        0.742593\n",
       "3         5              97.9     32630.0        0.685810\n",
       "4         6             100.0     35108.0        0.665891\n",
       "5         7             100.0     35698.0        0.649051\n",
       "6         8             100.0     38591.0        0.676238"
      ]
     },
     "execution_count": 12,
     "metadata": {},
     "output_type": "execute_result"
    }
   ],
   "source": [
    "results = []\n",
    "occupancy = []\n",
    "cost = []\n",
    "duration = []\n",
    "\n",
    "n_barges = range(2,len(barge_names)) # +1 at least 1 barge\n",
    "for i in n_barges:\n",
    "    results.append(run(i,total_amount))\n",
    "    \n",
    "    vessels = results[-1]['vessels']\n",
    "    activities = results[-1]['activities']\n",
    "    sites = results[-1]['sites']\n",
    "    \n",
    "    cutter = vessels[cutter_name]\n",
    "    \n",
    "    df = occupancy_analysis(vessels, cutter_name, total_amount, vessel_cost)\n",
    "    occupancy.append(df.loc[cutter_name]['occupancy [%]'])\n",
    "    cost.append(df['cost actual'].sum())\n",
    "    duration.append((df['finish'].max() - df['start'].min()).total_seconds()/3600/24)\n",
    "    #     display(df)\n",
    "    \n",
    "scenarios = {'# barges':n_barges,\n",
    "             'cutter occupancy':occupancy,\n",
    "             'total cost':cost,\n",
    "             'total duration':duration}\n",
    "scenarios = pd.DataFrame.from_dict(scenarios)\n",
    "scenarios"
   ]
  },
  {
   "cell_type": "code",
   "execution_count": 13,
   "id": "9e7f3cf4",
   "metadata": {},
   "outputs": [
    {
     "data": {
      "image/png": "[encoded data removed]",
      "text/plain": [
       "<Figure size 640x480 with 3 Axes>"
      ]
     },
     "metadata": {},
     "output_type": "display_data"
    }
   ],
   "source": [
    "# plot 3 optimization criteria: cost, duration, occupancy (1/flexibility)\n",
    "%matplotlib inline\n",
    "import matplotlib.pyplot as plt\n",
    "\n",
    "fig = plt.figure()\n",
    "gs = fig.add_gridspec(3, hspace=0)\n",
    "axs = gs.subplots(sharex=True)\n",
    "\n",
    "\n",
    "axs[0].plot(scenarios['# barges'],scenarios['total cost'],'.-'), axs[0].set_ylabel('# cost [EUR]'),axs[0].grid();\n",
    "# axs[0].set_xlabel('# barges');\n",
    "\n",
    "axs[1].plot(scenarios['# barges'],scenarios['cutter occupancy'],'.-'), axs[1].set_ylabel('cutter occupancy [%]'),axs[1].grid();\n",
    "# axs[1].set_xlabel('# barges');\n",
    "axs[1].yaxis.set_label_position(\"right\")\n",
    "axs[1].yaxis.tick_right()\n",
    "\n",
    "axs[2].plot(scenarios['# barges'],scenarios['total duration'],'.-'), axs[2].set_ylabel('# time [days]'),axs[2].grid();\n",
    "\n",
    "axs[-1].set_xlabel('# barges');"
   ]
  },
  {
   "cell_type": "code",
   "execution_count": 15,
   "id": "88c1391e",
   "metadata": {},
   "outputs": [],
   "source": [
    "# choose 1 scenario for further analysis and export\n",
    "# many barges: close to 100% cutter config, small cost, fast delivery.\n",
    "scenario_index = 2"
   ]
  },
  {
   "cell_type": "markdown",
   "id": "9d132a51",
   "metadata": {},
   "source": [
    "# Visualize critical path of chosen optimal scenario"
   ]
  },
  {
   "cell_type": "markdown",
   "id": "70e77f68",
   "metadata": {},
   "source": [
    "For explanation of Critical Path see notebook 30"
   ]
  },
  {
   "cell_type": "code",
   "execution_count": 16,
   "id": "0f21208b",
   "metadata": {},
   "outputs": [],
   "source": [
    "from openclsim.plot.critical_path import CpLog"
   ]
  },
  {
   "cell_type": "code",
   "execution_count": 17,
   "id": "63db1761",
   "metadata": {},
   "outputs": [
    {
     "data": {
      "text/html": [
       "        <script type=\"text/javascript\">\n",
       "        window.PlotlyConfig = {MathJaxConfig: 'local'};\n",
       "        if (window.MathJax && window.MathJax.Hub && window.MathJax.Hub.Config) {window.MathJax.Hub.Config({SVG: {font: \"STIX-Web\"}});}\n",
       "        if (typeof require !== 'undefined') {\n",
       "        require.undef(\"plotly\");\n",
       "        requirejs.config({\n",
       "            paths: {\n",
       "                'plotly': ['https://cdn.plot.ly/plotly-2.18.2.min']\n",
       "            }\n",
       "        });\n",
       "        require(['plotly'], function(Plotly) {\n",
       "            window._Plotly = Plotly;\n",
       "        });\n",
       "        }\n",
       "        </script>\n",
       "        "
      ]
     },
     "metadata": {},
     "output_type": "display_data"
    },
    {
     "data": {
      "application/vnd.plotly.v1+json": {
       "config": {
        "linkText": "Export to plot.ly",
        "plotlyServerURL": "https://plot.ly",
        "showLink": false
       },
       "data": [
        {
         "connectgaps": false,
         "hoverinfo": "name",
         "line": {
          "color": "red",
          "width": 14
         },
         "mode": "lines",
         "name": "critical_path",
         "type": "scatter",
         "x": [
          "1970-01-01T00:00:00",
          "1970-01-01T00:40:32",
          "1970-01-01T00:40:32",
          "1970-01-01T00:40:32",
          "1970-01-01T01:22:12",
          "1970-01-01T01:22:12",
          "1970-01-01T00:40:32",
          "1970-01-01T01:22:12",
          "1970-01-01T01:22:12",
          "1970-01-01T00:40:32",
          "1970-01-01T01:22:12",
          "1970-01-01T01:22:12",
          "1970-01-01T01:22:12",
          "1970-01-01T02:03:52",
          "1970-01-01T02:03:52",
          "1970-01-01T01:22:12",
          "1970-01-01T02:03:52",
          "1970-01-01T02:03:52",
          "1970-01-01T01:22:12",
          "1970-01-01T02:03:52",
          "1970-01-01T02:03:52",
          "1970-01-01T02:03:52",
          "1970-01-01T02:37:12",
          "1970-01-01T02:37:12",
          "1970-01-01T02:03:52",
          "1970-01-01T02:37:12",
          "1970-01-01T02:37:12",
          "1970-01-01T02:03:52",
          "1970-01-01T02:37:12",
          "1970-01-01T02:37:12",
          "1970-01-01T02:37:12",
          "1970-01-01T03:10:32",
          "1970-01-01T03:10:32",
          "1970-01-01T02:37:12",
          "1970-01-01T03:10:32",
          "1970-01-01T03:10:32",
          "1970-01-01T02:37:12",
          "1970-01-01T03:10:32",
          "1970-01-01T03:10:32",
          "1970-01-01T03:10:32",
          "1970-01-01T03:58:45",
          "1970-01-01T03:58:45",
          "1970-01-01T03:58:45",
          "1970-01-01T04:46:58",
          "1970-01-01T04:46:58",
          "1970-01-01T03:58:45",
          "1970-01-01T04:46:58",
          "1970-01-01T04:46:58",
          "1970-01-01T04:46:58",
          "1970-01-01T05:35:11",
          "1970-01-01T05:35:11",
          "1970-01-01T05:35:11",
          "1970-01-01T06:08:31",
          "1970-01-01T06:08:31",
          "1970-01-01T05:35:11",
          "1970-01-01T06:08:31",
          "1970-01-01T06:08:31",
          "1970-01-01T05:35:11",
          "1970-01-01T06:08:31",
          "1970-01-01T06:08:31",
          "1970-01-01T06:08:31",
          "1970-01-01T06:56:44",
          "1970-01-01T06:56:44",
          "1970-01-01T06:56:44",
          "1970-01-01T07:44:57",
          "1970-01-01T07:44:57",
          "1970-01-01T06:56:44",
          "1970-01-01T07:44:57",
          "1970-01-01T07:44:57",
          "1970-01-01T07:44:57",
          "1970-01-01T08:33:10",
          "1970-01-01T08:33:10",
          "1970-01-01T08:33:10",
          "1970-01-01T09:06:30",
          "1970-01-01T09:06:30",
          "1970-01-01T08:33:10",
          "1970-01-01T09:06:30",
          "1970-01-01T09:06:30",
          "1970-01-01T08:33:10",
          "1970-01-01T09:06:30",
          "1970-01-01T09:06:30",
          "1970-01-01T09:06:30",
          "1970-01-01T09:54:43",
          "1970-01-01T09:54:43",
          "1970-01-01T09:54:43",
          "1970-01-01T10:42:56",
          "1970-01-01T10:42:56",
          "1970-01-01T09:54:43",
          "1970-01-01T10:42:56",
          "1970-01-01T10:42:56",
          "1970-01-01T10:42:56",
          "1970-01-01T11:31:09",
          "1970-01-01T11:31:09",
          "1970-01-01T11:31:09",
          "1970-01-01T12:04:29",
          "1970-01-01T12:04:29",
          "1970-01-01T11:31:09",
          "1970-01-01T12:04:29",
          "1970-01-01T12:04:29",
          "1970-01-01T11:31:09",
          "1970-01-01T12:04:29",
          "1970-01-01T12:04:29",
          "1970-01-01T12:04:29",
          "1970-01-01T12:52:42",
          "1970-01-01T12:52:42",
          "1970-01-01T12:52:42",
          "1970-01-01T13:40:55",
          "1970-01-01T13:40:55",
          "1970-01-01T12:52:42",
          "1970-01-01T13:40:55",
          "1970-01-01T13:40:55",
          "1970-01-01T13:40:55",
          "1970-01-01T14:29:08",
          "1970-01-01T14:29:08",
          "1970-01-01T14:29:08",
          "1970-01-01T15:02:28",
          "1970-01-01T15:02:28",
          "1970-01-01T14:29:08",
          "1970-01-01T15:02:28",
          "1970-01-01T15:02:28",
          "1970-01-01T14:29:08",
          "1970-01-01T15:02:28",
          "1970-01-01T15:02:28",
          "1970-01-01T15:02:28",
          "1970-01-01T15:44:08",
          "1970-01-01T15:44:08",
          "1970-01-01T15:02:28",
          "1970-01-01T15:44:08",
          "1970-01-01T15:44:08",
          "1970-01-01T15:02:28",
          "1970-01-01T15:44:08",
          "1970-01-01T15:44:08",
          "1970-01-01T15:44:08",
          "1970-01-01T16:25:48",
          "1970-01-01T16:25:48",
          "1970-01-01T15:44:08",
          "1970-01-01T16:25:48",
          "1970-01-01T16:25:48",
          "1970-01-01T15:44:08",
          "1970-01-01T16:25:48",
          "1970-01-01T16:25:48",
          "1970-01-01T16:25:48",
          "1970-01-01T17:07:34",
          "1970-01-01T17:07:34",
          "1970-01-01T17:07:34",
          "1970-01-01T17:49:20",
          "1970-01-01T17:49:20",
          "1970-01-01T17:07:34",
          "1970-01-01T17:49:20",
          "1970-01-01T17:49:20"
         ],
         "y": [
          "Carrier A",
          "Carrier A",
          null,
          "Carrier A",
          "Carrier A",
          null,
          "Cutter T",
          "Cutter T",
          null,
          "Trench",
          "Trench",
          null,
          "Barge I",
          "Barge I",
          null,
          "Cutter T",
          "Cutter T",
          null,
          "Trench",
          "Trench",
          null,
          "Carrier C",
          "Carrier C",
          null,
          "Cutter T",
          "Cutter T",
          null,
          "Trench",
          "Trench",
          null,
          "Carrier B",
          "Carrier B",
          null,
          "Cutter T",
          "Cutter T",
          null,
          "Trench",
          "Trench",
          null,
          "Carrier B",
          "Carrier B",
          null,
          "Carrier B",
          "Carrier B",
          null,
          "Reclamation",
          "Reclamation",
          null,
          "Carrier B",
          "Carrier B",
          null,
          "Carrier B",
          "Carrier B",
          null,
          "Cutter T",
          "Cutter T",
          null,
          "Trench",
          "Trench",
          null,
          "Carrier B",
          "Carrier B",
          null,
          "Carrier B",
          "Carrier B",
          null,
          "Reclamation",
          "Reclamation",
          null,
          "Carrier B",
          "Carrier B",
          null,
          "Carrier B",
          "Carrier B",
          null,
          "Cutter T",
          "Cutter T",
          null,
          "Trench",
          "Trench",
          null,
          "Carrier B",
          "Carrier B",
          null,
          "Carrier B",
          "Carrier B",
          null,
          "Reclamation",
          "Reclamation",
          null,
          "Carrier B",
          "Carrier B",
          null,
          "Carrier B",
          "Carrier B",
          null,
          "Cutter T",
          "Cutter T",
          null,
          "Trench",
          "Trench",
          null,
          "Carrier B",
          "Carrier B",
          null,
          "Carrier B",
          "Carrier B",
          null,
          "Reclamation",
          "Reclamation",
          null,
          "Carrier B",
          "Carrier B",
          null,
          "Carrier B",
          "Carrier B",
          null,
          "Cutter T",
          "Cutter T",
          null,
          "Trench",
          "Trench",
          null,
          "Carrier A",
          "Carrier A",
          null,
          "Cutter T",
          "Cutter T",
          null,
          "Trench",
          "Trench",
          null,
          "Barge I",
          "Barge I",
          null,
          "Cutter T",
          "Cutter T",
          null,
          "Trench",
          "Trench",
          null,
          "Barge I",
          "Barge I",
          null,
          "Barge I",
          "Barge I",
          null,
          "Reclamation",
          "Reclamation",
          null
         ]
        },
        {
         "connectgaps": false,
         "hoverinfo": "y+name",
         "line": {
          "color": "rgb(199,196,22)",
          "width": 10
         },
         "mode": "lines",
         "name": "loading:Carrier A",
         "type": "scatter",
         "x": [
          "1970-01-01T00:40:32",
          "1970-01-01T00:40:32",
          "1970-01-01T01:22:12",
          "1970-01-01T01:22:12",
          "1970-01-01T01:22:12",
          "1970-01-01T03:23:48",
          "1970-01-01T03:23:48",
          "1970-01-01T04:05:28",
          "1970-01-01T04:05:28",
          "1970-01-01T04:05:28",
          "1970-01-01T06:08:31",
          "1970-01-01T06:08:31",
          "1970-01-01T06:50:11",
          "1970-01-01T06:50:11",
          "1970-01-01T06:50:11",
          "1970-01-01T09:06:30",
          "1970-01-01T09:06:30",
          "1970-01-01T09:48:10",
          "1970-01-01T09:48:10",
          "1970-01-01T09:48:10",
          "1970-01-01T12:04:29",
          "1970-01-01T12:04:29",
          "1970-01-01T12:46:09",
          "1970-01-01T12:46:09",
          "1970-01-01T12:46:09",
          "1970-01-01T15:02:28",
          "1970-01-01T15:02:28",
          "1970-01-01T15:44:08",
          "1970-01-01T15:44:08",
          "1970-01-01T15:44:08",
          "1970-01-01T00:40:32",
          "1970-01-01T00:40:32",
          "1970-01-01T01:22:12",
          "1970-01-01T01:22:12",
          "1970-01-01T01:22:12",
          "1970-01-01T03:23:48",
          "1970-01-01T03:23:48",
          "1970-01-01T04:05:28",
          "1970-01-01T04:05:28",
          "1970-01-01T04:05:28",
          "1970-01-01T06:08:31",
          "1970-01-01T06:08:31",
          "1970-01-01T06:50:11",
          "1970-01-01T06:50:11",
          "1970-01-01T06:50:11",
          "1970-01-01T09:06:30",
          "1970-01-01T09:06:30",
          "1970-01-01T09:48:10",
          "1970-01-01T09:48:10",
          "1970-01-01T09:48:10",
          "1970-01-01T12:04:29",
          "1970-01-01T12:04:29",
          "1970-01-01T12:46:09",
          "1970-01-01T12:46:09",
          "1970-01-01T12:46:09",
          "1970-01-01T15:02:28",
          "1970-01-01T15:02:28",
          "1970-01-01T15:44:08",
          "1970-01-01T15:44:08",
          "1970-01-01T15:44:08",
          "1970-01-01T00:40:32",
          "1970-01-01T00:40:32",
          "1970-01-01T01:22:12",
          "1970-01-01T01:22:12",
          "1970-01-01T01:22:12",
          "1970-01-01T03:23:48",
          "1970-01-01T03:23:48",
          "1970-01-01T04:05:28",
          "1970-01-01T04:05:28",
          "1970-01-01T04:05:28",
          "1970-01-01T06:08:31",
          "1970-01-01T06:08:31",
          "1970-01-01T06:50:11",
          "1970-01-01T06:50:11",
          "1970-01-01T06:50:11",
          "1970-01-01T09:06:30",
          "1970-01-01T09:06:30",
          "1970-01-01T09:48:10",
          "1970-01-01T09:48:10",
          "1970-01-01T09:48:10",
          "1970-01-01T12:04:29",
          "1970-01-01T12:04:29",
          "1970-01-01T12:46:09",
          "1970-01-01T12:46:09",
          "1970-01-01T12:46:09",
          "1970-01-01T15:02:28",
          "1970-01-01T15:02:28",
          "1970-01-01T15:44:08",
          "1970-01-01T15:44:08",
          "1970-01-01T15:44:08"
         ],
         "y": [
          "Carrier A",
          "Carrier A",
          "Carrier A",
          "Carrier A",
          null,
          "Carrier A",
          "Carrier A",
          "Carrier A",
          "Carrier A",
          null,
          "Carrier A",
          "Carrier A",
          "Carrier A",
          "Carrier A",
          null,
          "Carrier A",
          "Carrier A",
          "Carrier A",
          "Carrier A",
          null,
          "Carrier A",
          "Carrier A",
          "Carrier A",
          "Carrier A",
          null,
          "Carrier A",
          "Carrier A",
          "Carrier A",
          "Carrier A",
          null,
          "Cutter T",
          "Cutter T",
          "Cutter T",
          "Cutter T",
          null,
          "Cutter T",
          "Cutter T",
          "Cutter T",
          "Cutter T",
          null,
          "Cutter T",
          "Cutter T",
          "Cutter T",
          "Cutter T",
          null,
          "Cutter T",
          "Cutter T",
          "Cutter T",
          "Cutter T",
          null,
          "Cutter T",
          "Cutter T",
          "Cutter T",
          "Cutter T",
          null,
          "Cutter T",
          "Cutter T",
          "Cutter T",
          "Cutter T",
          null,
          "Trench",
          "Trench",
          "Trench",
          "Trench",
          null,
          "Trench",
          "Trench",
          "Trench",
          "Trench",
          null,
          "Trench",
          "Trench",
          "Trench",
          "Trench",
          null,
          "Trench",
          "Trench",
          "Trench",
          "Trench",
          null,
          "Trench",
          "Trench",
          "Trench",
          "Trench",
          null,
          "Trench",
          "Trench",
          "Trench",
          "Trench",
          null
         ]
        },
        {
         "connectgaps": false,
         "hoverinfo": "y+name",
         "line": {
          "color": "rgb(208,205,31)",
          "width": 10
         },
         "mode": "lines",
         "name": "sailing full:Carrier A",
         "type": "scatter",
         "x": [
          "1970-01-01T01:22:12",
          "1970-01-01T01:22:12",
          "1970-01-01T02:02:44",
          "1970-01-01T02:02:44",
          "1970-01-01T02:02:44",
          "1970-01-01T04:05:28",
          "1970-01-01T04:05:28",
          "1970-01-01T04:46:00",
          "1970-01-01T04:46:00",
          "1970-01-01T04:46:00",
          "1970-01-01T06:50:11",
          "1970-01-01T06:50:11",
          "1970-01-01T07:30:43",
          "1970-01-01T07:30:43",
          "1970-01-01T07:30:43",
          "1970-01-01T09:48:10",
          "1970-01-01T09:48:10",
          "1970-01-01T10:28:42",
          "1970-01-01T10:28:42",
          "1970-01-01T10:28:42",
          "1970-01-01T12:46:09",
          "1970-01-01T12:46:09",
          "1970-01-01T13:26:41",
          "1970-01-01T13:26:41",
          "1970-01-01T13:26:41",
          "1970-01-01T15:44:08",
          "1970-01-01T15:44:08",
          "1970-01-01T16:24:40",
          "1970-01-01T16:24:40",
          "1970-01-01T16:24:40"
         ],
         "y": [
          "Carrier A",
          "Carrier A",
          "Carrier A",
          "Carrier A",
          null,
          "Carrier A",
          "Carrier A",
          "Carrier A",
          "Carrier A",
          null,
          "Carrier A",
          "Carrier A",
          "Carrier A",
          "Carrier A",
          null,
          "Carrier A",
          "Carrier A",
          "Carrier A",
          "Carrier A",
          null,
          "Carrier A",
          "Carrier A",
          "Carrier A",
          "Carrier A",
          null,
          "Carrier A",
          "Carrier A",
          "Carrier A",
          "Carrier A",
          null
         ]
        },
        {
         "connectgaps": false,
         "hoverinfo": "y+name",
         "line": {
          "color": "rgb(217,214,40)",
          "width": 10
         },
         "mode": "lines",
         "name": "sailing empty:Carrier A",
         "type": "scatter",
         "x": [
          "1970-01-01T00:00:00",
          "1970-01-01T00:00:00",
          "1970-01-01T00:40:32",
          "1970-01-01T00:40:32",
          "1970-01-01T00:40:32",
          "1970-01-01T02:43:16",
          "1970-01-01T02:43:16",
          "1970-01-01T03:23:48",
          "1970-01-01T03:23:48",
          "1970-01-01T03:23:48",
          "1970-01-01T05:26:32",
          "1970-01-01T05:26:32",
          "1970-01-01T06:07:04",
          "1970-01-01T06:07:04",
          "1970-01-01T06:07:04",
          "1970-01-01T08:11:15",
          "1970-01-01T08:11:15",
          "1970-01-01T08:51:47",
          "1970-01-01T08:51:47",
          "1970-01-01T08:51:47",
          "1970-01-01T11:09:14",
          "1970-01-01T11:09:14",
          "1970-01-01T11:49:46",
          "1970-01-01T11:49:46",
          "1970-01-01T11:49:46",
          "1970-01-01T14:07:13",
          "1970-01-01T14:07:13",
          "1970-01-01T14:47:45",
          "1970-01-01T14:47:45",
          "1970-01-01T14:47:45"
         ],
         "y": [
          "Carrier A",
          "Carrier A",
          "Carrier A",
          "Carrier A",
          null,
          "Carrier A",
          "Carrier A",
          "Carrier A",
          "Carrier A",
          null,
          "Carrier A",
          "Carrier A",
          "Carrier A",
          "Carrier A",
          null,
          "Carrier A",
          "Carrier A",
          "Carrier A",
          "Carrier A",
          null,
          "Carrier A",
          "Carrier A",
          "Carrier A",
          "Carrier A",
          null,
          "Carrier A",
          "Carrier A",
          "Carrier A",
          "Carrier A",
          null
         ]
        },
        {
         "connectgaps": false,
         "hoverinfo": "y+name",
         "line": {
          "color": "rgb(226,223,49)",
          "width": 10
         },
         "mode": "lines",
         "name": "unloading:Carrier A",
         "type": "scatter",
         "x": [
          "1970-01-01T02:02:44",
          "1970-01-01T02:02:44",
          "1970-01-01T02:43:16",
          "1970-01-01T02:43:16",
          "1970-01-01T02:43:16",
          "1970-01-01T04:46:00",
          "1970-01-01T04:46:00",
          "1970-01-01T05:26:32",
          "1970-01-01T05:26:32",
          "1970-01-01T05:26:32",
          "1970-01-01T07:30:43",
          "1970-01-01T07:30:43",
          "1970-01-01T08:11:15",
          "1970-01-01T08:11:15",
          "1970-01-01T08:11:15",
          "1970-01-01T10:28:42",
          "1970-01-01T10:28:42",
          "1970-01-01T11:09:14",
          "1970-01-01T11:09:14",
          "1970-01-01T11:09:14",
          "1970-01-01T13:26:41",
          "1970-01-01T13:26:41",
          "1970-01-01T14:07:13",
          "1970-01-01T14:07:13",
          "1970-01-01T14:07:13",
          "1970-01-01T16:24:40",
          "1970-01-01T16:24:40",
          "1970-01-01T17:05:12",
          "1970-01-01T17:05:12",
          "1970-01-01T17:05:12",
          "1970-01-01T02:02:44",
          "1970-01-01T02:02:44",
          "1970-01-01T02:43:16",
          "1970-01-01T02:43:16",
          "1970-01-01T02:43:16",
          "1970-01-01T04:46:00",
          "1970-01-01T04:46:00",
          "1970-01-01T05:26:32",
          "1970-01-01T05:26:32",
          "1970-01-01T05:26:32",
          "1970-01-01T07:30:43",
          "1970-01-01T07:30:43",
          "1970-01-01T08:11:15",
          "1970-01-01T08:11:15",
          "1970-01-01T08:11:15",
          "1970-01-01T10:28:42",
          "1970-01-01T10:28:42",
          "1970-01-01T11:09:14",
          "1970-01-01T11:09:14",
          "1970-01-01T11:09:14",
          "1970-01-01T13:26:41",
          "1970-01-01T13:26:41",
          "1970-01-01T14:07:13",
          "1970-01-01T14:07:13",
          "1970-01-01T14:07:13",
          "1970-01-01T16:24:40",
          "1970-01-01T16:24:40",
          "1970-01-01T17:05:12",
          "1970-01-01T17:05:12",
          "1970-01-01T17:05:12"
         ],
         "y": [
          "Carrier A",
          "Carrier A",
          "Carrier A",
          "Carrier A",
          null,
          "Carrier A",
          "Carrier A",
          "Carrier A",
          "Carrier A",
          null,
          "Carrier A",
          "Carrier A",
          "Carrier A",
          "Carrier A",
          null,
          "Carrier A",
          "Carrier A",
          "Carrier A",
          "Carrier A",
          null,
          "Carrier A",
          "Carrier A",
          "Carrier A",
          "Carrier A",
          null,
          "Carrier A",
          "Carrier A",
          "Carrier A",
          "Carrier A",
          null,
          "Reclamation",
          "Reclamation",
          "Reclamation",
          "Reclamation",
          null,
          "Reclamation",
          "Reclamation",
          "Reclamation",
          "Reclamation",
          null,
          "Reclamation",
          "Reclamation",
          "Reclamation",
          "Reclamation",
          null,
          "Reclamation",
          "Reclamation",
          "Reclamation",
          "Reclamation",
          null,
          "Reclamation",
          "Reclamation",
          "Reclamation",
          "Reclamation",
          null,
          "Reclamation",
          "Reclamation",
          "Reclamation",
          "Reclamation",
          null
         ]
        },
        {
         "connectgaps": false,
         "hoverinfo": "y+name",
         "line": {
          "color": "rgb(235,232,58)",
          "width": 10
         },
         "mode": "lines",
         "name": "sailing empty:Carrier B",
         "type": "scatter",
         "x": [
          "1970-01-01T00:00:00",
          "1970-01-01T00:00:00",
          "1970-01-01T00:48:13",
          "1970-01-01T00:48:13",
          "1970-01-01T00:48:13",
          "1970-01-01T04:46:58",
          "1970-01-01T04:46:58",
          "1970-01-01T05:35:11",
          "1970-01-01T05:35:11",
          "1970-01-01T05:35:11",
          "1970-01-01T07:44:57",
          "1970-01-01T07:44:57",
          "1970-01-01T08:33:10",
          "1970-01-01T08:33:10",
          "1970-01-01T08:33:10",
          "1970-01-01T10:42:56",
          "1970-01-01T10:42:56",
          "1970-01-01T11:31:09",
          "1970-01-01T11:31:09",
          "1970-01-01T11:31:09",
          "1970-01-01T13:40:55",
          "1970-01-01T13:40:55",
          "1970-01-01T14:29:08",
          "1970-01-01T14:29:08",
          "1970-01-01T14:29:08"
         ],
         "y": [
          "Carrier B",
          "Carrier B",
          "Carrier B",
          "Carrier B",
          null,
          "Carrier B",
          "Carrier B",
          "Carrier B",
          "Carrier B",
          null,
          "Carrier B",
          "Carrier B",
          "Carrier B",
          "Carrier B",
          null,
          "Carrier B",
          "Carrier B",
          "Carrier B",
          "Carrier B",
          null,
          "Carrier B",
          "Carrier B",
          "Carrier B",
          "Carrier B",
          null
         ]
        },
        {
         "connectgaps": false,
         "hoverinfo": "y+name",
         "line": {
          "color": "rgb(244,241,67)",
          "width": 10
         },
         "mode": "lines",
         "name": "unloading:Carrier B",
         "type": "scatter",
         "x": [
          "1970-01-01T03:58:45",
          "1970-01-01T03:58:45",
          "1970-01-01T04:46:58",
          "1970-01-01T04:46:58",
          "1970-01-01T04:46:58",
          "1970-01-01T06:56:44",
          "1970-01-01T06:56:44",
          "1970-01-01T07:44:57",
          "1970-01-01T07:44:57",
          "1970-01-01T07:44:57",
          "1970-01-01T09:54:43",
          "1970-01-01T09:54:43",
          "1970-01-01T10:42:56",
          "1970-01-01T10:42:56",
          "1970-01-01T10:42:56",
          "1970-01-01T12:52:42",
          "1970-01-01T12:52:42",
          "1970-01-01T13:40:55",
          "1970-01-01T13:40:55",
          "1970-01-01T13:40:55",
          "1970-01-01T15:50:41",
          "1970-01-01T15:50:41",
          "1970-01-01T16:38:54",
          "1970-01-01T16:38:54",
          "1970-01-01T16:38:54",
          "1970-01-01T03:58:45",
          "1970-01-01T03:58:45",
          "1970-01-01T04:46:58",
          "1970-01-01T04:46:58",
          "1970-01-01T04:46:58",
          "1970-01-01T06:56:44",
          "1970-01-01T06:56:44",
          "1970-01-01T07:44:57",
          "1970-01-01T07:44:57",
          "1970-01-01T07:44:57",
          "1970-01-01T09:54:43",
          "1970-01-01T09:54:43",
          "1970-01-01T10:42:56",
          "1970-01-01T10:42:56",
          "1970-01-01T10:42:56",
          "1970-01-01T12:52:42",
          "1970-01-01T12:52:42",
          "1970-01-01T13:40:55",
          "1970-01-01T13:40:55",
          "1970-01-01T13:40:55",
          "1970-01-01T15:50:41",
          "1970-01-01T15:50:41",
          "1970-01-01T16:38:54",
          "1970-01-01T16:38:54",
          "1970-01-01T16:38:54"
         ],
         "y": [
          "Carrier B",
          "Carrier B",
          "Carrier B",
          "Carrier B",
          null,
          "Carrier B",
          "Carrier B",
          "Carrier B",
          "Carrier B",
          null,
          "Carrier B",
          "Carrier B",
          "Carrier B",
          "Carrier B",
          null,
          "Carrier B",
          "Carrier B",
          "Carrier B",
          "Carrier B",
          null,
          "Carrier B",
          "Carrier B",
          "Carrier B",
          "Carrier B",
          null,
          "Reclamation",
          "Reclamation",
          "Reclamation",
          "Reclamation",
          null,
          "Reclamation",
          "Reclamation",
          "Reclamation",
          "Reclamation",
          null,
          "Reclamation",
          "Reclamation",
          "Reclamation",
          "Reclamation",
          null,
          "Reclamation",
          "Reclamation",
          "Reclamation",
          "Reclamation",
          null,
          "Reclamation",
          "Reclamation",
          "Reclamation",
          "Reclamation",
          null
         ]
        },
        {
         "connectgaps": false,
         "hoverinfo": "y+name",
         "line": {
          "color": "rgb(253,250,76)",
          "width": 10
         },
         "mode": "lines",
         "name": "loading:Carrier B",
         "type": "scatter",
         "x": [
          "1970-01-01T02:37:12",
          "1970-01-01T02:37:12",
          "1970-01-01T03:10:32",
          "1970-01-01T03:10:32",
          "1970-01-01T03:10:32",
          "1970-01-01T05:35:11",
          "1970-01-01T05:35:11",
          "1970-01-01T06:08:31",
          "1970-01-01T06:08:31",
          "1970-01-01T06:08:31",
          "1970-01-01T08:33:10",
          "1970-01-01T08:33:10",
          "1970-01-01T09:06:30",
          "1970-01-01T09:06:30",
          "1970-01-01T09:06:30",
          "1970-01-01T11:31:09",
          "1970-01-01T11:31:09",
          "1970-01-01T12:04:29",
          "1970-01-01T12:04:29",
          "1970-01-01T12:04:29",
          "1970-01-01T14:29:08",
          "1970-01-01T14:29:08",
          "1970-01-01T15:02:28",
          "1970-01-01T15:02:28",
          "1970-01-01T15:02:28",
          "1970-01-01T02:37:12",
          "1970-01-01T02:37:12",
          "1970-01-01T03:10:32",
          "1970-01-01T03:10:32",
          "1970-01-01T03:10:32",
          "1970-01-01T05:35:11",
          "1970-01-01T05:35:11",
          "1970-01-01T06:08:31",
          "1970-01-01T06:08:31",
          "1970-01-01T06:08:31",
          "1970-01-01T08:33:10",
          "1970-01-01T08:33:10",
          "1970-01-01T09:06:30",
          "1970-01-01T09:06:30",
          "1970-01-01T09:06:30",
          "1970-01-01T11:31:09",
          "1970-01-01T11:31:09",
          "1970-01-01T12:04:29",
          "1970-01-01T12:04:29",
          "1970-01-01T12:04:29",
          "1970-01-01T14:29:08",
          "1970-01-01T14:29:08",
          "1970-01-01T15:02:28",
          "1970-01-01T15:02:28",
          "1970-01-01T15:02:28",
          "1970-01-01T02:37:12",
          "1970-01-01T02:37:12",
          "1970-01-01T03:10:32",
          "1970-01-01T03:10:32",
          "1970-01-01T03:10:32",
          "1970-01-01T05:35:11",
          "1970-01-01T05:35:11",
          "1970-01-01T06:08:31",
          "1970-01-01T06:08:31",
          "1970-01-01T06:08:31",
          "1970-01-01T08:33:10",
          "1970-01-01T08:33:10",
          "1970-01-01T09:06:30",
          "1970-01-01T09:06:30",
          "1970-01-01T09:06:30",
          "1970-01-01T11:31:09",
          "1970-01-01T11:31:09",
          "1970-01-01T12:04:29",
          "1970-01-01T12:04:29",
          "1970-01-01T12:04:29",
          "1970-01-01T14:29:08",
          "1970-01-01T14:29:08",
          "1970-01-01T15:02:28",
          "1970-01-01T15:02:28",
          "1970-01-01T15:02:28"
         ],
         "y": [
          "Carrier B",
          "Carrier B",
          "Carrier B",
          "Carrier B",
          null,
          "Carrier B",
          "Carrier B",
          "Carrier B",
          "Carrier B",
          null,
          "Carrier B",
          "Carrier B",
          "Carrier B",
          "Carrier B",
          null,
          "Carrier B",
          "Carrier B",
          "Carrier B",
          "Carrier B",
          null,
          "Carrier B",
          "Carrier B",
          "Carrier B",
          "Carrier B",
          null,
          "Cutter T",
          "Cutter T",
          "Cutter T",
          "Cutter T",
          null,
          "Cutter T",
          "Cutter T",
          "Cutter T",
          "Cutter T",
          null,
          "Cutter T",
          "Cutter T",
          "Cutter T",
          "Cutter T",
          null,
          "Cutter T",
          "Cutter T",
          "Cutter T",
          "Cutter T",
          null,
          "Cutter T",
          "Cutter T",
          "Cutter T",
          "Cutter T",
          null,
          "Trench",
          "Trench",
          "Trench",
          "Trench",
          null,
          "Trench",
          "Trench",
          "Trench",
          "Trench",
          null,
          "Trench",
          "Trench",
          "Trench",
          "Trench",
          null,
          "Trench",
          "Trench",
          "Trench",
          "Trench",
          null,
          "Trench",
          "Trench",
          "Trench",
          "Trench",
          null
         ]
        },
        {
         "connectgaps": false,
         "hoverinfo": "y+name",
         "line": {
          "color": "rgb(6,3,85)",
          "width": 10
         },
         "mode": "lines",
         "name": "sailing full:Carrier B",
         "type": "scatter",
         "x": [
          "1970-01-01T03:10:32",
          "1970-01-01T03:10:32",
          "1970-01-01T03:58:45",
          "1970-01-01T03:58:45",
          "1970-01-01T03:58:45",
          "1970-01-01T06:08:31",
          "1970-01-01T06:08:31",
          "1970-01-01T06:56:44",
          "1970-01-01T06:56:44",
          "1970-01-01T06:56:44",
          "1970-01-01T09:06:30",
          "1970-01-01T09:06:30",
          "1970-01-01T09:54:43",
          "1970-01-01T09:54:43",
          "1970-01-01T09:54:43",
          "1970-01-01T12:04:29",
          "1970-01-01T12:04:29",
          "1970-01-01T12:52:42",
          "1970-01-01T12:52:42",
          "1970-01-01T12:52:42",
          "1970-01-01T15:02:28",
          "1970-01-01T15:02:28",
          "1970-01-01T15:50:41",
          "1970-01-01T15:50:41",
          "1970-01-01T15:50:41"
         ],
         "y": [
          "Carrier B",
          "Carrier B",
          "Carrier B",
          "Carrier B",
          null,
          "Carrier B",
          "Carrier B",
          "Carrier B",
          "Carrier B",
          null,
          "Carrier B",
          "Carrier B",
          "Carrier B",
          "Carrier B",
          null,
          "Carrier B",
          "Carrier B",
          "Carrier B",
          "Carrier B",
          null,
          "Carrier B",
          "Carrier B",
          "Carrier B",
          "Carrier B",
          null
         ]
        },
        {
         "connectgaps": false,
         "hoverinfo": "y+name",
         "line": {
          "color": "rgb(15,12,94)",
          "width": 10
         },
         "mode": "lines",
         "name": "sailing full:Carrier C",
         "type": "scatter",
         "x": [
          "1970-01-01T02:37:12",
          "1970-01-01T02:37:12",
          "1970-01-01T03:19:46",
          "1970-01-01T03:19:46",
          "1970-01-01T03:19:46",
          "1970-01-01T05:24:10",
          "1970-01-01T05:24:10",
          "1970-01-01T06:06:44",
          "1970-01-01T06:06:44",
          "1970-01-01T06:06:44",
          "1970-01-01T08:11:08",
          "1970-01-01T08:11:08",
          "1970-01-01T08:53:42",
          "1970-01-01T08:53:42",
          "1970-01-01T08:53:42",
          "1970-01-01T11:03:10",
          "1970-01-01T11:03:10",
          "1970-01-01T11:45:44",
          "1970-01-01T11:45:44",
          "1970-01-01T11:45:44",
          "1970-01-01T14:01:09",
          "1970-01-01T14:01:09",
          "1970-01-01T14:43:43",
          "1970-01-01T14:43:43",
          "1970-01-01T14:43:43"
         ],
         "y": [
          "Carrier C",
          "Carrier C",
          "Carrier C",
          "Carrier C",
          null,
          "Carrier C",
          "Carrier C",
          "Carrier C",
          "Carrier C",
          null,
          "Carrier C",
          "Carrier C",
          "Carrier C",
          "Carrier C",
          null,
          "Carrier C",
          "Carrier C",
          "Carrier C",
          "Carrier C",
          null,
          "Carrier C",
          "Carrier C",
          "Carrier C",
          "Carrier C",
          null
         ]
        },
        {
         "connectgaps": false,
         "hoverinfo": "y+name",
         "line": {
          "color": "rgb(24,21,103)",
          "width": 10
         },
         "mode": "lines",
         "name": "unloading:Carrier C",
         "type": "scatter",
         "x": [
          "1970-01-01T03:19:46",
          "1970-01-01T03:19:46",
          "1970-01-01T04:02:20",
          "1970-01-01T04:02:20",
          "1970-01-01T04:02:20",
          "1970-01-01T06:06:44",
          "1970-01-01T06:06:44",
          "1970-01-01T06:49:18",
          "1970-01-01T06:49:18",
          "1970-01-01T06:49:18",
          "1970-01-01T08:53:42",
          "1970-01-01T08:53:42",
          "1970-01-01T09:36:16",
          "1970-01-01T09:36:16",
          "1970-01-01T09:36:16",
          "1970-01-01T11:45:44",
          "1970-01-01T11:45:44",
          "1970-01-01T12:28:18",
          "1970-01-01T12:28:18",
          "1970-01-01T12:28:18",
          "1970-01-01T14:43:43",
          "1970-01-01T14:43:43",
          "1970-01-01T15:26:17",
          "1970-01-01T15:26:17",
          "1970-01-01T15:26:17",
          "1970-01-01T03:19:46",
          "1970-01-01T03:19:46",
          "1970-01-01T04:02:20",
          "1970-01-01T04:02:20",
          "1970-01-01T04:02:20",
          "1970-01-01T06:06:44",
          "1970-01-01T06:06:44",
          "1970-01-01T06:49:18",
          "1970-01-01T06:49:18",
          "1970-01-01T06:49:18",
          "1970-01-01T08:53:42",
          "1970-01-01T08:53:42",
          "1970-01-01T09:36:16",
          "1970-01-01T09:36:16",
          "1970-01-01T09:36:16",
          "1970-01-01T11:45:44",
          "1970-01-01T11:45:44",
          "1970-01-01T12:28:18",
          "1970-01-01T12:28:18",
          "1970-01-01T12:28:18",
          "1970-01-01T14:43:43",
          "1970-01-01T14:43:43",
          "1970-01-01T15:26:17",
          "1970-01-01T15:26:17",
          "1970-01-01T15:26:17"
         ],
         "y": [
          "Carrier C",
          "Carrier C",
          "Carrier C",
          "Carrier C",
          null,
          "Carrier C",
          "Carrier C",
          "Carrier C",
          "Carrier C",
          null,
          "Carrier C",
          "Carrier C",
          "Carrier C",
          "Carrier C",
          null,
          "Carrier C",
          "Carrier C",
          "Carrier C",
          "Carrier C",
          null,
          "Carrier C",
          "Carrier C",
          "Carrier C",
          "Carrier C",
          null,
          "Reclamation",
          "Reclamation",
          "Reclamation",
          "Reclamation",
          null,
          "Reclamation",
          "Reclamation",
          "Reclamation",
          "Reclamation",
          null,
          "Reclamation",
          "Reclamation",
          "Reclamation",
          "Reclamation",
          null,
          "Reclamation",
          "Reclamation",
          "Reclamation",
          "Reclamation",
          null,
          "Reclamation",
          "Reclamation",
          "Reclamation",
          "Reclamation",
          null
         ]
        },
        {
         "connectgaps": false,
         "hoverinfo": "y+name",
         "line": {
          "color": "rgb(33,30,112)",
          "width": 10
         },
         "mode": "lines",
         "name": "loading:Carrier C",
         "type": "scatter",
         "x": [
          "1970-01-01T02:03:52",
          "1970-01-01T02:03:52",
          "1970-01-01T02:37:12",
          "1970-01-01T02:37:12",
          "1970-01-01T02:37:12",
          "1970-01-01T04:50:50",
          "1970-01-01T04:50:50",
          "1970-01-01T05:24:10",
          "1970-01-01T05:24:10",
          "1970-01-01T05:24:10",
          "1970-01-01T07:37:48",
          "1970-01-01T07:37:48",
          "1970-01-01T08:11:08",
          "1970-01-01T08:11:08",
          "1970-01-01T08:11:08",
          "1970-01-01T10:29:50",
          "1970-01-01T10:29:50",
          "1970-01-01T11:03:10",
          "1970-01-01T11:03:10",
          "1970-01-01T11:03:10",
          "1970-01-01T13:27:49",
          "1970-01-01T13:27:49",
          "1970-01-01T14:01:09",
          "1970-01-01T14:01:09",
          "1970-01-01T14:01:09",
          "1970-01-01T02:03:52",
          "1970-01-01T02:03:52",
          "1970-01-01T02:37:12",
          "1970-01-01T02:37:12",
          "1970-01-01T02:37:12",
          "1970-01-01T04:50:50",
          "1970-01-01T04:50:50",
          "1970-01-01T05:24:10",
          "1970-01-01T05:24:10",
          "1970-01-01T05:24:10",
          "1970-01-01T07:37:48",
          "1970-01-01T07:37:48",
          "1970-01-01T08:11:08",
          "1970-01-01T08:11:08",
          "1970-01-01T08:11:08",
          "1970-01-01T10:29:50",
          "1970-01-01T10:29:50",
          "1970-01-01T11:03:10",
          "1970-01-01T11:03:10",
          "1970-01-01T11:03:10",
          "1970-01-01T13:27:49",
          "1970-01-01T13:27:49",
          "1970-01-01T14:01:09",
          "1970-01-01T14:01:09",
          "1970-01-01T14:01:09",
          "1970-01-01T02:03:52",
          "1970-01-01T02:03:52",
          "1970-01-01T02:37:12",
          "1970-01-01T02:37:12",
          "1970-01-01T02:37:12",
          "1970-01-01T04:50:50",
          "1970-01-01T04:50:50",
          "1970-01-01T05:24:10",
          "1970-01-01T05:24:10",
          "1970-01-01T05:24:10",
          "1970-01-01T07:37:48",
          "1970-01-01T07:37:48",
          "1970-01-01T08:11:08",
          "1970-01-01T08:11:08",
          "1970-01-01T08:11:08",
          "1970-01-01T10:29:50",
          "1970-01-01T10:29:50",
          "1970-01-01T11:03:10",
          "1970-01-01T11:03:10",
          "1970-01-01T11:03:10",
          "1970-01-01T13:27:49",
          "1970-01-01T13:27:49",
          "1970-01-01T14:01:09",
          "1970-01-01T14:01:09",
          "1970-01-01T14:01:09"
         ],
         "y": [
          "Carrier C",
          "Carrier C",
          "Carrier C",
          "Carrier C",
          null,
          "Carrier C",
          "Carrier C",
          "Carrier C",
          "Carrier C",
          null,
          "Carrier C",
          "Carrier C",
          "Carrier C",
          "Carrier C",
          null,
          "Carrier C",
          "Carrier C",
          "Carrier C",
          "Carrier C",
          null,
          "Carrier C",
          "Carrier C",
          "Carrier C",
          "Carrier C",
          null,
          "Cutter T",
          "Cutter T",
          "Cutter T",
          "Cutter T",
          null,
          "Cutter T",
          "Cutter T",
          "Cutter T",
          "Cutter T",
          null,
          "Cutter T",
          "Cutter T",
          "Cutter T",
          "Cutter T",
          null,
          "Cutter T",
          "Cutter T",
          "Cutter T",
          "Cutter T",
          null,
          "Cutter T",
          "Cutter T",
          "Cutter T",
          "Cutter T",
          null,
          "Trench",
          "Trench",
          "Trench",
          "Trench",
          null,
          "Trench",
          "Trench",
          "Trench",
          "Trench",
          null,
          "Trench",
          "Trench",
          "Trench",
          "Trench",
          null,
          "Trench",
          "Trench",
          "Trench",
          "Trench",
          null,
          "Trench",
          "Trench",
          "Trench",
          "Trench",
          null
         ]
        },
        {
         "connectgaps": false,
         "hoverinfo": "y+name",
         "line": {
          "color": "rgb(42,39,121)",
          "width": 10
         },
         "mode": "lines",
         "name": "sailing empty:Carrier C",
         "type": "scatter",
         "x": [
          "1970-01-01T00:00:00",
          "1970-01-01T00:00:00",
          "1970-01-01T00:42:34",
          "1970-01-01T00:42:34",
          "1970-01-01T00:42:34",
          "1970-01-01T04:02:20",
          "1970-01-01T04:02:20",
          "1970-01-01T04:44:54",
          "1970-01-01T04:44:54",
          "1970-01-01T04:44:54",
          "1970-01-01T06:49:18",
          "1970-01-01T06:49:18",
          "1970-01-01T07:31:52",
          "1970-01-01T07:31:52",
          "1970-01-01T07:31:52",
          "1970-01-01T09:36:16",
          "1970-01-01T09:36:16",
          "1970-01-01T10:18:50",
          "1970-01-01T10:18:50",
          "1970-01-01T10:18:50",
          "1970-01-01T12:28:18",
          "1970-01-01T12:28:18",
          "1970-01-01T13:10:52",
          "1970-01-01T13:10:52",
          "1970-01-01T13:10:52"
         ],
         "y": [
          "Carrier C",
          "Carrier C",
          "Carrier C",
          "Carrier C",
          null,
          "Carrier C",
          "Carrier C",
          "Carrier C",
          "Carrier C",
          null,
          "Carrier C",
          "Carrier C",
          "Carrier C",
          "Carrier C",
          null,
          "Carrier C",
          "Carrier C",
          "Carrier C",
          "Carrier C",
          null,
          "Carrier C",
          "Carrier C",
          "Carrier C",
          "Carrier C",
          null
         ]
        },
        {
         "connectgaps": false,
         "hoverinfo": "y+name",
         "line": {
          "color": "rgb(51,48,130)",
          "width": 10
         },
         "mode": "lines",
         "name": "loading:Barge I",
         "type": "scatter",
         "x": [
          "1970-01-01T01:22:12",
          "1970-01-01T01:22:12",
          "1970-01-01T02:03:52",
          "1970-01-01T02:03:52",
          "1970-01-01T02:03:52",
          "1970-01-01T04:09:10",
          "1970-01-01T04:09:10",
          "1970-01-01T04:50:50",
          "1970-01-01T04:50:50",
          "1970-01-01T04:50:50",
          "1970-01-01T06:56:08",
          "1970-01-01T06:56:08",
          "1970-01-01T07:37:48",
          "1970-01-01T07:37:48",
          "1970-01-01T07:37:48",
          "1970-01-01T09:48:10",
          "1970-01-01T09:48:10",
          "1970-01-01T10:29:50",
          "1970-01-01T10:29:50",
          "1970-01-01T10:29:50",
          "1970-01-01T12:46:09",
          "1970-01-01T12:46:09",
          "1970-01-01T13:27:49",
          "1970-01-01T13:27:49",
          "1970-01-01T13:27:49",
          "1970-01-01T15:44:08",
          "1970-01-01T15:44:08",
          "1970-01-01T16:25:48",
          "1970-01-01T16:25:48",
          "1970-01-01T16:25:48",
          "1970-01-01T01:22:12",
          "1970-01-01T01:22:12",
          "1970-01-01T02:03:52",
          "1970-01-01T02:03:52",
          "1970-01-01T02:03:52",
          "1970-01-01T04:09:10",
          "1970-01-01T04:09:10",
          "1970-01-01T04:50:50",
          "1970-01-01T04:50:50",
          "1970-01-01T04:50:50",
          "1970-01-01T06:56:08",
          "1970-01-01T06:56:08",
          "1970-01-01T07:37:48",
          "1970-01-01T07:37:48",
          "1970-01-01T07:37:48",
          "1970-01-01T09:48:10",
          "1970-01-01T09:48:10",
          "1970-01-01T10:29:50",
          "1970-01-01T10:29:50",
          "1970-01-01T10:29:50",
          "1970-01-01T12:46:09",
          "1970-01-01T12:46:09",
          "1970-01-01T13:27:49",
          "1970-01-01T13:27:49",
          "1970-01-01T13:27:49",
          "1970-01-01T15:44:08",
          "1970-01-01T15:44:08",
          "1970-01-01T16:25:48",
          "1970-01-01T16:25:48",
          "1970-01-01T16:25:48",
          "1970-01-01T01:22:12",
          "1970-01-01T01:22:12",
          "1970-01-01T02:03:52",
          "1970-01-01T02:03:52",
          "1970-01-01T02:03:52",
          "1970-01-01T04:09:10",
          "1970-01-01T04:09:10",
          "1970-01-01T04:50:50",
          "1970-01-01T04:50:50",
          "1970-01-01T04:50:50",
          "1970-01-01T06:56:08",
          "1970-01-01T06:56:08",
          "1970-01-01T07:37:48",
          "1970-01-01T07:37:48",
          "1970-01-01T07:37:48",
          "1970-01-01T09:48:10",
          "1970-01-01T09:48:10",
          "1970-01-01T10:29:50",
          "1970-01-01T10:29:50",
          "1970-01-01T10:29:50",
          "1970-01-01T12:46:09",
          "1970-01-01T12:46:09",
          "1970-01-01T13:27:49",
          "1970-01-01T13:27:49",
          "1970-01-01T13:27:49",
          "1970-01-01T15:44:08",
          "1970-01-01T15:44:08",
          "1970-01-01T16:25:48",
          "1970-01-01T16:25:48",
          "1970-01-01T16:25:48"
         ],
         "y": [
          "Barge I",
          "Barge I",
          "Barge I",
          "Barge I",
          null,
          "Barge I",
          "Barge I",
          "Barge I",
          "Barge I",
          null,
          "Barge I",
          "Barge I",
          "Barge I",
          "Barge I",
          null,
          "Barge I",
          "Barge I",
          "Barge I",
          "Barge I",
          null,
          "Barge I",
          "Barge I",
          "Barge I",
          "Barge I",
          null,
          "Barge I",
          "Barge I",
          "Barge I",
          "Barge I",
          null,
          "Cutter T",
          "Cutter T",
          "Cutter T",
          "Cutter T",
          null,
          "Cutter T",
          "Cutter T",
          "Cutter T",
          "Cutter T",
          null,
          "Cutter T",
          "Cutter T",
          "Cutter T",
          "Cutter T",
          null,
          "Cutter T",
          "Cutter T",
          "Cutter T",
          "Cutter T",
          null,
          "Cutter T",
          "Cutter T",
          "Cutter T",
          "Cutter T",
          null,
          "Cutter T",
          "Cutter T",
          "Cutter T",
          "Cutter T",
          null,
          "Trench",
          "Trench",
          "Trench",
          "Trench",
          null,
          "Trench",
          "Trench",
          "Trench",
          "Trench",
          null,
          "Trench",
          "Trench",
          "Trench",
          "Trench",
          null,
          "Trench",
          "Trench",
          "Trench",
          "Trench",
          null,
          "Trench",
          "Trench",
          "Trench",
          "Trench",
          null,
          "Trench",
          "Trench",
          "Trench",
          "Trench",
          null
         ]
        },
        {
         "connectgaps": false,
         "hoverinfo": "y+name",
         "line": {
          "color": "rgb(60,57,139)",
          "width": 10
         },
         "mode": "lines",
         "name": "sailing full:Barge I",
         "type": "scatter",
         "x": [
          "1970-01-01T02:03:52",
          "1970-01-01T02:03:52",
          "1970-01-01T02:45:38",
          "1970-01-01T02:45:38",
          "1970-01-01T02:45:38",
          "1970-01-01T04:50:50",
          "1970-01-01T04:50:50",
          "1970-01-01T05:32:36",
          "1970-01-01T05:32:36",
          "1970-01-01T05:32:36",
          "1970-01-01T07:37:48",
          "1970-01-01T07:37:48",
          "1970-01-01T08:19:34",
          "1970-01-01T08:19:34",
          "1970-01-01T08:19:34",
          "1970-01-01T10:29:50",
          "1970-01-01T10:29:50",
          "1970-01-01T11:11:36",
          "1970-01-01T11:11:36",
          "1970-01-01T11:11:36",
          "1970-01-01T13:27:49",
          "1970-01-01T13:27:49",
          "1970-01-01T14:09:35",
          "1970-01-01T14:09:35",
          "1970-01-01T14:09:35",
          "1970-01-01T16:25:48",
          "1970-01-01T16:25:48",
          "1970-01-01T17:07:34",
          "1970-01-01T17:07:34",
          "1970-01-01T17:07:34"
         ],
         "y": [
          "Barge I",
          "Barge I",
          "Barge I",
          "Barge I",
          null,
          "Barge I",
          "Barge I",
          "Barge I",
          "Barge I",
          null,
          "Barge I",
          "Barge I",
          "Barge I",
          "Barge I",
          null,
          "Barge I",
          "Barge I",
          "Barge I",
          "Barge I",
          null,
          "Barge I",
          "Barge I",
          "Barge I",
          "Barge I",
          null,
          "Barge I",
          "Barge I",
          "Barge I",
          "Barge I",
          null
         ]
        },
        {
         "connectgaps": false,
         "hoverinfo": "y+name",
         "line": {
          "color": "rgb(69,66,148)",
          "width": 10
         },
         "mode": "lines",
         "name": "sailing empty:Barge I",
         "type": "scatter",
         "x": [
          "1970-01-01T00:00:00",
          "1970-01-01T00:00:00",
          "1970-01-01T00:41:46",
          "1970-01-01T00:41:46",
          "1970-01-01T00:41:46",
          "1970-01-01T03:27:24",
          "1970-01-01T03:27:24",
          "1970-01-01T04:09:10",
          "1970-01-01T04:09:10",
          "1970-01-01T04:09:10",
          "1970-01-01T06:14:22",
          "1970-01-01T06:14:22",
          "1970-01-01T06:56:08",
          "1970-01-01T06:56:08",
          "1970-01-01T06:56:08",
          "1970-01-01T09:01:20",
          "1970-01-01T09:01:20",
          "1970-01-01T09:43:06",
          "1970-01-01T09:43:06",
          "1970-01-01T09:43:06",
          "1970-01-01T11:53:22",
          "1970-01-01T11:53:22",
          "1970-01-01T12:35:08",
          "1970-01-01T12:35:08",
          "1970-01-01T12:35:08",
          "1970-01-01T14:51:21",
          "1970-01-01T14:51:21",
          "1970-01-01T15:33:07",
          "1970-01-01T15:33:07",
          "1970-01-01T15:33:07"
         ],
         "y": [
          "Barge I",
          "Barge I",
          "Barge I",
          "Barge I",
          null,
          "Barge I",
          "Barge I",
          "Barge I",
          "Barge I",
          null,
          "Barge I",
          "Barge I",
          "Barge I",
          "Barge I",
          null,
          "Barge I",
          "Barge I",
          "Barge I",
          "Barge I",
          null,
          "Barge I",
          "Barge I",
          "Barge I",
          "Barge I",
          null,
          "Barge I",
          "Barge I",
          "Barge I",
          "Barge I",
          null
         ]
        },
        {
         "connectgaps": false,
         "hoverinfo": "y+name",
         "line": {
          "color": "rgb(78,75,157)",
          "width": 10
         },
         "mode": "lines",
         "name": "unloading:Barge I",
         "type": "scatter",
         "x": [
          "1970-01-01T02:45:38",
          "1970-01-01T02:45:38",
          "1970-01-01T03:27:24",
          "1970-01-01T03:27:24",
          "1970-01-01T03:27:24",
          "1970-01-01T05:32:36",
          "1970-01-01T05:32:36",
          "1970-01-01T06:14:22",
          "1970-01-01T06:14:22",
          "1970-01-01T06:14:22",
          "1970-01-01T08:19:34",
          "1970-01-01T08:19:34",
          "1970-01-01T09:01:20",
          "1970-01-01T09:01:20",
          "1970-01-01T09:01:20",
          "1970-01-01T11:11:36",
          "1970-01-01T11:11:36",
          "1970-01-01T11:53:22",
          "1970-01-01T11:53:22",
          "1970-01-01T11:53:22",
          "1970-01-01T14:09:35",
          "1970-01-01T14:09:35",
          "1970-01-01T14:51:21",
          "1970-01-01T14:51:21",
          "1970-01-01T14:51:21",
          "1970-01-01T17:07:34",
          "1970-01-01T17:07:34",
          "1970-01-01T17:49:20",
          "1970-01-01T17:49:20",
          "1970-01-01T17:49:20",
          "1970-01-01T02:45:38",
          "1970-01-01T02:45:38",
          "1970-01-01T03:27:24",
          "1970-01-01T03:27:24",
          "1970-01-01T03:27:24",
          "1970-01-01T05:32:36",
          "1970-01-01T05:32:36",
          "1970-01-01T06:14:22",
          "1970-01-01T06:14:22",
          "1970-01-01T06:14:22",
          "1970-01-01T08:19:34",
          "1970-01-01T08:19:34",
          "1970-01-01T09:01:20",
          "1970-01-01T09:01:20",
          "1970-01-01T09:01:20",
          "1970-01-01T11:11:36",
          "1970-01-01T11:11:36",
          "1970-01-01T11:53:22",
          "1970-01-01T11:53:22",
          "1970-01-01T11:53:22",
          "1970-01-01T14:09:35",
          "1970-01-01T14:09:35",
          "1970-01-01T14:51:21",
          "1970-01-01T14:51:21",
          "1970-01-01T14:51:21",
          "1970-01-01T17:07:34",
          "1970-01-01T17:07:34",
          "1970-01-01T17:49:20",
          "1970-01-01T17:49:20",
          "1970-01-01T17:49:20"
         ],
         "y": [
          "Barge I",
          "Barge I",
          "Barge I",
          "Barge I",
          null,
          "Barge I",
          "Barge I",
          "Barge I",
          "Barge I",
          null,
          "Barge I",
          "Barge I",
          "Barge I",
          "Barge I",
          null,
          "Barge I",
          "Barge I",
          "Barge I",
          "Barge I",
          null,
          "Barge I",
          "Barge I",
          "Barge I",
          "Barge I",
          null,
          "Barge I",
          "Barge I",
          "Barge I",
          "Barge I",
          null,
          "Reclamation",
          "Reclamation",
          "Reclamation",
          "Reclamation",
          null,
          "Reclamation",
          "Reclamation",
          "Reclamation",
          "Reclamation",
          null,
          "Reclamation",
          "Reclamation",
          "Reclamation",
          "Reclamation",
          null,
          "Reclamation",
          "Reclamation",
          "Reclamation",
          "Reclamation",
          null,
          "Reclamation",
          "Reclamation",
          "Reclamation",
          "Reclamation",
          null,
          "Reclamation",
          "Reclamation",
          "Reclamation",
          "Reclamation",
          null
         ]
        },
        {
         "connectgaps": false,
         "hoverinfo": "y+name",
         "line": {
          "color": "rgb(87,84,166)",
          "width": 10
         },
         "mode": "lines",
         "name": "loading:Carrier A",
         "type": "scatter",
         "x": [
          "1970-01-01T00:40:32",
          "1970-01-01T00:40:32",
          "1970-01-01T01:22:12",
          "1970-01-01T01:22:12",
          "1970-01-01T01:22:12",
          "1970-01-01T03:23:48",
          "1970-01-01T03:23:48",
          "1970-01-01T04:05:28",
          "1970-01-01T04:05:28",
          "1970-01-01T04:05:28",
          "1970-01-01T06:08:31",
          "1970-01-01T06:08:31",
          "1970-01-01T06:50:11",
          "1970-01-01T06:50:11",
          "1970-01-01T06:50:11",
          "1970-01-01T09:06:30",
          "1970-01-01T09:06:30",
          "1970-01-01T09:48:10",
          "1970-01-01T09:48:10",
          "1970-01-01T09:48:10",
          "1970-01-01T12:04:29",
          "1970-01-01T12:04:29",
          "1970-01-01T12:46:09",
          "1970-01-01T12:46:09",
          "1970-01-01T12:46:09",
          "1970-01-01T15:02:28",
          "1970-01-01T15:02:28",
          "1970-01-01T15:44:08",
          "1970-01-01T15:44:08",
          "1970-01-01T15:44:08",
          "1970-01-01T00:40:32",
          "1970-01-01T00:40:32",
          "1970-01-01T01:22:12",
          "1970-01-01T01:22:12",
          "1970-01-01T01:22:12",
          "1970-01-01T03:23:48",
          "1970-01-01T03:23:48",
          "1970-01-01T04:05:28",
          "1970-01-01T04:05:28",
          "1970-01-01T04:05:28",
          "1970-01-01T06:08:31",
          "1970-01-01T06:08:31",
          "1970-01-01T06:50:11",
          "1970-01-01T06:50:11",
          "1970-01-01T06:50:11",
          "1970-01-01T09:06:30",
          "1970-01-01T09:06:30",
          "1970-01-01T09:48:10",
          "1970-01-01T09:48:10",
          "1970-01-01T09:48:10",
          "1970-01-01T12:04:29",
          "1970-01-01T12:04:29",
          "1970-01-01T12:46:09",
          "1970-01-01T12:46:09",
          "1970-01-01T12:46:09",
          "1970-01-01T15:02:28",
          "1970-01-01T15:02:28",
          "1970-01-01T15:44:08",
          "1970-01-01T15:44:08",
          "1970-01-01T15:44:08",
          "1970-01-01T00:40:32",
          "1970-01-01T00:40:32",
          "1970-01-01T01:22:12",
          "1970-01-01T01:22:12",
          "1970-01-01T01:22:12",
          "1970-01-01T03:23:48",
          "1970-01-01T03:23:48",
          "1970-01-01T04:05:28",
          "1970-01-01T04:05:28",
          "1970-01-01T04:05:28",
          "1970-01-01T06:08:31",
          "1970-01-01T06:08:31",
          "1970-01-01T06:50:11",
          "1970-01-01T06:50:11",
          "1970-01-01T06:50:11",
          "1970-01-01T09:06:30",
          "1970-01-01T09:06:30",
          "1970-01-01T09:48:10",
          "1970-01-01T09:48:10",
          "1970-01-01T09:48:10",
          "1970-01-01T12:04:29",
          "1970-01-01T12:04:29",
          "1970-01-01T12:46:09",
          "1970-01-01T12:46:09",
          "1970-01-01T12:46:09",
          "1970-01-01T15:02:28",
          "1970-01-01T15:02:28",
          "1970-01-01T15:44:08",
          "1970-01-01T15:44:08",
          "1970-01-01T15:44:08"
         ],
         "y": [
          "Carrier A",
          "Carrier A",
          "Carrier A",
          "Carrier A",
          null,
          "Carrier A",
          "Carrier A",
          "Carrier A",
          "Carrier A",
          null,
          "Carrier A",
          "Carrier A",
          "Carrier A",
          "Carrier A",
          null,
          "Carrier A",
          "Carrier A",
          "Carrier A",
          "Carrier A",
          null,
          "Carrier A",
          "Carrier A",
          "Carrier A",
          "Carrier A",
          null,
          "Carrier A",
          "Carrier A",
          "Carrier A",
          "Carrier A",
          null,
          "Cutter T",
          "Cutter T",
          "Cutter T",
          "Cutter T",
          null,
          "Cutter T",
          "Cutter T",
          "Cutter T",
          "Cutter T",
          null,
          "Cutter T",
          "Cutter T",
          "Cutter T",
          "Cutter T",
          null,
          "Cutter T",
          "Cutter T",
          "Cutter T",
          "Cutter T",
          null,
          "Cutter T",
          "Cutter T",
          "Cutter T",
          "Cutter T",
          null,
          "Cutter T",
          "Cutter T",
          "Cutter T",
          "Cutter T",
          null,
          "Trench",
          "Trench",
          "Trench",
          "Trench",
          null,
          "Trench",
          "Trench",
          "Trench",
          "Trench",
          null,
          "Trench",
          "Trench",
          "Trench",
          "Trench",
          null,
          "Trench",
          "Trench",
          "Trench",
          "Trench",
          null,
          "Trench",
          "Trench",
          "Trench",
          "Trench",
          null,
          "Trench",
          "Trench",
          "Trench",
          "Trench",
          null
         ]
        },
        {
         "connectgaps": false,
         "hoverinfo": "y+name",
         "line": {
          "color": "rgb(96,93,175)",
          "width": 10
         },
         "mode": "lines",
         "name": "loading:Barge I",
         "type": "scatter",
         "x": [
          "1970-01-01T01:22:12",
          "1970-01-01T01:22:12",
          "1970-01-01T02:03:52",
          "1970-01-01T02:03:52",
          "1970-01-01T02:03:52",
          "1970-01-01T04:09:10",
          "1970-01-01T04:09:10",
          "1970-01-01T04:50:50",
          "1970-01-01T04:50:50",
          "1970-01-01T04:50:50",
          "1970-01-01T06:56:08",
          "1970-01-01T06:56:08",
          "1970-01-01T07:37:48",
          "1970-01-01T07:37:48",
          "1970-01-01T07:37:48",
          "1970-01-01T09:48:10",
          "1970-01-01T09:48:10",
          "1970-01-01T10:29:50",
          "1970-01-01T10:29:50",
          "1970-01-01T10:29:50",
          "1970-01-01T12:46:09",
          "1970-01-01T12:46:09",
          "1970-01-01T13:27:49",
          "1970-01-01T13:27:49",
          "1970-01-01T13:27:49",
          "1970-01-01T15:44:08",
          "1970-01-01T15:44:08",
          "1970-01-01T16:25:48",
          "1970-01-01T16:25:48",
          "1970-01-01T16:25:48",
          "1970-01-01T01:22:12",
          "1970-01-01T01:22:12",
          "1970-01-01T02:03:52",
          "1970-01-01T02:03:52",
          "1970-01-01T02:03:52",
          "1970-01-01T04:09:10",
          "1970-01-01T04:09:10",
          "1970-01-01T04:50:50",
          "1970-01-01T04:50:50",
          "1970-01-01T04:50:50",
          "1970-01-01T06:56:08",
          "1970-01-01T06:56:08",
          "1970-01-01T07:37:48",
          "1970-01-01T07:37:48",
          "1970-01-01T07:37:48",
          "1970-01-01T09:48:10",
          "1970-01-01T09:48:10",
          "1970-01-01T10:29:50",
          "1970-01-01T10:29:50",
          "1970-01-01T10:29:50",
          "1970-01-01T12:46:09",
          "1970-01-01T12:46:09",
          "1970-01-01T13:27:49",
          "1970-01-01T13:27:49",
          "1970-01-01T13:27:49",
          "1970-01-01T15:44:08",
          "1970-01-01T15:44:08",
          "1970-01-01T16:25:48",
          "1970-01-01T16:25:48",
          "1970-01-01T16:25:48",
          "1970-01-01T01:22:12",
          "1970-01-01T01:22:12",
          "1970-01-01T02:03:52",
          "1970-01-01T02:03:52",
          "1970-01-01T02:03:52",
          "1970-01-01T04:09:10",
          "1970-01-01T04:09:10",
          "1970-01-01T04:50:50",
          "1970-01-01T04:50:50",
          "1970-01-01T04:50:50",
          "1970-01-01T06:56:08",
          "1970-01-01T06:56:08",
          "1970-01-01T07:37:48",
          "1970-01-01T07:37:48",
          "1970-01-01T07:37:48",
          "1970-01-01T09:48:10",
          "1970-01-01T09:48:10",
          "1970-01-01T10:29:50",
          "1970-01-01T10:29:50",
          "1970-01-01T10:29:50",
          "1970-01-01T12:46:09",
          "1970-01-01T12:46:09",
          "1970-01-01T13:27:49",
          "1970-01-01T13:27:49",
          "1970-01-01T13:27:49",
          "1970-01-01T15:44:08",
          "1970-01-01T15:44:08",
          "1970-01-01T16:25:48",
          "1970-01-01T16:25:48",
          "1970-01-01T16:25:48"
         ],
         "y": [
          "Barge I",
          "Barge I",
          "Barge I",
          "Barge I",
          null,
          "Barge I",
          "Barge I",
          "Barge I",
          "Barge I",
          null,
          "Barge I",
          "Barge I",
          "Barge I",
          "Barge I",
          null,
          "Barge I",
          "Barge I",
          "Barge I",
          "Barge I",
          null,
          "Barge I",
          "Barge I",
          "Barge I",
          "Barge I",
          null,
          "Barge I",
          "Barge I",
          "Barge I",
          "Barge I",
          null,
          "Cutter T",
          "Cutter T",
          "Cutter T",
          "Cutter T",
          null,
          "Cutter T",
          "Cutter T",
          "Cutter T",
          "Cutter T",
          null,
          "Cutter T",
          "Cutter T",
          "Cutter T",
          "Cutter T",
          null,
          "Cutter T",
          "Cutter T",
          "Cutter T",
          "Cutter T",
          null,
          "Cutter T",
          "Cutter T",
          "Cutter T",
          "Cutter T",
          null,
          "Cutter T",
          "Cutter T",
          "Cutter T",
          "Cutter T",
          null,
          "Trench",
          "Trench",
          "Trench",
          "Trench",
          null,
          "Trench",
          "Trench",
          "Trench",
          "Trench",
          null,
          "Trench",
          "Trench",
          "Trench",
          "Trench",
          null,
          "Trench",
          "Trench",
          "Trench",
          "Trench",
          null,
          "Trench",
          "Trench",
          "Trench",
          "Trench",
          null,
          "Trench",
          "Trench",
          "Trench",
          "Trench",
          null
         ]
        },
        {
         "connectgaps": false,
         "hoverinfo": "y+name",
         "line": {
          "color": "rgb(105,102,184)",
          "width": 10
         },
         "mode": "lines",
         "name": "loading:Carrier B",
         "type": "scatter",
         "x": [
          "1970-01-01T02:37:12",
          "1970-01-01T02:37:12",
          "1970-01-01T03:10:32",
          "1970-01-01T03:10:32",
          "1970-01-01T03:10:32",
          "1970-01-01T05:35:11",
          "1970-01-01T05:35:11",
          "1970-01-01T06:08:31",
          "1970-01-01T06:08:31",
          "1970-01-01T06:08:31",
          "1970-01-01T08:33:10",
          "1970-01-01T08:33:10",
          "1970-01-01T09:06:30",
          "1970-01-01T09:06:30",
          "1970-01-01T09:06:30",
          "1970-01-01T11:31:09",
          "1970-01-01T11:31:09",
          "1970-01-01T12:04:29",
          "1970-01-01T12:04:29",
          "1970-01-01T12:04:29",
          "1970-01-01T14:29:08",
          "1970-01-01T14:29:08",
          "1970-01-01T15:02:28",
          "1970-01-01T15:02:28",
          "1970-01-01T15:02:28",
          "1970-01-01T02:37:12",
          "1970-01-01T02:37:12",
          "1970-01-01T03:10:32",
          "1970-01-01T03:10:32",
          "1970-01-01T03:10:32",
          "1970-01-01T05:35:11",
          "1970-01-01T05:35:11",
          "1970-01-01T06:08:31",
          "1970-01-01T06:08:31",
          "1970-01-01T06:08:31",
          "1970-01-01T08:33:10",
          "1970-01-01T08:33:10",
          "1970-01-01T09:06:30",
          "1970-01-01T09:06:30",
          "1970-01-01T09:06:30",
          "1970-01-01T11:31:09",
          "1970-01-01T11:31:09",
          "1970-01-01T12:04:29",
          "1970-01-01T12:04:29",
          "1970-01-01T12:04:29",
          "1970-01-01T14:29:08",
          "1970-01-01T14:29:08",
          "1970-01-01T15:02:28",
          "1970-01-01T15:02:28",
          "1970-01-01T15:02:28",
          "1970-01-01T02:37:12",
          "1970-01-01T02:37:12",
          "1970-01-01T03:10:32",
          "1970-01-01T03:10:32",
          "1970-01-01T03:10:32",
          "1970-01-01T05:35:11",
          "1970-01-01T05:35:11",
          "1970-01-01T06:08:31",
          "1970-01-01T06:08:31",
          "1970-01-01T06:08:31",
          "1970-01-01T08:33:10",
          "1970-01-01T08:33:10",
          "1970-01-01T09:06:30",
          "1970-01-01T09:06:30",
          "1970-01-01T09:06:30",
          "1970-01-01T11:31:09",
          "1970-01-01T11:31:09",
          "1970-01-01T12:04:29",
          "1970-01-01T12:04:29",
          "1970-01-01T12:04:29",
          "1970-01-01T14:29:08",
          "1970-01-01T14:29:08",
          "1970-01-01T15:02:28",
          "1970-01-01T15:02:28",
          "1970-01-01T15:02:28"
         ],
         "y": [
          "Carrier B",
          "Carrier B",
          "Carrier B",
          "Carrier B",
          null,
          "Carrier B",
          "Carrier B",
          "Carrier B",
          "Carrier B",
          null,
          "Carrier B",
          "Carrier B",
          "Carrier B",
          "Carrier B",
          null,
          "Carrier B",
          "Carrier B",
          "Carrier B",
          "Carrier B",
          null,
          "Carrier B",
          "Carrier B",
          "Carrier B",
          "Carrier B",
          null,
          "Cutter T",
          "Cutter T",
          "Cutter T",
          "Cutter T",
          null,
          "Cutter T",
          "Cutter T",
          "Cutter T",
          "Cutter T",
          null,
          "Cutter T",
          "Cutter T",
          "Cutter T",
          "Cutter T",
          null,
          "Cutter T",
          "Cutter T",
          "Cutter T",
          "Cutter T",
          null,
          "Cutter T",
          "Cutter T",
          "Cutter T",
          "Cutter T",
          null,
          "Trench",
          "Trench",
          "Trench",
          "Trench",
          null,
          "Trench",
          "Trench",
          "Trench",
          "Trench",
          null,
          "Trench",
          "Trench",
          "Trench",
          "Trench",
          null,
          "Trench",
          "Trench",
          "Trench",
          "Trench",
          null,
          "Trench",
          "Trench",
          "Trench",
          "Trench",
          null
         ]
        },
        {
         "connectgaps": false,
         "hoverinfo": "y+name",
         "line": {
          "color": "rgb(114,111,193)",
          "width": 10
         },
         "mode": "lines",
         "name": "loading:Carrier C",
         "type": "scatter",
         "x": [
          "1970-01-01T02:03:52",
          "1970-01-01T02:03:52",
          "1970-01-01T02:37:12",
          "1970-01-01T02:37:12",
          "1970-01-01T02:37:12",
          "1970-01-01T04:50:50",
          "1970-01-01T04:50:50",
          "1970-01-01T05:24:10",
          "1970-01-01T05:24:10",
          "1970-01-01T05:24:10",
          "1970-01-01T07:37:48",
          "1970-01-01T07:37:48",
          "1970-01-01T08:11:08",
          "1970-01-01T08:11:08",
          "1970-01-01T08:11:08",
          "1970-01-01T10:29:50",
          "1970-01-01T10:29:50",
          "1970-01-01T11:03:10",
          "1970-01-01T11:03:10",
          "1970-01-01T11:03:10",
          "1970-01-01T13:27:49",
          "1970-01-01T13:27:49",
          "1970-01-01T14:01:09",
          "1970-01-01T14:01:09",
          "1970-01-01T14:01:09",
          "1970-01-01T02:03:52",
          "1970-01-01T02:03:52",
          "1970-01-01T02:37:12",
          "1970-01-01T02:37:12",
          "1970-01-01T02:37:12",
          "1970-01-01T04:50:50",
          "1970-01-01T04:50:50",
          "1970-01-01T05:24:10",
          "1970-01-01T05:24:10",
          "1970-01-01T05:24:10",
          "1970-01-01T07:37:48",
          "1970-01-01T07:37:48",
          "1970-01-01T08:11:08",
          "1970-01-01T08:11:08",
          "1970-01-01T08:11:08",
          "1970-01-01T10:29:50",
          "1970-01-01T10:29:50",
          "1970-01-01T11:03:10",
          "1970-01-01T11:03:10",
          "1970-01-01T11:03:10",
          "1970-01-01T13:27:49",
          "1970-01-01T13:27:49",
          "1970-01-01T14:01:09",
          "1970-01-01T14:01:09",
          "1970-01-01T14:01:09",
          "1970-01-01T02:03:52",
          "1970-01-01T02:03:52",
          "1970-01-01T02:37:12",
          "1970-01-01T02:37:12",
          "1970-01-01T02:37:12",
          "1970-01-01T04:50:50",
          "1970-01-01T04:50:50",
          "1970-01-01T05:24:10",
          "1970-01-01T05:24:10",
          "1970-01-01T05:24:10",
          "1970-01-01T07:37:48",
          "1970-01-01T07:37:48",
          "1970-01-01T08:11:08",
          "1970-01-01T08:11:08",
          "1970-01-01T08:11:08",
          "1970-01-01T10:29:50",
          "1970-01-01T10:29:50",
          "1970-01-01T11:03:10",
          "1970-01-01T11:03:10",
          "1970-01-01T11:03:10",
          "1970-01-01T13:27:49",
          "1970-01-01T13:27:49",
          "1970-01-01T14:01:09",
          "1970-01-01T14:01:09",
          "1970-01-01T14:01:09"
         ],
         "y": [
          "Carrier C",
          "Carrier C",
          "Carrier C",
          "Carrier C",
          null,
          "Carrier C",
          "Carrier C",
          "Carrier C",
          "Carrier C",
          null,
          "Carrier C",
          "Carrier C",
          "Carrier C",
          "Carrier C",
          null,
          "Carrier C",
          "Carrier C",
          "Carrier C",
          "Carrier C",
          null,
          "Carrier C",
          "Carrier C",
          "Carrier C",
          "Carrier C",
          null,
          "Cutter T",
          "Cutter T",
          "Cutter T",
          "Cutter T",
          null,
          "Cutter T",
          "Cutter T",
          "Cutter T",
          "Cutter T",
          null,
          "Cutter T",
          "Cutter T",
          "Cutter T",
          "Cutter T",
          null,
          "Cutter T",
          "Cutter T",
          "Cutter T",
          "Cutter T",
          null,
          "Cutter T",
          "Cutter T",
          "Cutter T",
          "Cutter T",
          null,
          "Trench",
          "Trench",
          "Trench",
          "Trench",
          null,
          "Trench",
          "Trench",
          "Trench",
          "Trench",
          null,
          "Trench",
          "Trench",
          "Trench",
          "Trench",
          null,
          "Trench",
          "Trench",
          "Trench",
          "Trench",
          null,
          "Trench",
          "Trench",
          "Trench",
          "Trench",
          null
         ]
        },
        {
         "connectgaps": false,
         "hoverinfo": "y+name",
         "line": {
          "color": "rgb(123,120,202)",
          "width": 10
         },
         "mode": "lines",
         "name": "loading:Carrier A",
         "type": "scatter",
         "x": [
          "1970-01-01T00:40:32",
          "1970-01-01T00:40:32",
          "1970-01-01T01:22:12",
          "1970-01-01T01:22:12",
          "1970-01-01T01:22:12",
          "1970-01-01T03:23:48",
          "1970-01-01T03:23:48",
          "1970-01-01T04:05:28",
          "1970-01-01T04:05:28",
          "1970-01-01T04:05:28",
          "1970-01-01T06:08:31",
          "1970-01-01T06:08:31",
          "1970-01-01T06:50:11",
          "1970-01-01T06:50:11",
          "1970-01-01T06:50:11",
          "1970-01-01T09:06:30",
          "1970-01-01T09:06:30",
          "1970-01-01T09:48:10",
          "1970-01-01T09:48:10",
          "1970-01-01T09:48:10",
          "1970-01-01T12:04:29",
          "1970-01-01T12:04:29",
          "1970-01-01T12:46:09",
          "1970-01-01T12:46:09",
          "1970-01-01T12:46:09",
          "1970-01-01T15:02:28",
          "1970-01-01T15:02:28",
          "1970-01-01T15:44:08",
          "1970-01-01T15:44:08",
          "1970-01-01T15:44:08",
          "1970-01-01T00:40:32",
          "1970-01-01T00:40:32",
          "1970-01-01T01:22:12",
          "1970-01-01T01:22:12",
          "1970-01-01T01:22:12",
          "1970-01-01T03:23:48",
          "1970-01-01T03:23:48",
          "1970-01-01T04:05:28",
          "1970-01-01T04:05:28",
          "1970-01-01T04:05:28",
          "1970-01-01T06:08:31",
          "1970-01-01T06:08:31",
          "1970-01-01T06:50:11",
          "1970-01-01T06:50:11",
          "1970-01-01T06:50:11",
          "1970-01-01T09:06:30",
          "1970-01-01T09:06:30",
          "1970-01-01T09:48:10",
          "1970-01-01T09:48:10",
          "1970-01-01T09:48:10",
          "1970-01-01T12:04:29",
          "1970-01-01T12:04:29",
          "1970-01-01T12:46:09",
          "1970-01-01T12:46:09",
          "1970-01-01T12:46:09",
          "1970-01-01T15:02:28",
          "1970-01-01T15:02:28",
          "1970-01-01T15:44:08",
          "1970-01-01T15:44:08",
          "1970-01-01T15:44:08",
          "1970-01-01T00:40:32",
          "1970-01-01T00:40:32",
          "1970-01-01T01:22:12",
          "1970-01-01T01:22:12",
          "1970-01-01T01:22:12",
          "1970-01-01T03:23:48",
          "1970-01-01T03:23:48",
          "1970-01-01T04:05:28",
          "1970-01-01T04:05:28",
          "1970-01-01T04:05:28",
          "1970-01-01T06:08:31",
          "1970-01-01T06:08:31",
          "1970-01-01T06:50:11",
          "1970-01-01T06:50:11",
          "1970-01-01T06:50:11",
          "1970-01-01T09:06:30",
          "1970-01-01T09:06:30",
          "1970-01-01T09:48:10",
          "1970-01-01T09:48:10",
          "1970-01-01T09:48:10",
          "1970-01-01T12:04:29",
          "1970-01-01T12:04:29",
          "1970-01-01T12:46:09",
          "1970-01-01T12:46:09",
          "1970-01-01T12:46:09",
          "1970-01-01T15:02:28",
          "1970-01-01T15:02:28",
          "1970-01-01T15:44:08",
          "1970-01-01T15:44:08",
          "1970-01-01T15:44:08"
         ],
         "y": [
          "Carrier A",
          "Carrier A",
          "Carrier A",
          "Carrier A",
          null,
          "Carrier A",
          "Carrier A",
          "Carrier A",
          "Carrier A",
          null,
          "Carrier A",
          "Carrier A",
          "Carrier A",
          "Carrier A",
          null,
          "Carrier A",
          "Carrier A",
          "Carrier A",
          "Carrier A",
          null,
          "Carrier A",
          "Carrier A",
          "Carrier A",
          "Carrier A",
          null,
          "Carrier A",
          "Carrier A",
          "Carrier A",
          "Carrier A",
          null,
          "Cutter T",
          "Cutter T",
          "Cutter T",
          "Cutter T",
          null,
          "Cutter T",
          "Cutter T",
          "Cutter T",
          "Cutter T",
          null,
          "Cutter T",
          "Cutter T",
          "Cutter T",
          "Cutter T",
          null,
          "Cutter T",
          "Cutter T",
          "Cutter T",
          "Cutter T",
          null,
          "Cutter T",
          "Cutter T",
          "Cutter T",
          "Cutter T",
          null,
          "Cutter T",
          "Cutter T",
          "Cutter T",
          "Cutter T",
          null,
          "Trench",
          "Trench",
          "Trench",
          "Trench",
          null,
          "Trench",
          "Trench",
          "Trench",
          "Trench",
          null,
          "Trench",
          "Trench",
          "Trench",
          "Trench",
          null,
          "Trench",
          "Trench",
          "Trench",
          "Trench",
          null,
          "Trench",
          "Trench",
          "Trench",
          "Trench",
          null,
          "Trench",
          "Trench",
          "Trench",
          "Trench",
          null
         ]
        },
        {
         "connectgaps": false,
         "hoverinfo": "y+name",
         "line": {
          "color": "rgb(132,129,211)",
          "width": 10
         },
         "mode": "lines",
         "name": "loading:Barge I",
         "type": "scatter",
         "x": [
          "1970-01-01T01:22:12",
          "1970-01-01T01:22:12",
          "1970-01-01T02:03:52",
          "1970-01-01T02:03:52",
          "1970-01-01T02:03:52",
          "1970-01-01T04:09:10",
          "1970-01-01T04:09:10",
          "1970-01-01T04:50:50",
          "1970-01-01T04:50:50",
          "1970-01-01T04:50:50",
          "1970-01-01T06:56:08",
          "1970-01-01T06:56:08",
          "1970-01-01T07:37:48",
          "1970-01-01T07:37:48",
          "1970-01-01T07:37:48",
          "1970-01-01T09:48:10",
          "1970-01-01T09:48:10",
          "1970-01-01T10:29:50",
          "1970-01-01T10:29:50",
          "1970-01-01T10:29:50",
          "1970-01-01T12:46:09",
          "1970-01-01T12:46:09",
          "1970-01-01T13:27:49",
          "1970-01-01T13:27:49",
          "1970-01-01T13:27:49",
          "1970-01-01T15:44:08",
          "1970-01-01T15:44:08",
          "1970-01-01T16:25:48",
          "1970-01-01T16:25:48",
          "1970-01-01T16:25:48",
          "1970-01-01T01:22:12",
          "1970-01-01T01:22:12",
          "1970-01-01T02:03:52",
          "1970-01-01T02:03:52",
          "1970-01-01T02:03:52",
          "1970-01-01T04:09:10",
          "1970-01-01T04:09:10",
          "1970-01-01T04:50:50",
          "1970-01-01T04:50:50",
          "1970-01-01T04:50:50",
          "1970-01-01T06:56:08",
          "1970-01-01T06:56:08",
          "1970-01-01T07:37:48",
          "1970-01-01T07:37:48",
          "1970-01-01T07:37:48",
          "1970-01-01T09:48:10",
          "1970-01-01T09:48:10",
          "1970-01-01T10:29:50",
          "1970-01-01T10:29:50",
          "1970-01-01T10:29:50",
          "1970-01-01T12:46:09",
          "1970-01-01T12:46:09",
          "1970-01-01T13:27:49",
          "1970-01-01T13:27:49",
          "1970-01-01T13:27:49",
          "1970-01-01T15:44:08",
          "1970-01-01T15:44:08",
          "1970-01-01T16:25:48",
          "1970-01-01T16:25:48",
          "1970-01-01T16:25:48",
          "1970-01-01T01:22:12",
          "1970-01-01T01:22:12",
          "1970-01-01T02:03:52",
          "1970-01-01T02:03:52",
          "1970-01-01T02:03:52",
          "1970-01-01T04:09:10",
          "1970-01-01T04:09:10",
          "1970-01-01T04:50:50",
          "1970-01-01T04:50:50",
          "1970-01-01T04:50:50",
          "1970-01-01T06:56:08",
          "1970-01-01T06:56:08",
          "1970-01-01T07:37:48",
          "1970-01-01T07:37:48",
          "1970-01-01T07:37:48",
          "1970-01-01T09:48:10",
          "1970-01-01T09:48:10",
          "1970-01-01T10:29:50",
          "1970-01-01T10:29:50",
          "1970-01-01T10:29:50",
          "1970-01-01T12:46:09",
          "1970-01-01T12:46:09",
          "1970-01-01T13:27:49",
          "1970-01-01T13:27:49",
          "1970-01-01T13:27:49",
          "1970-01-01T15:44:08",
          "1970-01-01T15:44:08",
          "1970-01-01T16:25:48",
          "1970-01-01T16:25:48",
          "1970-01-01T16:25:48"
         ],
         "y": [
          "Barge I",
          "Barge I",
          "Barge I",
          "Barge I",
          null,
          "Barge I",
          "Barge I",
          "Barge I",
          "Barge I",
          null,
          "Barge I",
          "Barge I",
          "Barge I",
          "Barge I",
          null,
          "Barge I",
          "Barge I",
          "Barge I",
          "Barge I",
          null,
          "Barge I",
          "Barge I",
          "Barge I",
          "Barge I",
          null,
          "Barge I",
          "Barge I",
          "Barge I",
          "Barge I",
          null,
          "Cutter T",
          "Cutter T",
          "Cutter T",
          "Cutter T",
          null,
          "Cutter T",
          "Cutter T",
          "Cutter T",
          "Cutter T",
          null,
          "Cutter T",
          "Cutter T",
          "Cutter T",
          "Cutter T",
          null,
          "Cutter T",
          "Cutter T",
          "Cutter T",
          "Cutter T",
          null,
          "Cutter T",
          "Cutter T",
          "Cutter T",
          "Cutter T",
          null,
          "Cutter T",
          "Cutter T",
          "Cutter T",
          "Cutter T",
          null,
          "Trench",
          "Trench",
          "Trench",
          "Trench",
          null,
          "Trench",
          "Trench",
          "Trench",
          "Trench",
          null,
          "Trench",
          "Trench",
          "Trench",
          "Trench",
          null,
          "Trench",
          "Trench",
          "Trench",
          "Trench",
          null,
          "Trench",
          "Trench",
          "Trench",
          "Trench",
          null,
          "Trench",
          "Trench",
          "Trench",
          "Trench",
          null
         ]
        },
        {
         "connectgaps": false,
         "hoverinfo": "y+name",
         "line": {
          "color": "rgb(141,138,220)",
          "width": 10
         },
         "mode": "lines",
         "name": "loading:Carrier B",
         "type": "scatter",
         "x": [
          "1970-01-01T02:37:12",
          "1970-01-01T02:37:12",
          "1970-01-01T03:10:32",
          "1970-01-01T03:10:32",
          "1970-01-01T03:10:32",
          "1970-01-01T05:35:11",
          "1970-01-01T05:35:11",
          "1970-01-01T06:08:31",
          "1970-01-01T06:08:31",
          "1970-01-01T06:08:31",
          "1970-01-01T08:33:10",
          "1970-01-01T08:33:10",
          "1970-01-01T09:06:30",
          "1970-01-01T09:06:30",
          "1970-01-01T09:06:30",
          "1970-01-01T11:31:09",
          "1970-01-01T11:31:09",
          "1970-01-01T12:04:29",
          "1970-01-01T12:04:29",
          "1970-01-01T12:04:29",
          "1970-01-01T14:29:08",
          "1970-01-01T14:29:08",
          "1970-01-01T15:02:28",
          "1970-01-01T15:02:28",
          "1970-01-01T15:02:28",
          "1970-01-01T02:37:12",
          "1970-01-01T02:37:12",
          "1970-01-01T03:10:32",
          "1970-01-01T03:10:32",
          "1970-01-01T03:10:32",
          "1970-01-01T05:35:11",
          "1970-01-01T05:35:11",
          "1970-01-01T06:08:31",
          "1970-01-01T06:08:31",
          "1970-01-01T06:08:31",
          "1970-01-01T08:33:10",
          "1970-01-01T08:33:10",
          "1970-01-01T09:06:30",
          "1970-01-01T09:06:30",
          "1970-01-01T09:06:30",
          "1970-01-01T11:31:09",
          "1970-01-01T11:31:09",
          "1970-01-01T12:04:29",
          "1970-01-01T12:04:29",
          "1970-01-01T12:04:29",
          "1970-01-01T14:29:08",
          "1970-01-01T14:29:08",
          "1970-01-01T15:02:28",
          "1970-01-01T15:02:28",
          "1970-01-01T15:02:28",
          "1970-01-01T02:37:12",
          "1970-01-01T02:37:12",
          "1970-01-01T03:10:32",
          "1970-01-01T03:10:32",
          "1970-01-01T03:10:32",
          "1970-01-01T05:35:11",
          "1970-01-01T05:35:11",
          "1970-01-01T06:08:31",
          "1970-01-01T06:08:31",
          "1970-01-01T06:08:31",
          "1970-01-01T08:33:10",
          "1970-01-01T08:33:10",
          "1970-01-01T09:06:30",
          "1970-01-01T09:06:30",
          "1970-01-01T09:06:30",
          "1970-01-01T11:31:09",
          "1970-01-01T11:31:09",
          "1970-01-01T12:04:29",
          "1970-01-01T12:04:29",
          "1970-01-01T12:04:29",
          "1970-01-01T14:29:08",
          "1970-01-01T14:29:08",
          "1970-01-01T15:02:28",
          "1970-01-01T15:02:28",
          "1970-01-01T15:02:28"
         ],
         "y": [
          "Carrier B",
          "Carrier B",
          "Carrier B",
          "Carrier B",
          null,
          "Carrier B",
          "Carrier B",
          "Carrier B",
          "Carrier B",
          null,
          "Carrier B",
          "Carrier B",
          "Carrier B",
          "Carrier B",
          null,
          "Carrier B",
          "Carrier B",
          "Carrier B",
          "Carrier B",
          null,
          "Carrier B",
          "Carrier B",
          "Carrier B",
          "Carrier B",
          null,
          "Cutter T",
          "Cutter T",
          "Cutter T",
          "Cutter T",
          null,
          "Cutter T",
          "Cutter T",
          "Cutter T",
          "Cutter T",
          null,
          "Cutter T",
          "Cutter T",
          "Cutter T",
          "Cutter T",
          null,
          "Cutter T",
          "Cutter T",
          "Cutter T",
          "Cutter T",
          null,
          "Cutter T",
          "Cutter T",
          "Cutter T",
          "Cutter T",
          null,
          "Trench",
          "Trench",
          "Trench",
          "Trench",
          null,
          "Trench",
          "Trench",
          "Trench",
          "Trench",
          null,
          "Trench",
          "Trench",
          "Trench",
          "Trench",
          null,
          "Trench",
          "Trench",
          "Trench",
          "Trench",
          null,
          "Trench",
          "Trench",
          "Trench",
          "Trench",
          null
         ]
        },
        {
         "connectgaps": false,
         "hoverinfo": "y+name",
         "line": {
          "color": "rgb(150,147,229)",
          "width": 10
         },
         "mode": "lines",
         "name": "loading:Carrier C",
         "type": "scatter",
         "x": [
          "1970-01-01T02:03:52",
          "1970-01-01T02:03:52",
          "1970-01-01T02:37:12",
          "1970-01-01T02:37:12",
          "1970-01-01T02:37:12",
          "1970-01-01T04:50:50",
          "1970-01-01T04:50:50",
          "1970-01-01T05:24:10",
          "1970-01-01T05:24:10",
          "1970-01-01T05:24:10",
          "1970-01-01T07:37:48",
          "1970-01-01T07:37:48",
          "1970-01-01T08:11:08",
          "1970-01-01T08:11:08",
          "1970-01-01T08:11:08",
          "1970-01-01T10:29:50",
          "1970-01-01T10:29:50",
          "1970-01-01T11:03:10",
          "1970-01-01T11:03:10",
          "1970-01-01T11:03:10",
          "1970-01-01T13:27:49",
          "1970-01-01T13:27:49",
          "1970-01-01T14:01:09",
          "1970-01-01T14:01:09",
          "1970-01-01T14:01:09",
          "1970-01-01T02:03:52",
          "1970-01-01T02:03:52",
          "1970-01-01T02:37:12",
          "1970-01-01T02:37:12",
          "1970-01-01T02:37:12",
          "1970-01-01T04:50:50",
          "1970-01-01T04:50:50",
          "1970-01-01T05:24:10",
          "1970-01-01T05:24:10",
          "1970-01-01T05:24:10",
          "1970-01-01T07:37:48",
          "1970-01-01T07:37:48",
          "1970-01-01T08:11:08",
          "1970-01-01T08:11:08",
          "1970-01-01T08:11:08",
          "1970-01-01T10:29:50",
          "1970-01-01T10:29:50",
          "1970-01-01T11:03:10",
          "1970-01-01T11:03:10",
          "1970-01-01T11:03:10",
          "1970-01-01T13:27:49",
          "1970-01-01T13:27:49",
          "1970-01-01T14:01:09",
          "1970-01-01T14:01:09",
          "1970-01-01T14:01:09",
          "1970-01-01T02:03:52",
          "1970-01-01T02:03:52",
          "1970-01-01T02:37:12",
          "1970-01-01T02:37:12",
          "1970-01-01T02:37:12",
          "1970-01-01T04:50:50",
          "1970-01-01T04:50:50",
          "1970-01-01T05:24:10",
          "1970-01-01T05:24:10",
          "1970-01-01T05:24:10",
          "1970-01-01T07:37:48",
          "1970-01-01T07:37:48",
          "1970-01-01T08:11:08",
          "1970-01-01T08:11:08",
          "1970-01-01T08:11:08",
          "1970-01-01T10:29:50",
          "1970-01-01T10:29:50",
          "1970-01-01T11:03:10",
          "1970-01-01T11:03:10",
          "1970-01-01T11:03:10",
          "1970-01-01T13:27:49",
          "1970-01-01T13:27:49",
          "1970-01-01T14:01:09",
          "1970-01-01T14:01:09",
          "1970-01-01T14:01:09"
         ],
         "y": [
          "Carrier C",
          "Carrier C",
          "Carrier C",
          "Carrier C",
          null,
          "Carrier C",
          "Carrier C",
          "Carrier C",
          "Carrier C",
          null,
          "Carrier C",
          "Carrier C",
          "Carrier C",
          "Carrier C",
          null,
          "Carrier C",
          "Carrier C",
          "Carrier C",
          "Carrier C",
          null,
          "Carrier C",
          "Carrier C",
          "Carrier C",
          "Carrier C",
          null,
          "Cutter T",
          "Cutter T",
          "Cutter T",
          "Cutter T",
          null,
          "Cutter T",
          "Cutter T",
          "Cutter T",
          "Cutter T",
          null,
          "Cutter T",
          "Cutter T",
          "Cutter T",
          "Cutter T",
          null,
          "Cutter T",
          "Cutter T",
          "Cutter T",
          "Cutter T",
          null,
          "Cutter T",
          "Cutter T",
          "Cutter T",
          "Cutter T",
          null,
          "Trench",
          "Trench",
          "Trench",
          "Trench",
          null,
          "Trench",
          "Trench",
          "Trench",
          "Trench",
          null,
          "Trench",
          "Trench",
          "Trench",
          "Trench",
          null,
          "Trench",
          "Trench",
          "Trench",
          "Trench",
          null,
          "Trench",
          "Trench",
          "Trench",
          "Trench",
          null
         ]
        },
        {
         "connectgaps": false,
         "hoverinfo": "y+name",
         "line": {
          "color": "rgb(159,156,238)",
          "width": 10
         },
         "mode": "lines",
         "name": "unloading:Carrier B",
         "type": "scatter",
         "x": [
          "1970-01-01T03:58:45",
          "1970-01-01T03:58:45",
          "1970-01-01T04:46:58",
          "1970-01-01T04:46:58",
          "1970-01-01T04:46:58",
          "1970-01-01T06:56:44",
          "1970-01-01T06:56:44",
          "1970-01-01T07:44:57",
          "1970-01-01T07:44:57",
          "1970-01-01T07:44:57",
          "1970-01-01T09:54:43",
          "1970-01-01T09:54:43",
          "1970-01-01T10:42:56",
          "1970-01-01T10:42:56",
          "1970-01-01T10:42:56",
          "1970-01-01T12:52:42",
          "1970-01-01T12:52:42",
          "1970-01-01T13:40:55",
          "1970-01-01T13:40:55",
          "1970-01-01T13:40:55",
          "1970-01-01T15:50:41",
          "1970-01-01T15:50:41",
          "1970-01-01T16:38:54",
          "1970-01-01T16:38:54",
          "1970-01-01T16:38:54",
          "1970-01-01T03:58:45",
          "1970-01-01T03:58:45",
          "1970-01-01T04:46:58",
          "1970-01-01T04:46:58",
          "1970-01-01T04:46:58",
          "1970-01-01T06:56:44",
          "1970-01-01T06:56:44",
          "1970-01-01T07:44:57",
          "1970-01-01T07:44:57",
          "1970-01-01T07:44:57",
          "1970-01-01T09:54:43",
          "1970-01-01T09:54:43",
          "1970-01-01T10:42:56",
          "1970-01-01T10:42:56",
          "1970-01-01T10:42:56",
          "1970-01-01T12:52:42",
          "1970-01-01T12:52:42",
          "1970-01-01T13:40:55",
          "1970-01-01T13:40:55",
          "1970-01-01T13:40:55",
          "1970-01-01T15:50:41",
          "1970-01-01T15:50:41",
          "1970-01-01T16:38:54",
          "1970-01-01T16:38:54",
          "1970-01-01T16:38:54"
         ],
         "y": [
          "Carrier B",
          "Carrier B",
          "Carrier B",
          "Carrier B",
          null,
          "Carrier B",
          "Carrier B",
          "Carrier B",
          "Carrier B",
          null,
          "Carrier B",
          "Carrier B",
          "Carrier B",
          "Carrier B",
          null,
          "Carrier B",
          "Carrier B",
          "Carrier B",
          "Carrier B",
          null,
          "Carrier B",
          "Carrier B",
          "Carrier B",
          "Carrier B",
          null,
          "Reclamation",
          "Reclamation",
          "Reclamation",
          "Reclamation",
          null,
          "Reclamation",
          "Reclamation",
          "Reclamation",
          "Reclamation",
          null,
          "Reclamation",
          "Reclamation",
          "Reclamation",
          "Reclamation",
          null,
          "Reclamation",
          "Reclamation",
          "Reclamation",
          "Reclamation",
          null,
          "Reclamation",
          "Reclamation",
          "Reclamation",
          "Reclamation",
          null
         ]
        },
        {
         "connectgaps": false,
         "hoverinfo": "y+name",
         "line": {
          "color": "rgb(168,165,247)",
          "width": 10
         },
         "mode": "lines",
         "name": "unloading:Barge I",
         "type": "scatter",
         "x": [
          "1970-01-01T02:45:38",
          "1970-01-01T02:45:38",
          "1970-01-01T03:27:24",
          "1970-01-01T03:27:24",
          "1970-01-01T03:27:24",
          "1970-01-01T05:32:36",
          "1970-01-01T05:32:36",
          "1970-01-01T06:14:22",
          "1970-01-01T06:14:22",
          "1970-01-01T06:14:22",
          "1970-01-01T08:19:34",
          "1970-01-01T08:19:34",
          "1970-01-01T09:01:20",
          "1970-01-01T09:01:20",
          "1970-01-01T09:01:20",
          "1970-01-01T11:11:36",
          "1970-01-01T11:11:36",
          "1970-01-01T11:53:22",
          "1970-01-01T11:53:22",
          "1970-01-01T11:53:22",
          "1970-01-01T14:09:35",
          "1970-01-01T14:09:35",
          "1970-01-01T14:51:21",
          "1970-01-01T14:51:21",
          "1970-01-01T14:51:21",
          "1970-01-01T17:07:34",
          "1970-01-01T17:07:34",
          "1970-01-01T17:49:20",
          "1970-01-01T17:49:20",
          "1970-01-01T17:49:20",
          "1970-01-01T02:45:38",
          "1970-01-01T02:45:38",
          "1970-01-01T03:27:24",
          "1970-01-01T03:27:24",
          "1970-01-01T03:27:24",
          "1970-01-01T05:32:36",
          "1970-01-01T05:32:36",
          "1970-01-01T06:14:22",
          "1970-01-01T06:14:22",
          "1970-01-01T06:14:22",
          "1970-01-01T08:19:34",
          "1970-01-01T08:19:34",
          "1970-01-01T09:01:20",
          "1970-01-01T09:01:20",
          "1970-01-01T09:01:20",
          "1970-01-01T11:11:36",
          "1970-01-01T11:11:36",
          "1970-01-01T11:53:22",
          "1970-01-01T11:53:22",
          "1970-01-01T11:53:22",
          "1970-01-01T14:09:35",
          "1970-01-01T14:09:35",
          "1970-01-01T14:51:21",
          "1970-01-01T14:51:21",
          "1970-01-01T14:51:21",
          "1970-01-01T17:07:34",
          "1970-01-01T17:07:34",
          "1970-01-01T17:49:20",
          "1970-01-01T17:49:20",
          "1970-01-01T17:49:20"
         ],
         "y": [
          "Barge I",
          "Barge I",
          "Barge I",
          "Barge I",
          null,
          "Barge I",
          "Barge I",
          "Barge I",
          "Barge I",
          null,
          "Barge I",
          "Barge I",
          "Barge I",
          "Barge I",
          null,
          "Barge I",
          "Barge I",
          "Barge I",
          "Barge I",
          null,
          "Barge I",
          "Barge I",
          "Barge I",
          "Barge I",
          null,
          "Barge I",
          "Barge I",
          "Barge I",
          "Barge I",
          null,
          "Reclamation",
          "Reclamation",
          "Reclamation",
          "Reclamation",
          null,
          "Reclamation",
          "Reclamation",
          "Reclamation",
          "Reclamation",
          null,
          "Reclamation",
          "Reclamation",
          "Reclamation",
          "Reclamation",
          null,
          "Reclamation",
          "Reclamation",
          "Reclamation",
          "Reclamation",
          null,
          "Reclamation",
          "Reclamation",
          "Reclamation",
          "Reclamation",
          null,
          "Reclamation",
          "Reclamation",
          "Reclamation",
          "Reclamation",
          null
         ]
        },
        {
         "connectgaps": false,
         "hoverinfo": "y+name",
         "line": {
          "color": "rgb(177,174,0)",
          "width": 10
         },
         "mode": "lines",
         "name": "unloading:Carrier C",
         "type": "scatter",
         "x": [
          "1970-01-01T03:19:46",
          "1970-01-01T03:19:46",
          "1970-01-01T04:02:20",
          "1970-01-01T04:02:20",
          "1970-01-01T04:02:20",
          "1970-01-01T06:06:44",
          "1970-01-01T06:06:44",
          "1970-01-01T06:49:18",
          "1970-01-01T06:49:18",
          "1970-01-01T06:49:18",
          "1970-01-01T08:53:42",
          "1970-01-01T08:53:42",
          "1970-01-01T09:36:16",
          "1970-01-01T09:36:16",
          "1970-01-01T09:36:16",
          "1970-01-01T11:45:44",
          "1970-01-01T11:45:44",
          "1970-01-01T12:28:18",
          "1970-01-01T12:28:18",
          "1970-01-01T12:28:18",
          "1970-01-01T14:43:43",
          "1970-01-01T14:43:43",
          "1970-01-01T15:26:17",
          "1970-01-01T15:26:17",
          "1970-01-01T15:26:17",
          "1970-01-01T03:19:46",
          "1970-01-01T03:19:46",
          "1970-01-01T04:02:20",
          "1970-01-01T04:02:20",
          "1970-01-01T04:02:20",
          "1970-01-01T06:06:44",
          "1970-01-01T06:06:44",
          "1970-01-01T06:49:18",
          "1970-01-01T06:49:18",
          "1970-01-01T06:49:18",
          "1970-01-01T08:53:42",
          "1970-01-01T08:53:42",
          "1970-01-01T09:36:16",
          "1970-01-01T09:36:16",
          "1970-01-01T09:36:16",
          "1970-01-01T11:45:44",
          "1970-01-01T11:45:44",
          "1970-01-01T12:28:18",
          "1970-01-01T12:28:18",
          "1970-01-01T12:28:18",
          "1970-01-01T14:43:43",
          "1970-01-01T14:43:43",
          "1970-01-01T15:26:17",
          "1970-01-01T15:26:17",
          "1970-01-01T15:26:17"
         ],
         "y": [
          "Carrier C",
          "Carrier C",
          "Carrier C",
          "Carrier C",
          null,
          "Carrier C",
          "Carrier C",
          "Carrier C",
          "Carrier C",
          null,
          "Carrier C",
          "Carrier C",
          "Carrier C",
          "Carrier C",
          null,
          "Carrier C",
          "Carrier C",
          "Carrier C",
          "Carrier C",
          null,
          "Carrier C",
          "Carrier C",
          "Carrier C",
          "Carrier C",
          null,
          "Reclamation",
          "Reclamation",
          "Reclamation",
          "Reclamation",
          null,
          "Reclamation",
          "Reclamation",
          "Reclamation",
          "Reclamation",
          null,
          "Reclamation",
          "Reclamation",
          "Reclamation",
          "Reclamation",
          null,
          "Reclamation",
          "Reclamation",
          "Reclamation",
          "Reclamation",
          null,
          "Reclamation",
          "Reclamation",
          "Reclamation",
          "Reclamation",
          null
         ]
        },
        {
         "connectgaps": false,
         "hoverinfo": "y+name",
         "line": {
          "color": "rgb(186,183,9)",
          "width": 10
         },
         "mode": "lines",
         "name": "unloading:Carrier A",
         "type": "scatter",
         "x": [
          "1970-01-01T02:02:44",
          "1970-01-01T02:02:44",
          "1970-01-01T02:43:16",
          "1970-01-01T02:43:16",
          "1970-01-01T02:43:16",
          "1970-01-01T04:46:00",
          "1970-01-01T04:46:00",
          "1970-01-01T05:26:32",
          "1970-01-01T05:26:32",
          "1970-01-01T05:26:32",
          "1970-01-01T07:30:43",
          "1970-01-01T07:30:43",
          "1970-01-01T08:11:15",
          "1970-01-01T08:11:15",
          "1970-01-01T08:11:15",
          "1970-01-01T10:28:42",
          "1970-01-01T10:28:42",
          "1970-01-01T11:09:14",
          "1970-01-01T11:09:14",
          "1970-01-01T11:09:14",
          "1970-01-01T13:26:41",
          "1970-01-01T13:26:41",
          "1970-01-01T14:07:13",
          "1970-01-01T14:07:13",
          "1970-01-01T14:07:13",
          "1970-01-01T16:24:40",
          "1970-01-01T16:24:40",
          "1970-01-01T17:05:12",
          "1970-01-01T17:05:12",
          "1970-01-01T17:05:12",
          "1970-01-01T02:02:44",
          "1970-01-01T02:02:44",
          "1970-01-01T02:43:16",
          "1970-01-01T02:43:16",
          "1970-01-01T02:43:16",
          "1970-01-01T04:46:00",
          "1970-01-01T04:46:00",
          "1970-01-01T05:26:32",
          "1970-01-01T05:26:32",
          "1970-01-01T05:26:32",
          "1970-01-01T07:30:43",
          "1970-01-01T07:30:43",
          "1970-01-01T08:11:15",
          "1970-01-01T08:11:15",
          "1970-01-01T08:11:15",
          "1970-01-01T10:28:42",
          "1970-01-01T10:28:42",
          "1970-01-01T11:09:14",
          "1970-01-01T11:09:14",
          "1970-01-01T11:09:14",
          "1970-01-01T13:26:41",
          "1970-01-01T13:26:41",
          "1970-01-01T14:07:13",
          "1970-01-01T14:07:13",
          "1970-01-01T14:07:13",
          "1970-01-01T16:24:40",
          "1970-01-01T16:24:40",
          "1970-01-01T17:05:12",
          "1970-01-01T17:05:12",
          "1970-01-01T17:05:12"
         ],
         "y": [
          "Carrier A",
          "Carrier A",
          "Carrier A",
          "Carrier A",
          null,
          "Carrier A",
          "Carrier A",
          "Carrier A",
          "Carrier A",
          null,
          "Carrier A",
          "Carrier A",
          "Carrier A",
          "Carrier A",
          null,
          "Carrier A",
          "Carrier A",
          "Carrier A",
          "Carrier A",
          null,
          "Carrier A",
          "Carrier A",
          "Carrier A",
          "Carrier A",
          null,
          "Carrier A",
          "Carrier A",
          "Carrier A",
          "Carrier A",
          null,
          "Reclamation",
          "Reclamation",
          "Reclamation",
          "Reclamation",
          null,
          "Reclamation",
          "Reclamation",
          "Reclamation",
          "Reclamation",
          null,
          "Reclamation",
          "Reclamation",
          "Reclamation",
          "Reclamation",
          null,
          "Reclamation",
          "Reclamation",
          "Reclamation",
          "Reclamation",
          null,
          "Reclamation",
          "Reclamation",
          "Reclamation",
          "Reclamation",
          null,
          "Reclamation",
          "Reclamation",
          "Reclamation",
          "Reclamation",
          null
         ]
        }
       ],
       "layout": {
        "hovermode": "closest",
        "legend": {
         "orientation": "h",
         "x": 0,
         "y": -0.2
        },
        "showlegend": false,
        "template": {
         "data": {
          "bar": [
           {
            "error_x": {
             "color": "#2a3f5f"
            },
            "error_y": {
             "color": "#2a3f5f"
            },
            "marker": {
             "line": {
              "color": "#E5ECF6",
              "width": 0.5
             },
             "pattern": {
              "fillmode": "overlay",
              "size": 10,
              "solidity": 0.2
             }
            },
            "type": "bar"
           }
          ],
          "barpolar": [
           {
            "marker": {
             "line": {
              "color": "#E5ECF6",
              "width": 0.5
             },
             "pattern": {
              "fillmode": "overlay",
              "size": 10,
              "solidity": 0.2
             }
            },
            "type": "barpolar"
           }
          ],
          "carpet": [
           {
            "aaxis": {
             "endlinecolor": "#2a3f5f",
             "gridcolor": "white",
             "linecolor": "white",
             "minorgridcolor": "white",
             "startlinecolor": "#2a3f5f"
            },
            "baxis": {
             "endlinecolor": "#2a3f5f",
             "gridcolor": "white",
             "linecolor": "white",
             "minorgridcolor": "white",
             "startlinecolor": "#2a3f5f"
            },
            "type": "carpet"
           }
          ],
          "choropleth": [
           {
            "colorbar": {
             "outlinewidth": 0,
             "ticks": ""
            },
            "type": "choropleth"
           }
          ],
          "contour": [
           {
            "colorbar": {
             "outlinewidth": 0,
             "ticks": ""
            },
            "colorscale": [
             [
              0,
              "#0d0887"
             ],
             [
              0.1111111111111111,
              "#46039f"
             ],
             [
              0.2222222222222222,
              "#7201a8"
             ],
             [
              0.3333333333333333,
              "#9c179e"
             ],
             [
              0.4444444444444444,
              "#bd3786"
             ],
             [
              0.5555555555555556,
              "#d8576b"
             ],
             [
              0.6666666666666666,
              "#ed7953"
             ],
             [
              0.7777777777777778,
              "#fb9f3a"
             ],
             [
              0.8888888888888888,
              "#fdca26"
             ],
             [
              1,
              "#f0f921"
             ]
            ],
            "type": "contour"
           }
          ],
          "contourcarpet": [
           {
            "colorbar": {
             "outlinewidth": 0,
             "ticks": ""
            },
            "type": "contourcarpet"
           }
          ],
          "heatmap": [
           {
            "colorbar": {
             "outlinewidth": 0,
             "ticks": ""
            },
            "colorscale": [
             [
              0,
              "#0d0887"
             ],
             [
              0.1111111111111111,
              "#46039f"
             ],
             [
              0.2222222222222222,
              "#7201a8"
             ],
             [
              0.3333333333333333,
              "#9c179e"
             ],
             [
              0.4444444444444444,
              "#bd3786"
             ],
             [
              0.5555555555555556,
              "#d8576b"
             ],
             [
              0.6666666666666666,
              "#ed7953"
             ],
             [
              0.7777777777777778,
              "#fb9f3a"
             ],
             [
              0.8888888888888888,
              "#fdca26"
             ],
             [
              1,
              "#f0f921"
             ]
            ],
            "type": "heatmap"
           }
          ],
          "heatmapgl": [
           {
            "colorbar": {
             "outlinewidth": 0,
             "ticks": ""
            },
            "colorscale": [
             [
              0,
              "#0d0887"
             ],
             [
              0.1111111111111111,
              "#46039f"
             ],
             [
              0.2222222222222222,
              "#7201a8"
             ],
             [
              0.3333333333333333,
              "#9c179e"
             ],
             [
              0.4444444444444444,
              "#bd3786"
             ],
             [
              0.5555555555555556,
              "#d8576b"
             ],
             [
              0.6666666666666666,
              "#ed7953"
             ],
             [
              0.7777777777777778,
              "#fb9f3a"
             ],
             [
              0.8888888888888888,
              "#fdca26"
             ],
             [
              1,
              "#f0f921"
             ]
            ],
            "type": "heatmapgl"
           }
          ],
          "histogram": [
           {
            "marker": {
             "pattern": {
              "fillmode": "overlay",
              "size": 10,
              "solidity": 0.2
             }
            },
            "type": "histogram"
           }
          ],
          "histogram2d": [
           {
            "colorbar": {
             "outlinewidth": 0,
             "ticks": ""
            },
            "colorscale": [
             [
              0,
              "#0d0887"
             ],
             [
              0.1111111111111111,
              "#46039f"
             ],
             [
              0.2222222222222222,
              "#7201a8"
             ],
             [
              0.3333333333333333,
              "#9c179e"
             ],
             [
              0.4444444444444444,
              "#bd3786"
             ],
             [
              0.5555555555555556,
              "#d8576b"
             ],
             [
              0.6666666666666666,
              "#ed7953"
             ],
             [
              0.7777777777777778,
              "#fb9f3a"
             ],
             [
              0.8888888888888888,
              "#fdca26"
             ],
             [
              1,
              "#f0f921"
             ]
            ],
            "type": "histogram2d"
           }
          ],
          "histogram2dcontour": [
           {
            "colorbar": {
             "outlinewidth": 0,
             "ticks": ""
            },
            "colorscale": [
             [
              0,
              "#0d0887"
             ],
             [
              0.1111111111111111,
              "#46039f"
             ],
             [
              0.2222222222222222,
              "#7201a8"
             ],
             [
              0.3333333333333333,
              "#9c179e"
             ],
             [
              0.4444444444444444,
              "#bd3786"
             ],
             [
              0.5555555555555556,
              "#d8576b"
             ],
             [
              0.6666666666666666,
              "#ed7953"
             ],
             [
              0.7777777777777778,
              "#fb9f3a"
             ],
             [
              0.8888888888888888,
              "#fdca26"
             ],
             [
              1,
              "#f0f921"
             ]
            ],
            "type": "histogram2dcontour"
           }
          ],
          "mesh3d": [
           {
            "colorbar": {
             "outlinewidth": 0,
             "ticks": ""
            },
            "type": "mesh3d"
           }
          ],
          "parcoords": [
           {
            "line": {
             "colorbar": {
              "outlinewidth": 0,
              "ticks": ""
             }
            },
            "type": "parcoords"
           }
          ],
          "pie": [
           {
            "automargin": true,
            "type": "pie"
           }
          ],
          "scatter": [
           {
            "fillpattern": {
             "fillmode": "overlay",
             "size": 10,
             "solidity": 0.2
            },
            "type": "scatter"
           }
          ],
          "scatter3d": [
           {
            "line": {
             "colorbar": {
              "outlinewidth": 0,
              "ticks": ""
             }
            },
            "marker": {
             "colorbar": {
              "outlinewidth": 0,
              "ticks": ""
             }
            },
            "type": "scatter3d"
           }
          ],
          "scattercarpet": [
           {
            "marker": {
             "colorbar": {
              "outlinewidth": 0,
              "ticks": ""
             }
            },
            "type": "scattercarpet"
           }
          ],
          "scattergeo": [
           {
            "marker": {
             "colorbar": {
              "outlinewidth": 0,
              "ticks": ""
             }
            },
            "type": "scattergeo"
           }
          ],
          "scattergl": [
           {
            "marker": {
             "colorbar": {
              "outlinewidth": 0,
              "ticks": ""
             }
            },
            "type": "scattergl"
           }
          ],
          "scattermapbox": [
           {
            "marker": {
             "colorbar": {
              "outlinewidth": 0,
              "ticks": ""
             }
            },
            "type": "scattermapbox"
           }
          ],
          "scatterpolar": [
           {
            "marker": {
             "colorbar": {
              "outlinewidth": 0,
              "ticks": ""
             }
            },
            "type": "scatterpolar"
           }
          ],
          "scatterpolargl": [
           {
            "marker": {
             "colorbar": {
              "outlinewidth": 0,
              "ticks": ""
             }
            },
            "type": "scatterpolargl"
           }
          ],
          "scatterternary": [
           {
            "marker": {
             "colorbar": {
              "outlinewidth": 0,
              "ticks": ""
             }
            },
            "type": "scatterternary"
           }
          ],
          "surface": [
           {
            "colorbar": {
             "outlinewidth": 0,
             "ticks": ""
            },
            "colorscale": [
             [
              0,
              "#0d0887"
             ],
             [
              0.1111111111111111,
              "#46039f"
             ],
             [
              0.2222222222222222,
              "#7201a8"
             ],
             [
              0.3333333333333333,
              "#9c179e"
             ],
             [
              0.4444444444444444,
              "#bd3786"
             ],
             [
              0.5555555555555556,
              "#d8576b"
             ],
             [
              0.6666666666666666,
              "#ed7953"
             ],
             [
              0.7777777777777778,
              "#fb9f3a"
             ],
             [
              0.8888888888888888,
              "#fdca26"
             ],
             [
              1,
              "#f0f921"
             ]
            ],
            "type": "surface"
           }
          ],
          "table": [
           {
            "cells": {
             "fill": {
              "color": "#EBF0F8"
             },
             "line": {
              "color": "white"
             }
            },
            "header": {
             "fill": {
              "color": "#C8D4E3"
             },
             "line": {
              "color": "white"
             }
            },
            "type": "table"
           }
          ]
         },
         "layout": {
          "annotationdefaults": {
           "arrowcolor": "#2a3f5f",
           "arrowhead": 0,
           "arrowwidth": 1
          },
          "autotypenumbers": "strict",
          "coloraxis": {
           "colorbar": {
            "outlinewidth": 0,
            "ticks": ""
           }
          },
          "colorscale": {
           "diverging": [
            [
             0,
             "#8e0152"
            ],
            [
             0.1,
             "#c51b7d"
            ],
            [
             0.2,
             "#de77ae"
            ],
            [
             0.3,
             "#f1b6da"
            ],
            [
             0.4,
             "#fde0ef"
            ],
            [
             0.5,
             "#f7f7f7"
            ],
            [
             0.6,
             "#e6f5d0"
            ],
            [
             0.7,
             "#b8e186"
            ],
            [
             0.8,
             "#7fbc41"
            ],
            [
             0.9,
             "#4d9221"
            ],
            [
             1,
             "#276419"
            ]
           ],
           "sequential": [
            [
             0,
             "#0d0887"
            ],
            [
             0.1111111111111111,
             "#46039f"
            ],
            [
             0.2222222222222222,
             "#7201a8"
            ],
            [
             0.3333333333333333,
             "#9c179e"
            ],
            [
             0.4444444444444444,
             "#bd3786"
            ],
            [
             0.5555555555555556,
             "#d8576b"
            ],
            [
             0.6666666666666666,
             "#ed7953"
            ],
            [
             0.7777777777777778,
             "#fb9f3a"
            ],
            [
             0.8888888888888888,
             "#fdca26"
            ],
            [
             1,
             "#f0f921"
            ]
           ],
           "sequentialminus": [
            [
             0,
             "#0d0887"
            ],
            [
             0.1111111111111111,
             "#46039f"
            ],
            [
             0.2222222222222222,
             "#7201a8"
            ],
            [
             0.3333333333333333,
             "#9c179e"
            ],
            [
             0.4444444444444444,
             "#bd3786"
            ],
            [
             0.5555555555555556,
             "#d8576b"
            ],
            [
             0.6666666666666666,
             "#ed7953"
            ],
            [
             0.7777777777777778,
             "#fb9f3a"
            ],
            [
             0.8888888888888888,
             "#fdca26"
            ],
            [
             1,
             "#f0f921"
            ]
           ]
          },
          "colorway": [
           "#636efa",
           "#EF553B",
           "#00cc96",
           "#ab63fa",
           "#FFA15A",
           "#19d3f3",
           "#FF6692",
           "#B6E880",
           "#FF97FF",
           "#FECB52"
          ],
          "font": {
           "color": "#2a3f5f"
          },
          "geo": {
           "bgcolor": "white",
           "lakecolor": "white",
           "landcolor": "#E5ECF6",
           "showlakes": true,
           "showland": true,
           "subunitcolor": "white"
          },
          "hoverlabel": {
           "align": "left"
          },
          "hovermode": "closest",
          "mapbox": {
           "style": "light"
          },
          "paper_bgcolor": "white",
          "plot_bgcolor": "#E5ECF6",
          "polar": {
           "angularaxis": {
            "gridcolor": "white",
            "linecolor": "white",
            "ticks": ""
           },
           "bgcolor": "#E5ECF6",
           "radialaxis": {
            "gridcolor": "white",
            "linecolor": "white",
            "ticks": ""
           }
          },
          "scene": {
           "xaxis": {
            "backgroundcolor": "#E5ECF6",
            "gridcolor": "white",
            "gridwidth": 2,
            "linecolor": "white",
            "showbackground": true,
            "ticks": "",
            "zerolinecolor": "white"
           },
           "yaxis": {
            "backgroundcolor": "#E5ECF6",
            "gridcolor": "white",
            "gridwidth": 2,
            "linecolor": "white",
            "showbackground": true,
            "ticks": "",
            "zerolinecolor": "white"
           },
           "zaxis": {
            "backgroundcolor": "#E5ECF6",
            "gridcolor": "white",
            "gridwidth": 2,
            "linecolor": "white",
            "showbackground": true,
            "ticks": "",
            "zerolinecolor": "white"
           }
          },
          "shapedefaults": {
           "line": {
            "color": "#2a3f5f"
           }
          },
          "ternary": {
           "aaxis": {
            "gridcolor": "white",
            "linecolor": "white",
            "ticks": ""
           },
           "baxis": {
            "gridcolor": "white",
            "linecolor": "white",
            "ticks": ""
           },
           "bgcolor": "#E5ECF6",
           "caxis": {
            "gridcolor": "white",
            "linecolor": "white",
            "ticks": ""
           }
          },
          "title": {
           "x": 0.05
          },
          "xaxis": {
           "automargin": true,
           "gridcolor": "white",
           "linecolor": "white",
           "ticks": "",
           "title": {
            "standoff": 15
           },
           "zerolinecolor": "white",
           "zerolinewidth": 2
          },
          "yaxis": {
           "automargin": true,
           "gridcolor": "white",
           "linecolor": "white",
           "ticks": "",
           "title": {
            "standoff": 15
           },
           "zerolinecolor": "white",
           "zerolinewidth": 2
          }
         }
        },
        "title": {
         "text": "Cutter T occupancy: 88.2duration actual: 56716.0"
        },
        "xaxis": {
         "range": [
          "1970-01-01T00:00:00",
          "1970-01-01T17:49:20"
         ],
         "title": {
          "font": {
           "color": "#7f7f7f",
           "family": "Courier New, monospace",
           "size": 18
          },
          "text": "Time"
         }
        },
        "yaxis": {
         "title": {
          "font": {
           "color": "#7f7f7f",
           "family": "Courier New, monospace",
           "size": 18
          },
          "text": "vesels"
         }
        }
       }
      },
      "text/html": [
       "<div>                            <div id=\"6f5e8e25-552b-422d-aa84-0a6d916353f9\" class=\"plotly-graph-div\" style=\"height:525px; width:100%;\"></div>            <script type=\"text/javascript\">                require([\"plotly\"], function(Plotly) {                    window.PLOTLYENV=window.PLOTLYENV || {};                                    if (document.getElementById(\"6f5e8e25-552b-422d-aa84-0a6d916353f9\")) {                    Plotly.newPlot(                        \"6f5e8e25-552b-422d-aa84-0a6d916353f9\",                        [{\"connectgaps\":false,\"hoverinfo\":\"name\",\"line\":{\"color\":\"red\",\"width\":14},\"mode\":\"lines\",\"name\":\"critical_path\",\"x\":[\"1970-01-01T00:00:00\",\"1970-01-01T00:40:32\",\"1970-01-01T00:40:32\",\"1970-01-01T00:40:32\",\"1970-01-01T01:22:12\",\"1970-01-01T01:22:12\",\"1970-01-01T00:40:32\",\"1970-01-01T01:22:12\",\"1970-01-01T01:22:12\",\"1970-01-01T00:40:32\",\"1970-01-01T01:22:12\",\"1970-01-01T01:22:12\",\"1970-01-01T01:22:12\",\"1970-01-01T02:03:52\",\"1970-01-01T02:03:52\",\"1970-01-01T01:22:12\",\"1970-01-01T02:03:52\",\"1970-01-01T02:03:52\",\"1970-01-01T01:22:12\",\"1970-01-01T02:03:52\",\"1970-01-01T02:03:52\",\"1970-01-01T02:03:52\",\"1970-01-01T02:37:12\",\"1970-01-01T02:37:12\",\"1970-01-01T02:03:52\",\"1970-01-01T02:37:12\",\"1970-01-01T02:37:12\",\"1970-01-01T02:03:52\",\"1970-01-01T02:37:12\",\"1970-01-01T02:37:12\",\"1970-01-01T02:37:12\",\"1970-01-01T03:10:32\",\"1970-01-01T03:10:32\",\"1970-01-01T02:37:12\",\"1970-01-01T03:10:32\",\"1970-01-01T03:10:32\",\"1970-01-01T02:37:12\",\"1970-01-01T03:10:32\",\"1970-01-01T03:10:32\",\"1970-01-01T03:10:32\",\"1970-01-01T03:58:45\",\"1970-01-01T03:58:45\",\"1970-01-01T03:58:45\",\"1970-01-01T04:46:58\",\"1970-01-01T04:46:58\",\"1970-01-01T03:58:45\",\"1970-01-01T04:46:58\",\"1970-01-01T04:46:58\",\"1970-01-01T04:46:58\",\"1970-01-01T05:35:11\",\"1970-01-01T05:35:11\",\"1970-01-01T05:35:11\",\"1970-01-01T06:08:31\",\"1970-01-01T06:08:31\",\"1970-01-01T05:35:11\",\"1970-01-01T06:08:31\",\"1970-01-01T06:08:31\",\"1970-01-01T05:35:11\",\"1970-01-01T06:08:31\",\"1970-01-01T06:08:31\",\"1970-01-01T06:08:31\",\"1970-01-01T06:56:44\",\"1970-01-01T06:56:44\",\"1970-01-01T06:56:44\",\"1970-01-01T07:44:57\",\"1970-01-01T07:44:57\",\"1970-01-01T06:56:44\",\"1970-01-01T07:44:57\",\"1970-01-01T07:44:57\",\"1970-01-01T07:44:57\",\"1970-01-01T08:33:10\",\"1970-01-01T08:33:10\",\"1970-01-01T08:33:10\",\"1970-01-01T09:06:30\",\"1970-01-01T09:06:30\",\"1970-01-01T08:33:10\",\"1970-01-01T09:06:30\",\"1970-01-01T09:06:30\",\"1970-01-01T08:33:10\",\"1970-01-01T09:06:30\",\"1970-01-01T09:06:30\",\"1970-01-01T09:06:30\",\"1970-01-01T09:54:43\",\"1970-01-01T09:54:43\",\"1970-01-01T09:54:43\",\"1970-01-01T10:42:56\",\"1970-01-01T10:42:56\",\"1970-01-01T09:54:43\",\"1970-01-01T10:42:56\",\"1970-01-01T10:42:56\",\"1970-01-01T10:42:56\",\"1970-01-01T11:31:09\",\"1970-01-01T11:31:09\",\"1970-01-01T11:31:09\",\"1970-01-01T12:04:29\",\"1970-01-01T12:04:29\",\"1970-01-01T11:31:09\",\"1970-01-01T12:04:29\",\"1970-01-01T12:04:29\",\"1970-01-01T11:31:09\",\"1970-01-01T12:04:29\",\"1970-01-01T12:04:29\",\"1970-01-01T12:04:29\",\"1970-01-01T12:52:42\",\"1970-01-01T12:52:42\",\"1970-01-01T12:52:42\",\"1970-01-01T13:40:55\",\"1970-01-01T13:40:55\",\"1970-01-01T12:52:42\",\"1970-01-01T13:40:55\",\"1970-01-01T13:40:55\",\"1970-01-01T13:40:55\",\"1970-01-01T14:29:08\",\"1970-01-01T14:29:08\",\"1970-01-01T14:29:08\",\"1970-01-01T15:02:28\",\"1970-01-01T15:02:28\",\"1970-01-01T14:29:08\",\"1970-01-01T15:02:28\",\"1970-01-01T15:02:28\",\"1970-01-01T14:29:08\",\"1970-01-01T15:02:28\",\"1970-01-01T15:02:28\",\"1970-01-01T15:02:28\",\"1970-01-01T15:44:08\",\"1970-01-01T15:44:08\",\"1970-01-01T15:02:28\",\"1970-01-01T15:44:08\",\"1970-01-01T15:44:08\",\"1970-01-01T15:02:28\",\"1970-01-01T15:44:08\",\"1970-01-01T15:44:08\",\"1970-01-01T15:44:08\",\"1970-01-01T16:25:48\",\"1970-01-01T16:25:48\",\"1970-01-01T15:44:08\",\"1970-01-01T16:25:48\",\"1970-01-01T16:25:48\",\"1970-01-01T15:44:08\",\"1970-01-01T16:25:48\",\"1970-01-01T16:25:48\",\"1970-01-01T16:25:48\",\"1970-01-01T17:07:34\",\"1970-01-01T17:07:34\",\"1970-01-01T17:07:34\",\"1970-01-01T17:49:20\",\"1970-01-01T17:49:20\",\"1970-01-01T17:07:34\",\"1970-01-01T17:49:20\",\"1970-01-01T17:49:20\"],\"y\":[\"Carrier A\",\"Carrier A\",null,\"Carrier A\",\"Carrier A\",null,\"Cutter T\",\"Cutter T\",null,\"Trench\",\"Trench\",null,\"Barge I\",\"Barge I\",null,\"Cutter T\",\"Cutter T\",null,\"Trench\",\"Trench\",null,\"Carrier C\",\"Carrier C\",null,\"Cutter T\",\"Cutter T\",null,\"Trench\",\"Trench\",null,\"Carrier B\",\"Carrier B\",null,\"Cutter T\",\"Cutter T\",null,\"Trench\",\"Trench\",null,\"Carrier B\",\"Carrier B\",null,\"Carrier B\",\"Carrier B\",null,\"Reclamation\",\"Reclamation\",null,\"Carrier B\",\"Carrier B\",null,\"Carrier B\",\"Carrier B\",null,\"Cutter T\",\"Cutter T\",null,\"Trench\",\"Trench\",null,\"Carrier B\",\"Carrier B\",null,\"Carrier B\",\"Carrier B\",null,\"Reclamation\",\"Reclamation\",null,\"Carrier B\",\"Carrier B\",null,\"Carrier B\",\"Carrier B\",null,\"Cutter T\",\"Cutter T\",null,\"Trench\",\"Trench\",null,\"Carrier B\",\"Carrier B\",null,\"Carrier B\",\"Carrier B\",null,\"Reclamation\",\"Reclamation\",null,\"Carrier B\",\"Carrier B\",null,\"Carrier B\",\"Carrier B\",null,\"Cutter T\",\"Cutter T\",null,\"Trench\",\"Trench\",null,\"Carrier B\",\"Carrier B\",null,\"Carrier B\",\"Carrier B\",null,\"Reclamation\",\"Reclamation\",null,\"Carrier B\",\"Carrier B\",null,\"Carrier B\",\"Carrier B\",null,\"Cutter T\",\"Cutter T\",null,\"Trench\",\"Trench\",null,\"Carrier A\",\"Carrier A\",null,\"Cutter T\",\"Cutter T\",null,\"Trench\",\"Trench\",null,\"Barge I\",\"Barge I\",null,\"Cutter T\",\"Cutter T\",null,\"Trench\",\"Trench\",null,\"Barge I\",\"Barge I\",null,\"Barge I\",\"Barge I\",null,\"Reclamation\",\"Reclamation\",null],\"type\":\"scatter\"},{\"connectgaps\":false,\"hoverinfo\":\"y+name\",\"line\":{\"color\":\"rgb(199,196,22)\",\"width\":10},\"mode\":\"lines\",\"name\":\"loading:Carrier A\",\"x\":[\"1970-01-01T00:40:32\",\"1970-01-01T00:40:32\",\"1970-01-01T01:22:12\",\"1970-01-01T01:22:12\",\"1970-01-01T01:22:12\",\"1970-01-01T03:23:48\",\"1970-01-01T03:23:48\",\"1970-01-01T04:05:28\",\"1970-01-01T04:05:28\",\"1970-01-01T04:05:28\",\"1970-01-01T06:08:31\",\"1970-01-01T06:08:31\",\"1970-01-01T06:50:11\",\"1970-01-01T06:50:11\",\"1970-01-01T06:50:11\",\"1970-01-01T09:06:30\",\"1970-01-01T09:06:30\",\"1970-01-01T09:48:10\",\"1970-01-01T09:48:10\",\"1970-01-01T09:48:10\",\"1970-01-01T12:04:29\",\"1970-01-01T12:04:29\",\"1970-01-01T12:46:09\",\"1970-01-01T12:46:09\",\"1970-01-01T12:46:09\",\"1970-01-01T15:02:28\",\"1970-01-01T15:02:28\",\"1970-01-01T15:44:08\",\"1970-01-01T15:44:08\",\"1970-01-01T15:44:08\",\"1970-01-01T00:40:32\",\"1970-01-01T00:40:32\",\"1970-01-01T01:22:12\",\"1970-01-01T01:22:12\",\"1970-01-01T01:22:12\",\"1970-01-01T03:23:48\",\"1970-01-01T03:23:48\",\"1970-01-01T04:05:28\",\"1970-01-01T04:05:28\",\"1970-01-01T04:05:28\",\"1970-01-01T06:08:31\",\"1970-01-01T06:08:31\",\"1970-01-01T06:50:11\",\"1970-01-01T06:50:11\",\"1970-01-01T06:50:11\",\"1970-01-01T09:06:30\",\"1970-01-01T09:06:30\",\"1970-01-01T09:48:10\",\"1970-01-01T09:48:10\",\"1970-01-01T09:48:10\",\"1970-01-01T12:04:29\",\"1970-01-01T12:04:29\",\"1970-01-01T12:46:09\",\"1970-01-01T12:46:09\",\"1970-01-01T12:46:09\",\"1970-01-01T15:02:28\",\"1970-01-01T15:02:28\",\"1970-01-01T15:44:08\",\"1970-01-01T15:44:08\",\"1970-01-01T15:44:08\",\"1970-01-01T00:40:32\",\"1970-01-01T00:40:32\",\"1970-01-01T01:22:12\",\"1970-01-01T01:22:12\",\"1970-01-01T01:22:12\",\"1970-01-01T03:23:48\",\"1970-01-01T03:23:48\",\"1970-01-01T04:05:28\",\"1970-01-01T04:05:28\",\"1970-01-01T04:05:28\",\"1970-01-01T06:08:31\",\"1970-01-01T06:08:31\",\"1970-01-01T06:50:11\",\"1970-01-01T06:50:11\",\"1970-01-01T06:50:11\",\"1970-01-01T09:06:30\",\"1970-01-01T09:06:30\",\"1970-01-01T09:48:10\",\"1970-01-01T09:48:10\",\"1970-01-01T09:48:10\",\"1970-01-01T12:04:29\",\"1970-01-01T12:04:29\",\"1970-01-01T12:46:09\",\"1970-01-01T12:46:09\",\"1970-01-01T12:46:09\",\"1970-01-01T15:02:28\",\"1970-01-01T15:02:28\",\"1970-01-01T15:44:08\",\"1970-01-01T15:44:08\",\"1970-01-01T15:44:08\"],\"y\":[\"Carrier A\",\"Carrier A\",\"Carrier A\",\"Carrier A\",null,\"Carrier A\",\"Carrier A\",\"Carrier A\",\"Carrier A\",null,\"Carrier A\",\"Carrier A\",\"Carrier A\",\"Carrier A\",null,\"Carrier A\",\"Carrier A\",\"Carrier A\",\"Carrier A\",null,\"Carrier A\",\"Carrier A\",\"Carrier A\",\"Carrier A\",null,\"Carrier A\",\"Carrier A\",\"Carrier A\",\"Carrier A\",null,\"Cutter T\",\"Cutter T\",\"Cutter T\",\"Cutter T\",null,\"Cutter T\",\"Cutter T\",\"Cutter T\",\"Cutter T\",null,\"Cutter T\",\"Cutter T\",\"Cutter T\",\"Cutter T\",null,\"Cutter T\",\"Cutter T\",\"Cutter T\",\"Cutter T\",null,\"Cutter T\",\"Cutter T\",\"Cutter T\",\"Cutter T\",null,\"Cutter T\",\"Cutter T\",\"Cutter T\",\"Cutter T\",null,\"Trench\",\"Trench\",\"Trench\",\"Trench\",null,\"Trench\",\"Trench\",\"Trench\",\"Trench\",null,\"Trench\",\"Trench\",\"Trench\",\"Trench\",null,\"Trench\",\"Trench\",\"Trench\",\"Trench\",null,\"Trench\",\"Trench\",\"Trench\",\"Trench\",null,\"Trench\",\"Trench\",\"Trench\",\"Trench\",null],\"type\":\"scatter\"},{\"connectgaps\":false,\"hoverinfo\":\"y+name\",\"line\":{\"color\":\"rgb(208,205,31)\",\"width\":10},\"mode\":\"lines\",\"name\":\"sailing full:Carrier A\",\"x\":[\"1970-01-01T01:22:12\",\"1970-01-01T01:22:12\",\"1970-01-01T02:02:44\",\"1970-01-01T02:02:44\",\"1970-01-01T02:02:44\",\"1970-01-01T04:05:28\",\"1970-01-01T04:05:28\",\"1970-01-01T04:46:00\",\"1970-01-01T04:46:00\",\"1970-01-01T04:46:00\",\"1970-01-01T06:50:11\",\"1970-01-01T06:50:11\",\"1970-01-01T07:30:43\",\"1970-01-01T07:30:43\",\"1970-01-01T07:30:43\",\"1970-01-01T09:48:10\",\"1970-01-01T09:48:10\",\"1970-01-01T10:28:42\",\"1970-01-01T10:28:42\",\"1970-01-01T10:28:42\",\"1970-01-01T12:46:09\",\"1970-01-01T12:46:09\",\"1970-01-01T13:26:41\",\"1970-01-01T13:26:41\",\"1970-01-01T13:26:41\",\"1970-01-01T15:44:08\",\"1970-01-01T15:44:08\",\"1970-01-01T16:24:40\",\"1970-01-01T16:24:40\",\"1970-01-01T16:24:40\"],\"y\":[\"Carrier A\",\"Carrier A\",\"Carrier A\",\"Carrier A\",null,\"Carrier A\",\"Carrier A\",\"Carrier A\",\"Carrier A\",null,\"Carrier A\",\"Carrier A\",\"Carrier A\",\"Carrier A\",null,\"Carrier A\",\"Carrier A\",\"Carrier A\",\"Carrier A\",null,\"Carrier A\",\"Carrier A\",\"Carrier A\",\"Carrier A\",null,\"Carrier A\",\"Carrier A\",\"Carrier A\",\"Carrier A\",null],\"type\":\"scatter\"},{\"connectgaps\":false,\"hoverinfo\":\"y+name\",\"line\":{\"color\":\"rgb(217,214,40)\",\"width\":10},\"mode\":\"lines\",\"name\":\"sailing empty:Carrier A\",\"x\":[\"1970-01-01T00:00:00\",\"1970-01-01T00:00:00\",\"1970-01-01T00:40:32\",\"1970-01-01T00:40:32\",\"1970-01-01T00:40:32\",\"1970-01-01T02:43:16\",\"1970-01-01T02:43:16\",\"1970-01-01T03:23:48\",\"1970-01-01T03:23:48\",\"1970-01-01T03:23:48\",\"1970-01-01T05:26:32\",\"1970-01-01T05:26:32\",\"1970-01-01T06:07:04\",\"1970-01-01T06:07:04\",\"1970-01-01T06:07:04\",\"1970-01-01T08:11:15\",\"1970-01-01T08:11:15\",\"1970-01-01T08:51:47\",\"1970-01-01T08:51:47\",\"1970-01-01T08:51:47\",\"1970-01-01T11:09:14\",\"1970-01-01T11:09:14\",\"1970-01-01T11:49:46\",\"1970-01-01T11:49:46\",\"1970-01-01T11:49:46\",\"1970-01-01T14:07:13\",\"1970-01-01T14:07:13\",\"1970-01-01T14:47:45\",\"1970-01-01T14:47:45\",\"1970-01-01T14:47:45\"],\"y\":[\"Carrier A\",\"Carrier A\",\"Carrier A\",\"Carrier A\",null,\"Carrier A\",\"Carrier A\",\"Carrier A\",\"Carrier A\",null,\"Carrier A\",\"Carrier A\",\"Carrier A\",\"Carrier A\",null,\"Carrier A\",\"Carrier A\",\"Carrier A\",\"Carrier A\",null,\"Carrier A\",\"Carrier A\",\"Carrier A\",\"Carrier A\",null,\"Carrier A\",\"Carrier A\",\"Carrier A\",\"Carrier A\",null],\"type\":\"scatter\"},{\"connectgaps\":false,\"hoverinfo\":\"y+name\",\"line\":{\"color\":\"rgb(226,223,49)\",\"width\":10},\"mode\":\"lines\",\"name\":\"unloading:Carrier A\",\"x\":[\"1970-01-01T02:02:44\",\"1970-01-01T02:02:44\",\"1970-01-01T02:43:16\",\"1970-01-01T02:43:16\",\"1970-01-01T02:43:16\",\"1970-01-01T04:46:00\",\"1970-01-01T04:46:00\",\"1970-01-01T05:26:32\",\"1970-01-01T05:26:32\",\"1970-01-01T05:26:32\",\"1970-01-01T07:30:43\",\"1970-01-01T07:30:43\",\"1970-01-01T08:11:15\",\"1970-01-01T08:11:15\",\"1970-01-01T08:11:15\",\"1970-01-01T10:28:42\",\"1970-01-01T10:28:42\",\"1970-01-01T11:09:14\",\"1970-01-01T11:09:14\",\"1970-01-01T11:09:14\",\"1970-01-01T13:26:41\",\"1970-01-01T13:26:41\",\"1970-01-01T14:07:13\",\"1970-01-01T14:07:13\",\"1970-01-01T14:07:13\",\"1970-01-01T16:24:40\",\"1970-01-01T16:24:40\",\"1970-01-01T17:05:12\",\"1970-01-01T17:05:12\",\"1970-01-01T17:05:12\",\"1970-01-01T02:02:44\",\"1970-01-01T02:02:44\",\"1970-01-01T02:43:16\",\"1970-01-01T02:43:16\",\"1970-01-01T02:43:16\",\"1970-01-01T04:46:00\",\"1970-01-01T04:46:00\",\"1970-01-01T05:26:32\",\"1970-01-01T05:26:32\",\"1970-01-01T05:26:32\",\"1970-01-01T07:30:43\",\"1970-01-01T07:30:43\",\"1970-01-01T08:11:15\",\"1970-01-01T08:11:15\",\"1970-01-01T08:11:15\",\"1970-01-01T10:28:42\",\"1970-01-01T10:28:42\",\"1970-01-01T11:09:14\",\"1970-01-01T11:09:14\",\"1970-01-01T11:09:14\",\"1970-01-01T13:26:41\",\"1970-01-01T13:26:41\",\"1970-01-01T14:07:13\",\"1970-01-01T14:07:13\",\"1970-01-01T14:07:13\",\"1970-01-01T16:24:40\",\"1970-01-01T16:24:40\",\"1970-01-01T17:05:12\",\"1970-01-01T17:05:12\",\"1970-01-01T17:05:12\"],\"y\":[\"Carrier A\",\"Carrier A\",\"Carrier A\",\"Carrier A\",null,\"Carrier A\",\"Carrier A\",\"Carrier A\",\"Carrier A\",null,\"Carrier A\",\"Carrier A\",\"Carrier A\",\"Carrier A\",null,\"Carrier A\",\"Carrier A\",\"Carrier A\",\"Carrier A\",null,\"Carrier A\",\"Carrier A\",\"Carrier A\",\"Carrier A\",null,\"Carrier A\",\"Carrier A\",\"Carrier A\",\"Carrier A\",null,\"Reclamation\",\"Reclamation\",\"Reclamation\",\"Reclamation\",null,\"Reclamation\",\"Reclamation\",\"Reclamation\",\"Reclamation\",null,\"Reclamation\",\"Reclamation\",\"Reclamation\",\"Reclamation\",null,\"Reclamation\",\"Reclamation\",\"Reclamation\",\"Reclamation\",null,\"Reclamation\",\"Reclamation\",\"Reclamation\",\"Reclamation\",null,\"Reclamation\",\"Reclamation\",\"Reclamation\",\"Reclamation\",null],\"type\":\"scatter\"},{\"connectgaps\":false,\"hoverinfo\":\"y+name\",\"line\":{\"color\":\"rgb(235,232,58)\",\"width\":10},\"mode\":\"lines\",\"name\":\"sailing empty:Carrier B\",\"x\":[\"1970-01-01T00:00:00\",\"1970-01-01T00:00:00\",\"1970-01-01T00:48:13\",\"1970-01-01T00:48:13\",\"1970-01-01T00:48:13\",\"1970-01-01T04:46:58\",\"1970-01-01T04:46:58\",\"1970-01-01T05:35:11\",\"1970-01-01T05:35:11\",\"1970-01-01T05:35:11\",\"1970-01-01T07:44:57\",\"1970-01-01T07:44:57\",\"1970-01-01T08:33:10\",\"1970-01-01T08:33:10\",\"1970-01-01T08:33:10\",\"1970-01-01T10:42:56\",\"1970-01-01T10:42:56\",\"1970-01-01T11:31:09\",\"1970-01-01T11:31:09\",\"1970-01-01T11:31:09\",\"1970-01-01T13:40:55\",\"1970-01-01T13:40:55\",\"1970-01-01T14:29:08\",\"1970-01-01T14:29:08\",\"1970-01-01T14:29:08\"],\"y\":[\"Carrier B\",\"Carrier B\",\"Carrier B\",\"Carrier B\",null,\"Carrier B\",\"Carrier B\",\"Carrier B\",\"Carrier B\",null,\"Carrier B\",\"Carrier B\",\"Carrier B\",\"Carrier B\",null,\"Carrier B\",\"Carrier B\",\"Carrier B\",\"Carrier B\",null,\"Carrier B\",\"Carrier B\",\"Carrier B\",\"Carrier B\",null],\"type\":\"scatter\"},{\"connectgaps\":false,\"hoverinfo\":\"y+name\",\"line\":{\"color\":\"rgb(244,241,67)\",\"width\":10},\"mode\":\"lines\",\"name\":\"unloading:Carrier B\",\"x\":[\"1970-01-01T03:58:45\",\"1970-01-01T03:58:45\",\"1970-01-01T04:46:58\",\"1970-01-01T04:46:58\",\"1970-01-01T04:46:58\",\"1970-01-01T06:56:44\",\"1970-01-01T06:56:44\",\"1970-01-01T07:44:57\",\"1970-01-01T07:44:57\",\"1970-01-01T07:44:57\",\"1970-01-01T09:54:43\",\"1970-01-01T09:54:43\",\"1970-01-01T10:42:56\",\"1970-01-01T10:42:56\",\"1970-01-01T10:42:56\",\"1970-01-01T12:52:42\",\"1970-01-01T12:52:42\",\"1970-01-01T13:40:55\",\"1970-01-01T13:40:55\",\"1970-01-01T13:40:55\",\"1970-01-01T15:50:41\",\"1970-01-01T15:50:41\",\"1970-01-01T16:38:54\",\"1970-01-01T16:38:54\",\"1970-01-01T16:38:54\",\"1970-01-01T03:58:45\",\"1970-01-01T03:58:45\",\"1970-01-01T04:46:58\",\"1970-01-01T04:46:58\",\"1970-01-01T04:46:58\",\"1970-01-01T06:56:44\",\"1970-01-01T06:56:44\",\"1970-01-01T07:44:57\",\"1970-01-01T07:44:57\",\"1970-01-01T07:44:57\",\"1970-01-01T09:54:43\",\"1970-01-01T09:54:43\",\"1970-01-01T10:42:56\",\"1970-01-01T10:42:56\",\"1970-01-01T10:42:56\",\"1970-01-01T12:52:42\",\"1970-01-01T12:52:42\",\"1970-01-01T13:40:55\",\"1970-01-01T13:40:55\",\"1970-01-01T13:40:55\",\"1970-01-01T15:50:41\",\"1970-01-01T15:50:41\",\"1970-01-01T16:38:54\",\"1970-01-01T16:38:54\",\"1970-01-01T16:38:54\"],\"y\":[\"Carrier B\",\"Carrier B\",\"Carrier B\",\"Carrier B\",null,\"Carrier B\",\"Carrier B\",\"Carrier B\",\"Carrier B\",null,\"Carrier B\",\"Carrier B\",\"Carrier B\",\"Carrier B\",null,\"Carrier B\",\"Carrier B\",\"Carrier B\",\"Carrier B\",null,\"Carrier B\",\"Carrier B\",\"Carrier B\",\"Carrier B\",null,\"Reclamation\",\"Reclamation\",\"Reclamation\",\"Reclamation\",null,\"Reclamation\",\"Reclamation\",\"Reclamation\",\"Reclamation\",null,\"Reclamation\",\"Reclamation\",\"Reclamation\",\"Reclamation\",null,\"Reclamation\",\"Reclamation\",\"Reclamation\",\"Reclamation\",null,\"Reclamation\",\"Reclamation\",\"Reclamation\",\"Reclamation\",null],\"type\":\"scatter\"},{\"connectgaps\":false,\"hoverinfo\":\"y+name\",\"line\":{\"color\":\"rgb(253,250,76)\",\"width\":10},\"mode\":\"lines\",\"name\":\"loading:Carrier B\",\"x\":[\"1970-01-01T02:37:12\",\"1970-01-01T02:37:12\",\"1970-01-01T03:10:32\",\"1970-01-01T03:10:32\",\"1970-01-01T03:10:32\",\"1970-01-01T05:35:11\",\"1970-01-01T05:35:11\",\"1970-01-01T06:08:31\",\"1970-01-01T06:08:31\",\"1970-01-01T06:08:31\",\"1970-01-01T08:33:10\",\"1970-01-01T08:33:10\",\"1970-01-01T09:06:30\",\"1970-01-01T09:06:30\",\"1970-01-01T09:06:30\",\"1970-01-01T11:31:09\",\"1970-01-01T11:31:09\",\"1970-01-01T12:04:29\",\"1970-01-01T12:04:29\",\"1970-01-01T12:04:29\",\"1970-01-01T14:29:08\",\"1970-01-01T14:29:08\",\"1970-01-01T15:02:28\",\"1970-01-01T15:02:28\",\"1970-01-01T15:02:28\",\"1970-01-01T02:37:12\",\"1970-01-01T02:37:12\",\"1970-01-01T03:10:32\",\"1970-01-01T03:10:32\",\"1970-01-01T03:10:32\",\"1970-01-01T05:35:11\",\"1970-01-01T05:35:11\",\"1970-01-01T06:08:31\",\"1970-01-01T06:08:31\",\"1970-01-01T06:08:31\",\"1970-01-01T08:33:10\",\"1970-01-01T08:33:10\",\"1970-01-01T09:06:30\",\"1970-01-01T09:06:30\",\"1970-01-01T09:06:30\",\"1970-01-01T11:31:09\",\"1970-01-01T11:31:09\",\"1970-01-01T12:04:29\",\"1970-01-01T12:04:29\",\"1970-01-01T12:04:29\",\"1970-01-01T14:29:08\",\"1970-01-01T14:29:08\",\"1970-01-01T15:02:28\",\"1970-01-01T15:02:28\",\"1970-01-01T15:02:28\",\"1970-01-01T02:37:12\",\"1970-01-01T02:37:12\",\"1970-01-01T03:10:32\",\"1970-01-01T03:10:32\",\"1970-01-01T03:10:32\",\"1970-01-01T05:35:11\",\"1970-01-01T05:35:11\",\"1970-01-01T06:08:31\",\"1970-01-01T06:08:31\",\"1970-01-01T06:08:31\",\"1970-01-01T08:33:10\",\"1970-01-01T08:33:10\",\"1970-01-01T09:06:30\",\"1970-01-01T09:06:30\",\"1970-01-01T09:06:30\",\"1970-01-01T11:31:09\",\"1970-01-01T11:31:09\",\"1970-01-01T12:04:29\",\"1970-01-01T12:04:29\",\"1970-01-01T12:04:29\",\"1970-01-01T14:29:08\",\"1970-01-01T14:29:08\",\"1970-01-01T15:02:28\",\"1970-01-01T15:02:28\",\"1970-01-01T15:02:28\"],\"y\":[\"Carrier B\",\"Carrier B\",\"Carrier B\",\"Carrier B\",null,\"Carrier B\",\"Carrier B\",\"Carrier B\",\"Carrier B\",null,\"Carrier B\",\"Carrier B\",\"Carrier B\",\"Carrier B\",null,\"Carrier B\",\"Carrier B\",\"Carrier B\",\"Carrier B\",null,\"Carrier B\",\"Carrier B\",\"Carrier B\",\"Carrier B\",null,\"Cutter T\",\"Cutter T\",\"Cutter T\",\"Cutter T\",null,\"Cutter T\",\"Cutter T\",\"Cutter T\",\"Cutter T\",null,\"Cutter T\",\"Cutter T\",\"Cutter T\",\"Cutter T\",null,\"Cutter T\",\"Cutter T\",\"Cutter T\",\"Cutter T\",null,\"Cutter T\",\"Cutter T\",\"Cutter T\",\"Cutter T\",null,\"Trench\",\"Trench\",\"Trench\",\"Trench\",null,\"Trench\",\"Trench\",\"Trench\",\"Trench\",null,\"Trench\",\"Trench\",\"Trench\",\"Trench\",null,\"Trench\",\"Trench\",\"Trench\",\"Trench\",null,\"Trench\",\"Trench\",\"Trench\",\"Trench\",null],\"type\":\"scatter\"},{\"connectgaps\":false,\"hoverinfo\":\"y+name\",\"line\":{\"color\":\"rgb(6,3,85)\",\"width\":10},\"mode\":\"lines\",\"name\":\"sailing full:Carrier B\",\"x\":[\"1970-01-01T03:10:32\",\"1970-01-01T03:10:32\",\"1970-01-01T03:58:45\",\"1970-01-01T03:58:45\",\"1970-01-01T03:58:45\",\"1970-01-01T06:08:31\",\"1970-01-01T06:08:31\",\"1970-01-01T06:56:44\",\"1970-01-01T06:56:44\",\"1970-01-01T06:56:44\",\"1970-01-01T09:06:30\",\"1970-01-01T09:06:30\",\"1970-01-01T09:54:43\",\"1970-01-01T09:54:43\",\"1970-01-01T09:54:43\",\"1970-01-01T12:04:29\",\"1970-01-01T12:04:29\",\"1970-01-01T12:52:42\",\"1970-01-01T12:52:42\",\"1970-01-01T12:52:42\",\"1970-01-01T15:02:28\",\"1970-01-01T15:02:28\",\"1970-01-01T15:50:41\",\"1970-01-01T15:50:41\",\"1970-01-01T15:50:41\"],\"y\":[\"Carrier B\",\"Carrier B\",\"Carrier B\",\"Carrier B\",null,\"Carrier B\",\"Carrier B\",\"Carrier B\",\"Carrier B\",null,\"Carrier B\",\"Carrier B\",\"Carrier B\",\"Carrier B\",null,\"Carrier B\",\"Carrier B\",\"Carrier B\",\"Carrier B\",null,\"Carrier B\",\"Carrier B\",\"Carrier B\",\"Carrier B\",null],\"type\":\"scatter\"},{\"connectgaps\":false,\"hoverinfo\":\"y+name\",\"line\":{\"color\":\"rgb(15,12,94)\",\"width\":10},\"mode\":\"lines\",\"name\":\"sailing full:Carrier C\",\"x\":[\"1970-01-01T02:37:12\",\"1970-01-01T02:37:12\",\"1970-01-01T03:19:46\",\"1970-01-01T03:19:46\",\"1970-01-01T03:19:46\",\"1970-01-01T05:24:10\",\"1970-01-01T05:24:10\",\"1970-01-01T06:06:44\",\"1970-01-01T06:06:44\",\"1970-01-01T06:06:44\",\"1970-01-01T08:11:08\",\"1970-01-01T08:11:08\",\"1970-01-01T08:53:42\",\"1970-01-01T08:53:42\",\"1970-01-01T08:53:42\",\"1970-01-01T11:03:10\",\"1970-01-01T11:03:10\",\"1970-01-01T11:45:44\",\"1970-01-01T11:45:44\",\"1970-01-01T11:45:44\",\"1970-01-01T14:01:09\",\"1970-01-01T14:01:09\",\"1970-01-01T14:43:43\",\"1970-01-01T14:43:43\",\"1970-01-01T14:43:43\"],\"y\":[\"Carrier C\",\"Carrier C\",\"Carrier C\",\"Carrier C\",null,\"Carrier C\",\"Carrier C\",\"Carrier C\",\"Carrier C\",null,\"Carrier C\",\"Carrier C\",\"Carrier C\",\"Carrier C\",null,\"Carrier C\",\"Carrier C\",\"Carrier C\",\"Carrier C\",null,\"Carrier C\",\"Carrier C\",\"Carrier C\",\"Carrier C\",null],\"type\":\"scatter\"},{\"connectgaps\":false,\"hoverinfo\":\"y+name\",\"line\":{\"color\":\"rgb(24,21,103)\",\"width\":10},\"mode\":\"lines\",\"name\":\"unloading:Carrier C\",\"x\":[\"1970-01-01T03:19:46\",\"1970-01-01T03:19:46\",\"1970-01-01T04:02:20\",\"1970-01-01T04:02:20\",\"1970-01-01T04:02:20\",\"1970-01-01T06:06:44\",\"1970-01-01T06:06:44\",\"1970-01-01T06:49:18\",\"1970-01-01T06:49:18\",\"1970-01-01T06:49:18\",\"1970-01-01T08:53:42\",\"1970-01-01T08:53:42\",\"1970-01-01T09:36:16\",\"1970-01-01T09:36:16\",\"1970-01-01T09:36:16\",\"1970-01-01T11:45:44\",\"1970-01-01T11:45:44\",\"1970-01-01T12:28:18\",\"1970-01-01T12:28:18\",\"1970-01-01T12:28:18\",\"1970-01-01T14:43:43\",\"1970-01-01T14:43:43\",\"1970-01-01T15:26:17\",\"1970-01-01T15:26:17\",\"1970-01-01T15:26:17\",\"1970-01-01T03:19:46\",\"1970-01-01T03:19:46\",\"1970-01-01T04:02:20\",\"1970-01-01T04:02:20\",\"1970-01-01T04:02:20\",\"1970-01-01T06:06:44\",\"1970-01-01T06:06:44\",\"1970-01-01T06:49:18\",\"1970-01-01T06:49:18\",\"1970-01-01T06:49:18\",\"1970-01-01T08:53:42\",\"1970-01-01T08:53:42\",\"1970-01-01T09:36:16\",\"1970-01-01T09:36:16\",\"1970-01-01T09:36:16\",\"1970-01-01T11:45:44\",\"1970-01-01T11:45:44\",\"1970-01-01T12:28:18\",\"1970-01-01T12:28:18\",\"1970-01-01T12:28:18\",\"1970-01-01T14:43:43\",\"1970-01-01T14:43:43\",\"1970-01-01T15:26:17\",\"1970-01-01T15:26:17\",\"1970-01-01T15:26:17\"],\"y\":[\"Carrier C\",\"Carrier C\",\"Carrier C\",\"Carrier C\",null,\"Carrier C\",\"Carrier C\",\"Carrier C\",\"Carrier C\",null,\"Carrier C\",\"Carrier C\",\"Carrier C\",\"Carrier C\",null,\"Carrier C\",\"Carrier C\",\"Carrier C\",\"Carrier C\",null,\"Carrier C\",\"Carrier C\",\"Carrier C\",\"Carrier C\",null,\"Reclamation\",\"Reclamation\",\"Reclamation\",\"Reclamation\",null,\"Reclamation\",\"Reclamation\",\"Reclamation\",\"Reclamation\",null,\"Reclamation\",\"Reclamation\",\"Reclamation\",\"Reclamation\",null,\"Reclamation\",\"Reclamation\",\"Reclamation\",\"Reclamation\",null,\"Reclamation\",\"Reclamation\",\"Reclamation\",\"Reclamation\",null],\"type\":\"scatter\"},{\"connectgaps\":false,\"hoverinfo\":\"y+name\",\"line\":{\"color\":\"rgb(33,30,112)\",\"width\":10},\"mode\":\"lines\",\"name\":\"loading:Carrier C\",\"x\":[\"1970-01-01T02:03:52\",\"1970-01-01T02:03:52\",\"1970-01-01T02:37:12\",\"1970-01-01T02:37:12\",\"1970-01-01T02:37:12\",\"1970-01-01T04:50:50\",\"1970-01-01T04:50:50\",\"1970-01-01T05:24:10\",\"1970-01-01T05:24:10\",\"1970-01-01T05:24:10\",\"1970-01-01T07:37:48\",\"1970-01-01T07:37:48\",\"1970-01-01T08:11:08\",\"1970-01-01T08:11:08\",\"1970-01-01T08:11:08\",\"1970-01-01T10:29:50\",\"1970-01-01T10:29:50\",\"1970-01-01T11:03:10\",\"1970-01-01T11:03:10\",\"1970-01-01T11:03:10\",\"1970-01-01T13:27:49\",\"1970-01-01T13:27:49\",\"1970-01-01T14:01:09\",\"1970-01-01T14:01:09\",\"1970-01-01T14:01:09\",\"1970-01-01T02:03:52\",\"1970-01-01T02:03:52\",\"1970-01-01T02:37:12\",\"1970-01-01T02:37:12\",\"1970-01-01T02:37:12\",\"1970-01-01T04:50:50\",\"1970-01-01T04:50:50\",\"1970-01-01T05:24:10\",\"1970-01-01T05:24:10\",\"1970-01-01T05:24:10\",\"1970-01-01T07:37:48\",\"1970-01-01T07:37:48\",\"1970-01-01T08:11:08\",\"1970-01-01T08:11:08\",\"1970-01-01T08:11:08\",\"1970-01-01T10:29:50\",\"1970-01-01T10:29:50\",\"1970-01-01T11:03:10\",\"1970-01-01T11:03:10\",\"1970-01-01T11:03:10\",\"1970-01-01T13:27:49\",\"1970-01-01T13:27:49\",\"1970-01-01T14:01:09\",\"1970-01-01T14:01:09\",\"1970-01-01T14:01:09\",\"1970-01-01T02:03:52\",\"1970-01-01T02:03:52\",\"1970-01-01T02:37:12\",\"1970-01-01T02:37:12\",\"1970-01-01T02:37:12\",\"1970-01-01T04:50:50\",\"1970-01-01T04:50:50\",\"1970-01-01T05:24:10\",\"1970-01-01T05:24:10\",\"1970-01-01T05:24:10\",\"1970-01-01T07:37:48\",\"1970-01-01T07:37:48\",\"1970-01-01T08:11:08\",\"1970-01-01T08:11:08\",\"1970-01-01T08:11:08\",\"1970-01-01T10:29:50\",\"1970-01-01T10:29:50\",\"1970-01-01T11:03:10\",\"1970-01-01T11:03:10\",\"1970-01-01T11:03:10\",\"1970-01-01T13:27:49\",\"1970-01-01T13:27:49\",\"1970-01-01T14:01:09\",\"1970-01-01T14:01:09\",\"1970-01-01T14:01:09\"],\"y\":[\"Carrier C\",\"Carrier C\",\"Carrier C\",\"Carrier C\",null,\"Carrier C\",\"Carrier C\",\"Carrier C\",\"Carrier C\",null,\"Carrier C\",\"Carrier C\",\"Carrier C\",\"Carrier C\",null,\"Carrier C\",\"Carrier C\",\"Carrier C\",\"Carrier C\",null,\"Carrier C\",\"Carrier C\",\"Carrier C\",\"Carrier C\",null,\"Cutter T\",\"Cutter T\",\"Cutter T\",\"Cutter T\",null,\"Cutter T\",\"Cutter T\",\"Cutter T\",\"Cutter T\",null,\"Cutter T\",\"Cutter T\",\"Cutter T\",\"Cutter T\",null,\"Cutter T\",\"Cutter T\",\"Cutter T\",\"Cutter T\",null,\"Cutter T\",\"Cutter T\",\"Cutter T\",\"Cutter T\",null,\"Trench\",\"Trench\",\"Trench\",\"Trench\",null,\"Trench\",\"Trench\",\"Trench\",\"Trench\",null,\"Trench\",\"Trench\",\"Trench\",\"Trench\",null,\"Trench\",\"Trench\",\"Trench\",\"Trench\",null,\"Trench\",\"Trench\",\"Trench\",\"Trench\",null],\"type\":\"scatter\"},{\"connectgaps\":false,\"hoverinfo\":\"y+name\",\"line\":{\"color\":\"rgb(42,39,121)\",\"width\":10},\"mode\":\"lines\",\"name\":\"sailing empty:Carrier C\",\"x\":[\"1970-01-01T00:00:00\",\"1970-01-01T00:00:00\",\"1970-01-01T00:42:34\",\"1970-01-01T00:42:34\",\"1970-01-01T00:42:34\",\"1970-01-01T04:02:20\",\"1970-01-01T04:02:20\",\"1970-01-01T04:44:54\",\"1970-01-01T04:44:54\",\"1970-01-01T04:44:54\",\"1970-01-01T06:49:18\",\"1970-01-01T06:49:18\",\"1970-01-01T07:31:52\",\"1970-01-01T07:31:52\",\"1970-01-01T07:31:52\",\"1970-01-01T09:36:16\",\"1970-01-01T09:36:16\",\"1970-01-01T10:18:50\",\"1970-01-01T10:18:50\",\"1970-01-01T10:18:50\",\"1970-01-01T12:28:18\",\"1970-01-01T12:28:18\",\"1970-01-01T13:10:52\",\"1970-01-01T13:10:52\",\"1970-01-01T13:10:52\"],\"y\":[\"Carrier C\",\"Carrier C\",\"Carrier C\",\"Carrier C\",null,\"Carrier C\",\"Carrier C\",\"Carrier C\",\"Carrier C\",null,\"Carrier C\",\"Carrier C\",\"Carrier C\",\"Carrier C\",null,\"Carrier C\",\"Carrier C\",\"Carrier C\",\"Carrier C\",null,\"Carrier C\",\"Carrier C\",\"Carrier C\",\"Carrier C\",null],\"type\":\"scatter\"},{\"connectgaps\":false,\"hoverinfo\":\"y+name\",\"line\":{\"color\":\"rgb(51,48,130)\",\"width\":10},\"mode\":\"lines\",\"name\":\"loading:Barge I\",\"x\":[\"1970-01-01T01:22:12\",\"1970-01-01T01:22:12\",\"1970-01-01T02:03:52\",\"1970-01-01T02:03:52\",\"1970-01-01T02:03:52\",\"1970-01-01T04:09:10\",\"1970-01-01T04:09:10\",\"1970-01-01T04:50:50\",\"1970-01-01T04:50:50\",\"1970-01-01T04:50:50\",\"1970-01-01T06:56:08\",\"1970-01-01T06:56:08\",\"1970-01-01T07:37:48\",\"1970-01-01T07:37:48\",\"1970-01-01T07:37:48\",\"1970-01-01T09:48:10\",\"1970-01-01T09:48:10\",\"1970-01-01T10:29:50\",\"1970-01-01T10:29:50\",\"1970-01-01T10:29:50\",\"1970-01-01T12:46:09\",\"1970-01-01T12:46:09\",\"1970-01-01T13:27:49\",\"1970-01-01T13:27:49\",\"1970-01-01T13:27:49\",\"1970-01-01T15:44:08\",\"1970-01-01T15:44:08\",\"1970-01-01T16:25:48\",\"1970-01-01T16:25:48\",\"1970-01-01T16:25:48\",\"1970-01-01T01:22:12\",\"1970-01-01T01:22:12\",\"1970-01-01T02:03:52\",\"1970-01-01T02:03:52\",\"1970-01-01T02:03:52\",\"1970-01-01T04:09:10\",\"1970-01-01T04:09:10\",\"1970-01-01T04:50:50\",\"1970-01-01T04:50:50\",\"1970-01-01T04:50:50\",\"1970-01-01T06:56:08\",\"1970-01-01T06:56:08\",\"1970-01-01T07:37:48\",\"1970-01-01T07:37:48\",\"1970-01-01T07:37:48\",\"1970-01-01T09:48:10\",\"1970-01-01T09:48:10\",\"1970-01-01T10:29:50\",\"1970-01-01T10:29:50\",\"1970-01-01T10:29:50\",\"1970-01-01T12:46:09\",\"1970-01-01T12:46:09\",\"1970-01-01T13:27:49\",\"1970-01-01T13:27:49\",\"1970-01-01T13:27:49\",\"1970-01-01T15:44:08\",\"1970-01-01T15:44:08\",\"1970-01-01T16:25:48\",\"1970-01-01T16:25:48\",\"1970-01-01T16:25:48\",\"1970-01-01T01:22:12\",\"1970-01-01T01:22:12\",\"1970-01-01T02:03:52\",\"1970-01-01T02:03:52\",\"1970-01-01T02:03:52\",\"1970-01-01T04:09:10\",\"1970-01-01T04:09:10\",\"1970-01-01T04:50:50\",\"1970-01-01T04:50:50\",\"1970-01-01T04:50:50\",\"1970-01-01T06:56:08\",\"1970-01-01T06:56:08\",\"1970-01-01T07:37:48\",\"1970-01-01T07:37:48\",\"1970-01-01T07:37:48\",\"1970-01-01T09:48:10\",\"1970-01-01T09:48:10\",\"1970-01-01T10:29:50\",\"1970-01-01T10:29:50\",\"1970-01-01T10:29:50\",\"1970-01-01T12:46:09\",\"1970-01-01T12:46:09\",\"1970-01-01T13:27:49\",\"1970-01-01T13:27:49\",\"1970-01-01T13:27:49\",\"1970-01-01T15:44:08\",\"1970-01-01T15:44:08\",\"1970-01-01T16:25:48\",\"1970-01-01T16:25:48\",\"1970-01-01T16:25:48\"],\"y\":[\"Barge I\",\"Barge I\",\"Barge I\",\"Barge I\",null,\"Barge I\",\"Barge I\",\"Barge I\",\"Barge I\",null,\"Barge I\",\"Barge I\",\"Barge I\",\"Barge I\",null,\"Barge I\",\"Barge I\",\"Barge I\",\"Barge I\",null,\"Barge I\",\"Barge I\",\"Barge I\",\"Barge I\",null,\"Barge I\",\"Barge I\",\"Barge I\",\"Barge I\",null,\"Cutter T\",\"Cutter T\",\"Cutter T\",\"Cutter T\",null,\"Cutter T\",\"Cutter T\",\"Cutter T\",\"Cutter T\",null,\"Cutter T\",\"Cutter T\",\"Cutter T\",\"Cutter T\",null,\"Cutter T\",\"Cutter T\",\"Cutter T\",\"Cutter T\",null,\"Cutter T\",\"Cutter T\",\"Cutter T\",\"Cutter T\",null,\"Cutter T\",\"Cutter T\",\"Cutter T\",\"Cutter T\",null,\"Trench\",\"Trench\",\"Trench\",\"Trench\",null,\"Trench\",\"Trench\",\"Trench\",\"Trench\",null,\"Trench\",\"Trench\",\"Trench\",\"Trench\",null,\"Trench\",\"Trench\",\"Trench\",\"Trench\",null,\"Trench\",\"Trench\",\"Trench\",\"Trench\",null,\"Trench\",\"Trench\",\"Trench\",\"Trench\",null],\"type\":\"scatter\"},{\"connectgaps\":false,\"hoverinfo\":\"y+name\",\"line\":{\"color\":\"rgb(60,57,139)\",\"width\":10},\"mode\":\"lines\",\"name\":\"sailing full:Barge I\",\"x\":[\"1970-01-01T02:03:52\",\"1970-01-01T02:03:52\",\"1970-01-01T02:45:38\",\"1970-01-01T02:45:38\",\"1970-01-01T02:45:38\",\"1970-01-01T04:50:50\",\"1970-01-01T04:50:50\",\"1970-01-01T05:32:36\",\"1970-01-01T05:32:36\",\"1970-01-01T05:32:36\",\"1970-01-01T07:37:48\",\"1970-01-01T07:37:48\",\"1970-01-01T08:19:34\",\"1970-01-01T08:19:34\",\"1970-01-01T08:19:34\",\"1970-01-01T10:29:50\",\"1970-01-01T10:29:50\",\"1970-01-01T11:11:36\",\"1970-01-01T11:11:36\",\"1970-01-01T11:11:36\",\"1970-01-01T13:27:49\",\"1970-01-01T13:27:49\",\"1970-01-01T14:09:35\",\"1970-01-01T14:09:35\",\"1970-01-01T14:09:35\",\"1970-01-01T16:25:48\",\"1970-01-01T16:25:48\",\"1970-01-01T17:07:34\",\"1970-01-01T17:07:34\",\"1970-01-01T17:07:34\"],\"y\":[\"Barge I\",\"Barge I\",\"Barge I\",\"Barge I\",null,\"Barge I\",\"Barge I\",\"Barge I\",\"Barge I\",null,\"Barge I\",\"Barge I\",\"Barge I\",\"Barge I\",null,\"Barge I\",\"Barge I\",\"Barge I\",\"Barge I\",null,\"Barge I\",\"Barge I\",\"Barge I\",\"Barge I\",null,\"Barge I\",\"Barge I\",\"Barge I\",\"Barge I\",null],\"type\":\"scatter\"},{\"connectgaps\":false,\"hoverinfo\":\"y+name\",\"line\":{\"color\":\"rgb(69,66,148)\",\"width\":10},\"mode\":\"lines\",\"name\":\"sailing empty:Barge I\",\"x\":[\"1970-01-01T00:00:00\",\"1970-01-01T00:00:00\",\"1970-01-01T00:41:46\",\"1970-01-01T00:41:46\",\"1970-01-01T00:41:46\",\"1970-01-01T03:27:24\",\"1970-01-01T03:27:24\",\"1970-01-01T04:09:10\",\"1970-01-01T04:09:10\",\"1970-01-01T04:09:10\",\"1970-01-01T06:14:22\",\"1970-01-01T06:14:22\",\"1970-01-01T06:56:08\",\"1970-01-01T06:56:08\",\"1970-01-01T06:56:08\",\"1970-01-01T09:01:20\",\"1970-01-01T09:01:20\",\"1970-01-01T09:43:06\",\"1970-01-01T09:43:06\",\"1970-01-01T09:43:06\",\"1970-01-01T11:53:22\",\"1970-01-01T11:53:22\",\"1970-01-01T12:35:08\",\"1970-01-01T12:35:08\",\"1970-01-01T12:35:08\",\"1970-01-01T14:51:21\",\"1970-01-01T14:51:21\",\"1970-01-01T15:33:07\",\"1970-01-01T15:33:07\",\"1970-01-01T15:33:07\"],\"y\":[\"Barge I\",\"Barge I\",\"Barge I\",\"Barge I\",null,\"Barge I\",\"Barge I\",\"Barge I\",\"Barge I\",null,\"Barge I\",\"Barge I\",\"Barge I\",\"Barge I\",null,\"Barge I\",\"Barge I\",\"Barge I\",\"Barge I\",null,\"Barge I\",\"Barge I\",\"Barge I\",\"Barge I\",null,\"Barge I\",\"Barge I\",\"Barge I\",\"Barge I\",null],\"type\":\"scatter\"},{\"connectgaps\":false,\"hoverinfo\":\"y+name\",\"line\":{\"color\":\"rgb(78,75,157)\",\"width\":10},\"mode\":\"lines\",\"name\":\"unloading:Barge I\",\"x\":[\"1970-01-01T02:45:38\",\"1970-01-01T02:45:38\",\"1970-01-01T03:27:24\",\"1970-01-01T03:27:24\",\"1970-01-01T03:27:24\",\"1970-01-01T05:32:36\",\"1970-01-01T05:32:36\",\"1970-01-01T06:14:22\",\"1970-01-01T06:14:22\",\"1970-01-01T06:14:22\",\"1970-01-01T08:19:34\",\"1970-01-01T08:19:34\",\"1970-01-01T09:01:20\",\"1970-01-01T09:01:20\",\"1970-01-01T09:01:20\",\"1970-01-01T11:11:36\",\"1970-01-01T11:11:36\",\"1970-01-01T11:53:22\",\"1970-01-01T11:53:22\",\"1970-01-01T11:53:22\",\"1970-01-01T14:09:35\",\"1970-01-01T14:09:35\",\"1970-01-01T14:51:21\",\"1970-01-01T14:51:21\",\"1970-01-01T14:51:21\",\"1970-01-01T17:07:34\",\"1970-01-01T17:07:34\",\"1970-01-01T17:49:20\",\"1970-01-01T17:49:20\",\"1970-01-01T17:49:20\",\"1970-01-01T02:45:38\",\"1970-01-01T02:45:38\",\"1970-01-01T03:27:24\",\"1970-01-01T03:27:24\",\"1970-01-01T03:27:24\",\"1970-01-01T05:32:36\",\"1970-01-01T05:32:36\",\"1970-01-01T06:14:22\",\"1970-01-01T06:14:22\",\"1970-01-01T06:14:22\",\"1970-01-01T08:19:34\",\"1970-01-01T08:19:34\",\"1970-01-01T09:01:20\",\"1970-01-01T09:01:20\",\"1970-01-01T09:01:20\",\"1970-01-01T11:11:36\",\"1970-01-01T11:11:36\",\"1970-01-01T11:53:22\",\"1970-01-01T11:53:22\",\"1970-01-01T11:53:22\",\"1970-01-01T14:09:35\",\"1970-01-01T14:09:35\",\"1970-01-01T14:51:21\",\"1970-01-01T14:51:21\",\"1970-01-01T14:51:21\",\"1970-01-01T17:07:34\",\"1970-01-01T17:07:34\",\"1970-01-01T17:49:20\",\"1970-01-01T17:49:20\",\"1970-01-01T17:49:20\"],\"y\":[\"Barge I\",\"Barge I\",\"Barge I\",\"Barge I\",null,\"Barge I\",\"Barge I\",\"Barge I\",\"Barge I\",null,\"Barge I\",\"Barge I\",\"Barge I\",\"Barge I\",null,\"Barge I\",\"Barge I\",\"Barge I\",\"Barge I\",null,\"Barge I\",\"Barge I\",\"Barge I\",\"Barge I\",null,\"Barge I\",\"Barge I\",\"Barge I\",\"Barge I\",null,\"Reclamation\",\"Reclamation\",\"Reclamation\",\"Reclamation\",null,\"Reclamation\",\"Reclamation\",\"Reclamation\",\"Reclamation\",null,\"Reclamation\",\"Reclamation\",\"Reclamation\",\"Reclamation\",null,\"Reclamation\",\"Reclamation\",\"Reclamation\",\"Reclamation\",null,\"Reclamation\",\"Reclamation\",\"Reclamation\",\"Reclamation\",null,\"Reclamation\",\"Reclamation\",\"Reclamation\",\"Reclamation\",null],\"type\":\"scatter\"},{\"connectgaps\":false,\"hoverinfo\":\"y+name\",\"line\":{\"color\":\"rgb(87,84,166)\",\"width\":10},\"mode\":\"lines\",\"name\":\"loading:Carrier A\",\"x\":[\"1970-01-01T00:40:32\",\"1970-01-01T00:40:32\",\"1970-01-01T01:22:12\",\"1970-01-01T01:22:12\",\"1970-01-01T01:22:12\",\"1970-01-01T03:23:48\",\"1970-01-01T03:23:48\",\"1970-01-01T04:05:28\",\"1970-01-01T04:05:28\",\"1970-01-01T04:05:28\",\"1970-01-01T06:08:31\",\"1970-01-01T06:08:31\",\"1970-01-01T06:50:11\",\"1970-01-01T06:50:11\",\"1970-01-01T06:50:11\",\"1970-01-01T09:06:30\",\"1970-01-01T09:06:30\",\"1970-01-01T09:48:10\",\"1970-01-01T09:48:10\",\"1970-01-01T09:48:10\",\"1970-01-01T12:04:29\",\"1970-01-01T12:04:29\",\"1970-01-01T12:46:09\",\"1970-01-01T12:46:09\",\"1970-01-01T12:46:09\",\"1970-01-01T15:02:28\",\"1970-01-01T15:02:28\",\"1970-01-01T15:44:08\",\"1970-01-01T15:44:08\",\"1970-01-01T15:44:08\",\"1970-01-01T00:40:32\",\"1970-01-01T00:40:32\",\"1970-01-01T01:22:12\",\"1970-01-01T01:22:12\",\"1970-01-01T01:22:12\",\"1970-01-01T03:23:48\",\"1970-01-01T03:23:48\",\"1970-01-01T04:05:28\",\"1970-01-01T04:05:28\",\"1970-01-01T04:05:28\",\"1970-01-01T06:08:31\",\"1970-01-01T06:08:31\",\"1970-01-01T06:50:11\",\"1970-01-01T06:50:11\",\"1970-01-01T06:50:11\",\"1970-01-01T09:06:30\",\"1970-01-01T09:06:30\",\"1970-01-01T09:48:10\",\"1970-01-01T09:48:10\",\"1970-01-01T09:48:10\",\"1970-01-01T12:04:29\",\"1970-01-01T12:04:29\",\"1970-01-01T12:46:09\",\"1970-01-01T12:46:09\",\"1970-01-01T12:46:09\",\"1970-01-01T15:02:28\",\"1970-01-01T15:02:28\",\"1970-01-01T15:44:08\",\"1970-01-01T15:44:08\",\"1970-01-01T15:44:08\",\"1970-01-01T00:40:32\",\"1970-01-01T00:40:32\",\"1970-01-01T01:22:12\",\"1970-01-01T01:22:12\",\"1970-01-01T01:22:12\",\"1970-01-01T03:23:48\",\"1970-01-01T03:23:48\",\"1970-01-01T04:05:28\",\"1970-01-01T04:05:28\",\"1970-01-01T04:05:28\",\"1970-01-01T06:08:31\",\"1970-01-01T06:08:31\",\"1970-01-01T06:50:11\",\"1970-01-01T06:50:11\",\"1970-01-01T06:50:11\",\"1970-01-01T09:06:30\",\"1970-01-01T09:06:30\",\"1970-01-01T09:48:10\",\"1970-01-01T09:48:10\",\"1970-01-01T09:48:10\",\"1970-01-01T12:04:29\",\"1970-01-01T12:04:29\",\"1970-01-01T12:46:09\",\"1970-01-01T12:46:09\",\"1970-01-01T12:46:09\",\"1970-01-01T15:02:28\",\"1970-01-01T15:02:28\",\"1970-01-01T15:44:08\",\"1970-01-01T15:44:08\",\"1970-01-01T15:44:08\"],\"y\":[\"Carrier A\",\"Carrier A\",\"Carrier A\",\"Carrier A\",null,\"Carrier A\",\"Carrier A\",\"Carrier A\",\"Carrier A\",null,\"Carrier A\",\"Carrier A\",\"Carrier A\",\"Carrier A\",null,\"Carrier A\",\"Carrier A\",\"Carrier A\",\"Carrier A\",null,\"Carrier A\",\"Carrier A\",\"Carrier A\",\"Carrier A\",null,\"Carrier A\",\"Carrier A\",\"Carrier A\",\"Carrier A\",null,\"Cutter T\",\"Cutter T\",\"Cutter T\",\"Cutter T\",null,\"Cutter T\",\"Cutter T\",\"Cutter T\",\"Cutter T\",null,\"Cutter T\",\"Cutter T\",\"Cutter T\",\"Cutter T\",null,\"Cutter T\",\"Cutter T\",\"Cutter T\",\"Cutter T\",null,\"Cutter T\",\"Cutter T\",\"Cutter T\",\"Cutter T\",null,\"Cutter T\",\"Cutter T\",\"Cutter T\",\"Cutter T\",null,\"Trench\",\"Trench\",\"Trench\",\"Trench\",null,\"Trench\",\"Trench\",\"Trench\",\"Trench\",null,\"Trench\",\"Trench\",\"Trench\",\"Trench\",null,\"Trench\",\"Trench\",\"Trench\",\"Trench\",null,\"Trench\",\"Trench\",\"Trench\",\"Trench\",null,\"Trench\",\"Trench\",\"Trench\",\"Trench\",null],\"type\":\"scatter\"},{\"connectgaps\":false,\"hoverinfo\":\"y+name\",\"line\":{\"color\":\"rgb(96,93,175)\",\"width\":10},\"mode\":\"lines\",\"name\":\"loading:Barge I\",\"x\":[\"1970-01-01T01:22:12\",\"1970-01-01T01:22:12\",\"1970-01-01T02:03:52\",\"1970-01-01T02:03:52\",\"1970-01-01T02:03:52\",\"1970-01-01T04:09:10\",\"1970-01-01T04:09:10\",\"1970-01-01T04:50:50\",\"1970-01-01T04:50:50\",\"1970-01-01T04:50:50\",\"1970-01-01T06:56:08\",\"1970-01-01T06:56:08\",\"1970-01-01T07:37:48\",\"1970-01-01T07:37:48\",\"1970-01-01T07:37:48\",\"1970-01-01T09:48:10\",\"1970-01-01T09:48:10\",\"1970-01-01T10:29:50\",\"1970-01-01T10:29:50\",\"1970-01-01T10:29:50\",\"1970-01-01T12:46:09\",\"1970-01-01T12:46:09\",\"1970-01-01T13:27:49\",\"1970-01-01T13:27:49\",\"1970-01-01T13:27:49\",\"1970-01-01T15:44:08\",\"1970-01-01T15:44:08\",\"1970-01-01T16:25:48\",\"1970-01-01T16:25:48\",\"1970-01-01T16:25:48\",\"1970-01-01T01:22:12\",\"1970-01-01T01:22:12\",\"1970-01-01T02:03:52\",\"1970-01-01T02:03:52\",\"1970-01-01T02:03:52\",\"1970-01-01T04:09:10\",\"1970-01-01T04:09:10\",\"1970-01-01T04:50:50\",\"1970-01-01T04:50:50\",\"1970-01-01T04:50:50\",\"1970-01-01T06:56:08\",\"1970-01-01T06:56:08\",\"1970-01-01T07:37:48\",\"1970-01-01T07:37:48\",\"1970-01-01T07:37:48\",\"1970-01-01T09:48:10\",\"1970-01-01T09:48:10\",\"1970-01-01T10:29:50\",\"1970-01-01T10:29:50\",\"1970-01-01T10:29:50\",\"1970-01-01T12:46:09\",\"1970-01-01T12:46:09\",\"1970-01-01T13:27:49\",\"1970-01-01T13:27:49\",\"1970-01-01T13:27:49\",\"1970-01-01T15:44:08\",\"1970-01-01T15:44:08\",\"1970-01-01T16:25:48\",\"1970-01-01T16:25:48\",\"1970-01-01T16:25:48\",\"1970-01-01T01:22:12\",\"1970-01-01T01:22:12\",\"1970-01-01T02:03:52\",\"1970-01-01T02:03:52\",\"1970-01-01T02:03:52\",\"1970-01-01T04:09:10\",\"1970-01-01T04:09:10\",\"1970-01-01T04:50:50\",\"1970-01-01T04:50:50\",\"1970-01-01T04:50:50\",\"1970-01-01T06:56:08\",\"1970-01-01T06:56:08\",\"1970-01-01T07:37:48\",\"1970-01-01T07:37:48\",\"1970-01-01T07:37:48\",\"1970-01-01T09:48:10\",\"1970-01-01T09:48:10\",\"1970-01-01T10:29:50\",\"1970-01-01T10:29:50\",\"1970-01-01T10:29:50\",\"1970-01-01T12:46:09\",\"1970-01-01T12:46:09\",\"1970-01-01T13:27:49\",\"1970-01-01T13:27:49\",\"1970-01-01T13:27:49\",\"1970-01-01T15:44:08\",\"1970-01-01T15:44:08\",\"1970-01-01T16:25:48\",\"1970-01-01T16:25:48\",\"1970-01-01T16:25:48\"],\"y\":[\"Barge I\",\"Barge I\",\"Barge I\",\"Barge I\",null,\"Barge I\",\"Barge I\",\"Barge I\",\"Barge I\",null,\"Barge I\",\"Barge I\",\"Barge I\",\"Barge I\",null,\"Barge I\",\"Barge I\",\"Barge I\",\"Barge I\",null,\"Barge I\",\"Barge I\",\"Barge I\",\"Barge I\",null,\"Barge I\",\"Barge I\",\"Barge I\",\"Barge I\",null,\"Cutter T\",\"Cutter T\",\"Cutter T\",\"Cutter T\",null,\"Cutter T\",\"Cutter T\",\"Cutter T\",\"Cutter T\",null,\"Cutter T\",\"Cutter T\",\"Cutter T\",\"Cutter T\",null,\"Cutter T\",\"Cutter T\",\"Cutter T\",\"Cutter T\",null,\"Cutter T\",\"Cutter T\",\"Cutter T\",\"Cutter T\",null,\"Cutter T\",\"Cutter T\",\"Cutter T\",\"Cutter T\",null,\"Trench\",\"Trench\",\"Trench\",\"Trench\",null,\"Trench\",\"Trench\",\"Trench\",\"Trench\",null,\"Trench\",\"Trench\",\"Trench\",\"Trench\",null,\"Trench\",\"Trench\",\"Trench\",\"Trench\",null,\"Trench\",\"Trench\",\"Trench\",\"Trench\",null,\"Trench\",\"Trench\",\"Trench\",\"Trench\",null],\"type\":\"scatter\"},{\"connectgaps\":false,\"hoverinfo\":\"y+name\",\"line\":{\"color\":\"rgb(105,102,184)\",\"width\":10},\"mode\":\"lines\",\"name\":\"loading:Carrier B\",\"x\":[\"1970-01-01T02:37:12\",\"1970-01-01T02:37:12\",\"1970-01-01T03:10:32\",\"1970-01-01T03:10:32\",\"1970-01-01T03:10:32\",\"1970-01-01T05:35:11\",\"1970-01-01T05:35:11\",\"1970-01-01T06:08:31\",\"1970-01-01T06:08:31\",\"1970-01-01T06:08:31\",\"1970-01-01T08:33:10\",\"1970-01-01T08:33:10\",\"1970-01-01T09:06:30\",\"1970-01-01T09:06:30\",\"1970-01-01T09:06:30\",\"1970-01-01T11:31:09\",\"1970-01-01T11:31:09\",\"1970-01-01T12:04:29\",\"1970-01-01T12:04:29\",\"1970-01-01T12:04:29\",\"1970-01-01T14:29:08\",\"1970-01-01T14:29:08\",\"1970-01-01T15:02:28\",\"1970-01-01T15:02:28\",\"1970-01-01T15:02:28\",\"1970-01-01T02:37:12\",\"1970-01-01T02:37:12\",\"1970-01-01T03:10:32\",\"1970-01-01T03:10:32\",\"1970-01-01T03:10:32\",\"1970-01-01T05:35:11\",\"1970-01-01T05:35:11\",\"1970-01-01T06:08:31\",\"1970-01-01T06:08:31\",\"1970-01-01T06:08:31\",\"1970-01-01T08:33:10\",\"1970-01-01T08:33:10\",\"1970-01-01T09:06:30\",\"1970-01-01T09:06:30\",\"1970-01-01T09:06:30\",\"1970-01-01T11:31:09\",\"1970-01-01T11:31:09\",\"1970-01-01T12:04:29\",\"1970-01-01T12:04:29\",\"1970-01-01T12:04:29\",\"1970-01-01T14:29:08\",\"1970-01-01T14:29:08\",\"1970-01-01T15:02:28\",\"1970-01-01T15:02:28\",\"1970-01-01T15:02:28\",\"1970-01-01T02:37:12\",\"1970-01-01T02:37:12\",\"1970-01-01T03:10:32\",\"1970-01-01T03:10:32\",\"1970-01-01T03:10:32\",\"1970-01-01T05:35:11\",\"1970-01-01T05:35:11\",\"1970-01-01T06:08:31\",\"1970-01-01T06:08:31\",\"1970-01-01T06:08:31\",\"1970-01-01T08:33:10\",\"1970-01-01T08:33:10\",\"1970-01-01T09:06:30\",\"1970-01-01T09:06:30\",\"1970-01-01T09:06:30\",\"1970-01-01T11:31:09\",\"1970-01-01T11:31:09\",\"1970-01-01T12:04:29\",\"1970-01-01T12:04:29\",\"1970-01-01T12:04:29\",\"1970-01-01T14:29:08\",\"1970-01-01T14:29:08\",\"1970-01-01T15:02:28\",\"1970-01-01T15:02:28\",\"1970-01-01T15:02:28\"],\"y\":[\"Carrier B\",\"Carrier B\",\"Carrier B\",\"Carrier B\",null,\"Carrier B\",\"Carrier B\",\"Carrier B\",\"Carrier B\",null,\"Carrier B\",\"Carrier B\",\"Carrier B\",\"Carrier B\",null,\"Carrier B\",\"Carrier B\",\"Carrier B\",\"Carrier B\",null,\"Carrier B\",\"Carrier B\",\"Carrier B\",\"Carrier B\",null,\"Cutter T\",\"Cutter T\",\"Cutter T\",\"Cutter T\",null,\"Cutter T\",\"Cutter T\",\"Cutter T\",\"Cutter T\",null,\"Cutter T\",\"Cutter T\",\"Cutter T\",\"Cutter T\",null,\"Cutter T\",\"Cutter T\",\"Cutter T\",\"Cutter T\",null,\"Cutter T\",\"Cutter T\",\"Cutter T\",\"Cutter T\",null,\"Trench\",\"Trench\",\"Trench\",\"Trench\",null,\"Trench\",\"Trench\",\"Trench\",\"Trench\",null,\"Trench\",\"Trench\",\"Trench\",\"Trench\",null,\"Trench\",\"Trench\",\"Trench\",\"Trench\",null,\"Trench\",\"Trench\",\"Trench\",\"Trench\",null],\"type\":\"scatter\"},{\"connectgaps\":false,\"hoverinfo\":\"y+name\",\"line\":{\"color\":\"rgb(114,111,193)\",\"width\":10},\"mode\":\"lines\",\"name\":\"loading:Carrier C\",\"x\":[\"1970-01-01T02:03:52\",\"1970-01-01T02:03:52\",\"1970-01-01T02:37:12\",\"1970-01-01T02:37:12\",\"1970-01-01T02:37:12\",\"1970-01-01T04:50:50\",\"1970-01-01T04:50:50\",\"1970-01-01T05:24:10\",\"1970-01-01T05:24:10\",\"1970-01-01T05:24:10\",\"1970-01-01T07:37:48\",\"1970-01-01T07:37:48\",\"1970-01-01T08:11:08\",\"1970-01-01T08:11:08\",\"1970-01-01T08:11:08\",\"1970-01-01T10:29:50\",\"1970-01-01T10:29:50\",\"1970-01-01T11:03:10\",\"1970-01-01T11:03:10\",\"1970-01-01T11:03:10\",\"1970-01-01T13:27:49\",\"1970-01-01T13:27:49\",\"1970-01-01T14:01:09\",\"1970-01-01T14:01:09\",\"1970-01-01T14:01:09\",\"1970-01-01T02:03:52\",\"1970-01-01T02:03:52\",\"1970-01-01T02:37:12\",\"1970-01-01T02:37:12\",\"1970-01-01T02:37:12\",\"1970-01-01T04:50:50\",\"1970-01-01T04:50:50\",\"1970-01-01T05:24:10\",\"1970-01-01T05:24:10\",\"1970-01-01T05:24:10\",\"1970-01-01T07:37:48\",\"1970-01-01T07:37:48\",\"1970-01-01T08:11:08\",\"1970-01-01T08:11:08\",\"1970-01-01T08:11:08\",\"1970-01-01T10:29:50\",\"1970-01-01T10:29:50\",\"1970-01-01T11:03:10\",\"1970-01-01T11:03:10\",\"1970-01-01T11:03:10\",\"1970-01-01T13:27:49\",\"1970-01-01T13:27:49\",\"1970-01-01T14:01:09\",\"1970-01-01T14:01:09\",\"1970-01-01T14:01:09\",\"1970-01-01T02:03:52\",\"1970-01-01T02:03:52\",\"1970-01-01T02:37:12\",\"1970-01-01T02:37:12\",\"1970-01-01T02:37:12\",\"1970-01-01T04:50:50\",\"1970-01-01T04:50:50\",\"1970-01-01T05:24:10\",\"1970-01-01T05:24:10\",\"1970-01-01T05:24:10\",\"1970-01-01T07:37:48\",\"1970-01-01T07:37:48\",\"1970-01-01T08:11:08\",\"1970-01-01T08:11:08\",\"1970-01-01T08:11:08\",\"1970-01-01T10:29:50\",\"1970-01-01T10:29:50\",\"1970-01-01T11:03:10\",\"1970-01-01T11:03:10\",\"1970-01-01T11:03:10\",\"1970-01-01T13:27:49\",\"1970-01-01T13:27:49\",\"1970-01-01T14:01:09\",\"1970-01-01T14:01:09\",\"1970-01-01T14:01:09\"],\"y\":[\"Carrier C\",\"Carrier C\",\"Carrier C\",\"Carrier C\",null,\"Carrier C\",\"Carrier C\",\"Carrier C\",\"Carrier C\",null,\"Carrier C\",\"Carrier C\",\"Carrier C\",\"Carrier C\",null,\"Carrier C\",\"Carrier C\",\"Carrier C\",\"Carrier C\",null,\"Carrier C\",\"Carrier C\",\"Carrier C\",\"Carrier C\",null,\"Cutter T\",\"Cutter T\",\"Cutter T\",\"Cutter T\",null,\"Cutter T\",\"Cutter T\",\"Cutter T\",\"Cutter T\",null,\"Cutter T\",\"Cutter T\",\"Cutter T\",\"Cutter T\",null,\"Cutter T\",\"Cutter T\",\"Cutter T\",\"Cutter T\",null,\"Cutter T\",\"Cutter T\",\"Cutter T\",\"Cutter T\",null,\"Trench\",\"Trench\",\"Trench\",\"Trench\",null,\"Trench\",\"Trench\",\"Trench\",\"Trench\",null,\"Trench\",\"Trench\",\"Trench\",\"Trench\",null,\"Trench\",\"Trench\",\"Trench\",\"Trench\",null,\"Trench\",\"Trench\",\"Trench\",\"Trench\",null],\"type\":\"scatter\"},{\"connectgaps\":false,\"hoverinfo\":\"y+name\",\"line\":{\"color\":\"rgb(123,120,202)\",\"width\":10},\"mode\":\"lines\",\"name\":\"loading:Carrier A\",\"x\":[\"1970-01-01T00:40:32\",\"1970-01-01T00:40:32\",\"1970-01-01T01:22:12\",\"1970-01-01T01:22:12\",\"1970-01-01T01:22:12\",\"1970-01-01T03:23:48\",\"1970-01-01T03:23:48\",\"1970-01-01T04:05:28\",\"1970-01-01T04:05:28\",\"1970-01-01T04:05:28\",\"1970-01-01T06:08:31\",\"1970-01-01T06:08:31\",\"1970-01-01T06:50:11\",\"1970-01-01T06:50:11\",\"1970-01-01T06:50:11\",\"1970-01-01T09:06:30\",\"1970-01-01T09:06:30\",\"1970-01-01T09:48:10\",\"1970-01-01T09:48:10\",\"1970-01-01T09:48:10\",\"1970-01-01T12:04:29\",\"1970-01-01T12:04:29\",\"1970-01-01T12:46:09\",\"1970-01-01T12:46:09\",\"1970-01-01T12:46:09\",\"1970-01-01T15:02:28\",\"1970-01-01T15:02:28\",\"1970-01-01T15:44:08\",\"1970-01-01T15:44:08\",\"1970-01-01T15:44:08\",\"1970-01-01T00:40:32\",\"1970-01-01T00:40:32\",\"1970-01-01T01:22:12\",\"1970-01-01T01:22:12\",\"1970-01-01T01:22:12\",\"1970-01-01T03:23:48\",\"1970-01-01T03:23:48\",\"1970-01-01T04:05:28\",\"1970-01-01T04:05:28\",\"1970-01-01T04:05:28\",\"1970-01-01T06:08:31\",\"1970-01-01T06:08:31\",\"1970-01-01T06:50:11\",\"1970-01-01T06:50:11\",\"1970-01-01T06:50:11\",\"1970-01-01T09:06:30\",\"1970-01-01T09:06:30\",\"1970-01-01T09:48:10\",\"1970-01-01T09:48:10\",\"1970-01-01T09:48:10\",\"1970-01-01T12:04:29\",\"1970-01-01T12:04:29\",\"1970-01-01T12:46:09\",\"1970-01-01T12:46:09\",\"1970-01-01T12:46:09\",\"1970-01-01T15:02:28\",\"1970-01-01T15:02:28\",\"1970-01-01T15:44:08\",\"1970-01-01T15:44:08\",\"1970-01-01T15:44:08\",\"1970-01-01T00:40:32\",\"1970-01-01T00:40:32\",\"1970-01-01T01:22:12\",\"1970-01-01T01:22:12\",\"1970-01-01T01:22:12\",\"1970-01-01T03:23:48\",\"1970-01-01T03:23:48\",\"1970-01-01T04:05:28\",\"1970-01-01T04:05:28\",\"1970-01-01T04:05:28\",\"1970-01-01T06:08:31\",\"1970-01-01T06:08:31\",\"1970-01-01T06:50:11\",\"1970-01-01T06:50:11\",\"1970-01-01T06:50:11\",\"1970-01-01T09:06:30\",\"1970-01-01T09:06:30\",\"1970-01-01T09:48:10\",\"1970-01-01T09:48:10\",\"1970-01-01T09:48:10\",\"1970-01-01T12:04:29\",\"1970-01-01T12:04:29\",\"1970-01-01T12:46:09\",\"1970-01-01T12:46:09\",\"1970-01-01T12:46:09\",\"1970-01-01T15:02:28\",\"1970-01-01T15:02:28\",\"1970-01-01T15:44:08\",\"1970-01-01T15:44:08\",\"1970-01-01T15:44:08\"],\"y\":[\"Carrier A\",\"Carrier A\",\"Carrier A\",\"Carrier A\",null,\"Carrier A\",\"Carrier A\",\"Carrier A\",\"Carrier A\",null,\"Carrier A\",\"Carrier A\",\"Carrier A\",\"Carrier A\",null,\"Carrier A\",\"Carrier A\",\"Carrier A\",\"Carrier A\",null,\"Carrier A\",\"Carrier A\",\"Carrier A\",\"Carrier A\",null,\"Carrier A\",\"Carrier A\",\"Carrier A\",\"Carrier A\",null,\"Cutter T\",\"Cutter T\",\"Cutter T\",\"Cutter T\",null,\"Cutter T\",\"Cutter T\",\"Cutter T\",\"Cutter T\",null,\"Cutter T\",\"Cutter T\",\"Cutter T\",\"Cutter T\",null,\"Cutter T\",\"Cutter T\",\"Cutter T\",\"Cutter T\",null,\"Cutter T\",\"Cutter T\",\"Cutter T\",\"Cutter T\",null,\"Cutter T\",\"Cutter T\",\"Cutter T\",\"Cutter T\",null,\"Trench\",\"Trench\",\"Trench\",\"Trench\",null,\"Trench\",\"Trench\",\"Trench\",\"Trench\",null,\"Trench\",\"Trench\",\"Trench\",\"Trench\",null,\"Trench\",\"Trench\",\"Trench\",\"Trench\",null,\"Trench\",\"Trench\",\"Trench\",\"Trench\",null,\"Trench\",\"Trench\",\"Trench\",\"Trench\",null],\"type\":\"scatter\"},{\"connectgaps\":false,\"hoverinfo\":\"y+name\",\"line\":{\"color\":\"rgb(132,129,211)\",\"width\":10},\"mode\":\"lines\",\"name\":\"loading:Barge I\",\"x\":[\"1970-01-01T01:22:12\",\"1970-01-01T01:22:12\",\"1970-01-01T02:03:52\",\"1970-01-01T02:03:52\",\"1970-01-01T02:03:52\",\"1970-01-01T04:09:10\",\"1970-01-01T04:09:10\",\"1970-01-01T04:50:50\",\"1970-01-01T04:50:50\",\"1970-01-01T04:50:50\",\"1970-01-01T06:56:08\",\"1970-01-01T06:56:08\",\"1970-01-01T07:37:48\",\"1970-01-01T07:37:48\",\"1970-01-01T07:37:48\",\"1970-01-01T09:48:10\",\"1970-01-01T09:48:10\",\"1970-01-01T10:29:50\",\"1970-01-01T10:29:50\",\"1970-01-01T10:29:50\",\"1970-01-01T12:46:09\",\"1970-01-01T12:46:09\",\"1970-01-01T13:27:49\",\"1970-01-01T13:27:49\",\"1970-01-01T13:27:49\",\"1970-01-01T15:44:08\",\"1970-01-01T15:44:08\",\"1970-01-01T16:25:48\",\"1970-01-01T16:25:48\",\"1970-01-01T16:25:48\",\"1970-01-01T01:22:12\",\"1970-01-01T01:22:12\",\"1970-01-01T02:03:52\",\"1970-01-01T02:03:52\",\"1970-01-01T02:03:52\",\"1970-01-01T04:09:10\",\"1970-01-01T04:09:10\",\"1970-01-01T04:50:50\",\"1970-01-01T04:50:50\",\"1970-01-01T04:50:50\",\"1970-01-01T06:56:08\",\"1970-01-01T06:56:08\",\"1970-01-01T07:37:48\",\"1970-01-01T07:37:48\",\"1970-01-01T07:37:48\",\"1970-01-01T09:48:10\",\"1970-01-01T09:48:10\",\"1970-01-01T10:29:50\",\"1970-01-01T10:29:50\",\"1970-01-01T10:29:50\",\"1970-01-01T12:46:09\",\"1970-01-01T12:46:09\",\"1970-01-01T13:27:49\",\"1970-01-01T13:27:49\",\"1970-01-01T13:27:49\",\"1970-01-01T15:44:08\",\"1970-01-01T15:44:08\",\"1970-01-01T16:25:48\",\"1970-01-01T16:25:48\",\"1970-01-01T16:25:48\",\"1970-01-01T01:22:12\",\"1970-01-01T01:22:12\",\"1970-01-01T02:03:52\",\"1970-01-01T02:03:52\",\"1970-01-01T02:03:52\",\"1970-01-01T04:09:10\",\"1970-01-01T04:09:10\",\"1970-01-01T04:50:50\",\"1970-01-01T04:50:50\",\"1970-01-01T04:50:50\",\"1970-01-01T06:56:08\",\"1970-01-01T06:56:08\",\"1970-01-01T07:37:48\",\"1970-01-01T07:37:48\",\"1970-01-01T07:37:48\",\"1970-01-01T09:48:10\",\"1970-01-01T09:48:10\",\"1970-01-01T10:29:50\",\"1970-01-01T10:29:50\",\"1970-01-01T10:29:50\",\"1970-01-01T12:46:09\",\"1970-01-01T12:46:09\",\"1970-01-01T13:27:49\",\"1970-01-01T13:27:49\",\"1970-01-01T13:27:49\",\"1970-01-01T15:44:08\",\"1970-01-01T15:44:08\",\"1970-01-01T16:25:48\",\"1970-01-01T16:25:48\",\"1970-01-01T16:25:48\"],\"y\":[\"Barge I\",\"Barge I\",\"Barge I\",\"Barge I\",null,\"Barge I\",\"Barge I\",\"Barge I\",\"Barge I\",null,\"Barge I\",\"Barge I\",\"Barge I\",\"Barge I\",null,\"Barge I\",\"Barge I\",\"Barge I\",\"Barge I\",null,\"Barge I\",\"Barge I\",\"Barge I\",\"Barge I\",null,\"Barge I\",\"Barge I\",\"Barge I\",\"Barge I\",null,\"Cutter T\",\"Cutter T\",\"Cutter T\",\"Cutter T\",null,\"Cutter T\",\"Cutter T\",\"Cutter T\",\"Cutter T\",null,\"Cutter T\",\"Cutter T\",\"Cutter T\",\"Cutter T\",null,\"Cutter T\",\"Cutter T\",\"Cutter T\",\"Cutter T\",null,\"Cutter T\",\"Cutter T\",\"Cutter T\",\"Cutter T\",null,\"Cutter T\",\"Cutter T\",\"Cutter T\",\"Cutter T\",null,\"Trench\",\"Trench\",\"Trench\",\"Trench\",null,\"Trench\",\"Trench\",\"Trench\",\"Trench\",null,\"Trench\",\"Trench\",\"Trench\",\"Trench\",null,\"Trench\",\"Trench\",\"Trench\",\"Trench\",null,\"Trench\",\"Trench\",\"Trench\",\"Trench\",null,\"Trench\",\"Trench\",\"Trench\",\"Trench\",null],\"type\":\"scatter\"},{\"connectgaps\":false,\"hoverinfo\":\"y+name\",\"line\":{\"color\":\"rgb(141,138,220)\",\"width\":10},\"mode\":\"lines\",\"name\":\"loading:Carrier B\",\"x\":[\"1970-01-01T02:37:12\",\"1970-01-01T02:37:12\",\"1970-01-01T03:10:32\",\"1970-01-01T03:10:32\",\"1970-01-01T03:10:32\",\"1970-01-01T05:35:11\",\"1970-01-01T05:35:11\",\"1970-01-01T06:08:31\",\"1970-01-01T06:08:31\",\"1970-01-01T06:08:31\",\"1970-01-01T08:33:10\",\"1970-01-01T08:33:10\",\"1970-01-01T09:06:30\",\"1970-01-01T09:06:30\",\"1970-01-01T09:06:30\",\"1970-01-01T11:31:09\",\"1970-01-01T11:31:09\",\"1970-01-01T12:04:29\",\"1970-01-01T12:04:29\",\"1970-01-01T12:04:29\",\"1970-01-01T14:29:08\",\"1970-01-01T14:29:08\",\"1970-01-01T15:02:28\",\"1970-01-01T15:02:28\",\"1970-01-01T15:02:28\",\"1970-01-01T02:37:12\",\"1970-01-01T02:37:12\",\"1970-01-01T03:10:32\",\"1970-01-01T03:10:32\",\"1970-01-01T03:10:32\",\"1970-01-01T05:35:11\",\"1970-01-01T05:35:11\",\"1970-01-01T06:08:31\",\"1970-01-01T06:08:31\",\"1970-01-01T06:08:31\",\"1970-01-01T08:33:10\",\"1970-01-01T08:33:10\",\"1970-01-01T09:06:30\",\"1970-01-01T09:06:30\",\"1970-01-01T09:06:30\",\"1970-01-01T11:31:09\",\"1970-01-01T11:31:09\",\"1970-01-01T12:04:29\",\"1970-01-01T12:04:29\",\"1970-01-01T12:04:29\",\"1970-01-01T14:29:08\",\"1970-01-01T14:29:08\",\"1970-01-01T15:02:28\",\"1970-01-01T15:02:28\",\"1970-01-01T15:02:28\",\"1970-01-01T02:37:12\",\"1970-01-01T02:37:12\",\"1970-01-01T03:10:32\",\"1970-01-01T03:10:32\",\"1970-01-01T03:10:32\",\"1970-01-01T05:35:11\",\"1970-01-01T05:35:11\",\"1970-01-01T06:08:31\",\"1970-01-01T06:08:31\",\"1970-01-01T06:08:31\",\"1970-01-01T08:33:10\",\"1970-01-01T08:33:10\",\"1970-01-01T09:06:30\",\"1970-01-01T09:06:30\",\"1970-01-01T09:06:30\",\"1970-01-01T11:31:09\",\"1970-01-01T11:31:09\",\"1970-01-01T12:04:29\",\"1970-01-01T12:04:29\",\"1970-01-01T12:04:29\",\"1970-01-01T14:29:08\",\"1970-01-01T14:29:08\",\"1970-01-01T15:02:28\",\"1970-01-01T15:02:28\",\"1970-01-01T15:02:28\"],\"y\":[\"Carrier B\",\"Carrier B\",\"Carrier B\",\"Carrier B\",null,\"Carrier B\",\"Carrier B\",\"Carrier B\",\"Carrier B\",null,\"Carrier B\",\"Carrier B\",\"Carrier B\",\"Carrier B\",null,\"Carrier B\",\"Carrier B\",\"Carrier B\",\"Carrier B\",null,\"Carrier B\",\"Carrier B\",\"Carrier B\",\"Carrier B\",null,\"Cutter T\",\"Cutter T\",\"Cutter T\",\"Cutter T\",null,\"Cutter T\",\"Cutter T\",\"Cutter T\",\"Cutter T\",null,\"Cutter T\",\"Cutter T\",\"Cutter T\",\"Cutter T\",null,\"Cutter T\",\"Cutter T\",\"Cutter T\",\"Cutter T\",null,\"Cutter T\",\"Cutter T\",\"Cutter T\",\"Cutter T\",null,\"Trench\",\"Trench\",\"Trench\",\"Trench\",null,\"Trench\",\"Trench\",\"Trench\",\"Trench\",null,\"Trench\",\"Trench\",\"Trench\",\"Trench\",null,\"Trench\",\"Trench\",\"Trench\",\"Trench\",null,\"Trench\",\"Trench\",\"Trench\",\"Trench\",null],\"type\":\"scatter\"},{\"connectgaps\":false,\"hoverinfo\":\"y+name\",\"line\":{\"color\":\"rgb(150,147,229)\",\"width\":10},\"mode\":\"lines\",\"name\":\"loading:Carrier C\",\"x\":[\"1970-01-01T02:03:52\",\"1970-01-01T02:03:52\",\"1970-01-01T02:37:12\",\"1970-01-01T02:37:12\",\"1970-01-01T02:37:12\",\"1970-01-01T04:50:50\",\"1970-01-01T04:50:50\",\"1970-01-01T05:24:10\",\"1970-01-01T05:24:10\",\"1970-01-01T05:24:10\",\"1970-01-01T07:37:48\",\"1970-01-01T07:37:48\",\"1970-01-01T08:11:08\",\"1970-01-01T08:11:08\",\"1970-01-01T08:11:08\",\"1970-01-01T10:29:50\",\"1970-01-01T10:29:50\",\"1970-01-01T11:03:10\",\"1970-01-01T11:03:10\",\"1970-01-01T11:03:10\",\"1970-01-01T13:27:49\",\"1970-01-01T13:27:49\",\"1970-01-01T14:01:09\",\"1970-01-01T14:01:09\",\"1970-01-01T14:01:09\",\"1970-01-01T02:03:52\",\"1970-01-01T02:03:52\",\"1970-01-01T02:37:12\",\"1970-01-01T02:37:12\",\"1970-01-01T02:37:12\",\"1970-01-01T04:50:50\",\"1970-01-01T04:50:50\",\"1970-01-01T05:24:10\",\"1970-01-01T05:24:10\",\"1970-01-01T05:24:10\",\"1970-01-01T07:37:48\",\"1970-01-01T07:37:48\",\"1970-01-01T08:11:08\",\"1970-01-01T08:11:08\",\"1970-01-01T08:11:08\",\"1970-01-01T10:29:50\",\"1970-01-01T10:29:50\",\"1970-01-01T11:03:10\",\"1970-01-01T11:03:10\",\"1970-01-01T11:03:10\",\"1970-01-01T13:27:49\",\"1970-01-01T13:27:49\",\"1970-01-01T14:01:09\",\"1970-01-01T14:01:09\",\"1970-01-01T14:01:09\",\"1970-01-01T02:03:52\",\"1970-01-01T02:03:52\",\"1970-01-01T02:37:12\",\"1970-01-01T02:37:12\",\"1970-01-01T02:37:12\",\"1970-01-01T04:50:50\",\"1970-01-01T04:50:50\",\"1970-01-01T05:24:10\",\"1970-01-01T05:24:10\",\"1970-01-01T05:24:10\",\"1970-01-01T07:37:48\",\"1970-01-01T07:37:48\",\"1970-01-01T08:11:08\",\"1970-01-01T08:11:08\",\"1970-01-01T08:11:08\",\"1970-01-01T10:29:50\",\"1970-01-01T10:29:50\",\"1970-01-01T11:03:10\",\"1970-01-01T11:03:10\",\"1970-01-01T11:03:10\",\"1970-01-01T13:27:49\",\"1970-01-01T13:27:49\",\"1970-01-01T14:01:09\",\"1970-01-01T14:01:09\",\"1970-01-01T14:01:09\"],\"y\":[\"Carrier C\",\"Carrier C\",\"Carrier C\",\"Carrier C\",null,\"Carrier C\",\"Carrier C\",\"Carrier C\",\"Carrier C\",null,\"Carrier C\",\"Carrier C\",\"Carrier C\",\"Carrier C\",null,\"Carrier C\",\"Carrier C\",\"Carrier C\",\"Carrier C\",null,\"Carrier C\",\"Carrier C\",\"Carrier C\",\"Carrier C\",null,\"Cutter T\",\"Cutter T\",\"Cutter T\",\"Cutter T\",null,\"Cutter T\",\"Cutter T\",\"Cutter T\",\"Cutter T\",null,\"Cutter T\",\"Cutter T\",\"Cutter T\",\"Cutter T\",null,\"Cutter T\",\"Cutter T\",\"Cutter T\",\"Cutter T\",null,\"Cutter T\",\"Cutter T\",\"Cutter T\",\"Cutter T\",null,\"Trench\",\"Trench\",\"Trench\",\"Trench\",null,\"Trench\",\"Trench\",\"Trench\",\"Trench\",null,\"Trench\",\"Trench\",\"Trench\",\"Trench\",null,\"Trench\",\"Trench\",\"Trench\",\"Trench\",null,\"Trench\",\"Trench\",\"Trench\",\"Trench\",null],\"type\":\"scatter\"},{\"connectgaps\":false,\"hoverinfo\":\"y+name\",\"line\":{\"color\":\"rgb(159,156,238)\",\"width\":10},\"mode\":\"lines\",\"name\":\"unloading:Carrier B\",\"x\":[\"1970-01-01T03:58:45\",\"1970-01-01T03:58:45\",\"1970-01-01T04:46:58\",\"1970-01-01T04:46:58\",\"1970-01-01T04:46:58\",\"1970-01-01T06:56:44\",\"1970-01-01T06:56:44\",\"1970-01-01T07:44:57\",\"1970-01-01T07:44:57\",\"1970-01-01T07:44:57\",\"1970-01-01T09:54:43\",\"1970-01-01T09:54:43\",\"1970-01-01T10:42:56\",\"1970-01-01T10:42:56\",\"1970-01-01T10:42:56\",\"1970-01-01T12:52:42\",\"1970-01-01T12:52:42\",\"1970-01-01T13:40:55\",\"1970-01-01T13:40:55\",\"1970-01-01T13:40:55\",\"1970-01-01T15:50:41\",\"1970-01-01T15:50:41\",\"1970-01-01T16:38:54\",\"1970-01-01T16:38:54\",\"1970-01-01T16:38:54\",\"1970-01-01T03:58:45\",\"1970-01-01T03:58:45\",\"1970-01-01T04:46:58\",\"1970-01-01T04:46:58\",\"1970-01-01T04:46:58\",\"1970-01-01T06:56:44\",\"1970-01-01T06:56:44\",\"1970-01-01T07:44:57\",\"1970-01-01T07:44:57\",\"1970-01-01T07:44:57\",\"1970-01-01T09:54:43\",\"1970-01-01T09:54:43\",\"1970-01-01T10:42:56\",\"1970-01-01T10:42:56\",\"1970-01-01T10:42:56\",\"1970-01-01T12:52:42\",\"1970-01-01T12:52:42\",\"1970-01-01T13:40:55\",\"1970-01-01T13:40:55\",\"1970-01-01T13:40:55\",\"1970-01-01T15:50:41\",\"1970-01-01T15:50:41\",\"1970-01-01T16:38:54\",\"1970-01-01T16:38:54\",\"1970-01-01T16:38:54\"],\"y\":[\"Carrier B\",\"Carrier B\",\"Carrier B\",\"Carrier B\",null,\"Carrier B\",\"Carrier B\",\"Carrier B\",\"Carrier B\",null,\"Carrier B\",\"Carrier B\",\"Carrier B\",\"Carrier B\",null,\"Carrier B\",\"Carrier B\",\"Carrier B\",\"Carrier B\",null,\"Carrier B\",\"Carrier B\",\"Carrier B\",\"Carrier B\",null,\"Reclamation\",\"Reclamation\",\"Reclamation\",\"Reclamation\",null,\"Reclamation\",\"Reclamation\",\"Reclamation\",\"Reclamation\",null,\"Reclamation\",\"Reclamation\",\"Reclamation\",\"Reclamation\",null,\"Reclamation\",\"Reclamation\",\"Reclamation\",\"Reclamation\",null,\"Reclamation\",\"Reclamation\",\"Reclamation\",\"Reclamation\",null],\"type\":\"scatter\"},{\"connectgaps\":false,\"hoverinfo\":\"y+name\",\"line\":{\"color\":\"rgb(168,165,247)\",\"width\":10},\"mode\":\"lines\",\"name\":\"unloading:Barge I\",\"x\":[\"1970-01-01T02:45:38\",\"1970-01-01T02:45:38\",\"1970-01-01T03:27:24\",\"1970-01-01T03:27:24\",\"1970-01-01T03:27:24\",\"1970-01-01T05:32:36\",\"1970-01-01T05:32:36\",\"1970-01-01T06:14:22\",\"1970-01-01T06:14:22\",\"1970-01-01T06:14:22\",\"1970-01-01T08:19:34\",\"1970-01-01T08:19:34\",\"1970-01-01T09:01:20\",\"1970-01-01T09:01:20\",\"1970-01-01T09:01:20\",\"1970-01-01T11:11:36\",\"1970-01-01T11:11:36\",\"1970-01-01T11:53:22\",\"1970-01-01T11:53:22\",\"1970-01-01T11:53:22\",\"1970-01-01T14:09:35\",\"1970-01-01T14:09:35\",\"1970-01-01T14:51:21\",\"1970-01-01T14:51:21\",\"1970-01-01T14:51:21\",\"1970-01-01T17:07:34\",\"1970-01-01T17:07:34\",\"1970-01-01T17:49:20\",\"1970-01-01T17:49:20\",\"1970-01-01T17:49:20\",\"1970-01-01T02:45:38\",\"1970-01-01T02:45:38\",\"1970-01-01T03:27:24\",\"1970-01-01T03:27:24\",\"1970-01-01T03:27:24\",\"1970-01-01T05:32:36\",\"1970-01-01T05:32:36\",\"1970-01-01T06:14:22\",\"1970-01-01T06:14:22\",\"1970-01-01T06:14:22\",\"1970-01-01T08:19:34\",\"1970-01-01T08:19:34\",\"1970-01-01T09:01:20\",\"1970-01-01T09:01:20\",\"1970-01-01T09:01:20\",\"1970-01-01T11:11:36\",\"1970-01-01T11:11:36\",\"1970-01-01T11:53:22\",\"1970-01-01T11:53:22\",\"1970-01-01T11:53:22\",\"1970-01-01T14:09:35\",\"1970-01-01T14:09:35\",\"1970-01-01T14:51:21\",\"1970-01-01T14:51:21\",\"1970-01-01T14:51:21\",\"1970-01-01T17:07:34\",\"1970-01-01T17:07:34\",\"1970-01-01T17:49:20\",\"1970-01-01T17:49:20\",\"1970-01-01T17:49:20\"],\"y\":[\"Barge I\",\"Barge I\",\"Barge I\",\"Barge I\",null,\"Barge I\",\"Barge I\",\"Barge I\",\"Barge I\",null,\"Barge I\",\"Barge I\",\"Barge I\",\"Barge I\",null,\"Barge I\",\"Barge I\",\"Barge I\",\"Barge I\",null,\"Barge I\",\"Barge I\",\"Barge I\",\"Barge I\",null,\"Barge I\",\"Barge I\",\"Barge I\",\"Barge I\",null,\"Reclamation\",\"Reclamation\",\"Reclamation\",\"Reclamation\",null,\"Reclamation\",\"Reclamation\",\"Reclamation\",\"Reclamation\",null,\"Reclamation\",\"Reclamation\",\"Reclamation\",\"Reclamation\",null,\"Reclamation\",\"Reclamation\",\"Reclamation\",\"Reclamation\",null,\"Reclamation\",\"Reclamation\",\"Reclamation\",\"Reclamation\",null,\"Reclamation\",\"Reclamation\",\"Reclamation\",\"Reclamation\",null],\"type\":\"scatter\"},{\"connectgaps\":false,\"hoverinfo\":\"y+name\",\"line\":{\"color\":\"rgb(177,174,0)\",\"width\":10},\"mode\":\"lines\",\"name\":\"unloading:Carrier C\",\"x\":[\"1970-01-01T03:19:46\",\"1970-01-01T03:19:46\",\"1970-01-01T04:02:20\",\"1970-01-01T04:02:20\",\"1970-01-01T04:02:20\",\"1970-01-01T06:06:44\",\"1970-01-01T06:06:44\",\"1970-01-01T06:49:18\",\"1970-01-01T06:49:18\",\"1970-01-01T06:49:18\",\"1970-01-01T08:53:42\",\"1970-01-01T08:53:42\",\"1970-01-01T09:36:16\",\"1970-01-01T09:36:16\",\"1970-01-01T09:36:16\",\"1970-01-01T11:45:44\",\"1970-01-01T11:45:44\",\"1970-01-01T12:28:18\",\"1970-01-01T12:28:18\",\"1970-01-01T12:28:18\",\"1970-01-01T14:43:43\",\"1970-01-01T14:43:43\",\"1970-01-01T15:26:17\",\"1970-01-01T15:26:17\",\"1970-01-01T15:26:17\",\"1970-01-01T03:19:46\",\"1970-01-01T03:19:46\",\"1970-01-01T04:02:20\",\"1970-01-01T04:02:20\",\"1970-01-01T04:02:20\",\"1970-01-01T06:06:44\",\"1970-01-01T06:06:44\",\"1970-01-01T06:49:18\",\"1970-01-01T06:49:18\",\"1970-01-01T06:49:18\",\"1970-01-01T08:53:42\",\"1970-01-01T08:53:42\",\"1970-01-01T09:36:16\",\"1970-01-01T09:36:16\",\"1970-01-01T09:36:16\",\"1970-01-01T11:45:44\",\"1970-01-01T11:45:44\",\"1970-01-01T12:28:18\",\"1970-01-01T12:28:18\",\"1970-01-01T12:28:18\",\"1970-01-01T14:43:43\",\"1970-01-01T14:43:43\",\"1970-01-01T15:26:17\",\"1970-01-01T15:26:17\",\"1970-01-01T15:26:17\"],\"y\":[\"Carrier C\",\"Carrier C\",\"Carrier C\",\"Carrier C\",null,\"Carrier C\",\"Carrier C\",\"Carrier C\",\"Carrier C\",null,\"Carrier C\",\"Carrier C\",\"Carrier C\",\"Carrier C\",null,\"Carrier C\",\"Carrier C\",\"Carrier C\",\"Carrier C\",null,\"Carrier C\",\"Carrier C\",\"Carrier C\",\"Carrier C\",null,\"Reclamation\",\"Reclamation\",\"Reclamation\",\"Reclamation\",null,\"Reclamation\",\"Reclamation\",\"Reclamation\",\"Reclamation\",null,\"Reclamation\",\"Reclamation\",\"Reclamation\",\"Reclamation\",null,\"Reclamation\",\"Reclamation\",\"Reclamation\",\"Reclamation\",null,\"Reclamation\",\"Reclamation\",\"Reclamation\",\"Reclamation\",null],\"type\":\"scatter\"},{\"connectgaps\":false,\"hoverinfo\":\"y+name\",\"line\":{\"color\":\"rgb(186,183,9)\",\"width\":10},\"mode\":\"lines\",\"name\":\"unloading:Carrier A\",\"x\":[\"1970-01-01T02:02:44\",\"1970-01-01T02:02:44\",\"1970-01-01T02:43:16\",\"1970-01-01T02:43:16\",\"1970-01-01T02:43:16\",\"1970-01-01T04:46:00\",\"1970-01-01T04:46:00\",\"1970-01-01T05:26:32\",\"1970-01-01T05:26:32\",\"1970-01-01T05:26:32\",\"1970-01-01T07:30:43\",\"1970-01-01T07:30:43\",\"1970-01-01T08:11:15\",\"1970-01-01T08:11:15\",\"1970-01-01T08:11:15\",\"1970-01-01T10:28:42\",\"1970-01-01T10:28:42\",\"1970-01-01T11:09:14\",\"1970-01-01T11:09:14\",\"1970-01-01T11:09:14\",\"1970-01-01T13:26:41\",\"1970-01-01T13:26:41\",\"1970-01-01T14:07:13\",\"1970-01-01T14:07:13\",\"1970-01-01T14:07:13\",\"1970-01-01T16:24:40\",\"1970-01-01T16:24:40\",\"1970-01-01T17:05:12\",\"1970-01-01T17:05:12\",\"1970-01-01T17:05:12\",\"1970-01-01T02:02:44\",\"1970-01-01T02:02:44\",\"1970-01-01T02:43:16\",\"1970-01-01T02:43:16\",\"1970-01-01T02:43:16\",\"1970-01-01T04:46:00\",\"1970-01-01T04:46:00\",\"1970-01-01T05:26:32\",\"1970-01-01T05:26:32\",\"1970-01-01T05:26:32\",\"1970-01-01T07:30:43\",\"1970-01-01T07:30:43\",\"1970-01-01T08:11:15\",\"1970-01-01T08:11:15\",\"1970-01-01T08:11:15\",\"1970-01-01T10:28:42\",\"1970-01-01T10:28:42\",\"1970-01-01T11:09:14\",\"1970-01-01T11:09:14\",\"1970-01-01T11:09:14\",\"1970-01-01T13:26:41\",\"1970-01-01T13:26:41\",\"1970-01-01T14:07:13\",\"1970-01-01T14:07:13\",\"1970-01-01T14:07:13\",\"1970-01-01T16:24:40\",\"1970-01-01T16:24:40\",\"1970-01-01T17:05:12\",\"1970-01-01T17:05:12\",\"1970-01-01T17:05:12\"],\"y\":[\"Carrier A\",\"Carrier A\",\"Carrier A\",\"Carrier A\",null,\"Carrier A\",\"Carrier A\",\"Carrier A\",\"Carrier A\",null,\"Carrier A\",\"Carrier A\",\"Carrier A\",\"Carrier A\",null,\"Carrier A\",\"Carrier A\",\"Carrier A\",\"Carrier A\",null,\"Carrier A\",\"Carrier A\",\"Carrier A\",\"Carrier A\",null,\"Carrier A\",\"Carrier A\",\"Carrier A\",\"Carrier A\",null,\"Reclamation\",\"Reclamation\",\"Reclamation\",\"Reclamation\",null,\"Reclamation\",\"Reclamation\",\"Reclamation\",\"Reclamation\",null,\"Reclamation\",\"Reclamation\",\"Reclamation\",\"Reclamation\",null,\"Reclamation\",\"Reclamation\",\"Reclamation\",\"Reclamation\",null,\"Reclamation\",\"Reclamation\",\"Reclamation\",\"Reclamation\",null,\"Reclamation\",\"Reclamation\",\"Reclamation\",\"Reclamation\",null],\"type\":\"scatter\"}],                        {\"hovermode\":\"closest\",\"legend\":{\"orientation\":\"h\",\"x\":0,\"y\":-0.2},\"showlegend\":false,\"template\":{\"data\":{\"barpolar\":[{\"marker\":{\"line\":{\"color\":\"#E5ECF6\",\"width\":0.5},\"pattern\":{\"fillmode\":\"overlay\",\"size\":10,\"solidity\":0.2}},\"type\":\"barpolar\"}],\"bar\":[{\"error_x\":{\"color\":\"#2a3f5f\"},\"error_y\":{\"color\":\"#2a3f5f\"},\"marker\":{\"line\":{\"color\":\"#E5ECF6\",\"width\":0.5},\"pattern\":{\"fillmode\":\"overlay\",\"size\":10,\"solidity\":0.2}},\"type\":\"bar\"}],\"carpet\":[{\"aaxis\":{\"endlinecolor\":\"#2a3f5f\",\"gridcolor\":\"white\",\"linecolor\":\"white\",\"minorgridcolor\":\"white\",\"startlinecolor\":\"#2a3f5f\"},\"baxis\":{\"endlinecolor\":\"#2a3f5f\",\"gridcolor\":\"white\",\"linecolor\":\"white\",\"minorgridcolor\":\"white\",\"startlinecolor\":\"#2a3f5f\"},\"type\":\"carpet\"}],\"choropleth\":[{\"colorbar\":{\"outlinewidth\":0,\"ticks\":\"\"},\"type\":\"choropleth\"}],\"contourcarpet\":[{\"colorbar\":{\"outlinewidth\":0,\"ticks\":\"\"},\"type\":\"contourcarpet\"}],\"contour\":[{\"colorbar\":{\"outlinewidth\":0,\"ticks\":\"\"},\"colorscale\":[[0.0,\"#0d0887\"],[0.1111111111111111,\"#46039f\"],[0.2222222222222222,\"#7201a8\"],[0.3333333333333333,\"#9c179e\"],[0.4444444444444444,\"#bd3786\"],[0.5555555555555556,\"#d8576b\"],[0.6666666666666666,\"#ed7953\"],[0.7777777777777778,\"#fb9f3a\"],[0.8888888888888888,\"#fdca26\"],[1.0,\"#f0f921\"]],\"type\":\"contour\"}],\"heatmapgl\":[{\"colorbar\":{\"outlinewidth\":0,\"ticks\":\"\"},\"colorscale\":[[0.0,\"#0d0887\"],[0.1111111111111111,\"#46039f\"],[0.2222222222222222,\"#7201a8\"],[0.3333333333333333,\"#9c179e\"],[0.4444444444444444,\"#bd3786\"],[0.5555555555555556,\"#d8576b\"],[0.6666666666666666,\"#ed7953\"],[0.7777777777777778,\"#fb9f3a\"],[0.8888888888888888,\"#fdca26\"],[1.0,\"#f0f921\"]],\"type\":\"heatmapgl\"}],\"heatmap\":[{\"colorbar\":{\"outlinewidth\":0,\"ticks\":\"\"},\"colorscale\":[[0.0,\"#0d0887\"],[0.1111111111111111,\"#46039f\"],[0.2222222222222222,\"#7201a8\"],[0.3333333333333333,\"#9c179e\"],[0.4444444444444444,\"#bd3786\"],[0.5555555555555556,\"#d8576b\"],[0.6666666666666666,\"#ed7953\"],[0.7777777777777778,\"#fb9f3a\"],[0.8888888888888888,\"#fdca26\"],[1.0,\"#f0f921\"]],\"type\":\"heatmap\"}],\"histogram2dcontour\":[{\"colorbar\":{\"outlinewidth\":0,\"ticks\":\"\"},\"colorscale\":[[0.0,\"#0d0887\"],[0.1111111111111111,\"#46039f\"],[0.2222222222222222,\"#7201a8\"],[0.3333333333333333,\"#9c179e\"],[0.4444444444444444,\"#bd3786\"],[0.5555555555555556,\"#d8576b\"],[0.6666666666666666,\"#ed7953\"],[0.7777777777777778,\"#fb9f3a\"],[0.8888888888888888,\"#fdca26\"],[1.0,\"#f0f921\"]],\"type\":\"histogram2dcontour\"}],\"histogram2d\":[{\"colorbar\":{\"outlinewidth\":0,\"ticks\":\"\"},\"colorscale\":[[0.0,\"#0d0887\"],[0.1111111111111111,\"#46039f\"],[0.2222222222222222,\"#7201a8\"],[0.3333333333333333,\"#9c179e\"],[0.4444444444444444,\"#bd3786\"],[0.5555555555555556,\"#d8576b\"],[0.6666666666666666,\"#ed7953\"],[0.7777777777777778,\"#fb9f3a\"],[0.8888888888888888,\"#fdca26\"],[1.0,\"#f0f921\"]],\"type\":\"histogram2d\"}],\"histogram\":[{\"marker\":{\"pattern\":{\"fillmode\":\"overlay\",\"size\":10,\"solidity\":0.2}},\"type\":\"histogram\"}],\"mesh3d\":[{\"colorbar\":{\"outlinewidth\":0,\"ticks\":\"\"},\"type\":\"mesh3d\"}],\"parcoords\":[{\"line\":{\"colorbar\":{\"outlinewidth\":0,\"ticks\":\"\"}},\"type\":\"parcoords\"}],\"pie\":[{\"automargin\":true,\"type\":\"pie\"}],\"scatter3d\":[{\"line\":{\"colorbar\":{\"outlinewidth\":0,\"ticks\":\"\"}},\"marker\":{\"colorbar\":{\"outlinewidth\":0,\"ticks\":\"\"}},\"type\":\"scatter3d\"}],\"scattercarpet\":[{\"marker\":{\"colorbar\":{\"outlinewidth\":0,\"ticks\":\"\"}},\"type\":\"scattercarpet\"}],\"scattergeo\":[{\"marker\":{\"colorbar\":{\"outlinewidth\":0,\"ticks\":\"\"}},\"type\":\"scattergeo\"}],\"scattergl\":[{\"marker\":{\"colorbar\":{\"outlinewidth\":0,\"ticks\":\"\"}},\"type\":\"scattergl\"}],\"scattermapbox\":[{\"marker\":{\"colorbar\":{\"outlinewidth\":0,\"ticks\":\"\"}},\"type\":\"scattermapbox\"}],\"scatterpolargl\":[{\"marker\":{\"colorbar\":{\"outlinewidth\":0,\"ticks\":\"\"}},\"type\":\"scatterpolargl\"}],\"scatterpolar\":[{\"marker\":{\"colorbar\":{\"outlinewidth\":0,\"ticks\":\"\"}},\"type\":\"scatterpolar\"}],\"scatter\":[{\"fillpattern\":{\"fillmode\":\"overlay\",\"size\":10,\"solidity\":0.2},\"type\":\"scatter\"}],\"scatterternary\":[{\"marker\":{\"colorbar\":{\"outlinewidth\":0,\"ticks\":\"\"}},\"type\":\"scatterternary\"}],\"surface\":[{\"colorbar\":{\"outlinewidth\":0,\"ticks\":\"\"},\"colorscale\":[[0.0,\"#0d0887\"],[0.1111111111111111,\"#46039f\"],[0.2222222222222222,\"#7201a8\"],[0.3333333333333333,\"#9c179e\"],[0.4444444444444444,\"#bd3786\"],[0.5555555555555556,\"#d8576b\"],[0.6666666666666666,\"#ed7953\"],[0.7777777777777778,\"#fb9f3a\"],[0.8888888888888888,\"#fdca26\"],[1.0,\"#f0f921\"]],\"type\":\"surface\"}],\"table\":[{\"cells\":{\"fill\":{\"color\":\"#EBF0F8\"},\"line\":{\"color\":\"white\"}},\"header\":{\"fill\":{\"color\":\"#C8D4E3\"},\"line\":{\"color\":\"white\"}},\"type\":\"table\"}]},\"layout\":{\"annotationdefaults\":{\"arrowcolor\":\"#2a3f5f\",\"arrowhead\":0,\"arrowwidth\":1},\"autotypenumbers\":\"strict\",\"coloraxis\":{\"colorbar\":{\"outlinewidth\":0,\"ticks\":\"\"}},\"colorscale\":{\"diverging\":[[0,\"#8e0152\"],[0.1,\"#c51b7d\"],[0.2,\"#de77ae\"],[0.3,\"#f1b6da\"],[0.4,\"#fde0ef\"],[0.5,\"#f7f7f7\"],[0.6,\"#e6f5d0\"],[0.7,\"#b8e186\"],[0.8,\"#7fbc41\"],[0.9,\"#4d9221\"],[1,\"#276419\"]],\"sequential\":[[0.0,\"#0d0887\"],[0.1111111111111111,\"#46039f\"],[0.2222222222222222,\"#7201a8\"],[0.3333333333333333,\"#9c179e\"],[0.4444444444444444,\"#bd3786\"],[0.5555555555555556,\"#d8576b\"],[0.6666666666666666,\"#ed7953\"],[0.7777777777777778,\"#fb9f3a\"],[0.8888888888888888,\"#fdca26\"],[1.0,\"#f0f921\"]],\"sequentialminus\":[[0.0,\"#0d0887\"],[0.1111111111111111,\"#46039f\"],[0.2222222222222222,\"#7201a8\"],[0.3333333333333333,\"#9c179e\"],[0.4444444444444444,\"#bd3786\"],[0.5555555555555556,\"#d8576b\"],[0.6666666666666666,\"#ed7953\"],[0.7777777777777778,\"#fb9f3a\"],[0.8888888888888888,\"#fdca26\"],[1.0,\"#f0f921\"]]},\"colorway\":[\"#636efa\",\"#EF553B\",\"#00cc96\",\"#ab63fa\",\"#FFA15A\",\"#19d3f3\",\"#FF6692\",\"#B6E880\",\"#FF97FF\",\"#FECB52\"],\"font\":{\"color\":\"#2a3f5f\"},\"geo\":{\"bgcolor\":\"white\",\"lakecolor\":\"white\",\"landcolor\":\"#E5ECF6\",\"showlakes\":true,\"showland\":true,\"subunitcolor\":\"white\"},\"hoverlabel\":{\"align\":\"left\"},\"hovermode\":\"closest\",\"mapbox\":{\"style\":\"light\"},\"paper_bgcolor\":\"white\",\"plot_bgcolor\":\"#E5ECF6\",\"polar\":{\"angularaxis\":{\"gridcolor\":\"white\",\"linecolor\":\"white\",\"ticks\":\"\"},\"bgcolor\":\"#E5ECF6\",\"radialaxis\":{\"gridcolor\":\"white\",\"linecolor\":\"white\",\"ticks\":\"\"}},\"scene\":{\"xaxis\":{\"backgroundcolor\":\"#E5ECF6\",\"gridcolor\":\"white\",\"gridwidth\":2,\"linecolor\":\"white\",\"showbackground\":true,\"ticks\":\"\",\"zerolinecolor\":\"white\"},\"yaxis\":{\"backgroundcolor\":\"#E5ECF6\",\"gridcolor\":\"white\",\"gridwidth\":2,\"linecolor\":\"white\",\"showbackground\":true,\"ticks\":\"\",\"zerolinecolor\":\"white\"},\"zaxis\":{\"backgroundcolor\":\"#E5ECF6\",\"gridcolor\":\"white\",\"gridwidth\":2,\"linecolor\":\"white\",\"showbackground\":true,\"ticks\":\"\",\"zerolinecolor\":\"white\"}},\"shapedefaults\":{\"line\":{\"color\":\"#2a3f5f\"}},\"ternary\":{\"aaxis\":{\"gridcolor\":\"white\",\"linecolor\":\"white\",\"ticks\":\"\"},\"baxis\":{\"gridcolor\":\"white\",\"linecolor\":\"white\",\"ticks\":\"\"},\"bgcolor\":\"#E5ECF6\",\"caxis\":{\"gridcolor\":\"white\",\"linecolor\":\"white\",\"ticks\":\"\"}},\"title\":{\"x\":0.05},\"xaxis\":{\"automargin\":true,\"gridcolor\":\"white\",\"linecolor\":\"white\",\"ticks\":\"\",\"title\":{\"standoff\":15},\"zerolinecolor\":\"white\",\"zerolinewidth\":2},\"yaxis\":{\"automargin\":true,\"gridcolor\":\"white\",\"linecolor\":\"white\",\"ticks\":\"\",\"title\":{\"standoff\":15},\"zerolinecolor\":\"white\",\"zerolinewidth\":2}}},\"title\":{\"text\":\"Cutter T occupancy: 88.2duration actual: 56716.0\"},\"xaxis\":{\"range\":[\"1970-01-01T00:00:00\",\"1970-01-01T17:49:20\"],\"title\":{\"font\":{\"color\":\"#7f7f7f\",\"family\":\"Courier New, monospace\",\"size\":18},\"text\":\"Time\"}},\"yaxis\":{\"title\":{\"font\":{\"color\":\"#7f7f7f\",\"family\":\"Courier New, monospace\",\"size\":18},\"text\":\"vesels\"}}},                        {\"responsive\": true}                    ).then(function(){\n",
       "                            \n",
       "var gd = document.getElementById('6f5e8e25-552b-422d-aa84-0a6d916353f9');\n",
       "var x = new MutationObserver(function (mutations, observer) {{\n",
       "        var display = window.getComputedStyle(gd).display;\n",
       "        if (!display || display === 'none') {{\n",
       "            console.log([gd, 'removed!']);\n",
       "            Plotly.purge(gd);\n",
       "            observer.disconnect();\n",
       "        }}\n",
       "}});\n",
       "\n",
       "// Listen for the removal of the full notebook cells\n",
       "var notebookContainer = gd.closest('#notebook-container');\n",
       "if (notebookContainer) {{\n",
       "    x.observe(notebookContainer, {childList: true});\n",
       "}}\n",
       "\n",
       "// Listen for the clearing of the current output cell\n",
       "var outputEl = gd.closest('.output');\n",
       "if (outputEl) {{\n",
       "    x.observe(outputEl, {childList: true});\n",
       "}}\n",
       "\n",
       "                        })                };                });            </script>        </div>"
      ]
     },
     "metadata": {},
     "output_type": "display_data"
    }
   ],
   "source": [
    "i = scenario_index\n",
    "vessels = results[i]['vessels']\n",
    "activities = results[i]['activities']\n",
    "sites = results[i]['sites']\n",
    "  \n",
    "my_objects = list(vessels.values()) + list(sites.values())\n",
    "my_activities = list(activities.values())\n",
    "my_log = CpLog(list_objects=my_objects, list_activities=my_activities)\n",
    "dependencies = my_log.get_dependencies_model_based()\n",
    "# dependencies = my_log.get_dependencies_log_based()\n",
    "cp = my_log.mark_critical_activities(dependencies)\n",
    "occupancy = occupancy_analysis(vessels, cutter_name, total_amount, vessel_cost)\n",
    "\n",
    "t = f'{cutter_name} occupancy: ' + str(occupancy.loc[cutter_name]['occupancy [%]']) + f'duration actual: ' +\\\n",
    "     str(occupancy.loc[cutter_name]['duration actual'])\n",
    "fig = get_gantt_chart(concepts=my_objects, critical_path=cp, id_map=activities, title=t, legend=False, ylabel='vesels')"
   ]
  },
  {
   "cell_type": "code",
   "execution_count": 18,
   "id": "e274588c",
   "metadata": {},
   "outputs": [
    {
     "data": {
      "text/html": [
       "<div>\n",
       "<style scoped>\n",
       "    .dataframe tbody tr th:only-of-type {\n",
       "        vertical-align: middle;\n",
       "    }\n",
       "\n",
       "    .dataframe tbody tr th {\n",
       "        vertical-align: top;\n",
       "    }\n",
       "\n",
       "    .dataframe thead th {\n",
       "        text-align: right;\n",
       "    }\n",
       "</style>\n",
       "<table border=\"1\" class=\"dataframe\">\n",
       "  <thead>\n",
       "    <tr style=\"text-align: right;\">\n",
       "      <th></th>\n",
       "      <th># trips</th>\n",
       "      <th>start</th>\n",
       "      <th>finish</th>\n",
       "      <th>amount sum</th>\n",
       "      <th>duration actual</th>\n",
       "      <th>duration theory</th>\n",
       "      <th>cost actual</th>\n",
       "      <th>production actual</th>\n",
       "      <th>production theory</th>\n",
       "      <th>occupancy [%]</th>\n",
       "    </tr>\n",
       "    <tr>\n",
       "      <th>name</th>\n",
       "      <th></th>\n",
       "      <th></th>\n",
       "      <th></th>\n",
       "      <th></th>\n",
       "      <th></th>\n",
       "      <th></th>\n",
       "      <th></th>\n",
       "      <th></th>\n",
       "      <th></th>\n",
       "      <th></th>\n",
       "    </tr>\n",
       "  </thead>\n",
       "  <tbody>\n",
       "    <tr>\n",
       "      <th>Cutter T</th>\n",
       "      <td>6</td>\n",
       "      <td>1970-01-01 00:40:32</td>\n",
       "      <td>1970-01-01 16:25:48</td>\n",
       "      <td>100.0</td>\n",
       "      <td>56716.0</td>\n",
       "      <td>50000.0</td>\n",
       "      <td>16411.0</td>\n",
       "      <td>0.010579</td>\n",
       "      <td>0.012000</td>\n",
       "      <td>88.2</td>\n",
       "    </tr>\n",
       "    <tr>\n",
       "      <th>Carrier A</th>\n",
       "      <td>6</td>\n",
       "      <td>1970-01-01 00:00:00</td>\n",
       "      <td>1970-01-01 17:05:12</td>\n",
       "      <td>30.0</td>\n",
       "      <td>61512.0</td>\n",
       "      <td>58776.0</td>\n",
       "      <td>4272.0</td>\n",
       "      <td>0.002926</td>\n",
       "      <td>0.003062</td>\n",
       "      <td>95.6</td>\n",
       "    </tr>\n",
       "    <tr>\n",
       "      <th>Barge I</th>\n",
       "      <td>6</td>\n",
       "      <td>1970-01-01 00:00:00</td>\n",
       "      <td>1970-01-01 17:49:20</td>\n",
       "      <td>30.0</td>\n",
       "      <td>64160.0</td>\n",
       "      <td>60108.0</td>\n",
       "      <td>3713.0</td>\n",
       "      <td>0.002805</td>\n",
       "      <td>0.002995</td>\n",
       "      <td>93.7</td>\n",
       "    </tr>\n",
       "    <tr>\n",
       "      <th>Carrier C</th>\n",
       "      <td>5</td>\n",
       "      <td>1970-01-01 00:00:00</td>\n",
       "      <td>1970-01-01 15:26:17</td>\n",
       "      <td>20.0</td>\n",
       "      <td>55577.0</td>\n",
       "      <td>48310.0</td>\n",
       "      <td>3860.0</td>\n",
       "      <td>0.001799</td>\n",
       "      <td>0.002070</td>\n",
       "      <td>86.9</td>\n",
       "    </tr>\n",
       "    <tr>\n",
       "      <th>Carrier B</th>\n",
       "      <td>5</td>\n",
       "      <td>1970-01-01 00:00:00</td>\n",
       "      <td>1970-01-01 16:38:54</td>\n",
       "      <td>20.0</td>\n",
       "      <td>59934.0</td>\n",
       "      <td>53395.0</td>\n",
       "      <td>4162.0</td>\n",
       "      <td>0.001669</td>\n",
       "      <td>0.001873</td>\n",
       "      <td>89.1</td>\n",
       "    </tr>\n",
       "  </tbody>\n",
       "</table>\n",
       "</div>"
      ],
      "text/plain": [
       "           # trips               start              finish  amount sum  \\\n",
       "name                                                                     \n",
       "Cutter T         6 1970-01-01 00:40:32 1970-01-01 16:25:48       100.0   \n",
       "Carrier A        6 1970-01-01 00:00:00 1970-01-01 17:05:12        30.0   \n",
       "Barge I          6 1970-01-01 00:00:00 1970-01-01 17:49:20        30.0   \n",
       "Carrier C        5 1970-01-01 00:00:00 1970-01-01 15:26:17        20.0   \n",
       "Carrier B        5 1970-01-01 00:00:00 1970-01-01 16:38:54        20.0   \n",
       "\n",
       "           duration actual  duration theory  cost actual  production actual  \\\n",
       "name                                                                          \n",
       "Cutter T           56716.0          50000.0      16411.0           0.010579   \n",
       "Carrier A          61512.0          58776.0       4272.0           0.002926   \n",
       "Barge I            64160.0          60108.0       3713.0           0.002805   \n",
       "Carrier C          55577.0          48310.0       3860.0           0.001799   \n",
       "Carrier B          59934.0          53395.0       4162.0           0.001669   \n",
       "\n",
       "           production theory  occupancy [%]  \n",
       "name                                         \n",
       "Cutter T            0.012000           88.2  \n",
       "Carrier A           0.003062           95.6  \n",
       "Barge I             0.002995           93.7  \n",
       "Carrier C           0.002070           86.9  \n",
       "Carrier B           0.001873           89.1  "
      ]
     },
     "execution_count": 18,
     "metadata": {},
     "output_type": "execute_result"
    }
   ],
   "source": [
    "occupancy"
   ]
  },
  {
   "cell_type": "markdown",
   "id": "3e81de2b",
   "metadata": {},
   "source": [
    "# Export data  to BI"
   ]
  },
  {
   "cell_type": "code",
   "execution_count": 19,
   "id": "87cd1b2f",
   "metadata": {},
   "outputs": [
    {
     "data": {
      "text/html": [
       "<div>\n",
       "<style scoped>\n",
       "    .dataframe tbody tr th:only-of-type {\n",
       "        vertical-align: middle;\n",
       "    }\n",
       "\n",
       "    .dataframe tbody tr th {\n",
       "        vertical-align: top;\n",
       "    }\n",
       "\n",
       "    .dataframe thead th {\n",
       "        text-align: right;\n",
       "    }\n",
       "</style>\n",
       "<table border=\"1\" class=\"dataframe\">\n",
       "  <thead>\n",
       "    <tr style=\"text-align: right;\">\n",
       "      <th></th>\n",
       "      <th>siteName</th>\n",
       "      <th>siteID</th>\n",
       "      <th>siteType</th>\n",
       "    </tr>\n",
       "  </thead>\n",
       "  <tbody>\n",
       "    <tr>\n",
       "      <th>0</th>\n",
       "      <td>Trench</td>\n",
       "      <td>6ad2b35a-fdd1-42a9-9cf3-b34e62b62a3b</td>\n",
       "      <td>&lt;class '__main__.Site'&gt;</td>\n",
       "    </tr>\n",
       "    <tr>\n",
       "      <th>1</th>\n",
       "      <td>Reclamation</td>\n",
       "      <td>b17b67eb-e0d6-4961-92eb-4e7eff511c56</td>\n",
       "      <td>&lt;class '__main__.Site'&gt;</td>\n",
       "    </tr>\n",
       "  </tbody>\n",
       "</table>\n",
       "</div>"
      ],
      "text/plain": [
       "      siteName                                siteID                 siteType\n",
       "0       Trench  6ad2b35a-fdd1-42a9-9cf3-b34e62b62a3b  <class '__main__.Site'>\n",
       "1  Reclamation  b17b67eb-e0d6-4961-92eb-4e7eff511c56  <class '__main__.Site'>"
      ]
     },
     "execution_count": 19,
     "metadata": {},
     "output_type": "execute_result"
    }
   ],
   "source": [
    "export_concepts(sites, 'site', 'sites.csv')"
   ]
  },
  {
   "cell_type": "code",
   "execution_count": 20,
   "id": "5e5459b1",
   "metadata": {},
   "outputs": [
    {
     "data": {
      "text/html": [
       "<div>\n",
       "<style scoped>\n",
       "    .dataframe tbody tr th:only-of-type {\n",
       "        vertical-align: middle;\n",
       "    }\n",
       "\n",
       "    .dataframe tbody tr th {\n",
       "        vertical-align: top;\n",
       "    }\n",
       "\n",
       "    .dataframe thead th {\n",
       "        text-align: right;\n",
       "    }\n",
       "</style>\n",
       "<table border=\"1\" class=\"dataframe\">\n",
       "  <thead>\n",
       "    <tr style=\"text-align: right;\">\n",
       "      <th></th>\n",
       "      <th>vesselName</th>\n",
       "      <th>vesselID</th>\n",
       "      <th>vesselType</th>\n",
       "    </tr>\n",
       "  </thead>\n",
       "  <tbody>\n",
       "    <tr>\n",
       "      <th>0</th>\n",
       "      <td>Carrier A</td>\n",
       "      <td>76a157f4-89d4-40df-b0f5-4cc27498d2f4</td>\n",
       "      <td>&lt;class '__main__.TransportProcessingResource'&gt;</td>\n",
       "    </tr>\n",
       "    <tr>\n",
       "      <th>1</th>\n",
       "      <td>Carrier B</td>\n",
       "      <td>da4a7158-25dc-4ea5-b935-2fa216224bb1</td>\n",
       "      <td>&lt;class '__main__.TransportProcessingResource'&gt;</td>\n",
       "    </tr>\n",
       "    <tr>\n",
       "      <th>2</th>\n",
       "      <td>Carrier C</td>\n",
       "      <td>7a3c67d2-ce66-416b-bc40-edd890ea1b6a</td>\n",
       "      <td>&lt;class '__main__.TransportProcessingResource'&gt;</td>\n",
       "    </tr>\n",
       "    <tr>\n",
       "      <th>3</th>\n",
       "      <td>Barge I</td>\n",
       "      <td>201d95c4-057e-44e3-85ee-2926772cfb3a</td>\n",
       "      <td>&lt;class '__main__.TransportProcessingResource'&gt;</td>\n",
       "    </tr>\n",
       "    <tr>\n",
       "      <th>4</th>\n",
       "      <td>Cutter T</td>\n",
       "      <td>ee775b2e-39d1-4dda-9ed1-07fe48cba975</td>\n",
       "      <td>&lt;class '__main__.TransportProcessingResource'&gt;</td>\n",
       "    </tr>\n",
       "  </tbody>\n",
       "</table>\n",
       "</div>"
      ],
      "text/plain": [
       "  vesselName                              vesselID  \\\n",
       "0  Carrier A  76a157f4-89d4-40df-b0f5-4cc27498d2f4   \n",
       "1  Carrier B  da4a7158-25dc-4ea5-b935-2fa216224bb1   \n",
       "2  Carrier C  7a3c67d2-ce66-416b-bc40-edd890ea1b6a   \n",
       "3    Barge I  201d95c4-057e-44e3-85ee-2926772cfb3a   \n",
       "4   Cutter T  ee775b2e-39d1-4dda-9ed1-07fe48cba975   \n",
       "\n",
       "                                       vesselType  \n",
       "0  <class '__main__.TransportProcessingResource'>  \n",
       "1  <class '__main__.TransportProcessingResource'>  \n",
       "2  <class '__main__.TransportProcessingResource'>  \n",
       "3  <class '__main__.TransportProcessingResource'>  \n",
       "4  <class '__main__.TransportProcessingResource'>  "
      ]
     },
     "execution_count": 20,
     "metadata": {},
     "output_type": "execute_result"
    }
   ],
   "source": [
    "export_concepts(vessels, 'vessel', 'vessels.csv')"
   ]
  },
  {
   "cell_type": "code",
   "execution_count": 21,
   "id": "2baa8eb9",
   "metadata": {},
   "outputs": [],
   "source": [
    "activities_flat = export_activities(activities, 'activities.csv', [*sites.values(), *vessels.values()])\n",
    "# activities_flat"
   ]
  },
  {
   "cell_type": "code",
   "execution_count": 22,
   "id": "a3e8f617",
   "metadata": {},
   "outputs": [
    {
     "data": {
      "text/plain": [
       "{'', 'Barge I', 'Carrier A', 'Carrier B', 'Carrier C'}"
      ]
     },
     "execution_count": 22,
     "metadata": {},
     "output_type": "execute_result"
    }
   ],
   "source": [
    "set(activities_flat['MoverName'])"
   ]
  },
  {
   "cell_type": "code",
   "execution_count": 23,
   "id": "acfbb1ef",
   "metadata": {},
   "outputs": [
    {
     "data": {
      "text/plain": [
       "{'', 'Barge I', 'Carrier A', 'Carrier B', 'Carrier C', 'Cutter T'}"
      ]
     },
     "execution_count": 23,
     "metadata": {},
     "output_type": "execute_result"
    }
   ],
   "source": [
    "set(activities_flat['ProcessorName'])"
   ]
  },
  {
   "cell_type": "code",
   "execution_count": 24,
   "id": "b680fb2a",
   "metadata": {},
   "outputs": [
    {
     "data": {
      "text/plain": [
       "{'', 'Barge I', 'Carrier A', 'Carrier B', 'Carrier C', 'Trench'}"
      ]
     },
     "execution_count": 24,
     "metadata": {},
     "output_type": "execute_result"
    }
   ],
   "source": [
    "set(activities_flat['OriginName'])"
   ]
  },
  {
   "cell_type": "code",
   "execution_count": 25,
   "id": "1ce51171",
   "metadata": {},
   "outputs": [
    {
     "data": {
      "text/plain": [
       "{'', 'Barge I', 'Carrier A', 'Carrier B', 'Carrier C', 'Reclamation', 'Trench'}"
      ]
     },
     "execution_count": 25,
     "metadata": {},
     "output_type": "execute_result"
    }
   ],
   "source": [
    "set(activities_flat['DestinationName'])"
   ]
  },
  {
   "cell_type": "code",
   "execution_count": 26,
   "id": "49d35cd3",
   "metadata": {},
   "outputs": [
    {
     "data": {
      "text/plain": [
       "{'MoveActivity', 'SequentialActivity', 'ShiftAmountActivity', 'WhileActivity'}"
      ]
     },
     "execution_count": 26,
     "metadata": {},
     "output_type": "execute_result"
    }
   ],
   "source": [
    "set(activities_flat['ActivityType'])"
   ]
  },
  {
   "cell_type": "code",
   "execution_count": 27,
   "id": "70998a10",
   "metadata": {},
   "outputs": [],
   "source": [
    "# set(activities_flat['ActivityName'])"
   ]
  },
  {
   "cell_type": "markdown",
   "id": "2ec87e35",
   "metadata": {},
   "source": [
    "# Expand logged activity instances to analyse occupancy properly"
   ]
  },
  {
   "cell_type": "code",
   "execution_count": 28,
   "id": "d16c732a",
   "metadata": {},
   "outputs": [],
   "source": [
    "def export_ranges(all_act_flat, ofile = None, concept_name=None):\n",
    "    \n",
    "    if concept_name:\n",
    "        logmask = (all_act_flat['ProcessorName']==concept_name) | \\\n",
    "                  (all_act_flat['MoverName']==concept_name)  | \\\n",
    "                  (all_act_flat['OriginName']==concept_name)  | \\\n",
    "                  (all_act_flat['DestinationName']==concept_name) \n",
    "\n",
    "        all_act_flat = all_act_flat[logmask]\n",
    "    \n",
    "    li = []\n",
    "    for i, rowi in all_act_flat.iterrows():\n",
    "        log = get_ranges_dataframe(rowi['activity'])\n",
    "        log.rename(columns={'Activity':'ActivityID'}, inplace=True)\n",
    "        li.append(log)\n",
    "    ActivityRanges = pd.concat(li)\n",
    "    \n",
    "    ActivityRanges = ActivityRanges.merge(all_act_flat[['ActivityID', 'ActivityName', 'ActivityType']], on='ActivityID', how='left')\n",
    "    \n",
    "    keys  = ['trip',\n",
    "             'ActivityID','ActivityName','ActivityType',\n",
    "             'TimestampStart','TimestampStop','TimestampDt']\n",
    "    if concept_name:\n",
    "        ActivityRanges['ConceptName'] = concept_name\n",
    "        keys+=['ConceptName']\n",
    "        \n",
    "    if ofile:\n",
    "        ActivityRanges.to_csv(ofile, columns = keys, index=False)\n",
    "    \n",
    "    return ActivityRanges.sort_values(by=[\"TimestampStart\"])"
   ]
  },
  {
   "cell_type": "code",
   "execution_count": 29,
   "id": "e4b0ebc5",
   "metadata": {},
   "outputs": [],
   "source": [
    "VesselActivitiesLog = export_ranges(activities_flat, 'instances.csv')"
   ]
  },
  {
   "cell_type": "code",
   "execution_count": 30,
   "id": "8f7eaa5c",
   "metadata": {},
   "outputs": [
    {
     "data": {
      "text/html": [
       "<div>\n",
       "<style scoped>\n",
       "    .dataframe tbody tr th:only-of-type {\n",
       "        vertical-align: middle;\n",
       "    }\n",
       "\n",
       "    .dataframe tbody tr th {\n",
       "        vertical-align: top;\n",
       "    }\n",
       "\n",
       "    .dataframe thead th {\n",
       "        text-align: right;\n",
       "    }\n",
       "</style>\n",
       "<table border=\"1\" class=\"dataframe\">\n",
       "  <thead>\n",
       "    <tr style=\"text-align: right;\">\n",
       "      <th></th>\n",
       "      <th>TimestampStart</th>\n",
       "      <th>trip</th>\n",
       "      <th>TimestampStop</th>\n",
       "      <th>ActivityID</th>\n",
       "      <th>TimestampDt</th>\n",
       "      <th>ActivityName</th>\n",
       "      <th>ActivityType</th>\n",
       "      <th>ConceptName</th>\n",
       "    </tr>\n",
       "  </thead>\n",
       "  <tbody>\n",
       "    <tr>\n",
       "      <th>0</th>\n",
       "      <td>1970-01-01 00:40:32</td>\n",
       "      <td>1</td>\n",
       "      <td>1970-01-01 01:22:12</td>\n",
       "      <td>dfd86c70-d211-4c64-9e64-95bb075b2613</td>\n",
       "      <td>0 days 00:41:40</td>\n",
       "      <td>loading:Carrier A</td>\n",
       "      <td>ShiftAmountActivity</td>\n",
       "      <td>Cutter T</td>\n",
       "    </tr>\n",
       "    <tr>\n",
       "      <th>16</th>\n",
       "      <td>1970-01-01 01:22:12</td>\n",
       "      <td>1</td>\n",
       "      <td>1970-01-01 02:03:52</td>\n",
       "      <td>1af6c98e-3c61-4593-9cdc-ec3a7186dcb9</td>\n",
       "      <td>0 days 00:41:40</td>\n",
       "      <td>loading:Barge I</td>\n",
       "      <td>ShiftAmountActivity</td>\n",
       "      <td>Cutter T</td>\n",
       "    </tr>\n",
       "    <tr>\n",
       "      <th>11</th>\n",
       "      <td>1970-01-01 02:03:52</td>\n",
       "      <td>1</td>\n",
       "      <td>1970-01-01 02:37:12</td>\n",
       "      <td>8e9a40da-4df7-4797-b03a-08e7b4eac9ef</td>\n",
       "      <td>0 days 00:33:20</td>\n",
       "      <td>loading:Carrier C</td>\n",
       "      <td>ShiftAmountActivity</td>\n",
       "      <td>Cutter T</td>\n",
       "    </tr>\n",
       "    <tr>\n",
       "      <th>6</th>\n",
       "      <td>1970-01-01 02:37:12</td>\n",
       "      <td>1</td>\n",
       "      <td>1970-01-01 03:10:32</td>\n",
       "      <td>c6e38481-24b3-428b-8efc-abc1ef41164b</td>\n",
       "      <td>0 days 00:33:20</td>\n",
       "      <td>loading:Carrier B</td>\n",
       "      <td>ShiftAmountActivity</td>\n",
       "      <td>Cutter T</td>\n",
       "    </tr>\n",
       "    <tr>\n",
       "      <th>1</th>\n",
       "      <td>1970-01-01 03:23:48</td>\n",
       "      <td>2</td>\n",
       "      <td>1970-01-01 04:05:28</td>\n",
       "      <td>dfd86c70-d211-4c64-9e64-95bb075b2613</td>\n",
       "      <td>0 days 00:41:40</td>\n",
       "      <td>loading:Carrier A</td>\n",
       "      <td>ShiftAmountActivity</td>\n",
       "      <td>Cutter T</td>\n",
       "    </tr>\n",
       "    <tr>\n",
       "      <th>17</th>\n",
       "      <td>1970-01-01 04:09:10</td>\n",
       "      <td>2</td>\n",
       "      <td>1970-01-01 04:50:50</td>\n",
       "      <td>1af6c98e-3c61-4593-9cdc-ec3a7186dcb9</td>\n",
       "      <td>0 days 00:41:40</td>\n",
       "      <td>loading:Barge I</td>\n",
       "      <td>ShiftAmountActivity</td>\n",
       "      <td>Cutter T</td>\n",
       "    </tr>\n",
       "    <tr>\n",
       "      <th>12</th>\n",
       "      <td>1970-01-01 04:50:50</td>\n",
       "      <td>2</td>\n",
       "      <td>1970-01-01 05:24:10</td>\n",
       "      <td>8e9a40da-4df7-4797-b03a-08e7b4eac9ef</td>\n",
       "      <td>0 days 00:33:20</td>\n",
       "      <td>loading:Carrier C</td>\n",
       "      <td>ShiftAmountActivity</td>\n",
       "      <td>Cutter T</td>\n",
       "    </tr>\n",
       "    <tr>\n",
       "      <th>7</th>\n",
       "      <td>1970-01-01 05:35:11</td>\n",
       "      <td>2</td>\n",
       "      <td>1970-01-01 06:08:31</td>\n",
       "      <td>c6e38481-24b3-428b-8efc-abc1ef41164b</td>\n",
       "      <td>0 days 00:33:20</td>\n",
       "      <td>loading:Carrier B</td>\n",
       "      <td>ShiftAmountActivity</td>\n",
       "      <td>Cutter T</td>\n",
       "    </tr>\n",
       "    <tr>\n",
       "      <th>2</th>\n",
       "      <td>1970-01-01 06:08:31</td>\n",
       "      <td>3</td>\n",
       "      <td>1970-01-01 06:50:11</td>\n",
       "      <td>dfd86c70-d211-4c64-9e64-95bb075b2613</td>\n",
       "      <td>0 days 00:41:40</td>\n",
       "      <td>loading:Carrier A</td>\n",
       "      <td>ShiftAmountActivity</td>\n",
       "      <td>Cutter T</td>\n",
       "    </tr>\n",
       "    <tr>\n",
       "      <th>18</th>\n",
       "      <td>1970-01-01 06:56:08</td>\n",
       "      <td>3</td>\n",
       "      <td>1970-01-01 07:37:48</td>\n",
       "      <td>1af6c98e-3c61-4593-9cdc-ec3a7186dcb9</td>\n",
       "      <td>0 days 00:41:40</td>\n",
       "      <td>loading:Barge I</td>\n",
       "      <td>ShiftAmountActivity</td>\n",
       "      <td>Cutter T</td>\n",
       "    </tr>\n",
       "    <tr>\n",
       "      <th>13</th>\n",
       "      <td>1970-01-01 07:37:48</td>\n",
       "      <td>3</td>\n",
       "      <td>1970-01-01 08:11:08</td>\n",
       "      <td>8e9a40da-4df7-4797-b03a-08e7b4eac9ef</td>\n",
       "      <td>0 days 00:33:20</td>\n",
       "      <td>loading:Carrier C</td>\n",
       "      <td>ShiftAmountActivity</td>\n",
       "      <td>Cutter T</td>\n",
       "    </tr>\n",
       "    <tr>\n",
       "      <th>8</th>\n",
       "      <td>1970-01-01 08:33:10</td>\n",
       "      <td>3</td>\n",
       "      <td>1970-01-01 09:06:30</td>\n",
       "      <td>c6e38481-24b3-428b-8efc-abc1ef41164b</td>\n",
       "      <td>0 days 00:33:20</td>\n",
       "      <td>loading:Carrier B</td>\n",
       "      <td>ShiftAmountActivity</td>\n",
       "      <td>Cutter T</td>\n",
       "    </tr>\n",
       "    <tr>\n",
       "      <th>3</th>\n",
       "      <td>1970-01-01 09:06:30</td>\n",
       "      <td>4</td>\n",
       "      <td>1970-01-01 09:48:10</td>\n",
       "      <td>dfd86c70-d211-4c64-9e64-95bb075b2613</td>\n",
       "      <td>0 days 00:41:40</td>\n",
       "      <td>loading:Carrier A</td>\n",
       "      <td>ShiftAmountActivity</td>\n",
       "      <td>Cutter T</td>\n",
       "    </tr>\n",
       "    <tr>\n",
       "      <th>19</th>\n",
       "      <td>1970-01-01 09:48:10</td>\n",
       "      <td>4</td>\n",
       "      <td>1970-01-01 10:29:50</td>\n",
       "      <td>1af6c98e-3c61-4593-9cdc-ec3a7186dcb9</td>\n",
       "      <td>0 days 00:41:40</td>\n",
       "      <td>loading:Barge I</td>\n",
       "      <td>ShiftAmountActivity</td>\n",
       "      <td>Cutter T</td>\n",
       "    </tr>\n",
       "    <tr>\n",
       "      <th>14</th>\n",
       "      <td>1970-01-01 10:29:50</td>\n",
       "      <td>4</td>\n",
       "      <td>1970-01-01 11:03:10</td>\n",
       "      <td>8e9a40da-4df7-4797-b03a-08e7b4eac9ef</td>\n",
       "      <td>0 days 00:33:20</td>\n",
       "      <td>loading:Carrier C</td>\n",
       "      <td>ShiftAmountActivity</td>\n",
       "      <td>Cutter T</td>\n",
       "    </tr>\n",
       "    <tr>\n",
       "      <th>9</th>\n",
       "      <td>1970-01-01 11:31:09</td>\n",
       "      <td>4</td>\n",
       "      <td>1970-01-01 12:04:29</td>\n",
       "      <td>c6e38481-24b3-428b-8efc-abc1ef41164b</td>\n",
       "      <td>0 days 00:33:20</td>\n",
       "      <td>loading:Carrier B</td>\n",
       "      <td>ShiftAmountActivity</td>\n",
       "      <td>Cutter T</td>\n",
       "    </tr>\n",
       "    <tr>\n",
       "      <th>4</th>\n",
       "      <td>1970-01-01 12:04:29</td>\n",
       "      <td>5</td>\n",
       "      <td>1970-01-01 12:46:09</td>\n",
       "      <td>dfd86c70-d211-4c64-9e64-95bb075b2613</td>\n",
       "      <td>0 days 00:41:40</td>\n",
       "      <td>loading:Carrier A</td>\n",
       "      <td>ShiftAmountActivity</td>\n",
       "      <td>Cutter T</td>\n",
       "    </tr>\n",
       "    <tr>\n",
       "      <th>20</th>\n",
       "      <td>1970-01-01 12:46:09</td>\n",
       "      <td>5</td>\n",
       "      <td>1970-01-01 13:27:49</td>\n",
       "      <td>1af6c98e-3c61-4593-9cdc-ec3a7186dcb9</td>\n",
       "      <td>0 days 00:41:40</td>\n",
       "      <td>loading:Barge I</td>\n",
       "      <td>ShiftAmountActivity</td>\n",
       "      <td>Cutter T</td>\n",
       "    </tr>\n",
       "    <tr>\n",
       "      <th>15</th>\n",
       "      <td>1970-01-01 13:27:49</td>\n",
       "      <td>5</td>\n",
       "      <td>1970-01-01 14:01:09</td>\n",
       "      <td>8e9a40da-4df7-4797-b03a-08e7b4eac9ef</td>\n",
       "      <td>0 days 00:33:20</td>\n",
       "      <td>loading:Carrier C</td>\n",
       "      <td>ShiftAmountActivity</td>\n",
       "      <td>Cutter T</td>\n",
       "    </tr>\n",
       "    <tr>\n",
       "      <th>10</th>\n",
       "      <td>1970-01-01 14:29:08</td>\n",
       "      <td>5</td>\n",
       "      <td>1970-01-01 15:02:28</td>\n",
       "      <td>c6e38481-24b3-428b-8efc-abc1ef41164b</td>\n",
       "      <td>0 days 00:33:20</td>\n",
       "      <td>loading:Carrier B</td>\n",
       "      <td>ShiftAmountActivity</td>\n",
       "      <td>Cutter T</td>\n",
       "    </tr>\n",
       "    <tr>\n",
       "      <th>5</th>\n",
       "      <td>1970-01-01 15:02:28</td>\n",
       "      <td>6</td>\n",
       "      <td>1970-01-01 15:44:08</td>\n",
       "      <td>dfd86c70-d211-4c64-9e64-95bb075b2613</td>\n",
       "      <td>0 days 00:41:40</td>\n",
       "      <td>loading:Carrier A</td>\n",
       "      <td>ShiftAmountActivity</td>\n",
       "      <td>Cutter T</td>\n",
       "    </tr>\n",
       "    <tr>\n",
       "      <th>21</th>\n",
       "      <td>1970-01-01 15:44:08</td>\n",
       "      <td>6</td>\n",
       "      <td>1970-01-01 16:25:48</td>\n",
       "      <td>1af6c98e-3c61-4593-9cdc-ec3a7186dcb9</td>\n",
       "      <td>0 days 00:41:40</td>\n",
       "      <td>loading:Barge I</td>\n",
       "      <td>ShiftAmountActivity</td>\n",
       "      <td>Cutter T</td>\n",
       "    </tr>\n",
       "  </tbody>\n",
       "</table>\n",
       "</div>"
      ],
      "text/plain": [
       "        TimestampStart  trip       TimestampStop  \\\n",
       "0  1970-01-01 00:40:32     1 1970-01-01 01:22:12   \n",
       "16 1970-01-01 01:22:12     1 1970-01-01 02:03:52   \n",
       "11 1970-01-01 02:03:52     1 1970-01-01 02:37:12   \n",
       "6  1970-01-01 02:37:12     1 1970-01-01 03:10:32   \n",
       "1  1970-01-01 03:23:48     2 1970-01-01 04:05:28   \n",
       "17 1970-01-01 04:09:10     2 1970-01-01 04:50:50   \n",
       "12 1970-01-01 04:50:50     2 1970-01-01 05:24:10   \n",
       "7  1970-01-01 05:35:11     2 1970-01-01 06:08:31   \n",
       "2  1970-01-01 06:08:31     3 1970-01-01 06:50:11   \n",
       "18 1970-01-01 06:56:08     3 1970-01-01 07:37:48   \n",
       "13 1970-01-01 07:37:48     3 1970-01-01 08:11:08   \n",
       "8  1970-01-01 08:33:10     3 1970-01-01 09:06:30   \n",
       "3  1970-01-01 09:06:30     4 1970-01-01 09:48:10   \n",
       "19 1970-01-01 09:48:10     4 1970-01-01 10:29:50   \n",
       "14 1970-01-01 10:29:50     4 1970-01-01 11:03:10   \n",
       "9  1970-01-01 11:31:09     4 1970-01-01 12:04:29   \n",
       "4  1970-01-01 12:04:29     5 1970-01-01 12:46:09   \n",
       "20 1970-01-01 12:46:09     5 1970-01-01 13:27:49   \n",
       "15 1970-01-01 13:27:49     5 1970-01-01 14:01:09   \n",
       "10 1970-01-01 14:29:08     5 1970-01-01 15:02:28   \n",
       "5  1970-01-01 15:02:28     6 1970-01-01 15:44:08   \n",
       "21 1970-01-01 15:44:08     6 1970-01-01 16:25:48   \n",
       "\n",
       "                              ActivityID     TimestampDt       ActivityName  \\\n",
       "0   dfd86c70-d211-4c64-9e64-95bb075b2613 0 days 00:41:40  loading:Carrier A   \n",
       "16  1af6c98e-3c61-4593-9cdc-ec3a7186dcb9 0 days 00:41:40    loading:Barge I   \n",
       "11  8e9a40da-4df7-4797-b03a-08e7b4eac9ef 0 days 00:33:20  loading:Carrier C   \n",
       "6   c6e38481-24b3-428b-8efc-abc1ef41164b 0 days 00:33:20  loading:Carrier B   \n",
       "1   dfd86c70-d211-4c64-9e64-95bb075b2613 0 days 00:41:40  loading:Carrier A   \n",
       "17  1af6c98e-3c61-4593-9cdc-ec3a7186dcb9 0 days 00:41:40    loading:Barge I   \n",
       "12  8e9a40da-4df7-4797-b03a-08e7b4eac9ef 0 days 00:33:20  loading:Carrier C   \n",
       "7   c6e38481-24b3-428b-8efc-abc1ef41164b 0 days 00:33:20  loading:Carrier B   \n",
       "2   dfd86c70-d211-4c64-9e64-95bb075b2613 0 days 00:41:40  loading:Carrier A   \n",
       "18  1af6c98e-3c61-4593-9cdc-ec3a7186dcb9 0 days 00:41:40    loading:Barge I   \n",
       "13  8e9a40da-4df7-4797-b03a-08e7b4eac9ef 0 days 00:33:20  loading:Carrier C   \n",
       "8   c6e38481-24b3-428b-8efc-abc1ef41164b 0 days 00:33:20  loading:Carrier B   \n",
       "3   dfd86c70-d211-4c64-9e64-95bb075b2613 0 days 00:41:40  loading:Carrier A   \n",
       "19  1af6c98e-3c61-4593-9cdc-ec3a7186dcb9 0 days 00:41:40    loading:Barge I   \n",
       "14  8e9a40da-4df7-4797-b03a-08e7b4eac9ef 0 days 00:33:20  loading:Carrier C   \n",
       "9   c6e38481-24b3-428b-8efc-abc1ef41164b 0 days 00:33:20  loading:Carrier B   \n",
       "4   dfd86c70-d211-4c64-9e64-95bb075b2613 0 days 00:41:40  loading:Carrier A   \n",
       "20  1af6c98e-3c61-4593-9cdc-ec3a7186dcb9 0 days 00:41:40    loading:Barge I   \n",
       "15  8e9a40da-4df7-4797-b03a-08e7b4eac9ef 0 days 00:33:20  loading:Carrier C   \n",
       "10  c6e38481-24b3-428b-8efc-abc1ef41164b 0 days 00:33:20  loading:Carrier B   \n",
       "5   dfd86c70-d211-4c64-9e64-95bb075b2613 0 days 00:41:40  loading:Carrier A   \n",
       "21  1af6c98e-3c61-4593-9cdc-ec3a7186dcb9 0 days 00:41:40    loading:Barge I   \n",
       "\n",
       "           ActivityType ConceptName  \n",
       "0   ShiftAmountActivity    Cutter T  \n",
       "16  ShiftAmountActivity    Cutter T  \n",
       "11  ShiftAmountActivity    Cutter T  \n",
       "6   ShiftAmountActivity    Cutter T  \n",
       "1   ShiftAmountActivity    Cutter T  \n",
       "17  ShiftAmountActivity    Cutter T  \n",
       "12  ShiftAmountActivity    Cutter T  \n",
       "7   ShiftAmountActivity    Cutter T  \n",
       "2   ShiftAmountActivity    Cutter T  \n",
       "18  ShiftAmountActivity    Cutter T  \n",
       "13  ShiftAmountActivity    Cutter T  \n",
       "8   ShiftAmountActivity    Cutter T  \n",
       "3   ShiftAmountActivity    Cutter T  \n",
       "19  ShiftAmountActivity    Cutter T  \n",
       "14  ShiftAmountActivity    Cutter T  \n",
       "9   ShiftAmountActivity    Cutter T  \n",
       "4   ShiftAmountActivity    Cutter T  \n",
       "20  ShiftAmountActivity    Cutter T  \n",
       "15  ShiftAmountActivity    Cutter T  \n",
       "10  ShiftAmountActivity    Cutter T  \n",
       "5   ShiftAmountActivity    Cutter T  \n",
       "21  ShiftAmountActivity    Cutter T  "
      ]
     },
     "execution_count": 30,
     "metadata": {},
     "output_type": "execute_result"
    }
   ],
   "source": [
    "VesselActivitiesLog = export_ranges(activities_flat, 'instances_cutter.csv', cutter_name)\n",
    "VesselActivitiesLog"
   ]
  },
  {
   "cell_type": "code",
   "execution_count": 31,
   "id": "eeedd978",
   "metadata": {},
   "outputs": [
    {
     "data": {
      "text/html": [
       "        <script type=\"text/javascript\">\n",
       "        window.PlotlyConfig = {MathJaxConfig: 'local'};\n",
       "        if (window.MathJax && window.MathJax.Hub && window.MathJax.Hub.Config) {window.MathJax.Hub.Config({SVG: {font: \"STIX-Web\"}});}\n",
       "        if (typeof require !== 'undefined') {\n",
       "        require.undef(\"plotly\");\n",
       "        requirejs.config({\n",
       "            paths: {\n",
       "                'plotly': ['https://cdn.plot.ly/plotly-2.18.2.min']\n",
       "            }\n",
       "        });\n",
       "        require(['plotly'], function(Plotly) {\n",
       "            window._Plotly = Plotly;\n",
       "        });\n",
       "        }\n",
       "        </script>\n",
       "        "
      ]
     },
     "metadata": {},
     "output_type": "display_data"
    },
    {
     "data": {
      "application/vnd.plotly.v1+json": {
       "config": {
        "linkText": "Export to plot.ly",
        "plotlyServerURL": "https://plot.ly",
        "showLink": false
       },
       "data": [
        {
         "connectgaps": false,
         "hoverinfo": "y+name",
         "line": {
          "color": "rgb(183,94,36)",
          "width": 10
         },
         "mode": "lines",
         "name": "loading:Carrier A",
         "type": "scatter",
         "x": [
          "1970-01-01T00:40:32",
          "1970-01-01T00:40:32",
          "1970-01-01T01:22:12",
          "1970-01-01T01:22:12",
          "1970-01-01T01:22:12",
          "1970-01-01T03:23:48",
          "1970-01-01T03:23:48",
          "1970-01-01T04:05:28",
          "1970-01-01T04:05:28",
          "1970-01-01T04:05:28",
          "1970-01-01T06:08:31",
          "1970-01-01T06:08:31",
          "1970-01-01T06:50:11",
          "1970-01-01T06:50:11",
          "1970-01-01T06:50:11",
          "1970-01-01T09:06:30",
          "1970-01-01T09:06:30",
          "1970-01-01T09:48:10",
          "1970-01-01T09:48:10",
          "1970-01-01T09:48:10",
          "1970-01-01T12:04:29",
          "1970-01-01T12:04:29",
          "1970-01-01T12:46:09",
          "1970-01-01T12:46:09",
          "1970-01-01T12:46:09",
          "1970-01-01T15:02:28",
          "1970-01-01T15:02:28",
          "1970-01-01T15:44:08",
          "1970-01-01T15:44:08",
          "1970-01-01T15:44:08"
         ],
         "y": [
          "loading:Carrier A",
          "loading:Carrier A",
          "loading:Carrier A",
          "loading:Carrier A",
          null,
          "loading:Carrier A",
          "loading:Carrier A",
          "loading:Carrier A",
          "loading:Carrier A",
          null,
          "loading:Carrier A",
          "loading:Carrier A",
          "loading:Carrier A",
          "loading:Carrier A",
          null,
          "loading:Carrier A",
          "loading:Carrier A",
          "loading:Carrier A",
          "loading:Carrier A",
          null,
          "loading:Carrier A",
          "loading:Carrier A",
          "loading:Carrier A",
          "loading:Carrier A",
          null,
          "loading:Carrier A",
          "loading:Carrier A",
          "loading:Carrier A",
          "loading:Carrier A",
          null
         ]
        },
        {
         "connectgaps": false,
         "hoverinfo": "y+name",
         "line": {
          "color": "rgb(247,158,100)",
          "width": 10
         },
         "mode": "lines",
         "name": "loading:Carrier B",
         "type": "scatter",
         "x": [
          "1970-01-01T02:37:12",
          "1970-01-01T02:37:12",
          "1970-01-01T03:10:32",
          "1970-01-01T03:10:32",
          "1970-01-01T03:10:32",
          "1970-01-01T05:35:11",
          "1970-01-01T05:35:11",
          "1970-01-01T06:08:31",
          "1970-01-01T06:08:31",
          "1970-01-01T06:08:31",
          "1970-01-01T08:33:10",
          "1970-01-01T08:33:10",
          "1970-01-01T09:06:30",
          "1970-01-01T09:06:30",
          "1970-01-01T09:06:30",
          "1970-01-01T11:31:09",
          "1970-01-01T11:31:09",
          "1970-01-01T12:04:29",
          "1970-01-01T12:04:29",
          "1970-01-01T12:04:29",
          "1970-01-01T14:29:08",
          "1970-01-01T14:29:08",
          "1970-01-01T15:02:28",
          "1970-01-01T15:02:28",
          "1970-01-01T15:02:28"
         ],
         "y": [
          "loading:Carrier B",
          "loading:Carrier B",
          "loading:Carrier B",
          "loading:Carrier B",
          null,
          "loading:Carrier B",
          "loading:Carrier B",
          "loading:Carrier B",
          "loading:Carrier B",
          null,
          "loading:Carrier B",
          "loading:Carrier B",
          "loading:Carrier B",
          "loading:Carrier B",
          null,
          "loading:Carrier B",
          "loading:Carrier B",
          "loading:Carrier B",
          "loading:Carrier B",
          null,
          "loading:Carrier B",
          "loading:Carrier B",
          "loading:Carrier B",
          "loading:Carrier B",
          null
         ]
        },
        {
         "connectgaps": false,
         "hoverinfo": "y+name",
         "line": {
          "color": "rgb(55,222,164)",
          "width": 10
         },
         "mode": "lines",
         "name": "loading:Carrier C",
         "type": "scatter",
         "x": [
          "1970-01-01T02:03:52",
          "1970-01-01T02:03:52",
          "1970-01-01T02:37:12",
          "1970-01-01T02:37:12",
          "1970-01-01T02:37:12",
          "1970-01-01T04:50:50",
          "1970-01-01T04:50:50",
          "1970-01-01T05:24:10",
          "1970-01-01T05:24:10",
          "1970-01-01T05:24:10",
          "1970-01-01T07:37:48",
          "1970-01-01T07:37:48",
          "1970-01-01T08:11:08",
          "1970-01-01T08:11:08",
          "1970-01-01T08:11:08",
          "1970-01-01T10:29:50",
          "1970-01-01T10:29:50",
          "1970-01-01T11:03:10",
          "1970-01-01T11:03:10",
          "1970-01-01T11:03:10",
          "1970-01-01T13:27:49",
          "1970-01-01T13:27:49",
          "1970-01-01T14:01:09",
          "1970-01-01T14:01:09",
          "1970-01-01T14:01:09"
         ],
         "y": [
          "loading:Carrier C",
          "loading:Carrier C",
          "loading:Carrier C",
          "loading:Carrier C",
          null,
          "loading:Carrier C",
          "loading:Carrier C",
          "loading:Carrier C",
          "loading:Carrier C",
          null,
          "loading:Carrier C",
          "loading:Carrier C",
          "loading:Carrier C",
          "loading:Carrier C",
          null,
          "loading:Carrier C",
          "loading:Carrier C",
          "loading:Carrier C",
          "loading:Carrier C",
          null,
          "loading:Carrier C",
          "loading:Carrier C",
          "loading:Carrier C",
          "loading:Carrier C",
          null
         ]
        },
        {
         "connectgaps": false,
         "hoverinfo": "y+name",
         "line": {
          "color": "rgb(119,30,228)",
          "width": 10
         },
         "mode": "lines",
         "name": "loading:Barge I",
         "type": "scatter",
         "x": [
          "1970-01-01T01:22:12",
          "1970-01-01T01:22:12",
          "1970-01-01T02:03:52",
          "1970-01-01T02:03:52",
          "1970-01-01T02:03:52",
          "1970-01-01T04:09:10",
          "1970-01-01T04:09:10",
          "1970-01-01T04:50:50",
          "1970-01-01T04:50:50",
          "1970-01-01T04:50:50",
          "1970-01-01T06:56:08",
          "1970-01-01T06:56:08",
          "1970-01-01T07:37:48",
          "1970-01-01T07:37:48",
          "1970-01-01T07:37:48",
          "1970-01-01T09:48:10",
          "1970-01-01T09:48:10",
          "1970-01-01T10:29:50",
          "1970-01-01T10:29:50",
          "1970-01-01T10:29:50",
          "1970-01-01T12:46:09",
          "1970-01-01T12:46:09",
          "1970-01-01T13:27:49",
          "1970-01-01T13:27:49",
          "1970-01-01T13:27:49",
          "1970-01-01T15:44:08",
          "1970-01-01T15:44:08",
          "1970-01-01T16:25:48",
          "1970-01-01T16:25:48",
          "1970-01-01T16:25:48"
         ],
         "y": [
          "loading:Barge I",
          "loading:Barge I",
          "loading:Barge I",
          "loading:Barge I",
          null,
          "loading:Barge I",
          "loading:Barge I",
          "loading:Barge I",
          "loading:Barge I",
          null,
          "loading:Barge I",
          "loading:Barge I",
          "loading:Barge I",
          "loading:Barge I",
          null,
          "loading:Barge I",
          "loading:Barge I",
          "loading:Barge I",
          "loading:Barge I",
          null,
          "loading:Barge I",
          "loading:Barge I",
          "loading:Barge I",
          "loading:Barge I",
          null,
          "loading:Barge I",
          "loading:Barge I",
          "loading:Barge I",
          "loading:Barge I",
          null
         ]
        }
       ],
       "layout": {
        "hovermode": "closest",
        "legend": {
         "orientation": "h",
         "x": 0,
         "y": -0.2
        },
        "template": {
         "data": {
          "bar": [
           {
            "error_x": {
             "color": "#2a3f5f"
            },
            "error_y": {
             "color": "#2a3f5f"
            },
            "marker": {
             "line": {
              "color": "#E5ECF6",
              "width": 0.5
             },
             "pattern": {
              "fillmode": "overlay",
              "size": 10,
              "solidity": 0.2
             }
            },
            "type": "bar"
           }
          ],
          "barpolar": [
           {
            "marker": {
             "line": {
              "color": "#E5ECF6",
              "width": 0.5
             },
             "pattern": {
              "fillmode": "overlay",
              "size": 10,
              "solidity": 0.2
             }
            },
            "type": "barpolar"
           }
          ],
          "carpet": [
           {
            "aaxis": {
             "endlinecolor": "#2a3f5f",
             "gridcolor": "white",
             "linecolor": "white",
             "minorgridcolor": "white",
             "startlinecolor": "#2a3f5f"
            },
            "baxis": {
             "endlinecolor": "#2a3f5f",
             "gridcolor": "white",
             "linecolor": "white",
             "minorgridcolor": "white",
             "startlinecolor": "#2a3f5f"
            },
            "type": "carpet"
           }
          ],
          "choropleth": [
           {
            "colorbar": {
             "outlinewidth": 0,
             "ticks": ""
            },
            "type": "choropleth"
           }
          ],
          "contour": [
           {
            "colorbar": {
             "outlinewidth": 0,
             "ticks": ""
            },
            "colorscale": [
             [
              0,
              "#0d0887"
             ],
             [
              0.1111111111111111,
              "#46039f"
             ],
             [
              0.2222222222222222,
              "#7201a8"
             ],
             [
              0.3333333333333333,
              "#9c179e"
             ],
             [
              0.4444444444444444,
              "#bd3786"
             ],
             [
              0.5555555555555556,
              "#d8576b"
             ],
             [
              0.6666666666666666,
              "#ed7953"
             ],
             [
              0.7777777777777778,
              "#fb9f3a"
             ],
             [
              0.8888888888888888,
              "#fdca26"
             ],
             [
              1,
              "#f0f921"
             ]
            ],
            "type": "contour"
           }
          ],
          "contourcarpet": [
           {
            "colorbar": {
             "outlinewidth": 0,
             "ticks": ""
            },
            "type": "contourcarpet"
           }
          ],
          "heatmap": [
           {
            "colorbar": {
             "outlinewidth": 0,
             "ticks": ""
            },
            "colorscale": [
             [
              0,
              "#0d0887"
             ],
             [
              0.1111111111111111,
              "#46039f"
             ],
             [
              0.2222222222222222,
              "#7201a8"
             ],
             [
              0.3333333333333333,
              "#9c179e"
             ],
             [
              0.4444444444444444,
              "#bd3786"
             ],
             [
              0.5555555555555556,
              "#d8576b"
             ],
             [
              0.6666666666666666,
              "#ed7953"
             ],
             [
              0.7777777777777778,
              "#fb9f3a"
             ],
             [
              0.8888888888888888,
              "#fdca26"
             ],
             [
              1,
              "#f0f921"
             ]
            ],
            "type": "heatmap"
           }
          ],
          "heatmapgl": [
           {
            "colorbar": {
             "outlinewidth": 0,
             "ticks": ""
            },
            "colorscale": [
             [
              0,
              "#0d0887"
             ],
             [
              0.1111111111111111,
              "#46039f"
             ],
             [
              0.2222222222222222,
              "#7201a8"
             ],
             [
              0.3333333333333333,
              "#9c179e"
             ],
             [
              0.4444444444444444,
              "#bd3786"
             ],
             [
              0.5555555555555556,
              "#d8576b"
             ],
             [
              0.6666666666666666,
              "#ed7953"
             ],
             [
              0.7777777777777778,
              "#fb9f3a"
             ],
             [
              0.8888888888888888,
              "#fdca26"
             ],
             [
              1,
              "#f0f921"
             ]
            ],
            "type": "heatmapgl"
           }
          ],
          "histogram": [
           {
            "marker": {
             "pattern": {
              "fillmode": "overlay",
              "size": 10,
              "solidity": 0.2
             }
            },
            "type": "histogram"
           }
          ],
          "histogram2d": [
           {
            "colorbar": {
             "outlinewidth": 0,
             "ticks": ""
            },
            "colorscale": [
             [
              0,
              "#0d0887"
             ],
             [
              0.1111111111111111,
              "#46039f"
             ],
             [
              0.2222222222222222,
              "#7201a8"
             ],
             [
              0.3333333333333333,
              "#9c179e"
             ],
             [
              0.4444444444444444,
              "#bd3786"
             ],
             [
              0.5555555555555556,
              "#d8576b"
             ],
             [
              0.6666666666666666,
              "#ed7953"
             ],
             [
              0.7777777777777778,
              "#fb9f3a"
             ],
             [
              0.8888888888888888,
              "#fdca26"
             ],
             [
              1,
              "#f0f921"
             ]
            ],
            "type": "histogram2d"
           }
          ],
          "histogram2dcontour": [
           {
            "colorbar": {
             "outlinewidth": 0,
             "ticks": ""
            },
            "colorscale": [
             [
              0,
              "#0d0887"
             ],
             [
              0.1111111111111111,
              "#46039f"
             ],
             [
              0.2222222222222222,
              "#7201a8"
             ],
             [
              0.3333333333333333,
              "#9c179e"
             ],
             [
              0.4444444444444444,
              "#bd3786"
             ],
             [
              0.5555555555555556,
              "#d8576b"
             ],
             [
              0.6666666666666666,
              "#ed7953"
             ],
             [
              0.7777777777777778,
              "#fb9f3a"
             ],
             [
              0.8888888888888888,
              "#fdca26"
             ],
             [
              1,
              "#f0f921"
             ]
            ],
            "type": "histogram2dcontour"
           }
          ],
          "mesh3d": [
           {
            "colorbar": {
             "outlinewidth": 0,
             "ticks": ""
            },
            "type": "mesh3d"
           }
          ],
          "parcoords": [
           {
            "line": {
             "colorbar": {
              "outlinewidth": 0,
              "ticks": ""
             }
            },
            "type": "parcoords"
           }
          ],
          "pie": [
           {
            "automargin": true,
            "type": "pie"
           }
          ],
          "scatter": [
           {
            "fillpattern": {
             "fillmode": "overlay",
             "size": 10,
             "solidity": 0.2
            },
            "type": "scatter"
           }
          ],
          "scatter3d": [
           {
            "line": {
             "colorbar": {
              "outlinewidth": 0,
              "ticks": ""
             }
            },
            "marker": {
             "colorbar": {
              "outlinewidth": 0,
              "ticks": ""
             }
            },
            "type": "scatter3d"
           }
          ],
          "scattercarpet": [
           {
            "marker": {
             "colorbar": {
              "outlinewidth": 0,
              "ticks": ""
             }
            },
            "type": "scattercarpet"
           }
          ],
          "scattergeo": [
           {
            "marker": {
             "colorbar": {
              "outlinewidth": 0,
              "ticks": ""
             }
            },
            "type": "scattergeo"
           }
          ],
          "scattergl": [
           {
            "marker": {
             "colorbar": {
              "outlinewidth": 0,
              "ticks": ""
             }
            },
            "type": "scattergl"
           }
          ],
          "scattermapbox": [
           {
            "marker": {
             "colorbar": {
              "outlinewidth": 0,
              "ticks": ""
             }
            },
            "type": "scattermapbox"
           }
          ],
          "scatterpolar": [
           {
            "marker": {
             "colorbar": {
              "outlinewidth": 0,
              "ticks": ""
             }
            },
            "type": "scatterpolar"
           }
          ],
          "scatterpolargl": [
           {
            "marker": {
             "colorbar": {
              "outlinewidth": 0,
              "ticks": ""
             }
            },
            "type": "scatterpolargl"
           }
          ],
          "scatterternary": [
           {
            "marker": {
             "colorbar": {
              "outlinewidth": 0,
              "ticks": ""
             }
            },
            "type": "scatterternary"
           }
          ],
          "surface": [
           {
            "colorbar": {
             "outlinewidth": 0,
             "ticks": ""
            },
            "colorscale": [
             [
              0,
              "#0d0887"
             ],
             [
              0.1111111111111111,
              "#46039f"
             ],
             [
              0.2222222222222222,
              "#7201a8"
             ],
             [
              0.3333333333333333,
              "#9c179e"
             ],
             [
              0.4444444444444444,
              "#bd3786"
             ],
             [
              0.5555555555555556,
              "#d8576b"
             ],
             [
              0.6666666666666666,
              "#ed7953"
             ],
             [
              0.7777777777777778,
              "#fb9f3a"
             ],
             [
              0.8888888888888888,
              "#fdca26"
             ],
             [
              1,
              "#f0f921"
             ]
            ],
            "type": "surface"
           }
          ],
          "table": [
           {
            "cells": {
             "fill": {
              "color": "#EBF0F8"
             },
             "line": {
              "color": "white"
             }
            },
            "header": {
             "fill": {
              "color": "#C8D4E3"
             },
             "line": {
              "color": "white"
             }
            },
            "type": "table"
           }
          ]
         },
         "layout": {
          "annotationdefaults": {
           "arrowcolor": "#2a3f5f",
           "arrowhead": 0,
           "arrowwidth": 1
          },
          "autotypenumbers": "strict",
          "coloraxis": {
           "colorbar": {
            "outlinewidth": 0,
            "ticks": ""
           }
          },
          "colorscale": {
           "diverging": [
            [
             0,
             "#8e0152"
            ],
            [
             0.1,
             "#c51b7d"
            ],
            [
             0.2,
             "#de77ae"
            ],
            [
             0.3,
             "#f1b6da"
            ],
            [
             0.4,
             "#fde0ef"
            ],
            [
             0.5,
             "#f7f7f7"
            ],
            [
             0.6,
             "#e6f5d0"
            ],
            [
             0.7,
             "#b8e186"
            ],
            [
             0.8,
             "#7fbc41"
            ],
            [
             0.9,
             "#4d9221"
            ],
            [
             1,
             "#276419"
            ]
           ],
           "sequential": [
            [
             0,
             "#0d0887"
            ],
            [
             0.1111111111111111,
             "#46039f"
            ],
            [
             0.2222222222222222,
             "#7201a8"
            ],
            [
             0.3333333333333333,
             "#9c179e"
            ],
            [
             0.4444444444444444,
             "#bd3786"
            ],
            [
             0.5555555555555556,
             "#d8576b"
            ],
            [
             0.6666666666666666,
             "#ed7953"
            ],
            [
             0.7777777777777778,
             "#fb9f3a"
            ],
            [
             0.8888888888888888,
             "#fdca26"
            ],
            [
             1,
             "#f0f921"
            ]
           ],
           "sequentialminus": [
            [
             0,
             "#0d0887"
            ],
            [
             0.1111111111111111,
             "#46039f"
            ],
            [
             0.2222222222222222,
             "#7201a8"
            ],
            [
             0.3333333333333333,
             "#9c179e"
            ],
            [
             0.4444444444444444,
             "#bd3786"
            ],
            [
             0.5555555555555556,
             "#d8576b"
            ],
            [
             0.6666666666666666,
             "#ed7953"
            ],
            [
             0.7777777777777778,
             "#fb9f3a"
            ],
            [
             0.8888888888888888,
             "#fdca26"
            ],
            [
             1,
             "#f0f921"
            ]
           ]
          },
          "colorway": [
           "#636efa",
           "#EF553B",
           "#00cc96",
           "#ab63fa",
           "#FFA15A",
           "#19d3f3",
           "#FF6692",
           "#B6E880",
           "#FF97FF",
           "#FECB52"
          ],
          "font": {
           "color": "#2a3f5f"
          },
          "geo": {
           "bgcolor": "white",
           "lakecolor": "white",
           "landcolor": "#E5ECF6",
           "showlakes": true,
           "showland": true,
           "subunitcolor": "white"
          },
          "hoverlabel": {
           "align": "left"
          },
          "hovermode": "closest",
          "mapbox": {
           "style": "light"
          },
          "paper_bgcolor": "white",
          "plot_bgcolor": "#E5ECF6",
          "polar": {
           "angularaxis": {
            "gridcolor": "white",
            "linecolor": "white",
            "ticks": ""
           },
           "bgcolor": "#E5ECF6",
           "radialaxis": {
            "gridcolor": "white",
            "linecolor": "white",
            "ticks": ""
           }
          },
          "scene": {
           "xaxis": {
            "backgroundcolor": "#E5ECF6",
            "gridcolor": "white",
            "gridwidth": 2,
            "linecolor": "white",
            "showbackground": true,
            "ticks": "",
            "zerolinecolor": "white"
           },
           "yaxis": {
            "backgroundcolor": "#E5ECF6",
            "gridcolor": "white",
            "gridwidth": 2,
            "linecolor": "white",
            "showbackground": true,
            "ticks": "",
            "zerolinecolor": "white"
           },
           "zaxis": {
            "backgroundcolor": "#E5ECF6",
            "gridcolor": "white",
            "gridwidth": 2,
            "linecolor": "white",
            "showbackground": true,
            "ticks": "",
            "zerolinecolor": "white"
           }
          },
          "shapedefaults": {
           "line": {
            "color": "#2a3f5f"
           }
          },
          "ternary": {
           "aaxis": {
            "gridcolor": "white",
            "linecolor": "white",
            "ticks": ""
           },
           "baxis": {
            "gridcolor": "white",
            "linecolor": "white",
            "ticks": ""
           },
           "bgcolor": "#E5ECF6",
           "caxis": {
            "gridcolor": "white",
            "linecolor": "white",
            "ticks": ""
           }
          },
          "title": {
           "x": 0.05
          },
          "xaxis": {
           "automargin": true,
           "gridcolor": "white",
           "linecolor": "white",
           "ticks": "",
           "title": {
            "standoff": 15
           },
           "zerolinecolor": "white",
           "zerolinewidth": 2
          },
          "yaxis": {
           "automargin": true,
           "gridcolor": "white",
           "linecolor": "white",
           "ticks": "",
           "title": {
            "standoff": 15
           },
           "zerolinecolor": "white",
           "zerolinewidth": 2
          }
         }
        },
        "title": {
         "text": "GANTT Chart"
        },
        "xaxis": {
         "range": [
          "1970-01-01T00:40:32",
          "1970-01-01T16:25:48"
         ],
         "title": {
          "font": {
           "color": "#7f7f7f",
           "family": "Courier New, monospace",
           "size": 18
          },
          "text": "Time"
         }
        },
        "yaxis": {
         "title": {
          "font": {
           "color": "#7f7f7f",
           "family": "Courier New, monospace",
           "size": 18
          },
          "text": "Activities"
         }
        }
       }
      },
      "text/html": [
       "<div>                            <div id=\"3da039be-883a-4b2c-ba55-98cdf12a3506\" class=\"plotly-graph-div\" style=\"height:525px; width:100%;\"></div>            <script type=\"text/javascript\">                require([\"plotly\"], function(Plotly) {                    window.PLOTLYENV=window.PLOTLYENV || {};                                    if (document.getElementById(\"3da039be-883a-4b2c-ba55-98cdf12a3506\")) {                    Plotly.newPlot(                        \"3da039be-883a-4b2c-ba55-98cdf12a3506\",                        [{\"connectgaps\":false,\"hoverinfo\":\"y+name\",\"line\":{\"color\":\"rgb(183,94,36)\",\"width\":10},\"mode\":\"lines\",\"name\":\"loading:Carrier A\",\"x\":[\"1970-01-01T00:40:32\",\"1970-01-01T00:40:32\",\"1970-01-01T01:22:12\",\"1970-01-01T01:22:12\",\"1970-01-01T01:22:12\",\"1970-01-01T03:23:48\",\"1970-01-01T03:23:48\",\"1970-01-01T04:05:28\",\"1970-01-01T04:05:28\",\"1970-01-01T04:05:28\",\"1970-01-01T06:08:31\",\"1970-01-01T06:08:31\",\"1970-01-01T06:50:11\",\"1970-01-01T06:50:11\",\"1970-01-01T06:50:11\",\"1970-01-01T09:06:30\",\"1970-01-01T09:06:30\",\"1970-01-01T09:48:10\",\"1970-01-01T09:48:10\",\"1970-01-01T09:48:10\",\"1970-01-01T12:04:29\",\"1970-01-01T12:04:29\",\"1970-01-01T12:46:09\",\"1970-01-01T12:46:09\",\"1970-01-01T12:46:09\",\"1970-01-01T15:02:28\",\"1970-01-01T15:02:28\",\"1970-01-01T15:44:08\",\"1970-01-01T15:44:08\",\"1970-01-01T15:44:08\"],\"y\":[\"loading:Carrier A\",\"loading:Carrier A\",\"loading:Carrier A\",\"loading:Carrier A\",null,\"loading:Carrier A\",\"loading:Carrier A\",\"loading:Carrier A\",\"loading:Carrier A\",null,\"loading:Carrier A\",\"loading:Carrier A\",\"loading:Carrier A\",\"loading:Carrier A\",null,\"loading:Carrier A\",\"loading:Carrier A\",\"loading:Carrier A\",\"loading:Carrier A\",null,\"loading:Carrier A\",\"loading:Carrier A\",\"loading:Carrier A\",\"loading:Carrier A\",null,\"loading:Carrier A\",\"loading:Carrier A\",\"loading:Carrier A\",\"loading:Carrier A\",null],\"type\":\"scatter\"},{\"connectgaps\":false,\"hoverinfo\":\"y+name\",\"line\":{\"color\":\"rgb(247,158,100)\",\"width\":10},\"mode\":\"lines\",\"name\":\"loading:Carrier B\",\"x\":[\"1970-01-01T02:37:12\",\"1970-01-01T02:37:12\",\"1970-01-01T03:10:32\",\"1970-01-01T03:10:32\",\"1970-01-01T03:10:32\",\"1970-01-01T05:35:11\",\"1970-01-01T05:35:11\",\"1970-01-01T06:08:31\",\"1970-01-01T06:08:31\",\"1970-01-01T06:08:31\",\"1970-01-01T08:33:10\",\"1970-01-01T08:33:10\",\"1970-01-01T09:06:30\",\"1970-01-01T09:06:30\",\"1970-01-01T09:06:30\",\"1970-01-01T11:31:09\",\"1970-01-01T11:31:09\",\"1970-01-01T12:04:29\",\"1970-01-01T12:04:29\",\"1970-01-01T12:04:29\",\"1970-01-01T14:29:08\",\"1970-01-01T14:29:08\",\"1970-01-01T15:02:28\",\"1970-01-01T15:02:28\",\"1970-01-01T15:02:28\"],\"y\":[\"loading:Carrier B\",\"loading:Carrier B\",\"loading:Carrier B\",\"loading:Carrier B\",null,\"loading:Carrier B\",\"loading:Carrier B\",\"loading:Carrier B\",\"loading:Carrier B\",null,\"loading:Carrier B\",\"loading:Carrier B\",\"loading:Carrier B\",\"loading:Carrier B\",null,\"loading:Carrier B\",\"loading:Carrier B\",\"loading:Carrier B\",\"loading:Carrier B\",null,\"loading:Carrier B\",\"loading:Carrier B\",\"loading:Carrier B\",\"loading:Carrier B\",null],\"type\":\"scatter\"},{\"connectgaps\":false,\"hoverinfo\":\"y+name\",\"line\":{\"color\":\"rgb(55,222,164)\",\"width\":10},\"mode\":\"lines\",\"name\":\"loading:Carrier C\",\"x\":[\"1970-01-01T02:03:52\",\"1970-01-01T02:03:52\",\"1970-01-01T02:37:12\",\"1970-01-01T02:37:12\",\"1970-01-01T02:37:12\",\"1970-01-01T04:50:50\",\"1970-01-01T04:50:50\",\"1970-01-01T05:24:10\",\"1970-01-01T05:24:10\",\"1970-01-01T05:24:10\",\"1970-01-01T07:37:48\",\"1970-01-01T07:37:48\",\"1970-01-01T08:11:08\",\"1970-01-01T08:11:08\",\"1970-01-01T08:11:08\",\"1970-01-01T10:29:50\",\"1970-01-01T10:29:50\",\"1970-01-01T11:03:10\",\"1970-01-01T11:03:10\",\"1970-01-01T11:03:10\",\"1970-01-01T13:27:49\",\"1970-01-01T13:27:49\",\"1970-01-01T14:01:09\",\"1970-01-01T14:01:09\",\"1970-01-01T14:01:09\"],\"y\":[\"loading:Carrier C\",\"loading:Carrier C\",\"loading:Carrier C\",\"loading:Carrier C\",null,\"loading:Carrier C\",\"loading:Carrier C\",\"loading:Carrier C\",\"loading:Carrier C\",null,\"loading:Carrier C\",\"loading:Carrier C\",\"loading:Carrier C\",\"loading:Carrier C\",null,\"loading:Carrier C\",\"loading:Carrier C\",\"loading:Carrier C\",\"loading:Carrier C\",null,\"loading:Carrier C\",\"loading:Carrier C\",\"loading:Carrier C\",\"loading:Carrier C\",null],\"type\":\"scatter\"},{\"connectgaps\":false,\"hoverinfo\":\"y+name\",\"line\":{\"color\":\"rgb(119,30,228)\",\"width\":10},\"mode\":\"lines\",\"name\":\"loading:Barge I\",\"x\":[\"1970-01-01T01:22:12\",\"1970-01-01T01:22:12\",\"1970-01-01T02:03:52\",\"1970-01-01T02:03:52\",\"1970-01-01T02:03:52\",\"1970-01-01T04:09:10\",\"1970-01-01T04:09:10\",\"1970-01-01T04:50:50\",\"1970-01-01T04:50:50\",\"1970-01-01T04:50:50\",\"1970-01-01T06:56:08\",\"1970-01-01T06:56:08\",\"1970-01-01T07:37:48\",\"1970-01-01T07:37:48\",\"1970-01-01T07:37:48\",\"1970-01-01T09:48:10\",\"1970-01-01T09:48:10\",\"1970-01-01T10:29:50\",\"1970-01-01T10:29:50\",\"1970-01-01T10:29:50\",\"1970-01-01T12:46:09\",\"1970-01-01T12:46:09\",\"1970-01-01T13:27:49\",\"1970-01-01T13:27:49\",\"1970-01-01T13:27:49\",\"1970-01-01T15:44:08\",\"1970-01-01T15:44:08\",\"1970-01-01T16:25:48\",\"1970-01-01T16:25:48\",\"1970-01-01T16:25:48\"],\"y\":[\"loading:Barge I\",\"loading:Barge I\",\"loading:Barge I\",\"loading:Barge I\",null,\"loading:Barge I\",\"loading:Barge I\",\"loading:Barge I\",\"loading:Barge I\",null,\"loading:Barge I\",\"loading:Barge I\",\"loading:Barge I\",\"loading:Barge I\",null,\"loading:Barge I\",\"loading:Barge I\",\"loading:Barge I\",\"loading:Barge I\",null,\"loading:Barge I\",\"loading:Barge I\",\"loading:Barge I\",\"loading:Barge I\",null,\"loading:Barge I\",\"loading:Barge I\",\"loading:Barge I\",\"loading:Barge I\",null],\"type\":\"scatter\"}],                        {\"hovermode\":\"closest\",\"legend\":{\"orientation\":\"h\",\"x\":0,\"y\":-0.2},\"template\":{\"data\":{\"barpolar\":[{\"marker\":{\"line\":{\"color\":\"#E5ECF6\",\"width\":0.5},\"pattern\":{\"fillmode\":\"overlay\",\"size\":10,\"solidity\":0.2}},\"type\":\"barpolar\"}],\"bar\":[{\"error_x\":{\"color\":\"#2a3f5f\"},\"error_y\":{\"color\":\"#2a3f5f\"},\"marker\":{\"line\":{\"color\":\"#E5ECF6\",\"width\":0.5},\"pattern\":{\"fillmode\":\"overlay\",\"size\":10,\"solidity\":0.2}},\"type\":\"bar\"}],\"carpet\":[{\"aaxis\":{\"endlinecolor\":\"#2a3f5f\",\"gridcolor\":\"white\",\"linecolor\":\"white\",\"minorgridcolor\":\"white\",\"startlinecolor\":\"#2a3f5f\"},\"baxis\":{\"endlinecolor\":\"#2a3f5f\",\"gridcolor\":\"white\",\"linecolor\":\"white\",\"minorgridcolor\":\"white\",\"startlinecolor\":\"#2a3f5f\"},\"type\":\"carpet\"}],\"choropleth\":[{\"colorbar\":{\"outlinewidth\":0,\"ticks\":\"\"},\"type\":\"choropleth\"}],\"contourcarpet\":[{\"colorbar\":{\"outlinewidth\":0,\"ticks\":\"\"},\"type\":\"contourcarpet\"}],\"contour\":[{\"colorbar\":{\"outlinewidth\":0,\"ticks\":\"\"},\"colorscale\":[[0.0,\"#0d0887\"],[0.1111111111111111,\"#46039f\"],[0.2222222222222222,\"#7201a8\"],[0.3333333333333333,\"#9c179e\"],[0.4444444444444444,\"#bd3786\"],[0.5555555555555556,\"#d8576b\"],[0.6666666666666666,\"#ed7953\"],[0.7777777777777778,\"#fb9f3a\"],[0.8888888888888888,\"#fdca26\"],[1.0,\"#f0f921\"]],\"type\":\"contour\"}],\"heatmapgl\":[{\"colorbar\":{\"outlinewidth\":0,\"ticks\":\"\"},\"colorscale\":[[0.0,\"#0d0887\"],[0.1111111111111111,\"#46039f\"],[0.2222222222222222,\"#7201a8\"],[0.3333333333333333,\"#9c179e\"],[0.4444444444444444,\"#bd3786\"],[0.5555555555555556,\"#d8576b\"],[0.6666666666666666,\"#ed7953\"],[0.7777777777777778,\"#fb9f3a\"],[0.8888888888888888,\"#fdca26\"],[1.0,\"#f0f921\"]],\"type\":\"heatmapgl\"}],\"heatmap\":[{\"colorbar\":{\"outlinewidth\":0,\"ticks\":\"\"},\"colorscale\":[[0.0,\"#0d0887\"],[0.1111111111111111,\"#46039f\"],[0.2222222222222222,\"#7201a8\"],[0.3333333333333333,\"#9c179e\"],[0.4444444444444444,\"#bd3786\"],[0.5555555555555556,\"#d8576b\"],[0.6666666666666666,\"#ed7953\"],[0.7777777777777778,\"#fb9f3a\"],[0.8888888888888888,\"#fdca26\"],[1.0,\"#f0f921\"]],\"type\":\"heatmap\"}],\"histogram2dcontour\":[{\"colorbar\":{\"outlinewidth\":0,\"ticks\":\"\"},\"colorscale\":[[0.0,\"#0d0887\"],[0.1111111111111111,\"#46039f\"],[0.2222222222222222,\"#7201a8\"],[0.3333333333333333,\"#9c179e\"],[0.4444444444444444,\"#bd3786\"],[0.5555555555555556,\"#d8576b\"],[0.6666666666666666,\"#ed7953\"],[0.7777777777777778,\"#fb9f3a\"],[0.8888888888888888,\"#fdca26\"],[1.0,\"#f0f921\"]],\"type\":\"histogram2dcontour\"}],\"histogram2d\":[{\"colorbar\":{\"outlinewidth\":0,\"ticks\":\"\"},\"colorscale\":[[0.0,\"#0d0887\"],[0.1111111111111111,\"#46039f\"],[0.2222222222222222,\"#7201a8\"],[0.3333333333333333,\"#9c179e\"],[0.4444444444444444,\"#bd3786\"],[0.5555555555555556,\"#d8576b\"],[0.6666666666666666,\"#ed7953\"],[0.7777777777777778,\"#fb9f3a\"],[0.8888888888888888,\"#fdca26\"],[1.0,\"#f0f921\"]],\"type\":\"histogram2d\"}],\"histogram\":[{\"marker\":{\"pattern\":{\"fillmode\":\"overlay\",\"size\":10,\"solidity\":0.2}},\"type\":\"histogram\"}],\"mesh3d\":[{\"colorbar\":{\"outlinewidth\":0,\"ticks\":\"\"},\"type\":\"mesh3d\"}],\"parcoords\":[{\"line\":{\"colorbar\":{\"outlinewidth\":0,\"ticks\":\"\"}},\"type\":\"parcoords\"}],\"pie\":[{\"automargin\":true,\"type\":\"pie\"}],\"scatter3d\":[{\"line\":{\"colorbar\":{\"outlinewidth\":0,\"ticks\":\"\"}},\"marker\":{\"colorbar\":{\"outlinewidth\":0,\"ticks\":\"\"}},\"type\":\"scatter3d\"}],\"scattercarpet\":[{\"marker\":{\"colorbar\":{\"outlinewidth\":0,\"ticks\":\"\"}},\"type\":\"scattercarpet\"}],\"scattergeo\":[{\"marker\":{\"colorbar\":{\"outlinewidth\":0,\"ticks\":\"\"}},\"type\":\"scattergeo\"}],\"scattergl\":[{\"marker\":{\"colorbar\":{\"outlinewidth\":0,\"ticks\":\"\"}},\"type\":\"scattergl\"}],\"scattermapbox\":[{\"marker\":{\"colorbar\":{\"outlinewidth\":0,\"ticks\":\"\"}},\"type\":\"scattermapbox\"}],\"scatterpolargl\":[{\"marker\":{\"colorbar\":{\"outlinewidth\":0,\"ticks\":\"\"}},\"type\":\"scatterpolargl\"}],\"scatterpolar\":[{\"marker\":{\"colorbar\":{\"outlinewidth\":0,\"ticks\":\"\"}},\"type\":\"scatterpolar\"}],\"scatter\":[{\"fillpattern\":{\"fillmode\":\"overlay\",\"size\":10,\"solidity\":0.2},\"type\":\"scatter\"}],\"scatterternary\":[{\"marker\":{\"colorbar\":{\"outlinewidth\":0,\"ticks\":\"\"}},\"type\":\"scatterternary\"}],\"surface\":[{\"colorbar\":{\"outlinewidth\":0,\"ticks\":\"\"},\"colorscale\":[[0.0,\"#0d0887\"],[0.1111111111111111,\"#46039f\"],[0.2222222222222222,\"#7201a8\"],[0.3333333333333333,\"#9c179e\"],[0.4444444444444444,\"#bd3786\"],[0.5555555555555556,\"#d8576b\"],[0.6666666666666666,\"#ed7953\"],[0.7777777777777778,\"#fb9f3a\"],[0.8888888888888888,\"#fdca26\"],[1.0,\"#f0f921\"]],\"type\":\"surface\"}],\"table\":[{\"cells\":{\"fill\":{\"color\":\"#EBF0F8\"},\"line\":{\"color\":\"white\"}},\"header\":{\"fill\":{\"color\":\"#C8D4E3\"},\"line\":{\"color\":\"white\"}},\"type\":\"table\"}]},\"layout\":{\"annotationdefaults\":{\"arrowcolor\":\"#2a3f5f\",\"arrowhead\":0,\"arrowwidth\":1},\"autotypenumbers\":\"strict\",\"coloraxis\":{\"colorbar\":{\"outlinewidth\":0,\"ticks\":\"\"}},\"colorscale\":{\"diverging\":[[0,\"#8e0152\"],[0.1,\"#c51b7d\"],[0.2,\"#de77ae\"],[0.3,\"#f1b6da\"],[0.4,\"#fde0ef\"],[0.5,\"#f7f7f7\"],[0.6,\"#e6f5d0\"],[0.7,\"#b8e186\"],[0.8,\"#7fbc41\"],[0.9,\"#4d9221\"],[1,\"#276419\"]],\"sequential\":[[0.0,\"#0d0887\"],[0.1111111111111111,\"#46039f\"],[0.2222222222222222,\"#7201a8\"],[0.3333333333333333,\"#9c179e\"],[0.4444444444444444,\"#bd3786\"],[0.5555555555555556,\"#d8576b\"],[0.6666666666666666,\"#ed7953\"],[0.7777777777777778,\"#fb9f3a\"],[0.8888888888888888,\"#fdca26\"],[1.0,\"#f0f921\"]],\"sequentialminus\":[[0.0,\"#0d0887\"],[0.1111111111111111,\"#46039f\"],[0.2222222222222222,\"#7201a8\"],[0.3333333333333333,\"#9c179e\"],[0.4444444444444444,\"#bd3786\"],[0.5555555555555556,\"#d8576b\"],[0.6666666666666666,\"#ed7953\"],[0.7777777777777778,\"#fb9f3a\"],[0.8888888888888888,\"#fdca26\"],[1.0,\"#f0f921\"]]},\"colorway\":[\"#636efa\",\"#EF553B\",\"#00cc96\",\"#ab63fa\",\"#FFA15A\",\"#19d3f3\",\"#FF6692\",\"#B6E880\",\"#FF97FF\",\"#FECB52\"],\"font\":{\"color\":\"#2a3f5f\"},\"geo\":{\"bgcolor\":\"white\",\"lakecolor\":\"white\",\"landcolor\":\"#E5ECF6\",\"showlakes\":true,\"showland\":true,\"subunitcolor\":\"white\"},\"hoverlabel\":{\"align\":\"left\"},\"hovermode\":\"closest\",\"mapbox\":{\"style\":\"light\"},\"paper_bgcolor\":\"white\",\"plot_bgcolor\":\"#E5ECF6\",\"polar\":{\"angularaxis\":{\"gridcolor\":\"white\",\"linecolor\":\"white\",\"ticks\":\"\"},\"bgcolor\":\"#E5ECF6\",\"radialaxis\":{\"gridcolor\":\"white\",\"linecolor\":\"white\",\"ticks\":\"\"}},\"scene\":{\"xaxis\":{\"backgroundcolor\":\"#E5ECF6\",\"gridcolor\":\"white\",\"gridwidth\":2,\"linecolor\":\"white\",\"showbackground\":true,\"ticks\":\"\",\"zerolinecolor\":\"white\"},\"yaxis\":{\"backgroundcolor\":\"#E5ECF6\",\"gridcolor\":\"white\",\"gridwidth\":2,\"linecolor\":\"white\",\"showbackground\":true,\"ticks\":\"\",\"zerolinecolor\":\"white\"},\"zaxis\":{\"backgroundcolor\":\"#E5ECF6\",\"gridcolor\":\"white\",\"gridwidth\":2,\"linecolor\":\"white\",\"showbackground\":true,\"ticks\":\"\",\"zerolinecolor\":\"white\"}},\"shapedefaults\":{\"line\":{\"color\":\"#2a3f5f\"}},\"ternary\":{\"aaxis\":{\"gridcolor\":\"white\",\"linecolor\":\"white\",\"ticks\":\"\"},\"baxis\":{\"gridcolor\":\"white\",\"linecolor\":\"white\",\"ticks\":\"\"},\"bgcolor\":\"#E5ECF6\",\"caxis\":{\"gridcolor\":\"white\",\"linecolor\":\"white\",\"ticks\":\"\"}},\"title\":{\"x\":0.05},\"xaxis\":{\"automargin\":true,\"gridcolor\":\"white\",\"linecolor\":\"white\",\"ticks\":\"\",\"title\":{\"standoff\":15},\"zerolinecolor\":\"white\",\"zerolinewidth\":2},\"yaxis\":{\"automargin\":true,\"gridcolor\":\"white\",\"linecolor\":\"white\",\"ticks\":\"\",\"title\":{\"standoff\":15},\"zerolinecolor\":\"white\",\"zerolinewidth\":2}}},\"title\":{\"text\":\"GANTT Chart\"},\"xaxis\":{\"range\":[\"1970-01-01T00:40:32\",\"1970-01-01T16:25:48\"],\"title\":{\"font\":{\"color\":\"#7f7f7f\",\"family\":\"Courier New, monospace\",\"size\":18},\"text\":\"Time\"}},\"yaxis\":{\"title\":{\"font\":{\"color\":\"#7f7f7f\",\"family\":\"Courier New, monospace\",\"size\":18},\"text\":\"Activities\"}}},                        {\"responsive\": true}                    ).then(function(){\n",
       "                            \n",
       "var gd = document.getElementById('3da039be-883a-4b2c-ba55-98cdf12a3506');\n",
       "var x = new MutationObserver(function (mutations, observer) {{\n",
       "        var display = window.getComputedStyle(gd).display;\n",
       "        if (!display || display === 'none') {{\n",
       "            console.log([gd, 'removed!']);\n",
       "            Plotly.purge(gd);\n",
       "            observer.disconnect();\n",
       "        }}\n",
       "}});\n",
       "\n",
       "// Listen for the removal of the full notebook cells\n",
       "var notebookContainer = gd.closest('#notebook-container');\n",
       "if (notebookContainer) {{\n",
       "    x.observe(notebookContainer, {childList: true});\n",
       "}}\n",
       "\n",
       "// Listen for the clearing of the current output cell\n",
       "var outputEl = gd.closest('.output');\n",
       "if (outputEl) {{\n",
       "    x.observe(outputEl, {childList: true});\n",
       "}}\n",
       "\n",
       "                        })                };                });            </script>        </div>"
      ]
     },
     "metadata": {},
     "output_type": "display_data"
    }
   ],
   "source": [
    "flat = pd.DataFrame(flatten(activities))\n",
    "loading = list(flat[flat['ActivityName'].str.startswith('loading')]['activity'].values)\n",
    "fig = get_gantt_chart(loading)"
   ]
  },
  {
   "cell_type": "code",
   "execution_count": null,
   "id": "e3d5674d",
   "metadata": {},
   "outputs": [],
   "source": []
  }
 ],
 "metadata": {
  "kernelspec": {
   "display_name": "Python 3 (ipykernel)",
   "language": "python",
   "name": "python3"
  },
  "language_info": {
   "codemirror_mode": {
    "name": "ipython",
    "version": 3
   },
   "file_extension": ".py",
   "mimetype": "text/x-python",
   "name": "python",
   "nbconvert_exporter": "python",
   "pygments_lexer": "ipython3",
   "version": "3.9.16"
  }
 },
 "nbformat": 4,
 "nbformat_minor": 5
}
