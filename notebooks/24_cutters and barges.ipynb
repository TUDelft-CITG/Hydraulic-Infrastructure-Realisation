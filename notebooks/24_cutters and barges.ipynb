{
 "cells": [
  {
   "cell_type": "markdown",
   "id": "384a3d39",
   "metadata": {},
   "source": [
    "## feeder concept: cutter + barges\n",
    "\n",
    "This notebook shows how to implement a basic feeder concept for a cutter suction dredge working with multiple barges."
   ]
  },
  {
   "cell_type": "code",
   "execution_count": 1,
   "id": "b6580ad4",
   "metadata": {},
   "outputs": [],
   "source": [
    "import datetime, time\n",
    "import simpy\n",
    "\n",
    "import shapely.geometry\n",
    "import pandas as pd\n",
    "\n",
    "import openclsim.core as core\n",
    "import openclsim.model as model\n",
    "import openclsim.plot as plot\n",
    "import numpy as np"
   ]
  },
  {
   "cell_type": "code",
   "execution_count": 2,
   "id": "9f46b401",
   "metadata": {},
   "outputs": [],
   "source": [
    "cutter_name    = 'Cutter T'\n",
    "barge_names    = list(set(['Carrier A','Carrier B','Carrier C',\n",
    "                           'Barge I','Barge II','Barge III']))\n",
    "from_site_name = 'Trench'\n",
    "to_site_name   = 'Reclamation'"
   ]
  },
  {
   "cell_type": "code",
   "execution_count": 3,
   "id": "102a1c18",
   "metadata": {},
   "outputs": [],
   "source": [
    "Site = type(\n",
    "    \"Site\",\n",
    "    (\n",
    "        core.Identifiable,\n",
    "        core.Log,\n",
    "        core.Locatable,\n",
    "        core.HasContainer,\n",
    "        core.HasResource,\n",
    "    ),\n",
    "    {},\n",
    ")\n",
    "TransportProcessingResource = type(\n",
    "    \"TransportProcessingResource\",\n",
    "    (\n",
    "        core.Identifiable,\n",
    "        core.Log,\n",
    "        core.ContainerDependentMovable,\n",
    "        core.Processor,\n",
    "        core.HasResource,\n",
    "    ),\n",
    "    {},\n",
    ")"
   ]
  },
  {
   "cell_type": "code",
   "execution_count": 4,
   "id": "cef14598",
   "metadata": {},
   "outputs": [],
   "source": [
    "def run(NR_BARGES, total_amount):\n",
    "    simulation_start = 0\n",
    "    my_env = simpy.Environment(initial_time=simulation_start)\n",
    "    registry = {}\n",
    "\n",
    "    location_from_site = shapely.geometry.Point(4.18055556, 52.18664444)\n",
    "    location_to_site = shapely.geometry.Point(4.25222222, 52.11428333)\n",
    "\n",
    "    data_from_site = {\"env\": my_env,\n",
    "                      \"name\": from_site_name,\n",
    "                      \"geometry\": location_from_site,\n",
    "                      \"capacity\": total_amount,\n",
    "                      \"level\": total_amount,\n",
    "                      \"nr_resources\":1\n",
    "                     }\n",
    "    from_site = Site(**data_from_site)\n",
    "\n",
    "    location_to_site = shapely.geometry.Point(4.25222222, 52.11428333)\n",
    "    data_to_site = {\"env\": my_env,\n",
    "                    \"name\": to_site_name,\n",
    "                    \"geometry\": location_to_site,\n",
    "                    \"capacity\": total_amount,\n",
    "                    \"level\": 0,\n",
    "                    \"nr_resources\":4\n",
    "                   }\n",
    "    to_site = Site(**data_to_site)\n",
    "\n",
    "    vessels = {}\n",
    "\n",
    "    for i in range(NR_BARGES):\n",
    "        vessel_name = barge_names[i]\n",
    "        vessels[vessel_name] = TransportProcessingResource(\n",
    "            env=my_env,\n",
    "            name=vessel_name,\n",
    "            geometry=location_from_site, \n",
    "            capacity=10,\n",
    "            compute_v=lambda x: 10\n",
    "        )\n",
    "    cutter = TransportProcessingResource(\n",
    "        env=my_env,\n",
    "        name=cutter_name,\n",
    "        geometry=location_from_site, \n",
    "        capacity=10,\n",
    "        compute_v=lambda x: 10\n",
    "    )\n",
    "    vessels[cutter_name] = cutter\n",
    "    \n",
    "\n",
    "    activities = {}\n",
    "    for i in range(NR_BARGES):\n",
    "        vessel_name = barge_names[i]\n",
    "        amount = np.random.randint(4,6) # handle loading\n",
    "        duration=np.random.randint(2000,3000) # sailing and unloading\n",
    "\n",
    "        requested_resources={}\n",
    "        activities[f\"activity{i}\"] = model.WhileActivity(\n",
    "            env=my_env,\n",
    "            name=f\"while_sequential_activity_subcycle{i}\",\n",
    "            registry=registry,\n",
    "            sub_processes=[model.SequentialActivity(\n",
    "                env=my_env,\n",
    "                name=f\"sequential_activity_subcycle{i}\",\n",
    "                registry=registry,\n",
    "                sub_processes=[\n",
    "                    model.BasicActivity(\n",
    "                        env=my_env,\n",
    "                        name=f\"basic activity:\"+vessels[vessel_name].name,\n",
    "                        registry=registry,\n",
    "                        duration=duration,\n",
    "                        additional_logs=[vessels[vessel_name]],\n",
    "                    ),\n",
    "                    model.MoveActivity(\n",
    "                        env=my_env,\n",
    "                        name=f\"sailing empty:\"+vessels[vessel_name].name,\n",
    "                        registry=registry,\n",
    "                        mover=vessels[vessel_name],\n",
    "                        destination=from_site,\n",
    "                        duration=duration,\n",
    "                    ),\n",
    "                    model.ShiftAmountActivity(\n",
    "                        env=my_env,\n",
    "                        name=f\"loading:\"+vessels[vessel_name].name,\n",
    "                        registry=registry,\n",
    "                        processor=cutter,\n",
    "                        origin=from_site,\n",
    "                        destination=vessels[vessel_name],\n",
    "                        amount=amount,\n",
    "                        duration=500*amount,\n",
    "                        requested_resources=requested_resources,\n",
    "                    ),\n",
    "                    model.MoveActivity(\n",
    "                        env=my_env,\n",
    "                        name=f\"sailing full:\"+vessels[vessel_name].name,\n",
    "                        registry=registry,\n",
    "                        mover=vessels[vessel_name],\n",
    "                        destination=to_site,\n",
    "                        duration=duration,\n",
    "                    ),\n",
    "                    model.ShiftAmountActivity(\n",
    "                        env=my_env,\n",
    "                        name=f\"unloading:\"+vessels[vessel_name].name,\n",
    "                        registry=registry,\n",
    "                        processor=vessels[vessel_name],\n",
    "                        origin=vessels[vessel_name],\n",
    "                        destination=to_site,\n",
    "                        amount=amount,\n",
    "                        duration=duration,\n",
    "                        requested_resources=requested_resources,\n",
    "                    ),\n",
    "                ],\n",
    "            )],\n",
    "            condition_event=[\n",
    "                {\n",
    "                    \"type\": \"container\", \n",
    "                    \"concept\": to_site, \n",
    "                    \"state\": \"full\",\n",
    "                    \"id_\":\"default_reservations\"\n",
    "                }\n",
    "            ],\n",
    "        )\n",
    "\n",
    "    model.register_processes(list(activities.values()))\n",
    "    my_env.run()\n",
    "    \n",
    "    return {\n",
    "        \"vessels\": vessels,\n",
    "        \"activities\":activities,\n",
    "        from_site_name:from_site,\n",
    "        to_site_name:to_site,\n",
    "    }\n"
   ]
  },
  {
   "cell_type": "code",
   "execution_count": 5,
   "id": "9aa8b351",
   "metadata": {},
   "outputs": [
    {
     "name": "stdout",
     "output_type": "stream",
     "text": [
      "CPU times: user 109 ms, sys: 250 ms, total: 359 ms\n",
      "Wall time: 160 ms\n"
     ]
    }
   ],
   "source": [
    "%%time\n",
    "nbarges = len(barge_names)\n",
    "total_amount = 100\n",
    "res = run(nbarges,total_amount)\n",
    "vessels = res['vessels']\n",
    "activities = res['activities']\n",
    "cutter = vessels[cutter_name]\n",
    "to_site = res[to_site_name]\n",
    "from_site = res[from_site_name]"
   ]
  },
  {
   "cell_type": "code",
   "execution_count": 6,
   "id": "8f993fc6",
   "metadata": {},
   "outputs": [
    {
     "data": {
      "text/html": [
       "        <script type=\"text/javascript\">\n",
       "        window.PlotlyConfig = {MathJaxConfig: 'local'};\n",
       "        if (window.MathJax && window.MathJax.Hub && window.MathJax.Hub.Config) {window.MathJax.Hub.Config({SVG: {font: \"STIX-Web\"}});}\n",
       "        if (typeof require !== 'undefined') {\n",
       "        require.undef(\"plotly\");\n",
       "        requirejs.config({\n",
       "            paths: {\n",
       "                'plotly': ['https://cdn.plot.ly/plotly-2.18.2.min']\n",
       "            }\n",
       "        });\n",
       "        require(['plotly'], function(Plotly) {\n",
       "            window._Plotly = Plotly;\n",
       "        });\n",
       "        }\n",
       "        </script>\n",
       "        "
      ]
     },
     "metadata": {},
     "output_type": "display_data"
    },
    {
     "data": {
      "application/vnd.plotly.v1+json": {
       "config": {
        "linkText": "Export to plot.ly",
        "plotlyServerURL": "https://plot.ly",
        "showLink": false
       },
       "data": [
        {
         "connectgaps": false,
         "hoverinfo": "y+name",
         "line": {
          "color": "rgb(47,60,172)",
          "width": 10
         },
         "mode": "lines",
         "name": "basic activity:Carrier C",
         "type": "scatter",
         "x": [
          "1970-01-01T00:00:00",
          "1970-01-01T00:00:00",
          "1970-01-01T00:35:36",
          "1970-01-01T00:35:36",
          "1970-01-01T00:35:36",
          "1970-01-01T03:04:04",
          "1970-01-01T03:04:04",
          "1970-01-01T03:39:40",
          "1970-01-01T03:39:40",
          "1970-01-01T03:39:40",
          "1970-01-01T06:49:04",
          "1970-01-01T06:49:04",
          "1970-01-01T07:24:40",
          "1970-01-01T07:24:40",
          "1970-01-01T07:24:40",
          "1970-01-01T09:54:44",
          "1970-01-01T09:54:44",
          "1970-01-01T10:30:20",
          "1970-01-01T10:30:20",
          "1970-01-01T10:30:20",
          "1970-01-01T13:06:24",
          "1970-01-01T13:06:24",
          "1970-01-01T13:42:00",
          "1970-01-01T13:42:00",
          "1970-01-01T13:42:00"
         ],
         "y": [
          "Carrier C",
          "Carrier C",
          "Carrier C",
          "Carrier C",
          null,
          "Carrier C",
          "Carrier C",
          "Carrier C",
          "Carrier C",
          null,
          "Carrier C",
          "Carrier C",
          "Carrier C",
          "Carrier C",
          null,
          "Carrier C",
          "Carrier C",
          "Carrier C",
          "Carrier C",
          null,
          "Carrier C",
          "Carrier C",
          "Carrier C",
          "Carrier C",
          null
         ]
        },
        {
         "connectgaps": false,
         "hoverinfo": "y+name",
         "line": {
          "color": "rgb(54,67,179)",
          "width": 10
         },
         "mode": "lines",
         "name": "unloading:Carrier C",
         "type": "scatter",
         "x": [
          "1970-01-01T02:28:28",
          "1970-01-01T02:28:28",
          "1970-01-01T03:04:04",
          "1970-01-01T03:04:04",
          "1970-01-01T03:04:04",
          "1970-01-01T06:13:28",
          "1970-01-01T06:13:28",
          "1970-01-01T06:49:04",
          "1970-01-01T06:49:04",
          "1970-01-01T06:49:04",
          "1970-01-01T09:19:08",
          "1970-01-01T09:19:08",
          "1970-01-01T09:54:44",
          "1970-01-01T09:54:44",
          "1970-01-01T09:54:44",
          "1970-01-01T12:30:48",
          "1970-01-01T12:30:48",
          "1970-01-01T13:06:24",
          "1970-01-01T13:06:24",
          "1970-01-01T13:06:24",
          "1970-01-01T16:16:28",
          "1970-01-01T16:16:28",
          "1970-01-01T16:52:04",
          "1970-01-01T16:52:04",
          "1970-01-01T16:52:04"
         ],
         "y": [
          "Carrier C",
          "Carrier C",
          "Carrier C",
          "Carrier C",
          null,
          "Carrier C",
          "Carrier C",
          "Carrier C",
          "Carrier C",
          null,
          "Carrier C",
          "Carrier C",
          "Carrier C",
          "Carrier C",
          null,
          "Carrier C",
          "Carrier C",
          "Carrier C",
          "Carrier C",
          null,
          "Carrier C",
          "Carrier C",
          "Carrier C",
          "Carrier C",
          null
         ]
        },
        {
         "connectgaps": false,
         "hoverinfo": "y+name",
         "line": {
          "color": "rgb(61,74,186)",
          "width": 10
         },
         "mode": "lines",
         "name": "sailing full:Carrier C",
         "type": "scatter",
         "x": [
          "1970-01-01T01:52:52",
          "1970-01-01T01:52:52",
          "1970-01-01T02:28:28",
          "1970-01-01T02:28:28",
          "1970-01-01T02:28:28",
          "1970-01-01T05:37:52",
          "1970-01-01T05:37:52",
          "1970-01-01T06:13:28",
          "1970-01-01T06:13:28",
          "1970-01-01T06:13:28",
          "1970-01-01T08:43:32",
          "1970-01-01T08:43:32",
          "1970-01-01T09:19:08",
          "1970-01-01T09:19:08",
          "1970-01-01T09:19:08",
          "1970-01-01T11:55:12",
          "1970-01-01T11:55:12",
          "1970-01-01T12:30:48",
          "1970-01-01T12:30:48",
          "1970-01-01T12:30:48",
          "1970-01-01T15:40:52",
          "1970-01-01T15:40:52",
          "1970-01-01T16:16:28",
          "1970-01-01T16:16:28",
          "1970-01-01T16:16:28"
         ],
         "y": [
          "Carrier C",
          "Carrier C",
          "Carrier C",
          "Carrier C",
          null,
          "Carrier C",
          "Carrier C",
          "Carrier C",
          "Carrier C",
          null,
          "Carrier C",
          "Carrier C",
          "Carrier C",
          "Carrier C",
          null,
          "Carrier C",
          "Carrier C",
          "Carrier C",
          "Carrier C",
          null,
          "Carrier C",
          "Carrier C",
          "Carrier C",
          "Carrier C",
          null
         ]
        },
        {
         "connectgaps": false,
         "hoverinfo": "y+name",
         "line": {
          "color": "rgb(68,81,193)",
          "width": 10
         },
         "mode": "lines",
         "name": "sailing empty:Carrier C",
         "type": "scatter",
         "x": [
          "1970-01-01T00:35:36",
          "1970-01-01T00:35:36",
          "1970-01-01T01:11:12",
          "1970-01-01T01:11:12",
          "1970-01-01T01:11:12",
          "1970-01-01T03:39:40",
          "1970-01-01T03:39:40",
          "1970-01-01T04:15:16",
          "1970-01-01T04:15:16",
          "1970-01-01T04:15:16",
          "1970-01-01T07:24:40",
          "1970-01-01T07:24:40",
          "1970-01-01T08:00:16",
          "1970-01-01T08:00:16",
          "1970-01-01T08:00:16",
          "1970-01-01T10:30:20",
          "1970-01-01T10:30:20",
          "1970-01-01T11:05:56",
          "1970-01-01T11:05:56",
          "1970-01-01T11:05:56",
          "1970-01-01T13:42:00",
          "1970-01-01T13:42:00",
          "1970-01-01T14:17:36",
          "1970-01-01T14:17:36",
          "1970-01-01T14:17:36"
         ],
         "y": [
          "Carrier C",
          "Carrier C",
          "Carrier C",
          "Carrier C",
          null,
          "Carrier C",
          "Carrier C",
          "Carrier C",
          "Carrier C",
          null,
          "Carrier C",
          "Carrier C",
          "Carrier C",
          "Carrier C",
          null,
          "Carrier C",
          "Carrier C",
          "Carrier C",
          "Carrier C",
          null,
          "Carrier C",
          "Carrier C",
          "Carrier C",
          "Carrier C",
          null
         ]
        },
        {
         "connectgaps": false,
         "hoverinfo": "y+name",
         "line": {
          "color": "rgb(75,88,200)",
          "width": 10
         },
         "mode": "lines",
         "name": "loading:Carrier C",
         "type": "scatter",
         "x": [
          "1970-01-01T01:11:12",
          "1970-01-01T01:11:12",
          "1970-01-01T01:52:52",
          "1970-01-01T01:52:52",
          "1970-01-01T01:52:52",
          "1970-01-01T04:56:12",
          "1970-01-01T04:56:12",
          "1970-01-01T05:37:52",
          "1970-01-01T05:37:52",
          "1970-01-01T05:37:52",
          "1970-01-01T08:01:52",
          "1970-01-01T08:01:52",
          "1970-01-01T08:43:32",
          "1970-01-01T08:43:32",
          "1970-01-01T08:43:32",
          "1970-01-01T11:13:32",
          "1970-01-01T11:13:32",
          "1970-01-01T11:55:12",
          "1970-01-01T11:55:12",
          "1970-01-01T11:55:12",
          "1970-01-01T14:59:12",
          "1970-01-01T14:59:12",
          "1970-01-01T15:40:52",
          "1970-01-01T15:40:52",
          "1970-01-01T15:40:52",
          "1970-01-01T01:11:12",
          "1970-01-01T01:11:12",
          "1970-01-01T01:52:52",
          "1970-01-01T01:52:52",
          "1970-01-01T01:52:52",
          "1970-01-01T04:56:12",
          "1970-01-01T04:56:12",
          "1970-01-01T05:37:52",
          "1970-01-01T05:37:52",
          "1970-01-01T05:37:52",
          "1970-01-01T08:01:52",
          "1970-01-01T08:01:52",
          "1970-01-01T08:43:32",
          "1970-01-01T08:43:32",
          "1970-01-01T08:43:32",
          "1970-01-01T11:13:32",
          "1970-01-01T11:13:32",
          "1970-01-01T11:55:12",
          "1970-01-01T11:55:12",
          "1970-01-01T11:55:12",
          "1970-01-01T14:59:12",
          "1970-01-01T14:59:12",
          "1970-01-01T15:40:52",
          "1970-01-01T15:40:52",
          "1970-01-01T15:40:52"
         ],
         "y": [
          "Carrier C",
          "Carrier C",
          "Carrier C",
          "Carrier C",
          null,
          "Carrier C",
          "Carrier C",
          "Carrier C",
          "Carrier C",
          null,
          "Carrier C",
          "Carrier C",
          "Carrier C",
          "Carrier C",
          null,
          "Carrier C",
          "Carrier C",
          "Carrier C",
          "Carrier C",
          null,
          "Carrier C",
          "Carrier C",
          "Carrier C",
          "Carrier C",
          null,
          "Cutter T",
          "Cutter T",
          "Cutter T",
          "Cutter T",
          null,
          "Cutter T",
          "Cutter T",
          "Cutter T",
          "Cutter T",
          null,
          "Cutter T",
          "Cutter T",
          "Cutter T",
          "Cutter T",
          null,
          "Cutter T",
          "Cutter T",
          "Cutter T",
          "Cutter T",
          null,
          "Cutter T",
          "Cutter T",
          "Cutter T",
          "Cutter T",
          null
         ]
        },
        {
         "connectgaps": false,
         "hoverinfo": "y+name",
         "line": {
          "color": "rgb(82,95,207)",
          "width": 10
         },
         "mode": "lines",
         "name": "basic activity:Barge III",
         "type": "scatter",
         "x": [
          "1970-01-01T00:00:00",
          "1970-01-01T00:00:00",
          "1970-01-01T00:39:13",
          "1970-01-01T00:39:13",
          "1970-01-01T00:39:13",
          "1970-01-01T04:59:38",
          "1970-01-01T04:59:38",
          "1970-01-01T05:38:51",
          "1970-01-01T05:38:51",
          "1970-01-01T05:38:51",
          "1970-01-01T08:44:38",
          "1970-01-01T08:44:38",
          "1970-01-01T09:23:51",
          "1970-01-01T09:23:51",
          "1970-01-01T09:23:51",
          "1970-01-01T12:31:58",
          "1970-01-01T12:31:58",
          "1970-01-01T13:11:11",
          "1970-01-01T13:11:11",
          "1970-01-01T13:11:11"
         ],
         "y": [
          "Barge III",
          "Barge III",
          "Barge III",
          "Barge III",
          null,
          "Barge III",
          "Barge III",
          "Barge III",
          "Barge III",
          null,
          "Barge III",
          "Barge III",
          "Barge III",
          "Barge III",
          null,
          "Barge III",
          "Barge III",
          "Barge III",
          "Barge III",
          null
         ]
        },
        {
         "connectgaps": false,
         "hoverinfo": "y+name",
         "line": {
          "color": "rgb(89,102,214)",
          "width": 10
         },
         "mode": "lines",
         "name": "loading:Barge III",
         "type": "scatter",
         "x": [
          "1970-01-01T02:59:32",
          "1970-01-01T02:59:32",
          "1970-01-01T03:41:12",
          "1970-01-01T03:41:12",
          "1970-01-01T03:41:12",
          "1970-01-01T06:44:32",
          "1970-01-01T06:44:32",
          "1970-01-01T07:26:12",
          "1970-01-01T07:26:12",
          "1970-01-01T07:26:12",
          "1970-01-01T10:31:52",
          "1970-01-01T10:31:52",
          "1970-01-01T11:13:32",
          "1970-01-01T11:13:32",
          "1970-01-01T11:13:32",
          "1970-01-01T14:17:32",
          "1970-01-01T14:17:32",
          "1970-01-01T14:59:12",
          "1970-01-01T14:59:12",
          "1970-01-01T14:59:12",
          "1970-01-01T02:59:32",
          "1970-01-01T02:59:32",
          "1970-01-01T03:41:12",
          "1970-01-01T03:41:12",
          "1970-01-01T03:41:12",
          "1970-01-01T06:44:32",
          "1970-01-01T06:44:32",
          "1970-01-01T07:26:12",
          "1970-01-01T07:26:12",
          "1970-01-01T07:26:12",
          "1970-01-01T10:31:52",
          "1970-01-01T10:31:52",
          "1970-01-01T11:13:32",
          "1970-01-01T11:13:32",
          "1970-01-01T11:13:32",
          "1970-01-01T14:17:32",
          "1970-01-01T14:17:32",
          "1970-01-01T14:59:12",
          "1970-01-01T14:59:12",
          "1970-01-01T14:59:12"
         ],
         "y": [
          "Barge III",
          "Barge III",
          "Barge III",
          "Barge III",
          null,
          "Barge III",
          "Barge III",
          "Barge III",
          "Barge III",
          null,
          "Barge III",
          "Barge III",
          "Barge III",
          "Barge III",
          null,
          "Barge III",
          "Barge III",
          "Barge III",
          "Barge III",
          null,
          "Cutter T",
          "Cutter T",
          "Cutter T",
          "Cutter T",
          null,
          "Cutter T",
          "Cutter T",
          "Cutter T",
          "Cutter T",
          null,
          "Cutter T",
          "Cutter T",
          "Cutter T",
          "Cutter T",
          null,
          "Cutter T",
          "Cutter T",
          "Cutter T",
          "Cutter T",
          null
         ]
        },
        {
         "connectgaps": false,
         "hoverinfo": "y+name",
         "line": {
          "color": "rgb(96,109,221)",
          "width": 10
         },
         "mode": "lines",
         "name": "sailing full:Barge III",
         "type": "scatter",
         "x": [
          "1970-01-01T03:41:12",
          "1970-01-01T03:41:12",
          "1970-01-01T04:20:25",
          "1970-01-01T04:20:25",
          "1970-01-01T04:20:25",
          "1970-01-01T07:26:12",
          "1970-01-01T07:26:12",
          "1970-01-01T08:05:25",
          "1970-01-01T08:05:25",
          "1970-01-01T08:05:25",
          "1970-01-01T11:13:32",
          "1970-01-01T11:13:32",
          "1970-01-01T11:52:45",
          "1970-01-01T11:52:45",
          "1970-01-01T11:52:45",
          "1970-01-01T14:59:12",
          "1970-01-01T14:59:12",
          "1970-01-01T15:38:25",
          "1970-01-01T15:38:25",
          "1970-01-01T15:38:25"
         ],
         "y": [
          "Barge III",
          "Barge III",
          "Barge III",
          "Barge III",
          null,
          "Barge III",
          "Barge III",
          "Barge III",
          "Barge III",
          null,
          "Barge III",
          "Barge III",
          "Barge III",
          "Barge III",
          null,
          "Barge III",
          "Barge III",
          "Barge III",
          "Barge III",
          null
         ]
        },
        {
         "connectgaps": false,
         "hoverinfo": "y+name",
         "line": {
          "color": "rgb(103,116,228)",
          "width": 10
         },
         "mode": "lines",
         "name": "sailing empty:Barge III",
         "type": "scatter",
         "x": [
          "1970-01-01T00:39:13",
          "1970-01-01T00:39:13",
          "1970-01-01T01:18:26",
          "1970-01-01T01:18:26",
          "1970-01-01T01:18:26",
          "1970-01-01T05:38:51",
          "1970-01-01T05:38:51",
          "1970-01-01T06:18:04",
          "1970-01-01T06:18:04",
          "1970-01-01T06:18:04",
          "1970-01-01T09:23:51",
          "1970-01-01T09:23:51",
          "1970-01-01T10:03:04",
          "1970-01-01T10:03:04",
          "1970-01-01T10:03:04",
          "1970-01-01T13:11:11",
          "1970-01-01T13:11:11",
          "1970-01-01T13:50:24",
          "1970-01-01T13:50:24",
          "1970-01-01T13:50:24"
         ],
         "y": [
          "Barge III",
          "Barge III",
          "Barge III",
          "Barge III",
          null,
          "Barge III",
          "Barge III",
          "Barge III",
          "Barge III",
          null,
          "Barge III",
          "Barge III",
          "Barge III",
          "Barge III",
          null,
          "Barge III",
          "Barge III",
          "Barge III",
          "Barge III",
          null
         ]
        },
        {
         "connectgaps": false,
         "hoverinfo": "y+name",
         "line": {
          "color": "rgb(110,123,235)",
          "width": 10
         },
         "mode": "lines",
         "name": "unloading:Barge III",
         "type": "scatter",
         "x": [
          "1970-01-01T04:20:25",
          "1970-01-01T04:20:25",
          "1970-01-01T04:59:38",
          "1970-01-01T04:59:38",
          "1970-01-01T04:59:38",
          "1970-01-01T08:05:25",
          "1970-01-01T08:05:25",
          "1970-01-01T08:44:38",
          "1970-01-01T08:44:38",
          "1970-01-01T08:44:38",
          "1970-01-01T11:52:45",
          "1970-01-01T11:52:45",
          "1970-01-01T12:31:58",
          "1970-01-01T12:31:58",
          "1970-01-01T12:31:58",
          "1970-01-01T15:38:25",
          "1970-01-01T15:38:25",
          "1970-01-01T16:17:38",
          "1970-01-01T16:17:38",
          "1970-01-01T16:17:38"
         ],
         "y": [
          "Barge III",
          "Barge III",
          "Barge III",
          "Barge III",
          null,
          "Barge III",
          "Barge III",
          "Barge III",
          "Barge III",
          null,
          "Barge III",
          "Barge III",
          "Barge III",
          "Barge III",
          null,
          "Barge III",
          "Barge III",
          "Barge III",
          "Barge III",
          null
         ]
        },
        {
         "connectgaps": false,
         "hoverinfo": "y+name",
         "line": {
          "color": "rgb(117,130,242)",
          "width": 10
         },
         "mode": "lines",
         "name": "basic activity:Carrier A",
         "type": "scatter",
         "x": [
          "1970-01-01T00:00:00",
          "1970-01-01T00:00:00",
          "1970-01-01T00:49:41",
          "1970-01-01T00:49:41",
          "1970-01-01T00:49:41",
          "1970-01-01T06:35:34",
          "1970-01-01T06:35:34",
          "1970-01-01T07:25:15",
          "1970-01-01T07:25:15",
          "1970-01-01T07:25:15",
          "1970-01-01T11:04:34",
          "1970-01-01T11:04:34",
          "1970-01-01T11:54:15",
          "1970-01-01T11:54:15",
          "1970-01-01T11:54:15"
         ],
         "y": [
          "Carrier A",
          "Carrier A",
          "Carrier A",
          "Carrier A",
          null,
          "Carrier A",
          "Carrier A",
          "Carrier A",
          "Carrier A",
          null,
          "Carrier A",
          "Carrier A",
          "Carrier A",
          "Carrier A",
          null
         ]
        },
        {
         "connectgaps": false,
         "hoverinfo": "y+name",
         "line": {
          "color": "rgb(124,137,249)",
          "width": 10
         },
         "mode": "lines",
         "name": "sailing empty:Carrier A",
         "type": "scatter",
         "x": [
          "1970-01-01T00:49:41",
          "1970-01-01T00:49:41",
          "1970-01-01T01:39:22",
          "1970-01-01T01:39:22",
          "1970-01-01T01:39:22",
          "1970-01-01T07:25:15",
          "1970-01-01T07:25:15",
          "1970-01-01T08:14:56",
          "1970-01-01T08:14:56",
          "1970-01-01T08:14:56",
          "1970-01-01T11:54:15",
          "1970-01-01T11:54:15",
          "1970-01-01T12:43:56",
          "1970-01-01T12:43:56",
          "1970-01-01T12:43:56"
         ],
         "y": [
          "Carrier A",
          "Carrier A",
          "Carrier A",
          "Carrier A",
          null,
          "Carrier A",
          "Carrier A",
          "Carrier A",
          "Carrier A",
          null,
          "Carrier A",
          "Carrier A",
          "Carrier A",
          "Carrier A",
          null
         ]
        },
        {
         "connectgaps": false,
         "hoverinfo": "y+name",
         "line": {
          "color": "rgb(131,144,0)",
          "width": 10
         },
         "mode": "lines",
         "name": "sailing full:Carrier A",
         "type": "scatter",
         "x": [
          "1970-01-01T04:56:12",
          "1970-01-01T04:56:12",
          "1970-01-01T05:45:53",
          "1970-01-01T05:45:53",
          "1970-01-01T05:45:53",
          "1970-01-01T09:25:12",
          "1970-01-01T09:25:12",
          "1970-01-01T10:14:53",
          "1970-01-01T10:14:53",
          "1970-01-01T10:14:53",
          "1970-01-01T13:44:12",
          "1970-01-01T13:44:12",
          "1970-01-01T14:33:53",
          "1970-01-01T14:33:53",
          "1970-01-01T14:33:53"
         ],
         "y": [
          "Carrier A",
          "Carrier A",
          "Carrier A",
          "Carrier A",
          null,
          "Carrier A",
          "Carrier A",
          "Carrier A",
          "Carrier A",
          null,
          "Carrier A",
          "Carrier A",
          "Carrier A",
          "Carrier A",
          null
         ]
        },
        {
         "connectgaps": false,
         "hoverinfo": "y+name",
         "line": {
          "color": "rgb(138,151,7)",
          "width": 10
         },
         "mode": "lines",
         "name": "loading:Carrier A",
         "type": "scatter",
         "x": [
          "1970-01-01T04:14:32",
          "1970-01-01T04:14:32",
          "1970-01-01T04:56:12",
          "1970-01-01T04:56:12",
          "1970-01-01T04:56:12",
          "1970-01-01T08:43:32",
          "1970-01-01T08:43:32",
          "1970-01-01T09:25:12",
          "1970-01-01T09:25:12",
          "1970-01-01T09:25:12",
          "1970-01-01T13:02:32",
          "1970-01-01T13:02:32",
          "1970-01-01T13:44:12",
          "1970-01-01T13:44:12",
          "1970-01-01T13:44:12",
          "1970-01-01T04:14:32",
          "1970-01-01T04:14:32",
          "1970-01-01T04:56:12",
          "1970-01-01T04:56:12",
          "1970-01-01T04:56:12",
          "1970-01-01T08:43:32",
          "1970-01-01T08:43:32",
          "1970-01-01T09:25:12",
          "1970-01-01T09:25:12",
          "1970-01-01T09:25:12",
          "1970-01-01T13:02:32",
          "1970-01-01T13:02:32",
          "1970-01-01T13:44:12",
          "1970-01-01T13:44:12",
          "1970-01-01T13:44:12"
         ],
         "y": [
          "Carrier A",
          "Carrier A",
          "Carrier A",
          "Carrier A",
          null,
          "Carrier A",
          "Carrier A",
          "Carrier A",
          "Carrier A",
          null,
          "Carrier A",
          "Carrier A",
          "Carrier A",
          "Carrier A",
          null,
          "Cutter T",
          "Cutter T",
          "Cutter T",
          "Cutter T",
          null,
          "Cutter T",
          "Cutter T",
          "Cutter T",
          "Cutter T",
          null,
          "Cutter T",
          "Cutter T",
          "Cutter T",
          "Cutter T",
          null
         ]
        },
        {
         "connectgaps": false,
         "hoverinfo": "y+name",
         "line": {
          "color": "rgb(145,158,14)",
          "width": 10
         },
         "mode": "lines",
         "name": "unloading:Carrier A",
         "type": "scatter",
         "x": [
          "1970-01-01T05:45:53",
          "1970-01-01T05:45:53",
          "1970-01-01T06:35:34",
          "1970-01-01T06:35:34",
          "1970-01-01T06:35:34",
          "1970-01-01T10:14:53",
          "1970-01-01T10:14:53",
          "1970-01-01T11:04:34",
          "1970-01-01T11:04:34",
          "1970-01-01T11:04:34",
          "1970-01-01T14:33:53",
          "1970-01-01T14:33:53",
          "1970-01-01T15:23:34",
          "1970-01-01T15:23:34",
          "1970-01-01T15:23:34"
         ],
         "y": [
          "Carrier A",
          "Carrier A",
          "Carrier A",
          "Carrier A",
          null,
          "Carrier A",
          "Carrier A",
          "Carrier A",
          "Carrier A",
          null,
          "Carrier A",
          "Carrier A",
          "Carrier A",
          "Carrier A",
          null
         ]
        },
        {
         "connectgaps": false,
         "hoverinfo": "y+name",
         "line": {
          "color": "rgb(152,165,21)",
          "width": 10
         },
         "mode": "lines",
         "name": "loading:Barge I",
         "type": "scatter",
         "x": [
          "1970-01-01T02:26:12",
          "1970-01-01T02:26:12",
          "1970-01-01T02:59:32",
          "1970-01-01T02:59:32",
          "1970-01-01T02:59:32",
          "1970-01-01T06:11:12",
          "1970-01-01T06:11:12",
          "1970-01-01T06:44:32",
          "1970-01-01T06:44:32",
          "1970-01-01T06:44:32",
          "1970-01-01T09:58:32",
          "1970-01-01T09:58:32",
          "1970-01-01T10:31:52",
          "1970-01-01T10:31:52",
          "1970-01-01T10:31:52",
          "1970-01-01T13:44:12",
          "1970-01-01T13:44:12",
          "1970-01-01T14:17:32",
          "1970-01-01T14:17:32",
          "1970-01-01T14:17:32",
          "1970-01-01T02:26:12",
          "1970-01-01T02:26:12",
          "1970-01-01T02:59:32",
          "1970-01-01T02:59:32",
          "1970-01-01T02:59:32",
          "1970-01-01T06:11:12",
          "1970-01-01T06:11:12",
          "1970-01-01T06:44:32",
          "1970-01-01T06:44:32",
          "1970-01-01T06:44:32",
          "1970-01-01T09:58:32",
          "1970-01-01T09:58:32",
          "1970-01-01T10:31:52",
          "1970-01-01T10:31:52",
          "1970-01-01T10:31:52",
          "1970-01-01T13:44:12",
          "1970-01-01T13:44:12",
          "1970-01-01T14:17:32",
          "1970-01-01T14:17:32",
          "1970-01-01T14:17:32"
         ],
         "y": [
          "Barge I",
          "Barge I",
          "Barge I",
          "Barge I",
          null,
          "Barge I",
          "Barge I",
          "Barge I",
          "Barge I",
          null,
          "Barge I",
          "Barge I",
          "Barge I",
          "Barge I",
          null,
          "Barge I",
          "Barge I",
          "Barge I",
          "Barge I",
          null,
          "Cutter T",
          "Cutter T",
          "Cutter T",
          "Cutter T",
          null,
          "Cutter T",
          "Cutter T",
          "Cutter T",
          "Cutter T",
          null,
          "Cutter T",
          "Cutter T",
          "Cutter T",
          "Cutter T",
          null,
          "Cutter T",
          "Cutter T",
          "Cutter T",
          "Cutter T",
          null
         ]
        },
        {
         "connectgaps": false,
         "hoverinfo": "y+name",
         "line": {
          "color": "rgb(159,172,28)",
          "width": 10
         },
         "mode": "lines",
         "name": "unloading:Barge I",
         "type": "scatter",
         "x": [
          "1970-01-01T03:38:15",
          "1970-01-01T03:38:15",
          "1970-01-01T04:16:58",
          "1970-01-01T04:16:58",
          "1970-01-01T04:16:58",
          "1970-01-01T07:23:15",
          "1970-01-01T07:23:15",
          "1970-01-01T08:01:58",
          "1970-01-01T08:01:58",
          "1970-01-01T08:01:58",
          "1970-01-01T11:10:35",
          "1970-01-01T11:10:35",
          "1970-01-01T11:49:18",
          "1970-01-01T11:49:18",
          "1970-01-01T11:49:18",
          "1970-01-01T14:56:15",
          "1970-01-01T14:56:15",
          "1970-01-01T15:34:58",
          "1970-01-01T15:34:58",
          "1970-01-01T15:34:58"
         ],
         "y": [
          "Barge I",
          "Barge I",
          "Barge I",
          "Barge I",
          null,
          "Barge I",
          "Barge I",
          "Barge I",
          "Barge I",
          null,
          "Barge I",
          "Barge I",
          "Barge I",
          "Barge I",
          null,
          "Barge I",
          "Barge I",
          "Barge I",
          "Barge I",
          null
         ]
        },
        {
         "connectgaps": false,
         "hoverinfo": "y+name",
         "line": {
          "color": "rgb(166,179,35)",
          "width": 10
         },
         "mode": "lines",
         "name": "sailing full:Barge I",
         "type": "scatter",
         "x": [
          "1970-01-01T02:59:32",
          "1970-01-01T02:59:32",
          "1970-01-01T03:38:15",
          "1970-01-01T03:38:15",
          "1970-01-01T03:38:15",
          "1970-01-01T06:44:32",
          "1970-01-01T06:44:32",
          "1970-01-01T07:23:15",
          "1970-01-01T07:23:15",
          "1970-01-01T07:23:15",
          "1970-01-01T10:31:52",
          "1970-01-01T10:31:52",
          "1970-01-01T11:10:35",
          "1970-01-01T11:10:35",
          "1970-01-01T11:10:35",
          "1970-01-01T14:17:32",
          "1970-01-01T14:17:32",
          "1970-01-01T14:56:15",
          "1970-01-01T14:56:15",
          "1970-01-01T14:56:15"
         ],
         "y": [
          "Barge I",
          "Barge I",
          "Barge I",
          "Barge I",
          null,
          "Barge I",
          "Barge I",
          "Barge I",
          "Barge I",
          null,
          "Barge I",
          "Barge I",
          "Barge I",
          "Barge I",
          null,
          "Barge I",
          "Barge I",
          "Barge I",
          "Barge I",
          null
         ]
        },
        {
         "connectgaps": false,
         "hoverinfo": "y+name",
         "line": {
          "color": "rgb(173,186,42)",
          "width": 10
         },
         "mode": "lines",
         "name": "basic activity:Barge I",
         "type": "scatter",
         "x": [
          "1970-01-01T00:00:00",
          "1970-01-01T00:00:00",
          "1970-01-01T00:38:43",
          "1970-01-01T00:38:43",
          "1970-01-01T00:38:43",
          "1970-01-01T04:16:58",
          "1970-01-01T04:16:58",
          "1970-01-01T04:55:41",
          "1970-01-01T04:55:41",
          "1970-01-01T04:55:41",
          "1970-01-01T08:01:58",
          "1970-01-01T08:01:58",
          "1970-01-01T08:40:41",
          "1970-01-01T08:40:41",
          "1970-01-01T08:40:41",
          "1970-01-01T11:49:18",
          "1970-01-01T11:49:18",
          "1970-01-01T12:28:01",
          "1970-01-01T12:28:01",
          "1970-01-01T12:28:01"
         ],
         "y": [
          "Barge I",
          "Barge I",
          "Barge I",
          "Barge I",
          null,
          "Barge I",
          "Barge I",
          "Barge I",
          "Barge I",
          null,
          "Barge I",
          "Barge I",
          "Barge I",
          "Barge I",
          null,
          "Barge I",
          "Barge I",
          "Barge I",
          "Barge I",
          null
         ]
        },
        {
         "connectgaps": false,
         "hoverinfo": "y+name",
         "line": {
          "color": "rgb(180,193,49)",
          "width": 10
         },
         "mode": "lines",
         "name": "sailing empty:Barge I",
         "type": "scatter",
         "x": [
          "1970-01-01T00:38:43",
          "1970-01-01T00:38:43",
          "1970-01-01T01:17:26",
          "1970-01-01T01:17:26",
          "1970-01-01T01:17:26",
          "1970-01-01T04:55:41",
          "1970-01-01T04:55:41",
          "1970-01-01T05:34:24",
          "1970-01-01T05:34:24",
          "1970-01-01T05:34:24",
          "1970-01-01T08:40:41",
          "1970-01-01T08:40:41",
          "1970-01-01T09:19:24",
          "1970-01-01T09:19:24",
          "1970-01-01T09:19:24",
          "1970-01-01T12:28:01",
          "1970-01-01T12:28:01",
          "1970-01-01T13:06:44",
          "1970-01-01T13:06:44",
          "1970-01-01T13:06:44"
         ],
         "y": [
          "Barge I",
          "Barge I",
          "Barge I",
          "Barge I",
          null,
          "Barge I",
          "Barge I",
          "Barge I",
          "Barge I",
          null,
          "Barge I",
          "Barge I",
          "Barge I",
          "Barge I",
          null,
          "Barge I",
          "Barge I",
          "Barge I",
          "Barge I",
          null
         ]
        },
        {
         "connectgaps": false,
         "hoverinfo": "y+name",
         "line": {
          "color": "rgb(187,200,56)",
          "width": 10
         },
         "mode": "lines",
         "name": "basic activity:Carrier B",
         "type": "scatter",
         "x": [
          "1970-01-01T00:00:00",
          "1970-01-01T00:00:00",
          "1970-01-01T00:37:40",
          "1970-01-01T00:37:40",
          "1970-01-01T00:37:40",
          "1970-01-01T03:41:32",
          "1970-01-01T03:41:32",
          "1970-01-01T04:19:12",
          "1970-01-01T04:19:12",
          "1970-01-01T04:19:12",
          "1970-01-01T07:26:32",
          "1970-01-01T07:26:32",
          "1970-01-01T08:04:12",
          "1970-01-01T08:04:12",
          "1970-01-01T08:04:12",
          "1970-01-01T11:13:52",
          "1970-01-01T11:13:52",
          "1970-01-01T11:51:32",
          "1970-01-01T11:51:32",
          "1970-01-01T11:51:32"
         ],
         "y": [
          "Carrier B",
          "Carrier B",
          "Carrier B",
          "Carrier B",
          null,
          "Carrier B",
          "Carrier B",
          "Carrier B",
          "Carrier B",
          null,
          "Carrier B",
          "Carrier B",
          "Carrier B",
          "Carrier B",
          null,
          "Carrier B",
          "Carrier B",
          "Carrier B",
          "Carrier B",
          null
         ]
        },
        {
         "connectgaps": false,
         "hoverinfo": "y+name",
         "line": {
          "color": "rgb(194,207,63)",
          "width": 10
         },
         "mode": "lines",
         "name": "unloading:Carrier B",
         "type": "scatter",
         "x": [
          "1970-01-01T03:03:52",
          "1970-01-01T03:03:52",
          "1970-01-01T03:41:32",
          "1970-01-01T03:41:32",
          "1970-01-01T03:41:32",
          "1970-01-01T06:48:52",
          "1970-01-01T06:48:52",
          "1970-01-01T07:26:32",
          "1970-01-01T07:26:32",
          "1970-01-01T07:26:32",
          "1970-01-01T10:36:12",
          "1970-01-01T10:36:12",
          "1970-01-01T11:13:52",
          "1970-01-01T11:13:52",
          "1970-01-01T11:13:52",
          "1970-01-01T13:40:12",
          "1970-01-01T13:40:12",
          "1970-01-01T14:17:52",
          "1970-01-01T14:17:52",
          "1970-01-01T14:17:52"
         ],
         "y": [
          "Carrier B",
          "Carrier B",
          "Carrier B",
          "Carrier B",
          null,
          "Carrier B",
          "Carrier B",
          "Carrier B",
          "Carrier B",
          null,
          "Carrier B",
          "Carrier B",
          "Carrier B",
          "Carrier B",
          null,
          "Carrier B",
          "Carrier B",
          "Carrier B",
          "Carrier B",
          null
         ]
        },
        {
         "connectgaps": false,
         "hoverinfo": "y+name",
         "line": {
          "color": "rgb(201,214,70)",
          "width": 10
         },
         "mode": "lines",
         "name": "sailing full:Carrier B",
         "type": "scatter",
         "x": [
          "1970-01-01T02:26:12",
          "1970-01-01T02:26:12",
          "1970-01-01T03:03:52",
          "1970-01-01T03:03:52",
          "1970-01-01T03:03:52",
          "1970-01-01T06:11:12",
          "1970-01-01T06:11:12",
          "1970-01-01T06:48:52",
          "1970-01-01T06:48:52",
          "1970-01-01T06:48:52",
          "1970-01-01T09:58:32",
          "1970-01-01T09:58:32",
          "1970-01-01T10:36:12",
          "1970-01-01T10:36:12",
          "1970-01-01T10:36:12",
          "1970-01-01T13:02:32",
          "1970-01-01T13:02:32",
          "1970-01-01T13:40:12",
          "1970-01-01T13:40:12",
          "1970-01-01T13:40:12"
         ],
         "y": [
          "Carrier B",
          "Carrier B",
          "Carrier B",
          "Carrier B",
          null,
          "Carrier B",
          "Carrier B",
          "Carrier B",
          "Carrier B",
          null,
          "Carrier B",
          "Carrier B",
          "Carrier B",
          "Carrier B",
          null,
          "Carrier B",
          "Carrier B",
          "Carrier B",
          "Carrier B",
          null
         ]
        },
        {
         "connectgaps": false,
         "hoverinfo": "y+name",
         "line": {
          "color": "rgb(208,221,77)",
          "width": 10
         },
         "mode": "lines",
         "name": "loading:Carrier B",
         "type": "scatter",
         "x": [
          "1970-01-01T01:52:52",
          "1970-01-01T01:52:52",
          "1970-01-01T02:26:12",
          "1970-01-01T02:26:12",
          "1970-01-01T02:26:12",
          "1970-01-01T05:37:52",
          "1970-01-01T05:37:52",
          "1970-01-01T06:11:12",
          "1970-01-01T06:11:12",
          "1970-01-01T06:11:12",
          "1970-01-01T09:25:12",
          "1970-01-01T09:25:12",
          "1970-01-01T09:58:32",
          "1970-01-01T09:58:32",
          "1970-01-01T09:58:32",
          "1970-01-01T12:29:12",
          "1970-01-01T12:29:12",
          "1970-01-01T13:02:32",
          "1970-01-01T13:02:32",
          "1970-01-01T13:02:32",
          "1970-01-01T01:52:52",
          "1970-01-01T01:52:52",
          "1970-01-01T02:26:12",
          "1970-01-01T02:26:12",
          "1970-01-01T02:26:12",
          "1970-01-01T05:37:52",
          "1970-01-01T05:37:52",
          "1970-01-01T06:11:12",
          "1970-01-01T06:11:12",
          "1970-01-01T06:11:12",
          "1970-01-01T09:25:12",
          "1970-01-01T09:25:12",
          "1970-01-01T09:58:32",
          "1970-01-01T09:58:32",
          "1970-01-01T09:58:32",
          "1970-01-01T12:29:12",
          "1970-01-01T12:29:12",
          "1970-01-01T13:02:32",
          "1970-01-01T13:02:32",
          "1970-01-01T13:02:32"
         ],
         "y": [
          "Carrier B",
          "Carrier B",
          "Carrier B",
          "Carrier B",
          null,
          "Carrier B",
          "Carrier B",
          "Carrier B",
          "Carrier B",
          null,
          "Carrier B",
          "Carrier B",
          "Carrier B",
          "Carrier B",
          null,
          "Carrier B",
          "Carrier B",
          "Carrier B",
          "Carrier B",
          null,
          "Cutter T",
          "Cutter T",
          "Cutter T",
          "Cutter T",
          null,
          "Cutter T",
          "Cutter T",
          "Cutter T",
          "Cutter T",
          null,
          "Cutter T",
          "Cutter T",
          "Cutter T",
          "Cutter T",
          null,
          "Cutter T",
          "Cutter T",
          "Cutter T",
          "Cutter T",
          null
         ]
        },
        {
         "connectgaps": false,
         "hoverinfo": "y+name",
         "line": {
          "color": "rgb(215,228,84)",
          "width": 10
         },
         "mode": "lines",
         "name": "sailing empty:Carrier B",
         "type": "scatter",
         "x": [
          "1970-01-01T00:37:40",
          "1970-01-01T00:37:40",
          "1970-01-01T01:15:20",
          "1970-01-01T01:15:20",
          "1970-01-01T01:15:20",
          "1970-01-01T04:19:12",
          "1970-01-01T04:19:12",
          "1970-01-01T04:56:52",
          "1970-01-01T04:56:52",
          "1970-01-01T04:56:52",
          "1970-01-01T08:04:12",
          "1970-01-01T08:04:12",
          "1970-01-01T08:41:52",
          "1970-01-01T08:41:52",
          "1970-01-01T08:41:52",
          "1970-01-01T11:51:32",
          "1970-01-01T11:51:32",
          "1970-01-01T12:29:12",
          "1970-01-01T12:29:12",
          "1970-01-01T12:29:12"
         ],
         "y": [
          "Carrier B",
          "Carrier B",
          "Carrier B",
          "Carrier B",
          null,
          "Carrier B",
          "Carrier B",
          "Carrier B",
          "Carrier B",
          null,
          "Carrier B",
          "Carrier B",
          "Carrier B",
          "Carrier B",
          null,
          "Carrier B",
          "Carrier B",
          "Carrier B",
          "Carrier B",
          null
         ]
        },
        {
         "connectgaps": false,
         "hoverinfo": "y+name",
         "line": {
          "color": "rgb(222,235,91)",
          "width": 10
         },
         "mode": "lines",
         "name": "sailing empty:Barge II",
         "type": "scatter",
         "x": [
          "1970-01-01T00:48:30",
          "1970-01-01T00:48:30",
          "1970-01-01T01:37:00",
          "1970-01-01T01:37:00",
          "1970-01-01T01:37:00",
          "1970-01-01T06:40:02",
          "1970-01-01T06:40:02",
          "1970-01-01T07:28:32",
          "1970-01-01T07:28:32",
          "1970-01-01T07:28:32",
          "1970-01-01T10:27:22",
          "1970-01-01T10:27:22",
          "1970-01-01T11:15:52",
          "1970-01-01T11:15:52",
          "1970-01-01T11:15:52"
         ],
         "y": [
          "Barge II",
          "Barge II",
          "Barge II",
          "Barge II",
          null,
          "Barge II",
          "Barge II",
          "Barge II",
          "Barge II",
          null,
          "Barge II",
          "Barge II",
          "Barge II",
          "Barge II",
          null
         ]
        },
        {
         "connectgaps": false,
         "hoverinfo": "y+name",
         "line": {
          "color": "rgb(229,242,98)",
          "width": 10
         },
         "mode": "lines",
         "name": "loading:Barge II",
         "type": "scatter",
         "x": [
          "1970-01-01T03:41:12",
          "1970-01-01T03:41:12",
          "1970-01-01T04:14:32",
          "1970-01-01T04:14:32",
          "1970-01-01T04:14:32",
          "1970-01-01T07:28:32",
          "1970-01-01T07:28:32",
          "1970-01-01T08:01:52",
          "1970-01-01T08:01:52",
          "1970-01-01T08:01:52",
          "1970-01-01T11:55:12",
          "1970-01-01T11:55:12",
          "1970-01-01T12:28:32",
          "1970-01-01T12:28:32",
          "1970-01-01T12:28:32",
          "1970-01-01T03:41:12",
          "1970-01-01T03:41:12",
          "1970-01-01T04:14:32",
          "1970-01-01T04:14:32",
          "1970-01-01T04:14:32",
          "1970-01-01T07:28:32",
          "1970-01-01T07:28:32",
          "1970-01-01T08:01:52",
          "1970-01-01T08:01:52",
          "1970-01-01T08:01:52",
          "1970-01-01T11:55:12",
          "1970-01-01T11:55:12",
          "1970-01-01T12:28:32",
          "1970-01-01T12:28:32",
          "1970-01-01T12:28:32"
         ],
         "y": [
          "Barge II",
          "Barge II",
          "Barge II",
          "Barge II",
          null,
          "Barge II",
          "Barge II",
          "Barge II",
          "Barge II",
          null,
          "Barge II",
          "Barge II",
          "Barge II",
          "Barge II",
          null,
          "Cutter T",
          "Cutter T",
          "Cutter T",
          "Cutter T",
          null,
          "Cutter T",
          "Cutter T",
          "Cutter T",
          "Cutter T",
          null,
          "Cutter T",
          "Cutter T",
          "Cutter T",
          "Cutter T",
          null
         ]
        },
        {
         "connectgaps": false,
         "hoverinfo": "y+name",
         "line": {
          "color": "rgb(236,249,105)",
          "width": 10
         },
         "mode": "lines",
         "name": "unloading:Barge II",
         "type": "scatter",
         "x": [
          "1970-01-01T05:03:02",
          "1970-01-01T05:03:02",
          "1970-01-01T05:51:32",
          "1970-01-01T05:51:32",
          "1970-01-01T05:51:32",
          "1970-01-01T08:50:22",
          "1970-01-01T08:50:22",
          "1970-01-01T09:38:52",
          "1970-01-01T09:38:52",
          "1970-01-01T09:38:52",
          "1970-01-01T13:17:02",
          "1970-01-01T13:17:02",
          "1970-01-01T14:05:32",
          "1970-01-01T14:05:32",
          "1970-01-01T14:05:32"
         ],
         "y": [
          "Barge II",
          "Barge II",
          "Barge II",
          "Barge II",
          null,
          "Barge II",
          "Barge II",
          "Barge II",
          "Barge II",
          null,
          "Barge II",
          "Barge II",
          "Barge II",
          "Barge II",
          null
         ]
        },
        {
         "connectgaps": false,
         "hoverinfo": "y+name",
         "line": {
          "color": "rgb(243,0,112)",
          "width": 10
         },
         "mode": "lines",
         "name": "basic activity:Barge II",
         "type": "scatter",
         "x": [
          "1970-01-01T00:00:00",
          "1970-01-01T00:00:00",
          "1970-01-01T00:48:30",
          "1970-01-01T00:48:30",
          "1970-01-01T00:48:30",
          "1970-01-01T05:51:32",
          "1970-01-01T05:51:32",
          "1970-01-01T06:40:02",
          "1970-01-01T06:40:02",
          "1970-01-01T06:40:02",
          "1970-01-01T09:38:52",
          "1970-01-01T09:38:52",
          "1970-01-01T10:27:22",
          "1970-01-01T10:27:22",
          "1970-01-01T10:27:22"
         ],
         "y": [
          "Barge II",
          "Barge II",
          "Barge II",
          "Barge II",
          null,
          "Barge II",
          "Barge II",
          "Barge II",
          "Barge II",
          null,
          "Barge II",
          "Barge II",
          "Barge II",
          "Barge II",
          null
         ]
        },
        {
         "connectgaps": false,
         "hoverinfo": "y+name",
         "line": {
          "color": "rgb(250,7,119)",
          "width": 10
         },
         "mode": "lines",
         "name": "sailing full:Barge II",
         "type": "scatter",
         "x": [
          "1970-01-01T04:14:32",
          "1970-01-01T04:14:32",
          "1970-01-01T05:03:02",
          "1970-01-01T05:03:02",
          "1970-01-01T05:03:02",
          "1970-01-01T08:01:52",
          "1970-01-01T08:01:52",
          "1970-01-01T08:50:22",
          "1970-01-01T08:50:22",
          "1970-01-01T08:50:22",
          "1970-01-01T12:28:32",
          "1970-01-01T12:28:32",
          "1970-01-01T13:17:02",
          "1970-01-01T13:17:02",
          "1970-01-01T13:17:02"
         ],
         "y": [
          "Barge II",
          "Barge II",
          "Barge II",
          "Barge II",
          null,
          "Barge II",
          "Barge II",
          "Barge II",
          "Barge II",
          null,
          "Barge II",
          "Barge II",
          "Barge II",
          "Barge II",
          null
         ]
        },
        {
         "connectgaps": false,
         "hoverinfo": "y+name",
         "line": {
          "color": "rgb(1,14,126)",
          "width": 10
         },
         "mode": "lines",
         "name": "loading:Barge II",
         "type": "scatter",
         "x": [
          "1970-01-01T03:41:12",
          "1970-01-01T03:41:12",
          "1970-01-01T04:14:32",
          "1970-01-01T04:14:32",
          "1970-01-01T04:14:32",
          "1970-01-01T07:28:32",
          "1970-01-01T07:28:32",
          "1970-01-01T08:01:52",
          "1970-01-01T08:01:52",
          "1970-01-01T08:01:52",
          "1970-01-01T11:55:12",
          "1970-01-01T11:55:12",
          "1970-01-01T12:28:32",
          "1970-01-01T12:28:32",
          "1970-01-01T12:28:32",
          "1970-01-01T03:41:12",
          "1970-01-01T03:41:12",
          "1970-01-01T04:14:32",
          "1970-01-01T04:14:32",
          "1970-01-01T04:14:32",
          "1970-01-01T07:28:32",
          "1970-01-01T07:28:32",
          "1970-01-01T08:01:52",
          "1970-01-01T08:01:52",
          "1970-01-01T08:01:52",
          "1970-01-01T11:55:12",
          "1970-01-01T11:55:12",
          "1970-01-01T12:28:32",
          "1970-01-01T12:28:32",
          "1970-01-01T12:28:32"
         ],
         "y": [
          "Barge II",
          "Barge II",
          "Barge II",
          "Barge II",
          null,
          "Barge II",
          "Barge II",
          "Barge II",
          "Barge II",
          null,
          "Barge II",
          "Barge II",
          "Barge II",
          "Barge II",
          null,
          "Cutter T",
          "Cutter T",
          "Cutter T",
          "Cutter T",
          null,
          "Cutter T",
          "Cutter T",
          "Cutter T",
          "Cutter T",
          null,
          "Cutter T",
          "Cutter T",
          "Cutter T",
          "Cutter T",
          null
         ]
        },
        {
         "connectgaps": false,
         "hoverinfo": "y+name",
         "line": {
          "color": "rgb(8,21,133)",
          "width": 10
         },
         "mode": "lines",
         "name": "loading:Barge III",
         "type": "scatter",
         "x": [
          "1970-01-01T02:59:32",
          "1970-01-01T02:59:32",
          "1970-01-01T03:41:12",
          "1970-01-01T03:41:12",
          "1970-01-01T03:41:12",
          "1970-01-01T06:44:32",
          "1970-01-01T06:44:32",
          "1970-01-01T07:26:12",
          "1970-01-01T07:26:12",
          "1970-01-01T07:26:12",
          "1970-01-01T10:31:52",
          "1970-01-01T10:31:52",
          "1970-01-01T11:13:32",
          "1970-01-01T11:13:32",
          "1970-01-01T11:13:32",
          "1970-01-01T14:17:32",
          "1970-01-01T14:17:32",
          "1970-01-01T14:59:12",
          "1970-01-01T14:59:12",
          "1970-01-01T14:59:12",
          "1970-01-01T02:59:32",
          "1970-01-01T02:59:32",
          "1970-01-01T03:41:12",
          "1970-01-01T03:41:12",
          "1970-01-01T03:41:12",
          "1970-01-01T06:44:32",
          "1970-01-01T06:44:32",
          "1970-01-01T07:26:12",
          "1970-01-01T07:26:12",
          "1970-01-01T07:26:12",
          "1970-01-01T10:31:52",
          "1970-01-01T10:31:52",
          "1970-01-01T11:13:32",
          "1970-01-01T11:13:32",
          "1970-01-01T11:13:32",
          "1970-01-01T14:17:32",
          "1970-01-01T14:17:32",
          "1970-01-01T14:59:12",
          "1970-01-01T14:59:12",
          "1970-01-01T14:59:12"
         ],
         "y": [
          "Barge III",
          "Barge III",
          "Barge III",
          "Barge III",
          null,
          "Barge III",
          "Barge III",
          "Barge III",
          "Barge III",
          null,
          "Barge III",
          "Barge III",
          "Barge III",
          "Barge III",
          null,
          "Barge III",
          "Barge III",
          "Barge III",
          "Barge III",
          null,
          "Cutter T",
          "Cutter T",
          "Cutter T",
          "Cutter T",
          null,
          "Cutter T",
          "Cutter T",
          "Cutter T",
          "Cutter T",
          null,
          "Cutter T",
          "Cutter T",
          "Cutter T",
          "Cutter T",
          null,
          "Cutter T",
          "Cutter T",
          "Cutter T",
          "Cutter T",
          null
         ]
        },
        {
         "connectgaps": false,
         "hoverinfo": "y+name",
         "line": {
          "color": "rgb(15,28,140)",
          "width": 10
         },
         "mode": "lines",
         "name": "loading:Barge I",
         "type": "scatter",
         "x": [
          "1970-01-01T02:26:12",
          "1970-01-01T02:26:12",
          "1970-01-01T02:59:32",
          "1970-01-01T02:59:32",
          "1970-01-01T02:59:32",
          "1970-01-01T06:11:12",
          "1970-01-01T06:11:12",
          "1970-01-01T06:44:32",
          "1970-01-01T06:44:32",
          "1970-01-01T06:44:32",
          "1970-01-01T09:58:32",
          "1970-01-01T09:58:32",
          "1970-01-01T10:31:52",
          "1970-01-01T10:31:52",
          "1970-01-01T10:31:52",
          "1970-01-01T13:44:12",
          "1970-01-01T13:44:12",
          "1970-01-01T14:17:32",
          "1970-01-01T14:17:32",
          "1970-01-01T14:17:32",
          "1970-01-01T02:26:12",
          "1970-01-01T02:26:12",
          "1970-01-01T02:59:32",
          "1970-01-01T02:59:32",
          "1970-01-01T02:59:32",
          "1970-01-01T06:11:12",
          "1970-01-01T06:11:12",
          "1970-01-01T06:44:32",
          "1970-01-01T06:44:32",
          "1970-01-01T06:44:32",
          "1970-01-01T09:58:32",
          "1970-01-01T09:58:32",
          "1970-01-01T10:31:52",
          "1970-01-01T10:31:52",
          "1970-01-01T10:31:52",
          "1970-01-01T13:44:12",
          "1970-01-01T13:44:12",
          "1970-01-01T14:17:32",
          "1970-01-01T14:17:32",
          "1970-01-01T14:17:32"
         ],
         "y": [
          "Barge I",
          "Barge I",
          "Barge I",
          "Barge I",
          null,
          "Barge I",
          "Barge I",
          "Barge I",
          "Barge I",
          null,
          "Barge I",
          "Barge I",
          "Barge I",
          "Barge I",
          null,
          "Barge I",
          "Barge I",
          "Barge I",
          "Barge I",
          null,
          "Cutter T",
          "Cutter T",
          "Cutter T",
          "Cutter T",
          null,
          "Cutter T",
          "Cutter T",
          "Cutter T",
          "Cutter T",
          null,
          "Cutter T",
          "Cutter T",
          "Cutter T",
          "Cutter T",
          null,
          "Cutter T",
          "Cutter T",
          "Cutter T",
          "Cutter T",
          null
         ]
        },
        {
         "connectgaps": false,
         "hoverinfo": "y+name",
         "line": {
          "color": "rgb(22,35,147)",
          "width": 10
         },
         "mode": "lines",
         "name": "loading:Carrier B",
         "type": "scatter",
         "x": [
          "1970-01-01T01:52:52",
          "1970-01-01T01:52:52",
          "1970-01-01T02:26:12",
          "1970-01-01T02:26:12",
          "1970-01-01T02:26:12",
          "1970-01-01T05:37:52",
          "1970-01-01T05:37:52",
          "1970-01-01T06:11:12",
          "1970-01-01T06:11:12",
          "1970-01-01T06:11:12",
          "1970-01-01T09:25:12",
          "1970-01-01T09:25:12",
          "1970-01-01T09:58:32",
          "1970-01-01T09:58:32",
          "1970-01-01T09:58:32",
          "1970-01-01T12:29:12",
          "1970-01-01T12:29:12",
          "1970-01-01T13:02:32",
          "1970-01-01T13:02:32",
          "1970-01-01T13:02:32",
          "1970-01-01T01:52:52",
          "1970-01-01T01:52:52",
          "1970-01-01T02:26:12",
          "1970-01-01T02:26:12",
          "1970-01-01T02:26:12",
          "1970-01-01T05:37:52",
          "1970-01-01T05:37:52",
          "1970-01-01T06:11:12",
          "1970-01-01T06:11:12",
          "1970-01-01T06:11:12",
          "1970-01-01T09:25:12",
          "1970-01-01T09:25:12",
          "1970-01-01T09:58:32",
          "1970-01-01T09:58:32",
          "1970-01-01T09:58:32",
          "1970-01-01T12:29:12",
          "1970-01-01T12:29:12",
          "1970-01-01T13:02:32",
          "1970-01-01T13:02:32",
          "1970-01-01T13:02:32"
         ],
         "y": [
          "Carrier B",
          "Carrier B",
          "Carrier B",
          "Carrier B",
          null,
          "Carrier B",
          "Carrier B",
          "Carrier B",
          "Carrier B",
          null,
          "Carrier B",
          "Carrier B",
          "Carrier B",
          "Carrier B",
          null,
          "Carrier B",
          "Carrier B",
          "Carrier B",
          "Carrier B",
          null,
          "Cutter T",
          "Cutter T",
          "Cutter T",
          "Cutter T",
          null,
          "Cutter T",
          "Cutter T",
          "Cutter T",
          "Cutter T",
          null,
          "Cutter T",
          "Cutter T",
          "Cutter T",
          "Cutter T",
          null,
          "Cutter T",
          "Cutter T",
          "Cutter T",
          "Cutter T",
          null
         ]
        },
        {
         "connectgaps": false,
         "hoverinfo": "y+name",
         "line": {
          "color": "rgb(29,42,154)",
          "width": 10
         },
         "mode": "lines",
         "name": "loading:Carrier A",
         "type": "scatter",
         "x": [
          "1970-01-01T04:14:32",
          "1970-01-01T04:14:32",
          "1970-01-01T04:56:12",
          "1970-01-01T04:56:12",
          "1970-01-01T04:56:12",
          "1970-01-01T08:43:32",
          "1970-01-01T08:43:32",
          "1970-01-01T09:25:12",
          "1970-01-01T09:25:12",
          "1970-01-01T09:25:12",
          "1970-01-01T13:02:32",
          "1970-01-01T13:02:32",
          "1970-01-01T13:44:12",
          "1970-01-01T13:44:12",
          "1970-01-01T13:44:12",
          "1970-01-01T04:14:32",
          "1970-01-01T04:14:32",
          "1970-01-01T04:56:12",
          "1970-01-01T04:56:12",
          "1970-01-01T04:56:12",
          "1970-01-01T08:43:32",
          "1970-01-01T08:43:32",
          "1970-01-01T09:25:12",
          "1970-01-01T09:25:12",
          "1970-01-01T09:25:12",
          "1970-01-01T13:02:32",
          "1970-01-01T13:02:32",
          "1970-01-01T13:44:12",
          "1970-01-01T13:44:12",
          "1970-01-01T13:44:12"
         ],
         "y": [
          "Carrier A",
          "Carrier A",
          "Carrier A",
          "Carrier A",
          null,
          "Carrier A",
          "Carrier A",
          "Carrier A",
          "Carrier A",
          null,
          "Carrier A",
          "Carrier A",
          "Carrier A",
          "Carrier A",
          null,
          "Cutter T",
          "Cutter T",
          "Cutter T",
          "Cutter T",
          null,
          "Cutter T",
          "Cutter T",
          "Cutter T",
          "Cutter T",
          null,
          "Cutter T",
          "Cutter T",
          "Cutter T",
          "Cutter T",
          null
         ]
        },
        {
         "connectgaps": false,
         "hoverinfo": "y+name",
         "line": {
          "color": "rgb(36,49,161)",
          "width": 10
         },
         "mode": "lines",
         "name": "loading:Carrier C",
         "type": "scatter",
         "x": [
          "1970-01-01T01:11:12",
          "1970-01-01T01:11:12",
          "1970-01-01T01:52:52",
          "1970-01-01T01:52:52",
          "1970-01-01T01:52:52",
          "1970-01-01T04:56:12",
          "1970-01-01T04:56:12",
          "1970-01-01T05:37:52",
          "1970-01-01T05:37:52",
          "1970-01-01T05:37:52",
          "1970-01-01T08:01:52",
          "1970-01-01T08:01:52",
          "1970-01-01T08:43:32",
          "1970-01-01T08:43:32",
          "1970-01-01T08:43:32",
          "1970-01-01T11:13:32",
          "1970-01-01T11:13:32",
          "1970-01-01T11:55:12",
          "1970-01-01T11:55:12",
          "1970-01-01T11:55:12",
          "1970-01-01T14:59:12",
          "1970-01-01T14:59:12",
          "1970-01-01T15:40:52",
          "1970-01-01T15:40:52",
          "1970-01-01T15:40:52",
          "1970-01-01T01:11:12",
          "1970-01-01T01:11:12",
          "1970-01-01T01:52:52",
          "1970-01-01T01:52:52",
          "1970-01-01T01:52:52",
          "1970-01-01T04:56:12",
          "1970-01-01T04:56:12",
          "1970-01-01T05:37:52",
          "1970-01-01T05:37:52",
          "1970-01-01T05:37:52",
          "1970-01-01T08:01:52",
          "1970-01-01T08:01:52",
          "1970-01-01T08:43:32",
          "1970-01-01T08:43:32",
          "1970-01-01T08:43:32",
          "1970-01-01T11:13:32",
          "1970-01-01T11:13:32",
          "1970-01-01T11:55:12",
          "1970-01-01T11:55:12",
          "1970-01-01T11:55:12",
          "1970-01-01T14:59:12",
          "1970-01-01T14:59:12",
          "1970-01-01T15:40:52",
          "1970-01-01T15:40:52",
          "1970-01-01T15:40:52"
         ],
         "y": [
          "Carrier C",
          "Carrier C",
          "Carrier C",
          "Carrier C",
          null,
          "Carrier C",
          "Carrier C",
          "Carrier C",
          "Carrier C",
          null,
          "Carrier C",
          "Carrier C",
          "Carrier C",
          "Carrier C",
          null,
          "Carrier C",
          "Carrier C",
          "Carrier C",
          "Carrier C",
          null,
          "Carrier C",
          "Carrier C",
          "Carrier C",
          "Carrier C",
          null,
          "Cutter T",
          "Cutter T",
          "Cutter T",
          "Cutter T",
          null,
          "Cutter T",
          "Cutter T",
          "Cutter T",
          "Cutter T",
          null,
          "Cutter T",
          "Cutter T",
          "Cutter T",
          "Cutter T",
          null,
          "Cutter T",
          "Cutter T",
          "Cutter T",
          "Cutter T",
          null,
          "Cutter T",
          "Cutter T",
          "Cutter T",
          "Cutter T",
          null
         ]
        }
       ],
       "layout": {
        "hovermode": "closest",
        "legend": {
         "orientation": "h",
         "x": 0,
         "y": -0.2
        },
        "template": {
         "data": {
          "bar": [
           {
            "error_x": {
             "color": "#2a3f5f"
            },
            "error_y": {
             "color": "#2a3f5f"
            },
            "marker": {
             "line": {
              "color": "#E5ECF6",
              "width": 0.5
             },
             "pattern": {
              "fillmode": "overlay",
              "size": 10,
              "solidity": 0.2
             }
            },
            "type": "bar"
           }
          ],
          "barpolar": [
           {
            "marker": {
             "line": {
              "color": "#E5ECF6",
              "width": 0.5
             },
             "pattern": {
              "fillmode": "overlay",
              "size": 10,
              "solidity": 0.2
             }
            },
            "type": "barpolar"
           }
          ],
          "carpet": [
           {
            "aaxis": {
             "endlinecolor": "#2a3f5f",
             "gridcolor": "white",
             "linecolor": "white",
             "minorgridcolor": "white",
             "startlinecolor": "#2a3f5f"
            },
            "baxis": {
             "endlinecolor": "#2a3f5f",
             "gridcolor": "white",
             "linecolor": "white",
             "minorgridcolor": "white",
             "startlinecolor": "#2a3f5f"
            },
            "type": "carpet"
           }
          ],
          "choropleth": [
           {
            "colorbar": {
             "outlinewidth": 0,
             "ticks": ""
            },
            "type": "choropleth"
           }
          ],
          "contour": [
           {
            "colorbar": {
             "outlinewidth": 0,
             "ticks": ""
            },
            "colorscale": [
             [
              0,
              "#0d0887"
             ],
             [
              0.1111111111111111,
              "#46039f"
             ],
             [
              0.2222222222222222,
              "#7201a8"
             ],
             [
              0.3333333333333333,
              "#9c179e"
             ],
             [
              0.4444444444444444,
              "#bd3786"
             ],
             [
              0.5555555555555556,
              "#d8576b"
             ],
             [
              0.6666666666666666,
              "#ed7953"
             ],
             [
              0.7777777777777778,
              "#fb9f3a"
             ],
             [
              0.8888888888888888,
              "#fdca26"
             ],
             [
              1,
              "#f0f921"
             ]
            ],
            "type": "contour"
           }
          ],
          "contourcarpet": [
           {
            "colorbar": {
             "outlinewidth": 0,
             "ticks": ""
            },
            "type": "contourcarpet"
           }
          ],
          "heatmap": [
           {
            "colorbar": {
             "outlinewidth": 0,
             "ticks": ""
            },
            "colorscale": [
             [
              0,
              "#0d0887"
             ],
             [
              0.1111111111111111,
              "#46039f"
             ],
             [
              0.2222222222222222,
              "#7201a8"
             ],
             [
              0.3333333333333333,
              "#9c179e"
             ],
             [
              0.4444444444444444,
              "#bd3786"
             ],
             [
              0.5555555555555556,
              "#d8576b"
             ],
             [
              0.6666666666666666,
              "#ed7953"
             ],
             [
              0.7777777777777778,
              "#fb9f3a"
             ],
             [
              0.8888888888888888,
              "#fdca26"
             ],
             [
              1,
              "#f0f921"
             ]
            ],
            "type": "heatmap"
           }
          ],
          "heatmapgl": [
           {
            "colorbar": {
             "outlinewidth": 0,
             "ticks": ""
            },
            "colorscale": [
             [
              0,
              "#0d0887"
             ],
             [
              0.1111111111111111,
              "#46039f"
             ],
             [
              0.2222222222222222,
              "#7201a8"
             ],
             [
              0.3333333333333333,
              "#9c179e"
             ],
             [
              0.4444444444444444,
              "#bd3786"
             ],
             [
              0.5555555555555556,
              "#d8576b"
             ],
             [
              0.6666666666666666,
              "#ed7953"
             ],
             [
              0.7777777777777778,
              "#fb9f3a"
             ],
             [
              0.8888888888888888,
              "#fdca26"
             ],
             [
              1,
              "#f0f921"
             ]
            ],
            "type": "heatmapgl"
           }
          ],
          "histogram": [
           {
            "marker": {
             "pattern": {
              "fillmode": "overlay",
              "size": 10,
              "solidity": 0.2
             }
            },
            "type": "histogram"
           }
          ],
          "histogram2d": [
           {
            "colorbar": {
             "outlinewidth": 0,
             "ticks": ""
            },
            "colorscale": [
             [
              0,
              "#0d0887"
             ],
             [
              0.1111111111111111,
              "#46039f"
             ],
             [
              0.2222222222222222,
              "#7201a8"
             ],
             [
              0.3333333333333333,
              "#9c179e"
             ],
             [
              0.4444444444444444,
              "#bd3786"
             ],
             [
              0.5555555555555556,
              "#d8576b"
             ],
             [
              0.6666666666666666,
              "#ed7953"
             ],
             [
              0.7777777777777778,
              "#fb9f3a"
             ],
             [
              0.8888888888888888,
              "#fdca26"
             ],
             [
              1,
              "#f0f921"
             ]
            ],
            "type": "histogram2d"
           }
          ],
          "histogram2dcontour": [
           {
            "colorbar": {
             "outlinewidth": 0,
             "ticks": ""
            },
            "colorscale": [
             [
              0,
              "#0d0887"
             ],
             [
              0.1111111111111111,
              "#46039f"
             ],
             [
              0.2222222222222222,
              "#7201a8"
             ],
             [
              0.3333333333333333,
              "#9c179e"
             ],
             [
              0.4444444444444444,
              "#bd3786"
             ],
             [
              0.5555555555555556,
              "#d8576b"
             ],
             [
              0.6666666666666666,
              "#ed7953"
             ],
             [
              0.7777777777777778,
              "#fb9f3a"
             ],
             [
              0.8888888888888888,
              "#fdca26"
             ],
             [
              1,
              "#f0f921"
             ]
            ],
            "type": "histogram2dcontour"
           }
          ],
          "mesh3d": [
           {
            "colorbar": {
             "outlinewidth": 0,
             "ticks": ""
            },
            "type": "mesh3d"
           }
          ],
          "parcoords": [
           {
            "line": {
             "colorbar": {
              "outlinewidth": 0,
              "ticks": ""
             }
            },
            "type": "parcoords"
           }
          ],
          "pie": [
           {
            "automargin": true,
            "type": "pie"
           }
          ],
          "scatter": [
           {
            "fillpattern": {
             "fillmode": "overlay",
             "size": 10,
             "solidity": 0.2
            },
            "type": "scatter"
           }
          ],
          "scatter3d": [
           {
            "line": {
             "colorbar": {
              "outlinewidth": 0,
              "ticks": ""
             }
            },
            "marker": {
             "colorbar": {
              "outlinewidth": 0,
              "ticks": ""
             }
            },
            "type": "scatter3d"
           }
          ],
          "scattercarpet": [
           {
            "marker": {
             "colorbar": {
              "outlinewidth": 0,
              "ticks": ""
             }
            },
            "type": "scattercarpet"
           }
          ],
          "scattergeo": [
           {
            "marker": {
             "colorbar": {
              "outlinewidth": 0,
              "ticks": ""
             }
            },
            "type": "scattergeo"
           }
          ],
          "scattergl": [
           {
            "marker": {
             "colorbar": {
              "outlinewidth": 0,
              "ticks": ""
             }
            },
            "type": "scattergl"
           }
          ],
          "scattermapbox": [
           {
            "marker": {
             "colorbar": {
              "outlinewidth": 0,
              "ticks": ""
             }
            },
            "type": "scattermapbox"
           }
          ],
          "scatterpolar": [
           {
            "marker": {
             "colorbar": {
              "outlinewidth": 0,
              "ticks": ""
             }
            },
            "type": "scatterpolar"
           }
          ],
          "scatterpolargl": [
           {
            "marker": {
             "colorbar": {
              "outlinewidth": 0,
              "ticks": ""
             }
            },
            "type": "scatterpolargl"
           }
          ],
          "scatterternary": [
           {
            "marker": {
             "colorbar": {
              "outlinewidth": 0,
              "ticks": ""
             }
            },
            "type": "scatterternary"
           }
          ],
          "surface": [
           {
            "colorbar": {
             "outlinewidth": 0,
             "ticks": ""
            },
            "colorscale": [
             [
              0,
              "#0d0887"
             ],
             [
              0.1111111111111111,
              "#46039f"
             ],
             [
              0.2222222222222222,
              "#7201a8"
             ],
             [
              0.3333333333333333,
              "#9c179e"
             ],
             [
              0.4444444444444444,
              "#bd3786"
             ],
             [
              0.5555555555555556,
              "#d8576b"
             ],
             [
              0.6666666666666666,
              "#ed7953"
             ],
             [
              0.7777777777777778,
              "#fb9f3a"
             ],
             [
              0.8888888888888888,
              "#fdca26"
             ],
             [
              1,
              "#f0f921"
             ]
            ],
            "type": "surface"
           }
          ],
          "table": [
           {
            "cells": {
             "fill": {
              "color": "#EBF0F8"
             },
             "line": {
              "color": "white"
             }
            },
            "header": {
             "fill": {
              "color": "#C8D4E3"
             },
             "line": {
              "color": "white"
             }
            },
            "type": "table"
           }
          ]
         },
         "layout": {
          "annotationdefaults": {
           "arrowcolor": "#2a3f5f",
           "arrowhead": 0,
           "arrowwidth": 1
          },
          "autotypenumbers": "strict",
          "coloraxis": {
           "colorbar": {
            "outlinewidth": 0,
            "ticks": ""
           }
          },
          "colorscale": {
           "diverging": [
            [
             0,
             "#8e0152"
            ],
            [
             0.1,
             "#c51b7d"
            ],
            [
             0.2,
             "#de77ae"
            ],
            [
             0.3,
             "#f1b6da"
            ],
            [
             0.4,
             "#fde0ef"
            ],
            [
             0.5,
             "#f7f7f7"
            ],
            [
             0.6,
             "#e6f5d0"
            ],
            [
             0.7,
             "#b8e186"
            ],
            [
             0.8,
             "#7fbc41"
            ],
            [
             0.9,
             "#4d9221"
            ],
            [
             1,
             "#276419"
            ]
           ],
           "sequential": [
            [
             0,
             "#0d0887"
            ],
            [
             0.1111111111111111,
             "#46039f"
            ],
            [
             0.2222222222222222,
             "#7201a8"
            ],
            [
             0.3333333333333333,
             "#9c179e"
            ],
            [
             0.4444444444444444,
             "#bd3786"
            ],
            [
             0.5555555555555556,
             "#d8576b"
            ],
            [
             0.6666666666666666,
             "#ed7953"
            ],
            [
             0.7777777777777778,
             "#fb9f3a"
            ],
            [
             0.8888888888888888,
             "#fdca26"
            ],
            [
             1,
             "#f0f921"
            ]
           ],
           "sequentialminus": [
            [
             0,
             "#0d0887"
            ],
            [
             0.1111111111111111,
             "#46039f"
            ],
            [
             0.2222222222222222,
             "#7201a8"
            ],
            [
             0.3333333333333333,
             "#9c179e"
            ],
            [
             0.4444444444444444,
             "#bd3786"
            ],
            [
             0.5555555555555556,
             "#d8576b"
            ],
            [
             0.6666666666666666,
             "#ed7953"
            ],
            [
             0.7777777777777778,
             "#fb9f3a"
            ],
            [
             0.8888888888888888,
             "#fdca26"
            ],
            [
             1,
             "#f0f921"
            ]
           ]
          },
          "colorway": [
           "#636efa",
           "#EF553B",
           "#00cc96",
           "#ab63fa",
           "#FFA15A",
           "#19d3f3",
           "#FF6692",
           "#B6E880",
           "#FF97FF",
           "#FECB52"
          ],
          "font": {
           "color": "#2a3f5f"
          },
          "geo": {
           "bgcolor": "white",
           "lakecolor": "white",
           "landcolor": "#E5ECF6",
           "showlakes": true,
           "showland": true,
           "subunitcolor": "white"
          },
          "hoverlabel": {
           "align": "left"
          },
          "hovermode": "closest",
          "mapbox": {
           "style": "light"
          },
          "paper_bgcolor": "white",
          "plot_bgcolor": "#E5ECF6",
          "polar": {
           "angularaxis": {
            "gridcolor": "white",
            "linecolor": "white",
            "ticks": ""
           },
           "bgcolor": "#E5ECF6",
           "radialaxis": {
            "gridcolor": "white",
            "linecolor": "white",
            "ticks": ""
           }
          },
          "scene": {
           "xaxis": {
            "backgroundcolor": "#E5ECF6",
            "gridcolor": "white",
            "gridwidth": 2,
            "linecolor": "white",
            "showbackground": true,
            "ticks": "",
            "zerolinecolor": "white"
           },
           "yaxis": {
            "backgroundcolor": "#E5ECF6",
            "gridcolor": "white",
            "gridwidth": 2,
            "linecolor": "white",
            "showbackground": true,
            "ticks": "",
            "zerolinecolor": "white"
           },
           "zaxis": {
            "backgroundcolor": "#E5ECF6",
            "gridcolor": "white",
            "gridwidth": 2,
            "linecolor": "white",
            "showbackground": true,
            "ticks": "",
            "zerolinecolor": "white"
           }
          },
          "shapedefaults": {
           "line": {
            "color": "#2a3f5f"
           }
          },
          "ternary": {
           "aaxis": {
            "gridcolor": "white",
            "linecolor": "white",
            "ticks": ""
           },
           "baxis": {
            "gridcolor": "white",
            "linecolor": "white",
            "ticks": ""
           },
           "bgcolor": "#E5ECF6",
           "caxis": {
            "gridcolor": "white",
            "linecolor": "white",
            "ticks": ""
           }
          },
          "title": {
           "x": 0.05
          },
          "xaxis": {
           "automargin": true,
           "gridcolor": "white",
           "linecolor": "white",
           "ticks": "",
           "title": {
            "standoff": 15
           },
           "zerolinecolor": "white",
           "zerolinewidth": 2
          },
          "yaxis": {
           "automargin": true,
           "gridcolor": "white",
           "linecolor": "white",
           "ticks": "",
           "title": {
            "standoff": 15
           },
           "zerolinecolor": "white",
           "zerolinewidth": 2
          }
         }
        },
        "title": {
         "text": "GANTT Chart"
        },
        "xaxis": {
         "range": [
          "1970-01-01T00:00:00",
          "1970-01-01T16:52:04"
         ],
         "title": {
          "font": {
           "color": "#7f7f7f",
           "family": "Courier New, monospace",
           "size": 18
          },
          "text": "Time"
         }
        },
        "yaxis": {
         "title": {
          "font": {
           "color": "#7f7f7f",
           "family": "Courier New, monospace",
           "size": 18
          },
          "text": "Activities"
         }
        }
       }
      },
      "text/html": [
       "<div>                            <div id=\"eccbad3d-ae19-4f4b-8a85-79a6cb8b90a8\" class=\"plotly-graph-div\" style=\"height:525px; width:100%;\"></div>            <script type=\"text/javascript\">                require([\"plotly\"], function(Plotly) {                    window.PLOTLYENV=window.PLOTLYENV || {};                                    if (document.getElementById(\"eccbad3d-ae19-4f4b-8a85-79a6cb8b90a8\")) {                    Plotly.newPlot(                        \"eccbad3d-ae19-4f4b-8a85-79a6cb8b90a8\",                        [{\"connectgaps\":false,\"hoverinfo\":\"y+name\",\"line\":{\"color\":\"rgb(47,60,172)\",\"width\":10},\"mode\":\"lines\",\"name\":\"basic activity:Carrier C\",\"x\":[\"1970-01-01T00:00:00\",\"1970-01-01T00:00:00\",\"1970-01-01T00:35:36\",\"1970-01-01T00:35:36\",\"1970-01-01T00:35:36\",\"1970-01-01T03:04:04\",\"1970-01-01T03:04:04\",\"1970-01-01T03:39:40\",\"1970-01-01T03:39:40\",\"1970-01-01T03:39:40\",\"1970-01-01T06:49:04\",\"1970-01-01T06:49:04\",\"1970-01-01T07:24:40\",\"1970-01-01T07:24:40\",\"1970-01-01T07:24:40\",\"1970-01-01T09:54:44\",\"1970-01-01T09:54:44\",\"1970-01-01T10:30:20\",\"1970-01-01T10:30:20\",\"1970-01-01T10:30:20\",\"1970-01-01T13:06:24\",\"1970-01-01T13:06:24\",\"1970-01-01T13:42:00\",\"1970-01-01T13:42:00\",\"1970-01-01T13:42:00\"],\"y\":[\"Carrier C\",\"Carrier C\",\"Carrier C\",\"Carrier C\",null,\"Carrier C\",\"Carrier C\",\"Carrier C\",\"Carrier C\",null,\"Carrier C\",\"Carrier C\",\"Carrier C\",\"Carrier C\",null,\"Carrier C\",\"Carrier C\",\"Carrier C\",\"Carrier C\",null,\"Carrier C\",\"Carrier C\",\"Carrier C\",\"Carrier C\",null],\"type\":\"scatter\"},{\"connectgaps\":false,\"hoverinfo\":\"y+name\",\"line\":{\"color\":\"rgb(54,67,179)\",\"width\":10},\"mode\":\"lines\",\"name\":\"unloading:Carrier C\",\"x\":[\"1970-01-01T02:28:28\",\"1970-01-01T02:28:28\",\"1970-01-01T03:04:04\",\"1970-01-01T03:04:04\",\"1970-01-01T03:04:04\",\"1970-01-01T06:13:28\",\"1970-01-01T06:13:28\",\"1970-01-01T06:49:04\",\"1970-01-01T06:49:04\",\"1970-01-01T06:49:04\",\"1970-01-01T09:19:08\",\"1970-01-01T09:19:08\",\"1970-01-01T09:54:44\",\"1970-01-01T09:54:44\",\"1970-01-01T09:54:44\",\"1970-01-01T12:30:48\",\"1970-01-01T12:30:48\",\"1970-01-01T13:06:24\",\"1970-01-01T13:06:24\",\"1970-01-01T13:06:24\",\"1970-01-01T16:16:28\",\"1970-01-01T16:16:28\",\"1970-01-01T16:52:04\",\"1970-01-01T16:52:04\",\"1970-01-01T16:52:04\"],\"y\":[\"Carrier C\",\"Carrier C\",\"Carrier C\",\"Carrier C\",null,\"Carrier C\",\"Carrier C\",\"Carrier C\",\"Carrier C\",null,\"Carrier C\",\"Carrier C\",\"Carrier C\",\"Carrier C\",null,\"Carrier C\",\"Carrier C\",\"Carrier C\",\"Carrier C\",null,\"Carrier C\",\"Carrier C\",\"Carrier C\",\"Carrier C\",null],\"type\":\"scatter\"},{\"connectgaps\":false,\"hoverinfo\":\"y+name\",\"line\":{\"color\":\"rgb(61,74,186)\",\"width\":10},\"mode\":\"lines\",\"name\":\"sailing full:Carrier C\",\"x\":[\"1970-01-01T01:52:52\",\"1970-01-01T01:52:52\",\"1970-01-01T02:28:28\",\"1970-01-01T02:28:28\",\"1970-01-01T02:28:28\",\"1970-01-01T05:37:52\",\"1970-01-01T05:37:52\",\"1970-01-01T06:13:28\",\"1970-01-01T06:13:28\",\"1970-01-01T06:13:28\",\"1970-01-01T08:43:32\",\"1970-01-01T08:43:32\",\"1970-01-01T09:19:08\",\"1970-01-01T09:19:08\",\"1970-01-01T09:19:08\",\"1970-01-01T11:55:12\",\"1970-01-01T11:55:12\",\"1970-01-01T12:30:48\",\"1970-01-01T12:30:48\",\"1970-01-01T12:30:48\",\"1970-01-01T15:40:52\",\"1970-01-01T15:40:52\",\"1970-01-01T16:16:28\",\"1970-01-01T16:16:28\",\"1970-01-01T16:16:28\"],\"y\":[\"Carrier C\",\"Carrier C\",\"Carrier C\",\"Carrier C\",null,\"Carrier C\",\"Carrier C\",\"Carrier C\",\"Carrier C\",null,\"Carrier C\",\"Carrier C\",\"Carrier C\",\"Carrier C\",null,\"Carrier C\",\"Carrier C\",\"Carrier C\",\"Carrier C\",null,\"Carrier C\",\"Carrier C\",\"Carrier C\",\"Carrier C\",null],\"type\":\"scatter\"},{\"connectgaps\":false,\"hoverinfo\":\"y+name\",\"line\":{\"color\":\"rgb(68,81,193)\",\"width\":10},\"mode\":\"lines\",\"name\":\"sailing empty:Carrier C\",\"x\":[\"1970-01-01T00:35:36\",\"1970-01-01T00:35:36\",\"1970-01-01T01:11:12\",\"1970-01-01T01:11:12\",\"1970-01-01T01:11:12\",\"1970-01-01T03:39:40\",\"1970-01-01T03:39:40\",\"1970-01-01T04:15:16\",\"1970-01-01T04:15:16\",\"1970-01-01T04:15:16\",\"1970-01-01T07:24:40\",\"1970-01-01T07:24:40\",\"1970-01-01T08:00:16\",\"1970-01-01T08:00:16\",\"1970-01-01T08:00:16\",\"1970-01-01T10:30:20\",\"1970-01-01T10:30:20\",\"1970-01-01T11:05:56\",\"1970-01-01T11:05:56\",\"1970-01-01T11:05:56\",\"1970-01-01T13:42:00\",\"1970-01-01T13:42:00\",\"1970-01-01T14:17:36\",\"1970-01-01T14:17:36\",\"1970-01-01T14:17:36\"],\"y\":[\"Carrier C\",\"Carrier C\",\"Carrier C\",\"Carrier C\",null,\"Carrier C\",\"Carrier C\",\"Carrier C\",\"Carrier C\",null,\"Carrier C\",\"Carrier C\",\"Carrier C\",\"Carrier C\",null,\"Carrier C\",\"Carrier C\",\"Carrier C\",\"Carrier C\",null,\"Carrier C\",\"Carrier C\",\"Carrier C\",\"Carrier C\",null],\"type\":\"scatter\"},{\"connectgaps\":false,\"hoverinfo\":\"y+name\",\"line\":{\"color\":\"rgb(75,88,200)\",\"width\":10},\"mode\":\"lines\",\"name\":\"loading:Carrier C\",\"x\":[\"1970-01-01T01:11:12\",\"1970-01-01T01:11:12\",\"1970-01-01T01:52:52\",\"1970-01-01T01:52:52\",\"1970-01-01T01:52:52\",\"1970-01-01T04:56:12\",\"1970-01-01T04:56:12\",\"1970-01-01T05:37:52\",\"1970-01-01T05:37:52\",\"1970-01-01T05:37:52\",\"1970-01-01T08:01:52\",\"1970-01-01T08:01:52\",\"1970-01-01T08:43:32\",\"1970-01-01T08:43:32\",\"1970-01-01T08:43:32\",\"1970-01-01T11:13:32\",\"1970-01-01T11:13:32\",\"1970-01-01T11:55:12\",\"1970-01-01T11:55:12\",\"1970-01-01T11:55:12\",\"1970-01-01T14:59:12\",\"1970-01-01T14:59:12\",\"1970-01-01T15:40:52\",\"1970-01-01T15:40:52\",\"1970-01-01T15:40:52\",\"1970-01-01T01:11:12\",\"1970-01-01T01:11:12\",\"1970-01-01T01:52:52\",\"1970-01-01T01:52:52\",\"1970-01-01T01:52:52\",\"1970-01-01T04:56:12\",\"1970-01-01T04:56:12\",\"1970-01-01T05:37:52\",\"1970-01-01T05:37:52\",\"1970-01-01T05:37:52\",\"1970-01-01T08:01:52\",\"1970-01-01T08:01:52\",\"1970-01-01T08:43:32\",\"1970-01-01T08:43:32\",\"1970-01-01T08:43:32\",\"1970-01-01T11:13:32\",\"1970-01-01T11:13:32\",\"1970-01-01T11:55:12\",\"1970-01-01T11:55:12\",\"1970-01-01T11:55:12\",\"1970-01-01T14:59:12\",\"1970-01-01T14:59:12\",\"1970-01-01T15:40:52\",\"1970-01-01T15:40:52\",\"1970-01-01T15:40:52\"],\"y\":[\"Carrier C\",\"Carrier C\",\"Carrier C\",\"Carrier C\",null,\"Carrier C\",\"Carrier C\",\"Carrier C\",\"Carrier C\",null,\"Carrier C\",\"Carrier C\",\"Carrier C\",\"Carrier C\",null,\"Carrier C\",\"Carrier C\",\"Carrier C\",\"Carrier C\",null,\"Carrier C\",\"Carrier C\",\"Carrier C\",\"Carrier C\",null,\"Cutter T\",\"Cutter T\",\"Cutter T\",\"Cutter T\",null,\"Cutter T\",\"Cutter T\",\"Cutter T\",\"Cutter T\",null,\"Cutter T\",\"Cutter T\",\"Cutter T\",\"Cutter T\",null,\"Cutter T\",\"Cutter T\",\"Cutter T\",\"Cutter T\",null,\"Cutter T\",\"Cutter T\",\"Cutter T\",\"Cutter T\",null],\"type\":\"scatter\"},{\"connectgaps\":false,\"hoverinfo\":\"y+name\",\"line\":{\"color\":\"rgb(82,95,207)\",\"width\":10},\"mode\":\"lines\",\"name\":\"basic activity:Barge III\",\"x\":[\"1970-01-01T00:00:00\",\"1970-01-01T00:00:00\",\"1970-01-01T00:39:13\",\"1970-01-01T00:39:13\",\"1970-01-01T00:39:13\",\"1970-01-01T04:59:38\",\"1970-01-01T04:59:38\",\"1970-01-01T05:38:51\",\"1970-01-01T05:38:51\",\"1970-01-01T05:38:51\",\"1970-01-01T08:44:38\",\"1970-01-01T08:44:38\",\"1970-01-01T09:23:51\",\"1970-01-01T09:23:51\",\"1970-01-01T09:23:51\",\"1970-01-01T12:31:58\",\"1970-01-01T12:31:58\",\"1970-01-01T13:11:11\",\"1970-01-01T13:11:11\",\"1970-01-01T13:11:11\"],\"y\":[\"Barge III\",\"Barge III\",\"Barge III\",\"Barge III\",null,\"Barge III\",\"Barge III\",\"Barge III\",\"Barge III\",null,\"Barge III\",\"Barge III\",\"Barge III\",\"Barge III\",null,\"Barge III\",\"Barge III\",\"Barge III\",\"Barge III\",null],\"type\":\"scatter\"},{\"connectgaps\":false,\"hoverinfo\":\"y+name\",\"line\":{\"color\":\"rgb(89,102,214)\",\"width\":10},\"mode\":\"lines\",\"name\":\"loading:Barge III\",\"x\":[\"1970-01-01T02:59:32\",\"1970-01-01T02:59:32\",\"1970-01-01T03:41:12\",\"1970-01-01T03:41:12\",\"1970-01-01T03:41:12\",\"1970-01-01T06:44:32\",\"1970-01-01T06:44:32\",\"1970-01-01T07:26:12\",\"1970-01-01T07:26:12\",\"1970-01-01T07:26:12\",\"1970-01-01T10:31:52\",\"1970-01-01T10:31:52\",\"1970-01-01T11:13:32\",\"1970-01-01T11:13:32\",\"1970-01-01T11:13:32\",\"1970-01-01T14:17:32\",\"1970-01-01T14:17:32\",\"1970-01-01T14:59:12\",\"1970-01-01T14:59:12\",\"1970-01-01T14:59:12\",\"1970-01-01T02:59:32\",\"1970-01-01T02:59:32\",\"1970-01-01T03:41:12\",\"1970-01-01T03:41:12\",\"1970-01-01T03:41:12\",\"1970-01-01T06:44:32\",\"1970-01-01T06:44:32\",\"1970-01-01T07:26:12\",\"1970-01-01T07:26:12\",\"1970-01-01T07:26:12\",\"1970-01-01T10:31:52\",\"1970-01-01T10:31:52\",\"1970-01-01T11:13:32\",\"1970-01-01T11:13:32\",\"1970-01-01T11:13:32\",\"1970-01-01T14:17:32\",\"1970-01-01T14:17:32\",\"1970-01-01T14:59:12\",\"1970-01-01T14:59:12\",\"1970-01-01T14:59:12\"],\"y\":[\"Barge III\",\"Barge III\",\"Barge III\",\"Barge III\",null,\"Barge III\",\"Barge III\",\"Barge III\",\"Barge III\",null,\"Barge III\",\"Barge III\",\"Barge III\",\"Barge III\",null,\"Barge III\",\"Barge III\",\"Barge III\",\"Barge III\",null,\"Cutter T\",\"Cutter T\",\"Cutter T\",\"Cutter T\",null,\"Cutter T\",\"Cutter T\",\"Cutter T\",\"Cutter T\",null,\"Cutter T\",\"Cutter T\",\"Cutter T\",\"Cutter T\",null,\"Cutter T\",\"Cutter T\",\"Cutter T\",\"Cutter T\",null],\"type\":\"scatter\"},{\"connectgaps\":false,\"hoverinfo\":\"y+name\",\"line\":{\"color\":\"rgb(96,109,221)\",\"width\":10},\"mode\":\"lines\",\"name\":\"sailing full:Barge III\",\"x\":[\"1970-01-01T03:41:12\",\"1970-01-01T03:41:12\",\"1970-01-01T04:20:25\",\"1970-01-01T04:20:25\",\"1970-01-01T04:20:25\",\"1970-01-01T07:26:12\",\"1970-01-01T07:26:12\",\"1970-01-01T08:05:25\",\"1970-01-01T08:05:25\",\"1970-01-01T08:05:25\",\"1970-01-01T11:13:32\",\"1970-01-01T11:13:32\",\"1970-01-01T11:52:45\",\"1970-01-01T11:52:45\",\"1970-01-01T11:52:45\",\"1970-01-01T14:59:12\",\"1970-01-01T14:59:12\",\"1970-01-01T15:38:25\",\"1970-01-01T15:38:25\",\"1970-01-01T15:38:25\"],\"y\":[\"Barge III\",\"Barge III\",\"Barge III\",\"Barge III\",null,\"Barge III\",\"Barge III\",\"Barge III\",\"Barge III\",null,\"Barge III\",\"Barge III\",\"Barge III\",\"Barge III\",null,\"Barge III\",\"Barge III\",\"Barge III\",\"Barge III\",null],\"type\":\"scatter\"},{\"connectgaps\":false,\"hoverinfo\":\"y+name\",\"line\":{\"color\":\"rgb(103,116,228)\",\"width\":10},\"mode\":\"lines\",\"name\":\"sailing empty:Barge III\",\"x\":[\"1970-01-01T00:39:13\",\"1970-01-01T00:39:13\",\"1970-01-01T01:18:26\",\"1970-01-01T01:18:26\",\"1970-01-01T01:18:26\",\"1970-01-01T05:38:51\",\"1970-01-01T05:38:51\",\"1970-01-01T06:18:04\",\"1970-01-01T06:18:04\",\"1970-01-01T06:18:04\",\"1970-01-01T09:23:51\",\"1970-01-01T09:23:51\",\"1970-01-01T10:03:04\",\"1970-01-01T10:03:04\",\"1970-01-01T10:03:04\",\"1970-01-01T13:11:11\",\"1970-01-01T13:11:11\",\"1970-01-01T13:50:24\",\"1970-01-01T13:50:24\",\"1970-01-01T13:50:24\"],\"y\":[\"Barge III\",\"Barge III\",\"Barge III\",\"Barge III\",null,\"Barge III\",\"Barge III\",\"Barge III\",\"Barge III\",null,\"Barge III\",\"Barge III\",\"Barge III\",\"Barge III\",null,\"Barge III\",\"Barge III\",\"Barge III\",\"Barge III\",null],\"type\":\"scatter\"},{\"connectgaps\":false,\"hoverinfo\":\"y+name\",\"line\":{\"color\":\"rgb(110,123,235)\",\"width\":10},\"mode\":\"lines\",\"name\":\"unloading:Barge III\",\"x\":[\"1970-01-01T04:20:25\",\"1970-01-01T04:20:25\",\"1970-01-01T04:59:38\",\"1970-01-01T04:59:38\",\"1970-01-01T04:59:38\",\"1970-01-01T08:05:25\",\"1970-01-01T08:05:25\",\"1970-01-01T08:44:38\",\"1970-01-01T08:44:38\",\"1970-01-01T08:44:38\",\"1970-01-01T11:52:45\",\"1970-01-01T11:52:45\",\"1970-01-01T12:31:58\",\"1970-01-01T12:31:58\",\"1970-01-01T12:31:58\",\"1970-01-01T15:38:25\",\"1970-01-01T15:38:25\",\"1970-01-01T16:17:38\",\"1970-01-01T16:17:38\",\"1970-01-01T16:17:38\"],\"y\":[\"Barge III\",\"Barge III\",\"Barge III\",\"Barge III\",null,\"Barge III\",\"Barge III\",\"Barge III\",\"Barge III\",null,\"Barge III\",\"Barge III\",\"Barge III\",\"Barge III\",null,\"Barge III\",\"Barge III\",\"Barge III\",\"Barge III\",null],\"type\":\"scatter\"},{\"connectgaps\":false,\"hoverinfo\":\"y+name\",\"line\":{\"color\":\"rgb(117,130,242)\",\"width\":10},\"mode\":\"lines\",\"name\":\"basic activity:Carrier A\",\"x\":[\"1970-01-01T00:00:00\",\"1970-01-01T00:00:00\",\"1970-01-01T00:49:41\",\"1970-01-01T00:49:41\",\"1970-01-01T00:49:41\",\"1970-01-01T06:35:34\",\"1970-01-01T06:35:34\",\"1970-01-01T07:25:15\",\"1970-01-01T07:25:15\",\"1970-01-01T07:25:15\",\"1970-01-01T11:04:34\",\"1970-01-01T11:04:34\",\"1970-01-01T11:54:15\",\"1970-01-01T11:54:15\",\"1970-01-01T11:54:15\"],\"y\":[\"Carrier A\",\"Carrier A\",\"Carrier A\",\"Carrier A\",null,\"Carrier A\",\"Carrier A\",\"Carrier A\",\"Carrier A\",null,\"Carrier A\",\"Carrier A\",\"Carrier A\",\"Carrier A\",null],\"type\":\"scatter\"},{\"connectgaps\":false,\"hoverinfo\":\"y+name\",\"line\":{\"color\":\"rgb(124,137,249)\",\"width\":10},\"mode\":\"lines\",\"name\":\"sailing empty:Carrier A\",\"x\":[\"1970-01-01T00:49:41\",\"1970-01-01T00:49:41\",\"1970-01-01T01:39:22\",\"1970-01-01T01:39:22\",\"1970-01-01T01:39:22\",\"1970-01-01T07:25:15\",\"1970-01-01T07:25:15\",\"1970-01-01T08:14:56\",\"1970-01-01T08:14:56\",\"1970-01-01T08:14:56\",\"1970-01-01T11:54:15\",\"1970-01-01T11:54:15\",\"1970-01-01T12:43:56\",\"1970-01-01T12:43:56\",\"1970-01-01T12:43:56\"],\"y\":[\"Carrier A\",\"Carrier A\",\"Carrier A\",\"Carrier A\",null,\"Carrier A\",\"Carrier A\",\"Carrier A\",\"Carrier A\",null,\"Carrier A\",\"Carrier A\",\"Carrier A\",\"Carrier A\",null],\"type\":\"scatter\"},{\"connectgaps\":false,\"hoverinfo\":\"y+name\",\"line\":{\"color\":\"rgb(131,144,0)\",\"width\":10},\"mode\":\"lines\",\"name\":\"sailing full:Carrier A\",\"x\":[\"1970-01-01T04:56:12\",\"1970-01-01T04:56:12\",\"1970-01-01T05:45:53\",\"1970-01-01T05:45:53\",\"1970-01-01T05:45:53\",\"1970-01-01T09:25:12\",\"1970-01-01T09:25:12\",\"1970-01-01T10:14:53\",\"1970-01-01T10:14:53\",\"1970-01-01T10:14:53\",\"1970-01-01T13:44:12\",\"1970-01-01T13:44:12\",\"1970-01-01T14:33:53\",\"1970-01-01T14:33:53\",\"1970-01-01T14:33:53\"],\"y\":[\"Carrier A\",\"Carrier A\",\"Carrier A\",\"Carrier A\",null,\"Carrier A\",\"Carrier A\",\"Carrier A\",\"Carrier A\",null,\"Carrier A\",\"Carrier A\",\"Carrier A\",\"Carrier A\",null],\"type\":\"scatter\"},{\"connectgaps\":false,\"hoverinfo\":\"y+name\",\"line\":{\"color\":\"rgb(138,151,7)\",\"width\":10},\"mode\":\"lines\",\"name\":\"loading:Carrier A\",\"x\":[\"1970-01-01T04:14:32\",\"1970-01-01T04:14:32\",\"1970-01-01T04:56:12\",\"1970-01-01T04:56:12\",\"1970-01-01T04:56:12\",\"1970-01-01T08:43:32\",\"1970-01-01T08:43:32\",\"1970-01-01T09:25:12\",\"1970-01-01T09:25:12\",\"1970-01-01T09:25:12\",\"1970-01-01T13:02:32\",\"1970-01-01T13:02:32\",\"1970-01-01T13:44:12\",\"1970-01-01T13:44:12\",\"1970-01-01T13:44:12\",\"1970-01-01T04:14:32\",\"1970-01-01T04:14:32\",\"1970-01-01T04:56:12\",\"1970-01-01T04:56:12\",\"1970-01-01T04:56:12\",\"1970-01-01T08:43:32\",\"1970-01-01T08:43:32\",\"1970-01-01T09:25:12\",\"1970-01-01T09:25:12\",\"1970-01-01T09:25:12\",\"1970-01-01T13:02:32\",\"1970-01-01T13:02:32\",\"1970-01-01T13:44:12\",\"1970-01-01T13:44:12\",\"1970-01-01T13:44:12\"],\"y\":[\"Carrier A\",\"Carrier A\",\"Carrier A\",\"Carrier A\",null,\"Carrier A\",\"Carrier A\",\"Carrier A\",\"Carrier A\",null,\"Carrier A\",\"Carrier A\",\"Carrier A\",\"Carrier A\",null,\"Cutter T\",\"Cutter T\",\"Cutter T\",\"Cutter T\",null,\"Cutter T\",\"Cutter T\",\"Cutter T\",\"Cutter T\",null,\"Cutter T\",\"Cutter T\",\"Cutter T\",\"Cutter T\",null],\"type\":\"scatter\"},{\"connectgaps\":false,\"hoverinfo\":\"y+name\",\"line\":{\"color\":\"rgb(145,158,14)\",\"width\":10},\"mode\":\"lines\",\"name\":\"unloading:Carrier A\",\"x\":[\"1970-01-01T05:45:53\",\"1970-01-01T05:45:53\",\"1970-01-01T06:35:34\",\"1970-01-01T06:35:34\",\"1970-01-01T06:35:34\",\"1970-01-01T10:14:53\",\"1970-01-01T10:14:53\",\"1970-01-01T11:04:34\",\"1970-01-01T11:04:34\",\"1970-01-01T11:04:34\",\"1970-01-01T14:33:53\",\"1970-01-01T14:33:53\",\"1970-01-01T15:23:34\",\"1970-01-01T15:23:34\",\"1970-01-01T15:23:34\"],\"y\":[\"Carrier A\",\"Carrier A\",\"Carrier A\",\"Carrier A\",null,\"Carrier A\",\"Carrier A\",\"Carrier A\",\"Carrier A\",null,\"Carrier A\",\"Carrier A\",\"Carrier A\",\"Carrier A\",null],\"type\":\"scatter\"},{\"connectgaps\":false,\"hoverinfo\":\"y+name\",\"line\":{\"color\":\"rgb(152,165,21)\",\"width\":10},\"mode\":\"lines\",\"name\":\"loading:Barge I\",\"x\":[\"1970-01-01T02:26:12\",\"1970-01-01T02:26:12\",\"1970-01-01T02:59:32\",\"1970-01-01T02:59:32\",\"1970-01-01T02:59:32\",\"1970-01-01T06:11:12\",\"1970-01-01T06:11:12\",\"1970-01-01T06:44:32\",\"1970-01-01T06:44:32\",\"1970-01-01T06:44:32\",\"1970-01-01T09:58:32\",\"1970-01-01T09:58:32\",\"1970-01-01T10:31:52\",\"1970-01-01T10:31:52\",\"1970-01-01T10:31:52\",\"1970-01-01T13:44:12\",\"1970-01-01T13:44:12\",\"1970-01-01T14:17:32\",\"1970-01-01T14:17:32\",\"1970-01-01T14:17:32\",\"1970-01-01T02:26:12\",\"1970-01-01T02:26:12\",\"1970-01-01T02:59:32\",\"1970-01-01T02:59:32\",\"1970-01-01T02:59:32\",\"1970-01-01T06:11:12\",\"1970-01-01T06:11:12\",\"1970-01-01T06:44:32\",\"1970-01-01T06:44:32\",\"1970-01-01T06:44:32\",\"1970-01-01T09:58:32\",\"1970-01-01T09:58:32\",\"1970-01-01T10:31:52\",\"1970-01-01T10:31:52\",\"1970-01-01T10:31:52\",\"1970-01-01T13:44:12\",\"1970-01-01T13:44:12\",\"1970-01-01T14:17:32\",\"1970-01-01T14:17:32\",\"1970-01-01T14:17:32\"],\"y\":[\"Barge I\",\"Barge I\",\"Barge I\",\"Barge I\",null,\"Barge I\",\"Barge I\",\"Barge I\",\"Barge I\",null,\"Barge I\",\"Barge I\",\"Barge I\",\"Barge I\",null,\"Barge I\",\"Barge I\",\"Barge I\",\"Barge I\",null,\"Cutter T\",\"Cutter T\",\"Cutter T\",\"Cutter T\",null,\"Cutter T\",\"Cutter T\",\"Cutter T\",\"Cutter T\",null,\"Cutter T\",\"Cutter T\",\"Cutter T\",\"Cutter T\",null,\"Cutter T\",\"Cutter T\",\"Cutter T\",\"Cutter T\",null],\"type\":\"scatter\"},{\"connectgaps\":false,\"hoverinfo\":\"y+name\",\"line\":{\"color\":\"rgb(159,172,28)\",\"width\":10},\"mode\":\"lines\",\"name\":\"unloading:Barge I\",\"x\":[\"1970-01-01T03:38:15\",\"1970-01-01T03:38:15\",\"1970-01-01T04:16:58\",\"1970-01-01T04:16:58\",\"1970-01-01T04:16:58\",\"1970-01-01T07:23:15\",\"1970-01-01T07:23:15\",\"1970-01-01T08:01:58\",\"1970-01-01T08:01:58\",\"1970-01-01T08:01:58\",\"1970-01-01T11:10:35\",\"1970-01-01T11:10:35\",\"1970-01-01T11:49:18\",\"1970-01-01T11:49:18\",\"1970-01-01T11:49:18\",\"1970-01-01T14:56:15\",\"1970-01-01T14:56:15\",\"1970-01-01T15:34:58\",\"1970-01-01T15:34:58\",\"1970-01-01T15:34:58\"],\"y\":[\"Barge I\",\"Barge I\",\"Barge I\",\"Barge I\",null,\"Barge I\",\"Barge I\",\"Barge I\",\"Barge I\",null,\"Barge I\",\"Barge I\",\"Barge I\",\"Barge I\",null,\"Barge I\",\"Barge I\",\"Barge I\",\"Barge I\",null],\"type\":\"scatter\"},{\"connectgaps\":false,\"hoverinfo\":\"y+name\",\"line\":{\"color\":\"rgb(166,179,35)\",\"width\":10},\"mode\":\"lines\",\"name\":\"sailing full:Barge I\",\"x\":[\"1970-01-01T02:59:32\",\"1970-01-01T02:59:32\",\"1970-01-01T03:38:15\",\"1970-01-01T03:38:15\",\"1970-01-01T03:38:15\",\"1970-01-01T06:44:32\",\"1970-01-01T06:44:32\",\"1970-01-01T07:23:15\",\"1970-01-01T07:23:15\",\"1970-01-01T07:23:15\",\"1970-01-01T10:31:52\",\"1970-01-01T10:31:52\",\"1970-01-01T11:10:35\",\"1970-01-01T11:10:35\",\"1970-01-01T11:10:35\",\"1970-01-01T14:17:32\",\"1970-01-01T14:17:32\",\"1970-01-01T14:56:15\",\"1970-01-01T14:56:15\",\"1970-01-01T14:56:15\"],\"y\":[\"Barge I\",\"Barge I\",\"Barge I\",\"Barge I\",null,\"Barge I\",\"Barge I\",\"Barge I\",\"Barge I\",null,\"Barge I\",\"Barge I\",\"Barge I\",\"Barge I\",null,\"Barge I\",\"Barge I\",\"Barge I\",\"Barge I\",null],\"type\":\"scatter\"},{\"connectgaps\":false,\"hoverinfo\":\"y+name\",\"line\":{\"color\":\"rgb(173,186,42)\",\"width\":10},\"mode\":\"lines\",\"name\":\"basic activity:Barge I\",\"x\":[\"1970-01-01T00:00:00\",\"1970-01-01T00:00:00\",\"1970-01-01T00:38:43\",\"1970-01-01T00:38:43\",\"1970-01-01T00:38:43\",\"1970-01-01T04:16:58\",\"1970-01-01T04:16:58\",\"1970-01-01T04:55:41\",\"1970-01-01T04:55:41\",\"1970-01-01T04:55:41\",\"1970-01-01T08:01:58\",\"1970-01-01T08:01:58\",\"1970-01-01T08:40:41\",\"1970-01-01T08:40:41\",\"1970-01-01T08:40:41\",\"1970-01-01T11:49:18\",\"1970-01-01T11:49:18\",\"1970-01-01T12:28:01\",\"1970-01-01T12:28:01\",\"1970-01-01T12:28:01\"],\"y\":[\"Barge I\",\"Barge I\",\"Barge I\",\"Barge I\",null,\"Barge I\",\"Barge I\",\"Barge I\",\"Barge I\",null,\"Barge I\",\"Barge I\",\"Barge I\",\"Barge I\",null,\"Barge I\",\"Barge I\",\"Barge I\",\"Barge I\",null],\"type\":\"scatter\"},{\"connectgaps\":false,\"hoverinfo\":\"y+name\",\"line\":{\"color\":\"rgb(180,193,49)\",\"width\":10},\"mode\":\"lines\",\"name\":\"sailing empty:Barge I\",\"x\":[\"1970-01-01T00:38:43\",\"1970-01-01T00:38:43\",\"1970-01-01T01:17:26\",\"1970-01-01T01:17:26\",\"1970-01-01T01:17:26\",\"1970-01-01T04:55:41\",\"1970-01-01T04:55:41\",\"1970-01-01T05:34:24\",\"1970-01-01T05:34:24\",\"1970-01-01T05:34:24\",\"1970-01-01T08:40:41\",\"1970-01-01T08:40:41\",\"1970-01-01T09:19:24\",\"1970-01-01T09:19:24\",\"1970-01-01T09:19:24\",\"1970-01-01T12:28:01\",\"1970-01-01T12:28:01\",\"1970-01-01T13:06:44\",\"1970-01-01T13:06:44\",\"1970-01-01T13:06:44\"],\"y\":[\"Barge I\",\"Barge I\",\"Barge I\",\"Barge I\",null,\"Barge I\",\"Barge I\",\"Barge I\",\"Barge I\",null,\"Barge I\",\"Barge I\",\"Barge I\",\"Barge I\",null,\"Barge I\",\"Barge I\",\"Barge I\",\"Barge I\",null],\"type\":\"scatter\"},{\"connectgaps\":false,\"hoverinfo\":\"y+name\",\"line\":{\"color\":\"rgb(187,200,56)\",\"width\":10},\"mode\":\"lines\",\"name\":\"basic activity:Carrier B\",\"x\":[\"1970-01-01T00:00:00\",\"1970-01-01T00:00:00\",\"1970-01-01T00:37:40\",\"1970-01-01T00:37:40\",\"1970-01-01T00:37:40\",\"1970-01-01T03:41:32\",\"1970-01-01T03:41:32\",\"1970-01-01T04:19:12\",\"1970-01-01T04:19:12\",\"1970-01-01T04:19:12\",\"1970-01-01T07:26:32\",\"1970-01-01T07:26:32\",\"1970-01-01T08:04:12\",\"1970-01-01T08:04:12\",\"1970-01-01T08:04:12\",\"1970-01-01T11:13:52\",\"1970-01-01T11:13:52\",\"1970-01-01T11:51:32\",\"1970-01-01T11:51:32\",\"1970-01-01T11:51:32\"],\"y\":[\"Carrier B\",\"Carrier B\",\"Carrier B\",\"Carrier B\",null,\"Carrier B\",\"Carrier B\",\"Carrier B\",\"Carrier B\",null,\"Carrier B\",\"Carrier B\",\"Carrier B\",\"Carrier B\",null,\"Carrier B\",\"Carrier B\",\"Carrier B\",\"Carrier B\",null],\"type\":\"scatter\"},{\"connectgaps\":false,\"hoverinfo\":\"y+name\",\"line\":{\"color\":\"rgb(194,207,63)\",\"width\":10},\"mode\":\"lines\",\"name\":\"unloading:Carrier B\",\"x\":[\"1970-01-01T03:03:52\",\"1970-01-01T03:03:52\",\"1970-01-01T03:41:32\",\"1970-01-01T03:41:32\",\"1970-01-01T03:41:32\",\"1970-01-01T06:48:52\",\"1970-01-01T06:48:52\",\"1970-01-01T07:26:32\",\"1970-01-01T07:26:32\",\"1970-01-01T07:26:32\",\"1970-01-01T10:36:12\",\"1970-01-01T10:36:12\",\"1970-01-01T11:13:52\",\"1970-01-01T11:13:52\",\"1970-01-01T11:13:52\",\"1970-01-01T13:40:12\",\"1970-01-01T13:40:12\",\"1970-01-01T14:17:52\",\"1970-01-01T14:17:52\",\"1970-01-01T14:17:52\"],\"y\":[\"Carrier B\",\"Carrier B\",\"Carrier B\",\"Carrier B\",null,\"Carrier B\",\"Carrier B\",\"Carrier B\",\"Carrier B\",null,\"Carrier B\",\"Carrier B\",\"Carrier B\",\"Carrier B\",null,\"Carrier B\",\"Carrier B\",\"Carrier B\",\"Carrier B\",null],\"type\":\"scatter\"},{\"connectgaps\":false,\"hoverinfo\":\"y+name\",\"line\":{\"color\":\"rgb(201,214,70)\",\"width\":10},\"mode\":\"lines\",\"name\":\"sailing full:Carrier B\",\"x\":[\"1970-01-01T02:26:12\",\"1970-01-01T02:26:12\",\"1970-01-01T03:03:52\",\"1970-01-01T03:03:52\",\"1970-01-01T03:03:52\",\"1970-01-01T06:11:12\",\"1970-01-01T06:11:12\",\"1970-01-01T06:48:52\",\"1970-01-01T06:48:52\",\"1970-01-01T06:48:52\",\"1970-01-01T09:58:32\",\"1970-01-01T09:58:32\",\"1970-01-01T10:36:12\",\"1970-01-01T10:36:12\",\"1970-01-01T10:36:12\",\"1970-01-01T13:02:32\",\"1970-01-01T13:02:32\",\"1970-01-01T13:40:12\",\"1970-01-01T13:40:12\",\"1970-01-01T13:40:12\"],\"y\":[\"Carrier B\",\"Carrier B\",\"Carrier B\",\"Carrier B\",null,\"Carrier B\",\"Carrier B\",\"Carrier B\",\"Carrier B\",null,\"Carrier B\",\"Carrier B\",\"Carrier B\",\"Carrier B\",null,\"Carrier B\",\"Carrier B\",\"Carrier B\",\"Carrier B\",null],\"type\":\"scatter\"},{\"connectgaps\":false,\"hoverinfo\":\"y+name\",\"line\":{\"color\":\"rgb(208,221,77)\",\"width\":10},\"mode\":\"lines\",\"name\":\"loading:Carrier B\",\"x\":[\"1970-01-01T01:52:52\",\"1970-01-01T01:52:52\",\"1970-01-01T02:26:12\",\"1970-01-01T02:26:12\",\"1970-01-01T02:26:12\",\"1970-01-01T05:37:52\",\"1970-01-01T05:37:52\",\"1970-01-01T06:11:12\",\"1970-01-01T06:11:12\",\"1970-01-01T06:11:12\",\"1970-01-01T09:25:12\",\"1970-01-01T09:25:12\",\"1970-01-01T09:58:32\",\"1970-01-01T09:58:32\",\"1970-01-01T09:58:32\",\"1970-01-01T12:29:12\",\"1970-01-01T12:29:12\",\"1970-01-01T13:02:32\",\"1970-01-01T13:02:32\",\"1970-01-01T13:02:32\",\"1970-01-01T01:52:52\",\"1970-01-01T01:52:52\",\"1970-01-01T02:26:12\",\"1970-01-01T02:26:12\",\"1970-01-01T02:26:12\",\"1970-01-01T05:37:52\",\"1970-01-01T05:37:52\",\"1970-01-01T06:11:12\",\"1970-01-01T06:11:12\",\"1970-01-01T06:11:12\",\"1970-01-01T09:25:12\",\"1970-01-01T09:25:12\",\"1970-01-01T09:58:32\",\"1970-01-01T09:58:32\",\"1970-01-01T09:58:32\",\"1970-01-01T12:29:12\",\"1970-01-01T12:29:12\",\"1970-01-01T13:02:32\",\"1970-01-01T13:02:32\",\"1970-01-01T13:02:32\"],\"y\":[\"Carrier B\",\"Carrier B\",\"Carrier B\",\"Carrier B\",null,\"Carrier B\",\"Carrier B\",\"Carrier B\",\"Carrier B\",null,\"Carrier B\",\"Carrier B\",\"Carrier B\",\"Carrier B\",null,\"Carrier B\",\"Carrier B\",\"Carrier B\",\"Carrier B\",null,\"Cutter T\",\"Cutter T\",\"Cutter T\",\"Cutter T\",null,\"Cutter T\",\"Cutter T\",\"Cutter T\",\"Cutter T\",null,\"Cutter T\",\"Cutter T\",\"Cutter T\",\"Cutter T\",null,\"Cutter T\",\"Cutter T\",\"Cutter T\",\"Cutter T\",null],\"type\":\"scatter\"},{\"connectgaps\":false,\"hoverinfo\":\"y+name\",\"line\":{\"color\":\"rgb(215,228,84)\",\"width\":10},\"mode\":\"lines\",\"name\":\"sailing empty:Carrier B\",\"x\":[\"1970-01-01T00:37:40\",\"1970-01-01T00:37:40\",\"1970-01-01T01:15:20\",\"1970-01-01T01:15:20\",\"1970-01-01T01:15:20\",\"1970-01-01T04:19:12\",\"1970-01-01T04:19:12\",\"1970-01-01T04:56:52\",\"1970-01-01T04:56:52\",\"1970-01-01T04:56:52\",\"1970-01-01T08:04:12\",\"1970-01-01T08:04:12\",\"1970-01-01T08:41:52\",\"1970-01-01T08:41:52\",\"1970-01-01T08:41:52\",\"1970-01-01T11:51:32\",\"1970-01-01T11:51:32\",\"1970-01-01T12:29:12\",\"1970-01-01T12:29:12\",\"1970-01-01T12:29:12\"],\"y\":[\"Carrier B\",\"Carrier B\",\"Carrier B\",\"Carrier B\",null,\"Carrier B\",\"Carrier B\",\"Carrier B\",\"Carrier B\",null,\"Carrier B\",\"Carrier B\",\"Carrier B\",\"Carrier B\",null,\"Carrier B\",\"Carrier B\",\"Carrier B\",\"Carrier B\",null],\"type\":\"scatter\"},{\"connectgaps\":false,\"hoverinfo\":\"y+name\",\"line\":{\"color\":\"rgb(222,235,91)\",\"width\":10},\"mode\":\"lines\",\"name\":\"sailing empty:Barge II\",\"x\":[\"1970-01-01T00:48:30\",\"1970-01-01T00:48:30\",\"1970-01-01T01:37:00\",\"1970-01-01T01:37:00\",\"1970-01-01T01:37:00\",\"1970-01-01T06:40:02\",\"1970-01-01T06:40:02\",\"1970-01-01T07:28:32\",\"1970-01-01T07:28:32\",\"1970-01-01T07:28:32\",\"1970-01-01T10:27:22\",\"1970-01-01T10:27:22\",\"1970-01-01T11:15:52\",\"1970-01-01T11:15:52\",\"1970-01-01T11:15:52\"],\"y\":[\"Barge II\",\"Barge II\",\"Barge II\",\"Barge II\",null,\"Barge II\",\"Barge II\",\"Barge II\",\"Barge II\",null,\"Barge II\",\"Barge II\",\"Barge II\",\"Barge II\",null],\"type\":\"scatter\"},{\"connectgaps\":false,\"hoverinfo\":\"y+name\",\"line\":{\"color\":\"rgb(229,242,98)\",\"width\":10},\"mode\":\"lines\",\"name\":\"loading:Barge II\",\"x\":[\"1970-01-01T03:41:12\",\"1970-01-01T03:41:12\",\"1970-01-01T04:14:32\",\"1970-01-01T04:14:32\",\"1970-01-01T04:14:32\",\"1970-01-01T07:28:32\",\"1970-01-01T07:28:32\",\"1970-01-01T08:01:52\",\"1970-01-01T08:01:52\",\"1970-01-01T08:01:52\",\"1970-01-01T11:55:12\",\"1970-01-01T11:55:12\",\"1970-01-01T12:28:32\",\"1970-01-01T12:28:32\",\"1970-01-01T12:28:32\",\"1970-01-01T03:41:12\",\"1970-01-01T03:41:12\",\"1970-01-01T04:14:32\",\"1970-01-01T04:14:32\",\"1970-01-01T04:14:32\",\"1970-01-01T07:28:32\",\"1970-01-01T07:28:32\",\"1970-01-01T08:01:52\",\"1970-01-01T08:01:52\",\"1970-01-01T08:01:52\",\"1970-01-01T11:55:12\",\"1970-01-01T11:55:12\",\"1970-01-01T12:28:32\",\"1970-01-01T12:28:32\",\"1970-01-01T12:28:32\"],\"y\":[\"Barge II\",\"Barge II\",\"Barge II\",\"Barge II\",null,\"Barge II\",\"Barge II\",\"Barge II\",\"Barge II\",null,\"Barge II\",\"Barge II\",\"Barge II\",\"Barge II\",null,\"Cutter T\",\"Cutter T\",\"Cutter T\",\"Cutter T\",null,\"Cutter T\",\"Cutter T\",\"Cutter T\",\"Cutter T\",null,\"Cutter T\",\"Cutter T\",\"Cutter T\",\"Cutter T\",null],\"type\":\"scatter\"},{\"connectgaps\":false,\"hoverinfo\":\"y+name\",\"line\":{\"color\":\"rgb(236,249,105)\",\"width\":10},\"mode\":\"lines\",\"name\":\"unloading:Barge II\",\"x\":[\"1970-01-01T05:03:02\",\"1970-01-01T05:03:02\",\"1970-01-01T05:51:32\",\"1970-01-01T05:51:32\",\"1970-01-01T05:51:32\",\"1970-01-01T08:50:22\",\"1970-01-01T08:50:22\",\"1970-01-01T09:38:52\",\"1970-01-01T09:38:52\",\"1970-01-01T09:38:52\",\"1970-01-01T13:17:02\",\"1970-01-01T13:17:02\",\"1970-01-01T14:05:32\",\"1970-01-01T14:05:32\",\"1970-01-01T14:05:32\"],\"y\":[\"Barge II\",\"Barge II\",\"Barge II\",\"Barge II\",null,\"Barge II\",\"Barge II\",\"Barge II\",\"Barge II\",null,\"Barge II\",\"Barge II\",\"Barge II\",\"Barge II\",null],\"type\":\"scatter\"},{\"connectgaps\":false,\"hoverinfo\":\"y+name\",\"line\":{\"color\":\"rgb(243,0,112)\",\"width\":10},\"mode\":\"lines\",\"name\":\"basic activity:Barge II\",\"x\":[\"1970-01-01T00:00:00\",\"1970-01-01T00:00:00\",\"1970-01-01T00:48:30\",\"1970-01-01T00:48:30\",\"1970-01-01T00:48:30\",\"1970-01-01T05:51:32\",\"1970-01-01T05:51:32\",\"1970-01-01T06:40:02\",\"1970-01-01T06:40:02\",\"1970-01-01T06:40:02\",\"1970-01-01T09:38:52\",\"1970-01-01T09:38:52\",\"1970-01-01T10:27:22\",\"1970-01-01T10:27:22\",\"1970-01-01T10:27:22\"],\"y\":[\"Barge II\",\"Barge II\",\"Barge II\",\"Barge II\",null,\"Barge II\",\"Barge II\",\"Barge II\",\"Barge II\",null,\"Barge II\",\"Barge II\",\"Barge II\",\"Barge II\",null],\"type\":\"scatter\"},{\"connectgaps\":false,\"hoverinfo\":\"y+name\",\"line\":{\"color\":\"rgb(250,7,119)\",\"width\":10},\"mode\":\"lines\",\"name\":\"sailing full:Barge II\",\"x\":[\"1970-01-01T04:14:32\",\"1970-01-01T04:14:32\",\"1970-01-01T05:03:02\",\"1970-01-01T05:03:02\",\"1970-01-01T05:03:02\",\"1970-01-01T08:01:52\",\"1970-01-01T08:01:52\",\"1970-01-01T08:50:22\",\"1970-01-01T08:50:22\",\"1970-01-01T08:50:22\",\"1970-01-01T12:28:32\",\"1970-01-01T12:28:32\",\"1970-01-01T13:17:02\",\"1970-01-01T13:17:02\",\"1970-01-01T13:17:02\"],\"y\":[\"Barge II\",\"Barge II\",\"Barge II\",\"Barge II\",null,\"Barge II\",\"Barge II\",\"Barge II\",\"Barge II\",null,\"Barge II\",\"Barge II\",\"Barge II\",\"Barge II\",null],\"type\":\"scatter\"},{\"connectgaps\":false,\"hoverinfo\":\"y+name\",\"line\":{\"color\":\"rgb(1,14,126)\",\"width\":10},\"mode\":\"lines\",\"name\":\"loading:Barge II\",\"x\":[\"1970-01-01T03:41:12\",\"1970-01-01T03:41:12\",\"1970-01-01T04:14:32\",\"1970-01-01T04:14:32\",\"1970-01-01T04:14:32\",\"1970-01-01T07:28:32\",\"1970-01-01T07:28:32\",\"1970-01-01T08:01:52\",\"1970-01-01T08:01:52\",\"1970-01-01T08:01:52\",\"1970-01-01T11:55:12\",\"1970-01-01T11:55:12\",\"1970-01-01T12:28:32\",\"1970-01-01T12:28:32\",\"1970-01-01T12:28:32\",\"1970-01-01T03:41:12\",\"1970-01-01T03:41:12\",\"1970-01-01T04:14:32\",\"1970-01-01T04:14:32\",\"1970-01-01T04:14:32\",\"1970-01-01T07:28:32\",\"1970-01-01T07:28:32\",\"1970-01-01T08:01:52\",\"1970-01-01T08:01:52\",\"1970-01-01T08:01:52\",\"1970-01-01T11:55:12\",\"1970-01-01T11:55:12\",\"1970-01-01T12:28:32\",\"1970-01-01T12:28:32\",\"1970-01-01T12:28:32\"],\"y\":[\"Barge II\",\"Barge II\",\"Barge II\",\"Barge II\",null,\"Barge II\",\"Barge II\",\"Barge II\",\"Barge II\",null,\"Barge II\",\"Barge II\",\"Barge II\",\"Barge II\",null,\"Cutter T\",\"Cutter T\",\"Cutter T\",\"Cutter T\",null,\"Cutter T\",\"Cutter T\",\"Cutter T\",\"Cutter T\",null,\"Cutter T\",\"Cutter T\",\"Cutter T\",\"Cutter T\",null],\"type\":\"scatter\"},{\"connectgaps\":false,\"hoverinfo\":\"y+name\",\"line\":{\"color\":\"rgb(8,21,133)\",\"width\":10},\"mode\":\"lines\",\"name\":\"loading:Barge III\",\"x\":[\"1970-01-01T02:59:32\",\"1970-01-01T02:59:32\",\"1970-01-01T03:41:12\",\"1970-01-01T03:41:12\",\"1970-01-01T03:41:12\",\"1970-01-01T06:44:32\",\"1970-01-01T06:44:32\",\"1970-01-01T07:26:12\",\"1970-01-01T07:26:12\",\"1970-01-01T07:26:12\",\"1970-01-01T10:31:52\",\"1970-01-01T10:31:52\",\"1970-01-01T11:13:32\",\"1970-01-01T11:13:32\",\"1970-01-01T11:13:32\",\"1970-01-01T14:17:32\",\"1970-01-01T14:17:32\",\"1970-01-01T14:59:12\",\"1970-01-01T14:59:12\",\"1970-01-01T14:59:12\",\"1970-01-01T02:59:32\",\"1970-01-01T02:59:32\",\"1970-01-01T03:41:12\",\"1970-01-01T03:41:12\",\"1970-01-01T03:41:12\",\"1970-01-01T06:44:32\",\"1970-01-01T06:44:32\",\"1970-01-01T07:26:12\",\"1970-01-01T07:26:12\",\"1970-01-01T07:26:12\",\"1970-01-01T10:31:52\",\"1970-01-01T10:31:52\",\"1970-01-01T11:13:32\",\"1970-01-01T11:13:32\",\"1970-01-01T11:13:32\",\"1970-01-01T14:17:32\",\"1970-01-01T14:17:32\",\"1970-01-01T14:59:12\",\"1970-01-01T14:59:12\",\"1970-01-01T14:59:12\"],\"y\":[\"Barge III\",\"Barge III\",\"Barge III\",\"Barge III\",null,\"Barge III\",\"Barge III\",\"Barge III\",\"Barge III\",null,\"Barge III\",\"Barge III\",\"Barge III\",\"Barge III\",null,\"Barge III\",\"Barge III\",\"Barge III\",\"Barge III\",null,\"Cutter T\",\"Cutter T\",\"Cutter T\",\"Cutter T\",null,\"Cutter T\",\"Cutter T\",\"Cutter T\",\"Cutter T\",null,\"Cutter T\",\"Cutter T\",\"Cutter T\",\"Cutter T\",null,\"Cutter T\",\"Cutter T\",\"Cutter T\",\"Cutter T\",null],\"type\":\"scatter\"},{\"connectgaps\":false,\"hoverinfo\":\"y+name\",\"line\":{\"color\":\"rgb(15,28,140)\",\"width\":10},\"mode\":\"lines\",\"name\":\"loading:Barge I\",\"x\":[\"1970-01-01T02:26:12\",\"1970-01-01T02:26:12\",\"1970-01-01T02:59:32\",\"1970-01-01T02:59:32\",\"1970-01-01T02:59:32\",\"1970-01-01T06:11:12\",\"1970-01-01T06:11:12\",\"1970-01-01T06:44:32\",\"1970-01-01T06:44:32\",\"1970-01-01T06:44:32\",\"1970-01-01T09:58:32\",\"1970-01-01T09:58:32\",\"1970-01-01T10:31:52\",\"1970-01-01T10:31:52\",\"1970-01-01T10:31:52\",\"1970-01-01T13:44:12\",\"1970-01-01T13:44:12\",\"1970-01-01T14:17:32\",\"1970-01-01T14:17:32\",\"1970-01-01T14:17:32\",\"1970-01-01T02:26:12\",\"1970-01-01T02:26:12\",\"1970-01-01T02:59:32\",\"1970-01-01T02:59:32\",\"1970-01-01T02:59:32\",\"1970-01-01T06:11:12\",\"1970-01-01T06:11:12\",\"1970-01-01T06:44:32\",\"1970-01-01T06:44:32\",\"1970-01-01T06:44:32\",\"1970-01-01T09:58:32\",\"1970-01-01T09:58:32\",\"1970-01-01T10:31:52\",\"1970-01-01T10:31:52\",\"1970-01-01T10:31:52\",\"1970-01-01T13:44:12\",\"1970-01-01T13:44:12\",\"1970-01-01T14:17:32\",\"1970-01-01T14:17:32\",\"1970-01-01T14:17:32\"],\"y\":[\"Barge I\",\"Barge I\",\"Barge I\",\"Barge I\",null,\"Barge I\",\"Barge I\",\"Barge I\",\"Barge I\",null,\"Barge I\",\"Barge I\",\"Barge I\",\"Barge I\",null,\"Barge I\",\"Barge I\",\"Barge I\",\"Barge I\",null,\"Cutter T\",\"Cutter T\",\"Cutter T\",\"Cutter T\",null,\"Cutter T\",\"Cutter T\",\"Cutter T\",\"Cutter T\",null,\"Cutter T\",\"Cutter T\",\"Cutter T\",\"Cutter T\",null,\"Cutter T\",\"Cutter T\",\"Cutter T\",\"Cutter T\",null],\"type\":\"scatter\"},{\"connectgaps\":false,\"hoverinfo\":\"y+name\",\"line\":{\"color\":\"rgb(22,35,147)\",\"width\":10},\"mode\":\"lines\",\"name\":\"loading:Carrier B\",\"x\":[\"1970-01-01T01:52:52\",\"1970-01-01T01:52:52\",\"1970-01-01T02:26:12\",\"1970-01-01T02:26:12\",\"1970-01-01T02:26:12\",\"1970-01-01T05:37:52\",\"1970-01-01T05:37:52\",\"1970-01-01T06:11:12\",\"1970-01-01T06:11:12\",\"1970-01-01T06:11:12\",\"1970-01-01T09:25:12\",\"1970-01-01T09:25:12\",\"1970-01-01T09:58:32\",\"1970-01-01T09:58:32\",\"1970-01-01T09:58:32\",\"1970-01-01T12:29:12\",\"1970-01-01T12:29:12\",\"1970-01-01T13:02:32\",\"1970-01-01T13:02:32\",\"1970-01-01T13:02:32\",\"1970-01-01T01:52:52\",\"1970-01-01T01:52:52\",\"1970-01-01T02:26:12\",\"1970-01-01T02:26:12\",\"1970-01-01T02:26:12\",\"1970-01-01T05:37:52\",\"1970-01-01T05:37:52\",\"1970-01-01T06:11:12\",\"1970-01-01T06:11:12\",\"1970-01-01T06:11:12\",\"1970-01-01T09:25:12\",\"1970-01-01T09:25:12\",\"1970-01-01T09:58:32\",\"1970-01-01T09:58:32\",\"1970-01-01T09:58:32\",\"1970-01-01T12:29:12\",\"1970-01-01T12:29:12\",\"1970-01-01T13:02:32\",\"1970-01-01T13:02:32\",\"1970-01-01T13:02:32\"],\"y\":[\"Carrier B\",\"Carrier B\",\"Carrier B\",\"Carrier B\",null,\"Carrier B\",\"Carrier B\",\"Carrier B\",\"Carrier B\",null,\"Carrier B\",\"Carrier B\",\"Carrier B\",\"Carrier B\",null,\"Carrier B\",\"Carrier B\",\"Carrier B\",\"Carrier B\",null,\"Cutter T\",\"Cutter T\",\"Cutter T\",\"Cutter T\",null,\"Cutter T\",\"Cutter T\",\"Cutter T\",\"Cutter T\",null,\"Cutter T\",\"Cutter T\",\"Cutter T\",\"Cutter T\",null,\"Cutter T\",\"Cutter T\",\"Cutter T\",\"Cutter T\",null],\"type\":\"scatter\"},{\"connectgaps\":false,\"hoverinfo\":\"y+name\",\"line\":{\"color\":\"rgb(29,42,154)\",\"width\":10},\"mode\":\"lines\",\"name\":\"loading:Carrier A\",\"x\":[\"1970-01-01T04:14:32\",\"1970-01-01T04:14:32\",\"1970-01-01T04:56:12\",\"1970-01-01T04:56:12\",\"1970-01-01T04:56:12\",\"1970-01-01T08:43:32\",\"1970-01-01T08:43:32\",\"1970-01-01T09:25:12\",\"1970-01-01T09:25:12\",\"1970-01-01T09:25:12\",\"1970-01-01T13:02:32\",\"1970-01-01T13:02:32\",\"1970-01-01T13:44:12\",\"1970-01-01T13:44:12\",\"1970-01-01T13:44:12\",\"1970-01-01T04:14:32\",\"1970-01-01T04:14:32\",\"1970-01-01T04:56:12\",\"1970-01-01T04:56:12\",\"1970-01-01T04:56:12\",\"1970-01-01T08:43:32\",\"1970-01-01T08:43:32\",\"1970-01-01T09:25:12\",\"1970-01-01T09:25:12\",\"1970-01-01T09:25:12\",\"1970-01-01T13:02:32\",\"1970-01-01T13:02:32\",\"1970-01-01T13:44:12\",\"1970-01-01T13:44:12\",\"1970-01-01T13:44:12\"],\"y\":[\"Carrier A\",\"Carrier A\",\"Carrier A\",\"Carrier A\",null,\"Carrier A\",\"Carrier A\",\"Carrier A\",\"Carrier A\",null,\"Carrier A\",\"Carrier A\",\"Carrier A\",\"Carrier A\",null,\"Cutter T\",\"Cutter T\",\"Cutter T\",\"Cutter T\",null,\"Cutter T\",\"Cutter T\",\"Cutter T\",\"Cutter T\",null,\"Cutter T\",\"Cutter T\",\"Cutter T\",\"Cutter T\",null],\"type\":\"scatter\"},{\"connectgaps\":false,\"hoverinfo\":\"y+name\",\"line\":{\"color\":\"rgb(36,49,161)\",\"width\":10},\"mode\":\"lines\",\"name\":\"loading:Carrier C\",\"x\":[\"1970-01-01T01:11:12\",\"1970-01-01T01:11:12\",\"1970-01-01T01:52:52\",\"1970-01-01T01:52:52\",\"1970-01-01T01:52:52\",\"1970-01-01T04:56:12\",\"1970-01-01T04:56:12\",\"1970-01-01T05:37:52\",\"1970-01-01T05:37:52\",\"1970-01-01T05:37:52\",\"1970-01-01T08:01:52\",\"1970-01-01T08:01:52\",\"1970-01-01T08:43:32\",\"1970-01-01T08:43:32\",\"1970-01-01T08:43:32\",\"1970-01-01T11:13:32\",\"1970-01-01T11:13:32\",\"1970-01-01T11:55:12\",\"1970-01-01T11:55:12\",\"1970-01-01T11:55:12\",\"1970-01-01T14:59:12\",\"1970-01-01T14:59:12\",\"1970-01-01T15:40:52\",\"1970-01-01T15:40:52\",\"1970-01-01T15:40:52\",\"1970-01-01T01:11:12\",\"1970-01-01T01:11:12\",\"1970-01-01T01:52:52\",\"1970-01-01T01:52:52\",\"1970-01-01T01:52:52\",\"1970-01-01T04:56:12\",\"1970-01-01T04:56:12\",\"1970-01-01T05:37:52\",\"1970-01-01T05:37:52\",\"1970-01-01T05:37:52\",\"1970-01-01T08:01:52\",\"1970-01-01T08:01:52\",\"1970-01-01T08:43:32\",\"1970-01-01T08:43:32\",\"1970-01-01T08:43:32\",\"1970-01-01T11:13:32\",\"1970-01-01T11:13:32\",\"1970-01-01T11:55:12\",\"1970-01-01T11:55:12\",\"1970-01-01T11:55:12\",\"1970-01-01T14:59:12\",\"1970-01-01T14:59:12\",\"1970-01-01T15:40:52\",\"1970-01-01T15:40:52\",\"1970-01-01T15:40:52\"],\"y\":[\"Carrier C\",\"Carrier C\",\"Carrier C\",\"Carrier C\",null,\"Carrier C\",\"Carrier C\",\"Carrier C\",\"Carrier C\",null,\"Carrier C\",\"Carrier C\",\"Carrier C\",\"Carrier C\",null,\"Carrier C\",\"Carrier C\",\"Carrier C\",\"Carrier C\",null,\"Carrier C\",\"Carrier C\",\"Carrier C\",\"Carrier C\",null,\"Cutter T\",\"Cutter T\",\"Cutter T\",\"Cutter T\",null,\"Cutter T\",\"Cutter T\",\"Cutter T\",\"Cutter T\",null,\"Cutter T\",\"Cutter T\",\"Cutter T\",\"Cutter T\",null,\"Cutter T\",\"Cutter T\",\"Cutter T\",\"Cutter T\",null,\"Cutter T\",\"Cutter T\",\"Cutter T\",\"Cutter T\",null],\"type\":\"scatter\"}],                        {\"hovermode\":\"closest\",\"legend\":{\"orientation\":\"h\",\"x\":0,\"y\":-0.2},\"template\":{\"data\":{\"barpolar\":[{\"marker\":{\"line\":{\"color\":\"#E5ECF6\",\"width\":0.5},\"pattern\":{\"fillmode\":\"overlay\",\"size\":10,\"solidity\":0.2}},\"type\":\"barpolar\"}],\"bar\":[{\"error_x\":{\"color\":\"#2a3f5f\"},\"error_y\":{\"color\":\"#2a3f5f\"},\"marker\":{\"line\":{\"color\":\"#E5ECF6\",\"width\":0.5},\"pattern\":{\"fillmode\":\"overlay\",\"size\":10,\"solidity\":0.2}},\"type\":\"bar\"}],\"carpet\":[{\"aaxis\":{\"endlinecolor\":\"#2a3f5f\",\"gridcolor\":\"white\",\"linecolor\":\"white\",\"minorgridcolor\":\"white\",\"startlinecolor\":\"#2a3f5f\"},\"baxis\":{\"endlinecolor\":\"#2a3f5f\",\"gridcolor\":\"white\",\"linecolor\":\"white\",\"minorgridcolor\":\"white\",\"startlinecolor\":\"#2a3f5f\"},\"type\":\"carpet\"}],\"choropleth\":[{\"colorbar\":{\"outlinewidth\":0,\"ticks\":\"\"},\"type\":\"choropleth\"}],\"contourcarpet\":[{\"colorbar\":{\"outlinewidth\":0,\"ticks\":\"\"},\"type\":\"contourcarpet\"}],\"contour\":[{\"colorbar\":{\"outlinewidth\":0,\"ticks\":\"\"},\"colorscale\":[[0.0,\"#0d0887\"],[0.1111111111111111,\"#46039f\"],[0.2222222222222222,\"#7201a8\"],[0.3333333333333333,\"#9c179e\"],[0.4444444444444444,\"#bd3786\"],[0.5555555555555556,\"#d8576b\"],[0.6666666666666666,\"#ed7953\"],[0.7777777777777778,\"#fb9f3a\"],[0.8888888888888888,\"#fdca26\"],[1.0,\"#f0f921\"]],\"type\":\"contour\"}],\"heatmapgl\":[{\"colorbar\":{\"outlinewidth\":0,\"ticks\":\"\"},\"colorscale\":[[0.0,\"#0d0887\"],[0.1111111111111111,\"#46039f\"],[0.2222222222222222,\"#7201a8\"],[0.3333333333333333,\"#9c179e\"],[0.4444444444444444,\"#bd3786\"],[0.5555555555555556,\"#d8576b\"],[0.6666666666666666,\"#ed7953\"],[0.7777777777777778,\"#fb9f3a\"],[0.8888888888888888,\"#fdca26\"],[1.0,\"#f0f921\"]],\"type\":\"heatmapgl\"}],\"heatmap\":[{\"colorbar\":{\"outlinewidth\":0,\"ticks\":\"\"},\"colorscale\":[[0.0,\"#0d0887\"],[0.1111111111111111,\"#46039f\"],[0.2222222222222222,\"#7201a8\"],[0.3333333333333333,\"#9c179e\"],[0.4444444444444444,\"#bd3786\"],[0.5555555555555556,\"#d8576b\"],[0.6666666666666666,\"#ed7953\"],[0.7777777777777778,\"#fb9f3a\"],[0.8888888888888888,\"#fdca26\"],[1.0,\"#f0f921\"]],\"type\":\"heatmap\"}],\"histogram2dcontour\":[{\"colorbar\":{\"outlinewidth\":0,\"ticks\":\"\"},\"colorscale\":[[0.0,\"#0d0887\"],[0.1111111111111111,\"#46039f\"],[0.2222222222222222,\"#7201a8\"],[0.3333333333333333,\"#9c179e\"],[0.4444444444444444,\"#bd3786\"],[0.5555555555555556,\"#d8576b\"],[0.6666666666666666,\"#ed7953\"],[0.7777777777777778,\"#fb9f3a\"],[0.8888888888888888,\"#fdca26\"],[1.0,\"#f0f921\"]],\"type\":\"histogram2dcontour\"}],\"histogram2d\":[{\"colorbar\":{\"outlinewidth\":0,\"ticks\":\"\"},\"colorscale\":[[0.0,\"#0d0887\"],[0.1111111111111111,\"#46039f\"],[0.2222222222222222,\"#7201a8\"],[0.3333333333333333,\"#9c179e\"],[0.4444444444444444,\"#bd3786\"],[0.5555555555555556,\"#d8576b\"],[0.6666666666666666,\"#ed7953\"],[0.7777777777777778,\"#fb9f3a\"],[0.8888888888888888,\"#fdca26\"],[1.0,\"#f0f921\"]],\"type\":\"histogram2d\"}],\"histogram\":[{\"marker\":{\"pattern\":{\"fillmode\":\"overlay\",\"size\":10,\"solidity\":0.2}},\"type\":\"histogram\"}],\"mesh3d\":[{\"colorbar\":{\"outlinewidth\":0,\"ticks\":\"\"},\"type\":\"mesh3d\"}],\"parcoords\":[{\"line\":{\"colorbar\":{\"outlinewidth\":0,\"ticks\":\"\"}},\"type\":\"parcoords\"}],\"pie\":[{\"automargin\":true,\"type\":\"pie\"}],\"scatter3d\":[{\"line\":{\"colorbar\":{\"outlinewidth\":0,\"ticks\":\"\"}},\"marker\":{\"colorbar\":{\"outlinewidth\":0,\"ticks\":\"\"}},\"type\":\"scatter3d\"}],\"scattercarpet\":[{\"marker\":{\"colorbar\":{\"outlinewidth\":0,\"ticks\":\"\"}},\"type\":\"scattercarpet\"}],\"scattergeo\":[{\"marker\":{\"colorbar\":{\"outlinewidth\":0,\"ticks\":\"\"}},\"type\":\"scattergeo\"}],\"scattergl\":[{\"marker\":{\"colorbar\":{\"outlinewidth\":0,\"ticks\":\"\"}},\"type\":\"scattergl\"}],\"scattermapbox\":[{\"marker\":{\"colorbar\":{\"outlinewidth\":0,\"ticks\":\"\"}},\"type\":\"scattermapbox\"}],\"scatterpolargl\":[{\"marker\":{\"colorbar\":{\"outlinewidth\":0,\"ticks\":\"\"}},\"type\":\"scatterpolargl\"}],\"scatterpolar\":[{\"marker\":{\"colorbar\":{\"outlinewidth\":0,\"ticks\":\"\"}},\"type\":\"scatterpolar\"}],\"scatter\":[{\"fillpattern\":{\"fillmode\":\"overlay\",\"size\":10,\"solidity\":0.2},\"type\":\"scatter\"}],\"scatterternary\":[{\"marker\":{\"colorbar\":{\"outlinewidth\":0,\"ticks\":\"\"}},\"type\":\"scatterternary\"}],\"surface\":[{\"colorbar\":{\"outlinewidth\":0,\"ticks\":\"\"},\"colorscale\":[[0.0,\"#0d0887\"],[0.1111111111111111,\"#46039f\"],[0.2222222222222222,\"#7201a8\"],[0.3333333333333333,\"#9c179e\"],[0.4444444444444444,\"#bd3786\"],[0.5555555555555556,\"#d8576b\"],[0.6666666666666666,\"#ed7953\"],[0.7777777777777778,\"#fb9f3a\"],[0.8888888888888888,\"#fdca26\"],[1.0,\"#f0f921\"]],\"type\":\"surface\"}],\"table\":[{\"cells\":{\"fill\":{\"color\":\"#EBF0F8\"},\"line\":{\"color\":\"white\"}},\"header\":{\"fill\":{\"color\":\"#C8D4E3\"},\"line\":{\"color\":\"white\"}},\"type\":\"table\"}]},\"layout\":{\"annotationdefaults\":{\"arrowcolor\":\"#2a3f5f\",\"arrowhead\":0,\"arrowwidth\":1},\"autotypenumbers\":\"strict\",\"coloraxis\":{\"colorbar\":{\"outlinewidth\":0,\"ticks\":\"\"}},\"colorscale\":{\"diverging\":[[0,\"#8e0152\"],[0.1,\"#c51b7d\"],[0.2,\"#de77ae\"],[0.3,\"#f1b6da\"],[0.4,\"#fde0ef\"],[0.5,\"#f7f7f7\"],[0.6,\"#e6f5d0\"],[0.7,\"#b8e186\"],[0.8,\"#7fbc41\"],[0.9,\"#4d9221\"],[1,\"#276419\"]],\"sequential\":[[0.0,\"#0d0887\"],[0.1111111111111111,\"#46039f\"],[0.2222222222222222,\"#7201a8\"],[0.3333333333333333,\"#9c179e\"],[0.4444444444444444,\"#bd3786\"],[0.5555555555555556,\"#d8576b\"],[0.6666666666666666,\"#ed7953\"],[0.7777777777777778,\"#fb9f3a\"],[0.8888888888888888,\"#fdca26\"],[1.0,\"#f0f921\"]],\"sequentialminus\":[[0.0,\"#0d0887\"],[0.1111111111111111,\"#46039f\"],[0.2222222222222222,\"#7201a8\"],[0.3333333333333333,\"#9c179e\"],[0.4444444444444444,\"#bd3786\"],[0.5555555555555556,\"#d8576b\"],[0.6666666666666666,\"#ed7953\"],[0.7777777777777778,\"#fb9f3a\"],[0.8888888888888888,\"#fdca26\"],[1.0,\"#f0f921\"]]},\"colorway\":[\"#636efa\",\"#EF553B\",\"#00cc96\",\"#ab63fa\",\"#FFA15A\",\"#19d3f3\",\"#FF6692\",\"#B6E880\",\"#FF97FF\",\"#FECB52\"],\"font\":{\"color\":\"#2a3f5f\"},\"geo\":{\"bgcolor\":\"white\",\"lakecolor\":\"white\",\"landcolor\":\"#E5ECF6\",\"showlakes\":true,\"showland\":true,\"subunitcolor\":\"white\"},\"hoverlabel\":{\"align\":\"left\"},\"hovermode\":\"closest\",\"mapbox\":{\"style\":\"light\"},\"paper_bgcolor\":\"white\",\"plot_bgcolor\":\"#E5ECF6\",\"polar\":{\"angularaxis\":{\"gridcolor\":\"white\",\"linecolor\":\"white\",\"ticks\":\"\"},\"bgcolor\":\"#E5ECF6\",\"radialaxis\":{\"gridcolor\":\"white\",\"linecolor\":\"white\",\"ticks\":\"\"}},\"scene\":{\"xaxis\":{\"backgroundcolor\":\"#E5ECF6\",\"gridcolor\":\"white\",\"gridwidth\":2,\"linecolor\":\"white\",\"showbackground\":true,\"ticks\":\"\",\"zerolinecolor\":\"white\"},\"yaxis\":{\"backgroundcolor\":\"#E5ECF6\",\"gridcolor\":\"white\",\"gridwidth\":2,\"linecolor\":\"white\",\"showbackground\":true,\"ticks\":\"\",\"zerolinecolor\":\"white\"},\"zaxis\":{\"backgroundcolor\":\"#E5ECF6\",\"gridcolor\":\"white\",\"gridwidth\":2,\"linecolor\":\"white\",\"showbackground\":true,\"ticks\":\"\",\"zerolinecolor\":\"white\"}},\"shapedefaults\":{\"line\":{\"color\":\"#2a3f5f\"}},\"ternary\":{\"aaxis\":{\"gridcolor\":\"white\",\"linecolor\":\"white\",\"ticks\":\"\"},\"baxis\":{\"gridcolor\":\"white\",\"linecolor\":\"white\",\"ticks\":\"\"},\"bgcolor\":\"#E5ECF6\",\"caxis\":{\"gridcolor\":\"white\",\"linecolor\":\"white\",\"ticks\":\"\"}},\"title\":{\"x\":0.05},\"xaxis\":{\"automargin\":true,\"gridcolor\":\"white\",\"linecolor\":\"white\",\"ticks\":\"\",\"title\":{\"standoff\":15},\"zerolinecolor\":\"white\",\"zerolinewidth\":2},\"yaxis\":{\"automargin\":true,\"gridcolor\":\"white\",\"linecolor\":\"white\",\"ticks\":\"\",\"title\":{\"standoff\":15},\"zerolinecolor\":\"white\",\"zerolinewidth\":2}}},\"title\":{\"text\":\"GANTT Chart\"},\"xaxis\":{\"range\":[\"1970-01-01T00:00:00\",\"1970-01-01T16:52:04\"],\"title\":{\"font\":{\"color\":\"#7f7f7f\",\"family\":\"Courier New, monospace\",\"size\":18},\"text\":\"Time\"}},\"yaxis\":{\"title\":{\"font\":{\"color\":\"#7f7f7f\",\"family\":\"Courier New, monospace\",\"size\":18},\"text\":\"Activities\"}}},                        {\"responsive\": true}                    ).then(function(){\n",
       "                            \n",
       "var gd = document.getElementById('eccbad3d-ae19-4f4b-8a85-79a6cb8b90a8');\n",
       "var x = new MutationObserver(function (mutations, observer) {{\n",
       "        var display = window.getComputedStyle(gd).display;\n",
       "        if (!display || display === 'none') {{\n",
       "            console.log([gd, 'removed!']);\n",
       "            Plotly.purge(gd);\n",
       "            observer.disconnect();\n",
       "        }}\n",
       "}});\n",
       "\n",
       "// Listen for the removal of the full notebook cells\n",
       "var notebookContainer = gd.closest('#notebook-container');\n",
       "if (notebookContainer) {{\n",
       "    x.observe(notebookContainer, {childList: true});\n",
       "}}\n",
       "\n",
       "// Listen for the clearing of the current output cell\n",
       "var outputEl = gd.closest('.output');\n",
       "if (outputEl) {{\n",
       "    x.observe(outputEl, {childList: true});\n",
       "}}\n",
       "\n",
       "                        })                };                });            </script>        </div>"
      ]
     },
     "metadata": {},
     "output_type": "display_data"
    }
   ],
   "source": [
    "fig = plot.get_gantt_chart(vessels, id_map=activities)\n"
   ]
  },
  {
   "cell_type": "code",
   "execution_count": 7,
   "id": "b7331bd0",
   "metadata": {},
   "outputs": [
    {
     "data": {
      "text/html": [
       "        <script type=\"text/javascript\">\n",
       "        window.PlotlyConfig = {MathJaxConfig: 'local'};\n",
       "        if (window.MathJax && window.MathJax.Hub && window.MathJax.Hub.Config) {window.MathJax.Hub.Config({SVG: {font: \"STIX-Web\"}});}\n",
       "        if (typeof require !== 'undefined') {\n",
       "        require.undef(\"plotly\");\n",
       "        requirejs.config({\n",
       "            paths: {\n",
       "                'plotly': ['https://cdn.plot.ly/plotly-2.18.2.min']\n",
       "            }\n",
       "        });\n",
       "        require(['plotly'], function(Plotly) {\n",
       "            window._Plotly = Plotly;\n",
       "        });\n",
       "        }\n",
       "        </script>\n",
       "        "
      ]
     },
     "metadata": {},
     "output_type": "display_data"
    },
    {
     "data": {
      "application/vnd.plotly.v1+json": {
       "config": {
        "linkText": "Export to plot.ly",
        "plotlyServerURL": "https://plot.ly",
        "showLink": false
       },
       "data": [
        {
         "connectgaps": false,
         "hoverinfo": "y+name",
         "line": {
          "color": "rgb(10,132,16)",
          "width": 10
         },
         "mode": "lines",
         "name": "loading:Barge II",
         "type": "scatter",
         "x": [
          "1970-01-01T03:41:12",
          "1970-01-01T03:41:12",
          "1970-01-01T04:14:32",
          "1970-01-01T04:14:32",
          "1970-01-01T04:14:32",
          "1970-01-01T07:28:32",
          "1970-01-01T07:28:32",
          "1970-01-01T08:01:52",
          "1970-01-01T08:01:52",
          "1970-01-01T08:01:52",
          "1970-01-01T11:55:12",
          "1970-01-01T11:55:12",
          "1970-01-01T12:28:32",
          "1970-01-01T12:28:32",
          "1970-01-01T12:28:32",
          "1970-01-01T03:41:12",
          "1970-01-01T03:41:12",
          "1970-01-01T04:14:32",
          "1970-01-01T04:14:32",
          "1970-01-01T04:14:32",
          "1970-01-01T07:28:32",
          "1970-01-01T07:28:32",
          "1970-01-01T08:01:52",
          "1970-01-01T08:01:52",
          "1970-01-01T08:01:52",
          "1970-01-01T11:55:12",
          "1970-01-01T11:55:12",
          "1970-01-01T12:28:32",
          "1970-01-01T12:28:32",
          "1970-01-01T12:28:32"
         ],
         "y": [
          "Trench",
          "Trench",
          "Trench",
          "Trench",
          null,
          "Trench",
          "Trench",
          "Trench",
          "Trench",
          null,
          "Trench",
          "Trench",
          "Trench",
          "Trench",
          null,
          "Cutter T",
          "Cutter T",
          "Cutter T",
          "Cutter T",
          null,
          "Cutter T",
          "Cutter T",
          "Cutter T",
          "Cutter T",
          null,
          "Cutter T",
          "Cutter T",
          "Cutter T",
          "Cutter T",
          null
         ]
        },
        {
         "connectgaps": false,
         "hoverinfo": "y+name",
         "line": {
          "color": "rgb(24,146,30)",
          "width": 10
         },
         "mode": "lines",
         "name": "loading:Barge III",
         "type": "scatter",
         "x": [
          "1970-01-01T02:59:32",
          "1970-01-01T02:59:32",
          "1970-01-01T03:41:12",
          "1970-01-01T03:41:12",
          "1970-01-01T03:41:12",
          "1970-01-01T06:44:32",
          "1970-01-01T06:44:32",
          "1970-01-01T07:26:12",
          "1970-01-01T07:26:12",
          "1970-01-01T07:26:12",
          "1970-01-01T10:31:52",
          "1970-01-01T10:31:52",
          "1970-01-01T11:13:32",
          "1970-01-01T11:13:32",
          "1970-01-01T11:13:32",
          "1970-01-01T14:17:32",
          "1970-01-01T14:17:32",
          "1970-01-01T14:59:12",
          "1970-01-01T14:59:12",
          "1970-01-01T14:59:12",
          "1970-01-01T02:59:32",
          "1970-01-01T02:59:32",
          "1970-01-01T03:41:12",
          "1970-01-01T03:41:12",
          "1970-01-01T03:41:12",
          "1970-01-01T06:44:32",
          "1970-01-01T06:44:32",
          "1970-01-01T07:26:12",
          "1970-01-01T07:26:12",
          "1970-01-01T07:26:12",
          "1970-01-01T10:31:52",
          "1970-01-01T10:31:52",
          "1970-01-01T11:13:32",
          "1970-01-01T11:13:32",
          "1970-01-01T11:13:32",
          "1970-01-01T14:17:32",
          "1970-01-01T14:17:32",
          "1970-01-01T14:59:12",
          "1970-01-01T14:59:12",
          "1970-01-01T14:59:12"
         ],
         "y": [
          "Trench",
          "Trench",
          "Trench",
          "Trench",
          null,
          "Trench",
          "Trench",
          "Trench",
          "Trench",
          null,
          "Trench",
          "Trench",
          "Trench",
          "Trench",
          null,
          "Trench",
          "Trench",
          "Trench",
          "Trench",
          null,
          "Cutter T",
          "Cutter T",
          "Cutter T",
          "Cutter T",
          null,
          "Cutter T",
          "Cutter T",
          "Cutter T",
          "Cutter T",
          null,
          "Cutter T",
          "Cutter T",
          "Cutter T",
          "Cutter T",
          null,
          "Cutter T",
          "Cutter T",
          "Cutter T",
          "Cutter T",
          null
         ]
        },
        {
         "connectgaps": false,
         "hoverinfo": "y+name",
         "line": {
          "color": "rgb(38,160,44)",
          "width": 10
         },
         "mode": "lines",
         "name": "loading:Barge I",
         "type": "scatter",
         "x": [
          "1970-01-01T02:26:12",
          "1970-01-01T02:26:12",
          "1970-01-01T02:59:32",
          "1970-01-01T02:59:32",
          "1970-01-01T02:59:32",
          "1970-01-01T06:11:12",
          "1970-01-01T06:11:12",
          "1970-01-01T06:44:32",
          "1970-01-01T06:44:32",
          "1970-01-01T06:44:32",
          "1970-01-01T09:58:32",
          "1970-01-01T09:58:32",
          "1970-01-01T10:31:52",
          "1970-01-01T10:31:52",
          "1970-01-01T10:31:52",
          "1970-01-01T13:44:12",
          "1970-01-01T13:44:12",
          "1970-01-01T14:17:32",
          "1970-01-01T14:17:32",
          "1970-01-01T14:17:32",
          "1970-01-01T02:26:12",
          "1970-01-01T02:26:12",
          "1970-01-01T02:59:32",
          "1970-01-01T02:59:32",
          "1970-01-01T02:59:32",
          "1970-01-01T06:11:12",
          "1970-01-01T06:11:12",
          "1970-01-01T06:44:32",
          "1970-01-01T06:44:32",
          "1970-01-01T06:44:32",
          "1970-01-01T09:58:32",
          "1970-01-01T09:58:32",
          "1970-01-01T10:31:52",
          "1970-01-01T10:31:52",
          "1970-01-01T10:31:52",
          "1970-01-01T13:44:12",
          "1970-01-01T13:44:12",
          "1970-01-01T14:17:32",
          "1970-01-01T14:17:32",
          "1970-01-01T14:17:32"
         ],
         "y": [
          "Trench",
          "Trench",
          "Trench",
          "Trench",
          null,
          "Trench",
          "Trench",
          "Trench",
          "Trench",
          null,
          "Trench",
          "Trench",
          "Trench",
          "Trench",
          null,
          "Trench",
          "Trench",
          "Trench",
          "Trench",
          null,
          "Cutter T",
          "Cutter T",
          "Cutter T",
          "Cutter T",
          null,
          "Cutter T",
          "Cutter T",
          "Cutter T",
          "Cutter T",
          null,
          "Cutter T",
          "Cutter T",
          "Cutter T",
          "Cutter T",
          null,
          "Cutter T",
          "Cutter T",
          "Cutter T",
          "Cutter T",
          null
         ]
        },
        {
         "connectgaps": false,
         "hoverinfo": "y+name",
         "line": {
          "color": "rgb(52,174,58)",
          "width": 10
         },
         "mode": "lines",
         "name": "loading:Carrier B",
         "type": "scatter",
         "x": [
          "1970-01-01T01:52:52",
          "1970-01-01T01:52:52",
          "1970-01-01T02:26:12",
          "1970-01-01T02:26:12",
          "1970-01-01T02:26:12",
          "1970-01-01T05:37:52",
          "1970-01-01T05:37:52",
          "1970-01-01T06:11:12",
          "1970-01-01T06:11:12",
          "1970-01-01T06:11:12",
          "1970-01-01T09:25:12",
          "1970-01-01T09:25:12",
          "1970-01-01T09:58:32",
          "1970-01-01T09:58:32",
          "1970-01-01T09:58:32",
          "1970-01-01T12:29:12",
          "1970-01-01T12:29:12",
          "1970-01-01T13:02:32",
          "1970-01-01T13:02:32",
          "1970-01-01T13:02:32",
          "1970-01-01T01:52:52",
          "1970-01-01T01:52:52",
          "1970-01-01T02:26:12",
          "1970-01-01T02:26:12",
          "1970-01-01T02:26:12",
          "1970-01-01T05:37:52",
          "1970-01-01T05:37:52",
          "1970-01-01T06:11:12",
          "1970-01-01T06:11:12",
          "1970-01-01T06:11:12",
          "1970-01-01T09:25:12",
          "1970-01-01T09:25:12",
          "1970-01-01T09:58:32",
          "1970-01-01T09:58:32",
          "1970-01-01T09:58:32",
          "1970-01-01T12:29:12",
          "1970-01-01T12:29:12",
          "1970-01-01T13:02:32",
          "1970-01-01T13:02:32",
          "1970-01-01T13:02:32"
         ],
         "y": [
          "Trench",
          "Trench",
          "Trench",
          "Trench",
          null,
          "Trench",
          "Trench",
          "Trench",
          "Trench",
          null,
          "Trench",
          "Trench",
          "Trench",
          "Trench",
          null,
          "Trench",
          "Trench",
          "Trench",
          "Trench",
          null,
          "Cutter T",
          "Cutter T",
          "Cutter T",
          "Cutter T",
          null,
          "Cutter T",
          "Cutter T",
          "Cutter T",
          "Cutter T",
          null,
          "Cutter T",
          "Cutter T",
          "Cutter T",
          "Cutter T",
          null,
          "Cutter T",
          "Cutter T",
          "Cutter T",
          "Cutter T",
          null
         ]
        },
        {
         "connectgaps": false,
         "hoverinfo": "y+name",
         "line": {
          "color": "rgb(66,188,72)",
          "width": 10
         },
         "mode": "lines",
         "name": "loading:Carrier A",
         "type": "scatter",
         "x": [
          "1970-01-01T04:14:32",
          "1970-01-01T04:14:32",
          "1970-01-01T04:56:12",
          "1970-01-01T04:56:12",
          "1970-01-01T04:56:12",
          "1970-01-01T08:43:32",
          "1970-01-01T08:43:32",
          "1970-01-01T09:25:12",
          "1970-01-01T09:25:12",
          "1970-01-01T09:25:12",
          "1970-01-01T13:02:32",
          "1970-01-01T13:02:32",
          "1970-01-01T13:44:12",
          "1970-01-01T13:44:12",
          "1970-01-01T13:44:12",
          "1970-01-01T04:14:32",
          "1970-01-01T04:14:32",
          "1970-01-01T04:56:12",
          "1970-01-01T04:56:12",
          "1970-01-01T04:56:12",
          "1970-01-01T08:43:32",
          "1970-01-01T08:43:32",
          "1970-01-01T09:25:12",
          "1970-01-01T09:25:12",
          "1970-01-01T09:25:12",
          "1970-01-01T13:02:32",
          "1970-01-01T13:02:32",
          "1970-01-01T13:44:12",
          "1970-01-01T13:44:12",
          "1970-01-01T13:44:12"
         ],
         "y": [
          "Trench",
          "Trench",
          "Trench",
          "Trench",
          null,
          "Trench",
          "Trench",
          "Trench",
          "Trench",
          null,
          "Trench",
          "Trench",
          "Trench",
          "Trench",
          null,
          "Cutter T",
          "Cutter T",
          "Cutter T",
          "Cutter T",
          null,
          "Cutter T",
          "Cutter T",
          "Cutter T",
          "Cutter T",
          null,
          "Cutter T",
          "Cutter T",
          "Cutter T",
          "Cutter T",
          null
         ]
        },
        {
         "connectgaps": false,
         "hoverinfo": "y+name",
         "line": {
          "color": "rgb(80,202,86)",
          "width": 10
         },
         "mode": "lines",
         "name": "loading:Carrier C",
         "type": "scatter",
         "x": [
          "1970-01-01T01:11:12",
          "1970-01-01T01:11:12",
          "1970-01-01T01:52:52",
          "1970-01-01T01:52:52",
          "1970-01-01T01:52:52",
          "1970-01-01T04:56:12",
          "1970-01-01T04:56:12",
          "1970-01-01T05:37:52",
          "1970-01-01T05:37:52",
          "1970-01-01T05:37:52",
          "1970-01-01T08:01:52",
          "1970-01-01T08:01:52",
          "1970-01-01T08:43:32",
          "1970-01-01T08:43:32",
          "1970-01-01T08:43:32",
          "1970-01-01T11:13:32",
          "1970-01-01T11:13:32",
          "1970-01-01T11:55:12",
          "1970-01-01T11:55:12",
          "1970-01-01T11:55:12",
          "1970-01-01T14:59:12",
          "1970-01-01T14:59:12",
          "1970-01-01T15:40:52",
          "1970-01-01T15:40:52",
          "1970-01-01T15:40:52",
          "1970-01-01T01:11:12",
          "1970-01-01T01:11:12",
          "1970-01-01T01:52:52",
          "1970-01-01T01:52:52",
          "1970-01-01T01:52:52",
          "1970-01-01T04:56:12",
          "1970-01-01T04:56:12",
          "1970-01-01T05:37:52",
          "1970-01-01T05:37:52",
          "1970-01-01T05:37:52",
          "1970-01-01T08:01:52",
          "1970-01-01T08:01:52",
          "1970-01-01T08:43:32",
          "1970-01-01T08:43:32",
          "1970-01-01T08:43:32",
          "1970-01-01T11:13:32",
          "1970-01-01T11:13:32",
          "1970-01-01T11:55:12",
          "1970-01-01T11:55:12",
          "1970-01-01T11:55:12",
          "1970-01-01T14:59:12",
          "1970-01-01T14:59:12",
          "1970-01-01T15:40:52",
          "1970-01-01T15:40:52",
          "1970-01-01T15:40:52"
         ],
         "y": [
          "Trench",
          "Trench",
          "Trench",
          "Trench",
          null,
          "Trench",
          "Trench",
          "Trench",
          "Trench",
          null,
          "Trench",
          "Trench",
          "Trench",
          "Trench",
          null,
          "Trench",
          "Trench",
          "Trench",
          "Trench",
          null,
          "Trench",
          "Trench",
          "Trench",
          "Trench",
          null,
          "Cutter T",
          "Cutter T",
          "Cutter T",
          "Cutter T",
          null,
          "Cutter T",
          "Cutter T",
          "Cutter T",
          "Cutter T",
          null,
          "Cutter T",
          "Cutter T",
          "Cutter T",
          "Cutter T",
          null,
          "Cutter T",
          "Cutter T",
          "Cutter T",
          "Cutter T",
          null,
          "Cutter T",
          "Cutter T",
          "Cutter T",
          "Cutter T",
          null
         ]
        },
        {
         "connectgaps": false,
         "hoverinfo": "y+name",
         "line": {
          "color": "rgb(94,216,100)",
          "width": 10
         },
         "mode": "lines",
         "name": "unloading:Carrier B",
         "type": "scatter",
         "x": [
          "1970-01-01T03:03:52",
          "1970-01-01T03:03:52",
          "1970-01-01T03:41:32",
          "1970-01-01T03:41:32",
          "1970-01-01T03:41:32",
          "1970-01-01T06:48:52",
          "1970-01-01T06:48:52",
          "1970-01-01T07:26:32",
          "1970-01-01T07:26:32",
          "1970-01-01T07:26:32",
          "1970-01-01T10:36:12",
          "1970-01-01T10:36:12",
          "1970-01-01T11:13:52",
          "1970-01-01T11:13:52",
          "1970-01-01T11:13:52",
          "1970-01-01T13:40:12",
          "1970-01-01T13:40:12",
          "1970-01-01T14:17:52",
          "1970-01-01T14:17:52",
          "1970-01-01T14:17:52"
         ],
         "y": [
          "Reclamation",
          "Reclamation",
          "Reclamation",
          "Reclamation",
          null,
          "Reclamation",
          "Reclamation",
          "Reclamation",
          "Reclamation",
          null,
          "Reclamation",
          "Reclamation",
          "Reclamation",
          "Reclamation",
          null,
          "Reclamation",
          "Reclamation",
          "Reclamation",
          "Reclamation",
          null
         ]
        },
        {
         "connectgaps": false,
         "hoverinfo": "y+name",
         "line": {
          "color": "rgb(108,230,114)",
          "width": 10
         },
         "mode": "lines",
         "name": "unloading:Carrier C",
         "type": "scatter",
         "x": [
          "1970-01-01T02:28:28",
          "1970-01-01T02:28:28",
          "1970-01-01T03:04:04",
          "1970-01-01T03:04:04",
          "1970-01-01T03:04:04",
          "1970-01-01T06:13:28",
          "1970-01-01T06:13:28",
          "1970-01-01T06:49:04",
          "1970-01-01T06:49:04",
          "1970-01-01T06:49:04",
          "1970-01-01T09:19:08",
          "1970-01-01T09:19:08",
          "1970-01-01T09:54:44",
          "1970-01-01T09:54:44",
          "1970-01-01T09:54:44",
          "1970-01-01T12:30:48",
          "1970-01-01T12:30:48",
          "1970-01-01T13:06:24",
          "1970-01-01T13:06:24",
          "1970-01-01T13:06:24",
          "1970-01-01T16:16:28",
          "1970-01-01T16:16:28",
          "1970-01-01T16:52:04",
          "1970-01-01T16:52:04",
          "1970-01-01T16:52:04"
         ],
         "y": [
          "Reclamation",
          "Reclamation",
          "Reclamation",
          "Reclamation",
          null,
          "Reclamation",
          "Reclamation",
          "Reclamation",
          "Reclamation",
          null,
          "Reclamation",
          "Reclamation",
          "Reclamation",
          "Reclamation",
          null,
          "Reclamation",
          "Reclamation",
          "Reclamation",
          "Reclamation",
          null,
          "Reclamation",
          "Reclamation",
          "Reclamation",
          "Reclamation",
          null
         ]
        },
        {
         "connectgaps": false,
         "hoverinfo": "y+name",
         "line": {
          "color": "rgb(122,244,128)",
          "width": 10
         },
         "mode": "lines",
         "name": "unloading:Barge II",
         "type": "scatter",
         "x": [
          "1970-01-01T05:03:02",
          "1970-01-01T05:03:02",
          "1970-01-01T05:51:32",
          "1970-01-01T05:51:32",
          "1970-01-01T05:51:32",
          "1970-01-01T08:50:22",
          "1970-01-01T08:50:22",
          "1970-01-01T09:38:52",
          "1970-01-01T09:38:52",
          "1970-01-01T09:38:52",
          "1970-01-01T13:17:02",
          "1970-01-01T13:17:02",
          "1970-01-01T14:05:32",
          "1970-01-01T14:05:32",
          "1970-01-01T14:05:32"
         ],
         "y": [
          "Reclamation",
          "Reclamation",
          "Reclamation",
          "Reclamation",
          null,
          "Reclamation",
          "Reclamation",
          "Reclamation",
          "Reclamation",
          null,
          "Reclamation",
          "Reclamation",
          "Reclamation",
          "Reclamation",
          null
         ]
        },
        {
         "connectgaps": false,
         "hoverinfo": "y+name",
         "line": {
          "color": "rgb(136,2,142)",
          "width": 10
         },
         "mode": "lines",
         "name": "unloading:Barge I",
         "type": "scatter",
         "x": [
          "1970-01-01T03:38:15",
          "1970-01-01T03:38:15",
          "1970-01-01T04:16:58",
          "1970-01-01T04:16:58",
          "1970-01-01T04:16:58",
          "1970-01-01T07:23:15",
          "1970-01-01T07:23:15",
          "1970-01-01T08:01:58",
          "1970-01-01T08:01:58",
          "1970-01-01T08:01:58",
          "1970-01-01T11:10:35",
          "1970-01-01T11:10:35",
          "1970-01-01T11:49:18",
          "1970-01-01T11:49:18",
          "1970-01-01T11:49:18",
          "1970-01-01T14:56:15",
          "1970-01-01T14:56:15",
          "1970-01-01T15:34:58",
          "1970-01-01T15:34:58",
          "1970-01-01T15:34:58"
         ],
         "y": [
          "Reclamation",
          "Reclamation",
          "Reclamation",
          "Reclamation",
          null,
          "Reclamation",
          "Reclamation",
          "Reclamation",
          "Reclamation",
          null,
          "Reclamation",
          "Reclamation",
          "Reclamation",
          "Reclamation",
          null,
          "Reclamation",
          "Reclamation",
          "Reclamation",
          "Reclamation",
          null
         ]
        },
        {
         "connectgaps": false,
         "hoverinfo": "y+name",
         "line": {
          "color": "rgb(150,16,156)",
          "width": 10
         },
         "mode": "lines",
         "name": "unloading:Barge III",
         "type": "scatter",
         "x": [
          "1970-01-01T04:20:25",
          "1970-01-01T04:20:25",
          "1970-01-01T04:59:38",
          "1970-01-01T04:59:38",
          "1970-01-01T04:59:38",
          "1970-01-01T08:05:25",
          "1970-01-01T08:05:25",
          "1970-01-01T08:44:38",
          "1970-01-01T08:44:38",
          "1970-01-01T08:44:38",
          "1970-01-01T11:52:45",
          "1970-01-01T11:52:45",
          "1970-01-01T12:31:58",
          "1970-01-01T12:31:58",
          "1970-01-01T12:31:58",
          "1970-01-01T15:38:25",
          "1970-01-01T15:38:25",
          "1970-01-01T16:17:38",
          "1970-01-01T16:17:38",
          "1970-01-01T16:17:38"
         ],
         "y": [
          "Reclamation",
          "Reclamation",
          "Reclamation",
          "Reclamation",
          null,
          "Reclamation",
          "Reclamation",
          "Reclamation",
          "Reclamation",
          null,
          "Reclamation",
          "Reclamation",
          "Reclamation",
          "Reclamation",
          null,
          "Reclamation",
          "Reclamation",
          "Reclamation",
          "Reclamation",
          null
         ]
        },
        {
         "connectgaps": false,
         "hoverinfo": "y+name",
         "line": {
          "color": "rgb(164,30,170)",
          "width": 10
         },
         "mode": "lines",
         "name": "unloading:Carrier A",
         "type": "scatter",
         "x": [
          "1970-01-01T05:45:53",
          "1970-01-01T05:45:53",
          "1970-01-01T06:35:34",
          "1970-01-01T06:35:34",
          "1970-01-01T06:35:34",
          "1970-01-01T10:14:53",
          "1970-01-01T10:14:53",
          "1970-01-01T11:04:34",
          "1970-01-01T11:04:34",
          "1970-01-01T11:04:34",
          "1970-01-01T14:33:53",
          "1970-01-01T14:33:53",
          "1970-01-01T15:23:34",
          "1970-01-01T15:23:34",
          "1970-01-01T15:23:34"
         ],
         "y": [
          "Reclamation",
          "Reclamation",
          "Reclamation",
          "Reclamation",
          null,
          "Reclamation",
          "Reclamation",
          "Reclamation",
          "Reclamation",
          null,
          "Reclamation",
          "Reclamation",
          "Reclamation",
          "Reclamation",
          null
         ]
        },
        {
         "connectgaps": false,
         "hoverinfo": "y+name",
         "line": {
          "color": "rgb(178,44,184)",
          "width": 10
         },
         "mode": "lines",
         "name": "loading:Barge II",
         "type": "scatter",
         "x": [
          "1970-01-01T03:41:12",
          "1970-01-01T03:41:12",
          "1970-01-01T04:14:32",
          "1970-01-01T04:14:32",
          "1970-01-01T04:14:32",
          "1970-01-01T07:28:32",
          "1970-01-01T07:28:32",
          "1970-01-01T08:01:52",
          "1970-01-01T08:01:52",
          "1970-01-01T08:01:52",
          "1970-01-01T11:55:12",
          "1970-01-01T11:55:12",
          "1970-01-01T12:28:32",
          "1970-01-01T12:28:32",
          "1970-01-01T12:28:32",
          "1970-01-01T03:41:12",
          "1970-01-01T03:41:12",
          "1970-01-01T04:14:32",
          "1970-01-01T04:14:32",
          "1970-01-01T04:14:32",
          "1970-01-01T07:28:32",
          "1970-01-01T07:28:32",
          "1970-01-01T08:01:52",
          "1970-01-01T08:01:52",
          "1970-01-01T08:01:52",
          "1970-01-01T11:55:12",
          "1970-01-01T11:55:12",
          "1970-01-01T12:28:32",
          "1970-01-01T12:28:32",
          "1970-01-01T12:28:32"
         ],
         "y": [
          "Trench",
          "Trench",
          "Trench",
          "Trench",
          null,
          "Trench",
          "Trench",
          "Trench",
          "Trench",
          null,
          "Trench",
          "Trench",
          "Trench",
          "Trench",
          null,
          "Cutter T",
          "Cutter T",
          "Cutter T",
          "Cutter T",
          null,
          "Cutter T",
          "Cutter T",
          "Cutter T",
          "Cutter T",
          null,
          "Cutter T",
          "Cutter T",
          "Cutter T",
          "Cutter T",
          null
         ]
        },
        {
         "connectgaps": false,
         "hoverinfo": "y+name",
         "line": {
          "color": "rgb(192,58,198)",
          "width": 10
         },
         "mode": "lines",
         "name": "loading:Barge III",
         "type": "scatter",
         "x": [
          "1970-01-01T02:59:32",
          "1970-01-01T02:59:32",
          "1970-01-01T03:41:12",
          "1970-01-01T03:41:12",
          "1970-01-01T03:41:12",
          "1970-01-01T06:44:32",
          "1970-01-01T06:44:32",
          "1970-01-01T07:26:12",
          "1970-01-01T07:26:12",
          "1970-01-01T07:26:12",
          "1970-01-01T10:31:52",
          "1970-01-01T10:31:52",
          "1970-01-01T11:13:32",
          "1970-01-01T11:13:32",
          "1970-01-01T11:13:32",
          "1970-01-01T14:17:32",
          "1970-01-01T14:17:32",
          "1970-01-01T14:59:12",
          "1970-01-01T14:59:12",
          "1970-01-01T14:59:12",
          "1970-01-01T02:59:32",
          "1970-01-01T02:59:32",
          "1970-01-01T03:41:12",
          "1970-01-01T03:41:12",
          "1970-01-01T03:41:12",
          "1970-01-01T06:44:32",
          "1970-01-01T06:44:32",
          "1970-01-01T07:26:12",
          "1970-01-01T07:26:12",
          "1970-01-01T07:26:12",
          "1970-01-01T10:31:52",
          "1970-01-01T10:31:52",
          "1970-01-01T11:13:32",
          "1970-01-01T11:13:32",
          "1970-01-01T11:13:32",
          "1970-01-01T14:17:32",
          "1970-01-01T14:17:32",
          "1970-01-01T14:59:12",
          "1970-01-01T14:59:12",
          "1970-01-01T14:59:12"
         ],
         "y": [
          "Trench",
          "Trench",
          "Trench",
          "Trench",
          null,
          "Trench",
          "Trench",
          "Trench",
          "Trench",
          null,
          "Trench",
          "Trench",
          "Trench",
          "Trench",
          null,
          "Trench",
          "Trench",
          "Trench",
          "Trench",
          null,
          "Cutter T",
          "Cutter T",
          "Cutter T",
          "Cutter T",
          null,
          "Cutter T",
          "Cutter T",
          "Cutter T",
          "Cutter T",
          null,
          "Cutter T",
          "Cutter T",
          "Cutter T",
          "Cutter T",
          null,
          "Cutter T",
          "Cutter T",
          "Cutter T",
          "Cutter T",
          null
         ]
        },
        {
         "connectgaps": false,
         "hoverinfo": "y+name",
         "line": {
          "color": "rgb(206,72,212)",
          "width": 10
         },
         "mode": "lines",
         "name": "loading:Barge I",
         "type": "scatter",
         "x": [
          "1970-01-01T02:26:12",
          "1970-01-01T02:26:12",
          "1970-01-01T02:59:32",
          "1970-01-01T02:59:32",
          "1970-01-01T02:59:32",
          "1970-01-01T06:11:12",
          "1970-01-01T06:11:12",
          "1970-01-01T06:44:32",
          "1970-01-01T06:44:32",
          "1970-01-01T06:44:32",
          "1970-01-01T09:58:32",
          "1970-01-01T09:58:32",
          "1970-01-01T10:31:52",
          "1970-01-01T10:31:52",
          "1970-01-01T10:31:52",
          "1970-01-01T13:44:12",
          "1970-01-01T13:44:12",
          "1970-01-01T14:17:32",
          "1970-01-01T14:17:32",
          "1970-01-01T14:17:32",
          "1970-01-01T02:26:12",
          "1970-01-01T02:26:12",
          "1970-01-01T02:59:32",
          "1970-01-01T02:59:32",
          "1970-01-01T02:59:32",
          "1970-01-01T06:11:12",
          "1970-01-01T06:11:12",
          "1970-01-01T06:44:32",
          "1970-01-01T06:44:32",
          "1970-01-01T06:44:32",
          "1970-01-01T09:58:32",
          "1970-01-01T09:58:32",
          "1970-01-01T10:31:52",
          "1970-01-01T10:31:52",
          "1970-01-01T10:31:52",
          "1970-01-01T13:44:12",
          "1970-01-01T13:44:12",
          "1970-01-01T14:17:32",
          "1970-01-01T14:17:32",
          "1970-01-01T14:17:32"
         ],
         "y": [
          "Trench",
          "Trench",
          "Trench",
          "Trench",
          null,
          "Trench",
          "Trench",
          "Trench",
          "Trench",
          null,
          "Trench",
          "Trench",
          "Trench",
          "Trench",
          null,
          "Trench",
          "Trench",
          "Trench",
          "Trench",
          null,
          "Cutter T",
          "Cutter T",
          "Cutter T",
          "Cutter T",
          null,
          "Cutter T",
          "Cutter T",
          "Cutter T",
          "Cutter T",
          null,
          "Cutter T",
          "Cutter T",
          "Cutter T",
          "Cutter T",
          null,
          "Cutter T",
          "Cutter T",
          "Cutter T",
          "Cutter T",
          null
         ]
        },
        {
         "connectgaps": false,
         "hoverinfo": "y+name",
         "line": {
          "color": "rgb(220,86,226)",
          "width": 10
         },
         "mode": "lines",
         "name": "loading:Carrier B",
         "type": "scatter",
         "x": [
          "1970-01-01T01:52:52",
          "1970-01-01T01:52:52",
          "1970-01-01T02:26:12",
          "1970-01-01T02:26:12",
          "1970-01-01T02:26:12",
          "1970-01-01T05:37:52",
          "1970-01-01T05:37:52",
          "1970-01-01T06:11:12",
          "1970-01-01T06:11:12",
          "1970-01-01T06:11:12",
          "1970-01-01T09:25:12",
          "1970-01-01T09:25:12",
          "1970-01-01T09:58:32",
          "1970-01-01T09:58:32",
          "1970-01-01T09:58:32",
          "1970-01-01T12:29:12",
          "1970-01-01T12:29:12",
          "1970-01-01T13:02:32",
          "1970-01-01T13:02:32",
          "1970-01-01T13:02:32",
          "1970-01-01T01:52:52",
          "1970-01-01T01:52:52",
          "1970-01-01T02:26:12",
          "1970-01-01T02:26:12",
          "1970-01-01T02:26:12",
          "1970-01-01T05:37:52",
          "1970-01-01T05:37:52",
          "1970-01-01T06:11:12",
          "1970-01-01T06:11:12",
          "1970-01-01T06:11:12",
          "1970-01-01T09:25:12",
          "1970-01-01T09:25:12",
          "1970-01-01T09:58:32",
          "1970-01-01T09:58:32",
          "1970-01-01T09:58:32",
          "1970-01-01T12:29:12",
          "1970-01-01T12:29:12",
          "1970-01-01T13:02:32",
          "1970-01-01T13:02:32",
          "1970-01-01T13:02:32"
         ],
         "y": [
          "Trench",
          "Trench",
          "Trench",
          "Trench",
          null,
          "Trench",
          "Trench",
          "Trench",
          "Trench",
          null,
          "Trench",
          "Trench",
          "Trench",
          "Trench",
          null,
          "Trench",
          "Trench",
          "Trench",
          "Trench",
          null,
          "Cutter T",
          "Cutter T",
          "Cutter T",
          "Cutter T",
          null,
          "Cutter T",
          "Cutter T",
          "Cutter T",
          "Cutter T",
          null,
          "Cutter T",
          "Cutter T",
          "Cutter T",
          "Cutter T",
          null,
          "Cutter T",
          "Cutter T",
          "Cutter T",
          "Cutter T",
          null
         ]
        },
        {
         "connectgaps": false,
         "hoverinfo": "y+name",
         "line": {
          "color": "rgb(234,100,240)",
          "width": 10
         },
         "mode": "lines",
         "name": "loading:Carrier A",
         "type": "scatter",
         "x": [
          "1970-01-01T04:14:32",
          "1970-01-01T04:14:32",
          "1970-01-01T04:56:12",
          "1970-01-01T04:56:12",
          "1970-01-01T04:56:12",
          "1970-01-01T08:43:32",
          "1970-01-01T08:43:32",
          "1970-01-01T09:25:12",
          "1970-01-01T09:25:12",
          "1970-01-01T09:25:12",
          "1970-01-01T13:02:32",
          "1970-01-01T13:02:32",
          "1970-01-01T13:44:12",
          "1970-01-01T13:44:12",
          "1970-01-01T13:44:12",
          "1970-01-01T04:14:32",
          "1970-01-01T04:14:32",
          "1970-01-01T04:56:12",
          "1970-01-01T04:56:12",
          "1970-01-01T04:56:12",
          "1970-01-01T08:43:32",
          "1970-01-01T08:43:32",
          "1970-01-01T09:25:12",
          "1970-01-01T09:25:12",
          "1970-01-01T09:25:12",
          "1970-01-01T13:02:32",
          "1970-01-01T13:02:32",
          "1970-01-01T13:44:12",
          "1970-01-01T13:44:12",
          "1970-01-01T13:44:12"
         ],
         "y": [
          "Trench",
          "Trench",
          "Trench",
          "Trench",
          null,
          "Trench",
          "Trench",
          "Trench",
          "Trench",
          null,
          "Trench",
          "Trench",
          "Trench",
          "Trench",
          null,
          "Cutter T",
          "Cutter T",
          "Cutter T",
          "Cutter T",
          null,
          "Cutter T",
          "Cutter T",
          "Cutter T",
          "Cutter T",
          null,
          "Cutter T",
          "Cutter T",
          "Cutter T",
          "Cutter T",
          null
         ]
        },
        {
         "connectgaps": false,
         "hoverinfo": "y+name",
         "line": {
          "color": "rgb(248,114,254)",
          "width": 10
         },
         "mode": "lines",
         "name": "loading:Carrier C",
         "type": "scatter",
         "x": [
          "1970-01-01T01:11:12",
          "1970-01-01T01:11:12",
          "1970-01-01T01:52:52",
          "1970-01-01T01:52:52",
          "1970-01-01T01:52:52",
          "1970-01-01T04:56:12",
          "1970-01-01T04:56:12",
          "1970-01-01T05:37:52",
          "1970-01-01T05:37:52",
          "1970-01-01T05:37:52",
          "1970-01-01T08:01:52",
          "1970-01-01T08:01:52",
          "1970-01-01T08:43:32",
          "1970-01-01T08:43:32",
          "1970-01-01T08:43:32",
          "1970-01-01T11:13:32",
          "1970-01-01T11:13:32",
          "1970-01-01T11:55:12",
          "1970-01-01T11:55:12",
          "1970-01-01T11:55:12",
          "1970-01-01T14:59:12",
          "1970-01-01T14:59:12",
          "1970-01-01T15:40:52",
          "1970-01-01T15:40:52",
          "1970-01-01T15:40:52",
          "1970-01-01T01:11:12",
          "1970-01-01T01:11:12",
          "1970-01-01T01:52:52",
          "1970-01-01T01:52:52",
          "1970-01-01T01:52:52",
          "1970-01-01T04:56:12",
          "1970-01-01T04:56:12",
          "1970-01-01T05:37:52",
          "1970-01-01T05:37:52",
          "1970-01-01T05:37:52",
          "1970-01-01T08:01:52",
          "1970-01-01T08:01:52",
          "1970-01-01T08:43:32",
          "1970-01-01T08:43:32",
          "1970-01-01T08:43:32",
          "1970-01-01T11:13:32",
          "1970-01-01T11:13:32",
          "1970-01-01T11:55:12",
          "1970-01-01T11:55:12",
          "1970-01-01T11:55:12",
          "1970-01-01T14:59:12",
          "1970-01-01T14:59:12",
          "1970-01-01T15:40:52",
          "1970-01-01T15:40:52",
          "1970-01-01T15:40:52"
         ],
         "y": [
          "Trench",
          "Trench",
          "Trench",
          "Trench",
          null,
          "Trench",
          "Trench",
          "Trench",
          "Trench",
          null,
          "Trench",
          "Trench",
          "Trench",
          "Trench",
          null,
          "Trench",
          "Trench",
          "Trench",
          "Trench",
          null,
          "Trench",
          "Trench",
          "Trench",
          "Trench",
          null,
          "Cutter T",
          "Cutter T",
          "Cutter T",
          "Cutter T",
          null,
          "Cutter T",
          "Cutter T",
          "Cutter T",
          "Cutter T",
          null,
          "Cutter T",
          "Cutter T",
          "Cutter T",
          "Cutter T",
          null,
          "Cutter T",
          "Cutter T",
          "Cutter T",
          "Cutter T",
          null,
          "Cutter T",
          "Cutter T",
          "Cutter T",
          "Cutter T",
          null
         ]
        }
       ],
       "layout": {
        "hovermode": "closest",
        "legend": {
         "orientation": "h",
         "x": 0,
         "y": -0.2
        },
        "template": {
         "data": {
          "bar": [
           {
            "error_x": {
             "color": "#2a3f5f"
            },
            "error_y": {
             "color": "#2a3f5f"
            },
            "marker": {
             "line": {
              "color": "#E5ECF6",
              "width": 0.5
             },
             "pattern": {
              "fillmode": "overlay",
              "size": 10,
              "solidity": 0.2
             }
            },
            "type": "bar"
           }
          ],
          "barpolar": [
           {
            "marker": {
             "line": {
              "color": "#E5ECF6",
              "width": 0.5
             },
             "pattern": {
              "fillmode": "overlay",
              "size": 10,
              "solidity": 0.2
             }
            },
            "type": "barpolar"
           }
          ],
          "carpet": [
           {
            "aaxis": {
             "endlinecolor": "#2a3f5f",
             "gridcolor": "white",
             "linecolor": "white",
             "minorgridcolor": "white",
             "startlinecolor": "#2a3f5f"
            },
            "baxis": {
             "endlinecolor": "#2a3f5f",
             "gridcolor": "white",
             "linecolor": "white",
             "minorgridcolor": "white",
             "startlinecolor": "#2a3f5f"
            },
            "type": "carpet"
           }
          ],
          "choropleth": [
           {
            "colorbar": {
             "outlinewidth": 0,
             "ticks": ""
            },
            "type": "choropleth"
           }
          ],
          "contour": [
           {
            "colorbar": {
             "outlinewidth": 0,
             "ticks": ""
            },
            "colorscale": [
             [
              0,
              "#0d0887"
             ],
             [
              0.1111111111111111,
              "#46039f"
             ],
             [
              0.2222222222222222,
              "#7201a8"
             ],
             [
              0.3333333333333333,
              "#9c179e"
             ],
             [
              0.4444444444444444,
              "#bd3786"
             ],
             [
              0.5555555555555556,
              "#d8576b"
             ],
             [
              0.6666666666666666,
              "#ed7953"
             ],
             [
              0.7777777777777778,
              "#fb9f3a"
             ],
             [
              0.8888888888888888,
              "#fdca26"
             ],
             [
              1,
              "#f0f921"
             ]
            ],
            "type": "contour"
           }
          ],
          "contourcarpet": [
           {
            "colorbar": {
             "outlinewidth": 0,
             "ticks": ""
            },
            "type": "contourcarpet"
           }
          ],
          "heatmap": [
           {
            "colorbar": {
             "outlinewidth": 0,
             "ticks": ""
            },
            "colorscale": [
             [
              0,
              "#0d0887"
             ],
             [
              0.1111111111111111,
              "#46039f"
             ],
             [
              0.2222222222222222,
              "#7201a8"
             ],
             [
              0.3333333333333333,
              "#9c179e"
             ],
             [
              0.4444444444444444,
              "#bd3786"
             ],
             [
              0.5555555555555556,
              "#d8576b"
             ],
             [
              0.6666666666666666,
              "#ed7953"
             ],
             [
              0.7777777777777778,
              "#fb9f3a"
             ],
             [
              0.8888888888888888,
              "#fdca26"
             ],
             [
              1,
              "#f0f921"
             ]
            ],
            "type": "heatmap"
           }
          ],
          "heatmapgl": [
           {
            "colorbar": {
             "outlinewidth": 0,
             "ticks": ""
            },
            "colorscale": [
             [
              0,
              "#0d0887"
             ],
             [
              0.1111111111111111,
              "#46039f"
             ],
             [
              0.2222222222222222,
              "#7201a8"
             ],
             [
              0.3333333333333333,
              "#9c179e"
             ],
             [
              0.4444444444444444,
              "#bd3786"
             ],
             [
              0.5555555555555556,
              "#d8576b"
             ],
             [
              0.6666666666666666,
              "#ed7953"
             ],
             [
              0.7777777777777778,
              "#fb9f3a"
             ],
             [
              0.8888888888888888,
              "#fdca26"
             ],
             [
              1,
              "#f0f921"
             ]
            ],
            "type": "heatmapgl"
           }
          ],
          "histogram": [
           {
            "marker": {
             "pattern": {
              "fillmode": "overlay",
              "size": 10,
              "solidity": 0.2
             }
            },
            "type": "histogram"
           }
          ],
          "histogram2d": [
           {
            "colorbar": {
             "outlinewidth": 0,
             "ticks": ""
            },
            "colorscale": [
             [
              0,
              "#0d0887"
             ],
             [
              0.1111111111111111,
              "#46039f"
             ],
             [
              0.2222222222222222,
              "#7201a8"
             ],
             [
              0.3333333333333333,
              "#9c179e"
             ],
             [
              0.4444444444444444,
              "#bd3786"
             ],
             [
              0.5555555555555556,
              "#d8576b"
             ],
             [
              0.6666666666666666,
              "#ed7953"
             ],
             [
              0.7777777777777778,
              "#fb9f3a"
             ],
             [
              0.8888888888888888,
              "#fdca26"
             ],
             [
              1,
              "#f0f921"
             ]
            ],
            "type": "histogram2d"
           }
          ],
          "histogram2dcontour": [
           {
            "colorbar": {
             "outlinewidth": 0,
             "ticks": ""
            },
            "colorscale": [
             [
              0,
              "#0d0887"
             ],
             [
              0.1111111111111111,
              "#46039f"
             ],
             [
              0.2222222222222222,
              "#7201a8"
             ],
             [
              0.3333333333333333,
              "#9c179e"
             ],
             [
              0.4444444444444444,
              "#bd3786"
             ],
             [
              0.5555555555555556,
              "#d8576b"
             ],
             [
              0.6666666666666666,
              "#ed7953"
             ],
             [
              0.7777777777777778,
              "#fb9f3a"
             ],
             [
              0.8888888888888888,
              "#fdca26"
             ],
             [
              1,
              "#f0f921"
             ]
            ],
            "type": "histogram2dcontour"
           }
          ],
          "mesh3d": [
           {
            "colorbar": {
             "outlinewidth": 0,
             "ticks": ""
            },
            "type": "mesh3d"
           }
          ],
          "parcoords": [
           {
            "line": {
             "colorbar": {
              "outlinewidth": 0,
              "ticks": ""
             }
            },
            "type": "parcoords"
           }
          ],
          "pie": [
           {
            "automargin": true,
            "type": "pie"
           }
          ],
          "scatter": [
           {
            "fillpattern": {
             "fillmode": "overlay",
             "size": 10,
             "solidity": 0.2
            },
            "type": "scatter"
           }
          ],
          "scatter3d": [
           {
            "line": {
             "colorbar": {
              "outlinewidth": 0,
              "ticks": ""
             }
            },
            "marker": {
             "colorbar": {
              "outlinewidth": 0,
              "ticks": ""
             }
            },
            "type": "scatter3d"
           }
          ],
          "scattercarpet": [
           {
            "marker": {
             "colorbar": {
              "outlinewidth": 0,
              "ticks": ""
             }
            },
            "type": "scattercarpet"
           }
          ],
          "scattergeo": [
           {
            "marker": {
             "colorbar": {
              "outlinewidth": 0,
              "ticks": ""
             }
            },
            "type": "scattergeo"
           }
          ],
          "scattergl": [
           {
            "marker": {
             "colorbar": {
              "outlinewidth": 0,
              "ticks": ""
             }
            },
            "type": "scattergl"
           }
          ],
          "scattermapbox": [
           {
            "marker": {
             "colorbar": {
              "outlinewidth": 0,
              "ticks": ""
             }
            },
            "type": "scattermapbox"
           }
          ],
          "scatterpolar": [
           {
            "marker": {
             "colorbar": {
              "outlinewidth": 0,
              "ticks": ""
             }
            },
            "type": "scatterpolar"
           }
          ],
          "scatterpolargl": [
           {
            "marker": {
             "colorbar": {
              "outlinewidth": 0,
              "ticks": ""
             }
            },
            "type": "scatterpolargl"
           }
          ],
          "scatterternary": [
           {
            "marker": {
             "colorbar": {
              "outlinewidth": 0,
              "ticks": ""
             }
            },
            "type": "scatterternary"
           }
          ],
          "surface": [
           {
            "colorbar": {
             "outlinewidth": 0,
             "ticks": ""
            },
            "colorscale": [
             [
              0,
              "#0d0887"
             ],
             [
              0.1111111111111111,
              "#46039f"
             ],
             [
              0.2222222222222222,
              "#7201a8"
             ],
             [
              0.3333333333333333,
              "#9c179e"
             ],
             [
              0.4444444444444444,
              "#bd3786"
             ],
             [
              0.5555555555555556,
              "#d8576b"
             ],
             [
              0.6666666666666666,
              "#ed7953"
             ],
             [
              0.7777777777777778,
              "#fb9f3a"
             ],
             [
              0.8888888888888888,
              "#fdca26"
             ],
             [
              1,
              "#f0f921"
             ]
            ],
            "type": "surface"
           }
          ],
          "table": [
           {
            "cells": {
             "fill": {
              "color": "#EBF0F8"
             },
             "line": {
              "color": "white"
             }
            },
            "header": {
             "fill": {
              "color": "#C8D4E3"
             },
             "line": {
              "color": "white"
             }
            },
            "type": "table"
           }
          ]
         },
         "layout": {
          "annotationdefaults": {
           "arrowcolor": "#2a3f5f",
           "arrowhead": 0,
           "arrowwidth": 1
          },
          "autotypenumbers": "strict",
          "coloraxis": {
           "colorbar": {
            "outlinewidth": 0,
            "ticks": ""
           }
          },
          "colorscale": {
           "diverging": [
            [
             0,
             "#8e0152"
            ],
            [
             0.1,
             "#c51b7d"
            ],
            [
             0.2,
             "#de77ae"
            ],
            [
             0.3,
             "#f1b6da"
            ],
            [
             0.4,
             "#fde0ef"
            ],
            [
             0.5,
             "#f7f7f7"
            ],
            [
             0.6,
             "#e6f5d0"
            ],
            [
             0.7,
             "#b8e186"
            ],
            [
             0.8,
             "#7fbc41"
            ],
            [
             0.9,
             "#4d9221"
            ],
            [
             1,
             "#276419"
            ]
           ],
           "sequential": [
            [
             0,
             "#0d0887"
            ],
            [
             0.1111111111111111,
             "#46039f"
            ],
            [
             0.2222222222222222,
             "#7201a8"
            ],
            [
             0.3333333333333333,
             "#9c179e"
            ],
            [
             0.4444444444444444,
             "#bd3786"
            ],
            [
             0.5555555555555556,
             "#d8576b"
            ],
            [
             0.6666666666666666,
             "#ed7953"
            ],
            [
             0.7777777777777778,
             "#fb9f3a"
            ],
            [
             0.8888888888888888,
             "#fdca26"
            ],
            [
             1,
             "#f0f921"
            ]
           ],
           "sequentialminus": [
            [
             0,
             "#0d0887"
            ],
            [
             0.1111111111111111,
             "#46039f"
            ],
            [
             0.2222222222222222,
             "#7201a8"
            ],
            [
             0.3333333333333333,
             "#9c179e"
            ],
            [
             0.4444444444444444,
             "#bd3786"
            ],
            [
             0.5555555555555556,
             "#d8576b"
            ],
            [
             0.6666666666666666,
             "#ed7953"
            ],
            [
             0.7777777777777778,
             "#fb9f3a"
            ],
            [
             0.8888888888888888,
             "#fdca26"
            ],
            [
             1,
             "#f0f921"
            ]
           ]
          },
          "colorway": [
           "#636efa",
           "#EF553B",
           "#00cc96",
           "#ab63fa",
           "#FFA15A",
           "#19d3f3",
           "#FF6692",
           "#B6E880",
           "#FF97FF",
           "#FECB52"
          ],
          "font": {
           "color": "#2a3f5f"
          },
          "geo": {
           "bgcolor": "white",
           "lakecolor": "white",
           "landcolor": "#E5ECF6",
           "showlakes": true,
           "showland": true,
           "subunitcolor": "white"
          },
          "hoverlabel": {
           "align": "left"
          },
          "hovermode": "closest",
          "mapbox": {
           "style": "light"
          },
          "paper_bgcolor": "white",
          "plot_bgcolor": "#E5ECF6",
          "polar": {
           "angularaxis": {
            "gridcolor": "white",
            "linecolor": "white",
            "ticks": ""
           },
           "bgcolor": "#E5ECF6",
           "radialaxis": {
            "gridcolor": "white",
            "linecolor": "white",
            "ticks": ""
           }
          },
          "scene": {
           "xaxis": {
            "backgroundcolor": "#E5ECF6",
            "gridcolor": "white",
            "gridwidth": 2,
            "linecolor": "white",
            "showbackground": true,
            "ticks": "",
            "zerolinecolor": "white"
           },
           "yaxis": {
            "backgroundcolor": "#E5ECF6",
            "gridcolor": "white",
            "gridwidth": 2,
            "linecolor": "white",
            "showbackground": true,
            "ticks": "",
            "zerolinecolor": "white"
           },
           "zaxis": {
            "backgroundcolor": "#E5ECF6",
            "gridcolor": "white",
            "gridwidth": 2,
            "linecolor": "white",
            "showbackground": true,
            "ticks": "",
            "zerolinecolor": "white"
           }
          },
          "shapedefaults": {
           "line": {
            "color": "#2a3f5f"
           }
          },
          "ternary": {
           "aaxis": {
            "gridcolor": "white",
            "linecolor": "white",
            "ticks": ""
           },
           "baxis": {
            "gridcolor": "white",
            "linecolor": "white",
            "ticks": ""
           },
           "bgcolor": "#E5ECF6",
           "caxis": {
            "gridcolor": "white",
            "linecolor": "white",
            "ticks": ""
           }
          },
          "title": {
           "x": 0.05
          },
          "xaxis": {
           "automargin": true,
           "gridcolor": "white",
           "linecolor": "white",
           "ticks": "",
           "title": {
            "standoff": 15
           },
           "zerolinecolor": "white",
           "zerolinewidth": 2
          },
          "yaxis": {
           "automargin": true,
           "gridcolor": "white",
           "linecolor": "white",
           "ticks": "",
           "title": {
            "standoff": 15
           },
           "zerolinecolor": "white",
           "zerolinewidth": 2
          }
         }
        },
        "title": {
         "text": "GANTT Chart"
        },
        "xaxis": {
         "range": [
          "1970-01-01T01:11:12",
          "1970-01-01T16:52:04"
         ],
         "title": {
          "font": {
           "color": "#7f7f7f",
           "family": "Courier New, monospace",
           "size": 18
          },
          "text": "Time"
         }
        },
        "yaxis": {
         "title": {
          "font": {
           "color": "#7f7f7f",
           "family": "Courier New, monospace",
           "size": 18
          },
          "text": "Activities"
         }
        }
       }
      },
      "text/html": [
       "<div>                            <div id=\"fa86de6c-cbd5-489c-8a41-8bfa826fc095\" class=\"plotly-graph-div\" style=\"height:525px; width:100%;\"></div>            <script type=\"text/javascript\">                require([\"plotly\"], function(Plotly) {                    window.PLOTLYENV=window.PLOTLYENV || {};                                    if (document.getElementById(\"fa86de6c-cbd5-489c-8a41-8bfa826fc095\")) {                    Plotly.newPlot(                        \"fa86de6c-cbd5-489c-8a41-8bfa826fc095\",                        [{\"connectgaps\":false,\"hoverinfo\":\"y+name\",\"line\":{\"color\":\"rgb(10,132,16)\",\"width\":10},\"mode\":\"lines\",\"name\":\"loading:Barge II\",\"x\":[\"1970-01-01T03:41:12\",\"1970-01-01T03:41:12\",\"1970-01-01T04:14:32\",\"1970-01-01T04:14:32\",\"1970-01-01T04:14:32\",\"1970-01-01T07:28:32\",\"1970-01-01T07:28:32\",\"1970-01-01T08:01:52\",\"1970-01-01T08:01:52\",\"1970-01-01T08:01:52\",\"1970-01-01T11:55:12\",\"1970-01-01T11:55:12\",\"1970-01-01T12:28:32\",\"1970-01-01T12:28:32\",\"1970-01-01T12:28:32\",\"1970-01-01T03:41:12\",\"1970-01-01T03:41:12\",\"1970-01-01T04:14:32\",\"1970-01-01T04:14:32\",\"1970-01-01T04:14:32\",\"1970-01-01T07:28:32\",\"1970-01-01T07:28:32\",\"1970-01-01T08:01:52\",\"1970-01-01T08:01:52\",\"1970-01-01T08:01:52\",\"1970-01-01T11:55:12\",\"1970-01-01T11:55:12\",\"1970-01-01T12:28:32\",\"1970-01-01T12:28:32\",\"1970-01-01T12:28:32\"],\"y\":[\"Trench\",\"Trench\",\"Trench\",\"Trench\",null,\"Trench\",\"Trench\",\"Trench\",\"Trench\",null,\"Trench\",\"Trench\",\"Trench\",\"Trench\",null,\"Cutter T\",\"Cutter T\",\"Cutter T\",\"Cutter T\",null,\"Cutter T\",\"Cutter T\",\"Cutter T\",\"Cutter T\",null,\"Cutter T\",\"Cutter T\",\"Cutter T\",\"Cutter T\",null],\"type\":\"scatter\"},{\"connectgaps\":false,\"hoverinfo\":\"y+name\",\"line\":{\"color\":\"rgb(24,146,30)\",\"width\":10},\"mode\":\"lines\",\"name\":\"loading:Barge III\",\"x\":[\"1970-01-01T02:59:32\",\"1970-01-01T02:59:32\",\"1970-01-01T03:41:12\",\"1970-01-01T03:41:12\",\"1970-01-01T03:41:12\",\"1970-01-01T06:44:32\",\"1970-01-01T06:44:32\",\"1970-01-01T07:26:12\",\"1970-01-01T07:26:12\",\"1970-01-01T07:26:12\",\"1970-01-01T10:31:52\",\"1970-01-01T10:31:52\",\"1970-01-01T11:13:32\",\"1970-01-01T11:13:32\",\"1970-01-01T11:13:32\",\"1970-01-01T14:17:32\",\"1970-01-01T14:17:32\",\"1970-01-01T14:59:12\",\"1970-01-01T14:59:12\",\"1970-01-01T14:59:12\",\"1970-01-01T02:59:32\",\"1970-01-01T02:59:32\",\"1970-01-01T03:41:12\",\"1970-01-01T03:41:12\",\"1970-01-01T03:41:12\",\"1970-01-01T06:44:32\",\"1970-01-01T06:44:32\",\"1970-01-01T07:26:12\",\"1970-01-01T07:26:12\",\"1970-01-01T07:26:12\",\"1970-01-01T10:31:52\",\"1970-01-01T10:31:52\",\"1970-01-01T11:13:32\",\"1970-01-01T11:13:32\",\"1970-01-01T11:13:32\",\"1970-01-01T14:17:32\",\"1970-01-01T14:17:32\",\"1970-01-01T14:59:12\",\"1970-01-01T14:59:12\",\"1970-01-01T14:59:12\"],\"y\":[\"Trench\",\"Trench\",\"Trench\",\"Trench\",null,\"Trench\",\"Trench\",\"Trench\",\"Trench\",null,\"Trench\",\"Trench\",\"Trench\",\"Trench\",null,\"Trench\",\"Trench\",\"Trench\",\"Trench\",null,\"Cutter T\",\"Cutter T\",\"Cutter T\",\"Cutter T\",null,\"Cutter T\",\"Cutter T\",\"Cutter T\",\"Cutter T\",null,\"Cutter T\",\"Cutter T\",\"Cutter T\",\"Cutter T\",null,\"Cutter T\",\"Cutter T\",\"Cutter T\",\"Cutter T\",null],\"type\":\"scatter\"},{\"connectgaps\":false,\"hoverinfo\":\"y+name\",\"line\":{\"color\":\"rgb(38,160,44)\",\"width\":10},\"mode\":\"lines\",\"name\":\"loading:Barge I\",\"x\":[\"1970-01-01T02:26:12\",\"1970-01-01T02:26:12\",\"1970-01-01T02:59:32\",\"1970-01-01T02:59:32\",\"1970-01-01T02:59:32\",\"1970-01-01T06:11:12\",\"1970-01-01T06:11:12\",\"1970-01-01T06:44:32\",\"1970-01-01T06:44:32\",\"1970-01-01T06:44:32\",\"1970-01-01T09:58:32\",\"1970-01-01T09:58:32\",\"1970-01-01T10:31:52\",\"1970-01-01T10:31:52\",\"1970-01-01T10:31:52\",\"1970-01-01T13:44:12\",\"1970-01-01T13:44:12\",\"1970-01-01T14:17:32\",\"1970-01-01T14:17:32\",\"1970-01-01T14:17:32\",\"1970-01-01T02:26:12\",\"1970-01-01T02:26:12\",\"1970-01-01T02:59:32\",\"1970-01-01T02:59:32\",\"1970-01-01T02:59:32\",\"1970-01-01T06:11:12\",\"1970-01-01T06:11:12\",\"1970-01-01T06:44:32\",\"1970-01-01T06:44:32\",\"1970-01-01T06:44:32\",\"1970-01-01T09:58:32\",\"1970-01-01T09:58:32\",\"1970-01-01T10:31:52\",\"1970-01-01T10:31:52\",\"1970-01-01T10:31:52\",\"1970-01-01T13:44:12\",\"1970-01-01T13:44:12\",\"1970-01-01T14:17:32\",\"1970-01-01T14:17:32\",\"1970-01-01T14:17:32\"],\"y\":[\"Trench\",\"Trench\",\"Trench\",\"Trench\",null,\"Trench\",\"Trench\",\"Trench\",\"Trench\",null,\"Trench\",\"Trench\",\"Trench\",\"Trench\",null,\"Trench\",\"Trench\",\"Trench\",\"Trench\",null,\"Cutter T\",\"Cutter T\",\"Cutter T\",\"Cutter T\",null,\"Cutter T\",\"Cutter T\",\"Cutter T\",\"Cutter T\",null,\"Cutter T\",\"Cutter T\",\"Cutter T\",\"Cutter T\",null,\"Cutter T\",\"Cutter T\",\"Cutter T\",\"Cutter T\",null],\"type\":\"scatter\"},{\"connectgaps\":false,\"hoverinfo\":\"y+name\",\"line\":{\"color\":\"rgb(52,174,58)\",\"width\":10},\"mode\":\"lines\",\"name\":\"loading:Carrier B\",\"x\":[\"1970-01-01T01:52:52\",\"1970-01-01T01:52:52\",\"1970-01-01T02:26:12\",\"1970-01-01T02:26:12\",\"1970-01-01T02:26:12\",\"1970-01-01T05:37:52\",\"1970-01-01T05:37:52\",\"1970-01-01T06:11:12\",\"1970-01-01T06:11:12\",\"1970-01-01T06:11:12\",\"1970-01-01T09:25:12\",\"1970-01-01T09:25:12\",\"1970-01-01T09:58:32\",\"1970-01-01T09:58:32\",\"1970-01-01T09:58:32\",\"1970-01-01T12:29:12\",\"1970-01-01T12:29:12\",\"1970-01-01T13:02:32\",\"1970-01-01T13:02:32\",\"1970-01-01T13:02:32\",\"1970-01-01T01:52:52\",\"1970-01-01T01:52:52\",\"1970-01-01T02:26:12\",\"1970-01-01T02:26:12\",\"1970-01-01T02:26:12\",\"1970-01-01T05:37:52\",\"1970-01-01T05:37:52\",\"1970-01-01T06:11:12\",\"1970-01-01T06:11:12\",\"1970-01-01T06:11:12\",\"1970-01-01T09:25:12\",\"1970-01-01T09:25:12\",\"1970-01-01T09:58:32\",\"1970-01-01T09:58:32\",\"1970-01-01T09:58:32\",\"1970-01-01T12:29:12\",\"1970-01-01T12:29:12\",\"1970-01-01T13:02:32\",\"1970-01-01T13:02:32\",\"1970-01-01T13:02:32\"],\"y\":[\"Trench\",\"Trench\",\"Trench\",\"Trench\",null,\"Trench\",\"Trench\",\"Trench\",\"Trench\",null,\"Trench\",\"Trench\",\"Trench\",\"Trench\",null,\"Trench\",\"Trench\",\"Trench\",\"Trench\",null,\"Cutter T\",\"Cutter T\",\"Cutter T\",\"Cutter T\",null,\"Cutter T\",\"Cutter T\",\"Cutter T\",\"Cutter T\",null,\"Cutter T\",\"Cutter T\",\"Cutter T\",\"Cutter T\",null,\"Cutter T\",\"Cutter T\",\"Cutter T\",\"Cutter T\",null],\"type\":\"scatter\"},{\"connectgaps\":false,\"hoverinfo\":\"y+name\",\"line\":{\"color\":\"rgb(66,188,72)\",\"width\":10},\"mode\":\"lines\",\"name\":\"loading:Carrier A\",\"x\":[\"1970-01-01T04:14:32\",\"1970-01-01T04:14:32\",\"1970-01-01T04:56:12\",\"1970-01-01T04:56:12\",\"1970-01-01T04:56:12\",\"1970-01-01T08:43:32\",\"1970-01-01T08:43:32\",\"1970-01-01T09:25:12\",\"1970-01-01T09:25:12\",\"1970-01-01T09:25:12\",\"1970-01-01T13:02:32\",\"1970-01-01T13:02:32\",\"1970-01-01T13:44:12\",\"1970-01-01T13:44:12\",\"1970-01-01T13:44:12\",\"1970-01-01T04:14:32\",\"1970-01-01T04:14:32\",\"1970-01-01T04:56:12\",\"1970-01-01T04:56:12\",\"1970-01-01T04:56:12\",\"1970-01-01T08:43:32\",\"1970-01-01T08:43:32\",\"1970-01-01T09:25:12\",\"1970-01-01T09:25:12\",\"1970-01-01T09:25:12\",\"1970-01-01T13:02:32\",\"1970-01-01T13:02:32\",\"1970-01-01T13:44:12\",\"1970-01-01T13:44:12\",\"1970-01-01T13:44:12\"],\"y\":[\"Trench\",\"Trench\",\"Trench\",\"Trench\",null,\"Trench\",\"Trench\",\"Trench\",\"Trench\",null,\"Trench\",\"Trench\",\"Trench\",\"Trench\",null,\"Cutter T\",\"Cutter T\",\"Cutter T\",\"Cutter T\",null,\"Cutter T\",\"Cutter T\",\"Cutter T\",\"Cutter T\",null,\"Cutter T\",\"Cutter T\",\"Cutter T\",\"Cutter T\",null],\"type\":\"scatter\"},{\"connectgaps\":false,\"hoverinfo\":\"y+name\",\"line\":{\"color\":\"rgb(80,202,86)\",\"width\":10},\"mode\":\"lines\",\"name\":\"loading:Carrier C\",\"x\":[\"1970-01-01T01:11:12\",\"1970-01-01T01:11:12\",\"1970-01-01T01:52:52\",\"1970-01-01T01:52:52\",\"1970-01-01T01:52:52\",\"1970-01-01T04:56:12\",\"1970-01-01T04:56:12\",\"1970-01-01T05:37:52\",\"1970-01-01T05:37:52\",\"1970-01-01T05:37:52\",\"1970-01-01T08:01:52\",\"1970-01-01T08:01:52\",\"1970-01-01T08:43:32\",\"1970-01-01T08:43:32\",\"1970-01-01T08:43:32\",\"1970-01-01T11:13:32\",\"1970-01-01T11:13:32\",\"1970-01-01T11:55:12\",\"1970-01-01T11:55:12\",\"1970-01-01T11:55:12\",\"1970-01-01T14:59:12\",\"1970-01-01T14:59:12\",\"1970-01-01T15:40:52\",\"1970-01-01T15:40:52\",\"1970-01-01T15:40:52\",\"1970-01-01T01:11:12\",\"1970-01-01T01:11:12\",\"1970-01-01T01:52:52\",\"1970-01-01T01:52:52\",\"1970-01-01T01:52:52\",\"1970-01-01T04:56:12\",\"1970-01-01T04:56:12\",\"1970-01-01T05:37:52\",\"1970-01-01T05:37:52\",\"1970-01-01T05:37:52\",\"1970-01-01T08:01:52\",\"1970-01-01T08:01:52\",\"1970-01-01T08:43:32\",\"1970-01-01T08:43:32\",\"1970-01-01T08:43:32\",\"1970-01-01T11:13:32\",\"1970-01-01T11:13:32\",\"1970-01-01T11:55:12\",\"1970-01-01T11:55:12\",\"1970-01-01T11:55:12\",\"1970-01-01T14:59:12\",\"1970-01-01T14:59:12\",\"1970-01-01T15:40:52\",\"1970-01-01T15:40:52\",\"1970-01-01T15:40:52\"],\"y\":[\"Trench\",\"Trench\",\"Trench\",\"Trench\",null,\"Trench\",\"Trench\",\"Trench\",\"Trench\",null,\"Trench\",\"Trench\",\"Trench\",\"Trench\",null,\"Trench\",\"Trench\",\"Trench\",\"Trench\",null,\"Trench\",\"Trench\",\"Trench\",\"Trench\",null,\"Cutter T\",\"Cutter T\",\"Cutter T\",\"Cutter T\",null,\"Cutter T\",\"Cutter T\",\"Cutter T\",\"Cutter T\",null,\"Cutter T\",\"Cutter T\",\"Cutter T\",\"Cutter T\",null,\"Cutter T\",\"Cutter T\",\"Cutter T\",\"Cutter T\",null,\"Cutter T\",\"Cutter T\",\"Cutter T\",\"Cutter T\",null],\"type\":\"scatter\"},{\"connectgaps\":false,\"hoverinfo\":\"y+name\",\"line\":{\"color\":\"rgb(94,216,100)\",\"width\":10},\"mode\":\"lines\",\"name\":\"unloading:Carrier B\",\"x\":[\"1970-01-01T03:03:52\",\"1970-01-01T03:03:52\",\"1970-01-01T03:41:32\",\"1970-01-01T03:41:32\",\"1970-01-01T03:41:32\",\"1970-01-01T06:48:52\",\"1970-01-01T06:48:52\",\"1970-01-01T07:26:32\",\"1970-01-01T07:26:32\",\"1970-01-01T07:26:32\",\"1970-01-01T10:36:12\",\"1970-01-01T10:36:12\",\"1970-01-01T11:13:52\",\"1970-01-01T11:13:52\",\"1970-01-01T11:13:52\",\"1970-01-01T13:40:12\",\"1970-01-01T13:40:12\",\"1970-01-01T14:17:52\",\"1970-01-01T14:17:52\",\"1970-01-01T14:17:52\"],\"y\":[\"Reclamation\",\"Reclamation\",\"Reclamation\",\"Reclamation\",null,\"Reclamation\",\"Reclamation\",\"Reclamation\",\"Reclamation\",null,\"Reclamation\",\"Reclamation\",\"Reclamation\",\"Reclamation\",null,\"Reclamation\",\"Reclamation\",\"Reclamation\",\"Reclamation\",null],\"type\":\"scatter\"},{\"connectgaps\":false,\"hoverinfo\":\"y+name\",\"line\":{\"color\":\"rgb(108,230,114)\",\"width\":10},\"mode\":\"lines\",\"name\":\"unloading:Carrier C\",\"x\":[\"1970-01-01T02:28:28\",\"1970-01-01T02:28:28\",\"1970-01-01T03:04:04\",\"1970-01-01T03:04:04\",\"1970-01-01T03:04:04\",\"1970-01-01T06:13:28\",\"1970-01-01T06:13:28\",\"1970-01-01T06:49:04\",\"1970-01-01T06:49:04\",\"1970-01-01T06:49:04\",\"1970-01-01T09:19:08\",\"1970-01-01T09:19:08\",\"1970-01-01T09:54:44\",\"1970-01-01T09:54:44\",\"1970-01-01T09:54:44\",\"1970-01-01T12:30:48\",\"1970-01-01T12:30:48\",\"1970-01-01T13:06:24\",\"1970-01-01T13:06:24\",\"1970-01-01T13:06:24\",\"1970-01-01T16:16:28\",\"1970-01-01T16:16:28\",\"1970-01-01T16:52:04\",\"1970-01-01T16:52:04\",\"1970-01-01T16:52:04\"],\"y\":[\"Reclamation\",\"Reclamation\",\"Reclamation\",\"Reclamation\",null,\"Reclamation\",\"Reclamation\",\"Reclamation\",\"Reclamation\",null,\"Reclamation\",\"Reclamation\",\"Reclamation\",\"Reclamation\",null,\"Reclamation\",\"Reclamation\",\"Reclamation\",\"Reclamation\",null,\"Reclamation\",\"Reclamation\",\"Reclamation\",\"Reclamation\",null],\"type\":\"scatter\"},{\"connectgaps\":false,\"hoverinfo\":\"y+name\",\"line\":{\"color\":\"rgb(122,244,128)\",\"width\":10},\"mode\":\"lines\",\"name\":\"unloading:Barge II\",\"x\":[\"1970-01-01T05:03:02\",\"1970-01-01T05:03:02\",\"1970-01-01T05:51:32\",\"1970-01-01T05:51:32\",\"1970-01-01T05:51:32\",\"1970-01-01T08:50:22\",\"1970-01-01T08:50:22\",\"1970-01-01T09:38:52\",\"1970-01-01T09:38:52\",\"1970-01-01T09:38:52\",\"1970-01-01T13:17:02\",\"1970-01-01T13:17:02\",\"1970-01-01T14:05:32\",\"1970-01-01T14:05:32\",\"1970-01-01T14:05:32\"],\"y\":[\"Reclamation\",\"Reclamation\",\"Reclamation\",\"Reclamation\",null,\"Reclamation\",\"Reclamation\",\"Reclamation\",\"Reclamation\",null,\"Reclamation\",\"Reclamation\",\"Reclamation\",\"Reclamation\",null],\"type\":\"scatter\"},{\"connectgaps\":false,\"hoverinfo\":\"y+name\",\"line\":{\"color\":\"rgb(136,2,142)\",\"width\":10},\"mode\":\"lines\",\"name\":\"unloading:Barge I\",\"x\":[\"1970-01-01T03:38:15\",\"1970-01-01T03:38:15\",\"1970-01-01T04:16:58\",\"1970-01-01T04:16:58\",\"1970-01-01T04:16:58\",\"1970-01-01T07:23:15\",\"1970-01-01T07:23:15\",\"1970-01-01T08:01:58\",\"1970-01-01T08:01:58\",\"1970-01-01T08:01:58\",\"1970-01-01T11:10:35\",\"1970-01-01T11:10:35\",\"1970-01-01T11:49:18\",\"1970-01-01T11:49:18\",\"1970-01-01T11:49:18\",\"1970-01-01T14:56:15\",\"1970-01-01T14:56:15\",\"1970-01-01T15:34:58\",\"1970-01-01T15:34:58\",\"1970-01-01T15:34:58\"],\"y\":[\"Reclamation\",\"Reclamation\",\"Reclamation\",\"Reclamation\",null,\"Reclamation\",\"Reclamation\",\"Reclamation\",\"Reclamation\",null,\"Reclamation\",\"Reclamation\",\"Reclamation\",\"Reclamation\",null,\"Reclamation\",\"Reclamation\",\"Reclamation\",\"Reclamation\",null],\"type\":\"scatter\"},{\"connectgaps\":false,\"hoverinfo\":\"y+name\",\"line\":{\"color\":\"rgb(150,16,156)\",\"width\":10},\"mode\":\"lines\",\"name\":\"unloading:Barge III\",\"x\":[\"1970-01-01T04:20:25\",\"1970-01-01T04:20:25\",\"1970-01-01T04:59:38\",\"1970-01-01T04:59:38\",\"1970-01-01T04:59:38\",\"1970-01-01T08:05:25\",\"1970-01-01T08:05:25\",\"1970-01-01T08:44:38\",\"1970-01-01T08:44:38\",\"1970-01-01T08:44:38\",\"1970-01-01T11:52:45\",\"1970-01-01T11:52:45\",\"1970-01-01T12:31:58\",\"1970-01-01T12:31:58\",\"1970-01-01T12:31:58\",\"1970-01-01T15:38:25\",\"1970-01-01T15:38:25\",\"1970-01-01T16:17:38\",\"1970-01-01T16:17:38\",\"1970-01-01T16:17:38\"],\"y\":[\"Reclamation\",\"Reclamation\",\"Reclamation\",\"Reclamation\",null,\"Reclamation\",\"Reclamation\",\"Reclamation\",\"Reclamation\",null,\"Reclamation\",\"Reclamation\",\"Reclamation\",\"Reclamation\",null,\"Reclamation\",\"Reclamation\",\"Reclamation\",\"Reclamation\",null],\"type\":\"scatter\"},{\"connectgaps\":false,\"hoverinfo\":\"y+name\",\"line\":{\"color\":\"rgb(164,30,170)\",\"width\":10},\"mode\":\"lines\",\"name\":\"unloading:Carrier A\",\"x\":[\"1970-01-01T05:45:53\",\"1970-01-01T05:45:53\",\"1970-01-01T06:35:34\",\"1970-01-01T06:35:34\",\"1970-01-01T06:35:34\",\"1970-01-01T10:14:53\",\"1970-01-01T10:14:53\",\"1970-01-01T11:04:34\",\"1970-01-01T11:04:34\",\"1970-01-01T11:04:34\",\"1970-01-01T14:33:53\",\"1970-01-01T14:33:53\",\"1970-01-01T15:23:34\",\"1970-01-01T15:23:34\",\"1970-01-01T15:23:34\"],\"y\":[\"Reclamation\",\"Reclamation\",\"Reclamation\",\"Reclamation\",null,\"Reclamation\",\"Reclamation\",\"Reclamation\",\"Reclamation\",null,\"Reclamation\",\"Reclamation\",\"Reclamation\",\"Reclamation\",null],\"type\":\"scatter\"},{\"connectgaps\":false,\"hoverinfo\":\"y+name\",\"line\":{\"color\":\"rgb(178,44,184)\",\"width\":10},\"mode\":\"lines\",\"name\":\"loading:Barge II\",\"x\":[\"1970-01-01T03:41:12\",\"1970-01-01T03:41:12\",\"1970-01-01T04:14:32\",\"1970-01-01T04:14:32\",\"1970-01-01T04:14:32\",\"1970-01-01T07:28:32\",\"1970-01-01T07:28:32\",\"1970-01-01T08:01:52\",\"1970-01-01T08:01:52\",\"1970-01-01T08:01:52\",\"1970-01-01T11:55:12\",\"1970-01-01T11:55:12\",\"1970-01-01T12:28:32\",\"1970-01-01T12:28:32\",\"1970-01-01T12:28:32\",\"1970-01-01T03:41:12\",\"1970-01-01T03:41:12\",\"1970-01-01T04:14:32\",\"1970-01-01T04:14:32\",\"1970-01-01T04:14:32\",\"1970-01-01T07:28:32\",\"1970-01-01T07:28:32\",\"1970-01-01T08:01:52\",\"1970-01-01T08:01:52\",\"1970-01-01T08:01:52\",\"1970-01-01T11:55:12\",\"1970-01-01T11:55:12\",\"1970-01-01T12:28:32\",\"1970-01-01T12:28:32\",\"1970-01-01T12:28:32\"],\"y\":[\"Trench\",\"Trench\",\"Trench\",\"Trench\",null,\"Trench\",\"Trench\",\"Trench\",\"Trench\",null,\"Trench\",\"Trench\",\"Trench\",\"Trench\",null,\"Cutter T\",\"Cutter T\",\"Cutter T\",\"Cutter T\",null,\"Cutter T\",\"Cutter T\",\"Cutter T\",\"Cutter T\",null,\"Cutter T\",\"Cutter T\",\"Cutter T\",\"Cutter T\",null],\"type\":\"scatter\"},{\"connectgaps\":false,\"hoverinfo\":\"y+name\",\"line\":{\"color\":\"rgb(192,58,198)\",\"width\":10},\"mode\":\"lines\",\"name\":\"loading:Barge III\",\"x\":[\"1970-01-01T02:59:32\",\"1970-01-01T02:59:32\",\"1970-01-01T03:41:12\",\"1970-01-01T03:41:12\",\"1970-01-01T03:41:12\",\"1970-01-01T06:44:32\",\"1970-01-01T06:44:32\",\"1970-01-01T07:26:12\",\"1970-01-01T07:26:12\",\"1970-01-01T07:26:12\",\"1970-01-01T10:31:52\",\"1970-01-01T10:31:52\",\"1970-01-01T11:13:32\",\"1970-01-01T11:13:32\",\"1970-01-01T11:13:32\",\"1970-01-01T14:17:32\",\"1970-01-01T14:17:32\",\"1970-01-01T14:59:12\",\"1970-01-01T14:59:12\",\"1970-01-01T14:59:12\",\"1970-01-01T02:59:32\",\"1970-01-01T02:59:32\",\"1970-01-01T03:41:12\",\"1970-01-01T03:41:12\",\"1970-01-01T03:41:12\",\"1970-01-01T06:44:32\",\"1970-01-01T06:44:32\",\"1970-01-01T07:26:12\",\"1970-01-01T07:26:12\",\"1970-01-01T07:26:12\",\"1970-01-01T10:31:52\",\"1970-01-01T10:31:52\",\"1970-01-01T11:13:32\",\"1970-01-01T11:13:32\",\"1970-01-01T11:13:32\",\"1970-01-01T14:17:32\",\"1970-01-01T14:17:32\",\"1970-01-01T14:59:12\",\"1970-01-01T14:59:12\",\"1970-01-01T14:59:12\"],\"y\":[\"Trench\",\"Trench\",\"Trench\",\"Trench\",null,\"Trench\",\"Trench\",\"Trench\",\"Trench\",null,\"Trench\",\"Trench\",\"Trench\",\"Trench\",null,\"Trench\",\"Trench\",\"Trench\",\"Trench\",null,\"Cutter T\",\"Cutter T\",\"Cutter T\",\"Cutter T\",null,\"Cutter T\",\"Cutter T\",\"Cutter T\",\"Cutter T\",null,\"Cutter T\",\"Cutter T\",\"Cutter T\",\"Cutter T\",null,\"Cutter T\",\"Cutter T\",\"Cutter T\",\"Cutter T\",null],\"type\":\"scatter\"},{\"connectgaps\":false,\"hoverinfo\":\"y+name\",\"line\":{\"color\":\"rgb(206,72,212)\",\"width\":10},\"mode\":\"lines\",\"name\":\"loading:Barge I\",\"x\":[\"1970-01-01T02:26:12\",\"1970-01-01T02:26:12\",\"1970-01-01T02:59:32\",\"1970-01-01T02:59:32\",\"1970-01-01T02:59:32\",\"1970-01-01T06:11:12\",\"1970-01-01T06:11:12\",\"1970-01-01T06:44:32\",\"1970-01-01T06:44:32\",\"1970-01-01T06:44:32\",\"1970-01-01T09:58:32\",\"1970-01-01T09:58:32\",\"1970-01-01T10:31:52\",\"1970-01-01T10:31:52\",\"1970-01-01T10:31:52\",\"1970-01-01T13:44:12\",\"1970-01-01T13:44:12\",\"1970-01-01T14:17:32\",\"1970-01-01T14:17:32\",\"1970-01-01T14:17:32\",\"1970-01-01T02:26:12\",\"1970-01-01T02:26:12\",\"1970-01-01T02:59:32\",\"1970-01-01T02:59:32\",\"1970-01-01T02:59:32\",\"1970-01-01T06:11:12\",\"1970-01-01T06:11:12\",\"1970-01-01T06:44:32\",\"1970-01-01T06:44:32\",\"1970-01-01T06:44:32\",\"1970-01-01T09:58:32\",\"1970-01-01T09:58:32\",\"1970-01-01T10:31:52\",\"1970-01-01T10:31:52\",\"1970-01-01T10:31:52\",\"1970-01-01T13:44:12\",\"1970-01-01T13:44:12\",\"1970-01-01T14:17:32\",\"1970-01-01T14:17:32\",\"1970-01-01T14:17:32\"],\"y\":[\"Trench\",\"Trench\",\"Trench\",\"Trench\",null,\"Trench\",\"Trench\",\"Trench\",\"Trench\",null,\"Trench\",\"Trench\",\"Trench\",\"Trench\",null,\"Trench\",\"Trench\",\"Trench\",\"Trench\",null,\"Cutter T\",\"Cutter T\",\"Cutter T\",\"Cutter T\",null,\"Cutter T\",\"Cutter T\",\"Cutter T\",\"Cutter T\",null,\"Cutter T\",\"Cutter T\",\"Cutter T\",\"Cutter T\",null,\"Cutter T\",\"Cutter T\",\"Cutter T\",\"Cutter T\",null],\"type\":\"scatter\"},{\"connectgaps\":false,\"hoverinfo\":\"y+name\",\"line\":{\"color\":\"rgb(220,86,226)\",\"width\":10},\"mode\":\"lines\",\"name\":\"loading:Carrier B\",\"x\":[\"1970-01-01T01:52:52\",\"1970-01-01T01:52:52\",\"1970-01-01T02:26:12\",\"1970-01-01T02:26:12\",\"1970-01-01T02:26:12\",\"1970-01-01T05:37:52\",\"1970-01-01T05:37:52\",\"1970-01-01T06:11:12\",\"1970-01-01T06:11:12\",\"1970-01-01T06:11:12\",\"1970-01-01T09:25:12\",\"1970-01-01T09:25:12\",\"1970-01-01T09:58:32\",\"1970-01-01T09:58:32\",\"1970-01-01T09:58:32\",\"1970-01-01T12:29:12\",\"1970-01-01T12:29:12\",\"1970-01-01T13:02:32\",\"1970-01-01T13:02:32\",\"1970-01-01T13:02:32\",\"1970-01-01T01:52:52\",\"1970-01-01T01:52:52\",\"1970-01-01T02:26:12\",\"1970-01-01T02:26:12\",\"1970-01-01T02:26:12\",\"1970-01-01T05:37:52\",\"1970-01-01T05:37:52\",\"1970-01-01T06:11:12\",\"1970-01-01T06:11:12\",\"1970-01-01T06:11:12\",\"1970-01-01T09:25:12\",\"1970-01-01T09:25:12\",\"1970-01-01T09:58:32\",\"1970-01-01T09:58:32\",\"1970-01-01T09:58:32\",\"1970-01-01T12:29:12\",\"1970-01-01T12:29:12\",\"1970-01-01T13:02:32\",\"1970-01-01T13:02:32\",\"1970-01-01T13:02:32\"],\"y\":[\"Trench\",\"Trench\",\"Trench\",\"Trench\",null,\"Trench\",\"Trench\",\"Trench\",\"Trench\",null,\"Trench\",\"Trench\",\"Trench\",\"Trench\",null,\"Trench\",\"Trench\",\"Trench\",\"Trench\",null,\"Cutter T\",\"Cutter T\",\"Cutter T\",\"Cutter T\",null,\"Cutter T\",\"Cutter T\",\"Cutter T\",\"Cutter T\",null,\"Cutter T\",\"Cutter T\",\"Cutter T\",\"Cutter T\",null,\"Cutter T\",\"Cutter T\",\"Cutter T\",\"Cutter T\",null],\"type\":\"scatter\"},{\"connectgaps\":false,\"hoverinfo\":\"y+name\",\"line\":{\"color\":\"rgb(234,100,240)\",\"width\":10},\"mode\":\"lines\",\"name\":\"loading:Carrier A\",\"x\":[\"1970-01-01T04:14:32\",\"1970-01-01T04:14:32\",\"1970-01-01T04:56:12\",\"1970-01-01T04:56:12\",\"1970-01-01T04:56:12\",\"1970-01-01T08:43:32\",\"1970-01-01T08:43:32\",\"1970-01-01T09:25:12\",\"1970-01-01T09:25:12\",\"1970-01-01T09:25:12\",\"1970-01-01T13:02:32\",\"1970-01-01T13:02:32\",\"1970-01-01T13:44:12\",\"1970-01-01T13:44:12\",\"1970-01-01T13:44:12\",\"1970-01-01T04:14:32\",\"1970-01-01T04:14:32\",\"1970-01-01T04:56:12\",\"1970-01-01T04:56:12\",\"1970-01-01T04:56:12\",\"1970-01-01T08:43:32\",\"1970-01-01T08:43:32\",\"1970-01-01T09:25:12\",\"1970-01-01T09:25:12\",\"1970-01-01T09:25:12\",\"1970-01-01T13:02:32\",\"1970-01-01T13:02:32\",\"1970-01-01T13:44:12\",\"1970-01-01T13:44:12\",\"1970-01-01T13:44:12\"],\"y\":[\"Trench\",\"Trench\",\"Trench\",\"Trench\",null,\"Trench\",\"Trench\",\"Trench\",\"Trench\",null,\"Trench\",\"Trench\",\"Trench\",\"Trench\",null,\"Cutter T\",\"Cutter T\",\"Cutter T\",\"Cutter T\",null,\"Cutter T\",\"Cutter T\",\"Cutter T\",\"Cutter T\",null,\"Cutter T\",\"Cutter T\",\"Cutter T\",\"Cutter T\",null],\"type\":\"scatter\"},{\"connectgaps\":false,\"hoverinfo\":\"y+name\",\"line\":{\"color\":\"rgb(248,114,254)\",\"width\":10},\"mode\":\"lines\",\"name\":\"loading:Carrier C\",\"x\":[\"1970-01-01T01:11:12\",\"1970-01-01T01:11:12\",\"1970-01-01T01:52:52\",\"1970-01-01T01:52:52\",\"1970-01-01T01:52:52\",\"1970-01-01T04:56:12\",\"1970-01-01T04:56:12\",\"1970-01-01T05:37:52\",\"1970-01-01T05:37:52\",\"1970-01-01T05:37:52\",\"1970-01-01T08:01:52\",\"1970-01-01T08:01:52\",\"1970-01-01T08:43:32\",\"1970-01-01T08:43:32\",\"1970-01-01T08:43:32\",\"1970-01-01T11:13:32\",\"1970-01-01T11:13:32\",\"1970-01-01T11:55:12\",\"1970-01-01T11:55:12\",\"1970-01-01T11:55:12\",\"1970-01-01T14:59:12\",\"1970-01-01T14:59:12\",\"1970-01-01T15:40:52\",\"1970-01-01T15:40:52\",\"1970-01-01T15:40:52\",\"1970-01-01T01:11:12\",\"1970-01-01T01:11:12\",\"1970-01-01T01:52:52\",\"1970-01-01T01:52:52\",\"1970-01-01T01:52:52\",\"1970-01-01T04:56:12\",\"1970-01-01T04:56:12\",\"1970-01-01T05:37:52\",\"1970-01-01T05:37:52\",\"1970-01-01T05:37:52\",\"1970-01-01T08:01:52\",\"1970-01-01T08:01:52\",\"1970-01-01T08:43:32\",\"1970-01-01T08:43:32\",\"1970-01-01T08:43:32\",\"1970-01-01T11:13:32\",\"1970-01-01T11:13:32\",\"1970-01-01T11:55:12\",\"1970-01-01T11:55:12\",\"1970-01-01T11:55:12\",\"1970-01-01T14:59:12\",\"1970-01-01T14:59:12\",\"1970-01-01T15:40:52\",\"1970-01-01T15:40:52\",\"1970-01-01T15:40:52\"],\"y\":[\"Trench\",\"Trench\",\"Trench\",\"Trench\",null,\"Trench\",\"Trench\",\"Trench\",\"Trench\",null,\"Trench\",\"Trench\",\"Trench\",\"Trench\",null,\"Trench\",\"Trench\",\"Trench\",\"Trench\",null,\"Trench\",\"Trench\",\"Trench\",\"Trench\",null,\"Cutter T\",\"Cutter T\",\"Cutter T\",\"Cutter T\",null,\"Cutter T\",\"Cutter T\",\"Cutter T\",\"Cutter T\",null,\"Cutter T\",\"Cutter T\",\"Cutter T\",\"Cutter T\",null,\"Cutter T\",\"Cutter T\",\"Cutter T\",\"Cutter T\",null,\"Cutter T\",\"Cutter T\",\"Cutter T\",\"Cutter T\",null],\"type\":\"scatter\"}],                        {\"hovermode\":\"closest\",\"legend\":{\"orientation\":\"h\",\"x\":0,\"y\":-0.2},\"template\":{\"data\":{\"barpolar\":[{\"marker\":{\"line\":{\"color\":\"#E5ECF6\",\"width\":0.5},\"pattern\":{\"fillmode\":\"overlay\",\"size\":10,\"solidity\":0.2}},\"type\":\"barpolar\"}],\"bar\":[{\"error_x\":{\"color\":\"#2a3f5f\"},\"error_y\":{\"color\":\"#2a3f5f\"},\"marker\":{\"line\":{\"color\":\"#E5ECF6\",\"width\":0.5},\"pattern\":{\"fillmode\":\"overlay\",\"size\":10,\"solidity\":0.2}},\"type\":\"bar\"}],\"carpet\":[{\"aaxis\":{\"endlinecolor\":\"#2a3f5f\",\"gridcolor\":\"white\",\"linecolor\":\"white\",\"minorgridcolor\":\"white\",\"startlinecolor\":\"#2a3f5f\"},\"baxis\":{\"endlinecolor\":\"#2a3f5f\",\"gridcolor\":\"white\",\"linecolor\":\"white\",\"minorgridcolor\":\"white\",\"startlinecolor\":\"#2a3f5f\"},\"type\":\"carpet\"}],\"choropleth\":[{\"colorbar\":{\"outlinewidth\":0,\"ticks\":\"\"},\"type\":\"choropleth\"}],\"contourcarpet\":[{\"colorbar\":{\"outlinewidth\":0,\"ticks\":\"\"},\"type\":\"contourcarpet\"}],\"contour\":[{\"colorbar\":{\"outlinewidth\":0,\"ticks\":\"\"},\"colorscale\":[[0.0,\"#0d0887\"],[0.1111111111111111,\"#46039f\"],[0.2222222222222222,\"#7201a8\"],[0.3333333333333333,\"#9c179e\"],[0.4444444444444444,\"#bd3786\"],[0.5555555555555556,\"#d8576b\"],[0.6666666666666666,\"#ed7953\"],[0.7777777777777778,\"#fb9f3a\"],[0.8888888888888888,\"#fdca26\"],[1.0,\"#f0f921\"]],\"type\":\"contour\"}],\"heatmapgl\":[{\"colorbar\":{\"outlinewidth\":0,\"ticks\":\"\"},\"colorscale\":[[0.0,\"#0d0887\"],[0.1111111111111111,\"#46039f\"],[0.2222222222222222,\"#7201a8\"],[0.3333333333333333,\"#9c179e\"],[0.4444444444444444,\"#bd3786\"],[0.5555555555555556,\"#d8576b\"],[0.6666666666666666,\"#ed7953\"],[0.7777777777777778,\"#fb9f3a\"],[0.8888888888888888,\"#fdca26\"],[1.0,\"#f0f921\"]],\"type\":\"heatmapgl\"}],\"heatmap\":[{\"colorbar\":{\"outlinewidth\":0,\"ticks\":\"\"},\"colorscale\":[[0.0,\"#0d0887\"],[0.1111111111111111,\"#46039f\"],[0.2222222222222222,\"#7201a8\"],[0.3333333333333333,\"#9c179e\"],[0.4444444444444444,\"#bd3786\"],[0.5555555555555556,\"#d8576b\"],[0.6666666666666666,\"#ed7953\"],[0.7777777777777778,\"#fb9f3a\"],[0.8888888888888888,\"#fdca26\"],[1.0,\"#f0f921\"]],\"type\":\"heatmap\"}],\"histogram2dcontour\":[{\"colorbar\":{\"outlinewidth\":0,\"ticks\":\"\"},\"colorscale\":[[0.0,\"#0d0887\"],[0.1111111111111111,\"#46039f\"],[0.2222222222222222,\"#7201a8\"],[0.3333333333333333,\"#9c179e\"],[0.4444444444444444,\"#bd3786\"],[0.5555555555555556,\"#d8576b\"],[0.6666666666666666,\"#ed7953\"],[0.7777777777777778,\"#fb9f3a\"],[0.8888888888888888,\"#fdca26\"],[1.0,\"#f0f921\"]],\"type\":\"histogram2dcontour\"}],\"histogram2d\":[{\"colorbar\":{\"outlinewidth\":0,\"ticks\":\"\"},\"colorscale\":[[0.0,\"#0d0887\"],[0.1111111111111111,\"#46039f\"],[0.2222222222222222,\"#7201a8\"],[0.3333333333333333,\"#9c179e\"],[0.4444444444444444,\"#bd3786\"],[0.5555555555555556,\"#d8576b\"],[0.6666666666666666,\"#ed7953\"],[0.7777777777777778,\"#fb9f3a\"],[0.8888888888888888,\"#fdca26\"],[1.0,\"#f0f921\"]],\"type\":\"histogram2d\"}],\"histogram\":[{\"marker\":{\"pattern\":{\"fillmode\":\"overlay\",\"size\":10,\"solidity\":0.2}},\"type\":\"histogram\"}],\"mesh3d\":[{\"colorbar\":{\"outlinewidth\":0,\"ticks\":\"\"},\"type\":\"mesh3d\"}],\"parcoords\":[{\"line\":{\"colorbar\":{\"outlinewidth\":0,\"ticks\":\"\"}},\"type\":\"parcoords\"}],\"pie\":[{\"automargin\":true,\"type\":\"pie\"}],\"scatter3d\":[{\"line\":{\"colorbar\":{\"outlinewidth\":0,\"ticks\":\"\"}},\"marker\":{\"colorbar\":{\"outlinewidth\":0,\"ticks\":\"\"}},\"type\":\"scatter3d\"}],\"scattercarpet\":[{\"marker\":{\"colorbar\":{\"outlinewidth\":0,\"ticks\":\"\"}},\"type\":\"scattercarpet\"}],\"scattergeo\":[{\"marker\":{\"colorbar\":{\"outlinewidth\":0,\"ticks\":\"\"}},\"type\":\"scattergeo\"}],\"scattergl\":[{\"marker\":{\"colorbar\":{\"outlinewidth\":0,\"ticks\":\"\"}},\"type\":\"scattergl\"}],\"scattermapbox\":[{\"marker\":{\"colorbar\":{\"outlinewidth\":0,\"ticks\":\"\"}},\"type\":\"scattermapbox\"}],\"scatterpolargl\":[{\"marker\":{\"colorbar\":{\"outlinewidth\":0,\"ticks\":\"\"}},\"type\":\"scatterpolargl\"}],\"scatterpolar\":[{\"marker\":{\"colorbar\":{\"outlinewidth\":0,\"ticks\":\"\"}},\"type\":\"scatterpolar\"}],\"scatter\":[{\"fillpattern\":{\"fillmode\":\"overlay\",\"size\":10,\"solidity\":0.2},\"type\":\"scatter\"}],\"scatterternary\":[{\"marker\":{\"colorbar\":{\"outlinewidth\":0,\"ticks\":\"\"}},\"type\":\"scatterternary\"}],\"surface\":[{\"colorbar\":{\"outlinewidth\":0,\"ticks\":\"\"},\"colorscale\":[[0.0,\"#0d0887\"],[0.1111111111111111,\"#46039f\"],[0.2222222222222222,\"#7201a8\"],[0.3333333333333333,\"#9c179e\"],[0.4444444444444444,\"#bd3786\"],[0.5555555555555556,\"#d8576b\"],[0.6666666666666666,\"#ed7953\"],[0.7777777777777778,\"#fb9f3a\"],[0.8888888888888888,\"#fdca26\"],[1.0,\"#f0f921\"]],\"type\":\"surface\"}],\"table\":[{\"cells\":{\"fill\":{\"color\":\"#EBF0F8\"},\"line\":{\"color\":\"white\"}},\"header\":{\"fill\":{\"color\":\"#C8D4E3\"},\"line\":{\"color\":\"white\"}},\"type\":\"table\"}]},\"layout\":{\"annotationdefaults\":{\"arrowcolor\":\"#2a3f5f\",\"arrowhead\":0,\"arrowwidth\":1},\"autotypenumbers\":\"strict\",\"coloraxis\":{\"colorbar\":{\"outlinewidth\":0,\"ticks\":\"\"}},\"colorscale\":{\"diverging\":[[0,\"#8e0152\"],[0.1,\"#c51b7d\"],[0.2,\"#de77ae\"],[0.3,\"#f1b6da\"],[0.4,\"#fde0ef\"],[0.5,\"#f7f7f7\"],[0.6,\"#e6f5d0\"],[0.7,\"#b8e186\"],[0.8,\"#7fbc41\"],[0.9,\"#4d9221\"],[1,\"#276419\"]],\"sequential\":[[0.0,\"#0d0887\"],[0.1111111111111111,\"#46039f\"],[0.2222222222222222,\"#7201a8\"],[0.3333333333333333,\"#9c179e\"],[0.4444444444444444,\"#bd3786\"],[0.5555555555555556,\"#d8576b\"],[0.6666666666666666,\"#ed7953\"],[0.7777777777777778,\"#fb9f3a\"],[0.8888888888888888,\"#fdca26\"],[1.0,\"#f0f921\"]],\"sequentialminus\":[[0.0,\"#0d0887\"],[0.1111111111111111,\"#46039f\"],[0.2222222222222222,\"#7201a8\"],[0.3333333333333333,\"#9c179e\"],[0.4444444444444444,\"#bd3786\"],[0.5555555555555556,\"#d8576b\"],[0.6666666666666666,\"#ed7953\"],[0.7777777777777778,\"#fb9f3a\"],[0.8888888888888888,\"#fdca26\"],[1.0,\"#f0f921\"]]},\"colorway\":[\"#636efa\",\"#EF553B\",\"#00cc96\",\"#ab63fa\",\"#FFA15A\",\"#19d3f3\",\"#FF6692\",\"#B6E880\",\"#FF97FF\",\"#FECB52\"],\"font\":{\"color\":\"#2a3f5f\"},\"geo\":{\"bgcolor\":\"white\",\"lakecolor\":\"white\",\"landcolor\":\"#E5ECF6\",\"showlakes\":true,\"showland\":true,\"subunitcolor\":\"white\"},\"hoverlabel\":{\"align\":\"left\"},\"hovermode\":\"closest\",\"mapbox\":{\"style\":\"light\"},\"paper_bgcolor\":\"white\",\"plot_bgcolor\":\"#E5ECF6\",\"polar\":{\"angularaxis\":{\"gridcolor\":\"white\",\"linecolor\":\"white\",\"ticks\":\"\"},\"bgcolor\":\"#E5ECF6\",\"radialaxis\":{\"gridcolor\":\"white\",\"linecolor\":\"white\",\"ticks\":\"\"}},\"scene\":{\"xaxis\":{\"backgroundcolor\":\"#E5ECF6\",\"gridcolor\":\"white\",\"gridwidth\":2,\"linecolor\":\"white\",\"showbackground\":true,\"ticks\":\"\",\"zerolinecolor\":\"white\"},\"yaxis\":{\"backgroundcolor\":\"#E5ECF6\",\"gridcolor\":\"white\",\"gridwidth\":2,\"linecolor\":\"white\",\"showbackground\":true,\"ticks\":\"\",\"zerolinecolor\":\"white\"},\"zaxis\":{\"backgroundcolor\":\"#E5ECF6\",\"gridcolor\":\"white\",\"gridwidth\":2,\"linecolor\":\"white\",\"showbackground\":true,\"ticks\":\"\",\"zerolinecolor\":\"white\"}},\"shapedefaults\":{\"line\":{\"color\":\"#2a3f5f\"}},\"ternary\":{\"aaxis\":{\"gridcolor\":\"white\",\"linecolor\":\"white\",\"ticks\":\"\"},\"baxis\":{\"gridcolor\":\"white\",\"linecolor\":\"white\",\"ticks\":\"\"},\"bgcolor\":\"#E5ECF6\",\"caxis\":{\"gridcolor\":\"white\",\"linecolor\":\"white\",\"ticks\":\"\"}},\"title\":{\"x\":0.05},\"xaxis\":{\"automargin\":true,\"gridcolor\":\"white\",\"linecolor\":\"white\",\"ticks\":\"\",\"title\":{\"standoff\":15},\"zerolinecolor\":\"white\",\"zerolinewidth\":2},\"yaxis\":{\"automargin\":true,\"gridcolor\":\"white\",\"linecolor\":\"white\",\"ticks\":\"\",\"title\":{\"standoff\":15},\"zerolinecolor\":\"white\",\"zerolinewidth\":2}}},\"title\":{\"text\":\"GANTT Chart\"},\"xaxis\":{\"range\":[\"1970-01-01T01:11:12\",\"1970-01-01T16:52:04\"],\"title\":{\"font\":{\"color\":\"#7f7f7f\",\"family\":\"Courier New, monospace\",\"size\":18},\"text\":\"Time\"}},\"yaxis\":{\"title\":{\"font\":{\"color\":\"#7f7f7f\",\"family\":\"Courier New, monospace\",\"size\":18},\"text\":\"Activities\"}}},                        {\"responsive\": true}                    ).then(function(){\n",
       "                            \n",
       "var gd = document.getElementById('fa86de6c-cbd5-489c-8a41-8bfa826fc095');\n",
       "var x = new MutationObserver(function (mutations, observer) {{\n",
       "        var display = window.getComputedStyle(gd).display;\n",
       "        if (!display || display === 'none') {{\n",
       "            console.log([gd, 'removed!']);\n",
       "            Plotly.purge(gd);\n",
       "            observer.disconnect();\n",
       "        }}\n",
       "}});\n",
       "\n",
       "// Listen for the removal of the full notebook cells\n",
       "var notebookContainer = gd.closest('#notebook-container');\n",
       "if (notebookContainer) {{\n",
       "    x.observe(notebookContainer, {childList: true});\n",
       "}}\n",
       "\n",
       "// Listen for the clearing of the current output cell\n",
       "var outputEl = gd.closest('.output');\n",
       "if (outputEl) {{\n",
       "    x.observe(outputEl, {childList: true});\n",
       "}}\n",
       "\n",
       "                        })                };                });            </script>        </div>"
      ]
     },
     "metadata": {},
     "output_type": "display_data"
    }
   ],
   "source": [
    "fig = plot.get_gantt_chart([from_site, to_site, cutter], id_map=activities)"
   ]
  },
  {
   "cell_type": "markdown",
   "id": "9d68aee1",
   "metadata": {},
   "source": [
    "Plot only activities whose namespace (first letters) matches load*"
   ]
  },
  {
   "cell_type": "code",
   "execution_count": 8,
   "id": "6141ac61",
   "metadata": {},
   "outputs": [
    {
     "data": {
      "text/html": [
       "        <script type=\"text/javascript\">\n",
       "        window.PlotlyConfig = {MathJaxConfig: 'local'};\n",
       "        if (window.MathJax && window.MathJax.Hub && window.MathJax.Hub.Config) {window.MathJax.Hub.Config({SVG: {font: \"STIX-Web\"}});}\n",
       "        if (typeof require !== 'undefined') {\n",
       "        require.undef(\"plotly\");\n",
       "        requirejs.config({\n",
       "            paths: {\n",
       "                'plotly': ['https://cdn.plot.ly/plotly-2.18.2.min']\n",
       "            }\n",
       "        });\n",
       "        require(['plotly'], function(Plotly) {\n",
       "            window._Plotly = Plotly;\n",
       "        });\n",
       "        }\n",
       "        </script>\n",
       "        "
      ]
     },
     "metadata": {},
     "output_type": "display_data"
    },
    {
     "data": {
      "application/vnd.plotly.v1+json": {
       "config": {
        "linkText": "Export to plot.ly",
        "plotlyServerURL": "https://plot.ly",
        "showLink": false
       },
       "data": [
        {
         "connectgaps": false,
         "hoverinfo": "y+name",
         "line": {
          "color": "rgb(69,207,173)",
          "width": 10
         },
         "mode": "lines",
         "name": "loading:Carrier C",
         "type": "scatter",
         "x": [
          "1970-01-01T01:11:12",
          "1970-01-01T01:11:12",
          "1970-01-01T01:52:52",
          "1970-01-01T01:52:52",
          "1970-01-01T01:52:52",
          "1970-01-01T04:56:12",
          "1970-01-01T04:56:12",
          "1970-01-01T05:37:52",
          "1970-01-01T05:37:52",
          "1970-01-01T05:37:52",
          "1970-01-01T08:01:52",
          "1970-01-01T08:01:52",
          "1970-01-01T08:43:32",
          "1970-01-01T08:43:32",
          "1970-01-01T08:43:32",
          "1970-01-01T11:13:32",
          "1970-01-01T11:13:32",
          "1970-01-01T11:55:12",
          "1970-01-01T11:55:12",
          "1970-01-01T11:55:12",
          "1970-01-01T14:59:12",
          "1970-01-01T14:59:12",
          "1970-01-01T15:40:52",
          "1970-01-01T15:40:52",
          "1970-01-01T15:40:52",
          "1970-01-01T01:11:12",
          "1970-01-01T01:11:12",
          "1970-01-01T01:52:52",
          "1970-01-01T01:52:52",
          "1970-01-01T01:52:52",
          "1970-01-01T04:56:12",
          "1970-01-01T04:56:12",
          "1970-01-01T05:37:52",
          "1970-01-01T05:37:52",
          "1970-01-01T05:37:52",
          "1970-01-01T08:01:52",
          "1970-01-01T08:01:52",
          "1970-01-01T08:43:32",
          "1970-01-01T08:43:32",
          "1970-01-01T08:43:32",
          "1970-01-01T11:13:32",
          "1970-01-01T11:13:32",
          "1970-01-01T11:55:12",
          "1970-01-01T11:55:12",
          "1970-01-01T11:55:12",
          "1970-01-01T14:59:12",
          "1970-01-01T14:59:12",
          "1970-01-01T15:40:52",
          "1970-01-01T15:40:52",
          "1970-01-01T15:40:52"
         ],
         "y": [
          "loading:Carrier C",
          "loading:Carrier C",
          "loading:Carrier C",
          "loading:Carrier C",
          null,
          "loading:Carrier C",
          "loading:Carrier C",
          "loading:Carrier C",
          "loading:Carrier C",
          null,
          "loading:Carrier C",
          "loading:Carrier C",
          "loading:Carrier C",
          "loading:Carrier C",
          null,
          "loading:Carrier C",
          "loading:Carrier C",
          "loading:Carrier C",
          "loading:Carrier C",
          null,
          "loading:Carrier C",
          "loading:Carrier C",
          "loading:Carrier C",
          "loading:Carrier C",
          null,
          "loading:Carrier C",
          "loading:Carrier C",
          "loading:Carrier C",
          "loading:Carrier C",
          null,
          "loading:Carrier C",
          "loading:Carrier C",
          "loading:Carrier C",
          "loading:Carrier C",
          null,
          "loading:Carrier C",
          "loading:Carrier C",
          "loading:Carrier C",
          "loading:Carrier C",
          null,
          "loading:Carrier C",
          "loading:Carrier C",
          "loading:Carrier C",
          "loading:Carrier C",
          null,
          "loading:Carrier C",
          "loading:Carrier C",
          "loading:Carrier C",
          "loading:Carrier C",
          null
         ]
        },
        {
         "connectgaps": false,
         "hoverinfo": "y+name",
         "line": {
          "color": "rgb(90,228,194)",
          "width": 10
         },
         "mode": "lines",
         "name": "loading:Carrier C",
         "type": "scatter",
         "x": [
          "1970-01-01T01:11:12",
          "1970-01-01T01:11:12",
          "1970-01-01T01:52:52",
          "1970-01-01T01:52:52",
          "1970-01-01T01:52:52",
          "1970-01-01T04:56:12",
          "1970-01-01T04:56:12",
          "1970-01-01T05:37:52",
          "1970-01-01T05:37:52",
          "1970-01-01T05:37:52",
          "1970-01-01T08:01:52",
          "1970-01-01T08:01:52",
          "1970-01-01T08:43:32",
          "1970-01-01T08:43:32",
          "1970-01-01T08:43:32",
          "1970-01-01T11:13:32",
          "1970-01-01T11:13:32",
          "1970-01-01T11:55:12",
          "1970-01-01T11:55:12",
          "1970-01-01T11:55:12",
          "1970-01-01T14:59:12",
          "1970-01-01T14:59:12",
          "1970-01-01T15:40:52",
          "1970-01-01T15:40:52",
          "1970-01-01T15:40:52",
          "1970-01-01T01:11:12",
          "1970-01-01T01:11:12",
          "1970-01-01T01:52:52",
          "1970-01-01T01:52:52",
          "1970-01-01T01:52:52",
          "1970-01-01T04:56:12",
          "1970-01-01T04:56:12",
          "1970-01-01T05:37:52",
          "1970-01-01T05:37:52",
          "1970-01-01T05:37:52",
          "1970-01-01T08:01:52",
          "1970-01-01T08:01:52",
          "1970-01-01T08:43:32",
          "1970-01-01T08:43:32",
          "1970-01-01T08:43:32",
          "1970-01-01T11:13:32",
          "1970-01-01T11:13:32",
          "1970-01-01T11:55:12",
          "1970-01-01T11:55:12",
          "1970-01-01T11:55:12",
          "1970-01-01T14:59:12",
          "1970-01-01T14:59:12",
          "1970-01-01T15:40:52",
          "1970-01-01T15:40:52",
          "1970-01-01T15:40:52"
         ],
         "y": [
          "loading:Carrier C",
          "loading:Carrier C",
          "loading:Carrier C",
          "loading:Carrier C",
          null,
          "loading:Carrier C",
          "loading:Carrier C",
          "loading:Carrier C",
          "loading:Carrier C",
          null,
          "loading:Carrier C",
          "loading:Carrier C",
          "loading:Carrier C",
          "loading:Carrier C",
          null,
          "loading:Carrier C",
          "loading:Carrier C",
          "loading:Carrier C",
          "loading:Carrier C",
          null,
          "loading:Carrier C",
          "loading:Carrier C",
          "loading:Carrier C",
          "loading:Carrier C",
          null,
          "loading:Carrier C",
          "loading:Carrier C",
          "loading:Carrier C",
          "loading:Carrier C",
          null,
          "loading:Carrier C",
          "loading:Carrier C",
          "loading:Carrier C",
          "loading:Carrier C",
          null,
          "loading:Carrier C",
          "loading:Carrier C",
          "loading:Carrier C",
          "loading:Carrier C",
          null,
          "loading:Carrier C",
          "loading:Carrier C",
          "loading:Carrier C",
          "loading:Carrier C",
          null,
          "loading:Carrier C",
          "loading:Carrier C",
          "loading:Carrier C",
          "loading:Carrier C",
          null
         ]
        },
        {
         "connectgaps": false,
         "hoverinfo": "y+name",
         "line": {
          "color": "rgb(111,249,215)",
          "width": 10
         },
         "mode": "lines",
         "name": "loading:Barge III",
         "type": "scatter",
         "x": [
          "1970-01-01T02:59:32",
          "1970-01-01T02:59:32",
          "1970-01-01T03:41:12",
          "1970-01-01T03:41:12",
          "1970-01-01T03:41:12",
          "1970-01-01T06:44:32",
          "1970-01-01T06:44:32",
          "1970-01-01T07:26:12",
          "1970-01-01T07:26:12",
          "1970-01-01T07:26:12",
          "1970-01-01T10:31:52",
          "1970-01-01T10:31:52",
          "1970-01-01T11:13:32",
          "1970-01-01T11:13:32",
          "1970-01-01T11:13:32",
          "1970-01-01T14:17:32",
          "1970-01-01T14:17:32",
          "1970-01-01T14:59:12",
          "1970-01-01T14:59:12",
          "1970-01-01T14:59:12",
          "1970-01-01T02:59:32",
          "1970-01-01T02:59:32",
          "1970-01-01T03:41:12",
          "1970-01-01T03:41:12",
          "1970-01-01T03:41:12",
          "1970-01-01T06:44:32",
          "1970-01-01T06:44:32",
          "1970-01-01T07:26:12",
          "1970-01-01T07:26:12",
          "1970-01-01T07:26:12",
          "1970-01-01T10:31:52",
          "1970-01-01T10:31:52",
          "1970-01-01T11:13:32",
          "1970-01-01T11:13:32",
          "1970-01-01T11:13:32",
          "1970-01-01T14:17:32",
          "1970-01-01T14:17:32",
          "1970-01-01T14:59:12",
          "1970-01-01T14:59:12",
          "1970-01-01T14:59:12"
         ],
         "y": [
          "loading:Barge III",
          "loading:Barge III",
          "loading:Barge III",
          "loading:Barge III",
          null,
          "loading:Barge III",
          "loading:Barge III",
          "loading:Barge III",
          "loading:Barge III",
          null,
          "loading:Barge III",
          "loading:Barge III",
          "loading:Barge III",
          "loading:Barge III",
          null,
          "loading:Barge III",
          "loading:Barge III",
          "loading:Barge III",
          "loading:Barge III",
          null,
          "loading:Barge III",
          "loading:Barge III",
          "loading:Barge III",
          "loading:Barge III",
          null,
          "loading:Barge III",
          "loading:Barge III",
          "loading:Barge III",
          "loading:Barge III",
          null,
          "loading:Barge III",
          "loading:Barge III",
          "loading:Barge III",
          "loading:Barge III",
          null,
          "loading:Barge III",
          "loading:Barge III",
          "loading:Barge III",
          "loading:Barge III",
          null
         ]
        },
        {
         "connectgaps": false,
         "hoverinfo": "y+name",
         "line": {
          "color": "rgb(132,14,236)",
          "width": 10
         },
         "mode": "lines",
         "name": "loading:Barge III",
         "type": "scatter",
         "x": [
          "1970-01-01T02:59:32",
          "1970-01-01T02:59:32",
          "1970-01-01T03:41:12",
          "1970-01-01T03:41:12",
          "1970-01-01T03:41:12",
          "1970-01-01T06:44:32",
          "1970-01-01T06:44:32",
          "1970-01-01T07:26:12",
          "1970-01-01T07:26:12",
          "1970-01-01T07:26:12",
          "1970-01-01T10:31:52",
          "1970-01-01T10:31:52",
          "1970-01-01T11:13:32",
          "1970-01-01T11:13:32",
          "1970-01-01T11:13:32",
          "1970-01-01T14:17:32",
          "1970-01-01T14:17:32",
          "1970-01-01T14:59:12",
          "1970-01-01T14:59:12",
          "1970-01-01T14:59:12",
          "1970-01-01T02:59:32",
          "1970-01-01T02:59:32",
          "1970-01-01T03:41:12",
          "1970-01-01T03:41:12",
          "1970-01-01T03:41:12",
          "1970-01-01T06:44:32",
          "1970-01-01T06:44:32",
          "1970-01-01T07:26:12",
          "1970-01-01T07:26:12",
          "1970-01-01T07:26:12",
          "1970-01-01T10:31:52",
          "1970-01-01T10:31:52",
          "1970-01-01T11:13:32",
          "1970-01-01T11:13:32",
          "1970-01-01T11:13:32",
          "1970-01-01T14:17:32",
          "1970-01-01T14:17:32",
          "1970-01-01T14:59:12",
          "1970-01-01T14:59:12",
          "1970-01-01T14:59:12"
         ],
         "y": [
          "loading:Barge III",
          "loading:Barge III",
          "loading:Barge III",
          "loading:Barge III",
          null,
          "loading:Barge III",
          "loading:Barge III",
          "loading:Barge III",
          "loading:Barge III",
          null,
          "loading:Barge III",
          "loading:Barge III",
          "loading:Barge III",
          "loading:Barge III",
          null,
          "loading:Barge III",
          "loading:Barge III",
          "loading:Barge III",
          "loading:Barge III",
          null,
          "loading:Barge III",
          "loading:Barge III",
          "loading:Barge III",
          "loading:Barge III",
          null,
          "loading:Barge III",
          "loading:Barge III",
          "loading:Barge III",
          "loading:Barge III",
          null,
          "loading:Barge III",
          "loading:Barge III",
          "loading:Barge III",
          "loading:Barge III",
          null,
          "loading:Barge III",
          "loading:Barge III",
          "loading:Barge III",
          "loading:Barge III",
          null
         ]
        },
        {
         "connectgaps": false,
         "hoverinfo": "y+name",
         "line": {
          "color": "rgb(153,35,1)",
          "width": 10
         },
         "mode": "lines",
         "name": "loading:Carrier A",
         "type": "scatter",
         "x": [
          "1970-01-01T04:14:32",
          "1970-01-01T04:14:32",
          "1970-01-01T04:56:12",
          "1970-01-01T04:56:12",
          "1970-01-01T04:56:12",
          "1970-01-01T08:43:32",
          "1970-01-01T08:43:32",
          "1970-01-01T09:25:12",
          "1970-01-01T09:25:12",
          "1970-01-01T09:25:12",
          "1970-01-01T13:02:32",
          "1970-01-01T13:02:32",
          "1970-01-01T13:44:12",
          "1970-01-01T13:44:12",
          "1970-01-01T13:44:12",
          "1970-01-01T04:14:32",
          "1970-01-01T04:14:32",
          "1970-01-01T04:56:12",
          "1970-01-01T04:56:12",
          "1970-01-01T04:56:12",
          "1970-01-01T08:43:32",
          "1970-01-01T08:43:32",
          "1970-01-01T09:25:12",
          "1970-01-01T09:25:12",
          "1970-01-01T09:25:12",
          "1970-01-01T13:02:32",
          "1970-01-01T13:02:32",
          "1970-01-01T13:44:12",
          "1970-01-01T13:44:12",
          "1970-01-01T13:44:12"
         ],
         "y": [
          "loading:Carrier A",
          "loading:Carrier A",
          "loading:Carrier A",
          "loading:Carrier A",
          null,
          "loading:Carrier A",
          "loading:Carrier A",
          "loading:Carrier A",
          "loading:Carrier A",
          null,
          "loading:Carrier A",
          "loading:Carrier A",
          "loading:Carrier A",
          "loading:Carrier A",
          null,
          "loading:Carrier A",
          "loading:Carrier A",
          "loading:Carrier A",
          "loading:Carrier A",
          null,
          "loading:Carrier A",
          "loading:Carrier A",
          "loading:Carrier A",
          "loading:Carrier A",
          null,
          "loading:Carrier A",
          "loading:Carrier A",
          "loading:Carrier A",
          "loading:Carrier A",
          null
         ]
        },
        {
         "connectgaps": false,
         "hoverinfo": "y+name",
         "line": {
          "color": "rgb(174,56,22)",
          "width": 10
         },
         "mode": "lines",
         "name": "loading:Carrier A",
         "type": "scatter",
         "x": [
          "1970-01-01T04:14:32",
          "1970-01-01T04:14:32",
          "1970-01-01T04:56:12",
          "1970-01-01T04:56:12",
          "1970-01-01T04:56:12",
          "1970-01-01T08:43:32",
          "1970-01-01T08:43:32",
          "1970-01-01T09:25:12",
          "1970-01-01T09:25:12",
          "1970-01-01T09:25:12",
          "1970-01-01T13:02:32",
          "1970-01-01T13:02:32",
          "1970-01-01T13:44:12",
          "1970-01-01T13:44:12",
          "1970-01-01T13:44:12",
          "1970-01-01T04:14:32",
          "1970-01-01T04:14:32",
          "1970-01-01T04:56:12",
          "1970-01-01T04:56:12",
          "1970-01-01T04:56:12",
          "1970-01-01T08:43:32",
          "1970-01-01T08:43:32",
          "1970-01-01T09:25:12",
          "1970-01-01T09:25:12",
          "1970-01-01T09:25:12",
          "1970-01-01T13:02:32",
          "1970-01-01T13:02:32",
          "1970-01-01T13:44:12",
          "1970-01-01T13:44:12",
          "1970-01-01T13:44:12"
         ],
         "y": [
          "loading:Carrier A",
          "loading:Carrier A",
          "loading:Carrier A",
          "loading:Carrier A",
          null,
          "loading:Carrier A",
          "loading:Carrier A",
          "loading:Carrier A",
          "loading:Carrier A",
          null,
          "loading:Carrier A",
          "loading:Carrier A",
          "loading:Carrier A",
          "loading:Carrier A",
          null,
          "loading:Carrier A",
          "loading:Carrier A",
          "loading:Carrier A",
          "loading:Carrier A",
          null,
          "loading:Carrier A",
          "loading:Carrier A",
          "loading:Carrier A",
          "loading:Carrier A",
          null,
          "loading:Carrier A",
          "loading:Carrier A",
          "loading:Carrier A",
          "loading:Carrier A",
          null
         ]
        },
        {
         "connectgaps": false,
         "hoverinfo": "y+name",
         "line": {
          "color": "rgb(195,77,43)",
          "width": 10
         },
         "mode": "lines",
         "name": "loading:Barge I",
         "type": "scatter",
         "x": [
          "1970-01-01T02:26:12",
          "1970-01-01T02:26:12",
          "1970-01-01T02:59:32",
          "1970-01-01T02:59:32",
          "1970-01-01T02:59:32",
          "1970-01-01T06:11:12",
          "1970-01-01T06:11:12",
          "1970-01-01T06:44:32",
          "1970-01-01T06:44:32",
          "1970-01-01T06:44:32",
          "1970-01-01T09:58:32",
          "1970-01-01T09:58:32",
          "1970-01-01T10:31:52",
          "1970-01-01T10:31:52",
          "1970-01-01T10:31:52",
          "1970-01-01T13:44:12",
          "1970-01-01T13:44:12",
          "1970-01-01T14:17:32",
          "1970-01-01T14:17:32",
          "1970-01-01T14:17:32",
          "1970-01-01T02:26:12",
          "1970-01-01T02:26:12",
          "1970-01-01T02:59:32",
          "1970-01-01T02:59:32",
          "1970-01-01T02:59:32",
          "1970-01-01T06:11:12",
          "1970-01-01T06:11:12",
          "1970-01-01T06:44:32",
          "1970-01-01T06:44:32",
          "1970-01-01T06:44:32",
          "1970-01-01T09:58:32",
          "1970-01-01T09:58:32",
          "1970-01-01T10:31:52",
          "1970-01-01T10:31:52",
          "1970-01-01T10:31:52",
          "1970-01-01T13:44:12",
          "1970-01-01T13:44:12",
          "1970-01-01T14:17:32",
          "1970-01-01T14:17:32",
          "1970-01-01T14:17:32"
         ],
         "y": [
          "loading:Barge I",
          "loading:Barge I",
          "loading:Barge I",
          "loading:Barge I",
          null,
          "loading:Barge I",
          "loading:Barge I",
          "loading:Barge I",
          "loading:Barge I",
          null,
          "loading:Barge I",
          "loading:Barge I",
          "loading:Barge I",
          "loading:Barge I",
          null,
          "loading:Barge I",
          "loading:Barge I",
          "loading:Barge I",
          "loading:Barge I",
          null,
          "loading:Barge I",
          "loading:Barge I",
          "loading:Barge I",
          "loading:Barge I",
          null,
          "loading:Barge I",
          "loading:Barge I",
          "loading:Barge I",
          "loading:Barge I",
          null,
          "loading:Barge I",
          "loading:Barge I",
          "loading:Barge I",
          "loading:Barge I",
          null,
          "loading:Barge I",
          "loading:Barge I",
          "loading:Barge I",
          "loading:Barge I",
          null
         ]
        },
        {
         "connectgaps": false,
         "hoverinfo": "y+name",
         "line": {
          "color": "rgb(216,98,64)",
          "width": 10
         },
         "mode": "lines",
         "name": "loading:Barge I",
         "type": "scatter",
         "x": [
          "1970-01-01T02:26:12",
          "1970-01-01T02:26:12",
          "1970-01-01T02:59:32",
          "1970-01-01T02:59:32",
          "1970-01-01T02:59:32",
          "1970-01-01T06:11:12",
          "1970-01-01T06:11:12",
          "1970-01-01T06:44:32",
          "1970-01-01T06:44:32",
          "1970-01-01T06:44:32",
          "1970-01-01T09:58:32",
          "1970-01-01T09:58:32",
          "1970-01-01T10:31:52",
          "1970-01-01T10:31:52",
          "1970-01-01T10:31:52",
          "1970-01-01T13:44:12",
          "1970-01-01T13:44:12",
          "1970-01-01T14:17:32",
          "1970-01-01T14:17:32",
          "1970-01-01T14:17:32",
          "1970-01-01T02:26:12",
          "1970-01-01T02:26:12",
          "1970-01-01T02:59:32",
          "1970-01-01T02:59:32",
          "1970-01-01T02:59:32",
          "1970-01-01T06:11:12",
          "1970-01-01T06:11:12",
          "1970-01-01T06:44:32",
          "1970-01-01T06:44:32",
          "1970-01-01T06:44:32",
          "1970-01-01T09:58:32",
          "1970-01-01T09:58:32",
          "1970-01-01T10:31:52",
          "1970-01-01T10:31:52",
          "1970-01-01T10:31:52",
          "1970-01-01T13:44:12",
          "1970-01-01T13:44:12",
          "1970-01-01T14:17:32",
          "1970-01-01T14:17:32",
          "1970-01-01T14:17:32"
         ],
         "y": [
          "loading:Barge I",
          "loading:Barge I",
          "loading:Barge I",
          "loading:Barge I",
          null,
          "loading:Barge I",
          "loading:Barge I",
          "loading:Barge I",
          "loading:Barge I",
          null,
          "loading:Barge I",
          "loading:Barge I",
          "loading:Barge I",
          "loading:Barge I",
          null,
          "loading:Barge I",
          "loading:Barge I",
          "loading:Barge I",
          "loading:Barge I",
          null,
          "loading:Barge I",
          "loading:Barge I",
          "loading:Barge I",
          "loading:Barge I",
          null,
          "loading:Barge I",
          "loading:Barge I",
          "loading:Barge I",
          "loading:Barge I",
          null,
          "loading:Barge I",
          "loading:Barge I",
          "loading:Barge I",
          "loading:Barge I",
          null,
          "loading:Barge I",
          "loading:Barge I",
          "loading:Barge I",
          "loading:Barge I",
          null
         ]
        },
        {
         "connectgaps": false,
         "hoverinfo": "y+name",
         "line": {
          "color": "rgb(237,119,85)",
          "width": 10
         },
         "mode": "lines",
         "name": "loading:Carrier B",
         "type": "scatter",
         "x": [
          "1970-01-01T01:52:52",
          "1970-01-01T01:52:52",
          "1970-01-01T02:26:12",
          "1970-01-01T02:26:12",
          "1970-01-01T02:26:12",
          "1970-01-01T05:37:52",
          "1970-01-01T05:37:52",
          "1970-01-01T06:11:12",
          "1970-01-01T06:11:12",
          "1970-01-01T06:11:12",
          "1970-01-01T09:25:12",
          "1970-01-01T09:25:12",
          "1970-01-01T09:58:32",
          "1970-01-01T09:58:32",
          "1970-01-01T09:58:32",
          "1970-01-01T12:29:12",
          "1970-01-01T12:29:12",
          "1970-01-01T13:02:32",
          "1970-01-01T13:02:32",
          "1970-01-01T13:02:32",
          "1970-01-01T01:52:52",
          "1970-01-01T01:52:52",
          "1970-01-01T02:26:12",
          "1970-01-01T02:26:12",
          "1970-01-01T02:26:12",
          "1970-01-01T05:37:52",
          "1970-01-01T05:37:52",
          "1970-01-01T06:11:12",
          "1970-01-01T06:11:12",
          "1970-01-01T06:11:12",
          "1970-01-01T09:25:12",
          "1970-01-01T09:25:12",
          "1970-01-01T09:58:32",
          "1970-01-01T09:58:32",
          "1970-01-01T09:58:32",
          "1970-01-01T12:29:12",
          "1970-01-01T12:29:12",
          "1970-01-01T13:02:32",
          "1970-01-01T13:02:32",
          "1970-01-01T13:02:32"
         ],
         "y": [
          "loading:Carrier B",
          "loading:Carrier B",
          "loading:Carrier B",
          "loading:Carrier B",
          null,
          "loading:Carrier B",
          "loading:Carrier B",
          "loading:Carrier B",
          "loading:Carrier B",
          null,
          "loading:Carrier B",
          "loading:Carrier B",
          "loading:Carrier B",
          "loading:Carrier B",
          null,
          "loading:Carrier B",
          "loading:Carrier B",
          "loading:Carrier B",
          "loading:Carrier B",
          null,
          "loading:Carrier B",
          "loading:Carrier B",
          "loading:Carrier B",
          "loading:Carrier B",
          null,
          "loading:Carrier B",
          "loading:Carrier B",
          "loading:Carrier B",
          "loading:Carrier B",
          null,
          "loading:Carrier B",
          "loading:Carrier B",
          "loading:Carrier B",
          "loading:Carrier B",
          null,
          "loading:Carrier B",
          "loading:Carrier B",
          "loading:Carrier B",
          "loading:Carrier B",
          null
         ]
        },
        {
         "connectgaps": false,
         "hoverinfo": "y+name",
         "line": {
          "color": "rgb(2,140,106)",
          "width": 10
         },
         "mode": "lines",
         "name": "loading:Carrier B",
         "type": "scatter",
         "x": [
          "1970-01-01T01:52:52",
          "1970-01-01T01:52:52",
          "1970-01-01T02:26:12",
          "1970-01-01T02:26:12",
          "1970-01-01T02:26:12",
          "1970-01-01T05:37:52",
          "1970-01-01T05:37:52",
          "1970-01-01T06:11:12",
          "1970-01-01T06:11:12",
          "1970-01-01T06:11:12",
          "1970-01-01T09:25:12",
          "1970-01-01T09:25:12",
          "1970-01-01T09:58:32",
          "1970-01-01T09:58:32",
          "1970-01-01T09:58:32",
          "1970-01-01T12:29:12",
          "1970-01-01T12:29:12",
          "1970-01-01T13:02:32",
          "1970-01-01T13:02:32",
          "1970-01-01T13:02:32",
          "1970-01-01T01:52:52",
          "1970-01-01T01:52:52",
          "1970-01-01T02:26:12",
          "1970-01-01T02:26:12",
          "1970-01-01T02:26:12",
          "1970-01-01T05:37:52",
          "1970-01-01T05:37:52",
          "1970-01-01T06:11:12",
          "1970-01-01T06:11:12",
          "1970-01-01T06:11:12",
          "1970-01-01T09:25:12",
          "1970-01-01T09:25:12",
          "1970-01-01T09:58:32",
          "1970-01-01T09:58:32",
          "1970-01-01T09:58:32",
          "1970-01-01T12:29:12",
          "1970-01-01T12:29:12",
          "1970-01-01T13:02:32",
          "1970-01-01T13:02:32",
          "1970-01-01T13:02:32"
         ],
         "y": [
          "loading:Carrier B",
          "loading:Carrier B",
          "loading:Carrier B",
          "loading:Carrier B",
          null,
          "loading:Carrier B",
          "loading:Carrier B",
          "loading:Carrier B",
          "loading:Carrier B",
          null,
          "loading:Carrier B",
          "loading:Carrier B",
          "loading:Carrier B",
          "loading:Carrier B",
          null,
          "loading:Carrier B",
          "loading:Carrier B",
          "loading:Carrier B",
          "loading:Carrier B",
          null,
          "loading:Carrier B",
          "loading:Carrier B",
          "loading:Carrier B",
          "loading:Carrier B",
          null,
          "loading:Carrier B",
          "loading:Carrier B",
          "loading:Carrier B",
          "loading:Carrier B",
          null,
          "loading:Carrier B",
          "loading:Carrier B",
          "loading:Carrier B",
          "loading:Carrier B",
          null,
          "loading:Carrier B",
          "loading:Carrier B",
          "loading:Carrier B",
          "loading:Carrier B",
          null
         ]
        },
        {
         "connectgaps": false,
         "hoverinfo": "y+name",
         "line": {
          "color": "rgb(23,161,127)",
          "width": 10
         },
         "mode": "lines",
         "name": "loading:Barge II",
         "type": "scatter",
         "x": [
          "1970-01-01T03:41:12",
          "1970-01-01T03:41:12",
          "1970-01-01T04:14:32",
          "1970-01-01T04:14:32",
          "1970-01-01T04:14:32",
          "1970-01-01T07:28:32",
          "1970-01-01T07:28:32",
          "1970-01-01T08:01:52",
          "1970-01-01T08:01:52",
          "1970-01-01T08:01:52",
          "1970-01-01T11:55:12",
          "1970-01-01T11:55:12",
          "1970-01-01T12:28:32",
          "1970-01-01T12:28:32",
          "1970-01-01T12:28:32",
          "1970-01-01T03:41:12",
          "1970-01-01T03:41:12",
          "1970-01-01T04:14:32",
          "1970-01-01T04:14:32",
          "1970-01-01T04:14:32",
          "1970-01-01T07:28:32",
          "1970-01-01T07:28:32",
          "1970-01-01T08:01:52",
          "1970-01-01T08:01:52",
          "1970-01-01T08:01:52",
          "1970-01-01T11:55:12",
          "1970-01-01T11:55:12",
          "1970-01-01T12:28:32",
          "1970-01-01T12:28:32",
          "1970-01-01T12:28:32"
         ],
         "y": [
          "loading:Barge II",
          "loading:Barge II",
          "loading:Barge II",
          "loading:Barge II",
          null,
          "loading:Barge II",
          "loading:Barge II",
          "loading:Barge II",
          "loading:Barge II",
          null,
          "loading:Barge II",
          "loading:Barge II",
          "loading:Barge II",
          "loading:Barge II",
          null,
          "loading:Barge II",
          "loading:Barge II",
          "loading:Barge II",
          "loading:Barge II",
          null,
          "loading:Barge II",
          "loading:Barge II",
          "loading:Barge II",
          "loading:Barge II",
          null,
          "loading:Barge II",
          "loading:Barge II",
          "loading:Barge II",
          "loading:Barge II",
          null
         ]
        },
        {
         "connectgaps": false,
         "hoverinfo": "y+name",
         "line": {
          "color": "rgb(44,182,148)",
          "width": 10
         },
         "mode": "lines",
         "name": "loading:Barge II",
         "type": "scatter",
         "x": [
          "1970-01-01T03:41:12",
          "1970-01-01T03:41:12",
          "1970-01-01T04:14:32",
          "1970-01-01T04:14:32",
          "1970-01-01T04:14:32",
          "1970-01-01T07:28:32",
          "1970-01-01T07:28:32",
          "1970-01-01T08:01:52",
          "1970-01-01T08:01:52",
          "1970-01-01T08:01:52",
          "1970-01-01T11:55:12",
          "1970-01-01T11:55:12",
          "1970-01-01T12:28:32",
          "1970-01-01T12:28:32",
          "1970-01-01T12:28:32",
          "1970-01-01T03:41:12",
          "1970-01-01T03:41:12",
          "1970-01-01T04:14:32",
          "1970-01-01T04:14:32",
          "1970-01-01T04:14:32",
          "1970-01-01T07:28:32",
          "1970-01-01T07:28:32",
          "1970-01-01T08:01:52",
          "1970-01-01T08:01:52",
          "1970-01-01T08:01:52",
          "1970-01-01T11:55:12",
          "1970-01-01T11:55:12",
          "1970-01-01T12:28:32",
          "1970-01-01T12:28:32",
          "1970-01-01T12:28:32"
         ],
         "y": [
          "loading:Barge II",
          "loading:Barge II",
          "loading:Barge II",
          "loading:Barge II",
          null,
          "loading:Barge II",
          "loading:Barge II",
          "loading:Barge II",
          "loading:Barge II",
          null,
          "loading:Barge II",
          "loading:Barge II",
          "loading:Barge II",
          "loading:Barge II",
          null,
          "loading:Barge II",
          "loading:Barge II",
          "loading:Barge II",
          "loading:Barge II",
          null,
          "loading:Barge II",
          "loading:Barge II",
          "loading:Barge II",
          "loading:Barge II",
          null,
          "loading:Barge II",
          "loading:Barge II",
          "loading:Barge II",
          "loading:Barge II",
          null
         ]
        }
       ],
       "layout": {
        "hovermode": "closest",
        "legend": {
         "orientation": "h",
         "x": 0,
         "y": -0.2
        },
        "template": {
         "data": {
          "bar": [
           {
            "error_x": {
             "color": "#2a3f5f"
            },
            "error_y": {
             "color": "#2a3f5f"
            },
            "marker": {
             "line": {
              "color": "#E5ECF6",
              "width": 0.5
             },
             "pattern": {
              "fillmode": "overlay",
              "size": 10,
              "solidity": 0.2
             }
            },
            "type": "bar"
           }
          ],
          "barpolar": [
           {
            "marker": {
             "line": {
              "color": "#E5ECF6",
              "width": 0.5
             },
             "pattern": {
              "fillmode": "overlay",
              "size": 10,
              "solidity": 0.2
             }
            },
            "type": "barpolar"
           }
          ],
          "carpet": [
           {
            "aaxis": {
             "endlinecolor": "#2a3f5f",
             "gridcolor": "white",
             "linecolor": "white",
             "minorgridcolor": "white",
             "startlinecolor": "#2a3f5f"
            },
            "baxis": {
             "endlinecolor": "#2a3f5f",
             "gridcolor": "white",
             "linecolor": "white",
             "minorgridcolor": "white",
             "startlinecolor": "#2a3f5f"
            },
            "type": "carpet"
           }
          ],
          "choropleth": [
           {
            "colorbar": {
             "outlinewidth": 0,
             "ticks": ""
            },
            "type": "choropleth"
           }
          ],
          "contour": [
           {
            "colorbar": {
             "outlinewidth": 0,
             "ticks": ""
            },
            "colorscale": [
             [
              0,
              "#0d0887"
             ],
             [
              0.1111111111111111,
              "#46039f"
             ],
             [
              0.2222222222222222,
              "#7201a8"
             ],
             [
              0.3333333333333333,
              "#9c179e"
             ],
             [
              0.4444444444444444,
              "#bd3786"
             ],
             [
              0.5555555555555556,
              "#d8576b"
             ],
             [
              0.6666666666666666,
              "#ed7953"
             ],
             [
              0.7777777777777778,
              "#fb9f3a"
             ],
             [
              0.8888888888888888,
              "#fdca26"
             ],
             [
              1,
              "#f0f921"
             ]
            ],
            "type": "contour"
           }
          ],
          "contourcarpet": [
           {
            "colorbar": {
             "outlinewidth": 0,
             "ticks": ""
            },
            "type": "contourcarpet"
           }
          ],
          "heatmap": [
           {
            "colorbar": {
             "outlinewidth": 0,
             "ticks": ""
            },
            "colorscale": [
             [
              0,
              "#0d0887"
             ],
             [
              0.1111111111111111,
              "#46039f"
             ],
             [
              0.2222222222222222,
              "#7201a8"
             ],
             [
              0.3333333333333333,
              "#9c179e"
             ],
             [
              0.4444444444444444,
              "#bd3786"
             ],
             [
              0.5555555555555556,
              "#d8576b"
             ],
             [
              0.6666666666666666,
              "#ed7953"
             ],
             [
              0.7777777777777778,
              "#fb9f3a"
             ],
             [
              0.8888888888888888,
              "#fdca26"
             ],
             [
              1,
              "#f0f921"
             ]
            ],
            "type": "heatmap"
           }
          ],
          "heatmapgl": [
           {
            "colorbar": {
             "outlinewidth": 0,
             "ticks": ""
            },
            "colorscale": [
             [
              0,
              "#0d0887"
             ],
             [
              0.1111111111111111,
              "#46039f"
             ],
             [
              0.2222222222222222,
              "#7201a8"
             ],
             [
              0.3333333333333333,
              "#9c179e"
             ],
             [
              0.4444444444444444,
              "#bd3786"
             ],
             [
              0.5555555555555556,
              "#d8576b"
             ],
             [
              0.6666666666666666,
              "#ed7953"
             ],
             [
              0.7777777777777778,
              "#fb9f3a"
             ],
             [
              0.8888888888888888,
              "#fdca26"
             ],
             [
              1,
              "#f0f921"
             ]
            ],
            "type": "heatmapgl"
           }
          ],
          "histogram": [
           {
            "marker": {
             "pattern": {
              "fillmode": "overlay",
              "size": 10,
              "solidity": 0.2
             }
            },
            "type": "histogram"
           }
          ],
          "histogram2d": [
           {
            "colorbar": {
             "outlinewidth": 0,
             "ticks": ""
            },
            "colorscale": [
             [
              0,
              "#0d0887"
             ],
             [
              0.1111111111111111,
              "#46039f"
             ],
             [
              0.2222222222222222,
              "#7201a8"
             ],
             [
              0.3333333333333333,
              "#9c179e"
             ],
             [
              0.4444444444444444,
              "#bd3786"
             ],
             [
              0.5555555555555556,
              "#d8576b"
             ],
             [
              0.6666666666666666,
              "#ed7953"
             ],
             [
              0.7777777777777778,
              "#fb9f3a"
             ],
             [
              0.8888888888888888,
              "#fdca26"
             ],
             [
              1,
              "#f0f921"
             ]
            ],
            "type": "histogram2d"
           }
          ],
          "histogram2dcontour": [
           {
            "colorbar": {
             "outlinewidth": 0,
             "ticks": ""
            },
            "colorscale": [
             [
              0,
              "#0d0887"
             ],
             [
              0.1111111111111111,
              "#46039f"
             ],
             [
              0.2222222222222222,
              "#7201a8"
             ],
             [
              0.3333333333333333,
              "#9c179e"
             ],
             [
              0.4444444444444444,
              "#bd3786"
             ],
             [
              0.5555555555555556,
              "#d8576b"
             ],
             [
              0.6666666666666666,
              "#ed7953"
             ],
             [
              0.7777777777777778,
              "#fb9f3a"
             ],
             [
              0.8888888888888888,
              "#fdca26"
             ],
             [
              1,
              "#f0f921"
             ]
            ],
            "type": "histogram2dcontour"
           }
          ],
          "mesh3d": [
           {
            "colorbar": {
             "outlinewidth": 0,
             "ticks": ""
            },
            "type": "mesh3d"
           }
          ],
          "parcoords": [
           {
            "line": {
             "colorbar": {
              "outlinewidth": 0,
              "ticks": ""
             }
            },
            "type": "parcoords"
           }
          ],
          "pie": [
           {
            "automargin": true,
            "type": "pie"
           }
          ],
          "scatter": [
           {
            "fillpattern": {
             "fillmode": "overlay",
             "size": 10,
             "solidity": 0.2
            },
            "type": "scatter"
           }
          ],
          "scatter3d": [
           {
            "line": {
             "colorbar": {
              "outlinewidth": 0,
              "ticks": ""
             }
            },
            "marker": {
             "colorbar": {
              "outlinewidth": 0,
              "ticks": ""
             }
            },
            "type": "scatter3d"
           }
          ],
          "scattercarpet": [
           {
            "marker": {
             "colorbar": {
              "outlinewidth": 0,
              "ticks": ""
             }
            },
            "type": "scattercarpet"
           }
          ],
          "scattergeo": [
           {
            "marker": {
             "colorbar": {
              "outlinewidth": 0,
              "ticks": ""
             }
            },
            "type": "scattergeo"
           }
          ],
          "scattergl": [
           {
            "marker": {
             "colorbar": {
              "outlinewidth": 0,
              "ticks": ""
             }
            },
            "type": "scattergl"
           }
          ],
          "scattermapbox": [
           {
            "marker": {
             "colorbar": {
              "outlinewidth": 0,
              "ticks": ""
             }
            },
            "type": "scattermapbox"
           }
          ],
          "scatterpolar": [
           {
            "marker": {
             "colorbar": {
              "outlinewidth": 0,
              "ticks": ""
             }
            },
            "type": "scatterpolar"
           }
          ],
          "scatterpolargl": [
           {
            "marker": {
             "colorbar": {
              "outlinewidth": 0,
              "ticks": ""
             }
            },
            "type": "scatterpolargl"
           }
          ],
          "scatterternary": [
           {
            "marker": {
             "colorbar": {
              "outlinewidth": 0,
              "ticks": ""
             }
            },
            "type": "scatterternary"
           }
          ],
          "surface": [
           {
            "colorbar": {
             "outlinewidth": 0,
             "ticks": ""
            },
            "colorscale": [
             [
              0,
              "#0d0887"
             ],
             [
              0.1111111111111111,
              "#46039f"
             ],
             [
              0.2222222222222222,
              "#7201a8"
             ],
             [
              0.3333333333333333,
              "#9c179e"
             ],
             [
              0.4444444444444444,
              "#bd3786"
             ],
             [
              0.5555555555555556,
              "#d8576b"
             ],
             [
              0.6666666666666666,
              "#ed7953"
             ],
             [
              0.7777777777777778,
              "#fb9f3a"
             ],
             [
              0.8888888888888888,
              "#fdca26"
             ],
             [
              1,
              "#f0f921"
             ]
            ],
            "type": "surface"
           }
          ],
          "table": [
           {
            "cells": {
             "fill": {
              "color": "#EBF0F8"
             },
             "line": {
              "color": "white"
             }
            },
            "header": {
             "fill": {
              "color": "#C8D4E3"
             },
             "line": {
              "color": "white"
             }
            },
            "type": "table"
           }
          ]
         },
         "layout": {
          "annotationdefaults": {
           "arrowcolor": "#2a3f5f",
           "arrowhead": 0,
           "arrowwidth": 1
          },
          "autotypenumbers": "strict",
          "coloraxis": {
           "colorbar": {
            "outlinewidth": 0,
            "ticks": ""
           }
          },
          "colorscale": {
           "diverging": [
            [
             0,
             "#8e0152"
            ],
            [
             0.1,
             "#c51b7d"
            ],
            [
             0.2,
             "#de77ae"
            ],
            [
             0.3,
             "#f1b6da"
            ],
            [
             0.4,
             "#fde0ef"
            ],
            [
             0.5,
             "#f7f7f7"
            ],
            [
             0.6,
             "#e6f5d0"
            ],
            [
             0.7,
             "#b8e186"
            ],
            [
             0.8,
             "#7fbc41"
            ],
            [
             0.9,
             "#4d9221"
            ],
            [
             1,
             "#276419"
            ]
           ],
           "sequential": [
            [
             0,
             "#0d0887"
            ],
            [
             0.1111111111111111,
             "#46039f"
            ],
            [
             0.2222222222222222,
             "#7201a8"
            ],
            [
             0.3333333333333333,
             "#9c179e"
            ],
            [
             0.4444444444444444,
             "#bd3786"
            ],
            [
             0.5555555555555556,
             "#d8576b"
            ],
            [
             0.6666666666666666,
             "#ed7953"
            ],
            [
             0.7777777777777778,
             "#fb9f3a"
            ],
            [
             0.8888888888888888,
             "#fdca26"
            ],
            [
             1,
             "#f0f921"
            ]
           ],
           "sequentialminus": [
            [
             0,
             "#0d0887"
            ],
            [
             0.1111111111111111,
             "#46039f"
            ],
            [
             0.2222222222222222,
             "#7201a8"
            ],
            [
             0.3333333333333333,
             "#9c179e"
            ],
            [
             0.4444444444444444,
             "#bd3786"
            ],
            [
             0.5555555555555556,
             "#d8576b"
            ],
            [
             0.6666666666666666,
             "#ed7953"
            ],
            [
             0.7777777777777778,
             "#fb9f3a"
            ],
            [
             0.8888888888888888,
             "#fdca26"
            ],
            [
             1,
             "#f0f921"
            ]
           ]
          },
          "colorway": [
           "#636efa",
           "#EF553B",
           "#00cc96",
           "#ab63fa",
           "#FFA15A",
           "#19d3f3",
           "#FF6692",
           "#B6E880",
           "#FF97FF",
           "#FECB52"
          ],
          "font": {
           "color": "#2a3f5f"
          },
          "geo": {
           "bgcolor": "white",
           "lakecolor": "white",
           "landcolor": "#E5ECF6",
           "showlakes": true,
           "showland": true,
           "subunitcolor": "white"
          },
          "hoverlabel": {
           "align": "left"
          },
          "hovermode": "closest",
          "mapbox": {
           "style": "light"
          },
          "paper_bgcolor": "white",
          "plot_bgcolor": "#E5ECF6",
          "polar": {
           "angularaxis": {
            "gridcolor": "white",
            "linecolor": "white",
            "ticks": ""
           },
           "bgcolor": "#E5ECF6",
           "radialaxis": {
            "gridcolor": "white",
            "linecolor": "white",
            "ticks": ""
           }
          },
          "scene": {
           "xaxis": {
            "backgroundcolor": "#E5ECF6",
            "gridcolor": "white",
            "gridwidth": 2,
            "linecolor": "white",
            "showbackground": true,
            "ticks": "",
            "zerolinecolor": "white"
           },
           "yaxis": {
            "backgroundcolor": "#E5ECF6",
            "gridcolor": "white",
            "gridwidth": 2,
            "linecolor": "white",
            "showbackground": true,
            "ticks": "",
            "zerolinecolor": "white"
           },
           "zaxis": {
            "backgroundcolor": "#E5ECF6",
            "gridcolor": "white",
            "gridwidth": 2,
            "linecolor": "white",
            "showbackground": true,
            "ticks": "",
            "zerolinecolor": "white"
           }
          },
          "shapedefaults": {
           "line": {
            "color": "#2a3f5f"
           }
          },
          "ternary": {
           "aaxis": {
            "gridcolor": "white",
            "linecolor": "white",
            "ticks": ""
           },
           "baxis": {
            "gridcolor": "white",
            "linecolor": "white",
            "ticks": ""
           },
           "bgcolor": "#E5ECF6",
           "caxis": {
            "gridcolor": "white",
            "linecolor": "white",
            "ticks": ""
           }
          },
          "title": {
           "x": 0.05
          },
          "xaxis": {
           "automargin": true,
           "gridcolor": "white",
           "linecolor": "white",
           "ticks": "",
           "title": {
            "standoff": 15
           },
           "zerolinecolor": "white",
           "zerolinewidth": 2
          },
          "yaxis": {
           "automargin": true,
           "gridcolor": "white",
           "linecolor": "white",
           "ticks": "",
           "title": {
            "standoff": 15
           },
           "zerolinecolor": "white",
           "zerolinewidth": 2
          }
         }
        },
        "title": {
         "text": "GANTT Chart"
        },
        "xaxis": {
         "range": [
          "1970-01-01T01:11:12",
          "1970-01-01T15:40:52"
         ],
         "title": {
          "font": {
           "color": "#7f7f7f",
           "family": "Courier New, monospace",
           "size": 18
          },
          "text": "Time"
         }
        },
        "yaxis": {
         "title": {
          "font": {
           "color": "#7f7f7f",
           "family": "Courier New, monospace",
           "size": 18
          },
          "text": "Activities"
         }
        }
       }
      },
      "text/html": [
       "<div>                            <div id=\"025f7f3d-48bb-404d-b90a-323f13d777bc\" class=\"plotly-graph-div\" style=\"height:525px; width:100%;\"></div>            <script type=\"text/javascript\">                require([\"plotly\"], function(Plotly) {                    window.PLOTLYENV=window.PLOTLYENV || {};                                    if (document.getElementById(\"025f7f3d-48bb-404d-b90a-323f13d777bc\")) {                    Plotly.newPlot(                        \"025f7f3d-48bb-404d-b90a-323f13d777bc\",                        [{\"connectgaps\":false,\"hoverinfo\":\"y+name\",\"line\":{\"color\":\"rgb(69,207,173)\",\"width\":10},\"mode\":\"lines\",\"name\":\"loading:Carrier C\",\"x\":[\"1970-01-01T01:11:12\",\"1970-01-01T01:11:12\",\"1970-01-01T01:52:52\",\"1970-01-01T01:52:52\",\"1970-01-01T01:52:52\",\"1970-01-01T04:56:12\",\"1970-01-01T04:56:12\",\"1970-01-01T05:37:52\",\"1970-01-01T05:37:52\",\"1970-01-01T05:37:52\",\"1970-01-01T08:01:52\",\"1970-01-01T08:01:52\",\"1970-01-01T08:43:32\",\"1970-01-01T08:43:32\",\"1970-01-01T08:43:32\",\"1970-01-01T11:13:32\",\"1970-01-01T11:13:32\",\"1970-01-01T11:55:12\",\"1970-01-01T11:55:12\",\"1970-01-01T11:55:12\",\"1970-01-01T14:59:12\",\"1970-01-01T14:59:12\",\"1970-01-01T15:40:52\",\"1970-01-01T15:40:52\",\"1970-01-01T15:40:52\",\"1970-01-01T01:11:12\",\"1970-01-01T01:11:12\",\"1970-01-01T01:52:52\",\"1970-01-01T01:52:52\",\"1970-01-01T01:52:52\",\"1970-01-01T04:56:12\",\"1970-01-01T04:56:12\",\"1970-01-01T05:37:52\",\"1970-01-01T05:37:52\",\"1970-01-01T05:37:52\",\"1970-01-01T08:01:52\",\"1970-01-01T08:01:52\",\"1970-01-01T08:43:32\",\"1970-01-01T08:43:32\",\"1970-01-01T08:43:32\",\"1970-01-01T11:13:32\",\"1970-01-01T11:13:32\",\"1970-01-01T11:55:12\",\"1970-01-01T11:55:12\",\"1970-01-01T11:55:12\",\"1970-01-01T14:59:12\",\"1970-01-01T14:59:12\",\"1970-01-01T15:40:52\",\"1970-01-01T15:40:52\",\"1970-01-01T15:40:52\"],\"y\":[\"loading:Carrier C\",\"loading:Carrier C\",\"loading:Carrier C\",\"loading:Carrier C\",null,\"loading:Carrier C\",\"loading:Carrier C\",\"loading:Carrier C\",\"loading:Carrier C\",null,\"loading:Carrier C\",\"loading:Carrier C\",\"loading:Carrier C\",\"loading:Carrier C\",null,\"loading:Carrier C\",\"loading:Carrier C\",\"loading:Carrier C\",\"loading:Carrier C\",null,\"loading:Carrier C\",\"loading:Carrier C\",\"loading:Carrier C\",\"loading:Carrier C\",null,\"loading:Carrier C\",\"loading:Carrier C\",\"loading:Carrier C\",\"loading:Carrier C\",null,\"loading:Carrier C\",\"loading:Carrier C\",\"loading:Carrier C\",\"loading:Carrier C\",null,\"loading:Carrier C\",\"loading:Carrier C\",\"loading:Carrier C\",\"loading:Carrier C\",null,\"loading:Carrier C\",\"loading:Carrier C\",\"loading:Carrier C\",\"loading:Carrier C\",null,\"loading:Carrier C\",\"loading:Carrier C\",\"loading:Carrier C\",\"loading:Carrier C\",null],\"type\":\"scatter\"},{\"connectgaps\":false,\"hoverinfo\":\"y+name\",\"line\":{\"color\":\"rgb(90,228,194)\",\"width\":10},\"mode\":\"lines\",\"name\":\"loading:Carrier C\",\"x\":[\"1970-01-01T01:11:12\",\"1970-01-01T01:11:12\",\"1970-01-01T01:52:52\",\"1970-01-01T01:52:52\",\"1970-01-01T01:52:52\",\"1970-01-01T04:56:12\",\"1970-01-01T04:56:12\",\"1970-01-01T05:37:52\",\"1970-01-01T05:37:52\",\"1970-01-01T05:37:52\",\"1970-01-01T08:01:52\",\"1970-01-01T08:01:52\",\"1970-01-01T08:43:32\",\"1970-01-01T08:43:32\",\"1970-01-01T08:43:32\",\"1970-01-01T11:13:32\",\"1970-01-01T11:13:32\",\"1970-01-01T11:55:12\",\"1970-01-01T11:55:12\",\"1970-01-01T11:55:12\",\"1970-01-01T14:59:12\",\"1970-01-01T14:59:12\",\"1970-01-01T15:40:52\",\"1970-01-01T15:40:52\",\"1970-01-01T15:40:52\",\"1970-01-01T01:11:12\",\"1970-01-01T01:11:12\",\"1970-01-01T01:52:52\",\"1970-01-01T01:52:52\",\"1970-01-01T01:52:52\",\"1970-01-01T04:56:12\",\"1970-01-01T04:56:12\",\"1970-01-01T05:37:52\",\"1970-01-01T05:37:52\",\"1970-01-01T05:37:52\",\"1970-01-01T08:01:52\",\"1970-01-01T08:01:52\",\"1970-01-01T08:43:32\",\"1970-01-01T08:43:32\",\"1970-01-01T08:43:32\",\"1970-01-01T11:13:32\",\"1970-01-01T11:13:32\",\"1970-01-01T11:55:12\",\"1970-01-01T11:55:12\",\"1970-01-01T11:55:12\",\"1970-01-01T14:59:12\",\"1970-01-01T14:59:12\",\"1970-01-01T15:40:52\",\"1970-01-01T15:40:52\",\"1970-01-01T15:40:52\"],\"y\":[\"loading:Carrier C\",\"loading:Carrier C\",\"loading:Carrier C\",\"loading:Carrier C\",null,\"loading:Carrier C\",\"loading:Carrier C\",\"loading:Carrier C\",\"loading:Carrier C\",null,\"loading:Carrier C\",\"loading:Carrier C\",\"loading:Carrier C\",\"loading:Carrier C\",null,\"loading:Carrier C\",\"loading:Carrier C\",\"loading:Carrier C\",\"loading:Carrier C\",null,\"loading:Carrier C\",\"loading:Carrier C\",\"loading:Carrier C\",\"loading:Carrier C\",null,\"loading:Carrier C\",\"loading:Carrier C\",\"loading:Carrier C\",\"loading:Carrier C\",null,\"loading:Carrier C\",\"loading:Carrier C\",\"loading:Carrier C\",\"loading:Carrier C\",null,\"loading:Carrier C\",\"loading:Carrier C\",\"loading:Carrier C\",\"loading:Carrier C\",null,\"loading:Carrier C\",\"loading:Carrier C\",\"loading:Carrier C\",\"loading:Carrier C\",null,\"loading:Carrier C\",\"loading:Carrier C\",\"loading:Carrier C\",\"loading:Carrier C\",null],\"type\":\"scatter\"},{\"connectgaps\":false,\"hoverinfo\":\"y+name\",\"line\":{\"color\":\"rgb(111,249,215)\",\"width\":10},\"mode\":\"lines\",\"name\":\"loading:Barge III\",\"x\":[\"1970-01-01T02:59:32\",\"1970-01-01T02:59:32\",\"1970-01-01T03:41:12\",\"1970-01-01T03:41:12\",\"1970-01-01T03:41:12\",\"1970-01-01T06:44:32\",\"1970-01-01T06:44:32\",\"1970-01-01T07:26:12\",\"1970-01-01T07:26:12\",\"1970-01-01T07:26:12\",\"1970-01-01T10:31:52\",\"1970-01-01T10:31:52\",\"1970-01-01T11:13:32\",\"1970-01-01T11:13:32\",\"1970-01-01T11:13:32\",\"1970-01-01T14:17:32\",\"1970-01-01T14:17:32\",\"1970-01-01T14:59:12\",\"1970-01-01T14:59:12\",\"1970-01-01T14:59:12\",\"1970-01-01T02:59:32\",\"1970-01-01T02:59:32\",\"1970-01-01T03:41:12\",\"1970-01-01T03:41:12\",\"1970-01-01T03:41:12\",\"1970-01-01T06:44:32\",\"1970-01-01T06:44:32\",\"1970-01-01T07:26:12\",\"1970-01-01T07:26:12\",\"1970-01-01T07:26:12\",\"1970-01-01T10:31:52\",\"1970-01-01T10:31:52\",\"1970-01-01T11:13:32\",\"1970-01-01T11:13:32\",\"1970-01-01T11:13:32\",\"1970-01-01T14:17:32\",\"1970-01-01T14:17:32\",\"1970-01-01T14:59:12\",\"1970-01-01T14:59:12\",\"1970-01-01T14:59:12\"],\"y\":[\"loading:Barge III\",\"loading:Barge III\",\"loading:Barge III\",\"loading:Barge III\",null,\"loading:Barge III\",\"loading:Barge III\",\"loading:Barge III\",\"loading:Barge III\",null,\"loading:Barge III\",\"loading:Barge III\",\"loading:Barge III\",\"loading:Barge III\",null,\"loading:Barge III\",\"loading:Barge III\",\"loading:Barge III\",\"loading:Barge III\",null,\"loading:Barge III\",\"loading:Barge III\",\"loading:Barge III\",\"loading:Barge III\",null,\"loading:Barge III\",\"loading:Barge III\",\"loading:Barge III\",\"loading:Barge III\",null,\"loading:Barge III\",\"loading:Barge III\",\"loading:Barge III\",\"loading:Barge III\",null,\"loading:Barge III\",\"loading:Barge III\",\"loading:Barge III\",\"loading:Barge III\",null],\"type\":\"scatter\"},{\"connectgaps\":false,\"hoverinfo\":\"y+name\",\"line\":{\"color\":\"rgb(132,14,236)\",\"width\":10},\"mode\":\"lines\",\"name\":\"loading:Barge III\",\"x\":[\"1970-01-01T02:59:32\",\"1970-01-01T02:59:32\",\"1970-01-01T03:41:12\",\"1970-01-01T03:41:12\",\"1970-01-01T03:41:12\",\"1970-01-01T06:44:32\",\"1970-01-01T06:44:32\",\"1970-01-01T07:26:12\",\"1970-01-01T07:26:12\",\"1970-01-01T07:26:12\",\"1970-01-01T10:31:52\",\"1970-01-01T10:31:52\",\"1970-01-01T11:13:32\",\"1970-01-01T11:13:32\",\"1970-01-01T11:13:32\",\"1970-01-01T14:17:32\",\"1970-01-01T14:17:32\",\"1970-01-01T14:59:12\",\"1970-01-01T14:59:12\",\"1970-01-01T14:59:12\",\"1970-01-01T02:59:32\",\"1970-01-01T02:59:32\",\"1970-01-01T03:41:12\",\"1970-01-01T03:41:12\",\"1970-01-01T03:41:12\",\"1970-01-01T06:44:32\",\"1970-01-01T06:44:32\",\"1970-01-01T07:26:12\",\"1970-01-01T07:26:12\",\"1970-01-01T07:26:12\",\"1970-01-01T10:31:52\",\"1970-01-01T10:31:52\",\"1970-01-01T11:13:32\",\"1970-01-01T11:13:32\",\"1970-01-01T11:13:32\",\"1970-01-01T14:17:32\",\"1970-01-01T14:17:32\",\"1970-01-01T14:59:12\",\"1970-01-01T14:59:12\",\"1970-01-01T14:59:12\"],\"y\":[\"loading:Barge III\",\"loading:Barge III\",\"loading:Barge III\",\"loading:Barge III\",null,\"loading:Barge III\",\"loading:Barge III\",\"loading:Barge III\",\"loading:Barge III\",null,\"loading:Barge III\",\"loading:Barge III\",\"loading:Barge III\",\"loading:Barge III\",null,\"loading:Barge III\",\"loading:Barge III\",\"loading:Barge III\",\"loading:Barge III\",null,\"loading:Barge III\",\"loading:Barge III\",\"loading:Barge III\",\"loading:Barge III\",null,\"loading:Barge III\",\"loading:Barge III\",\"loading:Barge III\",\"loading:Barge III\",null,\"loading:Barge III\",\"loading:Barge III\",\"loading:Barge III\",\"loading:Barge III\",null,\"loading:Barge III\",\"loading:Barge III\",\"loading:Barge III\",\"loading:Barge III\",null],\"type\":\"scatter\"},{\"connectgaps\":false,\"hoverinfo\":\"y+name\",\"line\":{\"color\":\"rgb(153,35,1)\",\"width\":10},\"mode\":\"lines\",\"name\":\"loading:Carrier A\",\"x\":[\"1970-01-01T04:14:32\",\"1970-01-01T04:14:32\",\"1970-01-01T04:56:12\",\"1970-01-01T04:56:12\",\"1970-01-01T04:56:12\",\"1970-01-01T08:43:32\",\"1970-01-01T08:43:32\",\"1970-01-01T09:25:12\",\"1970-01-01T09:25:12\",\"1970-01-01T09:25:12\",\"1970-01-01T13:02:32\",\"1970-01-01T13:02:32\",\"1970-01-01T13:44:12\",\"1970-01-01T13:44:12\",\"1970-01-01T13:44:12\",\"1970-01-01T04:14:32\",\"1970-01-01T04:14:32\",\"1970-01-01T04:56:12\",\"1970-01-01T04:56:12\",\"1970-01-01T04:56:12\",\"1970-01-01T08:43:32\",\"1970-01-01T08:43:32\",\"1970-01-01T09:25:12\",\"1970-01-01T09:25:12\",\"1970-01-01T09:25:12\",\"1970-01-01T13:02:32\",\"1970-01-01T13:02:32\",\"1970-01-01T13:44:12\",\"1970-01-01T13:44:12\",\"1970-01-01T13:44:12\"],\"y\":[\"loading:Carrier A\",\"loading:Carrier A\",\"loading:Carrier A\",\"loading:Carrier A\",null,\"loading:Carrier A\",\"loading:Carrier A\",\"loading:Carrier A\",\"loading:Carrier A\",null,\"loading:Carrier A\",\"loading:Carrier A\",\"loading:Carrier A\",\"loading:Carrier A\",null,\"loading:Carrier A\",\"loading:Carrier A\",\"loading:Carrier A\",\"loading:Carrier A\",null,\"loading:Carrier A\",\"loading:Carrier A\",\"loading:Carrier A\",\"loading:Carrier A\",null,\"loading:Carrier A\",\"loading:Carrier A\",\"loading:Carrier A\",\"loading:Carrier A\",null],\"type\":\"scatter\"},{\"connectgaps\":false,\"hoverinfo\":\"y+name\",\"line\":{\"color\":\"rgb(174,56,22)\",\"width\":10},\"mode\":\"lines\",\"name\":\"loading:Carrier A\",\"x\":[\"1970-01-01T04:14:32\",\"1970-01-01T04:14:32\",\"1970-01-01T04:56:12\",\"1970-01-01T04:56:12\",\"1970-01-01T04:56:12\",\"1970-01-01T08:43:32\",\"1970-01-01T08:43:32\",\"1970-01-01T09:25:12\",\"1970-01-01T09:25:12\",\"1970-01-01T09:25:12\",\"1970-01-01T13:02:32\",\"1970-01-01T13:02:32\",\"1970-01-01T13:44:12\",\"1970-01-01T13:44:12\",\"1970-01-01T13:44:12\",\"1970-01-01T04:14:32\",\"1970-01-01T04:14:32\",\"1970-01-01T04:56:12\",\"1970-01-01T04:56:12\",\"1970-01-01T04:56:12\",\"1970-01-01T08:43:32\",\"1970-01-01T08:43:32\",\"1970-01-01T09:25:12\",\"1970-01-01T09:25:12\",\"1970-01-01T09:25:12\",\"1970-01-01T13:02:32\",\"1970-01-01T13:02:32\",\"1970-01-01T13:44:12\",\"1970-01-01T13:44:12\",\"1970-01-01T13:44:12\"],\"y\":[\"loading:Carrier A\",\"loading:Carrier A\",\"loading:Carrier A\",\"loading:Carrier A\",null,\"loading:Carrier A\",\"loading:Carrier A\",\"loading:Carrier A\",\"loading:Carrier A\",null,\"loading:Carrier A\",\"loading:Carrier A\",\"loading:Carrier A\",\"loading:Carrier A\",null,\"loading:Carrier A\",\"loading:Carrier A\",\"loading:Carrier A\",\"loading:Carrier A\",null,\"loading:Carrier A\",\"loading:Carrier A\",\"loading:Carrier A\",\"loading:Carrier A\",null,\"loading:Carrier A\",\"loading:Carrier A\",\"loading:Carrier A\",\"loading:Carrier A\",null],\"type\":\"scatter\"},{\"connectgaps\":false,\"hoverinfo\":\"y+name\",\"line\":{\"color\":\"rgb(195,77,43)\",\"width\":10},\"mode\":\"lines\",\"name\":\"loading:Barge I\",\"x\":[\"1970-01-01T02:26:12\",\"1970-01-01T02:26:12\",\"1970-01-01T02:59:32\",\"1970-01-01T02:59:32\",\"1970-01-01T02:59:32\",\"1970-01-01T06:11:12\",\"1970-01-01T06:11:12\",\"1970-01-01T06:44:32\",\"1970-01-01T06:44:32\",\"1970-01-01T06:44:32\",\"1970-01-01T09:58:32\",\"1970-01-01T09:58:32\",\"1970-01-01T10:31:52\",\"1970-01-01T10:31:52\",\"1970-01-01T10:31:52\",\"1970-01-01T13:44:12\",\"1970-01-01T13:44:12\",\"1970-01-01T14:17:32\",\"1970-01-01T14:17:32\",\"1970-01-01T14:17:32\",\"1970-01-01T02:26:12\",\"1970-01-01T02:26:12\",\"1970-01-01T02:59:32\",\"1970-01-01T02:59:32\",\"1970-01-01T02:59:32\",\"1970-01-01T06:11:12\",\"1970-01-01T06:11:12\",\"1970-01-01T06:44:32\",\"1970-01-01T06:44:32\",\"1970-01-01T06:44:32\",\"1970-01-01T09:58:32\",\"1970-01-01T09:58:32\",\"1970-01-01T10:31:52\",\"1970-01-01T10:31:52\",\"1970-01-01T10:31:52\",\"1970-01-01T13:44:12\",\"1970-01-01T13:44:12\",\"1970-01-01T14:17:32\",\"1970-01-01T14:17:32\",\"1970-01-01T14:17:32\"],\"y\":[\"loading:Barge I\",\"loading:Barge I\",\"loading:Barge I\",\"loading:Barge I\",null,\"loading:Barge I\",\"loading:Barge I\",\"loading:Barge I\",\"loading:Barge I\",null,\"loading:Barge I\",\"loading:Barge I\",\"loading:Barge I\",\"loading:Barge I\",null,\"loading:Barge I\",\"loading:Barge I\",\"loading:Barge I\",\"loading:Barge I\",null,\"loading:Barge I\",\"loading:Barge I\",\"loading:Barge I\",\"loading:Barge I\",null,\"loading:Barge I\",\"loading:Barge I\",\"loading:Barge I\",\"loading:Barge I\",null,\"loading:Barge I\",\"loading:Barge I\",\"loading:Barge I\",\"loading:Barge I\",null,\"loading:Barge I\",\"loading:Barge I\",\"loading:Barge I\",\"loading:Barge I\",null],\"type\":\"scatter\"},{\"connectgaps\":false,\"hoverinfo\":\"y+name\",\"line\":{\"color\":\"rgb(216,98,64)\",\"width\":10},\"mode\":\"lines\",\"name\":\"loading:Barge I\",\"x\":[\"1970-01-01T02:26:12\",\"1970-01-01T02:26:12\",\"1970-01-01T02:59:32\",\"1970-01-01T02:59:32\",\"1970-01-01T02:59:32\",\"1970-01-01T06:11:12\",\"1970-01-01T06:11:12\",\"1970-01-01T06:44:32\",\"1970-01-01T06:44:32\",\"1970-01-01T06:44:32\",\"1970-01-01T09:58:32\",\"1970-01-01T09:58:32\",\"1970-01-01T10:31:52\",\"1970-01-01T10:31:52\",\"1970-01-01T10:31:52\",\"1970-01-01T13:44:12\",\"1970-01-01T13:44:12\",\"1970-01-01T14:17:32\",\"1970-01-01T14:17:32\",\"1970-01-01T14:17:32\",\"1970-01-01T02:26:12\",\"1970-01-01T02:26:12\",\"1970-01-01T02:59:32\",\"1970-01-01T02:59:32\",\"1970-01-01T02:59:32\",\"1970-01-01T06:11:12\",\"1970-01-01T06:11:12\",\"1970-01-01T06:44:32\",\"1970-01-01T06:44:32\",\"1970-01-01T06:44:32\",\"1970-01-01T09:58:32\",\"1970-01-01T09:58:32\",\"1970-01-01T10:31:52\",\"1970-01-01T10:31:52\",\"1970-01-01T10:31:52\",\"1970-01-01T13:44:12\",\"1970-01-01T13:44:12\",\"1970-01-01T14:17:32\",\"1970-01-01T14:17:32\",\"1970-01-01T14:17:32\"],\"y\":[\"loading:Barge I\",\"loading:Barge I\",\"loading:Barge I\",\"loading:Barge I\",null,\"loading:Barge I\",\"loading:Barge I\",\"loading:Barge I\",\"loading:Barge I\",null,\"loading:Barge I\",\"loading:Barge I\",\"loading:Barge I\",\"loading:Barge I\",null,\"loading:Barge I\",\"loading:Barge I\",\"loading:Barge I\",\"loading:Barge I\",null,\"loading:Barge I\",\"loading:Barge I\",\"loading:Barge I\",\"loading:Barge I\",null,\"loading:Barge I\",\"loading:Barge I\",\"loading:Barge I\",\"loading:Barge I\",null,\"loading:Barge I\",\"loading:Barge I\",\"loading:Barge I\",\"loading:Barge I\",null,\"loading:Barge I\",\"loading:Barge I\",\"loading:Barge I\",\"loading:Barge I\",null],\"type\":\"scatter\"},{\"connectgaps\":false,\"hoverinfo\":\"y+name\",\"line\":{\"color\":\"rgb(237,119,85)\",\"width\":10},\"mode\":\"lines\",\"name\":\"loading:Carrier B\",\"x\":[\"1970-01-01T01:52:52\",\"1970-01-01T01:52:52\",\"1970-01-01T02:26:12\",\"1970-01-01T02:26:12\",\"1970-01-01T02:26:12\",\"1970-01-01T05:37:52\",\"1970-01-01T05:37:52\",\"1970-01-01T06:11:12\",\"1970-01-01T06:11:12\",\"1970-01-01T06:11:12\",\"1970-01-01T09:25:12\",\"1970-01-01T09:25:12\",\"1970-01-01T09:58:32\",\"1970-01-01T09:58:32\",\"1970-01-01T09:58:32\",\"1970-01-01T12:29:12\",\"1970-01-01T12:29:12\",\"1970-01-01T13:02:32\",\"1970-01-01T13:02:32\",\"1970-01-01T13:02:32\",\"1970-01-01T01:52:52\",\"1970-01-01T01:52:52\",\"1970-01-01T02:26:12\",\"1970-01-01T02:26:12\",\"1970-01-01T02:26:12\",\"1970-01-01T05:37:52\",\"1970-01-01T05:37:52\",\"1970-01-01T06:11:12\",\"1970-01-01T06:11:12\",\"1970-01-01T06:11:12\",\"1970-01-01T09:25:12\",\"1970-01-01T09:25:12\",\"1970-01-01T09:58:32\",\"1970-01-01T09:58:32\",\"1970-01-01T09:58:32\",\"1970-01-01T12:29:12\",\"1970-01-01T12:29:12\",\"1970-01-01T13:02:32\",\"1970-01-01T13:02:32\",\"1970-01-01T13:02:32\"],\"y\":[\"loading:Carrier B\",\"loading:Carrier B\",\"loading:Carrier B\",\"loading:Carrier B\",null,\"loading:Carrier B\",\"loading:Carrier B\",\"loading:Carrier B\",\"loading:Carrier B\",null,\"loading:Carrier B\",\"loading:Carrier B\",\"loading:Carrier B\",\"loading:Carrier B\",null,\"loading:Carrier B\",\"loading:Carrier B\",\"loading:Carrier B\",\"loading:Carrier B\",null,\"loading:Carrier B\",\"loading:Carrier B\",\"loading:Carrier B\",\"loading:Carrier B\",null,\"loading:Carrier B\",\"loading:Carrier B\",\"loading:Carrier B\",\"loading:Carrier B\",null,\"loading:Carrier B\",\"loading:Carrier B\",\"loading:Carrier B\",\"loading:Carrier B\",null,\"loading:Carrier B\",\"loading:Carrier B\",\"loading:Carrier B\",\"loading:Carrier B\",null],\"type\":\"scatter\"},{\"connectgaps\":false,\"hoverinfo\":\"y+name\",\"line\":{\"color\":\"rgb(2,140,106)\",\"width\":10},\"mode\":\"lines\",\"name\":\"loading:Carrier B\",\"x\":[\"1970-01-01T01:52:52\",\"1970-01-01T01:52:52\",\"1970-01-01T02:26:12\",\"1970-01-01T02:26:12\",\"1970-01-01T02:26:12\",\"1970-01-01T05:37:52\",\"1970-01-01T05:37:52\",\"1970-01-01T06:11:12\",\"1970-01-01T06:11:12\",\"1970-01-01T06:11:12\",\"1970-01-01T09:25:12\",\"1970-01-01T09:25:12\",\"1970-01-01T09:58:32\",\"1970-01-01T09:58:32\",\"1970-01-01T09:58:32\",\"1970-01-01T12:29:12\",\"1970-01-01T12:29:12\",\"1970-01-01T13:02:32\",\"1970-01-01T13:02:32\",\"1970-01-01T13:02:32\",\"1970-01-01T01:52:52\",\"1970-01-01T01:52:52\",\"1970-01-01T02:26:12\",\"1970-01-01T02:26:12\",\"1970-01-01T02:26:12\",\"1970-01-01T05:37:52\",\"1970-01-01T05:37:52\",\"1970-01-01T06:11:12\",\"1970-01-01T06:11:12\",\"1970-01-01T06:11:12\",\"1970-01-01T09:25:12\",\"1970-01-01T09:25:12\",\"1970-01-01T09:58:32\",\"1970-01-01T09:58:32\",\"1970-01-01T09:58:32\",\"1970-01-01T12:29:12\",\"1970-01-01T12:29:12\",\"1970-01-01T13:02:32\",\"1970-01-01T13:02:32\",\"1970-01-01T13:02:32\"],\"y\":[\"loading:Carrier B\",\"loading:Carrier B\",\"loading:Carrier B\",\"loading:Carrier B\",null,\"loading:Carrier B\",\"loading:Carrier B\",\"loading:Carrier B\",\"loading:Carrier B\",null,\"loading:Carrier B\",\"loading:Carrier B\",\"loading:Carrier B\",\"loading:Carrier B\",null,\"loading:Carrier B\",\"loading:Carrier B\",\"loading:Carrier B\",\"loading:Carrier B\",null,\"loading:Carrier B\",\"loading:Carrier B\",\"loading:Carrier B\",\"loading:Carrier B\",null,\"loading:Carrier B\",\"loading:Carrier B\",\"loading:Carrier B\",\"loading:Carrier B\",null,\"loading:Carrier B\",\"loading:Carrier B\",\"loading:Carrier B\",\"loading:Carrier B\",null,\"loading:Carrier B\",\"loading:Carrier B\",\"loading:Carrier B\",\"loading:Carrier B\",null],\"type\":\"scatter\"},{\"connectgaps\":false,\"hoverinfo\":\"y+name\",\"line\":{\"color\":\"rgb(23,161,127)\",\"width\":10},\"mode\":\"lines\",\"name\":\"loading:Barge II\",\"x\":[\"1970-01-01T03:41:12\",\"1970-01-01T03:41:12\",\"1970-01-01T04:14:32\",\"1970-01-01T04:14:32\",\"1970-01-01T04:14:32\",\"1970-01-01T07:28:32\",\"1970-01-01T07:28:32\",\"1970-01-01T08:01:52\",\"1970-01-01T08:01:52\",\"1970-01-01T08:01:52\",\"1970-01-01T11:55:12\",\"1970-01-01T11:55:12\",\"1970-01-01T12:28:32\",\"1970-01-01T12:28:32\",\"1970-01-01T12:28:32\",\"1970-01-01T03:41:12\",\"1970-01-01T03:41:12\",\"1970-01-01T04:14:32\",\"1970-01-01T04:14:32\",\"1970-01-01T04:14:32\",\"1970-01-01T07:28:32\",\"1970-01-01T07:28:32\",\"1970-01-01T08:01:52\",\"1970-01-01T08:01:52\",\"1970-01-01T08:01:52\",\"1970-01-01T11:55:12\",\"1970-01-01T11:55:12\",\"1970-01-01T12:28:32\",\"1970-01-01T12:28:32\",\"1970-01-01T12:28:32\"],\"y\":[\"loading:Barge II\",\"loading:Barge II\",\"loading:Barge II\",\"loading:Barge II\",null,\"loading:Barge II\",\"loading:Barge II\",\"loading:Barge II\",\"loading:Barge II\",null,\"loading:Barge II\",\"loading:Barge II\",\"loading:Barge II\",\"loading:Barge II\",null,\"loading:Barge II\",\"loading:Barge II\",\"loading:Barge II\",\"loading:Barge II\",null,\"loading:Barge II\",\"loading:Barge II\",\"loading:Barge II\",\"loading:Barge II\",null,\"loading:Barge II\",\"loading:Barge II\",\"loading:Barge II\",\"loading:Barge II\",null],\"type\":\"scatter\"},{\"connectgaps\":false,\"hoverinfo\":\"y+name\",\"line\":{\"color\":\"rgb(44,182,148)\",\"width\":10},\"mode\":\"lines\",\"name\":\"loading:Barge II\",\"x\":[\"1970-01-01T03:41:12\",\"1970-01-01T03:41:12\",\"1970-01-01T04:14:32\",\"1970-01-01T04:14:32\",\"1970-01-01T04:14:32\",\"1970-01-01T07:28:32\",\"1970-01-01T07:28:32\",\"1970-01-01T08:01:52\",\"1970-01-01T08:01:52\",\"1970-01-01T08:01:52\",\"1970-01-01T11:55:12\",\"1970-01-01T11:55:12\",\"1970-01-01T12:28:32\",\"1970-01-01T12:28:32\",\"1970-01-01T12:28:32\",\"1970-01-01T03:41:12\",\"1970-01-01T03:41:12\",\"1970-01-01T04:14:32\",\"1970-01-01T04:14:32\",\"1970-01-01T04:14:32\",\"1970-01-01T07:28:32\",\"1970-01-01T07:28:32\",\"1970-01-01T08:01:52\",\"1970-01-01T08:01:52\",\"1970-01-01T08:01:52\",\"1970-01-01T11:55:12\",\"1970-01-01T11:55:12\",\"1970-01-01T12:28:32\",\"1970-01-01T12:28:32\",\"1970-01-01T12:28:32\"],\"y\":[\"loading:Barge II\",\"loading:Barge II\",\"loading:Barge II\",\"loading:Barge II\",null,\"loading:Barge II\",\"loading:Barge II\",\"loading:Barge II\",\"loading:Barge II\",null,\"loading:Barge II\",\"loading:Barge II\",\"loading:Barge II\",\"loading:Barge II\",null,\"loading:Barge II\",\"loading:Barge II\",\"loading:Barge II\",\"loading:Barge II\",null,\"loading:Barge II\",\"loading:Barge II\",\"loading:Barge II\",\"loading:Barge II\",null,\"loading:Barge II\",\"loading:Barge II\",\"loading:Barge II\",\"loading:Barge II\",null],\"type\":\"scatter\"}],                        {\"hovermode\":\"closest\",\"legend\":{\"orientation\":\"h\",\"x\":0,\"y\":-0.2},\"template\":{\"data\":{\"barpolar\":[{\"marker\":{\"line\":{\"color\":\"#E5ECF6\",\"width\":0.5},\"pattern\":{\"fillmode\":\"overlay\",\"size\":10,\"solidity\":0.2}},\"type\":\"barpolar\"}],\"bar\":[{\"error_x\":{\"color\":\"#2a3f5f\"},\"error_y\":{\"color\":\"#2a3f5f\"},\"marker\":{\"line\":{\"color\":\"#E5ECF6\",\"width\":0.5},\"pattern\":{\"fillmode\":\"overlay\",\"size\":10,\"solidity\":0.2}},\"type\":\"bar\"}],\"carpet\":[{\"aaxis\":{\"endlinecolor\":\"#2a3f5f\",\"gridcolor\":\"white\",\"linecolor\":\"white\",\"minorgridcolor\":\"white\",\"startlinecolor\":\"#2a3f5f\"},\"baxis\":{\"endlinecolor\":\"#2a3f5f\",\"gridcolor\":\"white\",\"linecolor\":\"white\",\"minorgridcolor\":\"white\",\"startlinecolor\":\"#2a3f5f\"},\"type\":\"carpet\"}],\"choropleth\":[{\"colorbar\":{\"outlinewidth\":0,\"ticks\":\"\"},\"type\":\"choropleth\"}],\"contourcarpet\":[{\"colorbar\":{\"outlinewidth\":0,\"ticks\":\"\"},\"type\":\"contourcarpet\"}],\"contour\":[{\"colorbar\":{\"outlinewidth\":0,\"ticks\":\"\"},\"colorscale\":[[0.0,\"#0d0887\"],[0.1111111111111111,\"#46039f\"],[0.2222222222222222,\"#7201a8\"],[0.3333333333333333,\"#9c179e\"],[0.4444444444444444,\"#bd3786\"],[0.5555555555555556,\"#d8576b\"],[0.6666666666666666,\"#ed7953\"],[0.7777777777777778,\"#fb9f3a\"],[0.8888888888888888,\"#fdca26\"],[1.0,\"#f0f921\"]],\"type\":\"contour\"}],\"heatmapgl\":[{\"colorbar\":{\"outlinewidth\":0,\"ticks\":\"\"},\"colorscale\":[[0.0,\"#0d0887\"],[0.1111111111111111,\"#46039f\"],[0.2222222222222222,\"#7201a8\"],[0.3333333333333333,\"#9c179e\"],[0.4444444444444444,\"#bd3786\"],[0.5555555555555556,\"#d8576b\"],[0.6666666666666666,\"#ed7953\"],[0.7777777777777778,\"#fb9f3a\"],[0.8888888888888888,\"#fdca26\"],[1.0,\"#f0f921\"]],\"type\":\"heatmapgl\"}],\"heatmap\":[{\"colorbar\":{\"outlinewidth\":0,\"ticks\":\"\"},\"colorscale\":[[0.0,\"#0d0887\"],[0.1111111111111111,\"#46039f\"],[0.2222222222222222,\"#7201a8\"],[0.3333333333333333,\"#9c179e\"],[0.4444444444444444,\"#bd3786\"],[0.5555555555555556,\"#d8576b\"],[0.6666666666666666,\"#ed7953\"],[0.7777777777777778,\"#fb9f3a\"],[0.8888888888888888,\"#fdca26\"],[1.0,\"#f0f921\"]],\"type\":\"heatmap\"}],\"histogram2dcontour\":[{\"colorbar\":{\"outlinewidth\":0,\"ticks\":\"\"},\"colorscale\":[[0.0,\"#0d0887\"],[0.1111111111111111,\"#46039f\"],[0.2222222222222222,\"#7201a8\"],[0.3333333333333333,\"#9c179e\"],[0.4444444444444444,\"#bd3786\"],[0.5555555555555556,\"#d8576b\"],[0.6666666666666666,\"#ed7953\"],[0.7777777777777778,\"#fb9f3a\"],[0.8888888888888888,\"#fdca26\"],[1.0,\"#f0f921\"]],\"type\":\"histogram2dcontour\"}],\"histogram2d\":[{\"colorbar\":{\"outlinewidth\":0,\"ticks\":\"\"},\"colorscale\":[[0.0,\"#0d0887\"],[0.1111111111111111,\"#46039f\"],[0.2222222222222222,\"#7201a8\"],[0.3333333333333333,\"#9c179e\"],[0.4444444444444444,\"#bd3786\"],[0.5555555555555556,\"#d8576b\"],[0.6666666666666666,\"#ed7953\"],[0.7777777777777778,\"#fb9f3a\"],[0.8888888888888888,\"#fdca26\"],[1.0,\"#f0f921\"]],\"type\":\"histogram2d\"}],\"histogram\":[{\"marker\":{\"pattern\":{\"fillmode\":\"overlay\",\"size\":10,\"solidity\":0.2}},\"type\":\"histogram\"}],\"mesh3d\":[{\"colorbar\":{\"outlinewidth\":0,\"ticks\":\"\"},\"type\":\"mesh3d\"}],\"parcoords\":[{\"line\":{\"colorbar\":{\"outlinewidth\":0,\"ticks\":\"\"}},\"type\":\"parcoords\"}],\"pie\":[{\"automargin\":true,\"type\":\"pie\"}],\"scatter3d\":[{\"line\":{\"colorbar\":{\"outlinewidth\":0,\"ticks\":\"\"}},\"marker\":{\"colorbar\":{\"outlinewidth\":0,\"ticks\":\"\"}},\"type\":\"scatter3d\"}],\"scattercarpet\":[{\"marker\":{\"colorbar\":{\"outlinewidth\":0,\"ticks\":\"\"}},\"type\":\"scattercarpet\"}],\"scattergeo\":[{\"marker\":{\"colorbar\":{\"outlinewidth\":0,\"ticks\":\"\"}},\"type\":\"scattergeo\"}],\"scattergl\":[{\"marker\":{\"colorbar\":{\"outlinewidth\":0,\"ticks\":\"\"}},\"type\":\"scattergl\"}],\"scattermapbox\":[{\"marker\":{\"colorbar\":{\"outlinewidth\":0,\"ticks\":\"\"}},\"type\":\"scattermapbox\"}],\"scatterpolargl\":[{\"marker\":{\"colorbar\":{\"outlinewidth\":0,\"ticks\":\"\"}},\"type\":\"scatterpolargl\"}],\"scatterpolar\":[{\"marker\":{\"colorbar\":{\"outlinewidth\":0,\"ticks\":\"\"}},\"type\":\"scatterpolar\"}],\"scatter\":[{\"fillpattern\":{\"fillmode\":\"overlay\",\"size\":10,\"solidity\":0.2},\"type\":\"scatter\"}],\"scatterternary\":[{\"marker\":{\"colorbar\":{\"outlinewidth\":0,\"ticks\":\"\"}},\"type\":\"scatterternary\"}],\"surface\":[{\"colorbar\":{\"outlinewidth\":0,\"ticks\":\"\"},\"colorscale\":[[0.0,\"#0d0887\"],[0.1111111111111111,\"#46039f\"],[0.2222222222222222,\"#7201a8\"],[0.3333333333333333,\"#9c179e\"],[0.4444444444444444,\"#bd3786\"],[0.5555555555555556,\"#d8576b\"],[0.6666666666666666,\"#ed7953\"],[0.7777777777777778,\"#fb9f3a\"],[0.8888888888888888,\"#fdca26\"],[1.0,\"#f0f921\"]],\"type\":\"surface\"}],\"table\":[{\"cells\":{\"fill\":{\"color\":\"#EBF0F8\"},\"line\":{\"color\":\"white\"}},\"header\":{\"fill\":{\"color\":\"#C8D4E3\"},\"line\":{\"color\":\"white\"}},\"type\":\"table\"}]},\"layout\":{\"annotationdefaults\":{\"arrowcolor\":\"#2a3f5f\",\"arrowhead\":0,\"arrowwidth\":1},\"autotypenumbers\":\"strict\",\"coloraxis\":{\"colorbar\":{\"outlinewidth\":0,\"ticks\":\"\"}},\"colorscale\":{\"diverging\":[[0,\"#8e0152\"],[0.1,\"#c51b7d\"],[0.2,\"#de77ae\"],[0.3,\"#f1b6da\"],[0.4,\"#fde0ef\"],[0.5,\"#f7f7f7\"],[0.6,\"#e6f5d0\"],[0.7,\"#b8e186\"],[0.8,\"#7fbc41\"],[0.9,\"#4d9221\"],[1,\"#276419\"]],\"sequential\":[[0.0,\"#0d0887\"],[0.1111111111111111,\"#46039f\"],[0.2222222222222222,\"#7201a8\"],[0.3333333333333333,\"#9c179e\"],[0.4444444444444444,\"#bd3786\"],[0.5555555555555556,\"#d8576b\"],[0.6666666666666666,\"#ed7953\"],[0.7777777777777778,\"#fb9f3a\"],[0.8888888888888888,\"#fdca26\"],[1.0,\"#f0f921\"]],\"sequentialminus\":[[0.0,\"#0d0887\"],[0.1111111111111111,\"#46039f\"],[0.2222222222222222,\"#7201a8\"],[0.3333333333333333,\"#9c179e\"],[0.4444444444444444,\"#bd3786\"],[0.5555555555555556,\"#d8576b\"],[0.6666666666666666,\"#ed7953\"],[0.7777777777777778,\"#fb9f3a\"],[0.8888888888888888,\"#fdca26\"],[1.0,\"#f0f921\"]]},\"colorway\":[\"#636efa\",\"#EF553B\",\"#00cc96\",\"#ab63fa\",\"#FFA15A\",\"#19d3f3\",\"#FF6692\",\"#B6E880\",\"#FF97FF\",\"#FECB52\"],\"font\":{\"color\":\"#2a3f5f\"},\"geo\":{\"bgcolor\":\"white\",\"lakecolor\":\"white\",\"landcolor\":\"#E5ECF6\",\"showlakes\":true,\"showland\":true,\"subunitcolor\":\"white\"},\"hoverlabel\":{\"align\":\"left\"},\"hovermode\":\"closest\",\"mapbox\":{\"style\":\"light\"},\"paper_bgcolor\":\"white\",\"plot_bgcolor\":\"#E5ECF6\",\"polar\":{\"angularaxis\":{\"gridcolor\":\"white\",\"linecolor\":\"white\",\"ticks\":\"\"},\"bgcolor\":\"#E5ECF6\",\"radialaxis\":{\"gridcolor\":\"white\",\"linecolor\":\"white\",\"ticks\":\"\"}},\"scene\":{\"xaxis\":{\"backgroundcolor\":\"#E5ECF6\",\"gridcolor\":\"white\",\"gridwidth\":2,\"linecolor\":\"white\",\"showbackground\":true,\"ticks\":\"\",\"zerolinecolor\":\"white\"},\"yaxis\":{\"backgroundcolor\":\"#E5ECF6\",\"gridcolor\":\"white\",\"gridwidth\":2,\"linecolor\":\"white\",\"showbackground\":true,\"ticks\":\"\",\"zerolinecolor\":\"white\"},\"zaxis\":{\"backgroundcolor\":\"#E5ECF6\",\"gridcolor\":\"white\",\"gridwidth\":2,\"linecolor\":\"white\",\"showbackground\":true,\"ticks\":\"\",\"zerolinecolor\":\"white\"}},\"shapedefaults\":{\"line\":{\"color\":\"#2a3f5f\"}},\"ternary\":{\"aaxis\":{\"gridcolor\":\"white\",\"linecolor\":\"white\",\"ticks\":\"\"},\"baxis\":{\"gridcolor\":\"white\",\"linecolor\":\"white\",\"ticks\":\"\"},\"bgcolor\":\"#E5ECF6\",\"caxis\":{\"gridcolor\":\"white\",\"linecolor\":\"white\",\"ticks\":\"\"}},\"title\":{\"x\":0.05},\"xaxis\":{\"automargin\":true,\"gridcolor\":\"white\",\"linecolor\":\"white\",\"ticks\":\"\",\"title\":{\"standoff\":15},\"zerolinecolor\":\"white\",\"zerolinewidth\":2},\"yaxis\":{\"automargin\":true,\"gridcolor\":\"white\",\"linecolor\":\"white\",\"ticks\":\"\",\"title\":{\"standoff\":15},\"zerolinecolor\":\"white\",\"zerolinewidth\":2}}},\"title\":{\"text\":\"GANTT Chart\"},\"xaxis\":{\"range\":[\"1970-01-01T01:11:12\",\"1970-01-01T15:40:52\"],\"title\":{\"font\":{\"color\":\"#7f7f7f\",\"family\":\"Courier New, monospace\",\"size\":18},\"text\":\"Time\"}},\"yaxis\":{\"title\":{\"font\":{\"color\":\"#7f7f7f\",\"family\":\"Courier New, monospace\",\"size\":18},\"text\":\"Activities\"}}},                        {\"responsive\": true}                    ).then(function(){\n",
       "                            \n",
       "var gd = document.getElementById('025f7f3d-48bb-404d-b90a-323f13d777bc');\n",
       "var x = new MutationObserver(function (mutations, observer) {{\n",
       "        var display = window.getComputedStyle(gd).display;\n",
       "        if (!display || display === 'none') {{\n",
       "            console.log([gd, 'removed!']);\n",
       "            Plotly.purge(gd);\n",
       "            observer.disconnect();\n",
       "        }}\n",
       "}});\n",
       "\n",
       "// Listen for the removal of the full notebook cells\n",
       "var notebookContainer = gd.closest('#notebook-container');\n",
       "if (notebookContainer) {{\n",
       "    x.observe(notebookContainer, {childList: true});\n",
       "}}\n",
       "\n",
       "// Listen for the clearing of the current output cell\n",
       "var outputEl = gd.closest('.output');\n",
       "if (outputEl) {{\n",
       "    x.observe(outputEl, {childList: true});\n",
       "}}\n",
       "\n",
       "                        })                };                });            </script>        </div>"
      ]
     },
     "metadata": {},
     "output_type": "display_data"
    }
   ],
   "source": [
    "def expand(a, namespace):\n",
    "    n = len(namespace)\n",
    "    sa = []\n",
    "    if a.name[0:n]==namespace:\n",
    "        sa.append(a)\n",
    "    if hasattr(a, \"sub_processes\"):\n",
    "        for s in a.sub_processes:\n",
    "            if s.name[0:n]==namespace:\n",
    "                sa.append(s)\n",
    "            sa+=expand(s,namespace)\n",
    "    return sa\n",
    "all_activities = []\n",
    "for a in [*activities]:\n",
    "    all_activities+=expand(activities[a],'load')\n",
    "all_activities\n",
    "fig = plot.get_gantt_chart(all_activities)"
   ]
  },
  {
   "cell_type": "code",
   "execution_count": 9,
   "id": "283667b8",
   "metadata": {},
   "outputs": [
    {
     "data": {
      "image/png": "[encoded data removed]",
      "text/plain": [
       "<Figure size 1400x700 with 1 Axes>"
      ]
     },
     "metadata": {},
     "output_type": "display_data"
    }
   ],
   "source": [
    "fig = plot.get_step_chart([from_site, to_site, *vessels.values()])"
   ]
  },
  {
   "cell_type": "code",
   "execution_count": 10,
   "id": "a7def889",
   "metadata": {},
   "outputs": [
    {
     "name": "stdout",
     "output_type": "stream",
     "text": [
      "Occupancy \"Cutter T\": 99.7\n"
     ]
    },
    {
     "data": {
      "text/html": [
       "<div>\n",
       "<style scoped>\n",
       "    .dataframe tbody tr th:only-of-type {\n",
       "        vertical-align: middle;\n",
       "    }\n",
       "\n",
       "    .dataframe tbody tr th {\n",
       "        vertical-align: top;\n",
       "    }\n",
       "\n",
       "    .dataframe thead th {\n",
       "        text-align: right;\n",
       "    }\n",
       "</style>\n",
       "<table border=\"1\" class=\"dataframe\">\n",
       "  <thead>\n",
       "    <tr style=\"text-align: right;\">\n",
       "      <th></th>\n",
       "      <th># trips</th>\n",
       "      <th>production actual</th>\n",
       "      <th>production theory</th>\n",
       "      <th>occupancy [%]</th>\n",
       "    </tr>\n",
       "    <tr>\n",
       "      <th>name</th>\n",
       "      <th></th>\n",
       "      <th></th>\n",
       "      <th></th>\n",
       "      <th></th>\n",
       "    </tr>\n",
       "  </thead>\n",
       "  <tbody>\n",
       "    <tr>\n",
       "      <th>Cutter T</th>\n",
       "      <td>23</td>\n",
       "      <td>0.001916</td>\n",
       "      <td>0.001923</td>\n",
       "      <td>99.7</td>\n",
       "    </tr>\n",
       "    <tr>\n",
       "      <th>Carrier C</th>\n",
       "      <td>5</td>\n",
       "      <td>0.000412</td>\n",
       "      <td>0.000453</td>\n",
       "      <td>90.9</td>\n",
       "    </tr>\n",
       "    <tr>\n",
       "      <th>Barge III</th>\n",
       "      <td>4</td>\n",
       "      <td>0.000341</td>\n",
       "      <td>0.000420</td>\n",
       "      <td>81.2</td>\n",
       "    </tr>\n",
       "    <tr>\n",
       "      <th>Carrier B</th>\n",
       "      <td>4</td>\n",
       "      <td>0.000311</td>\n",
       "      <td>0.000362</td>\n",
       "      <td>85.8</td>\n",
       "    </tr>\n",
       "    <tr>\n",
       "      <th>Barge I</th>\n",
       "      <td>4</td>\n",
       "      <td>0.000285</td>\n",
       "      <td>0.000354</td>\n",
       "      <td>80.5</td>\n",
       "    </tr>\n",
       "    <tr>\n",
       "      <th>Carrier A</th>\n",
       "      <td>3</td>\n",
       "      <td>0.000271</td>\n",
       "      <td>0.000347</td>\n",
       "      <td>78.1</td>\n",
       "    </tr>\n",
       "    <tr>\n",
       "      <th>Barge II</th>\n",
       "      <td>3</td>\n",
       "      <td>0.000237</td>\n",
       "      <td>0.000293</td>\n",
       "      <td>80.7</td>\n",
       "    </tr>\n",
       "  </tbody>\n",
       "</table>\n",
       "</div>"
      ],
      "text/plain": [
       "           # trips  production actual  production theory  occupancy [%]\n",
       "name                                                                   \n",
       "Cutter T        23           0.001916           0.001923           99.7\n",
       "Carrier C        5           0.000412           0.000453           90.9\n",
       "Barge III        4           0.000341           0.000420           81.2\n",
       "Carrier B        4           0.000311           0.000362           85.8\n",
       "Barge I          4           0.000285           0.000354           80.5\n",
       "Carrier A        3           0.000271           0.000347           78.1\n",
       "Barge II         3           0.000237           0.000293           80.7"
      ]
     },
     "execution_count": 10,
     "metadata": {},
     "output_type": "execute_result"
    }
   ],
   "source": [
    "def occupancy_analysis(vessels, cutter, activities):\n",
    "    data = []\n",
    "    duration_theory_cutter = 0\n",
    "    nr_trips_cutter = 0\n",
    "\n",
    "    # barges\n",
    "    for i, vessel_name in enumerate(vessels):\n",
    "        if vessel_name!=cutter_name:\n",
    "            vessel = vessels[vessel_name]\n",
    "            activity = activities[f'activity{i}']\n",
    "\n",
    "            log = pd.DataFrame(vessel.log)\n",
    "            sub_act = activity.sub_processes[0].sub_processes[-1] # last phase of SequentialActivity ..\n",
    "            nr_trips = len(log[(log.ActivityID == sub_act.id) & (log.ActivityState == \"STOP\")]) # .. ended\n",
    "            nr_trips_cutter += nr_trips\n",
    "\n",
    "            duration_theory = 0\n",
    "            for sub_act in activity.sub_processes[0].sub_processes:\n",
    "                duration_theory+=sub_act.duration\n",
    "                if hasattr(sub_act,'processor'):\n",
    "                    if sub_act.processor.name==cutter_name:\n",
    "                        duration_theory_cutter += sub_act.duration*nr_trips\n",
    "\n",
    "            duration_actual = (log.Timestamp.max() - log.Timestamp.min()).total_seconds()\n",
    "            data.append({\n",
    "                'name':vessel.name, \n",
    "                '# trips':nr_trips, \n",
    "                'production actual':(nr_trips * sub_act.amount) / (duration_actual),\n",
    "                'production theory': (sub_act.amount / (duration_theory)),\n",
    "            })\n",
    "\n",
    "    # cutter\n",
    "    log = pd.DataFrame(cutter.log)\n",
    "    duration_actual_cutter = (log.Timestamp.max() - log.Timestamp.min()).total_seconds()\n",
    "    data.append({\n",
    "        'name':cutter_name, \n",
    "        '# trips':nr_trips_cutter, \n",
    "        'production actual':(total_amount) / (duration_actual_cutter),\n",
    "        'production theory':(total_amount) / (duration_theory_cutter),\n",
    "    })\n",
    "\n",
    "    df = pd.DataFrame(data).sort_values(by=['production actual'],ascending=False)\n",
    "    df['occupancy [%]'] = [round(x,1) for x in 100*df['production actual']/df['production theory']]\n",
    "    df.set_index('name', inplace=True)\n",
    "    \n",
    "    print(f'Occupancy \"{cutter_name}\":',df.loc[cutter_name]['occupancy [%]'])\n",
    "    \n",
    "    return df\n",
    "df = occupancy_analysis(vessels, cutter, activities)\n",
    "df"
   ]
  },
  {
   "cell_type": "code",
   "execution_count": 11,
   "id": "83973b0c",
   "metadata": {},
   "outputs": [
    {
     "name": "stdout",
     "output_type": "stream",
     "text": [
      "Occupancy \"Cutter T\": 20.6\n",
      "Occupancy \"Cutter T\": 41.7\n",
      "Occupancy \"Cutter T\": 56.1\n",
      "Occupancy \"Cutter T\": 73.9\n",
      "Occupancy \"Cutter T\": 81.1\n",
      "Occupancy \"Cutter T\": 100.0\n"
     ]
    }
   ],
   "source": [
    "for i in range(1,len(barge_names)+1): # at least 1 barge\n",
    "    res = run(i,total_amount)\n",
    "    vessels = res['vessels']\n",
    "    activities = res['activities']\n",
    "    cutter = vessels[cutter_name]\n",
    "    to_site = res[to_site_name]\n",
    "    from_site = res[from_site_name]\n",
    "    df = occupancy_analysis(vessels, cutter, activities)"
   ]
  },
  {
   "cell_type": "code",
   "execution_count": null,
   "id": "943c278c",
   "metadata": {},
   "outputs": [],
   "source": []
  }
 ],
 "metadata": {
  "kernelspec": {
   "display_name": "Python 3 (ipykernel)",
   "language": "python",
   "name": "python3"
  },
  "language_info": {
   "codemirror_mode": {
    "name": "ipython",
    "version": 3
   },
   "file_extension": ".py",
   "mimetype": "text/x-python",
   "name": "python",
   "nbconvert_exporter": "python",
   "pygments_lexer": "ipython3",
   "version": "3.9.16"
  }
 },
 "nbformat": 4,
 "nbformat_minor": 5
}
