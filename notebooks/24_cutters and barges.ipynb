{
 "cells": [
  {
   "cell_type": "markdown",
   "id": "384a3d39",
   "metadata": {},
   "source": [
    "## feeder concept: cutter + barges\n",
    "\n",
    "This notebook shows how to implement a basic feeder concept for a cutter suction dredge working with multiple barges."
   ]
  },
  {
   "cell_type": "code",
   "execution_count": 1,
   "id": "b6580ad4",
   "metadata": {},
   "outputs": [],
   "source": [
    "import datetime, time\n",
    "import simpy\n",
    "\n",
    "import shapely.geometry\n",
    "import pandas as pd\n",
    "\n",
    "import openclsim.core as core\n",
    "import openclsim.model as model\n",
    "import openclsim.plot as plot\n",
    "import numpy as np"
   ]
  },
  {
   "cell_type": "code",
   "execution_count": 2,
   "id": "102a1c18",
   "metadata": {},
   "outputs": [],
   "source": [
    "Site = type(\n",
    "    \"Site\",\n",
    "    (\n",
    "        core.Identifiable,\n",
    "        core.Log,\n",
    "        core.Locatable,\n",
    "        core.HasContainer,\n",
    "        core.HasResource,\n",
    "    ),\n",
    "    {},\n",
    ")\n",
    "TransportProcessingResource = type(\n",
    "    \"TransportProcessingResource\",\n",
    "    (\n",
    "        core.Identifiable,\n",
    "        core.Log,\n",
    "        core.ContainerDependentMovable,\n",
    "        core.Processor,\n",
    "        core.HasResource,\n",
    "    ),\n",
    "    {},\n",
    ")"
   ]
  },
  {
   "cell_type": "code",
   "execution_count": 3,
   "id": "cef14598",
   "metadata": {},
   "outputs": [],
   "source": [
    "def run(NR_BARGES, total_amount):\n",
    "    simulation_start = 0\n",
    "    my_env = simpy.Environment(initial_time=simulation_start)\n",
    "    registry = {}\n",
    "\n",
    "    location_from_site = shapely.geometry.Point(4.18055556, 52.18664444)\n",
    "    location_to_site = shapely.geometry.Point(4.25222222, 52.11428333)\n",
    "\n",
    "    data_from_site = {\"env\": my_env,\n",
    "                      \"name\": \"from_site\",\n",
    "                      \"geometry\": location_from_site,\n",
    "                      \"capacity\": total_amount,\n",
    "                      \"level\": total_amount,\n",
    "                      \"nr_resources\":1\n",
    "                     }\n",
    "    from_site = Site(**data_from_site)\n",
    "\n",
    "    location_to_site = shapely.geometry.Point(4.25222222, 52.11428333)\n",
    "    data_to_site = {\"env\": my_env,\n",
    "                    \"name\": \"to_site\",\n",
    "                    \"geometry\": location_to_site,\n",
    "                    \"capacity\": total_amount,\n",
    "                    \"level\": 0,\n",
    "                    \"nr_resources\":4\n",
    "                   }\n",
    "    to_site = Site(**data_to_site)\n",
    "\n",
    "    vessels = {}\n",
    "\n",
    "    for i in range(NR_BARGES):\n",
    "        vessels[f\"vessel{i}\"] = TransportProcessingResource(\n",
    "            env=my_env,\n",
    "            name=f\"barge_{i}\",\n",
    "            geometry=location_from_site, \n",
    "            capacity=10,\n",
    "            compute_v=lambda x: 10\n",
    "        )\n",
    "    cutter = TransportProcessingResource(\n",
    "        env=my_env,\n",
    "        name=f\"cutter\",\n",
    "        geometry=location_from_site, \n",
    "        capacity=10,\n",
    "        compute_v=lambda x: 10\n",
    "    )\n",
    "    vessels['cutter'] = cutter\n",
    "    \n",
    "\n",
    "    activities = {}\n",
    "    for i in range(NR_BARGES):\n",
    "        amount = np.random.randint(4,6) # handle loading\n",
    "        duration=np.random.randint(2000,3000) # sailing and unloading\n",
    "\n",
    "        requested_resources={}\n",
    "        activities[f\"activity{i}\"] = model.WhileActivity(\n",
    "            env=my_env,\n",
    "            name=f\"while_sequential_activity_subcycle{i}\",\n",
    "            registry=registry,\n",
    "            sub_processes=[model.SequentialActivity(\n",
    "                env=my_env,\n",
    "                name=f\"sequential_activity_subcycle{i}\",\n",
    "                registry=registry,\n",
    "                sub_processes=[\n",
    "                    model.BasicActivity(\n",
    "                        env=my_env,\n",
    "                        name=f\"basic activity:\"+vessels[f\"vessel{i}\"].name,\n",
    "                        registry=registry,\n",
    "                        duration=duration,\n",
    "                        additional_logs=[vessels[f\"vessel{i}\"]],\n",
    "                    ),\n",
    "                    model.MoveActivity(\n",
    "                        env=my_env,\n",
    "                        name=f\"sailing empty:\"+vessels[f\"vessel{i}\"].name,\n",
    "                        registry=registry,\n",
    "                        mover=vessels[f\"vessel{i}\"],\n",
    "                        destination=from_site,\n",
    "                        duration=duration,\n",
    "                    ),\n",
    "                    model.ShiftAmountActivity(\n",
    "                        env=my_env,\n",
    "                        name=f\"loading:\"+vessels[f\"vessel{i}\"].name,\n",
    "                        registry=registry,\n",
    "                        processor=cutter,\n",
    "                        origin=from_site,\n",
    "                        destination=vessels[f\"vessel{i}\"],\n",
    "                        amount=amount,\n",
    "                        duration=500*amount,\n",
    "                        requested_resources=requested_resources,\n",
    "                    ),\n",
    "                    model.MoveActivity(\n",
    "                        env=my_env,\n",
    "                        name=f\"sailing full:\"+vessels[f\"vessel{i}\"].name,\n",
    "                        registry=registry,\n",
    "                        mover=vessels[f\"vessel{i}\"],\n",
    "                        destination=to_site,\n",
    "                        duration=duration,\n",
    "                    ),\n",
    "                    model.ShiftAmountActivity(\n",
    "                        env=my_env,\n",
    "                        name=f\"unloading:\"+vessels[f\"vessel{i}\"].name,\n",
    "                        registry=registry,\n",
    "                        processor=vessels[f\"vessel{i}\"],\n",
    "                        origin=vessels[f\"vessel{i}\"],\n",
    "                        destination=to_site,\n",
    "                        amount=amount,\n",
    "                        duration=duration,\n",
    "                        requested_resources=requested_resources,\n",
    "                    ),\n",
    "                ],\n",
    "            )],\n",
    "            condition_event=[\n",
    "                {\n",
    "                    \"type\": \"container\", \n",
    "                    \"concept\": to_site, \n",
    "                    \"state\": \"full\",\n",
    "                    \"id_\":\"default_reservations\"\n",
    "                }\n",
    "            ],\n",
    "        )\n",
    "\n",
    "    model.register_processes(list(activities.values()))\n",
    "    my_env.run()\n",
    "    \n",
    "    return {\n",
    "        \"vessels\": vessels,\n",
    "        \"activities\":activities,\n",
    "        \"from_site\":from_site,\n",
    "        \"to_site\":to_site,\n",
    "    }\n"
   ]
  },
  {
   "cell_type": "code",
   "execution_count": 15,
   "id": "9aa8b351",
   "metadata": {},
   "outputs": [
    {
     "name": "stdout",
     "output_type": "stream",
     "text": [
      "CPU times: user 99.4 ms, sys: 3.23 ms, total: 103 ms\n",
      "Wall time: 97.8 ms\n"
     ]
    }
   ],
   "source": [
    "%%time\n",
    "nbarges = 6\n",
    "total_amount = 100\n",
    "res = run(nbarges,total_amount)\n",
    "vessels = res['vessels']\n",
    "activities = res['activities']\n",
    "cutter = vessels['cutter']\n",
    "to_site = res['to_site']\n",
    "from_site = res['from_site']"
   ]
  },
  {
   "cell_type": "code",
   "execution_count": 16,
   "id": "8f993fc6",
   "metadata": {},
   "outputs": [
    {
     "data": {
      "text/html": [
       "        <script type=\"text/javascript\">\n",
       "        window.PlotlyConfig = {MathJaxConfig: 'local'};\n",
       "        if (window.MathJax && window.MathJax.Hub && window.MathJax.Hub.Config) {window.MathJax.Hub.Config({SVG: {font: \"STIX-Web\"}});}\n",
       "        if (typeof require !== 'undefined') {\n",
       "        require.undef(\"plotly\");\n",
       "        requirejs.config({\n",
       "            paths: {\n",
       "                'plotly': ['https://cdn.plot.ly/plotly-2.18.2.min']\n",
       "            }\n",
       "        });\n",
       "        require(['plotly'], function(Plotly) {\n",
       "            window._Plotly = Plotly;\n",
       "        });\n",
       "        }\n",
       "        </script>\n",
       "        "
      ]
     },
     "metadata": {},
     "output_type": "display_data"
    },
    {
     "data": {
      "application/vnd.plotly.v1+json": {
       "config": {
        "linkText": "Export to plot.ly",
        "plotlyServerURL": "https://plot.ly",
        "showLink": false
       },
       "data": [
        {
         "connectgaps": false,
         "hoverinfo": "y+name",
         "line": {
          "color": "rgb(41,252,150)",
          "width": 10
         },
         "mode": "lines",
         "name": "sailing empty:barge_0",
         "type": "scatter",
         "x": [
          "1970-01-01T00:37:05",
          "1970-01-01T00:37:05",
          "1970-01-01T01:14:10",
          "1970-01-01T01:14:10",
          "1970-01-01T01:14:10",
          "1970-01-01T03:47:05",
          "1970-01-01T03:47:05",
          "1970-01-01T04:24:10",
          "1970-01-01T04:24:10",
          "1970-01-01T04:24:10",
          "1970-01-01T07:40:25",
          "1970-01-01T07:40:25",
          "1970-01-01T08:17:30",
          "1970-01-01T08:17:30",
          "1970-01-01T08:17:30",
          "1970-01-01T10:53:49",
          "1970-01-01T10:53:49",
          "1970-01-01T11:30:54",
          "1970-01-01T11:30:54",
          "1970-01-01T11:30:54"
         ],
         "y": [
          "barge_0",
          "barge_0",
          "barge_0",
          "barge_0",
          null,
          "barge_0",
          "barge_0",
          "barge_0",
          "barge_0",
          null,
          "barge_0",
          "barge_0",
          "barge_0",
          "barge_0",
          null,
          "barge_0",
          "barge_0",
          "barge_0",
          "barge_0",
          null
         ]
        },
        {
         "connectgaps": false,
         "hoverinfo": "y+name",
         "line": {
          "color": "rgb(48,3,157)",
          "width": 10
         },
         "mode": "lines",
         "name": "unloading:barge_0",
         "type": "scatter",
         "x": [
          "1970-01-01T02:32:55",
          "1970-01-01T02:32:55",
          "1970-01-01T03:10:00",
          "1970-01-01T03:10:00",
          "1970-01-01T03:10:00",
          "1970-01-01T06:26:15",
          "1970-01-01T06:26:15",
          "1970-01-01T07:03:20",
          "1970-01-01T07:03:20",
          "1970-01-01T07:03:20",
          "1970-01-01T09:39:39",
          "1970-01-01T09:39:39",
          "1970-01-01T10:16:44",
          "1970-01-01T10:16:44",
          "1970-01-01T10:16:44",
          "1970-01-01T12:51:19",
          "1970-01-01T12:51:19",
          "1970-01-01T13:28:24",
          "1970-01-01T13:28:24",
          "1970-01-01T13:28:24"
         ],
         "y": [
          "barge_0",
          "barge_0",
          "barge_0",
          "barge_0",
          null,
          "barge_0",
          "barge_0",
          "barge_0",
          "barge_0",
          null,
          "barge_0",
          "barge_0",
          "barge_0",
          "barge_0",
          null,
          "barge_0",
          "barge_0",
          "barge_0",
          "barge_0",
          null
         ]
        },
        {
         "connectgaps": false,
         "hoverinfo": "y+name",
         "line": {
          "color": "rgb(55,10,164)",
          "width": 10
         },
         "mode": "lines",
         "name": "sailing full:barge_0",
         "type": "scatter",
         "x": [
          "1970-01-01T01:55:50",
          "1970-01-01T01:55:50",
          "1970-01-01T02:32:55",
          "1970-01-01T02:32:55",
          "1970-01-01T02:32:55",
          "1970-01-01T05:49:10",
          "1970-01-01T05:49:10",
          "1970-01-01T06:26:15",
          "1970-01-01T06:26:15",
          "1970-01-01T06:26:15",
          "1970-01-01T09:02:34",
          "1970-01-01T09:02:34",
          "1970-01-01T09:39:39",
          "1970-01-01T09:39:39",
          "1970-01-01T09:39:39",
          "1970-01-01T12:14:14",
          "1970-01-01T12:14:14",
          "1970-01-01T12:51:19",
          "1970-01-01T12:51:19",
          "1970-01-01T12:51:19"
         ],
         "y": [
          "barge_0",
          "barge_0",
          "barge_0",
          "barge_0",
          null,
          "barge_0",
          "barge_0",
          "barge_0",
          "barge_0",
          null,
          "barge_0",
          "barge_0",
          "barge_0",
          "barge_0",
          null,
          "barge_0",
          "barge_0",
          "barge_0",
          "barge_0",
          null
         ]
        },
        {
         "connectgaps": false,
         "hoverinfo": "y+name",
         "line": {
          "color": "rgb(62,17,171)",
          "width": 10
         },
         "mode": "lines",
         "name": "loading:barge_0",
         "type": "scatter",
         "x": [
          "1970-01-01T01:14:10",
          "1970-01-01T01:14:10",
          "1970-01-01T01:55:50",
          "1970-01-01T01:55:50",
          "1970-01-01T01:55:50",
          "1970-01-01T05:07:30",
          "1970-01-01T05:07:30",
          "1970-01-01T05:49:10",
          "1970-01-01T05:49:10",
          "1970-01-01T05:49:10",
          "1970-01-01T08:20:54",
          "1970-01-01T08:20:54",
          "1970-01-01T09:02:34",
          "1970-01-01T09:02:34",
          "1970-01-01T09:02:34",
          "1970-01-01T11:32:34",
          "1970-01-01T11:32:34",
          "1970-01-01T12:14:14",
          "1970-01-01T12:14:14",
          "1970-01-01T12:14:14",
          "1970-01-01T01:14:10",
          "1970-01-01T01:14:10",
          "1970-01-01T01:55:50",
          "1970-01-01T01:55:50",
          "1970-01-01T01:55:50",
          "1970-01-01T05:07:30",
          "1970-01-01T05:07:30",
          "1970-01-01T05:49:10",
          "1970-01-01T05:49:10",
          "1970-01-01T05:49:10",
          "1970-01-01T08:20:54",
          "1970-01-01T08:20:54",
          "1970-01-01T09:02:34",
          "1970-01-01T09:02:34",
          "1970-01-01T09:02:34",
          "1970-01-01T11:32:34",
          "1970-01-01T11:32:34",
          "1970-01-01T12:14:14",
          "1970-01-01T12:14:14",
          "1970-01-01T12:14:14"
         ],
         "y": [
          "barge_0",
          "barge_0",
          "barge_0",
          "barge_0",
          null,
          "barge_0",
          "barge_0",
          "barge_0",
          "barge_0",
          null,
          "barge_0",
          "barge_0",
          "barge_0",
          "barge_0",
          null,
          "barge_0",
          "barge_0",
          "barge_0",
          "barge_0",
          null,
          "cutter",
          "cutter",
          "cutter",
          "cutter",
          null,
          "cutter",
          "cutter",
          "cutter",
          "cutter",
          null,
          "cutter",
          "cutter",
          "cutter",
          "cutter",
          null,
          "cutter",
          "cutter",
          "cutter",
          "cutter",
          null
         ]
        },
        {
         "connectgaps": false,
         "hoverinfo": "y+name",
         "line": {
          "color": "rgb(69,24,178)",
          "width": 10
         },
         "mode": "lines",
         "name": "basic activity:barge_0",
         "type": "scatter",
         "x": [
          "1970-01-01T00:00:00",
          "1970-01-01T00:00:00",
          "1970-01-01T00:37:05",
          "1970-01-01T00:37:05",
          "1970-01-01T00:37:05",
          "1970-01-01T03:10:00",
          "1970-01-01T03:10:00",
          "1970-01-01T03:47:05",
          "1970-01-01T03:47:05",
          "1970-01-01T03:47:05",
          "1970-01-01T07:03:20",
          "1970-01-01T07:03:20",
          "1970-01-01T07:40:25",
          "1970-01-01T07:40:25",
          "1970-01-01T07:40:25",
          "1970-01-01T10:16:44",
          "1970-01-01T10:16:44",
          "1970-01-01T10:53:49",
          "1970-01-01T10:53:49",
          "1970-01-01T10:53:49"
         ],
         "y": [
          "barge_0",
          "barge_0",
          "barge_0",
          "barge_0",
          null,
          "barge_0",
          "barge_0",
          "barge_0",
          "barge_0",
          null,
          "barge_0",
          "barge_0",
          "barge_0",
          "barge_0",
          null,
          "barge_0",
          "barge_0",
          "barge_0",
          "barge_0",
          null
         ]
        },
        {
         "connectgaps": false,
         "hoverinfo": "y+name",
         "line": {
          "color": "rgb(76,31,185)",
          "width": 10
         },
         "mode": "lines",
         "name": "basic activity:barge_1",
         "type": "scatter",
         "x": [
          "1970-01-01T00:00:00",
          "1970-01-01T00:00:00",
          "1970-01-01T00:49:12",
          "1970-01-01T00:49:12",
          "1970-01-01T00:49:12",
          "1970-01-01T06:45:54",
          "1970-01-01T06:45:54",
          "1970-01-01T07:35:06",
          "1970-01-01T07:35:06",
          "1970-01-01T07:35:06",
          "1970-01-01T11:22:38",
          "1970-01-01T11:22:38",
          "1970-01-01T12:11:50",
          "1970-01-01T12:11:50",
          "1970-01-01T12:11:50"
         ],
         "y": [
          "barge_1",
          "barge_1",
          "barge_1",
          "barge_1",
          null,
          "barge_1",
          "barge_1",
          "barge_1",
          "barge_1",
          null,
          "barge_1",
          "barge_1",
          "barge_1",
          "barge_1",
          null
         ]
        },
        {
         "connectgaps": false,
         "hoverinfo": "y+name",
         "line": {
          "color": "rgb(83,38,192)",
          "width": 10
         },
         "mode": "lines",
         "name": "sailing full:barge_1",
         "type": "scatter",
         "x": [
          "1970-01-01T05:07:30",
          "1970-01-01T05:07:30",
          "1970-01-01T05:56:42",
          "1970-01-01T05:56:42",
          "1970-01-01T05:56:42",
          "1970-01-01T09:44:14",
          "1970-01-01T09:44:14",
          "1970-01-01T10:33:26",
          "1970-01-01T10:33:26",
          "1970-01-01T10:33:26",
          "1970-01-01T13:42:42",
          "1970-01-01T13:42:42",
          "1970-01-01T14:31:54",
          "1970-01-01T14:31:54",
          "1970-01-01T14:31:54"
         ],
         "y": [
          "barge_1",
          "barge_1",
          "barge_1",
          "barge_1",
          null,
          "barge_1",
          "barge_1",
          "barge_1",
          "barge_1",
          null,
          "barge_1",
          "barge_1",
          "barge_1",
          "barge_1",
          null
         ]
        },
        {
         "connectgaps": false,
         "hoverinfo": "y+name",
         "line": {
          "color": "rgb(90,45,199)",
          "width": 10
         },
         "mode": "lines",
         "name": "sailing empty:barge_1",
         "type": "scatter",
         "x": [
          "1970-01-01T00:49:12",
          "1970-01-01T00:49:12",
          "1970-01-01T01:38:24",
          "1970-01-01T01:38:24",
          "1970-01-01T01:38:24",
          "1970-01-01T07:35:06",
          "1970-01-01T07:35:06",
          "1970-01-01T08:24:18",
          "1970-01-01T08:24:18",
          "1970-01-01T08:24:18",
          "1970-01-01T12:11:50",
          "1970-01-01T12:11:50",
          "1970-01-01T13:01:02",
          "1970-01-01T13:01:02",
          "1970-01-01T13:01:02"
         ],
         "y": [
          "barge_1",
          "barge_1",
          "barge_1",
          "barge_1",
          null,
          "barge_1",
          "barge_1",
          "barge_1",
          "barge_1",
          null,
          "barge_1",
          "barge_1",
          "barge_1",
          "barge_1",
          null
         ]
        },
        {
         "connectgaps": false,
         "hoverinfo": "y+name",
         "line": {
          "color": "rgb(97,52,206)",
          "width": 10
         },
         "mode": "lines",
         "name": "unloading:barge_1",
         "type": "scatter",
         "x": [
          "1970-01-01T05:56:42",
          "1970-01-01T05:56:42",
          "1970-01-01T06:45:54",
          "1970-01-01T06:45:54",
          "1970-01-01T06:45:54",
          "1970-01-01T10:33:26",
          "1970-01-01T10:33:26",
          "1970-01-01T11:22:38",
          "1970-01-01T11:22:38",
          "1970-01-01T11:22:38",
          "1970-01-01T14:31:54",
          "1970-01-01T14:31:54",
          "1970-01-01T15:21:06",
          "1970-01-01T15:21:06",
          "1970-01-01T15:21:06"
         ],
         "y": [
          "barge_1",
          "barge_1",
          "barge_1",
          "barge_1",
          null,
          "barge_1",
          "barge_1",
          "barge_1",
          "barge_1",
          null,
          "barge_1",
          "barge_1",
          "barge_1",
          "barge_1",
          null
         ]
        },
        {
         "connectgaps": false,
         "hoverinfo": "y+name",
         "line": {
          "color": "rgb(104,59,213)",
          "width": 10
         },
         "mode": "lines",
         "name": "loading:barge_1",
         "type": "scatter",
         "x": [
          "1970-01-01T04:25:50",
          "1970-01-01T04:25:50",
          "1970-01-01T05:07:30",
          "1970-01-01T05:07:30",
          "1970-01-01T05:07:30",
          "1970-01-01T09:02:34",
          "1970-01-01T09:02:34",
          "1970-01-01T09:44:14",
          "1970-01-01T09:44:14",
          "1970-01-01T09:44:14",
          "1970-01-01T13:01:02",
          "1970-01-01T13:01:02",
          "1970-01-01T13:42:42",
          "1970-01-01T13:42:42",
          "1970-01-01T13:42:42",
          "1970-01-01T04:25:50",
          "1970-01-01T04:25:50",
          "1970-01-01T05:07:30",
          "1970-01-01T05:07:30",
          "1970-01-01T05:07:30",
          "1970-01-01T09:02:34",
          "1970-01-01T09:02:34",
          "1970-01-01T09:44:14",
          "1970-01-01T09:44:14",
          "1970-01-01T09:44:14",
          "1970-01-01T13:01:02",
          "1970-01-01T13:01:02",
          "1970-01-01T13:42:42",
          "1970-01-01T13:42:42",
          "1970-01-01T13:42:42"
         ],
         "y": [
          "barge_1",
          "barge_1",
          "barge_1",
          "barge_1",
          null,
          "barge_1",
          "barge_1",
          "barge_1",
          "barge_1",
          null,
          "barge_1",
          "barge_1",
          "barge_1",
          "barge_1",
          null,
          "cutter",
          "cutter",
          "cutter",
          "cutter",
          null,
          "cutter",
          "cutter",
          "cutter",
          "cutter",
          null,
          "cutter",
          "cutter",
          "cutter",
          "cutter",
          null
         ]
        },
        {
         "connectgaps": false,
         "hoverinfo": "y+name",
         "line": {
          "color": "rgb(111,66,220)",
          "width": 10
         },
         "mode": "lines",
         "name": "basic activity:barge_2",
         "type": "scatter",
         "x": [
          "1970-01-01T00:00:00",
          "1970-01-01T00:00:00",
          "1970-01-01T00:45:36",
          "1970-01-01T00:45:36",
          "1970-01-01T00:45:36",
          "1970-01-01T05:15:22",
          "1970-01-01T05:15:22",
          "1970-01-01T06:00:58",
          "1970-01-01T06:00:58",
          "1970-01-01T06:00:58",
          "1970-01-01T09:08:42",
          "1970-01-01T09:08:42",
          "1970-01-01T09:54:18",
          "1970-01-01T09:54:18",
          "1970-01-01T09:54:18",
          "1970-01-01T13:03:46",
          "1970-01-01T13:03:46",
          "1970-01-01T13:49:22",
          "1970-01-01T13:49:22",
          "1970-01-01T13:49:22"
         ],
         "y": [
          "barge_2",
          "barge_2",
          "barge_2",
          "barge_2",
          null,
          "barge_2",
          "barge_2",
          "barge_2",
          "barge_2",
          null,
          "barge_2",
          "barge_2",
          "barge_2",
          "barge_2",
          null,
          "barge_2",
          "barge_2",
          "barge_2",
          "barge_2",
          null
         ]
        },
        {
         "connectgaps": false,
         "hoverinfo": "y+name",
         "line": {
          "color": "rgb(118,73,227)",
          "width": 10
         },
         "mode": "lines",
         "name": "loading:barge_2",
         "type": "scatter",
         "x": [
          "1970-01-01T03:10:50",
          "1970-01-01T03:10:50",
          "1970-01-01T03:44:10",
          "1970-01-01T03:44:10",
          "1970-01-01T03:44:10",
          "1970-01-01T07:04:10",
          "1970-01-01T07:04:10",
          "1970-01-01T07:37:30",
          "1970-01-01T07:37:30",
          "1970-01-01T07:37:30",
          "1970-01-01T10:59:14",
          "1970-01-01T10:59:14",
          "1970-01-01T11:32:34",
          "1970-01-01T11:32:34",
          "1970-01-01T11:32:34",
          "1970-01-01T14:57:42",
          "1970-01-01T14:57:42",
          "1970-01-01T15:31:02",
          "1970-01-01T15:31:02",
          "1970-01-01T15:31:02",
          "1970-01-01T03:10:50",
          "1970-01-01T03:10:50",
          "1970-01-01T03:44:10",
          "1970-01-01T03:44:10",
          "1970-01-01T03:44:10",
          "1970-01-01T07:04:10",
          "1970-01-01T07:04:10",
          "1970-01-01T07:37:30",
          "1970-01-01T07:37:30",
          "1970-01-01T07:37:30",
          "1970-01-01T10:59:14",
          "1970-01-01T10:59:14",
          "1970-01-01T11:32:34",
          "1970-01-01T11:32:34",
          "1970-01-01T11:32:34",
          "1970-01-01T14:57:42",
          "1970-01-01T14:57:42",
          "1970-01-01T15:31:02",
          "1970-01-01T15:31:02",
          "1970-01-01T15:31:02"
         ],
         "y": [
          "barge_2",
          "barge_2",
          "barge_2",
          "barge_2",
          null,
          "barge_2",
          "barge_2",
          "barge_2",
          "barge_2",
          null,
          "barge_2",
          "barge_2",
          "barge_2",
          "barge_2",
          null,
          "barge_2",
          "barge_2",
          "barge_2",
          "barge_2",
          null,
          "cutter",
          "cutter",
          "cutter",
          "cutter",
          null,
          "cutter",
          "cutter",
          "cutter",
          "cutter",
          null,
          "cutter",
          "cutter",
          "cutter",
          "cutter",
          null,
          "cutter",
          "cutter",
          "cutter",
          "cutter",
          null
         ]
        },
        {
         "connectgaps": false,
         "hoverinfo": "y+name",
         "line": {
          "color": "rgb(125,80,234)",
          "width": 10
         },
         "mode": "lines",
         "name": "sailing empty:barge_2",
         "type": "scatter",
         "x": [
          "1970-01-01T00:45:36",
          "1970-01-01T00:45:36",
          "1970-01-01T01:31:12",
          "1970-01-01T01:31:12",
          "1970-01-01T01:31:12",
          "1970-01-01T06:00:58",
          "1970-01-01T06:00:58",
          "1970-01-01T06:46:34",
          "1970-01-01T06:46:34",
          "1970-01-01T06:46:34",
          "1970-01-01T09:54:18",
          "1970-01-01T09:54:18",
          "1970-01-01T10:39:54",
          "1970-01-01T10:39:54",
          "1970-01-01T10:39:54",
          "1970-01-01T13:49:22",
          "1970-01-01T13:49:22",
          "1970-01-01T14:34:58",
          "1970-01-01T14:34:58",
          "1970-01-01T14:34:58"
         ],
         "y": [
          "barge_2",
          "barge_2",
          "barge_2",
          "barge_2",
          null,
          "barge_2",
          "barge_2",
          "barge_2",
          "barge_2",
          null,
          "barge_2",
          "barge_2",
          "barge_2",
          "barge_2",
          null,
          "barge_2",
          "barge_2",
          "barge_2",
          "barge_2",
          null
         ]
        },
        {
         "connectgaps": false,
         "hoverinfo": "y+name",
         "line": {
          "color": "rgb(132,87,241)",
          "width": 10
         },
         "mode": "lines",
         "name": "sailing full:barge_2",
         "type": "scatter",
         "x": [
          "1970-01-01T03:44:10",
          "1970-01-01T03:44:10",
          "1970-01-01T04:29:46",
          "1970-01-01T04:29:46",
          "1970-01-01T04:29:46",
          "1970-01-01T07:37:30",
          "1970-01-01T07:37:30",
          "1970-01-01T08:23:06",
          "1970-01-01T08:23:06",
          "1970-01-01T08:23:06",
          "1970-01-01T11:32:34",
          "1970-01-01T11:32:34",
          "1970-01-01T12:18:10",
          "1970-01-01T12:18:10",
          "1970-01-01T12:18:10",
          "1970-01-01T15:31:02",
          "1970-01-01T15:31:02",
          "1970-01-01T16:16:38",
          "1970-01-01T16:16:38",
          "1970-01-01T16:16:38"
         ],
         "y": [
          "barge_2",
          "barge_2",
          "barge_2",
          "barge_2",
          null,
          "barge_2",
          "barge_2",
          "barge_2",
          "barge_2",
          null,
          "barge_2",
          "barge_2",
          "barge_2",
          "barge_2",
          null,
          "barge_2",
          "barge_2",
          "barge_2",
          "barge_2",
          null
         ]
        },
        {
         "connectgaps": false,
         "hoverinfo": "y+name",
         "line": {
          "color": "rgb(139,94,248)",
          "width": 10
         },
         "mode": "lines",
         "name": "unloading:barge_2",
         "type": "scatter",
         "x": [
          "1970-01-01T04:29:46",
          "1970-01-01T04:29:46",
          "1970-01-01T05:15:22",
          "1970-01-01T05:15:22",
          "1970-01-01T05:15:22",
          "1970-01-01T08:23:06",
          "1970-01-01T08:23:06",
          "1970-01-01T09:08:42",
          "1970-01-01T09:08:42",
          "1970-01-01T09:08:42",
          "1970-01-01T12:18:10",
          "1970-01-01T12:18:10",
          "1970-01-01T13:03:46",
          "1970-01-01T13:03:46",
          "1970-01-01T13:03:46",
          "1970-01-01T16:16:38",
          "1970-01-01T16:16:38",
          "1970-01-01T17:02:14",
          "1970-01-01T17:02:14",
          "1970-01-01T17:02:14"
         ],
         "y": [
          "barge_2",
          "barge_2",
          "barge_2",
          "barge_2",
          null,
          "barge_2",
          "barge_2",
          "barge_2",
          "barge_2",
          null,
          "barge_2",
          "barge_2",
          "barge_2",
          "barge_2",
          null,
          "barge_2",
          "barge_2",
          "barge_2",
          "barge_2",
          null
         ]
        },
        {
         "connectgaps": false,
         "hoverinfo": "y+name",
         "line": {
          "color": "rgb(146,101,255)",
          "width": 10
         },
         "mode": "lines",
         "name": "loading:barge_3",
         "type": "scatter",
         "x": [
          "1970-01-01T02:29:10",
          "1970-01-01T02:29:10",
          "1970-01-01T03:10:50",
          "1970-01-01T03:10:50",
          "1970-01-01T03:10:50",
          "1970-01-01T06:22:30",
          "1970-01-01T06:22:30",
          "1970-01-01T07:04:10",
          "1970-01-01T07:04:10",
          "1970-01-01T07:04:10",
          "1970-01-01T10:17:34",
          "1970-01-01T10:17:34",
          "1970-01-01T10:59:14",
          "1970-01-01T10:59:14",
          "1970-01-01T10:59:14",
          "1970-01-01T14:16:02",
          "1970-01-01T14:16:02",
          "1970-01-01T14:57:42",
          "1970-01-01T14:57:42",
          "1970-01-01T14:57:42",
          "1970-01-01T02:29:10",
          "1970-01-01T02:29:10",
          "1970-01-01T03:10:50",
          "1970-01-01T03:10:50",
          "1970-01-01T03:10:50",
          "1970-01-01T06:22:30",
          "1970-01-01T06:22:30",
          "1970-01-01T07:04:10",
          "1970-01-01T07:04:10",
          "1970-01-01T07:04:10",
          "1970-01-01T10:17:34",
          "1970-01-01T10:17:34",
          "1970-01-01T10:59:14",
          "1970-01-01T10:59:14",
          "1970-01-01T10:59:14",
          "1970-01-01T14:16:02",
          "1970-01-01T14:16:02",
          "1970-01-01T14:57:42",
          "1970-01-01T14:57:42",
          "1970-01-01T14:57:42"
         ],
         "y": [
          "barge_3",
          "barge_3",
          "barge_3",
          "barge_3",
          null,
          "barge_3",
          "barge_3",
          "barge_3",
          "barge_3",
          null,
          "barge_3",
          "barge_3",
          "barge_3",
          "barge_3",
          null,
          "barge_3",
          "barge_3",
          "barge_3",
          "barge_3",
          null,
          "cutter",
          "cutter",
          "cutter",
          "cutter",
          null,
          "cutter",
          "cutter",
          "cutter",
          "cutter",
          null,
          "cutter",
          "cutter",
          "cutter",
          "cutter",
          null,
          "cutter",
          "cutter",
          "cutter",
          "cutter",
          null
         ]
        },
        {
         "connectgaps": false,
         "hoverinfo": "y+name",
         "line": {
          "color": "rgb(153,108,6)",
          "width": 10
         },
         "mode": "lines",
         "name": "basic activity:barge_3",
         "type": "scatter",
         "x": [
          "1970-01-01T00:00:00",
          "1970-01-01T00:00:00",
          "1970-01-01T00:44:04",
          "1970-01-01T00:44:04",
          "1970-01-01T00:44:04",
          "1970-01-01T04:38:58",
          "1970-01-01T04:38:58",
          "1970-01-01T05:23:02",
          "1970-01-01T05:23:02",
          "1970-01-01T05:23:02",
          "1970-01-01T08:32:18",
          "1970-01-01T08:32:18",
          "1970-01-01T09:16:22",
          "1970-01-01T09:16:22",
          "1970-01-01T09:16:22",
          "1970-01-01T12:27:22",
          "1970-01-01T12:27:22",
          "1970-01-01T13:11:26",
          "1970-01-01T13:11:26",
          "1970-01-01T13:11:26"
         ],
         "y": [
          "barge_3",
          "barge_3",
          "barge_3",
          "barge_3",
          null,
          "barge_3",
          "barge_3",
          "barge_3",
          "barge_3",
          null,
          "barge_3",
          "barge_3",
          "barge_3",
          "barge_3",
          null,
          "barge_3",
          "barge_3",
          "barge_3",
          "barge_3",
          null
         ]
        },
        {
         "connectgaps": false,
         "hoverinfo": "y+name",
         "line": {
          "color": "rgb(160,115,13)",
          "width": 10
         },
         "mode": "lines",
         "name": "unloading:barge_3",
         "type": "scatter",
         "x": [
          "1970-01-01T03:54:54",
          "1970-01-01T03:54:54",
          "1970-01-01T04:38:58",
          "1970-01-01T04:38:58",
          "1970-01-01T04:38:58",
          "1970-01-01T07:48:14",
          "1970-01-01T07:48:14",
          "1970-01-01T08:32:18",
          "1970-01-01T08:32:18",
          "1970-01-01T08:32:18",
          "1970-01-01T11:43:18",
          "1970-01-01T11:43:18",
          "1970-01-01T12:27:22",
          "1970-01-01T12:27:22",
          "1970-01-01T12:27:22",
          "1970-01-01T15:41:46",
          "1970-01-01T15:41:46",
          "1970-01-01T16:25:50",
          "1970-01-01T16:25:50",
          "1970-01-01T16:25:50"
         ],
         "y": [
          "barge_3",
          "barge_3",
          "barge_3",
          "barge_3",
          null,
          "barge_3",
          "barge_3",
          "barge_3",
          "barge_3",
          null,
          "barge_3",
          "barge_3",
          "barge_3",
          "barge_3",
          null,
          "barge_3",
          "barge_3",
          "barge_3",
          "barge_3",
          null
         ]
        },
        {
         "connectgaps": false,
         "hoverinfo": "y+name",
         "line": {
          "color": "rgb(167,122,20)",
          "width": 10
         },
         "mode": "lines",
         "name": "sailing empty:barge_3",
         "type": "scatter",
         "x": [
          "1970-01-01T00:44:04",
          "1970-01-01T00:44:04",
          "1970-01-01T01:28:08",
          "1970-01-01T01:28:08",
          "1970-01-01T01:28:08",
          "1970-01-01T05:23:02",
          "1970-01-01T05:23:02",
          "1970-01-01T06:07:06",
          "1970-01-01T06:07:06",
          "1970-01-01T06:07:06",
          "1970-01-01T09:16:22",
          "1970-01-01T09:16:22",
          "1970-01-01T10:00:26",
          "1970-01-01T10:00:26",
          "1970-01-01T10:00:26",
          "1970-01-01T13:11:26",
          "1970-01-01T13:11:26",
          "1970-01-01T13:55:30",
          "1970-01-01T13:55:30",
          "1970-01-01T13:55:30"
         ],
         "y": [
          "barge_3",
          "barge_3",
          "barge_3",
          "barge_3",
          null,
          "barge_3",
          "barge_3",
          "barge_3",
          "barge_3",
          null,
          "barge_3",
          "barge_3",
          "barge_3",
          "barge_3",
          null,
          "barge_3",
          "barge_3",
          "barge_3",
          "barge_3",
          null
         ]
        },
        {
         "connectgaps": false,
         "hoverinfo": "y+name",
         "line": {
          "color": "rgb(174,129,27)",
          "width": 10
         },
         "mode": "lines",
         "name": "sailing full:barge_3",
         "type": "scatter",
         "x": [
          "1970-01-01T03:10:50",
          "1970-01-01T03:10:50",
          "1970-01-01T03:54:54",
          "1970-01-01T03:54:54",
          "1970-01-01T03:54:54",
          "1970-01-01T07:04:10",
          "1970-01-01T07:04:10",
          "1970-01-01T07:48:14",
          "1970-01-01T07:48:14",
          "1970-01-01T07:48:14",
          "1970-01-01T10:59:14",
          "1970-01-01T10:59:14",
          "1970-01-01T11:43:18",
          "1970-01-01T11:43:18",
          "1970-01-01T11:43:18",
          "1970-01-01T14:57:42",
          "1970-01-01T14:57:42",
          "1970-01-01T15:41:46",
          "1970-01-01T15:41:46",
          "1970-01-01T15:41:46"
         ],
         "y": [
          "barge_3",
          "barge_3",
          "barge_3",
          "barge_3",
          null,
          "barge_3",
          "barge_3",
          "barge_3",
          "barge_3",
          null,
          "barge_3",
          "barge_3",
          "barge_3",
          "barge_3",
          null,
          "barge_3",
          "barge_3",
          "barge_3",
          "barge_3",
          null
         ]
        },
        {
         "connectgaps": false,
         "hoverinfo": "y+name",
         "line": {
          "color": "rgb(181,136,34)",
          "width": 10
         },
         "mode": "lines",
         "name": "loading:barge_4",
         "type": "scatter",
         "x": [
          "1970-01-01T03:44:10",
          "1970-01-01T03:44:10",
          "1970-01-01T04:25:50",
          "1970-01-01T04:25:50",
          "1970-01-01T04:25:50",
          "1970-01-01T07:39:14",
          "1970-01-01T07:39:14",
          "1970-01-01T08:20:54",
          "1970-01-01T08:20:54",
          "1970-01-01T08:20:54",
          "1970-01-01T12:14:14",
          "1970-01-01T12:14:14",
          "1970-01-01T12:55:54",
          "1970-01-01T12:55:54",
          "1970-01-01T12:55:54",
          "1970-01-01T03:44:10",
          "1970-01-01T03:44:10",
          "1970-01-01T04:25:50",
          "1970-01-01T04:25:50",
          "1970-01-01T04:25:50",
          "1970-01-01T07:39:14",
          "1970-01-01T07:39:14",
          "1970-01-01T08:20:54",
          "1970-01-01T08:20:54",
          "1970-01-01T08:20:54",
          "1970-01-01T12:14:14",
          "1970-01-01T12:14:14",
          "1970-01-01T12:55:54",
          "1970-01-01T12:55:54",
          "1970-01-01T12:55:54"
         ],
         "y": [
          "barge_4",
          "barge_4",
          "barge_4",
          "barge_4",
          null,
          "barge_4",
          "barge_4",
          "barge_4",
          "barge_4",
          null,
          "barge_4",
          "barge_4",
          "barge_4",
          "barge_4",
          null,
          "cutter",
          "cutter",
          "cutter",
          "cutter",
          null,
          "cutter",
          "cutter",
          "cutter",
          "cutter",
          null,
          "cutter",
          "cutter",
          "cutter",
          "cutter",
          null
         ]
        },
        {
         "connectgaps": false,
         "hoverinfo": "y+name",
         "line": {
          "color": "rgb(188,143,41)",
          "width": 10
         },
         "mode": "lines",
         "name": "sailing full:barge_4",
         "type": "scatter",
         "x": [
          "1970-01-01T04:25:50",
          "1970-01-01T04:25:50",
          "1970-01-01T05:14:11",
          "1970-01-01T05:14:11",
          "1970-01-01T05:14:11",
          "1970-01-01T08:20:54",
          "1970-01-01T08:20:54",
          "1970-01-01T09:09:15",
          "1970-01-01T09:09:15",
          "1970-01-01T09:09:15",
          "1970-01-01T12:55:54",
          "1970-01-01T12:55:54",
          "1970-01-01T13:44:15",
          "1970-01-01T13:44:15",
          "1970-01-01T13:44:15"
         ],
         "y": [
          "barge_4",
          "barge_4",
          "barge_4",
          "barge_4",
          null,
          "barge_4",
          "barge_4",
          "barge_4",
          "barge_4",
          null,
          "barge_4",
          "barge_4",
          "barge_4",
          "barge_4",
          null
         ]
        },
        {
         "connectgaps": false,
         "hoverinfo": "y+name",
         "line": {
          "color": "rgb(195,150,48)",
          "width": 10
         },
         "mode": "lines",
         "name": "sailing empty:barge_4",
         "type": "scatter",
         "x": [
          "1970-01-01T00:48:21",
          "1970-01-01T00:48:21",
          "1970-01-01T01:36:42",
          "1970-01-01T01:36:42",
          "1970-01-01T01:36:42",
          "1970-01-01T06:50:53",
          "1970-01-01T06:50:53",
          "1970-01-01T07:39:14",
          "1970-01-01T07:39:14",
          "1970-01-01T07:39:14",
          "1970-01-01T10:45:57",
          "1970-01-01T10:45:57",
          "1970-01-01T11:34:18",
          "1970-01-01T11:34:18",
          "1970-01-01T11:34:18"
         ],
         "y": [
          "barge_4",
          "barge_4",
          "barge_4",
          "barge_4",
          null,
          "barge_4",
          "barge_4",
          "barge_4",
          "barge_4",
          null,
          "barge_4",
          "barge_4",
          "barge_4",
          "barge_4",
          null
         ]
        },
        {
         "connectgaps": false,
         "hoverinfo": "y+name",
         "line": {
          "color": "rgb(202,157,55)",
          "width": 10
         },
         "mode": "lines",
         "name": "unloading:barge_4",
         "type": "scatter",
         "x": [
          "1970-01-01T05:14:11",
          "1970-01-01T05:14:11",
          "1970-01-01T06:02:32",
          "1970-01-01T06:02:32",
          "1970-01-01T06:02:32",
          "1970-01-01T09:09:15",
          "1970-01-01T09:09:15",
          "1970-01-01T09:57:36",
          "1970-01-01T09:57:36",
          "1970-01-01T09:57:36",
          "1970-01-01T13:44:15",
          "1970-01-01T13:44:15",
          "1970-01-01T14:32:36",
          "1970-01-01T14:32:36",
          "1970-01-01T14:32:36"
         ],
         "y": [
          "barge_4",
          "barge_4",
          "barge_4",
          "barge_4",
          null,
          "barge_4",
          "barge_4",
          "barge_4",
          "barge_4",
          null,
          "barge_4",
          "barge_4",
          "barge_4",
          "barge_4",
          null
         ]
        },
        {
         "connectgaps": false,
         "hoverinfo": "y+name",
         "line": {
          "color": "rgb(209,164,62)",
          "width": 10
         },
         "mode": "lines",
         "name": "basic activity:barge_4",
         "type": "scatter",
         "x": [
          "1970-01-01T00:00:00",
          "1970-01-01T00:00:00",
          "1970-01-01T00:48:21",
          "1970-01-01T00:48:21",
          "1970-01-01T00:48:21",
          "1970-01-01T06:02:32",
          "1970-01-01T06:02:32",
          "1970-01-01T06:50:53",
          "1970-01-01T06:50:53",
          "1970-01-01T06:50:53",
          "1970-01-01T09:57:36",
          "1970-01-01T09:57:36",
          "1970-01-01T10:45:57",
          "1970-01-01T10:45:57",
          "1970-01-01T10:45:57"
         ],
         "y": [
          "barge_4",
          "barge_4",
          "barge_4",
          "barge_4",
          null,
          "barge_4",
          "barge_4",
          "barge_4",
          "barge_4",
          null,
          "barge_4",
          "barge_4",
          "barge_4",
          "barge_4",
          null
         ]
        },
        {
         "connectgaps": false,
         "hoverinfo": "y+name",
         "line": {
          "color": "rgb(216,171,69)",
          "width": 10
         },
         "mode": "lines",
         "name": "basic activity:barge_5",
         "type": "scatter",
         "x": [
          "1970-01-01T00:00:00",
          "1970-01-01T00:00:00",
          "1970-01-01T00:42:17",
          "1970-01-01T00:42:17",
          "1970-01-01T00:42:17",
          "1970-01-01T03:53:44",
          "1970-01-01T03:53:44",
          "1970-01-01T04:36:01",
          "1970-01-01T04:36:01",
          "1970-01-01T04:36:01",
          "1970-01-01T07:47:04",
          "1970-01-01T07:47:04",
          "1970-01-01T08:29:21",
          "1970-01-01T08:29:21",
          "1970-01-01T08:29:21",
          "1970-01-01T11:42:08",
          "1970-01-01T11:42:08",
          "1970-01-01T12:24:25",
          "1970-01-01T12:24:25",
          "1970-01-01T12:24:25"
         ],
         "y": [
          "barge_5",
          "barge_5",
          "barge_5",
          "barge_5",
          null,
          "barge_5",
          "barge_5",
          "barge_5",
          "barge_5",
          null,
          "barge_5",
          "barge_5",
          "barge_5",
          "barge_5",
          null,
          "barge_5",
          "barge_5",
          "barge_5",
          "barge_5",
          null
         ]
        },
        {
         "connectgaps": false,
         "hoverinfo": "y+name",
         "line": {
          "color": "rgb(223,178,76)",
          "width": 10
         },
         "mode": "lines",
         "name": "sailing empty:barge_5",
         "type": "scatter",
         "x": [
          "1970-01-01T00:42:17",
          "1970-01-01T00:42:17",
          "1970-01-01T01:24:34",
          "1970-01-01T01:24:34",
          "1970-01-01T01:24:34",
          "1970-01-01T04:36:01",
          "1970-01-01T04:36:01",
          "1970-01-01T05:18:18",
          "1970-01-01T05:18:18",
          "1970-01-01T05:18:18",
          "1970-01-01T08:29:21",
          "1970-01-01T08:29:21",
          "1970-01-01T09:11:38",
          "1970-01-01T09:11:38",
          "1970-01-01T09:11:38",
          "1970-01-01T12:24:25",
          "1970-01-01T12:24:25",
          "1970-01-01T13:06:42",
          "1970-01-01T13:06:42",
          "1970-01-01T13:06:42"
         ],
         "y": [
          "barge_5",
          "barge_5",
          "barge_5",
          "barge_5",
          null,
          "barge_5",
          "barge_5",
          "barge_5",
          "barge_5",
          null,
          "barge_5",
          "barge_5",
          "barge_5",
          "barge_5",
          null,
          "barge_5",
          "barge_5",
          "barge_5",
          "barge_5",
          null
         ]
        },
        {
         "connectgaps": false,
         "hoverinfo": "y+name",
         "line": {
          "color": "rgb(230,185,83)",
          "width": 10
         },
         "mode": "lines",
         "name": "unloading:barge_5",
         "type": "scatter",
         "x": [
          "1970-01-01T03:11:27",
          "1970-01-01T03:11:27",
          "1970-01-01T03:53:44",
          "1970-01-01T03:53:44",
          "1970-01-01T03:53:44",
          "1970-01-01T07:04:47",
          "1970-01-01T07:04:47",
          "1970-01-01T07:47:04",
          "1970-01-01T07:47:04",
          "1970-01-01T07:47:04",
          "1970-01-01T10:59:51",
          "1970-01-01T10:59:51",
          "1970-01-01T11:42:08",
          "1970-01-01T11:42:08",
          "1970-01-01T11:42:08",
          "1970-01-01T14:58:19",
          "1970-01-01T14:58:19",
          "1970-01-01T15:40:36",
          "1970-01-01T15:40:36",
          "1970-01-01T15:40:36"
         ],
         "y": [
          "barge_5",
          "barge_5",
          "barge_5",
          "barge_5",
          null,
          "barge_5",
          "barge_5",
          "barge_5",
          "barge_5",
          null,
          "barge_5",
          "barge_5",
          "barge_5",
          "barge_5",
          null,
          "barge_5",
          "barge_5",
          "barge_5",
          "barge_5",
          null
         ]
        },
        {
         "connectgaps": false,
         "hoverinfo": "y+name",
         "line": {
          "color": "rgb(237,192,90)",
          "width": 10
         },
         "mode": "lines",
         "name": "sailing full:barge_5",
         "type": "scatter",
         "x": [
          "1970-01-01T02:29:10",
          "1970-01-01T02:29:10",
          "1970-01-01T03:11:27",
          "1970-01-01T03:11:27",
          "1970-01-01T03:11:27",
          "1970-01-01T06:22:30",
          "1970-01-01T06:22:30",
          "1970-01-01T07:04:47",
          "1970-01-01T07:04:47",
          "1970-01-01T07:04:47",
          "1970-01-01T10:17:34",
          "1970-01-01T10:17:34",
          "1970-01-01T10:59:51",
          "1970-01-01T10:59:51",
          "1970-01-01T10:59:51",
          "1970-01-01T14:16:02",
          "1970-01-01T14:16:02",
          "1970-01-01T14:58:19",
          "1970-01-01T14:58:19",
          "1970-01-01T14:58:19"
         ],
         "y": [
          "barge_5",
          "barge_5",
          "barge_5",
          "barge_5",
          null,
          "barge_5",
          "barge_5",
          "barge_5",
          "barge_5",
          null,
          "barge_5",
          "barge_5",
          "barge_5",
          "barge_5",
          null,
          "barge_5",
          "barge_5",
          "barge_5",
          "barge_5",
          null
         ]
        },
        {
         "connectgaps": false,
         "hoverinfo": "y+name",
         "line": {
          "color": "rgb(244,199,97)",
          "width": 10
         },
         "mode": "lines",
         "name": "loading:barge_5",
         "type": "scatter",
         "x": [
          "1970-01-01T01:55:50",
          "1970-01-01T01:55:50",
          "1970-01-01T02:29:10",
          "1970-01-01T02:29:10",
          "1970-01-01T02:29:10",
          "1970-01-01T05:49:10",
          "1970-01-01T05:49:10",
          "1970-01-01T06:22:30",
          "1970-01-01T06:22:30",
          "1970-01-01T06:22:30",
          "1970-01-01T09:44:14",
          "1970-01-01T09:44:14",
          "1970-01-01T10:17:34",
          "1970-01-01T10:17:34",
          "1970-01-01T10:17:34",
          "1970-01-01T13:42:42",
          "1970-01-01T13:42:42",
          "1970-01-01T14:16:02",
          "1970-01-01T14:16:02",
          "1970-01-01T14:16:02",
          "1970-01-01T01:55:50",
          "1970-01-01T01:55:50",
          "1970-01-01T02:29:10",
          "1970-01-01T02:29:10",
          "1970-01-01T02:29:10",
          "1970-01-01T05:49:10",
          "1970-01-01T05:49:10",
          "1970-01-01T06:22:30",
          "1970-01-01T06:22:30",
          "1970-01-01T06:22:30",
          "1970-01-01T09:44:14",
          "1970-01-01T09:44:14",
          "1970-01-01T10:17:34",
          "1970-01-01T10:17:34",
          "1970-01-01T10:17:34",
          "1970-01-01T13:42:42",
          "1970-01-01T13:42:42",
          "1970-01-01T14:16:02",
          "1970-01-01T14:16:02",
          "1970-01-01T14:16:02"
         ],
         "y": [
          "barge_5",
          "barge_5",
          "barge_5",
          "barge_5",
          null,
          "barge_5",
          "barge_5",
          "barge_5",
          "barge_5",
          null,
          "barge_5",
          "barge_5",
          "barge_5",
          "barge_5",
          null,
          "barge_5",
          "barge_5",
          "barge_5",
          "barge_5",
          null,
          "cutter",
          "cutter",
          "cutter",
          "cutter",
          null,
          "cutter",
          "cutter",
          "cutter",
          "cutter",
          null,
          "cutter",
          "cutter",
          "cutter",
          "cutter",
          null,
          "cutter",
          "cutter",
          "cutter",
          "cutter",
          null
         ]
        },
        {
         "connectgaps": false,
         "hoverinfo": "y+name",
         "line": {
          "color": "rgb(251,206,104)",
          "width": 10
         },
         "mode": "lines",
         "name": "loading:barge_4",
         "type": "scatter",
         "x": [
          "1970-01-01T03:44:10",
          "1970-01-01T03:44:10",
          "1970-01-01T04:25:50",
          "1970-01-01T04:25:50",
          "1970-01-01T04:25:50",
          "1970-01-01T07:39:14",
          "1970-01-01T07:39:14",
          "1970-01-01T08:20:54",
          "1970-01-01T08:20:54",
          "1970-01-01T08:20:54",
          "1970-01-01T12:14:14",
          "1970-01-01T12:14:14",
          "1970-01-01T12:55:54",
          "1970-01-01T12:55:54",
          "1970-01-01T12:55:54",
          "1970-01-01T03:44:10",
          "1970-01-01T03:44:10",
          "1970-01-01T04:25:50",
          "1970-01-01T04:25:50",
          "1970-01-01T04:25:50",
          "1970-01-01T07:39:14",
          "1970-01-01T07:39:14",
          "1970-01-01T08:20:54",
          "1970-01-01T08:20:54",
          "1970-01-01T08:20:54",
          "1970-01-01T12:14:14",
          "1970-01-01T12:14:14",
          "1970-01-01T12:55:54",
          "1970-01-01T12:55:54",
          "1970-01-01T12:55:54"
         ],
         "y": [
          "barge_4",
          "barge_4",
          "barge_4",
          "barge_4",
          null,
          "barge_4",
          "barge_4",
          "barge_4",
          "barge_4",
          null,
          "barge_4",
          "barge_4",
          "barge_4",
          "barge_4",
          null,
          "cutter",
          "cutter",
          "cutter",
          "cutter",
          null,
          "cutter",
          "cutter",
          "cutter",
          "cutter",
          null,
          "cutter",
          "cutter",
          "cutter",
          "cutter",
          null
         ]
        },
        {
         "connectgaps": false,
         "hoverinfo": "y+name",
         "line": {
          "color": "rgb(2,213,111)",
          "width": 10
         },
         "mode": "lines",
         "name": "loading:barge_3",
         "type": "scatter",
         "x": [
          "1970-01-01T02:29:10",
          "1970-01-01T02:29:10",
          "1970-01-01T03:10:50",
          "1970-01-01T03:10:50",
          "1970-01-01T03:10:50",
          "1970-01-01T06:22:30",
          "1970-01-01T06:22:30",
          "1970-01-01T07:04:10",
          "1970-01-01T07:04:10",
          "1970-01-01T07:04:10",
          "1970-01-01T10:17:34",
          "1970-01-01T10:17:34",
          "1970-01-01T10:59:14",
          "1970-01-01T10:59:14",
          "1970-01-01T10:59:14",
          "1970-01-01T14:16:02",
          "1970-01-01T14:16:02",
          "1970-01-01T14:57:42",
          "1970-01-01T14:57:42",
          "1970-01-01T14:57:42",
          "1970-01-01T02:29:10",
          "1970-01-01T02:29:10",
          "1970-01-01T03:10:50",
          "1970-01-01T03:10:50",
          "1970-01-01T03:10:50",
          "1970-01-01T06:22:30",
          "1970-01-01T06:22:30",
          "1970-01-01T07:04:10",
          "1970-01-01T07:04:10",
          "1970-01-01T07:04:10",
          "1970-01-01T10:17:34",
          "1970-01-01T10:17:34",
          "1970-01-01T10:59:14",
          "1970-01-01T10:59:14",
          "1970-01-01T10:59:14",
          "1970-01-01T14:16:02",
          "1970-01-01T14:16:02",
          "1970-01-01T14:57:42",
          "1970-01-01T14:57:42",
          "1970-01-01T14:57:42"
         ],
         "y": [
          "barge_3",
          "barge_3",
          "barge_3",
          "barge_3",
          null,
          "barge_3",
          "barge_3",
          "barge_3",
          "barge_3",
          null,
          "barge_3",
          "barge_3",
          "barge_3",
          "barge_3",
          null,
          "barge_3",
          "barge_3",
          "barge_3",
          "barge_3",
          null,
          "cutter",
          "cutter",
          "cutter",
          "cutter",
          null,
          "cutter",
          "cutter",
          "cutter",
          "cutter",
          null,
          "cutter",
          "cutter",
          "cutter",
          "cutter",
          null,
          "cutter",
          "cutter",
          "cutter",
          "cutter",
          null
         ]
        },
        {
         "connectgaps": false,
         "hoverinfo": "y+name",
         "line": {
          "color": "rgb(9,220,118)",
          "width": 10
         },
         "mode": "lines",
         "name": "loading:barge_2",
         "type": "scatter",
         "x": [
          "1970-01-01T03:10:50",
          "1970-01-01T03:10:50",
          "1970-01-01T03:44:10",
          "1970-01-01T03:44:10",
          "1970-01-01T03:44:10",
          "1970-01-01T07:04:10",
          "1970-01-01T07:04:10",
          "1970-01-01T07:37:30",
          "1970-01-01T07:37:30",
          "1970-01-01T07:37:30",
          "1970-01-01T10:59:14",
          "1970-01-01T10:59:14",
          "1970-01-01T11:32:34",
          "1970-01-01T11:32:34",
          "1970-01-01T11:32:34",
          "1970-01-01T14:57:42",
          "1970-01-01T14:57:42",
          "1970-01-01T15:31:02",
          "1970-01-01T15:31:02",
          "1970-01-01T15:31:02",
          "1970-01-01T03:10:50",
          "1970-01-01T03:10:50",
          "1970-01-01T03:44:10",
          "1970-01-01T03:44:10",
          "1970-01-01T03:44:10",
          "1970-01-01T07:04:10",
          "1970-01-01T07:04:10",
          "1970-01-01T07:37:30",
          "1970-01-01T07:37:30",
          "1970-01-01T07:37:30",
          "1970-01-01T10:59:14",
          "1970-01-01T10:59:14",
          "1970-01-01T11:32:34",
          "1970-01-01T11:32:34",
          "1970-01-01T11:32:34",
          "1970-01-01T14:57:42",
          "1970-01-01T14:57:42",
          "1970-01-01T15:31:02",
          "1970-01-01T15:31:02",
          "1970-01-01T15:31:02"
         ],
         "y": [
          "barge_2",
          "barge_2",
          "barge_2",
          "barge_2",
          null,
          "barge_2",
          "barge_2",
          "barge_2",
          "barge_2",
          null,
          "barge_2",
          "barge_2",
          "barge_2",
          "barge_2",
          null,
          "barge_2",
          "barge_2",
          "barge_2",
          "barge_2",
          null,
          "cutter",
          "cutter",
          "cutter",
          "cutter",
          null,
          "cutter",
          "cutter",
          "cutter",
          "cutter",
          null,
          "cutter",
          "cutter",
          "cutter",
          "cutter",
          null,
          "cutter",
          "cutter",
          "cutter",
          "cutter",
          null
         ]
        },
        {
         "connectgaps": false,
         "hoverinfo": "y+name",
         "line": {
          "color": "rgb(16,227,125)",
          "width": 10
         },
         "mode": "lines",
         "name": "loading:barge_5",
         "type": "scatter",
         "x": [
          "1970-01-01T01:55:50",
          "1970-01-01T01:55:50",
          "1970-01-01T02:29:10",
          "1970-01-01T02:29:10",
          "1970-01-01T02:29:10",
          "1970-01-01T05:49:10",
          "1970-01-01T05:49:10",
          "1970-01-01T06:22:30",
          "1970-01-01T06:22:30",
          "1970-01-01T06:22:30",
          "1970-01-01T09:44:14",
          "1970-01-01T09:44:14",
          "1970-01-01T10:17:34",
          "1970-01-01T10:17:34",
          "1970-01-01T10:17:34",
          "1970-01-01T13:42:42",
          "1970-01-01T13:42:42",
          "1970-01-01T14:16:02",
          "1970-01-01T14:16:02",
          "1970-01-01T14:16:02",
          "1970-01-01T01:55:50",
          "1970-01-01T01:55:50",
          "1970-01-01T02:29:10",
          "1970-01-01T02:29:10",
          "1970-01-01T02:29:10",
          "1970-01-01T05:49:10",
          "1970-01-01T05:49:10",
          "1970-01-01T06:22:30",
          "1970-01-01T06:22:30",
          "1970-01-01T06:22:30",
          "1970-01-01T09:44:14",
          "1970-01-01T09:44:14",
          "1970-01-01T10:17:34",
          "1970-01-01T10:17:34",
          "1970-01-01T10:17:34",
          "1970-01-01T13:42:42",
          "1970-01-01T13:42:42",
          "1970-01-01T14:16:02",
          "1970-01-01T14:16:02",
          "1970-01-01T14:16:02"
         ],
         "y": [
          "barge_5",
          "barge_5",
          "barge_5",
          "barge_5",
          null,
          "barge_5",
          "barge_5",
          "barge_5",
          "barge_5",
          null,
          "barge_5",
          "barge_5",
          "barge_5",
          "barge_5",
          null,
          "barge_5",
          "barge_5",
          "barge_5",
          "barge_5",
          null,
          "cutter",
          "cutter",
          "cutter",
          "cutter",
          null,
          "cutter",
          "cutter",
          "cutter",
          "cutter",
          null,
          "cutter",
          "cutter",
          "cutter",
          "cutter",
          null,
          "cutter",
          "cutter",
          "cutter",
          "cutter",
          null
         ]
        },
        {
         "connectgaps": false,
         "hoverinfo": "y+name",
         "line": {
          "color": "rgb(23,234,132)",
          "width": 10
         },
         "mode": "lines",
         "name": "loading:barge_0",
         "type": "scatter",
         "x": [
          "1970-01-01T01:14:10",
          "1970-01-01T01:14:10",
          "1970-01-01T01:55:50",
          "1970-01-01T01:55:50",
          "1970-01-01T01:55:50",
          "1970-01-01T05:07:30",
          "1970-01-01T05:07:30",
          "1970-01-01T05:49:10",
          "1970-01-01T05:49:10",
          "1970-01-01T05:49:10",
          "1970-01-01T08:20:54",
          "1970-01-01T08:20:54",
          "1970-01-01T09:02:34",
          "1970-01-01T09:02:34",
          "1970-01-01T09:02:34",
          "1970-01-01T11:32:34",
          "1970-01-01T11:32:34",
          "1970-01-01T12:14:14",
          "1970-01-01T12:14:14",
          "1970-01-01T12:14:14",
          "1970-01-01T01:14:10",
          "1970-01-01T01:14:10",
          "1970-01-01T01:55:50",
          "1970-01-01T01:55:50",
          "1970-01-01T01:55:50",
          "1970-01-01T05:07:30",
          "1970-01-01T05:07:30",
          "1970-01-01T05:49:10",
          "1970-01-01T05:49:10",
          "1970-01-01T05:49:10",
          "1970-01-01T08:20:54",
          "1970-01-01T08:20:54",
          "1970-01-01T09:02:34",
          "1970-01-01T09:02:34",
          "1970-01-01T09:02:34",
          "1970-01-01T11:32:34",
          "1970-01-01T11:32:34",
          "1970-01-01T12:14:14",
          "1970-01-01T12:14:14",
          "1970-01-01T12:14:14"
         ],
         "y": [
          "barge_0",
          "barge_0",
          "barge_0",
          "barge_0",
          null,
          "barge_0",
          "barge_0",
          "barge_0",
          "barge_0",
          null,
          "barge_0",
          "barge_0",
          "barge_0",
          "barge_0",
          null,
          "barge_0",
          "barge_0",
          "barge_0",
          "barge_0",
          null,
          "cutter",
          "cutter",
          "cutter",
          "cutter",
          null,
          "cutter",
          "cutter",
          "cutter",
          "cutter",
          null,
          "cutter",
          "cutter",
          "cutter",
          "cutter",
          null,
          "cutter",
          "cutter",
          "cutter",
          "cutter",
          null
         ]
        },
        {
         "connectgaps": false,
         "hoverinfo": "y+name",
         "line": {
          "color": "rgb(30,241,139)",
          "width": 10
         },
         "mode": "lines",
         "name": "loading:barge_1",
         "type": "scatter",
         "x": [
          "1970-01-01T04:25:50",
          "1970-01-01T04:25:50",
          "1970-01-01T05:07:30",
          "1970-01-01T05:07:30",
          "1970-01-01T05:07:30",
          "1970-01-01T09:02:34",
          "1970-01-01T09:02:34",
          "1970-01-01T09:44:14",
          "1970-01-01T09:44:14",
          "1970-01-01T09:44:14",
          "1970-01-01T13:01:02",
          "1970-01-01T13:01:02",
          "1970-01-01T13:42:42",
          "1970-01-01T13:42:42",
          "1970-01-01T13:42:42",
          "1970-01-01T04:25:50",
          "1970-01-01T04:25:50",
          "1970-01-01T05:07:30",
          "1970-01-01T05:07:30",
          "1970-01-01T05:07:30",
          "1970-01-01T09:02:34",
          "1970-01-01T09:02:34",
          "1970-01-01T09:44:14",
          "1970-01-01T09:44:14",
          "1970-01-01T09:44:14",
          "1970-01-01T13:01:02",
          "1970-01-01T13:01:02",
          "1970-01-01T13:42:42",
          "1970-01-01T13:42:42",
          "1970-01-01T13:42:42"
         ],
         "y": [
          "barge_1",
          "barge_1",
          "barge_1",
          "barge_1",
          null,
          "barge_1",
          "barge_1",
          "barge_1",
          "barge_1",
          null,
          "barge_1",
          "barge_1",
          "barge_1",
          "barge_1",
          null,
          "cutter",
          "cutter",
          "cutter",
          "cutter",
          null,
          "cutter",
          "cutter",
          "cutter",
          "cutter",
          null,
          "cutter",
          "cutter",
          "cutter",
          "cutter",
          null
         ]
        }
       ],
       "layout": {
        "hovermode": "closest",
        "legend": {
         "orientation": "h",
         "x": 0,
         "y": -0.2
        },
        "template": {
         "data": {
          "bar": [
           {
            "error_x": {
             "color": "#2a3f5f"
            },
            "error_y": {
             "color": "#2a3f5f"
            },
            "marker": {
             "line": {
              "color": "#E5ECF6",
              "width": 0.5
             },
             "pattern": {
              "fillmode": "overlay",
              "size": 10,
              "solidity": 0.2
             }
            },
            "type": "bar"
           }
          ],
          "barpolar": [
           {
            "marker": {
             "line": {
              "color": "#E5ECF6",
              "width": 0.5
             },
             "pattern": {
              "fillmode": "overlay",
              "size": 10,
              "solidity": 0.2
             }
            },
            "type": "barpolar"
           }
          ],
          "carpet": [
           {
            "aaxis": {
             "endlinecolor": "#2a3f5f",
             "gridcolor": "white",
             "linecolor": "white",
             "minorgridcolor": "white",
             "startlinecolor": "#2a3f5f"
            },
            "baxis": {
             "endlinecolor": "#2a3f5f",
             "gridcolor": "white",
             "linecolor": "white",
             "minorgridcolor": "white",
             "startlinecolor": "#2a3f5f"
            },
            "type": "carpet"
           }
          ],
          "choropleth": [
           {
            "colorbar": {
             "outlinewidth": 0,
             "ticks": ""
            },
            "type": "choropleth"
           }
          ],
          "contour": [
           {
            "colorbar": {
             "outlinewidth": 0,
             "ticks": ""
            },
            "colorscale": [
             [
              0,
              "#0d0887"
             ],
             [
              0.1111111111111111,
              "#46039f"
             ],
             [
              0.2222222222222222,
              "#7201a8"
             ],
             [
              0.3333333333333333,
              "#9c179e"
             ],
             [
              0.4444444444444444,
              "#bd3786"
             ],
             [
              0.5555555555555556,
              "#d8576b"
             ],
             [
              0.6666666666666666,
              "#ed7953"
             ],
             [
              0.7777777777777778,
              "#fb9f3a"
             ],
             [
              0.8888888888888888,
              "#fdca26"
             ],
             [
              1,
              "#f0f921"
             ]
            ],
            "type": "contour"
           }
          ],
          "contourcarpet": [
           {
            "colorbar": {
             "outlinewidth": 0,
             "ticks": ""
            },
            "type": "contourcarpet"
           }
          ],
          "heatmap": [
           {
            "colorbar": {
             "outlinewidth": 0,
             "ticks": ""
            },
            "colorscale": [
             [
              0,
              "#0d0887"
             ],
             [
              0.1111111111111111,
              "#46039f"
             ],
             [
              0.2222222222222222,
              "#7201a8"
             ],
             [
              0.3333333333333333,
              "#9c179e"
             ],
             [
              0.4444444444444444,
              "#bd3786"
             ],
             [
              0.5555555555555556,
              "#d8576b"
             ],
             [
              0.6666666666666666,
              "#ed7953"
             ],
             [
              0.7777777777777778,
              "#fb9f3a"
             ],
             [
              0.8888888888888888,
              "#fdca26"
             ],
             [
              1,
              "#f0f921"
             ]
            ],
            "type": "heatmap"
           }
          ],
          "heatmapgl": [
           {
            "colorbar": {
             "outlinewidth": 0,
             "ticks": ""
            },
            "colorscale": [
             [
              0,
              "#0d0887"
             ],
             [
              0.1111111111111111,
              "#46039f"
             ],
             [
              0.2222222222222222,
              "#7201a8"
             ],
             [
              0.3333333333333333,
              "#9c179e"
             ],
             [
              0.4444444444444444,
              "#bd3786"
             ],
             [
              0.5555555555555556,
              "#d8576b"
             ],
             [
              0.6666666666666666,
              "#ed7953"
             ],
             [
              0.7777777777777778,
              "#fb9f3a"
             ],
             [
              0.8888888888888888,
              "#fdca26"
             ],
             [
              1,
              "#f0f921"
             ]
            ],
            "type": "heatmapgl"
           }
          ],
          "histogram": [
           {
            "marker": {
             "pattern": {
              "fillmode": "overlay",
              "size": 10,
              "solidity": 0.2
             }
            },
            "type": "histogram"
           }
          ],
          "histogram2d": [
           {
            "colorbar": {
             "outlinewidth": 0,
             "ticks": ""
            },
            "colorscale": [
             [
              0,
              "#0d0887"
             ],
             [
              0.1111111111111111,
              "#46039f"
             ],
             [
              0.2222222222222222,
              "#7201a8"
             ],
             [
              0.3333333333333333,
              "#9c179e"
             ],
             [
              0.4444444444444444,
              "#bd3786"
             ],
             [
              0.5555555555555556,
              "#d8576b"
             ],
             [
              0.6666666666666666,
              "#ed7953"
             ],
             [
              0.7777777777777778,
              "#fb9f3a"
             ],
             [
              0.8888888888888888,
              "#fdca26"
             ],
             [
              1,
              "#f0f921"
             ]
            ],
            "type": "histogram2d"
           }
          ],
          "histogram2dcontour": [
           {
            "colorbar": {
             "outlinewidth": 0,
             "ticks": ""
            },
            "colorscale": [
             [
              0,
              "#0d0887"
             ],
             [
              0.1111111111111111,
              "#46039f"
             ],
             [
              0.2222222222222222,
              "#7201a8"
             ],
             [
              0.3333333333333333,
              "#9c179e"
             ],
             [
              0.4444444444444444,
              "#bd3786"
             ],
             [
              0.5555555555555556,
              "#d8576b"
             ],
             [
              0.6666666666666666,
              "#ed7953"
             ],
             [
              0.7777777777777778,
              "#fb9f3a"
             ],
             [
              0.8888888888888888,
              "#fdca26"
             ],
             [
              1,
              "#f0f921"
             ]
            ],
            "type": "histogram2dcontour"
           }
          ],
          "mesh3d": [
           {
            "colorbar": {
             "outlinewidth": 0,
             "ticks": ""
            },
            "type": "mesh3d"
           }
          ],
          "parcoords": [
           {
            "line": {
             "colorbar": {
              "outlinewidth": 0,
              "ticks": ""
             }
            },
            "type": "parcoords"
           }
          ],
          "pie": [
           {
            "automargin": true,
            "type": "pie"
           }
          ],
          "scatter": [
           {
            "fillpattern": {
             "fillmode": "overlay",
             "size": 10,
             "solidity": 0.2
            },
            "type": "scatter"
           }
          ],
          "scatter3d": [
           {
            "line": {
             "colorbar": {
              "outlinewidth": 0,
              "ticks": ""
             }
            },
            "marker": {
             "colorbar": {
              "outlinewidth": 0,
              "ticks": ""
             }
            },
            "type": "scatter3d"
           }
          ],
          "scattercarpet": [
           {
            "marker": {
             "colorbar": {
              "outlinewidth": 0,
              "ticks": ""
             }
            },
            "type": "scattercarpet"
           }
          ],
          "scattergeo": [
           {
            "marker": {
             "colorbar": {
              "outlinewidth": 0,
              "ticks": ""
             }
            },
            "type": "scattergeo"
           }
          ],
          "scattergl": [
           {
            "marker": {
             "colorbar": {
              "outlinewidth": 0,
              "ticks": ""
             }
            },
            "type": "scattergl"
           }
          ],
          "scattermapbox": [
           {
            "marker": {
             "colorbar": {
              "outlinewidth": 0,
              "ticks": ""
             }
            },
            "type": "scattermapbox"
           }
          ],
          "scatterpolar": [
           {
            "marker": {
             "colorbar": {
              "outlinewidth": 0,
              "ticks": ""
             }
            },
            "type": "scatterpolar"
           }
          ],
          "scatterpolargl": [
           {
            "marker": {
             "colorbar": {
              "outlinewidth": 0,
              "ticks": ""
             }
            },
            "type": "scatterpolargl"
           }
          ],
          "scatterternary": [
           {
            "marker": {
             "colorbar": {
              "outlinewidth": 0,
              "ticks": ""
             }
            },
            "type": "scatterternary"
           }
          ],
          "surface": [
           {
            "colorbar": {
             "outlinewidth": 0,
             "ticks": ""
            },
            "colorscale": [
             [
              0,
              "#0d0887"
             ],
             [
              0.1111111111111111,
              "#46039f"
             ],
             [
              0.2222222222222222,
              "#7201a8"
             ],
             [
              0.3333333333333333,
              "#9c179e"
             ],
             [
              0.4444444444444444,
              "#bd3786"
             ],
             [
              0.5555555555555556,
              "#d8576b"
             ],
             [
              0.6666666666666666,
              "#ed7953"
             ],
             [
              0.7777777777777778,
              "#fb9f3a"
             ],
             [
              0.8888888888888888,
              "#fdca26"
             ],
             [
              1,
              "#f0f921"
             ]
            ],
            "type": "surface"
           }
          ],
          "table": [
           {
            "cells": {
             "fill": {
              "color": "#EBF0F8"
             },
             "line": {
              "color": "white"
             }
            },
            "header": {
             "fill": {
              "color": "#C8D4E3"
             },
             "line": {
              "color": "white"
             }
            },
            "type": "table"
           }
          ]
         },
         "layout": {
          "annotationdefaults": {
           "arrowcolor": "#2a3f5f",
           "arrowhead": 0,
           "arrowwidth": 1
          },
          "autotypenumbers": "strict",
          "coloraxis": {
           "colorbar": {
            "outlinewidth": 0,
            "ticks": ""
           }
          },
          "colorscale": {
           "diverging": [
            [
             0,
             "#8e0152"
            ],
            [
             0.1,
             "#c51b7d"
            ],
            [
             0.2,
             "#de77ae"
            ],
            [
             0.3,
             "#f1b6da"
            ],
            [
             0.4,
             "#fde0ef"
            ],
            [
             0.5,
             "#f7f7f7"
            ],
            [
             0.6,
             "#e6f5d0"
            ],
            [
             0.7,
             "#b8e186"
            ],
            [
             0.8,
             "#7fbc41"
            ],
            [
             0.9,
             "#4d9221"
            ],
            [
             1,
             "#276419"
            ]
           ],
           "sequential": [
            [
             0,
             "#0d0887"
            ],
            [
             0.1111111111111111,
             "#46039f"
            ],
            [
             0.2222222222222222,
             "#7201a8"
            ],
            [
             0.3333333333333333,
             "#9c179e"
            ],
            [
             0.4444444444444444,
             "#bd3786"
            ],
            [
             0.5555555555555556,
             "#d8576b"
            ],
            [
             0.6666666666666666,
             "#ed7953"
            ],
            [
             0.7777777777777778,
             "#fb9f3a"
            ],
            [
             0.8888888888888888,
             "#fdca26"
            ],
            [
             1,
             "#f0f921"
            ]
           ],
           "sequentialminus": [
            [
             0,
             "#0d0887"
            ],
            [
             0.1111111111111111,
             "#46039f"
            ],
            [
             0.2222222222222222,
             "#7201a8"
            ],
            [
             0.3333333333333333,
             "#9c179e"
            ],
            [
             0.4444444444444444,
             "#bd3786"
            ],
            [
             0.5555555555555556,
             "#d8576b"
            ],
            [
             0.6666666666666666,
             "#ed7953"
            ],
            [
             0.7777777777777778,
             "#fb9f3a"
            ],
            [
             0.8888888888888888,
             "#fdca26"
            ],
            [
             1,
             "#f0f921"
            ]
           ]
          },
          "colorway": [
           "#636efa",
           "#EF553B",
           "#00cc96",
           "#ab63fa",
           "#FFA15A",
           "#19d3f3",
           "#FF6692",
           "#B6E880",
           "#FF97FF",
           "#FECB52"
          ],
          "font": {
           "color": "#2a3f5f"
          },
          "geo": {
           "bgcolor": "white",
           "lakecolor": "white",
           "landcolor": "#E5ECF6",
           "showlakes": true,
           "showland": true,
           "subunitcolor": "white"
          },
          "hoverlabel": {
           "align": "left"
          },
          "hovermode": "closest",
          "mapbox": {
           "style": "light"
          },
          "paper_bgcolor": "white",
          "plot_bgcolor": "#E5ECF6",
          "polar": {
           "angularaxis": {
            "gridcolor": "white",
            "linecolor": "white",
            "ticks": ""
           },
           "bgcolor": "#E5ECF6",
           "radialaxis": {
            "gridcolor": "white",
            "linecolor": "white",
            "ticks": ""
           }
          },
          "scene": {
           "xaxis": {
            "backgroundcolor": "#E5ECF6",
            "gridcolor": "white",
            "gridwidth": 2,
            "linecolor": "white",
            "showbackground": true,
            "ticks": "",
            "zerolinecolor": "white"
           },
           "yaxis": {
            "backgroundcolor": "#E5ECF6",
            "gridcolor": "white",
            "gridwidth": 2,
            "linecolor": "white",
            "showbackground": true,
            "ticks": "",
            "zerolinecolor": "white"
           },
           "zaxis": {
            "backgroundcolor": "#E5ECF6",
            "gridcolor": "white",
            "gridwidth": 2,
            "linecolor": "white",
            "showbackground": true,
            "ticks": "",
            "zerolinecolor": "white"
           }
          },
          "shapedefaults": {
           "line": {
            "color": "#2a3f5f"
           }
          },
          "ternary": {
           "aaxis": {
            "gridcolor": "white",
            "linecolor": "white",
            "ticks": ""
           },
           "baxis": {
            "gridcolor": "white",
            "linecolor": "white",
            "ticks": ""
           },
           "bgcolor": "#E5ECF6",
           "caxis": {
            "gridcolor": "white",
            "linecolor": "white",
            "ticks": ""
           }
          },
          "title": {
           "x": 0.05
          },
          "xaxis": {
           "automargin": true,
           "gridcolor": "white",
           "linecolor": "white",
           "ticks": "",
           "title": {
            "standoff": 15
           },
           "zerolinecolor": "white",
           "zerolinewidth": 2
          },
          "yaxis": {
           "automargin": true,
           "gridcolor": "white",
           "linecolor": "white",
           "ticks": "",
           "title": {
            "standoff": 15
           },
           "zerolinecolor": "white",
           "zerolinewidth": 2
          }
         }
        },
        "title": {
         "text": "GANTT Chart"
        },
        "xaxis": {
         "range": [
          "1970-01-01T00:00:00",
          "1970-01-01T17:02:14"
         ],
         "title": {
          "font": {
           "color": "#7f7f7f",
           "family": "Courier New, monospace",
           "size": 18
          },
          "text": "Time"
         }
        },
        "yaxis": {
         "title": {
          "font": {
           "color": "#7f7f7f",
           "family": "Courier New, monospace",
           "size": 18
          },
          "text": "Activities"
         }
        }
       }
      },
      "text/html": [
       "<div>                            <div id=\"8f251039-5bbd-478d-aace-fa8df481399b\" class=\"plotly-graph-div\" style=\"height:525px; width:100%;\"></div>            <script type=\"text/javascript\">                require([\"plotly\"], function(Plotly) {                    window.PLOTLYENV=window.PLOTLYENV || {};                                    if (document.getElementById(\"8f251039-5bbd-478d-aace-fa8df481399b\")) {                    Plotly.newPlot(                        \"8f251039-5bbd-478d-aace-fa8df481399b\",                        [{\"connectgaps\":false,\"hoverinfo\":\"y+name\",\"line\":{\"color\":\"rgb(41,252,150)\",\"width\":10},\"mode\":\"lines\",\"name\":\"sailing empty:barge_0\",\"x\":[\"1970-01-01T00:37:05\",\"1970-01-01T00:37:05\",\"1970-01-01T01:14:10\",\"1970-01-01T01:14:10\",\"1970-01-01T01:14:10\",\"1970-01-01T03:47:05\",\"1970-01-01T03:47:05\",\"1970-01-01T04:24:10\",\"1970-01-01T04:24:10\",\"1970-01-01T04:24:10\",\"1970-01-01T07:40:25\",\"1970-01-01T07:40:25\",\"1970-01-01T08:17:30\",\"1970-01-01T08:17:30\",\"1970-01-01T08:17:30\",\"1970-01-01T10:53:49\",\"1970-01-01T10:53:49\",\"1970-01-01T11:30:54\",\"1970-01-01T11:30:54\",\"1970-01-01T11:30:54\"],\"y\":[\"barge_0\",\"barge_0\",\"barge_0\",\"barge_0\",null,\"barge_0\",\"barge_0\",\"barge_0\",\"barge_0\",null,\"barge_0\",\"barge_0\",\"barge_0\",\"barge_0\",null,\"barge_0\",\"barge_0\",\"barge_0\",\"barge_0\",null],\"type\":\"scatter\"},{\"connectgaps\":false,\"hoverinfo\":\"y+name\",\"line\":{\"color\":\"rgb(48,3,157)\",\"width\":10},\"mode\":\"lines\",\"name\":\"unloading:barge_0\",\"x\":[\"1970-01-01T02:32:55\",\"1970-01-01T02:32:55\",\"1970-01-01T03:10:00\",\"1970-01-01T03:10:00\",\"1970-01-01T03:10:00\",\"1970-01-01T06:26:15\",\"1970-01-01T06:26:15\",\"1970-01-01T07:03:20\",\"1970-01-01T07:03:20\",\"1970-01-01T07:03:20\",\"1970-01-01T09:39:39\",\"1970-01-01T09:39:39\",\"1970-01-01T10:16:44\",\"1970-01-01T10:16:44\",\"1970-01-01T10:16:44\",\"1970-01-01T12:51:19\",\"1970-01-01T12:51:19\",\"1970-01-01T13:28:24\",\"1970-01-01T13:28:24\",\"1970-01-01T13:28:24\"],\"y\":[\"barge_0\",\"barge_0\",\"barge_0\",\"barge_0\",null,\"barge_0\",\"barge_0\",\"barge_0\",\"barge_0\",null,\"barge_0\",\"barge_0\",\"barge_0\",\"barge_0\",null,\"barge_0\",\"barge_0\",\"barge_0\",\"barge_0\",null],\"type\":\"scatter\"},{\"connectgaps\":false,\"hoverinfo\":\"y+name\",\"line\":{\"color\":\"rgb(55,10,164)\",\"width\":10},\"mode\":\"lines\",\"name\":\"sailing full:barge_0\",\"x\":[\"1970-01-01T01:55:50\",\"1970-01-01T01:55:50\",\"1970-01-01T02:32:55\",\"1970-01-01T02:32:55\",\"1970-01-01T02:32:55\",\"1970-01-01T05:49:10\",\"1970-01-01T05:49:10\",\"1970-01-01T06:26:15\",\"1970-01-01T06:26:15\",\"1970-01-01T06:26:15\",\"1970-01-01T09:02:34\",\"1970-01-01T09:02:34\",\"1970-01-01T09:39:39\",\"1970-01-01T09:39:39\",\"1970-01-01T09:39:39\",\"1970-01-01T12:14:14\",\"1970-01-01T12:14:14\",\"1970-01-01T12:51:19\",\"1970-01-01T12:51:19\",\"1970-01-01T12:51:19\"],\"y\":[\"barge_0\",\"barge_0\",\"barge_0\",\"barge_0\",null,\"barge_0\",\"barge_0\",\"barge_0\",\"barge_0\",null,\"barge_0\",\"barge_0\",\"barge_0\",\"barge_0\",null,\"barge_0\",\"barge_0\",\"barge_0\",\"barge_0\",null],\"type\":\"scatter\"},{\"connectgaps\":false,\"hoverinfo\":\"y+name\",\"line\":{\"color\":\"rgb(62,17,171)\",\"width\":10},\"mode\":\"lines\",\"name\":\"loading:barge_0\",\"x\":[\"1970-01-01T01:14:10\",\"1970-01-01T01:14:10\",\"1970-01-01T01:55:50\",\"1970-01-01T01:55:50\",\"1970-01-01T01:55:50\",\"1970-01-01T05:07:30\",\"1970-01-01T05:07:30\",\"1970-01-01T05:49:10\",\"1970-01-01T05:49:10\",\"1970-01-01T05:49:10\",\"1970-01-01T08:20:54\",\"1970-01-01T08:20:54\",\"1970-01-01T09:02:34\",\"1970-01-01T09:02:34\",\"1970-01-01T09:02:34\",\"1970-01-01T11:32:34\",\"1970-01-01T11:32:34\",\"1970-01-01T12:14:14\",\"1970-01-01T12:14:14\",\"1970-01-01T12:14:14\",\"1970-01-01T01:14:10\",\"1970-01-01T01:14:10\",\"1970-01-01T01:55:50\",\"1970-01-01T01:55:50\",\"1970-01-01T01:55:50\",\"1970-01-01T05:07:30\",\"1970-01-01T05:07:30\",\"1970-01-01T05:49:10\",\"1970-01-01T05:49:10\",\"1970-01-01T05:49:10\",\"1970-01-01T08:20:54\",\"1970-01-01T08:20:54\",\"1970-01-01T09:02:34\",\"1970-01-01T09:02:34\",\"1970-01-01T09:02:34\",\"1970-01-01T11:32:34\",\"1970-01-01T11:32:34\",\"1970-01-01T12:14:14\",\"1970-01-01T12:14:14\",\"1970-01-01T12:14:14\"],\"y\":[\"barge_0\",\"barge_0\",\"barge_0\",\"barge_0\",null,\"barge_0\",\"barge_0\",\"barge_0\",\"barge_0\",null,\"barge_0\",\"barge_0\",\"barge_0\",\"barge_0\",null,\"barge_0\",\"barge_0\",\"barge_0\",\"barge_0\",null,\"cutter\",\"cutter\",\"cutter\",\"cutter\",null,\"cutter\",\"cutter\",\"cutter\",\"cutter\",null,\"cutter\",\"cutter\",\"cutter\",\"cutter\",null,\"cutter\",\"cutter\",\"cutter\",\"cutter\",null],\"type\":\"scatter\"},{\"connectgaps\":false,\"hoverinfo\":\"y+name\",\"line\":{\"color\":\"rgb(69,24,178)\",\"width\":10},\"mode\":\"lines\",\"name\":\"basic activity:barge_0\",\"x\":[\"1970-01-01T00:00:00\",\"1970-01-01T00:00:00\",\"1970-01-01T00:37:05\",\"1970-01-01T00:37:05\",\"1970-01-01T00:37:05\",\"1970-01-01T03:10:00\",\"1970-01-01T03:10:00\",\"1970-01-01T03:47:05\",\"1970-01-01T03:47:05\",\"1970-01-01T03:47:05\",\"1970-01-01T07:03:20\",\"1970-01-01T07:03:20\",\"1970-01-01T07:40:25\",\"1970-01-01T07:40:25\",\"1970-01-01T07:40:25\",\"1970-01-01T10:16:44\",\"1970-01-01T10:16:44\",\"1970-01-01T10:53:49\",\"1970-01-01T10:53:49\",\"1970-01-01T10:53:49\"],\"y\":[\"barge_0\",\"barge_0\",\"barge_0\",\"barge_0\",null,\"barge_0\",\"barge_0\",\"barge_0\",\"barge_0\",null,\"barge_0\",\"barge_0\",\"barge_0\",\"barge_0\",null,\"barge_0\",\"barge_0\",\"barge_0\",\"barge_0\",null],\"type\":\"scatter\"},{\"connectgaps\":false,\"hoverinfo\":\"y+name\",\"line\":{\"color\":\"rgb(76,31,185)\",\"width\":10},\"mode\":\"lines\",\"name\":\"basic activity:barge_1\",\"x\":[\"1970-01-01T00:00:00\",\"1970-01-01T00:00:00\",\"1970-01-01T00:49:12\",\"1970-01-01T00:49:12\",\"1970-01-01T00:49:12\",\"1970-01-01T06:45:54\",\"1970-01-01T06:45:54\",\"1970-01-01T07:35:06\",\"1970-01-01T07:35:06\",\"1970-01-01T07:35:06\",\"1970-01-01T11:22:38\",\"1970-01-01T11:22:38\",\"1970-01-01T12:11:50\",\"1970-01-01T12:11:50\",\"1970-01-01T12:11:50\"],\"y\":[\"barge_1\",\"barge_1\",\"barge_1\",\"barge_1\",null,\"barge_1\",\"barge_1\",\"barge_1\",\"barge_1\",null,\"barge_1\",\"barge_1\",\"barge_1\",\"barge_1\",null],\"type\":\"scatter\"},{\"connectgaps\":false,\"hoverinfo\":\"y+name\",\"line\":{\"color\":\"rgb(83,38,192)\",\"width\":10},\"mode\":\"lines\",\"name\":\"sailing full:barge_1\",\"x\":[\"1970-01-01T05:07:30\",\"1970-01-01T05:07:30\",\"1970-01-01T05:56:42\",\"1970-01-01T05:56:42\",\"1970-01-01T05:56:42\",\"1970-01-01T09:44:14\",\"1970-01-01T09:44:14\",\"1970-01-01T10:33:26\",\"1970-01-01T10:33:26\",\"1970-01-01T10:33:26\",\"1970-01-01T13:42:42\",\"1970-01-01T13:42:42\",\"1970-01-01T14:31:54\",\"1970-01-01T14:31:54\",\"1970-01-01T14:31:54\"],\"y\":[\"barge_1\",\"barge_1\",\"barge_1\",\"barge_1\",null,\"barge_1\",\"barge_1\",\"barge_1\",\"barge_1\",null,\"barge_1\",\"barge_1\",\"barge_1\",\"barge_1\",null],\"type\":\"scatter\"},{\"connectgaps\":false,\"hoverinfo\":\"y+name\",\"line\":{\"color\":\"rgb(90,45,199)\",\"width\":10},\"mode\":\"lines\",\"name\":\"sailing empty:barge_1\",\"x\":[\"1970-01-01T00:49:12\",\"1970-01-01T00:49:12\",\"1970-01-01T01:38:24\",\"1970-01-01T01:38:24\",\"1970-01-01T01:38:24\",\"1970-01-01T07:35:06\",\"1970-01-01T07:35:06\",\"1970-01-01T08:24:18\",\"1970-01-01T08:24:18\",\"1970-01-01T08:24:18\",\"1970-01-01T12:11:50\",\"1970-01-01T12:11:50\",\"1970-01-01T13:01:02\",\"1970-01-01T13:01:02\",\"1970-01-01T13:01:02\"],\"y\":[\"barge_1\",\"barge_1\",\"barge_1\",\"barge_1\",null,\"barge_1\",\"barge_1\",\"barge_1\",\"barge_1\",null,\"barge_1\",\"barge_1\",\"barge_1\",\"barge_1\",null],\"type\":\"scatter\"},{\"connectgaps\":false,\"hoverinfo\":\"y+name\",\"line\":{\"color\":\"rgb(97,52,206)\",\"width\":10},\"mode\":\"lines\",\"name\":\"unloading:barge_1\",\"x\":[\"1970-01-01T05:56:42\",\"1970-01-01T05:56:42\",\"1970-01-01T06:45:54\",\"1970-01-01T06:45:54\",\"1970-01-01T06:45:54\",\"1970-01-01T10:33:26\",\"1970-01-01T10:33:26\",\"1970-01-01T11:22:38\",\"1970-01-01T11:22:38\",\"1970-01-01T11:22:38\",\"1970-01-01T14:31:54\",\"1970-01-01T14:31:54\",\"1970-01-01T15:21:06\",\"1970-01-01T15:21:06\",\"1970-01-01T15:21:06\"],\"y\":[\"barge_1\",\"barge_1\",\"barge_1\",\"barge_1\",null,\"barge_1\",\"barge_1\",\"barge_1\",\"barge_1\",null,\"barge_1\",\"barge_1\",\"barge_1\",\"barge_1\",null],\"type\":\"scatter\"},{\"connectgaps\":false,\"hoverinfo\":\"y+name\",\"line\":{\"color\":\"rgb(104,59,213)\",\"width\":10},\"mode\":\"lines\",\"name\":\"loading:barge_1\",\"x\":[\"1970-01-01T04:25:50\",\"1970-01-01T04:25:50\",\"1970-01-01T05:07:30\",\"1970-01-01T05:07:30\",\"1970-01-01T05:07:30\",\"1970-01-01T09:02:34\",\"1970-01-01T09:02:34\",\"1970-01-01T09:44:14\",\"1970-01-01T09:44:14\",\"1970-01-01T09:44:14\",\"1970-01-01T13:01:02\",\"1970-01-01T13:01:02\",\"1970-01-01T13:42:42\",\"1970-01-01T13:42:42\",\"1970-01-01T13:42:42\",\"1970-01-01T04:25:50\",\"1970-01-01T04:25:50\",\"1970-01-01T05:07:30\",\"1970-01-01T05:07:30\",\"1970-01-01T05:07:30\",\"1970-01-01T09:02:34\",\"1970-01-01T09:02:34\",\"1970-01-01T09:44:14\",\"1970-01-01T09:44:14\",\"1970-01-01T09:44:14\",\"1970-01-01T13:01:02\",\"1970-01-01T13:01:02\",\"1970-01-01T13:42:42\",\"1970-01-01T13:42:42\",\"1970-01-01T13:42:42\"],\"y\":[\"barge_1\",\"barge_1\",\"barge_1\",\"barge_1\",null,\"barge_1\",\"barge_1\",\"barge_1\",\"barge_1\",null,\"barge_1\",\"barge_1\",\"barge_1\",\"barge_1\",null,\"cutter\",\"cutter\",\"cutter\",\"cutter\",null,\"cutter\",\"cutter\",\"cutter\",\"cutter\",null,\"cutter\",\"cutter\",\"cutter\",\"cutter\",null],\"type\":\"scatter\"},{\"connectgaps\":false,\"hoverinfo\":\"y+name\",\"line\":{\"color\":\"rgb(111,66,220)\",\"width\":10},\"mode\":\"lines\",\"name\":\"basic activity:barge_2\",\"x\":[\"1970-01-01T00:00:00\",\"1970-01-01T00:00:00\",\"1970-01-01T00:45:36\",\"1970-01-01T00:45:36\",\"1970-01-01T00:45:36\",\"1970-01-01T05:15:22\",\"1970-01-01T05:15:22\",\"1970-01-01T06:00:58\",\"1970-01-01T06:00:58\",\"1970-01-01T06:00:58\",\"1970-01-01T09:08:42\",\"1970-01-01T09:08:42\",\"1970-01-01T09:54:18\",\"1970-01-01T09:54:18\",\"1970-01-01T09:54:18\",\"1970-01-01T13:03:46\",\"1970-01-01T13:03:46\",\"1970-01-01T13:49:22\",\"1970-01-01T13:49:22\",\"1970-01-01T13:49:22\"],\"y\":[\"barge_2\",\"barge_2\",\"barge_2\",\"barge_2\",null,\"barge_2\",\"barge_2\",\"barge_2\",\"barge_2\",null,\"barge_2\",\"barge_2\",\"barge_2\",\"barge_2\",null,\"barge_2\",\"barge_2\",\"barge_2\",\"barge_2\",null],\"type\":\"scatter\"},{\"connectgaps\":false,\"hoverinfo\":\"y+name\",\"line\":{\"color\":\"rgb(118,73,227)\",\"width\":10},\"mode\":\"lines\",\"name\":\"loading:barge_2\",\"x\":[\"1970-01-01T03:10:50\",\"1970-01-01T03:10:50\",\"1970-01-01T03:44:10\",\"1970-01-01T03:44:10\",\"1970-01-01T03:44:10\",\"1970-01-01T07:04:10\",\"1970-01-01T07:04:10\",\"1970-01-01T07:37:30\",\"1970-01-01T07:37:30\",\"1970-01-01T07:37:30\",\"1970-01-01T10:59:14\",\"1970-01-01T10:59:14\",\"1970-01-01T11:32:34\",\"1970-01-01T11:32:34\",\"1970-01-01T11:32:34\",\"1970-01-01T14:57:42\",\"1970-01-01T14:57:42\",\"1970-01-01T15:31:02\",\"1970-01-01T15:31:02\",\"1970-01-01T15:31:02\",\"1970-01-01T03:10:50\",\"1970-01-01T03:10:50\",\"1970-01-01T03:44:10\",\"1970-01-01T03:44:10\",\"1970-01-01T03:44:10\",\"1970-01-01T07:04:10\",\"1970-01-01T07:04:10\",\"1970-01-01T07:37:30\",\"1970-01-01T07:37:30\",\"1970-01-01T07:37:30\",\"1970-01-01T10:59:14\",\"1970-01-01T10:59:14\",\"1970-01-01T11:32:34\",\"1970-01-01T11:32:34\",\"1970-01-01T11:32:34\",\"1970-01-01T14:57:42\",\"1970-01-01T14:57:42\",\"1970-01-01T15:31:02\",\"1970-01-01T15:31:02\",\"1970-01-01T15:31:02\"],\"y\":[\"barge_2\",\"barge_2\",\"barge_2\",\"barge_2\",null,\"barge_2\",\"barge_2\",\"barge_2\",\"barge_2\",null,\"barge_2\",\"barge_2\",\"barge_2\",\"barge_2\",null,\"barge_2\",\"barge_2\",\"barge_2\",\"barge_2\",null,\"cutter\",\"cutter\",\"cutter\",\"cutter\",null,\"cutter\",\"cutter\",\"cutter\",\"cutter\",null,\"cutter\",\"cutter\",\"cutter\",\"cutter\",null,\"cutter\",\"cutter\",\"cutter\",\"cutter\",null],\"type\":\"scatter\"},{\"connectgaps\":false,\"hoverinfo\":\"y+name\",\"line\":{\"color\":\"rgb(125,80,234)\",\"width\":10},\"mode\":\"lines\",\"name\":\"sailing empty:barge_2\",\"x\":[\"1970-01-01T00:45:36\",\"1970-01-01T00:45:36\",\"1970-01-01T01:31:12\",\"1970-01-01T01:31:12\",\"1970-01-01T01:31:12\",\"1970-01-01T06:00:58\",\"1970-01-01T06:00:58\",\"1970-01-01T06:46:34\",\"1970-01-01T06:46:34\",\"1970-01-01T06:46:34\",\"1970-01-01T09:54:18\",\"1970-01-01T09:54:18\",\"1970-01-01T10:39:54\",\"1970-01-01T10:39:54\",\"1970-01-01T10:39:54\",\"1970-01-01T13:49:22\",\"1970-01-01T13:49:22\",\"1970-01-01T14:34:58\",\"1970-01-01T14:34:58\",\"1970-01-01T14:34:58\"],\"y\":[\"barge_2\",\"barge_2\",\"barge_2\",\"barge_2\",null,\"barge_2\",\"barge_2\",\"barge_2\",\"barge_2\",null,\"barge_2\",\"barge_2\",\"barge_2\",\"barge_2\",null,\"barge_2\",\"barge_2\",\"barge_2\",\"barge_2\",null],\"type\":\"scatter\"},{\"connectgaps\":false,\"hoverinfo\":\"y+name\",\"line\":{\"color\":\"rgb(132,87,241)\",\"width\":10},\"mode\":\"lines\",\"name\":\"sailing full:barge_2\",\"x\":[\"1970-01-01T03:44:10\",\"1970-01-01T03:44:10\",\"1970-01-01T04:29:46\",\"1970-01-01T04:29:46\",\"1970-01-01T04:29:46\",\"1970-01-01T07:37:30\",\"1970-01-01T07:37:30\",\"1970-01-01T08:23:06\",\"1970-01-01T08:23:06\",\"1970-01-01T08:23:06\",\"1970-01-01T11:32:34\",\"1970-01-01T11:32:34\",\"1970-01-01T12:18:10\",\"1970-01-01T12:18:10\",\"1970-01-01T12:18:10\",\"1970-01-01T15:31:02\",\"1970-01-01T15:31:02\",\"1970-01-01T16:16:38\",\"1970-01-01T16:16:38\",\"1970-01-01T16:16:38\"],\"y\":[\"barge_2\",\"barge_2\",\"barge_2\",\"barge_2\",null,\"barge_2\",\"barge_2\",\"barge_2\",\"barge_2\",null,\"barge_2\",\"barge_2\",\"barge_2\",\"barge_2\",null,\"barge_2\",\"barge_2\",\"barge_2\",\"barge_2\",null],\"type\":\"scatter\"},{\"connectgaps\":false,\"hoverinfo\":\"y+name\",\"line\":{\"color\":\"rgb(139,94,248)\",\"width\":10},\"mode\":\"lines\",\"name\":\"unloading:barge_2\",\"x\":[\"1970-01-01T04:29:46\",\"1970-01-01T04:29:46\",\"1970-01-01T05:15:22\",\"1970-01-01T05:15:22\",\"1970-01-01T05:15:22\",\"1970-01-01T08:23:06\",\"1970-01-01T08:23:06\",\"1970-01-01T09:08:42\",\"1970-01-01T09:08:42\",\"1970-01-01T09:08:42\",\"1970-01-01T12:18:10\",\"1970-01-01T12:18:10\",\"1970-01-01T13:03:46\",\"1970-01-01T13:03:46\",\"1970-01-01T13:03:46\",\"1970-01-01T16:16:38\",\"1970-01-01T16:16:38\",\"1970-01-01T17:02:14\",\"1970-01-01T17:02:14\",\"1970-01-01T17:02:14\"],\"y\":[\"barge_2\",\"barge_2\",\"barge_2\",\"barge_2\",null,\"barge_2\",\"barge_2\",\"barge_2\",\"barge_2\",null,\"barge_2\",\"barge_2\",\"barge_2\",\"barge_2\",null,\"barge_2\",\"barge_2\",\"barge_2\",\"barge_2\",null],\"type\":\"scatter\"},{\"connectgaps\":false,\"hoverinfo\":\"y+name\",\"line\":{\"color\":\"rgb(146,101,255)\",\"width\":10},\"mode\":\"lines\",\"name\":\"loading:barge_3\",\"x\":[\"1970-01-01T02:29:10\",\"1970-01-01T02:29:10\",\"1970-01-01T03:10:50\",\"1970-01-01T03:10:50\",\"1970-01-01T03:10:50\",\"1970-01-01T06:22:30\",\"1970-01-01T06:22:30\",\"1970-01-01T07:04:10\",\"1970-01-01T07:04:10\",\"1970-01-01T07:04:10\",\"1970-01-01T10:17:34\",\"1970-01-01T10:17:34\",\"1970-01-01T10:59:14\",\"1970-01-01T10:59:14\",\"1970-01-01T10:59:14\",\"1970-01-01T14:16:02\",\"1970-01-01T14:16:02\",\"1970-01-01T14:57:42\",\"1970-01-01T14:57:42\",\"1970-01-01T14:57:42\",\"1970-01-01T02:29:10\",\"1970-01-01T02:29:10\",\"1970-01-01T03:10:50\",\"1970-01-01T03:10:50\",\"1970-01-01T03:10:50\",\"1970-01-01T06:22:30\",\"1970-01-01T06:22:30\",\"1970-01-01T07:04:10\",\"1970-01-01T07:04:10\",\"1970-01-01T07:04:10\",\"1970-01-01T10:17:34\",\"1970-01-01T10:17:34\",\"1970-01-01T10:59:14\",\"1970-01-01T10:59:14\",\"1970-01-01T10:59:14\",\"1970-01-01T14:16:02\",\"1970-01-01T14:16:02\",\"1970-01-01T14:57:42\",\"1970-01-01T14:57:42\",\"1970-01-01T14:57:42\"],\"y\":[\"barge_3\",\"barge_3\",\"barge_3\",\"barge_3\",null,\"barge_3\",\"barge_3\",\"barge_3\",\"barge_3\",null,\"barge_3\",\"barge_3\",\"barge_3\",\"barge_3\",null,\"barge_3\",\"barge_3\",\"barge_3\",\"barge_3\",null,\"cutter\",\"cutter\",\"cutter\",\"cutter\",null,\"cutter\",\"cutter\",\"cutter\",\"cutter\",null,\"cutter\",\"cutter\",\"cutter\",\"cutter\",null,\"cutter\",\"cutter\",\"cutter\",\"cutter\",null],\"type\":\"scatter\"},{\"connectgaps\":false,\"hoverinfo\":\"y+name\",\"line\":{\"color\":\"rgb(153,108,6)\",\"width\":10},\"mode\":\"lines\",\"name\":\"basic activity:barge_3\",\"x\":[\"1970-01-01T00:00:00\",\"1970-01-01T00:00:00\",\"1970-01-01T00:44:04\",\"1970-01-01T00:44:04\",\"1970-01-01T00:44:04\",\"1970-01-01T04:38:58\",\"1970-01-01T04:38:58\",\"1970-01-01T05:23:02\",\"1970-01-01T05:23:02\",\"1970-01-01T05:23:02\",\"1970-01-01T08:32:18\",\"1970-01-01T08:32:18\",\"1970-01-01T09:16:22\",\"1970-01-01T09:16:22\",\"1970-01-01T09:16:22\",\"1970-01-01T12:27:22\",\"1970-01-01T12:27:22\",\"1970-01-01T13:11:26\",\"1970-01-01T13:11:26\",\"1970-01-01T13:11:26\"],\"y\":[\"barge_3\",\"barge_3\",\"barge_3\",\"barge_3\",null,\"barge_3\",\"barge_3\",\"barge_3\",\"barge_3\",null,\"barge_3\",\"barge_3\",\"barge_3\",\"barge_3\",null,\"barge_3\",\"barge_3\",\"barge_3\",\"barge_3\",null],\"type\":\"scatter\"},{\"connectgaps\":false,\"hoverinfo\":\"y+name\",\"line\":{\"color\":\"rgb(160,115,13)\",\"width\":10},\"mode\":\"lines\",\"name\":\"unloading:barge_3\",\"x\":[\"1970-01-01T03:54:54\",\"1970-01-01T03:54:54\",\"1970-01-01T04:38:58\",\"1970-01-01T04:38:58\",\"1970-01-01T04:38:58\",\"1970-01-01T07:48:14\",\"1970-01-01T07:48:14\",\"1970-01-01T08:32:18\",\"1970-01-01T08:32:18\",\"1970-01-01T08:32:18\",\"1970-01-01T11:43:18\",\"1970-01-01T11:43:18\",\"1970-01-01T12:27:22\",\"1970-01-01T12:27:22\",\"1970-01-01T12:27:22\",\"1970-01-01T15:41:46\",\"1970-01-01T15:41:46\",\"1970-01-01T16:25:50\",\"1970-01-01T16:25:50\",\"1970-01-01T16:25:50\"],\"y\":[\"barge_3\",\"barge_3\",\"barge_3\",\"barge_3\",null,\"barge_3\",\"barge_3\",\"barge_3\",\"barge_3\",null,\"barge_3\",\"barge_3\",\"barge_3\",\"barge_3\",null,\"barge_3\",\"barge_3\",\"barge_3\",\"barge_3\",null],\"type\":\"scatter\"},{\"connectgaps\":false,\"hoverinfo\":\"y+name\",\"line\":{\"color\":\"rgb(167,122,20)\",\"width\":10},\"mode\":\"lines\",\"name\":\"sailing empty:barge_3\",\"x\":[\"1970-01-01T00:44:04\",\"1970-01-01T00:44:04\",\"1970-01-01T01:28:08\",\"1970-01-01T01:28:08\",\"1970-01-01T01:28:08\",\"1970-01-01T05:23:02\",\"1970-01-01T05:23:02\",\"1970-01-01T06:07:06\",\"1970-01-01T06:07:06\",\"1970-01-01T06:07:06\",\"1970-01-01T09:16:22\",\"1970-01-01T09:16:22\",\"1970-01-01T10:00:26\",\"1970-01-01T10:00:26\",\"1970-01-01T10:00:26\",\"1970-01-01T13:11:26\",\"1970-01-01T13:11:26\",\"1970-01-01T13:55:30\",\"1970-01-01T13:55:30\",\"1970-01-01T13:55:30\"],\"y\":[\"barge_3\",\"barge_3\",\"barge_3\",\"barge_3\",null,\"barge_3\",\"barge_3\",\"barge_3\",\"barge_3\",null,\"barge_3\",\"barge_3\",\"barge_3\",\"barge_3\",null,\"barge_3\",\"barge_3\",\"barge_3\",\"barge_3\",null],\"type\":\"scatter\"},{\"connectgaps\":false,\"hoverinfo\":\"y+name\",\"line\":{\"color\":\"rgb(174,129,27)\",\"width\":10},\"mode\":\"lines\",\"name\":\"sailing full:barge_3\",\"x\":[\"1970-01-01T03:10:50\",\"1970-01-01T03:10:50\",\"1970-01-01T03:54:54\",\"1970-01-01T03:54:54\",\"1970-01-01T03:54:54\",\"1970-01-01T07:04:10\",\"1970-01-01T07:04:10\",\"1970-01-01T07:48:14\",\"1970-01-01T07:48:14\",\"1970-01-01T07:48:14\",\"1970-01-01T10:59:14\",\"1970-01-01T10:59:14\",\"1970-01-01T11:43:18\",\"1970-01-01T11:43:18\",\"1970-01-01T11:43:18\",\"1970-01-01T14:57:42\",\"1970-01-01T14:57:42\",\"1970-01-01T15:41:46\",\"1970-01-01T15:41:46\",\"1970-01-01T15:41:46\"],\"y\":[\"barge_3\",\"barge_3\",\"barge_3\",\"barge_3\",null,\"barge_3\",\"barge_3\",\"barge_3\",\"barge_3\",null,\"barge_3\",\"barge_3\",\"barge_3\",\"barge_3\",null,\"barge_3\",\"barge_3\",\"barge_3\",\"barge_3\",null],\"type\":\"scatter\"},{\"connectgaps\":false,\"hoverinfo\":\"y+name\",\"line\":{\"color\":\"rgb(181,136,34)\",\"width\":10},\"mode\":\"lines\",\"name\":\"loading:barge_4\",\"x\":[\"1970-01-01T03:44:10\",\"1970-01-01T03:44:10\",\"1970-01-01T04:25:50\",\"1970-01-01T04:25:50\",\"1970-01-01T04:25:50\",\"1970-01-01T07:39:14\",\"1970-01-01T07:39:14\",\"1970-01-01T08:20:54\",\"1970-01-01T08:20:54\",\"1970-01-01T08:20:54\",\"1970-01-01T12:14:14\",\"1970-01-01T12:14:14\",\"1970-01-01T12:55:54\",\"1970-01-01T12:55:54\",\"1970-01-01T12:55:54\",\"1970-01-01T03:44:10\",\"1970-01-01T03:44:10\",\"1970-01-01T04:25:50\",\"1970-01-01T04:25:50\",\"1970-01-01T04:25:50\",\"1970-01-01T07:39:14\",\"1970-01-01T07:39:14\",\"1970-01-01T08:20:54\",\"1970-01-01T08:20:54\",\"1970-01-01T08:20:54\",\"1970-01-01T12:14:14\",\"1970-01-01T12:14:14\",\"1970-01-01T12:55:54\",\"1970-01-01T12:55:54\",\"1970-01-01T12:55:54\"],\"y\":[\"barge_4\",\"barge_4\",\"barge_4\",\"barge_4\",null,\"barge_4\",\"barge_4\",\"barge_4\",\"barge_4\",null,\"barge_4\",\"barge_4\",\"barge_4\",\"barge_4\",null,\"cutter\",\"cutter\",\"cutter\",\"cutter\",null,\"cutter\",\"cutter\",\"cutter\",\"cutter\",null,\"cutter\",\"cutter\",\"cutter\",\"cutter\",null],\"type\":\"scatter\"},{\"connectgaps\":false,\"hoverinfo\":\"y+name\",\"line\":{\"color\":\"rgb(188,143,41)\",\"width\":10},\"mode\":\"lines\",\"name\":\"sailing full:barge_4\",\"x\":[\"1970-01-01T04:25:50\",\"1970-01-01T04:25:50\",\"1970-01-01T05:14:11\",\"1970-01-01T05:14:11\",\"1970-01-01T05:14:11\",\"1970-01-01T08:20:54\",\"1970-01-01T08:20:54\",\"1970-01-01T09:09:15\",\"1970-01-01T09:09:15\",\"1970-01-01T09:09:15\",\"1970-01-01T12:55:54\",\"1970-01-01T12:55:54\",\"1970-01-01T13:44:15\",\"1970-01-01T13:44:15\",\"1970-01-01T13:44:15\"],\"y\":[\"barge_4\",\"barge_4\",\"barge_4\",\"barge_4\",null,\"barge_4\",\"barge_4\",\"barge_4\",\"barge_4\",null,\"barge_4\",\"barge_4\",\"barge_4\",\"barge_4\",null],\"type\":\"scatter\"},{\"connectgaps\":false,\"hoverinfo\":\"y+name\",\"line\":{\"color\":\"rgb(195,150,48)\",\"width\":10},\"mode\":\"lines\",\"name\":\"sailing empty:barge_4\",\"x\":[\"1970-01-01T00:48:21\",\"1970-01-01T00:48:21\",\"1970-01-01T01:36:42\",\"1970-01-01T01:36:42\",\"1970-01-01T01:36:42\",\"1970-01-01T06:50:53\",\"1970-01-01T06:50:53\",\"1970-01-01T07:39:14\",\"1970-01-01T07:39:14\",\"1970-01-01T07:39:14\",\"1970-01-01T10:45:57\",\"1970-01-01T10:45:57\",\"1970-01-01T11:34:18\",\"1970-01-01T11:34:18\",\"1970-01-01T11:34:18\"],\"y\":[\"barge_4\",\"barge_4\",\"barge_4\",\"barge_4\",null,\"barge_4\",\"barge_4\",\"barge_4\",\"barge_4\",null,\"barge_4\",\"barge_4\",\"barge_4\",\"barge_4\",null],\"type\":\"scatter\"},{\"connectgaps\":false,\"hoverinfo\":\"y+name\",\"line\":{\"color\":\"rgb(202,157,55)\",\"width\":10},\"mode\":\"lines\",\"name\":\"unloading:barge_4\",\"x\":[\"1970-01-01T05:14:11\",\"1970-01-01T05:14:11\",\"1970-01-01T06:02:32\",\"1970-01-01T06:02:32\",\"1970-01-01T06:02:32\",\"1970-01-01T09:09:15\",\"1970-01-01T09:09:15\",\"1970-01-01T09:57:36\",\"1970-01-01T09:57:36\",\"1970-01-01T09:57:36\",\"1970-01-01T13:44:15\",\"1970-01-01T13:44:15\",\"1970-01-01T14:32:36\",\"1970-01-01T14:32:36\",\"1970-01-01T14:32:36\"],\"y\":[\"barge_4\",\"barge_4\",\"barge_4\",\"barge_4\",null,\"barge_4\",\"barge_4\",\"barge_4\",\"barge_4\",null,\"barge_4\",\"barge_4\",\"barge_4\",\"barge_4\",null],\"type\":\"scatter\"},{\"connectgaps\":false,\"hoverinfo\":\"y+name\",\"line\":{\"color\":\"rgb(209,164,62)\",\"width\":10},\"mode\":\"lines\",\"name\":\"basic activity:barge_4\",\"x\":[\"1970-01-01T00:00:00\",\"1970-01-01T00:00:00\",\"1970-01-01T00:48:21\",\"1970-01-01T00:48:21\",\"1970-01-01T00:48:21\",\"1970-01-01T06:02:32\",\"1970-01-01T06:02:32\",\"1970-01-01T06:50:53\",\"1970-01-01T06:50:53\",\"1970-01-01T06:50:53\",\"1970-01-01T09:57:36\",\"1970-01-01T09:57:36\",\"1970-01-01T10:45:57\",\"1970-01-01T10:45:57\",\"1970-01-01T10:45:57\"],\"y\":[\"barge_4\",\"barge_4\",\"barge_4\",\"barge_4\",null,\"barge_4\",\"barge_4\",\"barge_4\",\"barge_4\",null,\"barge_4\",\"barge_4\",\"barge_4\",\"barge_4\",null],\"type\":\"scatter\"},{\"connectgaps\":false,\"hoverinfo\":\"y+name\",\"line\":{\"color\":\"rgb(216,171,69)\",\"width\":10},\"mode\":\"lines\",\"name\":\"basic activity:barge_5\",\"x\":[\"1970-01-01T00:00:00\",\"1970-01-01T00:00:00\",\"1970-01-01T00:42:17\",\"1970-01-01T00:42:17\",\"1970-01-01T00:42:17\",\"1970-01-01T03:53:44\",\"1970-01-01T03:53:44\",\"1970-01-01T04:36:01\",\"1970-01-01T04:36:01\",\"1970-01-01T04:36:01\",\"1970-01-01T07:47:04\",\"1970-01-01T07:47:04\",\"1970-01-01T08:29:21\",\"1970-01-01T08:29:21\",\"1970-01-01T08:29:21\",\"1970-01-01T11:42:08\",\"1970-01-01T11:42:08\",\"1970-01-01T12:24:25\",\"1970-01-01T12:24:25\",\"1970-01-01T12:24:25\"],\"y\":[\"barge_5\",\"barge_5\",\"barge_5\",\"barge_5\",null,\"barge_5\",\"barge_5\",\"barge_5\",\"barge_5\",null,\"barge_5\",\"barge_5\",\"barge_5\",\"barge_5\",null,\"barge_5\",\"barge_5\",\"barge_5\",\"barge_5\",null],\"type\":\"scatter\"},{\"connectgaps\":false,\"hoverinfo\":\"y+name\",\"line\":{\"color\":\"rgb(223,178,76)\",\"width\":10},\"mode\":\"lines\",\"name\":\"sailing empty:barge_5\",\"x\":[\"1970-01-01T00:42:17\",\"1970-01-01T00:42:17\",\"1970-01-01T01:24:34\",\"1970-01-01T01:24:34\",\"1970-01-01T01:24:34\",\"1970-01-01T04:36:01\",\"1970-01-01T04:36:01\",\"1970-01-01T05:18:18\",\"1970-01-01T05:18:18\",\"1970-01-01T05:18:18\",\"1970-01-01T08:29:21\",\"1970-01-01T08:29:21\",\"1970-01-01T09:11:38\",\"1970-01-01T09:11:38\",\"1970-01-01T09:11:38\",\"1970-01-01T12:24:25\",\"1970-01-01T12:24:25\",\"1970-01-01T13:06:42\",\"1970-01-01T13:06:42\",\"1970-01-01T13:06:42\"],\"y\":[\"barge_5\",\"barge_5\",\"barge_5\",\"barge_5\",null,\"barge_5\",\"barge_5\",\"barge_5\",\"barge_5\",null,\"barge_5\",\"barge_5\",\"barge_5\",\"barge_5\",null,\"barge_5\",\"barge_5\",\"barge_5\",\"barge_5\",null],\"type\":\"scatter\"},{\"connectgaps\":false,\"hoverinfo\":\"y+name\",\"line\":{\"color\":\"rgb(230,185,83)\",\"width\":10},\"mode\":\"lines\",\"name\":\"unloading:barge_5\",\"x\":[\"1970-01-01T03:11:27\",\"1970-01-01T03:11:27\",\"1970-01-01T03:53:44\",\"1970-01-01T03:53:44\",\"1970-01-01T03:53:44\",\"1970-01-01T07:04:47\",\"1970-01-01T07:04:47\",\"1970-01-01T07:47:04\",\"1970-01-01T07:47:04\",\"1970-01-01T07:47:04\",\"1970-01-01T10:59:51\",\"1970-01-01T10:59:51\",\"1970-01-01T11:42:08\",\"1970-01-01T11:42:08\",\"1970-01-01T11:42:08\",\"1970-01-01T14:58:19\",\"1970-01-01T14:58:19\",\"1970-01-01T15:40:36\",\"1970-01-01T15:40:36\",\"1970-01-01T15:40:36\"],\"y\":[\"barge_5\",\"barge_5\",\"barge_5\",\"barge_5\",null,\"barge_5\",\"barge_5\",\"barge_5\",\"barge_5\",null,\"barge_5\",\"barge_5\",\"barge_5\",\"barge_5\",null,\"barge_5\",\"barge_5\",\"barge_5\",\"barge_5\",null],\"type\":\"scatter\"},{\"connectgaps\":false,\"hoverinfo\":\"y+name\",\"line\":{\"color\":\"rgb(237,192,90)\",\"width\":10},\"mode\":\"lines\",\"name\":\"sailing full:barge_5\",\"x\":[\"1970-01-01T02:29:10\",\"1970-01-01T02:29:10\",\"1970-01-01T03:11:27\",\"1970-01-01T03:11:27\",\"1970-01-01T03:11:27\",\"1970-01-01T06:22:30\",\"1970-01-01T06:22:30\",\"1970-01-01T07:04:47\",\"1970-01-01T07:04:47\",\"1970-01-01T07:04:47\",\"1970-01-01T10:17:34\",\"1970-01-01T10:17:34\",\"1970-01-01T10:59:51\",\"1970-01-01T10:59:51\",\"1970-01-01T10:59:51\",\"1970-01-01T14:16:02\",\"1970-01-01T14:16:02\",\"1970-01-01T14:58:19\",\"1970-01-01T14:58:19\",\"1970-01-01T14:58:19\"],\"y\":[\"barge_5\",\"barge_5\",\"barge_5\",\"barge_5\",null,\"barge_5\",\"barge_5\",\"barge_5\",\"barge_5\",null,\"barge_5\",\"barge_5\",\"barge_5\",\"barge_5\",null,\"barge_5\",\"barge_5\",\"barge_5\",\"barge_5\",null],\"type\":\"scatter\"},{\"connectgaps\":false,\"hoverinfo\":\"y+name\",\"line\":{\"color\":\"rgb(244,199,97)\",\"width\":10},\"mode\":\"lines\",\"name\":\"loading:barge_5\",\"x\":[\"1970-01-01T01:55:50\",\"1970-01-01T01:55:50\",\"1970-01-01T02:29:10\",\"1970-01-01T02:29:10\",\"1970-01-01T02:29:10\",\"1970-01-01T05:49:10\",\"1970-01-01T05:49:10\",\"1970-01-01T06:22:30\",\"1970-01-01T06:22:30\",\"1970-01-01T06:22:30\",\"1970-01-01T09:44:14\",\"1970-01-01T09:44:14\",\"1970-01-01T10:17:34\",\"1970-01-01T10:17:34\",\"1970-01-01T10:17:34\",\"1970-01-01T13:42:42\",\"1970-01-01T13:42:42\",\"1970-01-01T14:16:02\",\"1970-01-01T14:16:02\",\"1970-01-01T14:16:02\",\"1970-01-01T01:55:50\",\"1970-01-01T01:55:50\",\"1970-01-01T02:29:10\",\"1970-01-01T02:29:10\",\"1970-01-01T02:29:10\",\"1970-01-01T05:49:10\",\"1970-01-01T05:49:10\",\"1970-01-01T06:22:30\",\"1970-01-01T06:22:30\",\"1970-01-01T06:22:30\",\"1970-01-01T09:44:14\",\"1970-01-01T09:44:14\",\"1970-01-01T10:17:34\",\"1970-01-01T10:17:34\",\"1970-01-01T10:17:34\",\"1970-01-01T13:42:42\",\"1970-01-01T13:42:42\",\"1970-01-01T14:16:02\",\"1970-01-01T14:16:02\",\"1970-01-01T14:16:02\"],\"y\":[\"barge_5\",\"barge_5\",\"barge_5\",\"barge_5\",null,\"barge_5\",\"barge_5\",\"barge_5\",\"barge_5\",null,\"barge_5\",\"barge_5\",\"barge_5\",\"barge_5\",null,\"barge_5\",\"barge_5\",\"barge_5\",\"barge_5\",null,\"cutter\",\"cutter\",\"cutter\",\"cutter\",null,\"cutter\",\"cutter\",\"cutter\",\"cutter\",null,\"cutter\",\"cutter\",\"cutter\",\"cutter\",null,\"cutter\",\"cutter\",\"cutter\",\"cutter\",null],\"type\":\"scatter\"},{\"connectgaps\":false,\"hoverinfo\":\"y+name\",\"line\":{\"color\":\"rgb(251,206,104)\",\"width\":10},\"mode\":\"lines\",\"name\":\"loading:barge_4\",\"x\":[\"1970-01-01T03:44:10\",\"1970-01-01T03:44:10\",\"1970-01-01T04:25:50\",\"1970-01-01T04:25:50\",\"1970-01-01T04:25:50\",\"1970-01-01T07:39:14\",\"1970-01-01T07:39:14\",\"1970-01-01T08:20:54\",\"1970-01-01T08:20:54\",\"1970-01-01T08:20:54\",\"1970-01-01T12:14:14\",\"1970-01-01T12:14:14\",\"1970-01-01T12:55:54\",\"1970-01-01T12:55:54\",\"1970-01-01T12:55:54\",\"1970-01-01T03:44:10\",\"1970-01-01T03:44:10\",\"1970-01-01T04:25:50\",\"1970-01-01T04:25:50\",\"1970-01-01T04:25:50\",\"1970-01-01T07:39:14\",\"1970-01-01T07:39:14\",\"1970-01-01T08:20:54\",\"1970-01-01T08:20:54\",\"1970-01-01T08:20:54\",\"1970-01-01T12:14:14\",\"1970-01-01T12:14:14\",\"1970-01-01T12:55:54\",\"1970-01-01T12:55:54\",\"1970-01-01T12:55:54\"],\"y\":[\"barge_4\",\"barge_4\",\"barge_4\",\"barge_4\",null,\"barge_4\",\"barge_4\",\"barge_4\",\"barge_4\",null,\"barge_4\",\"barge_4\",\"barge_4\",\"barge_4\",null,\"cutter\",\"cutter\",\"cutter\",\"cutter\",null,\"cutter\",\"cutter\",\"cutter\",\"cutter\",null,\"cutter\",\"cutter\",\"cutter\",\"cutter\",null],\"type\":\"scatter\"},{\"connectgaps\":false,\"hoverinfo\":\"y+name\",\"line\":{\"color\":\"rgb(2,213,111)\",\"width\":10},\"mode\":\"lines\",\"name\":\"loading:barge_3\",\"x\":[\"1970-01-01T02:29:10\",\"1970-01-01T02:29:10\",\"1970-01-01T03:10:50\",\"1970-01-01T03:10:50\",\"1970-01-01T03:10:50\",\"1970-01-01T06:22:30\",\"1970-01-01T06:22:30\",\"1970-01-01T07:04:10\",\"1970-01-01T07:04:10\",\"1970-01-01T07:04:10\",\"1970-01-01T10:17:34\",\"1970-01-01T10:17:34\",\"1970-01-01T10:59:14\",\"1970-01-01T10:59:14\",\"1970-01-01T10:59:14\",\"1970-01-01T14:16:02\",\"1970-01-01T14:16:02\",\"1970-01-01T14:57:42\",\"1970-01-01T14:57:42\",\"1970-01-01T14:57:42\",\"1970-01-01T02:29:10\",\"1970-01-01T02:29:10\",\"1970-01-01T03:10:50\",\"1970-01-01T03:10:50\",\"1970-01-01T03:10:50\",\"1970-01-01T06:22:30\",\"1970-01-01T06:22:30\",\"1970-01-01T07:04:10\",\"1970-01-01T07:04:10\",\"1970-01-01T07:04:10\",\"1970-01-01T10:17:34\",\"1970-01-01T10:17:34\",\"1970-01-01T10:59:14\",\"1970-01-01T10:59:14\",\"1970-01-01T10:59:14\",\"1970-01-01T14:16:02\",\"1970-01-01T14:16:02\",\"1970-01-01T14:57:42\",\"1970-01-01T14:57:42\",\"1970-01-01T14:57:42\"],\"y\":[\"barge_3\",\"barge_3\",\"barge_3\",\"barge_3\",null,\"barge_3\",\"barge_3\",\"barge_3\",\"barge_3\",null,\"barge_3\",\"barge_3\",\"barge_3\",\"barge_3\",null,\"barge_3\",\"barge_3\",\"barge_3\",\"barge_3\",null,\"cutter\",\"cutter\",\"cutter\",\"cutter\",null,\"cutter\",\"cutter\",\"cutter\",\"cutter\",null,\"cutter\",\"cutter\",\"cutter\",\"cutter\",null,\"cutter\",\"cutter\",\"cutter\",\"cutter\",null],\"type\":\"scatter\"},{\"connectgaps\":false,\"hoverinfo\":\"y+name\",\"line\":{\"color\":\"rgb(9,220,118)\",\"width\":10},\"mode\":\"lines\",\"name\":\"loading:barge_2\",\"x\":[\"1970-01-01T03:10:50\",\"1970-01-01T03:10:50\",\"1970-01-01T03:44:10\",\"1970-01-01T03:44:10\",\"1970-01-01T03:44:10\",\"1970-01-01T07:04:10\",\"1970-01-01T07:04:10\",\"1970-01-01T07:37:30\",\"1970-01-01T07:37:30\",\"1970-01-01T07:37:30\",\"1970-01-01T10:59:14\",\"1970-01-01T10:59:14\",\"1970-01-01T11:32:34\",\"1970-01-01T11:32:34\",\"1970-01-01T11:32:34\",\"1970-01-01T14:57:42\",\"1970-01-01T14:57:42\",\"1970-01-01T15:31:02\",\"1970-01-01T15:31:02\",\"1970-01-01T15:31:02\",\"1970-01-01T03:10:50\",\"1970-01-01T03:10:50\",\"1970-01-01T03:44:10\",\"1970-01-01T03:44:10\",\"1970-01-01T03:44:10\",\"1970-01-01T07:04:10\",\"1970-01-01T07:04:10\",\"1970-01-01T07:37:30\",\"1970-01-01T07:37:30\",\"1970-01-01T07:37:30\",\"1970-01-01T10:59:14\",\"1970-01-01T10:59:14\",\"1970-01-01T11:32:34\",\"1970-01-01T11:32:34\",\"1970-01-01T11:32:34\",\"1970-01-01T14:57:42\",\"1970-01-01T14:57:42\",\"1970-01-01T15:31:02\",\"1970-01-01T15:31:02\",\"1970-01-01T15:31:02\"],\"y\":[\"barge_2\",\"barge_2\",\"barge_2\",\"barge_2\",null,\"barge_2\",\"barge_2\",\"barge_2\",\"barge_2\",null,\"barge_2\",\"barge_2\",\"barge_2\",\"barge_2\",null,\"barge_2\",\"barge_2\",\"barge_2\",\"barge_2\",null,\"cutter\",\"cutter\",\"cutter\",\"cutter\",null,\"cutter\",\"cutter\",\"cutter\",\"cutter\",null,\"cutter\",\"cutter\",\"cutter\",\"cutter\",null,\"cutter\",\"cutter\",\"cutter\",\"cutter\",null],\"type\":\"scatter\"},{\"connectgaps\":false,\"hoverinfo\":\"y+name\",\"line\":{\"color\":\"rgb(16,227,125)\",\"width\":10},\"mode\":\"lines\",\"name\":\"loading:barge_5\",\"x\":[\"1970-01-01T01:55:50\",\"1970-01-01T01:55:50\",\"1970-01-01T02:29:10\",\"1970-01-01T02:29:10\",\"1970-01-01T02:29:10\",\"1970-01-01T05:49:10\",\"1970-01-01T05:49:10\",\"1970-01-01T06:22:30\",\"1970-01-01T06:22:30\",\"1970-01-01T06:22:30\",\"1970-01-01T09:44:14\",\"1970-01-01T09:44:14\",\"1970-01-01T10:17:34\",\"1970-01-01T10:17:34\",\"1970-01-01T10:17:34\",\"1970-01-01T13:42:42\",\"1970-01-01T13:42:42\",\"1970-01-01T14:16:02\",\"1970-01-01T14:16:02\",\"1970-01-01T14:16:02\",\"1970-01-01T01:55:50\",\"1970-01-01T01:55:50\",\"1970-01-01T02:29:10\",\"1970-01-01T02:29:10\",\"1970-01-01T02:29:10\",\"1970-01-01T05:49:10\",\"1970-01-01T05:49:10\",\"1970-01-01T06:22:30\",\"1970-01-01T06:22:30\",\"1970-01-01T06:22:30\",\"1970-01-01T09:44:14\",\"1970-01-01T09:44:14\",\"1970-01-01T10:17:34\",\"1970-01-01T10:17:34\",\"1970-01-01T10:17:34\",\"1970-01-01T13:42:42\",\"1970-01-01T13:42:42\",\"1970-01-01T14:16:02\",\"1970-01-01T14:16:02\",\"1970-01-01T14:16:02\"],\"y\":[\"barge_5\",\"barge_5\",\"barge_5\",\"barge_5\",null,\"barge_5\",\"barge_5\",\"barge_5\",\"barge_5\",null,\"barge_5\",\"barge_5\",\"barge_5\",\"barge_5\",null,\"barge_5\",\"barge_5\",\"barge_5\",\"barge_5\",null,\"cutter\",\"cutter\",\"cutter\",\"cutter\",null,\"cutter\",\"cutter\",\"cutter\",\"cutter\",null,\"cutter\",\"cutter\",\"cutter\",\"cutter\",null,\"cutter\",\"cutter\",\"cutter\",\"cutter\",null],\"type\":\"scatter\"},{\"connectgaps\":false,\"hoverinfo\":\"y+name\",\"line\":{\"color\":\"rgb(23,234,132)\",\"width\":10},\"mode\":\"lines\",\"name\":\"loading:barge_0\",\"x\":[\"1970-01-01T01:14:10\",\"1970-01-01T01:14:10\",\"1970-01-01T01:55:50\",\"1970-01-01T01:55:50\",\"1970-01-01T01:55:50\",\"1970-01-01T05:07:30\",\"1970-01-01T05:07:30\",\"1970-01-01T05:49:10\",\"1970-01-01T05:49:10\",\"1970-01-01T05:49:10\",\"1970-01-01T08:20:54\",\"1970-01-01T08:20:54\",\"1970-01-01T09:02:34\",\"1970-01-01T09:02:34\",\"1970-01-01T09:02:34\",\"1970-01-01T11:32:34\",\"1970-01-01T11:32:34\",\"1970-01-01T12:14:14\",\"1970-01-01T12:14:14\",\"1970-01-01T12:14:14\",\"1970-01-01T01:14:10\",\"1970-01-01T01:14:10\",\"1970-01-01T01:55:50\",\"1970-01-01T01:55:50\",\"1970-01-01T01:55:50\",\"1970-01-01T05:07:30\",\"1970-01-01T05:07:30\",\"1970-01-01T05:49:10\",\"1970-01-01T05:49:10\",\"1970-01-01T05:49:10\",\"1970-01-01T08:20:54\",\"1970-01-01T08:20:54\",\"1970-01-01T09:02:34\",\"1970-01-01T09:02:34\",\"1970-01-01T09:02:34\",\"1970-01-01T11:32:34\",\"1970-01-01T11:32:34\",\"1970-01-01T12:14:14\",\"1970-01-01T12:14:14\",\"1970-01-01T12:14:14\"],\"y\":[\"barge_0\",\"barge_0\",\"barge_0\",\"barge_0\",null,\"barge_0\",\"barge_0\",\"barge_0\",\"barge_0\",null,\"barge_0\",\"barge_0\",\"barge_0\",\"barge_0\",null,\"barge_0\",\"barge_0\",\"barge_0\",\"barge_0\",null,\"cutter\",\"cutter\",\"cutter\",\"cutter\",null,\"cutter\",\"cutter\",\"cutter\",\"cutter\",null,\"cutter\",\"cutter\",\"cutter\",\"cutter\",null,\"cutter\",\"cutter\",\"cutter\",\"cutter\",null],\"type\":\"scatter\"},{\"connectgaps\":false,\"hoverinfo\":\"y+name\",\"line\":{\"color\":\"rgb(30,241,139)\",\"width\":10},\"mode\":\"lines\",\"name\":\"loading:barge_1\",\"x\":[\"1970-01-01T04:25:50\",\"1970-01-01T04:25:50\",\"1970-01-01T05:07:30\",\"1970-01-01T05:07:30\",\"1970-01-01T05:07:30\",\"1970-01-01T09:02:34\",\"1970-01-01T09:02:34\",\"1970-01-01T09:44:14\",\"1970-01-01T09:44:14\",\"1970-01-01T09:44:14\",\"1970-01-01T13:01:02\",\"1970-01-01T13:01:02\",\"1970-01-01T13:42:42\",\"1970-01-01T13:42:42\",\"1970-01-01T13:42:42\",\"1970-01-01T04:25:50\",\"1970-01-01T04:25:50\",\"1970-01-01T05:07:30\",\"1970-01-01T05:07:30\",\"1970-01-01T05:07:30\",\"1970-01-01T09:02:34\",\"1970-01-01T09:02:34\",\"1970-01-01T09:44:14\",\"1970-01-01T09:44:14\",\"1970-01-01T09:44:14\",\"1970-01-01T13:01:02\",\"1970-01-01T13:01:02\",\"1970-01-01T13:42:42\",\"1970-01-01T13:42:42\",\"1970-01-01T13:42:42\"],\"y\":[\"barge_1\",\"barge_1\",\"barge_1\",\"barge_1\",null,\"barge_1\",\"barge_1\",\"barge_1\",\"barge_1\",null,\"barge_1\",\"barge_1\",\"barge_1\",\"barge_1\",null,\"cutter\",\"cutter\",\"cutter\",\"cutter\",null,\"cutter\",\"cutter\",\"cutter\",\"cutter\",null,\"cutter\",\"cutter\",\"cutter\",\"cutter\",null],\"type\":\"scatter\"}],                        {\"hovermode\":\"closest\",\"legend\":{\"orientation\":\"h\",\"x\":0,\"y\":-0.2},\"template\":{\"data\":{\"barpolar\":[{\"marker\":{\"line\":{\"color\":\"#E5ECF6\",\"width\":0.5},\"pattern\":{\"fillmode\":\"overlay\",\"size\":10,\"solidity\":0.2}},\"type\":\"barpolar\"}],\"bar\":[{\"error_x\":{\"color\":\"#2a3f5f\"},\"error_y\":{\"color\":\"#2a3f5f\"},\"marker\":{\"line\":{\"color\":\"#E5ECF6\",\"width\":0.5},\"pattern\":{\"fillmode\":\"overlay\",\"size\":10,\"solidity\":0.2}},\"type\":\"bar\"}],\"carpet\":[{\"aaxis\":{\"endlinecolor\":\"#2a3f5f\",\"gridcolor\":\"white\",\"linecolor\":\"white\",\"minorgridcolor\":\"white\",\"startlinecolor\":\"#2a3f5f\"},\"baxis\":{\"endlinecolor\":\"#2a3f5f\",\"gridcolor\":\"white\",\"linecolor\":\"white\",\"minorgridcolor\":\"white\",\"startlinecolor\":\"#2a3f5f\"},\"type\":\"carpet\"}],\"choropleth\":[{\"colorbar\":{\"outlinewidth\":0,\"ticks\":\"\"},\"type\":\"choropleth\"}],\"contourcarpet\":[{\"colorbar\":{\"outlinewidth\":0,\"ticks\":\"\"},\"type\":\"contourcarpet\"}],\"contour\":[{\"colorbar\":{\"outlinewidth\":0,\"ticks\":\"\"},\"colorscale\":[[0.0,\"#0d0887\"],[0.1111111111111111,\"#46039f\"],[0.2222222222222222,\"#7201a8\"],[0.3333333333333333,\"#9c179e\"],[0.4444444444444444,\"#bd3786\"],[0.5555555555555556,\"#d8576b\"],[0.6666666666666666,\"#ed7953\"],[0.7777777777777778,\"#fb9f3a\"],[0.8888888888888888,\"#fdca26\"],[1.0,\"#f0f921\"]],\"type\":\"contour\"}],\"heatmapgl\":[{\"colorbar\":{\"outlinewidth\":0,\"ticks\":\"\"},\"colorscale\":[[0.0,\"#0d0887\"],[0.1111111111111111,\"#46039f\"],[0.2222222222222222,\"#7201a8\"],[0.3333333333333333,\"#9c179e\"],[0.4444444444444444,\"#bd3786\"],[0.5555555555555556,\"#d8576b\"],[0.6666666666666666,\"#ed7953\"],[0.7777777777777778,\"#fb9f3a\"],[0.8888888888888888,\"#fdca26\"],[1.0,\"#f0f921\"]],\"type\":\"heatmapgl\"}],\"heatmap\":[{\"colorbar\":{\"outlinewidth\":0,\"ticks\":\"\"},\"colorscale\":[[0.0,\"#0d0887\"],[0.1111111111111111,\"#46039f\"],[0.2222222222222222,\"#7201a8\"],[0.3333333333333333,\"#9c179e\"],[0.4444444444444444,\"#bd3786\"],[0.5555555555555556,\"#d8576b\"],[0.6666666666666666,\"#ed7953\"],[0.7777777777777778,\"#fb9f3a\"],[0.8888888888888888,\"#fdca26\"],[1.0,\"#f0f921\"]],\"type\":\"heatmap\"}],\"histogram2dcontour\":[{\"colorbar\":{\"outlinewidth\":0,\"ticks\":\"\"},\"colorscale\":[[0.0,\"#0d0887\"],[0.1111111111111111,\"#46039f\"],[0.2222222222222222,\"#7201a8\"],[0.3333333333333333,\"#9c179e\"],[0.4444444444444444,\"#bd3786\"],[0.5555555555555556,\"#d8576b\"],[0.6666666666666666,\"#ed7953\"],[0.7777777777777778,\"#fb9f3a\"],[0.8888888888888888,\"#fdca26\"],[1.0,\"#f0f921\"]],\"type\":\"histogram2dcontour\"}],\"histogram2d\":[{\"colorbar\":{\"outlinewidth\":0,\"ticks\":\"\"},\"colorscale\":[[0.0,\"#0d0887\"],[0.1111111111111111,\"#46039f\"],[0.2222222222222222,\"#7201a8\"],[0.3333333333333333,\"#9c179e\"],[0.4444444444444444,\"#bd3786\"],[0.5555555555555556,\"#d8576b\"],[0.6666666666666666,\"#ed7953\"],[0.7777777777777778,\"#fb9f3a\"],[0.8888888888888888,\"#fdca26\"],[1.0,\"#f0f921\"]],\"type\":\"histogram2d\"}],\"histogram\":[{\"marker\":{\"pattern\":{\"fillmode\":\"overlay\",\"size\":10,\"solidity\":0.2}},\"type\":\"histogram\"}],\"mesh3d\":[{\"colorbar\":{\"outlinewidth\":0,\"ticks\":\"\"},\"type\":\"mesh3d\"}],\"parcoords\":[{\"line\":{\"colorbar\":{\"outlinewidth\":0,\"ticks\":\"\"}},\"type\":\"parcoords\"}],\"pie\":[{\"automargin\":true,\"type\":\"pie\"}],\"scatter3d\":[{\"line\":{\"colorbar\":{\"outlinewidth\":0,\"ticks\":\"\"}},\"marker\":{\"colorbar\":{\"outlinewidth\":0,\"ticks\":\"\"}},\"type\":\"scatter3d\"}],\"scattercarpet\":[{\"marker\":{\"colorbar\":{\"outlinewidth\":0,\"ticks\":\"\"}},\"type\":\"scattercarpet\"}],\"scattergeo\":[{\"marker\":{\"colorbar\":{\"outlinewidth\":0,\"ticks\":\"\"}},\"type\":\"scattergeo\"}],\"scattergl\":[{\"marker\":{\"colorbar\":{\"outlinewidth\":0,\"ticks\":\"\"}},\"type\":\"scattergl\"}],\"scattermapbox\":[{\"marker\":{\"colorbar\":{\"outlinewidth\":0,\"ticks\":\"\"}},\"type\":\"scattermapbox\"}],\"scatterpolargl\":[{\"marker\":{\"colorbar\":{\"outlinewidth\":0,\"ticks\":\"\"}},\"type\":\"scatterpolargl\"}],\"scatterpolar\":[{\"marker\":{\"colorbar\":{\"outlinewidth\":0,\"ticks\":\"\"}},\"type\":\"scatterpolar\"}],\"scatter\":[{\"fillpattern\":{\"fillmode\":\"overlay\",\"size\":10,\"solidity\":0.2},\"type\":\"scatter\"}],\"scatterternary\":[{\"marker\":{\"colorbar\":{\"outlinewidth\":0,\"ticks\":\"\"}},\"type\":\"scatterternary\"}],\"surface\":[{\"colorbar\":{\"outlinewidth\":0,\"ticks\":\"\"},\"colorscale\":[[0.0,\"#0d0887\"],[0.1111111111111111,\"#46039f\"],[0.2222222222222222,\"#7201a8\"],[0.3333333333333333,\"#9c179e\"],[0.4444444444444444,\"#bd3786\"],[0.5555555555555556,\"#d8576b\"],[0.6666666666666666,\"#ed7953\"],[0.7777777777777778,\"#fb9f3a\"],[0.8888888888888888,\"#fdca26\"],[1.0,\"#f0f921\"]],\"type\":\"surface\"}],\"table\":[{\"cells\":{\"fill\":{\"color\":\"#EBF0F8\"},\"line\":{\"color\":\"white\"}},\"header\":{\"fill\":{\"color\":\"#C8D4E3\"},\"line\":{\"color\":\"white\"}},\"type\":\"table\"}]},\"layout\":{\"annotationdefaults\":{\"arrowcolor\":\"#2a3f5f\",\"arrowhead\":0,\"arrowwidth\":1},\"autotypenumbers\":\"strict\",\"coloraxis\":{\"colorbar\":{\"outlinewidth\":0,\"ticks\":\"\"}},\"colorscale\":{\"diverging\":[[0,\"#8e0152\"],[0.1,\"#c51b7d\"],[0.2,\"#de77ae\"],[0.3,\"#f1b6da\"],[0.4,\"#fde0ef\"],[0.5,\"#f7f7f7\"],[0.6,\"#e6f5d0\"],[0.7,\"#b8e186\"],[0.8,\"#7fbc41\"],[0.9,\"#4d9221\"],[1,\"#276419\"]],\"sequential\":[[0.0,\"#0d0887\"],[0.1111111111111111,\"#46039f\"],[0.2222222222222222,\"#7201a8\"],[0.3333333333333333,\"#9c179e\"],[0.4444444444444444,\"#bd3786\"],[0.5555555555555556,\"#d8576b\"],[0.6666666666666666,\"#ed7953\"],[0.7777777777777778,\"#fb9f3a\"],[0.8888888888888888,\"#fdca26\"],[1.0,\"#f0f921\"]],\"sequentialminus\":[[0.0,\"#0d0887\"],[0.1111111111111111,\"#46039f\"],[0.2222222222222222,\"#7201a8\"],[0.3333333333333333,\"#9c179e\"],[0.4444444444444444,\"#bd3786\"],[0.5555555555555556,\"#d8576b\"],[0.6666666666666666,\"#ed7953\"],[0.7777777777777778,\"#fb9f3a\"],[0.8888888888888888,\"#fdca26\"],[1.0,\"#f0f921\"]]},\"colorway\":[\"#636efa\",\"#EF553B\",\"#00cc96\",\"#ab63fa\",\"#FFA15A\",\"#19d3f3\",\"#FF6692\",\"#B6E880\",\"#FF97FF\",\"#FECB52\"],\"font\":{\"color\":\"#2a3f5f\"},\"geo\":{\"bgcolor\":\"white\",\"lakecolor\":\"white\",\"landcolor\":\"#E5ECF6\",\"showlakes\":true,\"showland\":true,\"subunitcolor\":\"white\"},\"hoverlabel\":{\"align\":\"left\"},\"hovermode\":\"closest\",\"mapbox\":{\"style\":\"light\"},\"paper_bgcolor\":\"white\",\"plot_bgcolor\":\"#E5ECF6\",\"polar\":{\"angularaxis\":{\"gridcolor\":\"white\",\"linecolor\":\"white\",\"ticks\":\"\"},\"bgcolor\":\"#E5ECF6\",\"radialaxis\":{\"gridcolor\":\"white\",\"linecolor\":\"white\",\"ticks\":\"\"}},\"scene\":{\"xaxis\":{\"backgroundcolor\":\"#E5ECF6\",\"gridcolor\":\"white\",\"gridwidth\":2,\"linecolor\":\"white\",\"showbackground\":true,\"ticks\":\"\",\"zerolinecolor\":\"white\"},\"yaxis\":{\"backgroundcolor\":\"#E5ECF6\",\"gridcolor\":\"white\",\"gridwidth\":2,\"linecolor\":\"white\",\"showbackground\":true,\"ticks\":\"\",\"zerolinecolor\":\"white\"},\"zaxis\":{\"backgroundcolor\":\"#E5ECF6\",\"gridcolor\":\"white\",\"gridwidth\":2,\"linecolor\":\"white\",\"showbackground\":true,\"ticks\":\"\",\"zerolinecolor\":\"white\"}},\"shapedefaults\":{\"line\":{\"color\":\"#2a3f5f\"}},\"ternary\":{\"aaxis\":{\"gridcolor\":\"white\",\"linecolor\":\"white\",\"ticks\":\"\"},\"baxis\":{\"gridcolor\":\"white\",\"linecolor\":\"white\",\"ticks\":\"\"},\"bgcolor\":\"#E5ECF6\",\"caxis\":{\"gridcolor\":\"white\",\"linecolor\":\"white\",\"ticks\":\"\"}},\"title\":{\"x\":0.05},\"xaxis\":{\"automargin\":true,\"gridcolor\":\"white\",\"linecolor\":\"white\",\"ticks\":\"\",\"title\":{\"standoff\":15},\"zerolinecolor\":\"white\",\"zerolinewidth\":2},\"yaxis\":{\"automargin\":true,\"gridcolor\":\"white\",\"linecolor\":\"white\",\"ticks\":\"\",\"title\":{\"standoff\":15},\"zerolinecolor\":\"white\",\"zerolinewidth\":2}}},\"title\":{\"text\":\"GANTT Chart\"},\"xaxis\":{\"range\":[\"1970-01-01T00:00:00\",\"1970-01-01T17:02:14\"],\"title\":{\"font\":{\"color\":\"#7f7f7f\",\"family\":\"Courier New, monospace\",\"size\":18},\"text\":\"Time\"}},\"yaxis\":{\"title\":{\"font\":{\"color\":\"#7f7f7f\",\"family\":\"Courier New, monospace\",\"size\":18},\"text\":\"Activities\"}}},                        {\"responsive\": true}                    ).then(function(){\n",
       "                            \n",
       "var gd = document.getElementById('8f251039-5bbd-478d-aace-fa8df481399b');\n",
       "var x = new MutationObserver(function (mutations, observer) {{\n",
       "        var display = window.getComputedStyle(gd).display;\n",
       "        if (!display || display === 'none') {{\n",
       "            console.log([gd, 'removed!']);\n",
       "            Plotly.purge(gd);\n",
       "            observer.disconnect();\n",
       "        }}\n",
       "}});\n",
       "\n",
       "// Listen for the removal of the full notebook cells\n",
       "var notebookContainer = gd.closest('#notebook-container');\n",
       "if (notebookContainer) {{\n",
       "    x.observe(notebookContainer, {childList: true});\n",
       "}}\n",
       "\n",
       "// Listen for the clearing of the current output cell\n",
       "var outputEl = gd.closest('.output');\n",
       "if (outputEl) {{\n",
       "    x.observe(outputEl, {childList: true});\n",
       "}}\n",
       "\n",
       "                        })                };                });            </script>        </div>"
      ]
     },
     "metadata": {},
     "output_type": "display_data"
    }
   ],
   "source": [
    "fig = plot.get_gantt_chart(vessels, id_map=activities)"
   ]
  },
  {
   "cell_type": "code",
   "execution_count": 17,
   "id": "b7331bd0",
   "metadata": {},
   "outputs": [
    {
     "data": {
      "text/html": [
       "        <script type=\"text/javascript\">\n",
       "        window.PlotlyConfig = {MathJaxConfig: 'local'};\n",
       "        if (window.MathJax && window.MathJax.Hub && window.MathJax.Hub.Config) {window.MathJax.Hub.Config({SVG: {font: \"STIX-Web\"}});}\n",
       "        if (typeof require !== 'undefined') {\n",
       "        require.undef(\"plotly\");\n",
       "        requirejs.config({\n",
       "            paths: {\n",
       "                'plotly': ['https://cdn.plot.ly/plotly-2.18.2.min']\n",
       "            }\n",
       "        });\n",
       "        require(['plotly'], function(Plotly) {\n",
       "            window._Plotly = Plotly;\n",
       "        });\n",
       "        }\n",
       "        </script>\n",
       "        "
      ]
     },
     "metadata": {},
     "output_type": "display_data"
    },
    {
     "data": {
      "application/vnd.plotly.v1+json": {
       "config": {
        "linkText": "Export to plot.ly",
        "plotlyServerURL": "https://plot.ly",
        "showLink": false
       },
       "data": [
        {
         "connectgaps": false,
         "hoverinfo": "y+name",
         "line": {
          "color": "rgb(250,241,24)",
          "width": 10
         },
         "mode": "lines",
         "name": "loading:barge_4",
         "type": "scatter",
         "x": [
          "1970-01-01T03:44:10",
          "1970-01-01T03:44:10",
          "1970-01-01T04:25:50",
          "1970-01-01T04:25:50",
          "1970-01-01T04:25:50",
          "1970-01-01T07:39:14",
          "1970-01-01T07:39:14",
          "1970-01-01T08:20:54",
          "1970-01-01T08:20:54",
          "1970-01-01T08:20:54",
          "1970-01-01T12:14:14",
          "1970-01-01T12:14:14",
          "1970-01-01T12:55:54",
          "1970-01-01T12:55:54",
          "1970-01-01T12:55:54",
          "1970-01-01T03:44:10",
          "1970-01-01T03:44:10",
          "1970-01-01T04:25:50",
          "1970-01-01T04:25:50",
          "1970-01-01T04:25:50",
          "1970-01-01T07:39:14",
          "1970-01-01T07:39:14",
          "1970-01-01T08:20:54",
          "1970-01-01T08:20:54",
          "1970-01-01T08:20:54",
          "1970-01-01T12:14:14",
          "1970-01-01T12:14:14",
          "1970-01-01T12:55:54",
          "1970-01-01T12:55:54",
          "1970-01-01T12:55:54"
         ],
         "y": [
          "from_site",
          "from_site",
          "from_site",
          "from_site",
          null,
          "from_site",
          "from_site",
          "from_site",
          "from_site",
          null,
          "from_site",
          "from_site",
          "from_site",
          "from_site",
          null,
          "cutter",
          "cutter",
          "cutter",
          "cutter",
          null,
          "cutter",
          "cutter",
          "cutter",
          "cutter",
          null,
          "cutter",
          "cutter",
          "cutter",
          "cutter",
          null
         ]
        },
        {
         "connectgaps": false,
         "hoverinfo": "y+name",
         "line": {
          "color": "rgb(8,255,38)",
          "width": 10
         },
         "mode": "lines",
         "name": "loading:barge_3",
         "type": "scatter",
         "x": [
          "1970-01-01T02:29:10",
          "1970-01-01T02:29:10",
          "1970-01-01T03:10:50",
          "1970-01-01T03:10:50",
          "1970-01-01T03:10:50",
          "1970-01-01T06:22:30",
          "1970-01-01T06:22:30",
          "1970-01-01T07:04:10",
          "1970-01-01T07:04:10",
          "1970-01-01T07:04:10",
          "1970-01-01T10:17:34",
          "1970-01-01T10:17:34",
          "1970-01-01T10:59:14",
          "1970-01-01T10:59:14",
          "1970-01-01T10:59:14",
          "1970-01-01T14:16:02",
          "1970-01-01T14:16:02",
          "1970-01-01T14:57:42",
          "1970-01-01T14:57:42",
          "1970-01-01T14:57:42",
          "1970-01-01T02:29:10",
          "1970-01-01T02:29:10",
          "1970-01-01T03:10:50",
          "1970-01-01T03:10:50",
          "1970-01-01T03:10:50",
          "1970-01-01T06:22:30",
          "1970-01-01T06:22:30",
          "1970-01-01T07:04:10",
          "1970-01-01T07:04:10",
          "1970-01-01T07:04:10",
          "1970-01-01T10:17:34",
          "1970-01-01T10:17:34",
          "1970-01-01T10:59:14",
          "1970-01-01T10:59:14",
          "1970-01-01T10:59:14",
          "1970-01-01T14:16:02",
          "1970-01-01T14:16:02",
          "1970-01-01T14:57:42",
          "1970-01-01T14:57:42",
          "1970-01-01T14:57:42"
         ],
         "y": [
          "from_site",
          "from_site",
          "from_site",
          "from_site",
          null,
          "from_site",
          "from_site",
          "from_site",
          "from_site",
          null,
          "from_site",
          "from_site",
          "from_site",
          "from_site",
          null,
          "from_site",
          "from_site",
          "from_site",
          "from_site",
          null,
          "cutter",
          "cutter",
          "cutter",
          "cutter",
          null,
          "cutter",
          "cutter",
          "cutter",
          "cutter",
          null,
          "cutter",
          "cutter",
          "cutter",
          "cutter",
          null,
          "cutter",
          "cutter",
          "cutter",
          "cutter",
          null
         ]
        },
        {
         "connectgaps": false,
         "hoverinfo": "y+name",
         "line": {
          "color": "rgb(22,13,52)",
          "width": 10
         },
         "mode": "lines",
         "name": "loading:barge_2",
         "type": "scatter",
         "x": [
          "1970-01-01T03:10:50",
          "1970-01-01T03:10:50",
          "1970-01-01T03:44:10",
          "1970-01-01T03:44:10",
          "1970-01-01T03:44:10",
          "1970-01-01T07:04:10",
          "1970-01-01T07:04:10",
          "1970-01-01T07:37:30",
          "1970-01-01T07:37:30",
          "1970-01-01T07:37:30",
          "1970-01-01T10:59:14",
          "1970-01-01T10:59:14",
          "1970-01-01T11:32:34",
          "1970-01-01T11:32:34",
          "1970-01-01T11:32:34",
          "1970-01-01T14:57:42",
          "1970-01-01T14:57:42",
          "1970-01-01T15:31:02",
          "1970-01-01T15:31:02",
          "1970-01-01T15:31:02",
          "1970-01-01T03:10:50",
          "1970-01-01T03:10:50",
          "1970-01-01T03:44:10",
          "1970-01-01T03:44:10",
          "1970-01-01T03:44:10",
          "1970-01-01T07:04:10",
          "1970-01-01T07:04:10",
          "1970-01-01T07:37:30",
          "1970-01-01T07:37:30",
          "1970-01-01T07:37:30",
          "1970-01-01T10:59:14",
          "1970-01-01T10:59:14",
          "1970-01-01T11:32:34",
          "1970-01-01T11:32:34",
          "1970-01-01T11:32:34",
          "1970-01-01T14:57:42",
          "1970-01-01T14:57:42",
          "1970-01-01T15:31:02",
          "1970-01-01T15:31:02",
          "1970-01-01T15:31:02"
         ],
         "y": [
          "from_site",
          "from_site",
          "from_site",
          "from_site",
          null,
          "from_site",
          "from_site",
          "from_site",
          "from_site",
          null,
          "from_site",
          "from_site",
          "from_site",
          "from_site",
          null,
          "from_site",
          "from_site",
          "from_site",
          "from_site",
          null,
          "cutter",
          "cutter",
          "cutter",
          "cutter",
          null,
          "cutter",
          "cutter",
          "cutter",
          "cutter",
          null,
          "cutter",
          "cutter",
          "cutter",
          "cutter",
          null,
          "cutter",
          "cutter",
          "cutter",
          "cutter",
          null
         ]
        },
        {
         "connectgaps": false,
         "hoverinfo": "y+name",
         "line": {
          "color": "rgb(36,27,66)",
          "width": 10
         },
         "mode": "lines",
         "name": "loading:barge_5",
         "type": "scatter",
         "x": [
          "1970-01-01T01:55:50",
          "1970-01-01T01:55:50",
          "1970-01-01T02:29:10",
          "1970-01-01T02:29:10",
          "1970-01-01T02:29:10",
          "1970-01-01T05:49:10",
          "1970-01-01T05:49:10",
          "1970-01-01T06:22:30",
          "1970-01-01T06:22:30",
          "1970-01-01T06:22:30",
          "1970-01-01T09:44:14",
          "1970-01-01T09:44:14",
          "1970-01-01T10:17:34",
          "1970-01-01T10:17:34",
          "1970-01-01T10:17:34",
          "1970-01-01T13:42:42",
          "1970-01-01T13:42:42",
          "1970-01-01T14:16:02",
          "1970-01-01T14:16:02",
          "1970-01-01T14:16:02",
          "1970-01-01T01:55:50",
          "1970-01-01T01:55:50",
          "1970-01-01T02:29:10",
          "1970-01-01T02:29:10",
          "1970-01-01T02:29:10",
          "1970-01-01T05:49:10",
          "1970-01-01T05:49:10",
          "1970-01-01T06:22:30",
          "1970-01-01T06:22:30",
          "1970-01-01T06:22:30",
          "1970-01-01T09:44:14",
          "1970-01-01T09:44:14",
          "1970-01-01T10:17:34",
          "1970-01-01T10:17:34",
          "1970-01-01T10:17:34",
          "1970-01-01T13:42:42",
          "1970-01-01T13:42:42",
          "1970-01-01T14:16:02",
          "1970-01-01T14:16:02",
          "1970-01-01T14:16:02"
         ],
         "y": [
          "from_site",
          "from_site",
          "from_site",
          "from_site",
          null,
          "from_site",
          "from_site",
          "from_site",
          "from_site",
          null,
          "from_site",
          "from_site",
          "from_site",
          "from_site",
          null,
          "from_site",
          "from_site",
          "from_site",
          "from_site",
          null,
          "cutter",
          "cutter",
          "cutter",
          "cutter",
          null,
          "cutter",
          "cutter",
          "cutter",
          "cutter",
          null,
          "cutter",
          "cutter",
          "cutter",
          "cutter",
          null,
          "cutter",
          "cutter",
          "cutter",
          "cutter",
          null
         ]
        },
        {
         "connectgaps": false,
         "hoverinfo": "y+name",
         "line": {
          "color": "rgb(50,41,80)",
          "width": 10
         },
         "mode": "lines",
         "name": "loading:barge_0",
         "type": "scatter",
         "x": [
          "1970-01-01T01:14:10",
          "1970-01-01T01:14:10",
          "1970-01-01T01:55:50",
          "1970-01-01T01:55:50",
          "1970-01-01T01:55:50",
          "1970-01-01T05:07:30",
          "1970-01-01T05:07:30",
          "1970-01-01T05:49:10",
          "1970-01-01T05:49:10",
          "1970-01-01T05:49:10",
          "1970-01-01T08:20:54",
          "1970-01-01T08:20:54",
          "1970-01-01T09:02:34",
          "1970-01-01T09:02:34",
          "1970-01-01T09:02:34",
          "1970-01-01T11:32:34",
          "1970-01-01T11:32:34",
          "1970-01-01T12:14:14",
          "1970-01-01T12:14:14",
          "1970-01-01T12:14:14",
          "1970-01-01T01:14:10",
          "1970-01-01T01:14:10",
          "1970-01-01T01:55:50",
          "1970-01-01T01:55:50",
          "1970-01-01T01:55:50",
          "1970-01-01T05:07:30",
          "1970-01-01T05:07:30",
          "1970-01-01T05:49:10",
          "1970-01-01T05:49:10",
          "1970-01-01T05:49:10",
          "1970-01-01T08:20:54",
          "1970-01-01T08:20:54",
          "1970-01-01T09:02:34",
          "1970-01-01T09:02:34",
          "1970-01-01T09:02:34",
          "1970-01-01T11:32:34",
          "1970-01-01T11:32:34",
          "1970-01-01T12:14:14",
          "1970-01-01T12:14:14",
          "1970-01-01T12:14:14"
         ],
         "y": [
          "from_site",
          "from_site",
          "from_site",
          "from_site",
          null,
          "from_site",
          "from_site",
          "from_site",
          "from_site",
          null,
          "from_site",
          "from_site",
          "from_site",
          "from_site",
          null,
          "from_site",
          "from_site",
          "from_site",
          "from_site",
          null,
          "cutter",
          "cutter",
          "cutter",
          "cutter",
          null,
          "cutter",
          "cutter",
          "cutter",
          "cutter",
          null,
          "cutter",
          "cutter",
          "cutter",
          "cutter",
          null,
          "cutter",
          "cutter",
          "cutter",
          "cutter",
          null
         ]
        },
        {
         "connectgaps": false,
         "hoverinfo": "y+name",
         "line": {
          "color": "rgb(64,55,94)",
          "width": 10
         },
         "mode": "lines",
         "name": "loading:barge_1",
         "type": "scatter",
         "x": [
          "1970-01-01T04:25:50",
          "1970-01-01T04:25:50",
          "1970-01-01T05:07:30",
          "1970-01-01T05:07:30",
          "1970-01-01T05:07:30",
          "1970-01-01T09:02:34",
          "1970-01-01T09:02:34",
          "1970-01-01T09:44:14",
          "1970-01-01T09:44:14",
          "1970-01-01T09:44:14",
          "1970-01-01T13:01:02",
          "1970-01-01T13:01:02",
          "1970-01-01T13:42:42",
          "1970-01-01T13:42:42",
          "1970-01-01T13:42:42",
          "1970-01-01T04:25:50",
          "1970-01-01T04:25:50",
          "1970-01-01T05:07:30",
          "1970-01-01T05:07:30",
          "1970-01-01T05:07:30",
          "1970-01-01T09:02:34",
          "1970-01-01T09:02:34",
          "1970-01-01T09:44:14",
          "1970-01-01T09:44:14",
          "1970-01-01T09:44:14",
          "1970-01-01T13:01:02",
          "1970-01-01T13:01:02",
          "1970-01-01T13:42:42",
          "1970-01-01T13:42:42",
          "1970-01-01T13:42:42"
         ],
         "y": [
          "from_site",
          "from_site",
          "from_site",
          "from_site",
          null,
          "from_site",
          "from_site",
          "from_site",
          "from_site",
          null,
          "from_site",
          "from_site",
          "from_site",
          "from_site",
          null,
          "cutter",
          "cutter",
          "cutter",
          "cutter",
          null,
          "cutter",
          "cutter",
          "cutter",
          "cutter",
          null,
          "cutter",
          "cutter",
          "cutter",
          "cutter",
          null
         ]
        },
        {
         "connectgaps": false,
         "hoverinfo": "y+name",
         "line": {
          "color": "rgb(78,69,108)",
          "width": 10
         },
         "mode": "lines",
         "name": "unloading:barge_5",
         "type": "scatter",
         "x": [
          "1970-01-01T03:11:27",
          "1970-01-01T03:11:27",
          "1970-01-01T03:53:44",
          "1970-01-01T03:53:44",
          "1970-01-01T03:53:44",
          "1970-01-01T07:04:47",
          "1970-01-01T07:04:47",
          "1970-01-01T07:47:04",
          "1970-01-01T07:47:04",
          "1970-01-01T07:47:04",
          "1970-01-01T10:59:51",
          "1970-01-01T10:59:51",
          "1970-01-01T11:42:08",
          "1970-01-01T11:42:08",
          "1970-01-01T11:42:08",
          "1970-01-01T14:58:19",
          "1970-01-01T14:58:19",
          "1970-01-01T15:40:36",
          "1970-01-01T15:40:36",
          "1970-01-01T15:40:36"
         ],
         "y": [
          "to_site",
          "to_site",
          "to_site",
          "to_site",
          null,
          "to_site",
          "to_site",
          "to_site",
          "to_site",
          null,
          "to_site",
          "to_site",
          "to_site",
          "to_site",
          null,
          "to_site",
          "to_site",
          "to_site",
          "to_site",
          null
         ]
        },
        {
         "connectgaps": false,
         "hoverinfo": "y+name",
         "line": {
          "color": "rgb(92,83,122)",
          "width": 10
         },
         "mode": "lines",
         "name": "unloading:barge_0",
         "type": "scatter",
         "x": [
          "1970-01-01T02:32:55",
          "1970-01-01T02:32:55",
          "1970-01-01T03:10:00",
          "1970-01-01T03:10:00",
          "1970-01-01T03:10:00",
          "1970-01-01T06:26:15",
          "1970-01-01T06:26:15",
          "1970-01-01T07:03:20",
          "1970-01-01T07:03:20",
          "1970-01-01T07:03:20",
          "1970-01-01T09:39:39",
          "1970-01-01T09:39:39",
          "1970-01-01T10:16:44",
          "1970-01-01T10:16:44",
          "1970-01-01T10:16:44",
          "1970-01-01T12:51:19",
          "1970-01-01T12:51:19",
          "1970-01-01T13:28:24",
          "1970-01-01T13:28:24",
          "1970-01-01T13:28:24"
         ],
         "y": [
          "to_site",
          "to_site",
          "to_site",
          "to_site",
          null,
          "to_site",
          "to_site",
          "to_site",
          "to_site",
          null,
          "to_site",
          "to_site",
          "to_site",
          "to_site",
          null,
          "to_site",
          "to_site",
          "to_site",
          "to_site",
          null
         ]
        },
        {
         "connectgaps": false,
         "hoverinfo": "y+name",
         "line": {
          "color": "rgb(106,97,136)",
          "width": 10
         },
         "mode": "lines",
         "name": "unloading:barge_3",
         "type": "scatter",
         "x": [
          "1970-01-01T03:54:54",
          "1970-01-01T03:54:54",
          "1970-01-01T04:38:58",
          "1970-01-01T04:38:58",
          "1970-01-01T04:38:58",
          "1970-01-01T07:48:14",
          "1970-01-01T07:48:14",
          "1970-01-01T08:32:18",
          "1970-01-01T08:32:18",
          "1970-01-01T08:32:18",
          "1970-01-01T11:43:18",
          "1970-01-01T11:43:18",
          "1970-01-01T12:27:22",
          "1970-01-01T12:27:22",
          "1970-01-01T12:27:22",
          "1970-01-01T15:41:46",
          "1970-01-01T15:41:46",
          "1970-01-01T16:25:50",
          "1970-01-01T16:25:50",
          "1970-01-01T16:25:50"
         ],
         "y": [
          "to_site",
          "to_site",
          "to_site",
          "to_site",
          null,
          "to_site",
          "to_site",
          "to_site",
          "to_site",
          null,
          "to_site",
          "to_site",
          "to_site",
          "to_site",
          null,
          "to_site",
          "to_site",
          "to_site",
          "to_site",
          null
         ]
        },
        {
         "connectgaps": false,
         "hoverinfo": "y+name",
         "line": {
          "color": "rgb(120,111,150)",
          "width": 10
         },
         "mode": "lines",
         "name": "unloading:barge_1",
         "type": "scatter",
         "x": [
          "1970-01-01T05:56:42",
          "1970-01-01T05:56:42",
          "1970-01-01T06:45:54",
          "1970-01-01T06:45:54",
          "1970-01-01T06:45:54",
          "1970-01-01T10:33:26",
          "1970-01-01T10:33:26",
          "1970-01-01T11:22:38",
          "1970-01-01T11:22:38",
          "1970-01-01T11:22:38",
          "1970-01-01T14:31:54",
          "1970-01-01T14:31:54",
          "1970-01-01T15:21:06",
          "1970-01-01T15:21:06",
          "1970-01-01T15:21:06"
         ],
         "y": [
          "to_site",
          "to_site",
          "to_site",
          "to_site",
          null,
          "to_site",
          "to_site",
          "to_site",
          "to_site",
          null,
          "to_site",
          "to_site",
          "to_site",
          "to_site",
          null
         ]
        },
        {
         "connectgaps": false,
         "hoverinfo": "y+name",
         "line": {
          "color": "rgb(134,125,164)",
          "width": 10
         },
         "mode": "lines",
         "name": "unloading:barge_4",
         "type": "scatter",
         "x": [
          "1970-01-01T05:14:11",
          "1970-01-01T05:14:11",
          "1970-01-01T06:02:32",
          "1970-01-01T06:02:32",
          "1970-01-01T06:02:32",
          "1970-01-01T09:09:15",
          "1970-01-01T09:09:15",
          "1970-01-01T09:57:36",
          "1970-01-01T09:57:36",
          "1970-01-01T09:57:36",
          "1970-01-01T13:44:15",
          "1970-01-01T13:44:15",
          "1970-01-01T14:32:36",
          "1970-01-01T14:32:36",
          "1970-01-01T14:32:36"
         ],
         "y": [
          "to_site",
          "to_site",
          "to_site",
          "to_site",
          null,
          "to_site",
          "to_site",
          "to_site",
          "to_site",
          null,
          "to_site",
          "to_site",
          "to_site",
          "to_site",
          null
         ]
        },
        {
         "connectgaps": false,
         "hoverinfo": "y+name",
         "line": {
          "color": "rgb(148,139,178)",
          "width": 10
         },
         "mode": "lines",
         "name": "unloading:barge_2",
         "type": "scatter",
         "x": [
          "1970-01-01T04:29:46",
          "1970-01-01T04:29:46",
          "1970-01-01T05:15:22",
          "1970-01-01T05:15:22",
          "1970-01-01T05:15:22",
          "1970-01-01T08:23:06",
          "1970-01-01T08:23:06",
          "1970-01-01T09:08:42",
          "1970-01-01T09:08:42",
          "1970-01-01T09:08:42",
          "1970-01-01T12:18:10",
          "1970-01-01T12:18:10",
          "1970-01-01T13:03:46",
          "1970-01-01T13:03:46",
          "1970-01-01T13:03:46",
          "1970-01-01T16:16:38",
          "1970-01-01T16:16:38",
          "1970-01-01T17:02:14",
          "1970-01-01T17:02:14",
          "1970-01-01T17:02:14"
         ],
         "y": [
          "to_site",
          "to_site",
          "to_site",
          "to_site",
          null,
          "to_site",
          "to_site",
          "to_site",
          "to_site",
          null,
          "to_site",
          "to_site",
          "to_site",
          "to_site",
          null,
          "to_site",
          "to_site",
          "to_site",
          "to_site",
          null
         ]
        },
        {
         "connectgaps": false,
         "hoverinfo": "y+name",
         "line": {
          "color": "rgb(162,153,192)",
          "width": 10
         },
         "mode": "lines",
         "name": "loading:barge_4",
         "type": "scatter",
         "x": [
          "1970-01-01T03:44:10",
          "1970-01-01T03:44:10",
          "1970-01-01T04:25:50",
          "1970-01-01T04:25:50",
          "1970-01-01T04:25:50",
          "1970-01-01T07:39:14",
          "1970-01-01T07:39:14",
          "1970-01-01T08:20:54",
          "1970-01-01T08:20:54",
          "1970-01-01T08:20:54",
          "1970-01-01T12:14:14",
          "1970-01-01T12:14:14",
          "1970-01-01T12:55:54",
          "1970-01-01T12:55:54",
          "1970-01-01T12:55:54",
          "1970-01-01T03:44:10",
          "1970-01-01T03:44:10",
          "1970-01-01T04:25:50",
          "1970-01-01T04:25:50",
          "1970-01-01T04:25:50",
          "1970-01-01T07:39:14",
          "1970-01-01T07:39:14",
          "1970-01-01T08:20:54",
          "1970-01-01T08:20:54",
          "1970-01-01T08:20:54",
          "1970-01-01T12:14:14",
          "1970-01-01T12:14:14",
          "1970-01-01T12:55:54",
          "1970-01-01T12:55:54",
          "1970-01-01T12:55:54"
         ],
         "y": [
          "from_site",
          "from_site",
          "from_site",
          "from_site",
          null,
          "from_site",
          "from_site",
          "from_site",
          "from_site",
          null,
          "from_site",
          "from_site",
          "from_site",
          "from_site",
          null,
          "cutter",
          "cutter",
          "cutter",
          "cutter",
          null,
          "cutter",
          "cutter",
          "cutter",
          "cutter",
          null,
          "cutter",
          "cutter",
          "cutter",
          "cutter",
          null
         ]
        },
        {
         "connectgaps": false,
         "hoverinfo": "y+name",
         "line": {
          "color": "rgb(176,167,206)",
          "width": 10
         },
         "mode": "lines",
         "name": "loading:barge_3",
         "type": "scatter",
         "x": [
          "1970-01-01T02:29:10",
          "1970-01-01T02:29:10",
          "1970-01-01T03:10:50",
          "1970-01-01T03:10:50",
          "1970-01-01T03:10:50",
          "1970-01-01T06:22:30",
          "1970-01-01T06:22:30",
          "1970-01-01T07:04:10",
          "1970-01-01T07:04:10",
          "1970-01-01T07:04:10",
          "1970-01-01T10:17:34",
          "1970-01-01T10:17:34",
          "1970-01-01T10:59:14",
          "1970-01-01T10:59:14",
          "1970-01-01T10:59:14",
          "1970-01-01T14:16:02",
          "1970-01-01T14:16:02",
          "1970-01-01T14:57:42",
          "1970-01-01T14:57:42",
          "1970-01-01T14:57:42",
          "1970-01-01T02:29:10",
          "1970-01-01T02:29:10",
          "1970-01-01T03:10:50",
          "1970-01-01T03:10:50",
          "1970-01-01T03:10:50",
          "1970-01-01T06:22:30",
          "1970-01-01T06:22:30",
          "1970-01-01T07:04:10",
          "1970-01-01T07:04:10",
          "1970-01-01T07:04:10",
          "1970-01-01T10:17:34",
          "1970-01-01T10:17:34",
          "1970-01-01T10:59:14",
          "1970-01-01T10:59:14",
          "1970-01-01T10:59:14",
          "1970-01-01T14:16:02",
          "1970-01-01T14:16:02",
          "1970-01-01T14:57:42",
          "1970-01-01T14:57:42",
          "1970-01-01T14:57:42"
         ],
         "y": [
          "from_site",
          "from_site",
          "from_site",
          "from_site",
          null,
          "from_site",
          "from_site",
          "from_site",
          "from_site",
          null,
          "from_site",
          "from_site",
          "from_site",
          "from_site",
          null,
          "from_site",
          "from_site",
          "from_site",
          "from_site",
          null,
          "cutter",
          "cutter",
          "cutter",
          "cutter",
          null,
          "cutter",
          "cutter",
          "cutter",
          "cutter",
          null,
          "cutter",
          "cutter",
          "cutter",
          "cutter",
          null,
          "cutter",
          "cutter",
          "cutter",
          "cutter",
          null
         ]
        },
        {
         "connectgaps": false,
         "hoverinfo": "y+name",
         "line": {
          "color": "rgb(190,181,220)",
          "width": 10
         },
         "mode": "lines",
         "name": "loading:barge_2",
         "type": "scatter",
         "x": [
          "1970-01-01T03:10:50",
          "1970-01-01T03:10:50",
          "1970-01-01T03:44:10",
          "1970-01-01T03:44:10",
          "1970-01-01T03:44:10",
          "1970-01-01T07:04:10",
          "1970-01-01T07:04:10",
          "1970-01-01T07:37:30",
          "1970-01-01T07:37:30",
          "1970-01-01T07:37:30",
          "1970-01-01T10:59:14",
          "1970-01-01T10:59:14",
          "1970-01-01T11:32:34",
          "1970-01-01T11:32:34",
          "1970-01-01T11:32:34",
          "1970-01-01T14:57:42",
          "1970-01-01T14:57:42",
          "1970-01-01T15:31:02",
          "1970-01-01T15:31:02",
          "1970-01-01T15:31:02",
          "1970-01-01T03:10:50",
          "1970-01-01T03:10:50",
          "1970-01-01T03:44:10",
          "1970-01-01T03:44:10",
          "1970-01-01T03:44:10",
          "1970-01-01T07:04:10",
          "1970-01-01T07:04:10",
          "1970-01-01T07:37:30",
          "1970-01-01T07:37:30",
          "1970-01-01T07:37:30",
          "1970-01-01T10:59:14",
          "1970-01-01T10:59:14",
          "1970-01-01T11:32:34",
          "1970-01-01T11:32:34",
          "1970-01-01T11:32:34",
          "1970-01-01T14:57:42",
          "1970-01-01T14:57:42",
          "1970-01-01T15:31:02",
          "1970-01-01T15:31:02",
          "1970-01-01T15:31:02"
         ],
         "y": [
          "from_site",
          "from_site",
          "from_site",
          "from_site",
          null,
          "from_site",
          "from_site",
          "from_site",
          "from_site",
          null,
          "from_site",
          "from_site",
          "from_site",
          "from_site",
          null,
          "from_site",
          "from_site",
          "from_site",
          "from_site",
          null,
          "cutter",
          "cutter",
          "cutter",
          "cutter",
          null,
          "cutter",
          "cutter",
          "cutter",
          "cutter",
          null,
          "cutter",
          "cutter",
          "cutter",
          "cutter",
          null,
          "cutter",
          "cutter",
          "cutter",
          "cutter",
          null
         ]
        },
        {
         "connectgaps": false,
         "hoverinfo": "y+name",
         "line": {
          "color": "rgb(204,195,234)",
          "width": 10
         },
         "mode": "lines",
         "name": "loading:barge_5",
         "type": "scatter",
         "x": [
          "1970-01-01T01:55:50",
          "1970-01-01T01:55:50",
          "1970-01-01T02:29:10",
          "1970-01-01T02:29:10",
          "1970-01-01T02:29:10",
          "1970-01-01T05:49:10",
          "1970-01-01T05:49:10",
          "1970-01-01T06:22:30",
          "1970-01-01T06:22:30",
          "1970-01-01T06:22:30",
          "1970-01-01T09:44:14",
          "1970-01-01T09:44:14",
          "1970-01-01T10:17:34",
          "1970-01-01T10:17:34",
          "1970-01-01T10:17:34",
          "1970-01-01T13:42:42",
          "1970-01-01T13:42:42",
          "1970-01-01T14:16:02",
          "1970-01-01T14:16:02",
          "1970-01-01T14:16:02",
          "1970-01-01T01:55:50",
          "1970-01-01T01:55:50",
          "1970-01-01T02:29:10",
          "1970-01-01T02:29:10",
          "1970-01-01T02:29:10",
          "1970-01-01T05:49:10",
          "1970-01-01T05:49:10",
          "1970-01-01T06:22:30",
          "1970-01-01T06:22:30",
          "1970-01-01T06:22:30",
          "1970-01-01T09:44:14",
          "1970-01-01T09:44:14",
          "1970-01-01T10:17:34",
          "1970-01-01T10:17:34",
          "1970-01-01T10:17:34",
          "1970-01-01T13:42:42",
          "1970-01-01T13:42:42",
          "1970-01-01T14:16:02",
          "1970-01-01T14:16:02",
          "1970-01-01T14:16:02"
         ],
         "y": [
          "from_site",
          "from_site",
          "from_site",
          "from_site",
          null,
          "from_site",
          "from_site",
          "from_site",
          "from_site",
          null,
          "from_site",
          "from_site",
          "from_site",
          "from_site",
          null,
          "from_site",
          "from_site",
          "from_site",
          "from_site",
          null,
          "cutter",
          "cutter",
          "cutter",
          "cutter",
          null,
          "cutter",
          "cutter",
          "cutter",
          "cutter",
          null,
          "cutter",
          "cutter",
          "cutter",
          "cutter",
          null,
          "cutter",
          "cutter",
          "cutter",
          "cutter",
          null
         ]
        },
        {
         "connectgaps": false,
         "hoverinfo": "y+name",
         "line": {
          "color": "rgb(218,209,248)",
          "width": 10
         },
         "mode": "lines",
         "name": "loading:barge_0",
         "type": "scatter",
         "x": [
          "1970-01-01T01:14:10",
          "1970-01-01T01:14:10",
          "1970-01-01T01:55:50",
          "1970-01-01T01:55:50",
          "1970-01-01T01:55:50",
          "1970-01-01T05:07:30",
          "1970-01-01T05:07:30",
          "1970-01-01T05:49:10",
          "1970-01-01T05:49:10",
          "1970-01-01T05:49:10",
          "1970-01-01T08:20:54",
          "1970-01-01T08:20:54",
          "1970-01-01T09:02:34",
          "1970-01-01T09:02:34",
          "1970-01-01T09:02:34",
          "1970-01-01T11:32:34",
          "1970-01-01T11:32:34",
          "1970-01-01T12:14:14",
          "1970-01-01T12:14:14",
          "1970-01-01T12:14:14",
          "1970-01-01T01:14:10",
          "1970-01-01T01:14:10",
          "1970-01-01T01:55:50",
          "1970-01-01T01:55:50",
          "1970-01-01T01:55:50",
          "1970-01-01T05:07:30",
          "1970-01-01T05:07:30",
          "1970-01-01T05:49:10",
          "1970-01-01T05:49:10",
          "1970-01-01T05:49:10",
          "1970-01-01T08:20:54",
          "1970-01-01T08:20:54",
          "1970-01-01T09:02:34",
          "1970-01-01T09:02:34",
          "1970-01-01T09:02:34",
          "1970-01-01T11:32:34",
          "1970-01-01T11:32:34",
          "1970-01-01T12:14:14",
          "1970-01-01T12:14:14",
          "1970-01-01T12:14:14"
         ],
         "y": [
          "from_site",
          "from_site",
          "from_site",
          "from_site",
          null,
          "from_site",
          "from_site",
          "from_site",
          "from_site",
          null,
          "from_site",
          "from_site",
          "from_site",
          "from_site",
          null,
          "from_site",
          "from_site",
          "from_site",
          "from_site",
          null,
          "cutter",
          "cutter",
          "cutter",
          "cutter",
          null,
          "cutter",
          "cutter",
          "cutter",
          "cutter",
          null,
          "cutter",
          "cutter",
          "cutter",
          "cutter",
          null,
          "cutter",
          "cutter",
          "cutter",
          "cutter",
          null
         ]
        },
        {
         "connectgaps": false,
         "hoverinfo": "y+name",
         "line": {
          "color": "rgb(232,223,6)",
          "width": 10
         },
         "mode": "lines",
         "name": "loading:barge_1",
         "type": "scatter",
         "x": [
          "1970-01-01T04:25:50",
          "1970-01-01T04:25:50",
          "1970-01-01T05:07:30",
          "1970-01-01T05:07:30",
          "1970-01-01T05:07:30",
          "1970-01-01T09:02:34",
          "1970-01-01T09:02:34",
          "1970-01-01T09:44:14",
          "1970-01-01T09:44:14",
          "1970-01-01T09:44:14",
          "1970-01-01T13:01:02",
          "1970-01-01T13:01:02",
          "1970-01-01T13:42:42",
          "1970-01-01T13:42:42",
          "1970-01-01T13:42:42",
          "1970-01-01T04:25:50",
          "1970-01-01T04:25:50",
          "1970-01-01T05:07:30",
          "1970-01-01T05:07:30",
          "1970-01-01T05:07:30",
          "1970-01-01T09:02:34",
          "1970-01-01T09:02:34",
          "1970-01-01T09:44:14",
          "1970-01-01T09:44:14",
          "1970-01-01T09:44:14",
          "1970-01-01T13:01:02",
          "1970-01-01T13:01:02",
          "1970-01-01T13:42:42",
          "1970-01-01T13:42:42",
          "1970-01-01T13:42:42"
         ],
         "y": [
          "from_site",
          "from_site",
          "from_site",
          "from_site",
          null,
          "from_site",
          "from_site",
          "from_site",
          "from_site",
          null,
          "from_site",
          "from_site",
          "from_site",
          "from_site",
          null,
          "cutter",
          "cutter",
          "cutter",
          "cutter",
          null,
          "cutter",
          "cutter",
          "cutter",
          "cutter",
          null,
          "cutter",
          "cutter",
          "cutter",
          "cutter",
          null
         ]
        }
       ],
       "layout": {
        "hovermode": "closest",
        "legend": {
         "orientation": "h",
         "x": 0,
         "y": -0.2
        },
        "template": {
         "data": {
          "bar": [
           {
            "error_x": {
             "color": "#2a3f5f"
            },
            "error_y": {
             "color": "#2a3f5f"
            },
            "marker": {
             "line": {
              "color": "#E5ECF6",
              "width": 0.5
             },
             "pattern": {
              "fillmode": "overlay",
              "size": 10,
              "solidity": 0.2
             }
            },
            "type": "bar"
           }
          ],
          "barpolar": [
           {
            "marker": {
             "line": {
              "color": "#E5ECF6",
              "width": 0.5
             },
             "pattern": {
              "fillmode": "overlay",
              "size": 10,
              "solidity": 0.2
             }
            },
            "type": "barpolar"
           }
          ],
          "carpet": [
           {
            "aaxis": {
             "endlinecolor": "#2a3f5f",
             "gridcolor": "white",
             "linecolor": "white",
             "minorgridcolor": "white",
             "startlinecolor": "#2a3f5f"
            },
            "baxis": {
             "endlinecolor": "#2a3f5f",
             "gridcolor": "white",
             "linecolor": "white",
             "minorgridcolor": "white",
             "startlinecolor": "#2a3f5f"
            },
            "type": "carpet"
           }
          ],
          "choropleth": [
           {
            "colorbar": {
             "outlinewidth": 0,
             "ticks": ""
            },
            "type": "choropleth"
           }
          ],
          "contour": [
           {
            "colorbar": {
             "outlinewidth": 0,
             "ticks": ""
            },
            "colorscale": [
             [
              0,
              "#0d0887"
             ],
             [
              0.1111111111111111,
              "#46039f"
             ],
             [
              0.2222222222222222,
              "#7201a8"
             ],
             [
              0.3333333333333333,
              "#9c179e"
             ],
             [
              0.4444444444444444,
              "#bd3786"
             ],
             [
              0.5555555555555556,
              "#d8576b"
             ],
             [
              0.6666666666666666,
              "#ed7953"
             ],
             [
              0.7777777777777778,
              "#fb9f3a"
             ],
             [
              0.8888888888888888,
              "#fdca26"
             ],
             [
              1,
              "#f0f921"
             ]
            ],
            "type": "contour"
           }
          ],
          "contourcarpet": [
           {
            "colorbar": {
             "outlinewidth": 0,
             "ticks": ""
            },
            "type": "contourcarpet"
           }
          ],
          "heatmap": [
           {
            "colorbar": {
             "outlinewidth": 0,
             "ticks": ""
            },
            "colorscale": [
             [
              0,
              "#0d0887"
             ],
             [
              0.1111111111111111,
              "#46039f"
             ],
             [
              0.2222222222222222,
              "#7201a8"
             ],
             [
              0.3333333333333333,
              "#9c179e"
             ],
             [
              0.4444444444444444,
              "#bd3786"
             ],
             [
              0.5555555555555556,
              "#d8576b"
             ],
             [
              0.6666666666666666,
              "#ed7953"
             ],
             [
              0.7777777777777778,
              "#fb9f3a"
             ],
             [
              0.8888888888888888,
              "#fdca26"
             ],
             [
              1,
              "#f0f921"
             ]
            ],
            "type": "heatmap"
           }
          ],
          "heatmapgl": [
           {
            "colorbar": {
             "outlinewidth": 0,
             "ticks": ""
            },
            "colorscale": [
             [
              0,
              "#0d0887"
             ],
             [
              0.1111111111111111,
              "#46039f"
             ],
             [
              0.2222222222222222,
              "#7201a8"
             ],
             [
              0.3333333333333333,
              "#9c179e"
             ],
             [
              0.4444444444444444,
              "#bd3786"
             ],
             [
              0.5555555555555556,
              "#d8576b"
             ],
             [
              0.6666666666666666,
              "#ed7953"
             ],
             [
              0.7777777777777778,
              "#fb9f3a"
             ],
             [
              0.8888888888888888,
              "#fdca26"
             ],
             [
              1,
              "#f0f921"
             ]
            ],
            "type": "heatmapgl"
           }
          ],
          "histogram": [
           {
            "marker": {
             "pattern": {
              "fillmode": "overlay",
              "size": 10,
              "solidity": 0.2
             }
            },
            "type": "histogram"
           }
          ],
          "histogram2d": [
           {
            "colorbar": {
             "outlinewidth": 0,
             "ticks": ""
            },
            "colorscale": [
             [
              0,
              "#0d0887"
             ],
             [
              0.1111111111111111,
              "#46039f"
             ],
             [
              0.2222222222222222,
              "#7201a8"
             ],
             [
              0.3333333333333333,
              "#9c179e"
             ],
             [
              0.4444444444444444,
              "#bd3786"
             ],
             [
              0.5555555555555556,
              "#d8576b"
             ],
             [
              0.6666666666666666,
              "#ed7953"
             ],
             [
              0.7777777777777778,
              "#fb9f3a"
             ],
             [
              0.8888888888888888,
              "#fdca26"
             ],
             [
              1,
              "#f0f921"
             ]
            ],
            "type": "histogram2d"
           }
          ],
          "histogram2dcontour": [
           {
            "colorbar": {
             "outlinewidth": 0,
             "ticks": ""
            },
            "colorscale": [
             [
              0,
              "#0d0887"
             ],
             [
              0.1111111111111111,
              "#46039f"
             ],
             [
              0.2222222222222222,
              "#7201a8"
             ],
             [
              0.3333333333333333,
              "#9c179e"
             ],
             [
              0.4444444444444444,
              "#bd3786"
             ],
             [
              0.5555555555555556,
              "#d8576b"
             ],
             [
              0.6666666666666666,
              "#ed7953"
             ],
             [
              0.7777777777777778,
              "#fb9f3a"
             ],
             [
              0.8888888888888888,
              "#fdca26"
             ],
             [
              1,
              "#f0f921"
             ]
            ],
            "type": "histogram2dcontour"
           }
          ],
          "mesh3d": [
           {
            "colorbar": {
             "outlinewidth": 0,
             "ticks": ""
            },
            "type": "mesh3d"
           }
          ],
          "parcoords": [
           {
            "line": {
             "colorbar": {
              "outlinewidth": 0,
              "ticks": ""
             }
            },
            "type": "parcoords"
           }
          ],
          "pie": [
           {
            "automargin": true,
            "type": "pie"
           }
          ],
          "scatter": [
           {
            "fillpattern": {
             "fillmode": "overlay",
             "size": 10,
             "solidity": 0.2
            },
            "type": "scatter"
           }
          ],
          "scatter3d": [
           {
            "line": {
             "colorbar": {
              "outlinewidth": 0,
              "ticks": ""
             }
            },
            "marker": {
             "colorbar": {
              "outlinewidth": 0,
              "ticks": ""
             }
            },
            "type": "scatter3d"
           }
          ],
          "scattercarpet": [
           {
            "marker": {
             "colorbar": {
              "outlinewidth": 0,
              "ticks": ""
             }
            },
            "type": "scattercarpet"
           }
          ],
          "scattergeo": [
           {
            "marker": {
             "colorbar": {
              "outlinewidth": 0,
              "ticks": ""
             }
            },
            "type": "scattergeo"
           }
          ],
          "scattergl": [
           {
            "marker": {
             "colorbar": {
              "outlinewidth": 0,
              "ticks": ""
             }
            },
            "type": "scattergl"
           }
          ],
          "scattermapbox": [
           {
            "marker": {
             "colorbar": {
              "outlinewidth": 0,
              "ticks": ""
             }
            },
            "type": "scattermapbox"
           }
          ],
          "scatterpolar": [
           {
            "marker": {
             "colorbar": {
              "outlinewidth": 0,
              "ticks": ""
             }
            },
            "type": "scatterpolar"
           }
          ],
          "scatterpolargl": [
           {
            "marker": {
             "colorbar": {
              "outlinewidth": 0,
              "ticks": ""
             }
            },
            "type": "scatterpolargl"
           }
          ],
          "scatterternary": [
           {
            "marker": {
             "colorbar": {
              "outlinewidth": 0,
              "ticks": ""
             }
            },
            "type": "scatterternary"
           }
          ],
          "surface": [
           {
            "colorbar": {
             "outlinewidth": 0,
             "ticks": ""
            },
            "colorscale": [
             [
              0,
              "#0d0887"
             ],
             [
              0.1111111111111111,
              "#46039f"
             ],
             [
              0.2222222222222222,
              "#7201a8"
             ],
             [
              0.3333333333333333,
              "#9c179e"
             ],
             [
              0.4444444444444444,
              "#bd3786"
             ],
             [
              0.5555555555555556,
              "#d8576b"
             ],
             [
              0.6666666666666666,
              "#ed7953"
             ],
             [
              0.7777777777777778,
              "#fb9f3a"
             ],
             [
              0.8888888888888888,
              "#fdca26"
             ],
             [
              1,
              "#f0f921"
             ]
            ],
            "type": "surface"
           }
          ],
          "table": [
           {
            "cells": {
             "fill": {
              "color": "#EBF0F8"
             },
             "line": {
              "color": "white"
             }
            },
            "header": {
             "fill": {
              "color": "#C8D4E3"
             },
             "line": {
              "color": "white"
             }
            },
            "type": "table"
           }
          ]
         },
         "layout": {
          "annotationdefaults": {
           "arrowcolor": "#2a3f5f",
           "arrowhead": 0,
           "arrowwidth": 1
          },
          "autotypenumbers": "strict",
          "coloraxis": {
           "colorbar": {
            "outlinewidth": 0,
            "ticks": ""
           }
          },
          "colorscale": {
           "diverging": [
            [
             0,
             "#8e0152"
            ],
            [
             0.1,
             "#c51b7d"
            ],
            [
             0.2,
             "#de77ae"
            ],
            [
             0.3,
             "#f1b6da"
            ],
            [
             0.4,
             "#fde0ef"
            ],
            [
             0.5,
             "#f7f7f7"
            ],
            [
             0.6,
             "#e6f5d0"
            ],
            [
             0.7,
             "#b8e186"
            ],
            [
             0.8,
             "#7fbc41"
            ],
            [
             0.9,
             "#4d9221"
            ],
            [
             1,
             "#276419"
            ]
           ],
           "sequential": [
            [
             0,
             "#0d0887"
            ],
            [
             0.1111111111111111,
             "#46039f"
            ],
            [
             0.2222222222222222,
             "#7201a8"
            ],
            [
             0.3333333333333333,
             "#9c179e"
            ],
            [
             0.4444444444444444,
             "#bd3786"
            ],
            [
             0.5555555555555556,
             "#d8576b"
            ],
            [
             0.6666666666666666,
             "#ed7953"
            ],
            [
             0.7777777777777778,
             "#fb9f3a"
            ],
            [
             0.8888888888888888,
             "#fdca26"
            ],
            [
             1,
             "#f0f921"
            ]
           ],
           "sequentialminus": [
            [
             0,
             "#0d0887"
            ],
            [
             0.1111111111111111,
             "#46039f"
            ],
            [
             0.2222222222222222,
             "#7201a8"
            ],
            [
             0.3333333333333333,
             "#9c179e"
            ],
            [
             0.4444444444444444,
             "#bd3786"
            ],
            [
             0.5555555555555556,
             "#d8576b"
            ],
            [
             0.6666666666666666,
             "#ed7953"
            ],
            [
             0.7777777777777778,
             "#fb9f3a"
            ],
            [
             0.8888888888888888,
             "#fdca26"
            ],
            [
             1,
             "#f0f921"
            ]
           ]
          },
          "colorway": [
           "#636efa",
           "#EF553B",
           "#00cc96",
           "#ab63fa",
           "#FFA15A",
           "#19d3f3",
           "#FF6692",
           "#B6E880",
           "#FF97FF",
           "#FECB52"
          ],
          "font": {
           "color": "#2a3f5f"
          },
          "geo": {
           "bgcolor": "white",
           "lakecolor": "white",
           "landcolor": "#E5ECF6",
           "showlakes": true,
           "showland": true,
           "subunitcolor": "white"
          },
          "hoverlabel": {
           "align": "left"
          },
          "hovermode": "closest",
          "mapbox": {
           "style": "light"
          },
          "paper_bgcolor": "white",
          "plot_bgcolor": "#E5ECF6",
          "polar": {
           "angularaxis": {
            "gridcolor": "white",
            "linecolor": "white",
            "ticks": ""
           },
           "bgcolor": "#E5ECF6",
           "radialaxis": {
            "gridcolor": "white",
            "linecolor": "white",
            "ticks": ""
           }
          },
          "scene": {
           "xaxis": {
            "backgroundcolor": "#E5ECF6",
            "gridcolor": "white",
            "gridwidth": 2,
            "linecolor": "white",
            "showbackground": true,
            "ticks": "",
            "zerolinecolor": "white"
           },
           "yaxis": {
            "backgroundcolor": "#E5ECF6",
            "gridcolor": "white",
            "gridwidth": 2,
            "linecolor": "white",
            "showbackground": true,
            "ticks": "",
            "zerolinecolor": "white"
           },
           "zaxis": {
            "backgroundcolor": "#E5ECF6",
            "gridcolor": "white",
            "gridwidth": 2,
            "linecolor": "white",
            "showbackground": true,
            "ticks": "",
            "zerolinecolor": "white"
           }
          },
          "shapedefaults": {
           "line": {
            "color": "#2a3f5f"
           }
          },
          "ternary": {
           "aaxis": {
            "gridcolor": "white",
            "linecolor": "white",
            "ticks": ""
           },
           "baxis": {
            "gridcolor": "white",
            "linecolor": "white",
            "ticks": ""
           },
           "bgcolor": "#E5ECF6",
           "caxis": {
            "gridcolor": "white",
            "linecolor": "white",
            "ticks": ""
           }
          },
          "title": {
           "x": 0.05
          },
          "xaxis": {
           "automargin": true,
           "gridcolor": "white",
           "linecolor": "white",
           "ticks": "",
           "title": {
            "standoff": 15
           },
           "zerolinecolor": "white",
           "zerolinewidth": 2
          },
          "yaxis": {
           "automargin": true,
           "gridcolor": "white",
           "linecolor": "white",
           "ticks": "",
           "title": {
            "standoff": 15
           },
           "zerolinecolor": "white",
           "zerolinewidth": 2
          }
         }
        },
        "title": {
         "text": "GANTT Chart"
        },
        "xaxis": {
         "range": [
          "1970-01-01T01:14:10",
          "1970-01-01T17:02:14"
         ],
         "title": {
          "font": {
           "color": "#7f7f7f",
           "family": "Courier New, monospace",
           "size": 18
          },
          "text": "Time"
         }
        },
        "yaxis": {
         "title": {
          "font": {
           "color": "#7f7f7f",
           "family": "Courier New, monospace",
           "size": 18
          },
          "text": "Activities"
         }
        }
       }
      },
      "text/html": [
       "<div>                            <div id=\"b699b943-c9fb-4cbe-b2c9-09e6abaa5aed\" class=\"plotly-graph-div\" style=\"height:525px; width:100%;\"></div>            <script type=\"text/javascript\">                require([\"plotly\"], function(Plotly) {                    window.PLOTLYENV=window.PLOTLYENV || {};                                    if (document.getElementById(\"b699b943-c9fb-4cbe-b2c9-09e6abaa5aed\")) {                    Plotly.newPlot(                        \"b699b943-c9fb-4cbe-b2c9-09e6abaa5aed\",                        [{\"connectgaps\":false,\"hoverinfo\":\"y+name\",\"line\":{\"color\":\"rgb(250,241,24)\",\"width\":10},\"mode\":\"lines\",\"name\":\"loading:barge_4\",\"x\":[\"1970-01-01T03:44:10\",\"1970-01-01T03:44:10\",\"1970-01-01T04:25:50\",\"1970-01-01T04:25:50\",\"1970-01-01T04:25:50\",\"1970-01-01T07:39:14\",\"1970-01-01T07:39:14\",\"1970-01-01T08:20:54\",\"1970-01-01T08:20:54\",\"1970-01-01T08:20:54\",\"1970-01-01T12:14:14\",\"1970-01-01T12:14:14\",\"1970-01-01T12:55:54\",\"1970-01-01T12:55:54\",\"1970-01-01T12:55:54\",\"1970-01-01T03:44:10\",\"1970-01-01T03:44:10\",\"1970-01-01T04:25:50\",\"1970-01-01T04:25:50\",\"1970-01-01T04:25:50\",\"1970-01-01T07:39:14\",\"1970-01-01T07:39:14\",\"1970-01-01T08:20:54\",\"1970-01-01T08:20:54\",\"1970-01-01T08:20:54\",\"1970-01-01T12:14:14\",\"1970-01-01T12:14:14\",\"1970-01-01T12:55:54\",\"1970-01-01T12:55:54\",\"1970-01-01T12:55:54\"],\"y\":[\"from_site\",\"from_site\",\"from_site\",\"from_site\",null,\"from_site\",\"from_site\",\"from_site\",\"from_site\",null,\"from_site\",\"from_site\",\"from_site\",\"from_site\",null,\"cutter\",\"cutter\",\"cutter\",\"cutter\",null,\"cutter\",\"cutter\",\"cutter\",\"cutter\",null,\"cutter\",\"cutter\",\"cutter\",\"cutter\",null],\"type\":\"scatter\"},{\"connectgaps\":false,\"hoverinfo\":\"y+name\",\"line\":{\"color\":\"rgb(8,255,38)\",\"width\":10},\"mode\":\"lines\",\"name\":\"loading:barge_3\",\"x\":[\"1970-01-01T02:29:10\",\"1970-01-01T02:29:10\",\"1970-01-01T03:10:50\",\"1970-01-01T03:10:50\",\"1970-01-01T03:10:50\",\"1970-01-01T06:22:30\",\"1970-01-01T06:22:30\",\"1970-01-01T07:04:10\",\"1970-01-01T07:04:10\",\"1970-01-01T07:04:10\",\"1970-01-01T10:17:34\",\"1970-01-01T10:17:34\",\"1970-01-01T10:59:14\",\"1970-01-01T10:59:14\",\"1970-01-01T10:59:14\",\"1970-01-01T14:16:02\",\"1970-01-01T14:16:02\",\"1970-01-01T14:57:42\",\"1970-01-01T14:57:42\",\"1970-01-01T14:57:42\",\"1970-01-01T02:29:10\",\"1970-01-01T02:29:10\",\"1970-01-01T03:10:50\",\"1970-01-01T03:10:50\",\"1970-01-01T03:10:50\",\"1970-01-01T06:22:30\",\"1970-01-01T06:22:30\",\"1970-01-01T07:04:10\",\"1970-01-01T07:04:10\",\"1970-01-01T07:04:10\",\"1970-01-01T10:17:34\",\"1970-01-01T10:17:34\",\"1970-01-01T10:59:14\",\"1970-01-01T10:59:14\",\"1970-01-01T10:59:14\",\"1970-01-01T14:16:02\",\"1970-01-01T14:16:02\",\"1970-01-01T14:57:42\",\"1970-01-01T14:57:42\",\"1970-01-01T14:57:42\"],\"y\":[\"from_site\",\"from_site\",\"from_site\",\"from_site\",null,\"from_site\",\"from_site\",\"from_site\",\"from_site\",null,\"from_site\",\"from_site\",\"from_site\",\"from_site\",null,\"from_site\",\"from_site\",\"from_site\",\"from_site\",null,\"cutter\",\"cutter\",\"cutter\",\"cutter\",null,\"cutter\",\"cutter\",\"cutter\",\"cutter\",null,\"cutter\",\"cutter\",\"cutter\",\"cutter\",null,\"cutter\",\"cutter\",\"cutter\",\"cutter\",null],\"type\":\"scatter\"},{\"connectgaps\":false,\"hoverinfo\":\"y+name\",\"line\":{\"color\":\"rgb(22,13,52)\",\"width\":10},\"mode\":\"lines\",\"name\":\"loading:barge_2\",\"x\":[\"1970-01-01T03:10:50\",\"1970-01-01T03:10:50\",\"1970-01-01T03:44:10\",\"1970-01-01T03:44:10\",\"1970-01-01T03:44:10\",\"1970-01-01T07:04:10\",\"1970-01-01T07:04:10\",\"1970-01-01T07:37:30\",\"1970-01-01T07:37:30\",\"1970-01-01T07:37:30\",\"1970-01-01T10:59:14\",\"1970-01-01T10:59:14\",\"1970-01-01T11:32:34\",\"1970-01-01T11:32:34\",\"1970-01-01T11:32:34\",\"1970-01-01T14:57:42\",\"1970-01-01T14:57:42\",\"1970-01-01T15:31:02\",\"1970-01-01T15:31:02\",\"1970-01-01T15:31:02\",\"1970-01-01T03:10:50\",\"1970-01-01T03:10:50\",\"1970-01-01T03:44:10\",\"1970-01-01T03:44:10\",\"1970-01-01T03:44:10\",\"1970-01-01T07:04:10\",\"1970-01-01T07:04:10\",\"1970-01-01T07:37:30\",\"1970-01-01T07:37:30\",\"1970-01-01T07:37:30\",\"1970-01-01T10:59:14\",\"1970-01-01T10:59:14\",\"1970-01-01T11:32:34\",\"1970-01-01T11:32:34\",\"1970-01-01T11:32:34\",\"1970-01-01T14:57:42\",\"1970-01-01T14:57:42\",\"1970-01-01T15:31:02\",\"1970-01-01T15:31:02\",\"1970-01-01T15:31:02\"],\"y\":[\"from_site\",\"from_site\",\"from_site\",\"from_site\",null,\"from_site\",\"from_site\",\"from_site\",\"from_site\",null,\"from_site\",\"from_site\",\"from_site\",\"from_site\",null,\"from_site\",\"from_site\",\"from_site\",\"from_site\",null,\"cutter\",\"cutter\",\"cutter\",\"cutter\",null,\"cutter\",\"cutter\",\"cutter\",\"cutter\",null,\"cutter\",\"cutter\",\"cutter\",\"cutter\",null,\"cutter\",\"cutter\",\"cutter\",\"cutter\",null],\"type\":\"scatter\"},{\"connectgaps\":false,\"hoverinfo\":\"y+name\",\"line\":{\"color\":\"rgb(36,27,66)\",\"width\":10},\"mode\":\"lines\",\"name\":\"loading:barge_5\",\"x\":[\"1970-01-01T01:55:50\",\"1970-01-01T01:55:50\",\"1970-01-01T02:29:10\",\"1970-01-01T02:29:10\",\"1970-01-01T02:29:10\",\"1970-01-01T05:49:10\",\"1970-01-01T05:49:10\",\"1970-01-01T06:22:30\",\"1970-01-01T06:22:30\",\"1970-01-01T06:22:30\",\"1970-01-01T09:44:14\",\"1970-01-01T09:44:14\",\"1970-01-01T10:17:34\",\"1970-01-01T10:17:34\",\"1970-01-01T10:17:34\",\"1970-01-01T13:42:42\",\"1970-01-01T13:42:42\",\"1970-01-01T14:16:02\",\"1970-01-01T14:16:02\",\"1970-01-01T14:16:02\",\"1970-01-01T01:55:50\",\"1970-01-01T01:55:50\",\"1970-01-01T02:29:10\",\"1970-01-01T02:29:10\",\"1970-01-01T02:29:10\",\"1970-01-01T05:49:10\",\"1970-01-01T05:49:10\",\"1970-01-01T06:22:30\",\"1970-01-01T06:22:30\",\"1970-01-01T06:22:30\",\"1970-01-01T09:44:14\",\"1970-01-01T09:44:14\",\"1970-01-01T10:17:34\",\"1970-01-01T10:17:34\",\"1970-01-01T10:17:34\",\"1970-01-01T13:42:42\",\"1970-01-01T13:42:42\",\"1970-01-01T14:16:02\",\"1970-01-01T14:16:02\",\"1970-01-01T14:16:02\"],\"y\":[\"from_site\",\"from_site\",\"from_site\",\"from_site\",null,\"from_site\",\"from_site\",\"from_site\",\"from_site\",null,\"from_site\",\"from_site\",\"from_site\",\"from_site\",null,\"from_site\",\"from_site\",\"from_site\",\"from_site\",null,\"cutter\",\"cutter\",\"cutter\",\"cutter\",null,\"cutter\",\"cutter\",\"cutter\",\"cutter\",null,\"cutter\",\"cutter\",\"cutter\",\"cutter\",null,\"cutter\",\"cutter\",\"cutter\",\"cutter\",null],\"type\":\"scatter\"},{\"connectgaps\":false,\"hoverinfo\":\"y+name\",\"line\":{\"color\":\"rgb(50,41,80)\",\"width\":10},\"mode\":\"lines\",\"name\":\"loading:barge_0\",\"x\":[\"1970-01-01T01:14:10\",\"1970-01-01T01:14:10\",\"1970-01-01T01:55:50\",\"1970-01-01T01:55:50\",\"1970-01-01T01:55:50\",\"1970-01-01T05:07:30\",\"1970-01-01T05:07:30\",\"1970-01-01T05:49:10\",\"1970-01-01T05:49:10\",\"1970-01-01T05:49:10\",\"1970-01-01T08:20:54\",\"1970-01-01T08:20:54\",\"1970-01-01T09:02:34\",\"1970-01-01T09:02:34\",\"1970-01-01T09:02:34\",\"1970-01-01T11:32:34\",\"1970-01-01T11:32:34\",\"1970-01-01T12:14:14\",\"1970-01-01T12:14:14\",\"1970-01-01T12:14:14\",\"1970-01-01T01:14:10\",\"1970-01-01T01:14:10\",\"1970-01-01T01:55:50\",\"1970-01-01T01:55:50\",\"1970-01-01T01:55:50\",\"1970-01-01T05:07:30\",\"1970-01-01T05:07:30\",\"1970-01-01T05:49:10\",\"1970-01-01T05:49:10\",\"1970-01-01T05:49:10\",\"1970-01-01T08:20:54\",\"1970-01-01T08:20:54\",\"1970-01-01T09:02:34\",\"1970-01-01T09:02:34\",\"1970-01-01T09:02:34\",\"1970-01-01T11:32:34\",\"1970-01-01T11:32:34\",\"1970-01-01T12:14:14\",\"1970-01-01T12:14:14\",\"1970-01-01T12:14:14\"],\"y\":[\"from_site\",\"from_site\",\"from_site\",\"from_site\",null,\"from_site\",\"from_site\",\"from_site\",\"from_site\",null,\"from_site\",\"from_site\",\"from_site\",\"from_site\",null,\"from_site\",\"from_site\",\"from_site\",\"from_site\",null,\"cutter\",\"cutter\",\"cutter\",\"cutter\",null,\"cutter\",\"cutter\",\"cutter\",\"cutter\",null,\"cutter\",\"cutter\",\"cutter\",\"cutter\",null,\"cutter\",\"cutter\",\"cutter\",\"cutter\",null],\"type\":\"scatter\"},{\"connectgaps\":false,\"hoverinfo\":\"y+name\",\"line\":{\"color\":\"rgb(64,55,94)\",\"width\":10},\"mode\":\"lines\",\"name\":\"loading:barge_1\",\"x\":[\"1970-01-01T04:25:50\",\"1970-01-01T04:25:50\",\"1970-01-01T05:07:30\",\"1970-01-01T05:07:30\",\"1970-01-01T05:07:30\",\"1970-01-01T09:02:34\",\"1970-01-01T09:02:34\",\"1970-01-01T09:44:14\",\"1970-01-01T09:44:14\",\"1970-01-01T09:44:14\",\"1970-01-01T13:01:02\",\"1970-01-01T13:01:02\",\"1970-01-01T13:42:42\",\"1970-01-01T13:42:42\",\"1970-01-01T13:42:42\",\"1970-01-01T04:25:50\",\"1970-01-01T04:25:50\",\"1970-01-01T05:07:30\",\"1970-01-01T05:07:30\",\"1970-01-01T05:07:30\",\"1970-01-01T09:02:34\",\"1970-01-01T09:02:34\",\"1970-01-01T09:44:14\",\"1970-01-01T09:44:14\",\"1970-01-01T09:44:14\",\"1970-01-01T13:01:02\",\"1970-01-01T13:01:02\",\"1970-01-01T13:42:42\",\"1970-01-01T13:42:42\",\"1970-01-01T13:42:42\"],\"y\":[\"from_site\",\"from_site\",\"from_site\",\"from_site\",null,\"from_site\",\"from_site\",\"from_site\",\"from_site\",null,\"from_site\",\"from_site\",\"from_site\",\"from_site\",null,\"cutter\",\"cutter\",\"cutter\",\"cutter\",null,\"cutter\",\"cutter\",\"cutter\",\"cutter\",null,\"cutter\",\"cutter\",\"cutter\",\"cutter\",null],\"type\":\"scatter\"},{\"connectgaps\":false,\"hoverinfo\":\"y+name\",\"line\":{\"color\":\"rgb(78,69,108)\",\"width\":10},\"mode\":\"lines\",\"name\":\"unloading:barge_5\",\"x\":[\"1970-01-01T03:11:27\",\"1970-01-01T03:11:27\",\"1970-01-01T03:53:44\",\"1970-01-01T03:53:44\",\"1970-01-01T03:53:44\",\"1970-01-01T07:04:47\",\"1970-01-01T07:04:47\",\"1970-01-01T07:47:04\",\"1970-01-01T07:47:04\",\"1970-01-01T07:47:04\",\"1970-01-01T10:59:51\",\"1970-01-01T10:59:51\",\"1970-01-01T11:42:08\",\"1970-01-01T11:42:08\",\"1970-01-01T11:42:08\",\"1970-01-01T14:58:19\",\"1970-01-01T14:58:19\",\"1970-01-01T15:40:36\",\"1970-01-01T15:40:36\",\"1970-01-01T15:40:36\"],\"y\":[\"to_site\",\"to_site\",\"to_site\",\"to_site\",null,\"to_site\",\"to_site\",\"to_site\",\"to_site\",null,\"to_site\",\"to_site\",\"to_site\",\"to_site\",null,\"to_site\",\"to_site\",\"to_site\",\"to_site\",null],\"type\":\"scatter\"},{\"connectgaps\":false,\"hoverinfo\":\"y+name\",\"line\":{\"color\":\"rgb(92,83,122)\",\"width\":10},\"mode\":\"lines\",\"name\":\"unloading:barge_0\",\"x\":[\"1970-01-01T02:32:55\",\"1970-01-01T02:32:55\",\"1970-01-01T03:10:00\",\"1970-01-01T03:10:00\",\"1970-01-01T03:10:00\",\"1970-01-01T06:26:15\",\"1970-01-01T06:26:15\",\"1970-01-01T07:03:20\",\"1970-01-01T07:03:20\",\"1970-01-01T07:03:20\",\"1970-01-01T09:39:39\",\"1970-01-01T09:39:39\",\"1970-01-01T10:16:44\",\"1970-01-01T10:16:44\",\"1970-01-01T10:16:44\",\"1970-01-01T12:51:19\",\"1970-01-01T12:51:19\",\"1970-01-01T13:28:24\",\"1970-01-01T13:28:24\",\"1970-01-01T13:28:24\"],\"y\":[\"to_site\",\"to_site\",\"to_site\",\"to_site\",null,\"to_site\",\"to_site\",\"to_site\",\"to_site\",null,\"to_site\",\"to_site\",\"to_site\",\"to_site\",null,\"to_site\",\"to_site\",\"to_site\",\"to_site\",null],\"type\":\"scatter\"},{\"connectgaps\":false,\"hoverinfo\":\"y+name\",\"line\":{\"color\":\"rgb(106,97,136)\",\"width\":10},\"mode\":\"lines\",\"name\":\"unloading:barge_3\",\"x\":[\"1970-01-01T03:54:54\",\"1970-01-01T03:54:54\",\"1970-01-01T04:38:58\",\"1970-01-01T04:38:58\",\"1970-01-01T04:38:58\",\"1970-01-01T07:48:14\",\"1970-01-01T07:48:14\",\"1970-01-01T08:32:18\",\"1970-01-01T08:32:18\",\"1970-01-01T08:32:18\",\"1970-01-01T11:43:18\",\"1970-01-01T11:43:18\",\"1970-01-01T12:27:22\",\"1970-01-01T12:27:22\",\"1970-01-01T12:27:22\",\"1970-01-01T15:41:46\",\"1970-01-01T15:41:46\",\"1970-01-01T16:25:50\",\"1970-01-01T16:25:50\",\"1970-01-01T16:25:50\"],\"y\":[\"to_site\",\"to_site\",\"to_site\",\"to_site\",null,\"to_site\",\"to_site\",\"to_site\",\"to_site\",null,\"to_site\",\"to_site\",\"to_site\",\"to_site\",null,\"to_site\",\"to_site\",\"to_site\",\"to_site\",null],\"type\":\"scatter\"},{\"connectgaps\":false,\"hoverinfo\":\"y+name\",\"line\":{\"color\":\"rgb(120,111,150)\",\"width\":10},\"mode\":\"lines\",\"name\":\"unloading:barge_1\",\"x\":[\"1970-01-01T05:56:42\",\"1970-01-01T05:56:42\",\"1970-01-01T06:45:54\",\"1970-01-01T06:45:54\",\"1970-01-01T06:45:54\",\"1970-01-01T10:33:26\",\"1970-01-01T10:33:26\",\"1970-01-01T11:22:38\",\"1970-01-01T11:22:38\",\"1970-01-01T11:22:38\",\"1970-01-01T14:31:54\",\"1970-01-01T14:31:54\",\"1970-01-01T15:21:06\",\"1970-01-01T15:21:06\",\"1970-01-01T15:21:06\"],\"y\":[\"to_site\",\"to_site\",\"to_site\",\"to_site\",null,\"to_site\",\"to_site\",\"to_site\",\"to_site\",null,\"to_site\",\"to_site\",\"to_site\",\"to_site\",null],\"type\":\"scatter\"},{\"connectgaps\":false,\"hoverinfo\":\"y+name\",\"line\":{\"color\":\"rgb(134,125,164)\",\"width\":10},\"mode\":\"lines\",\"name\":\"unloading:barge_4\",\"x\":[\"1970-01-01T05:14:11\",\"1970-01-01T05:14:11\",\"1970-01-01T06:02:32\",\"1970-01-01T06:02:32\",\"1970-01-01T06:02:32\",\"1970-01-01T09:09:15\",\"1970-01-01T09:09:15\",\"1970-01-01T09:57:36\",\"1970-01-01T09:57:36\",\"1970-01-01T09:57:36\",\"1970-01-01T13:44:15\",\"1970-01-01T13:44:15\",\"1970-01-01T14:32:36\",\"1970-01-01T14:32:36\",\"1970-01-01T14:32:36\"],\"y\":[\"to_site\",\"to_site\",\"to_site\",\"to_site\",null,\"to_site\",\"to_site\",\"to_site\",\"to_site\",null,\"to_site\",\"to_site\",\"to_site\",\"to_site\",null],\"type\":\"scatter\"},{\"connectgaps\":false,\"hoverinfo\":\"y+name\",\"line\":{\"color\":\"rgb(148,139,178)\",\"width\":10},\"mode\":\"lines\",\"name\":\"unloading:barge_2\",\"x\":[\"1970-01-01T04:29:46\",\"1970-01-01T04:29:46\",\"1970-01-01T05:15:22\",\"1970-01-01T05:15:22\",\"1970-01-01T05:15:22\",\"1970-01-01T08:23:06\",\"1970-01-01T08:23:06\",\"1970-01-01T09:08:42\",\"1970-01-01T09:08:42\",\"1970-01-01T09:08:42\",\"1970-01-01T12:18:10\",\"1970-01-01T12:18:10\",\"1970-01-01T13:03:46\",\"1970-01-01T13:03:46\",\"1970-01-01T13:03:46\",\"1970-01-01T16:16:38\",\"1970-01-01T16:16:38\",\"1970-01-01T17:02:14\",\"1970-01-01T17:02:14\",\"1970-01-01T17:02:14\"],\"y\":[\"to_site\",\"to_site\",\"to_site\",\"to_site\",null,\"to_site\",\"to_site\",\"to_site\",\"to_site\",null,\"to_site\",\"to_site\",\"to_site\",\"to_site\",null,\"to_site\",\"to_site\",\"to_site\",\"to_site\",null],\"type\":\"scatter\"},{\"connectgaps\":false,\"hoverinfo\":\"y+name\",\"line\":{\"color\":\"rgb(162,153,192)\",\"width\":10},\"mode\":\"lines\",\"name\":\"loading:barge_4\",\"x\":[\"1970-01-01T03:44:10\",\"1970-01-01T03:44:10\",\"1970-01-01T04:25:50\",\"1970-01-01T04:25:50\",\"1970-01-01T04:25:50\",\"1970-01-01T07:39:14\",\"1970-01-01T07:39:14\",\"1970-01-01T08:20:54\",\"1970-01-01T08:20:54\",\"1970-01-01T08:20:54\",\"1970-01-01T12:14:14\",\"1970-01-01T12:14:14\",\"1970-01-01T12:55:54\",\"1970-01-01T12:55:54\",\"1970-01-01T12:55:54\",\"1970-01-01T03:44:10\",\"1970-01-01T03:44:10\",\"1970-01-01T04:25:50\",\"1970-01-01T04:25:50\",\"1970-01-01T04:25:50\",\"1970-01-01T07:39:14\",\"1970-01-01T07:39:14\",\"1970-01-01T08:20:54\",\"1970-01-01T08:20:54\",\"1970-01-01T08:20:54\",\"1970-01-01T12:14:14\",\"1970-01-01T12:14:14\",\"1970-01-01T12:55:54\",\"1970-01-01T12:55:54\",\"1970-01-01T12:55:54\"],\"y\":[\"from_site\",\"from_site\",\"from_site\",\"from_site\",null,\"from_site\",\"from_site\",\"from_site\",\"from_site\",null,\"from_site\",\"from_site\",\"from_site\",\"from_site\",null,\"cutter\",\"cutter\",\"cutter\",\"cutter\",null,\"cutter\",\"cutter\",\"cutter\",\"cutter\",null,\"cutter\",\"cutter\",\"cutter\",\"cutter\",null],\"type\":\"scatter\"},{\"connectgaps\":false,\"hoverinfo\":\"y+name\",\"line\":{\"color\":\"rgb(176,167,206)\",\"width\":10},\"mode\":\"lines\",\"name\":\"loading:barge_3\",\"x\":[\"1970-01-01T02:29:10\",\"1970-01-01T02:29:10\",\"1970-01-01T03:10:50\",\"1970-01-01T03:10:50\",\"1970-01-01T03:10:50\",\"1970-01-01T06:22:30\",\"1970-01-01T06:22:30\",\"1970-01-01T07:04:10\",\"1970-01-01T07:04:10\",\"1970-01-01T07:04:10\",\"1970-01-01T10:17:34\",\"1970-01-01T10:17:34\",\"1970-01-01T10:59:14\",\"1970-01-01T10:59:14\",\"1970-01-01T10:59:14\",\"1970-01-01T14:16:02\",\"1970-01-01T14:16:02\",\"1970-01-01T14:57:42\",\"1970-01-01T14:57:42\",\"1970-01-01T14:57:42\",\"1970-01-01T02:29:10\",\"1970-01-01T02:29:10\",\"1970-01-01T03:10:50\",\"1970-01-01T03:10:50\",\"1970-01-01T03:10:50\",\"1970-01-01T06:22:30\",\"1970-01-01T06:22:30\",\"1970-01-01T07:04:10\",\"1970-01-01T07:04:10\",\"1970-01-01T07:04:10\",\"1970-01-01T10:17:34\",\"1970-01-01T10:17:34\",\"1970-01-01T10:59:14\",\"1970-01-01T10:59:14\",\"1970-01-01T10:59:14\",\"1970-01-01T14:16:02\",\"1970-01-01T14:16:02\",\"1970-01-01T14:57:42\",\"1970-01-01T14:57:42\",\"1970-01-01T14:57:42\"],\"y\":[\"from_site\",\"from_site\",\"from_site\",\"from_site\",null,\"from_site\",\"from_site\",\"from_site\",\"from_site\",null,\"from_site\",\"from_site\",\"from_site\",\"from_site\",null,\"from_site\",\"from_site\",\"from_site\",\"from_site\",null,\"cutter\",\"cutter\",\"cutter\",\"cutter\",null,\"cutter\",\"cutter\",\"cutter\",\"cutter\",null,\"cutter\",\"cutter\",\"cutter\",\"cutter\",null,\"cutter\",\"cutter\",\"cutter\",\"cutter\",null],\"type\":\"scatter\"},{\"connectgaps\":false,\"hoverinfo\":\"y+name\",\"line\":{\"color\":\"rgb(190,181,220)\",\"width\":10},\"mode\":\"lines\",\"name\":\"loading:barge_2\",\"x\":[\"1970-01-01T03:10:50\",\"1970-01-01T03:10:50\",\"1970-01-01T03:44:10\",\"1970-01-01T03:44:10\",\"1970-01-01T03:44:10\",\"1970-01-01T07:04:10\",\"1970-01-01T07:04:10\",\"1970-01-01T07:37:30\",\"1970-01-01T07:37:30\",\"1970-01-01T07:37:30\",\"1970-01-01T10:59:14\",\"1970-01-01T10:59:14\",\"1970-01-01T11:32:34\",\"1970-01-01T11:32:34\",\"1970-01-01T11:32:34\",\"1970-01-01T14:57:42\",\"1970-01-01T14:57:42\",\"1970-01-01T15:31:02\",\"1970-01-01T15:31:02\",\"1970-01-01T15:31:02\",\"1970-01-01T03:10:50\",\"1970-01-01T03:10:50\",\"1970-01-01T03:44:10\",\"1970-01-01T03:44:10\",\"1970-01-01T03:44:10\",\"1970-01-01T07:04:10\",\"1970-01-01T07:04:10\",\"1970-01-01T07:37:30\",\"1970-01-01T07:37:30\",\"1970-01-01T07:37:30\",\"1970-01-01T10:59:14\",\"1970-01-01T10:59:14\",\"1970-01-01T11:32:34\",\"1970-01-01T11:32:34\",\"1970-01-01T11:32:34\",\"1970-01-01T14:57:42\",\"1970-01-01T14:57:42\",\"1970-01-01T15:31:02\",\"1970-01-01T15:31:02\",\"1970-01-01T15:31:02\"],\"y\":[\"from_site\",\"from_site\",\"from_site\",\"from_site\",null,\"from_site\",\"from_site\",\"from_site\",\"from_site\",null,\"from_site\",\"from_site\",\"from_site\",\"from_site\",null,\"from_site\",\"from_site\",\"from_site\",\"from_site\",null,\"cutter\",\"cutter\",\"cutter\",\"cutter\",null,\"cutter\",\"cutter\",\"cutter\",\"cutter\",null,\"cutter\",\"cutter\",\"cutter\",\"cutter\",null,\"cutter\",\"cutter\",\"cutter\",\"cutter\",null],\"type\":\"scatter\"},{\"connectgaps\":false,\"hoverinfo\":\"y+name\",\"line\":{\"color\":\"rgb(204,195,234)\",\"width\":10},\"mode\":\"lines\",\"name\":\"loading:barge_5\",\"x\":[\"1970-01-01T01:55:50\",\"1970-01-01T01:55:50\",\"1970-01-01T02:29:10\",\"1970-01-01T02:29:10\",\"1970-01-01T02:29:10\",\"1970-01-01T05:49:10\",\"1970-01-01T05:49:10\",\"1970-01-01T06:22:30\",\"1970-01-01T06:22:30\",\"1970-01-01T06:22:30\",\"1970-01-01T09:44:14\",\"1970-01-01T09:44:14\",\"1970-01-01T10:17:34\",\"1970-01-01T10:17:34\",\"1970-01-01T10:17:34\",\"1970-01-01T13:42:42\",\"1970-01-01T13:42:42\",\"1970-01-01T14:16:02\",\"1970-01-01T14:16:02\",\"1970-01-01T14:16:02\",\"1970-01-01T01:55:50\",\"1970-01-01T01:55:50\",\"1970-01-01T02:29:10\",\"1970-01-01T02:29:10\",\"1970-01-01T02:29:10\",\"1970-01-01T05:49:10\",\"1970-01-01T05:49:10\",\"1970-01-01T06:22:30\",\"1970-01-01T06:22:30\",\"1970-01-01T06:22:30\",\"1970-01-01T09:44:14\",\"1970-01-01T09:44:14\",\"1970-01-01T10:17:34\",\"1970-01-01T10:17:34\",\"1970-01-01T10:17:34\",\"1970-01-01T13:42:42\",\"1970-01-01T13:42:42\",\"1970-01-01T14:16:02\",\"1970-01-01T14:16:02\",\"1970-01-01T14:16:02\"],\"y\":[\"from_site\",\"from_site\",\"from_site\",\"from_site\",null,\"from_site\",\"from_site\",\"from_site\",\"from_site\",null,\"from_site\",\"from_site\",\"from_site\",\"from_site\",null,\"from_site\",\"from_site\",\"from_site\",\"from_site\",null,\"cutter\",\"cutter\",\"cutter\",\"cutter\",null,\"cutter\",\"cutter\",\"cutter\",\"cutter\",null,\"cutter\",\"cutter\",\"cutter\",\"cutter\",null,\"cutter\",\"cutter\",\"cutter\",\"cutter\",null],\"type\":\"scatter\"},{\"connectgaps\":false,\"hoverinfo\":\"y+name\",\"line\":{\"color\":\"rgb(218,209,248)\",\"width\":10},\"mode\":\"lines\",\"name\":\"loading:barge_0\",\"x\":[\"1970-01-01T01:14:10\",\"1970-01-01T01:14:10\",\"1970-01-01T01:55:50\",\"1970-01-01T01:55:50\",\"1970-01-01T01:55:50\",\"1970-01-01T05:07:30\",\"1970-01-01T05:07:30\",\"1970-01-01T05:49:10\",\"1970-01-01T05:49:10\",\"1970-01-01T05:49:10\",\"1970-01-01T08:20:54\",\"1970-01-01T08:20:54\",\"1970-01-01T09:02:34\",\"1970-01-01T09:02:34\",\"1970-01-01T09:02:34\",\"1970-01-01T11:32:34\",\"1970-01-01T11:32:34\",\"1970-01-01T12:14:14\",\"1970-01-01T12:14:14\",\"1970-01-01T12:14:14\",\"1970-01-01T01:14:10\",\"1970-01-01T01:14:10\",\"1970-01-01T01:55:50\",\"1970-01-01T01:55:50\",\"1970-01-01T01:55:50\",\"1970-01-01T05:07:30\",\"1970-01-01T05:07:30\",\"1970-01-01T05:49:10\",\"1970-01-01T05:49:10\",\"1970-01-01T05:49:10\",\"1970-01-01T08:20:54\",\"1970-01-01T08:20:54\",\"1970-01-01T09:02:34\",\"1970-01-01T09:02:34\",\"1970-01-01T09:02:34\",\"1970-01-01T11:32:34\",\"1970-01-01T11:32:34\",\"1970-01-01T12:14:14\",\"1970-01-01T12:14:14\",\"1970-01-01T12:14:14\"],\"y\":[\"from_site\",\"from_site\",\"from_site\",\"from_site\",null,\"from_site\",\"from_site\",\"from_site\",\"from_site\",null,\"from_site\",\"from_site\",\"from_site\",\"from_site\",null,\"from_site\",\"from_site\",\"from_site\",\"from_site\",null,\"cutter\",\"cutter\",\"cutter\",\"cutter\",null,\"cutter\",\"cutter\",\"cutter\",\"cutter\",null,\"cutter\",\"cutter\",\"cutter\",\"cutter\",null,\"cutter\",\"cutter\",\"cutter\",\"cutter\",null],\"type\":\"scatter\"},{\"connectgaps\":false,\"hoverinfo\":\"y+name\",\"line\":{\"color\":\"rgb(232,223,6)\",\"width\":10},\"mode\":\"lines\",\"name\":\"loading:barge_1\",\"x\":[\"1970-01-01T04:25:50\",\"1970-01-01T04:25:50\",\"1970-01-01T05:07:30\",\"1970-01-01T05:07:30\",\"1970-01-01T05:07:30\",\"1970-01-01T09:02:34\",\"1970-01-01T09:02:34\",\"1970-01-01T09:44:14\",\"1970-01-01T09:44:14\",\"1970-01-01T09:44:14\",\"1970-01-01T13:01:02\",\"1970-01-01T13:01:02\",\"1970-01-01T13:42:42\",\"1970-01-01T13:42:42\",\"1970-01-01T13:42:42\",\"1970-01-01T04:25:50\",\"1970-01-01T04:25:50\",\"1970-01-01T05:07:30\",\"1970-01-01T05:07:30\",\"1970-01-01T05:07:30\",\"1970-01-01T09:02:34\",\"1970-01-01T09:02:34\",\"1970-01-01T09:44:14\",\"1970-01-01T09:44:14\",\"1970-01-01T09:44:14\",\"1970-01-01T13:01:02\",\"1970-01-01T13:01:02\",\"1970-01-01T13:42:42\",\"1970-01-01T13:42:42\",\"1970-01-01T13:42:42\"],\"y\":[\"from_site\",\"from_site\",\"from_site\",\"from_site\",null,\"from_site\",\"from_site\",\"from_site\",\"from_site\",null,\"from_site\",\"from_site\",\"from_site\",\"from_site\",null,\"cutter\",\"cutter\",\"cutter\",\"cutter\",null,\"cutter\",\"cutter\",\"cutter\",\"cutter\",null,\"cutter\",\"cutter\",\"cutter\",\"cutter\",null],\"type\":\"scatter\"}],                        {\"hovermode\":\"closest\",\"legend\":{\"orientation\":\"h\",\"x\":0,\"y\":-0.2},\"template\":{\"data\":{\"barpolar\":[{\"marker\":{\"line\":{\"color\":\"#E5ECF6\",\"width\":0.5},\"pattern\":{\"fillmode\":\"overlay\",\"size\":10,\"solidity\":0.2}},\"type\":\"barpolar\"}],\"bar\":[{\"error_x\":{\"color\":\"#2a3f5f\"},\"error_y\":{\"color\":\"#2a3f5f\"},\"marker\":{\"line\":{\"color\":\"#E5ECF6\",\"width\":0.5},\"pattern\":{\"fillmode\":\"overlay\",\"size\":10,\"solidity\":0.2}},\"type\":\"bar\"}],\"carpet\":[{\"aaxis\":{\"endlinecolor\":\"#2a3f5f\",\"gridcolor\":\"white\",\"linecolor\":\"white\",\"minorgridcolor\":\"white\",\"startlinecolor\":\"#2a3f5f\"},\"baxis\":{\"endlinecolor\":\"#2a3f5f\",\"gridcolor\":\"white\",\"linecolor\":\"white\",\"minorgridcolor\":\"white\",\"startlinecolor\":\"#2a3f5f\"},\"type\":\"carpet\"}],\"choropleth\":[{\"colorbar\":{\"outlinewidth\":0,\"ticks\":\"\"},\"type\":\"choropleth\"}],\"contourcarpet\":[{\"colorbar\":{\"outlinewidth\":0,\"ticks\":\"\"},\"type\":\"contourcarpet\"}],\"contour\":[{\"colorbar\":{\"outlinewidth\":0,\"ticks\":\"\"},\"colorscale\":[[0.0,\"#0d0887\"],[0.1111111111111111,\"#46039f\"],[0.2222222222222222,\"#7201a8\"],[0.3333333333333333,\"#9c179e\"],[0.4444444444444444,\"#bd3786\"],[0.5555555555555556,\"#d8576b\"],[0.6666666666666666,\"#ed7953\"],[0.7777777777777778,\"#fb9f3a\"],[0.8888888888888888,\"#fdca26\"],[1.0,\"#f0f921\"]],\"type\":\"contour\"}],\"heatmapgl\":[{\"colorbar\":{\"outlinewidth\":0,\"ticks\":\"\"},\"colorscale\":[[0.0,\"#0d0887\"],[0.1111111111111111,\"#46039f\"],[0.2222222222222222,\"#7201a8\"],[0.3333333333333333,\"#9c179e\"],[0.4444444444444444,\"#bd3786\"],[0.5555555555555556,\"#d8576b\"],[0.6666666666666666,\"#ed7953\"],[0.7777777777777778,\"#fb9f3a\"],[0.8888888888888888,\"#fdca26\"],[1.0,\"#f0f921\"]],\"type\":\"heatmapgl\"}],\"heatmap\":[{\"colorbar\":{\"outlinewidth\":0,\"ticks\":\"\"},\"colorscale\":[[0.0,\"#0d0887\"],[0.1111111111111111,\"#46039f\"],[0.2222222222222222,\"#7201a8\"],[0.3333333333333333,\"#9c179e\"],[0.4444444444444444,\"#bd3786\"],[0.5555555555555556,\"#d8576b\"],[0.6666666666666666,\"#ed7953\"],[0.7777777777777778,\"#fb9f3a\"],[0.8888888888888888,\"#fdca26\"],[1.0,\"#f0f921\"]],\"type\":\"heatmap\"}],\"histogram2dcontour\":[{\"colorbar\":{\"outlinewidth\":0,\"ticks\":\"\"},\"colorscale\":[[0.0,\"#0d0887\"],[0.1111111111111111,\"#46039f\"],[0.2222222222222222,\"#7201a8\"],[0.3333333333333333,\"#9c179e\"],[0.4444444444444444,\"#bd3786\"],[0.5555555555555556,\"#d8576b\"],[0.6666666666666666,\"#ed7953\"],[0.7777777777777778,\"#fb9f3a\"],[0.8888888888888888,\"#fdca26\"],[1.0,\"#f0f921\"]],\"type\":\"histogram2dcontour\"}],\"histogram2d\":[{\"colorbar\":{\"outlinewidth\":0,\"ticks\":\"\"},\"colorscale\":[[0.0,\"#0d0887\"],[0.1111111111111111,\"#46039f\"],[0.2222222222222222,\"#7201a8\"],[0.3333333333333333,\"#9c179e\"],[0.4444444444444444,\"#bd3786\"],[0.5555555555555556,\"#d8576b\"],[0.6666666666666666,\"#ed7953\"],[0.7777777777777778,\"#fb9f3a\"],[0.8888888888888888,\"#fdca26\"],[1.0,\"#f0f921\"]],\"type\":\"histogram2d\"}],\"histogram\":[{\"marker\":{\"pattern\":{\"fillmode\":\"overlay\",\"size\":10,\"solidity\":0.2}},\"type\":\"histogram\"}],\"mesh3d\":[{\"colorbar\":{\"outlinewidth\":0,\"ticks\":\"\"},\"type\":\"mesh3d\"}],\"parcoords\":[{\"line\":{\"colorbar\":{\"outlinewidth\":0,\"ticks\":\"\"}},\"type\":\"parcoords\"}],\"pie\":[{\"automargin\":true,\"type\":\"pie\"}],\"scatter3d\":[{\"line\":{\"colorbar\":{\"outlinewidth\":0,\"ticks\":\"\"}},\"marker\":{\"colorbar\":{\"outlinewidth\":0,\"ticks\":\"\"}},\"type\":\"scatter3d\"}],\"scattercarpet\":[{\"marker\":{\"colorbar\":{\"outlinewidth\":0,\"ticks\":\"\"}},\"type\":\"scattercarpet\"}],\"scattergeo\":[{\"marker\":{\"colorbar\":{\"outlinewidth\":0,\"ticks\":\"\"}},\"type\":\"scattergeo\"}],\"scattergl\":[{\"marker\":{\"colorbar\":{\"outlinewidth\":0,\"ticks\":\"\"}},\"type\":\"scattergl\"}],\"scattermapbox\":[{\"marker\":{\"colorbar\":{\"outlinewidth\":0,\"ticks\":\"\"}},\"type\":\"scattermapbox\"}],\"scatterpolargl\":[{\"marker\":{\"colorbar\":{\"outlinewidth\":0,\"ticks\":\"\"}},\"type\":\"scatterpolargl\"}],\"scatterpolar\":[{\"marker\":{\"colorbar\":{\"outlinewidth\":0,\"ticks\":\"\"}},\"type\":\"scatterpolar\"}],\"scatter\":[{\"fillpattern\":{\"fillmode\":\"overlay\",\"size\":10,\"solidity\":0.2},\"type\":\"scatter\"}],\"scatterternary\":[{\"marker\":{\"colorbar\":{\"outlinewidth\":0,\"ticks\":\"\"}},\"type\":\"scatterternary\"}],\"surface\":[{\"colorbar\":{\"outlinewidth\":0,\"ticks\":\"\"},\"colorscale\":[[0.0,\"#0d0887\"],[0.1111111111111111,\"#46039f\"],[0.2222222222222222,\"#7201a8\"],[0.3333333333333333,\"#9c179e\"],[0.4444444444444444,\"#bd3786\"],[0.5555555555555556,\"#d8576b\"],[0.6666666666666666,\"#ed7953\"],[0.7777777777777778,\"#fb9f3a\"],[0.8888888888888888,\"#fdca26\"],[1.0,\"#f0f921\"]],\"type\":\"surface\"}],\"table\":[{\"cells\":{\"fill\":{\"color\":\"#EBF0F8\"},\"line\":{\"color\":\"white\"}},\"header\":{\"fill\":{\"color\":\"#C8D4E3\"},\"line\":{\"color\":\"white\"}},\"type\":\"table\"}]},\"layout\":{\"annotationdefaults\":{\"arrowcolor\":\"#2a3f5f\",\"arrowhead\":0,\"arrowwidth\":1},\"autotypenumbers\":\"strict\",\"coloraxis\":{\"colorbar\":{\"outlinewidth\":0,\"ticks\":\"\"}},\"colorscale\":{\"diverging\":[[0,\"#8e0152\"],[0.1,\"#c51b7d\"],[0.2,\"#de77ae\"],[0.3,\"#f1b6da\"],[0.4,\"#fde0ef\"],[0.5,\"#f7f7f7\"],[0.6,\"#e6f5d0\"],[0.7,\"#b8e186\"],[0.8,\"#7fbc41\"],[0.9,\"#4d9221\"],[1,\"#276419\"]],\"sequential\":[[0.0,\"#0d0887\"],[0.1111111111111111,\"#46039f\"],[0.2222222222222222,\"#7201a8\"],[0.3333333333333333,\"#9c179e\"],[0.4444444444444444,\"#bd3786\"],[0.5555555555555556,\"#d8576b\"],[0.6666666666666666,\"#ed7953\"],[0.7777777777777778,\"#fb9f3a\"],[0.8888888888888888,\"#fdca26\"],[1.0,\"#f0f921\"]],\"sequentialminus\":[[0.0,\"#0d0887\"],[0.1111111111111111,\"#46039f\"],[0.2222222222222222,\"#7201a8\"],[0.3333333333333333,\"#9c179e\"],[0.4444444444444444,\"#bd3786\"],[0.5555555555555556,\"#d8576b\"],[0.6666666666666666,\"#ed7953\"],[0.7777777777777778,\"#fb9f3a\"],[0.8888888888888888,\"#fdca26\"],[1.0,\"#f0f921\"]]},\"colorway\":[\"#636efa\",\"#EF553B\",\"#00cc96\",\"#ab63fa\",\"#FFA15A\",\"#19d3f3\",\"#FF6692\",\"#B6E880\",\"#FF97FF\",\"#FECB52\"],\"font\":{\"color\":\"#2a3f5f\"},\"geo\":{\"bgcolor\":\"white\",\"lakecolor\":\"white\",\"landcolor\":\"#E5ECF6\",\"showlakes\":true,\"showland\":true,\"subunitcolor\":\"white\"},\"hoverlabel\":{\"align\":\"left\"},\"hovermode\":\"closest\",\"mapbox\":{\"style\":\"light\"},\"paper_bgcolor\":\"white\",\"plot_bgcolor\":\"#E5ECF6\",\"polar\":{\"angularaxis\":{\"gridcolor\":\"white\",\"linecolor\":\"white\",\"ticks\":\"\"},\"bgcolor\":\"#E5ECF6\",\"radialaxis\":{\"gridcolor\":\"white\",\"linecolor\":\"white\",\"ticks\":\"\"}},\"scene\":{\"xaxis\":{\"backgroundcolor\":\"#E5ECF6\",\"gridcolor\":\"white\",\"gridwidth\":2,\"linecolor\":\"white\",\"showbackground\":true,\"ticks\":\"\",\"zerolinecolor\":\"white\"},\"yaxis\":{\"backgroundcolor\":\"#E5ECF6\",\"gridcolor\":\"white\",\"gridwidth\":2,\"linecolor\":\"white\",\"showbackground\":true,\"ticks\":\"\",\"zerolinecolor\":\"white\"},\"zaxis\":{\"backgroundcolor\":\"#E5ECF6\",\"gridcolor\":\"white\",\"gridwidth\":2,\"linecolor\":\"white\",\"showbackground\":true,\"ticks\":\"\",\"zerolinecolor\":\"white\"}},\"shapedefaults\":{\"line\":{\"color\":\"#2a3f5f\"}},\"ternary\":{\"aaxis\":{\"gridcolor\":\"white\",\"linecolor\":\"white\",\"ticks\":\"\"},\"baxis\":{\"gridcolor\":\"white\",\"linecolor\":\"white\",\"ticks\":\"\"},\"bgcolor\":\"#E5ECF6\",\"caxis\":{\"gridcolor\":\"white\",\"linecolor\":\"white\",\"ticks\":\"\"}},\"title\":{\"x\":0.05},\"xaxis\":{\"automargin\":true,\"gridcolor\":\"white\",\"linecolor\":\"white\",\"ticks\":\"\",\"title\":{\"standoff\":15},\"zerolinecolor\":\"white\",\"zerolinewidth\":2},\"yaxis\":{\"automargin\":true,\"gridcolor\":\"white\",\"linecolor\":\"white\",\"ticks\":\"\",\"title\":{\"standoff\":15},\"zerolinecolor\":\"white\",\"zerolinewidth\":2}}},\"title\":{\"text\":\"GANTT Chart\"},\"xaxis\":{\"range\":[\"1970-01-01T01:14:10\",\"1970-01-01T17:02:14\"],\"title\":{\"font\":{\"color\":\"#7f7f7f\",\"family\":\"Courier New, monospace\",\"size\":18},\"text\":\"Time\"}},\"yaxis\":{\"title\":{\"font\":{\"color\":\"#7f7f7f\",\"family\":\"Courier New, monospace\",\"size\":18},\"text\":\"Activities\"}}},                        {\"responsive\": true}                    ).then(function(){\n",
       "                            \n",
       "var gd = document.getElementById('b699b943-c9fb-4cbe-b2c9-09e6abaa5aed');\n",
       "var x = new MutationObserver(function (mutations, observer) {{\n",
       "        var display = window.getComputedStyle(gd).display;\n",
       "        if (!display || display === 'none') {{\n",
       "            console.log([gd, 'removed!']);\n",
       "            Plotly.purge(gd);\n",
       "            observer.disconnect();\n",
       "        }}\n",
       "}});\n",
       "\n",
       "// Listen for the removal of the full notebook cells\n",
       "var notebookContainer = gd.closest('#notebook-container');\n",
       "if (notebookContainer) {{\n",
       "    x.observe(notebookContainer, {childList: true});\n",
       "}}\n",
       "\n",
       "// Listen for the clearing of the current output cell\n",
       "var outputEl = gd.closest('.output');\n",
       "if (outputEl) {{\n",
       "    x.observe(outputEl, {childList: true});\n",
       "}}\n",
       "\n",
       "                        })                };                });            </script>        </div>"
      ]
     },
     "metadata": {},
     "output_type": "display_data"
    }
   ],
   "source": [
    "fig = plot.get_gantt_chart([from_site, to_site, cutter], id_map=activities)"
   ]
  },
  {
   "cell_type": "markdown",
   "id": "9d68aee1",
   "metadata": {},
   "source": [
    "Plot only activities whose namespace (first letters) matches load*"
   ]
  },
  {
   "cell_type": "code",
   "execution_count": 18,
   "id": "6141ac61",
   "metadata": {},
   "outputs": [
    {
     "data": {
      "text/html": [
       "        <script type=\"text/javascript\">\n",
       "        window.PlotlyConfig = {MathJaxConfig: 'local'};\n",
       "        if (window.MathJax && window.MathJax.Hub && window.MathJax.Hub.Config) {window.MathJax.Hub.Config({SVG: {font: \"STIX-Web\"}});}\n",
       "        if (typeof require !== 'undefined') {\n",
       "        require.undef(\"plotly\");\n",
       "        requirejs.config({\n",
       "            paths: {\n",
       "                'plotly': ['https://cdn.plot.ly/plotly-2.18.2.min']\n",
       "            }\n",
       "        });\n",
       "        require(['plotly'], function(Plotly) {\n",
       "            window._Plotly = Plotly;\n",
       "        });\n",
       "        }\n",
       "        </script>\n",
       "        "
      ]
     },
     "metadata": {},
     "output_type": "display_data"
    },
    {
     "data": {
      "application/vnd.plotly.v1+json": {
       "config": {
        "linkText": "Export to plot.ly",
        "plotlyServerURL": "https://plot.ly",
        "showLink": false
       },
       "data": [
        {
         "connectgaps": false,
         "hoverinfo": "y+name",
         "line": {
          "color": "rgb(181,49,194)",
          "width": 10
         },
         "mode": "lines",
         "name": "loading:barge_0",
         "type": "scatter",
         "x": [
          "1970-01-01T01:14:10",
          "1970-01-01T01:14:10",
          "1970-01-01T01:55:50",
          "1970-01-01T01:55:50",
          "1970-01-01T01:55:50",
          "1970-01-01T05:07:30",
          "1970-01-01T05:07:30",
          "1970-01-01T05:49:10",
          "1970-01-01T05:49:10",
          "1970-01-01T05:49:10",
          "1970-01-01T08:20:54",
          "1970-01-01T08:20:54",
          "1970-01-01T09:02:34",
          "1970-01-01T09:02:34",
          "1970-01-01T09:02:34",
          "1970-01-01T11:32:34",
          "1970-01-01T11:32:34",
          "1970-01-01T12:14:14",
          "1970-01-01T12:14:14",
          "1970-01-01T12:14:14",
          "1970-01-01T01:14:10",
          "1970-01-01T01:14:10",
          "1970-01-01T01:55:50",
          "1970-01-01T01:55:50",
          "1970-01-01T01:55:50",
          "1970-01-01T05:07:30",
          "1970-01-01T05:07:30",
          "1970-01-01T05:49:10",
          "1970-01-01T05:49:10",
          "1970-01-01T05:49:10",
          "1970-01-01T08:20:54",
          "1970-01-01T08:20:54",
          "1970-01-01T09:02:34",
          "1970-01-01T09:02:34",
          "1970-01-01T09:02:34",
          "1970-01-01T11:32:34",
          "1970-01-01T11:32:34",
          "1970-01-01T12:14:14",
          "1970-01-01T12:14:14",
          "1970-01-01T12:14:14"
         ],
         "y": [
          "loading:barge_0",
          "loading:barge_0",
          "loading:barge_0",
          "loading:barge_0",
          null,
          "loading:barge_0",
          "loading:barge_0",
          "loading:barge_0",
          "loading:barge_0",
          null,
          "loading:barge_0",
          "loading:barge_0",
          "loading:barge_0",
          "loading:barge_0",
          null,
          "loading:barge_0",
          "loading:barge_0",
          "loading:barge_0",
          "loading:barge_0",
          null,
          "loading:barge_0",
          "loading:barge_0",
          "loading:barge_0",
          "loading:barge_0",
          null,
          "loading:barge_0",
          "loading:barge_0",
          "loading:barge_0",
          "loading:barge_0",
          null,
          "loading:barge_0",
          "loading:barge_0",
          "loading:barge_0",
          "loading:barge_0",
          null,
          "loading:barge_0",
          "loading:barge_0",
          "loading:barge_0",
          "loading:barge_0",
          null
         ]
        },
        {
         "connectgaps": false,
         "hoverinfo": "y+name",
         "line": {
          "color": "rgb(202,70,215)",
          "width": 10
         },
         "mode": "lines",
         "name": "loading:barge_0",
         "type": "scatter",
         "x": [
          "1970-01-01T01:14:10",
          "1970-01-01T01:14:10",
          "1970-01-01T01:55:50",
          "1970-01-01T01:55:50",
          "1970-01-01T01:55:50",
          "1970-01-01T05:07:30",
          "1970-01-01T05:07:30",
          "1970-01-01T05:49:10",
          "1970-01-01T05:49:10",
          "1970-01-01T05:49:10",
          "1970-01-01T08:20:54",
          "1970-01-01T08:20:54",
          "1970-01-01T09:02:34",
          "1970-01-01T09:02:34",
          "1970-01-01T09:02:34",
          "1970-01-01T11:32:34",
          "1970-01-01T11:32:34",
          "1970-01-01T12:14:14",
          "1970-01-01T12:14:14",
          "1970-01-01T12:14:14",
          "1970-01-01T01:14:10",
          "1970-01-01T01:14:10",
          "1970-01-01T01:55:50",
          "1970-01-01T01:55:50",
          "1970-01-01T01:55:50",
          "1970-01-01T05:07:30",
          "1970-01-01T05:07:30",
          "1970-01-01T05:49:10",
          "1970-01-01T05:49:10",
          "1970-01-01T05:49:10",
          "1970-01-01T08:20:54",
          "1970-01-01T08:20:54",
          "1970-01-01T09:02:34",
          "1970-01-01T09:02:34",
          "1970-01-01T09:02:34",
          "1970-01-01T11:32:34",
          "1970-01-01T11:32:34",
          "1970-01-01T12:14:14",
          "1970-01-01T12:14:14",
          "1970-01-01T12:14:14"
         ],
         "y": [
          "loading:barge_0",
          "loading:barge_0",
          "loading:barge_0",
          "loading:barge_0",
          null,
          "loading:barge_0",
          "loading:barge_0",
          "loading:barge_0",
          "loading:barge_0",
          null,
          "loading:barge_0",
          "loading:barge_0",
          "loading:barge_0",
          "loading:barge_0",
          null,
          "loading:barge_0",
          "loading:barge_0",
          "loading:barge_0",
          "loading:barge_0",
          null,
          "loading:barge_0",
          "loading:barge_0",
          "loading:barge_0",
          "loading:barge_0",
          null,
          "loading:barge_0",
          "loading:barge_0",
          "loading:barge_0",
          "loading:barge_0",
          null,
          "loading:barge_0",
          "loading:barge_0",
          "loading:barge_0",
          "loading:barge_0",
          null,
          "loading:barge_0",
          "loading:barge_0",
          "loading:barge_0",
          "loading:barge_0",
          null
         ]
        },
        {
         "connectgaps": false,
         "hoverinfo": "y+name",
         "line": {
          "color": "rgb(223,91,236)",
          "width": 10
         },
         "mode": "lines",
         "name": "loading:barge_1",
         "type": "scatter",
         "x": [
          "1970-01-01T04:25:50",
          "1970-01-01T04:25:50",
          "1970-01-01T05:07:30",
          "1970-01-01T05:07:30",
          "1970-01-01T05:07:30",
          "1970-01-01T09:02:34",
          "1970-01-01T09:02:34",
          "1970-01-01T09:44:14",
          "1970-01-01T09:44:14",
          "1970-01-01T09:44:14",
          "1970-01-01T13:01:02",
          "1970-01-01T13:01:02",
          "1970-01-01T13:42:42",
          "1970-01-01T13:42:42",
          "1970-01-01T13:42:42",
          "1970-01-01T04:25:50",
          "1970-01-01T04:25:50",
          "1970-01-01T05:07:30",
          "1970-01-01T05:07:30",
          "1970-01-01T05:07:30",
          "1970-01-01T09:02:34",
          "1970-01-01T09:02:34",
          "1970-01-01T09:44:14",
          "1970-01-01T09:44:14",
          "1970-01-01T09:44:14",
          "1970-01-01T13:01:02",
          "1970-01-01T13:01:02",
          "1970-01-01T13:42:42",
          "1970-01-01T13:42:42",
          "1970-01-01T13:42:42"
         ],
         "y": [
          "loading:barge_1",
          "loading:barge_1",
          "loading:barge_1",
          "loading:barge_1",
          null,
          "loading:barge_1",
          "loading:barge_1",
          "loading:barge_1",
          "loading:barge_1",
          null,
          "loading:barge_1",
          "loading:barge_1",
          "loading:barge_1",
          "loading:barge_1",
          null,
          "loading:barge_1",
          "loading:barge_1",
          "loading:barge_1",
          "loading:barge_1",
          null,
          "loading:barge_1",
          "loading:barge_1",
          "loading:barge_1",
          "loading:barge_1",
          null,
          "loading:barge_1",
          "loading:barge_1",
          "loading:barge_1",
          "loading:barge_1",
          null
         ]
        },
        {
         "connectgaps": false,
         "hoverinfo": "y+name",
         "line": {
          "color": "rgb(244,112,1)",
          "width": 10
         },
         "mode": "lines",
         "name": "loading:barge_1",
         "type": "scatter",
         "x": [
          "1970-01-01T04:25:50",
          "1970-01-01T04:25:50",
          "1970-01-01T05:07:30",
          "1970-01-01T05:07:30",
          "1970-01-01T05:07:30",
          "1970-01-01T09:02:34",
          "1970-01-01T09:02:34",
          "1970-01-01T09:44:14",
          "1970-01-01T09:44:14",
          "1970-01-01T09:44:14",
          "1970-01-01T13:01:02",
          "1970-01-01T13:01:02",
          "1970-01-01T13:42:42",
          "1970-01-01T13:42:42",
          "1970-01-01T13:42:42",
          "1970-01-01T04:25:50",
          "1970-01-01T04:25:50",
          "1970-01-01T05:07:30",
          "1970-01-01T05:07:30",
          "1970-01-01T05:07:30",
          "1970-01-01T09:02:34",
          "1970-01-01T09:02:34",
          "1970-01-01T09:44:14",
          "1970-01-01T09:44:14",
          "1970-01-01T09:44:14",
          "1970-01-01T13:01:02",
          "1970-01-01T13:01:02",
          "1970-01-01T13:42:42",
          "1970-01-01T13:42:42",
          "1970-01-01T13:42:42"
         ],
         "y": [
          "loading:barge_1",
          "loading:barge_1",
          "loading:barge_1",
          "loading:barge_1",
          null,
          "loading:barge_1",
          "loading:barge_1",
          "loading:barge_1",
          "loading:barge_1",
          null,
          "loading:barge_1",
          "loading:barge_1",
          "loading:barge_1",
          "loading:barge_1",
          null,
          "loading:barge_1",
          "loading:barge_1",
          "loading:barge_1",
          "loading:barge_1",
          null,
          "loading:barge_1",
          "loading:barge_1",
          "loading:barge_1",
          "loading:barge_1",
          null,
          "loading:barge_1",
          "loading:barge_1",
          "loading:barge_1",
          "loading:barge_1",
          null
         ]
        },
        {
         "connectgaps": false,
         "hoverinfo": "y+name",
         "line": {
          "color": "rgb(9,133,22)",
          "width": 10
         },
         "mode": "lines",
         "name": "loading:barge_2",
         "type": "scatter",
         "x": [
          "1970-01-01T03:10:50",
          "1970-01-01T03:10:50",
          "1970-01-01T03:44:10",
          "1970-01-01T03:44:10",
          "1970-01-01T03:44:10",
          "1970-01-01T07:04:10",
          "1970-01-01T07:04:10",
          "1970-01-01T07:37:30",
          "1970-01-01T07:37:30",
          "1970-01-01T07:37:30",
          "1970-01-01T10:59:14",
          "1970-01-01T10:59:14",
          "1970-01-01T11:32:34",
          "1970-01-01T11:32:34",
          "1970-01-01T11:32:34",
          "1970-01-01T14:57:42",
          "1970-01-01T14:57:42",
          "1970-01-01T15:31:02",
          "1970-01-01T15:31:02",
          "1970-01-01T15:31:02",
          "1970-01-01T03:10:50",
          "1970-01-01T03:10:50",
          "1970-01-01T03:44:10",
          "1970-01-01T03:44:10",
          "1970-01-01T03:44:10",
          "1970-01-01T07:04:10",
          "1970-01-01T07:04:10",
          "1970-01-01T07:37:30",
          "1970-01-01T07:37:30",
          "1970-01-01T07:37:30",
          "1970-01-01T10:59:14",
          "1970-01-01T10:59:14",
          "1970-01-01T11:32:34",
          "1970-01-01T11:32:34",
          "1970-01-01T11:32:34",
          "1970-01-01T14:57:42",
          "1970-01-01T14:57:42",
          "1970-01-01T15:31:02",
          "1970-01-01T15:31:02",
          "1970-01-01T15:31:02"
         ],
         "y": [
          "loading:barge_2",
          "loading:barge_2",
          "loading:barge_2",
          "loading:barge_2",
          null,
          "loading:barge_2",
          "loading:barge_2",
          "loading:barge_2",
          "loading:barge_2",
          null,
          "loading:barge_2",
          "loading:barge_2",
          "loading:barge_2",
          "loading:barge_2",
          null,
          "loading:barge_2",
          "loading:barge_2",
          "loading:barge_2",
          "loading:barge_2",
          null,
          "loading:barge_2",
          "loading:barge_2",
          "loading:barge_2",
          "loading:barge_2",
          null,
          "loading:barge_2",
          "loading:barge_2",
          "loading:barge_2",
          "loading:barge_2",
          null,
          "loading:barge_2",
          "loading:barge_2",
          "loading:barge_2",
          "loading:barge_2",
          null,
          "loading:barge_2",
          "loading:barge_2",
          "loading:barge_2",
          "loading:barge_2",
          null
         ]
        },
        {
         "connectgaps": false,
         "hoverinfo": "y+name",
         "line": {
          "color": "rgb(30,154,43)",
          "width": 10
         },
         "mode": "lines",
         "name": "loading:barge_2",
         "type": "scatter",
         "x": [
          "1970-01-01T03:10:50",
          "1970-01-01T03:10:50",
          "1970-01-01T03:44:10",
          "1970-01-01T03:44:10",
          "1970-01-01T03:44:10",
          "1970-01-01T07:04:10",
          "1970-01-01T07:04:10",
          "1970-01-01T07:37:30",
          "1970-01-01T07:37:30",
          "1970-01-01T07:37:30",
          "1970-01-01T10:59:14",
          "1970-01-01T10:59:14",
          "1970-01-01T11:32:34",
          "1970-01-01T11:32:34",
          "1970-01-01T11:32:34",
          "1970-01-01T14:57:42",
          "1970-01-01T14:57:42",
          "1970-01-01T15:31:02",
          "1970-01-01T15:31:02",
          "1970-01-01T15:31:02",
          "1970-01-01T03:10:50",
          "1970-01-01T03:10:50",
          "1970-01-01T03:44:10",
          "1970-01-01T03:44:10",
          "1970-01-01T03:44:10",
          "1970-01-01T07:04:10",
          "1970-01-01T07:04:10",
          "1970-01-01T07:37:30",
          "1970-01-01T07:37:30",
          "1970-01-01T07:37:30",
          "1970-01-01T10:59:14",
          "1970-01-01T10:59:14",
          "1970-01-01T11:32:34",
          "1970-01-01T11:32:34",
          "1970-01-01T11:32:34",
          "1970-01-01T14:57:42",
          "1970-01-01T14:57:42",
          "1970-01-01T15:31:02",
          "1970-01-01T15:31:02",
          "1970-01-01T15:31:02"
         ],
         "y": [
          "loading:barge_2",
          "loading:barge_2",
          "loading:barge_2",
          "loading:barge_2",
          null,
          "loading:barge_2",
          "loading:barge_2",
          "loading:barge_2",
          "loading:barge_2",
          null,
          "loading:barge_2",
          "loading:barge_2",
          "loading:barge_2",
          "loading:barge_2",
          null,
          "loading:barge_2",
          "loading:barge_2",
          "loading:barge_2",
          "loading:barge_2",
          null,
          "loading:barge_2",
          "loading:barge_2",
          "loading:barge_2",
          "loading:barge_2",
          null,
          "loading:barge_2",
          "loading:barge_2",
          "loading:barge_2",
          "loading:barge_2",
          null,
          "loading:barge_2",
          "loading:barge_2",
          "loading:barge_2",
          "loading:barge_2",
          null,
          "loading:barge_2",
          "loading:barge_2",
          "loading:barge_2",
          "loading:barge_2",
          null
         ]
        },
        {
         "connectgaps": false,
         "hoverinfo": "y+name",
         "line": {
          "color": "rgb(51,175,64)",
          "width": 10
         },
         "mode": "lines",
         "name": "loading:barge_3",
         "type": "scatter",
         "x": [
          "1970-01-01T02:29:10",
          "1970-01-01T02:29:10",
          "1970-01-01T03:10:50",
          "1970-01-01T03:10:50",
          "1970-01-01T03:10:50",
          "1970-01-01T06:22:30",
          "1970-01-01T06:22:30",
          "1970-01-01T07:04:10",
          "1970-01-01T07:04:10",
          "1970-01-01T07:04:10",
          "1970-01-01T10:17:34",
          "1970-01-01T10:17:34",
          "1970-01-01T10:59:14",
          "1970-01-01T10:59:14",
          "1970-01-01T10:59:14",
          "1970-01-01T14:16:02",
          "1970-01-01T14:16:02",
          "1970-01-01T14:57:42",
          "1970-01-01T14:57:42",
          "1970-01-01T14:57:42",
          "1970-01-01T02:29:10",
          "1970-01-01T02:29:10",
          "1970-01-01T03:10:50",
          "1970-01-01T03:10:50",
          "1970-01-01T03:10:50",
          "1970-01-01T06:22:30",
          "1970-01-01T06:22:30",
          "1970-01-01T07:04:10",
          "1970-01-01T07:04:10",
          "1970-01-01T07:04:10",
          "1970-01-01T10:17:34",
          "1970-01-01T10:17:34",
          "1970-01-01T10:59:14",
          "1970-01-01T10:59:14",
          "1970-01-01T10:59:14",
          "1970-01-01T14:16:02",
          "1970-01-01T14:16:02",
          "1970-01-01T14:57:42",
          "1970-01-01T14:57:42",
          "1970-01-01T14:57:42"
         ],
         "y": [
          "loading:barge_3",
          "loading:barge_3",
          "loading:barge_3",
          "loading:barge_3",
          null,
          "loading:barge_3",
          "loading:barge_3",
          "loading:barge_3",
          "loading:barge_3",
          null,
          "loading:barge_3",
          "loading:barge_3",
          "loading:barge_3",
          "loading:barge_3",
          null,
          "loading:barge_3",
          "loading:barge_3",
          "loading:barge_3",
          "loading:barge_3",
          null,
          "loading:barge_3",
          "loading:barge_3",
          "loading:barge_3",
          "loading:barge_3",
          null,
          "loading:barge_3",
          "loading:barge_3",
          "loading:barge_3",
          "loading:barge_3",
          null,
          "loading:barge_3",
          "loading:barge_3",
          "loading:barge_3",
          "loading:barge_3",
          null,
          "loading:barge_3",
          "loading:barge_3",
          "loading:barge_3",
          "loading:barge_3",
          null
         ]
        },
        {
         "connectgaps": false,
         "hoverinfo": "y+name",
         "line": {
          "color": "rgb(72,196,85)",
          "width": 10
         },
         "mode": "lines",
         "name": "loading:barge_3",
         "type": "scatter",
         "x": [
          "1970-01-01T02:29:10",
          "1970-01-01T02:29:10",
          "1970-01-01T03:10:50",
          "1970-01-01T03:10:50",
          "1970-01-01T03:10:50",
          "1970-01-01T06:22:30",
          "1970-01-01T06:22:30",
          "1970-01-01T07:04:10",
          "1970-01-01T07:04:10",
          "1970-01-01T07:04:10",
          "1970-01-01T10:17:34",
          "1970-01-01T10:17:34",
          "1970-01-01T10:59:14",
          "1970-01-01T10:59:14",
          "1970-01-01T10:59:14",
          "1970-01-01T14:16:02",
          "1970-01-01T14:16:02",
          "1970-01-01T14:57:42",
          "1970-01-01T14:57:42",
          "1970-01-01T14:57:42",
          "1970-01-01T02:29:10",
          "1970-01-01T02:29:10",
          "1970-01-01T03:10:50",
          "1970-01-01T03:10:50",
          "1970-01-01T03:10:50",
          "1970-01-01T06:22:30",
          "1970-01-01T06:22:30",
          "1970-01-01T07:04:10",
          "1970-01-01T07:04:10",
          "1970-01-01T07:04:10",
          "1970-01-01T10:17:34",
          "1970-01-01T10:17:34",
          "1970-01-01T10:59:14",
          "1970-01-01T10:59:14",
          "1970-01-01T10:59:14",
          "1970-01-01T14:16:02",
          "1970-01-01T14:16:02",
          "1970-01-01T14:57:42",
          "1970-01-01T14:57:42",
          "1970-01-01T14:57:42"
         ],
         "y": [
          "loading:barge_3",
          "loading:barge_3",
          "loading:barge_3",
          "loading:barge_3",
          null,
          "loading:barge_3",
          "loading:barge_3",
          "loading:barge_3",
          "loading:barge_3",
          null,
          "loading:barge_3",
          "loading:barge_3",
          "loading:barge_3",
          "loading:barge_3",
          null,
          "loading:barge_3",
          "loading:barge_3",
          "loading:barge_3",
          "loading:barge_3",
          null,
          "loading:barge_3",
          "loading:barge_3",
          "loading:barge_3",
          "loading:barge_3",
          null,
          "loading:barge_3",
          "loading:barge_3",
          "loading:barge_3",
          "loading:barge_3",
          null,
          "loading:barge_3",
          "loading:barge_3",
          "loading:barge_3",
          "loading:barge_3",
          null,
          "loading:barge_3",
          "loading:barge_3",
          "loading:barge_3",
          "loading:barge_3",
          null
         ]
        },
        {
         "connectgaps": false,
         "hoverinfo": "y+name",
         "line": {
          "color": "rgb(93,217,106)",
          "width": 10
         },
         "mode": "lines",
         "name": "loading:barge_4",
         "type": "scatter",
         "x": [
          "1970-01-01T03:44:10",
          "1970-01-01T03:44:10",
          "1970-01-01T04:25:50",
          "1970-01-01T04:25:50",
          "1970-01-01T04:25:50",
          "1970-01-01T07:39:14",
          "1970-01-01T07:39:14",
          "1970-01-01T08:20:54",
          "1970-01-01T08:20:54",
          "1970-01-01T08:20:54",
          "1970-01-01T12:14:14",
          "1970-01-01T12:14:14",
          "1970-01-01T12:55:54",
          "1970-01-01T12:55:54",
          "1970-01-01T12:55:54",
          "1970-01-01T03:44:10",
          "1970-01-01T03:44:10",
          "1970-01-01T04:25:50",
          "1970-01-01T04:25:50",
          "1970-01-01T04:25:50",
          "1970-01-01T07:39:14",
          "1970-01-01T07:39:14",
          "1970-01-01T08:20:54",
          "1970-01-01T08:20:54",
          "1970-01-01T08:20:54",
          "1970-01-01T12:14:14",
          "1970-01-01T12:14:14",
          "1970-01-01T12:55:54",
          "1970-01-01T12:55:54",
          "1970-01-01T12:55:54"
         ],
         "y": [
          "loading:barge_4",
          "loading:barge_4",
          "loading:barge_4",
          "loading:barge_4",
          null,
          "loading:barge_4",
          "loading:barge_4",
          "loading:barge_4",
          "loading:barge_4",
          null,
          "loading:barge_4",
          "loading:barge_4",
          "loading:barge_4",
          "loading:barge_4",
          null,
          "loading:barge_4",
          "loading:barge_4",
          "loading:barge_4",
          "loading:barge_4",
          null,
          "loading:barge_4",
          "loading:barge_4",
          "loading:barge_4",
          "loading:barge_4",
          null,
          "loading:barge_4",
          "loading:barge_4",
          "loading:barge_4",
          "loading:barge_4",
          null
         ]
        },
        {
         "connectgaps": false,
         "hoverinfo": "y+name",
         "line": {
          "color": "rgb(114,238,127)",
          "width": 10
         },
         "mode": "lines",
         "name": "loading:barge_4",
         "type": "scatter",
         "x": [
          "1970-01-01T03:44:10",
          "1970-01-01T03:44:10",
          "1970-01-01T04:25:50",
          "1970-01-01T04:25:50",
          "1970-01-01T04:25:50",
          "1970-01-01T07:39:14",
          "1970-01-01T07:39:14",
          "1970-01-01T08:20:54",
          "1970-01-01T08:20:54",
          "1970-01-01T08:20:54",
          "1970-01-01T12:14:14",
          "1970-01-01T12:14:14",
          "1970-01-01T12:55:54",
          "1970-01-01T12:55:54",
          "1970-01-01T12:55:54",
          "1970-01-01T03:44:10",
          "1970-01-01T03:44:10",
          "1970-01-01T04:25:50",
          "1970-01-01T04:25:50",
          "1970-01-01T04:25:50",
          "1970-01-01T07:39:14",
          "1970-01-01T07:39:14",
          "1970-01-01T08:20:54",
          "1970-01-01T08:20:54",
          "1970-01-01T08:20:54",
          "1970-01-01T12:14:14",
          "1970-01-01T12:14:14",
          "1970-01-01T12:55:54",
          "1970-01-01T12:55:54",
          "1970-01-01T12:55:54"
         ],
         "y": [
          "loading:barge_4",
          "loading:barge_4",
          "loading:barge_4",
          "loading:barge_4",
          null,
          "loading:barge_4",
          "loading:barge_4",
          "loading:barge_4",
          "loading:barge_4",
          null,
          "loading:barge_4",
          "loading:barge_4",
          "loading:barge_4",
          "loading:barge_4",
          null,
          "loading:barge_4",
          "loading:barge_4",
          "loading:barge_4",
          "loading:barge_4",
          null,
          "loading:barge_4",
          "loading:barge_4",
          "loading:barge_4",
          "loading:barge_4",
          null,
          "loading:barge_4",
          "loading:barge_4",
          "loading:barge_4",
          "loading:barge_4",
          null
         ]
        },
        {
         "connectgaps": false,
         "hoverinfo": "y+name",
         "line": {
          "color": "rgb(135,3,148)",
          "width": 10
         },
         "mode": "lines",
         "name": "loading:barge_5",
         "type": "scatter",
         "x": [
          "1970-01-01T01:55:50",
          "1970-01-01T01:55:50",
          "1970-01-01T02:29:10",
          "1970-01-01T02:29:10",
          "1970-01-01T02:29:10",
          "1970-01-01T05:49:10",
          "1970-01-01T05:49:10",
          "1970-01-01T06:22:30",
          "1970-01-01T06:22:30",
          "1970-01-01T06:22:30",
          "1970-01-01T09:44:14",
          "1970-01-01T09:44:14",
          "1970-01-01T10:17:34",
          "1970-01-01T10:17:34",
          "1970-01-01T10:17:34",
          "1970-01-01T13:42:42",
          "1970-01-01T13:42:42",
          "1970-01-01T14:16:02",
          "1970-01-01T14:16:02",
          "1970-01-01T14:16:02",
          "1970-01-01T01:55:50",
          "1970-01-01T01:55:50",
          "1970-01-01T02:29:10",
          "1970-01-01T02:29:10",
          "1970-01-01T02:29:10",
          "1970-01-01T05:49:10",
          "1970-01-01T05:49:10",
          "1970-01-01T06:22:30",
          "1970-01-01T06:22:30",
          "1970-01-01T06:22:30",
          "1970-01-01T09:44:14",
          "1970-01-01T09:44:14",
          "1970-01-01T10:17:34",
          "1970-01-01T10:17:34",
          "1970-01-01T10:17:34",
          "1970-01-01T13:42:42",
          "1970-01-01T13:42:42",
          "1970-01-01T14:16:02",
          "1970-01-01T14:16:02",
          "1970-01-01T14:16:02"
         ],
         "y": [
          "loading:barge_5",
          "loading:barge_5",
          "loading:barge_5",
          "loading:barge_5",
          null,
          "loading:barge_5",
          "loading:barge_5",
          "loading:barge_5",
          "loading:barge_5",
          null,
          "loading:barge_5",
          "loading:barge_5",
          "loading:barge_5",
          "loading:barge_5",
          null,
          "loading:barge_5",
          "loading:barge_5",
          "loading:barge_5",
          "loading:barge_5",
          null,
          "loading:barge_5",
          "loading:barge_5",
          "loading:barge_5",
          "loading:barge_5",
          null,
          "loading:barge_5",
          "loading:barge_5",
          "loading:barge_5",
          "loading:barge_5",
          null,
          "loading:barge_5",
          "loading:barge_5",
          "loading:barge_5",
          "loading:barge_5",
          null,
          "loading:barge_5",
          "loading:barge_5",
          "loading:barge_5",
          "loading:barge_5",
          null
         ]
        },
        {
         "connectgaps": false,
         "hoverinfo": "y+name",
         "line": {
          "color": "rgb(156,24,169)",
          "width": 10
         },
         "mode": "lines",
         "name": "loading:barge_5",
         "type": "scatter",
         "x": [
          "1970-01-01T01:55:50",
          "1970-01-01T01:55:50",
          "1970-01-01T02:29:10",
          "1970-01-01T02:29:10",
          "1970-01-01T02:29:10",
          "1970-01-01T05:49:10",
          "1970-01-01T05:49:10",
          "1970-01-01T06:22:30",
          "1970-01-01T06:22:30",
          "1970-01-01T06:22:30",
          "1970-01-01T09:44:14",
          "1970-01-01T09:44:14",
          "1970-01-01T10:17:34",
          "1970-01-01T10:17:34",
          "1970-01-01T10:17:34",
          "1970-01-01T13:42:42",
          "1970-01-01T13:42:42",
          "1970-01-01T14:16:02",
          "1970-01-01T14:16:02",
          "1970-01-01T14:16:02",
          "1970-01-01T01:55:50",
          "1970-01-01T01:55:50",
          "1970-01-01T02:29:10",
          "1970-01-01T02:29:10",
          "1970-01-01T02:29:10",
          "1970-01-01T05:49:10",
          "1970-01-01T05:49:10",
          "1970-01-01T06:22:30",
          "1970-01-01T06:22:30",
          "1970-01-01T06:22:30",
          "1970-01-01T09:44:14",
          "1970-01-01T09:44:14",
          "1970-01-01T10:17:34",
          "1970-01-01T10:17:34",
          "1970-01-01T10:17:34",
          "1970-01-01T13:42:42",
          "1970-01-01T13:42:42",
          "1970-01-01T14:16:02",
          "1970-01-01T14:16:02",
          "1970-01-01T14:16:02"
         ],
         "y": [
          "loading:barge_5",
          "loading:barge_5",
          "loading:barge_5",
          "loading:barge_5",
          null,
          "loading:barge_5",
          "loading:barge_5",
          "loading:barge_5",
          "loading:barge_5",
          null,
          "loading:barge_5",
          "loading:barge_5",
          "loading:barge_5",
          "loading:barge_5",
          null,
          "loading:barge_5",
          "loading:barge_5",
          "loading:barge_5",
          "loading:barge_5",
          null,
          "loading:barge_5",
          "loading:barge_5",
          "loading:barge_5",
          "loading:barge_5",
          null,
          "loading:barge_5",
          "loading:barge_5",
          "loading:barge_5",
          "loading:barge_5",
          null,
          "loading:barge_5",
          "loading:barge_5",
          "loading:barge_5",
          "loading:barge_5",
          null,
          "loading:barge_5",
          "loading:barge_5",
          "loading:barge_5",
          "loading:barge_5",
          null
         ]
        }
       ],
       "layout": {
        "hovermode": "closest",
        "legend": {
         "orientation": "h",
         "x": 0,
         "y": -0.2
        },
        "template": {
         "data": {
          "bar": [
           {
            "error_x": {
             "color": "#2a3f5f"
            },
            "error_y": {
             "color": "#2a3f5f"
            },
            "marker": {
             "line": {
              "color": "#E5ECF6",
              "width": 0.5
             },
             "pattern": {
              "fillmode": "overlay",
              "size": 10,
              "solidity": 0.2
             }
            },
            "type": "bar"
           }
          ],
          "barpolar": [
           {
            "marker": {
             "line": {
              "color": "#E5ECF6",
              "width": 0.5
             },
             "pattern": {
              "fillmode": "overlay",
              "size": 10,
              "solidity": 0.2
             }
            },
            "type": "barpolar"
           }
          ],
          "carpet": [
           {
            "aaxis": {
             "endlinecolor": "#2a3f5f",
             "gridcolor": "white",
             "linecolor": "white",
             "minorgridcolor": "white",
             "startlinecolor": "#2a3f5f"
            },
            "baxis": {
             "endlinecolor": "#2a3f5f",
             "gridcolor": "white",
             "linecolor": "white",
             "minorgridcolor": "white",
             "startlinecolor": "#2a3f5f"
            },
            "type": "carpet"
           }
          ],
          "choropleth": [
           {
            "colorbar": {
             "outlinewidth": 0,
             "ticks": ""
            },
            "type": "choropleth"
           }
          ],
          "contour": [
           {
            "colorbar": {
             "outlinewidth": 0,
             "ticks": ""
            },
            "colorscale": [
             [
              0,
              "#0d0887"
             ],
             [
              0.1111111111111111,
              "#46039f"
             ],
             [
              0.2222222222222222,
              "#7201a8"
             ],
             [
              0.3333333333333333,
              "#9c179e"
             ],
             [
              0.4444444444444444,
              "#bd3786"
             ],
             [
              0.5555555555555556,
              "#d8576b"
             ],
             [
              0.6666666666666666,
              "#ed7953"
             ],
             [
              0.7777777777777778,
              "#fb9f3a"
             ],
             [
              0.8888888888888888,
              "#fdca26"
             ],
             [
              1,
              "#f0f921"
             ]
            ],
            "type": "contour"
           }
          ],
          "contourcarpet": [
           {
            "colorbar": {
             "outlinewidth": 0,
             "ticks": ""
            },
            "type": "contourcarpet"
           }
          ],
          "heatmap": [
           {
            "colorbar": {
             "outlinewidth": 0,
             "ticks": ""
            },
            "colorscale": [
             [
              0,
              "#0d0887"
             ],
             [
              0.1111111111111111,
              "#46039f"
             ],
             [
              0.2222222222222222,
              "#7201a8"
             ],
             [
              0.3333333333333333,
              "#9c179e"
             ],
             [
              0.4444444444444444,
              "#bd3786"
             ],
             [
              0.5555555555555556,
              "#d8576b"
             ],
             [
              0.6666666666666666,
              "#ed7953"
             ],
             [
              0.7777777777777778,
              "#fb9f3a"
             ],
             [
              0.8888888888888888,
              "#fdca26"
             ],
             [
              1,
              "#f0f921"
             ]
            ],
            "type": "heatmap"
           }
          ],
          "heatmapgl": [
           {
            "colorbar": {
             "outlinewidth": 0,
             "ticks": ""
            },
            "colorscale": [
             [
              0,
              "#0d0887"
             ],
             [
              0.1111111111111111,
              "#46039f"
             ],
             [
              0.2222222222222222,
              "#7201a8"
             ],
             [
              0.3333333333333333,
              "#9c179e"
             ],
             [
              0.4444444444444444,
              "#bd3786"
             ],
             [
              0.5555555555555556,
              "#d8576b"
             ],
             [
              0.6666666666666666,
              "#ed7953"
             ],
             [
              0.7777777777777778,
              "#fb9f3a"
             ],
             [
              0.8888888888888888,
              "#fdca26"
             ],
             [
              1,
              "#f0f921"
             ]
            ],
            "type": "heatmapgl"
           }
          ],
          "histogram": [
           {
            "marker": {
             "pattern": {
              "fillmode": "overlay",
              "size": 10,
              "solidity": 0.2
             }
            },
            "type": "histogram"
           }
          ],
          "histogram2d": [
           {
            "colorbar": {
             "outlinewidth": 0,
             "ticks": ""
            },
            "colorscale": [
             [
              0,
              "#0d0887"
             ],
             [
              0.1111111111111111,
              "#46039f"
             ],
             [
              0.2222222222222222,
              "#7201a8"
             ],
             [
              0.3333333333333333,
              "#9c179e"
             ],
             [
              0.4444444444444444,
              "#bd3786"
             ],
             [
              0.5555555555555556,
              "#d8576b"
             ],
             [
              0.6666666666666666,
              "#ed7953"
             ],
             [
              0.7777777777777778,
              "#fb9f3a"
             ],
             [
              0.8888888888888888,
              "#fdca26"
             ],
             [
              1,
              "#f0f921"
             ]
            ],
            "type": "histogram2d"
           }
          ],
          "histogram2dcontour": [
           {
            "colorbar": {
             "outlinewidth": 0,
             "ticks": ""
            },
            "colorscale": [
             [
              0,
              "#0d0887"
             ],
             [
              0.1111111111111111,
              "#46039f"
             ],
             [
              0.2222222222222222,
              "#7201a8"
             ],
             [
              0.3333333333333333,
              "#9c179e"
             ],
             [
              0.4444444444444444,
              "#bd3786"
             ],
             [
              0.5555555555555556,
              "#d8576b"
             ],
             [
              0.6666666666666666,
              "#ed7953"
             ],
             [
              0.7777777777777778,
              "#fb9f3a"
             ],
             [
              0.8888888888888888,
              "#fdca26"
             ],
             [
              1,
              "#f0f921"
             ]
            ],
            "type": "histogram2dcontour"
           }
          ],
          "mesh3d": [
           {
            "colorbar": {
             "outlinewidth": 0,
             "ticks": ""
            },
            "type": "mesh3d"
           }
          ],
          "parcoords": [
           {
            "line": {
             "colorbar": {
              "outlinewidth": 0,
              "ticks": ""
             }
            },
            "type": "parcoords"
           }
          ],
          "pie": [
           {
            "automargin": true,
            "type": "pie"
           }
          ],
          "scatter": [
           {
            "fillpattern": {
             "fillmode": "overlay",
             "size": 10,
             "solidity": 0.2
            },
            "type": "scatter"
           }
          ],
          "scatter3d": [
           {
            "line": {
             "colorbar": {
              "outlinewidth": 0,
              "ticks": ""
             }
            },
            "marker": {
             "colorbar": {
              "outlinewidth": 0,
              "ticks": ""
             }
            },
            "type": "scatter3d"
           }
          ],
          "scattercarpet": [
           {
            "marker": {
             "colorbar": {
              "outlinewidth": 0,
              "ticks": ""
             }
            },
            "type": "scattercarpet"
           }
          ],
          "scattergeo": [
           {
            "marker": {
             "colorbar": {
              "outlinewidth": 0,
              "ticks": ""
             }
            },
            "type": "scattergeo"
           }
          ],
          "scattergl": [
           {
            "marker": {
             "colorbar": {
              "outlinewidth": 0,
              "ticks": ""
             }
            },
            "type": "scattergl"
           }
          ],
          "scattermapbox": [
           {
            "marker": {
             "colorbar": {
              "outlinewidth": 0,
              "ticks": ""
             }
            },
            "type": "scattermapbox"
           }
          ],
          "scatterpolar": [
           {
            "marker": {
             "colorbar": {
              "outlinewidth": 0,
              "ticks": ""
             }
            },
            "type": "scatterpolar"
           }
          ],
          "scatterpolargl": [
           {
            "marker": {
             "colorbar": {
              "outlinewidth": 0,
              "ticks": ""
             }
            },
            "type": "scatterpolargl"
           }
          ],
          "scatterternary": [
           {
            "marker": {
             "colorbar": {
              "outlinewidth": 0,
              "ticks": ""
             }
            },
            "type": "scatterternary"
           }
          ],
          "surface": [
           {
            "colorbar": {
             "outlinewidth": 0,
             "ticks": ""
            },
            "colorscale": [
             [
              0,
              "#0d0887"
             ],
             [
              0.1111111111111111,
              "#46039f"
             ],
             [
              0.2222222222222222,
              "#7201a8"
             ],
             [
              0.3333333333333333,
              "#9c179e"
             ],
             [
              0.4444444444444444,
              "#bd3786"
             ],
             [
              0.5555555555555556,
              "#d8576b"
             ],
             [
              0.6666666666666666,
              "#ed7953"
             ],
             [
              0.7777777777777778,
              "#fb9f3a"
             ],
             [
              0.8888888888888888,
              "#fdca26"
             ],
             [
              1,
              "#f0f921"
             ]
            ],
            "type": "surface"
           }
          ],
          "table": [
           {
            "cells": {
             "fill": {
              "color": "#EBF0F8"
             },
             "line": {
              "color": "white"
             }
            },
            "header": {
             "fill": {
              "color": "#C8D4E3"
             },
             "line": {
              "color": "white"
             }
            },
            "type": "table"
           }
          ]
         },
         "layout": {
          "annotationdefaults": {
           "arrowcolor": "#2a3f5f",
           "arrowhead": 0,
           "arrowwidth": 1
          },
          "autotypenumbers": "strict",
          "coloraxis": {
           "colorbar": {
            "outlinewidth": 0,
            "ticks": ""
           }
          },
          "colorscale": {
           "diverging": [
            [
             0,
             "#8e0152"
            ],
            [
             0.1,
             "#c51b7d"
            ],
            [
             0.2,
             "#de77ae"
            ],
            [
             0.3,
             "#f1b6da"
            ],
            [
             0.4,
             "#fde0ef"
            ],
            [
             0.5,
             "#f7f7f7"
            ],
            [
             0.6,
             "#e6f5d0"
            ],
            [
             0.7,
             "#b8e186"
            ],
            [
             0.8,
             "#7fbc41"
            ],
            [
             0.9,
             "#4d9221"
            ],
            [
             1,
             "#276419"
            ]
           ],
           "sequential": [
            [
             0,
             "#0d0887"
            ],
            [
             0.1111111111111111,
             "#46039f"
            ],
            [
             0.2222222222222222,
             "#7201a8"
            ],
            [
             0.3333333333333333,
             "#9c179e"
            ],
            [
             0.4444444444444444,
             "#bd3786"
            ],
            [
             0.5555555555555556,
             "#d8576b"
            ],
            [
             0.6666666666666666,
             "#ed7953"
            ],
            [
             0.7777777777777778,
             "#fb9f3a"
            ],
            [
             0.8888888888888888,
             "#fdca26"
            ],
            [
             1,
             "#f0f921"
            ]
           ],
           "sequentialminus": [
            [
             0,
             "#0d0887"
            ],
            [
             0.1111111111111111,
             "#46039f"
            ],
            [
             0.2222222222222222,
             "#7201a8"
            ],
            [
             0.3333333333333333,
             "#9c179e"
            ],
            [
             0.4444444444444444,
             "#bd3786"
            ],
            [
             0.5555555555555556,
             "#d8576b"
            ],
            [
             0.6666666666666666,
             "#ed7953"
            ],
            [
             0.7777777777777778,
             "#fb9f3a"
            ],
            [
             0.8888888888888888,
             "#fdca26"
            ],
            [
             1,
             "#f0f921"
            ]
           ]
          },
          "colorway": [
           "#636efa",
           "#EF553B",
           "#00cc96",
           "#ab63fa",
           "#FFA15A",
           "#19d3f3",
           "#FF6692",
           "#B6E880",
           "#FF97FF",
           "#FECB52"
          ],
          "font": {
           "color": "#2a3f5f"
          },
          "geo": {
           "bgcolor": "white",
           "lakecolor": "white",
           "landcolor": "#E5ECF6",
           "showlakes": true,
           "showland": true,
           "subunitcolor": "white"
          },
          "hoverlabel": {
           "align": "left"
          },
          "hovermode": "closest",
          "mapbox": {
           "style": "light"
          },
          "paper_bgcolor": "white",
          "plot_bgcolor": "#E5ECF6",
          "polar": {
           "angularaxis": {
            "gridcolor": "white",
            "linecolor": "white",
            "ticks": ""
           },
           "bgcolor": "#E5ECF6",
           "radialaxis": {
            "gridcolor": "white",
            "linecolor": "white",
            "ticks": ""
           }
          },
          "scene": {
           "xaxis": {
            "backgroundcolor": "#E5ECF6",
            "gridcolor": "white",
            "gridwidth": 2,
            "linecolor": "white",
            "showbackground": true,
            "ticks": "",
            "zerolinecolor": "white"
           },
           "yaxis": {
            "backgroundcolor": "#E5ECF6",
            "gridcolor": "white",
            "gridwidth": 2,
            "linecolor": "white",
            "showbackground": true,
            "ticks": "",
            "zerolinecolor": "white"
           },
           "zaxis": {
            "backgroundcolor": "#E5ECF6",
            "gridcolor": "white",
            "gridwidth": 2,
            "linecolor": "white",
            "showbackground": true,
            "ticks": "",
            "zerolinecolor": "white"
           }
          },
          "shapedefaults": {
           "line": {
            "color": "#2a3f5f"
           }
          },
          "ternary": {
           "aaxis": {
            "gridcolor": "white",
            "linecolor": "white",
            "ticks": ""
           },
           "baxis": {
            "gridcolor": "white",
            "linecolor": "white",
            "ticks": ""
           },
           "bgcolor": "#E5ECF6",
           "caxis": {
            "gridcolor": "white",
            "linecolor": "white",
            "ticks": ""
           }
          },
          "title": {
           "x": 0.05
          },
          "xaxis": {
           "automargin": true,
           "gridcolor": "white",
           "linecolor": "white",
           "ticks": "",
           "title": {
            "standoff": 15
           },
           "zerolinecolor": "white",
           "zerolinewidth": 2
          },
          "yaxis": {
           "automargin": true,
           "gridcolor": "white",
           "linecolor": "white",
           "ticks": "",
           "title": {
            "standoff": 15
           },
           "zerolinecolor": "white",
           "zerolinewidth": 2
          }
         }
        },
        "title": {
         "text": "GANTT Chart"
        },
        "xaxis": {
         "range": [
          "1970-01-01T01:14:10",
          "1970-01-01T15:31:02"
         ],
         "title": {
          "font": {
           "color": "#7f7f7f",
           "family": "Courier New, monospace",
           "size": 18
          },
          "text": "Time"
         }
        },
        "yaxis": {
         "title": {
          "font": {
           "color": "#7f7f7f",
           "family": "Courier New, monospace",
           "size": 18
          },
          "text": "Activities"
         }
        }
       }
      },
      "text/html": [
       "<div>                            <div id=\"8366ae7a-2fea-4a34-a992-cb74ca1e7d34\" class=\"plotly-graph-div\" style=\"height:525px; width:100%;\"></div>            <script type=\"text/javascript\">                require([\"plotly\"], function(Plotly) {                    window.PLOTLYENV=window.PLOTLYENV || {};                                    if (document.getElementById(\"8366ae7a-2fea-4a34-a992-cb74ca1e7d34\")) {                    Plotly.newPlot(                        \"8366ae7a-2fea-4a34-a992-cb74ca1e7d34\",                        [{\"connectgaps\":false,\"hoverinfo\":\"y+name\",\"line\":{\"color\":\"rgb(181,49,194)\",\"width\":10},\"mode\":\"lines\",\"name\":\"loading:barge_0\",\"x\":[\"1970-01-01T01:14:10\",\"1970-01-01T01:14:10\",\"1970-01-01T01:55:50\",\"1970-01-01T01:55:50\",\"1970-01-01T01:55:50\",\"1970-01-01T05:07:30\",\"1970-01-01T05:07:30\",\"1970-01-01T05:49:10\",\"1970-01-01T05:49:10\",\"1970-01-01T05:49:10\",\"1970-01-01T08:20:54\",\"1970-01-01T08:20:54\",\"1970-01-01T09:02:34\",\"1970-01-01T09:02:34\",\"1970-01-01T09:02:34\",\"1970-01-01T11:32:34\",\"1970-01-01T11:32:34\",\"1970-01-01T12:14:14\",\"1970-01-01T12:14:14\",\"1970-01-01T12:14:14\",\"1970-01-01T01:14:10\",\"1970-01-01T01:14:10\",\"1970-01-01T01:55:50\",\"1970-01-01T01:55:50\",\"1970-01-01T01:55:50\",\"1970-01-01T05:07:30\",\"1970-01-01T05:07:30\",\"1970-01-01T05:49:10\",\"1970-01-01T05:49:10\",\"1970-01-01T05:49:10\",\"1970-01-01T08:20:54\",\"1970-01-01T08:20:54\",\"1970-01-01T09:02:34\",\"1970-01-01T09:02:34\",\"1970-01-01T09:02:34\",\"1970-01-01T11:32:34\",\"1970-01-01T11:32:34\",\"1970-01-01T12:14:14\",\"1970-01-01T12:14:14\",\"1970-01-01T12:14:14\"],\"y\":[\"loading:barge_0\",\"loading:barge_0\",\"loading:barge_0\",\"loading:barge_0\",null,\"loading:barge_0\",\"loading:barge_0\",\"loading:barge_0\",\"loading:barge_0\",null,\"loading:barge_0\",\"loading:barge_0\",\"loading:barge_0\",\"loading:barge_0\",null,\"loading:barge_0\",\"loading:barge_0\",\"loading:barge_0\",\"loading:barge_0\",null,\"loading:barge_0\",\"loading:barge_0\",\"loading:barge_0\",\"loading:barge_0\",null,\"loading:barge_0\",\"loading:barge_0\",\"loading:barge_0\",\"loading:barge_0\",null,\"loading:barge_0\",\"loading:barge_0\",\"loading:barge_0\",\"loading:barge_0\",null,\"loading:barge_0\",\"loading:barge_0\",\"loading:barge_0\",\"loading:barge_0\",null],\"type\":\"scatter\"},{\"connectgaps\":false,\"hoverinfo\":\"y+name\",\"line\":{\"color\":\"rgb(202,70,215)\",\"width\":10},\"mode\":\"lines\",\"name\":\"loading:barge_0\",\"x\":[\"1970-01-01T01:14:10\",\"1970-01-01T01:14:10\",\"1970-01-01T01:55:50\",\"1970-01-01T01:55:50\",\"1970-01-01T01:55:50\",\"1970-01-01T05:07:30\",\"1970-01-01T05:07:30\",\"1970-01-01T05:49:10\",\"1970-01-01T05:49:10\",\"1970-01-01T05:49:10\",\"1970-01-01T08:20:54\",\"1970-01-01T08:20:54\",\"1970-01-01T09:02:34\",\"1970-01-01T09:02:34\",\"1970-01-01T09:02:34\",\"1970-01-01T11:32:34\",\"1970-01-01T11:32:34\",\"1970-01-01T12:14:14\",\"1970-01-01T12:14:14\",\"1970-01-01T12:14:14\",\"1970-01-01T01:14:10\",\"1970-01-01T01:14:10\",\"1970-01-01T01:55:50\",\"1970-01-01T01:55:50\",\"1970-01-01T01:55:50\",\"1970-01-01T05:07:30\",\"1970-01-01T05:07:30\",\"1970-01-01T05:49:10\",\"1970-01-01T05:49:10\",\"1970-01-01T05:49:10\",\"1970-01-01T08:20:54\",\"1970-01-01T08:20:54\",\"1970-01-01T09:02:34\",\"1970-01-01T09:02:34\",\"1970-01-01T09:02:34\",\"1970-01-01T11:32:34\",\"1970-01-01T11:32:34\",\"1970-01-01T12:14:14\",\"1970-01-01T12:14:14\",\"1970-01-01T12:14:14\"],\"y\":[\"loading:barge_0\",\"loading:barge_0\",\"loading:barge_0\",\"loading:barge_0\",null,\"loading:barge_0\",\"loading:barge_0\",\"loading:barge_0\",\"loading:barge_0\",null,\"loading:barge_0\",\"loading:barge_0\",\"loading:barge_0\",\"loading:barge_0\",null,\"loading:barge_0\",\"loading:barge_0\",\"loading:barge_0\",\"loading:barge_0\",null,\"loading:barge_0\",\"loading:barge_0\",\"loading:barge_0\",\"loading:barge_0\",null,\"loading:barge_0\",\"loading:barge_0\",\"loading:barge_0\",\"loading:barge_0\",null,\"loading:barge_0\",\"loading:barge_0\",\"loading:barge_0\",\"loading:barge_0\",null,\"loading:barge_0\",\"loading:barge_0\",\"loading:barge_0\",\"loading:barge_0\",null],\"type\":\"scatter\"},{\"connectgaps\":false,\"hoverinfo\":\"y+name\",\"line\":{\"color\":\"rgb(223,91,236)\",\"width\":10},\"mode\":\"lines\",\"name\":\"loading:barge_1\",\"x\":[\"1970-01-01T04:25:50\",\"1970-01-01T04:25:50\",\"1970-01-01T05:07:30\",\"1970-01-01T05:07:30\",\"1970-01-01T05:07:30\",\"1970-01-01T09:02:34\",\"1970-01-01T09:02:34\",\"1970-01-01T09:44:14\",\"1970-01-01T09:44:14\",\"1970-01-01T09:44:14\",\"1970-01-01T13:01:02\",\"1970-01-01T13:01:02\",\"1970-01-01T13:42:42\",\"1970-01-01T13:42:42\",\"1970-01-01T13:42:42\",\"1970-01-01T04:25:50\",\"1970-01-01T04:25:50\",\"1970-01-01T05:07:30\",\"1970-01-01T05:07:30\",\"1970-01-01T05:07:30\",\"1970-01-01T09:02:34\",\"1970-01-01T09:02:34\",\"1970-01-01T09:44:14\",\"1970-01-01T09:44:14\",\"1970-01-01T09:44:14\",\"1970-01-01T13:01:02\",\"1970-01-01T13:01:02\",\"1970-01-01T13:42:42\",\"1970-01-01T13:42:42\",\"1970-01-01T13:42:42\"],\"y\":[\"loading:barge_1\",\"loading:barge_1\",\"loading:barge_1\",\"loading:barge_1\",null,\"loading:barge_1\",\"loading:barge_1\",\"loading:barge_1\",\"loading:barge_1\",null,\"loading:barge_1\",\"loading:barge_1\",\"loading:barge_1\",\"loading:barge_1\",null,\"loading:barge_1\",\"loading:barge_1\",\"loading:barge_1\",\"loading:barge_1\",null,\"loading:barge_1\",\"loading:barge_1\",\"loading:barge_1\",\"loading:barge_1\",null,\"loading:barge_1\",\"loading:barge_1\",\"loading:barge_1\",\"loading:barge_1\",null],\"type\":\"scatter\"},{\"connectgaps\":false,\"hoverinfo\":\"y+name\",\"line\":{\"color\":\"rgb(244,112,1)\",\"width\":10},\"mode\":\"lines\",\"name\":\"loading:barge_1\",\"x\":[\"1970-01-01T04:25:50\",\"1970-01-01T04:25:50\",\"1970-01-01T05:07:30\",\"1970-01-01T05:07:30\",\"1970-01-01T05:07:30\",\"1970-01-01T09:02:34\",\"1970-01-01T09:02:34\",\"1970-01-01T09:44:14\",\"1970-01-01T09:44:14\",\"1970-01-01T09:44:14\",\"1970-01-01T13:01:02\",\"1970-01-01T13:01:02\",\"1970-01-01T13:42:42\",\"1970-01-01T13:42:42\",\"1970-01-01T13:42:42\",\"1970-01-01T04:25:50\",\"1970-01-01T04:25:50\",\"1970-01-01T05:07:30\",\"1970-01-01T05:07:30\",\"1970-01-01T05:07:30\",\"1970-01-01T09:02:34\",\"1970-01-01T09:02:34\",\"1970-01-01T09:44:14\",\"1970-01-01T09:44:14\",\"1970-01-01T09:44:14\",\"1970-01-01T13:01:02\",\"1970-01-01T13:01:02\",\"1970-01-01T13:42:42\",\"1970-01-01T13:42:42\",\"1970-01-01T13:42:42\"],\"y\":[\"loading:barge_1\",\"loading:barge_1\",\"loading:barge_1\",\"loading:barge_1\",null,\"loading:barge_1\",\"loading:barge_1\",\"loading:barge_1\",\"loading:barge_1\",null,\"loading:barge_1\",\"loading:barge_1\",\"loading:barge_1\",\"loading:barge_1\",null,\"loading:barge_1\",\"loading:barge_1\",\"loading:barge_1\",\"loading:barge_1\",null,\"loading:barge_1\",\"loading:barge_1\",\"loading:barge_1\",\"loading:barge_1\",null,\"loading:barge_1\",\"loading:barge_1\",\"loading:barge_1\",\"loading:barge_1\",null],\"type\":\"scatter\"},{\"connectgaps\":false,\"hoverinfo\":\"y+name\",\"line\":{\"color\":\"rgb(9,133,22)\",\"width\":10},\"mode\":\"lines\",\"name\":\"loading:barge_2\",\"x\":[\"1970-01-01T03:10:50\",\"1970-01-01T03:10:50\",\"1970-01-01T03:44:10\",\"1970-01-01T03:44:10\",\"1970-01-01T03:44:10\",\"1970-01-01T07:04:10\",\"1970-01-01T07:04:10\",\"1970-01-01T07:37:30\",\"1970-01-01T07:37:30\",\"1970-01-01T07:37:30\",\"1970-01-01T10:59:14\",\"1970-01-01T10:59:14\",\"1970-01-01T11:32:34\",\"1970-01-01T11:32:34\",\"1970-01-01T11:32:34\",\"1970-01-01T14:57:42\",\"1970-01-01T14:57:42\",\"1970-01-01T15:31:02\",\"1970-01-01T15:31:02\",\"1970-01-01T15:31:02\",\"1970-01-01T03:10:50\",\"1970-01-01T03:10:50\",\"1970-01-01T03:44:10\",\"1970-01-01T03:44:10\",\"1970-01-01T03:44:10\",\"1970-01-01T07:04:10\",\"1970-01-01T07:04:10\",\"1970-01-01T07:37:30\",\"1970-01-01T07:37:30\",\"1970-01-01T07:37:30\",\"1970-01-01T10:59:14\",\"1970-01-01T10:59:14\",\"1970-01-01T11:32:34\",\"1970-01-01T11:32:34\",\"1970-01-01T11:32:34\",\"1970-01-01T14:57:42\",\"1970-01-01T14:57:42\",\"1970-01-01T15:31:02\",\"1970-01-01T15:31:02\",\"1970-01-01T15:31:02\"],\"y\":[\"loading:barge_2\",\"loading:barge_2\",\"loading:barge_2\",\"loading:barge_2\",null,\"loading:barge_2\",\"loading:barge_2\",\"loading:barge_2\",\"loading:barge_2\",null,\"loading:barge_2\",\"loading:barge_2\",\"loading:barge_2\",\"loading:barge_2\",null,\"loading:barge_2\",\"loading:barge_2\",\"loading:barge_2\",\"loading:barge_2\",null,\"loading:barge_2\",\"loading:barge_2\",\"loading:barge_2\",\"loading:barge_2\",null,\"loading:barge_2\",\"loading:barge_2\",\"loading:barge_2\",\"loading:barge_2\",null,\"loading:barge_2\",\"loading:barge_2\",\"loading:barge_2\",\"loading:barge_2\",null,\"loading:barge_2\",\"loading:barge_2\",\"loading:barge_2\",\"loading:barge_2\",null],\"type\":\"scatter\"},{\"connectgaps\":false,\"hoverinfo\":\"y+name\",\"line\":{\"color\":\"rgb(30,154,43)\",\"width\":10},\"mode\":\"lines\",\"name\":\"loading:barge_2\",\"x\":[\"1970-01-01T03:10:50\",\"1970-01-01T03:10:50\",\"1970-01-01T03:44:10\",\"1970-01-01T03:44:10\",\"1970-01-01T03:44:10\",\"1970-01-01T07:04:10\",\"1970-01-01T07:04:10\",\"1970-01-01T07:37:30\",\"1970-01-01T07:37:30\",\"1970-01-01T07:37:30\",\"1970-01-01T10:59:14\",\"1970-01-01T10:59:14\",\"1970-01-01T11:32:34\",\"1970-01-01T11:32:34\",\"1970-01-01T11:32:34\",\"1970-01-01T14:57:42\",\"1970-01-01T14:57:42\",\"1970-01-01T15:31:02\",\"1970-01-01T15:31:02\",\"1970-01-01T15:31:02\",\"1970-01-01T03:10:50\",\"1970-01-01T03:10:50\",\"1970-01-01T03:44:10\",\"1970-01-01T03:44:10\",\"1970-01-01T03:44:10\",\"1970-01-01T07:04:10\",\"1970-01-01T07:04:10\",\"1970-01-01T07:37:30\",\"1970-01-01T07:37:30\",\"1970-01-01T07:37:30\",\"1970-01-01T10:59:14\",\"1970-01-01T10:59:14\",\"1970-01-01T11:32:34\",\"1970-01-01T11:32:34\",\"1970-01-01T11:32:34\",\"1970-01-01T14:57:42\",\"1970-01-01T14:57:42\",\"1970-01-01T15:31:02\",\"1970-01-01T15:31:02\",\"1970-01-01T15:31:02\"],\"y\":[\"loading:barge_2\",\"loading:barge_2\",\"loading:barge_2\",\"loading:barge_2\",null,\"loading:barge_2\",\"loading:barge_2\",\"loading:barge_2\",\"loading:barge_2\",null,\"loading:barge_2\",\"loading:barge_2\",\"loading:barge_2\",\"loading:barge_2\",null,\"loading:barge_2\",\"loading:barge_2\",\"loading:barge_2\",\"loading:barge_2\",null,\"loading:barge_2\",\"loading:barge_2\",\"loading:barge_2\",\"loading:barge_2\",null,\"loading:barge_2\",\"loading:barge_2\",\"loading:barge_2\",\"loading:barge_2\",null,\"loading:barge_2\",\"loading:barge_2\",\"loading:barge_2\",\"loading:barge_2\",null,\"loading:barge_2\",\"loading:barge_2\",\"loading:barge_2\",\"loading:barge_2\",null],\"type\":\"scatter\"},{\"connectgaps\":false,\"hoverinfo\":\"y+name\",\"line\":{\"color\":\"rgb(51,175,64)\",\"width\":10},\"mode\":\"lines\",\"name\":\"loading:barge_3\",\"x\":[\"1970-01-01T02:29:10\",\"1970-01-01T02:29:10\",\"1970-01-01T03:10:50\",\"1970-01-01T03:10:50\",\"1970-01-01T03:10:50\",\"1970-01-01T06:22:30\",\"1970-01-01T06:22:30\",\"1970-01-01T07:04:10\",\"1970-01-01T07:04:10\",\"1970-01-01T07:04:10\",\"1970-01-01T10:17:34\",\"1970-01-01T10:17:34\",\"1970-01-01T10:59:14\",\"1970-01-01T10:59:14\",\"1970-01-01T10:59:14\",\"1970-01-01T14:16:02\",\"1970-01-01T14:16:02\",\"1970-01-01T14:57:42\",\"1970-01-01T14:57:42\",\"1970-01-01T14:57:42\",\"1970-01-01T02:29:10\",\"1970-01-01T02:29:10\",\"1970-01-01T03:10:50\",\"1970-01-01T03:10:50\",\"1970-01-01T03:10:50\",\"1970-01-01T06:22:30\",\"1970-01-01T06:22:30\",\"1970-01-01T07:04:10\",\"1970-01-01T07:04:10\",\"1970-01-01T07:04:10\",\"1970-01-01T10:17:34\",\"1970-01-01T10:17:34\",\"1970-01-01T10:59:14\",\"1970-01-01T10:59:14\",\"1970-01-01T10:59:14\",\"1970-01-01T14:16:02\",\"1970-01-01T14:16:02\",\"1970-01-01T14:57:42\",\"1970-01-01T14:57:42\",\"1970-01-01T14:57:42\"],\"y\":[\"loading:barge_3\",\"loading:barge_3\",\"loading:barge_3\",\"loading:barge_3\",null,\"loading:barge_3\",\"loading:barge_3\",\"loading:barge_3\",\"loading:barge_3\",null,\"loading:barge_3\",\"loading:barge_3\",\"loading:barge_3\",\"loading:barge_3\",null,\"loading:barge_3\",\"loading:barge_3\",\"loading:barge_3\",\"loading:barge_3\",null,\"loading:barge_3\",\"loading:barge_3\",\"loading:barge_3\",\"loading:barge_3\",null,\"loading:barge_3\",\"loading:barge_3\",\"loading:barge_3\",\"loading:barge_3\",null,\"loading:barge_3\",\"loading:barge_3\",\"loading:barge_3\",\"loading:barge_3\",null,\"loading:barge_3\",\"loading:barge_3\",\"loading:barge_3\",\"loading:barge_3\",null],\"type\":\"scatter\"},{\"connectgaps\":false,\"hoverinfo\":\"y+name\",\"line\":{\"color\":\"rgb(72,196,85)\",\"width\":10},\"mode\":\"lines\",\"name\":\"loading:barge_3\",\"x\":[\"1970-01-01T02:29:10\",\"1970-01-01T02:29:10\",\"1970-01-01T03:10:50\",\"1970-01-01T03:10:50\",\"1970-01-01T03:10:50\",\"1970-01-01T06:22:30\",\"1970-01-01T06:22:30\",\"1970-01-01T07:04:10\",\"1970-01-01T07:04:10\",\"1970-01-01T07:04:10\",\"1970-01-01T10:17:34\",\"1970-01-01T10:17:34\",\"1970-01-01T10:59:14\",\"1970-01-01T10:59:14\",\"1970-01-01T10:59:14\",\"1970-01-01T14:16:02\",\"1970-01-01T14:16:02\",\"1970-01-01T14:57:42\",\"1970-01-01T14:57:42\",\"1970-01-01T14:57:42\",\"1970-01-01T02:29:10\",\"1970-01-01T02:29:10\",\"1970-01-01T03:10:50\",\"1970-01-01T03:10:50\",\"1970-01-01T03:10:50\",\"1970-01-01T06:22:30\",\"1970-01-01T06:22:30\",\"1970-01-01T07:04:10\",\"1970-01-01T07:04:10\",\"1970-01-01T07:04:10\",\"1970-01-01T10:17:34\",\"1970-01-01T10:17:34\",\"1970-01-01T10:59:14\",\"1970-01-01T10:59:14\",\"1970-01-01T10:59:14\",\"1970-01-01T14:16:02\",\"1970-01-01T14:16:02\",\"1970-01-01T14:57:42\",\"1970-01-01T14:57:42\",\"1970-01-01T14:57:42\"],\"y\":[\"loading:barge_3\",\"loading:barge_3\",\"loading:barge_3\",\"loading:barge_3\",null,\"loading:barge_3\",\"loading:barge_3\",\"loading:barge_3\",\"loading:barge_3\",null,\"loading:barge_3\",\"loading:barge_3\",\"loading:barge_3\",\"loading:barge_3\",null,\"loading:barge_3\",\"loading:barge_3\",\"loading:barge_3\",\"loading:barge_3\",null,\"loading:barge_3\",\"loading:barge_3\",\"loading:barge_3\",\"loading:barge_3\",null,\"loading:barge_3\",\"loading:barge_3\",\"loading:barge_3\",\"loading:barge_3\",null,\"loading:barge_3\",\"loading:barge_3\",\"loading:barge_3\",\"loading:barge_3\",null,\"loading:barge_3\",\"loading:barge_3\",\"loading:barge_3\",\"loading:barge_3\",null],\"type\":\"scatter\"},{\"connectgaps\":false,\"hoverinfo\":\"y+name\",\"line\":{\"color\":\"rgb(93,217,106)\",\"width\":10},\"mode\":\"lines\",\"name\":\"loading:barge_4\",\"x\":[\"1970-01-01T03:44:10\",\"1970-01-01T03:44:10\",\"1970-01-01T04:25:50\",\"1970-01-01T04:25:50\",\"1970-01-01T04:25:50\",\"1970-01-01T07:39:14\",\"1970-01-01T07:39:14\",\"1970-01-01T08:20:54\",\"1970-01-01T08:20:54\",\"1970-01-01T08:20:54\",\"1970-01-01T12:14:14\",\"1970-01-01T12:14:14\",\"1970-01-01T12:55:54\",\"1970-01-01T12:55:54\",\"1970-01-01T12:55:54\",\"1970-01-01T03:44:10\",\"1970-01-01T03:44:10\",\"1970-01-01T04:25:50\",\"1970-01-01T04:25:50\",\"1970-01-01T04:25:50\",\"1970-01-01T07:39:14\",\"1970-01-01T07:39:14\",\"1970-01-01T08:20:54\",\"1970-01-01T08:20:54\",\"1970-01-01T08:20:54\",\"1970-01-01T12:14:14\",\"1970-01-01T12:14:14\",\"1970-01-01T12:55:54\",\"1970-01-01T12:55:54\",\"1970-01-01T12:55:54\"],\"y\":[\"loading:barge_4\",\"loading:barge_4\",\"loading:barge_4\",\"loading:barge_4\",null,\"loading:barge_4\",\"loading:barge_4\",\"loading:barge_4\",\"loading:barge_4\",null,\"loading:barge_4\",\"loading:barge_4\",\"loading:barge_4\",\"loading:barge_4\",null,\"loading:barge_4\",\"loading:barge_4\",\"loading:barge_4\",\"loading:barge_4\",null,\"loading:barge_4\",\"loading:barge_4\",\"loading:barge_4\",\"loading:barge_4\",null,\"loading:barge_4\",\"loading:barge_4\",\"loading:barge_4\",\"loading:barge_4\",null],\"type\":\"scatter\"},{\"connectgaps\":false,\"hoverinfo\":\"y+name\",\"line\":{\"color\":\"rgb(114,238,127)\",\"width\":10},\"mode\":\"lines\",\"name\":\"loading:barge_4\",\"x\":[\"1970-01-01T03:44:10\",\"1970-01-01T03:44:10\",\"1970-01-01T04:25:50\",\"1970-01-01T04:25:50\",\"1970-01-01T04:25:50\",\"1970-01-01T07:39:14\",\"1970-01-01T07:39:14\",\"1970-01-01T08:20:54\",\"1970-01-01T08:20:54\",\"1970-01-01T08:20:54\",\"1970-01-01T12:14:14\",\"1970-01-01T12:14:14\",\"1970-01-01T12:55:54\",\"1970-01-01T12:55:54\",\"1970-01-01T12:55:54\",\"1970-01-01T03:44:10\",\"1970-01-01T03:44:10\",\"1970-01-01T04:25:50\",\"1970-01-01T04:25:50\",\"1970-01-01T04:25:50\",\"1970-01-01T07:39:14\",\"1970-01-01T07:39:14\",\"1970-01-01T08:20:54\",\"1970-01-01T08:20:54\",\"1970-01-01T08:20:54\",\"1970-01-01T12:14:14\",\"1970-01-01T12:14:14\",\"1970-01-01T12:55:54\",\"1970-01-01T12:55:54\",\"1970-01-01T12:55:54\"],\"y\":[\"loading:barge_4\",\"loading:barge_4\",\"loading:barge_4\",\"loading:barge_4\",null,\"loading:barge_4\",\"loading:barge_4\",\"loading:barge_4\",\"loading:barge_4\",null,\"loading:barge_4\",\"loading:barge_4\",\"loading:barge_4\",\"loading:barge_4\",null,\"loading:barge_4\",\"loading:barge_4\",\"loading:barge_4\",\"loading:barge_4\",null,\"loading:barge_4\",\"loading:barge_4\",\"loading:barge_4\",\"loading:barge_4\",null,\"loading:barge_4\",\"loading:barge_4\",\"loading:barge_4\",\"loading:barge_4\",null],\"type\":\"scatter\"},{\"connectgaps\":false,\"hoverinfo\":\"y+name\",\"line\":{\"color\":\"rgb(135,3,148)\",\"width\":10},\"mode\":\"lines\",\"name\":\"loading:barge_5\",\"x\":[\"1970-01-01T01:55:50\",\"1970-01-01T01:55:50\",\"1970-01-01T02:29:10\",\"1970-01-01T02:29:10\",\"1970-01-01T02:29:10\",\"1970-01-01T05:49:10\",\"1970-01-01T05:49:10\",\"1970-01-01T06:22:30\",\"1970-01-01T06:22:30\",\"1970-01-01T06:22:30\",\"1970-01-01T09:44:14\",\"1970-01-01T09:44:14\",\"1970-01-01T10:17:34\",\"1970-01-01T10:17:34\",\"1970-01-01T10:17:34\",\"1970-01-01T13:42:42\",\"1970-01-01T13:42:42\",\"1970-01-01T14:16:02\",\"1970-01-01T14:16:02\",\"1970-01-01T14:16:02\",\"1970-01-01T01:55:50\",\"1970-01-01T01:55:50\",\"1970-01-01T02:29:10\",\"1970-01-01T02:29:10\",\"1970-01-01T02:29:10\",\"1970-01-01T05:49:10\",\"1970-01-01T05:49:10\",\"1970-01-01T06:22:30\",\"1970-01-01T06:22:30\",\"1970-01-01T06:22:30\",\"1970-01-01T09:44:14\",\"1970-01-01T09:44:14\",\"1970-01-01T10:17:34\",\"1970-01-01T10:17:34\",\"1970-01-01T10:17:34\",\"1970-01-01T13:42:42\",\"1970-01-01T13:42:42\",\"1970-01-01T14:16:02\",\"1970-01-01T14:16:02\",\"1970-01-01T14:16:02\"],\"y\":[\"loading:barge_5\",\"loading:barge_5\",\"loading:barge_5\",\"loading:barge_5\",null,\"loading:barge_5\",\"loading:barge_5\",\"loading:barge_5\",\"loading:barge_5\",null,\"loading:barge_5\",\"loading:barge_5\",\"loading:barge_5\",\"loading:barge_5\",null,\"loading:barge_5\",\"loading:barge_5\",\"loading:barge_5\",\"loading:barge_5\",null,\"loading:barge_5\",\"loading:barge_5\",\"loading:barge_5\",\"loading:barge_5\",null,\"loading:barge_5\",\"loading:barge_5\",\"loading:barge_5\",\"loading:barge_5\",null,\"loading:barge_5\",\"loading:barge_5\",\"loading:barge_5\",\"loading:barge_5\",null,\"loading:barge_5\",\"loading:barge_5\",\"loading:barge_5\",\"loading:barge_5\",null],\"type\":\"scatter\"},{\"connectgaps\":false,\"hoverinfo\":\"y+name\",\"line\":{\"color\":\"rgb(156,24,169)\",\"width\":10},\"mode\":\"lines\",\"name\":\"loading:barge_5\",\"x\":[\"1970-01-01T01:55:50\",\"1970-01-01T01:55:50\",\"1970-01-01T02:29:10\",\"1970-01-01T02:29:10\",\"1970-01-01T02:29:10\",\"1970-01-01T05:49:10\",\"1970-01-01T05:49:10\",\"1970-01-01T06:22:30\",\"1970-01-01T06:22:30\",\"1970-01-01T06:22:30\",\"1970-01-01T09:44:14\",\"1970-01-01T09:44:14\",\"1970-01-01T10:17:34\",\"1970-01-01T10:17:34\",\"1970-01-01T10:17:34\",\"1970-01-01T13:42:42\",\"1970-01-01T13:42:42\",\"1970-01-01T14:16:02\",\"1970-01-01T14:16:02\",\"1970-01-01T14:16:02\",\"1970-01-01T01:55:50\",\"1970-01-01T01:55:50\",\"1970-01-01T02:29:10\",\"1970-01-01T02:29:10\",\"1970-01-01T02:29:10\",\"1970-01-01T05:49:10\",\"1970-01-01T05:49:10\",\"1970-01-01T06:22:30\",\"1970-01-01T06:22:30\",\"1970-01-01T06:22:30\",\"1970-01-01T09:44:14\",\"1970-01-01T09:44:14\",\"1970-01-01T10:17:34\",\"1970-01-01T10:17:34\",\"1970-01-01T10:17:34\",\"1970-01-01T13:42:42\",\"1970-01-01T13:42:42\",\"1970-01-01T14:16:02\",\"1970-01-01T14:16:02\",\"1970-01-01T14:16:02\"],\"y\":[\"loading:barge_5\",\"loading:barge_5\",\"loading:barge_5\",\"loading:barge_5\",null,\"loading:barge_5\",\"loading:barge_5\",\"loading:barge_5\",\"loading:barge_5\",null,\"loading:barge_5\",\"loading:barge_5\",\"loading:barge_5\",\"loading:barge_5\",null,\"loading:barge_5\",\"loading:barge_5\",\"loading:barge_5\",\"loading:barge_5\",null,\"loading:barge_5\",\"loading:barge_5\",\"loading:barge_5\",\"loading:barge_5\",null,\"loading:barge_5\",\"loading:barge_5\",\"loading:barge_5\",\"loading:barge_5\",null,\"loading:barge_5\",\"loading:barge_5\",\"loading:barge_5\",\"loading:barge_5\",null,\"loading:barge_5\",\"loading:barge_5\",\"loading:barge_5\",\"loading:barge_5\",null],\"type\":\"scatter\"}],                        {\"hovermode\":\"closest\",\"legend\":{\"orientation\":\"h\",\"x\":0,\"y\":-0.2},\"template\":{\"data\":{\"barpolar\":[{\"marker\":{\"line\":{\"color\":\"#E5ECF6\",\"width\":0.5},\"pattern\":{\"fillmode\":\"overlay\",\"size\":10,\"solidity\":0.2}},\"type\":\"barpolar\"}],\"bar\":[{\"error_x\":{\"color\":\"#2a3f5f\"},\"error_y\":{\"color\":\"#2a3f5f\"},\"marker\":{\"line\":{\"color\":\"#E5ECF6\",\"width\":0.5},\"pattern\":{\"fillmode\":\"overlay\",\"size\":10,\"solidity\":0.2}},\"type\":\"bar\"}],\"carpet\":[{\"aaxis\":{\"endlinecolor\":\"#2a3f5f\",\"gridcolor\":\"white\",\"linecolor\":\"white\",\"minorgridcolor\":\"white\",\"startlinecolor\":\"#2a3f5f\"},\"baxis\":{\"endlinecolor\":\"#2a3f5f\",\"gridcolor\":\"white\",\"linecolor\":\"white\",\"minorgridcolor\":\"white\",\"startlinecolor\":\"#2a3f5f\"},\"type\":\"carpet\"}],\"choropleth\":[{\"colorbar\":{\"outlinewidth\":0,\"ticks\":\"\"},\"type\":\"choropleth\"}],\"contourcarpet\":[{\"colorbar\":{\"outlinewidth\":0,\"ticks\":\"\"},\"type\":\"contourcarpet\"}],\"contour\":[{\"colorbar\":{\"outlinewidth\":0,\"ticks\":\"\"},\"colorscale\":[[0.0,\"#0d0887\"],[0.1111111111111111,\"#46039f\"],[0.2222222222222222,\"#7201a8\"],[0.3333333333333333,\"#9c179e\"],[0.4444444444444444,\"#bd3786\"],[0.5555555555555556,\"#d8576b\"],[0.6666666666666666,\"#ed7953\"],[0.7777777777777778,\"#fb9f3a\"],[0.8888888888888888,\"#fdca26\"],[1.0,\"#f0f921\"]],\"type\":\"contour\"}],\"heatmapgl\":[{\"colorbar\":{\"outlinewidth\":0,\"ticks\":\"\"},\"colorscale\":[[0.0,\"#0d0887\"],[0.1111111111111111,\"#46039f\"],[0.2222222222222222,\"#7201a8\"],[0.3333333333333333,\"#9c179e\"],[0.4444444444444444,\"#bd3786\"],[0.5555555555555556,\"#d8576b\"],[0.6666666666666666,\"#ed7953\"],[0.7777777777777778,\"#fb9f3a\"],[0.8888888888888888,\"#fdca26\"],[1.0,\"#f0f921\"]],\"type\":\"heatmapgl\"}],\"heatmap\":[{\"colorbar\":{\"outlinewidth\":0,\"ticks\":\"\"},\"colorscale\":[[0.0,\"#0d0887\"],[0.1111111111111111,\"#46039f\"],[0.2222222222222222,\"#7201a8\"],[0.3333333333333333,\"#9c179e\"],[0.4444444444444444,\"#bd3786\"],[0.5555555555555556,\"#d8576b\"],[0.6666666666666666,\"#ed7953\"],[0.7777777777777778,\"#fb9f3a\"],[0.8888888888888888,\"#fdca26\"],[1.0,\"#f0f921\"]],\"type\":\"heatmap\"}],\"histogram2dcontour\":[{\"colorbar\":{\"outlinewidth\":0,\"ticks\":\"\"},\"colorscale\":[[0.0,\"#0d0887\"],[0.1111111111111111,\"#46039f\"],[0.2222222222222222,\"#7201a8\"],[0.3333333333333333,\"#9c179e\"],[0.4444444444444444,\"#bd3786\"],[0.5555555555555556,\"#d8576b\"],[0.6666666666666666,\"#ed7953\"],[0.7777777777777778,\"#fb9f3a\"],[0.8888888888888888,\"#fdca26\"],[1.0,\"#f0f921\"]],\"type\":\"histogram2dcontour\"}],\"histogram2d\":[{\"colorbar\":{\"outlinewidth\":0,\"ticks\":\"\"},\"colorscale\":[[0.0,\"#0d0887\"],[0.1111111111111111,\"#46039f\"],[0.2222222222222222,\"#7201a8\"],[0.3333333333333333,\"#9c179e\"],[0.4444444444444444,\"#bd3786\"],[0.5555555555555556,\"#d8576b\"],[0.6666666666666666,\"#ed7953\"],[0.7777777777777778,\"#fb9f3a\"],[0.8888888888888888,\"#fdca26\"],[1.0,\"#f0f921\"]],\"type\":\"histogram2d\"}],\"histogram\":[{\"marker\":{\"pattern\":{\"fillmode\":\"overlay\",\"size\":10,\"solidity\":0.2}},\"type\":\"histogram\"}],\"mesh3d\":[{\"colorbar\":{\"outlinewidth\":0,\"ticks\":\"\"},\"type\":\"mesh3d\"}],\"parcoords\":[{\"line\":{\"colorbar\":{\"outlinewidth\":0,\"ticks\":\"\"}},\"type\":\"parcoords\"}],\"pie\":[{\"automargin\":true,\"type\":\"pie\"}],\"scatter3d\":[{\"line\":{\"colorbar\":{\"outlinewidth\":0,\"ticks\":\"\"}},\"marker\":{\"colorbar\":{\"outlinewidth\":0,\"ticks\":\"\"}},\"type\":\"scatter3d\"}],\"scattercarpet\":[{\"marker\":{\"colorbar\":{\"outlinewidth\":0,\"ticks\":\"\"}},\"type\":\"scattercarpet\"}],\"scattergeo\":[{\"marker\":{\"colorbar\":{\"outlinewidth\":0,\"ticks\":\"\"}},\"type\":\"scattergeo\"}],\"scattergl\":[{\"marker\":{\"colorbar\":{\"outlinewidth\":0,\"ticks\":\"\"}},\"type\":\"scattergl\"}],\"scattermapbox\":[{\"marker\":{\"colorbar\":{\"outlinewidth\":0,\"ticks\":\"\"}},\"type\":\"scattermapbox\"}],\"scatterpolargl\":[{\"marker\":{\"colorbar\":{\"outlinewidth\":0,\"ticks\":\"\"}},\"type\":\"scatterpolargl\"}],\"scatterpolar\":[{\"marker\":{\"colorbar\":{\"outlinewidth\":0,\"ticks\":\"\"}},\"type\":\"scatterpolar\"}],\"scatter\":[{\"fillpattern\":{\"fillmode\":\"overlay\",\"size\":10,\"solidity\":0.2},\"type\":\"scatter\"}],\"scatterternary\":[{\"marker\":{\"colorbar\":{\"outlinewidth\":0,\"ticks\":\"\"}},\"type\":\"scatterternary\"}],\"surface\":[{\"colorbar\":{\"outlinewidth\":0,\"ticks\":\"\"},\"colorscale\":[[0.0,\"#0d0887\"],[0.1111111111111111,\"#46039f\"],[0.2222222222222222,\"#7201a8\"],[0.3333333333333333,\"#9c179e\"],[0.4444444444444444,\"#bd3786\"],[0.5555555555555556,\"#d8576b\"],[0.6666666666666666,\"#ed7953\"],[0.7777777777777778,\"#fb9f3a\"],[0.8888888888888888,\"#fdca26\"],[1.0,\"#f0f921\"]],\"type\":\"surface\"}],\"table\":[{\"cells\":{\"fill\":{\"color\":\"#EBF0F8\"},\"line\":{\"color\":\"white\"}},\"header\":{\"fill\":{\"color\":\"#C8D4E3\"},\"line\":{\"color\":\"white\"}},\"type\":\"table\"}]},\"layout\":{\"annotationdefaults\":{\"arrowcolor\":\"#2a3f5f\",\"arrowhead\":0,\"arrowwidth\":1},\"autotypenumbers\":\"strict\",\"coloraxis\":{\"colorbar\":{\"outlinewidth\":0,\"ticks\":\"\"}},\"colorscale\":{\"diverging\":[[0,\"#8e0152\"],[0.1,\"#c51b7d\"],[0.2,\"#de77ae\"],[0.3,\"#f1b6da\"],[0.4,\"#fde0ef\"],[0.5,\"#f7f7f7\"],[0.6,\"#e6f5d0\"],[0.7,\"#b8e186\"],[0.8,\"#7fbc41\"],[0.9,\"#4d9221\"],[1,\"#276419\"]],\"sequential\":[[0.0,\"#0d0887\"],[0.1111111111111111,\"#46039f\"],[0.2222222222222222,\"#7201a8\"],[0.3333333333333333,\"#9c179e\"],[0.4444444444444444,\"#bd3786\"],[0.5555555555555556,\"#d8576b\"],[0.6666666666666666,\"#ed7953\"],[0.7777777777777778,\"#fb9f3a\"],[0.8888888888888888,\"#fdca26\"],[1.0,\"#f0f921\"]],\"sequentialminus\":[[0.0,\"#0d0887\"],[0.1111111111111111,\"#46039f\"],[0.2222222222222222,\"#7201a8\"],[0.3333333333333333,\"#9c179e\"],[0.4444444444444444,\"#bd3786\"],[0.5555555555555556,\"#d8576b\"],[0.6666666666666666,\"#ed7953\"],[0.7777777777777778,\"#fb9f3a\"],[0.8888888888888888,\"#fdca26\"],[1.0,\"#f0f921\"]]},\"colorway\":[\"#636efa\",\"#EF553B\",\"#00cc96\",\"#ab63fa\",\"#FFA15A\",\"#19d3f3\",\"#FF6692\",\"#B6E880\",\"#FF97FF\",\"#FECB52\"],\"font\":{\"color\":\"#2a3f5f\"},\"geo\":{\"bgcolor\":\"white\",\"lakecolor\":\"white\",\"landcolor\":\"#E5ECF6\",\"showlakes\":true,\"showland\":true,\"subunitcolor\":\"white\"},\"hoverlabel\":{\"align\":\"left\"},\"hovermode\":\"closest\",\"mapbox\":{\"style\":\"light\"},\"paper_bgcolor\":\"white\",\"plot_bgcolor\":\"#E5ECF6\",\"polar\":{\"angularaxis\":{\"gridcolor\":\"white\",\"linecolor\":\"white\",\"ticks\":\"\"},\"bgcolor\":\"#E5ECF6\",\"radialaxis\":{\"gridcolor\":\"white\",\"linecolor\":\"white\",\"ticks\":\"\"}},\"scene\":{\"xaxis\":{\"backgroundcolor\":\"#E5ECF6\",\"gridcolor\":\"white\",\"gridwidth\":2,\"linecolor\":\"white\",\"showbackground\":true,\"ticks\":\"\",\"zerolinecolor\":\"white\"},\"yaxis\":{\"backgroundcolor\":\"#E5ECF6\",\"gridcolor\":\"white\",\"gridwidth\":2,\"linecolor\":\"white\",\"showbackground\":true,\"ticks\":\"\",\"zerolinecolor\":\"white\"},\"zaxis\":{\"backgroundcolor\":\"#E5ECF6\",\"gridcolor\":\"white\",\"gridwidth\":2,\"linecolor\":\"white\",\"showbackground\":true,\"ticks\":\"\",\"zerolinecolor\":\"white\"}},\"shapedefaults\":{\"line\":{\"color\":\"#2a3f5f\"}},\"ternary\":{\"aaxis\":{\"gridcolor\":\"white\",\"linecolor\":\"white\",\"ticks\":\"\"},\"baxis\":{\"gridcolor\":\"white\",\"linecolor\":\"white\",\"ticks\":\"\"},\"bgcolor\":\"#E5ECF6\",\"caxis\":{\"gridcolor\":\"white\",\"linecolor\":\"white\",\"ticks\":\"\"}},\"title\":{\"x\":0.05},\"xaxis\":{\"automargin\":true,\"gridcolor\":\"white\",\"linecolor\":\"white\",\"ticks\":\"\",\"title\":{\"standoff\":15},\"zerolinecolor\":\"white\",\"zerolinewidth\":2},\"yaxis\":{\"automargin\":true,\"gridcolor\":\"white\",\"linecolor\":\"white\",\"ticks\":\"\",\"title\":{\"standoff\":15},\"zerolinecolor\":\"white\",\"zerolinewidth\":2}}},\"title\":{\"text\":\"GANTT Chart\"},\"xaxis\":{\"range\":[\"1970-01-01T01:14:10\",\"1970-01-01T15:31:02\"],\"title\":{\"font\":{\"color\":\"#7f7f7f\",\"family\":\"Courier New, monospace\",\"size\":18},\"text\":\"Time\"}},\"yaxis\":{\"title\":{\"font\":{\"color\":\"#7f7f7f\",\"family\":\"Courier New, monospace\",\"size\":18},\"text\":\"Activities\"}}},                        {\"responsive\": true}                    ).then(function(){\n",
       "                            \n",
       "var gd = document.getElementById('8366ae7a-2fea-4a34-a992-cb74ca1e7d34');\n",
       "var x = new MutationObserver(function (mutations, observer) {{\n",
       "        var display = window.getComputedStyle(gd).display;\n",
       "        if (!display || display === 'none') {{\n",
       "            console.log([gd, 'removed!']);\n",
       "            Plotly.purge(gd);\n",
       "            observer.disconnect();\n",
       "        }}\n",
       "}});\n",
       "\n",
       "// Listen for the removal of the full notebook cells\n",
       "var notebookContainer = gd.closest('#notebook-container');\n",
       "if (notebookContainer) {{\n",
       "    x.observe(notebookContainer, {childList: true});\n",
       "}}\n",
       "\n",
       "// Listen for the clearing of the current output cell\n",
       "var outputEl = gd.closest('.output');\n",
       "if (outputEl) {{\n",
       "    x.observe(outputEl, {childList: true});\n",
       "}}\n",
       "\n",
       "                        })                };                });            </script>        </div>"
      ]
     },
     "metadata": {},
     "output_type": "display_data"
    }
   ],
   "source": [
    "def expand(a, namespace):\n",
    "    n = len(namespace)\n",
    "    sa = []\n",
    "    if a.name[0:n]==namespace:\n",
    "        sa.append(a)\n",
    "    if hasattr(a, \"sub_processes\"):\n",
    "        for s in a.sub_processes:\n",
    "            if s.name[0:n]==namespace:\n",
    "                sa.append(s)\n",
    "            sa+=expand(s,namespace)\n",
    "    return sa\n",
    "all_activities = []\n",
    "for a in [*activities]:\n",
    "    all_activities+=expand(activities[a],'load')\n",
    "all_activities\n",
    "fig = plot.get_gantt_chart(all_activities)"
   ]
  },
  {
   "cell_type": "code",
   "execution_count": 19,
   "id": "283667b8",
   "metadata": {},
   "outputs": [
    {
     "data": {
      "image/png": "[encoded data removed]",
      "text/plain": [
       "<Figure size 1400x700 with 1 Axes>"
      ]
     },
     "metadata": {},
     "output_type": "display_data"
    }
   ],
   "source": [
    "fig = plot.get_step_chart([from_site, to_site, *vessels.values()])"
   ]
  },
  {
   "cell_type": "code",
   "execution_count": 21,
   "id": "a7def889",
   "metadata": {},
   "outputs": [
    {
     "data": {
      "text/html": [
       "<div>\n",
       "<style scoped>\n",
       "    .dataframe tbody tr th:only-of-type {\n",
       "        vertical-align: middle;\n",
       "    }\n",
       "\n",
       "    .dataframe tbody tr th {\n",
       "        vertical-align: top;\n",
       "    }\n",
       "\n",
       "    .dataframe thead th {\n",
       "        text-align: right;\n",
       "    }\n",
       "</style>\n",
       "<table border=\"1\" class=\"dataframe\">\n",
       "  <thead>\n",
       "    <tr style=\"text-align: right;\">\n",
       "      <th></th>\n",
       "      <th>name</th>\n",
       "      <th># trips</th>\n",
       "      <th>production actual</th>\n",
       "      <th>production theory</th>\n",
       "      <th>occupancy [%]</th>\n",
       "    </tr>\n",
       "  </thead>\n",
       "  <tbody>\n",
       "    <tr>\n",
       "      <th>6</th>\n",
       "      <td>cutter</td>\n",
       "      <td>22</td>\n",
       "      <td>0.001945</td>\n",
       "      <td>0.001923</td>\n",
       "      <td>101.1%</td>\n",
       "    </tr>\n",
       "    <tr>\n",
       "      <th>0</th>\n",
       "      <td>barge_0</td>\n",
       "      <td>4</td>\n",
       "      <td>0.000412</td>\n",
       "      <td>0.000439</td>\n",
       "      <td>94.0%</td>\n",
       "    </tr>\n",
       "    <tr>\n",
       "      <th>3</th>\n",
       "      <td>barge_3</td>\n",
       "      <td>4</td>\n",
       "      <td>0.000338</td>\n",
       "      <td>0.000382</td>\n",
       "      <td>88.4%</td>\n",
       "    </tr>\n",
       "    <tr>\n",
       "      <th>4</th>\n",
       "      <td>barge_4</td>\n",
       "      <td>3</td>\n",
       "      <td>0.000287</td>\n",
       "      <td>0.000355</td>\n",
       "      <td>80.8%</td>\n",
       "    </tr>\n",
       "    <tr>\n",
       "      <th>5</th>\n",
       "      <td>barge_5</td>\n",
       "      <td>4</td>\n",
       "      <td>0.000284</td>\n",
       "      <td>0.000329</td>\n",
       "      <td>86.1%</td>\n",
       "    </tr>\n",
       "    <tr>\n",
       "      <th>1</th>\n",
       "      <td>barge_1</td>\n",
       "      <td>3</td>\n",
       "      <td>0.000271</td>\n",
       "      <td>0.000349</td>\n",
       "      <td>77.7%</td>\n",
       "    </tr>\n",
       "    <tr>\n",
       "      <th>2</th>\n",
       "      <td>barge_2</td>\n",
       "      <td>4</td>\n",
       "      <td>0.000261</td>\n",
       "      <td>0.000309</td>\n",
       "      <td>84.4%</td>\n",
       "    </tr>\n",
       "  </tbody>\n",
       "</table>\n",
       "</div>"
      ],
      "text/plain": [
       "      name  # trips  production actual  production theory occupancy [%]\n",
       "6   cutter       22           0.001945           0.001923        101.1%\n",
       "0  barge_0        4           0.000412           0.000439         94.0%\n",
       "3  barge_3        4           0.000338           0.000382         88.4%\n",
       "4  barge_4        3           0.000287           0.000355         80.8%\n",
       "5  barge_5        4           0.000284           0.000329         86.1%\n",
       "1  barge_1        3           0.000271           0.000349         77.7%\n",
       "2  barge_2        4           0.000261           0.000309         84.4%"
      ]
     },
     "execution_count": 21,
     "metadata": {},
     "output_type": "execute_result"
    }
   ],
   "source": [
    "data = []\n",
    "duration_theory_cutter = 0\n",
    "nr_trips_cutter = 0\n",
    "\n",
    "# barges\n",
    "for i in range(len(vessels.values()) - 1):\n",
    "    vessel = vessels[f'vessel{i}']\n",
    "    activity = activities[f'activity{i}']\n",
    "    sub_act = activity.sub_processes[0].sub_processes[2] # loading (joint cutter-barge act)\n",
    "    duration_theory_cutter += sub_act.duration*nr_trips\n",
    "    \n",
    "    log = pd.DataFrame(vessel.log)\n",
    "    nr_trips = len(log[(log.ActivityID == sub_act.id) & (log.ActivityState == \"START\")])\n",
    "    nr_trips_cutter += nr_trips\n",
    "    \n",
    "    # duration_theory = 4*sub_act.duration+ 5*sub_act.amount # ??????\n",
    "    duration_theory = 0\n",
    "    for sub_act in activity.sub_processes[0].sub_processes:\n",
    "        duration_theory+=sub_act.duration\n",
    "    \n",
    "    duration_actual = (log.Timestamp.max() - log.Timestamp.min()).total_seconds()\n",
    "    data.append({\n",
    "        'name':vessel.name, \n",
    "        '# trips':nr_trips, \n",
    "        'production actual':(nr_trips * sub_act.amount) / (duration_actual),\n",
    "        'production theory': (sub_act.amount / (duration_theory)),\n",
    "    })\n",
    "    \n",
    "# cutter\n",
    "log = pd.DataFrame(cutter.log)\n",
    "duration_actual_cutter = (log.Timestamp.max() - log.Timestamp.min()).total_seconds()\n",
    "data.append({\n",
    "    'name':'cutter', \n",
    "    '# trips':nr_trips_cutter, \n",
    "    'production actual':(total_amount) / (duration_actual_cutter),\n",
    "    'production theory':(total_amount) / (duration_theory_cutter),\n",
    "})\n",
    "    \n",
    "df = pd.DataFrame(data).sort_values(by=['production actual'],ascending=False)\n",
    "df['occupancy [%]'] = [f'{x:.1f}%' for x in 100*df['production actual']/df['production theory']]\n",
    "df"
   ]
  },
  {
   "cell_type": "code",
   "execution_count": null,
   "id": "d25fc937",
   "metadata": {},
   "outputs": [],
   "source": []
  },
  {
   "cell_type": "code",
   "execution_count": null,
   "id": "c2163a56",
   "metadata": {},
   "outputs": [],
   "source": []
  }
 ],
 "metadata": {
  "kernelspec": {
   "display_name": "Python 3 (ipykernel)",
   "language": "python",
   "name": "python3"
  },
  "language_info": {
   "codemirror_mode": {
    "name": "ipython",
    "version": 3
   },
   "file_extension": ".py",
   "mimetype": "text/x-python",
   "name": "python",
   "nbconvert_exporter": "python",
   "pygments_lexer": "ipython3",
   "version": "3.9.16"
  }
 },
 "nbformat": 4,
 "nbformat_minor": 5
}
