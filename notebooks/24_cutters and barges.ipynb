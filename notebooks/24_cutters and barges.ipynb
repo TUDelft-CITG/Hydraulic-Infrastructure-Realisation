{
 "cells": [
  {
   "cell_type": "markdown",
   "id": "384a3d39",
   "metadata": {},
   "source": [
    "## feeder concept: cutter + barges\n",
    "\n",
    "This notebook shows how to implement a basic feeder concept for a cutter suction dredge working with multiple barges."
   ]
  },
  {
   "cell_type": "code",
   "execution_count": 1,
   "id": "b6580ad4",
   "metadata": {},
   "outputs": [],
   "source": [
    "import datetime, time\n",
    "import simpy\n",
    "\n",
    "import shapely.geometry\n",
    "import pandas as pd\n",
    "\n",
    "import openclsim.core as core\n",
    "import openclsim.model as model\n",
    "from openclsim.utils import flatten, export_concepts, export_activities\n",
    "from openclsim.plot import get_step_chart, get_gantt_chart, get_log_dataframe, get_ranges_dataframe\n",
    "import numpy as np"
   ]
  },
  {
   "cell_type": "code",
   "execution_count": 2,
   "id": "5d93d662",
   "metadata": {},
   "outputs": [],
   "source": [
    "cutter_name    = 'Cutter T'\n",
    "barge_names    = ['Carrier A','Carrier B','Carrier C',\n",
    "                  'Barge I','Barge II','Barge III',\n",
    "                  'Extra 1', 'Extra 2', 'Extra 3']\n",
    "vessel_cost     = {'Carrier A':6000,'Carrier B':6000,'Carrier C':6000,\n",
    "                  'Barge I':5000,'Barge II':5000,'Barge III':5000,\n",
    "                  'Extra 1':4000, 'Extra 2':4000, 'Extra 3':4000,\n",
    "                  'Cutter T':25000} # EUR/day\n",
    "# vessel_amount and vessel_durations are random within a range,\n",
    "# to mimic respectively material density variations\n",
    "# and metocean workability conditions and traffic density.\n",
    "\n",
    "amount_range = [4,6]\n",
    "duration_range = [2000,3000]\n",
    "\n",
    "from_site_name = 'Trench'\n",
    "to_site_name   = 'Reclamation'"
   ]
  },
  {
   "cell_type": "code",
   "execution_count": 3,
   "id": "102a1c18",
   "metadata": {},
   "outputs": [],
   "source": [
    "Site = type(\n",
    "    \"Site\",\n",
    "    (\n",
    "        core.Identifiable,\n",
    "        core.Log,\n",
    "        core.Locatable,\n",
    "        core.HasContainer,\n",
    "        core.HasResource,\n",
    "    ),\n",
    "    {},\n",
    ")\n",
    "TransportProcessingResource = type(\n",
    "    \"TransportProcessingResource\",\n",
    "    (\n",
    "        core.Identifiable,\n",
    "        core.Log,\n",
    "        core.ContainerDependentMovable,\n",
    "        core.Processor,\n",
    "        core.HasResource,\n",
    "    ),\n",
    "    {},\n",
    ")"
   ]
  },
  {
   "cell_type": "code",
   "execution_count": 4,
   "id": "cef14598",
   "metadata": {},
   "outputs": [],
   "source": [
    "def run(NR_BARGES, total_amount, simulation_start=0):\n",
    "    my_env = simpy.Environment(initial_time=simulation_start)\n",
    "    registry = {}\n",
    "\n",
    "    location_from_site = shapely.geometry.Point(4.18055556, 52.18664444)\n",
    "    location_to_site = shapely.geometry.Point(4.25222222, 52.11428333)\n",
    "    \n",
    "    sites = {}\n",
    "\n",
    "    data_from_site = {\"env\": my_env,\n",
    "                      \"name\": from_site_name,\n",
    "                      \"geometry\": location_from_site,\n",
    "                      \"capacity\": total_amount,\n",
    "                      \"level\": total_amount,\n",
    "                      \"nr_resources\":1\n",
    "                     }\n",
    "    from_site =  Site(**data_from_site)\n",
    "    sites[from_site_name] = from_site\n",
    "\n",
    "\n",
    "    location_to_site = shapely.geometry.Point(4.25222222, 52.11428333)\n",
    "    data_to_site = {\"env\": my_env,\n",
    "                    \"name\": to_site_name,\n",
    "                    \"geometry\": location_to_site,\n",
    "                    \"capacity\": total_amount,\n",
    "                    \"level\": 0,\n",
    "                    \"nr_resources\":4\n",
    "                   }\n",
    "    to_site = Site(**data_to_site)\n",
    "    sites[to_site_name] = to_site\n",
    "\n",
    "    vessels = {}\n",
    "\n",
    "    for i in range(NR_BARGES):\n",
    "        vessel_name = barge_names[i]\n",
    "        vessels[vessel_name] = TransportProcessingResource(\n",
    "            env=my_env,\n",
    "            name=vessel_name,\n",
    "            geometry=location_from_site, \n",
    "            capacity=10,\n",
    "            compute_v=lambda x: 10\n",
    "        )\n",
    "    cutter = TransportProcessingResource(\n",
    "        env=my_env,\n",
    "        name=cutter_name,\n",
    "        geometry=location_from_site, \n",
    "        capacity=10,\n",
    "        compute_v=lambda x: 10\n",
    "    )\n",
    "    vessels[cutter_name] = cutter\n",
    "    \n",
    "\n",
    "    activities = {}\n",
    "    for i in range(NR_BARGES):\n",
    "        vessel_name = barge_names[i]\n",
    "        amount = np.random.randint(amount_range[0], amount_range[1]) # handle loading\n",
    "        duration=np.random.randint(duration_range[0], duration_range[1]) # sailing and unloading\n",
    "\n",
    "        requested_resources={}\n",
    "        activities[f\"activity{i}\"] = model.WhileActivity(\n",
    "            env=my_env,\n",
    "            name=f\"while_sequential_activity_subcycle {vessel_name}\",\n",
    "            registry=registry,\n",
    "            sub_processes=[model.SequentialActivity(\n",
    "                env=my_env,\n",
    "                name=f\"sequential_activity_subcycle {vessel_name}\",\n",
    "                registry=registry,\n",
    "                sub_processes=[\n",
    "# cannot be linked to a vessel as it is neither mover, processor, origin or destination\n",
    "#                     model.BasicActivity(\n",
    "#                         env=my_env,\n",
    "#                         name=f\"basic activity:\"+vessels[vessel_name].name,\n",
    "#                         registry=registry,\n",
    "#                         duration=duration,\n",
    "#                         additional_logs=[vessels[vessel_name]],\n",
    "#                     ),\n",
    "                    model.MoveActivity(\n",
    "                        env=my_env,\n",
    "                        name=f\"sailing empty:\"+vessels[vessel_name].name,\n",
    "                        registry=registry,\n",
    "                        mover=vessels[vessel_name],\n",
    "                        destination=from_site,\n",
    "                        duration=duration,\n",
    "                    ),\n",
    "                    model.ShiftAmountActivity(\n",
    "                        env=my_env,\n",
    "                        name=f\"loading:\"+vessels[vessel_name].name,\n",
    "                        registry=registry,\n",
    "                        processor=cutter,\n",
    "                        origin=from_site,\n",
    "                        destination=vessels[vessel_name],\n",
    "                        amount=amount,\n",
    "                        duration=500*amount,\n",
    "                        requested_resources=requested_resources,\n",
    "                    ),\n",
    "                    model.MoveActivity(\n",
    "                        env=my_env,\n",
    "                        name=f\"sailing full:\"+vessels[vessel_name].name,\n",
    "                        registry=registry,\n",
    "                        mover=vessels[vessel_name],\n",
    "                        destination=to_site,\n",
    "                        duration=duration,\n",
    "                    ),\n",
    "                    model.ShiftAmountActivity(\n",
    "                        env=my_env,\n",
    "                        name=f\"unloading:\"+vessels[vessel_name].name,\n",
    "                        registry=registry,\n",
    "                        processor=vessels[vessel_name],\n",
    "                        origin=vessels[vessel_name],\n",
    "                        destination=to_site,\n",
    "                        amount=amount,\n",
    "                        duration=duration,\n",
    "                        requested_resources=requested_resources,\n",
    "                    ),\n",
    "                ],\n",
    "            )],\n",
    "            condition_event=[\n",
    "                {\n",
    "                    \"type\": \"container\", \n",
    "                    \"concept\": to_site, \n",
    "                    \"state\": \"full\",\n",
    "                    \"id_\":\"default_reservations\"\n",
    "                }\n",
    "            ],\n",
    "        )\n",
    "\n",
    "    model.register_processes(list(activities.values()))\n",
    "    my_env.run()\n",
    "    \n",
    "    return {\n",
    "        \"vessels\": vessels,\n",
    "        \"activities\":activities,\n",
    "        \"sites\":sites\n",
    "    }\n"
   ]
  },
  {
   "cell_type": "markdown",
   "id": "a81e634c",
   "metadata": {},
   "source": [
    "# Example plots with 3 barges"
   ]
  },
  {
   "cell_type": "code",
   "execution_count": 5,
   "id": "9aa8b351",
   "metadata": {},
   "outputs": [
    {
     "name": "stdout",
     "output_type": "stream",
     "text": [
      "CPU times: user 54.5 ms, sys: 4.89 ms, total: 59.4 ms\n",
      "Wall time: 54.7 ms\n"
     ]
    }
   ],
   "source": [
    "%%time\n",
    "nbarges = len(barge_names)\n",
    "assert len(set(barge_names))==len(barge_names), 'barge_names need to be unique'\n",
    "total_amount = 100\n",
    "simulation_start = 0\n",
    "res = run(3,total_amount, simulation_start)\n",
    "\n",
    "vessels = res['vessels']\n",
    "sites = res['sites']\n",
    "activities = res['activities']\n",
    "\n",
    "cutter = vessels[cutter_name]\n",
    "to_site = sites[to_site_name]\n",
    "from_site = sites[from_site_name]"
   ]
  },
  {
   "cell_type": "code",
   "execution_count": 6,
   "id": "8f993fc6",
   "metadata": {},
   "outputs": [
    {
     "data": {
      "text/html": [
       "        <script type=\"text/javascript\">\n",
       "        window.PlotlyConfig = {MathJaxConfig: 'local'};\n",
       "        if (window.MathJax && window.MathJax.Hub && window.MathJax.Hub.Config) {window.MathJax.Hub.Config({SVG: {font: \"STIX-Web\"}});}\n",
       "        if (typeof require !== 'undefined') {\n",
       "        require.undef(\"plotly\");\n",
       "        requirejs.config({\n",
       "            paths: {\n",
       "                'plotly': ['https://cdn.plot.ly/plotly-2.18.2.min']\n",
       "            }\n",
       "        });\n",
       "        require(['plotly'], function(Plotly) {\n",
       "            window._Plotly = Plotly;\n",
       "        });\n",
       "        }\n",
       "        </script>\n",
       "        "
      ]
     },
     "metadata": {},
     "output_type": "display_data"
    },
    {
     "data": {
      "application/vnd.plotly.v1+json": {
       "config": {
        "linkText": "Export to plot.ly",
        "plotlyServerURL": "https://plot.ly",
        "showLink": false
       },
       "data": [
        {
         "connectgaps": false,
         "hoverinfo": "y+name",
         "line": {
          "color": "rgb(122,23,181)",
          "width": 10
         },
         "mode": "lines",
         "name": "sailing empty:Carrier A",
         "type": "scatter",
         "x": [
          "1970-01-01T00:00:00",
          "1970-01-01T00:00:00",
          "1970-01-01T00:48:37",
          "1970-01-01T00:48:37",
          "1970-01-01T00:48:37",
          "1970-01-01T03:52:23",
          "1970-01-01T03:52:23",
          "1970-01-01T04:41:00",
          "1970-01-01T04:41:00",
          "1970-01-01T04:41:00",
          "1970-01-01T06:51:34",
          "1970-01-01T06:51:34",
          "1970-01-01T07:40:11",
          "1970-01-01T07:40:11",
          "1970-01-01T07:40:11",
          "1970-01-01T10:17:01",
          "1970-01-01T10:17:01",
          "1970-01-01T11:05:38",
          "1970-01-01T11:05:38",
          "1970-01-01T11:05:38",
          "1970-01-01T13:16:12",
          "1970-01-01T13:16:12",
          "1970-01-01T14:04:49",
          "1970-01-01T14:04:49",
          "1970-01-01T14:04:49",
          "1970-01-01T16:15:23",
          "1970-01-01T16:15:23",
          "1970-01-01T17:04:00",
          "1970-01-01T17:04:00",
          "1970-01-01T17:04:00",
          "1970-01-01T19:14:34",
          "1970-01-01T19:14:34",
          "1970-01-01T20:03:11",
          "1970-01-01T20:03:11",
          "1970-01-01T20:03:11",
          "1970-01-01T22:13:45",
          "1970-01-01T22:13:45",
          "1970-01-01T23:02:22",
          "1970-01-01T23:02:22",
          "1970-01-01T23:02:22"
         ],
         "y": [
          "Carrier A",
          "Carrier A",
          "Carrier A",
          "Carrier A",
          null,
          "Carrier A",
          "Carrier A",
          "Carrier A",
          "Carrier A",
          null,
          "Carrier A",
          "Carrier A",
          "Carrier A",
          "Carrier A",
          null,
          "Carrier A",
          "Carrier A",
          "Carrier A",
          "Carrier A",
          null,
          "Carrier A",
          "Carrier A",
          "Carrier A",
          "Carrier A",
          null,
          "Carrier A",
          "Carrier A",
          "Carrier A",
          "Carrier A",
          null,
          "Carrier A",
          "Carrier A",
          "Carrier A",
          "Carrier A",
          null,
          "Carrier A",
          "Carrier A",
          "Carrier A",
          "Carrier A",
          null
         ]
        },
        {
         "connectgaps": false,
         "hoverinfo": "y+name",
         "line": {
          "color": "rgb(139,40,198)",
          "width": 10
         },
         "mode": "lines",
         "name": "unloading:Carrier A",
         "type": "scatter",
         "x": [
          "1970-01-01T03:03:46",
          "1970-01-01T03:03:46",
          "1970-01-01T03:52:23",
          "1970-01-01T03:52:23",
          "1970-01-01T03:52:23",
          "1970-01-01T06:02:57",
          "1970-01-01T06:02:57",
          "1970-01-01T06:51:34",
          "1970-01-01T06:51:34",
          "1970-01-01T06:51:34",
          "1970-01-01T09:28:24",
          "1970-01-01T09:28:24",
          "1970-01-01T10:17:01",
          "1970-01-01T10:17:01",
          "1970-01-01T10:17:01",
          "1970-01-01T12:27:35",
          "1970-01-01T12:27:35",
          "1970-01-01T13:16:12",
          "1970-01-01T13:16:12",
          "1970-01-01T13:16:12",
          "1970-01-01T15:26:46",
          "1970-01-01T15:26:46",
          "1970-01-01T16:15:23",
          "1970-01-01T16:15:23",
          "1970-01-01T16:15:23",
          "1970-01-01T18:25:57",
          "1970-01-01T18:25:57",
          "1970-01-01T19:14:34",
          "1970-01-01T19:14:34",
          "1970-01-01T19:14:34",
          "1970-01-01T21:25:08",
          "1970-01-01T21:25:08",
          "1970-01-01T22:13:45",
          "1970-01-01T22:13:45",
          "1970-01-01T22:13:45",
          "1970-01-02T00:24:19",
          "1970-01-02T00:24:19",
          "1970-01-02T01:12:56",
          "1970-01-02T01:12:56",
          "1970-01-02T01:12:56"
         ],
         "y": [
          "Carrier A",
          "Carrier A",
          "Carrier A",
          "Carrier A",
          null,
          "Carrier A",
          "Carrier A",
          "Carrier A",
          "Carrier A",
          null,
          "Carrier A",
          "Carrier A",
          "Carrier A",
          "Carrier A",
          null,
          "Carrier A",
          "Carrier A",
          "Carrier A",
          "Carrier A",
          null,
          "Carrier A",
          "Carrier A",
          "Carrier A",
          "Carrier A",
          null,
          "Carrier A",
          "Carrier A",
          "Carrier A",
          "Carrier A",
          null,
          "Carrier A",
          "Carrier A",
          "Carrier A",
          "Carrier A",
          null,
          "Carrier A",
          "Carrier A",
          "Carrier A",
          "Carrier A",
          null
         ]
        },
        {
         "connectgaps": false,
         "hoverinfo": "y+name",
         "line": {
          "color": "rgb(156,57,215)",
          "width": 10
         },
         "mode": "lines",
         "name": "loading:Carrier A",
         "type": "scatter",
         "x": [
          "1970-01-01T01:41:49",
          "1970-01-01T01:41:49",
          "1970-01-01T02:15:09",
          "1970-01-01T02:15:09",
          "1970-01-01T02:15:09",
          "1970-01-01T04:41:00",
          "1970-01-01T04:41:00",
          "1970-01-01T05:14:20",
          "1970-01-01T05:14:20",
          "1970-01-01T05:14:20",
          "1970-01-01T08:06:27",
          "1970-01-01T08:06:27",
          "1970-01-01T08:39:47",
          "1970-01-01T08:39:47",
          "1970-01-01T08:39:47",
          "1970-01-01T11:05:38",
          "1970-01-01T11:05:38",
          "1970-01-01T11:38:58",
          "1970-01-01T11:38:58",
          "1970-01-01T11:38:58",
          "1970-01-01T14:04:49",
          "1970-01-01T14:04:49",
          "1970-01-01T14:38:09",
          "1970-01-01T14:38:09",
          "1970-01-01T14:38:09",
          "1970-01-01T17:04:00",
          "1970-01-01T17:04:00",
          "1970-01-01T17:37:20",
          "1970-01-01T17:37:20",
          "1970-01-01T17:37:20",
          "1970-01-01T20:03:11",
          "1970-01-01T20:03:11",
          "1970-01-01T20:36:31",
          "1970-01-01T20:36:31",
          "1970-01-01T20:36:31",
          "1970-01-01T23:02:22",
          "1970-01-01T23:02:22",
          "1970-01-01T23:35:42",
          "1970-01-01T23:35:42",
          "1970-01-01T23:35:42",
          "1970-01-01T01:41:49",
          "1970-01-01T01:41:49",
          "1970-01-01T02:15:09",
          "1970-01-01T02:15:09",
          "1970-01-01T02:15:09",
          "1970-01-01T04:41:00",
          "1970-01-01T04:41:00",
          "1970-01-01T05:14:20",
          "1970-01-01T05:14:20",
          "1970-01-01T05:14:20",
          "1970-01-01T08:06:27",
          "1970-01-01T08:06:27",
          "1970-01-01T08:39:47",
          "1970-01-01T08:39:47",
          "1970-01-01T08:39:47",
          "1970-01-01T11:05:38",
          "1970-01-01T11:05:38",
          "1970-01-01T11:38:58",
          "1970-01-01T11:38:58",
          "1970-01-01T11:38:58",
          "1970-01-01T14:04:49",
          "1970-01-01T14:04:49",
          "1970-01-01T14:38:09",
          "1970-01-01T14:38:09",
          "1970-01-01T14:38:09",
          "1970-01-01T17:04:00",
          "1970-01-01T17:04:00",
          "1970-01-01T17:37:20",
          "1970-01-01T17:37:20",
          "1970-01-01T17:37:20",
          "1970-01-01T20:03:11",
          "1970-01-01T20:03:11",
          "1970-01-01T20:36:31",
          "1970-01-01T20:36:31",
          "1970-01-01T20:36:31",
          "1970-01-01T23:02:22",
          "1970-01-01T23:02:22",
          "1970-01-01T23:35:42",
          "1970-01-01T23:35:42",
          "1970-01-01T23:35:42"
         ],
         "y": [
          "Carrier A",
          "Carrier A",
          "Carrier A",
          "Carrier A",
          null,
          "Carrier A",
          "Carrier A",
          "Carrier A",
          "Carrier A",
          null,
          "Carrier A",
          "Carrier A",
          "Carrier A",
          "Carrier A",
          null,
          "Carrier A",
          "Carrier A",
          "Carrier A",
          "Carrier A",
          null,
          "Carrier A",
          "Carrier A",
          "Carrier A",
          "Carrier A",
          null,
          "Carrier A",
          "Carrier A",
          "Carrier A",
          "Carrier A",
          null,
          "Carrier A",
          "Carrier A",
          "Carrier A",
          "Carrier A",
          null,
          "Carrier A",
          "Carrier A",
          "Carrier A",
          "Carrier A",
          null,
          "Cutter T",
          "Cutter T",
          "Cutter T",
          "Cutter T",
          null,
          "Cutter T",
          "Cutter T",
          "Cutter T",
          "Cutter T",
          null,
          "Cutter T",
          "Cutter T",
          "Cutter T",
          "Cutter T",
          null,
          "Cutter T",
          "Cutter T",
          "Cutter T",
          "Cutter T",
          null,
          "Cutter T",
          "Cutter T",
          "Cutter T",
          "Cutter T",
          null,
          "Cutter T",
          "Cutter T",
          "Cutter T",
          "Cutter T",
          null,
          "Cutter T",
          "Cutter T",
          "Cutter T",
          "Cutter T",
          null,
          "Cutter T",
          "Cutter T",
          "Cutter T",
          "Cutter T",
          null
         ]
        },
        {
         "connectgaps": false,
         "hoverinfo": "y+name",
         "line": {
          "color": "rgb(173,74,232)",
          "width": 10
         },
         "mode": "lines",
         "name": "sailing full:Carrier A",
         "type": "scatter",
         "x": [
          "1970-01-01T02:15:09",
          "1970-01-01T02:15:09",
          "1970-01-01T03:03:46",
          "1970-01-01T03:03:46",
          "1970-01-01T03:03:46",
          "1970-01-01T05:14:20",
          "1970-01-01T05:14:20",
          "1970-01-01T06:02:57",
          "1970-01-01T06:02:57",
          "1970-01-01T06:02:57",
          "1970-01-01T08:39:47",
          "1970-01-01T08:39:47",
          "1970-01-01T09:28:24",
          "1970-01-01T09:28:24",
          "1970-01-01T09:28:24",
          "1970-01-01T11:38:58",
          "1970-01-01T11:38:58",
          "1970-01-01T12:27:35",
          "1970-01-01T12:27:35",
          "1970-01-01T12:27:35",
          "1970-01-01T14:38:09",
          "1970-01-01T14:38:09",
          "1970-01-01T15:26:46",
          "1970-01-01T15:26:46",
          "1970-01-01T15:26:46",
          "1970-01-01T17:37:20",
          "1970-01-01T17:37:20",
          "1970-01-01T18:25:57",
          "1970-01-01T18:25:57",
          "1970-01-01T18:25:57",
          "1970-01-01T20:36:31",
          "1970-01-01T20:36:31",
          "1970-01-01T21:25:08",
          "1970-01-01T21:25:08",
          "1970-01-01T21:25:08",
          "1970-01-01T23:35:42",
          "1970-01-01T23:35:42",
          "1970-01-02T00:24:19",
          "1970-01-02T00:24:19",
          "1970-01-02T00:24:19"
         ],
         "y": [
          "Carrier A",
          "Carrier A",
          "Carrier A",
          "Carrier A",
          null,
          "Carrier A",
          "Carrier A",
          "Carrier A",
          "Carrier A",
          null,
          "Carrier A",
          "Carrier A",
          "Carrier A",
          "Carrier A",
          null,
          "Carrier A",
          "Carrier A",
          "Carrier A",
          "Carrier A",
          null,
          "Carrier A",
          "Carrier A",
          "Carrier A",
          "Carrier A",
          null,
          "Carrier A",
          "Carrier A",
          "Carrier A",
          "Carrier A",
          null,
          "Carrier A",
          "Carrier A",
          "Carrier A",
          "Carrier A",
          null,
          "Carrier A",
          "Carrier A",
          "Carrier A",
          "Carrier A",
          null
         ]
        },
        {
         "connectgaps": false,
         "hoverinfo": "y+name",
         "line": {
          "color": "rgb(190,91,249)",
          "width": 10
         },
         "mode": "lines",
         "name": "unloading:Carrier B",
         "type": "scatter",
         "x": [
          "1970-01-01T01:43:38",
          "1970-01-01T01:43:38",
          "1970-01-01T02:18:47",
          "1970-01-01T02:18:47",
          "1970-01-01T02:18:47",
          "1970-01-01T04:02:25",
          "1970-01-01T04:02:25",
          "1970-01-01T04:37:34",
          "1970-01-01T04:37:34",
          "1970-01-01T04:37:34",
          "1970-01-01T06:22:49",
          "1970-01-01T06:22:49",
          "1970-01-01T06:57:58",
          "1970-01-01T06:57:58",
          "1970-01-01T06:57:58",
          "1970-01-01T08:41:36",
          "1970-01-01T08:41:36",
          "1970-01-01T09:16:45",
          "1970-01-01T09:16:45",
          "1970-01-01T09:16:45",
          "1970-01-01T11:07:30",
          "1970-01-01T11:07:30",
          "1970-01-01T11:42:39",
          "1970-01-01T11:42:39",
          "1970-01-01T11:42:39",
          "1970-01-01T13:53:14",
          "1970-01-01T13:53:14",
          "1970-01-01T14:28:23",
          "1970-01-01T14:28:23",
          "1970-01-01T14:28:23",
          "1970-01-01T16:38:58",
          "1970-01-01T16:38:58",
          "1970-01-01T17:14:07",
          "1970-01-01T17:14:07",
          "1970-01-01T17:14:07",
          "1970-01-01T19:24:42",
          "1970-01-01T19:24:42",
          "1970-01-01T19:59:51",
          "1970-01-01T19:59:51",
          "1970-01-01T19:59:51",
          "1970-01-01T22:18:20",
          "1970-01-01T22:18:20",
          "1970-01-01T22:53:29",
          "1970-01-01T22:53:29",
          "1970-01-01T22:53:29"
         ],
         "y": [
          "Carrier B",
          "Carrier B",
          "Carrier B",
          "Carrier B",
          null,
          "Carrier B",
          "Carrier B",
          "Carrier B",
          "Carrier B",
          null,
          "Carrier B",
          "Carrier B",
          "Carrier B",
          "Carrier B",
          null,
          "Carrier B",
          "Carrier B",
          "Carrier B",
          "Carrier B",
          null,
          "Carrier B",
          "Carrier B",
          "Carrier B",
          "Carrier B",
          null,
          "Carrier B",
          "Carrier B",
          "Carrier B",
          "Carrier B",
          null,
          "Carrier B",
          "Carrier B",
          "Carrier B",
          "Carrier B",
          null,
          "Carrier B",
          "Carrier B",
          "Carrier B",
          "Carrier B",
          null,
          "Carrier B",
          "Carrier B",
          "Carrier B",
          "Carrier B",
          null
         ]
        },
        {
         "connectgaps": false,
         "hoverinfo": "y+name",
         "line": {
          "color": "rgb(207,108,10)",
          "width": 10
         },
         "mode": "lines",
         "name": "sailing empty:Carrier B",
         "type": "scatter",
         "x": [
          "1970-01-01T00:00:00",
          "1970-01-01T00:00:00",
          "1970-01-01T00:35:09",
          "1970-01-01T00:35:09",
          "1970-01-01T00:35:09",
          "1970-01-01T02:18:47",
          "1970-01-01T02:18:47",
          "1970-01-01T02:53:56",
          "1970-01-01T02:53:56",
          "1970-01-01T02:53:56",
          "1970-01-01T04:37:34",
          "1970-01-01T04:37:34",
          "1970-01-01T05:12:43",
          "1970-01-01T05:12:43",
          "1970-01-01T05:12:43",
          "1970-01-01T06:57:58",
          "1970-01-01T06:57:58",
          "1970-01-01T07:33:07",
          "1970-01-01T07:33:07",
          "1970-01-01T07:33:07",
          "1970-01-01T09:16:45",
          "1970-01-01T09:16:45",
          "1970-01-01T09:51:54",
          "1970-01-01T09:51:54",
          "1970-01-01T09:51:54",
          "1970-01-01T11:42:39",
          "1970-01-01T11:42:39",
          "1970-01-01T12:17:48",
          "1970-01-01T12:17:48",
          "1970-01-01T12:17:48",
          "1970-01-01T14:28:23",
          "1970-01-01T14:28:23",
          "1970-01-01T15:03:32",
          "1970-01-01T15:03:32",
          "1970-01-01T15:03:32",
          "1970-01-01T17:14:07",
          "1970-01-01T17:14:07",
          "1970-01-01T17:49:16",
          "1970-01-01T17:49:16",
          "1970-01-01T17:49:16",
          "1970-01-01T19:59:51",
          "1970-01-01T19:59:51",
          "1970-01-01T20:35:00",
          "1970-01-01T20:35:00",
          "1970-01-01T20:35:00"
         ],
         "y": [
          "Carrier B",
          "Carrier B",
          "Carrier B",
          "Carrier B",
          null,
          "Carrier B",
          "Carrier B",
          "Carrier B",
          "Carrier B",
          null,
          "Carrier B",
          "Carrier B",
          "Carrier B",
          "Carrier B",
          null,
          "Carrier B",
          "Carrier B",
          "Carrier B",
          "Carrier B",
          null,
          "Carrier B",
          "Carrier B",
          "Carrier B",
          "Carrier B",
          null,
          "Carrier B",
          "Carrier B",
          "Carrier B",
          "Carrier B",
          null,
          "Carrier B",
          "Carrier B",
          "Carrier B",
          "Carrier B",
          null,
          "Carrier B",
          "Carrier B",
          "Carrier B",
          "Carrier B",
          null,
          "Carrier B",
          "Carrier B",
          "Carrier B",
          "Carrier B",
          null
         ]
        },
        {
         "connectgaps": false,
         "hoverinfo": "y+name",
         "line": {
          "color": "rgb(224,125,27)",
          "width": 10
         },
         "mode": "lines",
         "name": "loading:Carrier B",
         "type": "scatter",
         "x": [
          "1970-01-01T00:35:09",
          "1970-01-01T00:35:09",
          "1970-01-01T01:08:29",
          "1970-01-01T01:08:29",
          "1970-01-01T01:08:29",
          "1970-01-01T02:53:56",
          "1970-01-01T02:53:56",
          "1970-01-01T03:27:16",
          "1970-01-01T03:27:16",
          "1970-01-01T03:27:16",
          "1970-01-01T05:14:20",
          "1970-01-01T05:14:20",
          "1970-01-01T05:47:40",
          "1970-01-01T05:47:40",
          "1970-01-01T05:47:40",
          "1970-01-01T07:33:07",
          "1970-01-01T07:33:07",
          "1970-01-01T08:06:27",
          "1970-01-01T08:06:27",
          "1970-01-01T08:06:27",
          "1970-01-01T09:59:01",
          "1970-01-01T09:59:01",
          "1970-01-01T10:32:21",
          "1970-01-01T10:32:21",
          "1970-01-01T10:32:21",
          "1970-01-01T12:44:45",
          "1970-01-01T12:44:45",
          "1970-01-01T13:18:05",
          "1970-01-01T13:18:05",
          "1970-01-01T13:18:05",
          "1970-01-01T15:30:29",
          "1970-01-01T15:30:29",
          "1970-01-01T16:03:49",
          "1970-01-01T16:03:49",
          "1970-01-01T16:03:49",
          "1970-01-01T18:16:13",
          "1970-01-01T18:16:13",
          "1970-01-01T18:49:33",
          "1970-01-01T18:49:33",
          "1970-01-01T18:49:33",
          "1970-01-01T21:09:51",
          "1970-01-01T21:09:51",
          "1970-01-01T21:43:11",
          "1970-01-01T21:43:11",
          "1970-01-01T21:43:11",
          "1970-01-01T00:35:09",
          "1970-01-01T00:35:09",
          "1970-01-01T01:08:29",
          "1970-01-01T01:08:29",
          "1970-01-01T01:08:29",
          "1970-01-01T02:53:56",
          "1970-01-01T02:53:56",
          "1970-01-01T03:27:16",
          "1970-01-01T03:27:16",
          "1970-01-01T03:27:16",
          "1970-01-01T05:14:20",
          "1970-01-01T05:14:20",
          "1970-01-01T05:47:40",
          "1970-01-01T05:47:40",
          "1970-01-01T05:47:40",
          "1970-01-01T07:33:07",
          "1970-01-01T07:33:07",
          "1970-01-01T08:06:27",
          "1970-01-01T08:06:27",
          "1970-01-01T08:06:27",
          "1970-01-01T09:59:01",
          "1970-01-01T09:59:01",
          "1970-01-01T10:32:21",
          "1970-01-01T10:32:21",
          "1970-01-01T10:32:21",
          "1970-01-01T12:44:45",
          "1970-01-01T12:44:45",
          "1970-01-01T13:18:05",
          "1970-01-01T13:18:05",
          "1970-01-01T13:18:05",
          "1970-01-01T15:30:29",
          "1970-01-01T15:30:29",
          "1970-01-01T16:03:49",
          "1970-01-01T16:03:49",
          "1970-01-01T16:03:49",
          "1970-01-01T18:16:13",
          "1970-01-01T18:16:13",
          "1970-01-01T18:49:33",
          "1970-01-01T18:49:33",
          "1970-01-01T18:49:33",
          "1970-01-01T21:09:51",
          "1970-01-01T21:09:51",
          "1970-01-01T21:43:11",
          "1970-01-01T21:43:11",
          "1970-01-01T21:43:11"
         ],
         "y": [
          "Carrier B",
          "Carrier B",
          "Carrier B",
          "Carrier B",
          null,
          "Carrier B",
          "Carrier B",
          "Carrier B",
          "Carrier B",
          null,
          "Carrier B",
          "Carrier B",
          "Carrier B",
          "Carrier B",
          null,
          "Carrier B",
          "Carrier B",
          "Carrier B",
          "Carrier B",
          null,
          "Carrier B",
          "Carrier B",
          "Carrier B",
          "Carrier B",
          null,
          "Carrier B",
          "Carrier B",
          "Carrier B",
          "Carrier B",
          null,
          "Carrier B",
          "Carrier B",
          "Carrier B",
          "Carrier B",
          null,
          "Carrier B",
          "Carrier B",
          "Carrier B",
          "Carrier B",
          null,
          "Carrier B",
          "Carrier B",
          "Carrier B",
          "Carrier B",
          null,
          "Cutter T",
          "Cutter T",
          "Cutter T",
          "Cutter T",
          null,
          "Cutter T",
          "Cutter T",
          "Cutter T",
          "Cutter T",
          null,
          "Cutter T",
          "Cutter T",
          "Cutter T",
          "Cutter T",
          null,
          "Cutter T",
          "Cutter T",
          "Cutter T",
          "Cutter T",
          null,
          "Cutter T",
          "Cutter T",
          "Cutter T",
          "Cutter T",
          null,
          "Cutter T",
          "Cutter T",
          "Cutter T",
          "Cutter T",
          null,
          "Cutter T",
          "Cutter T",
          "Cutter T",
          "Cutter T",
          null,
          "Cutter T",
          "Cutter T",
          "Cutter T",
          "Cutter T",
          null,
          "Cutter T",
          "Cutter T",
          "Cutter T",
          "Cutter T",
          null
         ]
        },
        {
         "connectgaps": false,
         "hoverinfo": "y+name",
         "line": {
          "color": "rgb(241,142,44)",
          "width": 10
         },
         "mode": "lines",
         "name": "sailing full:Carrier B",
         "type": "scatter",
         "x": [
          "1970-01-01T01:08:29",
          "1970-01-01T01:08:29",
          "1970-01-01T01:43:38",
          "1970-01-01T01:43:38",
          "1970-01-01T01:43:38",
          "1970-01-01T03:27:16",
          "1970-01-01T03:27:16",
          "1970-01-01T04:02:25",
          "1970-01-01T04:02:25",
          "1970-01-01T04:02:25",
          "1970-01-01T05:47:40",
          "1970-01-01T05:47:40",
          "1970-01-01T06:22:49",
          "1970-01-01T06:22:49",
          "1970-01-01T06:22:49",
          "1970-01-01T08:06:27",
          "1970-01-01T08:06:27",
          "1970-01-01T08:41:36",
          "1970-01-01T08:41:36",
          "1970-01-01T08:41:36",
          "1970-01-01T10:32:21",
          "1970-01-01T10:32:21",
          "1970-01-01T11:07:30",
          "1970-01-01T11:07:30",
          "1970-01-01T11:07:30",
          "1970-01-01T13:18:05",
          "1970-01-01T13:18:05",
          "1970-01-01T13:53:14",
          "1970-01-01T13:53:14",
          "1970-01-01T13:53:14",
          "1970-01-01T16:03:49",
          "1970-01-01T16:03:49",
          "1970-01-01T16:38:58",
          "1970-01-01T16:38:58",
          "1970-01-01T16:38:58",
          "1970-01-01T18:49:33",
          "1970-01-01T18:49:33",
          "1970-01-01T19:24:42",
          "1970-01-01T19:24:42",
          "1970-01-01T19:24:42",
          "1970-01-01T21:43:11",
          "1970-01-01T21:43:11",
          "1970-01-01T22:18:20",
          "1970-01-01T22:18:20",
          "1970-01-01T22:18:20"
         ],
         "y": [
          "Carrier B",
          "Carrier B",
          "Carrier B",
          "Carrier B",
          null,
          "Carrier B",
          "Carrier B",
          "Carrier B",
          "Carrier B",
          null,
          "Carrier B",
          "Carrier B",
          "Carrier B",
          "Carrier B",
          null,
          "Carrier B",
          "Carrier B",
          "Carrier B",
          "Carrier B",
          null,
          "Carrier B",
          "Carrier B",
          "Carrier B",
          "Carrier B",
          null,
          "Carrier B",
          "Carrier B",
          "Carrier B",
          "Carrier B",
          null,
          "Carrier B",
          "Carrier B",
          "Carrier B",
          "Carrier B",
          null,
          "Carrier B",
          "Carrier B",
          "Carrier B",
          "Carrier B",
          null,
          "Carrier B",
          "Carrier B",
          "Carrier B",
          "Carrier B",
          null
         ]
        },
        {
         "connectgaps": false,
         "hoverinfo": "y+name",
         "line": {
          "color": "rgb(2,159,61)",
          "width": 10
         },
         "mode": "lines",
         "name": "sailing full:Carrier C",
         "type": "scatter",
         "x": [
          "1970-01-01T01:41:49",
          "1970-01-01T01:41:49",
          "1970-01-01T02:25:57",
          "1970-01-01T02:25:57",
          "1970-01-01T02:25:57",
          "1970-01-01T04:27:33",
          "1970-01-01T04:27:33",
          "1970-01-01T05:11:41",
          "1970-01-01T05:11:41",
          "1970-01-01T05:11:41",
          "1970-01-01T07:13:17",
          "1970-01-01T07:13:17",
          "1970-01-01T07:57:25",
          "1970-01-01T07:57:25",
          "1970-01-01T07:57:25",
          "1970-01-01T09:59:01",
          "1970-01-01T09:59:01",
          "1970-01-01T10:43:09",
          "1970-01-01T10:43:09",
          "1970-01-01T10:43:09",
          "1970-01-01T12:44:45",
          "1970-01-01T12:44:45",
          "1970-01-01T13:28:53",
          "1970-01-01T13:28:53",
          "1970-01-01T13:28:53",
          "1970-01-01T15:30:29",
          "1970-01-01T15:30:29",
          "1970-01-01T16:14:37",
          "1970-01-01T16:14:37",
          "1970-01-01T16:14:37",
          "1970-01-01T18:16:13",
          "1970-01-01T18:16:13",
          "1970-01-01T19:00:21",
          "1970-01-01T19:00:21",
          "1970-01-01T19:00:21",
          "1970-01-01T21:09:51",
          "1970-01-01T21:09:51",
          "1970-01-01T21:53:59",
          "1970-01-01T21:53:59",
          "1970-01-01T21:53:59"
         ],
         "y": [
          "Carrier C",
          "Carrier C",
          "Carrier C",
          "Carrier C",
          null,
          "Carrier C",
          "Carrier C",
          "Carrier C",
          "Carrier C",
          null,
          "Carrier C",
          "Carrier C",
          "Carrier C",
          "Carrier C",
          null,
          "Carrier C",
          "Carrier C",
          "Carrier C",
          "Carrier C",
          null,
          "Carrier C",
          "Carrier C",
          "Carrier C",
          "Carrier C",
          null,
          "Carrier C",
          "Carrier C",
          "Carrier C",
          "Carrier C",
          null,
          "Carrier C",
          "Carrier C",
          "Carrier C",
          "Carrier C",
          null,
          "Carrier C",
          "Carrier C",
          "Carrier C",
          "Carrier C",
          null
         ]
        },
        {
         "connectgaps": false,
         "hoverinfo": "y+name",
         "line": {
          "color": "rgb(19,176,78)",
          "width": 10
         },
         "mode": "lines",
         "name": "loading:Carrier C",
         "type": "scatter",
         "x": [
          "1970-01-01T01:08:29",
          "1970-01-01T01:08:29",
          "1970-01-01T01:41:49",
          "1970-01-01T01:41:49",
          "1970-01-01T01:41:49",
          "1970-01-01T03:54:13",
          "1970-01-01T03:54:13",
          "1970-01-01T04:27:33",
          "1970-01-01T04:27:33",
          "1970-01-01T04:27:33",
          "1970-01-01T06:39:57",
          "1970-01-01T06:39:57",
          "1970-01-01T07:13:17",
          "1970-01-01T07:13:17",
          "1970-01-01T07:13:17",
          "1970-01-01T09:25:41",
          "1970-01-01T09:25:41",
          "1970-01-01T09:59:01",
          "1970-01-01T09:59:01",
          "1970-01-01T09:59:01",
          "1970-01-01T12:11:25",
          "1970-01-01T12:11:25",
          "1970-01-01T12:44:45",
          "1970-01-01T12:44:45",
          "1970-01-01T12:44:45",
          "1970-01-01T14:57:09",
          "1970-01-01T14:57:09",
          "1970-01-01T15:30:29",
          "1970-01-01T15:30:29",
          "1970-01-01T15:30:29",
          "1970-01-01T17:42:53",
          "1970-01-01T17:42:53",
          "1970-01-01T18:16:13",
          "1970-01-01T18:16:13",
          "1970-01-01T18:16:13",
          "1970-01-01T20:36:31",
          "1970-01-01T20:36:31",
          "1970-01-01T21:09:51",
          "1970-01-01T21:09:51",
          "1970-01-01T21:09:51",
          "1970-01-01T01:08:29",
          "1970-01-01T01:08:29",
          "1970-01-01T01:41:49",
          "1970-01-01T01:41:49",
          "1970-01-01T01:41:49",
          "1970-01-01T03:54:13",
          "1970-01-01T03:54:13",
          "1970-01-01T04:27:33",
          "1970-01-01T04:27:33",
          "1970-01-01T04:27:33",
          "1970-01-01T06:39:57",
          "1970-01-01T06:39:57",
          "1970-01-01T07:13:17",
          "1970-01-01T07:13:17",
          "1970-01-01T07:13:17",
          "1970-01-01T09:25:41",
          "1970-01-01T09:25:41",
          "1970-01-01T09:59:01",
          "1970-01-01T09:59:01",
          "1970-01-01T09:59:01",
          "1970-01-01T12:11:25",
          "1970-01-01T12:11:25",
          "1970-01-01T12:44:45",
          "1970-01-01T12:44:45",
          "1970-01-01T12:44:45",
          "1970-01-01T14:57:09",
          "1970-01-01T14:57:09",
          "1970-01-01T15:30:29",
          "1970-01-01T15:30:29",
          "1970-01-01T15:30:29",
          "1970-01-01T17:42:53",
          "1970-01-01T17:42:53",
          "1970-01-01T18:16:13",
          "1970-01-01T18:16:13",
          "1970-01-01T18:16:13",
          "1970-01-01T20:36:31",
          "1970-01-01T20:36:31",
          "1970-01-01T21:09:51",
          "1970-01-01T21:09:51",
          "1970-01-01T21:09:51"
         ],
         "y": [
          "Carrier C",
          "Carrier C",
          "Carrier C",
          "Carrier C",
          null,
          "Carrier C",
          "Carrier C",
          "Carrier C",
          "Carrier C",
          null,
          "Carrier C",
          "Carrier C",
          "Carrier C",
          "Carrier C",
          null,
          "Carrier C",
          "Carrier C",
          "Carrier C",
          "Carrier C",
          null,
          "Carrier C",
          "Carrier C",
          "Carrier C",
          "Carrier C",
          null,
          "Carrier C",
          "Carrier C",
          "Carrier C",
          "Carrier C",
          null,
          "Carrier C",
          "Carrier C",
          "Carrier C",
          "Carrier C",
          null,
          "Carrier C",
          "Carrier C",
          "Carrier C",
          "Carrier C",
          null,
          "Cutter T",
          "Cutter T",
          "Cutter T",
          "Cutter T",
          null,
          "Cutter T",
          "Cutter T",
          "Cutter T",
          "Cutter T",
          null,
          "Cutter T",
          "Cutter T",
          "Cutter T",
          "Cutter T",
          null,
          "Cutter T",
          "Cutter T",
          "Cutter T",
          "Cutter T",
          null,
          "Cutter T",
          "Cutter T",
          "Cutter T",
          "Cutter T",
          null,
          "Cutter T",
          "Cutter T",
          "Cutter T",
          "Cutter T",
          null,
          "Cutter T",
          "Cutter T",
          "Cutter T",
          "Cutter T",
          null,
          "Cutter T",
          "Cutter T",
          "Cutter T",
          "Cutter T",
          null
         ]
        },
        {
         "connectgaps": false,
         "hoverinfo": "y+name",
         "line": {
          "color": "rgb(36,193,95)",
          "width": 10
         },
         "mode": "lines",
         "name": "unloading:Carrier C",
         "type": "scatter",
         "x": [
          "1970-01-01T02:25:57",
          "1970-01-01T02:25:57",
          "1970-01-01T03:10:05",
          "1970-01-01T03:10:05",
          "1970-01-01T03:10:05",
          "1970-01-01T05:11:41",
          "1970-01-01T05:11:41",
          "1970-01-01T05:55:49",
          "1970-01-01T05:55:49",
          "1970-01-01T05:55:49",
          "1970-01-01T07:57:25",
          "1970-01-01T07:57:25",
          "1970-01-01T08:41:33",
          "1970-01-01T08:41:33",
          "1970-01-01T08:41:33",
          "1970-01-01T10:43:09",
          "1970-01-01T10:43:09",
          "1970-01-01T11:27:17",
          "1970-01-01T11:27:17",
          "1970-01-01T11:27:17",
          "1970-01-01T13:28:53",
          "1970-01-01T13:28:53",
          "1970-01-01T14:13:01",
          "1970-01-01T14:13:01",
          "1970-01-01T14:13:01",
          "1970-01-01T16:14:37",
          "1970-01-01T16:14:37",
          "1970-01-01T16:58:45",
          "1970-01-01T16:58:45",
          "1970-01-01T16:58:45",
          "1970-01-01T19:00:21",
          "1970-01-01T19:00:21",
          "1970-01-01T19:44:29",
          "1970-01-01T19:44:29",
          "1970-01-01T19:44:29",
          "1970-01-01T21:53:59",
          "1970-01-01T21:53:59",
          "1970-01-01T22:38:07",
          "1970-01-01T22:38:07",
          "1970-01-01T22:38:07"
         ],
         "y": [
          "Carrier C",
          "Carrier C",
          "Carrier C",
          "Carrier C",
          null,
          "Carrier C",
          "Carrier C",
          "Carrier C",
          "Carrier C",
          null,
          "Carrier C",
          "Carrier C",
          "Carrier C",
          "Carrier C",
          null,
          "Carrier C",
          "Carrier C",
          "Carrier C",
          "Carrier C",
          null,
          "Carrier C",
          "Carrier C",
          "Carrier C",
          "Carrier C",
          null,
          "Carrier C",
          "Carrier C",
          "Carrier C",
          "Carrier C",
          null,
          "Carrier C",
          "Carrier C",
          "Carrier C",
          "Carrier C",
          null,
          "Carrier C",
          "Carrier C",
          "Carrier C",
          "Carrier C",
          null
         ]
        },
        {
         "connectgaps": false,
         "hoverinfo": "y+name",
         "line": {
          "color": "rgb(53,210,112)",
          "width": 10
         },
         "mode": "lines",
         "name": "sailing empty:Carrier C",
         "type": "scatter",
         "x": [
          "1970-01-01T00:00:00",
          "1970-01-01T00:00:00",
          "1970-01-01T00:44:08",
          "1970-01-01T00:44:08",
          "1970-01-01T00:44:08",
          "1970-01-01T03:10:05",
          "1970-01-01T03:10:05",
          "1970-01-01T03:54:13",
          "1970-01-01T03:54:13",
          "1970-01-01T03:54:13",
          "1970-01-01T05:55:49",
          "1970-01-01T05:55:49",
          "1970-01-01T06:39:57",
          "1970-01-01T06:39:57",
          "1970-01-01T06:39:57",
          "1970-01-01T08:41:33",
          "1970-01-01T08:41:33",
          "1970-01-01T09:25:41",
          "1970-01-01T09:25:41",
          "1970-01-01T09:25:41",
          "1970-01-01T11:27:17",
          "1970-01-01T11:27:17",
          "1970-01-01T12:11:25",
          "1970-01-01T12:11:25",
          "1970-01-01T12:11:25",
          "1970-01-01T14:13:01",
          "1970-01-01T14:13:01",
          "1970-01-01T14:57:09",
          "1970-01-01T14:57:09",
          "1970-01-01T14:57:09",
          "1970-01-01T16:58:45",
          "1970-01-01T16:58:45",
          "1970-01-01T17:42:53",
          "1970-01-01T17:42:53",
          "1970-01-01T17:42:53",
          "1970-01-01T19:44:29",
          "1970-01-01T19:44:29",
          "1970-01-01T20:28:37",
          "1970-01-01T20:28:37",
          "1970-01-01T20:28:37"
         ],
         "y": [
          "Carrier C",
          "Carrier C",
          "Carrier C",
          "Carrier C",
          null,
          "Carrier C",
          "Carrier C",
          "Carrier C",
          "Carrier C",
          null,
          "Carrier C",
          "Carrier C",
          "Carrier C",
          "Carrier C",
          null,
          "Carrier C",
          "Carrier C",
          "Carrier C",
          "Carrier C",
          null,
          "Carrier C",
          "Carrier C",
          "Carrier C",
          "Carrier C",
          null,
          "Carrier C",
          "Carrier C",
          "Carrier C",
          "Carrier C",
          null,
          "Carrier C",
          "Carrier C",
          "Carrier C",
          "Carrier C",
          null,
          "Carrier C",
          "Carrier C",
          "Carrier C",
          "Carrier C",
          null
         ]
        },
        {
         "connectgaps": false,
         "hoverinfo": "y+name",
         "line": {
          "color": "rgb(70,227,129)",
          "width": 10
         },
         "mode": "lines",
         "name": "loading:Carrier A",
         "type": "scatter",
         "x": [
          "1970-01-01T01:41:49",
          "1970-01-01T01:41:49",
          "1970-01-01T02:15:09",
          "1970-01-01T02:15:09",
          "1970-01-01T02:15:09",
          "1970-01-01T04:41:00",
          "1970-01-01T04:41:00",
          "1970-01-01T05:14:20",
          "1970-01-01T05:14:20",
          "1970-01-01T05:14:20",
          "1970-01-01T08:06:27",
          "1970-01-01T08:06:27",
          "1970-01-01T08:39:47",
          "1970-01-01T08:39:47",
          "1970-01-01T08:39:47",
          "1970-01-01T11:05:38",
          "1970-01-01T11:05:38",
          "1970-01-01T11:38:58",
          "1970-01-01T11:38:58",
          "1970-01-01T11:38:58",
          "1970-01-01T14:04:49",
          "1970-01-01T14:04:49",
          "1970-01-01T14:38:09",
          "1970-01-01T14:38:09",
          "1970-01-01T14:38:09",
          "1970-01-01T17:04:00",
          "1970-01-01T17:04:00",
          "1970-01-01T17:37:20",
          "1970-01-01T17:37:20",
          "1970-01-01T17:37:20",
          "1970-01-01T20:03:11",
          "1970-01-01T20:03:11",
          "1970-01-01T20:36:31",
          "1970-01-01T20:36:31",
          "1970-01-01T20:36:31",
          "1970-01-01T23:02:22",
          "1970-01-01T23:02:22",
          "1970-01-01T23:35:42",
          "1970-01-01T23:35:42",
          "1970-01-01T23:35:42",
          "1970-01-01T01:41:49",
          "1970-01-01T01:41:49",
          "1970-01-01T02:15:09",
          "1970-01-01T02:15:09",
          "1970-01-01T02:15:09",
          "1970-01-01T04:41:00",
          "1970-01-01T04:41:00",
          "1970-01-01T05:14:20",
          "1970-01-01T05:14:20",
          "1970-01-01T05:14:20",
          "1970-01-01T08:06:27",
          "1970-01-01T08:06:27",
          "1970-01-01T08:39:47",
          "1970-01-01T08:39:47",
          "1970-01-01T08:39:47",
          "1970-01-01T11:05:38",
          "1970-01-01T11:05:38",
          "1970-01-01T11:38:58",
          "1970-01-01T11:38:58",
          "1970-01-01T11:38:58",
          "1970-01-01T14:04:49",
          "1970-01-01T14:04:49",
          "1970-01-01T14:38:09",
          "1970-01-01T14:38:09",
          "1970-01-01T14:38:09",
          "1970-01-01T17:04:00",
          "1970-01-01T17:04:00",
          "1970-01-01T17:37:20",
          "1970-01-01T17:37:20",
          "1970-01-01T17:37:20",
          "1970-01-01T20:03:11",
          "1970-01-01T20:03:11",
          "1970-01-01T20:36:31",
          "1970-01-01T20:36:31",
          "1970-01-01T20:36:31",
          "1970-01-01T23:02:22",
          "1970-01-01T23:02:22",
          "1970-01-01T23:35:42",
          "1970-01-01T23:35:42",
          "1970-01-01T23:35:42"
         ],
         "y": [
          "Carrier A",
          "Carrier A",
          "Carrier A",
          "Carrier A",
          null,
          "Carrier A",
          "Carrier A",
          "Carrier A",
          "Carrier A",
          null,
          "Carrier A",
          "Carrier A",
          "Carrier A",
          "Carrier A",
          null,
          "Carrier A",
          "Carrier A",
          "Carrier A",
          "Carrier A",
          null,
          "Carrier A",
          "Carrier A",
          "Carrier A",
          "Carrier A",
          null,
          "Carrier A",
          "Carrier A",
          "Carrier A",
          "Carrier A",
          null,
          "Carrier A",
          "Carrier A",
          "Carrier A",
          "Carrier A",
          null,
          "Carrier A",
          "Carrier A",
          "Carrier A",
          "Carrier A",
          null,
          "Cutter T",
          "Cutter T",
          "Cutter T",
          "Cutter T",
          null,
          "Cutter T",
          "Cutter T",
          "Cutter T",
          "Cutter T",
          null,
          "Cutter T",
          "Cutter T",
          "Cutter T",
          "Cutter T",
          null,
          "Cutter T",
          "Cutter T",
          "Cutter T",
          "Cutter T",
          null,
          "Cutter T",
          "Cutter T",
          "Cutter T",
          "Cutter T",
          null,
          "Cutter T",
          "Cutter T",
          "Cutter T",
          "Cutter T",
          null,
          "Cutter T",
          "Cutter T",
          "Cutter T",
          "Cutter T",
          null,
          "Cutter T",
          "Cutter T",
          "Cutter T",
          "Cutter T",
          null
         ]
        },
        {
         "connectgaps": false,
         "hoverinfo": "y+name",
         "line": {
          "color": "rgb(87,244,146)",
          "width": 10
         },
         "mode": "lines",
         "name": "loading:Carrier C",
         "type": "scatter",
         "x": [
          "1970-01-01T01:08:29",
          "1970-01-01T01:08:29",
          "1970-01-01T01:41:49",
          "1970-01-01T01:41:49",
          "1970-01-01T01:41:49",
          "1970-01-01T03:54:13",
          "1970-01-01T03:54:13",
          "1970-01-01T04:27:33",
          "1970-01-01T04:27:33",
          "1970-01-01T04:27:33",
          "1970-01-01T06:39:57",
          "1970-01-01T06:39:57",
          "1970-01-01T07:13:17",
          "1970-01-01T07:13:17",
          "1970-01-01T07:13:17",
          "1970-01-01T09:25:41",
          "1970-01-01T09:25:41",
          "1970-01-01T09:59:01",
          "1970-01-01T09:59:01",
          "1970-01-01T09:59:01",
          "1970-01-01T12:11:25",
          "1970-01-01T12:11:25",
          "1970-01-01T12:44:45",
          "1970-01-01T12:44:45",
          "1970-01-01T12:44:45",
          "1970-01-01T14:57:09",
          "1970-01-01T14:57:09",
          "1970-01-01T15:30:29",
          "1970-01-01T15:30:29",
          "1970-01-01T15:30:29",
          "1970-01-01T17:42:53",
          "1970-01-01T17:42:53",
          "1970-01-01T18:16:13",
          "1970-01-01T18:16:13",
          "1970-01-01T18:16:13",
          "1970-01-01T20:36:31",
          "1970-01-01T20:36:31",
          "1970-01-01T21:09:51",
          "1970-01-01T21:09:51",
          "1970-01-01T21:09:51",
          "1970-01-01T01:08:29",
          "1970-01-01T01:08:29",
          "1970-01-01T01:41:49",
          "1970-01-01T01:41:49",
          "1970-01-01T01:41:49",
          "1970-01-01T03:54:13",
          "1970-01-01T03:54:13",
          "1970-01-01T04:27:33",
          "1970-01-01T04:27:33",
          "1970-01-01T04:27:33",
          "1970-01-01T06:39:57",
          "1970-01-01T06:39:57",
          "1970-01-01T07:13:17",
          "1970-01-01T07:13:17",
          "1970-01-01T07:13:17",
          "1970-01-01T09:25:41",
          "1970-01-01T09:25:41",
          "1970-01-01T09:59:01",
          "1970-01-01T09:59:01",
          "1970-01-01T09:59:01",
          "1970-01-01T12:11:25",
          "1970-01-01T12:11:25",
          "1970-01-01T12:44:45",
          "1970-01-01T12:44:45",
          "1970-01-01T12:44:45",
          "1970-01-01T14:57:09",
          "1970-01-01T14:57:09",
          "1970-01-01T15:30:29",
          "1970-01-01T15:30:29",
          "1970-01-01T15:30:29",
          "1970-01-01T17:42:53",
          "1970-01-01T17:42:53",
          "1970-01-01T18:16:13",
          "1970-01-01T18:16:13",
          "1970-01-01T18:16:13",
          "1970-01-01T20:36:31",
          "1970-01-01T20:36:31",
          "1970-01-01T21:09:51",
          "1970-01-01T21:09:51",
          "1970-01-01T21:09:51"
         ],
         "y": [
          "Carrier C",
          "Carrier C",
          "Carrier C",
          "Carrier C",
          null,
          "Carrier C",
          "Carrier C",
          "Carrier C",
          "Carrier C",
          null,
          "Carrier C",
          "Carrier C",
          "Carrier C",
          "Carrier C",
          null,
          "Carrier C",
          "Carrier C",
          "Carrier C",
          "Carrier C",
          null,
          "Carrier C",
          "Carrier C",
          "Carrier C",
          "Carrier C",
          null,
          "Carrier C",
          "Carrier C",
          "Carrier C",
          "Carrier C",
          null,
          "Carrier C",
          "Carrier C",
          "Carrier C",
          "Carrier C",
          null,
          "Carrier C",
          "Carrier C",
          "Carrier C",
          "Carrier C",
          null,
          "Cutter T",
          "Cutter T",
          "Cutter T",
          "Cutter T",
          null,
          "Cutter T",
          "Cutter T",
          "Cutter T",
          "Cutter T",
          null,
          "Cutter T",
          "Cutter T",
          "Cutter T",
          "Cutter T",
          null,
          "Cutter T",
          "Cutter T",
          "Cutter T",
          "Cutter T",
          null,
          "Cutter T",
          "Cutter T",
          "Cutter T",
          "Cutter T",
          null,
          "Cutter T",
          "Cutter T",
          "Cutter T",
          "Cutter T",
          null,
          "Cutter T",
          "Cutter T",
          "Cutter T",
          "Cutter T",
          null,
          "Cutter T",
          "Cutter T",
          "Cutter T",
          "Cutter T",
          null
         ]
        },
        {
         "connectgaps": false,
         "hoverinfo": "y+name",
         "line": {
          "color": "rgb(104,5,163)",
          "width": 10
         },
         "mode": "lines",
         "name": "loading:Carrier B",
         "type": "scatter",
         "x": [
          "1970-01-01T00:35:09",
          "1970-01-01T00:35:09",
          "1970-01-01T01:08:29",
          "1970-01-01T01:08:29",
          "1970-01-01T01:08:29",
          "1970-01-01T02:53:56",
          "1970-01-01T02:53:56",
          "1970-01-01T03:27:16",
          "1970-01-01T03:27:16",
          "1970-01-01T03:27:16",
          "1970-01-01T05:14:20",
          "1970-01-01T05:14:20",
          "1970-01-01T05:47:40",
          "1970-01-01T05:47:40",
          "1970-01-01T05:47:40",
          "1970-01-01T07:33:07",
          "1970-01-01T07:33:07",
          "1970-01-01T08:06:27",
          "1970-01-01T08:06:27",
          "1970-01-01T08:06:27",
          "1970-01-01T09:59:01",
          "1970-01-01T09:59:01",
          "1970-01-01T10:32:21",
          "1970-01-01T10:32:21",
          "1970-01-01T10:32:21",
          "1970-01-01T12:44:45",
          "1970-01-01T12:44:45",
          "1970-01-01T13:18:05",
          "1970-01-01T13:18:05",
          "1970-01-01T13:18:05",
          "1970-01-01T15:30:29",
          "1970-01-01T15:30:29",
          "1970-01-01T16:03:49",
          "1970-01-01T16:03:49",
          "1970-01-01T16:03:49",
          "1970-01-01T18:16:13",
          "1970-01-01T18:16:13",
          "1970-01-01T18:49:33",
          "1970-01-01T18:49:33",
          "1970-01-01T18:49:33",
          "1970-01-01T21:09:51",
          "1970-01-01T21:09:51",
          "1970-01-01T21:43:11",
          "1970-01-01T21:43:11",
          "1970-01-01T21:43:11",
          "1970-01-01T00:35:09",
          "1970-01-01T00:35:09",
          "1970-01-01T01:08:29",
          "1970-01-01T01:08:29",
          "1970-01-01T01:08:29",
          "1970-01-01T02:53:56",
          "1970-01-01T02:53:56",
          "1970-01-01T03:27:16",
          "1970-01-01T03:27:16",
          "1970-01-01T03:27:16",
          "1970-01-01T05:14:20",
          "1970-01-01T05:14:20",
          "1970-01-01T05:47:40",
          "1970-01-01T05:47:40",
          "1970-01-01T05:47:40",
          "1970-01-01T07:33:07",
          "1970-01-01T07:33:07",
          "1970-01-01T08:06:27",
          "1970-01-01T08:06:27",
          "1970-01-01T08:06:27",
          "1970-01-01T09:59:01",
          "1970-01-01T09:59:01",
          "1970-01-01T10:32:21",
          "1970-01-01T10:32:21",
          "1970-01-01T10:32:21",
          "1970-01-01T12:44:45",
          "1970-01-01T12:44:45",
          "1970-01-01T13:18:05",
          "1970-01-01T13:18:05",
          "1970-01-01T13:18:05",
          "1970-01-01T15:30:29",
          "1970-01-01T15:30:29",
          "1970-01-01T16:03:49",
          "1970-01-01T16:03:49",
          "1970-01-01T16:03:49",
          "1970-01-01T18:16:13",
          "1970-01-01T18:16:13",
          "1970-01-01T18:49:33",
          "1970-01-01T18:49:33",
          "1970-01-01T18:49:33",
          "1970-01-01T21:09:51",
          "1970-01-01T21:09:51",
          "1970-01-01T21:43:11",
          "1970-01-01T21:43:11",
          "1970-01-01T21:43:11"
         ],
         "y": [
          "Carrier B",
          "Carrier B",
          "Carrier B",
          "Carrier B",
          null,
          "Carrier B",
          "Carrier B",
          "Carrier B",
          "Carrier B",
          null,
          "Carrier B",
          "Carrier B",
          "Carrier B",
          "Carrier B",
          null,
          "Carrier B",
          "Carrier B",
          "Carrier B",
          "Carrier B",
          null,
          "Carrier B",
          "Carrier B",
          "Carrier B",
          "Carrier B",
          null,
          "Carrier B",
          "Carrier B",
          "Carrier B",
          "Carrier B",
          null,
          "Carrier B",
          "Carrier B",
          "Carrier B",
          "Carrier B",
          null,
          "Carrier B",
          "Carrier B",
          "Carrier B",
          "Carrier B",
          null,
          "Carrier B",
          "Carrier B",
          "Carrier B",
          "Carrier B",
          null,
          "Cutter T",
          "Cutter T",
          "Cutter T",
          "Cutter T",
          null,
          "Cutter T",
          "Cutter T",
          "Cutter T",
          "Cutter T",
          null,
          "Cutter T",
          "Cutter T",
          "Cutter T",
          "Cutter T",
          null,
          "Cutter T",
          "Cutter T",
          "Cutter T",
          "Cutter T",
          null,
          "Cutter T",
          "Cutter T",
          "Cutter T",
          "Cutter T",
          null,
          "Cutter T",
          "Cutter T",
          "Cutter T",
          "Cutter T",
          null,
          "Cutter T",
          "Cutter T",
          "Cutter T",
          "Cutter T",
          null,
          "Cutter T",
          "Cutter T",
          "Cutter T",
          "Cutter T",
          null,
          "Cutter T",
          "Cutter T",
          "Cutter T",
          "Cutter T",
          null
         ]
        }
       ],
       "layout": {
        "hovermode": "closest",
        "legend": {
         "orientation": "h",
         "x": 0,
         "y": -0.2
        },
        "template": {
         "data": {
          "bar": [
           {
            "error_x": {
             "color": "#2a3f5f"
            },
            "error_y": {
             "color": "#2a3f5f"
            },
            "marker": {
             "line": {
              "color": "#E5ECF6",
              "width": 0.5
             },
             "pattern": {
              "fillmode": "overlay",
              "size": 10,
              "solidity": 0.2
             }
            },
            "type": "bar"
           }
          ],
          "barpolar": [
           {
            "marker": {
             "line": {
              "color": "#E5ECF6",
              "width": 0.5
             },
             "pattern": {
              "fillmode": "overlay",
              "size": 10,
              "solidity": 0.2
             }
            },
            "type": "barpolar"
           }
          ],
          "carpet": [
           {
            "aaxis": {
             "endlinecolor": "#2a3f5f",
             "gridcolor": "white",
             "linecolor": "white",
             "minorgridcolor": "white",
             "startlinecolor": "#2a3f5f"
            },
            "baxis": {
             "endlinecolor": "#2a3f5f",
             "gridcolor": "white",
             "linecolor": "white",
             "minorgridcolor": "white",
             "startlinecolor": "#2a3f5f"
            },
            "type": "carpet"
           }
          ],
          "choropleth": [
           {
            "colorbar": {
             "outlinewidth": 0,
             "ticks": ""
            },
            "type": "choropleth"
           }
          ],
          "contour": [
           {
            "colorbar": {
             "outlinewidth": 0,
             "ticks": ""
            },
            "colorscale": [
             [
              0,
              "#0d0887"
             ],
             [
              0.1111111111111111,
              "#46039f"
             ],
             [
              0.2222222222222222,
              "#7201a8"
             ],
             [
              0.3333333333333333,
              "#9c179e"
             ],
             [
              0.4444444444444444,
              "#bd3786"
             ],
             [
              0.5555555555555556,
              "#d8576b"
             ],
             [
              0.6666666666666666,
              "#ed7953"
             ],
             [
              0.7777777777777778,
              "#fb9f3a"
             ],
             [
              0.8888888888888888,
              "#fdca26"
             ],
             [
              1,
              "#f0f921"
             ]
            ],
            "type": "contour"
           }
          ],
          "contourcarpet": [
           {
            "colorbar": {
             "outlinewidth": 0,
             "ticks": ""
            },
            "type": "contourcarpet"
           }
          ],
          "heatmap": [
           {
            "colorbar": {
             "outlinewidth": 0,
             "ticks": ""
            },
            "colorscale": [
             [
              0,
              "#0d0887"
             ],
             [
              0.1111111111111111,
              "#46039f"
             ],
             [
              0.2222222222222222,
              "#7201a8"
             ],
             [
              0.3333333333333333,
              "#9c179e"
             ],
             [
              0.4444444444444444,
              "#bd3786"
             ],
             [
              0.5555555555555556,
              "#d8576b"
             ],
             [
              0.6666666666666666,
              "#ed7953"
             ],
             [
              0.7777777777777778,
              "#fb9f3a"
             ],
             [
              0.8888888888888888,
              "#fdca26"
             ],
             [
              1,
              "#f0f921"
             ]
            ],
            "type": "heatmap"
           }
          ],
          "heatmapgl": [
           {
            "colorbar": {
             "outlinewidth": 0,
             "ticks": ""
            },
            "colorscale": [
             [
              0,
              "#0d0887"
             ],
             [
              0.1111111111111111,
              "#46039f"
             ],
             [
              0.2222222222222222,
              "#7201a8"
             ],
             [
              0.3333333333333333,
              "#9c179e"
             ],
             [
              0.4444444444444444,
              "#bd3786"
             ],
             [
              0.5555555555555556,
              "#d8576b"
             ],
             [
              0.6666666666666666,
              "#ed7953"
             ],
             [
              0.7777777777777778,
              "#fb9f3a"
             ],
             [
              0.8888888888888888,
              "#fdca26"
             ],
             [
              1,
              "#f0f921"
             ]
            ],
            "type": "heatmapgl"
           }
          ],
          "histogram": [
           {
            "marker": {
             "pattern": {
              "fillmode": "overlay",
              "size": 10,
              "solidity": 0.2
             }
            },
            "type": "histogram"
           }
          ],
          "histogram2d": [
           {
            "colorbar": {
             "outlinewidth": 0,
             "ticks": ""
            },
            "colorscale": [
             [
              0,
              "#0d0887"
             ],
             [
              0.1111111111111111,
              "#46039f"
             ],
             [
              0.2222222222222222,
              "#7201a8"
             ],
             [
              0.3333333333333333,
              "#9c179e"
             ],
             [
              0.4444444444444444,
              "#bd3786"
             ],
             [
              0.5555555555555556,
              "#d8576b"
             ],
             [
              0.6666666666666666,
              "#ed7953"
             ],
             [
              0.7777777777777778,
              "#fb9f3a"
             ],
             [
              0.8888888888888888,
              "#fdca26"
             ],
             [
              1,
              "#f0f921"
             ]
            ],
            "type": "histogram2d"
           }
          ],
          "histogram2dcontour": [
           {
            "colorbar": {
             "outlinewidth": 0,
             "ticks": ""
            },
            "colorscale": [
             [
              0,
              "#0d0887"
             ],
             [
              0.1111111111111111,
              "#46039f"
             ],
             [
              0.2222222222222222,
              "#7201a8"
             ],
             [
              0.3333333333333333,
              "#9c179e"
             ],
             [
              0.4444444444444444,
              "#bd3786"
             ],
             [
              0.5555555555555556,
              "#d8576b"
             ],
             [
              0.6666666666666666,
              "#ed7953"
             ],
             [
              0.7777777777777778,
              "#fb9f3a"
             ],
             [
              0.8888888888888888,
              "#fdca26"
             ],
             [
              1,
              "#f0f921"
             ]
            ],
            "type": "histogram2dcontour"
           }
          ],
          "mesh3d": [
           {
            "colorbar": {
             "outlinewidth": 0,
             "ticks": ""
            },
            "type": "mesh3d"
           }
          ],
          "parcoords": [
           {
            "line": {
             "colorbar": {
              "outlinewidth": 0,
              "ticks": ""
             }
            },
            "type": "parcoords"
           }
          ],
          "pie": [
           {
            "automargin": true,
            "type": "pie"
           }
          ],
          "scatter": [
           {
            "fillpattern": {
             "fillmode": "overlay",
             "size": 10,
             "solidity": 0.2
            },
            "type": "scatter"
           }
          ],
          "scatter3d": [
           {
            "line": {
             "colorbar": {
              "outlinewidth": 0,
              "ticks": ""
             }
            },
            "marker": {
             "colorbar": {
              "outlinewidth": 0,
              "ticks": ""
             }
            },
            "type": "scatter3d"
           }
          ],
          "scattercarpet": [
           {
            "marker": {
             "colorbar": {
              "outlinewidth": 0,
              "ticks": ""
             }
            },
            "type": "scattercarpet"
           }
          ],
          "scattergeo": [
           {
            "marker": {
             "colorbar": {
              "outlinewidth": 0,
              "ticks": ""
             }
            },
            "type": "scattergeo"
           }
          ],
          "scattergl": [
           {
            "marker": {
             "colorbar": {
              "outlinewidth": 0,
              "ticks": ""
             }
            },
            "type": "scattergl"
           }
          ],
          "scattermapbox": [
           {
            "marker": {
             "colorbar": {
              "outlinewidth": 0,
              "ticks": ""
             }
            },
            "type": "scattermapbox"
           }
          ],
          "scatterpolar": [
           {
            "marker": {
             "colorbar": {
              "outlinewidth": 0,
              "ticks": ""
             }
            },
            "type": "scatterpolar"
           }
          ],
          "scatterpolargl": [
           {
            "marker": {
             "colorbar": {
              "outlinewidth": 0,
              "ticks": ""
             }
            },
            "type": "scatterpolargl"
           }
          ],
          "scatterternary": [
           {
            "marker": {
             "colorbar": {
              "outlinewidth": 0,
              "ticks": ""
             }
            },
            "type": "scatterternary"
           }
          ],
          "surface": [
           {
            "colorbar": {
             "outlinewidth": 0,
             "ticks": ""
            },
            "colorscale": [
             [
              0,
              "#0d0887"
             ],
             [
              0.1111111111111111,
              "#46039f"
             ],
             [
              0.2222222222222222,
              "#7201a8"
             ],
             [
              0.3333333333333333,
              "#9c179e"
             ],
             [
              0.4444444444444444,
              "#bd3786"
             ],
             [
              0.5555555555555556,
              "#d8576b"
             ],
             [
              0.6666666666666666,
              "#ed7953"
             ],
             [
              0.7777777777777778,
              "#fb9f3a"
             ],
             [
              0.8888888888888888,
              "#fdca26"
             ],
             [
              1,
              "#f0f921"
             ]
            ],
            "type": "surface"
           }
          ],
          "table": [
           {
            "cells": {
             "fill": {
              "color": "#EBF0F8"
             },
             "line": {
              "color": "white"
             }
            },
            "header": {
             "fill": {
              "color": "#C8D4E3"
             },
             "line": {
              "color": "white"
             }
            },
            "type": "table"
           }
          ]
         },
         "layout": {
          "annotationdefaults": {
           "arrowcolor": "#2a3f5f",
           "arrowhead": 0,
           "arrowwidth": 1
          },
          "autotypenumbers": "strict",
          "coloraxis": {
           "colorbar": {
            "outlinewidth": 0,
            "ticks": ""
           }
          },
          "colorscale": {
           "diverging": [
            [
             0,
             "#8e0152"
            ],
            [
             0.1,
             "#c51b7d"
            ],
            [
             0.2,
             "#de77ae"
            ],
            [
             0.3,
             "#f1b6da"
            ],
            [
             0.4,
             "#fde0ef"
            ],
            [
             0.5,
             "#f7f7f7"
            ],
            [
             0.6,
             "#e6f5d0"
            ],
            [
             0.7,
             "#b8e186"
            ],
            [
             0.8,
             "#7fbc41"
            ],
            [
             0.9,
             "#4d9221"
            ],
            [
             1,
             "#276419"
            ]
           ],
           "sequential": [
            [
             0,
             "#0d0887"
            ],
            [
             0.1111111111111111,
             "#46039f"
            ],
            [
             0.2222222222222222,
             "#7201a8"
            ],
            [
             0.3333333333333333,
             "#9c179e"
            ],
            [
             0.4444444444444444,
             "#bd3786"
            ],
            [
             0.5555555555555556,
             "#d8576b"
            ],
            [
             0.6666666666666666,
             "#ed7953"
            ],
            [
             0.7777777777777778,
             "#fb9f3a"
            ],
            [
             0.8888888888888888,
             "#fdca26"
            ],
            [
             1,
             "#f0f921"
            ]
           ],
           "sequentialminus": [
            [
             0,
             "#0d0887"
            ],
            [
             0.1111111111111111,
             "#46039f"
            ],
            [
             0.2222222222222222,
             "#7201a8"
            ],
            [
             0.3333333333333333,
             "#9c179e"
            ],
            [
             0.4444444444444444,
             "#bd3786"
            ],
            [
             0.5555555555555556,
             "#d8576b"
            ],
            [
             0.6666666666666666,
             "#ed7953"
            ],
            [
             0.7777777777777778,
             "#fb9f3a"
            ],
            [
             0.8888888888888888,
             "#fdca26"
            ],
            [
             1,
             "#f0f921"
            ]
           ]
          },
          "colorway": [
           "#636efa",
           "#EF553B",
           "#00cc96",
           "#ab63fa",
           "#FFA15A",
           "#19d3f3",
           "#FF6692",
           "#B6E880",
           "#FF97FF",
           "#FECB52"
          ],
          "font": {
           "color": "#2a3f5f"
          },
          "geo": {
           "bgcolor": "white",
           "lakecolor": "white",
           "landcolor": "#E5ECF6",
           "showlakes": true,
           "showland": true,
           "subunitcolor": "white"
          },
          "hoverlabel": {
           "align": "left"
          },
          "hovermode": "closest",
          "mapbox": {
           "style": "light"
          },
          "paper_bgcolor": "white",
          "plot_bgcolor": "#E5ECF6",
          "polar": {
           "angularaxis": {
            "gridcolor": "white",
            "linecolor": "white",
            "ticks": ""
           },
           "bgcolor": "#E5ECF6",
           "radialaxis": {
            "gridcolor": "white",
            "linecolor": "white",
            "ticks": ""
           }
          },
          "scene": {
           "xaxis": {
            "backgroundcolor": "#E5ECF6",
            "gridcolor": "white",
            "gridwidth": 2,
            "linecolor": "white",
            "showbackground": true,
            "ticks": "",
            "zerolinecolor": "white"
           },
           "yaxis": {
            "backgroundcolor": "#E5ECF6",
            "gridcolor": "white",
            "gridwidth": 2,
            "linecolor": "white",
            "showbackground": true,
            "ticks": "",
            "zerolinecolor": "white"
           },
           "zaxis": {
            "backgroundcolor": "#E5ECF6",
            "gridcolor": "white",
            "gridwidth": 2,
            "linecolor": "white",
            "showbackground": true,
            "ticks": "",
            "zerolinecolor": "white"
           }
          },
          "shapedefaults": {
           "line": {
            "color": "#2a3f5f"
           }
          },
          "ternary": {
           "aaxis": {
            "gridcolor": "white",
            "linecolor": "white",
            "ticks": ""
           },
           "baxis": {
            "gridcolor": "white",
            "linecolor": "white",
            "ticks": ""
           },
           "bgcolor": "#E5ECF6",
           "caxis": {
            "gridcolor": "white",
            "linecolor": "white",
            "ticks": ""
           }
          },
          "title": {
           "x": 0.05
          },
          "xaxis": {
           "automargin": true,
           "gridcolor": "white",
           "linecolor": "white",
           "ticks": "",
           "title": {
            "standoff": 15
           },
           "zerolinecolor": "white",
           "zerolinewidth": 2
          },
          "yaxis": {
           "automargin": true,
           "gridcolor": "white",
           "linecolor": "white",
           "ticks": "",
           "title": {
            "standoff": 15
           },
           "zerolinecolor": "white",
           "zerolinewidth": 2
          }
         }
        },
        "title": {
         "text": "GANTT Chart"
        },
        "xaxis": {
         "range": [
          "1970-01-01T00:00:00",
          "1970-01-02T01:12:56"
         ],
         "title": {
          "font": {
           "color": "#7f7f7f",
           "family": "Courier New, monospace",
           "size": 18
          },
          "text": "Time"
         }
        },
        "yaxis": {
         "title": {
          "font": {
           "color": "#7f7f7f",
           "family": "Courier New, monospace",
           "size": 18
          },
          "text": "Activities"
         }
        }
       }
      },
      "text/html": [
       "<div>                            <div id=\"020a11e4-136d-4d93-8237-f5b9ae898bdb\" class=\"plotly-graph-div\" style=\"height:525px; width:100%;\"></div>            <script type=\"text/javascript\">                require([\"plotly\"], function(Plotly) {                    window.PLOTLYENV=window.PLOTLYENV || {};                                    if (document.getElementById(\"020a11e4-136d-4d93-8237-f5b9ae898bdb\")) {                    Plotly.newPlot(                        \"020a11e4-136d-4d93-8237-f5b9ae898bdb\",                        [{\"connectgaps\":false,\"hoverinfo\":\"y+name\",\"line\":{\"color\":\"rgb(122,23,181)\",\"width\":10},\"mode\":\"lines\",\"name\":\"sailing empty:Carrier A\",\"x\":[\"1970-01-01T00:00:00\",\"1970-01-01T00:00:00\",\"1970-01-01T00:48:37\",\"1970-01-01T00:48:37\",\"1970-01-01T00:48:37\",\"1970-01-01T03:52:23\",\"1970-01-01T03:52:23\",\"1970-01-01T04:41:00\",\"1970-01-01T04:41:00\",\"1970-01-01T04:41:00\",\"1970-01-01T06:51:34\",\"1970-01-01T06:51:34\",\"1970-01-01T07:40:11\",\"1970-01-01T07:40:11\",\"1970-01-01T07:40:11\",\"1970-01-01T10:17:01\",\"1970-01-01T10:17:01\",\"1970-01-01T11:05:38\",\"1970-01-01T11:05:38\",\"1970-01-01T11:05:38\",\"1970-01-01T13:16:12\",\"1970-01-01T13:16:12\",\"1970-01-01T14:04:49\",\"1970-01-01T14:04:49\",\"1970-01-01T14:04:49\",\"1970-01-01T16:15:23\",\"1970-01-01T16:15:23\",\"1970-01-01T17:04:00\",\"1970-01-01T17:04:00\",\"1970-01-01T17:04:00\",\"1970-01-01T19:14:34\",\"1970-01-01T19:14:34\",\"1970-01-01T20:03:11\",\"1970-01-01T20:03:11\",\"1970-01-01T20:03:11\",\"1970-01-01T22:13:45\",\"1970-01-01T22:13:45\",\"1970-01-01T23:02:22\",\"1970-01-01T23:02:22\",\"1970-01-01T23:02:22\"],\"y\":[\"Carrier A\",\"Carrier A\",\"Carrier A\",\"Carrier A\",null,\"Carrier A\",\"Carrier A\",\"Carrier A\",\"Carrier A\",null,\"Carrier A\",\"Carrier A\",\"Carrier A\",\"Carrier A\",null,\"Carrier A\",\"Carrier A\",\"Carrier A\",\"Carrier A\",null,\"Carrier A\",\"Carrier A\",\"Carrier A\",\"Carrier A\",null,\"Carrier A\",\"Carrier A\",\"Carrier A\",\"Carrier A\",null,\"Carrier A\",\"Carrier A\",\"Carrier A\",\"Carrier A\",null,\"Carrier A\",\"Carrier A\",\"Carrier A\",\"Carrier A\",null],\"type\":\"scatter\"},{\"connectgaps\":false,\"hoverinfo\":\"y+name\",\"line\":{\"color\":\"rgb(139,40,198)\",\"width\":10},\"mode\":\"lines\",\"name\":\"unloading:Carrier A\",\"x\":[\"1970-01-01T03:03:46\",\"1970-01-01T03:03:46\",\"1970-01-01T03:52:23\",\"1970-01-01T03:52:23\",\"1970-01-01T03:52:23\",\"1970-01-01T06:02:57\",\"1970-01-01T06:02:57\",\"1970-01-01T06:51:34\",\"1970-01-01T06:51:34\",\"1970-01-01T06:51:34\",\"1970-01-01T09:28:24\",\"1970-01-01T09:28:24\",\"1970-01-01T10:17:01\",\"1970-01-01T10:17:01\",\"1970-01-01T10:17:01\",\"1970-01-01T12:27:35\",\"1970-01-01T12:27:35\",\"1970-01-01T13:16:12\",\"1970-01-01T13:16:12\",\"1970-01-01T13:16:12\",\"1970-01-01T15:26:46\",\"1970-01-01T15:26:46\",\"1970-01-01T16:15:23\",\"1970-01-01T16:15:23\",\"1970-01-01T16:15:23\",\"1970-01-01T18:25:57\",\"1970-01-01T18:25:57\",\"1970-01-01T19:14:34\",\"1970-01-01T19:14:34\",\"1970-01-01T19:14:34\",\"1970-01-01T21:25:08\",\"1970-01-01T21:25:08\",\"1970-01-01T22:13:45\",\"1970-01-01T22:13:45\",\"1970-01-01T22:13:45\",\"1970-01-02T00:24:19\",\"1970-01-02T00:24:19\",\"1970-01-02T01:12:56\",\"1970-01-02T01:12:56\",\"1970-01-02T01:12:56\"],\"y\":[\"Carrier A\",\"Carrier A\",\"Carrier A\",\"Carrier A\",null,\"Carrier A\",\"Carrier A\",\"Carrier A\",\"Carrier A\",null,\"Carrier A\",\"Carrier A\",\"Carrier A\",\"Carrier A\",null,\"Carrier A\",\"Carrier A\",\"Carrier A\",\"Carrier A\",null,\"Carrier A\",\"Carrier A\",\"Carrier A\",\"Carrier A\",null,\"Carrier A\",\"Carrier A\",\"Carrier A\",\"Carrier A\",null,\"Carrier A\",\"Carrier A\",\"Carrier A\",\"Carrier A\",null,\"Carrier A\",\"Carrier A\",\"Carrier A\",\"Carrier A\",null],\"type\":\"scatter\"},{\"connectgaps\":false,\"hoverinfo\":\"y+name\",\"line\":{\"color\":\"rgb(156,57,215)\",\"width\":10},\"mode\":\"lines\",\"name\":\"loading:Carrier A\",\"x\":[\"1970-01-01T01:41:49\",\"1970-01-01T01:41:49\",\"1970-01-01T02:15:09\",\"1970-01-01T02:15:09\",\"1970-01-01T02:15:09\",\"1970-01-01T04:41:00\",\"1970-01-01T04:41:00\",\"1970-01-01T05:14:20\",\"1970-01-01T05:14:20\",\"1970-01-01T05:14:20\",\"1970-01-01T08:06:27\",\"1970-01-01T08:06:27\",\"1970-01-01T08:39:47\",\"1970-01-01T08:39:47\",\"1970-01-01T08:39:47\",\"1970-01-01T11:05:38\",\"1970-01-01T11:05:38\",\"1970-01-01T11:38:58\",\"1970-01-01T11:38:58\",\"1970-01-01T11:38:58\",\"1970-01-01T14:04:49\",\"1970-01-01T14:04:49\",\"1970-01-01T14:38:09\",\"1970-01-01T14:38:09\",\"1970-01-01T14:38:09\",\"1970-01-01T17:04:00\",\"1970-01-01T17:04:00\",\"1970-01-01T17:37:20\",\"1970-01-01T17:37:20\",\"1970-01-01T17:37:20\",\"1970-01-01T20:03:11\",\"1970-01-01T20:03:11\",\"1970-01-01T20:36:31\",\"1970-01-01T20:36:31\",\"1970-01-01T20:36:31\",\"1970-01-01T23:02:22\",\"1970-01-01T23:02:22\",\"1970-01-01T23:35:42\",\"1970-01-01T23:35:42\",\"1970-01-01T23:35:42\",\"1970-01-01T01:41:49\",\"1970-01-01T01:41:49\",\"1970-01-01T02:15:09\",\"1970-01-01T02:15:09\",\"1970-01-01T02:15:09\",\"1970-01-01T04:41:00\",\"1970-01-01T04:41:00\",\"1970-01-01T05:14:20\",\"1970-01-01T05:14:20\",\"1970-01-01T05:14:20\",\"1970-01-01T08:06:27\",\"1970-01-01T08:06:27\",\"1970-01-01T08:39:47\",\"1970-01-01T08:39:47\",\"1970-01-01T08:39:47\",\"1970-01-01T11:05:38\",\"1970-01-01T11:05:38\",\"1970-01-01T11:38:58\",\"1970-01-01T11:38:58\",\"1970-01-01T11:38:58\",\"1970-01-01T14:04:49\",\"1970-01-01T14:04:49\",\"1970-01-01T14:38:09\",\"1970-01-01T14:38:09\",\"1970-01-01T14:38:09\",\"1970-01-01T17:04:00\",\"1970-01-01T17:04:00\",\"1970-01-01T17:37:20\",\"1970-01-01T17:37:20\",\"1970-01-01T17:37:20\",\"1970-01-01T20:03:11\",\"1970-01-01T20:03:11\",\"1970-01-01T20:36:31\",\"1970-01-01T20:36:31\",\"1970-01-01T20:36:31\",\"1970-01-01T23:02:22\",\"1970-01-01T23:02:22\",\"1970-01-01T23:35:42\",\"1970-01-01T23:35:42\",\"1970-01-01T23:35:42\"],\"y\":[\"Carrier A\",\"Carrier A\",\"Carrier A\",\"Carrier A\",null,\"Carrier A\",\"Carrier A\",\"Carrier A\",\"Carrier A\",null,\"Carrier A\",\"Carrier A\",\"Carrier A\",\"Carrier A\",null,\"Carrier A\",\"Carrier A\",\"Carrier A\",\"Carrier A\",null,\"Carrier A\",\"Carrier A\",\"Carrier A\",\"Carrier A\",null,\"Carrier A\",\"Carrier A\",\"Carrier A\",\"Carrier A\",null,\"Carrier A\",\"Carrier A\",\"Carrier A\",\"Carrier A\",null,\"Carrier A\",\"Carrier A\",\"Carrier A\",\"Carrier A\",null,\"Cutter T\",\"Cutter T\",\"Cutter T\",\"Cutter T\",null,\"Cutter T\",\"Cutter T\",\"Cutter T\",\"Cutter T\",null,\"Cutter T\",\"Cutter T\",\"Cutter T\",\"Cutter T\",null,\"Cutter T\",\"Cutter T\",\"Cutter T\",\"Cutter T\",null,\"Cutter T\",\"Cutter T\",\"Cutter T\",\"Cutter T\",null,\"Cutter T\",\"Cutter T\",\"Cutter T\",\"Cutter T\",null,\"Cutter T\",\"Cutter T\",\"Cutter T\",\"Cutter T\",null,\"Cutter T\",\"Cutter T\",\"Cutter T\",\"Cutter T\",null],\"type\":\"scatter\"},{\"connectgaps\":false,\"hoverinfo\":\"y+name\",\"line\":{\"color\":\"rgb(173,74,232)\",\"width\":10},\"mode\":\"lines\",\"name\":\"sailing full:Carrier A\",\"x\":[\"1970-01-01T02:15:09\",\"1970-01-01T02:15:09\",\"1970-01-01T03:03:46\",\"1970-01-01T03:03:46\",\"1970-01-01T03:03:46\",\"1970-01-01T05:14:20\",\"1970-01-01T05:14:20\",\"1970-01-01T06:02:57\",\"1970-01-01T06:02:57\",\"1970-01-01T06:02:57\",\"1970-01-01T08:39:47\",\"1970-01-01T08:39:47\",\"1970-01-01T09:28:24\",\"1970-01-01T09:28:24\",\"1970-01-01T09:28:24\",\"1970-01-01T11:38:58\",\"1970-01-01T11:38:58\",\"1970-01-01T12:27:35\",\"1970-01-01T12:27:35\",\"1970-01-01T12:27:35\",\"1970-01-01T14:38:09\",\"1970-01-01T14:38:09\",\"1970-01-01T15:26:46\",\"1970-01-01T15:26:46\",\"1970-01-01T15:26:46\",\"1970-01-01T17:37:20\",\"1970-01-01T17:37:20\",\"1970-01-01T18:25:57\",\"1970-01-01T18:25:57\",\"1970-01-01T18:25:57\",\"1970-01-01T20:36:31\",\"1970-01-01T20:36:31\",\"1970-01-01T21:25:08\",\"1970-01-01T21:25:08\",\"1970-01-01T21:25:08\",\"1970-01-01T23:35:42\",\"1970-01-01T23:35:42\",\"1970-01-02T00:24:19\",\"1970-01-02T00:24:19\",\"1970-01-02T00:24:19\"],\"y\":[\"Carrier A\",\"Carrier A\",\"Carrier A\",\"Carrier A\",null,\"Carrier A\",\"Carrier A\",\"Carrier A\",\"Carrier A\",null,\"Carrier A\",\"Carrier A\",\"Carrier A\",\"Carrier A\",null,\"Carrier A\",\"Carrier A\",\"Carrier A\",\"Carrier A\",null,\"Carrier A\",\"Carrier A\",\"Carrier A\",\"Carrier A\",null,\"Carrier A\",\"Carrier A\",\"Carrier A\",\"Carrier A\",null,\"Carrier A\",\"Carrier A\",\"Carrier A\",\"Carrier A\",null,\"Carrier A\",\"Carrier A\",\"Carrier A\",\"Carrier A\",null],\"type\":\"scatter\"},{\"connectgaps\":false,\"hoverinfo\":\"y+name\",\"line\":{\"color\":\"rgb(190,91,249)\",\"width\":10},\"mode\":\"lines\",\"name\":\"unloading:Carrier B\",\"x\":[\"1970-01-01T01:43:38\",\"1970-01-01T01:43:38\",\"1970-01-01T02:18:47\",\"1970-01-01T02:18:47\",\"1970-01-01T02:18:47\",\"1970-01-01T04:02:25\",\"1970-01-01T04:02:25\",\"1970-01-01T04:37:34\",\"1970-01-01T04:37:34\",\"1970-01-01T04:37:34\",\"1970-01-01T06:22:49\",\"1970-01-01T06:22:49\",\"1970-01-01T06:57:58\",\"1970-01-01T06:57:58\",\"1970-01-01T06:57:58\",\"1970-01-01T08:41:36\",\"1970-01-01T08:41:36\",\"1970-01-01T09:16:45\",\"1970-01-01T09:16:45\",\"1970-01-01T09:16:45\",\"1970-01-01T11:07:30\",\"1970-01-01T11:07:30\",\"1970-01-01T11:42:39\",\"1970-01-01T11:42:39\",\"1970-01-01T11:42:39\",\"1970-01-01T13:53:14\",\"1970-01-01T13:53:14\",\"1970-01-01T14:28:23\",\"1970-01-01T14:28:23\",\"1970-01-01T14:28:23\",\"1970-01-01T16:38:58\",\"1970-01-01T16:38:58\",\"1970-01-01T17:14:07\",\"1970-01-01T17:14:07\",\"1970-01-01T17:14:07\",\"1970-01-01T19:24:42\",\"1970-01-01T19:24:42\",\"1970-01-01T19:59:51\",\"1970-01-01T19:59:51\",\"1970-01-01T19:59:51\",\"1970-01-01T22:18:20\",\"1970-01-01T22:18:20\",\"1970-01-01T22:53:29\",\"1970-01-01T22:53:29\",\"1970-01-01T22:53:29\"],\"y\":[\"Carrier B\",\"Carrier B\",\"Carrier B\",\"Carrier B\",null,\"Carrier B\",\"Carrier B\",\"Carrier B\",\"Carrier B\",null,\"Carrier B\",\"Carrier B\",\"Carrier B\",\"Carrier B\",null,\"Carrier B\",\"Carrier B\",\"Carrier B\",\"Carrier B\",null,\"Carrier B\",\"Carrier B\",\"Carrier B\",\"Carrier B\",null,\"Carrier B\",\"Carrier B\",\"Carrier B\",\"Carrier B\",null,\"Carrier B\",\"Carrier B\",\"Carrier B\",\"Carrier B\",null,\"Carrier B\",\"Carrier B\",\"Carrier B\",\"Carrier B\",null,\"Carrier B\",\"Carrier B\",\"Carrier B\",\"Carrier B\",null],\"type\":\"scatter\"},{\"connectgaps\":false,\"hoverinfo\":\"y+name\",\"line\":{\"color\":\"rgb(207,108,10)\",\"width\":10},\"mode\":\"lines\",\"name\":\"sailing empty:Carrier B\",\"x\":[\"1970-01-01T00:00:00\",\"1970-01-01T00:00:00\",\"1970-01-01T00:35:09\",\"1970-01-01T00:35:09\",\"1970-01-01T00:35:09\",\"1970-01-01T02:18:47\",\"1970-01-01T02:18:47\",\"1970-01-01T02:53:56\",\"1970-01-01T02:53:56\",\"1970-01-01T02:53:56\",\"1970-01-01T04:37:34\",\"1970-01-01T04:37:34\",\"1970-01-01T05:12:43\",\"1970-01-01T05:12:43\",\"1970-01-01T05:12:43\",\"1970-01-01T06:57:58\",\"1970-01-01T06:57:58\",\"1970-01-01T07:33:07\",\"1970-01-01T07:33:07\",\"1970-01-01T07:33:07\",\"1970-01-01T09:16:45\",\"1970-01-01T09:16:45\",\"1970-01-01T09:51:54\",\"1970-01-01T09:51:54\",\"1970-01-01T09:51:54\",\"1970-01-01T11:42:39\",\"1970-01-01T11:42:39\",\"1970-01-01T12:17:48\",\"1970-01-01T12:17:48\",\"1970-01-01T12:17:48\",\"1970-01-01T14:28:23\",\"1970-01-01T14:28:23\",\"1970-01-01T15:03:32\",\"1970-01-01T15:03:32\",\"1970-01-01T15:03:32\",\"1970-01-01T17:14:07\",\"1970-01-01T17:14:07\",\"1970-01-01T17:49:16\",\"1970-01-01T17:49:16\",\"1970-01-01T17:49:16\",\"1970-01-01T19:59:51\",\"1970-01-01T19:59:51\",\"1970-01-01T20:35:00\",\"1970-01-01T20:35:00\",\"1970-01-01T20:35:00\"],\"y\":[\"Carrier B\",\"Carrier B\",\"Carrier B\",\"Carrier B\",null,\"Carrier B\",\"Carrier B\",\"Carrier B\",\"Carrier B\",null,\"Carrier B\",\"Carrier B\",\"Carrier B\",\"Carrier B\",null,\"Carrier B\",\"Carrier B\",\"Carrier B\",\"Carrier B\",null,\"Carrier B\",\"Carrier B\",\"Carrier B\",\"Carrier B\",null,\"Carrier B\",\"Carrier B\",\"Carrier B\",\"Carrier B\",null,\"Carrier B\",\"Carrier B\",\"Carrier B\",\"Carrier B\",null,\"Carrier B\",\"Carrier B\",\"Carrier B\",\"Carrier B\",null,\"Carrier B\",\"Carrier B\",\"Carrier B\",\"Carrier B\",null],\"type\":\"scatter\"},{\"connectgaps\":false,\"hoverinfo\":\"y+name\",\"line\":{\"color\":\"rgb(224,125,27)\",\"width\":10},\"mode\":\"lines\",\"name\":\"loading:Carrier B\",\"x\":[\"1970-01-01T00:35:09\",\"1970-01-01T00:35:09\",\"1970-01-01T01:08:29\",\"1970-01-01T01:08:29\",\"1970-01-01T01:08:29\",\"1970-01-01T02:53:56\",\"1970-01-01T02:53:56\",\"1970-01-01T03:27:16\",\"1970-01-01T03:27:16\",\"1970-01-01T03:27:16\",\"1970-01-01T05:14:20\",\"1970-01-01T05:14:20\",\"1970-01-01T05:47:40\",\"1970-01-01T05:47:40\",\"1970-01-01T05:47:40\",\"1970-01-01T07:33:07\",\"1970-01-01T07:33:07\",\"1970-01-01T08:06:27\",\"1970-01-01T08:06:27\",\"1970-01-01T08:06:27\",\"1970-01-01T09:59:01\",\"1970-01-01T09:59:01\",\"1970-01-01T10:32:21\",\"1970-01-01T10:32:21\",\"1970-01-01T10:32:21\",\"1970-01-01T12:44:45\",\"1970-01-01T12:44:45\",\"1970-01-01T13:18:05\",\"1970-01-01T13:18:05\",\"1970-01-01T13:18:05\",\"1970-01-01T15:30:29\",\"1970-01-01T15:30:29\",\"1970-01-01T16:03:49\",\"1970-01-01T16:03:49\",\"1970-01-01T16:03:49\",\"1970-01-01T18:16:13\",\"1970-01-01T18:16:13\",\"1970-01-01T18:49:33\",\"1970-01-01T18:49:33\",\"1970-01-01T18:49:33\",\"1970-01-01T21:09:51\",\"1970-01-01T21:09:51\",\"1970-01-01T21:43:11\",\"1970-01-01T21:43:11\",\"1970-01-01T21:43:11\",\"1970-01-01T00:35:09\",\"1970-01-01T00:35:09\",\"1970-01-01T01:08:29\",\"1970-01-01T01:08:29\",\"1970-01-01T01:08:29\",\"1970-01-01T02:53:56\",\"1970-01-01T02:53:56\",\"1970-01-01T03:27:16\",\"1970-01-01T03:27:16\",\"1970-01-01T03:27:16\",\"1970-01-01T05:14:20\",\"1970-01-01T05:14:20\",\"1970-01-01T05:47:40\",\"1970-01-01T05:47:40\",\"1970-01-01T05:47:40\",\"1970-01-01T07:33:07\",\"1970-01-01T07:33:07\",\"1970-01-01T08:06:27\",\"1970-01-01T08:06:27\",\"1970-01-01T08:06:27\",\"1970-01-01T09:59:01\",\"1970-01-01T09:59:01\",\"1970-01-01T10:32:21\",\"1970-01-01T10:32:21\",\"1970-01-01T10:32:21\",\"1970-01-01T12:44:45\",\"1970-01-01T12:44:45\",\"1970-01-01T13:18:05\",\"1970-01-01T13:18:05\",\"1970-01-01T13:18:05\",\"1970-01-01T15:30:29\",\"1970-01-01T15:30:29\",\"1970-01-01T16:03:49\",\"1970-01-01T16:03:49\",\"1970-01-01T16:03:49\",\"1970-01-01T18:16:13\",\"1970-01-01T18:16:13\",\"1970-01-01T18:49:33\",\"1970-01-01T18:49:33\",\"1970-01-01T18:49:33\",\"1970-01-01T21:09:51\",\"1970-01-01T21:09:51\",\"1970-01-01T21:43:11\",\"1970-01-01T21:43:11\",\"1970-01-01T21:43:11\"],\"y\":[\"Carrier B\",\"Carrier B\",\"Carrier B\",\"Carrier B\",null,\"Carrier B\",\"Carrier B\",\"Carrier B\",\"Carrier B\",null,\"Carrier B\",\"Carrier B\",\"Carrier B\",\"Carrier B\",null,\"Carrier B\",\"Carrier B\",\"Carrier B\",\"Carrier B\",null,\"Carrier B\",\"Carrier B\",\"Carrier B\",\"Carrier B\",null,\"Carrier B\",\"Carrier B\",\"Carrier B\",\"Carrier B\",null,\"Carrier B\",\"Carrier B\",\"Carrier B\",\"Carrier B\",null,\"Carrier B\",\"Carrier B\",\"Carrier B\",\"Carrier B\",null,\"Carrier B\",\"Carrier B\",\"Carrier B\",\"Carrier B\",null,\"Cutter T\",\"Cutter T\",\"Cutter T\",\"Cutter T\",null,\"Cutter T\",\"Cutter T\",\"Cutter T\",\"Cutter T\",null,\"Cutter T\",\"Cutter T\",\"Cutter T\",\"Cutter T\",null,\"Cutter T\",\"Cutter T\",\"Cutter T\",\"Cutter T\",null,\"Cutter T\",\"Cutter T\",\"Cutter T\",\"Cutter T\",null,\"Cutter T\",\"Cutter T\",\"Cutter T\",\"Cutter T\",null,\"Cutter T\",\"Cutter T\",\"Cutter T\",\"Cutter T\",null,\"Cutter T\",\"Cutter T\",\"Cutter T\",\"Cutter T\",null,\"Cutter T\",\"Cutter T\",\"Cutter T\",\"Cutter T\",null],\"type\":\"scatter\"},{\"connectgaps\":false,\"hoverinfo\":\"y+name\",\"line\":{\"color\":\"rgb(241,142,44)\",\"width\":10},\"mode\":\"lines\",\"name\":\"sailing full:Carrier B\",\"x\":[\"1970-01-01T01:08:29\",\"1970-01-01T01:08:29\",\"1970-01-01T01:43:38\",\"1970-01-01T01:43:38\",\"1970-01-01T01:43:38\",\"1970-01-01T03:27:16\",\"1970-01-01T03:27:16\",\"1970-01-01T04:02:25\",\"1970-01-01T04:02:25\",\"1970-01-01T04:02:25\",\"1970-01-01T05:47:40\",\"1970-01-01T05:47:40\",\"1970-01-01T06:22:49\",\"1970-01-01T06:22:49\",\"1970-01-01T06:22:49\",\"1970-01-01T08:06:27\",\"1970-01-01T08:06:27\",\"1970-01-01T08:41:36\",\"1970-01-01T08:41:36\",\"1970-01-01T08:41:36\",\"1970-01-01T10:32:21\",\"1970-01-01T10:32:21\",\"1970-01-01T11:07:30\",\"1970-01-01T11:07:30\",\"1970-01-01T11:07:30\",\"1970-01-01T13:18:05\",\"1970-01-01T13:18:05\",\"1970-01-01T13:53:14\",\"1970-01-01T13:53:14\",\"1970-01-01T13:53:14\",\"1970-01-01T16:03:49\",\"1970-01-01T16:03:49\",\"1970-01-01T16:38:58\",\"1970-01-01T16:38:58\",\"1970-01-01T16:38:58\",\"1970-01-01T18:49:33\",\"1970-01-01T18:49:33\",\"1970-01-01T19:24:42\",\"1970-01-01T19:24:42\",\"1970-01-01T19:24:42\",\"1970-01-01T21:43:11\",\"1970-01-01T21:43:11\",\"1970-01-01T22:18:20\",\"1970-01-01T22:18:20\",\"1970-01-01T22:18:20\"],\"y\":[\"Carrier B\",\"Carrier B\",\"Carrier B\",\"Carrier B\",null,\"Carrier B\",\"Carrier B\",\"Carrier B\",\"Carrier B\",null,\"Carrier B\",\"Carrier B\",\"Carrier B\",\"Carrier B\",null,\"Carrier B\",\"Carrier B\",\"Carrier B\",\"Carrier B\",null,\"Carrier B\",\"Carrier B\",\"Carrier B\",\"Carrier B\",null,\"Carrier B\",\"Carrier B\",\"Carrier B\",\"Carrier B\",null,\"Carrier B\",\"Carrier B\",\"Carrier B\",\"Carrier B\",null,\"Carrier B\",\"Carrier B\",\"Carrier B\",\"Carrier B\",null,\"Carrier B\",\"Carrier B\",\"Carrier B\",\"Carrier B\",null],\"type\":\"scatter\"},{\"connectgaps\":false,\"hoverinfo\":\"y+name\",\"line\":{\"color\":\"rgb(2,159,61)\",\"width\":10},\"mode\":\"lines\",\"name\":\"sailing full:Carrier C\",\"x\":[\"1970-01-01T01:41:49\",\"1970-01-01T01:41:49\",\"1970-01-01T02:25:57\",\"1970-01-01T02:25:57\",\"1970-01-01T02:25:57\",\"1970-01-01T04:27:33\",\"1970-01-01T04:27:33\",\"1970-01-01T05:11:41\",\"1970-01-01T05:11:41\",\"1970-01-01T05:11:41\",\"1970-01-01T07:13:17\",\"1970-01-01T07:13:17\",\"1970-01-01T07:57:25\",\"1970-01-01T07:57:25\",\"1970-01-01T07:57:25\",\"1970-01-01T09:59:01\",\"1970-01-01T09:59:01\",\"1970-01-01T10:43:09\",\"1970-01-01T10:43:09\",\"1970-01-01T10:43:09\",\"1970-01-01T12:44:45\",\"1970-01-01T12:44:45\",\"1970-01-01T13:28:53\",\"1970-01-01T13:28:53\",\"1970-01-01T13:28:53\",\"1970-01-01T15:30:29\",\"1970-01-01T15:30:29\",\"1970-01-01T16:14:37\",\"1970-01-01T16:14:37\",\"1970-01-01T16:14:37\",\"1970-01-01T18:16:13\",\"1970-01-01T18:16:13\",\"1970-01-01T19:00:21\",\"1970-01-01T19:00:21\",\"1970-01-01T19:00:21\",\"1970-01-01T21:09:51\",\"1970-01-01T21:09:51\",\"1970-01-01T21:53:59\",\"1970-01-01T21:53:59\",\"1970-01-01T21:53:59\"],\"y\":[\"Carrier C\",\"Carrier C\",\"Carrier C\",\"Carrier C\",null,\"Carrier C\",\"Carrier C\",\"Carrier C\",\"Carrier C\",null,\"Carrier C\",\"Carrier C\",\"Carrier C\",\"Carrier C\",null,\"Carrier C\",\"Carrier C\",\"Carrier C\",\"Carrier C\",null,\"Carrier C\",\"Carrier C\",\"Carrier C\",\"Carrier C\",null,\"Carrier C\",\"Carrier C\",\"Carrier C\",\"Carrier C\",null,\"Carrier C\",\"Carrier C\",\"Carrier C\",\"Carrier C\",null,\"Carrier C\",\"Carrier C\",\"Carrier C\",\"Carrier C\",null],\"type\":\"scatter\"},{\"connectgaps\":false,\"hoverinfo\":\"y+name\",\"line\":{\"color\":\"rgb(19,176,78)\",\"width\":10},\"mode\":\"lines\",\"name\":\"loading:Carrier C\",\"x\":[\"1970-01-01T01:08:29\",\"1970-01-01T01:08:29\",\"1970-01-01T01:41:49\",\"1970-01-01T01:41:49\",\"1970-01-01T01:41:49\",\"1970-01-01T03:54:13\",\"1970-01-01T03:54:13\",\"1970-01-01T04:27:33\",\"1970-01-01T04:27:33\",\"1970-01-01T04:27:33\",\"1970-01-01T06:39:57\",\"1970-01-01T06:39:57\",\"1970-01-01T07:13:17\",\"1970-01-01T07:13:17\",\"1970-01-01T07:13:17\",\"1970-01-01T09:25:41\",\"1970-01-01T09:25:41\",\"1970-01-01T09:59:01\",\"1970-01-01T09:59:01\",\"1970-01-01T09:59:01\",\"1970-01-01T12:11:25\",\"1970-01-01T12:11:25\",\"1970-01-01T12:44:45\",\"1970-01-01T12:44:45\",\"1970-01-01T12:44:45\",\"1970-01-01T14:57:09\",\"1970-01-01T14:57:09\",\"1970-01-01T15:30:29\",\"1970-01-01T15:30:29\",\"1970-01-01T15:30:29\",\"1970-01-01T17:42:53\",\"1970-01-01T17:42:53\",\"1970-01-01T18:16:13\",\"1970-01-01T18:16:13\",\"1970-01-01T18:16:13\",\"1970-01-01T20:36:31\",\"1970-01-01T20:36:31\",\"1970-01-01T21:09:51\",\"1970-01-01T21:09:51\",\"1970-01-01T21:09:51\",\"1970-01-01T01:08:29\",\"1970-01-01T01:08:29\",\"1970-01-01T01:41:49\",\"1970-01-01T01:41:49\",\"1970-01-01T01:41:49\",\"1970-01-01T03:54:13\",\"1970-01-01T03:54:13\",\"1970-01-01T04:27:33\",\"1970-01-01T04:27:33\",\"1970-01-01T04:27:33\",\"1970-01-01T06:39:57\",\"1970-01-01T06:39:57\",\"1970-01-01T07:13:17\",\"1970-01-01T07:13:17\",\"1970-01-01T07:13:17\",\"1970-01-01T09:25:41\",\"1970-01-01T09:25:41\",\"1970-01-01T09:59:01\",\"1970-01-01T09:59:01\",\"1970-01-01T09:59:01\",\"1970-01-01T12:11:25\",\"1970-01-01T12:11:25\",\"1970-01-01T12:44:45\",\"1970-01-01T12:44:45\",\"1970-01-01T12:44:45\",\"1970-01-01T14:57:09\",\"1970-01-01T14:57:09\",\"1970-01-01T15:30:29\",\"1970-01-01T15:30:29\",\"1970-01-01T15:30:29\",\"1970-01-01T17:42:53\",\"1970-01-01T17:42:53\",\"1970-01-01T18:16:13\",\"1970-01-01T18:16:13\",\"1970-01-01T18:16:13\",\"1970-01-01T20:36:31\",\"1970-01-01T20:36:31\",\"1970-01-01T21:09:51\",\"1970-01-01T21:09:51\",\"1970-01-01T21:09:51\"],\"y\":[\"Carrier C\",\"Carrier C\",\"Carrier C\",\"Carrier C\",null,\"Carrier C\",\"Carrier C\",\"Carrier C\",\"Carrier C\",null,\"Carrier C\",\"Carrier C\",\"Carrier C\",\"Carrier C\",null,\"Carrier C\",\"Carrier C\",\"Carrier C\",\"Carrier C\",null,\"Carrier C\",\"Carrier C\",\"Carrier C\",\"Carrier C\",null,\"Carrier C\",\"Carrier C\",\"Carrier C\",\"Carrier C\",null,\"Carrier C\",\"Carrier C\",\"Carrier C\",\"Carrier C\",null,\"Carrier C\",\"Carrier C\",\"Carrier C\",\"Carrier C\",null,\"Cutter T\",\"Cutter T\",\"Cutter T\",\"Cutter T\",null,\"Cutter T\",\"Cutter T\",\"Cutter T\",\"Cutter T\",null,\"Cutter T\",\"Cutter T\",\"Cutter T\",\"Cutter T\",null,\"Cutter T\",\"Cutter T\",\"Cutter T\",\"Cutter T\",null,\"Cutter T\",\"Cutter T\",\"Cutter T\",\"Cutter T\",null,\"Cutter T\",\"Cutter T\",\"Cutter T\",\"Cutter T\",null,\"Cutter T\",\"Cutter T\",\"Cutter T\",\"Cutter T\",null,\"Cutter T\",\"Cutter T\",\"Cutter T\",\"Cutter T\",null],\"type\":\"scatter\"},{\"connectgaps\":false,\"hoverinfo\":\"y+name\",\"line\":{\"color\":\"rgb(36,193,95)\",\"width\":10},\"mode\":\"lines\",\"name\":\"unloading:Carrier C\",\"x\":[\"1970-01-01T02:25:57\",\"1970-01-01T02:25:57\",\"1970-01-01T03:10:05\",\"1970-01-01T03:10:05\",\"1970-01-01T03:10:05\",\"1970-01-01T05:11:41\",\"1970-01-01T05:11:41\",\"1970-01-01T05:55:49\",\"1970-01-01T05:55:49\",\"1970-01-01T05:55:49\",\"1970-01-01T07:57:25\",\"1970-01-01T07:57:25\",\"1970-01-01T08:41:33\",\"1970-01-01T08:41:33\",\"1970-01-01T08:41:33\",\"1970-01-01T10:43:09\",\"1970-01-01T10:43:09\",\"1970-01-01T11:27:17\",\"1970-01-01T11:27:17\",\"1970-01-01T11:27:17\",\"1970-01-01T13:28:53\",\"1970-01-01T13:28:53\",\"1970-01-01T14:13:01\",\"1970-01-01T14:13:01\",\"1970-01-01T14:13:01\",\"1970-01-01T16:14:37\",\"1970-01-01T16:14:37\",\"1970-01-01T16:58:45\",\"1970-01-01T16:58:45\",\"1970-01-01T16:58:45\",\"1970-01-01T19:00:21\",\"1970-01-01T19:00:21\",\"1970-01-01T19:44:29\",\"1970-01-01T19:44:29\",\"1970-01-01T19:44:29\",\"1970-01-01T21:53:59\",\"1970-01-01T21:53:59\",\"1970-01-01T22:38:07\",\"1970-01-01T22:38:07\",\"1970-01-01T22:38:07\"],\"y\":[\"Carrier C\",\"Carrier C\",\"Carrier C\",\"Carrier C\",null,\"Carrier C\",\"Carrier C\",\"Carrier C\",\"Carrier C\",null,\"Carrier C\",\"Carrier C\",\"Carrier C\",\"Carrier C\",null,\"Carrier C\",\"Carrier C\",\"Carrier C\",\"Carrier C\",null,\"Carrier C\",\"Carrier C\",\"Carrier C\",\"Carrier C\",null,\"Carrier C\",\"Carrier C\",\"Carrier C\",\"Carrier C\",null,\"Carrier C\",\"Carrier C\",\"Carrier C\",\"Carrier C\",null,\"Carrier C\",\"Carrier C\",\"Carrier C\",\"Carrier C\",null],\"type\":\"scatter\"},{\"connectgaps\":false,\"hoverinfo\":\"y+name\",\"line\":{\"color\":\"rgb(53,210,112)\",\"width\":10},\"mode\":\"lines\",\"name\":\"sailing empty:Carrier C\",\"x\":[\"1970-01-01T00:00:00\",\"1970-01-01T00:00:00\",\"1970-01-01T00:44:08\",\"1970-01-01T00:44:08\",\"1970-01-01T00:44:08\",\"1970-01-01T03:10:05\",\"1970-01-01T03:10:05\",\"1970-01-01T03:54:13\",\"1970-01-01T03:54:13\",\"1970-01-01T03:54:13\",\"1970-01-01T05:55:49\",\"1970-01-01T05:55:49\",\"1970-01-01T06:39:57\",\"1970-01-01T06:39:57\",\"1970-01-01T06:39:57\",\"1970-01-01T08:41:33\",\"1970-01-01T08:41:33\",\"1970-01-01T09:25:41\",\"1970-01-01T09:25:41\",\"1970-01-01T09:25:41\",\"1970-01-01T11:27:17\",\"1970-01-01T11:27:17\",\"1970-01-01T12:11:25\",\"1970-01-01T12:11:25\",\"1970-01-01T12:11:25\",\"1970-01-01T14:13:01\",\"1970-01-01T14:13:01\",\"1970-01-01T14:57:09\",\"1970-01-01T14:57:09\",\"1970-01-01T14:57:09\",\"1970-01-01T16:58:45\",\"1970-01-01T16:58:45\",\"1970-01-01T17:42:53\",\"1970-01-01T17:42:53\",\"1970-01-01T17:42:53\",\"1970-01-01T19:44:29\",\"1970-01-01T19:44:29\",\"1970-01-01T20:28:37\",\"1970-01-01T20:28:37\",\"1970-01-01T20:28:37\"],\"y\":[\"Carrier C\",\"Carrier C\",\"Carrier C\",\"Carrier C\",null,\"Carrier C\",\"Carrier C\",\"Carrier C\",\"Carrier C\",null,\"Carrier C\",\"Carrier C\",\"Carrier C\",\"Carrier C\",null,\"Carrier C\",\"Carrier C\",\"Carrier C\",\"Carrier C\",null,\"Carrier C\",\"Carrier C\",\"Carrier C\",\"Carrier C\",null,\"Carrier C\",\"Carrier C\",\"Carrier C\",\"Carrier C\",null,\"Carrier C\",\"Carrier C\",\"Carrier C\",\"Carrier C\",null,\"Carrier C\",\"Carrier C\",\"Carrier C\",\"Carrier C\",null],\"type\":\"scatter\"},{\"connectgaps\":false,\"hoverinfo\":\"y+name\",\"line\":{\"color\":\"rgb(70,227,129)\",\"width\":10},\"mode\":\"lines\",\"name\":\"loading:Carrier A\",\"x\":[\"1970-01-01T01:41:49\",\"1970-01-01T01:41:49\",\"1970-01-01T02:15:09\",\"1970-01-01T02:15:09\",\"1970-01-01T02:15:09\",\"1970-01-01T04:41:00\",\"1970-01-01T04:41:00\",\"1970-01-01T05:14:20\",\"1970-01-01T05:14:20\",\"1970-01-01T05:14:20\",\"1970-01-01T08:06:27\",\"1970-01-01T08:06:27\",\"1970-01-01T08:39:47\",\"1970-01-01T08:39:47\",\"1970-01-01T08:39:47\",\"1970-01-01T11:05:38\",\"1970-01-01T11:05:38\",\"1970-01-01T11:38:58\",\"1970-01-01T11:38:58\",\"1970-01-01T11:38:58\",\"1970-01-01T14:04:49\",\"1970-01-01T14:04:49\",\"1970-01-01T14:38:09\",\"1970-01-01T14:38:09\",\"1970-01-01T14:38:09\",\"1970-01-01T17:04:00\",\"1970-01-01T17:04:00\",\"1970-01-01T17:37:20\",\"1970-01-01T17:37:20\",\"1970-01-01T17:37:20\",\"1970-01-01T20:03:11\",\"1970-01-01T20:03:11\",\"1970-01-01T20:36:31\",\"1970-01-01T20:36:31\",\"1970-01-01T20:36:31\",\"1970-01-01T23:02:22\",\"1970-01-01T23:02:22\",\"1970-01-01T23:35:42\",\"1970-01-01T23:35:42\",\"1970-01-01T23:35:42\",\"1970-01-01T01:41:49\",\"1970-01-01T01:41:49\",\"1970-01-01T02:15:09\",\"1970-01-01T02:15:09\",\"1970-01-01T02:15:09\",\"1970-01-01T04:41:00\",\"1970-01-01T04:41:00\",\"1970-01-01T05:14:20\",\"1970-01-01T05:14:20\",\"1970-01-01T05:14:20\",\"1970-01-01T08:06:27\",\"1970-01-01T08:06:27\",\"1970-01-01T08:39:47\",\"1970-01-01T08:39:47\",\"1970-01-01T08:39:47\",\"1970-01-01T11:05:38\",\"1970-01-01T11:05:38\",\"1970-01-01T11:38:58\",\"1970-01-01T11:38:58\",\"1970-01-01T11:38:58\",\"1970-01-01T14:04:49\",\"1970-01-01T14:04:49\",\"1970-01-01T14:38:09\",\"1970-01-01T14:38:09\",\"1970-01-01T14:38:09\",\"1970-01-01T17:04:00\",\"1970-01-01T17:04:00\",\"1970-01-01T17:37:20\",\"1970-01-01T17:37:20\",\"1970-01-01T17:37:20\",\"1970-01-01T20:03:11\",\"1970-01-01T20:03:11\",\"1970-01-01T20:36:31\",\"1970-01-01T20:36:31\",\"1970-01-01T20:36:31\",\"1970-01-01T23:02:22\",\"1970-01-01T23:02:22\",\"1970-01-01T23:35:42\",\"1970-01-01T23:35:42\",\"1970-01-01T23:35:42\"],\"y\":[\"Carrier A\",\"Carrier A\",\"Carrier A\",\"Carrier A\",null,\"Carrier A\",\"Carrier A\",\"Carrier A\",\"Carrier A\",null,\"Carrier A\",\"Carrier A\",\"Carrier A\",\"Carrier A\",null,\"Carrier A\",\"Carrier A\",\"Carrier A\",\"Carrier A\",null,\"Carrier A\",\"Carrier A\",\"Carrier A\",\"Carrier A\",null,\"Carrier A\",\"Carrier A\",\"Carrier A\",\"Carrier A\",null,\"Carrier A\",\"Carrier A\",\"Carrier A\",\"Carrier A\",null,\"Carrier A\",\"Carrier A\",\"Carrier A\",\"Carrier A\",null,\"Cutter T\",\"Cutter T\",\"Cutter T\",\"Cutter T\",null,\"Cutter T\",\"Cutter T\",\"Cutter T\",\"Cutter T\",null,\"Cutter T\",\"Cutter T\",\"Cutter T\",\"Cutter T\",null,\"Cutter T\",\"Cutter T\",\"Cutter T\",\"Cutter T\",null,\"Cutter T\",\"Cutter T\",\"Cutter T\",\"Cutter T\",null,\"Cutter T\",\"Cutter T\",\"Cutter T\",\"Cutter T\",null,\"Cutter T\",\"Cutter T\",\"Cutter T\",\"Cutter T\",null,\"Cutter T\",\"Cutter T\",\"Cutter T\",\"Cutter T\",null],\"type\":\"scatter\"},{\"connectgaps\":false,\"hoverinfo\":\"y+name\",\"line\":{\"color\":\"rgb(87,244,146)\",\"width\":10},\"mode\":\"lines\",\"name\":\"loading:Carrier C\",\"x\":[\"1970-01-01T01:08:29\",\"1970-01-01T01:08:29\",\"1970-01-01T01:41:49\",\"1970-01-01T01:41:49\",\"1970-01-01T01:41:49\",\"1970-01-01T03:54:13\",\"1970-01-01T03:54:13\",\"1970-01-01T04:27:33\",\"1970-01-01T04:27:33\",\"1970-01-01T04:27:33\",\"1970-01-01T06:39:57\",\"1970-01-01T06:39:57\",\"1970-01-01T07:13:17\",\"1970-01-01T07:13:17\",\"1970-01-01T07:13:17\",\"1970-01-01T09:25:41\",\"1970-01-01T09:25:41\",\"1970-01-01T09:59:01\",\"1970-01-01T09:59:01\",\"1970-01-01T09:59:01\",\"1970-01-01T12:11:25\",\"1970-01-01T12:11:25\",\"1970-01-01T12:44:45\",\"1970-01-01T12:44:45\",\"1970-01-01T12:44:45\",\"1970-01-01T14:57:09\",\"1970-01-01T14:57:09\",\"1970-01-01T15:30:29\",\"1970-01-01T15:30:29\",\"1970-01-01T15:30:29\",\"1970-01-01T17:42:53\",\"1970-01-01T17:42:53\",\"1970-01-01T18:16:13\",\"1970-01-01T18:16:13\",\"1970-01-01T18:16:13\",\"1970-01-01T20:36:31\",\"1970-01-01T20:36:31\",\"1970-01-01T21:09:51\",\"1970-01-01T21:09:51\",\"1970-01-01T21:09:51\",\"1970-01-01T01:08:29\",\"1970-01-01T01:08:29\",\"1970-01-01T01:41:49\",\"1970-01-01T01:41:49\",\"1970-01-01T01:41:49\",\"1970-01-01T03:54:13\",\"1970-01-01T03:54:13\",\"1970-01-01T04:27:33\",\"1970-01-01T04:27:33\",\"1970-01-01T04:27:33\",\"1970-01-01T06:39:57\",\"1970-01-01T06:39:57\",\"1970-01-01T07:13:17\",\"1970-01-01T07:13:17\",\"1970-01-01T07:13:17\",\"1970-01-01T09:25:41\",\"1970-01-01T09:25:41\",\"1970-01-01T09:59:01\",\"1970-01-01T09:59:01\",\"1970-01-01T09:59:01\",\"1970-01-01T12:11:25\",\"1970-01-01T12:11:25\",\"1970-01-01T12:44:45\",\"1970-01-01T12:44:45\",\"1970-01-01T12:44:45\",\"1970-01-01T14:57:09\",\"1970-01-01T14:57:09\",\"1970-01-01T15:30:29\",\"1970-01-01T15:30:29\",\"1970-01-01T15:30:29\",\"1970-01-01T17:42:53\",\"1970-01-01T17:42:53\",\"1970-01-01T18:16:13\",\"1970-01-01T18:16:13\",\"1970-01-01T18:16:13\",\"1970-01-01T20:36:31\",\"1970-01-01T20:36:31\",\"1970-01-01T21:09:51\",\"1970-01-01T21:09:51\",\"1970-01-01T21:09:51\"],\"y\":[\"Carrier C\",\"Carrier C\",\"Carrier C\",\"Carrier C\",null,\"Carrier C\",\"Carrier C\",\"Carrier C\",\"Carrier C\",null,\"Carrier C\",\"Carrier C\",\"Carrier C\",\"Carrier C\",null,\"Carrier C\",\"Carrier C\",\"Carrier C\",\"Carrier C\",null,\"Carrier C\",\"Carrier C\",\"Carrier C\",\"Carrier C\",null,\"Carrier C\",\"Carrier C\",\"Carrier C\",\"Carrier C\",null,\"Carrier C\",\"Carrier C\",\"Carrier C\",\"Carrier C\",null,\"Carrier C\",\"Carrier C\",\"Carrier C\",\"Carrier C\",null,\"Cutter T\",\"Cutter T\",\"Cutter T\",\"Cutter T\",null,\"Cutter T\",\"Cutter T\",\"Cutter T\",\"Cutter T\",null,\"Cutter T\",\"Cutter T\",\"Cutter T\",\"Cutter T\",null,\"Cutter T\",\"Cutter T\",\"Cutter T\",\"Cutter T\",null,\"Cutter T\",\"Cutter T\",\"Cutter T\",\"Cutter T\",null,\"Cutter T\",\"Cutter T\",\"Cutter T\",\"Cutter T\",null,\"Cutter T\",\"Cutter T\",\"Cutter T\",\"Cutter T\",null,\"Cutter T\",\"Cutter T\",\"Cutter T\",\"Cutter T\",null],\"type\":\"scatter\"},{\"connectgaps\":false,\"hoverinfo\":\"y+name\",\"line\":{\"color\":\"rgb(104,5,163)\",\"width\":10},\"mode\":\"lines\",\"name\":\"loading:Carrier B\",\"x\":[\"1970-01-01T00:35:09\",\"1970-01-01T00:35:09\",\"1970-01-01T01:08:29\",\"1970-01-01T01:08:29\",\"1970-01-01T01:08:29\",\"1970-01-01T02:53:56\",\"1970-01-01T02:53:56\",\"1970-01-01T03:27:16\",\"1970-01-01T03:27:16\",\"1970-01-01T03:27:16\",\"1970-01-01T05:14:20\",\"1970-01-01T05:14:20\",\"1970-01-01T05:47:40\",\"1970-01-01T05:47:40\",\"1970-01-01T05:47:40\",\"1970-01-01T07:33:07\",\"1970-01-01T07:33:07\",\"1970-01-01T08:06:27\",\"1970-01-01T08:06:27\",\"1970-01-01T08:06:27\",\"1970-01-01T09:59:01\",\"1970-01-01T09:59:01\",\"1970-01-01T10:32:21\",\"1970-01-01T10:32:21\",\"1970-01-01T10:32:21\",\"1970-01-01T12:44:45\",\"1970-01-01T12:44:45\",\"1970-01-01T13:18:05\",\"1970-01-01T13:18:05\",\"1970-01-01T13:18:05\",\"1970-01-01T15:30:29\",\"1970-01-01T15:30:29\",\"1970-01-01T16:03:49\",\"1970-01-01T16:03:49\",\"1970-01-01T16:03:49\",\"1970-01-01T18:16:13\",\"1970-01-01T18:16:13\",\"1970-01-01T18:49:33\",\"1970-01-01T18:49:33\",\"1970-01-01T18:49:33\",\"1970-01-01T21:09:51\",\"1970-01-01T21:09:51\",\"1970-01-01T21:43:11\",\"1970-01-01T21:43:11\",\"1970-01-01T21:43:11\",\"1970-01-01T00:35:09\",\"1970-01-01T00:35:09\",\"1970-01-01T01:08:29\",\"1970-01-01T01:08:29\",\"1970-01-01T01:08:29\",\"1970-01-01T02:53:56\",\"1970-01-01T02:53:56\",\"1970-01-01T03:27:16\",\"1970-01-01T03:27:16\",\"1970-01-01T03:27:16\",\"1970-01-01T05:14:20\",\"1970-01-01T05:14:20\",\"1970-01-01T05:47:40\",\"1970-01-01T05:47:40\",\"1970-01-01T05:47:40\",\"1970-01-01T07:33:07\",\"1970-01-01T07:33:07\",\"1970-01-01T08:06:27\",\"1970-01-01T08:06:27\",\"1970-01-01T08:06:27\",\"1970-01-01T09:59:01\",\"1970-01-01T09:59:01\",\"1970-01-01T10:32:21\",\"1970-01-01T10:32:21\",\"1970-01-01T10:32:21\",\"1970-01-01T12:44:45\",\"1970-01-01T12:44:45\",\"1970-01-01T13:18:05\",\"1970-01-01T13:18:05\",\"1970-01-01T13:18:05\",\"1970-01-01T15:30:29\",\"1970-01-01T15:30:29\",\"1970-01-01T16:03:49\",\"1970-01-01T16:03:49\",\"1970-01-01T16:03:49\",\"1970-01-01T18:16:13\",\"1970-01-01T18:16:13\",\"1970-01-01T18:49:33\",\"1970-01-01T18:49:33\",\"1970-01-01T18:49:33\",\"1970-01-01T21:09:51\",\"1970-01-01T21:09:51\",\"1970-01-01T21:43:11\",\"1970-01-01T21:43:11\",\"1970-01-01T21:43:11\"],\"y\":[\"Carrier B\",\"Carrier B\",\"Carrier B\",\"Carrier B\",null,\"Carrier B\",\"Carrier B\",\"Carrier B\",\"Carrier B\",null,\"Carrier B\",\"Carrier B\",\"Carrier B\",\"Carrier B\",null,\"Carrier B\",\"Carrier B\",\"Carrier B\",\"Carrier B\",null,\"Carrier B\",\"Carrier B\",\"Carrier B\",\"Carrier B\",null,\"Carrier B\",\"Carrier B\",\"Carrier B\",\"Carrier B\",null,\"Carrier B\",\"Carrier B\",\"Carrier B\",\"Carrier B\",null,\"Carrier B\",\"Carrier B\",\"Carrier B\",\"Carrier B\",null,\"Carrier B\",\"Carrier B\",\"Carrier B\",\"Carrier B\",null,\"Cutter T\",\"Cutter T\",\"Cutter T\",\"Cutter T\",null,\"Cutter T\",\"Cutter T\",\"Cutter T\",\"Cutter T\",null,\"Cutter T\",\"Cutter T\",\"Cutter T\",\"Cutter T\",null,\"Cutter T\",\"Cutter T\",\"Cutter T\",\"Cutter T\",null,\"Cutter T\",\"Cutter T\",\"Cutter T\",\"Cutter T\",null,\"Cutter T\",\"Cutter T\",\"Cutter T\",\"Cutter T\",null,\"Cutter T\",\"Cutter T\",\"Cutter T\",\"Cutter T\",null,\"Cutter T\",\"Cutter T\",\"Cutter T\",\"Cutter T\",null,\"Cutter T\",\"Cutter T\",\"Cutter T\",\"Cutter T\",null],\"type\":\"scatter\"}],                        {\"hovermode\":\"closest\",\"legend\":{\"orientation\":\"h\",\"x\":0,\"y\":-0.2},\"template\":{\"data\":{\"barpolar\":[{\"marker\":{\"line\":{\"color\":\"#E5ECF6\",\"width\":0.5},\"pattern\":{\"fillmode\":\"overlay\",\"size\":10,\"solidity\":0.2}},\"type\":\"barpolar\"}],\"bar\":[{\"error_x\":{\"color\":\"#2a3f5f\"},\"error_y\":{\"color\":\"#2a3f5f\"},\"marker\":{\"line\":{\"color\":\"#E5ECF6\",\"width\":0.5},\"pattern\":{\"fillmode\":\"overlay\",\"size\":10,\"solidity\":0.2}},\"type\":\"bar\"}],\"carpet\":[{\"aaxis\":{\"endlinecolor\":\"#2a3f5f\",\"gridcolor\":\"white\",\"linecolor\":\"white\",\"minorgridcolor\":\"white\",\"startlinecolor\":\"#2a3f5f\"},\"baxis\":{\"endlinecolor\":\"#2a3f5f\",\"gridcolor\":\"white\",\"linecolor\":\"white\",\"minorgridcolor\":\"white\",\"startlinecolor\":\"#2a3f5f\"},\"type\":\"carpet\"}],\"choropleth\":[{\"colorbar\":{\"outlinewidth\":0,\"ticks\":\"\"},\"type\":\"choropleth\"}],\"contourcarpet\":[{\"colorbar\":{\"outlinewidth\":0,\"ticks\":\"\"},\"type\":\"contourcarpet\"}],\"contour\":[{\"colorbar\":{\"outlinewidth\":0,\"ticks\":\"\"},\"colorscale\":[[0.0,\"#0d0887\"],[0.1111111111111111,\"#46039f\"],[0.2222222222222222,\"#7201a8\"],[0.3333333333333333,\"#9c179e\"],[0.4444444444444444,\"#bd3786\"],[0.5555555555555556,\"#d8576b\"],[0.6666666666666666,\"#ed7953\"],[0.7777777777777778,\"#fb9f3a\"],[0.8888888888888888,\"#fdca26\"],[1.0,\"#f0f921\"]],\"type\":\"contour\"}],\"heatmapgl\":[{\"colorbar\":{\"outlinewidth\":0,\"ticks\":\"\"},\"colorscale\":[[0.0,\"#0d0887\"],[0.1111111111111111,\"#46039f\"],[0.2222222222222222,\"#7201a8\"],[0.3333333333333333,\"#9c179e\"],[0.4444444444444444,\"#bd3786\"],[0.5555555555555556,\"#d8576b\"],[0.6666666666666666,\"#ed7953\"],[0.7777777777777778,\"#fb9f3a\"],[0.8888888888888888,\"#fdca26\"],[1.0,\"#f0f921\"]],\"type\":\"heatmapgl\"}],\"heatmap\":[{\"colorbar\":{\"outlinewidth\":0,\"ticks\":\"\"},\"colorscale\":[[0.0,\"#0d0887\"],[0.1111111111111111,\"#46039f\"],[0.2222222222222222,\"#7201a8\"],[0.3333333333333333,\"#9c179e\"],[0.4444444444444444,\"#bd3786\"],[0.5555555555555556,\"#d8576b\"],[0.6666666666666666,\"#ed7953\"],[0.7777777777777778,\"#fb9f3a\"],[0.8888888888888888,\"#fdca26\"],[1.0,\"#f0f921\"]],\"type\":\"heatmap\"}],\"histogram2dcontour\":[{\"colorbar\":{\"outlinewidth\":0,\"ticks\":\"\"},\"colorscale\":[[0.0,\"#0d0887\"],[0.1111111111111111,\"#46039f\"],[0.2222222222222222,\"#7201a8\"],[0.3333333333333333,\"#9c179e\"],[0.4444444444444444,\"#bd3786\"],[0.5555555555555556,\"#d8576b\"],[0.6666666666666666,\"#ed7953\"],[0.7777777777777778,\"#fb9f3a\"],[0.8888888888888888,\"#fdca26\"],[1.0,\"#f0f921\"]],\"type\":\"histogram2dcontour\"}],\"histogram2d\":[{\"colorbar\":{\"outlinewidth\":0,\"ticks\":\"\"},\"colorscale\":[[0.0,\"#0d0887\"],[0.1111111111111111,\"#46039f\"],[0.2222222222222222,\"#7201a8\"],[0.3333333333333333,\"#9c179e\"],[0.4444444444444444,\"#bd3786\"],[0.5555555555555556,\"#d8576b\"],[0.6666666666666666,\"#ed7953\"],[0.7777777777777778,\"#fb9f3a\"],[0.8888888888888888,\"#fdca26\"],[1.0,\"#f0f921\"]],\"type\":\"histogram2d\"}],\"histogram\":[{\"marker\":{\"pattern\":{\"fillmode\":\"overlay\",\"size\":10,\"solidity\":0.2}},\"type\":\"histogram\"}],\"mesh3d\":[{\"colorbar\":{\"outlinewidth\":0,\"ticks\":\"\"},\"type\":\"mesh3d\"}],\"parcoords\":[{\"line\":{\"colorbar\":{\"outlinewidth\":0,\"ticks\":\"\"}},\"type\":\"parcoords\"}],\"pie\":[{\"automargin\":true,\"type\":\"pie\"}],\"scatter3d\":[{\"line\":{\"colorbar\":{\"outlinewidth\":0,\"ticks\":\"\"}},\"marker\":{\"colorbar\":{\"outlinewidth\":0,\"ticks\":\"\"}},\"type\":\"scatter3d\"}],\"scattercarpet\":[{\"marker\":{\"colorbar\":{\"outlinewidth\":0,\"ticks\":\"\"}},\"type\":\"scattercarpet\"}],\"scattergeo\":[{\"marker\":{\"colorbar\":{\"outlinewidth\":0,\"ticks\":\"\"}},\"type\":\"scattergeo\"}],\"scattergl\":[{\"marker\":{\"colorbar\":{\"outlinewidth\":0,\"ticks\":\"\"}},\"type\":\"scattergl\"}],\"scattermapbox\":[{\"marker\":{\"colorbar\":{\"outlinewidth\":0,\"ticks\":\"\"}},\"type\":\"scattermapbox\"}],\"scatterpolargl\":[{\"marker\":{\"colorbar\":{\"outlinewidth\":0,\"ticks\":\"\"}},\"type\":\"scatterpolargl\"}],\"scatterpolar\":[{\"marker\":{\"colorbar\":{\"outlinewidth\":0,\"ticks\":\"\"}},\"type\":\"scatterpolar\"}],\"scatter\":[{\"fillpattern\":{\"fillmode\":\"overlay\",\"size\":10,\"solidity\":0.2},\"type\":\"scatter\"}],\"scatterternary\":[{\"marker\":{\"colorbar\":{\"outlinewidth\":0,\"ticks\":\"\"}},\"type\":\"scatterternary\"}],\"surface\":[{\"colorbar\":{\"outlinewidth\":0,\"ticks\":\"\"},\"colorscale\":[[0.0,\"#0d0887\"],[0.1111111111111111,\"#46039f\"],[0.2222222222222222,\"#7201a8\"],[0.3333333333333333,\"#9c179e\"],[0.4444444444444444,\"#bd3786\"],[0.5555555555555556,\"#d8576b\"],[0.6666666666666666,\"#ed7953\"],[0.7777777777777778,\"#fb9f3a\"],[0.8888888888888888,\"#fdca26\"],[1.0,\"#f0f921\"]],\"type\":\"surface\"}],\"table\":[{\"cells\":{\"fill\":{\"color\":\"#EBF0F8\"},\"line\":{\"color\":\"white\"}},\"header\":{\"fill\":{\"color\":\"#C8D4E3\"},\"line\":{\"color\":\"white\"}},\"type\":\"table\"}]},\"layout\":{\"annotationdefaults\":{\"arrowcolor\":\"#2a3f5f\",\"arrowhead\":0,\"arrowwidth\":1},\"autotypenumbers\":\"strict\",\"coloraxis\":{\"colorbar\":{\"outlinewidth\":0,\"ticks\":\"\"}},\"colorscale\":{\"diverging\":[[0,\"#8e0152\"],[0.1,\"#c51b7d\"],[0.2,\"#de77ae\"],[0.3,\"#f1b6da\"],[0.4,\"#fde0ef\"],[0.5,\"#f7f7f7\"],[0.6,\"#e6f5d0\"],[0.7,\"#b8e186\"],[0.8,\"#7fbc41\"],[0.9,\"#4d9221\"],[1,\"#276419\"]],\"sequential\":[[0.0,\"#0d0887\"],[0.1111111111111111,\"#46039f\"],[0.2222222222222222,\"#7201a8\"],[0.3333333333333333,\"#9c179e\"],[0.4444444444444444,\"#bd3786\"],[0.5555555555555556,\"#d8576b\"],[0.6666666666666666,\"#ed7953\"],[0.7777777777777778,\"#fb9f3a\"],[0.8888888888888888,\"#fdca26\"],[1.0,\"#f0f921\"]],\"sequentialminus\":[[0.0,\"#0d0887\"],[0.1111111111111111,\"#46039f\"],[0.2222222222222222,\"#7201a8\"],[0.3333333333333333,\"#9c179e\"],[0.4444444444444444,\"#bd3786\"],[0.5555555555555556,\"#d8576b\"],[0.6666666666666666,\"#ed7953\"],[0.7777777777777778,\"#fb9f3a\"],[0.8888888888888888,\"#fdca26\"],[1.0,\"#f0f921\"]]},\"colorway\":[\"#636efa\",\"#EF553B\",\"#00cc96\",\"#ab63fa\",\"#FFA15A\",\"#19d3f3\",\"#FF6692\",\"#B6E880\",\"#FF97FF\",\"#FECB52\"],\"font\":{\"color\":\"#2a3f5f\"},\"geo\":{\"bgcolor\":\"white\",\"lakecolor\":\"white\",\"landcolor\":\"#E5ECF6\",\"showlakes\":true,\"showland\":true,\"subunitcolor\":\"white\"},\"hoverlabel\":{\"align\":\"left\"},\"hovermode\":\"closest\",\"mapbox\":{\"style\":\"light\"},\"paper_bgcolor\":\"white\",\"plot_bgcolor\":\"#E5ECF6\",\"polar\":{\"angularaxis\":{\"gridcolor\":\"white\",\"linecolor\":\"white\",\"ticks\":\"\"},\"bgcolor\":\"#E5ECF6\",\"radialaxis\":{\"gridcolor\":\"white\",\"linecolor\":\"white\",\"ticks\":\"\"}},\"scene\":{\"xaxis\":{\"backgroundcolor\":\"#E5ECF6\",\"gridcolor\":\"white\",\"gridwidth\":2,\"linecolor\":\"white\",\"showbackground\":true,\"ticks\":\"\",\"zerolinecolor\":\"white\"},\"yaxis\":{\"backgroundcolor\":\"#E5ECF6\",\"gridcolor\":\"white\",\"gridwidth\":2,\"linecolor\":\"white\",\"showbackground\":true,\"ticks\":\"\",\"zerolinecolor\":\"white\"},\"zaxis\":{\"backgroundcolor\":\"#E5ECF6\",\"gridcolor\":\"white\",\"gridwidth\":2,\"linecolor\":\"white\",\"showbackground\":true,\"ticks\":\"\",\"zerolinecolor\":\"white\"}},\"shapedefaults\":{\"line\":{\"color\":\"#2a3f5f\"}},\"ternary\":{\"aaxis\":{\"gridcolor\":\"white\",\"linecolor\":\"white\",\"ticks\":\"\"},\"baxis\":{\"gridcolor\":\"white\",\"linecolor\":\"white\",\"ticks\":\"\"},\"bgcolor\":\"#E5ECF6\",\"caxis\":{\"gridcolor\":\"white\",\"linecolor\":\"white\",\"ticks\":\"\"}},\"title\":{\"x\":0.05},\"xaxis\":{\"automargin\":true,\"gridcolor\":\"white\",\"linecolor\":\"white\",\"ticks\":\"\",\"title\":{\"standoff\":15},\"zerolinecolor\":\"white\",\"zerolinewidth\":2},\"yaxis\":{\"automargin\":true,\"gridcolor\":\"white\",\"linecolor\":\"white\",\"ticks\":\"\",\"title\":{\"standoff\":15},\"zerolinecolor\":\"white\",\"zerolinewidth\":2}}},\"title\":{\"text\":\"GANTT Chart\"},\"xaxis\":{\"range\":[\"1970-01-01T00:00:00\",\"1970-01-02T01:12:56\"],\"title\":{\"font\":{\"color\":\"#7f7f7f\",\"family\":\"Courier New, monospace\",\"size\":18},\"text\":\"Time\"}},\"yaxis\":{\"title\":{\"font\":{\"color\":\"#7f7f7f\",\"family\":\"Courier New, monospace\",\"size\":18},\"text\":\"Activities\"}}},                        {\"responsive\": true}                    ).then(function(){\n",
       "                            \n",
       "var gd = document.getElementById('020a11e4-136d-4d93-8237-f5b9ae898bdb');\n",
       "var x = new MutationObserver(function (mutations, observer) {{\n",
       "        var display = window.getComputedStyle(gd).display;\n",
       "        if (!display || display === 'none') {{\n",
       "            console.log([gd, 'removed!']);\n",
       "            Plotly.purge(gd);\n",
       "            observer.disconnect();\n",
       "        }}\n",
       "}});\n",
       "\n",
       "// Listen for the removal of the full notebook cells\n",
       "var notebookContainer = gd.closest('#notebook-container');\n",
       "if (notebookContainer) {{\n",
       "    x.observe(notebookContainer, {childList: true});\n",
       "}}\n",
       "\n",
       "// Listen for the clearing of the current output cell\n",
       "var outputEl = gd.closest('.output');\n",
       "if (outputEl) {{\n",
       "    x.observe(outputEl, {childList: true});\n",
       "}}\n",
       "\n",
       "                        })                };                });            </script>        </div>"
      ]
     },
     "metadata": {},
     "output_type": "display_data"
    }
   ],
   "source": [
    "fig = get_gantt_chart(vessels, id_map=activities)"
   ]
  },
  {
   "cell_type": "code",
   "execution_count": 7,
   "id": "b7331bd0",
   "metadata": {},
   "outputs": [
    {
     "data": {
      "text/html": [
       "        <script type=\"text/javascript\">\n",
       "        window.PlotlyConfig = {MathJaxConfig: 'local'};\n",
       "        if (window.MathJax && window.MathJax.Hub && window.MathJax.Hub.Config) {window.MathJax.Hub.Config({SVG: {font: \"STIX-Web\"}});}\n",
       "        if (typeof require !== 'undefined') {\n",
       "        require.undef(\"plotly\");\n",
       "        requirejs.config({\n",
       "            paths: {\n",
       "                'plotly': ['https://cdn.plot.ly/plotly-2.18.2.min']\n",
       "            }\n",
       "        });\n",
       "        require(['plotly'], function(Plotly) {\n",
       "            window._Plotly = Plotly;\n",
       "        });\n",
       "        }\n",
       "        </script>\n",
       "        "
      ]
     },
     "metadata": {},
     "output_type": "display_data"
    },
    {
     "data": {
      "application/vnd.plotly.v1+json": {
       "config": {
        "linkText": "Export to plot.ly",
        "plotlyServerURL": "https://plot.ly",
        "showLink": false
       },
       "data": [
        {
         "connectgaps": false,
         "hoverinfo": "y+name",
         "line": {
          "color": "rgb(48,33,244)",
          "width": 10
         },
         "mode": "lines",
         "name": "loading:Carrier A",
         "type": "scatter",
         "x": [
          "1970-01-01T01:41:49",
          "1970-01-01T01:41:49",
          "1970-01-01T02:15:09",
          "1970-01-01T02:15:09",
          "1970-01-01T02:15:09",
          "1970-01-01T04:41:00",
          "1970-01-01T04:41:00",
          "1970-01-01T05:14:20",
          "1970-01-01T05:14:20",
          "1970-01-01T05:14:20",
          "1970-01-01T08:06:27",
          "1970-01-01T08:06:27",
          "1970-01-01T08:39:47",
          "1970-01-01T08:39:47",
          "1970-01-01T08:39:47",
          "1970-01-01T11:05:38",
          "1970-01-01T11:05:38",
          "1970-01-01T11:38:58",
          "1970-01-01T11:38:58",
          "1970-01-01T11:38:58",
          "1970-01-01T14:04:49",
          "1970-01-01T14:04:49",
          "1970-01-01T14:38:09",
          "1970-01-01T14:38:09",
          "1970-01-01T14:38:09",
          "1970-01-01T17:04:00",
          "1970-01-01T17:04:00",
          "1970-01-01T17:37:20",
          "1970-01-01T17:37:20",
          "1970-01-01T17:37:20",
          "1970-01-01T20:03:11",
          "1970-01-01T20:03:11",
          "1970-01-01T20:36:31",
          "1970-01-01T20:36:31",
          "1970-01-01T20:36:31",
          "1970-01-01T23:02:22",
          "1970-01-01T23:02:22",
          "1970-01-01T23:35:42",
          "1970-01-01T23:35:42",
          "1970-01-01T23:35:42",
          "1970-01-01T01:41:49",
          "1970-01-01T01:41:49",
          "1970-01-01T02:15:09",
          "1970-01-01T02:15:09",
          "1970-01-01T02:15:09",
          "1970-01-01T04:41:00",
          "1970-01-01T04:41:00",
          "1970-01-01T05:14:20",
          "1970-01-01T05:14:20",
          "1970-01-01T05:14:20",
          "1970-01-01T08:06:27",
          "1970-01-01T08:06:27",
          "1970-01-01T08:39:47",
          "1970-01-01T08:39:47",
          "1970-01-01T08:39:47",
          "1970-01-01T11:05:38",
          "1970-01-01T11:05:38",
          "1970-01-01T11:38:58",
          "1970-01-01T11:38:58",
          "1970-01-01T11:38:58",
          "1970-01-01T14:04:49",
          "1970-01-01T14:04:49",
          "1970-01-01T14:38:09",
          "1970-01-01T14:38:09",
          "1970-01-01T14:38:09",
          "1970-01-01T17:04:00",
          "1970-01-01T17:04:00",
          "1970-01-01T17:37:20",
          "1970-01-01T17:37:20",
          "1970-01-01T17:37:20",
          "1970-01-01T20:03:11",
          "1970-01-01T20:03:11",
          "1970-01-01T20:36:31",
          "1970-01-01T20:36:31",
          "1970-01-01T20:36:31",
          "1970-01-01T23:02:22",
          "1970-01-01T23:02:22",
          "1970-01-01T23:35:42",
          "1970-01-01T23:35:42",
          "1970-01-01T23:35:42"
         ],
         "y": [
          "Trench",
          "Trench",
          "Trench",
          "Trench",
          null,
          "Trench",
          "Trench",
          "Trench",
          "Trench",
          null,
          "Trench",
          "Trench",
          "Trench",
          "Trench",
          null,
          "Trench",
          "Trench",
          "Trench",
          "Trench",
          null,
          "Trench",
          "Trench",
          "Trench",
          "Trench",
          null,
          "Trench",
          "Trench",
          "Trench",
          "Trench",
          null,
          "Trench",
          "Trench",
          "Trench",
          "Trench",
          null,
          "Trench",
          "Trench",
          "Trench",
          "Trench",
          null,
          "Cutter T",
          "Cutter T",
          "Cutter T",
          "Cutter T",
          null,
          "Cutter T",
          "Cutter T",
          "Cutter T",
          "Cutter T",
          null,
          "Cutter T",
          "Cutter T",
          "Cutter T",
          "Cutter T",
          null,
          "Cutter T",
          "Cutter T",
          "Cutter T",
          "Cutter T",
          null,
          "Cutter T",
          "Cutter T",
          "Cutter T",
          "Cutter T",
          null,
          "Cutter T",
          "Cutter T",
          "Cutter T",
          "Cutter T",
          null,
          "Cutter T",
          "Cutter T",
          "Cutter T",
          "Cutter T",
          null,
          "Cutter T",
          "Cutter T",
          "Cutter T",
          "Cutter T",
          null
         ]
        },
        {
         "connectgaps": false,
         "hoverinfo": "y+name",
         "line": {
          "color": "rgb(76,61,16)",
          "width": 10
         },
         "mode": "lines",
         "name": "loading:Carrier C",
         "type": "scatter",
         "x": [
          "1970-01-01T01:08:29",
          "1970-01-01T01:08:29",
          "1970-01-01T01:41:49",
          "1970-01-01T01:41:49",
          "1970-01-01T01:41:49",
          "1970-01-01T03:54:13",
          "1970-01-01T03:54:13",
          "1970-01-01T04:27:33",
          "1970-01-01T04:27:33",
          "1970-01-01T04:27:33",
          "1970-01-01T06:39:57",
          "1970-01-01T06:39:57",
          "1970-01-01T07:13:17",
          "1970-01-01T07:13:17",
          "1970-01-01T07:13:17",
          "1970-01-01T09:25:41",
          "1970-01-01T09:25:41",
          "1970-01-01T09:59:01",
          "1970-01-01T09:59:01",
          "1970-01-01T09:59:01",
          "1970-01-01T12:11:25",
          "1970-01-01T12:11:25",
          "1970-01-01T12:44:45",
          "1970-01-01T12:44:45",
          "1970-01-01T12:44:45",
          "1970-01-01T14:57:09",
          "1970-01-01T14:57:09",
          "1970-01-01T15:30:29",
          "1970-01-01T15:30:29",
          "1970-01-01T15:30:29",
          "1970-01-01T17:42:53",
          "1970-01-01T17:42:53",
          "1970-01-01T18:16:13",
          "1970-01-01T18:16:13",
          "1970-01-01T18:16:13",
          "1970-01-01T20:36:31",
          "1970-01-01T20:36:31",
          "1970-01-01T21:09:51",
          "1970-01-01T21:09:51",
          "1970-01-01T21:09:51",
          "1970-01-01T01:08:29",
          "1970-01-01T01:08:29",
          "1970-01-01T01:41:49",
          "1970-01-01T01:41:49",
          "1970-01-01T01:41:49",
          "1970-01-01T03:54:13",
          "1970-01-01T03:54:13",
          "1970-01-01T04:27:33",
          "1970-01-01T04:27:33",
          "1970-01-01T04:27:33",
          "1970-01-01T06:39:57",
          "1970-01-01T06:39:57",
          "1970-01-01T07:13:17",
          "1970-01-01T07:13:17",
          "1970-01-01T07:13:17",
          "1970-01-01T09:25:41",
          "1970-01-01T09:25:41",
          "1970-01-01T09:59:01",
          "1970-01-01T09:59:01",
          "1970-01-01T09:59:01",
          "1970-01-01T12:11:25",
          "1970-01-01T12:11:25",
          "1970-01-01T12:44:45",
          "1970-01-01T12:44:45",
          "1970-01-01T12:44:45",
          "1970-01-01T14:57:09",
          "1970-01-01T14:57:09",
          "1970-01-01T15:30:29",
          "1970-01-01T15:30:29",
          "1970-01-01T15:30:29",
          "1970-01-01T17:42:53",
          "1970-01-01T17:42:53",
          "1970-01-01T18:16:13",
          "1970-01-01T18:16:13",
          "1970-01-01T18:16:13",
          "1970-01-01T20:36:31",
          "1970-01-01T20:36:31",
          "1970-01-01T21:09:51",
          "1970-01-01T21:09:51",
          "1970-01-01T21:09:51"
         ],
         "y": [
          "Trench",
          "Trench",
          "Trench",
          "Trench",
          null,
          "Trench",
          "Trench",
          "Trench",
          "Trench",
          null,
          "Trench",
          "Trench",
          "Trench",
          "Trench",
          null,
          "Trench",
          "Trench",
          "Trench",
          "Trench",
          null,
          "Trench",
          "Trench",
          "Trench",
          "Trench",
          null,
          "Trench",
          "Trench",
          "Trench",
          "Trench",
          null,
          "Trench",
          "Trench",
          "Trench",
          "Trench",
          null,
          "Trench",
          "Trench",
          "Trench",
          "Trench",
          null,
          "Cutter T",
          "Cutter T",
          "Cutter T",
          "Cutter T",
          null,
          "Cutter T",
          "Cutter T",
          "Cutter T",
          "Cutter T",
          null,
          "Cutter T",
          "Cutter T",
          "Cutter T",
          "Cutter T",
          null,
          "Cutter T",
          "Cutter T",
          "Cutter T",
          "Cutter T",
          null,
          "Cutter T",
          "Cutter T",
          "Cutter T",
          "Cutter T",
          null,
          "Cutter T",
          "Cutter T",
          "Cutter T",
          "Cutter T",
          null,
          "Cutter T",
          "Cutter T",
          "Cutter T",
          "Cutter T",
          null,
          "Cutter T",
          "Cutter T",
          "Cutter T",
          "Cutter T",
          null
         ]
        },
        {
         "connectgaps": false,
         "hoverinfo": "y+name",
         "line": {
          "color": "rgb(104,89,44)",
          "width": 10
         },
         "mode": "lines",
         "name": "loading:Carrier B",
         "type": "scatter",
         "x": [
          "1970-01-01T00:35:09",
          "1970-01-01T00:35:09",
          "1970-01-01T01:08:29",
          "1970-01-01T01:08:29",
          "1970-01-01T01:08:29",
          "1970-01-01T02:53:56",
          "1970-01-01T02:53:56",
          "1970-01-01T03:27:16",
          "1970-01-01T03:27:16",
          "1970-01-01T03:27:16",
          "1970-01-01T05:14:20",
          "1970-01-01T05:14:20",
          "1970-01-01T05:47:40",
          "1970-01-01T05:47:40",
          "1970-01-01T05:47:40",
          "1970-01-01T07:33:07",
          "1970-01-01T07:33:07",
          "1970-01-01T08:06:27",
          "1970-01-01T08:06:27",
          "1970-01-01T08:06:27",
          "1970-01-01T09:59:01",
          "1970-01-01T09:59:01",
          "1970-01-01T10:32:21",
          "1970-01-01T10:32:21",
          "1970-01-01T10:32:21",
          "1970-01-01T12:44:45",
          "1970-01-01T12:44:45",
          "1970-01-01T13:18:05",
          "1970-01-01T13:18:05",
          "1970-01-01T13:18:05",
          "1970-01-01T15:30:29",
          "1970-01-01T15:30:29",
          "1970-01-01T16:03:49",
          "1970-01-01T16:03:49",
          "1970-01-01T16:03:49",
          "1970-01-01T18:16:13",
          "1970-01-01T18:16:13",
          "1970-01-01T18:49:33",
          "1970-01-01T18:49:33",
          "1970-01-01T18:49:33",
          "1970-01-01T21:09:51",
          "1970-01-01T21:09:51",
          "1970-01-01T21:43:11",
          "1970-01-01T21:43:11",
          "1970-01-01T21:43:11",
          "1970-01-01T00:35:09",
          "1970-01-01T00:35:09",
          "1970-01-01T01:08:29",
          "1970-01-01T01:08:29",
          "1970-01-01T01:08:29",
          "1970-01-01T02:53:56",
          "1970-01-01T02:53:56",
          "1970-01-01T03:27:16",
          "1970-01-01T03:27:16",
          "1970-01-01T03:27:16",
          "1970-01-01T05:14:20",
          "1970-01-01T05:14:20",
          "1970-01-01T05:47:40",
          "1970-01-01T05:47:40",
          "1970-01-01T05:47:40",
          "1970-01-01T07:33:07",
          "1970-01-01T07:33:07",
          "1970-01-01T08:06:27",
          "1970-01-01T08:06:27",
          "1970-01-01T08:06:27",
          "1970-01-01T09:59:01",
          "1970-01-01T09:59:01",
          "1970-01-01T10:32:21",
          "1970-01-01T10:32:21",
          "1970-01-01T10:32:21",
          "1970-01-01T12:44:45",
          "1970-01-01T12:44:45",
          "1970-01-01T13:18:05",
          "1970-01-01T13:18:05",
          "1970-01-01T13:18:05",
          "1970-01-01T15:30:29",
          "1970-01-01T15:30:29",
          "1970-01-01T16:03:49",
          "1970-01-01T16:03:49",
          "1970-01-01T16:03:49",
          "1970-01-01T18:16:13",
          "1970-01-01T18:16:13",
          "1970-01-01T18:49:33",
          "1970-01-01T18:49:33",
          "1970-01-01T18:49:33",
          "1970-01-01T21:09:51",
          "1970-01-01T21:09:51",
          "1970-01-01T21:43:11",
          "1970-01-01T21:43:11",
          "1970-01-01T21:43:11"
         ],
         "y": [
          "Trench",
          "Trench",
          "Trench",
          "Trench",
          null,
          "Trench",
          "Trench",
          "Trench",
          "Trench",
          null,
          "Trench",
          "Trench",
          "Trench",
          "Trench",
          null,
          "Trench",
          "Trench",
          "Trench",
          "Trench",
          null,
          "Trench",
          "Trench",
          "Trench",
          "Trench",
          null,
          "Trench",
          "Trench",
          "Trench",
          "Trench",
          null,
          "Trench",
          "Trench",
          "Trench",
          "Trench",
          null,
          "Trench",
          "Trench",
          "Trench",
          "Trench",
          null,
          "Trench",
          "Trench",
          "Trench",
          "Trench",
          null,
          "Cutter T",
          "Cutter T",
          "Cutter T",
          "Cutter T",
          null,
          "Cutter T",
          "Cutter T",
          "Cutter T",
          "Cutter T",
          null,
          "Cutter T",
          "Cutter T",
          "Cutter T",
          "Cutter T",
          null,
          "Cutter T",
          "Cutter T",
          "Cutter T",
          "Cutter T",
          null,
          "Cutter T",
          "Cutter T",
          "Cutter T",
          "Cutter T",
          null,
          "Cutter T",
          "Cutter T",
          "Cutter T",
          "Cutter T",
          null,
          "Cutter T",
          "Cutter T",
          "Cutter T",
          "Cutter T",
          null,
          "Cutter T",
          "Cutter T",
          "Cutter T",
          "Cutter T",
          null,
          "Cutter T",
          "Cutter T",
          "Cutter T",
          "Cutter T",
          null
         ]
        },
        {
         "connectgaps": false,
         "hoverinfo": "y+name",
         "line": {
          "color": "rgb(132,117,72)",
          "width": 10
         },
         "mode": "lines",
         "name": "unloading:Carrier A",
         "type": "scatter",
         "x": [
          "1970-01-01T03:03:46",
          "1970-01-01T03:03:46",
          "1970-01-01T03:52:23",
          "1970-01-01T03:52:23",
          "1970-01-01T03:52:23",
          "1970-01-01T06:02:57",
          "1970-01-01T06:02:57",
          "1970-01-01T06:51:34",
          "1970-01-01T06:51:34",
          "1970-01-01T06:51:34",
          "1970-01-01T09:28:24",
          "1970-01-01T09:28:24",
          "1970-01-01T10:17:01",
          "1970-01-01T10:17:01",
          "1970-01-01T10:17:01",
          "1970-01-01T12:27:35",
          "1970-01-01T12:27:35",
          "1970-01-01T13:16:12",
          "1970-01-01T13:16:12",
          "1970-01-01T13:16:12",
          "1970-01-01T15:26:46",
          "1970-01-01T15:26:46",
          "1970-01-01T16:15:23",
          "1970-01-01T16:15:23",
          "1970-01-01T16:15:23",
          "1970-01-01T18:25:57",
          "1970-01-01T18:25:57",
          "1970-01-01T19:14:34",
          "1970-01-01T19:14:34",
          "1970-01-01T19:14:34",
          "1970-01-01T21:25:08",
          "1970-01-01T21:25:08",
          "1970-01-01T22:13:45",
          "1970-01-01T22:13:45",
          "1970-01-01T22:13:45",
          "1970-01-02T00:24:19",
          "1970-01-02T00:24:19",
          "1970-01-02T01:12:56",
          "1970-01-02T01:12:56",
          "1970-01-02T01:12:56"
         ],
         "y": [
          "Reclamation",
          "Reclamation",
          "Reclamation",
          "Reclamation",
          null,
          "Reclamation",
          "Reclamation",
          "Reclamation",
          "Reclamation",
          null,
          "Reclamation",
          "Reclamation",
          "Reclamation",
          "Reclamation",
          null,
          "Reclamation",
          "Reclamation",
          "Reclamation",
          "Reclamation",
          null,
          "Reclamation",
          "Reclamation",
          "Reclamation",
          "Reclamation",
          null,
          "Reclamation",
          "Reclamation",
          "Reclamation",
          "Reclamation",
          null,
          "Reclamation",
          "Reclamation",
          "Reclamation",
          "Reclamation",
          null,
          "Reclamation",
          "Reclamation",
          "Reclamation",
          "Reclamation",
          null
         ]
        },
        {
         "connectgaps": false,
         "hoverinfo": "y+name",
         "line": {
          "color": "rgb(160,145,100)",
          "width": 10
         },
         "mode": "lines",
         "name": "unloading:Carrier B",
         "type": "scatter",
         "x": [
          "1970-01-01T01:43:38",
          "1970-01-01T01:43:38",
          "1970-01-01T02:18:47",
          "1970-01-01T02:18:47",
          "1970-01-01T02:18:47",
          "1970-01-01T04:02:25",
          "1970-01-01T04:02:25",
          "1970-01-01T04:37:34",
          "1970-01-01T04:37:34",
          "1970-01-01T04:37:34",
          "1970-01-01T06:22:49",
          "1970-01-01T06:22:49",
          "1970-01-01T06:57:58",
          "1970-01-01T06:57:58",
          "1970-01-01T06:57:58",
          "1970-01-01T08:41:36",
          "1970-01-01T08:41:36",
          "1970-01-01T09:16:45",
          "1970-01-01T09:16:45",
          "1970-01-01T09:16:45",
          "1970-01-01T11:07:30",
          "1970-01-01T11:07:30",
          "1970-01-01T11:42:39",
          "1970-01-01T11:42:39",
          "1970-01-01T11:42:39",
          "1970-01-01T13:53:14",
          "1970-01-01T13:53:14",
          "1970-01-01T14:28:23",
          "1970-01-01T14:28:23",
          "1970-01-01T14:28:23",
          "1970-01-01T16:38:58",
          "1970-01-01T16:38:58",
          "1970-01-01T17:14:07",
          "1970-01-01T17:14:07",
          "1970-01-01T17:14:07",
          "1970-01-01T19:24:42",
          "1970-01-01T19:24:42",
          "1970-01-01T19:59:51",
          "1970-01-01T19:59:51",
          "1970-01-01T19:59:51",
          "1970-01-01T22:18:20",
          "1970-01-01T22:18:20",
          "1970-01-01T22:53:29",
          "1970-01-01T22:53:29",
          "1970-01-01T22:53:29"
         ],
         "y": [
          "Reclamation",
          "Reclamation",
          "Reclamation",
          "Reclamation",
          null,
          "Reclamation",
          "Reclamation",
          "Reclamation",
          "Reclamation",
          null,
          "Reclamation",
          "Reclamation",
          "Reclamation",
          "Reclamation",
          null,
          "Reclamation",
          "Reclamation",
          "Reclamation",
          "Reclamation",
          null,
          "Reclamation",
          "Reclamation",
          "Reclamation",
          "Reclamation",
          null,
          "Reclamation",
          "Reclamation",
          "Reclamation",
          "Reclamation",
          null,
          "Reclamation",
          "Reclamation",
          "Reclamation",
          "Reclamation",
          null,
          "Reclamation",
          "Reclamation",
          "Reclamation",
          "Reclamation",
          null,
          "Reclamation",
          "Reclamation",
          "Reclamation",
          "Reclamation",
          null
         ]
        },
        {
         "connectgaps": false,
         "hoverinfo": "y+name",
         "line": {
          "color": "rgb(188,173,128)",
          "width": 10
         },
         "mode": "lines",
         "name": "unloading:Carrier C",
         "type": "scatter",
         "x": [
          "1970-01-01T02:25:57",
          "1970-01-01T02:25:57",
          "1970-01-01T03:10:05",
          "1970-01-01T03:10:05",
          "1970-01-01T03:10:05",
          "1970-01-01T05:11:41",
          "1970-01-01T05:11:41",
          "1970-01-01T05:55:49",
          "1970-01-01T05:55:49",
          "1970-01-01T05:55:49",
          "1970-01-01T07:57:25",
          "1970-01-01T07:57:25",
          "1970-01-01T08:41:33",
          "1970-01-01T08:41:33",
          "1970-01-01T08:41:33",
          "1970-01-01T10:43:09",
          "1970-01-01T10:43:09",
          "1970-01-01T11:27:17",
          "1970-01-01T11:27:17",
          "1970-01-01T11:27:17",
          "1970-01-01T13:28:53",
          "1970-01-01T13:28:53",
          "1970-01-01T14:13:01",
          "1970-01-01T14:13:01",
          "1970-01-01T14:13:01",
          "1970-01-01T16:14:37",
          "1970-01-01T16:14:37",
          "1970-01-01T16:58:45",
          "1970-01-01T16:58:45",
          "1970-01-01T16:58:45",
          "1970-01-01T19:00:21",
          "1970-01-01T19:00:21",
          "1970-01-01T19:44:29",
          "1970-01-01T19:44:29",
          "1970-01-01T19:44:29",
          "1970-01-01T21:53:59",
          "1970-01-01T21:53:59",
          "1970-01-01T22:38:07",
          "1970-01-01T22:38:07",
          "1970-01-01T22:38:07"
         ],
         "y": [
          "Reclamation",
          "Reclamation",
          "Reclamation",
          "Reclamation",
          null,
          "Reclamation",
          "Reclamation",
          "Reclamation",
          "Reclamation",
          null,
          "Reclamation",
          "Reclamation",
          "Reclamation",
          "Reclamation",
          null,
          "Reclamation",
          "Reclamation",
          "Reclamation",
          "Reclamation",
          null,
          "Reclamation",
          "Reclamation",
          "Reclamation",
          "Reclamation",
          null,
          "Reclamation",
          "Reclamation",
          "Reclamation",
          "Reclamation",
          null,
          "Reclamation",
          "Reclamation",
          "Reclamation",
          "Reclamation",
          null,
          "Reclamation",
          "Reclamation",
          "Reclamation",
          "Reclamation",
          null
         ]
        },
        {
         "connectgaps": false,
         "hoverinfo": "y+name",
         "line": {
          "color": "rgb(216,201,156)",
          "width": 10
         },
         "mode": "lines",
         "name": "loading:Carrier A",
         "type": "scatter",
         "x": [
          "1970-01-01T01:41:49",
          "1970-01-01T01:41:49",
          "1970-01-01T02:15:09",
          "1970-01-01T02:15:09",
          "1970-01-01T02:15:09",
          "1970-01-01T04:41:00",
          "1970-01-01T04:41:00",
          "1970-01-01T05:14:20",
          "1970-01-01T05:14:20",
          "1970-01-01T05:14:20",
          "1970-01-01T08:06:27",
          "1970-01-01T08:06:27",
          "1970-01-01T08:39:47",
          "1970-01-01T08:39:47",
          "1970-01-01T08:39:47",
          "1970-01-01T11:05:38",
          "1970-01-01T11:05:38",
          "1970-01-01T11:38:58",
          "1970-01-01T11:38:58",
          "1970-01-01T11:38:58",
          "1970-01-01T14:04:49",
          "1970-01-01T14:04:49",
          "1970-01-01T14:38:09",
          "1970-01-01T14:38:09",
          "1970-01-01T14:38:09",
          "1970-01-01T17:04:00",
          "1970-01-01T17:04:00",
          "1970-01-01T17:37:20",
          "1970-01-01T17:37:20",
          "1970-01-01T17:37:20",
          "1970-01-01T20:03:11",
          "1970-01-01T20:03:11",
          "1970-01-01T20:36:31",
          "1970-01-01T20:36:31",
          "1970-01-01T20:36:31",
          "1970-01-01T23:02:22",
          "1970-01-01T23:02:22",
          "1970-01-01T23:35:42",
          "1970-01-01T23:35:42",
          "1970-01-01T23:35:42",
          "1970-01-01T01:41:49",
          "1970-01-01T01:41:49",
          "1970-01-01T02:15:09",
          "1970-01-01T02:15:09",
          "1970-01-01T02:15:09",
          "1970-01-01T04:41:00",
          "1970-01-01T04:41:00",
          "1970-01-01T05:14:20",
          "1970-01-01T05:14:20",
          "1970-01-01T05:14:20",
          "1970-01-01T08:06:27",
          "1970-01-01T08:06:27",
          "1970-01-01T08:39:47",
          "1970-01-01T08:39:47",
          "1970-01-01T08:39:47",
          "1970-01-01T11:05:38",
          "1970-01-01T11:05:38",
          "1970-01-01T11:38:58",
          "1970-01-01T11:38:58",
          "1970-01-01T11:38:58",
          "1970-01-01T14:04:49",
          "1970-01-01T14:04:49",
          "1970-01-01T14:38:09",
          "1970-01-01T14:38:09",
          "1970-01-01T14:38:09",
          "1970-01-01T17:04:00",
          "1970-01-01T17:04:00",
          "1970-01-01T17:37:20",
          "1970-01-01T17:37:20",
          "1970-01-01T17:37:20",
          "1970-01-01T20:03:11",
          "1970-01-01T20:03:11",
          "1970-01-01T20:36:31",
          "1970-01-01T20:36:31",
          "1970-01-01T20:36:31",
          "1970-01-01T23:02:22",
          "1970-01-01T23:02:22",
          "1970-01-01T23:35:42",
          "1970-01-01T23:35:42",
          "1970-01-01T23:35:42"
         ],
         "y": [
          "Trench",
          "Trench",
          "Trench",
          "Trench",
          null,
          "Trench",
          "Trench",
          "Trench",
          "Trench",
          null,
          "Trench",
          "Trench",
          "Trench",
          "Trench",
          null,
          "Trench",
          "Trench",
          "Trench",
          "Trench",
          null,
          "Trench",
          "Trench",
          "Trench",
          "Trench",
          null,
          "Trench",
          "Trench",
          "Trench",
          "Trench",
          null,
          "Trench",
          "Trench",
          "Trench",
          "Trench",
          null,
          "Trench",
          "Trench",
          "Trench",
          "Trench",
          null,
          "Cutter T",
          "Cutter T",
          "Cutter T",
          "Cutter T",
          null,
          "Cutter T",
          "Cutter T",
          "Cutter T",
          "Cutter T",
          null,
          "Cutter T",
          "Cutter T",
          "Cutter T",
          "Cutter T",
          null,
          "Cutter T",
          "Cutter T",
          "Cutter T",
          "Cutter T",
          null,
          "Cutter T",
          "Cutter T",
          "Cutter T",
          "Cutter T",
          null,
          "Cutter T",
          "Cutter T",
          "Cutter T",
          "Cutter T",
          null,
          "Cutter T",
          "Cutter T",
          "Cutter T",
          "Cutter T",
          null,
          "Cutter T",
          "Cutter T",
          "Cutter T",
          "Cutter T",
          null
         ]
        },
        {
         "connectgaps": false,
         "hoverinfo": "y+name",
         "line": {
          "color": "rgb(244,229,184)",
          "width": 10
         },
         "mode": "lines",
         "name": "loading:Carrier C",
         "type": "scatter",
         "x": [
          "1970-01-01T01:08:29",
          "1970-01-01T01:08:29",
          "1970-01-01T01:41:49",
          "1970-01-01T01:41:49",
          "1970-01-01T01:41:49",
          "1970-01-01T03:54:13",
          "1970-01-01T03:54:13",
          "1970-01-01T04:27:33",
          "1970-01-01T04:27:33",
          "1970-01-01T04:27:33",
          "1970-01-01T06:39:57",
          "1970-01-01T06:39:57",
          "1970-01-01T07:13:17",
          "1970-01-01T07:13:17",
          "1970-01-01T07:13:17",
          "1970-01-01T09:25:41",
          "1970-01-01T09:25:41",
          "1970-01-01T09:59:01",
          "1970-01-01T09:59:01",
          "1970-01-01T09:59:01",
          "1970-01-01T12:11:25",
          "1970-01-01T12:11:25",
          "1970-01-01T12:44:45",
          "1970-01-01T12:44:45",
          "1970-01-01T12:44:45",
          "1970-01-01T14:57:09",
          "1970-01-01T14:57:09",
          "1970-01-01T15:30:29",
          "1970-01-01T15:30:29",
          "1970-01-01T15:30:29",
          "1970-01-01T17:42:53",
          "1970-01-01T17:42:53",
          "1970-01-01T18:16:13",
          "1970-01-01T18:16:13",
          "1970-01-01T18:16:13",
          "1970-01-01T20:36:31",
          "1970-01-01T20:36:31",
          "1970-01-01T21:09:51",
          "1970-01-01T21:09:51",
          "1970-01-01T21:09:51",
          "1970-01-01T01:08:29",
          "1970-01-01T01:08:29",
          "1970-01-01T01:41:49",
          "1970-01-01T01:41:49",
          "1970-01-01T01:41:49",
          "1970-01-01T03:54:13",
          "1970-01-01T03:54:13",
          "1970-01-01T04:27:33",
          "1970-01-01T04:27:33",
          "1970-01-01T04:27:33",
          "1970-01-01T06:39:57",
          "1970-01-01T06:39:57",
          "1970-01-01T07:13:17",
          "1970-01-01T07:13:17",
          "1970-01-01T07:13:17",
          "1970-01-01T09:25:41",
          "1970-01-01T09:25:41",
          "1970-01-01T09:59:01",
          "1970-01-01T09:59:01",
          "1970-01-01T09:59:01",
          "1970-01-01T12:11:25",
          "1970-01-01T12:11:25",
          "1970-01-01T12:44:45",
          "1970-01-01T12:44:45",
          "1970-01-01T12:44:45",
          "1970-01-01T14:57:09",
          "1970-01-01T14:57:09",
          "1970-01-01T15:30:29",
          "1970-01-01T15:30:29",
          "1970-01-01T15:30:29",
          "1970-01-01T17:42:53",
          "1970-01-01T17:42:53",
          "1970-01-01T18:16:13",
          "1970-01-01T18:16:13",
          "1970-01-01T18:16:13",
          "1970-01-01T20:36:31",
          "1970-01-01T20:36:31",
          "1970-01-01T21:09:51",
          "1970-01-01T21:09:51",
          "1970-01-01T21:09:51"
         ],
         "y": [
          "Trench",
          "Trench",
          "Trench",
          "Trench",
          null,
          "Trench",
          "Trench",
          "Trench",
          "Trench",
          null,
          "Trench",
          "Trench",
          "Trench",
          "Trench",
          null,
          "Trench",
          "Trench",
          "Trench",
          "Trench",
          null,
          "Trench",
          "Trench",
          "Trench",
          "Trench",
          null,
          "Trench",
          "Trench",
          "Trench",
          "Trench",
          null,
          "Trench",
          "Trench",
          "Trench",
          "Trench",
          null,
          "Trench",
          "Trench",
          "Trench",
          "Trench",
          null,
          "Cutter T",
          "Cutter T",
          "Cutter T",
          "Cutter T",
          null,
          "Cutter T",
          "Cutter T",
          "Cutter T",
          "Cutter T",
          null,
          "Cutter T",
          "Cutter T",
          "Cutter T",
          "Cutter T",
          null,
          "Cutter T",
          "Cutter T",
          "Cutter T",
          "Cutter T",
          null,
          "Cutter T",
          "Cutter T",
          "Cutter T",
          "Cutter T",
          null,
          "Cutter T",
          "Cutter T",
          "Cutter T",
          "Cutter T",
          null,
          "Cutter T",
          "Cutter T",
          "Cutter T",
          "Cutter T",
          null,
          "Cutter T",
          "Cutter T",
          "Cutter T",
          "Cutter T",
          null
         ]
        },
        {
         "connectgaps": false,
         "hoverinfo": "y+name",
         "line": {
          "color": "rgb(16,1,212)",
          "width": 10
         },
         "mode": "lines",
         "name": "loading:Carrier B",
         "type": "scatter",
         "x": [
          "1970-01-01T00:35:09",
          "1970-01-01T00:35:09",
          "1970-01-01T01:08:29",
          "1970-01-01T01:08:29",
          "1970-01-01T01:08:29",
          "1970-01-01T02:53:56",
          "1970-01-01T02:53:56",
          "1970-01-01T03:27:16",
          "1970-01-01T03:27:16",
          "1970-01-01T03:27:16",
          "1970-01-01T05:14:20",
          "1970-01-01T05:14:20",
          "1970-01-01T05:47:40",
          "1970-01-01T05:47:40",
          "1970-01-01T05:47:40",
          "1970-01-01T07:33:07",
          "1970-01-01T07:33:07",
          "1970-01-01T08:06:27",
          "1970-01-01T08:06:27",
          "1970-01-01T08:06:27",
          "1970-01-01T09:59:01",
          "1970-01-01T09:59:01",
          "1970-01-01T10:32:21",
          "1970-01-01T10:32:21",
          "1970-01-01T10:32:21",
          "1970-01-01T12:44:45",
          "1970-01-01T12:44:45",
          "1970-01-01T13:18:05",
          "1970-01-01T13:18:05",
          "1970-01-01T13:18:05",
          "1970-01-01T15:30:29",
          "1970-01-01T15:30:29",
          "1970-01-01T16:03:49",
          "1970-01-01T16:03:49",
          "1970-01-01T16:03:49",
          "1970-01-01T18:16:13",
          "1970-01-01T18:16:13",
          "1970-01-01T18:49:33",
          "1970-01-01T18:49:33",
          "1970-01-01T18:49:33",
          "1970-01-01T21:09:51",
          "1970-01-01T21:09:51",
          "1970-01-01T21:43:11",
          "1970-01-01T21:43:11",
          "1970-01-01T21:43:11",
          "1970-01-01T00:35:09",
          "1970-01-01T00:35:09",
          "1970-01-01T01:08:29",
          "1970-01-01T01:08:29",
          "1970-01-01T01:08:29",
          "1970-01-01T02:53:56",
          "1970-01-01T02:53:56",
          "1970-01-01T03:27:16",
          "1970-01-01T03:27:16",
          "1970-01-01T03:27:16",
          "1970-01-01T05:14:20",
          "1970-01-01T05:14:20",
          "1970-01-01T05:47:40",
          "1970-01-01T05:47:40",
          "1970-01-01T05:47:40",
          "1970-01-01T07:33:07",
          "1970-01-01T07:33:07",
          "1970-01-01T08:06:27",
          "1970-01-01T08:06:27",
          "1970-01-01T08:06:27",
          "1970-01-01T09:59:01",
          "1970-01-01T09:59:01",
          "1970-01-01T10:32:21",
          "1970-01-01T10:32:21",
          "1970-01-01T10:32:21",
          "1970-01-01T12:44:45",
          "1970-01-01T12:44:45",
          "1970-01-01T13:18:05",
          "1970-01-01T13:18:05",
          "1970-01-01T13:18:05",
          "1970-01-01T15:30:29",
          "1970-01-01T15:30:29",
          "1970-01-01T16:03:49",
          "1970-01-01T16:03:49",
          "1970-01-01T16:03:49",
          "1970-01-01T18:16:13",
          "1970-01-01T18:16:13",
          "1970-01-01T18:49:33",
          "1970-01-01T18:49:33",
          "1970-01-01T18:49:33",
          "1970-01-01T21:09:51",
          "1970-01-01T21:09:51",
          "1970-01-01T21:43:11",
          "1970-01-01T21:43:11",
          "1970-01-01T21:43:11"
         ],
         "y": [
          "Trench",
          "Trench",
          "Trench",
          "Trench",
          null,
          "Trench",
          "Trench",
          "Trench",
          "Trench",
          null,
          "Trench",
          "Trench",
          "Trench",
          "Trench",
          null,
          "Trench",
          "Trench",
          "Trench",
          "Trench",
          null,
          "Trench",
          "Trench",
          "Trench",
          "Trench",
          null,
          "Trench",
          "Trench",
          "Trench",
          "Trench",
          null,
          "Trench",
          "Trench",
          "Trench",
          "Trench",
          null,
          "Trench",
          "Trench",
          "Trench",
          "Trench",
          null,
          "Trench",
          "Trench",
          "Trench",
          "Trench",
          null,
          "Cutter T",
          "Cutter T",
          "Cutter T",
          "Cutter T",
          null,
          "Cutter T",
          "Cutter T",
          "Cutter T",
          "Cutter T",
          null,
          "Cutter T",
          "Cutter T",
          "Cutter T",
          "Cutter T",
          null,
          "Cutter T",
          "Cutter T",
          "Cutter T",
          "Cutter T",
          null,
          "Cutter T",
          "Cutter T",
          "Cutter T",
          "Cutter T",
          null,
          "Cutter T",
          "Cutter T",
          "Cutter T",
          "Cutter T",
          null,
          "Cutter T",
          "Cutter T",
          "Cutter T",
          "Cutter T",
          null,
          "Cutter T",
          "Cutter T",
          "Cutter T",
          "Cutter T",
          null,
          "Cutter T",
          "Cutter T",
          "Cutter T",
          "Cutter T",
          null
         ]
        }
       ],
       "layout": {
        "hovermode": "closest",
        "legend": {
         "orientation": "h",
         "x": 0,
         "y": -0.2
        },
        "template": {
         "data": {
          "bar": [
           {
            "error_x": {
             "color": "#2a3f5f"
            },
            "error_y": {
             "color": "#2a3f5f"
            },
            "marker": {
             "line": {
              "color": "#E5ECF6",
              "width": 0.5
             },
             "pattern": {
              "fillmode": "overlay",
              "size": 10,
              "solidity": 0.2
             }
            },
            "type": "bar"
           }
          ],
          "barpolar": [
           {
            "marker": {
             "line": {
              "color": "#E5ECF6",
              "width": 0.5
             },
             "pattern": {
              "fillmode": "overlay",
              "size": 10,
              "solidity": 0.2
             }
            },
            "type": "barpolar"
           }
          ],
          "carpet": [
           {
            "aaxis": {
             "endlinecolor": "#2a3f5f",
             "gridcolor": "white",
             "linecolor": "white",
             "minorgridcolor": "white",
             "startlinecolor": "#2a3f5f"
            },
            "baxis": {
             "endlinecolor": "#2a3f5f",
             "gridcolor": "white",
             "linecolor": "white",
             "minorgridcolor": "white",
             "startlinecolor": "#2a3f5f"
            },
            "type": "carpet"
           }
          ],
          "choropleth": [
           {
            "colorbar": {
             "outlinewidth": 0,
             "ticks": ""
            },
            "type": "choropleth"
           }
          ],
          "contour": [
           {
            "colorbar": {
             "outlinewidth": 0,
             "ticks": ""
            },
            "colorscale": [
             [
              0,
              "#0d0887"
             ],
             [
              0.1111111111111111,
              "#46039f"
             ],
             [
              0.2222222222222222,
              "#7201a8"
             ],
             [
              0.3333333333333333,
              "#9c179e"
             ],
             [
              0.4444444444444444,
              "#bd3786"
             ],
             [
              0.5555555555555556,
              "#d8576b"
             ],
             [
              0.6666666666666666,
              "#ed7953"
             ],
             [
              0.7777777777777778,
              "#fb9f3a"
             ],
             [
              0.8888888888888888,
              "#fdca26"
             ],
             [
              1,
              "#f0f921"
             ]
            ],
            "type": "contour"
           }
          ],
          "contourcarpet": [
           {
            "colorbar": {
             "outlinewidth": 0,
             "ticks": ""
            },
            "type": "contourcarpet"
           }
          ],
          "heatmap": [
           {
            "colorbar": {
             "outlinewidth": 0,
             "ticks": ""
            },
            "colorscale": [
             [
              0,
              "#0d0887"
             ],
             [
              0.1111111111111111,
              "#46039f"
             ],
             [
              0.2222222222222222,
              "#7201a8"
             ],
             [
              0.3333333333333333,
              "#9c179e"
             ],
             [
              0.4444444444444444,
              "#bd3786"
             ],
             [
              0.5555555555555556,
              "#d8576b"
             ],
             [
              0.6666666666666666,
              "#ed7953"
             ],
             [
              0.7777777777777778,
              "#fb9f3a"
             ],
             [
              0.8888888888888888,
              "#fdca26"
             ],
             [
              1,
              "#f0f921"
             ]
            ],
            "type": "heatmap"
           }
          ],
          "heatmapgl": [
           {
            "colorbar": {
             "outlinewidth": 0,
             "ticks": ""
            },
            "colorscale": [
             [
              0,
              "#0d0887"
             ],
             [
              0.1111111111111111,
              "#46039f"
             ],
             [
              0.2222222222222222,
              "#7201a8"
             ],
             [
              0.3333333333333333,
              "#9c179e"
             ],
             [
              0.4444444444444444,
              "#bd3786"
             ],
             [
              0.5555555555555556,
              "#d8576b"
             ],
             [
              0.6666666666666666,
              "#ed7953"
             ],
             [
              0.7777777777777778,
              "#fb9f3a"
             ],
             [
              0.8888888888888888,
              "#fdca26"
             ],
             [
              1,
              "#f0f921"
             ]
            ],
            "type": "heatmapgl"
           }
          ],
          "histogram": [
           {
            "marker": {
             "pattern": {
              "fillmode": "overlay",
              "size": 10,
              "solidity": 0.2
             }
            },
            "type": "histogram"
           }
          ],
          "histogram2d": [
           {
            "colorbar": {
             "outlinewidth": 0,
             "ticks": ""
            },
            "colorscale": [
             [
              0,
              "#0d0887"
             ],
             [
              0.1111111111111111,
              "#46039f"
             ],
             [
              0.2222222222222222,
              "#7201a8"
             ],
             [
              0.3333333333333333,
              "#9c179e"
             ],
             [
              0.4444444444444444,
              "#bd3786"
             ],
             [
              0.5555555555555556,
              "#d8576b"
             ],
             [
              0.6666666666666666,
              "#ed7953"
             ],
             [
              0.7777777777777778,
              "#fb9f3a"
             ],
             [
              0.8888888888888888,
              "#fdca26"
             ],
             [
              1,
              "#f0f921"
             ]
            ],
            "type": "histogram2d"
           }
          ],
          "histogram2dcontour": [
           {
            "colorbar": {
             "outlinewidth": 0,
             "ticks": ""
            },
            "colorscale": [
             [
              0,
              "#0d0887"
             ],
             [
              0.1111111111111111,
              "#46039f"
             ],
             [
              0.2222222222222222,
              "#7201a8"
             ],
             [
              0.3333333333333333,
              "#9c179e"
             ],
             [
              0.4444444444444444,
              "#bd3786"
             ],
             [
              0.5555555555555556,
              "#d8576b"
             ],
             [
              0.6666666666666666,
              "#ed7953"
             ],
             [
              0.7777777777777778,
              "#fb9f3a"
             ],
             [
              0.8888888888888888,
              "#fdca26"
             ],
             [
              1,
              "#f0f921"
             ]
            ],
            "type": "histogram2dcontour"
           }
          ],
          "mesh3d": [
           {
            "colorbar": {
             "outlinewidth": 0,
             "ticks": ""
            },
            "type": "mesh3d"
           }
          ],
          "parcoords": [
           {
            "line": {
             "colorbar": {
              "outlinewidth": 0,
              "ticks": ""
             }
            },
            "type": "parcoords"
           }
          ],
          "pie": [
           {
            "automargin": true,
            "type": "pie"
           }
          ],
          "scatter": [
           {
            "fillpattern": {
             "fillmode": "overlay",
             "size": 10,
             "solidity": 0.2
            },
            "type": "scatter"
           }
          ],
          "scatter3d": [
           {
            "line": {
             "colorbar": {
              "outlinewidth": 0,
              "ticks": ""
             }
            },
            "marker": {
             "colorbar": {
              "outlinewidth": 0,
              "ticks": ""
             }
            },
            "type": "scatter3d"
           }
          ],
          "scattercarpet": [
           {
            "marker": {
             "colorbar": {
              "outlinewidth": 0,
              "ticks": ""
             }
            },
            "type": "scattercarpet"
           }
          ],
          "scattergeo": [
           {
            "marker": {
             "colorbar": {
              "outlinewidth": 0,
              "ticks": ""
             }
            },
            "type": "scattergeo"
           }
          ],
          "scattergl": [
           {
            "marker": {
             "colorbar": {
              "outlinewidth": 0,
              "ticks": ""
             }
            },
            "type": "scattergl"
           }
          ],
          "scattermapbox": [
           {
            "marker": {
             "colorbar": {
              "outlinewidth": 0,
              "ticks": ""
             }
            },
            "type": "scattermapbox"
           }
          ],
          "scatterpolar": [
           {
            "marker": {
             "colorbar": {
              "outlinewidth": 0,
              "ticks": ""
             }
            },
            "type": "scatterpolar"
           }
          ],
          "scatterpolargl": [
           {
            "marker": {
             "colorbar": {
              "outlinewidth": 0,
              "ticks": ""
             }
            },
            "type": "scatterpolargl"
           }
          ],
          "scatterternary": [
           {
            "marker": {
             "colorbar": {
              "outlinewidth": 0,
              "ticks": ""
             }
            },
            "type": "scatterternary"
           }
          ],
          "surface": [
           {
            "colorbar": {
             "outlinewidth": 0,
             "ticks": ""
            },
            "colorscale": [
             [
              0,
              "#0d0887"
             ],
             [
              0.1111111111111111,
              "#46039f"
             ],
             [
              0.2222222222222222,
              "#7201a8"
             ],
             [
              0.3333333333333333,
              "#9c179e"
             ],
             [
              0.4444444444444444,
              "#bd3786"
             ],
             [
              0.5555555555555556,
              "#d8576b"
             ],
             [
              0.6666666666666666,
              "#ed7953"
             ],
             [
              0.7777777777777778,
              "#fb9f3a"
             ],
             [
              0.8888888888888888,
              "#fdca26"
             ],
             [
              1,
              "#f0f921"
             ]
            ],
            "type": "surface"
           }
          ],
          "table": [
           {
            "cells": {
             "fill": {
              "color": "#EBF0F8"
             },
             "line": {
              "color": "white"
             }
            },
            "header": {
             "fill": {
              "color": "#C8D4E3"
             },
             "line": {
              "color": "white"
             }
            },
            "type": "table"
           }
          ]
         },
         "layout": {
          "annotationdefaults": {
           "arrowcolor": "#2a3f5f",
           "arrowhead": 0,
           "arrowwidth": 1
          },
          "autotypenumbers": "strict",
          "coloraxis": {
           "colorbar": {
            "outlinewidth": 0,
            "ticks": ""
           }
          },
          "colorscale": {
           "diverging": [
            [
             0,
             "#8e0152"
            ],
            [
             0.1,
             "#c51b7d"
            ],
            [
             0.2,
             "#de77ae"
            ],
            [
             0.3,
             "#f1b6da"
            ],
            [
             0.4,
             "#fde0ef"
            ],
            [
             0.5,
             "#f7f7f7"
            ],
            [
             0.6,
             "#e6f5d0"
            ],
            [
             0.7,
             "#b8e186"
            ],
            [
             0.8,
             "#7fbc41"
            ],
            [
             0.9,
             "#4d9221"
            ],
            [
             1,
             "#276419"
            ]
           ],
           "sequential": [
            [
             0,
             "#0d0887"
            ],
            [
             0.1111111111111111,
             "#46039f"
            ],
            [
             0.2222222222222222,
             "#7201a8"
            ],
            [
             0.3333333333333333,
             "#9c179e"
            ],
            [
             0.4444444444444444,
             "#bd3786"
            ],
            [
             0.5555555555555556,
             "#d8576b"
            ],
            [
             0.6666666666666666,
             "#ed7953"
            ],
            [
             0.7777777777777778,
             "#fb9f3a"
            ],
            [
             0.8888888888888888,
             "#fdca26"
            ],
            [
             1,
             "#f0f921"
            ]
           ],
           "sequentialminus": [
            [
             0,
             "#0d0887"
            ],
            [
             0.1111111111111111,
             "#46039f"
            ],
            [
             0.2222222222222222,
             "#7201a8"
            ],
            [
             0.3333333333333333,
             "#9c179e"
            ],
            [
             0.4444444444444444,
             "#bd3786"
            ],
            [
             0.5555555555555556,
             "#d8576b"
            ],
            [
             0.6666666666666666,
             "#ed7953"
            ],
            [
             0.7777777777777778,
             "#fb9f3a"
            ],
            [
             0.8888888888888888,
             "#fdca26"
            ],
            [
             1,
             "#f0f921"
            ]
           ]
          },
          "colorway": [
           "#636efa",
           "#EF553B",
           "#00cc96",
           "#ab63fa",
           "#FFA15A",
           "#19d3f3",
           "#FF6692",
           "#B6E880",
           "#FF97FF",
           "#FECB52"
          ],
          "font": {
           "color": "#2a3f5f"
          },
          "geo": {
           "bgcolor": "white",
           "lakecolor": "white",
           "landcolor": "#E5ECF6",
           "showlakes": true,
           "showland": true,
           "subunitcolor": "white"
          },
          "hoverlabel": {
           "align": "left"
          },
          "hovermode": "closest",
          "mapbox": {
           "style": "light"
          },
          "paper_bgcolor": "white",
          "plot_bgcolor": "#E5ECF6",
          "polar": {
           "angularaxis": {
            "gridcolor": "white",
            "linecolor": "white",
            "ticks": ""
           },
           "bgcolor": "#E5ECF6",
           "radialaxis": {
            "gridcolor": "white",
            "linecolor": "white",
            "ticks": ""
           }
          },
          "scene": {
           "xaxis": {
            "backgroundcolor": "#E5ECF6",
            "gridcolor": "white",
            "gridwidth": 2,
            "linecolor": "white",
            "showbackground": true,
            "ticks": "",
            "zerolinecolor": "white"
           },
           "yaxis": {
            "backgroundcolor": "#E5ECF6",
            "gridcolor": "white",
            "gridwidth": 2,
            "linecolor": "white",
            "showbackground": true,
            "ticks": "",
            "zerolinecolor": "white"
           },
           "zaxis": {
            "backgroundcolor": "#E5ECF6",
            "gridcolor": "white",
            "gridwidth": 2,
            "linecolor": "white",
            "showbackground": true,
            "ticks": "",
            "zerolinecolor": "white"
           }
          },
          "shapedefaults": {
           "line": {
            "color": "#2a3f5f"
           }
          },
          "ternary": {
           "aaxis": {
            "gridcolor": "white",
            "linecolor": "white",
            "ticks": ""
           },
           "baxis": {
            "gridcolor": "white",
            "linecolor": "white",
            "ticks": ""
           },
           "bgcolor": "#E5ECF6",
           "caxis": {
            "gridcolor": "white",
            "linecolor": "white",
            "ticks": ""
           }
          },
          "title": {
           "x": 0.05
          },
          "xaxis": {
           "automargin": true,
           "gridcolor": "white",
           "linecolor": "white",
           "ticks": "",
           "title": {
            "standoff": 15
           },
           "zerolinecolor": "white",
           "zerolinewidth": 2
          },
          "yaxis": {
           "automargin": true,
           "gridcolor": "white",
           "linecolor": "white",
           "ticks": "",
           "title": {
            "standoff": 15
           },
           "zerolinecolor": "white",
           "zerolinewidth": 2
          }
         }
        },
        "title": {
         "text": "GANTT Chart"
        },
        "xaxis": {
         "range": [
          "1970-01-01T00:35:09",
          "1970-01-02T01:12:56"
         ],
         "title": {
          "font": {
           "color": "#7f7f7f",
           "family": "Courier New, monospace",
           "size": 18
          },
          "text": "Time"
         }
        },
        "yaxis": {
         "title": {
          "font": {
           "color": "#7f7f7f",
           "family": "Courier New, monospace",
           "size": 18
          },
          "text": "Activities"
         }
        }
       }
      },
      "text/html": [
       "<div>                            <div id=\"69c966a6-bb92-4e78-9d68-7496fad446d8\" class=\"plotly-graph-div\" style=\"height:525px; width:100%;\"></div>            <script type=\"text/javascript\">                require([\"plotly\"], function(Plotly) {                    window.PLOTLYENV=window.PLOTLYENV || {};                                    if (document.getElementById(\"69c966a6-bb92-4e78-9d68-7496fad446d8\")) {                    Plotly.newPlot(                        \"69c966a6-bb92-4e78-9d68-7496fad446d8\",                        [{\"connectgaps\":false,\"hoverinfo\":\"y+name\",\"line\":{\"color\":\"rgb(48,33,244)\",\"width\":10},\"mode\":\"lines\",\"name\":\"loading:Carrier A\",\"x\":[\"1970-01-01T01:41:49\",\"1970-01-01T01:41:49\",\"1970-01-01T02:15:09\",\"1970-01-01T02:15:09\",\"1970-01-01T02:15:09\",\"1970-01-01T04:41:00\",\"1970-01-01T04:41:00\",\"1970-01-01T05:14:20\",\"1970-01-01T05:14:20\",\"1970-01-01T05:14:20\",\"1970-01-01T08:06:27\",\"1970-01-01T08:06:27\",\"1970-01-01T08:39:47\",\"1970-01-01T08:39:47\",\"1970-01-01T08:39:47\",\"1970-01-01T11:05:38\",\"1970-01-01T11:05:38\",\"1970-01-01T11:38:58\",\"1970-01-01T11:38:58\",\"1970-01-01T11:38:58\",\"1970-01-01T14:04:49\",\"1970-01-01T14:04:49\",\"1970-01-01T14:38:09\",\"1970-01-01T14:38:09\",\"1970-01-01T14:38:09\",\"1970-01-01T17:04:00\",\"1970-01-01T17:04:00\",\"1970-01-01T17:37:20\",\"1970-01-01T17:37:20\",\"1970-01-01T17:37:20\",\"1970-01-01T20:03:11\",\"1970-01-01T20:03:11\",\"1970-01-01T20:36:31\",\"1970-01-01T20:36:31\",\"1970-01-01T20:36:31\",\"1970-01-01T23:02:22\",\"1970-01-01T23:02:22\",\"1970-01-01T23:35:42\",\"1970-01-01T23:35:42\",\"1970-01-01T23:35:42\",\"1970-01-01T01:41:49\",\"1970-01-01T01:41:49\",\"1970-01-01T02:15:09\",\"1970-01-01T02:15:09\",\"1970-01-01T02:15:09\",\"1970-01-01T04:41:00\",\"1970-01-01T04:41:00\",\"1970-01-01T05:14:20\",\"1970-01-01T05:14:20\",\"1970-01-01T05:14:20\",\"1970-01-01T08:06:27\",\"1970-01-01T08:06:27\",\"1970-01-01T08:39:47\",\"1970-01-01T08:39:47\",\"1970-01-01T08:39:47\",\"1970-01-01T11:05:38\",\"1970-01-01T11:05:38\",\"1970-01-01T11:38:58\",\"1970-01-01T11:38:58\",\"1970-01-01T11:38:58\",\"1970-01-01T14:04:49\",\"1970-01-01T14:04:49\",\"1970-01-01T14:38:09\",\"1970-01-01T14:38:09\",\"1970-01-01T14:38:09\",\"1970-01-01T17:04:00\",\"1970-01-01T17:04:00\",\"1970-01-01T17:37:20\",\"1970-01-01T17:37:20\",\"1970-01-01T17:37:20\",\"1970-01-01T20:03:11\",\"1970-01-01T20:03:11\",\"1970-01-01T20:36:31\",\"1970-01-01T20:36:31\",\"1970-01-01T20:36:31\",\"1970-01-01T23:02:22\",\"1970-01-01T23:02:22\",\"1970-01-01T23:35:42\",\"1970-01-01T23:35:42\",\"1970-01-01T23:35:42\"],\"y\":[\"Trench\",\"Trench\",\"Trench\",\"Trench\",null,\"Trench\",\"Trench\",\"Trench\",\"Trench\",null,\"Trench\",\"Trench\",\"Trench\",\"Trench\",null,\"Trench\",\"Trench\",\"Trench\",\"Trench\",null,\"Trench\",\"Trench\",\"Trench\",\"Trench\",null,\"Trench\",\"Trench\",\"Trench\",\"Trench\",null,\"Trench\",\"Trench\",\"Trench\",\"Trench\",null,\"Trench\",\"Trench\",\"Trench\",\"Trench\",null,\"Cutter T\",\"Cutter T\",\"Cutter T\",\"Cutter T\",null,\"Cutter T\",\"Cutter T\",\"Cutter T\",\"Cutter T\",null,\"Cutter T\",\"Cutter T\",\"Cutter T\",\"Cutter T\",null,\"Cutter T\",\"Cutter T\",\"Cutter T\",\"Cutter T\",null,\"Cutter T\",\"Cutter T\",\"Cutter T\",\"Cutter T\",null,\"Cutter T\",\"Cutter T\",\"Cutter T\",\"Cutter T\",null,\"Cutter T\",\"Cutter T\",\"Cutter T\",\"Cutter T\",null,\"Cutter T\",\"Cutter T\",\"Cutter T\",\"Cutter T\",null],\"type\":\"scatter\"},{\"connectgaps\":false,\"hoverinfo\":\"y+name\",\"line\":{\"color\":\"rgb(76,61,16)\",\"width\":10},\"mode\":\"lines\",\"name\":\"loading:Carrier C\",\"x\":[\"1970-01-01T01:08:29\",\"1970-01-01T01:08:29\",\"1970-01-01T01:41:49\",\"1970-01-01T01:41:49\",\"1970-01-01T01:41:49\",\"1970-01-01T03:54:13\",\"1970-01-01T03:54:13\",\"1970-01-01T04:27:33\",\"1970-01-01T04:27:33\",\"1970-01-01T04:27:33\",\"1970-01-01T06:39:57\",\"1970-01-01T06:39:57\",\"1970-01-01T07:13:17\",\"1970-01-01T07:13:17\",\"1970-01-01T07:13:17\",\"1970-01-01T09:25:41\",\"1970-01-01T09:25:41\",\"1970-01-01T09:59:01\",\"1970-01-01T09:59:01\",\"1970-01-01T09:59:01\",\"1970-01-01T12:11:25\",\"1970-01-01T12:11:25\",\"1970-01-01T12:44:45\",\"1970-01-01T12:44:45\",\"1970-01-01T12:44:45\",\"1970-01-01T14:57:09\",\"1970-01-01T14:57:09\",\"1970-01-01T15:30:29\",\"1970-01-01T15:30:29\",\"1970-01-01T15:30:29\",\"1970-01-01T17:42:53\",\"1970-01-01T17:42:53\",\"1970-01-01T18:16:13\",\"1970-01-01T18:16:13\",\"1970-01-01T18:16:13\",\"1970-01-01T20:36:31\",\"1970-01-01T20:36:31\",\"1970-01-01T21:09:51\",\"1970-01-01T21:09:51\",\"1970-01-01T21:09:51\",\"1970-01-01T01:08:29\",\"1970-01-01T01:08:29\",\"1970-01-01T01:41:49\",\"1970-01-01T01:41:49\",\"1970-01-01T01:41:49\",\"1970-01-01T03:54:13\",\"1970-01-01T03:54:13\",\"1970-01-01T04:27:33\",\"1970-01-01T04:27:33\",\"1970-01-01T04:27:33\",\"1970-01-01T06:39:57\",\"1970-01-01T06:39:57\",\"1970-01-01T07:13:17\",\"1970-01-01T07:13:17\",\"1970-01-01T07:13:17\",\"1970-01-01T09:25:41\",\"1970-01-01T09:25:41\",\"1970-01-01T09:59:01\",\"1970-01-01T09:59:01\",\"1970-01-01T09:59:01\",\"1970-01-01T12:11:25\",\"1970-01-01T12:11:25\",\"1970-01-01T12:44:45\",\"1970-01-01T12:44:45\",\"1970-01-01T12:44:45\",\"1970-01-01T14:57:09\",\"1970-01-01T14:57:09\",\"1970-01-01T15:30:29\",\"1970-01-01T15:30:29\",\"1970-01-01T15:30:29\",\"1970-01-01T17:42:53\",\"1970-01-01T17:42:53\",\"1970-01-01T18:16:13\",\"1970-01-01T18:16:13\",\"1970-01-01T18:16:13\",\"1970-01-01T20:36:31\",\"1970-01-01T20:36:31\",\"1970-01-01T21:09:51\",\"1970-01-01T21:09:51\",\"1970-01-01T21:09:51\"],\"y\":[\"Trench\",\"Trench\",\"Trench\",\"Trench\",null,\"Trench\",\"Trench\",\"Trench\",\"Trench\",null,\"Trench\",\"Trench\",\"Trench\",\"Trench\",null,\"Trench\",\"Trench\",\"Trench\",\"Trench\",null,\"Trench\",\"Trench\",\"Trench\",\"Trench\",null,\"Trench\",\"Trench\",\"Trench\",\"Trench\",null,\"Trench\",\"Trench\",\"Trench\",\"Trench\",null,\"Trench\",\"Trench\",\"Trench\",\"Trench\",null,\"Cutter T\",\"Cutter T\",\"Cutter T\",\"Cutter T\",null,\"Cutter T\",\"Cutter T\",\"Cutter T\",\"Cutter T\",null,\"Cutter T\",\"Cutter T\",\"Cutter T\",\"Cutter T\",null,\"Cutter T\",\"Cutter T\",\"Cutter T\",\"Cutter T\",null,\"Cutter T\",\"Cutter T\",\"Cutter T\",\"Cutter T\",null,\"Cutter T\",\"Cutter T\",\"Cutter T\",\"Cutter T\",null,\"Cutter T\",\"Cutter T\",\"Cutter T\",\"Cutter T\",null,\"Cutter T\",\"Cutter T\",\"Cutter T\",\"Cutter T\",null],\"type\":\"scatter\"},{\"connectgaps\":false,\"hoverinfo\":\"y+name\",\"line\":{\"color\":\"rgb(104,89,44)\",\"width\":10},\"mode\":\"lines\",\"name\":\"loading:Carrier B\",\"x\":[\"1970-01-01T00:35:09\",\"1970-01-01T00:35:09\",\"1970-01-01T01:08:29\",\"1970-01-01T01:08:29\",\"1970-01-01T01:08:29\",\"1970-01-01T02:53:56\",\"1970-01-01T02:53:56\",\"1970-01-01T03:27:16\",\"1970-01-01T03:27:16\",\"1970-01-01T03:27:16\",\"1970-01-01T05:14:20\",\"1970-01-01T05:14:20\",\"1970-01-01T05:47:40\",\"1970-01-01T05:47:40\",\"1970-01-01T05:47:40\",\"1970-01-01T07:33:07\",\"1970-01-01T07:33:07\",\"1970-01-01T08:06:27\",\"1970-01-01T08:06:27\",\"1970-01-01T08:06:27\",\"1970-01-01T09:59:01\",\"1970-01-01T09:59:01\",\"1970-01-01T10:32:21\",\"1970-01-01T10:32:21\",\"1970-01-01T10:32:21\",\"1970-01-01T12:44:45\",\"1970-01-01T12:44:45\",\"1970-01-01T13:18:05\",\"1970-01-01T13:18:05\",\"1970-01-01T13:18:05\",\"1970-01-01T15:30:29\",\"1970-01-01T15:30:29\",\"1970-01-01T16:03:49\",\"1970-01-01T16:03:49\",\"1970-01-01T16:03:49\",\"1970-01-01T18:16:13\",\"1970-01-01T18:16:13\",\"1970-01-01T18:49:33\",\"1970-01-01T18:49:33\",\"1970-01-01T18:49:33\",\"1970-01-01T21:09:51\",\"1970-01-01T21:09:51\",\"1970-01-01T21:43:11\",\"1970-01-01T21:43:11\",\"1970-01-01T21:43:11\",\"1970-01-01T00:35:09\",\"1970-01-01T00:35:09\",\"1970-01-01T01:08:29\",\"1970-01-01T01:08:29\",\"1970-01-01T01:08:29\",\"1970-01-01T02:53:56\",\"1970-01-01T02:53:56\",\"1970-01-01T03:27:16\",\"1970-01-01T03:27:16\",\"1970-01-01T03:27:16\",\"1970-01-01T05:14:20\",\"1970-01-01T05:14:20\",\"1970-01-01T05:47:40\",\"1970-01-01T05:47:40\",\"1970-01-01T05:47:40\",\"1970-01-01T07:33:07\",\"1970-01-01T07:33:07\",\"1970-01-01T08:06:27\",\"1970-01-01T08:06:27\",\"1970-01-01T08:06:27\",\"1970-01-01T09:59:01\",\"1970-01-01T09:59:01\",\"1970-01-01T10:32:21\",\"1970-01-01T10:32:21\",\"1970-01-01T10:32:21\",\"1970-01-01T12:44:45\",\"1970-01-01T12:44:45\",\"1970-01-01T13:18:05\",\"1970-01-01T13:18:05\",\"1970-01-01T13:18:05\",\"1970-01-01T15:30:29\",\"1970-01-01T15:30:29\",\"1970-01-01T16:03:49\",\"1970-01-01T16:03:49\",\"1970-01-01T16:03:49\",\"1970-01-01T18:16:13\",\"1970-01-01T18:16:13\",\"1970-01-01T18:49:33\",\"1970-01-01T18:49:33\",\"1970-01-01T18:49:33\",\"1970-01-01T21:09:51\",\"1970-01-01T21:09:51\",\"1970-01-01T21:43:11\",\"1970-01-01T21:43:11\",\"1970-01-01T21:43:11\"],\"y\":[\"Trench\",\"Trench\",\"Trench\",\"Trench\",null,\"Trench\",\"Trench\",\"Trench\",\"Trench\",null,\"Trench\",\"Trench\",\"Trench\",\"Trench\",null,\"Trench\",\"Trench\",\"Trench\",\"Trench\",null,\"Trench\",\"Trench\",\"Trench\",\"Trench\",null,\"Trench\",\"Trench\",\"Trench\",\"Trench\",null,\"Trench\",\"Trench\",\"Trench\",\"Trench\",null,\"Trench\",\"Trench\",\"Trench\",\"Trench\",null,\"Trench\",\"Trench\",\"Trench\",\"Trench\",null,\"Cutter T\",\"Cutter T\",\"Cutter T\",\"Cutter T\",null,\"Cutter T\",\"Cutter T\",\"Cutter T\",\"Cutter T\",null,\"Cutter T\",\"Cutter T\",\"Cutter T\",\"Cutter T\",null,\"Cutter T\",\"Cutter T\",\"Cutter T\",\"Cutter T\",null,\"Cutter T\",\"Cutter T\",\"Cutter T\",\"Cutter T\",null,\"Cutter T\",\"Cutter T\",\"Cutter T\",\"Cutter T\",null,\"Cutter T\",\"Cutter T\",\"Cutter T\",\"Cutter T\",null,\"Cutter T\",\"Cutter T\",\"Cutter T\",\"Cutter T\",null,\"Cutter T\",\"Cutter T\",\"Cutter T\",\"Cutter T\",null],\"type\":\"scatter\"},{\"connectgaps\":false,\"hoverinfo\":\"y+name\",\"line\":{\"color\":\"rgb(132,117,72)\",\"width\":10},\"mode\":\"lines\",\"name\":\"unloading:Carrier A\",\"x\":[\"1970-01-01T03:03:46\",\"1970-01-01T03:03:46\",\"1970-01-01T03:52:23\",\"1970-01-01T03:52:23\",\"1970-01-01T03:52:23\",\"1970-01-01T06:02:57\",\"1970-01-01T06:02:57\",\"1970-01-01T06:51:34\",\"1970-01-01T06:51:34\",\"1970-01-01T06:51:34\",\"1970-01-01T09:28:24\",\"1970-01-01T09:28:24\",\"1970-01-01T10:17:01\",\"1970-01-01T10:17:01\",\"1970-01-01T10:17:01\",\"1970-01-01T12:27:35\",\"1970-01-01T12:27:35\",\"1970-01-01T13:16:12\",\"1970-01-01T13:16:12\",\"1970-01-01T13:16:12\",\"1970-01-01T15:26:46\",\"1970-01-01T15:26:46\",\"1970-01-01T16:15:23\",\"1970-01-01T16:15:23\",\"1970-01-01T16:15:23\",\"1970-01-01T18:25:57\",\"1970-01-01T18:25:57\",\"1970-01-01T19:14:34\",\"1970-01-01T19:14:34\",\"1970-01-01T19:14:34\",\"1970-01-01T21:25:08\",\"1970-01-01T21:25:08\",\"1970-01-01T22:13:45\",\"1970-01-01T22:13:45\",\"1970-01-01T22:13:45\",\"1970-01-02T00:24:19\",\"1970-01-02T00:24:19\",\"1970-01-02T01:12:56\",\"1970-01-02T01:12:56\",\"1970-01-02T01:12:56\"],\"y\":[\"Reclamation\",\"Reclamation\",\"Reclamation\",\"Reclamation\",null,\"Reclamation\",\"Reclamation\",\"Reclamation\",\"Reclamation\",null,\"Reclamation\",\"Reclamation\",\"Reclamation\",\"Reclamation\",null,\"Reclamation\",\"Reclamation\",\"Reclamation\",\"Reclamation\",null,\"Reclamation\",\"Reclamation\",\"Reclamation\",\"Reclamation\",null,\"Reclamation\",\"Reclamation\",\"Reclamation\",\"Reclamation\",null,\"Reclamation\",\"Reclamation\",\"Reclamation\",\"Reclamation\",null,\"Reclamation\",\"Reclamation\",\"Reclamation\",\"Reclamation\",null],\"type\":\"scatter\"},{\"connectgaps\":false,\"hoverinfo\":\"y+name\",\"line\":{\"color\":\"rgb(160,145,100)\",\"width\":10},\"mode\":\"lines\",\"name\":\"unloading:Carrier B\",\"x\":[\"1970-01-01T01:43:38\",\"1970-01-01T01:43:38\",\"1970-01-01T02:18:47\",\"1970-01-01T02:18:47\",\"1970-01-01T02:18:47\",\"1970-01-01T04:02:25\",\"1970-01-01T04:02:25\",\"1970-01-01T04:37:34\",\"1970-01-01T04:37:34\",\"1970-01-01T04:37:34\",\"1970-01-01T06:22:49\",\"1970-01-01T06:22:49\",\"1970-01-01T06:57:58\",\"1970-01-01T06:57:58\",\"1970-01-01T06:57:58\",\"1970-01-01T08:41:36\",\"1970-01-01T08:41:36\",\"1970-01-01T09:16:45\",\"1970-01-01T09:16:45\",\"1970-01-01T09:16:45\",\"1970-01-01T11:07:30\",\"1970-01-01T11:07:30\",\"1970-01-01T11:42:39\",\"1970-01-01T11:42:39\",\"1970-01-01T11:42:39\",\"1970-01-01T13:53:14\",\"1970-01-01T13:53:14\",\"1970-01-01T14:28:23\",\"1970-01-01T14:28:23\",\"1970-01-01T14:28:23\",\"1970-01-01T16:38:58\",\"1970-01-01T16:38:58\",\"1970-01-01T17:14:07\",\"1970-01-01T17:14:07\",\"1970-01-01T17:14:07\",\"1970-01-01T19:24:42\",\"1970-01-01T19:24:42\",\"1970-01-01T19:59:51\",\"1970-01-01T19:59:51\",\"1970-01-01T19:59:51\",\"1970-01-01T22:18:20\",\"1970-01-01T22:18:20\",\"1970-01-01T22:53:29\",\"1970-01-01T22:53:29\",\"1970-01-01T22:53:29\"],\"y\":[\"Reclamation\",\"Reclamation\",\"Reclamation\",\"Reclamation\",null,\"Reclamation\",\"Reclamation\",\"Reclamation\",\"Reclamation\",null,\"Reclamation\",\"Reclamation\",\"Reclamation\",\"Reclamation\",null,\"Reclamation\",\"Reclamation\",\"Reclamation\",\"Reclamation\",null,\"Reclamation\",\"Reclamation\",\"Reclamation\",\"Reclamation\",null,\"Reclamation\",\"Reclamation\",\"Reclamation\",\"Reclamation\",null,\"Reclamation\",\"Reclamation\",\"Reclamation\",\"Reclamation\",null,\"Reclamation\",\"Reclamation\",\"Reclamation\",\"Reclamation\",null,\"Reclamation\",\"Reclamation\",\"Reclamation\",\"Reclamation\",null],\"type\":\"scatter\"},{\"connectgaps\":false,\"hoverinfo\":\"y+name\",\"line\":{\"color\":\"rgb(188,173,128)\",\"width\":10},\"mode\":\"lines\",\"name\":\"unloading:Carrier C\",\"x\":[\"1970-01-01T02:25:57\",\"1970-01-01T02:25:57\",\"1970-01-01T03:10:05\",\"1970-01-01T03:10:05\",\"1970-01-01T03:10:05\",\"1970-01-01T05:11:41\",\"1970-01-01T05:11:41\",\"1970-01-01T05:55:49\",\"1970-01-01T05:55:49\",\"1970-01-01T05:55:49\",\"1970-01-01T07:57:25\",\"1970-01-01T07:57:25\",\"1970-01-01T08:41:33\",\"1970-01-01T08:41:33\",\"1970-01-01T08:41:33\",\"1970-01-01T10:43:09\",\"1970-01-01T10:43:09\",\"1970-01-01T11:27:17\",\"1970-01-01T11:27:17\",\"1970-01-01T11:27:17\",\"1970-01-01T13:28:53\",\"1970-01-01T13:28:53\",\"1970-01-01T14:13:01\",\"1970-01-01T14:13:01\",\"1970-01-01T14:13:01\",\"1970-01-01T16:14:37\",\"1970-01-01T16:14:37\",\"1970-01-01T16:58:45\",\"1970-01-01T16:58:45\",\"1970-01-01T16:58:45\",\"1970-01-01T19:00:21\",\"1970-01-01T19:00:21\",\"1970-01-01T19:44:29\",\"1970-01-01T19:44:29\",\"1970-01-01T19:44:29\",\"1970-01-01T21:53:59\",\"1970-01-01T21:53:59\",\"1970-01-01T22:38:07\",\"1970-01-01T22:38:07\",\"1970-01-01T22:38:07\"],\"y\":[\"Reclamation\",\"Reclamation\",\"Reclamation\",\"Reclamation\",null,\"Reclamation\",\"Reclamation\",\"Reclamation\",\"Reclamation\",null,\"Reclamation\",\"Reclamation\",\"Reclamation\",\"Reclamation\",null,\"Reclamation\",\"Reclamation\",\"Reclamation\",\"Reclamation\",null,\"Reclamation\",\"Reclamation\",\"Reclamation\",\"Reclamation\",null,\"Reclamation\",\"Reclamation\",\"Reclamation\",\"Reclamation\",null,\"Reclamation\",\"Reclamation\",\"Reclamation\",\"Reclamation\",null,\"Reclamation\",\"Reclamation\",\"Reclamation\",\"Reclamation\",null],\"type\":\"scatter\"},{\"connectgaps\":false,\"hoverinfo\":\"y+name\",\"line\":{\"color\":\"rgb(216,201,156)\",\"width\":10},\"mode\":\"lines\",\"name\":\"loading:Carrier A\",\"x\":[\"1970-01-01T01:41:49\",\"1970-01-01T01:41:49\",\"1970-01-01T02:15:09\",\"1970-01-01T02:15:09\",\"1970-01-01T02:15:09\",\"1970-01-01T04:41:00\",\"1970-01-01T04:41:00\",\"1970-01-01T05:14:20\",\"1970-01-01T05:14:20\",\"1970-01-01T05:14:20\",\"1970-01-01T08:06:27\",\"1970-01-01T08:06:27\",\"1970-01-01T08:39:47\",\"1970-01-01T08:39:47\",\"1970-01-01T08:39:47\",\"1970-01-01T11:05:38\",\"1970-01-01T11:05:38\",\"1970-01-01T11:38:58\",\"1970-01-01T11:38:58\",\"1970-01-01T11:38:58\",\"1970-01-01T14:04:49\",\"1970-01-01T14:04:49\",\"1970-01-01T14:38:09\",\"1970-01-01T14:38:09\",\"1970-01-01T14:38:09\",\"1970-01-01T17:04:00\",\"1970-01-01T17:04:00\",\"1970-01-01T17:37:20\",\"1970-01-01T17:37:20\",\"1970-01-01T17:37:20\",\"1970-01-01T20:03:11\",\"1970-01-01T20:03:11\",\"1970-01-01T20:36:31\",\"1970-01-01T20:36:31\",\"1970-01-01T20:36:31\",\"1970-01-01T23:02:22\",\"1970-01-01T23:02:22\",\"1970-01-01T23:35:42\",\"1970-01-01T23:35:42\",\"1970-01-01T23:35:42\",\"1970-01-01T01:41:49\",\"1970-01-01T01:41:49\",\"1970-01-01T02:15:09\",\"1970-01-01T02:15:09\",\"1970-01-01T02:15:09\",\"1970-01-01T04:41:00\",\"1970-01-01T04:41:00\",\"1970-01-01T05:14:20\",\"1970-01-01T05:14:20\",\"1970-01-01T05:14:20\",\"1970-01-01T08:06:27\",\"1970-01-01T08:06:27\",\"1970-01-01T08:39:47\",\"1970-01-01T08:39:47\",\"1970-01-01T08:39:47\",\"1970-01-01T11:05:38\",\"1970-01-01T11:05:38\",\"1970-01-01T11:38:58\",\"1970-01-01T11:38:58\",\"1970-01-01T11:38:58\",\"1970-01-01T14:04:49\",\"1970-01-01T14:04:49\",\"1970-01-01T14:38:09\",\"1970-01-01T14:38:09\",\"1970-01-01T14:38:09\",\"1970-01-01T17:04:00\",\"1970-01-01T17:04:00\",\"1970-01-01T17:37:20\",\"1970-01-01T17:37:20\",\"1970-01-01T17:37:20\",\"1970-01-01T20:03:11\",\"1970-01-01T20:03:11\",\"1970-01-01T20:36:31\",\"1970-01-01T20:36:31\",\"1970-01-01T20:36:31\",\"1970-01-01T23:02:22\",\"1970-01-01T23:02:22\",\"1970-01-01T23:35:42\",\"1970-01-01T23:35:42\",\"1970-01-01T23:35:42\"],\"y\":[\"Trench\",\"Trench\",\"Trench\",\"Trench\",null,\"Trench\",\"Trench\",\"Trench\",\"Trench\",null,\"Trench\",\"Trench\",\"Trench\",\"Trench\",null,\"Trench\",\"Trench\",\"Trench\",\"Trench\",null,\"Trench\",\"Trench\",\"Trench\",\"Trench\",null,\"Trench\",\"Trench\",\"Trench\",\"Trench\",null,\"Trench\",\"Trench\",\"Trench\",\"Trench\",null,\"Trench\",\"Trench\",\"Trench\",\"Trench\",null,\"Cutter T\",\"Cutter T\",\"Cutter T\",\"Cutter T\",null,\"Cutter T\",\"Cutter T\",\"Cutter T\",\"Cutter T\",null,\"Cutter T\",\"Cutter T\",\"Cutter T\",\"Cutter T\",null,\"Cutter T\",\"Cutter T\",\"Cutter T\",\"Cutter T\",null,\"Cutter T\",\"Cutter T\",\"Cutter T\",\"Cutter T\",null,\"Cutter T\",\"Cutter T\",\"Cutter T\",\"Cutter T\",null,\"Cutter T\",\"Cutter T\",\"Cutter T\",\"Cutter T\",null,\"Cutter T\",\"Cutter T\",\"Cutter T\",\"Cutter T\",null],\"type\":\"scatter\"},{\"connectgaps\":false,\"hoverinfo\":\"y+name\",\"line\":{\"color\":\"rgb(244,229,184)\",\"width\":10},\"mode\":\"lines\",\"name\":\"loading:Carrier C\",\"x\":[\"1970-01-01T01:08:29\",\"1970-01-01T01:08:29\",\"1970-01-01T01:41:49\",\"1970-01-01T01:41:49\",\"1970-01-01T01:41:49\",\"1970-01-01T03:54:13\",\"1970-01-01T03:54:13\",\"1970-01-01T04:27:33\",\"1970-01-01T04:27:33\",\"1970-01-01T04:27:33\",\"1970-01-01T06:39:57\",\"1970-01-01T06:39:57\",\"1970-01-01T07:13:17\",\"1970-01-01T07:13:17\",\"1970-01-01T07:13:17\",\"1970-01-01T09:25:41\",\"1970-01-01T09:25:41\",\"1970-01-01T09:59:01\",\"1970-01-01T09:59:01\",\"1970-01-01T09:59:01\",\"1970-01-01T12:11:25\",\"1970-01-01T12:11:25\",\"1970-01-01T12:44:45\",\"1970-01-01T12:44:45\",\"1970-01-01T12:44:45\",\"1970-01-01T14:57:09\",\"1970-01-01T14:57:09\",\"1970-01-01T15:30:29\",\"1970-01-01T15:30:29\",\"1970-01-01T15:30:29\",\"1970-01-01T17:42:53\",\"1970-01-01T17:42:53\",\"1970-01-01T18:16:13\",\"1970-01-01T18:16:13\",\"1970-01-01T18:16:13\",\"1970-01-01T20:36:31\",\"1970-01-01T20:36:31\",\"1970-01-01T21:09:51\",\"1970-01-01T21:09:51\",\"1970-01-01T21:09:51\",\"1970-01-01T01:08:29\",\"1970-01-01T01:08:29\",\"1970-01-01T01:41:49\",\"1970-01-01T01:41:49\",\"1970-01-01T01:41:49\",\"1970-01-01T03:54:13\",\"1970-01-01T03:54:13\",\"1970-01-01T04:27:33\",\"1970-01-01T04:27:33\",\"1970-01-01T04:27:33\",\"1970-01-01T06:39:57\",\"1970-01-01T06:39:57\",\"1970-01-01T07:13:17\",\"1970-01-01T07:13:17\",\"1970-01-01T07:13:17\",\"1970-01-01T09:25:41\",\"1970-01-01T09:25:41\",\"1970-01-01T09:59:01\",\"1970-01-01T09:59:01\",\"1970-01-01T09:59:01\",\"1970-01-01T12:11:25\",\"1970-01-01T12:11:25\",\"1970-01-01T12:44:45\",\"1970-01-01T12:44:45\",\"1970-01-01T12:44:45\",\"1970-01-01T14:57:09\",\"1970-01-01T14:57:09\",\"1970-01-01T15:30:29\",\"1970-01-01T15:30:29\",\"1970-01-01T15:30:29\",\"1970-01-01T17:42:53\",\"1970-01-01T17:42:53\",\"1970-01-01T18:16:13\",\"1970-01-01T18:16:13\",\"1970-01-01T18:16:13\",\"1970-01-01T20:36:31\",\"1970-01-01T20:36:31\",\"1970-01-01T21:09:51\",\"1970-01-01T21:09:51\",\"1970-01-01T21:09:51\"],\"y\":[\"Trench\",\"Trench\",\"Trench\",\"Trench\",null,\"Trench\",\"Trench\",\"Trench\",\"Trench\",null,\"Trench\",\"Trench\",\"Trench\",\"Trench\",null,\"Trench\",\"Trench\",\"Trench\",\"Trench\",null,\"Trench\",\"Trench\",\"Trench\",\"Trench\",null,\"Trench\",\"Trench\",\"Trench\",\"Trench\",null,\"Trench\",\"Trench\",\"Trench\",\"Trench\",null,\"Trench\",\"Trench\",\"Trench\",\"Trench\",null,\"Cutter T\",\"Cutter T\",\"Cutter T\",\"Cutter T\",null,\"Cutter T\",\"Cutter T\",\"Cutter T\",\"Cutter T\",null,\"Cutter T\",\"Cutter T\",\"Cutter T\",\"Cutter T\",null,\"Cutter T\",\"Cutter T\",\"Cutter T\",\"Cutter T\",null,\"Cutter T\",\"Cutter T\",\"Cutter T\",\"Cutter T\",null,\"Cutter T\",\"Cutter T\",\"Cutter T\",\"Cutter T\",null,\"Cutter T\",\"Cutter T\",\"Cutter T\",\"Cutter T\",null,\"Cutter T\",\"Cutter T\",\"Cutter T\",\"Cutter T\",null],\"type\":\"scatter\"},{\"connectgaps\":false,\"hoverinfo\":\"y+name\",\"line\":{\"color\":\"rgb(16,1,212)\",\"width\":10},\"mode\":\"lines\",\"name\":\"loading:Carrier B\",\"x\":[\"1970-01-01T00:35:09\",\"1970-01-01T00:35:09\",\"1970-01-01T01:08:29\",\"1970-01-01T01:08:29\",\"1970-01-01T01:08:29\",\"1970-01-01T02:53:56\",\"1970-01-01T02:53:56\",\"1970-01-01T03:27:16\",\"1970-01-01T03:27:16\",\"1970-01-01T03:27:16\",\"1970-01-01T05:14:20\",\"1970-01-01T05:14:20\",\"1970-01-01T05:47:40\",\"1970-01-01T05:47:40\",\"1970-01-01T05:47:40\",\"1970-01-01T07:33:07\",\"1970-01-01T07:33:07\",\"1970-01-01T08:06:27\",\"1970-01-01T08:06:27\",\"1970-01-01T08:06:27\",\"1970-01-01T09:59:01\",\"1970-01-01T09:59:01\",\"1970-01-01T10:32:21\",\"1970-01-01T10:32:21\",\"1970-01-01T10:32:21\",\"1970-01-01T12:44:45\",\"1970-01-01T12:44:45\",\"1970-01-01T13:18:05\",\"1970-01-01T13:18:05\",\"1970-01-01T13:18:05\",\"1970-01-01T15:30:29\",\"1970-01-01T15:30:29\",\"1970-01-01T16:03:49\",\"1970-01-01T16:03:49\",\"1970-01-01T16:03:49\",\"1970-01-01T18:16:13\",\"1970-01-01T18:16:13\",\"1970-01-01T18:49:33\",\"1970-01-01T18:49:33\",\"1970-01-01T18:49:33\",\"1970-01-01T21:09:51\",\"1970-01-01T21:09:51\",\"1970-01-01T21:43:11\",\"1970-01-01T21:43:11\",\"1970-01-01T21:43:11\",\"1970-01-01T00:35:09\",\"1970-01-01T00:35:09\",\"1970-01-01T01:08:29\",\"1970-01-01T01:08:29\",\"1970-01-01T01:08:29\",\"1970-01-01T02:53:56\",\"1970-01-01T02:53:56\",\"1970-01-01T03:27:16\",\"1970-01-01T03:27:16\",\"1970-01-01T03:27:16\",\"1970-01-01T05:14:20\",\"1970-01-01T05:14:20\",\"1970-01-01T05:47:40\",\"1970-01-01T05:47:40\",\"1970-01-01T05:47:40\",\"1970-01-01T07:33:07\",\"1970-01-01T07:33:07\",\"1970-01-01T08:06:27\",\"1970-01-01T08:06:27\",\"1970-01-01T08:06:27\",\"1970-01-01T09:59:01\",\"1970-01-01T09:59:01\",\"1970-01-01T10:32:21\",\"1970-01-01T10:32:21\",\"1970-01-01T10:32:21\",\"1970-01-01T12:44:45\",\"1970-01-01T12:44:45\",\"1970-01-01T13:18:05\",\"1970-01-01T13:18:05\",\"1970-01-01T13:18:05\",\"1970-01-01T15:30:29\",\"1970-01-01T15:30:29\",\"1970-01-01T16:03:49\",\"1970-01-01T16:03:49\",\"1970-01-01T16:03:49\",\"1970-01-01T18:16:13\",\"1970-01-01T18:16:13\",\"1970-01-01T18:49:33\",\"1970-01-01T18:49:33\",\"1970-01-01T18:49:33\",\"1970-01-01T21:09:51\",\"1970-01-01T21:09:51\",\"1970-01-01T21:43:11\",\"1970-01-01T21:43:11\",\"1970-01-01T21:43:11\"],\"y\":[\"Trench\",\"Trench\",\"Trench\",\"Trench\",null,\"Trench\",\"Trench\",\"Trench\",\"Trench\",null,\"Trench\",\"Trench\",\"Trench\",\"Trench\",null,\"Trench\",\"Trench\",\"Trench\",\"Trench\",null,\"Trench\",\"Trench\",\"Trench\",\"Trench\",null,\"Trench\",\"Trench\",\"Trench\",\"Trench\",null,\"Trench\",\"Trench\",\"Trench\",\"Trench\",null,\"Trench\",\"Trench\",\"Trench\",\"Trench\",null,\"Trench\",\"Trench\",\"Trench\",\"Trench\",null,\"Cutter T\",\"Cutter T\",\"Cutter T\",\"Cutter T\",null,\"Cutter T\",\"Cutter T\",\"Cutter T\",\"Cutter T\",null,\"Cutter T\",\"Cutter T\",\"Cutter T\",\"Cutter T\",null,\"Cutter T\",\"Cutter T\",\"Cutter T\",\"Cutter T\",null,\"Cutter T\",\"Cutter T\",\"Cutter T\",\"Cutter T\",null,\"Cutter T\",\"Cutter T\",\"Cutter T\",\"Cutter T\",null,\"Cutter T\",\"Cutter T\",\"Cutter T\",\"Cutter T\",null,\"Cutter T\",\"Cutter T\",\"Cutter T\",\"Cutter T\",null,\"Cutter T\",\"Cutter T\",\"Cutter T\",\"Cutter T\",null],\"type\":\"scatter\"}],                        {\"hovermode\":\"closest\",\"legend\":{\"orientation\":\"h\",\"x\":0,\"y\":-0.2},\"template\":{\"data\":{\"barpolar\":[{\"marker\":{\"line\":{\"color\":\"#E5ECF6\",\"width\":0.5},\"pattern\":{\"fillmode\":\"overlay\",\"size\":10,\"solidity\":0.2}},\"type\":\"barpolar\"}],\"bar\":[{\"error_x\":{\"color\":\"#2a3f5f\"},\"error_y\":{\"color\":\"#2a3f5f\"},\"marker\":{\"line\":{\"color\":\"#E5ECF6\",\"width\":0.5},\"pattern\":{\"fillmode\":\"overlay\",\"size\":10,\"solidity\":0.2}},\"type\":\"bar\"}],\"carpet\":[{\"aaxis\":{\"endlinecolor\":\"#2a3f5f\",\"gridcolor\":\"white\",\"linecolor\":\"white\",\"minorgridcolor\":\"white\",\"startlinecolor\":\"#2a3f5f\"},\"baxis\":{\"endlinecolor\":\"#2a3f5f\",\"gridcolor\":\"white\",\"linecolor\":\"white\",\"minorgridcolor\":\"white\",\"startlinecolor\":\"#2a3f5f\"},\"type\":\"carpet\"}],\"choropleth\":[{\"colorbar\":{\"outlinewidth\":0,\"ticks\":\"\"},\"type\":\"choropleth\"}],\"contourcarpet\":[{\"colorbar\":{\"outlinewidth\":0,\"ticks\":\"\"},\"type\":\"contourcarpet\"}],\"contour\":[{\"colorbar\":{\"outlinewidth\":0,\"ticks\":\"\"},\"colorscale\":[[0.0,\"#0d0887\"],[0.1111111111111111,\"#46039f\"],[0.2222222222222222,\"#7201a8\"],[0.3333333333333333,\"#9c179e\"],[0.4444444444444444,\"#bd3786\"],[0.5555555555555556,\"#d8576b\"],[0.6666666666666666,\"#ed7953\"],[0.7777777777777778,\"#fb9f3a\"],[0.8888888888888888,\"#fdca26\"],[1.0,\"#f0f921\"]],\"type\":\"contour\"}],\"heatmapgl\":[{\"colorbar\":{\"outlinewidth\":0,\"ticks\":\"\"},\"colorscale\":[[0.0,\"#0d0887\"],[0.1111111111111111,\"#46039f\"],[0.2222222222222222,\"#7201a8\"],[0.3333333333333333,\"#9c179e\"],[0.4444444444444444,\"#bd3786\"],[0.5555555555555556,\"#d8576b\"],[0.6666666666666666,\"#ed7953\"],[0.7777777777777778,\"#fb9f3a\"],[0.8888888888888888,\"#fdca26\"],[1.0,\"#f0f921\"]],\"type\":\"heatmapgl\"}],\"heatmap\":[{\"colorbar\":{\"outlinewidth\":0,\"ticks\":\"\"},\"colorscale\":[[0.0,\"#0d0887\"],[0.1111111111111111,\"#46039f\"],[0.2222222222222222,\"#7201a8\"],[0.3333333333333333,\"#9c179e\"],[0.4444444444444444,\"#bd3786\"],[0.5555555555555556,\"#d8576b\"],[0.6666666666666666,\"#ed7953\"],[0.7777777777777778,\"#fb9f3a\"],[0.8888888888888888,\"#fdca26\"],[1.0,\"#f0f921\"]],\"type\":\"heatmap\"}],\"histogram2dcontour\":[{\"colorbar\":{\"outlinewidth\":0,\"ticks\":\"\"},\"colorscale\":[[0.0,\"#0d0887\"],[0.1111111111111111,\"#46039f\"],[0.2222222222222222,\"#7201a8\"],[0.3333333333333333,\"#9c179e\"],[0.4444444444444444,\"#bd3786\"],[0.5555555555555556,\"#d8576b\"],[0.6666666666666666,\"#ed7953\"],[0.7777777777777778,\"#fb9f3a\"],[0.8888888888888888,\"#fdca26\"],[1.0,\"#f0f921\"]],\"type\":\"histogram2dcontour\"}],\"histogram2d\":[{\"colorbar\":{\"outlinewidth\":0,\"ticks\":\"\"},\"colorscale\":[[0.0,\"#0d0887\"],[0.1111111111111111,\"#46039f\"],[0.2222222222222222,\"#7201a8\"],[0.3333333333333333,\"#9c179e\"],[0.4444444444444444,\"#bd3786\"],[0.5555555555555556,\"#d8576b\"],[0.6666666666666666,\"#ed7953\"],[0.7777777777777778,\"#fb9f3a\"],[0.8888888888888888,\"#fdca26\"],[1.0,\"#f0f921\"]],\"type\":\"histogram2d\"}],\"histogram\":[{\"marker\":{\"pattern\":{\"fillmode\":\"overlay\",\"size\":10,\"solidity\":0.2}},\"type\":\"histogram\"}],\"mesh3d\":[{\"colorbar\":{\"outlinewidth\":0,\"ticks\":\"\"},\"type\":\"mesh3d\"}],\"parcoords\":[{\"line\":{\"colorbar\":{\"outlinewidth\":0,\"ticks\":\"\"}},\"type\":\"parcoords\"}],\"pie\":[{\"automargin\":true,\"type\":\"pie\"}],\"scatter3d\":[{\"line\":{\"colorbar\":{\"outlinewidth\":0,\"ticks\":\"\"}},\"marker\":{\"colorbar\":{\"outlinewidth\":0,\"ticks\":\"\"}},\"type\":\"scatter3d\"}],\"scattercarpet\":[{\"marker\":{\"colorbar\":{\"outlinewidth\":0,\"ticks\":\"\"}},\"type\":\"scattercarpet\"}],\"scattergeo\":[{\"marker\":{\"colorbar\":{\"outlinewidth\":0,\"ticks\":\"\"}},\"type\":\"scattergeo\"}],\"scattergl\":[{\"marker\":{\"colorbar\":{\"outlinewidth\":0,\"ticks\":\"\"}},\"type\":\"scattergl\"}],\"scattermapbox\":[{\"marker\":{\"colorbar\":{\"outlinewidth\":0,\"ticks\":\"\"}},\"type\":\"scattermapbox\"}],\"scatterpolargl\":[{\"marker\":{\"colorbar\":{\"outlinewidth\":0,\"ticks\":\"\"}},\"type\":\"scatterpolargl\"}],\"scatterpolar\":[{\"marker\":{\"colorbar\":{\"outlinewidth\":0,\"ticks\":\"\"}},\"type\":\"scatterpolar\"}],\"scatter\":[{\"fillpattern\":{\"fillmode\":\"overlay\",\"size\":10,\"solidity\":0.2},\"type\":\"scatter\"}],\"scatterternary\":[{\"marker\":{\"colorbar\":{\"outlinewidth\":0,\"ticks\":\"\"}},\"type\":\"scatterternary\"}],\"surface\":[{\"colorbar\":{\"outlinewidth\":0,\"ticks\":\"\"},\"colorscale\":[[0.0,\"#0d0887\"],[0.1111111111111111,\"#46039f\"],[0.2222222222222222,\"#7201a8\"],[0.3333333333333333,\"#9c179e\"],[0.4444444444444444,\"#bd3786\"],[0.5555555555555556,\"#d8576b\"],[0.6666666666666666,\"#ed7953\"],[0.7777777777777778,\"#fb9f3a\"],[0.8888888888888888,\"#fdca26\"],[1.0,\"#f0f921\"]],\"type\":\"surface\"}],\"table\":[{\"cells\":{\"fill\":{\"color\":\"#EBF0F8\"},\"line\":{\"color\":\"white\"}},\"header\":{\"fill\":{\"color\":\"#C8D4E3\"},\"line\":{\"color\":\"white\"}},\"type\":\"table\"}]},\"layout\":{\"annotationdefaults\":{\"arrowcolor\":\"#2a3f5f\",\"arrowhead\":0,\"arrowwidth\":1},\"autotypenumbers\":\"strict\",\"coloraxis\":{\"colorbar\":{\"outlinewidth\":0,\"ticks\":\"\"}},\"colorscale\":{\"diverging\":[[0,\"#8e0152\"],[0.1,\"#c51b7d\"],[0.2,\"#de77ae\"],[0.3,\"#f1b6da\"],[0.4,\"#fde0ef\"],[0.5,\"#f7f7f7\"],[0.6,\"#e6f5d0\"],[0.7,\"#b8e186\"],[0.8,\"#7fbc41\"],[0.9,\"#4d9221\"],[1,\"#276419\"]],\"sequential\":[[0.0,\"#0d0887\"],[0.1111111111111111,\"#46039f\"],[0.2222222222222222,\"#7201a8\"],[0.3333333333333333,\"#9c179e\"],[0.4444444444444444,\"#bd3786\"],[0.5555555555555556,\"#d8576b\"],[0.6666666666666666,\"#ed7953\"],[0.7777777777777778,\"#fb9f3a\"],[0.8888888888888888,\"#fdca26\"],[1.0,\"#f0f921\"]],\"sequentialminus\":[[0.0,\"#0d0887\"],[0.1111111111111111,\"#46039f\"],[0.2222222222222222,\"#7201a8\"],[0.3333333333333333,\"#9c179e\"],[0.4444444444444444,\"#bd3786\"],[0.5555555555555556,\"#d8576b\"],[0.6666666666666666,\"#ed7953\"],[0.7777777777777778,\"#fb9f3a\"],[0.8888888888888888,\"#fdca26\"],[1.0,\"#f0f921\"]]},\"colorway\":[\"#636efa\",\"#EF553B\",\"#00cc96\",\"#ab63fa\",\"#FFA15A\",\"#19d3f3\",\"#FF6692\",\"#B6E880\",\"#FF97FF\",\"#FECB52\"],\"font\":{\"color\":\"#2a3f5f\"},\"geo\":{\"bgcolor\":\"white\",\"lakecolor\":\"white\",\"landcolor\":\"#E5ECF6\",\"showlakes\":true,\"showland\":true,\"subunitcolor\":\"white\"},\"hoverlabel\":{\"align\":\"left\"},\"hovermode\":\"closest\",\"mapbox\":{\"style\":\"light\"},\"paper_bgcolor\":\"white\",\"plot_bgcolor\":\"#E5ECF6\",\"polar\":{\"angularaxis\":{\"gridcolor\":\"white\",\"linecolor\":\"white\",\"ticks\":\"\"},\"bgcolor\":\"#E5ECF6\",\"radialaxis\":{\"gridcolor\":\"white\",\"linecolor\":\"white\",\"ticks\":\"\"}},\"scene\":{\"xaxis\":{\"backgroundcolor\":\"#E5ECF6\",\"gridcolor\":\"white\",\"gridwidth\":2,\"linecolor\":\"white\",\"showbackground\":true,\"ticks\":\"\",\"zerolinecolor\":\"white\"},\"yaxis\":{\"backgroundcolor\":\"#E5ECF6\",\"gridcolor\":\"white\",\"gridwidth\":2,\"linecolor\":\"white\",\"showbackground\":true,\"ticks\":\"\",\"zerolinecolor\":\"white\"},\"zaxis\":{\"backgroundcolor\":\"#E5ECF6\",\"gridcolor\":\"white\",\"gridwidth\":2,\"linecolor\":\"white\",\"showbackground\":true,\"ticks\":\"\",\"zerolinecolor\":\"white\"}},\"shapedefaults\":{\"line\":{\"color\":\"#2a3f5f\"}},\"ternary\":{\"aaxis\":{\"gridcolor\":\"white\",\"linecolor\":\"white\",\"ticks\":\"\"},\"baxis\":{\"gridcolor\":\"white\",\"linecolor\":\"white\",\"ticks\":\"\"},\"bgcolor\":\"#E5ECF6\",\"caxis\":{\"gridcolor\":\"white\",\"linecolor\":\"white\",\"ticks\":\"\"}},\"title\":{\"x\":0.05},\"xaxis\":{\"automargin\":true,\"gridcolor\":\"white\",\"linecolor\":\"white\",\"ticks\":\"\",\"title\":{\"standoff\":15},\"zerolinecolor\":\"white\",\"zerolinewidth\":2},\"yaxis\":{\"automargin\":true,\"gridcolor\":\"white\",\"linecolor\":\"white\",\"ticks\":\"\",\"title\":{\"standoff\":15},\"zerolinecolor\":\"white\",\"zerolinewidth\":2}}},\"title\":{\"text\":\"GANTT Chart\"},\"xaxis\":{\"range\":[\"1970-01-01T00:35:09\",\"1970-01-02T01:12:56\"],\"title\":{\"font\":{\"color\":\"#7f7f7f\",\"family\":\"Courier New, monospace\",\"size\":18},\"text\":\"Time\"}},\"yaxis\":{\"title\":{\"font\":{\"color\":\"#7f7f7f\",\"family\":\"Courier New, monospace\",\"size\":18},\"text\":\"Activities\"}}},                        {\"responsive\": true}                    ).then(function(){\n",
       "                            \n",
       "var gd = document.getElementById('69c966a6-bb92-4e78-9d68-7496fad446d8');\n",
       "var x = new MutationObserver(function (mutations, observer) {{\n",
       "        var display = window.getComputedStyle(gd).display;\n",
       "        if (!display || display === 'none') {{\n",
       "            console.log([gd, 'removed!']);\n",
       "            Plotly.purge(gd);\n",
       "            observer.disconnect();\n",
       "        }}\n",
       "}});\n",
       "\n",
       "// Listen for the removal of the full notebook cells\n",
       "var notebookContainer = gd.closest('#notebook-container');\n",
       "if (notebookContainer) {{\n",
       "    x.observe(notebookContainer, {childList: true});\n",
       "}}\n",
       "\n",
       "// Listen for the clearing of the current output cell\n",
       "var outputEl = gd.closest('.output');\n",
       "if (outputEl) {{\n",
       "    x.observe(outputEl, {childList: true});\n",
       "}}\n",
       "\n",
       "                        })                };                });            </script>        </div>"
      ]
     },
     "metadata": {},
     "output_type": "display_data"
    }
   ],
   "source": [
    "fig = get_gantt_chart([from_site, to_site, cutter], id_map=activities)"
   ]
  },
  {
   "cell_type": "markdown",
   "id": "9d68aee1",
   "metadata": {},
   "source": [
    "Plot only activities whose namespace (first letters) matches load*"
   ]
  },
  {
   "cell_type": "code",
   "execution_count": 8,
   "id": "6141ac61",
   "metadata": {},
   "outputs": [
    {
     "data": {
      "text/html": [
       "        <script type=\"text/javascript\">\n",
       "        window.PlotlyConfig = {MathJaxConfig: 'local'};\n",
       "        if (window.MathJax && window.MathJax.Hub && window.MathJax.Hub.Config) {window.MathJax.Hub.Config({SVG: {font: \"STIX-Web\"}});}\n",
       "        if (typeof require !== 'undefined') {\n",
       "        require.undef(\"plotly\");\n",
       "        requirejs.config({\n",
       "            paths: {\n",
       "                'plotly': ['https://cdn.plot.ly/plotly-2.18.2.min']\n",
       "            }\n",
       "        });\n",
       "        require(['plotly'], function(Plotly) {\n",
       "            window._Plotly = Plotly;\n",
       "        });\n",
       "        }\n",
       "        </script>\n",
       "        "
      ]
     },
     "metadata": {},
     "output_type": "display_data"
    },
    {
     "data": {
      "application/vnd.plotly.v1+json": {
       "config": {
        "linkText": "Export to plot.ly",
        "plotlyServerURL": "https://plot.ly",
        "showLink": false
       },
       "data": [
        {
         "connectgaps": false,
         "hoverinfo": "y+name",
         "line": {
          "color": "rgb(165,43,0)",
          "width": 10
         },
         "mode": "lines",
         "name": "loading:Carrier A",
         "type": "scatter",
         "x": [
          "1970-01-01T01:41:49",
          "1970-01-01T01:41:49",
          "1970-01-01T02:15:09",
          "1970-01-01T02:15:09",
          "1970-01-01T02:15:09",
          "1970-01-01T04:41:00",
          "1970-01-01T04:41:00",
          "1970-01-01T05:14:20",
          "1970-01-01T05:14:20",
          "1970-01-01T05:14:20",
          "1970-01-01T08:06:27",
          "1970-01-01T08:06:27",
          "1970-01-01T08:39:47",
          "1970-01-01T08:39:47",
          "1970-01-01T08:39:47",
          "1970-01-01T11:05:38",
          "1970-01-01T11:05:38",
          "1970-01-01T11:38:58",
          "1970-01-01T11:38:58",
          "1970-01-01T11:38:58",
          "1970-01-01T14:04:49",
          "1970-01-01T14:04:49",
          "1970-01-01T14:38:09",
          "1970-01-01T14:38:09",
          "1970-01-01T14:38:09",
          "1970-01-01T17:04:00",
          "1970-01-01T17:04:00",
          "1970-01-01T17:37:20",
          "1970-01-01T17:37:20",
          "1970-01-01T17:37:20",
          "1970-01-01T20:03:11",
          "1970-01-01T20:03:11",
          "1970-01-01T20:36:31",
          "1970-01-01T20:36:31",
          "1970-01-01T20:36:31",
          "1970-01-01T23:02:22",
          "1970-01-01T23:02:22",
          "1970-01-01T23:35:42",
          "1970-01-01T23:35:42",
          "1970-01-01T23:35:42"
         ],
         "y": [
          "loading:Carrier A",
          "loading:Carrier A",
          "loading:Carrier A",
          "loading:Carrier A",
          null,
          "loading:Carrier A",
          "loading:Carrier A",
          "loading:Carrier A",
          "loading:Carrier A",
          null,
          "loading:Carrier A",
          "loading:Carrier A",
          "loading:Carrier A",
          "loading:Carrier A",
          null,
          "loading:Carrier A",
          "loading:Carrier A",
          "loading:Carrier A",
          "loading:Carrier A",
          null,
          "loading:Carrier A",
          "loading:Carrier A",
          "loading:Carrier A",
          "loading:Carrier A",
          null,
          "loading:Carrier A",
          "loading:Carrier A",
          "loading:Carrier A",
          "loading:Carrier A",
          null,
          "loading:Carrier A",
          "loading:Carrier A",
          "loading:Carrier A",
          "loading:Carrier A",
          null,
          "loading:Carrier A",
          "loading:Carrier A",
          "loading:Carrier A",
          "loading:Carrier A",
          null
         ]
        },
        {
         "connectgaps": false,
         "hoverinfo": "y+name",
         "line": {
          "color": "rgb(250,128,85)",
          "width": 10
         },
         "mode": "lines",
         "name": "loading:Carrier B",
         "type": "scatter",
         "x": [
          "1970-01-01T00:35:09",
          "1970-01-01T00:35:09",
          "1970-01-01T01:08:29",
          "1970-01-01T01:08:29",
          "1970-01-01T01:08:29",
          "1970-01-01T02:53:56",
          "1970-01-01T02:53:56",
          "1970-01-01T03:27:16",
          "1970-01-01T03:27:16",
          "1970-01-01T03:27:16",
          "1970-01-01T05:14:20",
          "1970-01-01T05:14:20",
          "1970-01-01T05:47:40",
          "1970-01-01T05:47:40",
          "1970-01-01T05:47:40",
          "1970-01-01T07:33:07",
          "1970-01-01T07:33:07",
          "1970-01-01T08:06:27",
          "1970-01-01T08:06:27",
          "1970-01-01T08:06:27",
          "1970-01-01T09:59:01",
          "1970-01-01T09:59:01",
          "1970-01-01T10:32:21",
          "1970-01-01T10:32:21",
          "1970-01-01T10:32:21",
          "1970-01-01T12:44:45",
          "1970-01-01T12:44:45",
          "1970-01-01T13:18:05",
          "1970-01-01T13:18:05",
          "1970-01-01T13:18:05",
          "1970-01-01T15:30:29",
          "1970-01-01T15:30:29",
          "1970-01-01T16:03:49",
          "1970-01-01T16:03:49",
          "1970-01-01T16:03:49",
          "1970-01-01T18:16:13",
          "1970-01-01T18:16:13",
          "1970-01-01T18:49:33",
          "1970-01-01T18:49:33",
          "1970-01-01T18:49:33",
          "1970-01-01T21:09:51",
          "1970-01-01T21:09:51",
          "1970-01-01T21:43:11",
          "1970-01-01T21:43:11",
          "1970-01-01T21:43:11"
         ],
         "y": [
          "loading:Carrier B",
          "loading:Carrier B",
          "loading:Carrier B",
          "loading:Carrier B",
          null,
          "loading:Carrier B",
          "loading:Carrier B",
          "loading:Carrier B",
          "loading:Carrier B",
          null,
          "loading:Carrier B",
          "loading:Carrier B",
          "loading:Carrier B",
          "loading:Carrier B",
          null,
          "loading:Carrier B",
          "loading:Carrier B",
          "loading:Carrier B",
          "loading:Carrier B",
          null,
          "loading:Carrier B",
          "loading:Carrier B",
          "loading:Carrier B",
          "loading:Carrier B",
          null,
          "loading:Carrier B",
          "loading:Carrier B",
          "loading:Carrier B",
          "loading:Carrier B",
          null,
          "loading:Carrier B",
          "loading:Carrier B",
          "loading:Carrier B",
          "loading:Carrier B",
          null,
          "loading:Carrier B",
          "loading:Carrier B",
          "loading:Carrier B",
          "loading:Carrier B",
          null,
          "loading:Carrier B",
          "loading:Carrier B",
          "loading:Carrier B",
          "loading:Carrier B",
          null
         ]
        },
        {
         "connectgaps": false,
         "hoverinfo": "y+name",
         "line": {
          "color": "rgb(79,213,170)",
          "width": 10
         },
         "mode": "lines",
         "name": "loading:Carrier C",
         "type": "scatter",
         "x": [
          "1970-01-01T01:08:29",
          "1970-01-01T01:08:29",
          "1970-01-01T01:41:49",
          "1970-01-01T01:41:49",
          "1970-01-01T01:41:49",
          "1970-01-01T03:54:13",
          "1970-01-01T03:54:13",
          "1970-01-01T04:27:33",
          "1970-01-01T04:27:33",
          "1970-01-01T04:27:33",
          "1970-01-01T06:39:57",
          "1970-01-01T06:39:57",
          "1970-01-01T07:13:17",
          "1970-01-01T07:13:17",
          "1970-01-01T07:13:17",
          "1970-01-01T09:25:41",
          "1970-01-01T09:25:41",
          "1970-01-01T09:59:01",
          "1970-01-01T09:59:01",
          "1970-01-01T09:59:01",
          "1970-01-01T12:11:25",
          "1970-01-01T12:11:25",
          "1970-01-01T12:44:45",
          "1970-01-01T12:44:45",
          "1970-01-01T12:44:45",
          "1970-01-01T14:57:09",
          "1970-01-01T14:57:09",
          "1970-01-01T15:30:29",
          "1970-01-01T15:30:29",
          "1970-01-01T15:30:29",
          "1970-01-01T17:42:53",
          "1970-01-01T17:42:53",
          "1970-01-01T18:16:13",
          "1970-01-01T18:16:13",
          "1970-01-01T18:16:13",
          "1970-01-01T20:36:31",
          "1970-01-01T20:36:31",
          "1970-01-01T21:09:51",
          "1970-01-01T21:09:51",
          "1970-01-01T21:09:51"
         ],
         "y": [
          "loading:Carrier C",
          "loading:Carrier C",
          "loading:Carrier C",
          "loading:Carrier C",
          null,
          "loading:Carrier C",
          "loading:Carrier C",
          "loading:Carrier C",
          "loading:Carrier C",
          null,
          "loading:Carrier C",
          "loading:Carrier C",
          "loading:Carrier C",
          "loading:Carrier C",
          null,
          "loading:Carrier C",
          "loading:Carrier C",
          "loading:Carrier C",
          "loading:Carrier C",
          null,
          "loading:Carrier C",
          "loading:Carrier C",
          "loading:Carrier C",
          "loading:Carrier C",
          null,
          "loading:Carrier C",
          "loading:Carrier C",
          "loading:Carrier C",
          "loading:Carrier C",
          null,
          "loading:Carrier C",
          "loading:Carrier C",
          "loading:Carrier C",
          "loading:Carrier C",
          null,
          "loading:Carrier C",
          "loading:Carrier C",
          "loading:Carrier C",
          "loading:Carrier C",
          null
         ]
        }
       ],
       "layout": {
        "hovermode": "closest",
        "legend": {
         "orientation": "h",
         "x": 0,
         "y": -0.2
        },
        "template": {
         "data": {
          "bar": [
           {
            "error_x": {
             "color": "#2a3f5f"
            },
            "error_y": {
             "color": "#2a3f5f"
            },
            "marker": {
             "line": {
              "color": "#E5ECF6",
              "width": 0.5
             },
             "pattern": {
              "fillmode": "overlay",
              "size": 10,
              "solidity": 0.2
             }
            },
            "type": "bar"
           }
          ],
          "barpolar": [
           {
            "marker": {
             "line": {
              "color": "#E5ECF6",
              "width": 0.5
             },
             "pattern": {
              "fillmode": "overlay",
              "size": 10,
              "solidity": 0.2
             }
            },
            "type": "barpolar"
           }
          ],
          "carpet": [
           {
            "aaxis": {
             "endlinecolor": "#2a3f5f",
             "gridcolor": "white",
             "linecolor": "white",
             "minorgridcolor": "white",
             "startlinecolor": "#2a3f5f"
            },
            "baxis": {
             "endlinecolor": "#2a3f5f",
             "gridcolor": "white",
             "linecolor": "white",
             "minorgridcolor": "white",
             "startlinecolor": "#2a3f5f"
            },
            "type": "carpet"
           }
          ],
          "choropleth": [
           {
            "colorbar": {
             "outlinewidth": 0,
             "ticks": ""
            },
            "type": "choropleth"
           }
          ],
          "contour": [
           {
            "colorbar": {
             "outlinewidth": 0,
             "ticks": ""
            },
            "colorscale": [
             [
              0,
              "#0d0887"
             ],
             [
              0.1111111111111111,
              "#46039f"
             ],
             [
              0.2222222222222222,
              "#7201a8"
             ],
             [
              0.3333333333333333,
              "#9c179e"
             ],
             [
              0.4444444444444444,
              "#bd3786"
             ],
             [
              0.5555555555555556,
              "#d8576b"
             ],
             [
              0.6666666666666666,
              "#ed7953"
             ],
             [
              0.7777777777777778,
              "#fb9f3a"
             ],
             [
              0.8888888888888888,
              "#fdca26"
             ],
             [
              1,
              "#f0f921"
             ]
            ],
            "type": "contour"
           }
          ],
          "contourcarpet": [
           {
            "colorbar": {
             "outlinewidth": 0,
             "ticks": ""
            },
            "type": "contourcarpet"
           }
          ],
          "heatmap": [
           {
            "colorbar": {
             "outlinewidth": 0,
             "ticks": ""
            },
            "colorscale": [
             [
              0,
              "#0d0887"
             ],
             [
              0.1111111111111111,
              "#46039f"
             ],
             [
              0.2222222222222222,
              "#7201a8"
             ],
             [
              0.3333333333333333,
              "#9c179e"
             ],
             [
              0.4444444444444444,
              "#bd3786"
             ],
             [
              0.5555555555555556,
              "#d8576b"
             ],
             [
              0.6666666666666666,
              "#ed7953"
             ],
             [
              0.7777777777777778,
              "#fb9f3a"
             ],
             [
              0.8888888888888888,
              "#fdca26"
             ],
             [
              1,
              "#f0f921"
             ]
            ],
            "type": "heatmap"
           }
          ],
          "heatmapgl": [
           {
            "colorbar": {
             "outlinewidth": 0,
             "ticks": ""
            },
            "colorscale": [
             [
              0,
              "#0d0887"
             ],
             [
              0.1111111111111111,
              "#46039f"
             ],
             [
              0.2222222222222222,
              "#7201a8"
             ],
             [
              0.3333333333333333,
              "#9c179e"
             ],
             [
              0.4444444444444444,
              "#bd3786"
             ],
             [
              0.5555555555555556,
              "#d8576b"
             ],
             [
              0.6666666666666666,
              "#ed7953"
             ],
             [
              0.7777777777777778,
              "#fb9f3a"
             ],
             [
              0.8888888888888888,
              "#fdca26"
             ],
             [
              1,
              "#f0f921"
             ]
            ],
            "type": "heatmapgl"
           }
          ],
          "histogram": [
           {
            "marker": {
             "pattern": {
              "fillmode": "overlay",
              "size": 10,
              "solidity": 0.2
             }
            },
            "type": "histogram"
           }
          ],
          "histogram2d": [
           {
            "colorbar": {
             "outlinewidth": 0,
             "ticks": ""
            },
            "colorscale": [
             [
              0,
              "#0d0887"
             ],
             [
              0.1111111111111111,
              "#46039f"
             ],
             [
              0.2222222222222222,
              "#7201a8"
             ],
             [
              0.3333333333333333,
              "#9c179e"
             ],
             [
              0.4444444444444444,
              "#bd3786"
             ],
             [
              0.5555555555555556,
              "#d8576b"
             ],
             [
              0.6666666666666666,
              "#ed7953"
             ],
             [
              0.7777777777777778,
              "#fb9f3a"
             ],
             [
              0.8888888888888888,
              "#fdca26"
             ],
             [
              1,
              "#f0f921"
             ]
            ],
            "type": "histogram2d"
           }
          ],
          "histogram2dcontour": [
           {
            "colorbar": {
             "outlinewidth": 0,
             "ticks": ""
            },
            "colorscale": [
             [
              0,
              "#0d0887"
             ],
             [
              0.1111111111111111,
              "#46039f"
             ],
             [
              0.2222222222222222,
              "#7201a8"
             ],
             [
              0.3333333333333333,
              "#9c179e"
             ],
             [
              0.4444444444444444,
              "#bd3786"
             ],
             [
              0.5555555555555556,
              "#d8576b"
             ],
             [
              0.6666666666666666,
              "#ed7953"
             ],
             [
              0.7777777777777778,
              "#fb9f3a"
             ],
             [
              0.8888888888888888,
              "#fdca26"
             ],
             [
              1,
              "#f0f921"
             ]
            ],
            "type": "histogram2dcontour"
           }
          ],
          "mesh3d": [
           {
            "colorbar": {
             "outlinewidth": 0,
             "ticks": ""
            },
            "type": "mesh3d"
           }
          ],
          "parcoords": [
           {
            "line": {
             "colorbar": {
              "outlinewidth": 0,
              "ticks": ""
             }
            },
            "type": "parcoords"
           }
          ],
          "pie": [
           {
            "automargin": true,
            "type": "pie"
           }
          ],
          "scatter": [
           {
            "fillpattern": {
             "fillmode": "overlay",
             "size": 10,
             "solidity": 0.2
            },
            "type": "scatter"
           }
          ],
          "scatter3d": [
           {
            "line": {
             "colorbar": {
              "outlinewidth": 0,
              "ticks": ""
             }
            },
            "marker": {
             "colorbar": {
              "outlinewidth": 0,
              "ticks": ""
             }
            },
            "type": "scatter3d"
           }
          ],
          "scattercarpet": [
           {
            "marker": {
             "colorbar": {
              "outlinewidth": 0,
              "ticks": ""
             }
            },
            "type": "scattercarpet"
           }
          ],
          "scattergeo": [
           {
            "marker": {
             "colorbar": {
              "outlinewidth": 0,
              "ticks": ""
             }
            },
            "type": "scattergeo"
           }
          ],
          "scattergl": [
           {
            "marker": {
             "colorbar": {
              "outlinewidth": 0,
              "ticks": ""
             }
            },
            "type": "scattergl"
           }
          ],
          "scattermapbox": [
           {
            "marker": {
             "colorbar": {
              "outlinewidth": 0,
              "ticks": ""
             }
            },
            "type": "scattermapbox"
           }
          ],
          "scatterpolar": [
           {
            "marker": {
             "colorbar": {
              "outlinewidth": 0,
              "ticks": ""
             }
            },
            "type": "scatterpolar"
           }
          ],
          "scatterpolargl": [
           {
            "marker": {
             "colorbar": {
              "outlinewidth": 0,
              "ticks": ""
             }
            },
            "type": "scatterpolargl"
           }
          ],
          "scatterternary": [
           {
            "marker": {
             "colorbar": {
              "outlinewidth": 0,
              "ticks": ""
             }
            },
            "type": "scatterternary"
           }
          ],
          "surface": [
           {
            "colorbar": {
             "outlinewidth": 0,
             "ticks": ""
            },
            "colorscale": [
             [
              0,
              "#0d0887"
             ],
             [
              0.1111111111111111,
              "#46039f"
             ],
             [
              0.2222222222222222,
              "#7201a8"
             ],
             [
              0.3333333333333333,
              "#9c179e"
             ],
             [
              0.4444444444444444,
              "#bd3786"
             ],
             [
              0.5555555555555556,
              "#d8576b"
             ],
             [
              0.6666666666666666,
              "#ed7953"
             ],
             [
              0.7777777777777778,
              "#fb9f3a"
             ],
             [
              0.8888888888888888,
              "#fdca26"
             ],
             [
              1,
              "#f0f921"
             ]
            ],
            "type": "surface"
           }
          ],
          "table": [
           {
            "cells": {
             "fill": {
              "color": "#EBF0F8"
             },
             "line": {
              "color": "white"
             }
            },
            "header": {
             "fill": {
              "color": "#C8D4E3"
             },
             "line": {
              "color": "white"
             }
            },
            "type": "table"
           }
          ]
         },
         "layout": {
          "annotationdefaults": {
           "arrowcolor": "#2a3f5f",
           "arrowhead": 0,
           "arrowwidth": 1
          },
          "autotypenumbers": "strict",
          "coloraxis": {
           "colorbar": {
            "outlinewidth": 0,
            "ticks": ""
           }
          },
          "colorscale": {
           "diverging": [
            [
             0,
             "#8e0152"
            ],
            [
             0.1,
             "#c51b7d"
            ],
            [
             0.2,
             "#de77ae"
            ],
            [
             0.3,
             "#f1b6da"
            ],
            [
             0.4,
             "#fde0ef"
            ],
            [
             0.5,
             "#f7f7f7"
            ],
            [
             0.6,
             "#e6f5d0"
            ],
            [
             0.7,
             "#b8e186"
            ],
            [
             0.8,
             "#7fbc41"
            ],
            [
             0.9,
             "#4d9221"
            ],
            [
             1,
             "#276419"
            ]
           ],
           "sequential": [
            [
             0,
             "#0d0887"
            ],
            [
             0.1111111111111111,
             "#46039f"
            ],
            [
             0.2222222222222222,
             "#7201a8"
            ],
            [
             0.3333333333333333,
             "#9c179e"
            ],
            [
             0.4444444444444444,
             "#bd3786"
            ],
            [
             0.5555555555555556,
             "#d8576b"
            ],
            [
             0.6666666666666666,
             "#ed7953"
            ],
            [
             0.7777777777777778,
             "#fb9f3a"
            ],
            [
             0.8888888888888888,
             "#fdca26"
            ],
            [
             1,
             "#f0f921"
            ]
           ],
           "sequentialminus": [
            [
             0,
             "#0d0887"
            ],
            [
             0.1111111111111111,
             "#46039f"
            ],
            [
             0.2222222222222222,
             "#7201a8"
            ],
            [
             0.3333333333333333,
             "#9c179e"
            ],
            [
             0.4444444444444444,
             "#bd3786"
            ],
            [
             0.5555555555555556,
             "#d8576b"
            ],
            [
             0.6666666666666666,
             "#ed7953"
            ],
            [
             0.7777777777777778,
             "#fb9f3a"
            ],
            [
             0.8888888888888888,
             "#fdca26"
            ],
            [
             1,
             "#f0f921"
            ]
           ]
          },
          "colorway": [
           "#636efa",
           "#EF553B",
           "#00cc96",
           "#ab63fa",
           "#FFA15A",
           "#19d3f3",
           "#FF6692",
           "#B6E880",
           "#FF97FF",
           "#FECB52"
          ],
          "font": {
           "color": "#2a3f5f"
          },
          "geo": {
           "bgcolor": "white",
           "lakecolor": "white",
           "landcolor": "#E5ECF6",
           "showlakes": true,
           "showland": true,
           "subunitcolor": "white"
          },
          "hoverlabel": {
           "align": "left"
          },
          "hovermode": "closest",
          "mapbox": {
           "style": "light"
          },
          "paper_bgcolor": "white",
          "plot_bgcolor": "#E5ECF6",
          "polar": {
           "angularaxis": {
            "gridcolor": "white",
            "linecolor": "white",
            "ticks": ""
           },
           "bgcolor": "#E5ECF6",
           "radialaxis": {
            "gridcolor": "white",
            "linecolor": "white",
            "ticks": ""
           }
          },
          "scene": {
           "xaxis": {
            "backgroundcolor": "#E5ECF6",
            "gridcolor": "white",
            "gridwidth": 2,
            "linecolor": "white",
            "showbackground": true,
            "ticks": "",
            "zerolinecolor": "white"
           },
           "yaxis": {
            "backgroundcolor": "#E5ECF6",
            "gridcolor": "white",
            "gridwidth": 2,
            "linecolor": "white",
            "showbackground": true,
            "ticks": "",
            "zerolinecolor": "white"
           },
           "zaxis": {
            "backgroundcolor": "#E5ECF6",
            "gridcolor": "white",
            "gridwidth": 2,
            "linecolor": "white",
            "showbackground": true,
            "ticks": "",
            "zerolinecolor": "white"
           }
          },
          "shapedefaults": {
           "line": {
            "color": "#2a3f5f"
           }
          },
          "ternary": {
           "aaxis": {
            "gridcolor": "white",
            "linecolor": "white",
            "ticks": ""
           },
           "baxis": {
            "gridcolor": "white",
            "linecolor": "white",
            "ticks": ""
           },
           "bgcolor": "#E5ECF6",
           "caxis": {
            "gridcolor": "white",
            "linecolor": "white",
            "ticks": ""
           }
          },
          "title": {
           "x": 0.05
          },
          "xaxis": {
           "automargin": true,
           "gridcolor": "white",
           "linecolor": "white",
           "ticks": "",
           "title": {
            "standoff": 15
           },
           "zerolinecolor": "white",
           "zerolinewidth": 2
          },
          "yaxis": {
           "automargin": true,
           "gridcolor": "white",
           "linecolor": "white",
           "ticks": "",
           "title": {
            "standoff": 15
           },
           "zerolinecolor": "white",
           "zerolinewidth": 2
          }
         }
        },
        "title": {
         "text": "GANTT Chart"
        },
        "xaxis": {
         "range": [
          "1970-01-01T00:35:09",
          "1970-01-01T23:35:42"
         ],
         "title": {
          "font": {
           "color": "#7f7f7f",
           "family": "Courier New, monospace",
           "size": 18
          },
          "text": "Time"
         }
        },
        "yaxis": {
         "title": {
          "font": {
           "color": "#7f7f7f",
           "family": "Courier New, monospace",
           "size": 18
          },
          "text": "Activities"
         }
        }
       }
      },
      "text/html": [
       "<div>                            <div id=\"25de5043-fc59-4946-9166-1a5a799938e2\" class=\"plotly-graph-div\" style=\"height:525px; width:100%;\"></div>            <script type=\"text/javascript\">                require([\"plotly\"], function(Plotly) {                    window.PLOTLYENV=window.PLOTLYENV || {};                                    if (document.getElementById(\"25de5043-fc59-4946-9166-1a5a799938e2\")) {                    Plotly.newPlot(                        \"25de5043-fc59-4946-9166-1a5a799938e2\",                        [{\"connectgaps\":false,\"hoverinfo\":\"y+name\",\"line\":{\"color\":\"rgb(165,43,0)\",\"width\":10},\"mode\":\"lines\",\"name\":\"loading:Carrier A\",\"x\":[\"1970-01-01T01:41:49\",\"1970-01-01T01:41:49\",\"1970-01-01T02:15:09\",\"1970-01-01T02:15:09\",\"1970-01-01T02:15:09\",\"1970-01-01T04:41:00\",\"1970-01-01T04:41:00\",\"1970-01-01T05:14:20\",\"1970-01-01T05:14:20\",\"1970-01-01T05:14:20\",\"1970-01-01T08:06:27\",\"1970-01-01T08:06:27\",\"1970-01-01T08:39:47\",\"1970-01-01T08:39:47\",\"1970-01-01T08:39:47\",\"1970-01-01T11:05:38\",\"1970-01-01T11:05:38\",\"1970-01-01T11:38:58\",\"1970-01-01T11:38:58\",\"1970-01-01T11:38:58\",\"1970-01-01T14:04:49\",\"1970-01-01T14:04:49\",\"1970-01-01T14:38:09\",\"1970-01-01T14:38:09\",\"1970-01-01T14:38:09\",\"1970-01-01T17:04:00\",\"1970-01-01T17:04:00\",\"1970-01-01T17:37:20\",\"1970-01-01T17:37:20\",\"1970-01-01T17:37:20\",\"1970-01-01T20:03:11\",\"1970-01-01T20:03:11\",\"1970-01-01T20:36:31\",\"1970-01-01T20:36:31\",\"1970-01-01T20:36:31\",\"1970-01-01T23:02:22\",\"1970-01-01T23:02:22\",\"1970-01-01T23:35:42\",\"1970-01-01T23:35:42\",\"1970-01-01T23:35:42\"],\"y\":[\"loading:Carrier A\",\"loading:Carrier A\",\"loading:Carrier A\",\"loading:Carrier A\",null,\"loading:Carrier A\",\"loading:Carrier A\",\"loading:Carrier A\",\"loading:Carrier A\",null,\"loading:Carrier A\",\"loading:Carrier A\",\"loading:Carrier A\",\"loading:Carrier A\",null,\"loading:Carrier A\",\"loading:Carrier A\",\"loading:Carrier A\",\"loading:Carrier A\",null,\"loading:Carrier A\",\"loading:Carrier A\",\"loading:Carrier A\",\"loading:Carrier A\",null,\"loading:Carrier A\",\"loading:Carrier A\",\"loading:Carrier A\",\"loading:Carrier A\",null,\"loading:Carrier A\",\"loading:Carrier A\",\"loading:Carrier A\",\"loading:Carrier A\",null,\"loading:Carrier A\",\"loading:Carrier A\",\"loading:Carrier A\",\"loading:Carrier A\",null],\"type\":\"scatter\"},{\"connectgaps\":false,\"hoverinfo\":\"y+name\",\"line\":{\"color\":\"rgb(250,128,85)\",\"width\":10},\"mode\":\"lines\",\"name\":\"loading:Carrier B\",\"x\":[\"1970-01-01T00:35:09\",\"1970-01-01T00:35:09\",\"1970-01-01T01:08:29\",\"1970-01-01T01:08:29\",\"1970-01-01T01:08:29\",\"1970-01-01T02:53:56\",\"1970-01-01T02:53:56\",\"1970-01-01T03:27:16\",\"1970-01-01T03:27:16\",\"1970-01-01T03:27:16\",\"1970-01-01T05:14:20\",\"1970-01-01T05:14:20\",\"1970-01-01T05:47:40\",\"1970-01-01T05:47:40\",\"1970-01-01T05:47:40\",\"1970-01-01T07:33:07\",\"1970-01-01T07:33:07\",\"1970-01-01T08:06:27\",\"1970-01-01T08:06:27\",\"1970-01-01T08:06:27\",\"1970-01-01T09:59:01\",\"1970-01-01T09:59:01\",\"1970-01-01T10:32:21\",\"1970-01-01T10:32:21\",\"1970-01-01T10:32:21\",\"1970-01-01T12:44:45\",\"1970-01-01T12:44:45\",\"1970-01-01T13:18:05\",\"1970-01-01T13:18:05\",\"1970-01-01T13:18:05\",\"1970-01-01T15:30:29\",\"1970-01-01T15:30:29\",\"1970-01-01T16:03:49\",\"1970-01-01T16:03:49\",\"1970-01-01T16:03:49\",\"1970-01-01T18:16:13\",\"1970-01-01T18:16:13\",\"1970-01-01T18:49:33\",\"1970-01-01T18:49:33\",\"1970-01-01T18:49:33\",\"1970-01-01T21:09:51\",\"1970-01-01T21:09:51\",\"1970-01-01T21:43:11\",\"1970-01-01T21:43:11\",\"1970-01-01T21:43:11\"],\"y\":[\"loading:Carrier B\",\"loading:Carrier B\",\"loading:Carrier B\",\"loading:Carrier B\",null,\"loading:Carrier B\",\"loading:Carrier B\",\"loading:Carrier B\",\"loading:Carrier B\",null,\"loading:Carrier B\",\"loading:Carrier B\",\"loading:Carrier B\",\"loading:Carrier B\",null,\"loading:Carrier B\",\"loading:Carrier B\",\"loading:Carrier B\",\"loading:Carrier B\",null,\"loading:Carrier B\",\"loading:Carrier B\",\"loading:Carrier B\",\"loading:Carrier B\",null,\"loading:Carrier B\",\"loading:Carrier B\",\"loading:Carrier B\",\"loading:Carrier B\",null,\"loading:Carrier B\",\"loading:Carrier B\",\"loading:Carrier B\",\"loading:Carrier B\",null,\"loading:Carrier B\",\"loading:Carrier B\",\"loading:Carrier B\",\"loading:Carrier B\",null,\"loading:Carrier B\",\"loading:Carrier B\",\"loading:Carrier B\",\"loading:Carrier B\",null],\"type\":\"scatter\"},{\"connectgaps\":false,\"hoverinfo\":\"y+name\",\"line\":{\"color\":\"rgb(79,213,170)\",\"width\":10},\"mode\":\"lines\",\"name\":\"loading:Carrier C\",\"x\":[\"1970-01-01T01:08:29\",\"1970-01-01T01:08:29\",\"1970-01-01T01:41:49\",\"1970-01-01T01:41:49\",\"1970-01-01T01:41:49\",\"1970-01-01T03:54:13\",\"1970-01-01T03:54:13\",\"1970-01-01T04:27:33\",\"1970-01-01T04:27:33\",\"1970-01-01T04:27:33\",\"1970-01-01T06:39:57\",\"1970-01-01T06:39:57\",\"1970-01-01T07:13:17\",\"1970-01-01T07:13:17\",\"1970-01-01T07:13:17\",\"1970-01-01T09:25:41\",\"1970-01-01T09:25:41\",\"1970-01-01T09:59:01\",\"1970-01-01T09:59:01\",\"1970-01-01T09:59:01\",\"1970-01-01T12:11:25\",\"1970-01-01T12:11:25\",\"1970-01-01T12:44:45\",\"1970-01-01T12:44:45\",\"1970-01-01T12:44:45\",\"1970-01-01T14:57:09\",\"1970-01-01T14:57:09\",\"1970-01-01T15:30:29\",\"1970-01-01T15:30:29\",\"1970-01-01T15:30:29\",\"1970-01-01T17:42:53\",\"1970-01-01T17:42:53\",\"1970-01-01T18:16:13\",\"1970-01-01T18:16:13\",\"1970-01-01T18:16:13\",\"1970-01-01T20:36:31\",\"1970-01-01T20:36:31\",\"1970-01-01T21:09:51\",\"1970-01-01T21:09:51\",\"1970-01-01T21:09:51\"],\"y\":[\"loading:Carrier C\",\"loading:Carrier C\",\"loading:Carrier C\",\"loading:Carrier C\",null,\"loading:Carrier C\",\"loading:Carrier C\",\"loading:Carrier C\",\"loading:Carrier C\",null,\"loading:Carrier C\",\"loading:Carrier C\",\"loading:Carrier C\",\"loading:Carrier C\",null,\"loading:Carrier C\",\"loading:Carrier C\",\"loading:Carrier C\",\"loading:Carrier C\",null,\"loading:Carrier C\",\"loading:Carrier C\",\"loading:Carrier C\",\"loading:Carrier C\",null,\"loading:Carrier C\",\"loading:Carrier C\",\"loading:Carrier C\",\"loading:Carrier C\",null,\"loading:Carrier C\",\"loading:Carrier C\",\"loading:Carrier C\",\"loading:Carrier C\",null,\"loading:Carrier C\",\"loading:Carrier C\",\"loading:Carrier C\",\"loading:Carrier C\",null],\"type\":\"scatter\"}],                        {\"hovermode\":\"closest\",\"legend\":{\"orientation\":\"h\",\"x\":0,\"y\":-0.2},\"template\":{\"data\":{\"barpolar\":[{\"marker\":{\"line\":{\"color\":\"#E5ECF6\",\"width\":0.5},\"pattern\":{\"fillmode\":\"overlay\",\"size\":10,\"solidity\":0.2}},\"type\":\"barpolar\"}],\"bar\":[{\"error_x\":{\"color\":\"#2a3f5f\"},\"error_y\":{\"color\":\"#2a3f5f\"},\"marker\":{\"line\":{\"color\":\"#E5ECF6\",\"width\":0.5},\"pattern\":{\"fillmode\":\"overlay\",\"size\":10,\"solidity\":0.2}},\"type\":\"bar\"}],\"carpet\":[{\"aaxis\":{\"endlinecolor\":\"#2a3f5f\",\"gridcolor\":\"white\",\"linecolor\":\"white\",\"minorgridcolor\":\"white\",\"startlinecolor\":\"#2a3f5f\"},\"baxis\":{\"endlinecolor\":\"#2a3f5f\",\"gridcolor\":\"white\",\"linecolor\":\"white\",\"minorgridcolor\":\"white\",\"startlinecolor\":\"#2a3f5f\"},\"type\":\"carpet\"}],\"choropleth\":[{\"colorbar\":{\"outlinewidth\":0,\"ticks\":\"\"},\"type\":\"choropleth\"}],\"contourcarpet\":[{\"colorbar\":{\"outlinewidth\":0,\"ticks\":\"\"},\"type\":\"contourcarpet\"}],\"contour\":[{\"colorbar\":{\"outlinewidth\":0,\"ticks\":\"\"},\"colorscale\":[[0.0,\"#0d0887\"],[0.1111111111111111,\"#46039f\"],[0.2222222222222222,\"#7201a8\"],[0.3333333333333333,\"#9c179e\"],[0.4444444444444444,\"#bd3786\"],[0.5555555555555556,\"#d8576b\"],[0.6666666666666666,\"#ed7953\"],[0.7777777777777778,\"#fb9f3a\"],[0.8888888888888888,\"#fdca26\"],[1.0,\"#f0f921\"]],\"type\":\"contour\"}],\"heatmapgl\":[{\"colorbar\":{\"outlinewidth\":0,\"ticks\":\"\"},\"colorscale\":[[0.0,\"#0d0887\"],[0.1111111111111111,\"#46039f\"],[0.2222222222222222,\"#7201a8\"],[0.3333333333333333,\"#9c179e\"],[0.4444444444444444,\"#bd3786\"],[0.5555555555555556,\"#d8576b\"],[0.6666666666666666,\"#ed7953\"],[0.7777777777777778,\"#fb9f3a\"],[0.8888888888888888,\"#fdca26\"],[1.0,\"#f0f921\"]],\"type\":\"heatmapgl\"}],\"heatmap\":[{\"colorbar\":{\"outlinewidth\":0,\"ticks\":\"\"},\"colorscale\":[[0.0,\"#0d0887\"],[0.1111111111111111,\"#46039f\"],[0.2222222222222222,\"#7201a8\"],[0.3333333333333333,\"#9c179e\"],[0.4444444444444444,\"#bd3786\"],[0.5555555555555556,\"#d8576b\"],[0.6666666666666666,\"#ed7953\"],[0.7777777777777778,\"#fb9f3a\"],[0.8888888888888888,\"#fdca26\"],[1.0,\"#f0f921\"]],\"type\":\"heatmap\"}],\"histogram2dcontour\":[{\"colorbar\":{\"outlinewidth\":0,\"ticks\":\"\"},\"colorscale\":[[0.0,\"#0d0887\"],[0.1111111111111111,\"#46039f\"],[0.2222222222222222,\"#7201a8\"],[0.3333333333333333,\"#9c179e\"],[0.4444444444444444,\"#bd3786\"],[0.5555555555555556,\"#d8576b\"],[0.6666666666666666,\"#ed7953\"],[0.7777777777777778,\"#fb9f3a\"],[0.8888888888888888,\"#fdca26\"],[1.0,\"#f0f921\"]],\"type\":\"histogram2dcontour\"}],\"histogram2d\":[{\"colorbar\":{\"outlinewidth\":0,\"ticks\":\"\"},\"colorscale\":[[0.0,\"#0d0887\"],[0.1111111111111111,\"#46039f\"],[0.2222222222222222,\"#7201a8\"],[0.3333333333333333,\"#9c179e\"],[0.4444444444444444,\"#bd3786\"],[0.5555555555555556,\"#d8576b\"],[0.6666666666666666,\"#ed7953\"],[0.7777777777777778,\"#fb9f3a\"],[0.8888888888888888,\"#fdca26\"],[1.0,\"#f0f921\"]],\"type\":\"histogram2d\"}],\"histogram\":[{\"marker\":{\"pattern\":{\"fillmode\":\"overlay\",\"size\":10,\"solidity\":0.2}},\"type\":\"histogram\"}],\"mesh3d\":[{\"colorbar\":{\"outlinewidth\":0,\"ticks\":\"\"},\"type\":\"mesh3d\"}],\"parcoords\":[{\"line\":{\"colorbar\":{\"outlinewidth\":0,\"ticks\":\"\"}},\"type\":\"parcoords\"}],\"pie\":[{\"automargin\":true,\"type\":\"pie\"}],\"scatter3d\":[{\"line\":{\"colorbar\":{\"outlinewidth\":0,\"ticks\":\"\"}},\"marker\":{\"colorbar\":{\"outlinewidth\":0,\"ticks\":\"\"}},\"type\":\"scatter3d\"}],\"scattercarpet\":[{\"marker\":{\"colorbar\":{\"outlinewidth\":0,\"ticks\":\"\"}},\"type\":\"scattercarpet\"}],\"scattergeo\":[{\"marker\":{\"colorbar\":{\"outlinewidth\":0,\"ticks\":\"\"}},\"type\":\"scattergeo\"}],\"scattergl\":[{\"marker\":{\"colorbar\":{\"outlinewidth\":0,\"ticks\":\"\"}},\"type\":\"scattergl\"}],\"scattermapbox\":[{\"marker\":{\"colorbar\":{\"outlinewidth\":0,\"ticks\":\"\"}},\"type\":\"scattermapbox\"}],\"scatterpolargl\":[{\"marker\":{\"colorbar\":{\"outlinewidth\":0,\"ticks\":\"\"}},\"type\":\"scatterpolargl\"}],\"scatterpolar\":[{\"marker\":{\"colorbar\":{\"outlinewidth\":0,\"ticks\":\"\"}},\"type\":\"scatterpolar\"}],\"scatter\":[{\"fillpattern\":{\"fillmode\":\"overlay\",\"size\":10,\"solidity\":0.2},\"type\":\"scatter\"}],\"scatterternary\":[{\"marker\":{\"colorbar\":{\"outlinewidth\":0,\"ticks\":\"\"}},\"type\":\"scatterternary\"}],\"surface\":[{\"colorbar\":{\"outlinewidth\":0,\"ticks\":\"\"},\"colorscale\":[[0.0,\"#0d0887\"],[0.1111111111111111,\"#46039f\"],[0.2222222222222222,\"#7201a8\"],[0.3333333333333333,\"#9c179e\"],[0.4444444444444444,\"#bd3786\"],[0.5555555555555556,\"#d8576b\"],[0.6666666666666666,\"#ed7953\"],[0.7777777777777778,\"#fb9f3a\"],[0.8888888888888888,\"#fdca26\"],[1.0,\"#f0f921\"]],\"type\":\"surface\"}],\"table\":[{\"cells\":{\"fill\":{\"color\":\"#EBF0F8\"},\"line\":{\"color\":\"white\"}},\"header\":{\"fill\":{\"color\":\"#C8D4E3\"},\"line\":{\"color\":\"white\"}},\"type\":\"table\"}]},\"layout\":{\"annotationdefaults\":{\"arrowcolor\":\"#2a3f5f\",\"arrowhead\":0,\"arrowwidth\":1},\"autotypenumbers\":\"strict\",\"coloraxis\":{\"colorbar\":{\"outlinewidth\":0,\"ticks\":\"\"}},\"colorscale\":{\"diverging\":[[0,\"#8e0152\"],[0.1,\"#c51b7d\"],[0.2,\"#de77ae\"],[0.3,\"#f1b6da\"],[0.4,\"#fde0ef\"],[0.5,\"#f7f7f7\"],[0.6,\"#e6f5d0\"],[0.7,\"#b8e186\"],[0.8,\"#7fbc41\"],[0.9,\"#4d9221\"],[1,\"#276419\"]],\"sequential\":[[0.0,\"#0d0887\"],[0.1111111111111111,\"#46039f\"],[0.2222222222222222,\"#7201a8\"],[0.3333333333333333,\"#9c179e\"],[0.4444444444444444,\"#bd3786\"],[0.5555555555555556,\"#d8576b\"],[0.6666666666666666,\"#ed7953\"],[0.7777777777777778,\"#fb9f3a\"],[0.8888888888888888,\"#fdca26\"],[1.0,\"#f0f921\"]],\"sequentialminus\":[[0.0,\"#0d0887\"],[0.1111111111111111,\"#46039f\"],[0.2222222222222222,\"#7201a8\"],[0.3333333333333333,\"#9c179e\"],[0.4444444444444444,\"#bd3786\"],[0.5555555555555556,\"#d8576b\"],[0.6666666666666666,\"#ed7953\"],[0.7777777777777778,\"#fb9f3a\"],[0.8888888888888888,\"#fdca26\"],[1.0,\"#f0f921\"]]},\"colorway\":[\"#636efa\",\"#EF553B\",\"#00cc96\",\"#ab63fa\",\"#FFA15A\",\"#19d3f3\",\"#FF6692\",\"#B6E880\",\"#FF97FF\",\"#FECB52\"],\"font\":{\"color\":\"#2a3f5f\"},\"geo\":{\"bgcolor\":\"white\",\"lakecolor\":\"white\",\"landcolor\":\"#E5ECF6\",\"showlakes\":true,\"showland\":true,\"subunitcolor\":\"white\"},\"hoverlabel\":{\"align\":\"left\"},\"hovermode\":\"closest\",\"mapbox\":{\"style\":\"light\"},\"paper_bgcolor\":\"white\",\"plot_bgcolor\":\"#E5ECF6\",\"polar\":{\"angularaxis\":{\"gridcolor\":\"white\",\"linecolor\":\"white\",\"ticks\":\"\"},\"bgcolor\":\"#E5ECF6\",\"radialaxis\":{\"gridcolor\":\"white\",\"linecolor\":\"white\",\"ticks\":\"\"}},\"scene\":{\"xaxis\":{\"backgroundcolor\":\"#E5ECF6\",\"gridcolor\":\"white\",\"gridwidth\":2,\"linecolor\":\"white\",\"showbackground\":true,\"ticks\":\"\",\"zerolinecolor\":\"white\"},\"yaxis\":{\"backgroundcolor\":\"#E5ECF6\",\"gridcolor\":\"white\",\"gridwidth\":2,\"linecolor\":\"white\",\"showbackground\":true,\"ticks\":\"\",\"zerolinecolor\":\"white\"},\"zaxis\":{\"backgroundcolor\":\"#E5ECF6\",\"gridcolor\":\"white\",\"gridwidth\":2,\"linecolor\":\"white\",\"showbackground\":true,\"ticks\":\"\",\"zerolinecolor\":\"white\"}},\"shapedefaults\":{\"line\":{\"color\":\"#2a3f5f\"}},\"ternary\":{\"aaxis\":{\"gridcolor\":\"white\",\"linecolor\":\"white\",\"ticks\":\"\"},\"baxis\":{\"gridcolor\":\"white\",\"linecolor\":\"white\",\"ticks\":\"\"},\"bgcolor\":\"#E5ECF6\",\"caxis\":{\"gridcolor\":\"white\",\"linecolor\":\"white\",\"ticks\":\"\"}},\"title\":{\"x\":0.05},\"xaxis\":{\"automargin\":true,\"gridcolor\":\"white\",\"linecolor\":\"white\",\"ticks\":\"\",\"title\":{\"standoff\":15},\"zerolinecolor\":\"white\",\"zerolinewidth\":2},\"yaxis\":{\"automargin\":true,\"gridcolor\":\"white\",\"linecolor\":\"white\",\"ticks\":\"\",\"title\":{\"standoff\":15},\"zerolinecolor\":\"white\",\"zerolinewidth\":2}}},\"title\":{\"text\":\"GANTT Chart\"},\"xaxis\":{\"range\":[\"1970-01-01T00:35:09\",\"1970-01-01T23:35:42\"],\"title\":{\"font\":{\"color\":\"#7f7f7f\",\"family\":\"Courier New, monospace\",\"size\":18},\"text\":\"Time\"}},\"yaxis\":{\"title\":{\"font\":{\"color\":\"#7f7f7f\",\"family\":\"Courier New, monospace\",\"size\":18},\"text\":\"Activities\"}}},                        {\"responsive\": true}                    ).then(function(){\n",
       "                            \n",
       "var gd = document.getElementById('25de5043-fc59-4946-9166-1a5a799938e2');\n",
       "var x = new MutationObserver(function (mutations, observer) {{\n",
       "        var display = window.getComputedStyle(gd).display;\n",
       "        if (!display || display === 'none') {{\n",
       "            console.log([gd, 'removed!']);\n",
       "            Plotly.purge(gd);\n",
       "            observer.disconnect();\n",
       "        }}\n",
       "}});\n",
       "\n",
       "// Listen for the removal of the full notebook cells\n",
       "var notebookContainer = gd.closest('#notebook-container');\n",
       "if (notebookContainer) {{\n",
       "    x.observe(notebookContainer, {childList: true});\n",
       "}}\n",
       "\n",
       "// Listen for the clearing of the current output cell\n",
       "var outputEl = gd.closest('.output');\n",
       "if (outputEl) {{\n",
       "    x.observe(outputEl, {childList: true});\n",
       "}}\n",
       "\n",
       "                        })                };                });            </script>        </div>"
      ]
     },
     "metadata": {},
     "output_type": "display_data"
    }
   ],
   "source": [
    "flat = pd.DataFrame(flatten(activities))\n",
    "loading = list(flat[flat['ActivityName'].str.startswith('loading')]['activity'].values)\n",
    "fig = get_gantt_chart(loading)"
   ]
  },
  {
   "cell_type": "code",
   "execution_count": 9,
   "id": "406b5d85",
   "metadata": {},
   "outputs": [
    {
     "data": {
      "image/png": "[encoded data removed]",
      "text/plain": [
       "<Figure size 1400x700 with 1 Axes>"
      ]
     },
     "metadata": {},
     "output_type": "display_data"
    }
   ],
   "source": [
    "fig = get_step_chart([from_site, to_site, *vessels.values()])"
   ]
  },
  {
   "cell_type": "code",
   "execution_count": 10,
   "id": "075f63bf",
   "metadata": {},
   "outputs": [],
   "source": [
    "def occupancy_analysis(vessels, cutter_name, total_amount, vessel_cost):\n",
    "    \"\"\"Model specific calculation of vessel occupancy\"\"\"\n",
    "    \n",
    "    data = []\n",
    "    \n",
    "    for i, vessel_name in enumerate(vessels):\n",
    "        vessel = vessels[vessel_name]\n",
    "\n",
    "        log = get_ranges_dataframe(vessel)\n",
    "        \n",
    "        duration_theory = log.TimestampDt.sum()\n",
    "        \n",
    "        # We assume all vessels arrive JIT when they need to start,\n",
    "        # and leaves immediately when they are done (so different demob times)\n",
    "        # this is an overestimation of actual occupancy\n",
    "        \n",
    "        duration_actual = (log.TimestampStop.max() - log.TimestampStart.min()).total_seconds()\n",
    "        nr_trips = len(log.groupby('trip'))\n",
    "        \n",
    "        if vessel.name==cutter_name:\n",
    "            amount = total_amount\n",
    "        else:\n",
    "            amount = sum(log.groupby('trip')['ContainerLevelStop'].max())\n",
    "        \n",
    "        data.append({\n",
    "            'name':vessel.name, \n",
    "            '# trips':nr_trips, \n",
    "            'start': log.TimestampStart.min(),\n",
    "            'finish': log.TimestampStop.max(),\n",
    "            'amount sum': amount,\n",
    "            'duration actual': duration_actual,\n",
    "            'duration theory':duration_theory,\n",
    "            'cost actual':round(duration_actual*vessel_cost[vessel_name]/3600/24,0),\n",
    "            'production actual':(nr_trips * amount) / (duration_actual),\n",
    "            'production theory':(nr_trips * amount / (duration_theory)),\n",
    "        })\n",
    "\n",
    "    df = pd.DataFrame(data).sort_values(by=['production actual'],ascending=False)\n",
    "    df['occupancy [%]'] = [round(x,1) for x in 100*df['production actual']/df['production theory']]\n",
    "    df.set_index('name', inplace=True)\n",
    "    \n",
    "    # cutter does amount same as all barges\n",
    "    assert df['amount sum'].sum()-total_amount==total_amount, 'material imbalance'\n",
    "    \n",
    "    return df"
   ]
  },
  {
   "cell_type": "code",
   "execution_count": 11,
   "id": "78603c28",
   "metadata": {},
   "outputs": [
    {
     "data": {
      "text/html": [
       "<div>\n",
       "<style scoped>\n",
       "    .dataframe tbody tr th:only-of-type {\n",
       "        vertical-align: middle;\n",
       "    }\n",
       "\n",
       "    .dataframe tbody tr th {\n",
       "        vertical-align: top;\n",
       "    }\n",
       "\n",
       "    .dataframe thead th {\n",
       "        text-align: right;\n",
       "    }\n",
       "</style>\n",
       "<table border=\"1\" class=\"dataframe\">\n",
       "  <thead>\n",
       "    <tr style=\"text-align: right;\">\n",
       "      <th></th>\n",
       "      <th># trips</th>\n",
       "      <th>start</th>\n",
       "      <th>finish</th>\n",
       "      <th>amount sum</th>\n",
       "      <th>duration actual</th>\n",
       "      <th>duration theory</th>\n",
       "      <th>cost actual</th>\n",
       "      <th>production actual</th>\n",
       "      <th>production theory</th>\n",
       "      <th>occupancy [%]</th>\n",
       "    </tr>\n",
       "    <tr>\n",
       "      <th>name</th>\n",
       "      <th></th>\n",
       "      <th></th>\n",
       "      <th></th>\n",
       "      <th></th>\n",
       "      <th></th>\n",
       "      <th></th>\n",
       "      <th></th>\n",
       "      <th></th>\n",
       "      <th></th>\n",
       "      <th></th>\n",
       "    </tr>\n",
       "  </thead>\n",
       "  <tbody>\n",
       "    <tr>\n",
       "      <th>Carrier A</th>\n",
       "      <td>8</td>\n",
       "      <td>1970-01-01 00:00:00</td>\n",
       "      <td>1970-01-02 01:12:56</td>\n",
       "      <td>32.0</td>\n",
       "      <td>90776.0</td>\n",
       "      <td>86008.0</td>\n",
       "      <td>6304.0</td>\n",
       "      <td>0.002820</td>\n",
       "      <td>0.002976</td>\n",
       "      <td>94.7</td>\n",
       "    </tr>\n",
       "    <tr>\n",
       "      <th>Carrier B</th>\n",
       "      <td>9</td>\n",
       "      <td>1970-01-01 00:00:00</td>\n",
       "      <td>1970-01-01 22:53:29</td>\n",
       "      <td>36.0</td>\n",
       "      <td>82409.0</td>\n",
       "      <td>74943.0</td>\n",
       "      <td>5723.0</td>\n",
       "      <td>0.003932</td>\n",
       "      <td>0.004323</td>\n",
       "      <td>90.9</td>\n",
       "    </tr>\n",
       "    <tr>\n",
       "      <th>Carrier C</th>\n",
       "      <td>8</td>\n",
       "      <td>1970-01-01 00:00:00</td>\n",
       "      <td>1970-01-01 22:38:07</td>\n",
       "      <td>32.0</td>\n",
       "      <td>81487.0</td>\n",
       "      <td>79552.0</td>\n",
       "      <td>5659.0</td>\n",
       "      <td>0.003142</td>\n",
       "      <td>0.003218</td>\n",
       "      <td>97.6</td>\n",
       "    </tr>\n",
       "    <tr>\n",
       "      <th>Cutter T</th>\n",
       "      <td>9</td>\n",
       "      <td>1970-01-01 00:35:09</td>\n",
       "      <td>1970-01-01 23:35:42</td>\n",
       "      <td>100.0</td>\n",
       "      <td>82833.0</td>\n",
       "      <td>50000.0</td>\n",
       "      <td>23968.0</td>\n",
       "      <td>0.010865</td>\n",
       "      <td>0.018000</td>\n",
       "      <td>60.4</td>\n",
       "    </tr>\n",
       "  </tbody>\n",
       "</table>\n",
       "</div>"
      ],
      "text/plain": [
       "           # trips               start              finish  amount sum  \\\n",
       "name                                                                     \n",
       "Carrier A        8 1970-01-01 00:00:00 1970-01-02 01:12:56        32.0   \n",
       "Carrier B        9 1970-01-01 00:00:00 1970-01-01 22:53:29        36.0   \n",
       "Carrier C        8 1970-01-01 00:00:00 1970-01-01 22:38:07        32.0   \n",
       "Cutter T         9 1970-01-01 00:35:09 1970-01-01 23:35:42       100.0   \n",
       "\n",
       "           duration actual  duration theory  cost actual  production actual  \\\n",
       "name                                                                          \n",
       "Carrier A          90776.0          86008.0       6304.0           0.002820   \n",
       "Carrier B          82409.0          74943.0       5723.0           0.003932   \n",
       "Carrier C          81487.0          79552.0       5659.0           0.003142   \n",
       "Cutter T           82833.0          50000.0      23968.0           0.010865   \n",
       "\n",
       "           production theory  occupancy [%]  \n",
       "name                                         \n",
       "Carrier A           0.002976           94.7  \n",
       "Carrier B           0.004323           90.9  \n",
       "Carrier C           0.003218           97.6  \n",
       "Cutter T            0.018000           60.4  "
      ]
     },
     "execution_count": 11,
     "metadata": {},
     "output_type": "execute_result"
    }
   ],
   "source": [
    "occupancy_analysis(vessels, cutter_name, total_amount, vessel_cost).sort_values(by=[\"name\"])"
   ]
  },
  {
   "cell_type": "markdown",
   "id": "4e7485d8",
   "metadata": {},
   "source": [
    "# Compare multiple barge scenarios"
   ]
  },
  {
   "cell_type": "code",
   "execution_count": 12,
   "id": "eeb88b8d",
   "metadata": {},
   "outputs": [
    {
     "data": {
      "text/html": [
       "<div>\n",
       "<style scoped>\n",
       "    .dataframe tbody tr th:only-of-type {\n",
       "        vertical-align: middle;\n",
       "    }\n",
       "\n",
       "    .dataframe tbody tr th {\n",
       "        vertical-align: top;\n",
       "    }\n",
       "\n",
       "    .dataframe thead th {\n",
       "        text-align: right;\n",
       "    }\n",
       "</style>\n",
       "<table border=\"1\" class=\"dataframe\">\n",
       "  <thead>\n",
       "    <tr style=\"text-align: right;\">\n",
       "      <th></th>\n",
       "      <th># barges</th>\n",
       "      <th>cutter occupancy</th>\n",
       "      <th>total cost</th>\n",
       "      <th>total duration</th>\n",
       "    </tr>\n",
       "  </thead>\n",
       "  <tbody>\n",
       "    <tr>\n",
       "      <th>0</th>\n",
       "      <td>2</td>\n",
       "      <td>45.4</td>\n",
       "      <td>49886.0</td>\n",
       "      <td>1.402361</td>\n",
       "    </tr>\n",
       "    <tr>\n",
       "      <th>1</th>\n",
       "      <td>3</td>\n",
       "      <td>64.2</td>\n",
       "      <td>39582.0</td>\n",
       "      <td>0.996227</td>\n",
       "    </tr>\n",
       "    <tr>\n",
       "      <th>2</th>\n",
       "      <td>4</td>\n",
       "      <td>90.4</td>\n",
       "      <td>32880.0</td>\n",
       "      <td>0.748553</td>\n",
       "    </tr>\n",
       "    <tr>\n",
       "      <th>3</th>\n",
       "      <td>5</td>\n",
       "      <td>100.0</td>\n",
       "      <td>31701.0</td>\n",
       "      <td>0.662419</td>\n",
       "    </tr>\n",
       "    <tr>\n",
       "      <th>4</th>\n",
       "      <td>6</td>\n",
       "      <td>100.0</td>\n",
       "      <td>35219.0</td>\n",
       "      <td>0.687373</td>\n",
       "    </tr>\n",
       "    <tr>\n",
       "      <th>5</th>\n",
       "      <td>7</td>\n",
       "      <td>100.0</td>\n",
       "      <td>37227.0</td>\n",
       "      <td>0.675579</td>\n",
       "    </tr>\n",
       "    <tr>\n",
       "      <th>6</th>\n",
       "      <td>8</td>\n",
       "      <td>100.0</td>\n",
       "      <td>38221.0</td>\n",
       "      <td>0.670289</td>\n",
       "    </tr>\n",
       "  </tbody>\n",
       "</table>\n",
       "</div>"
      ],
      "text/plain": [
       "   # barges  cutter occupancy  total cost  total duration\n",
       "0         2              45.4     49886.0        1.402361\n",
       "1         3              64.2     39582.0        0.996227\n",
       "2         4              90.4     32880.0        0.748553\n",
       "3         5             100.0     31701.0        0.662419\n",
       "4         6             100.0     35219.0        0.687373\n",
       "5         7             100.0     37227.0        0.675579\n",
       "6         8             100.0     38221.0        0.670289"
      ]
     },
     "execution_count": 12,
     "metadata": {},
     "output_type": "execute_result"
    }
   ],
   "source": [
    "results = []\n",
    "occupancy = []\n",
    "cost = []\n",
    "duration = []\n",
    "\n",
    "n_barges = range(2,len(barge_names)) # +1 at least 1 barge\n",
    "for i in n_barges:\n",
    "    results.append(run(i,total_amount))\n",
    "    \n",
    "    vessels = results[-1]['vessels']\n",
    "    activities = results[-1]['activities']\n",
    "    sites = results[-1]['sites']\n",
    "    \n",
    "    cutter = vessels[cutter_name]\n",
    "    \n",
    "    df = occupancy_analysis(vessels, cutter_name, total_amount, vessel_cost)\n",
    "    occupancy.append(df.loc[cutter_name]['occupancy [%]'])\n",
    "    cost.append(df['cost actual'].sum())\n",
    "    duration.append((df['finish'].max() - df['start'].min()).total_seconds()/3600/24)\n",
    "    #     display(df)\n",
    "    \n",
    "scenarios = {'# barges':n_barges,\n",
    "             'cutter occupancy':occupancy,\n",
    "             'total cost':cost,\n",
    "             'total duration':duration}\n",
    "scenarios = pd.DataFrame.from_dict(scenarios)\n",
    "scenarios"
   ]
  },
  {
   "cell_type": "code",
   "execution_count": 13,
   "id": "9e7f3cf4",
   "metadata": {},
   "outputs": [
    {
     "data": {
      "image/png": "[encoded data removed]",
      "text/plain": [
       "<Figure size 640x480 with 3 Axes>"
      ]
     },
     "metadata": {},
     "output_type": "display_data"
    }
   ],
   "source": [
    "# plot 3 optimization criteria: cost, duration, occupancy (1/flexibility)\n",
    "%matplotlib inline\n",
    "import matplotlib.pyplot as plt\n",
    "\n",
    "fig = plt.figure()\n",
    "gs = fig.add_gridspec(3, hspace=0)\n",
    "axs = gs.subplots(sharex=True)\n",
    "\n",
    "\n",
    "axs[0].plot(scenarios['# barges'],scenarios['total cost'],'.-'), axs[0].set_ylabel('# cost [EUR]'),axs[0].grid();\n",
    "# axs[0].set_xlabel('# barges');\n",
    "\n",
    "axs[1].plot(scenarios['# barges'],scenarios['cutter occupancy'],'.-'), axs[1].set_ylabel('cutter occupancy [%]'),axs[1].grid();\n",
    "# axs[1].set_xlabel('# barges');\n",
    "axs[1].yaxis.set_label_position(\"right\")\n",
    "axs[1].yaxis.tick_right()\n",
    "\n",
    "axs[2].plot(scenarios['# barges'],scenarios['total duration'],'.-'), axs[2].set_ylabel('# time [days]'),axs[2].grid();\n",
    "\n",
    "axs[-1].set_xlabel('# barges');"
   ]
  },
  {
   "cell_type": "code",
   "execution_count": 14,
   "id": "88c1391e",
   "metadata": {},
   "outputs": [],
   "source": [
    "# choose 1 scenario for further analysis and export\n",
    "# many barges: close to 100% cutter config, small cost, fast delivery.\n",
    "scenario_index = 2"
   ]
  },
  {
   "cell_type": "markdown",
   "id": "9d132a51",
   "metadata": {},
   "source": [
    "# Visualize critical path of chosen optimal scenario"
   ]
  },
  {
   "cell_type": "markdown",
   "id": "70e77f68",
   "metadata": {},
   "source": [
    "For explanation of Critical Path see notebook 30"
   ]
  },
  {
   "cell_type": "code",
   "execution_count": 15,
   "id": "0f21208b",
   "metadata": {},
   "outputs": [],
   "source": [
    "from openclsim.plot.critical_path import CpLog"
   ]
  },
  {
   "cell_type": "code",
   "execution_count": 16,
   "id": "63db1761",
   "metadata": {},
   "outputs": [
    {
     "data": {
      "text/html": [
       "        <script type=\"text/javascript\">\n",
       "        window.PlotlyConfig = {MathJaxConfig: 'local'};\n",
       "        if (window.MathJax && window.MathJax.Hub && window.MathJax.Hub.Config) {window.MathJax.Hub.Config({SVG: {font: \"STIX-Web\"}});}\n",
       "        if (typeof require !== 'undefined') {\n",
       "        require.undef(\"plotly\");\n",
       "        requirejs.config({\n",
       "            paths: {\n",
       "                'plotly': ['https://cdn.plot.ly/plotly-2.18.2.min']\n",
       "            }\n",
       "        });\n",
       "        require(['plotly'], function(Plotly) {\n",
       "            window._Plotly = Plotly;\n",
       "        });\n",
       "        }\n",
       "        </script>\n",
       "        "
      ]
     },
     "metadata": {},
     "output_type": "display_data"
    },
    {
     "data": {
      "application/vnd.plotly.v1+json": {
       "config": {
        "linkText": "Export to plot.ly",
        "plotlyServerURL": "https://plot.ly",
        "showLink": false
       },
       "data": [
        {
         "connectgaps": false,
         "hoverinfo": "name",
         "line": {
          "color": "red",
          "width": 14
         },
         "mode": "lines",
         "name": "critical_path",
         "type": "scatter",
         "x": [
          "1970-01-01T00:00:00",
          "1970-01-01T00:37:27",
          "1970-01-01T00:37:27",
          "1970-01-01T00:37:27",
          "1970-01-01T01:10:47",
          "1970-01-01T01:10:47",
          "1970-01-01T00:37:27",
          "1970-01-01T01:10:47",
          "1970-01-01T01:10:47",
          "1970-01-01T00:37:27",
          "1970-01-01T01:10:47",
          "1970-01-01T01:10:47",
          "1970-01-01T01:10:47",
          "1970-01-01T01:52:27",
          "1970-01-01T01:52:27",
          "1970-01-01T01:10:47",
          "1970-01-01T01:52:27",
          "1970-01-01T01:52:27",
          "1970-01-01T01:10:47",
          "1970-01-01T01:52:27",
          "1970-01-01T01:52:27",
          "1970-01-01T01:52:27",
          "1970-01-01T02:34:07",
          "1970-01-01T02:34:07",
          "1970-01-01T01:52:27",
          "1970-01-01T02:34:07",
          "1970-01-01T02:34:07",
          "1970-01-01T01:52:27",
          "1970-01-01T02:34:07",
          "1970-01-01T02:34:07",
          "1970-01-01T02:34:07",
          "1970-01-01T03:07:27",
          "1970-01-01T03:07:27",
          "1970-01-01T02:34:07",
          "1970-01-01T03:07:27",
          "1970-01-01T03:07:27",
          "1970-01-01T02:34:07",
          "1970-01-01T03:07:27",
          "1970-01-01T03:07:27",
          "1970-01-01T03:07:27",
          "1970-01-01T03:53:58",
          "1970-01-01T03:53:58",
          "1970-01-01T03:53:58",
          "1970-01-01T04:40:29",
          "1970-01-01T04:40:29",
          "1970-01-01T03:53:58",
          "1970-01-01T04:40:29",
          "1970-01-01T04:40:29",
          "1970-01-01T04:40:29",
          "1970-01-01T05:27:00",
          "1970-01-01T05:27:00",
          "1970-01-01T05:27:00",
          "1970-01-01T06:00:20",
          "1970-01-01T06:00:20",
          "1970-01-01T05:27:00",
          "1970-01-01T06:00:20",
          "1970-01-01T06:00:20",
          "1970-01-01T05:27:00",
          "1970-01-01T06:00:20",
          "1970-01-01T06:00:20",
          "1970-01-01T06:00:20",
          "1970-01-01T06:46:51",
          "1970-01-01T06:46:51",
          "1970-01-01T06:46:51",
          "1970-01-01T07:33:22",
          "1970-01-01T07:33:22",
          "1970-01-01T06:46:51",
          "1970-01-01T07:33:22",
          "1970-01-01T07:33:22",
          "1970-01-01T07:33:22",
          "1970-01-01T08:19:53",
          "1970-01-01T08:19:53",
          "1970-01-01T08:19:53",
          "1970-01-01T08:53:13",
          "1970-01-01T08:53:13",
          "1970-01-01T08:19:53",
          "1970-01-01T08:53:13",
          "1970-01-01T08:53:13",
          "1970-01-01T08:19:53",
          "1970-01-01T08:53:13",
          "1970-01-01T08:53:13",
          "1970-01-01T08:53:13",
          "1970-01-01T09:39:44",
          "1970-01-01T09:39:44",
          "1970-01-01T09:39:44",
          "1970-01-01T10:26:15",
          "1970-01-01T10:26:15",
          "1970-01-01T09:39:44",
          "1970-01-01T10:26:15",
          "1970-01-01T10:26:15",
          "1970-01-01T10:26:15",
          "1970-01-01T11:12:46",
          "1970-01-01T11:12:46",
          "1970-01-01T11:12:46",
          "1970-01-01T11:46:06",
          "1970-01-01T11:46:06",
          "1970-01-01T11:12:46",
          "1970-01-01T11:46:06",
          "1970-01-01T11:46:06",
          "1970-01-01T11:12:46",
          "1970-01-01T11:46:06",
          "1970-01-01T11:46:06",
          "1970-01-01T11:46:06",
          "1970-01-01T12:32:37",
          "1970-01-01T12:32:37",
          "1970-01-01T12:32:37",
          "1970-01-01T13:19:08",
          "1970-01-01T13:19:08",
          "1970-01-01T12:32:37",
          "1970-01-01T13:19:08",
          "1970-01-01T13:19:08",
          "1970-01-01T13:19:08",
          "1970-01-01T14:05:39",
          "1970-01-01T14:05:39",
          "1970-01-01T14:05:39",
          "1970-01-01T14:38:59",
          "1970-01-01T14:38:59",
          "1970-01-01T14:05:39",
          "1970-01-01T14:38:59",
          "1970-01-01T14:38:59",
          "1970-01-01T14:05:39",
          "1970-01-01T14:38:59",
          "1970-01-01T14:38:59",
          "1970-01-01T14:38:59",
          "1970-01-01T15:12:19",
          "1970-01-01T15:12:19",
          "1970-01-01T14:38:59",
          "1970-01-01T15:12:19",
          "1970-01-01T15:12:19",
          "1970-01-01T14:38:59",
          "1970-01-01T15:12:19",
          "1970-01-01T15:12:19",
          "1970-01-01T15:12:19",
          "1970-01-01T15:53:59",
          "1970-01-01T15:53:59",
          "1970-01-01T15:12:19",
          "1970-01-01T15:53:59",
          "1970-01-01T15:53:59",
          "1970-01-01T15:12:19",
          "1970-01-01T15:53:59",
          "1970-01-01T15:53:59",
          "1970-01-01T15:53:59",
          "1970-01-01T16:35:39",
          "1970-01-01T16:35:39",
          "1970-01-01T15:53:59",
          "1970-01-01T16:35:39",
          "1970-01-01T16:35:39",
          "1970-01-01T15:53:59",
          "1970-01-01T16:35:39",
          "1970-01-01T16:35:39",
          "1970-01-01T16:35:39",
          "1970-01-01T17:16:47",
          "1970-01-01T17:16:47",
          "1970-01-01T17:16:47",
          "1970-01-01T17:57:55",
          "1970-01-01T17:57:55",
          "1970-01-01T17:16:47",
          "1970-01-01T17:57:55",
          "1970-01-01T17:57:55"
         ],
         "y": [
          "Carrier C",
          "Carrier C",
          null,
          "Carrier C",
          "Carrier C",
          null,
          "Cutter T",
          "Cutter T",
          null,
          "Trench",
          "Trench",
          null,
          "Barge I",
          "Barge I",
          null,
          "Cutter T",
          "Cutter T",
          null,
          "Trench",
          "Trench",
          null,
          "Carrier B",
          "Carrier B",
          null,
          "Cutter T",
          "Cutter T",
          null,
          "Trench",
          "Trench",
          null,
          "Carrier A",
          "Carrier A",
          null,
          "Cutter T",
          "Cutter T",
          null,
          "Trench",
          "Trench",
          null,
          "Carrier A",
          "Carrier A",
          null,
          "Carrier A",
          "Carrier A",
          null,
          "Reclamation",
          "Reclamation",
          null,
          "Carrier A",
          "Carrier A",
          null,
          "Carrier A",
          "Carrier A",
          null,
          "Cutter T",
          "Cutter T",
          null,
          "Trench",
          "Trench",
          null,
          "Carrier A",
          "Carrier A",
          null,
          "Carrier A",
          "Carrier A",
          null,
          "Reclamation",
          "Reclamation",
          null,
          "Carrier A",
          "Carrier A",
          null,
          "Carrier A",
          "Carrier A",
          null,
          "Cutter T",
          "Cutter T",
          null,
          "Trench",
          "Trench",
          null,
          "Carrier A",
          "Carrier A",
          null,
          "Carrier A",
          "Carrier A",
          null,
          "Reclamation",
          "Reclamation",
          null,
          "Carrier A",
          "Carrier A",
          null,
          "Carrier A",
          "Carrier A",
          null,
          "Cutter T",
          "Cutter T",
          null,
          "Trench",
          "Trench",
          null,
          "Carrier A",
          "Carrier A",
          null,
          "Carrier A",
          "Carrier A",
          null,
          "Reclamation",
          "Reclamation",
          null,
          "Carrier A",
          "Carrier A",
          null,
          "Carrier A",
          "Carrier A",
          null,
          "Cutter T",
          "Cutter T",
          null,
          "Trench",
          "Trench",
          null,
          "Carrier C",
          "Carrier C",
          null,
          "Cutter T",
          "Cutter T",
          null,
          "Trench",
          "Trench",
          null,
          "Barge I",
          "Barge I",
          null,
          "Cutter T",
          "Cutter T",
          null,
          "Trench",
          "Trench",
          null,
          "Carrier B",
          "Carrier B",
          null,
          "Cutter T",
          "Cutter T",
          null,
          "Trench",
          "Trench",
          null,
          "Carrier B",
          "Carrier B",
          null,
          "Carrier B",
          "Carrier B",
          null,
          "Reclamation",
          "Reclamation",
          null
         ]
        },
        {
         "connectgaps": false,
         "hoverinfo": "y+name",
         "line": {
          "color": "rgb(77,137,104)",
          "width": 10
         },
         "mode": "lines",
         "name": "sailing empty:Carrier A",
         "type": "scatter",
         "x": [
          "1970-01-01T00:00:00",
          "1970-01-01T00:00:00",
          "1970-01-01T00:46:31",
          "1970-01-01T00:46:31",
          "1970-01-01T00:46:31",
          "1970-01-01T04:40:29",
          "1970-01-01T04:40:29",
          "1970-01-01T05:27:00",
          "1970-01-01T05:27:00",
          "1970-01-01T05:27:00",
          "1970-01-01T07:33:22",
          "1970-01-01T07:33:22",
          "1970-01-01T08:19:53",
          "1970-01-01T08:19:53",
          "1970-01-01T08:19:53",
          "1970-01-01T10:26:15",
          "1970-01-01T10:26:15",
          "1970-01-01T11:12:46",
          "1970-01-01T11:12:46",
          "1970-01-01T11:12:46",
          "1970-01-01T13:19:08",
          "1970-01-01T13:19:08",
          "1970-01-01T14:05:39",
          "1970-01-01T14:05:39",
          "1970-01-01T14:05:39"
         ],
         "y": [
          "Carrier A",
          "Carrier A",
          "Carrier A",
          "Carrier A",
          null,
          "Carrier A",
          "Carrier A",
          "Carrier A",
          "Carrier A",
          null,
          "Carrier A",
          "Carrier A",
          "Carrier A",
          "Carrier A",
          null,
          "Carrier A",
          "Carrier A",
          "Carrier A",
          "Carrier A",
          null,
          "Carrier A",
          "Carrier A",
          "Carrier A",
          "Carrier A",
          null
         ]
        },
        {
         "connectgaps": false,
         "hoverinfo": "y+name",
         "line": {
          "color": "rgb(86,146,113)",
          "width": 10
         },
         "mode": "lines",
         "name": "sailing full:Carrier A",
         "type": "scatter",
         "x": [
          "1970-01-01T03:07:27",
          "1970-01-01T03:07:27",
          "1970-01-01T03:53:58",
          "1970-01-01T03:53:58",
          "1970-01-01T03:53:58",
          "1970-01-01T06:00:20",
          "1970-01-01T06:00:20",
          "1970-01-01T06:46:51",
          "1970-01-01T06:46:51",
          "1970-01-01T06:46:51",
          "1970-01-01T08:53:13",
          "1970-01-01T08:53:13",
          "1970-01-01T09:39:44",
          "1970-01-01T09:39:44",
          "1970-01-01T09:39:44",
          "1970-01-01T11:46:06",
          "1970-01-01T11:46:06",
          "1970-01-01T12:32:37",
          "1970-01-01T12:32:37",
          "1970-01-01T12:32:37",
          "1970-01-01T14:38:59",
          "1970-01-01T14:38:59",
          "1970-01-01T15:25:30",
          "1970-01-01T15:25:30",
          "1970-01-01T15:25:30"
         ],
         "y": [
          "Carrier A",
          "Carrier A",
          "Carrier A",
          "Carrier A",
          null,
          "Carrier A",
          "Carrier A",
          "Carrier A",
          "Carrier A",
          null,
          "Carrier A",
          "Carrier A",
          "Carrier A",
          "Carrier A",
          null,
          "Carrier A",
          "Carrier A",
          "Carrier A",
          "Carrier A",
          null,
          "Carrier A",
          "Carrier A",
          "Carrier A",
          "Carrier A",
          null
         ]
        },
        {
         "connectgaps": false,
         "hoverinfo": "y+name",
         "line": {
          "color": "rgb(95,155,122)",
          "width": 10
         },
         "mode": "lines",
         "name": "loading:Carrier A",
         "type": "scatter",
         "x": [
          "1970-01-01T02:34:07",
          "1970-01-01T02:34:07",
          "1970-01-01T03:07:27",
          "1970-01-01T03:07:27",
          "1970-01-01T03:07:27",
          "1970-01-01T05:27:00",
          "1970-01-01T05:27:00",
          "1970-01-01T06:00:20",
          "1970-01-01T06:00:20",
          "1970-01-01T06:00:20",
          "1970-01-01T08:19:53",
          "1970-01-01T08:19:53",
          "1970-01-01T08:53:13",
          "1970-01-01T08:53:13",
          "1970-01-01T08:53:13",
          "1970-01-01T11:12:46",
          "1970-01-01T11:12:46",
          "1970-01-01T11:46:06",
          "1970-01-01T11:46:06",
          "1970-01-01T11:46:06",
          "1970-01-01T14:05:39",
          "1970-01-01T14:05:39",
          "1970-01-01T14:38:59",
          "1970-01-01T14:38:59",
          "1970-01-01T14:38:59",
          "1970-01-01T02:34:07",
          "1970-01-01T02:34:07",
          "1970-01-01T03:07:27",
          "1970-01-01T03:07:27",
          "1970-01-01T03:07:27",
          "1970-01-01T05:27:00",
          "1970-01-01T05:27:00",
          "1970-01-01T06:00:20",
          "1970-01-01T06:00:20",
          "1970-01-01T06:00:20",
          "1970-01-01T08:19:53",
          "1970-01-01T08:19:53",
          "1970-01-01T08:53:13",
          "1970-01-01T08:53:13",
          "1970-01-01T08:53:13",
          "1970-01-01T11:12:46",
          "1970-01-01T11:12:46",
          "1970-01-01T11:46:06",
          "1970-01-01T11:46:06",
          "1970-01-01T11:46:06",
          "1970-01-01T14:05:39",
          "1970-01-01T14:05:39",
          "1970-01-01T14:38:59",
          "1970-01-01T14:38:59",
          "1970-01-01T14:38:59",
          "1970-01-01T02:34:07",
          "1970-01-01T02:34:07",
          "1970-01-01T03:07:27",
          "1970-01-01T03:07:27",
          "1970-01-01T03:07:27",
          "1970-01-01T05:27:00",
          "1970-01-01T05:27:00",
          "1970-01-01T06:00:20",
          "1970-01-01T06:00:20",
          "1970-01-01T06:00:20",
          "1970-01-01T08:19:53",
          "1970-01-01T08:19:53",
          "1970-01-01T08:53:13",
          "1970-01-01T08:53:13",
          "1970-01-01T08:53:13",
          "1970-01-01T11:12:46",
          "1970-01-01T11:12:46",
          "1970-01-01T11:46:06",
          "1970-01-01T11:46:06",
          "1970-01-01T11:46:06",
          "1970-01-01T14:05:39",
          "1970-01-01T14:05:39",
          "1970-01-01T14:38:59",
          "1970-01-01T14:38:59",
          "1970-01-01T14:38:59"
         ],
         "y": [
          "Carrier A",
          "Carrier A",
          "Carrier A",
          "Carrier A",
          null,
          "Carrier A",
          "Carrier A",
          "Carrier A",
          "Carrier A",
          null,
          "Carrier A",
          "Carrier A",
          "Carrier A",
          "Carrier A",
          null,
          "Carrier A",
          "Carrier A",
          "Carrier A",
          "Carrier A",
          null,
          "Carrier A",
          "Carrier A",
          "Carrier A",
          "Carrier A",
          null,
          "Cutter T",
          "Cutter T",
          "Cutter T",
          "Cutter T",
          null,
          "Cutter T",
          "Cutter T",
          "Cutter T",
          "Cutter T",
          null,
          "Cutter T",
          "Cutter T",
          "Cutter T",
          "Cutter T",
          null,
          "Cutter T",
          "Cutter T",
          "Cutter T",
          "Cutter T",
          null,
          "Cutter T",
          "Cutter T",
          "Cutter T",
          "Cutter T",
          null,
          "Trench",
          "Trench",
          "Trench",
          "Trench",
          null,
          "Trench",
          "Trench",
          "Trench",
          "Trench",
          null,
          "Trench",
          "Trench",
          "Trench",
          "Trench",
          null,
          "Trench",
          "Trench",
          "Trench",
          "Trench",
          null,
          "Trench",
          "Trench",
          "Trench",
          "Trench",
          null
         ]
        },
        {
         "connectgaps": false,
         "hoverinfo": "y+name",
         "line": {
          "color": "rgb(104,164,131)",
          "width": 10
         },
         "mode": "lines",
         "name": "unloading:Carrier A",
         "type": "scatter",
         "x": [
          "1970-01-01T03:53:58",
          "1970-01-01T03:53:58",
          "1970-01-01T04:40:29",
          "1970-01-01T04:40:29",
          "1970-01-01T04:40:29",
          "1970-01-01T06:46:51",
          "1970-01-01T06:46:51",
          "1970-01-01T07:33:22",
          "1970-01-01T07:33:22",
          "1970-01-01T07:33:22",
          "1970-01-01T09:39:44",
          "1970-01-01T09:39:44",
          "1970-01-01T10:26:15",
          "1970-01-01T10:26:15",
          "1970-01-01T10:26:15",
          "1970-01-01T12:32:37",
          "1970-01-01T12:32:37",
          "1970-01-01T13:19:08",
          "1970-01-01T13:19:08",
          "1970-01-01T13:19:08",
          "1970-01-01T15:25:30",
          "1970-01-01T15:25:30",
          "1970-01-01T16:12:01",
          "1970-01-01T16:12:01",
          "1970-01-01T16:12:01",
          "1970-01-01T03:53:58",
          "1970-01-01T03:53:58",
          "1970-01-01T04:40:29",
          "1970-01-01T04:40:29",
          "1970-01-01T04:40:29",
          "1970-01-01T06:46:51",
          "1970-01-01T06:46:51",
          "1970-01-01T07:33:22",
          "1970-01-01T07:33:22",
          "1970-01-01T07:33:22",
          "1970-01-01T09:39:44",
          "1970-01-01T09:39:44",
          "1970-01-01T10:26:15",
          "1970-01-01T10:26:15",
          "1970-01-01T10:26:15",
          "1970-01-01T12:32:37",
          "1970-01-01T12:32:37",
          "1970-01-01T13:19:08",
          "1970-01-01T13:19:08",
          "1970-01-01T13:19:08",
          "1970-01-01T15:25:30",
          "1970-01-01T15:25:30",
          "1970-01-01T16:12:01",
          "1970-01-01T16:12:01",
          "1970-01-01T16:12:01"
         ],
         "y": [
          "Carrier A",
          "Carrier A",
          "Carrier A",
          "Carrier A",
          null,
          "Carrier A",
          "Carrier A",
          "Carrier A",
          "Carrier A",
          null,
          "Carrier A",
          "Carrier A",
          "Carrier A",
          "Carrier A",
          null,
          "Carrier A",
          "Carrier A",
          "Carrier A",
          "Carrier A",
          null,
          "Carrier A",
          "Carrier A",
          "Carrier A",
          "Carrier A",
          null,
          "Reclamation",
          "Reclamation",
          "Reclamation",
          "Reclamation",
          null,
          "Reclamation",
          "Reclamation",
          "Reclamation",
          "Reclamation",
          null,
          "Reclamation",
          "Reclamation",
          "Reclamation",
          "Reclamation",
          null,
          "Reclamation",
          "Reclamation",
          "Reclamation",
          "Reclamation",
          null,
          "Reclamation",
          "Reclamation",
          "Reclamation",
          "Reclamation",
          null
         ]
        },
        {
         "connectgaps": false,
         "hoverinfo": "y+name",
         "line": {
          "color": "rgb(113,173,140)",
          "width": 10
         },
         "mode": "lines",
         "name": "sailing full:Carrier B",
         "type": "scatter",
         "x": [
          "1970-01-01T02:34:07",
          "1970-01-01T02:34:07",
          "1970-01-01T03:15:15",
          "1970-01-01T03:15:15",
          "1970-01-01T03:15:15",
          "1970-01-01T05:19:11",
          "1970-01-01T05:19:11",
          "1970-01-01T06:00:19",
          "1970-01-01T06:00:19",
          "1970-01-01T06:00:19",
          "1970-01-01T08:04:15",
          "1970-01-01T08:04:15",
          "1970-01-01T08:45:23",
          "1970-01-01T08:45:23",
          "1970-01-01T08:45:23",
          "1970-01-01T10:49:53",
          "1970-01-01T10:49:53",
          "1970-01-01T11:31:01",
          "1970-01-01T11:31:01",
          "1970-01-01T11:31:01",
          "1970-01-01T13:42:46",
          "1970-01-01T13:42:46",
          "1970-01-01T14:23:54",
          "1970-01-01T14:23:54",
          "1970-01-01T14:23:54",
          "1970-01-01T16:35:39",
          "1970-01-01T16:35:39",
          "1970-01-01T17:16:47",
          "1970-01-01T17:16:47",
          "1970-01-01T17:16:47"
         ],
         "y": [
          "Carrier B",
          "Carrier B",
          "Carrier B",
          "Carrier B",
          null,
          "Carrier B",
          "Carrier B",
          "Carrier B",
          "Carrier B",
          null,
          "Carrier B",
          "Carrier B",
          "Carrier B",
          "Carrier B",
          null,
          "Carrier B",
          "Carrier B",
          "Carrier B",
          "Carrier B",
          null,
          "Carrier B",
          "Carrier B",
          "Carrier B",
          "Carrier B",
          null,
          "Carrier B",
          "Carrier B",
          "Carrier B",
          "Carrier B",
          null
         ]
        },
        {
         "connectgaps": false,
         "hoverinfo": "y+name",
         "line": {
          "color": "rgb(122,182,149)",
          "width": 10
         },
         "mode": "lines",
         "name": "loading:Carrier B",
         "type": "scatter",
         "x": [
          "1970-01-01T01:52:27",
          "1970-01-01T01:52:27",
          "1970-01-01T02:34:07",
          "1970-01-01T02:34:07",
          "1970-01-01T02:34:07",
          "1970-01-01T04:37:31",
          "1970-01-01T04:37:31",
          "1970-01-01T05:19:11",
          "1970-01-01T05:19:11",
          "1970-01-01T05:19:11",
          "1970-01-01T07:22:35",
          "1970-01-01T07:22:35",
          "1970-01-01T08:04:15",
          "1970-01-01T08:04:15",
          "1970-01-01T08:04:15",
          "1970-01-01T10:08:13",
          "1970-01-01T10:08:13",
          "1970-01-01T10:49:53",
          "1970-01-01T10:49:53",
          "1970-01-01T10:49:53",
          "1970-01-01T13:01:06",
          "1970-01-01T13:01:06",
          "1970-01-01T13:42:46",
          "1970-01-01T13:42:46",
          "1970-01-01T13:42:46",
          "1970-01-01T15:53:59",
          "1970-01-01T15:53:59",
          "1970-01-01T16:35:39",
          "1970-01-01T16:35:39",
          "1970-01-01T16:35:39",
          "1970-01-01T01:52:27",
          "1970-01-01T01:52:27",
          "1970-01-01T02:34:07",
          "1970-01-01T02:34:07",
          "1970-01-01T02:34:07",
          "1970-01-01T04:37:31",
          "1970-01-01T04:37:31",
          "1970-01-01T05:19:11",
          "1970-01-01T05:19:11",
          "1970-01-01T05:19:11",
          "1970-01-01T07:22:35",
          "1970-01-01T07:22:35",
          "1970-01-01T08:04:15",
          "1970-01-01T08:04:15",
          "1970-01-01T08:04:15",
          "1970-01-01T10:08:13",
          "1970-01-01T10:08:13",
          "1970-01-01T10:49:53",
          "1970-01-01T10:49:53",
          "1970-01-01T10:49:53",
          "1970-01-01T13:01:06",
          "1970-01-01T13:01:06",
          "1970-01-01T13:42:46",
          "1970-01-01T13:42:46",
          "1970-01-01T13:42:46",
          "1970-01-01T15:53:59",
          "1970-01-01T15:53:59",
          "1970-01-01T16:35:39",
          "1970-01-01T16:35:39",
          "1970-01-01T16:35:39",
          "1970-01-01T01:52:27",
          "1970-01-01T01:52:27",
          "1970-01-01T02:34:07",
          "1970-01-01T02:34:07",
          "1970-01-01T02:34:07",
          "1970-01-01T04:37:31",
          "1970-01-01T04:37:31",
          "1970-01-01T05:19:11",
          "1970-01-01T05:19:11",
          "1970-01-01T05:19:11",
          "1970-01-01T07:22:35",
          "1970-01-01T07:22:35",
          "1970-01-01T08:04:15",
          "1970-01-01T08:04:15",
          "1970-01-01T08:04:15",
          "1970-01-01T10:08:13",
          "1970-01-01T10:08:13",
          "1970-01-01T10:49:53",
          "1970-01-01T10:49:53",
          "1970-01-01T10:49:53",
          "1970-01-01T13:01:06",
          "1970-01-01T13:01:06",
          "1970-01-01T13:42:46",
          "1970-01-01T13:42:46",
          "1970-01-01T13:42:46",
          "1970-01-01T15:53:59",
          "1970-01-01T15:53:59",
          "1970-01-01T16:35:39",
          "1970-01-01T16:35:39",
          "1970-01-01T16:35:39"
         ],
         "y": [
          "Carrier B",
          "Carrier B",
          "Carrier B",
          "Carrier B",
          null,
          "Carrier B",
          "Carrier B",
          "Carrier B",
          "Carrier B",
          null,
          "Carrier B",
          "Carrier B",
          "Carrier B",
          "Carrier B",
          null,
          "Carrier B",
          "Carrier B",
          "Carrier B",
          "Carrier B",
          null,
          "Carrier B",
          "Carrier B",
          "Carrier B",
          "Carrier B",
          null,
          "Carrier B",
          "Carrier B",
          "Carrier B",
          "Carrier B",
          null,
          "Cutter T",
          "Cutter T",
          "Cutter T",
          "Cutter T",
          null,
          "Cutter T",
          "Cutter T",
          "Cutter T",
          "Cutter T",
          null,
          "Cutter T",
          "Cutter T",
          "Cutter T",
          "Cutter T",
          null,
          "Cutter T",
          "Cutter T",
          "Cutter T",
          "Cutter T",
          null,
          "Cutter T",
          "Cutter T",
          "Cutter T",
          "Cutter T",
          null,
          "Cutter T",
          "Cutter T",
          "Cutter T",
          "Cutter T",
          null,
          "Trench",
          "Trench",
          "Trench",
          "Trench",
          null,
          "Trench",
          "Trench",
          "Trench",
          "Trench",
          null,
          "Trench",
          "Trench",
          "Trench",
          "Trench",
          null,
          "Trench",
          "Trench",
          "Trench",
          "Trench",
          null,
          "Trench",
          "Trench",
          "Trench",
          "Trench",
          null,
          "Trench",
          "Trench",
          "Trench",
          "Trench",
          null
         ]
        },
        {
         "connectgaps": false,
         "hoverinfo": "y+name",
         "line": {
          "color": "rgb(131,191,158)",
          "width": 10
         },
         "mode": "lines",
         "name": "sailing empty:Carrier B",
         "type": "scatter",
         "x": [
          "1970-01-01T00:00:00",
          "1970-01-01T00:00:00",
          "1970-01-01T00:41:08",
          "1970-01-01T00:41:08",
          "1970-01-01T00:41:08",
          "1970-01-01T03:56:23",
          "1970-01-01T03:56:23",
          "1970-01-01T04:37:31",
          "1970-01-01T04:37:31",
          "1970-01-01T04:37:31",
          "1970-01-01T06:41:27",
          "1970-01-01T06:41:27",
          "1970-01-01T07:22:35",
          "1970-01-01T07:22:35",
          "1970-01-01T07:22:35",
          "1970-01-01T09:26:31",
          "1970-01-01T09:26:31",
          "1970-01-01T10:07:39",
          "1970-01-01T10:07:39",
          "1970-01-01T10:07:39",
          "1970-01-01T12:12:09",
          "1970-01-01T12:12:09",
          "1970-01-01T12:53:17",
          "1970-01-01T12:53:17",
          "1970-01-01T12:53:17",
          "1970-01-01T15:05:02",
          "1970-01-01T15:05:02",
          "1970-01-01T15:46:10",
          "1970-01-01T15:46:10",
          "1970-01-01T15:46:10"
         ],
         "y": [
          "Carrier B",
          "Carrier B",
          "Carrier B",
          "Carrier B",
          null,
          "Carrier B",
          "Carrier B",
          "Carrier B",
          "Carrier B",
          null,
          "Carrier B",
          "Carrier B",
          "Carrier B",
          "Carrier B",
          null,
          "Carrier B",
          "Carrier B",
          "Carrier B",
          "Carrier B",
          null,
          "Carrier B",
          "Carrier B",
          "Carrier B",
          "Carrier B",
          null,
          "Carrier B",
          "Carrier B",
          "Carrier B",
          "Carrier B",
          null
         ]
        },
        {
         "connectgaps": false,
         "hoverinfo": "y+name",
         "line": {
          "color": "rgb(140,200,167)",
          "width": 10
         },
         "mode": "lines",
         "name": "unloading:Carrier B",
         "type": "scatter",
         "x": [
          "1970-01-01T03:15:15",
          "1970-01-01T03:15:15",
          "1970-01-01T03:56:23",
          "1970-01-01T03:56:23",
          "1970-01-01T03:56:23",
          "1970-01-01T06:00:19",
          "1970-01-01T06:00:19",
          "1970-01-01T06:41:27",
          "1970-01-01T06:41:27",
          "1970-01-01T06:41:27",
          "1970-01-01T08:45:23",
          "1970-01-01T08:45:23",
          "1970-01-01T09:26:31",
          "1970-01-01T09:26:31",
          "1970-01-01T09:26:31",
          "1970-01-01T11:31:01",
          "1970-01-01T11:31:01",
          "1970-01-01T12:12:09",
          "1970-01-01T12:12:09",
          "1970-01-01T12:12:09",
          "1970-01-01T14:23:54",
          "1970-01-01T14:23:54",
          "1970-01-01T15:05:02",
          "1970-01-01T15:05:02",
          "1970-01-01T15:05:02",
          "1970-01-01T17:16:47",
          "1970-01-01T17:16:47",
          "1970-01-01T17:57:55",
          "1970-01-01T17:57:55",
          "1970-01-01T17:57:55",
          "1970-01-01T03:15:15",
          "1970-01-01T03:15:15",
          "1970-01-01T03:56:23",
          "1970-01-01T03:56:23",
          "1970-01-01T03:56:23",
          "1970-01-01T06:00:19",
          "1970-01-01T06:00:19",
          "1970-01-01T06:41:27",
          "1970-01-01T06:41:27",
          "1970-01-01T06:41:27",
          "1970-01-01T08:45:23",
          "1970-01-01T08:45:23",
          "1970-01-01T09:26:31",
          "1970-01-01T09:26:31",
          "1970-01-01T09:26:31",
          "1970-01-01T11:31:01",
          "1970-01-01T11:31:01",
          "1970-01-01T12:12:09",
          "1970-01-01T12:12:09",
          "1970-01-01T12:12:09",
          "1970-01-01T14:23:54",
          "1970-01-01T14:23:54",
          "1970-01-01T15:05:02",
          "1970-01-01T15:05:02",
          "1970-01-01T15:05:02",
          "1970-01-01T17:16:47",
          "1970-01-01T17:16:47",
          "1970-01-01T17:57:55",
          "1970-01-01T17:57:55",
          "1970-01-01T17:57:55"
         ],
         "y": [
          "Carrier B",
          "Carrier B",
          "Carrier B",
          "Carrier B",
          null,
          "Carrier B",
          "Carrier B",
          "Carrier B",
          "Carrier B",
          null,
          "Carrier B",
          "Carrier B",
          "Carrier B",
          "Carrier B",
          null,
          "Carrier B",
          "Carrier B",
          "Carrier B",
          "Carrier B",
          null,
          "Carrier B",
          "Carrier B",
          "Carrier B",
          "Carrier B",
          null,
          "Carrier B",
          "Carrier B",
          "Carrier B",
          "Carrier B",
          null,
          "Reclamation",
          "Reclamation",
          "Reclamation",
          "Reclamation",
          null,
          "Reclamation",
          "Reclamation",
          "Reclamation",
          "Reclamation",
          null,
          "Reclamation",
          "Reclamation",
          "Reclamation",
          "Reclamation",
          null,
          "Reclamation",
          "Reclamation",
          "Reclamation",
          "Reclamation",
          null,
          "Reclamation",
          "Reclamation",
          "Reclamation",
          "Reclamation",
          null,
          "Reclamation",
          "Reclamation",
          "Reclamation",
          "Reclamation",
          null
         ]
        },
        {
         "connectgaps": false,
         "hoverinfo": "y+name",
         "line": {
          "color": "rgb(149,209,176)",
          "width": 10
         },
         "mode": "lines",
         "name": "loading:Carrier C",
         "type": "scatter",
         "x": [
          "1970-01-01T00:37:27",
          "1970-01-01T00:37:27",
          "1970-01-01T01:10:47",
          "1970-01-01T01:10:47",
          "1970-01-01T01:10:47",
          "1970-01-01T03:07:27",
          "1970-01-01T03:07:27",
          "1970-01-01T03:40:47",
          "1970-01-01T03:40:47",
          "1970-01-01T03:40:47",
          "1970-01-01T06:00:20",
          "1970-01-01T06:00:20",
          "1970-01-01T06:33:40",
          "1970-01-01T06:33:40",
          "1970-01-01T06:33:40",
          "1970-01-01T08:53:13",
          "1970-01-01T08:53:13",
          "1970-01-01T09:26:33",
          "1970-01-01T09:26:33",
          "1970-01-01T09:26:33",
          "1970-01-01T11:46:06",
          "1970-01-01T11:46:06",
          "1970-01-01T12:19:26",
          "1970-01-01T12:19:26",
          "1970-01-01T12:19:26",
          "1970-01-01T14:38:59",
          "1970-01-01T14:38:59",
          "1970-01-01T15:12:19",
          "1970-01-01T15:12:19",
          "1970-01-01T15:12:19",
          "1970-01-01T00:37:27",
          "1970-01-01T00:37:27",
          "1970-01-01T01:10:47",
          "1970-01-01T01:10:47",
          "1970-01-01T01:10:47",
          "1970-01-01T03:07:27",
          "1970-01-01T03:07:27",
          "1970-01-01T03:40:47",
          "1970-01-01T03:40:47",
          "1970-01-01T03:40:47",
          "1970-01-01T06:00:20",
          "1970-01-01T06:00:20",
          "1970-01-01T06:33:40",
          "1970-01-01T06:33:40",
          "1970-01-01T06:33:40",
          "1970-01-01T08:53:13",
          "1970-01-01T08:53:13",
          "1970-01-01T09:26:33",
          "1970-01-01T09:26:33",
          "1970-01-01T09:26:33",
          "1970-01-01T11:46:06",
          "1970-01-01T11:46:06",
          "1970-01-01T12:19:26",
          "1970-01-01T12:19:26",
          "1970-01-01T12:19:26",
          "1970-01-01T14:38:59",
          "1970-01-01T14:38:59",
          "1970-01-01T15:12:19",
          "1970-01-01T15:12:19",
          "1970-01-01T15:12:19",
          "1970-01-01T00:37:27",
          "1970-01-01T00:37:27",
          "1970-01-01T01:10:47",
          "1970-01-01T01:10:47",
          "1970-01-01T01:10:47",
          "1970-01-01T03:07:27",
          "1970-01-01T03:07:27",
          "1970-01-01T03:40:47",
          "1970-01-01T03:40:47",
          "1970-01-01T03:40:47",
          "1970-01-01T06:00:20",
          "1970-01-01T06:00:20",
          "1970-01-01T06:33:40",
          "1970-01-01T06:33:40",
          "1970-01-01T06:33:40",
          "1970-01-01T08:53:13",
          "1970-01-01T08:53:13",
          "1970-01-01T09:26:33",
          "1970-01-01T09:26:33",
          "1970-01-01T09:26:33",
          "1970-01-01T11:46:06",
          "1970-01-01T11:46:06",
          "1970-01-01T12:19:26",
          "1970-01-01T12:19:26",
          "1970-01-01T12:19:26",
          "1970-01-01T14:38:59",
          "1970-01-01T14:38:59",
          "1970-01-01T15:12:19",
          "1970-01-01T15:12:19",
          "1970-01-01T15:12:19"
         ],
         "y": [
          "Carrier C",
          "Carrier C",
          "Carrier C",
          "Carrier C",
          null,
          "Carrier C",
          "Carrier C",
          "Carrier C",
          "Carrier C",
          null,
          "Carrier C",
          "Carrier C",
          "Carrier C",
          "Carrier C",
          null,
          "Carrier C",
          "Carrier C",
          "Carrier C",
          "Carrier C",
          null,
          "Carrier C",
          "Carrier C",
          "Carrier C",
          "Carrier C",
          null,
          "Carrier C",
          "Carrier C",
          "Carrier C",
          "Carrier C",
          null,
          "Cutter T",
          "Cutter T",
          "Cutter T",
          "Cutter T",
          null,
          "Cutter T",
          "Cutter T",
          "Cutter T",
          "Cutter T",
          null,
          "Cutter T",
          "Cutter T",
          "Cutter T",
          "Cutter T",
          null,
          "Cutter T",
          "Cutter T",
          "Cutter T",
          "Cutter T",
          null,
          "Cutter T",
          "Cutter T",
          "Cutter T",
          "Cutter T",
          null,
          "Cutter T",
          "Cutter T",
          "Cutter T",
          "Cutter T",
          null,
          "Trench",
          "Trench",
          "Trench",
          "Trench",
          null,
          "Trench",
          "Trench",
          "Trench",
          "Trench",
          null,
          "Trench",
          "Trench",
          "Trench",
          "Trench",
          null,
          "Trench",
          "Trench",
          "Trench",
          "Trench",
          null,
          "Trench",
          "Trench",
          "Trench",
          "Trench",
          null,
          "Trench",
          "Trench",
          "Trench",
          "Trench",
          null
         ]
        },
        {
         "connectgaps": false,
         "hoverinfo": "y+name",
         "line": {
          "color": "rgb(158,218,185)",
          "width": 10
         },
         "mode": "lines",
         "name": "sailing full:Carrier C",
         "type": "scatter",
         "x": [
          "1970-01-01T01:10:47",
          "1970-01-01T01:10:47",
          "1970-01-01T01:48:14",
          "1970-01-01T01:48:14",
          "1970-01-01T01:48:14",
          "1970-01-01T03:40:47",
          "1970-01-01T03:40:47",
          "1970-01-01T04:18:14",
          "1970-01-01T04:18:14",
          "1970-01-01T04:18:14",
          "1970-01-01T06:33:40",
          "1970-01-01T06:33:40",
          "1970-01-01T07:11:07",
          "1970-01-01T07:11:07",
          "1970-01-01T07:11:07",
          "1970-01-01T09:26:33",
          "1970-01-01T09:26:33",
          "1970-01-01T10:04:00",
          "1970-01-01T10:04:00",
          "1970-01-01T10:04:00",
          "1970-01-01T12:19:26",
          "1970-01-01T12:19:26",
          "1970-01-01T12:56:53",
          "1970-01-01T12:56:53",
          "1970-01-01T12:56:53",
          "1970-01-01T15:12:19",
          "1970-01-01T15:12:19",
          "1970-01-01T15:49:46",
          "1970-01-01T15:49:46",
          "1970-01-01T15:49:46"
         ],
         "y": [
          "Carrier C",
          "Carrier C",
          "Carrier C",
          "Carrier C",
          null,
          "Carrier C",
          "Carrier C",
          "Carrier C",
          "Carrier C",
          null,
          "Carrier C",
          "Carrier C",
          "Carrier C",
          "Carrier C",
          null,
          "Carrier C",
          "Carrier C",
          "Carrier C",
          "Carrier C",
          null,
          "Carrier C",
          "Carrier C",
          "Carrier C",
          "Carrier C",
          null,
          "Carrier C",
          "Carrier C",
          "Carrier C",
          "Carrier C",
          null
         ]
        },
        {
         "connectgaps": false,
         "hoverinfo": "y+name",
         "line": {
          "color": "rgb(167,227,194)",
          "width": 10
         },
         "mode": "lines",
         "name": "sailing empty:Carrier C",
         "type": "scatter",
         "x": [
          "1970-01-01T00:00:00",
          "1970-01-01T00:00:00",
          "1970-01-01T00:37:27",
          "1970-01-01T00:37:27",
          "1970-01-01T00:37:27",
          "1970-01-01T02:25:41",
          "1970-01-01T02:25:41",
          "1970-01-01T03:03:08",
          "1970-01-01T03:03:08",
          "1970-01-01T03:03:08",
          "1970-01-01T04:55:41",
          "1970-01-01T04:55:41",
          "1970-01-01T05:33:08",
          "1970-01-01T05:33:08",
          "1970-01-01T05:33:08",
          "1970-01-01T07:48:34",
          "1970-01-01T07:48:34",
          "1970-01-01T08:26:01",
          "1970-01-01T08:26:01",
          "1970-01-01T08:26:01",
          "1970-01-01T10:41:27",
          "1970-01-01T10:41:27",
          "1970-01-01T11:18:54",
          "1970-01-01T11:18:54",
          "1970-01-01T11:18:54",
          "1970-01-01T13:34:20",
          "1970-01-01T13:34:20",
          "1970-01-01T14:11:47",
          "1970-01-01T14:11:47",
          "1970-01-01T14:11:47"
         ],
         "y": [
          "Carrier C",
          "Carrier C",
          "Carrier C",
          "Carrier C",
          null,
          "Carrier C",
          "Carrier C",
          "Carrier C",
          "Carrier C",
          null,
          "Carrier C",
          "Carrier C",
          "Carrier C",
          "Carrier C",
          null,
          "Carrier C",
          "Carrier C",
          "Carrier C",
          "Carrier C",
          null,
          "Carrier C",
          "Carrier C",
          "Carrier C",
          "Carrier C",
          null,
          "Carrier C",
          "Carrier C",
          "Carrier C",
          "Carrier C",
          null
         ]
        },
        {
         "connectgaps": false,
         "hoverinfo": "y+name",
         "line": {
          "color": "rgb(176,236,203)",
          "width": 10
         },
         "mode": "lines",
         "name": "unloading:Carrier C",
         "type": "scatter",
         "x": [
          "1970-01-01T01:48:14",
          "1970-01-01T01:48:14",
          "1970-01-01T02:25:41",
          "1970-01-01T02:25:41",
          "1970-01-01T02:25:41",
          "1970-01-01T04:18:14",
          "1970-01-01T04:18:14",
          "1970-01-01T04:55:41",
          "1970-01-01T04:55:41",
          "1970-01-01T04:55:41",
          "1970-01-01T07:11:07",
          "1970-01-01T07:11:07",
          "1970-01-01T07:48:34",
          "1970-01-01T07:48:34",
          "1970-01-01T07:48:34",
          "1970-01-01T10:04:00",
          "1970-01-01T10:04:00",
          "1970-01-01T10:41:27",
          "1970-01-01T10:41:27",
          "1970-01-01T10:41:27",
          "1970-01-01T12:56:53",
          "1970-01-01T12:56:53",
          "1970-01-01T13:34:20",
          "1970-01-01T13:34:20",
          "1970-01-01T13:34:20",
          "1970-01-01T15:49:46",
          "1970-01-01T15:49:46",
          "1970-01-01T16:27:13",
          "1970-01-01T16:27:13",
          "1970-01-01T16:27:13",
          "1970-01-01T01:48:14",
          "1970-01-01T01:48:14",
          "1970-01-01T02:25:41",
          "1970-01-01T02:25:41",
          "1970-01-01T02:25:41",
          "1970-01-01T04:18:14",
          "1970-01-01T04:18:14",
          "1970-01-01T04:55:41",
          "1970-01-01T04:55:41",
          "1970-01-01T04:55:41",
          "1970-01-01T07:11:07",
          "1970-01-01T07:11:07",
          "1970-01-01T07:48:34",
          "1970-01-01T07:48:34",
          "1970-01-01T07:48:34",
          "1970-01-01T10:04:00",
          "1970-01-01T10:04:00",
          "1970-01-01T10:41:27",
          "1970-01-01T10:41:27",
          "1970-01-01T10:41:27",
          "1970-01-01T12:56:53",
          "1970-01-01T12:56:53",
          "1970-01-01T13:34:20",
          "1970-01-01T13:34:20",
          "1970-01-01T13:34:20",
          "1970-01-01T15:49:46",
          "1970-01-01T15:49:46",
          "1970-01-01T16:27:13",
          "1970-01-01T16:27:13",
          "1970-01-01T16:27:13"
         ],
         "y": [
          "Carrier C",
          "Carrier C",
          "Carrier C",
          "Carrier C",
          null,
          "Carrier C",
          "Carrier C",
          "Carrier C",
          "Carrier C",
          null,
          "Carrier C",
          "Carrier C",
          "Carrier C",
          "Carrier C",
          null,
          "Carrier C",
          "Carrier C",
          "Carrier C",
          "Carrier C",
          null,
          "Carrier C",
          "Carrier C",
          "Carrier C",
          "Carrier C",
          null,
          "Carrier C",
          "Carrier C",
          "Carrier C",
          "Carrier C",
          null,
          "Reclamation",
          "Reclamation",
          "Reclamation",
          "Reclamation",
          null,
          "Reclamation",
          "Reclamation",
          "Reclamation",
          "Reclamation",
          null,
          "Reclamation",
          "Reclamation",
          "Reclamation",
          "Reclamation",
          null,
          "Reclamation",
          "Reclamation",
          "Reclamation",
          "Reclamation",
          null,
          "Reclamation",
          "Reclamation",
          "Reclamation",
          "Reclamation",
          null,
          "Reclamation",
          "Reclamation",
          "Reclamation",
          "Reclamation",
          null
         ]
        },
        {
         "connectgaps": false,
         "hoverinfo": "y+name",
         "line": {
          "color": "rgb(185,245,212)",
          "width": 10
         },
         "mode": "lines",
         "name": "sailing empty:Barge I",
         "type": "scatter",
         "x": [
          "1970-01-01T00:00:00",
          "1970-01-01T00:00:00",
          "1970-01-01T00:40:06",
          "1970-01-01T00:40:06",
          "1970-01-01T00:40:06",
          "1970-01-01T03:12:39",
          "1970-01-01T03:12:39",
          "1970-01-01T03:52:45",
          "1970-01-01T03:52:45",
          "1970-01-01T03:52:45",
          "1970-01-01T05:54:37",
          "1970-01-01T05:54:37",
          "1970-01-01T06:34:43",
          "1970-01-01T06:34:43",
          "1970-01-01T06:34:43",
          "1970-01-01T08:36:35",
          "1970-01-01T08:36:35",
          "1970-01-01T09:16:41",
          "1970-01-01T09:16:41",
          "1970-01-01T09:16:41",
          "1970-01-01T11:28:25",
          "1970-01-01T11:28:25",
          "1970-01-01T12:08:31",
          "1970-01-01T12:08:31",
          "1970-01-01T12:08:31",
          "1970-01-01T14:21:18",
          "1970-01-01T14:21:18",
          "1970-01-01T15:01:24",
          "1970-01-01T15:01:24",
          "1970-01-01T15:01:24"
         ],
         "y": [
          "Barge I",
          "Barge I",
          "Barge I",
          "Barge I",
          null,
          "Barge I",
          "Barge I",
          "Barge I",
          "Barge I",
          null,
          "Barge I",
          "Barge I",
          "Barge I",
          "Barge I",
          null,
          "Barge I",
          "Barge I",
          "Barge I",
          "Barge I",
          null,
          "Barge I",
          "Barge I",
          "Barge I",
          "Barge I",
          null,
          "Barge I",
          "Barge I",
          "Barge I",
          "Barge I",
          null
         ]
        },
        {
         "connectgaps": false,
         "hoverinfo": "y+name",
         "line": {
          "color": "rgb(194,254,221)",
          "width": 10
         },
         "mode": "lines",
         "name": "sailing full:Barge I",
         "type": "scatter",
         "x": [
          "1970-01-01T01:52:27",
          "1970-01-01T01:52:27",
          "1970-01-01T02:32:33",
          "1970-01-01T02:32:33",
          "1970-01-01T02:32:33",
          "1970-01-01T04:34:25",
          "1970-01-01T04:34:25",
          "1970-01-01T05:14:31",
          "1970-01-01T05:14:31",
          "1970-01-01T05:14:31",
          "1970-01-01T07:16:23",
          "1970-01-01T07:16:23",
          "1970-01-01T07:56:29",
          "1970-01-01T07:56:29",
          "1970-01-01T07:56:29",
          "1970-01-01T10:08:13",
          "1970-01-01T10:08:13",
          "1970-01-01T10:48:19",
          "1970-01-01T10:48:19",
          "1970-01-01T10:48:19",
          "1970-01-01T13:01:06",
          "1970-01-01T13:01:06",
          "1970-01-01T13:41:12",
          "1970-01-01T13:41:12",
          "1970-01-01T13:41:12",
          "1970-01-01T15:53:59",
          "1970-01-01T15:53:59",
          "1970-01-01T16:34:05",
          "1970-01-01T16:34:05",
          "1970-01-01T16:34:05"
         ],
         "y": [
          "Barge I",
          "Barge I",
          "Barge I",
          "Barge I",
          null,
          "Barge I",
          "Barge I",
          "Barge I",
          "Barge I",
          null,
          "Barge I",
          "Barge I",
          "Barge I",
          "Barge I",
          null,
          "Barge I",
          "Barge I",
          "Barge I",
          "Barge I",
          null,
          "Barge I",
          "Barge I",
          "Barge I",
          "Barge I",
          null,
          "Barge I",
          "Barge I",
          "Barge I",
          "Barge I",
          null
         ]
        },
        {
         "connectgaps": false,
         "hoverinfo": "y+name",
         "line": {
          "color": "rgb(203,7,230)",
          "width": 10
         },
         "mode": "lines",
         "name": "unloading:Barge I",
         "type": "scatter",
         "x": [
          "1970-01-01T02:32:33",
          "1970-01-01T02:32:33",
          "1970-01-01T03:12:39",
          "1970-01-01T03:12:39",
          "1970-01-01T03:12:39",
          "1970-01-01T05:14:31",
          "1970-01-01T05:14:31",
          "1970-01-01T05:54:37",
          "1970-01-01T05:54:37",
          "1970-01-01T05:54:37",
          "1970-01-01T07:56:29",
          "1970-01-01T07:56:29",
          "1970-01-01T08:36:35",
          "1970-01-01T08:36:35",
          "1970-01-01T08:36:35",
          "1970-01-01T10:48:19",
          "1970-01-01T10:48:19",
          "1970-01-01T11:28:25",
          "1970-01-01T11:28:25",
          "1970-01-01T11:28:25",
          "1970-01-01T13:41:12",
          "1970-01-01T13:41:12",
          "1970-01-01T14:21:18",
          "1970-01-01T14:21:18",
          "1970-01-01T14:21:18",
          "1970-01-01T16:34:05",
          "1970-01-01T16:34:05",
          "1970-01-01T17:14:11",
          "1970-01-01T17:14:11",
          "1970-01-01T17:14:11",
          "1970-01-01T02:32:33",
          "1970-01-01T02:32:33",
          "1970-01-01T03:12:39",
          "1970-01-01T03:12:39",
          "1970-01-01T03:12:39",
          "1970-01-01T05:14:31",
          "1970-01-01T05:14:31",
          "1970-01-01T05:54:37",
          "1970-01-01T05:54:37",
          "1970-01-01T05:54:37",
          "1970-01-01T07:56:29",
          "1970-01-01T07:56:29",
          "1970-01-01T08:36:35",
          "1970-01-01T08:36:35",
          "1970-01-01T08:36:35",
          "1970-01-01T10:48:19",
          "1970-01-01T10:48:19",
          "1970-01-01T11:28:25",
          "1970-01-01T11:28:25",
          "1970-01-01T11:28:25",
          "1970-01-01T13:41:12",
          "1970-01-01T13:41:12",
          "1970-01-01T14:21:18",
          "1970-01-01T14:21:18",
          "1970-01-01T14:21:18",
          "1970-01-01T16:34:05",
          "1970-01-01T16:34:05",
          "1970-01-01T17:14:11",
          "1970-01-01T17:14:11",
          "1970-01-01T17:14:11"
         ],
         "y": [
          "Barge I",
          "Barge I",
          "Barge I",
          "Barge I",
          null,
          "Barge I",
          "Barge I",
          "Barge I",
          "Barge I",
          null,
          "Barge I",
          "Barge I",
          "Barge I",
          "Barge I",
          null,
          "Barge I",
          "Barge I",
          "Barge I",
          "Barge I",
          null,
          "Barge I",
          "Barge I",
          "Barge I",
          "Barge I",
          null,
          "Barge I",
          "Barge I",
          "Barge I",
          "Barge I",
          null,
          "Reclamation",
          "Reclamation",
          "Reclamation",
          "Reclamation",
          null,
          "Reclamation",
          "Reclamation",
          "Reclamation",
          "Reclamation",
          null,
          "Reclamation",
          "Reclamation",
          "Reclamation",
          "Reclamation",
          null,
          "Reclamation",
          "Reclamation",
          "Reclamation",
          "Reclamation",
          null,
          "Reclamation",
          "Reclamation",
          "Reclamation",
          "Reclamation",
          null,
          "Reclamation",
          "Reclamation",
          "Reclamation",
          "Reclamation",
          null
         ]
        },
        {
         "connectgaps": false,
         "hoverinfo": "y+name",
         "line": {
          "color": "rgb(212,16,239)",
          "width": 10
         },
         "mode": "lines",
         "name": "loading:Barge I",
         "type": "scatter",
         "x": [
          "1970-01-01T01:10:47",
          "1970-01-01T01:10:47",
          "1970-01-01T01:52:27",
          "1970-01-01T01:52:27",
          "1970-01-01T01:52:27",
          "1970-01-01T03:52:45",
          "1970-01-01T03:52:45",
          "1970-01-01T04:34:25",
          "1970-01-01T04:34:25",
          "1970-01-01T04:34:25",
          "1970-01-01T06:34:43",
          "1970-01-01T06:34:43",
          "1970-01-01T07:16:23",
          "1970-01-01T07:16:23",
          "1970-01-01T07:16:23",
          "1970-01-01T09:26:33",
          "1970-01-01T09:26:33",
          "1970-01-01T10:08:13",
          "1970-01-01T10:08:13",
          "1970-01-01T10:08:13",
          "1970-01-01T12:19:26",
          "1970-01-01T12:19:26",
          "1970-01-01T13:01:06",
          "1970-01-01T13:01:06",
          "1970-01-01T13:01:06",
          "1970-01-01T15:12:19",
          "1970-01-01T15:12:19",
          "1970-01-01T15:53:59",
          "1970-01-01T15:53:59",
          "1970-01-01T15:53:59",
          "1970-01-01T01:10:47",
          "1970-01-01T01:10:47",
          "1970-01-01T01:52:27",
          "1970-01-01T01:52:27",
          "1970-01-01T01:52:27",
          "1970-01-01T03:52:45",
          "1970-01-01T03:52:45",
          "1970-01-01T04:34:25",
          "1970-01-01T04:34:25",
          "1970-01-01T04:34:25",
          "1970-01-01T06:34:43",
          "1970-01-01T06:34:43",
          "1970-01-01T07:16:23",
          "1970-01-01T07:16:23",
          "1970-01-01T07:16:23",
          "1970-01-01T09:26:33",
          "1970-01-01T09:26:33",
          "1970-01-01T10:08:13",
          "1970-01-01T10:08:13",
          "1970-01-01T10:08:13",
          "1970-01-01T12:19:26",
          "1970-01-01T12:19:26",
          "1970-01-01T13:01:06",
          "1970-01-01T13:01:06",
          "1970-01-01T13:01:06",
          "1970-01-01T15:12:19",
          "1970-01-01T15:12:19",
          "1970-01-01T15:53:59",
          "1970-01-01T15:53:59",
          "1970-01-01T15:53:59",
          "1970-01-01T01:10:47",
          "1970-01-01T01:10:47",
          "1970-01-01T01:52:27",
          "1970-01-01T01:52:27",
          "1970-01-01T01:52:27",
          "1970-01-01T03:52:45",
          "1970-01-01T03:52:45",
          "1970-01-01T04:34:25",
          "1970-01-01T04:34:25",
          "1970-01-01T04:34:25",
          "1970-01-01T06:34:43",
          "1970-01-01T06:34:43",
          "1970-01-01T07:16:23",
          "1970-01-01T07:16:23",
          "1970-01-01T07:16:23",
          "1970-01-01T09:26:33",
          "1970-01-01T09:26:33",
          "1970-01-01T10:08:13",
          "1970-01-01T10:08:13",
          "1970-01-01T10:08:13",
          "1970-01-01T12:19:26",
          "1970-01-01T12:19:26",
          "1970-01-01T13:01:06",
          "1970-01-01T13:01:06",
          "1970-01-01T13:01:06",
          "1970-01-01T15:12:19",
          "1970-01-01T15:12:19",
          "1970-01-01T15:53:59",
          "1970-01-01T15:53:59",
          "1970-01-01T15:53:59"
         ],
         "y": [
          "Barge I",
          "Barge I",
          "Barge I",
          "Barge I",
          null,
          "Barge I",
          "Barge I",
          "Barge I",
          "Barge I",
          null,
          "Barge I",
          "Barge I",
          "Barge I",
          "Barge I",
          null,
          "Barge I",
          "Barge I",
          "Barge I",
          "Barge I",
          null,
          "Barge I",
          "Barge I",
          "Barge I",
          "Barge I",
          null,
          "Barge I",
          "Barge I",
          "Barge I",
          "Barge I",
          null,
          "Cutter T",
          "Cutter T",
          "Cutter T",
          "Cutter T",
          null,
          "Cutter T",
          "Cutter T",
          "Cutter T",
          "Cutter T",
          null,
          "Cutter T",
          "Cutter T",
          "Cutter T",
          "Cutter T",
          null,
          "Cutter T",
          "Cutter T",
          "Cutter T",
          "Cutter T",
          null,
          "Cutter T",
          "Cutter T",
          "Cutter T",
          "Cutter T",
          null,
          "Cutter T",
          "Cutter T",
          "Cutter T",
          "Cutter T",
          null,
          "Trench",
          "Trench",
          "Trench",
          "Trench",
          null,
          "Trench",
          "Trench",
          "Trench",
          "Trench",
          null,
          "Trench",
          "Trench",
          "Trench",
          "Trench",
          null,
          "Trench",
          "Trench",
          "Trench",
          "Trench",
          null,
          "Trench",
          "Trench",
          "Trench",
          "Trench",
          null,
          "Trench",
          "Trench",
          "Trench",
          "Trench",
          null
         ]
        },
        {
         "connectgaps": false,
         "hoverinfo": "y+name",
         "line": {
          "color": "rgb(221,25,248)",
          "width": 10
         },
         "mode": "lines",
         "name": "loading:Carrier C",
         "type": "scatter",
         "x": [
          "1970-01-01T00:37:27",
          "1970-01-01T00:37:27",
          "1970-01-01T01:10:47",
          "1970-01-01T01:10:47",
          "1970-01-01T01:10:47",
          "1970-01-01T03:07:27",
          "1970-01-01T03:07:27",
          "1970-01-01T03:40:47",
          "1970-01-01T03:40:47",
          "1970-01-01T03:40:47",
          "1970-01-01T06:00:20",
          "1970-01-01T06:00:20",
          "1970-01-01T06:33:40",
          "1970-01-01T06:33:40",
          "1970-01-01T06:33:40",
          "1970-01-01T08:53:13",
          "1970-01-01T08:53:13",
          "1970-01-01T09:26:33",
          "1970-01-01T09:26:33",
          "1970-01-01T09:26:33",
          "1970-01-01T11:46:06",
          "1970-01-01T11:46:06",
          "1970-01-01T12:19:26",
          "1970-01-01T12:19:26",
          "1970-01-01T12:19:26",
          "1970-01-01T14:38:59",
          "1970-01-01T14:38:59",
          "1970-01-01T15:12:19",
          "1970-01-01T15:12:19",
          "1970-01-01T15:12:19",
          "1970-01-01T00:37:27",
          "1970-01-01T00:37:27",
          "1970-01-01T01:10:47",
          "1970-01-01T01:10:47",
          "1970-01-01T01:10:47",
          "1970-01-01T03:07:27",
          "1970-01-01T03:07:27",
          "1970-01-01T03:40:47",
          "1970-01-01T03:40:47",
          "1970-01-01T03:40:47",
          "1970-01-01T06:00:20",
          "1970-01-01T06:00:20",
          "1970-01-01T06:33:40",
          "1970-01-01T06:33:40",
          "1970-01-01T06:33:40",
          "1970-01-01T08:53:13",
          "1970-01-01T08:53:13",
          "1970-01-01T09:26:33",
          "1970-01-01T09:26:33",
          "1970-01-01T09:26:33",
          "1970-01-01T11:46:06",
          "1970-01-01T11:46:06",
          "1970-01-01T12:19:26",
          "1970-01-01T12:19:26",
          "1970-01-01T12:19:26",
          "1970-01-01T14:38:59",
          "1970-01-01T14:38:59",
          "1970-01-01T15:12:19",
          "1970-01-01T15:12:19",
          "1970-01-01T15:12:19",
          "1970-01-01T00:37:27",
          "1970-01-01T00:37:27",
          "1970-01-01T01:10:47",
          "1970-01-01T01:10:47",
          "1970-01-01T01:10:47",
          "1970-01-01T03:07:27",
          "1970-01-01T03:07:27",
          "1970-01-01T03:40:47",
          "1970-01-01T03:40:47",
          "1970-01-01T03:40:47",
          "1970-01-01T06:00:20",
          "1970-01-01T06:00:20",
          "1970-01-01T06:33:40",
          "1970-01-01T06:33:40",
          "1970-01-01T06:33:40",
          "1970-01-01T08:53:13",
          "1970-01-01T08:53:13",
          "1970-01-01T09:26:33",
          "1970-01-01T09:26:33",
          "1970-01-01T09:26:33",
          "1970-01-01T11:46:06",
          "1970-01-01T11:46:06",
          "1970-01-01T12:19:26",
          "1970-01-01T12:19:26",
          "1970-01-01T12:19:26",
          "1970-01-01T14:38:59",
          "1970-01-01T14:38:59",
          "1970-01-01T15:12:19",
          "1970-01-01T15:12:19",
          "1970-01-01T15:12:19"
         ],
         "y": [
          "Carrier C",
          "Carrier C",
          "Carrier C",
          "Carrier C",
          null,
          "Carrier C",
          "Carrier C",
          "Carrier C",
          "Carrier C",
          null,
          "Carrier C",
          "Carrier C",
          "Carrier C",
          "Carrier C",
          null,
          "Carrier C",
          "Carrier C",
          "Carrier C",
          "Carrier C",
          null,
          "Carrier C",
          "Carrier C",
          "Carrier C",
          "Carrier C",
          null,
          "Carrier C",
          "Carrier C",
          "Carrier C",
          "Carrier C",
          null,
          "Cutter T",
          "Cutter T",
          "Cutter T",
          "Cutter T",
          null,
          "Cutter T",
          "Cutter T",
          "Cutter T",
          "Cutter T",
          null,
          "Cutter T",
          "Cutter T",
          "Cutter T",
          "Cutter T",
          null,
          "Cutter T",
          "Cutter T",
          "Cutter T",
          "Cutter T",
          null,
          "Cutter T",
          "Cutter T",
          "Cutter T",
          "Cutter T",
          null,
          "Cutter T",
          "Cutter T",
          "Cutter T",
          "Cutter T",
          null,
          "Trench",
          "Trench",
          "Trench",
          "Trench",
          null,
          "Trench",
          "Trench",
          "Trench",
          "Trench",
          null,
          "Trench",
          "Trench",
          "Trench",
          "Trench",
          null,
          "Trench",
          "Trench",
          "Trench",
          "Trench",
          null,
          "Trench",
          "Trench",
          "Trench",
          "Trench",
          null,
          "Trench",
          "Trench",
          "Trench",
          "Trench",
          null
         ]
        },
        {
         "connectgaps": false,
         "hoverinfo": "y+name",
         "line": {
          "color": "rgb(230,34,1)",
          "width": 10
         },
         "mode": "lines",
         "name": "loading:Carrier B",
         "type": "scatter",
         "x": [
          "1970-01-01T01:52:27",
          "1970-01-01T01:52:27",
          "1970-01-01T02:34:07",
          "1970-01-01T02:34:07",
          "1970-01-01T02:34:07",
          "1970-01-01T04:37:31",
          "1970-01-01T04:37:31",
          "1970-01-01T05:19:11",
          "1970-01-01T05:19:11",
          "1970-01-01T05:19:11",
          "1970-01-01T07:22:35",
          "1970-01-01T07:22:35",
          "1970-01-01T08:04:15",
          "1970-01-01T08:04:15",
          "1970-01-01T08:04:15",
          "1970-01-01T10:08:13",
          "1970-01-01T10:08:13",
          "1970-01-01T10:49:53",
          "1970-01-01T10:49:53",
          "1970-01-01T10:49:53",
          "1970-01-01T13:01:06",
          "1970-01-01T13:01:06",
          "1970-01-01T13:42:46",
          "1970-01-01T13:42:46",
          "1970-01-01T13:42:46",
          "1970-01-01T15:53:59",
          "1970-01-01T15:53:59",
          "1970-01-01T16:35:39",
          "1970-01-01T16:35:39",
          "1970-01-01T16:35:39",
          "1970-01-01T01:52:27",
          "1970-01-01T01:52:27",
          "1970-01-01T02:34:07",
          "1970-01-01T02:34:07",
          "1970-01-01T02:34:07",
          "1970-01-01T04:37:31",
          "1970-01-01T04:37:31",
          "1970-01-01T05:19:11",
          "1970-01-01T05:19:11",
          "1970-01-01T05:19:11",
          "1970-01-01T07:22:35",
          "1970-01-01T07:22:35",
          "1970-01-01T08:04:15",
          "1970-01-01T08:04:15",
          "1970-01-01T08:04:15",
          "1970-01-01T10:08:13",
          "1970-01-01T10:08:13",
          "1970-01-01T10:49:53",
          "1970-01-01T10:49:53",
          "1970-01-01T10:49:53",
          "1970-01-01T13:01:06",
          "1970-01-01T13:01:06",
          "1970-01-01T13:42:46",
          "1970-01-01T13:42:46",
          "1970-01-01T13:42:46",
          "1970-01-01T15:53:59",
          "1970-01-01T15:53:59",
          "1970-01-01T16:35:39",
          "1970-01-01T16:35:39",
          "1970-01-01T16:35:39",
          "1970-01-01T01:52:27",
          "1970-01-01T01:52:27",
          "1970-01-01T02:34:07",
          "1970-01-01T02:34:07",
          "1970-01-01T02:34:07",
          "1970-01-01T04:37:31",
          "1970-01-01T04:37:31",
          "1970-01-01T05:19:11",
          "1970-01-01T05:19:11",
          "1970-01-01T05:19:11",
          "1970-01-01T07:22:35",
          "1970-01-01T07:22:35",
          "1970-01-01T08:04:15",
          "1970-01-01T08:04:15",
          "1970-01-01T08:04:15",
          "1970-01-01T10:08:13",
          "1970-01-01T10:08:13",
          "1970-01-01T10:49:53",
          "1970-01-01T10:49:53",
          "1970-01-01T10:49:53",
          "1970-01-01T13:01:06",
          "1970-01-01T13:01:06",
          "1970-01-01T13:42:46",
          "1970-01-01T13:42:46",
          "1970-01-01T13:42:46",
          "1970-01-01T15:53:59",
          "1970-01-01T15:53:59",
          "1970-01-01T16:35:39",
          "1970-01-01T16:35:39",
          "1970-01-01T16:35:39"
         ],
         "y": [
          "Carrier B",
          "Carrier B",
          "Carrier B",
          "Carrier B",
          null,
          "Carrier B",
          "Carrier B",
          "Carrier B",
          "Carrier B",
          null,
          "Carrier B",
          "Carrier B",
          "Carrier B",
          "Carrier B",
          null,
          "Carrier B",
          "Carrier B",
          "Carrier B",
          "Carrier B",
          null,
          "Carrier B",
          "Carrier B",
          "Carrier B",
          "Carrier B",
          null,
          "Carrier B",
          "Carrier B",
          "Carrier B",
          "Carrier B",
          null,
          "Cutter T",
          "Cutter T",
          "Cutter T",
          "Cutter T",
          null,
          "Cutter T",
          "Cutter T",
          "Cutter T",
          "Cutter T",
          null,
          "Cutter T",
          "Cutter T",
          "Cutter T",
          "Cutter T",
          null,
          "Cutter T",
          "Cutter T",
          "Cutter T",
          "Cutter T",
          null,
          "Cutter T",
          "Cutter T",
          "Cutter T",
          "Cutter T",
          null,
          "Cutter T",
          "Cutter T",
          "Cutter T",
          "Cutter T",
          null,
          "Trench",
          "Trench",
          "Trench",
          "Trench",
          null,
          "Trench",
          "Trench",
          "Trench",
          "Trench",
          null,
          "Trench",
          "Trench",
          "Trench",
          "Trench",
          null,
          "Trench",
          "Trench",
          "Trench",
          "Trench",
          null,
          "Trench",
          "Trench",
          "Trench",
          "Trench",
          null,
          "Trench",
          "Trench",
          "Trench",
          "Trench",
          null
         ]
        },
        {
         "connectgaps": false,
         "hoverinfo": "y+name",
         "line": {
          "color": "rgb(239,43,10)",
          "width": 10
         },
         "mode": "lines",
         "name": "loading:Carrier A",
         "type": "scatter",
         "x": [
          "1970-01-01T02:34:07",
          "1970-01-01T02:34:07",
          "1970-01-01T03:07:27",
          "1970-01-01T03:07:27",
          "1970-01-01T03:07:27",
          "1970-01-01T05:27:00",
          "1970-01-01T05:27:00",
          "1970-01-01T06:00:20",
          "1970-01-01T06:00:20",
          "1970-01-01T06:00:20",
          "1970-01-01T08:19:53",
          "1970-01-01T08:19:53",
          "1970-01-01T08:53:13",
          "1970-01-01T08:53:13",
          "1970-01-01T08:53:13",
          "1970-01-01T11:12:46",
          "1970-01-01T11:12:46",
          "1970-01-01T11:46:06",
          "1970-01-01T11:46:06",
          "1970-01-01T11:46:06",
          "1970-01-01T14:05:39",
          "1970-01-01T14:05:39",
          "1970-01-01T14:38:59",
          "1970-01-01T14:38:59",
          "1970-01-01T14:38:59",
          "1970-01-01T02:34:07",
          "1970-01-01T02:34:07",
          "1970-01-01T03:07:27",
          "1970-01-01T03:07:27",
          "1970-01-01T03:07:27",
          "1970-01-01T05:27:00",
          "1970-01-01T05:27:00",
          "1970-01-01T06:00:20",
          "1970-01-01T06:00:20",
          "1970-01-01T06:00:20",
          "1970-01-01T08:19:53",
          "1970-01-01T08:19:53",
          "1970-01-01T08:53:13",
          "1970-01-01T08:53:13",
          "1970-01-01T08:53:13",
          "1970-01-01T11:12:46",
          "1970-01-01T11:12:46",
          "1970-01-01T11:46:06",
          "1970-01-01T11:46:06",
          "1970-01-01T11:46:06",
          "1970-01-01T14:05:39",
          "1970-01-01T14:05:39",
          "1970-01-01T14:38:59",
          "1970-01-01T14:38:59",
          "1970-01-01T14:38:59",
          "1970-01-01T02:34:07",
          "1970-01-01T02:34:07",
          "1970-01-01T03:07:27",
          "1970-01-01T03:07:27",
          "1970-01-01T03:07:27",
          "1970-01-01T05:27:00",
          "1970-01-01T05:27:00",
          "1970-01-01T06:00:20",
          "1970-01-01T06:00:20",
          "1970-01-01T06:00:20",
          "1970-01-01T08:19:53",
          "1970-01-01T08:19:53",
          "1970-01-01T08:53:13",
          "1970-01-01T08:53:13",
          "1970-01-01T08:53:13",
          "1970-01-01T11:12:46",
          "1970-01-01T11:12:46",
          "1970-01-01T11:46:06",
          "1970-01-01T11:46:06",
          "1970-01-01T11:46:06",
          "1970-01-01T14:05:39",
          "1970-01-01T14:05:39",
          "1970-01-01T14:38:59",
          "1970-01-01T14:38:59",
          "1970-01-01T14:38:59"
         ],
         "y": [
          "Carrier A",
          "Carrier A",
          "Carrier A",
          "Carrier A",
          null,
          "Carrier A",
          "Carrier A",
          "Carrier A",
          "Carrier A",
          null,
          "Carrier A",
          "Carrier A",
          "Carrier A",
          "Carrier A",
          null,
          "Carrier A",
          "Carrier A",
          "Carrier A",
          "Carrier A",
          null,
          "Carrier A",
          "Carrier A",
          "Carrier A",
          "Carrier A",
          null,
          "Cutter T",
          "Cutter T",
          "Cutter T",
          "Cutter T",
          null,
          "Cutter T",
          "Cutter T",
          "Cutter T",
          "Cutter T",
          null,
          "Cutter T",
          "Cutter T",
          "Cutter T",
          "Cutter T",
          null,
          "Cutter T",
          "Cutter T",
          "Cutter T",
          "Cutter T",
          null,
          "Cutter T",
          "Cutter T",
          "Cutter T",
          "Cutter T",
          null,
          "Trench",
          "Trench",
          "Trench",
          "Trench",
          null,
          "Trench",
          "Trench",
          "Trench",
          "Trench",
          null,
          "Trench",
          "Trench",
          "Trench",
          "Trench",
          null,
          "Trench",
          "Trench",
          "Trench",
          "Trench",
          null,
          "Trench",
          "Trench",
          "Trench",
          "Trench",
          null
         ]
        },
        {
         "connectgaps": false,
         "hoverinfo": "y+name",
         "line": {
          "color": "rgb(248,52,19)",
          "width": 10
         },
         "mode": "lines",
         "name": "loading:Barge I",
         "type": "scatter",
         "x": [
          "1970-01-01T01:10:47",
          "1970-01-01T01:10:47",
          "1970-01-01T01:52:27",
          "1970-01-01T01:52:27",
          "1970-01-01T01:52:27",
          "1970-01-01T03:52:45",
          "1970-01-01T03:52:45",
          "1970-01-01T04:34:25",
          "1970-01-01T04:34:25",
          "1970-01-01T04:34:25",
          "1970-01-01T06:34:43",
          "1970-01-01T06:34:43",
          "1970-01-01T07:16:23",
          "1970-01-01T07:16:23",
          "1970-01-01T07:16:23",
          "1970-01-01T09:26:33",
          "1970-01-01T09:26:33",
          "1970-01-01T10:08:13",
          "1970-01-01T10:08:13",
          "1970-01-01T10:08:13",
          "1970-01-01T12:19:26",
          "1970-01-01T12:19:26",
          "1970-01-01T13:01:06",
          "1970-01-01T13:01:06",
          "1970-01-01T13:01:06",
          "1970-01-01T15:12:19",
          "1970-01-01T15:12:19",
          "1970-01-01T15:53:59",
          "1970-01-01T15:53:59",
          "1970-01-01T15:53:59",
          "1970-01-01T01:10:47",
          "1970-01-01T01:10:47",
          "1970-01-01T01:52:27",
          "1970-01-01T01:52:27",
          "1970-01-01T01:52:27",
          "1970-01-01T03:52:45",
          "1970-01-01T03:52:45",
          "1970-01-01T04:34:25",
          "1970-01-01T04:34:25",
          "1970-01-01T04:34:25",
          "1970-01-01T06:34:43",
          "1970-01-01T06:34:43",
          "1970-01-01T07:16:23",
          "1970-01-01T07:16:23",
          "1970-01-01T07:16:23",
          "1970-01-01T09:26:33",
          "1970-01-01T09:26:33",
          "1970-01-01T10:08:13",
          "1970-01-01T10:08:13",
          "1970-01-01T10:08:13",
          "1970-01-01T12:19:26",
          "1970-01-01T12:19:26",
          "1970-01-01T13:01:06",
          "1970-01-01T13:01:06",
          "1970-01-01T13:01:06",
          "1970-01-01T15:12:19",
          "1970-01-01T15:12:19",
          "1970-01-01T15:53:59",
          "1970-01-01T15:53:59",
          "1970-01-01T15:53:59",
          "1970-01-01T01:10:47",
          "1970-01-01T01:10:47",
          "1970-01-01T01:52:27",
          "1970-01-01T01:52:27",
          "1970-01-01T01:52:27",
          "1970-01-01T03:52:45",
          "1970-01-01T03:52:45",
          "1970-01-01T04:34:25",
          "1970-01-01T04:34:25",
          "1970-01-01T04:34:25",
          "1970-01-01T06:34:43",
          "1970-01-01T06:34:43",
          "1970-01-01T07:16:23",
          "1970-01-01T07:16:23",
          "1970-01-01T07:16:23",
          "1970-01-01T09:26:33",
          "1970-01-01T09:26:33",
          "1970-01-01T10:08:13",
          "1970-01-01T10:08:13",
          "1970-01-01T10:08:13",
          "1970-01-01T12:19:26",
          "1970-01-01T12:19:26",
          "1970-01-01T13:01:06",
          "1970-01-01T13:01:06",
          "1970-01-01T13:01:06",
          "1970-01-01T15:12:19",
          "1970-01-01T15:12:19",
          "1970-01-01T15:53:59",
          "1970-01-01T15:53:59",
          "1970-01-01T15:53:59"
         ],
         "y": [
          "Barge I",
          "Barge I",
          "Barge I",
          "Barge I",
          null,
          "Barge I",
          "Barge I",
          "Barge I",
          "Barge I",
          null,
          "Barge I",
          "Barge I",
          "Barge I",
          "Barge I",
          null,
          "Barge I",
          "Barge I",
          "Barge I",
          "Barge I",
          null,
          "Barge I",
          "Barge I",
          "Barge I",
          "Barge I",
          null,
          "Barge I",
          "Barge I",
          "Barge I",
          "Barge I",
          null,
          "Cutter T",
          "Cutter T",
          "Cutter T",
          "Cutter T",
          null,
          "Cutter T",
          "Cutter T",
          "Cutter T",
          "Cutter T",
          null,
          "Cutter T",
          "Cutter T",
          "Cutter T",
          "Cutter T",
          null,
          "Cutter T",
          "Cutter T",
          "Cutter T",
          "Cutter T",
          null,
          "Cutter T",
          "Cutter T",
          "Cutter T",
          "Cutter T",
          null,
          "Cutter T",
          "Cutter T",
          "Cutter T",
          "Cutter T",
          null,
          "Trench",
          "Trench",
          "Trench",
          "Trench",
          null,
          "Trench",
          "Trench",
          "Trench",
          "Trench",
          null,
          "Trench",
          "Trench",
          "Trench",
          "Trench",
          null,
          "Trench",
          "Trench",
          "Trench",
          "Trench",
          null,
          "Trench",
          "Trench",
          "Trench",
          "Trench",
          null,
          "Trench",
          "Trench",
          "Trench",
          "Trench",
          null
         ]
        },
        {
         "connectgaps": false,
         "hoverinfo": "y+name",
         "line": {
          "color": "rgb(1,61,28)",
          "width": 10
         },
         "mode": "lines",
         "name": "loading:Carrier C",
         "type": "scatter",
         "x": [
          "1970-01-01T00:37:27",
          "1970-01-01T00:37:27",
          "1970-01-01T01:10:47",
          "1970-01-01T01:10:47",
          "1970-01-01T01:10:47",
          "1970-01-01T03:07:27",
          "1970-01-01T03:07:27",
          "1970-01-01T03:40:47",
          "1970-01-01T03:40:47",
          "1970-01-01T03:40:47",
          "1970-01-01T06:00:20",
          "1970-01-01T06:00:20",
          "1970-01-01T06:33:40",
          "1970-01-01T06:33:40",
          "1970-01-01T06:33:40",
          "1970-01-01T08:53:13",
          "1970-01-01T08:53:13",
          "1970-01-01T09:26:33",
          "1970-01-01T09:26:33",
          "1970-01-01T09:26:33",
          "1970-01-01T11:46:06",
          "1970-01-01T11:46:06",
          "1970-01-01T12:19:26",
          "1970-01-01T12:19:26",
          "1970-01-01T12:19:26",
          "1970-01-01T14:38:59",
          "1970-01-01T14:38:59",
          "1970-01-01T15:12:19",
          "1970-01-01T15:12:19",
          "1970-01-01T15:12:19",
          "1970-01-01T00:37:27",
          "1970-01-01T00:37:27",
          "1970-01-01T01:10:47",
          "1970-01-01T01:10:47",
          "1970-01-01T01:10:47",
          "1970-01-01T03:07:27",
          "1970-01-01T03:07:27",
          "1970-01-01T03:40:47",
          "1970-01-01T03:40:47",
          "1970-01-01T03:40:47",
          "1970-01-01T06:00:20",
          "1970-01-01T06:00:20",
          "1970-01-01T06:33:40",
          "1970-01-01T06:33:40",
          "1970-01-01T06:33:40",
          "1970-01-01T08:53:13",
          "1970-01-01T08:53:13",
          "1970-01-01T09:26:33",
          "1970-01-01T09:26:33",
          "1970-01-01T09:26:33",
          "1970-01-01T11:46:06",
          "1970-01-01T11:46:06",
          "1970-01-01T12:19:26",
          "1970-01-01T12:19:26",
          "1970-01-01T12:19:26",
          "1970-01-01T14:38:59",
          "1970-01-01T14:38:59",
          "1970-01-01T15:12:19",
          "1970-01-01T15:12:19",
          "1970-01-01T15:12:19",
          "1970-01-01T00:37:27",
          "1970-01-01T00:37:27",
          "1970-01-01T01:10:47",
          "1970-01-01T01:10:47",
          "1970-01-01T01:10:47",
          "1970-01-01T03:07:27",
          "1970-01-01T03:07:27",
          "1970-01-01T03:40:47",
          "1970-01-01T03:40:47",
          "1970-01-01T03:40:47",
          "1970-01-01T06:00:20",
          "1970-01-01T06:00:20",
          "1970-01-01T06:33:40",
          "1970-01-01T06:33:40",
          "1970-01-01T06:33:40",
          "1970-01-01T08:53:13",
          "1970-01-01T08:53:13",
          "1970-01-01T09:26:33",
          "1970-01-01T09:26:33",
          "1970-01-01T09:26:33",
          "1970-01-01T11:46:06",
          "1970-01-01T11:46:06",
          "1970-01-01T12:19:26",
          "1970-01-01T12:19:26",
          "1970-01-01T12:19:26",
          "1970-01-01T14:38:59",
          "1970-01-01T14:38:59",
          "1970-01-01T15:12:19",
          "1970-01-01T15:12:19",
          "1970-01-01T15:12:19"
         ],
         "y": [
          "Carrier C",
          "Carrier C",
          "Carrier C",
          "Carrier C",
          null,
          "Carrier C",
          "Carrier C",
          "Carrier C",
          "Carrier C",
          null,
          "Carrier C",
          "Carrier C",
          "Carrier C",
          "Carrier C",
          null,
          "Carrier C",
          "Carrier C",
          "Carrier C",
          "Carrier C",
          null,
          "Carrier C",
          "Carrier C",
          "Carrier C",
          "Carrier C",
          null,
          "Carrier C",
          "Carrier C",
          "Carrier C",
          "Carrier C",
          null,
          "Cutter T",
          "Cutter T",
          "Cutter T",
          "Cutter T",
          null,
          "Cutter T",
          "Cutter T",
          "Cutter T",
          "Cutter T",
          null,
          "Cutter T",
          "Cutter T",
          "Cutter T",
          "Cutter T",
          null,
          "Cutter T",
          "Cutter T",
          "Cutter T",
          "Cutter T",
          null,
          "Cutter T",
          "Cutter T",
          "Cutter T",
          "Cutter T",
          null,
          "Cutter T",
          "Cutter T",
          "Cutter T",
          "Cutter T",
          null,
          "Trench",
          "Trench",
          "Trench",
          "Trench",
          null,
          "Trench",
          "Trench",
          "Trench",
          "Trench",
          null,
          "Trench",
          "Trench",
          "Trench",
          "Trench",
          null,
          "Trench",
          "Trench",
          "Trench",
          "Trench",
          null,
          "Trench",
          "Trench",
          "Trench",
          "Trench",
          null,
          "Trench",
          "Trench",
          "Trench",
          "Trench",
          null
         ]
        },
        {
         "connectgaps": false,
         "hoverinfo": "y+name",
         "line": {
          "color": "rgb(10,70,37)",
          "width": 10
         },
         "mode": "lines",
         "name": "loading:Carrier B",
         "type": "scatter",
         "x": [
          "1970-01-01T01:52:27",
          "1970-01-01T01:52:27",
          "1970-01-01T02:34:07",
          "1970-01-01T02:34:07",
          "1970-01-01T02:34:07",
          "1970-01-01T04:37:31",
          "1970-01-01T04:37:31",
          "1970-01-01T05:19:11",
          "1970-01-01T05:19:11",
          "1970-01-01T05:19:11",
          "1970-01-01T07:22:35",
          "1970-01-01T07:22:35",
          "1970-01-01T08:04:15",
          "1970-01-01T08:04:15",
          "1970-01-01T08:04:15",
          "1970-01-01T10:08:13",
          "1970-01-01T10:08:13",
          "1970-01-01T10:49:53",
          "1970-01-01T10:49:53",
          "1970-01-01T10:49:53",
          "1970-01-01T13:01:06",
          "1970-01-01T13:01:06",
          "1970-01-01T13:42:46",
          "1970-01-01T13:42:46",
          "1970-01-01T13:42:46",
          "1970-01-01T15:53:59",
          "1970-01-01T15:53:59",
          "1970-01-01T16:35:39",
          "1970-01-01T16:35:39",
          "1970-01-01T16:35:39",
          "1970-01-01T01:52:27",
          "1970-01-01T01:52:27",
          "1970-01-01T02:34:07",
          "1970-01-01T02:34:07",
          "1970-01-01T02:34:07",
          "1970-01-01T04:37:31",
          "1970-01-01T04:37:31",
          "1970-01-01T05:19:11",
          "1970-01-01T05:19:11",
          "1970-01-01T05:19:11",
          "1970-01-01T07:22:35",
          "1970-01-01T07:22:35",
          "1970-01-01T08:04:15",
          "1970-01-01T08:04:15",
          "1970-01-01T08:04:15",
          "1970-01-01T10:08:13",
          "1970-01-01T10:08:13",
          "1970-01-01T10:49:53",
          "1970-01-01T10:49:53",
          "1970-01-01T10:49:53",
          "1970-01-01T13:01:06",
          "1970-01-01T13:01:06",
          "1970-01-01T13:42:46",
          "1970-01-01T13:42:46",
          "1970-01-01T13:42:46",
          "1970-01-01T15:53:59",
          "1970-01-01T15:53:59",
          "1970-01-01T16:35:39",
          "1970-01-01T16:35:39",
          "1970-01-01T16:35:39",
          "1970-01-01T01:52:27",
          "1970-01-01T01:52:27",
          "1970-01-01T02:34:07",
          "1970-01-01T02:34:07",
          "1970-01-01T02:34:07",
          "1970-01-01T04:37:31",
          "1970-01-01T04:37:31",
          "1970-01-01T05:19:11",
          "1970-01-01T05:19:11",
          "1970-01-01T05:19:11",
          "1970-01-01T07:22:35",
          "1970-01-01T07:22:35",
          "1970-01-01T08:04:15",
          "1970-01-01T08:04:15",
          "1970-01-01T08:04:15",
          "1970-01-01T10:08:13",
          "1970-01-01T10:08:13",
          "1970-01-01T10:49:53",
          "1970-01-01T10:49:53",
          "1970-01-01T10:49:53",
          "1970-01-01T13:01:06",
          "1970-01-01T13:01:06",
          "1970-01-01T13:42:46",
          "1970-01-01T13:42:46",
          "1970-01-01T13:42:46",
          "1970-01-01T15:53:59",
          "1970-01-01T15:53:59",
          "1970-01-01T16:35:39",
          "1970-01-01T16:35:39",
          "1970-01-01T16:35:39"
         ],
         "y": [
          "Carrier B",
          "Carrier B",
          "Carrier B",
          "Carrier B",
          null,
          "Carrier B",
          "Carrier B",
          "Carrier B",
          "Carrier B",
          null,
          "Carrier B",
          "Carrier B",
          "Carrier B",
          "Carrier B",
          null,
          "Carrier B",
          "Carrier B",
          "Carrier B",
          "Carrier B",
          null,
          "Carrier B",
          "Carrier B",
          "Carrier B",
          "Carrier B",
          null,
          "Carrier B",
          "Carrier B",
          "Carrier B",
          "Carrier B",
          null,
          "Cutter T",
          "Cutter T",
          "Cutter T",
          "Cutter T",
          null,
          "Cutter T",
          "Cutter T",
          "Cutter T",
          "Cutter T",
          null,
          "Cutter T",
          "Cutter T",
          "Cutter T",
          "Cutter T",
          null,
          "Cutter T",
          "Cutter T",
          "Cutter T",
          "Cutter T",
          null,
          "Cutter T",
          "Cutter T",
          "Cutter T",
          "Cutter T",
          null,
          "Cutter T",
          "Cutter T",
          "Cutter T",
          "Cutter T",
          null,
          "Trench",
          "Trench",
          "Trench",
          "Trench",
          null,
          "Trench",
          "Trench",
          "Trench",
          "Trench",
          null,
          "Trench",
          "Trench",
          "Trench",
          "Trench",
          null,
          "Trench",
          "Trench",
          "Trench",
          "Trench",
          null,
          "Trench",
          "Trench",
          "Trench",
          "Trench",
          null,
          "Trench",
          "Trench",
          "Trench",
          "Trench",
          null
         ]
        },
        {
         "connectgaps": false,
         "hoverinfo": "y+name",
         "line": {
          "color": "rgb(19,79,46)",
          "width": 10
         },
         "mode": "lines",
         "name": "loading:Carrier A",
         "type": "scatter",
         "x": [
          "1970-01-01T02:34:07",
          "1970-01-01T02:34:07",
          "1970-01-01T03:07:27",
          "1970-01-01T03:07:27",
          "1970-01-01T03:07:27",
          "1970-01-01T05:27:00",
          "1970-01-01T05:27:00",
          "1970-01-01T06:00:20",
          "1970-01-01T06:00:20",
          "1970-01-01T06:00:20",
          "1970-01-01T08:19:53",
          "1970-01-01T08:19:53",
          "1970-01-01T08:53:13",
          "1970-01-01T08:53:13",
          "1970-01-01T08:53:13",
          "1970-01-01T11:12:46",
          "1970-01-01T11:12:46",
          "1970-01-01T11:46:06",
          "1970-01-01T11:46:06",
          "1970-01-01T11:46:06",
          "1970-01-01T14:05:39",
          "1970-01-01T14:05:39",
          "1970-01-01T14:38:59",
          "1970-01-01T14:38:59",
          "1970-01-01T14:38:59",
          "1970-01-01T02:34:07",
          "1970-01-01T02:34:07",
          "1970-01-01T03:07:27",
          "1970-01-01T03:07:27",
          "1970-01-01T03:07:27",
          "1970-01-01T05:27:00",
          "1970-01-01T05:27:00",
          "1970-01-01T06:00:20",
          "1970-01-01T06:00:20",
          "1970-01-01T06:00:20",
          "1970-01-01T08:19:53",
          "1970-01-01T08:19:53",
          "1970-01-01T08:53:13",
          "1970-01-01T08:53:13",
          "1970-01-01T08:53:13",
          "1970-01-01T11:12:46",
          "1970-01-01T11:12:46",
          "1970-01-01T11:46:06",
          "1970-01-01T11:46:06",
          "1970-01-01T11:46:06",
          "1970-01-01T14:05:39",
          "1970-01-01T14:05:39",
          "1970-01-01T14:38:59",
          "1970-01-01T14:38:59",
          "1970-01-01T14:38:59",
          "1970-01-01T02:34:07",
          "1970-01-01T02:34:07",
          "1970-01-01T03:07:27",
          "1970-01-01T03:07:27",
          "1970-01-01T03:07:27",
          "1970-01-01T05:27:00",
          "1970-01-01T05:27:00",
          "1970-01-01T06:00:20",
          "1970-01-01T06:00:20",
          "1970-01-01T06:00:20",
          "1970-01-01T08:19:53",
          "1970-01-01T08:19:53",
          "1970-01-01T08:53:13",
          "1970-01-01T08:53:13",
          "1970-01-01T08:53:13",
          "1970-01-01T11:12:46",
          "1970-01-01T11:12:46",
          "1970-01-01T11:46:06",
          "1970-01-01T11:46:06",
          "1970-01-01T11:46:06",
          "1970-01-01T14:05:39",
          "1970-01-01T14:05:39",
          "1970-01-01T14:38:59",
          "1970-01-01T14:38:59",
          "1970-01-01T14:38:59"
         ],
         "y": [
          "Carrier A",
          "Carrier A",
          "Carrier A",
          "Carrier A",
          null,
          "Carrier A",
          "Carrier A",
          "Carrier A",
          "Carrier A",
          null,
          "Carrier A",
          "Carrier A",
          "Carrier A",
          "Carrier A",
          null,
          "Carrier A",
          "Carrier A",
          "Carrier A",
          "Carrier A",
          null,
          "Carrier A",
          "Carrier A",
          "Carrier A",
          "Carrier A",
          null,
          "Cutter T",
          "Cutter T",
          "Cutter T",
          "Cutter T",
          null,
          "Cutter T",
          "Cutter T",
          "Cutter T",
          "Cutter T",
          null,
          "Cutter T",
          "Cutter T",
          "Cutter T",
          "Cutter T",
          null,
          "Cutter T",
          "Cutter T",
          "Cutter T",
          "Cutter T",
          null,
          "Cutter T",
          "Cutter T",
          "Cutter T",
          "Cutter T",
          null,
          "Trench",
          "Trench",
          "Trench",
          "Trench",
          null,
          "Trench",
          "Trench",
          "Trench",
          "Trench",
          null,
          "Trench",
          "Trench",
          "Trench",
          "Trench",
          null,
          "Trench",
          "Trench",
          "Trench",
          "Trench",
          null,
          "Trench",
          "Trench",
          "Trench",
          "Trench",
          null
         ]
        },
        {
         "connectgaps": false,
         "hoverinfo": "y+name",
         "line": {
          "color": "rgb(28,88,55)",
          "width": 10
         },
         "mode": "lines",
         "name": "loading:Barge I",
         "type": "scatter",
         "x": [
          "1970-01-01T01:10:47",
          "1970-01-01T01:10:47",
          "1970-01-01T01:52:27",
          "1970-01-01T01:52:27",
          "1970-01-01T01:52:27",
          "1970-01-01T03:52:45",
          "1970-01-01T03:52:45",
          "1970-01-01T04:34:25",
          "1970-01-01T04:34:25",
          "1970-01-01T04:34:25",
          "1970-01-01T06:34:43",
          "1970-01-01T06:34:43",
          "1970-01-01T07:16:23",
          "1970-01-01T07:16:23",
          "1970-01-01T07:16:23",
          "1970-01-01T09:26:33",
          "1970-01-01T09:26:33",
          "1970-01-01T10:08:13",
          "1970-01-01T10:08:13",
          "1970-01-01T10:08:13",
          "1970-01-01T12:19:26",
          "1970-01-01T12:19:26",
          "1970-01-01T13:01:06",
          "1970-01-01T13:01:06",
          "1970-01-01T13:01:06",
          "1970-01-01T15:12:19",
          "1970-01-01T15:12:19",
          "1970-01-01T15:53:59",
          "1970-01-01T15:53:59",
          "1970-01-01T15:53:59",
          "1970-01-01T01:10:47",
          "1970-01-01T01:10:47",
          "1970-01-01T01:52:27",
          "1970-01-01T01:52:27",
          "1970-01-01T01:52:27",
          "1970-01-01T03:52:45",
          "1970-01-01T03:52:45",
          "1970-01-01T04:34:25",
          "1970-01-01T04:34:25",
          "1970-01-01T04:34:25",
          "1970-01-01T06:34:43",
          "1970-01-01T06:34:43",
          "1970-01-01T07:16:23",
          "1970-01-01T07:16:23",
          "1970-01-01T07:16:23",
          "1970-01-01T09:26:33",
          "1970-01-01T09:26:33",
          "1970-01-01T10:08:13",
          "1970-01-01T10:08:13",
          "1970-01-01T10:08:13",
          "1970-01-01T12:19:26",
          "1970-01-01T12:19:26",
          "1970-01-01T13:01:06",
          "1970-01-01T13:01:06",
          "1970-01-01T13:01:06",
          "1970-01-01T15:12:19",
          "1970-01-01T15:12:19",
          "1970-01-01T15:53:59",
          "1970-01-01T15:53:59",
          "1970-01-01T15:53:59",
          "1970-01-01T01:10:47",
          "1970-01-01T01:10:47",
          "1970-01-01T01:52:27",
          "1970-01-01T01:52:27",
          "1970-01-01T01:52:27",
          "1970-01-01T03:52:45",
          "1970-01-01T03:52:45",
          "1970-01-01T04:34:25",
          "1970-01-01T04:34:25",
          "1970-01-01T04:34:25",
          "1970-01-01T06:34:43",
          "1970-01-01T06:34:43",
          "1970-01-01T07:16:23",
          "1970-01-01T07:16:23",
          "1970-01-01T07:16:23",
          "1970-01-01T09:26:33",
          "1970-01-01T09:26:33",
          "1970-01-01T10:08:13",
          "1970-01-01T10:08:13",
          "1970-01-01T10:08:13",
          "1970-01-01T12:19:26",
          "1970-01-01T12:19:26",
          "1970-01-01T13:01:06",
          "1970-01-01T13:01:06",
          "1970-01-01T13:01:06",
          "1970-01-01T15:12:19",
          "1970-01-01T15:12:19",
          "1970-01-01T15:53:59",
          "1970-01-01T15:53:59",
          "1970-01-01T15:53:59"
         ],
         "y": [
          "Barge I",
          "Barge I",
          "Barge I",
          "Barge I",
          null,
          "Barge I",
          "Barge I",
          "Barge I",
          "Barge I",
          null,
          "Barge I",
          "Barge I",
          "Barge I",
          "Barge I",
          null,
          "Barge I",
          "Barge I",
          "Barge I",
          "Barge I",
          null,
          "Barge I",
          "Barge I",
          "Barge I",
          "Barge I",
          null,
          "Barge I",
          "Barge I",
          "Barge I",
          "Barge I",
          null,
          "Cutter T",
          "Cutter T",
          "Cutter T",
          "Cutter T",
          null,
          "Cutter T",
          "Cutter T",
          "Cutter T",
          "Cutter T",
          null,
          "Cutter T",
          "Cutter T",
          "Cutter T",
          "Cutter T",
          null,
          "Cutter T",
          "Cutter T",
          "Cutter T",
          "Cutter T",
          null,
          "Cutter T",
          "Cutter T",
          "Cutter T",
          "Cutter T",
          null,
          "Cutter T",
          "Cutter T",
          "Cutter T",
          "Cutter T",
          null,
          "Trench",
          "Trench",
          "Trench",
          "Trench",
          null,
          "Trench",
          "Trench",
          "Trench",
          "Trench",
          null,
          "Trench",
          "Trench",
          "Trench",
          "Trench",
          null,
          "Trench",
          "Trench",
          "Trench",
          "Trench",
          null,
          "Trench",
          "Trench",
          "Trench",
          "Trench",
          null,
          "Trench",
          "Trench",
          "Trench",
          "Trench",
          null
         ]
        },
        {
         "connectgaps": false,
         "hoverinfo": "y+name",
         "line": {
          "color": "rgb(37,97,64)",
          "width": 10
         },
         "mode": "lines",
         "name": "unloading:Barge I",
         "type": "scatter",
         "x": [
          "1970-01-01T02:32:33",
          "1970-01-01T02:32:33",
          "1970-01-01T03:12:39",
          "1970-01-01T03:12:39",
          "1970-01-01T03:12:39",
          "1970-01-01T05:14:31",
          "1970-01-01T05:14:31",
          "1970-01-01T05:54:37",
          "1970-01-01T05:54:37",
          "1970-01-01T05:54:37",
          "1970-01-01T07:56:29",
          "1970-01-01T07:56:29",
          "1970-01-01T08:36:35",
          "1970-01-01T08:36:35",
          "1970-01-01T08:36:35",
          "1970-01-01T10:48:19",
          "1970-01-01T10:48:19",
          "1970-01-01T11:28:25",
          "1970-01-01T11:28:25",
          "1970-01-01T11:28:25",
          "1970-01-01T13:41:12",
          "1970-01-01T13:41:12",
          "1970-01-01T14:21:18",
          "1970-01-01T14:21:18",
          "1970-01-01T14:21:18",
          "1970-01-01T16:34:05",
          "1970-01-01T16:34:05",
          "1970-01-01T17:14:11",
          "1970-01-01T17:14:11",
          "1970-01-01T17:14:11",
          "1970-01-01T02:32:33",
          "1970-01-01T02:32:33",
          "1970-01-01T03:12:39",
          "1970-01-01T03:12:39",
          "1970-01-01T03:12:39",
          "1970-01-01T05:14:31",
          "1970-01-01T05:14:31",
          "1970-01-01T05:54:37",
          "1970-01-01T05:54:37",
          "1970-01-01T05:54:37",
          "1970-01-01T07:56:29",
          "1970-01-01T07:56:29",
          "1970-01-01T08:36:35",
          "1970-01-01T08:36:35",
          "1970-01-01T08:36:35",
          "1970-01-01T10:48:19",
          "1970-01-01T10:48:19",
          "1970-01-01T11:28:25",
          "1970-01-01T11:28:25",
          "1970-01-01T11:28:25",
          "1970-01-01T13:41:12",
          "1970-01-01T13:41:12",
          "1970-01-01T14:21:18",
          "1970-01-01T14:21:18",
          "1970-01-01T14:21:18",
          "1970-01-01T16:34:05",
          "1970-01-01T16:34:05",
          "1970-01-01T17:14:11",
          "1970-01-01T17:14:11",
          "1970-01-01T17:14:11"
         ],
         "y": [
          "Barge I",
          "Barge I",
          "Barge I",
          "Barge I",
          null,
          "Barge I",
          "Barge I",
          "Barge I",
          "Barge I",
          null,
          "Barge I",
          "Barge I",
          "Barge I",
          "Barge I",
          null,
          "Barge I",
          "Barge I",
          "Barge I",
          "Barge I",
          null,
          "Barge I",
          "Barge I",
          "Barge I",
          "Barge I",
          null,
          "Barge I",
          "Barge I",
          "Barge I",
          "Barge I",
          null,
          "Reclamation",
          "Reclamation",
          "Reclamation",
          "Reclamation",
          null,
          "Reclamation",
          "Reclamation",
          "Reclamation",
          "Reclamation",
          null,
          "Reclamation",
          "Reclamation",
          "Reclamation",
          "Reclamation",
          null,
          "Reclamation",
          "Reclamation",
          "Reclamation",
          "Reclamation",
          null,
          "Reclamation",
          "Reclamation",
          "Reclamation",
          "Reclamation",
          null,
          "Reclamation",
          "Reclamation",
          "Reclamation",
          "Reclamation",
          null
         ]
        },
        {
         "connectgaps": false,
         "hoverinfo": "y+name",
         "line": {
          "color": "rgb(46,106,73)",
          "width": 10
         },
         "mode": "lines",
         "name": "unloading:Carrier A",
         "type": "scatter",
         "x": [
          "1970-01-01T03:53:58",
          "1970-01-01T03:53:58",
          "1970-01-01T04:40:29",
          "1970-01-01T04:40:29",
          "1970-01-01T04:40:29",
          "1970-01-01T06:46:51",
          "1970-01-01T06:46:51",
          "1970-01-01T07:33:22",
          "1970-01-01T07:33:22",
          "1970-01-01T07:33:22",
          "1970-01-01T09:39:44",
          "1970-01-01T09:39:44",
          "1970-01-01T10:26:15",
          "1970-01-01T10:26:15",
          "1970-01-01T10:26:15",
          "1970-01-01T12:32:37",
          "1970-01-01T12:32:37",
          "1970-01-01T13:19:08",
          "1970-01-01T13:19:08",
          "1970-01-01T13:19:08",
          "1970-01-01T15:25:30",
          "1970-01-01T15:25:30",
          "1970-01-01T16:12:01",
          "1970-01-01T16:12:01",
          "1970-01-01T16:12:01",
          "1970-01-01T03:53:58",
          "1970-01-01T03:53:58",
          "1970-01-01T04:40:29",
          "1970-01-01T04:40:29",
          "1970-01-01T04:40:29",
          "1970-01-01T06:46:51",
          "1970-01-01T06:46:51",
          "1970-01-01T07:33:22",
          "1970-01-01T07:33:22",
          "1970-01-01T07:33:22",
          "1970-01-01T09:39:44",
          "1970-01-01T09:39:44",
          "1970-01-01T10:26:15",
          "1970-01-01T10:26:15",
          "1970-01-01T10:26:15",
          "1970-01-01T12:32:37",
          "1970-01-01T12:32:37",
          "1970-01-01T13:19:08",
          "1970-01-01T13:19:08",
          "1970-01-01T13:19:08",
          "1970-01-01T15:25:30",
          "1970-01-01T15:25:30",
          "1970-01-01T16:12:01",
          "1970-01-01T16:12:01",
          "1970-01-01T16:12:01"
         ],
         "y": [
          "Carrier A",
          "Carrier A",
          "Carrier A",
          "Carrier A",
          null,
          "Carrier A",
          "Carrier A",
          "Carrier A",
          "Carrier A",
          null,
          "Carrier A",
          "Carrier A",
          "Carrier A",
          "Carrier A",
          null,
          "Carrier A",
          "Carrier A",
          "Carrier A",
          "Carrier A",
          null,
          "Carrier A",
          "Carrier A",
          "Carrier A",
          "Carrier A",
          null,
          "Reclamation",
          "Reclamation",
          "Reclamation",
          "Reclamation",
          null,
          "Reclamation",
          "Reclamation",
          "Reclamation",
          "Reclamation",
          null,
          "Reclamation",
          "Reclamation",
          "Reclamation",
          "Reclamation",
          null,
          "Reclamation",
          "Reclamation",
          "Reclamation",
          "Reclamation",
          null,
          "Reclamation",
          "Reclamation",
          "Reclamation",
          "Reclamation",
          null
         ]
        },
        {
         "connectgaps": false,
         "hoverinfo": "y+name",
         "line": {
          "color": "rgb(55,115,82)",
          "width": 10
         },
         "mode": "lines",
         "name": "unloading:Carrier C",
         "type": "scatter",
         "x": [
          "1970-01-01T01:48:14",
          "1970-01-01T01:48:14",
          "1970-01-01T02:25:41",
          "1970-01-01T02:25:41",
          "1970-01-01T02:25:41",
          "1970-01-01T04:18:14",
          "1970-01-01T04:18:14",
          "1970-01-01T04:55:41",
          "1970-01-01T04:55:41",
          "1970-01-01T04:55:41",
          "1970-01-01T07:11:07",
          "1970-01-01T07:11:07",
          "1970-01-01T07:48:34",
          "1970-01-01T07:48:34",
          "1970-01-01T07:48:34",
          "1970-01-01T10:04:00",
          "1970-01-01T10:04:00",
          "1970-01-01T10:41:27",
          "1970-01-01T10:41:27",
          "1970-01-01T10:41:27",
          "1970-01-01T12:56:53",
          "1970-01-01T12:56:53",
          "1970-01-01T13:34:20",
          "1970-01-01T13:34:20",
          "1970-01-01T13:34:20",
          "1970-01-01T15:49:46",
          "1970-01-01T15:49:46",
          "1970-01-01T16:27:13",
          "1970-01-01T16:27:13",
          "1970-01-01T16:27:13",
          "1970-01-01T01:48:14",
          "1970-01-01T01:48:14",
          "1970-01-01T02:25:41",
          "1970-01-01T02:25:41",
          "1970-01-01T02:25:41",
          "1970-01-01T04:18:14",
          "1970-01-01T04:18:14",
          "1970-01-01T04:55:41",
          "1970-01-01T04:55:41",
          "1970-01-01T04:55:41",
          "1970-01-01T07:11:07",
          "1970-01-01T07:11:07",
          "1970-01-01T07:48:34",
          "1970-01-01T07:48:34",
          "1970-01-01T07:48:34",
          "1970-01-01T10:04:00",
          "1970-01-01T10:04:00",
          "1970-01-01T10:41:27",
          "1970-01-01T10:41:27",
          "1970-01-01T10:41:27",
          "1970-01-01T12:56:53",
          "1970-01-01T12:56:53",
          "1970-01-01T13:34:20",
          "1970-01-01T13:34:20",
          "1970-01-01T13:34:20",
          "1970-01-01T15:49:46",
          "1970-01-01T15:49:46",
          "1970-01-01T16:27:13",
          "1970-01-01T16:27:13",
          "1970-01-01T16:27:13"
         ],
         "y": [
          "Carrier C",
          "Carrier C",
          "Carrier C",
          "Carrier C",
          null,
          "Carrier C",
          "Carrier C",
          "Carrier C",
          "Carrier C",
          null,
          "Carrier C",
          "Carrier C",
          "Carrier C",
          "Carrier C",
          null,
          "Carrier C",
          "Carrier C",
          "Carrier C",
          "Carrier C",
          null,
          "Carrier C",
          "Carrier C",
          "Carrier C",
          "Carrier C",
          null,
          "Carrier C",
          "Carrier C",
          "Carrier C",
          "Carrier C",
          null,
          "Reclamation",
          "Reclamation",
          "Reclamation",
          "Reclamation",
          null,
          "Reclamation",
          "Reclamation",
          "Reclamation",
          "Reclamation",
          null,
          "Reclamation",
          "Reclamation",
          "Reclamation",
          "Reclamation",
          null,
          "Reclamation",
          "Reclamation",
          "Reclamation",
          "Reclamation",
          null,
          "Reclamation",
          "Reclamation",
          "Reclamation",
          "Reclamation",
          null,
          "Reclamation",
          "Reclamation",
          "Reclamation",
          "Reclamation",
          null
         ]
        },
        {
         "connectgaps": false,
         "hoverinfo": "y+name",
         "line": {
          "color": "rgb(64,124,91)",
          "width": 10
         },
         "mode": "lines",
         "name": "unloading:Carrier B",
         "type": "scatter",
         "x": [
          "1970-01-01T03:15:15",
          "1970-01-01T03:15:15",
          "1970-01-01T03:56:23",
          "1970-01-01T03:56:23",
          "1970-01-01T03:56:23",
          "1970-01-01T06:00:19",
          "1970-01-01T06:00:19",
          "1970-01-01T06:41:27",
          "1970-01-01T06:41:27",
          "1970-01-01T06:41:27",
          "1970-01-01T08:45:23",
          "1970-01-01T08:45:23",
          "1970-01-01T09:26:31",
          "1970-01-01T09:26:31",
          "1970-01-01T09:26:31",
          "1970-01-01T11:31:01",
          "1970-01-01T11:31:01",
          "1970-01-01T12:12:09",
          "1970-01-01T12:12:09",
          "1970-01-01T12:12:09",
          "1970-01-01T14:23:54",
          "1970-01-01T14:23:54",
          "1970-01-01T15:05:02",
          "1970-01-01T15:05:02",
          "1970-01-01T15:05:02",
          "1970-01-01T17:16:47",
          "1970-01-01T17:16:47",
          "1970-01-01T17:57:55",
          "1970-01-01T17:57:55",
          "1970-01-01T17:57:55",
          "1970-01-01T03:15:15",
          "1970-01-01T03:15:15",
          "1970-01-01T03:56:23",
          "1970-01-01T03:56:23",
          "1970-01-01T03:56:23",
          "1970-01-01T06:00:19",
          "1970-01-01T06:00:19",
          "1970-01-01T06:41:27",
          "1970-01-01T06:41:27",
          "1970-01-01T06:41:27",
          "1970-01-01T08:45:23",
          "1970-01-01T08:45:23",
          "1970-01-01T09:26:31",
          "1970-01-01T09:26:31",
          "1970-01-01T09:26:31",
          "1970-01-01T11:31:01",
          "1970-01-01T11:31:01",
          "1970-01-01T12:12:09",
          "1970-01-01T12:12:09",
          "1970-01-01T12:12:09",
          "1970-01-01T14:23:54",
          "1970-01-01T14:23:54",
          "1970-01-01T15:05:02",
          "1970-01-01T15:05:02",
          "1970-01-01T15:05:02",
          "1970-01-01T17:16:47",
          "1970-01-01T17:16:47",
          "1970-01-01T17:57:55",
          "1970-01-01T17:57:55",
          "1970-01-01T17:57:55"
         ],
         "y": [
          "Carrier B",
          "Carrier B",
          "Carrier B",
          "Carrier B",
          null,
          "Carrier B",
          "Carrier B",
          "Carrier B",
          "Carrier B",
          null,
          "Carrier B",
          "Carrier B",
          "Carrier B",
          "Carrier B",
          null,
          "Carrier B",
          "Carrier B",
          "Carrier B",
          "Carrier B",
          null,
          "Carrier B",
          "Carrier B",
          "Carrier B",
          "Carrier B",
          null,
          "Carrier B",
          "Carrier B",
          "Carrier B",
          "Carrier B",
          null,
          "Reclamation",
          "Reclamation",
          "Reclamation",
          "Reclamation",
          null,
          "Reclamation",
          "Reclamation",
          "Reclamation",
          "Reclamation",
          null,
          "Reclamation",
          "Reclamation",
          "Reclamation",
          "Reclamation",
          null,
          "Reclamation",
          "Reclamation",
          "Reclamation",
          "Reclamation",
          null,
          "Reclamation",
          "Reclamation",
          "Reclamation",
          "Reclamation",
          null,
          "Reclamation",
          "Reclamation",
          "Reclamation",
          "Reclamation",
          null
         ]
        }
       ],
       "layout": {
        "hovermode": "closest",
        "legend": {
         "orientation": "h",
         "x": 0,
         "y": -0.2
        },
        "showlegend": false,
        "template": {
         "data": {
          "bar": [
           {
            "error_x": {
             "color": "#2a3f5f"
            },
            "error_y": {
             "color": "#2a3f5f"
            },
            "marker": {
             "line": {
              "color": "#E5ECF6",
              "width": 0.5
             },
             "pattern": {
              "fillmode": "overlay",
              "size": 10,
              "solidity": 0.2
             }
            },
            "type": "bar"
           }
          ],
          "barpolar": [
           {
            "marker": {
             "line": {
              "color": "#E5ECF6",
              "width": 0.5
             },
             "pattern": {
              "fillmode": "overlay",
              "size": 10,
              "solidity": 0.2
             }
            },
            "type": "barpolar"
           }
          ],
          "carpet": [
           {
            "aaxis": {
             "endlinecolor": "#2a3f5f",
             "gridcolor": "white",
             "linecolor": "white",
             "minorgridcolor": "white",
             "startlinecolor": "#2a3f5f"
            },
            "baxis": {
             "endlinecolor": "#2a3f5f",
             "gridcolor": "white",
             "linecolor": "white",
             "minorgridcolor": "white",
             "startlinecolor": "#2a3f5f"
            },
            "type": "carpet"
           }
          ],
          "choropleth": [
           {
            "colorbar": {
             "outlinewidth": 0,
             "ticks": ""
            },
            "type": "choropleth"
           }
          ],
          "contour": [
           {
            "colorbar": {
             "outlinewidth": 0,
             "ticks": ""
            },
            "colorscale": [
             [
              0,
              "#0d0887"
             ],
             [
              0.1111111111111111,
              "#46039f"
             ],
             [
              0.2222222222222222,
              "#7201a8"
             ],
             [
              0.3333333333333333,
              "#9c179e"
             ],
             [
              0.4444444444444444,
              "#bd3786"
             ],
             [
              0.5555555555555556,
              "#d8576b"
             ],
             [
              0.6666666666666666,
              "#ed7953"
             ],
             [
              0.7777777777777778,
              "#fb9f3a"
             ],
             [
              0.8888888888888888,
              "#fdca26"
             ],
             [
              1,
              "#f0f921"
             ]
            ],
            "type": "contour"
           }
          ],
          "contourcarpet": [
           {
            "colorbar": {
             "outlinewidth": 0,
             "ticks": ""
            },
            "type": "contourcarpet"
           }
          ],
          "heatmap": [
           {
            "colorbar": {
             "outlinewidth": 0,
             "ticks": ""
            },
            "colorscale": [
             [
              0,
              "#0d0887"
             ],
             [
              0.1111111111111111,
              "#46039f"
             ],
             [
              0.2222222222222222,
              "#7201a8"
             ],
             [
              0.3333333333333333,
              "#9c179e"
             ],
             [
              0.4444444444444444,
              "#bd3786"
             ],
             [
              0.5555555555555556,
              "#d8576b"
             ],
             [
              0.6666666666666666,
              "#ed7953"
             ],
             [
              0.7777777777777778,
              "#fb9f3a"
             ],
             [
              0.8888888888888888,
              "#fdca26"
             ],
             [
              1,
              "#f0f921"
             ]
            ],
            "type": "heatmap"
           }
          ],
          "heatmapgl": [
           {
            "colorbar": {
             "outlinewidth": 0,
             "ticks": ""
            },
            "colorscale": [
             [
              0,
              "#0d0887"
             ],
             [
              0.1111111111111111,
              "#46039f"
             ],
             [
              0.2222222222222222,
              "#7201a8"
             ],
             [
              0.3333333333333333,
              "#9c179e"
             ],
             [
              0.4444444444444444,
              "#bd3786"
             ],
             [
              0.5555555555555556,
              "#d8576b"
             ],
             [
              0.6666666666666666,
              "#ed7953"
             ],
             [
              0.7777777777777778,
              "#fb9f3a"
             ],
             [
              0.8888888888888888,
              "#fdca26"
             ],
             [
              1,
              "#f0f921"
             ]
            ],
            "type": "heatmapgl"
           }
          ],
          "histogram": [
           {
            "marker": {
             "pattern": {
              "fillmode": "overlay",
              "size": 10,
              "solidity": 0.2
             }
            },
            "type": "histogram"
           }
          ],
          "histogram2d": [
           {
            "colorbar": {
             "outlinewidth": 0,
             "ticks": ""
            },
            "colorscale": [
             [
              0,
              "#0d0887"
             ],
             [
              0.1111111111111111,
              "#46039f"
             ],
             [
              0.2222222222222222,
              "#7201a8"
             ],
             [
              0.3333333333333333,
              "#9c179e"
             ],
             [
              0.4444444444444444,
              "#bd3786"
             ],
             [
              0.5555555555555556,
              "#d8576b"
             ],
             [
              0.6666666666666666,
              "#ed7953"
             ],
             [
              0.7777777777777778,
              "#fb9f3a"
             ],
             [
              0.8888888888888888,
              "#fdca26"
             ],
             [
              1,
              "#f0f921"
             ]
            ],
            "type": "histogram2d"
           }
          ],
          "histogram2dcontour": [
           {
            "colorbar": {
             "outlinewidth": 0,
             "ticks": ""
            },
            "colorscale": [
             [
              0,
              "#0d0887"
             ],
             [
              0.1111111111111111,
              "#46039f"
             ],
             [
              0.2222222222222222,
              "#7201a8"
             ],
             [
              0.3333333333333333,
              "#9c179e"
             ],
             [
              0.4444444444444444,
              "#bd3786"
             ],
             [
              0.5555555555555556,
              "#d8576b"
             ],
             [
              0.6666666666666666,
              "#ed7953"
             ],
             [
              0.7777777777777778,
              "#fb9f3a"
             ],
             [
              0.8888888888888888,
              "#fdca26"
             ],
             [
              1,
              "#f0f921"
             ]
            ],
            "type": "histogram2dcontour"
           }
          ],
          "mesh3d": [
           {
            "colorbar": {
             "outlinewidth": 0,
             "ticks": ""
            },
            "type": "mesh3d"
           }
          ],
          "parcoords": [
           {
            "line": {
             "colorbar": {
              "outlinewidth": 0,
              "ticks": ""
             }
            },
            "type": "parcoords"
           }
          ],
          "pie": [
           {
            "automargin": true,
            "type": "pie"
           }
          ],
          "scatter": [
           {
            "fillpattern": {
             "fillmode": "overlay",
             "size": 10,
             "solidity": 0.2
            },
            "type": "scatter"
           }
          ],
          "scatter3d": [
           {
            "line": {
             "colorbar": {
              "outlinewidth": 0,
              "ticks": ""
             }
            },
            "marker": {
             "colorbar": {
              "outlinewidth": 0,
              "ticks": ""
             }
            },
            "type": "scatter3d"
           }
          ],
          "scattercarpet": [
           {
            "marker": {
             "colorbar": {
              "outlinewidth": 0,
              "ticks": ""
             }
            },
            "type": "scattercarpet"
           }
          ],
          "scattergeo": [
           {
            "marker": {
             "colorbar": {
              "outlinewidth": 0,
              "ticks": ""
             }
            },
            "type": "scattergeo"
           }
          ],
          "scattergl": [
           {
            "marker": {
             "colorbar": {
              "outlinewidth": 0,
              "ticks": ""
             }
            },
            "type": "scattergl"
           }
          ],
          "scattermapbox": [
           {
            "marker": {
             "colorbar": {
              "outlinewidth": 0,
              "ticks": ""
             }
            },
            "type": "scattermapbox"
           }
          ],
          "scatterpolar": [
           {
            "marker": {
             "colorbar": {
              "outlinewidth": 0,
              "ticks": ""
             }
            },
            "type": "scatterpolar"
           }
          ],
          "scatterpolargl": [
           {
            "marker": {
             "colorbar": {
              "outlinewidth": 0,
              "ticks": ""
             }
            },
            "type": "scatterpolargl"
           }
          ],
          "scatterternary": [
           {
            "marker": {
             "colorbar": {
              "outlinewidth": 0,
              "ticks": ""
             }
            },
            "type": "scatterternary"
           }
          ],
          "surface": [
           {
            "colorbar": {
             "outlinewidth": 0,
             "ticks": ""
            },
            "colorscale": [
             [
              0,
              "#0d0887"
             ],
             [
              0.1111111111111111,
              "#46039f"
             ],
             [
              0.2222222222222222,
              "#7201a8"
             ],
             [
              0.3333333333333333,
              "#9c179e"
             ],
             [
              0.4444444444444444,
              "#bd3786"
             ],
             [
              0.5555555555555556,
              "#d8576b"
             ],
             [
              0.6666666666666666,
              "#ed7953"
             ],
             [
              0.7777777777777778,
              "#fb9f3a"
             ],
             [
              0.8888888888888888,
              "#fdca26"
             ],
             [
              1,
              "#f0f921"
             ]
            ],
            "type": "surface"
           }
          ],
          "table": [
           {
            "cells": {
             "fill": {
              "color": "#EBF0F8"
             },
             "line": {
              "color": "white"
             }
            },
            "header": {
             "fill": {
              "color": "#C8D4E3"
             },
             "line": {
              "color": "white"
             }
            },
            "type": "table"
           }
          ]
         },
         "layout": {
          "annotationdefaults": {
           "arrowcolor": "#2a3f5f",
           "arrowhead": 0,
           "arrowwidth": 1
          },
          "autotypenumbers": "strict",
          "coloraxis": {
           "colorbar": {
            "outlinewidth": 0,
            "ticks": ""
           }
          },
          "colorscale": {
           "diverging": [
            [
             0,
             "#8e0152"
            ],
            [
             0.1,
             "#c51b7d"
            ],
            [
             0.2,
             "#de77ae"
            ],
            [
             0.3,
             "#f1b6da"
            ],
            [
             0.4,
             "#fde0ef"
            ],
            [
             0.5,
             "#f7f7f7"
            ],
            [
             0.6,
             "#e6f5d0"
            ],
            [
             0.7,
             "#b8e186"
            ],
            [
             0.8,
             "#7fbc41"
            ],
            [
             0.9,
             "#4d9221"
            ],
            [
             1,
             "#276419"
            ]
           ],
           "sequential": [
            [
             0,
             "#0d0887"
            ],
            [
             0.1111111111111111,
             "#46039f"
            ],
            [
             0.2222222222222222,
             "#7201a8"
            ],
            [
             0.3333333333333333,
             "#9c179e"
            ],
            [
             0.4444444444444444,
             "#bd3786"
            ],
            [
             0.5555555555555556,
             "#d8576b"
            ],
            [
             0.6666666666666666,
             "#ed7953"
            ],
            [
             0.7777777777777778,
             "#fb9f3a"
            ],
            [
             0.8888888888888888,
             "#fdca26"
            ],
            [
             1,
             "#f0f921"
            ]
           ],
           "sequentialminus": [
            [
             0,
             "#0d0887"
            ],
            [
             0.1111111111111111,
             "#46039f"
            ],
            [
             0.2222222222222222,
             "#7201a8"
            ],
            [
             0.3333333333333333,
             "#9c179e"
            ],
            [
             0.4444444444444444,
             "#bd3786"
            ],
            [
             0.5555555555555556,
             "#d8576b"
            ],
            [
             0.6666666666666666,
             "#ed7953"
            ],
            [
             0.7777777777777778,
             "#fb9f3a"
            ],
            [
             0.8888888888888888,
             "#fdca26"
            ],
            [
             1,
             "#f0f921"
            ]
           ]
          },
          "colorway": [
           "#636efa",
           "#EF553B",
           "#00cc96",
           "#ab63fa",
           "#FFA15A",
           "#19d3f3",
           "#FF6692",
           "#B6E880",
           "#FF97FF",
           "#FECB52"
          ],
          "font": {
           "color": "#2a3f5f"
          },
          "geo": {
           "bgcolor": "white",
           "lakecolor": "white",
           "landcolor": "#E5ECF6",
           "showlakes": true,
           "showland": true,
           "subunitcolor": "white"
          },
          "hoverlabel": {
           "align": "left"
          },
          "hovermode": "closest",
          "mapbox": {
           "style": "light"
          },
          "paper_bgcolor": "white",
          "plot_bgcolor": "#E5ECF6",
          "polar": {
           "angularaxis": {
            "gridcolor": "white",
            "linecolor": "white",
            "ticks": ""
           },
           "bgcolor": "#E5ECF6",
           "radialaxis": {
            "gridcolor": "white",
            "linecolor": "white",
            "ticks": ""
           }
          },
          "scene": {
           "xaxis": {
            "backgroundcolor": "#E5ECF6",
            "gridcolor": "white",
            "gridwidth": 2,
            "linecolor": "white",
            "showbackground": true,
            "ticks": "",
            "zerolinecolor": "white"
           },
           "yaxis": {
            "backgroundcolor": "#E5ECF6",
            "gridcolor": "white",
            "gridwidth": 2,
            "linecolor": "white",
            "showbackground": true,
            "ticks": "",
            "zerolinecolor": "white"
           },
           "zaxis": {
            "backgroundcolor": "#E5ECF6",
            "gridcolor": "white",
            "gridwidth": 2,
            "linecolor": "white",
            "showbackground": true,
            "ticks": "",
            "zerolinecolor": "white"
           }
          },
          "shapedefaults": {
           "line": {
            "color": "#2a3f5f"
           }
          },
          "ternary": {
           "aaxis": {
            "gridcolor": "white",
            "linecolor": "white",
            "ticks": ""
           },
           "baxis": {
            "gridcolor": "white",
            "linecolor": "white",
            "ticks": ""
           },
           "bgcolor": "#E5ECF6",
           "caxis": {
            "gridcolor": "white",
            "linecolor": "white",
            "ticks": ""
           }
          },
          "title": {
           "x": 0.05
          },
          "xaxis": {
           "automargin": true,
           "gridcolor": "white",
           "linecolor": "white",
           "ticks": "",
           "title": {
            "standoff": 15
           },
           "zerolinecolor": "white",
           "zerolinewidth": 2
          },
          "yaxis": {
           "automargin": true,
           "gridcolor": "white",
           "linecolor": "white",
           "ticks": "",
           "title": {
            "standoff": 15
           },
           "zerolinecolor": "white",
           "zerolinewidth": 2
          }
         }
        },
        "title": {
         "text": "Cutter T occupancy: 90.4duration actual: 57492.0"
        },
        "xaxis": {
         "range": [
          "1970-01-01T00:00:00",
          "1970-01-01T17:57:55"
         ],
         "title": {
          "font": {
           "color": "#7f7f7f",
           "family": "Courier New, monospace",
           "size": 18
          },
          "text": "Time"
         }
        },
        "yaxis": {
         "title": {
          "font": {
           "color": "#7f7f7f",
           "family": "Courier New, monospace",
           "size": 18
          },
          "text": "vesels"
         }
        }
       }
      },
      "text/html": [
       "<div>                            <div id=\"7154f706-b969-4a45-a6f8-087385dd1d91\" class=\"plotly-graph-div\" style=\"height:525px; width:100%;\"></div>            <script type=\"text/javascript\">                require([\"plotly\"], function(Plotly) {                    window.PLOTLYENV=window.PLOTLYENV || {};                                    if (document.getElementById(\"7154f706-b969-4a45-a6f8-087385dd1d91\")) {                    Plotly.newPlot(                        \"7154f706-b969-4a45-a6f8-087385dd1d91\",                        [{\"connectgaps\":false,\"hoverinfo\":\"name\",\"line\":{\"color\":\"red\",\"width\":14},\"mode\":\"lines\",\"name\":\"critical_path\",\"x\":[\"1970-01-01T00:00:00\",\"1970-01-01T00:37:27\",\"1970-01-01T00:37:27\",\"1970-01-01T00:37:27\",\"1970-01-01T01:10:47\",\"1970-01-01T01:10:47\",\"1970-01-01T00:37:27\",\"1970-01-01T01:10:47\",\"1970-01-01T01:10:47\",\"1970-01-01T00:37:27\",\"1970-01-01T01:10:47\",\"1970-01-01T01:10:47\",\"1970-01-01T01:10:47\",\"1970-01-01T01:52:27\",\"1970-01-01T01:52:27\",\"1970-01-01T01:10:47\",\"1970-01-01T01:52:27\",\"1970-01-01T01:52:27\",\"1970-01-01T01:10:47\",\"1970-01-01T01:52:27\",\"1970-01-01T01:52:27\",\"1970-01-01T01:52:27\",\"1970-01-01T02:34:07\",\"1970-01-01T02:34:07\",\"1970-01-01T01:52:27\",\"1970-01-01T02:34:07\",\"1970-01-01T02:34:07\",\"1970-01-01T01:52:27\",\"1970-01-01T02:34:07\",\"1970-01-01T02:34:07\",\"1970-01-01T02:34:07\",\"1970-01-01T03:07:27\",\"1970-01-01T03:07:27\",\"1970-01-01T02:34:07\",\"1970-01-01T03:07:27\",\"1970-01-01T03:07:27\",\"1970-01-01T02:34:07\",\"1970-01-01T03:07:27\",\"1970-01-01T03:07:27\",\"1970-01-01T03:07:27\",\"1970-01-01T03:53:58\",\"1970-01-01T03:53:58\",\"1970-01-01T03:53:58\",\"1970-01-01T04:40:29\",\"1970-01-01T04:40:29\",\"1970-01-01T03:53:58\",\"1970-01-01T04:40:29\",\"1970-01-01T04:40:29\",\"1970-01-01T04:40:29\",\"1970-01-01T05:27:00\",\"1970-01-01T05:27:00\",\"1970-01-01T05:27:00\",\"1970-01-01T06:00:20\",\"1970-01-01T06:00:20\",\"1970-01-01T05:27:00\",\"1970-01-01T06:00:20\",\"1970-01-01T06:00:20\",\"1970-01-01T05:27:00\",\"1970-01-01T06:00:20\",\"1970-01-01T06:00:20\",\"1970-01-01T06:00:20\",\"1970-01-01T06:46:51\",\"1970-01-01T06:46:51\",\"1970-01-01T06:46:51\",\"1970-01-01T07:33:22\",\"1970-01-01T07:33:22\",\"1970-01-01T06:46:51\",\"1970-01-01T07:33:22\",\"1970-01-01T07:33:22\",\"1970-01-01T07:33:22\",\"1970-01-01T08:19:53\",\"1970-01-01T08:19:53\",\"1970-01-01T08:19:53\",\"1970-01-01T08:53:13\",\"1970-01-01T08:53:13\",\"1970-01-01T08:19:53\",\"1970-01-01T08:53:13\",\"1970-01-01T08:53:13\",\"1970-01-01T08:19:53\",\"1970-01-01T08:53:13\",\"1970-01-01T08:53:13\",\"1970-01-01T08:53:13\",\"1970-01-01T09:39:44\",\"1970-01-01T09:39:44\",\"1970-01-01T09:39:44\",\"1970-01-01T10:26:15\",\"1970-01-01T10:26:15\",\"1970-01-01T09:39:44\",\"1970-01-01T10:26:15\",\"1970-01-01T10:26:15\",\"1970-01-01T10:26:15\",\"1970-01-01T11:12:46\",\"1970-01-01T11:12:46\",\"1970-01-01T11:12:46\",\"1970-01-01T11:46:06\",\"1970-01-01T11:46:06\",\"1970-01-01T11:12:46\",\"1970-01-01T11:46:06\",\"1970-01-01T11:46:06\",\"1970-01-01T11:12:46\",\"1970-01-01T11:46:06\",\"1970-01-01T11:46:06\",\"1970-01-01T11:46:06\",\"1970-01-01T12:32:37\",\"1970-01-01T12:32:37\",\"1970-01-01T12:32:37\",\"1970-01-01T13:19:08\",\"1970-01-01T13:19:08\",\"1970-01-01T12:32:37\",\"1970-01-01T13:19:08\",\"1970-01-01T13:19:08\",\"1970-01-01T13:19:08\",\"1970-01-01T14:05:39\",\"1970-01-01T14:05:39\",\"1970-01-01T14:05:39\",\"1970-01-01T14:38:59\",\"1970-01-01T14:38:59\",\"1970-01-01T14:05:39\",\"1970-01-01T14:38:59\",\"1970-01-01T14:38:59\",\"1970-01-01T14:05:39\",\"1970-01-01T14:38:59\",\"1970-01-01T14:38:59\",\"1970-01-01T14:38:59\",\"1970-01-01T15:12:19\",\"1970-01-01T15:12:19\",\"1970-01-01T14:38:59\",\"1970-01-01T15:12:19\",\"1970-01-01T15:12:19\",\"1970-01-01T14:38:59\",\"1970-01-01T15:12:19\",\"1970-01-01T15:12:19\",\"1970-01-01T15:12:19\",\"1970-01-01T15:53:59\",\"1970-01-01T15:53:59\",\"1970-01-01T15:12:19\",\"1970-01-01T15:53:59\",\"1970-01-01T15:53:59\",\"1970-01-01T15:12:19\",\"1970-01-01T15:53:59\",\"1970-01-01T15:53:59\",\"1970-01-01T15:53:59\",\"1970-01-01T16:35:39\",\"1970-01-01T16:35:39\",\"1970-01-01T15:53:59\",\"1970-01-01T16:35:39\",\"1970-01-01T16:35:39\",\"1970-01-01T15:53:59\",\"1970-01-01T16:35:39\",\"1970-01-01T16:35:39\",\"1970-01-01T16:35:39\",\"1970-01-01T17:16:47\",\"1970-01-01T17:16:47\",\"1970-01-01T17:16:47\",\"1970-01-01T17:57:55\",\"1970-01-01T17:57:55\",\"1970-01-01T17:16:47\",\"1970-01-01T17:57:55\",\"1970-01-01T17:57:55\"],\"y\":[\"Carrier C\",\"Carrier C\",null,\"Carrier C\",\"Carrier C\",null,\"Cutter T\",\"Cutter T\",null,\"Trench\",\"Trench\",null,\"Barge I\",\"Barge I\",null,\"Cutter T\",\"Cutter T\",null,\"Trench\",\"Trench\",null,\"Carrier B\",\"Carrier B\",null,\"Cutter T\",\"Cutter T\",null,\"Trench\",\"Trench\",null,\"Carrier A\",\"Carrier A\",null,\"Cutter T\",\"Cutter T\",null,\"Trench\",\"Trench\",null,\"Carrier A\",\"Carrier A\",null,\"Carrier A\",\"Carrier A\",null,\"Reclamation\",\"Reclamation\",null,\"Carrier A\",\"Carrier A\",null,\"Carrier A\",\"Carrier A\",null,\"Cutter T\",\"Cutter T\",null,\"Trench\",\"Trench\",null,\"Carrier A\",\"Carrier A\",null,\"Carrier A\",\"Carrier A\",null,\"Reclamation\",\"Reclamation\",null,\"Carrier A\",\"Carrier A\",null,\"Carrier A\",\"Carrier A\",null,\"Cutter T\",\"Cutter T\",null,\"Trench\",\"Trench\",null,\"Carrier A\",\"Carrier A\",null,\"Carrier A\",\"Carrier A\",null,\"Reclamation\",\"Reclamation\",null,\"Carrier A\",\"Carrier A\",null,\"Carrier A\",\"Carrier A\",null,\"Cutter T\",\"Cutter T\",null,\"Trench\",\"Trench\",null,\"Carrier A\",\"Carrier A\",null,\"Carrier A\",\"Carrier A\",null,\"Reclamation\",\"Reclamation\",null,\"Carrier A\",\"Carrier A\",null,\"Carrier A\",\"Carrier A\",null,\"Cutter T\",\"Cutter T\",null,\"Trench\",\"Trench\",null,\"Carrier C\",\"Carrier C\",null,\"Cutter T\",\"Cutter T\",null,\"Trench\",\"Trench\",null,\"Barge I\",\"Barge I\",null,\"Cutter T\",\"Cutter T\",null,\"Trench\",\"Trench\",null,\"Carrier B\",\"Carrier B\",null,\"Cutter T\",\"Cutter T\",null,\"Trench\",\"Trench\",null,\"Carrier B\",\"Carrier B\",null,\"Carrier B\",\"Carrier B\",null,\"Reclamation\",\"Reclamation\",null],\"type\":\"scatter\"},{\"connectgaps\":false,\"hoverinfo\":\"y+name\",\"line\":{\"color\":\"rgb(77,137,104)\",\"width\":10},\"mode\":\"lines\",\"name\":\"sailing empty:Carrier A\",\"x\":[\"1970-01-01T00:00:00\",\"1970-01-01T00:00:00\",\"1970-01-01T00:46:31\",\"1970-01-01T00:46:31\",\"1970-01-01T00:46:31\",\"1970-01-01T04:40:29\",\"1970-01-01T04:40:29\",\"1970-01-01T05:27:00\",\"1970-01-01T05:27:00\",\"1970-01-01T05:27:00\",\"1970-01-01T07:33:22\",\"1970-01-01T07:33:22\",\"1970-01-01T08:19:53\",\"1970-01-01T08:19:53\",\"1970-01-01T08:19:53\",\"1970-01-01T10:26:15\",\"1970-01-01T10:26:15\",\"1970-01-01T11:12:46\",\"1970-01-01T11:12:46\",\"1970-01-01T11:12:46\",\"1970-01-01T13:19:08\",\"1970-01-01T13:19:08\",\"1970-01-01T14:05:39\",\"1970-01-01T14:05:39\",\"1970-01-01T14:05:39\"],\"y\":[\"Carrier A\",\"Carrier A\",\"Carrier A\",\"Carrier A\",null,\"Carrier A\",\"Carrier A\",\"Carrier A\",\"Carrier A\",null,\"Carrier A\",\"Carrier A\",\"Carrier A\",\"Carrier A\",null,\"Carrier A\",\"Carrier A\",\"Carrier A\",\"Carrier A\",null,\"Carrier A\",\"Carrier A\",\"Carrier A\",\"Carrier A\",null],\"type\":\"scatter\"},{\"connectgaps\":false,\"hoverinfo\":\"y+name\",\"line\":{\"color\":\"rgb(86,146,113)\",\"width\":10},\"mode\":\"lines\",\"name\":\"sailing full:Carrier A\",\"x\":[\"1970-01-01T03:07:27\",\"1970-01-01T03:07:27\",\"1970-01-01T03:53:58\",\"1970-01-01T03:53:58\",\"1970-01-01T03:53:58\",\"1970-01-01T06:00:20\",\"1970-01-01T06:00:20\",\"1970-01-01T06:46:51\",\"1970-01-01T06:46:51\",\"1970-01-01T06:46:51\",\"1970-01-01T08:53:13\",\"1970-01-01T08:53:13\",\"1970-01-01T09:39:44\",\"1970-01-01T09:39:44\",\"1970-01-01T09:39:44\",\"1970-01-01T11:46:06\",\"1970-01-01T11:46:06\",\"1970-01-01T12:32:37\",\"1970-01-01T12:32:37\",\"1970-01-01T12:32:37\",\"1970-01-01T14:38:59\",\"1970-01-01T14:38:59\",\"1970-01-01T15:25:30\",\"1970-01-01T15:25:30\",\"1970-01-01T15:25:30\"],\"y\":[\"Carrier A\",\"Carrier A\",\"Carrier A\",\"Carrier A\",null,\"Carrier A\",\"Carrier A\",\"Carrier A\",\"Carrier A\",null,\"Carrier A\",\"Carrier A\",\"Carrier A\",\"Carrier A\",null,\"Carrier A\",\"Carrier A\",\"Carrier A\",\"Carrier A\",null,\"Carrier A\",\"Carrier A\",\"Carrier A\",\"Carrier A\",null],\"type\":\"scatter\"},{\"connectgaps\":false,\"hoverinfo\":\"y+name\",\"line\":{\"color\":\"rgb(95,155,122)\",\"width\":10},\"mode\":\"lines\",\"name\":\"loading:Carrier A\",\"x\":[\"1970-01-01T02:34:07\",\"1970-01-01T02:34:07\",\"1970-01-01T03:07:27\",\"1970-01-01T03:07:27\",\"1970-01-01T03:07:27\",\"1970-01-01T05:27:00\",\"1970-01-01T05:27:00\",\"1970-01-01T06:00:20\",\"1970-01-01T06:00:20\",\"1970-01-01T06:00:20\",\"1970-01-01T08:19:53\",\"1970-01-01T08:19:53\",\"1970-01-01T08:53:13\",\"1970-01-01T08:53:13\",\"1970-01-01T08:53:13\",\"1970-01-01T11:12:46\",\"1970-01-01T11:12:46\",\"1970-01-01T11:46:06\",\"1970-01-01T11:46:06\",\"1970-01-01T11:46:06\",\"1970-01-01T14:05:39\",\"1970-01-01T14:05:39\",\"1970-01-01T14:38:59\",\"1970-01-01T14:38:59\",\"1970-01-01T14:38:59\",\"1970-01-01T02:34:07\",\"1970-01-01T02:34:07\",\"1970-01-01T03:07:27\",\"1970-01-01T03:07:27\",\"1970-01-01T03:07:27\",\"1970-01-01T05:27:00\",\"1970-01-01T05:27:00\",\"1970-01-01T06:00:20\",\"1970-01-01T06:00:20\",\"1970-01-01T06:00:20\",\"1970-01-01T08:19:53\",\"1970-01-01T08:19:53\",\"1970-01-01T08:53:13\",\"1970-01-01T08:53:13\",\"1970-01-01T08:53:13\",\"1970-01-01T11:12:46\",\"1970-01-01T11:12:46\",\"1970-01-01T11:46:06\",\"1970-01-01T11:46:06\",\"1970-01-01T11:46:06\",\"1970-01-01T14:05:39\",\"1970-01-01T14:05:39\",\"1970-01-01T14:38:59\",\"1970-01-01T14:38:59\",\"1970-01-01T14:38:59\",\"1970-01-01T02:34:07\",\"1970-01-01T02:34:07\",\"1970-01-01T03:07:27\",\"1970-01-01T03:07:27\",\"1970-01-01T03:07:27\",\"1970-01-01T05:27:00\",\"1970-01-01T05:27:00\",\"1970-01-01T06:00:20\",\"1970-01-01T06:00:20\",\"1970-01-01T06:00:20\",\"1970-01-01T08:19:53\",\"1970-01-01T08:19:53\",\"1970-01-01T08:53:13\",\"1970-01-01T08:53:13\",\"1970-01-01T08:53:13\",\"1970-01-01T11:12:46\",\"1970-01-01T11:12:46\",\"1970-01-01T11:46:06\",\"1970-01-01T11:46:06\",\"1970-01-01T11:46:06\",\"1970-01-01T14:05:39\",\"1970-01-01T14:05:39\",\"1970-01-01T14:38:59\",\"1970-01-01T14:38:59\",\"1970-01-01T14:38:59\"],\"y\":[\"Carrier A\",\"Carrier A\",\"Carrier A\",\"Carrier A\",null,\"Carrier A\",\"Carrier A\",\"Carrier A\",\"Carrier A\",null,\"Carrier A\",\"Carrier A\",\"Carrier A\",\"Carrier A\",null,\"Carrier A\",\"Carrier A\",\"Carrier A\",\"Carrier A\",null,\"Carrier A\",\"Carrier A\",\"Carrier A\",\"Carrier A\",null,\"Cutter T\",\"Cutter T\",\"Cutter T\",\"Cutter T\",null,\"Cutter T\",\"Cutter T\",\"Cutter T\",\"Cutter T\",null,\"Cutter T\",\"Cutter T\",\"Cutter T\",\"Cutter T\",null,\"Cutter T\",\"Cutter T\",\"Cutter T\",\"Cutter T\",null,\"Cutter T\",\"Cutter T\",\"Cutter T\",\"Cutter T\",null,\"Trench\",\"Trench\",\"Trench\",\"Trench\",null,\"Trench\",\"Trench\",\"Trench\",\"Trench\",null,\"Trench\",\"Trench\",\"Trench\",\"Trench\",null,\"Trench\",\"Trench\",\"Trench\",\"Trench\",null,\"Trench\",\"Trench\",\"Trench\",\"Trench\",null],\"type\":\"scatter\"},{\"connectgaps\":false,\"hoverinfo\":\"y+name\",\"line\":{\"color\":\"rgb(104,164,131)\",\"width\":10},\"mode\":\"lines\",\"name\":\"unloading:Carrier A\",\"x\":[\"1970-01-01T03:53:58\",\"1970-01-01T03:53:58\",\"1970-01-01T04:40:29\",\"1970-01-01T04:40:29\",\"1970-01-01T04:40:29\",\"1970-01-01T06:46:51\",\"1970-01-01T06:46:51\",\"1970-01-01T07:33:22\",\"1970-01-01T07:33:22\",\"1970-01-01T07:33:22\",\"1970-01-01T09:39:44\",\"1970-01-01T09:39:44\",\"1970-01-01T10:26:15\",\"1970-01-01T10:26:15\",\"1970-01-01T10:26:15\",\"1970-01-01T12:32:37\",\"1970-01-01T12:32:37\",\"1970-01-01T13:19:08\",\"1970-01-01T13:19:08\",\"1970-01-01T13:19:08\",\"1970-01-01T15:25:30\",\"1970-01-01T15:25:30\",\"1970-01-01T16:12:01\",\"1970-01-01T16:12:01\",\"1970-01-01T16:12:01\",\"1970-01-01T03:53:58\",\"1970-01-01T03:53:58\",\"1970-01-01T04:40:29\",\"1970-01-01T04:40:29\",\"1970-01-01T04:40:29\",\"1970-01-01T06:46:51\",\"1970-01-01T06:46:51\",\"1970-01-01T07:33:22\",\"1970-01-01T07:33:22\",\"1970-01-01T07:33:22\",\"1970-01-01T09:39:44\",\"1970-01-01T09:39:44\",\"1970-01-01T10:26:15\",\"1970-01-01T10:26:15\",\"1970-01-01T10:26:15\",\"1970-01-01T12:32:37\",\"1970-01-01T12:32:37\",\"1970-01-01T13:19:08\",\"1970-01-01T13:19:08\",\"1970-01-01T13:19:08\",\"1970-01-01T15:25:30\",\"1970-01-01T15:25:30\",\"1970-01-01T16:12:01\",\"1970-01-01T16:12:01\",\"1970-01-01T16:12:01\"],\"y\":[\"Carrier A\",\"Carrier A\",\"Carrier A\",\"Carrier A\",null,\"Carrier A\",\"Carrier A\",\"Carrier A\",\"Carrier A\",null,\"Carrier A\",\"Carrier A\",\"Carrier A\",\"Carrier A\",null,\"Carrier A\",\"Carrier A\",\"Carrier A\",\"Carrier A\",null,\"Carrier A\",\"Carrier A\",\"Carrier A\",\"Carrier A\",null,\"Reclamation\",\"Reclamation\",\"Reclamation\",\"Reclamation\",null,\"Reclamation\",\"Reclamation\",\"Reclamation\",\"Reclamation\",null,\"Reclamation\",\"Reclamation\",\"Reclamation\",\"Reclamation\",null,\"Reclamation\",\"Reclamation\",\"Reclamation\",\"Reclamation\",null,\"Reclamation\",\"Reclamation\",\"Reclamation\",\"Reclamation\",null],\"type\":\"scatter\"},{\"connectgaps\":false,\"hoverinfo\":\"y+name\",\"line\":{\"color\":\"rgb(113,173,140)\",\"width\":10},\"mode\":\"lines\",\"name\":\"sailing full:Carrier B\",\"x\":[\"1970-01-01T02:34:07\",\"1970-01-01T02:34:07\",\"1970-01-01T03:15:15\",\"1970-01-01T03:15:15\",\"1970-01-01T03:15:15\",\"1970-01-01T05:19:11\",\"1970-01-01T05:19:11\",\"1970-01-01T06:00:19\",\"1970-01-01T06:00:19\",\"1970-01-01T06:00:19\",\"1970-01-01T08:04:15\",\"1970-01-01T08:04:15\",\"1970-01-01T08:45:23\",\"1970-01-01T08:45:23\",\"1970-01-01T08:45:23\",\"1970-01-01T10:49:53\",\"1970-01-01T10:49:53\",\"1970-01-01T11:31:01\",\"1970-01-01T11:31:01\",\"1970-01-01T11:31:01\",\"1970-01-01T13:42:46\",\"1970-01-01T13:42:46\",\"1970-01-01T14:23:54\",\"1970-01-01T14:23:54\",\"1970-01-01T14:23:54\",\"1970-01-01T16:35:39\",\"1970-01-01T16:35:39\",\"1970-01-01T17:16:47\",\"1970-01-01T17:16:47\",\"1970-01-01T17:16:47\"],\"y\":[\"Carrier B\",\"Carrier B\",\"Carrier B\",\"Carrier B\",null,\"Carrier B\",\"Carrier B\",\"Carrier B\",\"Carrier B\",null,\"Carrier B\",\"Carrier B\",\"Carrier B\",\"Carrier B\",null,\"Carrier B\",\"Carrier B\",\"Carrier B\",\"Carrier B\",null,\"Carrier B\",\"Carrier B\",\"Carrier B\",\"Carrier B\",null,\"Carrier B\",\"Carrier B\",\"Carrier B\",\"Carrier B\",null],\"type\":\"scatter\"},{\"connectgaps\":false,\"hoverinfo\":\"y+name\",\"line\":{\"color\":\"rgb(122,182,149)\",\"width\":10},\"mode\":\"lines\",\"name\":\"loading:Carrier B\",\"x\":[\"1970-01-01T01:52:27\",\"1970-01-01T01:52:27\",\"1970-01-01T02:34:07\",\"1970-01-01T02:34:07\",\"1970-01-01T02:34:07\",\"1970-01-01T04:37:31\",\"1970-01-01T04:37:31\",\"1970-01-01T05:19:11\",\"1970-01-01T05:19:11\",\"1970-01-01T05:19:11\",\"1970-01-01T07:22:35\",\"1970-01-01T07:22:35\",\"1970-01-01T08:04:15\",\"1970-01-01T08:04:15\",\"1970-01-01T08:04:15\",\"1970-01-01T10:08:13\",\"1970-01-01T10:08:13\",\"1970-01-01T10:49:53\",\"1970-01-01T10:49:53\",\"1970-01-01T10:49:53\",\"1970-01-01T13:01:06\",\"1970-01-01T13:01:06\",\"1970-01-01T13:42:46\",\"1970-01-01T13:42:46\",\"1970-01-01T13:42:46\",\"1970-01-01T15:53:59\",\"1970-01-01T15:53:59\",\"1970-01-01T16:35:39\",\"1970-01-01T16:35:39\",\"1970-01-01T16:35:39\",\"1970-01-01T01:52:27\",\"1970-01-01T01:52:27\",\"1970-01-01T02:34:07\",\"1970-01-01T02:34:07\",\"1970-01-01T02:34:07\",\"1970-01-01T04:37:31\",\"1970-01-01T04:37:31\",\"1970-01-01T05:19:11\",\"1970-01-01T05:19:11\",\"1970-01-01T05:19:11\",\"1970-01-01T07:22:35\",\"1970-01-01T07:22:35\",\"1970-01-01T08:04:15\",\"1970-01-01T08:04:15\",\"1970-01-01T08:04:15\",\"1970-01-01T10:08:13\",\"1970-01-01T10:08:13\",\"1970-01-01T10:49:53\",\"1970-01-01T10:49:53\",\"1970-01-01T10:49:53\",\"1970-01-01T13:01:06\",\"1970-01-01T13:01:06\",\"1970-01-01T13:42:46\",\"1970-01-01T13:42:46\",\"1970-01-01T13:42:46\",\"1970-01-01T15:53:59\",\"1970-01-01T15:53:59\",\"1970-01-01T16:35:39\",\"1970-01-01T16:35:39\",\"1970-01-01T16:35:39\",\"1970-01-01T01:52:27\",\"1970-01-01T01:52:27\",\"1970-01-01T02:34:07\",\"1970-01-01T02:34:07\",\"1970-01-01T02:34:07\",\"1970-01-01T04:37:31\",\"1970-01-01T04:37:31\",\"1970-01-01T05:19:11\",\"1970-01-01T05:19:11\",\"1970-01-01T05:19:11\",\"1970-01-01T07:22:35\",\"1970-01-01T07:22:35\",\"1970-01-01T08:04:15\",\"1970-01-01T08:04:15\",\"1970-01-01T08:04:15\",\"1970-01-01T10:08:13\",\"1970-01-01T10:08:13\",\"1970-01-01T10:49:53\",\"1970-01-01T10:49:53\",\"1970-01-01T10:49:53\",\"1970-01-01T13:01:06\",\"1970-01-01T13:01:06\",\"1970-01-01T13:42:46\",\"1970-01-01T13:42:46\",\"1970-01-01T13:42:46\",\"1970-01-01T15:53:59\",\"1970-01-01T15:53:59\",\"1970-01-01T16:35:39\",\"1970-01-01T16:35:39\",\"1970-01-01T16:35:39\"],\"y\":[\"Carrier B\",\"Carrier B\",\"Carrier B\",\"Carrier B\",null,\"Carrier B\",\"Carrier B\",\"Carrier B\",\"Carrier B\",null,\"Carrier B\",\"Carrier B\",\"Carrier B\",\"Carrier B\",null,\"Carrier B\",\"Carrier B\",\"Carrier B\",\"Carrier B\",null,\"Carrier B\",\"Carrier B\",\"Carrier B\",\"Carrier B\",null,\"Carrier B\",\"Carrier B\",\"Carrier B\",\"Carrier B\",null,\"Cutter T\",\"Cutter T\",\"Cutter T\",\"Cutter T\",null,\"Cutter T\",\"Cutter T\",\"Cutter T\",\"Cutter T\",null,\"Cutter T\",\"Cutter T\",\"Cutter T\",\"Cutter T\",null,\"Cutter T\",\"Cutter T\",\"Cutter T\",\"Cutter T\",null,\"Cutter T\",\"Cutter T\",\"Cutter T\",\"Cutter T\",null,\"Cutter T\",\"Cutter T\",\"Cutter T\",\"Cutter T\",null,\"Trench\",\"Trench\",\"Trench\",\"Trench\",null,\"Trench\",\"Trench\",\"Trench\",\"Trench\",null,\"Trench\",\"Trench\",\"Trench\",\"Trench\",null,\"Trench\",\"Trench\",\"Trench\",\"Trench\",null,\"Trench\",\"Trench\",\"Trench\",\"Trench\",null,\"Trench\",\"Trench\",\"Trench\",\"Trench\",null],\"type\":\"scatter\"},{\"connectgaps\":false,\"hoverinfo\":\"y+name\",\"line\":{\"color\":\"rgb(131,191,158)\",\"width\":10},\"mode\":\"lines\",\"name\":\"sailing empty:Carrier B\",\"x\":[\"1970-01-01T00:00:00\",\"1970-01-01T00:00:00\",\"1970-01-01T00:41:08\",\"1970-01-01T00:41:08\",\"1970-01-01T00:41:08\",\"1970-01-01T03:56:23\",\"1970-01-01T03:56:23\",\"1970-01-01T04:37:31\",\"1970-01-01T04:37:31\",\"1970-01-01T04:37:31\",\"1970-01-01T06:41:27\",\"1970-01-01T06:41:27\",\"1970-01-01T07:22:35\",\"1970-01-01T07:22:35\",\"1970-01-01T07:22:35\",\"1970-01-01T09:26:31\",\"1970-01-01T09:26:31\",\"1970-01-01T10:07:39\",\"1970-01-01T10:07:39\",\"1970-01-01T10:07:39\",\"1970-01-01T12:12:09\",\"1970-01-01T12:12:09\",\"1970-01-01T12:53:17\",\"1970-01-01T12:53:17\",\"1970-01-01T12:53:17\",\"1970-01-01T15:05:02\",\"1970-01-01T15:05:02\",\"1970-01-01T15:46:10\",\"1970-01-01T15:46:10\",\"1970-01-01T15:46:10\"],\"y\":[\"Carrier B\",\"Carrier B\",\"Carrier B\",\"Carrier B\",null,\"Carrier B\",\"Carrier B\",\"Carrier B\",\"Carrier B\",null,\"Carrier B\",\"Carrier B\",\"Carrier B\",\"Carrier B\",null,\"Carrier B\",\"Carrier B\",\"Carrier B\",\"Carrier B\",null,\"Carrier B\",\"Carrier B\",\"Carrier B\",\"Carrier B\",null,\"Carrier B\",\"Carrier B\",\"Carrier B\",\"Carrier B\",null],\"type\":\"scatter\"},{\"connectgaps\":false,\"hoverinfo\":\"y+name\",\"line\":{\"color\":\"rgb(140,200,167)\",\"width\":10},\"mode\":\"lines\",\"name\":\"unloading:Carrier B\",\"x\":[\"1970-01-01T03:15:15\",\"1970-01-01T03:15:15\",\"1970-01-01T03:56:23\",\"1970-01-01T03:56:23\",\"1970-01-01T03:56:23\",\"1970-01-01T06:00:19\",\"1970-01-01T06:00:19\",\"1970-01-01T06:41:27\",\"1970-01-01T06:41:27\",\"1970-01-01T06:41:27\",\"1970-01-01T08:45:23\",\"1970-01-01T08:45:23\",\"1970-01-01T09:26:31\",\"1970-01-01T09:26:31\",\"1970-01-01T09:26:31\",\"1970-01-01T11:31:01\",\"1970-01-01T11:31:01\",\"1970-01-01T12:12:09\",\"1970-01-01T12:12:09\",\"1970-01-01T12:12:09\",\"1970-01-01T14:23:54\",\"1970-01-01T14:23:54\",\"1970-01-01T15:05:02\",\"1970-01-01T15:05:02\",\"1970-01-01T15:05:02\",\"1970-01-01T17:16:47\",\"1970-01-01T17:16:47\",\"1970-01-01T17:57:55\",\"1970-01-01T17:57:55\",\"1970-01-01T17:57:55\",\"1970-01-01T03:15:15\",\"1970-01-01T03:15:15\",\"1970-01-01T03:56:23\",\"1970-01-01T03:56:23\",\"1970-01-01T03:56:23\",\"1970-01-01T06:00:19\",\"1970-01-01T06:00:19\",\"1970-01-01T06:41:27\",\"1970-01-01T06:41:27\",\"1970-01-01T06:41:27\",\"1970-01-01T08:45:23\",\"1970-01-01T08:45:23\",\"1970-01-01T09:26:31\",\"1970-01-01T09:26:31\",\"1970-01-01T09:26:31\",\"1970-01-01T11:31:01\",\"1970-01-01T11:31:01\",\"1970-01-01T12:12:09\",\"1970-01-01T12:12:09\",\"1970-01-01T12:12:09\",\"1970-01-01T14:23:54\",\"1970-01-01T14:23:54\",\"1970-01-01T15:05:02\",\"1970-01-01T15:05:02\",\"1970-01-01T15:05:02\",\"1970-01-01T17:16:47\",\"1970-01-01T17:16:47\",\"1970-01-01T17:57:55\",\"1970-01-01T17:57:55\",\"1970-01-01T17:57:55\"],\"y\":[\"Carrier B\",\"Carrier B\",\"Carrier B\",\"Carrier B\",null,\"Carrier B\",\"Carrier B\",\"Carrier B\",\"Carrier B\",null,\"Carrier B\",\"Carrier B\",\"Carrier B\",\"Carrier B\",null,\"Carrier B\",\"Carrier B\",\"Carrier B\",\"Carrier B\",null,\"Carrier B\",\"Carrier B\",\"Carrier B\",\"Carrier B\",null,\"Carrier B\",\"Carrier B\",\"Carrier B\",\"Carrier B\",null,\"Reclamation\",\"Reclamation\",\"Reclamation\",\"Reclamation\",null,\"Reclamation\",\"Reclamation\",\"Reclamation\",\"Reclamation\",null,\"Reclamation\",\"Reclamation\",\"Reclamation\",\"Reclamation\",null,\"Reclamation\",\"Reclamation\",\"Reclamation\",\"Reclamation\",null,\"Reclamation\",\"Reclamation\",\"Reclamation\",\"Reclamation\",null,\"Reclamation\",\"Reclamation\",\"Reclamation\",\"Reclamation\",null],\"type\":\"scatter\"},{\"connectgaps\":false,\"hoverinfo\":\"y+name\",\"line\":{\"color\":\"rgb(149,209,176)\",\"width\":10},\"mode\":\"lines\",\"name\":\"loading:Carrier C\",\"x\":[\"1970-01-01T00:37:27\",\"1970-01-01T00:37:27\",\"1970-01-01T01:10:47\",\"1970-01-01T01:10:47\",\"1970-01-01T01:10:47\",\"1970-01-01T03:07:27\",\"1970-01-01T03:07:27\",\"1970-01-01T03:40:47\",\"1970-01-01T03:40:47\",\"1970-01-01T03:40:47\",\"1970-01-01T06:00:20\",\"1970-01-01T06:00:20\",\"1970-01-01T06:33:40\",\"1970-01-01T06:33:40\",\"1970-01-01T06:33:40\",\"1970-01-01T08:53:13\",\"1970-01-01T08:53:13\",\"1970-01-01T09:26:33\",\"1970-01-01T09:26:33\",\"1970-01-01T09:26:33\",\"1970-01-01T11:46:06\",\"1970-01-01T11:46:06\",\"1970-01-01T12:19:26\",\"1970-01-01T12:19:26\",\"1970-01-01T12:19:26\",\"1970-01-01T14:38:59\",\"1970-01-01T14:38:59\",\"1970-01-01T15:12:19\",\"1970-01-01T15:12:19\",\"1970-01-01T15:12:19\",\"1970-01-01T00:37:27\",\"1970-01-01T00:37:27\",\"1970-01-01T01:10:47\",\"1970-01-01T01:10:47\",\"1970-01-01T01:10:47\",\"1970-01-01T03:07:27\",\"1970-01-01T03:07:27\",\"1970-01-01T03:40:47\",\"1970-01-01T03:40:47\",\"1970-01-01T03:40:47\",\"1970-01-01T06:00:20\",\"1970-01-01T06:00:20\",\"1970-01-01T06:33:40\",\"1970-01-01T06:33:40\",\"1970-01-01T06:33:40\",\"1970-01-01T08:53:13\",\"1970-01-01T08:53:13\",\"1970-01-01T09:26:33\",\"1970-01-01T09:26:33\",\"1970-01-01T09:26:33\",\"1970-01-01T11:46:06\",\"1970-01-01T11:46:06\",\"1970-01-01T12:19:26\",\"1970-01-01T12:19:26\",\"1970-01-01T12:19:26\",\"1970-01-01T14:38:59\",\"1970-01-01T14:38:59\",\"1970-01-01T15:12:19\",\"1970-01-01T15:12:19\",\"1970-01-01T15:12:19\",\"1970-01-01T00:37:27\",\"1970-01-01T00:37:27\",\"1970-01-01T01:10:47\",\"1970-01-01T01:10:47\",\"1970-01-01T01:10:47\",\"1970-01-01T03:07:27\",\"1970-01-01T03:07:27\",\"1970-01-01T03:40:47\",\"1970-01-01T03:40:47\",\"1970-01-01T03:40:47\",\"1970-01-01T06:00:20\",\"1970-01-01T06:00:20\",\"1970-01-01T06:33:40\",\"1970-01-01T06:33:40\",\"1970-01-01T06:33:40\",\"1970-01-01T08:53:13\",\"1970-01-01T08:53:13\",\"1970-01-01T09:26:33\",\"1970-01-01T09:26:33\",\"1970-01-01T09:26:33\",\"1970-01-01T11:46:06\",\"1970-01-01T11:46:06\",\"1970-01-01T12:19:26\",\"1970-01-01T12:19:26\",\"1970-01-01T12:19:26\",\"1970-01-01T14:38:59\",\"1970-01-01T14:38:59\",\"1970-01-01T15:12:19\",\"1970-01-01T15:12:19\",\"1970-01-01T15:12:19\"],\"y\":[\"Carrier C\",\"Carrier C\",\"Carrier C\",\"Carrier C\",null,\"Carrier C\",\"Carrier C\",\"Carrier C\",\"Carrier C\",null,\"Carrier C\",\"Carrier C\",\"Carrier C\",\"Carrier C\",null,\"Carrier C\",\"Carrier C\",\"Carrier C\",\"Carrier C\",null,\"Carrier C\",\"Carrier C\",\"Carrier C\",\"Carrier C\",null,\"Carrier C\",\"Carrier C\",\"Carrier C\",\"Carrier C\",null,\"Cutter T\",\"Cutter T\",\"Cutter T\",\"Cutter T\",null,\"Cutter T\",\"Cutter T\",\"Cutter T\",\"Cutter T\",null,\"Cutter T\",\"Cutter T\",\"Cutter T\",\"Cutter T\",null,\"Cutter T\",\"Cutter T\",\"Cutter T\",\"Cutter T\",null,\"Cutter T\",\"Cutter T\",\"Cutter T\",\"Cutter T\",null,\"Cutter T\",\"Cutter T\",\"Cutter T\",\"Cutter T\",null,\"Trench\",\"Trench\",\"Trench\",\"Trench\",null,\"Trench\",\"Trench\",\"Trench\",\"Trench\",null,\"Trench\",\"Trench\",\"Trench\",\"Trench\",null,\"Trench\",\"Trench\",\"Trench\",\"Trench\",null,\"Trench\",\"Trench\",\"Trench\",\"Trench\",null,\"Trench\",\"Trench\",\"Trench\",\"Trench\",null],\"type\":\"scatter\"},{\"connectgaps\":false,\"hoverinfo\":\"y+name\",\"line\":{\"color\":\"rgb(158,218,185)\",\"width\":10},\"mode\":\"lines\",\"name\":\"sailing full:Carrier C\",\"x\":[\"1970-01-01T01:10:47\",\"1970-01-01T01:10:47\",\"1970-01-01T01:48:14\",\"1970-01-01T01:48:14\",\"1970-01-01T01:48:14\",\"1970-01-01T03:40:47\",\"1970-01-01T03:40:47\",\"1970-01-01T04:18:14\",\"1970-01-01T04:18:14\",\"1970-01-01T04:18:14\",\"1970-01-01T06:33:40\",\"1970-01-01T06:33:40\",\"1970-01-01T07:11:07\",\"1970-01-01T07:11:07\",\"1970-01-01T07:11:07\",\"1970-01-01T09:26:33\",\"1970-01-01T09:26:33\",\"1970-01-01T10:04:00\",\"1970-01-01T10:04:00\",\"1970-01-01T10:04:00\",\"1970-01-01T12:19:26\",\"1970-01-01T12:19:26\",\"1970-01-01T12:56:53\",\"1970-01-01T12:56:53\",\"1970-01-01T12:56:53\",\"1970-01-01T15:12:19\",\"1970-01-01T15:12:19\",\"1970-01-01T15:49:46\",\"1970-01-01T15:49:46\",\"1970-01-01T15:49:46\"],\"y\":[\"Carrier C\",\"Carrier C\",\"Carrier C\",\"Carrier C\",null,\"Carrier C\",\"Carrier C\",\"Carrier C\",\"Carrier C\",null,\"Carrier C\",\"Carrier C\",\"Carrier C\",\"Carrier C\",null,\"Carrier C\",\"Carrier C\",\"Carrier C\",\"Carrier C\",null,\"Carrier C\",\"Carrier C\",\"Carrier C\",\"Carrier C\",null,\"Carrier C\",\"Carrier C\",\"Carrier C\",\"Carrier C\",null],\"type\":\"scatter\"},{\"connectgaps\":false,\"hoverinfo\":\"y+name\",\"line\":{\"color\":\"rgb(167,227,194)\",\"width\":10},\"mode\":\"lines\",\"name\":\"sailing empty:Carrier C\",\"x\":[\"1970-01-01T00:00:00\",\"1970-01-01T00:00:00\",\"1970-01-01T00:37:27\",\"1970-01-01T00:37:27\",\"1970-01-01T00:37:27\",\"1970-01-01T02:25:41\",\"1970-01-01T02:25:41\",\"1970-01-01T03:03:08\",\"1970-01-01T03:03:08\",\"1970-01-01T03:03:08\",\"1970-01-01T04:55:41\",\"1970-01-01T04:55:41\",\"1970-01-01T05:33:08\",\"1970-01-01T05:33:08\",\"1970-01-01T05:33:08\",\"1970-01-01T07:48:34\",\"1970-01-01T07:48:34\",\"1970-01-01T08:26:01\",\"1970-01-01T08:26:01\",\"1970-01-01T08:26:01\",\"1970-01-01T10:41:27\",\"1970-01-01T10:41:27\",\"1970-01-01T11:18:54\",\"1970-01-01T11:18:54\",\"1970-01-01T11:18:54\",\"1970-01-01T13:34:20\",\"1970-01-01T13:34:20\",\"1970-01-01T14:11:47\",\"1970-01-01T14:11:47\",\"1970-01-01T14:11:47\"],\"y\":[\"Carrier C\",\"Carrier C\",\"Carrier C\",\"Carrier C\",null,\"Carrier C\",\"Carrier C\",\"Carrier C\",\"Carrier C\",null,\"Carrier C\",\"Carrier C\",\"Carrier C\",\"Carrier C\",null,\"Carrier C\",\"Carrier C\",\"Carrier C\",\"Carrier C\",null,\"Carrier C\",\"Carrier C\",\"Carrier C\",\"Carrier C\",null,\"Carrier C\",\"Carrier C\",\"Carrier C\",\"Carrier C\",null],\"type\":\"scatter\"},{\"connectgaps\":false,\"hoverinfo\":\"y+name\",\"line\":{\"color\":\"rgb(176,236,203)\",\"width\":10},\"mode\":\"lines\",\"name\":\"unloading:Carrier C\",\"x\":[\"1970-01-01T01:48:14\",\"1970-01-01T01:48:14\",\"1970-01-01T02:25:41\",\"1970-01-01T02:25:41\",\"1970-01-01T02:25:41\",\"1970-01-01T04:18:14\",\"1970-01-01T04:18:14\",\"1970-01-01T04:55:41\",\"1970-01-01T04:55:41\",\"1970-01-01T04:55:41\",\"1970-01-01T07:11:07\",\"1970-01-01T07:11:07\",\"1970-01-01T07:48:34\",\"1970-01-01T07:48:34\",\"1970-01-01T07:48:34\",\"1970-01-01T10:04:00\",\"1970-01-01T10:04:00\",\"1970-01-01T10:41:27\",\"1970-01-01T10:41:27\",\"1970-01-01T10:41:27\",\"1970-01-01T12:56:53\",\"1970-01-01T12:56:53\",\"1970-01-01T13:34:20\",\"1970-01-01T13:34:20\",\"1970-01-01T13:34:20\",\"1970-01-01T15:49:46\",\"1970-01-01T15:49:46\",\"1970-01-01T16:27:13\",\"1970-01-01T16:27:13\",\"1970-01-01T16:27:13\",\"1970-01-01T01:48:14\",\"1970-01-01T01:48:14\",\"1970-01-01T02:25:41\",\"1970-01-01T02:25:41\",\"1970-01-01T02:25:41\",\"1970-01-01T04:18:14\",\"1970-01-01T04:18:14\",\"1970-01-01T04:55:41\",\"1970-01-01T04:55:41\",\"1970-01-01T04:55:41\",\"1970-01-01T07:11:07\",\"1970-01-01T07:11:07\",\"1970-01-01T07:48:34\",\"1970-01-01T07:48:34\",\"1970-01-01T07:48:34\",\"1970-01-01T10:04:00\",\"1970-01-01T10:04:00\",\"1970-01-01T10:41:27\",\"1970-01-01T10:41:27\",\"1970-01-01T10:41:27\",\"1970-01-01T12:56:53\",\"1970-01-01T12:56:53\",\"1970-01-01T13:34:20\",\"1970-01-01T13:34:20\",\"1970-01-01T13:34:20\",\"1970-01-01T15:49:46\",\"1970-01-01T15:49:46\",\"1970-01-01T16:27:13\",\"1970-01-01T16:27:13\",\"1970-01-01T16:27:13\"],\"y\":[\"Carrier C\",\"Carrier C\",\"Carrier C\",\"Carrier C\",null,\"Carrier C\",\"Carrier C\",\"Carrier C\",\"Carrier C\",null,\"Carrier C\",\"Carrier C\",\"Carrier C\",\"Carrier C\",null,\"Carrier C\",\"Carrier C\",\"Carrier C\",\"Carrier C\",null,\"Carrier C\",\"Carrier C\",\"Carrier C\",\"Carrier C\",null,\"Carrier C\",\"Carrier C\",\"Carrier C\",\"Carrier C\",null,\"Reclamation\",\"Reclamation\",\"Reclamation\",\"Reclamation\",null,\"Reclamation\",\"Reclamation\",\"Reclamation\",\"Reclamation\",null,\"Reclamation\",\"Reclamation\",\"Reclamation\",\"Reclamation\",null,\"Reclamation\",\"Reclamation\",\"Reclamation\",\"Reclamation\",null,\"Reclamation\",\"Reclamation\",\"Reclamation\",\"Reclamation\",null,\"Reclamation\",\"Reclamation\",\"Reclamation\",\"Reclamation\",null],\"type\":\"scatter\"},{\"connectgaps\":false,\"hoverinfo\":\"y+name\",\"line\":{\"color\":\"rgb(185,245,212)\",\"width\":10},\"mode\":\"lines\",\"name\":\"sailing empty:Barge I\",\"x\":[\"1970-01-01T00:00:00\",\"1970-01-01T00:00:00\",\"1970-01-01T00:40:06\",\"1970-01-01T00:40:06\",\"1970-01-01T00:40:06\",\"1970-01-01T03:12:39\",\"1970-01-01T03:12:39\",\"1970-01-01T03:52:45\",\"1970-01-01T03:52:45\",\"1970-01-01T03:52:45\",\"1970-01-01T05:54:37\",\"1970-01-01T05:54:37\",\"1970-01-01T06:34:43\",\"1970-01-01T06:34:43\",\"1970-01-01T06:34:43\",\"1970-01-01T08:36:35\",\"1970-01-01T08:36:35\",\"1970-01-01T09:16:41\",\"1970-01-01T09:16:41\",\"1970-01-01T09:16:41\",\"1970-01-01T11:28:25\",\"1970-01-01T11:28:25\",\"1970-01-01T12:08:31\",\"1970-01-01T12:08:31\",\"1970-01-01T12:08:31\",\"1970-01-01T14:21:18\",\"1970-01-01T14:21:18\",\"1970-01-01T15:01:24\",\"1970-01-01T15:01:24\",\"1970-01-01T15:01:24\"],\"y\":[\"Barge I\",\"Barge I\",\"Barge I\",\"Barge I\",null,\"Barge I\",\"Barge I\",\"Barge I\",\"Barge I\",null,\"Barge I\",\"Barge I\",\"Barge I\",\"Barge I\",null,\"Barge I\",\"Barge I\",\"Barge I\",\"Barge I\",null,\"Barge I\",\"Barge I\",\"Barge I\",\"Barge I\",null,\"Barge I\",\"Barge I\",\"Barge I\",\"Barge I\",null],\"type\":\"scatter\"},{\"connectgaps\":false,\"hoverinfo\":\"y+name\",\"line\":{\"color\":\"rgb(194,254,221)\",\"width\":10},\"mode\":\"lines\",\"name\":\"sailing full:Barge I\",\"x\":[\"1970-01-01T01:52:27\",\"1970-01-01T01:52:27\",\"1970-01-01T02:32:33\",\"1970-01-01T02:32:33\",\"1970-01-01T02:32:33\",\"1970-01-01T04:34:25\",\"1970-01-01T04:34:25\",\"1970-01-01T05:14:31\",\"1970-01-01T05:14:31\",\"1970-01-01T05:14:31\",\"1970-01-01T07:16:23\",\"1970-01-01T07:16:23\",\"1970-01-01T07:56:29\",\"1970-01-01T07:56:29\",\"1970-01-01T07:56:29\",\"1970-01-01T10:08:13\",\"1970-01-01T10:08:13\",\"1970-01-01T10:48:19\",\"1970-01-01T10:48:19\",\"1970-01-01T10:48:19\",\"1970-01-01T13:01:06\",\"1970-01-01T13:01:06\",\"1970-01-01T13:41:12\",\"1970-01-01T13:41:12\",\"1970-01-01T13:41:12\",\"1970-01-01T15:53:59\",\"1970-01-01T15:53:59\",\"1970-01-01T16:34:05\",\"1970-01-01T16:34:05\",\"1970-01-01T16:34:05\"],\"y\":[\"Barge I\",\"Barge I\",\"Barge I\",\"Barge I\",null,\"Barge I\",\"Barge I\",\"Barge I\",\"Barge I\",null,\"Barge I\",\"Barge I\",\"Barge I\",\"Barge I\",null,\"Barge I\",\"Barge I\",\"Barge I\",\"Barge I\",null,\"Barge I\",\"Barge I\",\"Barge I\",\"Barge I\",null,\"Barge I\",\"Barge I\",\"Barge I\",\"Barge I\",null],\"type\":\"scatter\"},{\"connectgaps\":false,\"hoverinfo\":\"y+name\",\"line\":{\"color\":\"rgb(203,7,230)\",\"width\":10},\"mode\":\"lines\",\"name\":\"unloading:Barge I\",\"x\":[\"1970-01-01T02:32:33\",\"1970-01-01T02:32:33\",\"1970-01-01T03:12:39\",\"1970-01-01T03:12:39\",\"1970-01-01T03:12:39\",\"1970-01-01T05:14:31\",\"1970-01-01T05:14:31\",\"1970-01-01T05:54:37\",\"1970-01-01T05:54:37\",\"1970-01-01T05:54:37\",\"1970-01-01T07:56:29\",\"1970-01-01T07:56:29\",\"1970-01-01T08:36:35\",\"1970-01-01T08:36:35\",\"1970-01-01T08:36:35\",\"1970-01-01T10:48:19\",\"1970-01-01T10:48:19\",\"1970-01-01T11:28:25\",\"1970-01-01T11:28:25\",\"1970-01-01T11:28:25\",\"1970-01-01T13:41:12\",\"1970-01-01T13:41:12\",\"1970-01-01T14:21:18\",\"1970-01-01T14:21:18\",\"1970-01-01T14:21:18\",\"1970-01-01T16:34:05\",\"1970-01-01T16:34:05\",\"1970-01-01T17:14:11\",\"1970-01-01T17:14:11\",\"1970-01-01T17:14:11\",\"1970-01-01T02:32:33\",\"1970-01-01T02:32:33\",\"1970-01-01T03:12:39\",\"1970-01-01T03:12:39\",\"1970-01-01T03:12:39\",\"1970-01-01T05:14:31\",\"1970-01-01T05:14:31\",\"1970-01-01T05:54:37\",\"1970-01-01T05:54:37\",\"1970-01-01T05:54:37\",\"1970-01-01T07:56:29\",\"1970-01-01T07:56:29\",\"1970-01-01T08:36:35\",\"1970-01-01T08:36:35\",\"1970-01-01T08:36:35\",\"1970-01-01T10:48:19\",\"1970-01-01T10:48:19\",\"1970-01-01T11:28:25\",\"1970-01-01T11:28:25\",\"1970-01-01T11:28:25\",\"1970-01-01T13:41:12\",\"1970-01-01T13:41:12\",\"1970-01-01T14:21:18\",\"1970-01-01T14:21:18\",\"1970-01-01T14:21:18\",\"1970-01-01T16:34:05\",\"1970-01-01T16:34:05\",\"1970-01-01T17:14:11\",\"1970-01-01T17:14:11\",\"1970-01-01T17:14:11\"],\"y\":[\"Barge I\",\"Barge I\",\"Barge I\",\"Barge I\",null,\"Barge I\",\"Barge I\",\"Barge I\",\"Barge I\",null,\"Barge I\",\"Barge I\",\"Barge I\",\"Barge I\",null,\"Barge I\",\"Barge I\",\"Barge I\",\"Barge I\",null,\"Barge I\",\"Barge I\",\"Barge I\",\"Barge I\",null,\"Barge I\",\"Barge I\",\"Barge I\",\"Barge I\",null,\"Reclamation\",\"Reclamation\",\"Reclamation\",\"Reclamation\",null,\"Reclamation\",\"Reclamation\",\"Reclamation\",\"Reclamation\",null,\"Reclamation\",\"Reclamation\",\"Reclamation\",\"Reclamation\",null,\"Reclamation\",\"Reclamation\",\"Reclamation\",\"Reclamation\",null,\"Reclamation\",\"Reclamation\",\"Reclamation\",\"Reclamation\",null,\"Reclamation\",\"Reclamation\",\"Reclamation\",\"Reclamation\",null],\"type\":\"scatter\"},{\"connectgaps\":false,\"hoverinfo\":\"y+name\",\"line\":{\"color\":\"rgb(212,16,239)\",\"width\":10},\"mode\":\"lines\",\"name\":\"loading:Barge I\",\"x\":[\"1970-01-01T01:10:47\",\"1970-01-01T01:10:47\",\"1970-01-01T01:52:27\",\"1970-01-01T01:52:27\",\"1970-01-01T01:52:27\",\"1970-01-01T03:52:45\",\"1970-01-01T03:52:45\",\"1970-01-01T04:34:25\",\"1970-01-01T04:34:25\",\"1970-01-01T04:34:25\",\"1970-01-01T06:34:43\",\"1970-01-01T06:34:43\",\"1970-01-01T07:16:23\",\"1970-01-01T07:16:23\",\"1970-01-01T07:16:23\",\"1970-01-01T09:26:33\",\"1970-01-01T09:26:33\",\"1970-01-01T10:08:13\",\"1970-01-01T10:08:13\",\"1970-01-01T10:08:13\",\"1970-01-01T12:19:26\",\"1970-01-01T12:19:26\",\"1970-01-01T13:01:06\",\"1970-01-01T13:01:06\",\"1970-01-01T13:01:06\",\"1970-01-01T15:12:19\",\"1970-01-01T15:12:19\",\"1970-01-01T15:53:59\",\"1970-01-01T15:53:59\",\"1970-01-01T15:53:59\",\"1970-01-01T01:10:47\",\"1970-01-01T01:10:47\",\"1970-01-01T01:52:27\",\"1970-01-01T01:52:27\",\"1970-01-01T01:52:27\",\"1970-01-01T03:52:45\",\"1970-01-01T03:52:45\",\"1970-01-01T04:34:25\",\"1970-01-01T04:34:25\",\"1970-01-01T04:34:25\",\"1970-01-01T06:34:43\",\"1970-01-01T06:34:43\",\"1970-01-01T07:16:23\",\"1970-01-01T07:16:23\",\"1970-01-01T07:16:23\",\"1970-01-01T09:26:33\",\"1970-01-01T09:26:33\",\"1970-01-01T10:08:13\",\"1970-01-01T10:08:13\",\"1970-01-01T10:08:13\",\"1970-01-01T12:19:26\",\"1970-01-01T12:19:26\",\"1970-01-01T13:01:06\",\"1970-01-01T13:01:06\",\"1970-01-01T13:01:06\",\"1970-01-01T15:12:19\",\"1970-01-01T15:12:19\",\"1970-01-01T15:53:59\",\"1970-01-01T15:53:59\",\"1970-01-01T15:53:59\",\"1970-01-01T01:10:47\",\"1970-01-01T01:10:47\",\"1970-01-01T01:52:27\",\"1970-01-01T01:52:27\",\"1970-01-01T01:52:27\",\"1970-01-01T03:52:45\",\"1970-01-01T03:52:45\",\"1970-01-01T04:34:25\",\"1970-01-01T04:34:25\",\"1970-01-01T04:34:25\",\"1970-01-01T06:34:43\",\"1970-01-01T06:34:43\",\"1970-01-01T07:16:23\",\"1970-01-01T07:16:23\",\"1970-01-01T07:16:23\",\"1970-01-01T09:26:33\",\"1970-01-01T09:26:33\",\"1970-01-01T10:08:13\",\"1970-01-01T10:08:13\",\"1970-01-01T10:08:13\",\"1970-01-01T12:19:26\",\"1970-01-01T12:19:26\",\"1970-01-01T13:01:06\",\"1970-01-01T13:01:06\",\"1970-01-01T13:01:06\",\"1970-01-01T15:12:19\",\"1970-01-01T15:12:19\",\"1970-01-01T15:53:59\",\"1970-01-01T15:53:59\",\"1970-01-01T15:53:59\"],\"y\":[\"Barge I\",\"Barge I\",\"Barge I\",\"Barge I\",null,\"Barge I\",\"Barge I\",\"Barge I\",\"Barge I\",null,\"Barge I\",\"Barge I\",\"Barge I\",\"Barge I\",null,\"Barge I\",\"Barge I\",\"Barge I\",\"Barge I\",null,\"Barge I\",\"Barge I\",\"Barge I\",\"Barge I\",null,\"Barge I\",\"Barge I\",\"Barge I\",\"Barge I\",null,\"Cutter T\",\"Cutter T\",\"Cutter T\",\"Cutter T\",null,\"Cutter T\",\"Cutter T\",\"Cutter T\",\"Cutter T\",null,\"Cutter T\",\"Cutter T\",\"Cutter T\",\"Cutter T\",null,\"Cutter T\",\"Cutter T\",\"Cutter T\",\"Cutter T\",null,\"Cutter T\",\"Cutter T\",\"Cutter T\",\"Cutter T\",null,\"Cutter T\",\"Cutter T\",\"Cutter T\",\"Cutter T\",null,\"Trench\",\"Trench\",\"Trench\",\"Trench\",null,\"Trench\",\"Trench\",\"Trench\",\"Trench\",null,\"Trench\",\"Trench\",\"Trench\",\"Trench\",null,\"Trench\",\"Trench\",\"Trench\",\"Trench\",null,\"Trench\",\"Trench\",\"Trench\",\"Trench\",null,\"Trench\",\"Trench\",\"Trench\",\"Trench\",null],\"type\":\"scatter\"},{\"connectgaps\":false,\"hoverinfo\":\"y+name\",\"line\":{\"color\":\"rgb(221,25,248)\",\"width\":10},\"mode\":\"lines\",\"name\":\"loading:Carrier C\",\"x\":[\"1970-01-01T00:37:27\",\"1970-01-01T00:37:27\",\"1970-01-01T01:10:47\",\"1970-01-01T01:10:47\",\"1970-01-01T01:10:47\",\"1970-01-01T03:07:27\",\"1970-01-01T03:07:27\",\"1970-01-01T03:40:47\",\"1970-01-01T03:40:47\",\"1970-01-01T03:40:47\",\"1970-01-01T06:00:20\",\"1970-01-01T06:00:20\",\"1970-01-01T06:33:40\",\"1970-01-01T06:33:40\",\"1970-01-01T06:33:40\",\"1970-01-01T08:53:13\",\"1970-01-01T08:53:13\",\"1970-01-01T09:26:33\",\"1970-01-01T09:26:33\",\"1970-01-01T09:26:33\",\"1970-01-01T11:46:06\",\"1970-01-01T11:46:06\",\"1970-01-01T12:19:26\",\"1970-01-01T12:19:26\",\"1970-01-01T12:19:26\",\"1970-01-01T14:38:59\",\"1970-01-01T14:38:59\",\"1970-01-01T15:12:19\",\"1970-01-01T15:12:19\",\"1970-01-01T15:12:19\",\"1970-01-01T00:37:27\",\"1970-01-01T00:37:27\",\"1970-01-01T01:10:47\",\"1970-01-01T01:10:47\",\"1970-01-01T01:10:47\",\"1970-01-01T03:07:27\",\"1970-01-01T03:07:27\",\"1970-01-01T03:40:47\",\"1970-01-01T03:40:47\",\"1970-01-01T03:40:47\",\"1970-01-01T06:00:20\",\"1970-01-01T06:00:20\",\"1970-01-01T06:33:40\",\"1970-01-01T06:33:40\",\"1970-01-01T06:33:40\",\"1970-01-01T08:53:13\",\"1970-01-01T08:53:13\",\"1970-01-01T09:26:33\",\"1970-01-01T09:26:33\",\"1970-01-01T09:26:33\",\"1970-01-01T11:46:06\",\"1970-01-01T11:46:06\",\"1970-01-01T12:19:26\",\"1970-01-01T12:19:26\",\"1970-01-01T12:19:26\",\"1970-01-01T14:38:59\",\"1970-01-01T14:38:59\",\"1970-01-01T15:12:19\",\"1970-01-01T15:12:19\",\"1970-01-01T15:12:19\",\"1970-01-01T00:37:27\",\"1970-01-01T00:37:27\",\"1970-01-01T01:10:47\",\"1970-01-01T01:10:47\",\"1970-01-01T01:10:47\",\"1970-01-01T03:07:27\",\"1970-01-01T03:07:27\",\"1970-01-01T03:40:47\",\"1970-01-01T03:40:47\",\"1970-01-01T03:40:47\",\"1970-01-01T06:00:20\",\"1970-01-01T06:00:20\",\"1970-01-01T06:33:40\",\"1970-01-01T06:33:40\",\"1970-01-01T06:33:40\",\"1970-01-01T08:53:13\",\"1970-01-01T08:53:13\",\"1970-01-01T09:26:33\",\"1970-01-01T09:26:33\",\"1970-01-01T09:26:33\",\"1970-01-01T11:46:06\",\"1970-01-01T11:46:06\",\"1970-01-01T12:19:26\",\"1970-01-01T12:19:26\",\"1970-01-01T12:19:26\",\"1970-01-01T14:38:59\",\"1970-01-01T14:38:59\",\"1970-01-01T15:12:19\",\"1970-01-01T15:12:19\",\"1970-01-01T15:12:19\"],\"y\":[\"Carrier C\",\"Carrier C\",\"Carrier C\",\"Carrier C\",null,\"Carrier C\",\"Carrier C\",\"Carrier C\",\"Carrier C\",null,\"Carrier C\",\"Carrier C\",\"Carrier C\",\"Carrier C\",null,\"Carrier C\",\"Carrier C\",\"Carrier C\",\"Carrier C\",null,\"Carrier C\",\"Carrier C\",\"Carrier C\",\"Carrier C\",null,\"Carrier C\",\"Carrier C\",\"Carrier C\",\"Carrier C\",null,\"Cutter T\",\"Cutter T\",\"Cutter T\",\"Cutter T\",null,\"Cutter T\",\"Cutter T\",\"Cutter T\",\"Cutter T\",null,\"Cutter T\",\"Cutter T\",\"Cutter T\",\"Cutter T\",null,\"Cutter T\",\"Cutter T\",\"Cutter T\",\"Cutter T\",null,\"Cutter T\",\"Cutter T\",\"Cutter T\",\"Cutter T\",null,\"Cutter T\",\"Cutter T\",\"Cutter T\",\"Cutter T\",null,\"Trench\",\"Trench\",\"Trench\",\"Trench\",null,\"Trench\",\"Trench\",\"Trench\",\"Trench\",null,\"Trench\",\"Trench\",\"Trench\",\"Trench\",null,\"Trench\",\"Trench\",\"Trench\",\"Trench\",null,\"Trench\",\"Trench\",\"Trench\",\"Trench\",null,\"Trench\",\"Trench\",\"Trench\",\"Trench\",null],\"type\":\"scatter\"},{\"connectgaps\":false,\"hoverinfo\":\"y+name\",\"line\":{\"color\":\"rgb(230,34,1)\",\"width\":10},\"mode\":\"lines\",\"name\":\"loading:Carrier B\",\"x\":[\"1970-01-01T01:52:27\",\"1970-01-01T01:52:27\",\"1970-01-01T02:34:07\",\"1970-01-01T02:34:07\",\"1970-01-01T02:34:07\",\"1970-01-01T04:37:31\",\"1970-01-01T04:37:31\",\"1970-01-01T05:19:11\",\"1970-01-01T05:19:11\",\"1970-01-01T05:19:11\",\"1970-01-01T07:22:35\",\"1970-01-01T07:22:35\",\"1970-01-01T08:04:15\",\"1970-01-01T08:04:15\",\"1970-01-01T08:04:15\",\"1970-01-01T10:08:13\",\"1970-01-01T10:08:13\",\"1970-01-01T10:49:53\",\"1970-01-01T10:49:53\",\"1970-01-01T10:49:53\",\"1970-01-01T13:01:06\",\"1970-01-01T13:01:06\",\"1970-01-01T13:42:46\",\"1970-01-01T13:42:46\",\"1970-01-01T13:42:46\",\"1970-01-01T15:53:59\",\"1970-01-01T15:53:59\",\"1970-01-01T16:35:39\",\"1970-01-01T16:35:39\",\"1970-01-01T16:35:39\",\"1970-01-01T01:52:27\",\"1970-01-01T01:52:27\",\"1970-01-01T02:34:07\",\"1970-01-01T02:34:07\",\"1970-01-01T02:34:07\",\"1970-01-01T04:37:31\",\"1970-01-01T04:37:31\",\"1970-01-01T05:19:11\",\"1970-01-01T05:19:11\",\"1970-01-01T05:19:11\",\"1970-01-01T07:22:35\",\"1970-01-01T07:22:35\",\"1970-01-01T08:04:15\",\"1970-01-01T08:04:15\",\"1970-01-01T08:04:15\",\"1970-01-01T10:08:13\",\"1970-01-01T10:08:13\",\"1970-01-01T10:49:53\",\"1970-01-01T10:49:53\",\"1970-01-01T10:49:53\",\"1970-01-01T13:01:06\",\"1970-01-01T13:01:06\",\"1970-01-01T13:42:46\",\"1970-01-01T13:42:46\",\"1970-01-01T13:42:46\",\"1970-01-01T15:53:59\",\"1970-01-01T15:53:59\",\"1970-01-01T16:35:39\",\"1970-01-01T16:35:39\",\"1970-01-01T16:35:39\",\"1970-01-01T01:52:27\",\"1970-01-01T01:52:27\",\"1970-01-01T02:34:07\",\"1970-01-01T02:34:07\",\"1970-01-01T02:34:07\",\"1970-01-01T04:37:31\",\"1970-01-01T04:37:31\",\"1970-01-01T05:19:11\",\"1970-01-01T05:19:11\",\"1970-01-01T05:19:11\",\"1970-01-01T07:22:35\",\"1970-01-01T07:22:35\",\"1970-01-01T08:04:15\",\"1970-01-01T08:04:15\",\"1970-01-01T08:04:15\",\"1970-01-01T10:08:13\",\"1970-01-01T10:08:13\",\"1970-01-01T10:49:53\",\"1970-01-01T10:49:53\",\"1970-01-01T10:49:53\",\"1970-01-01T13:01:06\",\"1970-01-01T13:01:06\",\"1970-01-01T13:42:46\",\"1970-01-01T13:42:46\",\"1970-01-01T13:42:46\",\"1970-01-01T15:53:59\",\"1970-01-01T15:53:59\",\"1970-01-01T16:35:39\",\"1970-01-01T16:35:39\",\"1970-01-01T16:35:39\"],\"y\":[\"Carrier B\",\"Carrier B\",\"Carrier B\",\"Carrier B\",null,\"Carrier B\",\"Carrier B\",\"Carrier B\",\"Carrier B\",null,\"Carrier B\",\"Carrier B\",\"Carrier B\",\"Carrier B\",null,\"Carrier B\",\"Carrier B\",\"Carrier B\",\"Carrier B\",null,\"Carrier B\",\"Carrier B\",\"Carrier B\",\"Carrier B\",null,\"Carrier B\",\"Carrier B\",\"Carrier B\",\"Carrier B\",null,\"Cutter T\",\"Cutter T\",\"Cutter T\",\"Cutter T\",null,\"Cutter T\",\"Cutter T\",\"Cutter T\",\"Cutter T\",null,\"Cutter T\",\"Cutter T\",\"Cutter T\",\"Cutter T\",null,\"Cutter T\",\"Cutter T\",\"Cutter T\",\"Cutter T\",null,\"Cutter T\",\"Cutter T\",\"Cutter T\",\"Cutter T\",null,\"Cutter T\",\"Cutter T\",\"Cutter T\",\"Cutter T\",null,\"Trench\",\"Trench\",\"Trench\",\"Trench\",null,\"Trench\",\"Trench\",\"Trench\",\"Trench\",null,\"Trench\",\"Trench\",\"Trench\",\"Trench\",null,\"Trench\",\"Trench\",\"Trench\",\"Trench\",null,\"Trench\",\"Trench\",\"Trench\",\"Trench\",null,\"Trench\",\"Trench\",\"Trench\",\"Trench\",null],\"type\":\"scatter\"},{\"connectgaps\":false,\"hoverinfo\":\"y+name\",\"line\":{\"color\":\"rgb(239,43,10)\",\"width\":10},\"mode\":\"lines\",\"name\":\"loading:Carrier A\",\"x\":[\"1970-01-01T02:34:07\",\"1970-01-01T02:34:07\",\"1970-01-01T03:07:27\",\"1970-01-01T03:07:27\",\"1970-01-01T03:07:27\",\"1970-01-01T05:27:00\",\"1970-01-01T05:27:00\",\"1970-01-01T06:00:20\",\"1970-01-01T06:00:20\",\"1970-01-01T06:00:20\",\"1970-01-01T08:19:53\",\"1970-01-01T08:19:53\",\"1970-01-01T08:53:13\",\"1970-01-01T08:53:13\",\"1970-01-01T08:53:13\",\"1970-01-01T11:12:46\",\"1970-01-01T11:12:46\",\"1970-01-01T11:46:06\",\"1970-01-01T11:46:06\",\"1970-01-01T11:46:06\",\"1970-01-01T14:05:39\",\"1970-01-01T14:05:39\",\"1970-01-01T14:38:59\",\"1970-01-01T14:38:59\",\"1970-01-01T14:38:59\",\"1970-01-01T02:34:07\",\"1970-01-01T02:34:07\",\"1970-01-01T03:07:27\",\"1970-01-01T03:07:27\",\"1970-01-01T03:07:27\",\"1970-01-01T05:27:00\",\"1970-01-01T05:27:00\",\"1970-01-01T06:00:20\",\"1970-01-01T06:00:20\",\"1970-01-01T06:00:20\",\"1970-01-01T08:19:53\",\"1970-01-01T08:19:53\",\"1970-01-01T08:53:13\",\"1970-01-01T08:53:13\",\"1970-01-01T08:53:13\",\"1970-01-01T11:12:46\",\"1970-01-01T11:12:46\",\"1970-01-01T11:46:06\",\"1970-01-01T11:46:06\",\"1970-01-01T11:46:06\",\"1970-01-01T14:05:39\",\"1970-01-01T14:05:39\",\"1970-01-01T14:38:59\",\"1970-01-01T14:38:59\",\"1970-01-01T14:38:59\",\"1970-01-01T02:34:07\",\"1970-01-01T02:34:07\",\"1970-01-01T03:07:27\",\"1970-01-01T03:07:27\",\"1970-01-01T03:07:27\",\"1970-01-01T05:27:00\",\"1970-01-01T05:27:00\",\"1970-01-01T06:00:20\",\"1970-01-01T06:00:20\",\"1970-01-01T06:00:20\",\"1970-01-01T08:19:53\",\"1970-01-01T08:19:53\",\"1970-01-01T08:53:13\",\"1970-01-01T08:53:13\",\"1970-01-01T08:53:13\",\"1970-01-01T11:12:46\",\"1970-01-01T11:12:46\",\"1970-01-01T11:46:06\",\"1970-01-01T11:46:06\",\"1970-01-01T11:46:06\",\"1970-01-01T14:05:39\",\"1970-01-01T14:05:39\",\"1970-01-01T14:38:59\",\"1970-01-01T14:38:59\",\"1970-01-01T14:38:59\"],\"y\":[\"Carrier A\",\"Carrier A\",\"Carrier A\",\"Carrier A\",null,\"Carrier A\",\"Carrier A\",\"Carrier A\",\"Carrier A\",null,\"Carrier A\",\"Carrier A\",\"Carrier A\",\"Carrier A\",null,\"Carrier A\",\"Carrier A\",\"Carrier A\",\"Carrier A\",null,\"Carrier A\",\"Carrier A\",\"Carrier A\",\"Carrier A\",null,\"Cutter T\",\"Cutter T\",\"Cutter T\",\"Cutter T\",null,\"Cutter T\",\"Cutter T\",\"Cutter T\",\"Cutter T\",null,\"Cutter T\",\"Cutter T\",\"Cutter T\",\"Cutter T\",null,\"Cutter T\",\"Cutter T\",\"Cutter T\",\"Cutter T\",null,\"Cutter T\",\"Cutter T\",\"Cutter T\",\"Cutter T\",null,\"Trench\",\"Trench\",\"Trench\",\"Trench\",null,\"Trench\",\"Trench\",\"Trench\",\"Trench\",null,\"Trench\",\"Trench\",\"Trench\",\"Trench\",null,\"Trench\",\"Trench\",\"Trench\",\"Trench\",null,\"Trench\",\"Trench\",\"Trench\",\"Trench\",null],\"type\":\"scatter\"},{\"connectgaps\":false,\"hoverinfo\":\"y+name\",\"line\":{\"color\":\"rgb(248,52,19)\",\"width\":10},\"mode\":\"lines\",\"name\":\"loading:Barge I\",\"x\":[\"1970-01-01T01:10:47\",\"1970-01-01T01:10:47\",\"1970-01-01T01:52:27\",\"1970-01-01T01:52:27\",\"1970-01-01T01:52:27\",\"1970-01-01T03:52:45\",\"1970-01-01T03:52:45\",\"1970-01-01T04:34:25\",\"1970-01-01T04:34:25\",\"1970-01-01T04:34:25\",\"1970-01-01T06:34:43\",\"1970-01-01T06:34:43\",\"1970-01-01T07:16:23\",\"1970-01-01T07:16:23\",\"1970-01-01T07:16:23\",\"1970-01-01T09:26:33\",\"1970-01-01T09:26:33\",\"1970-01-01T10:08:13\",\"1970-01-01T10:08:13\",\"1970-01-01T10:08:13\",\"1970-01-01T12:19:26\",\"1970-01-01T12:19:26\",\"1970-01-01T13:01:06\",\"1970-01-01T13:01:06\",\"1970-01-01T13:01:06\",\"1970-01-01T15:12:19\",\"1970-01-01T15:12:19\",\"1970-01-01T15:53:59\",\"1970-01-01T15:53:59\",\"1970-01-01T15:53:59\",\"1970-01-01T01:10:47\",\"1970-01-01T01:10:47\",\"1970-01-01T01:52:27\",\"1970-01-01T01:52:27\",\"1970-01-01T01:52:27\",\"1970-01-01T03:52:45\",\"1970-01-01T03:52:45\",\"1970-01-01T04:34:25\",\"1970-01-01T04:34:25\",\"1970-01-01T04:34:25\",\"1970-01-01T06:34:43\",\"1970-01-01T06:34:43\",\"1970-01-01T07:16:23\",\"1970-01-01T07:16:23\",\"1970-01-01T07:16:23\",\"1970-01-01T09:26:33\",\"1970-01-01T09:26:33\",\"1970-01-01T10:08:13\",\"1970-01-01T10:08:13\",\"1970-01-01T10:08:13\",\"1970-01-01T12:19:26\",\"1970-01-01T12:19:26\",\"1970-01-01T13:01:06\",\"1970-01-01T13:01:06\",\"1970-01-01T13:01:06\",\"1970-01-01T15:12:19\",\"1970-01-01T15:12:19\",\"1970-01-01T15:53:59\",\"1970-01-01T15:53:59\",\"1970-01-01T15:53:59\",\"1970-01-01T01:10:47\",\"1970-01-01T01:10:47\",\"1970-01-01T01:52:27\",\"1970-01-01T01:52:27\",\"1970-01-01T01:52:27\",\"1970-01-01T03:52:45\",\"1970-01-01T03:52:45\",\"1970-01-01T04:34:25\",\"1970-01-01T04:34:25\",\"1970-01-01T04:34:25\",\"1970-01-01T06:34:43\",\"1970-01-01T06:34:43\",\"1970-01-01T07:16:23\",\"1970-01-01T07:16:23\",\"1970-01-01T07:16:23\",\"1970-01-01T09:26:33\",\"1970-01-01T09:26:33\",\"1970-01-01T10:08:13\",\"1970-01-01T10:08:13\",\"1970-01-01T10:08:13\",\"1970-01-01T12:19:26\",\"1970-01-01T12:19:26\",\"1970-01-01T13:01:06\",\"1970-01-01T13:01:06\",\"1970-01-01T13:01:06\",\"1970-01-01T15:12:19\",\"1970-01-01T15:12:19\",\"1970-01-01T15:53:59\",\"1970-01-01T15:53:59\",\"1970-01-01T15:53:59\"],\"y\":[\"Barge I\",\"Barge I\",\"Barge I\",\"Barge I\",null,\"Barge I\",\"Barge I\",\"Barge I\",\"Barge I\",null,\"Barge I\",\"Barge I\",\"Barge I\",\"Barge I\",null,\"Barge I\",\"Barge I\",\"Barge I\",\"Barge I\",null,\"Barge I\",\"Barge I\",\"Barge I\",\"Barge I\",null,\"Barge I\",\"Barge I\",\"Barge I\",\"Barge I\",null,\"Cutter T\",\"Cutter T\",\"Cutter T\",\"Cutter T\",null,\"Cutter T\",\"Cutter T\",\"Cutter T\",\"Cutter T\",null,\"Cutter T\",\"Cutter T\",\"Cutter T\",\"Cutter T\",null,\"Cutter T\",\"Cutter T\",\"Cutter T\",\"Cutter T\",null,\"Cutter T\",\"Cutter T\",\"Cutter T\",\"Cutter T\",null,\"Cutter T\",\"Cutter T\",\"Cutter T\",\"Cutter T\",null,\"Trench\",\"Trench\",\"Trench\",\"Trench\",null,\"Trench\",\"Trench\",\"Trench\",\"Trench\",null,\"Trench\",\"Trench\",\"Trench\",\"Trench\",null,\"Trench\",\"Trench\",\"Trench\",\"Trench\",null,\"Trench\",\"Trench\",\"Trench\",\"Trench\",null,\"Trench\",\"Trench\",\"Trench\",\"Trench\",null],\"type\":\"scatter\"},{\"connectgaps\":false,\"hoverinfo\":\"y+name\",\"line\":{\"color\":\"rgb(1,61,28)\",\"width\":10},\"mode\":\"lines\",\"name\":\"loading:Carrier C\",\"x\":[\"1970-01-01T00:37:27\",\"1970-01-01T00:37:27\",\"1970-01-01T01:10:47\",\"1970-01-01T01:10:47\",\"1970-01-01T01:10:47\",\"1970-01-01T03:07:27\",\"1970-01-01T03:07:27\",\"1970-01-01T03:40:47\",\"1970-01-01T03:40:47\",\"1970-01-01T03:40:47\",\"1970-01-01T06:00:20\",\"1970-01-01T06:00:20\",\"1970-01-01T06:33:40\",\"1970-01-01T06:33:40\",\"1970-01-01T06:33:40\",\"1970-01-01T08:53:13\",\"1970-01-01T08:53:13\",\"1970-01-01T09:26:33\",\"1970-01-01T09:26:33\",\"1970-01-01T09:26:33\",\"1970-01-01T11:46:06\",\"1970-01-01T11:46:06\",\"1970-01-01T12:19:26\",\"1970-01-01T12:19:26\",\"1970-01-01T12:19:26\",\"1970-01-01T14:38:59\",\"1970-01-01T14:38:59\",\"1970-01-01T15:12:19\",\"1970-01-01T15:12:19\",\"1970-01-01T15:12:19\",\"1970-01-01T00:37:27\",\"1970-01-01T00:37:27\",\"1970-01-01T01:10:47\",\"1970-01-01T01:10:47\",\"1970-01-01T01:10:47\",\"1970-01-01T03:07:27\",\"1970-01-01T03:07:27\",\"1970-01-01T03:40:47\",\"1970-01-01T03:40:47\",\"1970-01-01T03:40:47\",\"1970-01-01T06:00:20\",\"1970-01-01T06:00:20\",\"1970-01-01T06:33:40\",\"1970-01-01T06:33:40\",\"1970-01-01T06:33:40\",\"1970-01-01T08:53:13\",\"1970-01-01T08:53:13\",\"1970-01-01T09:26:33\",\"1970-01-01T09:26:33\",\"1970-01-01T09:26:33\",\"1970-01-01T11:46:06\",\"1970-01-01T11:46:06\",\"1970-01-01T12:19:26\",\"1970-01-01T12:19:26\",\"1970-01-01T12:19:26\",\"1970-01-01T14:38:59\",\"1970-01-01T14:38:59\",\"1970-01-01T15:12:19\",\"1970-01-01T15:12:19\",\"1970-01-01T15:12:19\",\"1970-01-01T00:37:27\",\"1970-01-01T00:37:27\",\"1970-01-01T01:10:47\",\"1970-01-01T01:10:47\",\"1970-01-01T01:10:47\",\"1970-01-01T03:07:27\",\"1970-01-01T03:07:27\",\"1970-01-01T03:40:47\",\"1970-01-01T03:40:47\",\"1970-01-01T03:40:47\",\"1970-01-01T06:00:20\",\"1970-01-01T06:00:20\",\"1970-01-01T06:33:40\",\"1970-01-01T06:33:40\",\"1970-01-01T06:33:40\",\"1970-01-01T08:53:13\",\"1970-01-01T08:53:13\",\"1970-01-01T09:26:33\",\"1970-01-01T09:26:33\",\"1970-01-01T09:26:33\",\"1970-01-01T11:46:06\",\"1970-01-01T11:46:06\",\"1970-01-01T12:19:26\",\"1970-01-01T12:19:26\",\"1970-01-01T12:19:26\",\"1970-01-01T14:38:59\",\"1970-01-01T14:38:59\",\"1970-01-01T15:12:19\",\"1970-01-01T15:12:19\",\"1970-01-01T15:12:19\"],\"y\":[\"Carrier C\",\"Carrier C\",\"Carrier C\",\"Carrier C\",null,\"Carrier C\",\"Carrier C\",\"Carrier C\",\"Carrier C\",null,\"Carrier C\",\"Carrier C\",\"Carrier C\",\"Carrier C\",null,\"Carrier C\",\"Carrier C\",\"Carrier C\",\"Carrier C\",null,\"Carrier C\",\"Carrier C\",\"Carrier C\",\"Carrier C\",null,\"Carrier C\",\"Carrier C\",\"Carrier C\",\"Carrier C\",null,\"Cutter T\",\"Cutter T\",\"Cutter T\",\"Cutter T\",null,\"Cutter T\",\"Cutter T\",\"Cutter T\",\"Cutter T\",null,\"Cutter T\",\"Cutter T\",\"Cutter T\",\"Cutter T\",null,\"Cutter T\",\"Cutter T\",\"Cutter T\",\"Cutter T\",null,\"Cutter T\",\"Cutter T\",\"Cutter T\",\"Cutter T\",null,\"Cutter T\",\"Cutter T\",\"Cutter T\",\"Cutter T\",null,\"Trench\",\"Trench\",\"Trench\",\"Trench\",null,\"Trench\",\"Trench\",\"Trench\",\"Trench\",null,\"Trench\",\"Trench\",\"Trench\",\"Trench\",null,\"Trench\",\"Trench\",\"Trench\",\"Trench\",null,\"Trench\",\"Trench\",\"Trench\",\"Trench\",null,\"Trench\",\"Trench\",\"Trench\",\"Trench\",null],\"type\":\"scatter\"},{\"connectgaps\":false,\"hoverinfo\":\"y+name\",\"line\":{\"color\":\"rgb(10,70,37)\",\"width\":10},\"mode\":\"lines\",\"name\":\"loading:Carrier B\",\"x\":[\"1970-01-01T01:52:27\",\"1970-01-01T01:52:27\",\"1970-01-01T02:34:07\",\"1970-01-01T02:34:07\",\"1970-01-01T02:34:07\",\"1970-01-01T04:37:31\",\"1970-01-01T04:37:31\",\"1970-01-01T05:19:11\",\"1970-01-01T05:19:11\",\"1970-01-01T05:19:11\",\"1970-01-01T07:22:35\",\"1970-01-01T07:22:35\",\"1970-01-01T08:04:15\",\"1970-01-01T08:04:15\",\"1970-01-01T08:04:15\",\"1970-01-01T10:08:13\",\"1970-01-01T10:08:13\",\"1970-01-01T10:49:53\",\"1970-01-01T10:49:53\",\"1970-01-01T10:49:53\",\"1970-01-01T13:01:06\",\"1970-01-01T13:01:06\",\"1970-01-01T13:42:46\",\"1970-01-01T13:42:46\",\"1970-01-01T13:42:46\",\"1970-01-01T15:53:59\",\"1970-01-01T15:53:59\",\"1970-01-01T16:35:39\",\"1970-01-01T16:35:39\",\"1970-01-01T16:35:39\",\"1970-01-01T01:52:27\",\"1970-01-01T01:52:27\",\"1970-01-01T02:34:07\",\"1970-01-01T02:34:07\",\"1970-01-01T02:34:07\",\"1970-01-01T04:37:31\",\"1970-01-01T04:37:31\",\"1970-01-01T05:19:11\",\"1970-01-01T05:19:11\",\"1970-01-01T05:19:11\",\"1970-01-01T07:22:35\",\"1970-01-01T07:22:35\",\"1970-01-01T08:04:15\",\"1970-01-01T08:04:15\",\"1970-01-01T08:04:15\",\"1970-01-01T10:08:13\",\"1970-01-01T10:08:13\",\"1970-01-01T10:49:53\",\"1970-01-01T10:49:53\",\"1970-01-01T10:49:53\",\"1970-01-01T13:01:06\",\"1970-01-01T13:01:06\",\"1970-01-01T13:42:46\",\"1970-01-01T13:42:46\",\"1970-01-01T13:42:46\",\"1970-01-01T15:53:59\",\"1970-01-01T15:53:59\",\"1970-01-01T16:35:39\",\"1970-01-01T16:35:39\",\"1970-01-01T16:35:39\",\"1970-01-01T01:52:27\",\"1970-01-01T01:52:27\",\"1970-01-01T02:34:07\",\"1970-01-01T02:34:07\",\"1970-01-01T02:34:07\",\"1970-01-01T04:37:31\",\"1970-01-01T04:37:31\",\"1970-01-01T05:19:11\",\"1970-01-01T05:19:11\",\"1970-01-01T05:19:11\",\"1970-01-01T07:22:35\",\"1970-01-01T07:22:35\",\"1970-01-01T08:04:15\",\"1970-01-01T08:04:15\",\"1970-01-01T08:04:15\",\"1970-01-01T10:08:13\",\"1970-01-01T10:08:13\",\"1970-01-01T10:49:53\",\"1970-01-01T10:49:53\",\"1970-01-01T10:49:53\",\"1970-01-01T13:01:06\",\"1970-01-01T13:01:06\",\"1970-01-01T13:42:46\",\"1970-01-01T13:42:46\",\"1970-01-01T13:42:46\",\"1970-01-01T15:53:59\",\"1970-01-01T15:53:59\",\"1970-01-01T16:35:39\",\"1970-01-01T16:35:39\",\"1970-01-01T16:35:39\"],\"y\":[\"Carrier B\",\"Carrier B\",\"Carrier B\",\"Carrier B\",null,\"Carrier B\",\"Carrier B\",\"Carrier B\",\"Carrier B\",null,\"Carrier B\",\"Carrier B\",\"Carrier B\",\"Carrier B\",null,\"Carrier B\",\"Carrier B\",\"Carrier B\",\"Carrier B\",null,\"Carrier B\",\"Carrier B\",\"Carrier B\",\"Carrier B\",null,\"Carrier B\",\"Carrier B\",\"Carrier B\",\"Carrier B\",null,\"Cutter T\",\"Cutter T\",\"Cutter T\",\"Cutter T\",null,\"Cutter T\",\"Cutter T\",\"Cutter T\",\"Cutter T\",null,\"Cutter T\",\"Cutter T\",\"Cutter T\",\"Cutter T\",null,\"Cutter T\",\"Cutter T\",\"Cutter T\",\"Cutter T\",null,\"Cutter T\",\"Cutter T\",\"Cutter T\",\"Cutter T\",null,\"Cutter T\",\"Cutter T\",\"Cutter T\",\"Cutter T\",null,\"Trench\",\"Trench\",\"Trench\",\"Trench\",null,\"Trench\",\"Trench\",\"Trench\",\"Trench\",null,\"Trench\",\"Trench\",\"Trench\",\"Trench\",null,\"Trench\",\"Trench\",\"Trench\",\"Trench\",null,\"Trench\",\"Trench\",\"Trench\",\"Trench\",null,\"Trench\",\"Trench\",\"Trench\",\"Trench\",null],\"type\":\"scatter\"},{\"connectgaps\":false,\"hoverinfo\":\"y+name\",\"line\":{\"color\":\"rgb(19,79,46)\",\"width\":10},\"mode\":\"lines\",\"name\":\"loading:Carrier A\",\"x\":[\"1970-01-01T02:34:07\",\"1970-01-01T02:34:07\",\"1970-01-01T03:07:27\",\"1970-01-01T03:07:27\",\"1970-01-01T03:07:27\",\"1970-01-01T05:27:00\",\"1970-01-01T05:27:00\",\"1970-01-01T06:00:20\",\"1970-01-01T06:00:20\",\"1970-01-01T06:00:20\",\"1970-01-01T08:19:53\",\"1970-01-01T08:19:53\",\"1970-01-01T08:53:13\",\"1970-01-01T08:53:13\",\"1970-01-01T08:53:13\",\"1970-01-01T11:12:46\",\"1970-01-01T11:12:46\",\"1970-01-01T11:46:06\",\"1970-01-01T11:46:06\",\"1970-01-01T11:46:06\",\"1970-01-01T14:05:39\",\"1970-01-01T14:05:39\",\"1970-01-01T14:38:59\",\"1970-01-01T14:38:59\",\"1970-01-01T14:38:59\",\"1970-01-01T02:34:07\",\"1970-01-01T02:34:07\",\"1970-01-01T03:07:27\",\"1970-01-01T03:07:27\",\"1970-01-01T03:07:27\",\"1970-01-01T05:27:00\",\"1970-01-01T05:27:00\",\"1970-01-01T06:00:20\",\"1970-01-01T06:00:20\",\"1970-01-01T06:00:20\",\"1970-01-01T08:19:53\",\"1970-01-01T08:19:53\",\"1970-01-01T08:53:13\",\"1970-01-01T08:53:13\",\"1970-01-01T08:53:13\",\"1970-01-01T11:12:46\",\"1970-01-01T11:12:46\",\"1970-01-01T11:46:06\",\"1970-01-01T11:46:06\",\"1970-01-01T11:46:06\",\"1970-01-01T14:05:39\",\"1970-01-01T14:05:39\",\"1970-01-01T14:38:59\",\"1970-01-01T14:38:59\",\"1970-01-01T14:38:59\",\"1970-01-01T02:34:07\",\"1970-01-01T02:34:07\",\"1970-01-01T03:07:27\",\"1970-01-01T03:07:27\",\"1970-01-01T03:07:27\",\"1970-01-01T05:27:00\",\"1970-01-01T05:27:00\",\"1970-01-01T06:00:20\",\"1970-01-01T06:00:20\",\"1970-01-01T06:00:20\",\"1970-01-01T08:19:53\",\"1970-01-01T08:19:53\",\"1970-01-01T08:53:13\",\"1970-01-01T08:53:13\",\"1970-01-01T08:53:13\",\"1970-01-01T11:12:46\",\"1970-01-01T11:12:46\",\"1970-01-01T11:46:06\",\"1970-01-01T11:46:06\",\"1970-01-01T11:46:06\",\"1970-01-01T14:05:39\",\"1970-01-01T14:05:39\",\"1970-01-01T14:38:59\",\"1970-01-01T14:38:59\",\"1970-01-01T14:38:59\"],\"y\":[\"Carrier A\",\"Carrier A\",\"Carrier A\",\"Carrier A\",null,\"Carrier A\",\"Carrier A\",\"Carrier A\",\"Carrier A\",null,\"Carrier A\",\"Carrier A\",\"Carrier A\",\"Carrier A\",null,\"Carrier A\",\"Carrier A\",\"Carrier A\",\"Carrier A\",null,\"Carrier A\",\"Carrier A\",\"Carrier A\",\"Carrier A\",null,\"Cutter T\",\"Cutter T\",\"Cutter T\",\"Cutter T\",null,\"Cutter T\",\"Cutter T\",\"Cutter T\",\"Cutter T\",null,\"Cutter T\",\"Cutter T\",\"Cutter T\",\"Cutter T\",null,\"Cutter T\",\"Cutter T\",\"Cutter T\",\"Cutter T\",null,\"Cutter T\",\"Cutter T\",\"Cutter T\",\"Cutter T\",null,\"Trench\",\"Trench\",\"Trench\",\"Trench\",null,\"Trench\",\"Trench\",\"Trench\",\"Trench\",null,\"Trench\",\"Trench\",\"Trench\",\"Trench\",null,\"Trench\",\"Trench\",\"Trench\",\"Trench\",null,\"Trench\",\"Trench\",\"Trench\",\"Trench\",null],\"type\":\"scatter\"},{\"connectgaps\":false,\"hoverinfo\":\"y+name\",\"line\":{\"color\":\"rgb(28,88,55)\",\"width\":10},\"mode\":\"lines\",\"name\":\"loading:Barge I\",\"x\":[\"1970-01-01T01:10:47\",\"1970-01-01T01:10:47\",\"1970-01-01T01:52:27\",\"1970-01-01T01:52:27\",\"1970-01-01T01:52:27\",\"1970-01-01T03:52:45\",\"1970-01-01T03:52:45\",\"1970-01-01T04:34:25\",\"1970-01-01T04:34:25\",\"1970-01-01T04:34:25\",\"1970-01-01T06:34:43\",\"1970-01-01T06:34:43\",\"1970-01-01T07:16:23\",\"1970-01-01T07:16:23\",\"1970-01-01T07:16:23\",\"1970-01-01T09:26:33\",\"1970-01-01T09:26:33\",\"1970-01-01T10:08:13\",\"1970-01-01T10:08:13\",\"1970-01-01T10:08:13\",\"1970-01-01T12:19:26\",\"1970-01-01T12:19:26\",\"1970-01-01T13:01:06\",\"1970-01-01T13:01:06\",\"1970-01-01T13:01:06\",\"1970-01-01T15:12:19\",\"1970-01-01T15:12:19\",\"1970-01-01T15:53:59\",\"1970-01-01T15:53:59\",\"1970-01-01T15:53:59\",\"1970-01-01T01:10:47\",\"1970-01-01T01:10:47\",\"1970-01-01T01:52:27\",\"1970-01-01T01:52:27\",\"1970-01-01T01:52:27\",\"1970-01-01T03:52:45\",\"1970-01-01T03:52:45\",\"1970-01-01T04:34:25\",\"1970-01-01T04:34:25\",\"1970-01-01T04:34:25\",\"1970-01-01T06:34:43\",\"1970-01-01T06:34:43\",\"1970-01-01T07:16:23\",\"1970-01-01T07:16:23\",\"1970-01-01T07:16:23\",\"1970-01-01T09:26:33\",\"1970-01-01T09:26:33\",\"1970-01-01T10:08:13\",\"1970-01-01T10:08:13\",\"1970-01-01T10:08:13\",\"1970-01-01T12:19:26\",\"1970-01-01T12:19:26\",\"1970-01-01T13:01:06\",\"1970-01-01T13:01:06\",\"1970-01-01T13:01:06\",\"1970-01-01T15:12:19\",\"1970-01-01T15:12:19\",\"1970-01-01T15:53:59\",\"1970-01-01T15:53:59\",\"1970-01-01T15:53:59\",\"1970-01-01T01:10:47\",\"1970-01-01T01:10:47\",\"1970-01-01T01:52:27\",\"1970-01-01T01:52:27\",\"1970-01-01T01:52:27\",\"1970-01-01T03:52:45\",\"1970-01-01T03:52:45\",\"1970-01-01T04:34:25\",\"1970-01-01T04:34:25\",\"1970-01-01T04:34:25\",\"1970-01-01T06:34:43\",\"1970-01-01T06:34:43\",\"1970-01-01T07:16:23\",\"1970-01-01T07:16:23\",\"1970-01-01T07:16:23\",\"1970-01-01T09:26:33\",\"1970-01-01T09:26:33\",\"1970-01-01T10:08:13\",\"1970-01-01T10:08:13\",\"1970-01-01T10:08:13\",\"1970-01-01T12:19:26\",\"1970-01-01T12:19:26\",\"1970-01-01T13:01:06\",\"1970-01-01T13:01:06\",\"1970-01-01T13:01:06\",\"1970-01-01T15:12:19\",\"1970-01-01T15:12:19\",\"1970-01-01T15:53:59\",\"1970-01-01T15:53:59\",\"1970-01-01T15:53:59\"],\"y\":[\"Barge I\",\"Barge I\",\"Barge I\",\"Barge I\",null,\"Barge I\",\"Barge I\",\"Barge I\",\"Barge I\",null,\"Barge I\",\"Barge I\",\"Barge I\",\"Barge I\",null,\"Barge I\",\"Barge I\",\"Barge I\",\"Barge I\",null,\"Barge I\",\"Barge I\",\"Barge I\",\"Barge I\",null,\"Barge I\",\"Barge I\",\"Barge I\",\"Barge I\",null,\"Cutter T\",\"Cutter T\",\"Cutter T\",\"Cutter T\",null,\"Cutter T\",\"Cutter T\",\"Cutter T\",\"Cutter T\",null,\"Cutter T\",\"Cutter T\",\"Cutter T\",\"Cutter T\",null,\"Cutter T\",\"Cutter T\",\"Cutter T\",\"Cutter T\",null,\"Cutter T\",\"Cutter T\",\"Cutter T\",\"Cutter T\",null,\"Cutter T\",\"Cutter T\",\"Cutter T\",\"Cutter T\",null,\"Trench\",\"Trench\",\"Trench\",\"Trench\",null,\"Trench\",\"Trench\",\"Trench\",\"Trench\",null,\"Trench\",\"Trench\",\"Trench\",\"Trench\",null,\"Trench\",\"Trench\",\"Trench\",\"Trench\",null,\"Trench\",\"Trench\",\"Trench\",\"Trench\",null,\"Trench\",\"Trench\",\"Trench\",\"Trench\",null],\"type\":\"scatter\"},{\"connectgaps\":false,\"hoverinfo\":\"y+name\",\"line\":{\"color\":\"rgb(37,97,64)\",\"width\":10},\"mode\":\"lines\",\"name\":\"unloading:Barge I\",\"x\":[\"1970-01-01T02:32:33\",\"1970-01-01T02:32:33\",\"1970-01-01T03:12:39\",\"1970-01-01T03:12:39\",\"1970-01-01T03:12:39\",\"1970-01-01T05:14:31\",\"1970-01-01T05:14:31\",\"1970-01-01T05:54:37\",\"1970-01-01T05:54:37\",\"1970-01-01T05:54:37\",\"1970-01-01T07:56:29\",\"1970-01-01T07:56:29\",\"1970-01-01T08:36:35\",\"1970-01-01T08:36:35\",\"1970-01-01T08:36:35\",\"1970-01-01T10:48:19\",\"1970-01-01T10:48:19\",\"1970-01-01T11:28:25\",\"1970-01-01T11:28:25\",\"1970-01-01T11:28:25\",\"1970-01-01T13:41:12\",\"1970-01-01T13:41:12\",\"1970-01-01T14:21:18\",\"1970-01-01T14:21:18\",\"1970-01-01T14:21:18\",\"1970-01-01T16:34:05\",\"1970-01-01T16:34:05\",\"1970-01-01T17:14:11\",\"1970-01-01T17:14:11\",\"1970-01-01T17:14:11\",\"1970-01-01T02:32:33\",\"1970-01-01T02:32:33\",\"1970-01-01T03:12:39\",\"1970-01-01T03:12:39\",\"1970-01-01T03:12:39\",\"1970-01-01T05:14:31\",\"1970-01-01T05:14:31\",\"1970-01-01T05:54:37\",\"1970-01-01T05:54:37\",\"1970-01-01T05:54:37\",\"1970-01-01T07:56:29\",\"1970-01-01T07:56:29\",\"1970-01-01T08:36:35\",\"1970-01-01T08:36:35\",\"1970-01-01T08:36:35\",\"1970-01-01T10:48:19\",\"1970-01-01T10:48:19\",\"1970-01-01T11:28:25\",\"1970-01-01T11:28:25\",\"1970-01-01T11:28:25\",\"1970-01-01T13:41:12\",\"1970-01-01T13:41:12\",\"1970-01-01T14:21:18\",\"1970-01-01T14:21:18\",\"1970-01-01T14:21:18\",\"1970-01-01T16:34:05\",\"1970-01-01T16:34:05\",\"1970-01-01T17:14:11\",\"1970-01-01T17:14:11\",\"1970-01-01T17:14:11\"],\"y\":[\"Barge I\",\"Barge I\",\"Barge I\",\"Barge I\",null,\"Barge I\",\"Barge I\",\"Barge I\",\"Barge I\",null,\"Barge I\",\"Barge I\",\"Barge I\",\"Barge I\",null,\"Barge I\",\"Barge I\",\"Barge I\",\"Barge I\",null,\"Barge I\",\"Barge I\",\"Barge I\",\"Barge I\",null,\"Barge I\",\"Barge I\",\"Barge I\",\"Barge I\",null,\"Reclamation\",\"Reclamation\",\"Reclamation\",\"Reclamation\",null,\"Reclamation\",\"Reclamation\",\"Reclamation\",\"Reclamation\",null,\"Reclamation\",\"Reclamation\",\"Reclamation\",\"Reclamation\",null,\"Reclamation\",\"Reclamation\",\"Reclamation\",\"Reclamation\",null,\"Reclamation\",\"Reclamation\",\"Reclamation\",\"Reclamation\",null,\"Reclamation\",\"Reclamation\",\"Reclamation\",\"Reclamation\",null],\"type\":\"scatter\"},{\"connectgaps\":false,\"hoverinfo\":\"y+name\",\"line\":{\"color\":\"rgb(46,106,73)\",\"width\":10},\"mode\":\"lines\",\"name\":\"unloading:Carrier A\",\"x\":[\"1970-01-01T03:53:58\",\"1970-01-01T03:53:58\",\"1970-01-01T04:40:29\",\"1970-01-01T04:40:29\",\"1970-01-01T04:40:29\",\"1970-01-01T06:46:51\",\"1970-01-01T06:46:51\",\"1970-01-01T07:33:22\",\"1970-01-01T07:33:22\",\"1970-01-01T07:33:22\",\"1970-01-01T09:39:44\",\"1970-01-01T09:39:44\",\"1970-01-01T10:26:15\",\"1970-01-01T10:26:15\",\"1970-01-01T10:26:15\",\"1970-01-01T12:32:37\",\"1970-01-01T12:32:37\",\"1970-01-01T13:19:08\",\"1970-01-01T13:19:08\",\"1970-01-01T13:19:08\",\"1970-01-01T15:25:30\",\"1970-01-01T15:25:30\",\"1970-01-01T16:12:01\",\"1970-01-01T16:12:01\",\"1970-01-01T16:12:01\",\"1970-01-01T03:53:58\",\"1970-01-01T03:53:58\",\"1970-01-01T04:40:29\",\"1970-01-01T04:40:29\",\"1970-01-01T04:40:29\",\"1970-01-01T06:46:51\",\"1970-01-01T06:46:51\",\"1970-01-01T07:33:22\",\"1970-01-01T07:33:22\",\"1970-01-01T07:33:22\",\"1970-01-01T09:39:44\",\"1970-01-01T09:39:44\",\"1970-01-01T10:26:15\",\"1970-01-01T10:26:15\",\"1970-01-01T10:26:15\",\"1970-01-01T12:32:37\",\"1970-01-01T12:32:37\",\"1970-01-01T13:19:08\",\"1970-01-01T13:19:08\",\"1970-01-01T13:19:08\",\"1970-01-01T15:25:30\",\"1970-01-01T15:25:30\",\"1970-01-01T16:12:01\",\"1970-01-01T16:12:01\",\"1970-01-01T16:12:01\"],\"y\":[\"Carrier A\",\"Carrier A\",\"Carrier A\",\"Carrier A\",null,\"Carrier A\",\"Carrier A\",\"Carrier A\",\"Carrier A\",null,\"Carrier A\",\"Carrier A\",\"Carrier A\",\"Carrier A\",null,\"Carrier A\",\"Carrier A\",\"Carrier A\",\"Carrier A\",null,\"Carrier A\",\"Carrier A\",\"Carrier A\",\"Carrier A\",null,\"Reclamation\",\"Reclamation\",\"Reclamation\",\"Reclamation\",null,\"Reclamation\",\"Reclamation\",\"Reclamation\",\"Reclamation\",null,\"Reclamation\",\"Reclamation\",\"Reclamation\",\"Reclamation\",null,\"Reclamation\",\"Reclamation\",\"Reclamation\",\"Reclamation\",null,\"Reclamation\",\"Reclamation\",\"Reclamation\",\"Reclamation\",null],\"type\":\"scatter\"},{\"connectgaps\":false,\"hoverinfo\":\"y+name\",\"line\":{\"color\":\"rgb(55,115,82)\",\"width\":10},\"mode\":\"lines\",\"name\":\"unloading:Carrier C\",\"x\":[\"1970-01-01T01:48:14\",\"1970-01-01T01:48:14\",\"1970-01-01T02:25:41\",\"1970-01-01T02:25:41\",\"1970-01-01T02:25:41\",\"1970-01-01T04:18:14\",\"1970-01-01T04:18:14\",\"1970-01-01T04:55:41\",\"1970-01-01T04:55:41\",\"1970-01-01T04:55:41\",\"1970-01-01T07:11:07\",\"1970-01-01T07:11:07\",\"1970-01-01T07:48:34\",\"1970-01-01T07:48:34\",\"1970-01-01T07:48:34\",\"1970-01-01T10:04:00\",\"1970-01-01T10:04:00\",\"1970-01-01T10:41:27\",\"1970-01-01T10:41:27\",\"1970-01-01T10:41:27\",\"1970-01-01T12:56:53\",\"1970-01-01T12:56:53\",\"1970-01-01T13:34:20\",\"1970-01-01T13:34:20\",\"1970-01-01T13:34:20\",\"1970-01-01T15:49:46\",\"1970-01-01T15:49:46\",\"1970-01-01T16:27:13\",\"1970-01-01T16:27:13\",\"1970-01-01T16:27:13\",\"1970-01-01T01:48:14\",\"1970-01-01T01:48:14\",\"1970-01-01T02:25:41\",\"1970-01-01T02:25:41\",\"1970-01-01T02:25:41\",\"1970-01-01T04:18:14\",\"1970-01-01T04:18:14\",\"1970-01-01T04:55:41\",\"1970-01-01T04:55:41\",\"1970-01-01T04:55:41\",\"1970-01-01T07:11:07\",\"1970-01-01T07:11:07\",\"1970-01-01T07:48:34\",\"1970-01-01T07:48:34\",\"1970-01-01T07:48:34\",\"1970-01-01T10:04:00\",\"1970-01-01T10:04:00\",\"1970-01-01T10:41:27\",\"1970-01-01T10:41:27\",\"1970-01-01T10:41:27\",\"1970-01-01T12:56:53\",\"1970-01-01T12:56:53\",\"1970-01-01T13:34:20\",\"1970-01-01T13:34:20\",\"1970-01-01T13:34:20\",\"1970-01-01T15:49:46\",\"1970-01-01T15:49:46\",\"1970-01-01T16:27:13\",\"1970-01-01T16:27:13\",\"1970-01-01T16:27:13\"],\"y\":[\"Carrier C\",\"Carrier C\",\"Carrier C\",\"Carrier C\",null,\"Carrier C\",\"Carrier C\",\"Carrier C\",\"Carrier C\",null,\"Carrier C\",\"Carrier C\",\"Carrier C\",\"Carrier C\",null,\"Carrier C\",\"Carrier C\",\"Carrier C\",\"Carrier C\",null,\"Carrier C\",\"Carrier C\",\"Carrier C\",\"Carrier C\",null,\"Carrier C\",\"Carrier C\",\"Carrier C\",\"Carrier C\",null,\"Reclamation\",\"Reclamation\",\"Reclamation\",\"Reclamation\",null,\"Reclamation\",\"Reclamation\",\"Reclamation\",\"Reclamation\",null,\"Reclamation\",\"Reclamation\",\"Reclamation\",\"Reclamation\",null,\"Reclamation\",\"Reclamation\",\"Reclamation\",\"Reclamation\",null,\"Reclamation\",\"Reclamation\",\"Reclamation\",\"Reclamation\",null,\"Reclamation\",\"Reclamation\",\"Reclamation\",\"Reclamation\",null],\"type\":\"scatter\"},{\"connectgaps\":false,\"hoverinfo\":\"y+name\",\"line\":{\"color\":\"rgb(64,124,91)\",\"width\":10},\"mode\":\"lines\",\"name\":\"unloading:Carrier B\",\"x\":[\"1970-01-01T03:15:15\",\"1970-01-01T03:15:15\",\"1970-01-01T03:56:23\",\"1970-01-01T03:56:23\",\"1970-01-01T03:56:23\",\"1970-01-01T06:00:19\",\"1970-01-01T06:00:19\",\"1970-01-01T06:41:27\",\"1970-01-01T06:41:27\",\"1970-01-01T06:41:27\",\"1970-01-01T08:45:23\",\"1970-01-01T08:45:23\",\"1970-01-01T09:26:31\",\"1970-01-01T09:26:31\",\"1970-01-01T09:26:31\",\"1970-01-01T11:31:01\",\"1970-01-01T11:31:01\",\"1970-01-01T12:12:09\",\"1970-01-01T12:12:09\",\"1970-01-01T12:12:09\",\"1970-01-01T14:23:54\",\"1970-01-01T14:23:54\",\"1970-01-01T15:05:02\",\"1970-01-01T15:05:02\",\"1970-01-01T15:05:02\",\"1970-01-01T17:16:47\",\"1970-01-01T17:16:47\",\"1970-01-01T17:57:55\",\"1970-01-01T17:57:55\",\"1970-01-01T17:57:55\",\"1970-01-01T03:15:15\",\"1970-01-01T03:15:15\",\"1970-01-01T03:56:23\",\"1970-01-01T03:56:23\",\"1970-01-01T03:56:23\",\"1970-01-01T06:00:19\",\"1970-01-01T06:00:19\",\"1970-01-01T06:41:27\",\"1970-01-01T06:41:27\",\"1970-01-01T06:41:27\",\"1970-01-01T08:45:23\",\"1970-01-01T08:45:23\",\"1970-01-01T09:26:31\",\"1970-01-01T09:26:31\",\"1970-01-01T09:26:31\",\"1970-01-01T11:31:01\",\"1970-01-01T11:31:01\",\"1970-01-01T12:12:09\",\"1970-01-01T12:12:09\",\"1970-01-01T12:12:09\",\"1970-01-01T14:23:54\",\"1970-01-01T14:23:54\",\"1970-01-01T15:05:02\",\"1970-01-01T15:05:02\",\"1970-01-01T15:05:02\",\"1970-01-01T17:16:47\",\"1970-01-01T17:16:47\",\"1970-01-01T17:57:55\",\"1970-01-01T17:57:55\",\"1970-01-01T17:57:55\"],\"y\":[\"Carrier B\",\"Carrier B\",\"Carrier B\",\"Carrier B\",null,\"Carrier B\",\"Carrier B\",\"Carrier B\",\"Carrier B\",null,\"Carrier B\",\"Carrier B\",\"Carrier B\",\"Carrier B\",null,\"Carrier B\",\"Carrier B\",\"Carrier B\",\"Carrier B\",null,\"Carrier B\",\"Carrier B\",\"Carrier B\",\"Carrier B\",null,\"Carrier B\",\"Carrier B\",\"Carrier B\",\"Carrier B\",null,\"Reclamation\",\"Reclamation\",\"Reclamation\",\"Reclamation\",null,\"Reclamation\",\"Reclamation\",\"Reclamation\",\"Reclamation\",null,\"Reclamation\",\"Reclamation\",\"Reclamation\",\"Reclamation\",null,\"Reclamation\",\"Reclamation\",\"Reclamation\",\"Reclamation\",null,\"Reclamation\",\"Reclamation\",\"Reclamation\",\"Reclamation\",null,\"Reclamation\",\"Reclamation\",\"Reclamation\",\"Reclamation\",null],\"type\":\"scatter\"}],                        {\"hovermode\":\"closest\",\"legend\":{\"orientation\":\"h\",\"x\":0,\"y\":-0.2},\"showlegend\":false,\"template\":{\"data\":{\"barpolar\":[{\"marker\":{\"line\":{\"color\":\"#E5ECF6\",\"width\":0.5},\"pattern\":{\"fillmode\":\"overlay\",\"size\":10,\"solidity\":0.2}},\"type\":\"barpolar\"}],\"bar\":[{\"error_x\":{\"color\":\"#2a3f5f\"},\"error_y\":{\"color\":\"#2a3f5f\"},\"marker\":{\"line\":{\"color\":\"#E5ECF6\",\"width\":0.5},\"pattern\":{\"fillmode\":\"overlay\",\"size\":10,\"solidity\":0.2}},\"type\":\"bar\"}],\"carpet\":[{\"aaxis\":{\"endlinecolor\":\"#2a3f5f\",\"gridcolor\":\"white\",\"linecolor\":\"white\",\"minorgridcolor\":\"white\",\"startlinecolor\":\"#2a3f5f\"},\"baxis\":{\"endlinecolor\":\"#2a3f5f\",\"gridcolor\":\"white\",\"linecolor\":\"white\",\"minorgridcolor\":\"white\",\"startlinecolor\":\"#2a3f5f\"},\"type\":\"carpet\"}],\"choropleth\":[{\"colorbar\":{\"outlinewidth\":0,\"ticks\":\"\"},\"type\":\"choropleth\"}],\"contourcarpet\":[{\"colorbar\":{\"outlinewidth\":0,\"ticks\":\"\"},\"type\":\"contourcarpet\"}],\"contour\":[{\"colorbar\":{\"outlinewidth\":0,\"ticks\":\"\"},\"colorscale\":[[0.0,\"#0d0887\"],[0.1111111111111111,\"#46039f\"],[0.2222222222222222,\"#7201a8\"],[0.3333333333333333,\"#9c179e\"],[0.4444444444444444,\"#bd3786\"],[0.5555555555555556,\"#d8576b\"],[0.6666666666666666,\"#ed7953\"],[0.7777777777777778,\"#fb9f3a\"],[0.8888888888888888,\"#fdca26\"],[1.0,\"#f0f921\"]],\"type\":\"contour\"}],\"heatmapgl\":[{\"colorbar\":{\"outlinewidth\":0,\"ticks\":\"\"},\"colorscale\":[[0.0,\"#0d0887\"],[0.1111111111111111,\"#46039f\"],[0.2222222222222222,\"#7201a8\"],[0.3333333333333333,\"#9c179e\"],[0.4444444444444444,\"#bd3786\"],[0.5555555555555556,\"#d8576b\"],[0.6666666666666666,\"#ed7953\"],[0.7777777777777778,\"#fb9f3a\"],[0.8888888888888888,\"#fdca26\"],[1.0,\"#f0f921\"]],\"type\":\"heatmapgl\"}],\"heatmap\":[{\"colorbar\":{\"outlinewidth\":0,\"ticks\":\"\"},\"colorscale\":[[0.0,\"#0d0887\"],[0.1111111111111111,\"#46039f\"],[0.2222222222222222,\"#7201a8\"],[0.3333333333333333,\"#9c179e\"],[0.4444444444444444,\"#bd3786\"],[0.5555555555555556,\"#d8576b\"],[0.6666666666666666,\"#ed7953\"],[0.7777777777777778,\"#fb9f3a\"],[0.8888888888888888,\"#fdca26\"],[1.0,\"#f0f921\"]],\"type\":\"heatmap\"}],\"histogram2dcontour\":[{\"colorbar\":{\"outlinewidth\":0,\"ticks\":\"\"},\"colorscale\":[[0.0,\"#0d0887\"],[0.1111111111111111,\"#46039f\"],[0.2222222222222222,\"#7201a8\"],[0.3333333333333333,\"#9c179e\"],[0.4444444444444444,\"#bd3786\"],[0.5555555555555556,\"#d8576b\"],[0.6666666666666666,\"#ed7953\"],[0.7777777777777778,\"#fb9f3a\"],[0.8888888888888888,\"#fdca26\"],[1.0,\"#f0f921\"]],\"type\":\"histogram2dcontour\"}],\"histogram2d\":[{\"colorbar\":{\"outlinewidth\":0,\"ticks\":\"\"},\"colorscale\":[[0.0,\"#0d0887\"],[0.1111111111111111,\"#46039f\"],[0.2222222222222222,\"#7201a8\"],[0.3333333333333333,\"#9c179e\"],[0.4444444444444444,\"#bd3786\"],[0.5555555555555556,\"#d8576b\"],[0.6666666666666666,\"#ed7953\"],[0.7777777777777778,\"#fb9f3a\"],[0.8888888888888888,\"#fdca26\"],[1.0,\"#f0f921\"]],\"type\":\"histogram2d\"}],\"histogram\":[{\"marker\":{\"pattern\":{\"fillmode\":\"overlay\",\"size\":10,\"solidity\":0.2}},\"type\":\"histogram\"}],\"mesh3d\":[{\"colorbar\":{\"outlinewidth\":0,\"ticks\":\"\"},\"type\":\"mesh3d\"}],\"parcoords\":[{\"line\":{\"colorbar\":{\"outlinewidth\":0,\"ticks\":\"\"}},\"type\":\"parcoords\"}],\"pie\":[{\"automargin\":true,\"type\":\"pie\"}],\"scatter3d\":[{\"line\":{\"colorbar\":{\"outlinewidth\":0,\"ticks\":\"\"}},\"marker\":{\"colorbar\":{\"outlinewidth\":0,\"ticks\":\"\"}},\"type\":\"scatter3d\"}],\"scattercarpet\":[{\"marker\":{\"colorbar\":{\"outlinewidth\":0,\"ticks\":\"\"}},\"type\":\"scattercarpet\"}],\"scattergeo\":[{\"marker\":{\"colorbar\":{\"outlinewidth\":0,\"ticks\":\"\"}},\"type\":\"scattergeo\"}],\"scattergl\":[{\"marker\":{\"colorbar\":{\"outlinewidth\":0,\"ticks\":\"\"}},\"type\":\"scattergl\"}],\"scattermapbox\":[{\"marker\":{\"colorbar\":{\"outlinewidth\":0,\"ticks\":\"\"}},\"type\":\"scattermapbox\"}],\"scatterpolargl\":[{\"marker\":{\"colorbar\":{\"outlinewidth\":0,\"ticks\":\"\"}},\"type\":\"scatterpolargl\"}],\"scatterpolar\":[{\"marker\":{\"colorbar\":{\"outlinewidth\":0,\"ticks\":\"\"}},\"type\":\"scatterpolar\"}],\"scatter\":[{\"fillpattern\":{\"fillmode\":\"overlay\",\"size\":10,\"solidity\":0.2},\"type\":\"scatter\"}],\"scatterternary\":[{\"marker\":{\"colorbar\":{\"outlinewidth\":0,\"ticks\":\"\"}},\"type\":\"scatterternary\"}],\"surface\":[{\"colorbar\":{\"outlinewidth\":0,\"ticks\":\"\"},\"colorscale\":[[0.0,\"#0d0887\"],[0.1111111111111111,\"#46039f\"],[0.2222222222222222,\"#7201a8\"],[0.3333333333333333,\"#9c179e\"],[0.4444444444444444,\"#bd3786\"],[0.5555555555555556,\"#d8576b\"],[0.6666666666666666,\"#ed7953\"],[0.7777777777777778,\"#fb9f3a\"],[0.8888888888888888,\"#fdca26\"],[1.0,\"#f0f921\"]],\"type\":\"surface\"}],\"table\":[{\"cells\":{\"fill\":{\"color\":\"#EBF0F8\"},\"line\":{\"color\":\"white\"}},\"header\":{\"fill\":{\"color\":\"#C8D4E3\"},\"line\":{\"color\":\"white\"}},\"type\":\"table\"}]},\"layout\":{\"annotationdefaults\":{\"arrowcolor\":\"#2a3f5f\",\"arrowhead\":0,\"arrowwidth\":1},\"autotypenumbers\":\"strict\",\"coloraxis\":{\"colorbar\":{\"outlinewidth\":0,\"ticks\":\"\"}},\"colorscale\":{\"diverging\":[[0,\"#8e0152\"],[0.1,\"#c51b7d\"],[0.2,\"#de77ae\"],[0.3,\"#f1b6da\"],[0.4,\"#fde0ef\"],[0.5,\"#f7f7f7\"],[0.6,\"#e6f5d0\"],[0.7,\"#b8e186\"],[0.8,\"#7fbc41\"],[0.9,\"#4d9221\"],[1,\"#276419\"]],\"sequential\":[[0.0,\"#0d0887\"],[0.1111111111111111,\"#46039f\"],[0.2222222222222222,\"#7201a8\"],[0.3333333333333333,\"#9c179e\"],[0.4444444444444444,\"#bd3786\"],[0.5555555555555556,\"#d8576b\"],[0.6666666666666666,\"#ed7953\"],[0.7777777777777778,\"#fb9f3a\"],[0.8888888888888888,\"#fdca26\"],[1.0,\"#f0f921\"]],\"sequentialminus\":[[0.0,\"#0d0887\"],[0.1111111111111111,\"#46039f\"],[0.2222222222222222,\"#7201a8\"],[0.3333333333333333,\"#9c179e\"],[0.4444444444444444,\"#bd3786\"],[0.5555555555555556,\"#d8576b\"],[0.6666666666666666,\"#ed7953\"],[0.7777777777777778,\"#fb9f3a\"],[0.8888888888888888,\"#fdca26\"],[1.0,\"#f0f921\"]]},\"colorway\":[\"#636efa\",\"#EF553B\",\"#00cc96\",\"#ab63fa\",\"#FFA15A\",\"#19d3f3\",\"#FF6692\",\"#B6E880\",\"#FF97FF\",\"#FECB52\"],\"font\":{\"color\":\"#2a3f5f\"},\"geo\":{\"bgcolor\":\"white\",\"lakecolor\":\"white\",\"landcolor\":\"#E5ECF6\",\"showlakes\":true,\"showland\":true,\"subunitcolor\":\"white\"},\"hoverlabel\":{\"align\":\"left\"},\"hovermode\":\"closest\",\"mapbox\":{\"style\":\"light\"},\"paper_bgcolor\":\"white\",\"plot_bgcolor\":\"#E5ECF6\",\"polar\":{\"angularaxis\":{\"gridcolor\":\"white\",\"linecolor\":\"white\",\"ticks\":\"\"},\"bgcolor\":\"#E5ECF6\",\"radialaxis\":{\"gridcolor\":\"white\",\"linecolor\":\"white\",\"ticks\":\"\"}},\"scene\":{\"xaxis\":{\"backgroundcolor\":\"#E5ECF6\",\"gridcolor\":\"white\",\"gridwidth\":2,\"linecolor\":\"white\",\"showbackground\":true,\"ticks\":\"\",\"zerolinecolor\":\"white\"},\"yaxis\":{\"backgroundcolor\":\"#E5ECF6\",\"gridcolor\":\"white\",\"gridwidth\":2,\"linecolor\":\"white\",\"showbackground\":true,\"ticks\":\"\",\"zerolinecolor\":\"white\"},\"zaxis\":{\"backgroundcolor\":\"#E5ECF6\",\"gridcolor\":\"white\",\"gridwidth\":2,\"linecolor\":\"white\",\"showbackground\":true,\"ticks\":\"\",\"zerolinecolor\":\"white\"}},\"shapedefaults\":{\"line\":{\"color\":\"#2a3f5f\"}},\"ternary\":{\"aaxis\":{\"gridcolor\":\"white\",\"linecolor\":\"white\",\"ticks\":\"\"},\"baxis\":{\"gridcolor\":\"white\",\"linecolor\":\"white\",\"ticks\":\"\"},\"bgcolor\":\"#E5ECF6\",\"caxis\":{\"gridcolor\":\"white\",\"linecolor\":\"white\",\"ticks\":\"\"}},\"title\":{\"x\":0.05},\"xaxis\":{\"automargin\":true,\"gridcolor\":\"white\",\"linecolor\":\"white\",\"ticks\":\"\",\"title\":{\"standoff\":15},\"zerolinecolor\":\"white\",\"zerolinewidth\":2},\"yaxis\":{\"automargin\":true,\"gridcolor\":\"white\",\"linecolor\":\"white\",\"ticks\":\"\",\"title\":{\"standoff\":15},\"zerolinecolor\":\"white\",\"zerolinewidth\":2}}},\"title\":{\"text\":\"Cutter T occupancy: 90.4duration actual: 57492.0\"},\"xaxis\":{\"range\":[\"1970-01-01T00:00:00\",\"1970-01-01T17:57:55\"],\"title\":{\"font\":{\"color\":\"#7f7f7f\",\"family\":\"Courier New, monospace\",\"size\":18},\"text\":\"Time\"}},\"yaxis\":{\"title\":{\"font\":{\"color\":\"#7f7f7f\",\"family\":\"Courier New, monospace\",\"size\":18},\"text\":\"vesels\"}}},                        {\"responsive\": true}                    ).then(function(){\n",
       "                            \n",
       "var gd = document.getElementById('7154f706-b969-4a45-a6f8-087385dd1d91');\n",
       "var x = new MutationObserver(function (mutations, observer) {{\n",
       "        var display = window.getComputedStyle(gd).display;\n",
       "        if (!display || display === 'none') {{\n",
       "            console.log([gd, 'removed!']);\n",
       "            Plotly.purge(gd);\n",
       "            observer.disconnect();\n",
       "        }}\n",
       "}});\n",
       "\n",
       "// Listen for the removal of the full notebook cells\n",
       "var notebookContainer = gd.closest('#notebook-container');\n",
       "if (notebookContainer) {{\n",
       "    x.observe(notebookContainer, {childList: true});\n",
       "}}\n",
       "\n",
       "// Listen for the clearing of the current output cell\n",
       "var outputEl = gd.closest('.output');\n",
       "if (outputEl) {{\n",
       "    x.observe(outputEl, {childList: true});\n",
       "}}\n",
       "\n",
       "                        })                };                });            </script>        </div>"
      ]
     },
     "metadata": {},
     "output_type": "display_data"
    }
   ],
   "source": [
    "i = scenario_index\n",
    "vessels = results[i]['vessels']\n",
    "activities = results[i]['activities']\n",
    "sites = results[i]['sites']\n",
    "  \n",
    "my_objects = list(vessels.values()) + list(sites.values())\n",
    "my_activities = list(activities.values())\n",
    "my_log = CpLog(list_objects=my_objects, list_activities=my_activities)\n",
    "dependencies = my_log.get_dependencies_model_based()\n",
    "# dependencies = my_log.get_dependencies_log_based()\n",
    "cp = my_log.mark_critical_activities(dependencies)\n",
    "occupancy = occupancy_analysis(vessels, cutter_name, total_amount, vessel_cost)\n",
    "\n",
    "t = f'{cutter_name} occupancy: ' + str(occupancy.loc[cutter_name]['occupancy [%]']) + f'duration actual: ' +\\\n",
    "     str(occupancy.loc[cutter_name]['duration actual'])\n",
    "fig = get_gantt_chart(concepts=my_objects, critical_path=cp, id_map=activities, title=t, legend=False, ylabel='vesels')"
   ]
  },
  {
   "cell_type": "code",
   "execution_count": 17,
   "id": "e274588c",
   "metadata": {},
   "outputs": [
    {
     "data": {
      "text/html": [
       "<div>\n",
       "<style scoped>\n",
       "    .dataframe tbody tr th:only-of-type {\n",
       "        vertical-align: middle;\n",
       "    }\n",
       "\n",
       "    .dataframe tbody tr th {\n",
       "        vertical-align: top;\n",
       "    }\n",
       "\n",
       "    .dataframe thead th {\n",
       "        text-align: right;\n",
       "    }\n",
       "</style>\n",
       "<table border=\"1\" class=\"dataframe\">\n",
       "  <thead>\n",
       "    <tr style=\"text-align: right;\">\n",
       "      <th></th>\n",
       "      <th># trips</th>\n",
       "      <th>start</th>\n",
       "      <th>finish</th>\n",
       "      <th>amount sum</th>\n",
       "      <th>duration actual</th>\n",
       "      <th>duration theory</th>\n",
       "      <th>cost actual</th>\n",
       "      <th>production actual</th>\n",
       "      <th>production theory</th>\n",
       "      <th>occupancy [%]</th>\n",
       "    </tr>\n",
       "    <tr>\n",
       "      <th>name</th>\n",
       "      <th></th>\n",
       "      <th></th>\n",
       "      <th></th>\n",
       "      <th></th>\n",
       "      <th></th>\n",
       "      <th></th>\n",
       "      <th></th>\n",
       "      <th></th>\n",
       "      <th></th>\n",
       "      <th></th>\n",
       "    </tr>\n",
       "  </thead>\n",
       "  <tbody>\n",
       "    <tr>\n",
       "      <th>Cutter T</th>\n",
       "      <td>6</td>\n",
       "      <td>1970-01-01 00:37:27</td>\n",
       "      <td>1970-01-01 16:35:39</td>\n",
       "      <td>100.0</td>\n",
       "      <td>57492.0</td>\n",
       "      <td>52000.0</td>\n",
       "      <td>16635.0</td>\n",
       "      <td>0.010436</td>\n",
       "      <td>0.011538</td>\n",
       "      <td>90.4</td>\n",
       "    </tr>\n",
       "    <tr>\n",
       "      <th>Barge I</th>\n",
       "      <td>6</td>\n",
       "      <td>1970-01-01 00:00:00</td>\n",
       "      <td>1970-01-01 17:14:11</td>\n",
       "      <td>30.0</td>\n",
       "      <td>62051.0</td>\n",
       "      <td>58308.0</td>\n",
       "      <td>3591.0</td>\n",
       "      <td>0.002901</td>\n",
       "      <td>0.003087</td>\n",
       "      <td>94.0</td>\n",
       "    </tr>\n",
       "    <tr>\n",
       "      <th>Carrier C</th>\n",
       "      <td>6</td>\n",
       "      <td>1970-01-01 00:00:00</td>\n",
       "      <td>1970-01-01 16:27:13</td>\n",
       "      <td>24.0</td>\n",
       "      <td>59233.0</td>\n",
       "      <td>52446.0</td>\n",
       "      <td>4113.0</td>\n",
       "      <td>0.002431</td>\n",
       "      <td>0.002746</td>\n",
       "      <td>88.5</td>\n",
       "    </tr>\n",
       "    <tr>\n",
       "      <th>Carrier B</th>\n",
       "      <td>6</td>\n",
       "      <td>1970-01-01 00:00:00</td>\n",
       "      <td>1970-01-01 17:57:55</td>\n",
       "      <td>26.0</td>\n",
       "      <td>64675.0</td>\n",
       "      <td>59424.0</td>\n",
       "      <td>4491.0</td>\n",
       "      <td>0.002412</td>\n",
       "      <td>0.002625</td>\n",
       "      <td>91.9</td>\n",
       "    </tr>\n",
       "    <tr>\n",
       "      <th>Carrier A</th>\n",
       "      <td>5</td>\n",
       "      <td>1970-01-01 00:00:00</td>\n",
       "      <td>1970-01-01 16:12:01</td>\n",
       "      <td>20.0</td>\n",
       "      <td>58321.0</td>\n",
       "      <td>51865.0</td>\n",
       "      <td>4050.0</td>\n",
       "      <td>0.001715</td>\n",
       "      <td>0.001928</td>\n",
       "      <td>88.9</td>\n",
       "    </tr>\n",
       "  </tbody>\n",
       "</table>\n",
       "</div>"
      ],
      "text/plain": [
       "           # trips               start              finish  amount sum  \\\n",
       "name                                                                     \n",
       "Cutter T         6 1970-01-01 00:37:27 1970-01-01 16:35:39       100.0   \n",
       "Barge I          6 1970-01-01 00:00:00 1970-01-01 17:14:11        30.0   \n",
       "Carrier C        6 1970-01-01 00:00:00 1970-01-01 16:27:13        24.0   \n",
       "Carrier B        6 1970-01-01 00:00:00 1970-01-01 17:57:55        26.0   \n",
       "Carrier A        5 1970-01-01 00:00:00 1970-01-01 16:12:01        20.0   \n",
       "\n",
       "           duration actual  duration theory  cost actual  production actual  \\\n",
       "name                                                                          \n",
       "Cutter T           57492.0          52000.0      16635.0           0.010436   \n",
       "Barge I            62051.0          58308.0       3591.0           0.002901   \n",
       "Carrier C          59233.0          52446.0       4113.0           0.002431   \n",
       "Carrier B          64675.0          59424.0       4491.0           0.002412   \n",
       "Carrier A          58321.0          51865.0       4050.0           0.001715   \n",
       "\n",
       "           production theory  occupancy [%]  \n",
       "name                                         \n",
       "Cutter T            0.011538           90.4  \n",
       "Barge I             0.003087           94.0  \n",
       "Carrier C           0.002746           88.5  \n",
       "Carrier B           0.002625           91.9  \n",
       "Carrier A           0.001928           88.9  "
      ]
     },
     "execution_count": 17,
     "metadata": {},
     "output_type": "execute_result"
    }
   ],
   "source": [
    "occupancy"
   ]
  },
  {
   "cell_type": "markdown",
   "id": "3e81de2b",
   "metadata": {},
   "source": [
    "# Export data  to BI"
   ]
  },
  {
   "cell_type": "code",
   "execution_count": 18,
   "id": "87cd1b2f",
   "metadata": {},
   "outputs": [
    {
     "data": {
      "text/html": [
       "<div>\n",
       "<style scoped>\n",
       "    .dataframe tbody tr th:only-of-type {\n",
       "        vertical-align: middle;\n",
       "    }\n",
       "\n",
       "    .dataframe tbody tr th {\n",
       "        vertical-align: top;\n",
       "    }\n",
       "\n",
       "    .dataframe thead th {\n",
       "        text-align: right;\n",
       "    }\n",
       "</style>\n",
       "<table border=\"1\" class=\"dataframe\">\n",
       "  <thead>\n",
       "    <tr style=\"text-align: right;\">\n",
       "      <th></th>\n",
       "      <th>siteName</th>\n",
       "      <th>siteID</th>\n",
       "      <th>siteType</th>\n",
       "    </tr>\n",
       "  </thead>\n",
       "  <tbody>\n",
       "    <tr>\n",
       "      <th>0</th>\n",
       "      <td>Trench</td>\n",
       "      <td>596f2b79-540c-4fce-8fb4-6628e6ed4461</td>\n",
       "      <td>&lt;class '__main__.Site'&gt;</td>\n",
       "    </tr>\n",
       "    <tr>\n",
       "      <th>1</th>\n",
       "      <td>Reclamation</td>\n",
       "      <td>09db9685-4fb0-40ff-bc82-c670786dd63e</td>\n",
       "      <td>&lt;class '__main__.Site'&gt;</td>\n",
       "    </tr>\n",
       "  </tbody>\n",
       "</table>\n",
       "</div>"
      ],
      "text/plain": [
       "      siteName                                siteID                 siteType\n",
       "0       Trench  596f2b79-540c-4fce-8fb4-6628e6ed4461  <class '__main__.Site'>\n",
       "1  Reclamation  09db9685-4fb0-40ff-bc82-c670786dd63e  <class '__main__.Site'>"
      ]
     },
     "execution_count": 18,
     "metadata": {},
     "output_type": "execute_result"
    }
   ],
   "source": [
    "export_concepts(sites, 'site', 'sites.csv')"
   ]
  },
  {
   "cell_type": "code",
   "execution_count": 19,
   "id": "5e5459b1",
   "metadata": {},
   "outputs": [
    {
     "data": {
      "text/html": [
       "<div>\n",
       "<style scoped>\n",
       "    .dataframe tbody tr th:only-of-type {\n",
       "        vertical-align: middle;\n",
       "    }\n",
       "\n",
       "    .dataframe tbody tr th {\n",
       "        vertical-align: top;\n",
       "    }\n",
       "\n",
       "    .dataframe thead th {\n",
       "        text-align: right;\n",
       "    }\n",
       "</style>\n",
       "<table border=\"1\" class=\"dataframe\">\n",
       "  <thead>\n",
       "    <tr style=\"text-align: right;\">\n",
       "      <th></th>\n",
       "      <th>vesselName</th>\n",
       "      <th>vesselID</th>\n",
       "      <th>vesselType</th>\n",
       "    </tr>\n",
       "  </thead>\n",
       "  <tbody>\n",
       "    <tr>\n",
       "      <th>0</th>\n",
       "      <td>Carrier A</td>\n",
       "      <td>3a2ec471-51dc-4361-b33a-80ecfdeaf8aa</td>\n",
       "      <td>&lt;class '__main__.TransportProcessingResource'&gt;</td>\n",
       "    </tr>\n",
       "    <tr>\n",
       "      <th>1</th>\n",
       "      <td>Carrier B</td>\n",
       "      <td>fd60ec6f-f68b-48f2-928e-e8474282590f</td>\n",
       "      <td>&lt;class '__main__.TransportProcessingResource'&gt;</td>\n",
       "    </tr>\n",
       "    <tr>\n",
       "      <th>2</th>\n",
       "      <td>Carrier C</td>\n",
       "      <td>50351223-db0b-431f-b868-83b7bf2e1bde</td>\n",
       "      <td>&lt;class '__main__.TransportProcessingResource'&gt;</td>\n",
       "    </tr>\n",
       "    <tr>\n",
       "      <th>3</th>\n",
       "      <td>Barge I</td>\n",
       "      <td>03ed3c4e-5c23-4f87-90a7-81f103322834</td>\n",
       "      <td>&lt;class '__main__.TransportProcessingResource'&gt;</td>\n",
       "    </tr>\n",
       "    <tr>\n",
       "      <th>4</th>\n",
       "      <td>Cutter T</td>\n",
       "      <td>03894274-ea8a-4b77-9e2a-dff6178fddb5</td>\n",
       "      <td>&lt;class '__main__.TransportProcessingResource'&gt;</td>\n",
       "    </tr>\n",
       "  </tbody>\n",
       "</table>\n",
       "</div>"
      ],
      "text/plain": [
       "  vesselName                              vesselID  \\\n",
       "0  Carrier A  3a2ec471-51dc-4361-b33a-80ecfdeaf8aa   \n",
       "1  Carrier B  fd60ec6f-f68b-48f2-928e-e8474282590f   \n",
       "2  Carrier C  50351223-db0b-431f-b868-83b7bf2e1bde   \n",
       "3    Barge I  03ed3c4e-5c23-4f87-90a7-81f103322834   \n",
       "4   Cutter T  03894274-ea8a-4b77-9e2a-dff6178fddb5   \n",
       "\n",
       "                                       vesselType  \n",
       "0  <class '__main__.TransportProcessingResource'>  \n",
       "1  <class '__main__.TransportProcessingResource'>  \n",
       "2  <class '__main__.TransportProcessingResource'>  \n",
       "3  <class '__main__.TransportProcessingResource'>  \n",
       "4  <class '__main__.TransportProcessingResource'>  "
      ]
     },
     "execution_count": 19,
     "metadata": {},
     "output_type": "execute_result"
    }
   ],
   "source": [
    "export_concepts(vessels, 'vessel', 'vessels.csv')"
   ]
  },
  {
   "cell_type": "code",
   "execution_count": 20,
   "id": "2baa8eb9",
   "metadata": {},
   "outputs": [],
   "source": [
    "activities_flat = export_activities(activities, 'activities.csv', [*sites.values(), *vessels.values()])\n",
    "# activities_flat"
   ]
  },
  {
   "cell_type": "code",
   "execution_count": 21,
   "id": "a3e8f617",
   "metadata": {},
   "outputs": [
    {
     "data": {
      "text/plain": [
       "{'', 'Barge I', 'Carrier A', 'Carrier B', 'Carrier C'}"
      ]
     },
     "execution_count": 21,
     "metadata": {},
     "output_type": "execute_result"
    }
   ],
   "source": [
    "set(activities_flat['MoverName'])"
   ]
  },
  {
   "cell_type": "code",
   "execution_count": 22,
   "id": "acfbb1ef",
   "metadata": {},
   "outputs": [
    {
     "data": {
      "text/plain": [
       "{'', 'Barge I', 'Carrier A', 'Carrier B', 'Carrier C', 'Cutter T'}"
      ]
     },
     "execution_count": 22,
     "metadata": {},
     "output_type": "execute_result"
    }
   ],
   "source": [
    "set(activities_flat['ProcessorName'])"
   ]
  },
  {
   "cell_type": "code",
   "execution_count": 23,
   "id": "b680fb2a",
   "metadata": {},
   "outputs": [
    {
     "data": {
      "text/plain": [
       "{'', 'Barge I', 'Carrier A', 'Carrier B', 'Carrier C', 'Trench'}"
      ]
     },
     "execution_count": 23,
     "metadata": {},
     "output_type": "execute_result"
    }
   ],
   "source": [
    "set(activities_flat['OriginName'])"
   ]
  },
  {
   "cell_type": "code",
   "execution_count": 24,
   "id": "1ce51171",
   "metadata": {},
   "outputs": [
    {
     "data": {
      "text/plain": [
       "{'', 'Barge I', 'Carrier A', 'Carrier B', 'Carrier C', 'Reclamation', 'Trench'}"
      ]
     },
     "execution_count": 24,
     "metadata": {},
     "output_type": "execute_result"
    }
   ],
   "source": [
    "set(activities_flat['DestinationName'])"
   ]
  },
  {
   "cell_type": "code",
   "execution_count": 25,
   "id": "49d35cd3",
   "metadata": {},
   "outputs": [
    {
     "data": {
      "text/plain": [
       "{'MoveActivity', 'SequentialActivity', 'ShiftAmountActivity', 'WhileActivity'}"
      ]
     },
     "execution_count": 25,
     "metadata": {},
     "output_type": "execute_result"
    }
   ],
   "source": [
    "set(activities_flat['ActivityType'])"
   ]
  },
  {
   "cell_type": "code",
   "execution_count": 26,
   "id": "70998a10",
   "metadata": {},
   "outputs": [],
   "source": [
    "# set(activities_flat['ActivityName'])"
   ]
  },
  {
   "cell_type": "markdown",
   "id": "2ec87e35",
   "metadata": {},
   "source": [
    "# Expand logged activity instances to analyse occupancy properly"
   ]
  },
  {
   "cell_type": "code",
   "execution_count": 27,
   "id": "d16c732a",
   "metadata": {},
   "outputs": [],
   "source": [
    "def export_ranges(all_act_flat, ofile = None, concept_name=None):\n",
    "    \n",
    "    if concept_name:\n",
    "        logmask = (all_act_flat['ProcessorName']==concept_name) | \\\n",
    "                  (all_act_flat['MoverName']==concept_name)  | \\\n",
    "                  (all_act_flat['OriginName']==concept_name)  | \\\n",
    "                  (all_act_flat['DestinationName']==concept_name) \n",
    "\n",
    "        all_act_flat = all_act_flat[logmask]\n",
    "    \n",
    "    li = []\n",
    "    for i, rowi in all_act_flat.iterrows():\n",
    "        log = get_ranges_dataframe(rowi['activity'])\n",
    "        log.rename(columns={'Activity':'ActivityID'}, inplace=True)\n",
    "        li.append(log)\n",
    "    ActivityRanges = pd.concat(li)\n",
    "    \n",
    "    ActivityRanges = ActivityRanges.merge(all_act_flat[['ActivityID', 'ActivityName', 'ActivityType']], on='ActivityID', how='left')\n",
    "    \n",
    "    keys  = ['trip',\n",
    "             'ActivityID','ActivityName','ActivityType',\n",
    "             'TimestampStart','TimestampStop','TimestampDt']\n",
    "    if concept_name:\n",
    "        ActivityRanges['ConceptName'] = concept_name\n",
    "        keys+=['ConceptName']\n",
    "        \n",
    "    if ofile:\n",
    "        ActivityRanges.to_csv(ofile, columns = keys, index=False)\n",
    "    \n",
    "    return ActivityRanges.sort_values(by=[\"TimestampStart\"])"
   ]
  },
  {
   "cell_type": "code",
   "execution_count": 28,
   "id": "e4b0ebc5",
   "metadata": {},
   "outputs": [],
   "source": [
    "VesselActivitiesLog = export_ranges(activities_flat, 'instances.csv')"
   ]
  },
  {
   "cell_type": "code",
   "execution_count": 29,
   "id": "8f7eaa5c",
   "metadata": {},
   "outputs": [
    {
     "data": {
      "text/html": [
       "<div>\n",
       "<style scoped>\n",
       "    .dataframe tbody tr th:only-of-type {\n",
       "        vertical-align: middle;\n",
       "    }\n",
       "\n",
       "    .dataframe tbody tr th {\n",
       "        vertical-align: top;\n",
       "    }\n",
       "\n",
       "    .dataframe thead th {\n",
       "        text-align: right;\n",
       "    }\n",
       "</style>\n",
       "<table border=\"1\" class=\"dataframe\">\n",
       "  <thead>\n",
       "    <tr style=\"text-align: right;\">\n",
       "      <th></th>\n",
       "      <th>TimestampStart</th>\n",
       "      <th>trip</th>\n",
       "      <th>TimestampStop</th>\n",
       "      <th>ActivityID</th>\n",
       "      <th>TimestampDt</th>\n",
       "      <th>ActivityName</th>\n",
       "      <th>ActivityType</th>\n",
       "      <th>ConceptName</th>\n",
       "    </tr>\n",
       "  </thead>\n",
       "  <tbody>\n",
       "    <tr>\n",
       "      <th>11</th>\n",
       "      <td>1970-01-01 00:37:27</td>\n",
       "      <td>1</td>\n",
       "      <td>1970-01-01 01:10:47</td>\n",
       "      <td>f51e9ac5-5e76-4e9c-af9d-b8d4a116d166</td>\n",
       "      <td>2000.0</td>\n",
       "      <td>loading:Carrier C</td>\n",
       "      <td>ShiftAmountActivity</td>\n",
       "      <td>Cutter T</td>\n",
       "    </tr>\n",
       "    <tr>\n",
       "      <th>17</th>\n",
       "      <td>1970-01-01 01:10:47</td>\n",
       "      <td>1</td>\n",
       "      <td>1970-01-01 01:52:27</td>\n",
       "      <td>70bc63e1-bcc2-4b5d-9f32-d21aa335cb2a</td>\n",
       "      <td>2500.0</td>\n",
       "      <td>loading:Barge I</td>\n",
       "      <td>ShiftAmountActivity</td>\n",
       "      <td>Cutter T</td>\n",
       "    </tr>\n",
       "    <tr>\n",
       "      <th>5</th>\n",
       "      <td>1970-01-01 01:52:27</td>\n",
       "      <td>1</td>\n",
       "      <td>1970-01-01 02:34:07</td>\n",
       "      <td>714922a1-b24d-404f-ae29-e4f8e47bae53</td>\n",
       "      <td>2500.0</td>\n",
       "      <td>loading:Carrier B</td>\n",
       "      <td>ShiftAmountActivity</td>\n",
       "      <td>Cutter T</td>\n",
       "    </tr>\n",
       "    <tr>\n",
       "      <th>0</th>\n",
       "      <td>1970-01-01 02:34:07</td>\n",
       "      <td>1</td>\n",
       "      <td>1970-01-01 03:07:27</td>\n",
       "      <td>6b440b58-e893-44d3-8a06-1f8be0e9e2c7</td>\n",
       "      <td>2000.0</td>\n",
       "      <td>loading:Carrier A</td>\n",
       "      <td>ShiftAmountActivity</td>\n",
       "      <td>Cutter T</td>\n",
       "    </tr>\n",
       "    <tr>\n",
       "      <th>12</th>\n",
       "      <td>1970-01-01 03:07:27</td>\n",
       "      <td>2</td>\n",
       "      <td>1970-01-01 03:40:47</td>\n",
       "      <td>f51e9ac5-5e76-4e9c-af9d-b8d4a116d166</td>\n",
       "      <td>2000.0</td>\n",
       "      <td>loading:Carrier C</td>\n",
       "      <td>ShiftAmountActivity</td>\n",
       "      <td>Cutter T</td>\n",
       "    </tr>\n",
       "    <tr>\n",
       "      <th>18</th>\n",
       "      <td>1970-01-01 03:52:45</td>\n",
       "      <td>2</td>\n",
       "      <td>1970-01-01 04:34:25</td>\n",
       "      <td>70bc63e1-bcc2-4b5d-9f32-d21aa335cb2a</td>\n",
       "      <td>2500.0</td>\n",
       "      <td>loading:Barge I</td>\n",
       "      <td>ShiftAmountActivity</td>\n",
       "      <td>Cutter T</td>\n",
       "    </tr>\n",
       "    <tr>\n",
       "      <th>6</th>\n",
       "      <td>1970-01-01 04:37:31</td>\n",
       "      <td>2</td>\n",
       "      <td>1970-01-01 05:19:11</td>\n",
       "      <td>714922a1-b24d-404f-ae29-e4f8e47bae53</td>\n",
       "      <td>2500.0</td>\n",
       "      <td>loading:Carrier B</td>\n",
       "      <td>ShiftAmountActivity</td>\n",
       "      <td>Cutter T</td>\n",
       "    </tr>\n",
       "    <tr>\n",
       "      <th>1</th>\n",
       "      <td>1970-01-01 05:27:00</td>\n",
       "      <td>2</td>\n",
       "      <td>1970-01-01 06:00:20</td>\n",
       "      <td>6b440b58-e893-44d3-8a06-1f8be0e9e2c7</td>\n",
       "      <td>2000.0</td>\n",
       "      <td>loading:Carrier A</td>\n",
       "      <td>ShiftAmountActivity</td>\n",
       "      <td>Cutter T</td>\n",
       "    </tr>\n",
       "    <tr>\n",
       "      <th>13</th>\n",
       "      <td>1970-01-01 06:00:20</td>\n",
       "      <td>3</td>\n",
       "      <td>1970-01-01 06:33:40</td>\n",
       "      <td>f51e9ac5-5e76-4e9c-af9d-b8d4a116d166</td>\n",
       "      <td>2000.0</td>\n",
       "      <td>loading:Carrier C</td>\n",
       "      <td>ShiftAmountActivity</td>\n",
       "      <td>Cutter T</td>\n",
       "    </tr>\n",
       "    <tr>\n",
       "      <th>19</th>\n",
       "      <td>1970-01-01 06:34:43</td>\n",
       "      <td>3</td>\n",
       "      <td>1970-01-01 07:16:23</td>\n",
       "      <td>70bc63e1-bcc2-4b5d-9f32-d21aa335cb2a</td>\n",
       "      <td>2500.0</td>\n",
       "      <td>loading:Barge I</td>\n",
       "      <td>ShiftAmountActivity</td>\n",
       "      <td>Cutter T</td>\n",
       "    </tr>\n",
       "    <tr>\n",
       "      <th>7</th>\n",
       "      <td>1970-01-01 07:22:35</td>\n",
       "      <td>3</td>\n",
       "      <td>1970-01-01 08:04:15</td>\n",
       "      <td>714922a1-b24d-404f-ae29-e4f8e47bae53</td>\n",
       "      <td>2500.0</td>\n",
       "      <td>loading:Carrier B</td>\n",
       "      <td>ShiftAmountActivity</td>\n",
       "      <td>Cutter T</td>\n",
       "    </tr>\n",
       "    <tr>\n",
       "      <th>2</th>\n",
       "      <td>1970-01-01 08:19:53</td>\n",
       "      <td>3</td>\n",
       "      <td>1970-01-01 08:53:13</td>\n",
       "      <td>6b440b58-e893-44d3-8a06-1f8be0e9e2c7</td>\n",
       "      <td>2000.0</td>\n",
       "      <td>loading:Carrier A</td>\n",
       "      <td>ShiftAmountActivity</td>\n",
       "      <td>Cutter T</td>\n",
       "    </tr>\n",
       "    <tr>\n",
       "      <th>14</th>\n",
       "      <td>1970-01-01 08:53:13</td>\n",
       "      <td>4</td>\n",
       "      <td>1970-01-01 09:26:33</td>\n",
       "      <td>f51e9ac5-5e76-4e9c-af9d-b8d4a116d166</td>\n",
       "      <td>2000.0</td>\n",
       "      <td>loading:Carrier C</td>\n",
       "      <td>ShiftAmountActivity</td>\n",
       "      <td>Cutter T</td>\n",
       "    </tr>\n",
       "    <tr>\n",
       "      <th>20</th>\n",
       "      <td>1970-01-01 09:26:33</td>\n",
       "      <td>4</td>\n",
       "      <td>1970-01-01 10:08:13</td>\n",
       "      <td>70bc63e1-bcc2-4b5d-9f32-d21aa335cb2a</td>\n",
       "      <td>2500.0</td>\n",
       "      <td>loading:Barge I</td>\n",
       "      <td>ShiftAmountActivity</td>\n",
       "      <td>Cutter T</td>\n",
       "    </tr>\n",
       "    <tr>\n",
       "      <th>8</th>\n",
       "      <td>1970-01-01 10:08:13</td>\n",
       "      <td>4</td>\n",
       "      <td>1970-01-01 10:49:53</td>\n",
       "      <td>714922a1-b24d-404f-ae29-e4f8e47bae53</td>\n",
       "      <td>2500.0</td>\n",
       "      <td>loading:Carrier B</td>\n",
       "      <td>ShiftAmountActivity</td>\n",
       "      <td>Cutter T</td>\n",
       "    </tr>\n",
       "    <tr>\n",
       "      <th>3</th>\n",
       "      <td>1970-01-01 11:12:46</td>\n",
       "      <td>4</td>\n",
       "      <td>1970-01-01 11:46:06</td>\n",
       "      <td>6b440b58-e893-44d3-8a06-1f8be0e9e2c7</td>\n",
       "      <td>2000.0</td>\n",
       "      <td>loading:Carrier A</td>\n",
       "      <td>ShiftAmountActivity</td>\n",
       "      <td>Cutter T</td>\n",
       "    </tr>\n",
       "    <tr>\n",
       "      <th>15</th>\n",
       "      <td>1970-01-01 11:46:06</td>\n",
       "      <td>5</td>\n",
       "      <td>1970-01-01 12:19:26</td>\n",
       "      <td>f51e9ac5-5e76-4e9c-af9d-b8d4a116d166</td>\n",
       "      <td>2000.0</td>\n",
       "      <td>loading:Carrier C</td>\n",
       "      <td>ShiftAmountActivity</td>\n",
       "      <td>Cutter T</td>\n",
       "    </tr>\n",
       "    <tr>\n",
       "      <th>21</th>\n",
       "      <td>1970-01-01 12:19:26</td>\n",
       "      <td>5</td>\n",
       "      <td>1970-01-01 13:01:06</td>\n",
       "      <td>70bc63e1-bcc2-4b5d-9f32-d21aa335cb2a</td>\n",
       "      <td>2500.0</td>\n",
       "      <td>loading:Barge I</td>\n",
       "      <td>ShiftAmountActivity</td>\n",
       "      <td>Cutter T</td>\n",
       "    </tr>\n",
       "    <tr>\n",
       "      <th>9</th>\n",
       "      <td>1970-01-01 13:01:06</td>\n",
       "      <td>5</td>\n",
       "      <td>1970-01-01 13:42:46</td>\n",
       "      <td>714922a1-b24d-404f-ae29-e4f8e47bae53</td>\n",
       "      <td>2500.0</td>\n",
       "      <td>loading:Carrier B</td>\n",
       "      <td>ShiftAmountActivity</td>\n",
       "      <td>Cutter T</td>\n",
       "    </tr>\n",
       "    <tr>\n",
       "      <th>4</th>\n",
       "      <td>1970-01-01 14:05:39</td>\n",
       "      <td>5</td>\n",
       "      <td>1970-01-01 14:38:59</td>\n",
       "      <td>6b440b58-e893-44d3-8a06-1f8be0e9e2c7</td>\n",
       "      <td>2000.0</td>\n",
       "      <td>loading:Carrier A</td>\n",
       "      <td>ShiftAmountActivity</td>\n",
       "      <td>Cutter T</td>\n",
       "    </tr>\n",
       "    <tr>\n",
       "      <th>16</th>\n",
       "      <td>1970-01-01 14:38:59</td>\n",
       "      <td>6</td>\n",
       "      <td>1970-01-01 15:12:19</td>\n",
       "      <td>f51e9ac5-5e76-4e9c-af9d-b8d4a116d166</td>\n",
       "      <td>2000.0</td>\n",
       "      <td>loading:Carrier C</td>\n",
       "      <td>ShiftAmountActivity</td>\n",
       "      <td>Cutter T</td>\n",
       "    </tr>\n",
       "    <tr>\n",
       "      <th>22</th>\n",
       "      <td>1970-01-01 15:12:19</td>\n",
       "      <td>6</td>\n",
       "      <td>1970-01-01 15:53:59</td>\n",
       "      <td>70bc63e1-bcc2-4b5d-9f32-d21aa335cb2a</td>\n",
       "      <td>2500.0</td>\n",
       "      <td>loading:Barge I</td>\n",
       "      <td>ShiftAmountActivity</td>\n",
       "      <td>Cutter T</td>\n",
       "    </tr>\n",
       "    <tr>\n",
       "      <th>10</th>\n",
       "      <td>1970-01-01 15:53:59</td>\n",
       "      <td>6</td>\n",
       "      <td>1970-01-01 16:35:39</td>\n",
       "      <td>714922a1-b24d-404f-ae29-e4f8e47bae53</td>\n",
       "      <td>2500.0</td>\n",
       "      <td>loading:Carrier B</td>\n",
       "      <td>ShiftAmountActivity</td>\n",
       "      <td>Cutter T</td>\n",
       "    </tr>\n",
       "  </tbody>\n",
       "</table>\n",
       "</div>"
      ],
      "text/plain": [
       "        TimestampStart  trip       TimestampStop  \\\n",
       "11 1970-01-01 00:37:27     1 1970-01-01 01:10:47   \n",
       "17 1970-01-01 01:10:47     1 1970-01-01 01:52:27   \n",
       "5  1970-01-01 01:52:27     1 1970-01-01 02:34:07   \n",
       "0  1970-01-01 02:34:07     1 1970-01-01 03:07:27   \n",
       "12 1970-01-01 03:07:27     2 1970-01-01 03:40:47   \n",
       "18 1970-01-01 03:52:45     2 1970-01-01 04:34:25   \n",
       "6  1970-01-01 04:37:31     2 1970-01-01 05:19:11   \n",
       "1  1970-01-01 05:27:00     2 1970-01-01 06:00:20   \n",
       "13 1970-01-01 06:00:20     3 1970-01-01 06:33:40   \n",
       "19 1970-01-01 06:34:43     3 1970-01-01 07:16:23   \n",
       "7  1970-01-01 07:22:35     3 1970-01-01 08:04:15   \n",
       "2  1970-01-01 08:19:53     3 1970-01-01 08:53:13   \n",
       "14 1970-01-01 08:53:13     4 1970-01-01 09:26:33   \n",
       "20 1970-01-01 09:26:33     4 1970-01-01 10:08:13   \n",
       "8  1970-01-01 10:08:13     4 1970-01-01 10:49:53   \n",
       "3  1970-01-01 11:12:46     4 1970-01-01 11:46:06   \n",
       "15 1970-01-01 11:46:06     5 1970-01-01 12:19:26   \n",
       "21 1970-01-01 12:19:26     5 1970-01-01 13:01:06   \n",
       "9  1970-01-01 13:01:06     5 1970-01-01 13:42:46   \n",
       "4  1970-01-01 14:05:39     5 1970-01-01 14:38:59   \n",
       "16 1970-01-01 14:38:59     6 1970-01-01 15:12:19   \n",
       "22 1970-01-01 15:12:19     6 1970-01-01 15:53:59   \n",
       "10 1970-01-01 15:53:59     6 1970-01-01 16:35:39   \n",
       "\n",
       "                              ActivityID  TimestampDt       ActivityName  \\\n",
       "11  f51e9ac5-5e76-4e9c-af9d-b8d4a116d166       2000.0  loading:Carrier C   \n",
       "17  70bc63e1-bcc2-4b5d-9f32-d21aa335cb2a       2500.0    loading:Barge I   \n",
       "5   714922a1-b24d-404f-ae29-e4f8e47bae53       2500.0  loading:Carrier B   \n",
       "0   6b440b58-e893-44d3-8a06-1f8be0e9e2c7       2000.0  loading:Carrier A   \n",
       "12  f51e9ac5-5e76-4e9c-af9d-b8d4a116d166       2000.0  loading:Carrier C   \n",
       "18  70bc63e1-bcc2-4b5d-9f32-d21aa335cb2a       2500.0    loading:Barge I   \n",
       "6   714922a1-b24d-404f-ae29-e4f8e47bae53       2500.0  loading:Carrier B   \n",
       "1   6b440b58-e893-44d3-8a06-1f8be0e9e2c7       2000.0  loading:Carrier A   \n",
       "13  f51e9ac5-5e76-4e9c-af9d-b8d4a116d166       2000.0  loading:Carrier C   \n",
       "19  70bc63e1-bcc2-4b5d-9f32-d21aa335cb2a       2500.0    loading:Barge I   \n",
       "7   714922a1-b24d-404f-ae29-e4f8e47bae53       2500.0  loading:Carrier B   \n",
       "2   6b440b58-e893-44d3-8a06-1f8be0e9e2c7       2000.0  loading:Carrier A   \n",
       "14  f51e9ac5-5e76-4e9c-af9d-b8d4a116d166       2000.0  loading:Carrier C   \n",
       "20  70bc63e1-bcc2-4b5d-9f32-d21aa335cb2a       2500.0    loading:Barge I   \n",
       "8   714922a1-b24d-404f-ae29-e4f8e47bae53       2500.0  loading:Carrier B   \n",
       "3   6b440b58-e893-44d3-8a06-1f8be0e9e2c7       2000.0  loading:Carrier A   \n",
       "15  f51e9ac5-5e76-4e9c-af9d-b8d4a116d166       2000.0  loading:Carrier C   \n",
       "21  70bc63e1-bcc2-4b5d-9f32-d21aa335cb2a       2500.0    loading:Barge I   \n",
       "9   714922a1-b24d-404f-ae29-e4f8e47bae53       2500.0  loading:Carrier B   \n",
       "4   6b440b58-e893-44d3-8a06-1f8be0e9e2c7       2000.0  loading:Carrier A   \n",
       "16  f51e9ac5-5e76-4e9c-af9d-b8d4a116d166       2000.0  loading:Carrier C   \n",
       "22  70bc63e1-bcc2-4b5d-9f32-d21aa335cb2a       2500.0    loading:Barge I   \n",
       "10  714922a1-b24d-404f-ae29-e4f8e47bae53       2500.0  loading:Carrier B   \n",
       "\n",
       "           ActivityType ConceptName  \n",
       "11  ShiftAmountActivity    Cutter T  \n",
       "17  ShiftAmountActivity    Cutter T  \n",
       "5   ShiftAmountActivity    Cutter T  \n",
       "0   ShiftAmountActivity    Cutter T  \n",
       "12  ShiftAmountActivity    Cutter T  \n",
       "18  ShiftAmountActivity    Cutter T  \n",
       "6   ShiftAmountActivity    Cutter T  \n",
       "1   ShiftAmountActivity    Cutter T  \n",
       "13  ShiftAmountActivity    Cutter T  \n",
       "19  ShiftAmountActivity    Cutter T  \n",
       "7   ShiftAmountActivity    Cutter T  \n",
       "2   ShiftAmountActivity    Cutter T  \n",
       "14  ShiftAmountActivity    Cutter T  \n",
       "20  ShiftAmountActivity    Cutter T  \n",
       "8   ShiftAmountActivity    Cutter T  \n",
       "3   ShiftAmountActivity    Cutter T  \n",
       "15  ShiftAmountActivity    Cutter T  \n",
       "21  ShiftAmountActivity    Cutter T  \n",
       "9   ShiftAmountActivity    Cutter T  \n",
       "4   ShiftAmountActivity    Cutter T  \n",
       "16  ShiftAmountActivity    Cutter T  \n",
       "22  ShiftAmountActivity    Cutter T  \n",
       "10  ShiftAmountActivity    Cutter T  "
      ]
     },
     "execution_count": 29,
     "metadata": {},
     "output_type": "execute_result"
    }
   ],
   "source": [
    "VesselActivitiesLog = export_ranges(activities_flat, 'instances_cutter.csv', cutter_name)\n",
    "VesselActivitiesLog"
   ]
  },
  {
   "cell_type": "code",
   "execution_count": 30,
   "id": "eeedd978",
   "metadata": {},
   "outputs": [
    {
     "data": {
      "text/html": [
       "        <script type=\"text/javascript\">\n",
       "        window.PlotlyConfig = {MathJaxConfig: 'local'};\n",
       "        if (window.MathJax && window.MathJax.Hub && window.MathJax.Hub.Config) {window.MathJax.Hub.Config({SVG: {font: \"STIX-Web\"}});}\n",
       "        if (typeof require !== 'undefined') {\n",
       "        require.undef(\"plotly\");\n",
       "        requirejs.config({\n",
       "            paths: {\n",
       "                'plotly': ['https://cdn.plot.ly/plotly-2.18.2.min']\n",
       "            }\n",
       "        });\n",
       "        require(['plotly'], function(Plotly) {\n",
       "            window._Plotly = Plotly;\n",
       "        });\n",
       "        }\n",
       "        </script>\n",
       "        "
      ]
     },
     "metadata": {},
     "output_type": "display_data"
    },
    {
     "data": {
      "application/vnd.plotly.v1+json": {
       "config": {
        "linkText": "Export to plot.ly",
        "plotlyServerURL": "https://plot.ly",
        "showLink": false
       },
       "data": [
        {
         "connectgaps": false,
         "hoverinfo": "y+name",
         "line": {
          "color": "rgb(190,171,178)",
          "width": 10
         },
         "mode": "lines",
         "name": "loading:Carrier A",
         "type": "scatter",
         "x": [
          "1970-01-01T02:34:07",
          "1970-01-01T02:34:07",
          "1970-01-01T03:07:27",
          "1970-01-01T03:07:27",
          "1970-01-01T03:07:27",
          "1970-01-01T05:27:00",
          "1970-01-01T05:27:00",
          "1970-01-01T06:00:20",
          "1970-01-01T06:00:20",
          "1970-01-01T06:00:20",
          "1970-01-01T08:19:53",
          "1970-01-01T08:19:53",
          "1970-01-01T08:53:13",
          "1970-01-01T08:53:13",
          "1970-01-01T08:53:13",
          "1970-01-01T11:12:46",
          "1970-01-01T11:12:46",
          "1970-01-01T11:46:06",
          "1970-01-01T11:46:06",
          "1970-01-01T11:46:06",
          "1970-01-01T14:05:39",
          "1970-01-01T14:05:39",
          "1970-01-01T14:38:59",
          "1970-01-01T14:38:59",
          "1970-01-01T14:38:59"
         ],
         "y": [
          "loading:Carrier A",
          "loading:Carrier A",
          "loading:Carrier A",
          "loading:Carrier A",
          null,
          "loading:Carrier A",
          "loading:Carrier A",
          "loading:Carrier A",
          "loading:Carrier A",
          null,
          "loading:Carrier A",
          "loading:Carrier A",
          "loading:Carrier A",
          "loading:Carrier A",
          null,
          "loading:Carrier A",
          "loading:Carrier A",
          "loading:Carrier A",
          "loading:Carrier A",
          null,
          "loading:Carrier A",
          "loading:Carrier A",
          "loading:Carrier A",
          "loading:Carrier A",
          null
         ]
        },
        {
         "connectgaps": false,
         "hoverinfo": "y+name",
         "line": {
          "color": "rgb(254,235,242)",
          "width": 10
         },
         "mode": "lines",
         "name": "loading:Carrier B",
         "type": "scatter",
         "x": [
          "1970-01-01T01:52:27",
          "1970-01-01T01:52:27",
          "1970-01-01T02:34:07",
          "1970-01-01T02:34:07",
          "1970-01-01T02:34:07",
          "1970-01-01T04:37:31",
          "1970-01-01T04:37:31",
          "1970-01-01T05:19:11",
          "1970-01-01T05:19:11",
          "1970-01-01T05:19:11",
          "1970-01-01T07:22:35",
          "1970-01-01T07:22:35",
          "1970-01-01T08:04:15",
          "1970-01-01T08:04:15",
          "1970-01-01T08:04:15",
          "1970-01-01T10:08:13",
          "1970-01-01T10:08:13",
          "1970-01-01T10:49:53",
          "1970-01-01T10:49:53",
          "1970-01-01T10:49:53",
          "1970-01-01T13:01:06",
          "1970-01-01T13:01:06",
          "1970-01-01T13:42:46",
          "1970-01-01T13:42:46",
          "1970-01-01T13:42:46",
          "1970-01-01T15:53:59",
          "1970-01-01T15:53:59",
          "1970-01-01T16:35:39",
          "1970-01-01T16:35:39",
          "1970-01-01T16:35:39"
         ],
         "y": [
          "loading:Carrier B",
          "loading:Carrier B",
          "loading:Carrier B",
          "loading:Carrier B",
          null,
          "loading:Carrier B",
          "loading:Carrier B",
          "loading:Carrier B",
          "loading:Carrier B",
          null,
          "loading:Carrier B",
          "loading:Carrier B",
          "loading:Carrier B",
          "loading:Carrier B",
          null,
          "loading:Carrier B",
          "loading:Carrier B",
          "loading:Carrier B",
          "loading:Carrier B",
          null,
          "loading:Carrier B",
          "loading:Carrier B",
          "loading:Carrier B",
          "loading:Carrier B",
          null,
          "loading:Carrier B",
          "loading:Carrier B",
          "loading:Carrier B",
          "loading:Carrier B",
          null
         ]
        },
        {
         "connectgaps": false,
         "hoverinfo": "y+name",
         "line": {
          "color": "rgb(62,43,50)",
          "width": 10
         },
         "mode": "lines",
         "name": "loading:Carrier C",
         "type": "scatter",
         "x": [
          "1970-01-01T00:37:27",
          "1970-01-01T00:37:27",
          "1970-01-01T01:10:47",
          "1970-01-01T01:10:47",
          "1970-01-01T01:10:47",
          "1970-01-01T03:07:27",
          "1970-01-01T03:07:27",
          "1970-01-01T03:40:47",
          "1970-01-01T03:40:47",
          "1970-01-01T03:40:47",
          "1970-01-01T06:00:20",
          "1970-01-01T06:00:20",
          "1970-01-01T06:33:40",
          "1970-01-01T06:33:40",
          "1970-01-01T06:33:40",
          "1970-01-01T08:53:13",
          "1970-01-01T08:53:13",
          "1970-01-01T09:26:33",
          "1970-01-01T09:26:33",
          "1970-01-01T09:26:33",
          "1970-01-01T11:46:06",
          "1970-01-01T11:46:06",
          "1970-01-01T12:19:26",
          "1970-01-01T12:19:26",
          "1970-01-01T12:19:26",
          "1970-01-01T14:38:59",
          "1970-01-01T14:38:59",
          "1970-01-01T15:12:19",
          "1970-01-01T15:12:19",
          "1970-01-01T15:12:19"
         ],
         "y": [
          "loading:Carrier C",
          "loading:Carrier C",
          "loading:Carrier C",
          "loading:Carrier C",
          null,
          "loading:Carrier C",
          "loading:Carrier C",
          "loading:Carrier C",
          "loading:Carrier C",
          null,
          "loading:Carrier C",
          "loading:Carrier C",
          "loading:Carrier C",
          "loading:Carrier C",
          null,
          "loading:Carrier C",
          "loading:Carrier C",
          "loading:Carrier C",
          "loading:Carrier C",
          null,
          "loading:Carrier C",
          "loading:Carrier C",
          "loading:Carrier C",
          "loading:Carrier C",
          null,
          "loading:Carrier C",
          "loading:Carrier C",
          "loading:Carrier C",
          "loading:Carrier C",
          null
         ]
        },
        {
         "connectgaps": false,
         "hoverinfo": "y+name",
         "line": {
          "color": "rgb(126,107,114)",
          "width": 10
         },
         "mode": "lines",
         "name": "loading:Barge I",
         "type": "scatter",
         "x": [
          "1970-01-01T01:10:47",
          "1970-01-01T01:10:47",
          "1970-01-01T01:52:27",
          "1970-01-01T01:52:27",
          "1970-01-01T01:52:27",
          "1970-01-01T03:52:45",
          "1970-01-01T03:52:45",
          "1970-01-01T04:34:25",
          "1970-01-01T04:34:25",
          "1970-01-01T04:34:25",
          "1970-01-01T06:34:43",
          "1970-01-01T06:34:43",
          "1970-01-01T07:16:23",
          "1970-01-01T07:16:23",
          "1970-01-01T07:16:23",
          "1970-01-01T09:26:33",
          "1970-01-01T09:26:33",
          "1970-01-01T10:08:13",
          "1970-01-01T10:08:13",
          "1970-01-01T10:08:13",
          "1970-01-01T12:19:26",
          "1970-01-01T12:19:26",
          "1970-01-01T13:01:06",
          "1970-01-01T13:01:06",
          "1970-01-01T13:01:06",
          "1970-01-01T15:12:19",
          "1970-01-01T15:12:19",
          "1970-01-01T15:53:59",
          "1970-01-01T15:53:59",
          "1970-01-01T15:53:59"
         ],
         "y": [
          "loading:Barge I",
          "loading:Barge I",
          "loading:Barge I",
          "loading:Barge I",
          null,
          "loading:Barge I",
          "loading:Barge I",
          "loading:Barge I",
          "loading:Barge I",
          null,
          "loading:Barge I",
          "loading:Barge I",
          "loading:Barge I",
          "loading:Barge I",
          null,
          "loading:Barge I",
          "loading:Barge I",
          "loading:Barge I",
          "loading:Barge I",
          null,
          "loading:Barge I",
          "loading:Barge I",
          "loading:Barge I",
          "loading:Barge I",
          null,
          "loading:Barge I",
          "loading:Barge I",
          "loading:Barge I",
          "loading:Barge I",
          null
         ]
        }
       ],
       "layout": {
        "hovermode": "closest",
        "legend": {
         "orientation": "h",
         "x": 0,
         "y": -0.2
        },
        "template": {
         "data": {
          "bar": [
           {
            "error_x": {
             "color": "#2a3f5f"
            },
            "error_y": {
             "color": "#2a3f5f"
            },
            "marker": {
             "line": {
              "color": "#E5ECF6",
              "width": 0.5
             },
             "pattern": {
              "fillmode": "overlay",
              "size": 10,
              "solidity": 0.2
             }
            },
            "type": "bar"
           }
          ],
          "barpolar": [
           {
            "marker": {
             "line": {
              "color": "#E5ECF6",
              "width": 0.5
             },
             "pattern": {
              "fillmode": "overlay",
              "size": 10,
              "solidity": 0.2
             }
            },
            "type": "barpolar"
           }
          ],
          "carpet": [
           {
            "aaxis": {
             "endlinecolor": "#2a3f5f",
             "gridcolor": "white",
             "linecolor": "white",
             "minorgridcolor": "white",
             "startlinecolor": "#2a3f5f"
            },
            "baxis": {
             "endlinecolor": "#2a3f5f",
             "gridcolor": "white",
             "linecolor": "white",
             "minorgridcolor": "white",
             "startlinecolor": "#2a3f5f"
            },
            "type": "carpet"
           }
          ],
          "choropleth": [
           {
            "colorbar": {
             "outlinewidth": 0,
             "ticks": ""
            },
            "type": "choropleth"
           }
          ],
          "contour": [
           {
            "colorbar": {
             "outlinewidth": 0,
             "ticks": ""
            },
            "colorscale": [
             [
              0,
              "#0d0887"
             ],
             [
              0.1111111111111111,
              "#46039f"
             ],
             [
              0.2222222222222222,
              "#7201a8"
             ],
             [
              0.3333333333333333,
              "#9c179e"
             ],
             [
              0.4444444444444444,
              "#bd3786"
             ],
             [
              0.5555555555555556,
              "#d8576b"
             ],
             [
              0.6666666666666666,
              "#ed7953"
             ],
             [
              0.7777777777777778,
              "#fb9f3a"
             ],
             [
              0.8888888888888888,
              "#fdca26"
             ],
             [
              1,
              "#f0f921"
             ]
            ],
            "type": "contour"
           }
          ],
          "contourcarpet": [
           {
            "colorbar": {
             "outlinewidth": 0,
             "ticks": ""
            },
            "type": "contourcarpet"
           }
          ],
          "heatmap": [
           {
            "colorbar": {
             "outlinewidth": 0,
             "ticks": ""
            },
            "colorscale": [
             [
              0,
              "#0d0887"
             ],
             [
              0.1111111111111111,
              "#46039f"
             ],
             [
              0.2222222222222222,
              "#7201a8"
             ],
             [
              0.3333333333333333,
              "#9c179e"
             ],
             [
              0.4444444444444444,
              "#bd3786"
             ],
             [
              0.5555555555555556,
              "#d8576b"
             ],
             [
              0.6666666666666666,
              "#ed7953"
             ],
             [
              0.7777777777777778,
              "#fb9f3a"
             ],
             [
              0.8888888888888888,
              "#fdca26"
             ],
             [
              1,
              "#f0f921"
             ]
            ],
            "type": "heatmap"
           }
          ],
          "heatmapgl": [
           {
            "colorbar": {
             "outlinewidth": 0,
             "ticks": ""
            },
            "colorscale": [
             [
              0,
              "#0d0887"
             ],
             [
              0.1111111111111111,
              "#46039f"
             ],
             [
              0.2222222222222222,
              "#7201a8"
             ],
             [
              0.3333333333333333,
              "#9c179e"
             ],
             [
              0.4444444444444444,
              "#bd3786"
             ],
             [
              0.5555555555555556,
              "#d8576b"
             ],
             [
              0.6666666666666666,
              "#ed7953"
             ],
             [
              0.7777777777777778,
              "#fb9f3a"
             ],
             [
              0.8888888888888888,
              "#fdca26"
             ],
             [
              1,
              "#f0f921"
             ]
            ],
            "type": "heatmapgl"
           }
          ],
          "histogram": [
           {
            "marker": {
             "pattern": {
              "fillmode": "overlay",
              "size": 10,
              "solidity": 0.2
             }
            },
            "type": "histogram"
           }
          ],
          "histogram2d": [
           {
            "colorbar": {
             "outlinewidth": 0,
             "ticks": ""
            },
            "colorscale": [
             [
              0,
              "#0d0887"
             ],
             [
              0.1111111111111111,
              "#46039f"
             ],
             [
              0.2222222222222222,
              "#7201a8"
             ],
             [
              0.3333333333333333,
              "#9c179e"
             ],
             [
              0.4444444444444444,
              "#bd3786"
             ],
             [
              0.5555555555555556,
              "#d8576b"
             ],
             [
              0.6666666666666666,
              "#ed7953"
             ],
             [
              0.7777777777777778,
              "#fb9f3a"
             ],
             [
              0.8888888888888888,
              "#fdca26"
             ],
             [
              1,
              "#f0f921"
             ]
            ],
            "type": "histogram2d"
           }
          ],
          "histogram2dcontour": [
           {
            "colorbar": {
             "outlinewidth": 0,
             "ticks": ""
            },
            "colorscale": [
             [
              0,
              "#0d0887"
             ],
             [
              0.1111111111111111,
              "#46039f"
             ],
             [
              0.2222222222222222,
              "#7201a8"
             ],
             [
              0.3333333333333333,
              "#9c179e"
             ],
             [
              0.4444444444444444,
              "#bd3786"
             ],
             [
              0.5555555555555556,
              "#d8576b"
             ],
             [
              0.6666666666666666,
              "#ed7953"
             ],
             [
              0.7777777777777778,
              "#fb9f3a"
             ],
             [
              0.8888888888888888,
              "#fdca26"
             ],
             [
              1,
              "#f0f921"
             ]
            ],
            "type": "histogram2dcontour"
           }
          ],
          "mesh3d": [
           {
            "colorbar": {
             "outlinewidth": 0,
             "ticks": ""
            },
            "type": "mesh3d"
           }
          ],
          "parcoords": [
           {
            "line": {
             "colorbar": {
              "outlinewidth": 0,
              "ticks": ""
             }
            },
            "type": "parcoords"
           }
          ],
          "pie": [
           {
            "automargin": true,
            "type": "pie"
           }
          ],
          "scatter": [
           {
            "fillpattern": {
             "fillmode": "overlay",
             "size": 10,
             "solidity": 0.2
            },
            "type": "scatter"
           }
          ],
          "scatter3d": [
           {
            "line": {
             "colorbar": {
              "outlinewidth": 0,
              "ticks": ""
             }
            },
            "marker": {
             "colorbar": {
              "outlinewidth": 0,
              "ticks": ""
             }
            },
            "type": "scatter3d"
           }
          ],
          "scattercarpet": [
           {
            "marker": {
             "colorbar": {
              "outlinewidth": 0,
              "ticks": ""
             }
            },
            "type": "scattercarpet"
           }
          ],
          "scattergeo": [
           {
            "marker": {
             "colorbar": {
              "outlinewidth": 0,
              "ticks": ""
             }
            },
            "type": "scattergeo"
           }
          ],
          "scattergl": [
           {
            "marker": {
             "colorbar": {
              "outlinewidth": 0,
              "ticks": ""
             }
            },
            "type": "scattergl"
           }
          ],
          "scattermapbox": [
           {
            "marker": {
             "colorbar": {
              "outlinewidth": 0,
              "ticks": ""
             }
            },
            "type": "scattermapbox"
           }
          ],
          "scatterpolar": [
           {
            "marker": {
             "colorbar": {
              "outlinewidth": 0,
              "ticks": ""
             }
            },
            "type": "scatterpolar"
           }
          ],
          "scatterpolargl": [
           {
            "marker": {
             "colorbar": {
              "outlinewidth": 0,
              "ticks": ""
             }
            },
            "type": "scatterpolargl"
           }
          ],
          "scatterternary": [
           {
            "marker": {
             "colorbar": {
              "outlinewidth": 0,
              "ticks": ""
             }
            },
            "type": "scatterternary"
           }
          ],
          "surface": [
           {
            "colorbar": {
             "outlinewidth": 0,
             "ticks": ""
            },
            "colorscale": [
             [
              0,
              "#0d0887"
             ],
             [
              0.1111111111111111,
              "#46039f"
             ],
             [
              0.2222222222222222,
              "#7201a8"
             ],
             [
              0.3333333333333333,
              "#9c179e"
             ],
             [
              0.4444444444444444,
              "#bd3786"
             ],
             [
              0.5555555555555556,
              "#d8576b"
             ],
             [
              0.6666666666666666,
              "#ed7953"
             ],
             [
              0.7777777777777778,
              "#fb9f3a"
             ],
             [
              0.8888888888888888,
              "#fdca26"
             ],
             [
              1,
              "#f0f921"
             ]
            ],
            "type": "surface"
           }
          ],
          "table": [
           {
            "cells": {
             "fill": {
              "color": "#EBF0F8"
             },
             "line": {
              "color": "white"
             }
            },
            "header": {
             "fill": {
              "color": "#C8D4E3"
             },
             "line": {
              "color": "white"
             }
            },
            "type": "table"
           }
          ]
         },
         "layout": {
          "annotationdefaults": {
           "arrowcolor": "#2a3f5f",
           "arrowhead": 0,
           "arrowwidth": 1
          },
          "autotypenumbers": "strict",
          "coloraxis": {
           "colorbar": {
            "outlinewidth": 0,
            "ticks": ""
           }
          },
          "colorscale": {
           "diverging": [
            [
             0,
             "#8e0152"
            ],
            [
             0.1,
             "#c51b7d"
            ],
            [
             0.2,
             "#de77ae"
            ],
            [
             0.3,
             "#f1b6da"
            ],
            [
             0.4,
             "#fde0ef"
            ],
            [
             0.5,
             "#f7f7f7"
            ],
            [
             0.6,
             "#e6f5d0"
            ],
            [
             0.7,
             "#b8e186"
            ],
            [
             0.8,
             "#7fbc41"
            ],
            [
             0.9,
             "#4d9221"
            ],
            [
             1,
             "#276419"
            ]
           ],
           "sequential": [
            [
             0,
             "#0d0887"
            ],
            [
             0.1111111111111111,
             "#46039f"
            ],
            [
             0.2222222222222222,
             "#7201a8"
            ],
            [
             0.3333333333333333,
             "#9c179e"
            ],
            [
             0.4444444444444444,
             "#bd3786"
            ],
            [
             0.5555555555555556,
             "#d8576b"
            ],
            [
             0.6666666666666666,
             "#ed7953"
            ],
            [
             0.7777777777777778,
             "#fb9f3a"
            ],
            [
             0.8888888888888888,
             "#fdca26"
            ],
            [
             1,
             "#f0f921"
            ]
           ],
           "sequentialminus": [
            [
             0,
             "#0d0887"
            ],
            [
             0.1111111111111111,
             "#46039f"
            ],
            [
             0.2222222222222222,
             "#7201a8"
            ],
            [
             0.3333333333333333,
             "#9c179e"
            ],
            [
             0.4444444444444444,
             "#bd3786"
            ],
            [
             0.5555555555555556,
             "#d8576b"
            ],
            [
             0.6666666666666666,
             "#ed7953"
            ],
            [
             0.7777777777777778,
             "#fb9f3a"
            ],
            [
             0.8888888888888888,
             "#fdca26"
            ],
            [
             1,
             "#f0f921"
            ]
           ]
          },
          "colorway": [
           "#636efa",
           "#EF553B",
           "#00cc96",
           "#ab63fa",
           "#FFA15A",
           "#19d3f3",
           "#FF6692",
           "#B6E880",
           "#FF97FF",
           "#FECB52"
          ],
          "font": {
           "color": "#2a3f5f"
          },
          "geo": {
           "bgcolor": "white",
           "lakecolor": "white",
           "landcolor": "#E5ECF6",
           "showlakes": true,
           "showland": true,
           "subunitcolor": "white"
          },
          "hoverlabel": {
           "align": "left"
          },
          "hovermode": "closest",
          "mapbox": {
           "style": "light"
          },
          "paper_bgcolor": "white",
          "plot_bgcolor": "#E5ECF6",
          "polar": {
           "angularaxis": {
            "gridcolor": "white",
            "linecolor": "white",
            "ticks": ""
           },
           "bgcolor": "#E5ECF6",
           "radialaxis": {
            "gridcolor": "white",
            "linecolor": "white",
            "ticks": ""
           }
          },
          "scene": {
           "xaxis": {
            "backgroundcolor": "#E5ECF6",
            "gridcolor": "white",
            "gridwidth": 2,
            "linecolor": "white",
            "showbackground": true,
            "ticks": "",
            "zerolinecolor": "white"
           },
           "yaxis": {
            "backgroundcolor": "#E5ECF6",
            "gridcolor": "white",
            "gridwidth": 2,
            "linecolor": "white",
            "showbackground": true,
            "ticks": "",
            "zerolinecolor": "white"
           },
           "zaxis": {
            "backgroundcolor": "#E5ECF6",
            "gridcolor": "white",
            "gridwidth": 2,
            "linecolor": "white",
            "showbackground": true,
            "ticks": "",
            "zerolinecolor": "white"
           }
          },
          "shapedefaults": {
           "line": {
            "color": "#2a3f5f"
           }
          },
          "ternary": {
           "aaxis": {
            "gridcolor": "white",
            "linecolor": "white",
            "ticks": ""
           },
           "baxis": {
            "gridcolor": "white",
            "linecolor": "white",
            "ticks": ""
           },
           "bgcolor": "#E5ECF6",
           "caxis": {
            "gridcolor": "white",
            "linecolor": "white",
            "ticks": ""
           }
          },
          "title": {
           "x": 0.05
          },
          "xaxis": {
           "automargin": true,
           "gridcolor": "white",
           "linecolor": "white",
           "ticks": "",
           "title": {
            "standoff": 15
           },
           "zerolinecolor": "white",
           "zerolinewidth": 2
          },
          "yaxis": {
           "automargin": true,
           "gridcolor": "white",
           "linecolor": "white",
           "ticks": "",
           "title": {
            "standoff": 15
           },
           "zerolinecolor": "white",
           "zerolinewidth": 2
          }
         }
        },
        "title": {
         "text": "GANTT Chart"
        },
        "xaxis": {
         "range": [
          "1970-01-01T00:37:27",
          "1970-01-01T16:35:39"
         ],
         "title": {
          "font": {
           "color": "#7f7f7f",
           "family": "Courier New, monospace",
           "size": 18
          },
          "text": "Time"
         }
        },
        "yaxis": {
         "title": {
          "font": {
           "color": "#7f7f7f",
           "family": "Courier New, monospace",
           "size": 18
          },
          "text": "Activities"
         }
        }
       }
      },
      "text/html": [
       "<div>                            <div id=\"76fb4cf8-1916-4f3b-a49b-00289e6d2819\" class=\"plotly-graph-div\" style=\"height:525px; width:100%;\"></div>            <script type=\"text/javascript\">                require([\"plotly\"], function(Plotly) {                    window.PLOTLYENV=window.PLOTLYENV || {};                                    if (document.getElementById(\"76fb4cf8-1916-4f3b-a49b-00289e6d2819\")) {                    Plotly.newPlot(                        \"76fb4cf8-1916-4f3b-a49b-00289e6d2819\",                        [{\"connectgaps\":false,\"hoverinfo\":\"y+name\",\"line\":{\"color\":\"rgb(190,171,178)\",\"width\":10},\"mode\":\"lines\",\"name\":\"loading:Carrier A\",\"x\":[\"1970-01-01T02:34:07\",\"1970-01-01T02:34:07\",\"1970-01-01T03:07:27\",\"1970-01-01T03:07:27\",\"1970-01-01T03:07:27\",\"1970-01-01T05:27:00\",\"1970-01-01T05:27:00\",\"1970-01-01T06:00:20\",\"1970-01-01T06:00:20\",\"1970-01-01T06:00:20\",\"1970-01-01T08:19:53\",\"1970-01-01T08:19:53\",\"1970-01-01T08:53:13\",\"1970-01-01T08:53:13\",\"1970-01-01T08:53:13\",\"1970-01-01T11:12:46\",\"1970-01-01T11:12:46\",\"1970-01-01T11:46:06\",\"1970-01-01T11:46:06\",\"1970-01-01T11:46:06\",\"1970-01-01T14:05:39\",\"1970-01-01T14:05:39\",\"1970-01-01T14:38:59\",\"1970-01-01T14:38:59\",\"1970-01-01T14:38:59\"],\"y\":[\"loading:Carrier A\",\"loading:Carrier A\",\"loading:Carrier A\",\"loading:Carrier A\",null,\"loading:Carrier A\",\"loading:Carrier A\",\"loading:Carrier A\",\"loading:Carrier A\",null,\"loading:Carrier A\",\"loading:Carrier A\",\"loading:Carrier A\",\"loading:Carrier A\",null,\"loading:Carrier A\",\"loading:Carrier A\",\"loading:Carrier A\",\"loading:Carrier A\",null,\"loading:Carrier A\",\"loading:Carrier A\",\"loading:Carrier A\",\"loading:Carrier A\",null],\"type\":\"scatter\"},{\"connectgaps\":false,\"hoverinfo\":\"y+name\",\"line\":{\"color\":\"rgb(254,235,242)\",\"width\":10},\"mode\":\"lines\",\"name\":\"loading:Carrier B\",\"x\":[\"1970-01-01T01:52:27\",\"1970-01-01T01:52:27\",\"1970-01-01T02:34:07\",\"1970-01-01T02:34:07\",\"1970-01-01T02:34:07\",\"1970-01-01T04:37:31\",\"1970-01-01T04:37:31\",\"1970-01-01T05:19:11\",\"1970-01-01T05:19:11\",\"1970-01-01T05:19:11\",\"1970-01-01T07:22:35\",\"1970-01-01T07:22:35\",\"1970-01-01T08:04:15\",\"1970-01-01T08:04:15\",\"1970-01-01T08:04:15\",\"1970-01-01T10:08:13\",\"1970-01-01T10:08:13\",\"1970-01-01T10:49:53\",\"1970-01-01T10:49:53\",\"1970-01-01T10:49:53\",\"1970-01-01T13:01:06\",\"1970-01-01T13:01:06\",\"1970-01-01T13:42:46\",\"1970-01-01T13:42:46\",\"1970-01-01T13:42:46\",\"1970-01-01T15:53:59\",\"1970-01-01T15:53:59\",\"1970-01-01T16:35:39\",\"1970-01-01T16:35:39\",\"1970-01-01T16:35:39\"],\"y\":[\"loading:Carrier B\",\"loading:Carrier B\",\"loading:Carrier B\",\"loading:Carrier B\",null,\"loading:Carrier B\",\"loading:Carrier B\",\"loading:Carrier B\",\"loading:Carrier B\",null,\"loading:Carrier B\",\"loading:Carrier B\",\"loading:Carrier B\",\"loading:Carrier B\",null,\"loading:Carrier B\",\"loading:Carrier B\",\"loading:Carrier B\",\"loading:Carrier B\",null,\"loading:Carrier B\",\"loading:Carrier B\",\"loading:Carrier B\",\"loading:Carrier B\",null,\"loading:Carrier B\",\"loading:Carrier B\",\"loading:Carrier B\",\"loading:Carrier B\",null],\"type\":\"scatter\"},{\"connectgaps\":false,\"hoverinfo\":\"y+name\",\"line\":{\"color\":\"rgb(62,43,50)\",\"width\":10},\"mode\":\"lines\",\"name\":\"loading:Carrier C\",\"x\":[\"1970-01-01T00:37:27\",\"1970-01-01T00:37:27\",\"1970-01-01T01:10:47\",\"1970-01-01T01:10:47\",\"1970-01-01T01:10:47\",\"1970-01-01T03:07:27\",\"1970-01-01T03:07:27\",\"1970-01-01T03:40:47\",\"1970-01-01T03:40:47\",\"1970-01-01T03:40:47\",\"1970-01-01T06:00:20\",\"1970-01-01T06:00:20\",\"1970-01-01T06:33:40\",\"1970-01-01T06:33:40\",\"1970-01-01T06:33:40\",\"1970-01-01T08:53:13\",\"1970-01-01T08:53:13\",\"1970-01-01T09:26:33\",\"1970-01-01T09:26:33\",\"1970-01-01T09:26:33\",\"1970-01-01T11:46:06\",\"1970-01-01T11:46:06\",\"1970-01-01T12:19:26\",\"1970-01-01T12:19:26\",\"1970-01-01T12:19:26\",\"1970-01-01T14:38:59\",\"1970-01-01T14:38:59\",\"1970-01-01T15:12:19\",\"1970-01-01T15:12:19\",\"1970-01-01T15:12:19\"],\"y\":[\"loading:Carrier C\",\"loading:Carrier C\",\"loading:Carrier C\",\"loading:Carrier C\",null,\"loading:Carrier C\",\"loading:Carrier C\",\"loading:Carrier C\",\"loading:Carrier C\",null,\"loading:Carrier C\",\"loading:Carrier C\",\"loading:Carrier C\",\"loading:Carrier C\",null,\"loading:Carrier C\",\"loading:Carrier C\",\"loading:Carrier C\",\"loading:Carrier C\",null,\"loading:Carrier C\",\"loading:Carrier C\",\"loading:Carrier C\",\"loading:Carrier C\",null,\"loading:Carrier C\",\"loading:Carrier C\",\"loading:Carrier C\",\"loading:Carrier C\",null],\"type\":\"scatter\"},{\"connectgaps\":false,\"hoverinfo\":\"y+name\",\"line\":{\"color\":\"rgb(126,107,114)\",\"width\":10},\"mode\":\"lines\",\"name\":\"loading:Barge I\",\"x\":[\"1970-01-01T01:10:47\",\"1970-01-01T01:10:47\",\"1970-01-01T01:52:27\",\"1970-01-01T01:52:27\",\"1970-01-01T01:52:27\",\"1970-01-01T03:52:45\",\"1970-01-01T03:52:45\",\"1970-01-01T04:34:25\",\"1970-01-01T04:34:25\",\"1970-01-01T04:34:25\",\"1970-01-01T06:34:43\",\"1970-01-01T06:34:43\",\"1970-01-01T07:16:23\",\"1970-01-01T07:16:23\",\"1970-01-01T07:16:23\",\"1970-01-01T09:26:33\",\"1970-01-01T09:26:33\",\"1970-01-01T10:08:13\",\"1970-01-01T10:08:13\",\"1970-01-01T10:08:13\",\"1970-01-01T12:19:26\",\"1970-01-01T12:19:26\",\"1970-01-01T13:01:06\",\"1970-01-01T13:01:06\",\"1970-01-01T13:01:06\",\"1970-01-01T15:12:19\",\"1970-01-01T15:12:19\",\"1970-01-01T15:53:59\",\"1970-01-01T15:53:59\",\"1970-01-01T15:53:59\"],\"y\":[\"loading:Barge I\",\"loading:Barge I\",\"loading:Barge I\",\"loading:Barge I\",null,\"loading:Barge I\",\"loading:Barge I\",\"loading:Barge I\",\"loading:Barge I\",null,\"loading:Barge I\",\"loading:Barge I\",\"loading:Barge I\",\"loading:Barge I\",null,\"loading:Barge I\",\"loading:Barge I\",\"loading:Barge I\",\"loading:Barge I\",null,\"loading:Barge I\",\"loading:Barge I\",\"loading:Barge I\",\"loading:Barge I\",null,\"loading:Barge I\",\"loading:Barge I\",\"loading:Barge I\",\"loading:Barge I\",null],\"type\":\"scatter\"}],                        {\"hovermode\":\"closest\",\"legend\":{\"orientation\":\"h\",\"x\":0,\"y\":-0.2},\"template\":{\"data\":{\"barpolar\":[{\"marker\":{\"line\":{\"color\":\"#E5ECF6\",\"width\":0.5},\"pattern\":{\"fillmode\":\"overlay\",\"size\":10,\"solidity\":0.2}},\"type\":\"barpolar\"}],\"bar\":[{\"error_x\":{\"color\":\"#2a3f5f\"},\"error_y\":{\"color\":\"#2a3f5f\"},\"marker\":{\"line\":{\"color\":\"#E5ECF6\",\"width\":0.5},\"pattern\":{\"fillmode\":\"overlay\",\"size\":10,\"solidity\":0.2}},\"type\":\"bar\"}],\"carpet\":[{\"aaxis\":{\"endlinecolor\":\"#2a3f5f\",\"gridcolor\":\"white\",\"linecolor\":\"white\",\"minorgridcolor\":\"white\",\"startlinecolor\":\"#2a3f5f\"},\"baxis\":{\"endlinecolor\":\"#2a3f5f\",\"gridcolor\":\"white\",\"linecolor\":\"white\",\"minorgridcolor\":\"white\",\"startlinecolor\":\"#2a3f5f\"},\"type\":\"carpet\"}],\"choropleth\":[{\"colorbar\":{\"outlinewidth\":0,\"ticks\":\"\"},\"type\":\"choropleth\"}],\"contourcarpet\":[{\"colorbar\":{\"outlinewidth\":0,\"ticks\":\"\"},\"type\":\"contourcarpet\"}],\"contour\":[{\"colorbar\":{\"outlinewidth\":0,\"ticks\":\"\"},\"colorscale\":[[0.0,\"#0d0887\"],[0.1111111111111111,\"#46039f\"],[0.2222222222222222,\"#7201a8\"],[0.3333333333333333,\"#9c179e\"],[0.4444444444444444,\"#bd3786\"],[0.5555555555555556,\"#d8576b\"],[0.6666666666666666,\"#ed7953\"],[0.7777777777777778,\"#fb9f3a\"],[0.8888888888888888,\"#fdca26\"],[1.0,\"#f0f921\"]],\"type\":\"contour\"}],\"heatmapgl\":[{\"colorbar\":{\"outlinewidth\":0,\"ticks\":\"\"},\"colorscale\":[[0.0,\"#0d0887\"],[0.1111111111111111,\"#46039f\"],[0.2222222222222222,\"#7201a8\"],[0.3333333333333333,\"#9c179e\"],[0.4444444444444444,\"#bd3786\"],[0.5555555555555556,\"#d8576b\"],[0.6666666666666666,\"#ed7953\"],[0.7777777777777778,\"#fb9f3a\"],[0.8888888888888888,\"#fdca26\"],[1.0,\"#f0f921\"]],\"type\":\"heatmapgl\"}],\"heatmap\":[{\"colorbar\":{\"outlinewidth\":0,\"ticks\":\"\"},\"colorscale\":[[0.0,\"#0d0887\"],[0.1111111111111111,\"#46039f\"],[0.2222222222222222,\"#7201a8\"],[0.3333333333333333,\"#9c179e\"],[0.4444444444444444,\"#bd3786\"],[0.5555555555555556,\"#d8576b\"],[0.6666666666666666,\"#ed7953\"],[0.7777777777777778,\"#fb9f3a\"],[0.8888888888888888,\"#fdca26\"],[1.0,\"#f0f921\"]],\"type\":\"heatmap\"}],\"histogram2dcontour\":[{\"colorbar\":{\"outlinewidth\":0,\"ticks\":\"\"},\"colorscale\":[[0.0,\"#0d0887\"],[0.1111111111111111,\"#46039f\"],[0.2222222222222222,\"#7201a8\"],[0.3333333333333333,\"#9c179e\"],[0.4444444444444444,\"#bd3786\"],[0.5555555555555556,\"#d8576b\"],[0.6666666666666666,\"#ed7953\"],[0.7777777777777778,\"#fb9f3a\"],[0.8888888888888888,\"#fdca26\"],[1.0,\"#f0f921\"]],\"type\":\"histogram2dcontour\"}],\"histogram2d\":[{\"colorbar\":{\"outlinewidth\":0,\"ticks\":\"\"},\"colorscale\":[[0.0,\"#0d0887\"],[0.1111111111111111,\"#46039f\"],[0.2222222222222222,\"#7201a8\"],[0.3333333333333333,\"#9c179e\"],[0.4444444444444444,\"#bd3786\"],[0.5555555555555556,\"#d8576b\"],[0.6666666666666666,\"#ed7953\"],[0.7777777777777778,\"#fb9f3a\"],[0.8888888888888888,\"#fdca26\"],[1.0,\"#f0f921\"]],\"type\":\"histogram2d\"}],\"histogram\":[{\"marker\":{\"pattern\":{\"fillmode\":\"overlay\",\"size\":10,\"solidity\":0.2}},\"type\":\"histogram\"}],\"mesh3d\":[{\"colorbar\":{\"outlinewidth\":0,\"ticks\":\"\"},\"type\":\"mesh3d\"}],\"parcoords\":[{\"line\":{\"colorbar\":{\"outlinewidth\":0,\"ticks\":\"\"}},\"type\":\"parcoords\"}],\"pie\":[{\"automargin\":true,\"type\":\"pie\"}],\"scatter3d\":[{\"line\":{\"colorbar\":{\"outlinewidth\":0,\"ticks\":\"\"}},\"marker\":{\"colorbar\":{\"outlinewidth\":0,\"ticks\":\"\"}},\"type\":\"scatter3d\"}],\"scattercarpet\":[{\"marker\":{\"colorbar\":{\"outlinewidth\":0,\"ticks\":\"\"}},\"type\":\"scattercarpet\"}],\"scattergeo\":[{\"marker\":{\"colorbar\":{\"outlinewidth\":0,\"ticks\":\"\"}},\"type\":\"scattergeo\"}],\"scattergl\":[{\"marker\":{\"colorbar\":{\"outlinewidth\":0,\"ticks\":\"\"}},\"type\":\"scattergl\"}],\"scattermapbox\":[{\"marker\":{\"colorbar\":{\"outlinewidth\":0,\"ticks\":\"\"}},\"type\":\"scattermapbox\"}],\"scatterpolargl\":[{\"marker\":{\"colorbar\":{\"outlinewidth\":0,\"ticks\":\"\"}},\"type\":\"scatterpolargl\"}],\"scatterpolar\":[{\"marker\":{\"colorbar\":{\"outlinewidth\":0,\"ticks\":\"\"}},\"type\":\"scatterpolar\"}],\"scatter\":[{\"fillpattern\":{\"fillmode\":\"overlay\",\"size\":10,\"solidity\":0.2},\"type\":\"scatter\"}],\"scatterternary\":[{\"marker\":{\"colorbar\":{\"outlinewidth\":0,\"ticks\":\"\"}},\"type\":\"scatterternary\"}],\"surface\":[{\"colorbar\":{\"outlinewidth\":0,\"ticks\":\"\"},\"colorscale\":[[0.0,\"#0d0887\"],[0.1111111111111111,\"#46039f\"],[0.2222222222222222,\"#7201a8\"],[0.3333333333333333,\"#9c179e\"],[0.4444444444444444,\"#bd3786\"],[0.5555555555555556,\"#d8576b\"],[0.6666666666666666,\"#ed7953\"],[0.7777777777777778,\"#fb9f3a\"],[0.8888888888888888,\"#fdca26\"],[1.0,\"#f0f921\"]],\"type\":\"surface\"}],\"table\":[{\"cells\":{\"fill\":{\"color\":\"#EBF0F8\"},\"line\":{\"color\":\"white\"}},\"header\":{\"fill\":{\"color\":\"#C8D4E3\"},\"line\":{\"color\":\"white\"}},\"type\":\"table\"}]},\"layout\":{\"annotationdefaults\":{\"arrowcolor\":\"#2a3f5f\",\"arrowhead\":0,\"arrowwidth\":1},\"autotypenumbers\":\"strict\",\"coloraxis\":{\"colorbar\":{\"outlinewidth\":0,\"ticks\":\"\"}},\"colorscale\":{\"diverging\":[[0,\"#8e0152\"],[0.1,\"#c51b7d\"],[0.2,\"#de77ae\"],[0.3,\"#f1b6da\"],[0.4,\"#fde0ef\"],[0.5,\"#f7f7f7\"],[0.6,\"#e6f5d0\"],[0.7,\"#b8e186\"],[0.8,\"#7fbc41\"],[0.9,\"#4d9221\"],[1,\"#276419\"]],\"sequential\":[[0.0,\"#0d0887\"],[0.1111111111111111,\"#46039f\"],[0.2222222222222222,\"#7201a8\"],[0.3333333333333333,\"#9c179e\"],[0.4444444444444444,\"#bd3786\"],[0.5555555555555556,\"#d8576b\"],[0.6666666666666666,\"#ed7953\"],[0.7777777777777778,\"#fb9f3a\"],[0.8888888888888888,\"#fdca26\"],[1.0,\"#f0f921\"]],\"sequentialminus\":[[0.0,\"#0d0887\"],[0.1111111111111111,\"#46039f\"],[0.2222222222222222,\"#7201a8\"],[0.3333333333333333,\"#9c179e\"],[0.4444444444444444,\"#bd3786\"],[0.5555555555555556,\"#d8576b\"],[0.6666666666666666,\"#ed7953\"],[0.7777777777777778,\"#fb9f3a\"],[0.8888888888888888,\"#fdca26\"],[1.0,\"#f0f921\"]]},\"colorway\":[\"#636efa\",\"#EF553B\",\"#00cc96\",\"#ab63fa\",\"#FFA15A\",\"#19d3f3\",\"#FF6692\",\"#B6E880\",\"#FF97FF\",\"#FECB52\"],\"font\":{\"color\":\"#2a3f5f\"},\"geo\":{\"bgcolor\":\"white\",\"lakecolor\":\"white\",\"landcolor\":\"#E5ECF6\",\"showlakes\":true,\"showland\":true,\"subunitcolor\":\"white\"},\"hoverlabel\":{\"align\":\"left\"},\"hovermode\":\"closest\",\"mapbox\":{\"style\":\"light\"},\"paper_bgcolor\":\"white\",\"plot_bgcolor\":\"#E5ECF6\",\"polar\":{\"angularaxis\":{\"gridcolor\":\"white\",\"linecolor\":\"white\",\"ticks\":\"\"},\"bgcolor\":\"#E5ECF6\",\"radialaxis\":{\"gridcolor\":\"white\",\"linecolor\":\"white\",\"ticks\":\"\"}},\"scene\":{\"xaxis\":{\"backgroundcolor\":\"#E5ECF6\",\"gridcolor\":\"white\",\"gridwidth\":2,\"linecolor\":\"white\",\"showbackground\":true,\"ticks\":\"\",\"zerolinecolor\":\"white\"},\"yaxis\":{\"backgroundcolor\":\"#E5ECF6\",\"gridcolor\":\"white\",\"gridwidth\":2,\"linecolor\":\"white\",\"showbackground\":true,\"ticks\":\"\",\"zerolinecolor\":\"white\"},\"zaxis\":{\"backgroundcolor\":\"#E5ECF6\",\"gridcolor\":\"white\",\"gridwidth\":2,\"linecolor\":\"white\",\"showbackground\":true,\"ticks\":\"\",\"zerolinecolor\":\"white\"}},\"shapedefaults\":{\"line\":{\"color\":\"#2a3f5f\"}},\"ternary\":{\"aaxis\":{\"gridcolor\":\"white\",\"linecolor\":\"white\",\"ticks\":\"\"},\"baxis\":{\"gridcolor\":\"white\",\"linecolor\":\"white\",\"ticks\":\"\"},\"bgcolor\":\"#E5ECF6\",\"caxis\":{\"gridcolor\":\"white\",\"linecolor\":\"white\",\"ticks\":\"\"}},\"title\":{\"x\":0.05},\"xaxis\":{\"automargin\":true,\"gridcolor\":\"white\",\"linecolor\":\"white\",\"ticks\":\"\",\"title\":{\"standoff\":15},\"zerolinecolor\":\"white\",\"zerolinewidth\":2},\"yaxis\":{\"automargin\":true,\"gridcolor\":\"white\",\"linecolor\":\"white\",\"ticks\":\"\",\"title\":{\"standoff\":15},\"zerolinecolor\":\"white\",\"zerolinewidth\":2}}},\"title\":{\"text\":\"GANTT Chart\"},\"xaxis\":{\"range\":[\"1970-01-01T00:37:27\",\"1970-01-01T16:35:39\"],\"title\":{\"font\":{\"color\":\"#7f7f7f\",\"family\":\"Courier New, monospace\",\"size\":18},\"text\":\"Time\"}},\"yaxis\":{\"title\":{\"font\":{\"color\":\"#7f7f7f\",\"family\":\"Courier New, monospace\",\"size\":18},\"text\":\"Activities\"}}},                        {\"responsive\": true}                    ).then(function(){\n",
       "                            \n",
       "var gd = document.getElementById('76fb4cf8-1916-4f3b-a49b-00289e6d2819');\n",
       "var x = new MutationObserver(function (mutations, observer) {{\n",
       "        var display = window.getComputedStyle(gd).display;\n",
       "        if (!display || display === 'none') {{\n",
       "            console.log([gd, 'removed!']);\n",
       "            Plotly.purge(gd);\n",
       "            observer.disconnect();\n",
       "        }}\n",
       "}});\n",
       "\n",
       "// Listen for the removal of the full notebook cells\n",
       "var notebookContainer = gd.closest('#notebook-container');\n",
       "if (notebookContainer) {{\n",
       "    x.observe(notebookContainer, {childList: true});\n",
       "}}\n",
       "\n",
       "// Listen for the clearing of the current output cell\n",
       "var outputEl = gd.closest('.output');\n",
       "if (outputEl) {{\n",
       "    x.observe(outputEl, {childList: true});\n",
       "}}\n",
       "\n",
       "                        })                };                });            </script>        </div>"
      ]
     },
     "metadata": {},
     "output_type": "display_data"
    }
   ],
   "source": [
    "flat = pd.DataFrame(flatten(activities))\n",
    "loading = list(flat[flat['ActivityName'].str.startswith('loading')]['activity'].values)\n",
    "fig = get_gantt_chart(loading)"
   ]
  },
  {
   "cell_type": "code",
   "execution_count": null,
   "id": "e3d5674d",
   "metadata": {},
   "outputs": [],
   "source": []
  },
  {
   "cell_type": "code",
   "execution_count": null,
   "id": "bbcf6f8b",
   "metadata": {},
   "outputs": [],
   "source": []
  }
 ],
 "metadata": {
  "kernelspec": {
   "display_name": "Python 3 (ipykernel)",
   "language": "python",
   "name": "python3"
  },
  "language_info": {
   "codemirror_mode": {
    "name": "ipython",
    "version": 3
   },
   "file_extension": ".py",
   "mimetype": "text/x-python",
   "name": "python",
   "nbconvert_exporter": "python",
   "pygments_lexer": "ipython3",
   "version": "3.9.16"
  }
 },
 "nbformat": 4,
 "nbformat_minor": 5
}
