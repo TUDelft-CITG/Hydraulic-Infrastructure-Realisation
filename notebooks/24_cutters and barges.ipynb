{
 "cells": [
  {
   "cell_type": "markdown",
   "id": "384a3d39",
   "metadata": {},
   "source": [
    "## feeder concept: cutter + barges\n",
    "\n",
    "This notebook shows how to implement a basic feeder concept for a cutter suction dredge working with multiple barges."
   ]
  },
  {
   "cell_type": "code",
   "execution_count": 1,
   "id": "b6580ad4",
   "metadata": {},
   "outputs": [],
   "source": [
    "import datetime, time\n",
    "import simpy\n",
    "\n",
    "import shapely.geometry\n",
    "import pandas as pd\n",
    "\n",
    "import openclsim.core as core\n",
    "import openclsim.model as model\n",
    "from openclsim.utils import flatten, export_concepts, export_activities, export_ranges\n",
    "from openclsim.plot import get_step_chart, get_gantt_chart, get_log_dataframe, get_ranges_dataframe\n",
    "import numpy as np"
   ]
  },
  {
   "cell_type": "code",
   "execution_count": 2,
   "id": "5d93d662",
   "metadata": {},
   "outputs": [],
   "source": [
    "cutter_name    = 'Cutter T'\n",
    "barge_names    = ['Carrier A','Carrier B','Carrier C',\n",
    "                  'Barge I','Barge II','Barge III',\n",
    "                  'Extra 1', 'Extra 2', 'Extra 3']\n",
    "vessel_cost     = {'Carrier A':6000,'Carrier B':6000,'Carrier C':6000,\n",
    "                  'Barge I':5000,'Barge II':5000,'Barge III':5000,\n",
    "                  'Extra 1':4000, 'Extra 2':4000, 'Extra 3':4000,\n",
    "                  'Cutter T':25000} # EUR/day\n",
    "# vessel_amount and vessel_durations are random within a range,\n",
    "# to mimic respectively material density variations\n",
    "# and metocean workability conditions and traffic density.\n",
    "\n",
    "amount_range = [4,6]\n",
    "duration_range = [2000,3000]\n",
    "\n",
    "from_site_name = 'Trench'\n",
    "to_site_name   = 'Reclamation'"
   ]
  },
  {
   "cell_type": "code",
   "execution_count": 3,
   "id": "102a1c18",
   "metadata": {},
   "outputs": [],
   "source": [
    "Site = type(\n",
    "    \"Site\",\n",
    "    (\n",
    "        core.Identifiable,\n",
    "        core.Log,\n",
    "        core.Locatable,\n",
    "        core.HasContainer,\n",
    "        core.HasResource,\n",
    "    ),\n",
    "    {},\n",
    ")\n",
    "TransportProcessingResource = type(\n",
    "    \"TransportProcessingResource\",\n",
    "    (\n",
    "        core.Identifiable,\n",
    "        core.Log,\n",
    "        core.ContainerDependentMovable,\n",
    "        core.Processor,\n",
    "        core.HasResource,\n",
    "    ),\n",
    "    {},\n",
    ")"
   ]
  },
  {
   "cell_type": "code",
   "execution_count": 4,
   "id": "cef14598",
   "metadata": {},
   "outputs": [],
   "source": [
    "def run(NR_BARGES, total_amount, simulation_start=0):\n",
    "    my_env = simpy.Environment(initial_time=simulation_start)\n",
    "    registry = {}\n",
    "\n",
    "    location_from_site = shapely.geometry.Point(4.18055556, 52.18664444)\n",
    "    location_to_site = shapely.geometry.Point(4.25222222, 52.11428333)\n",
    "    \n",
    "    sites = {}\n",
    "\n",
    "    data_from_site = {\"env\": my_env,\n",
    "                      \"name\": from_site_name,\n",
    "                      \"geometry\": location_from_site,\n",
    "                      \"capacity\": total_amount,\n",
    "                      \"level\": total_amount,\n",
    "                      \"nr_resources\":1\n",
    "                     }\n",
    "    from_site =  Site(**data_from_site)\n",
    "    sites[from_site_name] = from_site\n",
    "\n",
    "\n",
    "    location_to_site = shapely.geometry.Point(4.25222222, 52.11428333)\n",
    "    data_to_site = {\"env\": my_env,\n",
    "                    \"name\": to_site_name,\n",
    "                    \"geometry\": location_to_site,\n",
    "                    \"capacity\": total_amount,\n",
    "                    \"level\": 0,\n",
    "                    \"nr_resources\":4\n",
    "                   }\n",
    "    to_site = Site(**data_to_site)\n",
    "    sites[to_site_name] = to_site\n",
    "\n",
    "    vessels = {}\n",
    "\n",
    "    for i in range(NR_BARGES):\n",
    "        vessel_name = barge_names[i]\n",
    "        vessels[vessel_name] = TransportProcessingResource(\n",
    "            env=my_env,\n",
    "            name=vessel_name,\n",
    "            geometry=location_from_site, \n",
    "            capacity=10,\n",
    "            compute_v=lambda x: 10\n",
    "        )\n",
    "    cutter = TransportProcessingResource(\n",
    "        env=my_env,\n",
    "        name=cutter_name,\n",
    "        geometry=location_from_site, \n",
    "        capacity=10,\n",
    "        compute_v=lambda x: 10\n",
    "    )\n",
    "    vessels[cutter_name] = cutter\n",
    "    \n",
    "\n",
    "    activities = {}\n",
    "    for i in range(NR_BARGES):\n",
    "        vessel_name = barge_names[i]\n",
    "        amount = np.random.randint(amount_range[0], amount_range[1]) # handle loading\n",
    "        duration=np.random.randint(duration_range[0], duration_range[1]) # sailing and unloading\n",
    "\n",
    "        requested_resources={}\n",
    "        activities[f\"activity{i}\"] = model.WhileActivity(\n",
    "            env=my_env,\n",
    "            name=f\"while_sequential_activity_subcycle {vessel_name}\",\n",
    "            registry=registry,\n",
    "            sub_processes=[model.SequentialActivity(\n",
    "                env=my_env,\n",
    "                name=f\"sequential_activity_subcycle {vessel_name}\",\n",
    "                registry=registry,\n",
    "                sub_processes=[\n",
    "# cannot be linked to a vessel as it is neither mover, processor, origin or destination\n",
    "#                     model.BasicActivity(\n",
    "#                         env=my_env,\n",
    "#                         name=f\"basic activity:\"+vessels[vessel_name].name,\n",
    "#                         registry=registry,\n",
    "#                         duration=duration,\n",
    "#                         additional_logs=[vessels[vessel_name]],\n",
    "#                     ),\n",
    "                    model.MoveActivity(\n",
    "                        env=my_env,\n",
    "                        name=f\"sailing empty:\"+vessels[vessel_name].name,\n",
    "                        registry=registry,\n",
    "                        mover=vessels[vessel_name],\n",
    "                        destination=from_site,\n",
    "                        duration=duration,\n",
    "                    ),\n",
    "                    model.ShiftAmountActivity(\n",
    "                        env=my_env,\n",
    "                        name=f\"loading:\"+vessels[vessel_name].name,\n",
    "                        registry=registry,\n",
    "                        processor=cutter,\n",
    "                        origin=from_site,\n",
    "                        destination=vessels[vessel_name],\n",
    "                        amount=amount,\n",
    "                        duration=500*amount,\n",
    "                        requested_resources=requested_resources,\n",
    "                    ),\n",
    "                    model.MoveActivity(\n",
    "                        env=my_env,\n",
    "                        name=f\"sailing full:\"+vessels[vessel_name].name,\n",
    "                        registry=registry,\n",
    "                        mover=vessels[vessel_name],\n",
    "                        destination=to_site,\n",
    "                        duration=duration,\n",
    "                    ),\n",
    "                    model.ShiftAmountActivity(\n",
    "                        env=my_env,\n",
    "                        name=f\"unloading:\"+vessels[vessel_name].name,\n",
    "                        registry=registry,\n",
    "                        processor=vessels[vessel_name],\n",
    "                        origin=vessels[vessel_name],\n",
    "                        destination=to_site,\n",
    "                        amount=amount,\n",
    "                        duration=duration,\n",
    "                        requested_resources=requested_resources,\n",
    "                    ),\n",
    "                ],\n",
    "            )],\n",
    "            condition_event=[\n",
    "                {\n",
    "                    \"type\": \"container\", \n",
    "                    \"concept\": to_site, \n",
    "                    \"state\": \"full\",\n",
    "                    \"id_\":\"default_reservations\"\n",
    "                }\n",
    "            ],\n",
    "        )\n",
    "\n",
    "    model.register_processes(list(activities.values()))\n",
    "    my_env.run()\n",
    "    \n",
    "    return {\n",
    "        \"vessels\": vessels,\n",
    "        \"activities\":activities,\n",
    "        \"sites\":sites\n",
    "    }\n"
   ]
  },
  {
   "cell_type": "markdown",
   "id": "a81e634c",
   "metadata": {},
   "source": [
    "# Example plots with 3 barges"
   ]
  },
  {
   "cell_type": "code",
   "execution_count": 5,
   "id": "9aa8b351",
   "metadata": {},
   "outputs": [
    {
     "name": "stdout",
     "output_type": "stream",
     "text": [
      "CPU times: user 40.3 ms, sys: 19.6 ms, total: 59.8 ms\n",
      "Wall time: 51.3 ms\n"
     ]
    }
   ],
   "source": [
    "%%time\n",
    "nbarges = len(barge_names)\n",
    "assert len(set(barge_names))==len(barge_names), 'barge_names need to be unique'\n",
    "total_amount = 100\n",
    "simulation_start = 0\n",
    "res = run(3,total_amount, simulation_start)\n",
    "\n",
    "vessels = res['vessels']\n",
    "sites = res['sites']\n",
    "activities = res['activities']\n",
    "\n",
    "cutter = vessels[cutter_name]\n",
    "to_site = sites[to_site_name]\n",
    "from_site = sites[from_site_name]"
   ]
  },
  {
   "cell_type": "code",
   "execution_count": 6,
   "id": "8f993fc6",
   "metadata": {},
   "outputs": [
    {
     "data": {
      "text/html": [
       "        <script type=\"text/javascript\">\n",
       "        window.PlotlyConfig = {MathJaxConfig: 'local'};\n",
       "        if (window.MathJax && window.MathJax.Hub && window.MathJax.Hub.Config) {window.MathJax.Hub.Config({SVG: {font: \"STIX-Web\"}});}\n",
       "        if (typeof require !== 'undefined') {\n",
       "        require.undef(\"plotly\");\n",
       "        requirejs.config({\n",
       "            paths: {\n",
       "                'plotly': ['https://cdn.plot.ly/plotly-2.18.2.min']\n",
       "            }\n",
       "        });\n",
       "        require(['plotly'], function(Plotly) {\n",
       "            window._Plotly = Plotly;\n",
       "        });\n",
       "        }\n",
       "        </script>\n",
       "        "
      ]
     },
     "metadata": {},
     "output_type": "display_data"
    },
    {
     "data": {
      "application/vnd.plotly.v1+json": {
       "config": {
        "linkText": "Export to plot.ly",
        "plotlyServerURL": "https://plot.ly",
        "showLink": false
       },
       "data": [
        {
         "connectgaps": false,
         "hoverinfo": "y+name",
         "line": {
          "color": "rgb(10,149,178)",
          "width": 10
         },
         "mode": "lines",
         "name": "sailing full:Carrier A",
         "type": "scatter",
         "x": [
          "1970-01-01T02:32:10",
          "1970-01-01T02:32:10",
          "1970-01-01T03:17:39",
          "1970-01-01T03:17:39",
          "1970-01-01T03:17:39",
          "1970-01-01T05:27:08",
          "1970-01-01T05:27:08",
          "1970-01-01T06:12:37",
          "1970-01-01T06:12:37",
          "1970-01-01T06:12:37",
          "1970-01-01T08:22:06",
          "1970-01-01T08:22:06",
          "1970-01-01T09:07:35",
          "1970-01-01T09:07:35",
          "1970-01-01T09:07:35",
          "1970-01-01T11:17:04",
          "1970-01-01T11:17:04",
          "1970-01-01T12:02:33",
          "1970-01-01T12:02:33",
          "1970-01-01T12:02:33",
          "1970-01-01T14:12:02",
          "1970-01-01T14:12:02",
          "1970-01-01T14:57:31",
          "1970-01-01T14:57:31",
          "1970-01-01T14:57:31",
          "1970-01-01T17:07:00",
          "1970-01-01T17:07:00",
          "1970-01-01T17:52:29",
          "1970-01-01T17:52:29",
          "1970-01-01T17:52:29",
          "1970-01-01T20:01:58",
          "1970-01-01T20:01:58",
          "1970-01-01T20:47:27",
          "1970-01-01T20:47:27",
          "1970-01-01T20:47:27"
         ],
         "y": [
          "Carrier A",
          "Carrier A",
          "Carrier A",
          "Carrier A",
          null,
          "Carrier A",
          "Carrier A",
          "Carrier A",
          "Carrier A",
          null,
          "Carrier A",
          "Carrier A",
          "Carrier A",
          "Carrier A",
          null,
          "Carrier A",
          "Carrier A",
          "Carrier A",
          "Carrier A",
          null,
          "Carrier A",
          "Carrier A",
          "Carrier A",
          "Carrier A",
          null,
          "Carrier A",
          "Carrier A",
          "Carrier A",
          "Carrier A",
          null,
          "Carrier A",
          "Carrier A",
          "Carrier A",
          "Carrier A",
          null
         ]
        },
        {
         "connectgaps": false,
         "hoverinfo": "y+name",
         "line": {
          "color": "rgb(27,166,195)",
          "width": 10
         },
         "mode": "lines",
         "name": "sailing empty:Carrier A",
         "type": "scatter",
         "x": [
          "1970-01-01T00:00:00",
          "1970-01-01T00:00:00",
          "1970-01-01T00:45:29",
          "1970-01-01T00:45:29",
          "1970-01-01T00:45:29",
          "1970-01-01T04:03:08",
          "1970-01-01T04:03:08",
          "1970-01-01T04:48:37",
          "1970-01-01T04:48:37",
          "1970-01-01T04:48:37",
          "1970-01-01T06:58:06",
          "1970-01-01T06:58:06",
          "1970-01-01T07:43:35",
          "1970-01-01T07:43:35",
          "1970-01-01T07:43:35",
          "1970-01-01T09:53:04",
          "1970-01-01T09:53:04",
          "1970-01-01T10:38:33",
          "1970-01-01T10:38:33",
          "1970-01-01T10:38:33",
          "1970-01-01T12:48:02",
          "1970-01-01T12:48:02",
          "1970-01-01T13:33:31",
          "1970-01-01T13:33:31",
          "1970-01-01T13:33:31",
          "1970-01-01T15:43:00",
          "1970-01-01T15:43:00",
          "1970-01-01T16:28:29",
          "1970-01-01T16:28:29",
          "1970-01-01T16:28:29",
          "1970-01-01T18:37:58",
          "1970-01-01T18:37:58",
          "1970-01-01T19:23:27",
          "1970-01-01T19:23:27",
          "1970-01-01T19:23:27"
         ],
         "y": [
          "Carrier A",
          "Carrier A",
          "Carrier A",
          "Carrier A",
          null,
          "Carrier A",
          "Carrier A",
          "Carrier A",
          "Carrier A",
          null,
          "Carrier A",
          "Carrier A",
          "Carrier A",
          "Carrier A",
          null,
          "Carrier A",
          "Carrier A",
          "Carrier A",
          "Carrier A",
          null,
          "Carrier A",
          "Carrier A",
          "Carrier A",
          "Carrier A",
          null,
          "Carrier A",
          "Carrier A",
          "Carrier A",
          "Carrier A",
          null,
          "Carrier A",
          "Carrier A",
          "Carrier A",
          "Carrier A",
          null
         ]
        },
        {
         "connectgaps": false,
         "hoverinfo": "y+name",
         "line": {
          "color": "rgb(44,183,212)",
          "width": 10
         },
         "mode": "lines",
         "name": "unloading:Carrier A",
         "type": "scatter",
         "x": [
          "1970-01-01T03:17:39",
          "1970-01-01T03:17:39",
          "1970-01-01T04:03:08",
          "1970-01-01T04:03:08",
          "1970-01-01T04:03:08",
          "1970-01-01T06:12:37",
          "1970-01-01T06:12:37",
          "1970-01-01T06:58:06",
          "1970-01-01T06:58:06",
          "1970-01-01T06:58:06",
          "1970-01-01T09:07:35",
          "1970-01-01T09:07:35",
          "1970-01-01T09:53:04",
          "1970-01-01T09:53:04",
          "1970-01-01T09:53:04",
          "1970-01-01T12:02:33",
          "1970-01-01T12:02:33",
          "1970-01-01T12:48:02",
          "1970-01-01T12:48:02",
          "1970-01-01T12:48:02",
          "1970-01-01T14:57:31",
          "1970-01-01T14:57:31",
          "1970-01-01T15:43:00",
          "1970-01-01T15:43:00",
          "1970-01-01T15:43:00",
          "1970-01-01T17:52:29",
          "1970-01-01T17:52:29",
          "1970-01-01T18:37:58",
          "1970-01-01T18:37:58",
          "1970-01-01T18:37:58",
          "1970-01-01T20:47:27",
          "1970-01-01T20:47:27",
          "1970-01-01T21:32:56",
          "1970-01-01T21:32:56",
          "1970-01-01T21:32:56"
         ],
         "y": [
          "Carrier A",
          "Carrier A",
          "Carrier A",
          "Carrier A",
          null,
          "Carrier A",
          "Carrier A",
          "Carrier A",
          "Carrier A",
          null,
          "Carrier A",
          "Carrier A",
          "Carrier A",
          "Carrier A",
          null,
          "Carrier A",
          "Carrier A",
          "Carrier A",
          "Carrier A",
          null,
          "Carrier A",
          "Carrier A",
          "Carrier A",
          "Carrier A",
          null,
          "Carrier A",
          "Carrier A",
          "Carrier A",
          "Carrier A",
          null,
          "Carrier A",
          "Carrier A",
          "Carrier A",
          "Carrier A",
          null
         ]
        },
        {
         "connectgaps": false,
         "hoverinfo": "y+name",
         "line": {
          "color": "rgb(61,200,229)",
          "width": 10
         },
         "mode": "lines",
         "name": "loading:Carrier A",
         "type": "scatter",
         "x": [
          "1970-01-01T01:58:50",
          "1970-01-01T01:58:50",
          "1970-01-01T02:32:10",
          "1970-01-01T02:32:10",
          "1970-01-01T02:32:10",
          "1970-01-01T04:53:48",
          "1970-01-01T04:53:48",
          "1970-01-01T05:27:08",
          "1970-01-01T05:27:08",
          "1970-01-01T05:27:08",
          "1970-01-01T07:48:46",
          "1970-01-01T07:48:46",
          "1970-01-01T08:22:06",
          "1970-01-01T08:22:06",
          "1970-01-01T08:22:06",
          "1970-01-01T10:43:44",
          "1970-01-01T10:43:44",
          "1970-01-01T11:17:04",
          "1970-01-01T11:17:04",
          "1970-01-01T11:17:04",
          "1970-01-01T13:38:42",
          "1970-01-01T13:38:42",
          "1970-01-01T14:12:02",
          "1970-01-01T14:12:02",
          "1970-01-01T14:12:02",
          "1970-01-01T16:33:40",
          "1970-01-01T16:33:40",
          "1970-01-01T17:07:00",
          "1970-01-01T17:07:00",
          "1970-01-01T17:07:00",
          "1970-01-01T19:28:38",
          "1970-01-01T19:28:38",
          "1970-01-01T20:01:58",
          "1970-01-01T20:01:58",
          "1970-01-01T20:01:58",
          "1970-01-01T01:58:50",
          "1970-01-01T01:58:50",
          "1970-01-01T02:32:10",
          "1970-01-01T02:32:10",
          "1970-01-01T02:32:10",
          "1970-01-01T04:53:48",
          "1970-01-01T04:53:48",
          "1970-01-01T05:27:08",
          "1970-01-01T05:27:08",
          "1970-01-01T05:27:08",
          "1970-01-01T07:48:46",
          "1970-01-01T07:48:46",
          "1970-01-01T08:22:06",
          "1970-01-01T08:22:06",
          "1970-01-01T08:22:06",
          "1970-01-01T10:43:44",
          "1970-01-01T10:43:44",
          "1970-01-01T11:17:04",
          "1970-01-01T11:17:04",
          "1970-01-01T11:17:04",
          "1970-01-01T13:38:42",
          "1970-01-01T13:38:42",
          "1970-01-01T14:12:02",
          "1970-01-01T14:12:02",
          "1970-01-01T14:12:02",
          "1970-01-01T16:33:40",
          "1970-01-01T16:33:40",
          "1970-01-01T17:07:00",
          "1970-01-01T17:07:00",
          "1970-01-01T17:07:00",
          "1970-01-01T19:28:38",
          "1970-01-01T19:28:38",
          "1970-01-01T20:01:58",
          "1970-01-01T20:01:58",
          "1970-01-01T20:01:58"
         ],
         "y": [
          "Carrier A",
          "Carrier A",
          "Carrier A",
          "Carrier A",
          null,
          "Carrier A",
          "Carrier A",
          "Carrier A",
          "Carrier A",
          null,
          "Carrier A",
          "Carrier A",
          "Carrier A",
          "Carrier A",
          null,
          "Carrier A",
          "Carrier A",
          "Carrier A",
          "Carrier A",
          null,
          "Carrier A",
          "Carrier A",
          "Carrier A",
          "Carrier A",
          null,
          "Carrier A",
          "Carrier A",
          "Carrier A",
          "Carrier A",
          null,
          "Carrier A",
          "Carrier A",
          "Carrier A",
          "Carrier A",
          null,
          "Cutter T",
          "Cutter T",
          "Cutter T",
          "Cutter T",
          null,
          "Cutter T",
          "Cutter T",
          "Cutter T",
          "Cutter T",
          null,
          "Cutter T",
          "Cutter T",
          "Cutter T",
          "Cutter T",
          null,
          "Cutter T",
          "Cutter T",
          "Cutter T",
          "Cutter T",
          null,
          "Cutter T",
          "Cutter T",
          "Cutter T",
          "Cutter T",
          null,
          "Cutter T",
          "Cutter T",
          "Cutter T",
          "Cutter T",
          null,
          "Cutter T",
          "Cutter T",
          "Cutter T",
          "Cutter T",
          null
         ]
        },
        {
         "connectgaps": false,
         "hoverinfo": "y+name",
         "line": {
          "color": "rgb(78,217,246)",
          "width": 10
         },
         "mode": "lines",
         "name": "sailing full:Carrier B",
         "type": "scatter",
         "x": [
          "1970-01-01T01:58:50",
          "1970-01-01T01:58:50",
          "1970-01-01T02:43:16",
          "1970-01-01T02:43:16",
          "1970-01-01T02:43:16",
          "1970-01-01T04:53:48",
          "1970-01-01T04:53:48",
          "1970-01-01T05:38:14",
          "1970-01-01T05:38:14",
          "1970-01-01T05:38:14",
          "1970-01-01T07:48:46",
          "1970-01-01T07:48:46",
          "1970-01-01T08:33:12",
          "1970-01-01T08:33:12",
          "1970-01-01T08:33:12",
          "1970-01-01T10:43:44",
          "1970-01-01T10:43:44",
          "1970-01-01T11:28:10",
          "1970-01-01T11:28:10",
          "1970-01-01T11:28:10",
          "1970-01-01T13:38:42",
          "1970-01-01T13:38:42",
          "1970-01-01T14:23:08",
          "1970-01-01T14:23:08",
          "1970-01-01T14:23:08",
          "1970-01-01T16:33:40",
          "1970-01-01T16:33:40",
          "1970-01-01T17:18:06",
          "1970-01-01T17:18:06",
          "1970-01-01T17:18:06",
          "1970-01-01T19:28:38",
          "1970-01-01T19:28:38",
          "1970-01-01T20:13:04",
          "1970-01-01T20:13:04",
          "1970-01-01T20:13:04"
         ],
         "y": [
          "Carrier B",
          "Carrier B",
          "Carrier B",
          "Carrier B",
          null,
          "Carrier B",
          "Carrier B",
          "Carrier B",
          "Carrier B",
          null,
          "Carrier B",
          "Carrier B",
          "Carrier B",
          "Carrier B",
          null,
          "Carrier B",
          "Carrier B",
          "Carrier B",
          "Carrier B",
          null,
          "Carrier B",
          "Carrier B",
          "Carrier B",
          "Carrier B",
          null,
          "Carrier B",
          "Carrier B",
          "Carrier B",
          "Carrier B",
          null,
          "Carrier B",
          "Carrier B",
          "Carrier B",
          "Carrier B",
          null
         ]
        },
        {
         "connectgaps": false,
         "hoverinfo": "y+name",
         "line": {
          "color": "rgb(95,234,7)",
          "width": 10
         },
         "mode": "lines",
         "name": "sailing empty:Carrier B",
         "type": "scatter",
         "x": [
          "1970-01-01T00:00:00",
          "1970-01-01T00:00:00",
          "1970-01-01T00:44:26",
          "1970-01-01T00:44:26",
          "1970-01-01T00:44:26",
          "1970-01-01T03:27:42",
          "1970-01-01T03:27:42",
          "1970-01-01T04:12:08",
          "1970-01-01T04:12:08",
          "1970-01-01T04:12:08",
          "1970-01-01T06:22:40",
          "1970-01-01T06:22:40",
          "1970-01-01T07:07:06",
          "1970-01-01T07:07:06",
          "1970-01-01T07:07:06",
          "1970-01-01T09:17:38",
          "1970-01-01T09:17:38",
          "1970-01-01T10:02:04",
          "1970-01-01T10:02:04",
          "1970-01-01T10:02:04",
          "1970-01-01T12:12:36",
          "1970-01-01T12:12:36",
          "1970-01-01T12:57:02",
          "1970-01-01T12:57:02",
          "1970-01-01T12:57:02",
          "1970-01-01T15:07:34",
          "1970-01-01T15:07:34",
          "1970-01-01T15:52:00",
          "1970-01-01T15:52:00",
          "1970-01-01T15:52:00",
          "1970-01-01T18:02:32",
          "1970-01-01T18:02:32",
          "1970-01-01T18:46:58",
          "1970-01-01T18:46:58",
          "1970-01-01T18:46:58"
         ],
         "y": [
          "Carrier B",
          "Carrier B",
          "Carrier B",
          "Carrier B",
          null,
          "Carrier B",
          "Carrier B",
          "Carrier B",
          "Carrier B",
          null,
          "Carrier B",
          "Carrier B",
          "Carrier B",
          "Carrier B",
          null,
          "Carrier B",
          "Carrier B",
          "Carrier B",
          "Carrier B",
          null,
          "Carrier B",
          "Carrier B",
          "Carrier B",
          "Carrier B",
          null,
          "Carrier B",
          "Carrier B",
          "Carrier B",
          "Carrier B",
          null,
          "Carrier B",
          "Carrier B",
          "Carrier B",
          "Carrier B",
          null
         ]
        },
        {
         "connectgaps": false,
         "hoverinfo": "y+name",
         "line": {
          "color": "rgb(112,251,24)",
          "width": 10
         },
         "mode": "lines",
         "name": "loading:Carrier B",
         "type": "scatter",
         "x": [
          "1970-01-01T01:17:10",
          "1970-01-01T01:17:10",
          "1970-01-01T01:58:50",
          "1970-01-01T01:58:50",
          "1970-01-01T01:58:50",
          "1970-01-01T04:12:08",
          "1970-01-01T04:12:08",
          "1970-01-01T04:53:48",
          "1970-01-01T04:53:48",
          "1970-01-01T04:53:48",
          "1970-01-01T07:07:06",
          "1970-01-01T07:07:06",
          "1970-01-01T07:48:46",
          "1970-01-01T07:48:46",
          "1970-01-01T07:48:46",
          "1970-01-01T10:02:04",
          "1970-01-01T10:02:04",
          "1970-01-01T10:43:44",
          "1970-01-01T10:43:44",
          "1970-01-01T10:43:44",
          "1970-01-01T12:57:02",
          "1970-01-01T12:57:02",
          "1970-01-01T13:38:42",
          "1970-01-01T13:38:42",
          "1970-01-01T13:38:42",
          "1970-01-01T15:52:00",
          "1970-01-01T15:52:00",
          "1970-01-01T16:33:40",
          "1970-01-01T16:33:40",
          "1970-01-01T16:33:40",
          "1970-01-01T18:46:58",
          "1970-01-01T18:46:58",
          "1970-01-01T19:28:38",
          "1970-01-01T19:28:38",
          "1970-01-01T19:28:38",
          "1970-01-01T01:17:10",
          "1970-01-01T01:17:10",
          "1970-01-01T01:58:50",
          "1970-01-01T01:58:50",
          "1970-01-01T01:58:50",
          "1970-01-01T04:12:08",
          "1970-01-01T04:12:08",
          "1970-01-01T04:53:48",
          "1970-01-01T04:53:48",
          "1970-01-01T04:53:48",
          "1970-01-01T07:07:06",
          "1970-01-01T07:07:06",
          "1970-01-01T07:48:46",
          "1970-01-01T07:48:46",
          "1970-01-01T07:48:46",
          "1970-01-01T10:02:04",
          "1970-01-01T10:02:04",
          "1970-01-01T10:43:44",
          "1970-01-01T10:43:44",
          "1970-01-01T10:43:44",
          "1970-01-01T12:57:02",
          "1970-01-01T12:57:02",
          "1970-01-01T13:38:42",
          "1970-01-01T13:38:42",
          "1970-01-01T13:38:42",
          "1970-01-01T15:52:00",
          "1970-01-01T15:52:00",
          "1970-01-01T16:33:40",
          "1970-01-01T16:33:40",
          "1970-01-01T16:33:40",
          "1970-01-01T18:46:58",
          "1970-01-01T18:46:58",
          "1970-01-01T19:28:38",
          "1970-01-01T19:28:38",
          "1970-01-01T19:28:38"
         ],
         "y": [
          "Carrier B",
          "Carrier B",
          "Carrier B",
          "Carrier B",
          null,
          "Carrier B",
          "Carrier B",
          "Carrier B",
          "Carrier B",
          null,
          "Carrier B",
          "Carrier B",
          "Carrier B",
          "Carrier B",
          null,
          "Carrier B",
          "Carrier B",
          "Carrier B",
          "Carrier B",
          null,
          "Carrier B",
          "Carrier B",
          "Carrier B",
          "Carrier B",
          null,
          "Carrier B",
          "Carrier B",
          "Carrier B",
          "Carrier B",
          null,
          "Carrier B",
          "Carrier B",
          "Carrier B",
          "Carrier B",
          null,
          "Cutter T",
          "Cutter T",
          "Cutter T",
          "Cutter T",
          null,
          "Cutter T",
          "Cutter T",
          "Cutter T",
          "Cutter T",
          null,
          "Cutter T",
          "Cutter T",
          "Cutter T",
          "Cutter T",
          null,
          "Cutter T",
          "Cutter T",
          "Cutter T",
          "Cutter T",
          null,
          "Cutter T",
          "Cutter T",
          "Cutter T",
          "Cutter T",
          null,
          "Cutter T",
          "Cutter T",
          "Cutter T",
          "Cutter T",
          null,
          "Cutter T",
          "Cutter T",
          "Cutter T",
          "Cutter T",
          null
         ]
        },
        {
         "connectgaps": false,
         "hoverinfo": "y+name",
         "line": {
          "color": "rgb(129,12,41)",
          "width": 10
         },
         "mode": "lines",
         "name": "unloading:Carrier B",
         "type": "scatter",
         "x": [
          "1970-01-01T02:43:16",
          "1970-01-01T02:43:16",
          "1970-01-01T03:27:42",
          "1970-01-01T03:27:42",
          "1970-01-01T03:27:42",
          "1970-01-01T05:38:14",
          "1970-01-01T05:38:14",
          "1970-01-01T06:22:40",
          "1970-01-01T06:22:40",
          "1970-01-01T06:22:40",
          "1970-01-01T08:33:12",
          "1970-01-01T08:33:12",
          "1970-01-01T09:17:38",
          "1970-01-01T09:17:38",
          "1970-01-01T09:17:38",
          "1970-01-01T11:28:10",
          "1970-01-01T11:28:10",
          "1970-01-01T12:12:36",
          "1970-01-01T12:12:36",
          "1970-01-01T12:12:36",
          "1970-01-01T14:23:08",
          "1970-01-01T14:23:08",
          "1970-01-01T15:07:34",
          "1970-01-01T15:07:34",
          "1970-01-01T15:07:34",
          "1970-01-01T17:18:06",
          "1970-01-01T17:18:06",
          "1970-01-01T18:02:32",
          "1970-01-01T18:02:32",
          "1970-01-01T18:02:32",
          "1970-01-01T20:13:04",
          "1970-01-01T20:13:04",
          "1970-01-01T20:57:30",
          "1970-01-01T20:57:30",
          "1970-01-01T20:57:30"
         ],
         "y": [
          "Carrier B",
          "Carrier B",
          "Carrier B",
          "Carrier B",
          null,
          "Carrier B",
          "Carrier B",
          "Carrier B",
          "Carrier B",
          null,
          "Carrier B",
          "Carrier B",
          "Carrier B",
          "Carrier B",
          null,
          "Carrier B",
          "Carrier B",
          "Carrier B",
          "Carrier B",
          null,
          "Carrier B",
          "Carrier B",
          "Carrier B",
          "Carrier B",
          null,
          "Carrier B",
          "Carrier B",
          "Carrier B",
          "Carrier B",
          null,
          "Carrier B",
          "Carrier B",
          "Carrier B",
          "Carrier B",
          null
         ]
        },
        {
         "connectgaps": false,
         "hoverinfo": "y+name",
         "line": {
          "color": "rgb(146,29,58)",
          "width": 10
         },
         "mode": "lines",
         "name": "loading:Carrier C",
         "type": "scatter",
         "x": [
          "1970-01-01T00:35:30",
          "1970-01-01T00:35:30",
          "1970-01-01T01:17:10",
          "1970-01-01T01:17:10",
          "1970-01-01T01:17:10",
          "1970-01-01T03:03:40",
          "1970-01-01T03:03:40",
          "1970-01-01T03:45:20",
          "1970-01-01T03:45:20",
          "1970-01-01T03:45:20",
          "1970-01-01T05:31:50",
          "1970-01-01T05:31:50",
          "1970-01-01T06:13:30",
          "1970-01-01T06:13:30",
          "1970-01-01T06:13:30",
          "1970-01-01T08:22:06",
          "1970-01-01T08:22:06",
          "1970-01-01T09:03:46",
          "1970-01-01T09:03:46",
          "1970-01-01T09:03:46",
          "1970-01-01T11:17:04",
          "1970-01-01T11:17:04",
          "1970-01-01T11:58:44",
          "1970-01-01T11:58:44",
          "1970-01-01T11:58:44",
          "1970-01-01T14:12:02",
          "1970-01-01T14:12:02",
          "1970-01-01T14:53:42",
          "1970-01-01T14:53:42",
          "1970-01-01T14:53:42",
          "1970-01-01T17:07:00",
          "1970-01-01T17:07:00",
          "1970-01-01T17:48:40",
          "1970-01-01T17:48:40",
          "1970-01-01T17:48:40",
          "1970-01-01T20:01:58",
          "1970-01-01T20:01:58",
          "1970-01-01T20:43:38",
          "1970-01-01T20:43:38",
          "1970-01-01T20:43:38",
          "1970-01-01T00:35:30",
          "1970-01-01T00:35:30",
          "1970-01-01T01:17:10",
          "1970-01-01T01:17:10",
          "1970-01-01T01:17:10",
          "1970-01-01T03:03:40",
          "1970-01-01T03:03:40",
          "1970-01-01T03:45:20",
          "1970-01-01T03:45:20",
          "1970-01-01T03:45:20",
          "1970-01-01T05:31:50",
          "1970-01-01T05:31:50",
          "1970-01-01T06:13:30",
          "1970-01-01T06:13:30",
          "1970-01-01T06:13:30",
          "1970-01-01T08:22:06",
          "1970-01-01T08:22:06",
          "1970-01-01T09:03:46",
          "1970-01-01T09:03:46",
          "1970-01-01T09:03:46",
          "1970-01-01T11:17:04",
          "1970-01-01T11:17:04",
          "1970-01-01T11:58:44",
          "1970-01-01T11:58:44",
          "1970-01-01T11:58:44",
          "1970-01-01T14:12:02",
          "1970-01-01T14:12:02",
          "1970-01-01T14:53:42",
          "1970-01-01T14:53:42",
          "1970-01-01T14:53:42",
          "1970-01-01T17:07:00",
          "1970-01-01T17:07:00",
          "1970-01-01T17:48:40",
          "1970-01-01T17:48:40",
          "1970-01-01T17:48:40",
          "1970-01-01T20:01:58",
          "1970-01-01T20:01:58",
          "1970-01-01T20:43:38",
          "1970-01-01T20:43:38",
          "1970-01-01T20:43:38"
         ],
         "y": [
          "Carrier C",
          "Carrier C",
          "Carrier C",
          "Carrier C",
          null,
          "Carrier C",
          "Carrier C",
          "Carrier C",
          "Carrier C",
          null,
          "Carrier C",
          "Carrier C",
          "Carrier C",
          "Carrier C",
          null,
          "Carrier C",
          "Carrier C",
          "Carrier C",
          "Carrier C",
          null,
          "Carrier C",
          "Carrier C",
          "Carrier C",
          "Carrier C",
          null,
          "Carrier C",
          "Carrier C",
          "Carrier C",
          "Carrier C",
          null,
          "Carrier C",
          "Carrier C",
          "Carrier C",
          "Carrier C",
          null,
          "Carrier C",
          "Carrier C",
          "Carrier C",
          "Carrier C",
          null,
          "Cutter T",
          "Cutter T",
          "Cutter T",
          "Cutter T",
          null,
          "Cutter T",
          "Cutter T",
          "Cutter T",
          "Cutter T",
          null,
          "Cutter T",
          "Cutter T",
          "Cutter T",
          "Cutter T",
          null,
          "Cutter T",
          "Cutter T",
          "Cutter T",
          "Cutter T",
          null,
          "Cutter T",
          "Cutter T",
          "Cutter T",
          "Cutter T",
          null,
          "Cutter T",
          "Cutter T",
          "Cutter T",
          "Cutter T",
          null,
          "Cutter T",
          "Cutter T",
          "Cutter T",
          "Cutter T",
          null,
          "Cutter T",
          "Cutter T",
          "Cutter T",
          "Cutter T",
          null
         ]
        },
        {
         "connectgaps": false,
         "hoverinfo": "y+name",
         "line": {
          "color": "rgb(163,46,75)",
          "width": 10
         },
         "mode": "lines",
         "name": "sailing empty:Carrier C",
         "type": "scatter",
         "x": [
          "1970-01-01T00:00:00",
          "1970-01-01T00:00:00",
          "1970-01-01T00:35:30",
          "1970-01-01T00:35:30",
          "1970-01-01T00:35:30",
          "1970-01-01T02:28:10",
          "1970-01-01T02:28:10",
          "1970-01-01T03:03:40",
          "1970-01-01T03:03:40",
          "1970-01-01T03:03:40",
          "1970-01-01T04:56:20",
          "1970-01-01T04:56:20",
          "1970-01-01T05:31:50",
          "1970-01-01T05:31:50",
          "1970-01-01T05:31:50",
          "1970-01-01T07:24:30",
          "1970-01-01T07:24:30",
          "1970-01-01T08:00:00",
          "1970-01-01T08:00:00",
          "1970-01-01T08:00:00",
          "1970-01-01T10:14:46",
          "1970-01-01T10:14:46",
          "1970-01-01T10:50:16",
          "1970-01-01T10:50:16",
          "1970-01-01T10:50:16",
          "1970-01-01T13:09:44",
          "1970-01-01T13:09:44",
          "1970-01-01T13:45:14",
          "1970-01-01T13:45:14",
          "1970-01-01T13:45:14",
          "1970-01-01T16:04:42",
          "1970-01-01T16:04:42",
          "1970-01-01T16:40:12",
          "1970-01-01T16:40:12",
          "1970-01-01T16:40:12",
          "1970-01-01T18:59:40",
          "1970-01-01T18:59:40",
          "1970-01-01T19:35:10",
          "1970-01-01T19:35:10",
          "1970-01-01T19:35:10"
         ],
         "y": [
          "Carrier C",
          "Carrier C",
          "Carrier C",
          "Carrier C",
          null,
          "Carrier C",
          "Carrier C",
          "Carrier C",
          "Carrier C",
          null,
          "Carrier C",
          "Carrier C",
          "Carrier C",
          "Carrier C",
          null,
          "Carrier C",
          "Carrier C",
          "Carrier C",
          "Carrier C",
          null,
          "Carrier C",
          "Carrier C",
          "Carrier C",
          "Carrier C",
          null,
          "Carrier C",
          "Carrier C",
          "Carrier C",
          "Carrier C",
          null,
          "Carrier C",
          "Carrier C",
          "Carrier C",
          "Carrier C",
          null,
          "Carrier C",
          "Carrier C",
          "Carrier C",
          "Carrier C",
          null
         ]
        },
        {
         "connectgaps": false,
         "hoverinfo": "y+name",
         "line": {
          "color": "rgb(180,63,92)",
          "width": 10
         },
         "mode": "lines",
         "name": "sailing full:Carrier C",
         "type": "scatter",
         "x": [
          "1970-01-01T01:17:10",
          "1970-01-01T01:17:10",
          "1970-01-01T01:52:40",
          "1970-01-01T01:52:40",
          "1970-01-01T01:52:40",
          "1970-01-01T03:45:20",
          "1970-01-01T03:45:20",
          "1970-01-01T04:20:50",
          "1970-01-01T04:20:50",
          "1970-01-01T04:20:50",
          "1970-01-01T06:13:30",
          "1970-01-01T06:13:30",
          "1970-01-01T06:49:00",
          "1970-01-01T06:49:00",
          "1970-01-01T06:49:00",
          "1970-01-01T09:03:46",
          "1970-01-01T09:03:46",
          "1970-01-01T09:39:16",
          "1970-01-01T09:39:16",
          "1970-01-01T09:39:16",
          "1970-01-01T11:58:44",
          "1970-01-01T11:58:44",
          "1970-01-01T12:34:14",
          "1970-01-01T12:34:14",
          "1970-01-01T12:34:14",
          "1970-01-01T14:53:42",
          "1970-01-01T14:53:42",
          "1970-01-01T15:29:12",
          "1970-01-01T15:29:12",
          "1970-01-01T15:29:12",
          "1970-01-01T17:48:40",
          "1970-01-01T17:48:40",
          "1970-01-01T18:24:10",
          "1970-01-01T18:24:10",
          "1970-01-01T18:24:10",
          "1970-01-01T20:43:38",
          "1970-01-01T20:43:38",
          "1970-01-01T21:19:08",
          "1970-01-01T21:19:08",
          "1970-01-01T21:19:08"
         ],
         "y": [
          "Carrier C",
          "Carrier C",
          "Carrier C",
          "Carrier C",
          null,
          "Carrier C",
          "Carrier C",
          "Carrier C",
          "Carrier C",
          null,
          "Carrier C",
          "Carrier C",
          "Carrier C",
          "Carrier C",
          null,
          "Carrier C",
          "Carrier C",
          "Carrier C",
          "Carrier C",
          null,
          "Carrier C",
          "Carrier C",
          "Carrier C",
          "Carrier C",
          null,
          "Carrier C",
          "Carrier C",
          "Carrier C",
          "Carrier C",
          null,
          "Carrier C",
          "Carrier C",
          "Carrier C",
          "Carrier C",
          null,
          "Carrier C",
          "Carrier C",
          "Carrier C",
          "Carrier C",
          null
         ]
        },
        {
         "connectgaps": false,
         "hoverinfo": "y+name",
         "line": {
          "color": "rgb(197,80,109)",
          "width": 10
         },
         "mode": "lines",
         "name": "unloading:Carrier C",
         "type": "scatter",
         "x": [
          "1970-01-01T01:52:40",
          "1970-01-01T01:52:40",
          "1970-01-01T02:28:10",
          "1970-01-01T02:28:10",
          "1970-01-01T02:28:10",
          "1970-01-01T04:20:50",
          "1970-01-01T04:20:50",
          "1970-01-01T04:56:20",
          "1970-01-01T04:56:20",
          "1970-01-01T04:56:20",
          "1970-01-01T06:49:00",
          "1970-01-01T06:49:00",
          "1970-01-01T07:24:30",
          "1970-01-01T07:24:30",
          "1970-01-01T07:24:30",
          "1970-01-01T09:39:16",
          "1970-01-01T09:39:16",
          "1970-01-01T10:14:46",
          "1970-01-01T10:14:46",
          "1970-01-01T10:14:46",
          "1970-01-01T12:34:14",
          "1970-01-01T12:34:14",
          "1970-01-01T13:09:44",
          "1970-01-01T13:09:44",
          "1970-01-01T13:09:44",
          "1970-01-01T15:29:12",
          "1970-01-01T15:29:12",
          "1970-01-01T16:04:42",
          "1970-01-01T16:04:42",
          "1970-01-01T16:04:42",
          "1970-01-01T18:24:10",
          "1970-01-01T18:24:10",
          "1970-01-01T18:59:40",
          "1970-01-01T18:59:40",
          "1970-01-01T18:59:40",
          "1970-01-01T21:19:08",
          "1970-01-01T21:19:08",
          "1970-01-01T21:54:38",
          "1970-01-01T21:54:38",
          "1970-01-01T21:54:38"
         ],
         "y": [
          "Carrier C",
          "Carrier C",
          "Carrier C",
          "Carrier C",
          null,
          "Carrier C",
          "Carrier C",
          "Carrier C",
          "Carrier C",
          null,
          "Carrier C",
          "Carrier C",
          "Carrier C",
          "Carrier C",
          null,
          "Carrier C",
          "Carrier C",
          "Carrier C",
          "Carrier C",
          null,
          "Carrier C",
          "Carrier C",
          "Carrier C",
          "Carrier C",
          null,
          "Carrier C",
          "Carrier C",
          "Carrier C",
          "Carrier C",
          null,
          "Carrier C",
          "Carrier C",
          "Carrier C",
          "Carrier C",
          null,
          "Carrier C",
          "Carrier C",
          "Carrier C",
          "Carrier C",
          null
         ]
        },
        {
         "connectgaps": false,
         "hoverinfo": "y+name",
         "line": {
          "color": "rgb(214,97,126)",
          "width": 10
         },
         "mode": "lines",
         "name": "loading:Carrier C",
         "type": "scatter",
         "x": [
          "1970-01-01T00:35:30",
          "1970-01-01T00:35:30",
          "1970-01-01T01:17:10",
          "1970-01-01T01:17:10",
          "1970-01-01T01:17:10",
          "1970-01-01T03:03:40",
          "1970-01-01T03:03:40",
          "1970-01-01T03:45:20",
          "1970-01-01T03:45:20",
          "1970-01-01T03:45:20",
          "1970-01-01T05:31:50",
          "1970-01-01T05:31:50",
          "1970-01-01T06:13:30",
          "1970-01-01T06:13:30",
          "1970-01-01T06:13:30",
          "1970-01-01T08:22:06",
          "1970-01-01T08:22:06",
          "1970-01-01T09:03:46",
          "1970-01-01T09:03:46",
          "1970-01-01T09:03:46",
          "1970-01-01T11:17:04",
          "1970-01-01T11:17:04",
          "1970-01-01T11:58:44",
          "1970-01-01T11:58:44",
          "1970-01-01T11:58:44",
          "1970-01-01T14:12:02",
          "1970-01-01T14:12:02",
          "1970-01-01T14:53:42",
          "1970-01-01T14:53:42",
          "1970-01-01T14:53:42",
          "1970-01-01T17:07:00",
          "1970-01-01T17:07:00",
          "1970-01-01T17:48:40",
          "1970-01-01T17:48:40",
          "1970-01-01T17:48:40",
          "1970-01-01T20:01:58",
          "1970-01-01T20:01:58",
          "1970-01-01T20:43:38",
          "1970-01-01T20:43:38",
          "1970-01-01T20:43:38",
          "1970-01-01T00:35:30",
          "1970-01-01T00:35:30",
          "1970-01-01T01:17:10",
          "1970-01-01T01:17:10",
          "1970-01-01T01:17:10",
          "1970-01-01T03:03:40",
          "1970-01-01T03:03:40",
          "1970-01-01T03:45:20",
          "1970-01-01T03:45:20",
          "1970-01-01T03:45:20",
          "1970-01-01T05:31:50",
          "1970-01-01T05:31:50",
          "1970-01-01T06:13:30",
          "1970-01-01T06:13:30",
          "1970-01-01T06:13:30",
          "1970-01-01T08:22:06",
          "1970-01-01T08:22:06",
          "1970-01-01T09:03:46",
          "1970-01-01T09:03:46",
          "1970-01-01T09:03:46",
          "1970-01-01T11:17:04",
          "1970-01-01T11:17:04",
          "1970-01-01T11:58:44",
          "1970-01-01T11:58:44",
          "1970-01-01T11:58:44",
          "1970-01-01T14:12:02",
          "1970-01-01T14:12:02",
          "1970-01-01T14:53:42",
          "1970-01-01T14:53:42",
          "1970-01-01T14:53:42",
          "1970-01-01T17:07:00",
          "1970-01-01T17:07:00",
          "1970-01-01T17:48:40",
          "1970-01-01T17:48:40",
          "1970-01-01T17:48:40",
          "1970-01-01T20:01:58",
          "1970-01-01T20:01:58",
          "1970-01-01T20:43:38",
          "1970-01-01T20:43:38",
          "1970-01-01T20:43:38"
         ],
         "y": [
          "Carrier C",
          "Carrier C",
          "Carrier C",
          "Carrier C",
          null,
          "Carrier C",
          "Carrier C",
          "Carrier C",
          "Carrier C",
          null,
          "Carrier C",
          "Carrier C",
          "Carrier C",
          "Carrier C",
          null,
          "Carrier C",
          "Carrier C",
          "Carrier C",
          "Carrier C",
          null,
          "Carrier C",
          "Carrier C",
          "Carrier C",
          "Carrier C",
          null,
          "Carrier C",
          "Carrier C",
          "Carrier C",
          "Carrier C",
          null,
          "Carrier C",
          "Carrier C",
          "Carrier C",
          "Carrier C",
          null,
          "Carrier C",
          "Carrier C",
          "Carrier C",
          "Carrier C",
          null,
          "Cutter T",
          "Cutter T",
          "Cutter T",
          "Cutter T",
          null,
          "Cutter T",
          "Cutter T",
          "Cutter T",
          "Cutter T",
          null,
          "Cutter T",
          "Cutter T",
          "Cutter T",
          "Cutter T",
          null,
          "Cutter T",
          "Cutter T",
          "Cutter T",
          "Cutter T",
          null,
          "Cutter T",
          "Cutter T",
          "Cutter T",
          "Cutter T",
          null,
          "Cutter T",
          "Cutter T",
          "Cutter T",
          "Cutter T",
          null,
          "Cutter T",
          "Cutter T",
          "Cutter T",
          "Cutter T",
          null,
          "Cutter T",
          "Cutter T",
          "Cutter T",
          "Cutter T",
          null
         ]
        },
        {
         "connectgaps": false,
         "hoverinfo": "y+name",
         "line": {
          "color": "rgb(231,114,143)",
          "width": 10
         },
         "mode": "lines",
         "name": "loading:Carrier B",
         "type": "scatter",
         "x": [
          "1970-01-01T01:17:10",
          "1970-01-01T01:17:10",
          "1970-01-01T01:58:50",
          "1970-01-01T01:58:50",
          "1970-01-01T01:58:50",
          "1970-01-01T04:12:08",
          "1970-01-01T04:12:08",
          "1970-01-01T04:53:48",
          "1970-01-01T04:53:48",
          "1970-01-01T04:53:48",
          "1970-01-01T07:07:06",
          "1970-01-01T07:07:06",
          "1970-01-01T07:48:46",
          "1970-01-01T07:48:46",
          "1970-01-01T07:48:46",
          "1970-01-01T10:02:04",
          "1970-01-01T10:02:04",
          "1970-01-01T10:43:44",
          "1970-01-01T10:43:44",
          "1970-01-01T10:43:44",
          "1970-01-01T12:57:02",
          "1970-01-01T12:57:02",
          "1970-01-01T13:38:42",
          "1970-01-01T13:38:42",
          "1970-01-01T13:38:42",
          "1970-01-01T15:52:00",
          "1970-01-01T15:52:00",
          "1970-01-01T16:33:40",
          "1970-01-01T16:33:40",
          "1970-01-01T16:33:40",
          "1970-01-01T18:46:58",
          "1970-01-01T18:46:58",
          "1970-01-01T19:28:38",
          "1970-01-01T19:28:38",
          "1970-01-01T19:28:38",
          "1970-01-01T01:17:10",
          "1970-01-01T01:17:10",
          "1970-01-01T01:58:50",
          "1970-01-01T01:58:50",
          "1970-01-01T01:58:50",
          "1970-01-01T04:12:08",
          "1970-01-01T04:12:08",
          "1970-01-01T04:53:48",
          "1970-01-01T04:53:48",
          "1970-01-01T04:53:48",
          "1970-01-01T07:07:06",
          "1970-01-01T07:07:06",
          "1970-01-01T07:48:46",
          "1970-01-01T07:48:46",
          "1970-01-01T07:48:46",
          "1970-01-01T10:02:04",
          "1970-01-01T10:02:04",
          "1970-01-01T10:43:44",
          "1970-01-01T10:43:44",
          "1970-01-01T10:43:44",
          "1970-01-01T12:57:02",
          "1970-01-01T12:57:02",
          "1970-01-01T13:38:42",
          "1970-01-01T13:38:42",
          "1970-01-01T13:38:42",
          "1970-01-01T15:52:00",
          "1970-01-01T15:52:00",
          "1970-01-01T16:33:40",
          "1970-01-01T16:33:40",
          "1970-01-01T16:33:40",
          "1970-01-01T18:46:58",
          "1970-01-01T18:46:58",
          "1970-01-01T19:28:38",
          "1970-01-01T19:28:38",
          "1970-01-01T19:28:38"
         ],
         "y": [
          "Carrier B",
          "Carrier B",
          "Carrier B",
          "Carrier B",
          null,
          "Carrier B",
          "Carrier B",
          "Carrier B",
          "Carrier B",
          null,
          "Carrier B",
          "Carrier B",
          "Carrier B",
          "Carrier B",
          null,
          "Carrier B",
          "Carrier B",
          "Carrier B",
          "Carrier B",
          null,
          "Carrier B",
          "Carrier B",
          "Carrier B",
          "Carrier B",
          null,
          "Carrier B",
          "Carrier B",
          "Carrier B",
          "Carrier B",
          null,
          "Carrier B",
          "Carrier B",
          "Carrier B",
          "Carrier B",
          null,
          "Cutter T",
          "Cutter T",
          "Cutter T",
          "Cutter T",
          null,
          "Cutter T",
          "Cutter T",
          "Cutter T",
          "Cutter T",
          null,
          "Cutter T",
          "Cutter T",
          "Cutter T",
          "Cutter T",
          null,
          "Cutter T",
          "Cutter T",
          "Cutter T",
          "Cutter T",
          null,
          "Cutter T",
          "Cutter T",
          "Cutter T",
          "Cutter T",
          null,
          "Cutter T",
          "Cutter T",
          "Cutter T",
          "Cutter T",
          null,
          "Cutter T",
          "Cutter T",
          "Cutter T",
          "Cutter T",
          null
         ]
        },
        {
         "connectgaps": false,
         "hoverinfo": "y+name",
         "line": {
          "color": "rgb(248,131,160)",
          "width": 10
         },
         "mode": "lines",
         "name": "loading:Carrier A",
         "type": "scatter",
         "x": [
          "1970-01-01T01:58:50",
          "1970-01-01T01:58:50",
          "1970-01-01T02:32:10",
          "1970-01-01T02:32:10",
          "1970-01-01T02:32:10",
          "1970-01-01T04:53:48",
          "1970-01-01T04:53:48",
          "1970-01-01T05:27:08",
          "1970-01-01T05:27:08",
          "1970-01-01T05:27:08",
          "1970-01-01T07:48:46",
          "1970-01-01T07:48:46",
          "1970-01-01T08:22:06",
          "1970-01-01T08:22:06",
          "1970-01-01T08:22:06",
          "1970-01-01T10:43:44",
          "1970-01-01T10:43:44",
          "1970-01-01T11:17:04",
          "1970-01-01T11:17:04",
          "1970-01-01T11:17:04",
          "1970-01-01T13:38:42",
          "1970-01-01T13:38:42",
          "1970-01-01T14:12:02",
          "1970-01-01T14:12:02",
          "1970-01-01T14:12:02",
          "1970-01-01T16:33:40",
          "1970-01-01T16:33:40",
          "1970-01-01T17:07:00",
          "1970-01-01T17:07:00",
          "1970-01-01T17:07:00",
          "1970-01-01T19:28:38",
          "1970-01-01T19:28:38",
          "1970-01-01T20:01:58",
          "1970-01-01T20:01:58",
          "1970-01-01T20:01:58",
          "1970-01-01T01:58:50",
          "1970-01-01T01:58:50",
          "1970-01-01T02:32:10",
          "1970-01-01T02:32:10",
          "1970-01-01T02:32:10",
          "1970-01-01T04:53:48",
          "1970-01-01T04:53:48",
          "1970-01-01T05:27:08",
          "1970-01-01T05:27:08",
          "1970-01-01T05:27:08",
          "1970-01-01T07:48:46",
          "1970-01-01T07:48:46",
          "1970-01-01T08:22:06",
          "1970-01-01T08:22:06",
          "1970-01-01T08:22:06",
          "1970-01-01T10:43:44",
          "1970-01-01T10:43:44",
          "1970-01-01T11:17:04",
          "1970-01-01T11:17:04",
          "1970-01-01T11:17:04",
          "1970-01-01T13:38:42",
          "1970-01-01T13:38:42",
          "1970-01-01T14:12:02",
          "1970-01-01T14:12:02",
          "1970-01-01T14:12:02",
          "1970-01-01T16:33:40",
          "1970-01-01T16:33:40",
          "1970-01-01T17:07:00",
          "1970-01-01T17:07:00",
          "1970-01-01T17:07:00",
          "1970-01-01T19:28:38",
          "1970-01-01T19:28:38",
          "1970-01-01T20:01:58",
          "1970-01-01T20:01:58",
          "1970-01-01T20:01:58"
         ],
         "y": [
          "Carrier A",
          "Carrier A",
          "Carrier A",
          "Carrier A",
          null,
          "Carrier A",
          "Carrier A",
          "Carrier A",
          "Carrier A",
          null,
          "Carrier A",
          "Carrier A",
          "Carrier A",
          "Carrier A",
          null,
          "Carrier A",
          "Carrier A",
          "Carrier A",
          "Carrier A",
          null,
          "Carrier A",
          "Carrier A",
          "Carrier A",
          "Carrier A",
          null,
          "Carrier A",
          "Carrier A",
          "Carrier A",
          "Carrier A",
          null,
          "Carrier A",
          "Carrier A",
          "Carrier A",
          "Carrier A",
          null,
          "Cutter T",
          "Cutter T",
          "Cutter T",
          "Cutter T",
          null,
          "Cutter T",
          "Cutter T",
          "Cutter T",
          "Cutter T",
          null,
          "Cutter T",
          "Cutter T",
          "Cutter T",
          "Cutter T",
          null,
          "Cutter T",
          "Cutter T",
          "Cutter T",
          "Cutter T",
          null,
          "Cutter T",
          "Cutter T",
          "Cutter T",
          "Cutter T",
          null,
          "Cutter T",
          "Cutter T",
          "Cutter T",
          "Cutter T",
          null,
          "Cutter T",
          "Cutter T",
          "Cutter T",
          "Cutter T",
          null
         ]
        }
       ],
       "layout": {
        "hovermode": "closest",
        "legend": {
         "orientation": "h",
         "x": 0,
         "y": -0.2
        },
        "template": {
         "data": {
          "bar": [
           {
            "error_x": {
             "color": "#2a3f5f"
            },
            "error_y": {
             "color": "#2a3f5f"
            },
            "marker": {
             "line": {
              "color": "#E5ECF6",
              "width": 0.5
             },
             "pattern": {
              "fillmode": "overlay",
              "size": 10,
              "solidity": 0.2
             }
            },
            "type": "bar"
           }
          ],
          "barpolar": [
           {
            "marker": {
             "line": {
              "color": "#E5ECF6",
              "width": 0.5
             },
             "pattern": {
              "fillmode": "overlay",
              "size": 10,
              "solidity": 0.2
             }
            },
            "type": "barpolar"
           }
          ],
          "carpet": [
           {
            "aaxis": {
             "endlinecolor": "#2a3f5f",
             "gridcolor": "white",
             "linecolor": "white",
             "minorgridcolor": "white",
             "startlinecolor": "#2a3f5f"
            },
            "baxis": {
             "endlinecolor": "#2a3f5f",
             "gridcolor": "white",
             "linecolor": "white",
             "minorgridcolor": "white",
             "startlinecolor": "#2a3f5f"
            },
            "type": "carpet"
           }
          ],
          "choropleth": [
           {
            "colorbar": {
             "outlinewidth": 0,
             "ticks": ""
            },
            "type": "choropleth"
           }
          ],
          "contour": [
           {
            "colorbar": {
             "outlinewidth": 0,
             "ticks": ""
            },
            "colorscale": [
             [
              0,
              "#0d0887"
             ],
             [
              0.1111111111111111,
              "#46039f"
             ],
             [
              0.2222222222222222,
              "#7201a8"
             ],
             [
              0.3333333333333333,
              "#9c179e"
             ],
             [
              0.4444444444444444,
              "#bd3786"
             ],
             [
              0.5555555555555556,
              "#d8576b"
             ],
             [
              0.6666666666666666,
              "#ed7953"
             ],
             [
              0.7777777777777778,
              "#fb9f3a"
             ],
             [
              0.8888888888888888,
              "#fdca26"
             ],
             [
              1,
              "#f0f921"
             ]
            ],
            "type": "contour"
           }
          ],
          "contourcarpet": [
           {
            "colorbar": {
             "outlinewidth": 0,
             "ticks": ""
            },
            "type": "contourcarpet"
           }
          ],
          "heatmap": [
           {
            "colorbar": {
             "outlinewidth": 0,
             "ticks": ""
            },
            "colorscale": [
             [
              0,
              "#0d0887"
             ],
             [
              0.1111111111111111,
              "#46039f"
             ],
             [
              0.2222222222222222,
              "#7201a8"
             ],
             [
              0.3333333333333333,
              "#9c179e"
             ],
             [
              0.4444444444444444,
              "#bd3786"
             ],
             [
              0.5555555555555556,
              "#d8576b"
             ],
             [
              0.6666666666666666,
              "#ed7953"
             ],
             [
              0.7777777777777778,
              "#fb9f3a"
             ],
             [
              0.8888888888888888,
              "#fdca26"
             ],
             [
              1,
              "#f0f921"
             ]
            ],
            "type": "heatmap"
           }
          ],
          "heatmapgl": [
           {
            "colorbar": {
             "outlinewidth": 0,
             "ticks": ""
            },
            "colorscale": [
             [
              0,
              "#0d0887"
             ],
             [
              0.1111111111111111,
              "#46039f"
             ],
             [
              0.2222222222222222,
              "#7201a8"
             ],
             [
              0.3333333333333333,
              "#9c179e"
             ],
             [
              0.4444444444444444,
              "#bd3786"
             ],
             [
              0.5555555555555556,
              "#d8576b"
             ],
             [
              0.6666666666666666,
              "#ed7953"
             ],
             [
              0.7777777777777778,
              "#fb9f3a"
             ],
             [
              0.8888888888888888,
              "#fdca26"
             ],
             [
              1,
              "#f0f921"
             ]
            ],
            "type": "heatmapgl"
           }
          ],
          "histogram": [
           {
            "marker": {
             "pattern": {
              "fillmode": "overlay",
              "size": 10,
              "solidity": 0.2
             }
            },
            "type": "histogram"
           }
          ],
          "histogram2d": [
           {
            "colorbar": {
             "outlinewidth": 0,
             "ticks": ""
            },
            "colorscale": [
             [
              0,
              "#0d0887"
             ],
             [
              0.1111111111111111,
              "#46039f"
             ],
             [
              0.2222222222222222,
              "#7201a8"
             ],
             [
              0.3333333333333333,
              "#9c179e"
             ],
             [
              0.4444444444444444,
              "#bd3786"
             ],
             [
              0.5555555555555556,
              "#d8576b"
             ],
             [
              0.6666666666666666,
              "#ed7953"
             ],
             [
              0.7777777777777778,
              "#fb9f3a"
             ],
             [
              0.8888888888888888,
              "#fdca26"
             ],
             [
              1,
              "#f0f921"
             ]
            ],
            "type": "histogram2d"
           }
          ],
          "histogram2dcontour": [
           {
            "colorbar": {
             "outlinewidth": 0,
             "ticks": ""
            },
            "colorscale": [
             [
              0,
              "#0d0887"
             ],
             [
              0.1111111111111111,
              "#46039f"
             ],
             [
              0.2222222222222222,
              "#7201a8"
             ],
             [
              0.3333333333333333,
              "#9c179e"
             ],
             [
              0.4444444444444444,
              "#bd3786"
             ],
             [
              0.5555555555555556,
              "#d8576b"
             ],
             [
              0.6666666666666666,
              "#ed7953"
             ],
             [
              0.7777777777777778,
              "#fb9f3a"
             ],
             [
              0.8888888888888888,
              "#fdca26"
             ],
             [
              1,
              "#f0f921"
             ]
            ],
            "type": "histogram2dcontour"
           }
          ],
          "mesh3d": [
           {
            "colorbar": {
             "outlinewidth": 0,
             "ticks": ""
            },
            "type": "mesh3d"
           }
          ],
          "parcoords": [
           {
            "line": {
             "colorbar": {
              "outlinewidth": 0,
              "ticks": ""
             }
            },
            "type": "parcoords"
           }
          ],
          "pie": [
           {
            "automargin": true,
            "type": "pie"
           }
          ],
          "scatter": [
           {
            "fillpattern": {
             "fillmode": "overlay",
             "size": 10,
             "solidity": 0.2
            },
            "type": "scatter"
           }
          ],
          "scatter3d": [
           {
            "line": {
             "colorbar": {
              "outlinewidth": 0,
              "ticks": ""
             }
            },
            "marker": {
             "colorbar": {
              "outlinewidth": 0,
              "ticks": ""
             }
            },
            "type": "scatter3d"
           }
          ],
          "scattercarpet": [
           {
            "marker": {
             "colorbar": {
              "outlinewidth": 0,
              "ticks": ""
             }
            },
            "type": "scattercarpet"
           }
          ],
          "scattergeo": [
           {
            "marker": {
             "colorbar": {
              "outlinewidth": 0,
              "ticks": ""
             }
            },
            "type": "scattergeo"
           }
          ],
          "scattergl": [
           {
            "marker": {
             "colorbar": {
              "outlinewidth": 0,
              "ticks": ""
             }
            },
            "type": "scattergl"
           }
          ],
          "scattermapbox": [
           {
            "marker": {
             "colorbar": {
              "outlinewidth": 0,
              "ticks": ""
             }
            },
            "type": "scattermapbox"
           }
          ],
          "scatterpolar": [
           {
            "marker": {
             "colorbar": {
              "outlinewidth": 0,
              "ticks": ""
             }
            },
            "type": "scatterpolar"
           }
          ],
          "scatterpolargl": [
           {
            "marker": {
             "colorbar": {
              "outlinewidth": 0,
              "ticks": ""
             }
            },
            "type": "scatterpolargl"
           }
          ],
          "scatterternary": [
           {
            "marker": {
             "colorbar": {
              "outlinewidth": 0,
              "ticks": ""
             }
            },
            "type": "scatterternary"
           }
          ],
          "surface": [
           {
            "colorbar": {
             "outlinewidth": 0,
             "ticks": ""
            },
            "colorscale": [
             [
              0,
              "#0d0887"
             ],
             [
              0.1111111111111111,
              "#46039f"
             ],
             [
              0.2222222222222222,
              "#7201a8"
             ],
             [
              0.3333333333333333,
              "#9c179e"
             ],
             [
              0.4444444444444444,
              "#bd3786"
             ],
             [
              0.5555555555555556,
              "#d8576b"
             ],
             [
              0.6666666666666666,
              "#ed7953"
             ],
             [
              0.7777777777777778,
              "#fb9f3a"
             ],
             [
              0.8888888888888888,
              "#fdca26"
             ],
             [
              1,
              "#f0f921"
             ]
            ],
            "type": "surface"
           }
          ],
          "table": [
           {
            "cells": {
             "fill": {
              "color": "#EBF0F8"
             },
             "line": {
              "color": "white"
             }
            },
            "header": {
             "fill": {
              "color": "#C8D4E3"
             },
             "line": {
              "color": "white"
             }
            },
            "type": "table"
           }
          ]
         },
         "layout": {
          "annotationdefaults": {
           "arrowcolor": "#2a3f5f",
           "arrowhead": 0,
           "arrowwidth": 1
          },
          "autotypenumbers": "strict",
          "coloraxis": {
           "colorbar": {
            "outlinewidth": 0,
            "ticks": ""
           }
          },
          "colorscale": {
           "diverging": [
            [
             0,
             "#8e0152"
            ],
            [
             0.1,
             "#c51b7d"
            ],
            [
             0.2,
             "#de77ae"
            ],
            [
             0.3,
             "#f1b6da"
            ],
            [
             0.4,
             "#fde0ef"
            ],
            [
             0.5,
             "#f7f7f7"
            ],
            [
             0.6,
             "#e6f5d0"
            ],
            [
             0.7,
             "#b8e186"
            ],
            [
             0.8,
             "#7fbc41"
            ],
            [
             0.9,
             "#4d9221"
            ],
            [
             1,
             "#276419"
            ]
           ],
           "sequential": [
            [
             0,
             "#0d0887"
            ],
            [
             0.1111111111111111,
             "#46039f"
            ],
            [
             0.2222222222222222,
             "#7201a8"
            ],
            [
             0.3333333333333333,
             "#9c179e"
            ],
            [
             0.4444444444444444,
             "#bd3786"
            ],
            [
             0.5555555555555556,
             "#d8576b"
            ],
            [
             0.6666666666666666,
             "#ed7953"
            ],
            [
             0.7777777777777778,
             "#fb9f3a"
            ],
            [
             0.8888888888888888,
             "#fdca26"
            ],
            [
             1,
             "#f0f921"
            ]
           ],
           "sequentialminus": [
            [
             0,
             "#0d0887"
            ],
            [
             0.1111111111111111,
             "#46039f"
            ],
            [
             0.2222222222222222,
             "#7201a8"
            ],
            [
             0.3333333333333333,
             "#9c179e"
            ],
            [
             0.4444444444444444,
             "#bd3786"
            ],
            [
             0.5555555555555556,
             "#d8576b"
            ],
            [
             0.6666666666666666,
             "#ed7953"
            ],
            [
             0.7777777777777778,
             "#fb9f3a"
            ],
            [
             0.8888888888888888,
             "#fdca26"
            ],
            [
             1,
             "#f0f921"
            ]
           ]
          },
          "colorway": [
           "#636efa",
           "#EF553B",
           "#00cc96",
           "#ab63fa",
           "#FFA15A",
           "#19d3f3",
           "#FF6692",
           "#B6E880",
           "#FF97FF",
           "#FECB52"
          ],
          "font": {
           "color": "#2a3f5f"
          },
          "geo": {
           "bgcolor": "white",
           "lakecolor": "white",
           "landcolor": "#E5ECF6",
           "showlakes": true,
           "showland": true,
           "subunitcolor": "white"
          },
          "hoverlabel": {
           "align": "left"
          },
          "hovermode": "closest",
          "mapbox": {
           "style": "light"
          },
          "paper_bgcolor": "white",
          "plot_bgcolor": "#E5ECF6",
          "polar": {
           "angularaxis": {
            "gridcolor": "white",
            "linecolor": "white",
            "ticks": ""
           },
           "bgcolor": "#E5ECF6",
           "radialaxis": {
            "gridcolor": "white",
            "linecolor": "white",
            "ticks": ""
           }
          },
          "scene": {
           "xaxis": {
            "backgroundcolor": "#E5ECF6",
            "gridcolor": "white",
            "gridwidth": 2,
            "linecolor": "white",
            "showbackground": true,
            "ticks": "",
            "zerolinecolor": "white"
           },
           "yaxis": {
            "backgroundcolor": "#E5ECF6",
            "gridcolor": "white",
            "gridwidth": 2,
            "linecolor": "white",
            "showbackground": true,
            "ticks": "",
            "zerolinecolor": "white"
           },
           "zaxis": {
            "backgroundcolor": "#E5ECF6",
            "gridcolor": "white",
            "gridwidth": 2,
            "linecolor": "white",
            "showbackground": true,
            "ticks": "",
            "zerolinecolor": "white"
           }
          },
          "shapedefaults": {
           "line": {
            "color": "#2a3f5f"
           }
          },
          "ternary": {
           "aaxis": {
            "gridcolor": "white",
            "linecolor": "white",
            "ticks": ""
           },
           "baxis": {
            "gridcolor": "white",
            "linecolor": "white",
            "ticks": ""
           },
           "bgcolor": "#E5ECF6",
           "caxis": {
            "gridcolor": "white",
            "linecolor": "white",
            "ticks": ""
           }
          },
          "title": {
           "x": 0.05
          },
          "xaxis": {
           "automargin": true,
           "gridcolor": "white",
           "linecolor": "white",
           "ticks": "",
           "title": {
            "standoff": 15
           },
           "zerolinecolor": "white",
           "zerolinewidth": 2
          },
          "yaxis": {
           "automargin": true,
           "gridcolor": "white",
           "linecolor": "white",
           "ticks": "",
           "title": {
            "standoff": 15
           },
           "zerolinecolor": "white",
           "zerolinewidth": 2
          }
         }
        },
        "title": {
         "text": "GANTT Chart"
        },
        "xaxis": {
         "range": [
          "1970-01-01T00:00:00",
          "1970-01-01T21:54:38"
         ],
         "title": {
          "font": {
           "color": "#7f7f7f",
           "family": "Courier New, monospace",
           "size": 18
          },
          "text": "Time"
         }
        },
        "yaxis": {
         "title": {
          "font": {
           "color": "#7f7f7f",
           "family": "Courier New, monospace",
           "size": 18
          },
          "text": "Activities"
         }
        }
       }
      },
      "text/html": [
       "<div>                            <div id=\"53691a7c-4b8e-42f3-a84c-f31faad4bf9b\" class=\"plotly-graph-div\" style=\"height:525px; width:100%;\"></div>            <script type=\"text/javascript\">                require([\"plotly\"], function(Plotly) {                    window.PLOTLYENV=window.PLOTLYENV || {};                                    if (document.getElementById(\"53691a7c-4b8e-42f3-a84c-f31faad4bf9b\")) {                    Plotly.newPlot(                        \"53691a7c-4b8e-42f3-a84c-f31faad4bf9b\",                        [{\"connectgaps\":false,\"hoverinfo\":\"y+name\",\"line\":{\"color\":\"rgb(10,149,178)\",\"width\":10},\"mode\":\"lines\",\"name\":\"sailing full:Carrier A\",\"x\":[\"1970-01-01T02:32:10\",\"1970-01-01T02:32:10\",\"1970-01-01T03:17:39\",\"1970-01-01T03:17:39\",\"1970-01-01T03:17:39\",\"1970-01-01T05:27:08\",\"1970-01-01T05:27:08\",\"1970-01-01T06:12:37\",\"1970-01-01T06:12:37\",\"1970-01-01T06:12:37\",\"1970-01-01T08:22:06\",\"1970-01-01T08:22:06\",\"1970-01-01T09:07:35\",\"1970-01-01T09:07:35\",\"1970-01-01T09:07:35\",\"1970-01-01T11:17:04\",\"1970-01-01T11:17:04\",\"1970-01-01T12:02:33\",\"1970-01-01T12:02:33\",\"1970-01-01T12:02:33\",\"1970-01-01T14:12:02\",\"1970-01-01T14:12:02\",\"1970-01-01T14:57:31\",\"1970-01-01T14:57:31\",\"1970-01-01T14:57:31\",\"1970-01-01T17:07:00\",\"1970-01-01T17:07:00\",\"1970-01-01T17:52:29\",\"1970-01-01T17:52:29\",\"1970-01-01T17:52:29\",\"1970-01-01T20:01:58\",\"1970-01-01T20:01:58\",\"1970-01-01T20:47:27\",\"1970-01-01T20:47:27\",\"1970-01-01T20:47:27\"],\"y\":[\"Carrier A\",\"Carrier A\",\"Carrier A\",\"Carrier A\",null,\"Carrier A\",\"Carrier A\",\"Carrier A\",\"Carrier A\",null,\"Carrier A\",\"Carrier A\",\"Carrier A\",\"Carrier A\",null,\"Carrier A\",\"Carrier A\",\"Carrier A\",\"Carrier A\",null,\"Carrier A\",\"Carrier A\",\"Carrier A\",\"Carrier A\",null,\"Carrier A\",\"Carrier A\",\"Carrier A\",\"Carrier A\",null,\"Carrier A\",\"Carrier A\",\"Carrier A\",\"Carrier A\",null],\"type\":\"scatter\"},{\"connectgaps\":false,\"hoverinfo\":\"y+name\",\"line\":{\"color\":\"rgb(27,166,195)\",\"width\":10},\"mode\":\"lines\",\"name\":\"sailing empty:Carrier A\",\"x\":[\"1970-01-01T00:00:00\",\"1970-01-01T00:00:00\",\"1970-01-01T00:45:29\",\"1970-01-01T00:45:29\",\"1970-01-01T00:45:29\",\"1970-01-01T04:03:08\",\"1970-01-01T04:03:08\",\"1970-01-01T04:48:37\",\"1970-01-01T04:48:37\",\"1970-01-01T04:48:37\",\"1970-01-01T06:58:06\",\"1970-01-01T06:58:06\",\"1970-01-01T07:43:35\",\"1970-01-01T07:43:35\",\"1970-01-01T07:43:35\",\"1970-01-01T09:53:04\",\"1970-01-01T09:53:04\",\"1970-01-01T10:38:33\",\"1970-01-01T10:38:33\",\"1970-01-01T10:38:33\",\"1970-01-01T12:48:02\",\"1970-01-01T12:48:02\",\"1970-01-01T13:33:31\",\"1970-01-01T13:33:31\",\"1970-01-01T13:33:31\",\"1970-01-01T15:43:00\",\"1970-01-01T15:43:00\",\"1970-01-01T16:28:29\",\"1970-01-01T16:28:29\",\"1970-01-01T16:28:29\",\"1970-01-01T18:37:58\",\"1970-01-01T18:37:58\",\"1970-01-01T19:23:27\",\"1970-01-01T19:23:27\",\"1970-01-01T19:23:27\"],\"y\":[\"Carrier A\",\"Carrier A\",\"Carrier A\",\"Carrier A\",null,\"Carrier A\",\"Carrier A\",\"Carrier A\",\"Carrier A\",null,\"Carrier A\",\"Carrier A\",\"Carrier A\",\"Carrier A\",null,\"Carrier A\",\"Carrier A\",\"Carrier A\",\"Carrier A\",null,\"Carrier A\",\"Carrier A\",\"Carrier A\",\"Carrier A\",null,\"Carrier A\",\"Carrier A\",\"Carrier A\",\"Carrier A\",null,\"Carrier A\",\"Carrier A\",\"Carrier A\",\"Carrier A\",null],\"type\":\"scatter\"},{\"connectgaps\":false,\"hoverinfo\":\"y+name\",\"line\":{\"color\":\"rgb(44,183,212)\",\"width\":10},\"mode\":\"lines\",\"name\":\"unloading:Carrier A\",\"x\":[\"1970-01-01T03:17:39\",\"1970-01-01T03:17:39\",\"1970-01-01T04:03:08\",\"1970-01-01T04:03:08\",\"1970-01-01T04:03:08\",\"1970-01-01T06:12:37\",\"1970-01-01T06:12:37\",\"1970-01-01T06:58:06\",\"1970-01-01T06:58:06\",\"1970-01-01T06:58:06\",\"1970-01-01T09:07:35\",\"1970-01-01T09:07:35\",\"1970-01-01T09:53:04\",\"1970-01-01T09:53:04\",\"1970-01-01T09:53:04\",\"1970-01-01T12:02:33\",\"1970-01-01T12:02:33\",\"1970-01-01T12:48:02\",\"1970-01-01T12:48:02\",\"1970-01-01T12:48:02\",\"1970-01-01T14:57:31\",\"1970-01-01T14:57:31\",\"1970-01-01T15:43:00\",\"1970-01-01T15:43:00\",\"1970-01-01T15:43:00\",\"1970-01-01T17:52:29\",\"1970-01-01T17:52:29\",\"1970-01-01T18:37:58\",\"1970-01-01T18:37:58\",\"1970-01-01T18:37:58\",\"1970-01-01T20:47:27\",\"1970-01-01T20:47:27\",\"1970-01-01T21:32:56\",\"1970-01-01T21:32:56\",\"1970-01-01T21:32:56\"],\"y\":[\"Carrier A\",\"Carrier A\",\"Carrier A\",\"Carrier A\",null,\"Carrier A\",\"Carrier A\",\"Carrier A\",\"Carrier A\",null,\"Carrier A\",\"Carrier A\",\"Carrier A\",\"Carrier A\",null,\"Carrier A\",\"Carrier A\",\"Carrier A\",\"Carrier A\",null,\"Carrier A\",\"Carrier A\",\"Carrier A\",\"Carrier A\",null,\"Carrier A\",\"Carrier A\",\"Carrier A\",\"Carrier A\",null,\"Carrier A\",\"Carrier A\",\"Carrier A\",\"Carrier A\",null],\"type\":\"scatter\"},{\"connectgaps\":false,\"hoverinfo\":\"y+name\",\"line\":{\"color\":\"rgb(61,200,229)\",\"width\":10},\"mode\":\"lines\",\"name\":\"loading:Carrier A\",\"x\":[\"1970-01-01T01:58:50\",\"1970-01-01T01:58:50\",\"1970-01-01T02:32:10\",\"1970-01-01T02:32:10\",\"1970-01-01T02:32:10\",\"1970-01-01T04:53:48\",\"1970-01-01T04:53:48\",\"1970-01-01T05:27:08\",\"1970-01-01T05:27:08\",\"1970-01-01T05:27:08\",\"1970-01-01T07:48:46\",\"1970-01-01T07:48:46\",\"1970-01-01T08:22:06\",\"1970-01-01T08:22:06\",\"1970-01-01T08:22:06\",\"1970-01-01T10:43:44\",\"1970-01-01T10:43:44\",\"1970-01-01T11:17:04\",\"1970-01-01T11:17:04\",\"1970-01-01T11:17:04\",\"1970-01-01T13:38:42\",\"1970-01-01T13:38:42\",\"1970-01-01T14:12:02\",\"1970-01-01T14:12:02\",\"1970-01-01T14:12:02\",\"1970-01-01T16:33:40\",\"1970-01-01T16:33:40\",\"1970-01-01T17:07:00\",\"1970-01-01T17:07:00\",\"1970-01-01T17:07:00\",\"1970-01-01T19:28:38\",\"1970-01-01T19:28:38\",\"1970-01-01T20:01:58\",\"1970-01-01T20:01:58\",\"1970-01-01T20:01:58\",\"1970-01-01T01:58:50\",\"1970-01-01T01:58:50\",\"1970-01-01T02:32:10\",\"1970-01-01T02:32:10\",\"1970-01-01T02:32:10\",\"1970-01-01T04:53:48\",\"1970-01-01T04:53:48\",\"1970-01-01T05:27:08\",\"1970-01-01T05:27:08\",\"1970-01-01T05:27:08\",\"1970-01-01T07:48:46\",\"1970-01-01T07:48:46\",\"1970-01-01T08:22:06\",\"1970-01-01T08:22:06\",\"1970-01-01T08:22:06\",\"1970-01-01T10:43:44\",\"1970-01-01T10:43:44\",\"1970-01-01T11:17:04\",\"1970-01-01T11:17:04\",\"1970-01-01T11:17:04\",\"1970-01-01T13:38:42\",\"1970-01-01T13:38:42\",\"1970-01-01T14:12:02\",\"1970-01-01T14:12:02\",\"1970-01-01T14:12:02\",\"1970-01-01T16:33:40\",\"1970-01-01T16:33:40\",\"1970-01-01T17:07:00\",\"1970-01-01T17:07:00\",\"1970-01-01T17:07:00\",\"1970-01-01T19:28:38\",\"1970-01-01T19:28:38\",\"1970-01-01T20:01:58\",\"1970-01-01T20:01:58\",\"1970-01-01T20:01:58\"],\"y\":[\"Carrier A\",\"Carrier A\",\"Carrier A\",\"Carrier A\",null,\"Carrier A\",\"Carrier A\",\"Carrier A\",\"Carrier A\",null,\"Carrier A\",\"Carrier A\",\"Carrier A\",\"Carrier A\",null,\"Carrier A\",\"Carrier A\",\"Carrier A\",\"Carrier A\",null,\"Carrier A\",\"Carrier A\",\"Carrier A\",\"Carrier A\",null,\"Carrier A\",\"Carrier A\",\"Carrier A\",\"Carrier A\",null,\"Carrier A\",\"Carrier A\",\"Carrier A\",\"Carrier A\",null,\"Cutter T\",\"Cutter T\",\"Cutter T\",\"Cutter T\",null,\"Cutter T\",\"Cutter T\",\"Cutter T\",\"Cutter T\",null,\"Cutter T\",\"Cutter T\",\"Cutter T\",\"Cutter T\",null,\"Cutter T\",\"Cutter T\",\"Cutter T\",\"Cutter T\",null,\"Cutter T\",\"Cutter T\",\"Cutter T\",\"Cutter T\",null,\"Cutter T\",\"Cutter T\",\"Cutter T\",\"Cutter T\",null,\"Cutter T\",\"Cutter T\",\"Cutter T\",\"Cutter T\",null],\"type\":\"scatter\"},{\"connectgaps\":false,\"hoverinfo\":\"y+name\",\"line\":{\"color\":\"rgb(78,217,246)\",\"width\":10},\"mode\":\"lines\",\"name\":\"sailing full:Carrier B\",\"x\":[\"1970-01-01T01:58:50\",\"1970-01-01T01:58:50\",\"1970-01-01T02:43:16\",\"1970-01-01T02:43:16\",\"1970-01-01T02:43:16\",\"1970-01-01T04:53:48\",\"1970-01-01T04:53:48\",\"1970-01-01T05:38:14\",\"1970-01-01T05:38:14\",\"1970-01-01T05:38:14\",\"1970-01-01T07:48:46\",\"1970-01-01T07:48:46\",\"1970-01-01T08:33:12\",\"1970-01-01T08:33:12\",\"1970-01-01T08:33:12\",\"1970-01-01T10:43:44\",\"1970-01-01T10:43:44\",\"1970-01-01T11:28:10\",\"1970-01-01T11:28:10\",\"1970-01-01T11:28:10\",\"1970-01-01T13:38:42\",\"1970-01-01T13:38:42\",\"1970-01-01T14:23:08\",\"1970-01-01T14:23:08\",\"1970-01-01T14:23:08\",\"1970-01-01T16:33:40\",\"1970-01-01T16:33:40\",\"1970-01-01T17:18:06\",\"1970-01-01T17:18:06\",\"1970-01-01T17:18:06\",\"1970-01-01T19:28:38\",\"1970-01-01T19:28:38\",\"1970-01-01T20:13:04\",\"1970-01-01T20:13:04\",\"1970-01-01T20:13:04\"],\"y\":[\"Carrier B\",\"Carrier B\",\"Carrier B\",\"Carrier B\",null,\"Carrier B\",\"Carrier B\",\"Carrier B\",\"Carrier B\",null,\"Carrier B\",\"Carrier B\",\"Carrier B\",\"Carrier B\",null,\"Carrier B\",\"Carrier B\",\"Carrier B\",\"Carrier B\",null,\"Carrier B\",\"Carrier B\",\"Carrier B\",\"Carrier B\",null,\"Carrier B\",\"Carrier B\",\"Carrier B\",\"Carrier B\",null,\"Carrier B\",\"Carrier B\",\"Carrier B\",\"Carrier B\",null],\"type\":\"scatter\"},{\"connectgaps\":false,\"hoverinfo\":\"y+name\",\"line\":{\"color\":\"rgb(95,234,7)\",\"width\":10},\"mode\":\"lines\",\"name\":\"sailing empty:Carrier B\",\"x\":[\"1970-01-01T00:00:00\",\"1970-01-01T00:00:00\",\"1970-01-01T00:44:26\",\"1970-01-01T00:44:26\",\"1970-01-01T00:44:26\",\"1970-01-01T03:27:42\",\"1970-01-01T03:27:42\",\"1970-01-01T04:12:08\",\"1970-01-01T04:12:08\",\"1970-01-01T04:12:08\",\"1970-01-01T06:22:40\",\"1970-01-01T06:22:40\",\"1970-01-01T07:07:06\",\"1970-01-01T07:07:06\",\"1970-01-01T07:07:06\",\"1970-01-01T09:17:38\",\"1970-01-01T09:17:38\",\"1970-01-01T10:02:04\",\"1970-01-01T10:02:04\",\"1970-01-01T10:02:04\",\"1970-01-01T12:12:36\",\"1970-01-01T12:12:36\",\"1970-01-01T12:57:02\",\"1970-01-01T12:57:02\",\"1970-01-01T12:57:02\",\"1970-01-01T15:07:34\",\"1970-01-01T15:07:34\",\"1970-01-01T15:52:00\",\"1970-01-01T15:52:00\",\"1970-01-01T15:52:00\",\"1970-01-01T18:02:32\",\"1970-01-01T18:02:32\",\"1970-01-01T18:46:58\",\"1970-01-01T18:46:58\",\"1970-01-01T18:46:58\"],\"y\":[\"Carrier B\",\"Carrier B\",\"Carrier B\",\"Carrier B\",null,\"Carrier B\",\"Carrier B\",\"Carrier B\",\"Carrier B\",null,\"Carrier B\",\"Carrier B\",\"Carrier B\",\"Carrier B\",null,\"Carrier B\",\"Carrier B\",\"Carrier B\",\"Carrier B\",null,\"Carrier B\",\"Carrier B\",\"Carrier B\",\"Carrier B\",null,\"Carrier B\",\"Carrier B\",\"Carrier B\",\"Carrier B\",null,\"Carrier B\",\"Carrier B\",\"Carrier B\",\"Carrier B\",null],\"type\":\"scatter\"},{\"connectgaps\":false,\"hoverinfo\":\"y+name\",\"line\":{\"color\":\"rgb(112,251,24)\",\"width\":10},\"mode\":\"lines\",\"name\":\"loading:Carrier B\",\"x\":[\"1970-01-01T01:17:10\",\"1970-01-01T01:17:10\",\"1970-01-01T01:58:50\",\"1970-01-01T01:58:50\",\"1970-01-01T01:58:50\",\"1970-01-01T04:12:08\",\"1970-01-01T04:12:08\",\"1970-01-01T04:53:48\",\"1970-01-01T04:53:48\",\"1970-01-01T04:53:48\",\"1970-01-01T07:07:06\",\"1970-01-01T07:07:06\",\"1970-01-01T07:48:46\",\"1970-01-01T07:48:46\",\"1970-01-01T07:48:46\",\"1970-01-01T10:02:04\",\"1970-01-01T10:02:04\",\"1970-01-01T10:43:44\",\"1970-01-01T10:43:44\",\"1970-01-01T10:43:44\",\"1970-01-01T12:57:02\",\"1970-01-01T12:57:02\",\"1970-01-01T13:38:42\",\"1970-01-01T13:38:42\",\"1970-01-01T13:38:42\",\"1970-01-01T15:52:00\",\"1970-01-01T15:52:00\",\"1970-01-01T16:33:40\",\"1970-01-01T16:33:40\",\"1970-01-01T16:33:40\",\"1970-01-01T18:46:58\",\"1970-01-01T18:46:58\",\"1970-01-01T19:28:38\",\"1970-01-01T19:28:38\",\"1970-01-01T19:28:38\",\"1970-01-01T01:17:10\",\"1970-01-01T01:17:10\",\"1970-01-01T01:58:50\",\"1970-01-01T01:58:50\",\"1970-01-01T01:58:50\",\"1970-01-01T04:12:08\",\"1970-01-01T04:12:08\",\"1970-01-01T04:53:48\",\"1970-01-01T04:53:48\",\"1970-01-01T04:53:48\",\"1970-01-01T07:07:06\",\"1970-01-01T07:07:06\",\"1970-01-01T07:48:46\",\"1970-01-01T07:48:46\",\"1970-01-01T07:48:46\",\"1970-01-01T10:02:04\",\"1970-01-01T10:02:04\",\"1970-01-01T10:43:44\",\"1970-01-01T10:43:44\",\"1970-01-01T10:43:44\",\"1970-01-01T12:57:02\",\"1970-01-01T12:57:02\",\"1970-01-01T13:38:42\",\"1970-01-01T13:38:42\",\"1970-01-01T13:38:42\",\"1970-01-01T15:52:00\",\"1970-01-01T15:52:00\",\"1970-01-01T16:33:40\",\"1970-01-01T16:33:40\",\"1970-01-01T16:33:40\",\"1970-01-01T18:46:58\",\"1970-01-01T18:46:58\",\"1970-01-01T19:28:38\",\"1970-01-01T19:28:38\",\"1970-01-01T19:28:38\"],\"y\":[\"Carrier B\",\"Carrier B\",\"Carrier B\",\"Carrier B\",null,\"Carrier B\",\"Carrier B\",\"Carrier B\",\"Carrier B\",null,\"Carrier B\",\"Carrier B\",\"Carrier B\",\"Carrier B\",null,\"Carrier B\",\"Carrier B\",\"Carrier B\",\"Carrier B\",null,\"Carrier B\",\"Carrier B\",\"Carrier B\",\"Carrier B\",null,\"Carrier B\",\"Carrier B\",\"Carrier B\",\"Carrier B\",null,\"Carrier B\",\"Carrier B\",\"Carrier B\",\"Carrier B\",null,\"Cutter T\",\"Cutter T\",\"Cutter T\",\"Cutter T\",null,\"Cutter T\",\"Cutter T\",\"Cutter T\",\"Cutter T\",null,\"Cutter T\",\"Cutter T\",\"Cutter T\",\"Cutter T\",null,\"Cutter T\",\"Cutter T\",\"Cutter T\",\"Cutter T\",null,\"Cutter T\",\"Cutter T\",\"Cutter T\",\"Cutter T\",null,\"Cutter T\",\"Cutter T\",\"Cutter T\",\"Cutter T\",null,\"Cutter T\",\"Cutter T\",\"Cutter T\",\"Cutter T\",null],\"type\":\"scatter\"},{\"connectgaps\":false,\"hoverinfo\":\"y+name\",\"line\":{\"color\":\"rgb(129,12,41)\",\"width\":10},\"mode\":\"lines\",\"name\":\"unloading:Carrier B\",\"x\":[\"1970-01-01T02:43:16\",\"1970-01-01T02:43:16\",\"1970-01-01T03:27:42\",\"1970-01-01T03:27:42\",\"1970-01-01T03:27:42\",\"1970-01-01T05:38:14\",\"1970-01-01T05:38:14\",\"1970-01-01T06:22:40\",\"1970-01-01T06:22:40\",\"1970-01-01T06:22:40\",\"1970-01-01T08:33:12\",\"1970-01-01T08:33:12\",\"1970-01-01T09:17:38\",\"1970-01-01T09:17:38\",\"1970-01-01T09:17:38\",\"1970-01-01T11:28:10\",\"1970-01-01T11:28:10\",\"1970-01-01T12:12:36\",\"1970-01-01T12:12:36\",\"1970-01-01T12:12:36\",\"1970-01-01T14:23:08\",\"1970-01-01T14:23:08\",\"1970-01-01T15:07:34\",\"1970-01-01T15:07:34\",\"1970-01-01T15:07:34\",\"1970-01-01T17:18:06\",\"1970-01-01T17:18:06\",\"1970-01-01T18:02:32\",\"1970-01-01T18:02:32\",\"1970-01-01T18:02:32\",\"1970-01-01T20:13:04\",\"1970-01-01T20:13:04\",\"1970-01-01T20:57:30\",\"1970-01-01T20:57:30\",\"1970-01-01T20:57:30\"],\"y\":[\"Carrier B\",\"Carrier B\",\"Carrier B\",\"Carrier B\",null,\"Carrier B\",\"Carrier B\",\"Carrier B\",\"Carrier B\",null,\"Carrier B\",\"Carrier B\",\"Carrier B\",\"Carrier B\",null,\"Carrier B\",\"Carrier B\",\"Carrier B\",\"Carrier B\",null,\"Carrier B\",\"Carrier B\",\"Carrier B\",\"Carrier B\",null,\"Carrier B\",\"Carrier B\",\"Carrier B\",\"Carrier B\",null,\"Carrier B\",\"Carrier B\",\"Carrier B\",\"Carrier B\",null],\"type\":\"scatter\"},{\"connectgaps\":false,\"hoverinfo\":\"y+name\",\"line\":{\"color\":\"rgb(146,29,58)\",\"width\":10},\"mode\":\"lines\",\"name\":\"loading:Carrier C\",\"x\":[\"1970-01-01T00:35:30\",\"1970-01-01T00:35:30\",\"1970-01-01T01:17:10\",\"1970-01-01T01:17:10\",\"1970-01-01T01:17:10\",\"1970-01-01T03:03:40\",\"1970-01-01T03:03:40\",\"1970-01-01T03:45:20\",\"1970-01-01T03:45:20\",\"1970-01-01T03:45:20\",\"1970-01-01T05:31:50\",\"1970-01-01T05:31:50\",\"1970-01-01T06:13:30\",\"1970-01-01T06:13:30\",\"1970-01-01T06:13:30\",\"1970-01-01T08:22:06\",\"1970-01-01T08:22:06\",\"1970-01-01T09:03:46\",\"1970-01-01T09:03:46\",\"1970-01-01T09:03:46\",\"1970-01-01T11:17:04\",\"1970-01-01T11:17:04\",\"1970-01-01T11:58:44\",\"1970-01-01T11:58:44\",\"1970-01-01T11:58:44\",\"1970-01-01T14:12:02\",\"1970-01-01T14:12:02\",\"1970-01-01T14:53:42\",\"1970-01-01T14:53:42\",\"1970-01-01T14:53:42\",\"1970-01-01T17:07:00\",\"1970-01-01T17:07:00\",\"1970-01-01T17:48:40\",\"1970-01-01T17:48:40\",\"1970-01-01T17:48:40\",\"1970-01-01T20:01:58\",\"1970-01-01T20:01:58\",\"1970-01-01T20:43:38\",\"1970-01-01T20:43:38\",\"1970-01-01T20:43:38\",\"1970-01-01T00:35:30\",\"1970-01-01T00:35:30\",\"1970-01-01T01:17:10\",\"1970-01-01T01:17:10\",\"1970-01-01T01:17:10\",\"1970-01-01T03:03:40\",\"1970-01-01T03:03:40\",\"1970-01-01T03:45:20\",\"1970-01-01T03:45:20\",\"1970-01-01T03:45:20\",\"1970-01-01T05:31:50\",\"1970-01-01T05:31:50\",\"1970-01-01T06:13:30\",\"1970-01-01T06:13:30\",\"1970-01-01T06:13:30\",\"1970-01-01T08:22:06\",\"1970-01-01T08:22:06\",\"1970-01-01T09:03:46\",\"1970-01-01T09:03:46\",\"1970-01-01T09:03:46\",\"1970-01-01T11:17:04\",\"1970-01-01T11:17:04\",\"1970-01-01T11:58:44\",\"1970-01-01T11:58:44\",\"1970-01-01T11:58:44\",\"1970-01-01T14:12:02\",\"1970-01-01T14:12:02\",\"1970-01-01T14:53:42\",\"1970-01-01T14:53:42\",\"1970-01-01T14:53:42\",\"1970-01-01T17:07:00\",\"1970-01-01T17:07:00\",\"1970-01-01T17:48:40\",\"1970-01-01T17:48:40\",\"1970-01-01T17:48:40\",\"1970-01-01T20:01:58\",\"1970-01-01T20:01:58\",\"1970-01-01T20:43:38\",\"1970-01-01T20:43:38\",\"1970-01-01T20:43:38\"],\"y\":[\"Carrier C\",\"Carrier C\",\"Carrier C\",\"Carrier C\",null,\"Carrier C\",\"Carrier C\",\"Carrier C\",\"Carrier C\",null,\"Carrier C\",\"Carrier C\",\"Carrier C\",\"Carrier C\",null,\"Carrier C\",\"Carrier C\",\"Carrier C\",\"Carrier C\",null,\"Carrier C\",\"Carrier C\",\"Carrier C\",\"Carrier C\",null,\"Carrier C\",\"Carrier C\",\"Carrier C\",\"Carrier C\",null,\"Carrier C\",\"Carrier C\",\"Carrier C\",\"Carrier C\",null,\"Carrier C\",\"Carrier C\",\"Carrier C\",\"Carrier C\",null,\"Cutter T\",\"Cutter T\",\"Cutter T\",\"Cutter T\",null,\"Cutter T\",\"Cutter T\",\"Cutter T\",\"Cutter T\",null,\"Cutter T\",\"Cutter T\",\"Cutter T\",\"Cutter T\",null,\"Cutter T\",\"Cutter T\",\"Cutter T\",\"Cutter T\",null,\"Cutter T\",\"Cutter T\",\"Cutter T\",\"Cutter T\",null,\"Cutter T\",\"Cutter T\",\"Cutter T\",\"Cutter T\",null,\"Cutter T\",\"Cutter T\",\"Cutter T\",\"Cutter T\",null,\"Cutter T\",\"Cutter T\",\"Cutter T\",\"Cutter T\",null],\"type\":\"scatter\"},{\"connectgaps\":false,\"hoverinfo\":\"y+name\",\"line\":{\"color\":\"rgb(163,46,75)\",\"width\":10},\"mode\":\"lines\",\"name\":\"sailing empty:Carrier C\",\"x\":[\"1970-01-01T00:00:00\",\"1970-01-01T00:00:00\",\"1970-01-01T00:35:30\",\"1970-01-01T00:35:30\",\"1970-01-01T00:35:30\",\"1970-01-01T02:28:10\",\"1970-01-01T02:28:10\",\"1970-01-01T03:03:40\",\"1970-01-01T03:03:40\",\"1970-01-01T03:03:40\",\"1970-01-01T04:56:20\",\"1970-01-01T04:56:20\",\"1970-01-01T05:31:50\",\"1970-01-01T05:31:50\",\"1970-01-01T05:31:50\",\"1970-01-01T07:24:30\",\"1970-01-01T07:24:30\",\"1970-01-01T08:00:00\",\"1970-01-01T08:00:00\",\"1970-01-01T08:00:00\",\"1970-01-01T10:14:46\",\"1970-01-01T10:14:46\",\"1970-01-01T10:50:16\",\"1970-01-01T10:50:16\",\"1970-01-01T10:50:16\",\"1970-01-01T13:09:44\",\"1970-01-01T13:09:44\",\"1970-01-01T13:45:14\",\"1970-01-01T13:45:14\",\"1970-01-01T13:45:14\",\"1970-01-01T16:04:42\",\"1970-01-01T16:04:42\",\"1970-01-01T16:40:12\",\"1970-01-01T16:40:12\",\"1970-01-01T16:40:12\",\"1970-01-01T18:59:40\",\"1970-01-01T18:59:40\",\"1970-01-01T19:35:10\",\"1970-01-01T19:35:10\",\"1970-01-01T19:35:10\"],\"y\":[\"Carrier C\",\"Carrier C\",\"Carrier C\",\"Carrier C\",null,\"Carrier C\",\"Carrier C\",\"Carrier C\",\"Carrier C\",null,\"Carrier C\",\"Carrier C\",\"Carrier C\",\"Carrier C\",null,\"Carrier C\",\"Carrier C\",\"Carrier C\",\"Carrier C\",null,\"Carrier C\",\"Carrier C\",\"Carrier C\",\"Carrier C\",null,\"Carrier C\",\"Carrier C\",\"Carrier C\",\"Carrier C\",null,\"Carrier C\",\"Carrier C\",\"Carrier C\",\"Carrier C\",null,\"Carrier C\",\"Carrier C\",\"Carrier C\",\"Carrier C\",null],\"type\":\"scatter\"},{\"connectgaps\":false,\"hoverinfo\":\"y+name\",\"line\":{\"color\":\"rgb(180,63,92)\",\"width\":10},\"mode\":\"lines\",\"name\":\"sailing full:Carrier C\",\"x\":[\"1970-01-01T01:17:10\",\"1970-01-01T01:17:10\",\"1970-01-01T01:52:40\",\"1970-01-01T01:52:40\",\"1970-01-01T01:52:40\",\"1970-01-01T03:45:20\",\"1970-01-01T03:45:20\",\"1970-01-01T04:20:50\",\"1970-01-01T04:20:50\",\"1970-01-01T04:20:50\",\"1970-01-01T06:13:30\",\"1970-01-01T06:13:30\",\"1970-01-01T06:49:00\",\"1970-01-01T06:49:00\",\"1970-01-01T06:49:00\",\"1970-01-01T09:03:46\",\"1970-01-01T09:03:46\",\"1970-01-01T09:39:16\",\"1970-01-01T09:39:16\",\"1970-01-01T09:39:16\",\"1970-01-01T11:58:44\",\"1970-01-01T11:58:44\",\"1970-01-01T12:34:14\",\"1970-01-01T12:34:14\",\"1970-01-01T12:34:14\",\"1970-01-01T14:53:42\",\"1970-01-01T14:53:42\",\"1970-01-01T15:29:12\",\"1970-01-01T15:29:12\",\"1970-01-01T15:29:12\",\"1970-01-01T17:48:40\",\"1970-01-01T17:48:40\",\"1970-01-01T18:24:10\",\"1970-01-01T18:24:10\",\"1970-01-01T18:24:10\",\"1970-01-01T20:43:38\",\"1970-01-01T20:43:38\",\"1970-01-01T21:19:08\",\"1970-01-01T21:19:08\",\"1970-01-01T21:19:08\"],\"y\":[\"Carrier C\",\"Carrier C\",\"Carrier C\",\"Carrier C\",null,\"Carrier C\",\"Carrier C\",\"Carrier C\",\"Carrier C\",null,\"Carrier C\",\"Carrier C\",\"Carrier C\",\"Carrier C\",null,\"Carrier C\",\"Carrier C\",\"Carrier C\",\"Carrier C\",null,\"Carrier C\",\"Carrier C\",\"Carrier C\",\"Carrier C\",null,\"Carrier C\",\"Carrier C\",\"Carrier C\",\"Carrier C\",null,\"Carrier C\",\"Carrier C\",\"Carrier C\",\"Carrier C\",null,\"Carrier C\",\"Carrier C\",\"Carrier C\",\"Carrier C\",null],\"type\":\"scatter\"},{\"connectgaps\":false,\"hoverinfo\":\"y+name\",\"line\":{\"color\":\"rgb(197,80,109)\",\"width\":10},\"mode\":\"lines\",\"name\":\"unloading:Carrier C\",\"x\":[\"1970-01-01T01:52:40\",\"1970-01-01T01:52:40\",\"1970-01-01T02:28:10\",\"1970-01-01T02:28:10\",\"1970-01-01T02:28:10\",\"1970-01-01T04:20:50\",\"1970-01-01T04:20:50\",\"1970-01-01T04:56:20\",\"1970-01-01T04:56:20\",\"1970-01-01T04:56:20\",\"1970-01-01T06:49:00\",\"1970-01-01T06:49:00\",\"1970-01-01T07:24:30\",\"1970-01-01T07:24:30\",\"1970-01-01T07:24:30\",\"1970-01-01T09:39:16\",\"1970-01-01T09:39:16\",\"1970-01-01T10:14:46\",\"1970-01-01T10:14:46\",\"1970-01-01T10:14:46\",\"1970-01-01T12:34:14\",\"1970-01-01T12:34:14\",\"1970-01-01T13:09:44\",\"1970-01-01T13:09:44\",\"1970-01-01T13:09:44\",\"1970-01-01T15:29:12\",\"1970-01-01T15:29:12\",\"1970-01-01T16:04:42\",\"1970-01-01T16:04:42\",\"1970-01-01T16:04:42\",\"1970-01-01T18:24:10\",\"1970-01-01T18:24:10\",\"1970-01-01T18:59:40\",\"1970-01-01T18:59:40\",\"1970-01-01T18:59:40\",\"1970-01-01T21:19:08\",\"1970-01-01T21:19:08\",\"1970-01-01T21:54:38\",\"1970-01-01T21:54:38\",\"1970-01-01T21:54:38\"],\"y\":[\"Carrier C\",\"Carrier C\",\"Carrier C\",\"Carrier C\",null,\"Carrier C\",\"Carrier C\",\"Carrier C\",\"Carrier C\",null,\"Carrier C\",\"Carrier C\",\"Carrier C\",\"Carrier C\",null,\"Carrier C\",\"Carrier C\",\"Carrier C\",\"Carrier C\",null,\"Carrier C\",\"Carrier C\",\"Carrier C\",\"Carrier C\",null,\"Carrier C\",\"Carrier C\",\"Carrier C\",\"Carrier C\",null,\"Carrier C\",\"Carrier C\",\"Carrier C\",\"Carrier C\",null,\"Carrier C\",\"Carrier C\",\"Carrier C\",\"Carrier C\",null],\"type\":\"scatter\"},{\"connectgaps\":false,\"hoverinfo\":\"y+name\",\"line\":{\"color\":\"rgb(214,97,126)\",\"width\":10},\"mode\":\"lines\",\"name\":\"loading:Carrier C\",\"x\":[\"1970-01-01T00:35:30\",\"1970-01-01T00:35:30\",\"1970-01-01T01:17:10\",\"1970-01-01T01:17:10\",\"1970-01-01T01:17:10\",\"1970-01-01T03:03:40\",\"1970-01-01T03:03:40\",\"1970-01-01T03:45:20\",\"1970-01-01T03:45:20\",\"1970-01-01T03:45:20\",\"1970-01-01T05:31:50\",\"1970-01-01T05:31:50\",\"1970-01-01T06:13:30\",\"1970-01-01T06:13:30\",\"1970-01-01T06:13:30\",\"1970-01-01T08:22:06\",\"1970-01-01T08:22:06\",\"1970-01-01T09:03:46\",\"1970-01-01T09:03:46\",\"1970-01-01T09:03:46\",\"1970-01-01T11:17:04\",\"1970-01-01T11:17:04\",\"1970-01-01T11:58:44\",\"1970-01-01T11:58:44\",\"1970-01-01T11:58:44\",\"1970-01-01T14:12:02\",\"1970-01-01T14:12:02\",\"1970-01-01T14:53:42\",\"1970-01-01T14:53:42\",\"1970-01-01T14:53:42\",\"1970-01-01T17:07:00\",\"1970-01-01T17:07:00\",\"1970-01-01T17:48:40\",\"1970-01-01T17:48:40\",\"1970-01-01T17:48:40\",\"1970-01-01T20:01:58\",\"1970-01-01T20:01:58\",\"1970-01-01T20:43:38\",\"1970-01-01T20:43:38\",\"1970-01-01T20:43:38\",\"1970-01-01T00:35:30\",\"1970-01-01T00:35:30\",\"1970-01-01T01:17:10\",\"1970-01-01T01:17:10\",\"1970-01-01T01:17:10\",\"1970-01-01T03:03:40\",\"1970-01-01T03:03:40\",\"1970-01-01T03:45:20\",\"1970-01-01T03:45:20\",\"1970-01-01T03:45:20\",\"1970-01-01T05:31:50\",\"1970-01-01T05:31:50\",\"1970-01-01T06:13:30\",\"1970-01-01T06:13:30\",\"1970-01-01T06:13:30\",\"1970-01-01T08:22:06\",\"1970-01-01T08:22:06\",\"1970-01-01T09:03:46\",\"1970-01-01T09:03:46\",\"1970-01-01T09:03:46\",\"1970-01-01T11:17:04\",\"1970-01-01T11:17:04\",\"1970-01-01T11:58:44\",\"1970-01-01T11:58:44\",\"1970-01-01T11:58:44\",\"1970-01-01T14:12:02\",\"1970-01-01T14:12:02\",\"1970-01-01T14:53:42\",\"1970-01-01T14:53:42\",\"1970-01-01T14:53:42\",\"1970-01-01T17:07:00\",\"1970-01-01T17:07:00\",\"1970-01-01T17:48:40\",\"1970-01-01T17:48:40\",\"1970-01-01T17:48:40\",\"1970-01-01T20:01:58\",\"1970-01-01T20:01:58\",\"1970-01-01T20:43:38\",\"1970-01-01T20:43:38\",\"1970-01-01T20:43:38\"],\"y\":[\"Carrier C\",\"Carrier C\",\"Carrier C\",\"Carrier C\",null,\"Carrier C\",\"Carrier C\",\"Carrier C\",\"Carrier C\",null,\"Carrier C\",\"Carrier C\",\"Carrier C\",\"Carrier C\",null,\"Carrier C\",\"Carrier C\",\"Carrier C\",\"Carrier C\",null,\"Carrier C\",\"Carrier C\",\"Carrier C\",\"Carrier C\",null,\"Carrier C\",\"Carrier C\",\"Carrier C\",\"Carrier C\",null,\"Carrier C\",\"Carrier C\",\"Carrier C\",\"Carrier C\",null,\"Carrier C\",\"Carrier C\",\"Carrier C\",\"Carrier C\",null,\"Cutter T\",\"Cutter T\",\"Cutter T\",\"Cutter T\",null,\"Cutter T\",\"Cutter T\",\"Cutter T\",\"Cutter T\",null,\"Cutter T\",\"Cutter T\",\"Cutter T\",\"Cutter T\",null,\"Cutter T\",\"Cutter T\",\"Cutter T\",\"Cutter T\",null,\"Cutter T\",\"Cutter T\",\"Cutter T\",\"Cutter T\",null,\"Cutter T\",\"Cutter T\",\"Cutter T\",\"Cutter T\",null,\"Cutter T\",\"Cutter T\",\"Cutter T\",\"Cutter T\",null,\"Cutter T\",\"Cutter T\",\"Cutter T\",\"Cutter T\",null],\"type\":\"scatter\"},{\"connectgaps\":false,\"hoverinfo\":\"y+name\",\"line\":{\"color\":\"rgb(231,114,143)\",\"width\":10},\"mode\":\"lines\",\"name\":\"loading:Carrier B\",\"x\":[\"1970-01-01T01:17:10\",\"1970-01-01T01:17:10\",\"1970-01-01T01:58:50\",\"1970-01-01T01:58:50\",\"1970-01-01T01:58:50\",\"1970-01-01T04:12:08\",\"1970-01-01T04:12:08\",\"1970-01-01T04:53:48\",\"1970-01-01T04:53:48\",\"1970-01-01T04:53:48\",\"1970-01-01T07:07:06\",\"1970-01-01T07:07:06\",\"1970-01-01T07:48:46\",\"1970-01-01T07:48:46\",\"1970-01-01T07:48:46\",\"1970-01-01T10:02:04\",\"1970-01-01T10:02:04\",\"1970-01-01T10:43:44\",\"1970-01-01T10:43:44\",\"1970-01-01T10:43:44\",\"1970-01-01T12:57:02\",\"1970-01-01T12:57:02\",\"1970-01-01T13:38:42\",\"1970-01-01T13:38:42\",\"1970-01-01T13:38:42\",\"1970-01-01T15:52:00\",\"1970-01-01T15:52:00\",\"1970-01-01T16:33:40\",\"1970-01-01T16:33:40\",\"1970-01-01T16:33:40\",\"1970-01-01T18:46:58\",\"1970-01-01T18:46:58\",\"1970-01-01T19:28:38\",\"1970-01-01T19:28:38\",\"1970-01-01T19:28:38\",\"1970-01-01T01:17:10\",\"1970-01-01T01:17:10\",\"1970-01-01T01:58:50\",\"1970-01-01T01:58:50\",\"1970-01-01T01:58:50\",\"1970-01-01T04:12:08\",\"1970-01-01T04:12:08\",\"1970-01-01T04:53:48\",\"1970-01-01T04:53:48\",\"1970-01-01T04:53:48\",\"1970-01-01T07:07:06\",\"1970-01-01T07:07:06\",\"1970-01-01T07:48:46\",\"1970-01-01T07:48:46\",\"1970-01-01T07:48:46\",\"1970-01-01T10:02:04\",\"1970-01-01T10:02:04\",\"1970-01-01T10:43:44\",\"1970-01-01T10:43:44\",\"1970-01-01T10:43:44\",\"1970-01-01T12:57:02\",\"1970-01-01T12:57:02\",\"1970-01-01T13:38:42\",\"1970-01-01T13:38:42\",\"1970-01-01T13:38:42\",\"1970-01-01T15:52:00\",\"1970-01-01T15:52:00\",\"1970-01-01T16:33:40\",\"1970-01-01T16:33:40\",\"1970-01-01T16:33:40\",\"1970-01-01T18:46:58\",\"1970-01-01T18:46:58\",\"1970-01-01T19:28:38\",\"1970-01-01T19:28:38\",\"1970-01-01T19:28:38\"],\"y\":[\"Carrier B\",\"Carrier B\",\"Carrier B\",\"Carrier B\",null,\"Carrier B\",\"Carrier B\",\"Carrier B\",\"Carrier B\",null,\"Carrier B\",\"Carrier B\",\"Carrier B\",\"Carrier B\",null,\"Carrier B\",\"Carrier B\",\"Carrier B\",\"Carrier B\",null,\"Carrier B\",\"Carrier B\",\"Carrier B\",\"Carrier B\",null,\"Carrier B\",\"Carrier B\",\"Carrier B\",\"Carrier B\",null,\"Carrier B\",\"Carrier B\",\"Carrier B\",\"Carrier B\",null,\"Cutter T\",\"Cutter T\",\"Cutter T\",\"Cutter T\",null,\"Cutter T\",\"Cutter T\",\"Cutter T\",\"Cutter T\",null,\"Cutter T\",\"Cutter T\",\"Cutter T\",\"Cutter T\",null,\"Cutter T\",\"Cutter T\",\"Cutter T\",\"Cutter T\",null,\"Cutter T\",\"Cutter T\",\"Cutter T\",\"Cutter T\",null,\"Cutter T\",\"Cutter T\",\"Cutter T\",\"Cutter T\",null,\"Cutter T\",\"Cutter T\",\"Cutter T\",\"Cutter T\",null],\"type\":\"scatter\"},{\"connectgaps\":false,\"hoverinfo\":\"y+name\",\"line\":{\"color\":\"rgb(248,131,160)\",\"width\":10},\"mode\":\"lines\",\"name\":\"loading:Carrier A\",\"x\":[\"1970-01-01T01:58:50\",\"1970-01-01T01:58:50\",\"1970-01-01T02:32:10\",\"1970-01-01T02:32:10\",\"1970-01-01T02:32:10\",\"1970-01-01T04:53:48\",\"1970-01-01T04:53:48\",\"1970-01-01T05:27:08\",\"1970-01-01T05:27:08\",\"1970-01-01T05:27:08\",\"1970-01-01T07:48:46\",\"1970-01-01T07:48:46\",\"1970-01-01T08:22:06\",\"1970-01-01T08:22:06\",\"1970-01-01T08:22:06\",\"1970-01-01T10:43:44\",\"1970-01-01T10:43:44\",\"1970-01-01T11:17:04\",\"1970-01-01T11:17:04\",\"1970-01-01T11:17:04\",\"1970-01-01T13:38:42\",\"1970-01-01T13:38:42\",\"1970-01-01T14:12:02\",\"1970-01-01T14:12:02\",\"1970-01-01T14:12:02\",\"1970-01-01T16:33:40\",\"1970-01-01T16:33:40\",\"1970-01-01T17:07:00\",\"1970-01-01T17:07:00\",\"1970-01-01T17:07:00\",\"1970-01-01T19:28:38\",\"1970-01-01T19:28:38\",\"1970-01-01T20:01:58\",\"1970-01-01T20:01:58\",\"1970-01-01T20:01:58\",\"1970-01-01T01:58:50\",\"1970-01-01T01:58:50\",\"1970-01-01T02:32:10\",\"1970-01-01T02:32:10\",\"1970-01-01T02:32:10\",\"1970-01-01T04:53:48\",\"1970-01-01T04:53:48\",\"1970-01-01T05:27:08\",\"1970-01-01T05:27:08\",\"1970-01-01T05:27:08\",\"1970-01-01T07:48:46\",\"1970-01-01T07:48:46\",\"1970-01-01T08:22:06\",\"1970-01-01T08:22:06\",\"1970-01-01T08:22:06\",\"1970-01-01T10:43:44\",\"1970-01-01T10:43:44\",\"1970-01-01T11:17:04\",\"1970-01-01T11:17:04\",\"1970-01-01T11:17:04\",\"1970-01-01T13:38:42\",\"1970-01-01T13:38:42\",\"1970-01-01T14:12:02\",\"1970-01-01T14:12:02\",\"1970-01-01T14:12:02\",\"1970-01-01T16:33:40\",\"1970-01-01T16:33:40\",\"1970-01-01T17:07:00\",\"1970-01-01T17:07:00\",\"1970-01-01T17:07:00\",\"1970-01-01T19:28:38\",\"1970-01-01T19:28:38\",\"1970-01-01T20:01:58\",\"1970-01-01T20:01:58\",\"1970-01-01T20:01:58\"],\"y\":[\"Carrier A\",\"Carrier A\",\"Carrier A\",\"Carrier A\",null,\"Carrier A\",\"Carrier A\",\"Carrier A\",\"Carrier A\",null,\"Carrier A\",\"Carrier A\",\"Carrier A\",\"Carrier A\",null,\"Carrier A\",\"Carrier A\",\"Carrier A\",\"Carrier A\",null,\"Carrier A\",\"Carrier A\",\"Carrier A\",\"Carrier A\",null,\"Carrier A\",\"Carrier A\",\"Carrier A\",\"Carrier A\",null,\"Carrier A\",\"Carrier A\",\"Carrier A\",\"Carrier A\",null,\"Cutter T\",\"Cutter T\",\"Cutter T\",\"Cutter T\",null,\"Cutter T\",\"Cutter T\",\"Cutter T\",\"Cutter T\",null,\"Cutter T\",\"Cutter T\",\"Cutter T\",\"Cutter T\",null,\"Cutter T\",\"Cutter T\",\"Cutter T\",\"Cutter T\",null,\"Cutter T\",\"Cutter T\",\"Cutter T\",\"Cutter T\",null,\"Cutter T\",\"Cutter T\",\"Cutter T\",\"Cutter T\",null,\"Cutter T\",\"Cutter T\",\"Cutter T\",\"Cutter T\",null],\"type\":\"scatter\"}],                        {\"hovermode\":\"closest\",\"legend\":{\"orientation\":\"h\",\"x\":0,\"y\":-0.2},\"template\":{\"data\":{\"barpolar\":[{\"marker\":{\"line\":{\"color\":\"#E5ECF6\",\"width\":0.5},\"pattern\":{\"fillmode\":\"overlay\",\"size\":10,\"solidity\":0.2}},\"type\":\"barpolar\"}],\"bar\":[{\"error_x\":{\"color\":\"#2a3f5f\"},\"error_y\":{\"color\":\"#2a3f5f\"},\"marker\":{\"line\":{\"color\":\"#E5ECF6\",\"width\":0.5},\"pattern\":{\"fillmode\":\"overlay\",\"size\":10,\"solidity\":0.2}},\"type\":\"bar\"}],\"carpet\":[{\"aaxis\":{\"endlinecolor\":\"#2a3f5f\",\"gridcolor\":\"white\",\"linecolor\":\"white\",\"minorgridcolor\":\"white\",\"startlinecolor\":\"#2a3f5f\"},\"baxis\":{\"endlinecolor\":\"#2a3f5f\",\"gridcolor\":\"white\",\"linecolor\":\"white\",\"minorgridcolor\":\"white\",\"startlinecolor\":\"#2a3f5f\"},\"type\":\"carpet\"}],\"choropleth\":[{\"colorbar\":{\"outlinewidth\":0,\"ticks\":\"\"},\"type\":\"choropleth\"}],\"contourcarpet\":[{\"colorbar\":{\"outlinewidth\":0,\"ticks\":\"\"},\"type\":\"contourcarpet\"}],\"contour\":[{\"colorbar\":{\"outlinewidth\":0,\"ticks\":\"\"},\"colorscale\":[[0.0,\"#0d0887\"],[0.1111111111111111,\"#46039f\"],[0.2222222222222222,\"#7201a8\"],[0.3333333333333333,\"#9c179e\"],[0.4444444444444444,\"#bd3786\"],[0.5555555555555556,\"#d8576b\"],[0.6666666666666666,\"#ed7953\"],[0.7777777777777778,\"#fb9f3a\"],[0.8888888888888888,\"#fdca26\"],[1.0,\"#f0f921\"]],\"type\":\"contour\"}],\"heatmapgl\":[{\"colorbar\":{\"outlinewidth\":0,\"ticks\":\"\"},\"colorscale\":[[0.0,\"#0d0887\"],[0.1111111111111111,\"#46039f\"],[0.2222222222222222,\"#7201a8\"],[0.3333333333333333,\"#9c179e\"],[0.4444444444444444,\"#bd3786\"],[0.5555555555555556,\"#d8576b\"],[0.6666666666666666,\"#ed7953\"],[0.7777777777777778,\"#fb9f3a\"],[0.8888888888888888,\"#fdca26\"],[1.0,\"#f0f921\"]],\"type\":\"heatmapgl\"}],\"heatmap\":[{\"colorbar\":{\"outlinewidth\":0,\"ticks\":\"\"},\"colorscale\":[[0.0,\"#0d0887\"],[0.1111111111111111,\"#46039f\"],[0.2222222222222222,\"#7201a8\"],[0.3333333333333333,\"#9c179e\"],[0.4444444444444444,\"#bd3786\"],[0.5555555555555556,\"#d8576b\"],[0.6666666666666666,\"#ed7953\"],[0.7777777777777778,\"#fb9f3a\"],[0.8888888888888888,\"#fdca26\"],[1.0,\"#f0f921\"]],\"type\":\"heatmap\"}],\"histogram2dcontour\":[{\"colorbar\":{\"outlinewidth\":0,\"ticks\":\"\"},\"colorscale\":[[0.0,\"#0d0887\"],[0.1111111111111111,\"#46039f\"],[0.2222222222222222,\"#7201a8\"],[0.3333333333333333,\"#9c179e\"],[0.4444444444444444,\"#bd3786\"],[0.5555555555555556,\"#d8576b\"],[0.6666666666666666,\"#ed7953\"],[0.7777777777777778,\"#fb9f3a\"],[0.8888888888888888,\"#fdca26\"],[1.0,\"#f0f921\"]],\"type\":\"histogram2dcontour\"}],\"histogram2d\":[{\"colorbar\":{\"outlinewidth\":0,\"ticks\":\"\"},\"colorscale\":[[0.0,\"#0d0887\"],[0.1111111111111111,\"#46039f\"],[0.2222222222222222,\"#7201a8\"],[0.3333333333333333,\"#9c179e\"],[0.4444444444444444,\"#bd3786\"],[0.5555555555555556,\"#d8576b\"],[0.6666666666666666,\"#ed7953\"],[0.7777777777777778,\"#fb9f3a\"],[0.8888888888888888,\"#fdca26\"],[1.0,\"#f0f921\"]],\"type\":\"histogram2d\"}],\"histogram\":[{\"marker\":{\"pattern\":{\"fillmode\":\"overlay\",\"size\":10,\"solidity\":0.2}},\"type\":\"histogram\"}],\"mesh3d\":[{\"colorbar\":{\"outlinewidth\":0,\"ticks\":\"\"},\"type\":\"mesh3d\"}],\"parcoords\":[{\"line\":{\"colorbar\":{\"outlinewidth\":0,\"ticks\":\"\"}},\"type\":\"parcoords\"}],\"pie\":[{\"automargin\":true,\"type\":\"pie\"}],\"scatter3d\":[{\"line\":{\"colorbar\":{\"outlinewidth\":0,\"ticks\":\"\"}},\"marker\":{\"colorbar\":{\"outlinewidth\":0,\"ticks\":\"\"}},\"type\":\"scatter3d\"}],\"scattercarpet\":[{\"marker\":{\"colorbar\":{\"outlinewidth\":0,\"ticks\":\"\"}},\"type\":\"scattercarpet\"}],\"scattergeo\":[{\"marker\":{\"colorbar\":{\"outlinewidth\":0,\"ticks\":\"\"}},\"type\":\"scattergeo\"}],\"scattergl\":[{\"marker\":{\"colorbar\":{\"outlinewidth\":0,\"ticks\":\"\"}},\"type\":\"scattergl\"}],\"scattermapbox\":[{\"marker\":{\"colorbar\":{\"outlinewidth\":0,\"ticks\":\"\"}},\"type\":\"scattermapbox\"}],\"scatterpolargl\":[{\"marker\":{\"colorbar\":{\"outlinewidth\":0,\"ticks\":\"\"}},\"type\":\"scatterpolargl\"}],\"scatterpolar\":[{\"marker\":{\"colorbar\":{\"outlinewidth\":0,\"ticks\":\"\"}},\"type\":\"scatterpolar\"}],\"scatter\":[{\"fillpattern\":{\"fillmode\":\"overlay\",\"size\":10,\"solidity\":0.2},\"type\":\"scatter\"}],\"scatterternary\":[{\"marker\":{\"colorbar\":{\"outlinewidth\":0,\"ticks\":\"\"}},\"type\":\"scatterternary\"}],\"surface\":[{\"colorbar\":{\"outlinewidth\":0,\"ticks\":\"\"},\"colorscale\":[[0.0,\"#0d0887\"],[0.1111111111111111,\"#46039f\"],[0.2222222222222222,\"#7201a8\"],[0.3333333333333333,\"#9c179e\"],[0.4444444444444444,\"#bd3786\"],[0.5555555555555556,\"#d8576b\"],[0.6666666666666666,\"#ed7953\"],[0.7777777777777778,\"#fb9f3a\"],[0.8888888888888888,\"#fdca26\"],[1.0,\"#f0f921\"]],\"type\":\"surface\"}],\"table\":[{\"cells\":{\"fill\":{\"color\":\"#EBF0F8\"},\"line\":{\"color\":\"white\"}},\"header\":{\"fill\":{\"color\":\"#C8D4E3\"},\"line\":{\"color\":\"white\"}},\"type\":\"table\"}]},\"layout\":{\"annotationdefaults\":{\"arrowcolor\":\"#2a3f5f\",\"arrowhead\":0,\"arrowwidth\":1},\"autotypenumbers\":\"strict\",\"coloraxis\":{\"colorbar\":{\"outlinewidth\":0,\"ticks\":\"\"}},\"colorscale\":{\"diverging\":[[0,\"#8e0152\"],[0.1,\"#c51b7d\"],[0.2,\"#de77ae\"],[0.3,\"#f1b6da\"],[0.4,\"#fde0ef\"],[0.5,\"#f7f7f7\"],[0.6,\"#e6f5d0\"],[0.7,\"#b8e186\"],[0.8,\"#7fbc41\"],[0.9,\"#4d9221\"],[1,\"#276419\"]],\"sequential\":[[0.0,\"#0d0887\"],[0.1111111111111111,\"#46039f\"],[0.2222222222222222,\"#7201a8\"],[0.3333333333333333,\"#9c179e\"],[0.4444444444444444,\"#bd3786\"],[0.5555555555555556,\"#d8576b\"],[0.6666666666666666,\"#ed7953\"],[0.7777777777777778,\"#fb9f3a\"],[0.8888888888888888,\"#fdca26\"],[1.0,\"#f0f921\"]],\"sequentialminus\":[[0.0,\"#0d0887\"],[0.1111111111111111,\"#46039f\"],[0.2222222222222222,\"#7201a8\"],[0.3333333333333333,\"#9c179e\"],[0.4444444444444444,\"#bd3786\"],[0.5555555555555556,\"#d8576b\"],[0.6666666666666666,\"#ed7953\"],[0.7777777777777778,\"#fb9f3a\"],[0.8888888888888888,\"#fdca26\"],[1.0,\"#f0f921\"]]},\"colorway\":[\"#636efa\",\"#EF553B\",\"#00cc96\",\"#ab63fa\",\"#FFA15A\",\"#19d3f3\",\"#FF6692\",\"#B6E880\",\"#FF97FF\",\"#FECB52\"],\"font\":{\"color\":\"#2a3f5f\"},\"geo\":{\"bgcolor\":\"white\",\"lakecolor\":\"white\",\"landcolor\":\"#E5ECF6\",\"showlakes\":true,\"showland\":true,\"subunitcolor\":\"white\"},\"hoverlabel\":{\"align\":\"left\"},\"hovermode\":\"closest\",\"mapbox\":{\"style\":\"light\"},\"paper_bgcolor\":\"white\",\"plot_bgcolor\":\"#E5ECF6\",\"polar\":{\"angularaxis\":{\"gridcolor\":\"white\",\"linecolor\":\"white\",\"ticks\":\"\"},\"bgcolor\":\"#E5ECF6\",\"radialaxis\":{\"gridcolor\":\"white\",\"linecolor\":\"white\",\"ticks\":\"\"}},\"scene\":{\"xaxis\":{\"backgroundcolor\":\"#E5ECF6\",\"gridcolor\":\"white\",\"gridwidth\":2,\"linecolor\":\"white\",\"showbackground\":true,\"ticks\":\"\",\"zerolinecolor\":\"white\"},\"yaxis\":{\"backgroundcolor\":\"#E5ECF6\",\"gridcolor\":\"white\",\"gridwidth\":2,\"linecolor\":\"white\",\"showbackground\":true,\"ticks\":\"\",\"zerolinecolor\":\"white\"},\"zaxis\":{\"backgroundcolor\":\"#E5ECF6\",\"gridcolor\":\"white\",\"gridwidth\":2,\"linecolor\":\"white\",\"showbackground\":true,\"ticks\":\"\",\"zerolinecolor\":\"white\"}},\"shapedefaults\":{\"line\":{\"color\":\"#2a3f5f\"}},\"ternary\":{\"aaxis\":{\"gridcolor\":\"white\",\"linecolor\":\"white\",\"ticks\":\"\"},\"baxis\":{\"gridcolor\":\"white\",\"linecolor\":\"white\",\"ticks\":\"\"},\"bgcolor\":\"#E5ECF6\",\"caxis\":{\"gridcolor\":\"white\",\"linecolor\":\"white\",\"ticks\":\"\"}},\"title\":{\"x\":0.05},\"xaxis\":{\"automargin\":true,\"gridcolor\":\"white\",\"linecolor\":\"white\",\"ticks\":\"\",\"title\":{\"standoff\":15},\"zerolinecolor\":\"white\",\"zerolinewidth\":2},\"yaxis\":{\"automargin\":true,\"gridcolor\":\"white\",\"linecolor\":\"white\",\"ticks\":\"\",\"title\":{\"standoff\":15},\"zerolinecolor\":\"white\",\"zerolinewidth\":2}}},\"title\":{\"text\":\"GANTT Chart\"},\"xaxis\":{\"range\":[\"1970-01-01T00:00:00\",\"1970-01-01T21:54:38\"],\"title\":{\"font\":{\"color\":\"#7f7f7f\",\"family\":\"Courier New, monospace\",\"size\":18},\"text\":\"Time\"}},\"yaxis\":{\"title\":{\"font\":{\"color\":\"#7f7f7f\",\"family\":\"Courier New, monospace\",\"size\":18},\"text\":\"Activities\"}}},                        {\"responsive\": true}                    ).then(function(){\n",
       "                            \n",
       "var gd = document.getElementById('53691a7c-4b8e-42f3-a84c-f31faad4bf9b');\n",
       "var x = new MutationObserver(function (mutations, observer) {{\n",
       "        var display = window.getComputedStyle(gd).display;\n",
       "        if (!display || display === 'none') {{\n",
       "            console.log([gd, 'removed!']);\n",
       "            Plotly.purge(gd);\n",
       "            observer.disconnect();\n",
       "        }}\n",
       "}});\n",
       "\n",
       "// Listen for the removal of the full notebook cells\n",
       "var notebookContainer = gd.closest('#notebook-container');\n",
       "if (notebookContainer) {{\n",
       "    x.observe(notebookContainer, {childList: true});\n",
       "}}\n",
       "\n",
       "// Listen for the clearing of the current output cell\n",
       "var outputEl = gd.closest('.output');\n",
       "if (outputEl) {{\n",
       "    x.observe(outputEl, {childList: true});\n",
       "}}\n",
       "\n",
       "                        })                };                });            </script>        </div>"
      ]
     },
     "metadata": {},
     "output_type": "display_data"
    }
   ],
   "source": [
    "fig = get_gantt_chart(vessels, id_map=activities)"
   ]
  },
  {
   "cell_type": "code",
   "execution_count": 7,
   "id": "b7331bd0",
   "metadata": {},
   "outputs": [
    {
     "data": {
      "text/html": [
       "        <script type=\"text/javascript\">\n",
       "        window.PlotlyConfig = {MathJaxConfig: 'local'};\n",
       "        if (window.MathJax && window.MathJax.Hub && window.MathJax.Hub.Config) {window.MathJax.Hub.Config({SVG: {font: \"STIX-Web\"}});}\n",
       "        if (typeof require !== 'undefined') {\n",
       "        require.undef(\"plotly\");\n",
       "        requirejs.config({\n",
       "            paths: {\n",
       "                'plotly': ['https://cdn.plot.ly/plotly-2.18.2.min']\n",
       "            }\n",
       "        });\n",
       "        require(['plotly'], function(Plotly) {\n",
       "            window._Plotly = Plotly;\n",
       "        });\n",
       "        }\n",
       "        </script>\n",
       "        "
      ]
     },
     "metadata": {},
     "output_type": "display_data"
    },
    {
     "data": {
      "application/vnd.plotly.v1+json": {
       "config": {
        "linkText": "Export to plot.ly",
        "plotlyServerURL": "https://plot.ly",
        "showLink": false
       },
       "data": [
        {
         "connectgaps": false,
         "hoverinfo": "y+name",
         "line": {
          "color": "rgb(167,113,41)",
          "width": 10
         },
         "mode": "lines",
         "name": "loading:Carrier C",
         "type": "scatter",
         "x": [
          "1970-01-01T00:35:30",
          "1970-01-01T00:35:30",
          "1970-01-01T01:17:10",
          "1970-01-01T01:17:10",
          "1970-01-01T01:17:10",
          "1970-01-01T03:03:40",
          "1970-01-01T03:03:40",
          "1970-01-01T03:45:20",
          "1970-01-01T03:45:20",
          "1970-01-01T03:45:20",
          "1970-01-01T05:31:50",
          "1970-01-01T05:31:50",
          "1970-01-01T06:13:30",
          "1970-01-01T06:13:30",
          "1970-01-01T06:13:30",
          "1970-01-01T08:22:06",
          "1970-01-01T08:22:06",
          "1970-01-01T09:03:46",
          "1970-01-01T09:03:46",
          "1970-01-01T09:03:46",
          "1970-01-01T11:17:04",
          "1970-01-01T11:17:04",
          "1970-01-01T11:58:44",
          "1970-01-01T11:58:44",
          "1970-01-01T11:58:44",
          "1970-01-01T14:12:02",
          "1970-01-01T14:12:02",
          "1970-01-01T14:53:42",
          "1970-01-01T14:53:42",
          "1970-01-01T14:53:42",
          "1970-01-01T17:07:00",
          "1970-01-01T17:07:00",
          "1970-01-01T17:48:40",
          "1970-01-01T17:48:40",
          "1970-01-01T17:48:40",
          "1970-01-01T20:01:58",
          "1970-01-01T20:01:58",
          "1970-01-01T20:43:38",
          "1970-01-01T20:43:38",
          "1970-01-01T20:43:38",
          "1970-01-01T00:35:30",
          "1970-01-01T00:35:30",
          "1970-01-01T01:17:10",
          "1970-01-01T01:17:10",
          "1970-01-01T01:17:10",
          "1970-01-01T03:03:40",
          "1970-01-01T03:03:40",
          "1970-01-01T03:45:20",
          "1970-01-01T03:45:20",
          "1970-01-01T03:45:20",
          "1970-01-01T05:31:50",
          "1970-01-01T05:31:50",
          "1970-01-01T06:13:30",
          "1970-01-01T06:13:30",
          "1970-01-01T06:13:30",
          "1970-01-01T08:22:06",
          "1970-01-01T08:22:06",
          "1970-01-01T09:03:46",
          "1970-01-01T09:03:46",
          "1970-01-01T09:03:46",
          "1970-01-01T11:17:04",
          "1970-01-01T11:17:04",
          "1970-01-01T11:58:44",
          "1970-01-01T11:58:44",
          "1970-01-01T11:58:44",
          "1970-01-01T14:12:02",
          "1970-01-01T14:12:02",
          "1970-01-01T14:53:42",
          "1970-01-01T14:53:42",
          "1970-01-01T14:53:42",
          "1970-01-01T17:07:00",
          "1970-01-01T17:07:00",
          "1970-01-01T17:48:40",
          "1970-01-01T17:48:40",
          "1970-01-01T17:48:40",
          "1970-01-01T20:01:58",
          "1970-01-01T20:01:58",
          "1970-01-01T20:43:38",
          "1970-01-01T20:43:38",
          "1970-01-01T20:43:38"
         ],
         "y": [
          "Trench",
          "Trench",
          "Trench",
          "Trench",
          null,
          "Trench",
          "Trench",
          "Trench",
          "Trench",
          null,
          "Trench",
          "Trench",
          "Trench",
          "Trench",
          null,
          "Trench",
          "Trench",
          "Trench",
          "Trench",
          null,
          "Trench",
          "Trench",
          "Trench",
          "Trench",
          null,
          "Trench",
          "Trench",
          "Trench",
          "Trench",
          null,
          "Trench",
          "Trench",
          "Trench",
          "Trench",
          null,
          "Trench",
          "Trench",
          "Trench",
          "Trench",
          null,
          "Cutter T",
          "Cutter T",
          "Cutter T",
          "Cutter T",
          null,
          "Cutter T",
          "Cutter T",
          "Cutter T",
          "Cutter T",
          null,
          "Cutter T",
          "Cutter T",
          "Cutter T",
          "Cutter T",
          null,
          "Cutter T",
          "Cutter T",
          "Cutter T",
          "Cutter T",
          null,
          "Cutter T",
          "Cutter T",
          "Cutter T",
          "Cutter T",
          null,
          "Cutter T",
          "Cutter T",
          "Cutter T",
          "Cutter T",
          null,
          "Cutter T",
          "Cutter T",
          "Cutter T",
          "Cutter T",
          null,
          "Cutter T",
          "Cutter T",
          "Cutter T",
          "Cutter T",
          null
         ]
        },
        {
         "connectgaps": false,
         "hoverinfo": "y+name",
         "line": {
          "color": "rgb(195,141,69)",
          "width": 10
         },
         "mode": "lines",
         "name": "loading:Carrier B",
         "type": "scatter",
         "x": [
          "1970-01-01T01:17:10",
          "1970-01-01T01:17:10",
          "1970-01-01T01:58:50",
          "1970-01-01T01:58:50",
          "1970-01-01T01:58:50",
          "1970-01-01T04:12:08",
          "1970-01-01T04:12:08",
          "1970-01-01T04:53:48",
          "1970-01-01T04:53:48",
          "1970-01-01T04:53:48",
          "1970-01-01T07:07:06",
          "1970-01-01T07:07:06",
          "1970-01-01T07:48:46",
          "1970-01-01T07:48:46",
          "1970-01-01T07:48:46",
          "1970-01-01T10:02:04",
          "1970-01-01T10:02:04",
          "1970-01-01T10:43:44",
          "1970-01-01T10:43:44",
          "1970-01-01T10:43:44",
          "1970-01-01T12:57:02",
          "1970-01-01T12:57:02",
          "1970-01-01T13:38:42",
          "1970-01-01T13:38:42",
          "1970-01-01T13:38:42",
          "1970-01-01T15:52:00",
          "1970-01-01T15:52:00",
          "1970-01-01T16:33:40",
          "1970-01-01T16:33:40",
          "1970-01-01T16:33:40",
          "1970-01-01T18:46:58",
          "1970-01-01T18:46:58",
          "1970-01-01T19:28:38",
          "1970-01-01T19:28:38",
          "1970-01-01T19:28:38",
          "1970-01-01T01:17:10",
          "1970-01-01T01:17:10",
          "1970-01-01T01:58:50",
          "1970-01-01T01:58:50",
          "1970-01-01T01:58:50",
          "1970-01-01T04:12:08",
          "1970-01-01T04:12:08",
          "1970-01-01T04:53:48",
          "1970-01-01T04:53:48",
          "1970-01-01T04:53:48",
          "1970-01-01T07:07:06",
          "1970-01-01T07:07:06",
          "1970-01-01T07:48:46",
          "1970-01-01T07:48:46",
          "1970-01-01T07:48:46",
          "1970-01-01T10:02:04",
          "1970-01-01T10:02:04",
          "1970-01-01T10:43:44",
          "1970-01-01T10:43:44",
          "1970-01-01T10:43:44",
          "1970-01-01T12:57:02",
          "1970-01-01T12:57:02",
          "1970-01-01T13:38:42",
          "1970-01-01T13:38:42",
          "1970-01-01T13:38:42",
          "1970-01-01T15:52:00",
          "1970-01-01T15:52:00",
          "1970-01-01T16:33:40",
          "1970-01-01T16:33:40",
          "1970-01-01T16:33:40",
          "1970-01-01T18:46:58",
          "1970-01-01T18:46:58",
          "1970-01-01T19:28:38",
          "1970-01-01T19:28:38",
          "1970-01-01T19:28:38"
         ],
         "y": [
          "Trench",
          "Trench",
          "Trench",
          "Trench",
          null,
          "Trench",
          "Trench",
          "Trench",
          "Trench",
          null,
          "Trench",
          "Trench",
          "Trench",
          "Trench",
          null,
          "Trench",
          "Trench",
          "Trench",
          "Trench",
          null,
          "Trench",
          "Trench",
          "Trench",
          "Trench",
          null,
          "Trench",
          "Trench",
          "Trench",
          "Trench",
          null,
          "Trench",
          "Trench",
          "Trench",
          "Trench",
          null,
          "Cutter T",
          "Cutter T",
          "Cutter T",
          "Cutter T",
          null,
          "Cutter T",
          "Cutter T",
          "Cutter T",
          "Cutter T",
          null,
          "Cutter T",
          "Cutter T",
          "Cutter T",
          "Cutter T",
          null,
          "Cutter T",
          "Cutter T",
          "Cutter T",
          "Cutter T",
          null,
          "Cutter T",
          "Cutter T",
          "Cutter T",
          "Cutter T",
          null,
          "Cutter T",
          "Cutter T",
          "Cutter T",
          "Cutter T",
          null,
          "Cutter T",
          "Cutter T",
          "Cutter T",
          "Cutter T",
          null
         ]
        },
        {
         "connectgaps": false,
         "hoverinfo": "y+name",
         "line": {
          "color": "rgb(223,169,97)",
          "width": 10
         },
         "mode": "lines",
         "name": "loading:Carrier A",
         "type": "scatter",
         "x": [
          "1970-01-01T01:58:50",
          "1970-01-01T01:58:50",
          "1970-01-01T02:32:10",
          "1970-01-01T02:32:10",
          "1970-01-01T02:32:10",
          "1970-01-01T04:53:48",
          "1970-01-01T04:53:48",
          "1970-01-01T05:27:08",
          "1970-01-01T05:27:08",
          "1970-01-01T05:27:08",
          "1970-01-01T07:48:46",
          "1970-01-01T07:48:46",
          "1970-01-01T08:22:06",
          "1970-01-01T08:22:06",
          "1970-01-01T08:22:06",
          "1970-01-01T10:43:44",
          "1970-01-01T10:43:44",
          "1970-01-01T11:17:04",
          "1970-01-01T11:17:04",
          "1970-01-01T11:17:04",
          "1970-01-01T13:38:42",
          "1970-01-01T13:38:42",
          "1970-01-01T14:12:02",
          "1970-01-01T14:12:02",
          "1970-01-01T14:12:02",
          "1970-01-01T16:33:40",
          "1970-01-01T16:33:40",
          "1970-01-01T17:07:00",
          "1970-01-01T17:07:00",
          "1970-01-01T17:07:00",
          "1970-01-01T19:28:38",
          "1970-01-01T19:28:38",
          "1970-01-01T20:01:58",
          "1970-01-01T20:01:58",
          "1970-01-01T20:01:58",
          "1970-01-01T01:58:50",
          "1970-01-01T01:58:50",
          "1970-01-01T02:32:10",
          "1970-01-01T02:32:10",
          "1970-01-01T02:32:10",
          "1970-01-01T04:53:48",
          "1970-01-01T04:53:48",
          "1970-01-01T05:27:08",
          "1970-01-01T05:27:08",
          "1970-01-01T05:27:08",
          "1970-01-01T07:48:46",
          "1970-01-01T07:48:46",
          "1970-01-01T08:22:06",
          "1970-01-01T08:22:06",
          "1970-01-01T08:22:06",
          "1970-01-01T10:43:44",
          "1970-01-01T10:43:44",
          "1970-01-01T11:17:04",
          "1970-01-01T11:17:04",
          "1970-01-01T11:17:04",
          "1970-01-01T13:38:42",
          "1970-01-01T13:38:42",
          "1970-01-01T14:12:02",
          "1970-01-01T14:12:02",
          "1970-01-01T14:12:02",
          "1970-01-01T16:33:40",
          "1970-01-01T16:33:40",
          "1970-01-01T17:07:00",
          "1970-01-01T17:07:00",
          "1970-01-01T17:07:00",
          "1970-01-01T19:28:38",
          "1970-01-01T19:28:38",
          "1970-01-01T20:01:58",
          "1970-01-01T20:01:58",
          "1970-01-01T20:01:58"
         ],
         "y": [
          "Trench",
          "Trench",
          "Trench",
          "Trench",
          null,
          "Trench",
          "Trench",
          "Trench",
          "Trench",
          null,
          "Trench",
          "Trench",
          "Trench",
          "Trench",
          null,
          "Trench",
          "Trench",
          "Trench",
          "Trench",
          null,
          "Trench",
          "Trench",
          "Trench",
          "Trench",
          null,
          "Trench",
          "Trench",
          "Trench",
          "Trench",
          null,
          "Trench",
          "Trench",
          "Trench",
          "Trench",
          null,
          "Cutter T",
          "Cutter T",
          "Cutter T",
          "Cutter T",
          null,
          "Cutter T",
          "Cutter T",
          "Cutter T",
          "Cutter T",
          null,
          "Cutter T",
          "Cutter T",
          "Cutter T",
          "Cutter T",
          null,
          "Cutter T",
          "Cutter T",
          "Cutter T",
          "Cutter T",
          null,
          "Cutter T",
          "Cutter T",
          "Cutter T",
          "Cutter T",
          null,
          "Cutter T",
          "Cutter T",
          "Cutter T",
          "Cutter T",
          null,
          "Cutter T",
          "Cutter T",
          "Cutter T",
          "Cutter T",
          null
         ]
        },
        {
         "connectgaps": false,
         "hoverinfo": "y+name",
         "line": {
          "color": "rgb(251,197,125)",
          "width": 10
         },
         "mode": "lines",
         "name": "unloading:Carrier C",
         "type": "scatter",
         "x": [
          "1970-01-01T01:52:40",
          "1970-01-01T01:52:40",
          "1970-01-01T02:28:10",
          "1970-01-01T02:28:10",
          "1970-01-01T02:28:10",
          "1970-01-01T04:20:50",
          "1970-01-01T04:20:50",
          "1970-01-01T04:56:20",
          "1970-01-01T04:56:20",
          "1970-01-01T04:56:20",
          "1970-01-01T06:49:00",
          "1970-01-01T06:49:00",
          "1970-01-01T07:24:30",
          "1970-01-01T07:24:30",
          "1970-01-01T07:24:30",
          "1970-01-01T09:39:16",
          "1970-01-01T09:39:16",
          "1970-01-01T10:14:46",
          "1970-01-01T10:14:46",
          "1970-01-01T10:14:46",
          "1970-01-01T12:34:14",
          "1970-01-01T12:34:14",
          "1970-01-01T13:09:44",
          "1970-01-01T13:09:44",
          "1970-01-01T13:09:44",
          "1970-01-01T15:29:12",
          "1970-01-01T15:29:12",
          "1970-01-01T16:04:42",
          "1970-01-01T16:04:42",
          "1970-01-01T16:04:42",
          "1970-01-01T18:24:10",
          "1970-01-01T18:24:10",
          "1970-01-01T18:59:40",
          "1970-01-01T18:59:40",
          "1970-01-01T18:59:40",
          "1970-01-01T21:19:08",
          "1970-01-01T21:19:08",
          "1970-01-01T21:54:38",
          "1970-01-01T21:54:38",
          "1970-01-01T21:54:38"
         ],
         "y": [
          "Reclamation",
          "Reclamation",
          "Reclamation",
          "Reclamation",
          null,
          "Reclamation",
          "Reclamation",
          "Reclamation",
          "Reclamation",
          null,
          "Reclamation",
          "Reclamation",
          "Reclamation",
          "Reclamation",
          null,
          "Reclamation",
          "Reclamation",
          "Reclamation",
          "Reclamation",
          null,
          "Reclamation",
          "Reclamation",
          "Reclamation",
          "Reclamation",
          null,
          "Reclamation",
          "Reclamation",
          "Reclamation",
          "Reclamation",
          null,
          "Reclamation",
          "Reclamation",
          "Reclamation",
          "Reclamation",
          null,
          "Reclamation",
          "Reclamation",
          "Reclamation",
          "Reclamation",
          null
         ]
        },
        {
         "connectgaps": false,
         "hoverinfo": "y+name",
         "line": {
          "color": "rgb(23,225,153)",
          "width": 10
         },
         "mode": "lines",
         "name": "unloading:Carrier A",
         "type": "scatter",
         "x": [
          "1970-01-01T03:17:39",
          "1970-01-01T03:17:39",
          "1970-01-01T04:03:08",
          "1970-01-01T04:03:08",
          "1970-01-01T04:03:08",
          "1970-01-01T06:12:37",
          "1970-01-01T06:12:37",
          "1970-01-01T06:58:06",
          "1970-01-01T06:58:06",
          "1970-01-01T06:58:06",
          "1970-01-01T09:07:35",
          "1970-01-01T09:07:35",
          "1970-01-01T09:53:04",
          "1970-01-01T09:53:04",
          "1970-01-01T09:53:04",
          "1970-01-01T12:02:33",
          "1970-01-01T12:02:33",
          "1970-01-01T12:48:02",
          "1970-01-01T12:48:02",
          "1970-01-01T12:48:02",
          "1970-01-01T14:57:31",
          "1970-01-01T14:57:31",
          "1970-01-01T15:43:00",
          "1970-01-01T15:43:00",
          "1970-01-01T15:43:00",
          "1970-01-01T17:52:29",
          "1970-01-01T17:52:29",
          "1970-01-01T18:37:58",
          "1970-01-01T18:37:58",
          "1970-01-01T18:37:58",
          "1970-01-01T20:47:27",
          "1970-01-01T20:47:27",
          "1970-01-01T21:32:56",
          "1970-01-01T21:32:56",
          "1970-01-01T21:32:56"
         ],
         "y": [
          "Reclamation",
          "Reclamation",
          "Reclamation",
          "Reclamation",
          null,
          "Reclamation",
          "Reclamation",
          "Reclamation",
          "Reclamation",
          null,
          "Reclamation",
          "Reclamation",
          "Reclamation",
          "Reclamation",
          null,
          "Reclamation",
          "Reclamation",
          "Reclamation",
          "Reclamation",
          null,
          "Reclamation",
          "Reclamation",
          "Reclamation",
          "Reclamation",
          null,
          "Reclamation",
          "Reclamation",
          "Reclamation",
          "Reclamation",
          null,
          "Reclamation",
          "Reclamation",
          "Reclamation",
          "Reclamation",
          null
         ]
        },
        {
         "connectgaps": false,
         "hoverinfo": "y+name",
         "line": {
          "color": "rgb(51,253,181)",
          "width": 10
         },
         "mode": "lines",
         "name": "unloading:Carrier B",
         "type": "scatter",
         "x": [
          "1970-01-01T02:43:16",
          "1970-01-01T02:43:16",
          "1970-01-01T03:27:42",
          "1970-01-01T03:27:42",
          "1970-01-01T03:27:42",
          "1970-01-01T05:38:14",
          "1970-01-01T05:38:14",
          "1970-01-01T06:22:40",
          "1970-01-01T06:22:40",
          "1970-01-01T06:22:40",
          "1970-01-01T08:33:12",
          "1970-01-01T08:33:12",
          "1970-01-01T09:17:38",
          "1970-01-01T09:17:38",
          "1970-01-01T09:17:38",
          "1970-01-01T11:28:10",
          "1970-01-01T11:28:10",
          "1970-01-01T12:12:36",
          "1970-01-01T12:12:36",
          "1970-01-01T12:12:36",
          "1970-01-01T14:23:08",
          "1970-01-01T14:23:08",
          "1970-01-01T15:07:34",
          "1970-01-01T15:07:34",
          "1970-01-01T15:07:34",
          "1970-01-01T17:18:06",
          "1970-01-01T17:18:06",
          "1970-01-01T18:02:32",
          "1970-01-01T18:02:32",
          "1970-01-01T18:02:32",
          "1970-01-01T20:13:04",
          "1970-01-01T20:13:04",
          "1970-01-01T20:57:30",
          "1970-01-01T20:57:30",
          "1970-01-01T20:57:30"
         ],
         "y": [
          "Reclamation",
          "Reclamation",
          "Reclamation",
          "Reclamation",
          null,
          "Reclamation",
          "Reclamation",
          "Reclamation",
          "Reclamation",
          null,
          "Reclamation",
          "Reclamation",
          "Reclamation",
          "Reclamation",
          null,
          "Reclamation",
          "Reclamation",
          "Reclamation",
          "Reclamation",
          null,
          "Reclamation",
          "Reclamation",
          "Reclamation",
          "Reclamation",
          null,
          "Reclamation",
          "Reclamation",
          "Reclamation",
          "Reclamation",
          null,
          "Reclamation",
          "Reclamation",
          "Reclamation",
          "Reclamation",
          null
         ]
        },
        {
         "connectgaps": false,
         "hoverinfo": "y+name",
         "line": {
          "color": "rgb(79,25,209)",
          "width": 10
         },
         "mode": "lines",
         "name": "loading:Carrier C",
         "type": "scatter",
         "x": [
          "1970-01-01T00:35:30",
          "1970-01-01T00:35:30",
          "1970-01-01T01:17:10",
          "1970-01-01T01:17:10",
          "1970-01-01T01:17:10",
          "1970-01-01T03:03:40",
          "1970-01-01T03:03:40",
          "1970-01-01T03:45:20",
          "1970-01-01T03:45:20",
          "1970-01-01T03:45:20",
          "1970-01-01T05:31:50",
          "1970-01-01T05:31:50",
          "1970-01-01T06:13:30",
          "1970-01-01T06:13:30",
          "1970-01-01T06:13:30",
          "1970-01-01T08:22:06",
          "1970-01-01T08:22:06",
          "1970-01-01T09:03:46",
          "1970-01-01T09:03:46",
          "1970-01-01T09:03:46",
          "1970-01-01T11:17:04",
          "1970-01-01T11:17:04",
          "1970-01-01T11:58:44",
          "1970-01-01T11:58:44",
          "1970-01-01T11:58:44",
          "1970-01-01T14:12:02",
          "1970-01-01T14:12:02",
          "1970-01-01T14:53:42",
          "1970-01-01T14:53:42",
          "1970-01-01T14:53:42",
          "1970-01-01T17:07:00",
          "1970-01-01T17:07:00",
          "1970-01-01T17:48:40",
          "1970-01-01T17:48:40",
          "1970-01-01T17:48:40",
          "1970-01-01T20:01:58",
          "1970-01-01T20:01:58",
          "1970-01-01T20:43:38",
          "1970-01-01T20:43:38",
          "1970-01-01T20:43:38",
          "1970-01-01T00:35:30",
          "1970-01-01T00:35:30",
          "1970-01-01T01:17:10",
          "1970-01-01T01:17:10",
          "1970-01-01T01:17:10",
          "1970-01-01T03:03:40",
          "1970-01-01T03:03:40",
          "1970-01-01T03:45:20",
          "1970-01-01T03:45:20",
          "1970-01-01T03:45:20",
          "1970-01-01T05:31:50",
          "1970-01-01T05:31:50",
          "1970-01-01T06:13:30",
          "1970-01-01T06:13:30",
          "1970-01-01T06:13:30",
          "1970-01-01T08:22:06",
          "1970-01-01T08:22:06",
          "1970-01-01T09:03:46",
          "1970-01-01T09:03:46",
          "1970-01-01T09:03:46",
          "1970-01-01T11:17:04",
          "1970-01-01T11:17:04",
          "1970-01-01T11:58:44",
          "1970-01-01T11:58:44",
          "1970-01-01T11:58:44",
          "1970-01-01T14:12:02",
          "1970-01-01T14:12:02",
          "1970-01-01T14:53:42",
          "1970-01-01T14:53:42",
          "1970-01-01T14:53:42",
          "1970-01-01T17:07:00",
          "1970-01-01T17:07:00",
          "1970-01-01T17:48:40",
          "1970-01-01T17:48:40",
          "1970-01-01T17:48:40",
          "1970-01-01T20:01:58",
          "1970-01-01T20:01:58",
          "1970-01-01T20:43:38",
          "1970-01-01T20:43:38",
          "1970-01-01T20:43:38"
         ],
         "y": [
          "Trench",
          "Trench",
          "Trench",
          "Trench",
          null,
          "Trench",
          "Trench",
          "Trench",
          "Trench",
          null,
          "Trench",
          "Trench",
          "Trench",
          "Trench",
          null,
          "Trench",
          "Trench",
          "Trench",
          "Trench",
          null,
          "Trench",
          "Trench",
          "Trench",
          "Trench",
          null,
          "Trench",
          "Trench",
          "Trench",
          "Trench",
          null,
          "Trench",
          "Trench",
          "Trench",
          "Trench",
          null,
          "Trench",
          "Trench",
          "Trench",
          "Trench",
          null,
          "Cutter T",
          "Cutter T",
          "Cutter T",
          "Cutter T",
          null,
          "Cutter T",
          "Cutter T",
          "Cutter T",
          "Cutter T",
          null,
          "Cutter T",
          "Cutter T",
          "Cutter T",
          "Cutter T",
          null,
          "Cutter T",
          "Cutter T",
          "Cutter T",
          "Cutter T",
          null,
          "Cutter T",
          "Cutter T",
          "Cutter T",
          "Cutter T",
          null,
          "Cutter T",
          "Cutter T",
          "Cutter T",
          "Cutter T",
          null,
          "Cutter T",
          "Cutter T",
          "Cutter T",
          "Cutter T",
          null,
          "Cutter T",
          "Cutter T",
          "Cutter T",
          "Cutter T",
          null
         ]
        },
        {
         "connectgaps": false,
         "hoverinfo": "y+name",
         "line": {
          "color": "rgb(107,53,237)",
          "width": 10
         },
         "mode": "lines",
         "name": "loading:Carrier B",
         "type": "scatter",
         "x": [
          "1970-01-01T01:17:10",
          "1970-01-01T01:17:10",
          "1970-01-01T01:58:50",
          "1970-01-01T01:58:50",
          "1970-01-01T01:58:50",
          "1970-01-01T04:12:08",
          "1970-01-01T04:12:08",
          "1970-01-01T04:53:48",
          "1970-01-01T04:53:48",
          "1970-01-01T04:53:48",
          "1970-01-01T07:07:06",
          "1970-01-01T07:07:06",
          "1970-01-01T07:48:46",
          "1970-01-01T07:48:46",
          "1970-01-01T07:48:46",
          "1970-01-01T10:02:04",
          "1970-01-01T10:02:04",
          "1970-01-01T10:43:44",
          "1970-01-01T10:43:44",
          "1970-01-01T10:43:44",
          "1970-01-01T12:57:02",
          "1970-01-01T12:57:02",
          "1970-01-01T13:38:42",
          "1970-01-01T13:38:42",
          "1970-01-01T13:38:42",
          "1970-01-01T15:52:00",
          "1970-01-01T15:52:00",
          "1970-01-01T16:33:40",
          "1970-01-01T16:33:40",
          "1970-01-01T16:33:40",
          "1970-01-01T18:46:58",
          "1970-01-01T18:46:58",
          "1970-01-01T19:28:38",
          "1970-01-01T19:28:38",
          "1970-01-01T19:28:38",
          "1970-01-01T01:17:10",
          "1970-01-01T01:17:10",
          "1970-01-01T01:58:50",
          "1970-01-01T01:58:50",
          "1970-01-01T01:58:50",
          "1970-01-01T04:12:08",
          "1970-01-01T04:12:08",
          "1970-01-01T04:53:48",
          "1970-01-01T04:53:48",
          "1970-01-01T04:53:48",
          "1970-01-01T07:07:06",
          "1970-01-01T07:07:06",
          "1970-01-01T07:48:46",
          "1970-01-01T07:48:46",
          "1970-01-01T07:48:46",
          "1970-01-01T10:02:04",
          "1970-01-01T10:02:04",
          "1970-01-01T10:43:44",
          "1970-01-01T10:43:44",
          "1970-01-01T10:43:44",
          "1970-01-01T12:57:02",
          "1970-01-01T12:57:02",
          "1970-01-01T13:38:42",
          "1970-01-01T13:38:42",
          "1970-01-01T13:38:42",
          "1970-01-01T15:52:00",
          "1970-01-01T15:52:00",
          "1970-01-01T16:33:40",
          "1970-01-01T16:33:40",
          "1970-01-01T16:33:40",
          "1970-01-01T18:46:58",
          "1970-01-01T18:46:58",
          "1970-01-01T19:28:38",
          "1970-01-01T19:28:38",
          "1970-01-01T19:28:38"
         ],
         "y": [
          "Trench",
          "Trench",
          "Trench",
          "Trench",
          null,
          "Trench",
          "Trench",
          "Trench",
          "Trench",
          null,
          "Trench",
          "Trench",
          "Trench",
          "Trench",
          null,
          "Trench",
          "Trench",
          "Trench",
          "Trench",
          null,
          "Trench",
          "Trench",
          "Trench",
          "Trench",
          null,
          "Trench",
          "Trench",
          "Trench",
          "Trench",
          null,
          "Trench",
          "Trench",
          "Trench",
          "Trench",
          null,
          "Cutter T",
          "Cutter T",
          "Cutter T",
          "Cutter T",
          null,
          "Cutter T",
          "Cutter T",
          "Cutter T",
          "Cutter T",
          null,
          "Cutter T",
          "Cutter T",
          "Cutter T",
          "Cutter T",
          null,
          "Cutter T",
          "Cutter T",
          "Cutter T",
          "Cutter T",
          null,
          "Cutter T",
          "Cutter T",
          "Cutter T",
          "Cutter T",
          null,
          "Cutter T",
          "Cutter T",
          "Cutter T",
          "Cutter T",
          null,
          "Cutter T",
          "Cutter T",
          "Cutter T",
          "Cutter T",
          null
         ]
        },
        {
         "connectgaps": false,
         "hoverinfo": "y+name",
         "line": {
          "color": "rgb(135,81,9)",
          "width": 10
         },
         "mode": "lines",
         "name": "loading:Carrier A",
         "type": "scatter",
         "x": [
          "1970-01-01T01:58:50",
          "1970-01-01T01:58:50",
          "1970-01-01T02:32:10",
          "1970-01-01T02:32:10",
          "1970-01-01T02:32:10",
          "1970-01-01T04:53:48",
          "1970-01-01T04:53:48",
          "1970-01-01T05:27:08",
          "1970-01-01T05:27:08",
          "1970-01-01T05:27:08",
          "1970-01-01T07:48:46",
          "1970-01-01T07:48:46",
          "1970-01-01T08:22:06",
          "1970-01-01T08:22:06",
          "1970-01-01T08:22:06",
          "1970-01-01T10:43:44",
          "1970-01-01T10:43:44",
          "1970-01-01T11:17:04",
          "1970-01-01T11:17:04",
          "1970-01-01T11:17:04",
          "1970-01-01T13:38:42",
          "1970-01-01T13:38:42",
          "1970-01-01T14:12:02",
          "1970-01-01T14:12:02",
          "1970-01-01T14:12:02",
          "1970-01-01T16:33:40",
          "1970-01-01T16:33:40",
          "1970-01-01T17:07:00",
          "1970-01-01T17:07:00",
          "1970-01-01T17:07:00",
          "1970-01-01T19:28:38",
          "1970-01-01T19:28:38",
          "1970-01-01T20:01:58",
          "1970-01-01T20:01:58",
          "1970-01-01T20:01:58",
          "1970-01-01T01:58:50",
          "1970-01-01T01:58:50",
          "1970-01-01T02:32:10",
          "1970-01-01T02:32:10",
          "1970-01-01T02:32:10",
          "1970-01-01T04:53:48",
          "1970-01-01T04:53:48",
          "1970-01-01T05:27:08",
          "1970-01-01T05:27:08",
          "1970-01-01T05:27:08",
          "1970-01-01T07:48:46",
          "1970-01-01T07:48:46",
          "1970-01-01T08:22:06",
          "1970-01-01T08:22:06",
          "1970-01-01T08:22:06",
          "1970-01-01T10:43:44",
          "1970-01-01T10:43:44",
          "1970-01-01T11:17:04",
          "1970-01-01T11:17:04",
          "1970-01-01T11:17:04",
          "1970-01-01T13:38:42",
          "1970-01-01T13:38:42",
          "1970-01-01T14:12:02",
          "1970-01-01T14:12:02",
          "1970-01-01T14:12:02",
          "1970-01-01T16:33:40",
          "1970-01-01T16:33:40",
          "1970-01-01T17:07:00",
          "1970-01-01T17:07:00",
          "1970-01-01T17:07:00",
          "1970-01-01T19:28:38",
          "1970-01-01T19:28:38",
          "1970-01-01T20:01:58",
          "1970-01-01T20:01:58",
          "1970-01-01T20:01:58"
         ],
         "y": [
          "Trench",
          "Trench",
          "Trench",
          "Trench",
          null,
          "Trench",
          "Trench",
          "Trench",
          "Trench",
          null,
          "Trench",
          "Trench",
          "Trench",
          "Trench",
          null,
          "Trench",
          "Trench",
          "Trench",
          "Trench",
          null,
          "Trench",
          "Trench",
          "Trench",
          "Trench",
          null,
          "Trench",
          "Trench",
          "Trench",
          "Trench",
          null,
          "Trench",
          "Trench",
          "Trench",
          "Trench",
          null,
          "Cutter T",
          "Cutter T",
          "Cutter T",
          "Cutter T",
          null,
          "Cutter T",
          "Cutter T",
          "Cutter T",
          "Cutter T",
          null,
          "Cutter T",
          "Cutter T",
          "Cutter T",
          "Cutter T",
          null,
          "Cutter T",
          "Cutter T",
          "Cutter T",
          "Cutter T",
          null,
          "Cutter T",
          "Cutter T",
          "Cutter T",
          "Cutter T",
          null,
          "Cutter T",
          "Cutter T",
          "Cutter T",
          "Cutter T",
          null,
          "Cutter T",
          "Cutter T",
          "Cutter T",
          "Cutter T",
          null
         ]
        }
       ],
       "layout": {
        "hovermode": "closest",
        "legend": {
         "orientation": "h",
         "x": 0,
         "y": -0.2
        },
        "template": {
         "data": {
          "bar": [
           {
            "error_x": {
             "color": "#2a3f5f"
            },
            "error_y": {
             "color": "#2a3f5f"
            },
            "marker": {
             "line": {
              "color": "#E5ECF6",
              "width": 0.5
             },
             "pattern": {
              "fillmode": "overlay",
              "size": 10,
              "solidity": 0.2
             }
            },
            "type": "bar"
           }
          ],
          "barpolar": [
           {
            "marker": {
             "line": {
              "color": "#E5ECF6",
              "width": 0.5
             },
             "pattern": {
              "fillmode": "overlay",
              "size": 10,
              "solidity": 0.2
             }
            },
            "type": "barpolar"
           }
          ],
          "carpet": [
           {
            "aaxis": {
             "endlinecolor": "#2a3f5f",
             "gridcolor": "white",
             "linecolor": "white",
             "minorgridcolor": "white",
             "startlinecolor": "#2a3f5f"
            },
            "baxis": {
             "endlinecolor": "#2a3f5f",
             "gridcolor": "white",
             "linecolor": "white",
             "minorgridcolor": "white",
             "startlinecolor": "#2a3f5f"
            },
            "type": "carpet"
           }
          ],
          "choropleth": [
           {
            "colorbar": {
             "outlinewidth": 0,
             "ticks": ""
            },
            "type": "choropleth"
           }
          ],
          "contour": [
           {
            "colorbar": {
             "outlinewidth": 0,
             "ticks": ""
            },
            "colorscale": [
             [
              0,
              "#0d0887"
             ],
             [
              0.1111111111111111,
              "#46039f"
             ],
             [
              0.2222222222222222,
              "#7201a8"
             ],
             [
              0.3333333333333333,
              "#9c179e"
             ],
             [
              0.4444444444444444,
              "#bd3786"
             ],
             [
              0.5555555555555556,
              "#d8576b"
             ],
             [
              0.6666666666666666,
              "#ed7953"
             ],
             [
              0.7777777777777778,
              "#fb9f3a"
             ],
             [
              0.8888888888888888,
              "#fdca26"
             ],
             [
              1,
              "#f0f921"
             ]
            ],
            "type": "contour"
           }
          ],
          "contourcarpet": [
           {
            "colorbar": {
             "outlinewidth": 0,
             "ticks": ""
            },
            "type": "contourcarpet"
           }
          ],
          "heatmap": [
           {
            "colorbar": {
             "outlinewidth": 0,
             "ticks": ""
            },
            "colorscale": [
             [
              0,
              "#0d0887"
             ],
             [
              0.1111111111111111,
              "#46039f"
             ],
             [
              0.2222222222222222,
              "#7201a8"
             ],
             [
              0.3333333333333333,
              "#9c179e"
             ],
             [
              0.4444444444444444,
              "#bd3786"
             ],
             [
              0.5555555555555556,
              "#d8576b"
             ],
             [
              0.6666666666666666,
              "#ed7953"
             ],
             [
              0.7777777777777778,
              "#fb9f3a"
             ],
             [
              0.8888888888888888,
              "#fdca26"
             ],
             [
              1,
              "#f0f921"
             ]
            ],
            "type": "heatmap"
           }
          ],
          "heatmapgl": [
           {
            "colorbar": {
             "outlinewidth": 0,
             "ticks": ""
            },
            "colorscale": [
             [
              0,
              "#0d0887"
             ],
             [
              0.1111111111111111,
              "#46039f"
             ],
             [
              0.2222222222222222,
              "#7201a8"
             ],
             [
              0.3333333333333333,
              "#9c179e"
             ],
             [
              0.4444444444444444,
              "#bd3786"
             ],
             [
              0.5555555555555556,
              "#d8576b"
             ],
             [
              0.6666666666666666,
              "#ed7953"
             ],
             [
              0.7777777777777778,
              "#fb9f3a"
             ],
             [
              0.8888888888888888,
              "#fdca26"
             ],
             [
              1,
              "#f0f921"
             ]
            ],
            "type": "heatmapgl"
           }
          ],
          "histogram": [
           {
            "marker": {
             "pattern": {
              "fillmode": "overlay",
              "size": 10,
              "solidity": 0.2
             }
            },
            "type": "histogram"
           }
          ],
          "histogram2d": [
           {
            "colorbar": {
             "outlinewidth": 0,
             "ticks": ""
            },
            "colorscale": [
             [
              0,
              "#0d0887"
             ],
             [
              0.1111111111111111,
              "#46039f"
             ],
             [
              0.2222222222222222,
              "#7201a8"
             ],
             [
              0.3333333333333333,
              "#9c179e"
             ],
             [
              0.4444444444444444,
              "#bd3786"
             ],
             [
              0.5555555555555556,
              "#d8576b"
             ],
             [
              0.6666666666666666,
              "#ed7953"
             ],
             [
              0.7777777777777778,
              "#fb9f3a"
             ],
             [
              0.8888888888888888,
              "#fdca26"
             ],
             [
              1,
              "#f0f921"
             ]
            ],
            "type": "histogram2d"
           }
          ],
          "histogram2dcontour": [
           {
            "colorbar": {
             "outlinewidth": 0,
             "ticks": ""
            },
            "colorscale": [
             [
              0,
              "#0d0887"
             ],
             [
              0.1111111111111111,
              "#46039f"
             ],
             [
              0.2222222222222222,
              "#7201a8"
             ],
             [
              0.3333333333333333,
              "#9c179e"
             ],
             [
              0.4444444444444444,
              "#bd3786"
             ],
             [
              0.5555555555555556,
              "#d8576b"
             ],
             [
              0.6666666666666666,
              "#ed7953"
             ],
             [
              0.7777777777777778,
              "#fb9f3a"
             ],
             [
              0.8888888888888888,
              "#fdca26"
             ],
             [
              1,
              "#f0f921"
             ]
            ],
            "type": "histogram2dcontour"
           }
          ],
          "mesh3d": [
           {
            "colorbar": {
             "outlinewidth": 0,
             "ticks": ""
            },
            "type": "mesh3d"
           }
          ],
          "parcoords": [
           {
            "line": {
             "colorbar": {
              "outlinewidth": 0,
              "ticks": ""
             }
            },
            "type": "parcoords"
           }
          ],
          "pie": [
           {
            "automargin": true,
            "type": "pie"
           }
          ],
          "scatter": [
           {
            "fillpattern": {
             "fillmode": "overlay",
             "size": 10,
             "solidity": 0.2
            },
            "type": "scatter"
           }
          ],
          "scatter3d": [
           {
            "line": {
             "colorbar": {
              "outlinewidth": 0,
              "ticks": ""
             }
            },
            "marker": {
             "colorbar": {
              "outlinewidth": 0,
              "ticks": ""
             }
            },
            "type": "scatter3d"
           }
          ],
          "scattercarpet": [
           {
            "marker": {
             "colorbar": {
              "outlinewidth": 0,
              "ticks": ""
             }
            },
            "type": "scattercarpet"
           }
          ],
          "scattergeo": [
           {
            "marker": {
             "colorbar": {
              "outlinewidth": 0,
              "ticks": ""
             }
            },
            "type": "scattergeo"
           }
          ],
          "scattergl": [
           {
            "marker": {
             "colorbar": {
              "outlinewidth": 0,
              "ticks": ""
             }
            },
            "type": "scattergl"
           }
          ],
          "scattermapbox": [
           {
            "marker": {
             "colorbar": {
              "outlinewidth": 0,
              "ticks": ""
             }
            },
            "type": "scattermapbox"
           }
          ],
          "scatterpolar": [
           {
            "marker": {
             "colorbar": {
              "outlinewidth": 0,
              "ticks": ""
             }
            },
            "type": "scatterpolar"
           }
          ],
          "scatterpolargl": [
           {
            "marker": {
             "colorbar": {
              "outlinewidth": 0,
              "ticks": ""
             }
            },
            "type": "scatterpolargl"
           }
          ],
          "scatterternary": [
           {
            "marker": {
             "colorbar": {
              "outlinewidth": 0,
              "ticks": ""
             }
            },
            "type": "scatterternary"
           }
          ],
          "surface": [
           {
            "colorbar": {
             "outlinewidth": 0,
             "ticks": ""
            },
            "colorscale": [
             [
              0,
              "#0d0887"
             ],
             [
              0.1111111111111111,
              "#46039f"
             ],
             [
              0.2222222222222222,
              "#7201a8"
             ],
             [
              0.3333333333333333,
              "#9c179e"
             ],
             [
              0.4444444444444444,
              "#bd3786"
             ],
             [
              0.5555555555555556,
              "#d8576b"
             ],
             [
              0.6666666666666666,
              "#ed7953"
             ],
             [
              0.7777777777777778,
              "#fb9f3a"
             ],
             [
              0.8888888888888888,
              "#fdca26"
             ],
             [
              1,
              "#f0f921"
             ]
            ],
            "type": "surface"
           }
          ],
          "table": [
           {
            "cells": {
             "fill": {
              "color": "#EBF0F8"
             },
             "line": {
              "color": "white"
             }
            },
            "header": {
             "fill": {
              "color": "#C8D4E3"
             },
             "line": {
              "color": "white"
             }
            },
            "type": "table"
           }
          ]
         },
         "layout": {
          "annotationdefaults": {
           "arrowcolor": "#2a3f5f",
           "arrowhead": 0,
           "arrowwidth": 1
          },
          "autotypenumbers": "strict",
          "coloraxis": {
           "colorbar": {
            "outlinewidth": 0,
            "ticks": ""
           }
          },
          "colorscale": {
           "diverging": [
            [
             0,
             "#8e0152"
            ],
            [
             0.1,
             "#c51b7d"
            ],
            [
             0.2,
             "#de77ae"
            ],
            [
             0.3,
             "#f1b6da"
            ],
            [
             0.4,
             "#fde0ef"
            ],
            [
             0.5,
             "#f7f7f7"
            ],
            [
             0.6,
             "#e6f5d0"
            ],
            [
             0.7,
             "#b8e186"
            ],
            [
             0.8,
             "#7fbc41"
            ],
            [
             0.9,
             "#4d9221"
            ],
            [
             1,
             "#276419"
            ]
           ],
           "sequential": [
            [
             0,
             "#0d0887"
            ],
            [
             0.1111111111111111,
             "#46039f"
            ],
            [
             0.2222222222222222,
             "#7201a8"
            ],
            [
             0.3333333333333333,
             "#9c179e"
            ],
            [
             0.4444444444444444,
             "#bd3786"
            ],
            [
             0.5555555555555556,
             "#d8576b"
            ],
            [
             0.6666666666666666,
             "#ed7953"
            ],
            [
             0.7777777777777778,
             "#fb9f3a"
            ],
            [
             0.8888888888888888,
             "#fdca26"
            ],
            [
             1,
             "#f0f921"
            ]
           ],
           "sequentialminus": [
            [
             0,
             "#0d0887"
            ],
            [
             0.1111111111111111,
             "#46039f"
            ],
            [
             0.2222222222222222,
             "#7201a8"
            ],
            [
             0.3333333333333333,
             "#9c179e"
            ],
            [
             0.4444444444444444,
             "#bd3786"
            ],
            [
             0.5555555555555556,
             "#d8576b"
            ],
            [
             0.6666666666666666,
             "#ed7953"
            ],
            [
             0.7777777777777778,
             "#fb9f3a"
            ],
            [
             0.8888888888888888,
             "#fdca26"
            ],
            [
             1,
             "#f0f921"
            ]
           ]
          },
          "colorway": [
           "#636efa",
           "#EF553B",
           "#00cc96",
           "#ab63fa",
           "#FFA15A",
           "#19d3f3",
           "#FF6692",
           "#B6E880",
           "#FF97FF",
           "#FECB52"
          ],
          "font": {
           "color": "#2a3f5f"
          },
          "geo": {
           "bgcolor": "white",
           "lakecolor": "white",
           "landcolor": "#E5ECF6",
           "showlakes": true,
           "showland": true,
           "subunitcolor": "white"
          },
          "hoverlabel": {
           "align": "left"
          },
          "hovermode": "closest",
          "mapbox": {
           "style": "light"
          },
          "paper_bgcolor": "white",
          "plot_bgcolor": "#E5ECF6",
          "polar": {
           "angularaxis": {
            "gridcolor": "white",
            "linecolor": "white",
            "ticks": ""
           },
           "bgcolor": "#E5ECF6",
           "radialaxis": {
            "gridcolor": "white",
            "linecolor": "white",
            "ticks": ""
           }
          },
          "scene": {
           "xaxis": {
            "backgroundcolor": "#E5ECF6",
            "gridcolor": "white",
            "gridwidth": 2,
            "linecolor": "white",
            "showbackground": true,
            "ticks": "",
            "zerolinecolor": "white"
           },
           "yaxis": {
            "backgroundcolor": "#E5ECF6",
            "gridcolor": "white",
            "gridwidth": 2,
            "linecolor": "white",
            "showbackground": true,
            "ticks": "",
            "zerolinecolor": "white"
           },
           "zaxis": {
            "backgroundcolor": "#E5ECF6",
            "gridcolor": "white",
            "gridwidth": 2,
            "linecolor": "white",
            "showbackground": true,
            "ticks": "",
            "zerolinecolor": "white"
           }
          },
          "shapedefaults": {
           "line": {
            "color": "#2a3f5f"
           }
          },
          "ternary": {
           "aaxis": {
            "gridcolor": "white",
            "linecolor": "white",
            "ticks": ""
           },
           "baxis": {
            "gridcolor": "white",
            "linecolor": "white",
            "ticks": ""
           },
           "bgcolor": "#E5ECF6",
           "caxis": {
            "gridcolor": "white",
            "linecolor": "white",
            "ticks": ""
           }
          },
          "title": {
           "x": 0.05
          },
          "xaxis": {
           "automargin": true,
           "gridcolor": "white",
           "linecolor": "white",
           "ticks": "",
           "title": {
            "standoff": 15
           },
           "zerolinecolor": "white",
           "zerolinewidth": 2
          },
          "yaxis": {
           "automargin": true,
           "gridcolor": "white",
           "linecolor": "white",
           "ticks": "",
           "title": {
            "standoff": 15
           },
           "zerolinecolor": "white",
           "zerolinewidth": 2
          }
         }
        },
        "title": {
         "text": "GANTT Chart"
        },
        "xaxis": {
         "range": [
          "1970-01-01T00:35:30",
          "1970-01-01T21:54:38"
         ],
         "title": {
          "font": {
           "color": "#7f7f7f",
           "family": "Courier New, monospace",
           "size": 18
          },
          "text": "Time"
         }
        },
        "yaxis": {
         "title": {
          "font": {
           "color": "#7f7f7f",
           "family": "Courier New, monospace",
           "size": 18
          },
          "text": "Activities"
         }
        }
       }
      },
      "text/html": [
       "<div>                            <div id=\"b887f49a-0c58-41eb-a004-614f455d1b65\" class=\"plotly-graph-div\" style=\"height:525px; width:100%;\"></div>            <script type=\"text/javascript\">                require([\"plotly\"], function(Plotly) {                    window.PLOTLYENV=window.PLOTLYENV || {};                                    if (document.getElementById(\"b887f49a-0c58-41eb-a004-614f455d1b65\")) {                    Plotly.newPlot(                        \"b887f49a-0c58-41eb-a004-614f455d1b65\",                        [{\"connectgaps\":false,\"hoverinfo\":\"y+name\",\"line\":{\"color\":\"rgb(167,113,41)\",\"width\":10},\"mode\":\"lines\",\"name\":\"loading:Carrier C\",\"x\":[\"1970-01-01T00:35:30\",\"1970-01-01T00:35:30\",\"1970-01-01T01:17:10\",\"1970-01-01T01:17:10\",\"1970-01-01T01:17:10\",\"1970-01-01T03:03:40\",\"1970-01-01T03:03:40\",\"1970-01-01T03:45:20\",\"1970-01-01T03:45:20\",\"1970-01-01T03:45:20\",\"1970-01-01T05:31:50\",\"1970-01-01T05:31:50\",\"1970-01-01T06:13:30\",\"1970-01-01T06:13:30\",\"1970-01-01T06:13:30\",\"1970-01-01T08:22:06\",\"1970-01-01T08:22:06\",\"1970-01-01T09:03:46\",\"1970-01-01T09:03:46\",\"1970-01-01T09:03:46\",\"1970-01-01T11:17:04\",\"1970-01-01T11:17:04\",\"1970-01-01T11:58:44\",\"1970-01-01T11:58:44\",\"1970-01-01T11:58:44\",\"1970-01-01T14:12:02\",\"1970-01-01T14:12:02\",\"1970-01-01T14:53:42\",\"1970-01-01T14:53:42\",\"1970-01-01T14:53:42\",\"1970-01-01T17:07:00\",\"1970-01-01T17:07:00\",\"1970-01-01T17:48:40\",\"1970-01-01T17:48:40\",\"1970-01-01T17:48:40\",\"1970-01-01T20:01:58\",\"1970-01-01T20:01:58\",\"1970-01-01T20:43:38\",\"1970-01-01T20:43:38\",\"1970-01-01T20:43:38\",\"1970-01-01T00:35:30\",\"1970-01-01T00:35:30\",\"1970-01-01T01:17:10\",\"1970-01-01T01:17:10\",\"1970-01-01T01:17:10\",\"1970-01-01T03:03:40\",\"1970-01-01T03:03:40\",\"1970-01-01T03:45:20\",\"1970-01-01T03:45:20\",\"1970-01-01T03:45:20\",\"1970-01-01T05:31:50\",\"1970-01-01T05:31:50\",\"1970-01-01T06:13:30\",\"1970-01-01T06:13:30\",\"1970-01-01T06:13:30\",\"1970-01-01T08:22:06\",\"1970-01-01T08:22:06\",\"1970-01-01T09:03:46\",\"1970-01-01T09:03:46\",\"1970-01-01T09:03:46\",\"1970-01-01T11:17:04\",\"1970-01-01T11:17:04\",\"1970-01-01T11:58:44\",\"1970-01-01T11:58:44\",\"1970-01-01T11:58:44\",\"1970-01-01T14:12:02\",\"1970-01-01T14:12:02\",\"1970-01-01T14:53:42\",\"1970-01-01T14:53:42\",\"1970-01-01T14:53:42\",\"1970-01-01T17:07:00\",\"1970-01-01T17:07:00\",\"1970-01-01T17:48:40\",\"1970-01-01T17:48:40\",\"1970-01-01T17:48:40\",\"1970-01-01T20:01:58\",\"1970-01-01T20:01:58\",\"1970-01-01T20:43:38\",\"1970-01-01T20:43:38\",\"1970-01-01T20:43:38\"],\"y\":[\"Trench\",\"Trench\",\"Trench\",\"Trench\",null,\"Trench\",\"Trench\",\"Trench\",\"Trench\",null,\"Trench\",\"Trench\",\"Trench\",\"Trench\",null,\"Trench\",\"Trench\",\"Trench\",\"Trench\",null,\"Trench\",\"Trench\",\"Trench\",\"Trench\",null,\"Trench\",\"Trench\",\"Trench\",\"Trench\",null,\"Trench\",\"Trench\",\"Trench\",\"Trench\",null,\"Trench\",\"Trench\",\"Trench\",\"Trench\",null,\"Cutter T\",\"Cutter T\",\"Cutter T\",\"Cutter T\",null,\"Cutter T\",\"Cutter T\",\"Cutter T\",\"Cutter T\",null,\"Cutter T\",\"Cutter T\",\"Cutter T\",\"Cutter T\",null,\"Cutter T\",\"Cutter T\",\"Cutter T\",\"Cutter T\",null,\"Cutter T\",\"Cutter T\",\"Cutter T\",\"Cutter T\",null,\"Cutter T\",\"Cutter T\",\"Cutter T\",\"Cutter T\",null,\"Cutter T\",\"Cutter T\",\"Cutter T\",\"Cutter T\",null,\"Cutter T\",\"Cutter T\",\"Cutter T\",\"Cutter T\",null],\"type\":\"scatter\"},{\"connectgaps\":false,\"hoverinfo\":\"y+name\",\"line\":{\"color\":\"rgb(195,141,69)\",\"width\":10},\"mode\":\"lines\",\"name\":\"loading:Carrier B\",\"x\":[\"1970-01-01T01:17:10\",\"1970-01-01T01:17:10\",\"1970-01-01T01:58:50\",\"1970-01-01T01:58:50\",\"1970-01-01T01:58:50\",\"1970-01-01T04:12:08\",\"1970-01-01T04:12:08\",\"1970-01-01T04:53:48\",\"1970-01-01T04:53:48\",\"1970-01-01T04:53:48\",\"1970-01-01T07:07:06\",\"1970-01-01T07:07:06\",\"1970-01-01T07:48:46\",\"1970-01-01T07:48:46\",\"1970-01-01T07:48:46\",\"1970-01-01T10:02:04\",\"1970-01-01T10:02:04\",\"1970-01-01T10:43:44\",\"1970-01-01T10:43:44\",\"1970-01-01T10:43:44\",\"1970-01-01T12:57:02\",\"1970-01-01T12:57:02\",\"1970-01-01T13:38:42\",\"1970-01-01T13:38:42\",\"1970-01-01T13:38:42\",\"1970-01-01T15:52:00\",\"1970-01-01T15:52:00\",\"1970-01-01T16:33:40\",\"1970-01-01T16:33:40\",\"1970-01-01T16:33:40\",\"1970-01-01T18:46:58\",\"1970-01-01T18:46:58\",\"1970-01-01T19:28:38\",\"1970-01-01T19:28:38\",\"1970-01-01T19:28:38\",\"1970-01-01T01:17:10\",\"1970-01-01T01:17:10\",\"1970-01-01T01:58:50\",\"1970-01-01T01:58:50\",\"1970-01-01T01:58:50\",\"1970-01-01T04:12:08\",\"1970-01-01T04:12:08\",\"1970-01-01T04:53:48\",\"1970-01-01T04:53:48\",\"1970-01-01T04:53:48\",\"1970-01-01T07:07:06\",\"1970-01-01T07:07:06\",\"1970-01-01T07:48:46\",\"1970-01-01T07:48:46\",\"1970-01-01T07:48:46\",\"1970-01-01T10:02:04\",\"1970-01-01T10:02:04\",\"1970-01-01T10:43:44\",\"1970-01-01T10:43:44\",\"1970-01-01T10:43:44\",\"1970-01-01T12:57:02\",\"1970-01-01T12:57:02\",\"1970-01-01T13:38:42\",\"1970-01-01T13:38:42\",\"1970-01-01T13:38:42\",\"1970-01-01T15:52:00\",\"1970-01-01T15:52:00\",\"1970-01-01T16:33:40\",\"1970-01-01T16:33:40\",\"1970-01-01T16:33:40\",\"1970-01-01T18:46:58\",\"1970-01-01T18:46:58\",\"1970-01-01T19:28:38\",\"1970-01-01T19:28:38\",\"1970-01-01T19:28:38\"],\"y\":[\"Trench\",\"Trench\",\"Trench\",\"Trench\",null,\"Trench\",\"Trench\",\"Trench\",\"Trench\",null,\"Trench\",\"Trench\",\"Trench\",\"Trench\",null,\"Trench\",\"Trench\",\"Trench\",\"Trench\",null,\"Trench\",\"Trench\",\"Trench\",\"Trench\",null,\"Trench\",\"Trench\",\"Trench\",\"Trench\",null,\"Trench\",\"Trench\",\"Trench\",\"Trench\",null,\"Cutter T\",\"Cutter T\",\"Cutter T\",\"Cutter T\",null,\"Cutter T\",\"Cutter T\",\"Cutter T\",\"Cutter T\",null,\"Cutter T\",\"Cutter T\",\"Cutter T\",\"Cutter T\",null,\"Cutter T\",\"Cutter T\",\"Cutter T\",\"Cutter T\",null,\"Cutter T\",\"Cutter T\",\"Cutter T\",\"Cutter T\",null,\"Cutter T\",\"Cutter T\",\"Cutter T\",\"Cutter T\",null,\"Cutter T\",\"Cutter T\",\"Cutter T\",\"Cutter T\",null],\"type\":\"scatter\"},{\"connectgaps\":false,\"hoverinfo\":\"y+name\",\"line\":{\"color\":\"rgb(223,169,97)\",\"width\":10},\"mode\":\"lines\",\"name\":\"loading:Carrier A\",\"x\":[\"1970-01-01T01:58:50\",\"1970-01-01T01:58:50\",\"1970-01-01T02:32:10\",\"1970-01-01T02:32:10\",\"1970-01-01T02:32:10\",\"1970-01-01T04:53:48\",\"1970-01-01T04:53:48\",\"1970-01-01T05:27:08\",\"1970-01-01T05:27:08\",\"1970-01-01T05:27:08\",\"1970-01-01T07:48:46\",\"1970-01-01T07:48:46\",\"1970-01-01T08:22:06\",\"1970-01-01T08:22:06\",\"1970-01-01T08:22:06\",\"1970-01-01T10:43:44\",\"1970-01-01T10:43:44\",\"1970-01-01T11:17:04\",\"1970-01-01T11:17:04\",\"1970-01-01T11:17:04\",\"1970-01-01T13:38:42\",\"1970-01-01T13:38:42\",\"1970-01-01T14:12:02\",\"1970-01-01T14:12:02\",\"1970-01-01T14:12:02\",\"1970-01-01T16:33:40\",\"1970-01-01T16:33:40\",\"1970-01-01T17:07:00\",\"1970-01-01T17:07:00\",\"1970-01-01T17:07:00\",\"1970-01-01T19:28:38\",\"1970-01-01T19:28:38\",\"1970-01-01T20:01:58\",\"1970-01-01T20:01:58\",\"1970-01-01T20:01:58\",\"1970-01-01T01:58:50\",\"1970-01-01T01:58:50\",\"1970-01-01T02:32:10\",\"1970-01-01T02:32:10\",\"1970-01-01T02:32:10\",\"1970-01-01T04:53:48\",\"1970-01-01T04:53:48\",\"1970-01-01T05:27:08\",\"1970-01-01T05:27:08\",\"1970-01-01T05:27:08\",\"1970-01-01T07:48:46\",\"1970-01-01T07:48:46\",\"1970-01-01T08:22:06\",\"1970-01-01T08:22:06\",\"1970-01-01T08:22:06\",\"1970-01-01T10:43:44\",\"1970-01-01T10:43:44\",\"1970-01-01T11:17:04\",\"1970-01-01T11:17:04\",\"1970-01-01T11:17:04\",\"1970-01-01T13:38:42\",\"1970-01-01T13:38:42\",\"1970-01-01T14:12:02\",\"1970-01-01T14:12:02\",\"1970-01-01T14:12:02\",\"1970-01-01T16:33:40\",\"1970-01-01T16:33:40\",\"1970-01-01T17:07:00\",\"1970-01-01T17:07:00\",\"1970-01-01T17:07:00\",\"1970-01-01T19:28:38\",\"1970-01-01T19:28:38\",\"1970-01-01T20:01:58\",\"1970-01-01T20:01:58\",\"1970-01-01T20:01:58\"],\"y\":[\"Trench\",\"Trench\",\"Trench\",\"Trench\",null,\"Trench\",\"Trench\",\"Trench\",\"Trench\",null,\"Trench\",\"Trench\",\"Trench\",\"Trench\",null,\"Trench\",\"Trench\",\"Trench\",\"Trench\",null,\"Trench\",\"Trench\",\"Trench\",\"Trench\",null,\"Trench\",\"Trench\",\"Trench\",\"Trench\",null,\"Trench\",\"Trench\",\"Trench\",\"Trench\",null,\"Cutter T\",\"Cutter T\",\"Cutter T\",\"Cutter T\",null,\"Cutter T\",\"Cutter T\",\"Cutter T\",\"Cutter T\",null,\"Cutter T\",\"Cutter T\",\"Cutter T\",\"Cutter T\",null,\"Cutter T\",\"Cutter T\",\"Cutter T\",\"Cutter T\",null,\"Cutter T\",\"Cutter T\",\"Cutter T\",\"Cutter T\",null,\"Cutter T\",\"Cutter T\",\"Cutter T\",\"Cutter T\",null,\"Cutter T\",\"Cutter T\",\"Cutter T\",\"Cutter T\",null],\"type\":\"scatter\"},{\"connectgaps\":false,\"hoverinfo\":\"y+name\",\"line\":{\"color\":\"rgb(251,197,125)\",\"width\":10},\"mode\":\"lines\",\"name\":\"unloading:Carrier C\",\"x\":[\"1970-01-01T01:52:40\",\"1970-01-01T01:52:40\",\"1970-01-01T02:28:10\",\"1970-01-01T02:28:10\",\"1970-01-01T02:28:10\",\"1970-01-01T04:20:50\",\"1970-01-01T04:20:50\",\"1970-01-01T04:56:20\",\"1970-01-01T04:56:20\",\"1970-01-01T04:56:20\",\"1970-01-01T06:49:00\",\"1970-01-01T06:49:00\",\"1970-01-01T07:24:30\",\"1970-01-01T07:24:30\",\"1970-01-01T07:24:30\",\"1970-01-01T09:39:16\",\"1970-01-01T09:39:16\",\"1970-01-01T10:14:46\",\"1970-01-01T10:14:46\",\"1970-01-01T10:14:46\",\"1970-01-01T12:34:14\",\"1970-01-01T12:34:14\",\"1970-01-01T13:09:44\",\"1970-01-01T13:09:44\",\"1970-01-01T13:09:44\",\"1970-01-01T15:29:12\",\"1970-01-01T15:29:12\",\"1970-01-01T16:04:42\",\"1970-01-01T16:04:42\",\"1970-01-01T16:04:42\",\"1970-01-01T18:24:10\",\"1970-01-01T18:24:10\",\"1970-01-01T18:59:40\",\"1970-01-01T18:59:40\",\"1970-01-01T18:59:40\",\"1970-01-01T21:19:08\",\"1970-01-01T21:19:08\",\"1970-01-01T21:54:38\",\"1970-01-01T21:54:38\",\"1970-01-01T21:54:38\"],\"y\":[\"Reclamation\",\"Reclamation\",\"Reclamation\",\"Reclamation\",null,\"Reclamation\",\"Reclamation\",\"Reclamation\",\"Reclamation\",null,\"Reclamation\",\"Reclamation\",\"Reclamation\",\"Reclamation\",null,\"Reclamation\",\"Reclamation\",\"Reclamation\",\"Reclamation\",null,\"Reclamation\",\"Reclamation\",\"Reclamation\",\"Reclamation\",null,\"Reclamation\",\"Reclamation\",\"Reclamation\",\"Reclamation\",null,\"Reclamation\",\"Reclamation\",\"Reclamation\",\"Reclamation\",null,\"Reclamation\",\"Reclamation\",\"Reclamation\",\"Reclamation\",null],\"type\":\"scatter\"},{\"connectgaps\":false,\"hoverinfo\":\"y+name\",\"line\":{\"color\":\"rgb(23,225,153)\",\"width\":10},\"mode\":\"lines\",\"name\":\"unloading:Carrier A\",\"x\":[\"1970-01-01T03:17:39\",\"1970-01-01T03:17:39\",\"1970-01-01T04:03:08\",\"1970-01-01T04:03:08\",\"1970-01-01T04:03:08\",\"1970-01-01T06:12:37\",\"1970-01-01T06:12:37\",\"1970-01-01T06:58:06\",\"1970-01-01T06:58:06\",\"1970-01-01T06:58:06\",\"1970-01-01T09:07:35\",\"1970-01-01T09:07:35\",\"1970-01-01T09:53:04\",\"1970-01-01T09:53:04\",\"1970-01-01T09:53:04\",\"1970-01-01T12:02:33\",\"1970-01-01T12:02:33\",\"1970-01-01T12:48:02\",\"1970-01-01T12:48:02\",\"1970-01-01T12:48:02\",\"1970-01-01T14:57:31\",\"1970-01-01T14:57:31\",\"1970-01-01T15:43:00\",\"1970-01-01T15:43:00\",\"1970-01-01T15:43:00\",\"1970-01-01T17:52:29\",\"1970-01-01T17:52:29\",\"1970-01-01T18:37:58\",\"1970-01-01T18:37:58\",\"1970-01-01T18:37:58\",\"1970-01-01T20:47:27\",\"1970-01-01T20:47:27\",\"1970-01-01T21:32:56\",\"1970-01-01T21:32:56\",\"1970-01-01T21:32:56\"],\"y\":[\"Reclamation\",\"Reclamation\",\"Reclamation\",\"Reclamation\",null,\"Reclamation\",\"Reclamation\",\"Reclamation\",\"Reclamation\",null,\"Reclamation\",\"Reclamation\",\"Reclamation\",\"Reclamation\",null,\"Reclamation\",\"Reclamation\",\"Reclamation\",\"Reclamation\",null,\"Reclamation\",\"Reclamation\",\"Reclamation\",\"Reclamation\",null,\"Reclamation\",\"Reclamation\",\"Reclamation\",\"Reclamation\",null,\"Reclamation\",\"Reclamation\",\"Reclamation\",\"Reclamation\",null],\"type\":\"scatter\"},{\"connectgaps\":false,\"hoverinfo\":\"y+name\",\"line\":{\"color\":\"rgb(51,253,181)\",\"width\":10},\"mode\":\"lines\",\"name\":\"unloading:Carrier B\",\"x\":[\"1970-01-01T02:43:16\",\"1970-01-01T02:43:16\",\"1970-01-01T03:27:42\",\"1970-01-01T03:27:42\",\"1970-01-01T03:27:42\",\"1970-01-01T05:38:14\",\"1970-01-01T05:38:14\",\"1970-01-01T06:22:40\",\"1970-01-01T06:22:40\",\"1970-01-01T06:22:40\",\"1970-01-01T08:33:12\",\"1970-01-01T08:33:12\",\"1970-01-01T09:17:38\",\"1970-01-01T09:17:38\",\"1970-01-01T09:17:38\",\"1970-01-01T11:28:10\",\"1970-01-01T11:28:10\",\"1970-01-01T12:12:36\",\"1970-01-01T12:12:36\",\"1970-01-01T12:12:36\",\"1970-01-01T14:23:08\",\"1970-01-01T14:23:08\",\"1970-01-01T15:07:34\",\"1970-01-01T15:07:34\",\"1970-01-01T15:07:34\",\"1970-01-01T17:18:06\",\"1970-01-01T17:18:06\",\"1970-01-01T18:02:32\",\"1970-01-01T18:02:32\",\"1970-01-01T18:02:32\",\"1970-01-01T20:13:04\",\"1970-01-01T20:13:04\",\"1970-01-01T20:57:30\",\"1970-01-01T20:57:30\",\"1970-01-01T20:57:30\"],\"y\":[\"Reclamation\",\"Reclamation\",\"Reclamation\",\"Reclamation\",null,\"Reclamation\",\"Reclamation\",\"Reclamation\",\"Reclamation\",null,\"Reclamation\",\"Reclamation\",\"Reclamation\",\"Reclamation\",null,\"Reclamation\",\"Reclamation\",\"Reclamation\",\"Reclamation\",null,\"Reclamation\",\"Reclamation\",\"Reclamation\",\"Reclamation\",null,\"Reclamation\",\"Reclamation\",\"Reclamation\",\"Reclamation\",null,\"Reclamation\",\"Reclamation\",\"Reclamation\",\"Reclamation\",null],\"type\":\"scatter\"},{\"connectgaps\":false,\"hoverinfo\":\"y+name\",\"line\":{\"color\":\"rgb(79,25,209)\",\"width\":10},\"mode\":\"lines\",\"name\":\"loading:Carrier C\",\"x\":[\"1970-01-01T00:35:30\",\"1970-01-01T00:35:30\",\"1970-01-01T01:17:10\",\"1970-01-01T01:17:10\",\"1970-01-01T01:17:10\",\"1970-01-01T03:03:40\",\"1970-01-01T03:03:40\",\"1970-01-01T03:45:20\",\"1970-01-01T03:45:20\",\"1970-01-01T03:45:20\",\"1970-01-01T05:31:50\",\"1970-01-01T05:31:50\",\"1970-01-01T06:13:30\",\"1970-01-01T06:13:30\",\"1970-01-01T06:13:30\",\"1970-01-01T08:22:06\",\"1970-01-01T08:22:06\",\"1970-01-01T09:03:46\",\"1970-01-01T09:03:46\",\"1970-01-01T09:03:46\",\"1970-01-01T11:17:04\",\"1970-01-01T11:17:04\",\"1970-01-01T11:58:44\",\"1970-01-01T11:58:44\",\"1970-01-01T11:58:44\",\"1970-01-01T14:12:02\",\"1970-01-01T14:12:02\",\"1970-01-01T14:53:42\",\"1970-01-01T14:53:42\",\"1970-01-01T14:53:42\",\"1970-01-01T17:07:00\",\"1970-01-01T17:07:00\",\"1970-01-01T17:48:40\",\"1970-01-01T17:48:40\",\"1970-01-01T17:48:40\",\"1970-01-01T20:01:58\",\"1970-01-01T20:01:58\",\"1970-01-01T20:43:38\",\"1970-01-01T20:43:38\",\"1970-01-01T20:43:38\",\"1970-01-01T00:35:30\",\"1970-01-01T00:35:30\",\"1970-01-01T01:17:10\",\"1970-01-01T01:17:10\",\"1970-01-01T01:17:10\",\"1970-01-01T03:03:40\",\"1970-01-01T03:03:40\",\"1970-01-01T03:45:20\",\"1970-01-01T03:45:20\",\"1970-01-01T03:45:20\",\"1970-01-01T05:31:50\",\"1970-01-01T05:31:50\",\"1970-01-01T06:13:30\",\"1970-01-01T06:13:30\",\"1970-01-01T06:13:30\",\"1970-01-01T08:22:06\",\"1970-01-01T08:22:06\",\"1970-01-01T09:03:46\",\"1970-01-01T09:03:46\",\"1970-01-01T09:03:46\",\"1970-01-01T11:17:04\",\"1970-01-01T11:17:04\",\"1970-01-01T11:58:44\",\"1970-01-01T11:58:44\",\"1970-01-01T11:58:44\",\"1970-01-01T14:12:02\",\"1970-01-01T14:12:02\",\"1970-01-01T14:53:42\",\"1970-01-01T14:53:42\",\"1970-01-01T14:53:42\",\"1970-01-01T17:07:00\",\"1970-01-01T17:07:00\",\"1970-01-01T17:48:40\",\"1970-01-01T17:48:40\",\"1970-01-01T17:48:40\",\"1970-01-01T20:01:58\",\"1970-01-01T20:01:58\",\"1970-01-01T20:43:38\",\"1970-01-01T20:43:38\",\"1970-01-01T20:43:38\"],\"y\":[\"Trench\",\"Trench\",\"Trench\",\"Trench\",null,\"Trench\",\"Trench\",\"Trench\",\"Trench\",null,\"Trench\",\"Trench\",\"Trench\",\"Trench\",null,\"Trench\",\"Trench\",\"Trench\",\"Trench\",null,\"Trench\",\"Trench\",\"Trench\",\"Trench\",null,\"Trench\",\"Trench\",\"Trench\",\"Trench\",null,\"Trench\",\"Trench\",\"Trench\",\"Trench\",null,\"Trench\",\"Trench\",\"Trench\",\"Trench\",null,\"Cutter T\",\"Cutter T\",\"Cutter T\",\"Cutter T\",null,\"Cutter T\",\"Cutter T\",\"Cutter T\",\"Cutter T\",null,\"Cutter T\",\"Cutter T\",\"Cutter T\",\"Cutter T\",null,\"Cutter T\",\"Cutter T\",\"Cutter T\",\"Cutter T\",null,\"Cutter T\",\"Cutter T\",\"Cutter T\",\"Cutter T\",null,\"Cutter T\",\"Cutter T\",\"Cutter T\",\"Cutter T\",null,\"Cutter T\",\"Cutter T\",\"Cutter T\",\"Cutter T\",null,\"Cutter T\",\"Cutter T\",\"Cutter T\",\"Cutter T\",null],\"type\":\"scatter\"},{\"connectgaps\":false,\"hoverinfo\":\"y+name\",\"line\":{\"color\":\"rgb(107,53,237)\",\"width\":10},\"mode\":\"lines\",\"name\":\"loading:Carrier B\",\"x\":[\"1970-01-01T01:17:10\",\"1970-01-01T01:17:10\",\"1970-01-01T01:58:50\",\"1970-01-01T01:58:50\",\"1970-01-01T01:58:50\",\"1970-01-01T04:12:08\",\"1970-01-01T04:12:08\",\"1970-01-01T04:53:48\",\"1970-01-01T04:53:48\",\"1970-01-01T04:53:48\",\"1970-01-01T07:07:06\",\"1970-01-01T07:07:06\",\"1970-01-01T07:48:46\",\"1970-01-01T07:48:46\",\"1970-01-01T07:48:46\",\"1970-01-01T10:02:04\",\"1970-01-01T10:02:04\",\"1970-01-01T10:43:44\",\"1970-01-01T10:43:44\",\"1970-01-01T10:43:44\",\"1970-01-01T12:57:02\",\"1970-01-01T12:57:02\",\"1970-01-01T13:38:42\",\"1970-01-01T13:38:42\",\"1970-01-01T13:38:42\",\"1970-01-01T15:52:00\",\"1970-01-01T15:52:00\",\"1970-01-01T16:33:40\",\"1970-01-01T16:33:40\",\"1970-01-01T16:33:40\",\"1970-01-01T18:46:58\",\"1970-01-01T18:46:58\",\"1970-01-01T19:28:38\",\"1970-01-01T19:28:38\",\"1970-01-01T19:28:38\",\"1970-01-01T01:17:10\",\"1970-01-01T01:17:10\",\"1970-01-01T01:58:50\",\"1970-01-01T01:58:50\",\"1970-01-01T01:58:50\",\"1970-01-01T04:12:08\",\"1970-01-01T04:12:08\",\"1970-01-01T04:53:48\",\"1970-01-01T04:53:48\",\"1970-01-01T04:53:48\",\"1970-01-01T07:07:06\",\"1970-01-01T07:07:06\",\"1970-01-01T07:48:46\",\"1970-01-01T07:48:46\",\"1970-01-01T07:48:46\",\"1970-01-01T10:02:04\",\"1970-01-01T10:02:04\",\"1970-01-01T10:43:44\",\"1970-01-01T10:43:44\",\"1970-01-01T10:43:44\",\"1970-01-01T12:57:02\",\"1970-01-01T12:57:02\",\"1970-01-01T13:38:42\",\"1970-01-01T13:38:42\",\"1970-01-01T13:38:42\",\"1970-01-01T15:52:00\",\"1970-01-01T15:52:00\",\"1970-01-01T16:33:40\",\"1970-01-01T16:33:40\",\"1970-01-01T16:33:40\",\"1970-01-01T18:46:58\",\"1970-01-01T18:46:58\",\"1970-01-01T19:28:38\",\"1970-01-01T19:28:38\",\"1970-01-01T19:28:38\"],\"y\":[\"Trench\",\"Trench\",\"Trench\",\"Trench\",null,\"Trench\",\"Trench\",\"Trench\",\"Trench\",null,\"Trench\",\"Trench\",\"Trench\",\"Trench\",null,\"Trench\",\"Trench\",\"Trench\",\"Trench\",null,\"Trench\",\"Trench\",\"Trench\",\"Trench\",null,\"Trench\",\"Trench\",\"Trench\",\"Trench\",null,\"Trench\",\"Trench\",\"Trench\",\"Trench\",null,\"Cutter T\",\"Cutter T\",\"Cutter T\",\"Cutter T\",null,\"Cutter T\",\"Cutter T\",\"Cutter T\",\"Cutter T\",null,\"Cutter T\",\"Cutter T\",\"Cutter T\",\"Cutter T\",null,\"Cutter T\",\"Cutter T\",\"Cutter T\",\"Cutter T\",null,\"Cutter T\",\"Cutter T\",\"Cutter T\",\"Cutter T\",null,\"Cutter T\",\"Cutter T\",\"Cutter T\",\"Cutter T\",null,\"Cutter T\",\"Cutter T\",\"Cutter T\",\"Cutter T\",null],\"type\":\"scatter\"},{\"connectgaps\":false,\"hoverinfo\":\"y+name\",\"line\":{\"color\":\"rgb(135,81,9)\",\"width\":10},\"mode\":\"lines\",\"name\":\"loading:Carrier A\",\"x\":[\"1970-01-01T01:58:50\",\"1970-01-01T01:58:50\",\"1970-01-01T02:32:10\",\"1970-01-01T02:32:10\",\"1970-01-01T02:32:10\",\"1970-01-01T04:53:48\",\"1970-01-01T04:53:48\",\"1970-01-01T05:27:08\",\"1970-01-01T05:27:08\",\"1970-01-01T05:27:08\",\"1970-01-01T07:48:46\",\"1970-01-01T07:48:46\",\"1970-01-01T08:22:06\",\"1970-01-01T08:22:06\",\"1970-01-01T08:22:06\",\"1970-01-01T10:43:44\",\"1970-01-01T10:43:44\",\"1970-01-01T11:17:04\",\"1970-01-01T11:17:04\",\"1970-01-01T11:17:04\",\"1970-01-01T13:38:42\",\"1970-01-01T13:38:42\",\"1970-01-01T14:12:02\",\"1970-01-01T14:12:02\",\"1970-01-01T14:12:02\",\"1970-01-01T16:33:40\",\"1970-01-01T16:33:40\",\"1970-01-01T17:07:00\",\"1970-01-01T17:07:00\",\"1970-01-01T17:07:00\",\"1970-01-01T19:28:38\",\"1970-01-01T19:28:38\",\"1970-01-01T20:01:58\",\"1970-01-01T20:01:58\",\"1970-01-01T20:01:58\",\"1970-01-01T01:58:50\",\"1970-01-01T01:58:50\",\"1970-01-01T02:32:10\",\"1970-01-01T02:32:10\",\"1970-01-01T02:32:10\",\"1970-01-01T04:53:48\",\"1970-01-01T04:53:48\",\"1970-01-01T05:27:08\",\"1970-01-01T05:27:08\",\"1970-01-01T05:27:08\",\"1970-01-01T07:48:46\",\"1970-01-01T07:48:46\",\"1970-01-01T08:22:06\",\"1970-01-01T08:22:06\",\"1970-01-01T08:22:06\",\"1970-01-01T10:43:44\",\"1970-01-01T10:43:44\",\"1970-01-01T11:17:04\",\"1970-01-01T11:17:04\",\"1970-01-01T11:17:04\",\"1970-01-01T13:38:42\",\"1970-01-01T13:38:42\",\"1970-01-01T14:12:02\",\"1970-01-01T14:12:02\",\"1970-01-01T14:12:02\",\"1970-01-01T16:33:40\",\"1970-01-01T16:33:40\",\"1970-01-01T17:07:00\",\"1970-01-01T17:07:00\",\"1970-01-01T17:07:00\",\"1970-01-01T19:28:38\",\"1970-01-01T19:28:38\",\"1970-01-01T20:01:58\",\"1970-01-01T20:01:58\",\"1970-01-01T20:01:58\"],\"y\":[\"Trench\",\"Trench\",\"Trench\",\"Trench\",null,\"Trench\",\"Trench\",\"Trench\",\"Trench\",null,\"Trench\",\"Trench\",\"Trench\",\"Trench\",null,\"Trench\",\"Trench\",\"Trench\",\"Trench\",null,\"Trench\",\"Trench\",\"Trench\",\"Trench\",null,\"Trench\",\"Trench\",\"Trench\",\"Trench\",null,\"Trench\",\"Trench\",\"Trench\",\"Trench\",null,\"Cutter T\",\"Cutter T\",\"Cutter T\",\"Cutter T\",null,\"Cutter T\",\"Cutter T\",\"Cutter T\",\"Cutter T\",null,\"Cutter T\",\"Cutter T\",\"Cutter T\",\"Cutter T\",null,\"Cutter T\",\"Cutter T\",\"Cutter T\",\"Cutter T\",null,\"Cutter T\",\"Cutter T\",\"Cutter T\",\"Cutter T\",null,\"Cutter T\",\"Cutter T\",\"Cutter T\",\"Cutter T\",null,\"Cutter T\",\"Cutter T\",\"Cutter T\",\"Cutter T\",null],\"type\":\"scatter\"}],                        {\"hovermode\":\"closest\",\"legend\":{\"orientation\":\"h\",\"x\":0,\"y\":-0.2},\"template\":{\"data\":{\"barpolar\":[{\"marker\":{\"line\":{\"color\":\"#E5ECF6\",\"width\":0.5},\"pattern\":{\"fillmode\":\"overlay\",\"size\":10,\"solidity\":0.2}},\"type\":\"barpolar\"}],\"bar\":[{\"error_x\":{\"color\":\"#2a3f5f\"},\"error_y\":{\"color\":\"#2a3f5f\"},\"marker\":{\"line\":{\"color\":\"#E5ECF6\",\"width\":0.5},\"pattern\":{\"fillmode\":\"overlay\",\"size\":10,\"solidity\":0.2}},\"type\":\"bar\"}],\"carpet\":[{\"aaxis\":{\"endlinecolor\":\"#2a3f5f\",\"gridcolor\":\"white\",\"linecolor\":\"white\",\"minorgridcolor\":\"white\",\"startlinecolor\":\"#2a3f5f\"},\"baxis\":{\"endlinecolor\":\"#2a3f5f\",\"gridcolor\":\"white\",\"linecolor\":\"white\",\"minorgridcolor\":\"white\",\"startlinecolor\":\"#2a3f5f\"},\"type\":\"carpet\"}],\"choropleth\":[{\"colorbar\":{\"outlinewidth\":0,\"ticks\":\"\"},\"type\":\"choropleth\"}],\"contourcarpet\":[{\"colorbar\":{\"outlinewidth\":0,\"ticks\":\"\"},\"type\":\"contourcarpet\"}],\"contour\":[{\"colorbar\":{\"outlinewidth\":0,\"ticks\":\"\"},\"colorscale\":[[0.0,\"#0d0887\"],[0.1111111111111111,\"#46039f\"],[0.2222222222222222,\"#7201a8\"],[0.3333333333333333,\"#9c179e\"],[0.4444444444444444,\"#bd3786\"],[0.5555555555555556,\"#d8576b\"],[0.6666666666666666,\"#ed7953\"],[0.7777777777777778,\"#fb9f3a\"],[0.8888888888888888,\"#fdca26\"],[1.0,\"#f0f921\"]],\"type\":\"contour\"}],\"heatmapgl\":[{\"colorbar\":{\"outlinewidth\":0,\"ticks\":\"\"},\"colorscale\":[[0.0,\"#0d0887\"],[0.1111111111111111,\"#46039f\"],[0.2222222222222222,\"#7201a8\"],[0.3333333333333333,\"#9c179e\"],[0.4444444444444444,\"#bd3786\"],[0.5555555555555556,\"#d8576b\"],[0.6666666666666666,\"#ed7953\"],[0.7777777777777778,\"#fb9f3a\"],[0.8888888888888888,\"#fdca26\"],[1.0,\"#f0f921\"]],\"type\":\"heatmapgl\"}],\"heatmap\":[{\"colorbar\":{\"outlinewidth\":0,\"ticks\":\"\"},\"colorscale\":[[0.0,\"#0d0887\"],[0.1111111111111111,\"#46039f\"],[0.2222222222222222,\"#7201a8\"],[0.3333333333333333,\"#9c179e\"],[0.4444444444444444,\"#bd3786\"],[0.5555555555555556,\"#d8576b\"],[0.6666666666666666,\"#ed7953\"],[0.7777777777777778,\"#fb9f3a\"],[0.8888888888888888,\"#fdca26\"],[1.0,\"#f0f921\"]],\"type\":\"heatmap\"}],\"histogram2dcontour\":[{\"colorbar\":{\"outlinewidth\":0,\"ticks\":\"\"},\"colorscale\":[[0.0,\"#0d0887\"],[0.1111111111111111,\"#46039f\"],[0.2222222222222222,\"#7201a8\"],[0.3333333333333333,\"#9c179e\"],[0.4444444444444444,\"#bd3786\"],[0.5555555555555556,\"#d8576b\"],[0.6666666666666666,\"#ed7953\"],[0.7777777777777778,\"#fb9f3a\"],[0.8888888888888888,\"#fdca26\"],[1.0,\"#f0f921\"]],\"type\":\"histogram2dcontour\"}],\"histogram2d\":[{\"colorbar\":{\"outlinewidth\":0,\"ticks\":\"\"},\"colorscale\":[[0.0,\"#0d0887\"],[0.1111111111111111,\"#46039f\"],[0.2222222222222222,\"#7201a8\"],[0.3333333333333333,\"#9c179e\"],[0.4444444444444444,\"#bd3786\"],[0.5555555555555556,\"#d8576b\"],[0.6666666666666666,\"#ed7953\"],[0.7777777777777778,\"#fb9f3a\"],[0.8888888888888888,\"#fdca26\"],[1.0,\"#f0f921\"]],\"type\":\"histogram2d\"}],\"histogram\":[{\"marker\":{\"pattern\":{\"fillmode\":\"overlay\",\"size\":10,\"solidity\":0.2}},\"type\":\"histogram\"}],\"mesh3d\":[{\"colorbar\":{\"outlinewidth\":0,\"ticks\":\"\"},\"type\":\"mesh3d\"}],\"parcoords\":[{\"line\":{\"colorbar\":{\"outlinewidth\":0,\"ticks\":\"\"}},\"type\":\"parcoords\"}],\"pie\":[{\"automargin\":true,\"type\":\"pie\"}],\"scatter3d\":[{\"line\":{\"colorbar\":{\"outlinewidth\":0,\"ticks\":\"\"}},\"marker\":{\"colorbar\":{\"outlinewidth\":0,\"ticks\":\"\"}},\"type\":\"scatter3d\"}],\"scattercarpet\":[{\"marker\":{\"colorbar\":{\"outlinewidth\":0,\"ticks\":\"\"}},\"type\":\"scattercarpet\"}],\"scattergeo\":[{\"marker\":{\"colorbar\":{\"outlinewidth\":0,\"ticks\":\"\"}},\"type\":\"scattergeo\"}],\"scattergl\":[{\"marker\":{\"colorbar\":{\"outlinewidth\":0,\"ticks\":\"\"}},\"type\":\"scattergl\"}],\"scattermapbox\":[{\"marker\":{\"colorbar\":{\"outlinewidth\":0,\"ticks\":\"\"}},\"type\":\"scattermapbox\"}],\"scatterpolargl\":[{\"marker\":{\"colorbar\":{\"outlinewidth\":0,\"ticks\":\"\"}},\"type\":\"scatterpolargl\"}],\"scatterpolar\":[{\"marker\":{\"colorbar\":{\"outlinewidth\":0,\"ticks\":\"\"}},\"type\":\"scatterpolar\"}],\"scatter\":[{\"fillpattern\":{\"fillmode\":\"overlay\",\"size\":10,\"solidity\":0.2},\"type\":\"scatter\"}],\"scatterternary\":[{\"marker\":{\"colorbar\":{\"outlinewidth\":0,\"ticks\":\"\"}},\"type\":\"scatterternary\"}],\"surface\":[{\"colorbar\":{\"outlinewidth\":0,\"ticks\":\"\"},\"colorscale\":[[0.0,\"#0d0887\"],[0.1111111111111111,\"#46039f\"],[0.2222222222222222,\"#7201a8\"],[0.3333333333333333,\"#9c179e\"],[0.4444444444444444,\"#bd3786\"],[0.5555555555555556,\"#d8576b\"],[0.6666666666666666,\"#ed7953\"],[0.7777777777777778,\"#fb9f3a\"],[0.8888888888888888,\"#fdca26\"],[1.0,\"#f0f921\"]],\"type\":\"surface\"}],\"table\":[{\"cells\":{\"fill\":{\"color\":\"#EBF0F8\"},\"line\":{\"color\":\"white\"}},\"header\":{\"fill\":{\"color\":\"#C8D4E3\"},\"line\":{\"color\":\"white\"}},\"type\":\"table\"}]},\"layout\":{\"annotationdefaults\":{\"arrowcolor\":\"#2a3f5f\",\"arrowhead\":0,\"arrowwidth\":1},\"autotypenumbers\":\"strict\",\"coloraxis\":{\"colorbar\":{\"outlinewidth\":0,\"ticks\":\"\"}},\"colorscale\":{\"diverging\":[[0,\"#8e0152\"],[0.1,\"#c51b7d\"],[0.2,\"#de77ae\"],[0.3,\"#f1b6da\"],[0.4,\"#fde0ef\"],[0.5,\"#f7f7f7\"],[0.6,\"#e6f5d0\"],[0.7,\"#b8e186\"],[0.8,\"#7fbc41\"],[0.9,\"#4d9221\"],[1,\"#276419\"]],\"sequential\":[[0.0,\"#0d0887\"],[0.1111111111111111,\"#46039f\"],[0.2222222222222222,\"#7201a8\"],[0.3333333333333333,\"#9c179e\"],[0.4444444444444444,\"#bd3786\"],[0.5555555555555556,\"#d8576b\"],[0.6666666666666666,\"#ed7953\"],[0.7777777777777778,\"#fb9f3a\"],[0.8888888888888888,\"#fdca26\"],[1.0,\"#f0f921\"]],\"sequentialminus\":[[0.0,\"#0d0887\"],[0.1111111111111111,\"#46039f\"],[0.2222222222222222,\"#7201a8\"],[0.3333333333333333,\"#9c179e\"],[0.4444444444444444,\"#bd3786\"],[0.5555555555555556,\"#d8576b\"],[0.6666666666666666,\"#ed7953\"],[0.7777777777777778,\"#fb9f3a\"],[0.8888888888888888,\"#fdca26\"],[1.0,\"#f0f921\"]]},\"colorway\":[\"#636efa\",\"#EF553B\",\"#00cc96\",\"#ab63fa\",\"#FFA15A\",\"#19d3f3\",\"#FF6692\",\"#B6E880\",\"#FF97FF\",\"#FECB52\"],\"font\":{\"color\":\"#2a3f5f\"},\"geo\":{\"bgcolor\":\"white\",\"lakecolor\":\"white\",\"landcolor\":\"#E5ECF6\",\"showlakes\":true,\"showland\":true,\"subunitcolor\":\"white\"},\"hoverlabel\":{\"align\":\"left\"},\"hovermode\":\"closest\",\"mapbox\":{\"style\":\"light\"},\"paper_bgcolor\":\"white\",\"plot_bgcolor\":\"#E5ECF6\",\"polar\":{\"angularaxis\":{\"gridcolor\":\"white\",\"linecolor\":\"white\",\"ticks\":\"\"},\"bgcolor\":\"#E5ECF6\",\"radialaxis\":{\"gridcolor\":\"white\",\"linecolor\":\"white\",\"ticks\":\"\"}},\"scene\":{\"xaxis\":{\"backgroundcolor\":\"#E5ECF6\",\"gridcolor\":\"white\",\"gridwidth\":2,\"linecolor\":\"white\",\"showbackground\":true,\"ticks\":\"\",\"zerolinecolor\":\"white\"},\"yaxis\":{\"backgroundcolor\":\"#E5ECF6\",\"gridcolor\":\"white\",\"gridwidth\":2,\"linecolor\":\"white\",\"showbackground\":true,\"ticks\":\"\",\"zerolinecolor\":\"white\"},\"zaxis\":{\"backgroundcolor\":\"#E5ECF6\",\"gridcolor\":\"white\",\"gridwidth\":2,\"linecolor\":\"white\",\"showbackground\":true,\"ticks\":\"\",\"zerolinecolor\":\"white\"}},\"shapedefaults\":{\"line\":{\"color\":\"#2a3f5f\"}},\"ternary\":{\"aaxis\":{\"gridcolor\":\"white\",\"linecolor\":\"white\",\"ticks\":\"\"},\"baxis\":{\"gridcolor\":\"white\",\"linecolor\":\"white\",\"ticks\":\"\"},\"bgcolor\":\"#E5ECF6\",\"caxis\":{\"gridcolor\":\"white\",\"linecolor\":\"white\",\"ticks\":\"\"}},\"title\":{\"x\":0.05},\"xaxis\":{\"automargin\":true,\"gridcolor\":\"white\",\"linecolor\":\"white\",\"ticks\":\"\",\"title\":{\"standoff\":15},\"zerolinecolor\":\"white\",\"zerolinewidth\":2},\"yaxis\":{\"automargin\":true,\"gridcolor\":\"white\",\"linecolor\":\"white\",\"ticks\":\"\",\"title\":{\"standoff\":15},\"zerolinecolor\":\"white\",\"zerolinewidth\":2}}},\"title\":{\"text\":\"GANTT Chart\"},\"xaxis\":{\"range\":[\"1970-01-01T00:35:30\",\"1970-01-01T21:54:38\"],\"title\":{\"font\":{\"color\":\"#7f7f7f\",\"family\":\"Courier New, monospace\",\"size\":18},\"text\":\"Time\"}},\"yaxis\":{\"title\":{\"font\":{\"color\":\"#7f7f7f\",\"family\":\"Courier New, monospace\",\"size\":18},\"text\":\"Activities\"}}},                        {\"responsive\": true}                    ).then(function(){\n",
       "                            \n",
       "var gd = document.getElementById('b887f49a-0c58-41eb-a004-614f455d1b65');\n",
       "var x = new MutationObserver(function (mutations, observer) {{\n",
       "        var display = window.getComputedStyle(gd).display;\n",
       "        if (!display || display === 'none') {{\n",
       "            console.log([gd, 'removed!']);\n",
       "            Plotly.purge(gd);\n",
       "            observer.disconnect();\n",
       "        }}\n",
       "}});\n",
       "\n",
       "// Listen for the removal of the full notebook cells\n",
       "var notebookContainer = gd.closest('#notebook-container');\n",
       "if (notebookContainer) {{\n",
       "    x.observe(notebookContainer, {childList: true});\n",
       "}}\n",
       "\n",
       "// Listen for the clearing of the current output cell\n",
       "var outputEl = gd.closest('.output');\n",
       "if (outputEl) {{\n",
       "    x.observe(outputEl, {childList: true});\n",
       "}}\n",
       "\n",
       "                        })                };                });            </script>        </div>"
      ]
     },
     "metadata": {},
     "output_type": "display_data"
    }
   ],
   "source": [
    "fig = get_gantt_chart([from_site, to_site, cutter], id_map=activities)"
   ]
  },
  {
   "cell_type": "markdown",
   "id": "9d68aee1",
   "metadata": {},
   "source": [
    "Plot only activities whose namespace (first letters) matches load*"
   ]
  },
  {
   "cell_type": "code",
   "execution_count": 8,
   "id": "6141ac61",
   "metadata": {},
   "outputs": [
    {
     "data": {
      "text/html": [
       "        <script type=\"text/javascript\">\n",
       "        window.PlotlyConfig = {MathJaxConfig: 'local'};\n",
       "        if (window.MathJax && window.MathJax.Hub && window.MathJax.Hub.Config) {window.MathJax.Hub.Config({SVG: {font: \"STIX-Web\"}});}\n",
       "        if (typeof require !== 'undefined') {\n",
       "        require.undef(\"plotly\");\n",
       "        requirejs.config({\n",
       "            paths: {\n",
       "                'plotly': ['https://cdn.plot.ly/plotly-2.18.2.min']\n",
       "            }\n",
       "        });\n",
       "        require(['plotly'], function(Plotly) {\n",
       "            window._Plotly = Plotly;\n",
       "        });\n",
       "        }\n",
       "        </script>\n",
       "        "
      ]
     },
     "metadata": {},
     "output_type": "display_data"
    },
    {
     "data": {
      "application/vnd.plotly.v1+json": {
       "config": {
        "linkText": "Export to plot.ly",
        "plotlyServerURL": "https://plot.ly",
        "showLink": false
       },
       "data": [
        {
         "connectgaps": false,
         "hoverinfo": "y+name",
         "line": {
          "color": "rgb(1,21,184)",
          "width": 10
         },
         "mode": "lines",
         "name": "loading:Carrier A",
         "type": "scatter",
         "x": [
          "1970-01-01T01:58:50",
          "1970-01-01T01:58:50",
          "1970-01-01T02:32:10",
          "1970-01-01T02:32:10",
          "1970-01-01T02:32:10",
          "1970-01-01T04:53:48",
          "1970-01-01T04:53:48",
          "1970-01-01T05:27:08",
          "1970-01-01T05:27:08",
          "1970-01-01T05:27:08",
          "1970-01-01T07:48:46",
          "1970-01-01T07:48:46",
          "1970-01-01T08:22:06",
          "1970-01-01T08:22:06",
          "1970-01-01T08:22:06",
          "1970-01-01T10:43:44",
          "1970-01-01T10:43:44",
          "1970-01-01T11:17:04",
          "1970-01-01T11:17:04",
          "1970-01-01T11:17:04",
          "1970-01-01T13:38:42",
          "1970-01-01T13:38:42",
          "1970-01-01T14:12:02",
          "1970-01-01T14:12:02",
          "1970-01-01T14:12:02",
          "1970-01-01T16:33:40",
          "1970-01-01T16:33:40",
          "1970-01-01T17:07:00",
          "1970-01-01T17:07:00",
          "1970-01-01T17:07:00",
          "1970-01-01T19:28:38",
          "1970-01-01T19:28:38",
          "1970-01-01T20:01:58",
          "1970-01-01T20:01:58",
          "1970-01-01T20:01:58"
         ],
         "y": [
          "loading:Carrier A",
          "loading:Carrier A",
          "loading:Carrier A",
          "loading:Carrier A",
          null,
          "loading:Carrier A",
          "loading:Carrier A",
          "loading:Carrier A",
          "loading:Carrier A",
          null,
          "loading:Carrier A",
          "loading:Carrier A",
          "loading:Carrier A",
          "loading:Carrier A",
          null,
          "loading:Carrier A",
          "loading:Carrier A",
          "loading:Carrier A",
          "loading:Carrier A",
          null,
          "loading:Carrier A",
          "loading:Carrier A",
          "loading:Carrier A",
          "loading:Carrier A",
          null,
          "loading:Carrier A",
          "loading:Carrier A",
          "loading:Carrier A",
          "loading:Carrier A",
          null,
          "loading:Carrier A",
          "loading:Carrier A",
          "loading:Carrier A",
          "loading:Carrier A",
          null
         ]
        },
        {
         "connectgaps": false,
         "hoverinfo": "y+name",
         "line": {
          "color": "rgb(86,106,13)",
          "width": 10
         },
         "mode": "lines",
         "name": "loading:Carrier B",
         "type": "scatter",
         "x": [
          "1970-01-01T01:17:10",
          "1970-01-01T01:17:10",
          "1970-01-01T01:58:50",
          "1970-01-01T01:58:50",
          "1970-01-01T01:58:50",
          "1970-01-01T04:12:08",
          "1970-01-01T04:12:08",
          "1970-01-01T04:53:48",
          "1970-01-01T04:53:48",
          "1970-01-01T04:53:48",
          "1970-01-01T07:07:06",
          "1970-01-01T07:07:06",
          "1970-01-01T07:48:46",
          "1970-01-01T07:48:46",
          "1970-01-01T07:48:46",
          "1970-01-01T10:02:04",
          "1970-01-01T10:02:04",
          "1970-01-01T10:43:44",
          "1970-01-01T10:43:44",
          "1970-01-01T10:43:44",
          "1970-01-01T12:57:02",
          "1970-01-01T12:57:02",
          "1970-01-01T13:38:42",
          "1970-01-01T13:38:42",
          "1970-01-01T13:38:42",
          "1970-01-01T15:52:00",
          "1970-01-01T15:52:00",
          "1970-01-01T16:33:40",
          "1970-01-01T16:33:40",
          "1970-01-01T16:33:40",
          "1970-01-01T18:46:58",
          "1970-01-01T18:46:58",
          "1970-01-01T19:28:38",
          "1970-01-01T19:28:38",
          "1970-01-01T19:28:38"
         ],
         "y": [
          "loading:Carrier B",
          "loading:Carrier B",
          "loading:Carrier B",
          "loading:Carrier B",
          null,
          "loading:Carrier B",
          "loading:Carrier B",
          "loading:Carrier B",
          "loading:Carrier B",
          null,
          "loading:Carrier B",
          "loading:Carrier B",
          "loading:Carrier B",
          "loading:Carrier B",
          null,
          "loading:Carrier B",
          "loading:Carrier B",
          "loading:Carrier B",
          "loading:Carrier B",
          null,
          "loading:Carrier B",
          "loading:Carrier B",
          "loading:Carrier B",
          "loading:Carrier B",
          null,
          "loading:Carrier B",
          "loading:Carrier B",
          "loading:Carrier B",
          "loading:Carrier B",
          null,
          "loading:Carrier B",
          "loading:Carrier B",
          "loading:Carrier B",
          "loading:Carrier B",
          null
         ]
        },
        {
         "connectgaps": false,
         "hoverinfo": "y+name",
         "line": {
          "color": "rgb(171,191,98)",
          "width": 10
         },
         "mode": "lines",
         "name": "loading:Carrier C",
         "type": "scatter",
         "x": [
          "1970-01-01T00:35:30",
          "1970-01-01T00:35:30",
          "1970-01-01T01:17:10",
          "1970-01-01T01:17:10",
          "1970-01-01T01:17:10",
          "1970-01-01T03:03:40",
          "1970-01-01T03:03:40",
          "1970-01-01T03:45:20",
          "1970-01-01T03:45:20",
          "1970-01-01T03:45:20",
          "1970-01-01T05:31:50",
          "1970-01-01T05:31:50",
          "1970-01-01T06:13:30",
          "1970-01-01T06:13:30",
          "1970-01-01T06:13:30",
          "1970-01-01T08:22:06",
          "1970-01-01T08:22:06",
          "1970-01-01T09:03:46",
          "1970-01-01T09:03:46",
          "1970-01-01T09:03:46",
          "1970-01-01T11:17:04",
          "1970-01-01T11:17:04",
          "1970-01-01T11:58:44",
          "1970-01-01T11:58:44",
          "1970-01-01T11:58:44",
          "1970-01-01T14:12:02",
          "1970-01-01T14:12:02",
          "1970-01-01T14:53:42",
          "1970-01-01T14:53:42",
          "1970-01-01T14:53:42",
          "1970-01-01T17:07:00",
          "1970-01-01T17:07:00",
          "1970-01-01T17:48:40",
          "1970-01-01T17:48:40",
          "1970-01-01T17:48:40",
          "1970-01-01T20:01:58",
          "1970-01-01T20:01:58",
          "1970-01-01T20:43:38",
          "1970-01-01T20:43:38",
          "1970-01-01T20:43:38"
         ],
         "y": [
          "loading:Carrier C",
          "loading:Carrier C",
          "loading:Carrier C",
          "loading:Carrier C",
          null,
          "loading:Carrier C",
          "loading:Carrier C",
          "loading:Carrier C",
          "loading:Carrier C",
          null,
          "loading:Carrier C",
          "loading:Carrier C",
          "loading:Carrier C",
          "loading:Carrier C",
          null,
          "loading:Carrier C",
          "loading:Carrier C",
          "loading:Carrier C",
          "loading:Carrier C",
          null,
          "loading:Carrier C",
          "loading:Carrier C",
          "loading:Carrier C",
          "loading:Carrier C",
          null,
          "loading:Carrier C",
          "loading:Carrier C",
          "loading:Carrier C",
          "loading:Carrier C",
          null,
          "loading:Carrier C",
          "loading:Carrier C",
          "loading:Carrier C",
          "loading:Carrier C",
          null,
          "loading:Carrier C",
          "loading:Carrier C",
          "loading:Carrier C",
          "loading:Carrier C",
          null
         ]
        }
       ],
       "layout": {
        "hovermode": "closest",
        "legend": {
         "orientation": "h",
         "x": 0,
         "y": -0.2
        },
        "template": {
         "data": {
          "bar": [
           {
            "error_x": {
             "color": "#2a3f5f"
            },
            "error_y": {
             "color": "#2a3f5f"
            },
            "marker": {
             "line": {
              "color": "#E5ECF6",
              "width": 0.5
             },
             "pattern": {
              "fillmode": "overlay",
              "size": 10,
              "solidity": 0.2
             }
            },
            "type": "bar"
           }
          ],
          "barpolar": [
           {
            "marker": {
             "line": {
              "color": "#E5ECF6",
              "width": 0.5
             },
             "pattern": {
              "fillmode": "overlay",
              "size": 10,
              "solidity": 0.2
             }
            },
            "type": "barpolar"
           }
          ],
          "carpet": [
           {
            "aaxis": {
             "endlinecolor": "#2a3f5f",
             "gridcolor": "white",
             "linecolor": "white",
             "minorgridcolor": "white",
             "startlinecolor": "#2a3f5f"
            },
            "baxis": {
             "endlinecolor": "#2a3f5f",
             "gridcolor": "white",
             "linecolor": "white",
             "minorgridcolor": "white",
             "startlinecolor": "#2a3f5f"
            },
            "type": "carpet"
           }
          ],
          "choropleth": [
           {
            "colorbar": {
             "outlinewidth": 0,
             "ticks": ""
            },
            "type": "choropleth"
           }
          ],
          "contour": [
           {
            "colorbar": {
             "outlinewidth": 0,
             "ticks": ""
            },
            "colorscale": [
             [
              0,
              "#0d0887"
             ],
             [
              0.1111111111111111,
              "#46039f"
             ],
             [
              0.2222222222222222,
              "#7201a8"
             ],
             [
              0.3333333333333333,
              "#9c179e"
             ],
             [
              0.4444444444444444,
              "#bd3786"
             ],
             [
              0.5555555555555556,
              "#d8576b"
             ],
             [
              0.6666666666666666,
              "#ed7953"
             ],
             [
              0.7777777777777778,
              "#fb9f3a"
             ],
             [
              0.8888888888888888,
              "#fdca26"
             ],
             [
              1,
              "#f0f921"
             ]
            ],
            "type": "contour"
           }
          ],
          "contourcarpet": [
           {
            "colorbar": {
             "outlinewidth": 0,
             "ticks": ""
            },
            "type": "contourcarpet"
           }
          ],
          "heatmap": [
           {
            "colorbar": {
             "outlinewidth": 0,
             "ticks": ""
            },
            "colorscale": [
             [
              0,
              "#0d0887"
             ],
             [
              0.1111111111111111,
              "#46039f"
             ],
             [
              0.2222222222222222,
              "#7201a8"
             ],
             [
              0.3333333333333333,
              "#9c179e"
             ],
             [
              0.4444444444444444,
              "#bd3786"
             ],
             [
              0.5555555555555556,
              "#d8576b"
             ],
             [
              0.6666666666666666,
              "#ed7953"
             ],
             [
              0.7777777777777778,
              "#fb9f3a"
             ],
             [
              0.8888888888888888,
              "#fdca26"
             ],
             [
              1,
              "#f0f921"
             ]
            ],
            "type": "heatmap"
           }
          ],
          "heatmapgl": [
           {
            "colorbar": {
             "outlinewidth": 0,
             "ticks": ""
            },
            "colorscale": [
             [
              0,
              "#0d0887"
             ],
             [
              0.1111111111111111,
              "#46039f"
             ],
             [
              0.2222222222222222,
              "#7201a8"
             ],
             [
              0.3333333333333333,
              "#9c179e"
             ],
             [
              0.4444444444444444,
              "#bd3786"
             ],
             [
              0.5555555555555556,
              "#d8576b"
             ],
             [
              0.6666666666666666,
              "#ed7953"
             ],
             [
              0.7777777777777778,
              "#fb9f3a"
             ],
             [
              0.8888888888888888,
              "#fdca26"
             ],
             [
              1,
              "#f0f921"
             ]
            ],
            "type": "heatmapgl"
           }
          ],
          "histogram": [
           {
            "marker": {
             "pattern": {
              "fillmode": "overlay",
              "size": 10,
              "solidity": 0.2
             }
            },
            "type": "histogram"
           }
          ],
          "histogram2d": [
           {
            "colorbar": {
             "outlinewidth": 0,
             "ticks": ""
            },
            "colorscale": [
             [
              0,
              "#0d0887"
             ],
             [
              0.1111111111111111,
              "#46039f"
             ],
             [
              0.2222222222222222,
              "#7201a8"
             ],
             [
              0.3333333333333333,
              "#9c179e"
             ],
             [
              0.4444444444444444,
              "#bd3786"
             ],
             [
              0.5555555555555556,
              "#d8576b"
             ],
             [
              0.6666666666666666,
              "#ed7953"
             ],
             [
              0.7777777777777778,
              "#fb9f3a"
             ],
             [
              0.8888888888888888,
              "#fdca26"
             ],
             [
              1,
              "#f0f921"
             ]
            ],
            "type": "histogram2d"
           }
          ],
          "histogram2dcontour": [
           {
            "colorbar": {
             "outlinewidth": 0,
             "ticks": ""
            },
            "colorscale": [
             [
              0,
              "#0d0887"
             ],
             [
              0.1111111111111111,
              "#46039f"
             ],
             [
              0.2222222222222222,
              "#7201a8"
             ],
             [
              0.3333333333333333,
              "#9c179e"
             ],
             [
              0.4444444444444444,
              "#bd3786"
             ],
             [
              0.5555555555555556,
              "#d8576b"
             ],
             [
              0.6666666666666666,
              "#ed7953"
             ],
             [
              0.7777777777777778,
              "#fb9f3a"
             ],
             [
              0.8888888888888888,
              "#fdca26"
             ],
             [
              1,
              "#f0f921"
             ]
            ],
            "type": "histogram2dcontour"
           }
          ],
          "mesh3d": [
           {
            "colorbar": {
             "outlinewidth": 0,
             "ticks": ""
            },
            "type": "mesh3d"
           }
          ],
          "parcoords": [
           {
            "line": {
             "colorbar": {
              "outlinewidth": 0,
              "ticks": ""
             }
            },
            "type": "parcoords"
           }
          ],
          "pie": [
           {
            "automargin": true,
            "type": "pie"
           }
          ],
          "scatter": [
           {
            "fillpattern": {
             "fillmode": "overlay",
             "size": 10,
             "solidity": 0.2
            },
            "type": "scatter"
           }
          ],
          "scatter3d": [
           {
            "line": {
             "colorbar": {
              "outlinewidth": 0,
              "ticks": ""
             }
            },
            "marker": {
             "colorbar": {
              "outlinewidth": 0,
              "ticks": ""
             }
            },
            "type": "scatter3d"
           }
          ],
          "scattercarpet": [
           {
            "marker": {
             "colorbar": {
              "outlinewidth": 0,
              "ticks": ""
             }
            },
            "type": "scattercarpet"
           }
          ],
          "scattergeo": [
           {
            "marker": {
             "colorbar": {
              "outlinewidth": 0,
              "ticks": ""
             }
            },
            "type": "scattergeo"
           }
          ],
          "scattergl": [
           {
            "marker": {
             "colorbar": {
              "outlinewidth": 0,
              "ticks": ""
             }
            },
            "type": "scattergl"
           }
          ],
          "scattermapbox": [
           {
            "marker": {
             "colorbar": {
              "outlinewidth": 0,
              "ticks": ""
             }
            },
            "type": "scattermapbox"
           }
          ],
          "scatterpolar": [
           {
            "marker": {
             "colorbar": {
              "outlinewidth": 0,
              "ticks": ""
             }
            },
            "type": "scatterpolar"
           }
          ],
          "scatterpolargl": [
           {
            "marker": {
             "colorbar": {
              "outlinewidth": 0,
              "ticks": ""
             }
            },
            "type": "scatterpolargl"
           }
          ],
          "scatterternary": [
           {
            "marker": {
             "colorbar": {
              "outlinewidth": 0,
              "ticks": ""
             }
            },
            "type": "scatterternary"
           }
          ],
          "surface": [
           {
            "colorbar": {
             "outlinewidth": 0,
             "ticks": ""
            },
            "colorscale": [
             [
              0,
              "#0d0887"
             ],
             [
              0.1111111111111111,
              "#46039f"
             ],
             [
              0.2222222222222222,
              "#7201a8"
             ],
             [
              0.3333333333333333,
              "#9c179e"
             ],
             [
              0.4444444444444444,
              "#bd3786"
             ],
             [
              0.5555555555555556,
              "#d8576b"
             ],
             [
              0.6666666666666666,
              "#ed7953"
             ],
             [
              0.7777777777777778,
              "#fb9f3a"
             ],
             [
              0.8888888888888888,
              "#fdca26"
             ],
             [
              1,
              "#f0f921"
             ]
            ],
            "type": "surface"
           }
          ],
          "table": [
           {
            "cells": {
             "fill": {
              "color": "#EBF0F8"
             },
             "line": {
              "color": "white"
             }
            },
            "header": {
             "fill": {
              "color": "#C8D4E3"
             },
             "line": {
              "color": "white"
             }
            },
            "type": "table"
           }
          ]
         },
         "layout": {
          "annotationdefaults": {
           "arrowcolor": "#2a3f5f",
           "arrowhead": 0,
           "arrowwidth": 1
          },
          "autotypenumbers": "strict",
          "coloraxis": {
           "colorbar": {
            "outlinewidth": 0,
            "ticks": ""
           }
          },
          "colorscale": {
           "diverging": [
            [
             0,
             "#8e0152"
            ],
            [
             0.1,
             "#c51b7d"
            ],
            [
             0.2,
             "#de77ae"
            ],
            [
             0.3,
             "#f1b6da"
            ],
            [
             0.4,
             "#fde0ef"
            ],
            [
             0.5,
             "#f7f7f7"
            ],
            [
             0.6,
             "#e6f5d0"
            ],
            [
             0.7,
             "#b8e186"
            ],
            [
             0.8,
             "#7fbc41"
            ],
            [
             0.9,
             "#4d9221"
            ],
            [
             1,
             "#276419"
            ]
           ],
           "sequential": [
            [
             0,
             "#0d0887"
            ],
            [
             0.1111111111111111,
             "#46039f"
            ],
            [
             0.2222222222222222,
             "#7201a8"
            ],
            [
             0.3333333333333333,
             "#9c179e"
            ],
            [
             0.4444444444444444,
             "#bd3786"
            ],
            [
             0.5555555555555556,
             "#d8576b"
            ],
            [
             0.6666666666666666,
             "#ed7953"
            ],
            [
             0.7777777777777778,
             "#fb9f3a"
            ],
            [
             0.8888888888888888,
             "#fdca26"
            ],
            [
             1,
             "#f0f921"
            ]
           ],
           "sequentialminus": [
            [
             0,
             "#0d0887"
            ],
            [
             0.1111111111111111,
             "#46039f"
            ],
            [
             0.2222222222222222,
             "#7201a8"
            ],
            [
             0.3333333333333333,
             "#9c179e"
            ],
            [
             0.4444444444444444,
             "#bd3786"
            ],
            [
             0.5555555555555556,
             "#d8576b"
            ],
            [
             0.6666666666666666,
             "#ed7953"
            ],
            [
             0.7777777777777778,
             "#fb9f3a"
            ],
            [
             0.8888888888888888,
             "#fdca26"
            ],
            [
             1,
             "#f0f921"
            ]
           ]
          },
          "colorway": [
           "#636efa",
           "#EF553B",
           "#00cc96",
           "#ab63fa",
           "#FFA15A",
           "#19d3f3",
           "#FF6692",
           "#B6E880",
           "#FF97FF",
           "#FECB52"
          ],
          "font": {
           "color": "#2a3f5f"
          },
          "geo": {
           "bgcolor": "white",
           "lakecolor": "white",
           "landcolor": "#E5ECF6",
           "showlakes": true,
           "showland": true,
           "subunitcolor": "white"
          },
          "hoverlabel": {
           "align": "left"
          },
          "hovermode": "closest",
          "mapbox": {
           "style": "light"
          },
          "paper_bgcolor": "white",
          "plot_bgcolor": "#E5ECF6",
          "polar": {
           "angularaxis": {
            "gridcolor": "white",
            "linecolor": "white",
            "ticks": ""
           },
           "bgcolor": "#E5ECF6",
           "radialaxis": {
            "gridcolor": "white",
            "linecolor": "white",
            "ticks": ""
           }
          },
          "scene": {
           "xaxis": {
            "backgroundcolor": "#E5ECF6",
            "gridcolor": "white",
            "gridwidth": 2,
            "linecolor": "white",
            "showbackground": true,
            "ticks": "",
            "zerolinecolor": "white"
           },
           "yaxis": {
            "backgroundcolor": "#E5ECF6",
            "gridcolor": "white",
            "gridwidth": 2,
            "linecolor": "white",
            "showbackground": true,
            "ticks": "",
            "zerolinecolor": "white"
           },
           "zaxis": {
            "backgroundcolor": "#E5ECF6",
            "gridcolor": "white",
            "gridwidth": 2,
            "linecolor": "white",
            "showbackground": true,
            "ticks": "",
            "zerolinecolor": "white"
           }
          },
          "shapedefaults": {
           "line": {
            "color": "#2a3f5f"
           }
          },
          "ternary": {
           "aaxis": {
            "gridcolor": "white",
            "linecolor": "white",
            "ticks": ""
           },
           "baxis": {
            "gridcolor": "white",
            "linecolor": "white",
            "ticks": ""
           },
           "bgcolor": "#E5ECF6",
           "caxis": {
            "gridcolor": "white",
            "linecolor": "white",
            "ticks": ""
           }
          },
          "title": {
           "x": 0.05
          },
          "xaxis": {
           "automargin": true,
           "gridcolor": "white",
           "linecolor": "white",
           "ticks": "",
           "title": {
            "standoff": 15
           },
           "zerolinecolor": "white",
           "zerolinewidth": 2
          },
          "yaxis": {
           "automargin": true,
           "gridcolor": "white",
           "linecolor": "white",
           "ticks": "",
           "title": {
            "standoff": 15
           },
           "zerolinecolor": "white",
           "zerolinewidth": 2
          }
         }
        },
        "title": {
         "text": "GANTT Chart"
        },
        "xaxis": {
         "range": [
          "1970-01-01T00:35:30",
          "1970-01-01T20:43:38"
         ],
         "title": {
          "font": {
           "color": "#7f7f7f",
           "family": "Courier New, monospace",
           "size": 18
          },
          "text": "Time"
         }
        },
        "yaxis": {
         "title": {
          "font": {
           "color": "#7f7f7f",
           "family": "Courier New, monospace",
           "size": 18
          },
          "text": "Activities"
         }
        }
       }
      },
      "text/html": [
       "<div>                            <div id=\"bbe7d85a-edee-42cc-b36e-afb117e6f725\" class=\"plotly-graph-div\" style=\"height:525px; width:100%;\"></div>            <script type=\"text/javascript\">                require([\"plotly\"], function(Plotly) {                    window.PLOTLYENV=window.PLOTLYENV || {};                                    if (document.getElementById(\"bbe7d85a-edee-42cc-b36e-afb117e6f725\")) {                    Plotly.newPlot(                        \"bbe7d85a-edee-42cc-b36e-afb117e6f725\",                        [{\"connectgaps\":false,\"hoverinfo\":\"y+name\",\"line\":{\"color\":\"rgb(1,21,184)\",\"width\":10},\"mode\":\"lines\",\"name\":\"loading:Carrier A\",\"x\":[\"1970-01-01T01:58:50\",\"1970-01-01T01:58:50\",\"1970-01-01T02:32:10\",\"1970-01-01T02:32:10\",\"1970-01-01T02:32:10\",\"1970-01-01T04:53:48\",\"1970-01-01T04:53:48\",\"1970-01-01T05:27:08\",\"1970-01-01T05:27:08\",\"1970-01-01T05:27:08\",\"1970-01-01T07:48:46\",\"1970-01-01T07:48:46\",\"1970-01-01T08:22:06\",\"1970-01-01T08:22:06\",\"1970-01-01T08:22:06\",\"1970-01-01T10:43:44\",\"1970-01-01T10:43:44\",\"1970-01-01T11:17:04\",\"1970-01-01T11:17:04\",\"1970-01-01T11:17:04\",\"1970-01-01T13:38:42\",\"1970-01-01T13:38:42\",\"1970-01-01T14:12:02\",\"1970-01-01T14:12:02\",\"1970-01-01T14:12:02\",\"1970-01-01T16:33:40\",\"1970-01-01T16:33:40\",\"1970-01-01T17:07:00\",\"1970-01-01T17:07:00\",\"1970-01-01T17:07:00\",\"1970-01-01T19:28:38\",\"1970-01-01T19:28:38\",\"1970-01-01T20:01:58\",\"1970-01-01T20:01:58\",\"1970-01-01T20:01:58\"],\"y\":[\"loading:Carrier A\",\"loading:Carrier A\",\"loading:Carrier A\",\"loading:Carrier A\",null,\"loading:Carrier A\",\"loading:Carrier A\",\"loading:Carrier A\",\"loading:Carrier A\",null,\"loading:Carrier A\",\"loading:Carrier A\",\"loading:Carrier A\",\"loading:Carrier A\",null,\"loading:Carrier A\",\"loading:Carrier A\",\"loading:Carrier A\",\"loading:Carrier A\",null,\"loading:Carrier A\",\"loading:Carrier A\",\"loading:Carrier A\",\"loading:Carrier A\",null,\"loading:Carrier A\",\"loading:Carrier A\",\"loading:Carrier A\",\"loading:Carrier A\",null,\"loading:Carrier A\",\"loading:Carrier A\",\"loading:Carrier A\",\"loading:Carrier A\",null],\"type\":\"scatter\"},{\"connectgaps\":false,\"hoverinfo\":\"y+name\",\"line\":{\"color\":\"rgb(86,106,13)\",\"width\":10},\"mode\":\"lines\",\"name\":\"loading:Carrier B\",\"x\":[\"1970-01-01T01:17:10\",\"1970-01-01T01:17:10\",\"1970-01-01T01:58:50\",\"1970-01-01T01:58:50\",\"1970-01-01T01:58:50\",\"1970-01-01T04:12:08\",\"1970-01-01T04:12:08\",\"1970-01-01T04:53:48\",\"1970-01-01T04:53:48\",\"1970-01-01T04:53:48\",\"1970-01-01T07:07:06\",\"1970-01-01T07:07:06\",\"1970-01-01T07:48:46\",\"1970-01-01T07:48:46\",\"1970-01-01T07:48:46\",\"1970-01-01T10:02:04\",\"1970-01-01T10:02:04\",\"1970-01-01T10:43:44\",\"1970-01-01T10:43:44\",\"1970-01-01T10:43:44\",\"1970-01-01T12:57:02\",\"1970-01-01T12:57:02\",\"1970-01-01T13:38:42\",\"1970-01-01T13:38:42\",\"1970-01-01T13:38:42\",\"1970-01-01T15:52:00\",\"1970-01-01T15:52:00\",\"1970-01-01T16:33:40\",\"1970-01-01T16:33:40\",\"1970-01-01T16:33:40\",\"1970-01-01T18:46:58\",\"1970-01-01T18:46:58\",\"1970-01-01T19:28:38\",\"1970-01-01T19:28:38\",\"1970-01-01T19:28:38\"],\"y\":[\"loading:Carrier B\",\"loading:Carrier B\",\"loading:Carrier B\",\"loading:Carrier B\",null,\"loading:Carrier B\",\"loading:Carrier B\",\"loading:Carrier B\",\"loading:Carrier B\",null,\"loading:Carrier B\",\"loading:Carrier B\",\"loading:Carrier B\",\"loading:Carrier B\",null,\"loading:Carrier B\",\"loading:Carrier B\",\"loading:Carrier B\",\"loading:Carrier B\",null,\"loading:Carrier B\",\"loading:Carrier B\",\"loading:Carrier B\",\"loading:Carrier B\",null,\"loading:Carrier B\",\"loading:Carrier B\",\"loading:Carrier B\",\"loading:Carrier B\",null,\"loading:Carrier B\",\"loading:Carrier B\",\"loading:Carrier B\",\"loading:Carrier B\",null],\"type\":\"scatter\"},{\"connectgaps\":false,\"hoverinfo\":\"y+name\",\"line\":{\"color\":\"rgb(171,191,98)\",\"width\":10},\"mode\":\"lines\",\"name\":\"loading:Carrier C\",\"x\":[\"1970-01-01T00:35:30\",\"1970-01-01T00:35:30\",\"1970-01-01T01:17:10\",\"1970-01-01T01:17:10\",\"1970-01-01T01:17:10\",\"1970-01-01T03:03:40\",\"1970-01-01T03:03:40\",\"1970-01-01T03:45:20\",\"1970-01-01T03:45:20\",\"1970-01-01T03:45:20\",\"1970-01-01T05:31:50\",\"1970-01-01T05:31:50\",\"1970-01-01T06:13:30\",\"1970-01-01T06:13:30\",\"1970-01-01T06:13:30\",\"1970-01-01T08:22:06\",\"1970-01-01T08:22:06\",\"1970-01-01T09:03:46\",\"1970-01-01T09:03:46\",\"1970-01-01T09:03:46\",\"1970-01-01T11:17:04\",\"1970-01-01T11:17:04\",\"1970-01-01T11:58:44\",\"1970-01-01T11:58:44\",\"1970-01-01T11:58:44\",\"1970-01-01T14:12:02\",\"1970-01-01T14:12:02\",\"1970-01-01T14:53:42\",\"1970-01-01T14:53:42\",\"1970-01-01T14:53:42\",\"1970-01-01T17:07:00\",\"1970-01-01T17:07:00\",\"1970-01-01T17:48:40\",\"1970-01-01T17:48:40\",\"1970-01-01T17:48:40\",\"1970-01-01T20:01:58\",\"1970-01-01T20:01:58\",\"1970-01-01T20:43:38\",\"1970-01-01T20:43:38\",\"1970-01-01T20:43:38\"],\"y\":[\"loading:Carrier C\",\"loading:Carrier C\",\"loading:Carrier C\",\"loading:Carrier C\",null,\"loading:Carrier C\",\"loading:Carrier C\",\"loading:Carrier C\",\"loading:Carrier C\",null,\"loading:Carrier C\",\"loading:Carrier C\",\"loading:Carrier C\",\"loading:Carrier C\",null,\"loading:Carrier C\",\"loading:Carrier C\",\"loading:Carrier C\",\"loading:Carrier C\",null,\"loading:Carrier C\",\"loading:Carrier C\",\"loading:Carrier C\",\"loading:Carrier C\",null,\"loading:Carrier C\",\"loading:Carrier C\",\"loading:Carrier C\",\"loading:Carrier C\",null,\"loading:Carrier C\",\"loading:Carrier C\",\"loading:Carrier C\",\"loading:Carrier C\",null,\"loading:Carrier C\",\"loading:Carrier C\",\"loading:Carrier C\",\"loading:Carrier C\",null],\"type\":\"scatter\"}],                        {\"hovermode\":\"closest\",\"legend\":{\"orientation\":\"h\",\"x\":0,\"y\":-0.2},\"template\":{\"data\":{\"barpolar\":[{\"marker\":{\"line\":{\"color\":\"#E5ECF6\",\"width\":0.5},\"pattern\":{\"fillmode\":\"overlay\",\"size\":10,\"solidity\":0.2}},\"type\":\"barpolar\"}],\"bar\":[{\"error_x\":{\"color\":\"#2a3f5f\"},\"error_y\":{\"color\":\"#2a3f5f\"},\"marker\":{\"line\":{\"color\":\"#E5ECF6\",\"width\":0.5},\"pattern\":{\"fillmode\":\"overlay\",\"size\":10,\"solidity\":0.2}},\"type\":\"bar\"}],\"carpet\":[{\"aaxis\":{\"endlinecolor\":\"#2a3f5f\",\"gridcolor\":\"white\",\"linecolor\":\"white\",\"minorgridcolor\":\"white\",\"startlinecolor\":\"#2a3f5f\"},\"baxis\":{\"endlinecolor\":\"#2a3f5f\",\"gridcolor\":\"white\",\"linecolor\":\"white\",\"minorgridcolor\":\"white\",\"startlinecolor\":\"#2a3f5f\"},\"type\":\"carpet\"}],\"choropleth\":[{\"colorbar\":{\"outlinewidth\":0,\"ticks\":\"\"},\"type\":\"choropleth\"}],\"contourcarpet\":[{\"colorbar\":{\"outlinewidth\":0,\"ticks\":\"\"},\"type\":\"contourcarpet\"}],\"contour\":[{\"colorbar\":{\"outlinewidth\":0,\"ticks\":\"\"},\"colorscale\":[[0.0,\"#0d0887\"],[0.1111111111111111,\"#46039f\"],[0.2222222222222222,\"#7201a8\"],[0.3333333333333333,\"#9c179e\"],[0.4444444444444444,\"#bd3786\"],[0.5555555555555556,\"#d8576b\"],[0.6666666666666666,\"#ed7953\"],[0.7777777777777778,\"#fb9f3a\"],[0.8888888888888888,\"#fdca26\"],[1.0,\"#f0f921\"]],\"type\":\"contour\"}],\"heatmapgl\":[{\"colorbar\":{\"outlinewidth\":0,\"ticks\":\"\"},\"colorscale\":[[0.0,\"#0d0887\"],[0.1111111111111111,\"#46039f\"],[0.2222222222222222,\"#7201a8\"],[0.3333333333333333,\"#9c179e\"],[0.4444444444444444,\"#bd3786\"],[0.5555555555555556,\"#d8576b\"],[0.6666666666666666,\"#ed7953\"],[0.7777777777777778,\"#fb9f3a\"],[0.8888888888888888,\"#fdca26\"],[1.0,\"#f0f921\"]],\"type\":\"heatmapgl\"}],\"heatmap\":[{\"colorbar\":{\"outlinewidth\":0,\"ticks\":\"\"},\"colorscale\":[[0.0,\"#0d0887\"],[0.1111111111111111,\"#46039f\"],[0.2222222222222222,\"#7201a8\"],[0.3333333333333333,\"#9c179e\"],[0.4444444444444444,\"#bd3786\"],[0.5555555555555556,\"#d8576b\"],[0.6666666666666666,\"#ed7953\"],[0.7777777777777778,\"#fb9f3a\"],[0.8888888888888888,\"#fdca26\"],[1.0,\"#f0f921\"]],\"type\":\"heatmap\"}],\"histogram2dcontour\":[{\"colorbar\":{\"outlinewidth\":0,\"ticks\":\"\"},\"colorscale\":[[0.0,\"#0d0887\"],[0.1111111111111111,\"#46039f\"],[0.2222222222222222,\"#7201a8\"],[0.3333333333333333,\"#9c179e\"],[0.4444444444444444,\"#bd3786\"],[0.5555555555555556,\"#d8576b\"],[0.6666666666666666,\"#ed7953\"],[0.7777777777777778,\"#fb9f3a\"],[0.8888888888888888,\"#fdca26\"],[1.0,\"#f0f921\"]],\"type\":\"histogram2dcontour\"}],\"histogram2d\":[{\"colorbar\":{\"outlinewidth\":0,\"ticks\":\"\"},\"colorscale\":[[0.0,\"#0d0887\"],[0.1111111111111111,\"#46039f\"],[0.2222222222222222,\"#7201a8\"],[0.3333333333333333,\"#9c179e\"],[0.4444444444444444,\"#bd3786\"],[0.5555555555555556,\"#d8576b\"],[0.6666666666666666,\"#ed7953\"],[0.7777777777777778,\"#fb9f3a\"],[0.8888888888888888,\"#fdca26\"],[1.0,\"#f0f921\"]],\"type\":\"histogram2d\"}],\"histogram\":[{\"marker\":{\"pattern\":{\"fillmode\":\"overlay\",\"size\":10,\"solidity\":0.2}},\"type\":\"histogram\"}],\"mesh3d\":[{\"colorbar\":{\"outlinewidth\":0,\"ticks\":\"\"},\"type\":\"mesh3d\"}],\"parcoords\":[{\"line\":{\"colorbar\":{\"outlinewidth\":0,\"ticks\":\"\"}},\"type\":\"parcoords\"}],\"pie\":[{\"automargin\":true,\"type\":\"pie\"}],\"scatter3d\":[{\"line\":{\"colorbar\":{\"outlinewidth\":0,\"ticks\":\"\"}},\"marker\":{\"colorbar\":{\"outlinewidth\":0,\"ticks\":\"\"}},\"type\":\"scatter3d\"}],\"scattercarpet\":[{\"marker\":{\"colorbar\":{\"outlinewidth\":0,\"ticks\":\"\"}},\"type\":\"scattercarpet\"}],\"scattergeo\":[{\"marker\":{\"colorbar\":{\"outlinewidth\":0,\"ticks\":\"\"}},\"type\":\"scattergeo\"}],\"scattergl\":[{\"marker\":{\"colorbar\":{\"outlinewidth\":0,\"ticks\":\"\"}},\"type\":\"scattergl\"}],\"scattermapbox\":[{\"marker\":{\"colorbar\":{\"outlinewidth\":0,\"ticks\":\"\"}},\"type\":\"scattermapbox\"}],\"scatterpolargl\":[{\"marker\":{\"colorbar\":{\"outlinewidth\":0,\"ticks\":\"\"}},\"type\":\"scatterpolargl\"}],\"scatterpolar\":[{\"marker\":{\"colorbar\":{\"outlinewidth\":0,\"ticks\":\"\"}},\"type\":\"scatterpolar\"}],\"scatter\":[{\"fillpattern\":{\"fillmode\":\"overlay\",\"size\":10,\"solidity\":0.2},\"type\":\"scatter\"}],\"scatterternary\":[{\"marker\":{\"colorbar\":{\"outlinewidth\":0,\"ticks\":\"\"}},\"type\":\"scatterternary\"}],\"surface\":[{\"colorbar\":{\"outlinewidth\":0,\"ticks\":\"\"},\"colorscale\":[[0.0,\"#0d0887\"],[0.1111111111111111,\"#46039f\"],[0.2222222222222222,\"#7201a8\"],[0.3333333333333333,\"#9c179e\"],[0.4444444444444444,\"#bd3786\"],[0.5555555555555556,\"#d8576b\"],[0.6666666666666666,\"#ed7953\"],[0.7777777777777778,\"#fb9f3a\"],[0.8888888888888888,\"#fdca26\"],[1.0,\"#f0f921\"]],\"type\":\"surface\"}],\"table\":[{\"cells\":{\"fill\":{\"color\":\"#EBF0F8\"},\"line\":{\"color\":\"white\"}},\"header\":{\"fill\":{\"color\":\"#C8D4E3\"},\"line\":{\"color\":\"white\"}},\"type\":\"table\"}]},\"layout\":{\"annotationdefaults\":{\"arrowcolor\":\"#2a3f5f\",\"arrowhead\":0,\"arrowwidth\":1},\"autotypenumbers\":\"strict\",\"coloraxis\":{\"colorbar\":{\"outlinewidth\":0,\"ticks\":\"\"}},\"colorscale\":{\"diverging\":[[0,\"#8e0152\"],[0.1,\"#c51b7d\"],[0.2,\"#de77ae\"],[0.3,\"#f1b6da\"],[0.4,\"#fde0ef\"],[0.5,\"#f7f7f7\"],[0.6,\"#e6f5d0\"],[0.7,\"#b8e186\"],[0.8,\"#7fbc41\"],[0.9,\"#4d9221\"],[1,\"#276419\"]],\"sequential\":[[0.0,\"#0d0887\"],[0.1111111111111111,\"#46039f\"],[0.2222222222222222,\"#7201a8\"],[0.3333333333333333,\"#9c179e\"],[0.4444444444444444,\"#bd3786\"],[0.5555555555555556,\"#d8576b\"],[0.6666666666666666,\"#ed7953\"],[0.7777777777777778,\"#fb9f3a\"],[0.8888888888888888,\"#fdca26\"],[1.0,\"#f0f921\"]],\"sequentialminus\":[[0.0,\"#0d0887\"],[0.1111111111111111,\"#46039f\"],[0.2222222222222222,\"#7201a8\"],[0.3333333333333333,\"#9c179e\"],[0.4444444444444444,\"#bd3786\"],[0.5555555555555556,\"#d8576b\"],[0.6666666666666666,\"#ed7953\"],[0.7777777777777778,\"#fb9f3a\"],[0.8888888888888888,\"#fdca26\"],[1.0,\"#f0f921\"]]},\"colorway\":[\"#636efa\",\"#EF553B\",\"#00cc96\",\"#ab63fa\",\"#FFA15A\",\"#19d3f3\",\"#FF6692\",\"#B6E880\",\"#FF97FF\",\"#FECB52\"],\"font\":{\"color\":\"#2a3f5f\"},\"geo\":{\"bgcolor\":\"white\",\"lakecolor\":\"white\",\"landcolor\":\"#E5ECF6\",\"showlakes\":true,\"showland\":true,\"subunitcolor\":\"white\"},\"hoverlabel\":{\"align\":\"left\"},\"hovermode\":\"closest\",\"mapbox\":{\"style\":\"light\"},\"paper_bgcolor\":\"white\",\"plot_bgcolor\":\"#E5ECF6\",\"polar\":{\"angularaxis\":{\"gridcolor\":\"white\",\"linecolor\":\"white\",\"ticks\":\"\"},\"bgcolor\":\"#E5ECF6\",\"radialaxis\":{\"gridcolor\":\"white\",\"linecolor\":\"white\",\"ticks\":\"\"}},\"scene\":{\"xaxis\":{\"backgroundcolor\":\"#E5ECF6\",\"gridcolor\":\"white\",\"gridwidth\":2,\"linecolor\":\"white\",\"showbackground\":true,\"ticks\":\"\",\"zerolinecolor\":\"white\"},\"yaxis\":{\"backgroundcolor\":\"#E5ECF6\",\"gridcolor\":\"white\",\"gridwidth\":2,\"linecolor\":\"white\",\"showbackground\":true,\"ticks\":\"\",\"zerolinecolor\":\"white\"},\"zaxis\":{\"backgroundcolor\":\"#E5ECF6\",\"gridcolor\":\"white\",\"gridwidth\":2,\"linecolor\":\"white\",\"showbackground\":true,\"ticks\":\"\",\"zerolinecolor\":\"white\"}},\"shapedefaults\":{\"line\":{\"color\":\"#2a3f5f\"}},\"ternary\":{\"aaxis\":{\"gridcolor\":\"white\",\"linecolor\":\"white\",\"ticks\":\"\"},\"baxis\":{\"gridcolor\":\"white\",\"linecolor\":\"white\",\"ticks\":\"\"},\"bgcolor\":\"#E5ECF6\",\"caxis\":{\"gridcolor\":\"white\",\"linecolor\":\"white\",\"ticks\":\"\"}},\"title\":{\"x\":0.05},\"xaxis\":{\"automargin\":true,\"gridcolor\":\"white\",\"linecolor\":\"white\",\"ticks\":\"\",\"title\":{\"standoff\":15},\"zerolinecolor\":\"white\",\"zerolinewidth\":2},\"yaxis\":{\"automargin\":true,\"gridcolor\":\"white\",\"linecolor\":\"white\",\"ticks\":\"\",\"title\":{\"standoff\":15},\"zerolinecolor\":\"white\",\"zerolinewidth\":2}}},\"title\":{\"text\":\"GANTT Chart\"},\"xaxis\":{\"range\":[\"1970-01-01T00:35:30\",\"1970-01-01T20:43:38\"],\"title\":{\"font\":{\"color\":\"#7f7f7f\",\"family\":\"Courier New, monospace\",\"size\":18},\"text\":\"Time\"}},\"yaxis\":{\"title\":{\"font\":{\"color\":\"#7f7f7f\",\"family\":\"Courier New, monospace\",\"size\":18},\"text\":\"Activities\"}}},                        {\"responsive\": true}                    ).then(function(){\n",
       "                            \n",
       "var gd = document.getElementById('bbe7d85a-edee-42cc-b36e-afb117e6f725');\n",
       "var x = new MutationObserver(function (mutations, observer) {{\n",
       "        var display = window.getComputedStyle(gd).display;\n",
       "        if (!display || display === 'none') {{\n",
       "            console.log([gd, 'removed!']);\n",
       "            Plotly.purge(gd);\n",
       "            observer.disconnect();\n",
       "        }}\n",
       "}});\n",
       "\n",
       "// Listen for the removal of the full notebook cells\n",
       "var notebookContainer = gd.closest('#notebook-container');\n",
       "if (notebookContainer) {{\n",
       "    x.observe(notebookContainer, {childList: true});\n",
       "}}\n",
       "\n",
       "// Listen for the clearing of the current output cell\n",
       "var outputEl = gd.closest('.output');\n",
       "if (outputEl) {{\n",
       "    x.observe(outputEl, {childList: true});\n",
       "}}\n",
       "\n",
       "                        })                };                });            </script>        </div>"
      ]
     },
     "metadata": {},
     "output_type": "display_data"
    }
   ],
   "source": [
    "flat = pd.DataFrame(flatten(activities))\n",
    "loading = list(flat[flat['ActivityName'].str.startswith('loading')]['activity'].values)\n",
    "fig = get_gantt_chart(loading)"
   ]
  },
  {
   "cell_type": "code",
   "execution_count": 9,
   "id": "406b5d85",
   "metadata": {},
   "outputs": [
    {
     "data": {
      "image/png": "[encoded data removed]",
      "text/plain": [
       "<Figure size 1400x700 with 1 Axes>"
      ]
     },
     "metadata": {},
     "output_type": "display_data"
    }
   ],
   "source": [
    "fig = get_step_chart([from_site, to_site, *vessels.values()])"
   ]
  },
  {
   "cell_type": "code",
   "execution_count": 10,
   "id": "075f63bf",
   "metadata": {},
   "outputs": [],
   "source": [
    "def occupancy_analysis(vessels, cutter_name, total_amount, vessel_cost):\n",
    "    \"\"\"Model specific calculation of vessel occupancy\"\"\"\n",
    "    \n",
    "    data = []\n",
    "    \n",
    "    for i, vessel_name in enumerate(vessels):\n",
    "        vessel = vessels[vessel_name]\n",
    "\n",
    "        log = get_ranges_dataframe(vessel)\n",
    "        \n",
    "        duration_theory = log.TimestampDt.sum()\n",
    "        \n",
    "        # We assume all vessels arrive JIT when they need to start,\n",
    "        # and leaves immediately when they are done (so different demob times)\n",
    "        # this is an overestimation of actual occupancy\n",
    "        \n",
    "        duration_actual = (log.TimestampStop.max() - log.TimestampStart.min()).total_seconds()\n",
    "        nr_trips = len(log.groupby('trip'))\n",
    "        \n",
    "        if vessel.name==cutter_name:\n",
    "            amount = total_amount\n",
    "        else:\n",
    "            amount = sum(log.groupby('trip')['ContainerLevelStop'].max())\n",
    "        \n",
    "        data.append({\n",
    "            'name':vessel.name, \n",
    "            '# trips':nr_trips, \n",
    "            'start': log.TimestampStart.min(),\n",
    "            'finish': log.TimestampStop.max(),\n",
    "            'amount sum': amount,\n",
    "            'duration actual': duration_actual,\n",
    "            'duration theory':duration_theory,\n",
    "            'cost actual':round(duration_actual*vessel_cost[vessel_name]/3600/24,0),\n",
    "            'production actual':(nr_trips * amount) / (duration_actual),\n",
    "            'production theory':(nr_trips * amount / (duration_theory)),\n",
    "        })\n",
    "\n",
    "    df = pd.DataFrame(data).sort_values(by=['production actual'],ascending=False)\n",
    "    df['occupancy [%]'] = [round(x,1) for x in 100*df['production actual']/df['production theory']]\n",
    "    df.set_index('name', inplace=True)\n",
    "    \n",
    "    # cutter does amount same as all barges\n",
    "    assert df['amount sum'].sum()-total_amount==total_amount, 'material imbalance'\n",
    "    \n",
    "    return df"
   ]
  },
  {
   "cell_type": "code",
   "execution_count": 11,
   "id": "78603c28",
   "metadata": {},
   "outputs": [
    {
     "data": {
      "text/html": [
       "<div>\n",
       "<style scoped>\n",
       "    .dataframe tbody tr th:only-of-type {\n",
       "        vertical-align: middle;\n",
       "    }\n",
       "\n",
       "    .dataframe tbody tr th {\n",
       "        vertical-align: top;\n",
       "    }\n",
       "\n",
       "    .dataframe thead th {\n",
       "        text-align: right;\n",
       "    }\n",
       "</style>\n",
       "<table border=\"1\" class=\"dataframe\">\n",
       "  <thead>\n",
       "    <tr style=\"text-align: right;\">\n",
       "      <th></th>\n",
       "      <th># trips</th>\n",
       "      <th>start</th>\n",
       "      <th>finish</th>\n",
       "      <th>amount sum</th>\n",
       "      <th>duration actual</th>\n",
       "      <th>duration theory</th>\n",
       "      <th>cost actual</th>\n",
       "      <th>production actual</th>\n",
       "      <th>production theory</th>\n",
       "      <th>occupancy [%]</th>\n",
       "    </tr>\n",
       "    <tr>\n",
       "      <th>name</th>\n",
       "      <th></th>\n",
       "      <th></th>\n",
       "      <th></th>\n",
       "      <th></th>\n",
       "      <th></th>\n",
       "      <th></th>\n",
       "      <th></th>\n",
       "      <th></th>\n",
       "      <th></th>\n",
       "      <th></th>\n",
       "    </tr>\n",
       "  </thead>\n",
       "  <tbody>\n",
       "    <tr>\n",
       "      <th>Carrier A</th>\n",
       "      <td>7</td>\n",
       "      <td>1970-01-01 00:00:00</td>\n",
       "      <td>1970-01-01 21:32:56</td>\n",
       "      <td>28.0</td>\n",
       "      <td>77576.0</td>\n",
       "      <td>71309.0</td>\n",
       "      <td>5387.0</td>\n",
       "      <td>0.002527</td>\n",
       "      <td>0.002749</td>\n",
       "      <td>91.9</td>\n",
       "    </tr>\n",
       "    <tr>\n",
       "      <th>Carrier B</th>\n",
       "      <td>7</td>\n",
       "      <td>1970-01-01 00:00:00</td>\n",
       "      <td>1970-01-01 20:57:30</td>\n",
       "      <td>35.0</td>\n",
       "      <td>75450.0</td>\n",
       "      <td>73486.0</td>\n",
       "      <td>5240.0</td>\n",
       "      <td>0.003247</td>\n",
       "      <td>0.003334</td>\n",
       "      <td>97.4</td>\n",
       "    </tr>\n",
       "    <tr>\n",
       "      <th>Carrier C</th>\n",
       "      <td>8</td>\n",
       "      <td>1970-01-01 00:00:00</td>\n",
       "      <td>1970-01-01 21:54:38</td>\n",
       "      <td>37.0</td>\n",
       "      <td>78878.0</td>\n",
       "      <td>71120.0</td>\n",
       "      <td>5478.0</td>\n",
       "      <td>0.003753</td>\n",
       "      <td>0.004162</td>\n",
       "      <td>90.2</td>\n",
       "    </tr>\n",
       "    <tr>\n",
       "      <th>Cutter T</th>\n",
       "      <td>8</td>\n",
       "      <td>1970-01-01 00:35:30</td>\n",
       "      <td>1970-01-01 20:43:38</td>\n",
       "      <td>100.0</td>\n",
       "      <td>72488.0</td>\n",
       "      <td>51500.0</td>\n",
       "      <td>20975.0</td>\n",
       "      <td>0.011036</td>\n",
       "      <td>0.015534</td>\n",
       "      <td>71.0</td>\n",
       "    </tr>\n",
       "  </tbody>\n",
       "</table>\n",
       "</div>"
      ],
      "text/plain": [
       "           # trips               start              finish  amount sum  \\\n",
       "name                                                                     \n",
       "Carrier A        7 1970-01-01 00:00:00 1970-01-01 21:32:56        28.0   \n",
       "Carrier B        7 1970-01-01 00:00:00 1970-01-01 20:57:30        35.0   \n",
       "Carrier C        8 1970-01-01 00:00:00 1970-01-01 21:54:38        37.0   \n",
       "Cutter T         8 1970-01-01 00:35:30 1970-01-01 20:43:38       100.0   \n",
       "\n",
       "           duration actual  duration theory  cost actual  production actual  \\\n",
       "name                                                                          \n",
       "Carrier A          77576.0          71309.0       5387.0           0.002527   \n",
       "Carrier B          75450.0          73486.0       5240.0           0.003247   \n",
       "Carrier C          78878.0          71120.0       5478.0           0.003753   \n",
       "Cutter T           72488.0          51500.0      20975.0           0.011036   \n",
       "\n",
       "           production theory  occupancy [%]  \n",
       "name                                         \n",
       "Carrier A           0.002749           91.9  \n",
       "Carrier B           0.003334           97.4  \n",
       "Carrier C           0.004162           90.2  \n",
       "Cutter T            0.015534           71.0  "
      ]
     },
     "execution_count": 11,
     "metadata": {},
     "output_type": "execute_result"
    }
   ],
   "source": [
    "occupancy_analysis(vessels, cutter_name, total_amount, vessel_cost).sort_values(by=[\"name\"])"
   ]
  },
  {
   "cell_type": "markdown",
   "id": "4e7485d8",
   "metadata": {},
   "source": [
    "# Compare multiple barge scenarios"
   ]
  },
  {
   "cell_type": "code",
   "execution_count": 12,
   "id": "eeb88b8d",
   "metadata": {},
   "outputs": [
    {
     "data": {
      "text/html": [
       "<div>\n",
       "<style scoped>\n",
       "    .dataframe tbody tr th:only-of-type {\n",
       "        vertical-align: middle;\n",
       "    }\n",
       "\n",
       "    .dataframe tbody tr th {\n",
       "        vertical-align: top;\n",
       "    }\n",
       "\n",
       "    .dataframe thead th {\n",
       "        text-align: right;\n",
       "    }\n",
       "</style>\n",
       "<table border=\"1\" class=\"dataframe\">\n",
       "  <thead>\n",
       "    <tr style=\"text-align: right;\">\n",
       "      <th></th>\n",
       "      <th># barges</th>\n",
       "      <th>cutter occupancy</th>\n",
       "      <th>total cost</th>\n",
       "      <th>total duration</th>\n",
       "    </tr>\n",
       "  </thead>\n",
       "  <tbody>\n",
       "    <tr>\n",
       "      <th>0</th>\n",
       "      <td>2</td>\n",
       "      <td>45.7</td>\n",
       "      <td>49164.0</td>\n",
       "      <td>1.388368</td>\n",
       "    </tr>\n",
       "    <tr>\n",
       "      <th>1</th>\n",
       "      <td>3</td>\n",
       "      <td>70.6</td>\n",
       "      <td>36769.0</td>\n",
       "      <td>0.929653</td>\n",
       "    </tr>\n",
       "    <tr>\n",
       "      <th>2</th>\n",
       "      <td>4</td>\n",
       "      <td>86.6</td>\n",
       "      <td>34019.0</td>\n",
       "      <td>0.768669</td>\n",
       "    </tr>\n",
       "    <tr>\n",
       "      <th>3</th>\n",
       "      <td>5</td>\n",
       "      <td>100.0</td>\n",
       "      <td>31396.0</td>\n",
       "      <td>0.670926</td>\n",
       "    </tr>\n",
       "    <tr>\n",
       "      <th>4</th>\n",
       "      <td>6</td>\n",
       "      <td>100.0</td>\n",
       "      <td>34882.0</td>\n",
       "      <td>0.673634</td>\n",
       "    </tr>\n",
       "    <tr>\n",
       "      <th>5</th>\n",
       "      <td>7</td>\n",
       "      <td>100.0</td>\n",
       "      <td>36724.0</td>\n",
       "      <td>0.669734</td>\n",
       "    </tr>\n",
       "    <tr>\n",
       "      <th>6</th>\n",
       "      <td>8</td>\n",
       "      <td>100.0</td>\n",
       "      <td>37902.0</td>\n",
       "      <td>0.668171</td>\n",
       "    </tr>\n",
       "  </tbody>\n",
       "</table>\n",
       "</div>"
      ],
      "text/plain": [
       "   # barges  cutter occupancy  total cost  total duration\n",
       "0         2              45.7     49164.0        1.388368\n",
       "1         3              70.6     36769.0        0.929653\n",
       "2         4              86.6     34019.0        0.768669\n",
       "3         5             100.0     31396.0        0.670926\n",
       "4         6             100.0     34882.0        0.673634\n",
       "5         7             100.0     36724.0        0.669734\n",
       "6         8             100.0     37902.0        0.668171"
      ]
     },
     "execution_count": 12,
     "metadata": {},
     "output_type": "execute_result"
    }
   ],
   "source": [
    "results = []\n",
    "occupancy = []\n",
    "cost = []\n",
    "duration = []\n",
    "\n",
    "n_barges = range(2,len(barge_names)) # +1 at least 1 barge\n",
    "for i in n_barges:\n",
    "    results.append(run(i,total_amount))\n",
    "    \n",
    "    vessels = results[-1]['vessels']\n",
    "    activities = results[-1]['activities']\n",
    "    sites = results[-1]['sites']\n",
    "    \n",
    "    cutter = vessels[cutter_name]\n",
    "    \n",
    "    df = occupancy_analysis(vessels, cutter_name, total_amount, vessel_cost)\n",
    "    occupancy.append(df.loc[cutter_name]['occupancy [%]'])\n",
    "    cost.append(df['cost actual'].sum())\n",
    "    duration.append((df['finish'].max() - df['start'].min()).total_seconds()/3600/24)\n",
    "    #     display(df)\n",
    "    \n",
    "scenarios = {'# barges':n_barges,\n",
    "             'cutter occupancy':occupancy,\n",
    "             'total cost':cost,\n",
    "             'total duration':duration}\n",
    "scenarios = pd.DataFrame.from_dict(scenarios)\n",
    "scenarios"
   ]
  },
  {
   "cell_type": "code",
   "execution_count": 13,
   "id": "9e7f3cf4",
   "metadata": {},
   "outputs": [
    {
     "data": {
      "image/png": "[encoded data removed]",
      "text/plain": [
       "<Figure size 640x480 with 3 Axes>"
      ]
     },
     "metadata": {},
     "output_type": "display_data"
    }
   ],
   "source": [
    "# plot 3 optimization criteria: cost, duration, occupancy (1/flexibility)\n",
    "%matplotlib inline\n",
    "import matplotlib.pyplot as plt\n",
    "\n",
    "fig = plt.figure()\n",
    "gs = fig.add_gridspec(3, hspace=0)\n",
    "axs = gs.subplots(sharex=True)\n",
    "\n",
    "\n",
    "axs[0].plot(scenarios['# barges'],scenarios['total cost'],'.-'), axs[0].set_ylabel('# cost [EUR]'),axs[0].grid();\n",
    "# axs[0].set_xlabel('# barges');\n",
    "\n",
    "axs[1].plot(scenarios['# barges'],scenarios['cutter occupancy'],'.-'), axs[1].set_ylabel('cutter occupancy [%]'),axs[1].grid();\n",
    "# axs[1].set_xlabel('# barges');\n",
    "axs[1].yaxis.set_label_position(\"right\")\n",
    "axs[1].yaxis.tick_right()\n",
    "\n",
    "axs[2].plot(scenarios['# barges'],scenarios['total duration'],'.-'), axs[2].set_ylabel('# time [days]'),axs[2].grid();\n",
    "\n",
    "axs[-1].set_xlabel('# barges');"
   ]
  },
  {
   "cell_type": "code",
   "execution_count": 14,
   "id": "88c1391e",
   "metadata": {},
   "outputs": [],
   "source": [
    "# choose 1 scenario for further analysis and export\n",
    "# many barges: close to 100% cutter config, small cost, fast delivery.\n",
    "scenario_index = 2"
   ]
  },
  {
   "cell_type": "markdown",
   "id": "9d132a51",
   "metadata": {},
   "source": [
    "# Visualize critical path of chosen optimal scenario"
   ]
  },
  {
   "cell_type": "markdown",
   "id": "70e77f68",
   "metadata": {},
   "source": [
    "For explanation of Critical Path see notebook 30"
   ]
  },
  {
   "cell_type": "code",
   "execution_count": 15,
   "id": "0f21208b",
   "metadata": {},
   "outputs": [],
   "source": [
    "from openclsim.plot.critical_path import CpLog"
   ]
  },
  {
   "cell_type": "code",
   "execution_count": 16,
   "id": "63db1761",
   "metadata": {},
   "outputs": [
    {
     "data": {
      "text/html": [
       "        <script type=\"text/javascript\">\n",
       "        window.PlotlyConfig = {MathJaxConfig: 'local'};\n",
       "        if (window.MathJax && window.MathJax.Hub && window.MathJax.Hub.Config) {window.MathJax.Hub.Config({SVG: {font: \"STIX-Web\"}});}\n",
       "        if (typeof require !== 'undefined') {\n",
       "        require.undef(\"plotly\");\n",
       "        requirejs.config({\n",
       "            paths: {\n",
       "                'plotly': ['https://cdn.plot.ly/plotly-2.18.2.min']\n",
       "            }\n",
       "        });\n",
       "        require(['plotly'], function(Plotly) {\n",
       "            window._Plotly = Plotly;\n",
       "        });\n",
       "        }\n",
       "        </script>\n",
       "        "
      ]
     },
     "metadata": {},
     "output_type": "display_data"
    },
    {
     "data": {
      "application/vnd.plotly.v1+json": {
       "config": {
        "linkText": "Export to plot.ly",
        "plotlyServerURL": "https://plot.ly",
        "showLink": false
       },
       "data": [
        {
         "connectgaps": false,
         "hoverinfo": "name",
         "line": {
          "color": "red",
          "width": 14
         },
         "mode": "lines",
         "name": "critical_path",
         "type": "scatter",
         "x": [
          "1970-01-01T00:00:00",
          "1970-01-01T00:34:05",
          "1970-01-01T00:34:05",
          "1970-01-01T00:34:05",
          "1970-01-01T01:15:45",
          "1970-01-01T01:15:45",
          "1970-01-01T00:34:05",
          "1970-01-01T01:15:45",
          "1970-01-01T01:15:45",
          "1970-01-01T00:34:05",
          "1970-01-01T01:15:45",
          "1970-01-01T01:15:45",
          "1970-01-01T01:15:45",
          "1970-01-01T01:49:05",
          "1970-01-01T01:49:05",
          "1970-01-01T01:15:45",
          "1970-01-01T01:49:05",
          "1970-01-01T01:49:05",
          "1970-01-01T01:15:45",
          "1970-01-01T01:49:05",
          "1970-01-01T01:49:05",
          "1970-01-01T01:49:05",
          "1970-01-01T02:22:25",
          "1970-01-01T02:22:25",
          "1970-01-01T01:49:05",
          "1970-01-01T02:22:25",
          "1970-01-01T02:22:25",
          "1970-01-01T01:49:05",
          "1970-01-01T02:22:25",
          "1970-01-01T02:22:25",
          "1970-01-01T02:22:25",
          "1970-01-01T03:04:05",
          "1970-01-01T03:04:05",
          "1970-01-01T02:22:25",
          "1970-01-01T03:04:05",
          "1970-01-01T03:04:05",
          "1970-01-01T02:22:25",
          "1970-01-01T03:04:05",
          "1970-01-01T03:04:05",
          "1970-01-01T03:04:05",
          "1970-01-01T03:51:16",
          "1970-01-01T03:51:16",
          "1970-01-01T03:51:16",
          "1970-01-01T04:38:27",
          "1970-01-01T04:38:27",
          "1970-01-01T03:51:16",
          "1970-01-01T04:38:27",
          "1970-01-01T04:38:27",
          "1970-01-01T04:38:27",
          "1970-01-01T05:25:38",
          "1970-01-01T05:25:38",
          "1970-01-01T05:25:38",
          "1970-01-01T06:07:18",
          "1970-01-01T06:07:18",
          "1970-01-01T05:25:38",
          "1970-01-01T06:07:18",
          "1970-01-01T06:07:18",
          "1970-01-01T05:25:38",
          "1970-01-01T06:07:18",
          "1970-01-01T06:07:18",
          "1970-01-01T06:07:18",
          "1970-01-01T06:54:29",
          "1970-01-01T06:54:29",
          "1970-01-01T06:54:29",
          "1970-01-01T07:41:40",
          "1970-01-01T07:41:40",
          "1970-01-01T06:54:29",
          "1970-01-01T07:41:40",
          "1970-01-01T07:41:40",
          "1970-01-01T07:41:40",
          "1970-01-01T08:28:51",
          "1970-01-01T08:28:51",
          "1970-01-01T08:28:51",
          "1970-01-01T09:10:31",
          "1970-01-01T09:10:31",
          "1970-01-01T08:28:51",
          "1970-01-01T09:10:31",
          "1970-01-01T09:10:31",
          "1970-01-01T08:28:51",
          "1970-01-01T09:10:31",
          "1970-01-01T09:10:31",
          "1970-01-01T09:10:31",
          "1970-01-01T09:57:42",
          "1970-01-01T09:57:42",
          "1970-01-01T09:57:42",
          "1970-01-01T10:44:53",
          "1970-01-01T10:44:53",
          "1970-01-01T09:57:42",
          "1970-01-01T10:44:53",
          "1970-01-01T10:44:53",
          "1970-01-01T10:44:53",
          "1970-01-01T11:32:04",
          "1970-01-01T11:32:04",
          "1970-01-01T11:32:04",
          "1970-01-01T12:13:44",
          "1970-01-01T12:13:44",
          "1970-01-01T11:32:04",
          "1970-01-01T12:13:44",
          "1970-01-01T12:13:44",
          "1970-01-01T11:32:04",
          "1970-01-01T12:13:44",
          "1970-01-01T12:13:44",
          "1970-01-01T12:13:44",
          "1970-01-01T13:00:55",
          "1970-01-01T13:00:55",
          "1970-01-01T13:00:55",
          "1970-01-01T13:48:06",
          "1970-01-01T13:48:06",
          "1970-01-01T13:00:55",
          "1970-01-01T13:48:06",
          "1970-01-01T13:48:06",
          "1970-01-01T13:48:06",
          "1970-01-01T14:35:17",
          "1970-01-01T14:35:17",
          "1970-01-01T14:35:17",
          "1970-01-01T15:16:57",
          "1970-01-01T15:16:57",
          "1970-01-01T14:35:17",
          "1970-01-01T15:16:57",
          "1970-01-01T15:16:57",
          "1970-01-01T14:35:17",
          "1970-01-01T15:16:57",
          "1970-01-01T15:16:57",
          "1970-01-01T15:16:57",
          "1970-01-01T15:58:37",
          "1970-01-01T15:58:37",
          "1970-01-01T15:16:57",
          "1970-01-01T15:58:37",
          "1970-01-01T15:58:37",
          "1970-01-01T15:16:57",
          "1970-01-01T15:58:37",
          "1970-01-01T15:58:37",
          "1970-01-01T15:58:37",
          "1970-01-01T16:31:57",
          "1970-01-01T16:31:57",
          "1970-01-01T15:58:37",
          "1970-01-01T16:31:57",
          "1970-01-01T16:31:57",
          "1970-01-01T15:58:37",
          "1970-01-01T16:31:57",
          "1970-01-01T16:31:57",
          "1970-01-01T16:31:57",
          "1970-01-01T17:05:17",
          "1970-01-01T17:05:17",
          "1970-01-01T16:31:57",
          "1970-01-01T17:05:17",
          "1970-01-01T17:05:17",
          "1970-01-01T16:31:57",
          "1970-01-01T17:05:17",
          "1970-01-01T17:05:17",
          "1970-01-01T17:05:17",
          "1970-01-01T17:46:05",
          "1970-01-01T17:46:05",
          "1970-01-01T17:46:05",
          "1970-01-01T18:26:53",
          "1970-01-01T18:26:53",
          "1970-01-01T17:46:05",
          "1970-01-01T18:26:53",
          "1970-01-01T18:26:53"
         ],
         "y": [
          "Barge I",
          "Barge I",
          null,
          "Barge I",
          "Barge I",
          null,
          "Cutter T",
          "Cutter T",
          null,
          "Trench",
          "Trench",
          null,
          "Carrier B",
          "Carrier B",
          null,
          "Cutter T",
          "Cutter T",
          null,
          "Trench",
          "Trench",
          null,
          "Carrier A",
          "Carrier A",
          null,
          "Cutter T",
          "Cutter T",
          null,
          "Trench",
          "Trench",
          null,
          "Carrier C",
          "Carrier C",
          null,
          "Cutter T",
          "Cutter T",
          null,
          "Trench",
          "Trench",
          null,
          "Carrier C",
          "Carrier C",
          null,
          "Carrier C",
          "Carrier C",
          null,
          "Reclamation",
          "Reclamation",
          null,
          "Carrier C",
          "Carrier C",
          null,
          "Carrier C",
          "Carrier C",
          null,
          "Cutter T",
          "Cutter T",
          null,
          "Trench",
          "Trench",
          null,
          "Carrier C",
          "Carrier C",
          null,
          "Carrier C",
          "Carrier C",
          null,
          "Reclamation",
          "Reclamation",
          null,
          "Carrier C",
          "Carrier C",
          null,
          "Carrier C",
          "Carrier C",
          null,
          "Cutter T",
          "Cutter T",
          null,
          "Trench",
          "Trench",
          null,
          "Carrier C",
          "Carrier C",
          null,
          "Carrier C",
          "Carrier C",
          null,
          "Reclamation",
          "Reclamation",
          null,
          "Carrier C",
          "Carrier C",
          null,
          "Carrier C",
          "Carrier C",
          null,
          "Cutter T",
          "Cutter T",
          null,
          "Trench",
          "Trench",
          null,
          "Carrier C",
          "Carrier C",
          null,
          "Carrier C",
          "Carrier C",
          null,
          "Reclamation",
          "Reclamation",
          null,
          "Carrier C",
          "Carrier C",
          null,
          "Carrier C",
          "Carrier C",
          null,
          "Cutter T",
          "Cutter T",
          null,
          "Trench",
          "Trench",
          null,
          "Barge I",
          "Barge I",
          null,
          "Cutter T",
          "Cutter T",
          null,
          "Trench",
          "Trench",
          null,
          "Carrier B",
          "Carrier B",
          null,
          "Cutter T",
          "Cutter T",
          null,
          "Trench",
          "Trench",
          null,
          "Carrier A",
          "Carrier A",
          null,
          "Cutter T",
          "Cutter T",
          null,
          "Trench",
          "Trench",
          null,
          "Carrier A",
          "Carrier A",
          null,
          "Carrier A",
          "Carrier A",
          null,
          "Reclamation",
          "Reclamation",
          null
         ]
        },
        {
         "connectgaps": false,
         "hoverinfo": "y+name",
         "line": {
          "color": "rgb(223,210,239)",
          "width": 10
         },
         "mode": "lines",
         "name": "loading:Carrier A",
         "type": "scatter",
         "x": [
          "1970-01-01T01:49:05",
          "1970-01-01T01:49:05",
          "1970-01-01T02:22:25",
          "1970-01-01T02:22:25",
          "1970-01-01T02:22:25",
          "1970-01-01T04:24:49",
          "1970-01-01T04:24:49",
          "1970-01-01T04:58:09",
          "1970-01-01T04:58:09",
          "1970-01-01T04:58:09",
          "1970-01-01T07:22:18",
          "1970-01-01T07:22:18",
          "1970-01-01T07:55:38",
          "1970-01-01T07:55:38",
          "1970-01-01T07:55:38",
          "1970-01-01T10:25:31",
          "1970-01-01T10:25:31",
          "1970-01-01T10:58:51",
          "1970-01-01T10:58:51",
          "1970-01-01T10:58:51",
          "1970-01-01T13:28:44",
          "1970-01-01T13:28:44",
          "1970-01-01T14:02:04",
          "1970-01-01T14:02:04",
          "1970-01-01T14:02:04",
          "1970-01-01T16:31:57",
          "1970-01-01T16:31:57",
          "1970-01-01T17:05:17",
          "1970-01-01T17:05:17",
          "1970-01-01T17:05:17",
          "1970-01-01T01:49:05",
          "1970-01-01T01:49:05",
          "1970-01-01T02:22:25",
          "1970-01-01T02:22:25",
          "1970-01-01T02:22:25",
          "1970-01-01T04:24:49",
          "1970-01-01T04:24:49",
          "1970-01-01T04:58:09",
          "1970-01-01T04:58:09",
          "1970-01-01T04:58:09",
          "1970-01-01T07:22:18",
          "1970-01-01T07:22:18",
          "1970-01-01T07:55:38",
          "1970-01-01T07:55:38",
          "1970-01-01T07:55:38",
          "1970-01-01T10:25:31",
          "1970-01-01T10:25:31",
          "1970-01-01T10:58:51",
          "1970-01-01T10:58:51",
          "1970-01-01T10:58:51",
          "1970-01-01T13:28:44",
          "1970-01-01T13:28:44",
          "1970-01-01T14:02:04",
          "1970-01-01T14:02:04",
          "1970-01-01T14:02:04",
          "1970-01-01T16:31:57",
          "1970-01-01T16:31:57",
          "1970-01-01T17:05:17",
          "1970-01-01T17:05:17",
          "1970-01-01T17:05:17",
          "1970-01-01T01:49:05",
          "1970-01-01T01:49:05",
          "1970-01-01T02:22:25",
          "1970-01-01T02:22:25",
          "1970-01-01T02:22:25",
          "1970-01-01T04:24:49",
          "1970-01-01T04:24:49",
          "1970-01-01T04:58:09",
          "1970-01-01T04:58:09",
          "1970-01-01T04:58:09",
          "1970-01-01T07:22:18",
          "1970-01-01T07:22:18",
          "1970-01-01T07:55:38",
          "1970-01-01T07:55:38",
          "1970-01-01T07:55:38",
          "1970-01-01T10:25:31",
          "1970-01-01T10:25:31",
          "1970-01-01T10:58:51",
          "1970-01-01T10:58:51",
          "1970-01-01T10:58:51",
          "1970-01-01T13:28:44",
          "1970-01-01T13:28:44",
          "1970-01-01T14:02:04",
          "1970-01-01T14:02:04",
          "1970-01-01T14:02:04",
          "1970-01-01T16:31:57",
          "1970-01-01T16:31:57",
          "1970-01-01T17:05:17",
          "1970-01-01T17:05:17",
          "1970-01-01T17:05:17"
         ],
         "y": [
          "Carrier A",
          "Carrier A",
          "Carrier A",
          "Carrier A",
          null,
          "Carrier A",
          "Carrier A",
          "Carrier A",
          "Carrier A",
          null,
          "Carrier A",
          "Carrier A",
          "Carrier A",
          "Carrier A",
          null,
          "Carrier A",
          "Carrier A",
          "Carrier A",
          "Carrier A",
          null,
          "Carrier A",
          "Carrier A",
          "Carrier A",
          "Carrier A",
          null,
          "Carrier A",
          "Carrier A",
          "Carrier A",
          "Carrier A",
          null,
          "Cutter T",
          "Cutter T",
          "Cutter T",
          "Cutter T",
          null,
          "Cutter T",
          "Cutter T",
          "Cutter T",
          "Cutter T",
          null,
          "Cutter T",
          "Cutter T",
          "Cutter T",
          "Cutter T",
          null,
          "Cutter T",
          "Cutter T",
          "Cutter T",
          "Cutter T",
          null,
          "Cutter T",
          "Cutter T",
          "Cutter T",
          "Cutter T",
          null,
          "Cutter T",
          "Cutter T",
          "Cutter T",
          "Cutter T",
          null,
          "Trench",
          "Trench",
          "Trench",
          "Trench",
          null,
          "Trench",
          "Trench",
          "Trench",
          "Trench",
          null,
          "Trench",
          "Trench",
          "Trench",
          "Trench",
          null,
          "Trench",
          "Trench",
          "Trench",
          "Trench",
          null,
          "Trench",
          "Trench",
          "Trench",
          "Trench",
          null,
          "Trench",
          "Trench",
          "Trench",
          "Trench",
          null
         ]
        },
        {
         "connectgaps": false,
         "hoverinfo": "y+name",
         "line": {
          "color": "rgb(232,219,248)",
          "width": 10
         },
         "mode": "lines",
         "name": "unloading:Carrier A",
         "type": "scatter",
         "x": [
          "1970-01-01T03:03:13",
          "1970-01-01T03:03:13",
          "1970-01-01T03:44:01",
          "1970-01-01T03:44:01",
          "1970-01-01T03:44:01",
          "1970-01-01T05:38:57",
          "1970-01-01T05:38:57",
          "1970-01-01T06:19:45",
          "1970-01-01T06:19:45",
          "1970-01-01T06:19:45",
          "1970-01-01T08:36:26",
          "1970-01-01T08:36:26",
          "1970-01-01T09:17:14",
          "1970-01-01T09:17:14",
          "1970-01-01T09:17:14",
          "1970-01-01T11:39:39",
          "1970-01-01T11:39:39",
          "1970-01-01T12:20:27",
          "1970-01-01T12:20:27",
          "1970-01-01T12:20:27",
          "1970-01-01T14:42:52",
          "1970-01-01T14:42:52",
          "1970-01-01T15:23:40",
          "1970-01-01T15:23:40",
          "1970-01-01T15:23:40",
          "1970-01-01T17:46:05",
          "1970-01-01T17:46:05",
          "1970-01-01T18:26:53",
          "1970-01-01T18:26:53",
          "1970-01-01T18:26:53",
          "1970-01-01T03:03:13",
          "1970-01-01T03:03:13",
          "1970-01-01T03:44:01",
          "1970-01-01T03:44:01",
          "1970-01-01T03:44:01",
          "1970-01-01T05:38:57",
          "1970-01-01T05:38:57",
          "1970-01-01T06:19:45",
          "1970-01-01T06:19:45",
          "1970-01-01T06:19:45",
          "1970-01-01T08:36:26",
          "1970-01-01T08:36:26",
          "1970-01-01T09:17:14",
          "1970-01-01T09:17:14",
          "1970-01-01T09:17:14",
          "1970-01-01T11:39:39",
          "1970-01-01T11:39:39",
          "1970-01-01T12:20:27",
          "1970-01-01T12:20:27",
          "1970-01-01T12:20:27",
          "1970-01-01T14:42:52",
          "1970-01-01T14:42:52",
          "1970-01-01T15:23:40",
          "1970-01-01T15:23:40",
          "1970-01-01T15:23:40",
          "1970-01-01T17:46:05",
          "1970-01-01T17:46:05",
          "1970-01-01T18:26:53",
          "1970-01-01T18:26:53",
          "1970-01-01T18:26:53"
         ],
         "y": [
          "Carrier A",
          "Carrier A",
          "Carrier A",
          "Carrier A",
          null,
          "Carrier A",
          "Carrier A",
          "Carrier A",
          "Carrier A",
          null,
          "Carrier A",
          "Carrier A",
          "Carrier A",
          "Carrier A",
          null,
          "Carrier A",
          "Carrier A",
          "Carrier A",
          "Carrier A",
          null,
          "Carrier A",
          "Carrier A",
          "Carrier A",
          "Carrier A",
          null,
          "Carrier A",
          "Carrier A",
          "Carrier A",
          "Carrier A",
          null,
          "Reclamation",
          "Reclamation",
          "Reclamation",
          "Reclamation",
          null,
          "Reclamation",
          "Reclamation",
          "Reclamation",
          "Reclamation",
          null,
          "Reclamation",
          "Reclamation",
          "Reclamation",
          "Reclamation",
          null,
          "Reclamation",
          "Reclamation",
          "Reclamation",
          "Reclamation",
          null,
          "Reclamation",
          "Reclamation",
          "Reclamation",
          "Reclamation",
          null,
          "Reclamation",
          "Reclamation",
          "Reclamation",
          "Reclamation",
          null
         ]
        },
        {
         "connectgaps": false,
         "hoverinfo": "y+name",
         "line": {
          "color": "rgb(241,228,1)",
          "width": 10
         },
         "mode": "lines",
         "name": "sailing empty:Carrier A",
         "type": "scatter",
         "x": [
          "1970-01-01T00:00:00",
          "1970-01-01T00:00:00",
          "1970-01-01T00:40:48",
          "1970-01-01T00:40:48",
          "1970-01-01T00:40:48",
          "1970-01-01T03:44:01",
          "1970-01-01T03:44:01",
          "1970-01-01T04:24:49",
          "1970-01-01T04:24:49",
          "1970-01-01T04:24:49",
          "1970-01-01T06:19:45",
          "1970-01-01T06:19:45",
          "1970-01-01T07:00:33",
          "1970-01-01T07:00:33",
          "1970-01-01T07:00:33",
          "1970-01-01T09:17:14",
          "1970-01-01T09:17:14",
          "1970-01-01T09:58:02",
          "1970-01-01T09:58:02",
          "1970-01-01T09:58:02",
          "1970-01-01T12:20:27",
          "1970-01-01T12:20:27",
          "1970-01-01T13:01:15",
          "1970-01-01T13:01:15",
          "1970-01-01T13:01:15",
          "1970-01-01T15:23:40",
          "1970-01-01T15:23:40",
          "1970-01-01T16:04:28",
          "1970-01-01T16:04:28",
          "1970-01-01T16:04:28"
         ],
         "y": [
          "Carrier A",
          "Carrier A",
          "Carrier A",
          "Carrier A",
          null,
          "Carrier A",
          "Carrier A",
          "Carrier A",
          "Carrier A",
          null,
          "Carrier A",
          "Carrier A",
          "Carrier A",
          "Carrier A",
          null,
          "Carrier A",
          "Carrier A",
          "Carrier A",
          "Carrier A",
          null,
          "Carrier A",
          "Carrier A",
          "Carrier A",
          "Carrier A",
          null,
          "Carrier A",
          "Carrier A",
          "Carrier A",
          "Carrier A",
          null
         ]
        },
        {
         "connectgaps": false,
         "hoverinfo": "y+name",
         "line": {
          "color": "rgb(250,237,10)",
          "width": 10
         },
         "mode": "lines",
         "name": "sailing full:Carrier A",
         "type": "scatter",
         "x": [
          "1970-01-01T02:22:25",
          "1970-01-01T02:22:25",
          "1970-01-01T03:03:13",
          "1970-01-01T03:03:13",
          "1970-01-01T03:03:13",
          "1970-01-01T04:58:09",
          "1970-01-01T04:58:09",
          "1970-01-01T05:38:57",
          "1970-01-01T05:38:57",
          "1970-01-01T05:38:57",
          "1970-01-01T07:55:38",
          "1970-01-01T07:55:38",
          "1970-01-01T08:36:26",
          "1970-01-01T08:36:26",
          "1970-01-01T08:36:26",
          "1970-01-01T10:58:51",
          "1970-01-01T10:58:51",
          "1970-01-01T11:39:39",
          "1970-01-01T11:39:39",
          "1970-01-01T11:39:39",
          "1970-01-01T14:02:04",
          "1970-01-01T14:02:04",
          "1970-01-01T14:42:52",
          "1970-01-01T14:42:52",
          "1970-01-01T14:42:52",
          "1970-01-01T17:05:17",
          "1970-01-01T17:05:17",
          "1970-01-01T17:46:05",
          "1970-01-01T17:46:05",
          "1970-01-01T17:46:05"
         ],
         "y": [
          "Carrier A",
          "Carrier A",
          "Carrier A",
          "Carrier A",
          null,
          "Carrier A",
          "Carrier A",
          "Carrier A",
          "Carrier A",
          null,
          "Carrier A",
          "Carrier A",
          "Carrier A",
          "Carrier A",
          null,
          "Carrier A",
          "Carrier A",
          "Carrier A",
          "Carrier A",
          null,
          "Carrier A",
          "Carrier A",
          "Carrier A",
          "Carrier A",
          null,
          "Carrier A",
          "Carrier A",
          "Carrier A",
          "Carrier A",
          null
         ]
        },
        {
         "connectgaps": false,
         "hoverinfo": "y+name",
         "line": {
          "color": "rgb(3,246,19)",
          "width": 10
         },
         "mode": "lines",
         "name": "unloading:Carrier B",
         "type": "scatter",
         "x": [
          "1970-01-01T02:23:32",
          "1970-01-01T02:23:32",
          "1970-01-01T02:57:59",
          "1970-01-01T02:57:59",
          "1970-01-01T02:57:59",
          "1970-01-01T04:53:32",
          "1970-01-01T04:53:32",
          "1970-01-01T05:27:59",
          "1970-01-01T05:27:59",
          "1970-01-01T05:27:59",
          "1970-01-01T07:56:45",
          "1970-01-01T07:56:45",
          "1970-01-01T08:31:12",
          "1970-01-01T08:31:12",
          "1970-01-01T08:31:12",
          "1970-01-01T10:59:58",
          "1970-01-01T10:59:58",
          "1970-01-01T11:34:25",
          "1970-01-01T11:34:25",
          "1970-01-01T11:34:25",
          "1970-01-01T14:03:11",
          "1970-01-01T14:03:11",
          "1970-01-01T14:37:38",
          "1970-01-01T14:37:38",
          "1970-01-01T14:37:38",
          "1970-01-01T17:06:24",
          "1970-01-01T17:06:24",
          "1970-01-01T17:40:51",
          "1970-01-01T17:40:51",
          "1970-01-01T17:40:51",
          "1970-01-01T02:23:32",
          "1970-01-01T02:23:32",
          "1970-01-01T02:57:59",
          "1970-01-01T02:57:59",
          "1970-01-01T02:57:59",
          "1970-01-01T04:53:32",
          "1970-01-01T04:53:32",
          "1970-01-01T05:27:59",
          "1970-01-01T05:27:59",
          "1970-01-01T05:27:59",
          "1970-01-01T07:56:45",
          "1970-01-01T07:56:45",
          "1970-01-01T08:31:12",
          "1970-01-01T08:31:12",
          "1970-01-01T08:31:12",
          "1970-01-01T10:59:58",
          "1970-01-01T10:59:58",
          "1970-01-01T11:34:25",
          "1970-01-01T11:34:25",
          "1970-01-01T11:34:25",
          "1970-01-01T14:03:11",
          "1970-01-01T14:03:11",
          "1970-01-01T14:37:38",
          "1970-01-01T14:37:38",
          "1970-01-01T14:37:38",
          "1970-01-01T17:06:24",
          "1970-01-01T17:06:24",
          "1970-01-01T17:40:51",
          "1970-01-01T17:40:51",
          "1970-01-01T17:40:51"
         ],
         "y": [
          "Carrier B",
          "Carrier B",
          "Carrier B",
          "Carrier B",
          null,
          "Carrier B",
          "Carrier B",
          "Carrier B",
          "Carrier B",
          null,
          "Carrier B",
          "Carrier B",
          "Carrier B",
          "Carrier B",
          null,
          "Carrier B",
          "Carrier B",
          "Carrier B",
          "Carrier B",
          null,
          "Carrier B",
          "Carrier B",
          "Carrier B",
          "Carrier B",
          null,
          "Carrier B",
          "Carrier B",
          "Carrier B",
          "Carrier B",
          null,
          "Reclamation",
          "Reclamation",
          "Reclamation",
          "Reclamation",
          null,
          "Reclamation",
          "Reclamation",
          "Reclamation",
          "Reclamation",
          null,
          "Reclamation",
          "Reclamation",
          "Reclamation",
          "Reclamation",
          null,
          "Reclamation",
          "Reclamation",
          "Reclamation",
          "Reclamation",
          null,
          "Reclamation",
          "Reclamation",
          "Reclamation",
          "Reclamation",
          null,
          "Reclamation",
          "Reclamation",
          "Reclamation",
          "Reclamation",
          null
         ]
        },
        {
         "connectgaps": false,
         "hoverinfo": "y+name",
         "line": {
          "color": "rgb(12,255,28)",
          "width": 10
         },
         "mode": "lines",
         "name": "loading:Carrier B",
         "type": "scatter",
         "x": [
          "1970-01-01T01:15:45",
          "1970-01-01T01:15:45",
          "1970-01-01T01:49:05",
          "1970-01-01T01:49:05",
          "1970-01-01T01:49:05",
          "1970-01-01T03:45:45",
          "1970-01-01T03:45:45",
          "1970-01-01T04:19:05",
          "1970-01-01T04:19:05",
          "1970-01-01T04:19:05",
          "1970-01-01T06:48:58",
          "1970-01-01T06:48:58",
          "1970-01-01T07:22:18",
          "1970-01-01T07:22:18",
          "1970-01-01T07:22:18",
          "1970-01-01T09:52:11",
          "1970-01-01T09:52:11",
          "1970-01-01T10:25:31",
          "1970-01-01T10:25:31",
          "1970-01-01T10:25:31",
          "1970-01-01T12:55:24",
          "1970-01-01T12:55:24",
          "1970-01-01T13:28:44",
          "1970-01-01T13:28:44",
          "1970-01-01T13:28:44",
          "1970-01-01T15:58:37",
          "1970-01-01T15:58:37",
          "1970-01-01T16:31:57",
          "1970-01-01T16:31:57",
          "1970-01-01T16:31:57",
          "1970-01-01T01:15:45",
          "1970-01-01T01:15:45",
          "1970-01-01T01:49:05",
          "1970-01-01T01:49:05",
          "1970-01-01T01:49:05",
          "1970-01-01T03:45:45",
          "1970-01-01T03:45:45",
          "1970-01-01T04:19:05",
          "1970-01-01T04:19:05",
          "1970-01-01T04:19:05",
          "1970-01-01T06:48:58",
          "1970-01-01T06:48:58",
          "1970-01-01T07:22:18",
          "1970-01-01T07:22:18",
          "1970-01-01T07:22:18",
          "1970-01-01T09:52:11",
          "1970-01-01T09:52:11",
          "1970-01-01T10:25:31",
          "1970-01-01T10:25:31",
          "1970-01-01T10:25:31",
          "1970-01-01T12:55:24",
          "1970-01-01T12:55:24",
          "1970-01-01T13:28:44",
          "1970-01-01T13:28:44",
          "1970-01-01T13:28:44",
          "1970-01-01T15:58:37",
          "1970-01-01T15:58:37",
          "1970-01-01T16:31:57",
          "1970-01-01T16:31:57",
          "1970-01-01T16:31:57",
          "1970-01-01T01:15:45",
          "1970-01-01T01:15:45",
          "1970-01-01T01:49:05",
          "1970-01-01T01:49:05",
          "1970-01-01T01:49:05",
          "1970-01-01T03:45:45",
          "1970-01-01T03:45:45",
          "1970-01-01T04:19:05",
          "1970-01-01T04:19:05",
          "1970-01-01T04:19:05",
          "1970-01-01T06:48:58",
          "1970-01-01T06:48:58",
          "1970-01-01T07:22:18",
          "1970-01-01T07:22:18",
          "1970-01-01T07:22:18",
          "1970-01-01T09:52:11",
          "1970-01-01T09:52:11",
          "1970-01-01T10:25:31",
          "1970-01-01T10:25:31",
          "1970-01-01T10:25:31",
          "1970-01-01T12:55:24",
          "1970-01-01T12:55:24",
          "1970-01-01T13:28:44",
          "1970-01-01T13:28:44",
          "1970-01-01T13:28:44",
          "1970-01-01T15:58:37",
          "1970-01-01T15:58:37",
          "1970-01-01T16:31:57",
          "1970-01-01T16:31:57",
          "1970-01-01T16:31:57"
         ],
         "y": [
          "Carrier B",
          "Carrier B",
          "Carrier B",
          "Carrier B",
          null,
          "Carrier B",
          "Carrier B",
          "Carrier B",
          "Carrier B",
          null,
          "Carrier B",
          "Carrier B",
          "Carrier B",
          "Carrier B",
          null,
          "Carrier B",
          "Carrier B",
          "Carrier B",
          "Carrier B",
          null,
          "Carrier B",
          "Carrier B",
          "Carrier B",
          "Carrier B",
          null,
          "Carrier B",
          "Carrier B",
          "Carrier B",
          "Carrier B",
          null,
          "Cutter T",
          "Cutter T",
          "Cutter T",
          "Cutter T",
          null,
          "Cutter T",
          "Cutter T",
          "Cutter T",
          "Cutter T",
          null,
          "Cutter T",
          "Cutter T",
          "Cutter T",
          "Cutter T",
          null,
          "Cutter T",
          "Cutter T",
          "Cutter T",
          "Cutter T",
          null,
          "Cutter T",
          "Cutter T",
          "Cutter T",
          "Cutter T",
          null,
          "Cutter T",
          "Cutter T",
          "Cutter T",
          "Cutter T",
          null,
          "Trench",
          "Trench",
          "Trench",
          "Trench",
          null,
          "Trench",
          "Trench",
          "Trench",
          "Trench",
          null,
          "Trench",
          "Trench",
          "Trench",
          "Trench",
          null,
          "Trench",
          "Trench",
          "Trench",
          "Trench",
          null,
          "Trench",
          "Trench",
          "Trench",
          "Trench",
          null,
          "Trench",
          "Trench",
          "Trench",
          "Trench",
          null
         ]
        },
        {
         "connectgaps": false,
         "hoverinfo": "y+name",
         "line": {
          "color": "rgb(21,8,37)",
          "width": 10
         },
         "mode": "lines",
         "name": "sailing empty:Carrier B",
         "type": "scatter",
         "x": [
          "1970-01-01T00:00:00",
          "1970-01-01T00:00:00",
          "1970-01-01T00:34:27",
          "1970-01-01T00:34:27",
          "1970-01-01T00:34:27",
          "1970-01-01T02:57:59",
          "1970-01-01T02:57:59",
          "1970-01-01T03:32:26",
          "1970-01-01T03:32:26",
          "1970-01-01T03:32:26",
          "1970-01-01T05:27:59",
          "1970-01-01T05:27:59",
          "1970-01-01T06:02:26",
          "1970-01-01T06:02:26",
          "1970-01-01T06:02:26",
          "1970-01-01T08:31:12",
          "1970-01-01T08:31:12",
          "1970-01-01T09:05:39",
          "1970-01-01T09:05:39",
          "1970-01-01T09:05:39",
          "1970-01-01T11:34:25",
          "1970-01-01T11:34:25",
          "1970-01-01T12:08:52",
          "1970-01-01T12:08:52",
          "1970-01-01T12:08:52",
          "1970-01-01T14:37:38",
          "1970-01-01T14:37:38",
          "1970-01-01T15:12:05",
          "1970-01-01T15:12:05",
          "1970-01-01T15:12:05"
         ],
         "y": [
          "Carrier B",
          "Carrier B",
          "Carrier B",
          "Carrier B",
          null,
          "Carrier B",
          "Carrier B",
          "Carrier B",
          "Carrier B",
          null,
          "Carrier B",
          "Carrier B",
          "Carrier B",
          "Carrier B",
          null,
          "Carrier B",
          "Carrier B",
          "Carrier B",
          "Carrier B",
          null,
          "Carrier B",
          "Carrier B",
          "Carrier B",
          "Carrier B",
          null,
          "Carrier B",
          "Carrier B",
          "Carrier B",
          "Carrier B",
          null
         ]
        },
        {
         "connectgaps": false,
         "hoverinfo": "y+name",
         "line": {
          "color": "rgb(30,17,46)",
          "width": 10
         },
         "mode": "lines",
         "name": "sailing full:Carrier B",
         "type": "scatter",
         "x": [
          "1970-01-01T01:49:05",
          "1970-01-01T01:49:05",
          "1970-01-01T02:23:32",
          "1970-01-01T02:23:32",
          "1970-01-01T02:23:32",
          "1970-01-01T04:19:05",
          "1970-01-01T04:19:05",
          "1970-01-01T04:53:32",
          "1970-01-01T04:53:32",
          "1970-01-01T04:53:32",
          "1970-01-01T07:22:18",
          "1970-01-01T07:22:18",
          "1970-01-01T07:56:45",
          "1970-01-01T07:56:45",
          "1970-01-01T07:56:45",
          "1970-01-01T10:25:31",
          "1970-01-01T10:25:31",
          "1970-01-01T10:59:58",
          "1970-01-01T10:59:58",
          "1970-01-01T10:59:58",
          "1970-01-01T13:28:44",
          "1970-01-01T13:28:44",
          "1970-01-01T14:03:11",
          "1970-01-01T14:03:11",
          "1970-01-01T14:03:11",
          "1970-01-01T16:31:57",
          "1970-01-01T16:31:57",
          "1970-01-01T17:06:24",
          "1970-01-01T17:06:24",
          "1970-01-01T17:06:24"
         ],
         "y": [
          "Carrier B",
          "Carrier B",
          "Carrier B",
          "Carrier B",
          null,
          "Carrier B",
          "Carrier B",
          "Carrier B",
          "Carrier B",
          null,
          "Carrier B",
          "Carrier B",
          "Carrier B",
          "Carrier B",
          null,
          "Carrier B",
          "Carrier B",
          "Carrier B",
          "Carrier B",
          null,
          "Carrier B",
          "Carrier B",
          "Carrier B",
          "Carrier B",
          null,
          "Carrier B",
          "Carrier B",
          "Carrier B",
          "Carrier B",
          null
         ]
        },
        {
         "connectgaps": false,
         "hoverinfo": "y+name",
         "line": {
          "color": "rgb(39,26,55)",
          "width": 10
         },
         "mode": "lines",
         "name": "loading:Carrier C",
         "type": "scatter",
         "x": [
          "1970-01-01T02:22:25",
          "1970-01-01T02:22:25",
          "1970-01-01T03:04:05",
          "1970-01-01T03:04:05",
          "1970-01-01T03:04:05",
          "1970-01-01T05:25:38",
          "1970-01-01T05:25:38",
          "1970-01-01T06:07:18",
          "1970-01-01T06:07:18",
          "1970-01-01T06:07:18",
          "1970-01-01T08:28:51",
          "1970-01-01T08:28:51",
          "1970-01-01T09:10:31",
          "1970-01-01T09:10:31",
          "1970-01-01T09:10:31",
          "1970-01-01T11:32:04",
          "1970-01-01T11:32:04",
          "1970-01-01T12:13:44",
          "1970-01-01T12:13:44",
          "1970-01-01T12:13:44",
          "1970-01-01T14:35:17",
          "1970-01-01T14:35:17",
          "1970-01-01T15:16:57",
          "1970-01-01T15:16:57",
          "1970-01-01T15:16:57",
          "1970-01-01T02:22:25",
          "1970-01-01T02:22:25",
          "1970-01-01T03:04:05",
          "1970-01-01T03:04:05",
          "1970-01-01T03:04:05",
          "1970-01-01T05:25:38",
          "1970-01-01T05:25:38",
          "1970-01-01T06:07:18",
          "1970-01-01T06:07:18",
          "1970-01-01T06:07:18",
          "1970-01-01T08:28:51",
          "1970-01-01T08:28:51",
          "1970-01-01T09:10:31",
          "1970-01-01T09:10:31",
          "1970-01-01T09:10:31",
          "1970-01-01T11:32:04",
          "1970-01-01T11:32:04",
          "1970-01-01T12:13:44",
          "1970-01-01T12:13:44",
          "1970-01-01T12:13:44",
          "1970-01-01T14:35:17",
          "1970-01-01T14:35:17",
          "1970-01-01T15:16:57",
          "1970-01-01T15:16:57",
          "1970-01-01T15:16:57",
          "1970-01-01T02:22:25",
          "1970-01-01T02:22:25",
          "1970-01-01T03:04:05",
          "1970-01-01T03:04:05",
          "1970-01-01T03:04:05",
          "1970-01-01T05:25:38",
          "1970-01-01T05:25:38",
          "1970-01-01T06:07:18",
          "1970-01-01T06:07:18",
          "1970-01-01T06:07:18",
          "1970-01-01T08:28:51",
          "1970-01-01T08:28:51",
          "1970-01-01T09:10:31",
          "1970-01-01T09:10:31",
          "1970-01-01T09:10:31",
          "1970-01-01T11:32:04",
          "1970-01-01T11:32:04",
          "1970-01-01T12:13:44",
          "1970-01-01T12:13:44",
          "1970-01-01T12:13:44",
          "1970-01-01T14:35:17",
          "1970-01-01T14:35:17",
          "1970-01-01T15:16:57",
          "1970-01-01T15:16:57",
          "1970-01-01T15:16:57"
         ],
         "y": [
          "Carrier C",
          "Carrier C",
          "Carrier C",
          "Carrier C",
          null,
          "Carrier C",
          "Carrier C",
          "Carrier C",
          "Carrier C",
          null,
          "Carrier C",
          "Carrier C",
          "Carrier C",
          "Carrier C",
          null,
          "Carrier C",
          "Carrier C",
          "Carrier C",
          "Carrier C",
          null,
          "Carrier C",
          "Carrier C",
          "Carrier C",
          "Carrier C",
          null,
          "Cutter T",
          "Cutter T",
          "Cutter T",
          "Cutter T",
          null,
          "Cutter T",
          "Cutter T",
          "Cutter T",
          "Cutter T",
          null,
          "Cutter T",
          "Cutter T",
          "Cutter T",
          "Cutter T",
          null,
          "Cutter T",
          "Cutter T",
          "Cutter T",
          "Cutter T",
          null,
          "Cutter T",
          "Cutter T",
          "Cutter T",
          "Cutter T",
          null,
          "Trench",
          "Trench",
          "Trench",
          "Trench",
          null,
          "Trench",
          "Trench",
          "Trench",
          "Trench",
          null,
          "Trench",
          "Trench",
          "Trench",
          "Trench",
          null,
          "Trench",
          "Trench",
          "Trench",
          "Trench",
          null,
          "Trench",
          "Trench",
          "Trench",
          "Trench",
          null
         ]
        },
        {
         "connectgaps": false,
         "hoverinfo": "y+name",
         "line": {
          "color": "rgb(48,35,64)",
          "width": 10
         },
         "mode": "lines",
         "name": "unloading:Carrier C",
         "type": "scatter",
         "x": [
          "1970-01-01T03:51:16",
          "1970-01-01T03:51:16",
          "1970-01-01T04:38:27",
          "1970-01-01T04:38:27",
          "1970-01-01T04:38:27",
          "1970-01-01T06:54:29",
          "1970-01-01T06:54:29",
          "1970-01-01T07:41:40",
          "1970-01-01T07:41:40",
          "1970-01-01T07:41:40",
          "1970-01-01T09:57:42",
          "1970-01-01T09:57:42",
          "1970-01-01T10:44:53",
          "1970-01-01T10:44:53",
          "1970-01-01T10:44:53",
          "1970-01-01T13:00:55",
          "1970-01-01T13:00:55",
          "1970-01-01T13:48:06",
          "1970-01-01T13:48:06",
          "1970-01-01T13:48:06",
          "1970-01-01T16:04:08",
          "1970-01-01T16:04:08",
          "1970-01-01T16:51:19",
          "1970-01-01T16:51:19",
          "1970-01-01T16:51:19",
          "1970-01-01T03:51:16",
          "1970-01-01T03:51:16",
          "1970-01-01T04:38:27",
          "1970-01-01T04:38:27",
          "1970-01-01T04:38:27",
          "1970-01-01T06:54:29",
          "1970-01-01T06:54:29",
          "1970-01-01T07:41:40",
          "1970-01-01T07:41:40",
          "1970-01-01T07:41:40",
          "1970-01-01T09:57:42",
          "1970-01-01T09:57:42",
          "1970-01-01T10:44:53",
          "1970-01-01T10:44:53",
          "1970-01-01T10:44:53",
          "1970-01-01T13:00:55",
          "1970-01-01T13:00:55",
          "1970-01-01T13:48:06",
          "1970-01-01T13:48:06",
          "1970-01-01T13:48:06",
          "1970-01-01T16:04:08",
          "1970-01-01T16:04:08",
          "1970-01-01T16:51:19",
          "1970-01-01T16:51:19",
          "1970-01-01T16:51:19"
         ],
         "y": [
          "Carrier C",
          "Carrier C",
          "Carrier C",
          "Carrier C",
          null,
          "Carrier C",
          "Carrier C",
          "Carrier C",
          "Carrier C",
          null,
          "Carrier C",
          "Carrier C",
          "Carrier C",
          "Carrier C",
          null,
          "Carrier C",
          "Carrier C",
          "Carrier C",
          "Carrier C",
          null,
          "Carrier C",
          "Carrier C",
          "Carrier C",
          "Carrier C",
          null,
          "Reclamation",
          "Reclamation",
          "Reclamation",
          "Reclamation",
          null,
          "Reclamation",
          "Reclamation",
          "Reclamation",
          "Reclamation",
          null,
          "Reclamation",
          "Reclamation",
          "Reclamation",
          "Reclamation",
          null,
          "Reclamation",
          "Reclamation",
          "Reclamation",
          "Reclamation",
          null,
          "Reclamation",
          "Reclamation",
          "Reclamation",
          "Reclamation",
          null
         ]
        },
        {
         "connectgaps": false,
         "hoverinfo": "y+name",
         "line": {
          "color": "rgb(57,44,73)",
          "width": 10
         },
         "mode": "lines",
         "name": "sailing empty:Carrier C",
         "type": "scatter",
         "x": [
          "1970-01-01T00:00:00",
          "1970-01-01T00:00:00",
          "1970-01-01T00:47:11",
          "1970-01-01T00:47:11",
          "1970-01-01T00:47:11",
          "1970-01-01T04:38:27",
          "1970-01-01T04:38:27",
          "1970-01-01T05:25:38",
          "1970-01-01T05:25:38",
          "1970-01-01T05:25:38",
          "1970-01-01T07:41:40",
          "1970-01-01T07:41:40",
          "1970-01-01T08:28:51",
          "1970-01-01T08:28:51",
          "1970-01-01T08:28:51",
          "1970-01-01T10:44:53",
          "1970-01-01T10:44:53",
          "1970-01-01T11:32:04",
          "1970-01-01T11:32:04",
          "1970-01-01T11:32:04",
          "1970-01-01T13:48:06",
          "1970-01-01T13:48:06",
          "1970-01-01T14:35:17",
          "1970-01-01T14:35:17",
          "1970-01-01T14:35:17"
         ],
         "y": [
          "Carrier C",
          "Carrier C",
          "Carrier C",
          "Carrier C",
          null,
          "Carrier C",
          "Carrier C",
          "Carrier C",
          "Carrier C",
          null,
          "Carrier C",
          "Carrier C",
          "Carrier C",
          "Carrier C",
          null,
          "Carrier C",
          "Carrier C",
          "Carrier C",
          "Carrier C",
          null,
          "Carrier C",
          "Carrier C",
          "Carrier C",
          "Carrier C",
          null
         ]
        },
        {
         "connectgaps": false,
         "hoverinfo": "y+name",
         "line": {
          "color": "rgb(66,53,82)",
          "width": 10
         },
         "mode": "lines",
         "name": "sailing full:Carrier C",
         "type": "scatter",
         "x": [
          "1970-01-01T03:04:05",
          "1970-01-01T03:04:05",
          "1970-01-01T03:51:16",
          "1970-01-01T03:51:16",
          "1970-01-01T03:51:16",
          "1970-01-01T06:07:18",
          "1970-01-01T06:07:18",
          "1970-01-01T06:54:29",
          "1970-01-01T06:54:29",
          "1970-01-01T06:54:29",
          "1970-01-01T09:10:31",
          "1970-01-01T09:10:31",
          "1970-01-01T09:57:42",
          "1970-01-01T09:57:42",
          "1970-01-01T09:57:42",
          "1970-01-01T12:13:44",
          "1970-01-01T12:13:44",
          "1970-01-01T13:00:55",
          "1970-01-01T13:00:55",
          "1970-01-01T13:00:55",
          "1970-01-01T15:16:57",
          "1970-01-01T15:16:57",
          "1970-01-01T16:04:08",
          "1970-01-01T16:04:08",
          "1970-01-01T16:04:08"
         ],
         "y": [
          "Carrier C",
          "Carrier C",
          "Carrier C",
          "Carrier C",
          null,
          "Carrier C",
          "Carrier C",
          "Carrier C",
          "Carrier C",
          null,
          "Carrier C",
          "Carrier C",
          "Carrier C",
          "Carrier C",
          null,
          "Carrier C",
          "Carrier C",
          "Carrier C",
          "Carrier C",
          null,
          "Carrier C",
          "Carrier C",
          "Carrier C",
          "Carrier C",
          null
         ]
        },
        {
         "connectgaps": false,
         "hoverinfo": "y+name",
         "line": {
          "color": "rgb(75,62,91)",
          "width": 10
         },
         "mode": "lines",
         "name": "sailing empty:Barge I",
         "type": "scatter",
         "x": [
          "1970-01-01T00:00:00",
          "1970-01-01T00:00:00",
          "1970-01-01T00:34:05",
          "1970-01-01T00:34:05",
          "1970-01-01T00:34:05",
          "1970-01-01T02:23:55",
          "1970-01-01T02:23:55",
          "1970-01-01T02:58:00",
          "1970-01-01T02:58:00",
          "1970-01-01T02:58:00",
          "1970-01-01T04:53:55",
          "1970-01-01T04:53:55",
          "1970-01-01T05:28:00",
          "1970-01-01T05:28:00",
          "1970-01-01T05:28:00",
          "1970-01-01T07:57:08",
          "1970-01-01T07:57:08",
          "1970-01-01T08:31:13",
          "1970-01-01T08:31:13",
          "1970-01-01T08:31:13",
          "1970-01-01T11:00:21",
          "1970-01-01T11:00:21",
          "1970-01-01T11:34:26",
          "1970-01-01T11:34:26",
          "1970-01-01T11:34:26",
          "1970-01-01T14:03:34",
          "1970-01-01T14:03:34",
          "1970-01-01T14:37:39",
          "1970-01-01T14:37:39",
          "1970-01-01T14:37:39"
         ],
         "y": [
          "Barge I",
          "Barge I",
          "Barge I",
          "Barge I",
          null,
          "Barge I",
          "Barge I",
          "Barge I",
          "Barge I",
          null,
          "Barge I",
          "Barge I",
          "Barge I",
          "Barge I",
          null,
          "Barge I",
          "Barge I",
          "Barge I",
          "Barge I",
          null,
          "Barge I",
          "Barge I",
          "Barge I",
          "Barge I",
          null,
          "Barge I",
          "Barge I",
          "Barge I",
          "Barge I",
          null
         ]
        },
        {
         "connectgaps": false,
         "hoverinfo": "y+name",
         "line": {
          "color": "rgb(84,71,100)",
          "width": 10
         },
         "mode": "lines",
         "name": "loading:Barge I",
         "type": "scatter",
         "x": [
          "1970-01-01T00:34:05",
          "1970-01-01T00:34:05",
          "1970-01-01T01:15:45",
          "1970-01-01T01:15:45",
          "1970-01-01T01:15:45",
          "1970-01-01T03:04:05",
          "1970-01-01T03:04:05",
          "1970-01-01T03:45:45",
          "1970-01-01T03:45:45",
          "1970-01-01T03:45:45",
          "1970-01-01T06:07:18",
          "1970-01-01T06:07:18",
          "1970-01-01T06:48:58",
          "1970-01-01T06:48:58",
          "1970-01-01T06:48:58",
          "1970-01-01T09:10:31",
          "1970-01-01T09:10:31",
          "1970-01-01T09:52:11",
          "1970-01-01T09:52:11",
          "1970-01-01T09:52:11",
          "1970-01-01T12:13:44",
          "1970-01-01T12:13:44",
          "1970-01-01T12:55:24",
          "1970-01-01T12:55:24",
          "1970-01-01T12:55:24",
          "1970-01-01T15:16:57",
          "1970-01-01T15:16:57",
          "1970-01-01T15:58:37",
          "1970-01-01T15:58:37",
          "1970-01-01T15:58:37",
          "1970-01-01T00:34:05",
          "1970-01-01T00:34:05",
          "1970-01-01T01:15:45",
          "1970-01-01T01:15:45",
          "1970-01-01T01:15:45",
          "1970-01-01T03:04:05",
          "1970-01-01T03:04:05",
          "1970-01-01T03:45:45",
          "1970-01-01T03:45:45",
          "1970-01-01T03:45:45",
          "1970-01-01T06:07:18",
          "1970-01-01T06:07:18",
          "1970-01-01T06:48:58",
          "1970-01-01T06:48:58",
          "1970-01-01T06:48:58",
          "1970-01-01T09:10:31",
          "1970-01-01T09:10:31",
          "1970-01-01T09:52:11",
          "1970-01-01T09:52:11",
          "1970-01-01T09:52:11",
          "1970-01-01T12:13:44",
          "1970-01-01T12:13:44",
          "1970-01-01T12:55:24",
          "1970-01-01T12:55:24",
          "1970-01-01T12:55:24",
          "1970-01-01T15:16:57",
          "1970-01-01T15:16:57",
          "1970-01-01T15:58:37",
          "1970-01-01T15:58:37",
          "1970-01-01T15:58:37",
          "1970-01-01T00:34:05",
          "1970-01-01T00:34:05",
          "1970-01-01T01:15:45",
          "1970-01-01T01:15:45",
          "1970-01-01T01:15:45",
          "1970-01-01T03:04:05",
          "1970-01-01T03:04:05",
          "1970-01-01T03:45:45",
          "1970-01-01T03:45:45",
          "1970-01-01T03:45:45",
          "1970-01-01T06:07:18",
          "1970-01-01T06:07:18",
          "1970-01-01T06:48:58",
          "1970-01-01T06:48:58",
          "1970-01-01T06:48:58",
          "1970-01-01T09:10:31",
          "1970-01-01T09:10:31",
          "1970-01-01T09:52:11",
          "1970-01-01T09:52:11",
          "1970-01-01T09:52:11",
          "1970-01-01T12:13:44",
          "1970-01-01T12:13:44",
          "1970-01-01T12:55:24",
          "1970-01-01T12:55:24",
          "1970-01-01T12:55:24",
          "1970-01-01T15:16:57",
          "1970-01-01T15:16:57",
          "1970-01-01T15:58:37",
          "1970-01-01T15:58:37",
          "1970-01-01T15:58:37"
         ],
         "y": [
          "Barge I",
          "Barge I",
          "Barge I",
          "Barge I",
          null,
          "Barge I",
          "Barge I",
          "Barge I",
          "Barge I",
          null,
          "Barge I",
          "Barge I",
          "Barge I",
          "Barge I",
          null,
          "Barge I",
          "Barge I",
          "Barge I",
          "Barge I",
          null,
          "Barge I",
          "Barge I",
          "Barge I",
          "Barge I",
          null,
          "Barge I",
          "Barge I",
          "Barge I",
          "Barge I",
          null,
          "Cutter T",
          "Cutter T",
          "Cutter T",
          "Cutter T",
          null,
          "Cutter T",
          "Cutter T",
          "Cutter T",
          "Cutter T",
          null,
          "Cutter T",
          "Cutter T",
          "Cutter T",
          "Cutter T",
          null,
          "Cutter T",
          "Cutter T",
          "Cutter T",
          "Cutter T",
          null,
          "Cutter T",
          "Cutter T",
          "Cutter T",
          "Cutter T",
          null,
          "Cutter T",
          "Cutter T",
          "Cutter T",
          "Cutter T",
          null,
          "Trench",
          "Trench",
          "Trench",
          "Trench",
          null,
          "Trench",
          "Trench",
          "Trench",
          "Trench",
          null,
          "Trench",
          "Trench",
          "Trench",
          "Trench",
          null,
          "Trench",
          "Trench",
          "Trench",
          "Trench",
          null,
          "Trench",
          "Trench",
          "Trench",
          "Trench",
          null,
          "Trench",
          "Trench",
          "Trench",
          "Trench",
          null
         ]
        },
        {
         "connectgaps": false,
         "hoverinfo": "y+name",
         "line": {
          "color": "rgb(93,80,109)",
          "width": 10
         },
         "mode": "lines",
         "name": "sailing full:Barge I",
         "type": "scatter",
         "x": [
          "1970-01-01T01:15:45",
          "1970-01-01T01:15:45",
          "1970-01-01T01:49:50",
          "1970-01-01T01:49:50",
          "1970-01-01T01:49:50",
          "1970-01-01T03:45:45",
          "1970-01-01T03:45:45",
          "1970-01-01T04:19:50",
          "1970-01-01T04:19:50",
          "1970-01-01T04:19:50",
          "1970-01-01T06:48:58",
          "1970-01-01T06:48:58",
          "1970-01-01T07:23:03",
          "1970-01-01T07:23:03",
          "1970-01-01T07:23:03",
          "1970-01-01T09:52:11",
          "1970-01-01T09:52:11",
          "1970-01-01T10:26:16",
          "1970-01-01T10:26:16",
          "1970-01-01T10:26:16",
          "1970-01-01T12:55:24",
          "1970-01-01T12:55:24",
          "1970-01-01T13:29:29",
          "1970-01-01T13:29:29",
          "1970-01-01T13:29:29",
          "1970-01-01T15:58:37",
          "1970-01-01T15:58:37",
          "1970-01-01T16:32:42",
          "1970-01-01T16:32:42",
          "1970-01-01T16:32:42"
         ],
         "y": [
          "Barge I",
          "Barge I",
          "Barge I",
          "Barge I",
          null,
          "Barge I",
          "Barge I",
          "Barge I",
          "Barge I",
          null,
          "Barge I",
          "Barge I",
          "Barge I",
          "Barge I",
          null,
          "Barge I",
          "Barge I",
          "Barge I",
          "Barge I",
          null,
          "Barge I",
          "Barge I",
          "Barge I",
          "Barge I",
          null,
          "Barge I",
          "Barge I",
          "Barge I",
          "Barge I",
          null
         ]
        },
        {
         "connectgaps": false,
         "hoverinfo": "y+name",
         "line": {
          "color": "rgb(102,89,118)",
          "width": 10
         },
         "mode": "lines",
         "name": "unloading:Barge I",
         "type": "scatter",
         "x": [
          "1970-01-01T01:49:50",
          "1970-01-01T01:49:50",
          "1970-01-01T02:23:55",
          "1970-01-01T02:23:55",
          "1970-01-01T02:23:55",
          "1970-01-01T04:19:50",
          "1970-01-01T04:19:50",
          "1970-01-01T04:53:55",
          "1970-01-01T04:53:55",
          "1970-01-01T04:53:55",
          "1970-01-01T07:23:03",
          "1970-01-01T07:23:03",
          "1970-01-01T07:57:08",
          "1970-01-01T07:57:08",
          "1970-01-01T07:57:08",
          "1970-01-01T10:26:16",
          "1970-01-01T10:26:16",
          "1970-01-01T11:00:21",
          "1970-01-01T11:00:21",
          "1970-01-01T11:00:21",
          "1970-01-01T13:29:29",
          "1970-01-01T13:29:29",
          "1970-01-01T14:03:34",
          "1970-01-01T14:03:34",
          "1970-01-01T14:03:34",
          "1970-01-01T16:32:42",
          "1970-01-01T16:32:42",
          "1970-01-01T17:06:47",
          "1970-01-01T17:06:47",
          "1970-01-01T17:06:47",
          "1970-01-01T01:49:50",
          "1970-01-01T01:49:50",
          "1970-01-01T02:23:55",
          "1970-01-01T02:23:55",
          "1970-01-01T02:23:55",
          "1970-01-01T04:19:50",
          "1970-01-01T04:19:50",
          "1970-01-01T04:53:55",
          "1970-01-01T04:53:55",
          "1970-01-01T04:53:55",
          "1970-01-01T07:23:03",
          "1970-01-01T07:23:03",
          "1970-01-01T07:57:08",
          "1970-01-01T07:57:08",
          "1970-01-01T07:57:08",
          "1970-01-01T10:26:16",
          "1970-01-01T10:26:16",
          "1970-01-01T11:00:21",
          "1970-01-01T11:00:21",
          "1970-01-01T11:00:21",
          "1970-01-01T13:29:29",
          "1970-01-01T13:29:29",
          "1970-01-01T14:03:34",
          "1970-01-01T14:03:34",
          "1970-01-01T14:03:34",
          "1970-01-01T16:32:42",
          "1970-01-01T16:32:42",
          "1970-01-01T17:06:47",
          "1970-01-01T17:06:47",
          "1970-01-01T17:06:47"
         ],
         "y": [
          "Barge I",
          "Barge I",
          "Barge I",
          "Barge I",
          null,
          "Barge I",
          "Barge I",
          "Barge I",
          "Barge I",
          null,
          "Barge I",
          "Barge I",
          "Barge I",
          "Barge I",
          null,
          "Barge I",
          "Barge I",
          "Barge I",
          "Barge I",
          null,
          "Barge I",
          "Barge I",
          "Barge I",
          "Barge I",
          null,
          "Barge I",
          "Barge I",
          "Barge I",
          "Barge I",
          null,
          "Reclamation",
          "Reclamation",
          "Reclamation",
          "Reclamation",
          null,
          "Reclamation",
          "Reclamation",
          "Reclamation",
          "Reclamation",
          null,
          "Reclamation",
          "Reclamation",
          "Reclamation",
          "Reclamation",
          null,
          "Reclamation",
          "Reclamation",
          "Reclamation",
          "Reclamation",
          null,
          "Reclamation",
          "Reclamation",
          "Reclamation",
          "Reclamation",
          null,
          "Reclamation",
          "Reclamation",
          "Reclamation",
          "Reclamation",
          null
         ]
        },
        {
         "connectgaps": false,
         "hoverinfo": "y+name",
         "line": {
          "color": "rgb(111,98,127)",
          "width": 10
         },
         "mode": "lines",
         "name": "loading:Carrier A",
         "type": "scatter",
         "x": [
          "1970-01-01T01:49:05",
          "1970-01-01T01:49:05",
          "1970-01-01T02:22:25",
          "1970-01-01T02:22:25",
          "1970-01-01T02:22:25",
          "1970-01-01T04:24:49",
          "1970-01-01T04:24:49",
          "1970-01-01T04:58:09",
          "1970-01-01T04:58:09",
          "1970-01-01T04:58:09",
          "1970-01-01T07:22:18",
          "1970-01-01T07:22:18",
          "1970-01-01T07:55:38",
          "1970-01-01T07:55:38",
          "1970-01-01T07:55:38",
          "1970-01-01T10:25:31",
          "1970-01-01T10:25:31",
          "1970-01-01T10:58:51",
          "1970-01-01T10:58:51",
          "1970-01-01T10:58:51",
          "1970-01-01T13:28:44",
          "1970-01-01T13:28:44",
          "1970-01-01T14:02:04",
          "1970-01-01T14:02:04",
          "1970-01-01T14:02:04",
          "1970-01-01T16:31:57",
          "1970-01-01T16:31:57",
          "1970-01-01T17:05:17",
          "1970-01-01T17:05:17",
          "1970-01-01T17:05:17",
          "1970-01-01T01:49:05",
          "1970-01-01T01:49:05",
          "1970-01-01T02:22:25",
          "1970-01-01T02:22:25",
          "1970-01-01T02:22:25",
          "1970-01-01T04:24:49",
          "1970-01-01T04:24:49",
          "1970-01-01T04:58:09",
          "1970-01-01T04:58:09",
          "1970-01-01T04:58:09",
          "1970-01-01T07:22:18",
          "1970-01-01T07:22:18",
          "1970-01-01T07:55:38",
          "1970-01-01T07:55:38",
          "1970-01-01T07:55:38",
          "1970-01-01T10:25:31",
          "1970-01-01T10:25:31",
          "1970-01-01T10:58:51",
          "1970-01-01T10:58:51",
          "1970-01-01T10:58:51",
          "1970-01-01T13:28:44",
          "1970-01-01T13:28:44",
          "1970-01-01T14:02:04",
          "1970-01-01T14:02:04",
          "1970-01-01T14:02:04",
          "1970-01-01T16:31:57",
          "1970-01-01T16:31:57",
          "1970-01-01T17:05:17",
          "1970-01-01T17:05:17",
          "1970-01-01T17:05:17",
          "1970-01-01T01:49:05",
          "1970-01-01T01:49:05",
          "1970-01-01T02:22:25",
          "1970-01-01T02:22:25",
          "1970-01-01T02:22:25",
          "1970-01-01T04:24:49",
          "1970-01-01T04:24:49",
          "1970-01-01T04:58:09",
          "1970-01-01T04:58:09",
          "1970-01-01T04:58:09",
          "1970-01-01T07:22:18",
          "1970-01-01T07:22:18",
          "1970-01-01T07:55:38",
          "1970-01-01T07:55:38",
          "1970-01-01T07:55:38",
          "1970-01-01T10:25:31",
          "1970-01-01T10:25:31",
          "1970-01-01T10:58:51",
          "1970-01-01T10:58:51",
          "1970-01-01T10:58:51",
          "1970-01-01T13:28:44",
          "1970-01-01T13:28:44",
          "1970-01-01T14:02:04",
          "1970-01-01T14:02:04",
          "1970-01-01T14:02:04",
          "1970-01-01T16:31:57",
          "1970-01-01T16:31:57",
          "1970-01-01T17:05:17",
          "1970-01-01T17:05:17",
          "1970-01-01T17:05:17"
         ],
         "y": [
          "Carrier A",
          "Carrier A",
          "Carrier A",
          "Carrier A",
          null,
          "Carrier A",
          "Carrier A",
          "Carrier A",
          "Carrier A",
          null,
          "Carrier A",
          "Carrier A",
          "Carrier A",
          "Carrier A",
          null,
          "Carrier A",
          "Carrier A",
          "Carrier A",
          "Carrier A",
          null,
          "Carrier A",
          "Carrier A",
          "Carrier A",
          "Carrier A",
          null,
          "Carrier A",
          "Carrier A",
          "Carrier A",
          "Carrier A",
          null,
          "Cutter T",
          "Cutter T",
          "Cutter T",
          "Cutter T",
          null,
          "Cutter T",
          "Cutter T",
          "Cutter T",
          "Cutter T",
          null,
          "Cutter T",
          "Cutter T",
          "Cutter T",
          "Cutter T",
          null,
          "Cutter T",
          "Cutter T",
          "Cutter T",
          "Cutter T",
          null,
          "Cutter T",
          "Cutter T",
          "Cutter T",
          "Cutter T",
          null,
          "Cutter T",
          "Cutter T",
          "Cutter T",
          "Cutter T",
          null,
          "Trench",
          "Trench",
          "Trench",
          "Trench",
          null,
          "Trench",
          "Trench",
          "Trench",
          "Trench",
          null,
          "Trench",
          "Trench",
          "Trench",
          "Trench",
          null,
          "Trench",
          "Trench",
          "Trench",
          "Trench",
          null,
          "Trench",
          "Trench",
          "Trench",
          "Trench",
          null,
          "Trench",
          "Trench",
          "Trench",
          "Trench",
          null
         ]
        },
        {
         "connectgaps": false,
         "hoverinfo": "y+name",
         "line": {
          "color": "rgb(120,107,136)",
          "width": 10
         },
         "mode": "lines",
         "name": "loading:Carrier C",
         "type": "scatter",
         "x": [
          "1970-01-01T02:22:25",
          "1970-01-01T02:22:25",
          "1970-01-01T03:04:05",
          "1970-01-01T03:04:05",
          "1970-01-01T03:04:05",
          "1970-01-01T05:25:38",
          "1970-01-01T05:25:38",
          "1970-01-01T06:07:18",
          "1970-01-01T06:07:18",
          "1970-01-01T06:07:18",
          "1970-01-01T08:28:51",
          "1970-01-01T08:28:51",
          "1970-01-01T09:10:31",
          "1970-01-01T09:10:31",
          "1970-01-01T09:10:31",
          "1970-01-01T11:32:04",
          "1970-01-01T11:32:04",
          "1970-01-01T12:13:44",
          "1970-01-01T12:13:44",
          "1970-01-01T12:13:44",
          "1970-01-01T14:35:17",
          "1970-01-01T14:35:17",
          "1970-01-01T15:16:57",
          "1970-01-01T15:16:57",
          "1970-01-01T15:16:57",
          "1970-01-01T02:22:25",
          "1970-01-01T02:22:25",
          "1970-01-01T03:04:05",
          "1970-01-01T03:04:05",
          "1970-01-01T03:04:05",
          "1970-01-01T05:25:38",
          "1970-01-01T05:25:38",
          "1970-01-01T06:07:18",
          "1970-01-01T06:07:18",
          "1970-01-01T06:07:18",
          "1970-01-01T08:28:51",
          "1970-01-01T08:28:51",
          "1970-01-01T09:10:31",
          "1970-01-01T09:10:31",
          "1970-01-01T09:10:31",
          "1970-01-01T11:32:04",
          "1970-01-01T11:32:04",
          "1970-01-01T12:13:44",
          "1970-01-01T12:13:44",
          "1970-01-01T12:13:44",
          "1970-01-01T14:35:17",
          "1970-01-01T14:35:17",
          "1970-01-01T15:16:57",
          "1970-01-01T15:16:57",
          "1970-01-01T15:16:57",
          "1970-01-01T02:22:25",
          "1970-01-01T02:22:25",
          "1970-01-01T03:04:05",
          "1970-01-01T03:04:05",
          "1970-01-01T03:04:05",
          "1970-01-01T05:25:38",
          "1970-01-01T05:25:38",
          "1970-01-01T06:07:18",
          "1970-01-01T06:07:18",
          "1970-01-01T06:07:18",
          "1970-01-01T08:28:51",
          "1970-01-01T08:28:51",
          "1970-01-01T09:10:31",
          "1970-01-01T09:10:31",
          "1970-01-01T09:10:31",
          "1970-01-01T11:32:04",
          "1970-01-01T11:32:04",
          "1970-01-01T12:13:44",
          "1970-01-01T12:13:44",
          "1970-01-01T12:13:44",
          "1970-01-01T14:35:17",
          "1970-01-01T14:35:17",
          "1970-01-01T15:16:57",
          "1970-01-01T15:16:57",
          "1970-01-01T15:16:57"
         ],
         "y": [
          "Carrier C",
          "Carrier C",
          "Carrier C",
          "Carrier C",
          null,
          "Carrier C",
          "Carrier C",
          "Carrier C",
          "Carrier C",
          null,
          "Carrier C",
          "Carrier C",
          "Carrier C",
          "Carrier C",
          null,
          "Carrier C",
          "Carrier C",
          "Carrier C",
          "Carrier C",
          null,
          "Carrier C",
          "Carrier C",
          "Carrier C",
          "Carrier C",
          null,
          "Cutter T",
          "Cutter T",
          "Cutter T",
          "Cutter T",
          null,
          "Cutter T",
          "Cutter T",
          "Cutter T",
          "Cutter T",
          null,
          "Cutter T",
          "Cutter T",
          "Cutter T",
          "Cutter T",
          null,
          "Cutter T",
          "Cutter T",
          "Cutter T",
          "Cutter T",
          null,
          "Cutter T",
          "Cutter T",
          "Cutter T",
          "Cutter T",
          null,
          "Trench",
          "Trench",
          "Trench",
          "Trench",
          null,
          "Trench",
          "Trench",
          "Trench",
          "Trench",
          null,
          "Trench",
          "Trench",
          "Trench",
          "Trench",
          null,
          "Trench",
          "Trench",
          "Trench",
          "Trench",
          null,
          "Trench",
          "Trench",
          "Trench",
          "Trench",
          null
         ]
        },
        {
         "connectgaps": false,
         "hoverinfo": "y+name",
         "line": {
          "color": "rgb(129,116,145)",
          "width": 10
         },
         "mode": "lines",
         "name": "loading:Carrier B",
         "type": "scatter",
         "x": [
          "1970-01-01T01:15:45",
          "1970-01-01T01:15:45",
          "1970-01-01T01:49:05",
          "1970-01-01T01:49:05",
          "1970-01-01T01:49:05",
          "1970-01-01T03:45:45",
          "1970-01-01T03:45:45",
          "1970-01-01T04:19:05",
          "1970-01-01T04:19:05",
          "1970-01-01T04:19:05",
          "1970-01-01T06:48:58",
          "1970-01-01T06:48:58",
          "1970-01-01T07:22:18",
          "1970-01-01T07:22:18",
          "1970-01-01T07:22:18",
          "1970-01-01T09:52:11",
          "1970-01-01T09:52:11",
          "1970-01-01T10:25:31",
          "1970-01-01T10:25:31",
          "1970-01-01T10:25:31",
          "1970-01-01T12:55:24",
          "1970-01-01T12:55:24",
          "1970-01-01T13:28:44",
          "1970-01-01T13:28:44",
          "1970-01-01T13:28:44",
          "1970-01-01T15:58:37",
          "1970-01-01T15:58:37",
          "1970-01-01T16:31:57",
          "1970-01-01T16:31:57",
          "1970-01-01T16:31:57",
          "1970-01-01T01:15:45",
          "1970-01-01T01:15:45",
          "1970-01-01T01:49:05",
          "1970-01-01T01:49:05",
          "1970-01-01T01:49:05",
          "1970-01-01T03:45:45",
          "1970-01-01T03:45:45",
          "1970-01-01T04:19:05",
          "1970-01-01T04:19:05",
          "1970-01-01T04:19:05",
          "1970-01-01T06:48:58",
          "1970-01-01T06:48:58",
          "1970-01-01T07:22:18",
          "1970-01-01T07:22:18",
          "1970-01-01T07:22:18",
          "1970-01-01T09:52:11",
          "1970-01-01T09:52:11",
          "1970-01-01T10:25:31",
          "1970-01-01T10:25:31",
          "1970-01-01T10:25:31",
          "1970-01-01T12:55:24",
          "1970-01-01T12:55:24",
          "1970-01-01T13:28:44",
          "1970-01-01T13:28:44",
          "1970-01-01T13:28:44",
          "1970-01-01T15:58:37",
          "1970-01-01T15:58:37",
          "1970-01-01T16:31:57",
          "1970-01-01T16:31:57",
          "1970-01-01T16:31:57",
          "1970-01-01T01:15:45",
          "1970-01-01T01:15:45",
          "1970-01-01T01:49:05",
          "1970-01-01T01:49:05",
          "1970-01-01T01:49:05",
          "1970-01-01T03:45:45",
          "1970-01-01T03:45:45",
          "1970-01-01T04:19:05",
          "1970-01-01T04:19:05",
          "1970-01-01T04:19:05",
          "1970-01-01T06:48:58",
          "1970-01-01T06:48:58",
          "1970-01-01T07:22:18",
          "1970-01-01T07:22:18",
          "1970-01-01T07:22:18",
          "1970-01-01T09:52:11",
          "1970-01-01T09:52:11",
          "1970-01-01T10:25:31",
          "1970-01-01T10:25:31",
          "1970-01-01T10:25:31",
          "1970-01-01T12:55:24",
          "1970-01-01T12:55:24",
          "1970-01-01T13:28:44",
          "1970-01-01T13:28:44",
          "1970-01-01T13:28:44",
          "1970-01-01T15:58:37",
          "1970-01-01T15:58:37",
          "1970-01-01T16:31:57",
          "1970-01-01T16:31:57",
          "1970-01-01T16:31:57"
         ],
         "y": [
          "Carrier B",
          "Carrier B",
          "Carrier B",
          "Carrier B",
          null,
          "Carrier B",
          "Carrier B",
          "Carrier B",
          "Carrier B",
          null,
          "Carrier B",
          "Carrier B",
          "Carrier B",
          "Carrier B",
          null,
          "Carrier B",
          "Carrier B",
          "Carrier B",
          "Carrier B",
          null,
          "Carrier B",
          "Carrier B",
          "Carrier B",
          "Carrier B",
          null,
          "Carrier B",
          "Carrier B",
          "Carrier B",
          "Carrier B",
          null,
          "Cutter T",
          "Cutter T",
          "Cutter T",
          "Cutter T",
          null,
          "Cutter T",
          "Cutter T",
          "Cutter T",
          "Cutter T",
          null,
          "Cutter T",
          "Cutter T",
          "Cutter T",
          "Cutter T",
          null,
          "Cutter T",
          "Cutter T",
          "Cutter T",
          "Cutter T",
          null,
          "Cutter T",
          "Cutter T",
          "Cutter T",
          "Cutter T",
          null,
          "Cutter T",
          "Cutter T",
          "Cutter T",
          "Cutter T",
          null,
          "Trench",
          "Trench",
          "Trench",
          "Trench",
          null,
          "Trench",
          "Trench",
          "Trench",
          "Trench",
          null,
          "Trench",
          "Trench",
          "Trench",
          "Trench",
          null,
          "Trench",
          "Trench",
          "Trench",
          "Trench",
          null,
          "Trench",
          "Trench",
          "Trench",
          "Trench",
          null,
          "Trench",
          "Trench",
          "Trench",
          "Trench",
          null
         ]
        },
        {
         "connectgaps": false,
         "hoverinfo": "y+name",
         "line": {
          "color": "rgb(138,125,154)",
          "width": 10
         },
         "mode": "lines",
         "name": "loading:Barge I",
         "type": "scatter",
         "x": [
          "1970-01-01T00:34:05",
          "1970-01-01T00:34:05",
          "1970-01-01T01:15:45",
          "1970-01-01T01:15:45",
          "1970-01-01T01:15:45",
          "1970-01-01T03:04:05",
          "1970-01-01T03:04:05",
          "1970-01-01T03:45:45",
          "1970-01-01T03:45:45",
          "1970-01-01T03:45:45",
          "1970-01-01T06:07:18",
          "1970-01-01T06:07:18",
          "1970-01-01T06:48:58",
          "1970-01-01T06:48:58",
          "1970-01-01T06:48:58",
          "1970-01-01T09:10:31",
          "1970-01-01T09:10:31",
          "1970-01-01T09:52:11",
          "1970-01-01T09:52:11",
          "1970-01-01T09:52:11",
          "1970-01-01T12:13:44",
          "1970-01-01T12:13:44",
          "1970-01-01T12:55:24",
          "1970-01-01T12:55:24",
          "1970-01-01T12:55:24",
          "1970-01-01T15:16:57",
          "1970-01-01T15:16:57",
          "1970-01-01T15:58:37",
          "1970-01-01T15:58:37",
          "1970-01-01T15:58:37",
          "1970-01-01T00:34:05",
          "1970-01-01T00:34:05",
          "1970-01-01T01:15:45",
          "1970-01-01T01:15:45",
          "1970-01-01T01:15:45",
          "1970-01-01T03:04:05",
          "1970-01-01T03:04:05",
          "1970-01-01T03:45:45",
          "1970-01-01T03:45:45",
          "1970-01-01T03:45:45",
          "1970-01-01T06:07:18",
          "1970-01-01T06:07:18",
          "1970-01-01T06:48:58",
          "1970-01-01T06:48:58",
          "1970-01-01T06:48:58",
          "1970-01-01T09:10:31",
          "1970-01-01T09:10:31",
          "1970-01-01T09:52:11",
          "1970-01-01T09:52:11",
          "1970-01-01T09:52:11",
          "1970-01-01T12:13:44",
          "1970-01-01T12:13:44",
          "1970-01-01T12:55:24",
          "1970-01-01T12:55:24",
          "1970-01-01T12:55:24",
          "1970-01-01T15:16:57",
          "1970-01-01T15:16:57",
          "1970-01-01T15:58:37",
          "1970-01-01T15:58:37",
          "1970-01-01T15:58:37",
          "1970-01-01T00:34:05",
          "1970-01-01T00:34:05",
          "1970-01-01T01:15:45",
          "1970-01-01T01:15:45",
          "1970-01-01T01:15:45",
          "1970-01-01T03:04:05",
          "1970-01-01T03:04:05",
          "1970-01-01T03:45:45",
          "1970-01-01T03:45:45",
          "1970-01-01T03:45:45",
          "1970-01-01T06:07:18",
          "1970-01-01T06:07:18",
          "1970-01-01T06:48:58",
          "1970-01-01T06:48:58",
          "1970-01-01T06:48:58",
          "1970-01-01T09:10:31",
          "1970-01-01T09:10:31",
          "1970-01-01T09:52:11",
          "1970-01-01T09:52:11",
          "1970-01-01T09:52:11",
          "1970-01-01T12:13:44",
          "1970-01-01T12:13:44",
          "1970-01-01T12:55:24",
          "1970-01-01T12:55:24",
          "1970-01-01T12:55:24",
          "1970-01-01T15:16:57",
          "1970-01-01T15:16:57",
          "1970-01-01T15:58:37",
          "1970-01-01T15:58:37",
          "1970-01-01T15:58:37"
         ],
         "y": [
          "Barge I",
          "Barge I",
          "Barge I",
          "Barge I",
          null,
          "Barge I",
          "Barge I",
          "Barge I",
          "Barge I",
          null,
          "Barge I",
          "Barge I",
          "Barge I",
          "Barge I",
          null,
          "Barge I",
          "Barge I",
          "Barge I",
          "Barge I",
          null,
          "Barge I",
          "Barge I",
          "Barge I",
          "Barge I",
          null,
          "Barge I",
          "Barge I",
          "Barge I",
          "Barge I",
          null,
          "Cutter T",
          "Cutter T",
          "Cutter T",
          "Cutter T",
          null,
          "Cutter T",
          "Cutter T",
          "Cutter T",
          "Cutter T",
          null,
          "Cutter T",
          "Cutter T",
          "Cutter T",
          "Cutter T",
          null,
          "Cutter T",
          "Cutter T",
          "Cutter T",
          "Cutter T",
          null,
          "Cutter T",
          "Cutter T",
          "Cutter T",
          "Cutter T",
          null,
          "Cutter T",
          "Cutter T",
          "Cutter T",
          "Cutter T",
          null,
          "Trench",
          "Trench",
          "Trench",
          "Trench",
          null,
          "Trench",
          "Trench",
          "Trench",
          "Trench",
          null,
          "Trench",
          "Trench",
          "Trench",
          "Trench",
          null,
          "Trench",
          "Trench",
          "Trench",
          "Trench",
          null,
          "Trench",
          "Trench",
          "Trench",
          "Trench",
          null,
          "Trench",
          "Trench",
          "Trench",
          "Trench",
          null
         ]
        },
        {
         "connectgaps": false,
         "hoverinfo": "y+name",
         "line": {
          "color": "rgb(147,134,163)",
          "width": 10
         },
         "mode": "lines",
         "name": "loading:Carrier A",
         "type": "scatter",
         "x": [
          "1970-01-01T01:49:05",
          "1970-01-01T01:49:05",
          "1970-01-01T02:22:25",
          "1970-01-01T02:22:25",
          "1970-01-01T02:22:25",
          "1970-01-01T04:24:49",
          "1970-01-01T04:24:49",
          "1970-01-01T04:58:09",
          "1970-01-01T04:58:09",
          "1970-01-01T04:58:09",
          "1970-01-01T07:22:18",
          "1970-01-01T07:22:18",
          "1970-01-01T07:55:38",
          "1970-01-01T07:55:38",
          "1970-01-01T07:55:38",
          "1970-01-01T10:25:31",
          "1970-01-01T10:25:31",
          "1970-01-01T10:58:51",
          "1970-01-01T10:58:51",
          "1970-01-01T10:58:51",
          "1970-01-01T13:28:44",
          "1970-01-01T13:28:44",
          "1970-01-01T14:02:04",
          "1970-01-01T14:02:04",
          "1970-01-01T14:02:04",
          "1970-01-01T16:31:57",
          "1970-01-01T16:31:57",
          "1970-01-01T17:05:17",
          "1970-01-01T17:05:17",
          "1970-01-01T17:05:17",
          "1970-01-01T01:49:05",
          "1970-01-01T01:49:05",
          "1970-01-01T02:22:25",
          "1970-01-01T02:22:25",
          "1970-01-01T02:22:25",
          "1970-01-01T04:24:49",
          "1970-01-01T04:24:49",
          "1970-01-01T04:58:09",
          "1970-01-01T04:58:09",
          "1970-01-01T04:58:09",
          "1970-01-01T07:22:18",
          "1970-01-01T07:22:18",
          "1970-01-01T07:55:38",
          "1970-01-01T07:55:38",
          "1970-01-01T07:55:38",
          "1970-01-01T10:25:31",
          "1970-01-01T10:25:31",
          "1970-01-01T10:58:51",
          "1970-01-01T10:58:51",
          "1970-01-01T10:58:51",
          "1970-01-01T13:28:44",
          "1970-01-01T13:28:44",
          "1970-01-01T14:02:04",
          "1970-01-01T14:02:04",
          "1970-01-01T14:02:04",
          "1970-01-01T16:31:57",
          "1970-01-01T16:31:57",
          "1970-01-01T17:05:17",
          "1970-01-01T17:05:17",
          "1970-01-01T17:05:17",
          "1970-01-01T01:49:05",
          "1970-01-01T01:49:05",
          "1970-01-01T02:22:25",
          "1970-01-01T02:22:25",
          "1970-01-01T02:22:25",
          "1970-01-01T04:24:49",
          "1970-01-01T04:24:49",
          "1970-01-01T04:58:09",
          "1970-01-01T04:58:09",
          "1970-01-01T04:58:09",
          "1970-01-01T07:22:18",
          "1970-01-01T07:22:18",
          "1970-01-01T07:55:38",
          "1970-01-01T07:55:38",
          "1970-01-01T07:55:38",
          "1970-01-01T10:25:31",
          "1970-01-01T10:25:31",
          "1970-01-01T10:58:51",
          "1970-01-01T10:58:51",
          "1970-01-01T10:58:51",
          "1970-01-01T13:28:44",
          "1970-01-01T13:28:44",
          "1970-01-01T14:02:04",
          "1970-01-01T14:02:04",
          "1970-01-01T14:02:04",
          "1970-01-01T16:31:57",
          "1970-01-01T16:31:57",
          "1970-01-01T17:05:17",
          "1970-01-01T17:05:17",
          "1970-01-01T17:05:17"
         ],
         "y": [
          "Carrier A",
          "Carrier A",
          "Carrier A",
          "Carrier A",
          null,
          "Carrier A",
          "Carrier A",
          "Carrier A",
          "Carrier A",
          null,
          "Carrier A",
          "Carrier A",
          "Carrier A",
          "Carrier A",
          null,
          "Carrier A",
          "Carrier A",
          "Carrier A",
          "Carrier A",
          null,
          "Carrier A",
          "Carrier A",
          "Carrier A",
          "Carrier A",
          null,
          "Carrier A",
          "Carrier A",
          "Carrier A",
          "Carrier A",
          null,
          "Cutter T",
          "Cutter T",
          "Cutter T",
          "Cutter T",
          null,
          "Cutter T",
          "Cutter T",
          "Cutter T",
          "Cutter T",
          null,
          "Cutter T",
          "Cutter T",
          "Cutter T",
          "Cutter T",
          null,
          "Cutter T",
          "Cutter T",
          "Cutter T",
          "Cutter T",
          null,
          "Cutter T",
          "Cutter T",
          "Cutter T",
          "Cutter T",
          null,
          "Cutter T",
          "Cutter T",
          "Cutter T",
          "Cutter T",
          null,
          "Trench",
          "Trench",
          "Trench",
          "Trench",
          null,
          "Trench",
          "Trench",
          "Trench",
          "Trench",
          null,
          "Trench",
          "Trench",
          "Trench",
          "Trench",
          null,
          "Trench",
          "Trench",
          "Trench",
          "Trench",
          null,
          "Trench",
          "Trench",
          "Trench",
          "Trench",
          null,
          "Trench",
          "Trench",
          "Trench",
          "Trench",
          null
         ]
        },
        {
         "connectgaps": false,
         "hoverinfo": "y+name",
         "line": {
          "color": "rgb(156,143,172)",
          "width": 10
         },
         "mode": "lines",
         "name": "loading:Carrier C",
         "type": "scatter",
         "x": [
          "1970-01-01T02:22:25",
          "1970-01-01T02:22:25",
          "1970-01-01T03:04:05",
          "1970-01-01T03:04:05",
          "1970-01-01T03:04:05",
          "1970-01-01T05:25:38",
          "1970-01-01T05:25:38",
          "1970-01-01T06:07:18",
          "1970-01-01T06:07:18",
          "1970-01-01T06:07:18",
          "1970-01-01T08:28:51",
          "1970-01-01T08:28:51",
          "1970-01-01T09:10:31",
          "1970-01-01T09:10:31",
          "1970-01-01T09:10:31",
          "1970-01-01T11:32:04",
          "1970-01-01T11:32:04",
          "1970-01-01T12:13:44",
          "1970-01-01T12:13:44",
          "1970-01-01T12:13:44",
          "1970-01-01T14:35:17",
          "1970-01-01T14:35:17",
          "1970-01-01T15:16:57",
          "1970-01-01T15:16:57",
          "1970-01-01T15:16:57",
          "1970-01-01T02:22:25",
          "1970-01-01T02:22:25",
          "1970-01-01T03:04:05",
          "1970-01-01T03:04:05",
          "1970-01-01T03:04:05",
          "1970-01-01T05:25:38",
          "1970-01-01T05:25:38",
          "1970-01-01T06:07:18",
          "1970-01-01T06:07:18",
          "1970-01-01T06:07:18",
          "1970-01-01T08:28:51",
          "1970-01-01T08:28:51",
          "1970-01-01T09:10:31",
          "1970-01-01T09:10:31",
          "1970-01-01T09:10:31",
          "1970-01-01T11:32:04",
          "1970-01-01T11:32:04",
          "1970-01-01T12:13:44",
          "1970-01-01T12:13:44",
          "1970-01-01T12:13:44",
          "1970-01-01T14:35:17",
          "1970-01-01T14:35:17",
          "1970-01-01T15:16:57",
          "1970-01-01T15:16:57",
          "1970-01-01T15:16:57",
          "1970-01-01T02:22:25",
          "1970-01-01T02:22:25",
          "1970-01-01T03:04:05",
          "1970-01-01T03:04:05",
          "1970-01-01T03:04:05",
          "1970-01-01T05:25:38",
          "1970-01-01T05:25:38",
          "1970-01-01T06:07:18",
          "1970-01-01T06:07:18",
          "1970-01-01T06:07:18",
          "1970-01-01T08:28:51",
          "1970-01-01T08:28:51",
          "1970-01-01T09:10:31",
          "1970-01-01T09:10:31",
          "1970-01-01T09:10:31",
          "1970-01-01T11:32:04",
          "1970-01-01T11:32:04",
          "1970-01-01T12:13:44",
          "1970-01-01T12:13:44",
          "1970-01-01T12:13:44",
          "1970-01-01T14:35:17",
          "1970-01-01T14:35:17",
          "1970-01-01T15:16:57",
          "1970-01-01T15:16:57",
          "1970-01-01T15:16:57"
         ],
         "y": [
          "Carrier C",
          "Carrier C",
          "Carrier C",
          "Carrier C",
          null,
          "Carrier C",
          "Carrier C",
          "Carrier C",
          "Carrier C",
          null,
          "Carrier C",
          "Carrier C",
          "Carrier C",
          "Carrier C",
          null,
          "Carrier C",
          "Carrier C",
          "Carrier C",
          "Carrier C",
          null,
          "Carrier C",
          "Carrier C",
          "Carrier C",
          "Carrier C",
          null,
          "Cutter T",
          "Cutter T",
          "Cutter T",
          "Cutter T",
          null,
          "Cutter T",
          "Cutter T",
          "Cutter T",
          "Cutter T",
          null,
          "Cutter T",
          "Cutter T",
          "Cutter T",
          "Cutter T",
          null,
          "Cutter T",
          "Cutter T",
          "Cutter T",
          "Cutter T",
          null,
          "Cutter T",
          "Cutter T",
          "Cutter T",
          "Cutter T",
          null,
          "Trench",
          "Trench",
          "Trench",
          "Trench",
          null,
          "Trench",
          "Trench",
          "Trench",
          "Trench",
          null,
          "Trench",
          "Trench",
          "Trench",
          "Trench",
          null,
          "Trench",
          "Trench",
          "Trench",
          "Trench",
          null,
          "Trench",
          "Trench",
          "Trench",
          "Trench",
          null
         ]
        },
        {
         "connectgaps": false,
         "hoverinfo": "y+name",
         "line": {
          "color": "rgb(165,152,181)",
          "width": 10
         },
         "mode": "lines",
         "name": "loading:Carrier B",
         "type": "scatter",
         "x": [
          "1970-01-01T01:15:45",
          "1970-01-01T01:15:45",
          "1970-01-01T01:49:05",
          "1970-01-01T01:49:05",
          "1970-01-01T01:49:05",
          "1970-01-01T03:45:45",
          "1970-01-01T03:45:45",
          "1970-01-01T04:19:05",
          "1970-01-01T04:19:05",
          "1970-01-01T04:19:05",
          "1970-01-01T06:48:58",
          "1970-01-01T06:48:58",
          "1970-01-01T07:22:18",
          "1970-01-01T07:22:18",
          "1970-01-01T07:22:18",
          "1970-01-01T09:52:11",
          "1970-01-01T09:52:11",
          "1970-01-01T10:25:31",
          "1970-01-01T10:25:31",
          "1970-01-01T10:25:31",
          "1970-01-01T12:55:24",
          "1970-01-01T12:55:24",
          "1970-01-01T13:28:44",
          "1970-01-01T13:28:44",
          "1970-01-01T13:28:44",
          "1970-01-01T15:58:37",
          "1970-01-01T15:58:37",
          "1970-01-01T16:31:57",
          "1970-01-01T16:31:57",
          "1970-01-01T16:31:57",
          "1970-01-01T01:15:45",
          "1970-01-01T01:15:45",
          "1970-01-01T01:49:05",
          "1970-01-01T01:49:05",
          "1970-01-01T01:49:05",
          "1970-01-01T03:45:45",
          "1970-01-01T03:45:45",
          "1970-01-01T04:19:05",
          "1970-01-01T04:19:05",
          "1970-01-01T04:19:05",
          "1970-01-01T06:48:58",
          "1970-01-01T06:48:58",
          "1970-01-01T07:22:18",
          "1970-01-01T07:22:18",
          "1970-01-01T07:22:18",
          "1970-01-01T09:52:11",
          "1970-01-01T09:52:11",
          "1970-01-01T10:25:31",
          "1970-01-01T10:25:31",
          "1970-01-01T10:25:31",
          "1970-01-01T12:55:24",
          "1970-01-01T12:55:24",
          "1970-01-01T13:28:44",
          "1970-01-01T13:28:44",
          "1970-01-01T13:28:44",
          "1970-01-01T15:58:37",
          "1970-01-01T15:58:37",
          "1970-01-01T16:31:57",
          "1970-01-01T16:31:57",
          "1970-01-01T16:31:57",
          "1970-01-01T01:15:45",
          "1970-01-01T01:15:45",
          "1970-01-01T01:49:05",
          "1970-01-01T01:49:05",
          "1970-01-01T01:49:05",
          "1970-01-01T03:45:45",
          "1970-01-01T03:45:45",
          "1970-01-01T04:19:05",
          "1970-01-01T04:19:05",
          "1970-01-01T04:19:05",
          "1970-01-01T06:48:58",
          "1970-01-01T06:48:58",
          "1970-01-01T07:22:18",
          "1970-01-01T07:22:18",
          "1970-01-01T07:22:18",
          "1970-01-01T09:52:11",
          "1970-01-01T09:52:11",
          "1970-01-01T10:25:31",
          "1970-01-01T10:25:31",
          "1970-01-01T10:25:31",
          "1970-01-01T12:55:24",
          "1970-01-01T12:55:24",
          "1970-01-01T13:28:44",
          "1970-01-01T13:28:44",
          "1970-01-01T13:28:44",
          "1970-01-01T15:58:37",
          "1970-01-01T15:58:37",
          "1970-01-01T16:31:57",
          "1970-01-01T16:31:57",
          "1970-01-01T16:31:57"
         ],
         "y": [
          "Carrier B",
          "Carrier B",
          "Carrier B",
          "Carrier B",
          null,
          "Carrier B",
          "Carrier B",
          "Carrier B",
          "Carrier B",
          null,
          "Carrier B",
          "Carrier B",
          "Carrier B",
          "Carrier B",
          null,
          "Carrier B",
          "Carrier B",
          "Carrier B",
          "Carrier B",
          null,
          "Carrier B",
          "Carrier B",
          "Carrier B",
          "Carrier B",
          null,
          "Carrier B",
          "Carrier B",
          "Carrier B",
          "Carrier B",
          null,
          "Cutter T",
          "Cutter T",
          "Cutter T",
          "Cutter T",
          null,
          "Cutter T",
          "Cutter T",
          "Cutter T",
          "Cutter T",
          null,
          "Cutter T",
          "Cutter T",
          "Cutter T",
          "Cutter T",
          null,
          "Cutter T",
          "Cutter T",
          "Cutter T",
          "Cutter T",
          null,
          "Cutter T",
          "Cutter T",
          "Cutter T",
          "Cutter T",
          null,
          "Cutter T",
          "Cutter T",
          "Cutter T",
          "Cutter T",
          null,
          "Trench",
          "Trench",
          "Trench",
          "Trench",
          null,
          "Trench",
          "Trench",
          "Trench",
          "Trench",
          null,
          "Trench",
          "Trench",
          "Trench",
          "Trench",
          null,
          "Trench",
          "Trench",
          "Trench",
          "Trench",
          null,
          "Trench",
          "Trench",
          "Trench",
          "Trench",
          null,
          "Trench",
          "Trench",
          "Trench",
          "Trench",
          null
         ]
        },
        {
         "connectgaps": false,
         "hoverinfo": "y+name",
         "line": {
          "color": "rgb(174,161,190)",
          "width": 10
         },
         "mode": "lines",
         "name": "loading:Barge I",
         "type": "scatter",
         "x": [
          "1970-01-01T00:34:05",
          "1970-01-01T00:34:05",
          "1970-01-01T01:15:45",
          "1970-01-01T01:15:45",
          "1970-01-01T01:15:45",
          "1970-01-01T03:04:05",
          "1970-01-01T03:04:05",
          "1970-01-01T03:45:45",
          "1970-01-01T03:45:45",
          "1970-01-01T03:45:45",
          "1970-01-01T06:07:18",
          "1970-01-01T06:07:18",
          "1970-01-01T06:48:58",
          "1970-01-01T06:48:58",
          "1970-01-01T06:48:58",
          "1970-01-01T09:10:31",
          "1970-01-01T09:10:31",
          "1970-01-01T09:52:11",
          "1970-01-01T09:52:11",
          "1970-01-01T09:52:11",
          "1970-01-01T12:13:44",
          "1970-01-01T12:13:44",
          "1970-01-01T12:55:24",
          "1970-01-01T12:55:24",
          "1970-01-01T12:55:24",
          "1970-01-01T15:16:57",
          "1970-01-01T15:16:57",
          "1970-01-01T15:58:37",
          "1970-01-01T15:58:37",
          "1970-01-01T15:58:37",
          "1970-01-01T00:34:05",
          "1970-01-01T00:34:05",
          "1970-01-01T01:15:45",
          "1970-01-01T01:15:45",
          "1970-01-01T01:15:45",
          "1970-01-01T03:04:05",
          "1970-01-01T03:04:05",
          "1970-01-01T03:45:45",
          "1970-01-01T03:45:45",
          "1970-01-01T03:45:45",
          "1970-01-01T06:07:18",
          "1970-01-01T06:07:18",
          "1970-01-01T06:48:58",
          "1970-01-01T06:48:58",
          "1970-01-01T06:48:58",
          "1970-01-01T09:10:31",
          "1970-01-01T09:10:31",
          "1970-01-01T09:52:11",
          "1970-01-01T09:52:11",
          "1970-01-01T09:52:11",
          "1970-01-01T12:13:44",
          "1970-01-01T12:13:44",
          "1970-01-01T12:55:24",
          "1970-01-01T12:55:24",
          "1970-01-01T12:55:24",
          "1970-01-01T15:16:57",
          "1970-01-01T15:16:57",
          "1970-01-01T15:58:37",
          "1970-01-01T15:58:37",
          "1970-01-01T15:58:37",
          "1970-01-01T00:34:05",
          "1970-01-01T00:34:05",
          "1970-01-01T01:15:45",
          "1970-01-01T01:15:45",
          "1970-01-01T01:15:45",
          "1970-01-01T03:04:05",
          "1970-01-01T03:04:05",
          "1970-01-01T03:45:45",
          "1970-01-01T03:45:45",
          "1970-01-01T03:45:45",
          "1970-01-01T06:07:18",
          "1970-01-01T06:07:18",
          "1970-01-01T06:48:58",
          "1970-01-01T06:48:58",
          "1970-01-01T06:48:58",
          "1970-01-01T09:10:31",
          "1970-01-01T09:10:31",
          "1970-01-01T09:52:11",
          "1970-01-01T09:52:11",
          "1970-01-01T09:52:11",
          "1970-01-01T12:13:44",
          "1970-01-01T12:13:44",
          "1970-01-01T12:55:24",
          "1970-01-01T12:55:24",
          "1970-01-01T12:55:24",
          "1970-01-01T15:16:57",
          "1970-01-01T15:16:57",
          "1970-01-01T15:58:37",
          "1970-01-01T15:58:37",
          "1970-01-01T15:58:37"
         ],
         "y": [
          "Barge I",
          "Barge I",
          "Barge I",
          "Barge I",
          null,
          "Barge I",
          "Barge I",
          "Barge I",
          "Barge I",
          null,
          "Barge I",
          "Barge I",
          "Barge I",
          "Barge I",
          null,
          "Barge I",
          "Barge I",
          "Barge I",
          "Barge I",
          null,
          "Barge I",
          "Barge I",
          "Barge I",
          "Barge I",
          null,
          "Barge I",
          "Barge I",
          "Barge I",
          "Barge I",
          null,
          "Cutter T",
          "Cutter T",
          "Cutter T",
          "Cutter T",
          null,
          "Cutter T",
          "Cutter T",
          "Cutter T",
          "Cutter T",
          null,
          "Cutter T",
          "Cutter T",
          "Cutter T",
          "Cutter T",
          null,
          "Cutter T",
          "Cutter T",
          "Cutter T",
          "Cutter T",
          null,
          "Cutter T",
          "Cutter T",
          "Cutter T",
          "Cutter T",
          null,
          "Cutter T",
          "Cutter T",
          "Cutter T",
          "Cutter T",
          null,
          "Trench",
          "Trench",
          "Trench",
          "Trench",
          null,
          "Trench",
          "Trench",
          "Trench",
          "Trench",
          null,
          "Trench",
          "Trench",
          "Trench",
          "Trench",
          null,
          "Trench",
          "Trench",
          "Trench",
          "Trench",
          null,
          "Trench",
          "Trench",
          "Trench",
          "Trench",
          null,
          "Trench",
          "Trench",
          "Trench",
          "Trench",
          null
         ]
        },
        {
         "connectgaps": false,
         "hoverinfo": "y+name",
         "line": {
          "color": "rgb(183,170,199)",
          "width": 10
         },
         "mode": "lines",
         "name": "unloading:Carrier C",
         "type": "scatter",
         "x": [
          "1970-01-01T03:51:16",
          "1970-01-01T03:51:16",
          "1970-01-01T04:38:27",
          "1970-01-01T04:38:27",
          "1970-01-01T04:38:27",
          "1970-01-01T06:54:29",
          "1970-01-01T06:54:29",
          "1970-01-01T07:41:40",
          "1970-01-01T07:41:40",
          "1970-01-01T07:41:40",
          "1970-01-01T09:57:42",
          "1970-01-01T09:57:42",
          "1970-01-01T10:44:53",
          "1970-01-01T10:44:53",
          "1970-01-01T10:44:53",
          "1970-01-01T13:00:55",
          "1970-01-01T13:00:55",
          "1970-01-01T13:48:06",
          "1970-01-01T13:48:06",
          "1970-01-01T13:48:06",
          "1970-01-01T16:04:08",
          "1970-01-01T16:04:08",
          "1970-01-01T16:51:19",
          "1970-01-01T16:51:19",
          "1970-01-01T16:51:19",
          "1970-01-01T03:51:16",
          "1970-01-01T03:51:16",
          "1970-01-01T04:38:27",
          "1970-01-01T04:38:27",
          "1970-01-01T04:38:27",
          "1970-01-01T06:54:29",
          "1970-01-01T06:54:29",
          "1970-01-01T07:41:40",
          "1970-01-01T07:41:40",
          "1970-01-01T07:41:40",
          "1970-01-01T09:57:42",
          "1970-01-01T09:57:42",
          "1970-01-01T10:44:53",
          "1970-01-01T10:44:53",
          "1970-01-01T10:44:53",
          "1970-01-01T13:00:55",
          "1970-01-01T13:00:55",
          "1970-01-01T13:48:06",
          "1970-01-01T13:48:06",
          "1970-01-01T13:48:06",
          "1970-01-01T16:04:08",
          "1970-01-01T16:04:08",
          "1970-01-01T16:51:19",
          "1970-01-01T16:51:19",
          "1970-01-01T16:51:19"
         ],
         "y": [
          "Carrier C",
          "Carrier C",
          "Carrier C",
          "Carrier C",
          null,
          "Carrier C",
          "Carrier C",
          "Carrier C",
          "Carrier C",
          null,
          "Carrier C",
          "Carrier C",
          "Carrier C",
          "Carrier C",
          null,
          "Carrier C",
          "Carrier C",
          "Carrier C",
          "Carrier C",
          null,
          "Carrier C",
          "Carrier C",
          "Carrier C",
          "Carrier C",
          null,
          "Reclamation",
          "Reclamation",
          "Reclamation",
          "Reclamation",
          null,
          "Reclamation",
          "Reclamation",
          "Reclamation",
          "Reclamation",
          null,
          "Reclamation",
          "Reclamation",
          "Reclamation",
          "Reclamation",
          null,
          "Reclamation",
          "Reclamation",
          "Reclamation",
          "Reclamation",
          null,
          "Reclamation",
          "Reclamation",
          "Reclamation",
          "Reclamation",
          null
         ]
        },
        {
         "connectgaps": false,
         "hoverinfo": "y+name",
         "line": {
          "color": "rgb(192,179,208)",
          "width": 10
         },
         "mode": "lines",
         "name": "unloading:Carrier A",
         "type": "scatter",
         "x": [
          "1970-01-01T03:03:13",
          "1970-01-01T03:03:13",
          "1970-01-01T03:44:01",
          "1970-01-01T03:44:01",
          "1970-01-01T03:44:01",
          "1970-01-01T05:38:57",
          "1970-01-01T05:38:57",
          "1970-01-01T06:19:45",
          "1970-01-01T06:19:45",
          "1970-01-01T06:19:45",
          "1970-01-01T08:36:26",
          "1970-01-01T08:36:26",
          "1970-01-01T09:17:14",
          "1970-01-01T09:17:14",
          "1970-01-01T09:17:14",
          "1970-01-01T11:39:39",
          "1970-01-01T11:39:39",
          "1970-01-01T12:20:27",
          "1970-01-01T12:20:27",
          "1970-01-01T12:20:27",
          "1970-01-01T14:42:52",
          "1970-01-01T14:42:52",
          "1970-01-01T15:23:40",
          "1970-01-01T15:23:40",
          "1970-01-01T15:23:40",
          "1970-01-01T17:46:05",
          "1970-01-01T17:46:05",
          "1970-01-01T18:26:53",
          "1970-01-01T18:26:53",
          "1970-01-01T18:26:53",
          "1970-01-01T03:03:13",
          "1970-01-01T03:03:13",
          "1970-01-01T03:44:01",
          "1970-01-01T03:44:01",
          "1970-01-01T03:44:01",
          "1970-01-01T05:38:57",
          "1970-01-01T05:38:57",
          "1970-01-01T06:19:45",
          "1970-01-01T06:19:45",
          "1970-01-01T06:19:45",
          "1970-01-01T08:36:26",
          "1970-01-01T08:36:26",
          "1970-01-01T09:17:14",
          "1970-01-01T09:17:14",
          "1970-01-01T09:17:14",
          "1970-01-01T11:39:39",
          "1970-01-01T11:39:39",
          "1970-01-01T12:20:27",
          "1970-01-01T12:20:27",
          "1970-01-01T12:20:27",
          "1970-01-01T14:42:52",
          "1970-01-01T14:42:52",
          "1970-01-01T15:23:40",
          "1970-01-01T15:23:40",
          "1970-01-01T15:23:40",
          "1970-01-01T17:46:05",
          "1970-01-01T17:46:05",
          "1970-01-01T18:26:53",
          "1970-01-01T18:26:53",
          "1970-01-01T18:26:53"
         ],
         "y": [
          "Carrier A",
          "Carrier A",
          "Carrier A",
          "Carrier A",
          null,
          "Carrier A",
          "Carrier A",
          "Carrier A",
          "Carrier A",
          null,
          "Carrier A",
          "Carrier A",
          "Carrier A",
          "Carrier A",
          null,
          "Carrier A",
          "Carrier A",
          "Carrier A",
          "Carrier A",
          null,
          "Carrier A",
          "Carrier A",
          "Carrier A",
          "Carrier A",
          null,
          "Carrier A",
          "Carrier A",
          "Carrier A",
          "Carrier A",
          null,
          "Reclamation",
          "Reclamation",
          "Reclamation",
          "Reclamation",
          null,
          "Reclamation",
          "Reclamation",
          "Reclamation",
          "Reclamation",
          null,
          "Reclamation",
          "Reclamation",
          "Reclamation",
          "Reclamation",
          null,
          "Reclamation",
          "Reclamation",
          "Reclamation",
          "Reclamation",
          null,
          "Reclamation",
          "Reclamation",
          "Reclamation",
          "Reclamation",
          null,
          "Reclamation",
          "Reclamation",
          "Reclamation",
          "Reclamation",
          null
         ]
        },
        {
         "connectgaps": false,
         "hoverinfo": "y+name",
         "line": {
          "color": "rgb(201,188,217)",
          "width": 10
         },
         "mode": "lines",
         "name": "unloading:Carrier B",
         "type": "scatter",
         "x": [
          "1970-01-01T02:23:32",
          "1970-01-01T02:23:32",
          "1970-01-01T02:57:59",
          "1970-01-01T02:57:59",
          "1970-01-01T02:57:59",
          "1970-01-01T04:53:32",
          "1970-01-01T04:53:32",
          "1970-01-01T05:27:59",
          "1970-01-01T05:27:59",
          "1970-01-01T05:27:59",
          "1970-01-01T07:56:45",
          "1970-01-01T07:56:45",
          "1970-01-01T08:31:12",
          "1970-01-01T08:31:12",
          "1970-01-01T08:31:12",
          "1970-01-01T10:59:58",
          "1970-01-01T10:59:58",
          "1970-01-01T11:34:25",
          "1970-01-01T11:34:25",
          "1970-01-01T11:34:25",
          "1970-01-01T14:03:11",
          "1970-01-01T14:03:11",
          "1970-01-01T14:37:38",
          "1970-01-01T14:37:38",
          "1970-01-01T14:37:38",
          "1970-01-01T17:06:24",
          "1970-01-01T17:06:24",
          "1970-01-01T17:40:51",
          "1970-01-01T17:40:51",
          "1970-01-01T17:40:51",
          "1970-01-01T02:23:32",
          "1970-01-01T02:23:32",
          "1970-01-01T02:57:59",
          "1970-01-01T02:57:59",
          "1970-01-01T02:57:59",
          "1970-01-01T04:53:32",
          "1970-01-01T04:53:32",
          "1970-01-01T05:27:59",
          "1970-01-01T05:27:59",
          "1970-01-01T05:27:59",
          "1970-01-01T07:56:45",
          "1970-01-01T07:56:45",
          "1970-01-01T08:31:12",
          "1970-01-01T08:31:12",
          "1970-01-01T08:31:12",
          "1970-01-01T10:59:58",
          "1970-01-01T10:59:58",
          "1970-01-01T11:34:25",
          "1970-01-01T11:34:25",
          "1970-01-01T11:34:25",
          "1970-01-01T14:03:11",
          "1970-01-01T14:03:11",
          "1970-01-01T14:37:38",
          "1970-01-01T14:37:38",
          "1970-01-01T14:37:38",
          "1970-01-01T17:06:24",
          "1970-01-01T17:06:24",
          "1970-01-01T17:40:51",
          "1970-01-01T17:40:51",
          "1970-01-01T17:40:51"
         ],
         "y": [
          "Carrier B",
          "Carrier B",
          "Carrier B",
          "Carrier B",
          null,
          "Carrier B",
          "Carrier B",
          "Carrier B",
          "Carrier B",
          null,
          "Carrier B",
          "Carrier B",
          "Carrier B",
          "Carrier B",
          null,
          "Carrier B",
          "Carrier B",
          "Carrier B",
          "Carrier B",
          null,
          "Carrier B",
          "Carrier B",
          "Carrier B",
          "Carrier B",
          null,
          "Carrier B",
          "Carrier B",
          "Carrier B",
          "Carrier B",
          null,
          "Reclamation",
          "Reclamation",
          "Reclamation",
          "Reclamation",
          null,
          "Reclamation",
          "Reclamation",
          "Reclamation",
          "Reclamation",
          null,
          "Reclamation",
          "Reclamation",
          "Reclamation",
          "Reclamation",
          null,
          "Reclamation",
          "Reclamation",
          "Reclamation",
          "Reclamation",
          null,
          "Reclamation",
          "Reclamation",
          "Reclamation",
          "Reclamation",
          null,
          "Reclamation",
          "Reclamation",
          "Reclamation",
          "Reclamation",
          null
         ]
        },
        {
         "connectgaps": false,
         "hoverinfo": "y+name",
         "line": {
          "color": "rgb(210,197,226)",
          "width": 10
         },
         "mode": "lines",
         "name": "unloading:Barge I",
         "type": "scatter",
         "x": [
          "1970-01-01T01:49:50",
          "1970-01-01T01:49:50",
          "1970-01-01T02:23:55",
          "1970-01-01T02:23:55",
          "1970-01-01T02:23:55",
          "1970-01-01T04:19:50",
          "1970-01-01T04:19:50",
          "1970-01-01T04:53:55",
          "1970-01-01T04:53:55",
          "1970-01-01T04:53:55",
          "1970-01-01T07:23:03",
          "1970-01-01T07:23:03",
          "1970-01-01T07:57:08",
          "1970-01-01T07:57:08",
          "1970-01-01T07:57:08",
          "1970-01-01T10:26:16",
          "1970-01-01T10:26:16",
          "1970-01-01T11:00:21",
          "1970-01-01T11:00:21",
          "1970-01-01T11:00:21",
          "1970-01-01T13:29:29",
          "1970-01-01T13:29:29",
          "1970-01-01T14:03:34",
          "1970-01-01T14:03:34",
          "1970-01-01T14:03:34",
          "1970-01-01T16:32:42",
          "1970-01-01T16:32:42",
          "1970-01-01T17:06:47",
          "1970-01-01T17:06:47",
          "1970-01-01T17:06:47",
          "1970-01-01T01:49:50",
          "1970-01-01T01:49:50",
          "1970-01-01T02:23:55",
          "1970-01-01T02:23:55",
          "1970-01-01T02:23:55",
          "1970-01-01T04:19:50",
          "1970-01-01T04:19:50",
          "1970-01-01T04:53:55",
          "1970-01-01T04:53:55",
          "1970-01-01T04:53:55",
          "1970-01-01T07:23:03",
          "1970-01-01T07:23:03",
          "1970-01-01T07:57:08",
          "1970-01-01T07:57:08",
          "1970-01-01T07:57:08",
          "1970-01-01T10:26:16",
          "1970-01-01T10:26:16",
          "1970-01-01T11:00:21",
          "1970-01-01T11:00:21",
          "1970-01-01T11:00:21",
          "1970-01-01T13:29:29",
          "1970-01-01T13:29:29",
          "1970-01-01T14:03:34",
          "1970-01-01T14:03:34",
          "1970-01-01T14:03:34",
          "1970-01-01T16:32:42",
          "1970-01-01T16:32:42",
          "1970-01-01T17:06:47",
          "1970-01-01T17:06:47",
          "1970-01-01T17:06:47"
         ],
         "y": [
          "Barge I",
          "Barge I",
          "Barge I",
          "Barge I",
          null,
          "Barge I",
          "Barge I",
          "Barge I",
          "Barge I",
          null,
          "Barge I",
          "Barge I",
          "Barge I",
          "Barge I",
          null,
          "Barge I",
          "Barge I",
          "Barge I",
          "Barge I",
          null,
          "Barge I",
          "Barge I",
          "Barge I",
          "Barge I",
          null,
          "Barge I",
          "Barge I",
          "Barge I",
          "Barge I",
          null,
          "Reclamation",
          "Reclamation",
          "Reclamation",
          "Reclamation",
          null,
          "Reclamation",
          "Reclamation",
          "Reclamation",
          "Reclamation",
          null,
          "Reclamation",
          "Reclamation",
          "Reclamation",
          "Reclamation",
          null,
          "Reclamation",
          "Reclamation",
          "Reclamation",
          "Reclamation",
          null,
          "Reclamation",
          "Reclamation",
          "Reclamation",
          "Reclamation",
          null,
          "Reclamation",
          "Reclamation",
          "Reclamation",
          "Reclamation",
          null
         ]
        }
       ],
       "layout": {
        "hovermode": "closest",
        "legend": {
         "orientation": "h",
         "x": 0,
         "y": -0.2
        },
        "showlegend": false,
        "template": {
         "data": {
          "bar": [
           {
            "error_x": {
             "color": "#2a3f5f"
            },
            "error_y": {
             "color": "#2a3f5f"
            },
            "marker": {
             "line": {
              "color": "#E5ECF6",
              "width": 0.5
             },
             "pattern": {
              "fillmode": "overlay",
              "size": 10,
              "solidity": 0.2
             }
            },
            "type": "bar"
           }
          ],
          "barpolar": [
           {
            "marker": {
             "line": {
              "color": "#E5ECF6",
              "width": 0.5
             },
             "pattern": {
              "fillmode": "overlay",
              "size": 10,
              "solidity": 0.2
             }
            },
            "type": "barpolar"
           }
          ],
          "carpet": [
           {
            "aaxis": {
             "endlinecolor": "#2a3f5f",
             "gridcolor": "white",
             "linecolor": "white",
             "minorgridcolor": "white",
             "startlinecolor": "#2a3f5f"
            },
            "baxis": {
             "endlinecolor": "#2a3f5f",
             "gridcolor": "white",
             "linecolor": "white",
             "minorgridcolor": "white",
             "startlinecolor": "#2a3f5f"
            },
            "type": "carpet"
           }
          ],
          "choropleth": [
           {
            "colorbar": {
             "outlinewidth": 0,
             "ticks": ""
            },
            "type": "choropleth"
           }
          ],
          "contour": [
           {
            "colorbar": {
             "outlinewidth": 0,
             "ticks": ""
            },
            "colorscale": [
             [
              0,
              "#0d0887"
             ],
             [
              0.1111111111111111,
              "#46039f"
             ],
             [
              0.2222222222222222,
              "#7201a8"
             ],
             [
              0.3333333333333333,
              "#9c179e"
             ],
             [
              0.4444444444444444,
              "#bd3786"
             ],
             [
              0.5555555555555556,
              "#d8576b"
             ],
             [
              0.6666666666666666,
              "#ed7953"
             ],
             [
              0.7777777777777778,
              "#fb9f3a"
             ],
             [
              0.8888888888888888,
              "#fdca26"
             ],
             [
              1,
              "#f0f921"
             ]
            ],
            "type": "contour"
           }
          ],
          "contourcarpet": [
           {
            "colorbar": {
             "outlinewidth": 0,
             "ticks": ""
            },
            "type": "contourcarpet"
           }
          ],
          "heatmap": [
           {
            "colorbar": {
             "outlinewidth": 0,
             "ticks": ""
            },
            "colorscale": [
             [
              0,
              "#0d0887"
             ],
             [
              0.1111111111111111,
              "#46039f"
             ],
             [
              0.2222222222222222,
              "#7201a8"
             ],
             [
              0.3333333333333333,
              "#9c179e"
             ],
             [
              0.4444444444444444,
              "#bd3786"
             ],
             [
              0.5555555555555556,
              "#d8576b"
             ],
             [
              0.6666666666666666,
              "#ed7953"
             ],
             [
              0.7777777777777778,
              "#fb9f3a"
             ],
             [
              0.8888888888888888,
              "#fdca26"
             ],
             [
              1,
              "#f0f921"
             ]
            ],
            "type": "heatmap"
           }
          ],
          "heatmapgl": [
           {
            "colorbar": {
             "outlinewidth": 0,
             "ticks": ""
            },
            "colorscale": [
             [
              0,
              "#0d0887"
             ],
             [
              0.1111111111111111,
              "#46039f"
             ],
             [
              0.2222222222222222,
              "#7201a8"
             ],
             [
              0.3333333333333333,
              "#9c179e"
             ],
             [
              0.4444444444444444,
              "#bd3786"
             ],
             [
              0.5555555555555556,
              "#d8576b"
             ],
             [
              0.6666666666666666,
              "#ed7953"
             ],
             [
              0.7777777777777778,
              "#fb9f3a"
             ],
             [
              0.8888888888888888,
              "#fdca26"
             ],
             [
              1,
              "#f0f921"
             ]
            ],
            "type": "heatmapgl"
           }
          ],
          "histogram": [
           {
            "marker": {
             "pattern": {
              "fillmode": "overlay",
              "size": 10,
              "solidity": 0.2
             }
            },
            "type": "histogram"
           }
          ],
          "histogram2d": [
           {
            "colorbar": {
             "outlinewidth": 0,
             "ticks": ""
            },
            "colorscale": [
             [
              0,
              "#0d0887"
             ],
             [
              0.1111111111111111,
              "#46039f"
             ],
             [
              0.2222222222222222,
              "#7201a8"
             ],
             [
              0.3333333333333333,
              "#9c179e"
             ],
             [
              0.4444444444444444,
              "#bd3786"
             ],
             [
              0.5555555555555556,
              "#d8576b"
             ],
             [
              0.6666666666666666,
              "#ed7953"
             ],
             [
              0.7777777777777778,
              "#fb9f3a"
             ],
             [
              0.8888888888888888,
              "#fdca26"
             ],
             [
              1,
              "#f0f921"
             ]
            ],
            "type": "histogram2d"
           }
          ],
          "histogram2dcontour": [
           {
            "colorbar": {
             "outlinewidth": 0,
             "ticks": ""
            },
            "colorscale": [
             [
              0,
              "#0d0887"
             ],
             [
              0.1111111111111111,
              "#46039f"
             ],
             [
              0.2222222222222222,
              "#7201a8"
             ],
             [
              0.3333333333333333,
              "#9c179e"
             ],
             [
              0.4444444444444444,
              "#bd3786"
             ],
             [
              0.5555555555555556,
              "#d8576b"
             ],
             [
              0.6666666666666666,
              "#ed7953"
             ],
             [
              0.7777777777777778,
              "#fb9f3a"
             ],
             [
              0.8888888888888888,
              "#fdca26"
             ],
             [
              1,
              "#f0f921"
             ]
            ],
            "type": "histogram2dcontour"
           }
          ],
          "mesh3d": [
           {
            "colorbar": {
             "outlinewidth": 0,
             "ticks": ""
            },
            "type": "mesh3d"
           }
          ],
          "parcoords": [
           {
            "line": {
             "colorbar": {
              "outlinewidth": 0,
              "ticks": ""
             }
            },
            "type": "parcoords"
           }
          ],
          "pie": [
           {
            "automargin": true,
            "type": "pie"
           }
          ],
          "scatter": [
           {
            "fillpattern": {
             "fillmode": "overlay",
             "size": 10,
             "solidity": 0.2
            },
            "type": "scatter"
           }
          ],
          "scatter3d": [
           {
            "line": {
             "colorbar": {
              "outlinewidth": 0,
              "ticks": ""
             }
            },
            "marker": {
             "colorbar": {
              "outlinewidth": 0,
              "ticks": ""
             }
            },
            "type": "scatter3d"
           }
          ],
          "scattercarpet": [
           {
            "marker": {
             "colorbar": {
              "outlinewidth": 0,
              "ticks": ""
             }
            },
            "type": "scattercarpet"
           }
          ],
          "scattergeo": [
           {
            "marker": {
             "colorbar": {
              "outlinewidth": 0,
              "ticks": ""
             }
            },
            "type": "scattergeo"
           }
          ],
          "scattergl": [
           {
            "marker": {
             "colorbar": {
              "outlinewidth": 0,
              "ticks": ""
             }
            },
            "type": "scattergl"
           }
          ],
          "scattermapbox": [
           {
            "marker": {
             "colorbar": {
              "outlinewidth": 0,
              "ticks": ""
             }
            },
            "type": "scattermapbox"
           }
          ],
          "scatterpolar": [
           {
            "marker": {
             "colorbar": {
              "outlinewidth": 0,
              "ticks": ""
             }
            },
            "type": "scatterpolar"
           }
          ],
          "scatterpolargl": [
           {
            "marker": {
             "colorbar": {
              "outlinewidth": 0,
              "ticks": ""
             }
            },
            "type": "scatterpolargl"
           }
          ],
          "scatterternary": [
           {
            "marker": {
             "colorbar": {
              "outlinewidth": 0,
              "ticks": ""
             }
            },
            "type": "scatterternary"
           }
          ],
          "surface": [
           {
            "colorbar": {
             "outlinewidth": 0,
             "ticks": ""
            },
            "colorscale": [
             [
              0,
              "#0d0887"
             ],
             [
              0.1111111111111111,
              "#46039f"
             ],
             [
              0.2222222222222222,
              "#7201a8"
             ],
             [
              0.3333333333333333,
              "#9c179e"
             ],
             [
              0.4444444444444444,
              "#bd3786"
             ],
             [
              0.5555555555555556,
              "#d8576b"
             ],
             [
              0.6666666666666666,
              "#ed7953"
             ],
             [
              0.7777777777777778,
              "#fb9f3a"
             ],
             [
              0.8888888888888888,
              "#fdca26"
             ],
             [
              1,
              "#f0f921"
             ]
            ],
            "type": "surface"
           }
          ],
          "table": [
           {
            "cells": {
             "fill": {
              "color": "#EBF0F8"
             },
             "line": {
              "color": "white"
             }
            },
            "header": {
             "fill": {
              "color": "#C8D4E3"
             },
             "line": {
              "color": "white"
             }
            },
            "type": "table"
           }
          ]
         },
         "layout": {
          "annotationdefaults": {
           "arrowcolor": "#2a3f5f",
           "arrowhead": 0,
           "arrowwidth": 1
          },
          "autotypenumbers": "strict",
          "coloraxis": {
           "colorbar": {
            "outlinewidth": 0,
            "ticks": ""
           }
          },
          "colorscale": {
           "diverging": [
            [
             0,
             "#8e0152"
            ],
            [
             0.1,
             "#c51b7d"
            ],
            [
             0.2,
             "#de77ae"
            ],
            [
             0.3,
             "#f1b6da"
            ],
            [
             0.4,
             "#fde0ef"
            ],
            [
             0.5,
             "#f7f7f7"
            ],
            [
             0.6,
             "#e6f5d0"
            ],
            [
             0.7,
             "#b8e186"
            ],
            [
             0.8,
             "#7fbc41"
            ],
            [
             0.9,
             "#4d9221"
            ],
            [
             1,
             "#276419"
            ]
           ],
           "sequential": [
            [
             0,
             "#0d0887"
            ],
            [
             0.1111111111111111,
             "#46039f"
            ],
            [
             0.2222222222222222,
             "#7201a8"
            ],
            [
             0.3333333333333333,
             "#9c179e"
            ],
            [
             0.4444444444444444,
             "#bd3786"
            ],
            [
             0.5555555555555556,
             "#d8576b"
            ],
            [
             0.6666666666666666,
             "#ed7953"
            ],
            [
             0.7777777777777778,
             "#fb9f3a"
            ],
            [
             0.8888888888888888,
             "#fdca26"
            ],
            [
             1,
             "#f0f921"
            ]
           ],
           "sequentialminus": [
            [
             0,
             "#0d0887"
            ],
            [
             0.1111111111111111,
             "#46039f"
            ],
            [
             0.2222222222222222,
             "#7201a8"
            ],
            [
             0.3333333333333333,
             "#9c179e"
            ],
            [
             0.4444444444444444,
             "#bd3786"
            ],
            [
             0.5555555555555556,
             "#d8576b"
            ],
            [
             0.6666666666666666,
             "#ed7953"
            ],
            [
             0.7777777777777778,
             "#fb9f3a"
            ],
            [
             0.8888888888888888,
             "#fdca26"
            ],
            [
             1,
             "#f0f921"
            ]
           ]
          },
          "colorway": [
           "#636efa",
           "#EF553B",
           "#00cc96",
           "#ab63fa",
           "#FFA15A",
           "#19d3f3",
           "#FF6692",
           "#B6E880",
           "#FF97FF",
           "#FECB52"
          ],
          "font": {
           "color": "#2a3f5f"
          },
          "geo": {
           "bgcolor": "white",
           "lakecolor": "white",
           "landcolor": "#E5ECF6",
           "showlakes": true,
           "showland": true,
           "subunitcolor": "white"
          },
          "hoverlabel": {
           "align": "left"
          },
          "hovermode": "closest",
          "mapbox": {
           "style": "light"
          },
          "paper_bgcolor": "white",
          "plot_bgcolor": "#E5ECF6",
          "polar": {
           "angularaxis": {
            "gridcolor": "white",
            "linecolor": "white",
            "ticks": ""
           },
           "bgcolor": "#E5ECF6",
           "radialaxis": {
            "gridcolor": "white",
            "linecolor": "white",
            "ticks": ""
           }
          },
          "scene": {
           "xaxis": {
            "backgroundcolor": "#E5ECF6",
            "gridcolor": "white",
            "gridwidth": 2,
            "linecolor": "white",
            "showbackground": true,
            "ticks": "",
            "zerolinecolor": "white"
           },
           "yaxis": {
            "backgroundcolor": "#E5ECF6",
            "gridcolor": "white",
            "gridwidth": 2,
            "linecolor": "white",
            "showbackground": true,
            "ticks": "",
            "zerolinecolor": "white"
           },
           "zaxis": {
            "backgroundcolor": "#E5ECF6",
            "gridcolor": "white",
            "gridwidth": 2,
            "linecolor": "white",
            "showbackground": true,
            "ticks": "",
            "zerolinecolor": "white"
           }
          },
          "shapedefaults": {
           "line": {
            "color": "#2a3f5f"
           }
          },
          "ternary": {
           "aaxis": {
            "gridcolor": "white",
            "linecolor": "white",
            "ticks": ""
           },
           "baxis": {
            "gridcolor": "white",
            "linecolor": "white",
            "ticks": ""
           },
           "bgcolor": "#E5ECF6",
           "caxis": {
            "gridcolor": "white",
            "linecolor": "white",
            "ticks": ""
           }
          },
          "title": {
           "x": 0.05
          },
          "xaxis": {
           "automargin": true,
           "gridcolor": "white",
           "linecolor": "white",
           "ticks": "",
           "title": {
            "standoff": 15
           },
           "zerolinecolor": "white",
           "zerolinewidth": 2
          },
          "yaxis": {
           "automargin": true,
           "gridcolor": "white",
           "linecolor": "white",
           "ticks": "",
           "title": {
            "standoff": 15
           },
           "zerolinecolor": "white",
           "zerolinewidth": 2
          }
         }
        },
        "title": {
         "text": "Cutter T occupancy: 86.6duration actual: 59472.0"
        },
        "xaxis": {
         "range": [
          "1970-01-01T00:00:00",
          "1970-01-01T18:26:53"
         ],
         "title": {
          "font": {
           "color": "#7f7f7f",
           "family": "Courier New, monospace",
           "size": 18
          },
          "text": "Time"
         }
        },
        "yaxis": {
         "title": {
          "font": {
           "color": "#7f7f7f",
           "family": "Courier New, monospace",
           "size": 18
          },
          "text": "vesels"
         }
        }
       }
      },
      "text/html": [
       "<div>                            <div id=\"1937f0c7-9941-4ef8-a018-01e2df7247ef\" class=\"plotly-graph-div\" style=\"height:525px; width:100%;\"></div>            <script type=\"text/javascript\">                require([\"plotly\"], function(Plotly) {                    window.PLOTLYENV=window.PLOTLYENV || {};                                    if (document.getElementById(\"1937f0c7-9941-4ef8-a018-01e2df7247ef\")) {                    Plotly.newPlot(                        \"1937f0c7-9941-4ef8-a018-01e2df7247ef\",                        [{\"connectgaps\":false,\"hoverinfo\":\"name\",\"line\":{\"color\":\"red\",\"width\":14},\"mode\":\"lines\",\"name\":\"critical_path\",\"x\":[\"1970-01-01T00:00:00\",\"1970-01-01T00:34:05\",\"1970-01-01T00:34:05\",\"1970-01-01T00:34:05\",\"1970-01-01T01:15:45\",\"1970-01-01T01:15:45\",\"1970-01-01T00:34:05\",\"1970-01-01T01:15:45\",\"1970-01-01T01:15:45\",\"1970-01-01T00:34:05\",\"1970-01-01T01:15:45\",\"1970-01-01T01:15:45\",\"1970-01-01T01:15:45\",\"1970-01-01T01:49:05\",\"1970-01-01T01:49:05\",\"1970-01-01T01:15:45\",\"1970-01-01T01:49:05\",\"1970-01-01T01:49:05\",\"1970-01-01T01:15:45\",\"1970-01-01T01:49:05\",\"1970-01-01T01:49:05\",\"1970-01-01T01:49:05\",\"1970-01-01T02:22:25\",\"1970-01-01T02:22:25\",\"1970-01-01T01:49:05\",\"1970-01-01T02:22:25\",\"1970-01-01T02:22:25\",\"1970-01-01T01:49:05\",\"1970-01-01T02:22:25\",\"1970-01-01T02:22:25\",\"1970-01-01T02:22:25\",\"1970-01-01T03:04:05\",\"1970-01-01T03:04:05\",\"1970-01-01T02:22:25\",\"1970-01-01T03:04:05\",\"1970-01-01T03:04:05\",\"1970-01-01T02:22:25\",\"1970-01-01T03:04:05\",\"1970-01-01T03:04:05\",\"1970-01-01T03:04:05\",\"1970-01-01T03:51:16\",\"1970-01-01T03:51:16\",\"1970-01-01T03:51:16\",\"1970-01-01T04:38:27\",\"1970-01-01T04:38:27\",\"1970-01-01T03:51:16\",\"1970-01-01T04:38:27\",\"1970-01-01T04:38:27\",\"1970-01-01T04:38:27\",\"1970-01-01T05:25:38\",\"1970-01-01T05:25:38\",\"1970-01-01T05:25:38\",\"1970-01-01T06:07:18\",\"1970-01-01T06:07:18\",\"1970-01-01T05:25:38\",\"1970-01-01T06:07:18\",\"1970-01-01T06:07:18\",\"1970-01-01T05:25:38\",\"1970-01-01T06:07:18\",\"1970-01-01T06:07:18\",\"1970-01-01T06:07:18\",\"1970-01-01T06:54:29\",\"1970-01-01T06:54:29\",\"1970-01-01T06:54:29\",\"1970-01-01T07:41:40\",\"1970-01-01T07:41:40\",\"1970-01-01T06:54:29\",\"1970-01-01T07:41:40\",\"1970-01-01T07:41:40\",\"1970-01-01T07:41:40\",\"1970-01-01T08:28:51\",\"1970-01-01T08:28:51\",\"1970-01-01T08:28:51\",\"1970-01-01T09:10:31\",\"1970-01-01T09:10:31\",\"1970-01-01T08:28:51\",\"1970-01-01T09:10:31\",\"1970-01-01T09:10:31\",\"1970-01-01T08:28:51\",\"1970-01-01T09:10:31\",\"1970-01-01T09:10:31\",\"1970-01-01T09:10:31\",\"1970-01-01T09:57:42\",\"1970-01-01T09:57:42\",\"1970-01-01T09:57:42\",\"1970-01-01T10:44:53\",\"1970-01-01T10:44:53\",\"1970-01-01T09:57:42\",\"1970-01-01T10:44:53\",\"1970-01-01T10:44:53\",\"1970-01-01T10:44:53\",\"1970-01-01T11:32:04\",\"1970-01-01T11:32:04\",\"1970-01-01T11:32:04\",\"1970-01-01T12:13:44\",\"1970-01-01T12:13:44\",\"1970-01-01T11:32:04\",\"1970-01-01T12:13:44\",\"1970-01-01T12:13:44\",\"1970-01-01T11:32:04\",\"1970-01-01T12:13:44\",\"1970-01-01T12:13:44\",\"1970-01-01T12:13:44\",\"1970-01-01T13:00:55\",\"1970-01-01T13:00:55\",\"1970-01-01T13:00:55\",\"1970-01-01T13:48:06\",\"1970-01-01T13:48:06\",\"1970-01-01T13:00:55\",\"1970-01-01T13:48:06\",\"1970-01-01T13:48:06\",\"1970-01-01T13:48:06\",\"1970-01-01T14:35:17\",\"1970-01-01T14:35:17\",\"1970-01-01T14:35:17\",\"1970-01-01T15:16:57\",\"1970-01-01T15:16:57\",\"1970-01-01T14:35:17\",\"1970-01-01T15:16:57\",\"1970-01-01T15:16:57\",\"1970-01-01T14:35:17\",\"1970-01-01T15:16:57\",\"1970-01-01T15:16:57\",\"1970-01-01T15:16:57\",\"1970-01-01T15:58:37\",\"1970-01-01T15:58:37\",\"1970-01-01T15:16:57\",\"1970-01-01T15:58:37\",\"1970-01-01T15:58:37\",\"1970-01-01T15:16:57\",\"1970-01-01T15:58:37\",\"1970-01-01T15:58:37\",\"1970-01-01T15:58:37\",\"1970-01-01T16:31:57\",\"1970-01-01T16:31:57\",\"1970-01-01T15:58:37\",\"1970-01-01T16:31:57\",\"1970-01-01T16:31:57\",\"1970-01-01T15:58:37\",\"1970-01-01T16:31:57\",\"1970-01-01T16:31:57\",\"1970-01-01T16:31:57\",\"1970-01-01T17:05:17\",\"1970-01-01T17:05:17\",\"1970-01-01T16:31:57\",\"1970-01-01T17:05:17\",\"1970-01-01T17:05:17\",\"1970-01-01T16:31:57\",\"1970-01-01T17:05:17\",\"1970-01-01T17:05:17\",\"1970-01-01T17:05:17\",\"1970-01-01T17:46:05\",\"1970-01-01T17:46:05\",\"1970-01-01T17:46:05\",\"1970-01-01T18:26:53\",\"1970-01-01T18:26:53\",\"1970-01-01T17:46:05\",\"1970-01-01T18:26:53\",\"1970-01-01T18:26:53\"],\"y\":[\"Barge I\",\"Barge I\",null,\"Barge I\",\"Barge I\",null,\"Cutter T\",\"Cutter T\",null,\"Trench\",\"Trench\",null,\"Carrier B\",\"Carrier B\",null,\"Cutter T\",\"Cutter T\",null,\"Trench\",\"Trench\",null,\"Carrier A\",\"Carrier A\",null,\"Cutter T\",\"Cutter T\",null,\"Trench\",\"Trench\",null,\"Carrier C\",\"Carrier C\",null,\"Cutter T\",\"Cutter T\",null,\"Trench\",\"Trench\",null,\"Carrier C\",\"Carrier C\",null,\"Carrier C\",\"Carrier C\",null,\"Reclamation\",\"Reclamation\",null,\"Carrier C\",\"Carrier C\",null,\"Carrier C\",\"Carrier C\",null,\"Cutter T\",\"Cutter T\",null,\"Trench\",\"Trench\",null,\"Carrier C\",\"Carrier C\",null,\"Carrier C\",\"Carrier C\",null,\"Reclamation\",\"Reclamation\",null,\"Carrier C\",\"Carrier C\",null,\"Carrier C\",\"Carrier C\",null,\"Cutter T\",\"Cutter T\",null,\"Trench\",\"Trench\",null,\"Carrier C\",\"Carrier C\",null,\"Carrier C\",\"Carrier C\",null,\"Reclamation\",\"Reclamation\",null,\"Carrier C\",\"Carrier C\",null,\"Carrier C\",\"Carrier C\",null,\"Cutter T\",\"Cutter T\",null,\"Trench\",\"Trench\",null,\"Carrier C\",\"Carrier C\",null,\"Carrier C\",\"Carrier C\",null,\"Reclamation\",\"Reclamation\",null,\"Carrier C\",\"Carrier C\",null,\"Carrier C\",\"Carrier C\",null,\"Cutter T\",\"Cutter T\",null,\"Trench\",\"Trench\",null,\"Barge I\",\"Barge I\",null,\"Cutter T\",\"Cutter T\",null,\"Trench\",\"Trench\",null,\"Carrier B\",\"Carrier B\",null,\"Cutter T\",\"Cutter T\",null,\"Trench\",\"Trench\",null,\"Carrier A\",\"Carrier A\",null,\"Cutter T\",\"Cutter T\",null,\"Trench\",\"Trench\",null,\"Carrier A\",\"Carrier A\",null,\"Carrier A\",\"Carrier A\",null,\"Reclamation\",\"Reclamation\",null],\"type\":\"scatter\"},{\"connectgaps\":false,\"hoverinfo\":\"y+name\",\"line\":{\"color\":\"rgb(223,210,239)\",\"width\":10},\"mode\":\"lines\",\"name\":\"loading:Carrier A\",\"x\":[\"1970-01-01T01:49:05\",\"1970-01-01T01:49:05\",\"1970-01-01T02:22:25\",\"1970-01-01T02:22:25\",\"1970-01-01T02:22:25\",\"1970-01-01T04:24:49\",\"1970-01-01T04:24:49\",\"1970-01-01T04:58:09\",\"1970-01-01T04:58:09\",\"1970-01-01T04:58:09\",\"1970-01-01T07:22:18\",\"1970-01-01T07:22:18\",\"1970-01-01T07:55:38\",\"1970-01-01T07:55:38\",\"1970-01-01T07:55:38\",\"1970-01-01T10:25:31\",\"1970-01-01T10:25:31\",\"1970-01-01T10:58:51\",\"1970-01-01T10:58:51\",\"1970-01-01T10:58:51\",\"1970-01-01T13:28:44\",\"1970-01-01T13:28:44\",\"1970-01-01T14:02:04\",\"1970-01-01T14:02:04\",\"1970-01-01T14:02:04\",\"1970-01-01T16:31:57\",\"1970-01-01T16:31:57\",\"1970-01-01T17:05:17\",\"1970-01-01T17:05:17\",\"1970-01-01T17:05:17\",\"1970-01-01T01:49:05\",\"1970-01-01T01:49:05\",\"1970-01-01T02:22:25\",\"1970-01-01T02:22:25\",\"1970-01-01T02:22:25\",\"1970-01-01T04:24:49\",\"1970-01-01T04:24:49\",\"1970-01-01T04:58:09\",\"1970-01-01T04:58:09\",\"1970-01-01T04:58:09\",\"1970-01-01T07:22:18\",\"1970-01-01T07:22:18\",\"1970-01-01T07:55:38\",\"1970-01-01T07:55:38\",\"1970-01-01T07:55:38\",\"1970-01-01T10:25:31\",\"1970-01-01T10:25:31\",\"1970-01-01T10:58:51\",\"1970-01-01T10:58:51\",\"1970-01-01T10:58:51\",\"1970-01-01T13:28:44\",\"1970-01-01T13:28:44\",\"1970-01-01T14:02:04\",\"1970-01-01T14:02:04\",\"1970-01-01T14:02:04\",\"1970-01-01T16:31:57\",\"1970-01-01T16:31:57\",\"1970-01-01T17:05:17\",\"1970-01-01T17:05:17\",\"1970-01-01T17:05:17\",\"1970-01-01T01:49:05\",\"1970-01-01T01:49:05\",\"1970-01-01T02:22:25\",\"1970-01-01T02:22:25\",\"1970-01-01T02:22:25\",\"1970-01-01T04:24:49\",\"1970-01-01T04:24:49\",\"1970-01-01T04:58:09\",\"1970-01-01T04:58:09\",\"1970-01-01T04:58:09\",\"1970-01-01T07:22:18\",\"1970-01-01T07:22:18\",\"1970-01-01T07:55:38\",\"1970-01-01T07:55:38\",\"1970-01-01T07:55:38\",\"1970-01-01T10:25:31\",\"1970-01-01T10:25:31\",\"1970-01-01T10:58:51\",\"1970-01-01T10:58:51\",\"1970-01-01T10:58:51\",\"1970-01-01T13:28:44\",\"1970-01-01T13:28:44\",\"1970-01-01T14:02:04\",\"1970-01-01T14:02:04\",\"1970-01-01T14:02:04\",\"1970-01-01T16:31:57\",\"1970-01-01T16:31:57\",\"1970-01-01T17:05:17\",\"1970-01-01T17:05:17\",\"1970-01-01T17:05:17\"],\"y\":[\"Carrier A\",\"Carrier A\",\"Carrier A\",\"Carrier A\",null,\"Carrier A\",\"Carrier A\",\"Carrier A\",\"Carrier A\",null,\"Carrier A\",\"Carrier A\",\"Carrier A\",\"Carrier A\",null,\"Carrier A\",\"Carrier A\",\"Carrier A\",\"Carrier A\",null,\"Carrier A\",\"Carrier A\",\"Carrier A\",\"Carrier A\",null,\"Carrier A\",\"Carrier A\",\"Carrier A\",\"Carrier A\",null,\"Cutter T\",\"Cutter T\",\"Cutter T\",\"Cutter T\",null,\"Cutter T\",\"Cutter T\",\"Cutter T\",\"Cutter T\",null,\"Cutter T\",\"Cutter T\",\"Cutter T\",\"Cutter T\",null,\"Cutter T\",\"Cutter T\",\"Cutter T\",\"Cutter T\",null,\"Cutter T\",\"Cutter T\",\"Cutter T\",\"Cutter T\",null,\"Cutter T\",\"Cutter T\",\"Cutter T\",\"Cutter T\",null,\"Trench\",\"Trench\",\"Trench\",\"Trench\",null,\"Trench\",\"Trench\",\"Trench\",\"Trench\",null,\"Trench\",\"Trench\",\"Trench\",\"Trench\",null,\"Trench\",\"Trench\",\"Trench\",\"Trench\",null,\"Trench\",\"Trench\",\"Trench\",\"Trench\",null,\"Trench\",\"Trench\",\"Trench\",\"Trench\",null],\"type\":\"scatter\"},{\"connectgaps\":false,\"hoverinfo\":\"y+name\",\"line\":{\"color\":\"rgb(232,219,248)\",\"width\":10},\"mode\":\"lines\",\"name\":\"unloading:Carrier A\",\"x\":[\"1970-01-01T03:03:13\",\"1970-01-01T03:03:13\",\"1970-01-01T03:44:01\",\"1970-01-01T03:44:01\",\"1970-01-01T03:44:01\",\"1970-01-01T05:38:57\",\"1970-01-01T05:38:57\",\"1970-01-01T06:19:45\",\"1970-01-01T06:19:45\",\"1970-01-01T06:19:45\",\"1970-01-01T08:36:26\",\"1970-01-01T08:36:26\",\"1970-01-01T09:17:14\",\"1970-01-01T09:17:14\",\"1970-01-01T09:17:14\",\"1970-01-01T11:39:39\",\"1970-01-01T11:39:39\",\"1970-01-01T12:20:27\",\"1970-01-01T12:20:27\",\"1970-01-01T12:20:27\",\"1970-01-01T14:42:52\",\"1970-01-01T14:42:52\",\"1970-01-01T15:23:40\",\"1970-01-01T15:23:40\",\"1970-01-01T15:23:40\",\"1970-01-01T17:46:05\",\"1970-01-01T17:46:05\",\"1970-01-01T18:26:53\",\"1970-01-01T18:26:53\",\"1970-01-01T18:26:53\",\"1970-01-01T03:03:13\",\"1970-01-01T03:03:13\",\"1970-01-01T03:44:01\",\"1970-01-01T03:44:01\",\"1970-01-01T03:44:01\",\"1970-01-01T05:38:57\",\"1970-01-01T05:38:57\",\"1970-01-01T06:19:45\",\"1970-01-01T06:19:45\",\"1970-01-01T06:19:45\",\"1970-01-01T08:36:26\",\"1970-01-01T08:36:26\",\"1970-01-01T09:17:14\",\"1970-01-01T09:17:14\",\"1970-01-01T09:17:14\",\"1970-01-01T11:39:39\",\"1970-01-01T11:39:39\",\"1970-01-01T12:20:27\",\"1970-01-01T12:20:27\",\"1970-01-01T12:20:27\",\"1970-01-01T14:42:52\",\"1970-01-01T14:42:52\",\"1970-01-01T15:23:40\",\"1970-01-01T15:23:40\",\"1970-01-01T15:23:40\",\"1970-01-01T17:46:05\",\"1970-01-01T17:46:05\",\"1970-01-01T18:26:53\",\"1970-01-01T18:26:53\",\"1970-01-01T18:26:53\"],\"y\":[\"Carrier A\",\"Carrier A\",\"Carrier A\",\"Carrier A\",null,\"Carrier A\",\"Carrier A\",\"Carrier A\",\"Carrier A\",null,\"Carrier A\",\"Carrier A\",\"Carrier A\",\"Carrier A\",null,\"Carrier A\",\"Carrier A\",\"Carrier A\",\"Carrier A\",null,\"Carrier A\",\"Carrier A\",\"Carrier A\",\"Carrier A\",null,\"Carrier A\",\"Carrier A\",\"Carrier A\",\"Carrier A\",null,\"Reclamation\",\"Reclamation\",\"Reclamation\",\"Reclamation\",null,\"Reclamation\",\"Reclamation\",\"Reclamation\",\"Reclamation\",null,\"Reclamation\",\"Reclamation\",\"Reclamation\",\"Reclamation\",null,\"Reclamation\",\"Reclamation\",\"Reclamation\",\"Reclamation\",null,\"Reclamation\",\"Reclamation\",\"Reclamation\",\"Reclamation\",null,\"Reclamation\",\"Reclamation\",\"Reclamation\",\"Reclamation\",null],\"type\":\"scatter\"},{\"connectgaps\":false,\"hoverinfo\":\"y+name\",\"line\":{\"color\":\"rgb(241,228,1)\",\"width\":10},\"mode\":\"lines\",\"name\":\"sailing empty:Carrier A\",\"x\":[\"1970-01-01T00:00:00\",\"1970-01-01T00:00:00\",\"1970-01-01T00:40:48\",\"1970-01-01T00:40:48\",\"1970-01-01T00:40:48\",\"1970-01-01T03:44:01\",\"1970-01-01T03:44:01\",\"1970-01-01T04:24:49\",\"1970-01-01T04:24:49\",\"1970-01-01T04:24:49\",\"1970-01-01T06:19:45\",\"1970-01-01T06:19:45\",\"1970-01-01T07:00:33\",\"1970-01-01T07:00:33\",\"1970-01-01T07:00:33\",\"1970-01-01T09:17:14\",\"1970-01-01T09:17:14\",\"1970-01-01T09:58:02\",\"1970-01-01T09:58:02\",\"1970-01-01T09:58:02\",\"1970-01-01T12:20:27\",\"1970-01-01T12:20:27\",\"1970-01-01T13:01:15\",\"1970-01-01T13:01:15\",\"1970-01-01T13:01:15\",\"1970-01-01T15:23:40\",\"1970-01-01T15:23:40\",\"1970-01-01T16:04:28\",\"1970-01-01T16:04:28\",\"1970-01-01T16:04:28\"],\"y\":[\"Carrier A\",\"Carrier A\",\"Carrier A\",\"Carrier A\",null,\"Carrier A\",\"Carrier A\",\"Carrier A\",\"Carrier A\",null,\"Carrier A\",\"Carrier A\",\"Carrier A\",\"Carrier A\",null,\"Carrier A\",\"Carrier A\",\"Carrier A\",\"Carrier A\",null,\"Carrier A\",\"Carrier A\",\"Carrier A\",\"Carrier A\",null,\"Carrier A\",\"Carrier A\",\"Carrier A\",\"Carrier A\",null],\"type\":\"scatter\"},{\"connectgaps\":false,\"hoverinfo\":\"y+name\",\"line\":{\"color\":\"rgb(250,237,10)\",\"width\":10},\"mode\":\"lines\",\"name\":\"sailing full:Carrier A\",\"x\":[\"1970-01-01T02:22:25\",\"1970-01-01T02:22:25\",\"1970-01-01T03:03:13\",\"1970-01-01T03:03:13\",\"1970-01-01T03:03:13\",\"1970-01-01T04:58:09\",\"1970-01-01T04:58:09\",\"1970-01-01T05:38:57\",\"1970-01-01T05:38:57\",\"1970-01-01T05:38:57\",\"1970-01-01T07:55:38\",\"1970-01-01T07:55:38\",\"1970-01-01T08:36:26\",\"1970-01-01T08:36:26\",\"1970-01-01T08:36:26\",\"1970-01-01T10:58:51\",\"1970-01-01T10:58:51\",\"1970-01-01T11:39:39\",\"1970-01-01T11:39:39\",\"1970-01-01T11:39:39\",\"1970-01-01T14:02:04\",\"1970-01-01T14:02:04\",\"1970-01-01T14:42:52\",\"1970-01-01T14:42:52\",\"1970-01-01T14:42:52\",\"1970-01-01T17:05:17\",\"1970-01-01T17:05:17\",\"1970-01-01T17:46:05\",\"1970-01-01T17:46:05\",\"1970-01-01T17:46:05\"],\"y\":[\"Carrier A\",\"Carrier A\",\"Carrier A\",\"Carrier A\",null,\"Carrier A\",\"Carrier A\",\"Carrier A\",\"Carrier A\",null,\"Carrier A\",\"Carrier A\",\"Carrier A\",\"Carrier A\",null,\"Carrier A\",\"Carrier A\",\"Carrier A\",\"Carrier A\",null,\"Carrier A\",\"Carrier A\",\"Carrier A\",\"Carrier A\",null,\"Carrier A\",\"Carrier A\",\"Carrier A\",\"Carrier A\",null],\"type\":\"scatter\"},{\"connectgaps\":false,\"hoverinfo\":\"y+name\",\"line\":{\"color\":\"rgb(3,246,19)\",\"width\":10},\"mode\":\"lines\",\"name\":\"unloading:Carrier B\",\"x\":[\"1970-01-01T02:23:32\",\"1970-01-01T02:23:32\",\"1970-01-01T02:57:59\",\"1970-01-01T02:57:59\",\"1970-01-01T02:57:59\",\"1970-01-01T04:53:32\",\"1970-01-01T04:53:32\",\"1970-01-01T05:27:59\",\"1970-01-01T05:27:59\",\"1970-01-01T05:27:59\",\"1970-01-01T07:56:45\",\"1970-01-01T07:56:45\",\"1970-01-01T08:31:12\",\"1970-01-01T08:31:12\",\"1970-01-01T08:31:12\",\"1970-01-01T10:59:58\",\"1970-01-01T10:59:58\",\"1970-01-01T11:34:25\",\"1970-01-01T11:34:25\",\"1970-01-01T11:34:25\",\"1970-01-01T14:03:11\",\"1970-01-01T14:03:11\",\"1970-01-01T14:37:38\",\"1970-01-01T14:37:38\",\"1970-01-01T14:37:38\",\"1970-01-01T17:06:24\",\"1970-01-01T17:06:24\",\"1970-01-01T17:40:51\",\"1970-01-01T17:40:51\",\"1970-01-01T17:40:51\",\"1970-01-01T02:23:32\",\"1970-01-01T02:23:32\",\"1970-01-01T02:57:59\",\"1970-01-01T02:57:59\",\"1970-01-01T02:57:59\",\"1970-01-01T04:53:32\",\"1970-01-01T04:53:32\",\"1970-01-01T05:27:59\",\"1970-01-01T05:27:59\",\"1970-01-01T05:27:59\",\"1970-01-01T07:56:45\",\"1970-01-01T07:56:45\",\"1970-01-01T08:31:12\",\"1970-01-01T08:31:12\",\"1970-01-01T08:31:12\",\"1970-01-01T10:59:58\",\"1970-01-01T10:59:58\",\"1970-01-01T11:34:25\",\"1970-01-01T11:34:25\",\"1970-01-01T11:34:25\",\"1970-01-01T14:03:11\",\"1970-01-01T14:03:11\",\"1970-01-01T14:37:38\",\"1970-01-01T14:37:38\",\"1970-01-01T14:37:38\",\"1970-01-01T17:06:24\",\"1970-01-01T17:06:24\",\"1970-01-01T17:40:51\",\"1970-01-01T17:40:51\",\"1970-01-01T17:40:51\"],\"y\":[\"Carrier B\",\"Carrier B\",\"Carrier B\",\"Carrier B\",null,\"Carrier B\",\"Carrier B\",\"Carrier B\",\"Carrier B\",null,\"Carrier B\",\"Carrier B\",\"Carrier B\",\"Carrier B\",null,\"Carrier B\",\"Carrier B\",\"Carrier B\",\"Carrier B\",null,\"Carrier B\",\"Carrier B\",\"Carrier B\",\"Carrier B\",null,\"Carrier B\",\"Carrier B\",\"Carrier B\",\"Carrier B\",null,\"Reclamation\",\"Reclamation\",\"Reclamation\",\"Reclamation\",null,\"Reclamation\",\"Reclamation\",\"Reclamation\",\"Reclamation\",null,\"Reclamation\",\"Reclamation\",\"Reclamation\",\"Reclamation\",null,\"Reclamation\",\"Reclamation\",\"Reclamation\",\"Reclamation\",null,\"Reclamation\",\"Reclamation\",\"Reclamation\",\"Reclamation\",null,\"Reclamation\",\"Reclamation\",\"Reclamation\",\"Reclamation\",null],\"type\":\"scatter\"},{\"connectgaps\":false,\"hoverinfo\":\"y+name\",\"line\":{\"color\":\"rgb(12,255,28)\",\"width\":10},\"mode\":\"lines\",\"name\":\"loading:Carrier B\",\"x\":[\"1970-01-01T01:15:45\",\"1970-01-01T01:15:45\",\"1970-01-01T01:49:05\",\"1970-01-01T01:49:05\",\"1970-01-01T01:49:05\",\"1970-01-01T03:45:45\",\"1970-01-01T03:45:45\",\"1970-01-01T04:19:05\",\"1970-01-01T04:19:05\",\"1970-01-01T04:19:05\",\"1970-01-01T06:48:58\",\"1970-01-01T06:48:58\",\"1970-01-01T07:22:18\",\"1970-01-01T07:22:18\",\"1970-01-01T07:22:18\",\"1970-01-01T09:52:11\",\"1970-01-01T09:52:11\",\"1970-01-01T10:25:31\",\"1970-01-01T10:25:31\",\"1970-01-01T10:25:31\",\"1970-01-01T12:55:24\",\"1970-01-01T12:55:24\",\"1970-01-01T13:28:44\",\"1970-01-01T13:28:44\",\"1970-01-01T13:28:44\",\"1970-01-01T15:58:37\",\"1970-01-01T15:58:37\",\"1970-01-01T16:31:57\",\"1970-01-01T16:31:57\",\"1970-01-01T16:31:57\",\"1970-01-01T01:15:45\",\"1970-01-01T01:15:45\",\"1970-01-01T01:49:05\",\"1970-01-01T01:49:05\",\"1970-01-01T01:49:05\",\"1970-01-01T03:45:45\",\"1970-01-01T03:45:45\",\"1970-01-01T04:19:05\",\"1970-01-01T04:19:05\",\"1970-01-01T04:19:05\",\"1970-01-01T06:48:58\",\"1970-01-01T06:48:58\",\"1970-01-01T07:22:18\",\"1970-01-01T07:22:18\",\"1970-01-01T07:22:18\",\"1970-01-01T09:52:11\",\"1970-01-01T09:52:11\",\"1970-01-01T10:25:31\",\"1970-01-01T10:25:31\",\"1970-01-01T10:25:31\",\"1970-01-01T12:55:24\",\"1970-01-01T12:55:24\",\"1970-01-01T13:28:44\",\"1970-01-01T13:28:44\",\"1970-01-01T13:28:44\",\"1970-01-01T15:58:37\",\"1970-01-01T15:58:37\",\"1970-01-01T16:31:57\",\"1970-01-01T16:31:57\",\"1970-01-01T16:31:57\",\"1970-01-01T01:15:45\",\"1970-01-01T01:15:45\",\"1970-01-01T01:49:05\",\"1970-01-01T01:49:05\",\"1970-01-01T01:49:05\",\"1970-01-01T03:45:45\",\"1970-01-01T03:45:45\",\"1970-01-01T04:19:05\",\"1970-01-01T04:19:05\",\"1970-01-01T04:19:05\",\"1970-01-01T06:48:58\",\"1970-01-01T06:48:58\",\"1970-01-01T07:22:18\",\"1970-01-01T07:22:18\",\"1970-01-01T07:22:18\",\"1970-01-01T09:52:11\",\"1970-01-01T09:52:11\",\"1970-01-01T10:25:31\",\"1970-01-01T10:25:31\",\"1970-01-01T10:25:31\",\"1970-01-01T12:55:24\",\"1970-01-01T12:55:24\",\"1970-01-01T13:28:44\",\"1970-01-01T13:28:44\",\"1970-01-01T13:28:44\",\"1970-01-01T15:58:37\",\"1970-01-01T15:58:37\",\"1970-01-01T16:31:57\",\"1970-01-01T16:31:57\",\"1970-01-01T16:31:57\"],\"y\":[\"Carrier B\",\"Carrier B\",\"Carrier B\",\"Carrier B\",null,\"Carrier B\",\"Carrier B\",\"Carrier B\",\"Carrier B\",null,\"Carrier B\",\"Carrier B\",\"Carrier B\",\"Carrier B\",null,\"Carrier B\",\"Carrier B\",\"Carrier B\",\"Carrier B\",null,\"Carrier B\",\"Carrier B\",\"Carrier B\",\"Carrier B\",null,\"Carrier B\",\"Carrier B\",\"Carrier B\",\"Carrier B\",null,\"Cutter T\",\"Cutter T\",\"Cutter T\",\"Cutter T\",null,\"Cutter T\",\"Cutter T\",\"Cutter T\",\"Cutter T\",null,\"Cutter T\",\"Cutter T\",\"Cutter T\",\"Cutter T\",null,\"Cutter T\",\"Cutter T\",\"Cutter T\",\"Cutter T\",null,\"Cutter T\",\"Cutter T\",\"Cutter T\",\"Cutter T\",null,\"Cutter T\",\"Cutter T\",\"Cutter T\",\"Cutter T\",null,\"Trench\",\"Trench\",\"Trench\",\"Trench\",null,\"Trench\",\"Trench\",\"Trench\",\"Trench\",null,\"Trench\",\"Trench\",\"Trench\",\"Trench\",null,\"Trench\",\"Trench\",\"Trench\",\"Trench\",null,\"Trench\",\"Trench\",\"Trench\",\"Trench\",null,\"Trench\",\"Trench\",\"Trench\",\"Trench\",null],\"type\":\"scatter\"},{\"connectgaps\":false,\"hoverinfo\":\"y+name\",\"line\":{\"color\":\"rgb(21,8,37)\",\"width\":10},\"mode\":\"lines\",\"name\":\"sailing empty:Carrier B\",\"x\":[\"1970-01-01T00:00:00\",\"1970-01-01T00:00:00\",\"1970-01-01T00:34:27\",\"1970-01-01T00:34:27\",\"1970-01-01T00:34:27\",\"1970-01-01T02:57:59\",\"1970-01-01T02:57:59\",\"1970-01-01T03:32:26\",\"1970-01-01T03:32:26\",\"1970-01-01T03:32:26\",\"1970-01-01T05:27:59\",\"1970-01-01T05:27:59\",\"1970-01-01T06:02:26\",\"1970-01-01T06:02:26\",\"1970-01-01T06:02:26\",\"1970-01-01T08:31:12\",\"1970-01-01T08:31:12\",\"1970-01-01T09:05:39\",\"1970-01-01T09:05:39\",\"1970-01-01T09:05:39\",\"1970-01-01T11:34:25\",\"1970-01-01T11:34:25\",\"1970-01-01T12:08:52\",\"1970-01-01T12:08:52\",\"1970-01-01T12:08:52\",\"1970-01-01T14:37:38\",\"1970-01-01T14:37:38\",\"1970-01-01T15:12:05\",\"1970-01-01T15:12:05\",\"1970-01-01T15:12:05\"],\"y\":[\"Carrier B\",\"Carrier B\",\"Carrier B\",\"Carrier B\",null,\"Carrier B\",\"Carrier B\",\"Carrier B\",\"Carrier B\",null,\"Carrier B\",\"Carrier B\",\"Carrier B\",\"Carrier B\",null,\"Carrier B\",\"Carrier B\",\"Carrier B\",\"Carrier B\",null,\"Carrier B\",\"Carrier B\",\"Carrier B\",\"Carrier B\",null,\"Carrier B\",\"Carrier B\",\"Carrier B\",\"Carrier B\",null],\"type\":\"scatter\"},{\"connectgaps\":false,\"hoverinfo\":\"y+name\",\"line\":{\"color\":\"rgb(30,17,46)\",\"width\":10},\"mode\":\"lines\",\"name\":\"sailing full:Carrier B\",\"x\":[\"1970-01-01T01:49:05\",\"1970-01-01T01:49:05\",\"1970-01-01T02:23:32\",\"1970-01-01T02:23:32\",\"1970-01-01T02:23:32\",\"1970-01-01T04:19:05\",\"1970-01-01T04:19:05\",\"1970-01-01T04:53:32\",\"1970-01-01T04:53:32\",\"1970-01-01T04:53:32\",\"1970-01-01T07:22:18\",\"1970-01-01T07:22:18\",\"1970-01-01T07:56:45\",\"1970-01-01T07:56:45\",\"1970-01-01T07:56:45\",\"1970-01-01T10:25:31\",\"1970-01-01T10:25:31\",\"1970-01-01T10:59:58\",\"1970-01-01T10:59:58\",\"1970-01-01T10:59:58\",\"1970-01-01T13:28:44\",\"1970-01-01T13:28:44\",\"1970-01-01T14:03:11\",\"1970-01-01T14:03:11\",\"1970-01-01T14:03:11\",\"1970-01-01T16:31:57\",\"1970-01-01T16:31:57\",\"1970-01-01T17:06:24\",\"1970-01-01T17:06:24\",\"1970-01-01T17:06:24\"],\"y\":[\"Carrier B\",\"Carrier B\",\"Carrier B\",\"Carrier B\",null,\"Carrier B\",\"Carrier B\",\"Carrier B\",\"Carrier B\",null,\"Carrier B\",\"Carrier B\",\"Carrier B\",\"Carrier B\",null,\"Carrier B\",\"Carrier B\",\"Carrier B\",\"Carrier B\",null,\"Carrier B\",\"Carrier B\",\"Carrier B\",\"Carrier B\",null,\"Carrier B\",\"Carrier B\",\"Carrier B\",\"Carrier B\",null],\"type\":\"scatter\"},{\"connectgaps\":false,\"hoverinfo\":\"y+name\",\"line\":{\"color\":\"rgb(39,26,55)\",\"width\":10},\"mode\":\"lines\",\"name\":\"loading:Carrier C\",\"x\":[\"1970-01-01T02:22:25\",\"1970-01-01T02:22:25\",\"1970-01-01T03:04:05\",\"1970-01-01T03:04:05\",\"1970-01-01T03:04:05\",\"1970-01-01T05:25:38\",\"1970-01-01T05:25:38\",\"1970-01-01T06:07:18\",\"1970-01-01T06:07:18\",\"1970-01-01T06:07:18\",\"1970-01-01T08:28:51\",\"1970-01-01T08:28:51\",\"1970-01-01T09:10:31\",\"1970-01-01T09:10:31\",\"1970-01-01T09:10:31\",\"1970-01-01T11:32:04\",\"1970-01-01T11:32:04\",\"1970-01-01T12:13:44\",\"1970-01-01T12:13:44\",\"1970-01-01T12:13:44\",\"1970-01-01T14:35:17\",\"1970-01-01T14:35:17\",\"1970-01-01T15:16:57\",\"1970-01-01T15:16:57\",\"1970-01-01T15:16:57\",\"1970-01-01T02:22:25\",\"1970-01-01T02:22:25\",\"1970-01-01T03:04:05\",\"1970-01-01T03:04:05\",\"1970-01-01T03:04:05\",\"1970-01-01T05:25:38\",\"1970-01-01T05:25:38\",\"1970-01-01T06:07:18\",\"1970-01-01T06:07:18\",\"1970-01-01T06:07:18\",\"1970-01-01T08:28:51\",\"1970-01-01T08:28:51\",\"1970-01-01T09:10:31\",\"1970-01-01T09:10:31\",\"1970-01-01T09:10:31\",\"1970-01-01T11:32:04\",\"1970-01-01T11:32:04\",\"1970-01-01T12:13:44\",\"1970-01-01T12:13:44\",\"1970-01-01T12:13:44\",\"1970-01-01T14:35:17\",\"1970-01-01T14:35:17\",\"1970-01-01T15:16:57\",\"1970-01-01T15:16:57\",\"1970-01-01T15:16:57\",\"1970-01-01T02:22:25\",\"1970-01-01T02:22:25\",\"1970-01-01T03:04:05\",\"1970-01-01T03:04:05\",\"1970-01-01T03:04:05\",\"1970-01-01T05:25:38\",\"1970-01-01T05:25:38\",\"1970-01-01T06:07:18\",\"1970-01-01T06:07:18\",\"1970-01-01T06:07:18\",\"1970-01-01T08:28:51\",\"1970-01-01T08:28:51\",\"1970-01-01T09:10:31\",\"1970-01-01T09:10:31\",\"1970-01-01T09:10:31\",\"1970-01-01T11:32:04\",\"1970-01-01T11:32:04\",\"1970-01-01T12:13:44\",\"1970-01-01T12:13:44\",\"1970-01-01T12:13:44\",\"1970-01-01T14:35:17\",\"1970-01-01T14:35:17\",\"1970-01-01T15:16:57\",\"1970-01-01T15:16:57\",\"1970-01-01T15:16:57\"],\"y\":[\"Carrier C\",\"Carrier C\",\"Carrier C\",\"Carrier C\",null,\"Carrier C\",\"Carrier C\",\"Carrier C\",\"Carrier C\",null,\"Carrier C\",\"Carrier C\",\"Carrier C\",\"Carrier C\",null,\"Carrier C\",\"Carrier C\",\"Carrier C\",\"Carrier C\",null,\"Carrier C\",\"Carrier C\",\"Carrier C\",\"Carrier C\",null,\"Cutter T\",\"Cutter T\",\"Cutter T\",\"Cutter T\",null,\"Cutter T\",\"Cutter T\",\"Cutter T\",\"Cutter T\",null,\"Cutter T\",\"Cutter T\",\"Cutter T\",\"Cutter T\",null,\"Cutter T\",\"Cutter T\",\"Cutter T\",\"Cutter T\",null,\"Cutter T\",\"Cutter T\",\"Cutter T\",\"Cutter T\",null,\"Trench\",\"Trench\",\"Trench\",\"Trench\",null,\"Trench\",\"Trench\",\"Trench\",\"Trench\",null,\"Trench\",\"Trench\",\"Trench\",\"Trench\",null,\"Trench\",\"Trench\",\"Trench\",\"Trench\",null,\"Trench\",\"Trench\",\"Trench\",\"Trench\",null],\"type\":\"scatter\"},{\"connectgaps\":false,\"hoverinfo\":\"y+name\",\"line\":{\"color\":\"rgb(48,35,64)\",\"width\":10},\"mode\":\"lines\",\"name\":\"unloading:Carrier C\",\"x\":[\"1970-01-01T03:51:16\",\"1970-01-01T03:51:16\",\"1970-01-01T04:38:27\",\"1970-01-01T04:38:27\",\"1970-01-01T04:38:27\",\"1970-01-01T06:54:29\",\"1970-01-01T06:54:29\",\"1970-01-01T07:41:40\",\"1970-01-01T07:41:40\",\"1970-01-01T07:41:40\",\"1970-01-01T09:57:42\",\"1970-01-01T09:57:42\",\"1970-01-01T10:44:53\",\"1970-01-01T10:44:53\",\"1970-01-01T10:44:53\",\"1970-01-01T13:00:55\",\"1970-01-01T13:00:55\",\"1970-01-01T13:48:06\",\"1970-01-01T13:48:06\",\"1970-01-01T13:48:06\",\"1970-01-01T16:04:08\",\"1970-01-01T16:04:08\",\"1970-01-01T16:51:19\",\"1970-01-01T16:51:19\",\"1970-01-01T16:51:19\",\"1970-01-01T03:51:16\",\"1970-01-01T03:51:16\",\"1970-01-01T04:38:27\",\"1970-01-01T04:38:27\",\"1970-01-01T04:38:27\",\"1970-01-01T06:54:29\",\"1970-01-01T06:54:29\",\"1970-01-01T07:41:40\",\"1970-01-01T07:41:40\",\"1970-01-01T07:41:40\",\"1970-01-01T09:57:42\",\"1970-01-01T09:57:42\",\"1970-01-01T10:44:53\",\"1970-01-01T10:44:53\",\"1970-01-01T10:44:53\",\"1970-01-01T13:00:55\",\"1970-01-01T13:00:55\",\"1970-01-01T13:48:06\",\"1970-01-01T13:48:06\",\"1970-01-01T13:48:06\",\"1970-01-01T16:04:08\",\"1970-01-01T16:04:08\",\"1970-01-01T16:51:19\",\"1970-01-01T16:51:19\",\"1970-01-01T16:51:19\"],\"y\":[\"Carrier C\",\"Carrier C\",\"Carrier C\",\"Carrier C\",null,\"Carrier C\",\"Carrier C\",\"Carrier C\",\"Carrier C\",null,\"Carrier C\",\"Carrier C\",\"Carrier C\",\"Carrier C\",null,\"Carrier C\",\"Carrier C\",\"Carrier C\",\"Carrier C\",null,\"Carrier C\",\"Carrier C\",\"Carrier C\",\"Carrier C\",null,\"Reclamation\",\"Reclamation\",\"Reclamation\",\"Reclamation\",null,\"Reclamation\",\"Reclamation\",\"Reclamation\",\"Reclamation\",null,\"Reclamation\",\"Reclamation\",\"Reclamation\",\"Reclamation\",null,\"Reclamation\",\"Reclamation\",\"Reclamation\",\"Reclamation\",null,\"Reclamation\",\"Reclamation\",\"Reclamation\",\"Reclamation\",null],\"type\":\"scatter\"},{\"connectgaps\":false,\"hoverinfo\":\"y+name\",\"line\":{\"color\":\"rgb(57,44,73)\",\"width\":10},\"mode\":\"lines\",\"name\":\"sailing empty:Carrier C\",\"x\":[\"1970-01-01T00:00:00\",\"1970-01-01T00:00:00\",\"1970-01-01T00:47:11\",\"1970-01-01T00:47:11\",\"1970-01-01T00:47:11\",\"1970-01-01T04:38:27\",\"1970-01-01T04:38:27\",\"1970-01-01T05:25:38\",\"1970-01-01T05:25:38\",\"1970-01-01T05:25:38\",\"1970-01-01T07:41:40\",\"1970-01-01T07:41:40\",\"1970-01-01T08:28:51\",\"1970-01-01T08:28:51\",\"1970-01-01T08:28:51\",\"1970-01-01T10:44:53\",\"1970-01-01T10:44:53\",\"1970-01-01T11:32:04\",\"1970-01-01T11:32:04\",\"1970-01-01T11:32:04\",\"1970-01-01T13:48:06\",\"1970-01-01T13:48:06\",\"1970-01-01T14:35:17\",\"1970-01-01T14:35:17\",\"1970-01-01T14:35:17\"],\"y\":[\"Carrier C\",\"Carrier C\",\"Carrier C\",\"Carrier C\",null,\"Carrier C\",\"Carrier C\",\"Carrier C\",\"Carrier C\",null,\"Carrier C\",\"Carrier C\",\"Carrier C\",\"Carrier C\",null,\"Carrier C\",\"Carrier C\",\"Carrier C\",\"Carrier C\",null,\"Carrier C\",\"Carrier C\",\"Carrier C\",\"Carrier C\",null],\"type\":\"scatter\"},{\"connectgaps\":false,\"hoverinfo\":\"y+name\",\"line\":{\"color\":\"rgb(66,53,82)\",\"width\":10},\"mode\":\"lines\",\"name\":\"sailing full:Carrier C\",\"x\":[\"1970-01-01T03:04:05\",\"1970-01-01T03:04:05\",\"1970-01-01T03:51:16\",\"1970-01-01T03:51:16\",\"1970-01-01T03:51:16\",\"1970-01-01T06:07:18\",\"1970-01-01T06:07:18\",\"1970-01-01T06:54:29\",\"1970-01-01T06:54:29\",\"1970-01-01T06:54:29\",\"1970-01-01T09:10:31\",\"1970-01-01T09:10:31\",\"1970-01-01T09:57:42\",\"1970-01-01T09:57:42\",\"1970-01-01T09:57:42\",\"1970-01-01T12:13:44\",\"1970-01-01T12:13:44\",\"1970-01-01T13:00:55\",\"1970-01-01T13:00:55\",\"1970-01-01T13:00:55\",\"1970-01-01T15:16:57\",\"1970-01-01T15:16:57\",\"1970-01-01T16:04:08\",\"1970-01-01T16:04:08\",\"1970-01-01T16:04:08\"],\"y\":[\"Carrier C\",\"Carrier C\",\"Carrier C\",\"Carrier C\",null,\"Carrier C\",\"Carrier C\",\"Carrier C\",\"Carrier C\",null,\"Carrier C\",\"Carrier C\",\"Carrier C\",\"Carrier C\",null,\"Carrier C\",\"Carrier C\",\"Carrier C\",\"Carrier C\",null,\"Carrier C\",\"Carrier C\",\"Carrier C\",\"Carrier C\",null],\"type\":\"scatter\"},{\"connectgaps\":false,\"hoverinfo\":\"y+name\",\"line\":{\"color\":\"rgb(75,62,91)\",\"width\":10},\"mode\":\"lines\",\"name\":\"sailing empty:Barge I\",\"x\":[\"1970-01-01T00:00:00\",\"1970-01-01T00:00:00\",\"1970-01-01T00:34:05\",\"1970-01-01T00:34:05\",\"1970-01-01T00:34:05\",\"1970-01-01T02:23:55\",\"1970-01-01T02:23:55\",\"1970-01-01T02:58:00\",\"1970-01-01T02:58:00\",\"1970-01-01T02:58:00\",\"1970-01-01T04:53:55\",\"1970-01-01T04:53:55\",\"1970-01-01T05:28:00\",\"1970-01-01T05:28:00\",\"1970-01-01T05:28:00\",\"1970-01-01T07:57:08\",\"1970-01-01T07:57:08\",\"1970-01-01T08:31:13\",\"1970-01-01T08:31:13\",\"1970-01-01T08:31:13\",\"1970-01-01T11:00:21\",\"1970-01-01T11:00:21\",\"1970-01-01T11:34:26\",\"1970-01-01T11:34:26\",\"1970-01-01T11:34:26\",\"1970-01-01T14:03:34\",\"1970-01-01T14:03:34\",\"1970-01-01T14:37:39\",\"1970-01-01T14:37:39\",\"1970-01-01T14:37:39\"],\"y\":[\"Barge I\",\"Barge I\",\"Barge I\",\"Barge I\",null,\"Barge I\",\"Barge I\",\"Barge I\",\"Barge I\",null,\"Barge I\",\"Barge I\",\"Barge I\",\"Barge I\",null,\"Barge I\",\"Barge I\",\"Barge I\",\"Barge I\",null,\"Barge I\",\"Barge I\",\"Barge I\",\"Barge I\",null,\"Barge I\",\"Barge I\",\"Barge I\",\"Barge I\",null],\"type\":\"scatter\"},{\"connectgaps\":false,\"hoverinfo\":\"y+name\",\"line\":{\"color\":\"rgb(84,71,100)\",\"width\":10},\"mode\":\"lines\",\"name\":\"loading:Barge I\",\"x\":[\"1970-01-01T00:34:05\",\"1970-01-01T00:34:05\",\"1970-01-01T01:15:45\",\"1970-01-01T01:15:45\",\"1970-01-01T01:15:45\",\"1970-01-01T03:04:05\",\"1970-01-01T03:04:05\",\"1970-01-01T03:45:45\",\"1970-01-01T03:45:45\",\"1970-01-01T03:45:45\",\"1970-01-01T06:07:18\",\"1970-01-01T06:07:18\",\"1970-01-01T06:48:58\",\"1970-01-01T06:48:58\",\"1970-01-01T06:48:58\",\"1970-01-01T09:10:31\",\"1970-01-01T09:10:31\",\"1970-01-01T09:52:11\",\"1970-01-01T09:52:11\",\"1970-01-01T09:52:11\",\"1970-01-01T12:13:44\",\"1970-01-01T12:13:44\",\"1970-01-01T12:55:24\",\"1970-01-01T12:55:24\",\"1970-01-01T12:55:24\",\"1970-01-01T15:16:57\",\"1970-01-01T15:16:57\",\"1970-01-01T15:58:37\",\"1970-01-01T15:58:37\",\"1970-01-01T15:58:37\",\"1970-01-01T00:34:05\",\"1970-01-01T00:34:05\",\"1970-01-01T01:15:45\",\"1970-01-01T01:15:45\",\"1970-01-01T01:15:45\",\"1970-01-01T03:04:05\",\"1970-01-01T03:04:05\",\"1970-01-01T03:45:45\",\"1970-01-01T03:45:45\",\"1970-01-01T03:45:45\",\"1970-01-01T06:07:18\",\"1970-01-01T06:07:18\",\"1970-01-01T06:48:58\",\"1970-01-01T06:48:58\",\"1970-01-01T06:48:58\",\"1970-01-01T09:10:31\",\"1970-01-01T09:10:31\",\"1970-01-01T09:52:11\",\"1970-01-01T09:52:11\",\"1970-01-01T09:52:11\",\"1970-01-01T12:13:44\",\"1970-01-01T12:13:44\",\"1970-01-01T12:55:24\",\"1970-01-01T12:55:24\",\"1970-01-01T12:55:24\",\"1970-01-01T15:16:57\",\"1970-01-01T15:16:57\",\"1970-01-01T15:58:37\",\"1970-01-01T15:58:37\",\"1970-01-01T15:58:37\",\"1970-01-01T00:34:05\",\"1970-01-01T00:34:05\",\"1970-01-01T01:15:45\",\"1970-01-01T01:15:45\",\"1970-01-01T01:15:45\",\"1970-01-01T03:04:05\",\"1970-01-01T03:04:05\",\"1970-01-01T03:45:45\",\"1970-01-01T03:45:45\",\"1970-01-01T03:45:45\",\"1970-01-01T06:07:18\",\"1970-01-01T06:07:18\",\"1970-01-01T06:48:58\",\"1970-01-01T06:48:58\",\"1970-01-01T06:48:58\",\"1970-01-01T09:10:31\",\"1970-01-01T09:10:31\",\"1970-01-01T09:52:11\",\"1970-01-01T09:52:11\",\"1970-01-01T09:52:11\",\"1970-01-01T12:13:44\",\"1970-01-01T12:13:44\",\"1970-01-01T12:55:24\",\"1970-01-01T12:55:24\",\"1970-01-01T12:55:24\",\"1970-01-01T15:16:57\",\"1970-01-01T15:16:57\",\"1970-01-01T15:58:37\",\"1970-01-01T15:58:37\",\"1970-01-01T15:58:37\"],\"y\":[\"Barge I\",\"Barge I\",\"Barge I\",\"Barge I\",null,\"Barge I\",\"Barge I\",\"Barge I\",\"Barge I\",null,\"Barge I\",\"Barge I\",\"Barge I\",\"Barge I\",null,\"Barge I\",\"Barge I\",\"Barge I\",\"Barge I\",null,\"Barge I\",\"Barge I\",\"Barge I\",\"Barge I\",null,\"Barge I\",\"Barge I\",\"Barge I\",\"Barge I\",null,\"Cutter T\",\"Cutter T\",\"Cutter T\",\"Cutter T\",null,\"Cutter T\",\"Cutter T\",\"Cutter T\",\"Cutter T\",null,\"Cutter T\",\"Cutter T\",\"Cutter T\",\"Cutter T\",null,\"Cutter T\",\"Cutter T\",\"Cutter T\",\"Cutter T\",null,\"Cutter T\",\"Cutter T\",\"Cutter T\",\"Cutter T\",null,\"Cutter T\",\"Cutter T\",\"Cutter T\",\"Cutter T\",null,\"Trench\",\"Trench\",\"Trench\",\"Trench\",null,\"Trench\",\"Trench\",\"Trench\",\"Trench\",null,\"Trench\",\"Trench\",\"Trench\",\"Trench\",null,\"Trench\",\"Trench\",\"Trench\",\"Trench\",null,\"Trench\",\"Trench\",\"Trench\",\"Trench\",null,\"Trench\",\"Trench\",\"Trench\",\"Trench\",null],\"type\":\"scatter\"},{\"connectgaps\":false,\"hoverinfo\":\"y+name\",\"line\":{\"color\":\"rgb(93,80,109)\",\"width\":10},\"mode\":\"lines\",\"name\":\"sailing full:Barge I\",\"x\":[\"1970-01-01T01:15:45\",\"1970-01-01T01:15:45\",\"1970-01-01T01:49:50\",\"1970-01-01T01:49:50\",\"1970-01-01T01:49:50\",\"1970-01-01T03:45:45\",\"1970-01-01T03:45:45\",\"1970-01-01T04:19:50\",\"1970-01-01T04:19:50\",\"1970-01-01T04:19:50\",\"1970-01-01T06:48:58\",\"1970-01-01T06:48:58\",\"1970-01-01T07:23:03\",\"1970-01-01T07:23:03\",\"1970-01-01T07:23:03\",\"1970-01-01T09:52:11\",\"1970-01-01T09:52:11\",\"1970-01-01T10:26:16\",\"1970-01-01T10:26:16\",\"1970-01-01T10:26:16\",\"1970-01-01T12:55:24\",\"1970-01-01T12:55:24\",\"1970-01-01T13:29:29\",\"1970-01-01T13:29:29\",\"1970-01-01T13:29:29\",\"1970-01-01T15:58:37\",\"1970-01-01T15:58:37\",\"1970-01-01T16:32:42\",\"1970-01-01T16:32:42\",\"1970-01-01T16:32:42\"],\"y\":[\"Barge I\",\"Barge I\",\"Barge I\",\"Barge I\",null,\"Barge I\",\"Barge I\",\"Barge I\",\"Barge I\",null,\"Barge I\",\"Barge I\",\"Barge I\",\"Barge I\",null,\"Barge I\",\"Barge I\",\"Barge I\",\"Barge I\",null,\"Barge I\",\"Barge I\",\"Barge I\",\"Barge I\",null,\"Barge I\",\"Barge I\",\"Barge I\",\"Barge I\",null],\"type\":\"scatter\"},{\"connectgaps\":false,\"hoverinfo\":\"y+name\",\"line\":{\"color\":\"rgb(102,89,118)\",\"width\":10},\"mode\":\"lines\",\"name\":\"unloading:Barge I\",\"x\":[\"1970-01-01T01:49:50\",\"1970-01-01T01:49:50\",\"1970-01-01T02:23:55\",\"1970-01-01T02:23:55\",\"1970-01-01T02:23:55\",\"1970-01-01T04:19:50\",\"1970-01-01T04:19:50\",\"1970-01-01T04:53:55\",\"1970-01-01T04:53:55\",\"1970-01-01T04:53:55\",\"1970-01-01T07:23:03\",\"1970-01-01T07:23:03\",\"1970-01-01T07:57:08\",\"1970-01-01T07:57:08\",\"1970-01-01T07:57:08\",\"1970-01-01T10:26:16\",\"1970-01-01T10:26:16\",\"1970-01-01T11:00:21\",\"1970-01-01T11:00:21\",\"1970-01-01T11:00:21\",\"1970-01-01T13:29:29\",\"1970-01-01T13:29:29\",\"1970-01-01T14:03:34\",\"1970-01-01T14:03:34\",\"1970-01-01T14:03:34\",\"1970-01-01T16:32:42\",\"1970-01-01T16:32:42\",\"1970-01-01T17:06:47\",\"1970-01-01T17:06:47\",\"1970-01-01T17:06:47\",\"1970-01-01T01:49:50\",\"1970-01-01T01:49:50\",\"1970-01-01T02:23:55\",\"1970-01-01T02:23:55\",\"1970-01-01T02:23:55\",\"1970-01-01T04:19:50\",\"1970-01-01T04:19:50\",\"1970-01-01T04:53:55\",\"1970-01-01T04:53:55\",\"1970-01-01T04:53:55\",\"1970-01-01T07:23:03\",\"1970-01-01T07:23:03\",\"1970-01-01T07:57:08\",\"1970-01-01T07:57:08\",\"1970-01-01T07:57:08\",\"1970-01-01T10:26:16\",\"1970-01-01T10:26:16\",\"1970-01-01T11:00:21\",\"1970-01-01T11:00:21\",\"1970-01-01T11:00:21\",\"1970-01-01T13:29:29\",\"1970-01-01T13:29:29\",\"1970-01-01T14:03:34\",\"1970-01-01T14:03:34\",\"1970-01-01T14:03:34\",\"1970-01-01T16:32:42\",\"1970-01-01T16:32:42\",\"1970-01-01T17:06:47\",\"1970-01-01T17:06:47\",\"1970-01-01T17:06:47\"],\"y\":[\"Barge I\",\"Barge I\",\"Barge I\",\"Barge I\",null,\"Barge I\",\"Barge I\",\"Barge I\",\"Barge I\",null,\"Barge I\",\"Barge I\",\"Barge I\",\"Barge I\",null,\"Barge I\",\"Barge I\",\"Barge I\",\"Barge I\",null,\"Barge I\",\"Barge I\",\"Barge I\",\"Barge I\",null,\"Barge I\",\"Barge I\",\"Barge I\",\"Barge I\",null,\"Reclamation\",\"Reclamation\",\"Reclamation\",\"Reclamation\",null,\"Reclamation\",\"Reclamation\",\"Reclamation\",\"Reclamation\",null,\"Reclamation\",\"Reclamation\",\"Reclamation\",\"Reclamation\",null,\"Reclamation\",\"Reclamation\",\"Reclamation\",\"Reclamation\",null,\"Reclamation\",\"Reclamation\",\"Reclamation\",\"Reclamation\",null,\"Reclamation\",\"Reclamation\",\"Reclamation\",\"Reclamation\",null],\"type\":\"scatter\"},{\"connectgaps\":false,\"hoverinfo\":\"y+name\",\"line\":{\"color\":\"rgb(111,98,127)\",\"width\":10},\"mode\":\"lines\",\"name\":\"loading:Carrier A\",\"x\":[\"1970-01-01T01:49:05\",\"1970-01-01T01:49:05\",\"1970-01-01T02:22:25\",\"1970-01-01T02:22:25\",\"1970-01-01T02:22:25\",\"1970-01-01T04:24:49\",\"1970-01-01T04:24:49\",\"1970-01-01T04:58:09\",\"1970-01-01T04:58:09\",\"1970-01-01T04:58:09\",\"1970-01-01T07:22:18\",\"1970-01-01T07:22:18\",\"1970-01-01T07:55:38\",\"1970-01-01T07:55:38\",\"1970-01-01T07:55:38\",\"1970-01-01T10:25:31\",\"1970-01-01T10:25:31\",\"1970-01-01T10:58:51\",\"1970-01-01T10:58:51\",\"1970-01-01T10:58:51\",\"1970-01-01T13:28:44\",\"1970-01-01T13:28:44\",\"1970-01-01T14:02:04\",\"1970-01-01T14:02:04\",\"1970-01-01T14:02:04\",\"1970-01-01T16:31:57\",\"1970-01-01T16:31:57\",\"1970-01-01T17:05:17\",\"1970-01-01T17:05:17\",\"1970-01-01T17:05:17\",\"1970-01-01T01:49:05\",\"1970-01-01T01:49:05\",\"1970-01-01T02:22:25\",\"1970-01-01T02:22:25\",\"1970-01-01T02:22:25\",\"1970-01-01T04:24:49\",\"1970-01-01T04:24:49\",\"1970-01-01T04:58:09\",\"1970-01-01T04:58:09\",\"1970-01-01T04:58:09\",\"1970-01-01T07:22:18\",\"1970-01-01T07:22:18\",\"1970-01-01T07:55:38\",\"1970-01-01T07:55:38\",\"1970-01-01T07:55:38\",\"1970-01-01T10:25:31\",\"1970-01-01T10:25:31\",\"1970-01-01T10:58:51\",\"1970-01-01T10:58:51\",\"1970-01-01T10:58:51\",\"1970-01-01T13:28:44\",\"1970-01-01T13:28:44\",\"1970-01-01T14:02:04\",\"1970-01-01T14:02:04\",\"1970-01-01T14:02:04\",\"1970-01-01T16:31:57\",\"1970-01-01T16:31:57\",\"1970-01-01T17:05:17\",\"1970-01-01T17:05:17\",\"1970-01-01T17:05:17\",\"1970-01-01T01:49:05\",\"1970-01-01T01:49:05\",\"1970-01-01T02:22:25\",\"1970-01-01T02:22:25\",\"1970-01-01T02:22:25\",\"1970-01-01T04:24:49\",\"1970-01-01T04:24:49\",\"1970-01-01T04:58:09\",\"1970-01-01T04:58:09\",\"1970-01-01T04:58:09\",\"1970-01-01T07:22:18\",\"1970-01-01T07:22:18\",\"1970-01-01T07:55:38\",\"1970-01-01T07:55:38\",\"1970-01-01T07:55:38\",\"1970-01-01T10:25:31\",\"1970-01-01T10:25:31\",\"1970-01-01T10:58:51\",\"1970-01-01T10:58:51\",\"1970-01-01T10:58:51\",\"1970-01-01T13:28:44\",\"1970-01-01T13:28:44\",\"1970-01-01T14:02:04\",\"1970-01-01T14:02:04\",\"1970-01-01T14:02:04\",\"1970-01-01T16:31:57\",\"1970-01-01T16:31:57\",\"1970-01-01T17:05:17\",\"1970-01-01T17:05:17\",\"1970-01-01T17:05:17\"],\"y\":[\"Carrier A\",\"Carrier A\",\"Carrier A\",\"Carrier A\",null,\"Carrier A\",\"Carrier A\",\"Carrier A\",\"Carrier A\",null,\"Carrier A\",\"Carrier A\",\"Carrier A\",\"Carrier A\",null,\"Carrier A\",\"Carrier A\",\"Carrier A\",\"Carrier A\",null,\"Carrier A\",\"Carrier A\",\"Carrier A\",\"Carrier A\",null,\"Carrier A\",\"Carrier A\",\"Carrier A\",\"Carrier A\",null,\"Cutter T\",\"Cutter T\",\"Cutter T\",\"Cutter T\",null,\"Cutter T\",\"Cutter T\",\"Cutter T\",\"Cutter T\",null,\"Cutter T\",\"Cutter T\",\"Cutter T\",\"Cutter T\",null,\"Cutter T\",\"Cutter T\",\"Cutter T\",\"Cutter T\",null,\"Cutter T\",\"Cutter T\",\"Cutter T\",\"Cutter T\",null,\"Cutter T\",\"Cutter T\",\"Cutter T\",\"Cutter T\",null,\"Trench\",\"Trench\",\"Trench\",\"Trench\",null,\"Trench\",\"Trench\",\"Trench\",\"Trench\",null,\"Trench\",\"Trench\",\"Trench\",\"Trench\",null,\"Trench\",\"Trench\",\"Trench\",\"Trench\",null,\"Trench\",\"Trench\",\"Trench\",\"Trench\",null,\"Trench\",\"Trench\",\"Trench\",\"Trench\",null],\"type\":\"scatter\"},{\"connectgaps\":false,\"hoverinfo\":\"y+name\",\"line\":{\"color\":\"rgb(120,107,136)\",\"width\":10},\"mode\":\"lines\",\"name\":\"loading:Carrier C\",\"x\":[\"1970-01-01T02:22:25\",\"1970-01-01T02:22:25\",\"1970-01-01T03:04:05\",\"1970-01-01T03:04:05\",\"1970-01-01T03:04:05\",\"1970-01-01T05:25:38\",\"1970-01-01T05:25:38\",\"1970-01-01T06:07:18\",\"1970-01-01T06:07:18\",\"1970-01-01T06:07:18\",\"1970-01-01T08:28:51\",\"1970-01-01T08:28:51\",\"1970-01-01T09:10:31\",\"1970-01-01T09:10:31\",\"1970-01-01T09:10:31\",\"1970-01-01T11:32:04\",\"1970-01-01T11:32:04\",\"1970-01-01T12:13:44\",\"1970-01-01T12:13:44\",\"1970-01-01T12:13:44\",\"1970-01-01T14:35:17\",\"1970-01-01T14:35:17\",\"1970-01-01T15:16:57\",\"1970-01-01T15:16:57\",\"1970-01-01T15:16:57\",\"1970-01-01T02:22:25\",\"1970-01-01T02:22:25\",\"1970-01-01T03:04:05\",\"1970-01-01T03:04:05\",\"1970-01-01T03:04:05\",\"1970-01-01T05:25:38\",\"1970-01-01T05:25:38\",\"1970-01-01T06:07:18\",\"1970-01-01T06:07:18\",\"1970-01-01T06:07:18\",\"1970-01-01T08:28:51\",\"1970-01-01T08:28:51\",\"1970-01-01T09:10:31\",\"1970-01-01T09:10:31\",\"1970-01-01T09:10:31\",\"1970-01-01T11:32:04\",\"1970-01-01T11:32:04\",\"1970-01-01T12:13:44\",\"1970-01-01T12:13:44\",\"1970-01-01T12:13:44\",\"1970-01-01T14:35:17\",\"1970-01-01T14:35:17\",\"1970-01-01T15:16:57\",\"1970-01-01T15:16:57\",\"1970-01-01T15:16:57\",\"1970-01-01T02:22:25\",\"1970-01-01T02:22:25\",\"1970-01-01T03:04:05\",\"1970-01-01T03:04:05\",\"1970-01-01T03:04:05\",\"1970-01-01T05:25:38\",\"1970-01-01T05:25:38\",\"1970-01-01T06:07:18\",\"1970-01-01T06:07:18\",\"1970-01-01T06:07:18\",\"1970-01-01T08:28:51\",\"1970-01-01T08:28:51\",\"1970-01-01T09:10:31\",\"1970-01-01T09:10:31\",\"1970-01-01T09:10:31\",\"1970-01-01T11:32:04\",\"1970-01-01T11:32:04\",\"1970-01-01T12:13:44\",\"1970-01-01T12:13:44\",\"1970-01-01T12:13:44\",\"1970-01-01T14:35:17\",\"1970-01-01T14:35:17\",\"1970-01-01T15:16:57\",\"1970-01-01T15:16:57\",\"1970-01-01T15:16:57\"],\"y\":[\"Carrier C\",\"Carrier C\",\"Carrier C\",\"Carrier C\",null,\"Carrier C\",\"Carrier C\",\"Carrier C\",\"Carrier C\",null,\"Carrier C\",\"Carrier C\",\"Carrier C\",\"Carrier C\",null,\"Carrier C\",\"Carrier C\",\"Carrier C\",\"Carrier C\",null,\"Carrier C\",\"Carrier C\",\"Carrier C\",\"Carrier C\",null,\"Cutter T\",\"Cutter T\",\"Cutter T\",\"Cutter T\",null,\"Cutter T\",\"Cutter T\",\"Cutter T\",\"Cutter T\",null,\"Cutter T\",\"Cutter T\",\"Cutter T\",\"Cutter T\",null,\"Cutter T\",\"Cutter T\",\"Cutter T\",\"Cutter T\",null,\"Cutter T\",\"Cutter T\",\"Cutter T\",\"Cutter T\",null,\"Trench\",\"Trench\",\"Trench\",\"Trench\",null,\"Trench\",\"Trench\",\"Trench\",\"Trench\",null,\"Trench\",\"Trench\",\"Trench\",\"Trench\",null,\"Trench\",\"Trench\",\"Trench\",\"Trench\",null,\"Trench\",\"Trench\",\"Trench\",\"Trench\",null],\"type\":\"scatter\"},{\"connectgaps\":false,\"hoverinfo\":\"y+name\",\"line\":{\"color\":\"rgb(129,116,145)\",\"width\":10},\"mode\":\"lines\",\"name\":\"loading:Carrier B\",\"x\":[\"1970-01-01T01:15:45\",\"1970-01-01T01:15:45\",\"1970-01-01T01:49:05\",\"1970-01-01T01:49:05\",\"1970-01-01T01:49:05\",\"1970-01-01T03:45:45\",\"1970-01-01T03:45:45\",\"1970-01-01T04:19:05\",\"1970-01-01T04:19:05\",\"1970-01-01T04:19:05\",\"1970-01-01T06:48:58\",\"1970-01-01T06:48:58\",\"1970-01-01T07:22:18\",\"1970-01-01T07:22:18\",\"1970-01-01T07:22:18\",\"1970-01-01T09:52:11\",\"1970-01-01T09:52:11\",\"1970-01-01T10:25:31\",\"1970-01-01T10:25:31\",\"1970-01-01T10:25:31\",\"1970-01-01T12:55:24\",\"1970-01-01T12:55:24\",\"1970-01-01T13:28:44\",\"1970-01-01T13:28:44\",\"1970-01-01T13:28:44\",\"1970-01-01T15:58:37\",\"1970-01-01T15:58:37\",\"1970-01-01T16:31:57\",\"1970-01-01T16:31:57\",\"1970-01-01T16:31:57\",\"1970-01-01T01:15:45\",\"1970-01-01T01:15:45\",\"1970-01-01T01:49:05\",\"1970-01-01T01:49:05\",\"1970-01-01T01:49:05\",\"1970-01-01T03:45:45\",\"1970-01-01T03:45:45\",\"1970-01-01T04:19:05\",\"1970-01-01T04:19:05\",\"1970-01-01T04:19:05\",\"1970-01-01T06:48:58\",\"1970-01-01T06:48:58\",\"1970-01-01T07:22:18\",\"1970-01-01T07:22:18\",\"1970-01-01T07:22:18\",\"1970-01-01T09:52:11\",\"1970-01-01T09:52:11\",\"1970-01-01T10:25:31\",\"1970-01-01T10:25:31\",\"1970-01-01T10:25:31\",\"1970-01-01T12:55:24\",\"1970-01-01T12:55:24\",\"1970-01-01T13:28:44\",\"1970-01-01T13:28:44\",\"1970-01-01T13:28:44\",\"1970-01-01T15:58:37\",\"1970-01-01T15:58:37\",\"1970-01-01T16:31:57\",\"1970-01-01T16:31:57\",\"1970-01-01T16:31:57\",\"1970-01-01T01:15:45\",\"1970-01-01T01:15:45\",\"1970-01-01T01:49:05\",\"1970-01-01T01:49:05\",\"1970-01-01T01:49:05\",\"1970-01-01T03:45:45\",\"1970-01-01T03:45:45\",\"1970-01-01T04:19:05\",\"1970-01-01T04:19:05\",\"1970-01-01T04:19:05\",\"1970-01-01T06:48:58\",\"1970-01-01T06:48:58\",\"1970-01-01T07:22:18\",\"1970-01-01T07:22:18\",\"1970-01-01T07:22:18\",\"1970-01-01T09:52:11\",\"1970-01-01T09:52:11\",\"1970-01-01T10:25:31\",\"1970-01-01T10:25:31\",\"1970-01-01T10:25:31\",\"1970-01-01T12:55:24\",\"1970-01-01T12:55:24\",\"1970-01-01T13:28:44\",\"1970-01-01T13:28:44\",\"1970-01-01T13:28:44\",\"1970-01-01T15:58:37\",\"1970-01-01T15:58:37\",\"1970-01-01T16:31:57\",\"1970-01-01T16:31:57\",\"1970-01-01T16:31:57\"],\"y\":[\"Carrier B\",\"Carrier B\",\"Carrier B\",\"Carrier B\",null,\"Carrier B\",\"Carrier B\",\"Carrier B\",\"Carrier B\",null,\"Carrier B\",\"Carrier B\",\"Carrier B\",\"Carrier B\",null,\"Carrier B\",\"Carrier B\",\"Carrier B\",\"Carrier B\",null,\"Carrier B\",\"Carrier B\",\"Carrier B\",\"Carrier B\",null,\"Carrier B\",\"Carrier B\",\"Carrier B\",\"Carrier B\",null,\"Cutter T\",\"Cutter T\",\"Cutter T\",\"Cutter T\",null,\"Cutter T\",\"Cutter T\",\"Cutter T\",\"Cutter T\",null,\"Cutter T\",\"Cutter T\",\"Cutter T\",\"Cutter T\",null,\"Cutter T\",\"Cutter T\",\"Cutter T\",\"Cutter T\",null,\"Cutter T\",\"Cutter T\",\"Cutter T\",\"Cutter T\",null,\"Cutter T\",\"Cutter T\",\"Cutter T\",\"Cutter T\",null,\"Trench\",\"Trench\",\"Trench\",\"Trench\",null,\"Trench\",\"Trench\",\"Trench\",\"Trench\",null,\"Trench\",\"Trench\",\"Trench\",\"Trench\",null,\"Trench\",\"Trench\",\"Trench\",\"Trench\",null,\"Trench\",\"Trench\",\"Trench\",\"Trench\",null,\"Trench\",\"Trench\",\"Trench\",\"Trench\",null],\"type\":\"scatter\"},{\"connectgaps\":false,\"hoverinfo\":\"y+name\",\"line\":{\"color\":\"rgb(138,125,154)\",\"width\":10},\"mode\":\"lines\",\"name\":\"loading:Barge I\",\"x\":[\"1970-01-01T00:34:05\",\"1970-01-01T00:34:05\",\"1970-01-01T01:15:45\",\"1970-01-01T01:15:45\",\"1970-01-01T01:15:45\",\"1970-01-01T03:04:05\",\"1970-01-01T03:04:05\",\"1970-01-01T03:45:45\",\"1970-01-01T03:45:45\",\"1970-01-01T03:45:45\",\"1970-01-01T06:07:18\",\"1970-01-01T06:07:18\",\"1970-01-01T06:48:58\",\"1970-01-01T06:48:58\",\"1970-01-01T06:48:58\",\"1970-01-01T09:10:31\",\"1970-01-01T09:10:31\",\"1970-01-01T09:52:11\",\"1970-01-01T09:52:11\",\"1970-01-01T09:52:11\",\"1970-01-01T12:13:44\",\"1970-01-01T12:13:44\",\"1970-01-01T12:55:24\",\"1970-01-01T12:55:24\",\"1970-01-01T12:55:24\",\"1970-01-01T15:16:57\",\"1970-01-01T15:16:57\",\"1970-01-01T15:58:37\",\"1970-01-01T15:58:37\",\"1970-01-01T15:58:37\",\"1970-01-01T00:34:05\",\"1970-01-01T00:34:05\",\"1970-01-01T01:15:45\",\"1970-01-01T01:15:45\",\"1970-01-01T01:15:45\",\"1970-01-01T03:04:05\",\"1970-01-01T03:04:05\",\"1970-01-01T03:45:45\",\"1970-01-01T03:45:45\",\"1970-01-01T03:45:45\",\"1970-01-01T06:07:18\",\"1970-01-01T06:07:18\",\"1970-01-01T06:48:58\",\"1970-01-01T06:48:58\",\"1970-01-01T06:48:58\",\"1970-01-01T09:10:31\",\"1970-01-01T09:10:31\",\"1970-01-01T09:52:11\",\"1970-01-01T09:52:11\",\"1970-01-01T09:52:11\",\"1970-01-01T12:13:44\",\"1970-01-01T12:13:44\",\"1970-01-01T12:55:24\",\"1970-01-01T12:55:24\",\"1970-01-01T12:55:24\",\"1970-01-01T15:16:57\",\"1970-01-01T15:16:57\",\"1970-01-01T15:58:37\",\"1970-01-01T15:58:37\",\"1970-01-01T15:58:37\",\"1970-01-01T00:34:05\",\"1970-01-01T00:34:05\",\"1970-01-01T01:15:45\",\"1970-01-01T01:15:45\",\"1970-01-01T01:15:45\",\"1970-01-01T03:04:05\",\"1970-01-01T03:04:05\",\"1970-01-01T03:45:45\",\"1970-01-01T03:45:45\",\"1970-01-01T03:45:45\",\"1970-01-01T06:07:18\",\"1970-01-01T06:07:18\",\"1970-01-01T06:48:58\",\"1970-01-01T06:48:58\",\"1970-01-01T06:48:58\",\"1970-01-01T09:10:31\",\"1970-01-01T09:10:31\",\"1970-01-01T09:52:11\",\"1970-01-01T09:52:11\",\"1970-01-01T09:52:11\",\"1970-01-01T12:13:44\",\"1970-01-01T12:13:44\",\"1970-01-01T12:55:24\",\"1970-01-01T12:55:24\",\"1970-01-01T12:55:24\",\"1970-01-01T15:16:57\",\"1970-01-01T15:16:57\",\"1970-01-01T15:58:37\",\"1970-01-01T15:58:37\",\"1970-01-01T15:58:37\"],\"y\":[\"Barge I\",\"Barge I\",\"Barge I\",\"Barge I\",null,\"Barge I\",\"Barge I\",\"Barge I\",\"Barge I\",null,\"Barge I\",\"Barge I\",\"Barge I\",\"Barge I\",null,\"Barge I\",\"Barge I\",\"Barge I\",\"Barge I\",null,\"Barge I\",\"Barge I\",\"Barge I\",\"Barge I\",null,\"Barge I\",\"Barge I\",\"Barge I\",\"Barge I\",null,\"Cutter T\",\"Cutter T\",\"Cutter T\",\"Cutter T\",null,\"Cutter T\",\"Cutter T\",\"Cutter T\",\"Cutter T\",null,\"Cutter T\",\"Cutter T\",\"Cutter T\",\"Cutter T\",null,\"Cutter T\",\"Cutter T\",\"Cutter T\",\"Cutter T\",null,\"Cutter T\",\"Cutter T\",\"Cutter T\",\"Cutter T\",null,\"Cutter T\",\"Cutter T\",\"Cutter T\",\"Cutter T\",null,\"Trench\",\"Trench\",\"Trench\",\"Trench\",null,\"Trench\",\"Trench\",\"Trench\",\"Trench\",null,\"Trench\",\"Trench\",\"Trench\",\"Trench\",null,\"Trench\",\"Trench\",\"Trench\",\"Trench\",null,\"Trench\",\"Trench\",\"Trench\",\"Trench\",null,\"Trench\",\"Trench\",\"Trench\",\"Trench\",null],\"type\":\"scatter\"},{\"connectgaps\":false,\"hoverinfo\":\"y+name\",\"line\":{\"color\":\"rgb(147,134,163)\",\"width\":10},\"mode\":\"lines\",\"name\":\"loading:Carrier A\",\"x\":[\"1970-01-01T01:49:05\",\"1970-01-01T01:49:05\",\"1970-01-01T02:22:25\",\"1970-01-01T02:22:25\",\"1970-01-01T02:22:25\",\"1970-01-01T04:24:49\",\"1970-01-01T04:24:49\",\"1970-01-01T04:58:09\",\"1970-01-01T04:58:09\",\"1970-01-01T04:58:09\",\"1970-01-01T07:22:18\",\"1970-01-01T07:22:18\",\"1970-01-01T07:55:38\",\"1970-01-01T07:55:38\",\"1970-01-01T07:55:38\",\"1970-01-01T10:25:31\",\"1970-01-01T10:25:31\",\"1970-01-01T10:58:51\",\"1970-01-01T10:58:51\",\"1970-01-01T10:58:51\",\"1970-01-01T13:28:44\",\"1970-01-01T13:28:44\",\"1970-01-01T14:02:04\",\"1970-01-01T14:02:04\",\"1970-01-01T14:02:04\",\"1970-01-01T16:31:57\",\"1970-01-01T16:31:57\",\"1970-01-01T17:05:17\",\"1970-01-01T17:05:17\",\"1970-01-01T17:05:17\",\"1970-01-01T01:49:05\",\"1970-01-01T01:49:05\",\"1970-01-01T02:22:25\",\"1970-01-01T02:22:25\",\"1970-01-01T02:22:25\",\"1970-01-01T04:24:49\",\"1970-01-01T04:24:49\",\"1970-01-01T04:58:09\",\"1970-01-01T04:58:09\",\"1970-01-01T04:58:09\",\"1970-01-01T07:22:18\",\"1970-01-01T07:22:18\",\"1970-01-01T07:55:38\",\"1970-01-01T07:55:38\",\"1970-01-01T07:55:38\",\"1970-01-01T10:25:31\",\"1970-01-01T10:25:31\",\"1970-01-01T10:58:51\",\"1970-01-01T10:58:51\",\"1970-01-01T10:58:51\",\"1970-01-01T13:28:44\",\"1970-01-01T13:28:44\",\"1970-01-01T14:02:04\",\"1970-01-01T14:02:04\",\"1970-01-01T14:02:04\",\"1970-01-01T16:31:57\",\"1970-01-01T16:31:57\",\"1970-01-01T17:05:17\",\"1970-01-01T17:05:17\",\"1970-01-01T17:05:17\",\"1970-01-01T01:49:05\",\"1970-01-01T01:49:05\",\"1970-01-01T02:22:25\",\"1970-01-01T02:22:25\",\"1970-01-01T02:22:25\",\"1970-01-01T04:24:49\",\"1970-01-01T04:24:49\",\"1970-01-01T04:58:09\",\"1970-01-01T04:58:09\",\"1970-01-01T04:58:09\",\"1970-01-01T07:22:18\",\"1970-01-01T07:22:18\",\"1970-01-01T07:55:38\",\"1970-01-01T07:55:38\",\"1970-01-01T07:55:38\",\"1970-01-01T10:25:31\",\"1970-01-01T10:25:31\",\"1970-01-01T10:58:51\",\"1970-01-01T10:58:51\",\"1970-01-01T10:58:51\",\"1970-01-01T13:28:44\",\"1970-01-01T13:28:44\",\"1970-01-01T14:02:04\",\"1970-01-01T14:02:04\",\"1970-01-01T14:02:04\",\"1970-01-01T16:31:57\",\"1970-01-01T16:31:57\",\"1970-01-01T17:05:17\",\"1970-01-01T17:05:17\",\"1970-01-01T17:05:17\"],\"y\":[\"Carrier A\",\"Carrier A\",\"Carrier A\",\"Carrier A\",null,\"Carrier A\",\"Carrier A\",\"Carrier A\",\"Carrier A\",null,\"Carrier A\",\"Carrier A\",\"Carrier A\",\"Carrier A\",null,\"Carrier A\",\"Carrier A\",\"Carrier A\",\"Carrier A\",null,\"Carrier A\",\"Carrier A\",\"Carrier A\",\"Carrier A\",null,\"Carrier A\",\"Carrier A\",\"Carrier A\",\"Carrier A\",null,\"Cutter T\",\"Cutter T\",\"Cutter T\",\"Cutter T\",null,\"Cutter T\",\"Cutter T\",\"Cutter T\",\"Cutter T\",null,\"Cutter T\",\"Cutter T\",\"Cutter T\",\"Cutter T\",null,\"Cutter T\",\"Cutter T\",\"Cutter T\",\"Cutter T\",null,\"Cutter T\",\"Cutter T\",\"Cutter T\",\"Cutter T\",null,\"Cutter T\",\"Cutter T\",\"Cutter T\",\"Cutter T\",null,\"Trench\",\"Trench\",\"Trench\",\"Trench\",null,\"Trench\",\"Trench\",\"Trench\",\"Trench\",null,\"Trench\",\"Trench\",\"Trench\",\"Trench\",null,\"Trench\",\"Trench\",\"Trench\",\"Trench\",null,\"Trench\",\"Trench\",\"Trench\",\"Trench\",null,\"Trench\",\"Trench\",\"Trench\",\"Trench\",null],\"type\":\"scatter\"},{\"connectgaps\":false,\"hoverinfo\":\"y+name\",\"line\":{\"color\":\"rgb(156,143,172)\",\"width\":10},\"mode\":\"lines\",\"name\":\"loading:Carrier C\",\"x\":[\"1970-01-01T02:22:25\",\"1970-01-01T02:22:25\",\"1970-01-01T03:04:05\",\"1970-01-01T03:04:05\",\"1970-01-01T03:04:05\",\"1970-01-01T05:25:38\",\"1970-01-01T05:25:38\",\"1970-01-01T06:07:18\",\"1970-01-01T06:07:18\",\"1970-01-01T06:07:18\",\"1970-01-01T08:28:51\",\"1970-01-01T08:28:51\",\"1970-01-01T09:10:31\",\"1970-01-01T09:10:31\",\"1970-01-01T09:10:31\",\"1970-01-01T11:32:04\",\"1970-01-01T11:32:04\",\"1970-01-01T12:13:44\",\"1970-01-01T12:13:44\",\"1970-01-01T12:13:44\",\"1970-01-01T14:35:17\",\"1970-01-01T14:35:17\",\"1970-01-01T15:16:57\",\"1970-01-01T15:16:57\",\"1970-01-01T15:16:57\",\"1970-01-01T02:22:25\",\"1970-01-01T02:22:25\",\"1970-01-01T03:04:05\",\"1970-01-01T03:04:05\",\"1970-01-01T03:04:05\",\"1970-01-01T05:25:38\",\"1970-01-01T05:25:38\",\"1970-01-01T06:07:18\",\"1970-01-01T06:07:18\",\"1970-01-01T06:07:18\",\"1970-01-01T08:28:51\",\"1970-01-01T08:28:51\",\"1970-01-01T09:10:31\",\"1970-01-01T09:10:31\",\"1970-01-01T09:10:31\",\"1970-01-01T11:32:04\",\"1970-01-01T11:32:04\",\"1970-01-01T12:13:44\",\"1970-01-01T12:13:44\",\"1970-01-01T12:13:44\",\"1970-01-01T14:35:17\",\"1970-01-01T14:35:17\",\"1970-01-01T15:16:57\",\"1970-01-01T15:16:57\",\"1970-01-01T15:16:57\",\"1970-01-01T02:22:25\",\"1970-01-01T02:22:25\",\"1970-01-01T03:04:05\",\"1970-01-01T03:04:05\",\"1970-01-01T03:04:05\",\"1970-01-01T05:25:38\",\"1970-01-01T05:25:38\",\"1970-01-01T06:07:18\",\"1970-01-01T06:07:18\",\"1970-01-01T06:07:18\",\"1970-01-01T08:28:51\",\"1970-01-01T08:28:51\",\"1970-01-01T09:10:31\",\"1970-01-01T09:10:31\",\"1970-01-01T09:10:31\",\"1970-01-01T11:32:04\",\"1970-01-01T11:32:04\",\"1970-01-01T12:13:44\",\"1970-01-01T12:13:44\",\"1970-01-01T12:13:44\",\"1970-01-01T14:35:17\",\"1970-01-01T14:35:17\",\"1970-01-01T15:16:57\",\"1970-01-01T15:16:57\",\"1970-01-01T15:16:57\"],\"y\":[\"Carrier C\",\"Carrier C\",\"Carrier C\",\"Carrier C\",null,\"Carrier C\",\"Carrier C\",\"Carrier C\",\"Carrier C\",null,\"Carrier C\",\"Carrier C\",\"Carrier C\",\"Carrier C\",null,\"Carrier C\",\"Carrier C\",\"Carrier C\",\"Carrier C\",null,\"Carrier C\",\"Carrier C\",\"Carrier C\",\"Carrier C\",null,\"Cutter T\",\"Cutter T\",\"Cutter T\",\"Cutter T\",null,\"Cutter T\",\"Cutter T\",\"Cutter T\",\"Cutter T\",null,\"Cutter T\",\"Cutter T\",\"Cutter T\",\"Cutter T\",null,\"Cutter T\",\"Cutter T\",\"Cutter T\",\"Cutter T\",null,\"Cutter T\",\"Cutter T\",\"Cutter T\",\"Cutter T\",null,\"Trench\",\"Trench\",\"Trench\",\"Trench\",null,\"Trench\",\"Trench\",\"Trench\",\"Trench\",null,\"Trench\",\"Trench\",\"Trench\",\"Trench\",null,\"Trench\",\"Trench\",\"Trench\",\"Trench\",null,\"Trench\",\"Trench\",\"Trench\",\"Trench\",null],\"type\":\"scatter\"},{\"connectgaps\":false,\"hoverinfo\":\"y+name\",\"line\":{\"color\":\"rgb(165,152,181)\",\"width\":10},\"mode\":\"lines\",\"name\":\"loading:Carrier B\",\"x\":[\"1970-01-01T01:15:45\",\"1970-01-01T01:15:45\",\"1970-01-01T01:49:05\",\"1970-01-01T01:49:05\",\"1970-01-01T01:49:05\",\"1970-01-01T03:45:45\",\"1970-01-01T03:45:45\",\"1970-01-01T04:19:05\",\"1970-01-01T04:19:05\",\"1970-01-01T04:19:05\",\"1970-01-01T06:48:58\",\"1970-01-01T06:48:58\",\"1970-01-01T07:22:18\",\"1970-01-01T07:22:18\",\"1970-01-01T07:22:18\",\"1970-01-01T09:52:11\",\"1970-01-01T09:52:11\",\"1970-01-01T10:25:31\",\"1970-01-01T10:25:31\",\"1970-01-01T10:25:31\",\"1970-01-01T12:55:24\",\"1970-01-01T12:55:24\",\"1970-01-01T13:28:44\",\"1970-01-01T13:28:44\",\"1970-01-01T13:28:44\",\"1970-01-01T15:58:37\",\"1970-01-01T15:58:37\",\"1970-01-01T16:31:57\",\"1970-01-01T16:31:57\",\"1970-01-01T16:31:57\",\"1970-01-01T01:15:45\",\"1970-01-01T01:15:45\",\"1970-01-01T01:49:05\",\"1970-01-01T01:49:05\",\"1970-01-01T01:49:05\",\"1970-01-01T03:45:45\",\"1970-01-01T03:45:45\",\"1970-01-01T04:19:05\",\"1970-01-01T04:19:05\",\"1970-01-01T04:19:05\",\"1970-01-01T06:48:58\",\"1970-01-01T06:48:58\",\"1970-01-01T07:22:18\",\"1970-01-01T07:22:18\",\"1970-01-01T07:22:18\",\"1970-01-01T09:52:11\",\"1970-01-01T09:52:11\",\"1970-01-01T10:25:31\",\"1970-01-01T10:25:31\",\"1970-01-01T10:25:31\",\"1970-01-01T12:55:24\",\"1970-01-01T12:55:24\",\"1970-01-01T13:28:44\",\"1970-01-01T13:28:44\",\"1970-01-01T13:28:44\",\"1970-01-01T15:58:37\",\"1970-01-01T15:58:37\",\"1970-01-01T16:31:57\",\"1970-01-01T16:31:57\",\"1970-01-01T16:31:57\",\"1970-01-01T01:15:45\",\"1970-01-01T01:15:45\",\"1970-01-01T01:49:05\",\"1970-01-01T01:49:05\",\"1970-01-01T01:49:05\",\"1970-01-01T03:45:45\",\"1970-01-01T03:45:45\",\"1970-01-01T04:19:05\",\"1970-01-01T04:19:05\",\"1970-01-01T04:19:05\",\"1970-01-01T06:48:58\",\"1970-01-01T06:48:58\",\"1970-01-01T07:22:18\",\"1970-01-01T07:22:18\",\"1970-01-01T07:22:18\",\"1970-01-01T09:52:11\",\"1970-01-01T09:52:11\",\"1970-01-01T10:25:31\",\"1970-01-01T10:25:31\",\"1970-01-01T10:25:31\",\"1970-01-01T12:55:24\",\"1970-01-01T12:55:24\",\"1970-01-01T13:28:44\",\"1970-01-01T13:28:44\",\"1970-01-01T13:28:44\",\"1970-01-01T15:58:37\",\"1970-01-01T15:58:37\",\"1970-01-01T16:31:57\",\"1970-01-01T16:31:57\",\"1970-01-01T16:31:57\"],\"y\":[\"Carrier B\",\"Carrier B\",\"Carrier B\",\"Carrier B\",null,\"Carrier B\",\"Carrier B\",\"Carrier B\",\"Carrier B\",null,\"Carrier B\",\"Carrier B\",\"Carrier B\",\"Carrier B\",null,\"Carrier B\",\"Carrier B\",\"Carrier B\",\"Carrier B\",null,\"Carrier B\",\"Carrier B\",\"Carrier B\",\"Carrier B\",null,\"Carrier B\",\"Carrier B\",\"Carrier B\",\"Carrier B\",null,\"Cutter T\",\"Cutter T\",\"Cutter T\",\"Cutter T\",null,\"Cutter T\",\"Cutter T\",\"Cutter T\",\"Cutter T\",null,\"Cutter T\",\"Cutter T\",\"Cutter T\",\"Cutter T\",null,\"Cutter T\",\"Cutter T\",\"Cutter T\",\"Cutter T\",null,\"Cutter T\",\"Cutter T\",\"Cutter T\",\"Cutter T\",null,\"Cutter T\",\"Cutter T\",\"Cutter T\",\"Cutter T\",null,\"Trench\",\"Trench\",\"Trench\",\"Trench\",null,\"Trench\",\"Trench\",\"Trench\",\"Trench\",null,\"Trench\",\"Trench\",\"Trench\",\"Trench\",null,\"Trench\",\"Trench\",\"Trench\",\"Trench\",null,\"Trench\",\"Trench\",\"Trench\",\"Trench\",null,\"Trench\",\"Trench\",\"Trench\",\"Trench\",null],\"type\":\"scatter\"},{\"connectgaps\":false,\"hoverinfo\":\"y+name\",\"line\":{\"color\":\"rgb(174,161,190)\",\"width\":10},\"mode\":\"lines\",\"name\":\"loading:Barge I\",\"x\":[\"1970-01-01T00:34:05\",\"1970-01-01T00:34:05\",\"1970-01-01T01:15:45\",\"1970-01-01T01:15:45\",\"1970-01-01T01:15:45\",\"1970-01-01T03:04:05\",\"1970-01-01T03:04:05\",\"1970-01-01T03:45:45\",\"1970-01-01T03:45:45\",\"1970-01-01T03:45:45\",\"1970-01-01T06:07:18\",\"1970-01-01T06:07:18\",\"1970-01-01T06:48:58\",\"1970-01-01T06:48:58\",\"1970-01-01T06:48:58\",\"1970-01-01T09:10:31\",\"1970-01-01T09:10:31\",\"1970-01-01T09:52:11\",\"1970-01-01T09:52:11\",\"1970-01-01T09:52:11\",\"1970-01-01T12:13:44\",\"1970-01-01T12:13:44\",\"1970-01-01T12:55:24\",\"1970-01-01T12:55:24\",\"1970-01-01T12:55:24\",\"1970-01-01T15:16:57\",\"1970-01-01T15:16:57\",\"1970-01-01T15:58:37\",\"1970-01-01T15:58:37\",\"1970-01-01T15:58:37\",\"1970-01-01T00:34:05\",\"1970-01-01T00:34:05\",\"1970-01-01T01:15:45\",\"1970-01-01T01:15:45\",\"1970-01-01T01:15:45\",\"1970-01-01T03:04:05\",\"1970-01-01T03:04:05\",\"1970-01-01T03:45:45\",\"1970-01-01T03:45:45\",\"1970-01-01T03:45:45\",\"1970-01-01T06:07:18\",\"1970-01-01T06:07:18\",\"1970-01-01T06:48:58\",\"1970-01-01T06:48:58\",\"1970-01-01T06:48:58\",\"1970-01-01T09:10:31\",\"1970-01-01T09:10:31\",\"1970-01-01T09:52:11\",\"1970-01-01T09:52:11\",\"1970-01-01T09:52:11\",\"1970-01-01T12:13:44\",\"1970-01-01T12:13:44\",\"1970-01-01T12:55:24\",\"1970-01-01T12:55:24\",\"1970-01-01T12:55:24\",\"1970-01-01T15:16:57\",\"1970-01-01T15:16:57\",\"1970-01-01T15:58:37\",\"1970-01-01T15:58:37\",\"1970-01-01T15:58:37\",\"1970-01-01T00:34:05\",\"1970-01-01T00:34:05\",\"1970-01-01T01:15:45\",\"1970-01-01T01:15:45\",\"1970-01-01T01:15:45\",\"1970-01-01T03:04:05\",\"1970-01-01T03:04:05\",\"1970-01-01T03:45:45\",\"1970-01-01T03:45:45\",\"1970-01-01T03:45:45\",\"1970-01-01T06:07:18\",\"1970-01-01T06:07:18\",\"1970-01-01T06:48:58\",\"1970-01-01T06:48:58\",\"1970-01-01T06:48:58\",\"1970-01-01T09:10:31\",\"1970-01-01T09:10:31\",\"1970-01-01T09:52:11\",\"1970-01-01T09:52:11\",\"1970-01-01T09:52:11\",\"1970-01-01T12:13:44\",\"1970-01-01T12:13:44\",\"1970-01-01T12:55:24\",\"1970-01-01T12:55:24\",\"1970-01-01T12:55:24\",\"1970-01-01T15:16:57\",\"1970-01-01T15:16:57\",\"1970-01-01T15:58:37\",\"1970-01-01T15:58:37\",\"1970-01-01T15:58:37\"],\"y\":[\"Barge I\",\"Barge I\",\"Barge I\",\"Barge I\",null,\"Barge I\",\"Barge I\",\"Barge I\",\"Barge I\",null,\"Barge I\",\"Barge I\",\"Barge I\",\"Barge I\",null,\"Barge I\",\"Barge I\",\"Barge I\",\"Barge I\",null,\"Barge I\",\"Barge I\",\"Barge I\",\"Barge I\",null,\"Barge I\",\"Barge I\",\"Barge I\",\"Barge I\",null,\"Cutter T\",\"Cutter T\",\"Cutter T\",\"Cutter T\",null,\"Cutter T\",\"Cutter T\",\"Cutter T\",\"Cutter T\",null,\"Cutter T\",\"Cutter T\",\"Cutter T\",\"Cutter T\",null,\"Cutter T\",\"Cutter T\",\"Cutter T\",\"Cutter T\",null,\"Cutter T\",\"Cutter T\",\"Cutter T\",\"Cutter T\",null,\"Cutter T\",\"Cutter T\",\"Cutter T\",\"Cutter T\",null,\"Trench\",\"Trench\",\"Trench\",\"Trench\",null,\"Trench\",\"Trench\",\"Trench\",\"Trench\",null,\"Trench\",\"Trench\",\"Trench\",\"Trench\",null,\"Trench\",\"Trench\",\"Trench\",\"Trench\",null,\"Trench\",\"Trench\",\"Trench\",\"Trench\",null,\"Trench\",\"Trench\",\"Trench\",\"Trench\",null],\"type\":\"scatter\"},{\"connectgaps\":false,\"hoverinfo\":\"y+name\",\"line\":{\"color\":\"rgb(183,170,199)\",\"width\":10},\"mode\":\"lines\",\"name\":\"unloading:Carrier C\",\"x\":[\"1970-01-01T03:51:16\",\"1970-01-01T03:51:16\",\"1970-01-01T04:38:27\",\"1970-01-01T04:38:27\",\"1970-01-01T04:38:27\",\"1970-01-01T06:54:29\",\"1970-01-01T06:54:29\",\"1970-01-01T07:41:40\",\"1970-01-01T07:41:40\",\"1970-01-01T07:41:40\",\"1970-01-01T09:57:42\",\"1970-01-01T09:57:42\",\"1970-01-01T10:44:53\",\"1970-01-01T10:44:53\",\"1970-01-01T10:44:53\",\"1970-01-01T13:00:55\",\"1970-01-01T13:00:55\",\"1970-01-01T13:48:06\",\"1970-01-01T13:48:06\",\"1970-01-01T13:48:06\",\"1970-01-01T16:04:08\",\"1970-01-01T16:04:08\",\"1970-01-01T16:51:19\",\"1970-01-01T16:51:19\",\"1970-01-01T16:51:19\",\"1970-01-01T03:51:16\",\"1970-01-01T03:51:16\",\"1970-01-01T04:38:27\",\"1970-01-01T04:38:27\",\"1970-01-01T04:38:27\",\"1970-01-01T06:54:29\",\"1970-01-01T06:54:29\",\"1970-01-01T07:41:40\",\"1970-01-01T07:41:40\",\"1970-01-01T07:41:40\",\"1970-01-01T09:57:42\",\"1970-01-01T09:57:42\",\"1970-01-01T10:44:53\",\"1970-01-01T10:44:53\",\"1970-01-01T10:44:53\",\"1970-01-01T13:00:55\",\"1970-01-01T13:00:55\",\"1970-01-01T13:48:06\",\"1970-01-01T13:48:06\",\"1970-01-01T13:48:06\",\"1970-01-01T16:04:08\",\"1970-01-01T16:04:08\",\"1970-01-01T16:51:19\",\"1970-01-01T16:51:19\",\"1970-01-01T16:51:19\"],\"y\":[\"Carrier C\",\"Carrier C\",\"Carrier C\",\"Carrier C\",null,\"Carrier C\",\"Carrier C\",\"Carrier C\",\"Carrier C\",null,\"Carrier C\",\"Carrier C\",\"Carrier C\",\"Carrier C\",null,\"Carrier C\",\"Carrier C\",\"Carrier C\",\"Carrier C\",null,\"Carrier C\",\"Carrier C\",\"Carrier C\",\"Carrier C\",null,\"Reclamation\",\"Reclamation\",\"Reclamation\",\"Reclamation\",null,\"Reclamation\",\"Reclamation\",\"Reclamation\",\"Reclamation\",null,\"Reclamation\",\"Reclamation\",\"Reclamation\",\"Reclamation\",null,\"Reclamation\",\"Reclamation\",\"Reclamation\",\"Reclamation\",null,\"Reclamation\",\"Reclamation\",\"Reclamation\",\"Reclamation\",null],\"type\":\"scatter\"},{\"connectgaps\":false,\"hoverinfo\":\"y+name\",\"line\":{\"color\":\"rgb(192,179,208)\",\"width\":10},\"mode\":\"lines\",\"name\":\"unloading:Carrier A\",\"x\":[\"1970-01-01T03:03:13\",\"1970-01-01T03:03:13\",\"1970-01-01T03:44:01\",\"1970-01-01T03:44:01\",\"1970-01-01T03:44:01\",\"1970-01-01T05:38:57\",\"1970-01-01T05:38:57\",\"1970-01-01T06:19:45\",\"1970-01-01T06:19:45\",\"1970-01-01T06:19:45\",\"1970-01-01T08:36:26\",\"1970-01-01T08:36:26\",\"1970-01-01T09:17:14\",\"1970-01-01T09:17:14\",\"1970-01-01T09:17:14\",\"1970-01-01T11:39:39\",\"1970-01-01T11:39:39\",\"1970-01-01T12:20:27\",\"1970-01-01T12:20:27\",\"1970-01-01T12:20:27\",\"1970-01-01T14:42:52\",\"1970-01-01T14:42:52\",\"1970-01-01T15:23:40\",\"1970-01-01T15:23:40\",\"1970-01-01T15:23:40\",\"1970-01-01T17:46:05\",\"1970-01-01T17:46:05\",\"1970-01-01T18:26:53\",\"1970-01-01T18:26:53\",\"1970-01-01T18:26:53\",\"1970-01-01T03:03:13\",\"1970-01-01T03:03:13\",\"1970-01-01T03:44:01\",\"1970-01-01T03:44:01\",\"1970-01-01T03:44:01\",\"1970-01-01T05:38:57\",\"1970-01-01T05:38:57\",\"1970-01-01T06:19:45\",\"1970-01-01T06:19:45\",\"1970-01-01T06:19:45\",\"1970-01-01T08:36:26\",\"1970-01-01T08:36:26\",\"1970-01-01T09:17:14\",\"1970-01-01T09:17:14\",\"1970-01-01T09:17:14\",\"1970-01-01T11:39:39\",\"1970-01-01T11:39:39\",\"1970-01-01T12:20:27\",\"1970-01-01T12:20:27\",\"1970-01-01T12:20:27\",\"1970-01-01T14:42:52\",\"1970-01-01T14:42:52\",\"1970-01-01T15:23:40\",\"1970-01-01T15:23:40\",\"1970-01-01T15:23:40\",\"1970-01-01T17:46:05\",\"1970-01-01T17:46:05\",\"1970-01-01T18:26:53\",\"1970-01-01T18:26:53\",\"1970-01-01T18:26:53\"],\"y\":[\"Carrier A\",\"Carrier A\",\"Carrier A\",\"Carrier A\",null,\"Carrier A\",\"Carrier A\",\"Carrier A\",\"Carrier A\",null,\"Carrier A\",\"Carrier A\",\"Carrier A\",\"Carrier A\",null,\"Carrier A\",\"Carrier A\",\"Carrier A\",\"Carrier A\",null,\"Carrier A\",\"Carrier A\",\"Carrier A\",\"Carrier A\",null,\"Carrier A\",\"Carrier A\",\"Carrier A\",\"Carrier A\",null,\"Reclamation\",\"Reclamation\",\"Reclamation\",\"Reclamation\",null,\"Reclamation\",\"Reclamation\",\"Reclamation\",\"Reclamation\",null,\"Reclamation\",\"Reclamation\",\"Reclamation\",\"Reclamation\",null,\"Reclamation\",\"Reclamation\",\"Reclamation\",\"Reclamation\",null,\"Reclamation\",\"Reclamation\",\"Reclamation\",\"Reclamation\",null,\"Reclamation\",\"Reclamation\",\"Reclamation\",\"Reclamation\",null],\"type\":\"scatter\"},{\"connectgaps\":false,\"hoverinfo\":\"y+name\",\"line\":{\"color\":\"rgb(201,188,217)\",\"width\":10},\"mode\":\"lines\",\"name\":\"unloading:Carrier B\",\"x\":[\"1970-01-01T02:23:32\",\"1970-01-01T02:23:32\",\"1970-01-01T02:57:59\",\"1970-01-01T02:57:59\",\"1970-01-01T02:57:59\",\"1970-01-01T04:53:32\",\"1970-01-01T04:53:32\",\"1970-01-01T05:27:59\",\"1970-01-01T05:27:59\",\"1970-01-01T05:27:59\",\"1970-01-01T07:56:45\",\"1970-01-01T07:56:45\",\"1970-01-01T08:31:12\",\"1970-01-01T08:31:12\",\"1970-01-01T08:31:12\",\"1970-01-01T10:59:58\",\"1970-01-01T10:59:58\",\"1970-01-01T11:34:25\",\"1970-01-01T11:34:25\",\"1970-01-01T11:34:25\",\"1970-01-01T14:03:11\",\"1970-01-01T14:03:11\",\"1970-01-01T14:37:38\",\"1970-01-01T14:37:38\",\"1970-01-01T14:37:38\",\"1970-01-01T17:06:24\",\"1970-01-01T17:06:24\",\"1970-01-01T17:40:51\",\"1970-01-01T17:40:51\",\"1970-01-01T17:40:51\",\"1970-01-01T02:23:32\",\"1970-01-01T02:23:32\",\"1970-01-01T02:57:59\",\"1970-01-01T02:57:59\",\"1970-01-01T02:57:59\",\"1970-01-01T04:53:32\",\"1970-01-01T04:53:32\",\"1970-01-01T05:27:59\",\"1970-01-01T05:27:59\",\"1970-01-01T05:27:59\",\"1970-01-01T07:56:45\",\"1970-01-01T07:56:45\",\"1970-01-01T08:31:12\",\"1970-01-01T08:31:12\",\"1970-01-01T08:31:12\",\"1970-01-01T10:59:58\",\"1970-01-01T10:59:58\",\"1970-01-01T11:34:25\",\"1970-01-01T11:34:25\",\"1970-01-01T11:34:25\",\"1970-01-01T14:03:11\",\"1970-01-01T14:03:11\",\"1970-01-01T14:37:38\",\"1970-01-01T14:37:38\",\"1970-01-01T14:37:38\",\"1970-01-01T17:06:24\",\"1970-01-01T17:06:24\",\"1970-01-01T17:40:51\",\"1970-01-01T17:40:51\",\"1970-01-01T17:40:51\"],\"y\":[\"Carrier B\",\"Carrier B\",\"Carrier B\",\"Carrier B\",null,\"Carrier B\",\"Carrier B\",\"Carrier B\",\"Carrier B\",null,\"Carrier B\",\"Carrier B\",\"Carrier B\",\"Carrier B\",null,\"Carrier B\",\"Carrier B\",\"Carrier B\",\"Carrier B\",null,\"Carrier B\",\"Carrier B\",\"Carrier B\",\"Carrier B\",null,\"Carrier B\",\"Carrier B\",\"Carrier B\",\"Carrier B\",null,\"Reclamation\",\"Reclamation\",\"Reclamation\",\"Reclamation\",null,\"Reclamation\",\"Reclamation\",\"Reclamation\",\"Reclamation\",null,\"Reclamation\",\"Reclamation\",\"Reclamation\",\"Reclamation\",null,\"Reclamation\",\"Reclamation\",\"Reclamation\",\"Reclamation\",null,\"Reclamation\",\"Reclamation\",\"Reclamation\",\"Reclamation\",null,\"Reclamation\",\"Reclamation\",\"Reclamation\",\"Reclamation\",null],\"type\":\"scatter\"},{\"connectgaps\":false,\"hoverinfo\":\"y+name\",\"line\":{\"color\":\"rgb(210,197,226)\",\"width\":10},\"mode\":\"lines\",\"name\":\"unloading:Barge I\",\"x\":[\"1970-01-01T01:49:50\",\"1970-01-01T01:49:50\",\"1970-01-01T02:23:55\",\"1970-01-01T02:23:55\",\"1970-01-01T02:23:55\",\"1970-01-01T04:19:50\",\"1970-01-01T04:19:50\",\"1970-01-01T04:53:55\",\"1970-01-01T04:53:55\",\"1970-01-01T04:53:55\",\"1970-01-01T07:23:03\",\"1970-01-01T07:23:03\",\"1970-01-01T07:57:08\",\"1970-01-01T07:57:08\",\"1970-01-01T07:57:08\",\"1970-01-01T10:26:16\",\"1970-01-01T10:26:16\",\"1970-01-01T11:00:21\",\"1970-01-01T11:00:21\",\"1970-01-01T11:00:21\",\"1970-01-01T13:29:29\",\"1970-01-01T13:29:29\",\"1970-01-01T14:03:34\",\"1970-01-01T14:03:34\",\"1970-01-01T14:03:34\",\"1970-01-01T16:32:42\",\"1970-01-01T16:32:42\",\"1970-01-01T17:06:47\",\"1970-01-01T17:06:47\",\"1970-01-01T17:06:47\",\"1970-01-01T01:49:50\",\"1970-01-01T01:49:50\",\"1970-01-01T02:23:55\",\"1970-01-01T02:23:55\",\"1970-01-01T02:23:55\",\"1970-01-01T04:19:50\",\"1970-01-01T04:19:50\",\"1970-01-01T04:53:55\",\"1970-01-01T04:53:55\",\"1970-01-01T04:53:55\",\"1970-01-01T07:23:03\",\"1970-01-01T07:23:03\",\"1970-01-01T07:57:08\",\"1970-01-01T07:57:08\",\"1970-01-01T07:57:08\",\"1970-01-01T10:26:16\",\"1970-01-01T10:26:16\",\"1970-01-01T11:00:21\",\"1970-01-01T11:00:21\",\"1970-01-01T11:00:21\",\"1970-01-01T13:29:29\",\"1970-01-01T13:29:29\",\"1970-01-01T14:03:34\",\"1970-01-01T14:03:34\",\"1970-01-01T14:03:34\",\"1970-01-01T16:32:42\",\"1970-01-01T16:32:42\",\"1970-01-01T17:06:47\",\"1970-01-01T17:06:47\",\"1970-01-01T17:06:47\"],\"y\":[\"Barge I\",\"Barge I\",\"Barge I\",\"Barge I\",null,\"Barge I\",\"Barge I\",\"Barge I\",\"Barge I\",null,\"Barge I\",\"Barge I\",\"Barge I\",\"Barge I\",null,\"Barge I\",\"Barge I\",\"Barge I\",\"Barge I\",null,\"Barge I\",\"Barge I\",\"Barge I\",\"Barge I\",null,\"Barge I\",\"Barge I\",\"Barge I\",\"Barge I\",null,\"Reclamation\",\"Reclamation\",\"Reclamation\",\"Reclamation\",null,\"Reclamation\",\"Reclamation\",\"Reclamation\",\"Reclamation\",null,\"Reclamation\",\"Reclamation\",\"Reclamation\",\"Reclamation\",null,\"Reclamation\",\"Reclamation\",\"Reclamation\",\"Reclamation\",null,\"Reclamation\",\"Reclamation\",\"Reclamation\",\"Reclamation\",null,\"Reclamation\",\"Reclamation\",\"Reclamation\",\"Reclamation\",null],\"type\":\"scatter\"}],                        {\"hovermode\":\"closest\",\"legend\":{\"orientation\":\"h\",\"x\":0,\"y\":-0.2},\"showlegend\":false,\"template\":{\"data\":{\"barpolar\":[{\"marker\":{\"line\":{\"color\":\"#E5ECF6\",\"width\":0.5},\"pattern\":{\"fillmode\":\"overlay\",\"size\":10,\"solidity\":0.2}},\"type\":\"barpolar\"}],\"bar\":[{\"error_x\":{\"color\":\"#2a3f5f\"},\"error_y\":{\"color\":\"#2a3f5f\"},\"marker\":{\"line\":{\"color\":\"#E5ECF6\",\"width\":0.5},\"pattern\":{\"fillmode\":\"overlay\",\"size\":10,\"solidity\":0.2}},\"type\":\"bar\"}],\"carpet\":[{\"aaxis\":{\"endlinecolor\":\"#2a3f5f\",\"gridcolor\":\"white\",\"linecolor\":\"white\",\"minorgridcolor\":\"white\",\"startlinecolor\":\"#2a3f5f\"},\"baxis\":{\"endlinecolor\":\"#2a3f5f\",\"gridcolor\":\"white\",\"linecolor\":\"white\",\"minorgridcolor\":\"white\",\"startlinecolor\":\"#2a3f5f\"},\"type\":\"carpet\"}],\"choropleth\":[{\"colorbar\":{\"outlinewidth\":0,\"ticks\":\"\"},\"type\":\"choropleth\"}],\"contourcarpet\":[{\"colorbar\":{\"outlinewidth\":0,\"ticks\":\"\"},\"type\":\"contourcarpet\"}],\"contour\":[{\"colorbar\":{\"outlinewidth\":0,\"ticks\":\"\"},\"colorscale\":[[0.0,\"#0d0887\"],[0.1111111111111111,\"#46039f\"],[0.2222222222222222,\"#7201a8\"],[0.3333333333333333,\"#9c179e\"],[0.4444444444444444,\"#bd3786\"],[0.5555555555555556,\"#d8576b\"],[0.6666666666666666,\"#ed7953\"],[0.7777777777777778,\"#fb9f3a\"],[0.8888888888888888,\"#fdca26\"],[1.0,\"#f0f921\"]],\"type\":\"contour\"}],\"heatmapgl\":[{\"colorbar\":{\"outlinewidth\":0,\"ticks\":\"\"},\"colorscale\":[[0.0,\"#0d0887\"],[0.1111111111111111,\"#46039f\"],[0.2222222222222222,\"#7201a8\"],[0.3333333333333333,\"#9c179e\"],[0.4444444444444444,\"#bd3786\"],[0.5555555555555556,\"#d8576b\"],[0.6666666666666666,\"#ed7953\"],[0.7777777777777778,\"#fb9f3a\"],[0.8888888888888888,\"#fdca26\"],[1.0,\"#f0f921\"]],\"type\":\"heatmapgl\"}],\"heatmap\":[{\"colorbar\":{\"outlinewidth\":0,\"ticks\":\"\"},\"colorscale\":[[0.0,\"#0d0887\"],[0.1111111111111111,\"#46039f\"],[0.2222222222222222,\"#7201a8\"],[0.3333333333333333,\"#9c179e\"],[0.4444444444444444,\"#bd3786\"],[0.5555555555555556,\"#d8576b\"],[0.6666666666666666,\"#ed7953\"],[0.7777777777777778,\"#fb9f3a\"],[0.8888888888888888,\"#fdca26\"],[1.0,\"#f0f921\"]],\"type\":\"heatmap\"}],\"histogram2dcontour\":[{\"colorbar\":{\"outlinewidth\":0,\"ticks\":\"\"},\"colorscale\":[[0.0,\"#0d0887\"],[0.1111111111111111,\"#46039f\"],[0.2222222222222222,\"#7201a8\"],[0.3333333333333333,\"#9c179e\"],[0.4444444444444444,\"#bd3786\"],[0.5555555555555556,\"#d8576b\"],[0.6666666666666666,\"#ed7953\"],[0.7777777777777778,\"#fb9f3a\"],[0.8888888888888888,\"#fdca26\"],[1.0,\"#f0f921\"]],\"type\":\"histogram2dcontour\"}],\"histogram2d\":[{\"colorbar\":{\"outlinewidth\":0,\"ticks\":\"\"},\"colorscale\":[[0.0,\"#0d0887\"],[0.1111111111111111,\"#46039f\"],[0.2222222222222222,\"#7201a8\"],[0.3333333333333333,\"#9c179e\"],[0.4444444444444444,\"#bd3786\"],[0.5555555555555556,\"#d8576b\"],[0.6666666666666666,\"#ed7953\"],[0.7777777777777778,\"#fb9f3a\"],[0.8888888888888888,\"#fdca26\"],[1.0,\"#f0f921\"]],\"type\":\"histogram2d\"}],\"histogram\":[{\"marker\":{\"pattern\":{\"fillmode\":\"overlay\",\"size\":10,\"solidity\":0.2}},\"type\":\"histogram\"}],\"mesh3d\":[{\"colorbar\":{\"outlinewidth\":0,\"ticks\":\"\"},\"type\":\"mesh3d\"}],\"parcoords\":[{\"line\":{\"colorbar\":{\"outlinewidth\":0,\"ticks\":\"\"}},\"type\":\"parcoords\"}],\"pie\":[{\"automargin\":true,\"type\":\"pie\"}],\"scatter3d\":[{\"line\":{\"colorbar\":{\"outlinewidth\":0,\"ticks\":\"\"}},\"marker\":{\"colorbar\":{\"outlinewidth\":0,\"ticks\":\"\"}},\"type\":\"scatter3d\"}],\"scattercarpet\":[{\"marker\":{\"colorbar\":{\"outlinewidth\":0,\"ticks\":\"\"}},\"type\":\"scattercarpet\"}],\"scattergeo\":[{\"marker\":{\"colorbar\":{\"outlinewidth\":0,\"ticks\":\"\"}},\"type\":\"scattergeo\"}],\"scattergl\":[{\"marker\":{\"colorbar\":{\"outlinewidth\":0,\"ticks\":\"\"}},\"type\":\"scattergl\"}],\"scattermapbox\":[{\"marker\":{\"colorbar\":{\"outlinewidth\":0,\"ticks\":\"\"}},\"type\":\"scattermapbox\"}],\"scatterpolargl\":[{\"marker\":{\"colorbar\":{\"outlinewidth\":0,\"ticks\":\"\"}},\"type\":\"scatterpolargl\"}],\"scatterpolar\":[{\"marker\":{\"colorbar\":{\"outlinewidth\":0,\"ticks\":\"\"}},\"type\":\"scatterpolar\"}],\"scatter\":[{\"fillpattern\":{\"fillmode\":\"overlay\",\"size\":10,\"solidity\":0.2},\"type\":\"scatter\"}],\"scatterternary\":[{\"marker\":{\"colorbar\":{\"outlinewidth\":0,\"ticks\":\"\"}},\"type\":\"scatterternary\"}],\"surface\":[{\"colorbar\":{\"outlinewidth\":0,\"ticks\":\"\"},\"colorscale\":[[0.0,\"#0d0887\"],[0.1111111111111111,\"#46039f\"],[0.2222222222222222,\"#7201a8\"],[0.3333333333333333,\"#9c179e\"],[0.4444444444444444,\"#bd3786\"],[0.5555555555555556,\"#d8576b\"],[0.6666666666666666,\"#ed7953\"],[0.7777777777777778,\"#fb9f3a\"],[0.8888888888888888,\"#fdca26\"],[1.0,\"#f0f921\"]],\"type\":\"surface\"}],\"table\":[{\"cells\":{\"fill\":{\"color\":\"#EBF0F8\"},\"line\":{\"color\":\"white\"}},\"header\":{\"fill\":{\"color\":\"#C8D4E3\"},\"line\":{\"color\":\"white\"}},\"type\":\"table\"}]},\"layout\":{\"annotationdefaults\":{\"arrowcolor\":\"#2a3f5f\",\"arrowhead\":0,\"arrowwidth\":1},\"autotypenumbers\":\"strict\",\"coloraxis\":{\"colorbar\":{\"outlinewidth\":0,\"ticks\":\"\"}},\"colorscale\":{\"diverging\":[[0,\"#8e0152\"],[0.1,\"#c51b7d\"],[0.2,\"#de77ae\"],[0.3,\"#f1b6da\"],[0.4,\"#fde0ef\"],[0.5,\"#f7f7f7\"],[0.6,\"#e6f5d0\"],[0.7,\"#b8e186\"],[0.8,\"#7fbc41\"],[0.9,\"#4d9221\"],[1,\"#276419\"]],\"sequential\":[[0.0,\"#0d0887\"],[0.1111111111111111,\"#46039f\"],[0.2222222222222222,\"#7201a8\"],[0.3333333333333333,\"#9c179e\"],[0.4444444444444444,\"#bd3786\"],[0.5555555555555556,\"#d8576b\"],[0.6666666666666666,\"#ed7953\"],[0.7777777777777778,\"#fb9f3a\"],[0.8888888888888888,\"#fdca26\"],[1.0,\"#f0f921\"]],\"sequentialminus\":[[0.0,\"#0d0887\"],[0.1111111111111111,\"#46039f\"],[0.2222222222222222,\"#7201a8\"],[0.3333333333333333,\"#9c179e\"],[0.4444444444444444,\"#bd3786\"],[0.5555555555555556,\"#d8576b\"],[0.6666666666666666,\"#ed7953\"],[0.7777777777777778,\"#fb9f3a\"],[0.8888888888888888,\"#fdca26\"],[1.0,\"#f0f921\"]]},\"colorway\":[\"#636efa\",\"#EF553B\",\"#00cc96\",\"#ab63fa\",\"#FFA15A\",\"#19d3f3\",\"#FF6692\",\"#B6E880\",\"#FF97FF\",\"#FECB52\"],\"font\":{\"color\":\"#2a3f5f\"},\"geo\":{\"bgcolor\":\"white\",\"lakecolor\":\"white\",\"landcolor\":\"#E5ECF6\",\"showlakes\":true,\"showland\":true,\"subunitcolor\":\"white\"},\"hoverlabel\":{\"align\":\"left\"},\"hovermode\":\"closest\",\"mapbox\":{\"style\":\"light\"},\"paper_bgcolor\":\"white\",\"plot_bgcolor\":\"#E5ECF6\",\"polar\":{\"angularaxis\":{\"gridcolor\":\"white\",\"linecolor\":\"white\",\"ticks\":\"\"},\"bgcolor\":\"#E5ECF6\",\"radialaxis\":{\"gridcolor\":\"white\",\"linecolor\":\"white\",\"ticks\":\"\"}},\"scene\":{\"xaxis\":{\"backgroundcolor\":\"#E5ECF6\",\"gridcolor\":\"white\",\"gridwidth\":2,\"linecolor\":\"white\",\"showbackground\":true,\"ticks\":\"\",\"zerolinecolor\":\"white\"},\"yaxis\":{\"backgroundcolor\":\"#E5ECF6\",\"gridcolor\":\"white\",\"gridwidth\":2,\"linecolor\":\"white\",\"showbackground\":true,\"ticks\":\"\",\"zerolinecolor\":\"white\"},\"zaxis\":{\"backgroundcolor\":\"#E5ECF6\",\"gridcolor\":\"white\",\"gridwidth\":2,\"linecolor\":\"white\",\"showbackground\":true,\"ticks\":\"\",\"zerolinecolor\":\"white\"}},\"shapedefaults\":{\"line\":{\"color\":\"#2a3f5f\"}},\"ternary\":{\"aaxis\":{\"gridcolor\":\"white\",\"linecolor\":\"white\",\"ticks\":\"\"},\"baxis\":{\"gridcolor\":\"white\",\"linecolor\":\"white\",\"ticks\":\"\"},\"bgcolor\":\"#E5ECF6\",\"caxis\":{\"gridcolor\":\"white\",\"linecolor\":\"white\",\"ticks\":\"\"}},\"title\":{\"x\":0.05},\"xaxis\":{\"automargin\":true,\"gridcolor\":\"white\",\"linecolor\":\"white\",\"ticks\":\"\",\"title\":{\"standoff\":15},\"zerolinecolor\":\"white\",\"zerolinewidth\":2},\"yaxis\":{\"automargin\":true,\"gridcolor\":\"white\",\"linecolor\":\"white\",\"ticks\":\"\",\"title\":{\"standoff\":15},\"zerolinecolor\":\"white\",\"zerolinewidth\":2}}},\"title\":{\"text\":\"Cutter T occupancy: 86.6duration actual: 59472.0\"},\"xaxis\":{\"range\":[\"1970-01-01T00:00:00\",\"1970-01-01T18:26:53\"],\"title\":{\"font\":{\"color\":\"#7f7f7f\",\"family\":\"Courier New, monospace\",\"size\":18},\"text\":\"Time\"}},\"yaxis\":{\"title\":{\"font\":{\"color\":\"#7f7f7f\",\"family\":\"Courier New, monospace\",\"size\":18},\"text\":\"vesels\"}}},                        {\"responsive\": true}                    ).then(function(){\n",
       "                            \n",
       "var gd = document.getElementById('1937f0c7-9941-4ef8-a018-01e2df7247ef');\n",
       "var x = new MutationObserver(function (mutations, observer) {{\n",
       "        var display = window.getComputedStyle(gd).display;\n",
       "        if (!display || display === 'none') {{\n",
       "            console.log([gd, 'removed!']);\n",
       "            Plotly.purge(gd);\n",
       "            observer.disconnect();\n",
       "        }}\n",
       "}});\n",
       "\n",
       "// Listen for the removal of the full notebook cells\n",
       "var notebookContainer = gd.closest('#notebook-container');\n",
       "if (notebookContainer) {{\n",
       "    x.observe(notebookContainer, {childList: true});\n",
       "}}\n",
       "\n",
       "// Listen for the clearing of the current output cell\n",
       "var outputEl = gd.closest('.output');\n",
       "if (outputEl) {{\n",
       "    x.observe(outputEl, {childList: true});\n",
       "}}\n",
       "\n",
       "                        })                };                });            </script>        </div>"
      ]
     },
     "metadata": {},
     "output_type": "display_data"
    }
   ],
   "source": [
    "i = scenario_index\n",
    "vessels = results[i]['vessels']\n",
    "activities = results[i]['activities']\n",
    "sites = results[i]['sites']\n",
    "  \n",
    "my_objects = list(vessels.values()) + list(sites.values())\n",
    "my_activities = list(activities.values())\n",
    "my_log = CpLog(list_objects=my_objects, list_activities=my_activities)\n",
    "dependencies = my_log.get_dependencies_model_based()\n",
    "# dependencies = my_log.get_dependencies_log_based()\n",
    "cp = my_log.mark_critical_activities(dependencies)\n",
    "occupancy = occupancy_analysis(vessels, cutter_name, total_amount, vessel_cost)\n",
    "\n",
    "t = f'{cutter_name} occupancy: ' + str(occupancy.loc[cutter_name]['occupancy [%]']) + f'duration actual: ' +\\\n",
    "     str(occupancy.loc[cutter_name]['duration actual'])\n",
    "fig = get_gantt_chart(concepts=my_objects, critical_path=cp, id_map=activities, title=t, legend=False, ylabel='vesels')"
   ]
  },
  {
   "cell_type": "code",
   "execution_count": 17,
   "id": "e274588c",
   "metadata": {},
   "outputs": [
    {
     "data": {
      "text/html": [
       "<div>\n",
       "<style scoped>\n",
       "    .dataframe tbody tr th:only-of-type {\n",
       "        vertical-align: middle;\n",
       "    }\n",
       "\n",
       "    .dataframe tbody tr th {\n",
       "        vertical-align: top;\n",
       "    }\n",
       "\n",
       "    .dataframe thead th {\n",
       "        text-align: right;\n",
       "    }\n",
       "</style>\n",
       "<table border=\"1\" class=\"dataframe\">\n",
       "  <thead>\n",
       "    <tr style=\"text-align: right;\">\n",
       "      <th></th>\n",
       "      <th># trips</th>\n",
       "      <th>start</th>\n",
       "      <th>finish</th>\n",
       "      <th>amount sum</th>\n",
       "      <th>duration actual</th>\n",
       "      <th>duration theory</th>\n",
       "      <th>cost actual</th>\n",
       "      <th>production actual</th>\n",
       "      <th>production theory</th>\n",
       "      <th>occupancy [%]</th>\n",
       "    </tr>\n",
       "    <tr>\n",
       "      <th>name</th>\n",
       "      <th></th>\n",
       "      <th></th>\n",
       "      <th></th>\n",
       "      <th></th>\n",
       "      <th></th>\n",
       "      <th></th>\n",
       "      <th></th>\n",
       "      <th></th>\n",
       "      <th></th>\n",
       "      <th></th>\n",
       "    </tr>\n",
       "  </thead>\n",
       "  <tbody>\n",
       "    <tr>\n",
       "      <th>Cutter T</th>\n",
       "      <td>6</td>\n",
       "      <td>1970-01-01 00:34:05</td>\n",
       "      <td>1970-01-01 17:05:17</td>\n",
       "      <td>100.0</td>\n",
       "      <td>59472.0</td>\n",
       "      <td>51500.0</td>\n",
       "      <td>17208.0</td>\n",
       "      <td>0.010089</td>\n",
       "      <td>0.011650</td>\n",
       "      <td>86.6</td>\n",
       "    </tr>\n",
       "    <tr>\n",
       "      <th>Barge I</th>\n",
       "      <td>6</td>\n",
       "      <td>1970-01-01 00:00:00</td>\n",
       "      <td>1970-01-01 17:06:47</td>\n",
       "      <td>30.0</td>\n",
       "      <td>61607.0</td>\n",
       "      <td>51810.0</td>\n",
       "      <td>3565.0</td>\n",
       "      <td>0.002922</td>\n",
       "      <td>0.003474</td>\n",
       "      <td>84.1</td>\n",
       "    </tr>\n",
       "    <tr>\n",
       "      <th>Carrier B</th>\n",
       "      <td>6</td>\n",
       "      <td>1970-01-01 00:00:00</td>\n",
       "      <td>1970-01-01 17:40:51</td>\n",
       "      <td>24.0</td>\n",
       "      <td>63651.0</td>\n",
       "      <td>49206.0</td>\n",
       "      <td>4420.0</td>\n",
       "      <td>0.002262</td>\n",
       "      <td>0.002926</td>\n",
       "      <td>77.3</td>\n",
       "    </tr>\n",
       "    <tr>\n",
       "      <th>Carrier C</th>\n",
       "      <td>5</td>\n",
       "      <td>1970-01-01 00:00:00</td>\n",
       "      <td>1970-01-01 16:51:19</td>\n",
       "      <td>25.0</td>\n",
       "      <td>60679.0</td>\n",
       "      <td>54965.0</td>\n",
       "      <td>4214.0</td>\n",
       "      <td>0.002060</td>\n",
       "      <td>0.002274</td>\n",
       "      <td>90.6</td>\n",
       "    </tr>\n",
       "    <tr>\n",
       "      <th>Carrier A</th>\n",
       "      <td>6</td>\n",
       "      <td>1970-01-01 00:00:00</td>\n",
       "      <td>1970-01-01 18:26:53</td>\n",
       "      <td>21.0</td>\n",
       "      <td>66413.0</td>\n",
       "      <td>56064.0</td>\n",
       "      <td>4612.0</td>\n",
       "      <td>0.001897</td>\n",
       "      <td>0.002247</td>\n",
       "      <td>84.4</td>\n",
       "    </tr>\n",
       "  </tbody>\n",
       "</table>\n",
       "</div>"
      ],
      "text/plain": [
       "           # trips               start              finish  amount sum  \\\n",
       "name                                                                     \n",
       "Cutter T         6 1970-01-01 00:34:05 1970-01-01 17:05:17       100.0   \n",
       "Barge I          6 1970-01-01 00:00:00 1970-01-01 17:06:47        30.0   \n",
       "Carrier B        6 1970-01-01 00:00:00 1970-01-01 17:40:51        24.0   \n",
       "Carrier C        5 1970-01-01 00:00:00 1970-01-01 16:51:19        25.0   \n",
       "Carrier A        6 1970-01-01 00:00:00 1970-01-01 18:26:53        21.0   \n",
       "\n",
       "           duration actual  duration theory  cost actual  production actual  \\\n",
       "name                                                                          \n",
       "Cutter T           59472.0          51500.0      17208.0           0.010089   \n",
       "Barge I            61607.0          51810.0       3565.0           0.002922   \n",
       "Carrier B          63651.0          49206.0       4420.0           0.002262   \n",
       "Carrier C          60679.0          54965.0       4214.0           0.002060   \n",
       "Carrier A          66413.0          56064.0       4612.0           0.001897   \n",
       "\n",
       "           production theory  occupancy [%]  \n",
       "name                                         \n",
       "Cutter T            0.011650           86.6  \n",
       "Barge I             0.003474           84.1  \n",
       "Carrier B           0.002926           77.3  \n",
       "Carrier C           0.002274           90.6  \n",
       "Carrier A           0.002247           84.4  "
      ]
     },
     "execution_count": 17,
     "metadata": {},
     "output_type": "execute_result"
    }
   ],
   "source": [
    "occupancy"
   ]
  },
  {
   "cell_type": "markdown",
   "id": "3e81de2b",
   "metadata": {},
   "source": [
    "# Export data  to BI"
   ]
  },
  {
   "cell_type": "code",
   "execution_count": 18,
   "id": "87cd1b2f",
   "metadata": {},
   "outputs": [
    {
     "data": {
      "text/html": [
       "<div>\n",
       "<style scoped>\n",
       "    .dataframe tbody tr th:only-of-type {\n",
       "        vertical-align: middle;\n",
       "    }\n",
       "\n",
       "    .dataframe tbody tr th {\n",
       "        vertical-align: top;\n",
       "    }\n",
       "\n",
       "    .dataframe thead th {\n",
       "        text-align: right;\n",
       "    }\n",
       "</style>\n",
       "<table border=\"1\" class=\"dataframe\">\n",
       "  <thead>\n",
       "    <tr style=\"text-align: right;\">\n",
       "      <th></th>\n",
       "      <th>siteName</th>\n",
       "      <th>siteID</th>\n",
       "      <th>siteType</th>\n",
       "    </tr>\n",
       "  </thead>\n",
       "  <tbody>\n",
       "    <tr>\n",
       "      <th>0</th>\n",
       "      <td>Trench</td>\n",
       "      <td>3c6cd77b-0695-48e4-8798-6e2b8e12b305</td>\n",
       "      <td>&lt;class '__main__.Site'&gt;</td>\n",
       "    </tr>\n",
       "    <tr>\n",
       "      <th>1</th>\n",
       "      <td>Reclamation</td>\n",
       "      <td>9b6d7954-cfa9-4ed5-a6c3-ce983b9f3cc2</td>\n",
       "      <td>&lt;class '__main__.Site'&gt;</td>\n",
       "    </tr>\n",
       "  </tbody>\n",
       "</table>\n",
       "</div>"
      ],
      "text/plain": [
       "      siteName                                siteID                 siteType\n",
       "0       Trench  3c6cd77b-0695-48e4-8798-6e2b8e12b305  <class '__main__.Site'>\n",
       "1  Reclamation  9b6d7954-cfa9-4ed5-a6c3-ce983b9f3cc2  <class '__main__.Site'>"
      ]
     },
     "execution_count": 18,
     "metadata": {},
     "output_type": "execute_result"
    }
   ],
   "source": [
    "export_concepts(sites, 'site', 'sites.csv')"
   ]
  },
  {
   "cell_type": "code",
   "execution_count": 19,
   "id": "5e5459b1",
   "metadata": {},
   "outputs": [
    {
     "data": {
      "text/html": [
       "<div>\n",
       "<style scoped>\n",
       "    .dataframe tbody tr th:only-of-type {\n",
       "        vertical-align: middle;\n",
       "    }\n",
       "\n",
       "    .dataframe tbody tr th {\n",
       "        vertical-align: top;\n",
       "    }\n",
       "\n",
       "    .dataframe thead th {\n",
       "        text-align: right;\n",
       "    }\n",
       "</style>\n",
       "<table border=\"1\" class=\"dataframe\">\n",
       "  <thead>\n",
       "    <tr style=\"text-align: right;\">\n",
       "      <th></th>\n",
       "      <th>vesselName</th>\n",
       "      <th>vesselID</th>\n",
       "      <th>vesselType</th>\n",
       "    </tr>\n",
       "  </thead>\n",
       "  <tbody>\n",
       "    <tr>\n",
       "      <th>0</th>\n",
       "      <td>Carrier A</td>\n",
       "      <td>ba8f3ee1-8b52-4859-bba5-6c24c1501315</td>\n",
       "      <td>&lt;class '__main__.TransportProcessingResource'&gt;</td>\n",
       "    </tr>\n",
       "    <tr>\n",
       "      <th>1</th>\n",
       "      <td>Carrier B</td>\n",
       "      <td>841ea424-b1fe-4083-ba9b-d15d48320eb3</td>\n",
       "      <td>&lt;class '__main__.TransportProcessingResource'&gt;</td>\n",
       "    </tr>\n",
       "    <tr>\n",
       "      <th>2</th>\n",
       "      <td>Carrier C</td>\n",
       "      <td>2ded9db1-9881-4f05-be35-04413ab33be6</td>\n",
       "      <td>&lt;class '__main__.TransportProcessingResource'&gt;</td>\n",
       "    </tr>\n",
       "    <tr>\n",
       "      <th>3</th>\n",
       "      <td>Barge I</td>\n",
       "      <td>9c9cde80-2bae-4b84-be02-f32c135205b2</td>\n",
       "      <td>&lt;class '__main__.TransportProcessingResource'&gt;</td>\n",
       "    </tr>\n",
       "    <tr>\n",
       "      <th>4</th>\n",
       "      <td>Cutter T</td>\n",
       "      <td>f35b51aa-0735-431a-a716-0dd0b5559dd3</td>\n",
       "      <td>&lt;class '__main__.TransportProcessingResource'&gt;</td>\n",
       "    </tr>\n",
       "  </tbody>\n",
       "</table>\n",
       "</div>"
      ],
      "text/plain": [
       "  vesselName                              vesselID  \\\n",
       "0  Carrier A  ba8f3ee1-8b52-4859-bba5-6c24c1501315   \n",
       "1  Carrier B  841ea424-b1fe-4083-ba9b-d15d48320eb3   \n",
       "2  Carrier C  2ded9db1-9881-4f05-be35-04413ab33be6   \n",
       "3    Barge I  9c9cde80-2bae-4b84-be02-f32c135205b2   \n",
       "4   Cutter T  f35b51aa-0735-431a-a716-0dd0b5559dd3   \n",
       "\n",
       "                                       vesselType  \n",
       "0  <class '__main__.TransportProcessingResource'>  \n",
       "1  <class '__main__.TransportProcessingResource'>  \n",
       "2  <class '__main__.TransportProcessingResource'>  \n",
       "3  <class '__main__.TransportProcessingResource'>  \n",
       "4  <class '__main__.TransportProcessingResource'>  "
      ]
     },
     "execution_count": 19,
     "metadata": {},
     "output_type": "execute_result"
    }
   ],
   "source": [
    "export_concepts(vessels, 'vessel', 'vessels.csv')"
   ]
  },
  {
   "cell_type": "code",
   "execution_count": 20,
   "id": "2baa8eb9",
   "metadata": {},
   "outputs": [],
   "source": [
    "activities_flat = export_activities(activities, 'activities.csv', [*sites.values(), *vessels.values()])\n",
    "# activities_flat"
   ]
  },
  {
   "cell_type": "code",
   "execution_count": 21,
   "id": "a3e8f617",
   "metadata": {},
   "outputs": [
    {
     "data": {
      "text/plain": [
       "{'', 'Barge I', 'Carrier A', 'Carrier B', 'Carrier C'}"
      ]
     },
     "execution_count": 21,
     "metadata": {},
     "output_type": "execute_result"
    }
   ],
   "source": [
    "set(activities_flat['MoverName'])"
   ]
  },
  {
   "cell_type": "code",
   "execution_count": 22,
   "id": "acfbb1ef",
   "metadata": {},
   "outputs": [
    {
     "data": {
      "text/plain": [
       "{'', 'Barge I', 'Carrier A', 'Carrier B', 'Carrier C', 'Cutter T'}"
      ]
     },
     "execution_count": 22,
     "metadata": {},
     "output_type": "execute_result"
    }
   ],
   "source": [
    "set(activities_flat['ProcessorName'])"
   ]
  },
  {
   "cell_type": "code",
   "execution_count": 23,
   "id": "b680fb2a",
   "metadata": {},
   "outputs": [
    {
     "data": {
      "text/plain": [
       "{'', 'Barge I', 'Carrier A', 'Carrier B', 'Carrier C', 'Trench'}"
      ]
     },
     "execution_count": 23,
     "metadata": {},
     "output_type": "execute_result"
    }
   ],
   "source": [
    "set(activities_flat['OriginName'])"
   ]
  },
  {
   "cell_type": "code",
   "execution_count": 24,
   "id": "1ce51171",
   "metadata": {},
   "outputs": [
    {
     "data": {
      "text/plain": [
       "{'', 'Barge I', 'Carrier A', 'Carrier B', 'Carrier C', 'Reclamation', 'Trench'}"
      ]
     },
     "execution_count": 24,
     "metadata": {},
     "output_type": "execute_result"
    }
   ],
   "source": [
    "set(activities_flat['DestinationName'])"
   ]
  },
  {
   "cell_type": "code",
   "execution_count": 25,
   "id": "49d35cd3",
   "metadata": {},
   "outputs": [
    {
     "data": {
      "text/plain": [
       "{'MoveActivity', 'SequentialActivity', 'ShiftAmountActivity', 'WhileActivity'}"
      ]
     },
     "execution_count": 25,
     "metadata": {},
     "output_type": "execute_result"
    }
   ],
   "source": [
    "set(activities_flat['ActivityClass'])"
   ]
  },
  {
   "cell_type": "code",
   "execution_count": 26,
   "id": "70998a10",
   "metadata": {},
   "outputs": [],
   "source": [
    "# set(activities_flat['ActivityName'])"
   ]
  },
  {
   "cell_type": "markdown",
   "id": "2ec87e35",
   "metadata": {},
   "source": [
    "# Expand logged activity instances to analyse occupancy properly"
   ]
  },
  {
   "cell_type": "code",
   "execution_count": 28,
   "id": "e4b0ebc5",
   "metadata": {},
   "outputs": [],
   "source": [
    "VesselActivitiesLog = export_ranges(activities_flat, 'instances.csv')"
   ]
  },
  {
   "cell_type": "code",
   "execution_count": 29,
   "id": "8f7eaa5c",
   "metadata": {},
   "outputs": [
    {
     "data": {
      "text/html": [
       "<div>\n",
       "<style scoped>\n",
       "    .dataframe tbody tr th:only-of-type {\n",
       "        vertical-align: middle;\n",
       "    }\n",
       "\n",
       "    .dataframe tbody tr th {\n",
       "        vertical-align: top;\n",
       "    }\n",
       "\n",
       "    .dataframe thead th {\n",
       "        text-align: right;\n",
       "    }\n",
       "</style>\n",
       "<table border=\"1\" class=\"dataframe\">\n",
       "  <thead>\n",
       "    <tr style=\"text-align: right;\">\n",
       "      <th></th>\n",
       "      <th>TimestampStart</th>\n",
       "      <th>trip</th>\n",
       "      <th>TimestampStop</th>\n",
       "      <th>ActivityID</th>\n",
       "      <th>TimestampDt</th>\n",
       "      <th>ActivityName</th>\n",
       "      <th>ActivityClass</th>\n",
       "      <th>ConceptName</th>\n",
       "    </tr>\n",
       "  </thead>\n",
       "  <tbody>\n",
       "    <tr>\n",
       "      <th>17</th>\n",
       "      <td>1970-01-01 00:34:05</td>\n",
       "      <td>1</td>\n",
       "      <td>1970-01-01 01:15:45</td>\n",
       "      <td>214ffff1-1806-40ad-884e-1270efb35b3d</td>\n",
       "      <td>2500.0</td>\n",
       "      <td>loading:Barge I</td>\n",
       "      <td>ShiftAmountActivity</td>\n",
       "      <td>Cutter T</td>\n",
       "    </tr>\n",
       "    <tr>\n",
       "      <th>6</th>\n",
       "      <td>1970-01-01 01:15:45</td>\n",
       "      <td>1</td>\n",
       "      <td>1970-01-01 01:49:05</td>\n",
       "      <td>263dfaac-8792-4c24-9a4b-24e726b31f6f</td>\n",
       "      <td>2000.0</td>\n",
       "      <td>loading:Carrier B</td>\n",
       "      <td>ShiftAmountActivity</td>\n",
       "      <td>Cutter T</td>\n",
       "    </tr>\n",
       "    <tr>\n",
       "      <th>0</th>\n",
       "      <td>1970-01-01 01:49:05</td>\n",
       "      <td>1</td>\n",
       "      <td>1970-01-01 02:22:25</td>\n",
       "      <td>8255f591-f01a-4825-a3e5-bd9c2e22b364</td>\n",
       "      <td>2000.0</td>\n",
       "      <td>loading:Carrier A</td>\n",
       "      <td>ShiftAmountActivity</td>\n",
       "      <td>Cutter T</td>\n",
       "    </tr>\n",
       "    <tr>\n",
       "      <th>12</th>\n",
       "      <td>1970-01-01 02:22:25</td>\n",
       "      <td>1</td>\n",
       "      <td>1970-01-01 03:04:05</td>\n",
       "      <td>dc22b4b0-02c8-46c3-8338-432eb53d0e5e</td>\n",
       "      <td>2500.0</td>\n",
       "      <td>loading:Carrier C</td>\n",
       "      <td>ShiftAmountActivity</td>\n",
       "      <td>Cutter T</td>\n",
       "    </tr>\n",
       "    <tr>\n",
       "      <th>18</th>\n",
       "      <td>1970-01-01 03:04:05</td>\n",
       "      <td>2</td>\n",
       "      <td>1970-01-01 03:45:45</td>\n",
       "      <td>214ffff1-1806-40ad-884e-1270efb35b3d</td>\n",
       "      <td>2500.0</td>\n",
       "      <td>loading:Barge I</td>\n",
       "      <td>ShiftAmountActivity</td>\n",
       "      <td>Cutter T</td>\n",
       "    </tr>\n",
       "    <tr>\n",
       "      <th>7</th>\n",
       "      <td>1970-01-01 03:45:45</td>\n",
       "      <td>2</td>\n",
       "      <td>1970-01-01 04:19:05</td>\n",
       "      <td>263dfaac-8792-4c24-9a4b-24e726b31f6f</td>\n",
       "      <td>2000.0</td>\n",
       "      <td>loading:Carrier B</td>\n",
       "      <td>ShiftAmountActivity</td>\n",
       "      <td>Cutter T</td>\n",
       "    </tr>\n",
       "    <tr>\n",
       "      <th>1</th>\n",
       "      <td>1970-01-01 04:24:49</td>\n",
       "      <td>2</td>\n",
       "      <td>1970-01-01 04:58:09</td>\n",
       "      <td>8255f591-f01a-4825-a3e5-bd9c2e22b364</td>\n",
       "      <td>2000.0</td>\n",
       "      <td>loading:Carrier A</td>\n",
       "      <td>ShiftAmountActivity</td>\n",
       "      <td>Cutter T</td>\n",
       "    </tr>\n",
       "    <tr>\n",
       "      <th>13</th>\n",
       "      <td>1970-01-01 05:25:38</td>\n",
       "      <td>2</td>\n",
       "      <td>1970-01-01 06:07:18</td>\n",
       "      <td>dc22b4b0-02c8-46c3-8338-432eb53d0e5e</td>\n",
       "      <td>2500.0</td>\n",
       "      <td>loading:Carrier C</td>\n",
       "      <td>ShiftAmountActivity</td>\n",
       "      <td>Cutter T</td>\n",
       "    </tr>\n",
       "    <tr>\n",
       "      <th>19</th>\n",
       "      <td>1970-01-01 06:07:18</td>\n",
       "      <td>3</td>\n",
       "      <td>1970-01-01 06:48:58</td>\n",
       "      <td>214ffff1-1806-40ad-884e-1270efb35b3d</td>\n",
       "      <td>2500.0</td>\n",
       "      <td>loading:Barge I</td>\n",
       "      <td>ShiftAmountActivity</td>\n",
       "      <td>Cutter T</td>\n",
       "    </tr>\n",
       "    <tr>\n",
       "      <th>8</th>\n",
       "      <td>1970-01-01 06:48:58</td>\n",
       "      <td>3</td>\n",
       "      <td>1970-01-01 07:22:18</td>\n",
       "      <td>263dfaac-8792-4c24-9a4b-24e726b31f6f</td>\n",
       "      <td>2000.0</td>\n",
       "      <td>loading:Carrier B</td>\n",
       "      <td>ShiftAmountActivity</td>\n",
       "      <td>Cutter T</td>\n",
       "    </tr>\n",
       "    <tr>\n",
       "      <th>2</th>\n",
       "      <td>1970-01-01 07:22:18</td>\n",
       "      <td>3</td>\n",
       "      <td>1970-01-01 07:55:38</td>\n",
       "      <td>8255f591-f01a-4825-a3e5-bd9c2e22b364</td>\n",
       "      <td>2000.0</td>\n",
       "      <td>loading:Carrier A</td>\n",
       "      <td>ShiftAmountActivity</td>\n",
       "      <td>Cutter T</td>\n",
       "    </tr>\n",
       "    <tr>\n",
       "      <th>14</th>\n",
       "      <td>1970-01-01 08:28:51</td>\n",
       "      <td>3</td>\n",
       "      <td>1970-01-01 09:10:31</td>\n",
       "      <td>dc22b4b0-02c8-46c3-8338-432eb53d0e5e</td>\n",
       "      <td>2500.0</td>\n",
       "      <td>loading:Carrier C</td>\n",
       "      <td>ShiftAmountActivity</td>\n",
       "      <td>Cutter T</td>\n",
       "    </tr>\n",
       "    <tr>\n",
       "      <th>20</th>\n",
       "      <td>1970-01-01 09:10:31</td>\n",
       "      <td>4</td>\n",
       "      <td>1970-01-01 09:52:11</td>\n",
       "      <td>214ffff1-1806-40ad-884e-1270efb35b3d</td>\n",
       "      <td>2500.0</td>\n",
       "      <td>loading:Barge I</td>\n",
       "      <td>ShiftAmountActivity</td>\n",
       "      <td>Cutter T</td>\n",
       "    </tr>\n",
       "    <tr>\n",
       "      <th>9</th>\n",
       "      <td>1970-01-01 09:52:11</td>\n",
       "      <td>4</td>\n",
       "      <td>1970-01-01 10:25:31</td>\n",
       "      <td>263dfaac-8792-4c24-9a4b-24e726b31f6f</td>\n",
       "      <td>2000.0</td>\n",
       "      <td>loading:Carrier B</td>\n",
       "      <td>ShiftAmountActivity</td>\n",
       "      <td>Cutter T</td>\n",
       "    </tr>\n",
       "    <tr>\n",
       "      <th>3</th>\n",
       "      <td>1970-01-01 10:25:31</td>\n",
       "      <td>4</td>\n",
       "      <td>1970-01-01 10:58:51</td>\n",
       "      <td>8255f591-f01a-4825-a3e5-bd9c2e22b364</td>\n",
       "      <td>2000.0</td>\n",
       "      <td>loading:Carrier A</td>\n",
       "      <td>ShiftAmountActivity</td>\n",
       "      <td>Cutter T</td>\n",
       "    </tr>\n",
       "    <tr>\n",
       "      <th>15</th>\n",
       "      <td>1970-01-01 11:32:04</td>\n",
       "      <td>4</td>\n",
       "      <td>1970-01-01 12:13:44</td>\n",
       "      <td>dc22b4b0-02c8-46c3-8338-432eb53d0e5e</td>\n",
       "      <td>2500.0</td>\n",
       "      <td>loading:Carrier C</td>\n",
       "      <td>ShiftAmountActivity</td>\n",
       "      <td>Cutter T</td>\n",
       "    </tr>\n",
       "    <tr>\n",
       "      <th>21</th>\n",
       "      <td>1970-01-01 12:13:44</td>\n",
       "      <td>5</td>\n",
       "      <td>1970-01-01 12:55:24</td>\n",
       "      <td>214ffff1-1806-40ad-884e-1270efb35b3d</td>\n",
       "      <td>2500.0</td>\n",
       "      <td>loading:Barge I</td>\n",
       "      <td>ShiftAmountActivity</td>\n",
       "      <td>Cutter T</td>\n",
       "    </tr>\n",
       "    <tr>\n",
       "      <th>10</th>\n",
       "      <td>1970-01-01 12:55:24</td>\n",
       "      <td>5</td>\n",
       "      <td>1970-01-01 13:28:44</td>\n",
       "      <td>263dfaac-8792-4c24-9a4b-24e726b31f6f</td>\n",
       "      <td>2000.0</td>\n",
       "      <td>loading:Carrier B</td>\n",
       "      <td>ShiftAmountActivity</td>\n",
       "      <td>Cutter T</td>\n",
       "    </tr>\n",
       "    <tr>\n",
       "      <th>4</th>\n",
       "      <td>1970-01-01 13:28:44</td>\n",
       "      <td>5</td>\n",
       "      <td>1970-01-01 14:02:04</td>\n",
       "      <td>8255f591-f01a-4825-a3e5-bd9c2e22b364</td>\n",
       "      <td>2000.0</td>\n",
       "      <td>loading:Carrier A</td>\n",
       "      <td>ShiftAmountActivity</td>\n",
       "      <td>Cutter T</td>\n",
       "    </tr>\n",
       "    <tr>\n",
       "      <th>16</th>\n",
       "      <td>1970-01-01 14:35:17</td>\n",
       "      <td>5</td>\n",
       "      <td>1970-01-01 15:16:57</td>\n",
       "      <td>dc22b4b0-02c8-46c3-8338-432eb53d0e5e</td>\n",
       "      <td>2500.0</td>\n",
       "      <td>loading:Carrier C</td>\n",
       "      <td>ShiftAmountActivity</td>\n",
       "      <td>Cutter T</td>\n",
       "    </tr>\n",
       "    <tr>\n",
       "      <th>22</th>\n",
       "      <td>1970-01-01 15:16:57</td>\n",
       "      <td>6</td>\n",
       "      <td>1970-01-01 15:58:37</td>\n",
       "      <td>214ffff1-1806-40ad-884e-1270efb35b3d</td>\n",
       "      <td>2500.0</td>\n",
       "      <td>loading:Barge I</td>\n",
       "      <td>ShiftAmountActivity</td>\n",
       "      <td>Cutter T</td>\n",
       "    </tr>\n",
       "    <tr>\n",
       "      <th>11</th>\n",
       "      <td>1970-01-01 15:58:37</td>\n",
       "      <td>6</td>\n",
       "      <td>1970-01-01 16:31:57</td>\n",
       "      <td>263dfaac-8792-4c24-9a4b-24e726b31f6f</td>\n",
       "      <td>2000.0</td>\n",
       "      <td>loading:Carrier B</td>\n",
       "      <td>ShiftAmountActivity</td>\n",
       "      <td>Cutter T</td>\n",
       "    </tr>\n",
       "    <tr>\n",
       "      <th>5</th>\n",
       "      <td>1970-01-01 16:31:57</td>\n",
       "      <td>6</td>\n",
       "      <td>1970-01-01 17:05:17</td>\n",
       "      <td>8255f591-f01a-4825-a3e5-bd9c2e22b364</td>\n",
       "      <td>2000.0</td>\n",
       "      <td>loading:Carrier A</td>\n",
       "      <td>ShiftAmountActivity</td>\n",
       "      <td>Cutter T</td>\n",
       "    </tr>\n",
       "  </tbody>\n",
       "</table>\n",
       "</div>"
      ],
      "text/plain": [
       "        TimestampStart  trip       TimestampStop  \\\n",
       "17 1970-01-01 00:34:05     1 1970-01-01 01:15:45   \n",
       "6  1970-01-01 01:15:45     1 1970-01-01 01:49:05   \n",
       "0  1970-01-01 01:49:05     1 1970-01-01 02:22:25   \n",
       "12 1970-01-01 02:22:25     1 1970-01-01 03:04:05   \n",
       "18 1970-01-01 03:04:05     2 1970-01-01 03:45:45   \n",
       "7  1970-01-01 03:45:45     2 1970-01-01 04:19:05   \n",
       "1  1970-01-01 04:24:49     2 1970-01-01 04:58:09   \n",
       "13 1970-01-01 05:25:38     2 1970-01-01 06:07:18   \n",
       "19 1970-01-01 06:07:18     3 1970-01-01 06:48:58   \n",
       "8  1970-01-01 06:48:58     3 1970-01-01 07:22:18   \n",
       "2  1970-01-01 07:22:18     3 1970-01-01 07:55:38   \n",
       "14 1970-01-01 08:28:51     3 1970-01-01 09:10:31   \n",
       "20 1970-01-01 09:10:31     4 1970-01-01 09:52:11   \n",
       "9  1970-01-01 09:52:11     4 1970-01-01 10:25:31   \n",
       "3  1970-01-01 10:25:31     4 1970-01-01 10:58:51   \n",
       "15 1970-01-01 11:32:04     4 1970-01-01 12:13:44   \n",
       "21 1970-01-01 12:13:44     5 1970-01-01 12:55:24   \n",
       "10 1970-01-01 12:55:24     5 1970-01-01 13:28:44   \n",
       "4  1970-01-01 13:28:44     5 1970-01-01 14:02:04   \n",
       "16 1970-01-01 14:35:17     5 1970-01-01 15:16:57   \n",
       "22 1970-01-01 15:16:57     6 1970-01-01 15:58:37   \n",
       "11 1970-01-01 15:58:37     6 1970-01-01 16:31:57   \n",
       "5  1970-01-01 16:31:57     6 1970-01-01 17:05:17   \n",
       "\n",
       "                              ActivityID  TimestampDt       ActivityName  \\\n",
       "17  214ffff1-1806-40ad-884e-1270efb35b3d       2500.0    loading:Barge I   \n",
       "6   263dfaac-8792-4c24-9a4b-24e726b31f6f       2000.0  loading:Carrier B   \n",
       "0   8255f591-f01a-4825-a3e5-bd9c2e22b364       2000.0  loading:Carrier A   \n",
       "12  dc22b4b0-02c8-46c3-8338-432eb53d0e5e       2500.0  loading:Carrier C   \n",
       "18  214ffff1-1806-40ad-884e-1270efb35b3d       2500.0    loading:Barge I   \n",
       "7   263dfaac-8792-4c24-9a4b-24e726b31f6f       2000.0  loading:Carrier B   \n",
       "1   8255f591-f01a-4825-a3e5-bd9c2e22b364       2000.0  loading:Carrier A   \n",
       "13  dc22b4b0-02c8-46c3-8338-432eb53d0e5e       2500.0  loading:Carrier C   \n",
       "19  214ffff1-1806-40ad-884e-1270efb35b3d       2500.0    loading:Barge I   \n",
       "8   263dfaac-8792-4c24-9a4b-24e726b31f6f       2000.0  loading:Carrier B   \n",
       "2   8255f591-f01a-4825-a3e5-bd9c2e22b364       2000.0  loading:Carrier A   \n",
       "14  dc22b4b0-02c8-46c3-8338-432eb53d0e5e       2500.0  loading:Carrier C   \n",
       "20  214ffff1-1806-40ad-884e-1270efb35b3d       2500.0    loading:Barge I   \n",
       "9   263dfaac-8792-4c24-9a4b-24e726b31f6f       2000.0  loading:Carrier B   \n",
       "3   8255f591-f01a-4825-a3e5-bd9c2e22b364       2000.0  loading:Carrier A   \n",
       "15  dc22b4b0-02c8-46c3-8338-432eb53d0e5e       2500.0  loading:Carrier C   \n",
       "21  214ffff1-1806-40ad-884e-1270efb35b3d       2500.0    loading:Barge I   \n",
       "10  263dfaac-8792-4c24-9a4b-24e726b31f6f       2000.0  loading:Carrier B   \n",
       "4   8255f591-f01a-4825-a3e5-bd9c2e22b364       2000.0  loading:Carrier A   \n",
       "16  dc22b4b0-02c8-46c3-8338-432eb53d0e5e       2500.0  loading:Carrier C   \n",
       "22  214ffff1-1806-40ad-884e-1270efb35b3d       2500.0    loading:Barge I   \n",
       "11  263dfaac-8792-4c24-9a4b-24e726b31f6f       2000.0  loading:Carrier B   \n",
       "5   8255f591-f01a-4825-a3e5-bd9c2e22b364       2000.0  loading:Carrier A   \n",
       "\n",
       "          ActivityClass ConceptName  \n",
       "17  ShiftAmountActivity    Cutter T  \n",
       "6   ShiftAmountActivity    Cutter T  \n",
       "0   ShiftAmountActivity    Cutter T  \n",
       "12  ShiftAmountActivity    Cutter T  \n",
       "18  ShiftAmountActivity    Cutter T  \n",
       "7   ShiftAmountActivity    Cutter T  \n",
       "1   ShiftAmountActivity    Cutter T  \n",
       "13  ShiftAmountActivity    Cutter T  \n",
       "19  ShiftAmountActivity    Cutter T  \n",
       "8   ShiftAmountActivity    Cutter T  \n",
       "2   ShiftAmountActivity    Cutter T  \n",
       "14  ShiftAmountActivity    Cutter T  \n",
       "20  ShiftAmountActivity    Cutter T  \n",
       "9   ShiftAmountActivity    Cutter T  \n",
       "3   ShiftAmountActivity    Cutter T  \n",
       "15  ShiftAmountActivity    Cutter T  \n",
       "21  ShiftAmountActivity    Cutter T  \n",
       "10  ShiftAmountActivity    Cutter T  \n",
       "4   ShiftAmountActivity    Cutter T  \n",
       "16  ShiftAmountActivity    Cutter T  \n",
       "22  ShiftAmountActivity    Cutter T  \n",
       "11  ShiftAmountActivity    Cutter T  \n",
       "5   ShiftAmountActivity    Cutter T  "
      ]
     },
     "execution_count": 29,
     "metadata": {},
     "output_type": "execute_result"
    }
   ],
   "source": [
    "VesselActivitiesLog = export_ranges(activities_flat, 'instances_cutter.csv', cutter_name)\n",
    "VesselActivitiesLog"
   ]
  },
  {
   "cell_type": "code",
   "execution_count": 30,
   "id": "eeedd978",
   "metadata": {},
   "outputs": [
    {
     "data": {
      "text/html": [
       "        <script type=\"text/javascript\">\n",
       "        window.PlotlyConfig = {MathJaxConfig: 'local'};\n",
       "        if (window.MathJax && window.MathJax.Hub && window.MathJax.Hub.Config) {window.MathJax.Hub.Config({SVG: {font: \"STIX-Web\"}});}\n",
       "        if (typeof require !== 'undefined') {\n",
       "        require.undef(\"plotly\");\n",
       "        requirejs.config({\n",
       "            paths: {\n",
       "                'plotly': ['https://cdn.plot.ly/plotly-2.18.2.min']\n",
       "            }\n",
       "        });\n",
       "        require(['plotly'], function(Plotly) {\n",
       "            window._Plotly = Plotly;\n",
       "        });\n",
       "        }\n",
       "        </script>\n",
       "        "
      ]
     },
     "metadata": {},
     "output_type": "display_data"
    },
    {
     "data": {
      "application/vnd.plotly.v1+json": {
       "config": {
        "linkText": "Export to plot.ly",
        "plotlyServerURL": "https://plot.ly",
        "showLink": false
       },
       "data": [
        {
         "connectgaps": false,
         "hoverinfo": "y+name",
         "line": {
          "color": "rgb(12,166,223)",
          "width": 10
         },
         "mode": "lines",
         "name": "loading:Carrier A",
         "type": "scatter",
         "x": [
          "1970-01-01T01:49:05",
          "1970-01-01T01:49:05",
          "1970-01-01T02:22:25",
          "1970-01-01T02:22:25",
          "1970-01-01T02:22:25",
          "1970-01-01T04:24:49",
          "1970-01-01T04:24:49",
          "1970-01-01T04:58:09",
          "1970-01-01T04:58:09",
          "1970-01-01T04:58:09",
          "1970-01-01T07:22:18",
          "1970-01-01T07:22:18",
          "1970-01-01T07:55:38",
          "1970-01-01T07:55:38",
          "1970-01-01T07:55:38",
          "1970-01-01T10:25:31",
          "1970-01-01T10:25:31",
          "1970-01-01T10:58:51",
          "1970-01-01T10:58:51",
          "1970-01-01T10:58:51",
          "1970-01-01T13:28:44",
          "1970-01-01T13:28:44",
          "1970-01-01T14:02:04",
          "1970-01-01T14:02:04",
          "1970-01-01T14:02:04",
          "1970-01-01T16:31:57",
          "1970-01-01T16:31:57",
          "1970-01-01T17:05:17",
          "1970-01-01T17:05:17",
          "1970-01-01T17:05:17"
         ],
         "y": [
          "loading:Carrier A",
          "loading:Carrier A",
          "loading:Carrier A",
          "loading:Carrier A",
          null,
          "loading:Carrier A",
          "loading:Carrier A",
          "loading:Carrier A",
          "loading:Carrier A",
          null,
          "loading:Carrier A",
          "loading:Carrier A",
          "loading:Carrier A",
          "loading:Carrier A",
          null,
          "loading:Carrier A",
          "loading:Carrier A",
          "loading:Carrier A",
          "loading:Carrier A",
          null,
          "loading:Carrier A",
          "loading:Carrier A",
          "loading:Carrier A",
          "loading:Carrier A",
          null,
          "loading:Carrier A",
          "loading:Carrier A",
          "loading:Carrier A",
          "loading:Carrier A",
          null
         ]
        },
        {
         "connectgaps": false,
         "hoverinfo": "y+name",
         "line": {
          "color": "rgb(76,230,31)",
          "width": 10
         },
         "mode": "lines",
         "name": "loading:Carrier B",
         "type": "scatter",
         "x": [
          "1970-01-01T01:15:45",
          "1970-01-01T01:15:45",
          "1970-01-01T01:49:05",
          "1970-01-01T01:49:05",
          "1970-01-01T01:49:05",
          "1970-01-01T03:45:45",
          "1970-01-01T03:45:45",
          "1970-01-01T04:19:05",
          "1970-01-01T04:19:05",
          "1970-01-01T04:19:05",
          "1970-01-01T06:48:58",
          "1970-01-01T06:48:58",
          "1970-01-01T07:22:18",
          "1970-01-01T07:22:18",
          "1970-01-01T07:22:18",
          "1970-01-01T09:52:11",
          "1970-01-01T09:52:11",
          "1970-01-01T10:25:31",
          "1970-01-01T10:25:31",
          "1970-01-01T10:25:31",
          "1970-01-01T12:55:24",
          "1970-01-01T12:55:24",
          "1970-01-01T13:28:44",
          "1970-01-01T13:28:44",
          "1970-01-01T13:28:44",
          "1970-01-01T15:58:37",
          "1970-01-01T15:58:37",
          "1970-01-01T16:31:57",
          "1970-01-01T16:31:57",
          "1970-01-01T16:31:57"
         ],
         "y": [
          "loading:Carrier B",
          "loading:Carrier B",
          "loading:Carrier B",
          "loading:Carrier B",
          null,
          "loading:Carrier B",
          "loading:Carrier B",
          "loading:Carrier B",
          "loading:Carrier B",
          null,
          "loading:Carrier B",
          "loading:Carrier B",
          "loading:Carrier B",
          "loading:Carrier B",
          null,
          "loading:Carrier B",
          "loading:Carrier B",
          "loading:Carrier B",
          "loading:Carrier B",
          null,
          "loading:Carrier B",
          "loading:Carrier B",
          "loading:Carrier B",
          "loading:Carrier B",
          null,
          "loading:Carrier B",
          "loading:Carrier B",
          "loading:Carrier B",
          "loading:Carrier B",
          null
         ]
        },
        {
         "connectgaps": false,
         "hoverinfo": "y+name",
         "line": {
          "color": "rgb(140,38,95)",
          "width": 10
         },
         "mode": "lines",
         "name": "loading:Carrier C",
         "type": "scatter",
         "x": [
          "1970-01-01T02:22:25",
          "1970-01-01T02:22:25",
          "1970-01-01T03:04:05",
          "1970-01-01T03:04:05",
          "1970-01-01T03:04:05",
          "1970-01-01T05:25:38",
          "1970-01-01T05:25:38",
          "1970-01-01T06:07:18",
          "1970-01-01T06:07:18",
          "1970-01-01T06:07:18",
          "1970-01-01T08:28:51",
          "1970-01-01T08:28:51",
          "1970-01-01T09:10:31",
          "1970-01-01T09:10:31",
          "1970-01-01T09:10:31",
          "1970-01-01T11:32:04",
          "1970-01-01T11:32:04",
          "1970-01-01T12:13:44",
          "1970-01-01T12:13:44",
          "1970-01-01T12:13:44",
          "1970-01-01T14:35:17",
          "1970-01-01T14:35:17",
          "1970-01-01T15:16:57",
          "1970-01-01T15:16:57",
          "1970-01-01T15:16:57"
         ],
         "y": [
          "loading:Carrier C",
          "loading:Carrier C",
          "loading:Carrier C",
          "loading:Carrier C",
          null,
          "loading:Carrier C",
          "loading:Carrier C",
          "loading:Carrier C",
          "loading:Carrier C",
          null,
          "loading:Carrier C",
          "loading:Carrier C",
          "loading:Carrier C",
          "loading:Carrier C",
          null,
          "loading:Carrier C",
          "loading:Carrier C",
          "loading:Carrier C",
          "loading:Carrier C",
          null,
          "loading:Carrier C",
          "loading:Carrier C",
          "loading:Carrier C",
          "loading:Carrier C",
          null
         ]
        },
        {
         "connectgaps": false,
         "hoverinfo": "y+name",
         "line": {
          "color": "rgb(204,102,159)",
          "width": 10
         },
         "mode": "lines",
         "name": "loading:Barge I",
         "type": "scatter",
         "x": [
          "1970-01-01T00:34:05",
          "1970-01-01T00:34:05",
          "1970-01-01T01:15:45",
          "1970-01-01T01:15:45",
          "1970-01-01T01:15:45",
          "1970-01-01T03:04:05",
          "1970-01-01T03:04:05",
          "1970-01-01T03:45:45",
          "1970-01-01T03:45:45",
          "1970-01-01T03:45:45",
          "1970-01-01T06:07:18",
          "1970-01-01T06:07:18",
          "1970-01-01T06:48:58",
          "1970-01-01T06:48:58",
          "1970-01-01T06:48:58",
          "1970-01-01T09:10:31",
          "1970-01-01T09:10:31",
          "1970-01-01T09:52:11",
          "1970-01-01T09:52:11",
          "1970-01-01T09:52:11",
          "1970-01-01T12:13:44",
          "1970-01-01T12:13:44",
          "1970-01-01T12:55:24",
          "1970-01-01T12:55:24",
          "1970-01-01T12:55:24",
          "1970-01-01T15:16:57",
          "1970-01-01T15:16:57",
          "1970-01-01T15:58:37",
          "1970-01-01T15:58:37",
          "1970-01-01T15:58:37"
         ],
         "y": [
          "loading:Barge I",
          "loading:Barge I",
          "loading:Barge I",
          "loading:Barge I",
          null,
          "loading:Barge I",
          "loading:Barge I",
          "loading:Barge I",
          "loading:Barge I",
          null,
          "loading:Barge I",
          "loading:Barge I",
          "loading:Barge I",
          "loading:Barge I",
          null,
          "loading:Barge I",
          "loading:Barge I",
          "loading:Barge I",
          "loading:Barge I",
          null,
          "loading:Barge I",
          "loading:Barge I",
          "loading:Barge I",
          "loading:Barge I",
          null,
          "loading:Barge I",
          "loading:Barge I",
          "loading:Barge I",
          "loading:Barge I",
          null
         ]
        }
       ],
       "layout": {
        "hovermode": "closest",
        "legend": {
         "orientation": "h",
         "x": 0,
         "y": -0.2
        },
        "template": {
         "data": {
          "bar": [
           {
            "error_x": {
             "color": "#2a3f5f"
            },
            "error_y": {
             "color": "#2a3f5f"
            },
            "marker": {
             "line": {
              "color": "#E5ECF6",
              "width": 0.5
             },
             "pattern": {
              "fillmode": "overlay",
              "size": 10,
              "solidity": 0.2
             }
            },
            "type": "bar"
           }
          ],
          "barpolar": [
           {
            "marker": {
             "line": {
              "color": "#E5ECF6",
              "width": 0.5
             },
             "pattern": {
              "fillmode": "overlay",
              "size": 10,
              "solidity": 0.2
             }
            },
            "type": "barpolar"
           }
          ],
          "carpet": [
           {
            "aaxis": {
             "endlinecolor": "#2a3f5f",
             "gridcolor": "white",
             "linecolor": "white",
             "minorgridcolor": "white",
             "startlinecolor": "#2a3f5f"
            },
            "baxis": {
             "endlinecolor": "#2a3f5f",
             "gridcolor": "white",
             "linecolor": "white",
             "minorgridcolor": "white",
             "startlinecolor": "#2a3f5f"
            },
            "type": "carpet"
           }
          ],
          "choropleth": [
           {
            "colorbar": {
             "outlinewidth": 0,
             "ticks": ""
            },
            "type": "choropleth"
           }
          ],
          "contour": [
           {
            "colorbar": {
             "outlinewidth": 0,
             "ticks": ""
            },
            "colorscale": [
             [
              0,
              "#0d0887"
             ],
             [
              0.1111111111111111,
              "#46039f"
             ],
             [
              0.2222222222222222,
              "#7201a8"
             ],
             [
              0.3333333333333333,
              "#9c179e"
             ],
             [
              0.4444444444444444,
              "#bd3786"
             ],
             [
              0.5555555555555556,
              "#d8576b"
             ],
             [
              0.6666666666666666,
              "#ed7953"
             ],
             [
              0.7777777777777778,
              "#fb9f3a"
             ],
             [
              0.8888888888888888,
              "#fdca26"
             ],
             [
              1,
              "#f0f921"
             ]
            ],
            "type": "contour"
           }
          ],
          "contourcarpet": [
           {
            "colorbar": {
             "outlinewidth": 0,
             "ticks": ""
            },
            "type": "contourcarpet"
           }
          ],
          "heatmap": [
           {
            "colorbar": {
             "outlinewidth": 0,
             "ticks": ""
            },
            "colorscale": [
             [
              0,
              "#0d0887"
             ],
             [
              0.1111111111111111,
              "#46039f"
             ],
             [
              0.2222222222222222,
              "#7201a8"
             ],
             [
              0.3333333333333333,
              "#9c179e"
             ],
             [
              0.4444444444444444,
              "#bd3786"
             ],
             [
              0.5555555555555556,
              "#d8576b"
             ],
             [
              0.6666666666666666,
              "#ed7953"
             ],
             [
              0.7777777777777778,
              "#fb9f3a"
             ],
             [
              0.8888888888888888,
              "#fdca26"
             ],
             [
              1,
              "#f0f921"
             ]
            ],
            "type": "heatmap"
           }
          ],
          "heatmapgl": [
           {
            "colorbar": {
             "outlinewidth": 0,
             "ticks": ""
            },
            "colorscale": [
             [
              0,
              "#0d0887"
             ],
             [
              0.1111111111111111,
              "#46039f"
             ],
             [
              0.2222222222222222,
              "#7201a8"
             ],
             [
              0.3333333333333333,
              "#9c179e"
             ],
             [
              0.4444444444444444,
              "#bd3786"
             ],
             [
              0.5555555555555556,
              "#d8576b"
             ],
             [
              0.6666666666666666,
              "#ed7953"
             ],
             [
              0.7777777777777778,
              "#fb9f3a"
             ],
             [
              0.8888888888888888,
              "#fdca26"
             ],
             [
              1,
              "#f0f921"
             ]
            ],
            "type": "heatmapgl"
           }
          ],
          "histogram": [
           {
            "marker": {
             "pattern": {
              "fillmode": "overlay",
              "size": 10,
              "solidity": 0.2
             }
            },
            "type": "histogram"
           }
          ],
          "histogram2d": [
           {
            "colorbar": {
             "outlinewidth": 0,
             "ticks": ""
            },
            "colorscale": [
             [
              0,
              "#0d0887"
             ],
             [
              0.1111111111111111,
              "#46039f"
             ],
             [
              0.2222222222222222,
              "#7201a8"
             ],
             [
              0.3333333333333333,
              "#9c179e"
             ],
             [
              0.4444444444444444,
              "#bd3786"
             ],
             [
              0.5555555555555556,
              "#d8576b"
             ],
             [
              0.6666666666666666,
              "#ed7953"
             ],
             [
              0.7777777777777778,
              "#fb9f3a"
             ],
             [
              0.8888888888888888,
              "#fdca26"
             ],
             [
              1,
              "#f0f921"
             ]
            ],
            "type": "histogram2d"
           }
          ],
          "histogram2dcontour": [
           {
            "colorbar": {
             "outlinewidth": 0,
             "ticks": ""
            },
            "colorscale": [
             [
              0,
              "#0d0887"
             ],
             [
              0.1111111111111111,
              "#46039f"
             ],
             [
              0.2222222222222222,
              "#7201a8"
             ],
             [
              0.3333333333333333,
              "#9c179e"
             ],
             [
              0.4444444444444444,
              "#bd3786"
             ],
             [
              0.5555555555555556,
              "#d8576b"
             ],
             [
              0.6666666666666666,
              "#ed7953"
             ],
             [
              0.7777777777777778,
              "#fb9f3a"
             ],
             [
              0.8888888888888888,
              "#fdca26"
             ],
             [
              1,
              "#f0f921"
             ]
            ],
            "type": "histogram2dcontour"
           }
          ],
          "mesh3d": [
           {
            "colorbar": {
             "outlinewidth": 0,
             "ticks": ""
            },
            "type": "mesh3d"
           }
          ],
          "parcoords": [
           {
            "line": {
             "colorbar": {
              "outlinewidth": 0,
              "ticks": ""
             }
            },
            "type": "parcoords"
           }
          ],
          "pie": [
           {
            "automargin": true,
            "type": "pie"
           }
          ],
          "scatter": [
           {
            "fillpattern": {
             "fillmode": "overlay",
             "size": 10,
             "solidity": 0.2
            },
            "type": "scatter"
           }
          ],
          "scatter3d": [
           {
            "line": {
             "colorbar": {
              "outlinewidth": 0,
              "ticks": ""
             }
            },
            "marker": {
             "colorbar": {
              "outlinewidth": 0,
              "ticks": ""
             }
            },
            "type": "scatter3d"
           }
          ],
          "scattercarpet": [
           {
            "marker": {
             "colorbar": {
              "outlinewidth": 0,
              "ticks": ""
             }
            },
            "type": "scattercarpet"
           }
          ],
          "scattergeo": [
           {
            "marker": {
             "colorbar": {
              "outlinewidth": 0,
              "ticks": ""
             }
            },
            "type": "scattergeo"
           }
          ],
          "scattergl": [
           {
            "marker": {
             "colorbar": {
              "outlinewidth": 0,
              "ticks": ""
             }
            },
            "type": "scattergl"
           }
          ],
          "scattermapbox": [
           {
            "marker": {
             "colorbar": {
              "outlinewidth": 0,
              "ticks": ""
             }
            },
            "type": "scattermapbox"
           }
          ],
          "scatterpolar": [
           {
            "marker": {
             "colorbar": {
              "outlinewidth": 0,
              "ticks": ""
             }
            },
            "type": "scatterpolar"
           }
          ],
          "scatterpolargl": [
           {
            "marker": {
             "colorbar": {
              "outlinewidth": 0,
              "ticks": ""
             }
            },
            "type": "scatterpolargl"
           }
          ],
          "scatterternary": [
           {
            "marker": {
             "colorbar": {
              "outlinewidth": 0,
              "ticks": ""
             }
            },
            "type": "scatterternary"
           }
          ],
          "surface": [
           {
            "colorbar": {
             "outlinewidth": 0,
             "ticks": ""
            },
            "colorscale": [
             [
              0,
              "#0d0887"
             ],
             [
              0.1111111111111111,
              "#46039f"
             ],
             [
              0.2222222222222222,
              "#7201a8"
             ],
             [
              0.3333333333333333,
              "#9c179e"
             ],
             [
              0.4444444444444444,
              "#bd3786"
             ],
             [
              0.5555555555555556,
              "#d8576b"
             ],
             [
              0.6666666666666666,
              "#ed7953"
             ],
             [
              0.7777777777777778,
              "#fb9f3a"
             ],
             [
              0.8888888888888888,
              "#fdca26"
             ],
             [
              1,
              "#f0f921"
             ]
            ],
            "type": "surface"
           }
          ],
          "table": [
           {
            "cells": {
             "fill": {
              "color": "#EBF0F8"
             },
             "line": {
              "color": "white"
             }
            },
            "header": {
             "fill": {
              "color": "#C8D4E3"
             },
             "line": {
              "color": "white"
             }
            },
            "type": "table"
           }
          ]
         },
         "layout": {
          "annotationdefaults": {
           "arrowcolor": "#2a3f5f",
           "arrowhead": 0,
           "arrowwidth": 1
          },
          "autotypenumbers": "strict",
          "coloraxis": {
           "colorbar": {
            "outlinewidth": 0,
            "ticks": ""
           }
          },
          "colorscale": {
           "diverging": [
            [
             0,
             "#8e0152"
            ],
            [
             0.1,
             "#c51b7d"
            ],
            [
             0.2,
             "#de77ae"
            ],
            [
             0.3,
             "#f1b6da"
            ],
            [
             0.4,
             "#fde0ef"
            ],
            [
             0.5,
             "#f7f7f7"
            ],
            [
             0.6,
             "#e6f5d0"
            ],
            [
             0.7,
             "#b8e186"
            ],
            [
             0.8,
             "#7fbc41"
            ],
            [
             0.9,
             "#4d9221"
            ],
            [
             1,
             "#276419"
            ]
           ],
           "sequential": [
            [
             0,
             "#0d0887"
            ],
            [
             0.1111111111111111,
             "#46039f"
            ],
            [
             0.2222222222222222,
             "#7201a8"
            ],
            [
             0.3333333333333333,
             "#9c179e"
            ],
            [
             0.4444444444444444,
             "#bd3786"
            ],
            [
             0.5555555555555556,
             "#d8576b"
            ],
            [
             0.6666666666666666,
             "#ed7953"
            ],
            [
             0.7777777777777778,
             "#fb9f3a"
            ],
            [
             0.8888888888888888,
             "#fdca26"
            ],
            [
             1,
             "#f0f921"
            ]
           ],
           "sequentialminus": [
            [
             0,
             "#0d0887"
            ],
            [
             0.1111111111111111,
             "#46039f"
            ],
            [
             0.2222222222222222,
             "#7201a8"
            ],
            [
             0.3333333333333333,
             "#9c179e"
            ],
            [
             0.4444444444444444,
             "#bd3786"
            ],
            [
             0.5555555555555556,
             "#d8576b"
            ],
            [
             0.6666666666666666,
             "#ed7953"
            ],
            [
             0.7777777777777778,
             "#fb9f3a"
            ],
            [
             0.8888888888888888,
             "#fdca26"
            ],
            [
             1,
             "#f0f921"
            ]
           ]
          },
          "colorway": [
           "#636efa",
           "#EF553B",
           "#00cc96",
           "#ab63fa",
           "#FFA15A",
           "#19d3f3",
           "#FF6692",
           "#B6E880",
           "#FF97FF",
           "#FECB52"
          ],
          "font": {
           "color": "#2a3f5f"
          },
          "geo": {
           "bgcolor": "white",
           "lakecolor": "white",
           "landcolor": "#E5ECF6",
           "showlakes": true,
           "showland": true,
           "subunitcolor": "white"
          },
          "hoverlabel": {
           "align": "left"
          },
          "hovermode": "closest",
          "mapbox": {
           "style": "light"
          },
          "paper_bgcolor": "white",
          "plot_bgcolor": "#E5ECF6",
          "polar": {
           "angularaxis": {
            "gridcolor": "white",
            "linecolor": "white",
            "ticks": ""
           },
           "bgcolor": "#E5ECF6",
           "radialaxis": {
            "gridcolor": "white",
            "linecolor": "white",
            "ticks": ""
           }
          },
          "scene": {
           "xaxis": {
            "backgroundcolor": "#E5ECF6",
            "gridcolor": "white",
            "gridwidth": 2,
            "linecolor": "white",
            "showbackground": true,
            "ticks": "",
            "zerolinecolor": "white"
           },
           "yaxis": {
            "backgroundcolor": "#E5ECF6",
            "gridcolor": "white",
            "gridwidth": 2,
            "linecolor": "white",
            "showbackground": true,
            "ticks": "",
            "zerolinecolor": "white"
           },
           "zaxis": {
            "backgroundcolor": "#E5ECF6",
            "gridcolor": "white",
            "gridwidth": 2,
            "linecolor": "white",
            "showbackground": true,
            "ticks": "",
            "zerolinecolor": "white"
           }
          },
          "shapedefaults": {
           "line": {
            "color": "#2a3f5f"
           }
          },
          "ternary": {
           "aaxis": {
            "gridcolor": "white",
            "linecolor": "white",
            "ticks": ""
           },
           "baxis": {
            "gridcolor": "white",
            "linecolor": "white",
            "ticks": ""
           },
           "bgcolor": "#E5ECF6",
           "caxis": {
            "gridcolor": "white",
            "linecolor": "white",
            "ticks": ""
           }
          },
          "title": {
           "x": 0.05
          },
          "xaxis": {
           "automargin": true,
           "gridcolor": "white",
           "linecolor": "white",
           "ticks": "",
           "title": {
            "standoff": 15
           },
           "zerolinecolor": "white",
           "zerolinewidth": 2
          },
          "yaxis": {
           "automargin": true,
           "gridcolor": "white",
           "linecolor": "white",
           "ticks": "",
           "title": {
            "standoff": 15
           },
           "zerolinecolor": "white",
           "zerolinewidth": 2
          }
         }
        },
        "title": {
         "text": "GANTT Chart"
        },
        "xaxis": {
         "range": [
          "1970-01-01T00:34:05",
          "1970-01-01T17:05:17"
         ],
         "title": {
          "font": {
           "color": "#7f7f7f",
           "family": "Courier New, monospace",
           "size": 18
          },
          "text": "Time"
         }
        },
        "yaxis": {
         "title": {
          "font": {
           "color": "#7f7f7f",
           "family": "Courier New, monospace",
           "size": 18
          },
          "text": "Activities"
         }
        }
       }
      },
      "text/html": [
       "<div>                            <div id=\"cbe62b85-15b7-4b58-9e08-9d9886cc9a1c\" class=\"plotly-graph-div\" style=\"height:525px; width:100%;\"></div>            <script type=\"text/javascript\">                require([\"plotly\"], function(Plotly) {                    window.PLOTLYENV=window.PLOTLYENV || {};                                    if (document.getElementById(\"cbe62b85-15b7-4b58-9e08-9d9886cc9a1c\")) {                    Plotly.newPlot(                        \"cbe62b85-15b7-4b58-9e08-9d9886cc9a1c\",                        [{\"connectgaps\":false,\"hoverinfo\":\"y+name\",\"line\":{\"color\":\"rgb(12,166,223)\",\"width\":10},\"mode\":\"lines\",\"name\":\"loading:Carrier A\",\"x\":[\"1970-01-01T01:49:05\",\"1970-01-01T01:49:05\",\"1970-01-01T02:22:25\",\"1970-01-01T02:22:25\",\"1970-01-01T02:22:25\",\"1970-01-01T04:24:49\",\"1970-01-01T04:24:49\",\"1970-01-01T04:58:09\",\"1970-01-01T04:58:09\",\"1970-01-01T04:58:09\",\"1970-01-01T07:22:18\",\"1970-01-01T07:22:18\",\"1970-01-01T07:55:38\",\"1970-01-01T07:55:38\",\"1970-01-01T07:55:38\",\"1970-01-01T10:25:31\",\"1970-01-01T10:25:31\",\"1970-01-01T10:58:51\",\"1970-01-01T10:58:51\",\"1970-01-01T10:58:51\",\"1970-01-01T13:28:44\",\"1970-01-01T13:28:44\",\"1970-01-01T14:02:04\",\"1970-01-01T14:02:04\",\"1970-01-01T14:02:04\",\"1970-01-01T16:31:57\",\"1970-01-01T16:31:57\",\"1970-01-01T17:05:17\",\"1970-01-01T17:05:17\",\"1970-01-01T17:05:17\"],\"y\":[\"loading:Carrier A\",\"loading:Carrier A\",\"loading:Carrier A\",\"loading:Carrier A\",null,\"loading:Carrier A\",\"loading:Carrier A\",\"loading:Carrier A\",\"loading:Carrier A\",null,\"loading:Carrier A\",\"loading:Carrier A\",\"loading:Carrier A\",\"loading:Carrier A\",null,\"loading:Carrier A\",\"loading:Carrier A\",\"loading:Carrier A\",\"loading:Carrier A\",null,\"loading:Carrier A\",\"loading:Carrier A\",\"loading:Carrier A\",\"loading:Carrier A\",null,\"loading:Carrier A\",\"loading:Carrier A\",\"loading:Carrier A\",\"loading:Carrier A\",null],\"type\":\"scatter\"},{\"connectgaps\":false,\"hoverinfo\":\"y+name\",\"line\":{\"color\":\"rgb(76,230,31)\",\"width\":10},\"mode\":\"lines\",\"name\":\"loading:Carrier B\",\"x\":[\"1970-01-01T01:15:45\",\"1970-01-01T01:15:45\",\"1970-01-01T01:49:05\",\"1970-01-01T01:49:05\",\"1970-01-01T01:49:05\",\"1970-01-01T03:45:45\",\"1970-01-01T03:45:45\",\"1970-01-01T04:19:05\",\"1970-01-01T04:19:05\",\"1970-01-01T04:19:05\",\"1970-01-01T06:48:58\",\"1970-01-01T06:48:58\",\"1970-01-01T07:22:18\",\"1970-01-01T07:22:18\",\"1970-01-01T07:22:18\",\"1970-01-01T09:52:11\",\"1970-01-01T09:52:11\",\"1970-01-01T10:25:31\",\"1970-01-01T10:25:31\",\"1970-01-01T10:25:31\",\"1970-01-01T12:55:24\",\"1970-01-01T12:55:24\",\"1970-01-01T13:28:44\",\"1970-01-01T13:28:44\",\"1970-01-01T13:28:44\",\"1970-01-01T15:58:37\",\"1970-01-01T15:58:37\",\"1970-01-01T16:31:57\",\"1970-01-01T16:31:57\",\"1970-01-01T16:31:57\"],\"y\":[\"loading:Carrier B\",\"loading:Carrier B\",\"loading:Carrier B\",\"loading:Carrier B\",null,\"loading:Carrier B\",\"loading:Carrier B\",\"loading:Carrier B\",\"loading:Carrier B\",null,\"loading:Carrier B\",\"loading:Carrier B\",\"loading:Carrier B\",\"loading:Carrier B\",null,\"loading:Carrier B\",\"loading:Carrier B\",\"loading:Carrier B\",\"loading:Carrier B\",null,\"loading:Carrier B\",\"loading:Carrier B\",\"loading:Carrier B\",\"loading:Carrier B\",null,\"loading:Carrier B\",\"loading:Carrier B\",\"loading:Carrier B\",\"loading:Carrier B\",null],\"type\":\"scatter\"},{\"connectgaps\":false,\"hoverinfo\":\"y+name\",\"line\":{\"color\":\"rgb(140,38,95)\",\"width\":10},\"mode\":\"lines\",\"name\":\"loading:Carrier C\",\"x\":[\"1970-01-01T02:22:25\",\"1970-01-01T02:22:25\",\"1970-01-01T03:04:05\",\"1970-01-01T03:04:05\",\"1970-01-01T03:04:05\",\"1970-01-01T05:25:38\",\"1970-01-01T05:25:38\",\"1970-01-01T06:07:18\",\"1970-01-01T06:07:18\",\"1970-01-01T06:07:18\",\"1970-01-01T08:28:51\",\"1970-01-01T08:28:51\",\"1970-01-01T09:10:31\",\"1970-01-01T09:10:31\",\"1970-01-01T09:10:31\",\"1970-01-01T11:32:04\",\"1970-01-01T11:32:04\",\"1970-01-01T12:13:44\",\"1970-01-01T12:13:44\",\"1970-01-01T12:13:44\",\"1970-01-01T14:35:17\",\"1970-01-01T14:35:17\",\"1970-01-01T15:16:57\",\"1970-01-01T15:16:57\",\"1970-01-01T15:16:57\"],\"y\":[\"loading:Carrier C\",\"loading:Carrier C\",\"loading:Carrier C\",\"loading:Carrier C\",null,\"loading:Carrier C\",\"loading:Carrier C\",\"loading:Carrier C\",\"loading:Carrier C\",null,\"loading:Carrier C\",\"loading:Carrier C\",\"loading:Carrier C\",\"loading:Carrier C\",null,\"loading:Carrier C\",\"loading:Carrier C\",\"loading:Carrier C\",\"loading:Carrier C\",null,\"loading:Carrier C\",\"loading:Carrier C\",\"loading:Carrier C\",\"loading:Carrier C\",null],\"type\":\"scatter\"},{\"connectgaps\":false,\"hoverinfo\":\"y+name\",\"line\":{\"color\":\"rgb(204,102,159)\",\"width\":10},\"mode\":\"lines\",\"name\":\"loading:Barge I\",\"x\":[\"1970-01-01T00:34:05\",\"1970-01-01T00:34:05\",\"1970-01-01T01:15:45\",\"1970-01-01T01:15:45\",\"1970-01-01T01:15:45\",\"1970-01-01T03:04:05\",\"1970-01-01T03:04:05\",\"1970-01-01T03:45:45\",\"1970-01-01T03:45:45\",\"1970-01-01T03:45:45\",\"1970-01-01T06:07:18\",\"1970-01-01T06:07:18\",\"1970-01-01T06:48:58\",\"1970-01-01T06:48:58\",\"1970-01-01T06:48:58\",\"1970-01-01T09:10:31\",\"1970-01-01T09:10:31\",\"1970-01-01T09:52:11\",\"1970-01-01T09:52:11\",\"1970-01-01T09:52:11\",\"1970-01-01T12:13:44\",\"1970-01-01T12:13:44\",\"1970-01-01T12:55:24\",\"1970-01-01T12:55:24\",\"1970-01-01T12:55:24\",\"1970-01-01T15:16:57\",\"1970-01-01T15:16:57\",\"1970-01-01T15:58:37\",\"1970-01-01T15:58:37\",\"1970-01-01T15:58:37\"],\"y\":[\"loading:Barge I\",\"loading:Barge I\",\"loading:Barge I\",\"loading:Barge I\",null,\"loading:Barge I\",\"loading:Barge I\",\"loading:Barge I\",\"loading:Barge I\",null,\"loading:Barge I\",\"loading:Barge I\",\"loading:Barge I\",\"loading:Barge I\",null,\"loading:Barge I\",\"loading:Barge I\",\"loading:Barge I\",\"loading:Barge I\",null,\"loading:Barge I\",\"loading:Barge I\",\"loading:Barge I\",\"loading:Barge I\",null,\"loading:Barge I\",\"loading:Barge I\",\"loading:Barge I\",\"loading:Barge I\",null],\"type\":\"scatter\"}],                        {\"hovermode\":\"closest\",\"legend\":{\"orientation\":\"h\",\"x\":0,\"y\":-0.2},\"template\":{\"data\":{\"barpolar\":[{\"marker\":{\"line\":{\"color\":\"#E5ECF6\",\"width\":0.5},\"pattern\":{\"fillmode\":\"overlay\",\"size\":10,\"solidity\":0.2}},\"type\":\"barpolar\"}],\"bar\":[{\"error_x\":{\"color\":\"#2a3f5f\"},\"error_y\":{\"color\":\"#2a3f5f\"},\"marker\":{\"line\":{\"color\":\"#E5ECF6\",\"width\":0.5},\"pattern\":{\"fillmode\":\"overlay\",\"size\":10,\"solidity\":0.2}},\"type\":\"bar\"}],\"carpet\":[{\"aaxis\":{\"endlinecolor\":\"#2a3f5f\",\"gridcolor\":\"white\",\"linecolor\":\"white\",\"minorgridcolor\":\"white\",\"startlinecolor\":\"#2a3f5f\"},\"baxis\":{\"endlinecolor\":\"#2a3f5f\",\"gridcolor\":\"white\",\"linecolor\":\"white\",\"minorgridcolor\":\"white\",\"startlinecolor\":\"#2a3f5f\"},\"type\":\"carpet\"}],\"choropleth\":[{\"colorbar\":{\"outlinewidth\":0,\"ticks\":\"\"},\"type\":\"choropleth\"}],\"contourcarpet\":[{\"colorbar\":{\"outlinewidth\":0,\"ticks\":\"\"},\"type\":\"contourcarpet\"}],\"contour\":[{\"colorbar\":{\"outlinewidth\":0,\"ticks\":\"\"},\"colorscale\":[[0.0,\"#0d0887\"],[0.1111111111111111,\"#46039f\"],[0.2222222222222222,\"#7201a8\"],[0.3333333333333333,\"#9c179e\"],[0.4444444444444444,\"#bd3786\"],[0.5555555555555556,\"#d8576b\"],[0.6666666666666666,\"#ed7953\"],[0.7777777777777778,\"#fb9f3a\"],[0.8888888888888888,\"#fdca26\"],[1.0,\"#f0f921\"]],\"type\":\"contour\"}],\"heatmapgl\":[{\"colorbar\":{\"outlinewidth\":0,\"ticks\":\"\"},\"colorscale\":[[0.0,\"#0d0887\"],[0.1111111111111111,\"#46039f\"],[0.2222222222222222,\"#7201a8\"],[0.3333333333333333,\"#9c179e\"],[0.4444444444444444,\"#bd3786\"],[0.5555555555555556,\"#d8576b\"],[0.6666666666666666,\"#ed7953\"],[0.7777777777777778,\"#fb9f3a\"],[0.8888888888888888,\"#fdca26\"],[1.0,\"#f0f921\"]],\"type\":\"heatmapgl\"}],\"heatmap\":[{\"colorbar\":{\"outlinewidth\":0,\"ticks\":\"\"},\"colorscale\":[[0.0,\"#0d0887\"],[0.1111111111111111,\"#46039f\"],[0.2222222222222222,\"#7201a8\"],[0.3333333333333333,\"#9c179e\"],[0.4444444444444444,\"#bd3786\"],[0.5555555555555556,\"#d8576b\"],[0.6666666666666666,\"#ed7953\"],[0.7777777777777778,\"#fb9f3a\"],[0.8888888888888888,\"#fdca26\"],[1.0,\"#f0f921\"]],\"type\":\"heatmap\"}],\"histogram2dcontour\":[{\"colorbar\":{\"outlinewidth\":0,\"ticks\":\"\"},\"colorscale\":[[0.0,\"#0d0887\"],[0.1111111111111111,\"#46039f\"],[0.2222222222222222,\"#7201a8\"],[0.3333333333333333,\"#9c179e\"],[0.4444444444444444,\"#bd3786\"],[0.5555555555555556,\"#d8576b\"],[0.6666666666666666,\"#ed7953\"],[0.7777777777777778,\"#fb9f3a\"],[0.8888888888888888,\"#fdca26\"],[1.0,\"#f0f921\"]],\"type\":\"histogram2dcontour\"}],\"histogram2d\":[{\"colorbar\":{\"outlinewidth\":0,\"ticks\":\"\"},\"colorscale\":[[0.0,\"#0d0887\"],[0.1111111111111111,\"#46039f\"],[0.2222222222222222,\"#7201a8\"],[0.3333333333333333,\"#9c179e\"],[0.4444444444444444,\"#bd3786\"],[0.5555555555555556,\"#d8576b\"],[0.6666666666666666,\"#ed7953\"],[0.7777777777777778,\"#fb9f3a\"],[0.8888888888888888,\"#fdca26\"],[1.0,\"#f0f921\"]],\"type\":\"histogram2d\"}],\"histogram\":[{\"marker\":{\"pattern\":{\"fillmode\":\"overlay\",\"size\":10,\"solidity\":0.2}},\"type\":\"histogram\"}],\"mesh3d\":[{\"colorbar\":{\"outlinewidth\":0,\"ticks\":\"\"},\"type\":\"mesh3d\"}],\"parcoords\":[{\"line\":{\"colorbar\":{\"outlinewidth\":0,\"ticks\":\"\"}},\"type\":\"parcoords\"}],\"pie\":[{\"automargin\":true,\"type\":\"pie\"}],\"scatter3d\":[{\"line\":{\"colorbar\":{\"outlinewidth\":0,\"ticks\":\"\"}},\"marker\":{\"colorbar\":{\"outlinewidth\":0,\"ticks\":\"\"}},\"type\":\"scatter3d\"}],\"scattercarpet\":[{\"marker\":{\"colorbar\":{\"outlinewidth\":0,\"ticks\":\"\"}},\"type\":\"scattercarpet\"}],\"scattergeo\":[{\"marker\":{\"colorbar\":{\"outlinewidth\":0,\"ticks\":\"\"}},\"type\":\"scattergeo\"}],\"scattergl\":[{\"marker\":{\"colorbar\":{\"outlinewidth\":0,\"ticks\":\"\"}},\"type\":\"scattergl\"}],\"scattermapbox\":[{\"marker\":{\"colorbar\":{\"outlinewidth\":0,\"ticks\":\"\"}},\"type\":\"scattermapbox\"}],\"scatterpolargl\":[{\"marker\":{\"colorbar\":{\"outlinewidth\":0,\"ticks\":\"\"}},\"type\":\"scatterpolargl\"}],\"scatterpolar\":[{\"marker\":{\"colorbar\":{\"outlinewidth\":0,\"ticks\":\"\"}},\"type\":\"scatterpolar\"}],\"scatter\":[{\"fillpattern\":{\"fillmode\":\"overlay\",\"size\":10,\"solidity\":0.2},\"type\":\"scatter\"}],\"scatterternary\":[{\"marker\":{\"colorbar\":{\"outlinewidth\":0,\"ticks\":\"\"}},\"type\":\"scatterternary\"}],\"surface\":[{\"colorbar\":{\"outlinewidth\":0,\"ticks\":\"\"},\"colorscale\":[[0.0,\"#0d0887\"],[0.1111111111111111,\"#46039f\"],[0.2222222222222222,\"#7201a8\"],[0.3333333333333333,\"#9c179e\"],[0.4444444444444444,\"#bd3786\"],[0.5555555555555556,\"#d8576b\"],[0.6666666666666666,\"#ed7953\"],[0.7777777777777778,\"#fb9f3a\"],[0.8888888888888888,\"#fdca26\"],[1.0,\"#f0f921\"]],\"type\":\"surface\"}],\"table\":[{\"cells\":{\"fill\":{\"color\":\"#EBF0F8\"},\"line\":{\"color\":\"white\"}},\"header\":{\"fill\":{\"color\":\"#C8D4E3\"},\"line\":{\"color\":\"white\"}},\"type\":\"table\"}]},\"layout\":{\"annotationdefaults\":{\"arrowcolor\":\"#2a3f5f\",\"arrowhead\":0,\"arrowwidth\":1},\"autotypenumbers\":\"strict\",\"coloraxis\":{\"colorbar\":{\"outlinewidth\":0,\"ticks\":\"\"}},\"colorscale\":{\"diverging\":[[0,\"#8e0152\"],[0.1,\"#c51b7d\"],[0.2,\"#de77ae\"],[0.3,\"#f1b6da\"],[0.4,\"#fde0ef\"],[0.5,\"#f7f7f7\"],[0.6,\"#e6f5d0\"],[0.7,\"#b8e186\"],[0.8,\"#7fbc41\"],[0.9,\"#4d9221\"],[1,\"#276419\"]],\"sequential\":[[0.0,\"#0d0887\"],[0.1111111111111111,\"#46039f\"],[0.2222222222222222,\"#7201a8\"],[0.3333333333333333,\"#9c179e\"],[0.4444444444444444,\"#bd3786\"],[0.5555555555555556,\"#d8576b\"],[0.6666666666666666,\"#ed7953\"],[0.7777777777777778,\"#fb9f3a\"],[0.8888888888888888,\"#fdca26\"],[1.0,\"#f0f921\"]],\"sequentialminus\":[[0.0,\"#0d0887\"],[0.1111111111111111,\"#46039f\"],[0.2222222222222222,\"#7201a8\"],[0.3333333333333333,\"#9c179e\"],[0.4444444444444444,\"#bd3786\"],[0.5555555555555556,\"#d8576b\"],[0.6666666666666666,\"#ed7953\"],[0.7777777777777778,\"#fb9f3a\"],[0.8888888888888888,\"#fdca26\"],[1.0,\"#f0f921\"]]},\"colorway\":[\"#636efa\",\"#EF553B\",\"#00cc96\",\"#ab63fa\",\"#FFA15A\",\"#19d3f3\",\"#FF6692\",\"#B6E880\",\"#FF97FF\",\"#FECB52\"],\"font\":{\"color\":\"#2a3f5f\"},\"geo\":{\"bgcolor\":\"white\",\"lakecolor\":\"white\",\"landcolor\":\"#E5ECF6\",\"showlakes\":true,\"showland\":true,\"subunitcolor\":\"white\"},\"hoverlabel\":{\"align\":\"left\"},\"hovermode\":\"closest\",\"mapbox\":{\"style\":\"light\"},\"paper_bgcolor\":\"white\",\"plot_bgcolor\":\"#E5ECF6\",\"polar\":{\"angularaxis\":{\"gridcolor\":\"white\",\"linecolor\":\"white\",\"ticks\":\"\"},\"bgcolor\":\"#E5ECF6\",\"radialaxis\":{\"gridcolor\":\"white\",\"linecolor\":\"white\",\"ticks\":\"\"}},\"scene\":{\"xaxis\":{\"backgroundcolor\":\"#E5ECF6\",\"gridcolor\":\"white\",\"gridwidth\":2,\"linecolor\":\"white\",\"showbackground\":true,\"ticks\":\"\",\"zerolinecolor\":\"white\"},\"yaxis\":{\"backgroundcolor\":\"#E5ECF6\",\"gridcolor\":\"white\",\"gridwidth\":2,\"linecolor\":\"white\",\"showbackground\":true,\"ticks\":\"\",\"zerolinecolor\":\"white\"},\"zaxis\":{\"backgroundcolor\":\"#E5ECF6\",\"gridcolor\":\"white\",\"gridwidth\":2,\"linecolor\":\"white\",\"showbackground\":true,\"ticks\":\"\",\"zerolinecolor\":\"white\"}},\"shapedefaults\":{\"line\":{\"color\":\"#2a3f5f\"}},\"ternary\":{\"aaxis\":{\"gridcolor\":\"white\",\"linecolor\":\"white\",\"ticks\":\"\"},\"baxis\":{\"gridcolor\":\"white\",\"linecolor\":\"white\",\"ticks\":\"\"},\"bgcolor\":\"#E5ECF6\",\"caxis\":{\"gridcolor\":\"white\",\"linecolor\":\"white\",\"ticks\":\"\"}},\"title\":{\"x\":0.05},\"xaxis\":{\"automargin\":true,\"gridcolor\":\"white\",\"linecolor\":\"white\",\"ticks\":\"\",\"title\":{\"standoff\":15},\"zerolinecolor\":\"white\",\"zerolinewidth\":2},\"yaxis\":{\"automargin\":true,\"gridcolor\":\"white\",\"linecolor\":\"white\",\"ticks\":\"\",\"title\":{\"standoff\":15},\"zerolinecolor\":\"white\",\"zerolinewidth\":2}}},\"title\":{\"text\":\"GANTT Chart\"},\"xaxis\":{\"range\":[\"1970-01-01T00:34:05\",\"1970-01-01T17:05:17\"],\"title\":{\"font\":{\"color\":\"#7f7f7f\",\"family\":\"Courier New, monospace\",\"size\":18},\"text\":\"Time\"}},\"yaxis\":{\"title\":{\"font\":{\"color\":\"#7f7f7f\",\"family\":\"Courier New, monospace\",\"size\":18},\"text\":\"Activities\"}}},                        {\"responsive\": true}                    ).then(function(){\n",
       "                            \n",
       "var gd = document.getElementById('cbe62b85-15b7-4b58-9e08-9d9886cc9a1c');\n",
       "var x = new MutationObserver(function (mutations, observer) {{\n",
       "        var display = window.getComputedStyle(gd).display;\n",
       "        if (!display || display === 'none') {{\n",
       "            console.log([gd, 'removed!']);\n",
       "            Plotly.purge(gd);\n",
       "            observer.disconnect();\n",
       "        }}\n",
       "}});\n",
       "\n",
       "// Listen for the removal of the full notebook cells\n",
       "var notebookContainer = gd.closest('#notebook-container');\n",
       "if (notebookContainer) {{\n",
       "    x.observe(notebookContainer, {childList: true});\n",
       "}}\n",
       "\n",
       "// Listen for the clearing of the current output cell\n",
       "var outputEl = gd.closest('.output');\n",
       "if (outputEl) {{\n",
       "    x.observe(outputEl, {childList: true});\n",
       "}}\n",
       "\n",
       "                        })                };                });            </script>        </div>"
      ]
     },
     "metadata": {},
     "output_type": "display_data"
    }
   ],
   "source": [
    "flat = pd.DataFrame(flatten(activities))\n",
    "loading = list(flat[flat['ActivityName'].str.startswith('loading')]['activity'].values)\n",
    "fig = get_gantt_chart(loading)"
   ]
  },
  {
   "cell_type": "code",
   "execution_count": null,
   "id": "e3d5674d",
   "metadata": {},
   "outputs": [],
   "source": []
  },
  {
   "cell_type": "code",
   "execution_count": null,
   "id": "815122f7",
   "metadata": {},
   "outputs": [],
   "source": []
  }
 ],
 "metadata": {
  "kernelspec": {
   "display_name": "Python 3 (ipykernel)",
   "language": "python",
   "name": "python3"
  },
  "language_info": {
   "codemirror_mode": {
    "name": "ipython",
    "version": 3
   },
   "file_extension": ".py",
   "mimetype": "text/x-python",
   "name": "python",
   "nbconvert_exporter": "python",
   "pygments_lexer": "ipython3",
   "version": "3.9.16"
  }
 },
 "nbformat": 4,
 "nbformat_minor": 5
}
