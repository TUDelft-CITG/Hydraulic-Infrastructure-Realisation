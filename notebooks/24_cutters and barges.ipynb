{
 "cells": [
  {
   "cell_type": "markdown",
   "id": "384a3d39",
   "metadata": {},
   "source": [
    "## feeder concept: cutter + barges\n",
    "\n",
    "This notebook shows how to implement a basic feeder concept for a cutter suction dredge working with multiple barges."
   ]
  },
  {
   "cell_type": "code",
   "execution_count": 1,
   "id": "b6580ad4",
   "metadata": {},
   "outputs": [],
   "source": [
    "import datetime, time\n",
    "import simpy\n",
    "\n",
    "import shapely.geometry\n",
    "import pandas as pd\n",
    "\n",
    "import openclsim.core as core\n",
    "import openclsim.model as model\n",
    "from openclsim.utils import flatten\n",
    "from openclsim.plot import get_step_chart, get_gantt_chart\n",
    "import numpy as np"
   ]
  },
  {
   "cell_type": "code",
   "execution_count": 2,
   "id": "5d93d662",
   "metadata": {},
   "outputs": [],
   "source": [
    "cutter_name    = 'Cutter T'\n",
    "barge_names    = ['Carrier A','Carrier B','Carrier C',\n",
    "                  'Barge I','Barge II','Barge III',\n",
    "                  'Extra 1', 'Extra 2', 'Extra 3']\n",
    "vessel_cost     = {'Carrier A':6000,'Carrier B':6000,'Carrier C':6000,\n",
    "                  'Barge I':5000,'Barge II':5000,'Barge III':5000,\n",
    "                  'Extra 1':4000, 'Extra 2':4000, 'Extra 3':4000,\n",
    "                  'Cutter T':25000} # EUR/day\n",
    "# vessel_amount and vessel_durations are random within a range,\n",
    "# to mimic respectively material density variations\n",
    "# and metocean workability conditions and traffic density.\n",
    "\n",
    "amount_range = [4,6]\n",
    "duration_range = [2000,3000]\n",
    "\n",
    "from_site_name = 'Trench'\n",
    "to_site_name   = 'Reclamation'"
   ]
  },
  {
   "cell_type": "code",
   "execution_count": 3,
   "id": "102a1c18",
   "metadata": {},
   "outputs": [],
   "source": [
    "Site = type(\n",
    "    \"Site\",\n",
    "    (\n",
    "        core.Identifiable,\n",
    "        core.Log,\n",
    "        core.Locatable,\n",
    "        core.HasContainer,\n",
    "        core.HasResource,\n",
    "    ),\n",
    "    {},\n",
    ")\n",
    "TransportProcessingResource = type(\n",
    "    \"TransportProcessingResource\",\n",
    "    (\n",
    "        core.Identifiable,\n",
    "        core.Log,\n",
    "        core.ContainerDependentMovable,\n",
    "        core.Processor,\n",
    "        core.HasResource,\n",
    "    ),\n",
    "    {},\n",
    ")"
   ]
  },
  {
   "cell_type": "code",
   "execution_count": 4,
   "id": "cef14598",
   "metadata": {},
   "outputs": [],
   "source": [
    "def run(NR_BARGES, total_amount):\n",
    "    simulation_start = 0\n",
    "    my_env = simpy.Environment(initial_time=simulation_start)\n",
    "    registry = {}\n",
    "\n",
    "    location_from_site = shapely.geometry.Point(4.18055556, 52.18664444)\n",
    "    location_to_site = shapely.geometry.Point(4.25222222, 52.11428333)\n",
    "\n",
    "    data_from_site = {\"env\": my_env,\n",
    "                      \"name\": from_site_name,\n",
    "                      \"geometry\": location_from_site,\n",
    "                      \"capacity\": total_amount,\n",
    "                      \"level\": total_amount,\n",
    "                      \"nr_resources\":1\n",
    "                     }\n",
    "    from_site = Site(**data_from_site)\n",
    "\n",
    "    location_to_site = shapely.geometry.Point(4.25222222, 52.11428333)\n",
    "    data_to_site = {\"env\": my_env,\n",
    "                    \"name\": to_site_name,\n",
    "                    \"geometry\": location_to_site,\n",
    "                    \"capacity\": total_amount,\n",
    "                    \"level\": 0,\n",
    "                    \"nr_resources\":4\n",
    "                   }\n",
    "    to_site = Site(**data_to_site)\n",
    "\n",
    "    vessels = {}\n",
    "\n",
    "    for i in range(NR_BARGES):\n",
    "        vessel_name = barge_names[i]\n",
    "        vessels[vessel_name] = TransportProcessingResource(\n",
    "            env=my_env,\n",
    "            name=vessel_name,\n",
    "            geometry=location_from_site, \n",
    "            capacity=10,\n",
    "            compute_v=lambda x: 10\n",
    "        )\n",
    "    cutter = TransportProcessingResource(\n",
    "        env=my_env,\n",
    "        name=cutter_name,\n",
    "        geometry=location_from_site, \n",
    "        capacity=10,\n",
    "        compute_v=lambda x: 10\n",
    "    )\n",
    "    vessels[cutter_name] = cutter\n",
    "    \n",
    "\n",
    "    activities = {}\n",
    "    for i in range(NR_BARGES):\n",
    "        vessel_name = barge_names[i]\n",
    "        amount = np.random.randint(amount_range[0], amount_range[1]) # handle loading\n",
    "        duration=np.random.randint(duration_range[0], duration_range[1]) # sailing and unloading\n",
    "\n",
    "        requested_resources={}\n",
    "        activities[f\"activity{i}\"] = model.WhileActivity(\n",
    "            env=my_env,\n",
    "            name=f\"while_sequential_activity_subcycle {vessel_name}\",\n",
    "            registry=registry,\n",
    "            sub_processes=[model.SequentialActivity(\n",
    "                env=my_env,\n",
    "                name=f\"sequential_activity_subcycle {vessel_name}\",\n",
    "                registry=registry,\n",
    "                sub_processes=[\n",
    "                    model.BasicActivity(\n",
    "                        env=my_env,\n",
    "                        name=f\"basic activity:\"+vessels[vessel_name].name,\n",
    "                        registry=registry,\n",
    "                        duration=duration,\n",
    "                        additional_logs=[vessels[vessel_name]],\n",
    "                    ),\n",
    "                    model.MoveActivity(\n",
    "                        env=my_env,\n",
    "                        name=f\"sailing empty:\"+vessels[vessel_name].name,\n",
    "                        registry=registry,\n",
    "                        mover=vessels[vessel_name],\n",
    "                        destination=from_site,\n",
    "                        duration=duration,\n",
    "                    ),\n",
    "                    model.ShiftAmountActivity(\n",
    "                        env=my_env,\n",
    "                        name=f\"loading:\"+vessels[vessel_name].name,\n",
    "                        registry=registry,\n",
    "                        processor=cutter,\n",
    "                        origin=from_site,\n",
    "                        destination=vessels[vessel_name],\n",
    "                        amount=amount,\n",
    "                        duration=500*amount,\n",
    "                        requested_resources=requested_resources,\n",
    "                    ),\n",
    "                    model.MoveActivity(\n",
    "                        env=my_env,\n",
    "                        name=f\"sailing full:\"+vessels[vessel_name].name,\n",
    "                        registry=registry,\n",
    "                        mover=vessels[vessel_name],\n",
    "                        destination=to_site,\n",
    "                        duration=duration,\n",
    "                    ),\n",
    "                    model.ShiftAmountActivity(\n",
    "                        env=my_env,\n",
    "                        name=f\"unloading:\"+vessels[vessel_name].name,\n",
    "                        registry=registry,\n",
    "                        processor=vessels[vessel_name],\n",
    "                        origin=vessels[vessel_name],\n",
    "                        destination=to_site,\n",
    "                        amount=amount,\n",
    "                        duration=duration,\n",
    "                        requested_resources=requested_resources,\n",
    "                    ),\n",
    "                ],\n",
    "            )],\n",
    "            condition_event=[\n",
    "                {\n",
    "                    \"type\": \"container\", \n",
    "                    \"concept\": to_site, \n",
    "                    \"state\": \"full\",\n",
    "                    \"id_\":\"default_reservations\"\n",
    "                }\n",
    "            ],\n",
    "        )\n",
    "\n",
    "    model.register_processes(list(activities.values()))\n",
    "    my_env.run()\n",
    "    \n",
    "    return {\n",
    "        \"vessels\": vessels,\n",
    "        \"activities\":activities,\n",
    "        from_site_name:from_site,\n",
    "        to_site_name:to_site,\n",
    "    }\n"
   ]
  },
  {
   "cell_type": "markdown",
   "id": "a81e634c",
   "metadata": {},
   "source": [
    "# Example plots with 3 barges"
   ]
  },
  {
   "cell_type": "code",
   "execution_count": 5,
   "id": "9aa8b351",
   "metadata": {},
   "outputs": [
    {
     "name": "stdout",
     "output_type": "stream",
     "text": [
      "CPU times: user 76.6 ms, sys: 13.2 ms, total: 89.8 ms\n",
      "Wall time: 100 ms\n"
     ]
    }
   ],
   "source": [
    "%%time\n",
    "nbarges = len(barge_names)\n",
    "assert len(set(barge_names))==len(barge_names), 'barge_names need to be unique'\n",
    "total_amount = 100\n",
    "res = run(3,total_amount)\n",
    "vessels = res['vessels']\n",
    "activities = res['activities']\n",
    "cutter = vessels[cutter_name]\n",
    "to_site = res[to_site_name]\n",
    "from_site = res[from_site_name]"
   ]
  },
  {
   "cell_type": "code",
   "execution_count": 6,
   "id": "8f993fc6",
   "metadata": {},
   "outputs": [
    {
     "data": {
      "text/html": [
       "        <script type=\"text/javascript\">\n",
       "        window.PlotlyConfig = {MathJaxConfig: 'local'};\n",
       "        if (window.MathJax && window.MathJax.Hub && window.MathJax.Hub.Config) {window.MathJax.Hub.Config({SVG: {font: \"STIX-Web\"}});}\n",
       "        if (typeof require !== 'undefined') {\n",
       "        require.undef(\"plotly\");\n",
       "        requirejs.config({\n",
       "            paths: {\n",
       "                'plotly': ['https://cdn.plot.ly/plotly-2.18.2.min']\n",
       "            }\n",
       "        });\n",
       "        require(['plotly'], function(Plotly) {\n",
       "            window._Plotly = Plotly;\n",
       "        });\n",
       "        }\n",
       "        </script>\n",
       "        "
      ]
     },
     "metadata": {},
     "output_type": "display_data"
    },
    {
     "data": {
      "application/vnd.plotly.v1+json": {
       "config": {
        "linkText": "Export to plot.ly",
        "plotlyServerURL": "https://plot.ly",
        "showLink": false
       },
       "data": [
        {
         "connectgaps": false,
         "hoverinfo": "y+name",
         "line": {
          "color": "rgb(42,200,180)",
          "width": 10
         },
         "mode": "lines",
         "name": "unloading:Carrier A",
         "type": "scatter",
         "x": [
          "1970-01-01T03:45:43",
          "1970-01-01T03:45:43",
          "1970-01-01T04:31:00",
          "1970-01-01T04:31:00",
          "1970-01-01T04:31:00",
          "1970-01-01T07:26:03",
          "1970-01-01T07:26:03",
          "1970-01-01T08:11:20",
          "1970-01-01T08:11:20",
          "1970-01-01T08:11:20",
          "1970-01-01T11:06:23",
          "1970-01-01T11:06:23",
          "1970-01-01T11:51:40",
          "1970-01-01T11:51:40",
          "1970-01-01T11:51:40",
          "1970-01-01T15:20:03",
          "1970-01-01T15:20:03",
          "1970-01-01T16:05:20",
          "1970-01-01T16:05:20",
          "1970-01-01T16:05:20",
          "1970-01-01T18:59:15",
          "1970-01-01T18:59:15",
          "1970-01-01T19:44:32",
          "1970-01-01T19:44:32",
          "1970-01-01T19:44:32",
          "1970-01-01T22:39:35",
          "1970-01-01T22:39:35",
          "1970-01-01T23:24:52",
          "1970-01-01T23:24:52",
          "1970-01-01T23:24:52",
          "1970-01-02T02:19:55",
          "1970-01-02T02:19:55",
          "1970-01-02T03:05:12",
          "1970-01-02T03:05:12",
          "1970-01-02T03:05:12"
         ],
         "y": [
          "Carrier A",
          "Carrier A",
          "Carrier A",
          "Carrier A",
          null,
          "Carrier A",
          "Carrier A",
          "Carrier A",
          "Carrier A",
          null,
          "Carrier A",
          "Carrier A",
          "Carrier A",
          "Carrier A",
          null,
          "Carrier A",
          "Carrier A",
          "Carrier A",
          "Carrier A",
          null,
          "Carrier A",
          "Carrier A",
          "Carrier A",
          "Carrier A",
          null,
          "Carrier A",
          "Carrier A",
          "Carrier A",
          "Carrier A",
          null,
          "Carrier A",
          "Carrier A",
          "Carrier A",
          "Carrier A",
          null
         ]
        },
        {
         "connectgaps": false,
         "hoverinfo": "y+name",
         "line": {
          "color": "rgb(56,214,194)",
          "width": 10
         },
         "mode": "lines",
         "name": "basic activity:Carrier A",
         "type": "scatter",
         "x": [
          "1970-01-01T00:00:00",
          "1970-01-01T00:00:00",
          "1970-01-01T00:45:17",
          "1970-01-01T00:45:17",
          "1970-01-01T00:45:17",
          "1970-01-01T04:31:00",
          "1970-01-01T04:31:00",
          "1970-01-01T05:16:17",
          "1970-01-01T05:16:17",
          "1970-01-01T05:16:17",
          "1970-01-01T08:11:20",
          "1970-01-01T08:11:20",
          "1970-01-01T08:56:37",
          "1970-01-01T08:56:37",
          "1970-01-01T08:56:37",
          "1970-01-01T11:51:40",
          "1970-01-01T11:51:40",
          "1970-01-01T12:36:57",
          "1970-01-01T12:36:57",
          "1970-01-01T12:36:57",
          "1970-01-01T16:05:20",
          "1970-01-01T16:05:20",
          "1970-01-01T16:50:37",
          "1970-01-01T16:50:37",
          "1970-01-01T16:50:37",
          "1970-01-01T19:44:32",
          "1970-01-01T19:44:32",
          "1970-01-01T20:29:49",
          "1970-01-01T20:29:49",
          "1970-01-01T20:29:49",
          "1970-01-01T23:24:52",
          "1970-01-01T23:24:52",
          "1970-01-02T00:10:09",
          "1970-01-02T00:10:09",
          "1970-01-02T00:10:09"
         ],
         "y": [
          "Carrier A",
          "Carrier A",
          "Carrier A",
          "Carrier A",
          null,
          "Carrier A",
          "Carrier A",
          "Carrier A",
          "Carrier A",
          null,
          "Carrier A",
          "Carrier A",
          "Carrier A",
          "Carrier A",
          null,
          "Carrier A",
          "Carrier A",
          "Carrier A",
          "Carrier A",
          null,
          "Carrier A",
          "Carrier A",
          "Carrier A",
          "Carrier A",
          null,
          "Carrier A",
          "Carrier A",
          "Carrier A",
          "Carrier A",
          null,
          "Carrier A",
          "Carrier A",
          "Carrier A",
          "Carrier A",
          null
         ]
        },
        {
         "connectgaps": false,
         "hoverinfo": "y+name",
         "line": {
          "color": "rgb(70,228,208)",
          "width": 10
         },
         "mode": "lines",
         "name": "loading:Carrier A",
         "type": "scatter",
         "x": [
          "1970-01-01T02:27:06",
          "1970-01-01T02:27:06",
          "1970-01-01T03:00:26",
          "1970-01-01T03:00:26",
          "1970-01-01T03:00:26",
          "1970-01-01T06:07:26",
          "1970-01-01T06:07:26",
          "1970-01-01T06:40:46",
          "1970-01-01T06:40:46",
          "1970-01-01T06:40:46",
          "1970-01-01T09:47:46",
          "1970-01-01T09:47:46",
          "1970-01-01T10:21:06",
          "1970-01-01T10:21:06",
          "1970-01-01T10:21:06",
          "1970-01-01T14:01:26",
          "1970-01-01T14:01:26",
          "1970-01-01T14:34:46",
          "1970-01-01T14:34:46",
          "1970-01-01T14:34:46",
          "1970-01-01T17:40:38",
          "1970-01-01T17:40:38",
          "1970-01-01T18:13:58",
          "1970-01-01T18:13:58",
          "1970-01-01T18:13:58",
          "1970-01-01T21:20:58",
          "1970-01-01T21:20:58",
          "1970-01-01T21:54:18",
          "1970-01-01T21:54:18",
          "1970-01-01T21:54:18",
          "1970-01-02T01:01:18",
          "1970-01-02T01:01:18",
          "1970-01-02T01:34:38",
          "1970-01-02T01:34:38",
          "1970-01-02T01:34:38",
          "1970-01-01T02:27:06",
          "1970-01-01T02:27:06",
          "1970-01-01T03:00:26",
          "1970-01-01T03:00:26",
          "1970-01-01T03:00:26",
          "1970-01-01T06:07:26",
          "1970-01-01T06:07:26",
          "1970-01-01T06:40:46",
          "1970-01-01T06:40:46",
          "1970-01-01T06:40:46",
          "1970-01-01T09:47:46",
          "1970-01-01T09:47:46",
          "1970-01-01T10:21:06",
          "1970-01-01T10:21:06",
          "1970-01-01T10:21:06",
          "1970-01-01T14:01:26",
          "1970-01-01T14:01:26",
          "1970-01-01T14:34:46",
          "1970-01-01T14:34:46",
          "1970-01-01T14:34:46",
          "1970-01-01T17:40:38",
          "1970-01-01T17:40:38",
          "1970-01-01T18:13:58",
          "1970-01-01T18:13:58",
          "1970-01-01T18:13:58",
          "1970-01-01T21:20:58",
          "1970-01-01T21:20:58",
          "1970-01-01T21:54:18",
          "1970-01-01T21:54:18",
          "1970-01-01T21:54:18",
          "1970-01-02T01:01:18",
          "1970-01-02T01:01:18",
          "1970-01-02T01:34:38",
          "1970-01-02T01:34:38",
          "1970-01-02T01:34:38"
         ],
         "y": [
          "Carrier A",
          "Carrier A",
          "Carrier A",
          "Carrier A",
          null,
          "Carrier A",
          "Carrier A",
          "Carrier A",
          "Carrier A",
          null,
          "Carrier A",
          "Carrier A",
          "Carrier A",
          "Carrier A",
          null,
          "Carrier A",
          "Carrier A",
          "Carrier A",
          "Carrier A",
          null,
          "Carrier A",
          "Carrier A",
          "Carrier A",
          "Carrier A",
          null,
          "Carrier A",
          "Carrier A",
          "Carrier A",
          "Carrier A",
          null,
          "Carrier A",
          "Carrier A",
          "Carrier A",
          "Carrier A",
          null,
          "Cutter T",
          "Cutter T",
          "Cutter T",
          "Cutter T",
          null,
          "Cutter T",
          "Cutter T",
          "Cutter T",
          "Cutter T",
          null,
          "Cutter T",
          "Cutter T",
          "Cutter T",
          "Cutter T",
          null,
          "Cutter T",
          "Cutter T",
          "Cutter T",
          "Cutter T",
          null,
          "Cutter T",
          "Cutter T",
          "Cutter T",
          "Cutter T",
          null,
          "Cutter T",
          "Cutter T",
          "Cutter T",
          "Cutter T",
          null,
          "Cutter T",
          "Cutter T",
          "Cutter T",
          "Cutter T",
          null
         ]
        },
        {
         "connectgaps": false,
         "hoverinfo": "y+name",
         "line": {
          "color": "rgb(84,242,222)",
          "width": 10
         },
         "mode": "lines",
         "name": "sailing full:Carrier A",
         "type": "scatter",
         "x": [
          "1970-01-01T03:00:26",
          "1970-01-01T03:00:26",
          "1970-01-01T03:45:43",
          "1970-01-01T03:45:43",
          "1970-01-01T03:45:43",
          "1970-01-01T06:40:46",
          "1970-01-01T06:40:46",
          "1970-01-01T07:26:03",
          "1970-01-01T07:26:03",
          "1970-01-01T07:26:03",
          "1970-01-01T10:21:06",
          "1970-01-01T10:21:06",
          "1970-01-01T11:06:23",
          "1970-01-01T11:06:23",
          "1970-01-01T11:06:23",
          "1970-01-01T14:34:46",
          "1970-01-01T14:34:46",
          "1970-01-01T15:20:03",
          "1970-01-01T15:20:03",
          "1970-01-01T15:20:03",
          "1970-01-01T18:13:58",
          "1970-01-01T18:13:58",
          "1970-01-01T18:59:15",
          "1970-01-01T18:59:15",
          "1970-01-01T18:59:15",
          "1970-01-01T21:54:18",
          "1970-01-01T21:54:18",
          "1970-01-01T22:39:35",
          "1970-01-01T22:39:35",
          "1970-01-01T22:39:35",
          "1970-01-02T01:34:38",
          "1970-01-02T01:34:38",
          "1970-01-02T02:19:55",
          "1970-01-02T02:19:55",
          "1970-01-02T02:19:55"
         ],
         "y": [
          "Carrier A",
          "Carrier A",
          "Carrier A",
          "Carrier A",
          null,
          "Carrier A",
          "Carrier A",
          "Carrier A",
          "Carrier A",
          null,
          "Carrier A",
          "Carrier A",
          "Carrier A",
          "Carrier A",
          null,
          "Carrier A",
          "Carrier A",
          "Carrier A",
          "Carrier A",
          null,
          "Carrier A",
          "Carrier A",
          "Carrier A",
          "Carrier A",
          null,
          "Carrier A",
          "Carrier A",
          "Carrier A",
          "Carrier A",
          null,
          "Carrier A",
          "Carrier A",
          "Carrier A",
          "Carrier A",
          null
         ]
        },
        {
         "connectgaps": false,
         "hoverinfo": "y+name",
         "line": {
          "color": "rgb(98,0,236)",
          "width": 10
         },
         "mode": "lines",
         "name": "sailing empty:Carrier A",
         "type": "scatter",
         "x": [
          "1970-01-01T00:45:17",
          "1970-01-01T00:45:17",
          "1970-01-01T01:30:34",
          "1970-01-01T01:30:34",
          "1970-01-01T01:30:34",
          "1970-01-01T05:16:17",
          "1970-01-01T05:16:17",
          "1970-01-01T06:01:34",
          "1970-01-01T06:01:34",
          "1970-01-01T06:01:34",
          "1970-01-01T08:56:37",
          "1970-01-01T08:56:37",
          "1970-01-01T09:41:54",
          "1970-01-01T09:41:54",
          "1970-01-01T09:41:54",
          "1970-01-01T12:36:57",
          "1970-01-01T12:36:57",
          "1970-01-01T13:22:14",
          "1970-01-01T13:22:14",
          "1970-01-01T13:22:14",
          "1970-01-01T16:50:37",
          "1970-01-01T16:50:37",
          "1970-01-01T17:35:54",
          "1970-01-01T17:35:54",
          "1970-01-01T17:35:54",
          "1970-01-01T20:29:49",
          "1970-01-01T20:29:49",
          "1970-01-01T21:15:06",
          "1970-01-01T21:15:06",
          "1970-01-01T21:15:06",
          "1970-01-02T00:10:09",
          "1970-01-02T00:10:09",
          "1970-01-02T00:55:26",
          "1970-01-02T00:55:26",
          "1970-01-02T00:55:26"
         ],
         "y": [
          "Carrier A",
          "Carrier A",
          "Carrier A",
          "Carrier A",
          null,
          "Carrier A",
          "Carrier A",
          "Carrier A",
          "Carrier A",
          null,
          "Carrier A",
          "Carrier A",
          "Carrier A",
          "Carrier A",
          null,
          "Carrier A",
          "Carrier A",
          "Carrier A",
          "Carrier A",
          null,
          "Carrier A",
          "Carrier A",
          "Carrier A",
          "Carrier A",
          null,
          "Carrier A",
          "Carrier A",
          "Carrier A",
          "Carrier A",
          null,
          "Carrier A",
          "Carrier A",
          "Carrier A",
          "Carrier A",
          null
         ]
        },
        {
         "connectgaps": false,
         "hoverinfo": "y+name",
         "line": {
          "color": "rgb(112,14,250)",
          "width": 10
         },
         "mode": "lines",
         "name": "loading:Carrier B",
         "type": "scatter",
         "x": [
          "1970-01-01T01:45:26",
          "1970-01-01T01:45:26",
          "1970-01-01T02:27:06",
          "1970-01-01T02:27:06",
          "1970-01-01T02:27:06",
          "1970-01-01T05:25:46",
          "1970-01-01T05:25:46",
          "1970-01-01T06:07:26",
          "1970-01-01T06:07:26",
          "1970-01-01T06:07:26",
          "1970-01-01T09:06:06",
          "1970-01-01T09:06:06",
          "1970-01-01T09:47:46",
          "1970-01-01T09:47:46",
          "1970-01-01T09:47:46",
          "1970-01-01T12:46:26",
          "1970-01-01T12:46:26",
          "1970-01-01T13:28:06",
          "1970-01-01T13:28:06",
          "1970-01-01T13:28:06",
          "1970-01-01T16:58:58",
          "1970-01-01T16:58:58",
          "1970-01-01T17:40:38",
          "1970-01-01T17:40:38",
          "1970-01-01T17:40:38",
          "1970-01-01T20:39:18",
          "1970-01-01T20:39:18",
          "1970-01-01T21:20:58",
          "1970-01-01T21:20:58",
          "1970-01-01T21:20:58",
          "1970-01-02T00:19:38",
          "1970-01-02T00:19:38",
          "1970-01-02T01:01:18",
          "1970-01-02T01:01:18",
          "1970-01-02T01:01:18",
          "1970-01-02T03:59:58",
          "1970-01-02T03:59:58",
          "1970-01-02T04:41:38",
          "1970-01-02T04:41:38",
          "1970-01-02T04:41:38",
          "1970-01-01T01:45:26",
          "1970-01-01T01:45:26",
          "1970-01-01T02:27:06",
          "1970-01-01T02:27:06",
          "1970-01-01T02:27:06",
          "1970-01-01T05:25:46",
          "1970-01-01T05:25:46",
          "1970-01-01T06:07:26",
          "1970-01-01T06:07:26",
          "1970-01-01T06:07:26",
          "1970-01-01T09:06:06",
          "1970-01-01T09:06:06",
          "1970-01-01T09:47:46",
          "1970-01-01T09:47:46",
          "1970-01-01T09:47:46",
          "1970-01-01T12:46:26",
          "1970-01-01T12:46:26",
          "1970-01-01T13:28:06",
          "1970-01-01T13:28:06",
          "1970-01-01T13:28:06",
          "1970-01-01T16:58:58",
          "1970-01-01T16:58:58",
          "1970-01-01T17:40:38",
          "1970-01-01T17:40:38",
          "1970-01-01T17:40:38",
          "1970-01-01T20:39:18",
          "1970-01-01T20:39:18",
          "1970-01-01T21:20:58",
          "1970-01-01T21:20:58",
          "1970-01-01T21:20:58",
          "1970-01-02T00:19:38",
          "1970-01-02T00:19:38",
          "1970-01-02T01:01:18",
          "1970-01-02T01:01:18",
          "1970-01-02T01:01:18",
          "1970-01-02T03:59:58",
          "1970-01-02T03:59:58",
          "1970-01-02T04:41:38",
          "1970-01-02T04:41:38",
          "1970-01-02T04:41:38"
         ],
         "y": [
          "Carrier B",
          "Carrier B",
          "Carrier B",
          "Carrier B",
          null,
          "Carrier B",
          "Carrier B",
          "Carrier B",
          "Carrier B",
          null,
          "Carrier B",
          "Carrier B",
          "Carrier B",
          "Carrier B",
          null,
          "Carrier B",
          "Carrier B",
          "Carrier B",
          "Carrier B",
          null,
          "Carrier B",
          "Carrier B",
          "Carrier B",
          "Carrier B",
          null,
          "Carrier B",
          "Carrier B",
          "Carrier B",
          "Carrier B",
          null,
          "Carrier B",
          "Carrier B",
          "Carrier B",
          "Carrier B",
          null,
          "Carrier B",
          "Carrier B",
          "Carrier B",
          "Carrier B",
          null,
          "Cutter T",
          "Cutter T",
          "Cutter T",
          "Cutter T",
          null,
          "Cutter T",
          "Cutter T",
          "Cutter T",
          "Cutter T",
          null,
          "Cutter T",
          "Cutter T",
          "Cutter T",
          "Cutter T",
          null,
          "Cutter T",
          "Cutter T",
          "Cutter T",
          "Cutter T",
          null,
          "Cutter T",
          "Cutter T",
          "Cutter T",
          "Cutter T",
          null,
          "Cutter T",
          "Cutter T",
          "Cutter T",
          "Cutter T",
          null,
          "Cutter T",
          "Cutter T",
          "Cutter T",
          "Cutter T",
          null,
          "Cutter T",
          "Cutter T",
          "Cutter T",
          "Cutter T",
          null
         ]
        },
        {
         "connectgaps": false,
         "hoverinfo": "y+name",
         "line": {
          "color": "rgb(126,28,8)",
          "width": 10
         },
         "mode": "lines",
         "name": "unloading:Carrier B",
         "type": "scatter",
         "x": [
          "1970-01-01T03:11:46",
          "1970-01-01T03:11:46",
          "1970-01-01T03:56:26",
          "1970-01-01T03:56:26",
          "1970-01-01T03:56:26",
          "1970-01-01T06:52:06",
          "1970-01-01T06:52:06",
          "1970-01-01T07:36:46",
          "1970-01-01T07:36:46",
          "1970-01-01T07:36:46",
          "1970-01-01T10:32:26",
          "1970-01-01T10:32:26",
          "1970-01-01T11:17:06",
          "1970-01-01T11:17:06",
          "1970-01-01T11:17:06",
          "1970-01-01T14:12:46",
          "1970-01-01T14:12:46",
          "1970-01-01T14:57:26",
          "1970-01-01T14:57:26",
          "1970-01-01T14:57:26",
          "1970-01-01T18:25:18",
          "1970-01-01T18:25:18",
          "1970-01-01T19:09:58",
          "1970-01-01T19:09:58",
          "1970-01-01T19:09:58",
          "1970-01-01T22:05:38",
          "1970-01-01T22:05:38",
          "1970-01-01T22:50:18",
          "1970-01-01T22:50:18",
          "1970-01-01T22:50:18",
          "1970-01-02T01:45:58",
          "1970-01-02T01:45:58",
          "1970-01-02T02:30:38",
          "1970-01-02T02:30:38",
          "1970-01-02T02:30:38",
          "1970-01-02T05:26:18",
          "1970-01-02T05:26:18",
          "1970-01-02T06:10:58",
          "1970-01-02T06:10:58",
          "1970-01-02T06:10:58"
         ],
         "y": [
          "Carrier B",
          "Carrier B",
          "Carrier B",
          "Carrier B",
          null,
          "Carrier B",
          "Carrier B",
          "Carrier B",
          "Carrier B",
          null,
          "Carrier B",
          "Carrier B",
          "Carrier B",
          "Carrier B",
          null,
          "Carrier B",
          "Carrier B",
          "Carrier B",
          "Carrier B",
          null,
          "Carrier B",
          "Carrier B",
          "Carrier B",
          "Carrier B",
          null,
          "Carrier B",
          "Carrier B",
          "Carrier B",
          "Carrier B",
          null,
          "Carrier B",
          "Carrier B",
          "Carrier B",
          "Carrier B",
          null,
          "Carrier B",
          "Carrier B",
          "Carrier B",
          "Carrier B",
          null
         ]
        },
        {
         "connectgaps": false,
         "hoverinfo": "y+name",
         "line": {
          "color": "rgb(140,42,22)",
          "width": 10
         },
         "mode": "lines",
         "name": "sailing full:Carrier B",
         "type": "scatter",
         "x": [
          "1970-01-01T02:27:06",
          "1970-01-01T02:27:06",
          "1970-01-01T03:11:46",
          "1970-01-01T03:11:46",
          "1970-01-01T03:11:46",
          "1970-01-01T06:07:26",
          "1970-01-01T06:07:26",
          "1970-01-01T06:52:06",
          "1970-01-01T06:52:06",
          "1970-01-01T06:52:06",
          "1970-01-01T09:47:46",
          "1970-01-01T09:47:46",
          "1970-01-01T10:32:26",
          "1970-01-01T10:32:26",
          "1970-01-01T10:32:26",
          "1970-01-01T13:28:06",
          "1970-01-01T13:28:06",
          "1970-01-01T14:12:46",
          "1970-01-01T14:12:46",
          "1970-01-01T14:12:46",
          "1970-01-01T17:40:38",
          "1970-01-01T17:40:38",
          "1970-01-01T18:25:18",
          "1970-01-01T18:25:18",
          "1970-01-01T18:25:18",
          "1970-01-01T21:20:58",
          "1970-01-01T21:20:58",
          "1970-01-01T22:05:38",
          "1970-01-01T22:05:38",
          "1970-01-01T22:05:38",
          "1970-01-02T01:01:18",
          "1970-01-02T01:01:18",
          "1970-01-02T01:45:58",
          "1970-01-02T01:45:58",
          "1970-01-02T01:45:58",
          "1970-01-02T04:41:38",
          "1970-01-02T04:41:38",
          "1970-01-02T05:26:18",
          "1970-01-02T05:26:18",
          "1970-01-02T05:26:18"
         ],
         "y": [
          "Carrier B",
          "Carrier B",
          "Carrier B",
          "Carrier B",
          null,
          "Carrier B",
          "Carrier B",
          "Carrier B",
          "Carrier B",
          null,
          "Carrier B",
          "Carrier B",
          "Carrier B",
          "Carrier B",
          null,
          "Carrier B",
          "Carrier B",
          "Carrier B",
          "Carrier B",
          null,
          "Carrier B",
          "Carrier B",
          "Carrier B",
          "Carrier B",
          null,
          "Carrier B",
          "Carrier B",
          "Carrier B",
          "Carrier B",
          null,
          "Carrier B",
          "Carrier B",
          "Carrier B",
          "Carrier B",
          null,
          "Carrier B",
          "Carrier B",
          "Carrier B",
          "Carrier B",
          null
         ]
        },
        {
         "connectgaps": false,
         "hoverinfo": "y+name",
         "line": {
          "color": "rgb(154,56,36)",
          "width": 10
         },
         "mode": "lines",
         "name": "sailing empty:Carrier B",
         "type": "scatter",
         "x": [
          "1970-01-01T00:44:40",
          "1970-01-01T00:44:40",
          "1970-01-01T01:29:20",
          "1970-01-01T01:29:20",
          "1970-01-01T01:29:20",
          "1970-01-01T04:41:06",
          "1970-01-01T04:41:06",
          "1970-01-01T05:25:46",
          "1970-01-01T05:25:46",
          "1970-01-01T05:25:46",
          "1970-01-01T08:21:26",
          "1970-01-01T08:21:26",
          "1970-01-01T09:06:06",
          "1970-01-01T09:06:06",
          "1970-01-01T09:06:06",
          "1970-01-01T12:01:46",
          "1970-01-01T12:01:46",
          "1970-01-01T12:46:26",
          "1970-01-01T12:46:26",
          "1970-01-01T12:46:26",
          "1970-01-01T15:42:06",
          "1970-01-01T15:42:06",
          "1970-01-01T16:26:46",
          "1970-01-01T16:26:46",
          "1970-01-01T16:26:46",
          "1970-01-01T19:54:38",
          "1970-01-01T19:54:38",
          "1970-01-01T20:39:18",
          "1970-01-01T20:39:18",
          "1970-01-01T20:39:18",
          "1970-01-01T23:34:58",
          "1970-01-01T23:34:58",
          "1970-01-02T00:19:38",
          "1970-01-02T00:19:38",
          "1970-01-02T00:19:38",
          "1970-01-02T03:15:18",
          "1970-01-02T03:15:18",
          "1970-01-02T03:59:58",
          "1970-01-02T03:59:58",
          "1970-01-02T03:59:58"
         ],
         "y": [
          "Carrier B",
          "Carrier B",
          "Carrier B",
          "Carrier B",
          null,
          "Carrier B",
          "Carrier B",
          "Carrier B",
          "Carrier B",
          null,
          "Carrier B",
          "Carrier B",
          "Carrier B",
          "Carrier B",
          null,
          "Carrier B",
          "Carrier B",
          "Carrier B",
          "Carrier B",
          null,
          "Carrier B",
          "Carrier B",
          "Carrier B",
          "Carrier B",
          null,
          "Carrier B",
          "Carrier B",
          "Carrier B",
          "Carrier B",
          null,
          "Carrier B",
          "Carrier B",
          "Carrier B",
          "Carrier B",
          null,
          "Carrier B",
          "Carrier B",
          "Carrier B",
          "Carrier B",
          null
         ]
        },
        {
         "connectgaps": false,
         "hoverinfo": "y+name",
         "line": {
          "color": "rgb(168,70,50)",
          "width": 10
         },
         "mode": "lines",
         "name": "basic activity:Carrier B",
         "type": "scatter",
         "x": [
          "1970-01-01T00:00:00",
          "1970-01-01T00:00:00",
          "1970-01-01T00:44:40",
          "1970-01-01T00:44:40",
          "1970-01-01T00:44:40",
          "1970-01-01T03:56:26",
          "1970-01-01T03:56:26",
          "1970-01-01T04:41:06",
          "1970-01-01T04:41:06",
          "1970-01-01T04:41:06",
          "1970-01-01T07:36:46",
          "1970-01-01T07:36:46",
          "1970-01-01T08:21:26",
          "1970-01-01T08:21:26",
          "1970-01-01T08:21:26",
          "1970-01-01T11:17:06",
          "1970-01-01T11:17:06",
          "1970-01-01T12:01:46",
          "1970-01-01T12:01:46",
          "1970-01-01T12:01:46",
          "1970-01-01T14:57:26",
          "1970-01-01T14:57:26",
          "1970-01-01T15:42:06",
          "1970-01-01T15:42:06",
          "1970-01-01T15:42:06",
          "1970-01-01T19:09:58",
          "1970-01-01T19:09:58",
          "1970-01-01T19:54:38",
          "1970-01-01T19:54:38",
          "1970-01-01T19:54:38",
          "1970-01-01T22:50:18",
          "1970-01-01T22:50:18",
          "1970-01-01T23:34:58",
          "1970-01-01T23:34:58",
          "1970-01-01T23:34:58",
          "1970-01-02T02:30:38",
          "1970-01-02T02:30:38",
          "1970-01-02T03:15:18",
          "1970-01-02T03:15:18",
          "1970-01-02T03:15:18"
         ],
         "y": [
          "Carrier B",
          "Carrier B",
          "Carrier B",
          "Carrier B",
          null,
          "Carrier B",
          "Carrier B",
          "Carrier B",
          "Carrier B",
          null,
          "Carrier B",
          "Carrier B",
          "Carrier B",
          "Carrier B",
          null,
          "Carrier B",
          "Carrier B",
          "Carrier B",
          "Carrier B",
          null,
          "Carrier B",
          "Carrier B",
          "Carrier B",
          "Carrier B",
          null,
          "Carrier B",
          "Carrier B",
          "Carrier B",
          "Carrier B",
          null,
          "Carrier B",
          "Carrier B",
          "Carrier B",
          "Carrier B",
          null,
          "Carrier B",
          "Carrier B",
          "Carrier B",
          "Carrier B",
          null
         ]
        },
        {
         "connectgaps": false,
         "hoverinfo": "y+name",
         "line": {
          "color": "rgb(182,84,64)",
          "width": 10
         },
         "mode": "lines",
         "name": "sailing full:Carrier C",
         "type": "scatter",
         "x": [
          "1970-01-01T01:45:26",
          "1970-01-01T01:45:26",
          "1970-01-01T02:21:29",
          "1970-01-01T02:21:29",
          "1970-01-01T02:21:29",
          "1970-01-01T04:42:58",
          "1970-01-01T04:42:58",
          "1970-01-01T05:19:01",
          "1970-01-01T05:19:01",
          "1970-01-01T05:19:01",
          "1970-01-01T07:40:30",
          "1970-01-01T07:40:30",
          "1970-01-01T08:16:33",
          "1970-01-01T08:16:33",
          "1970-01-01T08:16:33",
          "1970-01-01T10:54:26",
          "1970-01-01T10:54:26",
          "1970-01-01T11:30:29",
          "1970-01-01T11:30:29",
          "1970-01-01T11:30:29",
          "1970-01-01T14:01:26",
          "1970-01-01T14:01:26",
          "1970-01-01T14:37:29",
          "1970-01-01T14:37:29",
          "1970-01-01T14:37:29",
          "1970-01-01T16:58:58",
          "1970-01-01T16:58:58",
          "1970-01-01T17:35:01",
          "1970-01-01T17:35:01",
          "1970-01-01T17:35:01",
          "1970-01-01T19:56:30",
          "1970-01-01T19:56:30",
          "1970-01-01T20:32:33",
          "1970-01-01T20:32:33",
          "1970-01-01T20:32:33",
          "1970-01-01T22:54:02",
          "1970-01-01T22:54:02",
          "1970-01-01T23:30:05",
          "1970-01-01T23:30:05",
          "1970-01-01T23:30:05",
          "1970-01-02T02:07:58",
          "1970-01-02T02:07:58",
          "1970-01-02T02:44:01",
          "1970-01-02T02:44:01",
          "1970-01-02T02:44:01"
         ],
         "y": [
          "Carrier C",
          "Carrier C",
          "Carrier C",
          "Carrier C",
          null,
          "Carrier C",
          "Carrier C",
          "Carrier C",
          "Carrier C",
          null,
          "Carrier C",
          "Carrier C",
          "Carrier C",
          "Carrier C",
          null,
          "Carrier C",
          "Carrier C",
          "Carrier C",
          "Carrier C",
          null,
          "Carrier C",
          "Carrier C",
          "Carrier C",
          "Carrier C",
          null,
          "Carrier C",
          "Carrier C",
          "Carrier C",
          "Carrier C",
          null,
          "Carrier C",
          "Carrier C",
          "Carrier C",
          "Carrier C",
          null,
          "Carrier C",
          "Carrier C",
          "Carrier C",
          "Carrier C",
          null,
          "Carrier C",
          "Carrier C",
          "Carrier C",
          "Carrier C",
          null
         ]
        },
        {
         "connectgaps": false,
         "hoverinfo": "y+name",
         "line": {
          "color": "rgb(196,98,78)",
          "width": 10
         },
         "mode": "lines",
         "name": "unloading:Carrier C",
         "type": "scatter",
         "x": [
          "1970-01-01T02:21:29",
          "1970-01-01T02:21:29",
          "1970-01-01T02:57:32",
          "1970-01-01T02:57:32",
          "1970-01-01T02:57:32",
          "1970-01-01T05:19:01",
          "1970-01-01T05:19:01",
          "1970-01-01T05:55:04",
          "1970-01-01T05:55:04",
          "1970-01-01T05:55:04",
          "1970-01-01T08:16:33",
          "1970-01-01T08:16:33",
          "1970-01-01T08:52:36",
          "1970-01-01T08:52:36",
          "1970-01-01T08:52:36",
          "1970-01-01T11:30:29",
          "1970-01-01T11:30:29",
          "1970-01-01T12:06:32",
          "1970-01-01T12:06:32",
          "1970-01-01T12:06:32",
          "1970-01-01T14:37:29",
          "1970-01-01T14:37:29",
          "1970-01-01T15:13:32",
          "1970-01-01T15:13:32",
          "1970-01-01T15:13:32",
          "1970-01-01T17:35:01",
          "1970-01-01T17:35:01",
          "1970-01-01T18:11:04",
          "1970-01-01T18:11:04",
          "1970-01-01T18:11:04",
          "1970-01-01T20:32:33",
          "1970-01-01T20:32:33",
          "1970-01-01T21:08:36",
          "1970-01-01T21:08:36",
          "1970-01-01T21:08:36",
          "1970-01-01T23:30:05",
          "1970-01-01T23:30:05",
          "1970-01-02T00:06:08",
          "1970-01-02T00:06:08",
          "1970-01-02T00:06:08",
          "1970-01-02T02:44:01",
          "1970-01-02T02:44:01",
          "1970-01-02T03:20:04",
          "1970-01-02T03:20:04",
          "1970-01-02T03:20:04"
         ],
         "y": [
          "Carrier C",
          "Carrier C",
          "Carrier C",
          "Carrier C",
          null,
          "Carrier C",
          "Carrier C",
          "Carrier C",
          "Carrier C",
          null,
          "Carrier C",
          "Carrier C",
          "Carrier C",
          "Carrier C",
          null,
          "Carrier C",
          "Carrier C",
          "Carrier C",
          "Carrier C",
          null,
          "Carrier C",
          "Carrier C",
          "Carrier C",
          "Carrier C",
          null,
          "Carrier C",
          "Carrier C",
          "Carrier C",
          "Carrier C",
          null,
          "Carrier C",
          "Carrier C",
          "Carrier C",
          "Carrier C",
          null,
          "Carrier C",
          "Carrier C",
          "Carrier C",
          "Carrier C",
          null,
          "Carrier C",
          "Carrier C",
          "Carrier C",
          "Carrier C",
          null
         ]
        },
        {
         "connectgaps": false,
         "hoverinfo": "y+name",
         "line": {
          "color": "rgb(210,112,92)",
          "width": 10
         },
         "mode": "lines",
         "name": "loading:Carrier C",
         "type": "scatter",
         "x": [
          "1970-01-01T01:12:06",
          "1970-01-01T01:12:06",
          "1970-01-01T01:45:26",
          "1970-01-01T01:45:26",
          "1970-01-01T01:45:26",
          "1970-01-01T04:09:38",
          "1970-01-01T04:09:38",
          "1970-01-01T04:42:58",
          "1970-01-01T04:42:58",
          "1970-01-01T04:42:58",
          "1970-01-01T07:07:10",
          "1970-01-01T07:07:10",
          "1970-01-01T07:40:30",
          "1970-01-01T07:40:30",
          "1970-01-01T07:40:30",
          "1970-01-01T10:21:06",
          "1970-01-01T10:21:06",
          "1970-01-01T10:54:26",
          "1970-01-01T10:54:26",
          "1970-01-01T10:54:26",
          "1970-01-01T13:28:06",
          "1970-01-01T13:28:06",
          "1970-01-01T14:01:26",
          "1970-01-01T14:01:26",
          "1970-01-01T14:01:26",
          "1970-01-01T16:25:38",
          "1970-01-01T16:25:38",
          "1970-01-01T16:58:58",
          "1970-01-01T16:58:58",
          "1970-01-01T16:58:58",
          "1970-01-01T19:23:10",
          "1970-01-01T19:23:10",
          "1970-01-01T19:56:30",
          "1970-01-01T19:56:30",
          "1970-01-01T19:56:30",
          "1970-01-01T22:20:42",
          "1970-01-01T22:20:42",
          "1970-01-01T22:54:02",
          "1970-01-01T22:54:02",
          "1970-01-01T22:54:02",
          "1970-01-02T01:34:38",
          "1970-01-02T01:34:38",
          "1970-01-02T02:07:58",
          "1970-01-02T02:07:58",
          "1970-01-02T02:07:58",
          "1970-01-01T01:12:06",
          "1970-01-01T01:12:06",
          "1970-01-01T01:45:26",
          "1970-01-01T01:45:26",
          "1970-01-01T01:45:26",
          "1970-01-01T04:09:38",
          "1970-01-01T04:09:38",
          "1970-01-01T04:42:58",
          "1970-01-01T04:42:58",
          "1970-01-01T04:42:58",
          "1970-01-01T07:07:10",
          "1970-01-01T07:07:10",
          "1970-01-01T07:40:30",
          "1970-01-01T07:40:30",
          "1970-01-01T07:40:30",
          "1970-01-01T10:21:06",
          "1970-01-01T10:21:06",
          "1970-01-01T10:54:26",
          "1970-01-01T10:54:26",
          "1970-01-01T10:54:26",
          "1970-01-01T13:28:06",
          "1970-01-01T13:28:06",
          "1970-01-01T14:01:26",
          "1970-01-01T14:01:26",
          "1970-01-01T14:01:26",
          "1970-01-01T16:25:38",
          "1970-01-01T16:25:38",
          "1970-01-01T16:58:58",
          "1970-01-01T16:58:58",
          "1970-01-01T16:58:58",
          "1970-01-01T19:23:10",
          "1970-01-01T19:23:10",
          "1970-01-01T19:56:30",
          "1970-01-01T19:56:30",
          "1970-01-01T19:56:30",
          "1970-01-01T22:20:42",
          "1970-01-01T22:20:42",
          "1970-01-01T22:54:02",
          "1970-01-01T22:54:02",
          "1970-01-01T22:54:02",
          "1970-01-02T01:34:38",
          "1970-01-02T01:34:38",
          "1970-01-02T02:07:58",
          "1970-01-02T02:07:58",
          "1970-01-02T02:07:58"
         ],
         "y": [
          "Carrier C",
          "Carrier C",
          "Carrier C",
          "Carrier C",
          null,
          "Carrier C",
          "Carrier C",
          "Carrier C",
          "Carrier C",
          null,
          "Carrier C",
          "Carrier C",
          "Carrier C",
          "Carrier C",
          null,
          "Carrier C",
          "Carrier C",
          "Carrier C",
          "Carrier C",
          null,
          "Carrier C",
          "Carrier C",
          "Carrier C",
          "Carrier C",
          null,
          "Carrier C",
          "Carrier C",
          "Carrier C",
          "Carrier C",
          null,
          "Carrier C",
          "Carrier C",
          "Carrier C",
          "Carrier C",
          null,
          "Carrier C",
          "Carrier C",
          "Carrier C",
          "Carrier C",
          null,
          "Carrier C",
          "Carrier C",
          "Carrier C",
          "Carrier C",
          null,
          "Cutter T",
          "Cutter T",
          "Cutter T",
          "Cutter T",
          null,
          "Cutter T",
          "Cutter T",
          "Cutter T",
          "Cutter T",
          null,
          "Cutter T",
          "Cutter T",
          "Cutter T",
          "Cutter T",
          null,
          "Cutter T",
          "Cutter T",
          "Cutter T",
          "Cutter T",
          null,
          "Cutter T",
          "Cutter T",
          "Cutter T",
          "Cutter T",
          null,
          "Cutter T",
          "Cutter T",
          "Cutter T",
          "Cutter T",
          null,
          "Cutter T",
          "Cutter T",
          "Cutter T",
          "Cutter T",
          null,
          "Cutter T",
          "Cutter T",
          "Cutter T",
          "Cutter T",
          null,
          "Cutter T",
          "Cutter T",
          "Cutter T",
          "Cutter T",
          null
         ]
        },
        {
         "connectgaps": false,
         "hoverinfo": "y+name",
         "line": {
          "color": "rgb(224,126,106)",
          "width": 10
         },
         "mode": "lines",
         "name": "basic activity:Carrier C",
         "type": "scatter",
         "x": [
          "1970-01-01T00:00:00",
          "1970-01-01T00:00:00",
          "1970-01-01T00:36:03",
          "1970-01-01T00:36:03",
          "1970-01-01T00:36:03",
          "1970-01-01T02:57:32",
          "1970-01-01T02:57:32",
          "1970-01-01T03:33:35",
          "1970-01-01T03:33:35",
          "1970-01-01T03:33:35",
          "1970-01-01T05:55:04",
          "1970-01-01T05:55:04",
          "1970-01-01T06:31:07",
          "1970-01-01T06:31:07",
          "1970-01-01T06:31:07",
          "1970-01-01T08:52:36",
          "1970-01-01T08:52:36",
          "1970-01-01T09:28:39",
          "1970-01-01T09:28:39",
          "1970-01-01T09:28:39",
          "1970-01-01T12:06:32",
          "1970-01-01T12:06:32",
          "1970-01-01T12:42:35",
          "1970-01-01T12:42:35",
          "1970-01-01T12:42:35",
          "1970-01-01T15:13:32",
          "1970-01-01T15:13:32",
          "1970-01-01T15:49:35",
          "1970-01-01T15:49:35",
          "1970-01-01T15:49:35",
          "1970-01-01T18:11:04",
          "1970-01-01T18:11:04",
          "1970-01-01T18:47:07",
          "1970-01-01T18:47:07",
          "1970-01-01T18:47:07",
          "1970-01-01T21:08:36",
          "1970-01-01T21:08:36",
          "1970-01-01T21:44:39",
          "1970-01-01T21:44:39",
          "1970-01-01T21:44:39",
          "1970-01-02T00:06:08",
          "1970-01-02T00:06:08",
          "1970-01-02T00:42:11",
          "1970-01-02T00:42:11",
          "1970-01-02T00:42:11"
         ],
         "y": [
          "Carrier C",
          "Carrier C",
          "Carrier C",
          "Carrier C",
          null,
          "Carrier C",
          "Carrier C",
          "Carrier C",
          "Carrier C",
          null,
          "Carrier C",
          "Carrier C",
          "Carrier C",
          "Carrier C",
          null,
          "Carrier C",
          "Carrier C",
          "Carrier C",
          "Carrier C",
          null,
          "Carrier C",
          "Carrier C",
          "Carrier C",
          "Carrier C",
          null,
          "Carrier C",
          "Carrier C",
          "Carrier C",
          "Carrier C",
          null,
          "Carrier C",
          "Carrier C",
          "Carrier C",
          "Carrier C",
          null,
          "Carrier C",
          "Carrier C",
          "Carrier C",
          "Carrier C",
          null,
          "Carrier C",
          "Carrier C",
          "Carrier C",
          "Carrier C",
          null
         ]
        },
        {
         "connectgaps": false,
         "hoverinfo": "y+name",
         "line": {
          "color": "rgb(238,140,120)",
          "width": 10
         },
         "mode": "lines",
         "name": "sailing empty:Carrier C",
         "type": "scatter",
         "x": [
          "1970-01-01T00:36:03",
          "1970-01-01T00:36:03",
          "1970-01-01T01:12:06",
          "1970-01-01T01:12:06",
          "1970-01-01T01:12:06",
          "1970-01-01T03:33:35",
          "1970-01-01T03:33:35",
          "1970-01-01T04:09:38",
          "1970-01-01T04:09:38",
          "1970-01-01T04:09:38",
          "1970-01-01T06:31:07",
          "1970-01-01T06:31:07",
          "1970-01-01T07:07:10",
          "1970-01-01T07:07:10",
          "1970-01-01T07:07:10",
          "1970-01-01T09:28:39",
          "1970-01-01T09:28:39",
          "1970-01-01T10:04:42",
          "1970-01-01T10:04:42",
          "1970-01-01T10:04:42",
          "1970-01-01T12:42:35",
          "1970-01-01T12:42:35",
          "1970-01-01T13:18:38",
          "1970-01-01T13:18:38",
          "1970-01-01T13:18:38",
          "1970-01-01T15:49:35",
          "1970-01-01T15:49:35",
          "1970-01-01T16:25:38",
          "1970-01-01T16:25:38",
          "1970-01-01T16:25:38",
          "1970-01-01T18:47:07",
          "1970-01-01T18:47:07",
          "1970-01-01T19:23:10",
          "1970-01-01T19:23:10",
          "1970-01-01T19:23:10",
          "1970-01-01T21:44:39",
          "1970-01-01T21:44:39",
          "1970-01-01T22:20:42",
          "1970-01-01T22:20:42",
          "1970-01-01T22:20:42",
          "1970-01-02T00:42:11",
          "1970-01-02T00:42:11",
          "1970-01-02T01:18:14",
          "1970-01-02T01:18:14",
          "1970-01-02T01:18:14"
         ],
         "y": [
          "Carrier C",
          "Carrier C",
          "Carrier C",
          "Carrier C",
          null,
          "Carrier C",
          "Carrier C",
          "Carrier C",
          "Carrier C",
          null,
          "Carrier C",
          "Carrier C",
          "Carrier C",
          "Carrier C",
          null,
          "Carrier C",
          "Carrier C",
          "Carrier C",
          "Carrier C",
          null,
          "Carrier C",
          "Carrier C",
          "Carrier C",
          "Carrier C",
          null,
          "Carrier C",
          "Carrier C",
          "Carrier C",
          "Carrier C",
          null,
          "Carrier C",
          "Carrier C",
          "Carrier C",
          "Carrier C",
          null,
          "Carrier C",
          "Carrier C",
          "Carrier C",
          "Carrier C",
          null,
          "Carrier C",
          "Carrier C",
          "Carrier C",
          "Carrier C",
          null
         ]
        },
        {
         "connectgaps": false,
         "hoverinfo": "y+name",
         "line": {
          "color": "rgb(252,154,134)",
          "width": 10
         },
         "mode": "lines",
         "name": "loading:Carrier B",
         "type": "scatter",
         "x": [
          "1970-01-01T01:45:26",
          "1970-01-01T01:45:26",
          "1970-01-01T02:27:06",
          "1970-01-01T02:27:06",
          "1970-01-01T02:27:06",
          "1970-01-01T05:25:46",
          "1970-01-01T05:25:46",
          "1970-01-01T06:07:26",
          "1970-01-01T06:07:26",
          "1970-01-01T06:07:26",
          "1970-01-01T09:06:06",
          "1970-01-01T09:06:06",
          "1970-01-01T09:47:46",
          "1970-01-01T09:47:46",
          "1970-01-01T09:47:46",
          "1970-01-01T12:46:26",
          "1970-01-01T12:46:26",
          "1970-01-01T13:28:06",
          "1970-01-01T13:28:06",
          "1970-01-01T13:28:06",
          "1970-01-01T16:58:58",
          "1970-01-01T16:58:58",
          "1970-01-01T17:40:38",
          "1970-01-01T17:40:38",
          "1970-01-01T17:40:38",
          "1970-01-01T20:39:18",
          "1970-01-01T20:39:18",
          "1970-01-01T21:20:58",
          "1970-01-01T21:20:58",
          "1970-01-01T21:20:58",
          "1970-01-02T00:19:38",
          "1970-01-02T00:19:38",
          "1970-01-02T01:01:18",
          "1970-01-02T01:01:18",
          "1970-01-02T01:01:18",
          "1970-01-02T03:59:58",
          "1970-01-02T03:59:58",
          "1970-01-02T04:41:38",
          "1970-01-02T04:41:38",
          "1970-01-02T04:41:38",
          "1970-01-01T01:45:26",
          "1970-01-01T01:45:26",
          "1970-01-01T02:27:06",
          "1970-01-01T02:27:06",
          "1970-01-01T02:27:06",
          "1970-01-01T05:25:46",
          "1970-01-01T05:25:46",
          "1970-01-01T06:07:26",
          "1970-01-01T06:07:26",
          "1970-01-01T06:07:26",
          "1970-01-01T09:06:06",
          "1970-01-01T09:06:06",
          "1970-01-01T09:47:46",
          "1970-01-01T09:47:46",
          "1970-01-01T09:47:46",
          "1970-01-01T12:46:26",
          "1970-01-01T12:46:26",
          "1970-01-01T13:28:06",
          "1970-01-01T13:28:06",
          "1970-01-01T13:28:06",
          "1970-01-01T16:58:58",
          "1970-01-01T16:58:58",
          "1970-01-01T17:40:38",
          "1970-01-01T17:40:38",
          "1970-01-01T17:40:38",
          "1970-01-01T20:39:18",
          "1970-01-01T20:39:18",
          "1970-01-01T21:20:58",
          "1970-01-01T21:20:58",
          "1970-01-01T21:20:58",
          "1970-01-02T00:19:38",
          "1970-01-02T00:19:38",
          "1970-01-02T01:01:18",
          "1970-01-02T01:01:18",
          "1970-01-02T01:01:18",
          "1970-01-02T03:59:58",
          "1970-01-02T03:59:58",
          "1970-01-02T04:41:38",
          "1970-01-02T04:41:38",
          "1970-01-02T04:41:38"
         ],
         "y": [
          "Carrier B",
          "Carrier B",
          "Carrier B",
          "Carrier B",
          null,
          "Carrier B",
          "Carrier B",
          "Carrier B",
          "Carrier B",
          null,
          "Carrier B",
          "Carrier B",
          "Carrier B",
          "Carrier B",
          null,
          "Carrier B",
          "Carrier B",
          "Carrier B",
          "Carrier B",
          null,
          "Carrier B",
          "Carrier B",
          "Carrier B",
          "Carrier B",
          null,
          "Carrier B",
          "Carrier B",
          "Carrier B",
          "Carrier B",
          null,
          "Carrier B",
          "Carrier B",
          "Carrier B",
          "Carrier B",
          null,
          "Carrier B",
          "Carrier B",
          "Carrier B",
          "Carrier B",
          null,
          "Cutter T",
          "Cutter T",
          "Cutter T",
          "Cutter T",
          null,
          "Cutter T",
          "Cutter T",
          "Cutter T",
          "Cutter T",
          null,
          "Cutter T",
          "Cutter T",
          "Cutter T",
          "Cutter T",
          null,
          "Cutter T",
          "Cutter T",
          "Cutter T",
          "Cutter T",
          null,
          "Cutter T",
          "Cutter T",
          "Cutter T",
          "Cutter T",
          null,
          "Cutter T",
          "Cutter T",
          "Cutter T",
          "Cutter T",
          null,
          "Cutter T",
          "Cutter T",
          "Cutter T",
          "Cutter T",
          null,
          "Cutter T",
          "Cutter T",
          "Cutter T",
          "Cutter T",
          null
         ]
        },
        {
         "connectgaps": false,
         "hoverinfo": "y+name",
         "line": {
          "color": "rgb(10,168,148)",
          "width": 10
         },
         "mode": "lines",
         "name": "loading:Carrier A",
         "type": "scatter",
         "x": [
          "1970-01-01T02:27:06",
          "1970-01-01T02:27:06",
          "1970-01-01T03:00:26",
          "1970-01-01T03:00:26",
          "1970-01-01T03:00:26",
          "1970-01-01T06:07:26",
          "1970-01-01T06:07:26",
          "1970-01-01T06:40:46",
          "1970-01-01T06:40:46",
          "1970-01-01T06:40:46",
          "1970-01-01T09:47:46",
          "1970-01-01T09:47:46",
          "1970-01-01T10:21:06",
          "1970-01-01T10:21:06",
          "1970-01-01T10:21:06",
          "1970-01-01T14:01:26",
          "1970-01-01T14:01:26",
          "1970-01-01T14:34:46",
          "1970-01-01T14:34:46",
          "1970-01-01T14:34:46",
          "1970-01-01T17:40:38",
          "1970-01-01T17:40:38",
          "1970-01-01T18:13:58",
          "1970-01-01T18:13:58",
          "1970-01-01T18:13:58",
          "1970-01-01T21:20:58",
          "1970-01-01T21:20:58",
          "1970-01-01T21:54:18",
          "1970-01-01T21:54:18",
          "1970-01-01T21:54:18",
          "1970-01-02T01:01:18",
          "1970-01-02T01:01:18",
          "1970-01-02T01:34:38",
          "1970-01-02T01:34:38",
          "1970-01-02T01:34:38",
          "1970-01-01T02:27:06",
          "1970-01-01T02:27:06",
          "1970-01-01T03:00:26",
          "1970-01-01T03:00:26",
          "1970-01-01T03:00:26",
          "1970-01-01T06:07:26",
          "1970-01-01T06:07:26",
          "1970-01-01T06:40:46",
          "1970-01-01T06:40:46",
          "1970-01-01T06:40:46",
          "1970-01-01T09:47:46",
          "1970-01-01T09:47:46",
          "1970-01-01T10:21:06",
          "1970-01-01T10:21:06",
          "1970-01-01T10:21:06",
          "1970-01-01T14:01:26",
          "1970-01-01T14:01:26",
          "1970-01-01T14:34:46",
          "1970-01-01T14:34:46",
          "1970-01-01T14:34:46",
          "1970-01-01T17:40:38",
          "1970-01-01T17:40:38",
          "1970-01-01T18:13:58",
          "1970-01-01T18:13:58",
          "1970-01-01T18:13:58",
          "1970-01-01T21:20:58",
          "1970-01-01T21:20:58",
          "1970-01-01T21:54:18",
          "1970-01-01T21:54:18",
          "1970-01-01T21:54:18",
          "1970-01-02T01:01:18",
          "1970-01-02T01:01:18",
          "1970-01-02T01:34:38",
          "1970-01-02T01:34:38",
          "1970-01-02T01:34:38"
         ],
         "y": [
          "Carrier A",
          "Carrier A",
          "Carrier A",
          "Carrier A",
          null,
          "Carrier A",
          "Carrier A",
          "Carrier A",
          "Carrier A",
          null,
          "Carrier A",
          "Carrier A",
          "Carrier A",
          "Carrier A",
          null,
          "Carrier A",
          "Carrier A",
          "Carrier A",
          "Carrier A",
          null,
          "Carrier A",
          "Carrier A",
          "Carrier A",
          "Carrier A",
          null,
          "Carrier A",
          "Carrier A",
          "Carrier A",
          "Carrier A",
          null,
          "Carrier A",
          "Carrier A",
          "Carrier A",
          "Carrier A",
          null,
          "Cutter T",
          "Cutter T",
          "Cutter T",
          "Cutter T",
          null,
          "Cutter T",
          "Cutter T",
          "Cutter T",
          "Cutter T",
          null,
          "Cutter T",
          "Cutter T",
          "Cutter T",
          "Cutter T",
          null,
          "Cutter T",
          "Cutter T",
          "Cutter T",
          "Cutter T",
          null,
          "Cutter T",
          "Cutter T",
          "Cutter T",
          "Cutter T",
          null,
          "Cutter T",
          "Cutter T",
          "Cutter T",
          "Cutter T",
          null,
          "Cutter T",
          "Cutter T",
          "Cutter T",
          "Cutter T",
          null
         ]
        },
        {
         "connectgaps": false,
         "hoverinfo": "y+name",
         "line": {
          "color": "rgb(24,182,162)",
          "width": 10
         },
         "mode": "lines",
         "name": "loading:Carrier C",
         "type": "scatter",
         "x": [
          "1970-01-01T01:12:06",
          "1970-01-01T01:12:06",
          "1970-01-01T01:45:26",
          "1970-01-01T01:45:26",
          "1970-01-01T01:45:26",
          "1970-01-01T04:09:38",
          "1970-01-01T04:09:38",
          "1970-01-01T04:42:58",
          "1970-01-01T04:42:58",
          "1970-01-01T04:42:58",
          "1970-01-01T07:07:10",
          "1970-01-01T07:07:10",
          "1970-01-01T07:40:30",
          "1970-01-01T07:40:30",
          "1970-01-01T07:40:30",
          "1970-01-01T10:21:06",
          "1970-01-01T10:21:06",
          "1970-01-01T10:54:26",
          "1970-01-01T10:54:26",
          "1970-01-01T10:54:26",
          "1970-01-01T13:28:06",
          "1970-01-01T13:28:06",
          "1970-01-01T14:01:26",
          "1970-01-01T14:01:26",
          "1970-01-01T14:01:26",
          "1970-01-01T16:25:38",
          "1970-01-01T16:25:38",
          "1970-01-01T16:58:58",
          "1970-01-01T16:58:58",
          "1970-01-01T16:58:58",
          "1970-01-01T19:23:10",
          "1970-01-01T19:23:10",
          "1970-01-01T19:56:30",
          "1970-01-01T19:56:30",
          "1970-01-01T19:56:30",
          "1970-01-01T22:20:42",
          "1970-01-01T22:20:42",
          "1970-01-01T22:54:02",
          "1970-01-01T22:54:02",
          "1970-01-01T22:54:02",
          "1970-01-02T01:34:38",
          "1970-01-02T01:34:38",
          "1970-01-02T02:07:58",
          "1970-01-02T02:07:58",
          "1970-01-02T02:07:58",
          "1970-01-01T01:12:06",
          "1970-01-01T01:12:06",
          "1970-01-01T01:45:26",
          "1970-01-01T01:45:26",
          "1970-01-01T01:45:26",
          "1970-01-01T04:09:38",
          "1970-01-01T04:09:38",
          "1970-01-01T04:42:58",
          "1970-01-01T04:42:58",
          "1970-01-01T04:42:58",
          "1970-01-01T07:07:10",
          "1970-01-01T07:07:10",
          "1970-01-01T07:40:30",
          "1970-01-01T07:40:30",
          "1970-01-01T07:40:30",
          "1970-01-01T10:21:06",
          "1970-01-01T10:21:06",
          "1970-01-01T10:54:26",
          "1970-01-01T10:54:26",
          "1970-01-01T10:54:26",
          "1970-01-01T13:28:06",
          "1970-01-01T13:28:06",
          "1970-01-01T14:01:26",
          "1970-01-01T14:01:26",
          "1970-01-01T14:01:26",
          "1970-01-01T16:25:38",
          "1970-01-01T16:25:38",
          "1970-01-01T16:58:58",
          "1970-01-01T16:58:58",
          "1970-01-01T16:58:58",
          "1970-01-01T19:23:10",
          "1970-01-01T19:23:10",
          "1970-01-01T19:56:30",
          "1970-01-01T19:56:30",
          "1970-01-01T19:56:30",
          "1970-01-01T22:20:42",
          "1970-01-01T22:20:42",
          "1970-01-01T22:54:02",
          "1970-01-01T22:54:02",
          "1970-01-01T22:54:02",
          "1970-01-02T01:34:38",
          "1970-01-02T01:34:38",
          "1970-01-02T02:07:58",
          "1970-01-02T02:07:58",
          "1970-01-02T02:07:58"
         ],
         "y": [
          "Carrier C",
          "Carrier C",
          "Carrier C",
          "Carrier C",
          null,
          "Carrier C",
          "Carrier C",
          "Carrier C",
          "Carrier C",
          null,
          "Carrier C",
          "Carrier C",
          "Carrier C",
          "Carrier C",
          null,
          "Carrier C",
          "Carrier C",
          "Carrier C",
          "Carrier C",
          null,
          "Carrier C",
          "Carrier C",
          "Carrier C",
          "Carrier C",
          null,
          "Carrier C",
          "Carrier C",
          "Carrier C",
          "Carrier C",
          null,
          "Carrier C",
          "Carrier C",
          "Carrier C",
          "Carrier C",
          null,
          "Carrier C",
          "Carrier C",
          "Carrier C",
          "Carrier C",
          null,
          "Carrier C",
          "Carrier C",
          "Carrier C",
          "Carrier C",
          null,
          "Cutter T",
          "Cutter T",
          "Cutter T",
          "Cutter T",
          null,
          "Cutter T",
          "Cutter T",
          "Cutter T",
          "Cutter T",
          null,
          "Cutter T",
          "Cutter T",
          "Cutter T",
          "Cutter T",
          null,
          "Cutter T",
          "Cutter T",
          "Cutter T",
          "Cutter T",
          null,
          "Cutter T",
          "Cutter T",
          "Cutter T",
          "Cutter T",
          null,
          "Cutter T",
          "Cutter T",
          "Cutter T",
          "Cutter T",
          null,
          "Cutter T",
          "Cutter T",
          "Cutter T",
          "Cutter T",
          null,
          "Cutter T",
          "Cutter T",
          "Cutter T",
          "Cutter T",
          null,
          "Cutter T",
          "Cutter T",
          "Cutter T",
          "Cutter T",
          null
         ]
        }
       ],
       "layout": {
        "hovermode": "closest",
        "legend": {
         "orientation": "h",
         "x": 0,
         "y": -0.2
        },
        "template": {
         "data": {
          "bar": [
           {
            "error_x": {
             "color": "#2a3f5f"
            },
            "error_y": {
             "color": "#2a3f5f"
            },
            "marker": {
             "line": {
              "color": "#E5ECF6",
              "width": 0.5
             },
             "pattern": {
              "fillmode": "overlay",
              "size": 10,
              "solidity": 0.2
             }
            },
            "type": "bar"
           }
          ],
          "barpolar": [
           {
            "marker": {
             "line": {
              "color": "#E5ECF6",
              "width": 0.5
             },
             "pattern": {
              "fillmode": "overlay",
              "size": 10,
              "solidity": 0.2
             }
            },
            "type": "barpolar"
           }
          ],
          "carpet": [
           {
            "aaxis": {
             "endlinecolor": "#2a3f5f",
             "gridcolor": "white",
             "linecolor": "white",
             "minorgridcolor": "white",
             "startlinecolor": "#2a3f5f"
            },
            "baxis": {
             "endlinecolor": "#2a3f5f",
             "gridcolor": "white",
             "linecolor": "white",
             "minorgridcolor": "white",
             "startlinecolor": "#2a3f5f"
            },
            "type": "carpet"
           }
          ],
          "choropleth": [
           {
            "colorbar": {
             "outlinewidth": 0,
             "ticks": ""
            },
            "type": "choropleth"
           }
          ],
          "contour": [
           {
            "colorbar": {
             "outlinewidth": 0,
             "ticks": ""
            },
            "colorscale": [
             [
              0,
              "#0d0887"
             ],
             [
              0.1111111111111111,
              "#46039f"
             ],
             [
              0.2222222222222222,
              "#7201a8"
             ],
             [
              0.3333333333333333,
              "#9c179e"
             ],
             [
              0.4444444444444444,
              "#bd3786"
             ],
             [
              0.5555555555555556,
              "#d8576b"
             ],
             [
              0.6666666666666666,
              "#ed7953"
             ],
             [
              0.7777777777777778,
              "#fb9f3a"
             ],
             [
              0.8888888888888888,
              "#fdca26"
             ],
             [
              1,
              "#f0f921"
             ]
            ],
            "type": "contour"
           }
          ],
          "contourcarpet": [
           {
            "colorbar": {
             "outlinewidth": 0,
             "ticks": ""
            },
            "type": "contourcarpet"
           }
          ],
          "heatmap": [
           {
            "colorbar": {
             "outlinewidth": 0,
             "ticks": ""
            },
            "colorscale": [
             [
              0,
              "#0d0887"
             ],
             [
              0.1111111111111111,
              "#46039f"
             ],
             [
              0.2222222222222222,
              "#7201a8"
             ],
             [
              0.3333333333333333,
              "#9c179e"
             ],
             [
              0.4444444444444444,
              "#bd3786"
             ],
             [
              0.5555555555555556,
              "#d8576b"
             ],
             [
              0.6666666666666666,
              "#ed7953"
             ],
             [
              0.7777777777777778,
              "#fb9f3a"
             ],
             [
              0.8888888888888888,
              "#fdca26"
             ],
             [
              1,
              "#f0f921"
             ]
            ],
            "type": "heatmap"
           }
          ],
          "heatmapgl": [
           {
            "colorbar": {
             "outlinewidth": 0,
             "ticks": ""
            },
            "colorscale": [
             [
              0,
              "#0d0887"
             ],
             [
              0.1111111111111111,
              "#46039f"
             ],
             [
              0.2222222222222222,
              "#7201a8"
             ],
             [
              0.3333333333333333,
              "#9c179e"
             ],
             [
              0.4444444444444444,
              "#bd3786"
             ],
             [
              0.5555555555555556,
              "#d8576b"
             ],
             [
              0.6666666666666666,
              "#ed7953"
             ],
             [
              0.7777777777777778,
              "#fb9f3a"
             ],
             [
              0.8888888888888888,
              "#fdca26"
             ],
             [
              1,
              "#f0f921"
             ]
            ],
            "type": "heatmapgl"
           }
          ],
          "histogram": [
           {
            "marker": {
             "pattern": {
              "fillmode": "overlay",
              "size": 10,
              "solidity": 0.2
             }
            },
            "type": "histogram"
           }
          ],
          "histogram2d": [
           {
            "colorbar": {
             "outlinewidth": 0,
             "ticks": ""
            },
            "colorscale": [
             [
              0,
              "#0d0887"
             ],
             [
              0.1111111111111111,
              "#46039f"
             ],
             [
              0.2222222222222222,
              "#7201a8"
             ],
             [
              0.3333333333333333,
              "#9c179e"
             ],
             [
              0.4444444444444444,
              "#bd3786"
             ],
             [
              0.5555555555555556,
              "#d8576b"
             ],
             [
              0.6666666666666666,
              "#ed7953"
             ],
             [
              0.7777777777777778,
              "#fb9f3a"
             ],
             [
              0.8888888888888888,
              "#fdca26"
             ],
             [
              1,
              "#f0f921"
             ]
            ],
            "type": "histogram2d"
           }
          ],
          "histogram2dcontour": [
           {
            "colorbar": {
             "outlinewidth": 0,
             "ticks": ""
            },
            "colorscale": [
             [
              0,
              "#0d0887"
             ],
             [
              0.1111111111111111,
              "#46039f"
             ],
             [
              0.2222222222222222,
              "#7201a8"
             ],
             [
              0.3333333333333333,
              "#9c179e"
             ],
             [
              0.4444444444444444,
              "#bd3786"
             ],
             [
              0.5555555555555556,
              "#d8576b"
             ],
             [
              0.6666666666666666,
              "#ed7953"
             ],
             [
              0.7777777777777778,
              "#fb9f3a"
             ],
             [
              0.8888888888888888,
              "#fdca26"
             ],
             [
              1,
              "#f0f921"
             ]
            ],
            "type": "histogram2dcontour"
           }
          ],
          "mesh3d": [
           {
            "colorbar": {
             "outlinewidth": 0,
             "ticks": ""
            },
            "type": "mesh3d"
           }
          ],
          "parcoords": [
           {
            "line": {
             "colorbar": {
              "outlinewidth": 0,
              "ticks": ""
             }
            },
            "type": "parcoords"
           }
          ],
          "pie": [
           {
            "automargin": true,
            "type": "pie"
           }
          ],
          "scatter": [
           {
            "fillpattern": {
             "fillmode": "overlay",
             "size": 10,
             "solidity": 0.2
            },
            "type": "scatter"
           }
          ],
          "scatter3d": [
           {
            "line": {
             "colorbar": {
              "outlinewidth": 0,
              "ticks": ""
             }
            },
            "marker": {
             "colorbar": {
              "outlinewidth": 0,
              "ticks": ""
             }
            },
            "type": "scatter3d"
           }
          ],
          "scattercarpet": [
           {
            "marker": {
             "colorbar": {
              "outlinewidth": 0,
              "ticks": ""
             }
            },
            "type": "scattercarpet"
           }
          ],
          "scattergeo": [
           {
            "marker": {
             "colorbar": {
              "outlinewidth": 0,
              "ticks": ""
             }
            },
            "type": "scattergeo"
           }
          ],
          "scattergl": [
           {
            "marker": {
             "colorbar": {
              "outlinewidth": 0,
              "ticks": ""
             }
            },
            "type": "scattergl"
           }
          ],
          "scattermapbox": [
           {
            "marker": {
             "colorbar": {
              "outlinewidth": 0,
              "ticks": ""
             }
            },
            "type": "scattermapbox"
           }
          ],
          "scatterpolar": [
           {
            "marker": {
             "colorbar": {
              "outlinewidth": 0,
              "ticks": ""
             }
            },
            "type": "scatterpolar"
           }
          ],
          "scatterpolargl": [
           {
            "marker": {
             "colorbar": {
              "outlinewidth": 0,
              "ticks": ""
             }
            },
            "type": "scatterpolargl"
           }
          ],
          "scatterternary": [
           {
            "marker": {
             "colorbar": {
              "outlinewidth": 0,
              "ticks": ""
             }
            },
            "type": "scatterternary"
           }
          ],
          "surface": [
           {
            "colorbar": {
             "outlinewidth": 0,
             "ticks": ""
            },
            "colorscale": [
             [
              0,
              "#0d0887"
             ],
             [
              0.1111111111111111,
              "#46039f"
             ],
             [
              0.2222222222222222,
              "#7201a8"
             ],
             [
              0.3333333333333333,
              "#9c179e"
             ],
             [
              0.4444444444444444,
              "#bd3786"
             ],
             [
              0.5555555555555556,
              "#d8576b"
             ],
             [
              0.6666666666666666,
              "#ed7953"
             ],
             [
              0.7777777777777778,
              "#fb9f3a"
             ],
             [
              0.8888888888888888,
              "#fdca26"
             ],
             [
              1,
              "#f0f921"
             ]
            ],
            "type": "surface"
           }
          ],
          "table": [
           {
            "cells": {
             "fill": {
              "color": "#EBF0F8"
             },
             "line": {
              "color": "white"
             }
            },
            "header": {
             "fill": {
              "color": "#C8D4E3"
             },
             "line": {
              "color": "white"
             }
            },
            "type": "table"
           }
          ]
         },
         "layout": {
          "annotationdefaults": {
           "arrowcolor": "#2a3f5f",
           "arrowhead": 0,
           "arrowwidth": 1
          },
          "autotypenumbers": "strict",
          "coloraxis": {
           "colorbar": {
            "outlinewidth": 0,
            "ticks": ""
           }
          },
          "colorscale": {
           "diverging": [
            [
             0,
             "#8e0152"
            ],
            [
             0.1,
             "#c51b7d"
            ],
            [
             0.2,
             "#de77ae"
            ],
            [
             0.3,
             "#f1b6da"
            ],
            [
             0.4,
             "#fde0ef"
            ],
            [
             0.5,
             "#f7f7f7"
            ],
            [
             0.6,
             "#e6f5d0"
            ],
            [
             0.7,
             "#b8e186"
            ],
            [
             0.8,
             "#7fbc41"
            ],
            [
             0.9,
             "#4d9221"
            ],
            [
             1,
             "#276419"
            ]
           ],
           "sequential": [
            [
             0,
             "#0d0887"
            ],
            [
             0.1111111111111111,
             "#46039f"
            ],
            [
             0.2222222222222222,
             "#7201a8"
            ],
            [
             0.3333333333333333,
             "#9c179e"
            ],
            [
             0.4444444444444444,
             "#bd3786"
            ],
            [
             0.5555555555555556,
             "#d8576b"
            ],
            [
             0.6666666666666666,
             "#ed7953"
            ],
            [
             0.7777777777777778,
             "#fb9f3a"
            ],
            [
             0.8888888888888888,
             "#fdca26"
            ],
            [
             1,
             "#f0f921"
            ]
           ],
           "sequentialminus": [
            [
             0,
             "#0d0887"
            ],
            [
             0.1111111111111111,
             "#46039f"
            ],
            [
             0.2222222222222222,
             "#7201a8"
            ],
            [
             0.3333333333333333,
             "#9c179e"
            ],
            [
             0.4444444444444444,
             "#bd3786"
            ],
            [
             0.5555555555555556,
             "#d8576b"
            ],
            [
             0.6666666666666666,
             "#ed7953"
            ],
            [
             0.7777777777777778,
             "#fb9f3a"
            ],
            [
             0.8888888888888888,
             "#fdca26"
            ],
            [
             1,
             "#f0f921"
            ]
           ]
          },
          "colorway": [
           "#636efa",
           "#EF553B",
           "#00cc96",
           "#ab63fa",
           "#FFA15A",
           "#19d3f3",
           "#FF6692",
           "#B6E880",
           "#FF97FF",
           "#FECB52"
          ],
          "font": {
           "color": "#2a3f5f"
          },
          "geo": {
           "bgcolor": "white",
           "lakecolor": "white",
           "landcolor": "#E5ECF6",
           "showlakes": true,
           "showland": true,
           "subunitcolor": "white"
          },
          "hoverlabel": {
           "align": "left"
          },
          "hovermode": "closest",
          "mapbox": {
           "style": "light"
          },
          "paper_bgcolor": "white",
          "plot_bgcolor": "#E5ECF6",
          "polar": {
           "angularaxis": {
            "gridcolor": "white",
            "linecolor": "white",
            "ticks": ""
           },
           "bgcolor": "#E5ECF6",
           "radialaxis": {
            "gridcolor": "white",
            "linecolor": "white",
            "ticks": ""
           }
          },
          "scene": {
           "xaxis": {
            "backgroundcolor": "#E5ECF6",
            "gridcolor": "white",
            "gridwidth": 2,
            "linecolor": "white",
            "showbackground": true,
            "ticks": "",
            "zerolinecolor": "white"
           },
           "yaxis": {
            "backgroundcolor": "#E5ECF6",
            "gridcolor": "white",
            "gridwidth": 2,
            "linecolor": "white",
            "showbackground": true,
            "ticks": "",
            "zerolinecolor": "white"
           },
           "zaxis": {
            "backgroundcolor": "#E5ECF6",
            "gridcolor": "white",
            "gridwidth": 2,
            "linecolor": "white",
            "showbackground": true,
            "ticks": "",
            "zerolinecolor": "white"
           }
          },
          "shapedefaults": {
           "line": {
            "color": "#2a3f5f"
           }
          },
          "ternary": {
           "aaxis": {
            "gridcolor": "white",
            "linecolor": "white",
            "ticks": ""
           },
           "baxis": {
            "gridcolor": "white",
            "linecolor": "white",
            "ticks": ""
           },
           "bgcolor": "#E5ECF6",
           "caxis": {
            "gridcolor": "white",
            "linecolor": "white",
            "ticks": ""
           }
          },
          "title": {
           "x": 0.05
          },
          "xaxis": {
           "automargin": true,
           "gridcolor": "white",
           "linecolor": "white",
           "ticks": "",
           "title": {
            "standoff": 15
           },
           "zerolinecolor": "white",
           "zerolinewidth": 2
          },
          "yaxis": {
           "automargin": true,
           "gridcolor": "white",
           "linecolor": "white",
           "ticks": "",
           "title": {
            "standoff": 15
           },
           "zerolinecolor": "white",
           "zerolinewidth": 2
          }
         }
        },
        "title": {
         "text": "GANTT Chart"
        },
        "xaxis": {
         "range": [
          "1970-01-01T00:00:00",
          "1970-01-02T06:10:58"
         ],
         "title": {
          "font": {
           "color": "#7f7f7f",
           "family": "Courier New, monospace",
           "size": 18
          },
          "text": "Time"
         }
        },
        "yaxis": {
         "title": {
          "font": {
           "color": "#7f7f7f",
           "family": "Courier New, monospace",
           "size": 18
          },
          "text": "Activities"
         }
        }
       }
      },
      "text/html": [
       "<div>                            <div id=\"edd6c61e-a000-4413-8a88-b65c82b7073b\" class=\"plotly-graph-div\" style=\"height:525px; width:100%;\"></div>            <script type=\"text/javascript\">                require([\"plotly\"], function(Plotly) {                    window.PLOTLYENV=window.PLOTLYENV || {};                                    if (document.getElementById(\"edd6c61e-a000-4413-8a88-b65c82b7073b\")) {                    Plotly.newPlot(                        \"edd6c61e-a000-4413-8a88-b65c82b7073b\",                        [{\"connectgaps\":false,\"hoverinfo\":\"y+name\",\"line\":{\"color\":\"rgb(42,200,180)\",\"width\":10},\"mode\":\"lines\",\"name\":\"unloading:Carrier A\",\"x\":[\"1970-01-01T03:45:43\",\"1970-01-01T03:45:43\",\"1970-01-01T04:31:00\",\"1970-01-01T04:31:00\",\"1970-01-01T04:31:00\",\"1970-01-01T07:26:03\",\"1970-01-01T07:26:03\",\"1970-01-01T08:11:20\",\"1970-01-01T08:11:20\",\"1970-01-01T08:11:20\",\"1970-01-01T11:06:23\",\"1970-01-01T11:06:23\",\"1970-01-01T11:51:40\",\"1970-01-01T11:51:40\",\"1970-01-01T11:51:40\",\"1970-01-01T15:20:03\",\"1970-01-01T15:20:03\",\"1970-01-01T16:05:20\",\"1970-01-01T16:05:20\",\"1970-01-01T16:05:20\",\"1970-01-01T18:59:15\",\"1970-01-01T18:59:15\",\"1970-01-01T19:44:32\",\"1970-01-01T19:44:32\",\"1970-01-01T19:44:32\",\"1970-01-01T22:39:35\",\"1970-01-01T22:39:35\",\"1970-01-01T23:24:52\",\"1970-01-01T23:24:52\",\"1970-01-01T23:24:52\",\"1970-01-02T02:19:55\",\"1970-01-02T02:19:55\",\"1970-01-02T03:05:12\",\"1970-01-02T03:05:12\",\"1970-01-02T03:05:12\"],\"y\":[\"Carrier A\",\"Carrier A\",\"Carrier A\",\"Carrier A\",null,\"Carrier A\",\"Carrier A\",\"Carrier A\",\"Carrier A\",null,\"Carrier A\",\"Carrier A\",\"Carrier A\",\"Carrier A\",null,\"Carrier A\",\"Carrier A\",\"Carrier A\",\"Carrier A\",null,\"Carrier A\",\"Carrier A\",\"Carrier A\",\"Carrier A\",null,\"Carrier A\",\"Carrier A\",\"Carrier A\",\"Carrier A\",null,\"Carrier A\",\"Carrier A\",\"Carrier A\",\"Carrier A\",null],\"type\":\"scatter\"},{\"connectgaps\":false,\"hoverinfo\":\"y+name\",\"line\":{\"color\":\"rgb(56,214,194)\",\"width\":10},\"mode\":\"lines\",\"name\":\"basic activity:Carrier A\",\"x\":[\"1970-01-01T00:00:00\",\"1970-01-01T00:00:00\",\"1970-01-01T00:45:17\",\"1970-01-01T00:45:17\",\"1970-01-01T00:45:17\",\"1970-01-01T04:31:00\",\"1970-01-01T04:31:00\",\"1970-01-01T05:16:17\",\"1970-01-01T05:16:17\",\"1970-01-01T05:16:17\",\"1970-01-01T08:11:20\",\"1970-01-01T08:11:20\",\"1970-01-01T08:56:37\",\"1970-01-01T08:56:37\",\"1970-01-01T08:56:37\",\"1970-01-01T11:51:40\",\"1970-01-01T11:51:40\",\"1970-01-01T12:36:57\",\"1970-01-01T12:36:57\",\"1970-01-01T12:36:57\",\"1970-01-01T16:05:20\",\"1970-01-01T16:05:20\",\"1970-01-01T16:50:37\",\"1970-01-01T16:50:37\",\"1970-01-01T16:50:37\",\"1970-01-01T19:44:32\",\"1970-01-01T19:44:32\",\"1970-01-01T20:29:49\",\"1970-01-01T20:29:49\",\"1970-01-01T20:29:49\",\"1970-01-01T23:24:52\",\"1970-01-01T23:24:52\",\"1970-01-02T00:10:09\",\"1970-01-02T00:10:09\",\"1970-01-02T00:10:09\"],\"y\":[\"Carrier A\",\"Carrier A\",\"Carrier A\",\"Carrier A\",null,\"Carrier A\",\"Carrier A\",\"Carrier A\",\"Carrier A\",null,\"Carrier A\",\"Carrier A\",\"Carrier A\",\"Carrier A\",null,\"Carrier A\",\"Carrier A\",\"Carrier A\",\"Carrier A\",null,\"Carrier A\",\"Carrier A\",\"Carrier A\",\"Carrier A\",null,\"Carrier A\",\"Carrier A\",\"Carrier A\",\"Carrier A\",null,\"Carrier A\",\"Carrier A\",\"Carrier A\",\"Carrier A\",null],\"type\":\"scatter\"},{\"connectgaps\":false,\"hoverinfo\":\"y+name\",\"line\":{\"color\":\"rgb(70,228,208)\",\"width\":10},\"mode\":\"lines\",\"name\":\"loading:Carrier A\",\"x\":[\"1970-01-01T02:27:06\",\"1970-01-01T02:27:06\",\"1970-01-01T03:00:26\",\"1970-01-01T03:00:26\",\"1970-01-01T03:00:26\",\"1970-01-01T06:07:26\",\"1970-01-01T06:07:26\",\"1970-01-01T06:40:46\",\"1970-01-01T06:40:46\",\"1970-01-01T06:40:46\",\"1970-01-01T09:47:46\",\"1970-01-01T09:47:46\",\"1970-01-01T10:21:06\",\"1970-01-01T10:21:06\",\"1970-01-01T10:21:06\",\"1970-01-01T14:01:26\",\"1970-01-01T14:01:26\",\"1970-01-01T14:34:46\",\"1970-01-01T14:34:46\",\"1970-01-01T14:34:46\",\"1970-01-01T17:40:38\",\"1970-01-01T17:40:38\",\"1970-01-01T18:13:58\",\"1970-01-01T18:13:58\",\"1970-01-01T18:13:58\",\"1970-01-01T21:20:58\",\"1970-01-01T21:20:58\",\"1970-01-01T21:54:18\",\"1970-01-01T21:54:18\",\"1970-01-01T21:54:18\",\"1970-01-02T01:01:18\",\"1970-01-02T01:01:18\",\"1970-01-02T01:34:38\",\"1970-01-02T01:34:38\",\"1970-01-02T01:34:38\",\"1970-01-01T02:27:06\",\"1970-01-01T02:27:06\",\"1970-01-01T03:00:26\",\"1970-01-01T03:00:26\",\"1970-01-01T03:00:26\",\"1970-01-01T06:07:26\",\"1970-01-01T06:07:26\",\"1970-01-01T06:40:46\",\"1970-01-01T06:40:46\",\"1970-01-01T06:40:46\",\"1970-01-01T09:47:46\",\"1970-01-01T09:47:46\",\"1970-01-01T10:21:06\",\"1970-01-01T10:21:06\",\"1970-01-01T10:21:06\",\"1970-01-01T14:01:26\",\"1970-01-01T14:01:26\",\"1970-01-01T14:34:46\",\"1970-01-01T14:34:46\",\"1970-01-01T14:34:46\",\"1970-01-01T17:40:38\",\"1970-01-01T17:40:38\",\"1970-01-01T18:13:58\",\"1970-01-01T18:13:58\",\"1970-01-01T18:13:58\",\"1970-01-01T21:20:58\",\"1970-01-01T21:20:58\",\"1970-01-01T21:54:18\",\"1970-01-01T21:54:18\",\"1970-01-01T21:54:18\",\"1970-01-02T01:01:18\",\"1970-01-02T01:01:18\",\"1970-01-02T01:34:38\",\"1970-01-02T01:34:38\",\"1970-01-02T01:34:38\"],\"y\":[\"Carrier A\",\"Carrier A\",\"Carrier A\",\"Carrier A\",null,\"Carrier A\",\"Carrier A\",\"Carrier A\",\"Carrier A\",null,\"Carrier A\",\"Carrier A\",\"Carrier A\",\"Carrier A\",null,\"Carrier A\",\"Carrier A\",\"Carrier A\",\"Carrier A\",null,\"Carrier A\",\"Carrier A\",\"Carrier A\",\"Carrier A\",null,\"Carrier A\",\"Carrier A\",\"Carrier A\",\"Carrier A\",null,\"Carrier A\",\"Carrier A\",\"Carrier A\",\"Carrier A\",null,\"Cutter T\",\"Cutter T\",\"Cutter T\",\"Cutter T\",null,\"Cutter T\",\"Cutter T\",\"Cutter T\",\"Cutter T\",null,\"Cutter T\",\"Cutter T\",\"Cutter T\",\"Cutter T\",null,\"Cutter T\",\"Cutter T\",\"Cutter T\",\"Cutter T\",null,\"Cutter T\",\"Cutter T\",\"Cutter T\",\"Cutter T\",null,\"Cutter T\",\"Cutter T\",\"Cutter T\",\"Cutter T\",null,\"Cutter T\",\"Cutter T\",\"Cutter T\",\"Cutter T\",null],\"type\":\"scatter\"},{\"connectgaps\":false,\"hoverinfo\":\"y+name\",\"line\":{\"color\":\"rgb(84,242,222)\",\"width\":10},\"mode\":\"lines\",\"name\":\"sailing full:Carrier A\",\"x\":[\"1970-01-01T03:00:26\",\"1970-01-01T03:00:26\",\"1970-01-01T03:45:43\",\"1970-01-01T03:45:43\",\"1970-01-01T03:45:43\",\"1970-01-01T06:40:46\",\"1970-01-01T06:40:46\",\"1970-01-01T07:26:03\",\"1970-01-01T07:26:03\",\"1970-01-01T07:26:03\",\"1970-01-01T10:21:06\",\"1970-01-01T10:21:06\",\"1970-01-01T11:06:23\",\"1970-01-01T11:06:23\",\"1970-01-01T11:06:23\",\"1970-01-01T14:34:46\",\"1970-01-01T14:34:46\",\"1970-01-01T15:20:03\",\"1970-01-01T15:20:03\",\"1970-01-01T15:20:03\",\"1970-01-01T18:13:58\",\"1970-01-01T18:13:58\",\"1970-01-01T18:59:15\",\"1970-01-01T18:59:15\",\"1970-01-01T18:59:15\",\"1970-01-01T21:54:18\",\"1970-01-01T21:54:18\",\"1970-01-01T22:39:35\",\"1970-01-01T22:39:35\",\"1970-01-01T22:39:35\",\"1970-01-02T01:34:38\",\"1970-01-02T01:34:38\",\"1970-01-02T02:19:55\",\"1970-01-02T02:19:55\",\"1970-01-02T02:19:55\"],\"y\":[\"Carrier A\",\"Carrier A\",\"Carrier A\",\"Carrier A\",null,\"Carrier A\",\"Carrier A\",\"Carrier A\",\"Carrier A\",null,\"Carrier A\",\"Carrier A\",\"Carrier A\",\"Carrier A\",null,\"Carrier A\",\"Carrier A\",\"Carrier A\",\"Carrier A\",null,\"Carrier A\",\"Carrier A\",\"Carrier A\",\"Carrier A\",null,\"Carrier A\",\"Carrier A\",\"Carrier A\",\"Carrier A\",null,\"Carrier A\",\"Carrier A\",\"Carrier A\",\"Carrier A\",null],\"type\":\"scatter\"},{\"connectgaps\":false,\"hoverinfo\":\"y+name\",\"line\":{\"color\":\"rgb(98,0,236)\",\"width\":10},\"mode\":\"lines\",\"name\":\"sailing empty:Carrier A\",\"x\":[\"1970-01-01T00:45:17\",\"1970-01-01T00:45:17\",\"1970-01-01T01:30:34\",\"1970-01-01T01:30:34\",\"1970-01-01T01:30:34\",\"1970-01-01T05:16:17\",\"1970-01-01T05:16:17\",\"1970-01-01T06:01:34\",\"1970-01-01T06:01:34\",\"1970-01-01T06:01:34\",\"1970-01-01T08:56:37\",\"1970-01-01T08:56:37\",\"1970-01-01T09:41:54\",\"1970-01-01T09:41:54\",\"1970-01-01T09:41:54\",\"1970-01-01T12:36:57\",\"1970-01-01T12:36:57\",\"1970-01-01T13:22:14\",\"1970-01-01T13:22:14\",\"1970-01-01T13:22:14\",\"1970-01-01T16:50:37\",\"1970-01-01T16:50:37\",\"1970-01-01T17:35:54\",\"1970-01-01T17:35:54\",\"1970-01-01T17:35:54\",\"1970-01-01T20:29:49\",\"1970-01-01T20:29:49\",\"1970-01-01T21:15:06\",\"1970-01-01T21:15:06\",\"1970-01-01T21:15:06\",\"1970-01-02T00:10:09\",\"1970-01-02T00:10:09\",\"1970-01-02T00:55:26\",\"1970-01-02T00:55:26\",\"1970-01-02T00:55:26\"],\"y\":[\"Carrier A\",\"Carrier A\",\"Carrier A\",\"Carrier A\",null,\"Carrier A\",\"Carrier A\",\"Carrier A\",\"Carrier A\",null,\"Carrier A\",\"Carrier A\",\"Carrier A\",\"Carrier A\",null,\"Carrier A\",\"Carrier A\",\"Carrier A\",\"Carrier A\",null,\"Carrier A\",\"Carrier A\",\"Carrier A\",\"Carrier A\",null,\"Carrier A\",\"Carrier A\",\"Carrier A\",\"Carrier A\",null,\"Carrier A\",\"Carrier A\",\"Carrier A\",\"Carrier A\",null],\"type\":\"scatter\"},{\"connectgaps\":false,\"hoverinfo\":\"y+name\",\"line\":{\"color\":\"rgb(112,14,250)\",\"width\":10},\"mode\":\"lines\",\"name\":\"loading:Carrier B\",\"x\":[\"1970-01-01T01:45:26\",\"1970-01-01T01:45:26\",\"1970-01-01T02:27:06\",\"1970-01-01T02:27:06\",\"1970-01-01T02:27:06\",\"1970-01-01T05:25:46\",\"1970-01-01T05:25:46\",\"1970-01-01T06:07:26\",\"1970-01-01T06:07:26\",\"1970-01-01T06:07:26\",\"1970-01-01T09:06:06\",\"1970-01-01T09:06:06\",\"1970-01-01T09:47:46\",\"1970-01-01T09:47:46\",\"1970-01-01T09:47:46\",\"1970-01-01T12:46:26\",\"1970-01-01T12:46:26\",\"1970-01-01T13:28:06\",\"1970-01-01T13:28:06\",\"1970-01-01T13:28:06\",\"1970-01-01T16:58:58\",\"1970-01-01T16:58:58\",\"1970-01-01T17:40:38\",\"1970-01-01T17:40:38\",\"1970-01-01T17:40:38\",\"1970-01-01T20:39:18\",\"1970-01-01T20:39:18\",\"1970-01-01T21:20:58\",\"1970-01-01T21:20:58\",\"1970-01-01T21:20:58\",\"1970-01-02T00:19:38\",\"1970-01-02T00:19:38\",\"1970-01-02T01:01:18\",\"1970-01-02T01:01:18\",\"1970-01-02T01:01:18\",\"1970-01-02T03:59:58\",\"1970-01-02T03:59:58\",\"1970-01-02T04:41:38\",\"1970-01-02T04:41:38\",\"1970-01-02T04:41:38\",\"1970-01-01T01:45:26\",\"1970-01-01T01:45:26\",\"1970-01-01T02:27:06\",\"1970-01-01T02:27:06\",\"1970-01-01T02:27:06\",\"1970-01-01T05:25:46\",\"1970-01-01T05:25:46\",\"1970-01-01T06:07:26\",\"1970-01-01T06:07:26\",\"1970-01-01T06:07:26\",\"1970-01-01T09:06:06\",\"1970-01-01T09:06:06\",\"1970-01-01T09:47:46\",\"1970-01-01T09:47:46\",\"1970-01-01T09:47:46\",\"1970-01-01T12:46:26\",\"1970-01-01T12:46:26\",\"1970-01-01T13:28:06\",\"1970-01-01T13:28:06\",\"1970-01-01T13:28:06\",\"1970-01-01T16:58:58\",\"1970-01-01T16:58:58\",\"1970-01-01T17:40:38\",\"1970-01-01T17:40:38\",\"1970-01-01T17:40:38\",\"1970-01-01T20:39:18\",\"1970-01-01T20:39:18\",\"1970-01-01T21:20:58\",\"1970-01-01T21:20:58\",\"1970-01-01T21:20:58\",\"1970-01-02T00:19:38\",\"1970-01-02T00:19:38\",\"1970-01-02T01:01:18\",\"1970-01-02T01:01:18\",\"1970-01-02T01:01:18\",\"1970-01-02T03:59:58\",\"1970-01-02T03:59:58\",\"1970-01-02T04:41:38\",\"1970-01-02T04:41:38\",\"1970-01-02T04:41:38\"],\"y\":[\"Carrier B\",\"Carrier B\",\"Carrier B\",\"Carrier B\",null,\"Carrier B\",\"Carrier B\",\"Carrier B\",\"Carrier B\",null,\"Carrier B\",\"Carrier B\",\"Carrier B\",\"Carrier B\",null,\"Carrier B\",\"Carrier B\",\"Carrier B\",\"Carrier B\",null,\"Carrier B\",\"Carrier B\",\"Carrier B\",\"Carrier B\",null,\"Carrier B\",\"Carrier B\",\"Carrier B\",\"Carrier B\",null,\"Carrier B\",\"Carrier B\",\"Carrier B\",\"Carrier B\",null,\"Carrier B\",\"Carrier B\",\"Carrier B\",\"Carrier B\",null,\"Cutter T\",\"Cutter T\",\"Cutter T\",\"Cutter T\",null,\"Cutter T\",\"Cutter T\",\"Cutter T\",\"Cutter T\",null,\"Cutter T\",\"Cutter T\",\"Cutter T\",\"Cutter T\",null,\"Cutter T\",\"Cutter T\",\"Cutter T\",\"Cutter T\",null,\"Cutter T\",\"Cutter T\",\"Cutter T\",\"Cutter T\",null,\"Cutter T\",\"Cutter T\",\"Cutter T\",\"Cutter T\",null,\"Cutter T\",\"Cutter T\",\"Cutter T\",\"Cutter T\",null,\"Cutter T\",\"Cutter T\",\"Cutter T\",\"Cutter T\",null],\"type\":\"scatter\"},{\"connectgaps\":false,\"hoverinfo\":\"y+name\",\"line\":{\"color\":\"rgb(126,28,8)\",\"width\":10},\"mode\":\"lines\",\"name\":\"unloading:Carrier B\",\"x\":[\"1970-01-01T03:11:46\",\"1970-01-01T03:11:46\",\"1970-01-01T03:56:26\",\"1970-01-01T03:56:26\",\"1970-01-01T03:56:26\",\"1970-01-01T06:52:06\",\"1970-01-01T06:52:06\",\"1970-01-01T07:36:46\",\"1970-01-01T07:36:46\",\"1970-01-01T07:36:46\",\"1970-01-01T10:32:26\",\"1970-01-01T10:32:26\",\"1970-01-01T11:17:06\",\"1970-01-01T11:17:06\",\"1970-01-01T11:17:06\",\"1970-01-01T14:12:46\",\"1970-01-01T14:12:46\",\"1970-01-01T14:57:26\",\"1970-01-01T14:57:26\",\"1970-01-01T14:57:26\",\"1970-01-01T18:25:18\",\"1970-01-01T18:25:18\",\"1970-01-01T19:09:58\",\"1970-01-01T19:09:58\",\"1970-01-01T19:09:58\",\"1970-01-01T22:05:38\",\"1970-01-01T22:05:38\",\"1970-01-01T22:50:18\",\"1970-01-01T22:50:18\",\"1970-01-01T22:50:18\",\"1970-01-02T01:45:58\",\"1970-01-02T01:45:58\",\"1970-01-02T02:30:38\",\"1970-01-02T02:30:38\",\"1970-01-02T02:30:38\",\"1970-01-02T05:26:18\",\"1970-01-02T05:26:18\",\"1970-01-02T06:10:58\",\"1970-01-02T06:10:58\",\"1970-01-02T06:10:58\"],\"y\":[\"Carrier B\",\"Carrier B\",\"Carrier B\",\"Carrier B\",null,\"Carrier B\",\"Carrier B\",\"Carrier B\",\"Carrier B\",null,\"Carrier B\",\"Carrier B\",\"Carrier B\",\"Carrier B\",null,\"Carrier B\",\"Carrier B\",\"Carrier B\",\"Carrier B\",null,\"Carrier B\",\"Carrier B\",\"Carrier B\",\"Carrier B\",null,\"Carrier B\",\"Carrier B\",\"Carrier B\",\"Carrier B\",null,\"Carrier B\",\"Carrier B\",\"Carrier B\",\"Carrier B\",null,\"Carrier B\",\"Carrier B\",\"Carrier B\",\"Carrier B\",null],\"type\":\"scatter\"},{\"connectgaps\":false,\"hoverinfo\":\"y+name\",\"line\":{\"color\":\"rgb(140,42,22)\",\"width\":10},\"mode\":\"lines\",\"name\":\"sailing full:Carrier B\",\"x\":[\"1970-01-01T02:27:06\",\"1970-01-01T02:27:06\",\"1970-01-01T03:11:46\",\"1970-01-01T03:11:46\",\"1970-01-01T03:11:46\",\"1970-01-01T06:07:26\",\"1970-01-01T06:07:26\",\"1970-01-01T06:52:06\",\"1970-01-01T06:52:06\",\"1970-01-01T06:52:06\",\"1970-01-01T09:47:46\",\"1970-01-01T09:47:46\",\"1970-01-01T10:32:26\",\"1970-01-01T10:32:26\",\"1970-01-01T10:32:26\",\"1970-01-01T13:28:06\",\"1970-01-01T13:28:06\",\"1970-01-01T14:12:46\",\"1970-01-01T14:12:46\",\"1970-01-01T14:12:46\",\"1970-01-01T17:40:38\",\"1970-01-01T17:40:38\",\"1970-01-01T18:25:18\",\"1970-01-01T18:25:18\",\"1970-01-01T18:25:18\",\"1970-01-01T21:20:58\",\"1970-01-01T21:20:58\",\"1970-01-01T22:05:38\",\"1970-01-01T22:05:38\",\"1970-01-01T22:05:38\",\"1970-01-02T01:01:18\",\"1970-01-02T01:01:18\",\"1970-01-02T01:45:58\",\"1970-01-02T01:45:58\",\"1970-01-02T01:45:58\",\"1970-01-02T04:41:38\",\"1970-01-02T04:41:38\",\"1970-01-02T05:26:18\",\"1970-01-02T05:26:18\",\"1970-01-02T05:26:18\"],\"y\":[\"Carrier B\",\"Carrier B\",\"Carrier B\",\"Carrier B\",null,\"Carrier B\",\"Carrier B\",\"Carrier B\",\"Carrier B\",null,\"Carrier B\",\"Carrier B\",\"Carrier B\",\"Carrier B\",null,\"Carrier B\",\"Carrier B\",\"Carrier B\",\"Carrier B\",null,\"Carrier B\",\"Carrier B\",\"Carrier B\",\"Carrier B\",null,\"Carrier B\",\"Carrier B\",\"Carrier B\",\"Carrier B\",null,\"Carrier B\",\"Carrier B\",\"Carrier B\",\"Carrier B\",null,\"Carrier B\",\"Carrier B\",\"Carrier B\",\"Carrier B\",null],\"type\":\"scatter\"},{\"connectgaps\":false,\"hoverinfo\":\"y+name\",\"line\":{\"color\":\"rgb(154,56,36)\",\"width\":10},\"mode\":\"lines\",\"name\":\"sailing empty:Carrier B\",\"x\":[\"1970-01-01T00:44:40\",\"1970-01-01T00:44:40\",\"1970-01-01T01:29:20\",\"1970-01-01T01:29:20\",\"1970-01-01T01:29:20\",\"1970-01-01T04:41:06\",\"1970-01-01T04:41:06\",\"1970-01-01T05:25:46\",\"1970-01-01T05:25:46\",\"1970-01-01T05:25:46\",\"1970-01-01T08:21:26\",\"1970-01-01T08:21:26\",\"1970-01-01T09:06:06\",\"1970-01-01T09:06:06\",\"1970-01-01T09:06:06\",\"1970-01-01T12:01:46\",\"1970-01-01T12:01:46\",\"1970-01-01T12:46:26\",\"1970-01-01T12:46:26\",\"1970-01-01T12:46:26\",\"1970-01-01T15:42:06\",\"1970-01-01T15:42:06\",\"1970-01-01T16:26:46\",\"1970-01-01T16:26:46\",\"1970-01-01T16:26:46\",\"1970-01-01T19:54:38\",\"1970-01-01T19:54:38\",\"1970-01-01T20:39:18\",\"1970-01-01T20:39:18\",\"1970-01-01T20:39:18\",\"1970-01-01T23:34:58\",\"1970-01-01T23:34:58\",\"1970-01-02T00:19:38\",\"1970-01-02T00:19:38\",\"1970-01-02T00:19:38\",\"1970-01-02T03:15:18\",\"1970-01-02T03:15:18\",\"1970-01-02T03:59:58\",\"1970-01-02T03:59:58\",\"1970-01-02T03:59:58\"],\"y\":[\"Carrier B\",\"Carrier B\",\"Carrier B\",\"Carrier B\",null,\"Carrier B\",\"Carrier B\",\"Carrier B\",\"Carrier B\",null,\"Carrier B\",\"Carrier B\",\"Carrier B\",\"Carrier B\",null,\"Carrier B\",\"Carrier B\",\"Carrier B\",\"Carrier B\",null,\"Carrier B\",\"Carrier B\",\"Carrier B\",\"Carrier B\",null,\"Carrier B\",\"Carrier B\",\"Carrier B\",\"Carrier B\",null,\"Carrier B\",\"Carrier B\",\"Carrier B\",\"Carrier B\",null,\"Carrier B\",\"Carrier B\",\"Carrier B\",\"Carrier B\",null],\"type\":\"scatter\"},{\"connectgaps\":false,\"hoverinfo\":\"y+name\",\"line\":{\"color\":\"rgb(168,70,50)\",\"width\":10},\"mode\":\"lines\",\"name\":\"basic activity:Carrier B\",\"x\":[\"1970-01-01T00:00:00\",\"1970-01-01T00:00:00\",\"1970-01-01T00:44:40\",\"1970-01-01T00:44:40\",\"1970-01-01T00:44:40\",\"1970-01-01T03:56:26\",\"1970-01-01T03:56:26\",\"1970-01-01T04:41:06\",\"1970-01-01T04:41:06\",\"1970-01-01T04:41:06\",\"1970-01-01T07:36:46\",\"1970-01-01T07:36:46\",\"1970-01-01T08:21:26\",\"1970-01-01T08:21:26\",\"1970-01-01T08:21:26\",\"1970-01-01T11:17:06\",\"1970-01-01T11:17:06\",\"1970-01-01T12:01:46\",\"1970-01-01T12:01:46\",\"1970-01-01T12:01:46\",\"1970-01-01T14:57:26\",\"1970-01-01T14:57:26\",\"1970-01-01T15:42:06\",\"1970-01-01T15:42:06\",\"1970-01-01T15:42:06\",\"1970-01-01T19:09:58\",\"1970-01-01T19:09:58\",\"1970-01-01T19:54:38\",\"1970-01-01T19:54:38\",\"1970-01-01T19:54:38\",\"1970-01-01T22:50:18\",\"1970-01-01T22:50:18\",\"1970-01-01T23:34:58\",\"1970-01-01T23:34:58\",\"1970-01-01T23:34:58\",\"1970-01-02T02:30:38\",\"1970-01-02T02:30:38\",\"1970-01-02T03:15:18\",\"1970-01-02T03:15:18\",\"1970-01-02T03:15:18\"],\"y\":[\"Carrier B\",\"Carrier B\",\"Carrier B\",\"Carrier B\",null,\"Carrier B\",\"Carrier B\",\"Carrier B\",\"Carrier B\",null,\"Carrier B\",\"Carrier B\",\"Carrier B\",\"Carrier B\",null,\"Carrier B\",\"Carrier B\",\"Carrier B\",\"Carrier B\",null,\"Carrier B\",\"Carrier B\",\"Carrier B\",\"Carrier B\",null,\"Carrier B\",\"Carrier B\",\"Carrier B\",\"Carrier B\",null,\"Carrier B\",\"Carrier B\",\"Carrier B\",\"Carrier B\",null,\"Carrier B\",\"Carrier B\",\"Carrier B\",\"Carrier B\",null],\"type\":\"scatter\"},{\"connectgaps\":false,\"hoverinfo\":\"y+name\",\"line\":{\"color\":\"rgb(182,84,64)\",\"width\":10},\"mode\":\"lines\",\"name\":\"sailing full:Carrier C\",\"x\":[\"1970-01-01T01:45:26\",\"1970-01-01T01:45:26\",\"1970-01-01T02:21:29\",\"1970-01-01T02:21:29\",\"1970-01-01T02:21:29\",\"1970-01-01T04:42:58\",\"1970-01-01T04:42:58\",\"1970-01-01T05:19:01\",\"1970-01-01T05:19:01\",\"1970-01-01T05:19:01\",\"1970-01-01T07:40:30\",\"1970-01-01T07:40:30\",\"1970-01-01T08:16:33\",\"1970-01-01T08:16:33\",\"1970-01-01T08:16:33\",\"1970-01-01T10:54:26\",\"1970-01-01T10:54:26\",\"1970-01-01T11:30:29\",\"1970-01-01T11:30:29\",\"1970-01-01T11:30:29\",\"1970-01-01T14:01:26\",\"1970-01-01T14:01:26\",\"1970-01-01T14:37:29\",\"1970-01-01T14:37:29\",\"1970-01-01T14:37:29\",\"1970-01-01T16:58:58\",\"1970-01-01T16:58:58\",\"1970-01-01T17:35:01\",\"1970-01-01T17:35:01\",\"1970-01-01T17:35:01\",\"1970-01-01T19:56:30\",\"1970-01-01T19:56:30\",\"1970-01-01T20:32:33\",\"1970-01-01T20:32:33\",\"1970-01-01T20:32:33\",\"1970-01-01T22:54:02\",\"1970-01-01T22:54:02\",\"1970-01-01T23:30:05\",\"1970-01-01T23:30:05\",\"1970-01-01T23:30:05\",\"1970-01-02T02:07:58\",\"1970-01-02T02:07:58\",\"1970-01-02T02:44:01\",\"1970-01-02T02:44:01\",\"1970-01-02T02:44:01\"],\"y\":[\"Carrier C\",\"Carrier C\",\"Carrier C\",\"Carrier C\",null,\"Carrier C\",\"Carrier C\",\"Carrier C\",\"Carrier C\",null,\"Carrier C\",\"Carrier C\",\"Carrier C\",\"Carrier C\",null,\"Carrier C\",\"Carrier C\",\"Carrier C\",\"Carrier C\",null,\"Carrier C\",\"Carrier C\",\"Carrier C\",\"Carrier C\",null,\"Carrier C\",\"Carrier C\",\"Carrier C\",\"Carrier C\",null,\"Carrier C\",\"Carrier C\",\"Carrier C\",\"Carrier C\",null,\"Carrier C\",\"Carrier C\",\"Carrier C\",\"Carrier C\",null,\"Carrier C\",\"Carrier C\",\"Carrier C\",\"Carrier C\",null],\"type\":\"scatter\"},{\"connectgaps\":false,\"hoverinfo\":\"y+name\",\"line\":{\"color\":\"rgb(196,98,78)\",\"width\":10},\"mode\":\"lines\",\"name\":\"unloading:Carrier C\",\"x\":[\"1970-01-01T02:21:29\",\"1970-01-01T02:21:29\",\"1970-01-01T02:57:32\",\"1970-01-01T02:57:32\",\"1970-01-01T02:57:32\",\"1970-01-01T05:19:01\",\"1970-01-01T05:19:01\",\"1970-01-01T05:55:04\",\"1970-01-01T05:55:04\",\"1970-01-01T05:55:04\",\"1970-01-01T08:16:33\",\"1970-01-01T08:16:33\",\"1970-01-01T08:52:36\",\"1970-01-01T08:52:36\",\"1970-01-01T08:52:36\",\"1970-01-01T11:30:29\",\"1970-01-01T11:30:29\",\"1970-01-01T12:06:32\",\"1970-01-01T12:06:32\",\"1970-01-01T12:06:32\",\"1970-01-01T14:37:29\",\"1970-01-01T14:37:29\",\"1970-01-01T15:13:32\",\"1970-01-01T15:13:32\",\"1970-01-01T15:13:32\",\"1970-01-01T17:35:01\",\"1970-01-01T17:35:01\",\"1970-01-01T18:11:04\",\"1970-01-01T18:11:04\",\"1970-01-01T18:11:04\",\"1970-01-01T20:32:33\",\"1970-01-01T20:32:33\",\"1970-01-01T21:08:36\",\"1970-01-01T21:08:36\",\"1970-01-01T21:08:36\",\"1970-01-01T23:30:05\",\"1970-01-01T23:30:05\",\"1970-01-02T00:06:08\",\"1970-01-02T00:06:08\",\"1970-01-02T00:06:08\",\"1970-01-02T02:44:01\",\"1970-01-02T02:44:01\",\"1970-01-02T03:20:04\",\"1970-01-02T03:20:04\",\"1970-01-02T03:20:04\"],\"y\":[\"Carrier C\",\"Carrier C\",\"Carrier C\",\"Carrier C\",null,\"Carrier C\",\"Carrier C\",\"Carrier C\",\"Carrier C\",null,\"Carrier C\",\"Carrier C\",\"Carrier C\",\"Carrier C\",null,\"Carrier C\",\"Carrier C\",\"Carrier C\",\"Carrier C\",null,\"Carrier C\",\"Carrier C\",\"Carrier C\",\"Carrier C\",null,\"Carrier C\",\"Carrier C\",\"Carrier C\",\"Carrier C\",null,\"Carrier C\",\"Carrier C\",\"Carrier C\",\"Carrier C\",null,\"Carrier C\",\"Carrier C\",\"Carrier C\",\"Carrier C\",null,\"Carrier C\",\"Carrier C\",\"Carrier C\",\"Carrier C\",null],\"type\":\"scatter\"},{\"connectgaps\":false,\"hoverinfo\":\"y+name\",\"line\":{\"color\":\"rgb(210,112,92)\",\"width\":10},\"mode\":\"lines\",\"name\":\"loading:Carrier C\",\"x\":[\"1970-01-01T01:12:06\",\"1970-01-01T01:12:06\",\"1970-01-01T01:45:26\",\"1970-01-01T01:45:26\",\"1970-01-01T01:45:26\",\"1970-01-01T04:09:38\",\"1970-01-01T04:09:38\",\"1970-01-01T04:42:58\",\"1970-01-01T04:42:58\",\"1970-01-01T04:42:58\",\"1970-01-01T07:07:10\",\"1970-01-01T07:07:10\",\"1970-01-01T07:40:30\",\"1970-01-01T07:40:30\",\"1970-01-01T07:40:30\",\"1970-01-01T10:21:06\",\"1970-01-01T10:21:06\",\"1970-01-01T10:54:26\",\"1970-01-01T10:54:26\",\"1970-01-01T10:54:26\",\"1970-01-01T13:28:06\",\"1970-01-01T13:28:06\",\"1970-01-01T14:01:26\",\"1970-01-01T14:01:26\",\"1970-01-01T14:01:26\",\"1970-01-01T16:25:38\",\"1970-01-01T16:25:38\",\"1970-01-01T16:58:58\",\"1970-01-01T16:58:58\",\"1970-01-01T16:58:58\",\"1970-01-01T19:23:10\",\"1970-01-01T19:23:10\",\"1970-01-01T19:56:30\",\"1970-01-01T19:56:30\",\"1970-01-01T19:56:30\",\"1970-01-01T22:20:42\",\"1970-01-01T22:20:42\",\"1970-01-01T22:54:02\",\"1970-01-01T22:54:02\",\"1970-01-01T22:54:02\",\"1970-01-02T01:34:38\",\"1970-01-02T01:34:38\",\"1970-01-02T02:07:58\",\"1970-01-02T02:07:58\",\"1970-01-02T02:07:58\",\"1970-01-01T01:12:06\",\"1970-01-01T01:12:06\",\"1970-01-01T01:45:26\",\"1970-01-01T01:45:26\",\"1970-01-01T01:45:26\",\"1970-01-01T04:09:38\",\"1970-01-01T04:09:38\",\"1970-01-01T04:42:58\",\"1970-01-01T04:42:58\",\"1970-01-01T04:42:58\",\"1970-01-01T07:07:10\",\"1970-01-01T07:07:10\",\"1970-01-01T07:40:30\",\"1970-01-01T07:40:30\",\"1970-01-01T07:40:30\",\"1970-01-01T10:21:06\",\"1970-01-01T10:21:06\",\"1970-01-01T10:54:26\",\"1970-01-01T10:54:26\",\"1970-01-01T10:54:26\",\"1970-01-01T13:28:06\",\"1970-01-01T13:28:06\",\"1970-01-01T14:01:26\",\"1970-01-01T14:01:26\",\"1970-01-01T14:01:26\",\"1970-01-01T16:25:38\",\"1970-01-01T16:25:38\",\"1970-01-01T16:58:58\",\"1970-01-01T16:58:58\",\"1970-01-01T16:58:58\",\"1970-01-01T19:23:10\",\"1970-01-01T19:23:10\",\"1970-01-01T19:56:30\",\"1970-01-01T19:56:30\",\"1970-01-01T19:56:30\",\"1970-01-01T22:20:42\",\"1970-01-01T22:20:42\",\"1970-01-01T22:54:02\",\"1970-01-01T22:54:02\",\"1970-01-01T22:54:02\",\"1970-01-02T01:34:38\",\"1970-01-02T01:34:38\",\"1970-01-02T02:07:58\",\"1970-01-02T02:07:58\",\"1970-01-02T02:07:58\"],\"y\":[\"Carrier C\",\"Carrier C\",\"Carrier C\",\"Carrier C\",null,\"Carrier C\",\"Carrier C\",\"Carrier C\",\"Carrier C\",null,\"Carrier C\",\"Carrier C\",\"Carrier C\",\"Carrier C\",null,\"Carrier C\",\"Carrier C\",\"Carrier C\",\"Carrier C\",null,\"Carrier C\",\"Carrier C\",\"Carrier C\",\"Carrier C\",null,\"Carrier C\",\"Carrier C\",\"Carrier C\",\"Carrier C\",null,\"Carrier C\",\"Carrier C\",\"Carrier C\",\"Carrier C\",null,\"Carrier C\",\"Carrier C\",\"Carrier C\",\"Carrier C\",null,\"Carrier C\",\"Carrier C\",\"Carrier C\",\"Carrier C\",null,\"Cutter T\",\"Cutter T\",\"Cutter T\",\"Cutter T\",null,\"Cutter T\",\"Cutter T\",\"Cutter T\",\"Cutter T\",null,\"Cutter T\",\"Cutter T\",\"Cutter T\",\"Cutter T\",null,\"Cutter T\",\"Cutter T\",\"Cutter T\",\"Cutter T\",null,\"Cutter T\",\"Cutter T\",\"Cutter T\",\"Cutter T\",null,\"Cutter T\",\"Cutter T\",\"Cutter T\",\"Cutter T\",null,\"Cutter T\",\"Cutter T\",\"Cutter T\",\"Cutter T\",null,\"Cutter T\",\"Cutter T\",\"Cutter T\",\"Cutter T\",null,\"Cutter T\",\"Cutter T\",\"Cutter T\",\"Cutter T\",null],\"type\":\"scatter\"},{\"connectgaps\":false,\"hoverinfo\":\"y+name\",\"line\":{\"color\":\"rgb(224,126,106)\",\"width\":10},\"mode\":\"lines\",\"name\":\"basic activity:Carrier C\",\"x\":[\"1970-01-01T00:00:00\",\"1970-01-01T00:00:00\",\"1970-01-01T00:36:03\",\"1970-01-01T00:36:03\",\"1970-01-01T00:36:03\",\"1970-01-01T02:57:32\",\"1970-01-01T02:57:32\",\"1970-01-01T03:33:35\",\"1970-01-01T03:33:35\",\"1970-01-01T03:33:35\",\"1970-01-01T05:55:04\",\"1970-01-01T05:55:04\",\"1970-01-01T06:31:07\",\"1970-01-01T06:31:07\",\"1970-01-01T06:31:07\",\"1970-01-01T08:52:36\",\"1970-01-01T08:52:36\",\"1970-01-01T09:28:39\",\"1970-01-01T09:28:39\",\"1970-01-01T09:28:39\",\"1970-01-01T12:06:32\",\"1970-01-01T12:06:32\",\"1970-01-01T12:42:35\",\"1970-01-01T12:42:35\",\"1970-01-01T12:42:35\",\"1970-01-01T15:13:32\",\"1970-01-01T15:13:32\",\"1970-01-01T15:49:35\",\"1970-01-01T15:49:35\",\"1970-01-01T15:49:35\",\"1970-01-01T18:11:04\",\"1970-01-01T18:11:04\",\"1970-01-01T18:47:07\",\"1970-01-01T18:47:07\",\"1970-01-01T18:47:07\",\"1970-01-01T21:08:36\",\"1970-01-01T21:08:36\",\"1970-01-01T21:44:39\",\"1970-01-01T21:44:39\",\"1970-01-01T21:44:39\",\"1970-01-02T00:06:08\",\"1970-01-02T00:06:08\",\"1970-01-02T00:42:11\",\"1970-01-02T00:42:11\",\"1970-01-02T00:42:11\"],\"y\":[\"Carrier C\",\"Carrier C\",\"Carrier C\",\"Carrier C\",null,\"Carrier C\",\"Carrier C\",\"Carrier C\",\"Carrier C\",null,\"Carrier C\",\"Carrier C\",\"Carrier C\",\"Carrier C\",null,\"Carrier C\",\"Carrier C\",\"Carrier C\",\"Carrier C\",null,\"Carrier C\",\"Carrier C\",\"Carrier C\",\"Carrier C\",null,\"Carrier C\",\"Carrier C\",\"Carrier C\",\"Carrier C\",null,\"Carrier C\",\"Carrier C\",\"Carrier C\",\"Carrier C\",null,\"Carrier C\",\"Carrier C\",\"Carrier C\",\"Carrier C\",null,\"Carrier C\",\"Carrier C\",\"Carrier C\",\"Carrier C\",null],\"type\":\"scatter\"},{\"connectgaps\":false,\"hoverinfo\":\"y+name\",\"line\":{\"color\":\"rgb(238,140,120)\",\"width\":10},\"mode\":\"lines\",\"name\":\"sailing empty:Carrier C\",\"x\":[\"1970-01-01T00:36:03\",\"1970-01-01T00:36:03\",\"1970-01-01T01:12:06\",\"1970-01-01T01:12:06\",\"1970-01-01T01:12:06\",\"1970-01-01T03:33:35\",\"1970-01-01T03:33:35\",\"1970-01-01T04:09:38\",\"1970-01-01T04:09:38\",\"1970-01-01T04:09:38\",\"1970-01-01T06:31:07\",\"1970-01-01T06:31:07\",\"1970-01-01T07:07:10\",\"1970-01-01T07:07:10\",\"1970-01-01T07:07:10\",\"1970-01-01T09:28:39\",\"1970-01-01T09:28:39\",\"1970-01-01T10:04:42\",\"1970-01-01T10:04:42\",\"1970-01-01T10:04:42\",\"1970-01-01T12:42:35\",\"1970-01-01T12:42:35\",\"1970-01-01T13:18:38\",\"1970-01-01T13:18:38\",\"1970-01-01T13:18:38\",\"1970-01-01T15:49:35\",\"1970-01-01T15:49:35\",\"1970-01-01T16:25:38\",\"1970-01-01T16:25:38\",\"1970-01-01T16:25:38\",\"1970-01-01T18:47:07\",\"1970-01-01T18:47:07\",\"1970-01-01T19:23:10\",\"1970-01-01T19:23:10\",\"1970-01-01T19:23:10\",\"1970-01-01T21:44:39\",\"1970-01-01T21:44:39\",\"1970-01-01T22:20:42\",\"1970-01-01T22:20:42\",\"1970-01-01T22:20:42\",\"1970-01-02T00:42:11\",\"1970-01-02T00:42:11\",\"1970-01-02T01:18:14\",\"1970-01-02T01:18:14\",\"1970-01-02T01:18:14\"],\"y\":[\"Carrier C\",\"Carrier C\",\"Carrier C\",\"Carrier C\",null,\"Carrier C\",\"Carrier C\",\"Carrier C\",\"Carrier C\",null,\"Carrier C\",\"Carrier C\",\"Carrier C\",\"Carrier C\",null,\"Carrier C\",\"Carrier C\",\"Carrier C\",\"Carrier C\",null,\"Carrier C\",\"Carrier C\",\"Carrier C\",\"Carrier C\",null,\"Carrier C\",\"Carrier C\",\"Carrier C\",\"Carrier C\",null,\"Carrier C\",\"Carrier C\",\"Carrier C\",\"Carrier C\",null,\"Carrier C\",\"Carrier C\",\"Carrier C\",\"Carrier C\",null,\"Carrier C\",\"Carrier C\",\"Carrier C\",\"Carrier C\",null],\"type\":\"scatter\"},{\"connectgaps\":false,\"hoverinfo\":\"y+name\",\"line\":{\"color\":\"rgb(252,154,134)\",\"width\":10},\"mode\":\"lines\",\"name\":\"loading:Carrier B\",\"x\":[\"1970-01-01T01:45:26\",\"1970-01-01T01:45:26\",\"1970-01-01T02:27:06\",\"1970-01-01T02:27:06\",\"1970-01-01T02:27:06\",\"1970-01-01T05:25:46\",\"1970-01-01T05:25:46\",\"1970-01-01T06:07:26\",\"1970-01-01T06:07:26\",\"1970-01-01T06:07:26\",\"1970-01-01T09:06:06\",\"1970-01-01T09:06:06\",\"1970-01-01T09:47:46\",\"1970-01-01T09:47:46\",\"1970-01-01T09:47:46\",\"1970-01-01T12:46:26\",\"1970-01-01T12:46:26\",\"1970-01-01T13:28:06\",\"1970-01-01T13:28:06\",\"1970-01-01T13:28:06\",\"1970-01-01T16:58:58\",\"1970-01-01T16:58:58\",\"1970-01-01T17:40:38\",\"1970-01-01T17:40:38\",\"1970-01-01T17:40:38\",\"1970-01-01T20:39:18\",\"1970-01-01T20:39:18\",\"1970-01-01T21:20:58\",\"1970-01-01T21:20:58\",\"1970-01-01T21:20:58\",\"1970-01-02T00:19:38\",\"1970-01-02T00:19:38\",\"1970-01-02T01:01:18\",\"1970-01-02T01:01:18\",\"1970-01-02T01:01:18\",\"1970-01-02T03:59:58\",\"1970-01-02T03:59:58\",\"1970-01-02T04:41:38\",\"1970-01-02T04:41:38\",\"1970-01-02T04:41:38\",\"1970-01-01T01:45:26\",\"1970-01-01T01:45:26\",\"1970-01-01T02:27:06\",\"1970-01-01T02:27:06\",\"1970-01-01T02:27:06\",\"1970-01-01T05:25:46\",\"1970-01-01T05:25:46\",\"1970-01-01T06:07:26\",\"1970-01-01T06:07:26\",\"1970-01-01T06:07:26\",\"1970-01-01T09:06:06\",\"1970-01-01T09:06:06\",\"1970-01-01T09:47:46\",\"1970-01-01T09:47:46\",\"1970-01-01T09:47:46\",\"1970-01-01T12:46:26\",\"1970-01-01T12:46:26\",\"1970-01-01T13:28:06\",\"1970-01-01T13:28:06\",\"1970-01-01T13:28:06\",\"1970-01-01T16:58:58\",\"1970-01-01T16:58:58\",\"1970-01-01T17:40:38\",\"1970-01-01T17:40:38\",\"1970-01-01T17:40:38\",\"1970-01-01T20:39:18\",\"1970-01-01T20:39:18\",\"1970-01-01T21:20:58\",\"1970-01-01T21:20:58\",\"1970-01-01T21:20:58\",\"1970-01-02T00:19:38\",\"1970-01-02T00:19:38\",\"1970-01-02T01:01:18\",\"1970-01-02T01:01:18\",\"1970-01-02T01:01:18\",\"1970-01-02T03:59:58\",\"1970-01-02T03:59:58\",\"1970-01-02T04:41:38\",\"1970-01-02T04:41:38\",\"1970-01-02T04:41:38\"],\"y\":[\"Carrier B\",\"Carrier B\",\"Carrier B\",\"Carrier B\",null,\"Carrier B\",\"Carrier B\",\"Carrier B\",\"Carrier B\",null,\"Carrier B\",\"Carrier B\",\"Carrier B\",\"Carrier B\",null,\"Carrier B\",\"Carrier B\",\"Carrier B\",\"Carrier B\",null,\"Carrier B\",\"Carrier B\",\"Carrier B\",\"Carrier B\",null,\"Carrier B\",\"Carrier B\",\"Carrier B\",\"Carrier B\",null,\"Carrier B\",\"Carrier B\",\"Carrier B\",\"Carrier B\",null,\"Carrier B\",\"Carrier B\",\"Carrier B\",\"Carrier B\",null,\"Cutter T\",\"Cutter T\",\"Cutter T\",\"Cutter T\",null,\"Cutter T\",\"Cutter T\",\"Cutter T\",\"Cutter T\",null,\"Cutter T\",\"Cutter T\",\"Cutter T\",\"Cutter T\",null,\"Cutter T\",\"Cutter T\",\"Cutter T\",\"Cutter T\",null,\"Cutter T\",\"Cutter T\",\"Cutter T\",\"Cutter T\",null,\"Cutter T\",\"Cutter T\",\"Cutter T\",\"Cutter T\",null,\"Cutter T\",\"Cutter T\",\"Cutter T\",\"Cutter T\",null,\"Cutter T\",\"Cutter T\",\"Cutter T\",\"Cutter T\",null],\"type\":\"scatter\"},{\"connectgaps\":false,\"hoverinfo\":\"y+name\",\"line\":{\"color\":\"rgb(10,168,148)\",\"width\":10},\"mode\":\"lines\",\"name\":\"loading:Carrier A\",\"x\":[\"1970-01-01T02:27:06\",\"1970-01-01T02:27:06\",\"1970-01-01T03:00:26\",\"1970-01-01T03:00:26\",\"1970-01-01T03:00:26\",\"1970-01-01T06:07:26\",\"1970-01-01T06:07:26\",\"1970-01-01T06:40:46\",\"1970-01-01T06:40:46\",\"1970-01-01T06:40:46\",\"1970-01-01T09:47:46\",\"1970-01-01T09:47:46\",\"1970-01-01T10:21:06\",\"1970-01-01T10:21:06\",\"1970-01-01T10:21:06\",\"1970-01-01T14:01:26\",\"1970-01-01T14:01:26\",\"1970-01-01T14:34:46\",\"1970-01-01T14:34:46\",\"1970-01-01T14:34:46\",\"1970-01-01T17:40:38\",\"1970-01-01T17:40:38\",\"1970-01-01T18:13:58\",\"1970-01-01T18:13:58\",\"1970-01-01T18:13:58\",\"1970-01-01T21:20:58\",\"1970-01-01T21:20:58\",\"1970-01-01T21:54:18\",\"1970-01-01T21:54:18\",\"1970-01-01T21:54:18\",\"1970-01-02T01:01:18\",\"1970-01-02T01:01:18\",\"1970-01-02T01:34:38\",\"1970-01-02T01:34:38\",\"1970-01-02T01:34:38\",\"1970-01-01T02:27:06\",\"1970-01-01T02:27:06\",\"1970-01-01T03:00:26\",\"1970-01-01T03:00:26\",\"1970-01-01T03:00:26\",\"1970-01-01T06:07:26\",\"1970-01-01T06:07:26\",\"1970-01-01T06:40:46\",\"1970-01-01T06:40:46\",\"1970-01-01T06:40:46\",\"1970-01-01T09:47:46\",\"1970-01-01T09:47:46\",\"1970-01-01T10:21:06\",\"1970-01-01T10:21:06\",\"1970-01-01T10:21:06\",\"1970-01-01T14:01:26\",\"1970-01-01T14:01:26\",\"1970-01-01T14:34:46\",\"1970-01-01T14:34:46\",\"1970-01-01T14:34:46\",\"1970-01-01T17:40:38\",\"1970-01-01T17:40:38\",\"1970-01-01T18:13:58\",\"1970-01-01T18:13:58\",\"1970-01-01T18:13:58\",\"1970-01-01T21:20:58\",\"1970-01-01T21:20:58\",\"1970-01-01T21:54:18\",\"1970-01-01T21:54:18\",\"1970-01-01T21:54:18\",\"1970-01-02T01:01:18\",\"1970-01-02T01:01:18\",\"1970-01-02T01:34:38\",\"1970-01-02T01:34:38\",\"1970-01-02T01:34:38\"],\"y\":[\"Carrier A\",\"Carrier A\",\"Carrier A\",\"Carrier A\",null,\"Carrier A\",\"Carrier A\",\"Carrier A\",\"Carrier A\",null,\"Carrier A\",\"Carrier A\",\"Carrier A\",\"Carrier A\",null,\"Carrier A\",\"Carrier A\",\"Carrier A\",\"Carrier A\",null,\"Carrier A\",\"Carrier A\",\"Carrier A\",\"Carrier A\",null,\"Carrier A\",\"Carrier A\",\"Carrier A\",\"Carrier A\",null,\"Carrier A\",\"Carrier A\",\"Carrier A\",\"Carrier A\",null,\"Cutter T\",\"Cutter T\",\"Cutter T\",\"Cutter T\",null,\"Cutter T\",\"Cutter T\",\"Cutter T\",\"Cutter T\",null,\"Cutter T\",\"Cutter T\",\"Cutter T\",\"Cutter T\",null,\"Cutter T\",\"Cutter T\",\"Cutter T\",\"Cutter T\",null,\"Cutter T\",\"Cutter T\",\"Cutter T\",\"Cutter T\",null,\"Cutter T\",\"Cutter T\",\"Cutter T\",\"Cutter T\",null,\"Cutter T\",\"Cutter T\",\"Cutter T\",\"Cutter T\",null],\"type\":\"scatter\"},{\"connectgaps\":false,\"hoverinfo\":\"y+name\",\"line\":{\"color\":\"rgb(24,182,162)\",\"width\":10},\"mode\":\"lines\",\"name\":\"loading:Carrier C\",\"x\":[\"1970-01-01T01:12:06\",\"1970-01-01T01:12:06\",\"1970-01-01T01:45:26\",\"1970-01-01T01:45:26\",\"1970-01-01T01:45:26\",\"1970-01-01T04:09:38\",\"1970-01-01T04:09:38\",\"1970-01-01T04:42:58\",\"1970-01-01T04:42:58\",\"1970-01-01T04:42:58\",\"1970-01-01T07:07:10\",\"1970-01-01T07:07:10\",\"1970-01-01T07:40:30\",\"1970-01-01T07:40:30\",\"1970-01-01T07:40:30\",\"1970-01-01T10:21:06\",\"1970-01-01T10:21:06\",\"1970-01-01T10:54:26\",\"1970-01-01T10:54:26\",\"1970-01-01T10:54:26\",\"1970-01-01T13:28:06\",\"1970-01-01T13:28:06\",\"1970-01-01T14:01:26\",\"1970-01-01T14:01:26\",\"1970-01-01T14:01:26\",\"1970-01-01T16:25:38\",\"1970-01-01T16:25:38\",\"1970-01-01T16:58:58\",\"1970-01-01T16:58:58\",\"1970-01-01T16:58:58\",\"1970-01-01T19:23:10\",\"1970-01-01T19:23:10\",\"1970-01-01T19:56:30\",\"1970-01-01T19:56:30\",\"1970-01-01T19:56:30\",\"1970-01-01T22:20:42\",\"1970-01-01T22:20:42\",\"1970-01-01T22:54:02\",\"1970-01-01T22:54:02\",\"1970-01-01T22:54:02\",\"1970-01-02T01:34:38\",\"1970-01-02T01:34:38\",\"1970-01-02T02:07:58\",\"1970-01-02T02:07:58\",\"1970-01-02T02:07:58\",\"1970-01-01T01:12:06\",\"1970-01-01T01:12:06\",\"1970-01-01T01:45:26\",\"1970-01-01T01:45:26\",\"1970-01-01T01:45:26\",\"1970-01-01T04:09:38\",\"1970-01-01T04:09:38\",\"1970-01-01T04:42:58\",\"1970-01-01T04:42:58\",\"1970-01-01T04:42:58\",\"1970-01-01T07:07:10\",\"1970-01-01T07:07:10\",\"1970-01-01T07:40:30\",\"1970-01-01T07:40:30\",\"1970-01-01T07:40:30\",\"1970-01-01T10:21:06\",\"1970-01-01T10:21:06\",\"1970-01-01T10:54:26\",\"1970-01-01T10:54:26\",\"1970-01-01T10:54:26\",\"1970-01-01T13:28:06\",\"1970-01-01T13:28:06\",\"1970-01-01T14:01:26\",\"1970-01-01T14:01:26\",\"1970-01-01T14:01:26\",\"1970-01-01T16:25:38\",\"1970-01-01T16:25:38\",\"1970-01-01T16:58:58\",\"1970-01-01T16:58:58\",\"1970-01-01T16:58:58\",\"1970-01-01T19:23:10\",\"1970-01-01T19:23:10\",\"1970-01-01T19:56:30\",\"1970-01-01T19:56:30\",\"1970-01-01T19:56:30\",\"1970-01-01T22:20:42\",\"1970-01-01T22:20:42\",\"1970-01-01T22:54:02\",\"1970-01-01T22:54:02\",\"1970-01-01T22:54:02\",\"1970-01-02T01:34:38\",\"1970-01-02T01:34:38\",\"1970-01-02T02:07:58\",\"1970-01-02T02:07:58\",\"1970-01-02T02:07:58\"],\"y\":[\"Carrier C\",\"Carrier C\",\"Carrier C\",\"Carrier C\",null,\"Carrier C\",\"Carrier C\",\"Carrier C\",\"Carrier C\",null,\"Carrier C\",\"Carrier C\",\"Carrier C\",\"Carrier C\",null,\"Carrier C\",\"Carrier C\",\"Carrier C\",\"Carrier C\",null,\"Carrier C\",\"Carrier C\",\"Carrier C\",\"Carrier C\",null,\"Carrier C\",\"Carrier C\",\"Carrier C\",\"Carrier C\",null,\"Carrier C\",\"Carrier C\",\"Carrier C\",\"Carrier C\",null,\"Carrier C\",\"Carrier C\",\"Carrier C\",\"Carrier C\",null,\"Carrier C\",\"Carrier C\",\"Carrier C\",\"Carrier C\",null,\"Cutter T\",\"Cutter T\",\"Cutter T\",\"Cutter T\",null,\"Cutter T\",\"Cutter T\",\"Cutter T\",\"Cutter T\",null,\"Cutter T\",\"Cutter T\",\"Cutter T\",\"Cutter T\",null,\"Cutter T\",\"Cutter T\",\"Cutter T\",\"Cutter T\",null,\"Cutter T\",\"Cutter T\",\"Cutter T\",\"Cutter T\",null,\"Cutter T\",\"Cutter T\",\"Cutter T\",\"Cutter T\",null,\"Cutter T\",\"Cutter T\",\"Cutter T\",\"Cutter T\",null,\"Cutter T\",\"Cutter T\",\"Cutter T\",\"Cutter T\",null,\"Cutter T\",\"Cutter T\",\"Cutter T\",\"Cutter T\",null],\"type\":\"scatter\"}],                        {\"hovermode\":\"closest\",\"legend\":{\"orientation\":\"h\",\"x\":0,\"y\":-0.2},\"template\":{\"data\":{\"barpolar\":[{\"marker\":{\"line\":{\"color\":\"#E5ECF6\",\"width\":0.5},\"pattern\":{\"fillmode\":\"overlay\",\"size\":10,\"solidity\":0.2}},\"type\":\"barpolar\"}],\"bar\":[{\"error_x\":{\"color\":\"#2a3f5f\"},\"error_y\":{\"color\":\"#2a3f5f\"},\"marker\":{\"line\":{\"color\":\"#E5ECF6\",\"width\":0.5},\"pattern\":{\"fillmode\":\"overlay\",\"size\":10,\"solidity\":0.2}},\"type\":\"bar\"}],\"carpet\":[{\"aaxis\":{\"endlinecolor\":\"#2a3f5f\",\"gridcolor\":\"white\",\"linecolor\":\"white\",\"minorgridcolor\":\"white\",\"startlinecolor\":\"#2a3f5f\"},\"baxis\":{\"endlinecolor\":\"#2a3f5f\",\"gridcolor\":\"white\",\"linecolor\":\"white\",\"minorgridcolor\":\"white\",\"startlinecolor\":\"#2a3f5f\"},\"type\":\"carpet\"}],\"choropleth\":[{\"colorbar\":{\"outlinewidth\":0,\"ticks\":\"\"},\"type\":\"choropleth\"}],\"contourcarpet\":[{\"colorbar\":{\"outlinewidth\":0,\"ticks\":\"\"},\"type\":\"contourcarpet\"}],\"contour\":[{\"colorbar\":{\"outlinewidth\":0,\"ticks\":\"\"},\"colorscale\":[[0.0,\"#0d0887\"],[0.1111111111111111,\"#46039f\"],[0.2222222222222222,\"#7201a8\"],[0.3333333333333333,\"#9c179e\"],[0.4444444444444444,\"#bd3786\"],[0.5555555555555556,\"#d8576b\"],[0.6666666666666666,\"#ed7953\"],[0.7777777777777778,\"#fb9f3a\"],[0.8888888888888888,\"#fdca26\"],[1.0,\"#f0f921\"]],\"type\":\"contour\"}],\"heatmapgl\":[{\"colorbar\":{\"outlinewidth\":0,\"ticks\":\"\"},\"colorscale\":[[0.0,\"#0d0887\"],[0.1111111111111111,\"#46039f\"],[0.2222222222222222,\"#7201a8\"],[0.3333333333333333,\"#9c179e\"],[0.4444444444444444,\"#bd3786\"],[0.5555555555555556,\"#d8576b\"],[0.6666666666666666,\"#ed7953\"],[0.7777777777777778,\"#fb9f3a\"],[0.8888888888888888,\"#fdca26\"],[1.0,\"#f0f921\"]],\"type\":\"heatmapgl\"}],\"heatmap\":[{\"colorbar\":{\"outlinewidth\":0,\"ticks\":\"\"},\"colorscale\":[[0.0,\"#0d0887\"],[0.1111111111111111,\"#46039f\"],[0.2222222222222222,\"#7201a8\"],[0.3333333333333333,\"#9c179e\"],[0.4444444444444444,\"#bd3786\"],[0.5555555555555556,\"#d8576b\"],[0.6666666666666666,\"#ed7953\"],[0.7777777777777778,\"#fb9f3a\"],[0.8888888888888888,\"#fdca26\"],[1.0,\"#f0f921\"]],\"type\":\"heatmap\"}],\"histogram2dcontour\":[{\"colorbar\":{\"outlinewidth\":0,\"ticks\":\"\"},\"colorscale\":[[0.0,\"#0d0887\"],[0.1111111111111111,\"#46039f\"],[0.2222222222222222,\"#7201a8\"],[0.3333333333333333,\"#9c179e\"],[0.4444444444444444,\"#bd3786\"],[0.5555555555555556,\"#d8576b\"],[0.6666666666666666,\"#ed7953\"],[0.7777777777777778,\"#fb9f3a\"],[0.8888888888888888,\"#fdca26\"],[1.0,\"#f0f921\"]],\"type\":\"histogram2dcontour\"}],\"histogram2d\":[{\"colorbar\":{\"outlinewidth\":0,\"ticks\":\"\"},\"colorscale\":[[0.0,\"#0d0887\"],[0.1111111111111111,\"#46039f\"],[0.2222222222222222,\"#7201a8\"],[0.3333333333333333,\"#9c179e\"],[0.4444444444444444,\"#bd3786\"],[0.5555555555555556,\"#d8576b\"],[0.6666666666666666,\"#ed7953\"],[0.7777777777777778,\"#fb9f3a\"],[0.8888888888888888,\"#fdca26\"],[1.0,\"#f0f921\"]],\"type\":\"histogram2d\"}],\"histogram\":[{\"marker\":{\"pattern\":{\"fillmode\":\"overlay\",\"size\":10,\"solidity\":0.2}},\"type\":\"histogram\"}],\"mesh3d\":[{\"colorbar\":{\"outlinewidth\":0,\"ticks\":\"\"},\"type\":\"mesh3d\"}],\"parcoords\":[{\"line\":{\"colorbar\":{\"outlinewidth\":0,\"ticks\":\"\"}},\"type\":\"parcoords\"}],\"pie\":[{\"automargin\":true,\"type\":\"pie\"}],\"scatter3d\":[{\"line\":{\"colorbar\":{\"outlinewidth\":0,\"ticks\":\"\"}},\"marker\":{\"colorbar\":{\"outlinewidth\":0,\"ticks\":\"\"}},\"type\":\"scatter3d\"}],\"scattercarpet\":[{\"marker\":{\"colorbar\":{\"outlinewidth\":0,\"ticks\":\"\"}},\"type\":\"scattercarpet\"}],\"scattergeo\":[{\"marker\":{\"colorbar\":{\"outlinewidth\":0,\"ticks\":\"\"}},\"type\":\"scattergeo\"}],\"scattergl\":[{\"marker\":{\"colorbar\":{\"outlinewidth\":0,\"ticks\":\"\"}},\"type\":\"scattergl\"}],\"scattermapbox\":[{\"marker\":{\"colorbar\":{\"outlinewidth\":0,\"ticks\":\"\"}},\"type\":\"scattermapbox\"}],\"scatterpolargl\":[{\"marker\":{\"colorbar\":{\"outlinewidth\":0,\"ticks\":\"\"}},\"type\":\"scatterpolargl\"}],\"scatterpolar\":[{\"marker\":{\"colorbar\":{\"outlinewidth\":0,\"ticks\":\"\"}},\"type\":\"scatterpolar\"}],\"scatter\":[{\"fillpattern\":{\"fillmode\":\"overlay\",\"size\":10,\"solidity\":0.2},\"type\":\"scatter\"}],\"scatterternary\":[{\"marker\":{\"colorbar\":{\"outlinewidth\":0,\"ticks\":\"\"}},\"type\":\"scatterternary\"}],\"surface\":[{\"colorbar\":{\"outlinewidth\":0,\"ticks\":\"\"},\"colorscale\":[[0.0,\"#0d0887\"],[0.1111111111111111,\"#46039f\"],[0.2222222222222222,\"#7201a8\"],[0.3333333333333333,\"#9c179e\"],[0.4444444444444444,\"#bd3786\"],[0.5555555555555556,\"#d8576b\"],[0.6666666666666666,\"#ed7953\"],[0.7777777777777778,\"#fb9f3a\"],[0.8888888888888888,\"#fdca26\"],[1.0,\"#f0f921\"]],\"type\":\"surface\"}],\"table\":[{\"cells\":{\"fill\":{\"color\":\"#EBF0F8\"},\"line\":{\"color\":\"white\"}},\"header\":{\"fill\":{\"color\":\"#C8D4E3\"},\"line\":{\"color\":\"white\"}},\"type\":\"table\"}]},\"layout\":{\"annotationdefaults\":{\"arrowcolor\":\"#2a3f5f\",\"arrowhead\":0,\"arrowwidth\":1},\"autotypenumbers\":\"strict\",\"coloraxis\":{\"colorbar\":{\"outlinewidth\":0,\"ticks\":\"\"}},\"colorscale\":{\"diverging\":[[0,\"#8e0152\"],[0.1,\"#c51b7d\"],[0.2,\"#de77ae\"],[0.3,\"#f1b6da\"],[0.4,\"#fde0ef\"],[0.5,\"#f7f7f7\"],[0.6,\"#e6f5d0\"],[0.7,\"#b8e186\"],[0.8,\"#7fbc41\"],[0.9,\"#4d9221\"],[1,\"#276419\"]],\"sequential\":[[0.0,\"#0d0887\"],[0.1111111111111111,\"#46039f\"],[0.2222222222222222,\"#7201a8\"],[0.3333333333333333,\"#9c179e\"],[0.4444444444444444,\"#bd3786\"],[0.5555555555555556,\"#d8576b\"],[0.6666666666666666,\"#ed7953\"],[0.7777777777777778,\"#fb9f3a\"],[0.8888888888888888,\"#fdca26\"],[1.0,\"#f0f921\"]],\"sequentialminus\":[[0.0,\"#0d0887\"],[0.1111111111111111,\"#46039f\"],[0.2222222222222222,\"#7201a8\"],[0.3333333333333333,\"#9c179e\"],[0.4444444444444444,\"#bd3786\"],[0.5555555555555556,\"#d8576b\"],[0.6666666666666666,\"#ed7953\"],[0.7777777777777778,\"#fb9f3a\"],[0.8888888888888888,\"#fdca26\"],[1.0,\"#f0f921\"]]},\"colorway\":[\"#636efa\",\"#EF553B\",\"#00cc96\",\"#ab63fa\",\"#FFA15A\",\"#19d3f3\",\"#FF6692\",\"#B6E880\",\"#FF97FF\",\"#FECB52\"],\"font\":{\"color\":\"#2a3f5f\"},\"geo\":{\"bgcolor\":\"white\",\"lakecolor\":\"white\",\"landcolor\":\"#E5ECF6\",\"showlakes\":true,\"showland\":true,\"subunitcolor\":\"white\"},\"hoverlabel\":{\"align\":\"left\"},\"hovermode\":\"closest\",\"mapbox\":{\"style\":\"light\"},\"paper_bgcolor\":\"white\",\"plot_bgcolor\":\"#E5ECF6\",\"polar\":{\"angularaxis\":{\"gridcolor\":\"white\",\"linecolor\":\"white\",\"ticks\":\"\"},\"bgcolor\":\"#E5ECF6\",\"radialaxis\":{\"gridcolor\":\"white\",\"linecolor\":\"white\",\"ticks\":\"\"}},\"scene\":{\"xaxis\":{\"backgroundcolor\":\"#E5ECF6\",\"gridcolor\":\"white\",\"gridwidth\":2,\"linecolor\":\"white\",\"showbackground\":true,\"ticks\":\"\",\"zerolinecolor\":\"white\"},\"yaxis\":{\"backgroundcolor\":\"#E5ECF6\",\"gridcolor\":\"white\",\"gridwidth\":2,\"linecolor\":\"white\",\"showbackground\":true,\"ticks\":\"\",\"zerolinecolor\":\"white\"},\"zaxis\":{\"backgroundcolor\":\"#E5ECF6\",\"gridcolor\":\"white\",\"gridwidth\":2,\"linecolor\":\"white\",\"showbackground\":true,\"ticks\":\"\",\"zerolinecolor\":\"white\"}},\"shapedefaults\":{\"line\":{\"color\":\"#2a3f5f\"}},\"ternary\":{\"aaxis\":{\"gridcolor\":\"white\",\"linecolor\":\"white\",\"ticks\":\"\"},\"baxis\":{\"gridcolor\":\"white\",\"linecolor\":\"white\",\"ticks\":\"\"},\"bgcolor\":\"#E5ECF6\",\"caxis\":{\"gridcolor\":\"white\",\"linecolor\":\"white\",\"ticks\":\"\"}},\"title\":{\"x\":0.05},\"xaxis\":{\"automargin\":true,\"gridcolor\":\"white\",\"linecolor\":\"white\",\"ticks\":\"\",\"title\":{\"standoff\":15},\"zerolinecolor\":\"white\",\"zerolinewidth\":2},\"yaxis\":{\"automargin\":true,\"gridcolor\":\"white\",\"linecolor\":\"white\",\"ticks\":\"\",\"title\":{\"standoff\":15},\"zerolinecolor\":\"white\",\"zerolinewidth\":2}}},\"title\":{\"text\":\"GANTT Chart\"},\"xaxis\":{\"range\":[\"1970-01-01T00:00:00\",\"1970-01-02T06:10:58\"],\"title\":{\"font\":{\"color\":\"#7f7f7f\",\"family\":\"Courier New, monospace\",\"size\":18},\"text\":\"Time\"}},\"yaxis\":{\"title\":{\"font\":{\"color\":\"#7f7f7f\",\"family\":\"Courier New, monospace\",\"size\":18},\"text\":\"Activities\"}}},                        {\"responsive\": true}                    ).then(function(){\n",
       "                            \n",
       "var gd = document.getElementById('edd6c61e-a000-4413-8a88-b65c82b7073b');\n",
       "var x = new MutationObserver(function (mutations, observer) {{\n",
       "        var display = window.getComputedStyle(gd).display;\n",
       "        if (!display || display === 'none') {{\n",
       "            console.log([gd, 'removed!']);\n",
       "            Plotly.purge(gd);\n",
       "            observer.disconnect();\n",
       "        }}\n",
       "}});\n",
       "\n",
       "// Listen for the removal of the full notebook cells\n",
       "var notebookContainer = gd.closest('#notebook-container');\n",
       "if (notebookContainer) {{\n",
       "    x.observe(notebookContainer, {childList: true});\n",
       "}}\n",
       "\n",
       "// Listen for the clearing of the current output cell\n",
       "var outputEl = gd.closest('.output');\n",
       "if (outputEl) {{\n",
       "    x.observe(outputEl, {childList: true});\n",
       "}}\n",
       "\n",
       "                        })                };                });            </script>        </div>"
      ]
     },
     "metadata": {},
     "output_type": "display_data"
    }
   ],
   "source": [
    "fig = get_gantt_chart(vessels, id_map=activities)\n"
   ]
  },
  {
   "cell_type": "code",
   "execution_count": 7,
   "id": "b7331bd0",
   "metadata": {},
   "outputs": [
    {
     "data": {
      "text/html": [
       "        <script type=\"text/javascript\">\n",
       "        window.PlotlyConfig = {MathJaxConfig: 'local'};\n",
       "        if (window.MathJax && window.MathJax.Hub && window.MathJax.Hub.Config) {window.MathJax.Hub.Config({SVG: {font: \"STIX-Web\"}});}\n",
       "        if (typeof require !== 'undefined') {\n",
       "        require.undef(\"plotly\");\n",
       "        requirejs.config({\n",
       "            paths: {\n",
       "                'plotly': ['https://cdn.plot.ly/plotly-2.18.2.min']\n",
       "            }\n",
       "        });\n",
       "        require(['plotly'], function(Plotly) {\n",
       "            window._Plotly = Plotly;\n",
       "        });\n",
       "        }\n",
       "        </script>\n",
       "        "
      ]
     },
     "metadata": {},
     "output_type": "display_data"
    },
    {
     "data": {
      "application/vnd.plotly.v1+json": {
       "config": {
        "linkText": "Export to plot.ly",
        "plotlyServerURL": "https://plot.ly",
        "showLink": false
       },
       "data": [
        {
         "connectgaps": false,
         "hoverinfo": "y+name",
         "line": {
          "color": "rgb(38,127,32)",
          "width": 10
         },
         "mode": "lines",
         "name": "loading:Carrier B",
         "type": "scatter",
         "x": [
          "1970-01-01T01:45:26",
          "1970-01-01T01:45:26",
          "1970-01-01T02:27:06",
          "1970-01-01T02:27:06",
          "1970-01-01T02:27:06",
          "1970-01-01T05:25:46",
          "1970-01-01T05:25:46",
          "1970-01-01T06:07:26",
          "1970-01-01T06:07:26",
          "1970-01-01T06:07:26",
          "1970-01-01T09:06:06",
          "1970-01-01T09:06:06",
          "1970-01-01T09:47:46",
          "1970-01-01T09:47:46",
          "1970-01-01T09:47:46",
          "1970-01-01T12:46:26",
          "1970-01-01T12:46:26",
          "1970-01-01T13:28:06",
          "1970-01-01T13:28:06",
          "1970-01-01T13:28:06",
          "1970-01-01T16:58:58",
          "1970-01-01T16:58:58",
          "1970-01-01T17:40:38",
          "1970-01-01T17:40:38",
          "1970-01-01T17:40:38",
          "1970-01-01T20:39:18",
          "1970-01-01T20:39:18",
          "1970-01-01T21:20:58",
          "1970-01-01T21:20:58",
          "1970-01-01T21:20:58",
          "1970-01-02T00:19:38",
          "1970-01-02T00:19:38",
          "1970-01-02T01:01:18",
          "1970-01-02T01:01:18",
          "1970-01-02T01:01:18",
          "1970-01-02T03:59:58",
          "1970-01-02T03:59:58",
          "1970-01-02T04:41:38",
          "1970-01-02T04:41:38",
          "1970-01-02T04:41:38",
          "1970-01-01T01:45:26",
          "1970-01-01T01:45:26",
          "1970-01-01T02:27:06",
          "1970-01-01T02:27:06",
          "1970-01-01T02:27:06",
          "1970-01-01T05:25:46",
          "1970-01-01T05:25:46",
          "1970-01-01T06:07:26",
          "1970-01-01T06:07:26",
          "1970-01-01T06:07:26",
          "1970-01-01T09:06:06",
          "1970-01-01T09:06:06",
          "1970-01-01T09:47:46",
          "1970-01-01T09:47:46",
          "1970-01-01T09:47:46",
          "1970-01-01T12:46:26",
          "1970-01-01T12:46:26",
          "1970-01-01T13:28:06",
          "1970-01-01T13:28:06",
          "1970-01-01T13:28:06",
          "1970-01-01T16:58:58",
          "1970-01-01T16:58:58",
          "1970-01-01T17:40:38",
          "1970-01-01T17:40:38",
          "1970-01-01T17:40:38",
          "1970-01-01T20:39:18",
          "1970-01-01T20:39:18",
          "1970-01-01T21:20:58",
          "1970-01-01T21:20:58",
          "1970-01-01T21:20:58",
          "1970-01-02T00:19:38",
          "1970-01-02T00:19:38",
          "1970-01-02T01:01:18",
          "1970-01-02T01:01:18",
          "1970-01-02T01:01:18",
          "1970-01-02T03:59:58",
          "1970-01-02T03:59:58",
          "1970-01-02T04:41:38",
          "1970-01-02T04:41:38",
          "1970-01-02T04:41:38"
         ],
         "y": [
          "Trench",
          "Trench",
          "Trench",
          "Trench",
          null,
          "Trench",
          "Trench",
          "Trench",
          "Trench",
          null,
          "Trench",
          "Trench",
          "Trench",
          "Trench",
          null,
          "Trench",
          "Trench",
          "Trench",
          "Trench",
          null,
          "Trench",
          "Trench",
          "Trench",
          "Trench",
          null,
          "Trench",
          "Trench",
          "Trench",
          "Trench",
          null,
          "Trench",
          "Trench",
          "Trench",
          "Trench",
          null,
          "Trench",
          "Trench",
          "Trench",
          "Trench",
          null,
          "Cutter T",
          "Cutter T",
          "Cutter T",
          "Cutter T",
          null,
          "Cutter T",
          "Cutter T",
          "Cutter T",
          "Cutter T",
          null,
          "Cutter T",
          "Cutter T",
          "Cutter T",
          "Cutter T",
          null,
          "Cutter T",
          "Cutter T",
          "Cutter T",
          "Cutter T",
          null,
          "Cutter T",
          "Cutter T",
          "Cutter T",
          "Cutter T",
          null,
          "Cutter T",
          "Cutter T",
          "Cutter T",
          "Cutter T",
          null,
          "Cutter T",
          "Cutter T",
          "Cutter T",
          "Cutter T",
          null,
          "Cutter T",
          "Cutter T",
          "Cutter T",
          "Cutter T",
          null
         ]
        },
        {
         "connectgaps": false,
         "hoverinfo": "y+name",
         "line": {
          "color": "rgb(66,155,60)",
          "width": 10
         },
         "mode": "lines",
         "name": "loading:Carrier A",
         "type": "scatter",
         "x": [
          "1970-01-01T02:27:06",
          "1970-01-01T02:27:06",
          "1970-01-01T03:00:26",
          "1970-01-01T03:00:26",
          "1970-01-01T03:00:26",
          "1970-01-01T06:07:26",
          "1970-01-01T06:07:26",
          "1970-01-01T06:40:46",
          "1970-01-01T06:40:46",
          "1970-01-01T06:40:46",
          "1970-01-01T09:47:46",
          "1970-01-01T09:47:46",
          "1970-01-01T10:21:06",
          "1970-01-01T10:21:06",
          "1970-01-01T10:21:06",
          "1970-01-01T14:01:26",
          "1970-01-01T14:01:26",
          "1970-01-01T14:34:46",
          "1970-01-01T14:34:46",
          "1970-01-01T14:34:46",
          "1970-01-01T17:40:38",
          "1970-01-01T17:40:38",
          "1970-01-01T18:13:58",
          "1970-01-01T18:13:58",
          "1970-01-01T18:13:58",
          "1970-01-01T21:20:58",
          "1970-01-01T21:20:58",
          "1970-01-01T21:54:18",
          "1970-01-01T21:54:18",
          "1970-01-01T21:54:18",
          "1970-01-02T01:01:18",
          "1970-01-02T01:01:18",
          "1970-01-02T01:34:38",
          "1970-01-02T01:34:38",
          "1970-01-02T01:34:38",
          "1970-01-01T02:27:06",
          "1970-01-01T02:27:06",
          "1970-01-01T03:00:26",
          "1970-01-01T03:00:26",
          "1970-01-01T03:00:26",
          "1970-01-01T06:07:26",
          "1970-01-01T06:07:26",
          "1970-01-01T06:40:46",
          "1970-01-01T06:40:46",
          "1970-01-01T06:40:46",
          "1970-01-01T09:47:46",
          "1970-01-01T09:47:46",
          "1970-01-01T10:21:06",
          "1970-01-01T10:21:06",
          "1970-01-01T10:21:06",
          "1970-01-01T14:01:26",
          "1970-01-01T14:01:26",
          "1970-01-01T14:34:46",
          "1970-01-01T14:34:46",
          "1970-01-01T14:34:46",
          "1970-01-01T17:40:38",
          "1970-01-01T17:40:38",
          "1970-01-01T18:13:58",
          "1970-01-01T18:13:58",
          "1970-01-01T18:13:58",
          "1970-01-01T21:20:58",
          "1970-01-01T21:20:58",
          "1970-01-01T21:54:18",
          "1970-01-01T21:54:18",
          "1970-01-01T21:54:18",
          "1970-01-02T01:01:18",
          "1970-01-02T01:01:18",
          "1970-01-02T01:34:38",
          "1970-01-02T01:34:38",
          "1970-01-02T01:34:38"
         ],
         "y": [
          "Trench",
          "Trench",
          "Trench",
          "Trench",
          null,
          "Trench",
          "Trench",
          "Trench",
          "Trench",
          null,
          "Trench",
          "Trench",
          "Trench",
          "Trench",
          null,
          "Trench",
          "Trench",
          "Trench",
          "Trench",
          null,
          "Trench",
          "Trench",
          "Trench",
          "Trench",
          null,
          "Trench",
          "Trench",
          "Trench",
          "Trench",
          null,
          "Trench",
          "Trench",
          "Trench",
          "Trench",
          null,
          "Cutter T",
          "Cutter T",
          "Cutter T",
          "Cutter T",
          null,
          "Cutter T",
          "Cutter T",
          "Cutter T",
          "Cutter T",
          null,
          "Cutter T",
          "Cutter T",
          "Cutter T",
          "Cutter T",
          null,
          "Cutter T",
          "Cutter T",
          "Cutter T",
          "Cutter T",
          null,
          "Cutter T",
          "Cutter T",
          "Cutter T",
          "Cutter T",
          null,
          "Cutter T",
          "Cutter T",
          "Cutter T",
          "Cutter T",
          null,
          "Cutter T",
          "Cutter T",
          "Cutter T",
          "Cutter T",
          null
         ]
        },
        {
         "connectgaps": false,
         "hoverinfo": "y+name",
         "line": {
          "color": "rgb(94,183,88)",
          "width": 10
         },
         "mode": "lines",
         "name": "loading:Carrier C",
         "type": "scatter",
         "x": [
          "1970-01-01T01:12:06",
          "1970-01-01T01:12:06",
          "1970-01-01T01:45:26",
          "1970-01-01T01:45:26",
          "1970-01-01T01:45:26",
          "1970-01-01T04:09:38",
          "1970-01-01T04:09:38",
          "1970-01-01T04:42:58",
          "1970-01-01T04:42:58",
          "1970-01-01T04:42:58",
          "1970-01-01T07:07:10",
          "1970-01-01T07:07:10",
          "1970-01-01T07:40:30",
          "1970-01-01T07:40:30",
          "1970-01-01T07:40:30",
          "1970-01-01T10:21:06",
          "1970-01-01T10:21:06",
          "1970-01-01T10:54:26",
          "1970-01-01T10:54:26",
          "1970-01-01T10:54:26",
          "1970-01-01T13:28:06",
          "1970-01-01T13:28:06",
          "1970-01-01T14:01:26",
          "1970-01-01T14:01:26",
          "1970-01-01T14:01:26",
          "1970-01-01T16:25:38",
          "1970-01-01T16:25:38",
          "1970-01-01T16:58:58",
          "1970-01-01T16:58:58",
          "1970-01-01T16:58:58",
          "1970-01-01T19:23:10",
          "1970-01-01T19:23:10",
          "1970-01-01T19:56:30",
          "1970-01-01T19:56:30",
          "1970-01-01T19:56:30",
          "1970-01-01T22:20:42",
          "1970-01-01T22:20:42",
          "1970-01-01T22:54:02",
          "1970-01-01T22:54:02",
          "1970-01-01T22:54:02",
          "1970-01-02T01:34:38",
          "1970-01-02T01:34:38",
          "1970-01-02T02:07:58",
          "1970-01-02T02:07:58",
          "1970-01-02T02:07:58",
          "1970-01-01T01:12:06",
          "1970-01-01T01:12:06",
          "1970-01-01T01:45:26",
          "1970-01-01T01:45:26",
          "1970-01-01T01:45:26",
          "1970-01-01T04:09:38",
          "1970-01-01T04:09:38",
          "1970-01-01T04:42:58",
          "1970-01-01T04:42:58",
          "1970-01-01T04:42:58",
          "1970-01-01T07:07:10",
          "1970-01-01T07:07:10",
          "1970-01-01T07:40:30",
          "1970-01-01T07:40:30",
          "1970-01-01T07:40:30",
          "1970-01-01T10:21:06",
          "1970-01-01T10:21:06",
          "1970-01-01T10:54:26",
          "1970-01-01T10:54:26",
          "1970-01-01T10:54:26",
          "1970-01-01T13:28:06",
          "1970-01-01T13:28:06",
          "1970-01-01T14:01:26",
          "1970-01-01T14:01:26",
          "1970-01-01T14:01:26",
          "1970-01-01T16:25:38",
          "1970-01-01T16:25:38",
          "1970-01-01T16:58:58",
          "1970-01-01T16:58:58",
          "1970-01-01T16:58:58",
          "1970-01-01T19:23:10",
          "1970-01-01T19:23:10",
          "1970-01-01T19:56:30",
          "1970-01-01T19:56:30",
          "1970-01-01T19:56:30",
          "1970-01-01T22:20:42",
          "1970-01-01T22:20:42",
          "1970-01-01T22:54:02",
          "1970-01-01T22:54:02",
          "1970-01-01T22:54:02",
          "1970-01-02T01:34:38",
          "1970-01-02T01:34:38",
          "1970-01-02T02:07:58",
          "1970-01-02T02:07:58",
          "1970-01-02T02:07:58"
         ],
         "y": [
          "Trench",
          "Trench",
          "Trench",
          "Trench",
          null,
          "Trench",
          "Trench",
          "Trench",
          "Trench",
          null,
          "Trench",
          "Trench",
          "Trench",
          "Trench",
          null,
          "Trench",
          "Trench",
          "Trench",
          "Trench",
          null,
          "Trench",
          "Trench",
          "Trench",
          "Trench",
          null,
          "Trench",
          "Trench",
          "Trench",
          "Trench",
          null,
          "Trench",
          "Trench",
          "Trench",
          "Trench",
          null,
          "Trench",
          "Trench",
          "Trench",
          "Trench",
          null,
          "Trench",
          "Trench",
          "Trench",
          "Trench",
          null,
          "Cutter T",
          "Cutter T",
          "Cutter T",
          "Cutter T",
          null,
          "Cutter T",
          "Cutter T",
          "Cutter T",
          "Cutter T",
          null,
          "Cutter T",
          "Cutter T",
          "Cutter T",
          "Cutter T",
          null,
          "Cutter T",
          "Cutter T",
          "Cutter T",
          "Cutter T",
          null,
          "Cutter T",
          "Cutter T",
          "Cutter T",
          "Cutter T",
          null,
          "Cutter T",
          "Cutter T",
          "Cutter T",
          "Cutter T",
          null,
          "Cutter T",
          "Cutter T",
          "Cutter T",
          "Cutter T",
          null,
          "Cutter T",
          "Cutter T",
          "Cutter T",
          "Cutter T",
          null,
          "Cutter T",
          "Cutter T",
          "Cutter T",
          "Cutter T",
          null
         ]
        },
        {
         "connectgaps": false,
         "hoverinfo": "y+name",
         "line": {
          "color": "rgb(122,211,116)",
          "width": 10
         },
         "mode": "lines",
         "name": "unloading:Carrier C",
         "type": "scatter",
         "x": [
          "1970-01-01T02:21:29",
          "1970-01-01T02:21:29",
          "1970-01-01T02:57:32",
          "1970-01-01T02:57:32",
          "1970-01-01T02:57:32",
          "1970-01-01T05:19:01",
          "1970-01-01T05:19:01",
          "1970-01-01T05:55:04",
          "1970-01-01T05:55:04",
          "1970-01-01T05:55:04",
          "1970-01-01T08:16:33",
          "1970-01-01T08:16:33",
          "1970-01-01T08:52:36",
          "1970-01-01T08:52:36",
          "1970-01-01T08:52:36",
          "1970-01-01T11:30:29",
          "1970-01-01T11:30:29",
          "1970-01-01T12:06:32",
          "1970-01-01T12:06:32",
          "1970-01-01T12:06:32",
          "1970-01-01T14:37:29",
          "1970-01-01T14:37:29",
          "1970-01-01T15:13:32",
          "1970-01-01T15:13:32",
          "1970-01-01T15:13:32",
          "1970-01-01T17:35:01",
          "1970-01-01T17:35:01",
          "1970-01-01T18:11:04",
          "1970-01-01T18:11:04",
          "1970-01-01T18:11:04",
          "1970-01-01T20:32:33",
          "1970-01-01T20:32:33",
          "1970-01-01T21:08:36",
          "1970-01-01T21:08:36",
          "1970-01-01T21:08:36",
          "1970-01-01T23:30:05",
          "1970-01-01T23:30:05",
          "1970-01-02T00:06:08",
          "1970-01-02T00:06:08",
          "1970-01-02T00:06:08",
          "1970-01-02T02:44:01",
          "1970-01-02T02:44:01",
          "1970-01-02T03:20:04",
          "1970-01-02T03:20:04",
          "1970-01-02T03:20:04"
         ],
         "y": [
          "Reclamation",
          "Reclamation",
          "Reclamation",
          "Reclamation",
          null,
          "Reclamation",
          "Reclamation",
          "Reclamation",
          "Reclamation",
          null,
          "Reclamation",
          "Reclamation",
          "Reclamation",
          "Reclamation",
          null,
          "Reclamation",
          "Reclamation",
          "Reclamation",
          "Reclamation",
          null,
          "Reclamation",
          "Reclamation",
          "Reclamation",
          "Reclamation",
          null,
          "Reclamation",
          "Reclamation",
          "Reclamation",
          "Reclamation",
          null,
          "Reclamation",
          "Reclamation",
          "Reclamation",
          "Reclamation",
          null,
          "Reclamation",
          "Reclamation",
          "Reclamation",
          "Reclamation",
          null,
          "Reclamation",
          "Reclamation",
          "Reclamation",
          "Reclamation",
          null
         ]
        },
        {
         "connectgaps": false,
         "hoverinfo": "y+name",
         "line": {
          "color": "rgb(150,239,144)",
          "width": 10
         },
         "mode": "lines",
         "name": "unloading:Carrier B",
         "type": "scatter",
         "x": [
          "1970-01-01T03:11:46",
          "1970-01-01T03:11:46",
          "1970-01-01T03:56:26",
          "1970-01-01T03:56:26",
          "1970-01-01T03:56:26",
          "1970-01-01T06:52:06",
          "1970-01-01T06:52:06",
          "1970-01-01T07:36:46",
          "1970-01-01T07:36:46",
          "1970-01-01T07:36:46",
          "1970-01-01T10:32:26",
          "1970-01-01T10:32:26",
          "1970-01-01T11:17:06",
          "1970-01-01T11:17:06",
          "1970-01-01T11:17:06",
          "1970-01-01T14:12:46",
          "1970-01-01T14:12:46",
          "1970-01-01T14:57:26",
          "1970-01-01T14:57:26",
          "1970-01-01T14:57:26",
          "1970-01-01T18:25:18",
          "1970-01-01T18:25:18",
          "1970-01-01T19:09:58",
          "1970-01-01T19:09:58",
          "1970-01-01T19:09:58",
          "1970-01-01T22:05:38",
          "1970-01-01T22:05:38",
          "1970-01-01T22:50:18",
          "1970-01-01T22:50:18",
          "1970-01-01T22:50:18",
          "1970-01-02T01:45:58",
          "1970-01-02T01:45:58",
          "1970-01-02T02:30:38",
          "1970-01-02T02:30:38",
          "1970-01-02T02:30:38",
          "1970-01-02T05:26:18",
          "1970-01-02T05:26:18",
          "1970-01-02T06:10:58",
          "1970-01-02T06:10:58",
          "1970-01-02T06:10:58"
         ],
         "y": [
          "Reclamation",
          "Reclamation",
          "Reclamation",
          "Reclamation",
          null,
          "Reclamation",
          "Reclamation",
          "Reclamation",
          "Reclamation",
          null,
          "Reclamation",
          "Reclamation",
          "Reclamation",
          "Reclamation",
          null,
          "Reclamation",
          "Reclamation",
          "Reclamation",
          "Reclamation",
          null,
          "Reclamation",
          "Reclamation",
          "Reclamation",
          "Reclamation",
          null,
          "Reclamation",
          "Reclamation",
          "Reclamation",
          "Reclamation",
          null,
          "Reclamation",
          "Reclamation",
          "Reclamation",
          "Reclamation",
          null,
          "Reclamation",
          "Reclamation",
          "Reclamation",
          "Reclamation",
          null
         ]
        },
        {
         "connectgaps": false,
         "hoverinfo": "y+name",
         "line": {
          "color": "rgb(178,11,172)",
          "width": 10
         },
         "mode": "lines",
         "name": "unloading:Carrier A",
         "type": "scatter",
         "x": [
          "1970-01-01T03:45:43",
          "1970-01-01T03:45:43",
          "1970-01-01T04:31:00",
          "1970-01-01T04:31:00",
          "1970-01-01T04:31:00",
          "1970-01-01T07:26:03",
          "1970-01-01T07:26:03",
          "1970-01-01T08:11:20",
          "1970-01-01T08:11:20",
          "1970-01-01T08:11:20",
          "1970-01-01T11:06:23",
          "1970-01-01T11:06:23",
          "1970-01-01T11:51:40",
          "1970-01-01T11:51:40",
          "1970-01-01T11:51:40",
          "1970-01-01T15:20:03",
          "1970-01-01T15:20:03",
          "1970-01-01T16:05:20",
          "1970-01-01T16:05:20",
          "1970-01-01T16:05:20",
          "1970-01-01T18:59:15",
          "1970-01-01T18:59:15",
          "1970-01-01T19:44:32",
          "1970-01-01T19:44:32",
          "1970-01-01T19:44:32",
          "1970-01-01T22:39:35",
          "1970-01-01T22:39:35",
          "1970-01-01T23:24:52",
          "1970-01-01T23:24:52",
          "1970-01-01T23:24:52",
          "1970-01-02T02:19:55",
          "1970-01-02T02:19:55",
          "1970-01-02T03:05:12",
          "1970-01-02T03:05:12",
          "1970-01-02T03:05:12"
         ],
         "y": [
          "Reclamation",
          "Reclamation",
          "Reclamation",
          "Reclamation",
          null,
          "Reclamation",
          "Reclamation",
          "Reclamation",
          "Reclamation",
          null,
          "Reclamation",
          "Reclamation",
          "Reclamation",
          "Reclamation",
          null,
          "Reclamation",
          "Reclamation",
          "Reclamation",
          "Reclamation",
          null,
          "Reclamation",
          "Reclamation",
          "Reclamation",
          "Reclamation",
          null,
          "Reclamation",
          "Reclamation",
          "Reclamation",
          "Reclamation",
          null,
          "Reclamation",
          "Reclamation",
          "Reclamation",
          "Reclamation",
          null
         ]
        },
        {
         "connectgaps": false,
         "hoverinfo": "y+name",
         "line": {
          "color": "rgb(206,39,200)",
          "width": 10
         },
         "mode": "lines",
         "name": "loading:Carrier B",
         "type": "scatter",
         "x": [
          "1970-01-01T01:45:26",
          "1970-01-01T01:45:26",
          "1970-01-01T02:27:06",
          "1970-01-01T02:27:06",
          "1970-01-01T02:27:06",
          "1970-01-01T05:25:46",
          "1970-01-01T05:25:46",
          "1970-01-01T06:07:26",
          "1970-01-01T06:07:26",
          "1970-01-01T06:07:26",
          "1970-01-01T09:06:06",
          "1970-01-01T09:06:06",
          "1970-01-01T09:47:46",
          "1970-01-01T09:47:46",
          "1970-01-01T09:47:46",
          "1970-01-01T12:46:26",
          "1970-01-01T12:46:26",
          "1970-01-01T13:28:06",
          "1970-01-01T13:28:06",
          "1970-01-01T13:28:06",
          "1970-01-01T16:58:58",
          "1970-01-01T16:58:58",
          "1970-01-01T17:40:38",
          "1970-01-01T17:40:38",
          "1970-01-01T17:40:38",
          "1970-01-01T20:39:18",
          "1970-01-01T20:39:18",
          "1970-01-01T21:20:58",
          "1970-01-01T21:20:58",
          "1970-01-01T21:20:58",
          "1970-01-02T00:19:38",
          "1970-01-02T00:19:38",
          "1970-01-02T01:01:18",
          "1970-01-02T01:01:18",
          "1970-01-02T01:01:18",
          "1970-01-02T03:59:58",
          "1970-01-02T03:59:58",
          "1970-01-02T04:41:38",
          "1970-01-02T04:41:38",
          "1970-01-02T04:41:38",
          "1970-01-01T01:45:26",
          "1970-01-01T01:45:26",
          "1970-01-01T02:27:06",
          "1970-01-01T02:27:06",
          "1970-01-01T02:27:06",
          "1970-01-01T05:25:46",
          "1970-01-01T05:25:46",
          "1970-01-01T06:07:26",
          "1970-01-01T06:07:26",
          "1970-01-01T06:07:26",
          "1970-01-01T09:06:06",
          "1970-01-01T09:06:06",
          "1970-01-01T09:47:46",
          "1970-01-01T09:47:46",
          "1970-01-01T09:47:46",
          "1970-01-01T12:46:26",
          "1970-01-01T12:46:26",
          "1970-01-01T13:28:06",
          "1970-01-01T13:28:06",
          "1970-01-01T13:28:06",
          "1970-01-01T16:58:58",
          "1970-01-01T16:58:58",
          "1970-01-01T17:40:38",
          "1970-01-01T17:40:38",
          "1970-01-01T17:40:38",
          "1970-01-01T20:39:18",
          "1970-01-01T20:39:18",
          "1970-01-01T21:20:58",
          "1970-01-01T21:20:58",
          "1970-01-01T21:20:58",
          "1970-01-02T00:19:38",
          "1970-01-02T00:19:38",
          "1970-01-02T01:01:18",
          "1970-01-02T01:01:18",
          "1970-01-02T01:01:18",
          "1970-01-02T03:59:58",
          "1970-01-02T03:59:58",
          "1970-01-02T04:41:38",
          "1970-01-02T04:41:38",
          "1970-01-02T04:41:38"
         ],
         "y": [
          "Trench",
          "Trench",
          "Trench",
          "Trench",
          null,
          "Trench",
          "Trench",
          "Trench",
          "Trench",
          null,
          "Trench",
          "Trench",
          "Trench",
          "Trench",
          null,
          "Trench",
          "Trench",
          "Trench",
          "Trench",
          null,
          "Trench",
          "Trench",
          "Trench",
          "Trench",
          null,
          "Trench",
          "Trench",
          "Trench",
          "Trench",
          null,
          "Trench",
          "Trench",
          "Trench",
          "Trench",
          null,
          "Trench",
          "Trench",
          "Trench",
          "Trench",
          null,
          "Cutter T",
          "Cutter T",
          "Cutter T",
          "Cutter T",
          null,
          "Cutter T",
          "Cutter T",
          "Cutter T",
          "Cutter T",
          null,
          "Cutter T",
          "Cutter T",
          "Cutter T",
          "Cutter T",
          null,
          "Cutter T",
          "Cutter T",
          "Cutter T",
          "Cutter T",
          null,
          "Cutter T",
          "Cutter T",
          "Cutter T",
          "Cutter T",
          null,
          "Cutter T",
          "Cutter T",
          "Cutter T",
          "Cutter T",
          null,
          "Cutter T",
          "Cutter T",
          "Cutter T",
          "Cutter T",
          null,
          "Cutter T",
          "Cutter T",
          "Cutter T",
          "Cutter T",
          null
         ]
        },
        {
         "connectgaps": false,
         "hoverinfo": "y+name",
         "line": {
          "color": "rgb(234,67,228)",
          "width": 10
         },
         "mode": "lines",
         "name": "loading:Carrier A",
         "type": "scatter",
         "x": [
          "1970-01-01T02:27:06",
          "1970-01-01T02:27:06",
          "1970-01-01T03:00:26",
          "1970-01-01T03:00:26",
          "1970-01-01T03:00:26",
          "1970-01-01T06:07:26",
          "1970-01-01T06:07:26",
          "1970-01-01T06:40:46",
          "1970-01-01T06:40:46",
          "1970-01-01T06:40:46",
          "1970-01-01T09:47:46",
          "1970-01-01T09:47:46",
          "1970-01-01T10:21:06",
          "1970-01-01T10:21:06",
          "1970-01-01T10:21:06",
          "1970-01-01T14:01:26",
          "1970-01-01T14:01:26",
          "1970-01-01T14:34:46",
          "1970-01-01T14:34:46",
          "1970-01-01T14:34:46",
          "1970-01-01T17:40:38",
          "1970-01-01T17:40:38",
          "1970-01-01T18:13:58",
          "1970-01-01T18:13:58",
          "1970-01-01T18:13:58",
          "1970-01-01T21:20:58",
          "1970-01-01T21:20:58",
          "1970-01-01T21:54:18",
          "1970-01-01T21:54:18",
          "1970-01-01T21:54:18",
          "1970-01-02T01:01:18",
          "1970-01-02T01:01:18",
          "1970-01-02T01:34:38",
          "1970-01-02T01:34:38",
          "1970-01-02T01:34:38",
          "1970-01-01T02:27:06",
          "1970-01-01T02:27:06",
          "1970-01-01T03:00:26",
          "1970-01-01T03:00:26",
          "1970-01-01T03:00:26",
          "1970-01-01T06:07:26",
          "1970-01-01T06:07:26",
          "1970-01-01T06:40:46",
          "1970-01-01T06:40:46",
          "1970-01-01T06:40:46",
          "1970-01-01T09:47:46",
          "1970-01-01T09:47:46",
          "1970-01-01T10:21:06",
          "1970-01-01T10:21:06",
          "1970-01-01T10:21:06",
          "1970-01-01T14:01:26",
          "1970-01-01T14:01:26",
          "1970-01-01T14:34:46",
          "1970-01-01T14:34:46",
          "1970-01-01T14:34:46",
          "1970-01-01T17:40:38",
          "1970-01-01T17:40:38",
          "1970-01-01T18:13:58",
          "1970-01-01T18:13:58",
          "1970-01-01T18:13:58",
          "1970-01-01T21:20:58",
          "1970-01-01T21:20:58",
          "1970-01-01T21:54:18",
          "1970-01-01T21:54:18",
          "1970-01-01T21:54:18",
          "1970-01-02T01:01:18",
          "1970-01-02T01:01:18",
          "1970-01-02T01:34:38",
          "1970-01-02T01:34:38",
          "1970-01-02T01:34:38"
         ],
         "y": [
          "Trench",
          "Trench",
          "Trench",
          "Trench",
          null,
          "Trench",
          "Trench",
          "Trench",
          "Trench",
          null,
          "Trench",
          "Trench",
          "Trench",
          "Trench",
          null,
          "Trench",
          "Trench",
          "Trench",
          "Trench",
          null,
          "Trench",
          "Trench",
          "Trench",
          "Trench",
          null,
          "Trench",
          "Trench",
          "Trench",
          "Trench",
          null,
          "Trench",
          "Trench",
          "Trench",
          "Trench",
          null,
          "Cutter T",
          "Cutter T",
          "Cutter T",
          "Cutter T",
          null,
          "Cutter T",
          "Cutter T",
          "Cutter T",
          "Cutter T",
          null,
          "Cutter T",
          "Cutter T",
          "Cutter T",
          "Cutter T",
          null,
          "Cutter T",
          "Cutter T",
          "Cutter T",
          "Cutter T",
          null,
          "Cutter T",
          "Cutter T",
          "Cutter T",
          "Cutter T",
          null,
          "Cutter T",
          "Cutter T",
          "Cutter T",
          "Cutter T",
          null,
          "Cutter T",
          "Cutter T",
          "Cutter T",
          "Cutter T",
          null
         ]
        },
        {
         "connectgaps": false,
         "hoverinfo": "y+name",
         "line": {
          "color": "rgb(6,95,0)",
          "width": 10
         },
         "mode": "lines",
         "name": "loading:Carrier C",
         "type": "scatter",
         "x": [
          "1970-01-01T01:12:06",
          "1970-01-01T01:12:06",
          "1970-01-01T01:45:26",
          "1970-01-01T01:45:26",
          "1970-01-01T01:45:26",
          "1970-01-01T04:09:38",
          "1970-01-01T04:09:38",
          "1970-01-01T04:42:58",
          "1970-01-01T04:42:58",
          "1970-01-01T04:42:58",
          "1970-01-01T07:07:10",
          "1970-01-01T07:07:10",
          "1970-01-01T07:40:30",
          "1970-01-01T07:40:30",
          "1970-01-01T07:40:30",
          "1970-01-01T10:21:06",
          "1970-01-01T10:21:06",
          "1970-01-01T10:54:26",
          "1970-01-01T10:54:26",
          "1970-01-01T10:54:26",
          "1970-01-01T13:28:06",
          "1970-01-01T13:28:06",
          "1970-01-01T14:01:26",
          "1970-01-01T14:01:26",
          "1970-01-01T14:01:26",
          "1970-01-01T16:25:38",
          "1970-01-01T16:25:38",
          "1970-01-01T16:58:58",
          "1970-01-01T16:58:58",
          "1970-01-01T16:58:58",
          "1970-01-01T19:23:10",
          "1970-01-01T19:23:10",
          "1970-01-01T19:56:30",
          "1970-01-01T19:56:30",
          "1970-01-01T19:56:30",
          "1970-01-01T22:20:42",
          "1970-01-01T22:20:42",
          "1970-01-01T22:54:02",
          "1970-01-01T22:54:02",
          "1970-01-01T22:54:02",
          "1970-01-02T01:34:38",
          "1970-01-02T01:34:38",
          "1970-01-02T02:07:58",
          "1970-01-02T02:07:58",
          "1970-01-02T02:07:58",
          "1970-01-01T01:12:06",
          "1970-01-01T01:12:06",
          "1970-01-01T01:45:26",
          "1970-01-01T01:45:26",
          "1970-01-01T01:45:26",
          "1970-01-01T04:09:38",
          "1970-01-01T04:09:38",
          "1970-01-01T04:42:58",
          "1970-01-01T04:42:58",
          "1970-01-01T04:42:58",
          "1970-01-01T07:07:10",
          "1970-01-01T07:07:10",
          "1970-01-01T07:40:30",
          "1970-01-01T07:40:30",
          "1970-01-01T07:40:30",
          "1970-01-01T10:21:06",
          "1970-01-01T10:21:06",
          "1970-01-01T10:54:26",
          "1970-01-01T10:54:26",
          "1970-01-01T10:54:26",
          "1970-01-01T13:28:06",
          "1970-01-01T13:28:06",
          "1970-01-01T14:01:26",
          "1970-01-01T14:01:26",
          "1970-01-01T14:01:26",
          "1970-01-01T16:25:38",
          "1970-01-01T16:25:38",
          "1970-01-01T16:58:58",
          "1970-01-01T16:58:58",
          "1970-01-01T16:58:58",
          "1970-01-01T19:23:10",
          "1970-01-01T19:23:10",
          "1970-01-01T19:56:30",
          "1970-01-01T19:56:30",
          "1970-01-01T19:56:30",
          "1970-01-01T22:20:42",
          "1970-01-01T22:20:42",
          "1970-01-01T22:54:02",
          "1970-01-01T22:54:02",
          "1970-01-01T22:54:02",
          "1970-01-02T01:34:38",
          "1970-01-02T01:34:38",
          "1970-01-02T02:07:58",
          "1970-01-02T02:07:58",
          "1970-01-02T02:07:58"
         ],
         "y": [
          "Trench",
          "Trench",
          "Trench",
          "Trench",
          null,
          "Trench",
          "Trench",
          "Trench",
          "Trench",
          null,
          "Trench",
          "Trench",
          "Trench",
          "Trench",
          null,
          "Trench",
          "Trench",
          "Trench",
          "Trench",
          null,
          "Trench",
          "Trench",
          "Trench",
          "Trench",
          null,
          "Trench",
          "Trench",
          "Trench",
          "Trench",
          null,
          "Trench",
          "Trench",
          "Trench",
          "Trench",
          null,
          "Trench",
          "Trench",
          "Trench",
          "Trench",
          null,
          "Trench",
          "Trench",
          "Trench",
          "Trench",
          null,
          "Cutter T",
          "Cutter T",
          "Cutter T",
          "Cutter T",
          null,
          "Cutter T",
          "Cutter T",
          "Cutter T",
          "Cutter T",
          null,
          "Cutter T",
          "Cutter T",
          "Cutter T",
          "Cutter T",
          null,
          "Cutter T",
          "Cutter T",
          "Cutter T",
          "Cutter T",
          null,
          "Cutter T",
          "Cutter T",
          "Cutter T",
          "Cutter T",
          null,
          "Cutter T",
          "Cutter T",
          "Cutter T",
          "Cutter T",
          null,
          "Cutter T",
          "Cutter T",
          "Cutter T",
          "Cutter T",
          null,
          "Cutter T",
          "Cutter T",
          "Cutter T",
          "Cutter T",
          null,
          "Cutter T",
          "Cutter T",
          "Cutter T",
          "Cutter T",
          null
         ]
        }
       ],
       "layout": {
        "hovermode": "closest",
        "legend": {
         "orientation": "h",
         "x": 0,
         "y": -0.2
        },
        "template": {
         "data": {
          "bar": [
           {
            "error_x": {
             "color": "#2a3f5f"
            },
            "error_y": {
             "color": "#2a3f5f"
            },
            "marker": {
             "line": {
              "color": "#E5ECF6",
              "width": 0.5
             },
             "pattern": {
              "fillmode": "overlay",
              "size": 10,
              "solidity": 0.2
             }
            },
            "type": "bar"
           }
          ],
          "barpolar": [
           {
            "marker": {
             "line": {
              "color": "#E5ECF6",
              "width": 0.5
             },
             "pattern": {
              "fillmode": "overlay",
              "size": 10,
              "solidity": 0.2
             }
            },
            "type": "barpolar"
           }
          ],
          "carpet": [
           {
            "aaxis": {
             "endlinecolor": "#2a3f5f",
             "gridcolor": "white",
             "linecolor": "white",
             "minorgridcolor": "white",
             "startlinecolor": "#2a3f5f"
            },
            "baxis": {
             "endlinecolor": "#2a3f5f",
             "gridcolor": "white",
             "linecolor": "white",
             "minorgridcolor": "white",
             "startlinecolor": "#2a3f5f"
            },
            "type": "carpet"
           }
          ],
          "choropleth": [
           {
            "colorbar": {
             "outlinewidth": 0,
             "ticks": ""
            },
            "type": "choropleth"
           }
          ],
          "contour": [
           {
            "colorbar": {
             "outlinewidth": 0,
             "ticks": ""
            },
            "colorscale": [
             [
              0,
              "#0d0887"
             ],
             [
              0.1111111111111111,
              "#46039f"
             ],
             [
              0.2222222222222222,
              "#7201a8"
             ],
             [
              0.3333333333333333,
              "#9c179e"
             ],
             [
              0.4444444444444444,
              "#bd3786"
             ],
             [
              0.5555555555555556,
              "#d8576b"
             ],
             [
              0.6666666666666666,
              "#ed7953"
             ],
             [
              0.7777777777777778,
              "#fb9f3a"
             ],
             [
              0.8888888888888888,
              "#fdca26"
             ],
             [
              1,
              "#f0f921"
             ]
            ],
            "type": "contour"
           }
          ],
          "contourcarpet": [
           {
            "colorbar": {
             "outlinewidth": 0,
             "ticks": ""
            },
            "type": "contourcarpet"
           }
          ],
          "heatmap": [
           {
            "colorbar": {
             "outlinewidth": 0,
             "ticks": ""
            },
            "colorscale": [
             [
              0,
              "#0d0887"
             ],
             [
              0.1111111111111111,
              "#46039f"
             ],
             [
              0.2222222222222222,
              "#7201a8"
             ],
             [
              0.3333333333333333,
              "#9c179e"
             ],
             [
              0.4444444444444444,
              "#bd3786"
             ],
             [
              0.5555555555555556,
              "#d8576b"
             ],
             [
              0.6666666666666666,
              "#ed7953"
             ],
             [
              0.7777777777777778,
              "#fb9f3a"
             ],
             [
              0.8888888888888888,
              "#fdca26"
             ],
             [
              1,
              "#f0f921"
             ]
            ],
            "type": "heatmap"
           }
          ],
          "heatmapgl": [
           {
            "colorbar": {
             "outlinewidth": 0,
             "ticks": ""
            },
            "colorscale": [
             [
              0,
              "#0d0887"
             ],
             [
              0.1111111111111111,
              "#46039f"
             ],
             [
              0.2222222222222222,
              "#7201a8"
             ],
             [
              0.3333333333333333,
              "#9c179e"
             ],
             [
              0.4444444444444444,
              "#bd3786"
             ],
             [
              0.5555555555555556,
              "#d8576b"
             ],
             [
              0.6666666666666666,
              "#ed7953"
             ],
             [
              0.7777777777777778,
              "#fb9f3a"
             ],
             [
              0.8888888888888888,
              "#fdca26"
             ],
             [
              1,
              "#f0f921"
             ]
            ],
            "type": "heatmapgl"
           }
          ],
          "histogram": [
           {
            "marker": {
             "pattern": {
              "fillmode": "overlay",
              "size": 10,
              "solidity": 0.2
             }
            },
            "type": "histogram"
           }
          ],
          "histogram2d": [
           {
            "colorbar": {
             "outlinewidth": 0,
             "ticks": ""
            },
            "colorscale": [
             [
              0,
              "#0d0887"
             ],
             [
              0.1111111111111111,
              "#46039f"
             ],
             [
              0.2222222222222222,
              "#7201a8"
             ],
             [
              0.3333333333333333,
              "#9c179e"
             ],
             [
              0.4444444444444444,
              "#bd3786"
             ],
             [
              0.5555555555555556,
              "#d8576b"
             ],
             [
              0.6666666666666666,
              "#ed7953"
             ],
             [
              0.7777777777777778,
              "#fb9f3a"
             ],
             [
              0.8888888888888888,
              "#fdca26"
             ],
             [
              1,
              "#f0f921"
             ]
            ],
            "type": "histogram2d"
           }
          ],
          "histogram2dcontour": [
           {
            "colorbar": {
             "outlinewidth": 0,
             "ticks": ""
            },
            "colorscale": [
             [
              0,
              "#0d0887"
             ],
             [
              0.1111111111111111,
              "#46039f"
             ],
             [
              0.2222222222222222,
              "#7201a8"
             ],
             [
              0.3333333333333333,
              "#9c179e"
             ],
             [
              0.4444444444444444,
              "#bd3786"
             ],
             [
              0.5555555555555556,
              "#d8576b"
             ],
             [
              0.6666666666666666,
              "#ed7953"
             ],
             [
              0.7777777777777778,
              "#fb9f3a"
             ],
             [
              0.8888888888888888,
              "#fdca26"
             ],
             [
              1,
              "#f0f921"
             ]
            ],
            "type": "histogram2dcontour"
           }
          ],
          "mesh3d": [
           {
            "colorbar": {
             "outlinewidth": 0,
             "ticks": ""
            },
            "type": "mesh3d"
           }
          ],
          "parcoords": [
           {
            "line": {
             "colorbar": {
              "outlinewidth": 0,
              "ticks": ""
             }
            },
            "type": "parcoords"
           }
          ],
          "pie": [
           {
            "automargin": true,
            "type": "pie"
           }
          ],
          "scatter": [
           {
            "fillpattern": {
             "fillmode": "overlay",
             "size": 10,
             "solidity": 0.2
            },
            "type": "scatter"
           }
          ],
          "scatter3d": [
           {
            "line": {
             "colorbar": {
              "outlinewidth": 0,
              "ticks": ""
             }
            },
            "marker": {
             "colorbar": {
              "outlinewidth": 0,
              "ticks": ""
             }
            },
            "type": "scatter3d"
           }
          ],
          "scattercarpet": [
           {
            "marker": {
             "colorbar": {
              "outlinewidth": 0,
              "ticks": ""
             }
            },
            "type": "scattercarpet"
           }
          ],
          "scattergeo": [
           {
            "marker": {
             "colorbar": {
              "outlinewidth": 0,
              "ticks": ""
             }
            },
            "type": "scattergeo"
           }
          ],
          "scattergl": [
           {
            "marker": {
             "colorbar": {
              "outlinewidth": 0,
              "ticks": ""
             }
            },
            "type": "scattergl"
           }
          ],
          "scattermapbox": [
           {
            "marker": {
             "colorbar": {
              "outlinewidth": 0,
              "ticks": ""
             }
            },
            "type": "scattermapbox"
           }
          ],
          "scatterpolar": [
           {
            "marker": {
             "colorbar": {
              "outlinewidth": 0,
              "ticks": ""
             }
            },
            "type": "scatterpolar"
           }
          ],
          "scatterpolargl": [
           {
            "marker": {
             "colorbar": {
              "outlinewidth": 0,
              "ticks": ""
             }
            },
            "type": "scatterpolargl"
           }
          ],
          "scatterternary": [
           {
            "marker": {
             "colorbar": {
              "outlinewidth": 0,
              "ticks": ""
             }
            },
            "type": "scatterternary"
           }
          ],
          "surface": [
           {
            "colorbar": {
             "outlinewidth": 0,
             "ticks": ""
            },
            "colorscale": [
             [
              0,
              "#0d0887"
             ],
             [
              0.1111111111111111,
              "#46039f"
             ],
             [
              0.2222222222222222,
              "#7201a8"
             ],
             [
              0.3333333333333333,
              "#9c179e"
             ],
             [
              0.4444444444444444,
              "#bd3786"
             ],
             [
              0.5555555555555556,
              "#d8576b"
             ],
             [
              0.6666666666666666,
              "#ed7953"
             ],
             [
              0.7777777777777778,
              "#fb9f3a"
             ],
             [
              0.8888888888888888,
              "#fdca26"
             ],
             [
              1,
              "#f0f921"
             ]
            ],
            "type": "surface"
           }
          ],
          "table": [
           {
            "cells": {
             "fill": {
              "color": "#EBF0F8"
             },
             "line": {
              "color": "white"
             }
            },
            "header": {
             "fill": {
              "color": "#C8D4E3"
             },
             "line": {
              "color": "white"
             }
            },
            "type": "table"
           }
          ]
         },
         "layout": {
          "annotationdefaults": {
           "arrowcolor": "#2a3f5f",
           "arrowhead": 0,
           "arrowwidth": 1
          },
          "autotypenumbers": "strict",
          "coloraxis": {
           "colorbar": {
            "outlinewidth": 0,
            "ticks": ""
           }
          },
          "colorscale": {
           "diverging": [
            [
             0,
             "#8e0152"
            ],
            [
             0.1,
             "#c51b7d"
            ],
            [
             0.2,
             "#de77ae"
            ],
            [
             0.3,
             "#f1b6da"
            ],
            [
             0.4,
             "#fde0ef"
            ],
            [
             0.5,
             "#f7f7f7"
            ],
            [
             0.6,
             "#e6f5d0"
            ],
            [
             0.7,
             "#b8e186"
            ],
            [
             0.8,
             "#7fbc41"
            ],
            [
             0.9,
             "#4d9221"
            ],
            [
             1,
             "#276419"
            ]
           ],
           "sequential": [
            [
             0,
             "#0d0887"
            ],
            [
             0.1111111111111111,
             "#46039f"
            ],
            [
             0.2222222222222222,
             "#7201a8"
            ],
            [
             0.3333333333333333,
             "#9c179e"
            ],
            [
             0.4444444444444444,
             "#bd3786"
            ],
            [
             0.5555555555555556,
             "#d8576b"
            ],
            [
             0.6666666666666666,
             "#ed7953"
            ],
            [
             0.7777777777777778,
             "#fb9f3a"
            ],
            [
             0.8888888888888888,
             "#fdca26"
            ],
            [
             1,
             "#f0f921"
            ]
           ],
           "sequentialminus": [
            [
             0,
             "#0d0887"
            ],
            [
             0.1111111111111111,
             "#46039f"
            ],
            [
             0.2222222222222222,
             "#7201a8"
            ],
            [
             0.3333333333333333,
             "#9c179e"
            ],
            [
             0.4444444444444444,
             "#bd3786"
            ],
            [
             0.5555555555555556,
             "#d8576b"
            ],
            [
             0.6666666666666666,
             "#ed7953"
            ],
            [
             0.7777777777777778,
             "#fb9f3a"
            ],
            [
             0.8888888888888888,
             "#fdca26"
            ],
            [
             1,
             "#f0f921"
            ]
           ]
          },
          "colorway": [
           "#636efa",
           "#EF553B",
           "#00cc96",
           "#ab63fa",
           "#FFA15A",
           "#19d3f3",
           "#FF6692",
           "#B6E880",
           "#FF97FF",
           "#FECB52"
          ],
          "font": {
           "color": "#2a3f5f"
          },
          "geo": {
           "bgcolor": "white",
           "lakecolor": "white",
           "landcolor": "#E5ECF6",
           "showlakes": true,
           "showland": true,
           "subunitcolor": "white"
          },
          "hoverlabel": {
           "align": "left"
          },
          "hovermode": "closest",
          "mapbox": {
           "style": "light"
          },
          "paper_bgcolor": "white",
          "plot_bgcolor": "#E5ECF6",
          "polar": {
           "angularaxis": {
            "gridcolor": "white",
            "linecolor": "white",
            "ticks": ""
           },
           "bgcolor": "#E5ECF6",
           "radialaxis": {
            "gridcolor": "white",
            "linecolor": "white",
            "ticks": ""
           }
          },
          "scene": {
           "xaxis": {
            "backgroundcolor": "#E5ECF6",
            "gridcolor": "white",
            "gridwidth": 2,
            "linecolor": "white",
            "showbackground": true,
            "ticks": "",
            "zerolinecolor": "white"
           },
           "yaxis": {
            "backgroundcolor": "#E5ECF6",
            "gridcolor": "white",
            "gridwidth": 2,
            "linecolor": "white",
            "showbackground": true,
            "ticks": "",
            "zerolinecolor": "white"
           },
           "zaxis": {
            "backgroundcolor": "#E5ECF6",
            "gridcolor": "white",
            "gridwidth": 2,
            "linecolor": "white",
            "showbackground": true,
            "ticks": "",
            "zerolinecolor": "white"
           }
          },
          "shapedefaults": {
           "line": {
            "color": "#2a3f5f"
           }
          },
          "ternary": {
           "aaxis": {
            "gridcolor": "white",
            "linecolor": "white",
            "ticks": ""
           },
           "baxis": {
            "gridcolor": "white",
            "linecolor": "white",
            "ticks": ""
           },
           "bgcolor": "#E5ECF6",
           "caxis": {
            "gridcolor": "white",
            "linecolor": "white",
            "ticks": ""
           }
          },
          "title": {
           "x": 0.05
          },
          "xaxis": {
           "automargin": true,
           "gridcolor": "white",
           "linecolor": "white",
           "ticks": "",
           "title": {
            "standoff": 15
           },
           "zerolinecolor": "white",
           "zerolinewidth": 2
          },
          "yaxis": {
           "automargin": true,
           "gridcolor": "white",
           "linecolor": "white",
           "ticks": "",
           "title": {
            "standoff": 15
           },
           "zerolinecolor": "white",
           "zerolinewidth": 2
          }
         }
        },
        "title": {
         "text": "GANTT Chart"
        },
        "xaxis": {
         "range": [
          "1970-01-01T01:12:06",
          "1970-01-02T06:10:58"
         ],
         "title": {
          "font": {
           "color": "#7f7f7f",
           "family": "Courier New, monospace",
           "size": 18
          },
          "text": "Time"
         }
        },
        "yaxis": {
         "title": {
          "font": {
           "color": "#7f7f7f",
           "family": "Courier New, monospace",
           "size": 18
          },
          "text": "Activities"
         }
        }
       }
      },
      "text/html": [
       "<div>                            <div id=\"1b7d3594-bb1e-4a05-8890-6621c9b4eab9\" class=\"plotly-graph-div\" style=\"height:525px; width:100%;\"></div>            <script type=\"text/javascript\">                require([\"plotly\"], function(Plotly) {                    window.PLOTLYENV=window.PLOTLYENV || {};                                    if (document.getElementById(\"1b7d3594-bb1e-4a05-8890-6621c9b4eab9\")) {                    Plotly.newPlot(                        \"1b7d3594-bb1e-4a05-8890-6621c9b4eab9\",                        [{\"connectgaps\":false,\"hoverinfo\":\"y+name\",\"line\":{\"color\":\"rgb(38,127,32)\",\"width\":10},\"mode\":\"lines\",\"name\":\"loading:Carrier B\",\"x\":[\"1970-01-01T01:45:26\",\"1970-01-01T01:45:26\",\"1970-01-01T02:27:06\",\"1970-01-01T02:27:06\",\"1970-01-01T02:27:06\",\"1970-01-01T05:25:46\",\"1970-01-01T05:25:46\",\"1970-01-01T06:07:26\",\"1970-01-01T06:07:26\",\"1970-01-01T06:07:26\",\"1970-01-01T09:06:06\",\"1970-01-01T09:06:06\",\"1970-01-01T09:47:46\",\"1970-01-01T09:47:46\",\"1970-01-01T09:47:46\",\"1970-01-01T12:46:26\",\"1970-01-01T12:46:26\",\"1970-01-01T13:28:06\",\"1970-01-01T13:28:06\",\"1970-01-01T13:28:06\",\"1970-01-01T16:58:58\",\"1970-01-01T16:58:58\",\"1970-01-01T17:40:38\",\"1970-01-01T17:40:38\",\"1970-01-01T17:40:38\",\"1970-01-01T20:39:18\",\"1970-01-01T20:39:18\",\"1970-01-01T21:20:58\",\"1970-01-01T21:20:58\",\"1970-01-01T21:20:58\",\"1970-01-02T00:19:38\",\"1970-01-02T00:19:38\",\"1970-01-02T01:01:18\",\"1970-01-02T01:01:18\",\"1970-01-02T01:01:18\",\"1970-01-02T03:59:58\",\"1970-01-02T03:59:58\",\"1970-01-02T04:41:38\",\"1970-01-02T04:41:38\",\"1970-01-02T04:41:38\",\"1970-01-01T01:45:26\",\"1970-01-01T01:45:26\",\"1970-01-01T02:27:06\",\"1970-01-01T02:27:06\",\"1970-01-01T02:27:06\",\"1970-01-01T05:25:46\",\"1970-01-01T05:25:46\",\"1970-01-01T06:07:26\",\"1970-01-01T06:07:26\",\"1970-01-01T06:07:26\",\"1970-01-01T09:06:06\",\"1970-01-01T09:06:06\",\"1970-01-01T09:47:46\",\"1970-01-01T09:47:46\",\"1970-01-01T09:47:46\",\"1970-01-01T12:46:26\",\"1970-01-01T12:46:26\",\"1970-01-01T13:28:06\",\"1970-01-01T13:28:06\",\"1970-01-01T13:28:06\",\"1970-01-01T16:58:58\",\"1970-01-01T16:58:58\",\"1970-01-01T17:40:38\",\"1970-01-01T17:40:38\",\"1970-01-01T17:40:38\",\"1970-01-01T20:39:18\",\"1970-01-01T20:39:18\",\"1970-01-01T21:20:58\",\"1970-01-01T21:20:58\",\"1970-01-01T21:20:58\",\"1970-01-02T00:19:38\",\"1970-01-02T00:19:38\",\"1970-01-02T01:01:18\",\"1970-01-02T01:01:18\",\"1970-01-02T01:01:18\",\"1970-01-02T03:59:58\",\"1970-01-02T03:59:58\",\"1970-01-02T04:41:38\",\"1970-01-02T04:41:38\",\"1970-01-02T04:41:38\"],\"y\":[\"Trench\",\"Trench\",\"Trench\",\"Trench\",null,\"Trench\",\"Trench\",\"Trench\",\"Trench\",null,\"Trench\",\"Trench\",\"Trench\",\"Trench\",null,\"Trench\",\"Trench\",\"Trench\",\"Trench\",null,\"Trench\",\"Trench\",\"Trench\",\"Trench\",null,\"Trench\",\"Trench\",\"Trench\",\"Trench\",null,\"Trench\",\"Trench\",\"Trench\",\"Trench\",null,\"Trench\",\"Trench\",\"Trench\",\"Trench\",null,\"Cutter T\",\"Cutter T\",\"Cutter T\",\"Cutter T\",null,\"Cutter T\",\"Cutter T\",\"Cutter T\",\"Cutter T\",null,\"Cutter T\",\"Cutter T\",\"Cutter T\",\"Cutter T\",null,\"Cutter T\",\"Cutter T\",\"Cutter T\",\"Cutter T\",null,\"Cutter T\",\"Cutter T\",\"Cutter T\",\"Cutter T\",null,\"Cutter T\",\"Cutter T\",\"Cutter T\",\"Cutter T\",null,\"Cutter T\",\"Cutter T\",\"Cutter T\",\"Cutter T\",null,\"Cutter T\",\"Cutter T\",\"Cutter T\",\"Cutter T\",null],\"type\":\"scatter\"},{\"connectgaps\":false,\"hoverinfo\":\"y+name\",\"line\":{\"color\":\"rgb(66,155,60)\",\"width\":10},\"mode\":\"lines\",\"name\":\"loading:Carrier A\",\"x\":[\"1970-01-01T02:27:06\",\"1970-01-01T02:27:06\",\"1970-01-01T03:00:26\",\"1970-01-01T03:00:26\",\"1970-01-01T03:00:26\",\"1970-01-01T06:07:26\",\"1970-01-01T06:07:26\",\"1970-01-01T06:40:46\",\"1970-01-01T06:40:46\",\"1970-01-01T06:40:46\",\"1970-01-01T09:47:46\",\"1970-01-01T09:47:46\",\"1970-01-01T10:21:06\",\"1970-01-01T10:21:06\",\"1970-01-01T10:21:06\",\"1970-01-01T14:01:26\",\"1970-01-01T14:01:26\",\"1970-01-01T14:34:46\",\"1970-01-01T14:34:46\",\"1970-01-01T14:34:46\",\"1970-01-01T17:40:38\",\"1970-01-01T17:40:38\",\"1970-01-01T18:13:58\",\"1970-01-01T18:13:58\",\"1970-01-01T18:13:58\",\"1970-01-01T21:20:58\",\"1970-01-01T21:20:58\",\"1970-01-01T21:54:18\",\"1970-01-01T21:54:18\",\"1970-01-01T21:54:18\",\"1970-01-02T01:01:18\",\"1970-01-02T01:01:18\",\"1970-01-02T01:34:38\",\"1970-01-02T01:34:38\",\"1970-01-02T01:34:38\",\"1970-01-01T02:27:06\",\"1970-01-01T02:27:06\",\"1970-01-01T03:00:26\",\"1970-01-01T03:00:26\",\"1970-01-01T03:00:26\",\"1970-01-01T06:07:26\",\"1970-01-01T06:07:26\",\"1970-01-01T06:40:46\",\"1970-01-01T06:40:46\",\"1970-01-01T06:40:46\",\"1970-01-01T09:47:46\",\"1970-01-01T09:47:46\",\"1970-01-01T10:21:06\",\"1970-01-01T10:21:06\",\"1970-01-01T10:21:06\",\"1970-01-01T14:01:26\",\"1970-01-01T14:01:26\",\"1970-01-01T14:34:46\",\"1970-01-01T14:34:46\",\"1970-01-01T14:34:46\",\"1970-01-01T17:40:38\",\"1970-01-01T17:40:38\",\"1970-01-01T18:13:58\",\"1970-01-01T18:13:58\",\"1970-01-01T18:13:58\",\"1970-01-01T21:20:58\",\"1970-01-01T21:20:58\",\"1970-01-01T21:54:18\",\"1970-01-01T21:54:18\",\"1970-01-01T21:54:18\",\"1970-01-02T01:01:18\",\"1970-01-02T01:01:18\",\"1970-01-02T01:34:38\",\"1970-01-02T01:34:38\",\"1970-01-02T01:34:38\"],\"y\":[\"Trench\",\"Trench\",\"Trench\",\"Trench\",null,\"Trench\",\"Trench\",\"Trench\",\"Trench\",null,\"Trench\",\"Trench\",\"Trench\",\"Trench\",null,\"Trench\",\"Trench\",\"Trench\",\"Trench\",null,\"Trench\",\"Trench\",\"Trench\",\"Trench\",null,\"Trench\",\"Trench\",\"Trench\",\"Trench\",null,\"Trench\",\"Trench\",\"Trench\",\"Trench\",null,\"Cutter T\",\"Cutter T\",\"Cutter T\",\"Cutter T\",null,\"Cutter T\",\"Cutter T\",\"Cutter T\",\"Cutter T\",null,\"Cutter T\",\"Cutter T\",\"Cutter T\",\"Cutter T\",null,\"Cutter T\",\"Cutter T\",\"Cutter T\",\"Cutter T\",null,\"Cutter T\",\"Cutter T\",\"Cutter T\",\"Cutter T\",null,\"Cutter T\",\"Cutter T\",\"Cutter T\",\"Cutter T\",null,\"Cutter T\",\"Cutter T\",\"Cutter T\",\"Cutter T\",null],\"type\":\"scatter\"},{\"connectgaps\":false,\"hoverinfo\":\"y+name\",\"line\":{\"color\":\"rgb(94,183,88)\",\"width\":10},\"mode\":\"lines\",\"name\":\"loading:Carrier C\",\"x\":[\"1970-01-01T01:12:06\",\"1970-01-01T01:12:06\",\"1970-01-01T01:45:26\",\"1970-01-01T01:45:26\",\"1970-01-01T01:45:26\",\"1970-01-01T04:09:38\",\"1970-01-01T04:09:38\",\"1970-01-01T04:42:58\",\"1970-01-01T04:42:58\",\"1970-01-01T04:42:58\",\"1970-01-01T07:07:10\",\"1970-01-01T07:07:10\",\"1970-01-01T07:40:30\",\"1970-01-01T07:40:30\",\"1970-01-01T07:40:30\",\"1970-01-01T10:21:06\",\"1970-01-01T10:21:06\",\"1970-01-01T10:54:26\",\"1970-01-01T10:54:26\",\"1970-01-01T10:54:26\",\"1970-01-01T13:28:06\",\"1970-01-01T13:28:06\",\"1970-01-01T14:01:26\",\"1970-01-01T14:01:26\",\"1970-01-01T14:01:26\",\"1970-01-01T16:25:38\",\"1970-01-01T16:25:38\",\"1970-01-01T16:58:58\",\"1970-01-01T16:58:58\",\"1970-01-01T16:58:58\",\"1970-01-01T19:23:10\",\"1970-01-01T19:23:10\",\"1970-01-01T19:56:30\",\"1970-01-01T19:56:30\",\"1970-01-01T19:56:30\",\"1970-01-01T22:20:42\",\"1970-01-01T22:20:42\",\"1970-01-01T22:54:02\",\"1970-01-01T22:54:02\",\"1970-01-01T22:54:02\",\"1970-01-02T01:34:38\",\"1970-01-02T01:34:38\",\"1970-01-02T02:07:58\",\"1970-01-02T02:07:58\",\"1970-01-02T02:07:58\",\"1970-01-01T01:12:06\",\"1970-01-01T01:12:06\",\"1970-01-01T01:45:26\",\"1970-01-01T01:45:26\",\"1970-01-01T01:45:26\",\"1970-01-01T04:09:38\",\"1970-01-01T04:09:38\",\"1970-01-01T04:42:58\",\"1970-01-01T04:42:58\",\"1970-01-01T04:42:58\",\"1970-01-01T07:07:10\",\"1970-01-01T07:07:10\",\"1970-01-01T07:40:30\",\"1970-01-01T07:40:30\",\"1970-01-01T07:40:30\",\"1970-01-01T10:21:06\",\"1970-01-01T10:21:06\",\"1970-01-01T10:54:26\",\"1970-01-01T10:54:26\",\"1970-01-01T10:54:26\",\"1970-01-01T13:28:06\",\"1970-01-01T13:28:06\",\"1970-01-01T14:01:26\",\"1970-01-01T14:01:26\",\"1970-01-01T14:01:26\",\"1970-01-01T16:25:38\",\"1970-01-01T16:25:38\",\"1970-01-01T16:58:58\",\"1970-01-01T16:58:58\",\"1970-01-01T16:58:58\",\"1970-01-01T19:23:10\",\"1970-01-01T19:23:10\",\"1970-01-01T19:56:30\",\"1970-01-01T19:56:30\",\"1970-01-01T19:56:30\",\"1970-01-01T22:20:42\",\"1970-01-01T22:20:42\",\"1970-01-01T22:54:02\",\"1970-01-01T22:54:02\",\"1970-01-01T22:54:02\",\"1970-01-02T01:34:38\",\"1970-01-02T01:34:38\",\"1970-01-02T02:07:58\",\"1970-01-02T02:07:58\",\"1970-01-02T02:07:58\"],\"y\":[\"Trench\",\"Trench\",\"Trench\",\"Trench\",null,\"Trench\",\"Trench\",\"Trench\",\"Trench\",null,\"Trench\",\"Trench\",\"Trench\",\"Trench\",null,\"Trench\",\"Trench\",\"Trench\",\"Trench\",null,\"Trench\",\"Trench\",\"Trench\",\"Trench\",null,\"Trench\",\"Trench\",\"Trench\",\"Trench\",null,\"Trench\",\"Trench\",\"Trench\",\"Trench\",null,\"Trench\",\"Trench\",\"Trench\",\"Trench\",null,\"Trench\",\"Trench\",\"Trench\",\"Trench\",null,\"Cutter T\",\"Cutter T\",\"Cutter T\",\"Cutter T\",null,\"Cutter T\",\"Cutter T\",\"Cutter T\",\"Cutter T\",null,\"Cutter T\",\"Cutter T\",\"Cutter T\",\"Cutter T\",null,\"Cutter T\",\"Cutter T\",\"Cutter T\",\"Cutter T\",null,\"Cutter T\",\"Cutter T\",\"Cutter T\",\"Cutter T\",null,\"Cutter T\",\"Cutter T\",\"Cutter T\",\"Cutter T\",null,\"Cutter T\",\"Cutter T\",\"Cutter T\",\"Cutter T\",null,\"Cutter T\",\"Cutter T\",\"Cutter T\",\"Cutter T\",null,\"Cutter T\",\"Cutter T\",\"Cutter T\",\"Cutter T\",null],\"type\":\"scatter\"},{\"connectgaps\":false,\"hoverinfo\":\"y+name\",\"line\":{\"color\":\"rgb(122,211,116)\",\"width\":10},\"mode\":\"lines\",\"name\":\"unloading:Carrier C\",\"x\":[\"1970-01-01T02:21:29\",\"1970-01-01T02:21:29\",\"1970-01-01T02:57:32\",\"1970-01-01T02:57:32\",\"1970-01-01T02:57:32\",\"1970-01-01T05:19:01\",\"1970-01-01T05:19:01\",\"1970-01-01T05:55:04\",\"1970-01-01T05:55:04\",\"1970-01-01T05:55:04\",\"1970-01-01T08:16:33\",\"1970-01-01T08:16:33\",\"1970-01-01T08:52:36\",\"1970-01-01T08:52:36\",\"1970-01-01T08:52:36\",\"1970-01-01T11:30:29\",\"1970-01-01T11:30:29\",\"1970-01-01T12:06:32\",\"1970-01-01T12:06:32\",\"1970-01-01T12:06:32\",\"1970-01-01T14:37:29\",\"1970-01-01T14:37:29\",\"1970-01-01T15:13:32\",\"1970-01-01T15:13:32\",\"1970-01-01T15:13:32\",\"1970-01-01T17:35:01\",\"1970-01-01T17:35:01\",\"1970-01-01T18:11:04\",\"1970-01-01T18:11:04\",\"1970-01-01T18:11:04\",\"1970-01-01T20:32:33\",\"1970-01-01T20:32:33\",\"1970-01-01T21:08:36\",\"1970-01-01T21:08:36\",\"1970-01-01T21:08:36\",\"1970-01-01T23:30:05\",\"1970-01-01T23:30:05\",\"1970-01-02T00:06:08\",\"1970-01-02T00:06:08\",\"1970-01-02T00:06:08\",\"1970-01-02T02:44:01\",\"1970-01-02T02:44:01\",\"1970-01-02T03:20:04\",\"1970-01-02T03:20:04\",\"1970-01-02T03:20:04\"],\"y\":[\"Reclamation\",\"Reclamation\",\"Reclamation\",\"Reclamation\",null,\"Reclamation\",\"Reclamation\",\"Reclamation\",\"Reclamation\",null,\"Reclamation\",\"Reclamation\",\"Reclamation\",\"Reclamation\",null,\"Reclamation\",\"Reclamation\",\"Reclamation\",\"Reclamation\",null,\"Reclamation\",\"Reclamation\",\"Reclamation\",\"Reclamation\",null,\"Reclamation\",\"Reclamation\",\"Reclamation\",\"Reclamation\",null,\"Reclamation\",\"Reclamation\",\"Reclamation\",\"Reclamation\",null,\"Reclamation\",\"Reclamation\",\"Reclamation\",\"Reclamation\",null,\"Reclamation\",\"Reclamation\",\"Reclamation\",\"Reclamation\",null],\"type\":\"scatter\"},{\"connectgaps\":false,\"hoverinfo\":\"y+name\",\"line\":{\"color\":\"rgb(150,239,144)\",\"width\":10},\"mode\":\"lines\",\"name\":\"unloading:Carrier B\",\"x\":[\"1970-01-01T03:11:46\",\"1970-01-01T03:11:46\",\"1970-01-01T03:56:26\",\"1970-01-01T03:56:26\",\"1970-01-01T03:56:26\",\"1970-01-01T06:52:06\",\"1970-01-01T06:52:06\",\"1970-01-01T07:36:46\",\"1970-01-01T07:36:46\",\"1970-01-01T07:36:46\",\"1970-01-01T10:32:26\",\"1970-01-01T10:32:26\",\"1970-01-01T11:17:06\",\"1970-01-01T11:17:06\",\"1970-01-01T11:17:06\",\"1970-01-01T14:12:46\",\"1970-01-01T14:12:46\",\"1970-01-01T14:57:26\",\"1970-01-01T14:57:26\",\"1970-01-01T14:57:26\",\"1970-01-01T18:25:18\",\"1970-01-01T18:25:18\",\"1970-01-01T19:09:58\",\"1970-01-01T19:09:58\",\"1970-01-01T19:09:58\",\"1970-01-01T22:05:38\",\"1970-01-01T22:05:38\",\"1970-01-01T22:50:18\",\"1970-01-01T22:50:18\",\"1970-01-01T22:50:18\",\"1970-01-02T01:45:58\",\"1970-01-02T01:45:58\",\"1970-01-02T02:30:38\",\"1970-01-02T02:30:38\",\"1970-01-02T02:30:38\",\"1970-01-02T05:26:18\",\"1970-01-02T05:26:18\",\"1970-01-02T06:10:58\",\"1970-01-02T06:10:58\",\"1970-01-02T06:10:58\"],\"y\":[\"Reclamation\",\"Reclamation\",\"Reclamation\",\"Reclamation\",null,\"Reclamation\",\"Reclamation\",\"Reclamation\",\"Reclamation\",null,\"Reclamation\",\"Reclamation\",\"Reclamation\",\"Reclamation\",null,\"Reclamation\",\"Reclamation\",\"Reclamation\",\"Reclamation\",null,\"Reclamation\",\"Reclamation\",\"Reclamation\",\"Reclamation\",null,\"Reclamation\",\"Reclamation\",\"Reclamation\",\"Reclamation\",null,\"Reclamation\",\"Reclamation\",\"Reclamation\",\"Reclamation\",null,\"Reclamation\",\"Reclamation\",\"Reclamation\",\"Reclamation\",null],\"type\":\"scatter\"},{\"connectgaps\":false,\"hoverinfo\":\"y+name\",\"line\":{\"color\":\"rgb(178,11,172)\",\"width\":10},\"mode\":\"lines\",\"name\":\"unloading:Carrier A\",\"x\":[\"1970-01-01T03:45:43\",\"1970-01-01T03:45:43\",\"1970-01-01T04:31:00\",\"1970-01-01T04:31:00\",\"1970-01-01T04:31:00\",\"1970-01-01T07:26:03\",\"1970-01-01T07:26:03\",\"1970-01-01T08:11:20\",\"1970-01-01T08:11:20\",\"1970-01-01T08:11:20\",\"1970-01-01T11:06:23\",\"1970-01-01T11:06:23\",\"1970-01-01T11:51:40\",\"1970-01-01T11:51:40\",\"1970-01-01T11:51:40\",\"1970-01-01T15:20:03\",\"1970-01-01T15:20:03\",\"1970-01-01T16:05:20\",\"1970-01-01T16:05:20\",\"1970-01-01T16:05:20\",\"1970-01-01T18:59:15\",\"1970-01-01T18:59:15\",\"1970-01-01T19:44:32\",\"1970-01-01T19:44:32\",\"1970-01-01T19:44:32\",\"1970-01-01T22:39:35\",\"1970-01-01T22:39:35\",\"1970-01-01T23:24:52\",\"1970-01-01T23:24:52\",\"1970-01-01T23:24:52\",\"1970-01-02T02:19:55\",\"1970-01-02T02:19:55\",\"1970-01-02T03:05:12\",\"1970-01-02T03:05:12\",\"1970-01-02T03:05:12\"],\"y\":[\"Reclamation\",\"Reclamation\",\"Reclamation\",\"Reclamation\",null,\"Reclamation\",\"Reclamation\",\"Reclamation\",\"Reclamation\",null,\"Reclamation\",\"Reclamation\",\"Reclamation\",\"Reclamation\",null,\"Reclamation\",\"Reclamation\",\"Reclamation\",\"Reclamation\",null,\"Reclamation\",\"Reclamation\",\"Reclamation\",\"Reclamation\",null,\"Reclamation\",\"Reclamation\",\"Reclamation\",\"Reclamation\",null,\"Reclamation\",\"Reclamation\",\"Reclamation\",\"Reclamation\",null],\"type\":\"scatter\"},{\"connectgaps\":false,\"hoverinfo\":\"y+name\",\"line\":{\"color\":\"rgb(206,39,200)\",\"width\":10},\"mode\":\"lines\",\"name\":\"loading:Carrier B\",\"x\":[\"1970-01-01T01:45:26\",\"1970-01-01T01:45:26\",\"1970-01-01T02:27:06\",\"1970-01-01T02:27:06\",\"1970-01-01T02:27:06\",\"1970-01-01T05:25:46\",\"1970-01-01T05:25:46\",\"1970-01-01T06:07:26\",\"1970-01-01T06:07:26\",\"1970-01-01T06:07:26\",\"1970-01-01T09:06:06\",\"1970-01-01T09:06:06\",\"1970-01-01T09:47:46\",\"1970-01-01T09:47:46\",\"1970-01-01T09:47:46\",\"1970-01-01T12:46:26\",\"1970-01-01T12:46:26\",\"1970-01-01T13:28:06\",\"1970-01-01T13:28:06\",\"1970-01-01T13:28:06\",\"1970-01-01T16:58:58\",\"1970-01-01T16:58:58\",\"1970-01-01T17:40:38\",\"1970-01-01T17:40:38\",\"1970-01-01T17:40:38\",\"1970-01-01T20:39:18\",\"1970-01-01T20:39:18\",\"1970-01-01T21:20:58\",\"1970-01-01T21:20:58\",\"1970-01-01T21:20:58\",\"1970-01-02T00:19:38\",\"1970-01-02T00:19:38\",\"1970-01-02T01:01:18\",\"1970-01-02T01:01:18\",\"1970-01-02T01:01:18\",\"1970-01-02T03:59:58\",\"1970-01-02T03:59:58\",\"1970-01-02T04:41:38\",\"1970-01-02T04:41:38\",\"1970-01-02T04:41:38\",\"1970-01-01T01:45:26\",\"1970-01-01T01:45:26\",\"1970-01-01T02:27:06\",\"1970-01-01T02:27:06\",\"1970-01-01T02:27:06\",\"1970-01-01T05:25:46\",\"1970-01-01T05:25:46\",\"1970-01-01T06:07:26\",\"1970-01-01T06:07:26\",\"1970-01-01T06:07:26\",\"1970-01-01T09:06:06\",\"1970-01-01T09:06:06\",\"1970-01-01T09:47:46\",\"1970-01-01T09:47:46\",\"1970-01-01T09:47:46\",\"1970-01-01T12:46:26\",\"1970-01-01T12:46:26\",\"1970-01-01T13:28:06\",\"1970-01-01T13:28:06\",\"1970-01-01T13:28:06\",\"1970-01-01T16:58:58\",\"1970-01-01T16:58:58\",\"1970-01-01T17:40:38\",\"1970-01-01T17:40:38\",\"1970-01-01T17:40:38\",\"1970-01-01T20:39:18\",\"1970-01-01T20:39:18\",\"1970-01-01T21:20:58\",\"1970-01-01T21:20:58\",\"1970-01-01T21:20:58\",\"1970-01-02T00:19:38\",\"1970-01-02T00:19:38\",\"1970-01-02T01:01:18\",\"1970-01-02T01:01:18\",\"1970-01-02T01:01:18\",\"1970-01-02T03:59:58\",\"1970-01-02T03:59:58\",\"1970-01-02T04:41:38\",\"1970-01-02T04:41:38\",\"1970-01-02T04:41:38\"],\"y\":[\"Trench\",\"Trench\",\"Trench\",\"Trench\",null,\"Trench\",\"Trench\",\"Trench\",\"Trench\",null,\"Trench\",\"Trench\",\"Trench\",\"Trench\",null,\"Trench\",\"Trench\",\"Trench\",\"Trench\",null,\"Trench\",\"Trench\",\"Trench\",\"Trench\",null,\"Trench\",\"Trench\",\"Trench\",\"Trench\",null,\"Trench\",\"Trench\",\"Trench\",\"Trench\",null,\"Trench\",\"Trench\",\"Trench\",\"Trench\",null,\"Cutter T\",\"Cutter T\",\"Cutter T\",\"Cutter T\",null,\"Cutter T\",\"Cutter T\",\"Cutter T\",\"Cutter T\",null,\"Cutter T\",\"Cutter T\",\"Cutter T\",\"Cutter T\",null,\"Cutter T\",\"Cutter T\",\"Cutter T\",\"Cutter T\",null,\"Cutter T\",\"Cutter T\",\"Cutter T\",\"Cutter T\",null,\"Cutter T\",\"Cutter T\",\"Cutter T\",\"Cutter T\",null,\"Cutter T\",\"Cutter T\",\"Cutter T\",\"Cutter T\",null,\"Cutter T\",\"Cutter T\",\"Cutter T\",\"Cutter T\",null],\"type\":\"scatter\"},{\"connectgaps\":false,\"hoverinfo\":\"y+name\",\"line\":{\"color\":\"rgb(234,67,228)\",\"width\":10},\"mode\":\"lines\",\"name\":\"loading:Carrier A\",\"x\":[\"1970-01-01T02:27:06\",\"1970-01-01T02:27:06\",\"1970-01-01T03:00:26\",\"1970-01-01T03:00:26\",\"1970-01-01T03:00:26\",\"1970-01-01T06:07:26\",\"1970-01-01T06:07:26\",\"1970-01-01T06:40:46\",\"1970-01-01T06:40:46\",\"1970-01-01T06:40:46\",\"1970-01-01T09:47:46\",\"1970-01-01T09:47:46\",\"1970-01-01T10:21:06\",\"1970-01-01T10:21:06\",\"1970-01-01T10:21:06\",\"1970-01-01T14:01:26\",\"1970-01-01T14:01:26\",\"1970-01-01T14:34:46\",\"1970-01-01T14:34:46\",\"1970-01-01T14:34:46\",\"1970-01-01T17:40:38\",\"1970-01-01T17:40:38\",\"1970-01-01T18:13:58\",\"1970-01-01T18:13:58\",\"1970-01-01T18:13:58\",\"1970-01-01T21:20:58\",\"1970-01-01T21:20:58\",\"1970-01-01T21:54:18\",\"1970-01-01T21:54:18\",\"1970-01-01T21:54:18\",\"1970-01-02T01:01:18\",\"1970-01-02T01:01:18\",\"1970-01-02T01:34:38\",\"1970-01-02T01:34:38\",\"1970-01-02T01:34:38\",\"1970-01-01T02:27:06\",\"1970-01-01T02:27:06\",\"1970-01-01T03:00:26\",\"1970-01-01T03:00:26\",\"1970-01-01T03:00:26\",\"1970-01-01T06:07:26\",\"1970-01-01T06:07:26\",\"1970-01-01T06:40:46\",\"1970-01-01T06:40:46\",\"1970-01-01T06:40:46\",\"1970-01-01T09:47:46\",\"1970-01-01T09:47:46\",\"1970-01-01T10:21:06\",\"1970-01-01T10:21:06\",\"1970-01-01T10:21:06\",\"1970-01-01T14:01:26\",\"1970-01-01T14:01:26\",\"1970-01-01T14:34:46\",\"1970-01-01T14:34:46\",\"1970-01-01T14:34:46\",\"1970-01-01T17:40:38\",\"1970-01-01T17:40:38\",\"1970-01-01T18:13:58\",\"1970-01-01T18:13:58\",\"1970-01-01T18:13:58\",\"1970-01-01T21:20:58\",\"1970-01-01T21:20:58\",\"1970-01-01T21:54:18\",\"1970-01-01T21:54:18\",\"1970-01-01T21:54:18\",\"1970-01-02T01:01:18\",\"1970-01-02T01:01:18\",\"1970-01-02T01:34:38\",\"1970-01-02T01:34:38\",\"1970-01-02T01:34:38\"],\"y\":[\"Trench\",\"Trench\",\"Trench\",\"Trench\",null,\"Trench\",\"Trench\",\"Trench\",\"Trench\",null,\"Trench\",\"Trench\",\"Trench\",\"Trench\",null,\"Trench\",\"Trench\",\"Trench\",\"Trench\",null,\"Trench\",\"Trench\",\"Trench\",\"Trench\",null,\"Trench\",\"Trench\",\"Trench\",\"Trench\",null,\"Trench\",\"Trench\",\"Trench\",\"Trench\",null,\"Cutter T\",\"Cutter T\",\"Cutter T\",\"Cutter T\",null,\"Cutter T\",\"Cutter T\",\"Cutter T\",\"Cutter T\",null,\"Cutter T\",\"Cutter T\",\"Cutter T\",\"Cutter T\",null,\"Cutter T\",\"Cutter T\",\"Cutter T\",\"Cutter T\",null,\"Cutter T\",\"Cutter T\",\"Cutter T\",\"Cutter T\",null,\"Cutter T\",\"Cutter T\",\"Cutter T\",\"Cutter T\",null,\"Cutter T\",\"Cutter T\",\"Cutter T\",\"Cutter T\",null],\"type\":\"scatter\"},{\"connectgaps\":false,\"hoverinfo\":\"y+name\",\"line\":{\"color\":\"rgb(6,95,0)\",\"width\":10},\"mode\":\"lines\",\"name\":\"loading:Carrier C\",\"x\":[\"1970-01-01T01:12:06\",\"1970-01-01T01:12:06\",\"1970-01-01T01:45:26\",\"1970-01-01T01:45:26\",\"1970-01-01T01:45:26\",\"1970-01-01T04:09:38\",\"1970-01-01T04:09:38\",\"1970-01-01T04:42:58\",\"1970-01-01T04:42:58\",\"1970-01-01T04:42:58\",\"1970-01-01T07:07:10\",\"1970-01-01T07:07:10\",\"1970-01-01T07:40:30\",\"1970-01-01T07:40:30\",\"1970-01-01T07:40:30\",\"1970-01-01T10:21:06\",\"1970-01-01T10:21:06\",\"1970-01-01T10:54:26\",\"1970-01-01T10:54:26\",\"1970-01-01T10:54:26\",\"1970-01-01T13:28:06\",\"1970-01-01T13:28:06\",\"1970-01-01T14:01:26\",\"1970-01-01T14:01:26\",\"1970-01-01T14:01:26\",\"1970-01-01T16:25:38\",\"1970-01-01T16:25:38\",\"1970-01-01T16:58:58\",\"1970-01-01T16:58:58\",\"1970-01-01T16:58:58\",\"1970-01-01T19:23:10\",\"1970-01-01T19:23:10\",\"1970-01-01T19:56:30\",\"1970-01-01T19:56:30\",\"1970-01-01T19:56:30\",\"1970-01-01T22:20:42\",\"1970-01-01T22:20:42\",\"1970-01-01T22:54:02\",\"1970-01-01T22:54:02\",\"1970-01-01T22:54:02\",\"1970-01-02T01:34:38\",\"1970-01-02T01:34:38\",\"1970-01-02T02:07:58\",\"1970-01-02T02:07:58\",\"1970-01-02T02:07:58\",\"1970-01-01T01:12:06\",\"1970-01-01T01:12:06\",\"1970-01-01T01:45:26\",\"1970-01-01T01:45:26\",\"1970-01-01T01:45:26\",\"1970-01-01T04:09:38\",\"1970-01-01T04:09:38\",\"1970-01-01T04:42:58\",\"1970-01-01T04:42:58\",\"1970-01-01T04:42:58\",\"1970-01-01T07:07:10\",\"1970-01-01T07:07:10\",\"1970-01-01T07:40:30\",\"1970-01-01T07:40:30\",\"1970-01-01T07:40:30\",\"1970-01-01T10:21:06\",\"1970-01-01T10:21:06\",\"1970-01-01T10:54:26\",\"1970-01-01T10:54:26\",\"1970-01-01T10:54:26\",\"1970-01-01T13:28:06\",\"1970-01-01T13:28:06\",\"1970-01-01T14:01:26\",\"1970-01-01T14:01:26\",\"1970-01-01T14:01:26\",\"1970-01-01T16:25:38\",\"1970-01-01T16:25:38\",\"1970-01-01T16:58:58\",\"1970-01-01T16:58:58\",\"1970-01-01T16:58:58\",\"1970-01-01T19:23:10\",\"1970-01-01T19:23:10\",\"1970-01-01T19:56:30\",\"1970-01-01T19:56:30\",\"1970-01-01T19:56:30\",\"1970-01-01T22:20:42\",\"1970-01-01T22:20:42\",\"1970-01-01T22:54:02\",\"1970-01-01T22:54:02\",\"1970-01-01T22:54:02\",\"1970-01-02T01:34:38\",\"1970-01-02T01:34:38\",\"1970-01-02T02:07:58\",\"1970-01-02T02:07:58\",\"1970-01-02T02:07:58\"],\"y\":[\"Trench\",\"Trench\",\"Trench\",\"Trench\",null,\"Trench\",\"Trench\",\"Trench\",\"Trench\",null,\"Trench\",\"Trench\",\"Trench\",\"Trench\",null,\"Trench\",\"Trench\",\"Trench\",\"Trench\",null,\"Trench\",\"Trench\",\"Trench\",\"Trench\",null,\"Trench\",\"Trench\",\"Trench\",\"Trench\",null,\"Trench\",\"Trench\",\"Trench\",\"Trench\",null,\"Trench\",\"Trench\",\"Trench\",\"Trench\",null,\"Trench\",\"Trench\",\"Trench\",\"Trench\",null,\"Cutter T\",\"Cutter T\",\"Cutter T\",\"Cutter T\",null,\"Cutter T\",\"Cutter T\",\"Cutter T\",\"Cutter T\",null,\"Cutter T\",\"Cutter T\",\"Cutter T\",\"Cutter T\",null,\"Cutter T\",\"Cutter T\",\"Cutter T\",\"Cutter T\",null,\"Cutter T\",\"Cutter T\",\"Cutter T\",\"Cutter T\",null,\"Cutter T\",\"Cutter T\",\"Cutter T\",\"Cutter T\",null,\"Cutter T\",\"Cutter T\",\"Cutter T\",\"Cutter T\",null,\"Cutter T\",\"Cutter T\",\"Cutter T\",\"Cutter T\",null,\"Cutter T\",\"Cutter T\",\"Cutter T\",\"Cutter T\",null],\"type\":\"scatter\"}],                        {\"hovermode\":\"closest\",\"legend\":{\"orientation\":\"h\",\"x\":0,\"y\":-0.2},\"template\":{\"data\":{\"barpolar\":[{\"marker\":{\"line\":{\"color\":\"#E5ECF6\",\"width\":0.5},\"pattern\":{\"fillmode\":\"overlay\",\"size\":10,\"solidity\":0.2}},\"type\":\"barpolar\"}],\"bar\":[{\"error_x\":{\"color\":\"#2a3f5f\"},\"error_y\":{\"color\":\"#2a3f5f\"},\"marker\":{\"line\":{\"color\":\"#E5ECF6\",\"width\":0.5},\"pattern\":{\"fillmode\":\"overlay\",\"size\":10,\"solidity\":0.2}},\"type\":\"bar\"}],\"carpet\":[{\"aaxis\":{\"endlinecolor\":\"#2a3f5f\",\"gridcolor\":\"white\",\"linecolor\":\"white\",\"minorgridcolor\":\"white\",\"startlinecolor\":\"#2a3f5f\"},\"baxis\":{\"endlinecolor\":\"#2a3f5f\",\"gridcolor\":\"white\",\"linecolor\":\"white\",\"minorgridcolor\":\"white\",\"startlinecolor\":\"#2a3f5f\"},\"type\":\"carpet\"}],\"choropleth\":[{\"colorbar\":{\"outlinewidth\":0,\"ticks\":\"\"},\"type\":\"choropleth\"}],\"contourcarpet\":[{\"colorbar\":{\"outlinewidth\":0,\"ticks\":\"\"},\"type\":\"contourcarpet\"}],\"contour\":[{\"colorbar\":{\"outlinewidth\":0,\"ticks\":\"\"},\"colorscale\":[[0.0,\"#0d0887\"],[0.1111111111111111,\"#46039f\"],[0.2222222222222222,\"#7201a8\"],[0.3333333333333333,\"#9c179e\"],[0.4444444444444444,\"#bd3786\"],[0.5555555555555556,\"#d8576b\"],[0.6666666666666666,\"#ed7953\"],[0.7777777777777778,\"#fb9f3a\"],[0.8888888888888888,\"#fdca26\"],[1.0,\"#f0f921\"]],\"type\":\"contour\"}],\"heatmapgl\":[{\"colorbar\":{\"outlinewidth\":0,\"ticks\":\"\"},\"colorscale\":[[0.0,\"#0d0887\"],[0.1111111111111111,\"#46039f\"],[0.2222222222222222,\"#7201a8\"],[0.3333333333333333,\"#9c179e\"],[0.4444444444444444,\"#bd3786\"],[0.5555555555555556,\"#d8576b\"],[0.6666666666666666,\"#ed7953\"],[0.7777777777777778,\"#fb9f3a\"],[0.8888888888888888,\"#fdca26\"],[1.0,\"#f0f921\"]],\"type\":\"heatmapgl\"}],\"heatmap\":[{\"colorbar\":{\"outlinewidth\":0,\"ticks\":\"\"},\"colorscale\":[[0.0,\"#0d0887\"],[0.1111111111111111,\"#46039f\"],[0.2222222222222222,\"#7201a8\"],[0.3333333333333333,\"#9c179e\"],[0.4444444444444444,\"#bd3786\"],[0.5555555555555556,\"#d8576b\"],[0.6666666666666666,\"#ed7953\"],[0.7777777777777778,\"#fb9f3a\"],[0.8888888888888888,\"#fdca26\"],[1.0,\"#f0f921\"]],\"type\":\"heatmap\"}],\"histogram2dcontour\":[{\"colorbar\":{\"outlinewidth\":0,\"ticks\":\"\"},\"colorscale\":[[0.0,\"#0d0887\"],[0.1111111111111111,\"#46039f\"],[0.2222222222222222,\"#7201a8\"],[0.3333333333333333,\"#9c179e\"],[0.4444444444444444,\"#bd3786\"],[0.5555555555555556,\"#d8576b\"],[0.6666666666666666,\"#ed7953\"],[0.7777777777777778,\"#fb9f3a\"],[0.8888888888888888,\"#fdca26\"],[1.0,\"#f0f921\"]],\"type\":\"histogram2dcontour\"}],\"histogram2d\":[{\"colorbar\":{\"outlinewidth\":0,\"ticks\":\"\"},\"colorscale\":[[0.0,\"#0d0887\"],[0.1111111111111111,\"#46039f\"],[0.2222222222222222,\"#7201a8\"],[0.3333333333333333,\"#9c179e\"],[0.4444444444444444,\"#bd3786\"],[0.5555555555555556,\"#d8576b\"],[0.6666666666666666,\"#ed7953\"],[0.7777777777777778,\"#fb9f3a\"],[0.8888888888888888,\"#fdca26\"],[1.0,\"#f0f921\"]],\"type\":\"histogram2d\"}],\"histogram\":[{\"marker\":{\"pattern\":{\"fillmode\":\"overlay\",\"size\":10,\"solidity\":0.2}},\"type\":\"histogram\"}],\"mesh3d\":[{\"colorbar\":{\"outlinewidth\":0,\"ticks\":\"\"},\"type\":\"mesh3d\"}],\"parcoords\":[{\"line\":{\"colorbar\":{\"outlinewidth\":0,\"ticks\":\"\"}},\"type\":\"parcoords\"}],\"pie\":[{\"automargin\":true,\"type\":\"pie\"}],\"scatter3d\":[{\"line\":{\"colorbar\":{\"outlinewidth\":0,\"ticks\":\"\"}},\"marker\":{\"colorbar\":{\"outlinewidth\":0,\"ticks\":\"\"}},\"type\":\"scatter3d\"}],\"scattercarpet\":[{\"marker\":{\"colorbar\":{\"outlinewidth\":0,\"ticks\":\"\"}},\"type\":\"scattercarpet\"}],\"scattergeo\":[{\"marker\":{\"colorbar\":{\"outlinewidth\":0,\"ticks\":\"\"}},\"type\":\"scattergeo\"}],\"scattergl\":[{\"marker\":{\"colorbar\":{\"outlinewidth\":0,\"ticks\":\"\"}},\"type\":\"scattergl\"}],\"scattermapbox\":[{\"marker\":{\"colorbar\":{\"outlinewidth\":0,\"ticks\":\"\"}},\"type\":\"scattermapbox\"}],\"scatterpolargl\":[{\"marker\":{\"colorbar\":{\"outlinewidth\":0,\"ticks\":\"\"}},\"type\":\"scatterpolargl\"}],\"scatterpolar\":[{\"marker\":{\"colorbar\":{\"outlinewidth\":0,\"ticks\":\"\"}},\"type\":\"scatterpolar\"}],\"scatter\":[{\"fillpattern\":{\"fillmode\":\"overlay\",\"size\":10,\"solidity\":0.2},\"type\":\"scatter\"}],\"scatterternary\":[{\"marker\":{\"colorbar\":{\"outlinewidth\":0,\"ticks\":\"\"}},\"type\":\"scatterternary\"}],\"surface\":[{\"colorbar\":{\"outlinewidth\":0,\"ticks\":\"\"},\"colorscale\":[[0.0,\"#0d0887\"],[0.1111111111111111,\"#46039f\"],[0.2222222222222222,\"#7201a8\"],[0.3333333333333333,\"#9c179e\"],[0.4444444444444444,\"#bd3786\"],[0.5555555555555556,\"#d8576b\"],[0.6666666666666666,\"#ed7953\"],[0.7777777777777778,\"#fb9f3a\"],[0.8888888888888888,\"#fdca26\"],[1.0,\"#f0f921\"]],\"type\":\"surface\"}],\"table\":[{\"cells\":{\"fill\":{\"color\":\"#EBF0F8\"},\"line\":{\"color\":\"white\"}},\"header\":{\"fill\":{\"color\":\"#C8D4E3\"},\"line\":{\"color\":\"white\"}},\"type\":\"table\"}]},\"layout\":{\"annotationdefaults\":{\"arrowcolor\":\"#2a3f5f\",\"arrowhead\":0,\"arrowwidth\":1},\"autotypenumbers\":\"strict\",\"coloraxis\":{\"colorbar\":{\"outlinewidth\":0,\"ticks\":\"\"}},\"colorscale\":{\"diverging\":[[0,\"#8e0152\"],[0.1,\"#c51b7d\"],[0.2,\"#de77ae\"],[0.3,\"#f1b6da\"],[0.4,\"#fde0ef\"],[0.5,\"#f7f7f7\"],[0.6,\"#e6f5d0\"],[0.7,\"#b8e186\"],[0.8,\"#7fbc41\"],[0.9,\"#4d9221\"],[1,\"#276419\"]],\"sequential\":[[0.0,\"#0d0887\"],[0.1111111111111111,\"#46039f\"],[0.2222222222222222,\"#7201a8\"],[0.3333333333333333,\"#9c179e\"],[0.4444444444444444,\"#bd3786\"],[0.5555555555555556,\"#d8576b\"],[0.6666666666666666,\"#ed7953\"],[0.7777777777777778,\"#fb9f3a\"],[0.8888888888888888,\"#fdca26\"],[1.0,\"#f0f921\"]],\"sequentialminus\":[[0.0,\"#0d0887\"],[0.1111111111111111,\"#46039f\"],[0.2222222222222222,\"#7201a8\"],[0.3333333333333333,\"#9c179e\"],[0.4444444444444444,\"#bd3786\"],[0.5555555555555556,\"#d8576b\"],[0.6666666666666666,\"#ed7953\"],[0.7777777777777778,\"#fb9f3a\"],[0.8888888888888888,\"#fdca26\"],[1.0,\"#f0f921\"]]},\"colorway\":[\"#636efa\",\"#EF553B\",\"#00cc96\",\"#ab63fa\",\"#FFA15A\",\"#19d3f3\",\"#FF6692\",\"#B6E880\",\"#FF97FF\",\"#FECB52\"],\"font\":{\"color\":\"#2a3f5f\"},\"geo\":{\"bgcolor\":\"white\",\"lakecolor\":\"white\",\"landcolor\":\"#E5ECF6\",\"showlakes\":true,\"showland\":true,\"subunitcolor\":\"white\"},\"hoverlabel\":{\"align\":\"left\"},\"hovermode\":\"closest\",\"mapbox\":{\"style\":\"light\"},\"paper_bgcolor\":\"white\",\"plot_bgcolor\":\"#E5ECF6\",\"polar\":{\"angularaxis\":{\"gridcolor\":\"white\",\"linecolor\":\"white\",\"ticks\":\"\"},\"bgcolor\":\"#E5ECF6\",\"radialaxis\":{\"gridcolor\":\"white\",\"linecolor\":\"white\",\"ticks\":\"\"}},\"scene\":{\"xaxis\":{\"backgroundcolor\":\"#E5ECF6\",\"gridcolor\":\"white\",\"gridwidth\":2,\"linecolor\":\"white\",\"showbackground\":true,\"ticks\":\"\",\"zerolinecolor\":\"white\"},\"yaxis\":{\"backgroundcolor\":\"#E5ECF6\",\"gridcolor\":\"white\",\"gridwidth\":2,\"linecolor\":\"white\",\"showbackground\":true,\"ticks\":\"\",\"zerolinecolor\":\"white\"},\"zaxis\":{\"backgroundcolor\":\"#E5ECF6\",\"gridcolor\":\"white\",\"gridwidth\":2,\"linecolor\":\"white\",\"showbackground\":true,\"ticks\":\"\",\"zerolinecolor\":\"white\"}},\"shapedefaults\":{\"line\":{\"color\":\"#2a3f5f\"}},\"ternary\":{\"aaxis\":{\"gridcolor\":\"white\",\"linecolor\":\"white\",\"ticks\":\"\"},\"baxis\":{\"gridcolor\":\"white\",\"linecolor\":\"white\",\"ticks\":\"\"},\"bgcolor\":\"#E5ECF6\",\"caxis\":{\"gridcolor\":\"white\",\"linecolor\":\"white\",\"ticks\":\"\"}},\"title\":{\"x\":0.05},\"xaxis\":{\"automargin\":true,\"gridcolor\":\"white\",\"linecolor\":\"white\",\"ticks\":\"\",\"title\":{\"standoff\":15},\"zerolinecolor\":\"white\",\"zerolinewidth\":2},\"yaxis\":{\"automargin\":true,\"gridcolor\":\"white\",\"linecolor\":\"white\",\"ticks\":\"\",\"title\":{\"standoff\":15},\"zerolinecolor\":\"white\",\"zerolinewidth\":2}}},\"title\":{\"text\":\"GANTT Chart\"},\"xaxis\":{\"range\":[\"1970-01-01T01:12:06\",\"1970-01-02T06:10:58\"],\"title\":{\"font\":{\"color\":\"#7f7f7f\",\"family\":\"Courier New, monospace\",\"size\":18},\"text\":\"Time\"}},\"yaxis\":{\"title\":{\"font\":{\"color\":\"#7f7f7f\",\"family\":\"Courier New, monospace\",\"size\":18},\"text\":\"Activities\"}}},                        {\"responsive\": true}                    ).then(function(){\n",
       "                            \n",
       "var gd = document.getElementById('1b7d3594-bb1e-4a05-8890-6621c9b4eab9');\n",
       "var x = new MutationObserver(function (mutations, observer) {{\n",
       "        var display = window.getComputedStyle(gd).display;\n",
       "        if (!display || display === 'none') {{\n",
       "            console.log([gd, 'removed!']);\n",
       "            Plotly.purge(gd);\n",
       "            observer.disconnect();\n",
       "        }}\n",
       "}});\n",
       "\n",
       "// Listen for the removal of the full notebook cells\n",
       "var notebookContainer = gd.closest('#notebook-container');\n",
       "if (notebookContainer) {{\n",
       "    x.observe(notebookContainer, {childList: true});\n",
       "}}\n",
       "\n",
       "// Listen for the clearing of the current output cell\n",
       "var outputEl = gd.closest('.output');\n",
       "if (outputEl) {{\n",
       "    x.observe(outputEl, {childList: true});\n",
       "}}\n",
       "\n",
       "                        })                };                });            </script>        </div>"
      ]
     },
     "metadata": {},
     "output_type": "display_data"
    }
   ],
   "source": [
    "fig = get_gantt_chart([from_site, to_site, cutter], id_map=activities)"
   ]
  },
  {
   "cell_type": "markdown",
   "id": "9d68aee1",
   "metadata": {},
   "source": [
    "Plot only activities whose namespace (first letters) matches load*"
   ]
  },
  {
   "cell_type": "code",
   "execution_count": 8,
   "id": "6141ac61",
   "metadata": {},
   "outputs": [
    {
     "data": {
      "text/html": [
       "        <script type=\"text/javascript\">\n",
       "        window.PlotlyConfig = {MathJaxConfig: 'local'};\n",
       "        if (window.MathJax && window.MathJax.Hub && window.MathJax.Hub.Config) {window.MathJax.Hub.Config({SVG: {font: \"STIX-Web\"}});}\n",
       "        if (typeof require !== 'undefined') {\n",
       "        require.undef(\"plotly\");\n",
       "        requirejs.config({\n",
       "            paths: {\n",
       "                'plotly': ['https://cdn.plot.ly/plotly-2.18.2.min']\n",
       "            }\n",
       "        });\n",
       "        require(['plotly'], function(Plotly) {\n",
       "            window._Plotly = Plotly;\n",
       "        });\n",
       "        }\n",
       "        </script>\n",
       "        "
      ]
     },
     "metadata": {},
     "output_type": "display_data"
    },
    {
     "data": {
      "application/vnd.plotly.v1+json": {
       "config": {
        "linkText": "Export to plot.ly",
        "plotlyServerURL": "https://plot.ly",
        "showLink": false
       },
       "data": [
        {
         "connectgaps": false,
         "hoverinfo": "y+name",
         "line": {
          "color": "rgb(176,27,180)",
          "width": 10
         },
         "mode": "lines",
         "name": "loading:Carrier A",
         "type": "scatter",
         "x": [
          "1970-01-01T02:27:06",
          "1970-01-01T02:27:06",
          "1970-01-01T03:00:26",
          "1970-01-01T03:00:26",
          "1970-01-01T03:00:26",
          "1970-01-01T06:07:26",
          "1970-01-01T06:07:26",
          "1970-01-01T06:40:46",
          "1970-01-01T06:40:46",
          "1970-01-01T06:40:46",
          "1970-01-01T09:47:46",
          "1970-01-01T09:47:46",
          "1970-01-01T10:21:06",
          "1970-01-01T10:21:06",
          "1970-01-01T10:21:06",
          "1970-01-01T14:01:26",
          "1970-01-01T14:01:26",
          "1970-01-01T14:34:46",
          "1970-01-01T14:34:46",
          "1970-01-01T14:34:46",
          "1970-01-01T17:40:38",
          "1970-01-01T17:40:38",
          "1970-01-01T18:13:58",
          "1970-01-01T18:13:58",
          "1970-01-01T18:13:58",
          "1970-01-01T21:20:58",
          "1970-01-01T21:20:58",
          "1970-01-01T21:54:18",
          "1970-01-01T21:54:18",
          "1970-01-01T21:54:18",
          "1970-01-02T01:01:18",
          "1970-01-02T01:01:18",
          "1970-01-02T01:34:38",
          "1970-01-02T01:34:38",
          "1970-01-02T01:34:38"
         ],
         "y": [
          "loading:Carrier A",
          "loading:Carrier A",
          "loading:Carrier A",
          "loading:Carrier A",
          null,
          "loading:Carrier A",
          "loading:Carrier A",
          "loading:Carrier A",
          "loading:Carrier A",
          null,
          "loading:Carrier A",
          "loading:Carrier A",
          "loading:Carrier A",
          "loading:Carrier A",
          null,
          "loading:Carrier A",
          "loading:Carrier A",
          "loading:Carrier A",
          "loading:Carrier A",
          null,
          "loading:Carrier A",
          "loading:Carrier A",
          "loading:Carrier A",
          "loading:Carrier A",
          null,
          "loading:Carrier A",
          "loading:Carrier A",
          "loading:Carrier A",
          "loading:Carrier A",
          null,
          "loading:Carrier A",
          "loading:Carrier A",
          "loading:Carrier A",
          "loading:Carrier A",
          null
         ]
        },
        {
         "connectgaps": false,
         "hoverinfo": "y+name",
         "line": {
          "color": "rgb(5,112,9)",
          "width": 10
         },
         "mode": "lines",
         "name": "loading:Carrier B",
         "type": "scatter",
         "x": [
          "1970-01-01T01:45:26",
          "1970-01-01T01:45:26",
          "1970-01-01T02:27:06",
          "1970-01-01T02:27:06",
          "1970-01-01T02:27:06",
          "1970-01-01T05:25:46",
          "1970-01-01T05:25:46",
          "1970-01-01T06:07:26",
          "1970-01-01T06:07:26",
          "1970-01-01T06:07:26",
          "1970-01-01T09:06:06",
          "1970-01-01T09:06:06",
          "1970-01-01T09:47:46",
          "1970-01-01T09:47:46",
          "1970-01-01T09:47:46",
          "1970-01-01T12:46:26",
          "1970-01-01T12:46:26",
          "1970-01-01T13:28:06",
          "1970-01-01T13:28:06",
          "1970-01-01T13:28:06",
          "1970-01-01T16:58:58",
          "1970-01-01T16:58:58",
          "1970-01-01T17:40:38",
          "1970-01-01T17:40:38",
          "1970-01-01T17:40:38",
          "1970-01-01T20:39:18",
          "1970-01-01T20:39:18",
          "1970-01-01T21:20:58",
          "1970-01-01T21:20:58",
          "1970-01-01T21:20:58",
          "1970-01-02T00:19:38",
          "1970-01-02T00:19:38",
          "1970-01-02T01:01:18",
          "1970-01-02T01:01:18",
          "1970-01-02T01:01:18",
          "1970-01-02T03:59:58",
          "1970-01-02T03:59:58",
          "1970-01-02T04:41:38",
          "1970-01-02T04:41:38",
          "1970-01-02T04:41:38"
         ],
         "y": [
          "loading:Carrier B",
          "loading:Carrier B",
          "loading:Carrier B",
          "loading:Carrier B",
          null,
          "loading:Carrier B",
          "loading:Carrier B",
          "loading:Carrier B",
          "loading:Carrier B",
          null,
          "loading:Carrier B",
          "loading:Carrier B",
          "loading:Carrier B",
          "loading:Carrier B",
          null,
          "loading:Carrier B",
          "loading:Carrier B",
          "loading:Carrier B",
          "loading:Carrier B",
          null,
          "loading:Carrier B",
          "loading:Carrier B",
          "loading:Carrier B",
          "loading:Carrier B",
          null,
          "loading:Carrier B",
          "loading:Carrier B",
          "loading:Carrier B",
          "loading:Carrier B",
          null,
          "loading:Carrier B",
          "loading:Carrier B",
          "loading:Carrier B",
          "loading:Carrier B",
          null,
          "loading:Carrier B",
          "loading:Carrier B",
          "loading:Carrier B",
          "loading:Carrier B",
          null
         ]
        },
        {
         "connectgaps": false,
         "hoverinfo": "y+name",
         "line": {
          "color": "rgb(90,197,94)",
          "width": 10
         },
         "mode": "lines",
         "name": "loading:Carrier C",
         "type": "scatter",
         "x": [
          "1970-01-01T01:12:06",
          "1970-01-01T01:12:06",
          "1970-01-01T01:45:26",
          "1970-01-01T01:45:26",
          "1970-01-01T01:45:26",
          "1970-01-01T04:09:38",
          "1970-01-01T04:09:38",
          "1970-01-01T04:42:58",
          "1970-01-01T04:42:58",
          "1970-01-01T04:42:58",
          "1970-01-01T07:07:10",
          "1970-01-01T07:07:10",
          "1970-01-01T07:40:30",
          "1970-01-01T07:40:30",
          "1970-01-01T07:40:30",
          "1970-01-01T10:21:06",
          "1970-01-01T10:21:06",
          "1970-01-01T10:54:26",
          "1970-01-01T10:54:26",
          "1970-01-01T10:54:26",
          "1970-01-01T13:28:06",
          "1970-01-01T13:28:06",
          "1970-01-01T14:01:26",
          "1970-01-01T14:01:26",
          "1970-01-01T14:01:26",
          "1970-01-01T16:25:38",
          "1970-01-01T16:25:38",
          "1970-01-01T16:58:58",
          "1970-01-01T16:58:58",
          "1970-01-01T16:58:58",
          "1970-01-01T19:23:10",
          "1970-01-01T19:23:10",
          "1970-01-01T19:56:30",
          "1970-01-01T19:56:30",
          "1970-01-01T19:56:30",
          "1970-01-01T22:20:42",
          "1970-01-01T22:20:42",
          "1970-01-01T22:54:02",
          "1970-01-01T22:54:02",
          "1970-01-01T22:54:02",
          "1970-01-02T01:34:38",
          "1970-01-02T01:34:38",
          "1970-01-02T02:07:58",
          "1970-01-02T02:07:58",
          "1970-01-02T02:07:58"
         ],
         "y": [
          "loading:Carrier C",
          "loading:Carrier C",
          "loading:Carrier C",
          "loading:Carrier C",
          null,
          "loading:Carrier C",
          "loading:Carrier C",
          "loading:Carrier C",
          "loading:Carrier C",
          null,
          "loading:Carrier C",
          "loading:Carrier C",
          "loading:Carrier C",
          "loading:Carrier C",
          null,
          "loading:Carrier C",
          "loading:Carrier C",
          "loading:Carrier C",
          "loading:Carrier C",
          null,
          "loading:Carrier C",
          "loading:Carrier C",
          "loading:Carrier C",
          "loading:Carrier C",
          null,
          "loading:Carrier C",
          "loading:Carrier C",
          "loading:Carrier C",
          "loading:Carrier C",
          null,
          "loading:Carrier C",
          "loading:Carrier C",
          "loading:Carrier C",
          "loading:Carrier C",
          null,
          "loading:Carrier C",
          "loading:Carrier C",
          "loading:Carrier C",
          "loading:Carrier C",
          null,
          "loading:Carrier C",
          "loading:Carrier C",
          "loading:Carrier C",
          "loading:Carrier C",
          null
         ]
        }
       ],
       "layout": {
        "hovermode": "closest",
        "legend": {
         "orientation": "h",
         "x": 0,
         "y": -0.2
        },
        "template": {
         "data": {
          "bar": [
           {
            "error_x": {
             "color": "#2a3f5f"
            },
            "error_y": {
             "color": "#2a3f5f"
            },
            "marker": {
             "line": {
              "color": "#E5ECF6",
              "width": 0.5
             },
             "pattern": {
              "fillmode": "overlay",
              "size": 10,
              "solidity": 0.2
             }
            },
            "type": "bar"
           }
          ],
          "barpolar": [
           {
            "marker": {
             "line": {
              "color": "#E5ECF6",
              "width": 0.5
             },
             "pattern": {
              "fillmode": "overlay",
              "size": 10,
              "solidity": 0.2
             }
            },
            "type": "barpolar"
           }
          ],
          "carpet": [
           {
            "aaxis": {
             "endlinecolor": "#2a3f5f",
             "gridcolor": "white",
             "linecolor": "white",
             "minorgridcolor": "white",
             "startlinecolor": "#2a3f5f"
            },
            "baxis": {
             "endlinecolor": "#2a3f5f",
             "gridcolor": "white",
             "linecolor": "white",
             "minorgridcolor": "white",
             "startlinecolor": "#2a3f5f"
            },
            "type": "carpet"
           }
          ],
          "choropleth": [
           {
            "colorbar": {
             "outlinewidth": 0,
             "ticks": ""
            },
            "type": "choropleth"
           }
          ],
          "contour": [
           {
            "colorbar": {
             "outlinewidth": 0,
             "ticks": ""
            },
            "colorscale": [
             [
              0,
              "#0d0887"
             ],
             [
              0.1111111111111111,
              "#46039f"
             ],
             [
              0.2222222222222222,
              "#7201a8"
             ],
             [
              0.3333333333333333,
              "#9c179e"
             ],
             [
              0.4444444444444444,
              "#bd3786"
             ],
             [
              0.5555555555555556,
              "#d8576b"
             ],
             [
              0.6666666666666666,
              "#ed7953"
             ],
             [
              0.7777777777777778,
              "#fb9f3a"
             ],
             [
              0.8888888888888888,
              "#fdca26"
             ],
             [
              1,
              "#f0f921"
             ]
            ],
            "type": "contour"
           }
          ],
          "contourcarpet": [
           {
            "colorbar": {
             "outlinewidth": 0,
             "ticks": ""
            },
            "type": "contourcarpet"
           }
          ],
          "heatmap": [
           {
            "colorbar": {
             "outlinewidth": 0,
             "ticks": ""
            },
            "colorscale": [
             [
              0,
              "#0d0887"
             ],
             [
              0.1111111111111111,
              "#46039f"
             ],
             [
              0.2222222222222222,
              "#7201a8"
             ],
             [
              0.3333333333333333,
              "#9c179e"
             ],
             [
              0.4444444444444444,
              "#bd3786"
             ],
             [
              0.5555555555555556,
              "#d8576b"
             ],
             [
              0.6666666666666666,
              "#ed7953"
             ],
             [
              0.7777777777777778,
              "#fb9f3a"
             ],
             [
              0.8888888888888888,
              "#fdca26"
             ],
             [
              1,
              "#f0f921"
             ]
            ],
            "type": "heatmap"
           }
          ],
          "heatmapgl": [
           {
            "colorbar": {
             "outlinewidth": 0,
             "ticks": ""
            },
            "colorscale": [
             [
              0,
              "#0d0887"
             ],
             [
              0.1111111111111111,
              "#46039f"
             ],
             [
              0.2222222222222222,
              "#7201a8"
             ],
             [
              0.3333333333333333,
              "#9c179e"
             ],
             [
              0.4444444444444444,
              "#bd3786"
             ],
             [
              0.5555555555555556,
              "#d8576b"
             ],
             [
              0.6666666666666666,
              "#ed7953"
             ],
             [
              0.7777777777777778,
              "#fb9f3a"
             ],
             [
              0.8888888888888888,
              "#fdca26"
             ],
             [
              1,
              "#f0f921"
             ]
            ],
            "type": "heatmapgl"
           }
          ],
          "histogram": [
           {
            "marker": {
             "pattern": {
              "fillmode": "overlay",
              "size": 10,
              "solidity": 0.2
             }
            },
            "type": "histogram"
           }
          ],
          "histogram2d": [
           {
            "colorbar": {
             "outlinewidth": 0,
             "ticks": ""
            },
            "colorscale": [
             [
              0,
              "#0d0887"
             ],
             [
              0.1111111111111111,
              "#46039f"
             ],
             [
              0.2222222222222222,
              "#7201a8"
             ],
             [
              0.3333333333333333,
              "#9c179e"
             ],
             [
              0.4444444444444444,
              "#bd3786"
             ],
             [
              0.5555555555555556,
              "#d8576b"
             ],
             [
              0.6666666666666666,
              "#ed7953"
             ],
             [
              0.7777777777777778,
              "#fb9f3a"
             ],
             [
              0.8888888888888888,
              "#fdca26"
             ],
             [
              1,
              "#f0f921"
             ]
            ],
            "type": "histogram2d"
           }
          ],
          "histogram2dcontour": [
           {
            "colorbar": {
             "outlinewidth": 0,
             "ticks": ""
            },
            "colorscale": [
             [
              0,
              "#0d0887"
             ],
             [
              0.1111111111111111,
              "#46039f"
             ],
             [
              0.2222222222222222,
              "#7201a8"
             ],
             [
              0.3333333333333333,
              "#9c179e"
             ],
             [
              0.4444444444444444,
              "#bd3786"
             ],
             [
              0.5555555555555556,
              "#d8576b"
             ],
             [
              0.6666666666666666,
              "#ed7953"
             ],
             [
              0.7777777777777778,
              "#fb9f3a"
             ],
             [
              0.8888888888888888,
              "#fdca26"
             ],
             [
              1,
              "#f0f921"
             ]
            ],
            "type": "histogram2dcontour"
           }
          ],
          "mesh3d": [
           {
            "colorbar": {
             "outlinewidth": 0,
             "ticks": ""
            },
            "type": "mesh3d"
           }
          ],
          "parcoords": [
           {
            "line": {
             "colorbar": {
              "outlinewidth": 0,
              "ticks": ""
             }
            },
            "type": "parcoords"
           }
          ],
          "pie": [
           {
            "automargin": true,
            "type": "pie"
           }
          ],
          "scatter": [
           {
            "fillpattern": {
             "fillmode": "overlay",
             "size": 10,
             "solidity": 0.2
            },
            "type": "scatter"
           }
          ],
          "scatter3d": [
           {
            "line": {
             "colorbar": {
              "outlinewidth": 0,
              "ticks": ""
             }
            },
            "marker": {
             "colorbar": {
              "outlinewidth": 0,
              "ticks": ""
             }
            },
            "type": "scatter3d"
           }
          ],
          "scattercarpet": [
           {
            "marker": {
             "colorbar": {
              "outlinewidth": 0,
              "ticks": ""
             }
            },
            "type": "scattercarpet"
           }
          ],
          "scattergeo": [
           {
            "marker": {
             "colorbar": {
              "outlinewidth": 0,
              "ticks": ""
             }
            },
            "type": "scattergeo"
           }
          ],
          "scattergl": [
           {
            "marker": {
             "colorbar": {
              "outlinewidth": 0,
              "ticks": ""
             }
            },
            "type": "scattergl"
           }
          ],
          "scattermapbox": [
           {
            "marker": {
             "colorbar": {
              "outlinewidth": 0,
              "ticks": ""
             }
            },
            "type": "scattermapbox"
           }
          ],
          "scatterpolar": [
           {
            "marker": {
             "colorbar": {
              "outlinewidth": 0,
              "ticks": ""
             }
            },
            "type": "scatterpolar"
           }
          ],
          "scatterpolargl": [
           {
            "marker": {
             "colorbar": {
              "outlinewidth": 0,
              "ticks": ""
             }
            },
            "type": "scatterpolargl"
           }
          ],
          "scatterternary": [
           {
            "marker": {
             "colorbar": {
              "outlinewidth": 0,
              "ticks": ""
             }
            },
            "type": "scatterternary"
           }
          ],
          "surface": [
           {
            "colorbar": {
             "outlinewidth": 0,
             "ticks": ""
            },
            "colorscale": [
             [
              0,
              "#0d0887"
             ],
             [
              0.1111111111111111,
              "#46039f"
             ],
             [
              0.2222222222222222,
              "#7201a8"
             ],
             [
              0.3333333333333333,
              "#9c179e"
             ],
             [
              0.4444444444444444,
              "#bd3786"
             ],
             [
              0.5555555555555556,
              "#d8576b"
             ],
             [
              0.6666666666666666,
              "#ed7953"
             ],
             [
              0.7777777777777778,
              "#fb9f3a"
             ],
             [
              0.8888888888888888,
              "#fdca26"
             ],
             [
              1,
              "#f0f921"
             ]
            ],
            "type": "surface"
           }
          ],
          "table": [
           {
            "cells": {
             "fill": {
              "color": "#EBF0F8"
             },
             "line": {
              "color": "white"
             }
            },
            "header": {
             "fill": {
              "color": "#C8D4E3"
             },
             "line": {
              "color": "white"
             }
            },
            "type": "table"
           }
          ]
         },
         "layout": {
          "annotationdefaults": {
           "arrowcolor": "#2a3f5f",
           "arrowhead": 0,
           "arrowwidth": 1
          },
          "autotypenumbers": "strict",
          "coloraxis": {
           "colorbar": {
            "outlinewidth": 0,
            "ticks": ""
           }
          },
          "colorscale": {
           "diverging": [
            [
             0,
             "#8e0152"
            ],
            [
             0.1,
             "#c51b7d"
            ],
            [
             0.2,
             "#de77ae"
            ],
            [
             0.3,
             "#f1b6da"
            ],
            [
             0.4,
             "#fde0ef"
            ],
            [
             0.5,
             "#f7f7f7"
            ],
            [
             0.6,
             "#e6f5d0"
            ],
            [
             0.7,
             "#b8e186"
            ],
            [
             0.8,
             "#7fbc41"
            ],
            [
             0.9,
             "#4d9221"
            ],
            [
             1,
             "#276419"
            ]
           ],
           "sequential": [
            [
             0,
             "#0d0887"
            ],
            [
             0.1111111111111111,
             "#46039f"
            ],
            [
             0.2222222222222222,
             "#7201a8"
            ],
            [
             0.3333333333333333,
             "#9c179e"
            ],
            [
             0.4444444444444444,
             "#bd3786"
            ],
            [
             0.5555555555555556,
             "#d8576b"
            ],
            [
             0.6666666666666666,
             "#ed7953"
            ],
            [
             0.7777777777777778,
             "#fb9f3a"
            ],
            [
             0.8888888888888888,
             "#fdca26"
            ],
            [
             1,
             "#f0f921"
            ]
           ],
           "sequentialminus": [
            [
             0,
             "#0d0887"
            ],
            [
             0.1111111111111111,
             "#46039f"
            ],
            [
             0.2222222222222222,
             "#7201a8"
            ],
            [
             0.3333333333333333,
             "#9c179e"
            ],
            [
             0.4444444444444444,
             "#bd3786"
            ],
            [
             0.5555555555555556,
             "#d8576b"
            ],
            [
             0.6666666666666666,
             "#ed7953"
            ],
            [
             0.7777777777777778,
             "#fb9f3a"
            ],
            [
             0.8888888888888888,
             "#fdca26"
            ],
            [
             1,
             "#f0f921"
            ]
           ]
          },
          "colorway": [
           "#636efa",
           "#EF553B",
           "#00cc96",
           "#ab63fa",
           "#FFA15A",
           "#19d3f3",
           "#FF6692",
           "#B6E880",
           "#FF97FF",
           "#FECB52"
          ],
          "font": {
           "color": "#2a3f5f"
          },
          "geo": {
           "bgcolor": "white",
           "lakecolor": "white",
           "landcolor": "#E5ECF6",
           "showlakes": true,
           "showland": true,
           "subunitcolor": "white"
          },
          "hoverlabel": {
           "align": "left"
          },
          "hovermode": "closest",
          "mapbox": {
           "style": "light"
          },
          "paper_bgcolor": "white",
          "plot_bgcolor": "#E5ECF6",
          "polar": {
           "angularaxis": {
            "gridcolor": "white",
            "linecolor": "white",
            "ticks": ""
           },
           "bgcolor": "#E5ECF6",
           "radialaxis": {
            "gridcolor": "white",
            "linecolor": "white",
            "ticks": ""
           }
          },
          "scene": {
           "xaxis": {
            "backgroundcolor": "#E5ECF6",
            "gridcolor": "white",
            "gridwidth": 2,
            "linecolor": "white",
            "showbackground": true,
            "ticks": "",
            "zerolinecolor": "white"
           },
           "yaxis": {
            "backgroundcolor": "#E5ECF6",
            "gridcolor": "white",
            "gridwidth": 2,
            "linecolor": "white",
            "showbackground": true,
            "ticks": "",
            "zerolinecolor": "white"
           },
           "zaxis": {
            "backgroundcolor": "#E5ECF6",
            "gridcolor": "white",
            "gridwidth": 2,
            "linecolor": "white",
            "showbackground": true,
            "ticks": "",
            "zerolinecolor": "white"
           }
          },
          "shapedefaults": {
           "line": {
            "color": "#2a3f5f"
           }
          },
          "ternary": {
           "aaxis": {
            "gridcolor": "white",
            "linecolor": "white",
            "ticks": ""
           },
           "baxis": {
            "gridcolor": "white",
            "linecolor": "white",
            "ticks": ""
           },
           "bgcolor": "#E5ECF6",
           "caxis": {
            "gridcolor": "white",
            "linecolor": "white",
            "ticks": ""
           }
          },
          "title": {
           "x": 0.05
          },
          "xaxis": {
           "automargin": true,
           "gridcolor": "white",
           "linecolor": "white",
           "ticks": "",
           "title": {
            "standoff": 15
           },
           "zerolinecolor": "white",
           "zerolinewidth": 2
          },
          "yaxis": {
           "automargin": true,
           "gridcolor": "white",
           "linecolor": "white",
           "ticks": "",
           "title": {
            "standoff": 15
           },
           "zerolinecolor": "white",
           "zerolinewidth": 2
          }
         }
        },
        "title": {
         "text": "GANTT Chart"
        },
        "xaxis": {
         "range": [
          "1970-01-01T01:12:06",
          "1970-01-02T04:41:38"
         ],
         "title": {
          "font": {
           "color": "#7f7f7f",
           "family": "Courier New, monospace",
           "size": 18
          },
          "text": "Time"
         }
        },
        "yaxis": {
         "title": {
          "font": {
           "color": "#7f7f7f",
           "family": "Courier New, monospace",
           "size": 18
          },
          "text": "Activities"
         }
        }
       }
      },
      "text/html": [
       "<div>                            <div id=\"57b2b7ec-a3f2-4266-97a6-5d79ab131374\" class=\"plotly-graph-div\" style=\"height:525px; width:100%;\"></div>            <script type=\"text/javascript\">                require([\"plotly\"], function(Plotly) {                    window.PLOTLYENV=window.PLOTLYENV || {};                                    if (document.getElementById(\"57b2b7ec-a3f2-4266-97a6-5d79ab131374\")) {                    Plotly.newPlot(                        \"57b2b7ec-a3f2-4266-97a6-5d79ab131374\",                        [{\"connectgaps\":false,\"hoverinfo\":\"y+name\",\"line\":{\"color\":\"rgb(176,27,180)\",\"width\":10},\"mode\":\"lines\",\"name\":\"loading:Carrier A\",\"x\":[\"1970-01-01T02:27:06\",\"1970-01-01T02:27:06\",\"1970-01-01T03:00:26\",\"1970-01-01T03:00:26\",\"1970-01-01T03:00:26\",\"1970-01-01T06:07:26\",\"1970-01-01T06:07:26\",\"1970-01-01T06:40:46\",\"1970-01-01T06:40:46\",\"1970-01-01T06:40:46\",\"1970-01-01T09:47:46\",\"1970-01-01T09:47:46\",\"1970-01-01T10:21:06\",\"1970-01-01T10:21:06\",\"1970-01-01T10:21:06\",\"1970-01-01T14:01:26\",\"1970-01-01T14:01:26\",\"1970-01-01T14:34:46\",\"1970-01-01T14:34:46\",\"1970-01-01T14:34:46\",\"1970-01-01T17:40:38\",\"1970-01-01T17:40:38\",\"1970-01-01T18:13:58\",\"1970-01-01T18:13:58\",\"1970-01-01T18:13:58\",\"1970-01-01T21:20:58\",\"1970-01-01T21:20:58\",\"1970-01-01T21:54:18\",\"1970-01-01T21:54:18\",\"1970-01-01T21:54:18\",\"1970-01-02T01:01:18\",\"1970-01-02T01:01:18\",\"1970-01-02T01:34:38\",\"1970-01-02T01:34:38\",\"1970-01-02T01:34:38\"],\"y\":[\"loading:Carrier A\",\"loading:Carrier A\",\"loading:Carrier A\",\"loading:Carrier A\",null,\"loading:Carrier A\",\"loading:Carrier A\",\"loading:Carrier A\",\"loading:Carrier A\",null,\"loading:Carrier A\",\"loading:Carrier A\",\"loading:Carrier A\",\"loading:Carrier A\",null,\"loading:Carrier A\",\"loading:Carrier A\",\"loading:Carrier A\",\"loading:Carrier A\",null,\"loading:Carrier A\",\"loading:Carrier A\",\"loading:Carrier A\",\"loading:Carrier A\",null,\"loading:Carrier A\",\"loading:Carrier A\",\"loading:Carrier A\",\"loading:Carrier A\",null,\"loading:Carrier A\",\"loading:Carrier A\",\"loading:Carrier A\",\"loading:Carrier A\",null],\"type\":\"scatter\"},{\"connectgaps\":false,\"hoverinfo\":\"y+name\",\"line\":{\"color\":\"rgb(5,112,9)\",\"width\":10},\"mode\":\"lines\",\"name\":\"loading:Carrier B\",\"x\":[\"1970-01-01T01:45:26\",\"1970-01-01T01:45:26\",\"1970-01-01T02:27:06\",\"1970-01-01T02:27:06\",\"1970-01-01T02:27:06\",\"1970-01-01T05:25:46\",\"1970-01-01T05:25:46\",\"1970-01-01T06:07:26\",\"1970-01-01T06:07:26\",\"1970-01-01T06:07:26\",\"1970-01-01T09:06:06\",\"1970-01-01T09:06:06\",\"1970-01-01T09:47:46\",\"1970-01-01T09:47:46\",\"1970-01-01T09:47:46\",\"1970-01-01T12:46:26\",\"1970-01-01T12:46:26\",\"1970-01-01T13:28:06\",\"1970-01-01T13:28:06\",\"1970-01-01T13:28:06\",\"1970-01-01T16:58:58\",\"1970-01-01T16:58:58\",\"1970-01-01T17:40:38\",\"1970-01-01T17:40:38\",\"1970-01-01T17:40:38\",\"1970-01-01T20:39:18\",\"1970-01-01T20:39:18\",\"1970-01-01T21:20:58\",\"1970-01-01T21:20:58\",\"1970-01-01T21:20:58\",\"1970-01-02T00:19:38\",\"1970-01-02T00:19:38\",\"1970-01-02T01:01:18\",\"1970-01-02T01:01:18\",\"1970-01-02T01:01:18\",\"1970-01-02T03:59:58\",\"1970-01-02T03:59:58\",\"1970-01-02T04:41:38\",\"1970-01-02T04:41:38\",\"1970-01-02T04:41:38\"],\"y\":[\"loading:Carrier B\",\"loading:Carrier B\",\"loading:Carrier B\",\"loading:Carrier B\",null,\"loading:Carrier B\",\"loading:Carrier B\",\"loading:Carrier B\",\"loading:Carrier B\",null,\"loading:Carrier B\",\"loading:Carrier B\",\"loading:Carrier B\",\"loading:Carrier B\",null,\"loading:Carrier B\",\"loading:Carrier B\",\"loading:Carrier B\",\"loading:Carrier B\",null,\"loading:Carrier B\",\"loading:Carrier B\",\"loading:Carrier B\",\"loading:Carrier B\",null,\"loading:Carrier B\",\"loading:Carrier B\",\"loading:Carrier B\",\"loading:Carrier B\",null,\"loading:Carrier B\",\"loading:Carrier B\",\"loading:Carrier B\",\"loading:Carrier B\",null,\"loading:Carrier B\",\"loading:Carrier B\",\"loading:Carrier B\",\"loading:Carrier B\",null],\"type\":\"scatter\"},{\"connectgaps\":false,\"hoverinfo\":\"y+name\",\"line\":{\"color\":\"rgb(90,197,94)\",\"width\":10},\"mode\":\"lines\",\"name\":\"loading:Carrier C\",\"x\":[\"1970-01-01T01:12:06\",\"1970-01-01T01:12:06\",\"1970-01-01T01:45:26\",\"1970-01-01T01:45:26\",\"1970-01-01T01:45:26\",\"1970-01-01T04:09:38\",\"1970-01-01T04:09:38\",\"1970-01-01T04:42:58\",\"1970-01-01T04:42:58\",\"1970-01-01T04:42:58\",\"1970-01-01T07:07:10\",\"1970-01-01T07:07:10\",\"1970-01-01T07:40:30\",\"1970-01-01T07:40:30\",\"1970-01-01T07:40:30\",\"1970-01-01T10:21:06\",\"1970-01-01T10:21:06\",\"1970-01-01T10:54:26\",\"1970-01-01T10:54:26\",\"1970-01-01T10:54:26\",\"1970-01-01T13:28:06\",\"1970-01-01T13:28:06\",\"1970-01-01T14:01:26\",\"1970-01-01T14:01:26\",\"1970-01-01T14:01:26\",\"1970-01-01T16:25:38\",\"1970-01-01T16:25:38\",\"1970-01-01T16:58:58\",\"1970-01-01T16:58:58\",\"1970-01-01T16:58:58\",\"1970-01-01T19:23:10\",\"1970-01-01T19:23:10\",\"1970-01-01T19:56:30\",\"1970-01-01T19:56:30\",\"1970-01-01T19:56:30\",\"1970-01-01T22:20:42\",\"1970-01-01T22:20:42\",\"1970-01-01T22:54:02\",\"1970-01-01T22:54:02\",\"1970-01-01T22:54:02\",\"1970-01-02T01:34:38\",\"1970-01-02T01:34:38\",\"1970-01-02T02:07:58\",\"1970-01-02T02:07:58\",\"1970-01-02T02:07:58\"],\"y\":[\"loading:Carrier C\",\"loading:Carrier C\",\"loading:Carrier C\",\"loading:Carrier C\",null,\"loading:Carrier C\",\"loading:Carrier C\",\"loading:Carrier C\",\"loading:Carrier C\",null,\"loading:Carrier C\",\"loading:Carrier C\",\"loading:Carrier C\",\"loading:Carrier C\",null,\"loading:Carrier C\",\"loading:Carrier C\",\"loading:Carrier C\",\"loading:Carrier C\",null,\"loading:Carrier C\",\"loading:Carrier C\",\"loading:Carrier C\",\"loading:Carrier C\",null,\"loading:Carrier C\",\"loading:Carrier C\",\"loading:Carrier C\",\"loading:Carrier C\",null,\"loading:Carrier C\",\"loading:Carrier C\",\"loading:Carrier C\",\"loading:Carrier C\",null,\"loading:Carrier C\",\"loading:Carrier C\",\"loading:Carrier C\",\"loading:Carrier C\",null,\"loading:Carrier C\",\"loading:Carrier C\",\"loading:Carrier C\",\"loading:Carrier C\",null],\"type\":\"scatter\"}],                        {\"hovermode\":\"closest\",\"legend\":{\"orientation\":\"h\",\"x\":0,\"y\":-0.2},\"template\":{\"data\":{\"barpolar\":[{\"marker\":{\"line\":{\"color\":\"#E5ECF6\",\"width\":0.5},\"pattern\":{\"fillmode\":\"overlay\",\"size\":10,\"solidity\":0.2}},\"type\":\"barpolar\"}],\"bar\":[{\"error_x\":{\"color\":\"#2a3f5f\"},\"error_y\":{\"color\":\"#2a3f5f\"},\"marker\":{\"line\":{\"color\":\"#E5ECF6\",\"width\":0.5},\"pattern\":{\"fillmode\":\"overlay\",\"size\":10,\"solidity\":0.2}},\"type\":\"bar\"}],\"carpet\":[{\"aaxis\":{\"endlinecolor\":\"#2a3f5f\",\"gridcolor\":\"white\",\"linecolor\":\"white\",\"minorgridcolor\":\"white\",\"startlinecolor\":\"#2a3f5f\"},\"baxis\":{\"endlinecolor\":\"#2a3f5f\",\"gridcolor\":\"white\",\"linecolor\":\"white\",\"minorgridcolor\":\"white\",\"startlinecolor\":\"#2a3f5f\"},\"type\":\"carpet\"}],\"choropleth\":[{\"colorbar\":{\"outlinewidth\":0,\"ticks\":\"\"},\"type\":\"choropleth\"}],\"contourcarpet\":[{\"colorbar\":{\"outlinewidth\":0,\"ticks\":\"\"},\"type\":\"contourcarpet\"}],\"contour\":[{\"colorbar\":{\"outlinewidth\":0,\"ticks\":\"\"},\"colorscale\":[[0.0,\"#0d0887\"],[0.1111111111111111,\"#46039f\"],[0.2222222222222222,\"#7201a8\"],[0.3333333333333333,\"#9c179e\"],[0.4444444444444444,\"#bd3786\"],[0.5555555555555556,\"#d8576b\"],[0.6666666666666666,\"#ed7953\"],[0.7777777777777778,\"#fb9f3a\"],[0.8888888888888888,\"#fdca26\"],[1.0,\"#f0f921\"]],\"type\":\"contour\"}],\"heatmapgl\":[{\"colorbar\":{\"outlinewidth\":0,\"ticks\":\"\"},\"colorscale\":[[0.0,\"#0d0887\"],[0.1111111111111111,\"#46039f\"],[0.2222222222222222,\"#7201a8\"],[0.3333333333333333,\"#9c179e\"],[0.4444444444444444,\"#bd3786\"],[0.5555555555555556,\"#d8576b\"],[0.6666666666666666,\"#ed7953\"],[0.7777777777777778,\"#fb9f3a\"],[0.8888888888888888,\"#fdca26\"],[1.0,\"#f0f921\"]],\"type\":\"heatmapgl\"}],\"heatmap\":[{\"colorbar\":{\"outlinewidth\":0,\"ticks\":\"\"},\"colorscale\":[[0.0,\"#0d0887\"],[0.1111111111111111,\"#46039f\"],[0.2222222222222222,\"#7201a8\"],[0.3333333333333333,\"#9c179e\"],[0.4444444444444444,\"#bd3786\"],[0.5555555555555556,\"#d8576b\"],[0.6666666666666666,\"#ed7953\"],[0.7777777777777778,\"#fb9f3a\"],[0.8888888888888888,\"#fdca26\"],[1.0,\"#f0f921\"]],\"type\":\"heatmap\"}],\"histogram2dcontour\":[{\"colorbar\":{\"outlinewidth\":0,\"ticks\":\"\"},\"colorscale\":[[0.0,\"#0d0887\"],[0.1111111111111111,\"#46039f\"],[0.2222222222222222,\"#7201a8\"],[0.3333333333333333,\"#9c179e\"],[0.4444444444444444,\"#bd3786\"],[0.5555555555555556,\"#d8576b\"],[0.6666666666666666,\"#ed7953\"],[0.7777777777777778,\"#fb9f3a\"],[0.8888888888888888,\"#fdca26\"],[1.0,\"#f0f921\"]],\"type\":\"histogram2dcontour\"}],\"histogram2d\":[{\"colorbar\":{\"outlinewidth\":0,\"ticks\":\"\"},\"colorscale\":[[0.0,\"#0d0887\"],[0.1111111111111111,\"#46039f\"],[0.2222222222222222,\"#7201a8\"],[0.3333333333333333,\"#9c179e\"],[0.4444444444444444,\"#bd3786\"],[0.5555555555555556,\"#d8576b\"],[0.6666666666666666,\"#ed7953\"],[0.7777777777777778,\"#fb9f3a\"],[0.8888888888888888,\"#fdca26\"],[1.0,\"#f0f921\"]],\"type\":\"histogram2d\"}],\"histogram\":[{\"marker\":{\"pattern\":{\"fillmode\":\"overlay\",\"size\":10,\"solidity\":0.2}},\"type\":\"histogram\"}],\"mesh3d\":[{\"colorbar\":{\"outlinewidth\":0,\"ticks\":\"\"},\"type\":\"mesh3d\"}],\"parcoords\":[{\"line\":{\"colorbar\":{\"outlinewidth\":0,\"ticks\":\"\"}},\"type\":\"parcoords\"}],\"pie\":[{\"automargin\":true,\"type\":\"pie\"}],\"scatter3d\":[{\"line\":{\"colorbar\":{\"outlinewidth\":0,\"ticks\":\"\"}},\"marker\":{\"colorbar\":{\"outlinewidth\":0,\"ticks\":\"\"}},\"type\":\"scatter3d\"}],\"scattercarpet\":[{\"marker\":{\"colorbar\":{\"outlinewidth\":0,\"ticks\":\"\"}},\"type\":\"scattercarpet\"}],\"scattergeo\":[{\"marker\":{\"colorbar\":{\"outlinewidth\":0,\"ticks\":\"\"}},\"type\":\"scattergeo\"}],\"scattergl\":[{\"marker\":{\"colorbar\":{\"outlinewidth\":0,\"ticks\":\"\"}},\"type\":\"scattergl\"}],\"scattermapbox\":[{\"marker\":{\"colorbar\":{\"outlinewidth\":0,\"ticks\":\"\"}},\"type\":\"scattermapbox\"}],\"scatterpolargl\":[{\"marker\":{\"colorbar\":{\"outlinewidth\":0,\"ticks\":\"\"}},\"type\":\"scatterpolargl\"}],\"scatterpolar\":[{\"marker\":{\"colorbar\":{\"outlinewidth\":0,\"ticks\":\"\"}},\"type\":\"scatterpolar\"}],\"scatter\":[{\"fillpattern\":{\"fillmode\":\"overlay\",\"size\":10,\"solidity\":0.2},\"type\":\"scatter\"}],\"scatterternary\":[{\"marker\":{\"colorbar\":{\"outlinewidth\":0,\"ticks\":\"\"}},\"type\":\"scatterternary\"}],\"surface\":[{\"colorbar\":{\"outlinewidth\":0,\"ticks\":\"\"},\"colorscale\":[[0.0,\"#0d0887\"],[0.1111111111111111,\"#46039f\"],[0.2222222222222222,\"#7201a8\"],[0.3333333333333333,\"#9c179e\"],[0.4444444444444444,\"#bd3786\"],[0.5555555555555556,\"#d8576b\"],[0.6666666666666666,\"#ed7953\"],[0.7777777777777778,\"#fb9f3a\"],[0.8888888888888888,\"#fdca26\"],[1.0,\"#f0f921\"]],\"type\":\"surface\"}],\"table\":[{\"cells\":{\"fill\":{\"color\":\"#EBF0F8\"},\"line\":{\"color\":\"white\"}},\"header\":{\"fill\":{\"color\":\"#C8D4E3\"},\"line\":{\"color\":\"white\"}},\"type\":\"table\"}]},\"layout\":{\"annotationdefaults\":{\"arrowcolor\":\"#2a3f5f\",\"arrowhead\":0,\"arrowwidth\":1},\"autotypenumbers\":\"strict\",\"coloraxis\":{\"colorbar\":{\"outlinewidth\":0,\"ticks\":\"\"}},\"colorscale\":{\"diverging\":[[0,\"#8e0152\"],[0.1,\"#c51b7d\"],[0.2,\"#de77ae\"],[0.3,\"#f1b6da\"],[0.4,\"#fde0ef\"],[0.5,\"#f7f7f7\"],[0.6,\"#e6f5d0\"],[0.7,\"#b8e186\"],[0.8,\"#7fbc41\"],[0.9,\"#4d9221\"],[1,\"#276419\"]],\"sequential\":[[0.0,\"#0d0887\"],[0.1111111111111111,\"#46039f\"],[0.2222222222222222,\"#7201a8\"],[0.3333333333333333,\"#9c179e\"],[0.4444444444444444,\"#bd3786\"],[0.5555555555555556,\"#d8576b\"],[0.6666666666666666,\"#ed7953\"],[0.7777777777777778,\"#fb9f3a\"],[0.8888888888888888,\"#fdca26\"],[1.0,\"#f0f921\"]],\"sequentialminus\":[[0.0,\"#0d0887\"],[0.1111111111111111,\"#46039f\"],[0.2222222222222222,\"#7201a8\"],[0.3333333333333333,\"#9c179e\"],[0.4444444444444444,\"#bd3786\"],[0.5555555555555556,\"#d8576b\"],[0.6666666666666666,\"#ed7953\"],[0.7777777777777778,\"#fb9f3a\"],[0.8888888888888888,\"#fdca26\"],[1.0,\"#f0f921\"]]},\"colorway\":[\"#636efa\",\"#EF553B\",\"#00cc96\",\"#ab63fa\",\"#FFA15A\",\"#19d3f3\",\"#FF6692\",\"#B6E880\",\"#FF97FF\",\"#FECB52\"],\"font\":{\"color\":\"#2a3f5f\"},\"geo\":{\"bgcolor\":\"white\",\"lakecolor\":\"white\",\"landcolor\":\"#E5ECF6\",\"showlakes\":true,\"showland\":true,\"subunitcolor\":\"white\"},\"hoverlabel\":{\"align\":\"left\"},\"hovermode\":\"closest\",\"mapbox\":{\"style\":\"light\"},\"paper_bgcolor\":\"white\",\"plot_bgcolor\":\"#E5ECF6\",\"polar\":{\"angularaxis\":{\"gridcolor\":\"white\",\"linecolor\":\"white\",\"ticks\":\"\"},\"bgcolor\":\"#E5ECF6\",\"radialaxis\":{\"gridcolor\":\"white\",\"linecolor\":\"white\",\"ticks\":\"\"}},\"scene\":{\"xaxis\":{\"backgroundcolor\":\"#E5ECF6\",\"gridcolor\":\"white\",\"gridwidth\":2,\"linecolor\":\"white\",\"showbackground\":true,\"ticks\":\"\",\"zerolinecolor\":\"white\"},\"yaxis\":{\"backgroundcolor\":\"#E5ECF6\",\"gridcolor\":\"white\",\"gridwidth\":2,\"linecolor\":\"white\",\"showbackground\":true,\"ticks\":\"\",\"zerolinecolor\":\"white\"},\"zaxis\":{\"backgroundcolor\":\"#E5ECF6\",\"gridcolor\":\"white\",\"gridwidth\":2,\"linecolor\":\"white\",\"showbackground\":true,\"ticks\":\"\",\"zerolinecolor\":\"white\"}},\"shapedefaults\":{\"line\":{\"color\":\"#2a3f5f\"}},\"ternary\":{\"aaxis\":{\"gridcolor\":\"white\",\"linecolor\":\"white\",\"ticks\":\"\"},\"baxis\":{\"gridcolor\":\"white\",\"linecolor\":\"white\",\"ticks\":\"\"},\"bgcolor\":\"#E5ECF6\",\"caxis\":{\"gridcolor\":\"white\",\"linecolor\":\"white\",\"ticks\":\"\"}},\"title\":{\"x\":0.05},\"xaxis\":{\"automargin\":true,\"gridcolor\":\"white\",\"linecolor\":\"white\",\"ticks\":\"\",\"title\":{\"standoff\":15},\"zerolinecolor\":\"white\",\"zerolinewidth\":2},\"yaxis\":{\"automargin\":true,\"gridcolor\":\"white\",\"linecolor\":\"white\",\"ticks\":\"\",\"title\":{\"standoff\":15},\"zerolinecolor\":\"white\",\"zerolinewidth\":2}}},\"title\":{\"text\":\"GANTT Chart\"},\"xaxis\":{\"range\":[\"1970-01-01T01:12:06\",\"1970-01-02T04:41:38\"],\"title\":{\"font\":{\"color\":\"#7f7f7f\",\"family\":\"Courier New, monospace\",\"size\":18},\"text\":\"Time\"}},\"yaxis\":{\"title\":{\"font\":{\"color\":\"#7f7f7f\",\"family\":\"Courier New, monospace\",\"size\":18},\"text\":\"Activities\"}}},                        {\"responsive\": true}                    ).then(function(){\n",
       "                            \n",
       "var gd = document.getElementById('57b2b7ec-a3f2-4266-97a6-5d79ab131374');\n",
       "var x = new MutationObserver(function (mutations, observer) {{\n",
       "        var display = window.getComputedStyle(gd).display;\n",
       "        if (!display || display === 'none') {{\n",
       "            console.log([gd, 'removed!']);\n",
       "            Plotly.purge(gd);\n",
       "            observer.disconnect();\n",
       "        }}\n",
       "}});\n",
       "\n",
       "// Listen for the removal of the full notebook cells\n",
       "var notebookContainer = gd.closest('#notebook-container');\n",
       "if (notebookContainer) {{\n",
       "    x.observe(notebookContainer, {childList: true});\n",
       "}}\n",
       "\n",
       "// Listen for the clearing of the current output cell\n",
       "var outputEl = gd.closest('.output');\n",
       "if (outputEl) {{\n",
       "    x.observe(outputEl, {childList: true});\n",
       "}}\n",
       "\n",
       "                        })                };                });            </script>        </div>"
      ]
     },
     "metadata": {},
     "output_type": "display_data"
    }
   ],
   "source": [
    "flat = pd.DataFrame(flatten(activities))\n",
    "loading = list(flat[flat['ActivityName'].str.startswith('loading')]['activity'].values)\n",
    "fig = get_gantt_chart(loading)"
   ]
  },
  {
   "cell_type": "code",
   "execution_count": 9,
   "id": "406b5d85",
   "metadata": {},
   "outputs": [
    {
     "data": {
      "image/png": "[encoded data removed]",
      "text/plain": [
       "<Figure size 1400x700 with 1 Axes>"
      ]
     },
     "metadata": {},
     "output_type": "display_data"
    }
   ],
   "source": [
    "fig = get_step_chart([from_site, to_site, *vessels.values()])"
   ]
  },
  {
   "cell_type": "markdown",
   "id": "4e7485d8",
   "metadata": {},
   "source": [
    "# Compare multiple barge scenarios"
   ]
  },
  {
   "cell_type": "code",
   "execution_count": 10,
   "id": "a7def889",
   "metadata": {},
   "outputs": [],
   "source": [
    "def occupancy_analysis(vessels, cutter, activities, vessel_cost):\n",
    "    data = []\n",
    "    duration_theory_cutter = 0\n",
    "    nr_trips_cutter = 0\n",
    "\n",
    "    # barges\n",
    "    for i, vessel_name in enumerate(vessels):\n",
    "        if vessel_name!=cutter_name:\n",
    "            vessel = vessels[vessel_name]\n",
    "            activity = activities[f'activity{i}']\n",
    "\n",
    "            log = pd.DataFrame(vessel.log)\n",
    "            sub_act = activity.sub_processes[0].sub_processes[-1] # last phase of SequentialActivity ..\n",
    "            nr_trips = len(log[(log.ActivityID == sub_act.id) & (log.ActivityState == \"STOP\")]) # .. ended\n",
    "            nr_trips_cutter += nr_trips\n",
    "\n",
    "            duration_theory = 0\n",
    "            for sub_act in activity.sub_processes[0].sub_processes:\n",
    "                duration_theory+=sub_act.duration\n",
    "                if hasattr(sub_act,'processor'):\n",
    "                    if sub_act.processor.name==cutter_name:\n",
    "                        duration_theory_cutter += sub_act.duration*nr_trips\n",
    "\n",
    "            duration_actual = (log.Timestamp.max() - log.Timestamp.min()).total_seconds()\n",
    "            data.append({\n",
    "                'name':vessel.name, \n",
    "                '# trips':nr_trips, \n",
    "                'start': log.Timestamp.min(),\n",
    "                'finish': log.Timestamp.max(),\n",
    "                'duration actual': duration_actual,\n",
    "                'cost':duration_actual*vessel_cost[vessel_name]/3600/24,\n",
    "                'production actual':(nr_trips * sub_act.amount) / (duration_actual),\n",
    "                'production theory': (sub_act.amount / (duration_theory)),\n",
    "            })\n",
    "\n",
    "    # cutter\n",
    "    log = pd.DataFrame(cutter.log)\n",
    "    duration_actual_cutter = (log.Timestamp.max() - log.Timestamp.min()).total_seconds()\n",
    "    data.append({\n",
    "        'name':cutter_name, \n",
    "        '# trips':nr_trips_cutter, \n",
    "        'start': log.Timestamp.min(),\n",
    "        'finish': log.Timestamp.max(),\n",
    "        'duration actual': duration_actual_cutter,\n",
    "        'cost':duration_actual_cutter*vessel_cost[cutter_name]/3600/24,\n",
    "        'production actual':(total_amount) / (duration_actual_cutter),\n",
    "        'production theory':(total_amount) / (duration_theory_cutter),\n",
    "    })\n",
    "\n",
    "    df = pd.DataFrame(data).sort_values(by=['production actual'],ascending=False)\n",
    "    df['occupancy [%]'] = [round(x,1) for x in 100*df['production actual']/df['production theory']]\n",
    "    df.set_index('name', inplace=True)\n",
    "    \n",
    "    print(f'Occupancy \"{cutter_name}\":', df.loc[cutter_name]['occupancy [%]'],'% Total cost',round(df['cost'].sum(),0))\n",
    "    \n",
    "    return df"
   ]
  },
  {
   "cell_type": "code",
   "execution_count": 11,
   "id": "eeb88b8d",
   "metadata": {},
   "outputs": [
    {
     "name": "stdout",
     "output_type": "stream",
     "text": [
      "Occupancy \"Cutter T\": 31.8 % Total cost 68662.0\n"
     ]
    },
    {
     "data": {
      "text/html": [
       "<div>\n",
       "<style scoped>\n",
       "    .dataframe tbody tr th:only-of-type {\n",
       "        vertical-align: middle;\n",
       "    }\n",
       "\n",
       "    .dataframe tbody tr th {\n",
       "        vertical-align: top;\n",
       "    }\n",
       "\n",
       "    .dataframe thead th {\n",
       "        text-align: right;\n",
       "    }\n",
       "</style>\n",
       "<table border=\"1\" class=\"dataframe\">\n",
       "  <thead>\n",
       "    <tr style=\"text-align: right;\">\n",
       "      <th></th>\n",
       "      <th># trips</th>\n",
       "      <th>start</th>\n",
       "      <th>finish</th>\n",
       "      <th>duration actual</th>\n",
       "      <th>cost</th>\n",
       "      <th>production actual</th>\n",
       "      <th>production theory</th>\n",
       "      <th>occupancy [%]</th>\n",
       "    </tr>\n",
       "    <tr>\n",
       "      <th>name</th>\n",
       "      <th></th>\n",
       "      <th></th>\n",
       "      <th></th>\n",
       "      <th></th>\n",
       "      <th></th>\n",
       "      <th></th>\n",
       "      <th></th>\n",
       "      <th></th>\n",
       "    </tr>\n",
       "  </thead>\n",
       "  <tbody>\n",
       "    <tr>\n",
       "      <th>Cutter T</th>\n",
       "      <td>25</td>\n",
       "      <td>1970-01-01 01:24:54</td>\n",
       "      <td>1970-01-02 21:05:22</td>\n",
       "      <td>157228.0</td>\n",
       "      <td>45494.212963</td>\n",
       "      <td>0.000636</td>\n",
       "      <td>0.002000</td>\n",
       "      <td>31.8</td>\n",
       "    </tr>\n",
       "    <tr>\n",
       "      <th>Carrier B</th>\n",
       "      <td>13</td>\n",
       "      <td>1970-01-01 00:00:00</td>\n",
       "      <td>1970-01-02 22:30:16</td>\n",
       "      <td>167416.0</td>\n",
       "      <td>11626.111111</td>\n",
       "      <td>0.000311</td>\n",
       "      <td>0.000328</td>\n",
       "      <td>94.6</td>\n",
       "    </tr>\n",
       "    <tr>\n",
       "      <th>Carrier A</th>\n",
       "      <td>12</td>\n",
       "      <td>1970-01-01 00:00:00</td>\n",
       "      <td>1970-01-02 22:09:56</td>\n",
       "      <td>166196.0</td>\n",
       "      <td>11541.388889</td>\n",
       "      <td>0.000289</td>\n",
       "      <td>0.000291</td>\n",
       "      <td>99.3</td>\n",
       "    </tr>\n",
       "  </tbody>\n",
       "</table>\n",
       "</div>"
      ],
      "text/plain": [
       "           # trips               start              finish  duration actual  \\\n",
       "name                                                                          \n",
       "Cutter T        25 1970-01-01 01:24:54 1970-01-02 21:05:22         157228.0   \n",
       "Carrier B       13 1970-01-01 00:00:00 1970-01-02 22:30:16         167416.0   \n",
       "Carrier A       12 1970-01-01 00:00:00 1970-01-02 22:09:56         166196.0   \n",
       "\n",
       "                   cost  production actual  production theory  occupancy [%]  \n",
       "name                                                                          \n",
       "Cutter T   45494.212963           0.000636           0.002000           31.8  \n",
       "Carrier B  11626.111111           0.000311           0.000328           94.6  \n",
       "Carrier A  11541.388889           0.000289           0.000291           99.3  "
      ]
     },
     "metadata": {},
     "output_type": "display_data"
    },
    {
     "name": "stdout",
     "output_type": "stream",
     "text": [
      "Occupancy \"Cutter T\": 50.2 % Total cost 50247.0\n"
     ]
    },
    {
     "data": {
      "text/html": [
       "<div>\n",
       "<style scoped>\n",
       "    .dataframe tbody tr th:only-of-type {\n",
       "        vertical-align: middle;\n",
       "    }\n",
       "\n",
       "    .dataframe tbody tr th {\n",
       "        vertical-align: top;\n",
       "    }\n",
       "\n",
       "    .dataframe thead th {\n",
       "        text-align: right;\n",
       "    }\n",
       "</style>\n",
       "<table border=\"1\" class=\"dataframe\">\n",
       "  <thead>\n",
       "    <tr style=\"text-align: right;\">\n",
       "      <th></th>\n",
       "      <th># trips</th>\n",
       "      <th>start</th>\n",
       "      <th>finish</th>\n",
       "      <th>duration actual</th>\n",
       "      <th>cost</th>\n",
       "      <th>production actual</th>\n",
       "      <th>production theory</th>\n",
       "      <th>occupancy [%]</th>\n",
       "    </tr>\n",
       "    <tr>\n",
       "      <th>name</th>\n",
       "      <th></th>\n",
       "      <th></th>\n",
       "      <th></th>\n",
       "      <th></th>\n",
       "      <th></th>\n",
       "      <th></th>\n",
       "      <th></th>\n",
       "      <th></th>\n",
       "    </tr>\n",
       "  </thead>\n",
       "  <tbody>\n",
       "    <tr>\n",
       "      <th>Cutter T</th>\n",
       "      <td>25</td>\n",
       "      <td>1970-01-01 01:15:36</td>\n",
       "      <td>1970-01-02 04:56:48</td>\n",
       "      <td>99672.0</td>\n",
       "      <td>28840.277778</td>\n",
       "      <td>0.001003</td>\n",
       "      <td>0.002000</td>\n",
       "      <td>50.2</td>\n",
       "    </tr>\n",
       "    <tr>\n",
       "      <th>Carrier A</th>\n",
       "      <td>9</td>\n",
       "      <td>1970-01-01 00:00:00</td>\n",
       "      <td>1970-01-02 03:57:40</td>\n",
       "      <td>100660.0</td>\n",
       "      <td>6990.277778</td>\n",
       "      <td>0.000358</td>\n",
       "      <td>0.000361</td>\n",
       "      <td>99.0</td>\n",
       "    </tr>\n",
       "    <tr>\n",
       "      <th>Carrier C</th>\n",
       "      <td>8</td>\n",
       "      <td>1970-01-01 00:00:00</td>\n",
       "      <td>1970-01-02 03:10:34</td>\n",
       "      <td>97834.0</td>\n",
       "      <td>6794.027778</td>\n",
       "      <td>0.000327</td>\n",
       "      <td>0.000349</td>\n",
       "      <td>93.6</td>\n",
       "    </tr>\n",
       "    <tr>\n",
       "      <th>Carrier B</th>\n",
       "      <td>8</td>\n",
       "      <td>1970-01-01 00:00:00</td>\n",
       "      <td>1970-01-02 06:29:18</td>\n",
       "      <td>109758.0</td>\n",
       "      <td>7622.083333</td>\n",
       "      <td>0.000292</td>\n",
       "      <td>0.000305</td>\n",
       "      <td>95.5</td>\n",
       "    </tr>\n",
       "  </tbody>\n",
       "</table>\n",
       "</div>"
      ],
      "text/plain": [
       "           # trips               start              finish  duration actual  \\\n",
       "name                                                                          \n",
       "Cutter T        25 1970-01-01 01:15:36 1970-01-02 04:56:48          99672.0   \n",
       "Carrier A        9 1970-01-01 00:00:00 1970-01-02 03:57:40         100660.0   \n",
       "Carrier C        8 1970-01-01 00:00:00 1970-01-02 03:10:34          97834.0   \n",
       "Carrier B        8 1970-01-01 00:00:00 1970-01-02 06:29:18         109758.0   \n",
       "\n",
       "                   cost  production actual  production theory  occupancy [%]  \n",
       "name                                                                          \n",
       "Cutter T   28840.277778           0.001003           0.002000           50.2  \n",
       "Carrier A   6990.277778           0.000358           0.000361           99.0  \n",
       "Carrier C   6794.027778           0.000327           0.000349           93.6  \n",
       "Carrier B   7622.083333           0.000292           0.000305           95.5  "
      ]
     },
     "metadata": {},
     "output_type": "display_data"
    },
    {
     "name": "stdout",
     "output_type": "stream",
     "text": [
      "Occupancy \"Cutter T\": 75.4 % Total cost 39208.0\n"
     ]
    },
    {
     "data": {
      "text/html": [
       "<div>\n",
       "<style scoped>\n",
       "    .dataframe tbody tr th:only-of-type {\n",
       "        vertical-align: middle;\n",
       "    }\n",
       "\n",
       "    .dataframe tbody tr th {\n",
       "        vertical-align: top;\n",
       "    }\n",
       "\n",
       "    .dataframe thead th {\n",
       "        text-align: right;\n",
       "    }\n",
       "</style>\n",
       "<table border=\"1\" class=\"dataframe\">\n",
       "  <thead>\n",
       "    <tr style=\"text-align: right;\">\n",
       "      <th></th>\n",
       "      <th># trips</th>\n",
       "      <th>start</th>\n",
       "      <th>finish</th>\n",
       "      <th>duration actual</th>\n",
       "      <th>cost</th>\n",
       "      <th>production actual</th>\n",
       "      <th>production theory</th>\n",
       "      <th>occupancy [%]</th>\n",
       "    </tr>\n",
       "    <tr>\n",
       "      <th>name</th>\n",
       "      <th></th>\n",
       "      <th></th>\n",
       "      <th></th>\n",
       "      <th></th>\n",
       "      <th></th>\n",
       "      <th></th>\n",
       "      <th></th>\n",
       "      <th></th>\n",
       "    </tr>\n",
       "  </thead>\n",
       "  <tbody>\n",
       "    <tr>\n",
       "      <th>Cutter T</th>\n",
       "      <td>23</td>\n",
       "      <td>1970-01-01 01:08:02</td>\n",
       "      <td>1970-01-01 20:17:22</td>\n",
       "      <td>68960.0</td>\n",
       "      <td>19953.703704</td>\n",
       "      <td>0.001450</td>\n",
       "      <td>0.001923</td>\n",
       "      <td>75.4</td>\n",
       "    </tr>\n",
       "    <tr>\n",
       "      <th>Carrier C</th>\n",
       "      <td>6</td>\n",
       "      <td>1970-01-01 00:00:00</td>\n",
       "      <td>1970-01-01 19:24:04</td>\n",
       "      <td>69844.0</td>\n",
       "      <td>4850.277778</td>\n",
       "      <td>0.000430</td>\n",
       "      <td>0.000446</td>\n",
       "      <td>96.4</td>\n",
       "    </tr>\n",
       "    <tr>\n",
       "      <th>Carrier A</th>\n",
       "      <td>6</td>\n",
       "      <td>1970-01-01 00:00:00</td>\n",
       "      <td>1970-01-01 21:39:48</td>\n",
       "      <td>77988.0</td>\n",
       "      <td>5415.833333</td>\n",
       "      <td>0.000385</td>\n",
       "      <td>0.000403</td>\n",
       "      <td>95.3</td>\n",
       "    </tr>\n",
       "    <tr>\n",
       "      <th>Carrier B</th>\n",
       "      <td>6</td>\n",
       "      <td>1970-01-01 00:00:00</td>\n",
       "      <td>1970-01-01 18:32:12</td>\n",
       "      <td>66732.0</td>\n",
       "      <td>4634.166667</td>\n",
       "      <td>0.000360</td>\n",
       "      <td>0.000394</td>\n",
       "      <td>91.4</td>\n",
       "    </tr>\n",
       "    <tr>\n",
       "      <th>Barge I</th>\n",
       "      <td>5</td>\n",
       "      <td>1970-01-01 00:00:00</td>\n",
       "      <td>1970-01-01 20:53:52</td>\n",
       "      <td>75232.0</td>\n",
       "      <td>4353.703704</td>\n",
       "      <td>0.000266</td>\n",
       "      <td>0.000301</td>\n",
       "      <td>88.4</td>\n",
       "    </tr>\n",
       "  </tbody>\n",
       "</table>\n",
       "</div>"
      ],
      "text/plain": [
       "           # trips               start              finish  duration actual  \\\n",
       "name                                                                          \n",
       "Cutter T        23 1970-01-01 01:08:02 1970-01-01 20:17:22          68960.0   \n",
       "Carrier C        6 1970-01-01 00:00:00 1970-01-01 19:24:04          69844.0   \n",
       "Carrier A        6 1970-01-01 00:00:00 1970-01-01 21:39:48          77988.0   \n",
       "Carrier B        6 1970-01-01 00:00:00 1970-01-01 18:32:12          66732.0   \n",
       "Barge I          5 1970-01-01 00:00:00 1970-01-01 20:53:52          75232.0   \n",
       "\n",
       "                   cost  production actual  production theory  occupancy [%]  \n",
       "name                                                                          \n",
       "Cutter T   19953.703704           0.001450           0.001923           75.4  \n",
       "Carrier C   4850.277778           0.000430           0.000446           96.4  \n",
       "Carrier A   5415.833333           0.000385           0.000403           95.3  \n",
       "Carrier B   4634.166667           0.000360           0.000394           91.4  \n",
       "Barge I     4353.703704           0.000266           0.000301           88.4  "
      ]
     },
     "metadata": {},
     "output_type": "display_data"
    },
    {
     "name": "stdout",
     "output_type": "stream",
     "text": [
      "Occupancy \"Cutter T\": 82.3 % Total cost 39201.0\n"
     ]
    },
    {
     "data": {
      "text/html": [
       "<div>\n",
       "<style scoped>\n",
       "    .dataframe tbody tr th:only-of-type {\n",
       "        vertical-align: middle;\n",
       "    }\n",
       "\n",
       "    .dataframe tbody tr th {\n",
       "        vertical-align: top;\n",
       "    }\n",
       "\n",
       "    .dataframe thead th {\n",
       "        text-align: right;\n",
       "    }\n",
       "</style>\n",
       "<table border=\"1\" class=\"dataframe\">\n",
       "  <thead>\n",
       "    <tr style=\"text-align: right;\">\n",
       "      <th></th>\n",
       "      <th># trips</th>\n",
       "      <th>start</th>\n",
       "      <th>finish</th>\n",
       "      <th>duration actual</th>\n",
       "      <th>cost</th>\n",
       "      <th>production actual</th>\n",
       "      <th>production theory</th>\n",
       "      <th>occupancy [%]</th>\n",
       "    </tr>\n",
       "    <tr>\n",
       "      <th>name</th>\n",
       "      <th></th>\n",
       "      <th></th>\n",
       "      <th></th>\n",
       "      <th></th>\n",
       "      <th></th>\n",
       "      <th></th>\n",
       "      <th></th>\n",
       "      <th></th>\n",
       "    </tr>\n",
       "  </thead>\n",
       "  <tbody>\n",
       "    <tr>\n",
       "      <th>Cutter T</th>\n",
       "      <td>23</td>\n",
       "      <td>1970-01-01 01:29:48</td>\n",
       "      <td>1970-01-01 18:32:32</td>\n",
       "      <td>61364.0</td>\n",
       "      <td>17755.787037</td>\n",
       "      <td>0.001630</td>\n",
       "      <td>0.001980</td>\n",
       "      <td>82.3</td>\n",
       "    </tr>\n",
       "    <tr>\n",
       "      <th>Carrier B</th>\n",
       "      <td>5</td>\n",
       "      <td>1970-01-01 00:00:00</td>\n",
       "      <td>1970-01-01 20:06:00</td>\n",
       "      <td>72360.0</td>\n",
       "      <td>5025.000000</td>\n",
       "      <td>0.000345</td>\n",
       "      <td>0.000365</td>\n",
       "      <td>94.8</td>\n",
       "    </tr>\n",
       "    <tr>\n",
       "      <th>Barge II</th>\n",
       "      <td>4</td>\n",
       "      <td>1970-01-01 00:00:00</td>\n",
       "      <td>1970-01-01 17:40:06</td>\n",
       "      <td>63606.0</td>\n",
       "      <td>3680.902778</td>\n",
       "      <td>0.000314</td>\n",
       "      <td>0.000361</td>\n",
       "      <td>87.1</td>\n",
       "    </tr>\n",
       "    <tr>\n",
       "      <th>Carrier C</th>\n",
       "      <td>5</td>\n",
       "      <td>1970-01-01 00:00:00</td>\n",
       "      <td>1970-01-01 18:08:40</td>\n",
       "      <td>65320.0</td>\n",
       "      <td>4536.111111</td>\n",
       "      <td>0.000306</td>\n",
       "      <td>0.000313</td>\n",
       "      <td>97.8</td>\n",
       "    </tr>\n",
       "    <tr>\n",
       "      <th>Carrier A</th>\n",
       "      <td>5</td>\n",
       "      <td>1970-01-01 00:00:00</td>\n",
       "      <td>1970-01-01 18:46:12</td>\n",
       "      <td>67572.0</td>\n",
       "      <td>4692.500000</td>\n",
       "      <td>0.000296</td>\n",
       "      <td>0.000304</td>\n",
       "      <td>97.3</td>\n",
       "    </tr>\n",
       "    <tr>\n",
       "      <th>Barge I</th>\n",
       "      <td>4</td>\n",
       "      <td>1970-01-01 00:00:00</td>\n",
       "      <td>1970-01-01 16:51:12</td>\n",
       "      <td>60672.0</td>\n",
       "      <td>3511.111111</td>\n",
       "      <td>0.000264</td>\n",
       "      <td>0.000301</td>\n",
       "      <td>87.5</td>\n",
       "    </tr>\n",
       "  </tbody>\n",
       "</table>\n",
       "</div>"
      ],
      "text/plain": [
       "           # trips               start              finish  duration actual  \\\n",
       "name                                                                          \n",
       "Cutter T        23 1970-01-01 01:29:48 1970-01-01 18:32:32          61364.0   \n",
       "Carrier B        5 1970-01-01 00:00:00 1970-01-01 20:06:00          72360.0   \n",
       "Barge II         4 1970-01-01 00:00:00 1970-01-01 17:40:06          63606.0   \n",
       "Carrier C        5 1970-01-01 00:00:00 1970-01-01 18:08:40          65320.0   \n",
       "Carrier A        5 1970-01-01 00:00:00 1970-01-01 18:46:12          67572.0   \n",
       "Barge I          4 1970-01-01 00:00:00 1970-01-01 16:51:12          60672.0   \n",
       "\n",
       "                   cost  production actual  production theory  occupancy [%]  \n",
       "name                                                                          \n",
       "Cutter T   17755.787037           0.001630           0.001980           82.3  \n",
       "Carrier B   5025.000000           0.000345           0.000365           94.8  \n",
       "Barge II    3680.902778           0.000314           0.000361           87.1  \n",
       "Carrier C   4536.111111           0.000306           0.000313           97.8  \n",
       "Carrier A   4692.500000           0.000296           0.000304           97.3  \n",
       "Barge I     3511.111111           0.000264           0.000301           87.5  "
      ]
     },
     "metadata": {},
     "output_type": "display_data"
    },
    {
     "name": "stdout",
     "output_type": "stream",
     "text": [
      "Occupancy \"Cutter T\": 98.3 % Total cost 35591.0\n"
     ]
    },
    {
     "data": {
      "text/html": [
       "<div>\n",
       "<style scoped>\n",
       "    .dataframe tbody tr th:only-of-type {\n",
       "        vertical-align: middle;\n",
       "    }\n",
       "\n",
       "    .dataframe tbody tr th {\n",
       "        vertical-align: top;\n",
       "    }\n",
       "\n",
       "    .dataframe thead th {\n",
       "        text-align: right;\n",
       "    }\n",
       "</style>\n",
       "<table border=\"1\" class=\"dataframe\">\n",
       "  <thead>\n",
       "    <tr style=\"text-align: right;\">\n",
       "      <th></th>\n",
       "      <th># trips</th>\n",
       "      <th>start</th>\n",
       "      <th>finish</th>\n",
       "      <th>duration actual</th>\n",
       "      <th>cost</th>\n",
       "      <th>production actual</th>\n",
       "      <th>production theory</th>\n",
       "      <th>occupancy [%]</th>\n",
       "    </tr>\n",
       "    <tr>\n",
       "      <th>name</th>\n",
       "      <th></th>\n",
       "      <th></th>\n",
       "      <th></th>\n",
       "      <th></th>\n",
       "      <th></th>\n",
       "      <th></th>\n",
       "      <th></th>\n",
       "      <th></th>\n",
       "    </tr>\n",
       "  </thead>\n",
       "  <tbody>\n",
       "    <tr>\n",
       "      <th>Cutter T</th>\n",
       "      <td>24</td>\n",
       "      <td>1970-01-01 01:08:56</td>\n",
       "      <td>1970-01-01 15:16:44</td>\n",
       "      <td>50868.0</td>\n",
       "      <td>14718.750000</td>\n",
       "      <td>0.001966</td>\n",
       "      <td>0.002000</td>\n",
       "      <td>98.3</td>\n",
       "    </tr>\n",
       "    <tr>\n",
       "      <th>Barge I</th>\n",
       "      <td>4</td>\n",
       "      <td>1970-01-01 00:00:00</td>\n",
       "      <td>1970-01-01 14:56:06</td>\n",
       "      <td>53766.0</td>\n",
       "      <td>3111.458333</td>\n",
       "      <td>0.000372</td>\n",
       "      <td>0.000416</td>\n",
       "      <td>89.5</td>\n",
       "    </tr>\n",
       "    <tr>\n",
       "      <th>Barge II</th>\n",
       "      <td>5</td>\n",
       "      <td>1970-01-01 00:00:00</td>\n",
       "      <td>1970-01-01 16:25:40</td>\n",
       "      <td>59140.0</td>\n",
       "      <td>3422.453704</td>\n",
       "      <td>0.000338</td>\n",
       "      <td>0.000389</td>\n",
       "      <td>86.8</td>\n",
       "    </tr>\n",
       "    <tr>\n",
       "      <th>Carrier C</th>\n",
       "      <td>4</td>\n",
       "      <td>1970-01-01 00:00:00</td>\n",
       "      <td>1970-01-01 13:39:48</td>\n",
       "      <td>49188.0</td>\n",
       "      <td>3415.833333</td>\n",
       "      <td>0.000325</td>\n",
       "      <td>0.000352</td>\n",
       "      <td>92.4</td>\n",
       "    </tr>\n",
       "    <tr>\n",
       "      <th>Carrier A</th>\n",
       "      <td>4</td>\n",
       "      <td>1970-01-01 00:00:00</td>\n",
       "      <td>1970-01-01 15:30:00</td>\n",
       "      <td>55800.0</td>\n",
       "      <td>3875.000000</td>\n",
       "      <td>0.000287</td>\n",
       "      <td>0.000345</td>\n",
       "      <td>83.1</td>\n",
       "    </tr>\n",
       "    <tr>\n",
       "      <th>Carrier B</th>\n",
       "      <td>4</td>\n",
       "      <td>1970-01-01 00:00:00</td>\n",
       "      <td>1970-01-01 16:05:48</td>\n",
       "      <td>57948.0</td>\n",
       "      <td>4024.166667</td>\n",
       "      <td>0.000276</td>\n",
       "      <td>0.000336</td>\n",
       "      <td>82.1</td>\n",
       "    </tr>\n",
       "    <tr>\n",
       "      <th>Barge III</th>\n",
       "      <td>3</td>\n",
       "      <td>1970-01-01 00:00:00</td>\n",
       "      <td>1970-01-01 14:30:46</td>\n",
       "      <td>52246.0</td>\n",
       "      <td>3023.495370</td>\n",
       "      <td>0.000230</td>\n",
       "      <td>0.000297</td>\n",
       "      <td>77.4</td>\n",
       "    </tr>\n",
       "  </tbody>\n",
       "</table>\n",
       "</div>"
      ],
      "text/plain": [
       "           # trips               start              finish  duration actual  \\\n",
       "name                                                                          \n",
       "Cutter T        24 1970-01-01 01:08:56 1970-01-01 15:16:44          50868.0   \n",
       "Barge I          4 1970-01-01 00:00:00 1970-01-01 14:56:06          53766.0   \n",
       "Barge II         5 1970-01-01 00:00:00 1970-01-01 16:25:40          59140.0   \n",
       "Carrier C        4 1970-01-01 00:00:00 1970-01-01 13:39:48          49188.0   \n",
       "Carrier A        4 1970-01-01 00:00:00 1970-01-01 15:30:00          55800.0   \n",
       "Carrier B        4 1970-01-01 00:00:00 1970-01-01 16:05:48          57948.0   \n",
       "Barge III        3 1970-01-01 00:00:00 1970-01-01 14:30:46          52246.0   \n",
       "\n",
       "                   cost  production actual  production theory  occupancy [%]  \n",
       "name                                                                          \n",
       "Cutter T   14718.750000           0.001966           0.002000           98.3  \n",
       "Barge I     3111.458333           0.000372           0.000416           89.5  \n",
       "Barge II    3422.453704           0.000338           0.000389           86.8  \n",
       "Carrier C   3415.833333           0.000325           0.000352           92.4  \n",
       "Carrier A   3875.000000           0.000287           0.000345           83.1  \n",
       "Carrier B   4024.166667           0.000276           0.000336           82.1  \n",
       "Barge III   3023.495370           0.000230           0.000297           77.4  "
      ]
     },
     "metadata": {},
     "output_type": "display_data"
    },
    {
     "name": "stdout",
     "output_type": "stream",
     "text": [
      "Occupancy \"Cutter T\": 100.0 % Total cost 36895.0\n"
     ]
    },
    {
     "data": {
      "text/html": [
       "<div>\n",
       "<style scoped>\n",
       "    .dataframe tbody tr th:only-of-type {\n",
       "        vertical-align: middle;\n",
       "    }\n",
       "\n",
       "    .dataframe tbody tr th {\n",
       "        vertical-align: top;\n",
       "    }\n",
       "\n",
       "    .dataframe thead th {\n",
       "        text-align: right;\n",
       "    }\n",
       "</style>\n",
       "<table border=\"1\" class=\"dataframe\">\n",
       "  <thead>\n",
       "    <tr style=\"text-align: right;\">\n",
       "      <th></th>\n",
       "      <th># trips</th>\n",
       "      <th>start</th>\n",
       "      <th>finish</th>\n",
       "      <th>duration actual</th>\n",
       "      <th>cost</th>\n",
       "      <th>production actual</th>\n",
       "      <th>production theory</th>\n",
       "      <th>occupancy [%]</th>\n",
       "    </tr>\n",
       "    <tr>\n",
       "      <th>name</th>\n",
       "      <th></th>\n",
       "      <th></th>\n",
       "      <th></th>\n",
       "      <th></th>\n",
       "      <th></th>\n",
       "      <th></th>\n",
       "      <th></th>\n",
       "      <th></th>\n",
       "    </tr>\n",
       "  </thead>\n",
       "  <tbody>\n",
       "    <tr>\n",
       "      <th>Cutter T</th>\n",
       "      <td>22</td>\n",
       "      <td>1970-01-01 01:07:02</td>\n",
       "      <td>1970-01-01 15:08:42</td>\n",
       "      <td>50500.0</td>\n",
       "      <td>14612.268519</td>\n",
       "      <td>0.001980</td>\n",
       "      <td>0.001980</td>\n",
       "      <td>100.0</td>\n",
       "    </tr>\n",
       "    <tr>\n",
       "      <th>Carrier C</th>\n",
       "      <td>4</td>\n",
       "      <td>1970-01-01 00:00:00</td>\n",
       "      <td>1970-01-01 15:42:24</td>\n",
       "      <td>56544.0</td>\n",
       "      <td>3926.666667</td>\n",
       "      <td>0.000354</td>\n",
       "      <td>0.000474</td>\n",
       "      <td>74.6</td>\n",
       "    </tr>\n",
       "    <tr>\n",
       "      <th>Carrier A</th>\n",
       "      <td>3</td>\n",
       "      <td>1970-01-01 00:00:00</td>\n",
       "      <td>1970-01-01 13:06:14</td>\n",
       "      <td>47174.0</td>\n",
       "      <td>3275.972222</td>\n",
       "      <td>0.000318</td>\n",
       "      <td>0.000463</td>\n",
       "      <td>68.7</td>\n",
       "    </tr>\n",
       "    <tr>\n",
       "      <th>Barge III</th>\n",
       "      <td>3</td>\n",
       "      <td>1970-01-01 00:00:00</td>\n",
       "      <td>1970-01-01 13:48:18</td>\n",
       "      <td>49698.0</td>\n",
       "      <td>2876.041667</td>\n",
       "      <td>0.000302</td>\n",
       "      <td>0.000461</td>\n",
       "      <td>65.5</td>\n",
       "    </tr>\n",
       "    <tr>\n",
       "      <th>Barge II</th>\n",
       "      <td>3</td>\n",
       "      <td>1970-01-01 00:00:00</td>\n",
       "      <td>1970-01-01 15:21:24</td>\n",
       "      <td>55284.0</td>\n",
       "      <td>3199.305556</td>\n",
       "      <td>0.000271</td>\n",
       "      <td>0.000384</td>\n",
       "      <td>70.7</td>\n",
       "    </tr>\n",
       "    <tr>\n",
       "      <th>Carrier B</th>\n",
       "      <td>3</td>\n",
       "      <td>1970-01-01 00:00:00</td>\n",
       "      <td>1970-01-01 12:23:52</td>\n",
       "      <td>44632.0</td>\n",
       "      <td>3099.444444</td>\n",
       "      <td>0.000269</td>\n",
       "      <td>0.000391</td>\n",
       "      <td>68.7</td>\n",
       "    </tr>\n",
       "    <tr>\n",
       "      <th>Extra 1</th>\n",
       "      <td>3</td>\n",
       "      <td>1970-01-01 00:00:00</td>\n",
       "      <td>1970-01-01 14:33:02</td>\n",
       "      <td>52382.0</td>\n",
       "      <td>2425.092593</td>\n",
       "      <td>0.000229</td>\n",
       "      <td>0.000341</td>\n",
       "      <td>67.1</td>\n",
       "    </tr>\n",
       "    <tr>\n",
       "      <th>Barge I</th>\n",
       "      <td>3</td>\n",
       "      <td>1970-01-01 00:00:00</td>\n",
       "      <td>1970-01-01 16:42:16</td>\n",
       "      <td>60136.0</td>\n",
       "      <td>3480.092593</td>\n",
       "      <td>0.000200</td>\n",
       "      <td>0.000302</td>\n",
       "      <td>66.0</td>\n",
       "    </tr>\n",
       "  </tbody>\n",
       "</table>\n",
       "</div>"
      ],
      "text/plain": [
       "           # trips               start              finish  duration actual  \\\n",
       "name                                                                          \n",
       "Cutter T        22 1970-01-01 01:07:02 1970-01-01 15:08:42          50500.0   \n",
       "Carrier C        4 1970-01-01 00:00:00 1970-01-01 15:42:24          56544.0   \n",
       "Carrier A        3 1970-01-01 00:00:00 1970-01-01 13:06:14          47174.0   \n",
       "Barge III        3 1970-01-01 00:00:00 1970-01-01 13:48:18          49698.0   \n",
       "Barge II         3 1970-01-01 00:00:00 1970-01-01 15:21:24          55284.0   \n",
       "Carrier B        3 1970-01-01 00:00:00 1970-01-01 12:23:52          44632.0   \n",
       "Extra 1          3 1970-01-01 00:00:00 1970-01-01 14:33:02          52382.0   \n",
       "Barge I          3 1970-01-01 00:00:00 1970-01-01 16:42:16          60136.0   \n",
       "\n",
       "                   cost  production actual  production theory  occupancy [%]  \n",
       "name                                                                          \n",
       "Cutter T   14612.268519           0.001980           0.001980          100.0  \n",
       "Carrier C   3926.666667           0.000354           0.000474           74.6  \n",
       "Carrier A   3275.972222           0.000318           0.000463           68.7  \n",
       "Barge III   2876.041667           0.000302           0.000461           65.5  \n",
       "Barge II    3199.305556           0.000271           0.000384           70.7  \n",
       "Carrier B   3099.444444           0.000269           0.000391           68.7  \n",
       "Extra 1     2425.092593           0.000229           0.000341           67.1  \n",
       "Barge I     3480.092593           0.000200           0.000302           66.0  "
      ]
     },
     "metadata": {},
     "output_type": "display_data"
    },
    {
     "name": "stdout",
     "output_type": "stream",
     "text": [
      "Occupancy \"Cutter T\": 100.0 % Total cost 38549.0\n"
     ]
    },
    {
     "data": {
      "text/html": [
       "<div>\n",
       "<style scoped>\n",
       "    .dataframe tbody tr th:only-of-type {\n",
       "        vertical-align: middle;\n",
       "    }\n",
       "\n",
       "    .dataframe tbody tr th {\n",
       "        vertical-align: top;\n",
       "    }\n",
       "\n",
       "    .dataframe thead th {\n",
       "        text-align: right;\n",
       "    }\n",
       "</style>\n",
       "<table border=\"1\" class=\"dataframe\">\n",
       "  <thead>\n",
       "    <tr style=\"text-align: right;\">\n",
       "      <th></th>\n",
       "      <th># trips</th>\n",
       "      <th>start</th>\n",
       "      <th>finish</th>\n",
       "      <th>duration actual</th>\n",
       "      <th>cost</th>\n",
       "      <th>production actual</th>\n",
       "      <th>production theory</th>\n",
       "      <th>occupancy [%]</th>\n",
       "    </tr>\n",
       "    <tr>\n",
       "      <th>name</th>\n",
       "      <th></th>\n",
       "      <th></th>\n",
       "      <th></th>\n",
       "      <th></th>\n",
       "      <th></th>\n",
       "      <th></th>\n",
       "      <th></th>\n",
       "      <th></th>\n",
       "    </tr>\n",
       "  </thead>\n",
       "  <tbody>\n",
       "    <tr>\n",
       "      <th>Cutter T</th>\n",
       "      <td>21</td>\n",
       "      <td>1970-01-01 01:10:16</td>\n",
       "      <td>1970-01-01 15:03:36</td>\n",
       "      <td>50000.0</td>\n",
       "      <td>14467.592593</td>\n",
       "      <td>0.002000</td>\n",
       "      <td>0.002000</td>\n",
       "      <td>100.0</td>\n",
       "    </tr>\n",
       "    <tr>\n",
       "      <th>Barge III</th>\n",
       "      <td>3</td>\n",
       "      <td>1970-01-01 00:00:00</td>\n",
       "      <td>1970-01-01 13:02:12</td>\n",
       "      <td>46932.0</td>\n",
       "      <td>2715.972222</td>\n",
       "      <td>0.000320</td>\n",
       "      <td>0.000457</td>\n",
       "      <td>69.9</td>\n",
       "    </tr>\n",
       "    <tr>\n",
       "      <th>Barge I</th>\n",
       "      <td>3</td>\n",
       "      <td>1970-01-01 00:00:00</td>\n",
       "      <td>1970-01-01 14:20:42</td>\n",
       "      <td>51642.0</td>\n",
       "      <td>2988.541667</td>\n",
       "      <td>0.000290</td>\n",
       "      <td>0.000440</td>\n",
       "      <td>65.9</td>\n",
       "    </tr>\n",
       "    <tr>\n",
       "      <th>Barge II</th>\n",
       "      <td>3</td>\n",
       "      <td>1970-01-01 00:00:00</td>\n",
       "      <td>1970-01-01 15:02:36</td>\n",
       "      <td>54156.0</td>\n",
       "      <td>3134.027778</td>\n",
       "      <td>0.000277</td>\n",
       "      <td>0.000439</td>\n",
       "      <td>63.0</td>\n",
       "    </tr>\n",
       "    <tr>\n",
       "      <th>Carrier A</th>\n",
       "      <td>3</td>\n",
       "      <td>1970-01-01 00:00:00</td>\n",
       "      <td>1970-01-01 16:29:08</td>\n",
       "      <td>59348.0</td>\n",
       "      <td>4121.388889</td>\n",
       "      <td>0.000253</td>\n",
       "      <td>0.000392</td>\n",
       "      <td>64.5</td>\n",
       "    </tr>\n",
       "    <tr>\n",
       "      <th>Carrier C</th>\n",
       "      <td>2</td>\n",
       "      <td>1970-01-01 00:00:00</td>\n",
       "      <td>1970-01-01 11:55:04</td>\n",
       "      <td>42904.0</td>\n",
       "      <td>2979.444444</td>\n",
       "      <td>0.000233</td>\n",
       "      <td>0.000388</td>\n",
       "      <td>60.0</td>\n",
       "    </tr>\n",
       "    <tr>\n",
       "      <th>Carrier B</th>\n",
       "      <td>2</td>\n",
       "      <td>1970-01-01 00:00:00</td>\n",
       "      <td>1970-01-01 12:43:16</td>\n",
       "      <td>45796.0</td>\n",
       "      <td>3180.277778</td>\n",
       "      <td>0.000218</td>\n",
       "      <td>0.000366</td>\n",
       "      <td>59.7</td>\n",
       "    </tr>\n",
       "    <tr>\n",
       "      <th>Extra 2</th>\n",
       "      <td>3</td>\n",
       "      <td>1970-01-01 00:00:00</td>\n",
       "      <td>1970-01-01 15:46:44</td>\n",
       "      <td>56804.0</td>\n",
       "      <td>2629.814815</td>\n",
       "      <td>0.000211</td>\n",
       "      <td>0.000329</td>\n",
       "      <td>64.3</td>\n",
       "    </tr>\n",
       "    <tr>\n",
       "      <th>Extra 1</th>\n",
       "      <td>2</td>\n",
       "      <td>1970-01-01 00:00:00</td>\n",
       "      <td>1970-01-01 13:59:26</td>\n",
       "      <td>50366.0</td>\n",
       "      <td>2331.759259</td>\n",
       "      <td>0.000159</td>\n",
       "      <td>0.000301</td>\n",
       "      <td>52.8</td>\n",
       "    </tr>\n",
       "  </tbody>\n",
       "</table>\n",
       "</div>"
      ],
      "text/plain": [
       "           # trips               start              finish  duration actual  \\\n",
       "name                                                                          \n",
       "Cutter T        21 1970-01-01 01:10:16 1970-01-01 15:03:36          50000.0   \n",
       "Barge III        3 1970-01-01 00:00:00 1970-01-01 13:02:12          46932.0   \n",
       "Barge I          3 1970-01-01 00:00:00 1970-01-01 14:20:42          51642.0   \n",
       "Barge II         3 1970-01-01 00:00:00 1970-01-01 15:02:36          54156.0   \n",
       "Carrier A        3 1970-01-01 00:00:00 1970-01-01 16:29:08          59348.0   \n",
       "Carrier C        2 1970-01-01 00:00:00 1970-01-01 11:55:04          42904.0   \n",
       "Carrier B        2 1970-01-01 00:00:00 1970-01-01 12:43:16          45796.0   \n",
       "Extra 2          3 1970-01-01 00:00:00 1970-01-01 15:46:44          56804.0   \n",
       "Extra 1          2 1970-01-01 00:00:00 1970-01-01 13:59:26          50366.0   \n",
       "\n",
       "                   cost  production actual  production theory  occupancy [%]  \n",
       "name                                                                          \n",
       "Cutter T   14467.592593           0.002000           0.002000          100.0  \n",
       "Barge III   2715.972222           0.000320           0.000457           69.9  \n",
       "Barge I     2988.541667           0.000290           0.000440           65.9  \n",
       "Barge II    3134.027778           0.000277           0.000439           63.0  \n",
       "Carrier A   4121.388889           0.000253           0.000392           64.5  \n",
       "Carrier C   2979.444444           0.000233           0.000388           60.0  \n",
       "Carrier B   3180.277778           0.000218           0.000366           59.7  \n",
       "Extra 2     2629.814815           0.000211           0.000329           64.3  \n",
       "Extra 1     2331.759259           0.000159           0.000301           52.8  "
      ]
     },
     "metadata": {},
     "output_type": "display_data"
    }
   ],
   "source": [
    "results = []\n",
    "occupancy = []\n",
    "cost = []\n",
    "finish, duration = [], []\n",
    "n_barges = range(2,len(barge_names)) # +1 at least 1 barge\n",
    "for i in n_barges:\n",
    "    results.append(run(i,total_amount))\n",
    "    vessels = results[-1]['vessels']\n",
    "    activities = results[-1]['activities']\n",
    "    cutter = vessels[cutter_name]\n",
    "    to_site = results[-1][to_site_name]\n",
    "    from_site = results[-1][from_site_name]\n",
    "    df = occupancy_analysis(vessels, cutter, activities,vessel_cost)\n",
    "    occupancy.append(df.loc[cutter_name]['occupancy [%]'])\n",
    "    cost.append(df['cost'].sum())\n",
    "    finish.append(df['finish'].max())\n",
    "    duration.append((df['finish'].max() - df['start'].min()).total_seconds()/3600/24)\n",
    "    display(df)"
   ]
  },
  {
   "cell_type": "code",
   "execution_count": 12,
   "id": "9e7f3cf4",
   "metadata": {},
   "outputs": [
    {
     "data": {
      "image/png": "[encoded data removed]",
      "text/plain": [
       "<Figure size 640x480 with 3 Axes>"
      ]
     },
     "metadata": {},
     "output_type": "display_data"
    }
   ],
   "source": [
    "%matplotlib inline\n",
    "import matplotlib.pyplot as plt\n",
    "\n",
    "fig = plt.figure()\n",
    "gs = fig.add_gridspec(3, hspace=0)\n",
    "axs = gs.subplots(sharex=True)\n",
    "\n",
    "\n",
    "axs[0].plot(n_barges,cost,'.-'), axs[0].set_ylabel('# cost [EUR]'),axs[0].grid();\n",
    "# axs[0].set_xlabel('# barges');\n",
    "\n",
    "axs[1].plot(n_barges,occupancy,'.-'), axs[1].set_ylabel('cutter occupancy [%]'),axs[1].grid();\n",
    "# axs[1].set_xlabel('# barges');\n",
    "axs[1].yaxis.set_label_position(\"right\")\n",
    "axs[1].yaxis.tick_right()\n",
    "\n",
    "axs[2].plot(n_barges,duration,'.-'), axs[2].set_ylabel('# time [days]'),axs[2].grid();\n",
    "\n",
    "axs[-1].set_xlabel('# barges');"
   ]
  },
  {
   "cell_type": "markdown",
   "id": "9d132a51",
   "metadata": {},
   "source": [
    "## Visualize critical path of best scneario"
   ]
  },
  {
   "cell_type": "markdown",
   "id": "70e77f68",
   "metadata": {},
   "source": [
    "For explanation of Critical Path see notebook 30"
   ]
  },
  {
   "cell_type": "code",
   "execution_count": 13,
   "id": "0f21208b",
   "metadata": {},
   "outputs": [],
   "source": [
    "from openclsim.plot.critical_path import CpLog"
   ]
  },
  {
   "cell_type": "code",
   "execution_count": 14,
   "id": "3308f0de",
   "metadata": {},
   "outputs": [
    {
     "name": "stdout",
     "output_type": "stream",
     "text": [
      "Occupancy \"Cutter T\": 100.0 % Total cost 36895.0\n"
     ]
    },
    {
     "data": {
      "text/html": [
       "        <script type=\"text/javascript\">\n",
       "        window.PlotlyConfig = {MathJaxConfig: 'local'};\n",
       "        if (window.MathJax && window.MathJax.Hub && window.MathJax.Hub.Config) {window.MathJax.Hub.Config({SVG: {font: \"STIX-Web\"}});}\n",
       "        if (typeof require !== 'undefined') {\n",
       "        require.undef(\"plotly\");\n",
       "        requirejs.config({\n",
       "            paths: {\n",
       "                'plotly': ['https://cdn.plot.ly/plotly-2.18.2.min']\n",
       "            }\n",
       "        });\n",
       "        require(['plotly'], function(Plotly) {\n",
       "            window._Plotly = Plotly;\n",
       "        });\n",
       "        }\n",
       "        </script>\n",
       "        "
      ]
     },
     "metadata": {},
     "output_type": "display_data"
    },
    {
     "data": {
      "application/vnd.plotly.v1+json": {
       "config": {
        "linkText": "Export to plot.ly",
        "plotlyServerURL": "https://plot.ly",
        "showLink": false
       },
       "data": [
        {
         "connectgaps": false,
         "hoverinfo": "name",
         "line": {
          "color": "red",
          "width": 14
         },
         "mode": "lines",
         "name": "critical_path",
         "type": "scatter",
         "x": [
          "1970-01-01T00:00:00",
          "1970-01-01T00:33:31",
          "1970-01-01T00:33:31",
          "1970-01-01T00:33:31",
          "1970-01-01T01:07:02",
          "1970-01-01T01:07:02",
          "1970-01-01T01:07:02",
          "1970-01-01T01:48:42",
          "1970-01-01T01:48:42",
          "1970-01-01T01:07:02",
          "1970-01-01T01:48:42",
          "1970-01-01T01:48:42",
          "1970-01-01T01:07:02",
          "1970-01-01T01:48:42",
          "1970-01-01T01:48:42",
          "1970-01-01T01:48:42",
          "1970-01-01T02:22:02",
          "1970-01-01T02:22:02",
          "1970-01-01T01:48:42",
          "1970-01-01T02:22:02",
          "1970-01-01T02:22:02",
          "1970-01-01T01:48:42",
          "1970-01-01T02:22:02",
          "1970-01-01T02:22:02",
          "1970-01-01T02:22:02",
          "1970-01-01T03:03:42",
          "1970-01-01T03:03:42",
          "1970-01-01T02:22:02",
          "1970-01-01T03:03:42",
          "1970-01-01T03:03:42",
          "1970-01-01T02:22:02",
          "1970-01-01T03:03:42",
          "1970-01-01T03:03:42",
          "1970-01-01T03:03:42",
          "1970-01-01T03:45:22",
          "1970-01-01T03:45:22",
          "1970-01-01T03:03:42",
          "1970-01-01T03:45:22",
          "1970-01-01T03:45:22",
          "1970-01-01T03:03:42",
          "1970-01-01T03:45:22",
          "1970-01-01T03:45:22",
          "1970-01-01T03:45:22",
          "1970-01-01T04:18:42",
          "1970-01-01T04:18:42",
          "1970-01-01T03:45:22",
          "1970-01-01T04:18:42",
          "1970-01-01T04:18:42",
          "1970-01-01T03:45:22",
          "1970-01-01T04:18:42",
          "1970-01-01T04:18:42",
          "1970-01-01T04:18:42",
          "1970-01-01T05:00:22",
          "1970-01-01T05:00:22",
          "1970-01-01T04:18:42",
          "1970-01-01T05:00:22",
          "1970-01-01T05:00:22",
          "1970-01-01T04:18:42",
          "1970-01-01T05:00:22",
          "1970-01-01T05:00:22",
          "1970-01-01T05:00:22",
          "1970-01-01T05:33:42",
          "1970-01-01T05:33:42",
          "1970-01-01T05:00:22",
          "1970-01-01T05:33:42",
          "1970-01-01T05:33:42",
          "1970-01-01T05:00:22",
          "1970-01-01T05:33:42",
          "1970-01-01T05:33:42",
          "1970-01-01T05:33:42",
          "1970-01-01T06:15:22",
          "1970-01-01T06:15:22",
          "1970-01-01T05:33:42",
          "1970-01-01T06:15:22",
          "1970-01-01T06:15:22",
          "1970-01-01T05:33:42",
          "1970-01-01T06:15:22",
          "1970-01-01T06:15:22",
          "1970-01-01T06:15:22",
          "1970-01-01T06:48:42",
          "1970-01-01T06:48:42",
          "1970-01-01T06:15:22",
          "1970-01-01T06:48:42",
          "1970-01-01T06:48:42",
          "1970-01-01T06:15:22",
          "1970-01-01T06:48:42",
          "1970-01-01T06:48:42",
          "1970-01-01T06:48:42",
          "1970-01-01T07:30:22",
          "1970-01-01T07:30:22",
          "1970-01-01T06:48:42",
          "1970-01-01T07:30:22",
          "1970-01-01T07:30:22",
          "1970-01-01T06:48:42",
          "1970-01-01T07:30:22",
          "1970-01-01T07:30:22",
          "1970-01-01T07:30:22",
          "1970-01-01T08:12:02",
          "1970-01-01T08:12:02",
          "1970-01-01T07:30:22",
          "1970-01-01T08:12:02",
          "1970-01-01T08:12:02",
          "1970-01-01T07:30:22",
          "1970-01-01T08:12:02",
          "1970-01-01T08:12:02",
          "1970-01-01T08:12:02",
          "1970-01-01T08:45:22",
          "1970-01-01T08:45:22",
          "1970-01-01T08:12:02",
          "1970-01-01T08:45:22",
          "1970-01-01T08:45:22",
          "1970-01-01T08:12:02",
          "1970-01-01T08:45:22",
          "1970-01-01T08:45:22",
          "1970-01-01T08:45:22",
          "1970-01-01T09:27:02",
          "1970-01-01T09:27:02",
          "1970-01-01T08:45:22",
          "1970-01-01T09:27:02",
          "1970-01-01T09:27:02",
          "1970-01-01T08:45:22",
          "1970-01-01T09:27:02",
          "1970-01-01T09:27:02",
          "1970-01-01T09:27:02",
          "1970-01-01T10:08:42",
          "1970-01-01T10:08:42",
          "1970-01-01T09:27:02",
          "1970-01-01T10:08:42",
          "1970-01-01T10:08:42",
          "1970-01-01T09:27:02",
          "1970-01-01T10:08:42",
          "1970-01-01T10:08:42",
          "1970-01-01T10:08:42",
          "1970-01-01T10:42:02",
          "1970-01-01T10:42:02",
          "1970-01-01T10:08:42",
          "1970-01-01T10:42:02",
          "1970-01-01T10:42:02",
          "1970-01-01T10:08:42",
          "1970-01-01T10:42:02",
          "1970-01-01T10:42:02",
          "1970-01-01T10:42:02",
          "1970-01-01T11:15:22",
          "1970-01-01T11:15:22",
          "1970-01-01T10:42:02",
          "1970-01-01T11:15:22",
          "1970-01-01T11:15:22",
          "1970-01-01T10:42:02",
          "1970-01-01T11:15:22",
          "1970-01-01T11:15:22",
          "1970-01-01T11:15:22",
          "1970-01-01T11:57:02",
          "1970-01-01T11:57:02",
          "1970-01-01T11:15:22",
          "1970-01-01T11:57:02",
          "1970-01-01T11:57:02",
          "1970-01-01T11:15:22",
          "1970-01-01T11:57:02",
          "1970-01-01T11:57:02",
          "1970-01-01T11:57:02",
          "1970-01-01T12:38:42",
          "1970-01-01T12:38:42",
          "1970-01-01T11:57:02",
          "1970-01-01T12:38:42",
          "1970-01-01T12:38:42",
          "1970-01-01T11:57:02",
          "1970-01-01T12:38:42",
          "1970-01-01T12:38:42",
          "1970-01-01T12:38:42",
          "1970-01-01T13:12:02",
          "1970-01-01T13:12:02",
          "1970-01-01T12:38:42",
          "1970-01-01T13:12:02",
          "1970-01-01T13:12:02",
          "1970-01-01T12:38:42",
          "1970-01-01T13:12:02",
          "1970-01-01T13:12:02",
          "1970-01-01T13:12:02",
          "1970-01-01T13:53:42",
          "1970-01-01T13:53:42",
          "1970-01-01T13:12:02",
          "1970-01-01T13:53:42",
          "1970-01-01T13:53:42",
          "1970-01-01T13:12:02",
          "1970-01-01T13:53:42",
          "1970-01-01T13:53:42",
          "1970-01-01T13:53:42",
          "1970-01-01T14:35:22",
          "1970-01-01T14:35:22",
          "1970-01-01T13:53:42",
          "1970-01-01T14:35:22",
          "1970-01-01T14:35:22",
          "1970-01-01T13:53:42",
          "1970-01-01T14:35:22",
          "1970-01-01T14:35:22",
          "1970-01-01T14:35:22",
          "1970-01-01T15:08:42",
          "1970-01-01T15:08:42",
          "1970-01-01T14:35:22",
          "1970-01-01T15:08:42",
          "1970-01-01T15:08:42",
          "1970-01-01T14:35:22",
          "1970-01-01T15:08:42",
          "1970-01-01T15:08:42",
          "1970-01-01T15:08:42",
          "1970-01-01T15:55:29",
          "1970-01-01T15:55:29",
          "1970-01-01T15:55:29",
          "1970-01-01T16:42:16",
          "1970-01-01T16:42:16",
          "1970-01-01T15:55:29",
          "1970-01-01T16:42:16",
          "1970-01-01T16:42:16"
         ],
         "y": [
          "Carrier C",
          "Carrier C",
          null,
          "Carrier C",
          "Carrier C",
          null,
          "Carrier C",
          "Carrier C",
          null,
          "Cutter T",
          "Cutter T",
          null,
          "Trench",
          "Trench",
          null,
          "Carrier B",
          "Carrier B",
          null,
          "Cutter T",
          "Cutter T",
          null,
          "Trench",
          "Trench",
          null,
          "Carrier A",
          "Carrier A",
          null,
          "Cutter T",
          "Cutter T",
          null,
          "Trench",
          "Trench",
          null,
          "Barge III",
          "Barge III",
          null,
          "Cutter T",
          "Cutter T",
          null,
          "Trench",
          "Trench",
          null,
          "Cutter T",
          "Cutter T",
          null,
          "Extra 1",
          "Extra 1",
          null,
          "Trench",
          "Trench",
          null,
          "Barge II",
          "Barge II",
          null,
          "Cutter T",
          "Cutter T",
          null,
          "Trench",
          "Trench",
          null,
          "Barge I",
          "Barge I",
          null,
          "Cutter T",
          "Cutter T",
          null,
          "Trench",
          "Trench",
          null,
          "Carrier C",
          "Carrier C",
          null,
          "Cutter T",
          "Cutter T",
          null,
          "Trench",
          "Trench",
          null,
          "Carrier B",
          "Carrier B",
          null,
          "Cutter T",
          "Cutter T",
          null,
          "Trench",
          "Trench",
          null,
          "Carrier A",
          "Carrier A",
          null,
          "Cutter T",
          "Cutter T",
          null,
          "Trench",
          "Trench",
          null,
          "Barge III",
          "Barge III",
          null,
          "Cutter T",
          "Cutter T",
          null,
          "Trench",
          "Trench",
          null,
          "Cutter T",
          "Cutter T",
          null,
          "Extra 1",
          "Extra 1",
          null,
          "Trench",
          "Trench",
          null,
          "Barge II",
          "Barge II",
          null,
          "Cutter T",
          "Cutter T",
          null,
          "Trench",
          "Trench",
          null,
          "Carrier C",
          "Carrier C",
          null,
          "Cutter T",
          "Cutter T",
          null,
          "Trench",
          "Trench",
          null,
          "Barge I",
          "Barge I",
          null,
          "Cutter T",
          "Cutter T",
          null,
          "Trench",
          "Trench",
          null,
          "Carrier B",
          "Carrier B",
          null,
          "Cutter T",
          "Cutter T",
          null,
          "Trench",
          "Trench",
          null,
          "Carrier A",
          "Carrier A",
          null,
          "Cutter T",
          "Cutter T",
          null,
          "Trench",
          "Trench",
          null,
          "Barge III",
          "Barge III",
          null,
          "Cutter T",
          "Cutter T",
          null,
          "Trench",
          "Trench",
          null,
          "Cutter T",
          "Cutter T",
          null,
          "Extra 1",
          "Extra 1",
          null,
          "Trench",
          "Trench",
          null,
          "Barge II",
          "Barge II",
          null,
          "Cutter T",
          "Cutter T",
          null,
          "Trench",
          "Trench",
          null,
          "Carrier C",
          "Carrier C",
          null,
          "Cutter T",
          "Cutter T",
          null,
          "Trench",
          "Trench",
          null,
          "Barge I",
          "Barge I",
          null,
          "Cutter T",
          "Cutter T",
          null,
          "Trench",
          "Trench",
          null,
          "Barge I",
          "Barge I",
          null,
          "Barge I",
          "Barge I",
          null,
          "Reclamation",
          "Reclamation",
          null
         ]
        },
        {
         "connectgaps": false,
         "hoverinfo": "y+name",
         "line": {
          "color": "rgb(0,248,141)",
          "width": 10
         },
         "mode": "lines",
         "name": "loading:Carrier A",
         "type": "scatter",
         "x": [
          "1970-01-01T02:22:02",
          "1970-01-01T02:22:02",
          "1970-01-01T03:03:42",
          "1970-01-01T03:03:42",
          "1970-01-01T03:03:42",
          "1970-01-01T06:48:42",
          "1970-01-01T06:48:42",
          "1970-01-01T07:30:22",
          "1970-01-01T07:30:22",
          "1970-01-01T07:30:22",
          "1970-01-01T11:15:22",
          "1970-01-01T11:15:22",
          "1970-01-01T11:57:02",
          "1970-01-01T11:57:02",
          "1970-01-01T11:57:02",
          "1970-01-01T02:22:02",
          "1970-01-01T02:22:02",
          "1970-01-01T03:03:42",
          "1970-01-01T03:03:42",
          "1970-01-01T03:03:42",
          "1970-01-01T06:48:42",
          "1970-01-01T06:48:42",
          "1970-01-01T07:30:22",
          "1970-01-01T07:30:22",
          "1970-01-01T07:30:22",
          "1970-01-01T11:15:22",
          "1970-01-01T11:15:22",
          "1970-01-01T11:57:02",
          "1970-01-01T11:57:02",
          "1970-01-01T11:57:02",
          "1970-01-01T02:22:02",
          "1970-01-01T02:22:02",
          "1970-01-01T03:03:42",
          "1970-01-01T03:03:42",
          "1970-01-01T03:03:42",
          "1970-01-01T06:48:42",
          "1970-01-01T06:48:42",
          "1970-01-01T07:30:22",
          "1970-01-01T07:30:22",
          "1970-01-01T07:30:22",
          "1970-01-01T11:15:22",
          "1970-01-01T11:15:22",
          "1970-01-01T11:57:02",
          "1970-01-01T11:57:02",
          "1970-01-01T11:57:02"
         ],
         "y": [
          "Carrier A",
          "Carrier A",
          "Carrier A",
          "Carrier A",
          null,
          "Carrier A",
          "Carrier A",
          "Carrier A",
          "Carrier A",
          null,
          "Carrier A",
          "Carrier A",
          "Carrier A",
          "Carrier A",
          null,
          "Cutter T",
          "Cutter T",
          "Cutter T",
          "Cutter T",
          null,
          "Cutter T",
          "Cutter T",
          "Cutter T",
          "Cutter T",
          null,
          "Cutter T",
          "Cutter T",
          "Cutter T",
          "Cutter T",
          null,
          "Trench",
          "Trench",
          "Trench",
          "Trench",
          null,
          "Trench",
          "Trench",
          "Trench",
          "Trench",
          null,
          "Trench",
          "Trench",
          "Trench",
          "Trench",
          null
         ]
        },
        {
         "connectgaps": false,
         "hoverinfo": "y+name",
         "line": {
          "color": "rgb(4,252,145)",
          "width": 10
         },
         "mode": "lines",
         "name": "sailing empty:Carrier A",
         "type": "scatter",
         "x": [
          "1970-01-01T00:34:36",
          "1970-01-01T00:34:36",
          "1970-01-01T01:09:12",
          "1970-01-01T01:09:12",
          "1970-01-01T01:09:12",
          "1970-01-01T04:47:30",
          "1970-01-01T04:47:30",
          "1970-01-01T05:22:06",
          "1970-01-01T05:22:06",
          "1970-01-01T05:22:06",
          "1970-01-01T09:14:10",
          "1970-01-01T09:14:10",
          "1970-01-01T09:48:46",
          "1970-01-01T09:48:46",
          "1970-01-01T09:48:46"
         ],
         "y": [
          "Carrier A",
          "Carrier A",
          "Carrier A",
          "Carrier A",
          null,
          "Carrier A",
          "Carrier A",
          "Carrier A",
          "Carrier A",
          null,
          "Carrier A",
          "Carrier A",
          "Carrier A",
          "Carrier A",
          null
         ]
        },
        {
         "connectgaps": false,
         "hoverinfo": "y+name",
         "line": {
          "color": "rgb(8,0,149)",
          "width": 10
         },
         "mode": "lines",
         "name": "sailing full:Carrier A",
         "type": "scatter",
         "x": [
          "1970-01-01T03:03:42",
          "1970-01-01T03:03:42",
          "1970-01-01T03:38:18",
          "1970-01-01T03:38:18",
          "1970-01-01T03:38:18",
          "1970-01-01T07:30:22",
          "1970-01-01T07:30:22",
          "1970-01-01T08:04:58",
          "1970-01-01T08:04:58",
          "1970-01-01T08:04:58",
          "1970-01-01T11:57:02",
          "1970-01-01T11:57:02",
          "1970-01-01T12:31:38",
          "1970-01-01T12:31:38",
          "1970-01-01T12:31:38"
         ],
         "y": [
          "Carrier A",
          "Carrier A",
          "Carrier A",
          "Carrier A",
          null,
          "Carrier A",
          "Carrier A",
          "Carrier A",
          "Carrier A",
          null,
          "Carrier A",
          "Carrier A",
          "Carrier A",
          "Carrier A",
          null
         ]
        },
        {
         "connectgaps": false,
         "hoverinfo": "y+name",
         "line": {
          "color": "rgb(12,4,153)",
          "width": 10
         },
         "mode": "lines",
         "name": "basic activity:Carrier A",
         "type": "scatter",
         "x": [
          "1970-01-01T00:00:00",
          "1970-01-01T00:00:00",
          "1970-01-01T00:34:36",
          "1970-01-01T00:34:36",
          "1970-01-01T00:34:36",
          "1970-01-01T04:12:54",
          "1970-01-01T04:12:54",
          "1970-01-01T04:47:30",
          "1970-01-01T04:47:30",
          "1970-01-01T04:47:30",
          "1970-01-01T08:39:34",
          "1970-01-01T08:39:34",
          "1970-01-01T09:14:10",
          "1970-01-01T09:14:10",
          "1970-01-01T09:14:10"
         ],
         "y": [
          "Carrier A",
          "Carrier A",
          "Carrier A",
          "Carrier A",
          null,
          "Carrier A",
          "Carrier A",
          "Carrier A",
          "Carrier A",
          null,
          "Carrier A",
          "Carrier A",
          "Carrier A",
          "Carrier A",
          null
         ]
        },
        {
         "connectgaps": false,
         "hoverinfo": "y+name",
         "line": {
          "color": "rgb(16,8,157)",
          "width": 10
         },
         "mode": "lines",
         "name": "unloading:Carrier A",
         "type": "scatter",
         "x": [
          "1970-01-01T03:38:18",
          "1970-01-01T03:38:18",
          "1970-01-01T04:12:54",
          "1970-01-01T04:12:54",
          "1970-01-01T04:12:54",
          "1970-01-01T08:04:58",
          "1970-01-01T08:04:58",
          "1970-01-01T08:39:34",
          "1970-01-01T08:39:34",
          "1970-01-01T08:39:34",
          "1970-01-01T12:31:38",
          "1970-01-01T12:31:38",
          "1970-01-01T13:06:14",
          "1970-01-01T13:06:14",
          "1970-01-01T13:06:14",
          "1970-01-01T03:38:18",
          "1970-01-01T03:38:18",
          "1970-01-01T04:12:54",
          "1970-01-01T04:12:54",
          "1970-01-01T04:12:54",
          "1970-01-01T08:04:58",
          "1970-01-01T08:04:58",
          "1970-01-01T08:39:34",
          "1970-01-01T08:39:34",
          "1970-01-01T08:39:34",
          "1970-01-01T12:31:38",
          "1970-01-01T12:31:38",
          "1970-01-01T13:06:14",
          "1970-01-01T13:06:14",
          "1970-01-01T13:06:14"
         ],
         "y": [
          "Carrier A",
          "Carrier A",
          "Carrier A",
          "Carrier A",
          null,
          "Carrier A",
          "Carrier A",
          "Carrier A",
          "Carrier A",
          null,
          "Carrier A",
          "Carrier A",
          "Carrier A",
          "Carrier A",
          null,
          "Reclamation",
          "Reclamation",
          "Reclamation",
          "Reclamation",
          null,
          "Reclamation",
          "Reclamation",
          "Reclamation",
          "Reclamation",
          null,
          "Reclamation",
          "Reclamation",
          "Reclamation",
          "Reclamation",
          null
         ]
        },
        {
         "connectgaps": false,
         "hoverinfo": "y+name",
         "line": {
          "color": "rgb(20,12,161)",
          "width": 10
         },
         "mode": "lines",
         "name": "unloading:Carrier B",
         "type": "scatter",
         "x": [
          "1970-01-01T02:56:17",
          "1970-01-01T02:56:17",
          "1970-01-01T03:30:32",
          "1970-01-01T03:30:32",
          "1970-01-01T03:30:32",
          "1970-01-01T07:22:57",
          "1970-01-01T07:22:57",
          "1970-01-01T07:57:12",
          "1970-01-01T07:57:12",
          "1970-01-01T07:57:12",
          "1970-01-01T11:49:37",
          "1970-01-01T11:49:37",
          "1970-01-01T12:23:52",
          "1970-01-01T12:23:52",
          "1970-01-01T12:23:52",
          "1970-01-01T02:56:17",
          "1970-01-01T02:56:17",
          "1970-01-01T03:30:32",
          "1970-01-01T03:30:32",
          "1970-01-01T03:30:32",
          "1970-01-01T07:22:57",
          "1970-01-01T07:22:57",
          "1970-01-01T07:57:12",
          "1970-01-01T07:57:12",
          "1970-01-01T07:57:12",
          "1970-01-01T11:49:37",
          "1970-01-01T11:49:37",
          "1970-01-01T12:23:52",
          "1970-01-01T12:23:52",
          "1970-01-01T12:23:52"
         ],
         "y": [
          "Carrier B",
          "Carrier B",
          "Carrier B",
          "Carrier B",
          null,
          "Carrier B",
          "Carrier B",
          "Carrier B",
          "Carrier B",
          null,
          "Carrier B",
          "Carrier B",
          "Carrier B",
          "Carrier B",
          null,
          "Reclamation",
          "Reclamation",
          "Reclamation",
          "Reclamation",
          null,
          "Reclamation",
          "Reclamation",
          "Reclamation",
          "Reclamation",
          null,
          "Reclamation",
          "Reclamation",
          "Reclamation",
          "Reclamation",
          null
         ]
        },
        {
         "connectgaps": false,
         "hoverinfo": "y+name",
         "line": {
          "color": "rgb(24,16,165)",
          "width": 10
         },
         "mode": "lines",
         "name": "sailing empty:Carrier B",
         "type": "scatter",
         "x": [
          "1970-01-01T00:34:15",
          "1970-01-01T00:34:15",
          "1970-01-01T01:08:30",
          "1970-01-01T01:08:30",
          "1970-01-01T01:08:30",
          "1970-01-01T04:04:47",
          "1970-01-01T04:04:47",
          "1970-01-01T04:39:02",
          "1970-01-01T04:39:02",
          "1970-01-01T04:39:02",
          "1970-01-01T08:31:27",
          "1970-01-01T08:31:27",
          "1970-01-01T09:05:42",
          "1970-01-01T09:05:42",
          "1970-01-01T09:05:42"
         ],
         "y": [
          "Carrier B",
          "Carrier B",
          "Carrier B",
          "Carrier B",
          null,
          "Carrier B",
          "Carrier B",
          "Carrier B",
          "Carrier B",
          null,
          "Carrier B",
          "Carrier B",
          "Carrier B",
          "Carrier B",
          null
         ]
        },
        {
         "connectgaps": false,
         "hoverinfo": "y+name",
         "line": {
          "color": "rgb(28,20,169)",
          "width": 10
         },
         "mode": "lines",
         "name": "loading:Carrier B",
         "type": "scatter",
         "x": [
          "1970-01-01T01:48:42",
          "1970-01-01T01:48:42",
          "1970-01-01T02:22:02",
          "1970-01-01T02:22:02",
          "1970-01-01T02:22:02",
          "1970-01-01T06:15:22",
          "1970-01-01T06:15:22",
          "1970-01-01T06:48:42",
          "1970-01-01T06:48:42",
          "1970-01-01T06:48:42",
          "1970-01-01T10:42:02",
          "1970-01-01T10:42:02",
          "1970-01-01T11:15:22",
          "1970-01-01T11:15:22",
          "1970-01-01T11:15:22",
          "1970-01-01T01:48:42",
          "1970-01-01T01:48:42",
          "1970-01-01T02:22:02",
          "1970-01-01T02:22:02",
          "1970-01-01T02:22:02",
          "1970-01-01T06:15:22",
          "1970-01-01T06:15:22",
          "1970-01-01T06:48:42",
          "1970-01-01T06:48:42",
          "1970-01-01T06:48:42",
          "1970-01-01T10:42:02",
          "1970-01-01T10:42:02",
          "1970-01-01T11:15:22",
          "1970-01-01T11:15:22",
          "1970-01-01T11:15:22",
          "1970-01-01T01:48:42",
          "1970-01-01T01:48:42",
          "1970-01-01T02:22:02",
          "1970-01-01T02:22:02",
          "1970-01-01T02:22:02",
          "1970-01-01T06:15:22",
          "1970-01-01T06:15:22",
          "1970-01-01T06:48:42",
          "1970-01-01T06:48:42",
          "1970-01-01T06:48:42",
          "1970-01-01T10:42:02",
          "1970-01-01T10:42:02",
          "1970-01-01T11:15:22",
          "1970-01-01T11:15:22",
          "1970-01-01T11:15:22"
         ],
         "y": [
          "Carrier B",
          "Carrier B",
          "Carrier B",
          "Carrier B",
          null,
          "Carrier B",
          "Carrier B",
          "Carrier B",
          "Carrier B",
          null,
          "Carrier B",
          "Carrier B",
          "Carrier B",
          "Carrier B",
          null,
          "Cutter T",
          "Cutter T",
          "Cutter T",
          "Cutter T",
          null,
          "Cutter T",
          "Cutter T",
          "Cutter T",
          "Cutter T",
          null,
          "Cutter T",
          "Cutter T",
          "Cutter T",
          "Cutter T",
          null,
          "Trench",
          "Trench",
          "Trench",
          "Trench",
          null,
          "Trench",
          "Trench",
          "Trench",
          "Trench",
          null,
          "Trench",
          "Trench",
          "Trench",
          "Trench",
          null
         ]
        },
        {
         "connectgaps": false,
         "hoverinfo": "y+name",
         "line": {
          "color": "rgb(32,24,173)",
          "width": 10
         },
         "mode": "lines",
         "name": "basic activity:Carrier B",
         "type": "scatter",
         "x": [
          "1970-01-01T00:00:00",
          "1970-01-01T00:00:00",
          "1970-01-01T00:34:15",
          "1970-01-01T00:34:15",
          "1970-01-01T00:34:15",
          "1970-01-01T03:30:32",
          "1970-01-01T03:30:32",
          "1970-01-01T04:04:47",
          "1970-01-01T04:04:47",
          "1970-01-01T04:04:47",
          "1970-01-01T07:57:12",
          "1970-01-01T07:57:12",
          "1970-01-01T08:31:27",
          "1970-01-01T08:31:27",
          "1970-01-01T08:31:27"
         ],
         "y": [
          "Carrier B",
          "Carrier B",
          "Carrier B",
          "Carrier B",
          null,
          "Carrier B",
          "Carrier B",
          "Carrier B",
          "Carrier B",
          null,
          "Carrier B",
          "Carrier B",
          "Carrier B",
          "Carrier B",
          null
         ]
        },
        {
         "connectgaps": false,
         "hoverinfo": "y+name",
         "line": {
          "color": "rgb(36,28,177)",
          "width": 10
         },
         "mode": "lines",
         "name": "sailing full:Carrier B",
         "type": "scatter",
         "x": [
          "1970-01-01T02:22:02",
          "1970-01-01T02:22:02",
          "1970-01-01T02:56:17",
          "1970-01-01T02:56:17",
          "1970-01-01T02:56:17",
          "1970-01-01T06:48:42",
          "1970-01-01T06:48:42",
          "1970-01-01T07:22:57",
          "1970-01-01T07:22:57",
          "1970-01-01T07:22:57",
          "1970-01-01T11:15:22",
          "1970-01-01T11:15:22",
          "1970-01-01T11:49:37",
          "1970-01-01T11:49:37",
          "1970-01-01T11:49:37"
         ],
         "y": [
          "Carrier B",
          "Carrier B",
          "Carrier B",
          "Carrier B",
          null,
          "Carrier B",
          "Carrier B",
          "Carrier B",
          "Carrier B",
          null,
          "Carrier B",
          "Carrier B",
          "Carrier B",
          "Carrier B",
          null
         ]
        },
        {
         "connectgaps": false,
         "hoverinfo": "y+name",
         "line": {
          "color": "rgb(40,32,181)",
          "width": 10
         },
         "mode": "lines",
         "name": "unloading:Carrier C",
         "type": "scatter",
         "x": [
          "1970-01-01T02:22:13",
          "1970-01-01T02:22:13",
          "1970-01-01T02:55:44",
          "1970-01-01T02:55:44",
          "1970-01-01T02:55:44",
          "1970-01-01T06:48:53",
          "1970-01-01T06:48:53",
          "1970-01-01T07:22:24",
          "1970-01-01T07:22:24",
          "1970-01-01T07:22:24",
          "1970-01-01T10:42:13",
          "1970-01-01T10:42:13",
          "1970-01-01T11:15:44",
          "1970-01-01T11:15:44",
          "1970-01-01T11:15:44",
          "1970-01-01T15:08:53",
          "1970-01-01T15:08:53",
          "1970-01-01T15:42:24",
          "1970-01-01T15:42:24",
          "1970-01-01T15:42:24",
          "1970-01-01T02:22:13",
          "1970-01-01T02:22:13",
          "1970-01-01T02:55:44",
          "1970-01-01T02:55:44",
          "1970-01-01T02:55:44",
          "1970-01-01T06:48:53",
          "1970-01-01T06:48:53",
          "1970-01-01T07:22:24",
          "1970-01-01T07:22:24",
          "1970-01-01T07:22:24",
          "1970-01-01T10:42:13",
          "1970-01-01T10:42:13",
          "1970-01-01T11:15:44",
          "1970-01-01T11:15:44",
          "1970-01-01T11:15:44",
          "1970-01-01T15:08:53",
          "1970-01-01T15:08:53",
          "1970-01-01T15:42:24",
          "1970-01-01T15:42:24",
          "1970-01-01T15:42:24"
         ],
         "y": [
          "Carrier C",
          "Carrier C",
          "Carrier C",
          "Carrier C",
          null,
          "Carrier C",
          "Carrier C",
          "Carrier C",
          "Carrier C",
          null,
          "Carrier C",
          "Carrier C",
          "Carrier C",
          "Carrier C",
          null,
          "Carrier C",
          "Carrier C",
          "Carrier C",
          "Carrier C",
          null,
          "Reclamation",
          "Reclamation",
          "Reclamation",
          "Reclamation",
          null,
          "Reclamation",
          "Reclamation",
          "Reclamation",
          "Reclamation",
          null,
          "Reclamation",
          "Reclamation",
          "Reclamation",
          "Reclamation",
          null,
          "Reclamation",
          "Reclamation",
          "Reclamation",
          "Reclamation",
          null
         ]
        },
        {
         "connectgaps": false,
         "hoverinfo": "y+name",
         "line": {
          "color": "rgb(44,36,185)",
          "width": 10
         },
         "mode": "lines",
         "name": "sailing full:Carrier C",
         "type": "scatter",
         "x": [
          "1970-01-01T01:48:42",
          "1970-01-01T01:48:42",
          "1970-01-01T02:22:13",
          "1970-01-01T02:22:13",
          "1970-01-01T02:22:13",
          "1970-01-01T06:15:22",
          "1970-01-01T06:15:22",
          "1970-01-01T06:48:53",
          "1970-01-01T06:48:53",
          "1970-01-01T06:48:53",
          "1970-01-01T10:08:42",
          "1970-01-01T10:08:42",
          "1970-01-01T10:42:13",
          "1970-01-01T10:42:13",
          "1970-01-01T10:42:13",
          "1970-01-01T14:35:22",
          "1970-01-01T14:35:22",
          "1970-01-01T15:08:53",
          "1970-01-01T15:08:53",
          "1970-01-01T15:08:53"
         ],
         "y": [
          "Carrier C",
          "Carrier C",
          "Carrier C",
          "Carrier C",
          null,
          "Carrier C",
          "Carrier C",
          "Carrier C",
          "Carrier C",
          null,
          "Carrier C",
          "Carrier C",
          "Carrier C",
          "Carrier C",
          null,
          "Carrier C",
          "Carrier C",
          "Carrier C",
          "Carrier C",
          null
         ]
        },
        {
         "connectgaps": false,
         "hoverinfo": "y+name",
         "line": {
          "color": "rgb(48,40,189)",
          "width": 10
         },
         "mode": "lines",
         "name": "sailing empty:Carrier C",
         "type": "scatter",
         "x": [
          "1970-01-01T00:33:31",
          "1970-01-01T00:33:31",
          "1970-01-01T01:07:02",
          "1970-01-01T01:07:02",
          "1970-01-01T01:07:02",
          "1970-01-01T03:29:15",
          "1970-01-01T03:29:15",
          "1970-01-01T04:02:46",
          "1970-01-01T04:02:46",
          "1970-01-01T04:02:46",
          "1970-01-01T07:55:55",
          "1970-01-01T07:55:55",
          "1970-01-01T08:29:26",
          "1970-01-01T08:29:26",
          "1970-01-01T08:29:26",
          "1970-01-01T11:49:15",
          "1970-01-01T11:49:15",
          "1970-01-01T12:22:46",
          "1970-01-01T12:22:46",
          "1970-01-01T12:22:46"
         ],
         "y": [
          "Carrier C",
          "Carrier C",
          "Carrier C",
          "Carrier C",
          null,
          "Carrier C",
          "Carrier C",
          "Carrier C",
          "Carrier C",
          null,
          "Carrier C",
          "Carrier C",
          "Carrier C",
          "Carrier C",
          null,
          "Carrier C",
          "Carrier C",
          "Carrier C",
          "Carrier C",
          null
         ]
        },
        {
         "connectgaps": false,
         "hoverinfo": "y+name",
         "line": {
          "color": "rgb(52,44,193)",
          "width": 10
         },
         "mode": "lines",
         "name": "basic activity:Carrier C",
         "type": "scatter",
         "x": [
          "1970-01-01T00:00:00",
          "1970-01-01T00:00:00",
          "1970-01-01T00:33:31",
          "1970-01-01T00:33:31",
          "1970-01-01T00:33:31",
          "1970-01-01T02:55:44",
          "1970-01-01T02:55:44",
          "1970-01-01T03:29:15",
          "1970-01-01T03:29:15",
          "1970-01-01T03:29:15",
          "1970-01-01T07:22:24",
          "1970-01-01T07:22:24",
          "1970-01-01T07:55:55",
          "1970-01-01T07:55:55",
          "1970-01-01T07:55:55",
          "1970-01-01T11:15:44",
          "1970-01-01T11:15:44",
          "1970-01-01T11:49:15",
          "1970-01-01T11:49:15",
          "1970-01-01T11:49:15"
         ],
         "y": [
          "Carrier C",
          "Carrier C",
          "Carrier C",
          "Carrier C",
          null,
          "Carrier C",
          "Carrier C",
          "Carrier C",
          "Carrier C",
          null,
          "Carrier C",
          "Carrier C",
          "Carrier C",
          "Carrier C",
          null,
          "Carrier C",
          "Carrier C",
          "Carrier C",
          "Carrier C",
          null
         ]
        },
        {
         "connectgaps": false,
         "hoverinfo": "y+name",
         "line": {
          "color": "rgb(56,48,197)",
          "width": 10
         },
         "mode": "lines",
         "name": "loading:Carrier C",
         "type": "scatter",
         "x": [
          "1970-01-01T01:07:02",
          "1970-01-01T01:07:02",
          "1970-01-01T01:48:42",
          "1970-01-01T01:48:42",
          "1970-01-01T01:48:42",
          "1970-01-01T05:33:42",
          "1970-01-01T05:33:42",
          "1970-01-01T06:15:22",
          "1970-01-01T06:15:22",
          "1970-01-01T06:15:22",
          "1970-01-01T09:27:02",
          "1970-01-01T09:27:02",
          "1970-01-01T10:08:42",
          "1970-01-01T10:08:42",
          "1970-01-01T10:08:42",
          "1970-01-01T13:53:42",
          "1970-01-01T13:53:42",
          "1970-01-01T14:35:22",
          "1970-01-01T14:35:22",
          "1970-01-01T14:35:22",
          "1970-01-01T01:07:02",
          "1970-01-01T01:07:02",
          "1970-01-01T01:48:42",
          "1970-01-01T01:48:42",
          "1970-01-01T01:48:42",
          "1970-01-01T05:33:42",
          "1970-01-01T05:33:42",
          "1970-01-01T06:15:22",
          "1970-01-01T06:15:22",
          "1970-01-01T06:15:22",
          "1970-01-01T09:27:02",
          "1970-01-01T09:27:02",
          "1970-01-01T10:08:42",
          "1970-01-01T10:08:42",
          "1970-01-01T10:08:42",
          "1970-01-01T13:53:42",
          "1970-01-01T13:53:42",
          "1970-01-01T14:35:22",
          "1970-01-01T14:35:22",
          "1970-01-01T14:35:22",
          "1970-01-01T01:07:02",
          "1970-01-01T01:07:02",
          "1970-01-01T01:48:42",
          "1970-01-01T01:48:42",
          "1970-01-01T01:48:42",
          "1970-01-01T05:33:42",
          "1970-01-01T05:33:42",
          "1970-01-01T06:15:22",
          "1970-01-01T06:15:22",
          "1970-01-01T06:15:22",
          "1970-01-01T09:27:02",
          "1970-01-01T09:27:02",
          "1970-01-01T10:08:42",
          "1970-01-01T10:08:42",
          "1970-01-01T10:08:42",
          "1970-01-01T13:53:42",
          "1970-01-01T13:53:42",
          "1970-01-01T14:35:22",
          "1970-01-01T14:35:22",
          "1970-01-01T14:35:22"
         ],
         "y": [
          "Carrier C",
          "Carrier C",
          "Carrier C",
          "Carrier C",
          null,
          "Carrier C",
          "Carrier C",
          "Carrier C",
          "Carrier C",
          null,
          "Carrier C",
          "Carrier C",
          "Carrier C",
          "Carrier C",
          null,
          "Carrier C",
          "Carrier C",
          "Carrier C",
          "Carrier C",
          null,
          "Cutter T",
          "Cutter T",
          "Cutter T",
          "Cutter T",
          null,
          "Cutter T",
          "Cutter T",
          "Cutter T",
          "Cutter T",
          null,
          "Cutter T",
          "Cutter T",
          "Cutter T",
          "Cutter T",
          null,
          "Cutter T",
          "Cutter T",
          "Cutter T",
          "Cutter T",
          null,
          "Trench",
          "Trench",
          "Trench",
          "Trench",
          null,
          "Trench",
          "Trench",
          "Trench",
          "Trench",
          null,
          "Trench",
          "Trench",
          "Trench",
          "Trench",
          null,
          "Trench",
          "Trench",
          "Trench",
          "Trench",
          null
         ]
        },
        {
         "connectgaps": false,
         "hoverinfo": "y+name",
         "line": {
          "color": "rgb(60,52,201)",
          "width": 10
         },
         "mode": "lines",
         "name": "loading:Barge I",
         "type": "scatter",
         "x": [
          "1970-01-01T05:00:22",
          "1970-01-01T05:00:22",
          "1970-01-01T05:33:42",
          "1970-01-01T05:33:42",
          "1970-01-01T05:33:42",
          "1970-01-01T10:08:42",
          "1970-01-01T10:08:42",
          "1970-01-01T10:42:02",
          "1970-01-01T10:42:02",
          "1970-01-01T10:42:02",
          "1970-01-01T14:35:22",
          "1970-01-01T14:35:22",
          "1970-01-01T15:08:42",
          "1970-01-01T15:08:42",
          "1970-01-01T15:08:42",
          "1970-01-01T05:00:22",
          "1970-01-01T05:00:22",
          "1970-01-01T05:33:42",
          "1970-01-01T05:33:42",
          "1970-01-01T05:33:42",
          "1970-01-01T10:08:42",
          "1970-01-01T10:08:42",
          "1970-01-01T10:42:02",
          "1970-01-01T10:42:02",
          "1970-01-01T10:42:02",
          "1970-01-01T14:35:22",
          "1970-01-01T14:35:22",
          "1970-01-01T15:08:42",
          "1970-01-01T15:08:42",
          "1970-01-01T15:08:42",
          "1970-01-01T05:00:22",
          "1970-01-01T05:00:22",
          "1970-01-01T05:33:42",
          "1970-01-01T05:33:42",
          "1970-01-01T05:33:42",
          "1970-01-01T10:08:42",
          "1970-01-01T10:08:42",
          "1970-01-01T10:42:02",
          "1970-01-01T10:42:02",
          "1970-01-01T10:42:02",
          "1970-01-01T14:35:22",
          "1970-01-01T14:35:22",
          "1970-01-01T15:08:42",
          "1970-01-01T15:08:42",
          "1970-01-01T15:08:42"
         ],
         "y": [
          "Barge I",
          "Barge I",
          "Barge I",
          "Barge I",
          null,
          "Barge I",
          "Barge I",
          "Barge I",
          "Barge I",
          null,
          "Barge I",
          "Barge I",
          "Barge I",
          "Barge I",
          null,
          "Cutter T",
          "Cutter T",
          "Cutter T",
          "Cutter T",
          null,
          "Cutter T",
          "Cutter T",
          "Cutter T",
          "Cutter T",
          null,
          "Cutter T",
          "Cutter T",
          "Cutter T",
          "Cutter T",
          null,
          "Trench",
          "Trench",
          "Trench",
          "Trench",
          null,
          "Trench",
          "Trench",
          "Trench",
          "Trench",
          null,
          "Trench",
          "Trench",
          "Trench",
          "Trench",
          null
         ]
        },
        {
         "connectgaps": false,
         "hoverinfo": "y+name",
         "line": {
          "color": "rgb(64,56,205)",
          "width": 10
         },
         "mode": "lines",
         "name": "basic activity:Barge I",
         "type": "scatter",
         "x": [
          "1970-01-01T00:00:00",
          "1970-01-01T00:00:00",
          "1970-01-01T00:46:47",
          "1970-01-01T00:46:47",
          "1970-01-01T00:46:47",
          "1970-01-01T07:07:16",
          "1970-01-01T07:07:16",
          "1970-01-01T07:54:03",
          "1970-01-01T07:54:03",
          "1970-01-01T07:54:03",
          "1970-01-01T12:15:36",
          "1970-01-01T12:15:36",
          "1970-01-01T13:02:23",
          "1970-01-01T13:02:23",
          "1970-01-01T13:02:23"
         ],
         "y": [
          "Barge I",
          "Barge I",
          "Barge I",
          "Barge I",
          null,
          "Barge I",
          "Barge I",
          "Barge I",
          "Barge I",
          null,
          "Barge I",
          "Barge I",
          "Barge I",
          "Barge I",
          null
         ]
        },
        {
         "connectgaps": false,
         "hoverinfo": "y+name",
         "line": {
          "color": "rgb(68,60,209)",
          "width": 10
         },
         "mode": "lines",
         "name": "unloading:Barge I",
         "type": "scatter",
         "x": [
          "1970-01-01T06:20:29",
          "1970-01-01T06:20:29",
          "1970-01-01T07:07:16",
          "1970-01-01T07:07:16",
          "1970-01-01T07:07:16",
          "1970-01-01T11:28:49",
          "1970-01-01T11:28:49",
          "1970-01-01T12:15:36",
          "1970-01-01T12:15:36",
          "1970-01-01T12:15:36",
          "1970-01-01T15:55:29",
          "1970-01-01T15:55:29",
          "1970-01-01T16:42:16",
          "1970-01-01T16:42:16",
          "1970-01-01T16:42:16",
          "1970-01-01T06:20:29",
          "1970-01-01T06:20:29",
          "1970-01-01T07:07:16",
          "1970-01-01T07:07:16",
          "1970-01-01T07:07:16",
          "1970-01-01T11:28:49",
          "1970-01-01T11:28:49",
          "1970-01-01T12:15:36",
          "1970-01-01T12:15:36",
          "1970-01-01T12:15:36",
          "1970-01-01T15:55:29",
          "1970-01-01T15:55:29",
          "1970-01-01T16:42:16",
          "1970-01-01T16:42:16",
          "1970-01-01T16:42:16"
         ],
         "y": [
          "Barge I",
          "Barge I",
          "Barge I",
          "Barge I",
          null,
          "Barge I",
          "Barge I",
          "Barge I",
          "Barge I",
          null,
          "Barge I",
          "Barge I",
          "Barge I",
          "Barge I",
          null,
          "Reclamation",
          "Reclamation",
          "Reclamation",
          "Reclamation",
          null,
          "Reclamation",
          "Reclamation",
          "Reclamation",
          "Reclamation",
          null,
          "Reclamation",
          "Reclamation",
          "Reclamation",
          "Reclamation",
          null
         ]
        },
        {
         "connectgaps": false,
         "hoverinfo": "y+name",
         "line": {
          "color": "rgb(72,64,213)",
          "width": 10
         },
         "mode": "lines",
         "name": "sailing empty:Barge I",
         "type": "scatter",
         "x": [
          "1970-01-01T00:46:47",
          "1970-01-01T00:46:47",
          "1970-01-01T01:33:34",
          "1970-01-01T01:33:34",
          "1970-01-01T01:33:34",
          "1970-01-01T07:54:03",
          "1970-01-01T07:54:03",
          "1970-01-01T08:40:50",
          "1970-01-01T08:40:50",
          "1970-01-01T08:40:50",
          "1970-01-01T13:02:23",
          "1970-01-01T13:02:23",
          "1970-01-01T13:49:10",
          "1970-01-01T13:49:10",
          "1970-01-01T13:49:10"
         ],
         "y": [
          "Barge I",
          "Barge I",
          "Barge I",
          "Barge I",
          null,
          "Barge I",
          "Barge I",
          "Barge I",
          "Barge I",
          null,
          "Barge I",
          "Barge I",
          "Barge I",
          "Barge I",
          null
         ]
        },
        {
         "connectgaps": false,
         "hoverinfo": "y+name",
         "line": {
          "color": "rgb(76,68,217)",
          "width": 10
         },
         "mode": "lines",
         "name": "sailing full:Barge I",
         "type": "scatter",
         "x": [
          "1970-01-01T05:33:42",
          "1970-01-01T05:33:42",
          "1970-01-01T06:20:29",
          "1970-01-01T06:20:29",
          "1970-01-01T06:20:29",
          "1970-01-01T10:42:02",
          "1970-01-01T10:42:02",
          "1970-01-01T11:28:49",
          "1970-01-01T11:28:49",
          "1970-01-01T11:28:49",
          "1970-01-01T15:08:42",
          "1970-01-01T15:08:42",
          "1970-01-01T15:55:29",
          "1970-01-01T15:55:29",
          "1970-01-01T15:55:29"
         ],
         "y": [
          "Barge I",
          "Barge I",
          "Barge I",
          "Barge I",
          null,
          "Barge I",
          "Barge I",
          "Barge I",
          "Barge I",
          null,
          "Barge I",
          "Barge I",
          "Barge I",
          "Barge I",
          null
         ]
        },
        {
         "connectgaps": false,
         "hoverinfo": "y+name",
         "line": {
          "color": "rgb(80,72,221)",
          "width": 10
         },
         "mode": "lines",
         "name": "sailing full:Barge II",
         "type": "scatter",
         "x": [
          "1970-01-01T05:00:22",
          "1970-01-01T05:00:22",
          "1970-01-01T05:44:13",
          "1970-01-01T05:44:13",
          "1970-01-01T05:44:13",
          "1970-01-01T09:27:02",
          "1970-01-01T09:27:02",
          "1970-01-01T10:10:53",
          "1970-01-01T10:10:53",
          "1970-01-01T10:10:53",
          "1970-01-01T13:53:42",
          "1970-01-01T13:53:42",
          "1970-01-01T14:37:33",
          "1970-01-01T14:37:33",
          "1970-01-01T14:37:33"
         ],
         "y": [
          "Barge II",
          "Barge II",
          "Barge II",
          "Barge II",
          null,
          "Barge II",
          "Barge II",
          "Barge II",
          "Barge II",
          null,
          "Barge II",
          "Barge II",
          "Barge II",
          "Barge II",
          null
         ]
        },
        {
         "connectgaps": false,
         "hoverinfo": "y+name",
         "line": {
          "color": "rgb(84,76,225)",
          "width": 10
         },
         "mode": "lines",
         "name": "unloading:Barge II",
         "type": "scatter",
         "x": [
          "1970-01-01T05:44:13",
          "1970-01-01T05:44:13",
          "1970-01-01T06:28:04",
          "1970-01-01T06:28:04",
          "1970-01-01T06:28:04",
          "1970-01-01T10:10:53",
          "1970-01-01T10:10:53",
          "1970-01-01T10:54:44",
          "1970-01-01T10:54:44",
          "1970-01-01T10:54:44",
          "1970-01-01T14:37:33",
          "1970-01-01T14:37:33",
          "1970-01-01T15:21:24",
          "1970-01-01T15:21:24",
          "1970-01-01T15:21:24",
          "1970-01-01T05:44:13",
          "1970-01-01T05:44:13",
          "1970-01-01T06:28:04",
          "1970-01-01T06:28:04",
          "1970-01-01T06:28:04",
          "1970-01-01T10:10:53",
          "1970-01-01T10:10:53",
          "1970-01-01T10:54:44",
          "1970-01-01T10:54:44",
          "1970-01-01T10:54:44",
          "1970-01-01T14:37:33",
          "1970-01-01T14:37:33",
          "1970-01-01T15:21:24",
          "1970-01-01T15:21:24",
          "1970-01-01T15:21:24"
         ],
         "y": [
          "Barge II",
          "Barge II",
          "Barge II",
          "Barge II",
          null,
          "Barge II",
          "Barge II",
          "Barge II",
          "Barge II",
          null,
          "Barge II",
          "Barge II",
          "Barge II",
          "Barge II",
          null,
          "Reclamation",
          "Reclamation",
          "Reclamation",
          "Reclamation",
          null,
          "Reclamation",
          "Reclamation",
          "Reclamation",
          "Reclamation",
          null,
          "Reclamation",
          "Reclamation",
          "Reclamation",
          "Reclamation",
          null
         ]
        },
        {
         "connectgaps": false,
         "hoverinfo": "y+name",
         "line": {
          "color": "rgb(88,80,229)",
          "width": 10
         },
         "mode": "lines",
         "name": "sailing empty:Barge II",
         "type": "scatter",
         "x": [
          "1970-01-01T00:43:51",
          "1970-01-01T00:43:51",
          "1970-01-01T01:27:42",
          "1970-01-01T01:27:42",
          "1970-01-01T01:27:42",
          "1970-01-01T07:11:55",
          "1970-01-01T07:11:55",
          "1970-01-01T07:55:46",
          "1970-01-01T07:55:46",
          "1970-01-01T07:55:46",
          "1970-01-01T11:38:35",
          "1970-01-01T11:38:35",
          "1970-01-01T12:22:26",
          "1970-01-01T12:22:26",
          "1970-01-01T12:22:26"
         ],
         "y": [
          "Barge II",
          "Barge II",
          "Barge II",
          "Barge II",
          null,
          "Barge II",
          "Barge II",
          "Barge II",
          "Barge II",
          null,
          "Barge II",
          "Barge II",
          "Barge II",
          "Barge II",
          null
         ]
        },
        {
         "connectgaps": false,
         "hoverinfo": "y+name",
         "line": {
          "color": "rgb(92,84,233)",
          "width": 10
         },
         "mode": "lines",
         "name": "loading:Barge II",
         "type": "scatter",
         "x": [
          "1970-01-01T04:18:42",
          "1970-01-01T04:18:42",
          "1970-01-01T05:00:22",
          "1970-01-01T05:00:22",
          "1970-01-01T05:00:22",
          "1970-01-01T08:45:22",
          "1970-01-01T08:45:22",
          "1970-01-01T09:27:02",
          "1970-01-01T09:27:02",
          "1970-01-01T09:27:02",
          "1970-01-01T13:12:02",
          "1970-01-01T13:12:02",
          "1970-01-01T13:53:42",
          "1970-01-01T13:53:42",
          "1970-01-01T13:53:42",
          "1970-01-01T04:18:42",
          "1970-01-01T04:18:42",
          "1970-01-01T05:00:22",
          "1970-01-01T05:00:22",
          "1970-01-01T05:00:22",
          "1970-01-01T08:45:22",
          "1970-01-01T08:45:22",
          "1970-01-01T09:27:02",
          "1970-01-01T09:27:02",
          "1970-01-01T09:27:02",
          "1970-01-01T13:12:02",
          "1970-01-01T13:12:02",
          "1970-01-01T13:53:42",
          "1970-01-01T13:53:42",
          "1970-01-01T13:53:42",
          "1970-01-01T04:18:42",
          "1970-01-01T04:18:42",
          "1970-01-01T05:00:22",
          "1970-01-01T05:00:22",
          "1970-01-01T05:00:22",
          "1970-01-01T08:45:22",
          "1970-01-01T08:45:22",
          "1970-01-01T09:27:02",
          "1970-01-01T09:27:02",
          "1970-01-01T09:27:02",
          "1970-01-01T13:12:02",
          "1970-01-01T13:12:02",
          "1970-01-01T13:53:42",
          "1970-01-01T13:53:42",
          "1970-01-01T13:53:42"
         ],
         "y": [
          "Barge II",
          "Barge II",
          "Barge II",
          "Barge II",
          null,
          "Barge II",
          "Barge II",
          "Barge II",
          "Barge II",
          null,
          "Barge II",
          "Barge II",
          "Barge II",
          "Barge II",
          null,
          "Cutter T",
          "Cutter T",
          "Cutter T",
          "Cutter T",
          null,
          "Cutter T",
          "Cutter T",
          "Cutter T",
          "Cutter T",
          null,
          "Cutter T",
          "Cutter T",
          "Cutter T",
          "Cutter T",
          null,
          "Trench",
          "Trench",
          "Trench",
          "Trench",
          null,
          "Trench",
          "Trench",
          "Trench",
          "Trench",
          null,
          "Trench",
          "Trench",
          "Trench",
          "Trench",
          null
         ]
        },
        {
         "connectgaps": false,
         "hoverinfo": "y+name",
         "line": {
          "color": "rgb(96,88,237)",
          "width": 10
         },
         "mode": "lines",
         "name": "basic activity:Barge II",
         "type": "scatter",
         "x": [
          "1970-01-01T00:00:00",
          "1970-01-01T00:00:00",
          "1970-01-01T00:43:51",
          "1970-01-01T00:43:51",
          "1970-01-01T00:43:51",
          "1970-01-01T06:28:04",
          "1970-01-01T06:28:04",
          "1970-01-01T07:11:55",
          "1970-01-01T07:11:55",
          "1970-01-01T07:11:55",
          "1970-01-01T10:54:44",
          "1970-01-01T10:54:44",
          "1970-01-01T11:38:35",
          "1970-01-01T11:38:35",
          "1970-01-01T11:38:35"
         ],
         "y": [
          "Barge II",
          "Barge II",
          "Barge II",
          "Barge II",
          null,
          "Barge II",
          "Barge II",
          "Barge II",
          "Barge II",
          null,
          "Barge II",
          "Barge II",
          "Barge II",
          "Barge II",
          null
         ]
        },
        {
         "connectgaps": false,
         "hoverinfo": "y+name",
         "line": {
          "color": "rgb(100,92,241)",
          "width": 10
         },
         "mode": "lines",
         "name": "basic activity:Barge III",
         "type": "scatter",
         "x": [
          "1970-01-01T00:00:00",
          "1970-01-01T00:00:00",
          "1970-01-01T00:34:48",
          "1970-01-01T00:34:48",
          "1970-01-01T00:34:48",
          "1970-01-01T04:54:58",
          "1970-01-01T04:54:58",
          "1970-01-01T05:29:46",
          "1970-01-01T05:29:46",
          "1970-01-01T05:29:46",
          "1970-01-01T09:21:38",
          "1970-01-01T09:21:38",
          "1970-01-01T09:56:26",
          "1970-01-01T09:56:26",
          "1970-01-01T09:56:26"
         ],
         "y": [
          "Barge III",
          "Barge III",
          "Barge III",
          "Barge III",
          null,
          "Barge III",
          "Barge III",
          "Barge III",
          "Barge III",
          null,
          "Barge III",
          "Barge III",
          "Barge III",
          "Barge III",
          null
         ]
        },
        {
         "connectgaps": false,
         "hoverinfo": "y+name",
         "line": {
          "color": "rgb(104,96,245)",
          "width": 10
         },
         "mode": "lines",
         "name": "sailing empty:Barge III",
         "type": "scatter",
         "x": [
          "1970-01-01T00:34:48",
          "1970-01-01T00:34:48",
          "1970-01-01T01:09:36",
          "1970-01-01T01:09:36",
          "1970-01-01T01:09:36",
          "1970-01-01T05:29:46",
          "1970-01-01T05:29:46",
          "1970-01-01T06:04:34",
          "1970-01-01T06:04:34",
          "1970-01-01T06:04:34",
          "1970-01-01T09:56:26",
          "1970-01-01T09:56:26",
          "1970-01-01T10:31:14",
          "1970-01-01T10:31:14",
          "1970-01-01T10:31:14"
         ],
         "y": [
          "Barge III",
          "Barge III",
          "Barge III",
          "Barge III",
          null,
          "Barge III",
          "Barge III",
          "Barge III",
          "Barge III",
          null,
          "Barge III",
          "Barge III",
          "Barge III",
          "Barge III",
          null
         ]
        },
        {
         "connectgaps": false,
         "hoverinfo": "y+name",
         "line": {
          "color": "rgb(108,100,249)",
          "width": 10
         },
         "mode": "lines",
         "name": "loading:Barge III",
         "type": "scatter",
         "x": [
          "1970-01-01T03:03:42",
          "1970-01-01T03:03:42",
          "1970-01-01T03:45:22",
          "1970-01-01T03:45:22",
          "1970-01-01T03:45:22",
          "1970-01-01T07:30:22",
          "1970-01-01T07:30:22",
          "1970-01-01T08:12:02",
          "1970-01-01T08:12:02",
          "1970-01-01T08:12:02",
          "1970-01-01T11:57:02",
          "1970-01-01T11:57:02",
          "1970-01-01T12:38:42",
          "1970-01-01T12:38:42",
          "1970-01-01T12:38:42",
          "1970-01-01T03:03:42",
          "1970-01-01T03:03:42",
          "1970-01-01T03:45:22",
          "1970-01-01T03:45:22",
          "1970-01-01T03:45:22",
          "1970-01-01T07:30:22",
          "1970-01-01T07:30:22",
          "1970-01-01T08:12:02",
          "1970-01-01T08:12:02",
          "1970-01-01T08:12:02",
          "1970-01-01T11:57:02",
          "1970-01-01T11:57:02",
          "1970-01-01T12:38:42",
          "1970-01-01T12:38:42",
          "1970-01-01T12:38:42",
          "1970-01-01T03:03:42",
          "1970-01-01T03:03:42",
          "1970-01-01T03:45:22",
          "1970-01-01T03:45:22",
          "1970-01-01T03:45:22",
          "1970-01-01T07:30:22",
          "1970-01-01T07:30:22",
          "1970-01-01T08:12:02",
          "1970-01-01T08:12:02",
          "1970-01-01T08:12:02",
          "1970-01-01T11:57:02",
          "1970-01-01T11:57:02",
          "1970-01-01T12:38:42",
          "1970-01-01T12:38:42",
          "1970-01-01T12:38:42"
         ],
         "y": [
          "Barge III",
          "Barge III",
          "Barge III",
          "Barge III",
          null,
          "Barge III",
          "Barge III",
          "Barge III",
          "Barge III",
          null,
          "Barge III",
          "Barge III",
          "Barge III",
          "Barge III",
          null,
          "Cutter T",
          "Cutter T",
          "Cutter T",
          "Cutter T",
          null,
          "Cutter T",
          "Cutter T",
          "Cutter T",
          "Cutter T",
          null,
          "Cutter T",
          "Cutter T",
          "Cutter T",
          "Cutter T",
          null,
          "Trench",
          "Trench",
          "Trench",
          "Trench",
          null,
          "Trench",
          "Trench",
          "Trench",
          "Trench",
          null,
          "Trench",
          "Trench",
          "Trench",
          "Trench",
          null
         ]
        },
        {
         "connectgaps": false,
         "hoverinfo": "y+name",
         "line": {
          "color": "rgb(112,104,253)",
          "width": 10
         },
         "mode": "lines",
         "name": "sailing full:Barge III",
         "type": "scatter",
         "x": [
          "1970-01-01T03:45:22",
          "1970-01-01T03:45:22",
          "1970-01-01T04:20:10",
          "1970-01-01T04:20:10",
          "1970-01-01T04:20:10",
          "1970-01-01T08:12:02",
          "1970-01-01T08:12:02",
          "1970-01-01T08:46:50",
          "1970-01-01T08:46:50",
          "1970-01-01T08:46:50",
          "1970-01-01T12:38:42",
          "1970-01-01T12:38:42",
          "1970-01-01T13:13:30",
          "1970-01-01T13:13:30",
          "1970-01-01T13:13:30"
         ],
         "y": [
          "Barge III",
          "Barge III",
          "Barge III",
          "Barge III",
          null,
          "Barge III",
          "Barge III",
          "Barge III",
          "Barge III",
          null,
          "Barge III",
          "Barge III",
          "Barge III",
          "Barge III",
          null
         ]
        },
        {
         "connectgaps": false,
         "hoverinfo": "y+name",
         "line": {
          "color": "rgb(116,108,1)",
          "width": 10
         },
         "mode": "lines",
         "name": "unloading:Barge III",
         "type": "scatter",
         "x": [
          "1970-01-01T04:20:10",
          "1970-01-01T04:20:10",
          "1970-01-01T04:54:58",
          "1970-01-01T04:54:58",
          "1970-01-01T04:54:58",
          "1970-01-01T08:46:50",
          "1970-01-01T08:46:50",
          "1970-01-01T09:21:38",
          "1970-01-01T09:21:38",
          "1970-01-01T09:21:38",
          "1970-01-01T13:13:30",
          "1970-01-01T13:13:30",
          "1970-01-01T13:48:18",
          "1970-01-01T13:48:18",
          "1970-01-01T13:48:18",
          "1970-01-01T04:20:10",
          "1970-01-01T04:20:10",
          "1970-01-01T04:54:58",
          "1970-01-01T04:54:58",
          "1970-01-01T04:54:58",
          "1970-01-01T08:46:50",
          "1970-01-01T08:46:50",
          "1970-01-01T09:21:38",
          "1970-01-01T09:21:38",
          "1970-01-01T09:21:38",
          "1970-01-01T13:13:30",
          "1970-01-01T13:13:30",
          "1970-01-01T13:48:18",
          "1970-01-01T13:48:18",
          "1970-01-01T13:48:18"
         ],
         "y": [
          "Barge III",
          "Barge III",
          "Barge III",
          "Barge III",
          null,
          "Barge III",
          "Barge III",
          "Barge III",
          "Barge III",
          null,
          "Barge III",
          "Barge III",
          "Barge III",
          "Barge III",
          null,
          "Reclamation",
          "Reclamation",
          "Reclamation",
          "Reclamation",
          null,
          "Reclamation",
          "Reclamation",
          "Reclamation",
          "Reclamation",
          null,
          "Reclamation",
          "Reclamation",
          "Reclamation",
          "Reclamation",
          null
         ]
        },
        {
         "connectgaps": false,
         "hoverinfo": "y+name",
         "line": {
          "color": "rgb(120,112,5)",
          "width": 10
         },
         "mode": "lines",
         "name": "unloading:Extra 1",
         "type": "scatter",
         "x": [
          "1970-01-01T04:59:12",
          "1970-01-01T04:59:12",
          "1970-01-01T05:39:42",
          "1970-01-01T05:39:42",
          "1970-01-01T05:39:42",
          "1970-01-01T09:25:52",
          "1970-01-01T09:25:52",
          "1970-01-01T10:06:22",
          "1970-01-01T10:06:22",
          "1970-01-01T10:06:22",
          "1970-01-01T13:52:32",
          "1970-01-01T13:52:32",
          "1970-01-01T14:33:02",
          "1970-01-01T14:33:02",
          "1970-01-01T14:33:02",
          "1970-01-01T04:59:12",
          "1970-01-01T04:59:12",
          "1970-01-01T05:39:42",
          "1970-01-01T05:39:42",
          "1970-01-01T05:39:42",
          "1970-01-01T09:25:52",
          "1970-01-01T09:25:52",
          "1970-01-01T10:06:22",
          "1970-01-01T10:06:22",
          "1970-01-01T10:06:22",
          "1970-01-01T13:52:32",
          "1970-01-01T13:52:32",
          "1970-01-01T14:33:02",
          "1970-01-01T14:33:02",
          "1970-01-01T14:33:02"
         ],
         "y": [
          "Extra 1",
          "Extra 1",
          "Extra 1",
          "Extra 1",
          null,
          "Extra 1",
          "Extra 1",
          "Extra 1",
          "Extra 1",
          null,
          "Extra 1",
          "Extra 1",
          "Extra 1",
          "Extra 1",
          null,
          "Reclamation",
          "Reclamation",
          "Reclamation",
          "Reclamation",
          null,
          "Reclamation",
          "Reclamation",
          "Reclamation",
          "Reclamation",
          null,
          "Reclamation",
          "Reclamation",
          "Reclamation",
          "Reclamation",
          null
         ]
        },
        {
         "connectgaps": false,
         "hoverinfo": "y+name",
         "line": {
          "color": "rgb(124,116,9)",
          "width": 10
         },
         "mode": "lines",
         "name": "sailing empty:Extra 1",
         "type": "scatter",
         "x": [
          "1970-01-01T00:40:30",
          "1970-01-01T00:40:30",
          "1970-01-01T01:21:00",
          "1970-01-01T01:21:00",
          "1970-01-01T01:21:00",
          "1970-01-01T06:20:12",
          "1970-01-01T06:20:12",
          "1970-01-01T07:00:42",
          "1970-01-01T07:00:42",
          "1970-01-01T07:00:42",
          "1970-01-01T10:46:52",
          "1970-01-01T10:46:52",
          "1970-01-01T11:27:22",
          "1970-01-01T11:27:22",
          "1970-01-01T11:27:22"
         ],
         "y": [
          "Extra 1",
          "Extra 1",
          "Extra 1",
          "Extra 1",
          null,
          "Extra 1",
          "Extra 1",
          "Extra 1",
          "Extra 1",
          null,
          "Extra 1",
          "Extra 1",
          "Extra 1",
          "Extra 1",
          null
         ]
        },
        {
         "connectgaps": false,
         "hoverinfo": "y+name",
         "line": {
          "color": "rgb(128,120,13)",
          "width": 10
         },
         "mode": "lines",
         "name": "loading:Extra 1",
         "type": "scatter",
         "x": [
          "1970-01-01T03:45:22",
          "1970-01-01T03:45:22",
          "1970-01-01T04:18:42",
          "1970-01-01T04:18:42",
          "1970-01-01T04:18:42",
          "1970-01-01T08:12:02",
          "1970-01-01T08:12:02",
          "1970-01-01T08:45:22",
          "1970-01-01T08:45:22",
          "1970-01-01T08:45:22",
          "1970-01-01T12:38:42",
          "1970-01-01T12:38:42",
          "1970-01-01T13:12:02",
          "1970-01-01T13:12:02",
          "1970-01-01T13:12:02",
          "1970-01-01T03:45:22",
          "1970-01-01T03:45:22",
          "1970-01-01T04:18:42",
          "1970-01-01T04:18:42",
          "1970-01-01T04:18:42",
          "1970-01-01T08:12:02",
          "1970-01-01T08:12:02",
          "1970-01-01T08:45:22",
          "1970-01-01T08:45:22",
          "1970-01-01T08:45:22",
          "1970-01-01T12:38:42",
          "1970-01-01T12:38:42",
          "1970-01-01T13:12:02",
          "1970-01-01T13:12:02",
          "1970-01-01T13:12:02",
          "1970-01-01T03:45:22",
          "1970-01-01T03:45:22",
          "1970-01-01T04:18:42",
          "1970-01-01T04:18:42",
          "1970-01-01T04:18:42",
          "1970-01-01T08:12:02",
          "1970-01-01T08:12:02",
          "1970-01-01T08:45:22",
          "1970-01-01T08:45:22",
          "1970-01-01T08:45:22",
          "1970-01-01T12:38:42",
          "1970-01-01T12:38:42",
          "1970-01-01T13:12:02",
          "1970-01-01T13:12:02",
          "1970-01-01T13:12:02"
         ],
         "y": [
          "Extra 1",
          "Extra 1",
          "Extra 1",
          "Extra 1",
          null,
          "Extra 1",
          "Extra 1",
          "Extra 1",
          "Extra 1",
          null,
          "Extra 1",
          "Extra 1",
          "Extra 1",
          "Extra 1",
          null,
          "Cutter T",
          "Cutter T",
          "Cutter T",
          "Cutter T",
          null,
          "Cutter T",
          "Cutter T",
          "Cutter T",
          "Cutter T",
          null,
          "Cutter T",
          "Cutter T",
          "Cutter T",
          "Cutter T",
          null,
          "Trench",
          "Trench",
          "Trench",
          "Trench",
          null,
          "Trench",
          "Trench",
          "Trench",
          "Trench",
          null,
          "Trench",
          "Trench",
          "Trench",
          "Trench",
          null
         ]
        },
        {
         "connectgaps": false,
         "hoverinfo": "y+name",
         "line": {
          "color": "rgb(132,124,17)",
          "width": 10
         },
         "mode": "lines",
         "name": "sailing full:Extra 1",
         "type": "scatter",
         "x": [
          "1970-01-01T04:18:42",
          "1970-01-01T04:18:42",
          "1970-01-01T04:59:12",
          "1970-01-01T04:59:12",
          "1970-01-01T04:59:12",
          "1970-01-01T08:45:22",
          "1970-01-01T08:45:22",
          "1970-01-01T09:25:52",
          "1970-01-01T09:25:52",
          "1970-01-01T09:25:52",
          "1970-01-01T13:12:02",
          "1970-01-01T13:12:02",
          "1970-01-01T13:52:32",
          "1970-01-01T13:52:32",
          "1970-01-01T13:52:32"
         ],
         "y": [
          "Extra 1",
          "Extra 1",
          "Extra 1",
          "Extra 1",
          null,
          "Extra 1",
          "Extra 1",
          "Extra 1",
          "Extra 1",
          null,
          "Extra 1",
          "Extra 1",
          "Extra 1",
          "Extra 1",
          null
         ]
        },
        {
         "connectgaps": false,
         "hoverinfo": "y+name",
         "line": {
          "color": "rgb(136,128,21)",
          "width": 10
         },
         "mode": "lines",
         "name": "basic activity:Extra 1",
         "type": "scatter",
         "x": [
          "1970-01-01T00:00:00",
          "1970-01-01T00:00:00",
          "1970-01-01T00:40:30",
          "1970-01-01T00:40:30",
          "1970-01-01T00:40:30",
          "1970-01-01T05:39:42",
          "1970-01-01T05:39:42",
          "1970-01-01T06:20:12",
          "1970-01-01T06:20:12",
          "1970-01-01T06:20:12",
          "1970-01-01T10:06:22",
          "1970-01-01T10:06:22",
          "1970-01-01T10:46:52",
          "1970-01-01T10:46:52",
          "1970-01-01T10:46:52"
         ],
         "y": [
          "Extra 1",
          "Extra 1",
          "Extra 1",
          "Extra 1",
          null,
          "Extra 1",
          "Extra 1",
          "Extra 1",
          "Extra 1",
          null,
          "Extra 1",
          "Extra 1",
          "Extra 1",
          "Extra 1",
          null
         ]
        },
        {
         "connectgaps": false,
         "hoverinfo": "y+name",
         "line": {
          "color": "rgb(140,132,25)",
          "width": 10
         },
         "mode": "lines",
         "name": "loading:Carrier A",
         "type": "scatter",
         "x": [
          "1970-01-01T02:22:02",
          "1970-01-01T02:22:02",
          "1970-01-01T03:03:42",
          "1970-01-01T03:03:42",
          "1970-01-01T03:03:42",
          "1970-01-01T06:48:42",
          "1970-01-01T06:48:42",
          "1970-01-01T07:30:22",
          "1970-01-01T07:30:22",
          "1970-01-01T07:30:22",
          "1970-01-01T11:15:22",
          "1970-01-01T11:15:22",
          "1970-01-01T11:57:02",
          "1970-01-01T11:57:02",
          "1970-01-01T11:57:02",
          "1970-01-01T02:22:02",
          "1970-01-01T02:22:02",
          "1970-01-01T03:03:42",
          "1970-01-01T03:03:42",
          "1970-01-01T03:03:42",
          "1970-01-01T06:48:42",
          "1970-01-01T06:48:42",
          "1970-01-01T07:30:22",
          "1970-01-01T07:30:22",
          "1970-01-01T07:30:22",
          "1970-01-01T11:15:22",
          "1970-01-01T11:15:22",
          "1970-01-01T11:57:02",
          "1970-01-01T11:57:02",
          "1970-01-01T11:57:02",
          "1970-01-01T02:22:02",
          "1970-01-01T02:22:02",
          "1970-01-01T03:03:42",
          "1970-01-01T03:03:42",
          "1970-01-01T03:03:42",
          "1970-01-01T06:48:42",
          "1970-01-01T06:48:42",
          "1970-01-01T07:30:22",
          "1970-01-01T07:30:22",
          "1970-01-01T07:30:22",
          "1970-01-01T11:15:22",
          "1970-01-01T11:15:22",
          "1970-01-01T11:57:02",
          "1970-01-01T11:57:02",
          "1970-01-01T11:57:02"
         ],
         "y": [
          "Carrier A",
          "Carrier A",
          "Carrier A",
          "Carrier A",
          null,
          "Carrier A",
          "Carrier A",
          "Carrier A",
          "Carrier A",
          null,
          "Carrier A",
          "Carrier A",
          "Carrier A",
          "Carrier A",
          null,
          "Cutter T",
          "Cutter T",
          "Cutter T",
          "Cutter T",
          null,
          "Cutter T",
          "Cutter T",
          "Cutter T",
          "Cutter T",
          null,
          "Cutter T",
          "Cutter T",
          "Cutter T",
          "Cutter T",
          null,
          "Trench",
          "Trench",
          "Trench",
          "Trench",
          null,
          "Trench",
          "Trench",
          "Trench",
          "Trench",
          null,
          "Trench",
          "Trench",
          "Trench",
          "Trench",
          null
         ]
        },
        {
         "connectgaps": false,
         "hoverinfo": "y+name",
         "line": {
          "color": "rgb(144,136,29)",
          "width": 10
         },
         "mode": "lines",
         "name": "loading:Barge I",
         "type": "scatter",
         "x": [
          "1970-01-01T05:00:22",
          "1970-01-01T05:00:22",
          "1970-01-01T05:33:42",
          "1970-01-01T05:33:42",
          "1970-01-01T05:33:42",
          "1970-01-01T10:08:42",
          "1970-01-01T10:08:42",
          "1970-01-01T10:42:02",
          "1970-01-01T10:42:02",
          "1970-01-01T10:42:02",
          "1970-01-01T14:35:22",
          "1970-01-01T14:35:22",
          "1970-01-01T15:08:42",
          "1970-01-01T15:08:42",
          "1970-01-01T15:08:42",
          "1970-01-01T05:00:22",
          "1970-01-01T05:00:22",
          "1970-01-01T05:33:42",
          "1970-01-01T05:33:42",
          "1970-01-01T05:33:42",
          "1970-01-01T10:08:42",
          "1970-01-01T10:08:42",
          "1970-01-01T10:42:02",
          "1970-01-01T10:42:02",
          "1970-01-01T10:42:02",
          "1970-01-01T14:35:22",
          "1970-01-01T14:35:22",
          "1970-01-01T15:08:42",
          "1970-01-01T15:08:42",
          "1970-01-01T15:08:42",
          "1970-01-01T05:00:22",
          "1970-01-01T05:00:22",
          "1970-01-01T05:33:42",
          "1970-01-01T05:33:42",
          "1970-01-01T05:33:42",
          "1970-01-01T10:08:42",
          "1970-01-01T10:08:42",
          "1970-01-01T10:42:02",
          "1970-01-01T10:42:02",
          "1970-01-01T10:42:02",
          "1970-01-01T14:35:22",
          "1970-01-01T14:35:22",
          "1970-01-01T15:08:42",
          "1970-01-01T15:08:42",
          "1970-01-01T15:08:42"
         ],
         "y": [
          "Barge I",
          "Barge I",
          "Barge I",
          "Barge I",
          null,
          "Barge I",
          "Barge I",
          "Barge I",
          "Barge I",
          null,
          "Barge I",
          "Barge I",
          "Barge I",
          "Barge I",
          null,
          "Cutter T",
          "Cutter T",
          "Cutter T",
          "Cutter T",
          null,
          "Cutter T",
          "Cutter T",
          "Cutter T",
          "Cutter T",
          null,
          "Cutter T",
          "Cutter T",
          "Cutter T",
          "Cutter T",
          null,
          "Trench",
          "Trench",
          "Trench",
          "Trench",
          null,
          "Trench",
          "Trench",
          "Trench",
          "Trench",
          null,
          "Trench",
          "Trench",
          "Trench",
          "Trench",
          null
         ]
        },
        {
         "connectgaps": false,
         "hoverinfo": "y+name",
         "line": {
          "color": "rgb(148,140,33)",
          "width": 10
         },
         "mode": "lines",
         "name": "loading:Extra 1",
         "type": "scatter",
         "x": [
          "1970-01-01T03:45:22",
          "1970-01-01T03:45:22",
          "1970-01-01T04:18:42",
          "1970-01-01T04:18:42",
          "1970-01-01T04:18:42",
          "1970-01-01T08:12:02",
          "1970-01-01T08:12:02",
          "1970-01-01T08:45:22",
          "1970-01-01T08:45:22",
          "1970-01-01T08:45:22",
          "1970-01-01T12:38:42",
          "1970-01-01T12:38:42",
          "1970-01-01T13:12:02",
          "1970-01-01T13:12:02",
          "1970-01-01T13:12:02",
          "1970-01-01T03:45:22",
          "1970-01-01T03:45:22",
          "1970-01-01T04:18:42",
          "1970-01-01T04:18:42",
          "1970-01-01T04:18:42",
          "1970-01-01T08:12:02",
          "1970-01-01T08:12:02",
          "1970-01-01T08:45:22",
          "1970-01-01T08:45:22",
          "1970-01-01T08:45:22",
          "1970-01-01T12:38:42",
          "1970-01-01T12:38:42",
          "1970-01-01T13:12:02",
          "1970-01-01T13:12:02",
          "1970-01-01T13:12:02",
          "1970-01-01T03:45:22",
          "1970-01-01T03:45:22",
          "1970-01-01T04:18:42",
          "1970-01-01T04:18:42",
          "1970-01-01T04:18:42",
          "1970-01-01T08:12:02",
          "1970-01-01T08:12:02",
          "1970-01-01T08:45:22",
          "1970-01-01T08:45:22",
          "1970-01-01T08:45:22",
          "1970-01-01T12:38:42",
          "1970-01-01T12:38:42",
          "1970-01-01T13:12:02",
          "1970-01-01T13:12:02",
          "1970-01-01T13:12:02"
         ],
         "y": [
          "Extra 1",
          "Extra 1",
          "Extra 1",
          "Extra 1",
          null,
          "Extra 1",
          "Extra 1",
          "Extra 1",
          "Extra 1",
          null,
          "Extra 1",
          "Extra 1",
          "Extra 1",
          "Extra 1",
          null,
          "Cutter T",
          "Cutter T",
          "Cutter T",
          "Cutter T",
          null,
          "Cutter T",
          "Cutter T",
          "Cutter T",
          "Cutter T",
          null,
          "Cutter T",
          "Cutter T",
          "Cutter T",
          "Cutter T",
          null,
          "Trench",
          "Trench",
          "Trench",
          "Trench",
          null,
          "Trench",
          "Trench",
          "Trench",
          "Trench",
          null,
          "Trench",
          "Trench",
          "Trench",
          "Trench",
          null
         ]
        },
        {
         "connectgaps": false,
         "hoverinfo": "y+name",
         "line": {
          "color": "rgb(152,144,37)",
          "width": 10
         },
         "mode": "lines",
         "name": "loading:Barge III",
         "type": "scatter",
         "x": [
          "1970-01-01T03:03:42",
          "1970-01-01T03:03:42",
          "1970-01-01T03:45:22",
          "1970-01-01T03:45:22",
          "1970-01-01T03:45:22",
          "1970-01-01T07:30:22",
          "1970-01-01T07:30:22",
          "1970-01-01T08:12:02",
          "1970-01-01T08:12:02",
          "1970-01-01T08:12:02",
          "1970-01-01T11:57:02",
          "1970-01-01T11:57:02",
          "1970-01-01T12:38:42",
          "1970-01-01T12:38:42",
          "1970-01-01T12:38:42",
          "1970-01-01T03:03:42",
          "1970-01-01T03:03:42",
          "1970-01-01T03:45:22",
          "1970-01-01T03:45:22",
          "1970-01-01T03:45:22",
          "1970-01-01T07:30:22",
          "1970-01-01T07:30:22",
          "1970-01-01T08:12:02",
          "1970-01-01T08:12:02",
          "1970-01-01T08:12:02",
          "1970-01-01T11:57:02",
          "1970-01-01T11:57:02",
          "1970-01-01T12:38:42",
          "1970-01-01T12:38:42",
          "1970-01-01T12:38:42",
          "1970-01-01T03:03:42",
          "1970-01-01T03:03:42",
          "1970-01-01T03:45:22",
          "1970-01-01T03:45:22",
          "1970-01-01T03:45:22",
          "1970-01-01T07:30:22",
          "1970-01-01T07:30:22",
          "1970-01-01T08:12:02",
          "1970-01-01T08:12:02",
          "1970-01-01T08:12:02",
          "1970-01-01T11:57:02",
          "1970-01-01T11:57:02",
          "1970-01-01T12:38:42",
          "1970-01-01T12:38:42",
          "1970-01-01T12:38:42"
         ],
         "y": [
          "Barge III",
          "Barge III",
          "Barge III",
          "Barge III",
          null,
          "Barge III",
          "Barge III",
          "Barge III",
          "Barge III",
          null,
          "Barge III",
          "Barge III",
          "Barge III",
          "Barge III",
          null,
          "Cutter T",
          "Cutter T",
          "Cutter T",
          "Cutter T",
          null,
          "Cutter T",
          "Cutter T",
          "Cutter T",
          "Cutter T",
          null,
          "Cutter T",
          "Cutter T",
          "Cutter T",
          "Cutter T",
          null,
          "Trench",
          "Trench",
          "Trench",
          "Trench",
          null,
          "Trench",
          "Trench",
          "Trench",
          "Trench",
          null,
          "Trench",
          "Trench",
          "Trench",
          "Trench",
          null
         ]
        },
        {
         "connectgaps": false,
         "hoverinfo": "y+name",
         "line": {
          "color": "rgb(156,148,41)",
          "width": 10
         },
         "mode": "lines",
         "name": "loading:Carrier C",
         "type": "scatter",
         "x": [
          "1970-01-01T01:07:02",
          "1970-01-01T01:07:02",
          "1970-01-01T01:48:42",
          "1970-01-01T01:48:42",
          "1970-01-01T01:48:42",
          "1970-01-01T05:33:42",
          "1970-01-01T05:33:42",
          "1970-01-01T06:15:22",
          "1970-01-01T06:15:22",
          "1970-01-01T06:15:22",
          "1970-01-01T09:27:02",
          "1970-01-01T09:27:02",
          "1970-01-01T10:08:42",
          "1970-01-01T10:08:42",
          "1970-01-01T10:08:42",
          "1970-01-01T13:53:42",
          "1970-01-01T13:53:42",
          "1970-01-01T14:35:22",
          "1970-01-01T14:35:22",
          "1970-01-01T14:35:22",
          "1970-01-01T01:07:02",
          "1970-01-01T01:07:02",
          "1970-01-01T01:48:42",
          "1970-01-01T01:48:42",
          "1970-01-01T01:48:42",
          "1970-01-01T05:33:42",
          "1970-01-01T05:33:42",
          "1970-01-01T06:15:22",
          "1970-01-01T06:15:22",
          "1970-01-01T06:15:22",
          "1970-01-01T09:27:02",
          "1970-01-01T09:27:02",
          "1970-01-01T10:08:42",
          "1970-01-01T10:08:42",
          "1970-01-01T10:08:42",
          "1970-01-01T13:53:42",
          "1970-01-01T13:53:42",
          "1970-01-01T14:35:22",
          "1970-01-01T14:35:22",
          "1970-01-01T14:35:22",
          "1970-01-01T01:07:02",
          "1970-01-01T01:07:02",
          "1970-01-01T01:48:42",
          "1970-01-01T01:48:42",
          "1970-01-01T01:48:42",
          "1970-01-01T05:33:42",
          "1970-01-01T05:33:42",
          "1970-01-01T06:15:22",
          "1970-01-01T06:15:22",
          "1970-01-01T06:15:22",
          "1970-01-01T09:27:02",
          "1970-01-01T09:27:02",
          "1970-01-01T10:08:42",
          "1970-01-01T10:08:42",
          "1970-01-01T10:08:42",
          "1970-01-01T13:53:42",
          "1970-01-01T13:53:42",
          "1970-01-01T14:35:22",
          "1970-01-01T14:35:22",
          "1970-01-01T14:35:22"
         ],
         "y": [
          "Carrier C",
          "Carrier C",
          "Carrier C",
          "Carrier C",
          null,
          "Carrier C",
          "Carrier C",
          "Carrier C",
          "Carrier C",
          null,
          "Carrier C",
          "Carrier C",
          "Carrier C",
          "Carrier C",
          null,
          "Carrier C",
          "Carrier C",
          "Carrier C",
          "Carrier C",
          null,
          "Cutter T",
          "Cutter T",
          "Cutter T",
          "Cutter T",
          null,
          "Cutter T",
          "Cutter T",
          "Cutter T",
          "Cutter T",
          null,
          "Cutter T",
          "Cutter T",
          "Cutter T",
          "Cutter T",
          null,
          "Cutter T",
          "Cutter T",
          "Cutter T",
          "Cutter T",
          null,
          "Trench",
          "Trench",
          "Trench",
          "Trench",
          null,
          "Trench",
          "Trench",
          "Trench",
          "Trench",
          null,
          "Trench",
          "Trench",
          "Trench",
          "Trench",
          null,
          "Trench",
          "Trench",
          "Trench",
          "Trench",
          null
         ]
        },
        {
         "connectgaps": false,
         "hoverinfo": "y+name",
         "line": {
          "color": "rgb(160,152,45)",
          "width": 10
         },
         "mode": "lines",
         "name": "loading:Carrier B",
         "type": "scatter",
         "x": [
          "1970-01-01T01:48:42",
          "1970-01-01T01:48:42",
          "1970-01-01T02:22:02",
          "1970-01-01T02:22:02",
          "1970-01-01T02:22:02",
          "1970-01-01T06:15:22",
          "1970-01-01T06:15:22",
          "1970-01-01T06:48:42",
          "1970-01-01T06:48:42",
          "1970-01-01T06:48:42",
          "1970-01-01T10:42:02",
          "1970-01-01T10:42:02",
          "1970-01-01T11:15:22",
          "1970-01-01T11:15:22",
          "1970-01-01T11:15:22",
          "1970-01-01T01:48:42",
          "1970-01-01T01:48:42",
          "1970-01-01T02:22:02",
          "1970-01-01T02:22:02",
          "1970-01-01T02:22:02",
          "1970-01-01T06:15:22",
          "1970-01-01T06:15:22",
          "1970-01-01T06:48:42",
          "1970-01-01T06:48:42",
          "1970-01-01T06:48:42",
          "1970-01-01T10:42:02",
          "1970-01-01T10:42:02",
          "1970-01-01T11:15:22",
          "1970-01-01T11:15:22",
          "1970-01-01T11:15:22",
          "1970-01-01T01:48:42",
          "1970-01-01T01:48:42",
          "1970-01-01T02:22:02",
          "1970-01-01T02:22:02",
          "1970-01-01T02:22:02",
          "1970-01-01T06:15:22",
          "1970-01-01T06:15:22",
          "1970-01-01T06:48:42",
          "1970-01-01T06:48:42",
          "1970-01-01T06:48:42",
          "1970-01-01T10:42:02",
          "1970-01-01T10:42:02",
          "1970-01-01T11:15:22",
          "1970-01-01T11:15:22",
          "1970-01-01T11:15:22"
         ],
         "y": [
          "Carrier B",
          "Carrier B",
          "Carrier B",
          "Carrier B",
          null,
          "Carrier B",
          "Carrier B",
          "Carrier B",
          "Carrier B",
          null,
          "Carrier B",
          "Carrier B",
          "Carrier B",
          "Carrier B",
          null,
          "Cutter T",
          "Cutter T",
          "Cutter T",
          "Cutter T",
          null,
          "Cutter T",
          "Cutter T",
          "Cutter T",
          "Cutter T",
          null,
          "Cutter T",
          "Cutter T",
          "Cutter T",
          "Cutter T",
          null,
          "Trench",
          "Trench",
          "Trench",
          "Trench",
          null,
          "Trench",
          "Trench",
          "Trench",
          "Trench",
          null,
          "Trench",
          "Trench",
          "Trench",
          "Trench",
          null
         ]
        },
        {
         "connectgaps": false,
         "hoverinfo": "y+name",
         "line": {
          "color": "rgb(164,156,49)",
          "width": 10
         },
         "mode": "lines",
         "name": "loading:Barge II",
         "type": "scatter",
         "x": [
          "1970-01-01T04:18:42",
          "1970-01-01T04:18:42",
          "1970-01-01T05:00:22",
          "1970-01-01T05:00:22",
          "1970-01-01T05:00:22",
          "1970-01-01T08:45:22",
          "1970-01-01T08:45:22",
          "1970-01-01T09:27:02",
          "1970-01-01T09:27:02",
          "1970-01-01T09:27:02",
          "1970-01-01T13:12:02",
          "1970-01-01T13:12:02",
          "1970-01-01T13:53:42",
          "1970-01-01T13:53:42",
          "1970-01-01T13:53:42",
          "1970-01-01T04:18:42",
          "1970-01-01T04:18:42",
          "1970-01-01T05:00:22",
          "1970-01-01T05:00:22",
          "1970-01-01T05:00:22",
          "1970-01-01T08:45:22",
          "1970-01-01T08:45:22",
          "1970-01-01T09:27:02",
          "1970-01-01T09:27:02",
          "1970-01-01T09:27:02",
          "1970-01-01T13:12:02",
          "1970-01-01T13:12:02",
          "1970-01-01T13:53:42",
          "1970-01-01T13:53:42",
          "1970-01-01T13:53:42",
          "1970-01-01T04:18:42",
          "1970-01-01T04:18:42",
          "1970-01-01T05:00:22",
          "1970-01-01T05:00:22",
          "1970-01-01T05:00:22",
          "1970-01-01T08:45:22",
          "1970-01-01T08:45:22",
          "1970-01-01T09:27:02",
          "1970-01-01T09:27:02",
          "1970-01-01T09:27:02",
          "1970-01-01T13:12:02",
          "1970-01-01T13:12:02",
          "1970-01-01T13:53:42",
          "1970-01-01T13:53:42",
          "1970-01-01T13:53:42"
         ],
         "y": [
          "Barge II",
          "Barge II",
          "Barge II",
          "Barge II",
          null,
          "Barge II",
          "Barge II",
          "Barge II",
          "Barge II",
          null,
          "Barge II",
          "Barge II",
          "Barge II",
          "Barge II",
          null,
          "Cutter T",
          "Cutter T",
          "Cutter T",
          "Cutter T",
          null,
          "Cutter T",
          "Cutter T",
          "Cutter T",
          "Cutter T",
          null,
          "Cutter T",
          "Cutter T",
          "Cutter T",
          "Cutter T",
          null,
          "Trench",
          "Trench",
          "Trench",
          "Trench",
          null,
          "Trench",
          "Trench",
          "Trench",
          "Trench",
          null,
          "Trench",
          "Trench",
          "Trench",
          "Trench",
          null
         ]
        },
        {
         "connectgaps": false,
         "hoverinfo": "y+name",
         "line": {
          "color": "rgb(168,160,53)",
          "width": 10
         },
         "mode": "lines",
         "name": "loading:Carrier A",
         "type": "scatter",
         "x": [
          "1970-01-01T02:22:02",
          "1970-01-01T02:22:02",
          "1970-01-01T03:03:42",
          "1970-01-01T03:03:42",
          "1970-01-01T03:03:42",
          "1970-01-01T06:48:42",
          "1970-01-01T06:48:42",
          "1970-01-01T07:30:22",
          "1970-01-01T07:30:22",
          "1970-01-01T07:30:22",
          "1970-01-01T11:15:22",
          "1970-01-01T11:15:22",
          "1970-01-01T11:57:02",
          "1970-01-01T11:57:02",
          "1970-01-01T11:57:02",
          "1970-01-01T02:22:02",
          "1970-01-01T02:22:02",
          "1970-01-01T03:03:42",
          "1970-01-01T03:03:42",
          "1970-01-01T03:03:42",
          "1970-01-01T06:48:42",
          "1970-01-01T06:48:42",
          "1970-01-01T07:30:22",
          "1970-01-01T07:30:22",
          "1970-01-01T07:30:22",
          "1970-01-01T11:15:22",
          "1970-01-01T11:15:22",
          "1970-01-01T11:57:02",
          "1970-01-01T11:57:02",
          "1970-01-01T11:57:02",
          "1970-01-01T02:22:02",
          "1970-01-01T02:22:02",
          "1970-01-01T03:03:42",
          "1970-01-01T03:03:42",
          "1970-01-01T03:03:42",
          "1970-01-01T06:48:42",
          "1970-01-01T06:48:42",
          "1970-01-01T07:30:22",
          "1970-01-01T07:30:22",
          "1970-01-01T07:30:22",
          "1970-01-01T11:15:22",
          "1970-01-01T11:15:22",
          "1970-01-01T11:57:02",
          "1970-01-01T11:57:02",
          "1970-01-01T11:57:02"
         ],
         "y": [
          "Carrier A",
          "Carrier A",
          "Carrier A",
          "Carrier A",
          null,
          "Carrier A",
          "Carrier A",
          "Carrier A",
          "Carrier A",
          null,
          "Carrier A",
          "Carrier A",
          "Carrier A",
          "Carrier A",
          null,
          "Cutter T",
          "Cutter T",
          "Cutter T",
          "Cutter T",
          null,
          "Cutter T",
          "Cutter T",
          "Cutter T",
          "Cutter T",
          null,
          "Cutter T",
          "Cutter T",
          "Cutter T",
          "Cutter T",
          null,
          "Trench",
          "Trench",
          "Trench",
          "Trench",
          null,
          "Trench",
          "Trench",
          "Trench",
          "Trench",
          null,
          "Trench",
          "Trench",
          "Trench",
          "Trench",
          null
         ]
        },
        {
         "connectgaps": false,
         "hoverinfo": "y+name",
         "line": {
          "color": "rgb(172,164,57)",
          "width": 10
         },
         "mode": "lines",
         "name": "loading:Barge I",
         "type": "scatter",
         "x": [
          "1970-01-01T05:00:22",
          "1970-01-01T05:00:22",
          "1970-01-01T05:33:42",
          "1970-01-01T05:33:42",
          "1970-01-01T05:33:42",
          "1970-01-01T10:08:42",
          "1970-01-01T10:08:42",
          "1970-01-01T10:42:02",
          "1970-01-01T10:42:02",
          "1970-01-01T10:42:02",
          "1970-01-01T14:35:22",
          "1970-01-01T14:35:22",
          "1970-01-01T15:08:42",
          "1970-01-01T15:08:42",
          "1970-01-01T15:08:42",
          "1970-01-01T05:00:22",
          "1970-01-01T05:00:22",
          "1970-01-01T05:33:42",
          "1970-01-01T05:33:42",
          "1970-01-01T05:33:42",
          "1970-01-01T10:08:42",
          "1970-01-01T10:08:42",
          "1970-01-01T10:42:02",
          "1970-01-01T10:42:02",
          "1970-01-01T10:42:02",
          "1970-01-01T14:35:22",
          "1970-01-01T14:35:22",
          "1970-01-01T15:08:42",
          "1970-01-01T15:08:42",
          "1970-01-01T15:08:42",
          "1970-01-01T05:00:22",
          "1970-01-01T05:00:22",
          "1970-01-01T05:33:42",
          "1970-01-01T05:33:42",
          "1970-01-01T05:33:42",
          "1970-01-01T10:08:42",
          "1970-01-01T10:08:42",
          "1970-01-01T10:42:02",
          "1970-01-01T10:42:02",
          "1970-01-01T10:42:02",
          "1970-01-01T14:35:22",
          "1970-01-01T14:35:22",
          "1970-01-01T15:08:42",
          "1970-01-01T15:08:42",
          "1970-01-01T15:08:42"
         ],
         "y": [
          "Barge I",
          "Barge I",
          "Barge I",
          "Barge I",
          null,
          "Barge I",
          "Barge I",
          "Barge I",
          "Barge I",
          null,
          "Barge I",
          "Barge I",
          "Barge I",
          "Barge I",
          null,
          "Cutter T",
          "Cutter T",
          "Cutter T",
          "Cutter T",
          null,
          "Cutter T",
          "Cutter T",
          "Cutter T",
          "Cutter T",
          null,
          "Cutter T",
          "Cutter T",
          "Cutter T",
          "Cutter T",
          null,
          "Trench",
          "Trench",
          "Trench",
          "Trench",
          null,
          "Trench",
          "Trench",
          "Trench",
          "Trench",
          null,
          "Trench",
          "Trench",
          "Trench",
          "Trench",
          null
         ]
        },
        {
         "connectgaps": false,
         "hoverinfo": "y+name",
         "line": {
          "color": "rgb(176,168,61)",
          "width": 10
         },
         "mode": "lines",
         "name": "loading:Extra 1",
         "type": "scatter",
         "x": [
          "1970-01-01T03:45:22",
          "1970-01-01T03:45:22",
          "1970-01-01T04:18:42",
          "1970-01-01T04:18:42",
          "1970-01-01T04:18:42",
          "1970-01-01T08:12:02",
          "1970-01-01T08:12:02",
          "1970-01-01T08:45:22",
          "1970-01-01T08:45:22",
          "1970-01-01T08:45:22",
          "1970-01-01T12:38:42",
          "1970-01-01T12:38:42",
          "1970-01-01T13:12:02",
          "1970-01-01T13:12:02",
          "1970-01-01T13:12:02",
          "1970-01-01T03:45:22",
          "1970-01-01T03:45:22",
          "1970-01-01T04:18:42",
          "1970-01-01T04:18:42",
          "1970-01-01T04:18:42",
          "1970-01-01T08:12:02",
          "1970-01-01T08:12:02",
          "1970-01-01T08:45:22",
          "1970-01-01T08:45:22",
          "1970-01-01T08:45:22",
          "1970-01-01T12:38:42",
          "1970-01-01T12:38:42",
          "1970-01-01T13:12:02",
          "1970-01-01T13:12:02",
          "1970-01-01T13:12:02",
          "1970-01-01T03:45:22",
          "1970-01-01T03:45:22",
          "1970-01-01T04:18:42",
          "1970-01-01T04:18:42",
          "1970-01-01T04:18:42",
          "1970-01-01T08:12:02",
          "1970-01-01T08:12:02",
          "1970-01-01T08:45:22",
          "1970-01-01T08:45:22",
          "1970-01-01T08:45:22",
          "1970-01-01T12:38:42",
          "1970-01-01T12:38:42",
          "1970-01-01T13:12:02",
          "1970-01-01T13:12:02",
          "1970-01-01T13:12:02"
         ],
         "y": [
          "Extra 1",
          "Extra 1",
          "Extra 1",
          "Extra 1",
          null,
          "Extra 1",
          "Extra 1",
          "Extra 1",
          "Extra 1",
          null,
          "Extra 1",
          "Extra 1",
          "Extra 1",
          "Extra 1",
          null,
          "Cutter T",
          "Cutter T",
          "Cutter T",
          "Cutter T",
          null,
          "Cutter T",
          "Cutter T",
          "Cutter T",
          "Cutter T",
          null,
          "Cutter T",
          "Cutter T",
          "Cutter T",
          "Cutter T",
          null,
          "Trench",
          "Trench",
          "Trench",
          "Trench",
          null,
          "Trench",
          "Trench",
          "Trench",
          "Trench",
          null,
          "Trench",
          "Trench",
          "Trench",
          "Trench",
          null
         ]
        },
        {
         "connectgaps": false,
         "hoverinfo": "y+name",
         "line": {
          "color": "rgb(180,172,65)",
          "width": 10
         },
         "mode": "lines",
         "name": "loading:Barge III",
         "type": "scatter",
         "x": [
          "1970-01-01T03:03:42",
          "1970-01-01T03:03:42",
          "1970-01-01T03:45:22",
          "1970-01-01T03:45:22",
          "1970-01-01T03:45:22",
          "1970-01-01T07:30:22",
          "1970-01-01T07:30:22",
          "1970-01-01T08:12:02",
          "1970-01-01T08:12:02",
          "1970-01-01T08:12:02",
          "1970-01-01T11:57:02",
          "1970-01-01T11:57:02",
          "1970-01-01T12:38:42",
          "1970-01-01T12:38:42",
          "1970-01-01T12:38:42",
          "1970-01-01T03:03:42",
          "1970-01-01T03:03:42",
          "1970-01-01T03:45:22",
          "1970-01-01T03:45:22",
          "1970-01-01T03:45:22",
          "1970-01-01T07:30:22",
          "1970-01-01T07:30:22",
          "1970-01-01T08:12:02",
          "1970-01-01T08:12:02",
          "1970-01-01T08:12:02",
          "1970-01-01T11:57:02",
          "1970-01-01T11:57:02",
          "1970-01-01T12:38:42",
          "1970-01-01T12:38:42",
          "1970-01-01T12:38:42",
          "1970-01-01T03:03:42",
          "1970-01-01T03:03:42",
          "1970-01-01T03:45:22",
          "1970-01-01T03:45:22",
          "1970-01-01T03:45:22",
          "1970-01-01T07:30:22",
          "1970-01-01T07:30:22",
          "1970-01-01T08:12:02",
          "1970-01-01T08:12:02",
          "1970-01-01T08:12:02",
          "1970-01-01T11:57:02",
          "1970-01-01T11:57:02",
          "1970-01-01T12:38:42",
          "1970-01-01T12:38:42",
          "1970-01-01T12:38:42"
         ],
         "y": [
          "Barge III",
          "Barge III",
          "Barge III",
          "Barge III",
          null,
          "Barge III",
          "Barge III",
          "Barge III",
          "Barge III",
          null,
          "Barge III",
          "Barge III",
          "Barge III",
          "Barge III",
          null,
          "Cutter T",
          "Cutter T",
          "Cutter T",
          "Cutter T",
          null,
          "Cutter T",
          "Cutter T",
          "Cutter T",
          "Cutter T",
          null,
          "Cutter T",
          "Cutter T",
          "Cutter T",
          "Cutter T",
          null,
          "Trench",
          "Trench",
          "Trench",
          "Trench",
          null,
          "Trench",
          "Trench",
          "Trench",
          "Trench",
          null,
          "Trench",
          "Trench",
          "Trench",
          "Trench",
          null
         ]
        },
        {
         "connectgaps": false,
         "hoverinfo": "y+name",
         "line": {
          "color": "rgb(184,176,69)",
          "width": 10
         },
         "mode": "lines",
         "name": "loading:Carrier C",
         "type": "scatter",
         "x": [
          "1970-01-01T01:07:02",
          "1970-01-01T01:07:02",
          "1970-01-01T01:48:42",
          "1970-01-01T01:48:42",
          "1970-01-01T01:48:42",
          "1970-01-01T05:33:42",
          "1970-01-01T05:33:42",
          "1970-01-01T06:15:22",
          "1970-01-01T06:15:22",
          "1970-01-01T06:15:22",
          "1970-01-01T09:27:02",
          "1970-01-01T09:27:02",
          "1970-01-01T10:08:42",
          "1970-01-01T10:08:42",
          "1970-01-01T10:08:42",
          "1970-01-01T13:53:42",
          "1970-01-01T13:53:42",
          "1970-01-01T14:35:22",
          "1970-01-01T14:35:22",
          "1970-01-01T14:35:22",
          "1970-01-01T01:07:02",
          "1970-01-01T01:07:02",
          "1970-01-01T01:48:42",
          "1970-01-01T01:48:42",
          "1970-01-01T01:48:42",
          "1970-01-01T05:33:42",
          "1970-01-01T05:33:42",
          "1970-01-01T06:15:22",
          "1970-01-01T06:15:22",
          "1970-01-01T06:15:22",
          "1970-01-01T09:27:02",
          "1970-01-01T09:27:02",
          "1970-01-01T10:08:42",
          "1970-01-01T10:08:42",
          "1970-01-01T10:08:42",
          "1970-01-01T13:53:42",
          "1970-01-01T13:53:42",
          "1970-01-01T14:35:22",
          "1970-01-01T14:35:22",
          "1970-01-01T14:35:22",
          "1970-01-01T01:07:02",
          "1970-01-01T01:07:02",
          "1970-01-01T01:48:42",
          "1970-01-01T01:48:42",
          "1970-01-01T01:48:42",
          "1970-01-01T05:33:42",
          "1970-01-01T05:33:42",
          "1970-01-01T06:15:22",
          "1970-01-01T06:15:22",
          "1970-01-01T06:15:22",
          "1970-01-01T09:27:02",
          "1970-01-01T09:27:02",
          "1970-01-01T10:08:42",
          "1970-01-01T10:08:42",
          "1970-01-01T10:08:42",
          "1970-01-01T13:53:42",
          "1970-01-01T13:53:42",
          "1970-01-01T14:35:22",
          "1970-01-01T14:35:22",
          "1970-01-01T14:35:22"
         ],
         "y": [
          "Carrier C",
          "Carrier C",
          "Carrier C",
          "Carrier C",
          null,
          "Carrier C",
          "Carrier C",
          "Carrier C",
          "Carrier C",
          null,
          "Carrier C",
          "Carrier C",
          "Carrier C",
          "Carrier C",
          null,
          "Carrier C",
          "Carrier C",
          "Carrier C",
          "Carrier C",
          null,
          "Cutter T",
          "Cutter T",
          "Cutter T",
          "Cutter T",
          null,
          "Cutter T",
          "Cutter T",
          "Cutter T",
          "Cutter T",
          null,
          "Cutter T",
          "Cutter T",
          "Cutter T",
          "Cutter T",
          null,
          "Cutter T",
          "Cutter T",
          "Cutter T",
          "Cutter T",
          null,
          "Trench",
          "Trench",
          "Trench",
          "Trench",
          null,
          "Trench",
          "Trench",
          "Trench",
          "Trench",
          null,
          "Trench",
          "Trench",
          "Trench",
          "Trench",
          null,
          "Trench",
          "Trench",
          "Trench",
          "Trench",
          null
         ]
        },
        {
         "connectgaps": false,
         "hoverinfo": "y+name",
         "line": {
          "color": "rgb(188,180,73)",
          "width": 10
         },
         "mode": "lines",
         "name": "loading:Carrier B",
         "type": "scatter",
         "x": [
          "1970-01-01T01:48:42",
          "1970-01-01T01:48:42",
          "1970-01-01T02:22:02",
          "1970-01-01T02:22:02",
          "1970-01-01T02:22:02",
          "1970-01-01T06:15:22",
          "1970-01-01T06:15:22",
          "1970-01-01T06:48:42",
          "1970-01-01T06:48:42",
          "1970-01-01T06:48:42",
          "1970-01-01T10:42:02",
          "1970-01-01T10:42:02",
          "1970-01-01T11:15:22",
          "1970-01-01T11:15:22",
          "1970-01-01T11:15:22",
          "1970-01-01T01:48:42",
          "1970-01-01T01:48:42",
          "1970-01-01T02:22:02",
          "1970-01-01T02:22:02",
          "1970-01-01T02:22:02",
          "1970-01-01T06:15:22",
          "1970-01-01T06:15:22",
          "1970-01-01T06:48:42",
          "1970-01-01T06:48:42",
          "1970-01-01T06:48:42",
          "1970-01-01T10:42:02",
          "1970-01-01T10:42:02",
          "1970-01-01T11:15:22",
          "1970-01-01T11:15:22",
          "1970-01-01T11:15:22",
          "1970-01-01T01:48:42",
          "1970-01-01T01:48:42",
          "1970-01-01T02:22:02",
          "1970-01-01T02:22:02",
          "1970-01-01T02:22:02",
          "1970-01-01T06:15:22",
          "1970-01-01T06:15:22",
          "1970-01-01T06:48:42",
          "1970-01-01T06:48:42",
          "1970-01-01T06:48:42",
          "1970-01-01T10:42:02",
          "1970-01-01T10:42:02",
          "1970-01-01T11:15:22",
          "1970-01-01T11:15:22",
          "1970-01-01T11:15:22"
         ],
         "y": [
          "Carrier B",
          "Carrier B",
          "Carrier B",
          "Carrier B",
          null,
          "Carrier B",
          "Carrier B",
          "Carrier B",
          "Carrier B",
          null,
          "Carrier B",
          "Carrier B",
          "Carrier B",
          "Carrier B",
          null,
          "Cutter T",
          "Cutter T",
          "Cutter T",
          "Cutter T",
          null,
          "Cutter T",
          "Cutter T",
          "Cutter T",
          "Cutter T",
          null,
          "Cutter T",
          "Cutter T",
          "Cutter T",
          "Cutter T",
          null,
          "Trench",
          "Trench",
          "Trench",
          "Trench",
          null,
          "Trench",
          "Trench",
          "Trench",
          "Trench",
          null,
          "Trench",
          "Trench",
          "Trench",
          "Trench",
          null
         ]
        },
        {
         "connectgaps": false,
         "hoverinfo": "y+name",
         "line": {
          "color": "rgb(192,184,77)",
          "width": 10
         },
         "mode": "lines",
         "name": "loading:Barge II",
         "type": "scatter",
         "x": [
          "1970-01-01T04:18:42",
          "1970-01-01T04:18:42",
          "1970-01-01T05:00:22",
          "1970-01-01T05:00:22",
          "1970-01-01T05:00:22",
          "1970-01-01T08:45:22",
          "1970-01-01T08:45:22",
          "1970-01-01T09:27:02",
          "1970-01-01T09:27:02",
          "1970-01-01T09:27:02",
          "1970-01-01T13:12:02",
          "1970-01-01T13:12:02",
          "1970-01-01T13:53:42",
          "1970-01-01T13:53:42",
          "1970-01-01T13:53:42",
          "1970-01-01T04:18:42",
          "1970-01-01T04:18:42",
          "1970-01-01T05:00:22",
          "1970-01-01T05:00:22",
          "1970-01-01T05:00:22",
          "1970-01-01T08:45:22",
          "1970-01-01T08:45:22",
          "1970-01-01T09:27:02",
          "1970-01-01T09:27:02",
          "1970-01-01T09:27:02",
          "1970-01-01T13:12:02",
          "1970-01-01T13:12:02",
          "1970-01-01T13:53:42",
          "1970-01-01T13:53:42",
          "1970-01-01T13:53:42",
          "1970-01-01T04:18:42",
          "1970-01-01T04:18:42",
          "1970-01-01T05:00:22",
          "1970-01-01T05:00:22",
          "1970-01-01T05:00:22",
          "1970-01-01T08:45:22",
          "1970-01-01T08:45:22",
          "1970-01-01T09:27:02",
          "1970-01-01T09:27:02",
          "1970-01-01T09:27:02",
          "1970-01-01T13:12:02",
          "1970-01-01T13:12:02",
          "1970-01-01T13:53:42",
          "1970-01-01T13:53:42",
          "1970-01-01T13:53:42"
         ],
         "y": [
          "Barge II",
          "Barge II",
          "Barge II",
          "Barge II",
          null,
          "Barge II",
          "Barge II",
          "Barge II",
          "Barge II",
          null,
          "Barge II",
          "Barge II",
          "Barge II",
          "Barge II",
          null,
          "Cutter T",
          "Cutter T",
          "Cutter T",
          "Cutter T",
          null,
          "Cutter T",
          "Cutter T",
          "Cutter T",
          "Cutter T",
          null,
          "Cutter T",
          "Cutter T",
          "Cutter T",
          "Cutter T",
          null,
          "Trench",
          "Trench",
          "Trench",
          "Trench",
          null,
          "Trench",
          "Trench",
          "Trench",
          "Trench",
          null,
          "Trench",
          "Trench",
          "Trench",
          "Trench",
          null
         ]
        },
        {
         "connectgaps": false,
         "hoverinfo": "y+name",
         "line": {
          "color": "rgb(196,188,81)",
          "width": 10
         },
         "mode": "lines",
         "name": "unloading:Carrier C",
         "type": "scatter",
         "x": [
          "1970-01-01T02:22:13",
          "1970-01-01T02:22:13",
          "1970-01-01T02:55:44",
          "1970-01-01T02:55:44",
          "1970-01-01T02:55:44",
          "1970-01-01T06:48:53",
          "1970-01-01T06:48:53",
          "1970-01-01T07:22:24",
          "1970-01-01T07:22:24",
          "1970-01-01T07:22:24",
          "1970-01-01T10:42:13",
          "1970-01-01T10:42:13",
          "1970-01-01T11:15:44",
          "1970-01-01T11:15:44",
          "1970-01-01T11:15:44",
          "1970-01-01T15:08:53",
          "1970-01-01T15:08:53",
          "1970-01-01T15:42:24",
          "1970-01-01T15:42:24",
          "1970-01-01T15:42:24",
          "1970-01-01T02:22:13",
          "1970-01-01T02:22:13",
          "1970-01-01T02:55:44",
          "1970-01-01T02:55:44",
          "1970-01-01T02:55:44",
          "1970-01-01T06:48:53",
          "1970-01-01T06:48:53",
          "1970-01-01T07:22:24",
          "1970-01-01T07:22:24",
          "1970-01-01T07:22:24",
          "1970-01-01T10:42:13",
          "1970-01-01T10:42:13",
          "1970-01-01T11:15:44",
          "1970-01-01T11:15:44",
          "1970-01-01T11:15:44",
          "1970-01-01T15:08:53",
          "1970-01-01T15:08:53",
          "1970-01-01T15:42:24",
          "1970-01-01T15:42:24",
          "1970-01-01T15:42:24"
         ],
         "y": [
          "Carrier C",
          "Carrier C",
          "Carrier C",
          "Carrier C",
          null,
          "Carrier C",
          "Carrier C",
          "Carrier C",
          "Carrier C",
          null,
          "Carrier C",
          "Carrier C",
          "Carrier C",
          "Carrier C",
          null,
          "Carrier C",
          "Carrier C",
          "Carrier C",
          "Carrier C",
          null,
          "Reclamation",
          "Reclamation",
          "Reclamation",
          "Reclamation",
          null,
          "Reclamation",
          "Reclamation",
          "Reclamation",
          "Reclamation",
          null,
          "Reclamation",
          "Reclamation",
          "Reclamation",
          "Reclamation",
          null,
          "Reclamation",
          "Reclamation",
          "Reclamation",
          "Reclamation",
          null
         ]
        },
        {
         "connectgaps": false,
         "hoverinfo": "y+name",
         "line": {
          "color": "rgb(200,192,85)",
          "width": 10
         },
         "mode": "lines",
         "name": "unloading:Extra 1",
         "type": "scatter",
         "x": [
          "1970-01-01T04:59:12",
          "1970-01-01T04:59:12",
          "1970-01-01T05:39:42",
          "1970-01-01T05:39:42",
          "1970-01-01T05:39:42",
          "1970-01-01T09:25:52",
          "1970-01-01T09:25:52",
          "1970-01-01T10:06:22",
          "1970-01-01T10:06:22",
          "1970-01-01T10:06:22",
          "1970-01-01T13:52:32",
          "1970-01-01T13:52:32",
          "1970-01-01T14:33:02",
          "1970-01-01T14:33:02",
          "1970-01-01T14:33:02",
          "1970-01-01T04:59:12",
          "1970-01-01T04:59:12",
          "1970-01-01T05:39:42",
          "1970-01-01T05:39:42",
          "1970-01-01T05:39:42",
          "1970-01-01T09:25:52",
          "1970-01-01T09:25:52",
          "1970-01-01T10:06:22",
          "1970-01-01T10:06:22",
          "1970-01-01T10:06:22",
          "1970-01-01T13:52:32",
          "1970-01-01T13:52:32",
          "1970-01-01T14:33:02",
          "1970-01-01T14:33:02",
          "1970-01-01T14:33:02"
         ],
         "y": [
          "Extra 1",
          "Extra 1",
          "Extra 1",
          "Extra 1",
          null,
          "Extra 1",
          "Extra 1",
          "Extra 1",
          "Extra 1",
          null,
          "Extra 1",
          "Extra 1",
          "Extra 1",
          "Extra 1",
          null,
          "Reclamation",
          "Reclamation",
          "Reclamation",
          "Reclamation",
          null,
          "Reclamation",
          "Reclamation",
          "Reclamation",
          "Reclamation",
          null,
          "Reclamation",
          "Reclamation",
          "Reclamation",
          "Reclamation",
          null
         ]
        },
        {
         "connectgaps": false,
         "hoverinfo": "y+name",
         "line": {
          "color": "rgb(204,196,89)",
          "width": 10
         },
         "mode": "lines",
         "name": "unloading:Carrier B",
         "type": "scatter",
         "x": [
          "1970-01-01T02:56:17",
          "1970-01-01T02:56:17",
          "1970-01-01T03:30:32",
          "1970-01-01T03:30:32",
          "1970-01-01T03:30:32",
          "1970-01-01T07:22:57",
          "1970-01-01T07:22:57",
          "1970-01-01T07:57:12",
          "1970-01-01T07:57:12",
          "1970-01-01T07:57:12",
          "1970-01-01T11:49:37",
          "1970-01-01T11:49:37",
          "1970-01-01T12:23:52",
          "1970-01-01T12:23:52",
          "1970-01-01T12:23:52",
          "1970-01-01T02:56:17",
          "1970-01-01T02:56:17",
          "1970-01-01T03:30:32",
          "1970-01-01T03:30:32",
          "1970-01-01T03:30:32",
          "1970-01-01T07:22:57",
          "1970-01-01T07:22:57",
          "1970-01-01T07:57:12",
          "1970-01-01T07:57:12",
          "1970-01-01T07:57:12",
          "1970-01-01T11:49:37",
          "1970-01-01T11:49:37",
          "1970-01-01T12:23:52",
          "1970-01-01T12:23:52",
          "1970-01-01T12:23:52"
         ],
         "y": [
          "Carrier B",
          "Carrier B",
          "Carrier B",
          "Carrier B",
          null,
          "Carrier B",
          "Carrier B",
          "Carrier B",
          "Carrier B",
          null,
          "Carrier B",
          "Carrier B",
          "Carrier B",
          "Carrier B",
          null,
          "Reclamation",
          "Reclamation",
          "Reclamation",
          "Reclamation",
          null,
          "Reclamation",
          "Reclamation",
          "Reclamation",
          "Reclamation",
          null,
          "Reclamation",
          "Reclamation",
          "Reclamation",
          "Reclamation",
          null
         ]
        },
        {
         "connectgaps": false,
         "hoverinfo": "y+name",
         "line": {
          "color": "rgb(208,200,93)",
          "width": 10
         },
         "mode": "lines",
         "name": "unloading:Barge I",
         "type": "scatter",
         "x": [
          "1970-01-01T06:20:29",
          "1970-01-01T06:20:29",
          "1970-01-01T07:07:16",
          "1970-01-01T07:07:16",
          "1970-01-01T07:07:16",
          "1970-01-01T11:28:49",
          "1970-01-01T11:28:49",
          "1970-01-01T12:15:36",
          "1970-01-01T12:15:36",
          "1970-01-01T12:15:36",
          "1970-01-01T15:55:29",
          "1970-01-01T15:55:29",
          "1970-01-01T16:42:16",
          "1970-01-01T16:42:16",
          "1970-01-01T16:42:16",
          "1970-01-01T06:20:29",
          "1970-01-01T06:20:29",
          "1970-01-01T07:07:16",
          "1970-01-01T07:07:16",
          "1970-01-01T07:07:16",
          "1970-01-01T11:28:49",
          "1970-01-01T11:28:49",
          "1970-01-01T12:15:36",
          "1970-01-01T12:15:36",
          "1970-01-01T12:15:36",
          "1970-01-01T15:55:29",
          "1970-01-01T15:55:29",
          "1970-01-01T16:42:16",
          "1970-01-01T16:42:16",
          "1970-01-01T16:42:16"
         ],
         "y": [
          "Barge I",
          "Barge I",
          "Barge I",
          "Barge I",
          null,
          "Barge I",
          "Barge I",
          "Barge I",
          "Barge I",
          null,
          "Barge I",
          "Barge I",
          "Barge I",
          "Barge I",
          null,
          "Reclamation",
          "Reclamation",
          "Reclamation",
          "Reclamation",
          null,
          "Reclamation",
          "Reclamation",
          "Reclamation",
          "Reclamation",
          null,
          "Reclamation",
          "Reclamation",
          "Reclamation",
          "Reclamation",
          null
         ]
        },
        {
         "connectgaps": false,
         "hoverinfo": "y+name",
         "line": {
          "color": "rgb(212,204,97)",
          "width": 10
         },
         "mode": "lines",
         "name": "unloading:Barge II",
         "type": "scatter",
         "x": [
          "1970-01-01T05:44:13",
          "1970-01-01T05:44:13",
          "1970-01-01T06:28:04",
          "1970-01-01T06:28:04",
          "1970-01-01T06:28:04",
          "1970-01-01T10:10:53",
          "1970-01-01T10:10:53",
          "1970-01-01T10:54:44",
          "1970-01-01T10:54:44",
          "1970-01-01T10:54:44",
          "1970-01-01T14:37:33",
          "1970-01-01T14:37:33",
          "1970-01-01T15:21:24",
          "1970-01-01T15:21:24",
          "1970-01-01T15:21:24",
          "1970-01-01T05:44:13",
          "1970-01-01T05:44:13",
          "1970-01-01T06:28:04",
          "1970-01-01T06:28:04",
          "1970-01-01T06:28:04",
          "1970-01-01T10:10:53",
          "1970-01-01T10:10:53",
          "1970-01-01T10:54:44",
          "1970-01-01T10:54:44",
          "1970-01-01T10:54:44",
          "1970-01-01T14:37:33",
          "1970-01-01T14:37:33",
          "1970-01-01T15:21:24",
          "1970-01-01T15:21:24",
          "1970-01-01T15:21:24"
         ],
         "y": [
          "Barge II",
          "Barge II",
          "Barge II",
          "Barge II",
          null,
          "Barge II",
          "Barge II",
          "Barge II",
          "Barge II",
          null,
          "Barge II",
          "Barge II",
          "Barge II",
          "Barge II",
          null,
          "Reclamation",
          "Reclamation",
          "Reclamation",
          "Reclamation",
          null,
          "Reclamation",
          "Reclamation",
          "Reclamation",
          "Reclamation",
          null,
          "Reclamation",
          "Reclamation",
          "Reclamation",
          "Reclamation",
          null
         ]
        },
        {
         "connectgaps": false,
         "hoverinfo": "y+name",
         "line": {
          "color": "rgb(216,208,101)",
          "width": 10
         },
         "mode": "lines",
         "name": "unloading:Carrier A",
         "type": "scatter",
         "x": [
          "1970-01-01T03:38:18",
          "1970-01-01T03:38:18",
          "1970-01-01T04:12:54",
          "1970-01-01T04:12:54",
          "1970-01-01T04:12:54",
          "1970-01-01T08:04:58",
          "1970-01-01T08:04:58",
          "1970-01-01T08:39:34",
          "1970-01-01T08:39:34",
          "1970-01-01T08:39:34",
          "1970-01-01T12:31:38",
          "1970-01-01T12:31:38",
          "1970-01-01T13:06:14",
          "1970-01-01T13:06:14",
          "1970-01-01T13:06:14",
          "1970-01-01T03:38:18",
          "1970-01-01T03:38:18",
          "1970-01-01T04:12:54",
          "1970-01-01T04:12:54",
          "1970-01-01T04:12:54",
          "1970-01-01T08:04:58",
          "1970-01-01T08:04:58",
          "1970-01-01T08:39:34",
          "1970-01-01T08:39:34",
          "1970-01-01T08:39:34",
          "1970-01-01T12:31:38",
          "1970-01-01T12:31:38",
          "1970-01-01T13:06:14",
          "1970-01-01T13:06:14",
          "1970-01-01T13:06:14"
         ],
         "y": [
          "Carrier A",
          "Carrier A",
          "Carrier A",
          "Carrier A",
          null,
          "Carrier A",
          "Carrier A",
          "Carrier A",
          "Carrier A",
          null,
          "Carrier A",
          "Carrier A",
          "Carrier A",
          "Carrier A",
          null,
          "Reclamation",
          "Reclamation",
          "Reclamation",
          "Reclamation",
          null,
          "Reclamation",
          "Reclamation",
          "Reclamation",
          "Reclamation",
          null,
          "Reclamation",
          "Reclamation",
          "Reclamation",
          "Reclamation",
          null
         ]
        },
        {
         "connectgaps": false,
         "hoverinfo": "y+name",
         "line": {
          "color": "rgb(220,212,105)",
          "width": 10
         },
         "mode": "lines",
         "name": "unloading:Barge III",
         "type": "scatter",
         "x": [
          "1970-01-01T04:20:10",
          "1970-01-01T04:20:10",
          "1970-01-01T04:54:58",
          "1970-01-01T04:54:58",
          "1970-01-01T04:54:58",
          "1970-01-01T08:46:50",
          "1970-01-01T08:46:50",
          "1970-01-01T09:21:38",
          "1970-01-01T09:21:38",
          "1970-01-01T09:21:38",
          "1970-01-01T13:13:30",
          "1970-01-01T13:13:30",
          "1970-01-01T13:48:18",
          "1970-01-01T13:48:18",
          "1970-01-01T13:48:18",
          "1970-01-01T04:20:10",
          "1970-01-01T04:20:10",
          "1970-01-01T04:54:58",
          "1970-01-01T04:54:58",
          "1970-01-01T04:54:58",
          "1970-01-01T08:46:50",
          "1970-01-01T08:46:50",
          "1970-01-01T09:21:38",
          "1970-01-01T09:21:38",
          "1970-01-01T09:21:38",
          "1970-01-01T13:13:30",
          "1970-01-01T13:13:30",
          "1970-01-01T13:48:18",
          "1970-01-01T13:48:18",
          "1970-01-01T13:48:18"
         ],
         "y": [
          "Barge III",
          "Barge III",
          "Barge III",
          "Barge III",
          null,
          "Barge III",
          "Barge III",
          "Barge III",
          "Barge III",
          null,
          "Barge III",
          "Barge III",
          "Barge III",
          "Barge III",
          null,
          "Reclamation",
          "Reclamation",
          "Reclamation",
          "Reclamation",
          null,
          "Reclamation",
          "Reclamation",
          "Reclamation",
          "Reclamation",
          null,
          "Reclamation",
          "Reclamation",
          "Reclamation",
          "Reclamation",
          null
         ]
        }
       ],
       "layout": {
        "hovermode": "closest",
        "legend": {
         "orientation": "h",
         "x": 0,
         "y": -0.2
        },
        "showlegend": false,
        "template": {
         "data": {
          "bar": [
           {
            "error_x": {
             "color": "#2a3f5f"
            },
            "error_y": {
             "color": "#2a3f5f"
            },
            "marker": {
             "line": {
              "color": "#E5ECF6",
              "width": 0.5
             },
             "pattern": {
              "fillmode": "overlay",
              "size": 10,
              "solidity": 0.2
             }
            },
            "type": "bar"
           }
          ],
          "barpolar": [
           {
            "marker": {
             "line": {
              "color": "#E5ECF6",
              "width": 0.5
             },
             "pattern": {
              "fillmode": "overlay",
              "size": 10,
              "solidity": 0.2
             }
            },
            "type": "barpolar"
           }
          ],
          "carpet": [
           {
            "aaxis": {
             "endlinecolor": "#2a3f5f",
             "gridcolor": "white",
             "linecolor": "white",
             "minorgridcolor": "white",
             "startlinecolor": "#2a3f5f"
            },
            "baxis": {
             "endlinecolor": "#2a3f5f",
             "gridcolor": "white",
             "linecolor": "white",
             "minorgridcolor": "white",
             "startlinecolor": "#2a3f5f"
            },
            "type": "carpet"
           }
          ],
          "choropleth": [
           {
            "colorbar": {
             "outlinewidth": 0,
             "ticks": ""
            },
            "type": "choropleth"
           }
          ],
          "contour": [
           {
            "colorbar": {
             "outlinewidth": 0,
             "ticks": ""
            },
            "colorscale": [
             [
              0,
              "#0d0887"
             ],
             [
              0.1111111111111111,
              "#46039f"
             ],
             [
              0.2222222222222222,
              "#7201a8"
             ],
             [
              0.3333333333333333,
              "#9c179e"
             ],
             [
              0.4444444444444444,
              "#bd3786"
             ],
             [
              0.5555555555555556,
              "#d8576b"
             ],
             [
              0.6666666666666666,
              "#ed7953"
             ],
             [
              0.7777777777777778,
              "#fb9f3a"
             ],
             [
              0.8888888888888888,
              "#fdca26"
             ],
             [
              1,
              "#f0f921"
             ]
            ],
            "type": "contour"
           }
          ],
          "contourcarpet": [
           {
            "colorbar": {
             "outlinewidth": 0,
             "ticks": ""
            },
            "type": "contourcarpet"
           }
          ],
          "heatmap": [
           {
            "colorbar": {
             "outlinewidth": 0,
             "ticks": ""
            },
            "colorscale": [
             [
              0,
              "#0d0887"
             ],
             [
              0.1111111111111111,
              "#46039f"
             ],
             [
              0.2222222222222222,
              "#7201a8"
             ],
             [
              0.3333333333333333,
              "#9c179e"
             ],
             [
              0.4444444444444444,
              "#bd3786"
             ],
             [
              0.5555555555555556,
              "#d8576b"
             ],
             [
              0.6666666666666666,
              "#ed7953"
             ],
             [
              0.7777777777777778,
              "#fb9f3a"
             ],
             [
              0.8888888888888888,
              "#fdca26"
             ],
             [
              1,
              "#f0f921"
             ]
            ],
            "type": "heatmap"
           }
          ],
          "heatmapgl": [
           {
            "colorbar": {
             "outlinewidth": 0,
             "ticks": ""
            },
            "colorscale": [
             [
              0,
              "#0d0887"
             ],
             [
              0.1111111111111111,
              "#46039f"
             ],
             [
              0.2222222222222222,
              "#7201a8"
             ],
             [
              0.3333333333333333,
              "#9c179e"
             ],
             [
              0.4444444444444444,
              "#bd3786"
             ],
             [
              0.5555555555555556,
              "#d8576b"
             ],
             [
              0.6666666666666666,
              "#ed7953"
             ],
             [
              0.7777777777777778,
              "#fb9f3a"
             ],
             [
              0.8888888888888888,
              "#fdca26"
             ],
             [
              1,
              "#f0f921"
             ]
            ],
            "type": "heatmapgl"
           }
          ],
          "histogram": [
           {
            "marker": {
             "pattern": {
              "fillmode": "overlay",
              "size": 10,
              "solidity": 0.2
             }
            },
            "type": "histogram"
           }
          ],
          "histogram2d": [
           {
            "colorbar": {
             "outlinewidth": 0,
             "ticks": ""
            },
            "colorscale": [
             [
              0,
              "#0d0887"
             ],
             [
              0.1111111111111111,
              "#46039f"
             ],
             [
              0.2222222222222222,
              "#7201a8"
             ],
             [
              0.3333333333333333,
              "#9c179e"
             ],
             [
              0.4444444444444444,
              "#bd3786"
             ],
             [
              0.5555555555555556,
              "#d8576b"
             ],
             [
              0.6666666666666666,
              "#ed7953"
             ],
             [
              0.7777777777777778,
              "#fb9f3a"
             ],
             [
              0.8888888888888888,
              "#fdca26"
             ],
             [
              1,
              "#f0f921"
             ]
            ],
            "type": "histogram2d"
           }
          ],
          "histogram2dcontour": [
           {
            "colorbar": {
             "outlinewidth": 0,
             "ticks": ""
            },
            "colorscale": [
             [
              0,
              "#0d0887"
             ],
             [
              0.1111111111111111,
              "#46039f"
             ],
             [
              0.2222222222222222,
              "#7201a8"
             ],
             [
              0.3333333333333333,
              "#9c179e"
             ],
             [
              0.4444444444444444,
              "#bd3786"
             ],
             [
              0.5555555555555556,
              "#d8576b"
             ],
             [
              0.6666666666666666,
              "#ed7953"
             ],
             [
              0.7777777777777778,
              "#fb9f3a"
             ],
             [
              0.8888888888888888,
              "#fdca26"
             ],
             [
              1,
              "#f0f921"
             ]
            ],
            "type": "histogram2dcontour"
           }
          ],
          "mesh3d": [
           {
            "colorbar": {
             "outlinewidth": 0,
             "ticks": ""
            },
            "type": "mesh3d"
           }
          ],
          "parcoords": [
           {
            "line": {
             "colorbar": {
              "outlinewidth": 0,
              "ticks": ""
             }
            },
            "type": "parcoords"
           }
          ],
          "pie": [
           {
            "automargin": true,
            "type": "pie"
           }
          ],
          "scatter": [
           {
            "fillpattern": {
             "fillmode": "overlay",
             "size": 10,
             "solidity": 0.2
            },
            "type": "scatter"
           }
          ],
          "scatter3d": [
           {
            "line": {
             "colorbar": {
              "outlinewidth": 0,
              "ticks": ""
             }
            },
            "marker": {
             "colorbar": {
              "outlinewidth": 0,
              "ticks": ""
             }
            },
            "type": "scatter3d"
           }
          ],
          "scattercarpet": [
           {
            "marker": {
             "colorbar": {
              "outlinewidth": 0,
              "ticks": ""
             }
            },
            "type": "scattercarpet"
           }
          ],
          "scattergeo": [
           {
            "marker": {
             "colorbar": {
              "outlinewidth": 0,
              "ticks": ""
             }
            },
            "type": "scattergeo"
           }
          ],
          "scattergl": [
           {
            "marker": {
             "colorbar": {
              "outlinewidth": 0,
              "ticks": ""
             }
            },
            "type": "scattergl"
           }
          ],
          "scattermapbox": [
           {
            "marker": {
             "colorbar": {
              "outlinewidth": 0,
              "ticks": ""
             }
            },
            "type": "scattermapbox"
           }
          ],
          "scatterpolar": [
           {
            "marker": {
             "colorbar": {
              "outlinewidth": 0,
              "ticks": ""
             }
            },
            "type": "scatterpolar"
           }
          ],
          "scatterpolargl": [
           {
            "marker": {
             "colorbar": {
              "outlinewidth": 0,
              "ticks": ""
             }
            },
            "type": "scatterpolargl"
           }
          ],
          "scatterternary": [
           {
            "marker": {
             "colorbar": {
              "outlinewidth": 0,
              "ticks": ""
             }
            },
            "type": "scatterternary"
           }
          ],
          "surface": [
           {
            "colorbar": {
             "outlinewidth": 0,
             "ticks": ""
            },
            "colorscale": [
             [
              0,
              "#0d0887"
             ],
             [
              0.1111111111111111,
              "#46039f"
             ],
             [
              0.2222222222222222,
              "#7201a8"
             ],
             [
              0.3333333333333333,
              "#9c179e"
             ],
             [
              0.4444444444444444,
              "#bd3786"
             ],
             [
              0.5555555555555556,
              "#d8576b"
             ],
             [
              0.6666666666666666,
              "#ed7953"
             ],
             [
              0.7777777777777778,
              "#fb9f3a"
             ],
             [
              0.8888888888888888,
              "#fdca26"
             ],
             [
              1,
              "#f0f921"
             ]
            ],
            "type": "surface"
           }
          ],
          "table": [
           {
            "cells": {
             "fill": {
              "color": "#EBF0F8"
             },
             "line": {
              "color": "white"
             }
            },
            "header": {
             "fill": {
              "color": "#C8D4E3"
             },
             "line": {
              "color": "white"
             }
            },
            "type": "table"
           }
          ]
         },
         "layout": {
          "annotationdefaults": {
           "arrowcolor": "#2a3f5f",
           "arrowhead": 0,
           "arrowwidth": 1
          },
          "autotypenumbers": "strict",
          "coloraxis": {
           "colorbar": {
            "outlinewidth": 0,
            "ticks": ""
           }
          },
          "colorscale": {
           "diverging": [
            [
             0,
             "#8e0152"
            ],
            [
             0.1,
             "#c51b7d"
            ],
            [
             0.2,
             "#de77ae"
            ],
            [
             0.3,
             "#f1b6da"
            ],
            [
             0.4,
             "#fde0ef"
            ],
            [
             0.5,
             "#f7f7f7"
            ],
            [
             0.6,
             "#e6f5d0"
            ],
            [
             0.7,
             "#b8e186"
            ],
            [
             0.8,
             "#7fbc41"
            ],
            [
             0.9,
             "#4d9221"
            ],
            [
             1,
             "#276419"
            ]
           ],
           "sequential": [
            [
             0,
             "#0d0887"
            ],
            [
             0.1111111111111111,
             "#46039f"
            ],
            [
             0.2222222222222222,
             "#7201a8"
            ],
            [
             0.3333333333333333,
             "#9c179e"
            ],
            [
             0.4444444444444444,
             "#bd3786"
            ],
            [
             0.5555555555555556,
             "#d8576b"
            ],
            [
             0.6666666666666666,
             "#ed7953"
            ],
            [
             0.7777777777777778,
             "#fb9f3a"
            ],
            [
             0.8888888888888888,
             "#fdca26"
            ],
            [
             1,
             "#f0f921"
            ]
           ],
           "sequentialminus": [
            [
             0,
             "#0d0887"
            ],
            [
             0.1111111111111111,
             "#46039f"
            ],
            [
             0.2222222222222222,
             "#7201a8"
            ],
            [
             0.3333333333333333,
             "#9c179e"
            ],
            [
             0.4444444444444444,
             "#bd3786"
            ],
            [
             0.5555555555555556,
             "#d8576b"
            ],
            [
             0.6666666666666666,
             "#ed7953"
            ],
            [
             0.7777777777777778,
             "#fb9f3a"
            ],
            [
             0.8888888888888888,
             "#fdca26"
            ],
            [
             1,
             "#f0f921"
            ]
           ]
          },
          "colorway": [
           "#636efa",
           "#EF553B",
           "#00cc96",
           "#ab63fa",
           "#FFA15A",
           "#19d3f3",
           "#FF6692",
           "#B6E880",
           "#FF97FF",
           "#FECB52"
          ],
          "font": {
           "color": "#2a3f5f"
          },
          "geo": {
           "bgcolor": "white",
           "lakecolor": "white",
           "landcolor": "#E5ECF6",
           "showlakes": true,
           "showland": true,
           "subunitcolor": "white"
          },
          "hoverlabel": {
           "align": "left"
          },
          "hovermode": "closest",
          "mapbox": {
           "style": "light"
          },
          "paper_bgcolor": "white",
          "plot_bgcolor": "#E5ECF6",
          "polar": {
           "angularaxis": {
            "gridcolor": "white",
            "linecolor": "white",
            "ticks": ""
           },
           "bgcolor": "#E5ECF6",
           "radialaxis": {
            "gridcolor": "white",
            "linecolor": "white",
            "ticks": ""
           }
          },
          "scene": {
           "xaxis": {
            "backgroundcolor": "#E5ECF6",
            "gridcolor": "white",
            "gridwidth": 2,
            "linecolor": "white",
            "showbackground": true,
            "ticks": "",
            "zerolinecolor": "white"
           },
           "yaxis": {
            "backgroundcolor": "#E5ECF6",
            "gridcolor": "white",
            "gridwidth": 2,
            "linecolor": "white",
            "showbackground": true,
            "ticks": "",
            "zerolinecolor": "white"
           },
           "zaxis": {
            "backgroundcolor": "#E5ECF6",
            "gridcolor": "white",
            "gridwidth": 2,
            "linecolor": "white",
            "showbackground": true,
            "ticks": "",
            "zerolinecolor": "white"
           }
          },
          "shapedefaults": {
           "line": {
            "color": "#2a3f5f"
           }
          },
          "ternary": {
           "aaxis": {
            "gridcolor": "white",
            "linecolor": "white",
            "ticks": ""
           },
           "baxis": {
            "gridcolor": "white",
            "linecolor": "white",
            "ticks": ""
           },
           "bgcolor": "#E5ECF6",
           "caxis": {
            "gridcolor": "white",
            "linecolor": "white",
            "ticks": ""
           }
          },
          "title": {
           "x": 0.05
          },
          "xaxis": {
           "automargin": true,
           "gridcolor": "white",
           "linecolor": "white",
           "ticks": "",
           "title": {
            "standoff": 15
           },
           "zerolinecolor": "white",
           "zerolinewidth": 2
          },
          "yaxis": {
           "automargin": true,
           "gridcolor": "white",
           "linecolor": "white",
           "ticks": "",
           "title": {
            "standoff": 15
           },
           "zerolinecolor": "white",
           "zerolinewidth": 2
          }
         }
        },
        "title": {
         "text": "Cutter T occupancy: 100.0"
        },
        "xaxis": {
         "range": [
          "1970-01-01T00:00:00",
          "1970-01-01T16:42:16"
         ],
         "title": {
          "font": {
           "color": "#7f7f7f",
           "family": "Courier New, monospace",
           "size": 18
          },
          "text": "Time"
         }
        },
        "yaxis": {
         "title": {
          "font": {
           "color": "#7f7f7f",
           "family": "Courier New, monospace",
           "size": 18
          },
          "text": "vesels"
         }
        }
       }
      },
      "text/html": [
       "<div>                            <div id=\"cba926a8-d0f5-485a-825b-feda5f892325\" class=\"plotly-graph-div\" style=\"height:525px; width:100%;\"></div>            <script type=\"text/javascript\">                require([\"plotly\"], function(Plotly) {                    window.PLOTLYENV=window.PLOTLYENV || {};                                    if (document.getElementById(\"cba926a8-d0f5-485a-825b-feda5f892325\")) {                    Plotly.newPlot(                        \"cba926a8-d0f5-485a-825b-feda5f892325\",                        [{\"connectgaps\":false,\"hoverinfo\":\"name\",\"line\":{\"color\":\"red\",\"width\":14},\"mode\":\"lines\",\"name\":\"critical_path\",\"x\":[\"1970-01-01T00:00:00\",\"1970-01-01T00:33:31\",\"1970-01-01T00:33:31\",\"1970-01-01T00:33:31\",\"1970-01-01T01:07:02\",\"1970-01-01T01:07:02\",\"1970-01-01T01:07:02\",\"1970-01-01T01:48:42\",\"1970-01-01T01:48:42\",\"1970-01-01T01:07:02\",\"1970-01-01T01:48:42\",\"1970-01-01T01:48:42\",\"1970-01-01T01:07:02\",\"1970-01-01T01:48:42\",\"1970-01-01T01:48:42\",\"1970-01-01T01:48:42\",\"1970-01-01T02:22:02\",\"1970-01-01T02:22:02\",\"1970-01-01T01:48:42\",\"1970-01-01T02:22:02\",\"1970-01-01T02:22:02\",\"1970-01-01T01:48:42\",\"1970-01-01T02:22:02\",\"1970-01-01T02:22:02\",\"1970-01-01T02:22:02\",\"1970-01-01T03:03:42\",\"1970-01-01T03:03:42\",\"1970-01-01T02:22:02\",\"1970-01-01T03:03:42\",\"1970-01-01T03:03:42\",\"1970-01-01T02:22:02\",\"1970-01-01T03:03:42\",\"1970-01-01T03:03:42\",\"1970-01-01T03:03:42\",\"1970-01-01T03:45:22\",\"1970-01-01T03:45:22\",\"1970-01-01T03:03:42\",\"1970-01-01T03:45:22\",\"1970-01-01T03:45:22\",\"1970-01-01T03:03:42\",\"1970-01-01T03:45:22\",\"1970-01-01T03:45:22\",\"1970-01-01T03:45:22\",\"1970-01-01T04:18:42\",\"1970-01-01T04:18:42\",\"1970-01-01T03:45:22\",\"1970-01-01T04:18:42\",\"1970-01-01T04:18:42\",\"1970-01-01T03:45:22\",\"1970-01-01T04:18:42\",\"1970-01-01T04:18:42\",\"1970-01-01T04:18:42\",\"1970-01-01T05:00:22\",\"1970-01-01T05:00:22\",\"1970-01-01T04:18:42\",\"1970-01-01T05:00:22\",\"1970-01-01T05:00:22\",\"1970-01-01T04:18:42\",\"1970-01-01T05:00:22\",\"1970-01-01T05:00:22\",\"1970-01-01T05:00:22\",\"1970-01-01T05:33:42\",\"1970-01-01T05:33:42\",\"1970-01-01T05:00:22\",\"1970-01-01T05:33:42\",\"1970-01-01T05:33:42\",\"1970-01-01T05:00:22\",\"1970-01-01T05:33:42\",\"1970-01-01T05:33:42\",\"1970-01-01T05:33:42\",\"1970-01-01T06:15:22\",\"1970-01-01T06:15:22\",\"1970-01-01T05:33:42\",\"1970-01-01T06:15:22\",\"1970-01-01T06:15:22\",\"1970-01-01T05:33:42\",\"1970-01-01T06:15:22\",\"1970-01-01T06:15:22\",\"1970-01-01T06:15:22\",\"1970-01-01T06:48:42\",\"1970-01-01T06:48:42\",\"1970-01-01T06:15:22\",\"1970-01-01T06:48:42\",\"1970-01-01T06:48:42\",\"1970-01-01T06:15:22\",\"1970-01-01T06:48:42\",\"1970-01-01T06:48:42\",\"1970-01-01T06:48:42\",\"1970-01-01T07:30:22\",\"1970-01-01T07:30:22\",\"1970-01-01T06:48:42\",\"1970-01-01T07:30:22\",\"1970-01-01T07:30:22\",\"1970-01-01T06:48:42\",\"1970-01-01T07:30:22\",\"1970-01-01T07:30:22\",\"1970-01-01T07:30:22\",\"1970-01-01T08:12:02\",\"1970-01-01T08:12:02\",\"1970-01-01T07:30:22\",\"1970-01-01T08:12:02\",\"1970-01-01T08:12:02\",\"1970-01-01T07:30:22\",\"1970-01-01T08:12:02\",\"1970-01-01T08:12:02\",\"1970-01-01T08:12:02\",\"1970-01-01T08:45:22\",\"1970-01-01T08:45:22\",\"1970-01-01T08:12:02\",\"1970-01-01T08:45:22\",\"1970-01-01T08:45:22\",\"1970-01-01T08:12:02\",\"1970-01-01T08:45:22\",\"1970-01-01T08:45:22\",\"1970-01-01T08:45:22\",\"1970-01-01T09:27:02\",\"1970-01-01T09:27:02\",\"1970-01-01T08:45:22\",\"1970-01-01T09:27:02\",\"1970-01-01T09:27:02\",\"1970-01-01T08:45:22\",\"1970-01-01T09:27:02\",\"1970-01-01T09:27:02\",\"1970-01-01T09:27:02\",\"1970-01-01T10:08:42\",\"1970-01-01T10:08:42\",\"1970-01-01T09:27:02\",\"1970-01-01T10:08:42\",\"1970-01-01T10:08:42\",\"1970-01-01T09:27:02\",\"1970-01-01T10:08:42\",\"1970-01-01T10:08:42\",\"1970-01-01T10:08:42\",\"1970-01-01T10:42:02\",\"1970-01-01T10:42:02\",\"1970-01-01T10:08:42\",\"1970-01-01T10:42:02\",\"1970-01-01T10:42:02\",\"1970-01-01T10:08:42\",\"1970-01-01T10:42:02\",\"1970-01-01T10:42:02\",\"1970-01-01T10:42:02\",\"1970-01-01T11:15:22\",\"1970-01-01T11:15:22\",\"1970-01-01T10:42:02\",\"1970-01-01T11:15:22\",\"1970-01-01T11:15:22\",\"1970-01-01T10:42:02\",\"1970-01-01T11:15:22\",\"1970-01-01T11:15:22\",\"1970-01-01T11:15:22\",\"1970-01-01T11:57:02\",\"1970-01-01T11:57:02\",\"1970-01-01T11:15:22\",\"1970-01-01T11:57:02\",\"1970-01-01T11:57:02\",\"1970-01-01T11:15:22\",\"1970-01-01T11:57:02\",\"1970-01-01T11:57:02\",\"1970-01-01T11:57:02\",\"1970-01-01T12:38:42\",\"1970-01-01T12:38:42\",\"1970-01-01T11:57:02\",\"1970-01-01T12:38:42\",\"1970-01-01T12:38:42\",\"1970-01-01T11:57:02\",\"1970-01-01T12:38:42\",\"1970-01-01T12:38:42\",\"1970-01-01T12:38:42\",\"1970-01-01T13:12:02\",\"1970-01-01T13:12:02\",\"1970-01-01T12:38:42\",\"1970-01-01T13:12:02\",\"1970-01-01T13:12:02\",\"1970-01-01T12:38:42\",\"1970-01-01T13:12:02\",\"1970-01-01T13:12:02\",\"1970-01-01T13:12:02\",\"1970-01-01T13:53:42\",\"1970-01-01T13:53:42\",\"1970-01-01T13:12:02\",\"1970-01-01T13:53:42\",\"1970-01-01T13:53:42\",\"1970-01-01T13:12:02\",\"1970-01-01T13:53:42\",\"1970-01-01T13:53:42\",\"1970-01-01T13:53:42\",\"1970-01-01T14:35:22\",\"1970-01-01T14:35:22\",\"1970-01-01T13:53:42\",\"1970-01-01T14:35:22\",\"1970-01-01T14:35:22\",\"1970-01-01T13:53:42\",\"1970-01-01T14:35:22\",\"1970-01-01T14:35:22\",\"1970-01-01T14:35:22\",\"1970-01-01T15:08:42\",\"1970-01-01T15:08:42\",\"1970-01-01T14:35:22\",\"1970-01-01T15:08:42\",\"1970-01-01T15:08:42\",\"1970-01-01T14:35:22\",\"1970-01-01T15:08:42\",\"1970-01-01T15:08:42\",\"1970-01-01T15:08:42\",\"1970-01-01T15:55:29\",\"1970-01-01T15:55:29\",\"1970-01-01T15:55:29\",\"1970-01-01T16:42:16\",\"1970-01-01T16:42:16\",\"1970-01-01T15:55:29\",\"1970-01-01T16:42:16\",\"1970-01-01T16:42:16\"],\"y\":[\"Carrier C\",\"Carrier C\",null,\"Carrier C\",\"Carrier C\",null,\"Carrier C\",\"Carrier C\",null,\"Cutter T\",\"Cutter T\",null,\"Trench\",\"Trench\",null,\"Carrier B\",\"Carrier B\",null,\"Cutter T\",\"Cutter T\",null,\"Trench\",\"Trench\",null,\"Carrier A\",\"Carrier A\",null,\"Cutter T\",\"Cutter T\",null,\"Trench\",\"Trench\",null,\"Barge III\",\"Barge III\",null,\"Cutter T\",\"Cutter T\",null,\"Trench\",\"Trench\",null,\"Cutter T\",\"Cutter T\",null,\"Extra 1\",\"Extra 1\",null,\"Trench\",\"Trench\",null,\"Barge II\",\"Barge II\",null,\"Cutter T\",\"Cutter T\",null,\"Trench\",\"Trench\",null,\"Barge I\",\"Barge I\",null,\"Cutter T\",\"Cutter T\",null,\"Trench\",\"Trench\",null,\"Carrier C\",\"Carrier C\",null,\"Cutter T\",\"Cutter T\",null,\"Trench\",\"Trench\",null,\"Carrier B\",\"Carrier B\",null,\"Cutter T\",\"Cutter T\",null,\"Trench\",\"Trench\",null,\"Carrier A\",\"Carrier A\",null,\"Cutter T\",\"Cutter T\",null,\"Trench\",\"Trench\",null,\"Barge III\",\"Barge III\",null,\"Cutter T\",\"Cutter T\",null,\"Trench\",\"Trench\",null,\"Cutter T\",\"Cutter T\",null,\"Extra 1\",\"Extra 1\",null,\"Trench\",\"Trench\",null,\"Barge II\",\"Barge II\",null,\"Cutter T\",\"Cutter T\",null,\"Trench\",\"Trench\",null,\"Carrier C\",\"Carrier C\",null,\"Cutter T\",\"Cutter T\",null,\"Trench\",\"Trench\",null,\"Barge I\",\"Barge I\",null,\"Cutter T\",\"Cutter T\",null,\"Trench\",\"Trench\",null,\"Carrier B\",\"Carrier B\",null,\"Cutter T\",\"Cutter T\",null,\"Trench\",\"Trench\",null,\"Carrier A\",\"Carrier A\",null,\"Cutter T\",\"Cutter T\",null,\"Trench\",\"Trench\",null,\"Barge III\",\"Barge III\",null,\"Cutter T\",\"Cutter T\",null,\"Trench\",\"Trench\",null,\"Cutter T\",\"Cutter T\",null,\"Extra 1\",\"Extra 1\",null,\"Trench\",\"Trench\",null,\"Barge II\",\"Barge II\",null,\"Cutter T\",\"Cutter T\",null,\"Trench\",\"Trench\",null,\"Carrier C\",\"Carrier C\",null,\"Cutter T\",\"Cutter T\",null,\"Trench\",\"Trench\",null,\"Barge I\",\"Barge I\",null,\"Cutter T\",\"Cutter T\",null,\"Trench\",\"Trench\",null,\"Barge I\",\"Barge I\",null,\"Barge I\",\"Barge I\",null,\"Reclamation\",\"Reclamation\",null],\"type\":\"scatter\"},{\"connectgaps\":false,\"hoverinfo\":\"y+name\",\"line\":{\"color\":\"rgb(0,248,141)\",\"width\":10},\"mode\":\"lines\",\"name\":\"loading:Carrier A\",\"x\":[\"1970-01-01T02:22:02\",\"1970-01-01T02:22:02\",\"1970-01-01T03:03:42\",\"1970-01-01T03:03:42\",\"1970-01-01T03:03:42\",\"1970-01-01T06:48:42\",\"1970-01-01T06:48:42\",\"1970-01-01T07:30:22\",\"1970-01-01T07:30:22\",\"1970-01-01T07:30:22\",\"1970-01-01T11:15:22\",\"1970-01-01T11:15:22\",\"1970-01-01T11:57:02\",\"1970-01-01T11:57:02\",\"1970-01-01T11:57:02\",\"1970-01-01T02:22:02\",\"1970-01-01T02:22:02\",\"1970-01-01T03:03:42\",\"1970-01-01T03:03:42\",\"1970-01-01T03:03:42\",\"1970-01-01T06:48:42\",\"1970-01-01T06:48:42\",\"1970-01-01T07:30:22\",\"1970-01-01T07:30:22\",\"1970-01-01T07:30:22\",\"1970-01-01T11:15:22\",\"1970-01-01T11:15:22\",\"1970-01-01T11:57:02\",\"1970-01-01T11:57:02\",\"1970-01-01T11:57:02\",\"1970-01-01T02:22:02\",\"1970-01-01T02:22:02\",\"1970-01-01T03:03:42\",\"1970-01-01T03:03:42\",\"1970-01-01T03:03:42\",\"1970-01-01T06:48:42\",\"1970-01-01T06:48:42\",\"1970-01-01T07:30:22\",\"1970-01-01T07:30:22\",\"1970-01-01T07:30:22\",\"1970-01-01T11:15:22\",\"1970-01-01T11:15:22\",\"1970-01-01T11:57:02\",\"1970-01-01T11:57:02\",\"1970-01-01T11:57:02\"],\"y\":[\"Carrier A\",\"Carrier A\",\"Carrier A\",\"Carrier A\",null,\"Carrier A\",\"Carrier A\",\"Carrier A\",\"Carrier A\",null,\"Carrier A\",\"Carrier A\",\"Carrier A\",\"Carrier A\",null,\"Cutter T\",\"Cutter T\",\"Cutter T\",\"Cutter T\",null,\"Cutter T\",\"Cutter T\",\"Cutter T\",\"Cutter T\",null,\"Cutter T\",\"Cutter T\",\"Cutter T\",\"Cutter T\",null,\"Trench\",\"Trench\",\"Trench\",\"Trench\",null,\"Trench\",\"Trench\",\"Trench\",\"Trench\",null,\"Trench\",\"Trench\",\"Trench\",\"Trench\",null],\"type\":\"scatter\"},{\"connectgaps\":false,\"hoverinfo\":\"y+name\",\"line\":{\"color\":\"rgb(4,252,145)\",\"width\":10},\"mode\":\"lines\",\"name\":\"sailing empty:Carrier A\",\"x\":[\"1970-01-01T00:34:36\",\"1970-01-01T00:34:36\",\"1970-01-01T01:09:12\",\"1970-01-01T01:09:12\",\"1970-01-01T01:09:12\",\"1970-01-01T04:47:30\",\"1970-01-01T04:47:30\",\"1970-01-01T05:22:06\",\"1970-01-01T05:22:06\",\"1970-01-01T05:22:06\",\"1970-01-01T09:14:10\",\"1970-01-01T09:14:10\",\"1970-01-01T09:48:46\",\"1970-01-01T09:48:46\",\"1970-01-01T09:48:46\"],\"y\":[\"Carrier A\",\"Carrier A\",\"Carrier A\",\"Carrier A\",null,\"Carrier A\",\"Carrier A\",\"Carrier A\",\"Carrier A\",null,\"Carrier A\",\"Carrier A\",\"Carrier A\",\"Carrier A\",null],\"type\":\"scatter\"},{\"connectgaps\":false,\"hoverinfo\":\"y+name\",\"line\":{\"color\":\"rgb(8,0,149)\",\"width\":10},\"mode\":\"lines\",\"name\":\"sailing full:Carrier A\",\"x\":[\"1970-01-01T03:03:42\",\"1970-01-01T03:03:42\",\"1970-01-01T03:38:18\",\"1970-01-01T03:38:18\",\"1970-01-01T03:38:18\",\"1970-01-01T07:30:22\",\"1970-01-01T07:30:22\",\"1970-01-01T08:04:58\",\"1970-01-01T08:04:58\",\"1970-01-01T08:04:58\",\"1970-01-01T11:57:02\",\"1970-01-01T11:57:02\",\"1970-01-01T12:31:38\",\"1970-01-01T12:31:38\",\"1970-01-01T12:31:38\"],\"y\":[\"Carrier A\",\"Carrier A\",\"Carrier A\",\"Carrier A\",null,\"Carrier A\",\"Carrier A\",\"Carrier A\",\"Carrier A\",null,\"Carrier A\",\"Carrier A\",\"Carrier A\",\"Carrier A\",null],\"type\":\"scatter\"},{\"connectgaps\":false,\"hoverinfo\":\"y+name\",\"line\":{\"color\":\"rgb(12,4,153)\",\"width\":10},\"mode\":\"lines\",\"name\":\"basic activity:Carrier A\",\"x\":[\"1970-01-01T00:00:00\",\"1970-01-01T00:00:00\",\"1970-01-01T00:34:36\",\"1970-01-01T00:34:36\",\"1970-01-01T00:34:36\",\"1970-01-01T04:12:54\",\"1970-01-01T04:12:54\",\"1970-01-01T04:47:30\",\"1970-01-01T04:47:30\",\"1970-01-01T04:47:30\",\"1970-01-01T08:39:34\",\"1970-01-01T08:39:34\",\"1970-01-01T09:14:10\",\"1970-01-01T09:14:10\",\"1970-01-01T09:14:10\"],\"y\":[\"Carrier A\",\"Carrier A\",\"Carrier A\",\"Carrier A\",null,\"Carrier A\",\"Carrier A\",\"Carrier A\",\"Carrier A\",null,\"Carrier A\",\"Carrier A\",\"Carrier A\",\"Carrier A\",null],\"type\":\"scatter\"},{\"connectgaps\":false,\"hoverinfo\":\"y+name\",\"line\":{\"color\":\"rgb(16,8,157)\",\"width\":10},\"mode\":\"lines\",\"name\":\"unloading:Carrier A\",\"x\":[\"1970-01-01T03:38:18\",\"1970-01-01T03:38:18\",\"1970-01-01T04:12:54\",\"1970-01-01T04:12:54\",\"1970-01-01T04:12:54\",\"1970-01-01T08:04:58\",\"1970-01-01T08:04:58\",\"1970-01-01T08:39:34\",\"1970-01-01T08:39:34\",\"1970-01-01T08:39:34\",\"1970-01-01T12:31:38\",\"1970-01-01T12:31:38\",\"1970-01-01T13:06:14\",\"1970-01-01T13:06:14\",\"1970-01-01T13:06:14\",\"1970-01-01T03:38:18\",\"1970-01-01T03:38:18\",\"1970-01-01T04:12:54\",\"1970-01-01T04:12:54\",\"1970-01-01T04:12:54\",\"1970-01-01T08:04:58\",\"1970-01-01T08:04:58\",\"1970-01-01T08:39:34\",\"1970-01-01T08:39:34\",\"1970-01-01T08:39:34\",\"1970-01-01T12:31:38\",\"1970-01-01T12:31:38\",\"1970-01-01T13:06:14\",\"1970-01-01T13:06:14\",\"1970-01-01T13:06:14\"],\"y\":[\"Carrier A\",\"Carrier A\",\"Carrier A\",\"Carrier A\",null,\"Carrier A\",\"Carrier A\",\"Carrier A\",\"Carrier A\",null,\"Carrier A\",\"Carrier A\",\"Carrier A\",\"Carrier A\",null,\"Reclamation\",\"Reclamation\",\"Reclamation\",\"Reclamation\",null,\"Reclamation\",\"Reclamation\",\"Reclamation\",\"Reclamation\",null,\"Reclamation\",\"Reclamation\",\"Reclamation\",\"Reclamation\",null],\"type\":\"scatter\"},{\"connectgaps\":false,\"hoverinfo\":\"y+name\",\"line\":{\"color\":\"rgb(20,12,161)\",\"width\":10},\"mode\":\"lines\",\"name\":\"unloading:Carrier B\",\"x\":[\"1970-01-01T02:56:17\",\"1970-01-01T02:56:17\",\"1970-01-01T03:30:32\",\"1970-01-01T03:30:32\",\"1970-01-01T03:30:32\",\"1970-01-01T07:22:57\",\"1970-01-01T07:22:57\",\"1970-01-01T07:57:12\",\"1970-01-01T07:57:12\",\"1970-01-01T07:57:12\",\"1970-01-01T11:49:37\",\"1970-01-01T11:49:37\",\"1970-01-01T12:23:52\",\"1970-01-01T12:23:52\",\"1970-01-01T12:23:52\",\"1970-01-01T02:56:17\",\"1970-01-01T02:56:17\",\"1970-01-01T03:30:32\",\"1970-01-01T03:30:32\",\"1970-01-01T03:30:32\",\"1970-01-01T07:22:57\",\"1970-01-01T07:22:57\",\"1970-01-01T07:57:12\",\"1970-01-01T07:57:12\",\"1970-01-01T07:57:12\",\"1970-01-01T11:49:37\",\"1970-01-01T11:49:37\",\"1970-01-01T12:23:52\",\"1970-01-01T12:23:52\",\"1970-01-01T12:23:52\"],\"y\":[\"Carrier B\",\"Carrier B\",\"Carrier B\",\"Carrier B\",null,\"Carrier B\",\"Carrier B\",\"Carrier B\",\"Carrier B\",null,\"Carrier B\",\"Carrier B\",\"Carrier B\",\"Carrier B\",null,\"Reclamation\",\"Reclamation\",\"Reclamation\",\"Reclamation\",null,\"Reclamation\",\"Reclamation\",\"Reclamation\",\"Reclamation\",null,\"Reclamation\",\"Reclamation\",\"Reclamation\",\"Reclamation\",null],\"type\":\"scatter\"},{\"connectgaps\":false,\"hoverinfo\":\"y+name\",\"line\":{\"color\":\"rgb(24,16,165)\",\"width\":10},\"mode\":\"lines\",\"name\":\"sailing empty:Carrier B\",\"x\":[\"1970-01-01T00:34:15\",\"1970-01-01T00:34:15\",\"1970-01-01T01:08:30\",\"1970-01-01T01:08:30\",\"1970-01-01T01:08:30\",\"1970-01-01T04:04:47\",\"1970-01-01T04:04:47\",\"1970-01-01T04:39:02\",\"1970-01-01T04:39:02\",\"1970-01-01T04:39:02\",\"1970-01-01T08:31:27\",\"1970-01-01T08:31:27\",\"1970-01-01T09:05:42\",\"1970-01-01T09:05:42\",\"1970-01-01T09:05:42\"],\"y\":[\"Carrier B\",\"Carrier B\",\"Carrier B\",\"Carrier B\",null,\"Carrier B\",\"Carrier B\",\"Carrier B\",\"Carrier B\",null,\"Carrier B\",\"Carrier B\",\"Carrier B\",\"Carrier B\",null],\"type\":\"scatter\"},{\"connectgaps\":false,\"hoverinfo\":\"y+name\",\"line\":{\"color\":\"rgb(28,20,169)\",\"width\":10},\"mode\":\"lines\",\"name\":\"loading:Carrier B\",\"x\":[\"1970-01-01T01:48:42\",\"1970-01-01T01:48:42\",\"1970-01-01T02:22:02\",\"1970-01-01T02:22:02\",\"1970-01-01T02:22:02\",\"1970-01-01T06:15:22\",\"1970-01-01T06:15:22\",\"1970-01-01T06:48:42\",\"1970-01-01T06:48:42\",\"1970-01-01T06:48:42\",\"1970-01-01T10:42:02\",\"1970-01-01T10:42:02\",\"1970-01-01T11:15:22\",\"1970-01-01T11:15:22\",\"1970-01-01T11:15:22\",\"1970-01-01T01:48:42\",\"1970-01-01T01:48:42\",\"1970-01-01T02:22:02\",\"1970-01-01T02:22:02\",\"1970-01-01T02:22:02\",\"1970-01-01T06:15:22\",\"1970-01-01T06:15:22\",\"1970-01-01T06:48:42\",\"1970-01-01T06:48:42\",\"1970-01-01T06:48:42\",\"1970-01-01T10:42:02\",\"1970-01-01T10:42:02\",\"1970-01-01T11:15:22\",\"1970-01-01T11:15:22\",\"1970-01-01T11:15:22\",\"1970-01-01T01:48:42\",\"1970-01-01T01:48:42\",\"1970-01-01T02:22:02\",\"1970-01-01T02:22:02\",\"1970-01-01T02:22:02\",\"1970-01-01T06:15:22\",\"1970-01-01T06:15:22\",\"1970-01-01T06:48:42\",\"1970-01-01T06:48:42\",\"1970-01-01T06:48:42\",\"1970-01-01T10:42:02\",\"1970-01-01T10:42:02\",\"1970-01-01T11:15:22\",\"1970-01-01T11:15:22\",\"1970-01-01T11:15:22\"],\"y\":[\"Carrier B\",\"Carrier B\",\"Carrier B\",\"Carrier B\",null,\"Carrier B\",\"Carrier B\",\"Carrier B\",\"Carrier B\",null,\"Carrier B\",\"Carrier B\",\"Carrier B\",\"Carrier B\",null,\"Cutter T\",\"Cutter T\",\"Cutter T\",\"Cutter T\",null,\"Cutter T\",\"Cutter T\",\"Cutter T\",\"Cutter T\",null,\"Cutter T\",\"Cutter T\",\"Cutter T\",\"Cutter T\",null,\"Trench\",\"Trench\",\"Trench\",\"Trench\",null,\"Trench\",\"Trench\",\"Trench\",\"Trench\",null,\"Trench\",\"Trench\",\"Trench\",\"Trench\",null],\"type\":\"scatter\"},{\"connectgaps\":false,\"hoverinfo\":\"y+name\",\"line\":{\"color\":\"rgb(32,24,173)\",\"width\":10},\"mode\":\"lines\",\"name\":\"basic activity:Carrier B\",\"x\":[\"1970-01-01T00:00:00\",\"1970-01-01T00:00:00\",\"1970-01-01T00:34:15\",\"1970-01-01T00:34:15\",\"1970-01-01T00:34:15\",\"1970-01-01T03:30:32\",\"1970-01-01T03:30:32\",\"1970-01-01T04:04:47\",\"1970-01-01T04:04:47\",\"1970-01-01T04:04:47\",\"1970-01-01T07:57:12\",\"1970-01-01T07:57:12\",\"1970-01-01T08:31:27\",\"1970-01-01T08:31:27\",\"1970-01-01T08:31:27\"],\"y\":[\"Carrier B\",\"Carrier B\",\"Carrier B\",\"Carrier B\",null,\"Carrier B\",\"Carrier B\",\"Carrier B\",\"Carrier B\",null,\"Carrier B\",\"Carrier B\",\"Carrier B\",\"Carrier B\",null],\"type\":\"scatter\"},{\"connectgaps\":false,\"hoverinfo\":\"y+name\",\"line\":{\"color\":\"rgb(36,28,177)\",\"width\":10},\"mode\":\"lines\",\"name\":\"sailing full:Carrier B\",\"x\":[\"1970-01-01T02:22:02\",\"1970-01-01T02:22:02\",\"1970-01-01T02:56:17\",\"1970-01-01T02:56:17\",\"1970-01-01T02:56:17\",\"1970-01-01T06:48:42\",\"1970-01-01T06:48:42\",\"1970-01-01T07:22:57\",\"1970-01-01T07:22:57\",\"1970-01-01T07:22:57\",\"1970-01-01T11:15:22\",\"1970-01-01T11:15:22\",\"1970-01-01T11:49:37\",\"1970-01-01T11:49:37\",\"1970-01-01T11:49:37\"],\"y\":[\"Carrier B\",\"Carrier B\",\"Carrier B\",\"Carrier B\",null,\"Carrier B\",\"Carrier B\",\"Carrier B\",\"Carrier B\",null,\"Carrier B\",\"Carrier B\",\"Carrier B\",\"Carrier B\",null],\"type\":\"scatter\"},{\"connectgaps\":false,\"hoverinfo\":\"y+name\",\"line\":{\"color\":\"rgb(40,32,181)\",\"width\":10},\"mode\":\"lines\",\"name\":\"unloading:Carrier C\",\"x\":[\"1970-01-01T02:22:13\",\"1970-01-01T02:22:13\",\"1970-01-01T02:55:44\",\"1970-01-01T02:55:44\",\"1970-01-01T02:55:44\",\"1970-01-01T06:48:53\",\"1970-01-01T06:48:53\",\"1970-01-01T07:22:24\",\"1970-01-01T07:22:24\",\"1970-01-01T07:22:24\",\"1970-01-01T10:42:13\",\"1970-01-01T10:42:13\",\"1970-01-01T11:15:44\",\"1970-01-01T11:15:44\",\"1970-01-01T11:15:44\",\"1970-01-01T15:08:53\",\"1970-01-01T15:08:53\",\"1970-01-01T15:42:24\",\"1970-01-01T15:42:24\",\"1970-01-01T15:42:24\",\"1970-01-01T02:22:13\",\"1970-01-01T02:22:13\",\"1970-01-01T02:55:44\",\"1970-01-01T02:55:44\",\"1970-01-01T02:55:44\",\"1970-01-01T06:48:53\",\"1970-01-01T06:48:53\",\"1970-01-01T07:22:24\",\"1970-01-01T07:22:24\",\"1970-01-01T07:22:24\",\"1970-01-01T10:42:13\",\"1970-01-01T10:42:13\",\"1970-01-01T11:15:44\",\"1970-01-01T11:15:44\",\"1970-01-01T11:15:44\",\"1970-01-01T15:08:53\",\"1970-01-01T15:08:53\",\"1970-01-01T15:42:24\",\"1970-01-01T15:42:24\",\"1970-01-01T15:42:24\"],\"y\":[\"Carrier C\",\"Carrier C\",\"Carrier C\",\"Carrier C\",null,\"Carrier C\",\"Carrier C\",\"Carrier C\",\"Carrier C\",null,\"Carrier C\",\"Carrier C\",\"Carrier C\",\"Carrier C\",null,\"Carrier C\",\"Carrier C\",\"Carrier C\",\"Carrier C\",null,\"Reclamation\",\"Reclamation\",\"Reclamation\",\"Reclamation\",null,\"Reclamation\",\"Reclamation\",\"Reclamation\",\"Reclamation\",null,\"Reclamation\",\"Reclamation\",\"Reclamation\",\"Reclamation\",null,\"Reclamation\",\"Reclamation\",\"Reclamation\",\"Reclamation\",null],\"type\":\"scatter\"},{\"connectgaps\":false,\"hoverinfo\":\"y+name\",\"line\":{\"color\":\"rgb(44,36,185)\",\"width\":10},\"mode\":\"lines\",\"name\":\"sailing full:Carrier C\",\"x\":[\"1970-01-01T01:48:42\",\"1970-01-01T01:48:42\",\"1970-01-01T02:22:13\",\"1970-01-01T02:22:13\",\"1970-01-01T02:22:13\",\"1970-01-01T06:15:22\",\"1970-01-01T06:15:22\",\"1970-01-01T06:48:53\",\"1970-01-01T06:48:53\",\"1970-01-01T06:48:53\",\"1970-01-01T10:08:42\",\"1970-01-01T10:08:42\",\"1970-01-01T10:42:13\",\"1970-01-01T10:42:13\",\"1970-01-01T10:42:13\",\"1970-01-01T14:35:22\",\"1970-01-01T14:35:22\",\"1970-01-01T15:08:53\",\"1970-01-01T15:08:53\",\"1970-01-01T15:08:53\"],\"y\":[\"Carrier C\",\"Carrier C\",\"Carrier C\",\"Carrier C\",null,\"Carrier C\",\"Carrier C\",\"Carrier C\",\"Carrier C\",null,\"Carrier C\",\"Carrier C\",\"Carrier C\",\"Carrier C\",null,\"Carrier C\",\"Carrier C\",\"Carrier C\",\"Carrier C\",null],\"type\":\"scatter\"},{\"connectgaps\":false,\"hoverinfo\":\"y+name\",\"line\":{\"color\":\"rgb(48,40,189)\",\"width\":10},\"mode\":\"lines\",\"name\":\"sailing empty:Carrier C\",\"x\":[\"1970-01-01T00:33:31\",\"1970-01-01T00:33:31\",\"1970-01-01T01:07:02\",\"1970-01-01T01:07:02\",\"1970-01-01T01:07:02\",\"1970-01-01T03:29:15\",\"1970-01-01T03:29:15\",\"1970-01-01T04:02:46\",\"1970-01-01T04:02:46\",\"1970-01-01T04:02:46\",\"1970-01-01T07:55:55\",\"1970-01-01T07:55:55\",\"1970-01-01T08:29:26\",\"1970-01-01T08:29:26\",\"1970-01-01T08:29:26\",\"1970-01-01T11:49:15\",\"1970-01-01T11:49:15\",\"1970-01-01T12:22:46\",\"1970-01-01T12:22:46\",\"1970-01-01T12:22:46\"],\"y\":[\"Carrier C\",\"Carrier C\",\"Carrier C\",\"Carrier C\",null,\"Carrier C\",\"Carrier C\",\"Carrier C\",\"Carrier C\",null,\"Carrier C\",\"Carrier C\",\"Carrier C\",\"Carrier C\",null,\"Carrier C\",\"Carrier C\",\"Carrier C\",\"Carrier C\",null],\"type\":\"scatter\"},{\"connectgaps\":false,\"hoverinfo\":\"y+name\",\"line\":{\"color\":\"rgb(52,44,193)\",\"width\":10},\"mode\":\"lines\",\"name\":\"basic activity:Carrier C\",\"x\":[\"1970-01-01T00:00:00\",\"1970-01-01T00:00:00\",\"1970-01-01T00:33:31\",\"1970-01-01T00:33:31\",\"1970-01-01T00:33:31\",\"1970-01-01T02:55:44\",\"1970-01-01T02:55:44\",\"1970-01-01T03:29:15\",\"1970-01-01T03:29:15\",\"1970-01-01T03:29:15\",\"1970-01-01T07:22:24\",\"1970-01-01T07:22:24\",\"1970-01-01T07:55:55\",\"1970-01-01T07:55:55\",\"1970-01-01T07:55:55\",\"1970-01-01T11:15:44\",\"1970-01-01T11:15:44\",\"1970-01-01T11:49:15\",\"1970-01-01T11:49:15\",\"1970-01-01T11:49:15\"],\"y\":[\"Carrier C\",\"Carrier C\",\"Carrier C\",\"Carrier C\",null,\"Carrier C\",\"Carrier C\",\"Carrier C\",\"Carrier C\",null,\"Carrier C\",\"Carrier C\",\"Carrier C\",\"Carrier C\",null,\"Carrier C\",\"Carrier C\",\"Carrier C\",\"Carrier C\",null],\"type\":\"scatter\"},{\"connectgaps\":false,\"hoverinfo\":\"y+name\",\"line\":{\"color\":\"rgb(56,48,197)\",\"width\":10},\"mode\":\"lines\",\"name\":\"loading:Carrier C\",\"x\":[\"1970-01-01T01:07:02\",\"1970-01-01T01:07:02\",\"1970-01-01T01:48:42\",\"1970-01-01T01:48:42\",\"1970-01-01T01:48:42\",\"1970-01-01T05:33:42\",\"1970-01-01T05:33:42\",\"1970-01-01T06:15:22\",\"1970-01-01T06:15:22\",\"1970-01-01T06:15:22\",\"1970-01-01T09:27:02\",\"1970-01-01T09:27:02\",\"1970-01-01T10:08:42\",\"1970-01-01T10:08:42\",\"1970-01-01T10:08:42\",\"1970-01-01T13:53:42\",\"1970-01-01T13:53:42\",\"1970-01-01T14:35:22\",\"1970-01-01T14:35:22\",\"1970-01-01T14:35:22\",\"1970-01-01T01:07:02\",\"1970-01-01T01:07:02\",\"1970-01-01T01:48:42\",\"1970-01-01T01:48:42\",\"1970-01-01T01:48:42\",\"1970-01-01T05:33:42\",\"1970-01-01T05:33:42\",\"1970-01-01T06:15:22\",\"1970-01-01T06:15:22\",\"1970-01-01T06:15:22\",\"1970-01-01T09:27:02\",\"1970-01-01T09:27:02\",\"1970-01-01T10:08:42\",\"1970-01-01T10:08:42\",\"1970-01-01T10:08:42\",\"1970-01-01T13:53:42\",\"1970-01-01T13:53:42\",\"1970-01-01T14:35:22\",\"1970-01-01T14:35:22\",\"1970-01-01T14:35:22\",\"1970-01-01T01:07:02\",\"1970-01-01T01:07:02\",\"1970-01-01T01:48:42\",\"1970-01-01T01:48:42\",\"1970-01-01T01:48:42\",\"1970-01-01T05:33:42\",\"1970-01-01T05:33:42\",\"1970-01-01T06:15:22\",\"1970-01-01T06:15:22\",\"1970-01-01T06:15:22\",\"1970-01-01T09:27:02\",\"1970-01-01T09:27:02\",\"1970-01-01T10:08:42\",\"1970-01-01T10:08:42\",\"1970-01-01T10:08:42\",\"1970-01-01T13:53:42\",\"1970-01-01T13:53:42\",\"1970-01-01T14:35:22\",\"1970-01-01T14:35:22\",\"1970-01-01T14:35:22\"],\"y\":[\"Carrier C\",\"Carrier C\",\"Carrier C\",\"Carrier C\",null,\"Carrier C\",\"Carrier C\",\"Carrier C\",\"Carrier C\",null,\"Carrier C\",\"Carrier C\",\"Carrier C\",\"Carrier C\",null,\"Carrier C\",\"Carrier C\",\"Carrier C\",\"Carrier C\",null,\"Cutter T\",\"Cutter T\",\"Cutter T\",\"Cutter T\",null,\"Cutter T\",\"Cutter T\",\"Cutter T\",\"Cutter T\",null,\"Cutter T\",\"Cutter T\",\"Cutter T\",\"Cutter T\",null,\"Cutter T\",\"Cutter T\",\"Cutter T\",\"Cutter T\",null,\"Trench\",\"Trench\",\"Trench\",\"Trench\",null,\"Trench\",\"Trench\",\"Trench\",\"Trench\",null,\"Trench\",\"Trench\",\"Trench\",\"Trench\",null,\"Trench\",\"Trench\",\"Trench\",\"Trench\",null],\"type\":\"scatter\"},{\"connectgaps\":false,\"hoverinfo\":\"y+name\",\"line\":{\"color\":\"rgb(60,52,201)\",\"width\":10},\"mode\":\"lines\",\"name\":\"loading:Barge I\",\"x\":[\"1970-01-01T05:00:22\",\"1970-01-01T05:00:22\",\"1970-01-01T05:33:42\",\"1970-01-01T05:33:42\",\"1970-01-01T05:33:42\",\"1970-01-01T10:08:42\",\"1970-01-01T10:08:42\",\"1970-01-01T10:42:02\",\"1970-01-01T10:42:02\",\"1970-01-01T10:42:02\",\"1970-01-01T14:35:22\",\"1970-01-01T14:35:22\",\"1970-01-01T15:08:42\",\"1970-01-01T15:08:42\",\"1970-01-01T15:08:42\",\"1970-01-01T05:00:22\",\"1970-01-01T05:00:22\",\"1970-01-01T05:33:42\",\"1970-01-01T05:33:42\",\"1970-01-01T05:33:42\",\"1970-01-01T10:08:42\",\"1970-01-01T10:08:42\",\"1970-01-01T10:42:02\",\"1970-01-01T10:42:02\",\"1970-01-01T10:42:02\",\"1970-01-01T14:35:22\",\"1970-01-01T14:35:22\",\"1970-01-01T15:08:42\",\"1970-01-01T15:08:42\",\"1970-01-01T15:08:42\",\"1970-01-01T05:00:22\",\"1970-01-01T05:00:22\",\"1970-01-01T05:33:42\",\"1970-01-01T05:33:42\",\"1970-01-01T05:33:42\",\"1970-01-01T10:08:42\",\"1970-01-01T10:08:42\",\"1970-01-01T10:42:02\",\"1970-01-01T10:42:02\",\"1970-01-01T10:42:02\",\"1970-01-01T14:35:22\",\"1970-01-01T14:35:22\",\"1970-01-01T15:08:42\",\"1970-01-01T15:08:42\",\"1970-01-01T15:08:42\"],\"y\":[\"Barge I\",\"Barge I\",\"Barge I\",\"Barge I\",null,\"Barge I\",\"Barge I\",\"Barge I\",\"Barge I\",null,\"Barge I\",\"Barge I\",\"Barge I\",\"Barge I\",null,\"Cutter T\",\"Cutter T\",\"Cutter T\",\"Cutter T\",null,\"Cutter T\",\"Cutter T\",\"Cutter T\",\"Cutter T\",null,\"Cutter T\",\"Cutter T\",\"Cutter T\",\"Cutter T\",null,\"Trench\",\"Trench\",\"Trench\",\"Trench\",null,\"Trench\",\"Trench\",\"Trench\",\"Trench\",null,\"Trench\",\"Trench\",\"Trench\",\"Trench\",null],\"type\":\"scatter\"},{\"connectgaps\":false,\"hoverinfo\":\"y+name\",\"line\":{\"color\":\"rgb(64,56,205)\",\"width\":10},\"mode\":\"lines\",\"name\":\"basic activity:Barge I\",\"x\":[\"1970-01-01T00:00:00\",\"1970-01-01T00:00:00\",\"1970-01-01T00:46:47\",\"1970-01-01T00:46:47\",\"1970-01-01T00:46:47\",\"1970-01-01T07:07:16\",\"1970-01-01T07:07:16\",\"1970-01-01T07:54:03\",\"1970-01-01T07:54:03\",\"1970-01-01T07:54:03\",\"1970-01-01T12:15:36\",\"1970-01-01T12:15:36\",\"1970-01-01T13:02:23\",\"1970-01-01T13:02:23\",\"1970-01-01T13:02:23\"],\"y\":[\"Barge I\",\"Barge I\",\"Barge I\",\"Barge I\",null,\"Barge I\",\"Barge I\",\"Barge I\",\"Barge I\",null,\"Barge I\",\"Barge I\",\"Barge I\",\"Barge I\",null],\"type\":\"scatter\"},{\"connectgaps\":false,\"hoverinfo\":\"y+name\",\"line\":{\"color\":\"rgb(68,60,209)\",\"width\":10},\"mode\":\"lines\",\"name\":\"unloading:Barge I\",\"x\":[\"1970-01-01T06:20:29\",\"1970-01-01T06:20:29\",\"1970-01-01T07:07:16\",\"1970-01-01T07:07:16\",\"1970-01-01T07:07:16\",\"1970-01-01T11:28:49\",\"1970-01-01T11:28:49\",\"1970-01-01T12:15:36\",\"1970-01-01T12:15:36\",\"1970-01-01T12:15:36\",\"1970-01-01T15:55:29\",\"1970-01-01T15:55:29\",\"1970-01-01T16:42:16\",\"1970-01-01T16:42:16\",\"1970-01-01T16:42:16\",\"1970-01-01T06:20:29\",\"1970-01-01T06:20:29\",\"1970-01-01T07:07:16\",\"1970-01-01T07:07:16\",\"1970-01-01T07:07:16\",\"1970-01-01T11:28:49\",\"1970-01-01T11:28:49\",\"1970-01-01T12:15:36\",\"1970-01-01T12:15:36\",\"1970-01-01T12:15:36\",\"1970-01-01T15:55:29\",\"1970-01-01T15:55:29\",\"1970-01-01T16:42:16\",\"1970-01-01T16:42:16\",\"1970-01-01T16:42:16\"],\"y\":[\"Barge I\",\"Barge I\",\"Barge I\",\"Barge I\",null,\"Barge I\",\"Barge I\",\"Barge I\",\"Barge I\",null,\"Barge I\",\"Barge I\",\"Barge I\",\"Barge I\",null,\"Reclamation\",\"Reclamation\",\"Reclamation\",\"Reclamation\",null,\"Reclamation\",\"Reclamation\",\"Reclamation\",\"Reclamation\",null,\"Reclamation\",\"Reclamation\",\"Reclamation\",\"Reclamation\",null],\"type\":\"scatter\"},{\"connectgaps\":false,\"hoverinfo\":\"y+name\",\"line\":{\"color\":\"rgb(72,64,213)\",\"width\":10},\"mode\":\"lines\",\"name\":\"sailing empty:Barge I\",\"x\":[\"1970-01-01T00:46:47\",\"1970-01-01T00:46:47\",\"1970-01-01T01:33:34\",\"1970-01-01T01:33:34\",\"1970-01-01T01:33:34\",\"1970-01-01T07:54:03\",\"1970-01-01T07:54:03\",\"1970-01-01T08:40:50\",\"1970-01-01T08:40:50\",\"1970-01-01T08:40:50\",\"1970-01-01T13:02:23\",\"1970-01-01T13:02:23\",\"1970-01-01T13:49:10\",\"1970-01-01T13:49:10\",\"1970-01-01T13:49:10\"],\"y\":[\"Barge I\",\"Barge I\",\"Barge I\",\"Barge I\",null,\"Barge I\",\"Barge I\",\"Barge I\",\"Barge I\",null,\"Barge I\",\"Barge I\",\"Barge I\",\"Barge I\",null],\"type\":\"scatter\"},{\"connectgaps\":false,\"hoverinfo\":\"y+name\",\"line\":{\"color\":\"rgb(76,68,217)\",\"width\":10},\"mode\":\"lines\",\"name\":\"sailing full:Barge I\",\"x\":[\"1970-01-01T05:33:42\",\"1970-01-01T05:33:42\",\"1970-01-01T06:20:29\",\"1970-01-01T06:20:29\",\"1970-01-01T06:20:29\",\"1970-01-01T10:42:02\",\"1970-01-01T10:42:02\",\"1970-01-01T11:28:49\",\"1970-01-01T11:28:49\",\"1970-01-01T11:28:49\",\"1970-01-01T15:08:42\",\"1970-01-01T15:08:42\",\"1970-01-01T15:55:29\",\"1970-01-01T15:55:29\",\"1970-01-01T15:55:29\"],\"y\":[\"Barge I\",\"Barge I\",\"Barge I\",\"Barge I\",null,\"Barge I\",\"Barge I\",\"Barge I\",\"Barge I\",null,\"Barge I\",\"Barge I\",\"Barge I\",\"Barge I\",null],\"type\":\"scatter\"},{\"connectgaps\":false,\"hoverinfo\":\"y+name\",\"line\":{\"color\":\"rgb(80,72,221)\",\"width\":10},\"mode\":\"lines\",\"name\":\"sailing full:Barge II\",\"x\":[\"1970-01-01T05:00:22\",\"1970-01-01T05:00:22\",\"1970-01-01T05:44:13\",\"1970-01-01T05:44:13\",\"1970-01-01T05:44:13\",\"1970-01-01T09:27:02\",\"1970-01-01T09:27:02\",\"1970-01-01T10:10:53\",\"1970-01-01T10:10:53\",\"1970-01-01T10:10:53\",\"1970-01-01T13:53:42\",\"1970-01-01T13:53:42\",\"1970-01-01T14:37:33\",\"1970-01-01T14:37:33\",\"1970-01-01T14:37:33\"],\"y\":[\"Barge II\",\"Barge II\",\"Barge II\",\"Barge II\",null,\"Barge II\",\"Barge II\",\"Barge II\",\"Barge II\",null,\"Barge II\",\"Barge II\",\"Barge II\",\"Barge II\",null],\"type\":\"scatter\"},{\"connectgaps\":false,\"hoverinfo\":\"y+name\",\"line\":{\"color\":\"rgb(84,76,225)\",\"width\":10},\"mode\":\"lines\",\"name\":\"unloading:Barge II\",\"x\":[\"1970-01-01T05:44:13\",\"1970-01-01T05:44:13\",\"1970-01-01T06:28:04\",\"1970-01-01T06:28:04\",\"1970-01-01T06:28:04\",\"1970-01-01T10:10:53\",\"1970-01-01T10:10:53\",\"1970-01-01T10:54:44\",\"1970-01-01T10:54:44\",\"1970-01-01T10:54:44\",\"1970-01-01T14:37:33\",\"1970-01-01T14:37:33\",\"1970-01-01T15:21:24\",\"1970-01-01T15:21:24\",\"1970-01-01T15:21:24\",\"1970-01-01T05:44:13\",\"1970-01-01T05:44:13\",\"1970-01-01T06:28:04\",\"1970-01-01T06:28:04\",\"1970-01-01T06:28:04\",\"1970-01-01T10:10:53\",\"1970-01-01T10:10:53\",\"1970-01-01T10:54:44\",\"1970-01-01T10:54:44\",\"1970-01-01T10:54:44\",\"1970-01-01T14:37:33\",\"1970-01-01T14:37:33\",\"1970-01-01T15:21:24\",\"1970-01-01T15:21:24\",\"1970-01-01T15:21:24\"],\"y\":[\"Barge II\",\"Barge II\",\"Barge II\",\"Barge II\",null,\"Barge II\",\"Barge II\",\"Barge II\",\"Barge II\",null,\"Barge II\",\"Barge II\",\"Barge II\",\"Barge II\",null,\"Reclamation\",\"Reclamation\",\"Reclamation\",\"Reclamation\",null,\"Reclamation\",\"Reclamation\",\"Reclamation\",\"Reclamation\",null,\"Reclamation\",\"Reclamation\",\"Reclamation\",\"Reclamation\",null],\"type\":\"scatter\"},{\"connectgaps\":false,\"hoverinfo\":\"y+name\",\"line\":{\"color\":\"rgb(88,80,229)\",\"width\":10},\"mode\":\"lines\",\"name\":\"sailing empty:Barge II\",\"x\":[\"1970-01-01T00:43:51\",\"1970-01-01T00:43:51\",\"1970-01-01T01:27:42\",\"1970-01-01T01:27:42\",\"1970-01-01T01:27:42\",\"1970-01-01T07:11:55\",\"1970-01-01T07:11:55\",\"1970-01-01T07:55:46\",\"1970-01-01T07:55:46\",\"1970-01-01T07:55:46\",\"1970-01-01T11:38:35\",\"1970-01-01T11:38:35\",\"1970-01-01T12:22:26\",\"1970-01-01T12:22:26\",\"1970-01-01T12:22:26\"],\"y\":[\"Barge II\",\"Barge II\",\"Barge II\",\"Barge II\",null,\"Barge II\",\"Barge II\",\"Barge II\",\"Barge II\",null,\"Barge II\",\"Barge II\",\"Barge II\",\"Barge II\",null],\"type\":\"scatter\"},{\"connectgaps\":false,\"hoverinfo\":\"y+name\",\"line\":{\"color\":\"rgb(92,84,233)\",\"width\":10},\"mode\":\"lines\",\"name\":\"loading:Barge II\",\"x\":[\"1970-01-01T04:18:42\",\"1970-01-01T04:18:42\",\"1970-01-01T05:00:22\",\"1970-01-01T05:00:22\",\"1970-01-01T05:00:22\",\"1970-01-01T08:45:22\",\"1970-01-01T08:45:22\",\"1970-01-01T09:27:02\",\"1970-01-01T09:27:02\",\"1970-01-01T09:27:02\",\"1970-01-01T13:12:02\",\"1970-01-01T13:12:02\",\"1970-01-01T13:53:42\",\"1970-01-01T13:53:42\",\"1970-01-01T13:53:42\",\"1970-01-01T04:18:42\",\"1970-01-01T04:18:42\",\"1970-01-01T05:00:22\",\"1970-01-01T05:00:22\",\"1970-01-01T05:00:22\",\"1970-01-01T08:45:22\",\"1970-01-01T08:45:22\",\"1970-01-01T09:27:02\",\"1970-01-01T09:27:02\",\"1970-01-01T09:27:02\",\"1970-01-01T13:12:02\",\"1970-01-01T13:12:02\",\"1970-01-01T13:53:42\",\"1970-01-01T13:53:42\",\"1970-01-01T13:53:42\",\"1970-01-01T04:18:42\",\"1970-01-01T04:18:42\",\"1970-01-01T05:00:22\",\"1970-01-01T05:00:22\",\"1970-01-01T05:00:22\",\"1970-01-01T08:45:22\",\"1970-01-01T08:45:22\",\"1970-01-01T09:27:02\",\"1970-01-01T09:27:02\",\"1970-01-01T09:27:02\",\"1970-01-01T13:12:02\",\"1970-01-01T13:12:02\",\"1970-01-01T13:53:42\",\"1970-01-01T13:53:42\",\"1970-01-01T13:53:42\"],\"y\":[\"Barge II\",\"Barge II\",\"Barge II\",\"Barge II\",null,\"Barge II\",\"Barge II\",\"Barge II\",\"Barge II\",null,\"Barge II\",\"Barge II\",\"Barge II\",\"Barge II\",null,\"Cutter T\",\"Cutter T\",\"Cutter T\",\"Cutter T\",null,\"Cutter T\",\"Cutter T\",\"Cutter T\",\"Cutter T\",null,\"Cutter T\",\"Cutter T\",\"Cutter T\",\"Cutter T\",null,\"Trench\",\"Trench\",\"Trench\",\"Trench\",null,\"Trench\",\"Trench\",\"Trench\",\"Trench\",null,\"Trench\",\"Trench\",\"Trench\",\"Trench\",null],\"type\":\"scatter\"},{\"connectgaps\":false,\"hoverinfo\":\"y+name\",\"line\":{\"color\":\"rgb(96,88,237)\",\"width\":10},\"mode\":\"lines\",\"name\":\"basic activity:Barge II\",\"x\":[\"1970-01-01T00:00:00\",\"1970-01-01T00:00:00\",\"1970-01-01T00:43:51\",\"1970-01-01T00:43:51\",\"1970-01-01T00:43:51\",\"1970-01-01T06:28:04\",\"1970-01-01T06:28:04\",\"1970-01-01T07:11:55\",\"1970-01-01T07:11:55\",\"1970-01-01T07:11:55\",\"1970-01-01T10:54:44\",\"1970-01-01T10:54:44\",\"1970-01-01T11:38:35\",\"1970-01-01T11:38:35\",\"1970-01-01T11:38:35\"],\"y\":[\"Barge II\",\"Barge II\",\"Barge II\",\"Barge II\",null,\"Barge II\",\"Barge II\",\"Barge II\",\"Barge II\",null,\"Barge II\",\"Barge II\",\"Barge II\",\"Barge II\",null],\"type\":\"scatter\"},{\"connectgaps\":false,\"hoverinfo\":\"y+name\",\"line\":{\"color\":\"rgb(100,92,241)\",\"width\":10},\"mode\":\"lines\",\"name\":\"basic activity:Barge III\",\"x\":[\"1970-01-01T00:00:00\",\"1970-01-01T00:00:00\",\"1970-01-01T00:34:48\",\"1970-01-01T00:34:48\",\"1970-01-01T00:34:48\",\"1970-01-01T04:54:58\",\"1970-01-01T04:54:58\",\"1970-01-01T05:29:46\",\"1970-01-01T05:29:46\",\"1970-01-01T05:29:46\",\"1970-01-01T09:21:38\",\"1970-01-01T09:21:38\",\"1970-01-01T09:56:26\",\"1970-01-01T09:56:26\",\"1970-01-01T09:56:26\"],\"y\":[\"Barge III\",\"Barge III\",\"Barge III\",\"Barge III\",null,\"Barge III\",\"Barge III\",\"Barge III\",\"Barge III\",null,\"Barge III\",\"Barge III\",\"Barge III\",\"Barge III\",null],\"type\":\"scatter\"},{\"connectgaps\":false,\"hoverinfo\":\"y+name\",\"line\":{\"color\":\"rgb(104,96,245)\",\"width\":10},\"mode\":\"lines\",\"name\":\"sailing empty:Barge III\",\"x\":[\"1970-01-01T00:34:48\",\"1970-01-01T00:34:48\",\"1970-01-01T01:09:36\",\"1970-01-01T01:09:36\",\"1970-01-01T01:09:36\",\"1970-01-01T05:29:46\",\"1970-01-01T05:29:46\",\"1970-01-01T06:04:34\",\"1970-01-01T06:04:34\",\"1970-01-01T06:04:34\",\"1970-01-01T09:56:26\",\"1970-01-01T09:56:26\",\"1970-01-01T10:31:14\",\"1970-01-01T10:31:14\",\"1970-01-01T10:31:14\"],\"y\":[\"Barge III\",\"Barge III\",\"Barge III\",\"Barge III\",null,\"Barge III\",\"Barge III\",\"Barge III\",\"Barge III\",null,\"Barge III\",\"Barge III\",\"Barge III\",\"Barge III\",null],\"type\":\"scatter\"},{\"connectgaps\":false,\"hoverinfo\":\"y+name\",\"line\":{\"color\":\"rgb(108,100,249)\",\"width\":10},\"mode\":\"lines\",\"name\":\"loading:Barge III\",\"x\":[\"1970-01-01T03:03:42\",\"1970-01-01T03:03:42\",\"1970-01-01T03:45:22\",\"1970-01-01T03:45:22\",\"1970-01-01T03:45:22\",\"1970-01-01T07:30:22\",\"1970-01-01T07:30:22\",\"1970-01-01T08:12:02\",\"1970-01-01T08:12:02\",\"1970-01-01T08:12:02\",\"1970-01-01T11:57:02\",\"1970-01-01T11:57:02\",\"1970-01-01T12:38:42\",\"1970-01-01T12:38:42\",\"1970-01-01T12:38:42\",\"1970-01-01T03:03:42\",\"1970-01-01T03:03:42\",\"1970-01-01T03:45:22\",\"1970-01-01T03:45:22\",\"1970-01-01T03:45:22\",\"1970-01-01T07:30:22\",\"1970-01-01T07:30:22\",\"1970-01-01T08:12:02\",\"1970-01-01T08:12:02\",\"1970-01-01T08:12:02\",\"1970-01-01T11:57:02\",\"1970-01-01T11:57:02\",\"1970-01-01T12:38:42\",\"1970-01-01T12:38:42\",\"1970-01-01T12:38:42\",\"1970-01-01T03:03:42\",\"1970-01-01T03:03:42\",\"1970-01-01T03:45:22\",\"1970-01-01T03:45:22\",\"1970-01-01T03:45:22\",\"1970-01-01T07:30:22\",\"1970-01-01T07:30:22\",\"1970-01-01T08:12:02\",\"1970-01-01T08:12:02\",\"1970-01-01T08:12:02\",\"1970-01-01T11:57:02\",\"1970-01-01T11:57:02\",\"1970-01-01T12:38:42\",\"1970-01-01T12:38:42\",\"1970-01-01T12:38:42\"],\"y\":[\"Barge III\",\"Barge III\",\"Barge III\",\"Barge III\",null,\"Barge III\",\"Barge III\",\"Barge III\",\"Barge III\",null,\"Barge III\",\"Barge III\",\"Barge III\",\"Barge III\",null,\"Cutter T\",\"Cutter T\",\"Cutter T\",\"Cutter T\",null,\"Cutter T\",\"Cutter T\",\"Cutter T\",\"Cutter T\",null,\"Cutter T\",\"Cutter T\",\"Cutter T\",\"Cutter T\",null,\"Trench\",\"Trench\",\"Trench\",\"Trench\",null,\"Trench\",\"Trench\",\"Trench\",\"Trench\",null,\"Trench\",\"Trench\",\"Trench\",\"Trench\",null],\"type\":\"scatter\"},{\"connectgaps\":false,\"hoverinfo\":\"y+name\",\"line\":{\"color\":\"rgb(112,104,253)\",\"width\":10},\"mode\":\"lines\",\"name\":\"sailing full:Barge III\",\"x\":[\"1970-01-01T03:45:22\",\"1970-01-01T03:45:22\",\"1970-01-01T04:20:10\",\"1970-01-01T04:20:10\",\"1970-01-01T04:20:10\",\"1970-01-01T08:12:02\",\"1970-01-01T08:12:02\",\"1970-01-01T08:46:50\",\"1970-01-01T08:46:50\",\"1970-01-01T08:46:50\",\"1970-01-01T12:38:42\",\"1970-01-01T12:38:42\",\"1970-01-01T13:13:30\",\"1970-01-01T13:13:30\",\"1970-01-01T13:13:30\"],\"y\":[\"Barge III\",\"Barge III\",\"Barge III\",\"Barge III\",null,\"Barge III\",\"Barge III\",\"Barge III\",\"Barge III\",null,\"Barge III\",\"Barge III\",\"Barge III\",\"Barge III\",null],\"type\":\"scatter\"},{\"connectgaps\":false,\"hoverinfo\":\"y+name\",\"line\":{\"color\":\"rgb(116,108,1)\",\"width\":10},\"mode\":\"lines\",\"name\":\"unloading:Barge III\",\"x\":[\"1970-01-01T04:20:10\",\"1970-01-01T04:20:10\",\"1970-01-01T04:54:58\",\"1970-01-01T04:54:58\",\"1970-01-01T04:54:58\",\"1970-01-01T08:46:50\",\"1970-01-01T08:46:50\",\"1970-01-01T09:21:38\",\"1970-01-01T09:21:38\",\"1970-01-01T09:21:38\",\"1970-01-01T13:13:30\",\"1970-01-01T13:13:30\",\"1970-01-01T13:48:18\",\"1970-01-01T13:48:18\",\"1970-01-01T13:48:18\",\"1970-01-01T04:20:10\",\"1970-01-01T04:20:10\",\"1970-01-01T04:54:58\",\"1970-01-01T04:54:58\",\"1970-01-01T04:54:58\",\"1970-01-01T08:46:50\",\"1970-01-01T08:46:50\",\"1970-01-01T09:21:38\",\"1970-01-01T09:21:38\",\"1970-01-01T09:21:38\",\"1970-01-01T13:13:30\",\"1970-01-01T13:13:30\",\"1970-01-01T13:48:18\",\"1970-01-01T13:48:18\",\"1970-01-01T13:48:18\"],\"y\":[\"Barge III\",\"Barge III\",\"Barge III\",\"Barge III\",null,\"Barge III\",\"Barge III\",\"Barge III\",\"Barge III\",null,\"Barge III\",\"Barge III\",\"Barge III\",\"Barge III\",null,\"Reclamation\",\"Reclamation\",\"Reclamation\",\"Reclamation\",null,\"Reclamation\",\"Reclamation\",\"Reclamation\",\"Reclamation\",null,\"Reclamation\",\"Reclamation\",\"Reclamation\",\"Reclamation\",null],\"type\":\"scatter\"},{\"connectgaps\":false,\"hoverinfo\":\"y+name\",\"line\":{\"color\":\"rgb(120,112,5)\",\"width\":10},\"mode\":\"lines\",\"name\":\"unloading:Extra 1\",\"x\":[\"1970-01-01T04:59:12\",\"1970-01-01T04:59:12\",\"1970-01-01T05:39:42\",\"1970-01-01T05:39:42\",\"1970-01-01T05:39:42\",\"1970-01-01T09:25:52\",\"1970-01-01T09:25:52\",\"1970-01-01T10:06:22\",\"1970-01-01T10:06:22\",\"1970-01-01T10:06:22\",\"1970-01-01T13:52:32\",\"1970-01-01T13:52:32\",\"1970-01-01T14:33:02\",\"1970-01-01T14:33:02\",\"1970-01-01T14:33:02\",\"1970-01-01T04:59:12\",\"1970-01-01T04:59:12\",\"1970-01-01T05:39:42\",\"1970-01-01T05:39:42\",\"1970-01-01T05:39:42\",\"1970-01-01T09:25:52\",\"1970-01-01T09:25:52\",\"1970-01-01T10:06:22\",\"1970-01-01T10:06:22\",\"1970-01-01T10:06:22\",\"1970-01-01T13:52:32\",\"1970-01-01T13:52:32\",\"1970-01-01T14:33:02\",\"1970-01-01T14:33:02\",\"1970-01-01T14:33:02\"],\"y\":[\"Extra 1\",\"Extra 1\",\"Extra 1\",\"Extra 1\",null,\"Extra 1\",\"Extra 1\",\"Extra 1\",\"Extra 1\",null,\"Extra 1\",\"Extra 1\",\"Extra 1\",\"Extra 1\",null,\"Reclamation\",\"Reclamation\",\"Reclamation\",\"Reclamation\",null,\"Reclamation\",\"Reclamation\",\"Reclamation\",\"Reclamation\",null,\"Reclamation\",\"Reclamation\",\"Reclamation\",\"Reclamation\",null],\"type\":\"scatter\"},{\"connectgaps\":false,\"hoverinfo\":\"y+name\",\"line\":{\"color\":\"rgb(124,116,9)\",\"width\":10},\"mode\":\"lines\",\"name\":\"sailing empty:Extra 1\",\"x\":[\"1970-01-01T00:40:30\",\"1970-01-01T00:40:30\",\"1970-01-01T01:21:00\",\"1970-01-01T01:21:00\",\"1970-01-01T01:21:00\",\"1970-01-01T06:20:12\",\"1970-01-01T06:20:12\",\"1970-01-01T07:00:42\",\"1970-01-01T07:00:42\",\"1970-01-01T07:00:42\",\"1970-01-01T10:46:52\",\"1970-01-01T10:46:52\",\"1970-01-01T11:27:22\",\"1970-01-01T11:27:22\",\"1970-01-01T11:27:22\"],\"y\":[\"Extra 1\",\"Extra 1\",\"Extra 1\",\"Extra 1\",null,\"Extra 1\",\"Extra 1\",\"Extra 1\",\"Extra 1\",null,\"Extra 1\",\"Extra 1\",\"Extra 1\",\"Extra 1\",null],\"type\":\"scatter\"},{\"connectgaps\":false,\"hoverinfo\":\"y+name\",\"line\":{\"color\":\"rgb(128,120,13)\",\"width\":10},\"mode\":\"lines\",\"name\":\"loading:Extra 1\",\"x\":[\"1970-01-01T03:45:22\",\"1970-01-01T03:45:22\",\"1970-01-01T04:18:42\",\"1970-01-01T04:18:42\",\"1970-01-01T04:18:42\",\"1970-01-01T08:12:02\",\"1970-01-01T08:12:02\",\"1970-01-01T08:45:22\",\"1970-01-01T08:45:22\",\"1970-01-01T08:45:22\",\"1970-01-01T12:38:42\",\"1970-01-01T12:38:42\",\"1970-01-01T13:12:02\",\"1970-01-01T13:12:02\",\"1970-01-01T13:12:02\",\"1970-01-01T03:45:22\",\"1970-01-01T03:45:22\",\"1970-01-01T04:18:42\",\"1970-01-01T04:18:42\",\"1970-01-01T04:18:42\",\"1970-01-01T08:12:02\",\"1970-01-01T08:12:02\",\"1970-01-01T08:45:22\",\"1970-01-01T08:45:22\",\"1970-01-01T08:45:22\",\"1970-01-01T12:38:42\",\"1970-01-01T12:38:42\",\"1970-01-01T13:12:02\",\"1970-01-01T13:12:02\",\"1970-01-01T13:12:02\",\"1970-01-01T03:45:22\",\"1970-01-01T03:45:22\",\"1970-01-01T04:18:42\",\"1970-01-01T04:18:42\",\"1970-01-01T04:18:42\",\"1970-01-01T08:12:02\",\"1970-01-01T08:12:02\",\"1970-01-01T08:45:22\",\"1970-01-01T08:45:22\",\"1970-01-01T08:45:22\",\"1970-01-01T12:38:42\",\"1970-01-01T12:38:42\",\"1970-01-01T13:12:02\",\"1970-01-01T13:12:02\",\"1970-01-01T13:12:02\"],\"y\":[\"Extra 1\",\"Extra 1\",\"Extra 1\",\"Extra 1\",null,\"Extra 1\",\"Extra 1\",\"Extra 1\",\"Extra 1\",null,\"Extra 1\",\"Extra 1\",\"Extra 1\",\"Extra 1\",null,\"Cutter T\",\"Cutter T\",\"Cutter T\",\"Cutter T\",null,\"Cutter T\",\"Cutter T\",\"Cutter T\",\"Cutter T\",null,\"Cutter T\",\"Cutter T\",\"Cutter T\",\"Cutter T\",null,\"Trench\",\"Trench\",\"Trench\",\"Trench\",null,\"Trench\",\"Trench\",\"Trench\",\"Trench\",null,\"Trench\",\"Trench\",\"Trench\",\"Trench\",null],\"type\":\"scatter\"},{\"connectgaps\":false,\"hoverinfo\":\"y+name\",\"line\":{\"color\":\"rgb(132,124,17)\",\"width\":10},\"mode\":\"lines\",\"name\":\"sailing full:Extra 1\",\"x\":[\"1970-01-01T04:18:42\",\"1970-01-01T04:18:42\",\"1970-01-01T04:59:12\",\"1970-01-01T04:59:12\",\"1970-01-01T04:59:12\",\"1970-01-01T08:45:22\",\"1970-01-01T08:45:22\",\"1970-01-01T09:25:52\",\"1970-01-01T09:25:52\",\"1970-01-01T09:25:52\",\"1970-01-01T13:12:02\",\"1970-01-01T13:12:02\",\"1970-01-01T13:52:32\",\"1970-01-01T13:52:32\",\"1970-01-01T13:52:32\"],\"y\":[\"Extra 1\",\"Extra 1\",\"Extra 1\",\"Extra 1\",null,\"Extra 1\",\"Extra 1\",\"Extra 1\",\"Extra 1\",null,\"Extra 1\",\"Extra 1\",\"Extra 1\",\"Extra 1\",null],\"type\":\"scatter\"},{\"connectgaps\":false,\"hoverinfo\":\"y+name\",\"line\":{\"color\":\"rgb(136,128,21)\",\"width\":10},\"mode\":\"lines\",\"name\":\"basic activity:Extra 1\",\"x\":[\"1970-01-01T00:00:00\",\"1970-01-01T00:00:00\",\"1970-01-01T00:40:30\",\"1970-01-01T00:40:30\",\"1970-01-01T00:40:30\",\"1970-01-01T05:39:42\",\"1970-01-01T05:39:42\",\"1970-01-01T06:20:12\",\"1970-01-01T06:20:12\",\"1970-01-01T06:20:12\",\"1970-01-01T10:06:22\",\"1970-01-01T10:06:22\",\"1970-01-01T10:46:52\",\"1970-01-01T10:46:52\",\"1970-01-01T10:46:52\"],\"y\":[\"Extra 1\",\"Extra 1\",\"Extra 1\",\"Extra 1\",null,\"Extra 1\",\"Extra 1\",\"Extra 1\",\"Extra 1\",null,\"Extra 1\",\"Extra 1\",\"Extra 1\",\"Extra 1\",null],\"type\":\"scatter\"},{\"connectgaps\":false,\"hoverinfo\":\"y+name\",\"line\":{\"color\":\"rgb(140,132,25)\",\"width\":10},\"mode\":\"lines\",\"name\":\"loading:Carrier A\",\"x\":[\"1970-01-01T02:22:02\",\"1970-01-01T02:22:02\",\"1970-01-01T03:03:42\",\"1970-01-01T03:03:42\",\"1970-01-01T03:03:42\",\"1970-01-01T06:48:42\",\"1970-01-01T06:48:42\",\"1970-01-01T07:30:22\",\"1970-01-01T07:30:22\",\"1970-01-01T07:30:22\",\"1970-01-01T11:15:22\",\"1970-01-01T11:15:22\",\"1970-01-01T11:57:02\",\"1970-01-01T11:57:02\",\"1970-01-01T11:57:02\",\"1970-01-01T02:22:02\",\"1970-01-01T02:22:02\",\"1970-01-01T03:03:42\",\"1970-01-01T03:03:42\",\"1970-01-01T03:03:42\",\"1970-01-01T06:48:42\",\"1970-01-01T06:48:42\",\"1970-01-01T07:30:22\",\"1970-01-01T07:30:22\",\"1970-01-01T07:30:22\",\"1970-01-01T11:15:22\",\"1970-01-01T11:15:22\",\"1970-01-01T11:57:02\",\"1970-01-01T11:57:02\",\"1970-01-01T11:57:02\",\"1970-01-01T02:22:02\",\"1970-01-01T02:22:02\",\"1970-01-01T03:03:42\",\"1970-01-01T03:03:42\",\"1970-01-01T03:03:42\",\"1970-01-01T06:48:42\",\"1970-01-01T06:48:42\",\"1970-01-01T07:30:22\",\"1970-01-01T07:30:22\",\"1970-01-01T07:30:22\",\"1970-01-01T11:15:22\",\"1970-01-01T11:15:22\",\"1970-01-01T11:57:02\",\"1970-01-01T11:57:02\",\"1970-01-01T11:57:02\"],\"y\":[\"Carrier A\",\"Carrier A\",\"Carrier A\",\"Carrier A\",null,\"Carrier A\",\"Carrier A\",\"Carrier A\",\"Carrier A\",null,\"Carrier A\",\"Carrier A\",\"Carrier A\",\"Carrier A\",null,\"Cutter T\",\"Cutter T\",\"Cutter T\",\"Cutter T\",null,\"Cutter T\",\"Cutter T\",\"Cutter T\",\"Cutter T\",null,\"Cutter T\",\"Cutter T\",\"Cutter T\",\"Cutter T\",null,\"Trench\",\"Trench\",\"Trench\",\"Trench\",null,\"Trench\",\"Trench\",\"Trench\",\"Trench\",null,\"Trench\",\"Trench\",\"Trench\",\"Trench\",null],\"type\":\"scatter\"},{\"connectgaps\":false,\"hoverinfo\":\"y+name\",\"line\":{\"color\":\"rgb(144,136,29)\",\"width\":10},\"mode\":\"lines\",\"name\":\"loading:Barge I\",\"x\":[\"1970-01-01T05:00:22\",\"1970-01-01T05:00:22\",\"1970-01-01T05:33:42\",\"1970-01-01T05:33:42\",\"1970-01-01T05:33:42\",\"1970-01-01T10:08:42\",\"1970-01-01T10:08:42\",\"1970-01-01T10:42:02\",\"1970-01-01T10:42:02\",\"1970-01-01T10:42:02\",\"1970-01-01T14:35:22\",\"1970-01-01T14:35:22\",\"1970-01-01T15:08:42\",\"1970-01-01T15:08:42\",\"1970-01-01T15:08:42\",\"1970-01-01T05:00:22\",\"1970-01-01T05:00:22\",\"1970-01-01T05:33:42\",\"1970-01-01T05:33:42\",\"1970-01-01T05:33:42\",\"1970-01-01T10:08:42\",\"1970-01-01T10:08:42\",\"1970-01-01T10:42:02\",\"1970-01-01T10:42:02\",\"1970-01-01T10:42:02\",\"1970-01-01T14:35:22\",\"1970-01-01T14:35:22\",\"1970-01-01T15:08:42\",\"1970-01-01T15:08:42\",\"1970-01-01T15:08:42\",\"1970-01-01T05:00:22\",\"1970-01-01T05:00:22\",\"1970-01-01T05:33:42\",\"1970-01-01T05:33:42\",\"1970-01-01T05:33:42\",\"1970-01-01T10:08:42\",\"1970-01-01T10:08:42\",\"1970-01-01T10:42:02\",\"1970-01-01T10:42:02\",\"1970-01-01T10:42:02\",\"1970-01-01T14:35:22\",\"1970-01-01T14:35:22\",\"1970-01-01T15:08:42\",\"1970-01-01T15:08:42\",\"1970-01-01T15:08:42\"],\"y\":[\"Barge I\",\"Barge I\",\"Barge I\",\"Barge I\",null,\"Barge I\",\"Barge I\",\"Barge I\",\"Barge I\",null,\"Barge I\",\"Barge I\",\"Barge I\",\"Barge I\",null,\"Cutter T\",\"Cutter T\",\"Cutter T\",\"Cutter T\",null,\"Cutter T\",\"Cutter T\",\"Cutter T\",\"Cutter T\",null,\"Cutter T\",\"Cutter T\",\"Cutter T\",\"Cutter T\",null,\"Trench\",\"Trench\",\"Trench\",\"Trench\",null,\"Trench\",\"Trench\",\"Trench\",\"Trench\",null,\"Trench\",\"Trench\",\"Trench\",\"Trench\",null],\"type\":\"scatter\"},{\"connectgaps\":false,\"hoverinfo\":\"y+name\",\"line\":{\"color\":\"rgb(148,140,33)\",\"width\":10},\"mode\":\"lines\",\"name\":\"loading:Extra 1\",\"x\":[\"1970-01-01T03:45:22\",\"1970-01-01T03:45:22\",\"1970-01-01T04:18:42\",\"1970-01-01T04:18:42\",\"1970-01-01T04:18:42\",\"1970-01-01T08:12:02\",\"1970-01-01T08:12:02\",\"1970-01-01T08:45:22\",\"1970-01-01T08:45:22\",\"1970-01-01T08:45:22\",\"1970-01-01T12:38:42\",\"1970-01-01T12:38:42\",\"1970-01-01T13:12:02\",\"1970-01-01T13:12:02\",\"1970-01-01T13:12:02\",\"1970-01-01T03:45:22\",\"1970-01-01T03:45:22\",\"1970-01-01T04:18:42\",\"1970-01-01T04:18:42\",\"1970-01-01T04:18:42\",\"1970-01-01T08:12:02\",\"1970-01-01T08:12:02\",\"1970-01-01T08:45:22\",\"1970-01-01T08:45:22\",\"1970-01-01T08:45:22\",\"1970-01-01T12:38:42\",\"1970-01-01T12:38:42\",\"1970-01-01T13:12:02\",\"1970-01-01T13:12:02\",\"1970-01-01T13:12:02\",\"1970-01-01T03:45:22\",\"1970-01-01T03:45:22\",\"1970-01-01T04:18:42\",\"1970-01-01T04:18:42\",\"1970-01-01T04:18:42\",\"1970-01-01T08:12:02\",\"1970-01-01T08:12:02\",\"1970-01-01T08:45:22\",\"1970-01-01T08:45:22\",\"1970-01-01T08:45:22\",\"1970-01-01T12:38:42\",\"1970-01-01T12:38:42\",\"1970-01-01T13:12:02\",\"1970-01-01T13:12:02\",\"1970-01-01T13:12:02\"],\"y\":[\"Extra 1\",\"Extra 1\",\"Extra 1\",\"Extra 1\",null,\"Extra 1\",\"Extra 1\",\"Extra 1\",\"Extra 1\",null,\"Extra 1\",\"Extra 1\",\"Extra 1\",\"Extra 1\",null,\"Cutter T\",\"Cutter T\",\"Cutter T\",\"Cutter T\",null,\"Cutter T\",\"Cutter T\",\"Cutter T\",\"Cutter T\",null,\"Cutter T\",\"Cutter T\",\"Cutter T\",\"Cutter T\",null,\"Trench\",\"Trench\",\"Trench\",\"Trench\",null,\"Trench\",\"Trench\",\"Trench\",\"Trench\",null,\"Trench\",\"Trench\",\"Trench\",\"Trench\",null],\"type\":\"scatter\"},{\"connectgaps\":false,\"hoverinfo\":\"y+name\",\"line\":{\"color\":\"rgb(152,144,37)\",\"width\":10},\"mode\":\"lines\",\"name\":\"loading:Barge III\",\"x\":[\"1970-01-01T03:03:42\",\"1970-01-01T03:03:42\",\"1970-01-01T03:45:22\",\"1970-01-01T03:45:22\",\"1970-01-01T03:45:22\",\"1970-01-01T07:30:22\",\"1970-01-01T07:30:22\",\"1970-01-01T08:12:02\",\"1970-01-01T08:12:02\",\"1970-01-01T08:12:02\",\"1970-01-01T11:57:02\",\"1970-01-01T11:57:02\",\"1970-01-01T12:38:42\",\"1970-01-01T12:38:42\",\"1970-01-01T12:38:42\",\"1970-01-01T03:03:42\",\"1970-01-01T03:03:42\",\"1970-01-01T03:45:22\",\"1970-01-01T03:45:22\",\"1970-01-01T03:45:22\",\"1970-01-01T07:30:22\",\"1970-01-01T07:30:22\",\"1970-01-01T08:12:02\",\"1970-01-01T08:12:02\",\"1970-01-01T08:12:02\",\"1970-01-01T11:57:02\",\"1970-01-01T11:57:02\",\"1970-01-01T12:38:42\",\"1970-01-01T12:38:42\",\"1970-01-01T12:38:42\",\"1970-01-01T03:03:42\",\"1970-01-01T03:03:42\",\"1970-01-01T03:45:22\",\"1970-01-01T03:45:22\",\"1970-01-01T03:45:22\",\"1970-01-01T07:30:22\",\"1970-01-01T07:30:22\",\"1970-01-01T08:12:02\",\"1970-01-01T08:12:02\",\"1970-01-01T08:12:02\",\"1970-01-01T11:57:02\",\"1970-01-01T11:57:02\",\"1970-01-01T12:38:42\",\"1970-01-01T12:38:42\",\"1970-01-01T12:38:42\"],\"y\":[\"Barge III\",\"Barge III\",\"Barge III\",\"Barge III\",null,\"Barge III\",\"Barge III\",\"Barge III\",\"Barge III\",null,\"Barge III\",\"Barge III\",\"Barge III\",\"Barge III\",null,\"Cutter T\",\"Cutter T\",\"Cutter T\",\"Cutter T\",null,\"Cutter T\",\"Cutter T\",\"Cutter T\",\"Cutter T\",null,\"Cutter T\",\"Cutter T\",\"Cutter T\",\"Cutter T\",null,\"Trench\",\"Trench\",\"Trench\",\"Trench\",null,\"Trench\",\"Trench\",\"Trench\",\"Trench\",null,\"Trench\",\"Trench\",\"Trench\",\"Trench\",null],\"type\":\"scatter\"},{\"connectgaps\":false,\"hoverinfo\":\"y+name\",\"line\":{\"color\":\"rgb(156,148,41)\",\"width\":10},\"mode\":\"lines\",\"name\":\"loading:Carrier C\",\"x\":[\"1970-01-01T01:07:02\",\"1970-01-01T01:07:02\",\"1970-01-01T01:48:42\",\"1970-01-01T01:48:42\",\"1970-01-01T01:48:42\",\"1970-01-01T05:33:42\",\"1970-01-01T05:33:42\",\"1970-01-01T06:15:22\",\"1970-01-01T06:15:22\",\"1970-01-01T06:15:22\",\"1970-01-01T09:27:02\",\"1970-01-01T09:27:02\",\"1970-01-01T10:08:42\",\"1970-01-01T10:08:42\",\"1970-01-01T10:08:42\",\"1970-01-01T13:53:42\",\"1970-01-01T13:53:42\",\"1970-01-01T14:35:22\",\"1970-01-01T14:35:22\",\"1970-01-01T14:35:22\",\"1970-01-01T01:07:02\",\"1970-01-01T01:07:02\",\"1970-01-01T01:48:42\",\"1970-01-01T01:48:42\",\"1970-01-01T01:48:42\",\"1970-01-01T05:33:42\",\"1970-01-01T05:33:42\",\"1970-01-01T06:15:22\",\"1970-01-01T06:15:22\",\"1970-01-01T06:15:22\",\"1970-01-01T09:27:02\",\"1970-01-01T09:27:02\",\"1970-01-01T10:08:42\",\"1970-01-01T10:08:42\",\"1970-01-01T10:08:42\",\"1970-01-01T13:53:42\",\"1970-01-01T13:53:42\",\"1970-01-01T14:35:22\",\"1970-01-01T14:35:22\",\"1970-01-01T14:35:22\",\"1970-01-01T01:07:02\",\"1970-01-01T01:07:02\",\"1970-01-01T01:48:42\",\"1970-01-01T01:48:42\",\"1970-01-01T01:48:42\",\"1970-01-01T05:33:42\",\"1970-01-01T05:33:42\",\"1970-01-01T06:15:22\",\"1970-01-01T06:15:22\",\"1970-01-01T06:15:22\",\"1970-01-01T09:27:02\",\"1970-01-01T09:27:02\",\"1970-01-01T10:08:42\",\"1970-01-01T10:08:42\",\"1970-01-01T10:08:42\",\"1970-01-01T13:53:42\",\"1970-01-01T13:53:42\",\"1970-01-01T14:35:22\",\"1970-01-01T14:35:22\",\"1970-01-01T14:35:22\"],\"y\":[\"Carrier C\",\"Carrier C\",\"Carrier C\",\"Carrier C\",null,\"Carrier C\",\"Carrier C\",\"Carrier C\",\"Carrier C\",null,\"Carrier C\",\"Carrier C\",\"Carrier C\",\"Carrier C\",null,\"Carrier C\",\"Carrier C\",\"Carrier C\",\"Carrier C\",null,\"Cutter T\",\"Cutter T\",\"Cutter T\",\"Cutter T\",null,\"Cutter T\",\"Cutter T\",\"Cutter T\",\"Cutter T\",null,\"Cutter T\",\"Cutter T\",\"Cutter T\",\"Cutter T\",null,\"Cutter T\",\"Cutter T\",\"Cutter T\",\"Cutter T\",null,\"Trench\",\"Trench\",\"Trench\",\"Trench\",null,\"Trench\",\"Trench\",\"Trench\",\"Trench\",null,\"Trench\",\"Trench\",\"Trench\",\"Trench\",null,\"Trench\",\"Trench\",\"Trench\",\"Trench\",null],\"type\":\"scatter\"},{\"connectgaps\":false,\"hoverinfo\":\"y+name\",\"line\":{\"color\":\"rgb(160,152,45)\",\"width\":10},\"mode\":\"lines\",\"name\":\"loading:Carrier B\",\"x\":[\"1970-01-01T01:48:42\",\"1970-01-01T01:48:42\",\"1970-01-01T02:22:02\",\"1970-01-01T02:22:02\",\"1970-01-01T02:22:02\",\"1970-01-01T06:15:22\",\"1970-01-01T06:15:22\",\"1970-01-01T06:48:42\",\"1970-01-01T06:48:42\",\"1970-01-01T06:48:42\",\"1970-01-01T10:42:02\",\"1970-01-01T10:42:02\",\"1970-01-01T11:15:22\",\"1970-01-01T11:15:22\",\"1970-01-01T11:15:22\",\"1970-01-01T01:48:42\",\"1970-01-01T01:48:42\",\"1970-01-01T02:22:02\",\"1970-01-01T02:22:02\",\"1970-01-01T02:22:02\",\"1970-01-01T06:15:22\",\"1970-01-01T06:15:22\",\"1970-01-01T06:48:42\",\"1970-01-01T06:48:42\",\"1970-01-01T06:48:42\",\"1970-01-01T10:42:02\",\"1970-01-01T10:42:02\",\"1970-01-01T11:15:22\",\"1970-01-01T11:15:22\",\"1970-01-01T11:15:22\",\"1970-01-01T01:48:42\",\"1970-01-01T01:48:42\",\"1970-01-01T02:22:02\",\"1970-01-01T02:22:02\",\"1970-01-01T02:22:02\",\"1970-01-01T06:15:22\",\"1970-01-01T06:15:22\",\"1970-01-01T06:48:42\",\"1970-01-01T06:48:42\",\"1970-01-01T06:48:42\",\"1970-01-01T10:42:02\",\"1970-01-01T10:42:02\",\"1970-01-01T11:15:22\",\"1970-01-01T11:15:22\",\"1970-01-01T11:15:22\"],\"y\":[\"Carrier B\",\"Carrier B\",\"Carrier B\",\"Carrier B\",null,\"Carrier B\",\"Carrier B\",\"Carrier B\",\"Carrier B\",null,\"Carrier B\",\"Carrier B\",\"Carrier B\",\"Carrier B\",null,\"Cutter T\",\"Cutter T\",\"Cutter T\",\"Cutter T\",null,\"Cutter T\",\"Cutter T\",\"Cutter T\",\"Cutter T\",null,\"Cutter T\",\"Cutter T\",\"Cutter T\",\"Cutter T\",null,\"Trench\",\"Trench\",\"Trench\",\"Trench\",null,\"Trench\",\"Trench\",\"Trench\",\"Trench\",null,\"Trench\",\"Trench\",\"Trench\",\"Trench\",null],\"type\":\"scatter\"},{\"connectgaps\":false,\"hoverinfo\":\"y+name\",\"line\":{\"color\":\"rgb(164,156,49)\",\"width\":10},\"mode\":\"lines\",\"name\":\"loading:Barge II\",\"x\":[\"1970-01-01T04:18:42\",\"1970-01-01T04:18:42\",\"1970-01-01T05:00:22\",\"1970-01-01T05:00:22\",\"1970-01-01T05:00:22\",\"1970-01-01T08:45:22\",\"1970-01-01T08:45:22\",\"1970-01-01T09:27:02\",\"1970-01-01T09:27:02\",\"1970-01-01T09:27:02\",\"1970-01-01T13:12:02\",\"1970-01-01T13:12:02\",\"1970-01-01T13:53:42\",\"1970-01-01T13:53:42\",\"1970-01-01T13:53:42\",\"1970-01-01T04:18:42\",\"1970-01-01T04:18:42\",\"1970-01-01T05:00:22\",\"1970-01-01T05:00:22\",\"1970-01-01T05:00:22\",\"1970-01-01T08:45:22\",\"1970-01-01T08:45:22\",\"1970-01-01T09:27:02\",\"1970-01-01T09:27:02\",\"1970-01-01T09:27:02\",\"1970-01-01T13:12:02\",\"1970-01-01T13:12:02\",\"1970-01-01T13:53:42\",\"1970-01-01T13:53:42\",\"1970-01-01T13:53:42\",\"1970-01-01T04:18:42\",\"1970-01-01T04:18:42\",\"1970-01-01T05:00:22\",\"1970-01-01T05:00:22\",\"1970-01-01T05:00:22\",\"1970-01-01T08:45:22\",\"1970-01-01T08:45:22\",\"1970-01-01T09:27:02\",\"1970-01-01T09:27:02\",\"1970-01-01T09:27:02\",\"1970-01-01T13:12:02\",\"1970-01-01T13:12:02\",\"1970-01-01T13:53:42\",\"1970-01-01T13:53:42\",\"1970-01-01T13:53:42\"],\"y\":[\"Barge II\",\"Barge II\",\"Barge II\",\"Barge II\",null,\"Barge II\",\"Barge II\",\"Barge II\",\"Barge II\",null,\"Barge II\",\"Barge II\",\"Barge II\",\"Barge II\",null,\"Cutter T\",\"Cutter T\",\"Cutter T\",\"Cutter T\",null,\"Cutter T\",\"Cutter T\",\"Cutter T\",\"Cutter T\",null,\"Cutter T\",\"Cutter T\",\"Cutter T\",\"Cutter T\",null,\"Trench\",\"Trench\",\"Trench\",\"Trench\",null,\"Trench\",\"Trench\",\"Trench\",\"Trench\",null,\"Trench\",\"Trench\",\"Trench\",\"Trench\",null],\"type\":\"scatter\"},{\"connectgaps\":false,\"hoverinfo\":\"y+name\",\"line\":{\"color\":\"rgb(168,160,53)\",\"width\":10},\"mode\":\"lines\",\"name\":\"loading:Carrier A\",\"x\":[\"1970-01-01T02:22:02\",\"1970-01-01T02:22:02\",\"1970-01-01T03:03:42\",\"1970-01-01T03:03:42\",\"1970-01-01T03:03:42\",\"1970-01-01T06:48:42\",\"1970-01-01T06:48:42\",\"1970-01-01T07:30:22\",\"1970-01-01T07:30:22\",\"1970-01-01T07:30:22\",\"1970-01-01T11:15:22\",\"1970-01-01T11:15:22\",\"1970-01-01T11:57:02\",\"1970-01-01T11:57:02\",\"1970-01-01T11:57:02\",\"1970-01-01T02:22:02\",\"1970-01-01T02:22:02\",\"1970-01-01T03:03:42\",\"1970-01-01T03:03:42\",\"1970-01-01T03:03:42\",\"1970-01-01T06:48:42\",\"1970-01-01T06:48:42\",\"1970-01-01T07:30:22\",\"1970-01-01T07:30:22\",\"1970-01-01T07:30:22\",\"1970-01-01T11:15:22\",\"1970-01-01T11:15:22\",\"1970-01-01T11:57:02\",\"1970-01-01T11:57:02\",\"1970-01-01T11:57:02\",\"1970-01-01T02:22:02\",\"1970-01-01T02:22:02\",\"1970-01-01T03:03:42\",\"1970-01-01T03:03:42\",\"1970-01-01T03:03:42\",\"1970-01-01T06:48:42\",\"1970-01-01T06:48:42\",\"1970-01-01T07:30:22\",\"1970-01-01T07:30:22\",\"1970-01-01T07:30:22\",\"1970-01-01T11:15:22\",\"1970-01-01T11:15:22\",\"1970-01-01T11:57:02\",\"1970-01-01T11:57:02\",\"1970-01-01T11:57:02\"],\"y\":[\"Carrier A\",\"Carrier A\",\"Carrier A\",\"Carrier A\",null,\"Carrier A\",\"Carrier A\",\"Carrier A\",\"Carrier A\",null,\"Carrier A\",\"Carrier A\",\"Carrier A\",\"Carrier A\",null,\"Cutter T\",\"Cutter T\",\"Cutter T\",\"Cutter T\",null,\"Cutter T\",\"Cutter T\",\"Cutter T\",\"Cutter T\",null,\"Cutter T\",\"Cutter T\",\"Cutter T\",\"Cutter T\",null,\"Trench\",\"Trench\",\"Trench\",\"Trench\",null,\"Trench\",\"Trench\",\"Trench\",\"Trench\",null,\"Trench\",\"Trench\",\"Trench\",\"Trench\",null],\"type\":\"scatter\"},{\"connectgaps\":false,\"hoverinfo\":\"y+name\",\"line\":{\"color\":\"rgb(172,164,57)\",\"width\":10},\"mode\":\"lines\",\"name\":\"loading:Barge I\",\"x\":[\"1970-01-01T05:00:22\",\"1970-01-01T05:00:22\",\"1970-01-01T05:33:42\",\"1970-01-01T05:33:42\",\"1970-01-01T05:33:42\",\"1970-01-01T10:08:42\",\"1970-01-01T10:08:42\",\"1970-01-01T10:42:02\",\"1970-01-01T10:42:02\",\"1970-01-01T10:42:02\",\"1970-01-01T14:35:22\",\"1970-01-01T14:35:22\",\"1970-01-01T15:08:42\",\"1970-01-01T15:08:42\",\"1970-01-01T15:08:42\",\"1970-01-01T05:00:22\",\"1970-01-01T05:00:22\",\"1970-01-01T05:33:42\",\"1970-01-01T05:33:42\",\"1970-01-01T05:33:42\",\"1970-01-01T10:08:42\",\"1970-01-01T10:08:42\",\"1970-01-01T10:42:02\",\"1970-01-01T10:42:02\",\"1970-01-01T10:42:02\",\"1970-01-01T14:35:22\",\"1970-01-01T14:35:22\",\"1970-01-01T15:08:42\",\"1970-01-01T15:08:42\",\"1970-01-01T15:08:42\",\"1970-01-01T05:00:22\",\"1970-01-01T05:00:22\",\"1970-01-01T05:33:42\",\"1970-01-01T05:33:42\",\"1970-01-01T05:33:42\",\"1970-01-01T10:08:42\",\"1970-01-01T10:08:42\",\"1970-01-01T10:42:02\",\"1970-01-01T10:42:02\",\"1970-01-01T10:42:02\",\"1970-01-01T14:35:22\",\"1970-01-01T14:35:22\",\"1970-01-01T15:08:42\",\"1970-01-01T15:08:42\",\"1970-01-01T15:08:42\"],\"y\":[\"Barge I\",\"Barge I\",\"Barge I\",\"Barge I\",null,\"Barge I\",\"Barge I\",\"Barge I\",\"Barge I\",null,\"Barge I\",\"Barge I\",\"Barge I\",\"Barge I\",null,\"Cutter T\",\"Cutter T\",\"Cutter T\",\"Cutter T\",null,\"Cutter T\",\"Cutter T\",\"Cutter T\",\"Cutter T\",null,\"Cutter T\",\"Cutter T\",\"Cutter T\",\"Cutter T\",null,\"Trench\",\"Trench\",\"Trench\",\"Trench\",null,\"Trench\",\"Trench\",\"Trench\",\"Trench\",null,\"Trench\",\"Trench\",\"Trench\",\"Trench\",null],\"type\":\"scatter\"},{\"connectgaps\":false,\"hoverinfo\":\"y+name\",\"line\":{\"color\":\"rgb(176,168,61)\",\"width\":10},\"mode\":\"lines\",\"name\":\"loading:Extra 1\",\"x\":[\"1970-01-01T03:45:22\",\"1970-01-01T03:45:22\",\"1970-01-01T04:18:42\",\"1970-01-01T04:18:42\",\"1970-01-01T04:18:42\",\"1970-01-01T08:12:02\",\"1970-01-01T08:12:02\",\"1970-01-01T08:45:22\",\"1970-01-01T08:45:22\",\"1970-01-01T08:45:22\",\"1970-01-01T12:38:42\",\"1970-01-01T12:38:42\",\"1970-01-01T13:12:02\",\"1970-01-01T13:12:02\",\"1970-01-01T13:12:02\",\"1970-01-01T03:45:22\",\"1970-01-01T03:45:22\",\"1970-01-01T04:18:42\",\"1970-01-01T04:18:42\",\"1970-01-01T04:18:42\",\"1970-01-01T08:12:02\",\"1970-01-01T08:12:02\",\"1970-01-01T08:45:22\",\"1970-01-01T08:45:22\",\"1970-01-01T08:45:22\",\"1970-01-01T12:38:42\",\"1970-01-01T12:38:42\",\"1970-01-01T13:12:02\",\"1970-01-01T13:12:02\",\"1970-01-01T13:12:02\",\"1970-01-01T03:45:22\",\"1970-01-01T03:45:22\",\"1970-01-01T04:18:42\",\"1970-01-01T04:18:42\",\"1970-01-01T04:18:42\",\"1970-01-01T08:12:02\",\"1970-01-01T08:12:02\",\"1970-01-01T08:45:22\",\"1970-01-01T08:45:22\",\"1970-01-01T08:45:22\",\"1970-01-01T12:38:42\",\"1970-01-01T12:38:42\",\"1970-01-01T13:12:02\",\"1970-01-01T13:12:02\",\"1970-01-01T13:12:02\"],\"y\":[\"Extra 1\",\"Extra 1\",\"Extra 1\",\"Extra 1\",null,\"Extra 1\",\"Extra 1\",\"Extra 1\",\"Extra 1\",null,\"Extra 1\",\"Extra 1\",\"Extra 1\",\"Extra 1\",null,\"Cutter T\",\"Cutter T\",\"Cutter T\",\"Cutter T\",null,\"Cutter T\",\"Cutter T\",\"Cutter T\",\"Cutter T\",null,\"Cutter T\",\"Cutter T\",\"Cutter T\",\"Cutter T\",null,\"Trench\",\"Trench\",\"Trench\",\"Trench\",null,\"Trench\",\"Trench\",\"Trench\",\"Trench\",null,\"Trench\",\"Trench\",\"Trench\",\"Trench\",null],\"type\":\"scatter\"},{\"connectgaps\":false,\"hoverinfo\":\"y+name\",\"line\":{\"color\":\"rgb(180,172,65)\",\"width\":10},\"mode\":\"lines\",\"name\":\"loading:Barge III\",\"x\":[\"1970-01-01T03:03:42\",\"1970-01-01T03:03:42\",\"1970-01-01T03:45:22\",\"1970-01-01T03:45:22\",\"1970-01-01T03:45:22\",\"1970-01-01T07:30:22\",\"1970-01-01T07:30:22\",\"1970-01-01T08:12:02\",\"1970-01-01T08:12:02\",\"1970-01-01T08:12:02\",\"1970-01-01T11:57:02\",\"1970-01-01T11:57:02\",\"1970-01-01T12:38:42\",\"1970-01-01T12:38:42\",\"1970-01-01T12:38:42\",\"1970-01-01T03:03:42\",\"1970-01-01T03:03:42\",\"1970-01-01T03:45:22\",\"1970-01-01T03:45:22\",\"1970-01-01T03:45:22\",\"1970-01-01T07:30:22\",\"1970-01-01T07:30:22\",\"1970-01-01T08:12:02\",\"1970-01-01T08:12:02\",\"1970-01-01T08:12:02\",\"1970-01-01T11:57:02\",\"1970-01-01T11:57:02\",\"1970-01-01T12:38:42\",\"1970-01-01T12:38:42\",\"1970-01-01T12:38:42\",\"1970-01-01T03:03:42\",\"1970-01-01T03:03:42\",\"1970-01-01T03:45:22\",\"1970-01-01T03:45:22\",\"1970-01-01T03:45:22\",\"1970-01-01T07:30:22\",\"1970-01-01T07:30:22\",\"1970-01-01T08:12:02\",\"1970-01-01T08:12:02\",\"1970-01-01T08:12:02\",\"1970-01-01T11:57:02\",\"1970-01-01T11:57:02\",\"1970-01-01T12:38:42\",\"1970-01-01T12:38:42\",\"1970-01-01T12:38:42\"],\"y\":[\"Barge III\",\"Barge III\",\"Barge III\",\"Barge III\",null,\"Barge III\",\"Barge III\",\"Barge III\",\"Barge III\",null,\"Barge III\",\"Barge III\",\"Barge III\",\"Barge III\",null,\"Cutter T\",\"Cutter T\",\"Cutter T\",\"Cutter T\",null,\"Cutter T\",\"Cutter T\",\"Cutter T\",\"Cutter T\",null,\"Cutter T\",\"Cutter T\",\"Cutter T\",\"Cutter T\",null,\"Trench\",\"Trench\",\"Trench\",\"Trench\",null,\"Trench\",\"Trench\",\"Trench\",\"Trench\",null,\"Trench\",\"Trench\",\"Trench\",\"Trench\",null],\"type\":\"scatter\"},{\"connectgaps\":false,\"hoverinfo\":\"y+name\",\"line\":{\"color\":\"rgb(184,176,69)\",\"width\":10},\"mode\":\"lines\",\"name\":\"loading:Carrier C\",\"x\":[\"1970-01-01T01:07:02\",\"1970-01-01T01:07:02\",\"1970-01-01T01:48:42\",\"1970-01-01T01:48:42\",\"1970-01-01T01:48:42\",\"1970-01-01T05:33:42\",\"1970-01-01T05:33:42\",\"1970-01-01T06:15:22\",\"1970-01-01T06:15:22\",\"1970-01-01T06:15:22\",\"1970-01-01T09:27:02\",\"1970-01-01T09:27:02\",\"1970-01-01T10:08:42\",\"1970-01-01T10:08:42\",\"1970-01-01T10:08:42\",\"1970-01-01T13:53:42\",\"1970-01-01T13:53:42\",\"1970-01-01T14:35:22\",\"1970-01-01T14:35:22\",\"1970-01-01T14:35:22\",\"1970-01-01T01:07:02\",\"1970-01-01T01:07:02\",\"1970-01-01T01:48:42\",\"1970-01-01T01:48:42\",\"1970-01-01T01:48:42\",\"1970-01-01T05:33:42\",\"1970-01-01T05:33:42\",\"1970-01-01T06:15:22\",\"1970-01-01T06:15:22\",\"1970-01-01T06:15:22\",\"1970-01-01T09:27:02\",\"1970-01-01T09:27:02\",\"1970-01-01T10:08:42\",\"1970-01-01T10:08:42\",\"1970-01-01T10:08:42\",\"1970-01-01T13:53:42\",\"1970-01-01T13:53:42\",\"1970-01-01T14:35:22\",\"1970-01-01T14:35:22\",\"1970-01-01T14:35:22\",\"1970-01-01T01:07:02\",\"1970-01-01T01:07:02\",\"1970-01-01T01:48:42\",\"1970-01-01T01:48:42\",\"1970-01-01T01:48:42\",\"1970-01-01T05:33:42\",\"1970-01-01T05:33:42\",\"1970-01-01T06:15:22\",\"1970-01-01T06:15:22\",\"1970-01-01T06:15:22\",\"1970-01-01T09:27:02\",\"1970-01-01T09:27:02\",\"1970-01-01T10:08:42\",\"1970-01-01T10:08:42\",\"1970-01-01T10:08:42\",\"1970-01-01T13:53:42\",\"1970-01-01T13:53:42\",\"1970-01-01T14:35:22\",\"1970-01-01T14:35:22\",\"1970-01-01T14:35:22\"],\"y\":[\"Carrier C\",\"Carrier C\",\"Carrier C\",\"Carrier C\",null,\"Carrier C\",\"Carrier C\",\"Carrier C\",\"Carrier C\",null,\"Carrier C\",\"Carrier C\",\"Carrier C\",\"Carrier C\",null,\"Carrier C\",\"Carrier C\",\"Carrier C\",\"Carrier C\",null,\"Cutter T\",\"Cutter T\",\"Cutter T\",\"Cutter T\",null,\"Cutter T\",\"Cutter T\",\"Cutter T\",\"Cutter T\",null,\"Cutter T\",\"Cutter T\",\"Cutter T\",\"Cutter T\",null,\"Cutter T\",\"Cutter T\",\"Cutter T\",\"Cutter T\",null,\"Trench\",\"Trench\",\"Trench\",\"Trench\",null,\"Trench\",\"Trench\",\"Trench\",\"Trench\",null,\"Trench\",\"Trench\",\"Trench\",\"Trench\",null,\"Trench\",\"Trench\",\"Trench\",\"Trench\",null],\"type\":\"scatter\"},{\"connectgaps\":false,\"hoverinfo\":\"y+name\",\"line\":{\"color\":\"rgb(188,180,73)\",\"width\":10},\"mode\":\"lines\",\"name\":\"loading:Carrier B\",\"x\":[\"1970-01-01T01:48:42\",\"1970-01-01T01:48:42\",\"1970-01-01T02:22:02\",\"1970-01-01T02:22:02\",\"1970-01-01T02:22:02\",\"1970-01-01T06:15:22\",\"1970-01-01T06:15:22\",\"1970-01-01T06:48:42\",\"1970-01-01T06:48:42\",\"1970-01-01T06:48:42\",\"1970-01-01T10:42:02\",\"1970-01-01T10:42:02\",\"1970-01-01T11:15:22\",\"1970-01-01T11:15:22\",\"1970-01-01T11:15:22\",\"1970-01-01T01:48:42\",\"1970-01-01T01:48:42\",\"1970-01-01T02:22:02\",\"1970-01-01T02:22:02\",\"1970-01-01T02:22:02\",\"1970-01-01T06:15:22\",\"1970-01-01T06:15:22\",\"1970-01-01T06:48:42\",\"1970-01-01T06:48:42\",\"1970-01-01T06:48:42\",\"1970-01-01T10:42:02\",\"1970-01-01T10:42:02\",\"1970-01-01T11:15:22\",\"1970-01-01T11:15:22\",\"1970-01-01T11:15:22\",\"1970-01-01T01:48:42\",\"1970-01-01T01:48:42\",\"1970-01-01T02:22:02\",\"1970-01-01T02:22:02\",\"1970-01-01T02:22:02\",\"1970-01-01T06:15:22\",\"1970-01-01T06:15:22\",\"1970-01-01T06:48:42\",\"1970-01-01T06:48:42\",\"1970-01-01T06:48:42\",\"1970-01-01T10:42:02\",\"1970-01-01T10:42:02\",\"1970-01-01T11:15:22\",\"1970-01-01T11:15:22\",\"1970-01-01T11:15:22\"],\"y\":[\"Carrier B\",\"Carrier B\",\"Carrier B\",\"Carrier B\",null,\"Carrier B\",\"Carrier B\",\"Carrier B\",\"Carrier B\",null,\"Carrier B\",\"Carrier B\",\"Carrier B\",\"Carrier B\",null,\"Cutter T\",\"Cutter T\",\"Cutter T\",\"Cutter T\",null,\"Cutter T\",\"Cutter T\",\"Cutter T\",\"Cutter T\",null,\"Cutter T\",\"Cutter T\",\"Cutter T\",\"Cutter T\",null,\"Trench\",\"Trench\",\"Trench\",\"Trench\",null,\"Trench\",\"Trench\",\"Trench\",\"Trench\",null,\"Trench\",\"Trench\",\"Trench\",\"Trench\",null],\"type\":\"scatter\"},{\"connectgaps\":false,\"hoverinfo\":\"y+name\",\"line\":{\"color\":\"rgb(192,184,77)\",\"width\":10},\"mode\":\"lines\",\"name\":\"loading:Barge II\",\"x\":[\"1970-01-01T04:18:42\",\"1970-01-01T04:18:42\",\"1970-01-01T05:00:22\",\"1970-01-01T05:00:22\",\"1970-01-01T05:00:22\",\"1970-01-01T08:45:22\",\"1970-01-01T08:45:22\",\"1970-01-01T09:27:02\",\"1970-01-01T09:27:02\",\"1970-01-01T09:27:02\",\"1970-01-01T13:12:02\",\"1970-01-01T13:12:02\",\"1970-01-01T13:53:42\",\"1970-01-01T13:53:42\",\"1970-01-01T13:53:42\",\"1970-01-01T04:18:42\",\"1970-01-01T04:18:42\",\"1970-01-01T05:00:22\",\"1970-01-01T05:00:22\",\"1970-01-01T05:00:22\",\"1970-01-01T08:45:22\",\"1970-01-01T08:45:22\",\"1970-01-01T09:27:02\",\"1970-01-01T09:27:02\",\"1970-01-01T09:27:02\",\"1970-01-01T13:12:02\",\"1970-01-01T13:12:02\",\"1970-01-01T13:53:42\",\"1970-01-01T13:53:42\",\"1970-01-01T13:53:42\",\"1970-01-01T04:18:42\",\"1970-01-01T04:18:42\",\"1970-01-01T05:00:22\",\"1970-01-01T05:00:22\",\"1970-01-01T05:00:22\",\"1970-01-01T08:45:22\",\"1970-01-01T08:45:22\",\"1970-01-01T09:27:02\",\"1970-01-01T09:27:02\",\"1970-01-01T09:27:02\",\"1970-01-01T13:12:02\",\"1970-01-01T13:12:02\",\"1970-01-01T13:53:42\",\"1970-01-01T13:53:42\",\"1970-01-01T13:53:42\"],\"y\":[\"Barge II\",\"Barge II\",\"Barge II\",\"Barge II\",null,\"Barge II\",\"Barge II\",\"Barge II\",\"Barge II\",null,\"Barge II\",\"Barge II\",\"Barge II\",\"Barge II\",null,\"Cutter T\",\"Cutter T\",\"Cutter T\",\"Cutter T\",null,\"Cutter T\",\"Cutter T\",\"Cutter T\",\"Cutter T\",null,\"Cutter T\",\"Cutter T\",\"Cutter T\",\"Cutter T\",null,\"Trench\",\"Trench\",\"Trench\",\"Trench\",null,\"Trench\",\"Trench\",\"Trench\",\"Trench\",null,\"Trench\",\"Trench\",\"Trench\",\"Trench\",null],\"type\":\"scatter\"},{\"connectgaps\":false,\"hoverinfo\":\"y+name\",\"line\":{\"color\":\"rgb(196,188,81)\",\"width\":10},\"mode\":\"lines\",\"name\":\"unloading:Carrier C\",\"x\":[\"1970-01-01T02:22:13\",\"1970-01-01T02:22:13\",\"1970-01-01T02:55:44\",\"1970-01-01T02:55:44\",\"1970-01-01T02:55:44\",\"1970-01-01T06:48:53\",\"1970-01-01T06:48:53\",\"1970-01-01T07:22:24\",\"1970-01-01T07:22:24\",\"1970-01-01T07:22:24\",\"1970-01-01T10:42:13\",\"1970-01-01T10:42:13\",\"1970-01-01T11:15:44\",\"1970-01-01T11:15:44\",\"1970-01-01T11:15:44\",\"1970-01-01T15:08:53\",\"1970-01-01T15:08:53\",\"1970-01-01T15:42:24\",\"1970-01-01T15:42:24\",\"1970-01-01T15:42:24\",\"1970-01-01T02:22:13\",\"1970-01-01T02:22:13\",\"1970-01-01T02:55:44\",\"1970-01-01T02:55:44\",\"1970-01-01T02:55:44\",\"1970-01-01T06:48:53\",\"1970-01-01T06:48:53\",\"1970-01-01T07:22:24\",\"1970-01-01T07:22:24\",\"1970-01-01T07:22:24\",\"1970-01-01T10:42:13\",\"1970-01-01T10:42:13\",\"1970-01-01T11:15:44\",\"1970-01-01T11:15:44\",\"1970-01-01T11:15:44\",\"1970-01-01T15:08:53\",\"1970-01-01T15:08:53\",\"1970-01-01T15:42:24\",\"1970-01-01T15:42:24\",\"1970-01-01T15:42:24\"],\"y\":[\"Carrier C\",\"Carrier C\",\"Carrier C\",\"Carrier C\",null,\"Carrier C\",\"Carrier C\",\"Carrier C\",\"Carrier C\",null,\"Carrier C\",\"Carrier C\",\"Carrier C\",\"Carrier C\",null,\"Carrier C\",\"Carrier C\",\"Carrier C\",\"Carrier C\",null,\"Reclamation\",\"Reclamation\",\"Reclamation\",\"Reclamation\",null,\"Reclamation\",\"Reclamation\",\"Reclamation\",\"Reclamation\",null,\"Reclamation\",\"Reclamation\",\"Reclamation\",\"Reclamation\",null,\"Reclamation\",\"Reclamation\",\"Reclamation\",\"Reclamation\",null],\"type\":\"scatter\"},{\"connectgaps\":false,\"hoverinfo\":\"y+name\",\"line\":{\"color\":\"rgb(200,192,85)\",\"width\":10},\"mode\":\"lines\",\"name\":\"unloading:Extra 1\",\"x\":[\"1970-01-01T04:59:12\",\"1970-01-01T04:59:12\",\"1970-01-01T05:39:42\",\"1970-01-01T05:39:42\",\"1970-01-01T05:39:42\",\"1970-01-01T09:25:52\",\"1970-01-01T09:25:52\",\"1970-01-01T10:06:22\",\"1970-01-01T10:06:22\",\"1970-01-01T10:06:22\",\"1970-01-01T13:52:32\",\"1970-01-01T13:52:32\",\"1970-01-01T14:33:02\",\"1970-01-01T14:33:02\",\"1970-01-01T14:33:02\",\"1970-01-01T04:59:12\",\"1970-01-01T04:59:12\",\"1970-01-01T05:39:42\",\"1970-01-01T05:39:42\",\"1970-01-01T05:39:42\",\"1970-01-01T09:25:52\",\"1970-01-01T09:25:52\",\"1970-01-01T10:06:22\",\"1970-01-01T10:06:22\",\"1970-01-01T10:06:22\",\"1970-01-01T13:52:32\",\"1970-01-01T13:52:32\",\"1970-01-01T14:33:02\",\"1970-01-01T14:33:02\",\"1970-01-01T14:33:02\"],\"y\":[\"Extra 1\",\"Extra 1\",\"Extra 1\",\"Extra 1\",null,\"Extra 1\",\"Extra 1\",\"Extra 1\",\"Extra 1\",null,\"Extra 1\",\"Extra 1\",\"Extra 1\",\"Extra 1\",null,\"Reclamation\",\"Reclamation\",\"Reclamation\",\"Reclamation\",null,\"Reclamation\",\"Reclamation\",\"Reclamation\",\"Reclamation\",null,\"Reclamation\",\"Reclamation\",\"Reclamation\",\"Reclamation\",null],\"type\":\"scatter\"},{\"connectgaps\":false,\"hoverinfo\":\"y+name\",\"line\":{\"color\":\"rgb(204,196,89)\",\"width\":10},\"mode\":\"lines\",\"name\":\"unloading:Carrier B\",\"x\":[\"1970-01-01T02:56:17\",\"1970-01-01T02:56:17\",\"1970-01-01T03:30:32\",\"1970-01-01T03:30:32\",\"1970-01-01T03:30:32\",\"1970-01-01T07:22:57\",\"1970-01-01T07:22:57\",\"1970-01-01T07:57:12\",\"1970-01-01T07:57:12\",\"1970-01-01T07:57:12\",\"1970-01-01T11:49:37\",\"1970-01-01T11:49:37\",\"1970-01-01T12:23:52\",\"1970-01-01T12:23:52\",\"1970-01-01T12:23:52\",\"1970-01-01T02:56:17\",\"1970-01-01T02:56:17\",\"1970-01-01T03:30:32\",\"1970-01-01T03:30:32\",\"1970-01-01T03:30:32\",\"1970-01-01T07:22:57\",\"1970-01-01T07:22:57\",\"1970-01-01T07:57:12\",\"1970-01-01T07:57:12\",\"1970-01-01T07:57:12\",\"1970-01-01T11:49:37\",\"1970-01-01T11:49:37\",\"1970-01-01T12:23:52\",\"1970-01-01T12:23:52\",\"1970-01-01T12:23:52\"],\"y\":[\"Carrier B\",\"Carrier B\",\"Carrier B\",\"Carrier B\",null,\"Carrier B\",\"Carrier B\",\"Carrier B\",\"Carrier B\",null,\"Carrier B\",\"Carrier B\",\"Carrier B\",\"Carrier B\",null,\"Reclamation\",\"Reclamation\",\"Reclamation\",\"Reclamation\",null,\"Reclamation\",\"Reclamation\",\"Reclamation\",\"Reclamation\",null,\"Reclamation\",\"Reclamation\",\"Reclamation\",\"Reclamation\",null],\"type\":\"scatter\"},{\"connectgaps\":false,\"hoverinfo\":\"y+name\",\"line\":{\"color\":\"rgb(208,200,93)\",\"width\":10},\"mode\":\"lines\",\"name\":\"unloading:Barge I\",\"x\":[\"1970-01-01T06:20:29\",\"1970-01-01T06:20:29\",\"1970-01-01T07:07:16\",\"1970-01-01T07:07:16\",\"1970-01-01T07:07:16\",\"1970-01-01T11:28:49\",\"1970-01-01T11:28:49\",\"1970-01-01T12:15:36\",\"1970-01-01T12:15:36\",\"1970-01-01T12:15:36\",\"1970-01-01T15:55:29\",\"1970-01-01T15:55:29\",\"1970-01-01T16:42:16\",\"1970-01-01T16:42:16\",\"1970-01-01T16:42:16\",\"1970-01-01T06:20:29\",\"1970-01-01T06:20:29\",\"1970-01-01T07:07:16\",\"1970-01-01T07:07:16\",\"1970-01-01T07:07:16\",\"1970-01-01T11:28:49\",\"1970-01-01T11:28:49\",\"1970-01-01T12:15:36\",\"1970-01-01T12:15:36\",\"1970-01-01T12:15:36\",\"1970-01-01T15:55:29\",\"1970-01-01T15:55:29\",\"1970-01-01T16:42:16\",\"1970-01-01T16:42:16\",\"1970-01-01T16:42:16\"],\"y\":[\"Barge I\",\"Barge I\",\"Barge I\",\"Barge I\",null,\"Barge I\",\"Barge I\",\"Barge I\",\"Barge I\",null,\"Barge I\",\"Barge I\",\"Barge I\",\"Barge I\",null,\"Reclamation\",\"Reclamation\",\"Reclamation\",\"Reclamation\",null,\"Reclamation\",\"Reclamation\",\"Reclamation\",\"Reclamation\",null,\"Reclamation\",\"Reclamation\",\"Reclamation\",\"Reclamation\",null],\"type\":\"scatter\"},{\"connectgaps\":false,\"hoverinfo\":\"y+name\",\"line\":{\"color\":\"rgb(212,204,97)\",\"width\":10},\"mode\":\"lines\",\"name\":\"unloading:Barge II\",\"x\":[\"1970-01-01T05:44:13\",\"1970-01-01T05:44:13\",\"1970-01-01T06:28:04\",\"1970-01-01T06:28:04\",\"1970-01-01T06:28:04\",\"1970-01-01T10:10:53\",\"1970-01-01T10:10:53\",\"1970-01-01T10:54:44\",\"1970-01-01T10:54:44\",\"1970-01-01T10:54:44\",\"1970-01-01T14:37:33\",\"1970-01-01T14:37:33\",\"1970-01-01T15:21:24\",\"1970-01-01T15:21:24\",\"1970-01-01T15:21:24\",\"1970-01-01T05:44:13\",\"1970-01-01T05:44:13\",\"1970-01-01T06:28:04\",\"1970-01-01T06:28:04\",\"1970-01-01T06:28:04\",\"1970-01-01T10:10:53\",\"1970-01-01T10:10:53\",\"1970-01-01T10:54:44\",\"1970-01-01T10:54:44\",\"1970-01-01T10:54:44\",\"1970-01-01T14:37:33\",\"1970-01-01T14:37:33\",\"1970-01-01T15:21:24\",\"1970-01-01T15:21:24\",\"1970-01-01T15:21:24\"],\"y\":[\"Barge II\",\"Barge II\",\"Barge II\",\"Barge II\",null,\"Barge II\",\"Barge II\",\"Barge II\",\"Barge II\",null,\"Barge II\",\"Barge II\",\"Barge II\",\"Barge II\",null,\"Reclamation\",\"Reclamation\",\"Reclamation\",\"Reclamation\",null,\"Reclamation\",\"Reclamation\",\"Reclamation\",\"Reclamation\",null,\"Reclamation\",\"Reclamation\",\"Reclamation\",\"Reclamation\",null],\"type\":\"scatter\"},{\"connectgaps\":false,\"hoverinfo\":\"y+name\",\"line\":{\"color\":\"rgb(216,208,101)\",\"width\":10},\"mode\":\"lines\",\"name\":\"unloading:Carrier A\",\"x\":[\"1970-01-01T03:38:18\",\"1970-01-01T03:38:18\",\"1970-01-01T04:12:54\",\"1970-01-01T04:12:54\",\"1970-01-01T04:12:54\",\"1970-01-01T08:04:58\",\"1970-01-01T08:04:58\",\"1970-01-01T08:39:34\",\"1970-01-01T08:39:34\",\"1970-01-01T08:39:34\",\"1970-01-01T12:31:38\",\"1970-01-01T12:31:38\",\"1970-01-01T13:06:14\",\"1970-01-01T13:06:14\",\"1970-01-01T13:06:14\",\"1970-01-01T03:38:18\",\"1970-01-01T03:38:18\",\"1970-01-01T04:12:54\",\"1970-01-01T04:12:54\",\"1970-01-01T04:12:54\",\"1970-01-01T08:04:58\",\"1970-01-01T08:04:58\",\"1970-01-01T08:39:34\",\"1970-01-01T08:39:34\",\"1970-01-01T08:39:34\",\"1970-01-01T12:31:38\",\"1970-01-01T12:31:38\",\"1970-01-01T13:06:14\",\"1970-01-01T13:06:14\",\"1970-01-01T13:06:14\"],\"y\":[\"Carrier A\",\"Carrier A\",\"Carrier A\",\"Carrier A\",null,\"Carrier A\",\"Carrier A\",\"Carrier A\",\"Carrier A\",null,\"Carrier A\",\"Carrier A\",\"Carrier A\",\"Carrier A\",null,\"Reclamation\",\"Reclamation\",\"Reclamation\",\"Reclamation\",null,\"Reclamation\",\"Reclamation\",\"Reclamation\",\"Reclamation\",null,\"Reclamation\",\"Reclamation\",\"Reclamation\",\"Reclamation\",null],\"type\":\"scatter\"},{\"connectgaps\":false,\"hoverinfo\":\"y+name\",\"line\":{\"color\":\"rgb(220,212,105)\",\"width\":10},\"mode\":\"lines\",\"name\":\"unloading:Barge III\",\"x\":[\"1970-01-01T04:20:10\",\"1970-01-01T04:20:10\",\"1970-01-01T04:54:58\",\"1970-01-01T04:54:58\",\"1970-01-01T04:54:58\",\"1970-01-01T08:46:50\",\"1970-01-01T08:46:50\",\"1970-01-01T09:21:38\",\"1970-01-01T09:21:38\",\"1970-01-01T09:21:38\",\"1970-01-01T13:13:30\",\"1970-01-01T13:13:30\",\"1970-01-01T13:48:18\",\"1970-01-01T13:48:18\",\"1970-01-01T13:48:18\",\"1970-01-01T04:20:10\",\"1970-01-01T04:20:10\",\"1970-01-01T04:54:58\",\"1970-01-01T04:54:58\",\"1970-01-01T04:54:58\",\"1970-01-01T08:46:50\",\"1970-01-01T08:46:50\",\"1970-01-01T09:21:38\",\"1970-01-01T09:21:38\",\"1970-01-01T09:21:38\",\"1970-01-01T13:13:30\",\"1970-01-01T13:13:30\",\"1970-01-01T13:48:18\",\"1970-01-01T13:48:18\",\"1970-01-01T13:48:18\"],\"y\":[\"Barge III\",\"Barge III\",\"Barge III\",\"Barge III\",null,\"Barge III\",\"Barge III\",\"Barge III\",\"Barge III\",null,\"Barge III\",\"Barge III\",\"Barge III\",\"Barge III\",null,\"Reclamation\",\"Reclamation\",\"Reclamation\",\"Reclamation\",null,\"Reclamation\",\"Reclamation\",\"Reclamation\",\"Reclamation\",null,\"Reclamation\",\"Reclamation\",\"Reclamation\",\"Reclamation\",null],\"type\":\"scatter\"}],                        {\"hovermode\":\"closest\",\"legend\":{\"orientation\":\"h\",\"x\":0,\"y\":-0.2},\"showlegend\":false,\"template\":{\"data\":{\"barpolar\":[{\"marker\":{\"line\":{\"color\":\"#E5ECF6\",\"width\":0.5},\"pattern\":{\"fillmode\":\"overlay\",\"size\":10,\"solidity\":0.2}},\"type\":\"barpolar\"}],\"bar\":[{\"error_x\":{\"color\":\"#2a3f5f\"},\"error_y\":{\"color\":\"#2a3f5f\"},\"marker\":{\"line\":{\"color\":\"#E5ECF6\",\"width\":0.5},\"pattern\":{\"fillmode\":\"overlay\",\"size\":10,\"solidity\":0.2}},\"type\":\"bar\"}],\"carpet\":[{\"aaxis\":{\"endlinecolor\":\"#2a3f5f\",\"gridcolor\":\"white\",\"linecolor\":\"white\",\"minorgridcolor\":\"white\",\"startlinecolor\":\"#2a3f5f\"},\"baxis\":{\"endlinecolor\":\"#2a3f5f\",\"gridcolor\":\"white\",\"linecolor\":\"white\",\"minorgridcolor\":\"white\",\"startlinecolor\":\"#2a3f5f\"},\"type\":\"carpet\"}],\"choropleth\":[{\"colorbar\":{\"outlinewidth\":0,\"ticks\":\"\"},\"type\":\"choropleth\"}],\"contourcarpet\":[{\"colorbar\":{\"outlinewidth\":0,\"ticks\":\"\"},\"type\":\"contourcarpet\"}],\"contour\":[{\"colorbar\":{\"outlinewidth\":0,\"ticks\":\"\"},\"colorscale\":[[0.0,\"#0d0887\"],[0.1111111111111111,\"#46039f\"],[0.2222222222222222,\"#7201a8\"],[0.3333333333333333,\"#9c179e\"],[0.4444444444444444,\"#bd3786\"],[0.5555555555555556,\"#d8576b\"],[0.6666666666666666,\"#ed7953\"],[0.7777777777777778,\"#fb9f3a\"],[0.8888888888888888,\"#fdca26\"],[1.0,\"#f0f921\"]],\"type\":\"contour\"}],\"heatmapgl\":[{\"colorbar\":{\"outlinewidth\":0,\"ticks\":\"\"},\"colorscale\":[[0.0,\"#0d0887\"],[0.1111111111111111,\"#46039f\"],[0.2222222222222222,\"#7201a8\"],[0.3333333333333333,\"#9c179e\"],[0.4444444444444444,\"#bd3786\"],[0.5555555555555556,\"#d8576b\"],[0.6666666666666666,\"#ed7953\"],[0.7777777777777778,\"#fb9f3a\"],[0.8888888888888888,\"#fdca26\"],[1.0,\"#f0f921\"]],\"type\":\"heatmapgl\"}],\"heatmap\":[{\"colorbar\":{\"outlinewidth\":0,\"ticks\":\"\"},\"colorscale\":[[0.0,\"#0d0887\"],[0.1111111111111111,\"#46039f\"],[0.2222222222222222,\"#7201a8\"],[0.3333333333333333,\"#9c179e\"],[0.4444444444444444,\"#bd3786\"],[0.5555555555555556,\"#d8576b\"],[0.6666666666666666,\"#ed7953\"],[0.7777777777777778,\"#fb9f3a\"],[0.8888888888888888,\"#fdca26\"],[1.0,\"#f0f921\"]],\"type\":\"heatmap\"}],\"histogram2dcontour\":[{\"colorbar\":{\"outlinewidth\":0,\"ticks\":\"\"},\"colorscale\":[[0.0,\"#0d0887\"],[0.1111111111111111,\"#46039f\"],[0.2222222222222222,\"#7201a8\"],[0.3333333333333333,\"#9c179e\"],[0.4444444444444444,\"#bd3786\"],[0.5555555555555556,\"#d8576b\"],[0.6666666666666666,\"#ed7953\"],[0.7777777777777778,\"#fb9f3a\"],[0.8888888888888888,\"#fdca26\"],[1.0,\"#f0f921\"]],\"type\":\"histogram2dcontour\"}],\"histogram2d\":[{\"colorbar\":{\"outlinewidth\":0,\"ticks\":\"\"},\"colorscale\":[[0.0,\"#0d0887\"],[0.1111111111111111,\"#46039f\"],[0.2222222222222222,\"#7201a8\"],[0.3333333333333333,\"#9c179e\"],[0.4444444444444444,\"#bd3786\"],[0.5555555555555556,\"#d8576b\"],[0.6666666666666666,\"#ed7953\"],[0.7777777777777778,\"#fb9f3a\"],[0.8888888888888888,\"#fdca26\"],[1.0,\"#f0f921\"]],\"type\":\"histogram2d\"}],\"histogram\":[{\"marker\":{\"pattern\":{\"fillmode\":\"overlay\",\"size\":10,\"solidity\":0.2}},\"type\":\"histogram\"}],\"mesh3d\":[{\"colorbar\":{\"outlinewidth\":0,\"ticks\":\"\"},\"type\":\"mesh3d\"}],\"parcoords\":[{\"line\":{\"colorbar\":{\"outlinewidth\":0,\"ticks\":\"\"}},\"type\":\"parcoords\"}],\"pie\":[{\"automargin\":true,\"type\":\"pie\"}],\"scatter3d\":[{\"line\":{\"colorbar\":{\"outlinewidth\":0,\"ticks\":\"\"}},\"marker\":{\"colorbar\":{\"outlinewidth\":0,\"ticks\":\"\"}},\"type\":\"scatter3d\"}],\"scattercarpet\":[{\"marker\":{\"colorbar\":{\"outlinewidth\":0,\"ticks\":\"\"}},\"type\":\"scattercarpet\"}],\"scattergeo\":[{\"marker\":{\"colorbar\":{\"outlinewidth\":0,\"ticks\":\"\"}},\"type\":\"scattergeo\"}],\"scattergl\":[{\"marker\":{\"colorbar\":{\"outlinewidth\":0,\"ticks\":\"\"}},\"type\":\"scattergl\"}],\"scattermapbox\":[{\"marker\":{\"colorbar\":{\"outlinewidth\":0,\"ticks\":\"\"}},\"type\":\"scattermapbox\"}],\"scatterpolargl\":[{\"marker\":{\"colorbar\":{\"outlinewidth\":0,\"ticks\":\"\"}},\"type\":\"scatterpolargl\"}],\"scatterpolar\":[{\"marker\":{\"colorbar\":{\"outlinewidth\":0,\"ticks\":\"\"}},\"type\":\"scatterpolar\"}],\"scatter\":[{\"fillpattern\":{\"fillmode\":\"overlay\",\"size\":10,\"solidity\":0.2},\"type\":\"scatter\"}],\"scatterternary\":[{\"marker\":{\"colorbar\":{\"outlinewidth\":0,\"ticks\":\"\"}},\"type\":\"scatterternary\"}],\"surface\":[{\"colorbar\":{\"outlinewidth\":0,\"ticks\":\"\"},\"colorscale\":[[0.0,\"#0d0887\"],[0.1111111111111111,\"#46039f\"],[0.2222222222222222,\"#7201a8\"],[0.3333333333333333,\"#9c179e\"],[0.4444444444444444,\"#bd3786\"],[0.5555555555555556,\"#d8576b\"],[0.6666666666666666,\"#ed7953\"],[0.7777777777777778,\"#fb9f3a\"],[0.8888888888888888,\"#fdca26\"],[1.0,\"#f0f921\"]],\"type\":\"surface\"}],\"table\":[{\"cells\":{\"fill\":{\"color\":\"#EBF0F8\"},\"line\":{\"color\":\"white\"}},\"header\":{\"fill\":{\"color\":\"#C8D4E3\"},\"line\":{\"color\":\"white\"}},\"type\":\"table\"}]},\"layout\":{\"annotationdefaults\":{\"arrowcolor\":\"#2a3f5f\",\"arrowhead\":0,\"arrowwidth\":1},\"autotypenumbers\":\"strict\",\"coloraxis\":{\"colorbar\":{\"outlinewidth\":0,\"ticks\":\"\"}},\"colorscale\":{\"diverging\":[[0,\"#8e0152\"],[0.1,\"#c51b7d\"],[0.2,\"#de77ae\"],[0.3,\"#f1b6da\"],[0.4,\"#fde0ef\"],[0.5,\"#f7f7f7\"],[0.6,\"#e6f5d0\"],[0.7,\"#b8e186\"],[0.8,\"#7fbc41\"],[0.9,\"#4d9221\"],[1,\"#276419\"]],\"sequential\":[[0.0,\"#0d0887\"],[0.1111111111111111,\"#46039f\"],[0.2222222222222222,\"#7201a8\"],[0.3333333333333333,\"#9c179e\"],[0.4444444444444444,\"#bd3786\"],[0.5555555555555556,\"#d8576b\"],[0.6666666666666666,\"#ed7953\"],[0.7777777777777778,\"#fb9f3a\"],[0.8888888888888888,\"#fdca26\"],[1.0,\"#f0f921\"]],\"sequentialminus\":[[0.0,\"#0d0887\"],[0.1111111111111111,\"#46039f\"],[0.2222222222222222,\"#7201a8\"],[0.3333333333333333,\"#9c179e\"],[0.4444444444444444,\"#bd3786\"],[0.5555555555555556,\"#d8576b\"],[0.6666666666666666,\"#ed7953\"],[0.7777777777777778,\"#fb9f3a\"],[0.8888888888888888,\"#fdca26\"],[1.0,\"#f0f921\"]]},\"colorway\":[\"#636efa\",\"#EF553B\",\"#00cc96\",\"#ab63fa\",\"#FFA15A\",\"#19d3f3\",\"#FF6692\",\"#B6E880\",\"#FF97FF\",\"#FECB52\"],\"font\":{\"color\":\"#2a3f5f\"},\"geo\":{\"bgcolor\":\"white\",\"lakecolor\":\"white\",\"landcolor\":\"#E5ECF6\",\"showlakes\":true,\"showland\":true,\"subunitcolor\":\"white\"},\"hoverlabel\":{\"align\":\"left\"},\"hovermode\":\"closest\",\"mapbox\":{\"style\":\"light\"},\"paper_bgcolor\":\"white\",\"plot_bgcolor\":\"#E5ECF6\",\"polar\":{\"angularaxis\":{\"gridcolor\":\"white\",\"linecolor\":\"white\",\"ticks\":\"\"},\"bgcolor\":\"#E5ECF6\",\"radialaxis\":{\"gridcolor\":\"white\",\"linecolor\":\"white\",\"ticks\":\"\"}},\"scene\":{\"xaxis\":{\"backgroundcolor\":\"#E5ECF6\",\"gridcolor\":\"white\",\"gridwidth\":2,\"linecolor\":\"white\",\"showbackground\":true,\"ticks\":\"\",\"zerolinecolor\":\"white\"},\"yaxis\":{\"backgroundcolor\":\"#E5ECF6\",\"gridcolor\":\"white\",\"gridwidth\":2,\"linecolor\":\"white\",\"showbackground\":true,\"ticks\":\"\",\"zerolinecolor\":\"white\"},\"zaxis\":{\"backgroundcolor\":\"#E5ECF6\",\"gridcolor\":\"white\",\"gridwidth\":2,\"linecolor\":\"white\",\"showbackground\":true,\"ticks\":\"\",\"zerolinecolor\":\"white\"}},\"shapedefaults\":{\"line\":{\"color\":\"#2a3f5f\"}},\"ternary\":{\"aaxis\":{\"gridcolor\":\"white\",\"linecolor\":\"white\",\"ticks\":\"\"},\"baxis\":{\"gridcolor\":\"white\",\"linecolor\":\"white\",\"ticks\":\"\"},\"bgcolor\":\"#E5ECF6\",\"caxis\":{\"gridcolor\":\"white\",\"linecolor\":\"white\",\"ticks\":\"\"}},\"title\":{\"x\":0.05},\"xaxis\":{\"automargin\":true,\"gridcolor\":\"white\",\"linecolor\":\"white\",\"ticks\":\"\",\"title\":{\"standoff\":15},\"zerolinecolor\":\"white\",\"zerolinewidth\":2},\"yaxis\":{\"automargin\":true,\"gridcolor\":\"white\",\"linecolor\":\"white\",\"ticks\":\"\",\"title\":{\"standoff\":15},\"zerolinecolor\":\"white\",\"zerolinewidth\":2}}},\"title\":{\"text\":\"Cutter T occupancy: 100.0\"},\"xaxis\":{\"range\":[\"1970-01-01T00:00:00\",\"1970-01-01T16:42:16\"],\"title\":{\"font\":{\"color\":\"#7f7f7f\",\"family\":\"Courier New, monospace\",\"size\":18},\"text\":\"Time\"}},\"yaxis\":{\"title\":{\"font\":{\"color\":\"#7f7f7f\",\"family\":\"Courier New, monospace\",\"size\":18},\"text\":\"vesels\"}}},                        {\"responsive\": true}                    ).then(function(){\n",
       "                            \n",
       "var gd = document.getElementById('cba926a8-d0f5-485a-825b-feda5f892325');\n",
       "var x = new MutationObserver(function (mutations, observer) {{\n",
       "        var display = window.getComputedStyle(gd).display;\n",
       "        if (!display || display === 'none') {{\n",
       "            console.log([gd, 'removed!']);\n",
       "            Plotly.purge(gd);\n",
       "            observer.disconnect();\n",
       "        }}\n",
       "}});\n",
       "\n",
       "// Listen for the removal of the full notebook cells\n",
       "var notebookContainer = gd.closest('#notebook-container');\n",
       "if (notebookContainer) {{\n",
       "    x.observe(notebookContainer, {childList: true});\n",
       "}}\n",
       "\n",
       "// Listen for the clearing of the current output cell\n",
       "var outputEl = gd.closest('.output');\n",
       "if (outputEl) {{\n",
       "    x.observe(outputEl, {childList: true});\n",
       "}}\n",
       "\n",
       "                        })                };                });            </script>        </div>"
      ]
     },
     "metadata": {},
     "output_type": "display_data"
    }
   ],
   "source": [
    "i = 5 # many barges: close to 100% cutter config, small cost, fast delivery\n",
    "vessels = results[i]['vessels']\n",
    "activities = results[i]['activities']\n",
    "cutter = vessels[cutter_name]\n",
    "to_site = results[i][to_site_name]\n",
    "from_site = results[i][from_site_name]\n",
    "  \n",
    "my_objects = list(vessels.values()) + [from_site, to_site]\n",
    "my_activities = list(activities.values())\n",
    "my_log = CpLog(list_objects=my_objects, list_activities=my_activities)\n",
    "dependencies = my_log.get_dependencies_model_based()\n",
    "# dependencies = my_log.get_dependencies_log_based()\n",
    "cp = my_log.mark_critical_activities(dependencies)\n",
    "df = occupancy_analysis(vessels, cutter, activities,vessel_cost)\n",
    "t = f'{cutter_name} occupancy: ' + str(df.loc[cutter_name]['occupancy [%]'])\n",
    "fig = get_gantt_chart(concepts=my_objects, critical_path=cp, id_map=activities, title=t, legend=False, ylabel='vesels')"
   ]
  },
  {
   "cell_type": "code",
   "execution_count": null,
   "id": "06f6baa0",
   "metadata": {},
   "outputs": [],
   "source": []
  }
 ],
 "metadata": {
  "kernelspec": {
   "display_name": "Python 3 (ipykernel)",
   "language": "python",
   "name": "python3"
  },
  "language_info": {
   "codemirror_mode": {
    "name": "ipython",
    "version": 3
   },
   "file_extension": ".py",
   "mimetype": "text/x-python",
   "name": "python",
   "nbconvert_exporter": "python",
   "pygments_lexer": "ipython3",
   "version": "3.9.16"
  }
 },
 "nbformat": 4,
 "nbformat_minor": 5
}
