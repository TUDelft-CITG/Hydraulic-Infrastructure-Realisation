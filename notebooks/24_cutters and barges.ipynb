{
 "cells": [
  {
   "cell_type": "markdown",
   "id": "384a3d39",
   "metadata": {},
   "source": [
    "## feeder concept: cutter + barges\n",
    "\n",
    "This notebook shows how to implement a basic feeder concept for a cutter suction dredge working with multiple barges."
   ]
  },
  {
   "cell_type": "code",
   "execution_count": 1,
   "id": "b6580ad4",
   "metadata": {},
   "outputs": [],
   "source": [
    "import datetime, time\n",
    "import simpy\n",
    "\n",
    "import shapely.geometry\n",
    "import pandas as pd\n",
    "\n",
    "import openclsim.core as core\n",
    "import openclsim.model as model\n",
    "from openclsim.utils import flatten\n",
    "from openclsim.plot import get_step_chart, get_gantt_chart\n",
    "import numpy as np"
   ]
  },
  {
   "cell_type": "code",
   "execution_count": 2,
   "id": "5d93d662",
   "metadata": {},
   "outputs": [],
   "source": [
    "cutter_name    = 'Cutter T'\n",
    "barge_names    = ['Carrier A','Carrier B','Carrier C',\n",
    "                  'Barge I','Barge II','Barge III',\n",
    "                  'Extra 1', 'Extra 2', 'Extra 3']\n",
    "vessel_cost     = {'Carrier A':6000,'Carrier B':6000,'Carrier C':6000,\n",
    "                  'Barge I':5000,'Barge II':5000,'Barge III':5000,\n",
    "                  'Extra 1':4000, 'Extra 2':4000, 'Extra 3':4000,\n",
    "                  'Cutter T':25000} # EUR/day\n",
    "# vessel_amount and vessel_durations are random within a range,\n",
    "# to mimic respectively material density variations\n",
    "# and metocean workability conditions and traffic density.\n",
    "\n",
    "amount_range = [4,6]\n",
    "duration_range = [2000,3000]\n",
    "\n",
    "from_site_name = 'Trench'\n",
    "to_site_name   = 'Reclamation'"
   ]
  },
  {
   "cell_type": "code",
   "execution_count": 3,
   "id": "102a1c18",
   "metadata": {},
   "outputs": [],
   "source": [
    "Site = type(\n",
    "    \"Site\",\n",
    "    (\n",
    "        core.Identifiable,\n",
    "        core.Log,\n",
    "        core.Locatable,\n",
    "        core.HasContainer,\n",
    "        core.HasResource,\n",
    "    ),\n",
    "    {},\n",
    ")\n",
    "TransportProcessingResource = type(\n",
    "    \"TransportProcessingResource\",\n",
    "    (\n",
    "        core.Identifiable,\n",
    "        core.Log,\n",
    "        core.ContainerDependentMovable,\n",
    "        core.Processor,\n",
    "        core.HasResource,\n",
    "    ),\n",
    "    {},\n",
    ")"
   ]
  },
  {
   "cell_type": "code",
   "execution_count": 6,
   "id": "cef14598",
   "metadata": {},
   "outputs": [],
   "source": [
    "def run(NR_BARGES, total_amount):\n",
    "    simulation_start = 0\n",
    "    my_env = simpy.Environment(initial_time=simulation_start)\n",
    "    registry = {}\n",
    "\n",
    "    location_from_site = shapely.geometry.Point(4.18055556, 52.18664444)\n",
    "    location_to_site = shapely.geometry.Point(4.25222222, 52.11428333)\n",
    "    \n",
    "    sites = {}\n",
    "\n",
    "    data_from_site = {\"env\": my_env,\n",
    "                      \"name\": from_site_name,\n",
    "                      \"geometry\": location_from_site,\n",
    "                      \"capacity\": total_amount,\n",
    "                      \"level\": total_amount,\n",
    "                      \"nr_resources\":1\n",
    "                     }\n",
    "    from_site =  Site(**data_from_site)\n",
    "    sites[from_site_name] = from_site\n",
    "\n",
    "\n",
    "    location_to_site = shapely.geometry.Point(4.25222222, 52.11428333)\n",
    "    data_to_site = {\"env\": my_env,\n",
    "                    \"name\": to_site_name,\n",
    "                    \"geometry\": location_to_site,\n",
    "                    \"capacity\": total_amount,\n",
    "                    \"level\": 0,\n",
    "                    \"nr_resources\":4\n",
    "                   }\n",
    "    to_site = Site(**data_to_site)\n",
    "    sites[to_site_name] = to_site\n",
    "\n",
    "    vessels = {}\n",
    "\n",
    "    for i in range(NR_BARGES):\n",
    "        vessel_name = barge_names[i]\n",
    "        vessels[vessel_name] = TransportProcessingResource(\n",
    "            env=my_env,\n",
    "            name=vessel_name,\n",
    "            geometry=location_from_site, \n",
    "            capacity=10,\n",
    "            compute_v=lambda x: 10\n",
    "        )\n",
    "    cutter = TransportProcessingResource(\n",
    "        env=my_env,\n",
    "        name=cutter_name,\n",
    "        geometry=location_from_site, \n",
    "        capacity=10,\n",
    "        compute_v=lambda x: 10\n",
    "    )\n",
    "    vessels[cutter_name] = cutter\n",
    "    \n",
    "\n",
    "    activities = {}\n",
    "    for i in range(NR_BARGES):\n",
    "        vessel_name = barge_names[i]\n",
    "        amount = np.random.randint(amount_range[0], amount_range[1]) # handle loading\n",
    "        duration=np.random.randint(duration_range[0], duration_range[1]) # sailing and unloading\n",
    "\n",
    "        requested_resources={}\n",
    "        activities[f\"activity{i}\"] = model.WhileActivity(\n",
    "            env=my_env,\n",
    "            name=f\"while_sequential_activity_subcycle {vessel_name}\",\n",
    "            registry=registry,\n",
    "            sub_processes=[model.SequentialActivity(\n",
    "                env=my_env,\n",
    "                name=f\"sequential_activity_subcycle {vessel_name}\",\n",
    "                registry=registry,\n",
    "                sub_processes=[\n",
    "                    model.BasicActivity(\n",
    "                        env=my_env,\n",
    "                        name=f\"basic activity:\"+vessels[vessel_name].name,\n",
    "                        registry=registry,\n",
    "                        duration=duration,\n",
    "                        additional_logs=[vessels[vessel_name]],\n",
    "                    ),\n",
    "                    model.MoveActivity(\n",
    "                        env=my_env,\n",
    "                        name=f\"sailing empty:\"+vessels[vessel_name].name,\n",
    "                        registry=registry,\n",
    "                        mover=vessels[vessel_name],\n",
    "                        destination=from_site,\n",
    "                        duration=duration,\n",
    "                    ),\n",
    "                    model.ShiftAmountActivity(\n",
    "                        env=my_env,\n",
    "                        name=f\"loading:\"+vessels[vessel_name].name,\n",
    "                        registry=registry,\n",
    "                        processor=cutter,\n",
    "                        origin=from_site,\n",
    "                        destination=vessels[vessel_name],\n",
    "                        amount=amount,\n",
    "                        duration=500*amount,\n",
    "                        requested_resources=requested_resources,\n",
    "                    ),\n",
    "                    model.MoveActivity(\n",
    "                        env=my_env,\n",
    "                        name=f\"sailing full:\"+vessels[vessel_name].name,\n",
    "                        registry=registry,\n",
    "                        mover=vessels[vessel_name],\n",
    "                        destination=to_site,\n",
    "                        duration=duration,\n",
    "                    ),\n",
    "                    model.ShiftAmountActivity(\n",
    "                        env=my_env,\n",
    "                        name=f\"unloading:\"+vessels[vessel_name].name,\n",
    "                        registry=registry,\n",
    "                        processor=vessels[vessel_name],\n",
    "                        origin=vessels[vessel_name],\n",
    "                        destination=to_site,\n",
    "                        amount=amount,\n",
    "                        duration=duration,\n",
    "                        requested_resources=requested_resources,\n",
    "                    ),\n",
    "                ],\n",
    "            )],\n",
    "            condition_event=[\n",
    "                {\n",
    "                    \"type\": \"container\", \n",
    "                    \"concept\": to_site, \n",
    "                    \"state\": \"full\",\n",
    "                    \"id_\":\"default_reservations\"\n",
    "                }\n",
    "            ],\n",
    "        )\n",
    "\n",
    "    model.register_processes(list(activities.values()))\n",
    "    my_env.run()\n",
    "    \n",
    "    return {\n",
    "        \"vessels\": vessels,\n",
    "        \"activities\":activities,\n",
    "        \"sites\":sites\n",
    "    }\n"
   ]
  },
  {
   "cell_type": "markdown",
   "id": "a81e634c",
   "metadata": {},
   "source": [
    "# Example plots with 3 barges"
   ]
  },
  {
   "cell_type": "code",
   "execution_count": 7,
   "id": "9aa8b351",
   "metadata": {},
   "outputs": [
    {
     "name": "stdout",
     "output_type": "stream",
     "text": [
      "CPU times: user 46.2 ms, sys: 5.14 ms, total: 51.3 ms\n",
      "Wall time: 44.6 ms\n"
     ]
    }
   ],
   "source": [
    "%%time\n",
    "nbarges = len(barge_names)\n",
    "assert len(set(barge_names))==len(barge_names), 'barge_names need to be unique'\n",
    "total_amount = 100\n",
    "res = run(3,total_amount)\n",
    "\n",
    "vessels = res['vessels']\n",
    "sites = res['sites']\n",
    "activities = res['activities']\n",
    "\n",
    "cutter = vessels[cutter_name]\n",
    "to_site = sites[to_site_name]\n",
    "from_site = sites[from_site_name]"
   ]
  },
  {
   "cell_type": "code",
   "execution_count": 8,
   "id": "8f993fc6",
   "metadata": {},
   "outputs": [
    {
     "data": {
      "text/html": [
       "        <script type=\"text/javascript\">\n",
       "        window.PlotlyConfig = {MathJaxConfig: 'local'};\n",
       "        if (window.MathJax && window.MathJax.Hub && window.MathJax.Hub.Config) {window.MathJax.Hub.Config({SVG: {font: \"STIX-Web\"}});}\n",
       "        if (typeof require !== 'undefined') {\n",
       "        require.undef(\"plotly\");\n",
       "        requirejs.config({\n",
       "            paths: {\n",
       "                'plotly': ['https://cdn.plot.ly/plotly-2.18.2.min']\n",
       "            }\n",
       "        });\n",
       "        require(['plotly'], function(Plotly) {\n",
       "            window._Plotly = Plotly;\n",
       "        });\n",
       "        }\n",
       "        </script>\n",
       "        "
      ]
     },
     "metadata": {},
     "output_type": "display_data"
    },
    {
     "data": {
      "application/vnd.plotly.v1+json": {
       "config": {
        "linkText": "Export to plot.ly",
        "plotlyServerURL": "https://plot.ly",
        "showLink": false
       },
       "data": [
        {
         "connectgaps": false,
         "hoverinfo": "y+name",
         "line": {
          "color": "rgb(160,247,107)",
          "width": 10
         },
         "mode": "lines",
         "name": "sailing empty:Carrier A",
         "type": "scatter",
         "x": [
          "1970-01-01T00:38:00",
          "1970-01-01T00:38:00",
          "1970-01-01T01:16:00",
          "1970-01-01T01:16:00",
          "1970-01-01T01:16:00",
          "1970-01-01T03:51:40",
          "1970-01-01T03:51:40",
          "1970-01-01T04:29:40",
          "1970-01-01T04:29:40",
          "1970-01-01T04:29:40",
          "1970-01-01T07:05:20",
          "1970-01-01T07:05:20",
          "1970-01-01T07:43:20",
          "1970-01-01T07:43:20",
          "1970-01-01T07:43:20",
          "1970-01-01T10:19:00",
          "1970-01-01T10:19:00",
          "1970-01-01T10:57:00",
          "1970-01-01T10:57:00",
          "1970-01-01T10:57:00",
          "1970-01-01T13:38:36",
          "1970-01-01T13:38:36",
          "1970-01-01T14:16:36",
          "1970-01-01T14:16:36",
          "1970-01-01T14:16:36",
          "1970-01-01T17:33:44",
          "1970-01-01T17:33:44",
          "1970-01-01T18:11:44",
          "1970-01-01T18:11:44",
          "1970-01-01T18:11:44",
          "1970-01-01T21:28:52",
          "1970-01-01T21:28:52",
          "1970-01-01T22:06:52",
          "1970-01-01T22:06:52",
          "1970-01-01T22:06:52",
          "1970-01-02T01:24:00",
          "1970-01-02T01:24:00",
          "1970-01-02T02:02:00",
          "1970-01-02T02:02:00",
          "1970-01-02T02:02:00"
         ],
         "y": [
          "Carrier A",
          "Carrier A",
          "Carrier A",
          "Carrier A",
          null,
          "Carrier A",
          "Carrier A",
          "Carrier A",
          "Carrier A",
          null,
          "Carrier A",
          "Carrier A",
          "Carrier A",
          "Carrier A",
          null,
          "Carrier A",
          "Carrier A",
          "Carrier A",
          "Carrier A",
          null,
          "Carrier A",
          "Carrier A",
          "Carrier A",
          "Carrier A",
          null,
          "Carrier A",
          "Carrier A",
          "Carrier A",
          "Carrier A",
          null,
          "Carrier A",
          "Carrier A",
          "Carrier A",
          "Carrier A",
          null,
          "Carrier A",
          "Carrier A",
          "Carrier A",
          "Carrier A",
          null
         ]
        },
        {
         "connectgaps": false,
         "hoverinfo": "y+name",
         "line": {
          "color": "rgb(174,5,121)",
          "width": 10
         },
         "mode": "lines",
         "name": "basic activity:Carrier A",
         "type": "scatter",
         "x": [
          "1970-01-01T00:00:00",
          "1970-01-01T00:00:00",
          "1970-01-01T00:38:00",
          "1970-01-01T00:38:00",
          "1970-01-01T00:38:00",
          "1970-01-01T03:13:40",
          "1970-01-01T03:13:40",
          "1970-01-01T03:51:40",
          "1970-01-01T03:51:40",
          "1970-01-01T03:51:40",
          "1970-01-01T06:27:20",
          "1970-01-01T06:27:20",
          "1970-01-01T07:05:20",
          "1970-01-01T07:05:20",
          "1970-01-01T07:05:20",
          "1970-01-01T09:41:00",
          "1970-01-01T09:41:00",
          "1970-01-01T10:19:00",
          "1970-01-01T10:19:00",
          "1970-01-01T10:19:00",
          "1970-01-01T13:00:36",
          "1970-01-01T13:00:36",
          "1970-01-01T13:38:36",
          "1970-01-01T13:38:36",
          "1970-01-01T13:38:36",
          "1970-01-01T16:55:44",
          "1970-01-01T16:55:44",
          "1970-01-01T17:33:44",
          "1970-01-01T17:33:44",
          "1970-01-01T17:33:44",
          "1970-01-01T20:50:52",
          "1970-01-01T20:50:52",
          "1970-01-01T21:28:52",
          "1970-01-01T21:28:52",
          "1970-01-01T21:28:52",
          "1970-01-02T00:46:00",
          "1970-01-02T00:46:00",
          "1970-01-02T01:24:00",
          "1970-01-02T01:24:00",
          "1970-01-02T01:24:00"
         ],
         "y": [
          "Carrier A",
          "Carrier A",
          "Carrier A",
          "Carrier A",
          null,
          "Carrier A",
          "Carrier A",
          "Carrier A",
          "Carrier A",
          null,
          "Carrier A",
          "Carrier A",
          "Carrier A",
          "Carrier A",
          null,
          "Carrier A",
          "Carrier A",
          "Carrier A",
          "Carrier A",
          null,
          "Carrier A",
          "Carrier A",
          "Carrier A",
          "Carrier A",
          null,
          "Carrier A",
          "Carrier A",
          "Carrier A",
          "Carrier A",
          null,
          "Carrier A",
          "Carrier A",
          "Carrier A",
          "Carrier A",
          null,
          "Carrier A",
          "Carrier A",
          "Carrier A",
          "Carrier A",
          null
         ]
        },
        {
         "connectgaps": false,
         "hoverinfo": "y+name",
         "line": {
          "color": "rgb(188,19,135)",
          "width": 10
         },
         "mode": "lines",
         "name": "loading:Carrier A",
         "type": "scatter",
         "x": [
          "1970-01-01T01:16:00",
          "1970-01-01T01:16:00",
          "1970-01-01T01:57:40",
          "1970-01-01T01:57:40",
          "1970-01-01T01:57:40",
          "1970-01-01T04:29:40",
          "1970-01-01T04:29:40",
          "1970-01-01T05:11:20",
          "1970-01-01T05:11:20",
          "1970-01-01T05:11:20",
          "1970-01-01T07:43:20",
          "1970-01-01T07:43:20",
          "1970-01-01T08:25:00",
          "1970-01-01T08:25:00",
          "1970-01-01T08:25:00",
          "1970-01-01T11:02:56",
          "1970-01-01T11:02:56",
          "1970-01-01T11:44:36",
          "1970-01-01T11:44:36",
          "1970-01-01T11:44:36",
          "1970-01-01T14:58:04",
          "1970-01-01T14:58:04",
          "1970-01-01T15:39:44",
          "1970-01-01T15:39:44",
          "1970-01-01T15:39:44",
          "1970-01-01T18:53:12",
          "1970-01-01T18:53:12",
          "1970-01-01T19:34:52",
          "1970-01-01T19:34:52",
          "1970-01-01T19:34:52",
          "1970-01-01T22:48:20",
          "1970-01-01T22:48:20",
          "1970-01-01T23:30:00",
          "1970-01-01T23:30:00",
          "1970-01-01T23:30:00",
          "1970-01-02T02:43:28",
          "1970-01-02T02:43:28",
          "1970-01-02T03:25:08",
          "1970-01-02T03:25:08",
          "1970-01-02T03:25:08",
          "1970-01-01T01:16:00",
          "1970-01-01T01:16:00",
          "1970-01-01T01:57:40",
          "1970-01-01T01:57:40",
          "1970-01-01T01:57:40",
          "1970-01-01T04:29:40",
          "1970-01-01T04:29:40",
          "1970-01-01T05:11:20",
          "1970-01-01T05:11:20",
          "1970-01-01T05:11:20",
          "1970-01-01T07:43:20",
          "1970-01-01T07:43:20",
          "1970-01-01T08:25:00",
          "1970-01-01T08:25:00",
          "1970-01-01T08:25:00",
          "1970-01-01T11:02:56",
          "1970-01-01T11:02:56",
          "1970-01-01T11:44:36",
          "1970-01-01T11:44:36",
          "1970-01-01T11:44:36",
          "1970-01-01T14:58:04",
          "1970-01-01T14:58:04",
          "1970-01-01T15:39:44",
          "1970-01-01T15:39:44",
          "1970-01-01T15:39:44",
          "1970-01-01T18:53:12",
          "1970-01-01T18:53:12",
          "1970-01-01T19:34:52",
          "1970-01-01T19:34:52",
          "1970-01-01T19:34:52",
          "1970-01-01T22:48:20",
          "1970-01-01T22:48:20",
          "1970-01-01T23:30:00",
          "1970-01-01T23:30:00",
          "1970-01-01T23:30:00",
          "1970-01-02T02:43:28",
          "1970-01-02T02:43:28",
          "1970-01-02T03:25:08",
          "1970-01-02T03:25:08",
          "1970-01-02T03:25:08"
         ],
         "y": [
          "Carrier A",
          "Carrier A",
          "Carrier A",
          "Carrier A",
          null,
          "Carrier A",
          "Carrier A",
          "Carrier A",
          "Carrier A",
          null,
          "Carrier A",
          "Carrier A",
          "Carrier A",
          "Carrier A",
          null,
          "Carrier A",
          "Carrier A",
          "Carrier A",
          "Carrier A",
          null,
          "Carrier A",
          "Carrier A",
          "Carrier A",
          "Carrier A",
          null,
          "Carrier A",
          "Carrier A",
          "Carrier A",
          "Carrier A",
          null,
          "Carrier A",
          "Carrier A",
          "Carrier A",
          "Carrier A",
          null,
          "Carrier A",
          "Carrier A",
          "Carrier A",
          "Carrier A",
          null,
          "Cutter T",
          "Cutter T",
          "Cutter T",
          "Cutter T",
          null,
          "Cutter T",
          "Cutter T",
          "Cutter T",
          "Cutter T",
          null,
          "Cutter T",
          "Cutter T",
          "Cutter T",
          "Cutter T",
          null,
          "Cutter T",
          "Cutter T",
          "Cutter T",
          "Cutter T",
          null,
          "Cutter T",
          "Cutter T",
          "Cutter T",
          "Cutter T",
          null,
          "Cutter T",
          "Cutter T",
          "Cutter T",
          "Cutter T",
          null,
          "Cutter T",
          "Cutter T",
          "Cutter T",
          "Cutter T",
          null,
          "Cutter T",
          "Cutter T",
          "Cutter T",
          "Cutter T",
          null
         ]
        },
        {
         "connectgaps": false,
         "hoverinfo": "y+name",
         "line": {
          "color": "rgb(202,33,149)",
          "width": 10
         },
         "mode": "lines",
         "name": "unloading:Carrier A",
         "type": "scatter",
         "x": [
          "1970-01-01T02:35:40",
          "1970-01-01T02:35:40",
          "1970-01-01T03:13:40",
          "1970-01-01T03:13:40",
          "1970-01-01T03:13:40",
          "1970-01-01T05:49:20",
          "1970-01-01T05:49:20",
          "1970-01-01T06:27:20",
          "1970-01-01T06:27:20",
          "1970-01-01T06:27:20",
          "1970-01-01T09:03:00",
          "1970-01-01T09:03:00",
          "1970-01-01T09:41:00",
          "1970-01-01T09:41:00",
          "1970-01-01T09:41:00",
          "1970-01-01T12:22:36",
          "1970-01-01T12:22:36",
          "1970-01-01T13:00:36",
          "1970-01-01T13:00:36",
          "1970-01-01T13:00:36",
          "1970-01-01T16:17:44",
          "1970-01-01T16:17:44",
          "1970-01-01T16:55:44",
          "1970-01-01T16:55:44",
          "1970-01-01T16:55:44",
          "1970-01-01T20:12:52",
          "1970-01-01T20:12:52",
          "1970-01-01T20:50:52",
          "1970-01-01T20:50:52",
          "1970-01-01T20:50:52",
          "1970-01-02T00:08:00",
          "1970-01-02T00:08:00",
          "1970-01-02T00:46:00",
          "1970-01-02T00:46:00",
          "1970-01-02T00:46:00",
          "1970-01-02T04:03:08",
          "1970-01-02T04:03:08",
          "1970-01-02T04:41:08",
          "1970-01-02T04:41:08",
          "1970-01-02T04:41:08"
         ],
         "y": [
          "Carrier A",
          "Carrier A",
          "Carrier A",
          "Carrier A",
          null,
          "Carrier A",
          "Carrier A",
          "Carrier A",
          "Carrier A",
          null,
          "Carrier A",
          "Carrier A",
          "Carrier A",
          "Carrier A",
          null,
          "Carrier A",
          "Carrier A",
          "Carrier A",
          "Carrier A",
          null,
          "Carrier A",
          "Carrier A",
          "Carrier A",
          "Carrier A",
          null,
          "Carrier A",
          "Carrier A",
          "Carrier A",
          "Carrier A",
          null,
          "Carrier A",
          "Carrier A",
          "Carrier A",
          "Carrier A",
          null,
          "Carrier A",
          "Carrier A",
          "Carrier A",
          "Carrier A",
          null
         ]
        },
        {
         "connectgaps": false,
         "hoverinfo": "y+name",
         "line": {
          "color": "rgb(216,47,163)",
          "width": 10
         },
         "mode": "lines",
         "name": "sailing full:Carrier A",
         "type": "scatter",
         "x": [
          "1970-01-01T01:57:40",
          "1970-01-01T01:57:40",
          "1970-01-01T02:35:40",
          "1970-01-01T02:35:40",
          "1970-01-01T02:35:40",
          "1970-01-01T05:11:20",
          "1970-01-01T05:11:20",
          "1970-01-01T05:49:20",
          "1970-01-01T05:49:20",
          "1970-01-01T05:49:20",
          "1970-01-01T08:25:00",
          "1970-01-01T08:25:00",
          "1970-01-01T09:03:00",
          "1970-01-01T09:03:00",
          "1970-01-01T09:03:00",
          "1970-01-01T11:44:36",
          "1970-01-01T11:44:36",
          "1970-01-01T12:22:36",
          "1970-01-01T12:22:36",
          "1970-01-01T12:22:36",
          "1970-01-01T15:39:44",
          "1970-01-01T15:39:44",
          "1970-01-01T16:17:44",
          "1970-01-01T16:17:44",
          "1970-01-01T16:17:44",
          "1970-01-01T19:34:52",
          "1970-01-01T19:34:52",
          "1970-01-01T20:12:52",
          "1970-01-01T20:12:52",
          "1970-01-01T20:12:52",
          "1970-01-01T23:30:00",
          "1970-01-01T23:30:00",
          "1970-01-02T00:08:00",
          "1970-01-02T00:08:00",
          "1970-01-02T00:08:00",
          "1970-01-02T03:25:08",
          "1970-01-02T03:25:08",
          "1970-01-02T04:03:08",
          "1970-01-02T04:03:08",
          "1970-01-02T04:03:08"
         ],
         "y": [
          "Carrier A",
          "Carrier A",
          "Carrier A",
          "Carrier A",
          null,
          "Carrier A",
          "Carrier A",
          "Carrier A",
          "Carrier A",
          null,
          "Carrier A",
          "Carrier A",
          "Carrier A",
          "Carrier A",
          null,
          "Carrier A",
          "Carrier A",
          "Carrier A",
          "Carrier A",
          null,
          "Carrier A",
          "Carrier A",
          "Carrier A",
          "Carrier A",
          null,
          "Carrier A",
          "Carrier A",
          "Carrier A",
          "Carrier A",
          null,
          "Carrier A",
          "Carrier A",
          "Carrier A",
          "Carrier A",
          null,
          "Carrier A",
          "Carrier A",
          "Carrier A",
          "Carrier A",
          null
         ]
        },
        {
         "connectgaps": false,
         "hoverinfo": "y+name",
         "line": {
          "color": "rgb(230,61,177)",
          "width": 10
         },
         "mode": "lines",
         "name": "basic activity:Carrier B",
         "type": "scatter",
         "x": [
          "1970-01-01T00:00:00",
          "1970-01-01T00:00:00",
          "1970-01-01T00:48:22",
          "1970-01-01T00:48:22",
          "1970-01-01T00:48:22",
          "1970-01-01T04:49:24",
          "1970-01-01T04:49:24",
          "1970-01-01T05:37:46",
          "1970-01-01T05:37:46",
          "1970-01-01T05:37:46",
          "1970-01-01T08:44:32",
          "1970-01-01T08:44:32",
          "1970-01-01T09:32:54",
          "1970-01-01T09:32:54",
          "1970-01-01T09:32:54",
          "1970-01-01T12:39:40",
          "1970-01-01T12:39:40",
          "1970-01-01T13:28:02",
          "1970-01-01T13:28:02",
          "1970-01-01T13:28:02",
          "1970-01-01T16:34:48",
          "1970-01-01T16:34:48",
          "1970-01-01T17:23:10",
          "1970-01-01T17:23:10",
          "1970-01-01T17:23:10",
          "1970-01-01T20:29:56",
          "1970-01-01T20:29:56",
          "1970-01-01T21:18:18",
          "1970-01-01T21:18:18",
          "1970-01-01T21:18:18",
          "1970-01-02T00:25:04",
          "1970-01-02T00:25:04",
          "1970-01-02T01:13:26",
          "1970-01-02T01:13:26",
          "1970-01-02T01:13:26"
         ],
         "y": [
          "Carrier B",
          "Carrier B",
          "Carrier B",
          "Carrier B",
          null,
          "Carrier B",
          "Carrier B",
          "Carrier B",
          "Carrier B",
          null,
          "Carrier B",
          "Carrier B",
          "Carrier B",
          "Carrier B",
          null,
          "Carrier B",
          "Carrier B",
          "Carrier B",
          "Carrier B",
          null,
          "Carrier B",
          "Carrier B",
          "Carrier B",
          "Carrier B",
          null,
          "Carrier B",
          "Carrier B",
          "Carrier B",
          "Carrier B",
          null,
          "Carrier B",
          "Carrier B",
          "Carrier B",
          "Carrier B",
          null
         ]
        },
        {
         "connectgaps": false,
         "hoverinfo": "y+name",
         "line": {
          "color": "rgb(244,75,191)",
          "width": 10
         },
         "mode": "lines",
         "name": "sailing empty:Carrier B",
         "type": "scatter",
         "x": [
          "1970-01-01T00:48:22",
          "1970-01-01T00:48:22",
          "1970-01-01T01:36:44",
          "1970-01-01T01:36:44",
          "1970-01-01T01:36:44",
          "1970-01-01T05:37:46",
          "1970-01-01T05:37:46",
          "1970-01-01T06:26:08",
          "1970-01-01T06:26:08",
          "1970-01-01T06:26:08",
          "1970-01-01T09:32:54",
          "1970-01-01T09:32:54",
          "1970-01-01T10:21:16",
          "1970-01-01T10:21:16",
          "1970-01-01T10:21:16",
          "1970-01-01T13:28:02",
          "1970-01-01T13:28:02",
          "1970-01-01T14:16:24",
          "1970-01-01T14:16:24",
          "1970-01-01T14:16:24",
          "1970-01-01T17:23:10",
          "1970-01-01T17:23:10",
          "1970-01-01T18:11:32",
          "1970-01-01T18:11:32",
          "1970-01-01T18:11:32",
          "1970-01-01T21:18:18",
          "1970-01-01T21:18:18",
          "1970-01-01T22:06:40",
          "1970-01-01T22:06:40",
          "1970-01-01T22:06:40",
          "1970-01-02T01:13:26",
          "1970-01-02T01:13:26",
          "1970-01-02T02:01:48",
          "1970-01-02T02:01:48",
          "1970-01-02T02:01:48"
         ],
         "y": [
          "Carrier B",
          "Carrier B",
          "Carrier B",
          "Carrier B",
          null,
          "Carrier B",
          "Carrier B",
          "Carrier B",
          "Carrier B",
          null,
          "Carrier B",
          "Carrier B",
          "Carrier B",
          "Carrier B",
          null,
          "Carrier B",
          "Carrier B",
          "Carrier B",
          "Carrier B",
          null,
          "Carrier B",
          "Carrier B",
          "Carrier B",
          "Carrier B",
          null,
          "Carrier B",
          "Carrier B",
          "Carrier B",
          "Carrier B",
          null,
          "Carrier B",
          "Carrier B",
          "Carrier B",
          "Carrier B",
          null
         ]
        },
        {
         "connectgaps": false,
         "hoverinfo": "y+name",
         "line": {
          "color": "rgb(2,89,205)",
          "width": 10
         },
         "mode": "lines",
         "name": "loading:Carrier B",
         "type": "scatter",
         "x": [
          "1970-01-01T02:31:00",
          "1970-01-01T02:31:00",
          "1970-01-01T03:12:40",
          "1970-01-01T03:12:40",
          "1970-01-01T03:12:40",
          "1970-01-01T06:26:08",
          "1970-01-01T06:26:08",
          "1970-01-01T07:07:48",
          "1970-01-01T07:07:48",
          "1970-01-01T07:07:48",
          "1970-01-01T10:21:16",
          "1970-01-01T10:21:16",
          "1970-01-01T11:02:56",
          "1970-01-01T11:02:56",
          "1970-01-01T11:02:56",
          "1970-01-01T14:16:24",
          "1970-01-01T14:16:24",
          "1970-01-01T14:58:04",
          "1970-01-01T14:58:04",
          "1970-01-01T14:58:04",
          "1970-01-01T18:11:32",
          "1970-01-01T18:11:32",
          "1970-01-01T18:53:12",
          "1970-01-01T18:53:12",
          "1970-01-01T18:53:12",
          "1970-01-01T22:06:40",
          "1970-01-01T22:06:40",
          "1970-01-01T22:48:20",
          "1970-01-01T22:48:20",
          "1970-01-01T22:48:20",
          "1970-01-02T02:01:48",
          "1970-01-02T02:01:48",
          "1970-01-02T02:43:28",
          "1970-01-02T02:43:28",
          "1970-01-02T02:43:28",
          "1970-01-01T02:31:00",
          "1970-01-01T02:31:00",
          "1970-01-01T03:12:40",
          "1970-01-01T03:12:40",
          "1970-01-01T03:12:40",
          "1970-01-01T06:26:08",
          "1970-01-01T06:26:08",
          "1970-01-01T07:07:48",
          "1970-01-01T07:07:48",
          "1970-01-01T07:07:48",
          "1970-01-01T10:21:16",
          "1970-01-01T10:21:16",
          "1970-01-01T11:02:56",
          "1970-01-01T11:02:56",
          "1970-01-01T11:02:56",
          "1970-01-01T14:16:24",
          "1970-01-01T14:16:24",
          "1970-01-01T14:58:04",
          "1970-01-01T14:58:04",
          "1970-01-01T14:58:04",
          "1970-01-01T18:11:32",
          "1970-01-01T18:11:32",
          "1970-01-01T18:53:12",
          "1970-01-01T18:53:12",
          "1970-01-01T18:53:12",
          "1970-01-01T22:06:40",
          "1970-01-01T22:06:40",
          "1970-01-01T22:48:20",
          "1970-01-01T22:48:20",
          "1970-01-01T22:48:20",
          "1970-01-02T02:01:48",
          "1970-01-02T02:01:48",
          "1970-01-02T02:43:28",
          "1970-01-02T02:43:28",
          "1970-01-02T02:43:28"
         ],
         "y": [
          "Carrier B",
          "Carrier B",
          "Carrier B",
          "Carrier B",
          null,
          "Carrier B",
          "Carrier B",
          "Carrier B",
          "Carrier B",
          null,
          "Carrier B",
          "Carrier B",
          "Carrier B",
          "Carrier B",
          null,
          "Carrier B",
          "Carrier B",
          "Carrier B",
          "Carrier B",
          null,
          "Carrier B",
          "Carrier B",
          "Carrier B",
          "Carrier B",
          null,
          "Carrier B",
          "Carrier B",
          "Carrier B",
          "Carrier B",
          null,
          "Carrier B",
          "Carrier B",
          "Carrier B",
          "Carrier B",
          null,
          "Cutter T",
          "Cutter T",
          "Cutter T",
          "Cutter T",
          null,
          "Cutter T",
          "Cutter T",
          "Cutter T",
          "Cutter T",
          null,
          "Cutter T",
          "Cutter T",
          "Cutter T",
          "Cutter T",
          null,
          "Cutter T",
          "Cutter T",
          "Cutter T",
          "Cutter T",
          null,
          "Cutter T",
          "Cutter T",
          "Cutter T",
          "Cutter T",
          null,
          "Cutter T",
          "Cutter T",
          "Cutter T",
          "Cutter T",
          null,
          "Cutter T",
          "Cutter T",
          "Cutter T",
          "Cutter T",
          null
         ]
        },
        {
         "connectgaps": false,
         "hoverinfo": "y+name",
         "line": {
          "color": "rgb(16,103,219)",
          "width": 10
         },
         "mode": "lines",
         "name": "sailing full:Carrier B",
         "type": "scatter",
         "x": [
          "1970-01-01T03:12:40",
          "1970-01-01T03:12:40",
          "1970-01-01T04:01:02",
          "1970-01-01T04:01:02",
          "1970-01-01T04:01:02",
          "1970-01-01T07:07:48",
          "1970-01-01T07:07:48",
          "1970-01-01T07:56:10",
          "1970-01-01T07:56:10",
          "1970-01-01T07:56:10",
          "1970-01-01T11:02:56",
          "1970-01-01T11:02:56",
          "1970-01-01T11:51:18",
          "1970-01-01T11:51:18",
          "1970-01-01T11:51:18",
          "1970-01-01T14:58:04",
          "1970-01-01T14:58:04",
          "1970-01-01T15:46:26",
          "1970-01-01T15:46:26",
          "1970-01-01T15:46:26",
          "1970-01-01T18:53:12",
          "1970-01-01T18:53:12",
          "1970-01-01T19:41:34",
          "1970-01-01T19:41:34",
          "1970-01-01T19:41:34",
          "1970-01-01T22:48:20",
          "1970-01-01T22:48:20",
          "1970-01-01T23:36:42",
          "1970-01-01T23:36:42",
          "1970-01-01T23:36:42",
          "1970-01-02T02:43:28",
          "1970-01-02T02:43:28",
          "1970-01-02T03:31:50",
          "1970-01-02T03:31:50",
          "1970-01-02T03:31:50"
         ],
         "y": [
          "Carrier B",
          "Carrier B",
          "Carrier B",
          "Carrier B",
          null,
          "Carrier B",
          "Carrier B",
          "Carrier B",
          "Carrier B",
          null,
          "Carrier B",
          "Carrier B",
          "Carrier B",
          "Carrier B",
          null,
          "Carrier B",
          "Carrier B",
          "Carrier B",
          "Carrier B",
          null,
          "Carrier B",
          "Carrier B",
          "Carrier B",
          "Carrier B",
          null,
          "Carrier B",
          "Carrier B",
          "Carrier B",
          "Carrier B",
          null,
          "Carrier B",
          "Carrier B",
          "Carrier B",
          "Carrier B",
          null
         ]
        },
        {
         "connectgaps": false,
         "hoverinfo": "y+name",
         "line": {
          "color": "rgb(30,117,233)",
          "width": 10
         },
         "mode": "lines",
         "name": "unloading:Carrier B",
         "type": "scatter",
         "x": [
          "1970-01-01T04:01:02",
          "1970-01-01T04:01:02",
          "1970-01-01T04:49:24",
          "1970-01-01T04:49:24",
          "1970-01-01T04:49:24",
          "1970-01-01T07:56:10",
          "1970-01-01T07:56:10",
          "1970-01-01T08:44:32",
          "1970-01-01T08:44:32",
          "1970-01-01T08:44:32",
          "1970-01-01T11:51:18",
          "1970-01-01T11:51:18",
          "1970-01-01T12:39:40",
          "1970-01-01T12:39:40",
          "1970-01-01T12:39:40",
          "1970-01-01T15:46:26",
          "1970-01-01T15:46:26",
          "1970-01-01T16:34:48",
          "1970-01-01T16:34:48",
          "1970-01-01T16:34:48",
          "1970-01-01T19:41:34",
          "1970-01-01T19:41:34",
          "1970-01-01T20:29:56",
          "1970-01-01T20:29:56",
          "1970-01-01T20:29:56",
          "1970-01-01T23:36:42",
          "1970-01-01T23:36:42",
          "1970-01-02T00:25:04",
          "1970-01-02T00:25:04",
          "1970-01-02T00:25:04",
          "1970-01-02T03:31:50",
          "1970-01-02T03:31:50",
          "1970-01-02T04:20:12",
          "1970-01-02T04:20:12",
          "1970-01-02T04:20:12"
         ],
         "y": [
          "Carrier B",
          "Carrier B",
          "Carrier B",
          "Carrier B",
          null,
          "Carrier B",
          "Carrier B",
          "Carrier B",
          "Carrier B",
          null,
          "Carrier B",
          "Carrier B",
          "Carrier B",
          "Carrier B",
          null,
          "Carrier B",
          "Carrier B",
          "Carrier B",
          "Carrier B",
          null,
          "Carrier B",
          "Carrier B",
          "Carrier B",
          "Carrier B",
          null,
          "Carrier B",
          "Carrier B",
          "Carrier B",
          "Carrier B",
          null,
          "Carrier B",
          "Carrier B",
          "Carrier B",
          "Carrier B",
          null
         ]
        },
        {
         "connectgaps": false,
         "hoverinfo": "y+name",
         "line": {
          "color": "rgb(44,131,247)",
          "width": 10
         },
         "mode": "lines",
         "name": "sailing full:Carrier C",
         "type": "scatter",
         "x": [
          "1970-01-01T02:31:00",
          "1970-01-01T02:31:00",
          "1970-01-01T03:19:01",
          "1970-01-01T03:19:01",
          "1970-01-01T03:19:01",
          "1970-01-01T06:16:24",
          "1970-01-01T06:16:24",
          "1970-01-01T07:04:25",
          "1970-01-01T07:04:25",
          "1970-01-01T07:04:25",
          "1970-01-01T10:01:48",
          "1970-01-01T10:01:48",
          "1970-01-01T10:49:49",
          "1970-01-01T10:49:49",
          "1970-01-01T10:49:49",
          "1970-01-01T13:47:12",
          "1970-01-01T13:47:12",
          "1970-01-01T14:35:13",
          "1970-01-01T14:35:13",
          "1970-01-01T14:35:13",
          "1970-01-01T17:32:36",
          "1970-01-01T17:32:36",
          "1970-01-01T18:20:37",
          "1970-01-01T18:20:37",
          "1970-01-01T18:20:37",
          "1970-01-01T21:18:00",
          "1970-01-01T21:18:00",
          "1970-01-01T22:06:01",
          "1970-01-01T22:06:01",
          "1970-01-01T22:06:01",
          "1970-01-02T01:03:24",
          "1970-01-02T01:03:24",
          "1970-01-02T01:51:25",
          "1970-01-02T01:51:25",
          "1970-01-02T01:51:25"
         ],
         "y": [
          "Carrier C",
          "Carrier C",
          "Carrier C",
          "Carrier C",
          null,
          "Carrier C",
          "Carrier C",
          "Carrier C",
          "Carrier C",
          null,
          "Carrier C",
          "Carrier C",
          "Carrier C",
          "Carrier C",
          null,
          "Carrier C",
          "Carrier C",
          "Carrier C",
          "Carrier C",
          null,
          "Carrier C",
          "Carrier C",
          "Carrier C",
          "Carrier C",
          null,
          "Carrier C",
          "Carrier C",
          "Carrier C",
          "Carrier C",
          null,
          "Carrier C",
          "Carrier C",
          "Carrier C",
          "Carrier C",
          null
         ]
        },
        {
         "connectgaps": false,
         "hoverinfo": "y+name",
         "line": {
          "color": "rgb(58,145,5)",
          "width": 10
         },
         "mode": "lines",
         "name": "unloading:Carrier C",
         "type": "scatter",
         "x": [
          "1970-01-01T03:19:01",
          "1970-01-01T03:19:01",
          "1970-01-01T04:07:02",
          "1970-01-01T04:07:02",
          "1970-01-01T04:07:02",
          "1970-01-01T07:04:25",
          "1970-01-01T07:04:25",
          "1970-01-01T07:52:26",
          "1970-01-01T07:52:26",
          "1970-01-01T07:52:26",
          "1970-01-01T10:49:49",
          "1970-01-01T10:49:49",
          "1970-01-01T11:37:50",
          "1970-01-01T11:37:50",
          "1970-01-01T11:37:50",
          "1970-01-01T14:35:13",
          "1970-01-01T14:35:13",
          "1970-01-01T15:23:14",
          "1970-01-01T15:23:14",
          "1970-01-01T15:23:14",
          "1970-01-01T18:20:37",
          "1970-01-01T18:20:37",
          "1970-01-01T19:08:38",
          "1970-01-01T19:08:38",
          "1970-01-01T19:08:38",
          "1970-01-01T22:06:01",
          "1970-01-01T22:06:01",
          "1970-01-01T22:54:02",
          "1970-01-01T22:54:02",
          "1970-01-01T22:54:02",
          "1970-01-02T01:51:25",
          "1970-01-02T01:51:25",
          "1970-01-02T02:39:26",
          "1970-01-02T02:39:26",
          "1970-01-02T02:39:26"
         ],
         "y": [
          "Carrier C",
          "Carrier C",
          "Carrier C",
          "Carrier C",
          null,
          "Carrier C",
          "Carrier C",
          "Carrier C",
          "Carrier C",
          null,
          "Carrier C",
          "Carrier C",
          "Carrier C",
          "Carrier C",
          null,
          "Carrier C",
          "Carrier C",
          "Carrier C",
          "Carrier C",
          null,
          "Carrier C",
          "Carrier C",
          "Carrier C",
          "Carrier C",
          null,
          "Carrier C",
          "Carrier C",
          "Carrier C",
          "Carrier C",
          null,
          "Carrier C",
          "Carrier C",
          "Carrier C",
          "Carrier C",
          null
         ]
        },
        {
         "connectgaps": false,
         "hoverinfo": "y+name",
         "line": {
          "color": "rgb(72,159,19)",
          "width": 10
         },
         "mode": "lines",
         "name": "loading:Carrier C",
         "type": "scatter",
         "x": [
          "1970-01-01T01:57:40",
          "1970-01-01T01:57:40",
          "1970-01-01T02:31:00",
          "1970-01-01T02:31:00",
          "1970-01-01T02:31:00",
          "1970-01-01T05:43:04",
          "1970-01-01T05:43:04",
          "1970-01-01T06:16:24",
          "1970-01-01T06:16:24",
          "1970-01-01T06:16:24",
          "1970-01-01T09:28:28",
          "1970-01-01T09:28:28",
          "1970-01-01T10:01:48",
          "1970-01-01T10:01:48",
          "1970-01-01T10:01:48",
          "1970-01-01T13:13:52",
          "1970-01-01T13:13:52",
          "1970-01-01T13:47:12",
          "1970-01-01T13:47:12",
          "1970-01-01T13:47:12",
          "1970-01-01T16:59:16",
          "1970-01-01T16:59:16",
          "1970-01-01T17:32:36",
          "1970-01-01T17:32:36",
          "1970-01-01T17:32:36",
          "1970-01-01T20:44:40",
          "1970-01-01T20:44:40",
          "1970-01-01T21:18:00",
          "1970-01-01T21:18:00",
          "1970-01-01T21:18:00",
          "1970-01-02T00:30:04",
          "1970-01-02T00:30:04",
          "1970-01-02T01:03:24",
          "1970-01-02T01:03:24",
          "1970-01-02T01:03:24",
          "1970-01-01T01:57:40",
          "1970-01-01T01:57:40",
          "1970-01-01T02:31:00",
          "1970-01-01T02:31:00",
          "1970-01-01T02:31:00",
          "1970-01-01T05:43:04",
          "1970-01-01T05:43:04",
          "1970-01-01T06:16:24",
          "1970-01-01T06:16:24",
          "1970-01-01T06:16:24",
          "1970-01-01T09:28:28",
          "1970-01-01T09:28:28",
          "1970-01-01T10:01:48",
          "1970-01-01T10:01:48",
          "1970-01-01T10:01:48",
          "1970-01-01T13:13:52",
          "1970-01-01T13:13:52",
          "1970-01-01T13:47:12",
          "1970-01-01T13:47:12",
          "1970-01-01T13:47:12",
          "1970-01-01T16:59:16",
          "1970-01-01T16:59:16",
          "1970-01-01T17:32:36",
          "1970-01-01T17:32:36",
          "1970-01-01T17:32:36",
          "1970-01-01T20:44:40",
          "1970-01-01T20:44:40",
          "1970-01-01T21:18:00",
          "1970-01-01T21:18:00",
          "1970-01-01T21:18:00",
          "1970-01-02T00:30:04",
          "1970-01-02T00:30:04",
          "1970-01-02T01:03:24",
          "1970-01-02T01:03:24",
          "1970-01-02T01:03:24"
         ],
         "y": [
          "Carrier C",
          "Carrier C",
          "Carrier C",
          "Carrier C",
          null,
          "Carrier C",
          "Carrier C",
          "Carrier C",
          "Carrier C",
          null,
          "Carrier C",
          "Carrier C",
          "Carrier C",
          "Carrier C",
          null,
          "Carrier C",
          "Carrier C",
          "Carrier C",
          "Carrier C",
          null,
          "Carrier C",
          "Carrier C",
          "Carrier C",
          "Carrier C",
          null,
          "Carrier C",
          "Carrier C",
          "Carrier C",
          "Carrier C",
          null,
          "Carrier C",
          "Carrier C",
          "Carrier C",
          "Carrier C",
          null,
          "Cutter T",
          "Cutter T",
          "Cutter T",
          "Cutter T",
          null,
          "Cutter T",
          "Cutter T",
          "Cutter T",
          "Cutter T",
          null,
          "Cutter T",
          "Cutter T",
          "Cutter T",
          "Cutter T",
          null,
          "Cutter T",
          "Cutter T",
          "Cutter T",
          "Cutter T",
          null,
          "Cutter T",
          "Cutter T",
          "Cutter T",
          "Cutter T",
          null,
          "Cutter T",
          "Cutter T",
          "Cutter T",
          "Cutter T",
          null,
          "Cutter T",
          "Cutter T",
          "Cutter T",
          "Cutter T",
          null
         ]
        },
        {
         "connectgaps": false,
         "hoverinfo": "y+name",
         "line": {
          "color": "rgb(86,173,33)",
          "width": 10
         },
         "mode": "lines",
         "name": "sailing empty:Carrier C",
         "type": "scatter",
         "x": [
          "1970-01-01T00:48:01",
          "1970-01-01T00:48:01",
          "1970-01-01T01:36:02",
          "1970-01-01T01:36:02",
          "1970-01-01T01:36:02",
          "1970-01-01T04:55:03",
          "1970-01-01T04:55:03",
          "1970-01-01T05:43:04",
          "1970-01-01T05:43:04",
          "1970-01-01T05:43:04",
          "1970-01-01T08:40:27",
          "1970-01-01T08:40:27",
          "1970-01-01T09:28:28",
          "1970-01-01T09:28:28",
          "1970-01-01T09:28:28",
          "1970-01-01T12:25:51",
          "1970-01-01T12:25:51",
          "1970-01-01T13:13:52",
          "1970-01-01T13:13:52",
          "1970-01-01T13:13:52",
          "1970-01-01T16:11:15",
          "1970-01-01T16:11:15",
          "1970-01-01T16:59:16",
          "1970-01-01T16:59:16",
          "1970-01-01T16:59:16",
          "1970-01-01T19:56:39",
          "1970-01-01T19:56:39",
          "1970-01-01T20:44:40",
          "1970-01-01T20:44:40",
          "1970-01-01T20:44:40",
          "1970-01-01T23:42:03",
          "1970-01-01T23:42:03",
          "1970-01-02T00:30:04",
          "1970-01-02T00:30:04",
          "1970-01-02T00:30:04"
         ],
         "y": [
          "Carrier C",
          "Carrier C",
          "Carrier C",
          "Carrier C",
          null,
          "Carrier C",
          "Carrier C",
          "Carrier C",
          "Carrier C",
          null,
          "Carrier C",
          "Carrier C",
          "Carrier C",
          "Carrier C",
          null,
          "Carrier C",
          "Carrier C",
          "Carrier C",
          "Carrier C",
          null,
          "Carrier C",
          "Carrier C",
          "Carrier C",
          "Carrier C",
          null,
          "Carrier C",
          "Carrier C",
          "Carrier C",
          "Carrier C",
          null,
          "Carrier C",
          "Carrier C",
          "Carrier C",
          "Carrier C",
          null
         ]
        },
        {
         "connectgaps": false,
         "hoverinfo": "y+name",
         "line": {
          "color": "rgb(100,187,47)",
          "width": 10
         },
         "mode": "lines",
         "name": "basic activity:Carrier C",
         "type": "scatter",
         "x": [
          "1970-01-01T00:00:00",
          "1970-01-01T00:00:00",
          "1970-01-01T00:48:01",
          "1970-01-01T00:48:01",
          "1970-01-01T00:48:01",
          "1970-01-01T04:07:02",
          "1970-01-01T04:07:02",
          "1970-01-01T04:55:03",
          "1970-01-01T04:55:03",
          "1970-01-01T04:55:03",
          "1970-01-01T07:52:26",
          "1970-01-01T07:52:26",
          "1970-01-01T08:40:27",
          "1970-01-01T08:40:27",
          "1970-01-01T08:40:27",
          "1970-01-01T11:37:50",
          "1970-01-01T11:37:50",
          "1970-01-01T12:25:51",
          "1970-01-01T12:25:51",
          "1970-01-01T12:25:51",
          "1970-01-01T15:23:14",
          "1970-01-01T15:23:14",
          "1970-01-01T16:11:15",
          "1970-01-01T16:11:15",
          "1970-01-01T16:11:15",
          "1970-01-01T19:08:38",
          "1970-01-01T19:08:38",
          "1970-01-01T19:56:39",
          "1970-01-01T19:56:39",
          "1970-01-01T19:56:39",
          "1970-01-01T22:54:02",
          "1970-01-01T22:54:02",
          "1970-01-01T23:42:03",
          "1970-01-01T23:42:03",
          "1970-01-01T23:42:03"
         ],
         "y": [
          "Carrier C",
          "Carrier C",
          "Carrier C",
          "Carrier C",
          null,
          "Carrier C",
          "Carrier C",
          "Carrier C",
          "Carrier C",
          null,
          "Carrier C",
          "Carrier C",
          "Carrier C",
          "Carrier C",
          null,
          "Carrier C",
          "Carrier C",
          "Carrier C",
          "Carrier C",
          null,
          "Carrier C",
          "Carrier C",
          "Carrier C",
          "Carrier C",
          null,
          "Carrier C",
          "Carrier C",
          "Carrier C",
          "Carrier C",
          null,
          "Carrier C",
          "Carrier C",
          "Carrier C",
          "Carrier C",
          null
         ]
        },
        {
         "connectgaps": false,
         "hoverinfo": "y+name",
         "line": {
          "color": "rgb(114,201,61)",
          "width": 10
         },
         "mode": "lines",
         "name": "loading:Carrier A",
         "type": "scatter",
         "x": [
          "1970-01-01T01:16:00",
          "1970-01-01T01:16:00",
          "1970-01-01T01:57:40",
          "1970-01-01T01:57:40",
          "1970-01-01T01:57:40",
          "1970-01-01T04:29:40",
          "1970-01-01T04:29:40",
          "1970-01-01T05:11:20",
          "1970-01-01T05:11:20",
          "1970-01-01T05:11:20",
          "1970-01-01T07:43:20",
          "1970-01-01T07:43:20",
          "1970-01-01T08:25:00",
          "1970-01-01T08:25:00",
          "1970-01-01T08:25:00",
          "1970-01-01T11:02:56",
          "1970-01-01T11:02:56",
          "1970-01-01T11:44:36",
          "1970-01-01T11:44:36",
          "1970-01-01T11:44:36",
          "1970-01-01T14:58:04",
          "1970-01-01T14:58:04",
          "1970-01-01T15:39:44",
          "1970-01-01T15:39:44",
          "1970-01-01T15:39:44",
          "1970-01-01T18:53:12",
          "1970-01-01T18:53:12",
          "1970-01-01T19:34:52",
          "1970-01-01T19:34:52",
          "1970-01-01T19:34:52",
          "1970-01-01T22:48:20",
          "1970-01-01T22:48:20",
          "1970-01-01T23:30:00",
          "1970-01-01T23:30:00",
          "1970-01-01T23:30:00",
          "1970-01-02T02:43:28",
          "1970-01-02T02:43:28",
          "1970-01-02T03:25:08",
          "1970-01-02T03:25:08",
          "1970-01-02T03:25:08",
          "1970-01-01T01:16:00",
          "1970-01-01T01:16:00",
          "1970-01-01T01:57:40",
          "1970-01-01T01:57:40",
          "1970-01-01T01:57:40",
          "1970-01-01T04:29:40",
          "1970-01-01T04:29:40",
          "1970-01-01T05:11:20",
          "1970-01-01T05:11:20",
          "1970-01-01T05:11:20",
          "1970-01-01T07:43:20",
          "1970-01-01T07:43:20",
          "1970-01-01T08:25:00",
          "1970-01-01T08:25:00",
          "1970-01-01T08:25:00",
          "1970-01-01T11:02:56",
          "1970-01-01T11:02:56",
          "1970-01-01T11:44:36",
          "1970-01-01T11:44:36",
          "1970-01-01T11:44:36",
          "1970-01-01T14:58:04",
          "1970-01-01T14:58:04",
          "1970-01-01T15:39:44",
          "1970-01-01T15:39:44",
          "1970-01-01T15:39:44",
          "1970-01-01T18:53:12",
          "1970-01-01T18:53:12",
          "1970-01-01T19:34:52",
          "1970-01-01T19:34:52",
          "1970-01-01T19:34:52",
          "1970-01-01T22:48:20",
          "1970-01-01T22:48:20",
          "1970-01-01T23:30:00",
          "1970-01-01T23:30:00",
          "1970-01-01T23:30:00",
          "1970-01-02T02:43:28",
          "1970-01-02T02:43:28",
          "1970-01-02T03:25:08",
          "1970-01-02T03:25:08",
          "1970-01-02T03:25:08"
         ],
         "y": [
          "Carrier A",
          "Carrier A",
          "Carrier A",
          "Carrier A",
          null,
          "Carrier A",
          "Carrier A",
          "Carrier A",
          "Carrier A",
          null,
          "Carrier A",
          "Carrier A",
          "Carrier A",
          "Carrier A",
          null,
          "Carrier A",
          "Carrier A",
          "Carrier A",
          "Carrier A",
          null,
          "Carrier A",
          "Carrier A",
          "Carrier A",
          "Carrier A",
          null,
          "Carrier A",
          "Carrier A",
          "Carrier A",
          "Carrier A",
          null,
          "Carrier A",
          "Carrier A",
          "Carrier A",
          "Carrier A",
          null,
          "Carrier A",
          "Carrier A",
          "Carrier A",
          "Carrier A",
          null,
          "Cutter T",
          "Cutter T",
          "Cutter T",
          "Cutter T",
          null,
          "Cutter T",
          "Cutter T",
          "Cutter T",
          "Cutter T",
          null,
          "Cutter T",
          "Cutter T",
          "Cutter T",
          "Cutter T",
          null,
          "Cutter T",
          "Cutter T",
          "Cutter T",
          "Cutter T",
          null,
          "Cutter T",
          "Cutter T",
          "Cutter T",
          "Cutter T",
          null,
          "Cutter T",
          "Cutter T",
          "Cutter T",
          "Cutter T",
          null,
          "Cutter T",
          "Cutter T",
          "Cutter T",
          "Cutter T",
          null,
          "Cutter T",
          "Cutter T",
          "Cutter T",
          "Cutter T",
          null
         ]
        },
        {
         "connectgaps": false,
         "hoverinfo": "y+name",
         "line": {
          "color": "rgb(128,215,75)",
          "width": 10
         },
         "mode": "lines",
         "name": "loading:Carrier B",
         "type": "scatter",
         "x": [
          "1970-01-01T02:31:00",
          "1970-01-01T02:31:00",
          "1970-01-01T03:12:40",
          "1970-01-01T03:12:40",
          "1970-01-01T03:12:40",
          "1970-01-01T06:26:08",
          "1970-01-01T06:26:08",
          "1970-01-01T07:07:48",
          "1970-01-01T07:07:48",
          "1970-01-01T07:07:48",
          "1970-01-01T10:21:16",
          "1970-01-01T10:21:16",
          "1970-01-01T11:02:56",
          "1970-01-01T11:02:56",
          "1970-01-01T11:02:56",
          "1970-01-01T14:16:24",
          "1970-01-01T14:16:24",
          "1970-01-01T14:58:04",
          "1970-01-01T14:58:04",
          "1970-01-01T14:58:04",
          "1970-01-01T18:11:32",
          "1970-01-01T18:11:32",
          "1970-01-01T18:53:12",
          "1970-01-01T18:53:12",
          "1970-01-01T18:53:12",
          "1970-01-01T22:06:40",
          "1970-01-01T22:06:40",
          "1970-01-01T22:48:20",
          "1970-01-01T22:48:20",
          "1970-01-01T22:48:20",
          "1970-01-02T02:01:48",
          "1970-01-02T02:01:48",
          "1970-01-02T02:43:28",
          "1970-01-02T02:43:28",
          "1970-01-02T02:43:28",
          "1970-01-01T02:31:00",
          "1970-01-01T02:31:00",
          "1970-01-01T03:12:40",
          "1970-01-01T03:12:40",
          "1970-01-01T03:12:40",
          "1970-01-01T06:26:08",
          "1970-01-01T06:26:08",
          "1970-01-01T07:07:48",
          "1970-01-01T07:07:48",
          "1970-01-01T07:07:48",
          "1970-01-01T10:21:16",
          "1970-01-01T10:21:16",
          "1970-01-01T11:02:56",
          "1970-01-01T11:02:56",
          "1970-01-01T11:02:56",
          "1970-01-01T14:16:24",
          "1970-01-01T14:16:24",
          "1970-01-01T14:58:04",
          "1970-01-01T14:58:04",
          "1970-01-01T14:58:04",
          "1970-01-01T18:11:32",
          "1970-01-01T18:11:32",
          "1970-01-01T18:53:12",
          "1970-01-01T18:53:12",
          "1970-01-01T18:53:12",
          "1970-01-01T22:06:40",
          "1970-01-01T22:06:40",
          "1970-01-01T22:48:20",
          "1970-01-01T22:48:20",
          "1970-01-01T22:48:20",
          "1970-01-02T02:01:48",
          "1970-01-02T02:01:48",
          "1970-01-02T02:43:28",
          "1970-01-02T02:43:28",
          "1970-01-02T02:43:28"
         ],
         "y": [
          "Carrier B",
          "Carrier B",
          "Carrier B",
          "Carrier B",
          null,
          "Carrier B",
          "Carrier B",
          "Carrier B",
          "Carrier B",
          null,
          "Carrier B",
          "Carrier B",
          "Carrier B",
          "Carrier B",
          null,
          "Carrier B",
          "Carrier B",
          "Carrier B",
          "Carrier B",
          null,
          "Carrier B",
          "Carrier B",
          "Carrier B",
          "Carrier B",
          null,
          "Carrier B",
          "Carrier B",
          "Carrier B",
          "Carrier B",
          null,
          "Carrier B",
          "Carrier B",
          "Carrier B",
          "Carrier B",
          null,
          "Cutter T",
          "Cutter T",
          "Cutter T",
          "Cutter T",
          null,
          "Cutter T",
          "Cutter T",
          "Cutter T",
          "Cutter T",
          null,
          "Cutter T",
          "Cutter T",
          "Cutter T",
          "Cutter T",
          null,
          "Cutter T",
          "Cutter T",
          "Cutter T",
          "Cutter T",
          null,
          "Cutter T",
          "Cutter T",
          "Cutter T",
          "Cutter T",
          null,
          "Cutter T",
          "Cutter T",
          "Cutter T",
          "Cutter T",
          null,
          "Cutter T",
          "Cutter T",
          "Cutter T",
          "Cutter T",
          null
         ]
        },
        {
         "connectgaps": false,
         "hoverinfo": "y+name",
         "line": {
          "color": "rgb(142,229,89)",
          "width": 10
         },
         "mode": "lines",
         "name": "loading:Carrier C",
         "type": "scatter",
         "x": [
          "1970-01-01T01:57:40",
          "1970-01-01T01:57:40",
          "1970-01-01T02:31:00",
          "1970-01-01T02:31:00",
          "1970-01-01T02:31:00",
          "1970-01-01T05:43:04",
          "1970-01-01T05:43:04",
          "1970-01-01T06:16:24",
          "1970-01-01T06:16:24",
          "1970-01-01T06:16:24",
          "1970-01-01T09:28:28",
          "1970-01-01T09:28:28",
          "1970-01-01T10:01:48",
          "1970-01-01T10:01:48",
          "1970-01-01T10:01:48",
          "1970-01-01T13:13:52",
          "1970-01-01T13:13:52",
          "1970-01-01T13:47:12",
          "1970-01-01T13:47:12",
          "1970-01-01T13:47:12",
          "1970-01-01T16:59:16",
          "1970-01-01T16:59:16",
          "1970-01-01T17:32:36",
          "1970-01-01T17:32:36",
          "1970-01-01T17:32:36",
          "1970-01-01T20:44:40",
          "1970-01-01T20:44:40",
          "1970-01-01T21:18:00",
          "1970-01-01T21:18:00",
          "1970-01-01T21:18:00",
          "1970-01-02T00:30:04",
          "1970-01-02T00:30:04",
          "1970-01-02T01:03:24",
          "1970-01-02T01:03:24",
          "1970-01-02T01:03:24",
          "1970-01-01T01:57:40",
          "1970-01-01T01:57:40",
          "1970-01-01T02:31:00",
          "1970-01-01T02:31:00",
          "1970-01-01T02:31:00",
          "1970-01-01T05:43:04",
          "1970-01-01T05:43:04",
          "1970-01-01T06:16:24",
          "1970-01-01T06:16:24",
          "1970-01-01T06:16:24",
          "1970-01-01T09:28:28",
          "1970-01-01T09:28:28",
          "1970-01-01T10:01:48",
          "1970-01-01T10:01:48",
          "1970-01-01T10:01:48",
          "1970-01-01T13:13:52",
          "1970-01-01T13:13:52",
          "1970-01-01T13:47:12",
          "1970-01-01T13:47:12",
          "1970-01-01T13:47:12",
          "1970-01-01T16:59:16",
          "1970-01-01T16:59:16",
          "1970-01-01T17:32:36",
          "1970-01-01T17:32:36",
          "1970-01-01T17:32:36",
          "1970-01-01T20:44:40",
          "1970-01-01T20:44:40",
          "1970-01-01T21:18:00",
          "1970-01-01T21:18:00",
          "1970-01-01T21:18:00",
          "1970-01-02T00:30:04",
          "1970-01-02T00:30:04",
          "1970-01-02T01:03:24",
          "1970-01-02T01:03:24",
          "1970-01-02T01:03:24"
         ],
         "y": [
          "Carrier C",
          "Carrier C",
          "Carrier C",
          "Carrier C",
          null,
          "Carrier C",
          "Carrier C",
          "Carrier C",
          "Carrier C",
          null,
          "Carrier C",
          "Carrier C",
          "Carrier C",
          "Carrier C",
          null,
          "Carrier C",
          "Carrier C",
          "Carrier C",
          "Carrier C",
          null,
          "Carrier C",
          "Carrier C",
          "Carrier C",
          "Carrier C",
          null,
          "Carrier C",
          "Carrier C",
          "Carrier C",
          "Carrier C",
          null,
          "Carrier C",
          "Carrier C",
          "Carrier C",
          "Carrier C",
          null,
          "Cutter T",
          "Cutter T",
          "Cutter T",
          "Cutter T",
          null,
          "Cutter T",
          "Cutter T",
          "Cutter T",
          "Cutter T",
          null,
          "Cutter T",
          "Cutter T",
          "Cutter T",
          "Cutter T",
          null,
          "Cutter T",
          "Cutter T",
          "Cutter T",
          "Cutter T",
          null,
          "Cutter T",
          "Cutter T",
          "Cutter T",
          "Cutter T",
          null,
          "Cutter T",
          "Cutter T",
          "Cutter T",
          "Cutter T",
          null,
          "Cutter T",
          "Cutter T",
          "Cutter T",
          "Cutter T",
          null
         ]
        }
       ],
       "layout": {
        "hovermode": "closest",
        "legend": {
         "orientation": "h",
         "x": 0,
         "y": -0.2
        },
        "template": {
         "data": {
          "bar": [
           {
            "error_x": {
             "color": "#2a3f5f"
            },
            "error_y": {
             "color": "#2a3f5f"
            },
            "marker": {
             "line": {
              "color": "#E5ECF6",
              "width": 0.5
             },
             "pattern": {
              "fillmode": "overlay",
              "size": 10,
              "solidity": 0.2
             }
            },
            "type": "bar"
           }
          ],
          "barpolar": [
           {
            "marker": {
             "line": {
              "color": "#E5ECF6",
              "width": 0.5
             },
             "pattern": {
              "fillmode": "overlay",
              "size": 10,
              "solidity": 0.2
             }
            },
            "type": "barpolar"
           }
          ],
          "carpet": [
           {
            "aaxis": {
             "endlinecolor": "#2a3f5f",
             "gridcolor": "white",
             "linecolor": "white",
             "minorgridcolor": "white",
             "startlinecolor": "#2a3f5f"
            },
            "baxis": {
             "endlinecolor": "#2a3f5f",
             "gridcolor": "white",
             "linecolor": "white",
             "minorgridcolor": "white",
             "startlinecolor": "#2a3f5f"
            },
            "type": "carpet"
           }
          ],
          "choropleth": [
           {
            "colorbar": {
             "outlinewidth": 0,
             "ticks": ""
            },
            "type": "choropleth"
           }
          ],
          "contour": [
           {
            "colorbar": {
             "outlinewidth": 0,
             "ticks": ""
            },
            "colorscale": [
             [
              0,
              "#0d0887"
             ],
             [
              0.1111111111111111,
              "#46039f"
             ],
             [
              0.2222222222222222,
              "#7201a8"
             ],
             [
              0.3333333333333333,
              "#9c179e"
             ],
             [
              0.4444444444444444,
              "#bd3786"
             ],
             [
              0.5555555555555556,
              "#d8576b"
             ],
             [
              0.6666666666666666,
              "#ed7953"
             ],
             [
              0.7777777777777778,
              "#fb9f3a"
             ],
             [
              0.8888888888888888,
              "#fdca26"
             ],
             [
              1,
              "#f0f921"
             ]
            ],
            "type": "contour"
           }
          ],
          "contourcarpet": [
           {
            "colorbar": {
             "outlinewidth": 0,
             "ticks": ""
            },
            "type": "contourcarpet"
           }
          ],
          "heatmap": [
           {
            "colorbar": {
             "outlinewidth": 0,
             "ticks": ""
            },
            "colorscale": [
             [
              0,
              "#0d0887"
             ],
             [
              0.1111111111111111,
              "#46039f"
             ],
             [
              0.2222222222222222,
              "#7201a8"
             ],
             [
              0.3333333333333333,
              "#9c179e"
             ],
             [
              0.4444444444444444,
              "#bd3786"
             ],
             [
              0.5555555555555556,
              "#d8576b"
             ],
             [
              0.6666666666666666,
              "#ed7953"
             ],
             [
              0.7777777777777778,
              "#fb9f3a"
             ],
             [
              0.8888888888888888,
              "#fdca26"
             ],
             [
              1,
              "#f0f921"
             ]
            ],
            "type": "heatmap"
           }
          ],
          "heatmapgl": [
           {
            "colorbar": {
             "outlinewidth": 0,
             "ticks": ""
            },
            "colorscale": [
             [
              0,
              "#0d0887"
             ],
             [
              0.1111111111111111,
              "#46039f"
             ],
             [
              0.2222222222222222,
              "#7201a8"
             ],
             [
              0.3333333333333333,
              "#9c179e"
             ],
             [
              0.4444444444444444,
              "#bd3786"
             ],
             [
              0.5555555555555556,
              "#d8576b"
             ],
             [
              0.6666666666666666,
              "#ed7953"
             ],
             [
              0.7777777777777778,
              "#fb9f3a"
             ],
             [
              0.8888888888888888,
              "#fdca26"
             ],
             [
              1,
              "#f0f921"
             ]
            ],
            "type": "heatmapgl"
           }
          ],
          "histogram": [
           {
            "marker": {
             "pattern": {
              "fillmode": "overlay",
              "size": 10,
              "solidity": 0.2
             }
            },
            "type": "histogram"
           }
          ],
          "histogram2d": [
           {
            "colorbar": {
             "outlinewidth": 0,
             "ticks": ""
            },
            "colorscale": [
             [
              0,
              "#0d0887"
             ],
             [
              0.1111111111111111,
              "#46039f"
             ],
             [
              0.2222222222222222,
              "#7201a8"
             ],
             [
              0.3333333333333333,
              "#9c179e"
             ],
             [
              0.4444444444444444,
              "#bd3786"
             ],
             [
              0.5555555555555556,
              "#d8576b"
             ],
             [
              0.6666666666666666,
              "#ed7953"
             ],
             [
              0.7777777777777778,
              "#fb9f3a"
             ],
             [
              0.8888888888888888,
              "#fdca26"
             ],
             [
              1,
              "#f0f921"
             ]
            ],
            "type": "histogram2d"
           }
          ],
          "histogram2dcontour": [
           {
            "colorbar": {
             "outlinewidth": 0,
             "ticks": ""
            },
            "colorscale": [
             [
              0,
              "#0d0887"
             ],
             [
              0.1111111111111111,
              "#46039f"
             ],
             [
              0.2222222222222222,
              "#7201a8"
             ],
             [
              0.3333333333333333,
              "#9c179e"
             ],
             [
              0.4444444444444444,
              "#bd3786"
             ],
             [
              0.5555555555555556,
              "#d8576b"
             ],
             [
              0.6666666666666666,
              "#ed7953"
             ],
             [
              0.7777777777777778,
              "#fb9f3a"
             ],
             [
              0.8888888888888888,
              "#fdca26"
             ],
             [
              1,
              "#f0f921"
             ]
            ],
            "type": "histogram2dcontour"
           }
          ],
          "mesh3d": [
           {
            "colorbar": {
             "outlinewidth": 0,
             "ticks": ""
            },
            "type": "mesh3d"
           }
          ],
          "parcoords": [
           {
            "line": {
             "colorbar": {
              "outlinewidth": 0,
              "ticks": ""
             }
            },
            "type": "parcoords"
           }
          ],
          "pie": [
           {
            "automargin": true,
            "type": "pie"
           }
          ],
          "scatter": [
           {
            "fillpattern": {
             "fillmode": "overlay",
             "size": 10,
             "solidity": 0.2
            },
            "type": "scatter"
           }
          ],
          "scatter3d": [
           {
            "line": {
             "colorbar": {
              "outlinewidth": 0,
              "ticks": ""
             }
            },
            "marker": {
             "colorbar": {
              "outlinewidth": 0,
              "ticks": ""
             }
            },
            "type": "scatter3d"
           }
          ],
          "scattercarpet": [
           {
            "marker": {
             "colorbar": {
              "outlinewidth": 0,
              "ticks": ""
             }
            },
            "type": "scattercarpet"
           }
          ],
          "scattergeo": [
           {
            "marker": {
             "colorbar": {
              "outlinewidth": 0,
              "ticks": ""
             }
            },
            "type": "scattergeo"
           }
          ],
          "scattergl": [
           {
            "marker": {
             "colorbar": {
              "outlinewidth": 0,
              "ticks": ""
             }
            },
            "type": "scattergl"
           }
          ],
          "scattermapbox": [
           {
            "marker": {
             "colorbar": {
              "outlinewidth": 0,
              "ticks": ""
             }
            },
            "type": "scattermapbox"
           }
          ],
          "scatterpolar": [
           {
            "marker": {
             "colorbar": {
              "outlinewidth": 0,
              "ticks": ""
             }
            },
            "type": "scatterpolar"
           }
          ],
          "scatterpolargl": [
           {
            "marker": {
             "colorbar": {
              "outlinewidth": 0,
              "ticks": ""
             }
            },
            "type": "scatterpolargl"
           }
          ],
          "scatterternary": [
           {
            "marker": {
             "colorbar": {
              "outlinewidth": 0,
              "ticks": ""
             }
            },
            "type": "scatterternary"
           }
          ],
          "surface": [
           {
            "colorbar": {
             "outlinewidth": 0,
             "ticks": ""
            },
            "colorscale": [
             [
              0,
              "#0d0887"
             ],
             [
              0.1111111111111111,
              "#46039f"
             ],
             [
              0.2222222222222222,
              "#7201a8"
             ],
             [
              0.3333333333333333,
              "#9c179e"
             ],
             [
              0.4444444444444444,
              "#bd3786"
             ],
             [
              0.5555555555555556,
              "#d8576b"
             ],
             [
              0.6666666666666666,
              "#ed7953"
             ],
             [
              0.7777777777777778,
              "#fb9f3a"
             ],
             [
              0.8888888888888888,
              "#fdca26"
             ],
             [
              1,
              "#f0f921"
             ]
            ],
            "type": "surface"
           }
          ],
          "table": [
           {
            "cells": {
             "fill": {
              "color": "#EBF0F8"
             },
             "line": {
              "color": "white"
             }
            },
            "header": {
             "fill": {
              "color": "#C8D4E3"
             },
             "line": {
              "color": "white"
             }
            },
            "type": "table"
           }
          ]
         },
         "layout": {
          "annotationdefaults": {
           "arrowcolor": "#2a3f5f",
           "arrowhead": 0,
           "arrowwidth": 1
          },
          "autotypenumbers": "strict",
          "coloraxis": {
           "colorbar": {
            "outlinewidth": 0,
            "ticks": ""
           }
          },
          "colorscale": {
           "diverging": [
            [
             0,
             "#8e0152"
            ],
            [
             0.1,
             "#c51b7d"
            ],
            [
             0.2,
             "#de77ae"
            ],
            [
             0.3,
             "#f1b6da"
            ],
            [
             0.4,
             "#fde0ef"
            ],
            [
             0.5,
             "#f7f7f7"
            ],
            [
             0.6,
             "#e6f5d0"
            ],
            [
             0.7,
             "#b8e186"
            ],
            [
             0.8,
             "#7fbc41"
            ],
            [
             0.9,
             "#4d9221"
            ],
            [
             1,
             "#276419"
            ]
           ],
           "sequential": [
            [
             0,
             "#0d0887"
            ],
            [
             0.1111111111111111,
             "#46039f"
            ],
            [
             0.2222222222222222,
             "#7201a8"
            ],
            [
             0.3333333333333333,
             "#9c179e"
            ],
            [
             0.4444444444444444,
             "#bd3786"
            ],
            [
             0.5555555555555556,
             "#d8576b"
            ],
            [
             0.6666666666666666,
             "#ed7953"
            ],
            [
             0.7777777777777778,
             "#fb9f3a"
            ],
            [
             0.8888888888888888,
             "#fdca26"
            ],
            [
             1,
             "#f0f921"
            ]
           ],
           "sequentialminus": [
            [
             0,
             "#0d0887"
            ],
            [
             0.1111111111111111,
             "#46039f"
            ],
            [
             0.2222222222222222,
             "#7201a8"
            ],
            [
             0.3333333333333333,
             "#9c179e"
            ],
            [
             0.4444444444444444,
             "#bd3786"
            ],
            [
             0.5555555555555556,
             "#d8576b"
            ],
            [
             0.6666666666666666,
             "#ed7953"
            ],
            [
             0.7777777777777778,
             "#fb9f3a"
            ],
            [
             0.8888888888888888,
             "#fdca26"
            ],
            [
             1,
             "#f0f921"
            ]
           ]
          },
          "colorway": [
           "#636efa",
           "#EF553B",
           "#00cc96",
           "#ab63fa",
           "#FFA15A",
           "#19d3f3",
           "#FF6692",
           "#B6E880",
           "#FF97FF",
           "#FECB52"
          ],
          "font": {
           "color": "#2a3f5f"
          },
          "geo": {
           "bgcolor": "white",
           "lakecolor": "white",
           "landcolor": "#E5ECF6",
           "showlakes": true,
           "showland": true,
           "subunitcolor": "white"
          },
          "hoverlabel": {
           "align": "left"
          },
          "hovermode": "closest",
          "mapbox": {
           "style": "light"
          },
          "paper_bgcolor": "white",
          "plot_bgcolor": "#E5ECF6",
          "polar": {
           "angularaxis": {
            "gridcolor": "white",
            "linecolor": "white",
            "ticks": ""
           },
           "bgcolor": "#E5ECF6",
           "radialaxis": {
            "gridcolor": "white",
            "linecolor": "white",
            "ticks": ""
           }
          },
          "scene": {
           "xaxis": {
            "backgroundcolor": "#E5ECF6",
            "gridcolor": "white",
            "gridwidth": 2,
            "linecolor": "white",
            "showbackground": true,
            "ticks": "",
            "zerolinecolor": "white"
           },
           "yaxis": {
            "backgroundcolor": "#E5ECF6",
            "gridcolor": "white",
            "gridwidth": 2,
            "linecolor": "white",
            "showbackground": true,
            "ticks": "",
            "zerolinecolor": "white"
           },
           "zaxis": {
            "backgroundcolor": "#E5ECF6",
            "gridcolor": "white",
            "gridwidth": 2,
            "linecolor": "white",
            "showbackground": true,
            "ticks": "",
            "zerolinecolor": "white"
           }
          },
          "shapedefaults": {
           "line": {
            "color": "#2a3f5f"
           }
          },
          "ternary": {
           "aaxis": {
            "gridcolor": "white",
            "linecolor": "white",
            "ticks": ""
           },
           "baxis": {
            "gridcolor": "white",
            "linecolor": "white",
            "ticks": ""
           },
           "bgcolor": "#E5ECF6",
           "caxis": {
            "gridcolor": "white",
            "linecolor": "white",
            "ticks": ""
           }
          },
          "title": {
           "x": 0.05
          },
          "xaxis": {
           "automargin": true,
           "gridcolor": "white",
           "linecolor": "white",
           "ticks": "",
           "title": {
            "standoff": 15
           },
           "zerolinecolor": "white",
           "zerolinewidth": 2
          },
          "yaxis": {
           "automargin": true,
           "gridcolor": "white",
           "linecolor": "white",
           "ticks": "",
           "title": {
            "standoff": 15
           },
           "zerolinecolor": "white",
           "zerolinewidth": 2
          }
         }
        },
        "title": {
         "text": "GANTT Chart"
        },
        "xaxis": {
         "range": [
          "1970-01-01T00:00:00",
          "1970-01-02T04:41:08"
         ],
         "title": {
          "font": {
           "color": "#7f7f7f",
           "family": "Courier New, monospace",
           "size": 18
          },
          "text": "Time"
         }
        },
        "yaxis": {
         "title": {
          "font": {
           "color": "#7f7f7f",
           "family": "Courier New, monospace",
           "size": 18
          },
          "text": "Activities"
         }
        }
       }
      },
      "text/html": [
       "<div>                            <div id=\"b828d64e-5b4b-4d38-8e70-6f94dba333b2\" class=\"plotly-graph-div\" style=\"height:525px; width:100%;\"></div>            <script type=\"text/javascript\">                require([\"plotly\"], function(Plotly) {                    window.PLOTLYENV=window.PLOTLYENV || {};                                    if (document.getElementById(\"b828d64e-5b4b-4d38-8e70-6f94dba333b2\")) {                    Plotly.newPlot(                        \"b828d64e-5b4b-4d38-8e70-6f94dba333b2\",                        [{\"connectgaps\":false,\"hoverinfo\":\"y+name\",\"line\":{\"color\":\"rgb(160,247,107)\",\"width\":10},\"mode\":\"lines\",\"name\":\"sailing empty:Carrier A\",\"x\":[\"1970-01-01T00:38:00\",\"1970-01-01T00:38:00\",\"1970-01-01T01:16:00\",\"1970-01-01T01:16:00\",\"1970-01-01T01:16:00\",\"1970-01-01T03:51:40\",\"1970-01-01T03:51:40\",\"1970-01-01T04:29:40\",\"1970-01-01T04:29:40\",\"1970-01-01T04:29:40\",\"1970-01-01T07:05:20\",\"1970-01-01T07:05:20\",\"1970-01-01T07:43:20\",\"1970-01-01T07:43:20\",\"1970-01-01T07:43:20\",\"1970-01-01T10:19:00\",\"1970-01-01T10:19:00\",\"1970-01-01T10:57:00\",\"1970-01-01T10:57:00\",\"1970-01-01T10:57:00\",\"1970-01-01T13:38:36\",\"1970-01-01T13:38:36\",\"1970-01-01T14:16:36\",\"1970-01-01T14:16:36\",\"1970-01-01T14:16:36\",\"1970-01-01T17:33:44\",\"1970-01-01T17:33:44\",\"1970-01-01T18:11:44\",\"1970-01-01T18:11:44\",\"1970-01-01T18:11:44\",\"1970-01-01T21:28:52\",\"1970-01-01T21:28:52\",\"1970-01-01T22:06:52\",\"1970-01-01T22:06:52\",\"1970-01-01T22:06:52\",\"1970-01-02T01:24:00\",\"1970-01-02T01:24:00\",\"1970-01-02T02:02:00\",\"1970-01-02T02:02:00\",\"1970-01-02T02:02:00\"],\"y\":[\"Carrier A\",\"Carrier A\",\"Carrier A\",\"Carrier A\",null,\"Carrier A\",\"Carrier A\",\"Carrier A\",\"Carrier A\",null,\"Carrier A\",\"Carrier A\",\"Carrier A\",\"Carrier A\",null,\"Carrier A\",\"Carrier A\",\"Carrier A\",\"Carrier A\",null,\"Carrier A\",\"Carrier A\",\"Carrier A\",\"Carrier A\",null,\"Carrier A\",\"Carrier A\",\"Carrier A\",\"Carrier A\",null,\"Carrier A\",\"Carrier A\",\"Carrier A\",\"Carrier A\",null,\"Carrier A\",\"Carrier A\",\"Carrier A\",\"Carrier A\",null],\"type\":\"scatter\"},{\"connectgaps\":false,\"hoverinfo\":\"y+name\",\"line\":{\"color\":\"rgb(174,5,121)\",\"width\":10},\"mode\":\"lines\",\"name\":\"basic activity:Carrier A\",\"x\":[\"1970-01-01T00:00:00\",\"1970-01-01T00:00:00\",\"1970-01-01T00:38:00\",\"1970-01-01T00:38:00\",\"1970-01-01T00:38:00\",\"1970-01-01T03:13:40\",\"1970-01-01T03:13:40\",\"1970-01-01T03:51:40\",\"1970-01-01T03:51:40\",\"1970-01-01T03:51:40\",\"1970-01-01T06:27:20\",\"1970-01-01T06:27:20\",\"1970-01-01T07:05:20\",\"1970-01-01T07:05:20\",\"1970-01-01T07:05:20\",\"1970-01-01T09:41:00\",\"1970-01-01T09:41:00\",\"1970-01-01T10:19:00\",\"1970-01-01T10:19:00\",\"1970-01-01T10:19:00\",\"1970-01-01T13:00:36\",\"1970-01-01T13:00:36\",\"1970-01-01T13:38:36\",\"1970-01-01T13:38:36\",\"1970-01-01T13:38:36\",\"1970-01-01T16:55:44\",\"1970-01-01T16:55:44\",\"1970-01-01T17:33:44\",\"1970-01-01T17:33:44\",\"1970-01-01T17:33:44\",\"1970-01-01T20:50:52\",\"1970-01-01T20:50:52\",\"1970-01-01T21:28:52\",\"1970-01-01T21:28:52\",\"1970-01-01T21:28:52\",\"1970-01-02T00:46:00\",\"1970-01-02T00:46:00\",\"1970-01-02T01:24:00\",\"1970-01-02T01:24:00\",\"1970-01-02T01:24:00\"],\"y\":[\"Carrier A\",\"Carrier A\",\"Carrier A\",\"Carrier A\",null,\"Carrier A\",\"Carrier A\",\"Carrier A\",\"Carrier A\",null,\"Carrier A\",\"Carrier A\",\"Carrier A\",\"Carrier A\",null,\"Carrier A\",\"Carrier A\",\"Carrier A\",\"Carrier A\",null,\"Carrier A\",\"Carrier A\",\"Carrier A\",\"Carrier A\",null,\"Carrier A\",\"Carrier A\",\"Carrier A\",\"Carrier A\",null,\"Carrier A\",\"Carrier A\",\"Carrier A\",\"Carrier A\",null,\"Carrier A\",\"Carrier A\",\"Carrier A\",\"Carrier A\",null],\"type\":\"scatter\"},{\"connectgaps\":false,\"hoverinfo\":\"y+name\",\"line\":{\"color\":\"rgb(188,19,135)\",\"width\":10},\"mode\":\"lines\",\"name\":\"loading:Carrier A\",\"x\":[\"1970-01-01T01:16:00\",\"1970-01-01T01:16:00\",\"1970-01-01T01:57:40\",\"1970-01-01T01:57:40\",\"1970-01-01T01:57:40\",\"1970-01-01T04:29:40\",\"1970-01-01T04:29:40\",\"1970-01-01T05:11:20\",\"1970-01-01T05:11:20\",\"1970-01-01T05:11:20\",\"1970-01-01T07:43:20\",\"1970-01-01T07:43:20\",\"1970-01-01T08:25:00\",\"1970-01-01T08:25:00\",\"1970-01-01T08:25:00\",\"1970-01-01T11:02:56\",\"1970-01-01T11:02:56\",\"1970-01-01T11:44:36\",\"1970-01-01T11:44:36\",\"1970-01-01T11:44:36\",\"1970-01-01T14:58:04\",\"1970-01-01T14:58:04\",\"1970-01-01T15:39:44\",\"1970-01-01T15:39:44\",\"1970-01-01T15:39:44\",\"1970-01-01T18:53:12\",\"1970-01-01T18:53:12\",\"1970-01-01T19:34:52\",\"1970-01-01T19:34:52\",\"1970-01-01T19:34:52\",\"1970-01-01T22:48:20\",\"1970-01-01T22:48:20\",\"1970-01-01T23:30:00\",\"1970-01-01T23:30:00\",\"1970-01-01T23:30:00\",\"1970-01-02T02:43:28\",\"1970-01-02T02:43:28\",\"1970-01-02T03:25:08\",\"1970-01-02T03:25:08\",\"1970-01-02T03:25:08\",\"1970-01-01T01:16:00\",\"1970-01-01T01:16:00\",\"1970-01-01T01:57:40\",\"1970-01-01T01:57:40\",\"1970-01-01T01:57:40\",\"1970-01-01T04:29:40\",\"1970-01-01T04:29:40\",\"1970-01-01T05:11:20\",\"1970-01-01T05:11:20\",\"1970-01-01T05:11:20\",\"1970-01-01T07:43:20\",\"1970-01-01T07:43:20\",\"1970-01-01T08:25:00\",\"1970-01-01T08:25:00\",\"1970-01-01T08:25:00\",\"1970-01-01T11:02:56\",\"1970-01-01T11:02:56\",\"1970-01-01T11:44:36\",\"1970-01-01T11:44:36\",\"1970-01-01T11:44:36\",\"1970-01-01T14:58:04\",\"1970-01-01T14:58:04\",\"1970-01-01T15:39:44\",\"1970-01-01T15:39:44\",\"1970-01-01T15:39:44\",\"1970-01-01T18:53:12\",\"1970-01-01T18:53:12\",\"1970-01-01T19:34:52\",\"1970-01-01T19:34:52\",\"1970-01-01T19:34:52\",\"1970-01-01T22:48:20\",\"1970-01-01T22:48:20\",\"1970-01-01T23:30:00\",\"1970-01-01T23:30:00\",\"1970-01-01T23:30:00\",\"1970-01-02T02:43:28\",\"1970-01-02T02:43:28\",\"1970-01-02T03:25:08\",\"1970-01-02T03:25:08\",\"1970-01-02T03:25:08\"],\"y\":[\"Carrier A\",\"Carrier A\",\"Carrier A\",\"Carrier A\",null,\"Carrier A\",\"Carrier A\",\"Carrier A\",\"Carrier A\",null,\"Carrier A\",\"Carrier A\",\"Carrier A\",\"Carrier A\",null,\"Carrier A\",\"Carrier A\",\"Carrier A\",\"Carrier A\",null,\"Carrier A\",\"Carrier A\",\"Carrier A\",\"Carrier A\",null,\"Carrier A\",\"Carrier A\",\"Carrier A\",\"Carrier A\",null,\"Carrier A\",\"Carrier A\",\"Carrier A\",\"Carrier A\",null,\"Carrier A\",\"Carrier A\",\"Carrier A\",\"Carrier A\",null,\"Cutter T\",\"Cutter T\",\"Cutter T\",\"Cutter T\",null,\"Cutter T\",\"Cutter T\",\"Cutter T\",\"Cutter T\",null,\"Cutter T\",\"Cutter T\",\"Cutter T\",\"Cutter T\",null,\"Cutter T\",\"Cutter T\",\"Cutter T\",\"Cutter T\",null,\"Cutter T\",\"Cutter T\",\"Cutter T\",\"Cutter T\",null,\"Cutter T\",\"Cutter T\",\"Cutter T\",\"Cutter T\",null,\"Cutter T\",\"Cutter T\",\"Cutter T\",\"Cutter T\",null,\"Cutter T\",\"Cutter T\",\"Cutter T\",\"Cutter T\",null],\"type\":\"scatter\"},{\"connectgaps\":false,\"hoverinfo\":\"y+name\",\"line\":{\"color\":\"rgb(202,33,149)\",\"width\":10},\"mode\":\"lines\",\"name\":\"unloading:Carrier A\",\"x\":[\"1970-01-01T02:35:40\",\"1970-01-01T02:35:40\",\"1970-01-01T03:13:40\",\"1970-01-01T03:13:40\",\"1970-01-01T03:13:40\",\"1970-01-01T05:49:20\",\"1970-01-01T05:49:20\",\"1970-01-01T06:27:20\",\"1970-01-01T06:27:20\",\"1970-01-01T06:27:20\",\"1970-01-01T09:03:00\",\"1970-01-01T09:03:00\",\"1970-01-01T09:41:00\",\"1970-01-01T09:41:00\",\"1970-01-01T09:41:00\",\"1970-01-01T12:22:36\",\"1970-01-01T12:22:36\",\"1970-01-01T13:00:36\",\"1970-01-01T13:00:36\",\"1970-01-01T13:00:36\",\"1970-01-01T16:17:44\",\"1970-01-01T16:17:44\",\"1970-01-01T16:55:44\",\"1970-01-01T16:55:44\",\"1970-01-01T16:55:44\",\"1970-01-01T20:12:52\",\"1970-01-01T20:12:52\",\"1970-01-01T20:50:52\",\"1970-01-01T20:50:52\",\"1970-01-01T20:50:52\",\"1970-01-02T00:08:00\",\"1970-01-02T00:08:00\",\"1970-01-02T00:46:00\",\"1970-01-02T00:46:00\",\"1970-01-02T00:46:00\",\"1970-01-02T04:03:08\",\"1970-01-02T04:03:08\",\"1970-01-02T04:41:08\",\"1970-01-02T04:41:08\",\"1970-01-02T04:41:08\"],\"y\":[\"Carrier A\",\"Carrier A\",\"Carrier A\",\"Carrier A\",null,\"Carrier A\",\"Carrier A\",\"Carrier A\",\"Carrier A\",null,\"Carrier A\",\"Carrier A\",\"Carrier A\",\"Carrier A\",null,\"Carrier A\",\"Carrier A\",\"Carrier A\",\"Carrier A\",null,\"Carrier A\",\"Carrier A\",\"Carrier A\",\"Carrier A\",null,\"Carrier A\",\"Carrier A\",\"Carrier A\",\"Carrier A\",null,\"Carrier A\",\"Carrier A\",\"Carrier A\",\"Carrier A\",null,\"Carrier A\",\"Carrier A\",\"Carrier A\",\"Carrier A\",null],\"type\":\"scatter\"},{\"connectgaps\":false,\"hoverinfo\":\"y+name\",\"line\":{\"color\":\"rgb(216,47,163)\",\"width\":10},\"mode\":\"lines\",\"name\":\"sailing full:Carrier A\",\"x\":[\"1970-01-01T01:57:40\",\"1970-01-01T01:57:40\",\"1970-01-01T02:35:40\",\"1970-01-01T02:35:40\",\"1970-01-01T02:35:40\",\"1970-01-01T05:11:20\",\"1970-01-01T05:11:20\",\"1970-01-01T05:49:20\",\"1970-01-01T05:49:20\",\"1970-01-01T05:49:20\",\"1970-01-01T08:25:00\",\"1970-01-01T08:25:00\",\"1970-01-01T09:03:00\",\"1970-01-01T09:03:00\",\"1970-01-01T09:03:00\",\"1970-01-01T11:44:36\",\"1970-01-01T11:44:36\",\"1970-01-01T12:22:36\",\"1970-01-01T12:22:36\",\"1970-01-01T12:22:36\",\"1970-01-01T15:39:44\",\"1970-01-01T15:39:44\",\"1970-01-01T16:17:44\",\"1970-01-01T16:17:44\",\"1970-01-01T16:17:44\",\"1970-01-01T19:34:52\",\"1970-01-01T19:34:52\",\"1970-01-01T20:12:52\",\"1970-01-01T20:12:52\",\"1970-01-01T20:12:52\",\"1970-01-01T23:30:00\",\"1970-01-01T23:30:00\",\"1970-01-02T00:08:00\",\"1970-01-02T00:08:00\",\"1970-01-02T00:08:00\",\"1970-01-02T03:25:08\",\"1970-01-02T03:25:08\",\"1970-01-02T04:03:08\",\"1970-01-02T04:03:08\",\"1970-01-02T04:03:08\"],\"y\":[\"Carrier A\",\"Carrier A\",\"Carrier A\",\"Carrier A\",null,\"Carrier A\",\"Carrier A\",\"Carrier A\",\"Carrier A\",null,\"Carrier A\",\"Carrier A\",\"Carrier A\",\"Carrier A\",null,\"Carrier A\",\"Carrier A\",\"Carrier A\",\"Carrier A\",null,\"Carrier A\",\"Carrier A\",\"Carrier A\",\"Carrier A\",null,\"Carrier A\",\"Carrier A\",\"Carrier A\",\"Carrier A\",null,\"Carrier A\",\"Carrier A\",\"Carrier A\",\"Carrier A\",null,\"Carrier A\",\"Carrier A\",\"Carrier A\",\"Carrier A\",null],\"type\":\"scatter\"},{\"connectgaps\":false,\"hoverinfo\":\"y+name\",\"line\":{\"color\":\"rgb(230,61,177)\",\"width\":10},\"mode\":\"lines\",\"name\":\"basic activity:Carrier B\",\"x\":[\"1970-01-01T00:00:00\",\"1970-01-01T00:00:00\",\"1970-01-01T00:48:22\",\"1970-01-01T00:48:22\",\"1970-01-01T00:48:22\",\"1970-01-01T04:49:24\",\"1970-01-01T04:49:24\",\"1970-01-01T05:37:46\",\"1970-01-01T05:37:46\",\"1970-01-01T05:37:46\",\"1970-01-01T08:44:32\",\"1970-01-01T08:44:32\",\"1970-01-01T09:32:54\",\"1970-01-01T09:32:54\",\"1970-01-01T09:32:54\",\"1970-01-01T12:39:40\",\"1970-01-01T12:39:40\",\"1970-01-01T13:28:02\",\"1970-01-01T13:28:02\",\"1970-01-01T13:28:02\",\"1970-01-01T16:34:48\",\"1970-01-01T16:34:48\",\"1970-01-01T17:23:10\",\"1970-01-01T17:23:10\",\"1970-01-01T17:23:10\",\"1970-01-01T20:29:56\",\"1970-01-01T20:29:56\",\"1970-01-01T21:18:18\",\"1970-01-01T21:18:18\",\"1970-01-01T21:18:18\",\"1970-01-02T00:25:04\",\"1970-01-02T00:25:04\",\"1970-01-02T01:13:26\",\"1970-01-02T01:13:26\",\"1970-01-02T01:13:26\"],\"y\":[\"Carrier B\",\"Carrier B\",\"Carrier B\",\"Carrier B\",null,\"Carrier B\",\"Carrier B\",\"Carrier B\",\"Carrier B\",null,\"Carrier B\",\"Carrier B\",\"Carrier B\",\"Carrier B\",null,\"Carrier B\",\"Carrier B\",\"Carrier B\",\"Carrier B\",null,\"Carrier B\",\"Carrier B\",\"Carrier B\",\"Carrier B\",null,\"Carrier B\",\"Carrier B\",\"Carrier B\",\"Carrier B\",null,\"Carrier B\",\"Carrier B\",\"Carrier B\",\"Carrier B\",null],\"type\":\"scatter\"},{\"connectgaps\":false,\"hoverinfo\":\"y+name\",\"line\":{\"color\":\"rgb(244,75,191)\",\"width\":10},\"mode\":\"lines\",\"name\":\"sailing empty:Carrier B\",\"x\":[\"1970-01-01T00:48:22\",\"1970-01-01T00:48:22\",\"1970-01-01T01:36:44\",\"1970-01-01T01:36:44\",\"1970-01-01T01:36:44\",\"1970-01-01T05:37:46\",\"1970-01-01T05:37:46\",\"1970-01-01T06:26:08\",\"1970-01-01T06:26:08\",\"1970-01-01T06:26:08\",\"1970-01-01T09:32:54\",\"1970-01-01T09:32:54\",\"1970-01-01T10:21:16\",\"1970-01-01T10:21:16\",\"1970-01-01T10:21:16\",\"1970-01-01T13:28:02\",\"1970-01-01T13:28:02\",\"1970-01-01T14:16:24\",\"1970-01-01T14:16:24\",\"1970-01-01T14:16:24\",\"1970-01-01T17:23:10\",\"1970-01-01T17:23:10\",\"1970-01-01T18:11:32\",\"1970-01-01T18:11:32\",\"1970-01-01T18:11:32\",\"1970-01-01T21:18:18\",\"1970-01-01T21:18:18\",\"1970-01-01T22:06:40\",\"1970-01-01T22:06:40\",\"1970-01-01T22:06:40\",\"1970-01-02T01:13:26\",\"1970-01-02T01:13:26\",\"1970-01-02T02:01:48\",\"1970-01-02T02:01:48\",\"1970-01-02T02:01:48\"],\"y\":[\"Carrier B\",\"Carrier B\",\"Carrier B\",\"Carrier B\",null,\"Carrier B\",\"Carrier B\",\"Carrier B\",\"Carrier B\",null,\"Carrier B\",\"Carrier B\",\"Carrier B\",\"Carrier B\",null,\"Carrier B\",\"Carrier B\",\"Carrier B\",\"Carrier B\",null,\"Carrier B\",\"Carrier B\",\"Carrier B\",\"Carrier B\",null,\"Carrier B\",\"Carrier B\",\"Carrier B\",\"Carrier B\",null,\"Carrier B\",\"Carrier B\",\"Carrier B\",\"Carrier B\",null],\"type\":\"scatter\"},{\"connectgaps\":false,\"hoverinfo\":\"y+name\",\"line\":{\"color\":\"rgb(2,89,205)\",\"width\":10},\"mode\":\"lines\",\"name\":\"loading:Carrier B\",\"x\":[\"1970-01-01T02:31:00\",\"1970-01-01T02:31:00\",\"1970-01-01T03:12:40\",\"1970-01-01T03:12:40\",\"1970-01-01T03:12:40\",\"1970-01-01T06:26:08\",\"1970-01-01T06:26:08\",\"1970-01-01T07:07:48\",\"1970-01-01T07:07:48\",\"1970-01-01T07:07:48\",\"1970-01-01T10:21:16\",\"1970-01-01T10:21:16\",\"1970-01-01T11:02:56\",\"1970-01-01T11:02:56\",\"1970-01-01T11:02:56\",\"1970-01-01T14:16:24\",\"1970-01-01T14:16:24\",\"1970-01-01T14:58:04\",\"1970-01-01T14:58:04\",\"1970-01-01T14:58:04\",\"1970-01-01T18:11:32\",\"1970-01-01T18:11:32\",\"1970-01-01T18:53:12\",\"1970-01-01T18:53:12\",\"1970-01-01T18:53:12\",\"1970-01-01T22:06:40\",\"1970-01-01T22:06:40\",\"1970-01-01T22:48:20\",\"1970-01-01T22:48:20\",\"1970-01-01T22:48:20\",\"1970-01-02T02:01:48\",\"1970-01-02T02:01:48\",\"1970-01-02T02:43:28\",\"1970-01-02T02:43:28\",\"1970-01-02T02:43:28\",\"1970-01-01T02:31:00\",\"1970-01-01T02:31:00\",\"1970-01-01T03:12:40\",\"1970-01-01T03:12:40\",\"1970-01-01T03:12:40\",\"1970-01-01T06:26:08\",\"1970-01-01T06:26:08\",\"1970-01-01T07:07:48\",\"1970-01-01T07:07:48\",\"1970-01-01T07:07:48\",\"1970-01-01T10:21:16\",\"1970-01-01T10:21:16\",\"1970-01-01T11:02:56\",\"1970-01-01T11:02:56\",\"1970-01-01T11:02:56\",\"1970-01-01T14:16:24\",\"1970-01-01T14:16:24\",\"1970-01-01T14:58:04\",\"1970-01-01T14:58:04\",\"1970-01-01T14:58:04\",\"1970-01-01T18:11:32\",\"1970-01-01T18:11:32\",\"1970-01-01T18:53:12\",\"1970-01-01T18:53:12\",\"1970-01-01T18:53:12\",\"1970-01-01T22:06:40\",\"1970-01-01T22:06:40\",\"1970-01-01T22:48:20\",\"1970-01-01T22:48:20\",\"1970-01-01T22:48:20\",\"1970-01-02T02:01:48\",\"1970-01-02T02:01:48\",\"1970-01-02T02:43:28\",\"1970-01-02T02:43:28\",\"1970-01-02T02:43:28\"],\"y\":[\"Carrier B\",\"Carrier B\",\"Carrier B\",\"Carrier B\",null,\"Carrier B\",\"Carrier B\",\"Carrier B\",\"Carrier B\",null,\"Carrier B\",\"Carrier B\",\"Carrier B\",\"Carrier B\",null,\"Carrier B\",\"Carrier B\",\"Carrier B\",\"Carrier B\",null,\"Carrier B\",\"Carrier B\",\"Carrier B\",\"Carrier B\",null,\"Carrier B\",\"Carrier B\",\"Carrier B\",\"Carrier B\",null,\"Carrier B\",\"Carrier B\",\"Carrier B\",\"Carrier B\",null,\"Cutter T\",\"Cutter T\",\"Cutter T\",\"Cutter T\",null,\"Cutter T\",\"Cutter T\",\"Cutter T\",\"Cutter T\",null,\"Cutter T\",\"Cutter T\",\"Cutter T\",\"Cutter T\",null,\"Cutter T\",\"Cutter T\",\"Cutter T\",\"Cutter T\",null,\"Cutter T\",\"Cutter T\",\"Cutter T\",\"Cutter T\",null,\"Cutter T\",\"Cutter T\",\"Cutter T\",\"Cutter T\",null,\"Cutter T\",\"Cutter T\",\"Cutter T\",\"Cutter T\",null],\"type\":\"scatter\"},{\"connectgaps\":false,\"hoverinfo\":\"y+name\",\"line\":{\"color\":\"rgb(16,103,219)\",\"width\":10},\"mode\":\"lines\",\"name\":\"sailing full:Carrier B\",\"x\":[\"1970-01-01T03:12:40\",\"1970-01-01T03:12:40\",\"1970-01-01T04:01:02\",\"1970-01-01T04:01:02\",\"1970-01-01T04:01:02\",\"1970-01-01T07:07:48\",\"1970-01-01T07:07:48\",\"1970-01-01T07:56:10\",\"1970-01-01T07:56:10\",\"1970-01-01T07:56:10\",\"1970-01-01T11:02:56\",\"1970-01-01T11:02:56\",\"1970-01-01T11:51:18\",\"1970-01-01T11:51:18\",\"1970-01-01T11:51:18\",\"1970-01-01T14:58:04\",\"1970-01-01T14:58:04\",\"1970-01-01T15:46:26\",\"1970-01-01T15:46:26\",\"1970-01-01T15:46:26\",\"1970-01-01T18:53:12\",\"1970-01-01T18:53:12\",\"1970-01-01T19:41:34\",\"1970-01-01T19:41:34\",\"1970-01-01T19:41:34\",\"1970-01-01T22:48:20\",\"1970-01-01T22:48:20\",\"1970-01-01T23:36:42\",\"1970-01-01T23:36:42\",\"1970-01-01T23:36:42\",\"1970-01-02T02:43:28\",\"1970-01-02T02:43:28\",\"1970-01-02T03:31:50\",\"1970-01-02T03:31:50\",\"1970-01-02T03:31:50\"],\"y\":[\"Carrier B\",\"Carrier B\",\"Carrier B\",\"Carrier B\",null,\"Carrier B\",\"Carrier B\",\"Carrier B\",\"Carrier B\",null,\"Carrier B\",\"Carrier B\",\"Carrier B\",\"Carrier B\",null,\"Carrier B\",\"Carrier B\",\"Carrier B\",\"Carrier B\",null,\"Carrier B\",\"Carrier B\",\"Carrier B\",\"Carrier B\",null,\"Carrier B\",\"Carrier B\",\"Carrier B\",\"Carrier B\",null,\"Carrier B\",\"Carrier B\",\"Carrier B\",\"Carrier B\",null],\"type\":\"scatter\"},{\"connectgaps\":false,\"hoverinfo\":\"y+name\",\"line\":{\"color\":\"rgb(30,117,233)\",\"width\":10},\"mode\":\"lines\",\"name\":\"unloading:Carrier B\",\"x\":[\"1970-01-01T04:01:02\",\"1970-01-01T04:01:02\",\"1970-01-01T04:49:24\",\"1970-01-01T04:49:24\",\"1970-01-01T04:49:24\",\"1970-01-01T07:56:10\",\"1970-01-01T07:56:10\",\"1970-01-01T08:44:32\",\"1970-01-01T08:44:32\",\"1970-01-01T08:44:32\",\"1970-01-01T11:51:18\",\"1970-01-01T11:51:18\",\"1970-01-01T12:39:40\",\"1970-01-01T12:39:40\",\"1970-01-01T12:39:40\",\"1970-01-01T15:46:26\",\"1970-01-01T15:46:26\",\"1970-01-01T16:34:48\",\"1970-01-01T16:34:48\",\"1970-01-01T16:34:48\",\"1970-01-01T19:41:34\",\"1970-01-01T19:41:34\",\"1970-01-01T20:29:56\",\"1970-01-01T20:29:56\",\"1970-01-01T20:29:56\",\"1970-01-01T23:36:42\",\"1970-01-01T23:36:42\",\"1970-01-02T00:25:04\",\"1970-01-02T00:25:04\",\"1970-01-02T00:25:04\",\"1970-01-02T03:31:50\",\"1970-01-02T03:31:50\",\"1970-01-02T04:20:12\",\"1970-01-02T04:20:12\",\"1970-01-02T04:20:12\"],\"y\":[\"Carrier B\",\"Carrier B\",\"Carrier B\",\"Carrier B\",null,\"Carrier B\",\"Carrier B\",\"Carrier B\",\"Carrier B\",null,\"Carrier B\",\"Carrier B\",\"Carrier B\",\"Carrier B\",null,\"Carrier B\",\"Carrier B\",\"Carrier B\",\"Carrier B\",null,\"Carrier B\",\"Carrier B\",\"Carrier B\",\"Carrier B\",null,\"Carrier B\",\"Carrier B\",\"Carrier B\",\"Carrier B\",null,\"Carrier B\",\"Carrier B\",\"Carrier B\",\"Carrier B\",null],\"type\":\"scatter\"},{\"connectgaps\":false,\"hoverinfo\":\"y+name\",\"line\":{\"color\":\"rgb(44,131,247)\",\"width\":10},\"mode\":\"lines\",\"name\":\"sailing full:Carrier C\",\"x\":[\"1970-01-01T02:31:00\",\"1970-01-01T02:31:00\",\"1970-01-01T03:19:01\",\"1970-01-01T03:19:01\",\"1970-01-01T03:19:01\",\"1970-01-01T06:16:24\",\"1970-01-01T06:16:24\",\"1970-01-01T07:04:25\",\"1970-01-01T07:04:25\",\"1970-01-01T07:04:25\",\"1970-01-01T10:01:48\",\"1970-01-01T10:01:48\",\"1970-01-01T10:49:49\",\"1970-01-01T10:49:49\",\"1970-01-01T10:49:49\",\"1970-01-01T13:47:12\",\"1970-01-01T13:47:12\",\"1970-01-01T14:35:13\",\"1970-01-01T14:35:13\",\"1970-01-01T14:35:13\",\"1970-01-01T17:32:36\",\"1970-01-01T17:32:36\",\"1970-01-01T18:20:37\",\"1970-01-01T18:20:37\",\"1970-01-01T18:20:37\",\"1970-01-01T21:18:00\",\"1970-01-01T21:18:00\",\"1970-01-01T22:06:01\",\"1970-01-01T22:06:01\",\"1970-01-01T22:06:01\",\"1970-01-02T01:03:24\",\"1970-01-02T01:03:24\",\"1970-01-02T01:51:25\",\"1970-01-02T01:51:25\",\"1970-01-02T01:51:25\"],\"y\":[\"Carrier C\",\"Carrier C\",\"Carrier C\",\"Carrier C\",null,\"Carrier C\",\"Carrier C\",\"Carrier C\",\"Carrier C\",null,\"Carrier C\",\"Carrier C\",\"Carrier C\",\"Carrier C\",null,\"Carrier C\",\"Carrier C\",\"Carrier C\",\"Carrier C\",null,\"Carrier C\",\"Carrier C\",\"Carrier C\",\"Carrier C\",null,\"Carrier C\",\"Carrier C\",\"Carrier C\",\"Carrier C\",null,\"Carrier C\",\"Carrier C\",\"Carrier C\",\"Carrier C\",null],\"type\":\"scatter\"},{\"connectgaps\":false,\"hoverinfo\":\"y+name\",\"line\":{\"color\":\"rgb(58,145,5)\",\"width\":10},\"mode\":\"lines\",\"name\":\"unloading:Carrier C\",\"x\":[\"1970-01-01T03:19:01\",\"1970-01-01T03:19:01\",\"1970-01-01T04:07:02\",\"1970-01-01T04:07:02\",\"1970-01-01T04:07:02\",\"1970-01-01T07:04:25\",\"1970-01-01T07:04:25\",\"1970-01-01T07:52:26\",\"1970-01-01T07:52:26\",\"1970-01-01T07:52:26\",\"1970-01-01T10:49:49\",\"1970-01-01T10:49:49\",\"1970-01-01T11:37:50\",\"1970-01-01T11:37:50\",\"1970-01-01T11:37:50\",\"1970-01-01T14:35:13\",\"1970-01-01T14:35:13\",\"1970-01-01T15:23:14\",\"1970-01-01T15:23:14\",\"1970-01-01T15:23:14\",\"1970-01-01T18:20:37\",\"1970-01-01T18:20:37\",\"1970-01-01T19:08:38\",\"1970-01-01T19:08:38\",\"1970-01-01T19:08:38\",\"1970-01-01T22:06:01\",\"1970-01-01T22:06:01\",\"1970-01-01T22:54:02\",\"1970-01-01T22:54:02\",\"1970-01-01T22:54:02\",\"1970-01-02T01:51:25\",\"1970-01-02T01:51:25\",\"1970-01-02T02:39:26\",\"1970-01-02T02:39:26\",\"1970-01-02T02:39:26\"],\"y\":[\"Carrier C\",\"Carrier C\",\"Carrier C\",\"Carrier C\",null,\"Carrier C\",\"Carrier C\",\"Carrier C\",\"Carrier C\",null,\"Carrier C\",\"Carrier C\",\"Carrier C\",\"Carrier C\",null,\"Carrier C\",\"Carrier C\",\"Carrier C\",\"Carrier C\",null,\"Carrier C\",\"Carrier C\",\"Carrier C\",\"Carrier C\",null,\"Carrier C\",\"Carrier C\",\"Carrier C\",\"Carrier C\",null,\"Carrier C\",\"Carrier C\",\"Carrier C\",\"Carrier C\",null],\"type\":\"scatter\"},{\"connectgaps\":false,\"hoverinfo\":\"y+name\",\"line\":{\"color\":\"rgb(72,159,19)\",\"width\":10},\"mode\":\"lines\",\"name\":\"loading:Carrier C\",\"x\":[\"1970-01-01T01:57:40\",\"1970-01-01T01:57:40\",\"1970-01-01T02:31:00\",\"1970-01-01T02:31:00\",\"1970-01-01T02:31:00\",\"1970-01-01T05:43:04\",\"1970-01-01T05:43:04\",\"1970-01-01T06:16:24\",\"1970-01-01T06:16:24\",\"1970-01-01T06:16:24\",\"1970-01-01T09:28:28\",\"1970-01-01T09:28:28\",\"1970-01-01T10:01:48\",\"1970-01-01T10:01:48\",\"1970-01-01T10:01:48\",\"1970-01-01T13:13:52\",\"1970-01-01T13:13:52\",\"1970-01-01T13:47:12\",\"1970-01-01T13:47:12\",\"1970-01-01T13:47:12\",\"1970-01-01T16:59:16\",\"1970-01-01T16:59:16\",\"1970-01-01T17:32:36\",\"1970-01-01T17:32:36\",\"1970-01-01T17:32:36\",\"1970-01-01T20:44:40\",\"1970-01-01T20:44:40\",\"1970-01-01T21:18:00\",\"1970-01-01T21:18:00\",\"1970-01-01T21:18:00\",\"1970-01-02T00:30:04\",\"1970-01-02T00:30:04\",\"1970-01-02T01:03:24\",\"1970-01-02T01:03:24\",\"1970-01-02T01:03:24\",\"1970-01-01T01:57:40\",\"1970-01-01T01:57:40\",\"1970-01-01T02:31:00\",\"1970-01-01T02:31:00\",\"1970-01-01T02:31:00\",\"1970-01-01T05:43:04\",\"1970-01-01T05:43:04\",\"1970-01-01T06:16:24\",\"1970-01-01T06:16:24\",\"1970-01-01T06:16:24\",\"1970-01-01T09:28:28\",\"1970-01-01T09:28:28\",\"1970-01-01T10:01:48\",\"1970-01-01T10:01:48\",\"1970-01-01T10:01:48\",\"1970-01-01T13:13:52\",\"1970-01-01T13:13:52\",\"1970-01-01T13:47:12\",\"1970-01-01T13:47:12\",\"1970-01-01T13:47:12\",\"1970-01-01T16:59:16\",\"1970-01-01T16:59:16\",\"1970-01-01T17:32:36\",\"1970-01-01T17:32:36\",\"1970-01-01T17:32:36\",\"1970-01-01T20:44:40\",\"1970-01-01T20:44:40\",\"1970-01-01T21:18:00\",\"1970-01-01T21:18:00\",\"1970-01-01T21:18:00\",\"1970-01-02T00:30:04\",\"1970-01-02T00:30:04\",\"1970-01-02T01:03:24\",\"1970-01-02T01:03:24\",\"1970-01-02T01:03:24\"],\"y\":[\"Carrier C\",\"Carrier C\",\"Carrier C\",\"Carrier C\",null,\"Carrier C\",\"Carrier C\",\"Carrier C\",\"Carrier C\",null,\"Carrier C\",\"Carrier C\",\"Carrier C\",\"Carrier C\",null,\"Carrier C\",\"Carrier C\",\"Carrier C\",\"Carrier C\",null,\"Carrier C\",\"Carrier C\",\"Carrier C\",\"Carrier C\",null,\"Carrier C\",\"Carrier C\",\"Carrier C\",\"Carrier C\",null,\"Carrier C\",\"Carrier C\",\"Carrier C\",\"Carrier C\",null,\"Cutter T\",\"Cutter T\",\"Cutter T\",\"Cutter T\",null,\"Cutter T\",\"Cutter T\",\"Cutter T\",\"Cutter T\",null,\"Cutter T\",\"Cutter T\",\"Cutter T\",\"Cutter T\",null,\"Cutter T\",\"Cutter T\",\"Cutter T\",\"Cutter T\",null,\"Cutter T\",\"Cutter T\",\"Cutter T\",\"Cutter T\",null,\"Cutter T\",\"Cutter T\",\"Cutter T\",\"Cutter T\",null,\"Cutter T\",\"Cutter T\",\"Cutter T\",\"Cutter T\",null],\"type\":\"scatter\"},{\"connectgaps\":false,\"hoverinfo\":\"y+name\",\"line\":{\"color\":\"rgb(86,173,33)\",\"width\":10},\"mode\":\"lines\",\"name\":\"sailing empty:Carrier C\",\"x\":[\"1970-01-01T00:48:01\",\"1970-01-01T00:48:01\",\"1970-01-01T01:36:02\",\"1970-01-01T01:36:02\",\"1970-01-01T01:36:02\",\"1970-01-01T04:55:03\",\"1970-01-01T04:55:03\",\"1970-01-01T05:43:04\",\"1970-01-01T05:43:04\",\"1970-01-01T05:43:04\",\"1970-01-01T08:40:27\",\"1970-01-01T08:40:27\",\"1970-01-01T09:28:28\",\"1970-01-01T09:28:28\",\"1970-01-01T09:28:28\",\"1970-01-01T12:25:51\",\"1970-01-01T12:25:51\",\"1970-01-01T13:13:52\",\"1970-01-01T13:13:52\",\"1970-01-01T13:13:52\",\"1970-01-01T16:11:15\",\"1970-01-01T16:11:15\",\"1970-01-01T16:59:16\",\"1970-01-01T16:59:16\",\"1970-01-01T16:59:16\",\"1970-01-01T19:56:39\",\"1970-01-01T19:56:39\",\"1970-01-01T20:44:40\",\"1970-01-01T20:44:40\",\"1970-01-01T20:44:40\",\"1970-01-01T23:42:03\",\"1970-01-01T23:42:03\",\"1970-01-02T00:30:04\",\"1970-01-02T00:30:04\",\"1970-01-02T00:30:04\"],\"y\":[\"Carrier C\",\"Carrier C\",\"Carrier C\",\"Carrier C\",null,\"Carrier C\",\"Carrier C\",\"Carrier C\",\"Carrier C\",null,\"Carrier C\",\"Carrier C\",\"Carrier C\",\"Carrier C\",null,\"Carrier C\",\"Carrier C\",\"Carrier C\",\"Carrier C\",null,\"Carrier C\",\"Carrier C\",\"Carrier C\",\"Carrier C\",null,\"Carrier C\",\"Carrier C\",\"Carrier C\",\"Carrier C\",null,\"Carrier C\",\"Carrier C\",\"Carrier C\",\"Carrier C\",null],\"type\":\"scatter\"},{\"connectgaps\":false,\"hoverinfo\":\"y+name\",\"line\":{\"color\":\"rgb(100,187,47)\",\"width\":10},\"mode\":\"lines\",\"name\":\"basic activity:Carrier C\",\"x\":[\"1970-01-01T00:00:00\",\"1970-01-01T00:00:00\",\"1970-01-01T00:48:01\",\"1970-01-01T00:48:01\",\"1970-01-01T00:48:01\",\"1970-01-01T04:07:02\",\"1970-01-01T04:07:02\",\"1970-01-01T04:55:03\",\"1970-01-01T04:55:03\",\"1970-01-01T04:55:03\",\"1970-01-01T07:52:26\",\"1970-01-01T07:52:26\",\"1970-01-01T08:40:27\",\"1970-01-01T08:40:27\",\"1970-01-01T08:40:27\",\"1970-01-01T11:37:50\",\"1970-01-01T11:37:50\",\"1970-01-01T12:25:51\",\"1970-01-01T12:25:51\",\"1970-01-01T12:25:51\",\"1970-01-01T15:23:14\",\"1970-01-01T15:23:14\",\"1970-01-01T16:11:15\",\"1970-01-01T16:11:15\",\"1970-01-01T16:11:15\",\"1970-01-01T19:08:38\",\"1970-01-01T19:08:38\",\"1970-01-01T19:56:39\",\"1970-01-01T19:56:39\",\"1970-01-01T19:56:39\",\"1970-01-01T22:54:02\",\"1970-01-01T22:54:02\",\"1970-01-01T23:42:03\",\"1970-01-01T23:42:03\",\"1970-01-01T23:42:03\"],\"y\":[\"Carrier C\",\"Carrier C\",\"Carrier C\",\"Carrier C\",null,\"Carrier C\",\"Carrier C\",\"Carrier C\",\"Carrier C\",null,\"Carrier C\",\"Carrier C\",\"Carrier C\",\"Carrier C\",null,\"Carrier C\",\"Carrier C\",\"Carrier C\",\"Carrier C\",null,\"Carrier C\",\"Carrier C\",\"Carrier C\",\"Carrier C\",null,\"Carrier C\",\"Carrier C\",\"Carrier C\",\"Carrier C\",null,\"Carrier C\",\"Carrier C\",\"Carrier C\",\"Carrier C\",null],\"type\":\"scatter\"},{\"connectgaps\":false,\"hoverinfo\":\"y+name\",\"line\":{\"color\":\"rgb(114,201,61)\",\"width\":10},\"mode\":\"lines\",\"name\":\"loading:Carrier A\",\"x\":[\"1970-01-01T01:16:00\",\"1970-01-01T01:16:00\",\"1970-01-01T01:57:40\",\"1970-01-01T01:57:40\",\"1970-01-01T01:57:40\",\"1970-01-01T04:29:40\",\"1970-01-01T04:29:40\",\"1970-01-01T05:11:20\",\"1970-01-01T05:11:20\",\"1970-01-01T05:11:20\",\"1970-01-01T07:43:20\",\"1970-01-01T07:43:20\",\"1970-01-01T08:25:00\",\"1970-01-01T08:25:00\",\"1970-01-01T08:25:00\",\"1970-01-01T11:02:56\",\"1970-01-01T11:02:56\",\"1970-01-01T11:44:36\",\"1970-01-01T11:44:36\",\"1970-01-01T11:44:36\",\"1970-01-01T14:58:04\",\"1970-01-01T14:58:04\",\"1970-01-01T15:39:44\",\"1970-01-01T15:39:44\",\"1970-01-01T15:39:44\",\"1970-01-01T18:53:12\",\"1970-01-01T18:53:12\",\"1970-01-01T19:34:52\",\"1970-01-01T19:34:52\",\"1970-01-01T19:34:52\",\"1970-01-01T22:48:20\",\"1970-01-01T22:48:20\",\"1970-01-01T23:30:00\",\"1970-01-01T23:30:00\",\"1970-01-01T23:30:00\",\"1970-01-02T02:43:28\",\"1970-01-02T02:43:28\",\"1970-01-02T03:25:08\",\"1970-01-02T03:25:08\",\"1970-01-02T03:25:08\",\"1970-01-01T01:16:00\",\"1970-01-01T01:16:00\",\"1970-01-01T01:57:40\",\"1970-01-01T01:57:40\",\"1970-01-01T01:57:40\",\"1970-01-01T04:29:40\",\"1970-01-01T04:29:40\",\"1970-01-01T05:11:20\",\"1970-01-01T05:11:20\",\"1970-01-01T05:11:20\",\"1970-01-01T07:43:20\",\"1970-01-01T07:43:20\",\"1970-01-01T08:25:00\",\"1970-01-01T08:25:00\",\"1970-01-01T08:25:00\",\"1970-01-01T11:02:56\",\"1970-01-01T11:02:56\",\"1970-01-01T11:44:36\",\"1970-01-01T11:44:36\",\"1970-01-01T11:44:36\",\"1970-01-01T14:58:04\",\"1970-01-01T14:58:04\",\"1970-01-01T15:39:44\",\"1970-01-01T15:39:44\",\"1970-01-01T15:39:44\",\"1970-01-01T18:53:12\",\"1970-01-01T18:53:12\",\"1970-01-01T19:34:52\",\"1970-01-01T19:34:52\",\"1970-01-01T19:34:52\",\"1970-01-01T22:48:20\",\"1970-01-01T22:48:20\",\"1970-01-01T23:30:00\",\"1970-01-01T23:30:00\",\"1970-01-01T23:30:00\",\"1970-01-02T02:43:28\",\"1970-01-02T02:43:28\",\"1970-01-02T03:25:08\",\"1970-01-02T03:25:08\",\"1970-01-02T03:25:08\"],\"y\":[\"Carrier A\",\"Carrier A\",\"Carrier A\",\"Carrier A\",null,\"Carrier A\",\"Carrier A\",\"Carrier A\",\"Carrier A\",null,\"Carrier A\",\"Carrier A\",\"Carrier A\",\"Carrier A\",null,\"Carrier A\",\"Carrier A\",\"Carrier A\",\"Carrier A\",null,\"Carrier A\",\"Carrier A\",\"Carrier A\",\"Carrier A\",null,\"Carrier A\",\"Carrier A\",\"Carrier A\",\"Carrier A\",null,\"Carrier A\",\"Carrier A\",\"Carrier A\",\"Carrier A\",null,\"Carrier A\",\"Carrier A\",\"Carrier A\",\"Carrier A\",null,\"Cutter T\",\"Cutter T\",\"Cutter T\",\"Cutter T\",null,\"Cutter T\",\"Cutter T\",\"Cutter T\",\"Cutter T\",null,\"Cutter T\",\"Cutter T\",\"Cutter T\",\"Cutter T\",null,\"Cutter T\",\"Cutter T\",\"Cutter T\",\"Cutter T\",null,\"Cutter T\",\"Cutter T\",\"Cutter T\",\"Cutter T\",null,\"Cutter T\",\"Cutter T\",\"Cutter T\",\"Cutter T\",null,\"Cutter T\",\"Cutter T\",\"Cutter T\",\"Cutter T\",null,\"Cutter T\",\"Cutter T\",\"Cutter T\",\"Cutter T\",null],\"type\":\"scatter\"},{\"connectgaps\":false,\"hoverinfo\":\"y+name\",\"line\":{\"color\":\"rgb(128,215,75)\",\"width\":10},\"mode\":\"lines\",\"name\":\"loading:Carrier B\",\"x\":[\"1970-01-01T02:31:00\",\"1970-01-01T02:31:00\",\"1970-01-01T03:12:40\",\"1970-01-01T03:12:40\",\"1970-01-01T03:12:40\",\"1970-01-01T06:26:08\",\"1970-01-01T06:26:08\",\"1970-01-01T07:07:48\",\"1970-01-01T07:07:48\",\"1970-01-01T07:07:48\",\"1970-01-01T10:21:16\",\"1970-01-01T10:21:16\",\"1970-01-01T11:02:56\",\"1970-01-01T11:02:56\",\"1970-01-01T11:02:56\",\"1970-01-01T14:16:24\",\"1970-01-01T14:16:24\",\"1970-01-01T14:58:04\",\"1970-01-01T14:58:04\",\"1970-01-01T14:58:04\",\"1970-01-01T18:11:32\",\"1970-01-01T18:11:32\",\"1970-01-01T18:53:12\",\"1970-01-01T18:53:12\",\"1970-01-01T18:53:12\",\"1970-01-01T22:06:40\",\"1970-01-01T22:06:40\",\"1970-01-01T22:48:20\",\"1970-01-01T22:48:20\",\"1970-01-01T22:48:20\",\"1970-01-02T02:01:48\",\"1970-01-02T02:01:48\",\"1970-01-02T02:43:28\",\"1970-01-02T02:43:28\",\"1970-01-02T02:43:28\",\"1970-01-01T02:31:00\",\"1970-01-01T02:31:00\",\"1970-01-01T03:12:40\",\"1970-01-01T03:12:40\",\"1970-01-01T03:12:40\",\"1970-01-01T06:26:08\",\"1970-01-01T06:26:08\",\"1970-01-01T07:07:48\",\"1970-01-01T07:07:48\",\"1970-01-01T07:07:48\",\"1970-01-01T10:21:16\",\"1970-01-01T10:21:16\",\"1970-01-01T11:02:56\",\"1970-01-01T11:02:56\",\"1970-01-01T11:02:56\",\"1970-01-01T14:16:24\",\"1970-01-01T14:16:24\",\"1970-01-01T14:58:04\",\"1970-01-01T14:58:04\",\"1970-01-01T14:58:04\",\"1970-01-01T18:11:32\",\"1970-01-01T18:11:32\",\"1970-01-01T18:53:12\",\"1970-01-01T18:53:12\",\"1970-01-01T18:53:12\",\"1970-01-01T22:06:40\",\"1970-01-01T22:06:40\",\"1970-01-01T22:48:20\",\"1970-01-01T22:48:20\",\"1970-01-01T22:48:20\",\"1970-01-02T02:01:48\",\"1970-01-02T02:01:48\",\"1970-01-02T02:43:28\",\"1970-01-02T02:43:28\",\"1970-01-02T02:43:28\"],\"y\":[\"Carrier B\",\"Carrier B\",\"Carrier B\",\"Carrier B\",null,\"Carrier B\",\"Carrier B\",\"Carrier B\",\"Carrier B\",null,\"Carrier B\",\"Carrier B\",\"Carrier B\",\"Carrier B\",null,\"Carrier B\",\"Carrier B\",\"Carrier B\",\"Carrier B\",null,\"Carrier B\",\"Carrier B\",\"Carrier B\",\"Carrier B\",null,\"Carrier B\",\"Carrier B\",\"Carrier B\",\"Carrier B\",null,\"Carrier B\",\"Carrier B\",\"Carrier B\",\"Carrier B\",null,\"Cutter T\",\"Cutter T\",\"Cutter T\",\"Cutter T\",null,\"Cutter T\",\"Cutter T\",\"Cutter T\",\"Cutter T\",null,\"Cutter T\",\"Cutter T\",\"Cutter T\",\"Cutter T\",null,\"Cutter T\",\"Cutter T\",\"Cutter T\",\"Cutter T\",null,\"Cutter T\",\"Cutter T\",\"Cutter T\",\"Cutter T\",null,\"Cutter T\",\"Cutter T\",\"Cutter T\",\"Cutter T\",null,\"Cutter T\",\"Cutter T\",\"Cutter T\",\"Cutter T\",null],\"type\":\"scatter\"},{\"connectgaps\":false,\"hoverinfo\":\"y+name\",\"line\":{\"color\":\"rgb(142,229,89)\",\"width\":10},\"mode\":\"lines\",\"name\":\"loading:Carrier C\",\"x\":[\"1970-01-01T01:57:40\",\"1970-01-01T01:57:40\",\"1970-01-01T02:31:00\",\"1970-01-01T02:31:00\",\"1970-01-01T02:31:00\",\"1970-01-01T05:43:04\",\"1970-01-01T05:43:04\",\"1970-01-01T06:16:24\",\"1970-01-01T06:16:24\",\"1970-01-01T06:16:24\",\"1970-01-01T09:28:28\",\"1970-01-01T09:28:28\",\"1970-01-01T10:01:48\",\"1970-01-01T10:01:48\",\"1970-01-01T10:01:48\",\"1970-01-01T13:13:52\",\"1970-01-01T13:13:52\",\"1970-01-01T13:47:12\",\"1970-01-01T13:47:12\",\"1970-01-01T13:47:12\",\"1970-01-01T16:59:16\",\"1970-01-01T16:59:16\",\"1970-01-01T17:32:36\",\"1970-01-01T17:32:36\",\"1970-01-01T17:32:36\",\"1970-01-01T20:44:40\",\"1970-01-01T20:44:40\",\"1970-01-01T21:18:00\",\"1970-01-01T21:18:00\",\"1970-01-01T21:18:00\",\"1970-01-02T00:30:04\",\"1970-01-02T00:30:04\",\"1970-01-02T01:03:24\",\"1970-01-02T01:03:24\",\"1970-01-02T01:03:24\",\"1970-01-01T01:57:40\",\"1970-01-01T01:57:40\",\"1970-01-01T02:31:00\",\"1970-01-01T02:31:00\",\"1970-01-01T02:31:00\",\"1970-01-01T05:43:04\",\"1970-01-01T05:43:04\",\"1970-01-01T06:16:24\",\"1970-01-01T06:16:24\",\"1970-01-01T06:16:24\",\"1970-01-01T09:28:28\",\"1970-01-01T09:28:28\",\"1970-01-01T10:01:48\",\"1970-01-01T10:01:48\",\"1970-01-01T10:01:48\",\"1970-01-01T13:13:52\",\"1970-01-01T13:13:52\",\"1970-01-01T13:47:12\",\"1970-01-01T13:47:12\",\"1970-01-01T13:47:12\",\"1970-01-01T16:59:16\",\"1970-01-01T16:59:16\",\"1970-01-01T17:32:36\",\"1970-01-01T17:32:36\",\"1970-01-01T17:32:36\",\"1970-01-01T20:44:40\",\"1970-01-01T20:44:40\",\"1970-01-01T21:18:00\",\"1970-01-01T21:18:00\",\"1970-01-01T21:18:00\",\"1970-01-02T00:30:04\",\"1970-01-02T00:30:04\",\"1970-01-02T01:03:24\",\"1970-01-02T01:03:24\",\"1970-01-02T01:03:24\"],\"y\":[\"Carrier C\",\"Carrier C\",\"Carrier C\",\"Carrier C\",null,\"Carrier C\",\"Carrier C\",\"Carrier C\",\"Carrier C\",null,\"Carrier C\",\"Carrier C\",\"Carrier C\",\"Carrier C\",null,\"Carrier C\",\"Carrier C\",\"Carrier C\",\"Carrier C\",null,\"Carrier C\",\"Carrier C\",\"Carrier C\",\"Carrier C\",null,\"Carrier C\",\"Carrier C\",\"Carrier C\",\"Carrier C\",null,\"Carrier C\",\"Carrier C\",\"Carrier C\",\"Carrier C\",null,\"Cutter T\",\"Cutter T\",\"Cutter T\",\"Cutter T\",null,\"Cutter T\",\"Cutter T\",\"Cutter T\",\"Cutter T\",null,\"Cutter T\",\"Cutter T\",\"Cutter T\",\"Cutter T\",null,\"Cutter T\",\"Cutter T\",\"Cutter T\",\"Cutter T\",null,\"Cutter T\",\"Cutter T\",\"Cutter T\",\"Cutter T\",null,\"Cutter T\",\"Cutter T\",\"Cutter T\",\"Cutter T\",null,\"Cutter T\",\"Cutter T\",\"Cutter T\",\"Cutter T\",null],\"type\":\"scatter\"}],                        {\"hovermode\":\"closest\",\"legend\":{\"orientation\":\"h\",\"x\":0,\"y\":-0.2},\"template\":{\"data\":{\"barpolar\":[{\"marker\":{\"line\":{\"color\":\"#E5ECF6\",\"width\":0.5},\"pattern\":{\"fillmode\":\"overlay\",\"size\":10,\"solidity\":0.2}},\"type\":\"barpolar\"}],\"bar\":[{\"error_x\":{\"color\":\"#2a3f5f\"},\"error_y\":{\"color\":\"#2a3f5f\"},\"marker\":{\"line\":{\"color\":\"#E5ECF6\",\"width\":0.5},\"pattern\":{\"fillmode\":\"overlay\",\"size\":10,\"solidity\":0.2}},\"type\":\"bar\"}],\"carpet\":[{\"aaxis\":{\"endlinecolor\":\"#2a3f5f\",\"gridcolor\":\"white\",\"linecolor\":\"white\",\"minorgridcolor\":\"white\",\"startlinecolor\":\"#2a3f5f\"},\"baxis\":{\"endlinecolor\":\"#2a3f5f\",\"gridcolor\":\"white\",\"linecolor\":\"white\",\"minorgridcolor\":\"white\",\"startlinecolor\":\"#2a3f5f\"},\"type\":\"carpet\"}],\"choropleth\":[{\"colorbar\":{\"outlinewidth\":0,\"ticks\":\"\"},\"type\":\"choropleth\"}],\"contourcarpet\":[{\"colorbar\":{\"outlinewidth\":0,\"ticks\":\"\"},\"type\":\"contourcarpet\"}],\"contour\":[{\"colorbar\":{\"outlinewidth\":0,\"ticks\":\"\"},\"colorscale\":[[0.0,\"#0d0887\"],[0.1111111111111111,\"#46039f\"],[0.2222222222222222,\"#7201a8\"],[0.3333333333333333,\"#9c179e\"],[0.4444444444444444,\"#bd3786\"],[0.5555555555555556,\"#d8576b\"],[0.6666666666666666,\"#ed7953\"],[0.7777777777777778,\"#fb9f3a\"],[0.8888888888888888,\"#fdca26\"],[1.0,\"#f0f921\"]],\"type\":\"contour\"}],\"heatmapgl\":[{\"colorbar\":{\"outlinewidth\":0,\"ticks\":\"\"},\"colorscale\":[[0.0,\"#0d0887\"],[0.1111111111111111,\"#46039f\"],[0.2222222222222222,\"#7201a8\"],[0.3333333333333333,\"#9c179e\"],[0.4444444444444444,\"#bd3786\"],[0.5555555555555556,\"#d8576b\"],[0.6666666666666666,\"#ed7953\"],[0.7777777777777778,\"#fb9f3a\"],[0.8888888888888888,\"#fdca26\"],[1.0,\"#f0f921\"]],\"type\":\"heatmapgl\"}],\"heatmap\":[{\"colorbar\":{\"outlinewidth\":0,\"ticks\":\"\"},\"colorscale\":[[0.0,\"#0d0887\"],[0.1111111111111111,\"#46039f\"],[0.2222222222222222,\"#7201a8\"],[0.3333333333333333,\"#9c179e\"],[0.4444444444444444,\"#bd3786\"],[0.5555555555555556,\"#d8576b\"],[0.6666666666666666,\"#ed7953\"],[0.7777777777777778,\"#fb9f3a\"],[0.8888888888888888,\"#fdca26\"],[1.0,\"#f0f921\"]],\"type\":\"heatmap\"}],\"histogram2dcontour\":[{\"colorbar\":{\"outlinewidth\":0,\"ticks\":\"\"},\"colorscale\":[[0.0,\"#0d0887\"],[0.1111111111111111,\"#46039f\"],[0.2222222222222222,\"#7201a8\"],[0.3333333333333333,\"#9c179e\"],[0.4444444444444444,\"#bd3786\"],[0.5555555555555556,\"#d8576b\"],[0.6666666666666666,\"#ed7953\"],[0.7777777777777778,\"#fb9f3a\"],[0.8888888888888888,\"#fdca26\"],[1.0,\"#f0f921\"]],\"type\":\"histogram2dcontour\"}],\"histogram2d\":[{\"colorbar\":{\"outlinewidth\":0,\"ticks\":\"\"},\"colorscale\":[[0.0,\"#0d0887\"],[0.1111111111111111,\"#46039f\"],[0.2222222222222222,\"#7201a8\"],[0.3333333333333333,\"#9c179e\"],[0.4444444444444444,\"#bd3786\"],[0.5555555555555556,\"#d8576b\"],[0.6666666666666666,\"#ed7953\"],[0.7777777777777778,\"#fb9f3a\"],[0.8888888888888888,\"#fdca26\"],[1.0,\"#f0f921\"]],\"type\":\"histogram2d\"}],\"histogram\":[{\"marker\":{\"pattern\":{\"fillmode\":\"overlay\",\"size\":10,\"solidity\":0.2}},\"type\":\"histogram\"}],\"mesh3d\":[{\"colorbar\":{\"outlinewidth\":0,\"ticks\":\"\"},\"type\":\"mesh3d\"}],\"parcoords\":[{\"line\":{\"colorbar\":{\"outlinewidth\":0,\"ticks\":\"\"}},\"type\":\"parcoords\"}],\"pie\":[{\"automargin\":true,\"type\":\"pie\"}],\"scatter3d\":[{\"line\":{\"colorbar\":{\"outlinewidth\":0,\"ticks\":\"\"}},\"marker\":{\"colorbar\":{\"outlinewidth\":0,\"ticks\":\"\"}},\"type\":\"scatter3d\"}],\"scattercarpet\":[{\"marker\":{\"colorbar\":{\"outlinewidth\":0,\"ticks\":\"\"}},\"type\":\"scattercarpet\"}],\"scattergeo\":[{\"marker\":{\"colorbar\":{\"outlinewidth\":0,\"ticks\":\"\"}},\"type\":\"scattergeo\"}],\"scattergl\":[{\"marker\":{\"colorbar\":{\"outlinewidth\":0,\"ticks\":\"\"}},\"type\":\"scattergl\"}],\"scattermapbox\":[{\"marker\":{\"colorbar\":{\"outlinewidth\":0,\"ticks\":\"\"}},\"type\":\"scattermapbox\"}],\"scatterpolargl\":[{\"marker\":{\"colorbar\":{\"outlinewidth\":0,\"ticks\":\"\"}},\"type\":\"scatterpolargl\"}],\"scatterpolar\":[{\"marker\":{\"colorbar\":{\"outlinewidth\":0,\"ticks\":\"\"}},\"type\":\"scatterpolar\"}],\"scatter\":[{\"fillpattern\":{\"fillmode\":\"overlay\",\"size\":10,\"solidity\":0.2},\"type\":\"scatter\"}],\"scatterternary\":[{\"marker\":{\"colorbar\":{\"outlinewidth\":0,\"ticks\":\"\"}},\"type\":\"scatterternary\"}],\"surface\":[{\"colorbar\":{\"outlinewidth\":0,\"ticks\":\"\"},\"colorscale\":[[0.0,\"#0d0887\"],[0.1111111111111111,\"#46039f\"],[0.2222222222222222,\"#7201a8\"],[0.3333333333333333,\"#9c179e\"],[0.4444444444444444,\"#bd3786\"],[0.5555555555555556,\"#d8576b\"],[0.6666666666666666,\"#ed7953\"],[0.7777777777777778,\"#fb9f3a\"],[0.8888888888888888,\"#fdca26\"],[1.0,\"#f0f921\"]],\"type\":\"surface\"}],\"table\":[{\"cells\":{\"fill\":{\"color\":\"#EBF0F8\"},\"line\":{\"color\":\"white\"}},\"header\":{\"fill\":{\"color\":\"#C8D4E3\"},\"line\":{\"color\":\"white\"}},\"type\":\"table\"}]},\"layout\":{\"annotationdefaults\":{\"arrowcolor\":\"#2a3f5f\",\"arrowhead\":0,\"arrowwidth\":1},\"autotypenumbers\":\"strict\",\"coloraxis\":{\"colorbar\":{\"outlinewidth\":0,\"ticks\":\"\"}},\"colorscale\":{\"diverging\":[[0,\"#8e0152\"],[0.1,\"#c51b7d\"],[0.2,\"#de77ae\"],[0.3,\"#f1b6da\"],[0.4,\"#fde0ef\"],[0.5,\"#f7f7f7\"],[0.6,\"#e6f5d0\"],[0.7,\"#b8e186\"],[0.8,\"#7fbc41\"],[0.9,\"#4d9221\"],[1,\"#276419\"]],\"sequential\":[[0.0,\"#0d0887\"],[0.1111111111111111,\"#46039f\"],[0.2222222222222222,\"#7201a8\"],[0.3333333333333333,\"#9c179e\"],[0.4444444444444444,\"#bd3786\"],[0.5555555555555556,\"#d8576b\"],[0.6666666666666666,\"#ed7953\"],[0.7777777777777778,\"#fb9f3a\"],[0.8888888888888888,\"#fdca26\"],[1.0,\"#f0f921\"]],\"sequentialminus\":[[0.0,\"#0d0887\"],[0.1111111111111111,\"#46039f\"],[0.2222222222222222,\"#7201a8\"],[0.3333333333333333,\"#9c179e\"],[0.4444444444444444,\"#bd3786\"],[0.5555555555555556,\"#d8576b\"],[0.6666666666666666,\"#ed7953\"],[0.7777777777777778,\"#fb9f3a\"],[0.8888888888888888,\"#fdca26\"],[1.0,\"#f0f921\"]]},\"colorway\":[\"#636efa\",\"#EF553B\",\"#00cc96\",\"#ab63fa\",\"#FFA15A\",\"#19d3f3\",\"#FF6692\",\"#B6E880\",\"#FF97FF\",\"#FECB52\"],\"font\":{\"color\":\"#2a3f5f\"},\"geo\":{\"bgcolor\":\"white\",\"lakecolor\":\"white\",\"landcolor\":\"#E5ECF6\",\"showlakes\":true,\"showland\":true,\"subunitcolor\":\"white\"},\"hoverlabel\":{\"align\":\"left\"},\"hovermode\":\"closest\",\"mapbox\":{\"style\":\"light\"},\"paper_bgcolor\":\"white\",\"plot_bgcolor\":\"#E5ECF6\",\"polar\":{\"angularaxis\":{\"gridcolor\":\"white\",\"linecolor\":\"white\",\"ticks\":\"\"},\"bgcolor\":\"#E5ECF6\",\"radialaxis\":{\"gridcolor\":\"white\",\"linecolor\":\"white\",\"ticks\":\"\"}},\"scene\":{\"xaxis\":{\"backgroundcolor\":\"#E5ECF6\",\"gridcolor\":\"white\",\"gridwidth\":2,\"linecolor\":\"white\",\"showbackground\":true,\"ticks\":\"\",\"zerolinecolor\":\"white\"},\"yaxis\":{\"backgroundcolor\":\"#E5ECF6\",\"gridcolor\":\"white\",\"gridwidth\":2,\"linecolor\":\"white\",\"showbackground\":true,\"ticks\":\"\",\"zerolinecolor\":\"white\"},\"zaxis\":{\"backgroundcolor\":\"#E5ECF6\",\"gridcolor\":\"white\",\"gridwidth\":2,\"linecolor\":\"white\",\"showbackground\":true,\"ticks\":\"\",\"zerolinecolor\":\"white\"}},\"shapedefaults\":{\"line\":{\"color\":\"#2a3f5f\"}},\"ternary\":{\"aaxis\":{\"gridcolor\":\"white\",\"linecolor\":\"white\",\"ticks\":\"\"},\"baxis\":{\"gridcolor\":\"white\",\"linecolor\":\"white\",\"ticks\":\"\"},\"bgcolor\":\"#E5ECF6\",\"caxis\":{\"gridcolor\":\"white\",\"linecolor\":\"white\",\"ticks\":\"\"}},\"title\":{\"x\":0.05},\"xaxis\":{\"automargin\":true,\"gridcolor\":\"white\",\"linecolor\":\"white\",\"ticks\":\"\",\"title\":{\"standoff\":15},\"zerolinecolor\":\"white\",\"zerolinewidth\":2},\"yaxis\":{\"automargin\":true,\"gridcolor\":\"white\",\"linecolor\":\"white\",\"ticks\":\"\",\"title\":{\"standoff\":15},\"zerolinecolor\":\"white\",\"zerolinewidth\":2}}},\"title\":{\"text\":\"GANTT Chart\"},\"xaxis\":{\"range\":[\"1970-01-01T00:00:00\",\"1970-01-02T04:41:08\"],\"title\":{\"font\":{\"color\":\"#7f7f7f\",\"family\":\"Courier New, monospace\",\"size\":18},\"text\":\"Time\"}},\"yaxis\":{\"title\":{\"font\":{\"color\":\"#7f7f7f\",\"family\":\"Courier New, monospace\",\"size\":18},\"text\":\"Activities\"}}},                        {\"responsive\": true}                    ).then(function(){\n",
       "                            \n",
       "var gd = document.getElementById('b828d64e-5b4b-4d38-8e70-6f94dba333b2');\n",
       "var x = new MutationObserver(function (mutations, observer) {{\n",
       "        var display = window.getComputedStyle(gd).display;\n",
       "        if (!display || display === 'none') {{\n",
       "            console.log([gd, 'removed!']);\n",
       "            Plotly.purge(gd);\n",
       "            observer.disconnect();\n",
       "        }}\n",
       "}});\n",
       "\n",
       "// Listen for the removal of the full notebook cells\n",
       "var notebookContainer = gd.closest('#notebook-container');\n",
       "if (notebookContainer) {{\n",
       "    x.observe(notebookContainer, {childList: true});\n",
       "}}\n",
       "\n",
       "// Listen for the clearing of the current output cell\n",
       "var outputEl = gd.closest('.output');\n",
       "if (outputEl) {{\n",
       "    x.observe(outputEl, {childList: true});\n",
       "}}\n",
       "\n",
       "                        })                };                });            </script>        </div>"
      ]
     },
     "metadata": {},
     "output_type": "display_data"
    }
   ],
   "source": [
    "fig = get_gantt_chart(vessels, id_map=activities)\n"
   ]
  },
  {
   "cell_type": "code",
   "execution_count": 9,
   "id": "b7331bd0",
   "metadata": {},
   "outputs": [
    {
     "data": {
      "text/html": [
       "        <script type=\"text/javascript\">\n",
       "        window.PlotlyConfig = {MathJaxConfig: 'local'};\n",
       "        if (window.MathJax && window.MathJax.Hub && window.MathJax.Hub.Config) {window.MathJax.Hub.Config({SVG: {font: \"STIX-Web\"}});}\n",
       "        if (typeof require !== 'undefined') {\n",
       "        require.undef(\"plotly\");\n",
       "        requirejs.config({\n",
       "            paths: {\n",
       "                'plotly': ['https://cdn.plot.ly/plotly-2.18.2.min']\n",
       "            }\n",
       "        });\n",
       "        require(['plotly'], function(Plotly) {\n",
       "            window._Plotly = Plotly;\n",
       "        });\n",
       "        }\n",
       "        </script>\n",
       "        "
      ]
     },
     "metadata": {},
     "output_type": "display_data"
    },
    {
     "data": {
      "application/vnd.plotly.v1+json": {
       "config": {
        "linkText": "Export to plot.ly",
        "plotlyServerURL": "https://plot.ly",
        "showLink": false
       },
       "data": [
        {
         "connectgaps": false,
         "hoverinfo": "y+name",
         "line": {
          "color": "rgb(251,115,63)",
          "width": 10
         },
         "mode": "lines",
         "name": "loading:Carrier A",
         "type": "scatter",
         "x": [
          "1970-01-01T01:16:00",
          "1970-01-01T01:16:00",
          "1970-01-01T01:57:40",
          "1970-01-01T01:57:40",
          "1970-01-01T01:57:40",
          "1970-01-01T04:29:40",
          "1970-01-01T04:29:40",
          "1970-01-01T05:11:20",
          "1970-01-01T05:11:20",
          "1970-01-01T05:11:20",
          "1970-01-01T07:43:20",
          "1970-01-01T07:43:20",
          "1970-01-01T08:25:00",
          "1970-01-01T08:25:00",
          "1970-01-01T08:25:00",
          "1970-01-01T11:02:56",
          "1970-01-01T11:02:56",
          "1970-01-01T11:44:36",
          "1970-01-01T11:44:36",
          "1970-01-01T11:44:36",
          "1970-01-01T14:58:04",
          "1970-01-01T14:58:04",
          "1970-01-01T15:39:44",
          "1970-01-01T15:39:44",
          "1970-01-01T15:39:44",
          "1970-01-01T18:53:12",
          "1970-01-01T18:53:12",
          "1970-01-01T19:34:52",
          "1970-01-01T19:34:52",
          "1970-01-01T19:34:52",
          "1970-01-01T22:48:20",
          "1970-01-01T22:48:20",
          "1970-01-01T23:30:00",
          "1970-01-01T23:30:00",
          "1970-01-01T23:30:00",
          "1970-01-02T02:43:28",
          "1970-01-02T02:43:28",
          "1970-01-02T03:25:08",
          "1970-01-02T03:25:08",
          "1970-01-02T03:25:08",
          "1970-01-01T01:16:00",
          "1970-01-01T01:16:00",
          "1970-01-01T01:57:40",
          "1970-01-01T01:57:40",
          "1970-01-01T01:57:40",
          "1970-01-01T04:29:40",
          "1970-01-01T04:29:40",
          "1970-01-01T05:11:20",
          "1970-01-01T05:11:20",
          "1970-01-01T05:11:20",
          "1970-01-01T07:43:20",
          "1970-01-01T07:43:20",
          "1970-01-01T08:25:00",
          "1970-01-01T08:25:00",
          "1970-01-01T08:25:00",
          "1970-01-01T11:02:56",
          "1970-01-01T11:02:56",
          "1970-01-01T11:44:36",
          "1970-01-01T11:44:36",
          "1970-01-01T11:44:36",
          "1970-01-01T14:58:04",
          "1970-01-01T14:58:04",
          "1970-01-01T15:39:44",
          "1970-01-01T15:39:44",
          "1970-01-01T15:39:44",
          "1970-01-01T18:53:12",
          "1970-01-01T18:53:12",
          "1970-01-01T19:34:52",
          "1970-01-01T19:34:52",
          "1970-01-01T19:34:52",
          "1970-01-01T22:48:20",
          "1970-01-01T22:48:20",
          "1970-01-01T23:30:00",
          "1970-01-01T23:30:00",
          "1970-01-01T23:30:00",
          "1970-01-02T02:43:28",
          "1970-01-02T02:43:28",
          "1970-01-02T03:25:08",
          "1970-01-02T03:25:08",
          "1970-01-02T03:25:08"
         ],
         "y": [
          "Trench",
          "Trench",
          "Trench",
          "Trench",
          null,
          "Trench",
          "Trench",
          "Trench",
          "Trench",
          null,
          "Trench",
          "Trench",
          "Trench",
          "Trench",
          null,
          "Trench",
          "Trench",
          "Trench",
          "Trench",
          null,
          "Trench",
          "Trench",
          "Trench",
          "Trench",
          null,
          "Trench",
          "Trench",
          "Trench",
          "Trench",
          null,
          "Trench",
          "Trench",
          "Trench",
          "Trench",
          null,
          "Trench",
          "Trench",
          "Trench",
          "Trench",
          null,
          "Cutter T",
          "Cutter T",
          "Cutter T",
          "Cutter T",
          null,
          "Cutter T",
          "Cutter T",
          "Cutter T",
          "Cutter T",
          null,
          "Cutter T",
          "Cutter T",
          "Cutter T",
          "Cutter T",
          null,
          "Cutter T",
          "Cutter T",
          "Cutter T",
          "Cutter T",
          null,
          "Cutter T",
          "Cutter T",
          "Cutter T",
          "Cutter T",
          null,
          "Cutter T",
          "Cutter T",
          "Cutter T",
          "Cutter T",
          null,
          "Cutter T",
          "Cutter T",
          "Cutter T",
          "Cutter T",
          null,
          "Cutter T",
          "Cutter T",
          "Cutter T",
          "Cutter T",
          null
         ]
        },
        {
         "connectgaps": false,
         "hoverinfo": "y+name",
         "line": {
          "color": "rgb(23,143,91)",
          "width": 10
         },
         "mode": "lines",
         "name": "loading:Carrier B",
         "type": "scatter",
         "x": [
          "1970-01-01T02:31:00",
          "1970-01-01T02:31:00",
          "1970-01-01T03:12:40",
          "1970-01-01T03:12:40",
          "1970-01-01T03:12:40",
          "1970-01-01T06:26:08",
          "1970-01-01T06:26:08",
          "1970-01-01T07:07:48",
          "1970-01-01T07:07:48",
          "1970-01-01T07:07:48",
          "1970-01-01T10:21:16",
          "1970-01-01T10:21:16",
          "1970-01-01T11:02:56",
          "1970-01-01T11:02:56",
          "1970-01-01T11:02:56",
          "1970-01-01T14:16:24",
          "1970-01-01T14:16:24",
          "1970-01-01T14:58:04",
          "1970-01-01T14:58:04",
          "1970-01-01T14:58:04",
          "1970-01-01T18:11:32",
          "1970-01-01T18:11:32",
          "1970-01-01T18:53:12",
          "1970-01-01T18:53:12",
          "1970-01-01T18:53:12",
          "1970-01-01T22:06:40",
          "1970-01-01T22:06:40",
          "1970-01-01T22:48:20",
          "1970-01-01T22:48:20",
          "1970-01-01T22:48:20",
          "1970-01-02T02:01:48",
          "1970-01-02T02:01:48",
          "1970-01-02T02:43:28",
          "1970-01-02T02:43:28",
          "1970-01-02T02:43:28",
          "1970-01-01T02:31:00",
          "1970-01-01T02:31:00",
          "1970-01-01T03:12:40",
          "1970-01-01T03:12:40",
          "1970-01-01T03:12:40",
          "1970-01-01T06:26:08",
          "1970-01-01T06:26:08",
          "1970-01-01T07:07:48",
          "1970-01-01T07:07:48",
          "1970-01-01T07:07:48",
          "1970-01-01T10:21:16",
          "1970-01-01T10:21:16",
          "1970-01-01T11:02:56",
          "1970-01-01T11:02:56",
          "1970-01-01T11:02:56",
          "1970-01-01T14:16:24",
          "1970-01-01T14:16:24",
          "1970-01-01T14:58:04",
          "1970-01-01T14:58:04",
          "1970-01-01T14:58:04",
          "1970-01-01T18:11:32",
          "1970-01-01T18:11:32",
          "1970-01-01T18:53:12",
          "1970-01-01T18:53:12",
          "1970-01-01T18:53:12",
          "1970-01-01T22:06:40",
          "1970-01-01T22:06:40",
          "1970-01-01T22:48:20",
          "1970-01-01T22:48:20",
          "1970-01-01T22:48:20",
          "1970-01-02T02:01:48",
          "1970-01-02T02:01:48",
          "1970-01-02T02:43:28",
          "1970-01-02T02:43:28",
          "1970-01-02T02:43:28"
         ],
         "y": [
          "Trench",
          "Trench",
          "Trench",
          "Trench",
          null,
          "Trench",
          "Trench",
          "Trench",
          "Trench",
          null,
          "Trench",
          "Trench",
          "Trench",
          "Trench",
          null,
          "Trench",
          "Trench",
          "Trench",
          "Trench",
          null,
          "Trench",
          "Trench",
          "Trench",
          "Trench",
          null,
          "Trench",
          "Trench",
          "Trench",
          "Trench",
          null,
          "Trench",
          "Trench",
          "Trench",
          "Trench",
          null,
          "Cutter T",
          "Cutter T",
          "Cutter T",
          "Cutter T",
          null,
          "Cutter T",
          "Cutter T",
          "Cutter T",
          "Cutter T",
          null,
          "Cutter T",
          "Cutter T",
          "Cutter T",
          "Cutter T",
          null,
          "Cutter T",
          "Cutter T",
          "Cutter T",
          "Cutter T",
          null,
          "Cutter T",
          "Cutter T",
          "Cutter T",
          "Cutter T",
          null,
          "Cutter T",
          "Cutter T",
          "Cutter T",
          "Cutter T",
          null,
          "Cutter T",
          "Cutter T",
          "Cutter T",
          "Cutter T",
          null
         ]
        },
        {
         "connectgaps": false,
         "hoverinfo": "y+name",
         "line": {
          "color": "rgb(51,171,119)",
          "width": 10
         },
         "mode": "lines",
         "name": "loading:Carrier C",
         "type": "scatter",
         "x": [
          "1970-01-01T01:57:40",
          "1970-01-01T01:57:40",
          "1970-01-01T02:31:00",
          "1970-01-01T02:31:00",
          "1970-01-01T02:31:00",
          "1970-01-01T05:43:04",
          "1970-01-01T05:43:04",
          "1970-01-01T06:16:24",
          "1970-01-01T06:16:24",
          "1970-01-01T06:16:24",
          "1970-01-01T09:28:28",
          "1970-01-01T09:28:28",
          "1970-01-01T10:01:48",
          "1970-01-01T10:01:48",
          "1970-01-01T10:01:48",
          "1970-01-01T13:13:52",
          "1970-01-01T13:13:52",
          "1970-01-01T13:47:12",
          "1970-01-01T13:47:12",
          "1970-01-01T13:47:12",
          "1970-01-01T16:59:16",
          "1970-01-01T16:59:16",
          "1970-01-01T17:32:36",
          "1970-01-01T17:32:36",
          "1970-01-01T17:32:36",
          "1970-01-01T20:44:40",
          "1970-01-01T20:44:40",
          "1970-01-01T21:18:00",
          "1970-01-01T21:18:00",
          "1970-01-01T21:18:00",
          "1970-01-02T00:30:04",
          "1970-01-02T00:30:04",
          "1970-01-02T01:03:24",
          "1970-01-02T01:03:24",
          "1970-01-02T01:03:24",
          "1970-01-01T01:57:40",
          "1970-01-01T01:57:40",
          "1970-01-01T02:31:00",
          "1970-01-01T02:31:00",
          "1970-01-01T02:31:00",
          "1970-01-01T05:43:04",
          "1970-01-01T05:43:04",
          "1970-01-01T06:16:24",
          "1970-01-01T06:16:24",
          "1970-01-01T06:16:24",
          "1970-01-01T09:28:28",
          "1970-01-01T09:28:28",
          "1970-01-01T10:01:48",
          "1970-01-01T10:01:48",
          "1970-01-01T10:01:48",
          "1970-01-01T13:13:52",
          "1970-01-01T13:13:52",
          "1970-01-01T13:47:12",
          "1970-01-01T13:47:12",
          "1970-01-01T13:47:12",
          "1970-01-01T16:59:16",
          "1970-01-01T16:59:16",
          "1970-01-01T17:32:36",
          "1970-01-01T17:32:36",
          "1970-01-01T17:32:36",
          "1970-01-01T20:44:40",
          "1970-01-01T20:44:40",
          "1970-01-01T21:18:00",
          "1970-01-01T21:18:00",
          "1970-01-01T21:18:00",
          "1970-01-02T00:30:04",
          "1970-01-02T00:30:04",
          "1970-01-02T01:03:24",
          "1970-01-02T01:03:24",
          "1970-01-02T01:03:24"
         ],
         "y": [
          "Trench",
          "Trench",
          "Trench",
          "Trench",
          null,
          "Trench",
          "Trench",
          "Trench",
          "Trench",
          null,
          "Trench",
          "Trench",
          "Trench",
          "Trench",
          null,
          "Trench",
          "Trench",
          "Trench",
          "Trench",
          null,
          "Trench",
          "Trench",
          "Trench",
          "Trench",
          null,
          "Trench",
          "Trench",
          "Trench",
          "Trench",
          null,
          "Trench",
          "Trench",
          "Trench",
          "Trench",
          null,
          "Cutter T",
          "Cutter T",
          "Cutter T",
          "Cutter T",
          null,
          "Cutter T",
          "Cutter T",
          "Cutter T",
          "Cutter T",
          null,
          "Cutter T",
          "Cutter T",
          "Cutter T",
          "Cutter T",
          null,
          "Cutter T",
          "Cutter T",
          "Cutter T",
          "Cutter T",
          null,
          "Cutter T",
          "Cutter T",
          "Cutter T",
          "Cutter T",
          null,
          "Cutter T",
          "Cutter T",
          "Cutter T",
          "Cutter T",
          null,
          "Cutter T",
          "Cutter T",
          "Cutter T",
          "Cutter T",
          null
         ]
        },
        {
         "connectgaps": false,
         "hoverinfo": "y+name",
         "line": {
          "color": "rgb(79,199,147)",
          "width": 10
         },
         "mode": "lines",
         "name": "unloading:Carrier A",
         "type": "scatter",
         "x": [
          "1970-01-01T02:35:40",
          "1970-01-01T02:35:40",
          "1970-01-01T03:13:40",
          "1970-01-01T03:13:40",
          "1970-01-01T03:13:40",
          "1970-01-01T05:49:20",
          "1970-01-01T05:49:20",
          "1970-01-01T06:27:20",
          "1970-01-01T06:27:20",
          "1970-01-01T06:27:20",
          "1970-01-01T09:03:00",
          "1970-01-01T09:03:00",
          "1970-01-01T09:41:00",
          "1970-01-01T09:41:00",
          "1970-01-01T09:41:00",
          "1970-01-01T12:22:36",
          "1970-01-01T12:22:36",
          "1970-01-01T13:00:36",
          "1970-01-01T13:00:36",
          "1970-01-01T13:00:36",
          "1970-01-01T16:17:44",
          "1970-01-01T16:17:44",
          "1970-01-01T16:55:44",
          "1970-01-01T16:55:44",
          "1970-01-01T16:55:44",
          "1970-01-01T20:12:52",
          "1970-01-01T20:12:52",
          "1970-01-01T20:50:52",
          "1970-01-01T20:50:52",
          "1970-01-01T20:50:52",
          "1970-01-02T00:08:00",
          "1970-01-02T00:08:00",
          "1970-01-02T00:46:00",
          "1970-01-02T00:46:00",
          "1970-01-02T00:46:00",
          "1970-01-02T04:03:08",
          "1970-01-02T04:03:08",
          "1970-01-02T04:41:08",
          "1970-01-02T04:41:08",
          "1970-01-02T04:41:08"
         ],
         "y": [
          "Reclamation",
          "Reclamation",
          "Reclamation",
          "Reclamation",
          null,
          "Reclamation",
          "Reclamation",
          "Reclamation",
          "Reclamation",
          null,
          "Reclamation",
          "Reclamation",
          "Reclamation",
          "Reclamation",
          null,
          "Reclamation",
          "Reclamation",
          "Reclamation",
          "Reclamation",
          null,
          "Reclamation",
          "Reclamation",
          "Reclamation",
          "Reclamation",
          null,
          "Reclamation",
          "Reclamation",
          "Reclamation",
          "Reclamation",
          null,
          "Reclamation",
          "Reclamation",
          "Reclamation",
          "Reclamation",
          null,
          "Reclamation",
          "Reclamation",
          "Reclamation",
          "Reclamation",
          null
         ]
        },
        {
         "connectgaps": false,
         "hoverinfo": "y+name",
         "line": {
          "color": "rgb(107,227,175)",
          "width": 10
         },
         "mode": "lines",
         "name": "unloading:Carrier C",
         "type": "scatter",
         "x": [
          "1970-01-01T03:19:01",
          "1970-01-01T03:19:01",
          "1970-01-01T04:07:02",
          "1970-01-01T04:07:02",
          "1970-01-01T04:07:02",
          "1970-01-01T07:04:25",
          "1970-01-01T07:04:25",
          "1970-01-01T07:52:26",
          "1970-01-01T07:52:26",
          "1970-01-01T07:52:26",
          "1970-01-01T10:49:49",
          "1970-01-01T10:49:49",
          "1970-01-01T11:37:50",
          "1970-01-01T11:37:50",
          "1970-01-01T11:37:50",
          "1970-01-01T14:35:13",
          "1970-01-01T14:35:13",
          "1970-01-01T15:23:14",
          "1970-01-01T15:23:14",
          "1970-01-01T15:23:14",
          "1970-01-01T18:20:37",
          "1970-01-01T18:20:37",
          "1970-01-01T19:08:38",
          "1970-01-01T19:08:38",
          "1970-01-01T19:08:38",
          "1970-01-01T22:06:01",
          "1970-01-01T22:06:01",
          "1970-01-01T22:54:02",
          "1970-01-01T22:54:02",
          "1970-01-01T22:54:02",
          "1970-01-02T01:51:25",
          "1970-01-02T01:51:25",
          "1970-01-02T02:39:26",
          "1970-01-02T02:39:26",
          "1970-01-02T02:39:26"
         ],
         "y": [
          "Reclamation",
          "Reclamation",
          "Reclamation",
          "Reclamation",
          null,
          "Reclamation",
          "Reclamation",
          "Reclamation",
          "Reclamation",
          null,
          "Reclamation",
          "Reclamation",
          "Reclamation",
          "Reclamation",
          null,
          "Reclamation",
          "Reclamation",
          "Reclamation",
          "Reclamation",
          null,
          "Reclamation",
          "Reclamation",
          "Reclamation",
          "Reclamation",
          null,
          "Reclamation",
          "Reclamation",
          "Reclamation",
          "Reclamation",
          null,
          "Reclamation",
          "Reclamation",
          "Reclamation",
          "Reclamation",
          null
         ]
        },
        {
         "connectgaps": false,
         "hoverinfo": "y+name",
         "line": {
          "color": "rgb(135,255,203)",
          "width": 10
         },
         "mode": "lines",
         "name": "unloading:Carrier B",
         "type": "scatter",
         "x": [
          "1970-01-01T04:01:02",
          "1970-01-01T04:01:02",
          "1970-01-01T04:49:24",
          "1970-01-01T04:49:24",
          "1970-01-01T04:49:24",
          "1970-01-01T07:56:10",
          "1970-01-01T07:56:10",
          "1970-01-01T08:44:32",
          "1970-01-01T08:44:32",
          "1970-01-01T08:44:32",
          "1970-01-01T11:51:18",
          "1970-01-01T11:51:18",
          "1970-01-01T12:39:40",
          "1970-01-01T12:39:40",
          "1970-01-01T12:39:40",
          "1970-01-01T15:46:26",
          "1970-01-01T15:46:26",
          "1970-01-01T16:34:48",
          "1970-01-01T16:34:48",
          "1970-01-01T16:34:48",
          "1970-01-01T19:41:34",
          "1970-01-01T19:41:34",
          "1970-01-01T20:29:56",
          "1970-01-01T20:29:56",
          "1970-01-01T20:29:56",
          "1970-01-01T23:36:42",
          "1970-01-01T23:36:42",
          "1970-01-02T00:25:04",
          "1970-01-02T00:25:04",
          "1970-01-02T00:25:04",
          "1970-01-02T03:31:50",
          "1970-01-02T03:31:50",
          "1970-01-02T04:20:12",
          "1970-01-02T04:20:12",
          "1970-01-02T04:20:12"
         ],
         "y": [
          "Reclamation",
          "Reclamation",
          "Reclamation",
          "Reclamation",
          null,
          "Reclamation",
          "Reclamation",
          "Reclamation",
          "Reclamation",
          null,
          "Reclamation",
          "Reclamation",
          "Reclamation",
          "Reclamation",
          null,
          "Reclamation",
          "Reclamation",
          "Reclamation",
          "Reclamation",
          null,
          "Reclamation",
          "Reclamation",
          "Reclamation",
          "Reclamation",
          null,
          "Reclamation",
          "Reclamation",
          "Reclamation",
          "Reclamation",
          null,
          "Reclamation",
          "Reclamation",
          "Reclamation",
          "Reclamation",
          null
         ]
        },
        {
         "connectgaps": false,
         "hoverinfo": "y+name",
         "line": {
          "color": "rgb(163,27,231)",
          "width": 10
         },
         "mode": "lines",
         "name": "loading:Carrier A",
         "type": "scatter",
         "x": [
          "1970-01-01T01:16:00",
          "1970-01-01T01:16:00",
          "1970-01-01T01:57:40",
          "1970-01-01T01:57:40",
          "1970-01-01T01:57:40",
          "1970-01-01T04:29:40",
          "1970-01-01T04:29:40",
          "1970-01-01T05:11:20",
          "1970-01-01T05:11:20",
          "1970-01-01T05:11:20",
          "1970-01-01T07:43:20",
          "1970-01-01T07:43:20",
          "1970-01-01T08:25:00",
          "1970-01-01T08:25:00",
          "1970-01-01T08:25:00",
          "1970-01-01T11:02:56",
          "1970-01-01T11:02:56",
          "1970-01-01T11:44:36",
          "1970-01-01T11:44:36",
          "1970-01-01T11:44:36",
          "1970-01-01T14:58:04",
          "1970-01-01T14:58:04",
          "1970-01-01T15:39:44",
          "1970-01-01T15:39:44",
          "1970-01-01T15:39:44",
          "1970-01-01T18:53:12",
          "1970-01-01T18:53:12",
          "1970-01-01T19:34:52",
          "1970-01-01T19:34:52",
          "1970-01-01T19:34:52",
          "1970-01-01T22:48:20",
          "1970-01-01T22:48:20",
          "1970-01-01T23:30:00",
          "1970-01-01T23:30:00",
          "1970-01-01T23:30:00",
          "1970-01-02T02:43:28",
          "1970-01-02T02:43:28",
          "1970-01-02T03:25:08",
          "1970-01-02T03:25:08",
          "1970-01-02T03:25:08",
          "1970-01-01T01:16:00",
          "1970-01-01T01:16:00",
          "1970-01-01T01:57:40",
          "1970-01-01T01:57:40",
          "1970-01-01T01:57:40",
          "1970-01-01T04:29:40",
          "1970-01-01T04:29:40",
          "1970-01-01T05:11:20",
          "1970-01-01T05:11:20",
          "1970-01-01T05:11:20",
          "1970-01-01T07:43:20",
          "1970-01-01T07:43:20",
          "1970-01-01T08:25:00",
          "1970-01-01T08:25:00",
          "1970-01-01T08:25:00",
          "1970-01-01T11:02:56",
          "1970-01-01T11:02:56",
          "1970-01-01T11:44:36",
          "1970-01-01T11:44:36",
          "1970-01-01T11:44:36",
          "1970-01-01T14:58:04",
          "1970-01-01T14:58:04",
          "1970-01-01T15:39:44",
          "1970-01-01T15:39:44",
          "1970-01-01T15:39:44",
          "1970-01-01T18:53:12",
          "1970-01-01T18:53:12",
          "1970-01-01T19:34:52",
          "1970-01-01T19:34:52",
          "1970-01-01T19:34:52",
          "1970-01-01T22:48:20",
          "1970-01-01T22:48:20",
          "1970-01-01T23:30:00",
          "1970-01-01T23:30:00",
          "1970-01-01T23:30:00",
          "1970-01-02T02:43:28",
          "1970-01-02T02:43:28",
          "1970-01-02T03:25:08",
          "1970-01-02T03:25:08",
          "1970-01-02T03:25:08"
         ],
         "y": [
          "Trench",
          "Trench",
          "Trench",
          "Trench",
          null,
          "Trench",
          "Trench",
          "Trench",
          "Trench",
          null,
          "Trench",
          "Trench",
          "Trench",
          "Trench",
          null,
          "Trench",
          "Trench",
          "Trench",
          "Trench",
          null,
          "Trench",
          "Trench",
          "Trench",
          "Trench",
          null,
          "Trench",
          "Trench",
          "Trench",
          "Trench",
          null,
          "Trench",
          "Trench",
          "Trench",
          "Trench",
          null,
          "Trench",
          "Trench",
          "Trench",
          "Trench",
          null,
          "Cutter T",
          "Cutter T",
          "Cutter T",
          "Cutter T",
          null,
          "Cutter T",
          "Cutter T",
          "Cutter T",
          "Cutter T",
          null,
          "Cutter T",
          "Cutter T",
          "Cutter T",
          "Cutter T",
          null,
          "Cutter T",
          "Cutter T",
          "Cutter T",
          "Cutter T",
          null,
          "Cutter T",
          "Cutter T",
          "Cutter T",
          "Cutter T",
          null,
          "Cutter T",
          "Cutter T",
          "Cutter T",
          "Cutter T",
          null,
          "Cutter T",
          "Cutter T",
          "Cutter T",
          "Cutter T",
          null,
          "Cutter T",
          "Cutter T",
          "Cutter T",
          "Cutter T",
          null
         ]
        },
        {
         "connectgaps": false,
         "hoverinfo": "y+name",
         "line": {
          "color": "rgb(191,55,3)",
          "width": 10
         },
         "mode": "lines",
         "name": "loading:Carrier B",
         "type": "scatter",
         "x": [
          "1970-01-01T02:31:00",
          "1970-01-01T02:31:00",
          "1970-01-01T03:12:40",
          "1970-01-01T03:12:40",
          "1970-01-01T03:12:40",
          "1970-01-01T06:26:08",
          "1970-01-01T06:26:08",
          "1970-01-01T07:07:48",
          "1970-01-01T07:07:48",
          "1970-01-01T07:07:48",
          "1970-01-01T10:21:16",
          "1970-01-01T10:21:16",
          "1970-01-01T11:02:56",
          "1970-01-01T11:02:56",
          "1970-01-01T11:02:56",
          "1970-01-01T14:16:24",
          "1970-01-01T14:16:24",
          "1970-01-01T14:58:04",
          "1970-01-01T14:58:04",
          "1970-01-01T14:58:04",
          "1970-01-01T18:11:32",
          "1970-01-01T18:11:32",
          "1970-01-01T18:53:12",
          "1970-01-01T18:53:12",
          "1970-01-01T18:53:12",
          "1970-01-01T22:06:40",
          "1970-01-01T22:06:40",
          "1970-01-01T22:48:20",
          "1970-01-01T22:48:20",
          "1970-01-01T22:48:20",
          "1970-01-02T02:01:48",
          "1970-01-02T02:01:48",
          "1970-01-02T02:43:28",
          "1970-01-02T02:43:28",
          "1970-01-02T02:43:28",
          "1970-01-01T02:31:00",
          "1970-01-01T02:31:00",
          "1970-01-01T03:12:40",
          "1970-01-01T03:12:40",
          "1970-01-01T03:12:40",
          "1970-01-01T06:26:08",
          "1970-01-01T06:26:08",
          "1970-01-01T07:07:48",
          "1970-01-01T07:07:48",
          "1970-01-01T07:07:48",
          "1970-01-01T10:21:16",
          "1970-01-01T10:21:16",
          "1970-01-01T11:02:56",
          "1970-01-01T11:02:56",
          "1970-01-01T11:02:56",
          "1970-01-01T14:16:24",
          "1970-01-01T14:16:24",
          "1970-01-01T14:58:04",
          "1970-01-01T14:58:04",
          "1970-01-01T14:58:04",
          "1970-01-01T18:11:32",
          "1970-01-01T18:11:32",
          "1970-01-01T18:53:12",
          "1970-01-01T18:53:12",
          "1970-01-01T18:53:12",
          "1970-01-01T22:06:40",
          "1970-01-01T22:06:40",
          "1970-01-01T22:48:20",
          "1970-01-01T22:48:20",
          "1970-01-01T22:48:20",
          "1970-01-02T02:01:48",
          "1970-01-02T02:01:48",
          "1970-01-02T02:43:28",
          "1970-01-02T02:43:28",
          "1970-01-02T02:43:28"
         ],
         "y": [
          "Trench",
          "Trench",
          "Trench",
          "Trench",
          null,
          "Trench",
          "Trench",
          "Trench",
          "Trench",
          null,
          "Trench",
          "Trench",
          "Trench",
          "Trench",
          null,
          "Trench",
          "Trench",
          "Trench",
          "Trench",
          null,
          "Trench",
          "Trench",
          "Trench",
          "Trench",
          null,
          "Trench",
          "Trench",
          "Trench",
          "Trench",
          null,
          "Trench",
          "Trench",
          "Trench",
          "Trench",
          null,
          "Cutter T",
          "Cutter T",
          "Cutter T",
          "Cutter T",
          null,
          "Cutter T",
          "Cutter T",
          "Cutter T",
          "Cutter T",
          null,
          "Cutter T",
          "Cutter T",
          "Cutter T",
          "Cutter T",
          null,
          "Cutter T",
          "Cutter T",
          "Cutter T",
          "Cutter T",
          null,
          "Cutter T",
          "Cutter T",
          "Cutter T",
          "Cutter T",
          null,
          "Cutter T",
          "Cutter T",
          "Cutter T",
          "Cutter T",
          null,
          "Cutter T",
          "Cutter T",
          "Cutter T",
          "Cutter T",
          null
         ]
        },
        {
         "connectgaps": false,
         "hoverinfo": "y+name",
         "line": {
          "color": "rgb(219,83,31)",
          "width": 10
         },
         "mode": "lines",
         "name": "loading:Carrier C",
         "type": "scatter",
         "x": [
          "1970-01-01T01:57:40",
          "1970-01-01T01:57:40",
          "1970-01-01T02:31:00",
          "1970-01-01T02:31:00",
          "1970-01-01T02:31:00",
          "1970-01-01T05:43:04",
          "1970-01-01T05:43:04",
          "1970-01-01T06:16:24",
          "1970-01-01T06:16:24",
          "1970-01-01T06:16:24",
          "1970-01-01T09:28:28",
          "1970-01-01T09:28:28",
          "1970-01-01T10:01:48",
          "1970-01-01T10:01:48",
          "1970-01-01T10:01:48",
          "1970-01-01T13:13:52",
          "1970-01-01T13:13:52",
          "1970-01-01T13:47:12",
          "1970-01-01T13:47:12",
          "1970-01-01T13:47:12",
          "1970-01-01T16:59:16",
          "1970-01-01T16:59:16",
          "1970-01-01T17:32:36",
          "1970-01-01T17:32:36",
          "1970-01-01T17:32:36",
          "1970-01-01T20:44:40",
          "1970-01-01T20:44:40",
          "1970-01-01T21:18:00",
          "1970-01-01T21:18:00",
          "1970-01-01T21:18:00",
          "1970-01-02T00:30:04",
          "1970-01-02T00:30:04",
          "1970-01-02T01:03:24",
          "1970-01-02T01:03:24",
          "1970-01-02T01:03:24",
          "1970-01-01T01:57:40",
          "1970-01-01T01:57:40",
          "1970-01-01T02:31:00",
          "1970-01-01T02:31:00",
          "1970-01-01T02:31:00",
          "1970-01-01T05:43:04",
          "1970-01-01T05:43:04",
          "1970-01-01T06:16:24",
          "1970-01-01T06:16:24",
          "1970-01-01T06:16:24",
          "1970-01-01T09:28:28",
          "1970-01-01T09:28:28",
          "1970-01-01T10:01:48",
          "1970-01-01T10:01:48",
          "1970-01-01T10:01:48",
          "1970-01-01T13:13:52",
          "1970-01-01T13:13:52",
          "1970-01-01T13:47:12",
          "1970-01-01T13:47:12",
          "1970-01-01T13:47:12",
          "1970-01-01T16:59:16",
          "1970-01-01T16:59:16",
          "1970-01-01T17:32:36",
          "1970-01-01T17:32:36",
          "1970-01-01T17:32:36",
          "1970-01-01T20:44:40",
          "1970-01-01T20:44:40",
          "1970-01-01T21:18:00",
          "1970-01-01T21:18:00",
          "1970-01-01T21:18:00",
          "1970-01-02T00:30:04",
          "1970-01-02T00:30:04",
          "1970-01-02T01:03:24",
          "1970-01-02T01:03:24",
          "1970-01-02T01:03:24"
         ],
         "y": [
          "Trench",
          "Trench",
          "Trench",
          "Trench",
          null,
          "Trench",
          "Trench",
          "Trench",
          "Trench",
          null,
          "Trench",
          "Trench",
          "Trench",
          "Trench",
          null,
          "Trench",
          "Trench",
          "Trench",
          "Trench",
          null,
          "Trench",
          "Trench",
          "Trench",
          "Trench",
          null,
          "Trench",
          "Trench",
          "Trench",
          "Trench",
          null,
          "Trench",
          "Trench",
          "Trench",
          "Trench",
          null,
          "Cutter T",
          "Cutter T",
          "Cutter T",
          "Cutter T",
          null,
          "Cutter T",
          "Cutter T",
          "Cutter T",
          "Cutter T",
          null,
          "Cutter T",
          "Cutter T",
          "Cutter T",
          "Cutter T",
          null,
          "Cutter T",
          "Cutter T",
          "Cutter T",
          "Cutter T",
          null,
          "Cutter T",
          "Cutter T",
          "Cutter T",
          "Cutter T",
          null,
          "Cutter T",
          "Cutter T",
          "Cutter T",
          "Cutter T",
          null,
          "Cutter T",
          "Cutter T",
          "Cutter T",
          "Cutter T",
          null
         ]
        }
       ],
       "layout": {
        "hovermode": "closest",
        "legend": {
         "orientation": "h",
         "x": 0,
         "y": -0.2
        },
        "template": {
         "data": {
          "bar": [
           {
            "error_x": {
             "color": "#2a3f5f"
            },
            "error_y": {
             "color": "#2a3f5f"
            },
            "marker": {
             "line": {
              "color": "#E5ECF6",
              "width": 0.5
             },
             "pattern": {
              "fillmode": "overlay",
              "size": 10,
              "solidity": 0.2
             }
            },
            "type": "bar"
           }
          ],
          "barpolar": [
           {
            "marker": {
             "line": {
              "color": "#E5ECF6",
              "width": 0.5
             },
             "pattern": {
              "fillmode": "overlay",
              "size": 10,
              "solidity": 0.2
             }
            },
            "type": "barpolar"
           }
          ],
          "carpet": [
           {
            "aaxis": {
             "endlinecolor": "#2a3f5f",
             "gridcolor": "white",
             "linecolor": "white",
             "minorgridcolor": "white",
             "startlinecolor": "#2a3f5f"
            },
            "baxis": {
             "endlinecolor": "#2a3f5f",
             "gridcolor": "white",
             "linecolor": "white",
             "minorgridcolor": "white",
             "startlinecolor": "#2a3f5f"
            },
            "type": "carpet"
           }
          ],
          "choropleth": [
           {
            "colorbar": {
             "outlinewidth": 0,
             "ticks": ""
            },
            "type": "choropleth"
           }
          ],
          "contour": [
           {
            "colorbar": {
             "outlinewidth": 0,
             "ticks": ""
            },
            "colorscale": [
             [
              0,
              "#0d0887"
             ],
             [
              0.1111111111111111,
              "#46039f"
             ],
             [
              0.2222222222222222,
              "#7201a8"
             ],
             [
              0.3333333333333333,
              "#9c179e"
             ],
             [
              0.4444444444444444,
              "#bd3786"
             ],
             [
              0.5555555555555556,
              "#d8576b"
             ],
             [
              0.6666666666666666,
              "#ed7953"
             ],
             [
              0.7777777777777778,
              "#fb9f3a"
             ],
             [
              0.8888888888888888,
              "#fdca26"
             ],
             [
              1,
              "#f0f921"
             ]
            ],
            "type": "contour"
           }
          ],
          "contourcarpet": [
           {
            "colorbar": {
             "outlinewidth": 0,
             "ticks": ""
            },
            "type": "contourcarpet"
           }
          ],
          "heatmap": [
           {
            "colorbar": {
             "outlinewidth": 0,
             "ticks": ""
            },
            "colorscale": [
             [
              0,
              "#0d0887"
             ],
             [
              0.1111111111111111,
              "#46039f"
             ],
             [
              0.2222222222222222,
              "#7201a8"
             ],
             [
              0.3333333333333333,
              "#9c179e"
             ],
             [
              0.4444444444444444,
              "#bd3786"
             ],
             [
              0.5555555555555556,
              "#d8576b"
             ],
             [
              0.6666666666666666,
              "#ed7953"
             ],
             [
              0.7777777777777778,
              "#fb9f3a"
             ],
             [
              0.8888888888888888,
              "#fdca26"
             ],
             [
              1,
              "#f0f921"
             ]
            ],
            "type": "heatmap"
           }
          ],
          "heatmapgl": [
           {
            "colorbar": {
             "outlinewidth": 0,
             "ticks": ""
            },
            "colorscale": [
             [
              0,
              "#0d0887"
             ],
             [
              0.1111111111111111,
              "#46039f"
             ],
             [
              0.2222222222222222,
              "#7201a8"
             ],
             [
              0.3333333333333333,
              "#9c179e"
             ],
             [
              0.4444444444444444,
              "#bd3786"
             ],
             [
              0.5555555555555556,
              "#d8576b"
             ],
             [
              0.6666666666666666,
              "#ed7953"
             ],
             [
              0.7777777777777778,
              "#fb9f3a"
             ],
             [
              0.8888888888888888,
              "#fdca26"
             ],
             [
              1,
              "#f0f921"
             ]
            ],
            "type": "heatmapgl"
           }
          ],
          "histogram": [
           {
            "marker": {
             "pattern": {
              "fillmode": "overlay",
              "size": 10,
              "solidity": 0.2
             }
            },
            "type": "histogram"
           }
          ],
          "histogram2d": [
           {
            "colorbar": {
             "outlinewidth": 0,
             "ticks": ""
            },
            "colorscale": [
             [
              0,
              "#0d0887"
             ],
             [
              0.1111111111111111,
              "#46039f"
             ],
             [
              0.2222222222222222,
              "#7201a8"
             ],
             [
              0.3333333333333333,
              "#9c179e"
             ],
             [
              0.4444444444444444,
              "#bd3786"
             ],
             [
              0.5555555555555556,
              "#d8576b"
             ],
             [
              0.6666666666666666,
              "#ed7953"
             ],
             [
              0.7777777777777778,
              "#fb9f3a"
             ],
             [
              0.8888888888888888,
              "#fdca26"
             ],
             [
              1,
              "#f0f921"
             ]
            ],
            "type": "histogram2d"
           }
          ],
          "histogram2dcontour": [
           {
            "colorbar": {
             "outlinewidth": 0,
             "ticks": ""
            },
            "colorscale": [
             [
              0,
              "#0d0887"
             ],
             [
              0.1111111111111111,
              "#46039f"
             ],
             [
              0.2222222222222222,
              "#7201a8"
             ],
             [
              0.3333333333333333,
              "#9c179e"
             ],
             [
              0.4444444444444444,
              "#bd3786"
             ],
             [
              0.5555555555555556,
              "#d8576b"
             ],
             [
              0.6666666666666666,
              "#ed7953"
             ],
             [
              0.7777777777777778,
              "#fb9f3a"
             ],
             [
              0.8888888888888888,
              "#fdca26"
             ],
             [
              1,
              "#f0f921"
             ]
            ],
            "type": "histogram2dcontour"
           }
          ],
          "mesh3d": [
           {
            "colorbar": {
             "outlinewidth": 0,
             "ticks": ""
            },
            "type": "mesh3d"
           }
          ],
          "parcoords": [
           {
            "line": {
             "colorbar": {
              "outlinewidth": 0,
              "ticks": ""
             }
            },
            "type": "parcoords"
           }
          ],
          "pie": [
           {
            "automargin": true,
            "type": "pie"
           }
          ],
          "scatter": [
           {
            "fillpattern": {
             "fillmode": "overlay",
             "size": 10,
             "solidity": 0.2
            },
            "type": "scatter"
           }
          ],
          "scatter3d": [
           {
            "line": {
             "colorbar": {
              "outlinewidth": 0,
              "ticks": ""
             }
            },
            "marker": {
             "colorbar": {
              "outlinewidth": 0,
              "ticks": ""
             }
            },
            "type": "scatter3d"
           }
          ],
          "scattercarpet": [
           {
            "marker": {
             "colorbar": {
              "outlinewidth": 0,
              "ticks": ""
             }
            },
            "type": "scattercarpet"
           }
          ],
          "scattergeo": [
           {
            "marker": {
             "colorbar": {
              "outlinewidth": 0,
              "ticks": ""
             }
            },
            "type": "scattergeo"
           }
          ],
          "scattergl": [
           {
            "marker": {
             "colorbar": {
              "outlinewidth": 0,
              "ticks": ""
             }
            },
            "type": "scattergl"
           }
          ],
          "scattermapbox": [
           {
            "marker": {
             "colorbar": {
              "outlinewidth": 0,
              "ticks": ""
             }
            },
            "type": "scattermapbox"
           }
          ],
          "scatterpolar": [
           {
            "marker": {
             "colorbar": {
              "outlinewidth": 0,
              "ticks": ""
             }
            },
            "type": "scatterpolar"
           }
          ],
          "scatterpolargl": [
           {
            "marker": {
             "colorbar": {
              "outlinewidth": 0,
              "ticks": ""
             }
            },
            "type": "scatterpolargl"
           }
          ],
          "scatterternary": [
           {
            "marker": {
             "colorbar": {
              "outlinewidth": 0,
              "ticks": ""
             }
            },
            "type": "scatterternary"
           }
          ],
          "surface": [
           {
            "colorbar": {
             "outlinewidth": 0,
             "ticks": ""
            },
            "colorscale": [
             [
              0,
              "#0d0887"
             ],
             [
              0.1111111111111111,
              "#46039f"
             ],
             [
              0.2222222222222222,
              "#7201a8"
             ],
             [
              0.3333333333333333,
              "#9c179e"
             ],
             [
              0.4444444444444444,
              "#bd3786"
             ],
             [
              0.5555555555555556,
              "#d8576b"
             ],
             [
              0.6666666666666666,
              "#ed7953"
             ],
             [
              0.7777777777777778,
              "#fb9f3a"
             ],
             [
              0.8888888888888888,
              "#fdca26"
             ],
             [
              1,
              "#f0f921"
             ]
            ],
            "type": "surface"
           }
          ],
          "table": [
           {
            "cells": {
             "fill": {
              "color": "#EBF0F8"
             },
             "line": {
              "color": "white"
             }
            },
            "header": {
             "fill": {
              "color": "#C8D4E3"
             },
             "line": {
              "color": "white"
             }
            },
            "type": "table"
           }
          ]
         },
         "layout": {
          "annotationdefaults": {
           "arrowcolor": "#2a3f5f",
           "arrowhead": 0,
           "arrowwidth": 1
          },
          "autotypenumbers": "strict",
          "coloraxis": {
           "colorbar": {
            "outlinewidth": 0,
            "ticks": ""
           }
          },
          "colorscale": {
           "diverging": [
            [
             0,
             "#8e0152"
            ],
            [
             0.1,
             "#c51b7d"
            ],
            [
             0.2,
             "#de77ae"
            ],
            [
             0.3,
             "#f1b6da"
            ],
            [
             0.4,
             "#fde0ef"
            ],
            [
             0.5,
             "#f7f7f7"
            ],
            [
             0.6,
             "#e6f5d0"
            ],
            [
             0.7,
             "#b8e186"
            ],
            [
             0.8,
             "#7fbc41"
            ],
            [
             0.9,
             "#4d9221"
            ],
            [
             1,
             "#276419"
            ]
           ],
           "sequential": [
            [
             0,
             "#0d0887"
            ],
            [
             0.1111111111111111,
             "#46039f"
            ],
            [
             0.2222222222222222,
             "#7201a8"
            ],
            [
             0.3333333333333333,
             "#9c179e"
            ],
            [
             0.4444444444444444,
             "#bd3786"
            ],
            [
             0.5555555555555556,
             "#d8576b"
            ],
            [
             0.6666666666666666,
             "#ed7953"
            ],
            [
             0.7777777777777778,
             "#fb9f3a"
            ],
            [
             0.8888888888888888,
             "#fdca26"
            ],
            [
             1,
             "#f0f921"
            ]
           ],
           "sequentialminus": [
            [
             0,
             "#0d0887"
            ],
            [
             0.1111111111111111,
             "#46039f"
            ],
            [
             0.2222222222222222,
             "#7201a8"
            ],
            [
             0.3333333333333333,
             "#9c179e"
            ],
            [
             0.4444444444444444,
             "#bd3786"
            ],
            [
             0.5555555555555556,
             "#d8576b"
            ],
            [
             0.6666666666666666,
             "#ed7953"
            ],
            [
             0.7777777777777778,
             "#fb9f3a"
            ],
            [
             0.8888888888888888,
             "#fdca26"
            ],
            [
             1,
             "#f0f921"
            ]
           ]
          },
          "colorway": [
           "#636efa",
           "#EF553B",
           "#00cc96",
           "#ab63fa",
           "#FFA15A",
           "#19d3f3",
           "#FF6692",
           "#B6E880",
           "#FF97FF",
           "#FECB52"
          ],
          "font": {
           "color": "#2a3f5f"
          },
          "geo": {
           "bgcolor": "white",
           "lakecolor": "white",
           "landcolor": "#E5ECF6",
           "showlakes": true,
           "showland": true,
           "subunitcolor": "white"
          },
          "hoverlabel": {
           "align": "left"
          },
          "hovermode": "closest",
          "mapbox": {
           "style": "light"
          },
          "paper_bgcolor": "white",
          "plot_bgcolor": "#E5ECF6",
          "polar": {
           "angularaxis": {
            "gridcolor": "white",
            "linecolor": "white",
            "ticks": ""
           },
           "bgcolor": "#E5ECF6",
           "radialaxis": {
            "gridcolor": "white",
            "linecolor": "white",
            "ticks": ""
           }
          },
          "scene": {
           "xaxis": {
            "backgroundcolor": "#E5ECF6",
            "gridcolor": "white",
            "gridwidth": 2,
            "linecolor": "white",
            "showbackground": true,
            "ticks": "",
            "zerolinecolor": "white"
           },
           "yaxis": {
            "backgroundcolor": "#E5ECF6",
            "gridcolor": "white",
            "gridwidth": 2,
            "linecolor": "white",
            "showbackground": true,
            "ticks": "",
            "zerolinecolor": "white"
           },
           "zaxis": {
            "backgroundcolor": "#E5ECF6",
            "gridcolor": "white",
            "gridwidth": 2,
            "linecolor": "white",
            "showbackground": true,
            "ticks": "",
            "zerolinecolor": "white"
           }
          },
          "shapedefaults": {
           "line": {
            "color": "#2a3f5f"
           }
          },
          "ternary": {
           "aaxis": {
            "gridcolor": "white",
            "linecolor": "white",
            "ticks": ""
           },
           "baxis": {
            "gridcolor": "white",
            "linecolor": "white",
            "ticks": ""
           },
           "bgcolor": "#E5ECF6",
           "caxis": {
            "gridcolor": "white",
            "linecolor": "white",
            "ticks": ""
           }
          },
          "title": {
           "x": 0.05
          },
          "xaxis": {
           "automargin": true,
           "gridcolor": "white",
           "linecolor": "white",
           "ticks": "",
           "title": {
            "standoff": 15
           },
           "zerolinecolor": "white",
           "zerolinewidth": 2
          },
          "yaxis": {
           "automargin": true,
           "gridcolor": "white",
           "linecolor": "white",
           "ticks": "",
           "title": {
            "standoff": 15
           },
           "zerolinecolor": "white",
           "zerolinewidth": 2
          }
         }
        },
        "title": {
         "text": "GANTT Chart"
        },
        "xaxis": {
         "range": [
          "1970-01-01T01:16:00",
          "1970-01-02T04:41:08"
         ],
         "title": {
          "font": {
           "color": "#7f7f7f",
           "family": "Courier New, monospace",
           "size": 18
          },
          "text": "Time"
         }
        },
        "yaxis": {
         "title": {
          "font": {
           "color": "#7f7f7f",
           "family": "Courier New, monospace",
           "size": 18
          },
          "text": "Activities"
         }
        }
       }
      },
      "text/html": [
       "<div>                            <div id=\"114db395-70bb-43c4-8064-7c4abc1a5f2f\" class=\"plotly-graph-div\" style=\"height:525px; width:100%;\"></div>            <script type=\"text/javascript\">                require([\"plotly\"], function(Plotly) {                    window.PLOTLYENV=window.PLOTLYENV || {};                                    if (document.getElementById(\"114db395-70bb-43c4-8064-7c4abc1a5f2f\")) {                    Plotly.newPlot(                        \"114db395-70bb-43c4-8064-7c4abc1a5f2f\",                        [{\"connectgaps\":false,\"hoverinfo\":\"y+name\",\"line\":{\"color\":\"rgb(251,115,63)\",\"width\":10},\"mode\":\"lines\",\"name\":\"loading:Carrier A\",\"x\":[\"1970-01-01T01:16:00\",\"1970-01-01T01:16:00\",\"1970-01-01T01:57:40\",\"1970-01-01T01:57:40\",\"1970-01-01T01:57:40\",\"1970-01-01T04:29:40\",\"1970-01-01T04:29:40\",\"1970-01-01T05:11:20\",\"1970-01-01T05:11:20\",\"1970-01-01T05:11:20\",\"1970-01-01T07:43:20\",\"1970-01-01T07:43:20\",\"1970-01-01T08:25:00\",\"1970-01-01T08:25:00\",\"1970-01-01T08:25:00\",\"1970-01-01T11:02:56\",\"1970-01-01T11:02:56\",\"1970-01-01T11:44:36\",\"1970-01-01T11:44:36\",\"1970-01-01T11:44:36\",\"1970-01-01T14:58:04\",\"1970-01-01T14:58:04\",\"1970-01-01T15:39:44\",\"1970-01-01T15:39:44\",\"1970-01-01T15:39:44\",\"1970-01-01T18:53:12\",\"1970-01-01T18:53:12\",\"1970-01-01T19:34:52\",\"1970-01-01T19:34:52\",\"1970-01-01T19:34:52\",\"1970-01-01T22:48:20\",\"1970-01-01T22:48:20\",\"1970-01-01T23:30:00\",\"1970-01-01T23:30:00\",\"1970-01-01T23:30:00\",\"1970-01-02T02:43:28\",\"1970-01-02T02:43:28\",\"1970-01-02T03:25:08\",\"1970-01-02T03:25:08\",\"1970-01-02T03:25:08\",\"1970-01-01T01:16:00\",\"1970-01-01T01:16:00\",\"1970-01-01T01:57:40\",\"1970-01-01T01:57:40\",\"1970-01-01T01:57:40\",\"1970-01-01T04:29:40\",\"1970-01-01T04:29:40\",\"1970-01-01T05:11:20\",\"1970-01-01T05:11:20\",\"1970-01-01T05:11:20\",\"1970-01-01T07:43:20\",\"1970-01-01T07:43:20\",\"1970-01-01T08:25:00\",\"1970-01-01T08:25:00\",\"1970-01-01T08:25:00\",\"1970-01-01T11:02:56\",\"1970-01-01T11:02:56\",\"1970-01-01T11:44:36\",\"1970-01-01T11:44:36\",\"1970-01-01T11:44:36\",\"1970-01-01T14:58:04\",\"1970-01-01T14:58:04\",\"1970-01-01T15:39:44\",\"1970-01-01T15:39:44\",\"1970-01-01T15:39:44\",\"1970-01-01T18:53:12\",\"1970-01-01T18:53:12\",\"1970-01-01T19:34:52\",\"1970-01-01T19:34:52\",\"1970-01-01T19:34:52\",\"1970-01-01T22:48:20\",\"1970-01-01T22:48:20\",\"1970-01-01T23:30:00\",\"1970-01-01T23:30:00\",\"1970-01-01T23:30:00\",\"1970-01-02T02:43:28\",\"1970-01-02T02:43:28\",\"1970-01-02T03:25:08\",\"1970-01-02T03:25:08\",\"1970-01-02T03:25:08\"],\"y\":[\"Trench\",\"Trench\",\"Trench\",\"Trench\",null,\"Trench\",\"Trench\",\"Trench\",\"Trench\",null,\"Trench\",\"Trench\",\"Trench\",\"Trench\",null,\"Trench\",\"Trench\",\"Trench\",\"Trench\",null,\"Trench\",\"Trench\",\"Trench\",\"Trench\",null,\"Trench\",\"Trench\",\"Trench\",\"Trench\",null,\"Trench\",\"Trench\",\"Trench\",\"Trench\",null,\"Trench\",\"Trench\",\"Trench\",\"Trench\",null,\"Cutter T\",\"Cutter T\",\"Cutter T\",\"Cutter T\",null,\"Cutter T\",\"Cutter T\",\"Cutter T\",\"Cutter T\",null,\"Cutter T\",\"Cutter T\",\"Cutter T\",\"Cutter T\",null,\"Cutter T\",\"Cutter T\",\"Cutter T\",\"Cutter T\",null,\"Cutter T\",\"Cutter T\",\"Cutter T\",\"Cutter T\",null,\"Cutter T\",\"Cutter T\",\"Cutter T\",\"Cutter T\",null,\"Cutter T\",\"Cutter T\",\"Cutter T\",\"Cutter T\",null,\"Cutter T\",\"Cutter T\",\"Cutter T\",\"Cutter T\",null],\"type\":\"scatter\"},{\"connectgaps\":false,\"hoverinfo\":\"y+name\",\"line\":{\"color\":\"rgb(23,143,91)\",\"width\":10},\"mode\":\"lines\",\"name\":\"loading:Carrier B\",\"x\":[\"1970-01-01T02:31:00\",\"1970-01-01T02:31:00\",\"1970-01-01T03:12:40\",\"1970-01-01T03:12:40\",\"1970-01-01T03:12:40\",\"1970-01-01T06:26:08\",\"1970-01-01T06:26:08\",\"1970-01-01T07:07:48\",\"1970-01-01T07:07:48\",\"1970-01-01T07:07:48\",\"1970-01-01T10:21:16\",\"1970-01-01T10:21:16\",\"1970-01-01T11:02:56\",\"1970-01-01T11:02:56\",\"1970-01-01T11:02:56\",\"1970-01-01T14:16:24\",\"1970-01-01T14:16:24\",\"1970-01-01T14:58:04\",\"1970-01-01T14:58:04\",\"1970-01-01T14:58:04\",\"1970-01-01T18:11:32\",\"1970-01-01T18:11:32\",\"1970-01-01T18:53:12\",\"1970-01-01T18:53:12\",\"1970-01-01T18:53:12\",\"1970-01-01T22:06:40\",\"1970-01-01T22:06:40\",\"1970-01-01T22:48:20\",\"1970-01-01T22:48:20\",\"1970-01-01T22:48:20\",\"1970-01-02T02:01:48\",\"1970-01-02T02:01:48\",\"1970-01-02T02:43:28\",\"1970-01-02T02:43:28\",\"1970-01-02T02:43:28\",\"1970-01-01T02:31:00\",\"1970-01-01T02:31:00\",\"1970-01-01T03:12:40\",\"1970-01-01T03:12:40\",\"1970-01-01T03:12:40\",\"1970-01-01T06:26:08\",\"1970-01-01T06:26:08\",\"1970-01-01T07:07:48\",\"1970-01-01T07:07:48\",\"1970-01-01T07:07:48\",\"1970-01-01T10:21:16\",\"1970-01-01T10:21:16\",\"1970-01-01T11:02:56\",\"1970-01-01T11:02:56\",\"1970-01-01T11:02:56\",\"1970-01-01T14:16:24\",\"1970-01-01T14:16:24\",\"1970-01-01T14:58:04\",\"1970-01-01T14:58:04\",\"1970-01-01T14:58:04\",\"1970-01-01T18:11:32\",\"1970-01-01T18:11:32\",\"1970-01-01T18:53:12\",\"1970-01-01T18:53:12\",\"1970-01-01T18:53:12\",\"1970-01-01T22:06:40\",\"1970-01-01T22:06:40\",\"1970-01-01T22:48:20\",\"1970-01-01T22:48:20\",\"1970-01-01T22:48:20\",\"1970-01-02T02:01:48\",\"1970-01-02T02:01:48\",\"1970-01-02T02:43:28\",\"1970-01-02T02:43:28\",\"1970-01-02T02:43:28\"],\"y\":[\"Trench\",\"Trench\",\"Trench\",\"Trench\",null,\"Trench\",\"Trench\",\"Trench\",\"Trench\",null,\"Trench\",\"Trench\",\"Trench\",\"Trench\",null,\"Trench\",\"Trench\",\"Trench\",\"Trench\",null,\"Trench\",\"Trench\",\"Trench\",\"Trench\",null,\"Trench\",\"Trench\",\"Trench\",\"Trench\",null,\"Trench\",\"Trench\",\"Trench\",\"Trench\",null,\"Cutter T\",\"Cutter T\",\"Cutter T\",\"Cutter T\",null,\"Cutter T\",\"Cutter T\",\"Cutter T\",\"Cutter T\",null,\"Cutter T\",\"Cutter T\",\"Cutter T\",\"Cutter T\",null,\"Cutter T\",\"Cutter T\",\"Cutter T\",\"Cutter T\",null,\"Cutter T\",\"Cutter T\",\"Cutter T\",\"Cutter T\",null,\"Cutter T\",\"Cutter T\",\"Cutter T\",\"Cutter T\",null,\"Cutter T\",\"Cutter T\",\"Cutter T\",\"Cutter T\",null],\"type\":\"scatter\"},{\"connectgaps\":false,\"hoverinfo\":\"y+name\",\"line\":{\"color\":\"rgb(51,171,119)\",\"width\":10},\"mode\":\"lines\",\"name\":\"loading:Carrier C\",\"x\":[\"1970-01-01T01:57:40\",\"1970-01-01T01:57:40\",\"1970-01-01T02:31:00\",\"1970-01-01T02:31:00\",\"1970-01-01T02:31:00\",\"1970-01-01T05:43:04\",\"1970-01-01T05:43:04\",\"1970-01-01T06:16:24\",\"1970-01-01T06:16:24\",\"1970-01-01T06:16:24\",\"1970-01-01T09:28:28\",\"1970-01-01T09:28:28\",\"1970-01-01T10:01:48\",\"1970-01-01T10:01:48\",\"1970-01-01T10:01:48\",\"1970-01-01T13:13:52\",\"1970-01-01T13:13:52\",\"1970-01-01T13:47:12\",\"1970-01-01T13:47:12\",\"1970-01-01T13:47:12\",\"1970-01-01T16:59:16\",\"1970-01-01T16:59:16\",\"1970-01-01T17:32:36\",\"1970-01-01T17:32:36\",\"1970-01-01T17:32:36\",\"1970-01-01T20:44:40\",\"1970-01-01T20:44:40\",\"1970-01-01T21:18:00\",\"1970-01-01T21:18:00\",\"1970-01-01T21:18:00\",\"1970-01-02T00:30:04\",\"1970-01-02T00:30:04\",\"1970-01-02T01:03:24\",\"1970-01-02T01:03:24\",\"1970-01-02T01:03:24\",\"1970-01-01T01:57:40\",\"1970-01-01T01:57:40\",\"1970-01-01T02:31:00\",\"1970-01-01T02:31:00\",\"1970-01-01T02:31:00\",\"1970-01-01T05:43:04\",\"1970-01-01T05:43:04\",\"1970-01-01T06:16:24\",\"1970-01-01T06:16:24\",\"1970-01-01T06:16:24\",\"1970-01-01T09:28:28\",\"1970-01-01T09:28:28\",\"1970-01-01T10:01:48\",\"1970-01-01T10:01:48\",\"1970-01-01T10:01:48\",\"1970-01-01T13:13:52\",\"1970-01-01T13:13:52\",\"1970-01-01T13:47:12\",\"1970-01-01T13:47:12\",\"1970-01-01T13:47:12\",\"1970-01-01T16:59:16\",\"1970-01-01T16:59:16\",\"1970-01-01T17:32:36\",\"1970-01-01T17:32:36\",\"1970-01-01T17:32:36\",\"1970-01-01T20:44:40\",\"1970-01-01T20:44:40\",\"1970-01-01T21:18:00\",\"1970-01-01T21:18:00\",\"1970-01-01T21:18:00\",\"1970-01-02T00:30:04\",\"1970-01-02T00:30:04\",\"1970-01-02T01:03:24\",\"1970-01-02T01:03:24\",\"1970-01-02T01:03:24\"],\"y\":[\"Trench\",\"Trench\",\"Trench\",\"Trench\",null,\"Trench\",\"Trench\",\"Trench\",\"Trench\",null,\"Trench\",\"Trench\",\"Trench\",\"Trench\",null,\"Trench\",\"Trench\",\"Trench\",\"Trench\",null,\"Trench\",\"Trench\",\"Trench\",\"Trench\",null,\"Trench\",\"Trench\",\"Trench\",\"Trench\",null,\"Trench\",\"Trench\",\"Trench\",\"Trench\",null,\"Cutter T\",\"Cutter T\",\"Cutter T\",\"Cutter T\",null,\"Cutter T\",\"Cutter T\",\"Cutter T\",\"Cutter T\",null,\"Cutter T\",\"Cutter T\",\"Cutter T\",\"Cutter T\",null,\"Cutter T\",\"Cutter T\",\"Cutter T\",\"Cutter T\",null,\"Cutter T\",\"Cutter T\",\"Cutter T\",\"Cutter T\",null,\"Cutter T\",\"Cutter T\",\"Cutter T\",\"Cutter T\",null,\"Cutter T\",\"Cutter T\",\"Cutter T\",\"Cutter T\",null],\"type\":\"scatter\"},{\"connectgaps\":false,\"hoverinfo\":\"y+name\",\"line\":{\"color\":\"rgb(79,199,147)\",\"width\":10},\"mode\":\"lines\",\"name\":\"unloading:Carrier A\",\"x\":[\"1970-01-01T02:35:40\",\"1970-01-01T02:35:40\",\"1970-01-01T03:13:40\",\"1970-01-01T03:13:40\",\"1970-01-01T03:13:40\",\"1970-01-01T05:49:20\",\"1970-01-01T05:49:20\",\"1970-01-01T06:27:20\",\"1970-01-01T06:27:20\",\"1970-01-01T06:27:20\",\"1970-01-01T09:03:00\",\"1970-01-01T09:03:00\",\"1970-01-01T09:41:00\",\"1970-01-01T09:41:00\",\"1970-01-01T09:41:00\",\"1970-01-01T12:22:36\",\"1970-01-01T12:22:36\",\"1970-01-01T13:00:36\",\"1970-01-01T13:00:36\",\"1970-01-01T13:00:36\",\"1970-01-01T16:17:44\",\"1970-01-01T16:17:44\",\"1970-01-01T16:55:44\",\"1970-01-01T16:55:44\",\"1970-01-01T16:55:44\",\"1970-01-01T20:12:52\",\"1970-01-01T20:12:52\",\"1970-01-01T20:50:52\",\"1970-01-01T20:50:52\",\"1970-01-01T20:50:52\",\"1970-01-02T00:08:00\",\"1970-01-02T00:08:00\",\"1970-01-02T00:46:00\",\"1970-01-02T00:46:00\",\"1970-01-02T00:46:00\",\"1970-01-02T04:03:08\",\"1970-01-02T04:03:08\",\"1970-01-02T04:41:08\",\"1970-01-02T04:41:08\",\"1970-01-02T04:41:08\"],\"y\":[\"Reclamation\",\"Reclamation\",\"Reclamation\",\"Reclamation\",null,\"Reclamation\",\"Reclamation\",\"Reclamation\",\"Reclamation\",null,\"Reclamation\",\"Reclamation\",\"Reclamation\",\"Reclamation\",null,\"Reclamation\",\"Reclamation\",\"Reclamation\",\"Reclamation\",null,\"Reclamation\",\"Reclamation\",\"Reclamation\",\"Reclamation\",null,\"Reclamation\",\"Reclamation\",\"Reclamation\",\"Reclamation\",null,\"Reclamation\",\"Reclamation\",\"Reclamation\",\"Reclamation\",null,\"Reclamation\",\"Reclamation\",\"Reclamation\",\"Reclamation\",null],\"type\":\"scatter\"},{\"connectgaps\":false,\"hoverinfo\":\"y+name\",\"line\":{\"color\":\"rgb(107,227,175)\",\"width\":10},\"mode\":\"lines\",\"name\":\"unloading:Carrier C\",\"x\":[\"1970-01-01T03:19:01\",\"1970-01-01T03:19:01\",\"1970-01-01T04:07:02\",\"1970-01-01T04:07:02\",\"1970-01-01T04:07:02\",\"1970-01-01T07:04:25\",\"1970-01-01T07:04:25\",\"1970-01-01T07:52:26\",\"1970-01-01T07:52:26\",\"1970-01-01T07:52:26\",\"1970-01-01T10:49:49\",\"1970-01-01T10:49:49\",\"1970-01-01T11:37:50\",\"1970-01-01T11:37:50\",\"1970-01-01T11:37:50\",\"1970-01-01T14:35:13\",\"1970-01-01T14:35:13\",\"1970-01-01T15:23:14\",\"1970-01-01T15:23:14\",\"1970-01-01T15:23:14\",\"1970-01-01T18:20:37\",\"1970-01-01T18:20:37\",\"1970-01-01T19:08:38\",\"1970-01-01T19:08:38\",\"1970-01-01T19:08:38\",\"1970-01-01T22:06:01\",\"1970-01-01T22:06:01\",\"1970-01-01T22:54:02\",\"1970-01-01T22:54:02\",\"1970-01-01T22:54:02\",\"1970-01-02T01:51:25\",\"1970-01-02T01:51:25\",\"1970-01-02T02:39:26\",\"1970-01-02T02:39:26\",\"1970-01-02T02:39:26\"],\"y\":[\"Reclamation\",\"Reclamation\",\"Reclamation\",\"Reclamation\",null,\"Reclamation\",\"Reclamation\",\"Reclamation\",\"Reclamation\",null,\"Reclamation\",\"Reclamation\",\"Reclamation\",\"Reclamation\",null,\"Reclamation\",\"Reclamation\",\"Reclamation\",\"Reclamation\",null,\"Reclamation\",\"Reclamation\",\"Reclamation\",\"Reclamation\",null,\"Reclamation\",\"Reclamation\",\"Reclamation\",\"Reclamation\",null,\"Reclamation\",\"Reclamation\",\"Reclamation\",\"Reclamation\",null],\"type\":\"scatter\"},{\"connectgaps\":false,\"hoverinfo\":\"y+name\",\"line\":{\"color\":\"rgb(135,255,203)\",\"width\":10},\"mode\":\"lines\",\"name\":\"unloading:Carrier B\",\"x\":[\"1970-01-01T04:01:02\",\"1970-01-01T04:01:02\",\"1970-01-01T04:49:24\",\"1970-01-01T04:49:24\",\"1970-01-01T04:49:24\",\"1970-01-01T07:56:10\",\"1970-01-01T07:56:10\",\"1970-01-01T08:44:32\",\"1970-01-01T08:44:32\",\"1970-01-01T08:44:32\",\"1970-01-01T11:51:18\",\"1970-01-01T11:51:18\",\"1970-01-01T12:39:40\",\"1970-01-01T12:39:40\",\"1970-01-01T12:39:40\",\"1970-01-01T15:46:26\",\"1970-01-01T15:46:26\",\"1970-01-01T16:34:48\",\"1970-01-01T16:34:48\",\"1970-01-01T16:34:48\",\"1970-01-01T19:41:34\",\"1970-01-01T19:41:34\",\"1970-01-01T20:29:56\",\"1970-01-01T20:29:56\",\"1970-01-01T20:29:56\",\"1970-01-01T23:36:42\",\"1970-01-01T23:36:42\",\"1970-01-02T00:25:04\",\"1970-01-02T00:25:04\",\"1970-01-02T00:25:04\",\"1970-01-02T03:31:50\",\"1970-01-02T03:31:50\",\"1970-01-02T04:20:12\",\"1970-01-02T04:20:12\",\"1970-01-02T04:20:12\"],\"y\":[\"Reclamation\",\"Reclamation\",\"Reclamation\",\"Reclamation\",null,\"Reclamation\",\"Reclamation\",\"Reclamation\",\"Reclamation\",null,\"Reclamation\",\"Reclamation\",\"Reclamation\",\"Reclamation\",null,\"Reclamation\",\"Reclamation\",\"Reclamation\",\"Reclamation\",null,\"Reclamation\",\"Reclamation\",\"Reclamation\",\"Reclamation\",null,\"Reclamation\",\"Reclamation\",\"Reclamation\",\"Reclamation\",null,\"Reclamation\",\"Reclamation\",\"Reclamation\",\"Reclamation\",null],\"type\":\"scatter\"},{\"connectgaps\":false,\"hoverinfo\":\"y+name\",\"line\":{\"color\":\"rgb(163,27,231)\",\"width\":10},\"mode\":\"lines\",\"name\":\"loading:Carrier A\",\"x\":[\"1970-01-01T01:16:00\",\"1970-01-01T01:16:00\",\"1970-01-01T01:57:40\",\"1970-01-01T01:57:40\",\"1970-01-01T01:57:40\",\"1970-01-01T04:29:40\",\"1970-01-01T04:29:40\",\"1970-01-01T05:11:20\",\"1970-01-01T05:11:20\",\"1970-01-01T05:11:20\",\"1970-01-01T07:43:20\",\"1970-01-01T07:43:20\",\"1970-01-01T08:25:00\",\"1970-01-01T08:25:00\",\"1970-01-01T08:25:00\",\"1970-01-01T11:02:56\",\"1970-01-01T11:02:56\",\"1970-01-01T11:44:36\",\"1970-01-01T11:44:36\",\"1970-01-01T11:44:36\",\"1970-01-01T14:58:04\",\"1970-01-01T14:58:04\",\"1970-01-01T15:39:44\",\"1970-01-01T15:39:44\",\"1970-01-01T15:39:44\",\"1970-01-01T18:53:12\",\"1970-01-01T18:53:12\",\"1970-01-01T19:34:52\",\"1970-01-01T19:34:52\",\"1970-01-01T19:34:52\",\"1970-01-01T22:48:20\",\"1970-01-01T22:48:20\",\"1970-01-01T23:30:00\",\"1970-01-01T23:30:00\",\"1970-01-01T23:30:00\",\"1970-01-02T02:43:28\",\"1970-01-02T02:43:28\",\"1970-01-02T03:25:08\",\"1970-01-02T03:25:08\",\"1970-01-02T03:25:08\",\"1970-01-01T01:16:00\",\"1970-01-01T01:16:00\",\"1970-01-01T01:57:40\",\"1970-01-01T01:57:40\",\"1970-01-01T01:57:40\",\"1970-01-01T04:29:40\",\"1970-01-01T04:29:40\",\"1970-01-01T05:11:20\",\"1970-01-01T05:11:20\",\"1970-01-01T05:11:20\",\"1970-01-01T07:43:20\",\"1970-01-01T07:43:20\",\"1970-01-01T08:25:00\",\"1970-01-01T08:25:00\",\"1970-01-01T08:25:00\",\"1970-01-01T11:02:56\",\"1970-01-01T11:02:56\",\"1970-01-01T11:44:36\",\"1970-01-01T11:44:36\",\"1970-01-01T11:44:36\",\"1970-01-01T14:58:04\",\"1970-01-01T14:58:04\",\"1970-01-01T15:39:44\",\"1970-01-01T15:39:44\",\"1970-01-01T15:39:44\",\"1970-01-01T18:53:12\",\"1970-01-01T18:53:12\",\"1970-01-01T19:34:52\",\"1970-01-01T19:34:52\",\"1970-01-01T19:34:52\",\"1970-01-01T22:48:20\",\"1970-01-01T22:48:20\",\"1970-01-01T23:30:00\",\"1970-01-01T23:30:00\",\"1970-01-01T23:30:00\",\"1970-01-02T02:43:28\",\"1970-01-02T02:43:28\",\"1970-01-02T03:25:08\",\"1970-01-02T03:25:08\",\"1970-01-02T03:25:08\"],\"y\":[\"Trench\",\"Trench\",\"Trench\",\"Trench\",null,\"Trench\",\"Trench\",\"Trench\",\"Trench\",null,\"Trench\",\"Trench\",\"Trench\",\"Trench\",null,\"Trench\",\"Trench\",\"Trench\",\"Trench\",null,\"Trench\",\"Trench\",\"Trench\",\"Trench\",null,\"Trench\",\"Trench\",\"Trench\",\"Trench\",null,\"Trench\",\"Trench\",\"Trench\",\"Trench\",null,\"Trench\",\"Trench\",\"Trench\",\"Trench\",null,\"Cutter T\",\"Cutter T\",\"Cutter T\",\"Cutter T\",null,\"Cutter T\",\"Cutter T\",\"Cutter T\",\"Cutter T\",null,\"Cutter T\",\"Cutter T\",\"Cutter T\",\"Cutter T\",null,\"Cutter T\",\"Cutter T\",\"Cutter T\",\"Cutter T\",null,\"Cutter T\",\"Cutter T\",\"Cutter T\",\"Cutter T\",null,\"Cutter T\",\"Cutter T\",\"Cutter T\",\"Cutter T\",null,\"Cutter T\",\"Cutter T\",\"Cutter T\",\"Cutter T\",null,\"Cutter T\",\"Cutter T\",\"Cutter T\",\"Cutter T\",null],\"type\":\"scatter\"},{\"connectgaps\":false,\"hoverinfo\":\"y+name\",\"line\":{\"color\":\"rgb(191,55,3)\",\"width\":10},\"mode\":\"lines\",\"name\":\"loading:Carrier B\",\"x\":[\"1970-01-01T02:31:00\",\"1970-01-01T02:31:00\",\"1970-01-01T03:12:40\",\"1970-01-01T03:12:40\",\"1970-01-01T03:12:40\",\"1970-01-01T06:26:08\",\"1970-01-01T06:26:08\",\"1970-01-01T07:07:48\",\"1970-01-01T07:07:48\",\"1970-01-01T07:07:48\",\"1970-01-01T10:21:16\",\"1970-01-01T10:21:16\",\"1970-01-01T11:02:56\",\"1970-01-01T11:02:56\",\"1970-01-01T11:02:56\",\"1970-01-01T14:16:24\",\"1970-01-01T14:16:24\",\"1970-01-01T14:58:04\",\"1970-01-01T14:58:04\",\"1970-01-01T14:58:04\",\"1970-01-01T18:11:32\",\"1970-01-01T18:11:32\",\"1970-01-01T18:53:12\",\"1970-01-01T18:53:12\",\"1970-01-01T18:53:12\",\"1970-01-01T22:06:40\",\"1970-01-01T22:06:40\",\"1970-01-01T22:48:20\",\"1970-01-01T22:48:20\",\"1970-01-01T22:48:20\",\"1970-01-02T02:01:48\",\"1970-01-02T02:01:48\",\"1970-01-02T02:43:28\",\"1970-01-02T02:43:28\",\"1970-01-02T02:43:28\",\"1970-01-01T02:31:00\",\"1970-01-01T02:31:00\",\"1970-01-01T03:12:40\",\"1970-01-01T03:12:40\",\"1970-01-01T03:12:40\",\"1970-01-01T06:26:08\",\"1970-01-01T06:26:08\",\"1970-01-01T07:07:48\",\"1970-01-01T07:07:48\",\"1970-01-01T07:07:48\",\"1970-01-01T10:21:16\",\"1970-01-01T10:21:16\",\"1970-01-01T11:02:56\",\"1970-01-01T11:02:56\",\"1970-01-01T11:02:56\",\"1970-01-01T14:16:24\",\"1970-01-01T14:16:24\",\"1970-01-01T14:58:04\",\"1970-01-01T14:58:04\",\"1970-01-01T14:58:04\",\"1970-01-01T18:11:32\",\"1970-01-01T18:11:32\",\"1970-01-01T18:53:12\",\"1970-01-01T18:53:12\",\"1970-01-01T18:53:12\",\"1970-01-01T22:06:40\",\"1970-01-01T22:06:40\",\"1970-01-01T22:48:20\",\"1970-01-01T22:48:20\",\"1970-01-01T22:48:20\",\"1970-01-02T02:01:48\",\"1970-01-02T02:01:48\",\"1970-01-02T02:43:28\",\"1970-01-02T02:43:28\",\"1970-01-02T02:43:28\"],\"y\":[\"Trench\",\"Trench\",\"Trench\",\"Trench\",null,\"Trench\",\"Trench\",\"Trench\",\"Trench\",null,\"Trench\",\"Trench\",\"Trench\",\"Trench\",null,\"Trench\",\"Trench\",\"Trench\",\"Trench\",null,\"Trench\",\"Trench\",\"Trench\",\"Trench\",null,\"Trench\",\"Trench\",\"Trench\",\"Trench\",null,\"Trench\",\"Trench\",\"Trench\",\"Trench\",null,\"Cutter T\",\"Cutter T\",\"Cutter T\",\"Cutter T\",null,\"Cutter T\",\"Cutter T\",\"Cutter T\",\"Cutter T\",null,\"Cutter T\",\"Cutter T\",\"Cutter T\",\"Cutter T\",null,\"Cutter T\",\"Cutter T\",\"Cutter T\",\"Cutter T\",null,\"Cutter T\",\"Cutter T\",\"Cutter T\",\"Cutter T\",null,\"Cutter T\",\"Cutter T\",\"Cutter T\",\"Cutter T\",null,\"Cutter T\",\"Cutter T\",\"Cutter T\",\"Cutter T\",null],\"type\":\"scatter\"},{\"connectgaps\":false,\"hoverinfo\":\"y+name\",\"line\":{\"color\":\"rgb(219,83,31)\",\"width\":10},\"mode\":\"lines\",\"name\":\"loading:Carrier C\",\"x\":[\"1970-01-01T01:57:40\",\"1970-01-01T01:57:40\",\"1970-01-01T02:31:00\",\"1970-01-01T02:31:00\",\"1970-01-01T02:31:00\",\"1970-01-01T05:43:04\",\"1970-01-01T05:43:04\",\"1970-01-01T06:16:24\",\"1970-01-01T06:16:24\",\"1970-01-01T06:16:24\",\"1970-01-01T09:28:28\",\"1970-01-01T09:28:28\",\"1970-01-01T10:01:48\",\"1970-01-01T10:01:48\",\"1970-01-01T10:01:48\",\"1970-01-01T13:13:52\",\"1970-01-01T13:13:52\",\"1970-01-01T13:47:12\",\"1970-01-01T13:47:12\",\"1970-01-01T13:47:12\",\"1970-01-01T16:59:16\",\"1970-01-01T16:59:16\",\"1970-01-01T17:32:36\",\"1970-01-01T17:32:36\",\"1970-01-01T17:32:36\",\"1970-01-01T20:44:40\",\"1970-01-01T20:44:40\",\"1970-01-01T21:18:00\",\"1970-01-01T21:18:00\",\"1970-01-01T21:18:00\",\"1970-01-02T00:30:04\",\"1970-01-02T00:30:04\",\"1970-01-02T01:03:24\",\"1970-01-02T01:03:24\",\"1970-01-02T01:03:24\",\"1970-01-01T01:57:40\",\"1970-01-01T01:57:40\",\"1970-01-01T02:31:00\",\"1970-01-01T02:31:00\",\"1970-01-01T02:31:00\",\"1970-01-01T05:43:04\",\"1970-01-01T05:43:04\",\"1970-01-01T06:16:24\",\"1970-01-01T06:16:24\",\"1970-01-01T06:16:24\",\"1970-01-01T09:28:28\",\"1970-01-01T09:28:28\",\"1970-01-01T10:01:48\",\"1970-01-01T10:01:48\",\"1970-01-01T10:01:48\",\"1970-01-01T13:13:52\",\"1970-01-01T13:13:52\",\"1970-01-01T13:47:12\",\"1970-01-01T13:47:12\",\"1970-01-01T13:47:12\",\"1970-01-01T16:59:16\",\"1970-01-01T16:59:16\",\"1970-01-01T17:32:36\",\"1970-01-01T17:32:36\",\"1970-01-01T17:32:36\",\"1970-01-01T20:44:40\",\"1970-01-01T20:44:40\",\"1970-01-01T21:18:00\",\"1970-01-01T21:18:00\",\"1970-01-01T21:18:00\",\"1970-01-02T00:30:04\",\"1970-01-02T00:30:04\",\"1970-01-02T01:03:24\",\"1970-01-02T01:03:24\",\"1970-01-02T01:03:24\"],\"y\":[\"Trench\",\"Trench\",\"Trench\",\"Trench\",null,\"Trench\",\"Trench\",\"Trench\",\"Trench\",null,\"Trench\",\"Trench\",\"Trench\",\"Trench\",null,\"Trench\",\"Trench\",\"Trench\",\"Trench\",null,\"Trench\",\"Trench\",\"Trench\",\"Trench\",null,\"Trench\",\"Trench\",\"Trench\",\"Trench\",null,\"Trench\",\"Trench\",\"Trench\",\"Trench\",null,\"Cutter T\",\"Cutter T\",\"Cutter T\",\"Cutter T\",null,\"Cutter T\",\"Cutter T\",\"Cutter T\",\"Cutter T\",null,\"Cutter T\",\"Cutter T\",\"Cutter T\",\"Cutter T\",null,\"Cutter T\",\"Cutter T\",\"Cutter T\",\"Cutter T\",null,\"Cutter T\",\"Cutter T\",\"Cutter T\",\"Cutter T\",null,\"Cutter T\",\"Cutter T\",\"Cutter T\",\"Cutter T\",null,\"Cutter T\",\"Cutter T\",\"Cutter T\",\"Cutter T\",null],\"type\":\"scatter\"}],                        {\"hovermode\":\"closest\",\"legend\":{\"orientation\":\"h\",\"x\":0,\"y\":-0.2},\"template\":{\"data\":{\"barpolar\":[{\"marker\":{\"line\":{\"color\":\"#E5ECF6\",\"width\":0.5},\"pattern\":{\"fillmode\":\"overlay\",\"size\":10,\"solidity\":0.2}},\"type\":\"barpolar\"}],\"bar\":[{\"error_x\":{\"color\":\"#2a3f5f\"},\"error_y\":{\"color\":\"#2a3f5f\"},\"marker\":{\"line\":{\"color\":\"#E5ECF6\",\"width\":0.5},\"pattern\":{\"fillmode\":\"overlay\",\"size\":10,\"solidity\":0.2}},\"type\":\"bar\"}],\"carpet\":[{\"aaxis\":{\"endlinecolor\":\"#2a3f5f\",\"gridcolor\":\"white\",\"linecolor\":\"white\",\"minorgridcolor\":\"white\",\"startlinecolor\":\"#2a3f5f\"},\"baxis\":{\"endlinecolor\":\"#2a3f5f\",\"gridcolor\":\"white\",\"linecolor\":\"white\",\"minorgridcolor\":\"white\",\"startlinecolor\":\"#2a3f5f\"},\"type\":\"carpet\"}],\"choropleth\":[{\"colorbar\":{\"outlinewidth\":0,\"ticks\":\"\"},\"type\":\"choropleth\"}],\"contourcarpet\":[{\"colorbar\":{\"outlinewidth\":0,\"ticks\":\"\"},\"type\":\"contourcarpet\"}],\"contour\":[{\"colorbar\":{\"outlinewidth\":0,\"ticks\":\"\"},\"colorscale\":[[0.0,\"#0d0887\"],[0.1111111111111111,\"#46039f\"],[0.2222222222222222,\"#7201a8\"],[0.3333333333333333,\"#9c179e\"],[0.4444444444444444,\"#bd3786\"],[0.5555555555555556,\"#d8576b\"],[0.6666666666666666,\"#ed7953\"],[0.7777777777777778,\"#fb9f3a\"],[0.8888888888888888,\"#fdca26\"],[1.0,\"#f0f921\"]],\"type\":\"contour\"}],\"heatmapgl\":[{\"colorbar\":{\"outlinewidth\":0,\"ticks\":\"\"},\"colorscale\":[[0.0,\"#0d0887\"],[0.1111111111111111,\"#46039f\"],[0.2222222222222222,\"#7201a8\"],[0.3333333333333333,\"#9c179e\"],[0.4444444444444444,\"#bd3786\"],[0.5555555555555556,\"#d8576b\"],[0.6666666666666666,\"#ed7953\"],[0.7777777777777778,\"#fb9f3a\"],[0.8888888888888888,\"#fdca26\"],[1.0,\"#f0f921\"]],\"type\":\"heatmapgl\"}],\"heatmap\":[{\"colorbar\":{\"outlinewidth\":0,\"ticks\":\"\"},\"colorscale\":[[0.0,\"#0d0887\"],[0.1111111111111111,\"#46039f\"],[0.2222222222222222,\"#7201a8\"],[0.3333333333333333,\"#9c179e\"],[0.4444444444444444,\"#bd3786\"],[0.5555555555555556,\"#d8576b\"],[0.6666666666666666,\"#ed7953\"],[0.7777777777777778,\"#fb9f3a\"],[0.8888888888888888,\"#fdca26\"],[1.0,\"#f0f921\"]],\"type\":\"heatmap\"}],\"histogram2dcontour\":[{\"colorbar\":{\"outlinewidth\":0,\"ticks\":\"\"},\"colorscale\":[[0.0,\"#0d0887\"],[0.1111111111111111,\"#46039f\"],[0.2222222222222222,\"#7201a8\"],[0.3333333333333333,\"#9c179e\"],[0.4444444444444444,\"#bd3786\"],[0.5555555555555556,\"#d8576b\"],[0.6666666666666666,\"#ed7953\"],[0.7777777777777778,\"#fb9f3a\"],[0.8888888888888888,\"#fdca26\"],[1.0,\"#f0f921\"]],\"type\":\"histogram2dcontour\"}],\"histogram2d\":[{\"colorbar\":{\"outlinewidth\":0,\"ticks\":\"\"},\"colorscale\":[[0.0,\"#0d0887\"],[0.1111111111111111,\"#46039f\"],[0.2222222222222222,\"#7201a8\"],[0.3333333333333333,\"#9c179e\"],[0.4444444444444444,\"#bd3786\"],[0.5555555555555556,\"#d8576b\"],[0.6666666666666666,\"#ed7953\"],[0.7777777777777778,\"#fb9f3a\"],[0.8888888888888888,\"#fdca26\"],[1.0,\"#f0f921\"]],\"type\":\"histogram2d\"}],\"histogram\":[{\"marker\":{\"pattern\":{\"fillmode\":\"overlay\",\"size\":10,\"solidity\":0.2}},\"type\":\"histogram\"}],\"mesh3d\":[{\"colorbar\":{\"outlinewidth\":0,\"ticks\":\"\"},\"type\":\"mesh3d\"}],\"parcoords\":[{\"line\":{\"colorbar\":{\"outlinewidth\":0,\"ticks\":\"\"}},\"type\":\"parcoords\"}],\"pie\":[{\"automargin\":true,\"type\":\"pie\"}],\"scatter3d\":[{\"line\":{\"colorbar\":{\"outlinewidth\":0,\"ticks\":\"\"}},\"marker\":{\"colorbar\":{\"outlinewidth\":0,\"ticks\":\"\"}},\"type\":\"scatter3d\"}],\"scattercarpet\":[{\"marker\":{\"colorbar\":{\"outlinewidth\":0,\"ticks\":\"\"}},\"type\":\"scattercarpet\"}],\"scattergeo\":[{\"marker\":{\"colorbar\":{\"outlinewidth\":0,\"ticks\":\"\"}},\"type\":\"scattergeo\"}],\"scattergl\":[{\"marker\":{\"colorbar\":{\"outlinewidth\":0,\"ticks\":\"\"}},\"type\":\"scattergl\"}],\"scattermapbox\":[{\"marker\":{\"colorbar\":{\"outlinewidth\":0,\"ticks\":\"\"}},\"type\":\"scattermapbox\"}],\"scatterpolargl\":[{\"marker\":{\"colorbar\":{\"outlinewidth\":0,\"ticks\":\"\"}},\"type\":\"scatterpolargl\"}],\"scatterpolar\":[{\"marker\":{\"colorbar\":{\"outlinewidth\":0,\"ticks\":\"\"}},\"type\":\"scatterpolar\"}],\"scatter\":[{\"fillpattern\":{\"fillmode\":\"overlay\",\"size\":10,\"solidity\":0.2},\"type\":\"scatter\"}],\"scatterternary\":[{\"marker\":{\"colorbar\":{\"outlinewidth\":0,\"ticks\":\"\"}},\"type\":\"scatterternary\"}],\"surface\":[{\"colorbar\":{\"outlinewidth\":0,\"ticks\":\"\"},\"colorscale\":[[0.0,\"#0d0887\"],[0.1111111111111111,\"#46039f\"],[0.2222222222222222,\"#7201a8\"],[0.3333333333333333,\"#9c179e\"],[0.4444444444444444,\"#bd3786\"],[0.5555555555555556,\"#d8576b\"],[0.6666666666666666,\"#ed7953\"],[0.7777777777777778,\"#fb9f3a\"],[0.8888888888888888,\"#fdca26\"],[1.0,\"#f0f921\"]],\"type\":\"surface\"}],\"table\":[{\"cells\":{\"fill\":{\"color\":\"#EBF0F8\"},\"line\":{\"color\":\"white\"}},\"header\":{\"fill\":{\"color\":\"#C8D4E3\"},\"line\":{\"color\":\"white\"}},\"type\":\"table\"}]},\"layout\":{\"annotationdefaults\":{\"arrowcolor\":\"#2a3f5f\",\"arrowhead\":0,\"arrowwidth\":1},\"autotypenumbers\":\"strict\",\"coloraxis\":{\"colorbar\":{\"outlinewidth\":0,\"ticks\":\"\"}},\"colorscale\":{\"diverging\":[[0,\"#8e0152\"],[0.1,\"#c51b7d\"],[0.2,\"#de77ae\"],[0.3,\"#f1b6da\"],[0.4,\"#fde0ef\"],[0.5,\"#f7f7f7\"],[0.6,\"#e6f5d0\"],[0.7,\"#b8e186\"],[0.8,\"#7fbc41\"],[0.9,\"#4d9221\"],[1,\"#276419\"]],\"sequential\":[[0.0,\"#0d0887\"],[0.1111111111111111,\"#46039f\"],[0.2222222222222222,\"#7201a8\"],[0.3333333333333333,\"#9c179e\"],[0.4444444444444444,\"#bd3786\"],[0.5555555555555556,\"#d8576b\"],[0.6666666666666666,\"#ed7953\"],[0.7777777777777778,\"#fb9f3a\"],[0.8888888888888888,\"#fdca26\"],[1.0,\"#f0f921\"]],\"sequentialminus\":[[0.0,\"#0d0887\"],[0.1111111111111111,\"#46039f\"],[0.2222222222222222,\"#7201a8\"],[0.3333333333333333,\"#9c179e\"],[0.4444444444444444,\"#bd3786\"],[0.5555555555555556,\"#d8576b\"],[0.6666666666666666,\"#ed7953\"],[0.7777777777777778,\"#fb9f3a\"],[0.8888888888888888,\"#fdca26\"],[1.0,\"#f0f921\"]]},\"colorway\":[\"#636efa\",\"#EF553B\",\"#00cc96\",\"#ab63fa\",\"#FFA15A\",\"#19d3f3\",\"#FF6692\",\"#B6E880\",\"#FF97FF\",\"#FECB52\"],\"font\":{\"color\":\"#2a3f5f\"},\"geo\":{\"bgcolor\":\"white\",\"lakecolor\":\"white\",\"landcolor\":\"#E5ECF6\",\"showlakes\":true,\"showland\":true,\"subunitcolor\":\"white\"},\"hoverlabel\":{\"align\":\"left\"},\"hovermode\":\"closest\",\"mapbox\":{\"style\":\"light\"},\"paper_bgcolor\":\"white\",\"plot_bgcolor\":\"#E5ECF6\",\"polar\":{\"angularaxis\":{\"gridcolor\":\"white\",\"linecolor\":\"white\",\"ticks\":\"\"},\"bgcolor\":\"#E5ECF6\",\"radialaxis\":{\"gridcolor\":\"white\",\"linecolor\":\"white\",\"ticks\":\"\"}},\"scene\":{\"xaxis\":{\"backgroundcolor\":\"#E5ECF6\",\"gridcolor\":\"white\",\"gridwidth\":2,\"linecolor\":\"white\",\"showbackground\":true,\"ticks\":\"\",\"zerolinecolor\":\"white\"},\"yaxis\":{\"backgroundcolor\":\"#E5ECF6\",\"gridcolor\":\"white\",\"gridwidth\":2,\"linecolor\":\"white\",\"showbackground\":true,\"ticks\":\"\",\"zerolinecolor\":\"white\"},\"zaxis\":{\"backgroundcolor\":\"#E5ECF6\",\"gridcolor\":\"white\",\"gridwidth\":2,\"linecolor\":\"white\",\"showbackground\":true,\"ticks\":\"\",\"zerolinecolor\":\"white\"}},\"shapedefaults\":{\"line\":{\"color\":\"#2a3f5f\"}},\"ternary\":{\"aaxis\":{\"gridcolor\":\"white\",\"linecolor\":\"white\",\"ticks\":\"\"},\"baxis\":{\"gridcolor\":\"white\",\"linecolor\":\"white\",\"ticks\":\"\"},\"bgcolor\":\"#E5ECF6\",\"caxis\":{\"gridcolor\":\"white\",\"linecolor\":\"white\",\"ticks\":\"\"}},\"title\":{\"x\":0.05},\"xaxis\":{\"automargin\":true,\"gridcolor\":\"white\",\"linecolor\":\"white\",\"ticks\":\"\",\"title\":{\"standoff\":15},\"zerolinecolor\":\"white\",\"zerolinewidth\":2},\"yaxis\":{\"automargin\":true,\"gridcolor\":\"white\",\"linecolor\":\"white\",\"ticks\":\"\",\"title\":{\"standoff\":15},\"zerolinecolor\":\"white\",\"zerolinewidth\":2}}},\"title\":{\"text\":\"GANTT Chart\"},\"xaxis\":{\"range\":[\"1970-01-01T01:16:00\",\"1970-01-02T04:41:08\"],\"title\":{\"font\":{\"color\":\"#7f7f7f\",\"family\":\"Courier New, monospace\",\"size\":18},\"text\":\"Time\"}},\"yaxis\":{\"title\":{\"font\":{\"color\":\"#7f7f7f\",\"family\":\"Courier New, monospace\",\"size\":18},\"text\":\"Activities\"}}},                        {\"responsive\": true}                    ).then(function(){\n",
       "                            \n",
       "var gd = document.getElementById('114db395-70bb-43c4-8064-7c4abc1a5f2f');\n",
       "var x = new MutationObserver(function (mutations, observer) {{\n",
       "        var display = window.getComputedStyle(gd).display;\n",
       "        if (!display || display === 'none') {{\n",
       "            console.log([gd, 'removed!']);\n",
       "            Plotly.purge(gd);\n",
       "            observer.disconnect();\n",
       "        }}\n",
       "}});\n",
       "\n",
       "// Listen for the removal of the full notebook cells\n",
       "var notebookContainer = gd.closest('#notebook-container');\n",
       "if (notebookContainer) {{\n",
       "    x.observe(notebookContainer, {childList: true});\n",
       "}}\n",
       "\n",
       "// Listen for the clearing of the current output cell\n",
       "var outputEl = gd.closest('.output');\n",
       "if (outputEl) {{\n",
       "    x.observe(outputEl, {childList: true});\n",
       "}}\n",
       "\n",
       "                        })                };                });            </script>        </div>"
      ]
     },
     "metadata": {},
     "output_type": "display_data"
    }
   ],
   "source": [
    "fig = get_gantt_chart([from_site, to_site, cutter], id_map=activities)"
   ]
  },
  {
   "cell_type": "markdown",
   "id": "9d68aee1",
   "metadata": {},
   "source": [
    "Plot only activities whose namespace (first letters) matches load*"
   ]
  },
  {
   "cell_type": "code",
   "execution_count": 10,
   "id": "6141ac61",
   "metadata": {},
   "outputs": [
    {
     "data": {
      "text/html": [
       "        <script type=\"text/javascript\">\n",
       "        window.PlotlyConfig = {MathJaxConfig: 'local'};\n",
       "        if (window.MathJax && window.MathJax.Hub && window.MathJax.Hub.Config) {window.MathJax.Hub.Config({SVG: {font: \"STIX-Web\"}});}\n",
       "        if (typeof require !== 'undefined') {\n",
       "        require.undef(\"plotly\");\n",
       "        requirejs.config({\n",
       "            paths: {\n",
       "                'plotly': ['https://cdn.plot.ly/plotly-2.18.2.min']\n",
       "            }\n",
       "        });\n",
       "        require(['plotly'], function(Plotly) {\n",
       "            window._Plotly = Plotly;\n",
       "        });\n",
       "        }\n",
       "        </script>\n",
       "        "
      ]
     },
     "metadata": {},
     "output_type": "display_data"
    },
    {
     "data": {
      "application/vnd.plotly.v1+json": {
       "config": {
        "linkText": "Export to plot.ly",
        "plotlyServerURL": "https://plot.ly",
        "showLink": false
       },
       "data": [
        {
         "connectgaps": false,
         "hoverinfo": "y+name",
         "line": {
          "color": "rgb(239,213,110)",
          "width": 10
         },
         "mode": "lines",
         "name": "loading:Carrier A",
         "type": "scatter",
         "x": [
          "1970-01-01T01:16:00",
          "1970-01-01T01:16:00",
          "1970-01-01T01:57:40",
          "1970-01-01T01:57:40",
          "1970-01-01T01:57:40",
          "1970-01-01T04:29:40",
          "1970-01-01T04:29:40",
          "1970-01-01T05:11:20",
          "1970-01-01T05:11:20",
          "1970-01-01T05:11:20",
          "1970-01-01T07:43:20",
          "1970-01-01T07:43:20",
          "1970-01-01T08:25:00",
          "1970-01-01T08:25:00",
          "1970-01-01T08:25:00",
          "1970-01-01T11:02:56",
          "1970-01-01T11:02:56",
          "1970-01-01T11:44:36",
          "1970-01-01T11:44:36",
          "1970-01-01T11:44:36",
          "1970-01-01T14:58:04",
          "1970-01-01T14:58:04",
          "1970-01-01T15:39:44",
          "1970-01-01T15:39:44",
          "1970-01-01T15:39:44",
          "1970-01-01T18:53:12",
          "1970-01-01T18:53:12",
          "1970-01-01T19:34:52",
          "1970-01-01T19:34:52",
          "1970-01-01T19:34:52",
          "1970-01-01T22:48:20",
          "1970-01-01T22:48:20",
          "1970-01-01T23:30:00",
          "1970-01-01T23:30:00",
          "1970-01-01T23:30:00",
          "1970-01-02T02:43:28",
          "1970-01-02T02:43:28",
          "1970-01-02T03:25:08",
          "1970-01-02T03:25:08",
          "1970-01-02T03:25:08"
         ],
         "y": [
          "loading:Carrier A",
          "loading:Carrier A",
          "loading:Carrier A",
          "loading:Carrier A",
          null,
          "loading:Carrier A",
          "loading:Carrier A",
          "loading:Carrier A",
          "loading:Carrier A",
          null,
          "loading:Carrier A",
          "loading:Carrier A",
          "loading:Carrier A",
          "loading:Carrier A",
          null,
          "loading:Carrier A",
          "loading:Carrier A",
          "loading:Carrier A",
          "loading:Carrier A",
          null,
          "loading:Carrier A",
          "loading:Carrier A",
          "loading:Carrier A",
          "loading:Carrier A",
          null,
          "loading:Carrier A",
          "loading:Carrier A",
          "loading:Carrier A",
          "loading:Carrier A",
          null,
          "loading:Carrier A",
          "loading:Carrier A",
          "loading:Carrier A",
          "loading:Carrier A",
          null,
          "loading:Carrier A",
          "loading:Carrier A",
          "loading:Carrier A",
          "loading:Carrier A",
          null
         ]
        },
        {
         "connectgaps": false,
         "hoverinfo": "y+name",
         "line": {
          "color": "rgb(68,42,195)",
          "width": 10
         },
         "mode": "lines",
         "name": "loading:Carrier B",
         "type": "scatter",
         "x": [
          "1970-01-01T02:31:00",
          "1970-01-01T02:31:00",
          "1970-01-01T03:12:40",
          "1970-01-01T03:12:40",
          "1970-01-01T03:12:40",
          "1970-01-01T06:26:08",
          "1970-01-01T06:26:08",
          "1970-01-01T07:07:48",
          "1970-01-01T07:07:48",
          "1970-01-01T07:07:48",
          "1970-01-01T10:21:16",
          "1970-01-01T10:21:16",
          "1970-01-01T11:02:56",
          "1970-01-01T11:02:56",
          "1970-01-01T11:02:56",
          "1970-01-01T14:16:24",
          "1970-01-01T14:16:24",
          "1970-01-01T14:58:04",
          "1970-01-01T14:58:04",
          "1970-01-01T14:58:04",
          "1970-01-01T18:11:32",
          "1970-01-01T18:11:32",
          "1970-01-01T18:53:12",
          "1970-01-01T18:53:12",
          "1970-01-01T18:53:12",
          "1970-01-01T22:06:40",
          "1970-01-01T22:06:40",
          "1970-01-01T22:48:20",
          "1970-01-01T22:48:20",
          "1970-01-01T22:48:20",
          "1970-01-02T02:01:48",
          "1970-01-02T02:01:48",
          "1970-01-02T02:43:28",
          "1970-01-02T02:43:28",
          "1970-01-02T02:43:28"
         ],
         "y": [
          "loading:Carrier B",
          "loading:Carrier B",
          "loading:Carrier B",
          "loading:Carrier B",
          null,
          "loading:Carrier B",
          "loading:Carrier B",
          "loading:Carrier B",
          "loading:Carrier B",
          null,
          "loading:Carrier B",
          "loading:Carrier B",
          "loading:Carrier B",
          "loading:Carrier B",
          null,
          "loading:Carrier B",
          "loading:Carrier B",
          "loading:Carrier B",
          "loading:Carrier B",
          null,
          "loading:Carrier B",
          "loading:Carrier B",
          "loading:Carrier B",
          "loading:Carrier B",
          null,
          "loading:Carrier B",
          "loading:Carrier B",
          "loading:Carrier B",
          "loading:Carrier B",
          null,
          "loading:Carrier B",
          "loading:Carrier B",
          "loading:Carrier B",
          "loading:Carrier B",
          null
         ]
        },
        {
         "connectgaps": false,
         "hoverinfo": "y+name",
         "line": {
          "color": "rgb(153,127,24)",
          "width": 10
         },
         "mode": "lines",
         "name": "loading:Carrier C",
         "type": "scatter",
         "x": [
          "1970-01-01T01:57:40",
          "1970-01-01T01:57:40",
          "1970-01-01T02:31:00",
          "1970-01-01T02:31:00",
          "1970-01-01T02:31:00",
          "1970-01-01T05:43:04",
          "1970-01-01T05:43:04",
          "1970-01-01T06:16:24",
          "1970-01-01T06:16:24",
          "1970-01-01T06:16:24",
          "1970-01-01T09:28:28",
          "1970-01-01T09:28:28",
          "1970-01-01T10:01:48",
          "1970-01-01T10:01:48",
          "1970-01-01T10:01:48",
          "1970-01-01T13:13:52",
          "1970-01-01T13:13:52",
          "1970-01-01T13:47:12",
          "1970-01-01T13:47:12",
          "1970-01-01T13:47:12",
          "1970-01-01T16:59:16",
          "1970-01-01T16:59:16",
          "1970-01-01T17:32:36",
          "1970-01-01T17:32:36",
          "1970-01-01T17:32:36",
          "1970-01-01T20:44:40",
          "1970-01-01T20:44:40",
          "1970-01-01T21:18:00",
          "1970-01-01T21:18:00",
          "1970-01-01T21:18:00",
          "1970-01-02T00:30:04",
          "1970-01-02T00:30:04",
          "1970-01-02T01:03:24",
          "1970-01-02T01:03:24",
          "1970-01-02T01:03:24"
         ],
         "y": [
          "loading:Carrier C",
          "loading:Carrier C",
          "loading:Carrier C",
          "loading:Carrier C",
          null,
          "loading:Carrier C",
          "loading:Carrier C",
          "loading:Carrier C",
          "loading:Carrier C",
          null,
          "loading:Carrier C",
          "loading:Carrier C",
          "loading:Carrier C",
          "loading:Carrier C",
          null,
          "loading:Carrier C",
          "loading:Carrier C",
          "loading:Carrier C",
          "loading:Carrier C",
          null,
          "loading:Carrier C",
          "loading:Carrier C",
          "loading:Carrier C",
          "loading:Carrier C",
          null,
          "loading:Carrier C",
          "loading:Carrier C",
          "loading:Carrier C",
          "loading:Carrier C",
          null,
          "loading:Carrier C",
          "loading:Carrier C",
          "loading:Carrier C",
          "loading:Carrier C",
          null
         ]
        }
       ],
       "layout": {
        "hovermode": "closest",
        "legend": {
         "orientation": "h",
         "x": 0,
         "y": -0.2
        },
        "template": {
         "data": {
          "bar": [
           {
            "error_x": {
             "color": "#2a3f5f"
            },
            "error_y": {
             "color": "#2a3f5f"
            },
            "marker": {
             "line": {
              "color": "#E5ECF6",
              "width": 0.5
             },
             "pattern": {
              "fillmode": "overlay",
              "size": 10,
              "solidity": 0.2
             }
            },
            "type": "bar"
           }
          ],
          "barpolar": [
           {
            "marker": {
             "line": {
              "color": "#E5ECF6",
              "width": 0.5
             },
             "pattern": {
              "fillmode": "overlay",
              "size": 10,
              "solidity": 0.2
             }
            },
            "type": "barpolar"
           }
          ],
          "carpet": [
           {
            "aaxis": {
             "endlinecolor": "#2a3f5f",
             "gridcolor": "white",
             "linecolor": "white",
             "minorgridcolor": "white",
             "startlinecolor": "#2a3f5f"
            },
            "baxis": {
             "endlinecolor": "#2a3f5f",
             "gridcolor": "white",
             "linecolor": "white",
             "minorgridcolor": "white",
             "startlinecolor": "#2a3f5f"
            },
            "type": "carpet"
           }
          ],
          "choropleth": [
           {
            "colorbar": {
             "outlinewidth": 0,
             "ticks": ""
            },
            "type": "choropleth"
           }
          ],
          "contour": [
           {
            "colorbar": {
             "outlinewidth": 0,
             "ticks": ""
            },
            "colorscale": [
             [
              0,
              "#0d0887"
             ],
             [
              0.1111111111111111,
              "#46039f"
             ],
             [
              0.2222222222222222,
              "#7201a8"
             ],
             [
              0.3333333333333333,
              "#9c179e"
             ],
             [
              0.4444444444444444,
              "#bd3786"
             ],
             [
              0.5555555555555556,
              "#d8576b"
             ],
             [
              0.6666666666666666,
              "#ed7953"
             ],
             [
              0.7777777777777778,
              "#fb9f3a"
             ],
             [
              0.8888888888888888,
              "#fdca26"
             ],
             [
              1,
              "#f0f921"
             ]
            ],
            "type": "contour"
           }
          ],
          "contourcarpet": [
           {
            "colorbar": {
             "outlinewidth": 0,
             "ticks": ""
            },
            "type": "contourcarpet"
           }
          ],
          "heatmap": [
           {
            "colorbar": {
             "outlinewidth": 0,
             "ticks": ""
            },
            "colorscale": [
             [
              0,
              "#0d0887"
             ],
             [
              0.1111111111111111,
              "#46039f"
             ],
             [
              0.2222222222222222,
              "#7201a8"
             ],
             [
              0.3333333333333333,
              "#9c179e"
             ],
             [
              0.4444444444444444,
              "#bd3786"
             ],
             [
              0.5555555555555556,
              "#d8576b"
             ],
             [
              0.6666666666666666,
              "#ed7953"
             ],
             [
              0.7777777777777778,
              "#fb9f3a"
             ],
             [
              0.8888888888888888,
              "#fdca26"
             ],
             [
              1,
              "#f0f921"
             ]
            ],
            "type": "heatmap"
           }
          ],
          "heatmapgl": [
           {
            "colorbar": {
             "outlinewidth": 0,
             "ticks": ""
            },
            "colorscale": [
             [
              0,
              "#0d0887"
             ],
             [
              0.1111111111111111,
              "#46039f"
             ],
             [
              0.2222222222222222,
              "#7201a8"
             ],
             [
              0.3333333333333333,
              "#9c179e"
             ],
             [
              0.4444444444444444,
              "#bd3786"
             ],
             [
              0.5555555555555556,
              "#d8576b"
             ],
             [
              0.6666666666666666,
              "#ed7953"
             ],
             [
              0.7777777777777778,
              "#fb9f3a"
             ],
             [
              0.8888888888888888,
              "#fdca26"
             ],
             [
              1,
              "#f0f921"
             ]
            ],
            "type": "heatmapgl"
           }
          ],
          "histogram": [
           {
            "marker": {
             "pattern": {
              "fillmode": "overlay",
              "size": 10,
              "solidity": 0.2
             }
            },
            "type": "histogram"
           }
          ],
          "histogram2d": [
           {
            "colorbar": {
             "outlinewidth": 0,
             "ticks": ""
            },
            "colorscale": [
             [
              0,
              "#0d0887"
             ],
             [
              0.1111111111111111,
              "#46039f"
             ],
             [
              0.2222222222222222,
              "#7201a8"
             ],
             [
              0.3333333333333333,
              "#9c179e"
             ],
             [
              0.4444444444444444,
              "#bd3786"
             ],
             [
              0.5555555555555556,
              "#d8576b"
             ],
             [
              0.6666666666666666,
              "#ed7953"
             ],
             [
              0.7777777777777778,
              "#fb9f3a"
             ],
             [
              0.8888888888888888,
              "#fdca26"
             ],
             [
              1,
              "#f0f921"
             ]
            ],
            "type": "histogram2d"
           }
          ],
          "histogram2dcontour": [
           {
            "colorbar": {
             "outlinewidth": 0,
             "ticks": ""
            },
            "colorscale": [
             [
              0,
              "#0d0887"
             ],
             [
              0.1111111111111111,
              "#46039f"
             ],
             [
              0.2222222222222222,
              "#7201a8"
             ],
             [
              0.3333333333333333,
              "#9c179e"
             ],
             [
              0.4444444444444444,
              "#bd3786"
             ],
             [
              0.5555555555555556,
              "#d8576b"
             ],
             [
              0.6666666666666666,
              "#ed7953"
             ],
             [
              0.7777777777777778,
              "#fb9f3a"
             ],
             [
              0.8888888888888888,
              "#fdca26"
             ],
             [
              1,
              "#f0f921"
             ]
            ],
            "type": "histogram2dcontour"
           }
          ],
          "mesh3d": [
           {
            "colorbar": {
             "outlinewidth": 0,
             "ticks": ""
            },
            "type": "mesh3d"
           }
          ],
          "parcoords": [
           {
            "line": {
             "colorbar": {
              "outlinewidth": 0,
              "ticks": ""
             }
            },
            "type": "parcoords"
           }
          ],
          "pie": [
           {
            "automargin": true,
            "type": "pie"
           }
          ],
          "scatter": [
           {
            "fillpattern": {
             "fillmode": "overlay",
             "size": 10,
             "solidity": 0.2
            },
            "type": "scatter"
           }
          ],
          "scatter3d": [
           {
            "line": {
             "colorbar": {
              "outlinewidth": 0,
              "ticks": ""
             }
            },
            "marker": {
             "colorbar": {
              "outlinewidth": 0,
              "ticks": ""
             }
            },
            "type": "scatter3d"
           }
          ],
          "scattercarpet": [
           {
            "marker": {
             "colorbar": {
              "outlinewidth": 0,
              "ticks": ""
             }
            },
            "type": "scattercarpet"
           }
          ],
          "scattergeo": [
           {
            "marker": {
             "colorbar": {
              "outlinewidth": 0,
              "ticks": ""
             }
            },
            "type": "scattergeo"
           }
          ],
          "scattergl": [
           {
            "marker": {
             "colorbar": {
              "outlinewidth": 0,
              "ticks": ""
             }
            },
            "type": "scattergl"
           }
          ],
          "scattermapbox": [
           {
            "marker": {
             "colorbar": {
              "outlinewidth": 0,
              "ticks": ""
             }
            },
            "type": "scattermapbox"
           }
          ],
          "scatterpolar": [
           {
            "marker": {
             "colorbar": {
              "outlinewidth": 0,
              "ticks": ""
             }
            },
            "type": "scatterpolar"
           }
          ],
          "scatterpolargl": [
           {
            "marker": {
             "colorbar": {
              "outlinewidth": 0,
              "ticks": ""
             }
            },
            "type": "scatterpolargl"
           }
          ],
          "scatterternary": [
           {
            "marker": {
             "colorbar": {
              "outlinewidth": 0,
              "ticks": ""
             }
            },
            "type": "scatterternary"
           }
          ],
          "surface": [
           {
            "colorbar": {
             "outlinewidth": 0,
             "ticks": ""
            },
            "colorscale": [
             [
              0,
              "#0d0887"
             ],
             [
              0.1111111111111111,
              "#46039f"
             ],
             [
              0.2222222222222222,
              "#7201a8"
             ],
             [
              0.3333333333333333,
              "#9c179e"
             ],
             [
              0.4444444444444444,
              "#bd3786"
             ],
             [
              0.5555555555555556,
              "#d8576b"
             ],
             [
              0.6666666666666666,
              "#ed7953"
             ],
             [
              0.7777777777777778,
              "#fb9f3a"
             ],
             [
              0.8888888888888888,
              "#fdca26"
             ],
             [
              1,
              "#f0f921"
             ]
            ],
            "type": "surface"
           }
          ],
          "table": [
           {
            "cells": {
             "fill": {
              "color": "#EBF0F8"
             },
             "line": {
              "color": "white"
             }
            },
            "header": {
             "fill": {
              "color": "#C8D4E3"
             },
             "line": {
              "color": "white"
             }
            },
            "type": "table"
           }
          ]
         },
         "layout": {
          "annotationdefaults": {
           "arrowcolor": "#2a3f5f",
           "arrowhead": 0,
           "arrowwidth": 1
          },
          "autotypenumbers": "strict",
          "coloraxis": {
           "colorbar": {
            "outlinewidth": 0,
            "ticks": ""
           }
          },
          "colorscale": {
           "diverging": [
            [
             0,
             "#8e0152"
            ],
            [
             0.1,
             "#c51b7d"
            ],
            [
             0.2,
             "#de77ae"
            ],
            [
             0.3,
             "#f1b6da"
            ],
            [
             0.4,
             "#fde0ef"
            ],
            [
             0.5,
             "#f7f7f7"
            ],
            [
             0.6,
             "#e6f5d0"
            ],
            [
             0.7,
             "#b8e186"
            ],
            [
             0.8,
             "#7fbc41"
            ],
            [
             0.9,
             "#4d9221"
            ],
            [
             1,
             "#276419"
            ]
           ],
           "sequential": [
            [
             0,
             "#0d0887"
            ],
            [
             0.1111111111111111,
             "#46039f"
            ],
            [
             0.2222222222222222,
             "#7201a8"
            ],
            [
             0.3333333333333333,
             "#9c179e"
            ],
            [
             0.4444444444444444,
             "#bd3786"
            ],
            [
             0.5555555555555556,
             "#d8576b"
            ],
            [
             0.6666666666666666,
             "#ed7953"
            ],
            [
             0.7777777777777778,
             "#fb9f3a"
            ],
            [
             0.8888888888888888,
             "#fdca26"
            ],
            [
             1,
             "#f0f921"
            ]
           ],
           "sequentialminus": [
            [
             0,
             "#0d0887"
            ],
            [
             0.1111111111111111,
             "#46039f"
            ],
            [
             0.2222222222222222,
             "#7201a8"
            ],
            [
             0.3333333333333333,
             "#9c179e"
            ],
            [
             0.4444444444444444,
             "#bd3786"
            ],
            [
             0.5555555555555556,
             "#d8576b"
            ],
            [
             0.6666666666666666,
             "#ed7953"
            ],
            [
             0.7777777777777778,
             "#fb9f3a"
            ],
            [
             0.8888888888888888,
             "#fdca26"
            ],
            [
             1,
             "#f0f921"
            ]
           ]
          },
          "colorway": [
           "#636efa",
           "#EF553B",
           "#00cc96",
           "#ab63fa",
           "#FFA15A",
           "#19d3f3",
           "#FF6692",
           "#B6E880",
           "#FF97FF",
           "#FECB52"
          ],
          "font": {
           "color": "#2a3f5f"
          },
          "geo": {
           "bgcolor": "white",
           "lakecolor": "white",
           "landcolor": "#E5ECF6",
           "showlakes": true,
           "showland": true,
           "subunitcolor": "white"
          },
          "hoverlabel": {
           "align": "left"
          },
          "hovermode": "closest",
          "mapbox": {
           "style": "light"
          },
          "paper_bgcolor": "white",
          "plot_bgcolor": "#E5ECF6",
          "polar": {
           "angularaxis": {
            "gridcolor": "white",
            "linecolor": "white",
            "ticks": ""
           },
           "bgcolor": "#E5ECF6",
           "radialaxis": {
            "gridcolor": "white",
            "linecolor": "white",
            "ticks": ""
           }
          },
          "scene": {
           "xaxis": {
            "backgroundcolor": "#E5ECF6",
            "gridcolor": "white",
            "gridwidth": 2,
            "linecolor": "white",
            "showbackground": true,
            "ticks": "",
            "zerolinecolor": "white"
           },
           "yaxis": {
            "backgroundcolor": "#E5ECF6",
            "gridcolor": "white",
            "gridwidth": 2,
            "linecolor": "white",
            "showbackground": true,
            "ticks": "",
            "zerolinecolor": "white"
           },
           "zaxis": {
            "backgroundcolor": "#E5ECF6",
            "gridcolor": "white",
            "gridwidth": 2,
            "linecolor": "white",
            "showbackground": true,
            "ticks": "",
            "zerolinecolor": "white"
           }
          },
          "shapedefaults": {
           "line": {
            "color": "#2a3f5f"
           }
          },
          "ternary": {
           "aaxis": {
            "gridcolor": "white",
            "linecolor": "white",
            "ticks": ""
           },
           "baxis": {
            "gridcolor": "white",
            "linecolor": "white",
            "ticks": ""
           },
           "bgcolor": "#E5ECF6",
           "caxis": {
            "gridcolor": "white",
            "linecolor": "white",
            "ticks": ""
           }
          },
          "title": {
           "x": 0.05
          },
          "xaxis": {
           "automargin": true,
           "gridcolor": "white",
           "linecolor": "white",
           "ticks": "",
           "title": {
            "standoff": 15
           },
           "zerolinecolor": "white",
           "zerolinewidth": 2
          },
          "yaxis": {
           "automargin": true,
           "gridcolor": "white",
           "linecolor": "white",
           "ticks": "",
           "title": {
            "standoff": 15
           },
           "zerolinecolor": "white",
           "zerolinewidth": 2
          }
         }
        },
        "title": {
         "text": "GANTT Chart"
        },
        "xaxis": {
         "range": [
          "1970-01-01T01:16:00",
          "1970-01-02T03:25:08"
         ],
         "title": {
          "font": {
           "color": "#7f7f7f",
           "family": "Courier New, monospace",
           "size": 18
          },
          "text": "Time"
         }
        },
        "yaxis": {
         "title": {
          "font": {
           "color": "#7f7f7f",
           "family": "Courier New, monospace",
           "size": 18
          },
          "text": "Activities"
         }
        }
       }
      },
      "text/html": [
       "<div>                            <div id=\"83d6ccd1-b8d8-4903-ba7b-87919f4b6d82\" class=\"plotly-graph-div\" style=\"height:525px; width:100%;\"></div>            <script type=\"text/javascript\">                require([\"plotly\"], function(Plotly) {                    window.PLOTLYENV=window.PLOTLYENV || {};                                    if (document.getElementById(\"83d6ccd1-b8d8-4903-ba7b-87919f4b6d82\")) {                    Plotly.newPlot(                        \"83d6ccd1-b8d8-4903-ba7b-87919f4b6d82\",                        [{\"connectgaps\":false,\"hoverinfo\":\"y+name\",\"line\":{\"color\":\"rgb(239,213,110)\",\"width\":10},\"mode\":\"lines\",\"name\":\"loading:Carrier A\",\"x\":[\"1970-01-01T01:16:00\",\"1970-01-01T01:16:00\",\"1970-01-01T01:57:40\",\"1970-01-01T01:57:40\",\"1970-01-01T01:57:40\",\"1970-01-01T04:29:40\",\"1970-01-01T04:29:40\",\"1970-01-01T05:11:20\",\"1970-01-01T05:11:20\",\"1970-01-01T05:11:20\",\"1970-01-01T07:43:20\",\"1970-01-01T07:43:20\",\"1970-01-01T08:25:00\",\"1970-01-01T08:25:00\",\"1970-01-01T08:25:00\",\"1970-01-01T11:02:56\",\"1970-01-01T11:02:56\",\"1970-01-01T11:44:36\",\"1970-01-01T11:44:36\",\"1970-01-01T11:44:36\",\"1970-01-01T14:58:04\",\"1970-01-01T14:58:04\",\"1970-01-01T15:39:44\",\"1970-01-01T15:39:44\",\"1970-01-01T15:39:44\",\"1970-01-01T18:53:12\",\"1970-01-01T18:53:12\",\"1970-01-01T19:34:52\",\"1970-01-01T19:34:52\",\"1970-01-01T19:34:52\",\"1970-01-01T22:48:20\",\"1970-01-01T22:48:20\",\"1970-01-01T23:30:00\",\"1970-01-01T23:30:00\",\"1970-01-01T23:30:00\",\"1970-01-02T02:43:28\",\"1970-01-02T02:43:28\",\"1970-01-02T03:25:08\",\"1970-01-02T03:25:08\",\"1970-01-02T03:25:08\"],\"y\":[\"loading:Carrier A\",\"loading:Carrier A\",\"loading:Carrier A\",\"loading:Carrier A\",null,\"loading:Carrier A\",\"loading:Carrier A\",\"loading:Carrier A\",\"loading:Carrier A\",null,\"loading:Carrier A\",\"loading:Carrier A\",\"loading:Carrier A\",\"loading:Carrier A\",null,\"loading:Carrier A\",\"loading:Carrier A\",\"loading:Carrier A\",\"loading:Carrier A\",null,\"loading:Carrier A\",\"loading:Carrier A\",\"loading:Carrier A\",\"loading:Carrier A\",null,\"loading:Carrier A\",\"loading:Carrier A\",\"loading:Carrier A\",\"loading:Carrier A\",null,\"loading:Carrier A\",\"loading:Carrier A\",\"loading:Carrier A\",\"loading:Carrier A\",null,\"loading:Carrier A\",\"loading:Carrier A\",\"loading:Carrier A\",\"loading:Carrier A\",null],\"type\":\"scatter\"},{\"connectgaps\":false,\"hoverinfo\":\"y+name\",\"line\":{\"color\":\"rgb(68,42,195)\",\"width\":10},\"mode\":\"lines\",\"name\":\"loading:Carrier B\",\"x\":[\"1970-01-01T02:31:00\",\"1970-01-01T02:31:00\",\"1970-01-01T03:12:40\",\"1970-01-01T03:12:40\",\"1970-01-01T03:12:40\",\"1970-01-01T06:26:08\",\"1970-01-01T06:26:08\",\"1970-01-01T07:07:48\",\"1970-01-01T07:07:48\",\"1970-01-01T07:07:48\",\"1970-01-01T10:21:16\",\"1970-01-01T10:21:16\",\"1970-01-01T11:02:56\",\"1970-01-01T11:02:56\",\"1970-01-01T11:02:56\",\"1970-01-01T14:16:24\",\"1970-01-01T14:16:24\",\"1970-01-01T14:58:04\",\"1970-01-01T14:58:04\",\"1970-01-01T14:58:04\",\"1970-01-01T18:11:32\",\"1970-01-01T18:11:32\",\"1970-01-01T18:53:12\",\"1970-01-01T18:53:12\",\"1970-01-01T18:53:12\",\"1970-01-01T22:06:40\",\"1970-01-01T22:06:40\",\"1970-01-01T22:48:20\",\"1970-01-01T22:48:20\",\"1970-01-01T22:48:20\",\"1970-01-02T02:01:48\",\"1970-01-02T02:01:48\",\"1970-01-02T02:43:28\",\"1970-01-02T02:43:28\",\"1970-01-02T02:43:28\"],\"y\":[\"loading:Carrier B\",\"loading:Carrier B\",\"loading:Carrier B\",\"loading:Carrier B\",null,\"loading:Carrier B\",\"loading:Carrier B\",\"loading:Carrier B\",\"loading:Carrier B\",null,\"loading:Carrier B\",\"loading:Carrier B\",\"loading:Carrier B\",\"loading:Carrier B\",null,\"loading:Carrier B\",\"loading:Carrier B\",\"loading:Carrier B\",\"loading:Carrier B\",null,\"loading:Carrier B\",\"loading:Carrier B\",\"loading:Carrier B\",\"loading:Carrier B\",null,\"loading:Carrier B\",\"loading:Carrier B\",\"loading:Carrier B\",\"loading:Carrier B\",null,\"loading:Carrier B\",\"loading:Carrier B\",\"loading:Carrier B\",\"loading:Carrier B\",null],\"type\":\"scatter\"},{\"connectgaps\":false,\"hoverinfo\":\"y+name\",\"line\":{\"color\":\"rgb(153,127,24)\",\"width\":10},\"mode\":\"lines\",\"name\":\"loading:Carrier C\",\"x\":[\"1970-01-01T01:57:40\",\"1970-01-01T01:57:40\",\"1970-01-01T02:31:00\",\"1970-01-01T02:31:00\",\"1970-01-01T02:31:00\",\"1970-01-01T05:43:04\",\"1970-01-01T05:43:04\",\"1970-01-01T06:16:24\",\"1970-01-01T06:16:24\",\"1970-01-01T06:16:24\",\"1970-01-01T09:28:28\",\"1970-01-01T09:28:28\",\"1970-01-01T10:01:48\",\"1970-01-01T10:01:48\",\"1970-01-01T10:01:48\",\"1970-01-01T13:13:52\",\"1970-01-01T13:13:52\",\"1970-01-01T13:47:12\",\"1970-01-01T13:47:12\",\"1970-01-01T13:47:12\",\"1970-01-01T16:59:16\",\"1970-01-01T16:59:16\",\"1970-01-01T17:32:36\",\"1970-01-01T17:32:36\",\"1970-01-01T17:32:36\",\"1970-01-01T20:44:40\",\"1970-01-01T20:44:40\",\"1970-01-01T21:18:00\",\"1970-01-01T21:18:00\",\"1970-01-01T21:18:00\",\"1970-01-02T00:30:04\",\"1970-01-02T00:30:04\",\"1970-01-02T01:03:24\",\"1970-01-02T01:03:24\",\"1970-01-02T01:03:24\"],\"y\":[\"loading:Carrier C\",\"loading:Carrier C\",\"loading:Carrier C\",\"loading:Carrier C\",null,\"loading:Carrier C\",\"loading:Carrier C\",\"loading:Carrier C\",\"loading:Carrier C\",null,\"loading:Carrier C\",\"loading:Carrier C\",\"loading:Carrier C\",\"loading:Carrier C\",null,\"loading:Carrier C\",\"loading:Carrier C\",\"loading:Carrier C\",\"loading:Carrier C\",null,\"loading:Carrier C\",\"loading:Carrier C\",\"loading:Carrier C\",\"loading:Carrier C\",null,\"loading:Carrier C\",\"loading:Carrier C\",\"loading:Carrier C\",\"loading:Carrier C\",null,\"loading:Carrier C\",\"loading:Carrier C\",\"loading:Carrier C\",\"loading:Carrier C\",null],\"type\":\"scatter\"}],                        {\"hovermode\":\"closest\",\"legend\":{\"orientation\":\"h\",\"x\":0,\"y\":-0.2},\"template\":{\"data\":{\"barpolar\":[{\"marker\":{\"line\":{\"color\":\"#E5ECF6\",\"width\":0.5},\"pattern\":{\"fillmode\":\"overlay\",\"size\":10,\"solidity\":0.2}},\"type\":\"barpolar\"}],\"bar\":[{\"error_x\":{\"color\":\"#2a3f5f\"},\"error_y\":{\"color\":\"#2a3f5f\"},\"marker\":{\"line\":{\"color\":\"#E5ECF6\",\"width\":0.5},\"pattern\":{\"fillmode\":\"overlay\",\"size\":10,\"solidity\":0.2}},\"type\":\"bar\"}],\"carpet\":[{\"aaxis\":{\"endlinecolor\":\"#2a3f5f\",\"gridcolor\":\"white\",\"linecolor\":\"white\",\"minorgridcolor\":\"white\",\"startlinecolor\":\"#2a3f5f\"},\"baxis\":{\"endlinecolor\":\"#2a3f5f\",\"gridcolor\":\"white\",\"linecolor\":\"white\",\"minorgridcolor\":\"white\",\"startlinecolor\":\"#2a3f5f\"},\"type\":\"carpet\"}],\"choropleth\":[{\"colorbar\":{\"outlinewidth\":0,\"ticks\":\"\"},\"type\":\"choropleth\"}],\"contourcarpet\":[{\"colorbar\":{\"outlinewidth\":0,\"ticks\":\"\"},\"type\":\"contourcarpet\"}],\"contour\":[{\"colorbar\":{\"outlinewidth\":0,\"ticks\":\"\"},\"colorscale\":[[0.0,\"#0d0887\"],[0.1111111111111111,\"#46039f\"],[0.2222222222222222,\"#7201a8\"],[0.3333333333333333,\"#9c179e\"],[0.4444444444444444,\"#bd3786\"],[0.5555555555555556,\"#d8576b\"],[0.6666666666666666,\"#ed7953\"],[0.7777777777777778,\"#fb9f3a\"],[0.8888888888888888,\"#fdca26\"],[1.0,\"#f0f921\"]],\"type\":\"contour\"}],\"heatmapgl\":[{\"colorbar\":{\"outlinewidth\":0,\"ticks\":\"\"},\"colorscale\":[[0.0,\"#0d0887\"],[0.1111111111111111,\"#46039f\"],[0.2222222222222222,\"#7201a8\"],[0.3333333333333333,\"#9c179e\"],[0.4444444444444444,\"#bd3786\"],[0.5555555555555556,\"#d8576b\"],[0.6666666666666666,\"#ed7953\"],[0.7777777777777778,\"#fb9f3a\"],[0.8888888888888888,\"#fdca26\"],[1.0,\"#f0f921\"]],\"type\":\"heatmapgl\"}],\"heatmap\":[{\"colorbar\":{\"outlinewidth\":0,\"ticks\":\"\"},\"colorscale\":[[0.0,\"#0d0887\"],[0.1111111111111111,\"#46039f\"],[0.2222222222222222,\"#7201a8\"],[0.3333333333333333,\"#9c179e\"],[0.4444444444444444,\"#bd3786\"],[0.5555555555555556,\"#d8576b\"],[0.6666666666666666,\"#ed7953\"],[0.7777777777777778,\"#fb9f3a\"],[0.8888888888888888,\"#fdca26\"],[1.0,\"#f0f921\"]],\"type\":\"heatmap\"}],\"histogram2dcontour\":[{\"colorbar\":{\"outlinewidth\":0,\"ticks\":\"\"},\"colorscale\":[[0.0,\"#0d0887\"],[0.1111111111111111,\"#46039f\"],[0.2222222222222222,\"#7201a8\"],[0.3333333333333333,\"#9c179e\"],[0.4444444444444444,\"#bd3786\"],[0.5555555555555556,\"#d8576b\"],[0.6666666666666666,\"#ed7953\"],[0.7777777777777778,\"#fb9f3a\"],[0.8888888888888888,\"#fdca26\"],[1.0,\"#f0f921\"]],\"type\":\"histogram2dcontour\"}],\"histogram2d\":[{\"colorbar\":{\"outlinewidth\":0,\"ticks\":\"\"},\"colorscale\":[[0.0,\"#0d0887\"],[0.1111111111111111,\"#46039f\"],[0.2222222222222222,\"#7201a8\"],[0.3333333333333333,\"#9c179e\"],[0.4444444444444444,\"#bd3786\"],[0.5555555555555556,\"#d8576b\"],[0.6666666666666666,\"#ed7953\"],[0.7777777777777778,\"#fb9f3a\"],[0.8888888888888888,\"#fdca26\"],[1.0,\"#f0f921\"]],\"type\":\"histogram2d\"}],\"histogram\":[{\"marker\":{\"pattern\":{\"fillmode\":\"overlay\",\"size\":10,\"solidity\":0.2}},\"type\":\"histogram\"}],\"mesh3d\":[{\"colorbar\":{\"outlinewidth\":0,\"ticks\":\"\"},\"type\":\"mesh3d\"}],\"parcoords\":[{\"line\":{\"colorbar\":{\"outlinewidth\":0,\"ticks\":\"\"}},\"type\":\"parcoords\"}],\"pie\":[{\"automargin\":true,\"type\":\"pie\"}],\"scatter3d\":[{\"line\":{\"colorbar\":{\"outlinewidth\":0,\"ticks\":\"\"}},\"marker\":{\"colorbar\":{\"outlinewidth\":0,\"ticks\":\"\"}},\"type\":\"scatter3d\"}],\"scattercarpet\":[{\"marker\":{\"colorbar\":{\"outlinewidth\":0,\"ticks\":\"\"}},\"type\":\"scattercarpet\"}],\"scattergeo\":[{\"marker\":{\"colorbar\":{\"outlinewidth\":0,\"ticks\":\"\"}},\"type\":\"scattergeo\"}],\"scattergl\":[{\"marker\":{\"colorbar\":{\"outlinewidth\":0,\"ticks\":\"\"}},\"type\":\"scattergl\"}],\"scattermapbox\":[{\"marker\":{\"colorbar\":{\"outlinewidth\":0,\"ticks\":\"\"}},\"type\":\"scattermapbox\"}],\"scatterpolargl\":[{\"marker\":{\"colorbar\":{\"outlinewidth\":0,\"ticks\":\"\"}},\"type\":\"scatterpolargl\"}],\"scatterpolar\":[{\"marker\":{\"colorbar\":{\"outlinewidth\":0,\"ticks\":\"\"}},\"type\":\"scatterpolar\"}],\"scatter\":[{\"fillpattern\":{\"fillmode\":\"overlay\",\"size\":10,\"solidity\":0.2},\"type\":\"scatter\"}],\"scatterternary\":[{\"marker\":{\"colorbar\":{\"outlinewidth\":0,\"ticks\":\"\"}},\"type\":\"scatterternary\"}],\"surface\":[{\"colorbar\":{\"outlinewidth\":0,\"ticks\":\"\"},\"colorscale\":[[0.0,\"#0d0887\"],[0.1111111111111111,\"#46039f\"],[0.2222222222222222,\"#7201a8\"],[0.3333333333333333,\"#9c179e\"],[0.4444444444444444,\"#bd3786\"],[0.5555555555555556,\"#d8576b\"],[0.6666666666666666,\"#ed7953\"],[0.7777777777777778,\"#fb9f3a\"],[0.8888888888888888,\"#fdca26\"],[1.0,\"#f0f921\"]],\"type\":\"surface\"}],\"table\":[{\"cells\":{\"fill\":{\"color\":\"#EBF0F8\"},\"line\":{\"color\":\"white\"}},\"header\":{\"fill\":{\"color\":\"#C8D4E3\"},\"line\":{\"color\":\"white\"}},\"type\":\"table\"}]},\"layout\":{\"annotationdefaults\":{\"arrowcolor\":\"#2a3f5f\",\"arrowhead\":0,\"arrowwidth\":1},\"autotypenumbers\":\"strict\",\"coloraxis\":{\"colorbar\":{\"outlinewidth\":0,\"ticks\":\"\"}},\"colorscale\":{\"diverging\":[[0,\"#8e0152\"],[0.1,\"#c51b7d\"],[0.2,\"#de77ae\"],[0.3,\"#f1b6da\"],[0.4,\"#fde0ef\"],[0.5,\"#f7f7f7\"],[0.6,\"#e6f5d0\"],[0.7,\"#b8e186\"],[0.8,\"#7fbc41\"],[0.9,\"#4d9221\"],[1,\"#276419\"]],\"sequential\":[[0.0,\"#0d0887\"],[0.1111111111111111,\"#46039f\"],[0.2222222222222222,\"#7201a8\"],[0.3333333333333333,\"#9c179e\"],[0.4444444444444444,\"#bd3786\"],[0.5555555555555556,\"#d8576b\"],[0.6666666666666666,\"#ed7953\"],[0.7777777777777778,\"#fb9f3a\"],[0.8888888888888888,\"#fdca26\"],[1.0,\"#f0f921\"]],\"sequentialminus\":[[0.0,\"#0d0887\"],[0.1111111111111111,\"#46039f\"],[0.2222222222222222,\"#7201a8\"],[0.3333333333333333,\"#9c179e\"],[0.4444444444444444,\"#bd3786\"],[0.5555555555555556,\"#d8576b\"],[0.6666666666666666,\"#ed7953\"],[0.7777777777777778,\"#fb9f3a\"],[0.8888888888888888,\"#fdca26\"],[1.0,\"#f0f921\"]]},\"colorway\":[\"#636efa\",\"#EF553B\",\"#00cc96\",\"#ab63fa\",\"#FFA15A\",\"#19d3f3\",\"#FF6692\",\"#B6E880\",\"#FF97FF\",\"#FECB52\"],\"font\":{\"color\":\"#2a3f5f\"},\"geo\":{\"bgcolor\":\"white\",\"lakecolor\":\"white\",\"landcolor\":\"#E5ECF6\",\"showlakes\":true,\"showland\":true,\"subunitcolor\":\"white\"},\"hoverlabel\":{\"align\":\"left\"},\"hovermode\":\"closest\",\"mapbox\":{\"style\":\"light\"},\"paper_bgcolor\":\"white\",\"plot_bgcolor\":\"#E5ECF6\",\"polar\":{\"angularaxis\":{\"gridcolor\":\"white\",\"linecolor\":\"white\",\"ticks\":\"\"},\"bgcolor\":\"#E5ECF6\",\"radialaxis\":{\"gridcolor\":\"white\",\"linecolor\":\"white\",\"ticks\":\"\"}},\"scene\":{\"xaxis\":{\"backgroundcolor\":\"#E5ECF6\",\"gridcolor\":\"white\",\"gridwidth\":2,\"linecolor\":\"white\",\"showbackground\":true,\"ticks\":\"\",\"zerolinecolor\":\"white\"},\"yaxis\":{\"backgroundcolor\":\"#E5ECF6\",\"gridcolor\":\"white\",\"gridwidth\":2,\"linecolor\":\"white\",\"showbackground\":true,\"ticks\":\"\",\"zerolinecolor\":\"white\"},\"zaxis\":{\"backgroundcolor\":\"#E5ECF6\",\"gridcolor\":\"white\",\"gridwidth\":2,\"linecolor\":\"white\",\"showbackground\":true,\"ticks\":\"\",\"zerolinecolor\":\"white\"}},\"shapedefaults\":{\"line\":{\"color\":\"#2a3f5f\"}},\"ternary\":{\"aaxis\":{\"gridcolor\":\"white\",\"linecolor\":\"white\",\"ticks\":\"\"},\"baxis\":{\"gridcolor\":\"white\",\"linecolor\":\"white\",\"ticks\":\"\"},\"bgcolor\":\"#E5ECF6\",\"caxis\":{\"gridcolor\":\"white\",\"linecolor\":\"white\",\"ticks\":\"\"}},\"title\":{\"x\":0.05},\"xaxis\":{\"automargin\":true,\"gridcolor\":\"white\",\"linecolor\":\"white\",\"ticks\":\"\",\"title\":{\"standoff\":15},\"zerolinecolor\":\"white\",\"zerolinewidth\":2},\"yaxis\":{\"automargin\":true,\"gridcolor\":\"white\",\"linecolor\":\"white\",\"ticks\":\"\",\"title\":{\"standoff\":15},\"zerolinecolor\":\"white\",\"zerolinewidth\":2}}},\"title\":{\"text\":\"GANTT Chart\"},\"xaxis\":{\"range\":[\"1970-01-01T01:16:00\",\"1970-01-02T03:25:08\"],\"title\":{\"font\":{\"color\":\"#7f7f7f\",\"family\":\"Courier New, monospace\",\"size\":18},\"text\":\"Time\"}},\"yaxis\":{\"title\":{\"font\":{\"color\":\"#7f7f7f\",\"family\":\"Courier New, monospace\",\"size\":18},\"text\":\"Activities\"}}},                        {\"responsive\": true}                    ).then(function(){\n",
       "                            \n",
       "var gd = document.getElementById('83d6ccd1-b8d8-4903-ba7b-87919f4b6d82');\n",
       "var x = new MutationObserver(function (mutations, observer) {{\n",
       "        var display = window.getComputedStyle(gd).display;\n",
       "        if (!display || display === 'none') {{\n",
       "            console.log([gd, 'removed!']);\n",
       "            Plotly.purge(gd);\n",
       "            observer.disconnect();\n",
       "        }}\n",
       "}});\n",
       "\n",
       "// Listen for the removal of the full notebook cells\n",
       "var notebookContainer = gd.closest('#notebook-container');\n",
       "if (notebookContainer) {{\n",
       "    x.observe(notebookContainer, {childList: true});\n",
       "}}\n",
       "\n",
       "// Listen for the clearing of the current output cell\n",
       "var outputEl = gd.closest('.output');\n",
       "if (outputEl) {{\n",
       "    x.observe(outputEl, {childList: true});\n",
       "}}\n",
       "\n",
       "                        })                };                });            </script>        </div>"
      ]
     },
     "metadata": {},
     "output_type": "display_data"
    }
   ],
   "source": [
    "flat = pd.DataFrame(flatten(activities))\n",
    "loading = list(flat[flat['ActivityName'].str.startswith('loading')]['activity'].values)\n",
    "fig = get_gantt_chart(loading)"
   ]
  },
  {
   "cell_type": "code",
   "execution_count": 11,
   "id": "406b5d85",
   "metadata": {},
   "outputs": [
    {
     "data": {
      "image/png": "[encoded data removed]",
      "text/plain": [
       "<Figure size 1400x700 with 1 Axes>"
      ]
     },
     "metadata": {},
     "output_type": "display_data"
    }
   ],
   "source": [
    "fig = get_step_chart([from_site, to_site, *vessels.values()])"
   ]
  },
  {
   "cell_type": "markdown",
   "id": "4e7485d8",
   "metadata": {},
   "source": [
    "# Compare multiple barge scenarios"
   ]
  },
  {
   "cell_type": "code",
   "execution_count": 13,
   "id": "a7def889",
   "metadata": {},
   "outputs": [],
   "source": [
    "def occupancy_analysis(vessels, cutter, activities, vessel_cost):\n",
    "    data = []\n",
    "    duration_theory_cutter = 0\n",
    "    nr_trips_cutter = 0\n",
    "\n",
    "# barges\n",
    "    \n",
    "    for i, vessel_name in enumerate(vessels):\n",
    "        if vessel_name!=cutter_name:\n",
    "            vessel = vessels[vessel_name]\n",
    "            activity = activities[f'activity{i}']\n",
    "\n",
    "            log = pd.DataFrame(vessel.log)\n",
    "            sub_act = activity.sub_processes[0].sub_processes[-1] # last phase of SequentialActivity ..\n",
    "            nr_trips = len(log[(log.ActivityID == sub_act.id) & (log.ActivityState == \"STOP\")]) # .. ended\n",
    "            nr_trips_cutter += nr_trips\n",
    "\n",
    "            duration_theory = 0\n",
    "            for sub_act in activity.sub_processes[0].sub_processes:\n",
    "                duration_theory+=sub_act.duration\n",
    "                if hasattr(sub_act,'processor'):\n",
    "                    if sub_act.processor.name==cutter_name:\n",
    "                        duration_theory_cutter += sub_act.duration*nr_trips\n",
    "\n",
    "            duration_actual = (log.Timestamp.max() - log.Timestamp.min()).total_seconds()\n",
    "            data.append({\n",
    "                'name':vessel.name, \n",
    "                '# trips':nr_trips, \n",
    "                'start': log.Timestamp.min(),\n",
    "                'finish': log.Timestamp.max(),\n",
    "                'duration actual': duration_actual,\n",
    "                'cost':duration_actual*vessel_cost[vessel_name]/3600/24,\n",
    "                'production actual':(nr_trips * sub_act.amount) / (duration_actual),\n",
    "                'production theory': (sub_act.amount / (duration_theory)),\n",
    "            })\n",
    "\n",
    "# cutter\n",
    "    \n",
    "    log = pd.DataFrame(cutter.log)\n",
    "    duration_actual_cutter = (log.Timestamp.max() - log.Timestamp.min()).total_seconds()\n",
    "    data.append({\n",
    "        'name':cutter_name, \n",
    "        '# trips':nr_trips_cutter, \n",
    "        'start': log.Timestamp.min(),\n",
    "        'finish': log.Timestamp.max(),\n",
    "        'duration actual': duration_actual_cutter,\n",
    "        'cost':duration_actual_cutter*vessel_cost[cutter_name]/3600/24,\n",
    "        'production actual':(total_amount) / (duration_actual_cutter),\n",
    "        'production theory':(total_amount) / (duration_theory_cutter),\n",
    "    })\n",
    "\n",
    "    df = pd.DataFrame(data).sort_values(by=['production actual'],ascending=False)\n",
    "    df['occupancy [%]'] = [round(x,1) for x in 100*df['production actual']/df['production theory']]\n",
    "    df.set_index('name', inplace=True)\n",
    "    \n",
    "    print(f'Occupancy \"{cutter_name}\":', df.loc[cutter_name]['occupancy [%]'],'% Total cost',round(df['cost'].sum(),0))\n",
    "    \n",
    "    return df"
   ]
  },
  {
   "cell_type": "code",
   "execution_count": 16,
   "id": "eeb88b8d",
   "metadata": {},
   "outputs": [
    {
     "name": "stdout",
     "output_type": "stream",
     "text": [
      "Occupancy \"Cutter T\": 41.5 % Total cost 52769.0\n"
     ]
    },
    {
     "data": {
      "text/html": [
       "<div>\n",
       "<style scoped>\n",
       "    .dataframe tbody tr th:only-of-type {\n",
       "        vertical-align: middle;\n",
       "    }\n",
       "\n",
       "    .dataframe tbody tr th {\n",
       "        vertical-align: top;\n",
       "    }\n",
       "\n",
       "    .dataframe thead th {\n",
       "        text-align: right;\n",
       "    }\n",
       "</style>\n",
       "<table border=\"1\" class=\"dataframe\">\n",
       "  <thead>\n",
       "    <tr style=\"text-align: right;\">\n",
       "      <th></th>\n",
       "      <th># trips</th>\n",
       "      <th>start</th>\n",
       "      <th>finish</th>\n",
       "      <th>duration actual</th>\n",
       "      <th>cost</th>\n",
       "      <th>production actual</th>\n",
       "      <th>production theory</th>\n",
       "      <th>occupancy [%]</th>\n",
       "    </tr>\n",
       "    <tr>\n",
       "      <th>name</th>\n",
       "      <th></th>\n",
       "      <th></th>\n",
       "      <th></th>\n",
       "      <th></th>\n",
       "      <th></th>\n",
       "      <th></th>\n",
       "      <th></th>\n",
       "      <th></th>\n",
       "    </tr>\n",
       "  </thead>\n",
       "  <tbody>\n",
       "    <tr>\n",
       "      <th>Cutter T</th>\n",
       "      <td>20</td>\n",
       "      <td>1970-01-01 01:24:46</td>\n",
       "      <td>1970-01-02 10:54:06</td>\n",
       "      <td>120560.0</td>\n",
       "      <td>34884.259259</td>\n",
       "      <td>0.000829</td>\n",
       "      <td>0.002000</td>\n",
       "      <td>41.5</td>\n",
       "    </tr>\n",
       "    <tr>\n",
       "      <th>Carrier A</th>\n",
       "      <td>10</td>\n",
       "      <td>1970-01-01 00:00:00</td>\n",
       "      <td>1970-01-02 11:12:00</td>\n",
       "      <td>126720.0</td>\n",
       "      <td>8800.000000</td>\n",
       "      <td>0.000395</td>\n",
       "      <td>0.000395</td>\n",
       "      <td>100.0</td>\n",
       "    </tr>\n",
       "    <tr>\n",
       "      <th>Carrier B</th>\n",
       "      <td>10</td>\n",
       "      <td>1970-01-01 00:00:00</td>\n",
       "      <td>1970-01-02 12:20:16</td>\n",
       "      <td>130816.0</td>\n",
       "      <td>9084.444444</td>\n",
       "      <td>0.000382</td>\n",
       "      <td>0.000389</td>\n",
       "      <td>98.2</td>\n",
       "    </tr>\n",
       "  </tbody>\n",
       "</table>\n",
       "</div>"
      ],
      "text/plain": [
       "           # trips               start              finish  duration actual  \\\n",
       "name                                                                          \n",
       "Cutter T        20 1970-01-01 01:24:46 1970-01-02 10:54:06         120560.0   \n",
       "Carrier A       10 1970-01-01 00:00:00 1970-01-02 11:12:00         126720.0   \n",
       "Carrier B       10 1970-01-01 00:00:00 1970-01-02 12:20:16         130816.0   \n",
       "\n",
       "                   cost  production actual  production theory  occupancy [%]  \n",
       "name                                                                          \n",
       "Cutter T   34884.259259           0.000829           0.002000           41.5  \n",
       "Carrier A   8800.000000           0.000395           0.000395          100.0  \n",
       "Carrier B   9084.444444           0.000382           0.000389           98.2  "
      ]
     },
     "metadata": {},
     "output_type": "display_data"
    },
    {
     "name": "stdout",
     "output_type": "stream",
     "text": [
      "Occupancy \"Cutter T\": 47.4 % Total cost 53778.0\n"
     ]
    },
    {
     "data": {
      "text/html": [
       "<div>\n",
       "<style scoped>\n",
       "    .dataframe tbody tr th:only-of-type {\n",
       "        vertical-align: middle;\n",
       "    }\n",
       "\n",
       "    .dataframe tbody tr th {\n",
       "        vertical-align: top;\n",
       "    }\n",
       "\n",
       "    .dataframe thead th {\n",
       "        text-align: right;\n",
       "    }\n",
       "</style>\n",
       "<table border=\"1\" class=\"dataframe\">\n",
       "  <thead>\n",
       "    <tr style=\"text-align: right;\">\n",
       "      <th></th>\n",
       "      <th># trips</th>\n",
       "      <th>start</th>\n",
       "      <th>finish</th>\n",
       "      <th>duration actual</th>\n",
       "      <th>cost</th>\n",
       "      <th>production actual</th>\n",
       "      <th>production theory</th>\n",
       "      <th>occupancy [%]</th>\n",
       "    </tr>\n",
       "    <tr>\n",
       "      <th>name</th>\n",
       "      <th></th>\n",
       "      <th></th>\n",
       "      <th></th>\n",
       "      <th></th>\n",
       "      <th></th>\n",
       "      <th></th>\n",
       "      <th></th>\n",
       "      <th></th>\n",
       "    </tr>\n",
       "  </thead>\n",
       "  <tbody>\n",
       "    <tr>\n",
       "      <th>Cutter T</th>\n",
       "      <td>25</td>\n",
       "      <td>1970-01-01 01:19:32</td>\n",
       "      <td>1970-01-02 06:36:36</td>\n",
       "      <td>105424.0</td>\n",
       "      <td>30504.629630</td>\n",
       "      <td>0.000949</td>\n",
       "      <td>0.002000</td>\n",
       "      <td>47.4</td>\n",
       "    </tr>\n",
       "    <tr>\n",
       "      <th>Carrier A</th>\n",
       "      <td>9</td>\n",
       "      <td>1970-01-01 00:00:00</td>\n",
       "      <td>1970-01-02 05:41:32</td>\n",
       "      <td>106892.0</td>\n",
       "      <td>7423.055556</td>\n",
       "      <td>0.000337</td>\n",
       "      <td>0.000347</td>\n",
       "      <td>97.2</td>\n",
       "    </tr>\n",
       "    <tr>\n",
       "      <th>Carrier B</th>\n",
       "      <td>8</td>\n",
       "      <td>1970-01-01 00:00:00</td>\n",
       "      <td>1970-01-02 07:07:34</td>\n",
       "      <td>112054.0</td>\n",
       "      <td>7781.527778</td>\n",
       "      <td>0.000286</td>\n",
       "      <td>0.000293</td>\n",
       "      <td>97.5</td>\n",
       "    </tr>\n",
       "    <tr>\n",
       "      <th>Carrier C</th>\n",
       "      <td>8</td>\n",
       "      <td>1970-01-01 00:00:00</td>\n",
       "      <td>1970-01-02 08:16:26</td>\n",
       "      <td>116186.0</td>\n",
       "      <td>8068.472222</td>\n",
       "      <td>0.000275</td>\n",
       "      <td>0.000286</td>\n",
       "      <td>96.3</td>\n",
       "    </tr>\n",
       "  </tbody>\n",
       "</table>\n",
       "</div>"
      ],
      "text/plain": [
       "           # trips               start              finish  duration actual  \\\n",
       "name                                                                          \n",
       "Cutter T        25 1970-01-01 01:19:32 1970-01-02 06:36:36         105424.0   \n",
       "Carrier A        9 1970-01-01 00:00:00 1970-01-02 05:41:32         106892.0   \n",
       "Carrier B        8 1970-01-01 00:00:00 1970-01-02 07:07:34         112054.0   \n",
       "Carrier C        8 1970-01-01 00:00:00 1970-01-02 08:16:26         116186.0   \n",
       "\n",
       "                   cost  production actual  production theory  occupancy [%]  \n",
       "name                                                                          \n",
       "Cutter T   30504.629630           0.000949           0.002000           47.4  \n",
       "Carrier A   7423.055556           0.000337           0.000347           97.2  \n",
       "Carrier B   7781.527778           0.000286           0.000293           97.5  \n",
       "Carrier C   8068.472222           0.000275           0.000286           96.3  "
      ]
     },
     "metadata": {},
     "output_type": "display_data"
    },
    {
     "name": "stdout",
     "output_type": "stream",
     "text": [
      "Occupancy \"Cutter T\": 73.9 % Total cost 40586.0\n"
     ]
    },
    {
     "data": {
      "text/html": [
       "<div>\n",
       "<style scoped>\n",
       "    .dataframe tbody tr th:only-of-type {\n",
       "        vertical-align: middle;\n",
       "    }\n",
       "\n",
       "    .dataframe tbody tr th {\n",
       "        vertical-align: top;\n",
       "    }\n",
       "\n",
       "    .dataframe thead th {\n",
       "        text-align: right;\n",
       "    }\n",
       "</style>\n",
       "<table border=\"1\" class=\"dataframe\">\n",
       "  <thead>\n",
       "    <tr style=\"text-align: right;\">\n",
       "      <th></th>\n",
       "      <th># trips</th>\n",
       "      <th>start</th>\n",
       "      <th>finish</th>\n",
       "      <th>duration actual</th>\n",
       "      <th>cost</th>\n",
       "      <th>production actual</th>\n",
       "      <th>production theory</th>\n",
       "      <th>occupancy [%]</th>\n",
       "    </tr>\n",
       "    <tr>\n",
       "      <th>name</th>\n",
       "      <th></th>\n",
       "      <th></th>\n",
       "      <th></th>\n",
       "      <th></th>\n",
       "      <th></th>\n",
       "      <th></th>\n",
       "      <th></th>\n",
       "      <th></th>\n",
       "    </tr>\n",
       "  </thead>\n",
       "  <tbody>\n",
       "    <tr>\n",
       "      <th>Cutter T</th>\n",
       "      <td>23</td>\n",
       "      <td>1970-01-01 01:11:44</td>\n",
       "      <td>1970-01-01 20:44:24</td>\n",
       "      <td>70360.0</td>\n",
       "      <td>20358.796296</td>\n",
       "      <td>0.001421</td>\n",
       "      <td>0.001923</td>\n",
       "      <td>73.9</td>\n",
       "    </tr>\n",
       "    <tr>\n",
       "      <th>Carrier B</th>\n",
       "      <td>7</td>\n",
       "      <td>1970-01-01 00:00:00</td>\n",
       "      <td>1970-01-01 21:56:08</td>\n",
       "      <td>78968.0</td>\n",
       "      <td>5483.888889</td>\n",
       "      <td>0.000443</td>\n",
       "      <td>0.000450</td>\n",
       "      <td>98.5</td>\n",
       "    </tr>\n",
       "    <tr>\n",
       "      <th>Carrier A</th>\n",
       "      <td>6</td>\n",
       "      <td>1970-01-01 00:00:00</td>\n",
       "      <td>1970-01-01 19:53:20</td>\n",
       "      <td>71600.0</td>\n",
       "      <td>4972.222222</td>\n",
       "      <td>0.000335</td>\n",
       "      <td>0.000376</td>\n",
       "      <td>89.1</td>\n",
       "    </tr>\n",
       "    <tr>\n",
       "      <th>Barge I</th>\n",
       "      <td>5</td>\n",
       "      <td>1970-01-01 00:00:00</td>\n",
       "      <td>1970-01-01 20:55:44</td>\n",
       "      <td>75344.0</td>\n",
       "      <td>4360.185185</td>\n",
       "      <td>0.000332</td>\n",
       "      <td>0.000367</td>\n",
       "      <td>90.4</td>\n",
       "    </tr>\n",
       "    <tr>\n",
       "      <th>Carrier C</th>\n",
       "      <td>5</td>\n",
       "      <td>1970-01-01 00:00:00</td>\n",
       "      <td>1970-01-01 21:38:40</td>\n",
       "      <td>77920.0</td>\n",
       "      <td>5411.111111</td>\n",
       "      <td>0.000257</td>\n",
       "      <td>0.000296</td>\n",
       "      <td>86.7</td>\n",
       "    </tr>\n",
       "  </tbody>\n",
       "</table>\n",
       "</div>"
      ],
      "text/plain": [
       "           # trips               start              finish  duration actual  \\\n",
       "name                                                                          \n",
       "Cutter T        23 1970-01-01 01:11:44 1970-01-01 20:44:24          70360.0   \n",
       "Carrier B        7 1970-01-01 00:00:00 1970-01-01 21:56:08          78968.0   \n",
       "Carrier A        6 1970-01-01 00:00:00 1970-01-01 19:53:20          71600.0   \n",
       "Barge I          5 1970-01-01 00:00:00 1970-01-01 20:55:44          75344.0   \n",
       "Carrier C        5 1970-01-01 00:00:00 1970-01-01 21:38:40          77920.0   \n",
       "\n",
       "                   cost  production actual  production theory  occupancy [%]  \n",
       "name                                                                          \n",
       "Cutter T   20358.796296           0.001421           0.001923           73.9  \n",
       "Carrier B   5483.888889           0.000443           0.000450           98.5  \n",
       "Carrier A   4972.222222           0.000335           0.000376           89.1  \n",
       "Barge I     4360.185185           0.000332           0.000367           90.4  \n",
       "Carrier C   5411.111111           0.000257           0.000296           86.7  "
      ]
     },
     "metadata": {},
     "output_type": "display_data"
    },
    {
     "name": "stdout",
     "output_type": "stream",
     "text": [
      "Occupancy \"Cutter T\": 82.6 % Total cost 39201.0\n"
     ]
    },
    {
     "data": {
      "text/html": [
       "<div>\n",
       "<style scoped>\n",
       "    .dataframe tbody tr th:only-of-type {\n",
       "        vertical-align: middle;\n",
       "    }\n",
       "\n",
       "    .dataframe tbody tr th {\n",
       "        vertical-align: top;\n",
       "    }\n",
       "\n",
       "    .dataframe thead th {\n",
       "        text-align: right;\n",
       "    }\n",
       "</style>\n",
       "<table border=\"1\" class=\"dataframe\">\n",
       "  <thead>\n",
       "    <tr style=\"text-align: right;\">\n",
       "      <th></th>\n",
       "      <th># trips</th>\n",
       "      <th>start</th>\n",
       "      <th>finish</th>\n",
       "      <th>duration actual</th>\n",
       "      <th>cost</th>\n",
       "      <th>production actual</th>\n",
       "      <th>production theory</th>\n",
       "      <th>occupancy [%]</th>\n",
       "    </tr>\n",
       "    <tr>\n",
       "      <th>name</th>\n",
       "      <th></th>\n",
       "      <th></th>\n",
       "      <th></th>\n",
       "      <th></th>\n",
       "      <th></th>\n",
       "      <th></th>\n",
       "      <th></th>\n",
       "      <th></th>\n",
       "    </tr>\n",
       "  </thead>\n",
       "  <tbody>\n",
       "    <tr>\n",
       "      <th>Cutter T</th>\n",
       "      <td>23</td>\n",
       "      <td>1970-01-01 01:23:30</td>\n",
       "      <td>1970-01-01 18:32:10</td>\n",
       "      <td>61720.0</td>\n",
       "      <td>17858.796296</td>\n",
       "      <td>0.001620</td>\n",
       "      <td>0.001961</td>\n",
       "      <td>82.6</td>\n",
       "    </tr>\n",
       "    <tr>\n",
       "      <th>Carrier A</th>\n",
       "      <td>5</td>\n",
       "      <td>1970-01-01 00:00:00</td>\n",
       "      <td>1970-01-01 18:05:12</td>\n",
       "      <td>65112.0</td>\n",
       "      <td>4521.666667</td>\n",
       "      <td>0.000384</td>\n",
       "      <td>0.000399</td>\n",
       "      <td>96.1</td>\n",
       "    </tr>\n",
       "    <tr>\n",
       "      <th>Carrier B</th>\n",
       "      <td>5</td>\n",
       "      <td>1970-01-01 00:00:00</td>\n",
       "      <td>1970-01-01 20:05:20</td>\n",
       "      <td>72320.0</td>\n",
       "      <td>5022.222222</td>\n",
       "      <td>0.000346</td>\n",
       "      <td>0.000365</td>\n",
       "      <td>94.6</td>\n",
       "    </tr>\n",
       "    <tr>\n",
       "      <th>Barge II</th>\n",
       "      <td>5</td>\n",
       "      <td>1970-01-01 00:00:00</td>\n",
       "      <td>1970-01-01 18:42:50</td>\n",
       "      <td>67370.0</td>\n",
       "      <td>3898.726852</td>\n",
       "      <td>0.000297</td>\n",
       "      <td>0.000319</td>\n",
       "      <td>93.0</td>\n",
       "    </tr>\n",
       "    <tr>\n",
       "      <th>Carrier C</th>\n",
       "      <td>4</td>\n",
       "      <td>1970-01-01 00:00:00</td>\n",
       "      <td>1970-01-01 16:53:28</td>\n",
       "      <td>60808.0</td>\n",
       "      <td>4222.777778</td>\n",
       "      <td>0.000263</td>\n",
       "      <td>0.000296</td>\n",
       "      <td>88.9</td>\n",
       "    </tr>\n",
       "    <tr>\n",
       "      <th>Barge I</th>\n",
       "      <td>4</td>\n",
       "      <td>1970-01-01 00:00:00</td>\n",
       "      <td>1970-01-01 17:38:54</td>\n",
       "      <td>63534.0</td>\n",
       "      <td>3676.736111</td>\n",
       "      <td>0.000252</td>\n",
       "      <td>0.000289</td>\n",
       "      <td>87.3</td>\n",
       "    </tr>\n",
       "  </tbody>\n",
       "</table>\n",
       "</div>"
      ],
      "text/plain": [
       "           # trips               start              finish  duration actual  \\\n",
       "name                                                                          \n",
       "Cutter T        23 1970-01-01 01:23:30 1970-01-01 18:32:10          61720.0   \n",
       "Carrier A        5 1970-01-01 00:00:00 1970-01-01 18:05:12          65112.0   \n",
       "Carrier B        5 1970-01-01 00:00:00 1970-01-01 20:05:20          72320.0   \n",
       "Barge II         5 1970-01-01 00:00:00 1970-01-01 18:42:50          67370.0   \n",
       "Carrier C        4 1970-01-01 00:00:00 1970-01-01 16:53:28          60808.0   \n",
       "Barge I          4 1970-01-01 00:00:00 1970-01-01 17:38:54          63534.0   \n",
       "\n",
       "                   cost  production actual  production theory  occupancy [%]  \n",
       "name                                                                          \n",
       "Cutter T   17858.796296           0.001620           0.001961           82.6  \n",
       "Carrier A   4521.666667           0.000384           0.000399           96.1  \n",
       "Carrier B   5022.222222           0.000346           0.000365           94.6  \n",
       "Barge II    3898.726852           0.000297           0.000319           93.0  \n",
       "Carrier C   4222.777778           0.000263           0.000296           88.9  \n",
       "Barge I     3676.736111           0.000252           0.000289           87.3  "
      ]
     },
     "metadata": {},
     "output_type": "display_data"
    },
    {
     "name": "stdout",
     "output_type": "stream",
     "text": [
      "Occupancy \"Cutter T\": 100.0 % Total cost 35820.0\n"
     ]
    },
    {
     "data": {
      "text/html": [
       "<div>\n",
       "<style scoped>\n",
       "    .dataframe tbody tr th:only-of-type {\n",
       "        vertical-align: middle;\n",
       "    }\n",
       "\n",
       "    .dataframe tbody tr th {\n",
       "        vertical-align: top;\n",
       "    }\n",
       "\n",
       "    .dataframe thead th {\n",
       "        text-align: right;\n",
       "    }\n",
       "</style>\n",
       "<table border=\"1\" class=\"dataframe\">\n",
       "  <thead>\n",
       "    <tr style=\"text-align: right;\">\n",
       "      <th></th>\n",
       "      <th># trips</th>\n",
       "      <th>start</th>\n",
       "      <th>finish</th>\n",
       "      <th>duration actual</th>\n",
       "      <th>cost</th>\n",
       "      <th>production actual</th>\n",
       "      <th>production theory</th>\n",
       "      <th>occupancy [%]</th>\n",
       "    </tr>\n",
       "    <tr>\n",
       "      <th>name</th>\n",
       "      <th></th>\n",
       "      <th></th>\n",
       "      <th></th>\n",
       "      <th></th>\n",
       "      <th></th>\n",
       "      <th></th>\n",
       "      <th></th>\n",
       "      <th></th>\n",
       "    </tr>\n",
       "  </thead>\n",
       "  <tbody>\n",
       "    <tr>\n",
       "      <th>Cutter T</th>\n",
       "      <td>22</td>\n",
       "      <td>1970-01-01 01:06:56</td>\n",
       "      <td>1970-01-01 15:25:16</td>\n",
       "      <td>51500.0</td>\n",
       "      <td>14901.620370</td>\n",
       "      <td>0.001942</td>\n",
       "      <td>0.001942</td>\n",
       "      <td>100.0</td>\n",
       "    </tr>\n",
       "    <tr>\n",
       "      <th>Carrier C</th>\n",
       "      <td>4</td>\n",
       "      <td>1970-01-01 00:00:00</td>\n",
       "      <td>1970-01-01 13:20:32</td>\n",
       "      <td>48032.0</td>\n",
       "      <td>3335.555556</td>\n",
       "      <td>0.000416</td>\n",
       "      <td>0.000475</td>\n",
       "      <td>87.7</td>\n",
       "    </tr>\n",
       "    <tr>\n",
       "      <th>Barge II</th>\n",
       "      <td>4</td>\n",
       "      <td>1970-01-01 00:00:00</td>\n",
       "      <td>1970-01-01 14:45:18</td>\n",
       "      <td>53118.0</td>\n",
       "      <td>3073.958333</td>\n",
       "      <td>0.000377</td>\n",
       "      <td>0.000467</td>\n",
       "      <td>80.6</td>\n",
       "    </tr>\n",
       "    <tr>\n",
       "      <th>Carrier B</th>\n",
       "      <td>4</td>\n",
       "      <td>1970-01-01 00:00:00</td>\n",
       "      <td>1970-01-01 16:50:46</td>\n",
       "      <td>60646.0</td>\n",
       "      <td>4211.527778</td>\n",
       "      <td>0.000330</td>\n",
       "      <td>0.000392</td>\n",
       "      <td>84.2</td>\n",
       "    </tr>\n",
       "    <tr>\n",
       "      <th>Barge I</th>\n",
       "      <td>3</td>\n",
       "      <td>1970-01-01 00:00:00</td>\n",
       "      <td>1970-01-01 14:28:16</td>\n",
       "      <td>52096.0</td>\n",
       "      <td>3014.814815</td>\n",
       "      <td>0.000288</td>\n",
       "      <td>0.000366</td>\n",
       "      <td>78.7</td>\n",
       "    </tr>\n",
       "    <tr>\n",
       "      <th>Barge III</th>\n",
       "      <td>4</td>\n",
       "      <td>1970-01-01 00:00:00</td>\n",
       "      <td>1970-01-01 15:57:46</td>\n",
       "      <td>57466.0</td>\n",
       "      <td>3325.578704</td>\n",
       "      <td>0.000278</td>\n",
       "      <td>0.000367</td>\n",
       "      <td>75.9</td>\n",
       "    </tr>\n",
       "    <tr>\n",
       "      <th>Carrier A</th>\n",
       "      <td>3</td>\n",
       "      <td>1970-01-01 00:00:00</td>\n",
       "      <td>1970-01-01 15:49:38</td>\n",
       "      <td>56978.0</td>\n",
       "      <td>3956.805556</td>\n",
       "      <td>0.000211</td>\n",
       "      <td>0.000287</td>\n",
       "      <td>73.3</td>\n",
       "    </tr>\n",
       "  </tbody>\n",
       "</table>\n",
       "</div>"
      ],
      "text/plain": [
       "           # trips               start              finish  duration actual  \\\n",
       "name                                                                          \n",
       "Cutter T        22 1970-01-01 01:06:56 1970-01-01 15:25:16          51500.0   \n",
       "Carrier C        4 1970-01-01 00:00:00 1970-01-01 13:20:32          48032.0   \n",
       "Barge II         4 1970-01-01 00:00:00 1970-01-01 14:45:18          53118.0   \n",
       "Carrier B        4 1970-01-01 00:00:00 1970-01-01 16:50:46          60646.0   \n",
       "Barge I          3 1970-01-01 00:00:00 1970-01-01 14:28:16          52096.0   \n",
       "Barge III        4 1970-01-01 00:00:00 1970-01-01 15:57:46          57466.0   \n",
       "Carrier A        3 1970-01-01 00:00:00 1970-01-01 15:49:38          56978.0   \n",
       "\n",
       "                   cost  production actual  production theory  occupancy [%]  \n",
       "name                                                                          \n",
       "Cutter T   14901.620370           0.001942           0.001942          100.0  \n",
       "Carrier C   3335.555556           0.000416           0.000475           87.7  \n",
       "Barge II    3073.958333           0.000377           0.000467           80.6  \n",
       "Carrier B   4211.527778           0.000330           0.000392           84.2  \n",
       "Barge I     3014.814815           0.000288           0.000366           78.7  \n",
       "Barge III   3325.578704           0.000278           0.000367           75.9  \n",
       "Carrier A   3956.805556           0.000211           0.000287           73.3  "
      ]
     },
     "metadata": {},
     "output_type": "display_data"
    },
    {
     "name": "stdout",
     "output_type": "stream",
     "text": [
      "Occupancy \"Cutter T\": 100.0 % Total cost 37700.0\n"
     ]
    },
    {
     "data": {
      "text/html": [
       "<div>\n",
       "<style scoped>\n",
       "    .dataframe tbody tr th:only-of-type {\n",
       "        vertical-align: middle;\n",
       "    }\n",
       "\n",
       "    .dataframe tbody tr th {\n",
       "        vertical-align: top;\n",
       "    }\n",
       "\n",
       "    .dataframe thead th {\n",
       "        text-align: right;\n",
       "    }\n",
       "</style>\n",
       "<table border=\"1\" class=\"dataframe\">\n",
       "  <thead>\n",
       "    <tr style=\"text-align: right;\">\n",
       "      <th></th>\n",
       "      <th># trips</th>\n",
       "      <th>start</th>\n",
       "      <th>finish</th>\n",
       "      <th>duration actual</th>\n",
       "      <th>cost</th>\n",
       "      <th>production actual</th>\n",
       "      <th>production theory</th>\n",
       "      <th>occupancy [%]</th>\n",
       "    </tr>\n",
       "    <tr>\n",
       "      <th>name</th>\n",
       "      <th></th>\n",
       "      <th></th>\n",
       "      <th></th>\n",
       "      <th></th>\n",
       "      <th></th>\n",
       "      <th></th>\n",
       "      <th></th>\n",
       "      <th></th>\n",
       "    </tr>\n",
       "  </thead>\n",
       "  <tbody>\n",
       "    <tr>\n",
       "      <th>Cutter T</th>\n",
       "      <td>23</td>\n",
       "      <td>1970-01-01 01:12:34</td>\n",
       "      <td>1970-01-01 15:14:14</td>\n",
       "      <td>50500.0</td>\n",
       "      <td>14612.268519</td>\n",
       "      <td>0.001980</td>\n",
       "      <td>0.001980</td>\n",
       "      <td>100.0</td>\n",
       "    </tr>\n",
       "    <tr>\n",
       "      <th>Barge II</th>\n",
       "      <td>3</td>\n",
       "      <td>1970-01-01 00:00:00</td>\n",
       "      <td>1970-01-01 13:02:16</td>\n",
       "      <td>46936.0</td>\n",
       "      <td>2716.203704</td>\n",
       "      <td>0.000320</td>\n",
       "      <td>0.000395</td>\n",
       "      <td>80.9</td>\n",
       "    </tr>\n",
       "    <tr>\n",
       "      <th>Carrier C</th>\n",
       "      <td>4</td>\n",
       "      <td>1970-01-01 00:00:00</td>\n",
       "      <td>1970-01-01 14:38:28</td>\n",
       "      <td>52708.0</td>\n",
       "      <td>3660.277778</td>\n",
       "      <td>0.000304</td>\n",
       "      <td>0.000374</td>\n",
       "      <td>81.3</td>\n",
       "    </tr>\n",
       "    <tr>\n",
       "      <th>Barge I</th>\n",
       "      <td>3</td>\n",
       "      <td>1970-01-01 00:00:00</td>\n",
       "      <td>1970-01-01 13:44:02</td>\n",
       "      <td>49442.0</td>\n",
       "      <td>2861.226852</td>\n",
       "      <td>0.000303</td>\n",
       "      <td>0.000394</td>\n",
       "      <td>76.9</td>\n",
       "    </tr>\n",
       "    <tr>\n",
       "      <th>Carrier A</th>\n",
       "      <td>4</td>\n",
       "      <td>1970-01-01 00:00:00</td>\n",
       "      <td>1970-01-01 16:32:58</td>\n",
       "      <td>59578.0</td>\n",
       "      <td>4137.361111</td>\n",
       "      <td>0.000269</td>\n",
       "      <td>0.000349</td>\n",
       "      <td>76.9</td>\n",
       "    </tr>\n",
       "    <tr>\n",
       "      <th>Carrier B</th>\n",
       "      <td>3</td>\n",
       "      <td>1970-01-01 00:00:00</td>\n",
       "      <td>1970-01-01 16:15:32</td>\n",
       "      <td>58532.0</td>\n",
       "      <td>4064.722222</td>\n",
       "      <td>0.000256</td>\n",
       "      <td>0.000361</td>\n",
       "      <td>71.0</td>\n",
       "    </tr>\n",
       "    <tr>\n",
       "      <th>Extra 1</th>\n",
       "      <td>3</td>\n",
       "      <td>1970-01-01 00:00:00</td>\n",
       "      <td>1970-01-01 14:26:30</td>\n",
       "      <td>51990.0</td>\n",
       "      <td>2406.944444</td>\n",
       "      <td>0.000231</td>\n",
       "      <td>0.000301</td>\n",
       "      <td>76.6</td>\n",
       "    </tr>\n",
       "    <tr>\n",
       "      <th>Barge III</th>\n",
       "      <td>3</td>\n",
       "      <td>1970-01-01 00:00:00</td>\n",
       "      <td>1970-01-01 15:33:28</td>\n",
       "      <td>56008.0</td>\n",
       "      <td>3241.203704</td>\n",
       "      <td>0.000214</td>\n",
       "      <td>0.000301</td>\n",
       "      <td>71.3</td>\n",
       "    </tr>\n",
       "  </tbody>\n",
       "</table>\n",
       "</div>"
      ],
      "text/plain": [
       "           # trips               start              finish  duration actual  \\\n",
       "name                                                                          \n",
       "Cutter T        23 1970-01-01 01:12:34 1970-01-01 15:14:14          50500.0   \n",
       "Barge II         3 1970-01-01 00:00:00 1970-01-01 13:02:16          46936.0   \n",
       "Carrier C        4 1970-01-01 00:00:00 1970-01-01 14:38:28          52708.0   \n",
       "Barge I          3 1970-01-01 00:00:00 1970-01-01 13:44:02          49442.0   \n",
       "Carrier A        4 1970-01-01 00:00:00 1970-01-01 16:32:58          59578.0   \n",
       "Carrier B        3 1970-01-01 00:00:00 1970-01-01 16:15:32          58532.0   \n",
       "Extra 1          3 1970-01-01 00:00:00 1970-01-01 14:26:30          51990.0   \n",
       "Barge III        3 1970-01-01 00:00:00 1970-01-01 15:33:28          56008.0   \n",
       "\n",
       "                   cost  production actual  production theory  occupancy [%]  \n",
       "name                                                                          \n",
       "Cutter T   14612.268519           0.001980           0.001980          100.0  \n",
       "Barge II    2716.203704           0.000320           0.000395           80.9  \n",
       "Carrier C   3660.277778           0.000304           0.000374           81.3  \n",
       "Barge I     2861.226852           0.000303           0.000394           76.9  \n",
       "Carrier A   4137.361111           0.000269           0.000349           76.9  \n",
       "Carrier B   4064.722222           0.000256           0.000361           71.0  \n",
       "Extra 1     2406.944444           0.000231           0.000301           76.6  \n",
       "Barge III   3241.203704           0.000214           0.000301           71.3  "
      ]
     },
     "metadata": {},
     "output_type": "display_data"
    },
    {
     "name": "stdout",
     "output_type": "stream",
     "text": [
      "Occupancy \"Cutter T\": 100.0 % Total cost 40372.0\n"
     ]
    },
    {
     "data": {
      "text/html": [
       "<div>\n",
       "<style scoped>\n",
       "    .dataframe tbody tr th:only-of-type {\n",
       "        vertical-align: middle;\n",
       "    }\n",
       "\n",
       "    .dataframe tbody tr th {\n",
       "        vertical-align: top;\n",
       "    }\n",
       "\n",
       "    .dataframe thead th {\n",
       "        text-align: right;\n",
       "    }\n",
       "</style>\n",
       "<table border=\"1\" class=\"dataframe\">\n",
       "  <thead>\n",
       "    <tr style=\"text-align: right;\">\n",
       "      <th></th>\n",
       "      <th># trips</th>\n",
       "      <th>start</th>\n",
       "      <th>finish</th>\n",
       "      <th>duration actual</th>\n",
       "      <th>cost</th>\n",
       "      <th>production actual</th>\n",
       "      <th>production theory</th>\n",
       "      <th>occupancy [%]</th>\n",
       "    </tr>\n",
       "    <tr>\n",
       "      <th>name</th>\n",
       "      <th></th>\n",
       "      <th></th>\n",
       "      <th></th>\n",
       "      <th></th>\n",
       "      <th></th>\n",
       "      <th></th>\n",
       "      <th></th>\n",
       "      <th></th>\n",
       "    </tr>\n",
       "  </thead>\n",
       "  <tbody>\n",
       "    <tr>\n",
       "      <th>Cutter T</th>\n",
       "      <td>25</td>\n",
       "      <td>1970-01-01 01:07:48</td>\n",
       "      <td>1970-01-01 15:26:08</td>\n",
       "      <td>51500.0</td>\n",
       "      <td>14901.620370</td>\n",
       "      <td>0.001942</td>\n",
       "      <td>0.001942</td>\n",
       "      <td>100.0</td>\n",
       "    </tr>\n",
       "    <tr>\n",
       "      <th>Barge II</th>\n",
       "      <td>3</td>\n",
       "      <td>1970-01-01 00:00:00</td>\n",
       "      <td>1970-01-01 12:43:30</td>\n",
       "      <td>45810.0</td>\n",
       "      <td>2651.041667</td>\n",
       "      <td>0.000327</td>\n",
       "      <td>0.000455</td>\n",
       "      <td>71.9</td>\n",
       "    </tr>\n",
       "    <tr>\n",
       "      <th>Carrier A</th>\n",
       "      <td>4</td>\n",
       "      <td>1970-01-01 00:00:00</td>\n",
       "      <td>1970-01-01 15:27:16</td>\n",
       "      <td>55636.0</td>\n",
       "      <td>3863.611111</td>\n",
       "      <td>0.000288</td>\n",
       "      <td>0.000395</td>\n",
       "      <td>72.9</td>\n",
       "    </tr>\n",
       "    <tr>\n",
       "      <th>Barge I</th>\n",
       "      <td>3</td>\n",
       "      <td>1970-01-01 00:00:00</td>\n",
       "      <td>1970-01-01 13:19:14</td>\n",
       "      <td>47954.0</td>\n",
       "      <td>2775.115741</td>\n",
       "      <td>0.000250</td>\n",
       "      <td>0.000371</td>\n",
       "      <td>67.4</td>\n",
       "    </tr>\n",
       "    <tr>\n",
       "      <th>Carrier B</th>\n",
       "      <td>3</td>\n",
       "      <td>1970-01-01 00:00:00</td>\n",
       "      <td>1970-01-01 13:57:18</td>\n",
       "      <td>50238.0</td>\n",
       "      <td>3488.750000</td>\n",
       "      <td>0.000239</td>\n",
       "      <td>0.000353</td>\n",
       "      <td>67.7</td>\n",
       "    </tr>\n",
       "    <tr>\n",
       "      <th>Extra 1</th>\n",
       "      <td>3</td>\n",
       "      <td>1970-01-01 00:00:00</td>\n",
       "      <td>1970-01-01 14:43:58</td>\n",
       "      <td>53038.0</td>\n",
       "      <td>2455.462963</td>\n",
       "      <td>0.000226</td>\n",
       "      <td>0.000309</td>\n",
       "      <td>73.2</td>\n",
       "    </tr>\n",
       "    <tr>\n",
       "      <th>Extra 2</th>\n",
       "      <td>3</td>\n",
       "      <td>1970-01-01 00:00:00</td>\n",
       "      <td>1970-01-01 15:21:24</td>\n",
       "      <td>55284.0</td>\n",
       "      <td>2559.444444</td>\n",
       "      <td>0.000217</td>\n",
       "      <td>0.000298</td>\n",
       "      <td>72.9</td>\n",
       "    </tr>\n",
       "    <tr>\n",
       "      <th>Carrier C</th>\n",
       "      <td>3</td>\n",
       "      <td>1970-01-01 00:00:00</td>\n",
       "      <td>1970-01-01 16:29:36</td>\n",
       "      <td>59376.0</td>\n",
       "      <td>4123.333333</td>\n",
       "      <td>0.000202</td>\n",
       "      <td>0.000294</td>\n",
       "      <td>68.8</td>\n",
       "    </tr>\n",
       "    <tr>\n",
       "      <th>Barge III</th>\n",
       "      <td>3</td>\n",
       "      <td>1970-01-01 00:00:00</td>\n",
       "      <td>1970-01-01 17:03:24</td>\n",
       "      <td>61404.0</td>\n",
       "      <td>3553.472222</td>\n",
       "      <td>0.000195</td>\n",
       "      <td>0.000293</td>\n",
       "      <td>66.8</td>\n",
       "    </tr>\n",
       "  </tbody>\n",
       "</table>\n",
       "</div>"
      ],
      "text/plain": [
       "           # trips               start              finish  duration actual  \\\n",
       "name                                                                          \n",
       "Cutter T        25 1970-01-01 01:07:48 1970-01-01 15:26:08          51500.0   \n",
       "Barge II         3 1970-01-01 00:00:00 1970-01-01 12:43:30          45810.0   \n",
       "Carrier A        4 1970-01-01 00:00:00 1970-01-01 15:27:16          55636.0   \n",
       "Barge I          3 1970-01-01 00:00:00 1970-01-01 13:19:14          47954.0   \n",
       "Carrier B        3 1970-01-01 00:00:00 1970-01-01 13:57:18          50238.0   \n",
       "Extra 1          3 1970-01-01 00:00:00 1970-01-01 14:43:58          53038.0   \n",
       "Extra 2          3 1970-01-01 00:00:00 1970-01-01 15:21:24          55284.0   \n",
       "Carrier C        3 1970-01-01 00:00:00 1970-01-01 16:29:36          59376.0   \n",
       "Barge III        3 1970-01-01 00:00:00 1970-01-01 17:03:24          61404.0   \n",
       "\n",
       "                   cost  production actual  production theory  occupancy [%]  \n",
       "name                                                                          \n",
       "Cutter T   14901.620370           0.001942           0.001942          100.0  \n",
       "Barge II    2651.041667           0.000327           0.000455           71.9  \n",
       "Carrier A   3863.611111           0.000288           0.000395           72.9  \n",
       "Barge I     2775.115741           0.000250           0.000371           67.4  \n",
       "Carrier B   3488.750000           0.000239           0.000353           67.7  \n",
       "Extra 1     2455.462963           0.000226           0.000309           73.2  \n",
       "Extra 2     2559.444444           0.000217           0.000298           72.9  \n",
       "Carrier C   4123.333333           0.000202           0.000294           68.8  \n",
       "Barge III   3553.472222           0.000195           0.000293           66.8  "
      ]
     },
     "metadata": {},
     "output_type": "display_data"
    }
   ],
   "source": [
    "results = []\n",
    "occupancy = []\n",
    "cost = []\n",
    "finish, duration = [], []\n",
    "n_barges = range(2,len(barge_names)) # +1 at least 1 barge\n",
    "for i in n_barges:\n",
    "    results.append(run(i,total_amount))\n",
    "    \n",
    "    vessels = results[-1]['vessels']\n",
    "    activities = results[-1]['activities']\n",
    "    sites = results[-1]['sites']\n",
    "    \n",
    "    cutter = vessels[cutter_name]\n",
    "    \n",
    "    df = occupancy_analysis(vessels, cutter, activities,vessel_cost)\n",
    "    occupancy.append(df.loc[cutter_name]['occupancy [%]'])\n",
    "    cost.append(df['cost'].sum())\n",
    "    finish.append(df['finish'].max())\n",
    "    duration.append((df['finish'].max() - df['start'].min()).total_seconds()/3600/24)\n",
    "    display(df)"
   ]
  },
  {
   "cell_type": "code",
   "execution_count": 17,
   "id": "9e7f3cf4",
   "metadata": {},
   "outputs": [
    {
     "data": {
      "image/png": "[encoded data removed]",
      "text/plain": [
       "<Figure size 640x480 with 3 Axes>"
      ]
     },
     "metadata": {},
     "output_type": "display_data"
    }
   ],
   "source": [
    "%matplotlib inline\n",
    "import matplotlib.pyplot as plt\n",
    "\n",
    "fig = plt.figure()\n",
    "gs = fig.add_gridspec(3, hspace=0)\n",
    "axs = gs.subplots(sharex=True)\n",
    "\n",
    "\n",
    "axs[0].plot(n_barges,cost,'.-'), axs[0].set_ylabel('# cost [EUR]'),axs[0].grid();\n",
    "# axs[0].set_xlabel('# barges');\n",
    "\n",
    "axs[1].plot(n_barges,occupancy,'.-'), axs[1].set_ylabel('cutter occupancy [%]'),axs[1].grid();\n",
    "# axs[1].set_xlabel('# barges');\n",
    "axs[1].yaxis.set_label_position(\"right\")\n",
    "axs[1].yaxis.tick_right()\n",
    "\n",
    "axs[2].plot(n_barges,duration,'.-'), axs[2].set_ylabel('# time [days]'),axs[2].grid();\n",
    "\n",
    "axs[-1].set_xlabel('# barges');"
   ]
  },
  {
   "cell_type": "markdown",
   "id": "9d132a51",
   "metadata": {},
   "source": [
    "## Visualize critical path of best scneario"
   ]
  },
  {
   "cell_type": "markdown",
   "id": "70e77f68",
   "metadata": {},
   "source": [
    "For explanation of Critical Path see notebook 30"
   ]
  },
  {
   "cell_type": "code",
   "execution_count": 18,
   "id": "0f21208b",
   "metadata": {},
   "outputs": [],
   "source": [
    "from openclsim.plot.critical_path import CpLog"
   ]
  },
  {
   "cell_type": "code",
   "execution_count": 19,
   "id": "3308f0de",
   "metadata": {},
   "outputs": [
    {
     "name": "stdout",
     "output_type": "stream",
     "text": [
      "Occupancy \"Cutter T\": 100.0 % Total cost 37700.0\n"
     ]
    },
    {
     "data": {
      "text/html": [
       "        <script type=\"text/javascript\">\n",
       "        window.PlotlyConfig = {MathJaxConfig: 'local'};\n",
       "        if (window.MathJax && window.MathJax.Hub && window.MathJax.Hub.Config) {window.MathJax.Hub.Config({SVG: {font: \"STIX-Web\"}});}\n",
       "        if (typeof require !== 'undefined') {\n",
       "        require.undef(\"plotly\");\n",
       "        requirejs.config({\n",
       "            paths: {\n",
       "                'plotly': ['https://cdn.plot.ly/plotly-2.18.2.min']\n",
       "            }\n",
       "        });\n",
       "        require(['plotly'], function(Plotly) {\n",
       "            window._Plotly = Plotly;\n",
       "        });\n",
       "        }\n",
       "        </script>\n",
       "        "
      ]
     },
     "metadata": {},
     "output_type": "display_data"
    },
    {
     "data": {
      "application/vnd.plotly.v1+json": {
       "config": {
        "linkText": "Export to plot.ly",
        "plotlyServerURL": "https://plot.ly",
        "showLink": false
       },
       "data": [
        {
         "connectgaps": false,
         "hoverinfo": "name",
         "line": {
          "color": "red",
          "width": 14
         },
         "mode": "lines",
         "name": "critical_path",
         "type": "scatter",
         "x": [
          "1970-01-01T00:00:00",
          "1970-01-01T00:36:17",
          "1970-01-01T00:36:17",
          "1970-01-01T00:36:17",
          "1970-01-01T01:12:34",
          "1970-01-01T01:12:34",
          "1970-01-01T01:12:34",
          "1970-01-01T01:45:54",
          "1970-01-01T01:45:54",
          "1970-01-01T01:12:34",
          "1970-01-01T01:45:54",
          "1970-01-01T01:45:54",
          "1970-01-01T01:12:34",
          "1970-01-01T01:45:54",
          "1970-01-01T01:45:54",
          "1970-01-01T01:45:54",
          "1970-01-01T02:19:14",
          "1970-01-01T02:19:14",
          "1970-01-01T01:45:54",
          "1970-01-01T02:19:14",
          "1970-01-01T02:19:14",
          "1970-01-01T01:45:54",
          "1970-01-01T02:19:14",
          "1970-01-01T02:19:14",
          "1970-01-01T02:19:14",
          "1970-01-01T03:00:54",
          "1970-01-01T03:00:54",
          "1970-01-01T02:19:14",
          "1970-01-01T03:00:54",
          "1970-01-01T03:00:54",
          "1970-01-01T02:19:14",
          "1970-01-01T03:00:54",
          "1970-01-01T03:00:54",
          "1970-01-01T03:00:54",
          "1970-01-01T03:42:34",
          "1970-01-01T03:42:34",
          "1970-01-01T03:00:54",
          "1970-01-01T03:42:34",
          "1970-01-01T03:42:34",
          "1970-01-01T03:00:54",
          "1970-01-01T03:42:34",
          "1970-01-01T03:42:34",
          "1970-01-01T03:42:34",
          "1970-01-01T04:15:54",
          "1970-01-01T04:15:54",
          "1970-01-01T03:42:34",
          "1970-01-01T04:15:54",
          "1970-01-01T04:15:54",
          "1970-01-01T03:42:34",
          "1970-01-01T04:15:54",
          "1970-01-01T04:15:54",
          "1970-01-01T04:15:54",
          "1970-01-01T04:49:14",
          "1970-01-01T04:49:14",
          "1970-01-01T04:15:54",
          "1970-01-01T04:49:14",
          "1970-01-01T04:49:14",
          "1970-01-01T04:15:54",
          "1970-01-01T04:49:14",
          "1970-01-01T04:49:14",
          "1970-01-01T04:49:14",
          "1970-01-01T05:30:54",
          "1970-01-01T05:30:54",
          "1970-01-01T04:49:14",
          "1970-01-01T05:30:54",
          "1970-01-01T05:30:54",
          "1970-01-01T04:49:14",
          "1970-01-01T05:30:54",
          "1970-01-01T05:30:54",
          "1970-01-01T05:30:54",
          "1970-01-01T06:04:14",
          "1970-01-01T06:04:14",
          "1970-01-01T05:30:54",
          "1970-01-01T06:04:14",
          "1970-01-01T06:04:14",
          "1970-01-01T05:30:54",
          "1970-01-01T06:04:14",
          "1970-01-01T06:04:14",
          "1970-01-01T06:04:14",
          "1970-01-01T06:37:34",
          "1970-01-01T06:37:34",
          "1970-01-01T06:04:14",
          "1970-01-01T06:37:34",
          "1970-01-01T06:37:34",
          "1970-01-01T06:04:14",
          "1970-01-01T06:37:34",
          "1970-01-01T06:37:34",
          "1970-01-01T06:37:34",
          "1970-01-01T07:19:14",
          "1970-01-01T07:19:14",
          "1970-01-01T06:37:34",
          "1970-01-01T07:19:14",
          "1970-01-01T07:19:14",
          "1970-01-01T06:37:34",
          "1970-01-01T07:19:14",
          "1970-01-01T07:19:14",
          "1970-01-01T07:19:14",
          "1970-01-01T08:00:54",
          "1970-01-01T08:00:54",
          "1970-01-01T07:19:14",
          "1970-01-01T08:00:54",
          "1970-01-01T08:00:54",
          "1970-01-01T07:19:14",
          "1970-01-01T08:00:54",
          "1970-01-01T08:00:54",
          "1970-01-01T08:00:54",
          "1970-01-01T08:34:14",
          "1970-01-01T08:34:14",
          "1970-01-01T08:00:54",
          "1970-01-01T08:34:14",
          "1970-01-01T08:34:14",
          "1970-01-01T08:00:54",
          "1970-01-01T08:34:14",
          "1970-01-01T08:34:14",
          "1970-01-01T08:34:14",
          "1970-01-01T09:07:34",
          "1970-01-01T09:07:34",
          "1970-01-01T08:34:14",
          "1970-01-01T09:07:34",
          "1970-01-01T09:07:34",
          "1970-01-01T08:34:14",
          "1970-01-01T09:07:34",
          "1970-01-01T09:07:34",
          "1970-01-01T09:07:34",
          "1970-01-01T09:40:54",
          "1970-01-01T09:40:54",
          "1970-01-01T09:07:34",
          "1970-01-01T09:40:54",
          "1970-01-01T09:40:54",
          "1970-01-01T09:07:34",
          "1970-01-01T09:40:54",
          "1970-01-01T09:40:54",
          "1970-01-01T09:40:54",
          "1970-01-01T10:22:34",
          "1970-01-01T10:22:34",
          "1970-01-01T09:40:54",
          "1970-01-01T10:22:34",
          "1970-01-01T10:22:34",
          "1970-01-01T09:40:54",
          "1970-01-01T10:22:34",
          "1970-01-01T10:22:34",
          "1970-01-01T10:22:34",
          "1970-01-01T10:55:54",
          "1970-01-01T10:55:54",
          "1970-01-01T10:22:34",
          "1970-01-01T10:55:54",
          "1970-01-01T10:55:54",
          "1970-01-01T10:22:34",
          "1970-01-01T10:55:54",
          "1970-01-01T10:55:54",
          "1970-01-01T10:55:54",
          "1970-01-01T11:37:34",
          "1970-01-01T11:37:34",
          "1970-01-01T10:55:54",
          "1970-01-01T11:37:34",
          "1970-01-01T11:37:34",
          "1970-01-01T10:55:54",
          "1970-01-01T11:37:34",
          "1970-01-01T11:37:34",
          "1970-01-01T11:37:34",
          "1970-01-01T12:19:14",
          "1970-01-01T12:19:14",
          "1970-01-01T11:37:34",
          "1970-01-01T12:19:14",
          "1970-01-01T12:19:14",
          "1970-01-01T11:37:34",
          "1970-01-01T12:19:14",
          "1970-01-01T12:19:14",
          "1970-01-01T12:19:14",
          "1970-01-01T12:52:34",
          "1970-01-01T12:52:34",
          "1970-01-01T12:19:14",
          "1970-01-01T12:52:34",
          "1970-01-01T12:52:34",
          "1970-01-01T12:19:14",
          "1970-01-01T12:52:34",
          "1970-01-01T12:52:34",
          "1970-01-01T12:52:34",
          "1970-01-01T13:25:54",
          "1970-01-01T13:25:54",
          "1970-01-01T12:52:34",
          "1970-01-01T13:25:54",
          "1970-01-01T13:25:54",
          "1970-01-01T12:52:34",
          "1970-01-01T13:25:54",
          "1970-01-01T13:25:54",
          "1970-01-01T13:25:54",
          "1970-01-01T13:59:14",
          "1970-01-01T13:59:14",
          "1970-01-01T13:25:54",
          "1970-01-01T13:59:14",
          "1970-01-01T13:59:14",
          "1970-01-01T13:25:54",
          "1970-01-01T13:59:14",
          "1970-01-01T13:59:14",
          "1970-01-01T13:59:14",
          "1970-01-01T14:40:54",
          "1970-01-01T14:40:54",
          "1970-01-01T13:59:14",
          "1970-01-01T14:40:54",
          "1970-01-01T14:40:54",
          "1970-01-01T13:59:14",
          "1970-01-01T14:40:54",
          "1970-01-01T14:40:54",
          "1970-01-01T14:40:54",
          "1970-01-01T15:14:14",
          "1970-01-01T15:14:14",
          "1970-01-01T14:40:54",
          "1970-01-01T15:14:14",
          "1970-01-01T15:14:14",
          "1970-01-01T14:40:54",
          "1970-01-01T15:14:14",
          "1970-01-01T15:14:14",
          "1970-01-01T15:14:14",
          "1970-01-01T15:53:36",
          "1970-01-01T15:53:36",
          "1970-01-01T15:53:36",
          "1970-01-01T16:32:58",
          "1970-01-01T16:32:58",
          "1970-01-01T15:53:36",
          "1970-01-01T16:32:58",
          "1970-01-01T16:32:58"
         ],
         "y": [
          "Carrier C",
          "Carrier C",
          null,
          "Carrier C",
          "Carrier C",
          null,
          "Carrier C",
          "Carrier C",
          null,
          "Cutter T",
          "Cutter T",
          null,
          "Trench",
          "Trench",
          null,
          "Carrier A",
          "Carrier A",
          null,
          "Cutter T",
          "Cutter T",
          null,
          "Trench",
          "Trench",
          null,
          "Barge II",
          "Barge II",
          null,
          "Cutter T",
          "Cutter T",
          null,
          "Trench",
          "Trench",
          null,
          "Barge I",
          "Barge I",
          null,
          "Cutter T",
          "Cutter T",
          null,
          "Trench",
          "Trench",
          null,
          "Cutter T",
          "Cutter T",
          null,
          "Extra 1",
          "Extra 1",
          null,
          "Trench",
          "Trench",
          null,
          "Barge III",
          "Barge III",
          null,
          "Cutter T",
          "Cutter T",
          null,
          "Trench",
          "Trench",
          null,
          "Carrier B",
          "Carrier B",
          null,
          "Cutter T",
          "Cutter T",
          null,
          "Trench",
          "Trench",
          null,
          "Carrier C",
          "Carrier C",
          null,
          "Cutter T",
          "Cutter T",
          null,
          "Trench",
          "Trench",
          null,
          "Carrier A",
          "Carrier A",
          null,
          "Cutter T",
          "Cutter T",
          null,
          "Trench",
          "Trench",
          null,
          "Barge II",
          "Barge II",
          null,
          "Cutter T",
          "Cutter T",
          null,
          "Trench",
          "Trench",
          null,
          "Barge I",
          "Barge I",
          null,
          "Cutter T",
          "Cutter T",
          null,
          "Trench",
          "Trench",
          null,
          "Cutter T",
          "Cutter T",
          null,
          "Extra 1",
          "Extra 1",
          null,
          "Trench",
          "Trench",
          null,
          "Barge III",
          "Barge III",
          null,
          "Cutter T",
          "Cutter T",
          null,
          "Trench",
          "Trench",
          null,
          "Carrier C",
          "Carrier C",
          null,
          "Cutter T",
          "Cutter T",
          null,
          "Trench",
          "Trench",
          null,
          "Carrier B",
          "Carrier B",
          null,
          "Cutter T",
          "Cutter T",
          null,
          "Trench",
          "Trench",
          null,
          "Carrier A",
          "Carrier A",
          null,
          "Cutter T",
          "Cutter T",
          null,
          "Trench",
          "Trench",
          null,
          "Barge II",
          "Barge II",
          null,
          "Cutter T",
          "Cutter T",
          null,
          "Trench",
          "Trench",
          null,
          "Barge I",
          "Barge I",
          null,
          "Cutter T",
          "Cutter T",
          null,
          "Trench",
          "Trench",
          null,
          "Cutter T",
          "Cutter T",
          null,
          "Extra 1",
          "Extra 1",
          null,
          "Trench",
          "Trench",
          null,
          "Carrier C",
          "Carrier C",
          null,
          "Cutter T",
          "Cutter T",
          null,
          "Trench",
          "Trench",
          null,
          "Barge III",
          "Barge III",
          null,
          "Cutter T",
          "Cutter T",
          null,
          "Trench",
          "Trench",
          null,
          "Carrier B",
          "Carrier B",
          null,
          "Cutter T",
          "Cutter T",
          null,
          "Trench",
          "Trench",
          null,
          "Carrier A",
          "Carrier A",
          null,
          "Cutter T",
          "Cutter T",
          null,
          "Trench",
          "Trench",
          null,
          "Carrier A",
          "Carrier A",
          null,
          "Carrier A",
          "Carrier A",
          null,
          "Reclamation",
          "Reclamation",
          null
         ]
        },
        {
         "connectgaps": false,
         "hoverinfo": "y+name",
         "line": {
          "color": "rgb(202,183,62)",
          "width": 10
         },
         "mode": "lines",
         "name": "basic activity:Carrier A",
         "type": "scatter",
         "x": [
          "1970-01-01T00:00:00",
          "1970-01-01T00:00:00",
          "1970-01-01T00:39:22",
          "1970-01-01T00:39:22",
          "1970-01-01T00:39:22",
          "1970-01-01T03:37:58",
          "1970-01-01T03:37:58",
          "1970-01-01T04:17:20",
          "1970-01-01T04:17:20",
          "1970-01-01T04:17:20",
          "1970-01-01T07:56:18",
          "1970-01-01T07:56:18",
          "1970-01-01T08:35:40",
          "1970-01-01T08:35:40",
          "1970-01-01T08:35:40",
          "1970-01-01T12:14:38",
          "1970-01-01T12:14:38",
          "1970-01-01T12:54:00",
          "1970-01-01T12:54:00",
          "1970-01-01T12:54:00"
         ],
         "y": [
          "Carrier A",
          "Carrier A",
          "Carrier A",
          "Carrier A",
          null,
          "Carrier A",
          "Carrier A",
          "Carrier A",
          "Carrier A",
          null,
          "Carrier A",
          "Carrier A",
          "Carrier A",
          "Carrier A",
          null,
          "Carrier A",
          "Carrier A",
          "Carrier A",
          "Carrier A",
          null
         ]
        },
        {
         "connectgaps": false,
         "hoverinfo": "y+name",
         "line": {
          "color": "rgb(206,187,66)",
          "width": 10
         },
         "mode": "lines",
         "name": "loading:Carrier A",
         "type": "scatter",
         "x": [
          "1970-01-01T01:45:54",
          "1970-01-01T01:45:54",
          "1970-01-01T02:19:14",
          "1970-01-01T02:19:14",
          "1970-01-01T02:19:14",
          "1970-01-01T06:04:14",
          "1970-01-01T06:04:14",
          "1970-01-01T06:37:34",
          "1970-01-01T06:37:34",
          "1970-01-01T06:37:34",
          "1970-01-01T10:22:34",
          "1970-01-01T10:22:34",
          "1970-01-01T10:55:54",
          "1970-01-01T10:55:54",
          "1970-01-01T10:55:54",
          "1970-01-01T14:40:54",
          "1970-01-01T14:40:54",
          "1970-01-01T15:14:14",
          "1970-01-01T15:14:14",
          "1970-01-01T15:14:14",
          "1970-01-01T01:45:54",
          "1970-01-01T01:45:54",
          "1970-01-01T02:19:14",
          "1970-01-01T02:19:14",
          "1970-01-01T02:19:14",
          "1970-01-01T06:04:14",
          "1970-01-01T06:04:14",
          "1970-01-01T06:37:34",
          "1970-01-01T06:37:34",
          "1970-01-01T06:37:34",
          "1970-01-01T10:22:34",
          "1970-01-01T10:22:34",
          "1970-01-01T10:55:54",
          "1970-01-01T10:55:54",
          "1970-01-01T10:55:54",
          "1970-01-01T14:40:54",
          "1970-01-01T14:40:54",
          "1970-01-01T15:14:14",
          "1970-01-01T15:14:14",
          "1970-01-01T15:14:14",
          "1970-01-01T01:45:54",
          "1970-01-01T01:45:54",
          "1970-01-01T02:19:14",
          "1970-01-01T02:19:14",
          "1970-01-01T02:19:14",
          "1970-01-01T06:04:14",
          "1970-01-01T06:04:14",
          "1970-01-01T06:37:34",
          "1970-01-01T06:37:34",
          "1970-01-01T06:37:34",
          "1970-01-01T10:22:34",
          "1970-01-01T10:22:34",
          "1970-01-01T10:55:54",
          "1970-01-01T10:55:54",
          "1970-01-01T10:55:54",
          "1970-01-01T14:40:54",
          "1970-01-01T14:40:54",
          "1970-01-01T15:14:14",
          "1970-01-01T15:14:14",
          "1970-01-01T15:14:14"
         ],
         "y": [
          "Carrier A",
          "Carrier A",
          "Carrier A",
          "Carrier A",
          null,
          "Carrier A",
          "Carrier A",
          "Carrier A",
          "Carrier A",
          null,
          "Carrier A",
          "Carrier A",
          "Carrier A",
          "Carrier A",
          null,
          "Carrier A",
          "Carrier A",
          "Carrier A",
          "Carrier A",
          null,
          "Cutter T",
          "Cutter T",
          "Cutter T",
          "Cutter T",
          null,
          "Cutter T",
          "Cutter T",
          "Cutter T",
          "Cutter T",
          null,
          "Cutter T",
          "Cutter T",
          "Cutter T",
          "Cutter T",
          null,
          "Cutter T",
          "Cutter T",
          "Cutter T",
          "Cutter T",
          null,
          "Trench",
          "Trench",
          "Trench",
          "Trench",
          null,
          "Trench",
          "Trench",
          "Trench",
          "Trench",
          null,
          "Trench",
          "Trench",
          "Trench",
          "Trench",
          null,
          "Trench",
          "Trench",
          "Trench",
          "Trench",
          null
         ]
        },
        {
         "connectgaps": false,
         "hoverinfo": "y+name",
         "line": {
          "color": "rgb(210,191,70)",
          "width": 10
         },
         "mode": "lines",
         "name": "sailing empty:Carrier A",
         "type": "scatter",
         "x": [
          "1970-01-01T00:39:22",
          "1970-01-01T00:39:22",
          "1970-01-01T01:18:44",
          "1970-01-01T01:18:44",
          "1970-01-01T01:18:44",
          "1970-01-01T04:17:20",
          "1970-01-01T04:17:20",
          "1970-01-01T04:56:42",
          "1970-01-01T04:56:42",
          "1970-01-01T04:56:42",
          "1970-01-01T08:35:40",
          "1970-01-01T08:35:40",
          "1970-01-01T09:15:02",
          "1970-01-01T09:15:02",
          "1970-01-01T09:15:02",
          "1970-01-01T12:54:00",
          "1970-01-01T12:54:00",
          "1970-01-01T13:33:22",
          "1970-01-01T13:33:22",
          "1970-01-01T13:33:22"
         ],
         "y": [
          "Carrier A",
          "Carrier A",
          "Carrier A",
          "Carrier A",
          null,
          "Carrier A",
          "Carrier A",
          "Carrier A",
          "Carrier A",
          null,
          "Carrier A",
          "Carrier A",
          "Carrier A",
          "Carrier A",
          null,
          "Carrier A",
          "Carrier A",
          "Carrier A",
          "Carrier A",
          null
         ]
        },
        {
         "connectgaps": false,
         "hoverinfo": "y+name",
         "line": {
          "color": "rgb(214,195,74)",
          "width": 10
         },
         "mode": "lines",
         "name": "unloading:Carrier A",
         "type": "scatter",
         "x": [
          "1970-01-01T02:58:36",
          "1970-01-01T02:58:36",
          "1970-01-01T03:37:58",
          "1970-01-01T03:37:58",
          "1970-01-01T03:37:58",
          "1970-01-01T07:16:56",
          "1970-01-01T07:16:56",
          "1970-01-01T07:56:18",
          "1970-01-01T07:56:18",
          "1970-01-01T07:56:18",
          "1970-01-01T11:35:16",
          "1970-01-01T11:35:16",
          "1970-01-01T12:14:38",
          "1970-01-01T12:14:38",
          "1970-01-01T12:14:38",
          "1970-01-01T15:53:36",
          "1970-01-01T15:53:36",
          "1970-01-01T16:32:58",
          "1970-01-01T16:32:58",
          "1970-01-01T16:32:58",
          "1970-01-01T02:58:36",
          "1970-01-01T02:58:36",
          "1970-01-01T03:37:58",
          "1970-01-01T03:37:58",
          "1970-01-01T03:37:58",
          "1970-01-01T07:16:56",
          "1970-01-01T07:16:56",
          "1970-01-01T07:56:18",
          "1970-01-01T07:56:18",
          "1970-01-01T07:56:18",
          "1970-01-01T11:35:16",
          "1970-01-01T11:35:16",
          "1970-01-01T12:14:38",
          "1970-01-01T12:14:38",
          "1970-01-01T12:14:38",
          "1970-01-01T15:53:36",
          "1970-01-01T15:53:36",
          "1970-01-01T16:32:58",
          "1970-01-01T16:32:58",
          "1970-01-01T16:32:58"
         ],
         "y": [
          "Carrier A",
          "Carrier A",
          "Carrier A",
          "Carrier A",
          null,
          "Carrier A",
          "Carrier A",
          "Carrier A",
          "Carrier A",
          null,
          "Carrier A",
          "Carrier A",
          "Carrier A",
          "Carrier A",
          null,
          "Carrier A",
          "Carrier A",
          "Carrier A",
          "Carrier A",
          null,
          "Reclamation",
          "Reclamation",
          "Reclamation",
          "Reclamation",
          null,
          "Reclamation",
          "Reclamation",
          "Reclamation",
          "Reclamation",
          null,
          "Reclamation",
          "Reclamation",
          "Reclamation",
          "Reclamation",
          null,
          "Reclamation",
          "Reclamation",
          "Reclamation",
          "Reclamation",
          null
         ]
        },
        {
         "connectgaps": false,
         "hoverinfo": "y+name",
         "line": {
          "color": "rgb(218,199,78)",
          "width": 10
         },
         "mode": "lines",
         "name": "sailing full:Carrier A",
         "type": "scatter",
         "x": [
          "1970-01-01T02:19:14",
          "1970-01-01T02:19:14",
          "1970-01-01T02:58:36",
          "1970-01-01T02:58:36",
          "1970-01-01T02:58:36",
          "1970-01-01T06:37:34",
          "1970-01-01T06:37:34",
          "1970-01-01T07:16:56",
          "1970-01-01T07:16:56",
          "1970-01-01T07:16:56",
          "1970-01-01T10:55:54",
          "1970-01-01T10:55:54",
          "1970-01-01T11:35:16",
          "1970-01-01T11:35:16",
          "1970-01-01T11:35:16",
          "1970-01-01T15:14:14",
          "1970-01-01T15:14:14",
          "1970-01-01T15:53:36",
          "1970-01-01T15:53:36",
          "1970-01-01T15:53:36"
         ],
         "y": [
          "Carrier A",
          "Carrier A",
          "Carrier A",
          "Carrier A",
          null,
          "Carrier A",
          "Carrier A",
          "Carrier A",
          "Carrier A",
          null,
          "Carrier A",
          "Carrier A",
          "Carrier A",
          "Carrier A",
          null,
          "Carrier A",
          "Carrier A",
          "Carrier A",
          "Carrier A",
          null
         ]
        },
        {
         "connectgaps": false,
         "hoverinfo": "y+name",
         "line": {
          "color": "rgb(222,203,82)",
          "width": 10
         },
         "mode": "lines",
         "name": "sailing empty:Carrier B",
         "type": "scatter",
         "x": [
          "1970-01-01T00:47:19",
          "1970-01-01T00:47:19",
          "1970-01-01T01:34:38",
          "1970-01-01T01:34:38",
          "1970-01-01T01:34:38",
          "1970-01-01T07:52:51",
          "1970-01-01T07:52:51",
          "1970-01-01T08:40:10",
          "1970-01-01T08:40:10",
          "1970-01-01T08:40:10",
          "1970-01-01T12:44:31",
          "1970-01-01T12:44:31",
          "1970-01-01T13:31:50",
          "1970-01-01T13:31:50",
          "1970-01-01T13:31:50"
         ],
         "y": [
          "Carrier B",
          "Carrier B",
          "Carrier B",
          "Carrier B",
          null,
          "Carrier B",
          "Carrier B",
          "Carrier B",
          "Carrier B",
          null,
          "Carrier B",
          "Carrier B",
          "Carrier B",
          "Carrier B",
          null
         ]
        },
        {
         "connectgaps": false,
         "hoverinfo": "y+name",
         "line": {
          "color": "rgb(226,207,86)",
          "width": 10
         },
         "mode": "lines",
         "name": "loading:Carrier B",
         "type": "scatter",
         "x": [
          "1970-01-01T04:49:14",
          "1970-01-01T04:49:14",
          "1970-01-01T05:30:54",
          "1970-01-01T05:30:54",
          "1970-01-01T05:30:54",
          "1970-01-01T09:40:54",
          "1970-01-01T09:40:54",
          "1970-01-01T10:22:34",
          "1970-01-01T10:22:34",
          "1970-01-01T10:22:34",
          "1970-01-01T13:59:14",
          "1970-01-01T13:59:14",
          "1970-01-01T14:40:54",
          "1970-01-01T14:40:54",
          "1970-01-01T14:40:54",
          "1970-01-01T04:49:14",
          "1970-01-01T04:49:14",
          "1970-01-01T05:30:54",
          "1970-01-01T05:30:54",
          "1970-01-01T05:30:54",
          "1970-01-01T09:40:54",
          "1970-01-01T09:40:54",
          "1970-01-01T10:22:34",
          "1970-01-01T10:22:34",
          "1970-01-01T10:22:34",
          "1970-01-01T13:59:14",
          "1970-01-01T13:59:14",
          "1970-01-01T14:40:54",
          "1970-01-01T14:40:54",
          "1970-01-01T14:40:54",
          "1970-01-01T04:49:14",
          "1970-01-01T04:49:14",
          "1970-01-01T05:30:54",
          "1970-01-01T05:30:54",
          "1970-01-01T05:30:54",
          "1970-01-01T09:40:54",
          "1970-01-01T09:40:54",
          "1970-01-01T10:22:34",
          "1970-01-01T10:22:34",
          "1970-01-01T10:22:34",
          "1970-01-01T13:59:14",
          "1970-01-01T13:59:14",
          "1970-01-01T14:40:54",
          "1970-01-01T14:40:54",
          "1970-01-01T14:40:54"
         ],
         "y": [
          "Carrier B",
          "Carrier B",
          "Carrier B",
          "Carrier B",
          null,
          "Carrier B",
          "Carrier B",
          "Carrier B",
          "Carrier B",
          null,
          "Carrier B",
          "Carrier B",
          "Carrier B",
          "Carrier B",
          null,
          "Cutter T",
          "Cutter T",
          "Cutter T",
          "Cutter T",
          null,
          "Cutter T",
          "Cutter T",
          "Cutter T",
          "Cutter T",
          null,
          "Cutter T",
          "Cutter T",
          "Cutter T",
          "Cutter T",
          null,
          "Trench",
          "Trench",
          "Trench",
          "Trench",
          null,
          "Trench",
          "Trench",
          "Trench",
          "Trench",
          null,
          "Trench",
          "Trench",
          "Trench",
          "Trench",
          null
         ]
        },
        {
         "connectgaps": false,
         "hoverinfo": "y+name",
         "line": {
          "color": "rgb(230,211,90)",
          "width": 10
         },
         "mode": "lines",
         "name": "basic activity:Carrier B",
         "type": "scatter",
         "x": [
          "1970-01-01T00:00:00",
          "1970-01-01T00:00:00",
          "1970-01-01T00:47:19",
          "1970-01-01T00:47:19",
          "1970-01-01T00:47:19",
          "1970-01-01T07:05:32",
          "1970-01-01T07:05:32",
          "1970-01-01T07:52:51",
          "1970-01-01T07:52:51",
          "1970-01-01T07:52:51",
          "1970-01-01T11:57:12",
          "1970-01-01T11:57:12",
          "1970-01-01T12:44:31",
          "1970-01-01T12:44:31",
          "1970-01-01T12:44:31"
         ],
         "y": [
          "Carrier B",
          "Carrier B",
          "Carrier B",
          "Carrier B",
          null,
          "Carrier B",
          "Carrier B",
          "Carrier B",
          "Carrier B",
          null,
          "Carrier B",
          "Carrier B",
          "Carrier B",
          "Carrier B",
          null
         ]
        },
        {
         "connectgaps": false,
         "hoverinfo": "y+name",
         "line": {
          "color": "rgb(234,215,94)",
          "width": 10
         },
         "mode": "lines",
         "name": "sailing full:Carrier B",
         "type": "scatter",
         "x": [
          "1970-01-01T05:30:54",
          "1970-01-01T05:30:54",
          "1970-01-01T06:18:13",
          "1970-01-01T06:18:13",
          "1970-01-01T06:18:13",
          "1970-01-01T10:22:34",
          "1970-01-01T10:22:34",
          "1970-01-01T11:09:53",
          "1970-01-01T11:09:53",
          "1970-01-01T11:09:53",
          "1970-01-01T14:40:54",
          "1970-01-01T14:40:54",
          "1970-01-01T15:28:13",
          "1970-01-01T15:28:13",
          "1970-01-01T15:28:13"
         ],
         "y": [
          "Carrier B",
          "Carrier B",
          "Carrier B",
          "Carrier B",
          null,
          "Carrier B",
          "Carrier B",
          "Carrier B",
          "Carrier B",
          null,
          "Carrier B",
          "Carrier B",
          "Carrier B",
          "Carrier B",
          null
         ]
        },
        {
         "connectgaps": false,
         "hoverinfo": "y+name",
         "line": {
          "color": "rgb(238,219,98)",
          "width": 10
         },
         "mode": "lines",
         "name": "unloading:Carrier B",
         "type": "scatter",
         "x": [
          "1970-01-01T06:18:13",
          "1970-01-01T06:18:13",
          "1970-01-01T07:05:32",
          "1970-01-01T07:05:32",
          "1970-01-01T07:05:32",
          "1970-01-01T11:09:53",
          "1970-01-01T11:09:53",
          "1970-01-01T11:57:12",
          "1970-01-01T11:57:12",
          "1970-01-01T11:57:12",
          "1970-01-01T15:28:13",
          "1970-01-01T15:28:13",
          "1970-01-01T16:15:32",
          "1970-01-01T16:15:32",
          "1970-01-01T16:15:32",
          "1970-01-01T06:18:13",
          "1970-01-01T06:18:13",
          "1970-01-01T07:05:32",
          "1970-01-01T07:05:32",
          "1970-01-01T07:05:32",
          "1970-01-01T11:09:53",
          "1970-01-01T11:09:53",
          "1970-01-01T11:57:12",
          "1970-01-01T11:57:12",
          "1970-01-01T11:57:12",
          "1970-01-01T15:28:13",
          "1970-01-01T15:28:13",
          "1970-01-01T16:15:32",
          "1970-01-01T16:15:32",
          "1970-01-01T16:15:32"
         ],
         "y": [
          "Carrier B",
          "Carrier B",
          "Carrier B",
          "Carrier B",
          null,
          "Carrier B",
          "Carrier B",
          "Carrier B",
          "Carrier B",
          null,
          "Carrier B",
          "Carrier B",
          "Carrier B",
          "Carrier B",
          null,
          "Reclamation",
          "Reclamation",
          "Reclamation",
          "Reclamation",
          null,
          "Reclamation",
          "Reclamation",
          "Reclamation",
          "Reclamation",
          null,
          "Reclamation",
          "Reclamation",
          "Reclamation",
          "Reclamation",
          null
         ]
        },
        {
         "connectgaps": false,
         "hoverinfo": "y+name",
         "line": {
          "color": "rgb(242,223,102)",
          "width": 10
         },
         "mode": "lines",
         "name": "sailing empty:Carrier C",
         "type": "scatter",
         "x": [
          "1970-01-01T00:36:17",
          "1970-01-01T00:36:17",
          "1970-01-01T01:12:34",
          "1970-01-01T01:12:34",
          "1970-01-01T01:12:34",
          "1970-01-01T03:34:45",
          "1970-01-01T03:34:45",
          "1970-01-01T04:11:02",
          "1970-01-01T04:11:02",
          "1970-01-01T04:11:02",
          "1970-01-01T07:53:05",
          "1970-01-01T07:53:05",
          "1970-01-01T08:29:22",
          "1970-01-01T08:29:22",
          "1970-01-01T08:29:22",
          "1970-01-01T11:29:45",
          "1970-01-01T11:29:45",
          "1970-01-01T12:06:02",
          "1970-01-01T12:06:02",
          "1970-01-01T12:06:02"
         ],
         "y": [
          "Carrier C",
          "Carrier C",
          "Carrier C",
          "Carrier C",
          null,
          "Carrier C",
          "Carrier C",
          "Carrier C",
          "Carrier C",
          null,
          "Carrier C",
          "Carrier C",
          "Carrier C",
          "Carrier C",
          null,
          "Carrier C",
          "Carrier C",
          "Carrier C",
          "Carrier C",
          null
         ]
        },
        {
         "connectgaps": false,
         "hoverinfo": "y+name",
         "line": {
          "color": "rgb(246,227,106)",
          "width": 10
         },
         "mode": "lines",
         "name": "basic activity:Carrier C",
         "type": "scatter",
         "x": [
          "1970-01-01T00:00:00",
          "1970-01-01T00:00:00",
          "1970-01-01T00:36:17",
          "1970-01-01T00:36:17",
          "1970-01-01T00:36:17",
          "1970-01-01T02:58:28",
          "1970-01-01T02:58:28",
          "1970-01-01T03:34:45",
          "1970-01-01T03:34:45",
          "1970-01-01T03:34:45",
          "1970-01-01T07:16:48",
          "1970-01-01T07:16:48",
          "1970-01-01T07:53:05",
          "1970-01-01T07:53:05",
          "1970-01-01T07:53:05",
          "1970-01-01T10:53:28",
          "1970-01-01T10:53:28",
          "1970-01-01T11:29:45",
          "1970-01-01T11:29:45",
          "1970-01-01T11:29:45"
         ],
         "y": [
          "Carrier C",
          "Carrier C",
          "Carrier C",
          "Carrier C",
          null,
          "Carrier C",
          "Carrier C",
          "Carrier C",
          "Carrier C",
          null,
          "Carrier C",
          "Carrier C",
          "Carrier C",
          "Carrier C",
          null,
          "Carrier C",
          "Carrier C",
          "Carrier C",
          "Carrier C",
          null
         ]
        },
        {
         "connectgaps": false,
         "hoverinfo": "y+name",
         "line": {
          "color": "rgb(250,231,110)",
          "width": 10
         },
         "mode": "lines",
         "name": "loading:Carrier C",
         "type": "scatter",
         "x": [
          "1970-01-01T01:12:34",
          "1970-01-01T01:12:34",
          "1970-01-01T01:45:54",
          "1970-01-01T01:45:54",
          "1970-01-01T01:45:54",
          "1970-01-01T05:30:54",
          "1970-01-01T05:30:54",
          "1970-01-01T06:04:14",
          "1970-01-01T06:04:14",
          "1970-01-01T06:04:14",
          "1970-01-01T09:07:34",
          "1970-01-01T09:07:34",
          "1970-01-01T09:40:54",
          "1970-01-01T09:40:54",
          "1970-01-01T09:40:54",
          "1970-01-01T12:52:34",
          "1970-01-01T12:52:34",
          "1970-01-01T13:25:54",
          "1970-01-01T13:25:54",
          "1970-01-01T13:25:54",
          "1970-01-01T01:12:34",
          "1970-01-01T01:12:34",
          "1970-01-01T01:45:54",
          "1970-01-01T01:45:54",
          "1970-01-01T01:45:54",
          "1970-01-01T05:30:54",
          "1970-01-01T05:30:54",
          "1970-01-01T06:04:14",
          "1970-01-01T06:04:14",
          "1970-01-01T06:04:14",
          "1970-01-01T09:07:34",
          "1970-01-01T09:07:34",
          "1970-01-01T09:40:54",
          "1970-01-01T09:40:54",
          "1970-01-01T09:40:54",
          "1970-01-01T12:52:34",
          "1970-01-01T12:52:34",
          "1970-01-01T13:25:54",
          "1970-01-01T13:25:54",
          "1970-01-01T13:25:54",
          "1970-01-01T01:12:34",
          "1970-01-01T01:12:34",
          "1970-01-01T01:45:54",
          "1970-01-01T01:45:54",
          "1970-01-01T01:45:54",
          "1970-01-01T05:30:54",
          "1970-01-01T05:30:54",
          "1970-01-01T06:04:14",
          "1970-01-01T06:04:14",
          "1970-01-01T06:04:14",
          "1970-01-01T09:07:34",
          "1970-01-01T09:07:34",
          "1970-01-01T09:40:54",
          "1970-01-01T09:40:54",
          "1970-01-01T09:40:54",
          "1970-01-01T12:52:34",
          "1970-01-01T12:52:34",
          "1970-01-01T13:25:54",
          "1970-01-01T13:25:54",
          "1970-01-01T13:25:54"
         ],
         "y": [
          "Carrier C",
          "Carrier C",
          "Carrier C",
          "Carrier C",
          null,
          "Carrier C",
          "Carrier C",
          "Carrier C",
          "Carrier C",
          null,
          "Carrier C",
          "Carrier C",
          "Carrier C",
          "Carrier C",
          null,
          "Carrier C",
          "Carrier C",
          "Carrier C",
          "Carrier C",
          null,
          "Cutter T",
          "Cutter T",
          "Cutter T",
          "Cutter T",
          null,
          "Cutter T",
          "Cutter T",
          "Cutter T",
          "Cutter T",
          null,
          "Cutter T",
          "Cutter T",
          "Cutter T",
          "Cutter T",
          null,
          "Cutter T",
          "Cutter T",
          "Cutter T",
          "Cutter T",
          null,
          "Trench",
          "Trench",
          "Trench",
          "Trench",
          null,
          "Trench",
          "Trench",
          "Trench",
          "Trench",
          null,
          "Trench",
          "Trench",
          "Trench",
          "Trench",
          null,
          "Trench",
          "Trench",
          "Trench",
          "Trench",
          null
         ]
        },
        {
         "connectgaps": false,
         "hoverinfo": "y+name",
         "line": {
          "color": "rgb(254,235,114)",
          "width": 10
         },
         "mode": "lines",
         "name": "unloading:Carrier C",
         "type": "scatter",
         "x": [
          "1970-01-01T02:22:11",
          "1970-01-01T02:22:11",
          "1970-01-01T02:58:28",
          "1970-01-01T02:58:28",
          "1970-01-01T02:58:28",
          "1970-01-01T06:40:31",
          "1970-01-01T06:40:31",
          "1970-01-01T07:16:48",
          "1970-01-01T07:16:48",
          "1970-01-01T07:16:48",
          "1970-01-01T10:17:11",
          "1970-01-01T10:17:11",
          "1970-01-01T10:53:28",
          "1970-01-01T10:53:28",
          "1970-01-01T10:53:28",
          "1970-01-01T14:02:11",
          "1970-01-01T14:02:11",
          "1970-01-01T14:38:28",
          "1970-01-01T14:38:28",
          "1970-01-01T14:38:28",
          "1970-01-01T02:22:11",
          "1970-01-01T02:22:11",
          "1970-01-01T02:58:28",
          "1970-01-01T02:58:28",
          "1970-01-01T02:58:28",
          "1970-01-01T06:40:31",
          "1970-01-01T06:40:31",
          "1970-01-01T07:16:48",
          "1970-01-01T07:16:48",
          "1970-01-01T07:16:48",
          "1970-01-01T10:17:11",
          "1970-01-01T10:17:11",
          "1970-01-01T10:53:28",
          "1970-01-01T10:53:28",
          "1970-01-01T10:53:28",
          "1970-01-01T14:02:11",
          "1970-01-01T14:02:11",
          "1970-01-01T14:38:28",
          "1970-01-01T14:38:28",
          "1970-01-01T14:38:28"
         ],
         "y": [
          "Carrier C",
          "Carrier C",
          "Carrier C",
          "Carrier C",
          null,
          "Carrier C",
          "Carrier C",
          "Carrier C",
          "Carrier C",
          null,
          "Carrier C",
          "Carrier C",
          "Carrier C",
          "Carrier C",
          null,
          "Carrier C",
          "Carrier C",
          "Carrier C",
          "Carrier C",
          null,
          "Reclamation",
          "Reclamation",
          "Reclamation",
          "Reclamation",
          null,
          "Reclamation",
          "Reclamation",
          "Reclamation",
          "Reclamation",
          null,
          "Reclamation",
          "Reclamation",
          "Reclamation",
          "Reclamation",
          null,
          "Reclamation",
          "Reclamation",
          "Reclamation",
          "Reclamation",
          null
         ]
        },
        {
         "connectgaps": false,
         "hoverinfo": "y+name",
         "line": {
          "color": "rgb(2,239,118)",
          "width": 10
         },
         "mode": "lines",
         "name": "sailing full:Carrier C",
         "type": "scatter",
         "x": [
          "1970-01-01T01:45:54",
          "1970-01-01T01:45:54",
          "1970-01-01T02:22:11",
          "1970-01-01T02:22:11",
          "1970-01-01T02:22:11",
          "1970-01-01T06:04:14",
          "1970-01-01T06:04:14",
          "1970-01-01T06:40:31",
          "1970-01-01T06:40:31",
          "1970-01-01T06:40:31",
          "1970-01-01T09:40:54",
          "1970-01-01T09:40:54",
          "1970-01-01T10:17:11",
          "1970-01-01T10:17:11",
          "1970-01-01T10:17:11",
          "1970-01-01T13:25:54",
          "1970-01-01T13:25:54",
          "1970-01-01T14:02:11",
          "1970-01-01T14:02:11",
          "1970-01-01T14:02:11"
         ],
         "y": [
          "Carrier C",
          "Carrier C",
          "Carrier C",
          "Carrier C",
          null,
          "Carrier C",
          "Carrier C",
          "Carrier C",
          "Carrier C",
          null,
          "Carrier C",
          "Carrier C",
          "Carrier C",
          "Carrier C",
          null,
          "Carrier C",
          "Carrier C",
          "Carrier C",
          "Carrier C",
          null
         ]
        },
        {
         "connectgaps": false,
         "hoverinfo": "y+name",
         "line": {
          "color": "rgb(6,243,122)",
          "width": 10
         },
         "mode": "lines",
         "name": "sailing full:Barge I",
         "type": "scatter",
         "x": [
          "1970-01-01T03:42:34",
          "1970-01-01T03:42:34",
          "1970-01-01T04:24:58",
          "1970-01-01T04:24:58",
          "1970-01-01T04:24:58",
          "1970-01-01T08:00:54",
          "1970-01-01T08:00:54",
          "1970-01-01T08:43:18",
          "1970-01-01T08:43:18",
          "1970-01-01T08:43:18",
          "1970-01-01T12:19:14",
          "1970-01-01T12:19:14",
          "1970-01-01T13:01:38",
          "1970-01-01T13:01:38",
          "1970-01-01T13:01:38"
         ],
         "y": [
          "Barge I",
          "Barge I",
          "Barge I",
          "Barge I",
          null,
          "Barge I",
          "Barge I",
          "Barge I",
          "Barge I",
          null,
          "Barge I",
          "Barge I",
          "Barge I",
          "Barge I",
          null
         ]
        },
        {
         "connectgaps": false,
         "hoverinfo": "y+name",
         "line": {
          "color": "rgb(10,247,126)",
          "width": 10
         },
         "mode": "lines",
         "name": "basic activity:Barge I",
         "type": "scatter",
         "x": [
          "1970-01-01T00:00:00",
          "1970-01-01T00:00:00",
          "1970-01-01T00:42:24",
          "1970-01-01T00:42:24",
          "1970-01-01T00:42:24",
          "1970-01-01T05:07:22",
          "1970-01-01T05:07:22",
          "1970-01-01T05:49:46",
          "1970-01-01T05:49:46",
          "1970-01-01T05:49:46",
          "1970-01-01T09:25:42",
          "1970-01-01T09:25:42",
          "1970-01-01T10:08:06",
          "1970-01-01T10:08:06",
          "1970-01-01T10:08:06"
         ],
         "y": [
          "Barge I",
          "Barge I",
          "Barge I",
          "Barge I",
          null,
          "Barge I",
          "Barge I",
          "Barge I",
          "Barge I",
          null,
          "Barge I",
          "Barge I",
          "Barge I",
          "Barge I",
          null
         ]
        },
        {
         "connectgaps": false,
         "hoverinfo": "y+name",
         "line": {
          "color": "rgb(14,251,130)",
          "width": 10
         },
         "mode": "lines",
         "name": "unloading:Barge I",
         "type": "scatter",
         "x": [
          "1970-01-01T04:24:58",
          "1970-01-01T04:24:58",
          "1970-01-01T05:07:22",
          "1970-01-01T05:07:22",
          "1970-01-01T05:07:22",
          "1970-01-01T08:43:18",
          "1970-01-01T08:43:18",
          "1970-01-01T09:25:42",
          "1970-01-01T09:25:42",
          "1970-01-01T09:25:42",
          "1970-01-01T13:01:38",
          "1970-01-01T13:01:38",
          "1970-01-01T13:44:02",
          "1970-01-01T13:44:02",
          "1970-01-01T13:44:02",
          "1970-01-01T04:24:58",
          "1970-01-01T04:24:58",
          "1970-01-01T05:07:22",
          "1970-01-01T05:07:22",
          "1970-01-01T05:07:22",
          "1970-01-01T08:43:18",
          "1970-01-01T08:43:18",
          "1970-01-01T09:25:42",
          "1970-01-01T09:25:42",
          "1970-01-01T09:25:42",
          "1970-01-01T13:01:38",
          "1970-01-01T13:01:38",
          "1970-01-01T13:44:02",
          "1970-01-01T13:44:02",
          "1970-01-01T13:44:02"
         ],
         "y": [
          "Barge I",
          "Barge I",
          "Barge I",
          "Barge I",
          null,
          "Barge I",
          "Barge I",
          "Barge I",
          "Barge I",
          null,
          "Barge I",
          "Barge I",
          "Barge I",
          "Barge I",
          null,
          "Reclamation",
          "Reclamation",
          "Reclamation",
          "Reclamation",
          null,
          "Reclamation",
          "Reclamation",
          "Reclamation",
          "Reclamation",
          null,
          "Reclamation",
          "Reclamation",
          "Reclamation",
          "Reclamation",
          null
         ]
        },
        {
         "connectgaps": false,
         "hoverinfo": "y+name",
         "line": {
          "color": "rgb(18,255,134)",
          "width": 10
         },
         "mode": "lines",
         "name": "sailing empty:Barge I",
         "type": "scatter",
         "x": [
          "1970-01-01T00:42:24",
          "1970-01-01T00:42:24",
          "1970-01-01T01:24:48",
          "1970-01-01T01:24:48",
          "1970-01-01T01:24:48",
          "1970-01-01T05:49:46",
          "1970-01-01T05:49:46",
          "1970-01-01T06:32:10",
          "1970-01-01T06:32:10",
          "1970-01-01T06:32:10",
          "1970-01-01T10:08:06",
          "1970-01-01T10:08:06",
          "1970-01-01T10:50:30",
          "1970-01-01T10:50:30",
          "1970-01-01T10:50:30"
         ],
         "y": [
          "Barge I",
          "Barge I",
          "Barge I",
          "Barge I",
          null,
          "Barge I",
          "Barge I",
          "Barge I",
          "Barge I",
          null,
          "Barge I",
          "Barge I",
          "Barge I",
          "Barge I",
          null
         ]
        },
        {
         "connectgaps": false,
         "hoverinfo": "y+name",
         "line": {
          "color": "rgb(22,3,138)",
          "width": 10
         },
         "mode": "lines",
         "name": "loading:Barge I",
         "type": "scatter",
         "x": [
          "1970-01-01T03:00:54",
          "1970-01-01T03:00:54",
          "1970-01-01T03:42:34",
          "1970-01-01T03:42:34",
          "1970-01-01T03:42:34",
          "1970-01-01T07:19:14",
          "1970-01-01T07:19:14",
          "1970-01-01T08:00:54",
          "1970-01-01T08:00:54",
          "1970-01-01T08:00:54",
          "1970-01-01T11:37:34",
          "1970-01-01T11:37:34",
          "1970-01-01T12:19:14",
          "1970-01-01T12:19:14",
          "1970-01-01T12:19:14",
          "1970-01-01T03:00:54",
          "1970-01-01T03:00:54",
          "1970-01-01T03:42:34",
          "1970-01-01T03:42:34",
          "1970-01-01T03:42:34",
          "1970-01-01T07:19:14",
          "1970-01-01T07:19:14",
          "1970-01-01T08:00:54",
          "1970-01-01T08:00:54",
          "1970-01-01T08:00:54",
          "1970-01-01T11:37:34",
          "1970-01-01T11:37:34",
          "1970-01-01T12:19:14",
          "1970-01-01T12:19:14",
          "1970-01-01T12:19:14",
          "1970-01-01T03:00:54",
          "1970-01-01T03:00:54",
          "1970-01-01T03:42:34",
          "1970-01-01T03:42:34",
          "1970-01-01T03:42:34",
          "1970-01-01T07:19:14",
          "1970-01-01T07:19:14",
          "1970-01-01T08:00:54",
          "1970-01-01T08:00:54",
          "1970-01-01T08:00:54",
          "1970-01-01T11:37:34",
          "1970-01-01T11:37:34",
          "1970-01-01T12:19:14",
          "1970-01-01T12:19:14",
          "1970-01-01T12:19:14"
         ],
         "y": [
          "Barge I",
          "Barge I",
          "Barge I",
          "Barge I",
          null,
          "Barge I",
          "Barge I",
          "Barge I",
          "Barge I",
          null,
          "Barge I",
          "Barge I",
          "Barge I",
          "Barge I",
          null,
          "Cutter T",
          "Cutter T",
          "Cutter T",
          "Cutter T",
          null,
          "Cutter T",
          "Cutter T",
          "Cutter T",
          "Cutter T",
          null,
          "Cutter T",
          "Cutter T",
          "Cutter T",
          "Cutter T",
          null,
          "Trench",
          "Trench",
          "Trench",
          "Trench",
          null,
          "Trench",
          "Trench",
          "Trench",
          "Trench",
          null,
          "Trench",
          "Trench",
          "Trench",
          "Trench",
          null
         ]
        },
        {
         "connectgaps": false,
         "hoverinfo": "y+name",
         "line": {
          "color": "rgb(26,7,142)",
          "width": 10
         },
         "mode": "lines",
         "name": "unloading:Barge II",
         "type": "scatter",
         "x": [
          "1970-01-01T03:43:15",
          "1970-01-01T03:43:15",
          "1970-01-01T04:25:36",
          "1970-01-01T04:25:36",
          "1970-01-01T04:25:36",
          "1970-01-01T08:01:35",
          "1970-01-01T08:01:35",
          "1970-01-01T08:43:56",
          "1970-01-01T08:43:56",
          "1970-01-01T08:43:56",
          "1970-01-01T12:19:55",
          "1970-01-01T12:19:55",
          "1970-01-01T13:02:16",
          "1970-01-01T13:02:16",
          "1970-01-01T13:02:16",
          "1970-01-01T03:43:15",
          "1970-01-01T03:43:15",
          "1970-01-01T04:25:36",
          "1970-01-01T04:25:36",
          "1970-01-01T04:25:36",
          "1970-01-01T08:01:35",
          "1970-01-01T08:01:35",
          "1970-01-01T08:43:56",
          "1970-01-01T08:43:56",
          "1970-01-01T08:43:56",
          "1970-01-01T12:19:55",
          "1970-01-01T12:19:55",
          "1970-01-01T13:02:16",
          "1970-01-01T13:02:16",
          "1970-01-01T13:02:16"
         ],
         "y": [
          "Barge II",
          "Barge II",
          "Barge II",
          "Barge II",
          null,
          "Barge II",
          "Barge II",
          "Barge II",
          "Barge II",
          null,
          "Barge II",
          "Barge II",
          "Barge II",
          "Barge II",
          null,
          "Reclamation",
          "Reclamation",
          "Reclamation",
          "Reclamation",
          null,
          "Reclamation",
          "Reclamation",
          "Reclamation",
          "Reclamation",
          null,
          "Reclamation",
          "Reclamation",
          "Reclamation",
          "Reclamation",
          null
         ]
        },
        {
         "connectgaps": false,
         "hoverinfo": "y+name",
         "line": {
          "color": "rgb(30,11,146)",
          "width": 10
         },
         "mode": "lines",
         "name": "sailing empty:Barge II",
         "type": "scatter",
         "x": [
          "1970-01-01T00:42:21",
          "1970-01-01T00:42:21",
          "1970-01-01T01:24:42",
          "1970-01-01T01:24:42",
          "1970-01-01T01:24:42",
          "1970-01-01T05:07:57",
          "1970-01-01T05:07:57",
          "1970-01-01T05:50:18",
          "1970-01-01T05:50:18",
          "1970-01-01T05:50:18",
          "1970-01-01T09:26:17",
          "1970-01-01T09:26:17",
          "1970-01-01T10:08:38",
          "1970-01-01T10:08:38",
          "1970-01-01T10:08:38"
         ],
         "y": [
          "Barge II",
          "Barge II",
          "Barge II",
          "Barge II",
          null,
          "Barge II",
          "Barge II",
          "Barge II",
          "Barge II",
          null,
          "Barge II",
          "Barge II",
          "Barge II",
          "Barge II",
          null
         ]
        },
        {
         "connectgaps": false,
         "hoverinfo": "y+name",
         "line": {
          "color": "rgb(34,15,150)",
          "width": 10
         },
         "mode": "lines",
         "name": "sailing full:Barge II",
         "type": "scatter",
         "x": [
          "1970-01-01T03:00:54",
          "1970-01-01T03:00:54",
          "1970-01-01T03:43:15",
          "1970-01-01T03:43:15",
          "1970-01-01T03:43:15",
          "1970-01-01T07:19:14",
          "1970-01-01T07:19:14",
          "1970-01-01T08:01:35",
          "1970-01-01T08:01:35",
          "1970-01-01T08:01:35",
          "1970-01-01T11:37:34",
          "1970-01-01T11:37:34",
          "1970-01-01T12:19:55",
          "1970-01-01T12:19:55",
          "1970-01-01T12:19:55"
         ],
         "y": [
          "Barge II",
          "Barge II",
          "Barge II",
          "Barge II",
          null,
          "Barge II",
          "Barge II",
          "Barge II",
          "Barge II",
          null,
          "Barge II",
          "Barge II",
          "Barge II",
          "Barge II",
          null
         ]
        },
        {
         "connectgaps": false,
         "hoverinfo": "y+name",
         "line": {
          "color": "rgb(38,19,154)",
          "width": 10
         },
         "mode": "lines",
         "name": "basic activity:Barge II",
         "type": "scatter",
         "x": [
          "1970-01-01T00:00:00",
          "1970-01-01T00:00:00",
          "1970-01-01T00:42:21",
          "1970-01-01T00:42:21",
          "1970-01-01T00:42:21",
          "1970-01-01T04:25:36",
          "1970-01-01T04:25:36",
          "1970-01-01T05:07:57",
          "1970-01-01T05:07:57",
          "1970-01-01T05:07:57",
          "1970-01-01T08:43:56",
          "1970-01-01T08:43:56",
          "1970-01-01T09:26:17",
          "1970-01-01T09:26:17",
          "1970-01-01T09:26:17"
         ],
         "y": [
          "Barge II",
          "Barge II",
          "Barge II",
          "Barge II",
          null,
          "Barge II",
          "Barge II",
          "Barge II",
          "Barge II",
          null,
          "Barge II",
          "Barge II",
          "Barge II",
          "Barge II",
          null
         ]
        },
        {
         "connectgaps": false,
         "hoverinfo": "y+name",
         "line": {
          "color": "rgb(42,23,158)",
          "width": 10
         },
         "mode": "lines",
         "name": "loading:Barge II",
         "type": "scatter",
         "x": [
          "1970-01-01T02:19:14",
          "1970-01-01T02:19:14",
          "1970-01-01T03:00:54",
          "1970-01-01T03:00:54",
          "1970-01-01T03:00:54",
          "1970-01-01T06:37:34",
          "1970-01-01T06:37:34",
          "1970-01-01T07:19:14",
          "1970-01-01T07:19:14",
          "1970-01-01T07:19:14",
          "1970-01-01T10:55:54",
          "1970-01-01T10:55:54",
          "1970-01-01T11:37:34",
          "1970-01-01T11:37:34",
          "1970-01-01T11:37:34",
          "1970-01-01T02:19:14",
          "1970-01-01T02:19:14",
          "1970-01-01T03:00:54",
          "1970-01-01T03:00:54",
          "1970-01-01T03:00:54",
          "1970-01-01T06:37:34",
          "1970-01-01T06:37:34",
          "1970-01-01T07:19:14",
          "1970-01-01T07:19:14",
          "1970-01-01T07:19:14",
          "1970-01-01T10:55:54",
          "1970-01-01T10:55:54",
          "1970-01-01T11:37:34",
          "1970-01-01T11:37:34",
          "1970-01-01T11:37:34",
          "1970-01-01T02:19:14",
          "1970-01-01T02:19:14",
          "1970-01-01T03:00:54",
          "1970-01-01T03:00:54",
          "1970-01-01T03:00:54",
          "1970-01-01T06:37:34",
          "1970-01-01T06:37:34",
          "1970-01-01T07:19:14",
          "1970-01-01T07:19:14",
          "1970-01-01T07:19:14",
          "1970-01-01T10:55:54",
          "1970-01-01T10:55:54",
          "1970-01-01T11:37:34",
          "1970-01-01T11:37:34",
          "1970-01-01T11:37:34"
         ],
         "y": [
          "Barge II",
          "Barge II",
          "Barge II",
          "Barge II",
          null,
          "Barge II",
          "Barge II",
          "Barge II",
          "Barge II",
          null,
          "Barge II",
          "Barge II",
          "Barge II",
          "Barge II",
          null,
          "Cutter T",
          "Cutter T",
          "Cutter T",
          "Cutter T",
          null,
          "Cutter T",
          "Cutter T",
          "Cutter T",
          "Cutter T",
          null,
          "Cutter T",
          "Cutter T",
          "Cutter T",
          "Cutter T",
          null,
          "Trench",
          "Trench",
          "Trench",
          "Trench",
          null,
          "Trench",
          "Trench",
          "Trench",
          "Trench",
          null,
          "Trench",
          "Trench",
          "Trench",
          "Trench",
          null
         ]
        },
        {
         "connectgaps": false,
         "hoverinfo": "y+name",
         "line": {
          "color": "rgb(46,27,162)",
          "width": 10
         },
         "mode": "lines",
         "name": "loading:Barge III",
         "type": "scatter",
         "x": [
          "1970-01-01T04:15:54",
          "1970-01-01T04:15:54",
          "1970-01-01T04:49:14",
          "1970-01-01T04:49:14",
          "1970-01-01T04:49:14",
          "1970-01-01T08:34:14",
          "1970-01-01T08:34:14",
          "1970-01-01T09:07:34",
          "1970-01-01T09:07:34",
          "1970-01-01T09:07:34",
          "1970-01-01T13:25:54",
          "1970-01-01T13:25:54",
          "1970-01-01T13:59:14",
          "1970-01-01T13:59:14",
          "1970-01-01T13:59:14",
          "1970-01-01T04:15:54",
          "1970-01-01T04:15:54",
          "1970-01-01T04:49:14",
          "1970-01-01T04:49:14",
          "1970-01-01T04:49:14",
          "1970-01-01T08:34:14",
          "1970-01-01T08:34:14",
          "1970-01-01T09:07:34",
          "1970-01-01T09:07:34",
          "1970-01-01T09:07:34",
          "1970-01-01T13:25:54",
          "1970-01-01T13:25:54",
          "1970-01-01T13:59:14",
          "1970-01-01T13:59:14",
          "1970-01-01T13:59:14",
          "1970-01-01T04:15:54",
          "1970-01-01T04:15:54",
          "1970-01-01T04:49:14",
          "1970-01-01T04:49:14",
          "1970-01-01T04:49:14",
          "1970-01-01T08:34:14",
          "1970-01-01T08:34:14",
          "1970-01-01T09:07:34",
          "1970-01-01T09:07:34",
          "1970-01-01T09:07:34",
          "1970-01-01T13:25:54",
          "1970-01-01T13:25:54",
          "1970-01-01T13:59:14",
          "1970-01-01T13:59:14",
          "1970-01-01T13:59:14"
         ],
         "y": [
          "Barge III",
          "Barge III",
          "Barge III",
          "Barge III",
          null,
          "Barge III",
          "Barge III",
          "Barge III",
          "Barge III",
          null,
          "Barge III",
          "Barge III",
          "Barge III",
          "Barge III",
          null,
          "Cutter T",
          "Cutter T",
          "Cutter T",
          "Cutter T",
          null,
          "Cutter T",
          "Cutter T",
          "Cutter T",
          "Cutter T",
          null,
          "Cutter T",
          "Cutter T",
          "Cutter T",
          "Cutter T",
          null,
          "Trench",
          "Trench",
          "Trench",
          "Trench",
          null,
          "Trench",
          "Trench",
          "Trench",
          "Trench",
          null,
          "Trench",
          "Trench",
          "Trench",
          "Trench",
          null
         ]
        },
        {
         "connectgaps": false,
         "hoverinfo": "y+name",
         "line": {
          "color": "rgb(50,31,166)",
          "width": 10
         },
         "mode": "lines",
         "name": "sailing empty:Barge III",
         "type": "scatter",
         "x": [
          "1970-01-01T00:47:07",
          "1970-01-01T00:47:07",
          "1970-01-01T01:34:14",
          "1970-01-01T01:34:14",
          "1970-01-01T01:34:14",
          "1970-01-01T07:10:35",
          "1970-01-01T07:10:35",
          "1970-01-01T07:57:42",
          "1970-01-01T07:57:42",
          "1970-01-01T07:57:42",
          "1970-01-01T11:28:55",
          "1970-01-01T11:28:55",
          "1970-01-01T12:16:02",
          "1970-01-01T12:16:02",
          "1970-01-01T12:16:02"
         ],
         "y": [
          "Barge III",
          "Barge III",
          "Barge III",
          "Barge III",
          null,
          "Barge III",
          "Barge III",
          "Barge III",
          "Barge III",
          null,
          "Barge III",
          "Barge III",
          "Barge III",
          "Barge III",
          null
         ]
        },
        {
         "connectgaps": false,
         "hoverinfo": "y+name",
         "line": {
          "color": "rgb(54,35,170)",
          "width": 10
         },
         "mode": "lines",
         "name": "basic activity:Barge III",
         "type": "scatter",
         "x": [
          "1970-01-01T00:00:00",
          "1970-01-01T00:00:00",
          "1970-01-01T00:47:07",
          "1970-01-01T00:47:07",
          "1970-01-01T00:47:07",
          "1970-01-01T06:23:28",
          "1970-01-01T06:23:28",
          "1970-01-01T07:10:35",
          "1970-01-01T07:10:35",
          "1970-01-01T07:10:35",
          "1970-01-01T10:41:48",
          "1970-01-01T10:41:48",
          "1970-01-01T11:28:55",
          "1970-01-01T11:28:55",
          "1970-01-01T11:28:55"
         ],
         "y": [
          "Barge III",
          "Barge III",
          "Barge III",
          "Barge III",
          null,
          "Barge III",
          "Barge III",
          "Barge III",
          "Barge III",
          null,
          "Barge III",
          "Barge III",
          "Barge III",
          "Barge III",
          null
         ]
        },
        {
         "connectgaps": false,
         "hoverinfo": "y+name",
         "line": {
          "color": "rgb(58,39,174)",
          "width": 10
         },
         "mode": "lines",
         "name": "unloading:Barge III",
         "type": "scatter",
         "x": [
          "1970-01-01T05:36:21",
          "1970-01-01T05:36:21",
          "1970-01-01T06:23:28",
          "1970-01-01T06:23:28",
          "1970-01-01T06:23:28",
          "1970-01-01T09:54:41",
          "1970-01-01T09:54:41",
          "1970-01-01T10:41:48",
          "1970-01-01T10:41:48",
          "1970-01-01T10:41:48",
          "1970-01-01T14:46:21",
          "1970-01-01T14:46:21",
          "1970-01-01T15:33:28",
          "1970-01-01T15:33:28",
          "1970-01-01T15:33:28",
          "1970-01-01T05:36:21",
          "1970-01-01T05:36:21",
          "1970-01-01T06:23:28",
          "1970-01-01T06:23:28",
          "1970-01-01T06:23:28",
          "1970-01-01T09:54:41",
          "1970-01-01T09:54:41",
          "1970-01-01T10:41:48",
          "1970-01-01T10:41:48",
          "1970-01-01T10:41:48",
          "1970-01-01T14:46:21",
          "1970-01-01T14:46:21",
          "1970-01-01T15:33:28",
          "1970-01-01T15:33:28",
          "1970-01-01T15:33:28"
         ],
         "y": [
          "Barge III",
          "Barge III",
          "Barge III",
          "Barge III",
          null,
          "Barge III",
          "Barge III",
          "Barge III",
          "Barge III",
          null,
          "Barge III",
          "Barge III",
          "Barge III",
          "Barge III",
          null,
          "Reclamation",
          "Reclamation",
          "Reclamation",
          "Reclamation",
          null,
          "Reclamation",
          "Reclamation",
          "Reclamation",
          "Reclamation",
          null,
          "Reclamation",
          "Reclamation",
          "Reclamation",
          "Reclamation",
          null
         ]
        },
        {
         "connectgaps": false,
         "hoverinfo": "y+name",
         "line": {
          "color": "rgb(62,43,178)",
          "width": 10
         },
         "mode": "lines",
         "name": "sailing full:Barge III",
         "type": "scatter",
         "x": [
          "1970-01-01T04:49:14",
          "1970-01-01T04:49:14",
          "1970-01-01T05:36:21",
          "1970-01-01T05:36:21",
          "1970-01-01T05:36:21",
          "1970-01-01T09:07:34",
          "1970-01-01T09:07:34",
          "1970-01-01T09:54:41",
          "1970-01-01T09:54:41",
          "1970-01-01T09:54:41",
          "1970-01-01T13:59:14",
          "1970-01-01T13:59:14",
          "1970-01-01T14:46:21",
          "1970-01-01T14:46:21",
          "1970-01-01T14:46:21"
         ],
         "y": [
          "Barge III",
          "Barge III",
          "Barge III",
          "Barge III",
          null,
          "Barge III",
          "Barge III",
          "Barge III",
          "Barge III",
          null,
          "Barge III",
          "Barge III",
          "Barge III",
          "Barge III",
          null
         ]
        },
        {
         "connectgaps": false,
         "hoverinfo": "y+name",
         "line": {
          "color": "rgb(66,47,182)",
          "width": 10
         },
         "mode": "lines",
         "name": "basic activity:Extra 1",
         "type": "scatter",
         "x": [
          "1970-01-01T00:00:00",
          "1970-01-01T00:00:00",
          "1970-01-01T00:46:58",
          "1970-01-01T00:46:58",
          "1970-01-01T00:46:58",
          "1970-01-01T05:49:50",
          "1970-01-01T05:49:50",
          "1970-01-01T06:36:48",
          "1970-01-01T06:36:48",
          "1970-01-01T06:36:48",
          "1970-01-01T10:08:10",
          "1970-01-01T10:08:10",
          "1970-01-01T10:55:08",
          "1970-01-01T10:55:08",
          "1970-01-01T10:55:08"
         ],
         "y": [
          "Extra 1",
          "Extra 1",
          "Extra 1",
          "Extra 1",
          null,
          "Extra 1",
          "Extra 1",
          "Extra 1",
          "Extra 1",
          null,
          "Extra 1",
          "Extra 1",
          "Extra 1",
          "Extra 1",
          null
         ]
        },
        {
         "connectgaps": false,
         "hoverinfo": "y+name",
         "line": {
          "color": "rgb(70,51,186)",
          "width": 10
         },
         "mode": "lines",
         "name": "sailing full:Extra 1",
         "type": "scatter",
         "x": [
          "1970-01-01T04:15:54",
          "1970-01-01T04:15:54",
          "1970-01-01T05:02:52",
          "1970-01-01T05:02:52",
          "1970-01-01T05:02:52",
          "1970-01-01T08:34:14",
          "1970-01-01T08:34:14",
          "1970-01-01T09:21:12",
          "1970-01-01T09:21:12",
          "1970-01-01T09:21:12",
          "1970-01-01T12:52:34",
          "1970-01-01T12:52:34",
          "1970-01-01T13:39:32",
          "1970-01-01T13:39:32",
          "1970-01-01T13:39:32"
         ],
         "y": [
          "Extra 1",
          "Extra 1",
          "Extra 1",
          "Extra 1",
          null,
          "Extra 1",
          "Extra 1",
          "Extra 1",
          "Extra 1",
          null,
          "Extra 1",
          "Extra 1",
          "Extra 1",
          "Extra 1",
          null
         ]
        },
        {
         "connectgaps": false,
         "hoverinfo": "y+name",
         "line": {
          "color": "rgb(74,55,190)",
          "width": 10
         },
         "mode": "lines",
         "name": "sailing empty:Extra 1",
         "type": "scatter",
         "x": [
          "1970-01-01T00:46:58",
          "1970-01-01T00:46:58",
          "1970-01-01T01:33:56",
          "1970-01-01T01:33:56",
          "1970-01-01T01:33:56",
          "1970-01-01T06:36:48",
          "1970-01-01T06:36:48",
          "1970-01-01T07:23:46",
          "1970-01-01T07:23:46",
          "1970-01-01T07:23:46",
          "1970-01-01T10:55:08",
          "1970-01-01T10:55:08",
          "1970-01-01T11:42:06",
          "1970-01-01T11:42:06",
          "1970-01-01T11:42:06"
         ],
         "y": [
          "Extra 1",
          "Extra 1",
          "Extra 1",
          "Extra 1",
          null,
          "Extra 1",
          "Extra 1",
          "Extra 1",
          "Extra 1",
          null,
          "Extra 1",
          "Extra 1",
          "Extra 1",
          "Extra 1",
          null
         ]
        },
        {
         "connectgaps": false,
         "hoverinfo": "y+name",
         "line": {
          "color": "rgb(78,59,194)",
          "width": 10
         },
         "mode": "lines",
         "name": "unloading:Extra 1",
         "type": "scatter",
         "x": [
          "1970-01-01T05:02:52",
          "1970-01-01T05:02:52",
          "1970-01-01T05:49:50",
          "1970-01-01T05:49:50",
          "1970-01-01T05:49:50",
          "1970-01-01T09:21:12",
          "1970-01-01T09:21:12",
          "1970-01-01T10:08:10",
          "1970-01-01T10:08:10",
          "1970-01-01T10:08:10",
          "1970-01-01T13:39:32",
          "1970-01-01T13:39:32",
          "1970-01-01T14:26:30",
          "1970-01-01T14:26:30",
          "1970-01-01T14:26:30",
          "1970-01-01T05:02:52",
          "1970-01-01T05:02:52",
          "1970-01-01T05:49:50",
          "1970-01-01T05:49:50",
          "1970-01-01T05:49:50",
          "1970-01-01T09:21:12",
          "1970-01-01T09:21:12",
          "1970-01-01T10:08:10",
          "1970-01-01T10:08:10",
          "1970-01-01T10:08:10",
          "1970-01-01T13:39:32",
          "1970-01-01T13:39:32",
          "1970-01-01T14:26:30",
          "1970-01-01T14:26:30",
          "1970-01-01T14:26:30"
         ],
         "y": [
          "Extra 1",
          "Extra 1",
          "Extra 1",
          "Extra 1",
          null,
          "Extra 1",
          "Extra 1",
          "Extra 1",
          "Extra 1",
          null,
          "Extra 1",
          "Extra 1",
          "Extra 1",
          "Extra 1",
          null,
          "Reclamation",
          "Reclamation",
          "Reclamation",
          "Reclamation",
          null,
          "Reclamation",
          "Reclamation",
          "Reclamation",
          "Reclamation",
          null,
          "Reclamation",
          "Reclamation",
          "Reclamation",
          "Reclamation",
          null
         ]
        },
        {
         "connectgaps": false,
         "hoverinfo": "y+name",
         "line": {
          "color": "rgb(82,63,198)",
          "width": 10
         },
         "mode": "lines",
         "name": "loading:Extra 1",
         "type": "scatter",
         "x": [
          "1970-01-01T03:42:34",
          "1970-01-01T03:42:34",
          "1970-01-01T04:15:54",
          "1970-01-01T04:15:54",
          "1970-01-01T04:15:54",
          "1970-01-01T08:00:54",
          "1970-01-01T08:00:54",
          "1970-01-01T08:34:14",
          "1970-01-01T08:34:14",
          "1970-01-01T08:34:14",
          "1970-01-01T12:19:14",
          "1970-01-01T12:19:14",
          "1970-01-01T12:52:34",
          "1970-01-01T12:52:34",
          "1970-01-01T12:52:34",
          "1970-01-01T03:42:34",
          "1970-01-01T03:42:34",
          "1970-01-01T04:15:54",
          "1970-01-01T04:15:54",
          "1970-01-01T04:15:54",
          "1970-01-01T08:00:54",
          "1970-01-01T08:00:54",
          "1970-01-01T08:34:14",
          "1970-01-01T08:34:14",
          "1970-01-01T08:34:14",
          "1970-01-01T12:19:14",
          "1970-01-01T12:19:14",
          "1970-01-01T12:52:34",
          "1970-01-01T12:52:34",
          "1970-01-01T12:52:34",
          "1970-01-01T03:42:34",
          "1970-01-01T03:42:34",
          "1970-01-01T04:15:54",
          "1970-01-01T04:15:54",
          "1970-01-01T04:15:54",
          "1970-01-01T08:00:54",
          "1970-01-01T08:00:54",
          "1970-01-01T08:34:14",
          "1970-01-01T08:34:14",
          "1970-01-01T08:34:14",
          "1970-01-01T12:19:14",
          "1970-01-01T12:19:14",
          "1970-01-01T12:52:34",
          "1970-01-01T12:52:34",
          "1970-01-01T12:52:34"
         ],
         "y": [
          "Extra 1",
          "Extra 1",
          "Extra 1",
          "Extra 1",
          null,
          "Extra 1",
          "Extra 1",
          "Extra 1",
          "Extra 1",
          null,
          "Extra 1",
          "Extra 1",
          "Extra 1",
          "Extra 1",
          null,
          "Cutter T",
          "Cutter T",
          "Cutter T",
          "Cutter T",
          null,
          "Cutter T",
          "Cutter T",
          "Cutter T",
          "Cutter T",
          null,
          "Cutter T",
          "Cutter T",
          "Cutter T",
          "Cutter T",
          null,
          "Trench",
          "Trench",
          "Trench",
          "Trench",
          null,
          "Trench",
          "Trench",
          "Trench",
          "Trench",
          null,
          "Trench",
          "Trench",
          "Trench",
          "Trench",
          null
         ]
        },
        {
         "connectgaps": false,
         "hoverinfo": "y+name",
         "line": {
          "color": "rgb(86,67,202)",
          "width": 10
         },
         "mode": "lines",
         "name": "loading:Barge III",
         "type": "scatter",
         "x": [
          "1970-01-01T04:15:54",
          "1970-01-01T04:15:54",
          "1970-01-01T04:49:14",
          "1970-01-01T04:49:14",
          "1970-01-01T04:49:14",
          "1970-01-01T08:34:14",
          "1970-01-01T08:34:14",
          "1970-01-01T09:07:34",
          "1970-01-01T09:07:34",
          "1970-01-01T09:07:34",
          "1970-01-01T13:25:54",
          "1970-01-01T13:25:54",
          "1970-01-01T13:59:14",
          "1970-01-01T13:59:14",
          "1970-01-01T13:59:14",
          "1970-01-01T04:15:54",
          "1970-01-01T04:15:54",
          "1970-01-01T04:49:14",
          "1970-01-01T04:49:14",
          "1970-01-01T04:49:14",
          "1970-01-01T08:34:14",
          "1970-01-01T08:34:14",
          "1970-01-01T09:07:34",
          "1970-01-01T09:07:34",
          "1970-01-01T09:07:34",
          "1970-01-01T13:25:54",
          "1970-01-01T13:25:54",
          "1970-01-01T13:59:14",
          "1970-01-01T13:59:14",
          "1970-01-01T13:59:14",
          "1970-01-01T04:15:54",
          "1970-01-01T04:15:54",
          "1970-01-01T04:49:14",
          "1970-01-01T04:49:14",
          "1970-01-01T04:49:14",
          "1970-01-01T08:34:14",
          "1970-01-01T08:34:14",
          "1970-01-01T09:07:34",
          "1970-01-01T09:07:34",
          "1970-01-01T09:07:34",
          "1970-01-01T13:25:54",
          "1970-01-01T13:25:54",
          "1970-01-01T13:59:14",
          "1970-01-01T13:59:14",
          "1970-01-01T13:59:14"
         ],
         "y": [
          "Barge III",
          "Barge III",
          "Barge III",
          "Barge III",
          null,
          "Barge III",
          "Barge III",
          "Barge III",
          "Barge III",
          null,
          "Barge III",
          "Barge III",
          "Barge III",
          "Barge III",
          null,
          "Cutter T",
          "Cutter T",
          "Cutter T",
          "Cutter T",
          null,
          "Cutter T",
          "Cutter T",
          "Cutter T",
          "Cutter T",
          null,
          "Cutter T",
          "Cutter T",
          "Cutter T",
          "Cutter T",
          null,
          "Trench",
          "Trench",
          "Trench",
          "Trench",
          null,
          "Trench",
          "Trench",
          "Trench",
          "Trench",
          null,
          "Trench",
          "Trench",
          "Trench",
          "Trench",
          null
         ]
        },
        {
         "connectgaps": false,
         "hoverinfo": "y+name",
         "line": {
          "color": "rgb(90,71,206)",
          "width": 10
         },
         "mode": "lines",
         "name": "loading:Carrier B",
         "type": "scatter",
         "x": [
          "1970-01-01T04:49:14",
          "1970-01-01T04:49:14",
          "1970-01-01T05:30:54",
          "1970-01-01T05:30:54",
          "1970-01-01T05:30:54",
          "1970-01-01T09:40:54",
          "1970-01-01T09:40:54",
          "1970-01-01T10:22:34",
          "1970-01-01T10:22:34",
          "1970-01-01T10:22:34",
          "1970-01-01T13:59:14",
          "1970-01-01T13:59:14",
          "1970-01-01T14:40:54",
          "1970-01-01T14:40:54",
          "1970-01-01T14:40:54",
          "1970-01-01T04:49:14",
          "1970-01-01T04:49:14",
          "1970-01-01T05:30:54",
          "1970-01-01T05:30:54",
          "1970-01-01T05:30:54",
          "1970-01-01T09:40:54",
          "1970-01-01T09:40:54",
          "1970-01-01T10:22:34",
          "1970-01-01T10:22:34",
          "1970-01-01T10:22:34",
          "1970-01-01T13:59:14",
          "1970-01-01T13:59:14",
          "1970-01-01T14:40:54",
          "1970-01-01T14:40:54",
          "1970-01-01T14:40:54",
          "1970-01-01T04:49:14",
          "1970-01-01T04:49:14",
          "1970-01-01T05:30:54",
          "1970-01-01T05:30:54",
          "1970-01-01T05:30:54",
          "1970-01-01T09:40:54",
          "1970-01-01T09:40:54",
          "1970-01-01T10:22:34",
          "1970-01-01T10:22:34",
          "1970-01-01T10:22:34",
          "1970-01-01T13:59:14",
          "1970-01-01T13:59:14",
          "1970-01-01T14:40:54",
          "1970-01-01T14:40:54",
          "1970-01-01T14:40:54"
         ],
         "y": [
          "Carrier B",
          "Carrier B",
          "Carrier B",
          "Carrier B",
          null,
          "Carrier B",
          "Carrier B",
          "Carrier B",
          "Carrier B",
          null,
          "Carrier B",
          "Carrier B",
          "Carrier B",
          "Carrier B",
          null,
          "Cutter T",
          "Cutter T",
          "Cutter T",
          "Cutter T",
          null,
          "Cutter T",
          "Cutter T",
          "Cutter T",
          "Cutter T",
          null,
          "Cutter T",
          "Cutter T",
          "Cutter T",
          "Cutter T",
          null,
          "Trench",
          "Trench",
          "Trench",
          "Trench",
          null,
          "Trench",
          "Trench",
          "Trench",
          "Trench",
          null,
          "Trench",
          "Trench",
          "Trench",
          "Trench",
          null
         ]
        },
        {
         "connectgaps": false,
         "hoverinfo": "y+name",
         "line": {
          "color": "rgb(94,75,210)",
          "width": 10
         },
         "mode": "lines",
         "name": "loading:Carrier A",
         "type": "scatter",
         "x": [
          "1970-01-01T01:45:54",
          "1970-01-01T01:45:54",
          "1970-01-01T02:19:14",
          "1970-01-01T02:19:14",
          "1970-01-01T02:19:14",
          "1970-01-01T06:04:14",
          "1970-01-01T06:04:14",
          "1970-01-01T06:37:34",
          "1970-01-01T06:37:34",
          "1970-01-01T06:37:34",
          "1970-01-01T10:22:34",
          "1970-01-01T10:22:34",
          "1970-01-01T10:55:54",
          "1970-01-01T10:55:54",
          "1970-01-01T10:55:54",
          "1970-01-01T14:40:54",
          "1970-01-01T14:40:54",
          "1970-01-01T15:14:14",
          "1970-01-01T15:14:14",
          "1970-01-01T15:14:14",
          "1970-01-01T01:45:54",
          "1970-01-01T01:45:54",
          "1970-01-01T02:19:14",
          "1970-01-01T02:19:14",
          "1970-01-01T02:19:14",
          "1970-01-01T06:04:14",
          "1970-01-01T06:04:14",
          "1970-01-01T06:37:34",
          "1970-01-01T06:37:34",
          "1970-01-01T06:37:34",
          "1970-01-01T10:22:34",
          "1970-01-01T10:22:34",
          "1970-01-01T10:55:54",
          "1970-01-01T10:55:54",
          "1970-01-01T10:55:54",
          "1970-01-01T14:40:54",
          "1970-01-01T14:40:54",
          "1970-01-01T15:14:14",
          "1970-01-01T15:14:14",
          "1970-01-01T15:14:14",
          "1970-01-01T01:45:54",
          "1970-01-01T01:45:54",
          "1970-01-01T02:19:14",
          "1970-01-01T02:19:14",
          "1970-01-01T02:19:14",
          "1970-01-01T06:04:14",
          "1970-01-01T06:04:14",
          "1970-01-01T06:37:34",
          "1970-01-01T06:37:34",
          "1970-01-01T06:37:34",
          "1970-01-01T10:22:34",
          "1970-01-01T10:22:34",
          "1970-01-01T10:55:54",
          "1970-01-01T10:55:54",
          "1970-01-01T10:55:54",
          "1970-01-01T14:40:54",
          "1970-01-01T14:40:54",
          "1970-01-01T15:14:14",
          "1970-01-01T15:14:14",
          "1970-01-01T15:14:14"
         ],
         "y": [
          "Carrier A",
          "Carrier A",
          "Carrier A",
          "Carrier A",
          null,
          "Carrier A",
          "Carrier A",
          "Carrier A",
          "Carrier A",
          null,
          "Carrier A",
          "Carrier A",
          "Carrier A",
          "Carrier A",
          null,
          "Carrier A",
          "Carrier A",
          "Carrier A",
          "Carrier A",
          null,
          "Cutter T",
          "Cutter T",
          "Cutter T",
          "Cutter T",
          null,
          "Cutter T",
          "Cutter T",
          "Cutter T",
          "Cutter T",
          null,
          "Cutter T",
          "Cutter T",
          "Cutter T",
          "Cutter T",
          null,
          "Cutter T",
          "Cutter T",
          "Cutter T",
          "Cutter T",
          null,
          "Trench",
          "Trench",
          "Trench",
          "Trench",
          null,
          "Trench",
          "Trench",
          "Trench",
          "Trench",
          null,
          "Trench",
          "Trench",
          "Trench",
          "Trench",
          null,
          "Trench",
          "Trench",
          "Trench",
          "Trench",
          null
         ]
        },
        {
         "connectgaps": false,
         "hoverinfo": "y+name",
         "line": {
          "color": "rgb(98,79,214)",
          "width": 10
         },
         "mode": "lines",
         "name": "loading:Carrier C",
         "type": "scatter",
         "x": [
          "1970-01-01T01:12:34",
          "1970-01-01T01:12:34",
          "1970-01-01T01:45:54",
          "1970-01-01T01:45:54",
          "1970-01-01T01:45:54",
          "1970-01-01T05:30:54",
          "1970-01-01T05:30:54",
          "1970-01-01T06:04:14",
          "1970-01-01T06:04:14",
          "1970-01-01T06:04:14",
          "1970-01-01T09:07:34",
          "1970-01-01T09:07:34",
          "1970-01-01T09:40:54",
          "1970-01-01T09:40:54",
          "1970-01-01T09:40:54",
          "1970-01-01T12:52:34",
          "1970-01-01T12:52:34",
          "1970-01-01T13:25:54",
          "1970-01-01T13:25:54",
          "1970-01-01T13:25:54",
          "1970-01-01T01:12:34",
          "1970-01-01T01:12:34",
          "1970-01-01T01:45:54",
          "1970-01-01T01:45:54",
          "1970-01-01T01:45:54",
          "1970-01-01T05:30:54",
          "1970-01-01T05:30:54",
          "1970-01-01T06:04:14",
          "1970-01-01T06:04:14",
          "1970-01-01T06:04:14",
          "1970-01-01T09:07:34",
          "1970-01-01T09:07:34",
          "1970-01-01T09:40:54",
          "1970-01-01T09:40:54",
          "1970-01-01T09:40:54",
          "1970-01-01T12:52:34",
          "1970-01-01T12:52:34",
          "1970-01-01T13:25:54",
          "1970-01-01T13:25:54",
          "1970-01-01T13:25:54",
          "1970-01-01T01:12:34",
          "1970-01-01T01:12:34",
          "1970-01-01T01:45:54",
          "1970-01-01T01:45:54",
          "1970-01-01T01:45:54",
          "1970-01-01T05:30:54",
          "1970-01-01T05:30:54",
          "1970-01-01T06:04:14",
          "1970-01-01T06:04:14",
          "1970-01-01T06:04:14",
          "1970-01-01T09:07:34",
          "1970-01-01T09:07:34",
          "1970-01-01T09:40:54",
          "1970-01-01T09:40:54",
          "1970-01-01T09:40:54",
          "1970-01-01T12:52:34",
          "1970-01-01T12:52:34",
          "1970-01-01T13:25:54",
          "1970-01-01T13:25:54",
          "1970-01-01T13:25:54"
         ],
         "y": [
          "Carrier C",
          "Carrier C",
          "Carrier C",
          "Carrier C",
          null,
          "Carrier C",
          "Carrier C",
          "Carrier C",
          "Carrier C",
          null,
          "Carrier C",
          "Carrier C",
          "Carrier C",
          "Carrier C",
          null,
          "Carrier C",
          "Carrier C",
          "Carrier C",
          "Carrier C",
          null,
          "Cutter T",
          "Cutter T",
          "Cutter T",
          "Cutter T",
          null,
          "Cutter T",
          "Cutter T",
          "Cutter T",
          "Cutter T",
          null,
          "Cutter T",
          "Cutter T",
          "Cutter T",
          "Cutter T",
          null,
          "Cutter T",
          "Cutter T",
          "Cutter T",
          "Cutter T",
          null,
          "Trench",
          "Trench",
          "Trench",
          "Trench",
          null,
          "Trench",
          "Trench",
          "Trench",
          "Trench",
          null,
          "Trench",
          "Trench",
          "Trench",
          "Trench",
          null,
          "Trench",
          "Trench",
          "Trench",
          "Trench",
          null
         ]
        },
        {
         "connectgaps": false,
         "hoverinfo": "y+name",
         "line": {
          "color": "rgb(102,83,218)",
          "width": 10
         },
         "mode": "lines",
         "name": "loading:Barge I",
         "type": "scatter",
         "x": [
          "1970-01-01T03:00:54",
          "1970-01-01T03:00:54",
          "1970-01-01T03:42:34",
          "1970-01-01T03:42:34",
          "1970-01-01T03:42:34",
          "1970-01-01T07:19:14",
          "1970-01-01T07:19:14",
          "1970-01-01T08:00:54",
          "1970-01-01T08:00:54",
          "1970-01-01T08:00:54",
          "1970-01-01T11:37:34",
          "1970-01-01T11:37:34",
          "1970-01-01T12:19:14",
          "1970-01-01T12:19:14",
          "1970-01-01T12:19:14",
          "1970-01-01T03:00:54",
          "1970-01-01T03:00:54",
          "1970-01-01T03:42:34",
          "1970-01-01T03:42:34",
          "1970-01-01T03:42:34",
          "1970-01-01T07:19:14",
          "1970-01-01T07:19:14",
          "1970-01-01T08:00:54",
          "1970-01-01T08:00:54",
          "1970-01-01T08:00:54",
          "1970-01-01T11:37:34",
          "1970-01-01T11:37:34",
          "1970-01-01T12:19:14",
          "1970-01-01T12:19:14",
          "1970-01-01T12:19:14",
          "1970-01-01T03:00:54",
          "1970-01-01T03:00:54",
          "1970-01-01T03:42:34",
          "1970-01-01T03:42:34",
          "1970-01-01T03:42:34",
          "1970-01-01T07:19:14",
          "1970-01-01T07:19:14",
          "1970-01-01T08:00:54",
          "1970-01-01T08:00:54",
          "1970-01-01T08:00:54",
          "1970-01-01T11:37:34",
          "1970-01-01T11:37:34",
          "1970-01-01T12:19:14",
          "1970-01-01T12:19:14",
          "1970-01-01T12:19:14"
         ],
         "y": [
          "Barge I",
          "Barge I",
          "Barge I",
          "Barge I",
          null,
          "Barge I",
          "Barge I",
          "Barge I",
          "Barge I",
          null,
          "Barge I",
          "Barge I",
          "Barge I",
          "Barge I",
          null,
          "Cutter T",
          "Cutter T",
          "Cutter T",
          "Cutter T",
          null,
          "Cutter T",
          "Cutter T",
          "Cutter T",
          "Cutter T",
          null,
          "Cutter T",
          "Cutter T",
          "Cutter T",
          "Cutter T",
          null,
          "Trench",
          "Trench",
          "Trench",
          "Trench",
          null,
          "Trench",
          "Trench",
          "Trench",
          "Trench",
          null,
          "Trench",
          "Trench",
          "Trench",
          "Trench",
          null
         ]
        },
        {
         "connectgaps": false,
         "hoverinfo": "y+name",
         "line": {
          "color": "rgb(106,87,222)",
          "width": 10
         },
         "mode": "lines",
         "name": "loading:Barge II",
         "type": "scatter",
         "x": [
          "1970-01-01T02:19:14",
          "1970-01-01T02:19:14",
          "1970-01-01T03:00:54",
          "1970-01-01T03:00:54",
          "1970-01-01T03:00:54",
          "1970-01-01T06:37:34",
          "1970-01-01T06:37:34",
          "1970-01-01T07:19:14",
          "1970-01-01T07:19:14",
          "1970-01-01T07:19:14",
          "1970-01-01T10:55:54",
          "1970-01-01T10:55:54",
          "1970-01-01T11:37:34",
          "1970-01-01T11:37:34",
          "1970-01-01T11:37:34",
          "1970-01-01T02:19:14",
          "1970-01-01T02:19:14",
          "1970-01-01T03:00:54",
          "1970-01-01T03:00:54",
          "1970-01-01T03:00:54",
          "1970-01-01T06:37:34",
          "1970-01-01T06:37:34",
          "1970-01-01T07:19:14",
          "1970-01-01T07:19:14",
          "1970-01-01T07:19:14",
          "1970-01-01T10:55:54",
          "1970-01-01T10:55:54",
          "1970-01-01T11:37:34",
          "1970-01-01T11:37:34",
          "1970-01-01T11:37:34",
          "1970-01-01T02:19:14",
          "1970-01-01T02:19:14",
          "1970-01-01T03:00:54",
          "1970-01-01T03:00:54",
          "1970-01-01T03:00:54",
          "1970-01-01T06:37:34",
          "1970-01-01T06:37:34",
          "1970-01-01T07:19:14",
          "1970-01-01T07:19:14",
          "1970-01-01T07:19:14",
          "1970-01-01T10:55:54",
          "1970-01-01T10:55:54",
          "1970-01-01T11:37:34",
          "1970-01-01T11:37:34",
          "1970-01-01T11:37:34"
         ],
         "y": [
          "Barge II",
          "Barge II",
          "Barge II",
          "Barge II",
          null,
          "Barge II",
          "Barge II",
          "Barge II",
          "Barge II",
          null,
          "Barge II",
          "Barge II",
          "Barge II",
          "Barge II",
          null,
          "Cutter T",
          "Cutter T",
          "Cutter T",
          "Cutter T",
          null,
          "Cutter T",
          "Cutter T",
          "Cutter T",
          "Cutter T",
          null,
          "Cutter T",
          "Cutter T",
          "Cutter T",
          "Cutter T",
          null,
          "Trench",
          "Trench",
          "Trench",
          "Trench",
          null,
          "Trench",
          "Trench",
          "Trench",
          "Trench",
          null,
          "Trench",
          "Trench",
          "Trench",
          "Trench",
          null
         ]
        },
        {
         "connectgaps": false,
         "hoverinfo": "y+name",
         "line": {
          "color": "rgb(110,91,226)",
          "width": 10
         },
         "mode": "lines",
         "name": "loading:Extra 1",
         "type": "scatter",
         "x": [
          "1970-01-01T03:42:34",
          "1970-01-01T03:42:34",
          "1970-01-01T04:15:54",
          "1970-01-01T04:15:54",
          "1970-01-01T04:15:54",
          "1970-01-01T08:00:54",
          "1970-01-01T08:00:54",
          "1970-01-01T08:34:14",
          "1970-01-01T08:34:14",
          "1970-01-01T08:34:14",
          "1970-01-01T12:19:14",
          "1970-01-01T12:19:14",
          "1970-01-01T12:52:34",
          "1970-01-01T12:52:34",
          "1970-01-01T12:52:34",
          "1970-01-01T03:42:34",
          "1970-01-01T03:42:34",
          "1970-01-01T04:15:54",
          "1970-01-01T04:15:54",
          "1970-01-01T04:15:54",
          "1970-01-01T08:00:54",
          "1970-01-01T08:00:54",
          "1970-01-01T08:34:14",
          "1970-01-01T08:34:14",
          "1970-01-01T08:34:14",
          "1970-01-01T12:19:14",
          "1970-01-01T12:19:14",
          "1970-01-01T12:52:34",
          "1970-01-01T12:52:34",
          "1970-01-01T12:52:34",
          "1970-01-01T03:42:34",
          "1970-01-01T03:42:34",
          "1970-01-01T04:15:54",
          "1970-01-01T04:15:54",
          "1970-01-01T04:15:54",
          "1970-01-01T08:00:54",
          "1970-01-01T08:00:54",
          "1970-01-01T08:34:14",
          "1970-01-01T08:34:14",
          "1970-01-01T08:34:14",
          "1970-01-01T12:19:14",
          "1970-01-01T12:19:14",
          "1970-01-01T12:52:34",
          "1970-01-01T12:52:34",
          "1970-01-01T12:52:34"
         ],
         "y": [
          "Extra 1",
          "Extra 1",
          "Extra 1",
          "Extra 1",
          null,
          "Extra 1",
          "Extra 1",
          "Extra 1",
          "Extra 1",
          null,
          "Extra 1",
          "Extra 1",
          "Extra 1",
          "Extra 1",
          null,
          "Cutter T",
          "Cutter T",
          "Cutter T",
          "Cutter T",
          null,
          "Cutter T",
          "Cutter T",
          "Cutter T",
          "Cutter T",
          null,
          "Cutter T",
          "Cutter T",
          "Cutter T",
          "Cutter T",
          null,
          "Trench",
          "Trench",
          "Trench",
          "Trench",
          null,
          "Trench",
          "Trench",
          "Trench",
          "Trench",
          null,
          "Trench",
          "Trench",
          "Trench",
          "Trench",
          null
         ]
        },
        {
         "connectgaps": false,
         "hoverinfo": "y+name",
         "line": {
          "color": "rgb(114,95,230)",
          "width": 10
         },
         "mode": "lines",
         "name": "loading:Barge III",
         "type": "scatter",
         "x": [
          "1970-01-01T04:15:54",
          "1970-01-01T04:15:54",
          "1970-01-01T04:49:14",
          "1970-01-01T04:49:14",
          "1970-01-01T04:49:14",
          "1970-01-01T08:34:14",
          "1970-01-01T08:34:14",
          "1970-01-01T09:07:34",
          "1970-01-01T09:07:34",
          "1970-01-01T09:07:34",
          "1970-01-01T13:25:54",
          "1970-01-01T13:25:54",
          "1970-01-01T13:59:14",
          "1970-01-01T13:59:14",
          "1970-01-01T13:59:14",
          "1970-01-01T04:15:54",
          "1970-01-01T04:15:54",
          "1970-01-01T04:49:14",
          "1970-01-01T04:49:14",
          "1970-01-01T04:49:14",
          "1970-01-01T08:34:14",
          "1970-01-01T08:34:14",
          "1970-01-01T09:07:34",
          "1970-01-01T09:07:34",
          "1970-01-01T09:07:34",
          "1970-01-01T13:25:54",
          "1970-01-01T13:25:54",
          "1970-01-01T13:59:14",
          "1970-01-01T13:59:14",
          "1970-01-01T13:59:14",
          "1970-01-01T04:15:54",
          "1970-01-01T04:15:54",
          "1970-01-01T04:49:14",
          "1970-01-01T04:49:14",
          "1970-01-01T04:49:14",
          "1970-01-01T08:34:14",
          "1970-01-01T08:34:14",
          "1970-01-01T09:07:34",
          "1970-01-01T09:07:34",
          "1970-01-01T09:07:34",
          "1970-01-01T13:25:54",
          "1970-01-01T13:25:54",
          "1970-01-01T13:59:14",
          "1970-01-01T13:59:14",
          "1970-01-01T13:59:14"
         ],
         "y": [
          "Barge III",
          "Barge III",
          "Barge III",
          "Barge III",
          null,
          "Barge III",
          "Barge III",
          "Barge III",
          "Barge III",
          null,
          "Barge III",
          "Barge III",
          "Barge III",
          "Barge III",
          null,
          "Cutter T",
          "Cutter T",
          "Cutter T",
          "Cutter T",
          null,
          "Cutter T",
          "Cutter T",
          "Cutter T",
          "Cutter T",
          null,
          "Cutter T",
          "Cutter T",
          "Cutter T",
          "Cutter T",
          null,
          "Trench",
          "Trench",
          "Trench",
          "Trench",
          null,
          "Trench",
          "Trench",
          "Trench",
          "Trench",
          null,
          "Trench",
          "Trench",
          "Trench",
          "Trench",
          null
         ]
        },
        {
         "connectgaps": false,
         "hoverinfo": "y+name",
         "line": {
          "color": "rgb(118,99,234)",
          "width": 10
         },
         "mode": "lines",
         "name": "loading:Carrier B",
         "type": "scatter",
         "x": [
          "1970-01-01T04:49:14",
          "1970-01-01T04:49:14",
          "1970-01-01T05:30:54",
          "1970-01-01T05:30:54",
          "1970-01-01T05:30:54",
          "1970-01-01T09:40:54",
          "1970-01-01T09:40:54",
          "1970-01-01T10:22:34",
          "1970-01-01T10:22:34",
          "1970-01-01T10:22:34",
          "1970-01-01T13:59:14",
          "1970-01-01T13:59:14",
          "1970-01-01T14:40:54",
          "1970-01-01T14:40:54",
          "1970-01-01T14:40:54",
          "1970-01-01T04:49:14",
          "1970-01-01T04:49:14",
          "1970-01-01T05:30:54",
          "1970-01-01T05:30:54",
          "1970-01-01T05:30:54",
          "1970-01-01T09:40:54",
          "1970-01-01T09:40:54",
          "1970-01-01T10:22:34",
          "1970-01-01T10:22:34",
          "1970-01-01T10:22:34",
          "1970-01-01T13:59:14",
          "1970-01-01T13:59:14",
          "1970-01-01T14:40:54",
          "1970-01-01T14:40:54",
          "1970-01-01T14:40:54",
          "1970-01-01T04:49:14",
          "1970-01-01T04:49:14",
          "1970-01-01T05:30:54",
          "1970-01-01T05:30:54",
          "1970-01-01T05:30:54",
          "1970-01-01T09:40:54",
          "1970-01-01T09:40:54",
          "1970-01-01T10:22:34",
          "1970-01-01T10:22:34",
          "1970-01-01T10:22:34",
          "1970-01-01T13:59:14",
          "1970-01-01T13:59:14",
          "1970-01-01T14:40:54",
          "1970-01-01T14:40:54",
          "1970-01-01T14:40:54"
         ],
         "y": [
          "Carrier B",
          "Carrier B",
          "Carrier B",
          "Carrier B",
          null,
          "Carrier B",
          "Carrier B",
          "Carrier B",
          "Carrier B",
          null,
          "Carrier B",
          "Carrier B",
          "Carrier B",
          "Carrier B",
          null,
          "Cutter T",
          "Cutter T",
          "Cutter T",
          "Cutter T",
          null,
          "Cutter T",
          "Cutter T",
          "Cutter T",
          "Cutter T",
          null,
          "Cutter T",
          "Cutter T",
          "Cutter T",
          "Cutter T",
          null,
          "Trench",
          "Trench",
          "Trench",
          "Trench",
          null,
          "Trench",
          "Trench",
          "Trench",
          "Trench",
          null,
          "Trench",
          "Trench",
          "Trench",
          "Trench",
          null
         ]
        },
        {
         "connectgaps": false,
         "hoverinfo": "y+name",
         "line": {
          "color": "rgb(122,103,238)",
          "width": 10
         },
         "mode": "lines",
         "name": "loading:Carrier A",
         "type": "scatter",
         "x": [
          "1970-01-01T01:45:54",
          "1970-01-01T01:45:54",
          "1970-01-01T02:19:14",
          "1970-01-01T02:19:14",
          "1970-01-01T02:19:14",
          "1970-01-01T06:04:14",
          "1970-01-01T06:04:14",
          "1970-01-01T06:37:34",
          "1970-01-01T06:37:34",
          "1970-01-01T06:37:34",
          "1970-01-01T10:22:34",
          "1970-01-01T10:22:34",
          "1970-01-01T10:55:54",
          "1970-01-01T10:55:54",
          "1970-01-01T10:55:54",
          "1970-01-01T14:40:54",
          "1970-01-01T14:40:54",
          "1970-01-01T15:14:14",
          "1970-01-01T15:14:14",
          "1970-01-01T15:14:14",
          "1970-01-01T01:45:54",
          "1970-01-01T01:45:54",
          "1970-01-01T02:19:14",
          "1970-01-01T02:19:14",
          "1970-01-01T02:19:14",
          "1970-01-01T06:04:14",
          "1970-01-01T06:04:14",
          "1970-01-01T06:37:34",
          "1970-01-01T06:37:34",
          "1970-01-01T06:37:34",
          "1970-01-01T10:22:34",
          "1970-01-01T10:22:34",
          "1970-01-01T10:55:54",
          "1970-01-01T10:55:54",
          "1970-01-01T10:55:54",
          "1970-01-01T14:40:54",
          "1970-01-01T14:40:54",
          "1970-01-01T15:14:14",
          "1970-01-01T15:14:14",
          "1970-01-01T15:14:14",
          "1970-01-01T01:45:54",
          "1970-01-01T01:45:54",
          "1970-01-01T02:19:14",
          "1970-01-01T02:19:14",
          "1970-01-01T02:19:14",
          "1970-01-01T06:04:14",
          "1970-01-01T06:04:14",
          "1970-01-01T06:37:34",
          "1970-01-01T06:37:34",
          "1970-01-01T06:37:34",
          "1970-01-01T10:22:34",
          "1970-01-01T10:22:34",
          "1970-01-01T10:55:54",
          "1970-01-01T10:55:54",
          "1970-01-01T10:55:54",
          "1970-01-01T14:40:54",
          "1970-01-01T14:40:54",
          "1970-01-01T15:14:14",
          "1970-01-01T15:14:14",
          "1970-01-01T15:14:14"
         ],
         "y": [
          "Carrier A",
          "Carrier A",
          "Carrier A",
          "Carrier A",
          null,
          "Carrier A",
          "Carrier A",
          "Carrier A",
          "Carrier A",
          null,
          "Carrier A",
          "Carrier A",
          "Carrier A",
          "Carrier A",
          null,
          "Carrier A",
          "Carrier A",
          "Carrier A",
          "Carrier A",
          null,
          "Cutter T",
          "Cutter T",
          "Cutter T",
          "Cutter T",
          null,
          "Cutter T",
          "Cutter T",
          "Cutter T",
          "Cutter T",
          null,
          "Cutter T",
          "Cutter T",
          "Cutter T",
          "Cutter T",
          null,
          "Cutter T",
          "Cutter T",
          "Cutter T",
          "Cutter T",
          null,
          "Trench",
          "Trench",
          "Trench",
          "Trench",
          null,
          "Trench",
          "Trench",
          "Trench",
          "Trench",
          null,
          "Trench",
          "Trench",
          "Trench",
          "Trench",
          null,
          "Trench",
          "Trench",
          "Trench",
          "Trench",
          null
         ]
        },
        {
         "connectgaps": false,
         "hoverinfo": "y+name",
         "line": {
          "color": "rgb(126,107,242)",
          "width": 10
         },
         "mode": "lines",
         "name": "loading:Carrier C",
         "type": "scatter",
         "x": [
          "1970-01-01T01:12:34",
          "1970-01-01T01:12:34",
          "1970-01-01T01:45:54",
          "1970-01-01T01:45:54",
          "1970-01-01T01:45:54",
          "1970-01-01T05:30:54",
          "1970-01-01T05:30:54",
          "1970-01-01T06:04:14",
          "1970-01-01T06:04:14",
          "1970-01-01T06:04:14",
          "1970-01-01T09:07:34",
          "1970-01-01T09:07:34",
          "1970-01-01T09:40:54",
          "1970-01-01T09:40:54",
          "1970-01-01T09:40:54",
          "1970-01-01T12:52:34",
          "1970-01-01T12:52:34",
          "1970-01-01T13:25:54",
          "1970-01-01T13:25:54",
          "1970-01-01T13:25:54",
          "1970-01-01T01:12:34",
          "1970-01-01T01:12:34",
          "1970-01-01T01:45:54",
          "1970-01-01T01:45:54",
          "1970-01-01T01:45:54",
          "1970-01-01T05:30:54",
          "1970-01-01T05:30:54",
          "1970-01-01T06:04:14",
          "1970-01-01T06:04:14",
          "1970-01-01T06:04:14",
          "1970-01-01T09:07:34",
          "1970-01-01T09:07:34",
          "1970-01-01T09:40:54",
          "1970-01-01T09:40:54",
          "1970-01-01T09:40:54",
          "1970-01-01T12:52:34",
          "1970-01-01T12:52:34",
          "1970-01-01T13:25:54",
          "1970-01-01T13:25:54",
          "1970-01-01T13:25:54",
          "1970-01-01T01:12:34",
          "1970-01-01T01:12:34",
          "1970-01-01T01:45:54",
          "1970-01-01T01:45:54",
          "1970-01-01T01:45:54",
          "1970-01-01T05:30:54",
          "1970-01-01T05:30:54",
          "1970-01-01T06:04:14",
          "1970-01-01T06:04:14",
          "1970-01-01T06:04:14",
          "1970-01-01T09:07:34",
          "1970-01-01T09:07:34",
          "1970-01-01T09:40:54",
          "1970-01-01T09:40:54",
          "1970-01-01T09:40:54",
          "1970-01-01T12:52:34",
          "1970-01-01T12:52:34",
          "1970-01-01T13:25:54",
          "1970-01-01T13:25:54",
          "1970-01-01T13:25:54"
         ],
         "y": [
          "Carrier C",
          "Carrier C",
          "Carrier C",
          "Carrier C",
          null,
          "Carrier C",
          "Carrier C",
          "Carrier C",
          "Carrier C",
          null,
          "Carrier C",
          "Carrier C",
          "Carrier C",
          "Carrier C",
          null,
          "Carrier C",
          "Carrier C",
          "Carrier C",
          "Carrier C",
          null,
          "Cutter T",
          "Cutter T",
          "Cutter T",
          "Cutter T",
          null,
          "Cutter T",
          "Cutter T",
          "Cutter T",
          "Cutter T",
          null,
          "Cutter T",
          "Cutter T",
          "Cutter T",
          "Cutter T",
          null,
          "Cutter T",
          "Cutter T",
          "Cutter T",
          "Cutter T",
          null,
          "Trench",
          "Trench",
          "Trench",
          "Trench",
          null,
          "Trench",
          "Trench",
          "Trench",
          "Trench",
          null,
          "Trench",
          "Trench",
          "Trench",
          "Trench",
          null,
          "Trench",
          "Trench",
          "Trench",
          "Trench",
          null
         ]
        },
        {
         "connectgaps": false,
         "hoverinfo": "y+name",
         "line": {
          "color": "rgb(130,111,246)",
          "width": 10
         },
         "mode": "lines",
         "name": "loading:Barge I",
         "type": "scatter",
         "x": [
          "1970-01-01T03:00:54",
          "1970-01-01T03:00:54",
          "1970-01-01T03:42:34",
          "1970-01-01T03:42:34",
          "1970-01-01T03:42:34",
          "1970-01-01T07:19:14",
          "1970-01-01T07:19:14",
          "1970-01-01T08:00:54",
          "1970-01-01T08:00:54",
          "1970-01-01T08:00:54",
          "1970-01-01T11:37:34",
          "1970-01-01T11:37:34",
          "1970-01-01T12:19:14",
          "1970-01-01T12:19:14",
          "1970-01-01T12:19:14",
          "1970-01-01T03:00:54",
          "1970-01-01T03:00:54",
          "1970-01-01T03:42:34",
          "1970-01-01T03:42:34",
          "1970-01-01T03:42:34",
          "1970-01-01T07:19:14",
          "1970-01-01T07:19:14",
          "1970-01-01T08:00:54",
          "1970-01-01T08:00:54",
          "1970-01-01T08:00:54",
          "1970-01-01T11:37:34",
          "1970-01-01T11:37:34",
          "1970-01-01T12:19:14",
          "1970-01-01T12:19:14",
          "1970-01-01T12:19:14",
          "1970-01-01T03:00:54",
          "1970-01-01T03:00:54",
          "1970-01-01T03:42:34",
          "1970-01-01T03:42:34",
          "1970-01-01T03:42:34",
          "1970-01-01T07:19:14",
          "1970-01-01T07:19:14",
          "1970-01-01T08:00:54",
          "1970-01-01T08:00:54",
          "1970-01-01T08:00:54",
          "1970-01-01T11:37:34",
          "1970-01-01T11:37:34",
          "1970-01-01T12:19:14",
          "1970-01-01T12:19:14",
          "1970-01-01T12:19:14"
         ],
         "y": [
          "Barge I",
          "Barge I",
          "Barge I",
          "Barge I",
          null,
          "Barge I",
          "Barge I",
          "Barge I",
          "Barge I",
          null,
          "Barge I",
          "Barge I",
          "Barge I",
          "Barge I",
          null,
          "Cutter T",
          "Cutter T",
          "Cutter T",
          "Cutter T",
          null,
          "Cutter T",
          "Cutter T",
          "Cutter T",
          "Cutter T",
          null,
          "Cutter T",
          "Cutter T",
          "Cutter T",
          "Cutter T",
          null,
          "Trench",
          "Trench",
          "Trench",
          "Trench",
          null,
          "Trench",
          "Trench",
          "Trench",
          "Trench",
          null,
          "Trench",
          "Trench",
          "Trench",
          "Trench",
          null
         ]
        },
        {
         "connectgaps": false,
         "hoverinfo": "y+name",
         "line": {
          "color": "rgb(134,115,250)",
          "width": 10
         },
         "mode": "lines",
         "name": "loading:Barge II",
         "type": "scatter",
         "x": [
          "1970-01-01T02:19:14",
          "1970-01-01T02:19:14",
          "1970-01-01T03:00:54",
          "1970-01-01T03:00:54",
          "1970-01-01T03:00:54",
          "1970-01-01T06:37:34",
          "1970-01-01T06:37:34",
          "1970-01-01T07:19:14",
          "1970-01-01T07:19:14",
          "1970-01-01T07:19:14",
          "1970-01-01T10:55:54",
          "1970-01-01T10:55:54",
          "1970-01-01T11:37:34",
          "1970-01-01T11:37:34",
          "1970-01-01T11:37:34",
          "1970-01-01T02:19:14",
          "1970-01-01T02:19:14",
          "1970-01-01T03:00:54",
          "1970-01-01T03:00:54",
          "1970-01-01T03:00:54",
          "1970-01-01T06:37:34",
          "1970-01-01T06:37:34",
          "1970-01-01T07:19:14",
          "1970-01-01T07:19:14",
          "1970-01-01T07:19:14",
          "1970-01-01T10:55:54",
          "1970-01-01T10:55:54",
          "1970-01-01T11:37:34",
          "1970-01-01T11:37:34",
          "1970-01-01T11:37:34",
          "1970-01-01T02:19:14",
          "1970-01-01T02:19:14",
          "1970-01-01T03:00:54",
          "1970-01-01T03:00:54",
          "1970-01-01T03:00:54",
          "1970-01-01T06:37:34",
          "1970-01-01T06:37:34",
          "1970-01-01T07:19:14",
          "1970-01-01T07:19:14",
          "1970-01-01T07:19:14",
          "1970-01-01T10:55:54",
          "1970-01-01T10:55:54",
          "1970-01-01T11:37:34",
          "1970-01-01T11:37:34",
          "1970-01-01T11:37:34"
         ],
         "y": [
          "Barge II",
          "Barge II",
          "Barge II",
          "Barge II",
          null,
          "Barge II",
          "Barge II",
          "Barge II",
          "Barge II",
          null,
          "Barge II",
          "Barge II",
          "Barge II",
          "Barge II",
          null,
          "Cutter T",
          "Cutter T",
          "Cutter T",
          "Cutter T",
          null,
          "Cutter T",
          "Cutter T",
          "Cutter T",
          "Cutter T",
          null,
          "Cutter T",
          "Cutter T",
          "Cutter T",
          "Cutter T",
          null,
          "Trench",
          "Trench",
          "Trench",
          "Trench",
          null,
          "Trench",
          "Trench",
          "Trench",
          "Trench",
          null,
          "Trench",
          "Trench",
          "Trench",
          "Trench",
          null
         ]
        },
        {
         "connectgaps": false,
         "hoverinfo": "y+name",
         "line": {
          "color": "rgb(138,119,254)",
          "width": 10
         },
         "mode": "lines",
         "name": "loading:Extra 1",
         "type": "scatter",
         "x": [
          "1970-01-01T03:42:34",
          "1970-01-01T03:42:34",
          "1970-01-01T04:15:54",
          "1970-01-01T04:15:54",
          "1970-01-01T04:15:54",
          "1970-01-01T08:00:54",
          "1970-01-01T08:00:54",
          "1970-01-01T08:34:14",
          "1970-01-01T08:34:14",
          "1970-01-01T08:34:14",
          "1970-01-01T12:19:14",
          "1970-01-01T12:19:14",
          "1970-01-01T12:52:34",
          "1970-01-01T12:52:34",
          "1970-01-01T12:52:34",
          "1970-01-01T03:42:34",
          "1970-01-01T03:42:34",
          "1970-01-01T04:15:54",
          "1970-01-01T04:15:54",
          "1970-01-01T04:15:54",
          "1970-01-01T08:00:54",
          "1970-01-01T08:00:54",
          "1970-01-01T08:34:14",
          "1970-01-01T08:34:14",
          "1970-01-01T08:34:14",
          "1970-01-01T12:19:14",
          "1970-01-01T12:19:14",
          "1970-01-01T12:52:34",
          "1970-01-01T12:52:34",
          "1970-01-01T12:52:34",
          "1970-01-01T03:42:34",
          "1970-01-01T03:42:34",
          "1970-01-01T04:15:54",
          "1970-01-01T04:15:54",
          "1970-01-01T04:15:54",
          "1970-01-01T08:00:54",
          "1970-01-01T08:00:54",
          "1970-01-01T08:34:14",
          "1970-01-01T08:34:14",
          "1970-01-01T08:34:14",
          "1970-01-01T12:19:14",
          "1970-01-01T12:19:14",
          "1970-01-01T12:52:34",
          "1970-01-01T12:52:34",
          "1970-01-01T12:52:34"
         ],
         "y": [
          "Extra 1",
          "Extra 1",
          "Extra 1",
          "Extra 1",
          null,
          "Extra 1",
          "Extra 1",
          "Extra 1",
          "Extra 1",
          null,
          "Extra 1",
          "Extra 1",
          "Extra 1",
          "Extra 1",
          null,
          "Cutter T",
          "Cutter T",
          "Cutter T",
          "Cutter T",
          null,
          "Cutter T",
          "Cutter T",
          "Cutter T",
          "Cutter T",
          null,
          "Cutter T",
          "Cutter T",
          "Cutter T",
          "Cutter T",
          null,
          "Trench",
          "Trench",
          "Trench",
          "Trench",
          null,
          "Trench",
          "Trench",
          "Trench",
          "Trench",
          null,
          "Trench",
          "Trench",
          "Trench",
          "Trench",
          null
         ]
        },
        {
         "connectgaps": false,
         "hoverinfo": "y+name",
         "line": {
          "color": "rgb(142,123,2)",
          "width": 10
         },
         "mode": "lines",
         "name": "unloading:Barge II",
         "type": "scatter",
         "x": [
          "1970-01-01T03:43:15",
          "1970-01-01T03:43:15",
          "1970-01-01T04:25:36",
          "1970-01-01T04:25:36",
          "1970-01-01T04:25:36",
          "1970-01-01T08:01:35",
          "1970-01-01T08:01:35",
          "1970-01-01T08:43:56",
          "1970-01-01T08:43:56",
          "1970-01-01T08:43:56",
          "1970-01-01T12:19:55",
          "1970-01-01T12:19:55",
          "1970-01-01T13:02:16",
          "1970-01-01T13:02:16",
          "1970-01-01T13:02:16",
          "1970-01-01T03:43:15",
          "1970-01-01T03:43:15",
          "1970-01-01T04:25:36",
          "1970-01-01T04:25:36",
          "1970-01-01T04:25:36",
          "1970-01-01T08:01:35",
          "1970-01-01T08:01:35",
          "1970-01-01T08:43:56",
          "1970-01-01T08:43:56",
          "1970-01-01T08:43:56",
          "1970-01-01T12:19:55",
          "1970-01-01T12:19:55",
          "1970-01-01T13:02:16",
          "1970-01-01T13:02:16",
          "1970-01-01T13:02:16"
         ],
         "y": [
          "Barge II",
          "Barge II",
          "Barge II",
          "Barge II",
          null,
          "Barge II",
          "Barge II",
          "Barge II",
          "Barge II",
          null,
          "Barge II",
          "Barge II",
          "Barge II",
          "Barge II",
          null,
          "Reclamation",
          "Reclamation",
          "Reclamation",
          "Reclamation",
          null,
          "Reclamation",
          "Reclamation",
          "Reclamation",
          "Reclamation",
          null,
          "Reclamation",
          "Reclamation",
          "Reclamation",
          "Reclamation",
          null
         ]
        },
        {
         "connectgaps": false,
         "hoverinfo": "y+name",
         "line": {
          "color": "rgb(146,127,6)",
          "width": 10
         },
         "mode": "lines",
         "name": "unloading:Carrier A",
         "type": "scatter",
         "x": [
          "1970-01-01T02:58:36",
          "1970-01-01T02:58:36",
          "1970-01-01T03:37:58",
          "1970-01-01T03:37:58",
          "1970-01-01T03:37:58",
          "1970-01-01T07:16:56",
          "1970-01-01T07:16:56",
          "1970-01-01T07:56:18",
          "1970-01-01T07:56:18",
          "1970-01-01T07:56:18",
          "1970-01-01T11:35:16",
          "1970-01-01T11:35:16",
          "1970-01-01T12:14:38",
          "1970-01-01T12:14:38",
          "1970-01-01T12:14:38",
          "1970-01-01T15:53:36",
          "1970-01-01T15:53:36",
          "1970-01-01T16:32:58",
          "1970-01-01T16:32:58",
          "1970-01-01T16:32:58",
          "1970-01-01T02:58:36",
          "1970-01-01T02:58:36",
          "1970-01-01T03:37:58",
          "1970-01-01T03:37:58",
          "1970-01-01T03:37:58",
          "1970-01-01T07:16:56",
          "1970-01-01T07:16:56",
          "1970-01-01T07:56:18",
          "1970-01-01T07:56:18",
          "1970-01-01T07:56:18",
          "1970-01-01T11:35:16",
          "1970-01-01T11:35:16",
          "1970-01-01T12:14:38",
          "1970-01-01T12:14:38",
          "1970-01-01T12:14:38",
          "1970-01-01T15:53:36",
          "1970-01-01T15:53:36",
          "1970-01-01T16:32:58",
          "1970-01-01T16:32:58",
          "1970-01-01T16:32:58"
         ],
         "y": [
          "Carrier A",
          "Carrier A",
          "Carrier A",
          "Carrier A",
          null,
          "Carrier A",
          "Carrier A",
          "Carrier A",
          "Carrier A",
          null,
          "Carrier A",
          "Carrier A",
          "Carrier A",
          "Carrier A",
          null,
          "Carrier A",
          "Carrier A",
          "Carrier A",
          "Carrier A",
          null,
          "Reclamation",
          "Reclamation",
          "Reclamation",
          "Reclamation",
          null,
          "Reclamation",
          "Reclamation",
          "Reclamation",
          "Reclamation",
          null,
          "Reclamation",
          "Reclamation",
          "Reclamation",
          "Reclamation",
          null,
          "Reclamation",
          "Reclamation",
          "Reclamation",
          "Reclamation",
          null
         ]
        },
        {
         "connectgaps": false,
         "hoverinfo": "y+name",
         "line": {
          "color": "rgb(150,131,10)",
          "width": 10
         },
         "mode": "lines",
         "name": "unloading:Barge I",
         "type": "scatter",
         "x": [
          "1970-01-01T04:24:58",
          "1970-01-01T04:24:58",
          "1970-01-01T05:07:22",
          "1970-01-01T05:07:22",
          "1970-01-01T05:07:22",
          "1970-01-01T08:43:18",
          "1970-01-01T08:43:18",
          "1970-01-01T09:25:42",
          "1970-01-01T09:25:42",
          "1970-01-01T09:25:42",
          "1970-01-01T13:01:38",
          "1970-01-01T13:01:38",
          "1970-01-01T13:44:02",
          "1970-01-01T13:44:02",
          "1970-01-01T13:44:02",
          "1970-01-01T04:24:58",
          "1970-01-01T04:24:58",
          "1970-01-01T05:07:22",
          "1970-01-01T05:07:22",
          "1970-01-01T05:07:22",
          "1970-01-01T08:43:18",
          "1970-01-01T08:43:18",
          "1970-01-01T09:25:42",
          "1970-01-01T09:25:42",
          "1970-01-01T09:25:42",
          "1970-01-01T13:01:38",
          "1970-01-01T13:01:38",
          "1970-01-01T13:44:02",
          "1970-01-01T13:44:02",
          "1970-01-01T13:44:02"
         ],
         "y": [
          "Barge I",
          "Barge I",
          "Barge I",
          "Barge I",
          null,
          "Barge I",
          "Barge I",
          "Barge I",
          "Barge I",
          null,
          "Barge I",
          "Barge I",
          "Barge I",
          "Barge I",
          null,
          "Reclamation",
          "Reclamation",
          "Reclamation",
          "Reclamation",
          null,
          "Reclamation",
          "Reclamation",
          "Reclamation",
          "Reclamation",
          null,
          "Reclamation",
          "Reclamation",
          "Reclamation",
          "Reclamation",
          null
         ]
        },
        {
         "connectgaps": false,
         "hoverinfo": "y+name",
         "line": {
          "color": "rgb(154,135,14)",
          "width": 10
         },
         "mode": "lines",
         "name": "unloading:Barge III",
         "type": "scatter",
         "x": [
          "1970-01-01T05:36:21",
          "1970-01-01T05:36:21",
          "1970-01-01T06:23:28",
          "1970-01-01T06:23:28",
          "1970-01-01T06:23:28",
          "1970-01-01T09:54:41",
          "1970-01-01T09:54:41",
          "1970-01-01T10:41:48",
          "1970-01-01T10:41:48",
          "1970-01-01T10:41:48",
          "1970-01-01T14:46:21",
          "1970-01-01T14:46:21",
          "1970-01-01T15:33:28",
          "1970-01-01T15:33:28",
          "1970-01-01T15:33:28",
          "1970-01-01T05:36:21",
          "1970-01-01T05:36:21",
          "1970-01-01T06:23:28",
          "1970-01-01T06:23:28",
          "1970-01-01T06:23:28",
          "1970-01-01T09:54:41",
          "1970-01-01T09:54:41",
          "1970-01-01T10:41:48",
          "1970-01-01T10:41:48",
          "1970-01-01T10:41:48",
          "1970-01-01T14:46:21",
          "1970-01-01T14:46:21",
          "1970-01-01T15:33:28",
          "1970-01-01T15:33:28",
          "1970-01-01T15:33:28"
         ],
         "y": [
          "Barge III",
          "Barge III",
          "Barge III",
          "Barge III",
          null,
          "Barge III",
          "Barge III",
          "Barge III",
          "Barge III",
          null,
          "Barge III",
          "Barge III",
          "Barge III",
          "Barge III",
          null,
          "Reclamation",
          "Reclamation",
          "Reclamation",
          "Reclamation",
          null,
          "Reclamation",
          "Reclamation",
          "Reclamation",
          "Reclamation",
          null,
          "Reclamation",
          "Reclamation",
          "Reclamation",
          "Reclamation",
          null
         ]
        },
        {
         "connectgaps": false,
         "hoverinfo": "y+name",
         "line": {
          "color": "rgb(158,139,18)",
          "width": 10
         },
         "mode": "lines",
         "name": "unloading:Carrier B",
         "type": "scatter",
         "x": [
          "1970-01-01T06:18:13",
          "1970-01-01T06:18:13",
          "1970-01-01T07:05:32",
          "1970-01-01T07:05:32",
          "1970-01-01T07:05:32",
          "1970-01-01T11:09:53",
          "1970-01-01T11:09:53",
          "1970-01-01T11:57:12",
          "1970-01-01T11:57:12",
          "1970-01-01T11:57:12",
          "1970-01-01T15:28:13",
          "1970-01-01T15:28:13",
          "1970-01-01T16:15:32",
          "1970-01-01T16:15:32",
          "1970-01-01T16:15:32",
          "1970-01-01T06:18:13",
          "1970-01-01T06:18:13",
          "1970-01-01T07:05:32",
          "1970-01-01T07:05:32",
          "1970-01-01T07:05:32",
          "1970-01-01T11:09:53",
          "1970-01-01T11:09:53",
          "1970-01-01T11:57:12",
          "1970-01-01T11:57:12",
          "1970-01-01T11:57:12",
          "1970-01-01T15:28:13",
          "1970-01-01T15:28:13",
          "1970-01-01T16:15:32",
          "1970-01-01T16:15:32",
          "1970-01-01T16:15:32"
         ],
         "y": [
          "Carrier B",
          "Carrier B",
          "Carrier B",
          "Carrier B",
          null,
          "Carrier B",
          "Carrier B",
          "Carrier B",
          "Carrier B",
          null,
          "Carrier B",
          "Carrier B",
          "Carrier B",
          "Carrier B",
          null,
          "Reclamation",
          "Reclamation",
          "Reclamation",
          "Reclamation",
          null,
          "Reclamation",
          "Reclamation",
          "Reclamation",
          "Reclamation",
          null,
          "Reclamation",
          "Reclamation",
          "Reclamation",
          "Reclamation",
          null
         ]
        },
        {
         "connectgaps": false,
         "hoverinfo": "y+name",
         "line": {
          "color": "rgb(162,143,22)",
          "width": 10
         },
         "mode": "lines",
         "name": "unloading:Extra 1",
         "type": "scatter",
         "x": [
          "1970-01-01T05:02:52",
          "1970-01-01T05:02:52",
          "1970-01-01T05:49:50",
          "1970-01-01T05:49:50",
          "1970-01-01T05:49:50",
          "1970-01-01T09:21:12",
          "1970-01-01T09:21:12",
          "1970-01-01T10:08:10",
          "1970-01-01T10:08:10",
          "1970-01-01T10:08:10",
          "1970-01-01T13:39:32",
          "1970-01-01T13:39:32",
          "1970-01-01T14:26:30",
          "1970-01-01T14:26:30",
          "1970-01-01T14:26:30",
          "1970-01-01T05:02:52",
          "1970-01-01T05:02:52",
          "1970-01-01T05:49:50",
          "1970-01-01T05:49:50",
          "1970-01-01T05:49:50",
          "1970-01-01T09:21:12",
          "1970-01-01T09:21:12",
          "1970-01-01T10:08:10",
          "1970-01-01T10:08:10",
          "1970-01-01T10:08:10",
          "1970-01-01T13:39:32",
          "1970-01-01T13:39:32",
          "1970-01-01T14:26:30",
          "1970-01-01T14:26:30",
          "1970-01-01T14:26:30"
         ],
         "y": [
          "Extra 1",
          "Extra 1",
          "Extra 1",
          "Extra 1",
          null,
          "Extra 1",
          "Extra 1",
          "Extra 1",
          "Extra 1",
          null,
          "Extra 1",
          "Extra 1",
          "Extra 1",
          "Extra 1",
          null,
          "Reclamation",
          "Reclamation",
          "Reclamation",
          "Reclamation",
          null,
          "Reclamation",
          "Reclamation",
          "Reclamation",
          "Reclamation",
          null,
          "Reclamation",
          "Reclamation",
          "Reclamation",
          "Reclamation",
          null
         ]
        },
        {
         "connectgaps": false,
         "hoverinfo": "y+name",
         "line": {
          "color": "rgb(166,147,26)",
          "width": 10
         },
         "mode": "lines",
         "name": "unloading:Carrier C",
         "type": "scatter",
         "x": [
          "1970-01-01T02:22:11",
          "1970-01-01T02:22:11",
          "1970-01-01T02:58:28",
          "1970-01-01T02:58:28",
          "1970-01-01T02:58:28",
          "1970-01-01T06:40:31",
          "1970-01-01T06:40:31",
          "1970-01-01T07:16:48",
          "1970-01-01T07:16:48",
          "1970-01-01T07:16:48",
          "1970-01-01T10:17:11",
          "1970-01-01T10:17:11",
          "1970-01-01T10:53:28",
          "1970-01-01T10:53:28",
          "1970-01-01T10:53:28",
          "1970-01-01T14:02:11",
          "1970-01-01T14:02:11",
          "1970-01-01T14:38:28",
          "1970-01-01T14:38:28",
          "1970-01-01T14:38:28",
          "1970-01-01T02:22:11",
          "1970-01-01T02:22:11",
          "1970-01-01T02:58:28",
          "1970-01-01T02:58:28",
          "1970-01-01T02:58:28",
          "1970-01-01T06:40:31",
          "1970-01-01T06:40:31",
          "1970-01-01T07:16:48",
          "1970-01-01T07:16:48",
          "1970-01-01T07:16:48",
          "1970-01-01T10:17:11",
          "1970-01-01T10:17:11",
          "1970-01-01T10:53:28",
          "1970-01-01T10:53:28",
          "1970-01-01T10:53:28",
          "1970-01-01T14:02:11",
          "1970-01-01T14:02:11",
          "1970-01-01T14:38:28",
          "1970-01-01T14:38:28",
          "1970-01-01T14:38:28"
         ],
         "y": [
          "Carrier C",
          "Carrier C",
          "Carrier C",
          "Carrier C",
          null,
          "Carrier C",
          "Carrier C",
          "Carrier C",
          "Carrier C",
          null,
          "Carrier C",
          "Carrier C",
          "Carrier C",
          "Carrier C",
          null,
          "Carrier C",
          "Carrier C",
          "Carrier C",
          "Carrier C",
          null,
          "Reclamation",
          "Reclamation",
          "Reclamation",
          "Reclamation",
          null,
          "Reclamation",
          "Reclamation",
          "Reclamation",
          "Reclamation",
          null,
          "Reclamation",
          "Reclamation",
          "Reclamation",
          "Reclamation",
          null,
          "Reclamation",
          "Reclamation",
          "Reclamation",
          "Reclamation",
          null
         ]
        }
       ],
       "layout": {
        "hovermode": "closest",
        "legend": {
         "orientation": "h",
         "x": 0,
         "y": -0.2
        },
        "showlegend": false,
        "template": {
         "data": {
          "bar": [
           {
            "error_x": {
             "color": "#2a3f5f"
            },
            "error_y": {
             "color": "#2a3f5f"
            },
            "marker": {
             "line": {
              "color": "#E5ECF6",
              "width": 0.5
             },
             "pattern": {
              "fillmode": "overlay",
              "size": 10,
              "solidity": 0.2
             }
            },
            "type": "bar"
           }
          ],
          "barpolar": [
           {
            "marker": {
             "line": {
              "color": "#E5ECF6",
              "width": 0.5
             },
             "pattern": {
              "fillmode": "overlay",
              "size": 10,
              "solidity": 0.2
             }
            },
            "type": "barpolar"
           }
          ],
          "carpet": [
           {
            "aaxis": {
             "endlinecolor": "#2a3f5f",
             "gridcolor": "white",
             "linecolor": "white",
             "minorgridcolor": "white",
             "startlinecolor": "#2a3f5f"
            },
            "baxis": {
             "endlinecolor": "#2a3f5f",
             "gridcolor": "white",
             "linecolor": "white",
             "minorgridcolor": "white",
             "startlinecolor": "#2a3f5f"
            },
            "type": "carpet"
           }
          ],
          "choropleth": [
           {
            "colorbar": {
             "outlinewidth": 0,
             "ticks": ""
            },
            "type": "choropleth"
           }
          ],
          "contour": [
           {
            "colorbar": {
             "outlinewidth": 0,
             "ticks": ""
            },
            "colorscale": [
             [
              0,
              "#0d0887"
             ],
             [
              0.1111111111111111,
              "#46039f"
             ],
             [
              0.2222222222222222,
              "#7201a8"
             ],
             [
              0.3333333333333333,
              "#9c179e"
             ],
             [
              0.4444444444444444,
              "#bd3786"
             ],
             [
              0.5555555555555556,
              "#d8576b"
             ],
             [
              0.6666666666666666,
              "#ed7953"
             ],
             [
              0.7777777777777778,
              "#fb9f3a"
             ],
             [
              0.8888888888888888,
              "#fdca26"
             ],
             [
              1,
              "#f0f921"
             ]
            ],
            "type": "contour"
           }
          ],
          "contourcarpet": [
           {
            "colorbar": {
             "outlinewidth": 0,
             "ticks": ""
            },
            "type": "contourcarpet"
           }
          ],
          "heatmap": [
           {
            "colorbar": {
             "outlinewidth": 0,
             "ticks": ""
            },
            "colorscale": [
             [
              0,
              "#0d0887"
             ],
             [
              0.1111111111111111,
              "#46039f"
             ],
             [
              0.2222222222222222,
              "#7201a8"
             ],
             [
              0.3333333333333333,
              "#9c179e"
             ],
             [
              0.4444444444444444,
              "#bd3786"
             ],
             [
              0.5555555555555556,
              "#d8576b"
             ],
             [
              0.6666666666666666,
              "#ed7953"
             ],
             [
              0.7777777777777778,
              "#fb9f3a"
             ],
             [
              0.8888888888888888,
              "#fdca26"
             ],
             [
              1,
              "#f0f921"
             ]
            ],
            "type": "heatmap"
           }
          ],
          "heatmapgl": [
           {
            "colorbar": {
             "outlinewidth": 0,
             "ticks": ""
            },
            "colorscale": [
             [
              0,
              "#0d0887"
             ],
             [
              0.1111111111111111,
              "#46039f"
             ],
             [
              0.2222222222222222,
              "#7201a8"
             ],
             [
              0.3333333333333333,
              "#9c179e"
             ],
             [
              0.4444444444444444,
              "#bd3786"
             ],
             [
              0.5555555555555556,
              "#d8576b"
             ],
             [
              0.6666666666666666,
              "#ed7953"
             ],
             [
              0.7777777777777778,
              "#fb9f3a"
             ],
             [
              0.8888888888888888,
              "#fdca26"
             ],
             [
              1,
              "#f0f921"
             ]
            ],
            "type": "heatmapgl"
           }
          ],
          "histogram": [
           {
            "marker": {
             "pattern": {
              "fillmode": "overlay",
              "size": 10,
              "solidity": 0.2
             }
            },
            "type": "histogram"
           }
          ],
          "histogram2d": [
           {
            "colorbar": {
             "outlinewidth": 0,
             "ticks": ""
            },
            "colorscale": [
             [
              0,
              "#0d0887"
             ],
             [
              0.1111111111111111,
              "#46039f"
             ],
             [
              0.2222222222222222,
              "#7201a8"
             ],
             [
              0.3333333333333333,
              "#9c179e"
             ],
             [
              0.4444444444444444,
              "#bd3786"
             ],
             [
              0.5555555555555556,
              "#d8576b"
             ],
             [
              0.6666666666666666,
              "#ed7953"
             ],
             [
              0.7777777777777778,
              "#fb9f3a"
             ],
             [
              0.8888888888888888,
              "#fdca26"
             ],
             [
              1,
              "#f0f921"
             ]
            ],
            "type": "histogram2d"
           }
          ],
          "histogram2dcontour": [
           {
            "colorbar": {
             "outlinewidth": 0,
             "ticks": ""
            },
            "colorscale": [
             [
              0,
              "#0d0887"
             ],
             [
              0.1111111111111111,
              "#46039f"
             ],
             [
              0.2222222222222222,
              "#7201a8"
             ],
             [
              0.3333333333333333,
              "#9c179e"
             ],
             [
              0.4444444444444444,
              "#bd3786"
             ],
             [
              0.5555555555555556,
              "#d8576b"
             ],
             [
              0.6666666666666666,
              "#ed7953"
             ],
             [
              0.7777777777777778,
              "#fb9f3a"
             ],
             [
              0.8888888888888888,
              "#fdca26"
             ],
             [
              1,
              "#f0f921"
             ]
            ],
            "type": "histogram2dcontour"
           }
          ],
          "mesh3d": [
           {
            "colorbar": {
             "outlinewidth": 0,
             "ticks": ""
            },
            "type": "mesh3d"
           }
          ],
          "parcoords": [
           {
            "line": {
             "colorbar": {
              "outlinewidth": 0,
              "ticks": ""
             }
            },
            "type": "parcoords"
           }
          ],
          "pie": [
           {
            "automargin": true,
            "type": "pie"
           }
          ],
          "scatter": [
           {
            "fillpattern": {
             "fillmode": "overlay",
             "size": 10,
             "solidity": 0.2
            },
            "type": "scatter"
           }
          ],
          "scatter3d": [
           {
            "line": {
             "colorbar": {
              "outlinewidth": 0,
              "ticks": ""
             }
            },
            "marker": {
             "colorbar": {
              "outlinewidth": 0,
              "ticks": ""
             }
            },
            "type": "scatter3d"
           }
          ],
          "scattercarpet": [
           {
            "marker": {
             "colorbar": {
              "outlinewidth": 0,
              "ticks": ""
             }
            },
            "type": "scattercarpet"
           }
          ],
          "scattergeo": [
           {
            "marker": {
             "colorbar": {
              "outlinewidth": 0,
              "ticks": ""
             }
            },
            "type": "scattergeo"
           }
          ],
          "scattergl": [
           {
            "marker": {
             "colorbar": {
              "outlinewidth": 0,
              "ticks": ""
             }
            },
            "type": "scattergl"
           }
          ],
          "scattermapbox": [
           {
            "marker": {
             "colorbar": {
              "outlinewidth": 0,
              "ticks": ""
             }
            },
            "type": "scattermapbox"
           }
          ],
          "scatterpolar": [
           {
            "marker": {
             "colorbar": {
              "outlinewidth": 0,
              "ticks": ""
             }
            },
            "type": "scatterpolar"
           }
          ],
          "scatterpolargl": [
           {
            "marker": {
             "colorbar": {
              "outlinewidth": 0,
              "ticks": ""
             }
            },
            "type": "scatterpolargl"
           }
          ],
          "scatterternary": [
           {
            "marker": {
             "colorbar": {
              "outlinewidth": 0,
              "ticks": ""
             }
            },
            "type": "scatterternary"
           }
          ],
          "surface": [
           {
            "colorbar": {
             "outlinewidth": 0,
             "ticks": ""
            },
            "colorscale": [
             [
              0,
              "#0d0887"
             ],
             [
              0.1111111111111111,
              "#46039f"
             ],
             [
              0.2222222222222222,
              "#7201a8"
             ],
             [
              0.3333333333333333,
              "#9c179e"
             ],
             [
              0.4444444444444444,
              "#bd3786"
             ],
             [
              0.5555555555555556,
              "#d8576b"
             ],
             [
              0.6666666666666666,
              "#ed7953"
             ],
             [
              0.7777777777777778,
              "#fb9f3a"
             ],
             [
              0.8888888888888888,
              "#fdca26"
             ],
             [
              1,
              "#f0f921"
             ]
            ],
            "type": "surface"
           }
          ],
          "table": [
           {
            "cells": {
             "fill": {
              "color": "#EBF0F8"
             },
             "line": {
              "color": "white"
             }
            },
            "header": {
             "fill": {
              "color": "#C8D4E3"
             },
             "line": {
              "color": "white"
             }
            },
            "type": "table"
           }
          ]
         },
         "layout": {
          "annotationdefaults": {
           "arrowcolor": "#2a3f5f",
           "arrowhead": 0,
           "arrowwidth": 1
          },
          "autotypenumbers": "strict",
          "coloraxis": {
           "colorbar": {
            "outlinewidth": 0,
            "ticks": ""
           }
          },
          "colorscale": {
           "diverging": [
            [
             0,
             "#8e0152"
            ],
            [
             0.1,
             "#c51b7d"
            ],
            [
             0.2,
             "#de77ae"
            ],
            [
             0.3,
             "#f1b6da"
            ],
            [
             0.4,
             "#fde0ef"
            ],
            [
             0.5,
             "#f7f7f7"
            ],
            [
             0.6,
             "#e6f5d0"
            ],
            [
             0.7,
             "#b8e186"
            ],
            [
             0.8,
             "#7fbc41"
            ],
            [
             0.9,
             "#4d9221"
            ],
            [
             1,
             "#276419"
            ]
           ],
           "sequential": [
            [
             0,
             "#0d0887"
            ],
            [
             0.1111111111111111,
             "#46039f"
            ],
            [
             0.2222222222222222,
             "#7201a8"
            ],
            [
             0.3333333333333333,
             "#9c179e"
            ],
            [
             0.4444444444444444,
             "#bd3786"
            ],
            [
             0.5555555555555556,
             "#d8576b"
            ],
            [
             0.6666666666666666,
             "#ed7953"
            ],
            [
             0.7777777777777778,
             "#fb9f3a"
            ],
            [
             0.8888888888888888,
             "#fdca26"
            ],
            [
             1,
             "#f0f921"
            ]
           ],
           "sequentialminus": [
            [
             0,
             "#0d0887"
            ],
            [
             0.1111111111111111,
             "#46039f"
            ],
            [
             0.2222222222222222,
             "#7201a8"
            ],
            [
             0.3333333333333333,
             "#9c179e"
            ],
            [
             0.4444444444444444,
             "#bd3786"
            ],
            [
             0.5555555555555556,
             "#d8576b"
            ],
            [
             0.6666666666666666,
             "#ed7953"
            ],
            [
             0.7777777777777778,
             "#fb9f3a"
            ],
            [
             0.8888888888888888,
             "#fdca26"
            ],
            [
             1,
             "#f0f921"
            ]
           ]
          },
          "colorway": [
           "#636efa",
           "#EF553B",
           "#00cc96",
           "#ab63fa",
           "#FFA15A",
           "#19d3f3",
           "#FF6692",
           "#B6E880",
           "#FF97FF",
           "#FECB52"
          ],
          "font": {
           "color": "#2a3f5f"
          },
          "geo": {
           "bgcolor": "white",
           "lakecolor": "white",
           "landcolor": "#E5ECF6",
           "showlakes": true,
           "showland": true,
           "subunitcolor": "white"
          },
          "hoverlabel": {
           "align": "left"
          },
          "hovermode": "closest",
          "mapbox": {
           "style": "light"
          },
          "paper_bgcolor": "white",
          "plot_bgcolor": "#E5ECF6",
          "polar": {
           "angularaxis": {
            "gridcolor": "white",
            "linecolor": "white",
            "ticks": ""
           },
           "bgcolor": "#E5ECF6",
           "radialaxis": {
            "gridcolor": "white",
            "linecolor": "white",
            "ticks": ""
           }
          },
          "scene": {
           "xaxis": {
            "backgroundcolor": "#E5ECF6",
            "gridcolor": "white",
            "gridwidth": 2,
            "linecolor": "white",
            "showbackground": true,
            "ticks": "",
            "zerolinecolor": "white"
           },
           "yaxis": {
            "backgroundcolor": "#E5ECF6",
            "gridcolor": "white",
            "gridwidth": 2,
            "linecolor": "white",
            "showbackground": true,
            "ticks": "",
            "zerolinecolor": "white"
           },
           "zaxis": {
            "backgroundcolor": "#E5ECF6",
            "gridcolor": "white",
            "gridwidth": 2,
            "linecolor": "white",
            "showbackground": true,
            "ticks": "",
            "zerolinecolor": "white"
           }
          },
          "shapedefaults": {
           "line": {
            "color": "#2a3f5f"
           }
          },
          "ternary": {
           "aaxis": {
            "gridcolor": "white",
            "linecolor": "white",
            "ticks": ""
           },
           "baxis": {
            "gridcolor": "white",
            "linecolor": "white",
            "ticks": ""
           },
           "bgcolor": "#E5ECF6",
           "caxis": {
            "gridcolor": "white",
            "linecolor": "white",
            "ticks": ""
           }
          },
          "title": {
           "x": 0.05
          },
          "xaxis": {
           "automargin": true,
           "gridcolor": "white",
           "linecolor": "white",
           "ticks": "",
           "title": {
            "standoff": 15
           },
           "zerolinecolor": "white",
           "zerolinewidth": 2
          },
          "yaxis": {
           "automargin": true,
           "gridcolor": "white",
           "linecolor": "white",
           "ticks": "",
           "title": {
            "standoff": 15
           },
           "zerolinecolor": "white",
           "zerolinewidth": 2
          }
         }
        },
        "title": {
         "text": "Cutter T occupancy: 100.0"
        },
        "xaxis": {
         "range": [
          "1970-01-01T00:00:00",
          "1970-01-01T16:32:58"
         ],
         "title": {
          "font": {
           "color": "#7f7f7f",
           "family": "Courier New, monospace",
           "size": 18
          },
          "text": "Time"
         }
        },
        "yaxis": {
         "title": {
          "font": {
           "color": "#7f7f7f",
           "family": "Courier New, monospace",
           "size": 18
          },
          "text": "vesels"
         }
        }
       }
      },
      "text/html": [
       "<div>                            <div id=\"abf689a2-1aed-4a36-8048-b9fcfb731b9e\" class=\"plotly-graph-div\" style=\"height:525px; width:100%;\"></div>            <script type=\"text/javascript\">                require([\"plotly\"], function(Plotly) {                    window.PLOTLYENV=window.PLOTLYENV || {};                                    if (document.getElementById(\"abf689a2-1aed-4a36-8048-b9fcfb731b9e\")) {                    Plotly.newPlot(                        \"abf689a2-1aed-4a36-8048-b9fcfb731b9e\",                        [{\"connectgaps\":false,\"hoverinfo\":\"name\",\"line\":{\"color\":\"red\",\"width\":14},\"mode\":\"lines\",\"name\":\"critical_path\",\"x\":[\"1970-01-01T00:00:00\",\"1970-01-01T00:36:17\",\"1970-01-01T00:36:17\",\"1970-01-01T00:36:17\",\"1970-01-01T01:12:34\",\"1970-01-01T01:12:34\",\"1970-01-01T01:12:34\",\"1970-01-01T01:45:54\",\"1970-01-01T01:45:54\",\"1970-01-01T01:12:34\",\"1970-01-01T01:45:54\",\"1970-01-01T01:45:54\",\"1970-01-01T01:12:34\",\"1970-01-01T01:45:54\",\"1970-01-01T01:45:54\",\"1970-01-01T01:45:54\",\"1970-01-01T02:19:14\",\"1970-01-01T02:19:14\",\"1970-01-01T01:45:54\",\"1970-01-01T02:19:14\",\"1970-01-01T02:19:14\",\"1970-01-01T01:45:54\",\"1970-01-01T02:19:14\",\"1970-01-01T02:19:14\",\"1970-01-01T02:19:14\",\"1970-01-01T03:00:54\",\"1970-01-01T03:00:54\",\"1970-01-01T02:19:14\",\"1970-01-01T03:00:54\",\"1970-01-01T03:00:54\",\"1970-01-01T02:19:14\",\"1970-01-01T03:00:54\",\"1970-01-01T03:00:54\",\"1970-01-01T03:00:54\",\"1970-01-01T03:42:34\",\"1970-01-01T03:42:34\",\"1970-01-01T03:00:54\",\"1970-01-01T03:42:34\",\"1970-01-01T03:42:34\",\"1970-01-01T03:00:54\",\"1970-01-01T03:42:34\",\"1970-01-01T03:42:34\",\"1970-01-01T03:42:34\",\"1970-01-01T04:15:54\",\"1970-01-01T04:15:54\",\"1970-01-01T03:42:34\",\"1970-01-01T04:15:54\",\"1970-01-01T04:15:54\",\"1970-01-01T03:42:34\",\"1970-01-01T04:15:54\",\"1970-01-01T04:15:54\",\"1970-01-01T04:15:54\",\"1970-01-01T04:49:14\",\"1970-01-01T04:49:14\",\"1970-01-01T04:15:54\",\"1970-01-01T04:49:14\",\"1970-01-01T04:49:14\",\"1970-01-01T04:15:54\",\"1970-01-01T04:49:14\",\"1970-01-01T04:49:14\",\"1970-01-01T04:49:14\",\"1970-01-01T05:30:54\",\"1970-01-01T05:30:54\",\"1970-01-01T04:49:14\",\"1970-01-01T05:30:54\",\"1970-01-01T05:30:54\",\"1970-01-01T04:49:14\",\"1970-01-01T05:30:54\",\"1970-01-01T05:30:54\",\"1970-01-01T05:30:54\",\"1970-01-01T06:04:14\",\"1970-01-01T06:04:14\",\"1970-01-01T05:30:54\",\"1970-01-01T06:04:14\",\"1970-01-01T06:04:14\",\"1970-01-01T05:30:54\",\"1970-01-01T06:04:14\",\"1970-01-01T06:04:14\",\"1970-01-01T06:04:14\",\"1970-01-01T06:37:34\",\"1970-01-01T06:37:34\",\"1970-01-01T06:04:14\",\"1970-01-01T06:37:34\",\"1970-01-01T06:37:34\",\"1970-01-01T06:04:14\",\"1970-01-01T06:37:34\",\"1970-01-01T06:37:34\",\"1970-01-01T06:37:34\",\"1970-01-01T07:19:14\",\"1970-01-01T07:19:14\",\"1970-01-01T06:37:34\",\"1970-01-01T07:19:14\",\"1970-01-01T07:19:14\",\"1970-01-01T06:37:34\",\"1970-01-01T07:19:14\",\"1970-01-01T07:19:14\",\"1970-01-01T07:19:14\",\"1970-01-01T08:00:54\",\"1970-01-01T08:00:54\",\"1970-01-01T07:19:14\",\"1970-01-01T08:00:54\",\"1970-01-01T08:00:54\",\"1970-01-01T07:19:14\",\"1970-01-01T08:00:54\",\"1970-01-01T08:00:54\",\"1970-01-01T08:00:54\",\"1970-01-01T08:34:14\",\"1970-01-01T08:34:14\",\"1970-01-01T08:00:54\",\"1970-01-01T08:34:14\",\"1970-01-01T08:34:14\",\"1970-01-01T08:00:54\",\"1970-01-01T08:34:14\",\"1970-01-01T08:34:14\",\"1970-01-01T08:34:14\",\"1970-01-01T09:07:34\",\"1970-01-01T09:07:34\",\"1970-01-01T08:34:14\",\"1970-01-01T09:07:34\",\"1970-01-01T09:07:34\",\"1970-01-01T08:34:14\",\"1970-01-01T09:07:34\",\"1970-01-01T09:07:34\",\"1970-01-01T09:07:34\",\"1970-01-01T09:40:54\",\"1970-01-01T09:40:54\",\"1970-01-01T09:07:34\",\"1970-01-01T09:40:54\",\"1970-01-01T09:40:54\",\"1970-01-01T09:07:34\",\"1970-01-01T09:40:54\",\"1970-01-01T09:40:54\",\"1970-01-01T09:40:54\",\"1970-01-01T10:22:34\",\"1970-01-01T10:22:34\",\"1970-01-01T09:40:54\",\"1970-01-01T10:22:34\",\"1970-01-01T10:22:34\",\"1970-01-01T09:40:54\",\"1970-01-01T10:22:34\",\"1970-01-01T10:22:34\",\"1970-01-01T10:22:34\",\"1970-01-01T10:55:54\",\"1970-01-01T10:55:54\",\"1970-01-01T10:22:34\",\"1970-01-01T10:55:54\",\"1970-01-01T10:55:54\",\"1970-01-01T10:22:34\",\"1970-01-01T10:55:54\",\"1970-01-01T10:55:54\",\"1970-01-01T10:55:54\",\"1970-01-01T11:37:34\",\"1970-01-01T11:37:34\",\"1970-01-01T10:55:54\",\"1970-01-01T11:37:34\",\"1970-01-01T11:37:34\",\"1970-01-01T10:55:54\",\"1970-01-01T11:37:34\",\"1970-01-01T11:37:34\",\"1970-01-01T11:37:34\",\"1970-01-01T12:19:14\",\"1970-01-01T12:19:14\",\"1970-01-01T11:37:34\",\"1970-01-01T12:19:14\",\"1970-01-01T12:19:14\",\"1970-01-01T11:37:34\",\"1970-01-01T12:19:14\",\"1970-01-01T12:19:14\",\"1970-01-01T12:19:14\",\"1970-01-01T12:52:34\",\"1970-01-01T12:52:34\",\"1970-01-01T12:19:14\",\"1970-01-01T12:52:34\",\"1970-01-01T12:52:34\",\"1970-01-01T12:19:14\",\"1970-01-01T12:52:34\",\"1970-01-01T12:52:34\",\"1970-01-01T12:52:34\",\"1970-01-01T13:25:54\",\"1970-01-01T13:25:54\",\"1970-01-01T12:52:34\",\"1970-01-01T13:25:54\",\"1970-01-01T13:25:54\",\"1970-01-01T12:52:34\",\"1970-01-01T13:25:54\",\"1970-01-01T13:25:54\",\"1970-01-01T13:25:54\",\"1970-01-01T13:59:14\",\"1970-01-01T13:59:14\",\"1970-01-01T13:25:54\",\"1970-01-01T13:59:14\",\"1970-01-01T13:59:14\",\"1970-01-01T13:25:54\",\"1970-01-01T13:59:14\",\"1970-01-01T13:59:14\",\"1970-01-01T13:59:14\",\"1970-01-01T14:40:54\",\"1970-01-01T14:40:54\",\"1970-01-01T13:59:14\",\"1970-01-01T14:40:54\",\"1970-01-01T14:40:54\",\"1970-01-01T13:59:14\",\"1970-01-01T14:40:54\",\"1970-01-01T14:40:54\",\"1970-01-01T14:40:54\",\"1970-01-01T15:14:14\",\"1970-01-01T15:14:14\",\"1970-01-01T14:40:54\",\"1970-01-01T15:14:14\",\"1970-01-01T15:14:14\",\"1970-01-01T14:40:54\",\"1970-01-01T15:14:14\",\"1970-01-01T15:14:14\",\"1970-01-01T15:14:14\",\"1970-01-01T15:53:36\",\"1970-01-01T15:53:36\",\"1970-01-01T15:53:36\",\"1970-01-01T16:32:58\",\"1970-01-01T16:32:58\",\"1970-01-01T15:53:36\",\"1970-01-01T16:32:58\",\"1970-01-01T16:32:58\"],\"y\":[\"Carrier C\",\"Carrier C\",null,\"Carrier C\",\"Carrier C\",null,\"Carrier C\",\"Carrier C\",null,\"Cutter T\",\"Cutter T\",null,\"Trench\",\"Trench\",null,\"Carrier A\",\"Carrier A\",null,\"Cutter T\",\"Cutter T\",null,\"Trench\",\"Trench\",null,\"Barge II\",\"Barge II\",null,\"Cutter T\",\"Cutter T\",null,\"Trench\",\"Trench\",null,\"Barge I\",\"Barge I\",null,\"Cutter T\",\"Cutter T\",null,\"Trench\",\"Trench\",null,\"Cutter T\",\"Cutter T\",null,\"Extra 1\",\"Extra 1\",null,\"Trench\",\"Trench\",null,\"Barge III\",\"Barge III\",null,\"Cutter T\",\"Cutter T\",null,\"Trench\",\"Trench\",null,\"Carrier B\",\"Carrier B\",null,\"Cutter T\",\"Cutter T\",null,\"Trench\",\"Trench\",null,\"Carrier C\",\"Carrier C\",null,\"Cutter T\",\"Cutter T\",null,\"Trench\",\"Trench\",null,\"Carrier A\",\"Carrier A\",null,\"Cutter T\",\"Cutter T\",null,\"Trench\",\"Trench\",null,\"Barge II\",\"Barge II\",null,\"Cutter T\",\"Cutter T\",null,\"Trench\",\"Trench\",null,\"Barge I\",\"Barge I\",null,\"Cutter T\",\"Cutter T\",null,\"Trench\",\"Trench\",null,\"Cutter T\",\"Cutter T\",null,\"Extra 1\",\"Extra 1\",null,\"Trench\",\"Trench\",null,\"Barge III\",\"Barge III\",null,\"Cutter T\",\"Cutter T\",null,\"Trench\",\"Trench\",null,\"Carrier C\",\"Carrier C\",null,\"Cutter T\",\"Cutter T\",null,\"Trench\",\"Trench\",null,\"Carrier B\",\"Carrier B\",null,\"Cutter T\",\"Cutter T\",null,\"Trench\",\"Trench\",null,\"Carrier A\",\"Carrier A\",null,\"Cutter T\",\"Cutter T\",null,\"Trench\",\"Trench\",null,\"Barge II\",\"Barge II\",null,\"Cutter T\",\"Cutter T\",null,\"Trench\",\"Trench\",null,\"Barge I\",\"Barge I\",null,\"Cutter T\",\"Cutter T\",null,\"Trench\",\"Trench\",null,\"Cutter T\",\"Cutter T\",null,\"Extra 1\",\"Extra 1\",null,\"Trench\",\"Trench\",null,\"Carrier C\",\"Carrier C\",null,\"Cutter T\",\"Cutter T\",null,\"Trench\",\"Trench\",null,\"Barge III\",\"Barge III\",null,\"Cutter T\",\"Cutter T\",null,\"Trench\",\"Trench\",null,\"Carrier B\",\"Carrier B\",null,\"Cutter T\",\"Cutter T\",null,\"Trench\",\"Trench\",null,\"Carrier A\",\"Carrier A\",null,\"Cutter T\",\"Cutter T\",null,\"Trench\",\"Trench\",null,\"Carrier A\",\"Carrier A\",null,\"Carrier A\",\"Carrier A\",null,\"Reclamation\",\"Reclamation\",null],\"type\":\"scatter\"},{\"connectgaps\":false,\"hoverinfo\":\"y+name\",\"line\":{\"color\":\"rgb(202,183,62)\",\"width\":10},\"mode\":\"lines\",\"name\":\"basic activity:Carrier A\",\"x\":[\"1970-01-01T00:00:00\",\"1970-01-01T00:00:00\",\"1970-01-01T00:39:22\",\"1970-01-01T00:39:22\",\"1970-01-01T00:39:22\",\"1970-01-01T03:37:58\",\"1970-01-01T03:37:58\",\"1970-01-01T04:17:20\",\"1970-01-01T04:17:20\",\"1970-01-01T04:17:20\",\"1970-01-01T07:56:18\",\"1970-01-01T07:56:18\",\"1970-01-01T08:35:40\",\"1970-01-01T08:35:40\",\"1970-01-01T08:35:40\",\"1970-01-01T12:14:38\",\"1970-01-01T12:14:38\",\"1970-01-01T12:54:00\",\"1970-01-01T12:54:00\",\"1970-01-01T12:54:00\"],\"y\":[\"Carrier A\",\"Carrier A\",\"Carrier A\",\"Carrier A\",null,\"Carrier A\",\"Carrier A\",\"Carrier A\",\"Carrier A\",null,\"Carrier A\",\"Carrier A\",\"Carrier A\",\"Carrier A\",null,\"Carrier A\",\"Carrier A\",\"Carrier A\",\"Carrier A\",null],\"type\":\"scatter\"},{\"connectgaps\":false,\"hoverinfo\":\"y+name\",\"line\":{\"color\":\"rgb(206,187,66)\",\"width\":10},\"mode\":\"lines\",\"name\":\"loading:Carrier A\",\"x\":[\"1970-01-01T01:45:54\",\"1970-01-01T01:45:54\",\"1970-01-01T02:19:14\",\"1970-01-01T02:19:14\",\"1970-01-01T02:19:14\",\"1970-01-01T06:04:14\",\"1970-01-01T06:04:14\",\"1970-01-01T06:37:34\",\"1970-01-01T06:37:34\",\"1970-01-01T06:37:34\",\"1970-01-01T10:22:34\",\"1970-01-01T10:22:34\",\"1970-01-01T10:55:54\",\"1970-01-01T10:55:54\",\"1970-01-01T10:55:54\",\"1970-01-01T14:40:54\",\"1970-01-01T14:40:54\",\"1970-01-01T15:14:14\",\"1970-01-01T15:14:14\",\"1970-01-01T15:14:14\",\"1970-01-01T01:45:54\",\"1970-01-01T01:45:54\",\"1970-01-01T02:19:14\",\"1970-01-01T02:19:14\",\"1970-01-01T02:19:14\",\"1970-01-01T06:04:14\",\"1970-01-01T06:04:14\",\"1970-01-01T06:37:34\",\"1970-01-01T06:37:34\",\"1970-01-01T06:37:34\",\"1970-01-01T10:22:34\",\"1970-01-01T10:22:34\",\"1970-01-01T10:55:54\",\"1970-01-01T10:55:54\",\"1970-01-01T10:55:54\",\"1970-01-01T14:40:54\",\"1970-01-01T14:40:54\",\"1970-01-01T15:14:14\",\"1970-01-01T15:14:14\",\"1970-01-01T15:14:14\",\"1970-01-01T01:45:54\",\"1970-01-01T01:45:54\",\"1970-01-01T02:19:14\",\"1970-01-01T02:19:14\",\"1970-01-01T02:19:14\",\"1970-01-01T06:04:14\",\"1970-01-01T06:04:14\",\"1970-01-01T06:37:34\",\"1970-01-01T06:37:34\",\"1970-01-01T06:37:34\",\"1970-01-01T10:22:34\",\"1970-01-01T10:22:34\",\"1970-01-01T10:55:54\",\"1970-01-01T10:55:54\",\"1970-01-01T10:55:54\",\"1970-01-01T14:40:54\",\"1970-01-01T14:40:54\",\"1970-01-01T15:14:14\",\"1970-01-01T15:14:14\",\"1970-01-01T15:14:14\"],\"y\":[\"Carrier A\",\"Carrier A\",\"Carrier A\",\"Carrier A\",null,\"Carrier A\",\"Carrier A\",\"Carrier A\",\"Carrier A\",null,\"Carrier A\",\"Carrier A\",\"Carrier A\",\"Carrier A\",null,\"Carrier A\",\"Carrier A\",\"Carrier A\",\"Carrier A\",null,\"Cutter T\",\"Cutter T\",\"Cutter T\",\"Cutter T\",null,\"Cutter T\",\"Cutter T\",\"Cutter T\",\"Cutter T\",null,\"Cutter T\",\"Cutter T\",\"Cutter T\",\"Cutter T\",null,\"Cutter T\",\"Cutter T\",\"Cutter T\",\"Cutter T\",null,\"Trench\",\"Trench\",\"Trench\",\"Trench\",null,\"Trench\",\"Trench\",\"Trench\",\"Trench\",null,\"Trench\",\"Trench\",\"Trench\",\"Trench\",null,\"Trench\",\"Trench\",\"Trench\",\"Trench\",null],\"type\":\"scatter\"},{\"connectgaps\":false,\"hoverinfo\":\"y+name\",\"line\":{\"color\":\"rgb(210,191,70)\",\"width\":10},\"mode\":\"lines\",\"name\":\"sailing empty:Carrier A\",\"x\":[\"1970-01-01T00:39:22\",\"1970-01-01T00:39:22\",\"1970-01-01T01:18:44\",\"1970-01-01T01:18:44\",\"1970-01-01T01:18:44\",\"1970-01-01T04:17:20\",\"1970-01-01T04:17:20\",\"1970-01-01T04:56:42\",\"1970-01-01T04:56:42\",\"1970-01-01T04:56:42\",\"1970-01-01T08:35:40\",\"1970-01-01T08:35:40\",\"1970-01-01T09:15:02\",\"1970-01-01T09:15:02\",\"1970-01-01T09:15:02\",\"1970-01-01T12:54:00\",\"1970-01-01T12:54:00\",\"1970-01-01T13:33:22\",\"1970-01-01T13:33:22\",\"1970-01-01T13:33:22\"],\"y\":[\"Carrier A\",\"Carrier A\",\"Carrier A\",\"Carrier A\",null,\"Carrier A\",\"Carrier A\",\"Carrier A\",\"Carrier A\",null,\"Carrier A\",\"Carrier A\",\"Carrier A\",\"Carrier A\",null,\"Carrier A\",\"Carrier A\",\"Carrier A\",\"Carrier A\",null],\"type\":\"scatter\"},{\"connectgaps\":false,\"hoverinfo\":\"y+name\",\"line\":{\"color\":\"rgb(214,195,74)\",\"width\":10},\"mode\":\"lines\",\"name\":\"unloading:Carrier A\",\"x\":[\"1970-01-01T02:58:36\",\"1970-01-01T02:58:36\",\"1970-01-01T03:37:58\",\"1970-01-01T03:37:58\",\"1970-01-01T03:37:58\",\"1970-01-01T07:16:56\",\"1970-01-01T07:16:56\",\"1970-01-01T07:56:18\",\"1970-01-01T07:56:18\",\"1970-01-01T07:56:18\",\"1970-01-01T11:35:16\",\"1970-01-01T11:35:16\",\"1970-01-01T12:14:38\",\"1970-01-01T12:14:38\",\"1970-01-01T12:14:38\",\"1970-01-01T15:53:36\",\"1970-01-01T15:53:36\",\"1970-01-01T16:32:58\",\"1970-01-01T16:32:58\",\"1970-01-01T16:32:58\",\"1970-01-01T02:58:36\",\"1970-01-01T02:58:36\",\"1970-01-01T03:37:58\",\"1970-01-01T03:37:58\",\"1970-01-01T03:37:58\",\"1970-01-01T07:16:56\",\"1970-01-01T07:16:56\",\"1970-01-01T07:56:18\",\"1970-01-01T07:56:18\",\"1970-01-01T07:56:18\",\"1970-01-01T11:35:16\",\"1970-01-01T11:35:16\",\"1970-01-01T12:14:38\",\"1970-01-01T12:14:38\",\"1970-01-01T12:14:38\",\"1970-01-01T15:53:36\",\"1970-01-01T15:53:36\",\"1970-01-01T16:32:58\",\"1970-01-01T16:32:58\",\"1970-01-01T16:32:58\"],\"y\":[\"Carrier A\",\"Carrier A\",\"Carrier A\",\"Carrier A\",null,\"Carrier A\",\"Carrier A\",\"Carrier A\",\"Carrier A\",null,\"Carrier A\",\"Carrier A\",\"Carrier A\",\"Carrier A\",null,\"Carrier A\",\"Carrier A\",\"Carrier A\",\"Carrier A\",null,\"Reclamation\",\"Reclamation\",\"Reclamation\",\"Reclamation\",null,\"Reclamation\",\"Reclamation\",\"Reclamation\",\"Reclamation\",null,\"Reclamation\",\"Reclamation\",\"Reclamation\",\"Reclamation\",null,\"Reclamation\",\"Reclamation\",\"Reclamation\",\"Reclamation\",null],\"type\":\"scatter\"},{\"connectgaps\":false,\"hoverinfo\":\"y+name\",\"line\":{\"color\":\"rgb(218,199,78)\",\"width\":10},\"mode\":\"lines\",\"name\":\"sailing full:Carrier A\",\"x\":[\"1970-01-01T02:19:14\",\"1970-01-01T02:19:14\",\"1970-01-01T02:58:36\",\"1970-01-01T02:58:36\",\"1970-01-01T02:58:36\",\"1970-01-01T06:37:34\",\"1970-01-01T06:37:34\",\"1970-01-01T07:16:56\",\"1970-01-01T07:16:56\",\"1970-01-01T07:16:56\",\"1970-01-01T10:55:54\",\"1970-01-01T10:55:54\",\"1970-01-01T11:35:16\",\"1970-01-01T11:35:16\",\"1970-01-01T11:35:16\",\"1970-01-01T15:14:14\",\"1970-01-01T15:14:14\",\"1970-01-01T15:53:36\",\"1970-01-01T15:53:36\",\"1970-01-01T15:53:36\"],\"y\":[\"Carrier A\",\"Carrier A\",\"Carrier A\",\"Carrier A\",null,\"Carrier A\",\"Carrier A\",\"Carrier A\",\"Carrier A\",null,\"Carrier A\",\"Carrier A\",\"Carrier A\",\"Carrier A\",null,\"Carrier A\",\"Carrier A\",\"Carrier A\",\"Carrier A\",null],\"type\":\"scatter\"},{\"connectgaps\":false,\"hoverinfo\":\"y+name\",\"line\":{\"color\":\"rgb(222,203,82)\",\"width\":10},\"mode\":\"lines\",\"name\":\"sailing empty:Carrier B\",\"x\":[\"1970-01-01T00:47:19\",\"1970-01-01T00:47:19\",\"1970-01-01T01:34:38\",\"1970-01-01T01:34:38\",\"1970-01-01T01:34:38\",\"1970-01-01T07:52:51\",\"1970-01-01T07:52:51\",\"1970-01-01T08:40:10\",\"1970-01-01T08:40:10\",\"1970-01-01T08:40:10\",\"1970-01-01T12:44:31\",\"1970-01-01T12:44:31\",\"1970-01-01T13:31:50\",\"1970-01-01T13:31:50\",\"1970-01-01T13:31:50\"],\"y\":[\"Carrier B\",\"Carrier B\",\"Carrier B\",\"Carrier B\",null,\"Carrier B\",\"Carrier B\",\"Carrier B\",\"Carrier B\",null,\"Carrier B\",\"Carrier B\",\"Carrier B\",\"Carrier B\",null],\"type\":\"scatter\"},{\"connectgaps\":false,\"hoverinfo\":\"y+name\",\"line\":{\"color\":\"rgb(226,207,86)\",\"width\":10},\"mode\":\"lines\",\"name\":\"loading:Carrier B\",\"x\":[\"1970-01-01T04:49:14\",\"1970-01-01T04:49:14\",\"1970-01-01T05:30:54\",\"1970-01-01T05:30:54\",\"1970-01-01T05:30:54\",\"1970-01-01T09:40:54\",\"1970-01-01T09:40:54\",\"1970-01-01T10:22:34\",\"1970-01-01T10:22:34\",\"1970-01-01T10:22:34\",\"1970-01-01T13:59:14\",\"1970-01-01T13:59:14\",\"1970-01-01T14:40:54\",\"1970-01-01T14:40:54\",\"1970-01-01T14:40:54\",\"1970-01-01T04:49:14\",\"1970-01-01T04:49:14\",\"1970-01-01T05:30:54\",\"1970-01-01T05:30:54\",\"1970-01-01T05:30:54\",\"1970-01-01T09:40:54\",\"1970-01-01T09:40:54\",\"1970-01-01T10:22:34\",\"1970-01-01T10:22:34\",\"1970-01-01T10:22:34\",\"1970-01-01T13:59:14\",\"1970-01-01T13:59:14\",\"1970-01-01T14:40:54\",\"1970-01-01T14:40:54\",\"1970-01-01T14:40:54\",\"1970-01-01T04:49:14\",\"1970-01-01T04:49:14\",\"1970-01-01T05:30:54\",\"1970-01-01T05:30:54\",\"1970-01-01T05:30:54\",\"1970-01-01T09:40:54\",\"1970-01-01T09:40:54\",\"1970-01-01T10:22:34\",\"1970-01-01T10:22:34\",\"1970-01-01T10:22:34\",\"1970-01-01T13:59:14\",\"1970-01-01T13:59:14\",\"1970-01-01T14:40:54\",\"1970-01-01T14:40:54\",\"1970-01-01T14:40:54\"],\"y\":[\"Carrier B\",\"Carrier B\",\"Carrier B\",\"Carrier B\",null,\"Carrier B\",\"Carrier B\",\"Carrier B\",\"Carrier B\",null,\"Carrier B\",\"Carrier B\",\"Carrier B\",\"Carrier B\",null,\"Cutter T\",\"Cutter T\",\"Cutter T\",\"Cutter T\",null,\"Cutter T\",\"Cutter T\",\"Cutter T\",\"Cutter T\",null,\"Cutter T\",\"Cutter T\",\"Cutter T\",\"Cutter T\",null,\"Trench\",\"Trench\",\"Trench\",\"Trench\",null,\"Trench\",\"Trench\",\"Trench\",\"Trench\",null,\"Trench\",\"Trench\",\"Trench\",\"Trench\",null],\"type\":\"scatter\"},{\"connectgaps\":false,\"hoverinfo\":\"y+name\",\"line\":{\"color\":\"rgb(230,211,90)\",\"width\":10},\"mode\":\"lines\",\"name\":\"basic activity:Carrier B\",\"x\":[\"1970-01-01T00:00:00\",\"1970-01-01T00:00:00\",\"1970-01-01T00:47:19\",\"1970-01-01T00:47:19\",\"1970-01-01T00:47:19\",\"1970-01-01T07:05:32\",\"1970-01-01T07:05:32\",\"1970-01-01T07:52:51\",\"1970-01-01T07:52:51\",\"1970-01-01T07:52:51\",\"1970-01-01T11:57:12\",\"1970-01-01T11:57:12\",\"1970-01-01T12:44:31\",\"1970-01-01T12:44:31\",\"1970-01-01T12:44:31\"],\"y\":[\"Carrier B\",\"Carrier B\",\"Carrier B\",\"Carrier B\",null,\"Carrier B\",\"Carrier B\",\"Carrier B\",\"Carrier B\",null,\"Carrier B\",\"Carrier B\",\"Carrier B\",\"Carrier B\",null],\"type\":\"scatter\"},{\"connectgaps\":false,\"hoverinfo\":\"y+name\",\"line\":{\"color\":\"rgb(234,215,94)\",\"width\":10},\"mode\":\"lines\",\"name\":\"sailing full:Carrier B\",\"x\":[\"1970-01-01T05:30:54\",\"1970-01-01T05:30:54\",\"1970-01-01T06:18:13\",\"1970-01-01T06:18:13\",\"1970-01-01T06:18:13\",\"1970-01-01T10:22:34\",\"1970-01-01T10:22:34\",\"1970-01-01T11:09:53\",\"1970-01-01T11:09:53\",\"1970-01-01T11:09:53\",\"1970-01-01T14:40:54\",\"1970-01-01T14:40:54\",\"1970-01-01T15:28:13\",\"1970-01-01T15:28:13\",\"1970-01-01T15:28:13\"],\"y\":[\"Carrier B\",\"Carrier B\",\"Carrier B\",\"Carrier B\",null,\"Carrier B\",\"Carrier B\",\"Carrier B\",\"Carrier B\",null,\"Carrier B\",\"Carrier B\",\"Carrier B\",\"Carrier B\",null],\"type\":\"scatter\"},{\"connectgaps\":false,\"hoverinfo\":\"y+name\",\"line\":{\"color\":\"rgb(238,219,98)\",\"width\":10},\"mode\":\"lines\",\"name\":\"unloading:Carrier B\",\"x\":[\"1970-01-01T06:18:13\",\"1970-01-01T06:18:13\",\"1970-01-01T07:05:32\",\"1970-01-01T07:05:32\",\"1970-01-01T07:05:32\",\"1970-01-01T11:09:53\",\"1970-01-01T11:09:53\",\"1970-01-01T11:57:12\",\"1970-01-01T11:57:12\",\"1970-01-01T11:57:12\",\"1970-01-01T15:28:13\",\"1970-01-01T15:28:13\",\"1970-01-01T16:15:32\",\"1970-01-01T16:15:32\",\"1970-01-01T16:15:32\",\"1970-01-01T06:18:13\",\"1970-01-01T06:18:13\",\"1970-01-01T07:05:32\",\"1970-01-01T07:05:32\",\"1970-01-01T07:05:32\",\"1970-01-01T11:09:53\",\"1970-01-01T11:09:53\",\"1970-01-01T11:57:12\",\"1970-01-01T11:57:12\",\"1970-01-01T11:57:12\",\"1970-01-01T15:28:13\",\"1970-01-01T15:28:13\",\"1970-01-01T16:15:32\",\"1970-01-01T16:15:32\",\"1970-01-01T16:15:32\"],\"y\":[\"Carrier B\",\"Carrier B\",\"Carrier B\",\"Carrier B\",null,\"Carrier B\",\"Carrier B\",\"Carrier B\",\"Carrier B\",null,\"Carrier B\",\"Carrier B\",\"Carrier B\",\"Carrier B\",null,\"Reclamation\",\"Reclamation\",\"Reclamation\",\"Reclamation\",null,\"Reclamation\",\"Reclamation\",\"Reclamation\",\"Reclamation\",null,\"Reclamation\",\"Reclamation\",\"Reclamation\",\"Reclamation\",null],\"type\":\"scatter\"},{\"connectgaps\":false,\"hoverinfo\":\"y+name\",\"line\":{\"color\":\"rgb(242,223,102)\",\"width\":10},\"mode\":\"lines\",\"name\":\"sailing empty:Carrier C\",\"x\":[\"1970-01-01T00:36:17\",\"1970-01-01T00:36:17\",\"1970-01-01T01:12:34\",\"1970-01-01T01:12:34\",\"1970-01-01T01:12:34\",\"1970-01-01T03:34:45\",\"1970-01-01T03:34:45\",\"1970-01-01T04:11:02\",\"1970-01-01T04:11:02\",\"1970-01-01T04:11:02\",\"1970-01-01T07:53:05\",\"1970-01-01T07:53:05\",\"1970-01-01T08:29:22\",\"1970-01-01T08:29:22\",\"1970-01-01T08:29:22\",\"1970-01-01T11:29:45\",\"1970-01-01T11:29:45\",\"1970-01-01T12:06:02\",\"1970-01-01T12:06:02\",\"1970-01-01T12:06:02\"],\"y\":[\"Carrier C\",\"Carrier C\",\"Carrier C\",\"Carrier C\",null,\"Carrier C\",\"Carrier C\",\"Carrier C\",\"Carrier C\",null,\"Carrier C\",\"Carrier C\",\"Carrier C\",\"Carrier C\",null,\"Carrier C\",\"Carrier C\",\"Carrier C\",\"Carrier C\",null],\"type\":\"scatter\"},{\"connectgaps\":false,\"hoverinfo\":\"y+name\",\"line\":{\"color\":\"rgb(246,227,106)\",\"width\":10},\"mode\":\"lines\",\"name\":\"basic activity:Carrier C\",\"x\":[\"1970-01-01T00:00:00\",\"1970-01-01T00:00:00\",\"1970-01-01T00:36:17\",\"1970-01-01T00:36:17\",\"1970-01-01T00:36:17\",\"1970-01-01T02:58:28\",\"1970-01-01T02:58:28\",\"1970-01-01T03:34:45\",\"1970-01-01T03:34:45\",\"1970-01-01T03:34:45\",\"1970-01-01T07:16:48\",\"1970-01-01T07:16:48\",\"1970-01-01T07:53:05\",\"1970-01-01T07:53:05\",\"1970-01-01T07:53:05\",\"1970-01-01T10:53:28\",\"1970-01-01T10:53:28\",\"1970-01-01T11:29:45\",\"1970-01-01T11:29:45\",\"1970-01-01T11:29:45\"],\"y\":[\"Carrier C\",\"Carrier C\",\"Carrier C\",\"Carrier C\",null,\"Carrier C\",\"Carrier C\",\"Carrier C\",\"Carrier C\",null,\"Carrier C\",\"Carrier C\",\"Carrier C\",\"Carrier C\",null,\"Carrier C\",\"Carrier C\",\"Carrier C\",\"Carrier C\",null],\"type\":\"scatter\"},{\"connectgaps\":false,\"hoverinfo\":\"y+name\",\"line\":{\"color\":\"rgb(250,231,110)\",\"width\":10},\"mode\":\"lines\",\"name\":\"loading:Carrier C\",\"x\":[\"1970-01-01T01:12:34\",\"1970-01-01T01:12:34\",\"1970-01-01T01:45:54\",\"1970-01-01T01:45:54\",\"1970-01-01T01:45:54\",\"1970-01-01T05:30:54\",\"1970-01-01T05:30:54\",\"1970-01-01T06:04:14\",\"1970-01-01T06:04:14\",\"1970-01-01T06:04:14\",\"1970-01-01T09:07:34\",\"1970-01-01T09:07:34\",\"1970-01-01T09:40:54\",\"1970-01-01T09:40:54\",\"1970-01-01T09:40:54\",\"1970-01-01T12:52:34\",\"1970-01-01T12:52:34\",\"1970-01-01T13:25:54\",\"1970-01-01T13:25:54\",\"1970-01-01T13:25:54\",\"1970-01-01T01:12:34\",\"1970-01-01T01:12:34\",\"1970-01-01T01:45:54\",\"1970-01-01T01:45:54\",\"1970-01-01T01:45:54\",\"1970-01-01T05:30:54\",\"1970-01-01T05:30:54\",\"1970-01-01T06:04:14\",\"1970-01-01T06:04:14\",\"1970-01-01T06:04:14\",\"1970-01-01T09:07:34\",\"1970-01-01T09:07:34\",\"1970-01-01T09:40:54\",\"1970-01-01T09:40:54\",\"1970-01-01T09:40:54\",\"1970-01-01T12:52:34\",\"1970-01-01T12:52:34\",\"1970-01-01T13:25:54\",\"1970-01-01T13:25:54\",\"1970-01-01T13:25:54\",\"1970-01-01T01:12:34\",\"1970-01-01T01:12:34\",\"1970-01-01T01:45:54\",\"1970-01-01T01:45:54\",\"1970-01-01T01:45:54\",\"1970-01-01T05:30:54\",\"1970-01-01T05:30:54\",\"1970-01-01T06:04:14\",\"1970-01-01T06:04:14\",\"1970-01-01T06:04:14\",\"1970-01-01T09:07:34\",\"1970-01-01T09:07:34\",\"1970-01-01T09:40:54\",\"1970-01-01T09:40:54\",\"1970-01-01T09:40:54\",\"1970-01-01T12:52:34\",\"1970-01-01T12:52:34\",\"1970-01-01T13:25:54\",\"1970-01-01T13:25:54\",\"1970-01-01T13:25:54\"],\"y\":[\"Carrier C\",\"Carrier C\",\"Carrier C\",\"Carrier C\",null,\"Carrier C\",\"Carrier C\",\"Carrier C\",\"Carrier C\",null,\"Carrier C\",\"Carrier C\",\"Carrier C\",\"Carrier C\",null,\"Carrier C\",\"Carrier C\",\"Carrier C\",\"Carrier C\",null,\"Cutter T\",\"Cutter T\",\"Cutter T\",\"Cutter T\",null,\"Cutter T\",\"Cutter T\",\"Cutter T\",\"Cutter T\",null,\"Cutter T\",\"Cutter T\",\"Cutter T\",\"Cutter T\",null,\"Cutter T\",\"Cutter T\",\"Cutter T\",\"Cutter T\",null,\"Trench\",\"Trench\",\"Trench\",\"Trench\",null,\"Trench\",\"Trench\",\"Trench\",\"Trench\",null,\"Trench\",\"Trench\",\"Trench\",\"Trench\",null,\"Trench\",\"Trench\",\"Trench\",\"Trench\",null],\"type\":\"scatter\"},{\"connectgaps\":false,\"hoverinfo\":\"y+name\",\"line\":{\"color\":\"rgb(254,235,114)\",\"width\":10},\"mode\":\"lines\",\"name\":\"unloading:Carrier C\",\"x\":[\"1970-01-01T02:22:11\",\"1970-01-01T02:22:11\",\"1970-01-01T02:58:28\",\"1970-01-01T02:58:28\",\"1970-01-01T02:58:28\",\"1970-01-01T06:40:31\",\"1970-01-01T06:40:31\",\"1970-01-01T07:16:48\",\"1970-01-01T07:16:48\",\"1970-01-01T07:16:48\",\"1970-01-01T10:17:11\",\"1970-01-01T10:17:11\",\"1970-01-01T10:53:28\",\"1970-01-01T10:53:28\",\"1970-01-01T10:53:28\",\"1970-01-01T14:02:11\",\"1970-01-01T14:02:11\",\"1970-01-01T14:38:28\",\"1970-01-01T14:38:28\",\"1970-01-01T14:38:28\",\"1970-01-01T02:22:11\",\"1970-01-01T02:22:11\",\"1970-01-01T02:58:28\",\"1970-01-01T02:58:28\",\"1970-01-01T02:58:28\",\"1970-01-01T06:40:31\",\"1970-01-01T06:40:31\",\"1970-01-01T07:16:48\",\"1970-01-01T07:16:48\",\"1970-01-01T07:16:48\",\"1970-01-01T10:17:11\",\"1970-01-01T10:17:11\",\"1970-01-01T10:53:28\",\"1970-01-01T10:53:28\",\"1970-01-01T10:53:28\",\"1970-01-01T14:02:11\",\"1970-01-01T14:02:11\",\"1970-01-01T14:38:28\",\"1970-01-01T14:38:28\",\"1970-01-01T14:38:28\"],\"y\":[\"Carrier C\",\"Carrier C\",\"Carrier C\",\"Carrier C\",null,\"Carrier C\",\"Carrier C\",\"Carrier C\",\"Carrier C\",null,\"Carrier C\",\"Carrier C\",\"Carrier C\",\"Carrier C\",null,\"Carrier C\",\"Carrier C\",\"Carrier C\",\"Carrier C\",null,\"Reclamation\",\"Reclamation\",\"Reclamation\",\"Reclamation\",null,\"Reclamation\",\"Reclamation\",\"Reclamation\",\"Reclamation\",null,\"Reclamation\",\"Reclamation\",\"Reclamation\",\"Reclamation\",null,\"Reclamation\",\"Reclamation\",\"Reclamation\",\"Reclamation\",null],\"type\":\"scatter\"},{\"connectgaps\":false,\"hoverinfo\":\"y+name\",\"line\":{\"color\":\"rgb(2,239,118)\",\"width\":10},\"mode\":\"lines\",\"name\":\"sailing full:Carrier C\",\"x\":[\"1970-01-01T01:45:54\",\"1970-01-01T01:45:54\",\"1970-01-01T02:22:11\",\"1970-01-01T02:22:11\",\"1970-01-01T02:22:11\",\"1970-01-01T06:04:14\",\"1970-01-01T06:04:14\",\"1970-01-01T06:40:31\",\"1970-01-01T06:40:31\",\"1970-01-01T06:40:31\",\"1970-01-01T09:40:54\",\"1970-01-01T09:40:54\",\"1970-01-01T10:17:11\",\"1970-01-01T10:17:11\",\"1970-01-01T10:17:11\",\"1970-01-01T13:25:54\",\"1970-01-01T13:25:54\",\"1970-01-01T14:02:11\",\"1970-01-01T14:02:11\",\"1970-01-01T14:02:11\"],\"y\":[\"Carrier C\",\"Carrier C\",\"Carrier C\",\"Carrier C\",null,\"Carrier C\",\"Carrier C\",\"Carrier C\",\"Carrier C\",null,\"Carrier C\",\"Carrier C\",\"Carrier C\",\"Carrier C\",null,\"Carrier C\",\"Carrier C\",\"Carrier C\",\"Carrier C\",null],\"type\":\"scatter\"},{\"connectgaps\":false,\"hoverinfo\":\"y+name\",\"line\":{\"color\":\"rgb(6,243,122)\",\"width\":10},\"mode\":\"lines\",\"name\":\"sailing full:Barge I\",\"x\":[\"1970-01-01T03:42:34\",\"1970-01-01T03:42:34\",\"1970-01-01T04:24:58\",\"1970-01-01T04:24:58\",\"1970-01-01T04:24:58\",\"1970-01-01T08:00:54\",\"1970-01-01T08:00:54\",\"1970-01-01T08:43:18\",\"1970-01-01T08:43:18\",\"1970-01-01T08:43:18\",\"1970-01-01T12:19:14\",\"1970-01-01T12:19:14\",\"1970-01-01T13:01:38\",\"1970-01-01T13:01:38\",\"1970-01-01T13:01:38\"],\"y\":[\"Barge I\",\"Barge I\",\"Barge I\",\"Barge I\",null,\"Barge I\",\"Barge I\",\"Barge I\",\"Barge I\",null,\"Barge I\",\"Barge I\",\"Barge I\",\"Barge I\",null],\"type\":\"scatter\"},{\"connectgaps\":false,\"hoverinfo\":\"y+name\",\"line\":{\"color\":\"rgb(10,247,126)\",\"width\":10},\"mode\":\"lines\",\"name\":\"basic activity:Barge I\",\"x\":[\"1970-01-01T00:00:00\",\"1970-01-01T00:00:00\",\"1970-01-01T00:42:24\",\"1970-01-01T00:42:24\",\"1970-01-01T00:42:24\",\"1970-01-01T05:07:22\",\"1970-01-01T05:07:22\",\"1970-01-01T05:49:46\",\"1970-01-01T05:49:46\",\"1970-01-01T05:49:46\",\"1970-01-01T09:25:42\",\"1970-01-01T09:25:42\",\"1970-01-01T10:08:06\",\"1970-01-01T10:08:06\",\"1970-01-01T10:08:06\"],\"y\":[\"Barge I\",\"Barge I\",\"Barge I\",\"Barge I\",null,\"Barge I\",\"Barge I\",\"Barge I\",\"Barge I\",null,\"Barge I\",\"Barge I\",\"Barge I\",\"Barge I\",null],\"type\":\"scatter\"},{\"connectgaps\":false,\"hoverinfo\":\"y+name\",\"line\":{\"color\":\"rgb(14,251,130)\",\"width\":10},\"mode\":\"lines\",\"name\":\"unloading:Barge I\",\"x\":[\"1970-01-01T04:24:58\",\"1970-01-01T04:24:58\",\"1970-01-01T05:07:22\",\"1970-01-01T05:07:22\",\"1970-01-01T05:07:22\",\"1970-01-01T08:43:18\",\"1970-01-01T08:43:18\",\"1970-01-01T09:25:42\",\"1970-01-01T09:25:42\",\"1970-01-01T09:25:42\",\"1970-01-01T13:01:38\",\"1970-01-01T13:01:38\",\"1970-01-01T13:44:02\",\"1970-01-01T13:44:02\",\"1970-01-01T13:44:02\",\"1970-01-01T04:24:58\",\"1970-01-01T04:24:58\",\"1970-01-01T05:07:22\",\"1970-01-01T05:07:22\",\"1970-01-01T05:07:22\",\"1970-01-01T08:43:18\",\"1970-01-01T08:43:18\",\"1970-01-01T09:25:42\",\"1970-01-01T09:25:42\",\"1970-01-01T09:25:42\",\"1970-01-01T13:01:38\",\"1970-01-01T13:01:38\",\"1970-01-01T13:44:02\",\"1970-01-01T13:44:02\",\"1970-01-01T13:44:02\"],\"y\":[\"Barge I\",\"Barge I\",\"Barge I\",\"Barge I\",null,\"Barge I\",\"Barge I\",\"Barge I\",\"Barge I\",null,\"Barge I\",\"Barge I\",\"Barge I\",\"Barge I\",null,\"Reclamation\",\"Reclamation\",\"Reclamation\",\"Reclamation\",null,\"Reclamation\",\"Reclamation\",\"Reclamation\",\"Reclamation\",null,\"Reclamation\",\"Reclamation\",\"Reclamation\",\"Reclamation\",null],\"type\":\"scatter\"},{\"connectgaps\":false,\"hoverinfo\":\"y+name\",\"line\":{\"color\":\"rgb(18,255,134)\",\"width\":10},\"mode\":\"lines\",\"name\":\"sailing empty:Barge I\",\"x\":[\"1970-01-01T00:42:24\",\"1970-01-01T00:42:24\",\"1970-01-01T01:24:48\",\"1970-01-01T01:24:48\",\"1970-01-01T01:24:48\",\"1970-01-01T05:49:46\",\"1970-01-01T05:49:46\",\"1970-01-01T06:32:10\",\"1970-01-01T06:32:10\",\"1970-01-01T06:32:10\",\"1970-01-01T10:08:06\",\"1970-01-01T10:08:06\",\"1970-01-01T10:50:30\",\"1970-01-01T10:50:30\",\"1970-01-01T10:50:30\"],\"y\":[\"Barge I\",\"Barge I\",\"Barge I\",\"Barge I\",null,\"Barge I\",\"Barge I\",\"Barge I\",\"Barge I\",null,\"Barge I\",\"Barge I\",\"Barge I\",\"Barge I\",null],\"type\":\"scatter\"},{\"connectgaps\":false,\"hoverinfo\":\"y+name\",\"line\":{\"color\":\"rgb(22,3,138)\",\"width\":10},\"mode\":\"lines\",\"name\":\"loading:Barge I\",\"x\":[\"1970-01-01T03:00:54\",\"1970-01-01T03:00:54\",\"1970-01-01T03:42:34\",\"1970-01-01T03:42:34\",\"1970-01-01T03:42:34\",\"1970-01-01T07:19:14\",\"1970-01-01T07:19:14\",\"1970-01-01T08:00:54\",\"1970-01-01T08:00:54\",\"1970-01-01T08:00:54\",\"1970-01-01T11:37:34\",\"1970-01-01T11:37:34\",\"1970-01-01T12:19:14\",\"1970-01-01T12:19:14\",\"1970-01-01T12:19:14\",\"1970-01-01T03:00:54\",\"1970-01-01T03:00:54\",\"1970-01-01T03:42:34\",\"1970-01-01T03:42:34\",\"1970-01-01T03:42:34\",\"1970-01-01T07:19:14\",\"1970-01-01T07:19:14\",\"1970-01-01T08:00:54\",\"1970-01-01T08:00:54\",\"1970-01-01T08:00:54\",\"1970-01-01T11:37:34\",\"1970-01-01T11:37:34\",\"1970-01-01T12:19:14\",\"1970-01-01T12:19:14\",\"1970-01-01T12:19:14\",\"1970-01-01T03:00:54\",\"1970-01-01T03:00:54\",\"1970-01-01T03:42:34\",\"1970-01-01T03:42:34\",\"1970-01-01T03:42:34\",\"1970-01-01T07:19:14\",\"1970-01-01T07:19:14\",\"1970-01-01T08:00:54\",\"1970-01-01T08:00:54\",\"1970-01-01T08:00:54\",\"1970-01-01T11:37:34\",\"1970-01-01T11:37:34\",\"1970-01-01T12:19:14\",\"1970-01-01T12:19:14\",\"1970-01-01T12:19:14\"],\"y\":[\"Barge I\",\"Barge I\",\"Barge I\",\"Barge I\",null,\"Barge I\",\"Barge I\",\"Barge I\",\"Barge I\",null,\"Barge I\",\"Barge I\",\"Barge I\",\"Barge I\",null,\"Cutter T\",\"Cutter T\",\"Cutter T\",\"Cutter T\",null,\"Cutter T\",\"Cutter T\",\"Cutter T\",\"Cutter T\",null,\"Cutter T\",\"Cutter T\",\"Cutter T\",\"Cutter T\",null,\"Trench\",\"Trench\",\"Trench\",\"Trench\",null,\"Trench\",\"Trench\",\"Trench\",\"Trench\",null,\"Trench\",\"Trench\",\"Trench\",\"Trench\",null],\"type\":\"scatter\"},{\"connectgaps\":false,\"hoverinfo\":\"y+name\",\"line\":{\"color\":\"rgb(26,7,142)\",\"width\":10},\"mode\":\"lines\",\"name\":\"unloading:Barge II\",\"x\":[\"1970-01-01T03:43:15\",\"1970-01-01T03:43:15\",\"1970-01-01T04:25:36\",\"1970-01-01T04:25:36\",\"1970-01-01T04:25:36\",\"1970-01-01T08:01:35\",\"1970-01-01T08:01:35\",\"1970-01-01T08:43:56\",\"1970-01-01T08:43:56\",\"1970-01-01T08:43:56\",\"1970-01-01T12:19:55\",\"1970-01-01T12:19:55\",\"1970-01-01T13:02:16\",\"1970-01-01T13:02:16\",\"1970-01-01T13:02:16\",\"1970-01-01T03:43:15\",\"1970-01-01T03:43:15\",\"1970-01-01T04:25:36\",\"1970-01-01T04:25:36\",\"1970-01-01T04:25:36\",\"1970-01-01T08:01:35\",\"1970-01-01T08:01:35\",\"1970-01-01T08:43:56\",\"1970-01-01T08:43:56\",\"1970-01-01T08:43:56\",\"1970-01-01T12:19:55\",\"1970-01-01T12:19:55\",\"1970-01-01T13:02:16\",\"1970-01-01T13:02:16\",\"1970-01-01T13:02:16\"],\"y\":[\"Barge II\",\"Barge II\",\"Barge II\",\"Barge II\",null,\"Barge II\",\"Barge II\",\"Barge II\",\"Barge II\",null,\"Barge II\",\"Barge II\",\"Barge II\",\"Barge II\",null,\"Reclamation\",\"Reclamation\",\"Reclamation\",\"Reclamation\",null,\"Reclamation\",\"Reclamation\",\"Reclamation\",\"Reclamation\",null,\"Reclamation\",\"Reclamation\",\"Reclamation\",\"Reclamation\",null],\"type\":\"scatter\"},{\"connectgaps\":false,\"hoverinfo\":\"y+name\",\"line\":{\"color\":\"rgb(30,11,146)\",\"width\":10},\"mode\":\"lines\",\"name\":\"sailing empty:Barge II\",\"x\":[\"1970-01-01T00:42:21\",\"1970-01-01T00:42:21\",\"1970-01-01T01:24:42\",\"1970-01-01T01:24:42\",\"1970-01-01T01:24:42\",\"1970-01-01T05:07:57\",\"1970-01-01T05:07:57\",\"1970-01-01T05:50:18\",\"1970-01-01T05:50:18\",\"1970-01-01T05:50:18\",\"1970-01-01T09:26:17\",\"1970-01-01T09:26:17\",\"1970-01-01T10:08:38\",\"1970-01-01T10:08:38\",\"1970-01-01T10:08:38\"],\"y\":[\"Barge II\",\"Barge II\",\"Barge II\",\"Barge II\",null,\"Barge II\",\"Barge II\",\"Barge II\",\"Barge II\",null,\"Barge II\",\"Barge II\",\"Barge II\",\"Barge II\",null],\"type\":\"scatter\"},{\"connectgaps\":false,\"hoverinfo\":\"y+name\",\"line\":{\"color\":\"rgb(34,15,150)\",\"width\":10},\"mode\":\"lines\",\"name\":\"sailing full:Barge II\",\"x\":[\"1970-01-01T03:00:54\",\"1970-01-01T03:00:54\",\"1970-01-01T03:43:15\",\"1970-01-01T03:43:15\",\"1970-01-01T03:43:15\",\"1970-01-01T07:19:14\",\"1970-01-01T07:19:14\",\"1970-01-01T08:01:35\",\"1970-01-01T08:01:35\",\"1970-01-01T08:01:35\",\"1970-01-01T11:37:34\",\"1970-01-01T11:37:34\",\"1970-01-01T12:19:55\",\"1970-01-01T12:19:55\",\"1970-01-01T12:19:55\"],\"y\":[\"Barge II\",\"Barge II\",\"Barge II\",\"Barge II\",null,\"Barge II\",\"Barge II\",\"Barge II\",\"Barge II\",null,\"Barge II\",\"Barge II\",\"Barge II\",\"Barge II\",null],\"type\":\"scatter\"},{\"connectgaps\":false,\"hoverinfo\":\"y+name\",\"line\":{\"color\":\"rgb(38,19,154)\",\"width\":10},\"mode\":\"lines\",\"name\":\"basic activity:Barge II\",\"x\":[\"1970-01-01T00:00:00\",\"1970-01-01T00:00:00\",\"1970-01-01T00:42:21\",\"1970-01-01T00:42:21\",\"1970-01-01T00:42:21\",\"1970-01-01T04:25:36\",\"1970-01-01T04:25:36\",\"1970-01-01T05:07:57\",\"1970-01-01T05:07:57\",\"1970-01-01T05:07:57\",\"1970-01-01T08:43:56\",\"1970-01-01T08:43:56\",\"1970-01-01T09:26:17\",\"1970-01-01T09:26:17\",\"1970-01-01T09:26:17\"],\"y\":[\"Barge II\",\"Barge II\",\"Barge II\",\"Barge II\",null,\"Barge II\",\"Barge II\",\"Barge II\",\"Barge II\",null,\"Barge II\",\"Barge II\",\"Barge II\",\"Barge II\",null],\"type\":\"scatter\"},{\"connectgaps\":false,\"hoverinfo\":\"y+name\",\"line\":{\"color\":\"rgb(42,23,158)\",\"width\":10},\"mode\":\"lines\",\"name\":\"loading:Barge II\",\"x\":[\"1970-01-01T02:19:14\",\"1970-01-01T02:19:14\",\"1970-01-01T03:00:54\",\"1970-01-01T03:00:54\",\"1970-01-01T03:00:54\",\"1970-01-01T06:37:34\",\"1970-01-01T06:37:34\",\"1970-01-01T07:19:14\",\"1970-01-01T07:19:14\",\"1970-01-01T07:19:14\",\"1970-01-01T10:55:54\",\"1970-01-01T10:55:54\",\"1970-01-01T11:37:34\",\"1970-01-01T11:37:34\",\"1970-01-01T11:37:34\",\"1970-01-01T02:19:14\",\"1970-01-01T02:19:14\",\"1970-01-01T03:00:54\",\"1970-01-01T03:00:54\",\"1970-01-01T03:00:54\",\"1970-01-01T06:37:34\",\"1970-01-01T06:37:34\",\"1970-01-01T07:19:14\",\"1970-01-01T07:19:14\",\"1970-01-01T07:19:14\",\"1970-01-01T10:55:54\",\"1970-01-01T10:55:54\",\"1970-01-01T11:37:34\",\"1970-01-01T11:37:34\",\"1970-01-01T11:37:34\",\"1970-01-01T02:19:14\",\"1970-01-01T02:19:14\",\"1970-01-01T03:00:54\",\"1970-01-01T03:00:54\",\"1970-01-01T03:00:54\",\"1970-01-01T06:37:34\",\"1970-01-01T06:37:34\",\"1970-01-01T07:19:14\",\"1970-01-01T07:19:14\",\"1970-01-01T07:19:14\",\"1970-01-01T10:55:54\",\"1970-01-01T10:55:54\",\"1970-01-01T11:37:34\",\"1970-01-01T11:37:34\",\"1970-01-01T11:37:34\"],\"y\":[\"Barge II\",\"Barge II\",\"Barge II\",\"Barge II\",null,\"Barge II\",\"Barge II\",\"Barge II\",\"Barge II\",null,\"Barge II\",\"Barge II\",\"Barge II\",\"Barge II\",null,\"Cutter T\",\"Cutter T\",\"Cutter T\",\"Cutter T\",null,\"Cutter T\",\"Cutter T\",\"Cutter T\",\"Cutter T\",null,\"Cutter T\",\"Cutter T\",\"Cutter T\",\"Cutter T\",null,\"Trench\",\"Trench\",\"Trench\",\"Trench\",null,\"Trench\",\"Trench\",\"Trench\",\"Trench\",null,\"Trench\",\"Trench\",\"Trench\",\"Trench\",null],\"type\":\"scatter\"},{\"connectgaps\":false,\"hoverinfo\":\"y+name\",\"line\":{\"color\":\"rgb(46,27,162)\",\"width\":10},\"mode\":\"lines\",\"name\":\"loading:Barge III\",\"x\":[\"1970-01-01T04:15:54\",\"1970-01-01T04:15:54\",\"1970-01-01T04:49:14\",\"1970-01-01T04:49:14\",\"1970-01-01T04:49:14\",\"1970-01-01T08:34:14\",\"1970-01-01T08:34:14\",\"1970-01-01T09:07:34\",\"1970-01-01T09:07:34\",\"1970-01-01T09:07:34\",\"1970-01-01T13:25:54\",\"1970-01-01T13:25:54\",\"1970-01-01T13:59:14\",\"1970-01-01T13:59:14\",\"1970-01-01T13:59:14\",\"1970-01-01T04:15:54\",\"1970-01-01T04:15:54\",\"1970-01-01T04:49:14\",\"1970-01-01T04:49:14\",\"1970-01-01T04:49:14\",\"1970-01-01T08:34:14\",\"1970-01-01T08:34:14\",\"1970-01-01T09:07:34\",\"1970-01-01T09:07:34\",\"1970-01-01T09:07:34\",\"1970-01-01T13:25:54\",\"1970-01-01T13:25:54\",\"1970-01-01T13:59:14\",\"1970-01-01T13:59:14\",\"1970-01-01T13:59:14\",\"1970-01-01T04:15:54\",\"1970-01-01T04:15:54\",\"1970-01-01T04:49:14\",\"1970-01-01T04:49:14\",\"1970-01-01T04:49:14\",\"1970-01-01T08:34:14\",\"1970-01-01T08:34:14\",\"1970-01-01T09:07:34\",\"1970-01-01T09:07:34\",\"1970-01-01T09:07:34\",\"1970-01-01T13:25:54\",\"1970-01-01T13:25:54\",\"1970-01-01T13:59:14\",\"1970-01-01T13:59:14\",\"1970-01-01T13:59:14\"],\"y\":[\"Barge III\",\"Barge III\",\"Barge III\",\"Barge III\",null,\"Barge III\",\"Barge III\",\"Barge III\",\"Barge III\",null,\"Barge III\",\"Barge III\",\"Barge III\",\"Barge III\",null,\"Cutter T\",\"Cutter T\",\"Cutter T\",\"Cutter T\",null,\"Cutter T\",\"Cutter T\",\"Cutter T\",\"Cutter T\",null,\"Cutter T\",\"Cutter T\",\"Cutter T\",\"Cutter T\",null,\"Trench\",\"Trench\",\"Trench\",\"Trench\",null,\"Trench\",\"Trench\",\"Trench\",\"Trench\",null,\"Trench\",\"Trench\",\"Trench\",\"Trench\",null],\"type\":\"scatter\"},{\"connectgaps\":false,\"hoverinfo\":\"y+name\",\"line\":{\"color\":\"rgb(50,31,166)\",\"width\":10},\"mode\":\"lines\",\"name\":\"sailing empty:Barge III\",\"x\":[\"1970-01-01T00:47:07\",\"1970-01-01T00:47:07\",\"1970-01-01T01:34:14\",\"1970-01-01T01:34:14\",\"1970-01-01T01:34:14\",\"1970-01-01T07:10:35\",\"1970-01-01T07:10:35\",\"1970-01-01T07:57:42\",\"1970-01-01T07:57:42\",\"1970-01-01T07:57:42\",\"1970-01-01T11:28:55\",\"1970-01-01T11:28:55\",\"1970-01-01T12:16:02\",\"1970-01-01T12:16:02\",\"1970-01-01T12:16:02\"],\"y\":[\"Barge III\",\"Barge III\",\"Barge III\",\"Barge III\",null,\"Barge III\",\"Barge III\",\"Barge III\",\"Barge III\",null,\"Barge III\",\"Barge III\",\"Barge III\",\"Barge III\",null],\"type\":\"scatter\"},{\"connectgaps\":false,\"hoverinfo\":\"y+name\",\"line\":{\"color\":\"rgb(54,35,170)\",\"width\":10},\"mode\":\"lines\",\"name\":\"basic activity:Barge III\",\"x\":[\"1970-01-01T00:00:00\",\"1970-01-01T00:00:00\",\"1970-01-01T00:47:07\",\"1970-01-01T00:47:07\",\"1970-01-01T00:47:07\",\"1970-01-01T06:23:28\",\"1970-01-01T06:23:28\",\"1970-01-01T07:10:35\",\"1970-01-01T07:10:35\",\"1970-01-01T07:10:35\",\"1970-01-01T10:41:48\",\"1970-01-01T10:41:48\",\"1970-01-01T11:28:55\",\"1970-01-01T11:28:55\",\"1970-01-01T11:28:55\"],\"y\":[\"Barge III\",\"Barge III\",\"Barge III\",\"Barge III\",null,\"Barge III\",\"Barge III\",\"Barge III\",\"Barge III\",null,\"Barge III\",\"Barge III\",\"Barge III\",\"Barge III\",null],\"type\":\"scatter\"},{\"connectgaps\":false,\"hoverinfo\":\"y+name\",\"line\":{\"color\":\"rgb(58,39,174)\",\"width\":10},\"mode\":\"lines\",\"name\":\"unloading:Barge III\",\"x\":[\"1970-01-01T05:36:21\",\"1970-01-01T05:36:21\",\"1970-01-01T06:23:28\",\"1970-01-01T06:23:28\",\"1970-01-01T06:23:28\",\"1970-01-01T09:54:41\",\"1970-01-01T09:54:41\",\"1970-01-01T10:41:48\",\"1970-01-01T10:41:48\",\"1970-01-01T10:41:48\",\"1970-01-01T14:46:21\",\"1970-01-01T14:46:21\",\"1970-01-01T15:33:28\",\"1970-01-01T15:33:28\",\"1970-01-01T15:33:28\",\"1970-01-01T05:36:21\",\"1970-01-01T05:36:21\",\"1970-01-01T06:23:28\",\"1970-01-01T06:23:28\",\"1970-01-01T06:23:28\",\"1970-01-01T09:54:41\",\"1970-01-01T09:54:41\",\"1970-01-01T10:41:48\",\"1970-01-01T10:41:48\",\"1970-01-01T10:41:48\",\"1970-01-01T14:46:21\",\"1970-01-01T14:46:21\",\"1970-01-01T15:33:28\",\"1970-01-01T15:33:28\",\"1970-01-01T15:33:28\"],\"y\":[\"Barge III\",\"Barge III\",\"Barge III\",\"Barge III\",null,\"Barge III\",\"Barge III\",\"Barge III\",\"Barge III\",null,\"Barge III\",\"Barge III\",\"Barge III\",\"Barge III\",null,\"Reclamation\",\"Reclamation\",\"Reclamation\",\"Reclamation\",null,\"Reclamation\",\"Reclamation\",\"Reclamation\",\"Reclamation\",null,\"Reclamation\",\"Reclamation\",\"Reclamation\",\"Reclamation\",null],\"type\":\"scatter\"},{\"connectgaps\":false,\"hoverinfo\":\"y+name\",\"line\":{\"color\":\"rgb(62,43,178)\",\"width\":10},\"mode\":\"lines\",\"name\":\"sailing full:Barge III\",\"x\":[\"1970-01-01T04:49:14\",\"1970-01-01T04:49:14\",\"1970-01-01T05:36:21\",\"1970-01-01T05:36:21\",\"1970-01-01T05:36:21\",\"1970-01-01T09:07:34\",\"1970-01-01T09:07:34\",\"1970-01-01T09:54:41\",\"1970-01-01T09:54:41\",\"1970-01-01T09:54:41\",\"1970-01-01T13:59:14\",\"1970-01-01T13:59:14\",\"1970-01-01T14:46:21\",\"1970-01-01T14:46:21\",\"1970-01-01T14:46:21\"],\"y\":[\"Barge III\",\"Barge III\",\"Barge III\",\"Barge III\",null,\"Barge III\",\"Barge III\",\"Barge III\",\"Barge III\",null,\"Barge III\",\"Barge III\",\"Barge III\",\"Barge III\",null],\"type\":\"scatter\"},{\"connectgaps\":false,\"hoverinfo\":\"y+name\",\"line\":{\"color\":\"rgb(66,47,182)\",\"width\":10},\"mode\":\"lines\",\"name\":\"basic activity:Extra 1\",\"x\":[\"1970-01-01T00:00:00\",\"1970-01-01T00:00:00\",\"1970-01-01T00:46:58\",\"1970-01-01T00:46:58\",\"1970-01-01T00:46:58\",\"1970-01-01T05:49:50\",\"1970-01-01T05:49:50\",\"1970-01-01T06:36:48\",\"1970-01-01T06:36:48\",\"1970-01-01T06:36:48\",\"1970-01-01T10:08:10\",\"1970-01-01T10:08:10\",\"1970-01-01T10:55:08\",\"1970-01-01T10:55:08\",\"1970-01-01T10:55:08\"],\"y\":[\"Extra 1\",\"Extra 1\",\"Extra 1\",\"Extra 1\",null,\"Extra 1\",\"Extra 1\",\"Extra 1\",\"Extra 1\",null,\"Extra 1\",\"Extra 1\",\"Extra 1\",\"Extra 1\",null],\"type\":\"scatter\"},{\"connectgaps\":false,\"hoverinfo\":\"y+name\",\"line\":{\"color\":\"rgb(70,51,186)\",\"width\":10},\"mode\":\"lines\",\"name\":\"sailing full:Extra 1\",\"x\":[\"1970-01-01T04:15:54\",\"1970-01-01T04:15:54\",\"1970-01-01T05:02:52\",\"1970-01-01T05:02:52\",\"1970-01-01T05:02:52\",\"1970-01-01T08:34:14\",\"1970-01-01T08:34:14\",\"1970-01-01T09:21:12\",\"1970-01-01T09:21:12\",\"1970-01-01T09:21:12\",\"1970-01-01T12:52:34\",\"1970-01-01T12:52:34\",\"1970-01-01T13:39:32\",\"1970-01-01T13:39:32\",\"1970-01-01T13:39:32\"],\"y\":[\"Extra 1\",\"Extra 1\",\"Extra 1\",\"Extra 1\",null,\"Extra 1\",\"Extra 1\",\"Extra 1\",\"Extra 1\",null,\"Extra 1\",\"Extra 1\",\"Extra 1\",\"Extra 1\",null],\"type\":\"scatter\"},{\"connectgaps\":false,\"hoverinfo\":\"y+name\",\"line\":{\"color\":\"rgb(74,55,190)\",\"width\":10},\"mode\":\"lines\",\"name\":\"sailing empty:Extra 1\",\"x\":[\"1970-01-01T00:46:58\",\"1970-01-01T00:46:58\",\"1970-01-01T01:33:56\",\"1970-01-01T01:33:56\",\"1970-01-01T01:33:56\",\"1970-01-01T06:36:48\",\"1970-01-01T06:36:48\",\"1970-01-01T07:23:46\",\"1970-01-01T07:23:46\",\"1970-01-01T07:23:46\",\"1970-01-01T10:55:08\",\"1970-01-01T10:55:08\",\"1970-01-01T11:42:06\",\"1970-01-01T11:42:06\",\"1970-01-01T11:42:06\"],\"y\":[\"Extra 1\",\"Extra 1\",\"Extra 1\",\"Extra 1\",null,\"Extra 1\",\"Extra 1\",\"Extra 1\",\"Extra 1\",null,\"Extra 1\",\"Extra 1\",\"Extra 1\",\"Extra 1\",null],\"type\":\"scatter\"},{\"connectgaps\":false,\"hoverinfo\":\"y+name\",\"line\":{\"color\":\"rgb(78,59,194)\",\"width\":10},\"mode\":\"lines\",\"name\":\"unloading:Extra 1\",\"x\":[\"1970-01-01T05:02:52\",\"1970-01-01T05:02:52\",\"1970-01-01T05:49:50\",\"1970-01-01T05:49:50\",\"1970-01-01T05:49:50\",\"1970-01-01T09:21:12\",\"1970-01-01T09:21:12\",\"1970-01-01T10:08:10\",\"1970-01-01T10:08:10\",\"1970-01-01T10:08:10\",\"1970-01-01T13:39:32\",\"1970-01-01T13:39:32\",\"1970-01-01T14:26:30\",\"1970-01-01T14:26:30\",\"1970-01-01T14:26:30\",\"1970-01-01T05:02:52\",\"1970-01-01T05:02:52\",\"1970-01-01T05:49:50\",\"1970-01-01T05:49:50\",\"1970-01-01T05:49:50\",\"1970-01-01T09:21:12\",\"1970-01-01T09:21:12\",\"1970-01-01T10:08:10\",\"1970-01-01T10:08:10\",\"1970-01-01T10:08:10\",\"1970-01-01T13:39:32\",\"1970-01-01T13:39:32\",\"1970-01-01T14:26:30\",\"1970-01-01T14:26:30\",\"1970-01-01T14:26:30\"],\"y\":[\"Extra 1\",\"Extra 1\",\"Extra 1\",\"Extra 1\",null,\"Extra 1\",\"Extra 1\",\"Extra 1\",\"Extra 1\",null,\"Extra 1\",\"Extra 1\",\"Extra 1\",\"Extra 1\",null,\"Reclamation\",\"Reclamation\",\"Reclamation\",\"Reclamation\",null,\"Reclamation\",\"Reclamation\",\"Reclamation\",\"Reclamation\",null,\"Reclamation\",\"Reclamation\",\"Reclamation\",\"Reclamation\",null],\"type\":\"scatter\"},{\"connectgaps\":false,\"hoverinfo\":\"y+name\",\"line\":{\"color\":\"rgb(82,63,198)\",\"width\":10},\"mode\":\"lines\",\"name\":\"loading:Extra 1\",\"x\":[\"1970-01-01T03:42:34\",\"1970-01-01T03:42:34\",\"1970-01-01T04:15:54\",\"1970-01-01T04:15:54\",\"1970-01-01T04:15:54\",\"1970-01-01T08:00:54\",\"1970-01-01T08:00:54\",\"1970-01-01T08:34:14\",\"1970-01-01T08:34:14\",\"1970-01-01T08:34:14\",\"1970-01-01T12:19:14\",\"1970-01-01T12:19:14\",\"1970-01-01T12:52:34\",\"1970-01-01T12:52:34\",\"1970-01-01T12:52:34\",\"1970-01-01T03:42:34\",\"1970-01-01T03:42:34\",\"1970-01-01T04:15:54\",\"1970-01-01T04:15:54\",\"1970-01-01T04:15:54\",\"1970-01-01T08:00:54\",\"1970-01-01T08:00:54\",\"1970-01-01T08:34:14\",\"1970-01-01T08:34:14\",\"1970-01-01T08:34:14\",\"1970-01-01T12:19:14\",\"1970-01-01T12:19:14\",\"1970-01-01T12:52:34\",\"1970-01-01T12:52:34\",\"1970-01-01T12:52:34\",\"1970-01-01T03:42:34\",\"1970-01-01T03:42:34\",\"1970-01-01T04:15:54\",\"1970-01-01T04:15:54\",\"1970-01-01T04:15:54\",\"1970-01-01T08:00:54\",\"1970-01-01T08:00:54\",\"1970-01-01T08:34:14\",\"1970-01-01T08:34:14\",\"1970-01-01T08:34:14\",\"1970-01-01T12:19:14\",\"1970-01-01T12:19:14\",\"1970-01-01T12:52:34\",\"1970-01-01T12:52:34\",\"1970-01-01T12:52:34\"],\"y\":[\"Extra 1\",\"Extra 1\",\"Extra 1\",\"Extra 1\",null,\"Extra 1\",\"Extra 1\",\"Extra 1\",\"Extra 1\",null,\"Extra 1\",\"Extra 1\",\"Extra 1\",\"Extra 1\",null,\"Cutter T\",\"Cutter T\",\"Cutter T\",\"Cutter T\",null,\"Cutter T\",\"Cutter T\",\"Cutter T\",\"Cutter T\",null,\"Cutter T\",\"Cutter T\",\"Cutter T\",\"Cutter T\",null,\"Trench\",\"Trench\",\"Trench\",\"Trench\",null,\"Trench\",\"Trench\",\"Trench\",\"Trench\",null,\"Trench\",\"Trench\",\"Trench\",\"Trench\",null],\"type\":\"scatter\"},{\"connectgaps\":false,\"hoverinfo\":\"y+name\",\"line\":{\"color\":\"rgb(86,67,202)\",\"width\":10},\"mode\":\"lines\",\"name\":\"loading:Barge III\",\"x\":[\"1970-01-01T04:15:54\",\"1970-01-01T04:15:54\",\"1970-01-01T04:49:14\",\"1970-01-01T04:49:14\",\"1970-01-01T04:49:14\",\"1970-01-01T08:34:14\",\"1970-01-01T08:34:14\",\"1970-01-01T09:07:34\",\"1970-01-01T09:07:34\",\"1970-01-01T09:07:34\",\"1970-01-01T13:25:54\",\"1970-01-01T13:25:54\",\"1970-01-01T13:59:14\",\"1970-01-01T13:59:14\",\"1970-01-01T13:59:14\",\"1970-01-01T04:15:54\",\"1970-01-01T04:15:54\",\"1970-01-01T04:49:14\",\"1970-01-01T04:49:14\",\"1970-01-01T04:49:14\",\"1970-01-01T08:34:14\",\"1970-01-01T08:34:14\",\"1970-01-01T09:07:34\",\"1970-01-01T09:07:34\",\"1970-01-01T09:07:34\",\"1970-01-01T13:25:54\",\"1970-01-01T13:25:54\",\"1970-01-01T13:59:14\",\"1970-01-01T13:59:14\",\"1970-01-01T13:59:14\",\"1970-01-01T04:15:54\",\"1970-01-01T04:15:54\",\"1970-01-01T04:49:14\",\"1970-01-01T04:49:14\",\"1970-01-01T04:49:14\",\"1970-01-01T08:34:14\",\"1970-01-01T08:34:14\",\"1970-01-01T09:07:34\",\"1970-01-01T09:07:34\",\"1970-01-01T09:07:34\",\"1970-01-01T13:25:54\",\"1970-01-01T13:25:54\",\"1970-01-01T13:59:14\",\"1970-01-01T13:59:14\",\"1970-01-01T13:59:14\"],\"y\":[\"Barge III\",\"Barge III\",\"Barge III\",\"Barge III\",null,\"Barge III\",\"Barge III\",\"Barge III\",\"Barge III\",null,\"Barge III\",\"Barge III\",\"Barge III\",\"Barge III\",null,\"Cutter T\",\"Cutter T\",\"Cutter T\",\"Cutter T\",null,\"Cutter T\",\"Cutter T\",\"Cutter T\",\"Cutter T\",null,\"Cutter T\",\"Cutter T\",\"Cutter T\",\"Cutter T\",null,\"Trench\",\"Trench\",\"Trench\",\"Trench\",null,\"Trench\",\"Trench\",\"Trench\",\"Trench\",null,\"Trench\",\"Trench\",\"Trench\",\"Trench\",null],\"type\":\"scatter\"},{\"connectgaps\":false,\"hoverinfo\":\"y+name\",\"line\":{\"color\":\"rgb(90,71,206)\",\"width\":10},\"mode\":\"lines\",\"name\":\"loading:Carrier B\",\"x\":[\"1970-01-01T04:49:14\",\"1970-01-01T04:49:14\",\"1970-01-01T05:30:54\",\"1970-01-01T05:30:54\",\"1970-01-01T05:30:54\",\"1970-01-01T09:40:54\",\"1970-01-01T09:40:54\",\"1970-01-01T10:22:34\",\"1970-01-01T10:22:34\",\"1970-01-01T10:22:34\",\"1970-01-01T13:59:14\",\"1970-01-01T13:59:14\",\"1970-01-01T14:40:54\",\"1970-01-01T14:40:54\",\"1970-01-01T14:40:54\",\"1970-01-01T04:49:14\",\"1970-01-01T04:49:14\",\"1970-01-01T05:30:54\",\"1970-01-01T05:30:54\",\"1970-01-01T05:30:54\",\"1970-01-01T09:40:54\",\"1970-01-01T09:40:54\",\"1970-01-01T10:22:34\",\"1970-01-01T10:22:34\",\"1970-01-01T10:22:34\",\"1970-01-01T13:59:14\",\"1970-01-01T13:59:14\",\"1970-01-01T14:40:54\",\"1970-01-01T14:40:54\",\"1970-01-01T14:40:54\",\"1970-01-01T04:49:14\",\"1970-01-01T04:49:14\",\"1970-01-01T05:30:54\",\"1970-01-01T05:30:54\",\"1970-01-01T05:30:54\",\"1970-01-01T09:40:54\",\"1970-01-01T09:40:54\",\"1970-01-01T10:22:34\",\"1970-01-01T10:22:34\",\"1970-01-01T10:22:34\",\"1970-01-01T13:59:14\",\"1970-01-01T13:59:14\",\"1970-01-01T14:40:54\",\"1970-01-01T14:40:54\",\"1970-01-01T14:40:54\"],\"y\":[\"Carrier B\",\"Carrier B\",\"Carrier B\",\"Carrier B\",null,\"Carrier B\",\"Carrier B\",\"Carrier B\",\"Carrier B\",null,\"Carrier B\",\"Carrier B\",\"Carrier B\",\"Carrier B\",null,\"Cutter T\",\"Cutter T\",\"Cutter T\",\"Cutter T\",null,\"Cutter T\",\"Cutter T\",\"Cutter T\",\"Cutter T\",null,\"Cutter T\",\"Cutter T\",\"Cutter T\",\"Cutter T\",null,\"Trench\",\"Trench\",\"Trench\",\"Trench\",null,\"Trench\",\"Trench\",\"Trench\",\"Trench\",null,\"Trench\",\"Trench\",\"Trench\",\"Trench\",null],\"type\":\"scatter\"},{\"connectgaps\":false,\"hoverinfo\":\"y+name\",\"line\":{\"color\":\"rgb(94,75,210)\",\"width\":10},\"mode\":\"lines\",\"name\":\"loading:Carrier A\",\"x\":[\"1970-01-01T01:45:54\",\"1970-01-01T01:45:54\",\"1970-01-01T02:19:14\",\"1970-01-01T02:19:14\",\"1970-01-01T02:19:14\",\"1970-01-01T06:04:14\",\"1970-01-01T06:04:14\",\"1970-01-01T06:37:34\",\"1970-01-01T06:37:34\",\"1970-01-01T06:37:34\",\"1970-01-01T10:22:34\",\"1970-01-01T10:22:34\",\"1970-01-01T10:55:54\",\"1970-01-01T10:55:54\",\"1970-01-01T10:55:54\",\"1970-01-01T14:40:54\",\"1970-01-01T14:40:54\",\"1970-01-01T15:14:14\",\"1970-01-01T15:14:14\",\"1970-01-01T15:14:14\",\"1970-01-01T01:45:54\",\"1970-01-01T01:45:54\",\"1970-01-01T02:19:14\",\"1970-01-01T02:19:14\",\"1970-01-01T02:19:14\",\"1970-01-01T06:04:14\",\"1970-01-01T06:04:14\",\"1970-01-01T06:37:34\",\"1970-01-01T06:37:34\",\"1970-01-01T06:37:34\",\"1970-01-01T10:22:34\",\"1970-01-01T10:22:34\",\"1970-01-01T10:55:54\",\"1970-01-01T10:55:54\",\"1970-01-01T10:55:54\",\"1970-01-01T14:40:54\",\"1970-01-01T14:40:54\",\"1970-01-01T15:14:14\",\"1970-01-01T15:14:14\",\"1970-01-01T15:14:14\",\"1970-01-01T01:45:54\",\"1970-01-01T01:45:54\",\"1970-01-01T02:19:14\",\"1970-01-01T02:19:14\",\"1970-01-01T02:19:14\",\"1970-01-01T06:04:14\",\"1970-01-01T06:04:14\",\"1970-01-01T06:37:34\",\"1970-01-01T06:37:34\",\"1970-01-01T06:37:34\",\"1970-01-01T10:22:34\",\"1970-01-01T10:22:34\",\"1970-01-01T10:55:54\",\"1970-01-01T10:55:54\",\"1970-01-01T10:55:54\",\"1970-01-01T14:40:54\",\"1970-01-01T14:40:54\",\"1970-01-01T15:14:14\",\"1970-01-01T15:14:14\",\"1970-01-01T15:14:14\"],\"y\":[\"Carrier A\",\"Carrier A\",\"Carrier A\",\"Carrier A\",null,\"Carrier A\",\"Carrier A\",\"Carrier A\",\"Carrier A\",null,\"Carrier A\",\"Carrier A\",\"Carrier A\",\"Carrier A\",null,\"Carrier A\",\"Carrier A\",\"Carrier A\",\"Carrier A\",null,\"Cutter T\",\"Cutter T\",\"Cutter T\",\"Cutter T\",null,\"Cutter T\",\"Cutter T\",\"Cutter T\",\"Cutter T\",null,\"Cutter T\",\"Cutter T\",\"Cutter T\",\"Cutter T\",null,\"Cutter T\",\"Cutter T\",\"Cutter T\",\"Cutter T\",null,\"Trench\",\"Trench\",\"Trench\",\"Trench\",null,\"Trench\",\"Trench\",\"Trench\",\"Trench\",null,\"Trench\",\"Trench\",\"Trench\",\"Trench\",null,\"Trench\",\"Trench\",\"Trench\",\"Trench\",null],\"type\":\"scatter\"},{\"connectgaps\":false,\"hoverinfo\":\"y+name\",\"line\":{\"color\":\"rgb(98,79,214)\",\"width\":10},\"mode\":\"lines\",\"name\":\"loading:Carrier C\",\"x\":[\"1970-01-01T01:12:34\",\"1970-01-01T01:12:34\",\"1970-01-01T01:45:54\",\"1970-01-01T01:45:54\",\"1970-01-01T01:45:54\",\"1970-01-01T05:30:54\",\"1970-01-01T05:30:54\",\"1970-01-01T06:04:14\",\"1970-01-01T06:04:14\",\"1970-01-01T06:04:14\",\"1970-01-01T09:07:34\",\"1970-01-01T09:07:34\",\"1970-01-01T09:40:54\",\"1970-01-01T09:40:54\",\"1970-01-01T09:40:54\",\"1970-01-01T12:52:34\",\"1970-01-01T12:52:34\",\"1970-01-01T13:25:54\",\"1970-01-01T13:25:54\",\"1970-01-01T13:25:54\",\"1970-01-01T01:12:34\",\"1970-01-01T01:12:34\",\"1970-01-01T01:45:54\",\"1970-01-01T01:45:54\",\"1970-01-01T01:45:54\",\"1970-01-01T05:30:54\",\"1970-01-01T05:30:54\",\"1970-01-01T06:04:14\",\"1970-01-01T06:04:14\",\"1970-01-01T06:04:14\",\"1970-01-01T09:07:34\",\"1970-01-01T09:07:34\",\"1970-01-01T09:40:54\",\"1970-01-01T09:40:54\",\"1970-01-01T09:40:54\",\"1970-01-01T12:52:34\",\"1970-01-01T12:52:34\",\"1970-01-01T13:25:54\",\"1970-01-01T13:25:54\",\"1970-01-01T13:25:54\",\"1970-01-01T01:12:34\",\"1970-01-01T01:12:34\",\"1970-01-01T01:45:54\",\"1970-01-01T01:45:54\",\"1970-01-01T01:45:54\",\"1970-01-01T05:30:54\",\"1970-01-01T05:30:54\",\"1970-01-01T06:04:14\",\"1970-01-01T06:04:14\",\"1970-01-01T06:04:14\",\"1970-01-01T09:07:34\",\"1970-01-01T09:07:34\",\"1970-01-01T09:40:54\",\"1970-01-01T09:40:54\",\"1970-01-01T09:40:54\",\"1970-01-01T12:52:34\",\"1970-01-01T12:52:34\",\"1970-01-01T13:25:54\",\"1970-01-01T13:25:54\",\"1970-01-01T13:25:54\"],\"y\":[\"Carrier C\",\"Carrier C\",\"Carrier C\",\"Carrier C\",null,\"Carrier C\",\"Carrier C\",\"Carrier C\",\"Carrier C\",null,\"Carrier C\",\"Carrier C\",\"Carrier C\",\"Carrier C\",null,\"Carrier C\",\"Carrier C\",\"Carrier C\",\"Carrier C\",null,\"Cutter T\",\"Cutter T\",\"Cutter T\",\"Cutter T\",null,\"Cutter T\",\"Cutter T\",\"Cutter T\",\"Cutter T\",null,\"Cutter T\",\"Cutter T\",\"Cutter T\",\"Cutter T\",null,\"Cutter T\",\"Cutter T\",\"Cutter T\",\"Cutter T\",null,\"Trench\",\"Trench\",\"Trench\",\"Trench\",null,\"Trench\",\"Trench\",\"Trench\",\"Trench\",null,\"Trench\",\"Trench\",\"Trench\",\"Trench\",null,\"Trench\",\"Trench\",\"Trench\",\"Trench\",null],\"type\":\"scatter\"},{\"connectgaps\":false,\"hoverinfo\":\"y+name\",\"line\":{\"color\":\"rgb(102,83,218)\",\"width\":10},\"mode\":\"lines\",\"name\":\"loading:Barge I\",\"x\":[\"1970-01-01T03:00:54\",\"1970-01-01T03:00:54\",\"1970-01-01T03:42:34\",\"1970-01-01T03:42:34\",\"1970-01-01T03:42:34\",\"1970-01-01T07:19:14\",\"1970-01-01T07:19:14\",\"1970-01-01T08:00:54\",\"1970-01-01T08:00:54\",\"1970-01-01T08:00:54\",\"1970-01-01T11:37:34\",\"1970-01-01T11:37:34\",\"1970-01-01T12:19:14\",\"1970-01-01T12:19:14\",\"1970-01-01T12:19:14\",\"1970-01-01T03:00:54\",\"1970-01-01T03:00:54\",\"1970-01-01T03:42:34\",\"1970-01-01T03:42:34\",\"1970-01-01T03:42:34\",\"1970-01-01T07:19:14\",\"1970-01-01T07:19:14\",\"1970-01-01T08:00:54\",\"1970-01-01T08:00:54\",\"1970-01-01T08:00:54\",\"1970-01-01T11:37:34\",\"1970-01-01T11:37:34\",\"1970-01-01T12:19:14\",\"1970-01-01T12:19:14\",\"1970-01-01T12:19:14\",\"1970-01-01T03:00:54\",\"1970-01-01T03:00:54\",\"1970-01-01T03:42:34\",\"1970-01-01T03:42:34\",\"1970-01-01T03:42:34\",\"1970-01-01T07:19:14\",\"1970-01-01T07:19:14\",\"1970-01-01T08:00:54\",\"1970-01-01T08:00:54\",\"1970-01-01T08:00:54\",\"1970-01-01T11:37:34\",\"1970-01-01T11:37:34\",\"1970-01-01T12:19:14\",\"1970-01-01T12:19:14\",\"1970-01-01T12:19:14\"],\"y\":[\"Barge I\",\"Barge I\",\"Barge I\",\"Barge I\",null,\"Barge I\",\"Barge I\",\"Barge I\",\"Barge I\",null,\"Barge I\",\"Barge I\",\"Barge I\",\"Barge I\",null,\"Cutter T\",\"Cutter T\",\"Cutter T\",\"Cutter T\",null,\"Cutter T\",\"Cutter T\",\"Cutter T\",\"Cutter T\",null,\"Cutter T\",\"Cutter T\",\"Cutter T\",\"Cutter T\",null,\"Trench\",\"Trench\",\"Trench\",\"Trench\",null,\"Trench\",\"Trench\",\"Trench\",\"Trench\",null,\"Trench\",\"Trench\",\"Trench\",\"Trench\",null],\"type\":\"scatter\"},{\"connectgaps\":false,\"hoverinfo\":\"y+name\",\"line\":{\"color\":\"rgb(106,87,222)\",\"width\":10},\"mode\":\"lines\",\"name\":\"loading:Barge II\",\"x\":[\"1970-01-01T02:19:14\",\"1970-01-01T02:19:14\",\"1970-01-01T03:00:54\",\"1970-01-01T03:00:54\",\"1970-01-01T03:00:54\",\"1970-01-01T06:37:34\",\"1970-01-01T06:37:34\",\"1970-01-01T07:19:14\",\"1970-01-01T07:19:14\",\"1970-01-01T07:19:14\",\"1970-01-01T10:55:54\",\"1970-01-01T10:55:54\",\"1970-01-01T11:37:34\",\"1970-01-01T11:37:34\",\"1970-01-01T11:37:34\",\"1970-01-01T02:19:14\",\"1970-01-01T02:19:14\",\"1970-01-01T03:00:54\",\"1970-01-01T03:00:54\",\"1970-01-01T03:00:54\",\"1970-01-01T06:37:34\",\"1970-01-01T06:37:34\",\"1970-01-01T07:19:14\",\"1970-01-01T07:19:14\",\"1970-01-01T07:19:14\",\"1970-01-01T10:55:54\",\"1970-01-01T10:55:54\",\"1970-01-01T11:37:34\",\"1970-01-01T11:37:34\",\"1970-01-01T11:37:34\",\"1970-01-01T02:19:14\",\"1970-01-01T02:19:14\",\"1970-01-01T03:00:54\",\"1970-01-01T03:00:54\",\"1970-01-01T03:00:54\",\"1970-01-01T06:37:34\",\"1970-01-01T06:37:34\",\"1970-01-01T07:19:14\",\"1970-01-01T07:19:14\",\"1970-01-01T07:19:14\",\"1970-01-01T10:55:54\",\"1970-01-01T10:55:54\",\"1970-01-01T11:37:34\",\"1970-01-01T11:37:34\",\"1970-01-01T11:37:34\"],\"y\":[\"Barge II\",\"Barge II\",\"Barge II\",\"Barge II\",null,\"Barge II\",\"Barge II\",\"Barge II\",\"Barge II\",null,\"Barge II\",\"Barge II\",\"Barge II\",\"Barge II\",null,\"Cutter T\",\"Cutter T\",\"Cutter T\",\"Cutter T\",null,\"Cutter T\",\"Cutter T\",\"Cutter T\",\"Cutter T\",null,\"Cutter T\",\"Cutter T\",\"Cutter T\",\"Cutter T\",null,\"Trench\",\"Trench\",\"Trench\",\"Trench\",null,\"Trench\",\"Trench\",\"Trench\",\"Trench\",null,\"Trench\",\"Trench\",\"Trench\",\"Trench\",null],\"type\":\"scatter\"},{\"connectgaps\":false,\"hoverinfo\":\"y+name\",\"line\":{\"color\":\"rgb(110,91,226)\",\"width\":10},\"mode\":\"lines\",\"name\":\"loading:Extra 1\",\"x\":[\"1970-01-01T03:42:34\",\"1970-01-01T03:42:34\",\"1970-01-01T04:15:54\",\"1970-01-01T04:15:54\",\"1970-01-01T04:15:54\",\"1970-01-01T08:00:54\",\"1970-01-01T08:00:54\",\"1970-01-01T08:34:14\",\"1970-01-01T08:34:14\",\"1970-01-01T08:34:14\",\"1970-01-01T12:19:14\",\"1970-01-01T12:19:14\",\"1970-01-01T12:52:34\",\"1970-01-01T12:52:34\",\"1970-01-01T12:52:34\",\"1970-01-01T03:42:34\",\"1970-01-01T03:42:34\",\"1970-01-01T04:15:54\",\"1970-01-01T04:15:54\",\"1970-01-01T04:15:54\",\"1970-01-01T08:00:54\",\"1970-01-01T08:00:54\",\"1970-01-01T08:34:14\",\"1970-01-01T08:34:14\",\"1970-01-01T08:34:14\",\"1970-01-01T12:19:14\",\"1970-01-01T12:19:14\",\"1970-01-01T12:52:34\",\"1970-01-01T12:52:34\",\"1970-01-01T12:52:34\",\"1970-01-01T03:42:34\",\"1970-01-01T03:42:34\",\"1970-01-01T04:15:54\",\"1970-01-01T04:15:54\",\"1970-01-01T04:15:54\",\"1970-01-01T08:00:54\",\"1970-01-01T08:00:54\",\"1970-01-01T08:34:14\",\"1970-01-01T08:34:14\",\"1970-01-01T08:34:14\",\"1970-01-01T12:19:14\",\"1970-01-01T12:19:14\",\"1970-01-01T12:52:34\",\"1970-01-01T12:52:34\",\"1970-01-01T12:52:34\"],\"y\":[\"Extra 1\",\"Extra 1\",\"Extra 1\",\"Extra 1\",null,\"Extra 1\",\"Extra 1\",\"Extra 1\",\"Extra 1\",null,\"Extra 1\",\"Extra 1\",\"Extra 1\",\"Extra 1\",null,\"Cutter T\",\"Cutter T\",\"Cutter T\",\"Cutter T\",null,\"Cutter T\",\"Cutter T\",\"Cutter T\",\"Cutter T\",null,\"Cutter T\",\"Cutter T\",\"Cutter T\",\"Cutter T\",null,\"Trench\",\"Trench\",\"Trench\",\"Trench\",null,\"Trench\",\"Trench\",\"Trench\",\"Trench\",null,\"Trench\",\"Trench\",\"Trench\",\"Trench\",null],\"type\":\"scatter\"},{\"connectgaps\":false,\"hoverinfo\":\"y+name\",\"line\":{\"color\":\"rgb(114,95,230)\",\"width\":10},\"mode\":\"lines\",\"name\":\"loading:Barge III\",\"x\":[\"1970-01-01T04:15:54\",\"1970-01-01T04:15:54\",\"1970-01-01T04:49:14\",\"1970-01-01T04:49:14\",\"1970-01-01T04:49:14\",\"1970-01-01T08:34:14\",\"1970-01-01T08:34:14\",\"1970-01-01T09:07:34\",\"1970-01-01T09:07:34\",\"1970-01-01T09:07:34\",\"1970-01-01T13:25:54\",\"1970-01-01T13:25:54\",\"1970-01-01T13:59:14\",\"1970-01-01T13:59:14\",\"1970-01-01T13:59:14\",\"1970-01-01T04:15:54\",\"1970-01-01T04:15:54\",\"1970-01-01T04:49:14\",\"1970-01-01T04:49:14\",\"1970-01-01T04:49:14\",\"1970-01-01T08:34:14\",\"1970-01-01T08:34:14\",\"1970-01-01T09:07:34\",\"1970-01-01T09:07:34\",\"1970-01-01T09:07:34\",\"1970-01-01T13:25:54\",\"1970-01-01T13:25:54\",\"1970-01-01T13:59:14\",\"1970-01-01T13:59:14\",\"1970-01-01T13:59:14\",\"1970-01-01T04:15:54\",\"1970-01-01T04:15:54\",\"1970-01-01T04:49:14\",\"1970-01-01T04:49:14\",\"1970-01-01T04:49:14\",\"1970-01-01T08:34:14\",\"1970-01-01T08:34:14\",\"1970-01-01T09:07:34\",\"1970-01-01T09:07:34\",\"1970-01-01T09:07:34\",\"1970-01-01T13:25:54\",\"1970-01-01T13:25:54\",\"1970-01-01T13:59:14\",\"1970-01-01T13:59:14\",\"1970-01-01T13:59:14\"],\"y\":[\"Barge III\",\"Barge III\",\"Barge III\",\"Barge III\",null,\"Barge III\",\"Barge III\",\"Barge III\",\"Barge III\",null,\"Barge III\",\"Barge III\",\"Barge III\",\"Barge III\",null,\"Cutter T\",\"Cutter T\",\"Cutter T\",\"Cutter T\",null,\"Cutter T\",\"Cutter T\",\"Cutter T\",\"Cutter T\",null,\"Cutter T\",\"Cutter T\",\"Cutter T\",\"Cutter T\",null,\"Trench\",\"Trench\",\"Trench\",\"Trench\",null,\"Trench\",\"Trench\",\"Trench\",\"Trench\",null,\"Trench\",\"Trench\",\"Trench\",\"Trench\",null],\"type\":\"scatter\"},{\"connectgaps\":false,\"hoverinfo\":\"y+name\",\"line\":{\"color\":\"rgb(118,99,234)\",\"width\":10},\"mode\":\"lines\",\"name\":\"loading:Carrier B\",\"x\":[\"1970-01-01T04:49:14\",\"1970-01-01T04:49:14\",\"1970-01-01T05:30:54\",\"1970-01-01T05:30:54\",\"1970-01-01T05:30:54\",\"1970-01-01T09:40:54\",\"1970-01-01T09:40:54\",\"1970-01-01T10:22:34\",\"1970-01-01T10:22:34\",\"1970-01-01T10:22:34\",\"1970-01-01T13:59:14\",\"1970-01-01T13:59:14\",\"1970-01-01T14:40:54\",\"1970-01-01T14:40:54\",\"1970-01-01T14:40:54\",\"1970-01-01T04:49:14\",\"1970-01-01T04:49:14\",\"1970-01-01T05:30:54\",\"1970-01-01T05:30:54\",\"1970-01-01T05:30:54\",\"1970-01-01T09:40:54\",\"1970-01-01T09:40:54\",\"1970-01-01T10:22:34\",\"1970-01-01T10:22:34\",\"1970-01-01T10:22:34\",\"1970-01-01T13:59:14\",\"1970-01-01T13:59:14\",\"1970-01-01T14:40:54\",\"1970-01-01T14:40:54\",\"1970-01-01T14:40:54\",\"1970-01-01T04:49:14\",\"1970-01-01T04:49:14\",\"1970-01-01T05:30:54\",\"1970-01-01T05:30:54\",\"1970-01-01T05:30:54\",\"1970-01-01T09:40:54\",\"1970-01-01T09:40:54\",\"1970-01-01T10:22:34\",\"1970-01-01T10:22:34\",\"1970-01-01T10:22:34\",\"1970-01-01T13:59:14\",\"1970-01-01T13:59:14\",\"1970-01-01T14:40:54\",\"1970-01-01T14:40:54\",\"1970-01-01T14:40:54\"],\"y\":[\"Carrier B\",\"Carrier B\",\"Carrier B\",\"Carrier B\",null,\"Carrier B\",\"Carrier B\",\"Carrier B\",\"Carrier B\",null,\"Carrier B\",\"Carrier B\",\"Carrier B\",\"Carrier B\",null,\"Cutter T\",\"Cutter T\",\"Cutter T\",\"Cutter T\",null,\"Cutter T\",\"Cutter T\",\"Cutter T\",\"Cutter T\",null,\"Cutter T\",\"Cutter T\",\"Cutter T\",\"Cutter T\",null,\"Trench\",\"Trench\",\"Trench\",\"Trench\",null,\"Trench\",\"Trench\",\"Trench\",\"Trench\",null,\"Trench\",\"Trench\",\"Trench\",\"Trench\",null],\"type\":\"scatter\"},{\"connectgaps\":false,\"hoverinfo\":\"y+name\",\"line\":{\"color\":\"rgb(122,103,238)\",\"width\":10},\"mode\":\"lines\",\"name\":\"loading:Carrier A\",\"x\":[\"1970-01-01T01:45:54\",\"1970-01-01T01:45:54\",\"1970-01-01T02:19:14\",\"1970-01-01T02:19:14\",\"1970-01-01T02:19:14\",\"1970-01-01T06:04:14\",\"1970-01-01T06:04:14\",\"1970-01-01T06:37:34\",\"1970-01-01T06:37:34\",\"1970-01-01T06:37:34\",\"1970-01-01T10:22:34\",\"1970-01-01T10:22:34\",\"1970-01-01T10:55:54\",\"1970-01-01T10:55:54\",\"1970-01-01T10:55:54\",\"1970-01-01T14:40:54\",\"1970-01-01T14:40:54\",\"1970-01-01T15:14:14\",\"1970-01-01T15:14:14\",\"1970-01-01T15:14:14\",\"1970-01-01T01:45:54\",\"1970-01-01T01:45:54\",\"1970-01-01T02:19:14\",\"1970-01-01T02:19:14\",\"1970-01-01T02:19:14\",\"1970-01-01T06:04:14\",\"1970-01-01T06:04:14\",\"1970-01-01T06:37:34\",\"1970-01-01T06:37:34\",\"1970-01-01T06:37:34\",\"1970-01-01T10:22:34\",\"1970-01-01T10:22:34\",\"1970-01-01T10:55:54\",\"1970-01-01T10:55:54\",\"1970-01-01T10:55:54\",\"1970-01-01T14:40:54\",\"1970-01-01T14:40:54\",\"1970-01-01T15:14:14\",\"1970-01-01T15:14:14\",\"1970-01-01T15:14:14\",\"1970-01-01T01:45:54\",\"1970-01-01T01:45:54\",\"1970-01-01T02:19:14\",\"1970-01-01T02:19:14\",\"1970-01-01T02:19:14\",\"1970-01-01T06:04:14\",\"1970-01-01T06:04:14\",\"1970-01-01T06:37:34\",\"1970-01-01T06:37:34\",\"1970-01-01T06:37:34\",\"1970-01-01T10:22:34\",\"1970-01-01T10:22:34\",\"1970-01-01T10:55:54\",\"1970-01-01T10:55:54\",\"1970-01-01T10:55:54\",\"1970-01-01T14:40:54\",\"1970-01-01T14:40:54\",\"1970-01-01T15:14:14\",\"1970-01-01T15:14:14\",\"1970-01-01T15:14:14\"],\"y\":[\"Carrier A\",\"Carrier A\",\"Carrier A\",\"Carrier A\",null,\"Carrier A\",\"Carrier A\",\"Carrier A\",\"Carrier A\",null,\"Carrier A\",\"Carrier A\",\"Carrier A\",\"Carrier A\",null,\"Carrier A\",\"Carrier A\",\"Carrier A\",\"Carrier A\",null,\"Cutter T\",\"Cutter T\",\"Cutter T\",\"Cutter T\",null,\"Cutter T\",\"Cutter T\",\"Cutter T\",\"Cutter T\",null,\"Cutter T\",\"Cutter T\",\"Cutter T\",\"Cutter T\",null,\"Cutter T\",\"Cutter T\",\"Cutter T\",\"Cutter T\",null,\"Trench\",\"Trench\",\"Trench\",\"Trench\",null,\"Trench\",\"Trench\",\"Trench\",\"Trench\",null,\"Trench\",\"Trench\",\"Trench\",\"Trench\",null,\"Trench\",\"Trench\",\"Trench\",\"Trench\",null],\"type\":\"scatter\"},{\"connectgaps\":false,\"hoverinfo\":\"y+name\",\"line\":{\"color\":\"rgb(126,107,242)\",\"width\":10},\"mode\":\"lines\",\"name\":\"loading:Carrier C\",\"x\":[\"1970-01-01T01:12:34\",\"1970-01-01T01:12:34\",\"1970-01-01T01:45:54\",\"1970-01-01T01:45:54\",\"1970-01-01T01:45:54\",\"1970-01-01T05:30:54\",\"1970-01-01T05:30:54\",\"1970-01-01T06:04:14\",\"1970-01-01T06:04:14\",\"1970-01-01T06:04:14\",\"1970-01-01T09:07:34\",\"1970-01-01T09:07:34\",\"1970-01-01T09:40:54\",\"1970-01-01T09:40:54\",\"1970-01-01T09:40:54\",\"1970-01-01T12:52:34\",\"1970-01-01T12:52:34\",\"1970-01-01T13:25:54\",\"1970-01-01T13:25:54\",\"1970-01-01T13:25:54\",\"1970-01-01T01:12:34\",\"1970-01-01T01:12:34\",\"1970-01-01T01:45:54\",\"1970-01-01T01:45:54\",\"1970-01-01T01:45:54\",\"1970-01-01T05:30:54\",\"1970-01-01T05:30:54\",\"1970-01-01T06:04:14\",\"1970-01-01T06:04:14\",\"1970-01-01T06:04:14\",\"1970-01-01T09:07:34\",\"1970-01-01T09:07:34\",\"1970-01-01T09:40:54\",\"1970-01-01T09:40:54\",\"1970-01-01T09:40:54\",\"1970-01-01T12:52:34\",\"1970-01-01T12:52:34\",\"1970-01-01T13:25:54\",\"1970-01-01T13:25:54\",\"1970-01-01T13:25:54\",\"1970-01-01T01:12:34\",\"1970-01-01T01:12:34\",\"1970-01-01T01:45:54\",\"1970-01-01T01:45:54\",\"1970-01-01T01:45:54\",\"1970-01-01T05:30:54\",\"1970-01-01T05:30:54\",\"1970-01-01T06:04:14\",\"1970-01-01T06:04:14\",\"1970-01-01T06:04:14\",\"1970-01-01T09:07:34\",\"1970-01-01T09:07:34\",\"1970-01-01T09:40:54\",\"1970-01-01T09:40:54\",\"1970-01-01T09:40:54\",\"1970-01-01T12:52:34\",\"1970-01-01T12:52:34\",\"1970-01-01T13:25:54\",\"1970-01-01T13:25:54\",\"1970-01-01T13:25:54\"],\"y\":[\"Carrier C\",\"Carrier C\",\"Carrier C\",\"Carrier C\",null,\"Carrier C\",\"Carrier C\",\"Carrier C\",\"Carrier C\",null,\"Carrier C\",\"Carrier C\",\"Carrier C\",\"Carrier C\",null,\"Carrier C\",\"Carrier C\",\"Carrier C\",\"Carrier C\",null,\"Cutter T\",\"Cutter T\",\"Cutter T\",\"Cutter T\",null,\"Cutter T\",\"Cutter T\",\"Cutter T\",\"Cutter T\",null,\"Cutter T\",\"Cutter T\",\"Cutter T\",\"Cutter T\",null,\"Cutter T\",\"Cutter T\",\"Cutter T\",\"Cutter T\",null,\"Trench\",\"Trench\",\"Trench\",\"Trench\",null,\"Trench\",\"Trench\",\"Trench\",\"Trench\",null,\"Trench\",\"Trench\",\"Trench\",\"Trench\",null,\"Trench\",\"Trench\",\"Trench\",\"Trench\",null],\"type\":\"scatter\"},{\"connectgaps\":false,\"hoverinfo\":\"y+name\",\"line\":{\"color\":\"rgb(130,111,246)\",\"width\":10},\"mode\":\"lines\",\"name\":\"loading:Barge I\",\"x\":[\"1970-01-01T03:00:54\",\"1970-01-01T03:00:54\",\"1970-01-01T03:42:34\",\"1970-01-01T03:42:34\",\"1970-01-01T03:42:34\",\"1970-01-01T07:19:14\",\"1970-01-01T07:19:14\",\"1970-01-01T08:00:54\",\"1970-01-01T08:00:54\",\"1970-01-01T08:00:54\",\"1970-01-01T11:37:34\",\"1970-01-01T11:37:34\",\"1970-01-01T12:19:14\",\"1970-01-01T12:19:14\",\"1970-01-01T12:19:14\",\"1970-01-01T03:00:54\",\"1970-01-01T03:00:54\",\"1970-01-01T03:42:34\",\"1970-01-01T03:42:34\",\"1970-01-01T03:42:34\",\"1970-01-01T07:19:14\",\"1970-01-01T07:19:14\",\"1970-01-01T08:00:54\",\"1970-01-01T08:00:54\",\"1970-01-01T08:00:54\",\"1970-01-01T11:37:34\",\"1970-01-01T11:37:34\",\"1970-01-01T12:19:14\",\"1970-01-01T12:19:14\",\"1970-01-01T12:19:14\",\"1970-01-01T03:00:54\",\"1970-01-01T03:00:54\",\"1970-01-01T03:42:34\",\"1970-01-01T03:42:34\",\"1970-01-01T03:42:34\",\"1970-01-01T07:19:14\",\"1970-01-01T07:19:14\",\"1970-01-01T08:00:54\",\"1970-01-01T08:00:54\",\"1970-01-01T08:00:54\",\"1970-01-01T11:37:34\",\"1970-01-01T11:37:34\",\"1970-01-01T12:19:14\",\"1970-01-01T12:19:14\",\"1970-01-01T12:19:14\"],\"y\":[\"Barge I\",\"Barge I\",\"Barge I\",\"Barge I\",null,\"Barge I\",\"Barge I\",\"Barge I\",\"Barge I\",null,\"Barge I\",\"Barge I\",\"Barge I\",\"Barge I\",null,\"Cutter T\",\"Cutter T\",\"Cutter T\",\"Cutter T\",null,\"Cutter T\",\"Cutter T\",\"Cutter T\",\"Cutter T\",null,\"Cutter T\",\"Cutter T\",\"Cutter T\",\"Cutter T\",null,\"Trench\",\"Trench\",\"Trench\",\"Trench\",null,\"Trench\",\"Trench\",\"Trench\",\"Trench\",null,\"Trench\",\"Trench\",\"Trench\",\"Trench\",null],\"type\":\"scatter\"},{\"connectgaps\":false,\"hoverinfo\":\"y+name\",\"line\":{\"color\":\"rgb(134,115,250)\",\"width\":10},\"mode\":\"lines\",\"name\":\"loading:Barge II\",\"x\":[\"1970-01-01T02:19:14\",\"1970-01-01T02:19:14\",\"1970-01-01T03:00:54\",\"1970-01-01T03:00:54\",\"1970-01-01T03:00:54\",\"1970-01-01T06:37:34\",\"1970-01-01T06:37:34\",\"1970-01-01T07:19:14\",\"1970-01-01T07:19:14\",\"1970-01-01T07:19:14\",\"1970-01-01T10:55:54\",\"1970-01-01T10:55:54\",\"1970-01-01T11:37:34\",\"1970-01-01T11:37:34\",\"1970-01-01T11:37:34\",\"1970-01-01T02:19:14\",\"1970-01-01T02:19:14\",\"1970-01-01T03:00:54\",\"1970-01-01T03:00:54\",\"1970-01-01T03:00:54\",\"1970-01-01T06:37:34\",\"1970-01-01T06:37:34\",\"1970-01-01T07:19:14\",\"1970-01-01T07:19:14\",\"1970-01-01T07:19:14\",\"1970-01-01T10:55:54\",\"1970-01-01T10:55:54\",\"1970-01-01T11:37:34\",\"1970-01-01T11:37:34\",\"1970-01-01T11:37:34\",\"1970-01-01T02:19:14\",\"1970-01-01T02:19:14\",\"1970-01-01T03:00:54\",\"1970-01-01T03:00:54\",\"1970-01-01T03:00:54\",\"1970-01-01T06:37:34\",\"1970-01-01T06:37:34\",\"1970-01-01T07:19:14\",\"1970-01-01T07:19:14\",\"1970-01-01T07:19:14\",\"1970-01-01T10:55:54\",\"1970-01-01T10:55:54\",\"1970-01-01T11:37:34\",\"1970-01-01T11:37:34\",\"1970-01-01T11:37:34\"],\"y\":[\"Barge II\",\"Barge II\",\"Barge II\",\"Barge II\",null,\"Barge II\",\"Barge II\",\"Barge II\",\"Barge II\",null,\"Barge II\",\"Barge II\",\"Barge II\",\"Barge II\",null,\"Cutter T\",\"Cutter T\",\"Cutter T\",\"Cutter T\",null,\"Cutter T\",\"Cutter T\",\"Cutter T\",\"Cutter T\",null,\"Cutter T\",\"Cutter T\",\"Cutter T\",\"Cutter T\",null,\"Trench\",\"Trench\",\"Trench\",\"Trench\",null,\"Trench\",\"Trench\",\"Trench\",\"Trench\",null,\"Trench\",\"Trench\",\"Trench\",\"Trench\",null],\"type\":\"scatter\"},{\"connectgaps\":false,\"hoverinfo\":\"y+name\",\"line\":{\"color\":\"rgb(138,119,254)\",\"width\":10},\"mode\":\"lines\",\"name\":\"loading:Extra 1\",\"x\":[\"1970-01-01T03:42:34\",\"1970-01-01T03:42:34\",\"1970-01-01T04:15:54\",\"1970-01-01T04:15:54\",\"1970-01-01T04:15:54\",\"1970-01-01T08:00:54\",\"1970-01-01T08:00:54\",\"1970-01-01T08:34:14\",\"1970-01-01T08:34:14\",\"1970-01-01T08:34:14\",\"1970-01-01T12:19:14\",\"1970-01-01T12:19:14\",\"1970-01-01T12:52:34\",\"1970-01-01T12:52:34\",\"1970-01-01T12:52:34\",\"1970-01-01T03:42:34\",\"1970-01-01T03:42:34\",\"1970-01-01T04:15:54\",\"1970-01-01T04:15:54\",\"1970-01-01T04:15:54\",\"1970-01-01T08:00:54\",\"1970-01-01T08:00:54\",\"1970-01-01T08:34:14\",\"1970-01-01T08:34:14\",\"1970-01-01T08:34:14\",\"1970-01-01T12:19:14\",\"1970-01-01T12:19:14\",\"1970-01-01T12:52:34\",\"1970-01-01T12:52:34\",\"1970-01-01T12:52:34\",\"1970-01-01T03:42:34\",\"1970-01-01T03:42:34\",\"1970-01-01T04:15:54\",\"1970-01-01T04:15:54\",\"1970-01-01T04:15:54\",\"1970-01-01T08:00:54\",\"1970-01-01T08:00:54\",\"1970-01-01T08:34:14\",\"1970-01-01T08:34:14\",\"1970-01-01T08:34:14\",\"1970-01-01T12:19:14\",\"1970-01-01T12:19:14\",\"1970-01-01T12:52:34\",\"1970-01-01T12:52:34\",\"1970-01-01T12:52:34\"],\"y\":[\"Extra 1\",\"Extra 1\",\"Extra 1\",\"Extra 1\",null,\"Extra 1\",\"Extra 1\",\"Extra 1\",\"Extra 1\",null,\"Extra 1\",\"Extra 1\",\"Extra 1\",\"Extra 1\",null,\"Cutter T\",\"Cutter T\",\"Cutter T\",\"Cutter T\",null,\"Cutter T\",\"Cutter T\",\"Cutter T\",\"Cutter T\",null,\"Cutter T\",\"Cutter T\",\"Cutter T\",\"Cutter T\",null,\"Trench\",\"Trench\",\"Trench\",\"Trench\",null,\"Trench\",\"Trench\",\"Trench\",\"Trench\",null,\"Trench\",\"Trench\",\"Trench\",\"Trench\",null],\"type\":\"scatter\"},{\"connectgaps\":false,\"hoverinfo\":\"y+name\",\"line\":{\"color\":\"rgb(142,123,2)\",\"width\":10},\"mode\":\"lines\",\"name\":\"unloading:Barge II\",\"x\":[\"1970-01-01T03:43:15\",\"1970-01-01T03:43:15\",\"1970-01-01T04:25:36\",\"1970-01-01T04:25:36\",\"1970-01-01T04:25:36\",\"1970-01-01T08:01:35\",\"1970-01-01T08:01:35\",\"1970-01-01T08:43:56\",\"1970-01-01T08:43:56\",\"1970-01-01T08:43:56\",\"1970-01-01T12:19:55\",\"1970-01-01T12:19:55\",\"1970-01-01T13:02:16\",\"1970-01-01T13:02:16\",\"1970-01-01T13:02:16\",\"1970-01-01T03:43:15\",\"1970-01-01T03:43:15\",\"1970-01-01T04:25:36\",\"1970-01-01T04:25:36\",\"1970-01-01T04:25:36\",\"1970-01-01T08:01:35\",\"1970-01-01T08:01:35\",\"1970-01-01T08:43:56\",\"1970-01-01T08:43:56\",\"1970-01-01T08:43:56\",\"1970-01-01T12:19:55\",\"1970-01-01T12:19:55\",\"1970-01-01T13:02:16\",\"1970-01-01T13:02:16\",\"1970-01-01T13:02:16\"],\"y\":[\"Barge II\",\"Barge II\",\"Barge II\",\"Barge II\",null,\"Barge II\",\"Barge II\",\"Barge II\",\"Barge II\",null,\"Barge II\",\"Barge II\",\"Barge II\",\"Barge II\",null,\"Reclamation\",\"Reclamation\",\"Reclamation\",\"Reclamation\",null,\"Reclamation\",\"Reclamation\",\"Reclamation\",\"Reclamation\",null,\"Reclamation\",\"Reclamation\",\"Reclamation\",\"Reclamation\",null],\"type\":\"scatter\"},{\"connectgaps\":false,\"hoverinfo\":\"y+name\",\"line\":{\"color\":\"rgb(146,127,6)\",\"width\":10},\"mode\":\"lines\",\"name\":\"unloading:Carrier A\",\"x\":[\"1970-01-01T02:58:36\",\"1970-01-01T02:58:36\",\"1970-01-01T03:37:58\",\"1970-01-01T03:37:58\",\"1970-01-01T03:37:58\",\"1970-01-01T07:16:56\",\"1970-01-01T07:16:56\",\"1970-01-01T07:56:18\",\"1970-01-01T07:56:18\",\"1970-01-01T07:56:18\",\"1970-01-01T11:35:16\",\"1970-01-01T11:35:16\",\"1970-01-01T12:14:38\",\"1970-01-01T12:14:38\",\"1970-01-01T12:14:38\",\"1970-01-01T15:53:36\",\"1970-01-01T15:53:36\",\"1970-01-01T16:32:58\",\"1970-01-01T16:32:58\",\"1970-01-01T16:32:58\",\"1970-01-01T02:58:36\",\"1970-01-01T02:58:36\",\"1970-01-01T03:37:58\",\"1970-01-01T03:37:58\",\"1970-01-01T03:37:58\",\"1970-01-01T07:16:56\",\"1970-01-01T07:16:56\",\"1970-01-01T07:56:18\",\"1970-01-01T07:56:18\",\"1970-01-01T07:56:18\",\"1970-01-01T11:35:16\",\"1970-01-01T11:35:16\",\"1970-01-01T12:14:38\",\"1970-01-01T12:14:38\",\"1970-01-01T12:14:38\",\"1970-01-01T15:53:36\",\"1970-01-01T15:53:36\",\"1970-01-01T16:32:58\",\"1970-01-01T16:32:58\",\"1970-01-01T16:32:58\"],\"y\":[\"Carrier A\",\"Carrier A\",\"Carrier A\",\"Carrier A\",null,\"Carrier A\",\"Carrier A\",\"Carrier A\",\"Carrier A\",null,\"Carrier A\",\"Carrier A\",\"Carrier A\",\"Carrier A\",null,\"Carrier A\",\"Carrier A\",\"Carrier A\",\"Carrier A\",null,\"Reclamation\",\"Reclamation\",\"Reclamation\",\"Reclamation\",null,\"Reclamation\",\"Reclamation\",\"Reclamation\",\"Reclamation\",null,\"Reclamation\",\"Reclamation\",\"Reclamation\",\"Reclamation\",null,\"Reclamation\",\"Reclamation\",\"Reclamation\",\"Reclamation\",null],\"type\":\"scatter\"},{\"connectgaps\":false,\"hoverinfo\":\"y+name\",\"line\":{\"color\":\"rgb(150,131,10)\",\"width\":10},\"mode\":\"lines\",\"name\":\"unloading:Barge I\",\"x\":[\"1970-01-01T04:24:58\",\"1970-01-01T04:24:58\",\"1970-01-01T05:07:22\",\"1970-01-01T05:07:22\",\"1970-01-01T05:07:22\",\"1970-01-01T08:43:18\",\"1970-01-01T08:43:18\",\"1970-01-01T09:25:42\",\"1970-01-01T09:25:42\",\"1970-01-01T09:25:42\",\"1970-01-01T13:01:38\",\"1970-01-01T13:01:38\",\"1970-01-01T13:44:02\",\"1970-01-01T13:44:02\",\"1970-01-01T13:44:02\",\"1970-01-01T04:24:58\",\"1970-01-01T04:24:58\",\"1970-01-01T05:07:22\",\"1970-01-01T05:07:22\",\"1970-01-01T05:07:22\",\"1970-01-01T08:43:18\",\"1970-01-01T08:43:18\",\"1970-01-01T09:25:42\",\"1970-01-01T09:25:42\",\"1970-01-01T09:25:42\",\"1970-01-01T13:01:38\",\"1970-01-01T13:01:38\",\"1970-01-01T13:44:02\",\"1970-01-01T13:44:02\",\"1970-01-01T13:44:02\"],\"y\":[\"Barge I\",\"Barge I\",\"Barge I\",\"Barge I\",null,\"Barge I\",\"Barge I\",\"Barge I\",\"Barge I\",null,\"Barge I\",\"Barge I\",\"Barge I\",\"Barge I\",null,\"Reclamation\",\"Reclamation\",\"Reclamation\",\"Reclamation\",null,\"Reclamation\",\"Reclamation\",\"Reclamation\",\"Reclamation\",null,\"Reclamation\",\"Reclamation\",\"Reclamation\",\"Reclamation\",null],\"type\":\"scatter\"},{\"connectgaps\":false,\"hoverinfo\":\"y+name\",\"line\":{\"color\":\"rgb(154,135,14)\",\"width\":10},\"mode\":\"lines\",\"name\":\"unloading:Barge III\",\"x\":[\"1970-01-01T05:36:21\",\"1970-01-01T05:36:21\",\"1970-01-01T06:23:28\",\"1970-01-01T06:23:28\",\"1970-01-01T06:23:28\",\"1970-01-01T09:54:41\",\"1970-01-01T09:54:41\",\"1970-01-01T10:41:48\",\"1970-01-01T10:41:48\",\"1970-01-01T10:41:48\",\"1970-01-01T14:46:21\",\"1970-01-01T14:46:21\",\"1970-01-01T15:33:28\",\"1970-01-01T15:33:28\",\"1970-01-01T15:33:28\",\"1970-01-01T05:36:21\",\"1970-01-01T05:36:21\",\"1970-01-01T06:23:28\",\"1970-01-01T06:23:28\",\"1970-01-01T06:23:28\",\"1970-01-01T09:54:41\",\"1970-01-01T09:54:41\",\"1970-01-01T10:41:48\",\"1970-01-01T10:41:48\",\"1970-01-01T10:41:48\",\"1970-01-01T14:46:21\",\"1970-01-01T14:46:21\",\"1970-01-01T15:33:28\",\"1970-01-01T15:33:28\",\"1970-01-01T15:33:28\"],\"y\":[\"Barge III\",\"Barge III\",\"Barge III\",\"Barge III\",null,\"Barge III\",\"Barge III\",\"Barge III\",\"Barge III\",null,\"Barge III\",\"Barge III\",\"Barge III\",\"Barge III\",null,\"Reclamation\",\"Reclamation\",\"Reclamation\",\"Reclamation\",null,\"Reclamation\",\"Reclamation\",\"Reclamation\",\"Reclamation\",null,\"Reclamation\",\"Reclamation\",\"Reclamation\",\"Reclamation\",null],\"type\":\"scatter\"},{\"connectgaps\":false,\"hoverinfo\":\"y+name\",\"line\":{\"color\":\"rgb(158,139,18)\",\"width\":10},\"mode\":\"lines\",\"name\":\"unloading:Carrier B\",\"x\":[\"1970-01-01T06:18:13\",\"1970-01-01T06:18:13\",\"1970-01-01T07:05:32\",\"1970-01-01T07:05:32\",\"1970-01-01T07:05:32\",\"1970-01-01T11:09:53\",\"1970-01-01T11:09:53\",\"1970-01-01T11:57:12\",\"1970-01-01T11:57:12\",\"1970-01-01T11:57:12\",\"1970-01-01T15:28:13\",\"1970-01-01T15:28:13\",\"1970-01-01T16:15:32\",\"1970-01-01T16:15:32\",\"1970-01-01T16:15:32\",\"1970-01-01T06:18:13\",\"1970-01-01T06:18:13\",\"1970-01-01T07:05:32\",\"1970-01-01T07:05:32\",\"1970-01-01T07:05:32\",\"1970-01-01T11:09:53\",\"1970-01-01T11:09:53\",\"1970-01-01T11:57:12\",\"1970-01-01T11:57:12\",\"1970-01-01T11:57:12\",\"1970-01-01T15:28:13\",\"1970-01-01T15:28:13\",\"1970-01-01T16:15:32\",\"1970-01-01T16:15:32\",\"1970-01-01T16:15:32\"],\"y\":[\"Carrier B\",\"Carrier B\",\"Carrier B\",\"Carrier B\",null,\"Carrier B\",\"Carrier B\",\"Carrier B\",\"Carrier B\",null,\"Carrier B\",\"Carrier B\",\"Carrier B\",\"Carrier B\",null,\"Reclamation\",\"Reclamation\",\"Reclamation\",\"Reclamation\",null,\"Reclamation\",\"Reclamation\",\"Reclamation\",\"Reclamation\",null,\"Reclamation\",\"Reclamation\",\"Reclamation\",\"Reclamation\",null],\"type\":\"scatter\"},{\"connectgaps\":false,\"hoverinfo\":\"y+name\",\"line\":{\"color\":\"rgb(162,143,22)\",\"width\":10},\"mode\":\"lines\",\"name\":\"unloading:Extra 1\",\"x\":[\"1970-01-01T05:02:52\",\"1970-01-01T05:02:52\",\"1970-01-01T05:49:50\",\"1970-01-01T05:49:50\",\"1970-01-01T05:49:50\",\"1970-01-01T09:21:12\",\"1970-01-01T09:21:12\",\"1970-01-01T10:08:10\",\"1970-01-01T10:08:10\",\"1970-01-01T10:08:10\",\"1970-01-01T13:39:32\",\"1970-01-01T13:39:32\",\"1970-01-01T14:26:30\",\"1970-01-01T14:26:30\",\"1970-01-01T14:26:30\",\"1970-01-01T05:02:52\",\"1970-01-01T05:02:52\",\"1970-01-01T05:49:50\",\"1970-01-01T05:49:50\",\"1970-01-01T05:49:50\",\"1970-01-01T09:21:12\",\"1970-01-01T09:21:12\",\"1970-01-01T10:08:10\",\"1970-01-01T10:08:10\",\"1970-01-01T10:08:10\",\"1970-01-01T13:39:32\",\"1970-01-01T13:39:32\",\"1970-01-01T14:26:30\",\"1970-01-01T14:26:30\",\"1970-01-01T14:26:30\"],\"y\":[\"Extra 1\",\"Extra 1\",\"Extra 1\",\"Extra 1\",null,\"Extra 1\",\"Extra 1\",\"Extra 1\",\"Extra 1\",null,\"Extra 1\",\"Extra 1\",\"Extra 1\",\"Extra 1\",null,\"Reclamation\",\"Reclamation\",\"Reclamation\",\"Reclamation\",null,\"Reclamation\",\"Reclamation\",\"Reclamation\",\"Reclamation\",null,\"Reclamation\",\"Reclamation\",\"Reclamation\",\"Reclamation\",null],\"type\":\"scatter\"},{\"connectgaps\":false,\"hoverinfo\":\"y+name\",\"line\":{\"color\":\"rgb(166,147,26)\",\"width\":10},\"mode\":\"lines\",\"name\":\"unloading:Carrier C\",\"x\":[\"1970-01-01T02:22:11\",\"1970-01-01T02:22:11\",\"1970-01-01T02:58:28\",\"1970-01-01T02:58:28\",\"1970-01-01T02:58:28\",\"1970-01-01T06:40:31\",\"1970-01-01T06:40:31\",\"1970-01-01T07:16:48\",\"1970-01-01T07:16:48\",\"1970-01-01T07:16:48\",\"1970-01-01T10:17:11\",\"1970-01-01T10:17:11\",\"1970-01-01T10:53:28\",\"1970-01-01T10:53:28\",\"1970-01-01T10:53:28\",\"1970-01-01T14:02:11\",\"1970-01-01T14:02:11\",\"1970-01-01T14:38:28\",\"1970-01-01T14:38:28\",\"1970-01-01T14:38:28\",\"1970-01-01T02:22:11\",\"1970-01-01T02:22:11\",\"1970-01-01T02:58:28\",\"1970-01-01T02:58:28\",\"1970-01-01T02:58:28\",\"1970-01-01T06:40:31\",\"1970-01-01T06:40:31\",\"1970-01-01T07:16:48\",\"1970-01-01T07:16:48\",\"1970-01-01T07:16:48\",\"1970-01-01T10:17:11\",\"1970-01-01T10:17:11\",\"1970-01-01T10:53:28\",\"1970-01-01T10:53:28\",\"1970-01-01T10:53:28\",\"1970-01-01T14:02:11\",\"1970-01-01T14:02:11\",\"1970-01-01T14:38:28\",\"1970-01-01T14:38:28\",\"1970-01-01T14:38:28\"],\"y\":[\"Carrier C\",\"Carrier C\",\"Carrier C\",\"Carrier C\",null,\"Carrier C\",\"Carrier C\",\"Carrier C\",\"Carrier C\",null,\"Carrier C\",\"Carrier C\",\"Carrier C\",\"Carrier C\",null,\"Carrier C\",\"Carrier C\",\"Carrier C\",\"Carrier C\",null,\"Reclamation\",\"Reclamation\",\"Reclamation\",\"Reclamation\",null,\"Reclamation\",\"Reclamation\",\"Reclamation\",\"Reclamation\",null,\"Reclamation\",\"Reclamation\",\"Reclamation\",\"Reclamation\",null,\"Reclamation\",\"Reclamation\",\"Reclamation\",\"Reclamation\",null],\"type\":\"scatter\"}],                        {\"hovermode\":\"closest\",\"legend\":{\"orientation\":\"h\",\"x\":0,\"y\":-0.2},\"showlegend\":false,\"template\":{\"data\":{\"barpolar\":[{\"marker\":{\"line\":{\"color\":\"#E5ECF6\",\"width\":0.5},\"pattern\":{\"fillmode\":\"overlay\",\"size\":10,\"solidity\":0.2}},\"type\":\"barpolar\"}],\"bar\":[{\"error_x\":{\"color\":\"#2a3f5f\"},\"error_y\":{\"color\":\"#2a3f5f\"},\"marker\":{\"line\":{\"color\":\"#E5ECF6\",\"width\":0.5},\"pattern\":{\"fillmode\":\"overlay\",\"size\":10,\"solidity\":0.2}},\"type\":\"bar\"}],\"carpet\":[{\"aaxis\":{\"endlinecolor\":\"#2a3f5f\",\"gridcolor\":\"white\",\"linecolor\":\"white\",\"minorgridcolor\":\"white\",\"startlinecolor\":\"#2a3f5f\"},\"baxis\":{\"endlinecolor\":\"#2a3f5f\",\"gridcolor\":\"white\",\"linecolor\":\"white\",\"minorgridcolor\":\"white\",\"startlinecolor\":\"#2a3f5f\"},\"type\":\"carpet\"}],\"choropleth\":[{\"colorbar\":{\"outlinewidth\":0,\"ticks\":\"\"},\"type\":\"choropleth\"}],\"contourcarpet\":[{\"colorbar\":{\"outlinewidth\":0,\"ticks\":\"\"},\"type\":\"contourcarpet\"}],\"contour\":[{\"colorbar\":{\"outlinewidth\":0,\"ticks\":\"\"},\"colorscale\":[[0.0,\"#0d0887\"],[0.1111111111111111,\"#46039f\"],[0.2222222222222222,\"#7201a8\"],[0.3333333333333333,\"#9c179e\"],[0.4444444444444444,\"#bd3786\"],[0.5555555555555556,\"#d8576b\"],[0.6666666666666666,\"#ed7953\"],[0.7777777777777778,\"#fb9f3a\"],[0.8888888888888888,\"#fdca26\"],[1.0,\"#f0f921\"]],\"type\":\"contour\"}],\"heatmapgl\":[{\"colorbar\":{\"outlinewidth\":0,\"ticks\":\"\"},\"colorscale\":[[0.0,\"#0d0887\"],[0.1111111111111111,\"#46039f\"],[0.2222222222222222,\"#7201a8\"],[0.3333333333333333,\"#9c179e\"],[0.4444444444444444,\"#bd3786\"],[0.5555555555555556,\"#d8576b\"],[0.6666666666666666,\"#ed7953\"],[0.7777777777777778,\"#fb9f3a\"],[0.8888888888888888,\"#fdca26\"],[1.0,\"#f0f921\"]],\"type\":\"heatmapgl\"}],\"heatmap\":[{\"colorbar\":{\"outlinewidth\":0,\"ticks\":\"\"},\"colorscale\":[[0.0,\"#0d0887\"],[0.1111111111111111,\"#46039f\"],[0.2222222222222222,\"#7201a8\"],[0.3333333333333333,\"#9c179e\"],[0.4444444444444444,\"#bd3786\"],[0.5555555555555556,\"#d8576b\"],[0.6666666666666666,\"#ed7953\"],[0.7777777777777778,\"#fb9f3a\"],[0.8888888888888888,\"#fdca26\"],[1.0,\"#f0f921\"]],\"type\":\"heatmap\"}],\"histogram2dcontour\":[{\"colorbar\":{\"outlinewidth\":0,\"ticks\":\"\"},\"colorscale\":[[0.0,\"#0d0887\"],[0.1111111111111111,\"#46039f\"],[0.2222222222222222,\"#7201a8\"],[0.3333333333333333,\"#9c179e\"],[0.4444444444444444,\"#bd3786\"],[0.5555555555555556,\"#d8576b\"],[0.6666666666666666,\"#ed7953\"],[0.7777777777777778,\"#fb9f3a\"],[0.8888888888888888,\"#fdca26\"],[1.0,\"#f0f921\"]],\"type\":\"histogram2dcontour\"}],\"histogram2d\":[{\"colorbar\":{\"outlinewidth\":0,\"ticks\":\"\"},\"colorscale\":[[0.0,\"#0d0887\"],[0.1111111111111111,\"#46039f\"],[0.2222222222222222,\"#7201a8\"],[0.3333333333333333,\"#9c179e\"],[0.4444444444444444,\"#bd3786\"],[0.5555555555555556,\"#d8576b\"],[0.6666666666666666,\"#ed7953\"],[0.7777777777777778,\"#fb9f3a\"],[0.8888888888888888,\"#fdca26\"],[1.0,\"#f0f921\"]],\"type\":\"histogram2d\"}],\"histogram\":[{\"marker\":{\"pattern\":{\"fillmode\":\"overlay\",\"size\":10,\"solidity\":0.2}},\"type\":\"histogram\"}],\"mesh3d\":[{\"colorbar\":{\"outlinewidth\":0,\"ticks\":\"\"},\"type\":\"mesh3d\"}],\"parcoords\":[{\"line\":{\"colorbar\":{\"outlinewidth\":0,\"ticks\":\"\"}},\"type\":\"parcoords\"}],\"pie\":[{\"automargin\":true,\"type\":\"pie\"}],\"scatter3d\":[{\"line\":{\"colorbar\":{\"outlinewidth\":0,\"ticks\":\"\"}},\"marker\":{\"colorbar\":{\"outlinewidth\":0,\"ticks\":\"\"}},\"type\":\"scatter3d\"}],\"scattercarpet\":[{\"marker\":{\"colorbar\":{\"outlinewidth\":0,\"ticks\":\"\"}},\"type\":\"scattercarpet\"}],\"scattergeo\":[{\"marker\":{\"colorbar\":{\"outlinewidth\":0,\"ticks\":\"\"}},\"type\":\"scattergeo\"}],\"scattergl\":[{\"marker\":{\"colorbar\":{\"outlinewidth\":0,\"ticks\":\"\"}},\"type\":\"scattergl\"}],\"scattermapbox\":[{\"marker\":{\"colorbar\":{\"outlinewidth\":0,\"ticks\":\"\"}},\"type\":\"scattermapbox\"}],\"scatterpolargl\":[{\"marker\":{\"colorbar\":{\"outlinewidth\":0,\"ticks\":\"\"}},\"type\":\"scatterpolargl\"}],\"scatterpolar\":[{\"marker\":{\"colorbar\":{\"outlinewidth\":0,\"ticks\":\"\"}},\"type\":\"scatterpolar\"}],\"scatter\":[{\"fillpattern\":{\"fillmode\":\"overlay\",\"size\":10,\"solidity\":0.2},\"type\":\"scatter\"}],\"scatterternary\":[{\"marker\":{\"colorbar\":{\"outlinewidth\":0,\"ticks\":\"\"}},\"type\":\"scatterternary\"}],\"surface\":[{\"colorbar\":{\"outlinewidth\":0,\"ticks\":\"\"},\"colorscale\":[[0.0,\"#0d0887\"],[0.1111111111111111,\"#46039f\"],[0.2222222222222222,\"#7201a8\"],[0.3333333333333333,\"#9c179e\"],[0.4444444444444444,\"#bd3786\"],[0.5555555555555556,\"#d8576b\"],[0.6666666666666666,\"#ed7953\"],[0.7777777777777778,\"#fb9f3a\"],[0.8888888888888888,\"#fdca26\"],[1.0,\"#f0f921\"]],\"type\":\"surface\"}],\"table\":[{\"cells\":{\"fill\":{\"color\":\"#EBF0F8\"},\"line\":{\"color\":\"white\"}},\"header\":{\"fill\":{\"color\":\"#C8D4E3\"},\"line\":{\"color\":\"white\"}},\"type\":\"table\"}]},\"layout\":{\"annotationdefaults\":{\"arrowcolor\":\"#2a3f5f\",\"arrowhead\":0,\"arrowwidth\":1},\"autotypenumbers\":\"strict\",\"coloraxis\":{\"colorbar\":{\"outlinewidth\":0,\"ticks\":\"\"}},\"colorscale\":{\"diverging\":[[0,\"#8e0152\"],[0.1,\"#c51b7d\"],[0.2,\"#de77ae\"],[0.3,\"#f1b6da\"],[0.4,\"#fde0ef\"],[0.5,\"#f7f7f7\"],[0.6,\"#e6f5d0\"],[0.7,\"#b8e186\"],[0.8,\"#7fbc41\"],[0.9,\"#4d9221\"],[1,\"#276419\"]],\"sequential\":[[0.0,\"#0d0887\"],[0.1111111111111111,\"#46039f\"],[0.2222222222222222,\"#7201a8\"],[0.3333333333333333,\"#9c179e\"],[0.4444444444444444,\"#bd3786\"],[0.5555555555555556,\"#d8576b\"],[0.6666666666666666,\"#ed7953\"],[0.7777777777777778,\"#fb9f3a\"],[0.8888888888888888,\"#fdca26\"],[1.0,\"#f0f921\"]],\"sequentialminus\":[[0.0,\"#0d0887\"],[0.1111111111111111,\"#46039f\"],[0.2222222222222222,\"#7201a8\"],[0.3333333333333333,\"#9c179e\"],[0.4444444444444444,\"#bd3786\"],[0.5555555555555556,\"#d8576b\"],[0.6666666666666666,\"#ed7953\"],[0.7777777777777778,\"#fb9f3a\"],[0.8888888888888888,\"#fdca26\"],[1.0,\"#f0f921\"]]},\"colorway\":[\"#636efa\",\"#EF553B\",\"#00cc96\",\"#ab63fa\",\"#FFA15A\",\"#19d3f3\",\"#FF6692\",\"#B6E880\",\"#FF97FF\",\"#FECB52\"],\"font\":{\"color\":\"#2a3f5f\"},\"geo\":{\"bgcolor\":\"white\",\"lakecolor\":\"white\",\"landcolor\":\"#E5ECF6\",\"showlakes\":true,\"showland\":true,\"subunitcolor\":\"white\"},\"hoverlabel\":{\"align\":\"left\"},\"hovermode\":\"closest\",\"mapbox\":{\"style\":\"light\"},\"paper_bgcolor\":\"white\",\"plot_bgcolor\":\"#E5ECF6\",\"polar\":{\"angularaxis\":{\"gridcolor\":\"white\",\"linecolor\":\"white\",\"ticks\":\"\"},\"bgcolor\":\"#E5ECF6\",\"radialaxis\":{\"gridcolor\":\"white\",\"linecolor\":\"white\",\"ticks\":\"\"}},\"scene\":{\"xaxis\":{\"backgroundcolor\":\"#E5ECF6\",\"gridcolor\":\"white\",\"gridwidth\":2,\"linecolor\":\"white\",\"showbackground\":true,\"ticks\":\"\",\"zerolinecolor\":\"white\"},\"yaxis\":{\"backgroundcolor\":\"#E5ECF6\",\"gridcolor\":\"white\",\"gridwidth\":2,\"linecolor\":\"white\",\"showbackground\":true,\"ticks\":\"\",\"zerolinecolor\":\"white\"},\"zaxis\":{\"backgroundcolor\":\"#E5ECF6\",\"gridcolor\":\"white\",\"gridwidth\":2,\"linecolor\":\"white\",\"showbackground\":true,\"ticks\":\"\",\"zerolinecolor\":\"white\"}},\"shapedefaults\":{\"line\":{\"color\":\"#2a3f5f\"}},\"ternary\":{\"aaxis\":{\"gridcolor\":\"white\",\"linecolor\":\"white\",\"ticks\":\"\"},\"baxis\":{\"gridcolor\":\"white\",\"linecolor\":\"white\",\"ticks\":\"\"},\"bgcolor\":\"#E5ECF6\",\"caxis\":{\"gridcolor\":\"white\",\"linecolor\":\"white\",\"ticks\":\"\"}},\"title\":{\"x\":0.05},\"xaxis\":{\"automargin\":true,\"gridcolor\":\"white\",\"linecolor\":\"white\",\"ticks\":\"\",\"title\":{\"standoff\":15},\"zerolinecolor\":\"white\",\"zerolinewidth\":2},\"yaxis\":{\"automargin\":true,\"gridcolor\":\"white\",\"linecolor\":\"white\",\"ticks\":\"\",\"title\":{\"standoff\":15},\"zerolinecolor\":\"white\",\"zerolinewidth\":2}}},\"title\":{\"text\":\"Cutter T occupancy: 100.0\"},\"xaxis\":{\"range\":[\"1970-01-01T00:00:00\",\"1970-01-01T16:32:58\"],\"title\":{\"font\":{\"color\":\"#7f7f7f\",\"family\":\"Courier New, monospace\",\"size\":18},\"text\":\"Time\"}},\"yaxis\":{\"title\":{\"font\":{\"color\":\"#7f7f7f\",\"family\":\"Courier New, monospace\",\"size\":18},\"text\":\"vesels\"}}},                        {\"responsive\": true}                    ).then(function(){\n",
       "                            \n",
       "var gd = document.getElementById('abf689a2-1aed-4a36-8048-b9fcfb731b9e');\n",
       "var x = new MutationObserver(function (mutations, observer) {{\n",
       "        var display = window.getComputedStyle(gd).display;\n",
       "        if (!display || display === 'none') {{\n",
       "            console.log([gd, 'removed!']);\n",
       "            Plotly.purge(gd);\n",
       "            observer.disconnect();\n",
       "        }}\n",
       "}});\n",
       "\n",
       "// Listen for the removal of the full notebook cells\n",
       "var notebookContainer = gd.closest('#notebook-container');\n",
       "if (notebookContainer) {{\n",
       "    x.observe(notebookContainer, {childList: true});\n",
       "}}\n",
       "\n",
       "// Listen for the clearing of the current output cell\n",
       "var outputEl = gd.closest('.output');\n",
       "if (outputEl) {{\n",
       "    x.observe(outputEl, {childList: true});\n",
       "}}\n",
       "\n",
       "                        })                };                });            </script>        </div>"
      ]
     },
     "metadata": {},
     "output_type": "display_data"
    }
   ],
   "source": [
    "i = 5 # many barges: close to 100% cutter config, small cost, fast delivery\n",
    "vessels = results[i]['vessels']\n",
    "activities = results[i]['activities']\n",
    "sites = results[i]['sites']\n",
    "\n",
    "cutter = vessels[cutter_name]\n",
    "  \n",
    "my_objects = list(vessels.values()) + list(sites.values())\n",
    "my_activities = list(activities.values())\n",
    "my_log = CpLog(list_objects=my_objects, list_activities=my_activities)\n",
    "dependencies = my_log.get_dependencies_model_based()\n",
    "# dependencies = my_log.get_dependencies_log_based()\n",
    "cp = my_log.mark_critical_activities(dependencies)\n",
    "df = occupancy_analysis(vessels, cutter, activities,vessel_cost)\n",
    "\n",
    "t = f'{cutter_name} occupancy: ' + str(df.loc[cutter_name]['occupancy [%]'])\n",
    "fig = get_gantt_chart(concepts=my_objects, critical_path=cp, id_map=activities, title=t, legend=False, ylabel='vesels')"
   ]
  },
  {
   "cell_type": "code",
   "execution_count": null,
   "id": "06f6baa0",
   "metadata": {},
   "outputs": [],
   "source": []
  }
 ],
 "metadata": {
  "kernelspec": {
   "display_name": "Python 3 (ipykernel)",
   "language": "python",
   "name": "python3"
  },
  "language_info": {
   "codemirror_mode": {
    "name": "ipython",
    "version": 3
   },
   "file_extension": ".py",
   "mimetype": "text/x-python",
   "name": "python",
   "nbconvert_exporter": "python",
   "pygments_lexer": "ipython3",
   "version": "3.9.16"
  }
 },
 "nbformat": 4,
 "nbformat_minor": 5
}
