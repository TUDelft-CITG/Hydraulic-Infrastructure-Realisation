{
 "cells": [
  {
   "cell_type": "markdown",
   "id": "384a3d39",
   "metadata": {},
   "source": [
    "## feeder concept: cutter + barges\n",
    "\n",
    "This notebook shows how to implement a basic feeder concept for a cutter suction dredge working with multiple barges."
   ]
  },
  {
   "cell_type": "code",
   "execution_count": 2,
   "id": "b6580ad4",
   "metadata": {},
   "outputs": [],
   "source": [
    "import datetime, time\n",
    "import simpy\n",
    "\n",
    "import shapely.geometry\n",
    "import pandas as pd\n",
    "\n",
    "import openclsim.core as core\n",
    "import openclsim.model as model\n",
    "from openclsim.utils import flatten, export_concepts, export_activities\n",
    "from openclsim.plot import get_step_chart, get_gantt_chart, get_log_dataframe, get_ranges_dataframe\n",
    "import numpy as np"
   ]
  },
  {
   "cell_type": "code",
   "execution_count": 3,
   "id": "5d93d662",
   "metadata": {},
   "outputs": [],
   "source": [
    "cutter_name    = 'Cutter T'\n",
    "barge_names    = ['Carrier A','Carrier B','Carrier C',\n",
    "                  'Barge I','Barge II','Barge III',\n",
    "                  'Extra 1', 'Extra 2', 'Extra 3']\n",
    "vessel_cost     = {'Carrier A':6000,'Carrier B':6000,'Carrier C':6000,\n",
    "                  'Barge I':5000,'Barge II':5000,'Barge III':5000,\n",
    "                  'Extra 1':4000, 'Extra 2':4000, 'Extra 3':4000,\n",
    "                  'Cutter T':25000} # EUR/day\n",
    "# vessel_amount and vessel_durations are random within a range,\n",
    "# to mimic respectively material density variations\n",
    "# and metocean workability conditions and traffic density.\n",
    "\n",
    "amount_range = [4,6]\n",
    "duration_range = [2000,3000]\n",
    "\n",
    "from_site_name = 'Trench'\n",
    "to_site_name   = 'Reclamation'"
   ]
  },
  {
   "cell_type": "code",
   "execution_count": 4,
   "id": "102a1c18",
   "metadata": {},
   "outputs": [],
   "source": [
    "Site = type(\n",
    "    \"Site\",\n",
    "    (\n",
    "        core.Identifiable,\n",
    "        core.Log,\n",
    "        core.Locatable,\n",
    "        core.HasContainer,\n",
    "        core.HasResource,\n",
    "    ),\n",
    "    {},\n",
    ")\n",
    "TransportProcessingResource = type(\n",
    "    \"TransportProcessingResource\",\n",
    "    (\n",
    "        core.Identifiable,\n",
    "        core.Log,\n",
    "        core.ContainerDependentMovable,\n",
    "        core.Processor,\n",
    "        core.HasResource,\n",
    "    ),\n",
    "    {},\n",
    ")"
   ]
  },
  {
   "cell_type": "code",
   "execution_count": 5,
   "id": "cef14598",
   "metadata": {},
   "outputs": [],
   "source": [
    "def run(NR_BARGES, total_amount, simulation_start=0):\n",
    "    my_env = simpy.Environment(initial_time=simulation_start)\n",
    "    registry = {}\n",
    "\n",
    "    location_from_site = shapely.geometry.Point(4.18055556, 52.18664444)\n",
    "    location_to_site = shapely.geometry.Point(4.25222222, 52.11428333)\n",
    "    \n",
    "    sites = {}\n",
    "\n",
    "    data_from_site = {\"env\": my_env,\n",
    "                      \"name\": from_site_name,\n",
    "                      \"geometry\": location_from_site,\n",
    "                      \"capacity\": total_amount,\n",
    "                      \"level\": total_amount,\n",
    "                      \"nr_resources\":1\n",
    "                     }\n",
    "    from_site =  Site(**data_from_site)\n",
    "    sites[from_site_name] = from_site\n",
    "\n",
    "\n",
    "    location_to_site = shapely.geometry.Point(4.25222222, 52.11428333)\n",
    "    data_to_site = {\"env\": my_env,\n",
    "                    \"name\": to_site_name,\n",
    "                    \"geometry\": location_to_site,\n",
    "                    \"capacity\": total_amount,\n",
    "                    \"level\": 0,\n",
    "                    \"nr_resources\":4\n",
    "                   }\n",
    "    to_site = Site(**data_to_site)\n",
    "    sites[to_site_name] = to_site\n",
    "\n",
    "    vessels = {}\n",
    "\n",
    "    for i in range(NR_BARGES):\n",
    "        vessel_name = barge_names[i]\n",
    "        vessels[vessel_name] = TransportProcessingResource(\n",
    "            env=my_env,\n",
    "            name=vessel_name,\n",
    "            geometry=location_from_site, \n",
    "            capacity=10,\n",
    "            compute_v=lambda x: 10\n",
    "        )\n",
    "    cutter = TransportProcessingResource(\n",
    "        env=my_env,\n",
    "        name=cutter_name,\n",
    "        geometry=location_from_site, \n",
    "        capacity=10,\n",
    "        compute_v=lambda x: 10\n",
    "    )\n",
    "    vessels[cutter_name] = cutter\n",
    "    \n",
    "\n",
    "    activities = {}\n",
    "    for i in range(NR_BARGES):\n",
    "        vessel_name = barge_names[i]\n",
    "        amount = np.random.randint(amount_range[0], amount_range[1]) # handle loading\n",
    "        duration=np.random.randint(duration_range[0], duration_range[1]) # sailing and unloading\n",
    "\n",
    "        requested_resources={}\n",
    "        activities[f\"activity{i}\"] = model.WhileActivity(\n",
    "            env=my_env,\n",
    "            name=f\"while_sequential_activity_subcycle {vessel_name}\",\n",
    "            registry=registry,\n",
    "            sub_processes=[model.SequentialActivity(\n",
    "                env=my_env,\n",
    "                name=f\"sequential_activity_subcycle {vessel_name}\",\n",
    "                registry=registry,\n",
    "                sub_processes=[\n",
    "# cannot be linked to a vessel as it is neither mover, processor, origin or destination\n",
    "#                     model.BasicActivity(\n",
    "#                         env=my_env,\n",
    "#                         name=f\"basic activity:\"+vessels[vessel_name].name,\n",
    "#                         registry=registry,\n",
    "#                         duration=duration,\n",
    "#                         additional_logs=[vessels[vessel_name]],\n",
    "#                     ),\n",
    "                    model.MoveActivity(\n",
    "                        env=my_env,\n",
    "                        name=f\"sailing empty:\"+vessels[vessel_name].name,\n",
    "                        registry=registry,\n",
    "                        mover=vessels[vessel_name],\n",
    "                        destination=from_site,\n",
    "                        duration=duration,\n",
    "                    ),\n",
    "                    model.ShiftAmountActivity(\n",
    "                        env=my_env,\n",
    "                        name=f\"loading:\"+vessels[vessel_name].name,\n",
    "                        registry=registry,\n",
    "                        processor=cutter,\n",
    "                        origin=from_site,\n",
    "                        destination=vessels[vessel_name],\n",
    "                        amount=amount,\n",
    "                        duration=500*amount,\n",
    "                        requested_resources=requested_resources,\n",
    "                    ),\n",
    "                    model.MoveActivity(\n",
    "                        env=my_env,\n",
    "                        name=f\"sailing full:\"+vessels[vessel_name].name,\n",
    "                        registry=registry,\n",
    "                        mover=vessels[vessel_name],\n",
    "                        destination=to_site,\n",
    "                        duration=duration,\n",
    "                    ),\n",
    "                    model.ShiftAmountActivity(\n",
    "                        env=my_env,\n",
    "                        name=f\"unloading:\"+vessels[vessel_name].name,\n",
    "                        registry=registry,\n",
    "                        processor=vessels[vessel_name],\n",
    "                        origin=vessels[vessel_name],\n",
    "                        destination=to_site,\n",
    "                        amount=amount,\n",
    "                        duration=duration,\n",
    "                        requested_resources=requested_resources,\n",
    "                    ),\n",
    "                ],\n",
    "            )],\n",
    "            condition_event=[\n",
    "                {\n",
    "                    \"type\": \"container\", \n",
    "                    \"concept\": to_site, \n",
    "                    \"state\": \"full\",\n",
    "                    \"id_\":\"default_reservations\"\n",
    "                }\n",
    "            ],\n",
    "        )\n",
    "\n",
    "    model.register_processes(list(activities.values()))\n",
    "    my_env.run()\n",
    "    \n",
    "    return {\n",
    "        \"vessels\": vessels,\n",
    "        \"activities\":activities,\n",
    "        \"sites\":sites\n",
    "    }\n"
   ]
  },
  {
   "cell_type": "markdown",
   "id": "a81e634c",
   "metadata": {},
   "source": [
    "# Example plots with 3 barges"
   ]
  },
  {
   "cell_type": "code",
   "execution_count": 6,
   "id": "9aa8b351",
   "metadata": {},
   "outputs": [
    {
     "name": "stdout",
     "output_type": "stream",
     "text": [
      "CPU times: user 44.9 ms, sys: 12.1 ms, total: 57 ms\n",
      "Wall time: 50.8 ms\n"
     ]
    }
   ],
   "source": [
    "%%time\n",
    "nbarges = len(barge_names)\n",
    "assert len(set(barge_names))==len(barge_names), 'barge_names need to be unique'\n",
    "total_amount = 100\n",
    "simulation_start = 0\n",
    "res = run(3,total_amount, simulation_start)\n",
    "\n",
    "vessels = res['vessels']\n",
    "sites = res['sites']\n",
    "activities = res['activities']\n",
    "\n",
    "cutter = vessels[cutter_name]\n",
    "to_site = sites[to_site_name]\n",
    "from_site = sites[from_site_name]"
   ]
  },
  {
   "cell_type": "code",
   "execution_count": 7,
   "id": "8f993fc6",
   "metadata": {},
   "outputs": [
    {
     "data": {
      "text/html": [
       "        <script type=\"text/javascript\">\n",
       "        window.PlotlyConfig = {MathJaxConfig: 'local'};\n",
       "        if (window.MathJax && window.MathJax.Hub && window.MathJax.Hub.Config) {window.MathJax.Hub.Config({SVG: {font: \"STIX-Web\"}});}\n",
       "        if (typeof require !== 'undefined') {\n",
       "        require.undef(\"plotly\");\n",
       "        requirejs.config({\n",
       "            paths: {\n",
       "                'plotly': ['https://cdn.plot.ly/plotly-2.18.2.min']\n",
       "            }\n",
       "        });\n",
       "        require(['plotly'], function(Plotly) {\n",
       "            window._Plotly = Plotly;\n",
       "        });\n",
       "        }\n",
       "        </script>\n",
       "        "
      ]
     },
     "metadata": {},
     "output_type": "display_data"
    },
    {
     "data": {
      "application/vnd.plotly.v1+json": {
       "config": {
        "linkText": "Export to plot.ly",
        "plotlyServerURL": "https://plot.ly",
        "showLink": false
       },
       "data": [
        {
         "connectgaps": false,
         "hoverinfo": "y+name",
         "line": {
          "color": "rgb(173,234,99)",
          "width": 10
         },
         "mode": "lines",
         "name": "sailing full:Carrier A",
         "type": "scatter",
         "x": [
          "1970-01-01T02:24:31",
          "1970-01-01T02:24:31",
          "1970-01-01T03:13:05",
          "1970-01-01T03:13:05",
          "1970-01-01T03:13:05",
          "1970-01-01T05:23:33",
          "1970-01-01T05:23:33",
          "1970-01-01T06:12:07",
          "1970-01-01T06:12:07",
          "1970-01-01T06:12:07",
          "1970-01-01T08:52:06",
          "1970-01-01T08:52:06",
          "1970-01-01T09:40:40",
          "1970-01-01T09:40:40",
          "1970-01-01T09:40:40",
          "1970-01-01T11:51:08",
          "1970-01-01T11:51:08",
          "1970-01-01T12:39:42",
          "1970-01-01T12:39:42",
          "1970-01-01T12:39:42",
          "1970-01-01T14:50:10",
          "1970-01-01T14:50:10",
          "1970-01-01T15:38:44",
          "1970-01-01T15:38:44",
          "1970-01-01T15:38:44",
          "1970-01-01T17:49:12",
          "1970-01-01T17:49:12",
          "1970-01-01T18:37:46",
          "1970-01-01T18:37:46",
          "1970-01-01T18:37:46",
          "1970-01-01T20:48:14",
          "1970-01-01T20:48:14",
          "1970-01-01T21:36:48",
          "1970-01-01T21:36:48",
          "1970-01-01T21:36:48"
         ],
         "y": [
          "Carrier A",
          "Carrier A",
          "Carrier A",
          "Carrier A",
          null,
          "Carrier A",
          "Carrier A",
          "Carrier A",
          "Carrier A",
          null,
          "Carrier A",
          "Carrier A",
          "Carrier A",
          "Carrier A",
          null,
          "Carrier A",
          "Carrier A",
          "Carrier A",
          "Carrier A",
          null,
          "Carrier A",
          "Carrier A",
          "Carrier A",
          "Carrier A",
          null,
          "Carrier A",
          "Carrier A",
          "Carrier A",
          "Carrier A",
          null,
          "Carrier A",
          "Carrier A",
          "Carrier A",
          "Carrier A",
          null
         ]
        },
        {
         "connectgaps": false,
         "hoverinfo": "y+name",
         "line": {
          "color": "rgb(190,251,116)",
          "width": 10
         },
         "mode": "lines",
         "name": "loading:Carrier A",
         "type": "scatter",
         "x": [
          "1970-01-01T01:51:11",
          "1970-01-01T01:51:11",
          "1970-01-01T02:24:31",
          "1970-01-01T02:24:31",
          "1970-01-01T02:24:31",
          "1970-01-01T04:50:13",
          "1970-01-01T04:50:13",
          "1970-01-01T05:23:33",
          "1970-01-01T05:23:33",
          "1970-01-01T05:23:33",
          "1970-01-01T08:18:46",
          "1970-01-01T08:18:46",
          "1970-01-01T08:52:06",
          "1970-01-01T08:52:06",
          "1970-01-01T08:52:06",
          "1970-01-01T11:17:48",
          "1970-01-01T11:17:48",
          "1970-01-01T11:51:08",
          "1970-01-01T11:51:08",
          "1970-01-01T11:51:08",
          "1970-01-01T14:16:50",
          "1970-01-01T14:16:50",
          "1970-01-01T14:50:10",
          "1970-01-01T14:50:10",
          "1970-01-01T14:50:10",
          "1970-01-01T17:15:52",
          "1970-01-01T17:15:52",
          "1970-01-01T17:49:12",
          "1970-01-01T17:49:12",
          "1970-01-01T17:49:12",
          "1970-01-01T20:14:54",
          "1970-01-01T20:14:54",
          "1970-01-01T20:48:14",
          "1970-01-01T20:48:14",
          "1970-01-01T20:48:14",
          "1970-01-01T01:51:11",
          "1970-01-01T01:51:11",
          "1970-01-01T02:24:31",
          "1970-01-01T02:24:31",
          "1970-01-01T02:24:31",
          "1970-01-01T04:50:13",
          "1970-01-01T04:50:13",
          "1970-01-01T05:23:33",
          "1970-01-01T05:23:33",
          "1970-01-01T05:23:33",
          "1970-01-01T08:18:46",
          "1970-01-01T08:18:46",
          "1970-01-01T08:52:06",
          "1970-01-01T08:52:06",
          "1970-01-01T08:52:06",
          "1970-01-01T11:17:48",
          "1970-01-01T11:17:48",
          "1970-01-01T11:51:08",
          "1970-01-01T11:51:08",
          "1970-01-01T11:51:08",
          "1970-01-01T14:16:50",
          "1970-01-01T14:16:50",
          "1970-01-01T14:50:10",
          "1970-01-01T14:50:10",
          "1970-01-01T14:50:10",
          "1970-01-01T17:15:52",
          "1970-01-01T17:15:52",
          "1970-01-01T17:49:12",
          "1970-01-01T17:49:12",
          "1970-01-01T17:49:12",
          "1970-01-01T20:14:54",
          "1970-01-01T20:14:54",
          "1970-01-01T20:48:14",
          "1970-01-01T20:48:14",
          "1970-01-01T20:48:14"
         ],
         "y": [
          "Carrier A",
          "Carrier A",
          "Carrier A",
          "Carrier A",
          null,
          "Carrier A",
          "Carrier A",
          "Carrier A",
          "Carrier A",
          null,
          "Carrier A",
          "Carrier A",
          "Carrier A",
          "Carrier A",
          null,
          "Carrier A",
          "Carrier A",
          "Carrier A",
          "Carrier A",
          null,
          "Carrier A",
          "Carrier A",
          "Carrier A",
          "Carrier A",
          null,
          "Carrier A",
          "Carrier A",
          "Carrier A",
          "Carrier A",
          null,
          "Carrier A",
          "Carrier A",
          "Carrier A",
          "Carrier A",
          null,
          "Cutter T",
          "Cutter T",
          "Cutter T",
          "Cutter T",
          null,
          "Cutter T",
          "Cutter T",
          "Cutter T",
          "Cutter T",
          null,
          "Cutter T",
          "Cutter T",
          "Cutter T",
          "Cutter T",
          null,
          "Cutter T",
          "Cutter T",
          "Cutter T",
          "Cutter T",
          null,
          "Cutter T",
          "Cutter T",
          "Cutter T",
          "Cutter T",
          null,
          "Cutter T",
          "Cutter T",
          "Cutter T",
          "Cutter T",
          null,
          "Cutter T",
          "Cutter T",
          "Cutter T",
          "Cutter T",
          null
         ]
        },
        {
         "connectgaps": false,
         "hoverinfo": "y+name",
         "line": {
          "color": "rgb(207,12,133)",
          "width": 10
         },
         "mode": "lines",
         "name": "unloading:Carrier A",
         "type": "scatter",
         "x": [
          "1970-01-01T03:13:05",
          "1970-01-01T03:13:05",
          "1970-01-01T04:01:39",
          "1970-01-01T04:01:39",
          "1970-01-01T04:01:39",
          "1970-01-01T06:12:07",
          "1970-01-01T06:12:07",
          "1970-01-01T07:00:41",
          "1970-01-01T07:00:41",
          "1970-01-01T07:00:41",
          "1970-01-01T09:40:40",
          "1970-01-01T09:40:40",
          "1970-01-01T10:29:14",
          "1970-01-01T10:29:14",
          "1970-01-01T10:29:14",
          "1970-01-01T12:39:42",
          "1970-01-01T12:39:42",
          "1970-01-01T13:28:16",
          "1970-01-01T13:28:16",
          "1970-01-01T13:28:16",
          "1970-01-01T15:38:44",
          "1970-01-01T15:38:44",
          "1970-01-01T16:27:18",
          "1970-01-01T16:27:18",
          "1970-01-01T16:27:18",
          "1970-01-01T18:37:46",
          "1970-01-01T18:37:46",
          "1970-01-01T19:26:20",
          "1970-01-01T19:26:20",
          "1970-01-01T19:26:20",
          "1970-01-01T21:36:48",
          "1970-01-01T21:36:48",
          "1970-01-01T22:25:22",
          "1970-01-01T22:25:22",
          "1970-01-01T22:25:22"
         ],
         "y": [
          "Carrier A",
          "Carrier A",
          "Carrier A",
          "Carrier A",
          null,
          "Carrier A",
          "Carrier A",
          "Carrier A",
          "Carrier A",
          null,
          "Carrier A",
          "Carrier A",
          "Carrier A",
          "Carrier A",
          null,
          "Carrier A",
          "Carrier A",
          "Carrier A",
          "Carrier A",
          null,
          "Carrier A",
          "Carrier A",
          "Carrier A",
          "Carrier A",
          null,
          "Carrier A",
          "Carrier A",
          "Carrier A",
          "Carrier A",
          null,
          "Carrier A",
          "Carrier A",
          "Carrier A",
          "Carrier A",
          null
         ]
        },
        {
         "connectgaps": false,
         "hoverinfo": "y+name",
         "line": {
          "color": "rgb(224,29,150)",
          "width": 10
         },
         "mode": "lines",
         "name": "sailing empty:Carrier A",
         "type": "scatter",
         "x": [
          "1970-01-01T00:00:00",
          "1970-01-01T00:00:00",
          "1970-01-01T00:48:34",
          "1970-01-01T00:48:34",
          "1970-01-01T00:48:34",
          "1970-01-01T04:01:39",
          "1970-01-01T04:01:39",
          "1970-01-01T04:50:13",
          "1970-01-01T04:50:13",
          "1970-01-01T04:50:13",
          "1970-01-01T07:00:41",
          "1970-01-01T07:00:41",
          "1970-01-01T07:49:15",
          "1970-01-01T07:49:15",
          "1970-01-01T07:49:15",
          "1970-01-01T10:29:14",
          "1970-01-01T10:29:14",
          "1970-01-01T11:17:48",
          "1970-01-01T11:17:48",
          "1970-01-01T11:17:48",
          "1970-01-01T13:28:16",
          "1970-01-01T13:28:16",
          "1970-01-01T14:16:50",
          "1970-01-01T14:16:50",
          "1970-01-01T14:16:50",
          "1970-01-01T16:27:18",
          "1970-01-01T16:27:18",
          "1970-01-01T17:15:52",
          "1970-01-01T17:15:52",
          "1970-01-01T17:15:52",
          "1970-01-01T19:26:20",
          "1970-01-01T19:26:20",
          "1970-01-01T20:14:54",
          "1970-01-01T20:14:54",
          "1970-01-01T20:14:54"
         ],
         "y": [
          "Carrier A",
          "Carrier A",
          "Carrier A",
          "Carrier A",
          null,
          "Carrier A",
          "Carrier A",
          "Carrier A",
          "Carrier A",
          null,
          "Carrier A",
          "Carrier A",
          "Carrier A",
          "Carrier A",
          null,
          "Carrier A",
          "Carrier A",
          "Carrier A",
          "Carrier A",
          null,
          "Carrier A",
          "Carrier A",
          "Carrier A",
          "Carrier A",
          null,
          "Carrier A",
          "Carrier A",
          "Carrier A",
          "Carrier A",
          null,
          "Carrier A",
          "Carrier A",
          "Carrier A",
          "Carrier A",
          null
         ]
        },
        {
         "connectgaps": false,
         "hoverinfo": "y+name",
         "line": {
          "color": "rgb(241,46,167)",
          "width": 10
         },
         "mode": "lines",
         "name": "loading:Carrier B",
         "type": "scatter",
         "x": [
          "1970-01-01T01:09:31",
          "1970-01-01T01:09:31",
          "1970-01-01T01:51:11",
          "1970-01-01T01:51:11",
          "1970-01-01T01:51:11",
          "1970-01-01T03:41:08",
          "1970-01-01T03:41:08",
          "1970-01-01T04:22:48",
          "1970-01-01T04:22:48",
          "1970-01-01T04:22:48",
          "1970-01-01T06:12:45",
          "1970-01-01T06:12:45",
          "1970-01-01T06:54:25",
          "1970-01-01T06:54:25",
          "1970-01-01T06:54:25",
          "1970-01-01T08:52:06",
          "1970-01-01T08:52:06",
          "1970-01-01T09:33:46",
          "1970-01-01T09:33:46",
          "1970-01-01T09:33:46",
          "1970-01-01T11:51:08",
          "1970-01-01T11:51:08",
          "1970-01-01T12:32:48",
          "1970-01-01T12:32:48",
          "1970-01-01T12:32:48",
          "1970-01-01T14:50:10",
          "1970-01-01T14:50:10",
          "1970-01-01T15:31:50",
          "1970-01-01T15:31:50",
          "1970-01-01T15:31:50",
          "1970-01-01T17:49:12",
          "1970-01-01T17:49:12",
          "1970-01-01T18:30:52",
          "1970-01-01T18:30:52",
          "1970-01-01T18:30:52",
          "1970-01-01T20:48:14",
          "1970-01-01T20:48:14",
          "1970-01-01T21:29:54",
          "1970-01-01T21:29:54",
          "1970-01-01T21:29:54",
          "1970-01-01T01:09:31",
          "1970-01-01T01:09:31",
          "1970-01-01T01:51:11",
          "1970-01-01T01:51:11",
          "1970-01-01T01:51:11",
          "1970-01-01T03:41:08",
          "1970-01-01T03:41:08",
          "1970-01-01T04:22:48",
          "1970-01-01T04:22:48",
          "1970-01-01T04:22:48",
          "1970-01-01T06:12:45",
          "1970-01-01T06:12:45",
          "1970-01-01T06:54:25",
          "1970-01-01T06:54:25",
          "1970-01-01T06:54:25",
          "1970-01-01T08:52:06",
          "1970-01-01T08:52:06",
          "1970-01-01T09:33:46",
          "1970-01-01T09:33:46",
          "1970-01-01T09:33:46",
          "1970-01-01T11:51:08",
          "1970-01-01T11:51:08",
          "1970-01-01T12:32:48",
          "1970-01-01T12:32:48",
          "1970-01-01T12:32:48",
          "1970-01-01T14:50:10",
          "1970-01-01T14:50:10",
          "1970-01-01T15:31:50",
          "1970-01-01T15:31:50",
          "1970-01-01T15:31:50",
          "1970-01-01T17:49:12",
          "1970-01-01T17:49:12",
          "1970-01-01T18:30:52",
          "1970-01-01T18:30:52",
          "1970-01-01T18:30:52",
          "1970-01-01T20:48:14",
          "1970-01-01T20:48:14",
          "1970-01-01T21:29:54",
          "1970-01-01T21:29:54",
          "1970-01-01T21:29:54"
         ],
         "y": [
          "Carrier B",
          "Carrier B",
          "Carrier B",
          "Carrier B",
          null,
          "Carrier B",
          "Carrier B",
          "Carrier B",
          "Carrier B",
          null,
          "Carrier B",
          "Carrier B",
          "Carrier B",
          "Carrier B",
          null,
          "Carrier B",
          "Carrier B",
          "Carrier B",
          "Carrier B",
          null,
          "Carrier B",
          "Carrier B",
          "Carrier B",
          "Carrier B",
          null,
          "Carrier B",
          "Carrier B",
          "Carrier B",
          "Carrier B",
          null,
          "Carrier B",
          "Carrier B",
          "Carrier B",
          "Carrier B",
          null,
          "Carrier B",
          "Carrier B",
          "Carrier B",
          "Carrier B",
          null,
          "Cutter T",
          "Cutter T",
          "Cutter T",
          "Cutter T",
          null,
          "Cutter T",
          "Cutter T",
          "Cutter T",
          "Cutter T",
          null,
          "Cutter T",
          "Cutter T",
          "Cutter T",
          "Cutter T",
          null,
          "Cutter T",
          "Cutter T",
          "Cutter T",
          "Cutter T",
          null,
          "Cutter T",
          "Cutter T",
          "Cutter T",
          "Cutter T",
          null,
          "Cutter T",
          "Cutter T",
          "Cutter T",
          "Cutter T",
          null,
          "Cutter T",
          "Cutter T",
          "Cutter T",
          "Cutter T",
          null,
          "Cutter T",
          "Cutter T",
          "Cutter T",
          "Cutter T",
          null
         ]
        },
        {
         "connectgaps": false,
         "hoverinfo": "y+name",
         "line": {
          "color": "rgb(2,63,184)",
          "width": 10
         },
         "mode": "lines",
         "name": "sailing empty:Carrier B",
         "type": "scatter",
         "x": [
          "1970-01-01T00:00:00",
          "1970-01-01T00:00:00",
          "1970-01-01T00:36:39",
          "1970-01-01T00:36:39",
          "1970-01-01T00:36:39",
          "1970-01-01T03:04:29",
          "1970-01-01T03:04:29",
          "1970-01-01T03:41:08",
          "1970-01-01T03:41:08",
          "1970-01-01T03:41:08",
          "1970-01-01T05:36:06",
          "1970-01-01T05:36:06",
          "1970-01-01T06:12:45",
          "1970-01-01T06:12:45",
          "1970-01-01T06:12:45",
          "1970-01-01T08:07:43",
          "1970-01-01T08:07:43",
          "1970-01-01T08:44:22",
          "1970-01-01T08:44:22",
          "1970-01-01T08:44:22",
          "1970-01-01T10:47:04",
          "1970-01-01T10:47:04",
          "1970-01-01T11:23:43",
          "1970-01-01T11:23:43",
          "1970-01-01T11:23:43",
          "1970-01-01T13:46:06",
          "1970-01-01T13:46:06",
          "1970-01-01T14:22:45",
          "1970-01-01T14:22:45",
          "1970-01-01T14:22:45",
          "1970-01-01T16:45:08",
          "1970-01-01T16:45:08",
          "1970-01-01T17:21:47",
          "1970-01-01T17:21:47",
          "1970-01-01T17:21:47",
          "1970-01-01T19:44:10",
          "1970-01-01T19:44:10",
          "1970-01-01T20:20:49",
          "1970-01-01T20:20:49",
          "1970-01-01T20:20:49"
         ],
         "y": [
          "Carrier B",
          "Carrier B",
          "Carrier B",
          "Carrier B",
          null,
          "Carrier B",
          "Carrier B",
          "Carrier B",
          "Carrier B",
          null,
          "Carrier B",
          "Carrier B",
          "Carrier B",
          "Carrier B",
          null,
          "Carrier B",
          "Carrier B",
          "Carrier B",
          "Carrier B",
          null,
          "Carrier B",
          "Carrier B",
          "Carrier B",
          "Carrier B",
          null,
          "Carrier B",
          "Carrier B",
          "Carrier B",
          "Carrier B",
          null,
          "Carrier B",
          "Carrier B",
          "Carrier B",
          "Carrier B",
          null,
          "Carrier B",
          "Carrier B",
          "Carrier B",
          "Carrier B",
          null
         ]
        },
        {
         "connectgaps": false,
         "hoverinfo": "y+name",
         "line": {
          "color": "rgb(19,80,201)",
          "width": 10
         },
         "mode": "lines",
         "name": "sailing full:Carrier B",
         "type": "scatter",
         "x": [
          "1970-01-01T01:51:11",
          "1970-01-01T01:51:11",
          "1970-01-01T02:27:50",
          "1970-01-01T02:27:50",
          "1970-01-01T02:27:50",
          "1970-01-01T04:22:48",
          "1970-01-01T04:22:48",
          "1970-01-01T04:59:27",
          "1970-01-01T04:59:27",
          "1970-01-01T04:59:27",
          "1970-01-01T06:54:25",
          "1970-01-01T06:54:25",
          "1970-01-01T07:31:04",
          "1970-01-01T07:31:04",
          "1970-01-01T07:31:04",
          "1970-01-01T09:33:46",
          "1970-01-01T09:33:46",
          "1970-01-01T10:10:25",
          "1970-01-01T10:10:25",
          "1970-01-01T10:10:25",
          "1970-01-01T12:32:48",
          "1970-01-01T12:32:48",
          "1970-01-01T13:09:27",
          "1970-01-01T13:09:27",
          "1970-01-01T13:09:27",
          "1970-01-01T15:31:50",
          "1970-01-01T15:31:50",
          "1970-01-01T16:08:29",
          "1970-01-01T16:08:29",
          "1970-01-01T16:08:29",
          "1970-01-01T18:30:52",
          "1970-01-01T18:30:52",
          "1970-01-01T19:07:31",
          "1970-01-01T19:07:31",
          "1970-01-01T19:07:31",
          "1970-01-01T21:29:54",
          "1970-01-01T21:29:54",
          "1970-01-01T22:06:33",
          "1970-01-01T22:06:33",
          "1970-01-01T22:06:33"
         ],
         "y": [
          "Carrier B",
          "Carrier B",
          "Carrier B",
          "Carrier B",
          null,
          "Carrier B",
          "Carrier B",
          "Carrier B",
          "Carrier B",
          null,
          "Carrier B",
          "Carrier B",
          "Carrier B",
          "Carrier B",
          null,
          "Carrier B",
          "Carrier B",
          "Carrier B",
          "Carrier B",
          null,
          "Carrier B",
          "Carrier B",
          "Carrier B",
          "Carrier B",
          null,
          "Carrier B",
          "Carrier B",
          "Carrier B",
          "Carrier B",
          null,
          "Carrier B",
          "Carrier B",
          "Carrier B",
          "Carrier B",
          null,
          "Carrier B",
          "Carrier B",
          "Carrier B",
          "Carrier B",
          null
         ]
        },
        {
         "connectgaps": false,
         "hoverinfo": "y+name",
         "line": {
          "color": "rgb(36,97,218)",
          "width": 10
         },
         "mode": "lines",
         "name": "unloading:Carrier B",
         "type": "scatter",
         "x": [
          "1970-01-01T02:27:50",
          "1970-01-01T02:27:50",
          "1970-01-01T03:04:29",
          "1970-01-01T03:04:29",
          "1970-01-01T03:04:29",
          "1970-01-01T04:59:27",
          "1970-01-01T04:59:27",
          "1970-01-01T05:36:06",
          "1970-01-01T05:36:06",
          "1970-01-01T05:36:06",
          "1970-01-01T07:31:04",
          "1970-01-01T07:31:04",
          "1970-01-01T08:07:43",
          "1970-01-01T08:07:43",
          "1970-01-01T08:07:43",
          "1970-01-01T10:10:25",
          "1970-01-01T10:10:25",
          "1970-01-01T10:47:04",
          "1970-01-01T10:47:04",
          "1970-01-01T10:47:04",
          "1970-01-01T13:09:27",
          "1970-01-01T13:09:27",
          "1970-01-01T13:46:06",
          "1970-01-01T13:46:06",
          "1970-01-01T13:46:06",
          "1970-01-01T16:08:29",
          "1970-01-01T16:08:29",
          "1970-01-01T16:45:08",
          "1970-01-01T16:45:08",
          "1970-01-01T16:45:08",
          "1970-01-01T19:07:31",
          "1970-01-01T19:07:31",
          "1970-01-01T19:44:10",
          "1970-01-01T19:44:10",
          "1970-01-01T19:44:10",
          "1970-01-01T22:06:33",
          "1970-01-01T22:06:33",
          "1970-01-01T22:43:12",
          "1970-01-01T22:43:12",
          "1970-01-01T22:43:12"
         ],
         "y": [
          "Carrier B",
          "Carrier B",
          "Carrier B",
          "Carrier B",
          null,
          "Carrier B",
          "Carrier B",
          "Carrier B",
          "Carrier B",
          null,
          "Carrier B",
          "Carrier B",
          "Carrier B",
          "Carrier B",
          null,
          "Carrier B",
          "Carrier B",
          "Carrier B",
          "Carrier B",
          null,
          "Carrier B",
          "Carrier B",
          "Carrier B",
          "Carrier B",
          null,
          "Carrier B",
          "Carrier B",
          "Carrier B",
          "Carrier B",
          null,
          "Carrier B",
          "Carrier B",
          "Carrier B",
          "Carrier B",
          null,
          "Carrier B",
          "Carrier B",
          "Carrier B",
          "Carrier B",
          null
         ]
        },
        {
         "connectgaps": false,
         "hoverinfo": "y+name",
         "line": {
          "color": "rgb(53,114,235)",
          "width": 10
         },
         "mode": "lines",
         "name": "loading:Carrier C",
         "type": "scatter",
         "x": [
          "1970-01-01T00:36:11",
          "1970-01-01T00:36:11",
          "1970-01-01T01:09:31",
          "1970-01-01T01:09:31",
          "1970-01-01T01:09:31",
          "1970-01-01T02:58:04",
          "1970-01-01T02:58:04",
          "1970-01-01T03:31:24",
          "1970-01-01T03:31:24",
          "1970-01-01T03:31:24",
          "1970-01-01T05:23:33",
          "1970-01-01T05:23:33",
          "1970-01-01T05:56:53",
          "1970-01-01T05:56:53",
          "1970-01-01T05:56:53",
          "1970-01-01T07:45:26",
          "1970-01-01T07:45:26",
          "1970-01-01T08:18:46",
          "1970-01-01T08:18:46",
          "1970-01-01T08:18:46",
          "1970-01-01T10:07:19",
          "1970-01-01T10:07:19",
          "1970-01-01T10:40:39",
          "1970-01-01T10:40:39",
          "1970-01-01T10:40:39",
          "1970-01-01T12:32:48",
          "1970-01-01T12:32:48",
          "1970-01-01T13:06:08",
          "1970-01-01T13:06:08",
          "1970-01-01T13:06:08",
          "1970-01-01T15:31:50",
          "1970-01-01T15:31:50",
          "1970-01-01T16:05:10",
          "1970-01-01T16:05:10",
          "1970-01-01T16:05:10",
          "1970-01-01T18:30:52",
          "1970-01-01T18:30:52",
          "1970-01-01T19:04:12",
          "1970-01-01T19:04:12",
          "1970-01-01T19:04:12",
          "1970-01-01T00:36:11",
          "1970-01-01T00:36:11",
          "1970-01-01T01:09:31",
          "1970-01-01T01:09:31",
          "1970-01-01T01:09:31",
          "1970-01-01T02:58:04",
          "1970-01-01T02:58:04",
          "1970-01-01T03:31:24",
          "1970-01-01T03:31:24",
          "1970-01-01T03:31:24",
          "1970-01-01T05:23:33",
          "1970-01-01T05:23:33",
          "1970-01-01T05:56:53",
          "1970-01-01T05:56:53",
          "1970-01-01T05:56:53",
          "1970-01-01T07:45:26",
          "1970-01-01T07:45:26",
          "1970-01-01T08:18:46",
          "1970-01-01T08:18:46",
          "1970-01-01T08:18:46",
          "1970-01-01T10:07:19",
          "1970-01-01T10:07:19",
          "1970-01-01T10:40:39",
          "1970-01-01T10:40:39",
          "1970-01-01T10:40:39",
          "1970-01-01T12:32:48",
          "1970-01-01T12:32:48",
          "1970-01-01T13:06:08",
          "1970-01-01T13:06:08",
          "1970-01-01T13:06:08",
          "1970-01-01T15:31:50",
          "1970-01-01T15:31:50",
          "1970-01-01T16:05:10",
          "1970-01-01T16:05:10",
          "1970-01-01T16:05:10",
          "1970-01-01T18:30:52",
          "1970-01-01T18:30:52",
          "1970-01-01T19:04:12",
          "1970-01-01T19:04:12",
          "1970-01-01T19:04:12"
         ],
         "y": [
          "Carrier C",
          "Carrier C",
          "Carrier C",
          "Carrier C",
          null,
          "Carrier C",
          "Carrier C",
          "Carrier C",
          "Carrier C",
          null,
          "Carrier C",
          "Carrier C",
          "Carrier C",
          "Carrier C",
          null,
          "Carrier C",
          "Carrier C",
          "Carrier C",
          "Carrier C",
          null,
          "Carrier C",
          "Carrier C",
          "Carrier C",
          "Carrier C",
          null,
          "Carrier C",
          "Carrier C",
          "Carrier C",
          "Carrier C",
          null,
          "Carrier C",
          "Carrier C",
          "Carrier C",
          "Carrier C",
          null,
          "Carrier C",
          "Carrier C",
          "Carrier C",
          "Carrier C",
          null,
          "Cutter T",
          "Cutter T",
          "Cutter T",
          "Cutter T",
          null,
          "Cutter T",
          "Cutter T",
          "Cutter T",
          "Cutter T",
          null,
          "Cutter T",
          "Cutter T",
          "Cutter T",
          "Cutter T",
          null,
          "Cutter T",
          "Cutter T",
          "Cutter T",
          "Cutter T",
          null,
          "Cutter T",
          "Cutter T",
          "Cutter T",
          "Cutter T",
          null,
          "Cutter T",
          "Cutter T",
          "Cutter T",
          "Cutter T",
          null,
          "Cutter T",
          "Cutter T",
          "Cutter T",
          "Cutter T",
          null,
          "Cutter T",
          "Cutter T",
          "Cutter T",
          "Cutter T",
          null
         ]
        },
        {
         "connectgaps": false,
         "hoverinfo": "y+name",
         "line": {
          "color": "rgb(70,131,252)",
          "width": 10
         },
         "mode": "lines",
         "name": "sailing full:Carrier C",
         "type": "scatter",
         "x": [
          "1970-01-01T01:09:31",
          "1970-01-01T01:09:31",
          "1970-01-01T01:45:42",
          "1970-01-01T01:45:42",
          "1970-01-01T01:45:42",
          "1970-01-01T03:31:24",
          "1970-01-01T03:31:24",
          "1970-01-01T04:07:35",
          "1970-01-01T04:07:35",
          "1970-01-01T04:07:35",
          "1970-01-01T05:56:53",
          "1970-01-01T05:56:53",
          "1970-01-01T06:33:04",
          "1970-01-01T06:33:04",
          "1970-01-01T06:33:04",
          "1970-01-01T08:18:46",
          "1970-01-01T08:18:46",
          "1970-01-01T08:54:57",
          "1970-01-01T08:54:57",
          "1970-01-01T08:54:57",
          "1970-01-01T10:40:39",
          "1970-01-01T10:40:39",
          "1970-01-01T11:16:50",
          "1970-01-01T11:16:50",
          "1970-01-01T11:16:50",
          "1970-01-01T13:06:08",
          "1970-01-01T13:06:08",
          "1970-01-01T13:42:19",
          "1970-01-01T13:42:19",
          "1970-01-01T13:42:19",
          "1970-01-01T16:05:10",
          "1970-01-01T16:05:10",
          "1970-01-01T16:41:21",
          "1970-01-01T16:41:21",
          "1970-01-01T16:41:21",
          "1970-01-01T19:04:12",
          "1970-01-01T19:04:12",
          "1970-01-01T19:40:23",
          "1970-01-01T19:40:23",
          "1970-01-01T19:40:23"
         ],
         "y": [
          "Carrier C",
          "Carrier C",
          "Carrier C",
          "Carrier C",
          null,
          "Carrier C",
          "Carrier C",
          "Carrier C",
          "Carrier C",
          null,
          "Carrier C",
          "Carrier C",
          "Carrier C",
          "Carrier C",
          null,
          "Carrier C",
          "Carrier C",
          "Carrier C",
          "Carrier C",
          null,
          "Carrier C",
          "Carrier C",
          "Carrier C",
          "Carrier C",
          null,
          "Carrier C",
          "Carrier C",
          "Carrier C",
          "Carrier C",
          null,
          "Carrier C",
          "Carrier C",
          "Carrier C",
          "Carrier C",
          null,
          "Carrier C",
          "Carrier C",
          "Carrier C",
          "Carrier C",
          null
         ]
        },
        {
         "connectgaps": false,
         "hoverinfo": "y+name",
         "line": {
          "color": "rgb(87,148,13)",
          "width": 10
         },
         "mode": "lines",
         "name": "unloading:Carrier C",
         "type": "scatter",
         "x": [
          "1970-01-01T01:45:42",
          "1970-01-01T01:45:42",
          "1970-01-01T02:21:53",
          "1970-01-01T02:21:53",
          "1970-01-01T02:21:53",
          "1970-01-01T04:07:35",
          "1970-01-01T04:07:35",
          "1970-01-01T04:43:46",
          "1970-01-01T04:43:46",
          "1970-01-01T04:43:46",
          "1970-01-01T06:33:04",
          "1970-01-01T06:33:04",
          "1970-01-01T07:09:15",
          "1970-01-01T07:09:15",
          "1970-01-01T07:09:15",
          "1970-01-01T08:54:57",
          "1970-01-01T08:54:57",
          "1970-01-01T09:31:08",
          "1970-01-01T09:31:08",
          "1970-01-01T09:31:08",
          "1970-01-01T11:16:50",
          "1970-01-01T11:16:50",
          "1970-01-01T11:53:01",
          "1970-01-01T11:53:01",
          "1970-01-01T11:53:01",
          "1970-01-01T13:42:19",
          "1970-01-01T13:42:19",
          "1970-01-01T14:18:30",
          "1970-01-01T14:18:30",
          "1970-01-01T14:18:30",
          "1970-01-01T16:41:21",
          "1970-01-01T16:41:21",
          "1970-01-01T17:17:32",
          "1970-01-01T17:17:32",
          "1970-01-01T17:17:32",
          "1970-01-01T19:40:23",
          "1970-01-01T19:40:23",
          "1970-01-01T20:16:34",
          "1970-01-01T20:16:34",
          "1970-01-01T20:16:34"
         ],
         "y": [
          "Carrier C",
          "Carrier C",
          "Carrier C",
          "Carrier C",
          null,
          "Carrier C",
          "Carrier C",
          "Carrier C",
          "Carrier C",
          null,
          "Carrier C",
          "Carrier C",
          "Carrier C",
          "Carrier C",
          null,
          "Carrier C",
          "Carrier C",
          "Carrier C",
          "Carrier C",
          null,
          "Carrier C",
          "Carrier C",
          "Carrier C",
          "Carrier C",
          null,
          "Carrier C",
          "Carrier C",
          "Carrier C",
          "Carrier C",
          null,
          "Carrier C",
          "Carrier C",
          "Carrier C",
          "Carrier C",
          null,
          "Carrier C",
          "Carrier C",
          "Carrier C",
          "Carrier C",
          null
         ]
        },
        {
         "connectgaps": false,
         "hoverinfo": "y+name",
         "line": {
          "color": "rgb(104,165,30)",
          "width": 10
         },
         "mode": "lines",
         "name": "sailing empty:Carrier C",
         "type": "scatter",
         "x": [
          "1970-01-01T00:00:00",
          "1970-01-01T00:00:00",
          "1970-01-01T00:36:11",
          "1970-01-01T00:36:11",
          "1970-01-01T00:36:11",
          "1970-01-01T02:21:53",
          "1970-01-01T02:21:53",
          "1970-01-01T02:58:04",
          "1970-01-01T02:58:04",
          "1970-01-01T02:58:04",
          "1970-01-01T04:43:46",
          "1970-01-01T04:43:46",
          "1970-01-01T05:19:57",
          "1970-01-01T05:19:57",
          "1970-01-01T05:19:57",
          "1970-01-01T07:09:15",
          "1970-01-01T07:09:15",
          "1970-01-01T07:45:26",
          "1970-01-01T07:45:26",
          "1970-01-01T07:45:26",
          "1970-01-01T09:31:08",
          "1970-01-01T09:31:08",
          "1970-01-01T10:07:19",
          "1970-01-01T10:07:19",
          "1970-01-01T10:07:19",
          "1970-01-01T11:53:01",
          "1970-01-01T11:53:01",
          "1970-01-01T12:29:12",
          "1970-01-01T12:29:12",
          "1970-01-01T12:29:12",
          "1970-01-01T14:18:30",
          "1970-01-01T14:18:30",
          "1970-01-01T14:54:41",
          "1970-01-01T14:54:41",
          "1970-01-01T14:54:41",
          "1970-01-01T17:17:32",
          "1970-01-01T17:17:32",
          "1970-01-01T17:53:43",
          "1970-01-01T17:53:43",
          "1970-01-01T17:53:43"
         ],
         "y": [
          "Carrier C",
          "Carrier C",
          "Carrier C",
          "Carrier C",
          null,
          "Carrier C",
          "Carrier C",
          "Carrier C",
          "Carrier C",
          null,
          "Carrier C",
          "Carrier C",
          "Carrier C",
          "Carrier C",
          null,
          "Carrier C",
          "Carrier C",
          "Carrier C",
          "Carrier C",
          null,
          "Carrier C",
          "Carrier C",
          "Carrier C",
          "Carrier C",
          null,
          "Carrier C",
          "Carrier C",
          "Carrier C",
          "Carrier C",
          null,
          "Carrier C",
          "Carrier C",
          "Carrier C",
          "Carrier C",
          null,
          "Carrier C",
          "Carrier C",
          "Carrier C",
          "Carrier C",
          null
         ]
        },
        {
         "connectgaps": false,
         "hoverinfo": "y+name",
         "line": {
          "color": "rgb(121,182,47)",
          "width": 10
         },
         "mode": "lines",
         "name": "loading:Carrier C",
         "type": "scatter",
         "x": [
          "1970-01-01T00:36:11",
          "1970-01-01T00:36:11",
          "1970-01-01T01:09:31",
          "1970-01-01T01:09:31",
          "1970-01-01T01:09:31",
          "1970-01-01T02:58:04",
          "1970-01-01T02:58:04",
          "1970-01-01T03:31:24",
          "1970-01-01T03:31:24",
          "1970-01-01T03:31:24",
          "1970-01-01T05:23:33",
          "1970-01-01T05:23:33",
          "1970-01-01T05:56:53",
          "1970-01-01T05:56:53",
          "1970-01-01T05:56:53",
          "1970-01-01T07:45:26",
          "1970-01-01T07:45:26",
          "1970-01-01T08:18:46",
          "1970-01-01T08:18:46",
          "1970-01-01T08:18:46",
          "1970-01-01T10:07:19",
          "1970-01-01T10:07:19",
          "1970-01-01T10:40:39",
          "1970-01-01T10:40:39",
          "1970-01-01T10:40:39",
          "1970-01-01T12:32:48",
          "1970-01-01T12:32:48",
          "1970-01-01T13:06:08",
          "1970-01-01T13:06:08",
          "1970-01-01T13:06:08",
          "1970-01-01T15:31:50",
          "1970-01-01T15:31:50",
          "1970-01-01T16:05:10",
          "1970-01-01T16:05:10",
          "1970-01-01T16:05:10",
          "1970-01-01T18:30:52",
          "1970-01-01T18:30:52",
          "1970-01-01T19:04:12",
          "1970-01-01T19:04:12",
          "1970-01-01T19:04:12",
          "1970-01-01T00:36:11",
          "1970-01-01T00:36:11",
          "1970-01-01T01:09:31",
          "1970-01-01T01:09:31",
          "1970-01-01T01:09:31",
          "1970-01-01T02:58:04",
          "1970-01-01T02:58:04",
          "1970-01-01T03:31:24",
          "1970-01-01T03:31:24",
          "1970-01-01T03:31:24",
          "1970-01-01T05:23:33",
          "1970-01-01T05:23:33",
          "1970-01-01T05:56:53",
          "1970-01-01T05:56:53",
          "1970-01-01T05:56:53",
          "1970-01-01T07:45:26",
          "1970-01-01T07:45:26",
          "1970-01-01T08:18:46",
          "1970-01-01T08:18:46",
          "1970-01-01T08:18:46",
          "1970-01-01T10:07:19",
          "1970-01-01T10:07:19",
          "1970-01-01T10:40:39",
          "1970-01-01T10:40:39",
          "1970-01-01T10:40:39",
          "1970-01-01T12:32:48",
          "1970-01-01T12:32:48",
          "1970-01-01T13:06:08",
          "1970-01-01T13:06:08",
          "1970-01-01T13:06:08",
          "1970-01-01T15:31:50",
          "1970-01-01T15:31:50",
          "1970-01-01T16:05:10",
          "1970-01-01T16:05:10",
          "1970-01-01T16:05:10",
          "1970-01-01T18:30:52",
          "1970-01-01T18:30:52",
          "1970-01-01T19:04:12",
          "1970-01-01T19:04:12",
          "1970-01-01T19:04:12"
         ],
         "y": [
          "Carrier C",
          "Carrier C",
          "Carrier C",
          "Carrier C",
          null,
          "Carrier C",
          "Carrier C",
          "Carrier C",
          "Carrier C",
          null,
          "Carrier C",
          "Carrier C",
          "Carrier C",
          "Carrier C",
          null,
          "Carrier C",
          "Carrier C",
          "Carrier C",
          "Carrier C",
          null,
          "Carrier C",
          "Carrier C",
          "Carrier C",
          "Carrier C",
          null,
          "Carrier C",
          "Carrier C",
          "Carrier C",
          "Carrier C",
          null,
          "Carrier C",
          "Carrier C",
          "Carrier C",
          "Carrier C",
          null,
          "Carrier C",
          "Carrier C",
          "Carrier C",
          "Carrier C",
          null,
          "Cutter T",
          "Cutter T",
          "Cutter T",
          "Cutter T",
          null,
          "Cutter T",
          "Cutter T",
          "Cutter T",
          "Cutter T",
          null,
          "Cutter T",
          "Cutter T",
          "Cutter T",
          "Cutter T",
          null,
          "Cutter T",
          "Cutter T",
          "Cutter T",
          "Cutter T",
          null,
          "Cutter T",
          "Cutter T",
          "Cutter T",
          "Cutter T",
          null,
          "Cutter T",
          "Cutter T",
          "Cutter T",
          "Cutter T",
          null,
          "Cutter T",
          "Cutter T",
          "Cutter T",
          "Cutter T",
          null,
          "Cutter T",
          "Cutter T",
          "Cutter T",
          "Cutter T",
          null
         ]
        },
        {
         "connectgaps": false,
         "hoverinfo": "y+name",
         "line": {
          "color": "rgb(138,199,64)",
          "width": 10
         },
         "mode": "lines",
         "name": "loading:Carrier B",
         "type": "scatter",
         "x": [
          "1970-01-01T01:09:31",
          "1970-01-01T01:09:31",
          "1970-01-01T01:51:11",
          "1970-01-01T01:51:11",
          "1970-01-01T01:51:11",
          "1970-01-01T03:41:08",
          "1970-01-01T03:41:08",
          "1970-01-01T04:22:48",
          "1970-01-01T04:22:48",
          "1970-01-01T04:22:48",
          "1970-01-01T06:12:45",
          "1970-01-01T06:12:45",
          "1970-01-01T06:54:25",
          "1970-01-01T06:54:25",
          "1970-01-01T06:54:25",
          "1970-01-01T08:52:06",
          "1970-01-01T08:52:06",
          "1970-01-01T09:33:46",
          "1970-01-01T09:33:46",
          "1970-01-01T09:33:46",
          "1970-01-01T11:51:08",
          "1970-01-01T11:51:08",
          "1970-01-01T12:32:48",
          "1970-01-01T12:32:48",
          "1970-01-01T12:32:48",
          "1970-01-01T14:50:10",
          "1970-01-01T14:50:10",
          "1970-01-01T15:31:50",
          "1970-01-01T15:31:50",
          "1970-01-01T15:31:50",
          "1970-01-01T17:49:12",
          "1970-01-01T17:49:12",
          "1970-01-01T18:30:52",
          "1970-01-01T18:30:52",
          "1970-01-01T18:30:52",
          "1970-01-01T20:48:14",
          "1970-01-01T20:48:14",
          "1970-01-01T21:29:54",
          "1970-01-01T21:29:54",
          "1970-01-01T21:29:54",
          "1970-01-01T01:09:31",
          "1970-01-01T01:09:31",
          "1970-01-01T01:51:11",
          "1970-01-01T01:51:11",
          "1970-01-01T01:51:11",
          "1970-01-01T03:41:08",
          "1970-01-01T03:41:08",
          "1970-01-01T04:22:48",
          "1970-01-01T04:22:48",
          "1970-01-01T04:22:48",
          "1970-01-01T06:12:45",
          "1970-01-01T06:12:45",
          "1970-01-01T06:54:25",
          "1970-01-01T06:54:25",
          "1970-01-01T06:54:25",
          "1970-01-01T08:52:06",
          "1970-01-01T08:52:06",
          "1970-01-01T09:33:46",
          "1970-01-01T09:33:46",
          "1970-01-01T09:33:46",
          "1970-01-01T11:51:08",
          "1970-01-01T11:51:08",
          "1970-01-01T12:32:48",
          "1970-01-01T12:32:48",
          "1970-01-01T12:32:48",
          "1970-01-01T14:50:10",
          "1970-01-01T14:50:10",
          "1970-01-01T15:31:50",
          "1970-01-01T15:31:50",
          "1970-01-01T15:31:50",
          "1970-01-01T17:49:12",
          "1970-01-01T17:49:12",
          "1970-01-01T18:30:52",
          "1970-01-01T18:30:52",
          "1970-01-01T18:30:52",
          "1970-01-01T20:48:14",
          "1970-01-01T20:48:14",
          "1970-01-01T21:29:54",
          "1970-01-01T21:29:54",
          "1970-01-01T21:29:54"
         ],
         "y": [
          "Carrier B",
          "Carrier B",
          "Carrier B",
          "Carrier B",
          null,
          "Carrier B",
          "Carrier B",
          "Carrier B",
          "Carrier B",
          null,
          "Carrier B",
          "Carrier B",
          "Carrier B",
          "Carrier B",
          null,
          "Carrier B",
          "Carrier B",
          "Carrier B",
          "Carrier B",
          null,
          "Carrier B",
          "Carrier B",
          "Carrier B",
          "Carrier B",
          null,
          "Carrier B",
          "Carrier B",
          "Carrier B",
          "Carrier B",
          null,
          "Carrier B",
          "Carrier B",
          "Carrier B",
          "Carrier B",
          null,
          "Carrier B",
          "Carrier B",
          "Carrier B",
          "Carrier B",
          null,
          "Cutter T",
          "Cutter T",
          "Cutter T",
          "Cutter T",
          null,
          "Cutter T",
          "Cutter T",
          "Cutter T",
          "Cutter T",
          null,
          "Cutter T",
          "Cutter T",
          "Cutter T",
          "Cutter T",
          null,
          "Cutter T",
          "Cutter T",
          "Cutter T",
          "Cutter T",
          null,
          "Cutter T",
          "Cutter T",
          "Cutter T",
          "Cutter T",
          null,
          "Cutter T",
          "Cutter T",
          "Cutter T",
          "Cutter T",
          null,
          "Cutter T",
          "Cutter T",
          "Cutter T",
          "Cutter T",
          null,
          "Cutter T",
          "Cutter T",
          "Cutter T",
          "Cutter T",
          null
         ]
        },
        {
         "connectgaps": false,
         "hoverinfo": "y+name",
         "line": {
          "color": "rgb(155,216,81)",
          "width": 10
         },
         "mode": "lines",
         "name": "loading:Carrier A",
         "type": "scatter",
         "x": [
          "1970-01-01T01:51:11",
          "1970-01-01T01:51:11",
          "1970-01-01T02:24:31",
          "1970-01-01T02:24:31",
          "1970-01-01T02:24:31",
          "1970-01-01T04:50:13",
          "1970-01-01T04:50:13",
          "1970-01-01T05:23:33",
          "1970-01-01T05:23:33",
          "1970-01-01T05:23:33",
          "1970-01-01T08:18:46",
          "1970-01-01T08:18:46",
          "1970-01-01T08:52:06",
          "1970-01-01T08:52:06",
          "1970-01-01T08:52:06",
          "1970-01-01T11:17:48",
          "1970-01-01T11:17:48",
          "1970-01-01T11:51:08",
          "1970-01-01T11:51:08",
          "1970-01-01T11:51:08",
          "1970-01-01T14:16:50",
          "1970-01-01T14:16:50",
          "1970-01-01T14:50:10",
          "1970-01-01T14:50:10",
          "1970-01-01T14:50:10",
          "1970-01-01T17:15:52",
          "1970-01-01T17:15:52",
          "1970-01-01T17:49:12",
          "1970-01-01T17:49:12",
          "1970-01-01T17:49:12",
          "1970-01-01T20:14:54",
          "1970-01-01T20:14:54",
          "1970-01-01T20:48:14",
          "1970-01-01T20:48:14",
          "1970-01-01T20:48:14",
          "1970-01-01T01:51:11",
          "1970-01-01T01:51:11",
          "1970-01-01T02:24:31",
          "1970-01-01T02:24:31",
          "1970-01-01T02:24:31",
          "1970-01-01T04:50:13",
          "1970-01-01T04:50:13",
          "1970-01-01T05:23:33",
          "1970-01-01T05:23:33",
          "1970-01-01T05:23:33",
          "1970-01-01T08:18:46",
          "1970-01-01T08:18:46",
          "1970-01-01T08:52:06",
          "1970-01-01T08:52:06",
          "1970-01-01T08:52:06",
          "1970-01-01T11:17:48",
          "1970-01-01T11:17:48",
          "1970-01-01T11:51:08",
          "1970-01-01T11:51:08",
          "1970-01-01T11:51:08",
          "1970-01-01T14:16:50",
          "1970-01-01T14:16:50",
          "1970-01-01T14:50:10",
          "1970-01-01T14:50:10",
          "1970-01-01T14:50:10",
          "1970-01-01T17:15:52",
          "1970-01-01T17:15:52",
          "1970-01-01T17:49:12",
          "1970-01-01T17:49:12",
          "1970-01-01T17:49:12",
          "1970-01-01T20:14:54",
          "1970-01-01T20:14:54",
          "1970-01-01T20:48:14",
          "1970-01-01T20:48:14",
          "1970-01-01T20:48:14"
         ],
         "y": [
          "Carrier A",
          "Carrier A",
          "Carrier A",
          "Carrier A",
          null,
          "Carrier A",
          "Carrier A",
          "Carrier A",
          "Carrier A",
          null,
          "Carrier A",
          "Carrier A",
          "Carrier A",
          "Carrier A",
          null,
          "Carrier A",
          "Carrier A",
          "Carrier A",
          "Carrier A",
          null,
          "Carrier A",
          "Carrier A",
          "Carrier A",
          "Carrier A",
          null,
          "Carrier A",
          "Carrier A",
          "Carrier A",
          "Carrier A",
          null,
          "Carrier A",
          "Carrier A",
          "Carrier A",
          "Carrier A",
          null,
          "Cutter T",
          "Cutter T",
          "Cutter T",
          "Cutter T",
          null,
          "Cutter T",
          "Cutter T",
          "Cutter T",
          "Cutter T",
          null,
          "Cutter T",
          "Cutter T",
          "Cutter T",
          "Cutter T",
          null,
          "Cutter T",
          "Cutter T",
          "Cutter T",
          "Cutter T",
          null,
          "Cutter T",
          "Cutter T",
          "Cutter T",
          "Cutter T",
          null,
          "Cutter T",
          "Cutter T",
          "Cutter T",
          "Cutter T",
          null,
          "Cutter T",
          "Cutter T",
          "Cutter T",
          "Cutter T",
          null
         ]
        }
       ],
       "layout": {
        "hovermode": "closest",
        "legend": {
         "orientation": "h",
         "x": 0,
         "y": -0.2
        },
        "template": {
         "data": {
          "bar": [
           {
            "error_x": {
             "color": "#2a3f5f"
            },
            "error_y": {
             "color": "#2a3f5f"
            },
            "marker": {
             "line": {
              "color": "#E5ECF6",
              "width": 0.5
             },
             "pattern": {
              "fillmode": "overlay",
              "size": 10,
              "solidity": 0.2
             }
            },
            "type": "bar"
           }
          ],
          "barpolar": [
           {
            "marker": {
             "line": {
              "color": "#E5ECF6",
              "width": 0.5
             },
             "pattern": {
              "fillmode": "overlay",
              "size": 10,
              "solidity": 0.2
             }
            },
            "type": "barpolar"
           }
          ],
          "carpet": [
           {
            "aaxis": {
             "endlinecolor": "#2a3f5f",
             "gridcolor": "white",
             "linecolor": "white",
             "minorgridcolor": "white",
             "startlinecolor": "#2a3f5f"
            },
            "baxis": {
             "endlinecolor": "#2a3f5f",
             "gridcolor": "white",
             "linecolor": "white",
             "minorgridcolor": "white",
             "startlinecolor": "#2a3f5f"
            },
            "type": "carpet"
           }
          ],
          "choropleth": [
           {
            "colorbar": {
             "outlinewidth": 0,
             "ticks": ""
            },
            "type": "choropleth"
           }
          ],
          "contour": [
           {
            "colorbar": {
             "outlinewidth": 0,
             "ticks": ""
            },
            "colorscale": [
             [
              0,
              "#0d0887"
             ],
             [
              0.1111111111111111,
              "#46039f"
             ],
             [
              0.2222222222222222,
              "#7201a8"
             ],
             [
              0.3333333333333333,
              "#9c179e"
             ],
             [
              0.4444444444444444,
              "#bd3786"
             ],
             [
              0.5555555555555556,
              "#d8576b"
             ],
             [
              0.6666666666666666,
              "#ed7953"
             ],
             [
              0.7777777777777778,
              "#fb9f3a"
             ],
             [
              0.8888888888888888,
              "#fdca26"
             ],
             [
              1,
              "#f0f921"
             ]
            ],
            "type": "contour"
           }
          ],
          "contourcarpet": [
           {
            "colorbar": {
             "outlinewidth": 0,
             "ticks": ""
            },
            "type": "contourcarpet"
           }
          ],
          "heatmap": [
           {
            "colorbar": {
             "outlinewidth": 0,
             "ticks": ""
            },
            "colorscale": [
             [
              0,
              "#0d0887"
             ],
             [
              0.1111111111111111,
              "#46039f"
             ],
             [
              0.2222222222222222,
              "#7201a8"
             ],
             [
              0.3333333333333333,
              "#9c179e"
             ],
             [
              0.4444444444444444,
              "#bd3786"
             ],
             [
              0.5555555555555556,
              "#d8576b"
             ],
             [
              0.6666666666666666,
              "#ed7953"
             ],
             [
              0.7777777777777778,
              "#fb9f3a"
             ],
             [
              0.8888888888888888,
              "#fdca26"
             ],
             [
              1,
              "#f0f921"
             ]
            ],
            "type": "heatmap"
           }
          ],
          "heatmapgl": [
           {
            "colorbar": {
             "outlinewidth": 0,
             "ticks": ""
            },
            "colorscale": [
             [
              0,
              "#0d0887"
             ],
             [
              0.1111111111111111,
              "#46039f"
             ],
             [
              0.2222222222222222,
              "#7201a8"
             ],
             [
              0.3333333333333333,
              "#9c179e"
             ],
             [
              0.4444444444444444,
              "#bd3786"
             ],
             [
              0.5555555555555556,
              "#d8576b"
             ],
             [
              0.6666666666666666,
              "#ed7953"
             ],
             [
              0.7777777777777778,
              "#fb9f3a"
             ],
             [
              0.8888888888888888,
              "#fdca26"
             ],
             [
              1,
              "#f0f921"
             ]
            ],
            "type": "heatmapgl"
           }
          ],
          "histogram": [
           {
            "marker": {
             "pattern": {
              "fillmode": "overlay",
              "size": 10,
              "solidity": 0.2
             }
            },
            "type": "histogram"
           }
          ],
          "histogram2d": [
           {
            "colorbar": {
             "outlinewidth": 0,
             "ticks": ""
            },
            "colorscale": [
             [
              0,
              "#0d0887"
             ],
             [
              0.1111111111111111,
              "#46039f"
             ],
             [
              0.2222222222222222,
              "#7201a8"
             ],
             [
              0.3333333333333333,
              "#9c179e"
             ],
             [
              0.4444444444444444,
              "#bd3786"
             ],
             [
              0.5555555555555556,
              "#d8576b"
             ],
             [
              0.6666666666666666,
              "#ed7953"
             ],
             [
              0.7777777777777778,
              "#fb9f3a"
             ],
             [
              0.8888888888888888,
              "#fdca26"
             ],
             [
              1,
              "#f0f921"
             ]
            ],
            "type": "histogram2d"
           }
          ],
          "histogram2dcontour": [
           {
            "colorbar": {
             "outlinewidth": 0,
             "ticks": ""
            },
            "colorscale": [
             [
              0,
              "#0d0887"
             ],
             [
              0.1111111111111111,
              "#46039f"
             ],
             [
              0.2222222222222222,
              "#7201a8"
             ],
             [
              0.3333333333333333,
              "#9c179e"
             ],
             [
              0.4444444444444444,
              "#bd3786"
             ],
             [
              0.5555555555555556,
              "#d8576b"
             ],
             [
              0.6666666666666666,
              "#ed7953"
             ],
             [
              0.7777777777777778,
              "#fb9f3a"
             ],
             [
              0.8888888888888888,
              "#fdca26"
             ],
             [
              1,
              "#f0f921"
             ]
            ],
            "type": "histogram2dcontour"
           }
          ],
          "mesh3d": [
           {
            "colorbar": {
             "outlinewidth": 0,
             "ticks": ""
            },
            "type": "mesh3d"
           }
          ],
          "parcoords": [
           {
            "line": {
             "colorbar": {
              "outlinewidth": 0,
              "ticks": ""
             }
            },
            "type": "parcoords"
           }
          ],
          "pie": [
           {
            "automargin": true,
            "type": "pie"
           }
          ],
          "scatter": [
           {
            "fillpattern": {
             "fillmode": "overlay",
             "size": 10,
             "solidity": 0.2
            },
            "type": "scatter"
           }
          ],
          "scatter3d": [
           {
            "line": {
             "colorbar": {
              "outlinewidth": 0,
              "ticks": ""
             }
            },
            "marker": {
             "colorbar": {
              "outlinewidth": 0,
              "ticks": ""
             }
            },
            "type": "scatter3d"
           }
          ],
          "scattercarpet": [
           {
            "marker": {
             "colorbar": {
              "outlinewidth": 0,
              "ticks": ""
             }
            },
            "type": "scattercarpet"
           }
          ],
          "scattergeo": [
           {
            "marker": {
             "colorbar": {
              "outlinewidth": 0,
              "ticks": ""
             }
            },
            "type": "scattergeo"
           }
          ],
          "scattergl": [
           {
            "marker": {
             "colorbar": {
              "outlinewidth": 0,
              "ticks": ""
             }
            },
            "type": "scattergl"
           }
          ],
          "scattermapbox": [
           {
            "marker": {
             "colorbar": {
              "outlinewidth": 0,
              "ticks": ""
             }
            },
            "type": "scattermapbox"
           }
          ],
          "scatterpolar": [
           {
            "marker": {
             "colorbar": {
              "outlinewidth": 0,
              "ticks": ""
             }
            },
            "type": "scatterpolar"
           }
          ],
          "scatterpolargl": [
           {
            "marker": {
             "colorbar": {
              "outlinewidth": 0,
              "ticks": ""
             }
            },
            "type": "scatterpolargl"
           }
          ],
          "scatterternary": [
           {
            "marker": {
             "colorbar": {
              "outlinewidth": 0,
              "ticks": ""
             }
            },
            "type": "scatterternary"
           }
          ],
          "surface": [
           {
            "colorbar": {
             "outlinewidth": 0,
             "ticks": ""
            },
            "colorscale": [
             [
              0,
              "#0d0887"
             ],
             [
              0.1111111111111111,
              "#46039f"
             ],
             [
              0.2222222222222222,
              "#7201a8"
             ],
             [
              0.3333333333333333,
              "#9c179e"
             ],
             [
              0.4444444444444444,
              "#bd3786"
             ],
             [
              0.5555555555555556,
              "#d8576b"
             ],
             [
              0.6666666666666666,
              "#ed7953"
             ],
             [
              0.7777777777777778,
              "#fb9f3a"
             ],
             [
              0.8888888888888888,
              "#fdca26"
             ],
             [
              1,
              "#f0f921"
             ]
            ],
            "type": "surface"
           }
          ],
          "table": [
           {
            "cells": {
             "fill": {
              "color": "#EBF0F8"
             },
             "line": {
              "color": "white"
             }
            },
            "header": {
             "fill": {
              "color": "#C8D4E3"
             },
             "line": {
              "color": "white"
             }
            },
            "type": "table"
           }
          ]
         },
         "layout": {
          "annotationdefaults": {
           "arrowcolor": "#2a3f5f",
           "arrowhead": 0,
           "arrowwidth": 1
          },
          "autotypenumbers": "strict",
          "coloraxis": {
           "colorbar": {
            "outlinewidth": 0,
            "ticks": ""
           }
          },
          "colorscale": {
           "diverging": [
            [
             0,
             "#8e0152"
            ],
            [
             0.1,
             "#c51b7d"
            ],
            [
             0.2,
             "#de77ae"
            ],
            [
             0.3,
             "#f1b6da"
            ],
            [
             0.4,
             "#fde0ef"
            ],
            [
             0.5,
             "#f7f7f7"
            ],
            [
             0.6,
             "#e6f5d0"
            ],
            [
             0.7,
             "#b8e186"
            ],
            [
             0.8,
             "#7fbc41"
            ],
            [
             0.9,
             "#4d9221"
            ],
            [
             1,
             "#276419"
            ]
           ],
           "sequential": [
            [
             0,
             "#0d0887"
            ],
            [
             0.1111111111111111,
             "#46039f"
            ],
            [
             0.2222222222222222,
             "#7201a8"
            ],
            [
             0.3333333333333333,
             "#9c179e"
            ],
            [
             0.4444444444444444,
             "#bd3786"
            ],
            [
             0.5555555555555556,
             "#d8576b"
            ],
            [
             0.6666666666666666,
             "#ed7953"
            ],
            [
             0.7777777777777778,
             "#fb9f3a"
            ],
            [
             0.8888888888888888,
             "#fdca26"
            ],
            [
             1,
             "#f0f921"
            ]
           ],
           "sequentialminus": [
            [
             0,
             "#0d0887"
            ],
            [
             0.1111111111111111,
             "#46039f"
            ],
            [
             0.2222222222222222,
             "#7201a8"
            ],
            [
             0.3333333333333333,
             "#9c179e"
            ],
            [
             0.4444444444444444,
             "#bd3786"
            ],
            [
             0.5555555555555556,
             "#d8576b"
            ],
            [
             0.6666666666666666,
             "#ed7953"
            ],
            [
             0.7777777777777778,
             "#fb9f3a"
            ],
            [
             0.8888888888888888,
             "#fdca26"
            ],
            [
             1,
             "#f0f921"
            ]
           ]
          },
          "colorway": [
           "#636efa",
           "#EF553B",
           "#00cc96",
           "#ab63fa",
           "#FFA15A",
           "#19d3f3",
           "#FF6692",
           "#B6E880",
           "#FF97FF",
           "#FECB52"
          ],
          "font": {
           "color": "#2a3f5f"
          },
          "geo": {
           "bgcolor": "white",
           "lakecolor": "white",
           "landcolor": "#E5ECF6",
           "showlakes": true,
           "showland": true,
           "subunitcolor": "white"
          },
          "hoverlabel": {
           "align": "left"
          },
          "hovermode": "closest",
          "mapbox": {
           "style": "light"
          },
          "paper_bgcolor": "white",
          "plot_bgcolor": "#E5ECF6",
          "polar": {
           "angularaxis": {
            "gridcolor": "white",
            "linecolor": "white",
            "ticks": ""
           },
           "bgcolor": "#E5ECF6",
           "radialaxis": {
            "gridcolor": "white",
            "linecolor": "white",
            "ticks": ""
           }
          },
          "scene": {
           "xaxis": {
            "backgroundcolor": "#E5ECF6",
            "gridcolor": "white",
            "gridwidth": 2,
            "linecolor": "white",
            "showbackground": true,
            "ticks": "",
            "zerolinecolor": "white"
           },
           "yaxis": {
            "backgroundcolor": "#E5ECF6",
            "gridcolor": "white",
            "gridwidth": 2,
            "linecolor": "white",
            "showbackground": true,
            "ticks": "",
            "zerolinecolor": "white"
           },
           "zaxis": {
            "backgroundcolor": "#E5ECF6",
            "gridcolor": "white",
            "gridwidth": 2,
            "linecolor": "white",
            "showbackground": true,
            "ticks": "",
            "zerolinecolor": "white"
           }
          },
          "shapedefaults": {
           "line": {
            "color": "#2a3f5f"
           }
          },
          "ternary": {
           "aaxis": {
            "gridcolor": "white",
            "linecolor": "white",
            "ticks": ""
           },
           "baxis": {
            "gridcolor": "white",
            "linecolor": "white",
            "ticks": ""
           },
           "bgcolor": "#E5ECF6",
           "caxis": {
            "gridcolor": "white",
            "linecolor": "white",
            "ticks": ""
           }
          },
          "title": {
           "x": 0.05
          },
          "xaxis": {
           "automargin": true,
           "gridcolor": "white",
           "linecolor": "white",
           "ticks": "",
           "title": {
            "standoff": 15
           },
           "zerolinecolor": "white",
           "zerolinewidth": 2
          },
          "yaxis": {
           "automargin": true,
           "gridcolor": "white",
           "linecolor": "white",
           "ticks": "",
           "title": {
            "standoff": 15
           },
           "zerolinecolor": "white",
           "zerolinewidth": 2
          }
         }
        },
        "title": {
         "text": "GANTT Chart"
        },
        "xaxis": {
         "range": [
          "1970-01-01T00:00:00",
          "1970-01-01T22:43:12"
         ],
         "title": {
          "font": {
           "color": "#7f7f7f",
           "family": "Courier New, monospace",
           "size": 18
          },
          "text": "Time"
         }
        },
        "yaxis": {
         "title": {
          "font": {
           "color": "#7f7f7f",
           "family": "Courier New, monospace",
           "size": 18
          },
          "text": "Activities"
         }
        }
       }
      },
      "text/html": [
       "<div>                            <div id=\"ce17fdb3-c015-4c43-9e87-1e092af61174\" class=\"plotly-graph-div\" style=\"height:525px; width:100%;\"></div>            <script type=\"text/javascript\">                require([\"plotly\"], function(Plotly) {                    window.PLOTLYENV=window.PLOTLYENV || {};                                    if (document.getElementById(\"ce17fdb3-c015-4c43-9e87-1e092af61174\")) {                    Plotly.newPlot(                        \"ce17fdb3-c015-4c43-9e87-1e092af61174\",                        [{\"connectgaps\":false,\"hoverinfo\":\"y+name\",\"line\":{\"color\":\"rgb(173,234,99)\",\"width\":10},\"mode\":\"lines\",\"name\":\"sailing full:Carrier A\",\"x\":[\"1970-01-01T02:24:31\",\"1970-01-01T02:24:31\",\"1970-01-01T03:13:05\",\"1970-01-01T03:13:05\",\"1970-01-01T03:13:05\",\"1970-01-01T05:23:33\",\"1970-01-01T05:23:33\",\"1970-01-01T06:12:07\",\"1970-01-01T06:12:07\",\"1970-01-01T06:12:07\",\"1970-01-01T08:52:06\",\"1970-01-01T08:52:06\",\"1970-01-01T09:40:40\",\"1970-01-01T09:40:40\",\"1970-01-01T09:40:40\",\"1970-01-01T11:51:08\",\"1970-01-01T11:51:08\",\"1970-01-01T12:39:42\",\"1970-01-01T12:39:42\",\"1970-01-01T12:39:42\",\"1970-01-01T14:50:10\",\"1970-01-01T14:50:10\",\"1970-01-01T15:38:44\",\"1970-01-01T15:38:44\",\"1970-01-01T15:38:44\",\"1970-01-01T17:49:12\",\"1970-01-01T17:49:12\",\"1970-01-01T18:37:46\",\"1970-01-01T18:37:46\",\"1970-01-01T18:37:46\",\"1970-01-01T20:48:14\",\"1970-01-01T20:48:14\",\"1970-01-01T21:36:48\",\"1970-01-01T21:36:48\",\"1970-01-01T21:36:48\"],\"y\":[\"Carrier A\",\"Carrier A\",\"Carrier A\",\"Carrier A\",null,\"Carrier A\",\"Carrier A\",\"Carrier A\",\"Carrier A\",null,\"Carrier A\",\"Carrier A\",\"Carrier A\",\"Carrier A\",null,\"Carrier A\",\"Carrier A\",\"Carrier A\",\"Carrier A\",null,\"Carrier A\",\"Carrier A\",\"Carrier A\",\"Carrier A\",null,\"Carrier A\",\"Carrier A\",\"Carrier A\",\"Carrier A\",null,\"Carrier A\",\"Carrier A\",\"Carrier A\",\"Carrier A\",null],\"type\":\"scatter\"},{\"connectgaps\":false,\"hoverinfo\":\"y+name\",\"line\":{\"color\":\"rgb(190,251,116)\",\"width\":10},\"mode\":\"lines\",\"name\":\"loading:Carrier A\",\"x\":[\"1970-01-01T01:51:11\",\"1970-01-01T01:51:11\",\"1970-01-01T02:24:31\",\"1970-01-01T02:24:31\",\"1970-01-01T02:24:31\",\"1970-01-01T04:50:13\",\"1970-01-01T04:50:13\",\"1970-01-01T05:23:33\",\"1970-01-01T05:23:33\",\"1970-01-01T05:23:33\",\"1970-01-01T08:18:46\",\"1970-01-01T08:18:46\",\"1970-01-01T08:52:06\",\"1970-01-01T08:52:06\",\"1970-01-01T08:52:06\",\"1970-01-01T11:17:48\",\"1970-01-01T11:17:48\",\"1970-01-01T11:51:08\",\"1970-01-01T11:51:08\",\"1970-01-01T11:51:08\",\"1970-01-01T14:16:50\",\"1970-01-01T14:16:50\",\"1970-01-01T14:50:10\",\"1970-01-01T14:50:10\",\"1970-01-01T14:50:10\",\"1970-01-01T17:15:52\",\"1970-01-01T17:15:52\",\"1970-01-01T17:49:12\",\"1970-01-01T17:49:12\",\"1970-01-01T17:49:12\",\"1970-01-01T20:14:54\",\"1970-01-01T20:14:54\",\"1970-01-01T20:48:14\",\"1970-01-01T20:48:14\",\"1970-01-01T20:48:14\",\"1970-01-01T01:51:11\",\"1970-01-01T01:51:11\",\"1970-01-01T02:24:31\",\"1970-01-01T02:24:31\",\"1970-01-01T02:24:31\",\"1970-01-01T04:50:13\",\"1970-01-01T04:50:13\",\"1970-01-01T05:23:33\",\"1970-01-01T05:23:33\",\"1970-01-01T05:23:33\",\"1970-01-01T08:18:46\",\"1970-01-01T08:18:46\",\"1970-01-01T08:52:06\",\"1970-01-01T08:52:06\",\"1970-01-01T08:52:06\",\"1970-01-01T11:17:48\",\"1970-01-01T11:17:48\",\"1970-01-01T11:51:08\",\"1970-01-01T11:51:08\",\"1970-01-01T11:51:08\",\"1970-01-01T14:16:50\",\"1970-01-01T14:16:50\",\"1970-01-01T14:50:10\",\"1970-01-01T14:50:10\",\"1970-01-01T14:50:10\",\"1970-01-01T17:15:52\",\"1970-01-01T17:15:52\",\"1970-01-01T17:49:12\",\"1970-01-01T17:49:12\",\"1970-01-01T17:49:12\",\"1970-01-01T20:14:54\",\"1970-01-01T20:14:54\",\"1970-01-01T20:48:14\",\"1970-01-01T20:48:14\",\"1970-01-01T20:48:14\"],\"y\":[\"Carrier A\",\"Carrier A\",\"Carrier A\",\"Carrier A\",null,\"Carrier A\",\"Carrier A\",\"Carrier A\",\"Carrier A\",null,\"Carrier A\",\"Carrier A\",\"Carrier A\",\"Carrier A\",null,\"Carrier A\",\"Carrier A\",\"Carrier A\",\"Carrier A\",null,\"Carrier A\",\"Carrier A\",\"Carrier A\",\"Carrier A\",null,\"Carrier A\",\"Carrier A\",\"Carrier A\",\"Carrier A\",null,\"Carrier A\",\"Carrier A\",\"Carrier A\",\"Carrier A\",null,\"Cutter T\",\"Cutter T\",\"Cutter T\",\"Cutter T\",null,\"Cutter T\",\"Cutter T\",\"Cutter T\",\"Cutter T\",null,\"Cutter T\",\"Cutter T\",\"Cutter T\",\"Cutter T\",null,\"Cutter T\",\"Cutter T\",\"Cutter T\",\"Cutter T\",null,\"Cutter T\",\"Cutter T\",\"Cutter T\",\"Cutter T\",null,\"Cutter T\",\"Cutter T\",\"Cutter T\",\"Cutter T\",null,\"Cutter T\",\"Cutter T\",\"Cutter T\",\"Cutter T\",null],\"type\":\"scatter\"},{\"connectgaps\":false,\"hoverinfo\":\"y+name\",\"line\":{\"color\":\"rgb(207,12,133)\",\"width\":10},\"mode\":\"lines\",\"name\":\"unloading:Carrier A\",\"x\":[\"1970-01-01T03:13:05\",\"1970-01-01T03:13:05\",\"1970-01-01T04:01:39\",\"1970-01-01T04:01:39\",\"1970-01-01T04:01:39\",\"1970-01-01T06:12:07\",\"1970-01-01T06:12:07\",\"1970-01-01T07:00:41\",\"1970-01-01T07:00:41\",\"1970-01-01T07:00:41\",\"1970-01-01T09:40:40\",\"1970-01-01T09:40:40\",\"1970-01-01T10:29:14\",\"1970-01-01T10:29:14\",\"1970-01-01T10:29:14\",\"1970-01-01T12:39:42\",\"1970-01-01T12:39:42\",\"1970-01-01T13:28:16\",\"1970-01-01T13:28:16\",\"1970-01-01T13:28:16\",\"1970-01-01T15:38:44\",\"1970-01-01T15:38:44\",\"1970-01-01T16:27:18\",\"1970-01-01T16:27:18\",\"1970-01-01T16:27:18\",\"1970-01-01T18:37:46\",\"1970-01-01T18:37:46\",\"1970-01-01T19:26:20\",\"1970-01-01T19:26:20\",\"1970-01-01T19:26:20\",\"1970-01-01T21:36:48\",\"1970-01-01T21:36:48\",\"1970-01-01T22:25:22\",\"1970-01-01T22:25:22\",\"1970-01-01T22:25:22\"],\"y\":[\"Carrier A\",\"Carrier A\",\"Carrier A\",\"Carrier A\",null,\"Carrier A\",\"Carrier A\",\"Carrier A\",\"Carrier A\",null,\"Carrier A\",\"Carrier A\",\"Carrier A\",\"Carrier A\",null,\"Carrier A\",\"Carrier A\",\"Carrier A\",\"Carrier A\",null,\"Carrier A\",\"Carrier A\",\"Carrier A\",\"Carrier A\",null,\"Carrier A\",\"Carrier A\",\"Carrier A\",\"Carrier A\",null,\"Carrier A\",\"Carrier A\",\"Carrier A\",\"Carrier A\",null],\"type\":\"scatter\"},{\"connectgaps\":false,\"hoverinfo\":\"y+name\",\"line\":{\"color\":\"rgb(224,29,150)\",\"width\":10},\"mode\":\"lines\",\"name\":\"sailing empty:Carrier A\",\"x\":[\"1970-01-01T00:00:00\",\"1970-01-01T00:00:00\",\"1970-01-01T00:48:34\",\"1970-01-01T00:48:34\",\"1970-01-01T00:48:34\",\"1970-01-01T04:01:39\",\"1970-01-01T04:01:39\",\"1970-01-01T04:50:13\",\"1970-01-01T04:50:13\",\"1970-01-01T04:50:13\",\"1970-01-01T07:00:41\",\"1970-01-01T07:00:41\",\"1970-01-01T07:49:15\",\"1970-01-01T07:49:15\",\"1970-01-01T07:49:15\",\"1970-01-01T10:29:14\",\"1970-01-01T10:29:14\",\"1970-01-01T11:17:48\",\"1970-01-01T11:17:48\",\"1970-01-01T11:17:48\",\"1970-01-01T13:28:16\",\"1970-01-01T13:28:16\",\"1970-01-01T14:16:50\",\"1970-01-01T14:16:50\",\"1970-01-01T14:16:50\",\"1970-01-01T16:27:18\",\"1970-01-01T16:27:18\",\"1970-01-01T17:15:52\",\"1970-01-01T17:15:52\",\"1970-01-01T17:15:52\",\"1970-01-01T19:26:20\",\"1970-01-01T19:26:20\",\"1970-01-01T20:14:54\",\"1970-01-01T20:14:54\",\"1970-01-01T20:14:54\"],\"y\":[\"Carrier A\",\"Carrier A\",\"Carrier A\",\"Carrier A\",null,\"Carrier A\",\"Carrier A\",\"Carrier A\",\"Carrier A\",null,\"Carrier A\",\"Carrier A\",\"Carrier A\",\"Carrier A\",null,\"Carrier A\",\"Carrier A\",\"Carrier A\",\"Carrier A\",null,\"Carrier A\",\"Carrier A\",\"Carrier A\",\"Carrier A\",null,\"Carrier A\",\"Carrier A\",\"Carrier A\",\"Carrier A\",null,\"Carrier A\",\"Carrier A\",\"Carrier A\",\"Carrier A\",null],\"type\":\"scatter\"},{\"connectgaps\":false,\"hoverinfo\":\"y+name\",\"line\":{\"color\":\"rgb(241,46,167)\",\"width\":10},\"mode\":\"lines\",\"name\":\"loading:Carrier B\",\"x\":[\"1970-01-01T01:09:31\",\"1970-01-01T01:09:31\",\"1970-01-01T01:51:11\",\"1970-01-01T01:51:11\",\"1970-01-01T01:51:11\",\"1970-01-01T03:41:08\",\"1970-01-01T03:41:08\",\"1970-01-01T04:22:48\",\"1970-01-01T04:22:48\",\"1970-01-01T04:22:48\",\"1970-01-01T06:12:45\",\"1970-01-01T06:12:45\",\"1970-01-01T06:54:25\",\"1970-01-01T06:54:25\",\"1970-01-01T06:54:25\",\"1970-01-01T08:52:06\",\"1970-01-01T08:52:06\",\"1970-01-01T09:33:46\",\"1970-01-01T09:33:46\",\"1970-01-01T09:33:46\",\"1970-01-01T11:51:08\",\"1970-01-01T11:51:08\",\"1970-01-01T12:32:48\",\"1970-01-01T12:32:48\",\"1970-01-01T12:32:48\",\"1970-01-01T14:50:10\",\"1970-01-01T14:50:10\",\"1970-01-01T15:31:50\",\"1970-01-01T15:31:50\",\"1970-01-01T15:31:50\",\"1970-01-01T17:49:12\",\"1970-01-01T17:49:12\",\"1970-01-01T18:30:52\",\"1970-01-01T18:30:52\",\"1970-01-01T18:30:52\",\"1970-01-01T20:48:14\",\"1970-01-01T20:48:14\",\"1970-01-01T21:29:54\",\"1970-01-01T21:29:54\",\"1970-01-01T21:29:54\",\"1970-01-01T01:09:31\",\"1970-01-01T01:09:31\",\"1970-01-01T01:51:11\",\"1970-01-01T01:51:11\",\"1970-01-01T01:51:11\",\"1970-01-01T03:41:08\",\"1970-01-01T03:41:08\",\"1970-01-01T04:22:48\",\"1970-01-01T04:22:48\",\"1970-01-01T04:22:48\",\"1970-01-01T06:12:45\",\"1970-01-01T06:12:45\",\"1970-01-01T06:54:25\",\"1970-01-01T06:54:25\",\"1970-01-01T06:54:25\",\"1970-01-01T08:52:06\",\"1970-01-01T08:52:06\",\"1970-01-01T09:33:46\",\"1970-01-01T09:33:46\",\"1970-01-01T09:33:46\",\"1970-01-01T11:51:08\",\"1970-01-01T11:51:08\",\"1970-01-01T12:32:48\",\"1970-01-01T12:32:48\",\"1970-01-01T12:32:48\",\"1970-01-01T14:50:10\",\"1970-01-01T14:50:10\",\"1970-01-01T15:31:50\",\"1970-01-01T15:31:50\",\"1970-01-01T15:31:50\",\"1970-01-01T17:49:12\",\"1970-01-01T17:49:12\",\"1970-01-01T18:30:52\",\"1970-01-01T18:30:52\",\"1970-01-01T18:30:52\",\"1970-01-01T20:48:14\",\"1970-01-01T20:48:14\",\"1970-01-01T21:29:54\",\"1970-01-01T21:29:54\",\"1970-01-01T21:29:54\"],\"y\":[\"Carrier B\",\"Carrier B\",\"Carrier B\",\"Carrier B\",null,\"Carrier B\",\"Carrier B\",\"Carrier B\",\"Carrier B\",null,\"Carrier B\",\"Carrier B\",\"Carrier B\",\"Carrier B\",null,\"Carrier B\",\"Carrier B\",\"Carrier B\",\"Carrier B\",null,\"Carrier B\",\"Carrier B\",\"Carrier B\",\"Carrier B\",null,\"Carrier B\",\"Carrier B\",\"Carrier B\",\"Carrier B\",null,\"Carrier B\",\"Carrier B\",\"Carrier B\",\"Carrier B\",null,\"Carrier B\",\"Carrier B\",\"Carrier B\",\"Carrier B\",null,\"Cutter T\",\"Cutter T\",\"Cutter T\",\"Cutter T\",null,\"Cutter T\",\"Cutter T\",\"Cutter T\",\"Cutter T\",null,\"Cutter T\",\"Cutter T\",\"Cutter T\",\"Cutter T\",null,\"Cutter T\",\"Cutter T\",\"Cutter T\",\"Cutter T\",null,\"Cutter T\",\"Cutter T\",\"Cutter T\",\"Cutter T\",null,\"Cutter T\",\"Cutter T\",\"Cutter T\",\"Cutter T\",null,\"Cutter T\",\"Cutter T\",\"Cutter T\",\"Cutter T\",null,\"Cutter T\",\"Cutter T\",\"Cutter T\",\"Cutter T\",null],\"type\":\"scatter\"},{\"connectgaps\":false,\"hoverinfo\":\"y+name\",\"line\":{\"color\":\"rgb(2,63,184)\",\"width\":10},\"mode\":\"lines\",\"name\":\"sailing empty:Carrier B\",\"x\":[\"1970-01-01T00:00:00\",\"1970-01-01T00:00:00\",\"1970-01-01T00:36:39\",\"1970-01-01T00:36:39\",\"1970-01-01T00:36:39\",\"1970-01-01T03:04:29\",\"1970-01-01T03:04:29\",\"1970-01-01T03:41:08\",\"1970-01-01T03:41:08\",\"1970-01-01T03:41:08\",\"1970-01-01T05:36:06\",\"1970-01-01T05:36:06\",\"1970-01-01T06:12:45\",\"1970-01-01T06:12:45\",\"1970-01-01T06:12:45\",\"1970-01-01T08:07:43\",\"1970-01-01T08:07:43\",\"1970-01-01T08:44:22\",\"1970-01-01T08:44:22\",\"1970-01-01T08:44:22\",\"1970-01-01T10:47:04\",\"1970-01-01T10:47:04\",\"1970-01-01T11:23:43\",\"1970-01-01T11:23:43\",\"1970-01-01T11:23:43\",\"1970-01-01T13:46:06\",\"1970-01-01T13:46:06\",\"1970-01-01T14:22:45\",\"1970-01-01T14:22:45\",\"1970-01-01T14:22:45\",\"1970-01-01T16:45:08\",\"1970-01-01T16:45:08\",\"1970-01-01T17:21:47\",\"1970-01-01T17:21:47\",\"1970-01-01T17:21:47\",\"1970-01-01T19:44:10\",\"1970-01-01T19:44:10\",\"1970-01-01T20:20:49\",\"1970-01-01T20:20:49\",\"1970-01-01T20:20:49\"],\"y\":[\"Carrier B\",\"Carrier B\",\"Carrier B\",\"Carrier B\",null,\"Carrier B\",\"Carrier B\",\"Carrier B\",\"Carrier B\",null,\"Carrier B\",\"Carrier B\",\"Carrier B\",\"Carrier B\",null,\"Carrier B\",\"Carrier B\",\"Carrier B\",\"Carrier B\",null,\"Carrier B\",\"Carrier B\",\"Carrier B\",\"Carrier B\",null,\"Carrier B\",\"Carrier B\",\"Carrier B\",\"Carrier B\",null,\"Carrier B\",\"Carrier B\",\"Carrier B\",\"Carrier B\",null,\"Carrier B\",\"Carrier B\",\"Carrier B\",\"Carrier B\",null],\"type\":\"scatter\"},{\"connectgaps\":false,\"hoverinfo\":\"y+name\",\"line\":{\"color\":\"rgb(19,80,201)\",\"width\":10},\"mode\":\"lines\",\"name\":\"sailing full:Carrier B\",\"x\":[\"1970-01-01T01:51:11\",\"1970-01-01T01:51:11\",\"1970-01-01T02:27:50\",\"1970-01-01T02:27:50\",\"1970-01-01T02:27:50\",\"1970-01-01T04:22:48\",\"1970-01-01T04:22:48\",\"1970-01-01T04:59:27\",\"1970-01-01T04:59:27\",\"1970-01-01T04:59:27\",\"1970-01-01T06:54:25\",\"1970-01-01T06:54:25\",\"1970-01-01T07:31:04\",\"1970-01-01T07:31:04\",\"1970-01-01T07:31:04\",\"1970-01-01T09:33:46\",\"1970-01-01T09:33:46\",\"1970-01-01T10:10:25\",\"1970-01-01T10:10:25\",\"1970-01-01T10:10:25\",\"1970-01-01T12:32:48\",\"1970-01-01T12:32:48\",\"1970-01-01T13:09:27\",\"1970-01-01T13:09:27\",\"1970-01-01T13:09:27\",\"1970-01-01T15:31:50\",\"1970-01-01T15:31:50\",\"1970-01-01T16:08:29\",\"1970-01-01T16:08:29\",\"1970-01-01T16:08:29\",\"1970-01-01T18:30:52\",\"1970-01-01T18:30:52\",\"1970-01-01T19:07:31\",\"1970-01-01T19:07:31\",\"1970-01-01T19:07:31\",\"1970-01-01T21:29:54\",\"1970-01-01T21:29:54\",\"1970-01-01T22:06:33\",\"1970-01-01T22:06:33\",\"1970-01-01T22:06:33\"],\"y\":[\"Carrier B\",\"Carrier B\",\"Carrier B\",\"Carrier B\",null,\"Carrier B\",\"Carrier B\",\"Carrier B\",\"Carrier B\",null,\"Carrier B\",\"Carrier B\",\"Carrier B\",\"Carrier B\",null,\"Carrier B\",\"Carrier B\",\"Carrier B\",\"Carrier B\",null,\"Carrier B\",\"Carrier B\",\"Carrier B\",\"Carrier B\",null,\"Carrier B\",\"Carrier B\",\"Carrier B\",\"Carrier B\",null,\"Carrier B\",\"Carrier B\",\"Carrier B\",\"Carrier B\",null,\"Carrier B\",\"Carrier B\",\"Carrier B\",\"Carrier B\",null],\"type\":\"scatter\"},{\"connectgaps\":false,\"hoverinfo\":\"y+name\",\"line\":{\"color\":\"rgb(36,97,218)\",\"width\":10},\"mode\":\"lines\",\"name\":\"unloading:Carrier B\",\"x\":[\"1970-01-01T02:27:50\",\"1970-01-01T02:27:50\",\"1970-01-01T03:04:29\",\"1970-01-01T03:04:29\",\"1970-01-01T03:04:29\",\"1970-01-01T04:59:27\",\"1970-01-01T04:59:27\",\"1970-01-01T05:36:06\",\"1970-01-01T05:36:06\",\"1970-01-01T05:36:06\",\"1970-01-01T07:31:04\",\"1970-01-01T07:31:04\",\"1970-01-01T08:07:43\",\"1970-01-01T08:07:43\",\"1970-01-01T08:07:43\",\"1970-01-01T10:10:25\",\"1970-01-01T10:10:25\",\"1970-01-01T10:47:04\",\"1970-01-01T10:47:04\",\"1970-01-01T10:47:04\",\"1970-01-01T13:09:27\",\"1970-01-01T13:09:27\",\"1970-01-01T13:46:06\",\"1970-01-01T13:46:06\",\"1970-01-01T13:46:06\",\"1970-01-01T16:08:29\",\"1970-01-01T16:08:29\",\"1970-01-01T16:45:08\",\"1970-01-01T16:45:08\",\"1970-01-01T16:45:08\",\"1970-01-01T19:07:31\",\"1970-01-01T19:07:31\",\"1970-01-01T19:44:10\",\"1970-01-01T19:44:10\",\"1970-01-01T19:44:10\",\"1970-01-01T22:06:33\",\"1970-01-01T22:06:33\",\"1970-01-01T22:43:12\",\"1970-01-01T22:43:12\",\"1970-01-01T22:43:12\"],\"y\":[\"Carrier B\",\"Carrier B\",\"Carrier B\",\"Carrier B\",null,\"Carrier B\",\"Carrier B\",\"Carrier B\",\"Carrier B\",null,\"Carrier B\",\"Carrier B\",\"Carrier B\",\"Carrier B\",null,\"Carrier B\",\"Carrier B\",\"Carrier B\",\"Carrier B\",null,\"Carrier B\",\"Carrier B\",\"Carrier B\",\"Carrier B\",null,\"Carrier B\",\"Carrier B\",\"Carrier B\",\"Carrier B\",null,\"Carrier B\",\"Carrier B\",\"Carrier B\",\"Carrier B\",null,\"Carrier B\",\"Carrier B\",\"Carrier B\",\"Carrier B\",null],\"type\":\"scatter\"},{\"connectgaps\":false,\"hoverinfo\":\"y+name\",\"line\":{\"color\":\"rgb(53,114,235)\",\"width\":10},\"mode\":\"lines\",\"name\":\"loading:Carrier C\",\"x\":[\"1970-01-01T00:36:11\",\"1970-01-01T00:36:11\",\"1970-01-01T01:09:31\",\"1970-01-01T01:09:31\",\"1970-01-01T01:09:31\",\"1970-01-01T02:58:04\",\"1970-01-01T02:58:04\",\"1970-01-01T03:31:24\",\"1970-01-01T03:31:24\",\"1970-01-01T03:31:24\",\"1970-01-01T05:23:33\",\"1970-01-01T05:23:33\",\"1970-01-01T05:56:53\",\"1970-01-01T05:56:53\",\"1970-01-01T05:56:53\",\"1970-01-01T07:45:26\",\"1970-01-01T07:45:26\",\"1970-01-01T08:18:46\",\"1970-01-01T08:18:46\",\"1970-01-01T08:18:46\",\"1970-01-01T10:07:19\",\"1970-01-01T10:07:19\",\"1970-01-01T10:40:39\",\"1970-01-01T10:40:39\",\"1970-01-01T10:40:39\",\"1970-01-01T12:32:48\",\"1970-01-01T12:32:48\",\"1970-01-01T13:06:08\",\"1970-01-01T13:06:08\",\"1970-01-01T13:06:08\",\"1970-01-01T15:31:50\",\"1970-01-01T15:31:50\",\"1970-01-01T16:05:10\",\"1970-01-01T16:05:10\",\"1970-01-01T16:05:10\",\"1970-01-01T18:30:52\",\"1970-01-01T18:30:52\",\"1970-01-01T19:04:12\",\"1970-01-01T19:04:12\",\"1970-01-01T19:04:12\",\"1970-01-01T00:36:11\",\"1970-01-01T00:36:11\",\"1970-01-01T01:09:31\",\"1970-01-01T01:09:31\",\"1970-01-01T01:09:31\",\"1970-01-01T02:58:04\",\"1970-01-01T02:58:04\",\"1970-01-01T03:31:24\",\"1970-01-01T03:31:24\",\"1970-01-01T03:31:24\",\"1970-01-01T05:23:33\",\"1970-01-01T05:23:33\",\"1970-01-01T05:56:53\",\"1970-01-01T05:56:53\",\"1970-01-01T05:56:53\",\"1970-01-01T07:45:26\",\"1970-01-01T07:45:26\",\"1970-01-01T08:18:46\",\"1970-01-01T08:18:46\",\"1970-01-01T08:18:46\",\"1970-01-01T10:07:19\",\"1970-01-01T10:07:19\",\"1970-01-01T10:40:39\",\"1970-01-01T10:40:39\",\"1970-01-01T10:40:39\",\"1970-01-01T12:32:48\",\"1970-01-01T12:32:48\",\"1970-01-01T13:06:08\",\"1970-01-01T13:06:08\",\"1970-01-01T13:06:08\",\"1970-01-01T15:31:50\",\"1970-01-01T15:31:50\",\"1970-01-01T16:05:10\",\"1970-01-01T16:05:10\",\"1970-01-01T16:05:10\",\"1970-01-01T18:30:52\",\"1970-01-01T18:30:52\",\"1970-01-01T19:04:12\",\"1970-01-01T19:04:12\",\"1970-01-01T19:04:12\"],\"y\":[\"Carrier C\",\"Carrier C\",\"Carrier C\",\"Carrier C\",null,\"Carrier C\",\"Carrier C\",\"Carrier C\",\"Carrier C\",null,\"Carrier C\",\"Carrier C\",\"Carrier C\",\"Carrier C\",null,\"Carrier C\",\"Carrier C\",\"Carrier C\",\"Carrier C\",null,\"Carrier C\",\"Carrier C\",\"Carrier C\",\"Carrier C\",null,\"Carrier C\",\"Carrier C\",\"Carrier C\",\"Carrier C\",null,\"Carrier C\",\"Carrier C\",\"Carrier C\",\"Carrier C\",null,\"Carrier C\",\"Carrier C\",\"Carrier C\",\"Carrier C\",null,\"Cutter T\",\"Cutter T\",\"Cutter T\",\"Cutter T\",null,\"Cutter T\",\"Cutter T\",\"Cutter T\",\"Cutter T\",null,\"Cutter T\",\"Cutter T\",\"Cutter T\",\"Cutter T\",null,\"Cutter T\",\"Cutter T\",\"Cutter T\",\"Cutter T\",null,\"Cutter T\",\"Cutter T\",\"Cutter T\",\"Cutter T\",null,\"Cutter T\",\"Cutter T\",\"Cutter T\",\"Cutter T\",null,\"Cutter T\",\"Cutter T\",\"Cutter T\",\"Cutter T\",null,\"Cutter T\",\"Cutter T\",\"Cutter T\",\"Cutter T\",null],\"type\":\"scatter\"},{\"connectgaps\":false,\"hoverinfo\":\"y+name\",\"line\":{\"color\":\"rgb(70,131,252)\",\"width\":10},\"mode\":\"lines\",\"name\":\"sailing full:Carrier C\",\"x\":[\"1970-01-01T01:09:31\",\"1970-01-01T01:09:31\",\"1970-01-01T01:45:42\",\"1970-01-01T01:45:42\",\"1970-01-01T01:45:42\",\"1970-01-01T03:31:24\",\"1970-01-01T03:31:24\",\"1970-01-01T04:07:35\",\"1970-01-01T04:07:35\",\"1970-01-01T04:07:35\",\"1970-01-01T05:56:53\",\"1970-01-01T05:56:53\",\"1970-01-01T06:33:04\",\"1970-01-01T06:33:04\",\"1970-01-01T06:33:04\",\"1970-01-01T08:18:46\",\"1970-01-01T08:18:46\",\"1970-01-01T08:54:57\",\"1970-01-01T08:54:57\",\"1970-01-01T08:54:57\",\"1970-01-01T10:40:39\",\"1970-01-01T10:40:39\",\"1970-01-01T11:16:50\",\"1970-01-01T11:16:50\",\"1970-01-01T11:16:50\",\"1970-01-01T13:06:08\",\"1970-01-01T13:06:08\",\"1970-01-01T13:42:19\",\"1970-01-01T13:42:19\",\"1970-01-01T13:42:19\",\"1970-01-01T16:05:10\",\"1970-01-01T16:05:10\",\"1970-01-01T16:41:21\",\"1970-01-01T16:41:21\",\"1970-01-01T16:41:21\",\"1970-01-01T19:04:12\",\"1970-01-01T19:04:12\",\"1970-01-01T19:40:23\",\"1970-01-01T19:40:23\",\"1970-01-01T19:40:23\"],\"y\":[\"Carrier C\",\"Carrier C\",\"Carrier C\",\"Carrier C\",null,\"Carrier C\",\"Carrier C\",\"Carrier C\",\"Carrier C\",null,\"Carrier C\",\"Carrier C\",\"Carrier C\",\"Carrier C\",null,\"Carrier C\",\"Carrier C\",\"Carrier C\",\"Carrier C\",null,\"Carrier C\",\"Carrier C\",\"Carrier C\",\"Carrier C\",null,\"Carrier C\",\"Carrier C\",\"Carrier C\",\"Carrier C\",null,\"Carrier C\",\"Carrier C\",\"Carrier C\",\"Carrier C\",null,\"Carrier C\",\"Carrier C\",\"Carrier C\",\"Carrier C\",null],\"type\":\"scatter\"},{\"connectgaps\":false,\"hoverinfo\":\"y+name\",\"line\":{\"color\":\"rgb(87,148,13)\",\"width\":10},\"mode\":\"lines\",\"name\":\"unloading:Carrier C\",\"x\":[\"1970-01-01T01:45:42\",\"1970-01-01T01:45:42\",\"1970-01-01T02:21:53\",\"1970-01-01T02:21:53\",\"1970-01-01T02:21:53\",\"1970-01-01T04:07:35\",\"1970-01-01T04:07:35\",\"1970-01-01T04:43:46\",\"1970-01-01T04:43:46\",\"1970-01-01T04:43:46\",\"1970-01-01T06:33:04\",\"1970-01-01T06:33:04\",\"1970-01-01T07:09:15\",\"1970-01-01T07:09:15\",\"1970-01-01T07:09:15\",\"1970-01-01T08:54:57\",\"1970-01-01T08:54:57\",\"1970-01-01T09:31:08\",\"1970-01-01T09:31:08\",\"1970-01-01T09:31:08\",\"1970-01-01T11:16:50\",\"1970-01-01T11:16:50\",\"1970-01-01T11:53:01\",\"1970-01-01T11:53:01\",\"1970-01-01T11:53:01\",\"1970-01-01T13:42:19\",\"1970-01-01T13:42:19\",\"1970-01-01T14:18:30\",\"1970-01-01T14:18:30\",\"1970-01-01T14:18:30\",\"1970-01-01T16:41:21\",\"1970-01-01T16:41:21\",\"1970-01-01T17:17:32\",\"1970-01-01T17:17:32\",\"1970-01-01T17:17:32\",\"1970-01-01T19:40:23\",\"1970-01-01T19:40:23\",\"1970-01-01T20:16:34\",\"1970-01-01T20:16:34\",\"1970-01-01T20:16:34\"],\"y\":[\"Carrier C\",\"Carrier C\",\"Carrier C\",\"Carrier C\",null,\"Carrier C\",\"Carrier C\",\"Carrier C\",\"Carrier C\",null,\"Carrier C\",\"Carrier C\",\"Carrier C\",\"Carrier C\",null,\"Carrier C\",\"Carrier C\",\"Carrier C\",\"Carrier C\",null,\"Carrier C\",\"Carrier C\",\"Carrier C\",\"Carrier C\",null,\"Carrier C\",\"Carrier C\",\"Carrier C\",\"Carrier C\",null,\"Carrier C\",\"Carrier C\",\"Carrier C\",\"Carrier C\",null,\"Carrier C\",\"Carrier C\",\"Carrier C\",\"Carrier C\",null],\"type\":\"scatter\"},{\"connectgaps\":false,\"hoverinfo\":\"y+name\",\"line\":{\"color\":\"rgb(104,165,30)\",\"width\":10},\"mode\":\"lines\",\"name\":\"sailing empty:Carrier C\",\"x\":[\"1970-01-01T00:00:00\",\"1970-01-01T00:00:00\",\"1970-01-01T00:36:11\",\"1970-01-01T00:36:11\",\"1970-01-01T00:36:11\",\"1970-01-01T02:21:53\",\"1970-01-01T02:21:53\",\"1970-01-01T02:58:04\",\"1970-01-01T02:58:04\",\"1970-01-01T02:58:04\",\"1970-01-01T04:43:46\",\"1970-01-01T04:43:46\",\"1970-01-01T05:19:57\",\"1970-01-01T05:19:57\",\"1970-01-01T05:19:57\",\"1970-01-01T07:09:15\",\"1970-01-01T07:09:15\",\"1970-01-01T07:45:26\",\"1970-01-01T07:45:26\",\"1970-01-01T07:45:26\",\"1970-01-01T09:31:08\",\"1970-01-01T09:31:08\",\"1970-01-01T10:07:19\",\"1970-01-01T10:07:19\",\"1970-01-01T10:07:19\",\"1970-01-01T11:53:01\",\"1970-01-01T11:53:01\",\"1970-01-01T12:29:12\",\"1970-01-01T12:29:12\",\"1970-01-01T12:29:12\",\"1970-01-01T14:18:30\",\"1970-01-01T14:18:30\",\"1970-01-01T14:54:41\",\"1970-01-01T14:54:41\",\"1970-01-01T14:54:41\",\"1970-01-01T17:17:32\",\"1970-01-01T17:17:32\",\"1970-01-01T17:53:43\",\"1970-01-01T17:53:43\",\"1970-01-01T17:53:43\"],\"y\":[\"Carrier C\",\"Carrier C\",\"Carrier C\",\"Carrier C\",null,\"Carrier C\",\"Carrier C\",\"Carrier C\",\"Carrier C\",null,\"Carrier C\",\"Carrier C\",\"Carrier C\",\"Carrier C\",null,\"Carrier C\",\"Carrier C\",\"Carrier C\",\"Carrier C\",null,\"Carrier C\",\"Carrier C\",\"Carrier C\",\"Carrier C\",null,\"Carrier C\",\"Carrier C\",\"Carrier C\",\"Carrier C\",null,\"Carrier C\",\"Carrier C\",\"Carrier C\",\"Carrier C\",null,\"Carrier C\",\"Carrier C\",\"Carrier C\",\"Carrier C\",null],\"type\":\"scatter\"},{\"connectgaps\":false,\"hoverinfo\":\"y+name\",\"line\":{\"color\":\"rgb(121,182,47)\",\"width\":10},\"mode\":\"lines\",\"name\":\"loading:Carrier C\",\"x\":[\"1970-01-01T00:36:11\",\"1970-01-01T00:36:11\",\"1970-01-01T01:09:31\",\"1970-01-01T01:09:31\",\"1970-01-01T01:09:31\",\"1970-01-01T02:58:04\",\"1970-01-01T02:58:04\",\"1970-01-01T03:31:24\",\"1970-01-01T03:31:24\",\"1970-01-01T03:31:24\",\"1970-01-01T05:23:33\",\"1970-01-01T05:23:33\",\"1970-01-01T05:56:53\",\"1970-01-01T05:56:53\",\"1970-01-01T05:56:53\",\"1970-01-01T07:45:26\",\"1970-01-01T07:45:26\",\"1970-01-01T08:18:46\",\"1970-01-01T08:18:46\",\"1970-01-01T08:18:46\",\"1970-01-01T10:07:19\",\"1970-01-01T10:07:19\",\"1970-01-01T10:40:39\",\"1970-01-01T10:40:39\",\"1970-01-01T10:40:39\",\"1970-01-01T12:32:48\",\"1970-01-01T12:32:48\",\"1970-01-01T13:06:08\",\"1970-01-01T13:06:08\",\"1970-01-01T13:06:08\",\"1970-01-01T15:31:50\",\"1970-01-01T15:31:50\",\"1970-01-01T16:05:10\",\"1970-01-01T16:05:10\",\"1970-01-01T16:05:10\",\"1970-01-01T18:30:52\",\"1970-01-01T18:30:52\",\"1970-01-01T19:04:12\",\"1970-01-01T19:04:12\",\"1970-01-01T19:04:12\",\"1970-01-01T00:36:11\",\"1970-01-01T00:36:11\",\"1970-01-01T01:09:31\",\"1970-01-01T01:09:31\",\"1970-01-01T01:09:31\",\"1970-01-01T02:58:04\",\"1970-01-01T02:58:04\",\"1970-01-01T03:31:24\",\"1970-01-01T03:31:24\",\"1970-01-01T03:31:24\",\"1970-01-01T05:23:33\",\"1970-01-01T05:23:33\",\"1970-01-01T05:56:53\",\"1970-01-01T05:56:53\",\"1970-01-01T05:56:53\",\"1970-01-01T07:45:26\",\"1970-01-01T07:45:26\",\"1970-01-01T08:18:46\",\"1970-01-01T08:18:46\",\"1970-01-01T08:18:46\",\"1970-01-01T10:07:19\",\"1970-01-01T10:07:19\",\"1970-01-01T10:40:39\",\"1970-01-01T10:40:39\",\"1970-01-01T10:40:39\",\"1970-01-01T12:32:48\",\"1970-01-01T12:32:48\",\"1970-01-01T13:06:08\",\"1970-01-01T13:06:08\",\"1970-01-01T13:06:08\",\"1970-01-01T15:31:50\",\"1970-01-01T15:31:50\",\"1970-01-01T16:05:10\",\"1970-01-01T16:05:10\",\"1970-01-01T16:05:10\",\"1970-01-01T18:30:52\",\"1970-01-01T18:30:52\",\"1970-01-01T19:04:12\",\"1970-01-01T19:04:12\",\"1970-01-01T19:04:12\"],\"y\":[\"Carrier C\",\"Carrier C\",\"Carrier C\",\"Carrier C\",null,\"Carrier C\",\"Carrier C\",\"Carrier C\",\"Carrier C\",null,\"Carrier C\",\"Carrier C\",\"Carrier C\",\"Carrier C\",null,\"Carrier C\",\"Carrier C\",\"Carrier C\",\"Carrier C\",null,\"Carrier C\",\"Carrier C\",\"Carrier C\",\"Carrier C\",null,\"Carrier C\",\"Carrier C\",\"Carrier C\",\"Carrier C\",null,\"Carrier C\",\"Carrier C\",\"Carrier C\",\"Carrier C\",null,\"Carrier C\",\"Carrier C\",\"Carrier C\",\"Carrier C\",null,\"Cutter T\",\"Cutter T\",\"Cutter T\",\"Cutter T\",null,\"Cutter T\",\"Cutter T\",\"Cutter T\",\"Cutter T\",null,\"Cutter T\",\"Cutter T\",\"Cutter T\",\"Cutter T\",null,\"Cutter T\",\"Cutter T\",\"Cutter T\",\"Cutter T\",null,\"Cutter T\",\"Cutter T\",\"Cutter T\",\"Cutter T\",null,\"Cutter T\",\"Cutter T\",\"Cutter T\",\"Cutter T\",null,\"Cutter T\",\"Cutter T\",\"Cutter T\",\"Cutter T\",null,\"Cutter T\",\"Cutter T\",\"Cutter T\",\"Cutter T\",null],\"type\":\"scatter\"},{\"connectgaps\":false,\"hoverinfo\":\"y+name\",\"line\":{\"color\":\"rgb(138,199,64)\",\"width\":10},\"mode\":\"lines\",\"name\":\"loading:Carrier B\",\"x\":[\"1970-01-01T01:09:31\",\"1970-01-01T01:09:31\",\"1970-01-01T01:51:11\",\"1970-01-01T01:51:11\",\"1970-01-01T01:51:11\",\"1970-01-01T03:41:08\",\"1970-01-01T03:41:08\",\"1970-01-01T04:22:48\",\"1970-01-01T04:22:48\",\"1970-01-01T04:22:48\",\"1970-01-01T06:12:45\",\"1970-01-01T06:12:45\",\"1970-01-01T06:54:25\",\"1970-01-01T06:54:25\",\"1970-01-01T06:54:25\",\"1970-01-01T08:52:06\",\"1970-01-01T08:52:06\",\"1970-01-01T09:33:46\",\"1970-01-01T09:33:46\",\"1970-01-01T09:33:46\",\"1970-01-01T11:51:08\",\"1970-01-01T11:51:08\",\"1970-01-01T12:32:48\",\"1970-01-01T12:32:48\",\"1970-01-01T12:32:48\",\"1970-01-01T14:50:10\",\"1970-01-01T14:50:10\",\"1970-01-01T15:31:50\",\"1970-01-01T15:31:50\",\"1970-01-01T15:31:50\",\"1970-01-01T17:49:12\",\"1970-01-01T17:49:12\",\"1970-01-01T18:30:52\",\"1970-01-01T18:30:52\",\"1970-01-01T18:30:52\",\"1970-01-01T20:48:14\",\"1970-01-01T20:48:14\",\"1970-01-01T21:29:54\",\"1970-01-01T21:29:54\",\"1970-01-01T21:29:54\",\"1970-01-01T01:09:31\",\"1970-01-01T01:09:31\",\"1970-01-01T01:51:11\",\"1970-01-01T01:51:11\",\"1970-01-01T01:51:11\",\"1970-01-01T03:41:08\",\"1970-01-01T03:41:08\",\"1970-01-01T04:22:48\",\"1970-01-01T04:22:48\",\"1970-01-01T04:22:48\",\"1970-01-01T06:12:45\",\"1970-01-01T06:12:45\",\"1970-01-01T06:54:25\",\"1970-01-01T06:54:25\",\"1970-01-01T06:54:25\",\"1970-01-01T08:52:06\",\"1970-01-01T08:52:06\",\"1970-01-01T09:33:46\",\"1970-01-01T09:33:46\",\"1970-01-01T09:33:46\",\"1970-01-01T11:51:08\",\"1970-01-01T11:51:08\",\"1970-01-01T12:32:48\",\"1970-01-01T12:32:48\",\"1970-01-01T12:32:48\",\"1970-01-01T14:50:10\",\"1970-01-01T14:50:10\",\"1970-01-01T15:31:50\",\"1970-01-01T15:31:50\",\"1970-01-01T15:31:50\",\"1970-01-01T17:49:12\",\"1970-01-01T17:49:12\",\"1970-01-01T18:30:52\",\"1970-01-01T18:30:52\",\"1970-01-01T18:30:52\",\"1970-01-01T20:48:14\",\"1970-01-01T20:48:14\",\"1970-01-01T21:29:54\",\"1970-01-01T21:29:54\",\"1970-01-01T21:29:54\"],\"y\":[\"Carrier B\",\"Carrier B\",\"Carrier B\",\"Carrier B\",null,\"Carrier B\",\"Carrier B\",\"Carrier B\",\"Carrier B\",null,\"Carrier B\",\"Carrier B\",\"Carrier B\",\"Carrier B\",null,\"Carrier B\",\"Carrier B\",\"Carrier B\",\"Carrier B\",null,\"Carrier B\",\"Carrier B\",\"Carrier B\",\"Carrier B\",null,\"Carrier B\",\"Carrier B\",\"Carrier B\",\"Carrier B\",null,\"Carrier B\",\"Carrier B\",\"Carrier B\",\"Carrier B\",null,\"Carrier B\",\"Carrier B\",\"Carrier B\",\"Carrier B\",null,\"Cutter T\",\"Cutter T\",\"Cutter T\",\"Cutter T\",null,\"Cutter T\",\"Cutter T\",\"Cutter T\",\"Cutter T\",null,\"Cutter T\",\"Cutter T\",\"Cutter T\",\"Cutter T\",null,\"Cutter T\",\"Cutter T\",\"Cutter T\",\"Cutter T\",null,\"Cutter T\",\"Cutter T\",\"Cutter T\",\"Cutter T\",null,\"Cutter T\",\"Cutter T\",\"Cutter T\",\"Cutter T\",null,\"Cutter T\",\"Cutter T\",\"Cutter T\",\"Cutter T\",null,\"Cutter T\",\"Cutter T\",\"Cutter T\",\"Cutter T\",null],\"type\":\"scatter\"},{\"connectgaps\":false,\"hoverinfo\":\"y+name\",\"line\":{\"color\":\"rgb(155,216,81)\",\"width\":10},\"mode\":\"lines\",\"name\":\"loading:Carrier A\",\"x\":[\"1970-01-01T01:51:11\",\"1970-01-01T01:51:11\",\"1970-01-01T02:24:31\",\"1970-01-01T02:24:31\",\"1970-01-01T02:24:31\",\"1970-01-01T04:50:13\",\"1970-01-01T04:50:13\",\"1970-01-01T05:23:33\",\"1970-01-01T05:23:33\",\"1970-01-01T05:23:33\",\"1970-01-01T08:18:46\",\"1970-01-01T08:18:46\",\"1970-01-01T08:52:06\",\"1970-01-01T08:52:06\",\"1970-01-01T08:52:06\",\"1970-01-01T11:17:48\",\"1970-01-01T11:17:48\",\"1970-01-01T11:51:08\",\"1970-01-01T11:51:08\",\"1970-01-01T11:51:08\",\"1970-01-01T14:16:50\",\"1970-01-01T14:16:50\",\"1970-01-01T14:50:10\",\"1970-01-01T14:50:10\",\"1970-01-01T14:50:10\",\"1970-01-01T17:15:52\",\"1970-01-01T17:15:52\",\"1970-01-01T17:49:12\",\"1970-01-01T17:49:12\",\"1970-01-01T17:49:12\",\"1970-01-01T20:14:54\",\"1970-01-01T20:14:54\",\"1970-01-01T20:48:14\",\"1970-01-01T20:48:14\",\"1970-01-01T20:48:14\",\"1970-01-01T01:51:11\",\"1970-01-01T01:51:11\",\"1970-01-01T02:24:31\",\"1970-01-01T02:24:31\",\"1970-01-01T02:24:31\",\"1970-01-01T04:50:13\",\"1970-01-01T04:50:13\",\"1970-01-01T05:23:33\",\"1970-01-01T05:23:33\",\"1970-01-01T05:23:33\",\"1970-01-01T08:18:46\",\"1970-01-01T08:18:46\",\"1970-01-01T08:52:06\",\"1970-01-01T08:52:06\",\"1970-01-01T08:52:06\",\"1970-01-01T11:17:48\",\"1970-01-01T11:17:48\",\"1970-01-01T11:51:08\",\"1970-01-01T11:51:08\",\"1970-01-01T11:51:08\",\"1970-01-01T14:16:50\",\"1970-01-01T14:16:50\",\"1970-01-01T14:50:10\",\"1970-01-01T14:50:10\",\"1970-01-01T14:50:10\",\"1970-01-01T17:15:52\",\"1970-01-01T17:15:52\",\"1970-01-01T17:49:12\",\"1970-01-01T17:49:12\",\"1970-01-01T17:49:12\",\"1970-01-01T20:14:54\",\"1970-01-01T20:14:54\",\"1970-01-01T20:48:14\",\"1970-01-01T20:48:14\",\"1970-01-01T20:48:14\"],\"y\":[\"Carrier A\",\"Carrier A\",\"Carrier A\",\"Carrier A\",null,\"Carrier A\",\"Carrier A\",\"Carrier A\",\"Carrier A\",null,\"Carrier A\",\"Carrier A\",\"Carrier A\",\"Carrier A\",null,\"Carrier A\",\"Carrier A\",\"Carrier A\",\"Carrier A\",null,\"Carrier A\",\"Carrier A\",\"Carrier A\",\"Carrier A\",null,\"Carrier A\",\"Carrier A\",\"Carrier A\",\"Carrier A\",null,\"Carrier A\",\"Carrier A\",\"Carrier A\",\"Carrier A\",null,\"Cutter T\",\"Cutter T\",\"Cutter T\",\"Cutter T\",null,\"Cutter T\",\"Cutter T\",\"Cutter T\",\"Cutter T\",null,\"Cutter T\",\"Cutter T\",\"Cutter T\",\"Cutter T\",null,\"Cutter T\",\"Cutter T\",\"Cutter T\",\"Cutter T\",null,\"Cutter T\",\"Cutter T\",\"Cutter T\",\"Cutter T\",null,\"Cutter T\",\"Cutter T\",\"Cutter T\",\"Cutter T\",null,\"Cutter T\",\"Cutter T\",\"Cutter T\",\"Cutter T\",null],\"type\":\"scatter\"}],                        {\"hovermode\":\"closest\",\"legend\":{\"orientation\":\"h\",\"x\":0,\"y\":-0.2},\"template\":{\"data\":{\"barpolar\":[{\"marker\":{\"line\":{\"color\":\"#E5ECF6\",\"width\":0.5},\"pattern\":{\"fillmode\":\"overlay\",\"size\":10,\"solidity\":0.2}},\"type\":\"barpolar\"}],\"bar\":[{\"error_x\":{\"color\":\"#2a3f5f\"},\"error_y\":{\"color\":\"#2a3f5f\"},\"marker\":{\"line\":{\"color\":\"#E5ECF6\",\"width\":0.5},\"pattern\":{\"fillmode\":\"overlay\",\"size\":10,\"solidity\":0.2}},\"type\":\"bar\"}],\"carpet\":[{\"aaxis\":{\"endlinecolor\":\"#2a3f5f\",\"gridcolor\":\"white\",\"linecolor\":\"white\",\"minorgridcolor\":\"white\",\"startlinecolor\":\"#2a3f5f\"},\"baxis\":{\"endlinecolor\":\"#2a3f5f\",\"gridcolor\":\"white\",\"linecolor\":\"white\",\"minorgridcolor\":\"white\",\"startlinecolor\":\"#2a3f5f\"},\"type\":\"carpet\"}],\"choropleth\":[{\"colorbar\":{\"outlinewidth\":0,\"ticks\":\"\"},\"type\":\"choropleth\"}],\"contourcarpet\":[{\"colorbar\":{\"outlinewidth\":0,\"ticks\":\"\"},\"type\":\"contourcarpet\"}],\"contour\":[{\"colorbar\":{\"outlinewidth\":0,\"ticks\":\"\"},\"colorscale\":[[0.0,\"#0d0887\"],[0.1111111111111111,\"#46039f\"],[0.2222222222222222,\"#7201a8\"],[0.3333333333333333,\"#9c179e\"],[0.4444444444444444,\"#bd3786\"],[0.5555555555555556,\"#d8576b\"],[0.6666666666666666,\"#ed7953\"],[0.7777777777777778,\"#fb9f3a\"],[0.8888888888888888,\"#fdca26\"],[1.0,\"#f0f921\"]],\"type\":\"contour\"}],\"heatmapgl\":[{\"colorbar\":{\"outlinewidth\":0,\"ticks\":\"\"},\"colorscale\":[[0.0,\"#0d0887\"],[0.1111111111111111,\"#46039f\"],[0.2222222222222222,\"#7201a8\"],[0.3333333333333333,\"#9c179e\"],[0.4444444444444444,\"#bd3786\"],[0.5555555555555556,\"#d8576b\"],[0.6666666666666666,\"#ed7953\"],[0.7777777777777778,\"#fb9f3a\"],[0.8888888888888888,\"#fdca26\"],[1.0,\"#f0f921\"]],\"type\":\"heatmapgl\"}],\"heatmap\":[{\"colorbar\":{\"outlinewidth\":0,\"ticks\":\"\"},\"colorscale\":[[0.0,\"#0d0887\"],[0.1111111111111111,\"#46039f\"],[0.2222222222222222,\"#7201a8\"],[0.3333333333333333,\"#9c179e\"],[0.4444444444444444,\"#bd3786\"],[0.5555555555555556,\"#d8576b\"],[0.6666666666666666,\"#ed7953\"],[0.7777777777777778,\"#fb9f3a\"],[0.8888888888888888,\"#fdca26\"],[1.0,\"#f0f921\"]],\"type\":\"heatmap\"}],\"histogram2dcontour\":[{\"colorbar\":{\"outlinewidth\":0,\"ticks\":\"\"},\"colorscale\":[[0.0,\"#0d0887\"],[0.1111111111111111,\"#46039f\"],[0.2222222222222222,\"#7201a8\"],[0.3333333333333333,\"#9c179e\"],[0.4444444444444444,\"#bd3786\"],[0.5555555555555556,\"#d8576b\"],[0.6666666666666666,\"#ed7953\"],[0.7777777777777778,\"#fb9f3a\"],[0.8888888888888888,\"#fdca26\"],[1.0,\"#f0f921\"]],\"type\":\"histogram2dcontour\"}],\"histogram2d\":[{\"colorbar\":{\"outlinewidth\":0,\"ticks\":\"\"},\"colorscale\":[[0.0,\"#0d0887\"],[0.1111111111111111,\"#46039f\"],[0.2222222222222222,\"#7201a8\"],[0.3333333333333333,\"#9c179e\"],[0.4444444444444444,\"#bd3786\"],[0.5555555555555556,\"#d8576b\"],[0.6666666666666666,\"#ed7953\"],[0.7777777777777778,\"#fb9f3a\"],[0.8888888888888888,\"#fdca26\"],[1.0,\"#f0f921\"]],\"type\":\"histogram2d\"}],\"histogram\":[{\"marker\":{\"pattern\":{\"fillmode\":\"overlay\",\"size\":10,\"solidity\":0.2}},\"type\":\"histogram\"}],\"mesh3d\":[{\"colorbar\":{\"outlinewidth\":0,\"ticks\":\"\"},\"type\":\"mesh3d\"}],\"parcoords\":[{\"line\":{\"colorbar\":{\"outlinewidth\":0,\"ticks\":\"\"}},\"type\":\"parcoords\"}],\"pie\":[{\"automargin\":true,\"type\":\"pie\"}],\"scatter3d\":[{\"line\":{\"colorbar\":{\"outlinewidth\":0,\"ticks\":\"\"}},\"marker\":{\"colorbar\":{\"outlinewidth\":0,\"ticks\":\"\"}},\"type\":\"scatter3d\"}],\"scattercarpet\":[{\"marker\":{\"colorbar\":{\"outlinewidth\":0,\"ticks\":\"\"}},\"type\":\"scattercarpet\"}],\"scattergeo\":[{\"marker\":{\"colorbar\":{\"outlinewidth\":0,\"ticks\":\"\"}},\"type\":\"scattergeo\"}],\"scattergl\":[{\"marker\":{\"colorbar\":{\"outlinewidth\":0,\"ticks\":\"\"}},\"type\":\"scattergl\"}],\"scattermapbox\":[{\"marker\":{\"colorbar\":{\"outlinewidth\":0,\"ticks\":\"\"}},\"type\":\"scattermapbox\"}],\"scatterpolargl\":[{\"marker\":{\"colorbar\":{\"outlinewidth\":0,\"ticks\":\"\"}},\"type\":\"scatterpolargl\"}],\"scatterpolar\":[{\"marker\":{\"colorbar\":{\"outlinewidth\":0,\"ticks\":\"\"}},\"type\":\"scatterpolar\"}],\"scatter\":[{\"fillpattern\":{\"fillmode\":\"overlay\",\"size\":10,\"solidity\":0.2},\"type\":\"scatter\"}],\"scatterternary\":[{\"marker\":{\"colorbar\":{\"outlinewidth\":0,\"ticks\":\"\"}},\"type\":\"scatterternary\"}],\"surface\":[{\"colorbar\":{\"outlinewidth\":0,\"ticks\":\"\"},\"colorscale\":[[0.0,\"#0d0887\"],[0.1111111111111111,\"#46039f\"],[0.2222222222222222,\"#7201a8\"],[0.3333333333333333,\"#9c179e\"],[0.4444444444444444,\"#bd3786\"],[0.5555555555555556,\"#d8576b\"],[0.6666666666666666,\"#ed7953\"],[0.7777777777777778,\"#fb9f3a\"],[0.8888888888888888,\"#fdca26\"],[1.0,\"#f0f921\"]],\"type\":\"surface\"}],\"table\":[{\"cells\":{\"fill\":{\"color\":\"#EBF0F8\"},\"line\":{\"color\":\"white\"}},\"header\":{\"fill\":{\"color\":\"#C8D4E3\"},\"line\":{\"color\":\"white\"}},\"type\":\"table\"}]},\"layout\":{\"annotationdefaults\":{\"arrowcolor\":\"#2a3f5f\",\"arrowhead\":0,\"arrowwidth\":1},\"autotypenumbers\":\"strict\",\"coloraxis\":{\"colorbar\":{\"outlinewidth\":0,\"ticks\":\"\"}},\"colorscale\":{\"diverging\":[[0,\"#8e0152\"],[0.1,\"#c51b7d\"],[0.2,\"#de77ae\"],[0.3,\"#f1b6da\"],[0.4,\"#fde0ef\"],[0.5,\"#f7f7f7\"],[0.6,\"#e6f5d0\"],[0.7,\"#b8e186\"],[0.8,\"#7fbc41\"],[0.9,\"#4d9221\"],[1,\"#276419\"]],\"sequential\":[[0.0,\"#0d0887\"],[0.1111111111111111,\"#46039f\"],[0.2222222222222222,\"#7201a8\"],[0.3333333333333333,\"#9c179e\"],[0.4444444444444444,\"#bd3786\"],[0.5555555555555556,\"#d8576b\"],[0.6666666666666666,\"#ed7953\"],[0.7777777777777778,\"#fb9f3a\"],[0.8888888888888888,\"#fdca26\"],[1.0,\"#f0f921\"]],\"sequentialminus\":[[0.0,\"#0d0887\"],[0.1111111111111111,\"#46039f\"],[0.2222222222222222,\"#7201a8\"],[0.3333333333333333,\"#9c179e\"],[0.4444444444444444,\"#bd3786\"],[0.5555555555555556,\"#d8576b\"],[0.6666666666666666,\"#ed7953\"],[0.7777777777777778,\"#fb9f3a\"],[0.8888888888888888,\"#fdca26\"],[1.0,\"#f0f921\"]]},\"colorway\":[\"#636efa\",\"#EF553B\",\"#00cc96\",\"#ab63fa\",\"#FFA15A\",\"#19d3f3\",\"#FF6692\",\"#B6E880\",\"#FF97FF\",\"#FECB52\"],\"font\":{\"color\":\"#2a3f5f\"},\"geo\":{\"bgcolor\":\"white\",\"lakecolor\":\"white\",\"landcolor\":\"#E5ECF6\",\"showlakes\":true,\"showland\":true,\"subunitcolor\":\"white\"},\"hoverlabel\":{\"align\":\"left\"},\"hovermode\":\"closest\",\"mapbox\":{\"style\":\"light\"},\"paper_bgcolor\":\"white\",\"plot_bgcolor\":\"#E5ECF6\",\"polar\":{\"angularaxis\":{\"gridcolor\":\"white\",\"linecolor\":\"white\",\"ticks\":\"\"},\"bgcolor\":\"#E5ECF6\",\"radialaxis\":{\"gridcolor\":\"white\",\"linecolor\":\"white\",\"ticks\":\"\"}},\"scene\":{\"xaxis\":{\"backgroundcolor\":\"#E5ECF6\",\"gridcolor\":\"white\",\"gridwidth\":2,\"linecolor\":\"white\",\"showbackground\":true,\"ticks\":\"\",\"zerolinecolor\":\"white\"},\"yaxis\":{\"backgroundcolor\":\"#E5ECF6\",\"gridcolor\":\"white\",\"gridwidth\":2,\"linecolor\":\"white\",\"showbackground\":true,\"ticks\":\"\",\"zerolinecolor\":\"white\"},\"zaxis\":{\"backgroundcolor\":\"#E5ECF6\",\"gridcolor\":\"white\",\"gridwidth\":2,\"linecolor\":\"white\",\"showbackground\":true,\"ticks\":\"\",\"zerolinecolor\":\"white\"}},\"shapedefaults\":{\"line\":{\"color\":\"#2a3f5f\"}},\"ternary\":{\"aaxis\":{\"gridcolor\":\"white\",\"linecolor\":\"white\",\"ticks\":\"\"},\"baxis\":{\"gridcolor\":\"white\",\"linecolor\":\"white\",\"ticks\":\"\"},\"bgcolor\":\"#E5ECF6\",\"caxis\":{\"gridcolor\":\"white\",\"linecolor\":\"white\",\"ticks\":\"\"}},\"title\":{\"x\":0.05},\"xaxis\":{\"automargin\":true,\"gridcolor\":\"white\",\"linecolor\":\"white\",\"ticks\":\"\",\"title\":{\"standoff\":15},\"zerolinecolor\":\"white\",\"zerolinewidth\":2},\"yaxis\":{\"automargin\":true,\"gridcolor\":\"white\",\"linecolor\":\"white\",\"ticks\":\"\",\"title\":{\"standoff\":15},\"zerolinecolor\":\"white\",\"zerolinewidth\":2}}},\"title\":{\"text\":\"GANTT Chart\"},\"xaxis\":{\"range\":[\"1970-01-01T00:00:00\",\"1970-01-01T22:43:12\"],\"title\":{\"font\":{\"color\":\"#7f7f7f\",\"family\":\"Courier New, monospace\",\"size\":18},\"text\":\"Time\"}},\"yaxis\":{\"title\":{\"font\":{\"color\":\"#7f7f7f\",\"family\":\"Courier New, monospace\",\"size\":18},\"text\":\"Activities\"}}},                        {\"responsive\": true}                    ).then(function(){\n",
       "                            \n",
       "var gd = document.getElementById('ce17fdb3-c015-4c43-9e87-1e092af61174');\n",
       "var x = new MutationObserver(function (mutations, observer) {{\n",
       "        var display = window.getComputedStyle(gd).display;\n",
       "        if (!display || display === 'none') {{\n",
       "            console.log([gd, 'removed!']);\n",
       "            Plotly.purge(gd);\n",
       "            observer.disconnect();\n",
       "        }}\n",
       "}});\n",
       "\n",
       "// Listen for the removal of the full notebook cells\n",
       "var notebookContainer = gd.closest('#notebook-container');\n",
       "if (notebookContainer) {{\n",
       "    x.observe(notebookContainer, {childList: true});\n",
       "}}\n",
       "\n",
       "// Listen for the clearing of the current output cell\n",
       "var outputEl = gd.closest('.output');\n",
       "if (outputEl) {{\n",
       "    x.observe(outputEl, {childList: true});\n",
       "}}\n",
       "\n",
       "                        })                };                });            </script>        </div>"
      ]
     },
     "metadata": {},
     "output_type": "display_data"
    }
   ],
   "source": [
    "fig = get_gantt_chart(vessels, id_map=activities)"
   ]
  },
  {
   "cell_type": "code",
   "execution_count": 8,
   "id": "b7331bd0",
   "metadata": {},
   "outputs": [
    {
     "data": {
      "text/html": [
       "        <script type=\"text/javascript\">\n",
       "        window.PlotlyConfig = {MathJaxConfig: 'local'};\n",
       "        if (window.MathJax && window.MathJax.Hub && window.MathJax.Hub.Config) {window.MathJax.Hub.Config({SVG: {font: \"STIX-Web\"}});}\n",
       "        if (typeof require !== 'undefined') {\n",
       "        require.undef(\"plotly\");\n",
       "        requirejs.config({\n",
       "            paths: {\n",
       "                'plotly': ['https://cdn.plot.ly/plotly-2.18.2.min']\n",
       "            }\n",
       "        });\n",
       "        require(['plotly'], function(Plotly) {\n",
       "            window._Plotly = Plotly;\n",
       "        });\n",
       "        }\n",
       "        </script>\n",
       "        "
      ]
     },
     "metadata": {},
     "output_type": "display_data"
    },
    {
     "data": {
      "application/vnd.plotly.v1+json": {
       "config": {
        "linkText": "Export to plot.ly",
        "plotlyServerURL": "https://plot.ly",
        "showLink": false
       },
       "data": [
        {
         "connectgaps": false,
         "hoverinfo": "y+name",
         "line": {
          "color": "rgb(99,60,2)",
          "width": 10
         },
         "mode": "lines",
         "name": "loading:Carrier C",
         "type": "scatter",
         "x": [
          "1970-01-01T00:36:11",
          "1970-01-01T00:36:11",
          "1970-01-01T01:09:31",
          "1970-01-01T01:09:31",
          "1970-01-01T01:09:31",
          "1970-01-01T02:58:04",
          "1970-01-01T02:58:04",
          "1970-01-01T03:31:24",
          "1970-01-01T03:31:24",
          "1970-01-01T03:31:24",
          "1970-01-01T05:23:33",
          "1970-01-01T05:23:33",
          "1970-01-01T05:56:53",
          "1970-01-01T05:56:53",
          "1970-01-01T05:56:53",
          "1970-01-01T07:45:26",
          "1970-01-01T07:45:26",
          "1970-01-01T08:18:46",
          "1970-01-01T08:18:46",
          "1970-01-01T08:18:46",
          "1970-01-01T10:07:19",
          "1970-01-01T10:07:19",
          "1970-01-01T10:40:39",
          "1970-01-01T10:40:39",
          "1970-01-01T10:40:39",
          "1970-01-01T12:32:48",
          "1970-01-01T12:32:48",
          "1970-01-01T13:06:08",
          "1970-01-01T13:06:08",
          "1970-01-01T13:06:08",
          "1970-01-01T15:31:50",
          "1970-01-01T15:31:50",
          "1970-01-01T16:05:10",
          "1970-01-01T16:05:10",
          "1970-01-01T16:05:10",
          "1970-01-01T18:30:52",
          "1970-01-01T18:30:52",
          "1970-01-01T19:04:12",
          "1970-01-01T19:04:12",
          "1970-01-01T19:04:12",
          "1970-01-01T00:36:11",
          "1970-01-01T00:36:11",
          "1970-01-01T01:09:31",
          "1970-01-01T01:09:31",
          "1970-01-01T01:09:31",
          "1970-01-01T02:58:04",
          "1970-01-01T02:58:04",
          "1970-01-01T03:31:24",
          "1970-01-01T03:31:24",
          "1970-01-01T03:31:24",
          "1970-01-01T05:23:33",
          "1970-01-01T05:23:33",
          "1970-01-01T05:56:53",
          "1970-01-01T05:56:53",
          "1970-01-01T05:56:53",
          "1970-01-01T07:45:26",
          "1970-01-01T07:45:26",
          "1970-01-01T08:18:46",
          "1970-01-01T08:18:46",
          "1970-01-01T08:18:46",
          "1970-01-01T10:07:19",
          "1970-01-01T10:07:19",
          "1970-01-01T10:40:39",
          "1970-01-01T10:40:39",
          "1970-01-01T10:40:39",
          "1970-01-01T12:32:48",
          "1970-01-01T12:32:48",
          "1970-01-01T13:06:08",
          "1970-01-01T13:06:08",
          "1970-01-01T13:06:08",
          "1970-01-01T15:31:50",
          "1970-01-01T15:31:50",
          "1970-01-01T16:05:10",
          "1970-01-01T16:05:10",
          "1970-01-01T16:05:10",
          "1970-01-01T18:30:52",
          "1970-01-01T18:30:52",
          "1970-01-01T19:04:12",
          "1970-01-01T19:04:12",
          "1970-01-01T19:04:12"
         ],
         "y": [
          "Trench",
          "Trench",
          "Trench",
          "Trench",
          null,
          "Trench",
          "Trench",
          "Trench",
          "Trench",
          null,
          "Trench",
          "Trench",
          "Trench",
          "Trench",
          null,
          "Trench",
          "Trench",
          "Trench",
          "Trench",
          null,
          "Trench",
          "Trench",
          "Trench",
          "Trench",
          null,
          "Trench",
          "Trench",
          "Trench",
          "Trench",
          null,
          "Trench",
          "Trench",
          "Trench",
          "Trench",
          null,
          "Trench",
          "Trench",
          "Trench",
          "Trench",
          null,
          "Cutter T",
          "Cutter T",
          "Cutter T",
          "Cutter T",
          null,
          "Cutter T",
          "Cutter T",
          "Cutter T",
          "Cutter T",
          null,
          "Cutter T",
          "Cutter T",
          "Cutter T",
          "Cutter T",
          null,
          "Cutter T",
          "Cutter T",
          "Cutter T",
          "Cutter T",
          null,
          "Cutter T",
          "Cutter T",
          "Cutter T",
          "Cutter T",
          null,
          "Cutter T",
          "Cutter T",
          "Cutter T",
          "Cutter T",
          null,
          "Cutter T",
          "Cutter T",
          "Cutter T",
          "Cutter T",
          null,
          "Cutter T",
          "Cutter T",
          "Cutter T",
          "Cutter T",
          null
         ]
        },
        {
         "connectgaps": false,
         "hoverinfo": "y+name",
         "line": {
          "color": "rgb(127,88,30)",
          "width": 10
         },
         "mode": "lines",
         "name": "loading:Carrier B",
         "type": "scatter",
         "x": [
          "1970-01-01T01:09:31",
          "1970-01-01T01:09:31",
          "1970-01-01T01:51:11",
          "1970-01-01T01:51:11",
          "1970-01-01T01:51:11",
          "1970-01-01T03:41:08",
          "1970-01-01T03:41:08",
          "1970-01-01T04:22:48",
          "1970-01-01T04:22:48",
          "1970-01-01T04:22:48",
          "1970-01-01T06:12:45",
          "1970-01-01T06:12:45",
          "1970-01-01T06:54:25",
          "1970-01-01T06:54:25",
          "1970-01-01T06:54:25",
          "1970-01-01T08:52:06",
          "1970-01-01T08:52:06",
          "1970-01-01T09:33:46",
          "1970-01-01T09:33:46",
          "1970-01-01T09:33:46",
          "1970-01-01T11:51:08",
          "1970-01-01T11:51:08",
          "1970-01-01T12:32:48",
          "1970-01-01T12:32:48",
          "1970-01-01T12:32:48",
          "1970-01-01T14:50:10",
          "1970-01-01T14:50:10",
          "1970-01-01T15:31:50",
          "1970-01-01T15:31:50",
          "1970-01-01T15:31:50",
          "1970-01-01T17:49:12",
          "1970-01-01T17:49:12",
          "1970-01-01T18:30:52",
          "1970-01-01T18:30:52",
          "1970-01-01T18:30:52",
          "1970-01-01T20:48:14",
          "1970-01-01T20:48:14",
          "1970-01-01T21:29:54",
          "1970-01-01T21:29:54",
          "1970-01-01T21:29:54",
          "1970-01-01T01:09:31",
          "1970-01-01T01:09:31",
          "1970-01-01T01:51:11",
          "1970-01-01T01:51:11",
          "1970-01-01T01:51:11",
          "1970-01-01T03:41:08",
          "1970-01-01T03:41:08",
          "1970-01-01T04:22:48",
          "1970-01-01T04:22:48",
          "1970-01-01T04:22:48",
          "1970-01-01T06:12:45",
          "1970-01-01T06:12:45",
          "1970-01-01T06:54:25",
          "1970-01-01T06:54:25",
          "1970-01-01T06:54:25",
          "1970-01-01T08:52:06",
          "1970-01-01T08:52:06",
          "1970-01-01T09:33:46",
          "1970-01-01T09:33:46",
          "1970-01-01T09:33:46",
          "1970-01-01T11:51:08",
          "1970-01-01T11:51:08",
          "1970-01-01T12:32:48",
          "1970-01-01T12:32:48",
          "1970-01-01T12:32:48",
          "1970-01-01T14:50:10",
          "1970-01-01T14:50:10",
          "1970-01-01T15:31:50",
          "1970-01-01T15:31:50",
          "1970-01-01T15:31:50",
          "1970-01-01T17:49:12",
          "1970-01-01T17:49:12",
          "1970-01-01T18:30:52",
          "1970-01-01T18:30:52",
          "1970-01-01T18:30:52",
          "1970-01-01T20:48:14",
          "1970-01-01T20:48:14",
          "1970-01-01T21:29:54",
          "1970-01-01T21:29:54",
          "1970-01-01T21:29:54"
         ],
         "y": [
          "Trench",
          "Trench",
          "Trench",
          "Trench",
          null,
          "Trench",
          "Trench",
          "Trench",
          "Trench",
          null,
          "Trench",
          "Trench",
          "Trench",
          "Trench",
          null,
          "Trench",
          "Trench",
          "Trench",
          "Trench",
          null,
          "Trench",
          "Trench",
          "Trench",
          "Trench",
          null,
          "Trench",
          "Trench",
          "Trench",
          "Trench",
          null,
          "Trench",
          "Trench",
          "Trench",
          "Trench",
          null,
          "Trench",
          "Trench",
          "Trench",
          "Trench",
          null,
          "Cutter T",
          "Cutter T",
          "Cutter T",
          "Cutter T",
          null,
          "Cutter T",
          "Cutter T",
          "Cutter T",
          "Cutter T",
          null,
          "Cutter T",
          "Cutter T",
          "Cutter T",
          "Cutter T",
          null,
          "Cutter T",
          "Cutter T",
          "Cutter T",
          "Cutter T",
          null,
          "Cutter T",
          "Cutter T",
          "Cutter T",
          "Cutter T",
          null,
          "Cutter T",
          "Cutter T",
          "Cutter T",
          "Cutter T",
          null,
          "Cutter T",
          "Cutter T",
          "Cutter T",
          "Cutter T",
          null,
          "Cutter T",
          "Cutter T",
          "Cutter T",
          "Cutter T",
          null
         ]
        },
        {
         "connectgaps": false,
         "hoverinfo": "y+name",
         "line": {
          "color": "rgb(155,116,58)",
          "width": 10
         },
         "mode": "lines",
         "name": "loading:Carrier A",
         "type": "scatter",
         "x": [
          "1970-01-01T01:51:11",
          "1970-01-01T01:51:11",
          "1970-01-01T02:24:31",
          "1970-01-01T02:24:31",
          "1970-01-01T02:24:31",
          "1970-01-01T04:50:13",
          "1970-01-01T04:50:13",
          "1970-01-01T05:23:33",
          "1970-01-01T05:23:33",
          "1970-01-01T05:23:33",
          "1970-01-01T08:18:46",
          "1970-01-01T08:18:46",
          "1970-01-01T08:52:06",
          "1970-01-01T08:52:06",
          "1970-01-01T08:52:06",
          "1970-01-01T11:17:48",
          "1970-01-01T11:17:48",
          "1970-01-01T11:51:08",
          "1970-01-01T11:51:08",
          "1970-01-01T11:51:08",
          "1970-01-01T14:16:50",
          "1970-01-01T14:16:50",
          "1970-01-01T14:50:10",
          "1970-01-01T14:50:10",
          "1970-01-01T14:50:10",
          "1970-01-01T17:15:52",
          "1970-01-01T17:15:52",
          "1970-01-01T17:49:12",
          "1970-01-01T17:49:12",
          "1970-01-01T17:49:12",
          "1970-01-01T20:14:54",
          "1970-01-01T20:14:54",
          "1970-01-01T20:48:14",
          "1970-01-01T20:48:14",
          "1970-01-01T20:48:14",
          "1970-01-01T01:51:11",
          "1970-01-01T01:51:11",
          "1970-01-01T02:24:31",
          "1970-01-01T02:24:31",
          "1970-01-01T02:24:31",
          "1970-01-01T04:50:13",
          "1970-01-01T04:50:13",
          "1970-01-01T05:23:33",
          "1970-01-01T05:23:33",
          "1970-01-01T05:23:33",
          "1970-01-01T08:18:46",
          "1970-01-01T08:18:46",
          "1970-01-01T08:52:06",
          "1970-01-01T08:52:06",
          "1970-01-01T08:52:06",
          "1970-01-01T11:17:48",
          "1970-01-01T11:17:48",
          "1970-01-01T11:51:08",
          "1970-01-01T11:51:08",
          "1970-01-01T11:51:08",
          "1970-01-01T14:16:50",
          "1970-01-01T14:16:50",
          "1970-01-01T14:50:10",
          "1970-01-01T14:50:10",
          "1970-01-01T14:50:10",
          "1970-01-01T17:15:52",
          "1970-01-01T17:15:52",
          "1970-01-01T17:49:12",
          "1970-01-01T17:49:12",
          "1970-01-01T17:49:12",
          "1970-01-01T20:14:54",
          "1970-01-01T20:14:54",
          "1970-01-01T20:48:14",
          "1970-01-01T20:48:14",
          "1970-01-01T20:48:14"
         ],
         "y": [
          "Trench",
          "Trench",
          "Trench",
          "Trench",
          null,
          "Trench",
          "Trench",
          "Trench",
          "Trench",
          null,
          "Trench",
          "Trench",
          "Trench",
          "Trench",
          null,
          "Trench",
          "Trench",
          "Trench",
          "Trench",
          null,
          "Trench",
          "Trench",
          "Trench",
          "Trench",
          null,
          "Trench",
          "Trench",
          "Trench",
          "Trench",
          null,
          "Trench",
          "Trench",
          "Trench",
          "Trench",
          null,
          "Cutter T",
          "Cutter T",
          "Cutter T",
          "Cutter T",
          null,
          "Cutter T",
          "Cutter T",
          "Cutter T",
          "Cutter T",
          null,
          "Cutter T",
          "Cutter T",
          "Cutter T",
          "Cutter T",
          null,
          "Cutter T",
          "Cutter T",
          "Cutter T",
          "Cutter T",
          null,
          "Cutter T",
          "Cutter T",
          "Cutter T",
          "Cutter T",
          null,
          "Cutter T",
          "Cutter T",
          "Cutter T",
          "Cutter T",
          null,
          "Cutter T",
          "Cutter T",
          "Cutter T",
          "Cutter T",
          null
         ]
        },
        {
         "connectgaps": false,
         "hoverinfo": "y+name",
         "line": {
          "color": "rgb(183,144,86)",
          "width": 10
         },
         "mode": "lines",
         "name": "unloading:Carrier C",
         "type": "scatter",
         "x": [
          "1970-01-01T01:45:42",
          "1970-01-01T01:45:42",
          "1970-01-01T02:21:53",
          "1970-01-01T02:21:53",
          "1970-01-01T02:21:53",
          "1970-01-01T04:07:35",
          "1970-01-01T04:07:35",
          "1970-01-01T04:43:46",
          "1970-01-01T04:43:46",
          "1970-01-01T04:43:46",
          "1970-01-01T06:33:04",
          "1970-01-01T06:33:04",
          "1970-01-01T07:09:15",
          "1970-01-01T07:09:15",
          "1970-01-01T07:09:15",
          "1970-01-01T08:54:57",
          "1970-01-01T08:54:57",
          "1970-01-01T09:31:08",
          "1970-01-01T09:31:08",
          "1970-01-01T09:31:08",
          "1970-01-01T11:16:50",
          "1970-01-01T11:16:50",
          "1970-01-01T11:53:01",
          "1970-01-01T11:53:01",
          "1970-01-01T11:53:01",
          "1970-01-01T13:42:19",
          "1970-01-01T13:42:19",
          "1970-01-01T14:18:30",
          "1970-01-01T14:18:30",
          "1970-01-01T14:18:30",
          "1970-01-01T16:41:21",
          "1970-01-01T16:41:21",
          "1970-01-01T17:17:32",
          "1970-01-01T17:17:32",
          "1970-01-01T17:17:32",
          "1970-01-01T19:40:23",
          "1970-01-01T19:40:23",
          "1970-01-01T20:16:34",
          "1970-01-01T20:16:34",
          "1970-01-01T20:16:34"
         ],
         "y": [
          "Reclamation",
          "Reclamation",
          "Reclamation",
          "Reclamation",
          null,
          "Reclamation",
          "Reclamation",
          "Reclamation",
          "Reclamation",
          null,
          "Reclamation",
          "Reclamation",
          "Reclamation",
          "Reclamation",
          null,
          "Reclamation",
          "Reclamation",
          "Reclamation",
          "Reclamation",
          null,
          "Reclamation",
          "Reclamation",
          "Reclamation",
          "Reclamation",
          null,
          "Reclamation",
          "Reclamation",
          "Reclamation",
          "Reclamation",
          null,
          "Reclamation",
          "Reclamation",
          "Reclamation",
          "Reclamation",
          null,
          "Reclamation",
          "Reclamation",
          "Reclamation",
          "Reclamation",
          null
         ]
        },
        {
         "connectgaps": false,
         "hoverinfo": "y+name",
         "line": {
          "color": "rgb(211,172,114)",
          "width": 10
         },
         "mode": "lines",
         "name": "unloading:Carrier A",
         "type": "scatter",
         "x": [
          "1970-01-01T03:13:05",
          "1970-01-01T03:13:05",
          "1970-01-01T04:01:39",
          "1970-01-01T04:01:39",
          "1970-01-01T04:01:39",
          "1970-01-01T06:12:07",
          "1970-01-01T06:12:07",
          "1970-01-01T07:00:41",
          "1970-01-01T07:00:41",
          "1970-01-01T07:00:41",
          "1970-01-01T09:40:40",
          "1970-01-01T09:40:40",
          "1970-01-01T10:29:14",
          "1970-01-01T10:29:14",
          "1970-01-01T10:29:14",
          "1970-01-01T12:39:42",
          "1970-01-01T12:39:42",
          "1970-01-01T13:28:16",
          "1970-01-01T13:28:16",
          "1970-01-01T13:28:16",
          "1970-01-01T15:38:44",
          "1970-01-01T15:38:44",
          "1970-01-01T16:27:18",
          "1970-01-01T16:27:18",
          "1970-01-01T16:27:18",
          "1970-01-01T18:37:46",
          "1970-01-01T18:37:46",
          "1970-01-01T19:26:20",
          "1970-01-01T19:26:20",
          "1970-01-01T19:26:20",
          "1970-01-01T21:36:48",
          "1970-01-01T21:36:48",
          "1970-01-01T22:25:22",
          "1970-01-01T22:25:22",
          "1970-01-01T22:25:22"
         ],
         "y": [
          "Reclamation",
          "Reclamation",
          "Reclamation",
          "Reclamation",
          null,
          "Reclamation",
          "Reclamation",
          "Reclamation",
          "Reclamation",
          null,
          "Reclamation",
          "Reclamation",
          "Reclamation",
          "Reclamation",
          null,
          "Reclamation",
          "Reclamation",
          "Reclamation",
          "Reclamation",
          null,
          "Reclamation",
          "Reclamation",
          "Reclamation",
          "Reclamation",
          null,
          "Reclamation",
          "Reclamation",
          "Reclamation",
          "Reclamation",
          null,
          "Reclamation",
          "Reclamation",
          "Reclamation",
          "Reclamation",
          null
         ]
        },
        {
         "connectgaps": false,
         "hoverinfo": "y+name",
         "line": {
          "color": "rgb(239,200,142)",
          "width": 10
         },
         "mode": "lines",
         "name": "unloading:Carrier B",
         "type": "scatter",
         "x": [
          "1970-01-01T02:27:50",
          "1970-01-01T02:27:50",
          "1970-01-01T03:04:29",
          "1970-01-01T03:04:29",
          "1970-01-01T03:04:29",
          "1970-01-01T04:59:27",
          "1970-01-01T04:59:27",
          "1970-01-01T05:36:06",
          "1970-01-01T05:36:06",
          "1970-01-01T05:36:06",
          "1970-01-01T07:31:04",
          "1970-01-01T07:31:04",
          "1970-01-01T08:07:43",
          "1970-01-01T08:07:43",
          "1970-01-01T08:07:43",
          "1970-01-01T10:10:25",
          "1970-01-01T10:10:25",
          "1970-01-01T10:47:04",
          "1970-01-01T10:47:04",
          "1970-01-01T10:47:04",
          "1970-01-01T13:09:27",
          "1970-01-01T13:09:27",
          "1970-01-01T13:46:06",
          "1970-01-01T13:46:06",
          "1970-01-01T13:46:06",
          "1970-01-01T16:08:29",
          "1970-01-01T16:08:29",
          "1970-01-01T16:45:08",
          "1970-01-01T16:45:08",
          "1970-01-01T16:45:08",
          "1970-01-01T19:07:31",
          "1970-01-01T19:07:31",
          "1970-01-01T19:44:10",
          "1970-01-01T19:44:10",
          "1970-01-01T19:44:10",
          "1970-01-01T22:06:33",
          "1970-01-01T22:06:33",
          "1970-01-01T22:43:12",
          "1970-01-01T22:43:12",
          "1970-01-01T22:43:12"
         ],
         "y": [
          "Reclamation",
          "Reclamation",
          "Reclamation",
          "Reclamation",
          null,
          "Reclamation",
          "Reclamation",
          "Reclamation",
          "Reclamation",
          null,
          "Reclamation",
          "Reclamation",
          "Reclamation",
          "Reclamation",
          null,
          "Reclamation",
          "Reclamation",
          "Reclamation",
          "Reclamation",
          null,
          "Reclamation",
          "Reclamation",
          "Reclamation",
          "Reclamation",
          null,
          "Reclamation",
          "Reclamation",
          "Reclamation",
          "Reclamation",
          null,
          "Reclamation",
          "Reclamation",
          "Reclamation",
          "Reclamation",
          null,
          "Reclamation",
          "Reclamation",
          "Reclamation",
          "Reclamation",
          null
         ]
        },
        {
         "connectgaps": false,
         "hoverinfo": "y+name",
         "line": {
          "color": "rgb(11,228,170)",
          "width": 10
         },
         "mode": "lines",
         "name": "loading:Carrier C",
         "type": "scatter",
         "x": [
          "1970-01-01T00:36:11",
          "1970-01-01T00:36:11",
          "1970-01-01T01:09:31",
          "1970-01-01T01:09:31",
          "1970-01-01T01:09:31",
          "1970-01-01T02:58:04",
          "1970-01-01T02:58:04",
          "1970-01-01T03:31:24",
          "1970-01-01T03:31:24",
          "1970-01-01T03:31:24",
          "1970-01-01T05:23:33",
          "1970-01-01T05:23:33",
          "1970-01-01T05:56:53",
          "1970-01-01T05:56:53",
          "1970-01-01T05:56:53",
          "1970-01-01T07:45:26",
          "1970-01-01T07:45:26",
          "1970-01-01T08:18:46",
          "1970-01-01T08:18:46",
          "1970-01-01T08:18:46",
          "1970-01-01T10:07:19",
          "1970-01-01T10:07:19",
          "1970-01-01T10:40:39",
          "1970-01-01T10:40:39",
          "1970-01-01T10:40:39",
          "1970-01-01T12:32:48",
          "1970-01-01T12:32:48",
          "1970-01-01T13:06:08",
          "1970-01-01T13:06:08",
          "1970-01-01T13:06:08",
          "1970-01-01T15:31:50",
          "1970-01-01T15:31:50",
          "1970-01-01T16:05:10",
          "1970-01-01T16:05:10",
          "1970-01-01T16:05:10",
          "1970-01-01T18:30:52",
          "1970-01-01T18:30:52",
          "1970-01-01T19:04:12",
          "1970-01-01T19:04:12",
          "1970-01-01T19:04:12",
          "1970-01-01T00:36:11",
          "1970-01-01T00:36:11",
          "1970-01-01T01:09:31",
          "1970-01-01T01:09:31",
          "1970-01-01T01:09:31",
          "1970-01-01T02:58:04",
          "1970-01-01T02:58:04",
          "1970-01-01T03:31:24",
          "1970-01-01T03:31:24",
          "1970-01-01T03:31:24",
          "1970-01-01T05:23:33",
          "1970-01-01T05:23:33",
          "1970-01-01T05:56:53",
          "1970-01-01T05:56:53",
          "1970-01-01T05:56:53",
          "1970-01-01T07:45:26",
          "1970-01-01T07:45:26",
          "1970-01-01T08:18:46",
          "1970-01-01T08:18:46",
          "1970-01-01T08:18:46",
          "1970-01-01T10:07:19",
          "1970-01-01T10:07:19",
          "1970-01-01T10:40:39",
          "1970-01-01T10:40:39",
          "1970-01-01T10:40:39",
          "1970-01-01T12:32:48",
          "1970-01-01T12:32:48",
          "1970-01-01T13:06:08",
          "1970-01-01T13:06:08",
          "1970-01-01T13:06:08",
          "1970-01-01T15:31:50",
          "1970-01-01T15:31:50",
          "1970-01-01T16:05:10",
          "1970-01-01T16:05:10",
          "1970-01-01T16:05:10",
          "1970-01-01T18:30:52",
          "1970-01-01T18:30:52",
          "1970-01-01T19:04:12",
          "1970-01-01T19:04:12",
          "1970-01-01T19:04:12"
         ],
         "y": [
          "Trench",
          "Trench",
          "Trench",
          "Trench",
          null,
          "Trench",
          "Trench",
          "Trench",
          "Trench",
          null,
          "Trench",
          "Trench",
          "Trench",
          "Trench",
          null,
          "Trench",
          "Trench",
          "Trench",
          "Trench",
          null,
          "Trench",
          "Trench",
          "Trench",
          "Trench",
          null,
          "Trench",
          "Trench",
          "Trench",
          "Trench",
          null,
          "Trench",
          "Trench",
          "Trench",
          "Trench",
          null,
          "Trench",
          "Trench",
          "Trench",
          "Trench",
          null,
          "Cutter T",
          "Cutter T",
          "Cutter T",
          "Cutter T",
          null,
          "Cutter T",
          "Cutter T",
          "Cutter T",
          "Cutter T",
          null,
          "Cutter T",
          "Cutter T",
          "Cutter T",
          "Cutter T",
          null,
          "Cutter T",
          "Cutter T",
          "Cutter T",
          "Cutter T",
          null,
          "Cutter T",
          "Cutter T",
          "Cutter T",
          "Cutter T",
          null,
          "Cutter T",
          "Cutter T",
          "Cutter T",
          "Cutter T",
          null,
          "Cutter T",
          "Cutter T",
          "Cutter T",
          "Cutter T",
          null,
          "Cutter T",
          "Cutter T",
          "Cutter T",
          "Cutter T",
          null
         ]
        },
        {
         "connectgaps": false,
         "hoverinfo": "y+name",
         "line": {
          "color": "rgb(39,0,198)",
          "width": 10
         },
         "mode": "lines",
         "name": "loading:Carrier B",
         "type": "scatter",
         "x": [
          "1970-01-01T01:09:31",
          "1970-01-01T01:09:31",
          "1970-01-01T01:51:11",
          "1970-01-01T01:51:11",
          "1970-01-01T01:51:11",
          "1970-01-01T03:41:08",
          "1970-01-01T03:41:08",
          "1970-01-01T04:22:48",
          "1970-01-01T04:22:48",
          "1970-01-01T04:22:48",
          "1970-01-01T06:12:45",
          "1970-01-01T06:12:45",
          "1970-01-01T06:54:25",
          "1970-01-01T06:54:25",
          "1970-01-01T06:54:25",
          "1970-01-01T08:52:06",
          "1970-01-01T08:52:06",
          "1970-01-01T09:33:46",
          "1970-01-01T09:33:46",
          "1970-01-01T09:33:46",
          "1970-01-01T11:51:08",
          "1970-01-01T11:51:08",
          "1970-01-01T12:32:48",
          "1970-01-01T12:32:48",
          "1970-01-01T12:32:48",
          "1970-01-01T14:50:10",
          "1970-01-01T14:50:10",
          "1970-01-01T15:31:50",
          "1970-01-01T15:31:50",
          "1970-01-01T15:31:50",
          "1970-01-01T17:49:12",
          "1970-01-01T17:49:12",
          "1970-01-01T18:30:52",
          "1970-01-01T18:30:52",
          "1970-01-01T18:30:52",
          "1970-01-01T20:48:14",
          "1970-01-01T20:48:14",
          "1970-01-01T21:29:54",
          "1970-01-01T21:29:54",
          "1970-01-01T21:29:54",
          "1970-01-01T01:09:31",
          "1970-01-01T01:09:31",
          "1970-01-01T01:51:11",
          "1970-01-01T01:51:11",
          "1970-01-01T01:51:11",
          "1970-01-01T03:41:08",
          "1970-01-01T03:41:08",
          "1970-01-01T04:22:48",
          "1970-01-01T04:22:48",
          "1970-01-01T04:22:48",
          "1970-01-01T06:12:45",
          "1970-01-01T06:12:45",
          "1970-01-01T06:54:25",
          "1970-01-01T06:54:25",
          "1970-01-01T06:54:25",
          "1970-01-01T08:52:06",
          "1970-01-01T08:52:06",
          "1970-01-01T09:33:46",
          "1970-01-01T09:33:46",
          "1970-01-01T09:33:46",
          "1970-01-01T11:51:08",
          "1970-01-01T11:51:08",
          "1970-01-01T12:32:48",
          "1970-01-01T12:32:48",
          "1970-01-01T12:32:48",
          "1970-01-01T14:50:10",
          "1970-01-01T14:50:10",
          "1970-01-01T15:31:50",
          "1970-01-01T15:31:50",
          "1970-01-01T15:31:50",
          "1970-01-01T17:49:12",
          "1970-01-01T17:49:12",
          "1970-01-01T18:30:52",
          "1970-01-01T18:30:52",
          "1970-01-01T18:30:52",
          "1970-01-01T20:48:14",
          "1970-01-01T20:48:14",
          "1970-01-01T21:29:54",
          "1970-01-01T21:29:54",
          "1970-01-01T21:29:54"
         ],
         "y": [
          "Trench",
          "Trench",
          "Trench",
          "Trench",
          null,
          "Trench",
          "Trench",
          "Trench",
          "Trench",
          null,
          "Trench",
          "Trench",
          "Trench",
          "Trench",
          null,
          "Trench",
          "Trench",
          "Trench",
          "Trench",
          null,
          "Trench",
          "Trench",
          "Trench",
          "Trench",
          null,
          "Trench",
          "Trench",
          "Trench",
          "Trench",
          null,
          "Trench",
          "Trench",
          "Trench",
          "Trench",
          null,
          "Trench",
          "Trench",
          "Trench",
          "Trench",
          null,
          "Cutter T",
          "Cutter T",
          "Cutter T",
          "Cutter T",
          null,
          "Cutter T",
          "Cutter T",
          "Cutter T",
          "Cutter T",
          null,
          "Cutter T",
          "Cutter T",
          "Cutter T",
          "Cutter T",
          null,
          "Cutter T",
          "Cutter T",
          "Cutter T",
          "Cutter T",
          null,
          "Cutter T",
          "Cutter T",
          "Cutter T",
          "Cutter T",
          null,
          "Cutter T",
          "Cutter T",
          "Cutter T",
          "Cutter T",
          null,
          "Cutter T",
          "Cutter T",
          "Cutter T",
          "Cutter T",
          null,
          "Cutter T",
          "Cutter T",
          "Cutter T",
          "Cutter T",
          null
         ]
        },
        {
         "connectgaps": false,
         "hoverinfo": "y+name",
         "line": {
          "color": "rgb(67,28,226)",
          "width": 10
         },
         "mode": "lines",
         "name": "loading:Carrier A",
         "type": "scatter",
         "x": [
          "1970-01-01T01:51:11",
          "1970-01-01T01:51:11",
          "1970-01-01T02:24:31",
          "1970-01-01T02:24:31",
          "1970-01-01T02:24:31",
          "1970-01-01T04:50:13",
          "1970-01-01T04:50:13",
          "1970-01-01T05:23:33",
          "1970-01-01T05:23:33",
          "1970-01-01T05:23:33",
          "1970-01-01T08:18:46",
          "1970-01-01T08:18:46",
          "1970-01-01T08:52:06",
          "1970-01-01T08:52:06",
          "1970-01-01T08:52:06",
          "1970-01-01T11:17:48",
          "1970-01-01T11:17:48",
          "1970-01-01T11:51:08",
          "1970-01-01T11:51:08",
          "1970-01-01T11:51:08",
          "1970-01-01T14:16:50",
          "1970-01-01T14:16:50",
          "1970-01-01T14:50:10",
          "1970-01-01T14:50:10",
          "1970-01-01T14:50:10",
          "1970-01-01T17:15:52",
          "1970-01-01T17:15:52",
          "1970-01-01T17:49:12",
          "1970-01-01T17:49:12",
          "1970-01-01T17:49:12",
          "1970-01-01T20:14:54",
          "1970-01-01T20:14:54",
          "1970-01-01T20:48:14",
          "1970-01-01T20:48:14",
          "1970-01-01T20:48:14",
          "1970-01-01T01:51:11",
          "1970-01-01T01:51:11",
          "1970-01-01T02:24:31",
          "1970-01-01T02:24:31",
          "1970-01-01T02:24:31",
          "1970-01-01T04:50:13",
          "1970-01-01T04:50:13",
          "1970-01-01T05:23:33",
          "1970-01-01T05:23:33",
          "1970-01-01T05:23:33",
          "1970-01-01T08:18:46",
          "1970-01-01T08:18:46",
          "1970-01-01T08:52:06",
          "1970-01-01T08:52:06",
          "1970-01-01T08:52:06",
          "1970-01-01T11:17:48",
          "1970-01-01T11:17:48",
          "1970-01-01T11:51:08",
          "1970-01-01T11:51:08",
          "1970-01-01T11:51:08",
          "1970-01-01T14:16:50",
          "1970-01-01T14:16:50",
          "1970-01-01T14:50:10",
          "1970-01-01T14:50:10",
          "1970-01-01T14:50:10",
          "1970-01-01T17:15:52",
          "1970-01-01T17:15:52",
          "1970-01-01T17:49:12",
          "1970-01-01T17:49:12",
          "1970-01-01T17:49:12",
          "1970-01-01T20:14:54",
          "1970-01-01T20:14:54",
          "1970-01-01T20:48:14",
          "1970-01-01T20:48:14",
          "1970-01-01T20:48:14"
         ],
         "y": [
          "Trench",
          "Trench",
          "Trench",
          "Trench",
          null,
          "Trench",
          "Trench",
          "Trench",
          "Trench",
          null,
          "Trench",
          "Trench",
          "Trench",
          "Trench",
          null,
          "Trench",
          "Trench",
          "Trench",
          "Trench",
          null,
          "Trench",
          "Trench",
          "Trench",
          "Trench",
          null,
          "Trench",
          "Trench",
          "Trench",
          "Trench",
          null,
          "Trench",
          "Trench",
          "Trench",
          "Trench",
          null,
          "Cutter T",
          "Cutter T",
          "Cutter T",
          "Cutter T",
          null,
          "Cutter T",
          "Cutter T",
          "Cutter T",
          "Cutter T",
          null,
          "Cutter T",
          "Cutter T",
          "Cutter T",
          "Cutter T",
          null,
          "Cutter T",
          "Cutter T",
          "Cutter T",
          "Cutter T",
          null,
          "Cutter T",
          "Cutter T",
          "Cutter T",
          "Cutter T",
          null,
          "Cutter T",
          "Cutter T",
          "Cutter T",
          "Cutter T",
          null,
          "Cutter T",
          "Cutter T",
          "Cutter T",
          "Cutter T",
          null
         ]
        }
       ],
       "layout": {
        "hovermode": "closest",
        "legend": {
         "orientation": "h",
         "x": 0,
         "y": -0.2
        },
        "template": {
         "data": {
          "bar": [
           {
            "error_x": {
             "color": "#2a3f5f"
            },
            "error_y": {
             "color": "#2a3f5f"
            },
            "marker": {
             "line": {
              "color": "#E5ECF6",
              "width": 0.5
             },
             "pattern": {
              "fillmode": "overlay",
              "size": 10,
              "solidity": 0.2
             }
            },
            "type": "bar"
           }
          ],
          "barpolar": [
           {
            "marker": {
             "line": {
              "color": "#E5ECF6",
              "width": 0.5
             },
             "pattern": {
              "fillmode": "overlay",
              "size": 10,
              "solidity": 0.2
             }
            },
            "type": "barpolar"
           }
          ],
          "carpet": [
           {
            "aaxis": {
             "endlinecolor": "#2a3f5f",
             "gridcolor": "white",
             "linecolor": "white",
             "minorgridcolor": "white",
             "startlinecolor": "#2a3f5f"
            },
            "baxis": {
             "endlinecolor": "#2a3f5f",
             "gridcolor": "white",
             "linecolor": "white",
             "minorgridcolor": "white",
             "startlinecolor": "#2a3f5f"
            },
            "type": "carpet"
           }
          ],
          "choropleth": [
           {
            "colorbar": {
             "outlinewidth": 0,
             "ticks": ""
            },
            "type": "choropleth"
           }
          ],
          "contour": [
           {
            "colorbar": {
             "outlinewidth": 0,
             "ticks": ""
            },
            "colorscale": [
             [
              0,
              "#0d0887"
             ],
             [
              0.1111111111111111,
              "#46039f"
             ],
             [
              0.2222222222222222,
              "#7201a8"
             ],
             [
              0.3333333333333333,
              "#9c179e"
             ],
             [
              0.4444444444444444,
              "#bd3786"
             ],
             [
              0.5555555555555556,
              "#d8576b"
             ],
             [
              0.6666666666666666,
              "#ed7953"
             ],
             [
              0.7777777777777778,
              "#fb9f3a"
             ],
             [
              0.8888888888888888,
              "#fdca26"
             ],
             [
              1,
              "#f0f921"
             ]
            ],
            "type": "contour"
           }
          ],
          "contourcarpet": [
           {
            "colorbar": {
             "outlinewidth": 0,
             "ticks": ""
            },
            "type": "contourcarpet"
           }
          ],
          "heatmap": [
           {
            "colorbar": {
             "outlinewidth": 0,
             "ticks": ""
            },
            "colorscale": [
             [
              0,
              "#0d0887"
             ],
             [
              0.1111111111111111,
              "#46039f"
             ],
             [
              0.2222222222222222,
              "#7201a8"
             ],
             [
              0.3333333333333333,
              "#9c179e"
             ],
             [
              0.4444444444444444,
              "#bd3786"
             ],
             [
              0.5555555555555556,
              "#d8576b"
             ],
             [
              0.6666666666666666,
              "#ed7953"
             ],
             [
              0.7777777777777778,
              "#fb9f3a"
             ],
             [
              0.8888888888888888,
              "#fdca26"
             ],
             [
              1,
              "#f0f921"
             ]
            ],
            "type": "heatmap"
           }
          ],
          "heatmapgl": [
           {
            "colorbar": {
             "outlinewidth": 0,
             "ticks": ""
            },
            "colorscale": [
             [
              0,
              "#0d0887"
             ],
             [
              0.1111111111111111,
              "#46039f"
             ],
             [
              0.2222222222222222,
              "#7201a8"
             ],
             [
              0.3333333333333333,
              "#9c179e"
             ],
             [
              0.4444444444444444,
              "#bd3786"
             ],
             [
              0.5555555555555556,
              "#d8576b"
             ],
             [
              0.6666666666666666,
              "#ed7953"
             ],
             [
              0.7777777777777778,
              "#fb9f3a"
             ],
             [
              0.8888888888888888,
              "#fdca26"
             ],
             [
              1,
              "#f0f921"
             ]
            ],
            "type": "heatmapgl"
           }
          ],
          "histogram": [
           {
            "marker": {
             "pattern": {
              "fillmode": "overlay",
              "size": 10,
              "solidity": 0.2
             }
            },
            "type": "histogram"
           }
          ],
          "histogram2d": [
           {
            "colorbar": {
             "outlinewidth": 0,
             "ticks": ""
            },
            "colorscale": [
             [
              0,
              "#0d0887"
             ],
             [
              0.1111111111111111,
              "#46039f"
             ],
             [
              0.2222222222222222,
              "#7201a8"
             ],
             [
              0.3333333333333333,
              "#9c179e"
             ],
             [
              0.4444444444444444,
              "#bd3786"
             ],
             [
              0.5555555555555556,
              "#d8576b"
             ],
             [
              0.6666666666666666,
              "#ed7953"
             ],
             [
              0.7777777777777778,
              "#fb9f3a"
             ],
             [
              0.8888888888888888,
              "#fdca26"
             ],
             [
              1,
              "#f0f921"
             ]
            ],
            "type": "histogram2d"
           }
          ],
          "histogram2dcontour": [
           {
            "colorbar": {
             "outlinewidth": 0,
             "ticks": ""
            },
            "colorscale": [
             [
              0,
              "#0d0887"
             ],
             [
              0.1111111111111111,
              "#46039f"
             ],
             [
              0.2222222222222222,
              "#7201a8"
             ],
             [
              0.3333333333333333,
              "#9c179e"
             ],
             [
              0.4444444444444444,
              "#bd3786"
             ],
             [
              0.5555555555555556,
              "#d8576b"
             ],
             [
              0.6666666666666666,
              "#ed7953"
             ],
             [
              0.7777777777777778,
              "#fb9f3a"
             ],
             [
              0.8888888888888888,
              "#fdca26"
             ],
             [
              1,
              "#f0f921"
             ]
            ],
            "type": "histogram2dcontour"
           }
          ],
          "mesh3d": [
           {
            "colorbar": {
             "outlinewidth": 0,
             "ticks": ""
            },
            "type": "mesh3d"
           }
          ],
          "parcoords": [
           {
            "line": {
             "colorbar": {
              "outlinewidth": 0,
              "ticks": ""
             }
            },
            "type": "parcoords"
           }
          ],
          "pie": [
           {
            "automargin": true,
            "type": "pie"
           }
          ],
          "scatter": [
           {
            "fillpattern": {
             "fillmode": "overlay",
             "size": 10,
             "solidity": 0.2
            },
            "type": "scatter"
           }
          ],
          "scatter3d": [
           {
            "line": {
             "colorbar": {
              "outlinewidth": 0,
              "ticks": ""
             }
            },
            "marker": {
             "colorbar": {
              "outlinewidth": 0,
              "ticks": ""
             }
            },
            "type": "scatter3d"
           }
          ],
          "scattercarpet": [
           {
            "marker": {
             "colorbar": {
              "outlinewidth": 0,
              "ticks": ""
             }
            },
            "type": "scattercarpet"
           }
          ],
          "scattergeo": [
           {
            "marker": {
             "colorbar": {
              "outlinewidth": 0,
              "ticks": ""
             }
            },
            "type": "scattergeo"
           }
          ],
          "scattergl": [
           {
            "marker": {
             "colorbar": {
              "outlinewidth": 0,
              "ticks": ""
             }
            },
            "type": "scattergl"
           }
          ],
          "scattermapbox": [
           {
            "marker": {
             "colorbar": {
              "outlinewidth": 0,
              "ticks": ""
             }
            },
            "type": "scattermapbox"
           }
          ],
          "scatterpolar": [
           {
            "marker": {
             "colorbar": {
              "outlinewidth": 0,
              "ticks": ""
             }
            },
            "type": "scatterpolar"
           }
          ],
          "scatterpolargl": [
           {
            "marker": {
             "colorbar": {
              "outlinewidth": 0,
              "ticks": ""
             }
            },
            "type": "scatterpolargl"
           }
          ],
          "scatterternary": [
           {
            "marker": {
             "colorbar": {
              "outlinewidth": 0,
              "ticks": ""
             }
            },
            "type": "scatterternary"
           }
          ],
          "surface": [
           {
            "colorbar": {
             "outlinewidth": 0,
             "ticks": ""
            },
            "colorscale": [
             [
              0,
              "#0d0887"
             ],
             [
              0.1111111111111111,
              "#46039f"
             ],
             [
              0.2222222222222222,
              "#7201a8"
             ],
             [
              0.3333333333333333,
              "#9c179e"
             ],
             [
              0.4444444444444444,
              "#bd3786"
             ],
             [
              0.5555555555555556,
              "#d8576b"
             ],
             [
              0.6666666666666666,
              "#ed7953"
             ],
             [
              0.7777777777777778,
              "#fb9f3a"
             ],
             [
              0.8888888888888888,
              "#fdca26"
             ],
             [
              1,
              "#f0f921"
             ]
            ],
            "type": "surface"
           }
          ],
          "table": [
           {
            "cells": {
             "fill": {
              "color": "#EBF0F8"
             },
             "line": {
              "color": "white"
             }
            },
            "header": {
             "fill": {
              "color": "#C8D4E3"
             },
             "line": {
              "color": "white"
             }
            },
            "type": "table"
           }
          ]
         },
         "layout": {
          "annotationdefaults": {
           "arrowcolor": "#2a3f5f",
           "arrowhead": 0,
           "arrowwidth": 1
          },
          "autotypenumbers": "strict",
          "coloraxis": {
           "colorbar": {
            "outlinewidth": 0,
            "ticks": ""
           }
          },
          "colorscale": {
           "diverging": [
            [
             0,
             "#8e0152"
            ],
            [
             0.1,
             "#c51b7d"
            ],
            [
             0.2,
             "#de77ae"
            ],
            [
             0.3,
             "#f1b6da"
            ],
            [
             0.4,
             "#fde0ef"
            ],
            [
             0.5,
             "#f7f7f7"
            ],
            [
             0.6,
             "#e6f5d0"
            ],
            [
             0.7,
             "#b8e186"
            ],
            [
             0.8,
             "#7fbc41"
            ],
            [
             0.9,
             "#4d9221"
            ],
            [
             1,
             "#276419"
            ]
           ],
           "sequential": [
            [
             0,
             "#0d0887"
            ],
            [
             0.1111111111111111,
             "#46039f"
            ],
            [
             0.2222222222222222,
             "#7201a8"
            ],
            [
             0.3333333333333333,
             "#9c179e"
            ],
            [
             0.4444444444444444,
             "#bd3786"
            ],
            [
             0.5555555555555556,
             "#d8576b"
            ],
            [
             0.6666666666666666,
             "#ed7953"
            ],
            [
             0.7777777777777778,
             "#fb9f3a"
            ],
            [
             0.8888888888888888,
             "#fdca26"
            ],
            [
             1,
             "#f0f921"
            ]
           ],
           "sequentialminus": [
            [
             0,
             "#0d0887"
            ],
            [
             0.1111111111111111,
             "#46039f"
            ],
            [
             0.2222222222222222,
             "#7201a8"
            ],
            [
             0.3333333333333333,
             "#9c179e"
            ],
            [
             0.4444444444444444,
             "#bd3786"
            ],
            [
             0.5555555555555556,
             "#d8576b"
            ],
            [
             0.6666666666666666,
             "#ed7953"
            ],
            [
             0.7777777777777778,
             "#fb9f3a"
            ],
            [
             0.8888888888888888,
             "#fdca26"
            ],
            [
             1,
             "#f0f921"
            ]
           ]
          },
          "colorway": [
           "#636efa",
           "#EF553B",
           "#00cc96",
           "#ab63fa",
           "#FFA15A",
           "#19d3f3",
           "#FF6692",
           "#B6E880",
           "#FF97FF",
           "#FECB52"
          ],
          "font": {
           "color": "#2a3f5f"
          },
          "geo": {
           "bgcolor": "white",
           "lakecolor": "white",
           "landcolor": "#E5ECF6",
           "showlakes": true,
           "showland": true,
           "subunitcolor": "white"
          },
          "hoverlabel": {
           "align": "left"
          },
          "hovermode": "closest",
          "mapbox": {
           "style": "light"
          },
          "paper_bgcolor": "white",
          "plot_bgcolor": "#E5ECF6",
          "polar": {
           "angularaxis": {
            "gridcolor": "white",
            "linecolor": "white",
            "ticks": ""
           },
           "bgcolor": "#E5ECF6",
           "radialaxis": {
            "gridcolor": "white",
            "linecolor": "white",
            "ticks": ""
           }
          },
          "scene": {
           "xaxis": {
            "backgroundcolor": "#E5ECF6",
            "gridcolor": "white",
            "gridwidth": 2,
            "linecolor": "white",
            "showbackground": true,
            "ticks": "",
            "zerolinecolor": "white"
           },
           "yaxis": {
            "backgroundcolor": "#E5ECF6",
            "gridcolor": "white",
            "gridwidth": 2,
            "linecolor": "white",
            "showbackground": true,
            "ticks": "",
            "zerolinecolor": "white"
           },
           "zaxis": {
            "backgroundcolor": "#E5ECF6",
            "gridcolor": "white",
            "gridwidth": 2,
            "linecolor": "white",
            "showbackground": true,
            "ticks": "",
            "zerolinecolor": "white"
           }
          },
          "shapedefaults": {
           "line": {
            "color": "#2a3f5f"
           }
          },
          "ternary": {
           "aaxis": {
            "gridcolor": "white",
            "linecolor": "white",
            "ticks": ""
           },
           "baxis": {
            "gridcolor": "white",
            "linecolor": "white",
            "ticks": ""
           },
           "bgcolor": "#E5ECF6",
           "caxis": {
            "gridcolor": "white",
            "linecolor": "white",
            "ticks": ""
           }
          },
          "title": {
           "x": 0.05
          },
          "xaxis": {
           "automargin": true,
           "gridcolor": "white",
           "linecolor": "white",
           "ticks": "",
           "title": {
            "standoff": 15
           },
           "zerolinecolor": "white",
           "zerolinewidth": 2
          },
          "yaxis": {
           "automargin": true,
           "gridcolor": "white",
           "linecolor": "white",
           "ticks": "",
           "title": {
            "standoff": 15
           },
           "zerolinecolor": "white",
           "zerolinewidth": 2
          }
         }
        },
        "title": {
         "text": "GANTT Chart"
        },
        "xaxis": {
         "range": [
          "1970-01-01T00:36:11",
          "1970-01-01T22:43:12"
         ],
         "title": {
          "font": {
           "color": "#7f7f7f",
           "family": "Courier New, monospace",
           "size": 18
          },
          "text": "Time"
         }
        },
        "yaxis": {
         "title": {
          "font": {
           "color": "#7f7f7f",
           "family": "Courier New, monospace",
           "size": 18
          },
          "text": "Activities"
         }
        }
       }
      },
      "text/html": [
       "<div>                            <div id=\"f1626a50-c337-4f89-a2fb-76754806a2e1\" class=\"plotly-graph-div\" style=\"height:525px; width:100%;\"></div>            <script type=\"text/javascript\">                require([\"plotly\"], function(Plotly) {                    window.PLOTLYENV=window.PLOTLYENV || {};                                    if (document.getElementById(\"f1626a50-c337-4f89-a2fb-76754806a2e1\")) {                    Plotly.newPlot(                        \"f1626a50-c337-4f89-a2fb-76754806a2e1\",                        [{\"connectgaps\":false,\"hoverinfo\":\"y+name\",\"line\":{\"color\":\"rgb(99,60,2)\",\"width\":10},\"mode\":\"lines\",\"name\":\"loading:Carrier C\",\"x\":[\"1970-01-01T00:36:11\",\"1970-01-01T00:36:11\",\"1970-01-01T01:09:31\",\"1970-01-01T01:09:31\",\"1970-01-01T01:09:31\",\"1970-01-01T02:58:04\",\"1970-01-01T02:58:04\",\"1970-01-01T03:31:24\",\"1970-01-01T03:31:24\",\"1970-01-01T03:31:24\",\"1970-01-01T05:23:33\",\"1970-01-01T05:23:33\",\"1970-01-01T05:56:53\",\"1970-01-01T05:56:53\",\"1970-01-01T05:56:53\",\"1970-01-01T07:45:26\",\"1970-01-01T07:45:26\",\"1970-01-01T08:18:46\",\"1970-01-01T08:18:46\",\"1970-01-01T08:18:46\",\"1970-01-01T10:07:19\",\"1970-01-01T10:07:19\",\"1970-01-01T10:40:39\",\"1970-01-01T10:40:39\",\"1970-01-01T10:40:39\",\"1970-01-01T12:32:48\",\"1970-01-01T12:32:48\",\"1970-01-01T13:06:08\",\"1970-01-01T13:06:08\",\"1970-01-01T13:06:08\",\"1970-01-01T15:31:50\",\"1970-01-01T15:31:50\",\"1970-01-01T16:05:10\",\"1970-01-01T16:05:10\",\"1970-01-01T16:05:10\",\"1970-01-01T18:30:52\",\"1970-01-01T18:30:52\",\"1970-01-01T19:04:12\",\"1970-01-01T19:04:12\",\"1970-01-01T19:04:12\",\"1970-01-01T00:36:11\",\"1970-01-01T00:36:11\",\"1970-01-01T01:09:31\",\"1970-01-01T01:09:31\",\"1970-01-01T01:09:31\",\"1970-01-01T02:58:04\",\"1970-01-01T02:58:04\",\"1970-01-01T03:31:24\",\"1970-01-01T03:31:24\",\"1970-01-01T03:31:24\",\"1970-01-01T05:23:33\",\"1970-01-01T05:23:33\",\"1970-01-01T05:56:53\",\"1970-01-01T05:56:53\",\"1970-01-01T05:56:53\",\"1970-01-01T07:45:26\",\"1970-01-01T07:45:26\",\"1970-01-01T08:18:46\",\"1970-01-01T08:18:46\",\"1970-01-01T08:18:46\",\"1970-01-01T10:07:19\",\"1970-01-01T10:07:19\",\"1970-01-01T10:40:39\",\"1970-01-01T10:40:39\",\"1970-01-01T10:40:39\",\"1970-01-01T12:32:48\",\"1970-01-01T12:32:48\",\"1970-01-01T13:06:08\",\"1970-01-01T13:06:08\",\"1970-01-01T13:06:08\",\"1970-01-01T15:31:50\",\"1970-01-01T15:31:50\",\"1970-01-01T16:05:10\",\"1970-01-01T16:05:10\",\"1970-01-01T16:05:10\",\"1970-01-01T18:30:52\",\"1970-01-01T18:30:52\",\"1970-01-01T19:04:12\",\"1970-01-01T19:04:12\",\"1970-01-01T19:04:12\"],\"y\":[\"Trench\",\"Trench\",\"Trench\",\"Trench\",null,\"Trench\",\"Trench\",\"Trench\",\"Trench\",null,\"Trench\",\"Trench\",\"Trench\",\"Trench\",null,\"Trench\",\"Trench\",\"Trench\",\"Trench\",null,\"Trench\",\"Trench\",\"Trench\",\"Trench\",null,\"Trench\",\"Trench\",\"Trench\",\"Trench\",null,\"Trench\",\"Trench\",\"Trench\",\"Trench\",null,\"Trench\",\"Trench\",\"Trench\",\"Trench\",null,\"Cutter T\",\"Cutter T\",\"Cutter T\",\"Cutter T\",null,\"Cutter T\",\"Cutter T\",\"Cutter T\",\"Cutter T\",null,\"Cutter T\",\"Cutter T\",\"Cutter T\",\"Cutter T\",null,\"Cutter T\",\"Cutter T\",\"Cutter T\",\"Cutter T\",null,\"Cutter T\",\"Cutter T\",\"Cutter T\",\"Cutter T\",null,\"Cutter T\",\"Cutter T\",\"Cutter T\",\"Cutter T\",null,\"Cutter T\",\"Cutter T\",\"Cutter T\",\"Cutter T\",null,\"Cutter T\",\"Cutter T\",\"Cutter T\",\"Cutter T\",null],\"type\":\"scatter\"},{\"connectgaps\":false,\"hoverinfo\":\"y+name\",\"line\":{\"color\":\"rgb(127,88,30)\",\"width\":10},\"mode\":\"lines\",\"name\":\"loading:Carrier B\",\"x\":[\"1970-01-01T01:09:31\",\"1970-01-01T01:09:31\",\"1970-01-01T01:51:11\",\"1970-01-01T01:51:11\",\"1970-01-01T01:51:11\",\"1970-01-01T03:41:08\",\"1970-01-01T03:41:08\",\"1970-01-01T04:22:48\",\"1970-01-01T04:22:48\",\"1970-01-01T04:22:48\",\"1970-01-01T06:12:45\",\"1970-01-01T06:12:45\",\"1970-01-01T06:54:25\",\"1970-01-01T06:54:25\",\"1970-01-01T06:54:25\",\"1970-01-01T08:52:06\",\"1970-01-01T08:52:06\",\"1970-01-01T09:33:46\",\"1970-01-01T09:33:46\",\"1970-01-01T09:33:46\",\"1970-01-01T11:51:08\",\"1970-01-01T11:51:08\",\"1970-01-01T12:32:48\",\"1970-01-01T12:32:48\",\"1970-01-01T12:32:48\",\"1970-01-01T14:50:10\",\"1970-01-01T14:50:10\",\"1970-01-01T15:31:50\",\"1970-01-01T15:31:50\",\"1970-01-01T15:31:50\",\"1970-01-01T17:49:12\",\"1970-01-01T17:49:12\",\"1970-01-01T18:30:52\",\"1970-01-01T18:30:52\",\"1970-01-01T18:30:52\",\"1970-01-01T20:48:14\",\"1970-01-01T20:48:14\",\"1970-01-01T21:29:54\",\"1970-01-01T21:29:54\",\"1970-01-01T21:29:54\",\"1970-01-01T01:09:31\",\"1970-01-01T01:09:31\",\"1970-01-01T01:51:11\",\"1970-01-01T01:51:11\",\"1970-01-01T01:51:11\",\"1970-01-01T03:41:08\",\"1970-01-01T03:41:08\",\"1970-01-01T04:22:48\",\"1970-01-01T04:22:48\",\"1970-01-01T04:22:48\",\"1970-01-01T06:12:45\",\"1970-01-01T06:12:45\",\"1970-01-01T06:54:25\",\"1970-01-01T06:54:25\",\"1970-01-01T06:54:25\",\"1970-01-01T08:52:06\",\"1970-01-01T08:52:06\",\"1970-01-01T09:33:46\",\"1970-01-01T09:33:46\",\"1970-01-01T09:33:46\",\"1970-01-01T11:51:08\",\"1970-01-01T11:51:08\",\"1970-01-01T12:32:48\",\"1970-01-01T12:32:48\",\"1970-01-01T12:32:48\",\"1970-01-01T14:50:10\",\"1970-01-01T14:50:10\",\"1970-01-01T15:31:50\",\"1970-01-01T15:31:50\",\"1970-01-01T15:31:50\",\"1970-01-01T17:49:12\",\"1970-01-01T17:49:12\",\"1970-01-01T18:30:52\",\"1970-01-01T18:30:52\",\"1970-01-01T18:30:52\",\"1970-01-01T20:48:14\",\"1970-01-01T20:48:14\",\"1970-01-01T21:29:54\",\"1970-01-01T21:29:54\",\"1970-01-01T21:29:54\"],\"y\":[\"Trench\",\"Trench\",\"Trench\",\"Trench\",null,\"Trench\",\"Trench\",\"Trench\",\"Trench\",null,\"Trench\",\"Trench\",\"Trench\",\"Trench\",null,\"Trench\",\"Trench\",\"Trench\",\"Trench\",null,\"Trench\",\"Trench\",\"Trench\",\"Trench\",null,\"Trench\",\"Trench\",\"Trench\",\"Trench\",null,\"Trench\",\"Trench\",\"Trench\",\"Trench\",null,\"Trench\",\"Trench\",\"Trench\",\"Trench\",null,\"Cutter T\",\"Cutter T\",\"Cutter T\",\"Cutter T\",null,\"Cutter T\",\"Cutter T\",\"Cutter T\",\"Cutter T\",null,\"Cutter T\",\"Cutter T\",\"Cutter T\",\"Cutter T\",null,\"Cutter T\",\"Cutter T\",\"Cutter T\",\"Cutter T\",null,\"Cutter T\",\"Cutter T\",\"Cutter T\",\"Cutter T\",null,\"Cutter T\",\"Cutter T\",\"Cutter T\",\"Cutter T\",null,\"Cutter T\",\"Cutter T\",\"Cutter T\",\"Cutter T\",null,\"Cutter T\",\"Cutter T\",\"Cutter T\",\"Cutter T\",null],\"type\":\"scatter\"},{\"connectgaps\":false,\"hoverinfo\":\"y+name\",\"line\":{\"color\":\"rgb(155,116,58)\",\"width\":10},\"mode\":\"lines\",\"name\":\"loading:Carrier A\",\"x\":[\"1970-01-01T01:51:11\",\"1970-01-01T01:51:11\",\"1970-01-01T02:24:31\",\"1970-01-01T02:24:31\",\"1970-01-01T02:24:31\",\"1970-01-01T04:50:13\",\"1970-01-01T04:50:13\",\"1970-01-01T05:23:33\",\"1970-01-01T05:23:33\",\"1970-01-01T05:23:33\",\"1970-01-01T08:18:46\",\"1970-01-01T08:18:46\",\"1970-01-01T08:52:06\",\"1970-01-01T08:52:06\",\"1970-01-01T08:52:06\",\"1970-01-01T11:17:48\",\"1970-01-01T11:17:48\",\"1970-01-01T11:51:08\",\"1970-01-01T11:51:08\",\"1970-01-01T11:51:08\",\"1970-01-01T14:16:50\",\"1970-01-01T14:16:50\",\"1970-01-01T14:50:10\",\"1970-01-01T14:50:10\",\"1970-01-01T14:50:10\",\"1970-01-01T17:15:52\",\"1970-01-01T17:15:52\",\"1970-01-01T17:49:12\",\"1970-01-01T17:49:12\",\"1970-01-01T17:49:12\",\"1970-01-01T20:14:54\",\"1970-01-01T20:14:54\",\"1970-01-01T20:48:14\",\"1970-01-01T20:48:14\",\"1970-01-01T20:48:14\",\"1970-01-01T01:51:11\",\"1970-01-01T01:51:11\",\"1970-01-01T02:24:31\",\"1970-01-01T02:24:31\",\"1970-01-01T02:24:31\",\"1970-01-01T04:50:13\",\"1970-01-01T04:50:13\",\"1970-01-01T05:23:33\",\"1970-01-01T05:23:33\",\"1970-01-01T05:23:33\",\"1970-01-01T08:18:46\",\"1970-01-01T08:18:46\",\"1970-01-01T08:52:06\",\"1970-01-01T08:52:06\",\"1970-01-01T08:52:06\",\"1970-01-01T11:17:48\",\"1970-01-01T11:17:48\",\"1970-01-01T11:51:08\",\"1970-01-01T11:51:08\",\"1970-01-01T11:51:08\",\"1970-01-01T14:16:50\",\"1970-01-01T14:16:50\",\"1970-01-01T14:50:10\",\"1970-01-01T14:50:10\",\"1970-01-01T14:50:10\",\"1970-01-01T17:15:52\",\"1970-01-01T17:15:52\",\"1970-01-01T17:49:12\",\"1970-01-01T17:49:12\",\"1970-01-01T17:49:12\",\"1970-01-01T20:14:54\",\"1970-01-01T20:14:54\",\"1970-01-01T20:48:14\",\"1970-01-01T20:48:14\",\"1970-01-01T20:48:14\"],\"y\":[\"Trench\",\"Trench\",\"Trench\",\"Trench\",null,\"Trench\",\"Trench\",\"Trench\",\"Trench\",null,\"Trench\",\"Trench\",\"Trench\",\"Trench\",null,\"Trench\",\"Trench\",\"Trench\",\"Trench\",null,\"Trench\",\"Trench\",\"Trench\",\"Trench\",null,\"Trench\",\"Trench\",\"Trench\",\"Trench\",null,\"Trench\",\"Trench\",\"Trench\",\"Trench\",null,\"Cutter T\",\"Cutter T\",\"Cutter T\",\"Cutter T\",null,\"Cutter T\",\"Cutter T\",\"Cutter T\",\"Cutter T\",null,\"Cutter T\",\"Cutter T\",\"Cutter T\",\"Cutter T\",null,\"Cutter T\",\"Cutter T\",\"Cutter T\",\"Cutter T\",null,\"Cutter T\",\"Cutter T\",\"Cutter T\",\"Cutter T\",null,\"Cutter T\",\"Cutter T\",\"Cutter T\",\"Cutter T\",null,\"Cutter T\",\"Cutter T\",\"Cutter T\",\"Cutter T\",null],\"type\":\"scatter\"},{\"connectgaps\":false,\"hoverinfo\":\"y+name\",\"line\":{\"color\":\"rgb(183,144,86)\",\"width\":10},\"mode\":\"lines\",\"name\":\"unloading:Carrier C\",\"x\":[\"1970-01-01T01:45:42\",\"1970-01-01T01:45:42\",\"1970-01-01T02:21:53\",\"1970-01-01T02:21:53\",\"1970-01-01T02:21:53\",\"1970-01-01T04:07:35\",\"1970-01-01T04:07:35\",\"1970-01-01T04:43:46\",\"1970-01-01T04:43:46\",\"1970-01-01T04:43:46\",\"1970-01-01T06:33:04\",\"1970-01-01T06:33:04\",\"1970-01-01T07:09:15\",\"1970-01-01T07:09:15\",\"1970-01-01T07:09:15\",\"1970-01-01T08:54:57\",\"1970-01-01T08:54:57\",\"1970-01-01T09:31:08\",\"1970-01-01T09:31:08\",\"1970-01-01T09:31:08\",\"1970-01-01T11:16:50\",\"1970-01-01T11:16:50\",\"1970-01-01T11:53:01\",\"1970-01-01T11:53:01\",\"1970-01-01T11:53:01\",\"1970-01-01T13:42:19\",\"1970-01-01T13:42:19\",\"1970-01-01T14:18:30\",\"1970-01-01T14:18:30\",\"1970-01-01T14:18:30\",\"1970-01-01T16:41:21\",\"1970-01-01T16:41:21\",\"1970-01-01T17:17:32\",\"1970-01-01T17:17:32\",\"1970-01-01T17:17:32\",\"1970-01-01T19:40:23\",\"1970-01-01T19:40:23\",\"1970-01-01T20:16:34\",\"1970-01-01T20:16:34\",\"1970-01-01T20:16:34\"],\"y\":[\"Reclamation\",\"Reclamation\",\"Reclamation\",\"Reclamation\",null,\"Reclamation\",\"Reclamation\",\"Reclamation\",\"Reclamation\",null,\"Reclamation\",\"Reclamation\",\"Reclamation\",\"Reclamation\",null,\"Reclamation\",\"Reclamation\",\"Reclamation\",\"Reclamation\",null,\"Reclamation\",\"Reclamation\",\"Reclamation\",\"Reclamation\",null,\"Reclamation\",\"Reclamation\",\"Reclamation\",\"Reclamation\",null,\"Reclamation\",\"Reclamation\",\"Reclamation\",\"Reclamation\",null,\"Reclamation\",\"Reclamation\",\"Reclamation\",\"Reclamation\",null],\"type\":\"scatter\"},{\"connectgaps\":false,\"hoverinfo\":\"y+name\",\"line\":{\"color\":\"rgb(211,172,114)\",\"width\":10},\"mode\":\"lines\",\"name\":\"unloading:Carrier A\",\"x\":[\"1970-01-01T03:13:05\",\"1970-01-01T03:13:05\",\"1970-01-01T04:01:39\",\"1970-01-01T04:01:39\",\"1970-01-01T04:01:39\",\"1970-01-01T06:12:07\",\"1970-01-01T06:12:07\",\"1970-01-01T07:00:41\",\"1970-01-01T07:00:41\",\"1970-01-01T07:00:41\",\"1970-01-01T09:40:40\",\"1970-01-01T09:40:40\",\"1970-01-01T10:29:14\",\"1970-01-01T10:29:14\",\"1970-01-01T10:29:14\",\"1970-01-01T12:39:42\",\"1970-01-01T12:39:42\",\"1970-01-01T13:28:16\",\"1970-01-01T13:28:16\",\"1970-01-01T13:28:16\",\"1970-01-01T15:38:44\",\"1970-01-01T15:38:44\",\"1970-01-01T16:27:18\",\"1970-01-01T16:27:18\",\"1970-01-01T16:27:18\",\"1970-01-01T18:37:46\",\"1970-01-01T18:37:46\",\"1970-01-01T19:26:20\",\"1970-01-01T19:26:20\",\"1970-01-01T19:26:20\",\"1970-01-01T21:36:48\",\"1970-01-01T21:36:48\",\"1970-01-01T22:25:22\",\"1970-01-01T22:25:22\",\"1970-01-01T22:25:22\"],\"y\":[\"Reclamation\",\"Reclamation\",\"Reclamation\",\"Reclamation\",null,\"Reclamation\",\"Reclamation\",\"Reclamation\",\"Reclamation\",null,\"Reclamation\",\"Reclamation\",\"Reclamation\",\"Reclamation\",null,\"Reclamation\",\"Reclamation\",\"Reclamation\",\"Reclamation\",null,\"Reclamation\",\"Reclamation\",\"Reclamation\",\"Reclamation\",null,\"Reclamation\",\"Reclamation\",\"Reclamation\",\"Reclamation\",null,\"Reclamation\",\"Reclamation\",\"Reclamation\",\"Reclamation\",null],\"type\":\"scatter\"},{\"connectgaps\":false,\"hoverinfo\":\"y+name\",\"line\":{\"color\":\"rgb(239,200,142)\",\"width\":10},\"mode\":\"lines\",\"name\":\"unloading:Carrier B\",\"x\":[\"1970-01-01T02:27:50\",\"1970-01-01T02:27:50\",\"1970-01-01T03:04:29\",\"1970-01-01T03:04:29\",\"1970-01-01T03:04:29\",\"1970-01-01T04:59:27\",\"1970-01-01T04:59:27\",\"1970-01-01T05:36:06\",\"1970-01-01T05:36:06\",\"1970-01-01T05:36:06\",\"1970-01-01T07:31:04\",\"1970-01-01T07:31:04\",\"1970-01-01T08:07:43\",\"1970-01-01T08:07:43\",\"1970-01-01T08:07:43\",\"1970-01-01T10:10:25\",\"1970-01-01T10:10:25\",\"1970-01-01T10:47:04\",\"1970-01-01T10:47:04\",\"1970-01-01T10:47:04\",\"1970-01-01T13:09:27\",\"1970-01-01T13:09:27\",\"1970-01-01T13:46:06\",\"1970-01-01T13:46:06\",\"1970-01-01T13:46:06\",\"1970-01-01T16:08:29\",\"1970-01-01T16:08:29\",\"1970-01-01T16:45:08\",\"1970-01-01T16:45:08\",\"1970-01-01T16:45:08\",\"1970-01-01T19:07:31\",\"1970-01-01T19:07:31\",\"1970-01-01T19:44:10\",\"1970-01-01T19:44:10\",\"1970-01-01T19:44:10\",\"1970-01-01T22:06:33\",\"1970-01-01T22:06:33\",\"1970-01-01T22:43:12\",\"1970-01-01T22:43:12\",\"1970-01-01T22:43:12\"],\"y\":[\"Reclamation\",\"Reclamation\",\"Reclamation\",\"Reclamation\",null,\"Reclamation\",\"Reclamation\",\"Reclamation\",\"Reclamation\",null,\"Reclamation\",\"Reclamation\",\"Reclamation\",\"Reclamation\",null,\"Reclamation\",\"Reclamation\",\"Reclamation\",\"Reclamation\",null,\"Reclamation\",\"Reclamation\",\"Reclamation\",\"Reclamation\",null,\"Reclamation\",\"Reclamation\",\"Reclamation\",\"Reclamation\",null,\"Reclamation\",\"Reclamation\",\"Reclamation\",\"Reclamation\",null,\"Reclamation\",\"Reclamation\",\"Reclamation\",\"Reclamation\",null],\"type\":\"scatter\"},{\"connectgaps\":false,\"hoverinfo\":\"y+name\",\"line\":{\"color\":\"rgb(11,228,170)\",\"width\":10},\"mode\":\"lines\",\"name\":\"loading:Carrier C\",\"x\":[\"1970-01-01T00:36:11\",\"1970-01-01T00:36:11\",\"1970-01-01T01:09:31\",\"1970-01-01T01:09:31\",\"1970-01-01T01:09:31\",\"1970-01-01T02:58:04\",\"1970-01-01T02:58:04\",\"1970-01-01T03:31:24\",\"1970-01-01T03:31:24\",\"1970-01-01T03:31:24\",\"1970-01-01T05:23:33\",\"1970-01-01T05:23:33\",\"1970-01-01T05:56:53\",\"1970-01-01T05:56:53\",\"1970-01-01T05:56:53\",\"1970-01-01T07:45:26\",\"1970-01-01T07:45:26\",\"1970-01-01T08:18:46\",\"1970-01-01T08:18:46\",\"1970-01-01T08:18:46\",\"1970-01-01T10:07:19\",\"1970-01-01T10:07:19\",\"1970-01-01T10:40:39\",\"1970-01-01T10:40:39\",\"1970-01-01T10:40:39\",\"1970-01-01T12:32:48\",\"1970-01-01T12:32:48\",\"1970-01-01T13:06:08\",\"1970-01-01T13:06:08\",\"1970-01-01T13:06:08\",\"1970-01-01T15:31:50\",\"1970-01-01T15:31:50\",\"1970-01-01T16:05:10\",\"1970-01-01T16:05:10\",\"1970-01-01T16:05:10\",\"1970-01-01T18:30:52\",\"1970-01-01T18:30:52\",\"1970-01-01T19:04:12\",\"1970-01-01T19:04:12\",\"1970-01-01T19:04:12\",\"1970-01-01T00:36:11\",\"1970-01-01T00:36:11\",\"1970-01-01T01:09:31\",\"1970-01-01T01:09:31\",\"1970-01-01T01:09:31\",\"1970-01-01T02:58:04\",\"1970-01-01T02:58:04\",\"1970-01-01T03:31:24\",\"1970-01-01T03:31:24\",\"1970-01-01T03:31:24\",\"1970-01-01T05:23:33\",\"1970-01-01T05:23:33\",\"1970-01-01T05:56:53\",\"1970-01-01T05:56:53\",\"1970-01-01T05:56:53\",\"1970-01-01T07:45:26\",\"1970-01-01T07:45:26\",\"1970-01-01T08:18:46\",\"1970-01-01T08:18:46\",\"1970-01-01T08:18:46\",\"1970-01-01T10:07:19\",\"1970-01-01T10:07:19\",\"1970-01-01T10:40:39\",\"1970-01-01T10:40:39\",\"1970-01-01T10:40:39\",\"1970-01-01T12:32:48\",\"1970-01-01T12:32:48\",\"1970-01-01T13:06:08\",\"1970-01-01T13:06:08\",\"1970-01-01T13:06:08\",\"1970-01-01T15:31:50\",\"1970-01-01T15:31:50\",\"1970-01-01T16:05:10\",\"1970-01-01T16:05:10\",\"1970-01-01T16:05:10\",\"1970-01-01T18:30:52\",\"1970-01-01T18:30:52\",\"1970-01-01T19:04:12\",\"1970-01-01T19:04:12\",\"1970-01-01T19:04:12\"],\"y\":[\"Trench\",\"Trench\",\"Trench\",\"Trench\",null,\"Trench\",\"Trench\",\"Trench\",\"Trench\",null,\"Trench\",\"Trench\",\"Trench\",\"Trench\",null,\"Trench\",\"Trench\",\"Trench\",\"Trench\",null,\"Trench\",\"Trench\",\"Trench\",\"Trench\",null,\"Trench\",\"Trench\",\"Trench\",\"Trench\",null,\"Trench\",\"Trench\",\"Trench\",\"Trench\",null,\"Trench\",\"Trench\",\"Trench\",\"Trench\",null,\"Cutter T\",\"Cutter T\",\"Cutter T\",\"Cutter T\",null,\"Cutter T\",\"Cutter T\",\"Cutter T\",\"Cutter T\",null,\"Cutter T\",\"Cutter T\",\"Cutter T\",\"Cutter T\",null,\"Cutter T\",\"Cutter T\",\"Cutter T\",\"Cutter T\",null,\"Cutter T\",\"Cutter T\",\"Cutter T\",\"Cutter T\",null,\"Cutter T\",\"Cutter T\",\"Cutter T\",\"Cutter T\",null,\"Cutter T\",\"Cutter T\",\"Cutter T\",\"Cutter T\",null,\"Cutter T\",\"Cutter T\",\"Cutter T\",\"Cutter T\",null],\"type\":\"scatter\"},{\"connectgaps\":false,\"hoverinfo\":\"y+name\",\"line\":{\"color\":\"rgb(39,0,198)\",\"width\":10},\"mode\":\"lines\",\"name\":\"loading:Carrier B\",\"x\":[\"1970-01-01T01:09:31\",\"1970-01-01T01:09:31\",\"1970-01-01T01:51:11\",\"1970-01-01T01:51:11\",\"1970-01-01T01:51:11\",\"1970-01-01T03:41:08\",\"1970-01-01T03:41:08\",\"1970-01-01T04:22:48\",\"1970-01-01T04:22:48\",\"1970-01-01T04:22:48\",\"1970-01-01T06:12:45\",\"1970-01-01T06:12:45\",\"1970-01-01T06:54:25\",\"1970-01-01T06:54:25\",\"1970-01-01T06:54:25\",\"1970-01-01T08:52:06\",\"1970-01-01T08:52:06\",\"1970-01-01T09:33:46\",\"1970-01-01T09:33:46\",\"1970-01-01T09:33:46\",\"1970-01-01T11:51:08\",\"1970-01-01T11:51:08\",\"1970-01-01T12:32:48\",\"1970-01-01T12:32:48\",\"1970-01-01T12:32:48\",\"1970-01-01T14:50:10\",\"1970-01-01T14:50:10\",\"1970-01-01T15:31:50\",\"1970-01-01T15:31:50\",\"1970-01-01T15:31:50\",\"1970-01-01T17:49:12\",\"1970-01-01T17:49:12\",\"1970-01-01T18:30:52\",\"1970-01-01T18:30:52\",\"1970-01-01T18:30:52\",\"1970-01-01T20:48:14\",\"1970-01-01T20:48:14\",\"1970-01-01T21:29:54\",\"1970-01-01T21:29:54\",\"1970-01-01T21:29:54\",\"1970-01-01T01:09:31\",\"1970-01-01T01:09:31\",\"1970-01-01T01:51:11\",\"1970-01-01T01:51:11\",\"1970-01-01T01:51:11\",\"1970-01-01T03:41:08\",\"1970-01-01T03:41:08\",\"1970-01-01T04:22:48\",\"1970-01-01T04:22:48\",\"1970-01-01T04:22:48\",\"1970-01-01T06:12:45\",\"1970-01-01T06:12:45\",\"1970-01-01T06:54:25\",\"1970-01-01T06:54:25\",\"1970-01-01T06:54:25\",\"1970-01-01T08:52:06\",\"1970-01-01T08:52:06\",\"1970-01-01T09:33:46\",\"1970-01-01T09:33:46\",\"1970-01-01T09:33:46\",\"1970-01-01T11:51:08\",\"1970-01-01T11:51:08\",\"1970-01-01T12:32:48\",\"1970-01-01T12:32:48\",\"1970-01-01T12:32:48\",\"1970-01-01T14:50:10\",\"1970-01-01T14:50:10\",\"1970-01-01T15:31:50\",\"1970-01-01T15:31:50\",\"1970-01-01T15:31:50\",\"1970-01-01T17:49:12\",\"1970-01-01T17:49:12\",\"1970-01-01T18:30:52\",\"1970-01-01T18:30:52\",\"1970-01-01T18:30:52\",\"1970-01-01T20:48:14\",\"1970-01-01T20:48:14\",\"1970-01-01T21:29:54\",\"1970-01-01T21:29:54\",\"1970-01-01T21:29:54\"],\"y\":[\"Trench\",\"Trench\",\"Trench\",\"Trench\",null,\"Trench\",\"Trench\",\"Trench\",\"Trench\",null,\"Trench\",\"Trench\",\"Trench\",\"Trench\",null,\"Trench\",\"Trench\",\"Trench\",\"Trench\",null,\"Trench\",\"Trench\",\"Trench\",\"Trench\",null,\"Trench\",\"Trench\",\"Trench\",\"Trench\",null,\"Trench\",\"Trench\",\"Trench\",\"Trench\",null,\"Trench\",\"Trench\",\"Trench\",\"Trench\",null,\"Cutter T\",\"Cutter T\",\"Cutter T\",\"Cutter T\",null,\"Cutter T\",\"Cutter T\",\"Cutter T\",\"Cutter T\",null,\"Cutter T\",\"Cutter T\",\"Cutter T\",\"Cutter T\",null,\"Cutter T\",\"Cutter T\",\"Cutter T\",\"Cutter T\",null,\"Cutter T\",\"Cutter T\",\"Cutter T\",\"Cutter T\",null,\"Cutter T\",\"Cutter T\",\"Cutter T\",\"Cutter T\",null,\"Cutter T\",\"Cutter T\",\"Cutter T\",\"Cutter T\",null,\"Cutter T\",\"Cutter T\",\"Cutter T\",\"Cutter T\",null],\"type\":\"scatter\"},{\"connectgaps\":false,\"hoverinfo\":\"y+name\",\"line\":{\"color\":\"rgb(67,28,226)\",\"width\":10},\"mode\":\"lines\",\"name\":\"loading:Carrier A\",\"x\":[\"1970-01-01T01:51:11\",\"1970-01-01T01:51:11\",\"1970-01-01T02:24:31\",\"1970-01-01T02:24:31\",\"1970-01-01T02:24:31\",\"1970-01-01T04:50:13\",\"1970-01-01T04:50:13\",\"1970-01-01T05:23:33\",\"1970-01-01T05:23:33\",\"1970-01-01T05:23:33\",\"1970-01-01T08:18:46\",\"1970-01-01T08:18:46\",\"1970-01-01T08:52:06\",\"1970-01-01T08:52:06\",\"1970-01-01T08:52:06\",\"1970-01-01T11:17:48\",\"1970-01-01T11:17:48\",\"1970-01-01T11:51:08\",\"1970-01-01T11:51:08\",\"1970-01-01T11:51:08\",\"1970-01-01T14:16:50\",\"1970-01-01T14:16:50\",\"1970-01-01T14:50:10\",\"1970-01-01T14:50:10\",\"1970-01-01T14:50:10\",\"1970-01-01T17:15:52\",\"1970-01-01T17:15:52\",\"1970-01-01T17:49:12\",\"1970-01-01T17:49:12\",\"1970-01-01T17:49:12\",\"1970-01-01T20:14:54\",\"1970-01-01T20:14:54\",\"1970-01-01T20:48:14\",\"1970-01-01T20:48:14\",\"1970-01-01T20:48:14\",\"1970-01-01T01:51:11\",\"1970-01-01T01:51:11\",\"1970-01-01T02:24:31\",\"1970-01-01T02:24:31\",\"1970-01-01T02:24:31\",\"1970-01-01T04:50:13\",\"1970-01-01T04:50:13\",\"1970-01-01T05:23:33\",\"1970-01-01T05:23:33\",\"1970-01-01T05:23:33\",\"1970-01-01T08:18:46\",\"1970-01-01T08:18:46\",\"1970-01-01T08:52:06\",\"1970-01-01T08:52:06\",\"1970-01-01T08:52:06\",\"1970-01-01T11:17:48\",\"1970-01-01T11:17:48\",\"1970-01-01T11:51:08\",\"1970-01-01T11:51:08\",\"1970-01-01T11:51:08\",\"1970-01-01T14:16:50\",\"1970-01-01T14:16:50\",\"1970-01-01T14:50:10\",\"1970-01-01T14:50:10\",\"1970-01-01T14:50:10\",\"1970-01-01T17:15:52\",\"1970-01-01T17:15:52\",\"1970-01-01T17:49:12\",\"1970-01-01T17:49:12\",\"1970-01-01T17:49:12\",\"1970-01-01T20:14:54\",\"1970-01-01T20:14:54\",\"1970-01-01T20:48:14\",\"1970-01-01T20:48:14\",\"1970-01-01T20:48:14\"],\"y\":[\"Trench\",\"Trench\",\"Trench\",\"Trench\",null,\"Trench\",\"Trench\",\"Trench\",\"Trench\",null,\"Trench\",\"Trench\",\"Trench\",\"Trench\",null,\"Trench\",\"Trench\",\"Trench\",\"Trench\",null,\"Trench\",\"Trench\",\"Trench\",\"Trench\",null,\"Trench\",\"Trench\",\"Trench\",\"Trench\",null,\"Trench\",\"Trench\",\"Trench\",\"Trench\",null,\"Cutter T\",\"Cutter T\",\"Cutter T\",\"Cutter T\",null,\"Cutter T\",\"Cutter T\",\"Cutter T\",\"Cutter T\",null,\"Cutter T\",\"Cutter T\",\"Cutter T\",\"Cutter T\",null,\"Cutter T\",\"Cutter T\",\"Cutter T\",\"Cutter T\",null,\"Cutter T\",\"Cutter T\",\"Cutter T\",\"Cutter T\",null,\"Cutter T\",\"Cutter T\",\"Cutter T\",\"Cutter T\",null,\"Cutter T\",\"Cutter T\",\"Cutter T\",\"Cutter T\",null],\"type\":\"scatter\"}],                        {\"hovermode\":\"closest\",\"legend\":{\"orientation\":\"h\",\"x\":0,\"y\":-0.2},\"template\":{\"data\":{\"barpolar\":[{\"marker\":{\"line\":{\"color\":\"#E5ECF6\",\"width\":0.5},\"pattern\":{\"fillmode\":\"overlay\",\"size\":10,\"solidity\":0.2}},\"type\":\"barpolar\"}],\"bar\":[{\"error_x\":{\"color\":\"#2a3f5f\"},\"error_y\":{\"color\":\"#2a3f5f\"},\"marker\":{\"line\":{\"color\":\"#E5ECF6\",\"width\":0.5},\"pattern\":{\"fillmode\":\"overlay\",\"size\":10,\"solidity\":0.2}},\"type\":\"bar\"}],\"carpet\":[{\"aaxis\":{\"endlinecolor\":\"#2a3f5f\",\"gridcolor\":\"white\",\"linecolor\":\"white\",\"minorgridcolor\":\"white\",\"startlinecolor\":\"#2a3f5f\"},\"baxis\":{\"endlinecolor\":\"#2a3f5f\",\"gridcolor\":\"white\",\"linecolor\":\"white\",\"minorgridcolor\":\"white\",\"startlinecolor\":\"#2a3f5f\"},\"type\":\"carpet\"}],\"choropleth\":[{\"colorbar\":{\"outlinewidth\":0,\"ticks\":\"\"},\"type\":\"choropleth\"}],\"contourcarpet\":[{\"colorbar\":{\"outlinewidth\":0,\"ticks\":\"\"},\"type\":\"contourcarpet\"}],\"contour\":[{\"colorbar\":{\"outlinewidth\":0,\"ticks\":\"\"},\"colorscale\":[[0.0,\"#0d0887\"],[0.1111111111111111,\"#46039f\"],[0.2222222222222222,\"#7201a8\"],[0.3333333333333333,\"#9c179e\"],[0.4444444444444444,\"#bd3786\"],[0.5555555555555556,\"#d8576b\"],[0.6666666666666666,\"#ed7953\"],[0.7777777777777778,\"#fb9f3a\"],[0.8888888888888888,\"#fdca26\"],[1.0,\"#f0f921\"]],\"type\":\"contour\"}],\"heatmapgl\":[{\"colorbar\":{\"outlinewidth\":0,\"ticks\":\"\"},\"colorscale\":[[0.0,\"#0d0887\"],[0.1111111111111111,\"#46039f\"],[0.2222222222222222,\"#7201a8\"],[0.3333333333333333,\"#9c179e\"],[0.4444444444444444,\"#bd3786\"],[0.5555555555555556,\"#d8576b\"],[0.6666666666666666,\"#ed7953\"],[0.7777777777777778,\"#fb9f3a\"],[0.8888888888888888,\"#fdca26\"],[1.0,\"#f0f921\"]],\"type\":\"heatmapgl\"}],\"heatmap\":[{\"colorbar\":{\"outlinewidth\":0,\"ticks\":\"\"},\"colorscale\":[[0.0,\"#0d0887\"],[0.1111111111111111,\"#46039f\"],[0.2222222222222222,\"#7201a8\"],[0.3333333333333333,\"#9c179e\"],[0.4444444444444444,\"#bd3786\"],[0.5555555555555556,\"#d8576b\"],[0.6666666666666666,\"#ed7953\"],[0.7777777777777778,\"#fb9f3a\"],[0.8888888888888888,\"#fdca26\"],[1.0,\"#f0f921\"]],\"type\":\"heatmap\"}],\"histogram2dcontour\":[{\"colorbar\":{\"outlinewidth\":0,\"ticks\":\"\"},\"colorscale\":[[0.0,\"#0d0887\"],[0.1111111111111111,\"#46039f\"],[0.2222222222222222,\"#7201a8\"],[0.3333333333333333,\"#9c179e\"],[0.4444444444444444,\"#bd3786\"],[0.5555555555555556,\"#d8576b\"],[0.6666666666666666,\"#ed7953\"],[0.7777777777777778,\"#fb9f3a\"],[0.8888888888888888,\"#fdca26\"],[1.0,\"#f0f921\"]],\"type\":\"histogram2dcontour\"}],\"histogram2d\":[{\"colorbar\":{\"outlinewidth\":0,\"ticks\":\"\"},\"colorscale\":[[0.0,\"#0d0887\"],[0.1111111111111111,\"#46039f\"],[0.2222222222222222,\"#7201a8\"],[0.3333333333333333,\"#9c179e\"],[0.4444444444444444,\"#bd3786\"],[0.5555555555555556,\"#d8576b\"],[0.6666666666666666,\"#ed7953\"],[0.7777777777777778,\"#fb9f3a\"],[0.8888888888888888,\"#fdca26\"],[1.0,\"#f0f921\"]],\"type\":\"histogram2d\"}],\"histogram\":[{\"marker\":{\"pattern\":{\"fillmode\":\"overlay\",\"size\":10,\"solidity\":0.2}},\"type\":\"histogram\"}],\"mesh3d\":[{\"colorbar\":{\"outlinewidth\":0,\"ticks\":\"\"},\"type\":\"mesh3d\"}],\"parcoords\":[{\"line\":{\"colorbar\":{\"outlinewidth\":0,\"ticks\":\"\"}},\"type\":\"parcoords\"}],\"pie\":[{\"automargin\":true,\"type\":\"pie\"}],\"scatter3d\":[{\"line\":{\"colorbar\":{\"outlinewidth\":0,\"ticks\":\"\"}},\"marker\":{\"colorbar\":{\"outlinewidth\":0,\"ticks\":\"\"}},\"type\":\"scatter3d\"}],\"scattercarpet\":[{\"marker\":{\"colorbar\":{\"outlinewidth\":0,\"ticks\":\"\"}},\"type\":\"scattercarpet\"}],\"scattergeo\":[{\"marker\":{\"colorbar\":{\"outlinewidth\":0,\"ticks\":\"\"}},\"type\":\"scattergeo\"}],\"scattergl\":[{\"marker\":{\"colorbar\":{\"outlinewidth\":0,\"ticks\":\"\"}},\"type\":\"scattergl\"}],\"scattermapbox\":[{\"marker\":{\"colorbar\":{\"outlinewidth\":0,\"ticks\":\"\"}},\"type\":\"scattermapbox\"}],\"scatterpolargl\":[{\"marker\":{\"colorbar\":{\"outlinewidth\":0,\"ticks\":\"\"}},\"type\":\"scatterpolargl\"}],\"scatterpolar\":[{\"marker\":{\"colorbar\":{\"outlinewidth\":0,\"ticks\":\"\"}},\"type\":\"scatterpolar\"}],\"scatter\":[{\"fillpattern\":{\"fillmode\":\"overlay\",\"size\":10,\"solidity\":0.2},\"type\":\"scatter\"}],\"scatterternary\":[{\"marker\":{\"colorbar\":{\"outlinewidth\":0,\"ticks\":\"\"}},\"type\":\"scatterternary\"}],\"surface\":[{\"colorbar\":{\"outlinewidth\":0,\"ticks\":\"\"},\"colorscale\":[[0.0,\"#0d0887\"],[0.1111111111111111,\"#46039f\"],[0.2222222222222222,\"#7201a8\"],[0.3333333333333333,\"#9c179e\"],[0.4444444444444444,\"#bd3786\"],[0.5555555555555556,\"#d8576b\"],[0.6666666666666666,\"#ed7953\"],[0.7777777777777778,\"#fb9f3a\"],[0.8888888888888888,\"#fdca26\"],[1.0,\"#f0f921\"]],\"type\":\"surface\"}],\"table\":[{\"cells\":{\"fill\":{\"color\":\"#EBF0F8\"},\"line\":{\"color\":\"white\"}},\"header\":{\"fill\":{\"color\":\"#C8D4E3\"},\"line\":{\"color\":\"white\"}},\"type\":\"table\"}]},\"layout\":{\"annotationdefaults\":{\"arrowcolor\":\"#2a3f5f\",\"arrowhead\":0,\"arrowwidth\":1},\"autotypenumbers\":\"strict\",\"coloraxis\":{\"colorbar\":{\"outlinewidth\":0,\"ticks\":\"\"}},\"colorscale\":{\"diverging\":[[0,\"#8e0152\"],[0.1,\"#c51b7d\"],[0.2,\"#de77ae\"],[0.3,\"#f1b6da\"],[0.4,\"#fde0ef\"],[0.5,\"#f7f7f7\"],[0.6,\"#e6f5d0\"],[0.7,\"#b8e186\"],[0.8,\"#7fbc41\"],[0.9,\"#4d9221\"],[1,\"#276419\"]],\"sequential\":[[0.0,\"#0d0887\"],[0.1111111111111111,\"#46039f\"],[0.2222222222222222,\"#7201a8\"],[0.3333333333333333,\"#9c179e\"],[0.4444444444444444,\"#bd3786\"],[0.5555555555555556,\"#d8576b\"],[0.6666666666666666,\"#ed7953\"],[0.7777777777777778,\"#fb9f3a\"],[0.8888888888888888,\"#fdca26\"],[1.0,\"#f0f921\"]],\"sequentialminus\":[[0.0,\"#0d0887\"],[0.1111111111111111,\"#46039f\"],[0.2222222222222222,\"#7201a8\"],[0.3333333333333333,\"#9c179e\"],[0.4444444444444444,\"#bd3786\"],[0.5555555555555556,\"#d8576b\"],[0.6666666666666666,\"#ed7953\"],[0.7777777777777778,\"#fb9f3a\"],[0.8888888888888888,\"#fdca26\"],[1.0,\"#f0f921\"]]},\"colorway\":[\"#636efa\",\"#EF553B\",\"#00cc96\",\"#ab63fa\",\"#FFA15A\",\"#19d3f3\",\"#FF6692\",\"#B6E880\",\"#FF97FF\",\"#FECB52\"],\"font\":{\"color\":\"#2a3f5f\"},\"geo\":{\"bgcolor\":\"white\",\"lakecolor\":\"white\",\"landcolor\":\"#E5ECF6\",\"showlakes\":true,\"showland\":true,\"subunitcolor\":\"white\"},\"hoverlabel\":{\"align\":\"left\"},\"hovermode\":\"closest\",\"mapbox\":{\"style\":\"light\"},\"paper_bgcolor\":\"white\",\"plot_bgcolor\":\"#E5ECF6\",\"polar\":{\"angularaxis\":{\"gridcolor\":\"white\",\"linecolor\":\"white\",\"ticks\":\"\"},\"bgcolor\":\"#E5ECF6\",\"radialaxis\":{\"gridcolor\":\"white\",\"linecolor\":\"white\",\"ticks\":\"\"}},\"scene\":{\"xaxis\":{\"backgroundcolor\":\"#E5ECF6\",\"gridcolor\":\"white\",\"gridwidth\":2,\"linecolor\":\"white\",\"showbackground\":true,\"ticks\":\"\",\"zerolinecolor\":\"white\"},\"yaxis\":{\"backgroundcolor\":\"#E5ECF6\",\"gridcolor\":\"white\",\"gridwidth\":2,\"linecolor\":\"white\",\"showbackground\":true,\"ticks\":\"\",\"zerolinecolor\":\"white\"},\"zaxis\":{\"backgroundcolor\":\"#E5ECF6\",\"gridcolor\":\"white\",\"gridwidth\":2,\"linecolor\":\"white\",\"showbackground\":true,\"ticks\":\"\",\"zerolinecolor\":\"white\"}},\"shapedefaults\":{\"line\":{\"color\":\"#2a3f5f\"}},\"ternary\":{\"aaxis\":{\"gridcolor\":\"white\",\"linecolor\":\"white\",\"ticks\":\"\"},\"baxis\":{\"gridcolor\":\"white\",\"linecolor\":\"white\",\"ticks\":\"\"},\"bgcolor\":\"#E5ECF6\",\"caxis\":{\"gridcolor\":\"white\",\"linecolor\":\"white\",\"ticks\":\"\"}},\"title\":{\"x\":0.05},\"xaxis\":{\"automargin\":true,\"gridcolor\":\"white\",\"linecolor\":\"white\",\"ticks\":\"\",\"title\":{\"standoff\":15},\"zerolinecolor\":\"white\",\"zerolinewidth\":2},\"yaxis\":{\"automargin\":true,\"gridcolor\":\"white\",\"linecolor\":\"white\",\"ticks\":\"\",\"title\":{\"standoff\":15},\"zerolinecolor\":\"white\",\"zerolinewidth\":2}}},\"title\":{\"text\":\"GANTT Chart\"},\"xaxis\":{\"range\":[\"1970-01-01T00:36:11\",\"1970-01-01T22:43:12\"],\"title\":{\"font\":{\"color\":\"#7f7f7f\",\"family\":\"Courier New, monospace\",\"size\":18},\"text\":\"Time\"}},\"yaxis\":{\"title\":{\"font\":{\"color\":\"#7f7f7f\",\"family\":\"Courier New, monospace\",\"size\":18},\"text\":\"Activities\"}}},                        {\"responsive\": true}                    ).then(function(){\n",
       "                            \n",
       "var gd = document.getElementById('f1626a50-c337-4f89-a2fb-76754806a2e1');\n",
       "var x = new MutationObserver(function (mutations, observer) {{\n",
       "        var display = window.getComputedStyle(gd).display;\n",
       "        if (!display || display === 'none') {{\n",
       "            console.log([gd, 'removed!']);\n",
       "            Plotly.purge(gd);\n",
       "            observer.disconnect();\n",
       "        }}\n",
       "}});\n",
       "\n",
       "// Listen for the removal of the full notebook cells\n",
       "var notebookContainer = gd.closest('#notebook-container');\n",
       "if (notebookContainer) {{\n",
       "    x.observe(notebookContainer, {childList: true});\n",
       "}}\n",
       "\n",
       "// Listen for the clearing of the current output cell\n",
       "var outputEl = gd.closest('.output');\n",
       "if (outputEl) {{\n",
       "    x.observe(outputEl, {childList: true});\n",
       "}}\n",
       "\n",
       "                        })                };                });            </script>        </div>"
      ]
     },
     "metadata": {},
     "output_type": "display_data"
    }
   ],
   "source": [
    "fig = get_gantt_chart([from_site, to_site, cutter], id_map=activities)"
   ]
  },
  {
   "cell_type": "markdown",
   "id": "9d68aee1",
   "metadata": {},
   "source": [
    "Plot only activities whose namespace (first letters) matches load*"
   ]
  },
  {
   "cell_type": "code",
   "execution_count": 9,
   "id": "6141ac61",
   "metadata": {},
   "outputs": [
    {
     "data": {
      "text/html": [
       "        <script type=\"text/javascript\">\n",
       "        window.PlotlyConfig = {MathJaxConfig: 'local'};\n",
       "        if (window.MathJax && window.MathJax.Hub && window.MathJax.Hub.Config) {window.MathJax.Hub.Config({SVG: {font: \"STIX-Web\"}});}\n",
       "        if (typeof require !== 'undefined') {\n",
       "        require.undef(\"plotly\");\n",
       "        requirejs.config({\n",
       "            paths: {\n",
       "                'plotly': ['https://cdn.plot.ly/plotly-2.18.2.min']\n",
       "            }\n",
       "        });\n",
       "        require(['plotly'], function(Plotly) {\n",
       "            window._Plotly = Plotly;\n",
       "        });\n",
       "        }\n",
       "        </script>\n",
       "        "
      ]
     },
     "metadata": {},
     "output_type": "display_data"
    },
    {
     "data": {
      "application/vnd.plotly.v1+json": {
       "config": {
        "linkText": "Export to plot.ly",
        "plotlyServerURL": "https://plot.ly",
        "showLink": false
       },
       "data": [
        {
         "connectgaps": false,
         "hoverinfo": "y+name",
         "line": {
          "color": "rgb(190,228,99)",
          "width": 10
         },
         "mode": "lines",
         "name": "loading:Carrier A",
         "type": "scatter",
         "x": [
          "1970-01-01T01:51:11",
          "1970-01-01T01:51:11",
          "1970-01-01T02:24:31",
          "1970-01-01T02:24:31",
          "1970-01-01T02:24:31",
          "1970-01-01T04:50:13",
          "1970-01-01T04:50:13",
          "1970-01-01T05:23:33",
          "1970-01-01T05:23:33",
          "1970-01-01T05:23:33",
          "1970-01-01T08:18:46",
          "1970-01-01T08:18:46",
          "1970-01-01T08:52:06",
          "1970-01-01T08:52:06",
          "1970-01-01T08:52:06",
          "1970-01-01T11:17:48",
          "1970-01-01T11:17:48",
          "1970-01-01T11:51:08",
          "1970-01-01T11:51:08",
          "1970-01-01T11:51:08",
          "1970-01-01T14:16:50",
          "1970-01-01T14:16:50",
          "1970-01-01T14:50:10",
          "1970-01-01T14:50:10",
          "1970-01-01T14:50:10",
          "1970-01-01T17:15:52",
          "1970-01-01T17:15:52",
          "1970-01-01T17:49:12",
          "1970-01-01T17:49:12",
          "1970-01-01T17:49:12",
          "1970-01-01T20:14:54",
          "1970-01-01T20:14:54",
          "1970-01-01T20:48:14",
          "1970-01-01T20:48:14",
          "1970-01-01T20:48:14"
         ],
         "y": [
          "loading:Carrier A",
          "loading:Carrier A",
          "loading:Carrier A",
          "loading:Carrier A",
          null,
          "loading:Carrier A",
          "loading:Carrier A",
          "loading:Carrier A",
          "loading:Carrier A",
          null,
          "loading:Carrier A",
          "loading:Carrier A",
          "loading:Carrier A",
          "loading:Carrier A",
          null,
          "loading:Carrier A",
          "loading:Carrier A",
          "loading:Carrier A",
          "loading:Carrier A",
          null,
          "loading:Carrier A",
          "loading:Carrier A",
          "loading:Carrier A",
          "loading:Carrier A",
          null,
          "loading:Carrier A",
          "loading:Carrier A",
          "loading:Carrier A",
          "loading:Carrier A",
          null,
          "loading:Carrier A",
          "loading:Carrier A",
          "loading:Carrier A",
          "loading:Carrier A",
          null
         ]
        },
        {
         "connectgaps": false,
         "hoverinfo": "y+name",
         "line": {
          "color": "rgb(19,57,184)",
          "width": 10
         },
         "mode": "lines",
         "name": "loading:Carrier B",
         "type": "scatter",
         "x": [
          "1970-01-01T01:09:31",
          "1970-01-01T01:09:31",
          "1970-01-01T01:51:11",
          "1970-01-01T01:51:11",
          "1970-01-01T01:51:11",
          "1970-01-01T03:41:08",
          "1970-01-01T03:41:08",
          "1970-01-01T04:22:48",
          "1970-01-01T04:22:48",
          "1970-01-01T04:22:48",
          "1970-01-01T06:12:45",
          "1970-01-01T06:12:45",
          "1970-01-01T06:54:25",
          "1970-01-01T06:54:25",
          "1970-01-01T06:54:25",
          "1970-01-01T08:52:06",
          "1970-01-01T08:52:06",
          "1970-01-01T09:33:46",
          "1970-01-01T09:33:46",
          "1970-01-01T09:33:46",
          "1970-01-01T11:51:08",
          "1970-01-01T11:51:08",
          "1970-01-01T12:32:48",
          "1970-01-01T12:32:48",
          "1970-01-01T12:32:48",
          "1970-01-01T14:50:10",
          "1970-01-01T14:50:10",
          "1970-01-01T15:31:50",
          "1970-01-01T15:31:50",
          "1970-01-01T15:31:50",
          "1970-01-01T17:49:12",
          "1970-01-01T17:49:12",
          "1970-01-01T18:30:52",
          "1970-01-01T18:30:52",
          "1970-01-01T18:30:52",
          "1970-01-01T20:48:14",
          "1970-01-01T20:48:14",
          "1970-01-01T21:29:54",
          "1970-01-01T21:29:54",
          "1970-01-01T21:29:54"
         ],
         "y": [
          "loading:Carrier B",
          "loading:Carrier B",
          "loading:Carrier B",
          "loading:Carrier B",
          null,
          "loading:Carrier B",
          "loading:Carrier B",
          "loading:Carrier B",
          "loading:Carrier B",
          null,
          "loading:Carrier B",
          "loading:Carrier B",
          "loading:Carrier B",
          "loading:Carrier B",
          null,
          "loading:Carrier B",
          "loading:Carrier B",
          "loading:Carrier B",
          "loading:Carrier B",
          null,
          "loading:Carrier B",
          "loading:Carrier B",
          "loading:Carrier B",
          "loading:Carrier B",
          null,
          "loading:Carrier B",
          "loading:Carrier B",
          "loading:Carrier B",
          "loading:Carrier B",
          null,
          "loading:Carrier B",
          "loading:Carrier B",
          "loading:Carrier B",
          "loading:Carrier B",
          null,
          "loading:Carrier B",
          "loading:Carrier B",
          "loading:Carrier B",
          "loading:Carrier B",
          null
         ]
        },
        {
         "connectgaps": false,
         "hoverinfo": "y+name",
         "line": {
          "color": "rgb(104,142,13)",
          "width": 10
         },
         "mode": "lines",
         "name": "loading:Carrier C",
         "type": "scatter",
         "x": [
          "1970-01-01T00:36:11",
          "1970-01-01T00:36:11",
          "1970-01-01T01:09:31",
          "1970-01-01T01:09:31",
          "1970-01-01T01:09:31",
          "1970-01-01T02:58:04",
          "1970-01-01T02:58:04",
          "1970-01-01T03:31:24",
          "1970-01-01T03:31:24",
          "1970-01-01T03:31:24",
          "1970-01-01T05:23:33",
          "1970-01-01T05:23:33",
          "1970-01-01T05:56:53",
          "1970-01-01T05:56:53",
          "1970-01-01T05:56:53",
          "1970-01-01T07:45:26",
          "1970-01-01T07:45:26",
          "1970-01-01T08:18:46",
          "1970-01-01T08:18:46",
          "1970-01-01T08:18:46",
          "1970-01-01T10:07:19",
          "1970-01-01T10:07:19",
          "1970-01-01T10:40:39",
          "1970-01-01T10:40:39",
          "1970-01-01T10:40:39",
          "1970-01-01T12:32:48",
          "1970-01-01T12:32:48",
          "1970-01-01T13:06:08",
          "1970-01-01T13:06:08",
          "1970-01-01T13:06:08",
          "1970-01-01T15:31:50",
          "1970-01-01T15:31:50",
          "1970-01-01T16:05:10",
          "1970-01-01T16:05:10",
          "1970-01-01T16:05:10",
          "1970-01-01T18:30:52",
          "1970-01-01T18:30:52",
          "1970-01-01T19:04:12",
          "1970-01-01T19:04:12",
          "1970-01-01T19:04:12"
         ],
         "y": [
          "loading:Carrier C",
          "loading:Carrier C",
          "loading:Carrier C",
          "loading:Carrier C",
          null,
          "loading:Carrier C",
          "loading:Carrier C",
          "loading:Carrier C",
          "loading:Carrier C",
          null,
          "loading:Carrier C",
          "loading:Carrier C",
          "loading:Carrier C",
          "loading:Carrier C",
          null,
          "loading:Carrier C",
          "loading:Carrier C",
          "loading:Carrier C",
          "loading:Carrier C",
          null,
          "loading:Carrier C",
          "loading:Carrier C",
          "loading:Carrier C",
          "loading:Carrier C",
          null,
          "loading:Carrier C",
          "loading:Carrier C",
          "loading:Carrier C",
          "loading:Carrier C",
          null,
          "loading:Carrier C",
          "loading:Carrier C",
          "loading:Carrier C",
          "loading:Carrier C",
          null,
          "loading:Carrier C",
          "loading:Carrier C",
          "loading:Carrier C",
          "loading:Carrier C",
          null
         ]
        }
       ],
       "layout": {
        "hovermode": "closest",
        "legend": {
         "orientation": "h",
         "x": 0,
         "y": -0.2
        },
        "template": {
         "data": {
          "bar": [
           {
            "error_x": {
             "color": "#2a3f5f"
            },
            "error_y": {
             "color": "#2a3f5f"
            },
            "marker": {
             "line": {
              "color": "#E5ECF6",
              "width": 0.5
             },
             "pattern": {
              "fillmode": "overlay",
              "size": 10,
              "solidity": 0.2
             }
            },
            "type": "bar"
           }
          ],
          "barpolar": [
           {
            "marker": {
             "line": {
              "color": "#E5ECF6",
              "width": 0.5
             },
             "pattern": {
              "fillmode": "overlay",
              "size": 10,
              "solidity": 0.2
             }
            },
            "type": "barpolar"
           }
          ],
          "carpet": [
           {
            "aaxis": {
             "endlinecolor": "#2a3f5f",
             "gridcolor": "white",
             "linecolor": "white",
             "minorgridcolor": "white",
             "startlinecolor": "#2a3f5f"
            },
            "baxis": {
             "endlinecolor": "#2a3f5f",
             "gridcolor": "white",
             "linecolor": "white",
             "minorgridcolor": "white",
             "startlinecolor": "#2a3f5f"
            },
            "type": "carpet"
           }
          ],
          "choropleth": [
           {
            "colorbar": {
             "outlinewidth": 0,
             "ticks": ""
            },
            "type": "choropleth"
           }
          ],
          "contour": [
           {
            "colorbar": {
             "outlinewidth": 0,
             "ticks": ""
            },
            "colorscale": [
             [
              0,
              "#0d0887"
             ],
             [
              0.1111111111111111,
              "#46039f"
             ],
             [
              0.2222222222222222,
              "#7201a8"
             ],
             [
              0.3333333333333333,
              "#9c179e"
             ],
             [
              0.4444444444444444,
              "#bd3786"
             ],
             [
              0.5555555555555556,
              "#d8576b"
             ],
             [
              0.6666666666666666,
              "#ed7953"
             ],
             [
              0.7777777777777778,
              "#fb9f3a"
             ],
             [
              0.8888888888888888,
              "#fdca26"
             ],
             [
              1,
              "#f0f921"
             ]
            ],
            "type": "contour"
           }
          ],
          "contourcarpet": [
           {
            "colorbar": {
             "outlinewidth": 0,
             "ticks": ""
            },
            "type": "contourcarpet"
           }
          ],
          "heatmap": [
           {
            "colorbar": {
             "outlinewidth": 0,
             "ticks": ""
            },
            "colorscale": [
             [
              0,
              "#0d0887"
             ],
             [
              0.1111111111111111,
              "#46039f"
             ],
             [
              0.2222222222222222,
              "#7201a8"
             ],
             [
              0.3333333333333333,
              "#9c179e"
             ],
             [
              0.4444444444444444,
              "#bd3786"
             ],
             [
              0.5555555555555556,
              "#d8576b"
             ],
             [
              0.6666666666666666,
              "#ed7953"
             ],
             [
              0.7777777777777778,
              "#fb9f3a"
             ],
             [
              0.8888888888888888,
              "#fdca26"
             ],
             [
              1,
              "#f0f921"
             ]
            ],
            "type": "heatmap"
           }
          ],
          "heatmapgl": [
           {
            "colorbar": {
             "outlinewidth": 0,
             "ticks": ""
            },
            "colorscale": [
             [
              0,
              "#0d0887"
             ],
             [
              0.1111111111111111,
              "#46039f"
             ],
             [
              0.2222222222222222,
              "#7201a8"
             ],
             [
              0.3333333333333333,
              "#9c179e"
             ],
             [
              0.4444444444444444,
              "#bd3786"
             ],
             [
              0.5555555555555556,
              "#d8576b"
             ],
             [
              0.6666666666666666,
              "#ed7953"
             ],
             [
              0.7777777777777778,
              "#fb9f3a"
             ],
             [
              0.8888888888888888,
              "#fdca26"
             ],
             [
              1,
              "#f0f921"
             ]
            ],
            "type": "heatmapgl"
           }
          ],
          "histogram": [
           {
            "marker": {
             "pattern": {
              "fillmode": "overlay",
              "size": 10,
              "solidity": 0.2
             }
            },
            "type": "histogram"
           }
          ],
          "histogram2d": [
           {
            "colorbar": {
             "outlinewidth": 0,
             "ticks": ""
            },
            "colorscale": [
             [
              0,
              "#0d0887"
             ],
             [
              0.1111111111111111,
              "#46039f"
             ],
             [
              0.2222222222222222,
              "#7201a8"
             ],
             [
              0.3333333333333333,
              "#9c179e"
             ],
             [
              0.4444444444444444,
              "#bd3786"
             ],
             [
              0.5555555555555556,
              "#d8576b"
             ],
             [
              0.6666666666666666,
              "#ed7953"
             ],
             [
              0.7777777777777778,
              "#fb9f3a"
             ],
             [
              0.8888888888888888,
              "#fdca26"
             ],
             [
              1,
              "#f0f921"
             ]
            ],
            "type": "histogram2d"
           }
          ],
          "histogram2dcontour": [
           {
            "colorbar": {
             "outlinewidth": 0,
             "ticks": ""
            },
            "colorscale": [
             [
              0,
              "#0d0887"
             ],
             [
              0.1111111111111111,
              "#46039f"
             ],
             [
              0.2222222222222222,
              "#7201a8"
             ],
             [
              0.3333333333333333,
              "#9c179e"
             ],
             [
              0.4444444444444444,
              "#bd3786"
             ],
             [
              0.5555555555555556,
              "#d8576b"
             ],
             [
              0.6666666666666666,
              "#ed7953"
             ],
             [
              0.7777777777777778,
              "#fb9f3a"
             ],
             [
              0.8888888888888888,
              "#fdca26"
             ],
             [
              1,
              "#f0f921"
             ]
            ],
            "type": "histogram2dcontour"
           }
          ],
          "mesh3d": [
           {
            "colorbar": {
             "outlinewidth": 0,
             "ticks": ""
            },
            "type": "mesh3d"
           }
          ],
          "parcoords": [
           {
            "line": {
             "colorbar": {
              "outlinewidth": 0,
              "ticks": ""
             }
            },
            "type": "parcoords"
           }
          ],
          "pie": [
           {
            "automargin": true,
            "type": "pie"
           }
          ],
          "scatter": [
           {
            "fillpattern": {
             "fillmode": "overlay",
             "size": 10,
             "solidity": 0.2
            },
            "type": "scatter"
           }
          ],
          "scatter3d": [
           {
            "line": {
             "colorbar": {
              "outlinewidth": 0,
              "ticks": ""
             }
            },
            "marker": {
             "colorbar": {
              "outlinewidth": 0,
              "ticks": ""
             }
            },
            "type": "scatter3d"
           }
          ],
          "scattercarpet": [
           {
            "marker": {
             "colorbar": {
              "outlinewidth": 0,
              "ticks": ""
             }
            },
            "type": "scattercarpet"
           }
          ],
          "scattergeo": [
           {
            "marker": {
             "colorbar": {
              "outlinewidth": 0,
              "ticks": ""
             }
            },
            "type": "scattergeo"
           }
          ],
          "scattergl": [
           {
            "marker": {
             "colorbar": {
              "outlinewidth": 0,
              "ticks": ""
             }
            },
            "type": "scattergl"
           }
          ],
          "scattermapbox": [
           {
            "marker": {
             "colorbar": {
              "outlinewidth": 0,
              "ticks": ""
             }
            },
            "type": "scattermapbox"
           }
          ],
          "scatterpolar": [
           {
            "marker": {
             "colorbar": {
              "outlinewidth": 0,
              "ticks": ""
             }
            },
            "type": "scatterpolar"
           }
          ],
          "scatterpolargl": [
           {
            "marker": {
             "colorbar": {
              "outlinewidth": 0,
              "ticks": ""
             }
            },
            "type": "scatterpolargl"
           }
          ],
          "scatterternary": [
           {
            "marker": {
             "colorbar": {
              "outlinewidth": 0,
              "ticks": ""
             }
            },
            "type": "scatterternary"
           }
          ],
          "surface": [
           {
            "colorbar": {
             "outlinewidth": 0,
             "ticks": ""
            },
            "colorscale": [
             [
              0,
              "#0d0887"
             ],
             [
              0.1111111111111111,
              "#46039f"
             ],
             [
              0.2222222222222222,
              "#7201a8"
             ],
             [
              0.3333333333333333,
              "#9c179e"
             ],
             [
              0.4444444444444444,
              "#bd3786"
             ],
             [
              0.5555555555555556,
              "#d8576b"
             ],
             [
              0.6666666666666666,
              "#ed7953"
             ],
             [
              0.7777777777777778,
              "#fb9f3a"
             ],
             [
              0.8888888888888888,
              "#fdca26"
             ],
             [
              1,
              "#f0f921"
             ]
            ],
            "type": "surface"
           }
          ],
          "table": [
           {
            "cells": {
             "fill": {
              "color": "#EBF0F8"
             },
             "line": {
              "color": "white"
             }
            },
            "header": {
             "fill": {
              "color": "#C8D4E3"
             },
             "line": {
              "color": "white"
             }
            },
            "type": "table"
           }
          ]
         },
         "layout": {
          "annotationdefaults": {
           "arrowcolor": "#2a3f5f",
           "arrowhead": 0,
           "arrowwidth": 1
          },
          "autotypenumbers": "strict",
          "coloraxis": {
           "colorbar": {
            "outlinewidth": 0,
            "ticks": ""
           }
          },
          "colorscale": {
           "diverging": [
            [
             0,
             "#8e0152"
            ],
            [
             0.1,
             "#c51b7d"
            ],
            [
             0.2,
             "#de77ae"
            ],
            [
             0.3,
             "#f1b6da"
            ],
            [
             0.4,
             "#fde0ef"
            ],
            [
             0.5,
             "#f7f7f7"
            ],
            [
             0.6,
             "#e6f5d0"
            ],
            [
             0.7,
             "#b8e186"
            ],
            [
             0.8,
             "#7fbc41"
            ],
            [
             0.9,
             "#4d9221"
            ],
            [
             1,
             "#276419"
            ]
           ],
           "sequential": [
            [
             0,
             "#0d0887"
            ],
            [
             0.1111111111111111,
             "#46039f"
            ],
            [
             0.2222222222222222,
             "#7201a8"
            ],
            [
             0.3333333333333333,
             "#9c179e"
            ],
            [
             0.4444444444444444,
             "#bd3786"
            ],
            [
             0.5555555555555556,
             "#d8576b"
            ],
            [
             0.6666666666666666,
             "#ed7953"
            ],
            [
             0.7777777777777778,
             "#fb9f3a"
            ],
            [
             0.8888888888888888,
             "#fdca26"
            ],
            [
             1,
             "#f0f921"
            ]
           ],
           "sequentialminus": [
            [
             0,
             "#0d0887"
            ],
            [
             0.1111111111111111,
             "#46039f"
            ],
            [
             0.2222222222222222,
             "#7201a8"
            ],
            [
             0.3333333333333333,
             "#9c179e"
            ],
            [
             0.4444444444444444,
             "#bd3786"
            ],
            [
             0.5555555555555556,
             "#d8576b"
            ],
            [
             0.6666666666666666,
             "#ed7953"
            ],
            [
             0.7777777777777778,
             "#fb9f3a"
            ],
            [
             0.8888888888888888,
             "#fdca26"
            ],
            [
             1,
             "#f0f921"
            ]
           ]
          },
          "colorway": [
           "#636efa",
           "#EF553B",
           "#00cc96",
           "#ab63fa",
           "#FFA15A",
           "#19d3f3",
           "#FF6692",
           "#B6E880",
           "#FF97FF",
           "#FECB52"
          ],
          "font": {
           "color": "#2a3f5f"
          },
          "geo": {
           "bgcolor": "white",
           "lakecolor": "white",
           "landcolor": "#E5ECF6",
           "showlakes": true,
           "showland": true,
           "subunitcolor": "white"
          },
          "hoverlabel": {
           "align": "left"
          },
          "hovermode": "closest",
          "mapbox": {
           "style": "light"
          },
          "paper_bgcolor": "white",
          "plot_bgcolor": "#E5ECF6",
          "polar": {
           "angularaxis": {
            "gridcolor": "white",
            "linecolor": "white",
            "ticks": ""
           },
           "bgcolor": "#E5ECF6",
           "radialaxis": {
            "gridcolor": "white",
            "linecolor": "white",
            "ticks": ""
           }
          },
          "scene": {
           "xaxis": {
            "backgroundcolor": "#E5ECF6",
            "gridcolor": "white",
            "gridwidth": 2,
            "linecolor": "white",
            "showbackground": true,
            "ticks": "",
            "zerolinecolor": "white"
           },
           "yaxis": {
            "backgroundcolor": "#E5ECF6",
            "gridcolor": "white",
            "gridwidth": 2,
            "linecolor": "white",
            "showbackground": true,
            "ticks": "",
            "zerolinecolor": "white"
           },
           "zaxis": {
            "backgroundcolor": "#E5ECF6",
            "gridcolor": "white",
            "gridwidth": 2,
            "linecolor": "white",
            "showbackground": true,
            "ticks": "",
            "zerolinecolor": "white"
           }
          },
          "shapedefaults": {
           "line": {
            "color": "#2a3f5f"
           }
          },
          "ternary": {
           "aaxis": {
            "gridcolor": "white",
            "linecolor": "white",
            "ticks": ""
           },
           "baxis": {
            "gridcolor": "white",
            "linecolor": "white",
            "ticks": ""
           },
           "bgcolor": "#E5ECF6",
           "caxis": {
            "gridcolor": "white",
            "linecolor": "white",
            "ticks": ""
           }
          },
          "title": {
           "x": 0.05
          },
          "xaxis": {
           "automargin": true,
           "gridcolor": "white",
           "linecolor": "white",
           "ticks": "",
           "title": {
            "standoff": 15
           },
           "zerolinecolor": "white",
           "zerolinewidth": 2
          },
          "yaxis": {
           "automargin": true,
           "gridcolor": "white",
           "linecolor": "white",
           "ticks": "",
           "title": {
            "standoff": 15
           },
           "zerolinecolor": "white",
           "zerolinewidth": 2
          }
         }
        },
        "title": {
         "text": "GANTT Chart"
        },
        "xaxis": {
         "range": [
          "1970-01-01T00:36:11",
          "1970-01-01T21:29:54"
         ],
         "title": {
          "font": {
           "color": "#7f7f7f",
           "family": "Courier New, monospace",
           "size": 18
          },
          "text": "Time"
         }
        },
        "yaxis": {
         "title": {
          "font": {
           "color": "#7f7f7f",
           "family": "Courier New, monospace",
           "size": 18
          },
          "text": "Activities"
         }
        }
       }
      },
      "text/html": [
       "<div>                            <div id=\"6434e8c9-047f-4d50-a52d-fc84c086ca2e\" class=\"plotly-graph-div\" style=\"height:525px; width:100%;\"></div>            <script type=\"text/javascript\">                require([\"plotly\"], function(Plotly) {                    window.PLOTLYENV=window.PLOTLYENV || {};                                    if (document.getElementById(\"6434e8c9-047f-4d50-a52d-fc84c086ca2e\")) {                    Plotly.newPlot(                        \"6434e8c9-047f-4d50-a52d-fc84c086ca2e\",                        [{\"connectgaps\":false,\"hoverinfo\":\"y+name\",\"line\":{\"color\":\"rgb(190,228,99)\",\"width\":10},\"mode\":\"lines\",\"name\":\"loading:Carrier A\",\"x\":[\"1970-01-01T01:51:11\",\"1970-01-01T01:51:11\",\"1970-01-01T02:24:31\",\"1970-01-01T02:24:31\",\"1970-01-01T02:24:31\",\"1970-01-01T04:50:13\",\"1970-01-01T04:50:13\",\"1970-01-01T05:23:33\",\"1970-01-01T05:23:33\",\"1970-01-01T05:23:33\",\"1970-01-01T08:18:46\",\"1970-01-01T08:18:46\",\"1970-01-01T08:52:06\",\"1970-01-01T08:52:06\",\"1970-01-01T08:52:06\",\"1970-01-01T11:17:48\",\"1970-01-01T11:17:48\",\"1970-01-01T11:51:08\",\"1970-01-01T11:51:08\",\"1970-01-01T11:51:08\",\"1970-01-01T14:16:50\",\"1970-01-01T14:16:50\",\"1970-01-01T14:50:10\",\"1970-01-01T14:50:10\",\"1970-01-01T14:50:10\",\"1970-01-01T17:15:52\",\"1970-01-01T17:15:52\",\"1970-01-01T17:49:12\",\"1970-01-01T17:49:12\",\"1970-01-01T17:49:12\",\"1970-01-01T20:14:54\",\"1970-01-01T20:14:54\",\"1970-01-01T20:48:14\",\"1970-01-01T20:48:14\",\"1970-01-01T20:48:14\"],\"y\":[\"loading:Carrier A\",\"loading:Carrier A\",\"loading:Carrier A\",\"loading:Carrier A\",null,\"loading:Carrier A\",\"loading:Carrier A\",\"loading:Carrier A\",\"loading:Carrier A\",null,\"loading:Carrier A\",\"loading:Carrier A\",\"loading:Carrier A\",\"loading:Carrier A\",null,\"loading:Carrier A\",\"loading:Carrier A\",\"loading:Carrier A\",\"loading:Carrier A\",null,\"loading:Carrier A\",\"loading:Carrier A\",\"loading:Carrier A\",\"loading:Carrier A\",null,\"loading:Carrier A\",\"loading:Carrier A\",\"loading:Carrier A\",\"loading:Carrier A\",null,\"loading:Carrier A\",\"loading:Carrier A\",\"loading:Carrier A\",\"loading:Carrier A\",null],\"type\":\"scatter\"},{\"connectgaps\":false,\"hoverinfo\":\"y+name\",\"line\":{\"color\":\"rgb(19,57,184)\",\"width\":10},\"mode\":\"lines\",\"name\":\"loading:Carrier B\",\"x\":[\"1970-01-01T01:09:31\",\"1970-01-01T01:09:31\",\"1970-01-01T01:51:11\",\"1970-01-01T01:51:11\",\"1970-01-01T01:51:11\",\"1970-01-01T03:41:08\",\"1970-01-01T03:41:08\",\"1970-01-01T04:22:48\",\"1970-01-01T04:22:48\",\"1970-01-01T04:22:48\",\"1970-01-01T06:12:45\",\"1970-01-01T06:12:45\",\"1970-01-01T06:54:25\",\"1970-01-01T06:54:25\",\"1970-01-01T06:54:25\",\"1970-01-01T08:52:06\",\"1970-01-01T08:52:06\",\"1970-01-01T09:33:46\",\"1970-01-01T09:33:46\",\"1970-01-01T09:33:46\",\"1970-01-01T11:51:08\",\"1970-01-01T11:51:08\",\"1970-01-01T12:32:48\",\"1970-01-01T12:32:48\",\"1970-01-01T12:32:48\",\"1970-01-01T14:50:10\",\"1970-01-01T14:50:10\",\"1970-01-01T15:31:50\",\"1970-01-01T15:31:50\",\"1970-01-01T15:31:50\",\"1970-01-01T17:49:12\",\"1970-01-01T17:49:12\",\"1970-01-01T18:30:52\",\"1970-01-01T18:30:52\",\"1970-01-01T18:30:52\",\"1970-01-01T20:48:14\",\"1970-01-01T20:48:14\",\"1970-01-01T21:29:54\",\"1970-01-01T21:29:54\",\"1970-01-01T21:29:54\"],\"y\":[\"loading:Carrier B\",\"loading:Carrier B\",\"loading:Carrier B\",\"loading:Carrier B\",null,\"loading:Carrier B\",\"loading:Carrier B\",\"loading:Carrier B\",\"loading:Carrier B\",null,\"loading:Carrier B\",\"loading:Carrier B\",\"loading:Carrier B\",\"loading:Carrier B\",null,\"loading:Carrier B\",\"loading:Carrier B\",\"loading:Carrier B\",\"loading:Carrier B\",null,\"loading:Carrier B\",\"loading:Carrier B\",\"loading:Carrier B\",\"loading:Carrier B\",null,\"loading:Carrier B\",\"loading:Carrier B\",\"loading:Carrier B\",\"loading:Carrier B\",null,\"loading:Carrier B\",\"loading:Carrier B\",\"loading:Carrier B\",\"loading:Carrier B\",null,\"loading:Carrier B\",\"loading:Carrier B\",\"loading:Carrier B\",\"loading:Carrier B\",null],\"type\":\"scatter\"},{\"connectgaps\":false,\"hoverinfo\":\"y+name\",\"line\":{\"color\":\"rgb(104,142,13)\",\"width\":10},\"mode\":\"lines\",\"name\":\"loading:Carrier C\",\"x\":[\"1970-01-01T00:36:11\",\"1970-01-01T00:36:11\",\"1970-01-01T01:09:31\",\"1970-01-01T01:09:31\",\"1970-01-01T01:09:31\",\"1970-01-01T02:58:04\",\"1970-01-01T02:58:04\",\"1970-01-01T03:31:24\",\"1970-01-01T03:31:24\",\"1970-01-01T03:31:24\",\"1970-01-01T05:23:33\",\"1970-01-01T05:23:33\",\"1970-01-01T05:56:53\",\"1970-01-01T05:56:53\",\"1970-01-01T05:56:53\",\"1970-01-01T07:45:26\",\"1970-01-01T07:45:26\",\"1970-01-01T08:18:46\",\"1970-01-01T08:18:46\",\"1970-01-01T08:18:46\",\"1970-01-01T10:07:19\",\"1970-01-01T10:07:19\",\"1970-01-01T10:40:39\",\"1970-01-01T10:40:39\",\"1970-01-01T10:40:39\",\"1970-01-01T12:32:48\",\"1970-01-01T12:32:48\",\"1970-01-01T13:06:08\",\"1970-01-01T13:06:08\",\"1970-01-01T13:06:08\",\"1970-01-01T15:31:50\",\"1970-01-01T15:31:50\",\"1970-01-01T16:05:10\",\"1970-01-01T16:05:10\",\"1970-01-01T16:05:10\",\"1970-01-01T18:30:52\",\"1970-01-01T18:30:52\",\"1970-01-01T19:04:12\",\"1970-01-01T19:04:12\",\"1970-01-01T19:04:12\"],\"y\":[\"loading:Carrier C\",\"loading:Carrier C\",\"loading:Carrier C\",\"loading:Carrier C\",null,\"loading:Carrier C\",\"loading:Carrier C\",\"loading:Carrier C\",\"loading:Carrier C\",null,\"loading:Carrier C\",\"loading:Carrier C\",\"loading:Carrier C\",\"loading:Carrier C\",null,\"loading:Carrier C\",\"loading:Carrier C\",\"loading:Carrier C\",\"loading:Carrier C\",null,\"loading:Carrier C\",\"loading:Carrier C\",\"loading:Carrier C\",\"loading:Carrier C\",null,\"loading:Carrier C\",\"loading:Carrier C\",\"loading:Carrier C\",\"loading:Carrier C\",null,\"loading:Carrier C\",\"loading:Carrier C\",\"loading:Carrier C\",\"loading:Carrier C\",null,\"loading:Carrier C\",\"loading:Carrier C\",\"loading:Carrier C\",\"loading:Carrier C\",null],\"type\":\"scatter\"}],                        {\"hovermode\":\"closest\",\"legend\":{\"orientation\":\"h\",\"x\":0,\"y\":-0.2},\"template\":{\"data\":{\"barpolar\":[{\"marker\":{\"line\":{\"color\":\"#E5ECF6\",\"width\":0.5},\"pattern\":{\"fillmode\":\"overlay\",\"size\":10,\"solidity\":0.2}},\"type\":\"barpolar\"}],\"bar\":[{\"error_x\":{\"color\":\"#2a3f5f\"},\"error_y\":{\"color\":\"#2a3f5f\"},\"marker\":{\"line\":{\"color\":\"#E5ECF6\",\"width\":0.5},\"pattern\":{\"fillmode\":\"overlay\",\"size\":10,\"solidity\":0.2}},\"type\":\"bar\"}],\"carpet\":[{\"aaxis\":{\"endlinecolor\":\"#2a3f5f\",\"gridcolor\":\"white\",\"linecolor\":\"white\",\"minorgridcolor\":\"white\",\"startlinecolor\":\"#2a3f5f\"},\"baxis\":{\"endlinecolor\":\"#2a3f5f\",\"gridcolor\":\"white\",\"linecolor\":\"white\",\"minorgridcolor\":\"white\",\"startlinecolor\":\"#2a3f5f\"},\"type\":\"carpet\"}],\"choropleth\":[{\"colorbar\":{\"outlinewidth\":0,\"ticks\":\"\"},\"type\":\"choropleth\"}],\"contourcarpet\":[{\"colorbar\":{\"outlinewidth\":0,\"ticks\":\"\"},\"type\":\"contourcarpet\"}],\"contour\":[{\"colorbar\":{\"outlinewidth\":0,\"ticks\":\"\"},\"colorscale\":[[0.0,\"#0d0887\"],[0.1111111111111111,\"#46039f\"],[0.2222222222222222,\"#7201a8\"],[0.3333333333333333,\"#9c179e\"],[0.4444444444444444,\"#bd3786\"],[0.5555555555555556,\"#d8576b\"],[0.6666666666666666,\"#ed7953\"],[0.7777777777777778,\"#fb9f3a\"],[0.8888888888888888,\"#fdca26\"],[1.0,\"#f0f921\"]],\"type\":\"contour\"}],\"heatmapgl\":[{\"colorbar\":{\"outlinewidth\":0,\"ticks\":\"\"},\"colorscale\":[[0.0,\"#0d0887\"],[0.1111111111111111,\"#46039f\"],[0.2222222222222222,\"#7201a8\"],[0.3333333333333333,\"#9c179e\"],[0.4444444444444444,\"#bd3786\"],[0.5555555555555556,\"#d8576b\"],[0.6666666666666666,\"#ed7953\"],[0.7777777777777778,\"#fb9f3a\"],[0.8888888888888888,\"#fdca26\"],[1.0,\"#f0f921\"]],\"type\":\"heatmapgl\"}],\"heatmap\":[{\"colorbar\":{\"outlinewidth\":0,\"ticks\":\"\"},\"colorscale\":[[0.0,\"#0d0887\"],[0.1111111111111111,\"#46039f\"],[0.2222222222222222,\"#7201a8\"],[0.3333333333333333,\"#9c179e\"],[0.4444444444444444,\"#bd3786\"],[0.5555555555555556,\"#d8576b\"],[0.6666666666666666,\"#ed7953\"],[0.7777777777777778,\"#fb9f3a\"],[0.8888888888888888,\"#fdca26\"],[1.0,\"#f0f921\"]],\"type\":\"heatmap\"}],\"histogram2dcontour\":[{\"colorbar\":{\"outlinewidth\":0,\"ticks\":\"\"},\"colorscale\":[[0.0,\"#0d0887\"],[0.1111111111111111,\"#46039f\"],[0.2222222222222222,\"#7201a8\"],[0.3333333333333333,\"#9c179e\"],[0.4444444444444444,\"#bd3786\"],[0.5555555555555556,\"#d8576b\"],[0.6666666666666666,\"#ed7953\"],[0.7777777777777778,\"#fb9f3a\"],[0.8888888888888888,\"#fdca26\"],[1.0,\"#f0f921\"]],\"type\":\"histogram2dcontour\"}],\"histogram2d\":[{\"colorbar\":{\"outlinewidth\":0,\"ticks\":\"\"},\"colorscale\":[[0.0,\"#0d0887\"],[0.1111111111111111,\"#46039f\"],[0.2222222222222222,\"#7201a8\"],[0.3333333333333333,\"#9c179e\"],[0.4444444444444444,\"#bd3786\"],[0.5555555555555556,\"#d8576b\"],[0.6666666666666666,\"#ed7953\"],[0.7777777777777778,\"#fb9f3a\"],[0.8888888888888888,\"#fdca26\"],[1.0,\"#f0f921\"]],\"type\":\"histogram2d\"}],\"histogram\":[{\"marker\":{\"pattern\":{\"fillmode\":\"overlay\",\"size\":10,\"solidity\":0.2}},\"type\":\"histogram\"}],\"mesh3d\":[{\"colorbar\":{\"outlinewidth\":0,\"ticks\":\"\"},\"type\":\"mesh3d\"}],\"parcoords\":[{\"line\":{\"colorbar\":{\"outlinewidth\":0,\"ticks\":\"\"}},\"type\":\"parcoords\"}],\"pie\":[{\"automargin\":true,\"type\":\"pie\"}],\"scatter3d\":[{\"line\":{\"colorbar\":{\"outlinewidth\":0,\"ticks\":\"\"}},\"marker\":{\"colorbar\":{\"outlinewidth\":0,\"ticks\":\"\"}},\"type\":\"scatter3d\"}],\"scattercarpet\":[{\"marker\":{\"colorbar\":{\"outlinewidth\":0,\"ticks\":\"\"}},\"type\":\"scattercarpet\"}],\"scattergeo\":[{\"marker\":{\"colorbar\":{\"outlinewidth\":0,\"ticks\":\"\"}},\"type\":\"scattergeo\"}],\"scattergl\":[{\"marker\":{\"colorbar\":{\"outlinewidth\":0,\"ticks\":\"\"}},\"type\":\"scattergl\"}],\"scattermapbox\":[{\"marker\":{\"colorbar\":{\"outlinewidth\":0,\"ticks\":\"\"}},\"type\":\"scattermapbox\"}],\"scatterpolargl\":[{\"marker\":{\"colorbar\":{\"outlinewidth\":0,\"ticks\":\"\"}},\"type\":\"scatterpolargl\"}],\"scatterpolar\":[{\"marker\":{\"colorbar\":{\"outlinewidth\":0,\"ticks\":\"\"}},\"type\":\"scatterpolar\"}],\"scatter\":[{\"fillpattern\":{\"fillmode\":\"overlay\",\"size\":10,\"solidity\":0.2},\"type\":\"scatter\"}],\"scatterternary\":[{\"marker\":{\"colorbar\":{\"outlinewidth\":0,\"ticks\":\"\"}},\"type\":\"scatterternary\"}],\"surface\":[{\"colorbar\":{\"outlinewidth\":0,\"ticks\":\"\"},\"colorscale\":[[0.0,\"#0d0887\"],[0.1111111111111111,\"#46039f\"],[0.2222222222222222,\"#7201a8\"],[0.3333333333333333,\"#9c179e\"],[0.4444444444444444,\"#bd3786\"],[0.5555555555555556,\"#d8576b\"],[0.6666666666666666,\"#ed7953\"],[0.7777777777777778,\"#fb9f3a\"],[0.8888888888888888,\"#fdca26\"],[1.0,\"#f0f921\"]],\"type\":\"surface\"}],\"table\":[{\"cells\":{\"fill\":{\"color\":\"#EBF0F8\"},\"line\":{\"color\":\"white\"}},\"header\":{\"fill\":{\"color\":\"#C8D4E3\"},\"line\":{\"color\":\"white\"}},\"type\":\"table\"}]},\"layout\":{\"annotationdefaults\":{\"arrowcolor\":\"#2a3f5f\",\"arrowhead\":0,\"arrowwidth\":1},\"autotypenumbers\":\"strict\",\"coloraxis\":{\"colorbar\":{\"outlinewidth\":0,\"ticks\":\"\"}},\"colorscale\":{\"diverging\":[[0,\"#8e0152\"],[0.1,\"#c51b7d\"],[0.2,\"#de77ae\"],[0.3,\"#f1b6da\"],[0.4,\"#fde0ef\"],[0.5,\"#f7f7f7\"],[0.6,\"#e6f5d0\"],[0.7,\"#b8e186\"],[0.8,\"#7fbc41\"],[0.9,\"#4d9221\"],[1,\"#276419\"]],\"sequential\":[[0.0,\"#0d0887\"],[0.1111111111111111,\"#46039f\"],[0.2222222222222222,\"#7201a8\"],[0.3333333333333333,\"#9c179e\"],[0.4444444444444444,\"#bd3786\"],[0.5555555555555556,\"#d8576b\"],[0.6666666666666666,\"#ed7953\"],[0.7777777777777778,\"#fb9f3a\"],[0.8888888888888888,\"#fdca26\"],[1.0,\"#f0f921\"]],\"sequentialminus\":[[0.0,\"#0d0887\"],[0.1111111111111111,\"#46039f\"],[0.2222222222222222,\"#7201a8\"],[0.3333333333333333,\"#9c179e\"],[0.4444444444444444,\"#bd3786\"],[0.5555555555555556,\"#d8576b\"],[0.6666666666666666,\"#ed7953\"],[0.7777777777777778,\"#fb9f3a\"],[0.8888888888888888,\"#fdca26\"],[1.0,\"#f0f921\"]]},\"colorway\":[\"#636efa\",\"#EF553B\",\"#00cc96\",\"#ab63fa\",\"#FFA15A\",\"#19d3f3\",\"#FF6692\",\"#B6E880\",\"#FF97FF\",\"#FECB52\"],\"font\":{\"color\":\"#2a3f5f\"},\"geo\":{\"bgcolor\":\"white\",\"lakecolor\":\"white\",\"landcolor\":\"#E5ECF6\",\"showlakes\":true,\"showland\":true,\"subunitcolor\":\"white\"},\"hoverlabel\":{\"align\":\"left\"},\"hovermode\":\"closest\",\"mapbox\":{\"style\":\"light\"},\"paper_bgcolor\":\"white\",\"plot_bgcolor\":\"#E5ECF6\",\"polar\":{\"angularaxis\":{\"gridcolor\":\"white\",\"linecolor\":\"white\",\"ticks\":\"\"},\"bgcolor\":\"#E5ECF6\",\"radialaxis\":{\"gridcolor\":\"white\",\"linecolor\":\"white\",\"ticks\":\"\"}},\"scene\":{\"xaxis\":{\"backgroundcolor\":\"#E5ECF6\",\"gridcolor\":\"white\",\"gridwidth\":2,\"linecolor\":\"white\",\"showbackground\":true,\"ticks\":\"\",\"zerolinecolor\":\"white\"},\"yaxis\":{\"backgroundcolor\":\"#E5ECF6\",\"gridcolor\":\"white\",\"gridwidth\":2,\"linecolor\":\"white\",\"showbackground\":true,\"ticks\":\"\",\"zerolinecolor\":\"white\"},\"zaxis\":{\"backgroundcolor\":\"#E5ECF6\",\"gridcolor\":\"white\",\"gridwidth\":2,\"linecolor\":\"white\",\"showbackground\":true,\"ticks\":\"\",\"zerolinecolor\":\"white\"}},\"shapedefaults\":{\"line\":{\"color\":\"#2a3f5f\"}},\"ternary\":{\"aaxis\":{\"gridcolor\":\"white\",\"linecolor\":\"white\",\"ticks\":\"\"},\"baxis\":{\"gridcolor\":\"white\",\"linecolor\":\"white\",\"ticks\":\"\"},\"bgcolor\":\"#E5ECF6\",\"caxis\":{\"gridcolor\":\"white\",\"linecolor\":\"white\",\"ticks\":\"\"}},\"title\":{\"x\":0.05},\"xaxis\":{\"automargin\":true,\"gridcolor\":\"white\",\"linecolor\":\"white\",\"ticks\":\"\",\"title\":{\"standoff\":15},\"zerolinecolor\":\"white\",\"zerolinewidth\":2},\"yaxis\":{\"automargin\":true,\"gridcolor\":\"white\",\"linecolor\":\"white\",\"ticks\":\"\",\"title\":{\"standoff\":15},\"zerolinecolor\":\"white\",\"zerolinewidth\":2}}},\"title\":{\"text\":\"GANTT Chart\"},\"xaxis\":{\"range\":[\"1970-01-01T00:36:11\",\"1970-01-01T21:29:54\"],\"title\":{\"font\":{\"color\":\"#7f7f7f\",\"family\":\"Courier New, monospace\",\"size\":18},\"text\":\"Time\"}},\"yaxis\":{\"title\":{\"font\":{\"color\":\"#7f7f7f\",\"family\":\"Courier New, monospace\",\"size\":18},\"text\":\"Activities\"}}},                        {\"responsive\": true}                    ).then(function(){\n",
       "                            \n",
       "var gd = document.getElementById('6434e8c9-047f-4d50-a52d-fc84c086ca2e');\n",
       "var x = new MutationObserver(function (mutations, observer) {{\n",
       "        var display = window.getComputedStyle(gd).display;\n",
       "        if (!display || display === 'none') {{\n",
       "            console.log([gd, 'removed!']);\n",
       "            Plotly.purge(gd);\n",
       "            observer.disconnect();\n",
       "        }}\n",
       "}});\n",
       "\n",
       "// Listen for the removal of the full notebook cells\n",
       "var notebookContainer = gd.closest('#notebook-container');\n",
       "if (notebookContainer) {{\n",
       "    x.observe(notebookContainer, {childList: true});\n",
       "}}\n",
       "\n",
       "// Listen for the clearing of the current output cell\n",
       "var outputEl = gd.closest('.output');\n",
       "if (outputEl) {{\n",
       "    x.observe(outputEl, {childList: true});\n",
       "}}\n",
       "\n",
       "                        })                };                });            </script>        </div>"
      ]
     },
     "metadata": {},
     "output_type": "display_data"
    }
   ],
   "source": [
    "flat = pd.DataFrame(flatten(activities))\n",
    "loading = list(flat[flat['ActivityName'].str.startswith('loading')]['activity'].values)\n",
    "fig = get_gantt_chart(loading)"
   ]
  },
  {
   "cell_type": "code",
   "execution_count": 10,
   "id": "406b5d85",
   "metadata": {},
   "outputs": [
    {
     "data": {
      "image/png": "[encoded data removed]",
      "text/plain": [
       "<Figure size 1400x700 with 1 Axes>"
      ]
     },
     "metadata": {},
     "output_type": "display_data"
    }
   ],
   "source": [
    "fig = get_step_chart([from_site, to_site, *vessels.values()])"
   ]
  },
  {
   "cell_type": "code",
   "execution_count": 11,
   "id": "b5648c4c",
   "metadata": {},
   "outputs": [],
   "source": [
    "def occupancy_analysis(vessels, cutter_name, total_amount, vessel_cost):\n",
    "    \"\"\"Model specific calculation of vessel occupancy\"\"\"\n",
    "    \n",
    "    data = []\n",
    "    \n",
    "    for i, vessel_name in enumerate(vessels):\n",
    "        vessel = vessels[vessel_name]\n",
    "\n",
    "        log = get_ranges_dataframe(vessel)\n",
    "        \n",
    "        duration_theory = log.TimestampDt.sum().total_seconds()\n",
    "        \n",
    "        # We assume all vessels arrive JIT when they need to start,\n",
    "        # and leaves immediately when they are done (so different demob times)\n",
    "        # this is an overestimation of actual occupancy\n",
    "        \n",
    "        duration_actual = (log.TimestampStop.max() - log.TimestampStart.min()).total_seconds()\n",
    "        nr_trips = len(log.groupby('trip'))\n",
    "        \n",
    "        if vessel.name==cutter_name:\n",
    "            amount = total_amount\n",
    "        else:\n",
    "            amount = sum(log.groupby('trip')['ContainerLevelStop'].max())\n",
    "        \n",
    "        data.append({\n",
    "            'name':vessel.name, \n",
    "            '# trips':nr_trips, \n",
    "            'start': log.TimestampStart.min(),\n",
    "            'finish': log.TimestampStop.max(),\n",
    "            'amount sum': amount,\n",
    "            'duration actual': duration_actual,\n",
    "            'duration theory':duration_theory,\n",
    "            'cost actual':round(duration_actual*vessel_cost[vessel_name]/3600/24,0),\n",
    "            'production actual':(nr_trips * amount) / (duration_actual),\n",
    "            'production theory':(nr_trips * amount / (duration_theory)),\n",
    "        })\n",
    "\n",
    "    df = pd.DataFrame(data).sort_values(by=['production actual'],ascending=False)\n",
    "    df['occupancy [%]'] = [round(x,1) for x in 100*df['production actual']/df['production theory']]\n",
    "    df.set_index('name', inplace=True)\n",
    "    \n",
    "    # cutter does amount same as all barges\n",
    "    assert df['amount sum'].sum()-total_amount==total_amount, 'material imbalance'\n",
    "    \n",
    "    return df"
   ]
  },
  {
   "cell_type": "code",
   "execution_count": 12,
   "id": "efccc8e0",
   "metadata": {},
   "outputs": [
    {
     "data": {
      "text/html": [
       "<div>\n",
       "<style scoped>\n",
       "    .dataframe tbody tr th:only-of-type {\n",
       "        vertical-align: middle;\n",
       "    }\n",
       "\n",
       "    .dataframe tbody tr th {\n",
       "        vertical-align: top;\n",
       "    }\n",
       "\n",
       "    .dataframe thead th {\n",
       "        text-align: right;\n",
       "    }\n",
       "</style>\n",
       "<table border=\"1\" class=\"dataframe\">\n",
       "  <thead>\n",
       "    <tr style=\"text-align: right;\">\n",
       "      <th></th>\n",
       "      <th># trips</th>\n",
       "      <th>start</th>\n",
       "      <th>finish</th>\n",
       "      <th>amount sum</th>\n",
       "      <th>duration actual</th>\n",
       "      <th>duration theory</th>\n",
       "      <th>cost actual</th>\n",
       "      <th>production actual</th>\n",
       "      <th>production theory</th>\n",
       "      <th>occupancy [%]</th>\n",
       "    </tr>\n",
       "    <tr>\n",
       "      <th>name</th>\n",
       "      <th></th>\n",
       "      <th></th>\n",
       "      <th></th>\n",
       "      <th></th>\n",
       "      <th></th>\n",
       "      <th></th>\n",
       "      <th></th>\n",
       "      <th></th>\n",
       "      <th></th>\n",
       "      <th></th>\n",
       "    </tr>\n",
       "  </thead>\n",
       "  <tbody>\n",
       "    <tr>\n",
       "      <th>Carrier A</th>\n",
       "      <td>7</td>\n",
       "      <td>1970-01-01 00:00:00</td>\n",
       "      <td>1970-01-01 22:25:22</td>\n",
       "      <td>28.0</td>\n",
       "      <td>80722.0</td>\n",
       "      <td>75194.0</td>\n",
       "      <td>5606.0</td>\n",
       "      <td>0.002428</td>\n",
       "      <td>0.002607</td>\n",
       "      <td>93.2</td>\n",
       "    </tr>\n",
       "    <tr>\n",
       "      <th>Carrier B</th>\n",
       "      <td>8</td>\n",
       "      <td>1970-01-01 00:00:00</td>\n",
       "      <td>1970-01-01 22:43:12</td>\n",
       "      <td>40.0</td>\n",
       "      <td>81792.0</td>\n",
       "      <td>72776.0</td>\n",
       "      <td>5680.0</td>\n",
       "      <td>0.003912</td>\n",
       "      <td>0.004397</td>\n",
       "      <td>89.0</td>\n",
       "    </tr>\n",
       "    <tr>\n",
       "      <th>Carrier C</th>\n",
       "      <td>8</td>\n",
       "      <td>1970-01-01 00:00:00</td>\n",
       "      <td>1970-01-01 20:16:34</td>\n",
       "      <td>32.0</td>\n",
       "      <td>72994.0</td>\n",
       "      <td>68104.0</td>\n",
       "      <td>5069.0</td>\n",
       "      <td>0.003507</td>\n",
       "      <td>0.003759</td>\n",
       "      <td>93.3</td>\n",
       "    </tr>\n",
       "    <tr>\n",
       "      <th>Cutter T</th>\n",
       "      <td>8</td>\n",
       "      <td>1970-01-01 00:36:11</td>\n",
       "      <td>1970-01-01 21:29:54</td>\n",
       "      <td>100.0</td>\n",
       "      <td>75223.0</td>\n",
       "      <td>50000.0</td>\n",
       "      <td>21766.0</td>\n",
       "      <td>0.010635</td>\n",
       "      <td>0.016000</td>\n",
       "      <td>66.5</td>\n",
       "    </tr>\n",
       "  </tbody>\n",
       "</table>\n",
       "</div>"
      ],
      "text/plain": [
       "           # trips               start              finish  amount sum  \\\n",
       "name                                                                     \n",
       "Carrier A        7 1970-01-01 00:00:00 1970-01-01 22:25:22        28.0   \n",
       "Carrier B        8 1970-01-01 00:00:00 1970-01-01 22:43:12        40.0   \n",
       "Carrier C        8 1970-01-01 00:00:00 1970-01-01 20:16:34        32.0   \n",
       "Cutter T         8 1970-01-01 00:36:11 1970-01-01 21:29:54       100.0   \n",
       "\n",
       "           duration actual  duration theory  cost actual  production actual  \\\n",
       "name                                                                          \n",
       "Carrier A          80722.0          75194.0       5606.0           0.002428   \n",
       "Carrier B          81792.0          72776.0       5680.0           0.003912   \n",
       "Carrier C          72994.0          68104.0       5069.0           0.003507   \n",
       "Cutter T           75223.0          50000.0      21766.0           0.010635   \n",
       "\n",
       "           production theory  occupancy [%]  \n",
       "name                                         \n",
       "Carrier A           0.002607           93.2  \n",
       "Carrier B           0.004397           89.0  \n",
       "Carrier C           0.003759           93.3  \n",
       "Cutter T            0.016000           66.5  "
      ]
     },
     "execution_count": 12,
     "metadata": {},
     "output_type": "execute_result"
    }
   ],
   "source": [
    "occupancy_analysis(vessels, cutter_name, total_amount, vessel_cost).sort_values(by=[\"name\"])"
   ]
  },
  {
   "cell_type": "markdown",
   "id": "4e7485d8",
   "metadata": {},
   "source": [
    "# Compare multiple barge scenarios"
   ]
  },
  {
   "cell_type": "code",
   "execution_count": 13,
   "id": "eeb88b8d",
   "metadata": {},
   "outputs": [
    {
     "data": {
      "text/html": [
       "<div>\n",
       "<style scoped>\n",
       "    .dataframe tbody tr th:only-of-type {\n",
       "        vertical-align: middle;\n",
       "    }\n",
       "\n",
       "    .dataframe tbody tr th {\n",
       "        vertical-align: top;\n",
       "    }\n",
       "\n",
       "    .dataframe thead th {\n",
       "        text-align: right;\n",
       "    }\n",
       "</style>\n",
       "<table border=\"1\" class=\"dataframe\">\n",
       "  <thead>\n",
       "    <tr style=\"text-align: right;\">\n",
       "      <th></th>\n",
       "      <th># barges</th>\n",
       "      <th>cutter occupancy</th>\n",
       "      <th>total cost</th>\n",
       "      <th>total duration</th>\n",
       "    </tr>\n",
       "  </thead>\n",
       "  <tbody>\n",
       "    <tr>\n",
       "      <th>0</th>\n",
       "      <td>2</td>\n",
       "      <td>44.9</td>\n",
       "      <td>50566.0</td>\n",
       "      <td>1.428750</td>\n",
       "    </tr>\n",
       "    <tr>\n",
       "      <th>1</th>\n",
       "      <td>3</td>\n",
       "      <td>65.8</td>\n",
       "      <td>39365.0</td>\n",
       "      <td>1.000312</td>\n",
       "    </tr>\n",
       "    <tr>\n",
       "      <th>2</th>\n",
       "      <td>4</td>\n",
       "      <td>90.6</td>\n",
       "      <td>31653.0</td>\n",
       "      <td>0.717130</td>\n",
       "    </tr>\n",
       "    <tr>\n",
       "      <th>3</th>\n",
       "      <td>5</td>\n",
       "      <td>100.0</td>\n",
       "      <td>32098.0</td>\n",
       "      <td>0.684144</td>\n",
       "    </tr>\n",
       "    <tr>\n",
       "      <th>4</th>\n",
       "      <td>6</td>\n",
       "      <td>100.0</td>\n",
       "      <td>35323.0</td>\n",
       "      <td>0.687905</td>\n",
       "    </tr>\n",
       "    <tr>\n",
       "      <th>5</th>\n",
       "      <td>7</td>\n",
       "      <td>100.0</td>\n",
       "      <td>35847.0</td>\n",
       "      <td>0.669618</td>\n",
       "    </tr>\n",
       "    <tr>\n",
       "      <th>6</th>\n",
       "      <td>8</td>\n",
       "      <td>100.0</td>\n",
       "      <td>38229.0</td>\n",
       "      <td>0.672049</td>\n",
       "    </tr>\n",
       "  </tbody>\n",
       "</table>\n",
       "</div>"
      ],
      "text/plain": [
       "   # barges  cutter occupancy  total cost  total duration\n",
       "0         2              44.9     50566.0        1.428750\n",
       "1         3              65.8     39365.0        1.000312\n",
       "2         4              90.6     31653.0        0.717130\n",
       "3         5             100.0     32098.0        0.684144\n",
       "4         6             100.0     35323.0        0.687905\n",
       "5         7             100.0     35847.0        0.669618\n",
       "6         8             100.0     38229.0        0.672049"
      ]
     },
     "execution_count": 13,
     "metadata": {},
     "output_type": "execute_result"
    }
   ],
   "source": [
    "results = []\n",
    "occupancy = []\n",
    "cost = []\n",
    "duration = []\n",
    "\n",
    "n_barges = range(2,len(barge_names)) # +1 at least 1 barge\n",
    "for i in n_barges:\n",
    "    results.append(run(i,total_amount))\n",
    "    \n",
    "    vessels = results[-1]['vessels']\n",
    "    activities = results[-1]['activities']\n",
    "    sites = results[-1]['sites']\n",
    "    \n",
    "    cutter = vessels[cutter_name]\n",
    "    \n",
    "    df = occupancy_analysis(vessels, cutter_name, total_amount, vessel_cost)\n",
    "    occupancy.append(df.loc[cutter_name]['occupancy [%]'])\n",
    "    cost.append(df['cost actual'].sum())\n",
    "    duration.append((df['finish'].max() - df['start'].min()).total_seconds()/3600/24)\n",
    "    #     display(df)\n",
    "    \n",
    "scenarios = {'# barges':n_barges,\n",
    "             'cutter occupancy':occupancy,\n",
    "             'total cost':cost,\n",
    "             'total duration':duration}\n",
    "scenarios = pd.DataFrame.from_dict(scenarios)\n",
    "scenarios"
   ]
  },
  {
   "cell_type": "code",
   "execution_count": 14,
   "id": "9e7f3cf4",
   "metadata": {},
   "outputs": [
    {
     "data": {
      "image/png": "[encoded data removed]",
      "text/plain": [
       "<Figure size 640x480 with 3 Axes>"
      ]
     },
     "metadata": {},
     "output_type": "display_data"
    }
   ],
   "source": [
    "# plot 3 optimization criteria: cost, duration, occupancy (1/flexibility)\n",
    "%matplotlib inline\n",
    "import matplotlib.pyplot as plt\n",
    "\n",
    "fig = plt.figure()\n",
    "gs = fig.add_gridspec(3, hspace=0)\n",
    "axs = gs.subplots(sharex=True)\n",
    "\n",
    "\n",
    "axs[0].plot(scenarios['# barges'],scenarios['total cost'],'.-'), axs[0].set_ylabel('# cost [EUR]'),axs[0].grid();\n",
    "# axs[0].set_xlabel('# barges');\n",
    "\n",
    "axs[1].plot(scenarios['# barges'],scenarios['cutter occupancy'],'.-'), axs[1].set_ylabel('cutter occupancy [%]'),axs[1].grid();\n",
    "# axs[1].set_xlabel('# barges');\n",
    "axs[1].yaxis.set_label_position(\"right\")\n",
    "axs[1].yaxis.tick_right()\n",
    "\n",
    "axs[2].plot(scenarios['# barges'],scenarios['total duration'],'.-'), axs[2].set_ylabel('# time [days]'),axs[2].grid();\n",
    "\n",
    "axs[-1].set_xlabel('# barges');"
   ]
  },
  {
   "cell_type": "code",
   "execution_count": 15,
   "id": "88c1391e",
   "metadata": {},
   "outputs": [],
   "source": [
    "# choose 1 scenario for further analysis and export\n",
    "# many barges: close to 100% cutter config, small cost, fast delivery.\n",
    "scenario_index = 3"
   ]
  },
  {
   "cell_type": "markdown",
   "id": "9d132a51",
   "metadata": {},
   "source": [
    "# Visualize critical path of chosen optimal scenario"
   ]
  },
  {
   "cell_type": "markdown",
   "id": "70e77f68",
   "metadata": {},
   "source": [
    "For explanation of Critical Path see notebook 30"
   ]
  },
  {
   "cell_type": "code",
   "execution_count": 16,
   "id": "0f21208b",
   "metadata": {},
   "outputs": [],
   "source": [
    "from openclsim.plot.critical_path import CpLog"
   ]
  },
  {
   "cell_type": "code",
   "execution_count": 17,
   "id": "63db1761",
   "metadata": {},
   "outputs": [
    {
     "data": {
      "text/html": [
       "        <script type=\"text/javascript\">\n",
       "        window.PlotlyConfig = {MathJaxConfig: 'local'};\n",
       "        if (window.MathJax && window.MathJax.Hub && window.MathJax.Hub.Config) {window.MathJax.Hub.Config({SVG: {font: \"STIX-Web\"}});}\n",
       "        if (typeof require !== 'undefined') {\n",
       "        require.undef(\"plotly\");\n",
       "        requirejs.config({\n",
       "            paths: {\n",
       "                'plotly': ['https://cdn.plot.ly/plotly-2.18.2.min']\n",
       "            }\n",
       "        });\n",
       "        require(['plotly'], function(Plotly) {\n",
       "            window._Plotly = Plotly;\n",
       "        });\n",
       "        }\n",
       "        </script>\n",
       "        "
      ]
     },
     "metadata": {},
     "output_type": "display_data"
    },
    {
     "data": {
      "application/vnd.plotly.v1+json": {
       "config": {
        "linkText": "Export to plot.ly",
        "plotlyServerURL": "https://plot.ly",
        "showLink": false
       },
       "data": [
        {
         "connectgaps": false,
         "hoverinfo": "name",
         "line": {
          "color": "red",
          "width": 14
         },
         "mode": "lines",
         "name": "critical_path",
         "type": "scatter",
         "x": [
          "1970-01-01T00:00:00",
          "1970-01-01T00:35:32",
          "1970-01-01T00:35:32",
          "1970-01-01T00:35:32",
          "1970-01-01T01:17:12",
          "1970-01-01T01:17:12",
          "1970-01-01T00:35:32",
          "1970-01-01T01:17:12",
          "1970-01-01T01:17:12",
          "1970-01-01T00:35:32",
          "1970-01-01T01:17:12",
          "1970-01-01T01:17:12",
          "1970-01-01T01:17:12",
          "1970-01-01T01:50:32",
          "1970-01-01T01:50:32",
          "1970-01-01T01:17:12",
          "1970-01-01T01:50:32",
          "1970-01-01T01:50:32",
          "1970-01-01T01:17:12",
          "1970-01-01T01:50:32",
          "1970-01-01T01:50:32",
          "1970-01-01T01:50:32",
          "1970-01-01T02:32:12",
          "1970-01-01T02:32:12",
          "1970-01-01T01:50:32",
          "1970-01-01T02:32:12",
          "1970-01-01T02:32:12",
          "1970-01-01T01:50:32",
          "1970-01-01T02:32:12",
          "1970-01-01T02:32:12",
          "1970-01-01T02:32:12",
          "1970-01-01T03:05:32",
          "1970-01-01T03:05:32",
          "1970-01-01T02:32:12",
          "1970-01-01T03:05:32",
          "1970-01-01T03:05:32",
          "1970-01-01T02:32:12",
          "1970-01-01T03:05:32",
          "1970-01-01T03:05:32",
          "1970-01-01T03:05:32",
          "1970-01-01T03:38:52",
          "1970-01-01T03:38:52",
          "1970-01-01T03:05:32",
          "1970-01-01T03:38:52",
          "1970-01-01T03:38:52",
          "1970-01-01T03:05:32",
          "1970-01-01T03:38:52",
          "1970-01-01T03:38:52",
          "1970-01-01T03:38:52",
          "1970-01-01T04:20:32",
          "1970-01-01T04:20:32",
          "1970-01-01T03:38:52",
          "1970-01-01T04:20:32",
          "1970-01-01T04:20:32",
          "1970-01-01T03:38:52",
          "1970-01-01T04:20:32",
          "1970-01-01T04:20:32",
          "1970-01-01T04:20:32",
          "1970-01-01T04:53:52",
          "1970-01-01T04:53:52",
          "1970-01-01T04:20:32",
          "1970-01-01T04:53:52",
          "1970-01-01T04:53:52",
          "1970-01-01T04:20:32",
          "1970-01-01T04:53:52",
          "1970-01-01T04:53:52",
          "1970-01-01T04:53:52",
          "1970-01-01T05:35:32",
          "1970-01-01T05:35:32",
          "1970-01-01T04:53:52",
          "1970-01-01T05:35:32",
          "1970-01-01T05:35:32",
          "1970-01-01T04:53:52",
          "1970-01-01T05:35:32",
          "1970-01-01T05:35:32",
          "1970-01-01T05:35:32",
          "1970-01-01T06:08:52",
          "1970-01-01T06:08:52",
          "1970-01-01T05:35:32",
          "1970-01-01T06:08:52",
          "1970-01-01T06:08:52",
          "1970-01-01T05:35:32",
          "1970-01-01T06:08:52",
          "1970-01-01T06:08:52",
          "1970-01-01T06:08:52",
          "1970-01-01T06:50:32",
          "1970-01-01T06:50:32",
          "1970-01-01T06:08:52",
          "1970-01-01T06:50:32",
          "1970-01-01T06:50:32",
          "1970-01-01T06:08:52",
          "1970-01-01T06:50:32",
          "1970-01-01T06:50:32",
          "1970-01-01T06:50:32",
          "1970-01-01T07:23:52",
          "1970-01-01T07:23:52",
          "1970-01-01T06:50:32",
          "1970-01-01T07:23:52",
          "1970-01-01T07:23:52",
          "1970-01-01T06:50:32",
          "1970-01-01T07:23:52",
          "1970-01-01T07:23:52",
          "1970-01-01T07:23:52",
          "1970-01-01T07:57:12",
          "1970-01-01T07:57:12",
          "1970-01-01T07:23:52",
          "1970-01-01T07:57:12",
          "1970-01-01T07:57:12",
          "1970-01-01T07:23:52",
          "1970-01-01T07:57:12",
          "1970-01-01T07:57:12",
          "1970-01-01T07:57:12",
          "1970-01-01T08:38:52",
          "1970-01-01T08:38:52",
          "1970-01-01T07:57:12",
          "1970-01-01T08:38:52",
          "1970-01-01T08:38:52",
          "1970-01-01T07:57:12",
          "1970-01-01T08:38:52",
          "1970-01-01T08:38:52",
          "1970-01-01T08:38:52",
          "1970-01-01T09:12:12",
          "1970-01-01T09:12:12",
          "1970-01-01T08:38:52",
          "1970-01-01T09:12:12",
          "1970-01-01T09:12:12",
          "1970-01-01T08:38:52",
          "1970-01-01T09:12:12",
          "1970-01-01T09:12:12",
          "1970-01-01T09:12:12",
          "1970-01-01T09:53:52",
          "1970-01-01T09:53:52",
          "1970-01-01T09:12:12",
          "1970-01-01T09:53:52",
          "1970-01-01T09:53:52",
          "1970-01-01T09:12:12",
          "1970-01-01T09:53:52",
          "1970-01-01T09:53:52",
          "1970-01-01T09:53:52",
          "1970-01-01T10:27:12",
          "1970-01-01T10:27:12",
          "1970-01-01T09:53:52",
          "1970-01-01T10:27:12",
          "1970-01-01T10:27:12",
          "1970-01-01T09:53:52",
          "1970-01-01T10:27:12",
          "1970-01-01T10:27:12",
          "1970-01-01T10:27:12",
          "1970-01-01T11:00:32",
          "1970-01-01T11:00:32",
          "1970-01-01T10:27:12",
          "1970-01-01T11:00:32",
          "1970-01-01T11:00:32",
          "1970-01-01T10:27:12",
          "1970-01-01T11:00:32",
          "1970-01-01T11:00:32",
          "1970-01-01T11:00:32",
          "1970-01-01T11:42:12",
          "1970-01-01T11:42:12",
          "1970-01-01T11:00:32",
          "1970-01-01T11:42:12",
          "1970-01-01T11:42:12",
          "1970-01-01T11:00:32",
          "1970-01-01T11:42:12",
          "1970-01-01T11:42:12",
          "1970-01-01T11:42:12",
          "1970-01-01T12:15:32",
          "1970-01-01T12:15:32",
          "1970-01-01T11:42:12",
          "1970-01-01T12:15:32",
          "1970-01-01T12:15:32",
          "1970-01-01T11:42:12",
          "1970-01-01T12:15:32",
          "1970-01-01T12:15:32",
          "1970-01-01T12:15:32",
          "1970-01-01T12:57:12",
          "1970-01-01T12:57:12",
          "1970-01-01T12:15:32",
          "1970-01-01T12:57:12",
          "1970-01-01T12:57:12",
          "1970-01-01T12:15:32",
          "1970-01-01T12:57:12",
          "1970-01-01T12:57:12",
          "1970-01-01T12:57:12",
          "1970-01-01T13:30:32",
          "1970-01-01T13:30:32",
          "1970-01-01T12:57:12",
          "1970-01-01T13:30:32",
          "1970-01-01T13:30:32",
          "1970-01-01T12:57:12",
          "1970-01-01T13:30:32",
          "1970-01-01T13:30:32",
          "1970-01-01T13:30:32",
          "1970-01-01T14:12:12",
          "1970-01-01T14:12:12",
          "1970-01-01T13:30:32",
          "1970-01-01T14:12:12",
          "1970-01-01T14:12:12",
          "1970-01-01T13:30:32",
          "1970-01-01T14:12:12",
          "1970-01-01T14:12:12",
          "1970-01-01T14:12:12",
          "1970-01-01T14:45:32",
          "1970-01-01T14:45:32",
          "1970-01-01T14:12:12",
          "1970-01-01T14:45:32",
          "1970-01-01T14:45:32",
          "1970-01-01T14:12:12",
          "1970-01-01T14:45:32",
          "1970-01-01T14:45:32",
          "1970-01-01T14:45:32",
          "1970-01-01T15:35:21",
          "1970-01-01T15:35:21",
          "1970-01-01T15:35:21",
          "1970-01-01T16:25:10",
          "1970-01-01T16:25:10",
          "1970-01-01T15:35:21",
          "1970-01-01T16:25:10",
          "1970-01-01T16:25:10"
         ],
         "y": [
          "Carrier C",
          "Carrier C",
          null,
          "Carrier C",
          "Carrier C",
          null,
          "Cutter T",
          "Cutter T",
          null,
          "Trench",
          "Trench",
          null,
          "Carrier B",
          "Carrier B",
          null,
          "Cutter T",
          "Cutter T",
          null,
          "Trench",
          "Trench",
          null,
          "Barge II",
          "Barge II",
          null,
          "Cutter T",
          "Cutter T",
          null,
          "Trench",
          "Trench",
          null,
          "Barge I",
          "Barge I",
          null,
          "Cutter T",
          "Cutter T",
          null,
          "Trench",
          "Trench",
          null,
          "Carrier A",
          "Carrier A",
          null,
          "Cutter T",
          "Cutter T",
          null,
          "Trench",
          "Trench",
          null,
          "Carrier C",
          "Carrier C",
          null,
          "Cutter T",
          "Cutter T",
          null,
          "Trench",
          "Trench",
          null,
          "Carrier B",
          "Carrier B",
          null,
          "Cutter T",
          "Cutter T",
          null,
          "Trench",
          "Trench",
          null,
          "Barge II",
          "Barge II",
          null,
          "Cutter T",
          "Cutter T",
          null,
          "Trench",
          "Trench",
          null,
          "Barge I",
          "Barge I",
          null,
          "Cutter T",
          "Cutter T",
          null,
          "Trench",
          "Trench",
          null,
          "Carrier C",
          "Carrier C",
          null,
          "Cutter T",
          "Cutter T",
          null,
          "Trench",
          "Trench",
          null,
          "Carrier A",
          "Carrier A",
          null,
          "Cutter T",
          "Cutter T",
          null,
          "Trench",
          "Trench",
          null,
          "Carrier B",
          "Carrier B",
          null,
          "Cutter T",
          "Cutter T",
          null,
          "Trench",
          "Trench",
          null,
          "Barge II",
          "Barge II",
          null,
          "Cutter T",
          "Cutter T",
          null,
          "Trench",
          "Trench",
          null,
          "Barge I",
          "Barge I",
          null,
          "Cutter T",
          "Cutter T",
          null,
          "Trench",
          "Trench",
          null,
          "Carrier C",
          "Carrier C",
          null,
          "Cutter T",
          "Cutter T",
          null,
          "Trench",
          "Trench",
          null,
          "Carrier B",
          "Carrier B",
          null,
          "Cutter T",
          "Cutter T",
          null,
          "Trench",
          "Trench",
          null,
          "Carrier A",
          "Carrier A",
          null,
          "Cutter T",
          "Cutter T",
          null,
          "Trench",
          "Trench",
          null,
          "Barge II",
          "Barge II",
          null,
          "Cutter T",
          "Cutter T",
          null,
          "Trench",
          "Trench",
          null,
          "Barge I",
          "Barge I",
          null,
          "Cutter T",
          "Cutter T",
          null,
          "Trench",
          "Trench",
          null,
          "Carrier C",
          "Carrier C",
          null,
          "Cutter T",
          "Cutter T",
          null,
          "Trench",
          "Trench",
          null,
          "Carrier B",
          "Carrier B",
          null,
          "Cutter T",
          "Cutter T",
          null,
          "Trench",
          "Trench",
          null,
          "Barge II",
          "Barge II",
          null,
          "Cutter T",
          "Cutter T",
          null,
          "Trench",
          "Trench",
          null,
          "Carrier A",
          "Carrier A",
          null,
          "Cutter T",
          "Cutter T",
          null,
          "Trench",
          "Trench",
          null,
          "Carrier A",
          "Carrier A",
          null,
          "Carrier A",
          "Carrier A",
          null,
          "Reclamation",
          "Reclamation",
          null
         ]
        },
        {
         "connectgaps": false,
         "hoverinfo": "y+name",
         "line": {
          "color": "rgb(84,231,72)",
          "width": 10
         },
         "mode": "lines",
         "name": "loading:Carrier A",
         "type": "scatter",
         "x": [
          "1970-01-01T03:05:32",
          "1970-01-01T03:05:32",
          "1970-01-01T03:38:52",
          "1970-01-01T03:38:52",
          "1970-01-01T03:38:52",
          "1970-01-01T06:50:32",
          "1970-01-01T06:50:32",
          "1970-01-01T07:23:52",
          "1970-01-01T07:23:52",
          "1970-01-01T07:23:52",
          "1970-01-01T10:27:12",
          "1970-01-01T10:27:12",
          "1970-01-01T11:00:32",
          "1970-01-01T11:00:32",
          "1970-01-01T11:00:32",
          "1970-01-01T14:12:12",
          "1970-01-01T14:12:12",
          "1970-01-01T14:45:32",
          "1970-01-01T14:45:32",
          "1970-01-01T14:45:32",
          "1970-01-01T03:05:32",
          "1970-01-01T03:05:32",
          "1970-01-01T03:38:52",
          "1970-01-01T03:38:52",
          "1970-01-01T03:38:52",
          "1970-01-01T06:50:32",
          "1970-01-01T06:50:32",
          "1970-01-01T07:23:52",
          "1970-01-01T07:23:52",
          "1970-01-01T07:23:52",
          "1970-01-01T10:27:12",
          "1970-01-01T10:27:12",
          "1970-01-01T11:00:32",
          "1970-01-01T11:00:32",
          "1970-01-01T11:00:32",
          "1970-01-01T14:12:12",
          "1970-01-01T14:12:12",
          "1970-01-01T14:45:32",
          "1970-01-01T14:45:32",
          "1970-01-01T14:45:32",
          "1970-01-01T03:05:32",
          "1970-01-01T03:05:32",
          "1970-01-01T03:38:52",
          "1970-01-01T03:38:52",
          "1970-01-01T03:38:52",
          "1970-01-01T06:50:32",
          "1970-01-01T06:50:32",
          "1970-01-01T07:23:52",
          "1970-01-01T07:23:52",
          "1970-01-01T07:23:52",
          "1970-01-01T10:27:12",
          "1970-01-01T10:27:12",
          "1970-01-01T11:00:32",
          "1970-01-01T11:00:32",
          "1970-01-01T11:00:32",
          "1970-01-01T14:12:12",
          "1970-01-01T14:12:12",
          "1970-01-01T14:45:32",
          "1970-01-01T14:45:32",
          "1970-01-01T14:45:32"
         ],
         "y": [
          "Carrier A",
          "Carrier A",
          "Carrier A",
          "Carrier A",
          null,
          "Carrier A",
          "Carrier A",
          "Carrier A",
          "Carrier A",
          null,
          "Carrier A",
          "Carrier A",
          "Carrier A",
          "Carrier A",
          null,
          "Carrier A",
          "Carrier A",
          "Carrier A",
          "Carrier A",
          null,
          "Cutter T",
          "Cutter T",
          "Cutter T",
          "Cutter T",
          null,
          "Cutter T",
          "Cutter T",
          "Cutter T",
          "Cutter T",
          null,
          "Cutter T",
          "Cutter T",
          "Cutter T",
          "Cutter T",
          null,
          "Cutter T",
          "Cutter T",
          "Cutter T",
          "Cutter T",
          null,
          "Trench",
          "Trench",
          "Trench",
          "Trench",
          null,
          "Trench",
          "Trench",
          "Trench",
          "Trench",
          null,
          "Trench",
          "Trench",
          "Trench",
          "Trench",
          null,
          "Trench",
          "Trench",
          "Trench",
          "Trench",
          null
         ]
        },
        {
         "connectgaps": false,
         "hoverinfo": "y+name",
         "line": {
          "color": "rgb(91,238,79)",
          "width": 10
         },
         "mode": "lines",
         "name": "unloading:Carrier A",
         "type": "scatter",
         "x": [
          "1970-01-01T04:28:41",
          "1970-01-01T04:28:41",
          "1970-01-01T05:18:30",
          "1970-01-01T05:18:30",
          "1970-01-01T05:18:30",
          "1970-01-01T08:13:41",
          "1970-01-01T08:13:41",
          "1970-01-01T09:03:30",
          "1970-01-01T09:03:30",
          "1970-01-01T09:03:30",
          "1970-01-01T11:50:21",
          "1970-01-01T11:50:21",
          "1970-01-01T12:40:10",
          "1970-01-01T12:40:10",
          "1970-01-01T12:40:10",
          "1970-01-01T15:35:21",
          "1970-01-01T15:35:21",
          "1970-01-01T16:25:10",
          "1970-01-01T16:25:10",
          "1970-01-01T16:25:10",
          "1970-01-01T04:28:41",
          "1970-01-01T04:28:41",
          "1970-01-01T05:18:30",
          "1970-01-01T05:18:30",
          "1970-01-01T05:18:30",
          "1970-01-01T08:13:41",
          "1970-01-01T08:13:41",
          "1970-01-01T09:03:30",
          "1970-01-01T09:03:30",
          "1970-01-01T09:03:30",
          "1970-01-01T11:50:21",
          "1970-01-01T11:50:21",
          "1970-01-01T12:40:10",
          "1970-01-01T12:40:10",
          "1970-01-01T12:40:10",
          "1970-01-01T15:35:21",
          "1970-01-01T15:35:21",
          "1970-01-01T16:25:10",
          "1970-01-01T16:25:10",
          "1970-01-01T16:25:10"
         ],
         "y": [
          "Carrier A",
          "Carrier A",
          "Carrier A",
          "Carrier A",
          null,
          "Carrier A",
          "Carrier A",
          "Carrier A",
          "Carrier A",
          null,
          "Carrier A",
          "Carrier A",
          "Carrier A",
          "Carrier A",
          null,
          "Carrier A",
          "Carrier A",
          "Carrier A",
          "Carrier A",
          null,
          "Reclamation",
          "Reclamation",
          "Reclamation",
          "Reclamation",
          null,
          "Reclamation",
          "Reclamation",
          "Reclamation",
          "Reclamation",
          null,
          "Reclamation",
          "Reclamation",
          "Reclamation",
          "Reclamation",
          null,
          "Reclamation",
          "Reclamation",
          "Reclamation",
          "Reclamation",
          null
         ]
        },
        {
         "connectgaps": false,
         "hoverinfo": "y+name",
         "line": {
          "color": "rgb(98,245,86)",
          "width": 10
         },
         "mode": "lines",
         "name": "sailing empty:Carrier A",
         "type": "scatter",
         "x": [
          "1970-01-01T00:00:00",
          "1970-01-01T00:00:00",
          "1970-01-01T00:49:49",
          "1970-01-01T00:49:49",
          "1970-01-01T00:49:49",
          "1970-01-01T05:18:30",
          "1970-01-01T05:18:30",
          "1970-01-01T06:08:19",
          "1970-01-01T06:08:19",
          "1970-01-01T06:08:19",
          "1970-01-01T09:03:30",
          "1970-01-01T09:03:30",
          "1970-01-01T09:53:19",
          "1970-01-01T09:53:19",
          "1970-01-01T09:53:19",
          "1970-01-01T12:40:10",
          "1970-01-01T12:40:10",
          "1970-01-01T13:29:59",
          "1970-01-01T13:29:59",
          "1970-01-01T13:29:59"
         ],
         "y": [
          "Carrier A",
          "Carrier A",
          "Carrier A",
          "Carrier A",
          null,
          "Carrier A",
          "Carrier A",
          "Carrier A",
          "Carrier A",
          null,
          "Carrier A",
          "Carrier A",
          "Carrier A",
          "Carrier A",
          null,
          "Carrier A",
          "Carrier A",
          "Carrier A",
          "Carrier A",
          null
         ]
        },
        {
         "connectgaps": false,
         "hoverinfo": "y+name",
         "line": {
          "color": "rgb(105,252,93)",
          "width": 10
         },
         "mode": "lines",
         "name": "sailing full:Carrier A",
         "type": "scatter",
         "x": [
          "1970-01-01T03:38:52",
          "1970-01-01T03:38:52",
          "1970-01-01T04:28:41",
          "1970-01-01T04:28:41",
          "1970-01-01T04:28:41",
          "1970-01-01T07:23:52",
          "1970-01-01T07:23:52",
          "1970-01-01T08:13:41",
          "1970-01-01T08:13:41",
          "1970-01-01T08:13:41",
          "1970-01-01T11:00:32",
          "1970-01-01T11:00:32",
          "1970-01-01T11:50:21",
          "1970-01-01T11:50:21",
          "1970-01-01T11:50:21",
          "1970-01-01T14:45:32",
          "1970-01-01T14:45:32",
          "1970-01-01T15:35:21",
          "1970-01-01T15:35:21",
          "1970-01-01T15:35:21"
         ],
         "y": [
          "Carrier A",
          "Carrier A",
          "Carrier A",
          "Carrier A",
          null,
          "Carrier A",
          "Carrier A",
          "Carrier A",
          "Carrier A",
          null,
          "Carrier A",
          "Carrier A",
          "Carrier A",
          "Carrier A",
          null,
          "Carrier A",
          "Carrier A",
          "Carrier A",
          "Carrier A",
          null
         ]
        },
        {
         "connectgaps": false,
         "hoverinfo": "y+name",
         "line": {
          "color": "rgb(112,3,100)",
          "width": 10
         },
         "mode": "lines",
         "name": "sailing empty:Carrier B",
         "type": "scatter",
         "x": [
          "1970-01-01T00:00:00",
          "1970-01-01T00:00:00",
          "1970-01-01T00:35:33",
          "1970-01-01T00:35:33",
          "1970-01-01T00:35:33",
          "1970-01-01T03:01:38",
          "1970-01-01T03:01:38",
          "1970-01-01T03:37:11",
          "1970-01-01T03:37:11",
          "1970-01-01T03:37:11",
          "1970-01-01T06:04:58",
          "1970-01-01T06:04:58",
          "1970-01-01T06:40:31",
          "1970-01-01T06:40:31",
          "1970-01-01T06:40:31",
          "1970-01-01T09:08:18",
          "1970-01-01T09:08:18",
          "1970-01-01T09:43:51",
          "1970-01-01T09:43:51",
          "1970-01-01T09:43:51",
          "1970-01-01T11:38:18",
          "1970-01-01T11:38:18",
          "1970-01-01T12:13:51",
          "1970-01-01T12:13:51",
          "1970-01-01T12:13:51"
         ],
         "y": [
          "Carrier B",
          "Carrier B",
          "Carrier B",
          "Carrier B",
          null,
          "Carrier B",
          "Carrier B",
          "Carrier B",
          "Carrier B",
          null,
          "Carrier B",
          "Carrier B",
          "Carrier B",
          "Carrier B",
          null,
          "Carrier B",
          "Carrier B",
          "Carrier B",
          "Carrier B",
          null,
          "Carrier B",
          "Carrier B",
          "Carrier B",
          "Carrier B",
          null
         ]
        },
        {
         "connectgaps": false,
         "hoverinfo": "y+name",
         "line": {
          "color": "rgb(119,10,107)",
          "width": 10
         },
         "mode": "lines",
         "name": "loading:Carrier B",
         "type": "scatter",
         "x": [
          "1970-01-01T01:17:12",
          "1970-01-01T01:17:12",
          "1970-01-01T01:50:32",
          "1970-01-01T01:50:32",
          "1970-01-01T01:50:32",
          "1970-01-01T04:20:32",
          "1970-01-01T04:20:32",
          "1970-01-01T04:53:52",
          "1970-01-01T04:53:52",
          "1970-01-01T04:53:52",
          "1970-01-01T07:23:52",
          "1970-01-01T07:23:52",
          "1970-01-01T07:57:12",
          "1970-01-01T07:57:12",
          "1970-01-01T07:57:12",
          "1970-01-01T09:53:52",
          "1970-01-01T09:53:52",
          "1970-01-01T10:27:12",
          "1970-01-01T10:27:12",
          "1970-01-01T10:27:12",
          "1970-01-01T12:57:12",
          "1970-01-01T12:57:12",
          "1970-01-01T13:30:32",
          "1970-01-01T13:30:32",
          "1970-01-01T13:30:32",
          "1970-01-01T01:17:12",
          "1970-01-01T01:17:12",
          "1970-01-01T01:50:32",
          "1970-01-01T01:50:32",
          "1970-01-01T01:50:32",
          "1970-01-01T04:20:32",
          "1970-01-01T04:20:32",
          "1970-01-01T04:53:52",
          "1970-01-01T04:53:52",
          "1970-01-01T04:53:52",
          "1970-01-01T07:23:52",
          "1970-01-01T07:23:52",
          "1970-01-01T07:57:12",
          "1970-01-01T07:57:12",
          "1970-01-01T07:57:12",
          "1970-01-01T09:53:52",
          "1970-01-01T09:53:52",
          "1970-01-01T10:27:12",
          "1970-01-01T10:27:12",
          "1970-01-01T10:27:12",
          "1970-01-01T12:57:12",
          "1970-01-01T12:57:12",
          "1970-01-01T13:30:32",
          "1970-01-01T13:30:32",
          "1970-01-01T13:30:32",
          "1970-01-01T01:17:12",
          "1970-01-01T01:17:12",
          "1970-01-01T01:50:32",
          "1970-01-01T01:50:32",
          "1970-01-01T01:50:32",
          "1970-01-01T04:20:32",
          "1970-01-01T04:20:32",
          "1970-01-01T04:53:52",
          "1970-01-01T04:53:52",
          "1970-01-01T04:53:52",
          "1970-01-01T07:23:52",
          "1970-01-01T07:23:52",
          "1970-01-01T07:57:12",
          "1970-01-01T07:57:12",
          "1970-01-01T07:57:12",
          "1970-01-01T09:53:52",
          "1970-01-01T09:53:52",
          "1970-01-01T10:27:12",
          "1970-01-01T10:27:12",
          "1970-01-01T10:27:12",
          "1970-01-01T12:57:12",
          "1970-01-01T12:57:12",
          "1970-01-01T13:30:32",
          "1970-01-01T13:30:32",
          "1970-01-01T13:30:32"
         ],
         "y": [
          "Carrier B",
          "Carrier B",
          "Carrier B",
          "Carrier B",
          null,
          "Carrier B",
          "Carrier B",
          "Carrier B",
          "Carrier B",
          null,
          "Carrier B",
          "Carrier B",
          "Carrier B",
          "Carrier B",
          null,
          "Carrier B",
          "Carrier B",
          "Carrier B",
          "Carrier B",
          null,
          "Carrier B",
          "Carrier B",
          "Carrier B",
          "Carrier B",
          null,
          "Cutter T",
          "Cutter T",
          "Cutter T",
          "Cutter T",
          null,
          "Cutter T",
          "Cutter T",
          "Cutter T",
          "Cutter T",
          null,
          "Cutter T",
          "Cutter T",
          "Cutter T",
          "Cutter T",
          null,
          "Cutter T",
          "Cutter T",
          "Cutter T",
          "Cutter T",
          null,
          "Cutter T",
          "Cutter T",
          "Cutter T",
          "Cutter T",
          null,
          "Trench",
          "Trench",
          "Trench",
          "Trench",
          null,
          "Trench",
          "Trench",
          "Trench",
          "Trench",
          null,
          "Trench",
          "Trench",
          "Trench",
          "Trench",
          null,
          "Trench",
          "Trench",
          "Trench",
          "Trench",
          null,
          "Trench",
          "Trench",
          "Trench",
          "Trench",
          null
         ]
        },
        {
         "connectgaps": false,
         "hoverinfo": "y+name",
         "line": {
          "color": "rgb(126,17,114)",
          "width": 10
         },
         "mode": "lines",
         "name": "sailing full:Carrier B",
         "type": "scatter",
         "x": [
          "1970-01-01T01:50:32",
          "1970-01-01T01:50:32",
          "1970-01-01T02:26:05",
          "1970-01-01T02:26:05",
          "1970-01-01T02:26:05",
          "1970-01-01T04:53:52",
          "1970-01-01T04:53:52",
          "1970-01-01T05:29:25",
          "1970-01-01T05:29:25",
          "1970-01-01T05:29:25",
          "1970-01-01T07:57:12",
          "1970-01-01T07:57:12",
          "1970-01-01T08:32:45",
          "1970-01-01T08:32:45",
          "1970-01-01T08:32:45",
          "1970-01-01T10:27:12",
          "1970-01-01T10:27:12",
          "1970-01-01T11:02:45",
          "1970-01-01T11:02:45",
          "1970-01-01T11:02:45",
          "1970-01-01T13:30:32",
          "1970-01-01T13:30:32",
          "1970-01-01T14:06:05",
          "1970-01-01T14:06:05",
          "1970-01-01T14:06:05"
         ],
         "y": [
          "Carrier B",
          "Carrier B",
          "Carrier B",
          "Carrier B",
          null,
          "Carrier B",
          "Carrier B",
          "Carrier B",
          "Carrier B",
          null,
          "Carrier B",
          "Carrier B",
          "Carrier B",
          "Carrier B",
          null,
          "Carrier B",
          "Carrier B",
          "Carrier B",
          "Carrier B",
          null,
          "Carrier B",
          "Carrier B",
          "Carrier B",
          "Carrier B",
          null
         ]
        },
        {
         "connectgaps": false,
         "hoverinfo": "y+name",
         "line": {
          "color": "rgb(133,24,121)",
          "width": 10
         },
         "mode": "lines",
         "name": "unloading:Carrier B",
         "type": "scatter",
         "x": [
          "1970-01-01T02:26:05",
          "1970-01-01T02:26:05",
          "1970-01-01T03:01:38",
          "1970-01-01T03:01:38",
          "1970-01-01T03:01:38",
          "1970-01-01T05:29:25",
          "1970-01-01T05:29:25",
          "1970-01-01T06:04:58",
          "1970-01-01T06:04:58",
          "1970-01-01T06:04:58",
          "1970-01-01T08:32:45",
          "1970-01-01T08:32:45",
          "1970-01-01T09:08:18",
          "1970-01-01T09:08:18",
          "1970-01-01T09:08:18",
          "1970-01-01T11:02:45",
          "1970-01-01T11:02:45",
          "1970-01-01T11:38:18",
          "1970-01-01T11:38:18",
          "1970-01-01T11:38:18",
          "1970-01-01T14:06:05",
          "1970-01-01T14:06:05",
          "1970-01-01T14:41:38",
          "1970-01-01T14:41:38",
          "1970-01-01T14:41:38",
          "1970-01-01T02:26:05",
          "1970-01-01T02:26:05",
          "1970-01-01T03:01:38",
          "1970-01-01T03:01:38",
          "1970-01-01T03:01:38",
          "1970-01-01T05:29:25",
          "1970-01-01T05:29:25",
          "1970-01-01T06:04:58",
          "1970-01-01T06:04:58",
          "1970-01-01T06:04:58",
          "1970-01-01T08:32:45",
          "1970-01-01T08:32:45",
          "1970-01-01T09:08:18",
          "1970-01-01T09:08:18",
          "1970-01-01T09:08:18",
          "1970-01-01T11:02:45",
          "1970-01-01T11:02:45",
          "1970-01-01T11:38:18",
          "1970-01-01T11:38:18",
          "1970-01-01T11:38:18",
          "1970-01-01T14:06:05",
          "1970-01-01T14:06:05",
          "1970-01-01T14:41:38",
          "1970-01-01T14:41:38",
          "1970-01-01T14:41:38"
         ],
         "y": [
          "Carrier B",
          "Carrier B",
          "Carrier B",
          "Carrier B",
          null,
          "Carrier B",
          "Carrier B",
          "Carrier B",
          "Carrier B",
          null,
          "Carrier B",
          "Carrier B",
          "Carrier B",
          "Carrier B",
          null,
          "Carrier B",
          "Carrier B",
          "Carrier B",
          "Carrier B",
          null,
          "Carrier B",
          "Carrier B",
          "Carrier B",
          "Carrier B",
          null,
          "Reclamation",
          "Reclamation",
          "Reclamation",
          "Reclamation",
          null,
          "Reclamation",
          "Reclamation",
          "Reclamation",
          "Reclamation",
          null,
          "Reclamation",
          "Reclamation",
          "Reclamation",
          "Reclamation",
          null,
          "Reclamation",
          "Reclamation",
          "Reclamation",
          "Reclamation",
          null,
          "Reclamation",
          "Reclamation",
          "Reclamation",
          "Reclamation",
          null
         ]
        },
        {
         "connectgaps": false,
         "hoverinfo": "y+name",
         "line": {
          "color": "rgb(140,31,128)",
          "width": 10
         },
         "mode": "lines",
         "name": "unloading:Carrier C",
         "type": "scatter",
         "x": [
          "1970-01-01T01:52:44",
          "1970-01-01T01:52:44",
          "1970-01-01T02:28:16",
          "1970-01-01T02:28:16",
          "1970-01-01T02:28:16",
          "1970-01-01T04:56:04",
          "1970-01-01T04:56:04",
          "1970-01-01T05:31:36",
          "1970-01-01T05:31:36",
          "1970-01-01T05:31:36",
          "1970-01-01T07:26:04",
          "1970-01-01T07:26:04",
          "1970-01-01T08:01:36",
          "1970-01-01T08:01:36",
          "1970-01-01T08:01:36",
          "1970-01-01T10:29:24",
          "1970-01-01T10:29:24",
          "1970-01-01T11:04:56",
          "1970-01-01T11:04:56",
          "1970-01-01T11:04:56",
          "1970-01-01T13:32:44",
          "1970-01-01T13:32:44",
          "1970-01-01T14:08:16",
          "1970-01-01T14:08:16",
          "1970-01-01T14:08:16",
          "1970-01-01T01:52:44",
          "1970-01-01T01:52:44",
          "1970-01-01T02:28:16",
          "1970-01-01T02:28:16",
          "1970-01-01T02:28:16",
          "1970-01-01T04:56:04",
          "1970-01-01T04:56:04",
          "1970-01-01T05:31:36",
          "1970-01-01T05:31:36",
          "1970-01-01T05:31:36",
          "1970-01-01T07:26:04",
          "1970-01-01T07:26:04",
          "1970-01-01T08:01:36",
          "1970-01-01T08:01:36",
          "1970-01-01T08:01:36",
          "1970-01-01T10:29:24",
          "1970-01-01T10:29:24",
          "1970-01-01T11:04:56",
          "1970-01-01T11:04:56",
          "1970-01-01T11:04:56",
          "1970-01-01T13:32:44",
          "1970-01-01T13:32:44",
          "1970-01-01T14:08:16",
          "1970-01-01T14:08:16",
          "1970-01-01T14:08:16"
         ],
         "y": [
          "Carrier C",
          "Carrier C",
          "Carrier C",
          "Carrier C",
          null,
          "Carrier C",
          "Carrier C",
          "Carrier C",
          "Carrier C",
          null,
          "Carrier C",
          "Carrier C",
          "Carrier C",
          "Carrier C",
          null,
          "Carrier C",
          "Carrier C",
          "Carrier C",
          "Carrier C",
          null,
          "Carrier C",
          "Carrier C",
          "Carrier C",
          "Carrier C",
          null,
          "Reclamation",
          "Reclamation",
          "Reclamation",
          "Reclamation",
          null,
          "Reclamation",
          "Reclamation",
          "Reclamation",
          "Reclamation",
          null,
          "Reclamation",
          "Reclamation",
          "Reclamation",
          "Reclamation",
          null,
          "Reclamation",
          "Reclamation",
          "Reclamation",
          "Reclamation",
          null,
          "Reclamation",
          "Reclamation",
          "Reclamation",
          "Reclamation",
          null
         ]
        },
        {
         "connectgaps": false,
         "hoverinfo": "y+name",
         "line": {
          "color": "rgb(147,38,135)",
          "width": 10
         },
         "mode": "lines",
         "name": "loading:Carrier C",
         "type": "scatter",
         "x": [
          "1970-01-01T00:35:32",
          "1970-01-01T00:35:32",
          "1970-01-01T01:17:12",
          "1970-01-01T01:17:12",
          "1970-01-01T01:17:12",
          "1970-01-01T03:38:52",
          "1970-01-01T03:38:52",
          "1970-01-01T04:20:32",
          "1970-01-01T04:20:32",
          "1970-01-01T04:20:32",
          "1970-01-01T06:08:52",
          "1970-01-01T06:08:52",
          "1970-01-01T06:50:32",
          "1970-01-01T06:50:32",
          "1970-01-01T06:50:32",
          "1970-01-01T09:12:12",
          "1970-01-01T09:12:12",
          "1970-01-01T09:53:52",
          "1970-01-01T09:53:52",
          "1970-01-01T09:53:52",
          "1970-01-01T12:15:32",
          "1970-01-01T12:15:32",
          "1970-01-01T12:57:12",
          "1970-01-01T12:57:12",
          "1970-01-01T12:57:12",
          "1970-01-01T00:35:32",
          "1970-01-01T00:35:32",
          "1970-01-01T01:17:12",
          "1970-01-01T01:17:12",
          "1970-01-01T01:17:12",
          "1970-01-01T03:38:52",
          "1970-01-01T03:38:52",
          "1970-01-01T04:20:32",
          "1970-01-01T04:20:32",
          "1970-01-01T04:20:32",
          "1970-01-01T06:08:52",
          "1970-01-01T06:08:52",
          "1970-01-01T06:50:32",
          "1970-01-01T06:50:32",
          "1970-01-01T06:50:32",
          "1970-01-01T09:12:12",
          "1970-01-01T09:12:12",
          "1970-01-01T09:53:52",
          "1970-01-01T09:53:52",
          "1970-01-01T09:53:52",
          "1970-01-01T12:15:32",
          "1970-01-01T12:15:32",
          "1970-01-01T12:57:12",
          "1970-01-01T12:57:12",
          "1970-01-01T12:57:12",
          "1970-01-01T00:35:32",
          "1970-01-01T00:35:32",
          "1970-01-01T01:17:12",
          "1970-01-01T01:17:12",
          "1970-01-01T01:17:12",
          "1970-01-01T03:38:52",
          "1970-01-01T03:38:52",
          "1970-01-01T04:20:32",
          "1970-01-01T04:20:32",
          "1970-01-01T04:20:32",
          "1970-01-01T06:08:52",
          "1970-01-01T06:08:52",
          "1970-01-01T06:50:32",
          "1970-01-01T06:50:32",
          "1970-01-01T06:50:32",
          "1970-01-01T09:12:12",
          "1970-01-01T09:12:12",
          "1970-01-01T09:53:52",
          "1970-01-01T09:53:52",
          "1970-01-01T09:53:52",
          "1970-01-01T12:15:32",
          "1970-01-01T12:15:32",
          "1970-01-01T12:57:12",
          "1970-01-01T12:57:12",
          "1970-01-01T12:57:12"
         ],
         "y": [
          "Carrier C",
          "Carrier C",
          "Carrier C",
          "Carrier C",
          null,
          "Carrier C",
          "Carrier C",
          "Carrier C",
          "Carrier C",
          null,
          "Carrier C",
          "Carrier C",
          "Carrier C",
          "Carrier C",
          null,
          "Carrier C",
          "Carrier C",
          "Carrier C",
          "Carrier C",
          null,
          "Carrier C",
          "Carrier C",
          "Carrier C",
          "Carrier C",
          null,
          "Cutter T",
          "Cutter T",
          "Cutter T",
          "Cutter T",
          null,
          "Cutter T",
          "Cutter T",
          "Cutter T",
          "Cutter T",
          null,
          "Cutter T",
          "Cutter T",
          "Cutter T",
          "Cutter T",
          null,
          "Cutter T",
          "Cutter T",
          "Cutter T",
          "Cutter T",
          null,
          "Cutter T",
          "Cutter T",
          "Cutter T",
          "Cutter T",
          null,
          "Trench",
          "Trench",
          "Trench",
          "Trench",
          null,
          "Trench",
          "Trench",
          "Trench",
          "Trench",
          null,
          "Trench",
          "Trench",
          "Trench",
          "Trench",
          null,
          "Trench",
          "Trench",
          "Trench",
          "Trench",
          null,
          "Trench",
          "Trench",
          "Trench",
          "Trench",
          null
         ]
        },
        {
         "connectgaps": false,
         "hoverinfo": "y+name",
         "line": {
          "color": "rgb(154,45,142)",
          "width": 10
         },
         "mode": "lines",
         "name": "sailing full:Carrier C",
         "type": "scatter",
         "x": [
          "1970-01-01T01:17:12",
          "1970-01-01T01:17:12",
          "1970-01-01T01:52:44",
          "1970-01-01T01:52:44",
          "1970-01-01T01:52:44",
          "1970-01-01T04:20:32",
          "1970-01-01T04:20:32",
          "1970-01-01T04:56:04",
          "1970-01-01T04:56:04",
          "1970-01-01T04:56:04",
          "1970-01-01T06:50:32",
          "1970-01-01T06:50:32",
          "1970-01-01T07:26:04",
          "1970-01-01T07:26:04",
          "1970-01-01T07:26:04",
          "1970-01-01T09:53:52",
          "1970-01-01T09:53:52",
          "1970-01-01T10:29:24",
          "1970-01-01T10:29:24",
          "1970-01-01T10:29:24",
          "1970-01-01T12:57:12",
          "1970-01-01T12:57:12",
          "1970-01-01T13:32:44",
          "1970-01-01T13:32:44",
          "1970-01-01T13:32:44"
         ],
         "y": [
          "Carrier C",
          "Carrier C",
          "Carrier C",
          "Carrier C",
          null,
          "Carrier C",
          "Carrier C",
          "Carrier C",
          "Carrier C",
          null,
          "Carrier C",
          "Carrier C",
          "Carrier C",
          "Carrier C",
          null,
          "Carrier C",
          "Carrier C",
          "Carrier C",
          "Carrier C",
          null,
          "Carrier C",
          "Carrier C",
          "Carrier C",
          "Carrier C",
          null
         ]
        },
        {
         "connectgaps": false,
         "hoverinfo": "y+name",
         "line": {
          "color": "rgb(161,52,149)",
          "width": 10
         },
         "mode": "lines",
         "name": "sailing empty:Carrier C",
         "type": "scatter",
         "x": [
          "1970-01-01T00:00:00",
          "1970-01-01T00:00:00",
          "1970-01-01T00:35:32",
          "1970-01-01T00:35:32",
          "1970-01-01T00:35:32",
          "1970-01-01T02:28:16",
          "1970-01-01T02:28:16",
          "1970-01-01T03:03:48",
          "1970-01-01T03:03:48",
          "1970-01-01T03:03:48",
          "1970-01-01T05:31:36",
          "1970-01-01T05:31:36",
          "1970-01-01T06:07:08",
          "1970-01-01T06:07:08",
          "1970-01-01T06:07:08",
          "1970-01-01T08:01:36",
          "1970-01-01T08:01:36",
          "1970-01-01T08:37:08",
          "1970-01-01T08:37:08",
          "1970-01-01T08:37:08",
          "1970-01-01T11:04:56",
          "1970-01-01T11:04:56",
          "1970-01-01T11:40:28",
          "1970-01-01T11:40:28",
          "1970-01-01T11:40:28"
         ],
         "y": [
          "Carrier C",
          "Carrier C",
          "Carrier C",
          "Carrier C",
          null,
          "Carrier C",
          "Carrier C",
          "Carrier C",
          "Carrier C",
          null,
          "Carrier C",
          "Carrier C",
          "Carrier C",
          "Carrier C",
          null,
          "Carrier C",
          "Carrier C",
          "Carrier C",
          "Carrier C",
          null,
          "Carrier C",
          "Carrier C",
          "Carrier C",
          "Carrier C",
          null
         ]
        },
        {
         "connectgaps": false,
         "hoverinfo": "y+name",
         "line": {
          "color": "rgb(168,59,156)",
          "width": 10
         },
         "mode": "lines",
         "name": "loading:Barge I",
         "type": "scatter",
         "x": [
          "1970-01-01T02:32:12",
          "1970-01-01T02:32:12",
          "1970-01-01T03:05:32",
          "1970-01-01T03:05:32",
          "1970-01-01T03:05:32",
          "1970-01-01T05:35:32",
          "1970-01-01T05:35:32",
          "1970-01-01T06:08:52",
          "1970-01-01T06:08:52",
          "1970-01-01T06:08:52",
          "1970-01-01T08:38:52",
          "1970-01-01T08:38:52",
          "1970-01-01T09:12:12",
          "1970-01-01T09:12:12",
          "1970-01-01T09:12:12",
          "1970-01-01T11:42:12",
          "1970-01-01T11:42:12",
          "1970-01-01T12:15:32",
          "1970-01-01T12:15:32",
          "1970-01-01T12:15:32",
          "1970-01-01T02:32:12",
          "1970-01-01T02:32:12",
          "1970-01-01T03:05:32",
          "1970-01-01T03:05:32",
          "1970-01-01T03:05:32",
          "1970-01-01T05:35:32",
          "1970-01-01T05:35:32",
          "1970-01-01T06:08:52",
          "1970-01-01T06:08:52",
          "1970-01-01T06:08:52",
          "1970-01-01T08:38:52",
          "1970-01-01T08:38:52",
          "1970-01-01T09:12:12",
          "1970-01-01T09:12:12",
          "1970-01-01T09:12:12",
          "1970-01-01T11:42:12",
          "1970-01-01T11:42:12",
          "1970-01-01T12:15:32",
          "1970-01-01T12:15:32",
          "1970-01-01T12:15:32",
          "1970-01-01T02:32:12",
          "1970-01-01T02:32:12",
          "1970-01-01T03:05:32",
          "1970-01-01T03:05:32",
          "1970-01-01T03:05:32",
          "1970-01-01T05:35:32",
          "1970-01-01T05:35:32",
          "1970-01-01T06:08:52",
          "1970-01-01T06:08:52",
          "1970-01-01T06:08:52",
          "1970-01-01T08:38:52",
          "1970-01-01T08:38:52",
          "1970-01-01T09:12:12",
          "1970-01-01T09:12:12",
          "1970-01-01T09:12:12",
          "1970-01-01T11:42:12",
          "1970-01-01T11:42:12",
          "1970-01-01T12:15:32",
          "1970-01-01T12:15:32",
          "1970-01-01T12:15:32"
         ],
         "y": [
          "Barge I",
          "Barge I",
          "Barge I",
          "Barge I",
          null,
          "Barge I",
          "Barge I",
          "Barge I",
          "Barge I",
          null,
          "Barge I",
          "Barge I",
          "Barge I",
          "Barge I",
          null,
          "Barge I",
          "Barge I",
          "Barge I",
          "Barge I",
          null,
          "Cutter T",
          "Cutter T",
          "Cutter T",
          "Cutter T",
          null,
          "Cutter T",
          "Cutter T",
          "Cutter T",
          "Cutter T",
          null,
          "Cutter T",
          "Cutter T",
          "Cutter T",
          "Cutter T",
          null,
          "Cutter T",
          "Cutter T",
          "Cutter T",
          "Cutter T",
          null,
          "Trench",
          "Trench",
          "Trench",
          "Trench",
          null,
          "Trench",
          "Trench",
          "Trench",
          "Trench",
          null,
          "Trench",
          "Trench",
          "Trench",
          "Trench",
          null,
          "Trench",
          "Trench",
          "Trench",
          "Trench",
          null
         ]
        },
        {
         "connectgaps": false,
         "hoverinfo": "y+name",
         "line": {
          "color": "rgb(175,66,163)",
          "width": 10
         },
         "mode": "lines",
         "name": "sailing full:Barge I",
         "type": "scatter",
         "x": [
          "1970-01-01T03:05:32",
          "1970-01-01T03:05:32",
          "1970-01-01T03:44:20",
          "1970-01-01T03:44:20",
          "1970-01-01T03:44:20",
          "1970-01-01T06:08:52",
          "1970-01-01T06:08:52",
          "1970-01-01T06:47:40",
          "1970-01-01T06:47:40",
          "1970-01-01T06:47:40",
          "1970-01-01T09:12:12",
          "1970-01-01T09:12:12",
          "1970-01-01T09:51:00",
          "1970-01-01T09:51:00",
          "1970-01-01T09:51:00",
          "1970-01-01T12:15:32",
          "1970-01-01T12:15:32",
          "1970-01-01T12:54:20",
          "1970-01-01T12:54:20",
          "1970-01-01T12:54:20"
         ],
         "y": [
          "Barge I",
          "Barge I",
          "Barge I",
          "Barge I",
          null,
          "Barge I",
          "Barge I",
          "Barge I",
          "Barge I",
          null,
          "Barge I",
          "Barge I",
          "Barge I",
          "Barge I",
          null,
          "Barge I",
          "Barge I",
          "Barge I",
          "Barge I",
          null
         ]
        },
        {
         "connectgaps": false,
         "hoverinfo": "y+name",
         "line": {
          "color": "rgb(182,73,170)",
          "width": 10
         },
         "mode": "lines",
         "name": "unloading:Barge I",
         "type": "scatter",
         "x": [
          "1970-01-01T03:44:20",
          "1970-01-01T03:44:20",
          "1970-01-01T04:23:08",
          "1970-01-01T04:23:08",
          "1970-01-01T04:23:08",
          "1970-01-01T06:47:40",
          "1970-01-01T06:47:40",
          "1970-01-01T07:26:28",
          "1970-01-01T07:26:28",
          "1970-01-01T07:26:28",
          "1970-01-01T09:51:00",
          "1970-01-01T09:51:00",
          "1970-01-01T10:29:48",
          "1970-01-01T10:29:48",
          "1970-01-01T10:29:48",
          "1970-01-01T12:54:20",
          "1970-01-01T12:54:20",
          "1970-01-01T13:33:08",
          "1970-01-01T13:33:08",
          "1970-01-01T13:33:08",
          "1970-01-01T03:44:20",
          "1970-01-01T03:44:20",
          "1970-01-01T04:23:08",
          "1970-01-01T04:23:08",
          "1970-01-01T04:23:08",
          "1970-01-01T06:47:40",
          "1970-01-01T06:47:40",
          "1970-01-01T07:26:28",
          "1970-01-01T07:26:28",
          "1970-01-01T07:26:28",
          "1970-01-01T09:51:00",
          "1970-01-01T09:51:00",
          "1970-01-01T10:29:48",
          "1970-01-01T10:29:48",
          "1970-01-01T10:29:48",
          "1970-01-01T12:54:20",
          "1970-01-01T12:54:20",
          "1970-01-01T13:33:08",
          "1970-01-01T13:33:08",
          "1970-01-01T13:33:08"
         ],
         "y": [
          "Barge I",
          "Barge I",
          "Barge I",
          "Barge I",
          null,
          "Barge I",
          "Barge I",
          "Barge I",
          "Barge I",
          null,
          "Barge I",
          "Barge I",
          "Barge I",
          "Barge I",
          null,
          "Barge I",
          "Barge I",
          "Barge I",
          "Barge I",
          null,
          "Reclamation",
          "Reclamation",
          "Reclamation",
          "Reclamation",
          null,
          "Reclamation",
          "Reclamation",
          "Reclamation",
          "Reclamation",
          null,
          "Reclamation",
          "Reclamation",
          "Reclamation",
          "Reclamation",
          null,
          "Reclamation",
          "Reclamation",
          "Reclamation",
          "Reclamation",
          null
         ]
        },
        {
         "connectgaps": false,
         "hoverinfo": "y+name",
         "line": {
          "color": "rgb(189,80,177)",
          "width": 10
         },
         "mode": "lines",
         "name": "sailing empty:Barge I",
         "type": "scatter",
         "x": [
          "1970-01-01T00:00:00",
          "1970-01-01T00:00:00",
          "1970-01-01T00:38:48",
          "1970-01-01T00:38:48",
          "1970-01-01T00:38:48",
          "1970-01-01T04:23:08",
          "1970-01-01T04:23:08",
          "1970-01-01T05:01:56",
          "1970-01-01T05:01:56",
          "1970-01-01T05:01:56",
          "1970-01-01T07:26:28",
          "1970-01-01T07:26:28",
          "1970-01-01T08:05:16",
          "1970-01-01T08:05:16",
          "1970-01-01T08:05:16",
          "1970-01-01T10:29:48",
          "1970-01-01T10:29:48",
          "1970-01-01T11:08:36",
          "1970-01-01T11:08:36",
          "1970-01-01T11:08:36"
         ],
         "y": [
          "Barge I",
          "Barge I",
          "Barge I",
          "Barge I",
          null,
          "Barge I",
          "Barge I",
          "Barge I",
          "Barge I",
          null,
          "Barge I",
          "Barge I",
          "Barge I",
          "Barge I",
          null,
          "Barge I",
          "Barge I",
          "Barge I",
          "Barge I",
          null
         ]
        },
        {
         "connectgaps": false,
         "hoverinfo": "y+name",
         "line": {
          "color": "rgb(196,87,184)",
          "width": 10
         },
         "mode": "lines",
         "name": "sailing full:Barge II",
         "type": "scatter",
         "x": [
          "1970-01-01T02:32:12",
          "1970-01-01T02:32:12",
          "1970-01-01T03:07:47",
          "1970-01-01T03:07:47",
          "1970-01-01T03:07:47",
          "1970-01-01T05:35:32",
          "1970-01-01T05:35:32",
          "1970-01-01T06:11:07",
          "1970-01-01T06:11:07",
          "1970-01-01T06:11:07",
          "1970-01-01T08:38:52",
          "1970-01-01T08:38:52",
          "1970-01-01T09:14:27",
          "1970-01-01T09:14:27",
          "1970-01-01T09:14:27",
          "1970-01-01T11:42:12",
          "1970-01-01T11:42:12",
          "1970-01-01T12:17:47",
          "1970-01-01T12:17:47",
          "1970-01-01T12:17:47",
          "1970-01-01T14:12:12",
          "1970-01-01T14:12:12",
          "1970-01-01T14:47:47",
          "1970-01-01T14:47:47",
          "1970-01-01T14:47:47"
         ],
         "y": [
          "Barge II",
          "Barge II",
          "Barge II",
          "Barge II",
          null,
          "Barge II",
          "Barge II",
          "Barge II",
          "Barge II",
          null,
          "Barge II",
          "Barge II",
          "Barge II",
          "Barge II",
          null,
          "Barge II",
          "Barge II",
          "Barge II",
          "Barge II",
          null,
          "Barge II",
          "Barge II",
          "Barge II",
          "Barge II",
          null
         ]
        },
        {
         "connectgaps": false,
         "hoverinfo": "y+name",
         "line": {
          "color": "rgb(203,94,191)",
          "width": 10
         },
         "mode": "lines",
         "name": "sailing empty:Barge II",
         "type": "scatter",
         "x": [
          "1970-01-01T00:00:00",
          "1970-01-01T00:00:00",
          "1970-01-01T00:35:35",
          "1970-01-01T00:35:35",
          "1970-01-01T00:35:35",
          "1970-01-01T03:43:22",
          "1970-01-01T03:43:22",
          "1970-01-01T04:18:57",
          "1970-01-01T04:18:57",
          "1970-01-01T04:18:57",
          "1970-01-01T06:46:42",
          "1970-01-01T06:46:42",
          "1970-01-01T07:22:17",
          "1970-01-01T07:22:17",
          "1970-01-01T07:22:17",
          "1970-01-01T09:50:02",
          "1970-01-01T09:50:02",
          "1970-01-01T10:25:37",
          "1970-01-01T10:25:37",
          "1970-01-01T10:25:37",
          "1970-01-01T12:53:22",
          "1970-01-01T12:53:22",
          "1970-01-01T13:28:57",
          "1970-01-01T13:28:57",
          "1970-01-01T13:28:57"
         ],
         "y": [
          "Barge II",
          "Barge II",
          "Barge II",
          "Barge II",
          null,
          "Barge II",
          "Barge II",
          "Barge II",
          "Barge II",
          null,
          "Barge II",
          "Barge II",
          "Barge II",
          "Barge II",
          null,
          "Barge II",
          "Barge II",
          "Barge II",
          "Barge II",
          null,
          "Barge II",
          "Barge II",
          "Barge II",
          "Barge II",
          null
         ]
        },
        {
         "connectgaps": false,
         "hoverinfo": "y+name",
         "line": {
          "color": "rgb(210,101,198)",
          "width": 10
         },
         "mode": "lines",
         "name": "unloading:Barge II",
         "type": "scatter",
         "x": [
          "1970-01-01T03:07:47",
          "1970-01-01T03:07:47",
          "1970-01-01T03:43:22",
          "1970-01-01T03:43:22",
          "1970-01-01T03:43:22",
          "1970-01-01T06:11:07",
          "1970-01-01T06:11:07",
          "1970-01-01T06:46:42",
          "1970-01-01T06:46:42",
          "1970-01-01T06:46:42",
          "1970-01-01T09:14:27",
          "1970-01-01T09:14:27",
          "1970-01-01T09:50:02",
          "1970-01-01T09:50:02",
          "1970-01-01T09:50:02",
          "1970-01-01T12:17:47",
          "1970-01-01T12:17:47",
          "1970-01-01T12:53:22",
          "1970-01-01T12:53:22",
          "1970-01-01T12:53:22",
          "1970-01-01T14:47:47",
          "1970-01-01T14:47:47",
          "1970-01-01T15:23:22",
          "1970-01-01T15:23:22",
          "1970-01-01T15:23:22",
          "1970-01-01T03:07:47",
          "1970-01-01T03:07:47",
          "1970-01-01T03:43:22",
          "1970-01-01T03:43:22",
          "1970-01-01T03:43:22",
          "1970-01-01T06:11:07",
          "1970-01-01T06:11:07",
          "1970-01-01T06:46:42",
          "1970-01-01T06:46:42",
          "1970-01-01T06:46:42",
          "1970-01-01T09:14:27",
          "1970-01-01T09:14:27",
          "1970-01-01T09:50:02",
          "1970-01-01T09:50:02",
          "1970-01-01T09:50:02",
          "1970-01-01T12:17:47",
          "1970-01-01T12:17:47",
          "1970-01-01T12:53:22",
          "1970-01-01T12:53:22",
          "1970-01-01T12:53:22",
          "1970-01-01T14:47:47",
          "1970-01-01T14:47:47",
          "1970-01-01T15:23:22",
          "1970-01-01T15:23:22",
          "1970-01-01T15:23:22"
         ],
         "y": [
          "Barge II",
          "Barge II",
          "Barge II",
          "Barge II",
          null,
          "Barge II",
          "Barge II",
          "Barge II",
          "Barge II",
          null,
          "Barge II",
          "Barge II",
          "Barge II",
          "Barge II",
          null,
          "Barge II",
          "Barge II",
          "Barge II",
          "Barge II",
          null,
          "Barge II",
          "Barge II",
          "Barge II",
          "Barge II",
          null,
          "Reclamation",
          "Reclamation",
          "Reclamation",
          "Reclamation",
          null,
          "Reclamation",
          "Reclamation",
          "Reclamation",
          "Reclamation",
          null,
          "Reclamation",
          "Reclamation",
          "Reclamation",
          "Reclamation",
          null,
          "Reclamation",
          "Reclamation",
          "Reclamation",
          "Reclamation",
          null,
          "Reclamation",
          "Reclamation",
          "Reclamation",
          "Reclamation",
          null
         ]
        },
        {
         "connectgaps": false,
         "hoverinfo": "y+name",
         "line": {
          "color": "rgb(217,108,205)",
          "width": 10
         },
         "mode": "lines",
         "name": "loading:Barge II",
         "type": "scatter",
         "x": [
          "1970-01-01T01:50:32",
          "1970-01-01T01:50:32",
          "1970-01-01T02:32:12",
          "1970-01-01T02:32:12",
          "1970-01-01T02:32:12",
          "1970-01-01T04:53:52",
          "1970-01-01T04:53:52",
          "1970-01-01T05:35:32",
          "1970-01-01T05:35:32",
          "1970-01-01T05:35:32",
          "1970-01-01T07:57:12",
          "1970-01-01T07:57:12",
          "1970-01-01T08:38:52",
          "1970-01-01T08:38:52",
          "1970-01-01T08:38:52",
          "1970-01-01T11:00:32",
          "1970-01-01T11:00:32",
          "1970-01-01T11:42:12",
          "1970-01-01T11:42:12",
          "1970-01-01T11:42:12",
          "1970-01-01T13:30:32",
          "1970-01-01T13:30:32",
          "1970-01-01T14:12:12",
          "1970-01-01T14:12:12",
          "1970-01-01T14:12:12",
          "1970-01-01T01:50:32",
          "1970-01-01T01:50:32",
          "1970-01-01T02:32:12",
          "1970-01-01T02:32:12",
          "1970-01-01T02:32:12",
          "1970-01-01T04:53:52",
          "1970-01-01T04:53:52",
          "1970-01-01T05:35:32",
          "1970-01-01T05:35:32",
          "1970-01-01T05:35:32",
          "1970-01-01T07:57:12",
          "1970-01-01T07:57:12",
          "1970-01-01T08:38:52",
          "1970-01-01T08:38:52",
          "1970-01-01T08:38:52",
          "1970-01-01T11:00:32",
          "1970-01-01T11:00:32",
          "1970-01-01T11:42:12",
          "1970-01-01T11:42:12",
          "1970-01-01T11:42:12",
          "1970-01-01T13:30:32",
          "1970-01-01T13:30:32",
          "1970-01-01T14:12:12",
          "1970-01-01T14:12:12",
          "1970-01-01T14:12:12",
          "1970-01-01T01:50:32",
          "1970-01-01T01:50:32",
          "1970-01-01T02:32:12",
          "1970-01-01T02:32:12",
          "1970-01-01T02:32:12",
          "1970-01-01T04:53:52",
          "1970-01-01T04:53:52",
          "1970-01-01T05:35:32",
          "1970-01-01T05:35:32",
          "1970-01-01T05:35:32",
          "1970-01-01T07:57:12",
          "1970-01-01T07:57:12",
          "1970-01-01T08:38:52",
          "1970-01-01T08:38:52",
          "1970-01-01T08:38:52",
          "1970-01-01T11:00:32",
          "1970-01-01T11:00:32",
          "1970-01-01T11:42:12",
          "1970-01-01T11:42:12",
          "1970-01-01T11:42:12",
          "1970-01-01T13:30:32",
          "1970-01-01T13:30:32",
          "1970-01-01T14:12:12",
          "1970-01-01T14:12:12",
          "1970-01-01T14:12:12"
         ],
         "y": [
          "Barge II",
          "Barge II",
          "Barge II",
          "Barge II",
          null,
          "Barge II",
          "Barge II",
          "Barge II",
          "Barge II",
          null,
          "Barge II",
          "Barge II",
          "Barge II",
          "Barge II",
          null,
          "Barge II",
          "Barge II",
          "Barge II",
          "Barge II",
          null,
          "Barge II",
          "Barge II",
          "Barge II",
          "Barge II",
          null,
          "Cutter T",
          "Cutter T",
          "Cutter T",
          "Cutter T",
          null,
          "Cutter T",
          "Cutter T",
          "Cutter T",
          "Cutter T",
          null,
          "Cutter T",
          "Cutter T",
          "Cutter T",
          "Cutter T",
          null,
          "Cutter T",
          "Cutter T",
          "Cutter T",
          "Cutter T",
          null,
          "Cutter T",
          "Cutter T",
          "Cutter T",
          "Cutter T",
          null,
          "Trench",
          "Trench",
          "Trench",
          "Trench",
          null,
          "Trench",
          "Trench",
          "Trench",
          "Trench",
          null,
          "Trench",
          "Trench",
          "Trench",
          "Trench",
          null,
          "Trench",
          "Trench",
          "Trench",
          "Trench",
          null,
          "Trench",
          "Trench",
          "Trench",
          "Trench",
          null
         ]
        },
        {
         "connectgaps": false,
         "hoverinfo": "y+name",
         "line": {
          "color": "rgb(224,115,212)",
          "width": 10
         },
         "mode": "lines",
         "name": "loading:Barge I",
         "type": "scatter",
         "x": [
          "1970-01-01T02:32:12",
          "1970-01-01T02:32:12",
          "1970-01-01T03:05:32",
          "1970-01-01T03:05:32",
          "1970-01-01T03:05:32",
          "1970-01-01T05:35:32",
          "1970-01-01T05:35:32",
          "1970-01-01T06:08:52",
          "1970-01-01T06:08:52",
          "1970-01-01T06:08:52",
          "1970-01-01T08:38:52",
          "1970-01-01T08:38:52",
          "1970-01-01T09:12:12",
          "1970-01-01T09:12:12",
          "1970-01-01T09:12:12",
          "1970-01-01T11:42:12",
          "1970-01-01T11:42:12",
          "1970-01-01T12:15:32",
          "1970-01-01T12:15:32",
          "1970-01-01T12:15:32",
          "1970-01-01T02:32:12",
          "1970-01-01T02:32:12",
          "1970-01-01T03:05:32",
          "1970-01-01T03:05:32",
          "1970-01-01T03:05:32",
          "1970-01-01T05:35:32",
          "1970-01-01T05:35:32",
          "1970-01-01T06:08:52",
          "1970-01-01T06:08:52",
          "1970-01-01T06:08:52",
          "1970-01-01T08:38:52",
          "1970-01-01T08:38:52",
          "1970-01-01T09:12:12",
          "1970-01-01T09:12:12",
          "1970-01-01T09:12:12",
          "1970-01-01T11:42:12",
          "1970-01-01T11:42:12",
          "1970-01-01T12:15:32",
          "1970-01-01T12:15:32",
          "1970-01-01T12:15:32",
          "1970-01-01T02:32:12",
          "1970-01-01T02:32:12",
          "1970-01-01T03:05:32",
          "1970-01-01T03:05:32",
          "1970-01-01T03:05:32",
          "1970-01-01T05:35:32",
          "1970-01-01T05:35:32",
          "1970-01-01T06:08:52",
          "1970-01-01T06:08:52",
          "1970-01-01T06:08:52",
          "1970-01-01T08:38:52",
          "1970-01-01T08:38:52",
          "1970-01-01T09:12:12",
          "1970-01-01T09:12:12",
          "1970-01-01T09:12:12",
          "1970-01-01T11:42:12",
          "1970-01-01T11:42:12",
          "1970-01-01T12:15:32",
          "1970-01-01T12:15:32",
          "1970-01-01T12:15:32"
         ],
         "y": [
          "Barge I",
          "Barge I",
          "Barge I",
          "Barge I",
          null,
          "Barge I",
          "Barge I",
          "Barge I",
          "Barge I",
          null,
          "Barge I",
          "Barge I",
          "Barge I",
          "Barge I",
          null,
          "Barge I",
          "Barge I",
          "Barge I",
          "Barge I",
          null,
          "Cutter T",
          "Cutter T",
          "Cutter T",
          "Cutter T",
          null,
          "Cutter T",
          "Cutter T",
          "Cutter T",
          "Cutter T",
          null,
          "Cutter T",
          "Cutter T",
          "Cutter T",
          "Cutter T",
          null,
          "Cutter T",
          "Cutter T",
          "Cutter T",
          "Cutter T",
          null,
          "Trench",
          "Trench",
          "Trench",
          "Trench",
          null,
          "Trench",
          "Trench",
          "Trench",
          "Trench",
          null,
          "Trench",
          "Trench",
          "Trench",
          "Trench",
          null,
          "Trench",
          "Trench",
          "Trench",
          "Trench",
          null
         ]
        },
        {
         "connectgaps": false,
         "hoverinfo": "y+name",
         "line": {
          "color": "rgb(231,122,219)",
          "width": 10
         },
         "mode": "lines",
         "name": "loading:Carrier C",
         "type": "scatter",
         "x": [
          "1970-01-01T00:35:32",
          "1970-01-01T00:35:32",
          "1970-01-01T01:17:12",
          "1970-01-01T01:17:12",
          "1970-01-01T01:17:12",
          "1970-01-01T03:38:52",
          "1970-01-01T03:38:52",
          "1970-01-01T04:20:32",
          "1970-01-01T04:20:32",
          "1970-01-01T04:20:32",
          "1970-01-01T06:08:52",
          "1970-01-01T06:08:52",
          "1970-01-01T06:50:32",
          "1970-01-01T06:50:32",
          "1970-01-01T06:50:32",
          "1970-01-01T09:12:12",
          "1970-01-01T09:12:12",
          "1970-01-01T09:53:52",
          "1970-01-01T09:53:52",
          "1970-01-01T09:53:52",
          "1970-01-01T12:15:32",
          "1970-01-01T12:15:32",
          "1970-01-01T12:57:12",
          "1970-01-01T12:57:12",
          "1970-01-01T12:57:12",
          "1970-01-01T00:35:32",
          "1970-01-01T00:35:32",
          "1970-01-01T01:17:12",
          "1970-01-01T01:17:12",
          "1970-01-01T01:17:12",
          "1970-01-01T03:38:52",
          "1970-01-01T03:38:52",
          "1970-01-01T04:20:32",
          "1970-01-01T04:20:32",
          "1970-01-01T04:20:32",
          "1970-01-01T06:08:52",
          "1970-01-01T06:08:52",
          "1970-01-01T06:50:32",
          "1970-01-01T06:50:32",
          "1970-01-01T06:50:32",
          "1970-01-01T09:12:12",
          "1970-01-01T09:12:12",
          "1970-01-01T09:53:52",
          "1970-01-01T09:53:52",
          "1970-01-01T09:53:52",
          "1970-01-01T12:15:32",
          "1970-01-01T12:15:32",
          "1970-01-01T12:57:12",
          "1970-01-01T12:57:12",
          "1970-01-01T12:57:12",
          "1970-01-01T00:35:32",
          "1970-01-01T00:35:32",
          "1970-01-01T01:17:12",
          "1970-01-01T01:17:12",
          "1970-01-01T01:17:12",
          "1970-01-01T03:38:52",
          "1970-01-01T03:38:52",
          "1970-01-01T04:20:32",
          "1970-01-01T04:20:32",
          "1970-01-01T04:20:32",
          "1970-01-01T06:08:52",
          "1970-01-01T06:08:52",
          "1970-01-01T06:50:32",
          "1970-01-01T06:50:32",
          "1970-01-01T06:50:32",
          "1970-01-01T09:12:12",
          "1970-01-01T09:12:12",
          "1970-01-01T09:53:52",
          "1970-01-01T09:53:52",
          "1970-01-01T09:53:52",
          "1970-01-01T12:15:32",
          "1970-01-01T12:15:32",
          "1970-01-01T12:57:12",
          "1970-01-01T12:57:12",
          "1970-01-01T12:57:12"
         ],
         "y": [
          "Carrier C",
          "Carrier C",
          "Carrier C",
          "Carrier C",
          null,
          "Carrier C",
          "Carrier C",
          "Carrier C",
          "Carrier C",
          null,
          "Carrier C",
          "Carrier C",
          "Carrier C",
          "Carrier C",
          null,
          "Carrier C",
          "Carrier C",
          "Carrier C",
          "Carrier C",
          null,
          "Carrier C",
          "Carrier C",
          "Carrier C",
          "Carrier C",
          null,
          "Cutter T",
          "Cutter T",
          "Cutter T",
          "Cutter T",
          null,
          "Cutter T",
          "Cutter T",
          "Cutter T",
          "Cutter T",
          null,
          "Cutter T",
          "Cutter T",
          "Cutter T",
          "Cutter T",
          null,
          "Cutter T",
          "Cutter T",
          "Cutter T",
          "Cutter T",
          null,
          "Cutter T",
          "Cutter T",
          "Cutter T",
          "Cutter T",
          null,
          "Trench",
          "Trench",
          "Trench",
          "Trench",
          null,
          "Trench",
          "Trench",
          "Trench",
          "Trench",
          null,
          "Trench",
          "Trench",
          "Trench",
          "Trench",
          null,
          "Trench",
          "Trench",
          "Trench",
          "Trench",
          null,
          "Trench",
          "Trench",
          "Trench",
          "Trench",
          null
         ]
        },
        {
         "connectgaps": false,
         "hoverinfo": "y+name",
         "line": {
          "color": "rgb(238,129,226)",
          "width": 10
         },
         "mode": "lines",
         "name": "loading:Barge II",
         "type": "scatter",
         "x": [
          "1970-01-01T01:50:32",
          "1970-01-01T01:50:32",
          "1970-01-01T02:32:12",
          "1970-01-01T02:32:12",
          "1970-01-01T02:32:12",
          "1970-01-01T04:53:52",
          "1970-01-01T04:53:52",
          "1970-01-01T05:35:32",
          "1970-01-01T05:35:32",
          "1970-01-01T05:35:32",
          "1970-01-01T07:57:12",
          "1970-01-01T07:57:12",
          "1970-01-01T08:38:52",
          "1970-01-01T08:38:52",
          "1970-01-01T08:38:52",
          "1970-01-01T11:00:32",
          "1970-01-01T11:00:32",
          "1970-01-01T11:42:12",
          "1970-01-01T11:42:12",
          "1970-01-01T11:42:12",
          "1970-01-01T13:30:32",
          "1970-01-01T13:30:32",
          "1970-01-01T14:12:12",
          "1970-01-01T14:12:12",
          "1970-01-01T14:12:12",
          "1970-01-01T01:50:32",
          "1970-01-01T01:50:32",
          "1970-01-01T02:32:12",
          "1970-01-01T02:32:12",
          "1970-01-01T02:32:12",
          "1970-01-01T04:53:52",
          "1970-01-01T04:53:52",
          "1970-01-01T05:35:32",
          "1970-01-01T05:35:32",
          "1970-01-01T05:35:32",
          "1970-01-01T07:57:12",
          "1970-01-01T07:57:12",
          "1970-01-01T08:38:52",
          "1970-01-01T08:38:52",
          "1970-01-01T08:38:52",
          "1970-01-01T11:00:32",
          "1970-01-01T11:00:32",
          "1970-01-01T11:42:12",
          "1970-01-01T11:42:12",
          "1970-01-01T11:42:12",
          "1970-01-01T13:30:32",
          "1970-01-01T13:30:32",
          "1970-01-01T14:12:12",
          "1970-01-01T14:12:12",
          "1970-01-01T14:12:12",
          "1970-01-01T01:50:32",
          "1970-01-01T01:50:32",
          "1970-01-01T02:32:12",
          "1970-01-01T02:32:12",
          "1970-01-01T02:32:12",
          "1970-01-01T04:53:52",
          "1970-01-01T04:53:52",
          "1970-01-01T05:35:32",
          "1970-01-01T05:35:32",
          "1970-01-01T05:35:32",
          "1970-01-01T07:57:12",
          "1970-01-01T07:57:12",
          "1970-01-01T08:38:52",
          "1970-01-01T08:38:52",
          "1970-01-01T08:38:52",
          "1970-01-01T11:00:32",
          "1970-01-01T11:00:32",
          "1970-01-01T11:42:12",
          "1970-01-01T11:42:12",
          "1970-01-01T11:42:12",
          "1970-01-01T13:30:32",
          "1970-01-01T13:30:32",
          "1970-01-01T14:12:12",
          "1970-01-01T14:12:12",
          "1970-01-01T14:12:12"
         ],
         "y": [
          "Barge II",
          "Barge II",
          "Barge II",
          "Barge II",
          null,
          "Barge II",
          "Barge II",
          "Barge II",
          "Barge II",
          null,
          "Barge II",
          "Barge II",
          "Barge II",
          "Barge II",
          null,
          "Barge II",
          "Barge II",
          "Barge II",
          "Barge II",
          null,
          "Barge II",
          "Barge II",
          "Barge II",
          "Barge II",
          null,
          "Cutter T",
          "Cutter T",
          "Cutter T",
          "Cutter T",
          null,
          "Cutter T",
          "Cutter T",
          "Cutter T",
          "Cutter T",
          null,
          "Cutter T",
          "Cutter T",
          "Cutter T",
          "Cutter T",
          null,
          "Cutter T",
          "Cutter T",
          "Cutter T",
          "Cutter T",
          null,
          "Cutter T",
          "Cutter T",
          "Cutter T",
          "Cutter T",
          null,
          "Trench",
          "Trench",
          "Trench",
          "Trench",
          null,
          "Trench",
          "Trench",
          "Trench",
          "Trench",
          null,
          "Trench",
          "Trench",
          "Trench",
          "Trench",
          null,
          "Trench",
          "Trench",
          "Trench",
          "Trench",
          null,
          "Trench",
          "Trench",
          "Trench",
          "Trench",
          null
         ]
        },
        {
         "connectgaps": false,
         "hoverinfo": "y+name",
         "line": {
          "color": "rgb(245,136,233)",
          "width": 10
         },
         "mode": "lines",
         "name": "loading:Carrier A",
         "type": "scatter",
         "x": [
          "1970-01-01T03:05:32",
          "1970-01-01T03:05:32",
          "1970-01-01T03:38:52",
          "1970-01-01T03:38:52",
          "1970-01-01T03:38:52",
          "1970-01-01T06:50:32",
          "1970-01-01T06:50:32",
          "1970-01-01T07:23:52",
          "1970-01-01T07:23:52",
          "1970-01-01T07:23:52",
          "1970-01-01T10:27:12",
          "1970-01-01T10:27:12",
          "1970-01-01T11:00:32",
          "1970-01-01T11:00:32",
          "1970-01-01T11:00:32",
          "1970-01-01T14:12:12",
          "1970-01-01T14:12:12",
          "1970-01-01T14:45:32",
          "1970-01-01T14:45:32",
          "1970-01-01T14:45:32",
          "1970-01-01T03:05:32",
          "1970-01-01T03:05:32",
          "1970-01-01T03:38:52",
          "1970-01-01T03:38:52",
          "1970-01-01T03:38:52",
          "1970-01-01T06:50:32",
          "1970-01-01T06:50:32",
          "1970-01-01T07:23:52",
          "1970-01-01T07:23:52",
          "1970-01-01T07:23:52",
          "1970-01-01T10:27:12",
          "1970-01-01T10:27:12",
          "1970-01-01T11:00:32",
          "1970-01-01T11:00:32",
          "1970-01-01T11:00:32",
          "1970-01-01T14:12:12",
          "1970-01-01T14:12:12",
          "1970-01-01T14:45:32",
          "1970-01-01T14:45:32",
          "1970-01-01T14:45:32",
          "1970-01-01T03:05:32",
          "1970-01-01T03:05:32",
          "1970-01-01T03:38:52",
          "1970-01-01T03:38:52",
          "1970-01-01T03:38:52",
          "1970-01-01T06:50:32",
          "1970-01-01T06:50:32",
          "1970-01-01T07:23:52",
          "1970-01-01T07:23:52",
          "1970-01-01T07:23:52",
          "1970-01-01T10:27:12",
          "1970-01-01T10:27:12",
          "1970-01-01T11:00:32",
          "1970-01-01T11:00:32",
          "1970-01-01T11:00:32",
          "1970-01-01T14:12:12",
          "1970-01-01T14:12:12",
          "1970-01-01T14:45:32",
          "1970-01-01T14:45:32",
          "1970-01-01T14:45:32"
         ],
         "y": [
          "Carrier A",
          "Carrier A",
          "Carrier A",
          "Carrier A",
          null,
          "Carrier A",
          "Carrier A",
          "Carrier A",
          "Carrier A",
          null,
          "Carrier A",
          "Carrier A",
          "Carrier A",
          "Carrier A",
          null,
          "Carrier A",
          "Carrier A",
          "Carrier A",
          "Carrier A",
          null,
          "Cutter T",
          "Cutter T",
          "Cutter T",
          "Cutter T",
          null,
          "Cutter T",
          "Cutter T",
          "Cutter T",
          "Cutter T",
          null,
          "Cutter T",
          "Cutter T",
          "Cutter T",
          "Cutter T",
          null,
          "Cutter T",
          "Cutter T",
          "Cutter T",
          "Cutter T",
          null,
          "Trench",
          "Trench",
          "Trench",
          "Trench",
          null,
          "Trench",
          "Trench",
          "Trench",
          "Trench",
          null,
          "Trench",
          "Trench",
          "Trench",
          "Trench",
          null,
          "Trench",
          "Trench",
          "Trench",
          "Trench",
          null
         ]
        },
        {
         "connectgaps": false,
         "hoverinfo": "y+name",
         "line": {
          "color": "rgb(252,143,240)",
          "width": 10
         },
         "mode": "lines",
         "name": "loading:Carrier B",
         "type": "scatter",
         "x": [
          "1970-01-01T01:17:12",
          "1970-01-01T01:17:12",
          "1970-01-01T01:50:32",
          "1970-01-01T01:50:32",
          "1970-01-01T01:50:32",
          "1970-01-01T04:20:32",
          "1970-01-01T04:20:32",
          "1970-01-01T04:53:52",
          "1970-01-01T04:53:52",
          "1970-01-01T04:53:52",
          "1970-01-01T07:23:52",
          "1970-01-01T07:23:52",
          "1970-01-01T07:57:12",
          "1970-01-01T07:57:12",
          "1970-01-01T07:57:12",
          "1970-01-01T09:53:52",
          "1970-01-01T09:53:52",
          "1970-01-01T10:27:12",
          "1970-01-01T10:27:12",
          "1970-01-01T10:27:12",
          "1970-01-01T12:57:12",
          "1970-01-01T12:57:12",
          "1970-01-01T13:30:32",
          "1970-01-01T13:30:32",
          "1970-01-01T13:30:32",
          "1970-01-01T01:17:12",
          "1970-01-01T01:17:12",
          "1970-01-01T01:50:32",
          "1970-01-01T01:50:32",
          "1970-01-01T01:50:32",
          "1970-01-01T04:20:32",
          "1970-01-01T04:20:32",
          "1970-01-01T04:53:52",
          "1970-01-01T04:53:52",
          "1970-01-01T04:53:52",
          "1970-01-01T07:23:52",
          "1970-01-01T07:23:52",
          "1970-01-01T07:57:12",
          "1970-01-01T07:57:12",
          "1970-01-01T07:57:12",
          "1970-01-01T09:53:52",
          "1970-01-01T09:53:52",
          "1970-01-01T10:27:12",
          "1970-01-01T10:27:12",
          "1970-01-01T10:27:12",
          "1970-01-01T12:57:12",
          "1970-01-01T12:57:12",
          "1970-01-01T13:30:32",
          "1970-01-01T13:30:32",
          "1970-01-01T13:30:32",
          "1970-01-01T01:17:12",
          "1970-01-01T01:17:12",
          "1970-01-01T01:50:32",
          "1970-01-01T01:50:32",
          "1970-01-01T01:50:32",
          "1970-01-01T04:20:32",
          "1970-01-01T04:20:32",
          "1970-01-01T04:53:52",
          "1970-01-01T04:53:52",
          "1970-01-01T04:53:52",
          "1970-01-01T07:23:52",
          "1970-01-01T07:23:52",
          "1970-01-01T07:57:12",
          "1970-01-01T07:57:12",
          "1970-01-01T07:57:12",
          "1970-01-01T09:53:52",
          "1970-01-01T09:53:52",
          "1970-01-01T10:27:12",
          "1970-01-01T10:27:12",
          "1970-01-01T10:27:12",
          "1970-01-01T12:57:12",
          "1970-01-01T12:57:12",
          "1970-01-01T13:30:32",
          "1970-01-01T13:30:32",
          "1970-01-01T13:30:32"
         ],
         "y": [
          "Carrier B",
          "Carrier B",
          "Carrier B",
          "Carrier B",
          null,
          "Carrier B",
          "Carrier B",
          "Carrier B",
          "Carrier B",
          null,
          "Carrier B",
          "Carrier B",
          "Carrier B",
          "Carrier B",
          null,
          "Carrier B",
          "Carrier B",
          "Carrier B",
          "Carrier B",
          null,
          "Carrier B",
          "Carrier B",
          "Carrier B",
          "Carrier B",
          null,
          "Cutter T",
          "Cutter T",
          "Cutter T",
          "Cutter T",
          null,
          "Cutter T",
          "Cutter T",
          "Cutter T",
          "Cutter T",
          null,
          "Cutter T",
          "Cutter T",
          "Cutter T",
          "Cutter T",
          null,
          "Cutter T",
          "Cutter T",
          "Cutter T",
          "Cutter T",
          null,
          "Cutter T",
          "Cutter T",
          "Cutter T",
          "Cutter T",
          null,
          "Trench",
          "Trench",
          "Trench",
          "Trench",
          null,
          "Trench",
          "Trench",
          "Trench",
          "Trench",
          null,
          "Trench",
          "Trench",
          "Trench",
          "Trench",
          null,
          "Trench",
          "Trench",
          "Trench",
          "Trench",
          null,
          "Trench",
          "Trench",
          "Trench",
          "Trench",
          null
         ]
        },
        {
         "connectgaps": false,
         "hoverinfo": "y+name",
         "line": {
          "color": "rgb(3,150,247)",
          "width": 10
         },
         "mode": "lines",
         "name": "loading:Barge I",
         "type": "scatter",
         "x": [
          "1970-01-01T02:32:12",
          "1970-01-01T02:32:12",
          "1970-01-01T03:05:32",
          "1970-01-01T03:05:32",
          "1970-01-01T03:05:32",
          "1970-01-01T05:35:32",
          "1970-01-01T05:35:32",
          "1970-01-01T06:08:52",
          "1970-01-01T06:08:52",
          "1970-01-01T06:08:52",
          "1970-01-01T08:38:52",
          "1970-01-01T08:38:52",
          "1970-01-01T09:12:12",
          "1970-01-01T09:12:12",
          "1970-01-01T09:12:12",
          "1970-01-01T11:42:12",
          "1970-01-01T11:42:12",
          "1970-01-01T12:15:32",
          "1970-01-01T12:15:32",
          "1970-01-01T12:15:32",
          "1970-01-01T02:32:12",
          "1970-01-01T02:32:12",
          "1970-01-01T03:05:32",
          "1970-01-01T03:05:32",
          "1970-01-01T03:05:32",
          "1970-01-01T05:35:32",
          "1970-01-01T05:35:32",
          "1970-01-01T06:08:52",
          "1970-01-01T06:08:52",
          "1970-01-01T06:08:52",
          "1970-01-01T08:38:52",
          "1970-01-01T08:38:52",
          "1970-01-01T09:12:12",
          "1970-01-01T09:12:12",
          "1970-01-01T09:12:12",
          "1970-01-01T11:42:12",
          "1970-01-01T11:42:12",
          "1970-01-01T12:15:32",
          "1970-01-01T12:15:32",
          "1970-01-01T12:15:32",
          "1970-01-01T02:32:12",
          "1970-01-01T02:32:12",
          "1970-01-01T03:05:32",
          "1970-01-01T03:05:32",
          "1970-01-01T03:05:32",
          "1970-01-01T05:35:32",
          "1970-01-01T05:35:32",
          "1970-01-01T06:08:52",
          "1970-01-01T06:08:52",
          "1970-01-01T06:08:52",
          "1970-01-01T08:38:52",
          "1970-01-01T08:38:52",
          "1970-01-01T09:12:12",
          "1970-01-01T09:12:12",
          "1970-01-01T09:12:12",
          "1970-01-01T11:42:12",
          "1970-01-01T11:42:12",
          "1970-01-01T12:15:32",
          "1970-01-01T12:15:32",
          "1970-01-01T12:15:32"
         ],
         "y": [
          "Barge I",
          "Barge I",
          "Barge I",
          "Barge I",
          null,
          "Barge I",
          "Barge I",
          "Barge I",
          "Barge I",
          null,
          "Barge I",
          "Barge I",
          "Barge I",
          "Barge I",
          null,
          "Barge I",
          "Barge I",
          "Barge I",
          "Barge I",
          null,
          "Cutter T",
          "Cutter T",
          "Cutter T",
          "Cutter T",
          null,
          "Cutter T",
          "Cutter T",
          "Cutter T",
          "Cutter T",
          null,
          "Cutter T",
          "Cutter T",
          "Cutter T",
          "Cutter T",
          null,
          "Cutter T",
          "Cutter T",
          "Cutter T",
          "Cutter T",
          null,
          "Trench",
          "Trench",
          "Trench",
          "Trench",
          null,
          "Trench",
          "Trench",
          "Trench",
          "Trench",
          null,
          "Trench",
          "Trench",
          "Trench",
          "Trench",
          null,
          "Trench",
          "Trench",
          "Trench",
          "Trench",
          null
         ]
        },
        {
         "connectgaps": false,
         "hoverinfo": "y+name",
         "line": {
          "color": "rgb(10,157,254)",
          "width": 10
         },
         "mode": "lines",
         "name": "loading:Carrier C",
         "type": "scatter",
         "x": [
          "1970-01-01T00:35:32",
          "1970-01-01T00:35:32",
          "1970-01-01T01:17:12",
          "1970-01-01T01:17:12",
          "1970-01-01T01:17:12",
          "1970-01-01T03:38:52",
          "1970-01-01T03:38:52",
          "1970-01-01T04:20:32",
          "1970-01-01T04:20:32",
          "1970-01-01T04:20:32",
          "1970-01-01T06:08:52",
          "1970-01-01T06:08:52",
          "1970-01-01T06:50:32",
          "1970-01-01T06:50:32",
          "1970-01-01T06:50:32",
          "1970-01-01T09:12:12",
          "1970-01-01T09:12:12",
          "1970-01-01T09:53:52",
          "1970-01-01T09:53:52",
          "1970-01-01T09:53:52",
          "1970-01-01T12:15:32",
          "1970-01-01T12:15:32",
          "1970-01-01T12:57:12",
          "1970-01-01T12:57:12",
          "1970-01-01T12:57:12",
          "1970-01-01T00:35:32",
          "1970-01-01T00:35:32",
          "1970-01-01T01:17:12",
          "1970-01-01T01:17:12",
          "1970-01-01T01:17:12",
          "1970-01-01T03:38:52",
          "1970-01-01T03:38:52",
          "1970-01-01T04:20:32",
          "1970-01-01T04:20:32",
          "1970-01-01T04:20:32",
          "1970-01-01T06:08:52",
          "1970-01-01T06:08:52",
          "1970-01-01T06:50:32",
          "1970-01-01T06:50:32",
          "1970-01-01T06:50:32",
          "1970-01-01T09:12:12",
          "1970-01-01T09:12:12",
          "1970-01-01T09:53:52",
          "1970-01-01T09:53:52",
          "1970-01-01T09:53:52",
          "1970-01-01T12:15:32",
          "1970-01-01T12:15:32",
          "1970-01-01T12:57:12",
          "1970-01-01T12:57:12",
          "1970-01-01T12:57:12",
          "1970-01-01T00:35:32",
          "1970-01-01T00:35:32",
          "1970-01-01T01:17:12",
          "1970-01-01T01:17:12",
          "1970-01-01T01:17:12",
          "1970-01-01T03:38:52",
          "1970-01-01T03:38:52",
          "1970-01-01T04:20:32",
          "1970-01-01T04:20:32",
          "1970-01-01T04:20:32",
          "1970-01-01T06:08:52",
          "1970-01-01T06:08:52",
          "1970-01-01T06:50:32",
          "1970-01-01T06:50:32",
          "1970-01-01T06:50:32",
          "1970-01-01T09:12:12",
          "1970-01-01T09:12:12",
          "1970-01-01T09:53:52",
          "1970-01-01T09:53:52",
          "1970-01-01T09:53:52",
          "1970-01-01T12:15:32",
          "1970-01-01T12:15:32",
          "1970-01-01T12:57:12",
          "1970-01-01T12:57:12",
          "1970-01-01T12:57:12"
         ],
         "y": [
          "Carrier C",
          "Carrier C",
          "Carrier C",
          "Carrier C",
          null,
          "Carrier C",
          "Carrier C",
          "Carrier C",
          "Carrier C",
          null,
          "Carrier C",
          "Carrier C",
          "Carrier C",
          "Carrier C",
          null,
          "Carrier C",
          "Carrier C",
          "Carrier C",
          "Carrier C",
          null,
          "Carrier C",
          "Carrier C",
          "Carrier C",
          "Carrier C",
          null,
          "Cutter T",
          "Cutter T",
          "Cutter T",
          "Cutter T",
          null,
          "Cutter T",
          "Cutter T",
          "Cutter T",
          "Cutter T",
          null,
          "Cutter T",
          "Cutter T",
          "Cutter T",
          "Cutter T",
          null,
          "Cutter T",
          "Cutter T",
          "Cutter T",
          "Cutter T",
          null,
          "Cutter T",
          "Cutter T",
          "Cutter T",
          "Cutter T",
          null,
          "Trench",
          "Trench",
          "Trench",
          "Trench",
          null,
          "Trench",
          "Trench",
          "Trench",
          "Trench",
          null,
          "Trench",
          "Trench",
          "Trench",
          "Trench",
          null,
          "Trench",
          "Trench",
          "Trench",
          "Trench",
          null,
          "Trench",
          "Trench",
          "Trench",
          "Trench",
          null
         ]
        },
        {
         "connectgaps": false,
         "hoverinfo": "y+name",
         "line": {
          "color": "rgb(17,164,5)",
          "width": 10
         },
         "mode": "lines",
         "name": "loading:Barge II",
         "type": "scatter",
         "x": [
          "1970-01-01T01:50:32",
          "1970-01-01T01:50:32",
          "1970-01-01T02:32:12",
          "1970-01-01T02:32:12",
          "1970-01-01T02:32:12",
          "1970-01-01T04:53:52",
          "1970-01-01T04:53:52",
          "1970-01-01T05:35:32",
          "1970-01-01T05:35:32",
          "1970-01-01T05:35:32",
          "1970-01-01T07:57:12",
          "1970-01-01T07:57:12",
          "1970-01-01T08:38:52",
          "1970-01-01T08:38:52",
          "1970-01-01T08:38:52",
          "1970-01-01T11:00:32",
          "1970-01-01T11:00:32",
          "1970-01-01T11:42:12",
          "1970-01-01T11:42:12",
          "1970-01-01T11:42:12",
          "1970-01-01T13:30:32",
          "1970-01-01T13:30:32",
          "1970-01-01T14:12:12",
          "1970-01-01T14:12:12",
          "1970-01-01T14:12:12",
          "1970-01-01T01:50:32",
          "1970-01-01T01:50:32",
          "1970-01-01T02:32:12",
          "1970-01-01T02:32:12",
          "1970-01-01T02:32:12",
          "1970-01-01T04:53:52",
          "1970-01-01T04:53:52",
          "1970-01-01T05:35:32",
          "1970-01-01T05:35:32",
          "1970-01-01T05:35:32",
          "1970-01-01T07:57:12",
          "1970-01-01T07:57:12",
          "1970-01-01T08:38:52",
          "1970-01-01T08:38:52",
          "1970-01-01T08:38:52",
          "1970-01-01T11:00:32",
          "1970-01-01T11:00:32",
          "1970-01-01T11:42:12",
          "1970-01-01T11:42:12",
          "1970-01-01T11:42:12",
          "1970-01-01T13:30:32",
          "1970-01-01T13:30:32",
          "1970-01-01T14:12:12",
          "1970-01-01T14:12:12",
          "1970-01-01T14:12:12",
          "1970-01-01T01:50:32",
          "1970-01-01T01:50:32",
          "1970-01-01T02:32:12",
          "1970-01-01T02:32:12",
          "1970-01-01T02:32:12",
          "1970-01-01T04:53:52",
          "1970-01-01T04:53:52",
          "1970-01-01T05:35:32",
          "1970-01-01T05:35:32",
          "1970-01-01T05:35:32",
          "1970-01-01T07:57:12",
          "1970-01-01T07:57:12",
          "1970-01-01T08:38:52",
          "1970-01-01T08:38:52",
          "1970-01-01T08:38:52",
          "1970-01-01T11:00:32",
          "1970-01-01T11:00:32",
          "1970-01-01T11:42:12",
          "1970-01-01T11:42:12",
          "1970-01-01T11:42:12",
          "1970-01-01T13:30:32",
          "1970-01-01T13:30:32",
          "1970-01-01T14:12:12",
          "1970-01-01T14:12:12",
          "1970-01-01T14:12:12"
         ],
         "y": [
          "Barge II",
          "Barge II",
          "Barge II",
          "Barge II",
          null,
          "Barge II",
          "Barge II",
          "Barge II",
          "Barge II",
          null,
          "Barge II",
          "Barge II",
          "Barge II",
          "Barge II",
          null,
          "Barge II",
          "Barge II",
          "Barge II",
          "Barge II",
          null,
          "Barge II",
          "Barge II",
          "Barge II",
          "Barge II",
          null,
          "Cutter T",
          "Cutter T",
          "Cutter T",
          "Cutter T",
          null,
          "Cutter T",
          "Cutter T",
          "Cutter T",
          "Cutter T",
          null,
          "Cutter T",
          "Cutter T",
          "Cutter T",
          "Cutter T",
          null,
          "Cutter T",
          "Cutter T",
          "Cutter T",
          "Cutter T",
          null,
          "Cutter T",
          "Cutter T",
          "Cutter T",
          "Cutter T",
          null,
          "Trench",
          "Trench",
          "Trench",
          "Trench",
          null,
          "Trench",
          "Trench",
          "Trench",
          "Trench",
          null,
          "Trench",
          "Trench",
          "Trench",
          "Trench",
          null,
          "Trench",
          "Trench",
          "Trench",
          "Trench",
          null,
          "Trench",
          "Trench",
          "Trench",
          "Trench",
          null
         ]
        },
        {
         "connectgaps": false,
         "hoverinfo": "y+name",
         "line": {
          "color": "rgb(24,171,12)",
          "width": 10
         },
         "mode": "lines",
         "name": "loading:Carrier A",
         "type": "scatter",
         "x": [
          "1970-01-01T03:05:32",
          "1970-01-01T03:05:32",
          "1970-01-01T03:38:52",
          "1970-01-01T03:38:52",
          "1970-01-01T03:38:52",
          "1970-01-01T06:50:32",
          "1970-01-01T06:50:32",
          "1970-01-01T07:23:52",
          "1970-01-01T07:23:52",
          "1970-01-01T07:23:52",
          "1970-01-01T10:27:12",
          "1970-01-01T10:27:12",
          "1970-01-01T11:00:32",
          "1970-01-01T11:00:32",
          "1970-01-01T11:00:32",
          "1970-01-01T14:12:12",
          "1970-01-01T14:12:12",
          "1970-01-01T14:45:32",
          "1970-01-01T14:45:32",
          "1970-01-01T14:45:32",
          "1970-01-01T03:05:32",
          "1970-01-01T03:05:32",
          "1970-01-01T03:38:52",
          "1970-01-01T03:38:52",
          "1970-01-01T03:38:52",
          "1970-01-01T06:50:32",
          "1970-01-01T06:50:32",
          "1970-01-01T07:23:52",
          "1970-01-01T07:23:52",
          "1970-01-01T07:23:52",
          "1970-01-01T10:27:12",
          "1970-01-01T10:27:12",
          "1970-01-01T11:00:32",
          "1970-01-01T11:00:32",
          "1970-01-01T11:00:32",
          "1970-01-01T14:12:12",
          "1970-01-01T14:12:12",
          "1970-01-01T14:45:32",
          "1970-01-01T14:45:32",
          "1970-01-01T14:45:32",
          "1970-01-01T03:05:32",
          "1970-01-01T03:05:32",
          "1970-01-01T03:38:52",
          "1970-01-01T03:38:52",
          "1970-01-01T03:38:52",
          "1970-01-01T06:50:32",
          "1970-01-01T06:50:32",
          "1970-01-01T07:23:52",
          "1970-01-01T07:23:52",
          "1970-01-01T07:23:52",
          "1970-01-01T10:27:12",
          "1970-01-01T10:27:12",
          "1970-01-01T11:00:32",
          "1970-01-01T11:00:32",
          "1970-01-01T11:00:32",
          "1970-01-01T14:12:12",
          "1970-01-01T14:12:12",
          "1970-01-01T14:45:32",
          "1970-01-01T14:45:32",
          "1970-01-01T14:45:32"
         ],
         "y": [
          "Carrier A",
          "Carrier A",
          "Carrier A",
          "Carrier A",
          null,
          "Carrier A",
          "Carrier A",
          "Carrier A",
          "Carrier A",
          null,
          "Carrier A",
          "Carrier A",
          "Carrier A",
          "Carrier A",
          null,
          "Carrier A",
          "Carrier A",
          "Carrier A",
          "Carrier A",
          null,
          "Cutter T",
          "Cutter T",
          "Cutter T",
          "Cutter T",
          null,
          "Cutter T",
          "Cutter T",
          "Cutter T",
          "Cutter T",
          null,
          "Cutter T",
          "Cutter T",
          "Cutter T",
          "Cutter T",
          null,
          "Cutter T",
          "Cutter T",
          "Cutter T",
          "Cutter T",
          null,
          "Trench",
          "Trench",
          "Trench",
          "Trench",
          null,
          "Trench",
          "Trench",
          "Trench",
          "Trench",
          null,
          "Trench",
          "Trench",
          "Trench",
          "Trench",
          null,
          "Trench",
          "Trench",
          "Trench",
          "Trench",
          null
         ]
        },
        {
         "connectgaps": false,
         "hoverinfo": "y+name",
         "line": {
          "color": "rgb(31,178,19)",
          "width": 10
         },
         "mode": "lines",
         "name": "loading:Carrier B",
         "type": "scatter",
         "x": [
          "1970-01-01T01:17:12",
          "1970-01-01T01:17:12",
          "1970-01-01T01:50:32",
          "1970-01-01T01:50:32",
          "1970-01-01T01:50:32",
          "1970-01-01T04:20:32",
          "1970-01-01T04:20:32",
          "1970-01-01T04:53:52",
          "1970-01-01T04:53:52",
          "1970-01-01T04:53:52",
          "1970-01-01T07:23:52",
          "1970-01-01T07:23:52",
          "1970-01-01T07:57:12",
          "1970-01-01T07:57:12",
          "1970-01-01T07:57:12",
          "1970-01-01T09:53:52",
          "1970-01-01T09:53:52",
          "1970-01-01T10:27:12",
          "1970-01-01T10:27:12",
          "1970-01-01T10:27:12",
          "1970-01-01T12:57:12",
          "1970-01-01T12:57:12",
          "1970-01-01T13:30:32",
          "1970-01-01T13:30:32",
          "1970-01-01T13:30:32",
          "1970-01-01T01:17:12",
          "1970-01-01T01:17:12",
          "1970-01-01T01:50:32",
          "1970-01-01T01:50:32",
          "1970-01-01T01:50:32",
          "1970-01-01T04:20:32",
          "1970-01-01T04:20:32",
          "1970-01-01T04:53:52",
          "1970-01-01T04:53:52",
          "1970-01-01T04:53:52",
          "1970-01-01T07:23:52",
          "1970-01-01T07:23:52",
          "1970-01-01T07:57:12",
          "1970-01-01T07:57:12",
          "1970-01-01T07:57:12",
          "1970-01-01T09:53:52",
          "1970-01-01T09:53:52",
          "1970-01-01T10:27:12",
          "1970-01-01T10:27:12",
          "1970-01-01T10:27:12",
          "1970-01-01T12:57:12",
          "1970-01-01T12:57:12",
          "1970-01-01T13:30:32",
          "1970-01-01T13:30:32",
          "1970-01-01T13:30:32",
          "1970-01-01T01:17:12",
          "1970-01-01T01:17:12",
          "1970-01-01T01:50:32",
          "1970-01-01T01:50:32",
          "1970-01-01T01:50:32",
          "1970-01-01T04:20:32",
          "1970-01-01T04:20:32",
          "1970-01-01T04:53:52",
          "1970-01-01T04:53:52",
          "1970-01-01T04:53:52",
          "1970-01-01T07:23:52",
          "1970-01-01T07:23:52",
          "1970-01-01T07:57:12",
          "1970-01-01T07:57:12",
          "1970-01-01T07:57:12",
          "1970-01-01T09:53:52",
          "1970-01-01T09:53:52",
          "1970-01-01T10:27:12",
          "1970-01-01T10:27:12",
          "1970-01-01T10:27:12",
          "1970-01-01T12:57:12",
          "1970-01-01T12:57:12",
          "1970-01-01T13:30:32",
          "1970-01-01T13:30:32",
          "1970-01-01T13:30:32"
         ],
         "y": [
          "Carrier B",
          "Carrier B",
          "Carrier B",
          "Carrier B",
          null,
          "Carrier B",
          "Carrier B",
          "Carrier B",
          "Carrier B",
          null,
          "Carrier B",
          "Carrier B",
          "Carrier B",
          "Carrier B",
          null,
          "Carrier B",
          "Carrier B",
          "Carrier B",
          "Carrier B",
          null,
          "Carrier B",
          "Carrier B",
          "Carrier B",
          "Carrier B",
          null,
          "Cutter T",
          "Cutter T",
          "Cutter T",
          "Cutter T",
          null,
          "Cutter T",
          "Cutter T",
          "Cutter T",
          "Cutter T",
          null,
          "Cutter T",
          "Cutter T",
          "Cutter T",
          "Cutter T",
          null,
          "Cutter T",
          "Cutter T",
          "Cutter T",
          "Cutter T",
          null,
          "Cutter T",
          "Cutter T",
          "Cutter T",
          "Cutter T",
          null,
          "Trench",
          "Trench",
          "Trench",
          "Trench",
          null,
          "Trench",
          "Trench",
          "Trench",
          "Trench",
          null,
          "Trench",
          "Trench",
          "Trench",
          "Trench",
          null,
          "Trench",
          "Trench",
          "Trench",
          "Trench",
          null,
          "Trench",
          "Trench",
          "Trench",
          "Trench",
          null
         ]
        },
        {
         "connectgaps": false,
         "hoverinfo": "y+name",
         "line": {
          "color": "rgb(38,185,26)",
          "width": 10
         },
         "mode": "lines",
         "name": "unloading:Barge I",
         "type": "scatter",
         "x": [
          "1970-01-01T03:44:20",
          "1970-01-01T03:44:20",
          "1970-01-01T04:23:08",
          "1970-01-01T04:23:08",
          "1970-01-01T04:23:08",
          "1970-01-01T06:47:40",
          "1970-01-01T06:47:40",
          "1970-01-01T07:26:28",
          "1970-01-01T07:26:28",
          "1970-01-01T07:26:28",
          "1970-01-01T09:51:00",
          "1970-01-01T09:51:00",
          "1970-01-01T10:29:48",
          "1970-01-01T10:29:48",
          "1970-01-01T10:29:48",
          "1970-01-01T12:54:20",
          "1970-01-01T12:54:20",
          "1970-01-01T13:33:08",
          "1970-01-01T13:33:08",
          "1970-01-01T13:33:08",
          "1970-01-01T03:44:20",
          "1970-01-01T03:44:20",
          "1970-01-01T04:23:08",
          "1970-01-01T04:23:08",
          "1970-01-01T04:23:08",
          "1970-01-01T06:47:40",
          "1970-01-01T06:47:40",
          "1970-01-01T07:26:28",
          "1970-01-01T07:26:28",
          "1970-01-01T07:26:28",
          "1970-01-01T09:51:00",
          "1970-01-01T09:51:00",
          "1970-01-01T10:29:48",
          "1970-01-01T10:29:48",
          "1970-01-01T10:29:48",
          "1970-01-01T12:54:20",
          "1970-01-01T12:54:20",
          "1970-01-01T13:33:08",
          "1970-01-01T13:33:08",
          "1970-01-01T13:33:08"
         ],
         "y": [
          "Barge I",
          "Barge I",
          "Barge I",
          "Barge I",
          null,
          "Barge I",
          "Barge I",
          "Barge I",
          "Barge I",
          null,
          "Barge I",
          "Barge I",
          "Barge I",
          "Barge I",
          null,
          "Barge I",
          "Barge I",
          "Barge I",
          "Barge I",
          null,
          "Reclamation",
          "Reclamation",
          "Reclamation",
          "Reclamation",
          null,
          "Reclamation",
          "Reclamation",
          "Reclamation",
          "Reclamation",
          null,
          "Reclamation",
          "Reclamation",
          "Reclamation",
          "Reclamation",
          null,
          "Reclamation",
          "Reclamation",
          "Reclamation",
          "Reclamation",
          null
         ]
        },
        {
         "connectgaps": false,
         "hoverinfo": "y+name",
         "line": {
          "color": "rgb(45,192,33)",
          "width": 10
         },
         "mode": "lines",
         "name": "unloading:Carrier A",
         "type": "scatter",
         "x": [
          "1970-01-01T04:28:41",
          "1970-01-01T04:28:41",
          "1970-01-01T05:18:30",
          "1970-01-01T05:18:30",
          "1970-01-01T05:18:30",
          "1970-01-01T08:13:41",
          "1970-01-01T08:13:41",
          "1970-01-01T09:03:30",
          "1970-01-01T09:03:30",
          "1970-01-01T09:03:30",
          "1970-01-01T11:50:21",
          "1970-01-01T11:50:21",
          "1970-01-01T12:40:10",
          "1970-01-01T12:40:10",
          "1970-01-01T12:40:10",
          "1970-01-01T15:35:21",
          "1970-01-01T15:35:21",
          "1970-01-01T16:25:10",
          "1970-01-01T16:25:10",
          "1970-01-01T16:25:10",
          "1970-01-01T04:28:41",
          "1970-01-01T04:28:41",
          "1970-01-01T05:18:30",
          "1970-01-01T05:18:30",
          "1970-01-01T05:18:30",
          "1970-01-01T08:13:41",
          "1970-01-01T08:13:41",
          "1970-01-01T09:03:30",
          "1970-01-01T09:03:30",
          "1970-01-01T09:03:30",
          "1970-01-01T11:50:21",
          "1970-01-01T11:50:21",
          "1970-01-01T12:40:10",
          "1970-01-01T12:40:10",
          "1970-01-01T12:40:10",
          "1970-01-01T15:35:21",
          "1970-01-01T15:35:21",
          "1970-01-01T16:25:10",
          "1970-01-01T16:25:10",
          "1970-01-01T16:25:10"
         ],
         "y": [
          "Carrier A",
          "Carrier A",
          "Carrier A",
          "Carrier A",
          null,
          "Carrier A",
          "Carrier A",
          "Carrier A",
          "Carrier A",
          null,
          "Carrier A",
          "Carrier A",
          "Carrier A",
          "Carrier A",
          null,
          "Carrier A",
          "Carrier A",
          "Carrier A",
          "Carrier A",
          null,
          "Reclamation",
          "Reclamation",
          "Reclamation",
          "Reclamation",
          null,
          "Reclamation",
          "Reclamation",
          "Reclamation",
          "Reclamation",
          null,
          "Reclamation",
          "Reclamation",
          "Reclamation",
          "Reclamation",
          null,
          "Reclamation",
          "Reclamation",
          "Reclamation",
          "Reclamation",
          null
         ]
        },
        {
         "connectgaps": false,
         "hoverinfo": "y+name",
         "line": {
          "color": "rgb(52,199,40)",
          "width": 10
         },
         "mode": "lines",
         "name": "unloading:Barge II",
         "type": "scatter",
         "x": [
          "1970-01-01T03:07:47",
          "1970-01-01T03:07:47",
          "1970-01-01T03:43:22",
          "1970-01-01T03:43:22",
          "1970-01-01T03:43:22",
          "1970-01-01T06:11:07",
          "1970-01-01T06:11:07",
          "1970-01-01T06:46:42",
          "1970-01-01T06:46:42",
          "1970-01-01T06:46:42",
          "1970-01-01T09:14:27",
          "1970-01-01T09:14:27",
          "1970-01-01T09:50:02",
          "1970-01-01T09:50:02",
          "1970-01-01T09:50:02",
          "1970-01-01T12:17:47",
          "1970-01-01T12:17:47",
          "1970-01-01T12:53:22",
          "1970-01-01T12:53:22",
          "1970-01-01T12:53:22",
          "1970-01-01T14:47:47",
          "1970-01-01T14:47:47",
          "1970-01-01T15:23:22",
          "1970-01-01T15:23:22",
          "1970-01-01T15:23:22",
          "1970-01-01T03:07:47",
          "1970-01-01T03:07:47",
          "1970-01-01T03:43:22",
          "1970-01-01T03:43:22",
          "1970-01-01T03:43:22",
          "1970-01-01T06:11:07",
          "1970-01-01T06:11:07",
          "1970-01-01T06:46:42",
          "1970-01-01T06:46:42",
          "1970-01-01T06:46:42",
          "1970-01-01T09:14:27",
          "1970-01-01T09:14:27",
          "1970-01-01T09:50:02",
          "1970-01-01T09:50:02",
          "1970-01-01T09:50:02",
          "1970-01-01T12:17:47",
          "1970-01-01T12:17:47",
          "1970-01-01T12:53:22",
          "1970-01-01T12:53:22",
          "1970-01-01T12:53:22",
          "1970-01-01T14:47:47",
          "1970-01-01T14:47:47",
          "1970-01-01T15:23:22",
          "1970-01-01T15:23:22",
          "1970-01-01T15:23:22"
         ],
         "y": [
          "Barge II",
          "Barge II",
          "Barge II",
          "Barge II",
          null,
          "Barge II",
          "Barge II",
          "Barge II",
          "Barge II",
          null,
          "Barge II",
          "Barge II",
          "Barge II",
          "Barge II",
          null,
          "Barge II",
          "Barge II",
          "Barge II",
          "Barge II",
          null,
          "Barge II",
          "Barge II",
          "Barge II",
          "Barge II",
          null,
          "Reclamation",
          "Reclamation",
          "Reclamation",
          "Reclamation",
          null,
          "Reclamation",
          "Reclamation",
          "Reclamation",
          "Reclamation",
          null,
          "Reclamation",
          "Reclamation",
          "Reclamation",
          "Reclamation",
          null,
          "Reclamation",
          "Reclamation",
          "Reclamation",
          "Reclamation",
          null,
          "Reclamation",
          "Reclamation",
          "Reclamation",
          "Reclamation",
          null
         ]
        },
        {
         "connectgaps": false,
         "hoverinfo": "y+name",
         "line": {
          "color": "rgb(59,206,47)",
          "width": 10
         },
         "mode": "lines",
         "name": "unloading:Carrier B",
         "type": "scatter",
         "x": [
          "1970-01-01T02:26:05",
          "1970-01-01T02:26:05",
          "1970-01-01T03:01:38",
          "1970-01-01T03:01:38",
          "1970-01-01T03:01:38",
          "1970-01-01T05:29:25",
          "1970-01-01T05:29:25",
          "1970-01-01T06:04:58",
          "1970-01-01T06:04:58",
          "1970-01-01T06:04:58",
          "1970-01-01T08:32:45",
          "1970-01-01T08:32:45",
          "1970-01-01T09:08:18",
          "1970-01-01T09:08:18",
          "1970-01-01T09:08:18",
          "1970-01-01T11:02:45",
          "1970-01-01T11:02:45",
          "1970-01-01T11:38:18",
          "1970-01-01T11:38:18",
          "1970-01-01T11:38:18",
          "1970-01-01T14:06:05",
          "1970-01-01T14:06:05",
          "1970-01-01T14:41:38",
          "1970-01-01T14:41:38",
          "1970-01-01T14:41:38",
          "1970-01-01T02:26:05",
          "1970-01-01T02:26:05",
          "1970-01-01T03:01:38",
          "1970-01-01T03:01:38",
          "1970-01-01T03:01:38",
          "1970-01-01T05:29:25",
          "1970-01-01T05:29:25",
          "1970-01-01T06:04:58",
          "1970-01-01T06:04:58",
          "1970-01-01T06:04:58",
          "1970-01-01T08:32:45",
          "1970-01-01T08:32:45",
          "1970-01-01T09:08:18",
          "1970-01-01T09:08:18",
          "1970-01-01T09:08:18",
          "1970-01-01T11:02:45",
          "1970-01-01T11:02:45",
          "1970-01-01T11:38:18",
          "1970-01-01T11:38:18",
          "1970-01-01T11:38:18",
          "1970-01-01T14:06:05",
          "1970-01-01T14:06:05",
          "1970-01-01T14:41:38",
          "1970-01-01T14:41:38",
          "1970-01-01T14:41:38"
         ],
         "y": [
          "Carrier B",
          "Carrier B",
          "Carrier B",
          "Carrier B",
          null,
          "Carrier B",
          "Carrier B",
          "Carrier B",
          "Carrier B",
          null,
          "Carrier B",
          "Carrier B",
          "Carrier B",
          "Carrier B",
          null,
          "Carrier B",
          "Carrier B",
          "Carrier B",
          "Carrier B",
          null,
          "Carrier B",
          "Carrier B",
          "Carrier B",
          "Carrier B",
          null,
          "Reclamation",
          "Reclamation",
          "Reclamation",
          "Reclamation",
          null,
          "Reclamation",
          "Reclamation",
          "Reclamation",
          "Reclamation",
          null,
          "Reclamation",
          "Reclamation",
          "Reclamation",
          "Reclamation",
          null,
          "Reclamation",
          "Reclamation",
          "Reclamation",
          "Reclamation",
          null,
          "Reclamation",
          "Reclamation",
          "Reclamation",
          "Reclamation",
          null
         ]
        },
        {
         "connectgaps": false,
         "hoverinfo": "y+name",
         "line": {
          "color": "rgb(66,213,54)",
          "width": 10
         },
         "mode": "lines",
         "name": "unloading:Carrier C",
         "type": "scatter",
         "x": [
          "1970-01-01T01:52:44",
          "1970-01-01T01:52:44",
          "1970-01-01T02:28:16",
          "1970-01-01T02:28:16",
          "1970-01-01T02:28:16",
          "1970-01-01T04:56:04",
          "1970-01-01T04:56:04",
          "1970-01-01T05:31:36",
          "1970-01-01T05:31:36",
          "1970-01-01T05:31:36",
          "1970-01-01T07:26:04",
          "1970-01-01T07:26:04",
          "1970-01-01T08:01:36",
          "1970-01-01T08:01:36",
          "1970-01-01T08:01:36",
          "1970-01-01T10:29:24",
          "1970-01-01T10:29:24",
          "1970-01-01T11:04:56",
          "1970-01-01T11:04:56",
          "1970-01-01T11:04:56",
          "1970-01-01T13:32:44",
          "1970-01-01T13:32:44",
          "1970-01-01T14:08:16",
          "1970-01-01T14:08:16",
          "1970-01-01T14:08:16",
          "1970-01-01T01:52:44",
          "1970-01-01T01:52:44",
          "1970-01-01T02:28:16",
          "1970-01-01T02:28:16",
          "1970-01-01T02:28:16",
          "1970-01-01T04:56:04",
          "1970-01-01T04:56:04",
          "1970-01-01T05:31:36",
          "1970-01-01T05:31:36",
          "1970-01-01T05:31:36",
          "1970-01-01T07:26:04",
          "1970-01-01T07:26:04",
          "1970-01-01T08:01:36",
          "1970-01-01T08:01:36",
          "1970-01-01T08:01:36",
          "1970-01-01T10:29:24",
          "1970-01-01T10:29:24",
          "1970-01-01T11:04:56",
          "1970-01-01T11:04:56",
          "1970-01-01T11:04:56",
          "1970-01-01T13:32:44",
          "1970-01-01T13:32:44",
          "1970-01-01T14:08:16",
          "1970-01-01T14:08:16",
          "1970-01-01T14:08:16"
         ],
         "y": [
          "Carrier C",
          "Carrier C",
          "Carrier C",
          "Carrier C",
          null,
          "Carrier C",
          "Carrier C",
          "Carrier C",
          "Carrier C",
          null,
          "Carrier C",
          "Carrier C",
          "Carrier C",
          "Carrier C",
          null,
          "Carrier C",
          "Carrier C",
          "Carrier C",
          "Carrier C",
          null,
          "Carrier C",
          "Carrier C",
          "Carrier C",
          "Carrier C",
          null,
          "Reclamation",
          "Reclamation",
          "Reclamation",
          "Reclamation",
          null,
          "Reclamation",
          "Reclamation",
          "Reclamation",
          "Reclamation",
          null,
          "Reclamation",
          "Reclamation",
          "Reclamation",
          "Reclamation",
          null,
          "Reclamation",
          "Reclamation",
          "Reclamation",
          "Reclamation",
          null,
          "Reclamation",
          "Reclamation",
          "Reclamation",
          "Reclamation",
          null
         ]
        }
       ],
       "layout": {
        "hovermode": "closest",
        "legend": {
         "orientation": "h",
         "x": 0,
         "y": -0.2
        },
        "showlegend": false,
        "template": {
         "data": {
          "bar": [
           {
            "error_x": {
             "color": "#2a3f5f"
            },
            "error_y": {
             "color": "#2a3f5f"
            },
            "marker": {
             "line": {
              "color": "#E5ECF6",
              "width": 0.5
             },
             "pattern": {
              "fillmode": "overlay",
              "size": 10,
              "solidity": 0.2
             }
            },
            "type": "bar"
           }
          ],
          "barpolar": [
           {
            "marker": {
             "line": {
              "color": "#E5ECF6",
              "width": 0.5
             },
             "pattern": {
              "fillmode": "overlay",
              "size": 10,
              "solidity": 0.2
             }
            },
            "type": "barpolar"
           }
          ],
          "carpet": [
           {
            "aaxis": {
             "endlinecolor": "#2a3f5f",
             "gridcolor": "white",
             "linecolor": "white",
             "minorgridcolor": "white",
             "startlinecolor": "#2a3f5f"
            },
            "baxis": {
             "endlinecolor": "#2a3f5f",
             "gridcolor": "white",
             "linecolor": "white",
             "minorgridcolor": "white",
             "startlinecolor": "#2a3f5f"
            },
            "type": "carpet"
           }
          ],
          "choropleth": [
           {
            "colorbar": {
             "outlinewidth": 0,
             "ticks": ""
            },
            "type": "choropleth"
           }
          ],
          "contour": [
           {
            "colorbar": {
             "outlinewidth": 0,
             "ticks": ""
            },
            "colorscale": [
             [
              0,
              "#0d0887"
             ],
             [
              0.1111111111111111,
              "#46039f"
             ],
             [
              0.2222222222222222,
              "#7201a8"
             ],
             [
              0.3333333333333333,
              "#9c179e"
             ],
             [
              0.4444444444444444,
              "#bd3786"
             ],
             [
              0.5555555555555556,
              "#d8576b"
             ],
             [
              0.6666666666666666,
              "#ed7953"
             ],
             [
              0.7777777777777778,
              "#fb9f3a"
             ],
             [
              0.8888888888888888,
              "#fdca26"
             ],
             [
              1,
              "#f0f921"
             ]
            ],
            "type": "contour"
           }
          ],
          "contourcarpet": [
           {
            "colorbar": {
             "outlinewidth": 0,
             "ticks": ""
            },
            "type": "contourcarpet"
           }
          ],
          "heatmap": [
           {
            "colorbar": {
             "outlinewidth": 0,
             "ticks": ""
            },
            "colorscale": [
             [
              0,
              "#0d0887"
             ],
             [
              0.1111111111111111,
              "#46039f"
             ],
             [
              0.2222222222222222,
              "#7201a8"
             ],
             [
              0.3333333333333333,
              "#9c179e"
             ],
             [
              0.4444444444444444,
              "#bd3786"
             ],
             [
              0.5555555555555556,
              "#d8576b"
             ],
             [
              0.6666666666666666,
              "#ed7953"
             ],
             [
              0.7777777777777778,
              "#fb9f3a"
             ],
             [
              0.8888888888888888,
              "#fdca26"
             ],
             [
              1,
              "#f0f921"
             ]
            ],
            "type": "heatmap"
           }
          ],
          "heatmapgl": [
           {
            "colorbar": {
             "outlinewidth": 0,
             "ticks": ""
            },
            "colorscale": [
             [
              0,
              "#0d0887"
             ],
             [
              0.1111111111111111,
              "#46039f"
             ],
             [
              0.2222222222222222,
              "#7201a8"
             ],
             [
              0.3333333333333333,
              "#9c179e"
             ],
             [
              0.4444444444444444,
              "#bd3786"
             ],
             [
              0.5555555555555556,
              "#d8576b"
             ],
             [
              0.6666666666666666,
              "#ed7953"
             ],
             [
              0.7777777777777778,
              "#fb9f3a"
             ],
             [
              0.8888888888888888,
              "#fdca26"
             ],
             [
              1,
              "#f0f921"
             ]
            ],
            "type": "heatmapgl"
           }
          ],
          "histogram": [
           {
            "marker": {
             "pattern": {
              "fillmode": "overlay",
              "size": 10,
              "solidity": 0.2
             }
            },
            "type": "histogram"
           }
          ],
          "histogram2d": [
           {
            "colorbar": {
             "outlinewidth": 0,
             "ticks": ""
            },
            "colorscale": [
             [
              0,
              "#0d0887"
             ],
             [
              0.1111111111111111,
              "#46039f"
             ],
             [
              0.2222222222222222,
              "#7201a8"
             ],
             [
              0.3333333333333333,
              "#9c179e"
             ],
             [
              0.4444444444444444,
              "#bd3786"
             ],
             [
              0.5555555555555556,
              "#d8576b"
             ],
             [
              0.6666666666666666,
              "#ed7953"
             ],
             [
              0.7777777777777778,
              "#fb9f3a"
             ],
             [
              0.8888888888888888,
              "#fdca26"
             ],
             [
              1,
              "#f0f921"
             ]
            ],
            "type": "histogram2d"
           }
          ],
          "histogram2dcontour": [
           {
            "colorbar": {
             "outlinewidth": 0,
             "ticks": ""
            },
            "colorscale": [
             [
              0,
              "#0d0887"
             ],
             [
              0.1111111111111111,
              "#46039f"
             ],
             [
              0.2222222222222222,
              "#7201a8"
             ],
             [
              0.3333333333333333,
              "#9c179e"
             ],
             [
              0.4444444444444444,
              "#bd3786"
             ],
             [
              0.5555555555555556,
              "#d8576b"
             ],
             [
              0.6666666666666666,
              "#ed7953"
             ],
             [
              0.7777777777777778,
              "#fb9f3a"
             ],
             [
              0.8888888888888888,
              "#fdca26"
             ],
             [
              1,
              "#f0f921"
             ]
            ],
            "type": "histogram2dcontour"
           }
          ],
          "mesh3d": [
           {
            "colorbar": {
             "outlinewidth": 0,
             "ticks": ""
            },
            "type": "mesh3d"
           }
          ],
          "parcoords": [
           {
            "line": {
             "colorbar": {
              "outlinewidth": 0,
              "ticks": ""
             }
            },
            "type": "parcoords"
           }
          ],
          "pie": [
           {
            "automargin": true,
            "type": "pie"
           }
          ],
          "scatter": [
           {
            "fillpattern": {
             "fillmode": "overlay",
             "size": 10,
             "solidity": 0.2
            },
            "type": "scatter"
           }
          ],
          "scatter3d": [
           {
            "line": {
             "colorbar": {
              "outlinewidth": 0,
              "ticks": ""
             }
            },
            "marker": {
             "colorbar": {
              "outlinewidth": 0,
              "ticks": ""
             }
            },
            "type": "scatter3d"
           }
          ],
          "scattercarpet": [
           {
            "marker": {
             "colorbar": {
              "outlinewidth": 0,
              "ticks": ""
             }
            },
            "type": "scattercarpet"
           }
          ],
          "scattergeo": [
           {
            "marker": {
             "colorbar": {
              "outlinewidth": 0,
              "ticks": ""
             }
            },
            "type": "scattergeo"
           }
          ],
          "scattergl": [
           {
            "marker": {
             "colorbar": {
              "outlinewidth": 0,
              "ticks": ""
             }
            },
            "type": "scattergl"
           }
          ],
          "scattermapbox": [
           {
            "marker": {
             "colorbar": {
              "outlinewidth": 0,
              "ticks": ""
             }
            },
            "type": "scattermapbox"
           }
          ],
          "scatterpolar": [
           {
            "marker": {
             "colorbar": {
              "outlinewidth": 0,
              "ticks": ""
             }
            },
            "type": "scatterpolar"
           }
          ],
          "scatterpolargl": [
           {
            "marker": {
             "colorbar": {
              "outlinewidth": 0,
              "ticks": ""
             }
            },
            "type": "scatterpolargl"
           }
          ],
          "scatterternary": [
           {
            "marker": {
             "colorbar": {
              "outlinewidth": 0,
              "ticks": ""
             }
            },
            "type": "scatterternary"
           }
          ],
          "surface": [
           {
            "colorbar": {
             "outlinewidth": 0,
             "ticks": ""
            },
            "colorscale": [
             [
              0,
              "#0d0887"
             ],
             [
              0.1111111111111111,
              "#46039f"
             ],
             [
              0.2222222222222222,
              "#7201a8"
             ],
             [
              0.3333333333333333,
              "#9c179e"
             ],
             [
              0.4444444444444444,
              "#bd3786"
             ],
             [
              0.5555555555555556,
              "#d8576b"
             ],
             [
              0.6666666666666666,
              "#ed7953"
             ],
             [
              0.7777777777777778,
              "#fb9f3a"
             ],
             [
              0.8888888888888888,
              "#fdca26"
             ],
             [
              1,
              "#f0f921"
             ]
            ],
            "type": "surface"
           }
          ],
          "table": [
           {
            "cells": {
             "fill": {
              "color": "#EBF0F8"
             },
             "line": {
              "color": "white"
             }
            },
            "header": {
             "fill": {
              "color": "#C8D4E3"
             },
             "line": {
              "color": "white"
             }
            },
            "type": "table"
           }
          ]
         },
         "layout": {
          "annotationdefaults": {
           "arrowcolor": "#2a3f5f",
           "arrowhead": 0,
           "arrowwidth": 1
          },
          "autotypenumbers": "strict",
          "coloraxis": {
           "colorbar": {
            "outlinewidth": 0,
            "ticks": ""
           }
          },
          "colorscale": {
           "diverging": [
            [
             0,
             "#8e0152"
            ],
            [
             0.1,
             "#c51b7d"
            ],
            [
             0.2,
             "#de77ae"
            ],
            [
             0.3,
             "#f1b6da"
            ],
            [
             0.4,
             "#fde0ef"
            ],
            [
             0.5,
             "#f7f7f7"
            ],
            [
             0.6,
             "#e6f5d0"
            ],
            [
             0.7,
             "#b8e186"
            ],
            [
             0.8,
             "#7fbc41"
            ],
            [
             0.9,
             "#4d9221"
            ],
            [
             1,
             "#276419"
            ]
           ],
           "sequential": [
            [
             0,
             "#0d0887"
            ],
            [
             0.1111111111111111,
             "#46039f"
            ],
            [
             0.2222222222222222,
             "#7201a8"
            ],
            [
             0.3333333333333333,
             "#9c179e"
            ],
            [
             0.4444444444444444,
             "#bd3786"
            ],
            [
             0.5555555555555556,
             "#d8576b"
            ],
            [
             0.6666666666666666,
             "#ed7953"
            ],
            [
             0.7777777777777778,
             "#fb9f3a"
            ],
            [
             0.8888888888888888,
             "#fdca26"
            ],
            [
             1,
             "#f0f921"
            ]
           ],
           "sequentialminus": [
            [
             0,
             "#0d0887"
            ],
            [
             0.1111111111111111,
             "#46039f"
            ],
            [
             0.2222222222222222,
             "#7201a8"
            ],
            [
             0.3333333333333333,
             "#9c179e"
            ],
            [
             0.4444444444444444,
             "#bd3786"
            ],
            [
             0.5555555555555556,
             "#d8576b"
            ],
            [
             0.6666666666666666,
             "#ed7953"
            ],
            [
             0.7777777777777778,
             "#fb9f3a"
            ],
            [
             0.8888888888888888,
             "#fdca26"
            ],
            [
             1,
             "#f0f921"
            ]
           ]
          },
          "colorway": [
           "#636efa",
           "#EF553B",
           "#00cc96",
           "#ab63fa",
           "#FFA15A",
           "#19d3f3",
           "#FF6692",
           "#B6E880",
           "#FF97FF",
           "#FECB52"
          ],
          "font": {
           "color": "#2a3f5f"
          },
          "geo": {
           "bgcolor": "white",
           "lakecolor": "white",
           "landcolor": "#E5ECF6",
           "showlakes": true,
           "showland": true,
           "subunitcolor": "white"
          },
          "hoverlabel": {
           "align": "left"
          },
          "hovermode": "closest",
          "mapbox": {
           "style": "light"
          },
          "paper_bgcolor": "white",
          "plot_bgcolor": "#E5ECF6",
          "polar": {
           "angularaxis": {
            "gridcolor": "white",
            "linecolor": "white",
            "ticks": ""
           },
           "bgcolor": "#E5ECF6",
           "radialaxis": {
            "gridcolor": "white",
            "linecolor": "white",
            "ticks": ""
           }
          },
          "scene": {
           "xaxis": {
            "backgroundcolor": "#E5ECF6",
            "gridcolor": "white",
            "gridwidth": 2,
            "linecolor": "white",
            "showbackground": true,
            "ticks": "",
            "zerolinecolor": "white"
           },
           "yaxis": {
            "backgroundcolor": "#E5ECF6",
            "gridcolor": "white",
            "gridwidth": 2,
            "linecolor": "white",
            "showbackground": true,
            "ticks": "",
            "zerolinecolor": "white"
           },
           "zaxis": {
            "backgroundcolor": "#E5ECF6",
            "gridcolor": "white",
            "gridwidth": 2,
            "linecolor": "white",
            "showbackground": true,
            "ticks": "",
            "zerolinecolor": "white"
           }
          },
          "shapedefaults": {
           "line": {
            "color": "#2a3f5f"
           }
          },
          "ternary": {
           "aaxis": {
            "gridcolor": "white",
            "linecolor": "white",
            "ticks": ""
           },
           "baxis": {
            "gridcolor": "white",
            "linecolor": "white",
            "ticks": ""
           },
           "bgcolor": "#E5ECF6",
           "caxis": {
            "gridcolor": "white",
            "linecolor": "white",
            "ticks": ""
           }
          },
          "title": {
           "x": 0.05
          },
          "xaxis": {
           "automargin": true,
           "gridcolor": "white",
           "linecolor": "white",
           "ticks": "",
           "title": {
            "standoff": 15
           },
           "zerolinecolor": "white",
           "zerolinewidth": 2
          },
          "yaxis": {
           "automargin": true,
           "gridcolor": "white",
           "linecolor": "white",
           "ticks": "",
           "title": {
            "standoff": 15
           },
           "zerolinecolor": "white",
           "zerolinewidth": 2
          }
         }
        },
        "title": {
         "text": "Cutter T occupancy: 100.0duration actual: 51000.0"
        },
        "xaxis": {
         "range": [
          "1970-01-01T00:00:00",
          "1970-01-01T16:25:10"
         ],
         "title": {
          "font": {
           "color": "#7f7f7f",
           "family": "Courier New, monospace",
           "size": 18
          },
          "text": "Time"
         }
        },
        "yaxis": {
         "title": {
          "font": {
           "color": "#7f7f7f",
           "family": "Courier New, monospace",
           "size": 18
          },
          "text": "vesels"
         }
        }
       }
      },
      "text/html": [
       "<div>                            <div id=\"df2e6e3a-602e-453e-9a02-6b78d690658f\" class=\"plotly-graph-div\" style=\"height:525px; width:100%;\"></div>            <script type=\"text/javascript\">                require([\"plotly\"], function(Plotly) {                    window.PLOTLYENV=window.PLOTLYENV || {};                                    if (document.getElementById(\"df2e6e3a-602e-453e-9a02-6b78d690658f\")) {                    Plotly.newPlot(                        \"df2e6e3a-602e-453e-9a02-6b78d690658f\",                        [{\"connectgaps\":false,\"hoverinfo\":\"name\",\"line\":{\"color\":\"red\",\"width\":14},\"mode\":\"lines\",\"name\":\"critical_path\",\"x\":[\"1970-01-01T00:00:00\",\"1970-01-01T00:35:32\",\"1970-01-01T00:35:32\",\"1970-01-01T00:35:32\",\"1970-01-01T01:17:12\",\"1970-01-01T01:17:12\",\"1970-01-01T00:35:32\",\"1970-01-01T01:17:12\",\"1970-01-01T01:17:12\",\"1970-01-01T00:35:32\",\"1970-01-01T01:17:12\",\"1970-01-01T01:17:12\",\"1970-01-01T01:17:12\",\"1970-01-01T01:50:32\",\"1970-01-01T01:50:32\",\"1970-01-01T01:17:12\",\"1970-01-01T01:50:32\",\"1970-01-01T01:50:32\",\"1970-01-01T01:17:12\",\"1970-01-01T01:50:32\",\"1970-01-01T01:50:32\",\"1970-01-01T01:50:32\",\"1970-01-01T02:32:12\",\"1970-01-01T02:32:12\",\"1970-01-01T01:50:32\",\"1970-01-01T02:32:12\",\"1970-01-01T02:32:12\",\"1970-01-01T01:50:32\",\"1970-01-01T02:32:12\",\"1970-01-01T02:32:12\",\"1970-01-01T02:32:12\",\"1970-01-01T03:05:32\",\"1970-01-01T03:05:32\",\"1970-01-01T02:32:12\",\"1970-01-01T03:05:32\",\"1970-01-01T03:05:32\",\"1970-01-01T02:32:12\",\"1970-01-01T03:05:32\",\"1970-01-01T03:05:32\",\"1970-01-01T03:05:32\",\"1970-01-01T03:38:52\",\"1970-01-01T03:38:52\",\"1970-01-01T03:05:32\",\"1970-01-01T03:38:52\",\"1970-01-01T03:38:52\",\"1970-01-01T03:05:32\",\"1970-01-01T03:38:52\",\"1970-01-01T03:38:52\",\"1970-01-01T03:38:52\",\"1970-01-01T04:20:32\",\"1970-01-01T04:20:32\",\"1970-01-01T03:38:52\",\"1970-01-01T04:20:32\",\"1970-01-01T04:20:32\",\"1970-01-01T03:38:52\",\"1970-01-01T04:20:32\",\"1970-01-01T04:20:32\",\"1970-01-01T04:20:32\",\"1970-01-01T04:53:52\",\"1970-01-01T04:53:52\",\"1970-01-01T04:20:32\",\"1970-01-01T04:53:52\",\"1970-01-01T04:53:52\",\"1970-01-01T04:20:32\",\"1970-01-01T04:53:52\",\"1970-01-01T04:53:52\",\"1970-01-01T04:53:52\",\"1970-01-01T05:35:32\",\"1970-01-01T05:35:32\",\"1970-01-01T04:53:52\",\"1970-01-01T05:35:32\",\"1970-01-01T05:35:32\",\"1970-01-01T04:53:52\",\"1970-01-01T05:35:32\",\"1970-01-01T05:35:32\",\"1970-01-01T05:35:32\",\"1970-01-01T06:08:52\",\"1970-01-01T06:08:52\",\"1970-01-01T05:35:32\",\"1970-01-01T06:08:52\",\"1970-01-01T06:08:52\",\"1970-01-01T05:35:32\",\"1970-01-01T06:08:52\",\"1970-01-01T06:08:52\",\"1970-01-01T06:08:52\",\"1970-01-01T06:50:32\",\"1970-01-01T06:50:32\",\"1970-01-01T06:08:52\",\"1970-01-01T06:50:32\",\"1970-01-01T06:50:32\",\"1970-01-01T06:08:52\",\"1970-01-01T06:50:32\",\"1970-01-01T06:50:32\",\"1970-01-01T06:50:32\",\"1970-01-01T07:23:52\",\"1970-01-01T07:23:52\",\"1970-01-01T06:50:32\",\"1970-01-01T07:23:52\",\"1970-01-01T07:23:52\",\"1970-01-01T06:50:32\",\"1970-01-01T07:23:52\",\"1970-01-01T07:23:52\",\"1970-01-01T07:23:52\",\"1970-01-01T07:57:12\",\"1970-01-01T07:57:12\",\"1970-01-01T07:23:52\",\"1970-01-01T07:57:12\",\"1970-01-01T07:57:12\",\"1970-01-01T07:23:52\",\"1970-01-01T07:57:12\",\"1970-01-01T07:57:12\",\"1970-01-01T07:57:12\",\"1970-01-01T08:38:52\",\"1970-01-01T08:38:52\",\"1970-01-01T07:57:12\",\"1970-01-01T08:38:52\",\"1970-01-01T08:38:52\",\"1970-01-01T07:57:12\",\"1970-01-01T08:38:52\",\"1970-01-01T08:38:52\",\"1970-01-01T08:38:52\",\"1970-01-01T09:12:12\",\"1970-01-01T09:12:12\",\"1970-01-01T08:38:52\",\"1970-01-01T09:12:12\",\"1970-01-01T09:12:12\",\"1970-01-01T08:38:52\",\"1970-01-01T09:12:12\",\"1970-01-01T09:12:12\",\"1970-01-01T09:12:12\",\"1970-01-01T09:53:52\",\"1970-01-01T09:53:52\",\"1970-01-01T09:12:12\",\"1970-01-01T09:53:52\",\"1970-01-01T09:53:52\",\"1970-01-01T09:12:12\",\"1970-01-01T09:53:52\",\"1970-01-01T09:53:52\",\"1970-01-01T09:53:52\",\"1970-01-01T10:27:12\",\"1970-01-01T10:27:12\",\"1970-01-01T09:53:52\",\"1970-01-01T10:27:12\",\"1970-01-01T10:27:12\",\"1970-01-01T09:53:52\",\"1970-01-01T10:27:12\",\"1970-01-01T10:27:12\",\"1970-01-01T10:27:12\",\"1970-01-01T11:00:32\",\"1970-01-01T11:00:32\",\"1970-01-01T10:27:12\",\"1970-01-01T11:00:32\",\"1970-01-01T11:00:32\",\"1970-01-01T10:27:12\",\"1970-01-01T11:00:32\",\"1970-01-01T11:00:32\",\"1970-01-01T11:00:32\",\"1970-01-01T11:42:12\",\"1970-01-01T11:42:12\",\"1970-01-01T11:00:32\",\"1970-01-01T11:42:12\",\"1970-01-01T11:42:12\",\"1970-01-01T11:00:32\",\"1970-01-01T11:42:12\",\"1970-01-01T11:42:12\",\"1970-01-01T11:42:12\",\"1970-01-01T12:15:32\",\"1970-01-01T12:15:32\",\"1970-01-01T11:42:12\",\"1970-01-01T12:15:32\",\"1970-01-01T12:15:32\",\"1970-01-01T11:42:12\",\"1970-01-01T12:15:32\",\"1970-01-01T12:15:32\",\"1970-01-01T12:15:32\",\"1970-01-01T12:57:12\",\"1970-01-01T12:57:12\",\"1970-01-01T12:15:32\",\"1970-01-01T12:57:12\",\"1970-01-01T12:57:12\",\"1970-01-01T12:15:32\",\"1970-01-01T12:57:12\",\"1970-01-01T12:57:12\",\"1970-01-01T12:57:12\",\"1970-01-01T13:30:32\",\"1970-01-01T13:30:32\",\"1970-01-01T12:57:12\",\"1970-01-01T13:30:32\",\"1970-01-01T13:30:32\",\"1970-01-01T12:57:12\",\"1970-01-01T13:30:32\",\"1970-01-01T13:30:32\",\"1970-01-01T13:30:32\",\"1970-01-01T14:12:12\",\"1970-01-01T14:12:12\",\"1970-01-01T13:30:32\",\"1970-01-01T14:12:12\",\"1970-01-01T14:12:12\",\"1970-01-01T13:30:32\",\"1970-01-01T14:12:12\",\"1970-01-01T14:12:12\",\"1970-01-01T14:12:12\",\"1970-01-01T14:45:32\",\"1970-01-01T14:45:32\",\"1970-01-01T14:12:12\",\"1970-01-01T14:45:32\",\"1970-01-01T14:45:32\",\"1970-01-01T14:12:12\",\"1970-01-01T14:45:32\",\"1970-01-01T14:45:32\",\"1970-01-01T14:45:32\",\"1970-01-01T15:35:21\",\"1970-01-01T15:35:21\",\"1970-01-01T15:35:21\",\"1970-01-01T16:25:10\",\"1970-01-01T16:25:10\",\"1970-01-01T15:35:21\",\"1970-01-01T16:25:10\",\"1970-01-01T16:25:10\"],\"y\":[\"Carrier C\",\"Carrier C\",null,\"Carrier C\",\"Carrier C\",null,\"Cutter T\",\"Cutter T\",null,\"Trench\",\"Trench\",null,\"Carrier B\",\"Carrier B\",null,\"Cutter T\",\"Cutter T\",null,\"Trench\",\"Trench\",null,\"Barge II\",\"Barge II\",null,\"Cutter T\",\"Cutter T\",null,\"Trench\",\"Trench\",null,\"Barge I\",\"Barge I\",null,\"Cutter T\",\"Cutter T\",null,\"Trench\",\"Trench\",null,\"Carrier A\",\"Carrier A\",null,\"Cutter T\",\"Cutter T\",null,\"Trench\",\"Trench\",null,\"Carrier C\",\"Carrier C\",null,\"Cutter T\",\"Cutter T\",null,\"Trench\",\"Trench\",null,\"Carrier B\",\"Carrier B\",null,\"Cutter T\",\"Cutter T\",null,\"Trench\",\"Trench\",null,\"Barge II\",\"Barge II\",null,\"Cutter T\",\"Cutter T\",null,\"Trench\",\"Trench\",null,\"Barge I\",\"Barge I\",null,\"Cutter T\",\"Cutter T\",null,\"Trench\",\"Trench\",null,\"Carrier C\",\"Carrier C\",null,\"Cutter T\",\"Cutter T\",null,\"Trench\",\"Trench\",null,\"Carrier A\",\"Carrier A\",null,\"Cutter T\",\"Cutter T\",null,\"Trench\",\"Trench\",null,\"Carrier B\",\"Carrier B\",null,\"Cutter T\",\"Cutter T\",null,\"Trench\",\"Trench\",null,\"Barge II\",\"Barge II\",null,\"Cutter T\",\"Cutter T\",null,\"Trench\",\"Trench\",null,\"Barge I\",\"Barge I\",null,\"Cutter T\",\"Cutter T\",null,\"Trench\",\"Trench\",null,\"Carrier C\",\"Carrier C\",null,\"Cutter T\",\"Cutter T\",null,\"Trench\",\"Trench\",null,\"Carrier B\",\"Carrier B\",null,\"Cutter T\",\"Cutter T\",null,\"Trench\",\"Trench\",null,\"Carrier A\",\"Carrier A\",null,\"Cutter T\",\"Cutter T\",null,\"Trench\",\"Trench\",null,\"Barge II\",\"Barge II\",null,\"Cutter T\",\"Cutter T\",null,\"Trench\",\"Trench\",null,\"Barge I\",\"Barge I\",null,\"Cutter T\",\"Cutter T\",null,\"Trench\",\"Trench\",null,\"Carrier C\",\"Carrier C\",null,\"Cutter T\",\"Cutter T\",null,\"Trench\",\"Trench\",null,\"Carrier B\",\"Carrier B\",null,\"Cutter T\",\"Cutter T\",null,\"Trench\",\"Trench\",null,\"Barge II\",\"Barge II\",null,\"Cutter T\",\"Cutter T\",null,\"Trench\",\"Trench\",null,\"Carrier A\",\"Carrier A\",null,\"Cutter T\",\"Cutter T\",null,\"Trench\",\"Trench\",null,\"Carrier A\",\"Carrier A\",null,\"Carrier A\",\"Carrier A\",null,\"Reclamation\",\"Reclamation\",null],\"type\":\"scatter\"},{\"connectgaps\":false,\"hoverinfo\":\"y+name\",\"line\":{\"color\":\"rgb(84,231,72)\",\"width\":10},\"mode\":\"lines\",\"name\":\"loading:Carrier A\",\"x\":[\"1970-01-01T03:05:32\",\"1970-01-01T03:05:32\",\"1970-01-01T03:38:52\",\"1970-01-01T03:38:52\",\"1970-01-01T03:38:52\",\"1970-01-01T06:50:32\",\"1970-01-01T06:50:32\",\"1970-01-01T07:23:52\",\"1970-01-01T07:23:52\",\"1970-01-01T07:23:52\",\"1970-01-01T10:27:12\",\"1970-01-01T10:27:12\",\"1970-01-01T11:00:32\",\"1970-01-01T11:00:32\",\"1970-01-01T11:00:32\",\"1970-01-01T14:12:12\",\"1970-01-01T14:12:12\",\"1970-01-01T14:45:32\",\"1970-01-01T14:45:32\",\"1970-01-01T14:45:32\",\"1970-01-01T03:05:32\",\"1970-01-01T03:05:32\",\"1970-01-01T03:38:52\",\"1970-01-01T03:38:52\",\"1970-01-01T03:38:52\",\"1970-01-01T06:50:32\",\"1970-01-01T06:50:32\",\"1970-01-01T07:23:52\",\"1970-01-01T07:23:52\",\"1970-01-01T07:23:52\",\"1970-01-01T10:27:12\",\"1970-01-01T10:27:12\",\"1970-01-01T11:00:32\",\"1970-01-01T11:00:32\",\"1970-01-01T11:00:32\",\"1970-01-01T14:12:12\",\"1970-01-01T14:12:12\",\"1970-01-01T14:45:32\",\"1970-01-01T14:45:32\",\"1970-01-01T14:45:32\",\"1970-01-01T03:05:32\",\"1970-01-01T03:05:32\",\"1970-01-01T03:38:52\",\"1970-01-01T03:38:52\",\"1970-01-01T03:38:52\",\"1970-01-01T06:50:32\",\"1970-01-01T06:50:32\",\"1970-01-01T07:23:52\",\"1970-01-01T07:23:52\",\"1970-01-01T07:23:52\",\"1970-01-01T10:27:12\",\"1970-01-01T10:27:12\",\"1970-01-01T11:00:32\",\"1970-01-01T11:00:32\",\"1970-01-01T11:00:32\",\"1970-01-01T14:12:12\",\"1970-01-01T14:12:12\",\"1970-01-01T14:45:32\",\"1970-01-01T14:45:32\",\"1970-01-01T14:45:32\"],\"y\":[\"Carrier A\",\"Carrier A\",\"Carrier A\",\"Carrier A\",null,\"Carrier A\",\"Carrier A\",\"Carrier A\",\"Carrier A\",null,\"Carrier A\",\"Carrier A\",\"Carrier A\",\"Carrier A\",null,\"Carrier A\",\"Carrier A\",\"Carrier A\",\"Carrier A\",null,\"Cutter T\",\"Cutter T\",\"Cutter T\",\"Cutter T\",null,\"Cutter T\",\"Cutter T\",\"Cutter T\",\"Cutter T\",null,\"Cutter T\",\"Cutter T\",\"Cutter T\",\"Cutter T\",null,\"Cutter T\",\"Cutter T\",\"Cutter T\",\"Cutter T\",null,\"Trench\",\"Trench\",\"Trench\",\"Trench\",null,\"Trench\",\"Trench\",\"Trench\",\"Trench\",null,\"Trench\",\"Trench\",\"Trench\",\"Trench\",null,\"Trench\",\"Trench\",\"Trench\",\"Trench\",null],\"type\":\"scatter\"},{\"connectgaps\":false,\"hoverinfo\":\"y+name\",\"line\":{\"color\":\"rgb(91,238,79)\",\"width\":10},\"mode\":\"lines\",\"name\":\"unloading:Carrier A\",\"x\":[\"1970-01-01T04:28:41\",\"1970-01-01T04:28:41\",\"1970-01-01T05:18:30\",\"1970-01-01T05:18:30\",\"1970-01-01T05:18:30\",\"1970-01-01T08:13:41\",\"1970-01-01T08:13:41\",\"1970-01-01T09:03:30\",\"1970-01-01T09:03:30\",\"1970-01-01T09:03:30\",\"1970-01-01T11:50:21\",\"1970-01-01T11:50:21\",\"1970-01-01T12:40:10\",\"1970-01-01T12:40:10\",\"1970-01-01T12:40:10\",\"1970-01-01T15:35:21\",\"1970-01-01T15:35:21\",\"1970-01-01T16:25:10\",\"1970-01-01T16:25:10\",\"1970-01-01T16:25:10\",\"1970-01-01T04:28:41\",\"1970-01-01T04:28:41\",\"1970-01-01T05:18:30\",\"1970-01-01T05:18:30\",\"1970-01-01T05:18:30\",\"1970-01-01T08:13:41\",\"1970-01-01T08:13:41\",\"1970-01-01T09:03:30\",\"1970-01-01T09:03:30\",\"1970-01-01T09:03:30\",\"1970-01-01T11:50:21\",\"1970-01-01T11:50:21\",\"1970-01-01T12:40:10\",\"1970-01-01T12:40:10\",\"1970-01-01T12:40:10\",\"1970-01-01T15:35:21\",\"1970-01-01T15:35:21\",\"1970-01-01T16:25:10\",\"1970-01-01T16:25:10\",\"1970-01-01T16:25:10\"],\"y\":[\"Carrier A\",\"Carrier A\",\"Carrier A\",\"Carrier A\",null,\"Carrier A\",\"Carrier A\",\"Carrier A\",\"Carrier A\",null,\"Carrier A\",\"Carrier A\",\"Carrier A\",\"Carrier A\",null,\"Carrier A\",\"Carrier A\",\"Carrier A\",\"Carrier A\",null,\"Reclamation\",\"Reclamation\",\"Reclamation\",\"Reclamation\",null,\"Reclamation\",\"Reclamation\",\"Reclamation\",\"Reclamation\",null,\"Reclamation\",\"Reclamation\",\"Reclamation\",\"Reclamation\",null,\"Reclamation\",\"Reclamation\",\"Reclamation\",\"Reclamation\",null],\"type\":\"scatter\"},{\"connectgaps\":false,\"hoverinfo\":\"y+name\",\"line\":{\"color\":\"rgb(98,245,86)\",\"width\":10},\"mode\":\"lines\",\"name\":\"sailing empty:Carrier A\",\"x\":[\"1970-01-01T00:00:00\",\"1970-01-01T00:00:00\",\"1970-01-01T00:49:49\",\"1970-01-01T00:49:49\",\"1970-01-01T00:49:49\",\"1970-01-01T05:18:30\",\"1970-01-01T05:18:30\",\"1970-01-01T06:08:19\",\"1970-01-01T06:08:19\",\"1970-01-01T06:08:19\",\"1970-01-01T09:03:30\",\"1970-01-01T09:03:30\",\"1970-01-01T09:53:19\",\"1970-01-01T09:53:19\",\"1970-01-01T09:53:19\",\"1970-01-01T12:40:10\",\"1970-01-01T12:40:10\",\"1970-01-01T13:29:59\",\"1970-01-01T13:29:59\",\"1970-01-01T13:29:59\"],\"y\":[\"Carrier A\",\"Carrier A\",\"Carrier A\",\"Carrier A\",null,\"Carrier A\",\"Carrier A\",\"Carrier A\",\"Carrier A\",null,\"Carrier A\",\"Carrier A\",\"Carrier A\",\"Carrier A\",null,\"Carrier A\",\"Carrier A\",\"Carrier A\",\"Carrier A\",null],\"type\":\"scatter\"},{\"connectgaps\":false,\"hoverinfo\":\"y+name\",\"line\":{\"color\":\"rgb(105,252,93)\",\"width\":10},\"mode\":\"lines\",\"name\":\"sailing full:Carrier A\",\"x\":[\"1970-01-01T03:38:52\",\"1970-01-01T03:38:52\",\"1970-01-01T04:28:41\",\"1970-01-01T04:28:41\",\"1970-01-01T04:28:41\",\"1970-01-01T07:23:52\",\"1970-01-01T07:23:52\",\"1970-01-01T08:13:41\",\"1970-01-01T08:13:41\",\"1970-01-01T08:13:41\",\"1970-01-01T11:00:32\",\"1970-01-01T11:00:32\",\"1970-01-01T11:50:21\",\"1970-01-01T11:50:21\",\"1970-01-01T11:50:21\",\"1970-01-01T14:45:32\",\"1970-01-01T14:45:32\",\"1970-01-01T15:35:21\",\"1970-01-01T15:35:21\",\"1970-01-01T15:35:21\"],\"y\":[\"Carrier A\",\"Carrier A\",\"Carrier A\",\"Carrier A\",null,\"Carrier A\",\"Carrier A\",\"Carrier A\",\"Carrier A\",null,\"Carrier A\",\"Carrier A\",\"Carrier A\",\"Carrier A\",null,\"Carrier A\",\"Carrier A\",\"Carrier A\",\"Carrier A\",null],\"type\":\"scatter\"},{\"connectgaps\":false,\"hoverinfo\":\"y+name\",\"line\":{\"color\":\"rgb(112,3,100)\",\"width\":10},\"mode\":\"lines\",\"name\":\"sailing empty:Carrier B\",\"x\":[\"1970-01-01T00:00:00\",\"1970-01-01T00:00:00\",\"1970-01-01T00:35:33\",\"1970-01-01T00:35:33\",\"1970-01-01T00:35:33\",\"1970-01-01T03:01:38\",\"1970-01-01T03:01:38\",\"1970-01-01T03:37:11\",\"1970-01-01T03:37:11\",\"1970-01-01T03:37:11\",\"1970-01-01T06:04:58\",\"1970-01-01T06:04:58\",\"1970-01-01T06:40:31\",\"1970-01-01T06:40:31\",\"1970-01-01T06:40:31\",\"1970-01-01T09:08:18\",\"1970-01-01T09:08:18\",\"1970-01-01T09:43:51\",\"1970-01-01T09:43:51\",\"1970-01-01T09:43:51\",\"1970-01-01T11:38:18\",\"1970-01-01T11:38:18\",\"1970-01-01T12:13:51\",\"1970-01-01T12:13:51\",\"1970-01-01T12:13:51\"],\"y\":[\"Carrier B\",\"Carrier B\",\"Carrier B\",\"Carrier B\",null,\"Carrier B\",\"Carrier B\",\"Carrier B\",\"Carrier B\",null,\"Carrier B\",\"Carrier B\",\"Carrier B\",\"Carrier B\",null,\"Carrier B\",\"Carrier B\",\"Carrier B\",\"Carrier B\",null,\"Carrier B\",\"Carrier B\",\"Carrier B\",\"Carrier B\",null],\"type\":\"scatter\"},{\"connectgaps\":false,\"hoverinfo\":\"y+name\",\"line\":{\"color\":\"rgb(119,10,107)\",\"width\":10},\"mode\":\"lines\",\"name\":\"loading:Carrier B\",\"x\":[\"1970-01-01T01:17:12\",\"1970-01-01T01:17:12\",\"1970-01-01T01:50:32\",\"1970-01-01T01:50:32\",\"1970-01-01T01:50:32\",\"1970-01-01T04:20:32\",\"1970-01-01T04:20:32\",\"1970-01-01T04:53:52\",\"1970-01-01T04:53:52\",\"1970-01-01T04:53:52\",\"1970-01-01T07:23:52\",\"1970-01-01T07:23:52\",\"1970-01-01T07:57:12\",\"1970-01-01T07:57:12\",\"1970-01-01T07:57:12\",\"1970-01-01T09:53:52\",\"1970-01-01T09:53:52\",\"1970-01-01T10:27:12\",\"1970-01-01T10:27:12\",\"1970-01-01T10:27:12\",\"1970-01-01T12:57:12\",\"1970-01-01T12:57:12\",\"1970-01-01T13:30:32\",\"1970-01-01T13:30:32\",\"1970-01-01T13:30:32\",\"1970-01-01T01:17:12\",\"1970-01-01T01:17:12\",\"1970-01-01T01:50:32\",\"1970-01-01T01:50:32\",\"1970-01-01T01:50:32\",\"1970-01-01T04:20:32\",\"1970-01-01T04:20:32\",\"1970-01-01T04:53:52\",\"1970-01-01T04:53:52\",\"1970-01-01T04:53:52\",\"1970-01-01T07:23:52\",\"1970-01-01T07:23:52\",\"1970-01-01T07:57:12\",\"1970-01-01T07:57:12\",\"1970-01-01T07:57:12\",\"1970-01-01T09:53:52\",\"1970-01-01T09:53:52\",\"1970-01-01T10:27:12\",\"1970-01-01T10:27:12\",\"1970-01-01T10:27:12\",\"1970-01-01T12:57:12\",\"1970-01-01T12:57:12\",\"1970-01-01T13:30:32\",\"1970-01-01T13:30:32\",\"1970-01-01T13:30:32\",\"1970-01-01T01:17:12\",\"1970-01-01T01:17:12\",\"1970-01-01T01:50:32\",\"1970-01-01T01:50:32\",\"1970-01-01T01:50:32\",\"1970-01-01T04:20:32\",\"1970-01-01T04:20:32\",\"1970-01-01T04:53:52\",\"1970-01-01T04:53:52\",\"1970-01-01T04:53:52\",\"1970-01-01T07:23:52\",\"1970-01-01T07:23:52\",\"1970-01-01T07:57:12\",\"1970-01-01T07:57:12\",\"1970-01-01T07:57:12\",\"1970-01-01T09:53:52\",\"1970-01-01T09:53:52\",\"1970-01-01T10:27:12\",\"1970-01-01T10:27:12\",\"1970-01-01T10:27:12\",\"1970-01-01T12:57:12\",\"1970-01-01T12:57:12\",\"1970-01-01T13:30:32\",\"1970-01-01T13:30:32\",\"1970-01-01T13:30:32\"],\"y\":[\"Carrier B\",\"Carrier B\",\"Carrier B\",\"Carrier B\",null,\"Carrier B\",\"Carrier B\",\"Carrier B\",\"Carrier B\",null,\"Carrier B\",\"Carrier B\",\"Carrier B\",\"Carrier B\",null,\"Carrier B\",\"Carrier B\",\"Carrier B\",\"Carrier B\",null,\"Carrier B\",\"Carrier B\",\"Carrier B\",\"Carrier B\",null,\"Cutter T\",\"Cutter T\",\"Cutter T\",\"Cutter T\",null,\"Cutter T\",\"Cutter T\",\"Cutter T\",\"Cutter T\",null,\"Cutter T\",\"Cutter T\",\"Cutter T\",\"Cutter T\",null,\"Cutter T\",\"Cutter T\",\"Cutter T\",\"Cutter T\",null,\"Cutter T\",\"Cutter T\",\"Cutter T\",\"Cutter T\",null,\"Trench\",\"Trench\",\"Trench\",\"Trench\",null,\"Trench\",\"Trench\",\"Trench\",\"Trench\",null,\"Trench\",\"Trench\",\"Trench\",\"Trench\",null,\"Trench\",\"Trench\",\"Trench\",\"Trench\",null,\"Trench\",\"Trench\",\"Trench\",\"Trench\",null],\"type\":\"scatter\"},{\"connectgaps\":false,\"hoverinfo\":\"y+name\",\"line\":{\"color\":\"rgb(126,17,114)\",\"width\":10},\"mode\":\"lines\",\"name\":\"sailing full:Carrier B\",\"x\":[\"1970-01-01T01:50:32\",\"1970-01-01T01:50:32\",\"1970-01-01T02:26:05\",\"1970-01-01T02:26:05\",\"1970-01-01T02:26:05\",\"1970-01-01T04:53:52\",\"1970-01-01T04:53:52\",\"1970-01-01T05:29:25\",\"1970-01-01T05:29:25\",\"1970-01-01T05:29:25\",\"1970-01-01T07:57:12\",\"1970-01-01T07:57:12\",\"1970-01-01T08:32:45\",\"1970-01-01T08:32:45\",\"1970-01-01T08:32:45\",\"1970-01-01T10:27:12\",\"1970-01-01T10:27:12\",\"1970-01-01T11:02:45\",\"1970-01-01T11:02:45\",\"1970-01-01T11:02:45\",\"1970-01-01T13:30:32\",\"1970-01-01T13:30:32\",\"1970-01-01T14:06:05\",\"1970-01-01T14:06:05\",\"1970-01-01T14:06:05\"],\"y\":[\"Carrier B\",\"Carrier B\",\"Carrier B\",\"Carrier B\",null,\"Carrier B\",\"Carrier B\",\"Carrier B\",\"Carrier B\",null,\"Carrier B\",\"Carrier B\",\"Carrier B\",\"Carrier B\",null,\"Carrier B\",\"Carrier B\",\"Carrier B\",\"Carrier B\",null,\"Carrier B\",\"Carrier B\",\"Carrier B\",\"Carrier B\",null],\"type\":\"scatter\"},{\"connectgaps\":false,\"hoverinfo\":\"y+name\",\"line\":{\"color\":\"rgb(133,24,121)\",\"width\":10},\"mode\":\"lines\",\"name\":\"unloading:Carrier B\",\"x\":[\"1970-01-01T02:26:05\",\"1970-01-01T02:26:05\",\"1970-01-01T03:01:38\",\"1970-01-01T03:01:38\",\"1970-01-01T03:01:38\",\"1970-01-01T05:29:25\",\"1970-01-01T05:29:25\",\"1970-01-01T06:04:58\",\"1970-01-01T06:04:58\",\"1970-01-01T06:04:58\",\"1970-01-01T08:32:45\",\"1970-01-01T08:32:45\",\"1970-01-01T09:08:18\",\"1970-01-01T09:08:18\",\"1970-01-01T09:08:18\",\"1970-01-01T11:02:45\",\"1970-01-01T11:02:45\",\"1970-01-01T11:38:18\",\"1970-01-01T11:38:18\",\"1970-01-01T11:38:18\",\"1970-01-01T14:06:05\",\"1970-01-01T14:06:05\",\"1970-01-01T14:41:38\",\"1970-01-01T14:41:38\",\"1970-01-01T14:41:38\",\"1970-01-01T02:26:05\",\"1970-01-01T02:26:05\",\"1970-01-01T03:01:38\",\"1970-01-01T03:01:38\",\"1970-01-01T03:01:38\",\"1970-01-01T05:29:25\",\"1970-01-01T05:29:25\",\"1970-01-01T06:04:58\",\"1970-01-01T06:04:58\",\"1970-01-01T06:04:58\",\"1970-01-01T08:32:45\",\"1970-01-01T08:32:45\",\"1970-01-01T09:08:18\",\"1970-01-01T09:08:18\",\"1970-01-01T09:08:18\",\"1970-01-01T11:02:45\",\"1970-01-01T11:02:45\",\"1970-01-01T11:38:18\",\"1970-01-01T11:38:18\",\"1970-01-01T11:38:18\",\"1970-01-01T14:06:05\",\"1970-01-01T14:06:05\",\"1970-01-01T14:41:38\",\"1970-01-01T14:41:38\",\"1970-01-01T14:41:38\"],\"y\":[\"Carrier B\",\"Carrier B\",\"Carrier B\",\"Carrier B\",null,\"Carrier B\",\"Carrier B\",\"Carrier B\",\"Carrier B\",null,\"Carrier B\",\"Carrier B\",\"Carrier B\",\"Carrier B\",null,\"Carrier B\",\"Carrier B\",\"Carrier B\",\"Carrier B\",null,\"Carrier B\",\"Carrier B\",\"Carrier B\",\"Carrier B\",null,\"Reclamation\",\"Reclamation\",\"Reclamation\",\"Reclamation\",null,\"Reclamation\",\"Reclamation\",\"Reclamation\",\"Reclamation\",null,\"Reclamation\",\"Reclamation\",\"Reclamation\",\"Reclamation\",null,\"Reclamation\",\"Reclamation\",\"Reclamation\",\"Reclamation\",null,\"Reclamation\",\"Reclamation\",\"Reclamation\",\"Reclamation\",null],\"type\":\"scatter\"},{\"connectgaps\":false,\"hoverinfo\":\"y+name\",\"line\":{\"color\":\"rgb(140,31,128)\",\"width\":10},\"mode\":\"lines\",\"name\":\"unloading:Carrier C\",\"x\":[\"1970-01-01T01:52:44\",\"1970-01-01T01:52:44\",\"1970-01-01T02:28:16\",\"1970-01-01T02:28:16\",\"1970-01-01T02:28:16\",\"1970-01-01T04:56:04\",\"1970-01-01T04:56:04\",\"1970-01-01T05:31:36\",\"1970-01-01T05:31:36\",\"1970-01-01T05:31:36\",\"1970-01-01T07:26:04\",\"1970-01-01T07:26:04\",\"1970-01-01T08:01:36\",\"1970-01-01T08:01:36\",\"1970-01-01T08:01:36\",\"1970-01-01T10:29:24\",\"1970-01-01T10:29:24\",\"1970-01-01T11:04:56\",\"1970-01-01T11:04:56\",\"1970-01-01T11:04:56\",\"1970-01-01T13:32:44\",\"1970-01-01T13:32:44\",\"1970-01-01T14:08:16\",\"1970-01-01T14:08:16\",\"1970-01-01T14:08:16\",\"1970-01-01T01:52:44\",\"1970-01-01T01:52:44\",\"1970-01-01T02:28:16\",\"1970-01-01T02:28:16\",\"1970-01-01T02:28:16\",\"1970-01-01T04:56:04\",\"1970-01-01T04:56:04\",\"1970-01-01T05:31:36\",\"1970-01-01T05:31:36\",\"1970-01-01T05:31:36\",\"1970-01-01T07:26:04\",\"1970-01-01T07:26:04\",\"1970-01-01T08:01:36\",\"1970-01-01T08:01:36\",\"1970-01-01T08:01:36\",\"1970-01-01T10:29:24\",\"1970-01-01T10:29:24\",\"1970-01-01T11:04:56\",\"1970-01-01T11:04:56\",\"1970-01-01T11:04:56\",\"1970-01-01T13:32:44\",\"1970-01-01T13:32:44\",\"1970-01-01T14:08:16\",\"1970-01-01T14:08:16\",\"1970-01-01T14:08:16\"],\"y\":[\"Carrier C\",\"Carrier C\",\"Carrier C\",\"Carrier C\",null,\"Carrier C\",\"Carrier C\",\"Carrier C\",\"Carrier C\",null,\"Carrier C\",\"Carrier C\",\"Carrier C\",\"Carrier C\",null,\"Carrier C\",\"Carrier C\",\"Carrier C\",\"Carrier C\",null,\"Carrier C\",\"Carrier C\",\"Carrier C\",\"Carrier C\",null,\"Reclamation\",\"Reclamation\",\"Reclamation\",\"Reclamation\",null,\"Reclamation\",\"Reclamation\",\"Reclamation\",\"Reclamation\",null,\"Reclamation\",\"Reclamation\",\"Reclamation\",\"Reclamation\",null,\"Reclamation\",\"Reclamation\",\"Reclamation\",\"Reclamation\",null,\"Reclamation\",\"Reclamation\",\"Reclamation\",\"Reclamation\",null],\"type\":\"scatter\"},{\"connectgaps\":false,\"hoverinfo\":\"y+name\",\"line\":{\"color\":\"rgb(147,38,135)\",\"width\":10},\"mode\":\"lines\",\"name\":\"loading:Carrier C\",\"x\":[\"1970-01-01T00:35:32\",\"1970-01-01T00:35:32\",\"1970-01-01T01:17:12\",\"1970-01-01T01:17:12\",\"1970-01-01T01:17:12\",\"1970-01-01T03:38:52\",\"1970-01-01T03:38:52\",\"1970-01-01T04:20:32\",\"1970-01-01T04:20:32\",\"1970-01-01T04:20:32\",\"1970-01-01T06:08:52\",\"1970-01-01T06:08:52\",\"1970-01-01T06:50:32\",\"1970-01-01T06:50:32\",\"1970-01-01T06:50:32\",\"1970-01-01T09:12:12\",\"1970-01-01T09:12:12\",\"1970-01-01T09:53:52\",\"1970-01-01T09:53:52\",\"1970-01-01T09:53:52\",\"1970-01-01T12:15:32\",\"1970-01-01T12:15:32\",\"1970-01-01T12:57:12\",\"1970-01-01T12:57:12\",\"1970-01-01T12:57:12\",\"1970-01-01T00:35:32\",\"1970-01-01T00:35:32\",\"1970-01-01T01:17:12\",\"1970-01-01T01:17:12\",\"1970-01-01T01:17:12\",\"1970-01-01T03:38:52\",\"1970-01-01T03:38:52\",\"1970-01-01T04:20:32\",\"1970-01-01T04:20:32\",\"1970-01-01T04:20:32\",\"1970-01-01T06:08:52\",\"1970-01-01T06:08:52\",\"1970-01-01T06:50:32\",\"1970-01-01T06:50:32\",\"1970-01-01T06:50:32\",\"1970-01-01T09:12:12\",\"1970-01-01T09:12:12\",\"1970-01-01T09:53:52\",\"1970-01-01T09:53:52\",\"1970-01-01T09:53:52\",\"1970-01-01T12:15:32\",\"1970-01-01T12:15:32\",\"1970-01-01T12:57:12\",\"1970-01-01T12:57:12\",\"1970-01-01T12:57:12\",\"1970-01-01T00:35:32\",\"1970-01-01T00:35:32\",\"1970-01-01T01:17:12\",\"1970-01-01T01:17:12\",\"1970-01-01T01:17:12\",\"1970-01-01T03:38:52\",\"1970-01-01T03:38:52\",\"1970-01-01T04:20:32\",\"1970-01-01T04:20:32\",\"1970-01-01T04:20:32\",\"1970-01-01T06:08:52\",\"1970-01-01T06:08:52\",\"1970-01-01T06:50:32\",\"1970-01-01T06:50:32\",\"1970-01-01T06:50:32\",\"1970-01-01T09:12:12\",\"1970-01-01T09:12:12\",\"1970-01-01T09:53:52\",\"1970-01-01T09:53:52\",\"1970-01-01T09:53:52\",\"1970-01-01T12:15:32\",\"1970-01-01T12:15:32\",\"1970-01-01T12:57:12\",\"1970-01-01T12:57:12\",\"1970-01-01T12:57:12\"],\"y\":[\"Carrier C\",\"Carrier C\",\"Carrier C\",\"Carrier C\",null,\"Carrier C\",\"Carrier C\",\"Carrier C\",\"Carrier C\",null,\"Carrier C\",\"Carrier C\",\"Carrier C\",\"Carrier C\",null,\"Carrier C\",\"Carrier C\",\"Carrier C\",\"Carrier C\",null,\"Carrier C\",\"Carrier C\",\"Carrier C\",\"Carrier C\",null,\"Cutter T\",\"Cutter T\",\"Cutter T\",\"Cutter T\",null,\"Cutter T\",\"Cutter T\",\"Cutter T\",\"Cutter T\",null,\"Cutter T\",\"Cutter T\",\"Cutter T\",\"Cutter T\",null,\"Cutter T\",\"Cutter T\",\"Cutter T\",\"Cutter T\",null,\"Cutter T\",\"Cutter T\",\"Cutter T\",\"Cutter T\",null,\"Trench\",\"Trench\",\"Trench\",\"Trench\",null,\"Trench\",\"Trench\",\"Trench\",\"Trench\",null,\"Trench\",\"Trench\",\"Trench\",\"Trench\",null,\"Trench\",\"Trench\",\"Trench\",\"Trench\",null,\"Trench\",\"Trench\",\"Trench\",\"Trench\",null],\"type\":\"scatter\"},{\"connectgaps\":false,\"hoverinfo\":\"y+name\",\"line\":{\"color\":\"rgb(154,45,142)\",\"width\":10},\"mode\":\"lines\",\"name\":\"sailing full:Carrier C\",\"x\":[\"1970-01-01T01:17:12\",\"1970-01-01T01:17:12\",\"1970-01-01T01:52:44\",\"1970-01-01T01:52:44\",\"1970-01-01T01:52:44\",\"1970-01-01T04:20:32\",\"1970-01-01T04:20:32\",\"1970-01-01T04:56:04\",\"1970-01-01T04:56:04\",\"1970-01-01T04:56:04\",\"1970-01-01T06:50:32\",\"1970-01-01T06:50:32\",\"1970-01-01T07:26:04\",\"1970-01-01T07:26:04\",\"1970-01-01T07:26:04\",\"1970-01-01T09:53:52\",\"1970-01-01T09:53:52\",\"1970-01-01T10:29:24\",\"1970-01-01T10:29:24\",\"1970-01-01T10:29:24\",\"1970-01-01T12:57:12\",\"1970-01-01T12:57:12\",\"1970-01-01T13:32:44\",\"1970-01-01T13:32:44\",\"1970-01-01T13:32:44\"],\"y\":[\"Carrier C\",\"Carrier C\",\"Carrier C\",\"Carrier C\",null,\"Carrier C\",\"Carrier C\",\"Carrier C\",\"Carrier C\",null,\"Carrier C\",\"Carrier C\",\"Carrier C\",\"Carrier C\",null,\"Carrier C\",\"Carrier C\",\"Carrier C\",\"Carrier C\",null,\"Carrier C\",\"Carrier C\",\"Carrier C\",\"Carrier C\",null],\"type\":\"scatter\"},{\"connectgaps\":false,\"hoverinfo\":\"y+name\",\"line\":{\"color\":\"rgb(161,52,149)\",\"width\":10},\"mode\":\"lines\",\"name\":\"sailing empty:Carrier C\",\"x\":[\"1970-01-01T00:00:00\",\"1970-01-01T00:00:00\",\"1970-01-01T00:35:32\",\"1970-01-01T00:35:32\",\"1970-01-01T00:35:32\",\"1970-01-01T02:28:16\",\"1970-01-01T02:28:16\",\"1970-01-01T03:03:48\",\"1970-01-01T03:03:48\",\"1970-01-01T03:03:48\",\"1970-01-01T05:31:36\",\"1970-01-01T05:31:36\",\"1970-01-01T06:07:08\",\"1970-01-01T06:07:08\",\"1970-01-01T06:07:08\",\"1970-01-01T08:01:36\",\"1970-01-01T08:01:36\",\"1970-01-01T08:37:08\",\"1970-01-01T08:37:08\",\"1970-01-01T08:37:08\",\"1970-01-01T11:04:56\",\"1970-01-01T11:04:56\",\"1970-01-01T11:40:28\",\"1970-01-01T11:40:28\",\"1970-01-01T11:40:28\"],\"y\":[\"Carrier C\",\"Carrier C\",\"Carrier C\",\"Carrier C\",null,\"Carrier C\",\"Carrier C\",\"Carrier C\",\"Carrier C\",null,\"Carrier C\",\"Carrier C\",\"Carrier C\",\"Carrier C\",null,\"Carrier C\",\"Carrier C\",\"Carrier C\",\"Carrier C\",null,\"Carrier C\",\"Carrier C\",\"Carrier C\",\"Carrier C\",null],\"type\":\"scatter\"},{\"connectgaps\":false,\"hoverinfo\":\"y+name\",\"line\":{\"color\":\"rgb(168,59,156)\",\"width\":10},\"mode\":\"lines\",\"name\":\"loading:Barge I\",\"x\":[\"1970-01-01T02:32:12\",\"1970-01-01T02:32:12\",\"1970-01-01T03:05:32\",\"1970-01-01T03:05:32\",\"1970-01-01T03:05:32\",\"1970-01-01T05:35:32\",\"1970-01-01T05:35:32\",\"1970-01-01T06:08:52\",\"1970-01-01T06:08:52\",\"1970-01-01T06:08:52\",\"1970-01-01T08:38:52\",\"1970-01-01T08:38:52\",\"1970-01-01T09:12:12\",\"1970-01-01T09:12:12\",\"1970-01-01T09:12:12\",\"1970-01-01T11:42:12\",\"1970-01-01T11:42:12\",\"1970-01-01T12:15:32\",\"1970-01-01T12:15:32\",\"1970-01-01T12:15:32\",\"1970-01-01T02:32:12\",\"1970-01-01T02:32:12\",\"1970-01-01T03:05:32\",\"1970-01-01T03:05:32\",\"1970-01-01T03:05:32\",\"1970-01-01T05:35:32\",\"1970-01-01T05:35:32\",\"1970-01-01T06:08:52\",\"1970-01-01T06:08:52\",\"1970-01-01T06:08:52\",\"1970-01-01T08:38:52\",\"1970-01-01T08:38:52\",\"1970-01-01T09:12:12\",\"1970-01-01T09:12:12\",\"1970-01-01T09:12:12\",\"1970-01-01T11:42:12\",\"1970-01-01T11:42:12\",\"1970-01-01T12:15:32\",\"1970-01-01T12:15:32\",\"1970-01-01T12:15:32\",\"1970-01-01T02:32:12\",\"1970-01-01T02:32:12\",\"1970-01-01T03:05:32\",\"1970-01-01T03:05:32\",\"1970-01-01T03:05:32\",\"1970-01-01T05:35:32\",\"1970-01-01T05:35:32\",\"1970-01-01T06:08:52\",\"1970-01-01T06:08:52\",\"1970-01-01T06:08:52\",\"1970-01-01T08:38:52\",\"1970-01-01T08:38:52\",\"1970-01-01T09:12:12\",\"1970-01-01T09:12:12\",\"1970-01-01T09:12:12\",\"1970-01-01T11:42:12\",\"1970-01-01T11:42:12\",\"1970-01-01T12:15:32\",\"1970-01-01T12:15:32\",\"1970-01-01T12:15:32\"],\"y\":[\"Barge I\",\"Barge I\",\"Barge I\",\"Barge I\",null,\"Barge I\",\"Barge I\",\"Barge I\",\"Barge I\",null,\"Barge I\",\"Barge I\",\"Barge I\",\"Barge I\",null,\"Barge I\",\"Barge I\",\"Barge I\",\"Barge I\",null,\"Cutter T\",\"Cutter T\",\"Cutter T\",\"Cutter T\",null,\"Cutter T\",\"Cutter T\",\"Cutter T\",\"Cutter T\",null,\"Cutter T\",\"Cutter T\",\"Cutter T\",\"Cutter T\",null,\"Cutter T\",\"Cutter T\",\"Cutter T\",\"Cutter T\",null,\"Trench\",\"Trench\",\"Trench\",\"Trench\",null,\"Trench\",\"Trench\",\"Trench\",\"Trench\",null,\"Trench\",\"Trench\",\"Trench\",\"Trench\",null,\"Trench\",\"Trench\",\"Trench\",\"Trench\",null],\"type\":\"scatter\"},{\"connectgaps\":false,\"hoverinfo\":\"y+name\",\"line\":{\"color\":\"rgb(175,66,163)\",\"width\":10},\"mode\":\"lines\",\"name\":\"sailing full:Barge I\",\"x\":[\"1970-01-01T03:05:32\",\"1970-01-01T03:05:32\",\"1970-01-01T03:44:20\",\"1970-01-01T03:44:20\",\"1970-01-01T03:44:20\",\"1970-01-01T06:08:52\",\"1970-01-01T06:08:52\",\"1970-01-01T06:47:40\",\"1970-01-01T06:47:40\",\"1970-01-01T06:47:40\",\"1970-01-01T09:12:12\",\"1970-01-01T09:12:12\",\"1970-01-01T09:51:00\",\"1970-01-01T09:51:00\",\"1970-01-01T09:51:00\",\"1970-01-01T12:15:32\",\"1970-01-01T12:15:32\",\"1970-01-01T12:54:20\",\"1970-01-01T12:54:20\",\"1970-01-01T12:54:20\"],\"y\":[\"Barge I\",\"Barge I\",\"Barge I\",\"Barge I\",null,\"Barge I\",\"Barge I\",\"Barge I\",\"Barge I\",null,\"Barge I\",\"Barge I\",\"Barge I\",\"Barge I\",null,\"Barge I\",\"Barge I\",\"Barge I\",\"Barge I\",null],\"type\":\"scatter\"},{\"connectgaps\":false,\"hoverinfo\":\"y+name\",\"line\":{\"color\":\"rgb(182,73,170)\",\"width\":10},\"mode\":\"lines\",\"name\":\"unloading:Barge I\",\"x\":[\"1970-01-01T03:44:20\",\"1970-01-01T03:44:20\",\"1970-01-01T04:23:08\",\"1970-01-01T04:23:08\",\"1970-01-01T04:23:08\",\"1970-01-01T06:47:40\",\"1970-01-01T06:47:40\",\"1970-01-01T07:26:28\",\"1970-01-01T07:26:28\",\"1970-01-01T07:26:28\",\"1970-01-01T09:51:00\",\"1970-01-01T09:51:00\",\"1970-01-01T10:29:48\",\"1970-01-01T10:29:48\",\"1970-01-01T10:29:48\",\"1970-01-01T12:54:20\",\"1970-01-01T12:54:20\",\"1970-01-01T13:33:08\",\"1970-01-01T13:33:08\",\"1970-01-01T13:33:08\",\"1970-01-01T03:44:20\",\"1970-01-01T03:44:20\",\"1970-01-01T04:23:08\",\"1970-01-01T04:23:08\",\"1970-01-01T04:23:08\",\"1970-01-01T06:47:40\",\"1970-01-01T06:47:40\",\"1970-01-01T07:26:28\",\"1970-01-01T07:26:28\",\"1970-01-01T07:26:28\",\"1970-01-01T09:51:00\",\"1970-01-01T09:51:00\",\"1970-01-01T10:29:48\",\"1970-01-01T10:29:48\",\"1970-01-01T10:29:48\",\"1970-01-01T12:54:20\",\"1970-01-01T12:54:20\",\"1970-01-01T13:33:08\",\"1970-01-01T13:33:08\",\"1970-01-01T13:33:08\"],\"y\":[\"Barge I\",\"Barge I\",\"Barge I\",\"Barge I\",null,\"Barge I\",\"Barge I\",\"Barge I\",\"Barge I\",null,\"Barge I\",\"Barge I\",\"Barge I\",\"Barge I\",null,\"Barge I\",\"Barge I\",\"Barge I\",\"Barge I\",null,\"Reclamation\",\"Reclamation\",\"Reclamation\",\"Reclamation\",null,\"Reclamation\",\"Reclamation\",\"Reclamation\",\"Reclamation\",null,\"Reclamation\",\"Reclamation\",\"Reclamation\",\"Reclamation\",null,\"Reclamation\",\"Reclamation\",\"Reclamation\",\"Reclamation\",null],\"type\":\"scatter\"},{\"connectgaps\":false,\"hoverinfo\":\"y+name\",\"line\":{\"color\":\"rgb(189,80,177)\",\"width\":10},\"mode\":\"lines\",\"name\":\"sailing empty:Barge I\",\"x\":[\"1970-01-01T00:00:00\",\"1970-01-01T00:00:00\",\"1970-01-01T00:38:48\",\"1970-01-01T00:38:48\",\"1970-01-01T00:38:48\",\"1970-01-01T04:23:08\",\"1970-01-01T04:23:08\",\"1970-01-01T05:01:56\",\"1970-01-01T05:01:56\",\"1970-01-01T05:01:56\",\"1970-01-01T07:26:28\",\"1970-01-01T07:26:28\",\"1970-01-01T08:05:16\",\"1970-01-01T08:05:16\",\"1970-01-01T08:05:16\",\"1970-01-01T10:29:48\",\"1970-01-01T10:29:48\",\"1970-01-01T11:08:36\",\"1970-01-01T11:08:36\",\"1970-01-01T11:08:36\"],\"y\":[\"Barge I\",\"Barge I\",\"Barge I\",\"Barge I\",null,\"Barge I\",\"Barge I\",\"Barge I\",\"Barge I\",null,\"Barge I\",\"Barge I\",\"Barge I\",\"Barge I\",null,\"Barge I\",\"Barge I\",\"Barge I\",\"Barge I\",null],\"type\":\"scatter\"},{\"connectgaps\":false,\"hoverinfo\":\"y+name\",\"line\":{\"color\":\"rgb(196,87,184)\",\"width\":10},\"mode\":\"lines\",\"name\":\"sailing full:Barge II\",\"x\":[\"1970-01-01T02:32:12\",\"1970-01-01T02:32:12\",\"1970-01-01T03:07:47\",\"1970-01-01T03:07:47\",\"1970-01-01T03:07:47\",\"1970-01-01T05:35:32\",\"1970-01-01T05:35:32\",\"1970-01-01T06:11:07\",\"1970-01-01T06:11:07\",\"1970-01-01T06:11:07\",\"1970-01-01T08:38:52\",\"1970-01-01T08:38:52\",\"1970-01-01T09:14:27\",\"1970-01-01T09:14:27\",\"1970-01-01T09:14:27\",\"1970-01-01T11:42:12\",\"1970-01-01T11:42:12\",\"1970-01-01T12:17:47\",\"1970-01-01T12:17:47\",\"1970-01-01T12:17:47\",\"1970-01-01T14:12:12\",\"1970-01-01T14:12:12\",\"1970-01-01T14:47:47\",\"1970-01-01T14:47:47\",\"1970-01-01T14:47:47\"],\"y\":[\"Barge II\",\"Barge II\",\"Barge II\",\"Barge II\",null,\"Barge II\",\"Barge II\",\"Barge II\",\"Barge II\",null,\"Barge II\",\"Barge II\",\"Barge II\",\"Barge II\",null,\"Barge II\",\"Barge II\",\"Barge II\",\"Barge II\",null,\"Barge II\",\"Barge II\",\"Barge II\",\"Barge II\",null],\"type\":\"scatter\"},{\"connectgaps\":false,\"hoverinfo\":\"y+name\",\"line\":{\"color\":\"rgb(203,94,191)\",\"width\":10},\"mode\":\"lines\",\"name\":\"sailing empty:Barge II\",\"x\":[\"1970-01-01T00:00:00\",\"1970-01-01T00:00:00\",\"1970-01-01T00:35:35\",\"1970-01-01T00:35:35\",\"1970-01-01T00:35:35\",\"1970-01-01T03:43:22\",\"1970-01-01T03:43:22\",\"1970-01-01T04:18:57\",\"1970-01-01T04:18:57\",\"1970-01-01T04:18:57\",\"1970-01-01T06:46:42\",\"1970-01-01T06:46:42\",\"1970-01-01T07:22:17\",\"1970-01-01T07:22:17\",\"1970-01-01T07:22:17\",\"1970-01-01T09:50:02\",\"1970-01-01T09:50:02\",\"1970-01-01T10:25:37\",\"1970-01-01T10:25:37\",\"1970-01-01T10:25:37\",\"1970-01-01T12:53:22\",\"1970-01-01T12:53:22\",\"1970-01-01T13:28:57\",\"1970-01-01T13:28:57\",\"1970-01-01T13:28:57\"],\"y\":[\"Barge II\",\"Barge II\",\"Barge II\",\"Barge II\",null,\"Barge II\",\"Barge II\",\"Barge II\",\"Barge II\",null,\"Barge II\",\"Barge II\",\"Barge II\",\"Barge II\",null,\"Barge II\",\"Barge II\",\"Barge II\",\"Barge II\",null,\"Barge II\",\"Barge II\",\"Barge II\",\"Barge II\",null],\"type\":\"scatter\"},{\"connectgaps\":false,\"hoverinfo\":\"y+name\",\"line\":{\"color\":\"rgb(210,101,198)\",\"width\":10},\"mode\":\"lines\",\"name\":\"unloading:Barge II\",\"x\":[\"1970-01-01T03:07:47\",\"1970-01-01T03:07:47\",\"1970-01-01T03:43:22\",\"1970-01-01T03:43:22\",\"1970-01-01T03:43:22\",\"1970-01-01T06:11:07\",\"1970-01-01T06:11:07\",\"1970-01-01T06:46:42\",\"1970-01-01T06:46:42\",\"1970-01-01T06:46:42\",\"1970-01-01T09:14:27\",\"1970-01-01T09:14:27\",\"1970-01-01T09:50:02\",\"1970-01-01T09:50:02\",\"1970-01-01T09:50:02\",\"1970-01-01T12:17:47\",\"1970-01-01T12:17:47\",\"1970-01-01T12:53:22\",\"1970-01-01T12:53:22\",\"1970-01-01T12:53:22\",\"1970-01-01T14:47:47\",\"1970-01-01T14:47:47\",\"1970-01-01T15:23:22\",\"1970-01-01T15:23:22\",\"1970-01-01T15:23:22\",\"1970-01-01T03:07:47\",\"1970-01-01T03:07:47\",\"1970-01-01T03:43:22\",\"1970-01-01T03:43:22\",\"1970-01-01T03:43:22\",\"1970-01-01T06:11:07\",\"1970-01-01T06:11:07\",\"1970-01-01T06:46:42\",\"1970-01-01T06:46:42\",\"1970-01-01T06:46:42\",\"1970-01-01T09:14:27\",\"1970-01-01T09:14:27\",\"1970-01-01T09:50:02\",\"1970-01-01T09:50:02\",\"1970-01-01T09:50:02\",\"1970-01-01T12:17:47\",\"1970-01-01T12:17:47\",\"1970-01-01T12:53:22\",\"1970-01-01T12:53:22\",\"1970-01-01T12:53:22\",\"1970-01-01T14:47:47\",\"1970-01-01T14:47:47\",\"1970-01-01T15:23:22\",\"1970-01-01T15:23:22\",\"1970-01-01T15:23:22\"],\"y\":[\"Barge II\",\"Barge II\",\"Barge II\",\"Barge II\",null,\"Barge II\",\"Barge II\",\"Barge II\",\"Barge II\",null,\"Barge II\",\"Barge II\",\"Barge II\",\"Barge II\",null,\"Barge II\",\"Barge II\",\"Barge II\",\"Barge II\",null,\"Barge II\",\"Barge II\",\"Barge II\",\"Barge II\",null,\"Reclamation\",\"Reclamation\",\"Reclamation\",\"Reclamation\",null,\"Reclamation\",\"Reclamation\",\"Reclamation\",\"Reclamation\",null,\"Reclamation\",\"Reclamation\",\"Reclamation\",\"Reclamation\",null,\"Reclamation\",\"Reclamation\",\"Reclamation\",\"Reclamation\",null,\"Reclamation\",\"Reclamation\",\"Reclamation\",\"Reclamation\",null],\"type\":\"scatter\"},{\"connectgaps\":false,\"hoverinfo\":\"y+name\",\"line\":{\"color\":\"rgb(217,108,205)\",\"width\":10},\"mode\":\"lines\",\"name\":\"loading:Barge II\",\"x\":[\"1970-01-01T01:50:32\",\"1970-01-01T01:50:32\",\"1970-01-01T02:32:12\",\"1970-01-01T02:32:12\",\"1970-01-01T02:32:12\",\"1970-01-01T04:53:52\",\"1970-01-01T04:53:52\",\"1970-01-01T05:35:32\",\"1970-01-01T05:35:32\",\"1970-01-01T05:35:32\",\"1970-01-01T07:57:12\",\"1970-01-01T07:57:12\",\"1970-01-01T08:38:52\",\"1970-01-01T08:38:52\",\"1970-01-01T08:38:52\",\"1970-01-01T11:00:32\",\"1970-01-01T11:00:32\",\"1970-01-01T11:42:12\",\"1970-01-01T11:42:12\",\"1970-01-01T11:42:12\",\"1970-01-01T13:30:32\",\"1970-01-01T13:30:32\",\"1970-01-01T14:12:12\",\"1970-01-01T14:12:12\",\"1970-01-01T14:12:12\",\"1970-01-01T01:50:32\",\"1970-01-01T01:50:32\",\"1970-01-01T02:32:12\",\"1970-01-01T02:32:12\",\"1970-01-01T02:32:12\",\"1970-01-01T04:53:52\",\"1970-01-01T04:53:52\",\"1970-01-01T05:35:32\",\"1970-01-01T05:35:32\",\"1970-01-01T05:35:32\",\"1970-01-01T07:57:12\",\"1970-01-01T07:57:12\",\"1970-01-01T08:38:52\",\"1970-01-01T08:38:52\",\"1970-01-01T08:38:52\",\"1970-01-01T11:00:32\",\"1970-01-01T11:00:32\",\"1970-01-01T11:42:12\",\"1970-01-01T11:42:12\",\"1970-01-01T11:42:12\",\"1970-01-01T13:30:32\",\"1970-01-01T13:30:32\",\"1970-01-01T14:12:12\",\"1970-01-01T14:12:12\",\"1970-01-01T14:12:12\",\"1970-01-01T01:50:32\",\"1970-01-01T01:50:32\",\"1970-01-01T02:32:12\",\"1970-01-01T02:32:12\",\"1970-01-01T02:32:12\",\"1970-01-01T04:53:52\",\"1970-01-01T04:53:52\",\"1970-01-01T05:35:32\",\"1970-01-01T05:35:32\",\"1970-01-01T05:35:32\",\"1970-01-01T07:57:12\",\"1970-01-01T07:57:12\",\"1970-01-01T08:38:52\",\"1970-01-01T08:38:52\",\"1970-01-01T08:38:52\",\"1970-01-01T11:00:32\",\"1970-01-01T11:00:32\",\"1970-01-01T11:42:12\",\"1970-01-01T11:42:12\",\"1970-01-01T11:42:12\",\"1970-01-01T13:30:32\",\"1970-01-01T13:30:32\",\"1970-01-01T14:12:12\",\"1970-01-01T14:12:12\",\"1970-01-01T14:12:12\"],\"y\":[\"Barge II\",\"Barge II\",\"Barge II\",\"Barge II\",null,\"Barge II\",\"Barge II\",\"Barge II\",\"Barge II\",null,\"Barge II\",\"Barge II\",\"Barge II\",\"Barge II\",null,\"Barge II\",\"Barge II\",\"Barge II\",\"Barge II\",null,\"Barge II\",\"Barge II\",\"Barge II\",\"Barge II\",null,\"Cutter T\",\"Cutter T\",\"Cutter T\",\"Cutter T\",null,\"Cutter T\",\"Cutter T\",\"Cutter T\",\"Cutter T\",null,\"Cutter T\",\"Cutter T\",\"Cutter T\",\"Cutter T\",null,\"Cutter T\",\"Cutter T\",\"Cutter T\",\"Cutter T\",null,\"Cutter T\",\"Cutter T\",\"Cutter T\",\"Cutter T\",null,\"Trench\",\"Trench\",\"Trench\",\"Trench\",null,\"Trench\",\"Trench\",\"Trench\",\"Trench\",null,\"Trench\",\"Trench\",\"Trench\",\"Trench\",null,\"Trench\",\"Trench\",\"Trench\",\"Trench\",null,\"Trench\",\"Trench\",\"Trench\",\"Trench\",null],\"type\":\"scatter\"},{\"connectgaps\":false,\"hoverinfo\":\"y+name\",\"line\":{\"color\":\"rgb(224,115,212)\",\"width\":10},\"mode\":\"lines\",\"name\":\"loading:Barge I\",\"x\":[\"1970-01-01T02:32:12\",\"1970-01-01T02:32:12\",\"1970-01-01T03:05:32\",\"1970-01-01T03:05:32\",\"1970-01-01T03:05:32\",\"1970-01-01T05:35:32\",\"1970-01-01T05:35:32\",\"1970-01-01T06:08:52\",\"1970-01-01T06:08:52\",\"1970-01-01T06:08:52\",\"1970-01-01T08:38:52\",\"1970-01-01T08:38:52\",\"1970-01-01T09:12:12\",\"1970-01-01T09:12:12\",\"1970-01-01T09:12:12\",\"1970-01-01T11:42:12\",\"1970-01-01T11:42:12\",\"1970-01-01T12:15:32\",\"1970-01-01T12:15:32\",\"1970-01-01T12:15:32\",\"1970-01-01T02:32:12\",\"1970-01-01T02:32:12\",\"1970-01-01T03:05:32\",\"1970-01-01T03:05:32\",\"1970-01-01T03:05:32\",\"1970-01-01T05:35:32\",\"1970-01-01T05:35:32\",\"1970-01-01T06:08:52\",\"1970-01-01T06:08:52\",\"1970-01-01T06:08:52\",\"1970-01-01T08:38:52\",\"1970-01-01T08:38:52\",\"1970-01-01T09:12:12\",\"1970-01-01T09:12:12\",\"1970-01-01T09:12:12\",\"1970-01-01T11:42:12\",\"1970-01-01T11:42:12\",\"1970-01-01T12:15:32\",\"1970-01-01T12:15:32\",\"1970-01-01T12:15:32\",\"1970-01-01T02:32:12\",\"1970-01-01T02:32:12\",\"1970-01-01T03:05:32\",\"1970-01-01T03:05:32\",\"1970-01-01T03:05:32\",\"1970-01-01T05:35:32\",\"1970-01-01T05:35:32\",\"1970-01-01T06:08:52\",\"1970-01-01T06:08:52\",\"1970-01-01T06:08:52\",\"1970-01-01T08:38:52\",\"1970-01-01T08:38:52\",\"1970-01-01T09:12:12\",\"1970-01-01T09:12:12\",\"1970-01-01T09:12:12\",\"1970-01-01T11:42:12\",\"1970-01-01T11:42:12\",\"1970-01-01T12:15:32\",\"1970-01-01T12:15:32\",\"1970-01-01T12:15:32\"],\"y\":[\"Barge I\",\"Barge I\",\"Barge I\",\"Barge I\",null,\"Barge I\",\"Barge I\",\"Barge I\",\"Barge I\",null,\"Barge I\",\"Barge I\",\"Barge I\",\"Barge I\",null,\"Barge I\",\"Barge I\",\"Barge I\",\"Barge I\",null,\"Cutter T\",\"Cutter T\",\"Cutter T\",\"Cutter T\",null,\"Cutter T\",\"Cutter T\",\"Cutter T\",\"Cutter T\",null,\"Cutter T\",\"Cutter T\",\"Cutter T\",\"Cutter T\",null,\"Cutter T\",\"Cutter T\",\"Cutter T\",\"Cutter T\",null,\"Trench\",\"Trench\",\"Trench\",\"Trench\",null,\"Trench\",\"Trench\",\"Trench\",\"Trench\",null,\"Trench\",\"Trench\",\"Trench\",\"Trench\",null,\"Trench\",\"Trench\",\"Trench\",\"Trench\",null],\"type\":\"scatter\"},{\"connectgaps\":false,\"hoverinfo\":\"y+name\",\"line\":{\"color\":\"rgb(231,122,219)\",\"width\":10},\"mode\":\"lines\",\"name\":\"loading:Carrier C\",\"x\":[\"1970-01-01T00:35:32\",\"1970-01-01T00:35:32\",\"1970-01-01T01:17:12\",\"1970-01-01T01:17:12\",\"1970-01-01T01:17:12\",\"1970-01-01T03:38:52\",\"1970-01-01T03:38:52\",\"1970-01-01T04:20:32\",\"1970-01-01T04:20:32\",\"1970-01-01T04:20:32\",\"1970-01-01T06:08:52\",\"1970-01-01T06:08:52\",\"1970-01-01T06:50:32\",\"1970-01-01T06:50:32\",\"1970-01-01T06:50:32\",\"1970-01-01T09:12:12\",\"1970-01-01T09:12:12\",\"1970-01-01T09:53:52\",\"1970-01-01T09:53:52\",\"1970-01-01T09:53:52\",\"1970-01-01T12:15:32\",\"1970-01-01T12:15:32\",\"1970-01-01T12:57:12\",\"1970-01-01T12:57:12\",\"1970-01-01T12:57:12\",\"1970-01-01T00:35:32\",\"1970-01-01T00:35:32\",\"1970-01-01T01:17:12\",\"1970-01-01T01:17:12\",\"1970-01-01T01:17:12\",\"1970-01-01T03:38:52\",\"1970-01-01T03:38:52\",\"1970-01-01T04:20:32\",\"1970-01-01T04:20:32\",\"1970-01-01T04:20:32\",\"1970-01-01T06:08:52\",\"1970-01-01T06:08:52\",\"1970-01-01T06:50:32\",\"1970-01-01T06:50:32\",\"1970-01-01T06:50:32\",\"1970-01-01T09:12:12\",\"1970-01-01T09:12:12\",\"1970-01-01T09:53:52\",\"1970-01-01T09:53:52\",\"1970-01-01T09:53:52\",\"1970-01-01T12:15:32\",\"1970-01-01T12:15:32\",\"1970-01-01T12:57:12\",\"1970-01-01T12:57:12\",\"1970-01-01T12:57:12\",\"1970-01-01T00:35:32\",\"1970-01-01T00:35:32\",\"1970-01-01T01:17:12\",\"1970-01-01T01:17:12\",\"1970-01-01T01:17:12\",\"1970-01-01T03:38:52\",\"1970-01-01T03:38:52\",\"1970-01-01T04:20:32\",\"1970-01-01T04:20:32\",\"1970-01-01T04:20:32\",\"1970-01-01T06:08:52\",\"1970-01-01T06:08:52\",\"1970-01-01T06:50:32\",\"1970-01-01T06:50:32\",\"1970-01-01T06:50:32\",\"1970-01-01T09:12:12\",\"1970-01-01T09:12:12\",\"1970-01-01T09:53:52\",\"1970-01-01T09:53:52\",\"1970-01-01T09:53:52\",\"1970-01-01T12:15:32\",\"1970-01-01T12:15:32\",\"1970-01-01T12:57:12\",\"1970-01-01T12:57:12\",\"1970-01-01T12:57:12\"],\"y\":[\"Carrier C\",\"Carrier C\",\"Carrier C\",\"Carrier C\",null,\"Carrier C\",\"Carrier C\",\"Carrier C\",\"Carrier C\",null,\"Carrier C\",\"Carrier C\",\"Carrier C\",\"Carrier C\",null,\"Carrier C\",\"Carrier C\",\"Carrier C\",\"Carrier C\",null,\"Carrier C\",\"Carrier C\",\"Carrier C\",\"Carrier C\",null,\"Cutter T\",\"Cutter T\",\"Cutter T\",\"Cutter T\",null,\"Cutter T\",\"Cutter T\",\"Cutter T\",\"Cutter T\",null,\"Cutter T\",\"Cutter T\",\"Cutter T\",\"Cutter T\",null,\"Cutter T\",\"Cutter T\",\"Cutter T\",\"Cutter T\",null,\"Cutter T\",\"Cutter T\",\"Cutter T\",\"Cutter T\",null,\"Trench\",\"Trench\",\"Trench\",\"Trench\",null,\"Trench\",\"Trench\",\"Trench\",\"Trench\",null,\"Trench\",\"Trench\",\"Trench\",\"Trench\",null,\"Trench\",\"Trench\",\"Trench\",\"Trench\",null,\"Trench\",\"Trench\",\"Trench\",\"Trench\",null],\"type\":\"scatter\"},{\"connectgaps\":false,\"hoverinfo\":\"y+name\",\"line\":{\"color\":\"rgb(238,129,226)\",\"width\":10},\"mode\":\"lines\",\"name\":\"loading:Barge II\",\"x\":[\"1970-01-01T01:50:32\",\"1970-01-01T01:50:32\",\"1970-01-01T02:32:12\",\"1970-01-01T02:32:12\",\"1970-01-01T02:32:12\",\"1970-01-01T04:53:52\",\"1970-01-01T04:53:52\",\"1970-01-01T05:35:32\",\"1970-01-01T05:35:32\",\"1970-01-01T05:35:32\",\"1970-01-01T07:57:12\",\"1970-01-01T07:57:12\",\"1970-01-01T08:38:52\",\"1970-01-01T08:38:52\",\"1970-01-01T08:38:52\",\"1970-01-01T11:00:32\",\"1970-01-01T11:00:32\",\"1970-01-01T11:42:12\",\"1970-01-01T11:42:12\",\"1970-01-01T11:42:12\",\"1970-01-01T13:30:32\",\"1970-01-01T13:30:32\",\"1970-01-01T14:12:12\",\"1970-01-01T14:12:12\",\"1970-01-01T14:12:12\",\"1970-01-01T01:50:32\",\"1970-01-01T01:50:32\",\"1970-01-01T02:32:12\",\"1970-01-01T02:32:12\",\"1970-01-01T02:32:12\",\"1970-01-01T04:53:52\",\"1970-01-01T04:53:52\",\"1970-01-01T05:35:32\",\"1970-01-01T05:35:32\",\"1970-01-01T05:35:32\",\"1970-01-01T07:57:12\",\"1970-01-01T07:57:12\",\"1970-01-01T08:38:52\",\"1970-01-01T08:38:52\",\"1970-01-01T08:38:52\",\"1970-01-01T11:00:32\",\"1970-01-01T11:00:32\",\"1970-01-01T11:42:12\",\"1970-01-01T11:42:12\",\"1970-01-01T11:42:12\",\"1970-01-01T13:30:32\",\"1970-01-01T13:30:32\",\"1970-01-01T14:12:12\",\"1970-01-01T14:12:12\",\"1970-01-01T14:12:12\",\"1970-01-01T01:50:32\",\"1970-01-01T01:50:32\",\"1970-01-01T02:32:12\",\"1970-01-01T02:32:12\",\"1970-01-01T02:32:12\",\"1970-01-01T04:53:52\",\"1970-01-01T04:53:52\",\"1970-01-01T05:35:32\",\"1970-01-01T05:35:32\",\"1970-01-01T05:35:32\",\"1970-01-01T07:57:12\",\"1970-01-01T07:57:12\",\"1970-01-01T08:38:52\",\"1970-01-01T08:38:52\",\"1970-01-01T08:38:52\",\"1970-01-01T11:00:32\",\"1970-01-01T11:00:32\",\"1970-01-01T11:42:12\",\"1970-01-01T11:42:12\",\"1970-01-01T11:42:12\",\"1970-01-01T13:30:32\",\"1970-01-01T13:30:32\",\"1970-01-01T14:12:12\",\"1970-01-01T14:12:12\",\"1970-01-01T14:12:12\"],\"y\":[\"Barge II\",\"Barge II\",\"Barge II\",\"Barge II\",null,\"Barge II\",\"Barge II\",\"Barge II\",\"Barge II\",null,\"Barge II\",\"Barge II\",\"Barge II\",\"Barge II\",null,\"Barge II\",\"Barge II\",\"Barge II\",\"Barge II\",null,\"Barge II\",\"Barge II\",\"Barge II\",\"Barge II\",null,\"Cutter T\",\"Cutter T\",\"Cutter T\",\"Cutter T\",null,\"Cutter T\",\"Cutter T\",\"Cutter T\",\"Cutter T\",null,\"Cutter T\",\"Cutter T\",\"Cutter T\",\"Cutter T\",null,\"Cutter T\",\"Cutter T\",\"Cutter T\",\"Cutter T\",null,\"Cutter T\",\"Cutter T\",\"Cutter T\",\"Cutter T\",null,\"Trench\",\"Trench\",\"Trench\",\"Trench\",null,\"Trench\",\"Trench\",\"Trench\",\"Trench\",null,\"Trench\",\"Trench\",\"Trench\",\"Trench\",null,\"Trench\",\"Trench\",\"Trench\",\"Trench\",null,\"Trench\",\"Trench\",\"Trench\",\"Trench\",null],\"type\":\"scatter\"},{\"connectgaps\":false,\"hoverinfo\":\"y+name\",\"line\":{\"color\":\"rgb(245,136,233)\",\"width\":10},\"mode\":\"lines\",\"name\":\"loading:Carrier A\",\"x\":[\"1970-01-01T03:05:32\",\"1970-01-01T03:05:32\",\"1970-01-01T03:38:52\",\"1970-01-01T03:38:52\",\"1970-01-01T03:38:52\",\"1970-01-01T06:50:32\",\"1970-01-01T06:50:32\",\"1970-01-01T07:23:52\",\"1970-01-01T07:23:52\",\"1970-01-01T07:23:52\",\"1970-01-01T10:27:12\",\"1970-01-01T10:27:12\",\"1970-01-01T11:00:32\",\"1970-01-01T11:00:32\",\"1970-01-01T11:00:32\",\"1970-01-01T14:12:12\",\"1970-01-01T14:12:12\",\"1970-01-01T14:45:32\",\"1970-01-01T14:45:32\",\"1970-01-01T14:45:32\",\"1970-01-01T03:05:32\",\"1970-01-01T03:05:32\",\"1970-01-01T03:38:52\",\"1970-01-01T03:38:52\",\"1970-01-01T03:38:52\",\"1970-01-01T06:50:32\",\"1970-01-01T06:50:32\",\"1970-01-01T07:23:52\",\"1970-01-01T07:23:52\",\"1970-01-01T07:23:52\",\"1970-01-01T10:27:12\",\"1970-01-01T10:27:12\",\"1970-01-01T11:00:32\",\"1970-01-01T11:00:32\",\"1970-01-01T11:00:32\",\"1970-01-01T14:12:12\",\"1970-01-01T14:12:12\",\"1970-01-01T14:45:32\",\"1970-01-01T14:45:32\",\"1970-01-01T14:45:32\",\"1970-01-01T03:05:32\",\"1970-01-01T03:05:32\",\"1970-01-01T03:38:52\",\"1970-01-01T03:38:52\",\"1970-01-01T03:38:52\",\"1970-01-01T06:50:32\",\"1970-01-01T06:50:32\",\"1970-01-01T07:23:52\",\"1970-01-01T07:23:52\",\"1970-01-01T07:23:52\",\"1970-01-01T10:27:12\",\"1970-01-01T10:27:12\",\"1970-01-01T11:00:32\",\"1970-01-01T11:00:32\",\"1970-01-01T11:00:32\",\"1970-01-01T14:12:12\",\"1970-01-01T14:12:12\",\"1970-01-01T14:45:32\",\"1970-01-01T14:45:32\",\"1970-01-01T14:45:32\"],\"y\":[\"Carrier A\",\"Carrier A\",\"Carrier A\",\"Carrier A\",null,\"Carrier A\",\"Carrier A\",\"Carrier A\",\"Carrier A\",null,\"Carrier A\",\"Carrier A\",\"Carrier A\",\"Carrier A\",null,\"Carrier A\",\"Carrier A\",\"Carrier A\",\"Carrier A\",null,\"Cutter T\",\"Cutter T\",\"Cutter T\",\"Cutter T\",null,\"Cutter T\",\"Cutter T\",\"Cutter T\",\"Cutter T\",null,\"Cutter T\",\"Cutter T\",\"Cutter T\",\"Cutter T\",null,\"Cutter T\",\"Cutter T\",\"Cutter T\",\"Cutter T\",null,\"Trench\",\"Trench\",\"Trench\",\"Trench\",null,\"Trench\",\"Trench\",\"Trench\",\"Trench\",null,\"Trench\",\"Trench\",\"Trench\",\"Trench\",null,\"Trench\",\"Trench\",\"Trench\",\"Trench\",null],\"type\":\"scatter\"},{\"connectgaps\":false,\"hoverinfo\":\"y+name\",\"line\":{\"color\":\"rgb(252,143,240)\",\"width\":10},\"mode\":\"lines\",\"name\":\"loading:Carrier B\",\"x\":[\"1970-01-01T01:17:12\",\"1970-01-01T01:17:12\",\"1970-01-01T01:50:32\",\"1970-01-01T01:50:32\",\"1970-01-01T01:50:32\",\"1970-01-01T04:20:32\",\"1970-01-01T04:20:32\",\"1970-01-01T04:53:52\",\"1970-01-01T04:53:52\",\"1970-01-01T04:53:52\",\"1970-01-01T07:23:52\",\"1970-01-01T07:23:52\",\"1970-01-01T07:57:12\",\"1970-01-01T07:57:12\",\"1970-01-01T07:57:12\",\"1970-01-01T09:53:52\",\"1970-01-01T09:53:52\",\"1970-01-01T10:27:12\",\"1970-01-01T10:27:12\",\"1970-01-01T10:27:12\",\"1970-01-01T12:57:12\",\"1970-01-01T12:57:12\",\"1970-01-01T13:30:32\",\"1970-01-01T13:30:32\",\"1970-01-01T13:30:32\",\"1970-01-01T01:17:12\",\"1970-01-01T01:17:12\",\"1970-01-01T01:50:32\",\"1970-01-01T01:50:32\",\"1970-01-01T01:50:32\",\"1970-01-01T04:20:32\",\"1970-01-01T04:20:32\",\"1970-01-01T04:53:52\",\"1970-01-01T04:53:52\",\"1970-01-01T04:53:52\",\"1970-01-01T07:23:52\",\"1970-01-01T07:23:52\",\"1970-01-01T07:57:12\",\"1970-01-01T07:57:12\",\"1970-01-01T07:57:12\",\"1970-01-01T09:53:52\",\"1970-01-01T09:53:52\",\"1970-01-01T10:27:12\",\"1970-01-01T10:27:12\",\"1970-01-01T10:27:12\",\"1970-01-01T12:57:12\",\"1970-01-01T12:57:12\",\"1970-01-01T13:30:32\",\"1970-01-01T13:30:32\",\"1970-01-01T13:30:32\",\"1970-01-01T01:17:12\",\"1970-01-01T01:17:12\",\"1970-01-01T01:50:32\",\"1970-01-01T01:50:32\",\"1970-01-01T01:50:32\",\"1970-01-01T04:20:32\",\"1970-01-01T04:20:32\",\"1970-01-01T04:53:52\",\"1970-01-01T04:53:52\",\"1970-01-01T04:53:52\",\"1970-01-01T07:23:52\",\"1970-01-01T07:23:52\",\"1970-01-01T07:57:12\",\"1970-01-01T07:57:12\",\"1970-01-01T07:57:12\",\"1970-01-01T09:53:52\",\"1970-01-01T09:53:52\",\"1970-01-01T10:27:12\",\"1970-01-01T10:27:12\",\"1970-01-01T10:27:12\",\"1970-01-01T12:57:12\",\"1970-01-01T12:57:12\",\"1970-01-01T13:30:32\",\"1970-01-01T13:30:32\",\"1970-01-01T13:30:32\"],\"y\":[\"Carrier B\",\"Carrier B\",\"Carrier B\",\"Carrier B\",null,\"Carrier B\",\"Carrier B\",\"Carrier B\",\"Carrier B\",null,\"Carrier B\",\"Carrier B\",\"Carrier B\",\"Carrier B\",null,\"Carrier B\",\"Carrier B\",\"Carrier B\",\"Carrier B\",null,\"Carrier B\",\"Carrier B\",\"Carrier B\",\"Carrier B\",null,\"Cutter T\",\"Cutter T\",\"Cutter T\",\"Cutter T\",null,\"Cutter T\",\"Cutter T\",\"Cutter T\",\"Cutter T\",null,\"Cutter T\",\"Cutter T\",\"Cutter T\",\"Cutter T\",null,\"Cutter T\",\"Cutter T\",\"Cutter T\",\"Cutter T\",null,\"Cutter T\",\"Cutter T\",\"Cutter T\",\"Cutter T\",null,\"Trench\",\"Trench\",\"Trench\",\"Trench\",null,\"Trench\",\"Trench\",\"Trench\",\"Trench\",null,\"Trench\",\"Trench\",\"Trench\",\"Trench\",null,\"Trench\",\"Trench\",\"Trench\",\"Trench\",null,\"Trench\",\"Trench\",\"Trench\",\"Trench\",null],\"type\":\"scatter\"},{\"connectgaps\":false,\"hoverinfo\":\"y+name\",\"line\":{\"color\":\"rgb(3,150,247)\",\"width\":10},\"mode\":\"lines\",\"name\":\"loading:Barge I\",\"x\":[\"1970-01-01T02:32:12\",\"1970-01-01T02:32:12\",\"1970-01-01T03:05:32\",\"1970-01-01T03:05:32\",\"1970-01-01T03:05:32\",\"1970-01-01T05:35:32\",\"1970-01-01T05:35:32\",\"1970-01-01T06:08:52\",\"1970-01-01T06:08:52\",\"1970-01-01T06:08:52\",\"1970-01-01T08:38:52\",\"1970-01-01T08:38:52\",\"1970-01-01T09:12:12\",\"1970-01-01T09:12:12\",\"1970-01-01T09:12:12\",\"1970-01-01T11:42:12\",\"1970-01-01T11:42:12\",\"1970-01-01T12:15:32\",\"1970-01-01T12:15:32\",\"1970-01-01T12:15:32\",\"1970-01-01T02:32:12\",\"1970-01-01T02:32:12\",\"1970-01-01T03:05:32\",\"1970-01-01T03:05:32\",\"1970-01-01T03:05:32\",\"1970-01-01T05:35:32\",\"1970-01-01T05:35:32\",\"1970-01-01T06:08:52\",\"1970-01-01T06:08:52\",\"1970-01-01T06:08:52\",\"1970-01-01T08:38:52\",\"1970-01-01T08:38:52\",\"1970-01-01T09:12:12\",\"1970-01-01T09:12:12\",\"1970-01-01T09:12:12\",\"1970-01-01T11:42:12\",\"1970-01-01T11:42:12\",\"1970-01-01T12:15:32\",\"1970-01-01T12:15:32\",\"1970-01-01T12:15:32\",\"1970-01-01T02:32:12\",\"1970-01-01T02:32:12\",\"1970-01-01T03:05:32\",\"1970-01-01T03:05:32\",\"1970-01-01T03:05:32\",\"1970-01-01T05:35:32\",\"1970-01-01T05:35:32\",\"1970-01-01T06:08:52\",\"1970-01-01T06:08:52\",\"1970-01-01T06:08:52\",\"1970-01-01T08:38:52\",\"1970-01-01T08:38:52\",\"1970-01-01T09:12:12\",\"1970-01-01T09:12:12\",\"1970-01-01T09:12:12\",\"1970-01-01T11:42:12\",\"1970-01-01T11:42:12\",\"1970-01-01T12:15:32\",\"1970-01-01T12:15:32\",\"1970-01-01T12:15:32\"],\"y\":[\"Barge I\",\"Barge I\",\"Barge I\",\"Barge I\",null,\"Barge I\",\"Barge I\",\"Barge I\",\"Barge I\",null,\"Barge I\",\"Barge I\",\"Barge I\",\"Barge I\",null,\"Barge I\",\"Barge I\",\"Barge I\",\"Barge I\",null,\"Cutter T\",\"Cutter T\",\"Cutter T\",\"Cutter T\",null,\"Cutter T\",\"Cutter T\",\"Cutter T\",\"Cutter T\",null,\"Cutter T\",\"Cutter T\",\"Cutter T\",\"Cutter T\",null,\"Cutter T\",\"Cutter T\",\"Cutter T\",\"Cutter T\",null,\"Trench\",\"Trench\",\"Trench\",\"Trench\",null,\"Trench\",\"Trench\",\"Trench\",\"Trench\",null,\"Trench\",\"Trench\",\"Trench\",\"Trench\",null,\"Trench\",\"Trench\",\"Trench\",\"Trench\",null],\"type\":\"scatter\"},{\"connectgaps\":false,\"hoverinfo\":\"y+name\",\"line\":{\"color\":\"rgb(10,157,254)\",\"width\":10},\"mode\":\"lines\",\"name\":\"loading:Carrier C\",\"x\":[\"1970-01-01T00:35:32\",\"1970-01-01T00:35:32\",\"1970-01-01T01:17:12\",\"1970-01-01T01:17:12\",\"1970-01-01T01:17:12\",\"1970-01-01T03:38:52\",\"1970-01-01T03:38:52\",\"1970-01-01T04:20:32\",\"1970-01-01T04:20:32\",\"1970-01-01T04:20:32\",\"1970-01-01T06:08:52\",\"1970-01-01T06:08:52\",\"1970-01-01T06:50:32\",\"1970-01-01T06:50:32\",\"1970-01-01T06:50:32\",\"1970-01-01T09:12:12\",\"1970-01-01T09:12:12\",\"1970-01-01T09:53:52\",\"1970-01-01T09:53:52\",\"1970-01-01T09:53:52\",\"1970-01-01T12:15:32\",\"1970-01-01T12:15:32\",\"1970-01-01T12:57:12\",\"1970-01-01T12:57:12\",\"1970-01-01T12:57:12\",\"1970-01-01T00:35:32\",\"1970-01-01T00:35:32\",\"1970-01-01T01:17:12\",\"1970-01-01T01:17:12\",\"1970-01-01T01:17:12\",\"1970-01-01T03:38:52\",\"1970-01-01T03:38:52\",\"1970-01-01T04:20:32\",\"1970-01-01T04:20:32\",\"1970-01-01T04:20:32\",\"1970-01-01T06:08:52\",\"1970-01-01T06:08:52\",\"1970-01-01T06:50:32\",\"1970-01-01T06:50:32\",\"1970-01-01T06:50:32\",\"1970-01-01T09:12:12\",\"1970-01-01T09:12:12\",\"1970-01-01T09:53:52\",\"1970-01-01T09:53:52\",\"1970-01-01T09:53:52\",\"1970-01-01T12:15:32\",\"1970-01-01T12:15:32\",\"1970-01-01T12:57:12\",\"1970-01-01T12:57:12\",\"1970-01-01T12:57:12\",\"1970-01-01T00:35:32\",\"1970-01-01T00:35:32\",\"1970-01-01T01:17:12\",\"1970-01-01T01:17:12\",\"1970-01-01T01:17:12\",\"1970-01-01T03:38:52\",\"1970-01-01T03:38:52\",\"1970-01-01T04:20:32\",\"1970-01-01T04:20:32\",\"1970-01-01T04:20:32\",\"1970-01-01T06:08:52\",\"1970-01-01T06:08:52\",\"1970-01-01T06:50:32\",\"1970-01-01T06:50:32\",\"1970-01-01T06:50:32\",\"1970-01-01T09:12:12\",\"1970-01-01T09:12:12\",\"1970-01-01T09:53:52\",\"1970-01-01T09:53:52\",\"1970-01-01T09:53:52\",\"1970-01-01T12:15:32\",\"1970-01-01T12:15:32\",\"1970-01-01T12:57:12\",\"1970-01-01T12:57:12\",\"1970-01-01T12:57:12\"],\"y\":[\"Carrier C\",\"Carrier C\",\"Carrier C\",\"Carrier C\",null,\"Carrier C\",\"Carrier C\",\"Carrier C\",\"Carrier C\",null,\"Carrier C\",\"Carrier C\",\"Carrier C\",\"Carrier C\",null,\"Carrier C\",\"Carrier C\",\"Carrier C\",\"Carrier C\",null,\"Carrier C\",\"Carrier C\",\"Carrier C\",\"Carrier C\",null,\"Cutter T\",\"Cutter T\",\"Cutter T\",\"Cutter T\",null,\"Cutter T\",\"Cutter T\",\"Cutter T\",\"Cutter T\",null,\"Cutter T\",\"Cutter T\",\"Cutter T\",\"Cutter T\",null,\"Cutter T\",\"Cutter T\",\"Cutter T\",\"Cutter T\",null,\"Cutter T\",\"Cutter T\",\"Cutter T\",\"Cutter T\",null,\"Trench\",\"Trench\",\"Trench\",\"Trench\",null,\"Trench\",\"Trench\",\"Trench\",\"Trench\",null,\"Trench\",\"Trench\",\"Trench\",\"Trench\",null,\"Trench\",\"Trench\",\"Trench\",\"Trench\",null,\"Trench\",\"Trench\",\"Trench\",\"Trench\",null],\"type\":\"scatter\"},{\"connectgaps\":false,\"hoverinfo\":\"y+name\",\"line\":{\"color\":\"rgb(17,164,5)\",\"width\":10},\"mode\":\"lines\",\"name\":\"loading:Barge II\",\"x\":[\"1970-01-01T01:50:32\",\"1970-01-01T01:50:32\",\"1970-01-01T02:32:12\",\"1970-01-01T02:32:12\",\"1970-01-01T02:32:12\",\"1970-01-01T04:53:52\",\"1970-01-01T04:53:52\",\"1970-01-01T05:35:32\",\"1970-01-01T05:35:32\",\"1970-01-01T05:35:32\",\"1970-01-01T07:57:12\",\"1970-01-01T07:57:12\",\"1970-01-01T08:38:52\",\"1970-01-01T08:38:52\",\"1970-01-01T08:38:52\",\"1970-01-01T11:00:32\",\"1970-01-01T11:00:32\",\"1970-01-01T11:42:12\",\"1970-01-01T11:42:12\",\"1970-01-01T11:42:12\",\"1970-01-01T13:30:32\",\"1970-01-01T13:30:32\",\"1970-01-01T14:12:12\",\"1970-01-01T14:12:12\",\"1970-01-01T14:12:12\",\"1970-01-01T01:50:32\",\"1970-01-01T01:50:32\",\"1970-01-01T02:32:12\",\"1970-01-01T02:32:12\",\"1970-01-01T02:32:12\",\"1970-01-01T04:53:52\",\"1970-01-01T04:53:52\",\"1970-01-01T05:35:32\",\"1970-01-01T05:35:32\",\"1970-01-01T05:35:32\",\"1970-01-01T07:57:12\",\"1970-01-01T07:57:12\",\"1970-01-01T08:38:52\",\"1970-01-01T08:38:52\",\"1970-01-01T08:38:52\",\"1970-01-01T11:00:32\",\"1970-01-01T11:00:32\",\"1970-01-01T11:42:12\",\"1970-01-01T11:42:12\",\"1970-01-01T11:42:12\",\"1970-01-01T13:30:32\",\"1970-01-01T13:30:32\",\"1970-01-01T14:12:12\",\"1970-01-01T14:12:12\",\"1970-01-01T14:12:12\",\"1970-01-01T01:50:32\",\"1970-01-01T01:50:32\",\"1970-01-01T02:32:12\",\"1970-01-01T02:32:12\",\"1970-01-01T02:32:12\",\"1970-01-01T04:53:52\",\"1970-01-01T04:53:52\",\"1970-01-01T05:35:32\",\"1970-01-01T05:35:32\",\"1970-01-01T05:35:32\",\"1970-01-01T07:57:12\",\"1970-01-01T07:57:12\",\"1970-01-01T08:38:52\",\"1970-01-01T08:38:52\",\"1970-01-01T08:38:52\",\"1970-01-01T11:00:32\",\"1970-01-01T11:00:32\",\"1970-01-01T11:42:12\",\"1970-01-01T11:42:12\",\"1970-01-01T11:42:12\",\"1970-01-01T13:30:32\",\"1970-01-01T13:30:32\",\"1970-01-01T14:12:12\",\"1970-01-01T14:12:12\",\"1970-01-01T14:12:12\"],\"y\":[\"Barge II\",\"Barge II\",\"Barge II\",\"Barge II\",null,\"Barge II\",\"Barge II\",\"Barge II\",\"Barge II\",null,\"Barge II\",\"Barge II\",\"Barge II\",\"Barge II\",null,\"Barge II\",\"Barge II\",\"Barge II\",\"Barge II\",null,\"Barge II\",\"Barge II\",\"Barge II\",\"Barge II\",null,\"Cutter T\",\"Cutter T\",\"Cutter T\",\"Cutter T\",null,\"Cutter T\",\"Cutter T\",\"Cutter T\",\"Cutter T\",null,\"Cutter T\",\"Cutter T\",\"Cutter T\",\"Cutter T\",null,\"Cutter T\",\"Cutter T\",\"Cutter T\",\"Cutter T\",null,\"Cutter T\",\"Cutter T\",\"Cutter T\",\"Cutter T\",null,\"Trench\",\"Trench\",\"Trench\",\"Trench\",null,\"Trench\",\"Trench\",\"Trench\",\"Trench\",null,\"Trench\",\"Trench\",\"Trench\",\"Trench\",null,\"Trench\",\"Trench\",\"Trench\",\"Trench\",null,\"Trench\",\"Trench\",\"Trench\",\"Trench\",null],\"type\":\"scatter\"},{\"connectgaps\":false,\"hoverinfo\":\"y+name\",\"line\":{\"color\":\"rgb(24,171,12)\",\"width\":10},\"mode\":\"lines\",\"name\":\"loading:Carrier A\",\"x\":[\"1970-01-01T03:05:32\",\"1970-01-01T03:05:32\",\"1970-01-01T03:38:52\",\"1970-01-01T03:38:52\",\"1970-01-01T03:38:52\",\"1970-01-01T06:50:32\",\"1970-01-01T06:50:32\",\"1970-01-01T07:23:52\",\"1970-01-01T07:23:52\",\"1970-01-01T07:23:52\",\"1970-01-01T10:27:12\",\"1970-01-01T10:27:12\",\"1970-01-01T11:00:32\",\"1970-01-01T11:00:32\",\"1970-01-01T11:00:32\",\"1970-01-01T14:12:12\",\"1970-01-01T14:12:12\",\"1970-01-01T14:45:32\",\"1970-01-01T14:45:32\",\"1970-01-01T14:45:32\",\"1970-01-01T03:05:32\",\"1970-01-01T03:05:32\",\"1970-01-01T03:38:52\",\"1970-01-01T03:38:52\",\"1970-01-01T03:38:52\",\"1970-01-01T06:50:32\",\"1970-01-01T06:50:32\",\"1970-01-01T07:23:52\",\"1970-01-01T07:23:52\",\"1970-01-01T07:23:52\",\"1970-01-01T10:27:12\",\"1970-01-01T10:27:12\",\"1970-01-01T11:00:32\",\"1970-01-01T11:00:32\",\"1970-01-01T11:00:32\",\"1970-01-01T14:12:12\",\"1970-01-01T14:12:12\",\"1970-01-01T14:45:32\",\"1970-01-01T14:45:32\",\"1970-01-01T14:45:32\",\"1970-01-01T03:05:32\",\"1970-01-01T03:05:32\",\"1970-01-01T03:38:52\",\"1970-01-01T03:38:52\",\"1970-01-01T03:38:52\",\"1970-01-01T06:50:32\",\"1970-01-01T06:50:32\",\"1970-01-01T07:23:52\",\"1970-01-01T07:23:52\",\"1970-01-01T07:23:52\",\"1970-01-01T10:27:12\",\"1970-01-01T10:27:12\",\"1970-01-01T11:00:32\",\"1970-01-01T11:00:32\",\"1970-01-01T11:00:32\",\"1970-01-01T14:12:12\",\"1970-01-01T14:12:12\",\"1970-01-01T14:45:32\",\"1970-01-01T14:45:32\",\"1970-01-01T14:45:32\"],\"y\":[\"Carrier A\",\"Carrier A\",\"Carrier A\",\"Carrier A\",null,\"Carrier A\",\"Carrier A\",\"Carrier A\",\"Carrier A\",null,\"Carrier A\",\"Carrier A\",\"Carrier A\",\"Carrier A\",null,\"Carrier A\",\"Carrier A\",\"Carrier A\",\"Carrier A\",null,\"Cutter T\",\"Cutter T\",\"Cutter T\",\"Cutter T\",null,\"Cutter T\",\"Cutter T\",\"Cutter T\",\"Cutter T\",null,\"Cutter T\",\"Cutter T\",\"Cutter T\",\"Cutter T\",null,\"Cutter T\",\"Cutter T\",\"Cutter T\",\"Cutter T\",null,\"Trench\",\"Trench\",\"Trench\",\"Trench\",null,\"Trench\",\"Trench\",\"Trench\",\"Trench\",null,\"Trench\",\"Trench\",\"Trench\",\"Trench\",null,\"Trench\",\"Trench\",\"Trench\",\"Trench\",null],\"type\":\"scatter\"},{\"connectgaps\":false,\"hoverinfo\":\"y+name\",\"line\":{\"color\":\"rgb(31,178,19)\",\"width\":10},\"mode\":\"lines\",\"name\":\"loading:Carrier B\",\"x\":[\"1970-01-01T01:17:12\",\"1970-01-01T01:17:12\",\"1970-01-01T01:50:32\",\"1970-01-01T01:50:32\",\"1970-01-01T01:50:32\",\"1970-01-01T04:20:32\",\"1970-01-01T04:20:32\",\"1970-01-01T04:53:52\",\"1970-01-01T04:53:52\",\"1970-01-01T04:53:52\",\"1970-01-01T07:23:52\",\"1970-01-01T07:23:52\",\"1970-01-01T07:57:12\",\"1970-01-01T07:57:12\",\"1970-01-01T07:57:12\",\"1970-01-01T09:53:52\",\"1970-01-01T09:53:52\",\"1970-01-01T10:27:12\",\"1970-01-01T10:27:12\",\"1970-01-01T10:27:12\",\"1970-01-01T12:57:12\",\"1970-01-01T12:57:12\",\"1970-01-01T13:30:32\",\"1970-01-01T13:30:32\",\"1970-01-01T13:30:32\",\"1970-01-01T01:17:12\",\"1970-01-01T01:17:12\",\"1970-01-01T01:50:32\",\"1970-01-01T01:50:32\",\"1970-01-01T01:50:32\",\"1970-01-01T04:20:32\",\"1970-01-01T04:20:32\",\"1970-01-01T04:53:52\",\"1970-01-01T04:53:52\",\"1970-01-01T04:53:52\",\"1970-01-01T07:23:52\",\"1970-01-01T07:23:52\",\"1970-01-01T07:57:12\",\"1970-01-01T07:57:12\",\"1970-01-01T07:57:12\",\"1970-01-01T09:53:52\",\"1970-01-01T09:53:52\",\"1970-01-01T10:27:12\",\"1970-01-01T10:27:12\",\"1970-01-01T10:27:12\",\"1970-01-01T12:57:12\",\"1970-01-01T12:57:12\",\"1970-01-01T13:30:32\",\"1970-01-01T13:30:32\",\"1970-01-01T13:30:32\",\"1970-01-01T01:17:12\",\"1970-01-01T01:17:12\",\"1970-01-01T01:50:32\",\"1970-01-01T01:50:32\",\"1970-01-01T01:50:32\",\"1970-01-01T04:20:32\",\"1970-01-01T04:20:32\",\"1970-01-01T04:53:52\",\"1970-01-01T04:53:52\",\"1970-01-01T04:53:52\",\"1970-01-01T07:23:52\",\"1970-01-01T07:23:52\",\"1970-01-01T07:57:12\",\"1970-01-01T07:57:12\",\"1970-01-01T07:57:12\",\"1970-01-01T09:53:52\",\"1970-01-01T09:53:52\",\"1970-01-01T10:27:12\",\"1970-01-01T10:27:12\",\"1970-01-01T10:27:12\",\"1970-01-01T12:57:12\",\"1970-01-01T12:57:12\",\"1970-01-01T13:30:32\",\"1970-01-01T13:30:32\",\"1970-01-01T13:30:32\"],\"y\":[\"Carrier B\",\"Carrier B\",\"Carrier B\",\"Carrier B\",null,\"Carrier B\",\"Carrier B\",\"Carrier B\",\"Carrier B\",null,\"Carrier B\",\"Carrier B\",\"Carrier B\",\"Carrier B\",null,\"Carrier B\",\"Carrier B\",\"Carrier B\",\"Carrier B\",null,\"Carrier B\",\"Carrier B\",\"Carrier B\",\"Carrier B\",null,\"Cutter T\",\"Cutter T\",\"Cutter T\",\"Cutter T\",null,\"Cutter T\",\"Cutter T\",\"Cutter T\",\"Cutter T\",null,\"Cutter T\",\"Cutter T\",\"Cutter T\",\"Cutter T\",null,\"Cutter T\",\"Cutter T\",\"Cutter T\",\"Cutter T\",null,\"Cutter T\",\"Cutter T\",\"Cutter T\",\"Cutter T\",null,\"Trench\",\"Trench\",\"Trench\",\"Trench\",null,\"Trench\",\"Trench\",\"Trench\",\"Trench\",null,\"Trench\",\"Trench\",\"Trench\",\"Trench\",null,\"Trench\",\"Trench\",\"Trench\",\"Trench\",null,\"Trench\",\"Trench\",\"Trench\",\"Trench\",null],\"type\":\"scatter\"},{\"connectgaps\":false,\"hoverinfo\":\"y+name\",\"line\":{\"color\":\"rgb(38,185,26)\",\"width\":10},\"mode\":\"lines\",\"name\":\"unloading:Barge I\",\"x\":[\"1970-01-01T03:44:20\",\"1970-01-01T03:44:20\",\"1970-01-01T04:23:08\",\"1970-01-01T04:23:08\",\"1970-01-01T04:23:08\",\"1970-01-01T06:47:40\",\"1970-01-01T06:47:40\",\"1970-01-01T07:26:28\",\"1970-01-01T07:26:28\",\"1970-01-01T07:26:28\",\"1970-01-01T09:51:00\",\"1970-01-01T09:51:00\",\"1970-01-01T10:29:48\",\"1970-01-01T10:29:48\",\"1970-01-01T10:29:48\",\"1970-01-01T12:54:20\",\"1970-01-01T12:54:20\",\"1970-01-01T13:33:08\",\"1970-01-01T13:33:08\",\"1970-01-01T13:33:08\",\"1970-01-01T03:44:20\",\"1970-01-01T03:44:20\",\"1970-01-01T04:23:08\",\"1970-01-01T04:23:08\",\"1970-01-01T04:23:08\",\"1970-01-01T06:47:40\",\"1970-01-01T06:47:40\",\"1970-01-01T07:26:28\",\"1970-01-01T07:26:28\",\"1970-01-01T07:26:28\",\"1970-01-01T09:51:00\",\"1970-01-01T09:51:00\",\"1970-01-01T10:29:48\",\"1970-01-01T10:29:48\",\"1970-01-01T10:29:48\",\"1970-01-01T12:54:20\",\"1970-01-01T12:54:20\",\"1970-01-01T13:33:08\",\"1970-01-01T13:33:08\",\"1970-01-01T13:33:08\"],\"y\":[\"Barge I\",\"Barge I\",\"Barge I\",\"Barge I\",null,\"Barge I\",\"Barge I\",\"Barge I\",\"Barge I\",null,\"Barge I\",\"Barge I\",\"Barge I\",\"Barge I\",null,\"Barge I\",\"Barge I\",\"Barge I\",\"Barge I\",null,\"Reclamation\",\"Reclamation\",\"Reclamation\",\"Reclamation\",null,\"Reclamation\",\"Reclamation\",\"Reclamation\",\"Reclamation\",null,\"Reclamation\",\"Reclamation\",\"Reclamation\",\"Reclamation\",null,\"Reclamation\",\"Reclamation\",\"Reclamation\",\"Reclamation\",null],\"type\":\"scatter\"},{\"connectgaps\":false,\"hoverinfo\":\"y+name\",\"line\":{\"color\":\"rgb(45,192,33)\",\"width\":10},\"mode\":\"lines\",\"name\":\"unloading:Carrier A\",\"x\":[\"1970-01-01T04:28:41\",\"1970-01-01T04:28:41\",\"1970-01-01T05:18:30\",\"1970-01-01T05:18:30\",\"1970-01-01T05:18:30\",\"1970-01-01T08:13:41\",\"1970-01-01T08:13:41\",\"1970-01-01T09:03:30\",\"1970-01-01T09:03:30\",\"1970-01-01T09:03:30\",\"1970-01-01T11:50:21\",\"1970-01-01T11:50:21\",\"1970-01-01T12:40:10\",\"1970-01-01T12:40:10\",\"1970-01-01T12:40:10\",\"1970-01-01T15:35:21\",\"1970-01-01T15:35:21\",\"1970-01-01T16:25:10\",\"1970-01-01T16:25:10\",\"1970-01-01T16:25:10\",\"1970-01-01T04:28:41\",\"1970-01-01T04:28:41\",\"1970-01-01T05:18:30\",\"1970-01-01T05:18:30\",\"1970-01-01T05:18:30\",\"1970-01-01T08:13:41\",\"1970-01-01T08:13:41\",\"1970-01-01T09:03:30\",\"1970-01-01T09:03:30\",\"1970-01-01T09:03:30\",\"1970-01-01T11:50:21\",\"1970-01-01T11:50:21\",\"1970-01-01T12:40:10\",\"1970-01-01T12:40:10\",\"1970-01-01T12:40:10\",\"1970-01-01T15:35:21\",\"1970-01-01T15:35:21\",\"1970-01-01T16:25:10\",\"1970-01-01T16:25:10\",\"1970-01-01T16:25:10\"],\"y\":[\"Carrier A\",\"Carrier A\",\"Carrier A\",\"Carrier A\",null,\"Carrier A\",\"Carrier A\",\"Carrier A\",\"Carrier A\",null,\"Carrier A\",\"Carrier A\",\"Carrier A\",\"Carrier A\",null,\"Carrier A\",\"Carrier A\",\"Carrier A\",\"Carrier A\",null,\"Reclamation\",\"Reclamation\",\"Reclamation\",\"Reclamation\",null,\"Reclamation\",\"Reclamation\",\"Reclamation\",\"Reclamation\",null,\"Reclamation\",\"Reclamation\",\"Reclamation\",\"Reclamation\",null,\"Reclamation\",\"Reclamation\",\"Reclamation\",\"Reclamation\",null],\"type\":\"scatter\"},{\"connectgaps\":false,\"hoverinfo\":\"y+name\",\"line\":{\"color\":\"rgb(52,199,40)\",\"width\":10},\"mode\":\"lines\",\"name\":\"unloading:Barge II\",\"x\":[\"1970-01-01T03:07:47\",\"1970-01-01T03:07:47\",\"1970-01-01T03:43:22\",\"1970-01-01T03:43:22\",\"1970-01-01T03:43:22\",\"1970-01-01T06:11:07\",\"1970-01-01T06:11:07\",\"1970-01-01T06:46:42\",\"1970-01-01T06:46:42\",\"1970-01-01T06:46:42\",\"1970-01-01T09:14:27\",\"1970-01-01T09:14:27\",\"1970-01-01T09:50:02\",\"1970-01-01T09:50:02\",\"1970-01-01T09:50:02\",\"1970-01-01T12:17:47\",\"1970-01-01T12:17:47\",\"1970-01-01T12:53:22\",\"1970-01-01T12:53:22\",\"1970-01-01T12:53:22\",\"1970-01-01T14:47:47\",\"1970-01-01T14:47:47\",\"1970-01-01T15:23:22\",\"1970-01-01T15:23:22\",\"1970-01-01T15:23:22\",\"1970-01-01T03:07:47\",\"1970-01-01T03:07:47\",\"1970-01-01T03:43:22\",\"1970-01-01T03:43:22\",\"1970-01-01T03:43:22\",\"1970-01-01T06:11:07\",\"1970-01-01T06:11:07\",\"1970-01-01T06:46:42\",\"1970-01-01T06:46:42\",\"1970-01-01T06:46:42\",\"1970-01-01T09:14:27\",\"1970-01-01T09:14:27\",\"1970-01-01T09:50:02\",\"1970-01-01T09:50:02\",\"1970-01-01T09:50:02\",\"1970-01-01T12:17:47\",\"1970-01-01T12:17:47\",\"1970-01-01T12:53:22\",\"1970-01-01T12:53:22\",\"1970-01-01T12:53:22\",\"1970-01-01T14:47:47\",\"1970-01-01T14:47:47\",\"1970-01-01T15:23:22\",\"1970-01-01T15:23:22\",\"1970-01-01T15:23:22\"],\"y\":[\"Barge II\",\"Barge II\",\"Barge II\",\"Barge II\",null,\"Barge II\",\"Barge II\",\"Barge II\",\"Barge II\",null,\"Barge II\",\"Barge II\",\"Barge II\",\"Barge II\",null,\"Barge II\",\"Barge II\",\"Barge II\",\"Barge II\",null,\"Barge II\",\"Barge II\",\"Barge II\",\"Barge II\",null,\"Reclamation\",\"Reclamation\",\"Reclamation\",\"Reclamation\",null,\"Reclamation\",\"Reclamation\",\"Reclamation\",\"Reclamation\",null,\"Reclamation\",\"Reclamation\",\"Reclamation\",\"Reclamation\",null,\"Reclamation\",\"Reclamation\",\"Reclamation\",\"Reclamation\",null,\"Reclamation\",\"Reclamation\",\"Reclamation\",\"Reclamation\",null],\"type\":\"scatter\"},{\"connectgaps\":false,\"hoverinfo\":\"y+name\",\"line\":{\"color\":\"rgb(59,206,47)\",\"width\":10},\"mode\":\"lines\",\"name\":\"unloading:Carrier B\",\"x\":[\"1970-01-01T02:26:05\",\"1970-01-01T02:26:05\",\"1970-01-01T03:01:38\",\"1970-01-01T03:01:38\",\"1970-01-01T03:01:38\",\"1970-01-01T05:29:25\",\"1970-01-01T05:29:25\",\"1970-01-01T06:04:58\",\"1970-01-01T06:04:58\",\"1970-01-01T06:04:58\",\"1970-01-01T08:32:45\",\"1970-01-01T08:32:45\",\"1970-01-01T09:08:18\",\"1970-01-01T09:08:18\",\"1970-01-01T09:08:18\",\"1970-01-01T11:02:45\",\"1970-01-01T11:02:45\",\"1970-01-01T11:38:18\",\"1970-01-01T11:38:18\",\"1970-01-01T11:38:18\",\"1970-01-01T14:06:05\",\"1970-01-01T14:06:05\",\"1970-01-01T14:41:38\",\"1970-01-01T14:41:38\",\"1970-01-01T14:41:38\",\"1970-01-01T02:26:05\",\"1970-01-01T02:26:05\",\"1970-01-01T03:01:38\",\"1970-01-01T03:01:38\",\"1970-01-01T03:01:38\",\"1970-01-01T05:29:25\",\"1970-01-01T05:29:25\",\"1970-01-01T06:04:58\",\"1970-01-01T06:04:58\",\"1970-01-01T06:04:58\",\"1970-01-01T08:32:45\",\"1970-01-01T08:32:45\",\"1970-01-01T09:08:18\",\"1970-01-01T09:08:18\",\"1970-01-01T09:08:18\",\"1970-01-01T11:02:45\",\"1970-01-01T11:02:45\",\"1970-01-01T11:38:18\",\"1970-01-01T11:38:18\",\"1970-01-01T11:38:18\",\"1970-01-01T14:06:05\",\"1970-01-01T14:06:05\",\"1970-01-01T14:41:38\",\"1970-01-01T14:41:38\",\"1970-01-01T14:41:38\"],\"y\":[\"Carrier B\",\"Carrier B\",\"Carrier B\",\"Carrier B\",null,\"Carrier B\",\"Carrier B\",\"Carrier B\",\"Carrier B\",null,\"Carrier B\",\"Carrier B\",\"Carrier B\",\"Carrier B\",null,\"Carrier B\",\"Carrier B\",\"Carrier B\",\"Carrier B\",null,\"Carrier B\",\"Carrier B\",\"Carrier B\",\"Carrier B\",null,\"Reclamation\",\"Reclamation\",\"Reclamation\",\"Reclamation\",null,\"Reclamation\",\"Reclamation\",\"Reclamation\",\"Reclamation\",null,\"Reclamation\",\"Reclamation\",\"Reclamation\",\"Reclamation\",null,\"Reclamation\",\"Reclamation\",\"Reclamation\",\"Reclamation\",null,\"Reclamation\",\"Reclamation\",\"Reclamation\",\"Reclamation\",null],\"type\":\"scatter\"},{\"connectgaps\":false,\"hoverinfo\":\"y+name\",\"line\":{\"color\":\"rgb(66,213,54)\",\"width\":10},\"mode\":\"lines\",\"name\":\"unloading:Carrier C\",\"x\":[\"1970-01-01T01:52:44\",\"1970-01-01T01:52:44\",\"1970-01-01T02:28:16\",\"1970-01-01T02:28:16\",\"1970-01-01T02:28:16\",\"1970-01-01T04:56:04\",\"1970-01-01T04:56:04\",\"1970-01-01T05:31:36\",\"1970-01-01T05:31:36\",\"1970-01-01T05:31:36\",\"1970-01-01T07:26:04\",\"1970-01-01T07:26:04\",\"1970-01-01T08:01:36\",\"1970-01-01T08:01:36\",\"1970-01-01T08:01:36\",\"1970-01-01T10:29:24\",\"1970-01-01T10:29:24\",\"1970-01-01T11:04:56\",\"1970-01-01T11:04:56\",\"1970-01-01T11:04:56\",\"1970-01-01T13:32:44\",\"1970-01-01T13:32:44\",\"1970-01-01T14:08:16\",\"1970-01-01T14:08:16\",\"1970-01-01T14:08:16\",\"1970-01-01T01:52:44\",\"1970-01-01T01:52:44\",\"1970-01-01T02:28:16\",\"1970-01-01T02:28:16\",\"1970-01-01T02:28:16\",\"1970-01-01T04:56:04\",\"1970-01-01T04:56:04\",\"1970-01-01T05:31:36\",\"1970-01-01T05:31:36\",\"1970-01-01T05:31:36\",\"1970-01-01T07:26:04\",\"1970-01-01T07:26:04\",\"1970-01-01T08:01:36\",\"1970-01-01T08:01:36\",\"1970-01-01T08:01:36\",\"1970-01-01T10:29:24\",\"1970-01-01T10:29:24\",\"1970-01-01T11:04:56\",\"1970-01-01T11:04:56\",\"1970-01-01T11:04:56\",\"1970-01-01T13:32:44\",\"1970-01-01T13:32:44\",\"1970-01-01T14:08:16\",\"1970-01-01T14:08:16\",\"1970-01-01T14:08:16\"],\"y\":[\"Carrier C\",\"Carrier C\",\"Carrier C\",\"Carrier C\",null,\"Carrier C\",\"Carrier C\",\"Carrier C\",\"Carrier C\",null,\"Carrier C\",\"Carrier C\",\"Carrier C\",\"Carrier C\",null,\"Carrier C\",\"Carrier C\",\"Carrier C\",\"Carrier C\",null,\"Carrier C\",\"Carrier C\",\"Carrier C\",\"Carrier C\",null,\"Reclamation\",\"Reclamation\",\"Reclamation\",\"Reclamation\",null,\"Reclamation\",\"Reclamation\",\"Reclamation\",\"Reclamation\",null,\"Reclamation\",\"Reclamation\",\"Reclamation\",\"Reclamation\",null,\"Reclamation\",\"Reclamation\",\"Reclamation\",\"Reclamation\",null,\"Reclamation\",\"Reclamation\",\"Reclamation\",\"Reclamation\",null],\"type\":\"scatter\"}],                        {\"hovermode\":\"closest\",\"legend\":{\"orientation\":\"h\",\"x\":0,\"y\":-0.2},\"showlegend\":false,\"template\":{\"data\":{\"barpolar\":[{\"marker\":{\"line\":{\"color\":\"#E5ECF6\",\"width\":0.5},\"pattern\":{\"fillmode\":\"overlay\",\"size\":10,\"solidity\":0.2}},\"type\":\"barpolar\"}],\"bar\":[{\"error_x\":{\"color\":\"#2a3f5f\"},\"error_y\":{\"color\":\"#2a3f5f\"},\"marker\":{\"line\":{\"color\":\"#E5ECF6\",\"width\":0.5},\"pattern\":{\"fillmode\":\"overlay\",\"size\":10,\"solidity\":0.2}},\"type\":\"bar\"}],\"carpet\":[{\"aaxis\":{\"endlinecolor\":\"#2a3f5f\",\"gridcolor\":\"white\",\"linecolor\":\"white\",\"minorgridcolor\":\"white\",\"startlinecolor\":\"#2a3f5f\"},\"baxis\":{\"endlinecolor\":\"#2a3f5f\",\"gridcolor\":\"white\",\"linecolor\":\"white\",\"minorgridcolor\":\"white\",\"startlinecolor\":\"#2a3f5f\"},\"type\":\"carpet\"}],\"choropleth\":[{\"colorbar\":{\"outlinewidth\":0,\"ticks\":\"\"},\"type\":\"choropleth\"}],\"contourcarpet\":[{\"colorbar\":{\"outlinewidth\":0,\"ticks\":\"\"},\"type\":\"contourcarpet\"}],\"contour\":[{\"colorbar\":{\"outlinewidth\":0,\"ticks\":\"\"},\"colorscale\":[[0.0,\"#0d0887\"],[0.1111111111111111,\"#46039f\"],[0.2222222222222222,\"#7201a8\"],[0.3333333333333333,\"#9c179e\"],[0.4444444444444444,\"#bd3786\"],[0.5555555555555556,\"#d8576b\"],[0.6666666666666666,\"#ed7953\"],[0.7777777777777778,\"#fb9f3a\"],[0.8888888888888888,\"#fdca26\"],[1.0,\"#f0f921\"]],\"type\":\"contour\"}],\"heatmapgl\":[{\"colorbar\":{\"outlinewidth\":0,\"ticks\":\"\"},\"colorscale\":[[0.0,\"#0d0887\"],[0.1111111111111111,\"#46039f\"],[0.2222222222222222,\"#7201a8\"],[0.3333333333333333,\"#9c179e\"],[0.4444444444444444,\"#bd3786\"],[0.5555555555555556,\"#d8576b\"],[0.6666666666666666,\"#ed7953\"],[0.7777777777777778,\"#fb9f3a\"],[0.8888888888888888,\"#fdca26\"],[1.0,\"#f0f921\"]],\"type\":\"heatmapgl\"}],\"heatmap\":[{\"colorbar\":{\"outlinewidth\":0,\"ticks\":\"\"},\"colorscale\":[[0.0,\"#0d0887\"],[0.1111111111111111,\"#46039f\"],[0.2222222222222222,\"#7201a8\"],[0.3333333333333333,\"#9c179e\"],[0.4444444444444444,\"#bd3786\"],[0.5555555555555556,\"#d8576b\"],[0.6666666666666666,\"#ed7953\"],[0.7777777777777778,\"#fb9f3a\"],[0.8888888888888888,\"#fdca26\"],[1.0,\"#f0f921\"]],\"type\":\"heatmap\"}],\"histogram2dcontour\":[{\"colorbar\":{\"outlinewidth\":0,\"ticks\":\"\"},\"colorscale\":[[0.0,\"#0d0887\"],[0.1111111111111111,\"#46039f\"],[0.2222222222222222,\"#7201a8\"],[0.3333333333333333,\"#9c179e\"],[0.4444444444444444,\"#bd3786\"],[0.5555555555555556,\"#d8576b\"],[0.6666666666666666,\"#ed7953\"],[0.7777777777777778,\"#fb9f3a\"],[0.8888888888888888,\"#fdca26\"],[1.0,\"#f0f921\"]],\"type\":\"histogram2dcontour\"}],\"histogram2d\":[{\"colorbar\":{\"outlinewidth\":0,\"ticks\":\"\"},\"colorscale\":[[0.0,\"#0d0887\"],[0.1111111111111111,\"#46039f\"],[0.2222222222222222,\"#7201a8\"],[0.3333333333333333,\"#9c179e\"],[0.4444444444444444,\"#bd3786\"],[0.5555555555555556,\"#d8576b\"],[0.6666666666666666,\"#ed7953\"],[0.7777777777777778,\"#fb9f3a\"],[0.8888888888888888,\"#fdca26\"],[1.0,\"#f0f921\"]],\"type\":\"histogram2d\"}],\"histogram\":[{\"marker\":{\"pattern\":{\"fillmode\":\"overlay\",\"size\":10,\"solidity\":0.2}},\"type\":\"histogram\"}],\"mesh3d\":[{\"colorbar\":{\"outlinewidth\":0,\"ticks\":\"\"},\"type\":\"mesh3d\"}],\"parcoords\":[{\"line\":{\"colorbar\":{\"outlinewidth\":0,\"ticks\":\"\"}},\"type\":\"parcoords\"}],\"pie\":[{\"automargin\":true,\"type\":\"pie\"}],\"scatter3d\":[{\"line\":{\"colorbar\":{\"outlinewidth\":0,\"ticks\":\"\"}},\"marker\":{\"colorbar\":{\"outlinewidth\":0,\"ticks\":\"\"}},\"type\":\"scatter3d\"}],\"scattercarpet\":[{\"marker\":{\"colorbar\":{\"outlinewidth\":0,\"ticks\":\"\"}},\"type\":\"scattercarpet\"}],\"scattergeo\":[{\"marker\":{\"colorbar\":{\"outlinewidth\":0,\"ticks\":\"\"}},\"type\":\"scattergeo\"}],\"scattergl\":[{\"marker\":{\"colorbar\":{\"outlinewidth\":0,\"ticks\":\"\"}},\"type\":\"scattergl\"}],\"scattermapbox\":[{\"marker\":{\"colorbar\":{\"outlinewidth\":0,\"ticks\":\"\"}},\"type\":\"scattermapbox\"}],\"scatterpolargl\":[{\"marker\":{\"colorbar\":{\"outlinewidth\":0,\"ticks\":\"\"}},\"type\":\"scatterpolargl\"}],\"scatterpolar\":[{\"marker\":{\"colorbar\":{\"outlinewidth\":0,\"ticks\":\"\"}},\"type\":\"scatterpolar\"}],\"scatter\":[{\"fillpattern\":{\"fillmode\":\"overlay\",\"size\":10,\"solidity\":0.2},\"type\":\"scatter\"}],\"scatterternary\":[{\"marker\":{\"colorbar\":{\"outlinewidth\":0,\"ticks\":\"\"}},\"type\":\"scatterternary\"}],\"surface\":[{\"colorbar\":{\"outlinewidth\":0,\"ticks\":\"\"},\"colorscale\":[[0.0,\"#0d0887\"],[0.1111111111111111,\"#46039f\"],[0.2222222222222222,\"#7201a8\"],[0.3333333333333333,\"#9c179e\"],[0.4444444444444444,\"#bd3786\"],[0.5555555555555556,\"#d8576b\"],[0.6666666666666666,\"#ed7953\"],[0.7777777777777778,\"#fb9f3a\"],[0.8888888888888888,\"#fdca26\"],[1.0,\"#f0f921\"]],\"type\":\"surface\"}],\"table\":[{\"cells\":{\"fill\":{\"color\":\"#EBF0F8\"},\"line\":{\"color\":\"white\"}},\"header\":{\"fill\":{\"color\":\"#C8D4E3\"},\"line\":{\"color\":\"white\"}},\"type\":\"table\"}]},\"layout\":{\"annotationdefaults\":{\"arrowcolor\":\"#2a3f5f\",\"arrowhead\":0,\"arrowwidth\":1},\"autotypenumbers\":\"strict\",\"coloraxis\":{\"colorbar\":{\"outlinewidth\":0,\"ticks\":\"\"}},\"colorscale\":{\"diverging\":[[0,\"#8e0152\"],[0.1,\"#c51b7d\"],[0.2,\"#de77ae\"],[0.3,\"#f1b6da\"],[0.4,\"#fde0ef\"],[0.5,\"#f7f7f7\"],[0.6,\"#e6f5d0\"],[0.7,\"#b8e186\"],[0.8,\"#7fbc41\"],[0.9,\"#4d9221\"],[1,\"#276419\"]],\"sequential\":[[0.0,\"#0d0887\"],[0.1111111111111111,\"#46039f\"],[0.2222222222222222,\"#7201a8\"],[0.3333333333333333,\"#9c179e\"],[0.4444444444444444,\"#bd3786\"],[0.5555555555555556,\"#d8576b\"],[0.6666666666666666,\"#ed7953\"],[0.7777777777777778,\"#fb9f3a\"],[0.8888888888888888,\"#fdca26\"],[1.0,\"#f0f921\"]],\"sequentialminus\":[[0.0,\"#0d0887\"],[0.1111111111111111,\"#46039f\"],[0.2222222222222222,\"#7201a8\"],[0.3333333333333333,\"#9c179e\"],[0.4444444444444444,\"#bd3786\"],[0.5555555555555556,\"#d8576b\"],[0.6666666666666666,\"#ed7953\"],[0.7777777777777778,\"#fb9f3a\"],[0.8888888888888888,\"#fdca26\"],[1.0,\"#f0f921\"]]},\"colorway\":[\"#636efa\",\"#EF553B\",\"#00cc96\",\"#ab63fa\",\"#FFA15A\",\"#19d3f3\",\"#FF6692\",\"#B6E880\",\"#FF97FF\",\"#FECB52\"],\"font\":{\"color\":\"#2a3f5f\"},\"geo\":{\"bgcolor\":\"white\",\"lakecolor\":\"white\",\"landcolor\":\"#E5ECF6\",\"showlakes\":true,\"showland\":true,\"subunitcolor\":\"white\"},\"hoverlabel\":{\"align\":\"left\"},\"hovermode\":\"closest\",\"mapbox\":{\"style\":\"light\"},\"paper_bgcolor\":\"white\",\"plot_bgcolor\":\"#E5ECF6\",\"polar\":{\"angularaxis\":{\"gridcolor\":\"white\",\"linecolor\":\"white\",\"ticks\":\"\"},\"bgcolor\":\"#E5ECF6\",\"radialaxis\":{\"gridcolor\":\"white\",\"linecolor\":\"white\",\"ticks\":\"\"}},\"scene\":{\"xaxis\":{\"backgroundcolor\":\"#E5ECF6\",\"gridcolor\":\"white\",\"gridwidth\":2,\"linecolor\":\"white\",\"showbackground\":true,\"ticks\":\"\",\"zerolinecolor\":\"white\"},\"yaxis\":{\"backgroundcolor\":\"#E5ECF6\",\"gridcolor\":\"white\",\"gridwidth\":2,\"linecolor\":\"white\",\"showbackground\":true,\"ticks\":\"\",\"zerolinecolor\":\"white\"},\"zaxis\":{\"backgroundcolor\":\"#E5ECF6\",\"gridcolor\":\"white\",\"gridwidth\":2,\"linecolor\":\"white\",\"showbackground\":true,\"ticks\":\"\",\"zerolinecolor\":\"white\"}},\"shapedefaults\":{\"line\":{\"color\":\"#2a3f5f\"}},\"ternary\":{\"aaxis\":{\"gridcolor\":\"white\",\"linecolor\":\"white\",\"ticks\":\"\"},\"baxis\":{\"gridcolor\":\"white\",\"linecolor\":\"white\",\"ticks\":\"\"},\"bgcolor\":\"#E5ECF6\",\"caxis\":{\"gridcolor\":\"white\",\"linecolor\":\"white\",\"ticks\":\"\"}},\"title\":{\"x\":0.05},\"xaxis\":{\"automargin\":true,\"gridcolor\":\"white\",\"linecolor\":\"white\",\"ticks\":\"\",\"title\":{\"standoff\":15},\"zerolinecolor\":\"white\",\"zerolinewidth\":2},\"yaxis\":{\"automargin\":true,\"gridcolor\":\"white\",\"linecolor\":\"white\",\"ticks\":\"\",\"title\":{\"standoff\":15},\"zerolinecolor\":\"white\",\"zerolinewidth\":2}}},\"title\":{\"text\":\"Cutter T occupancy: 100.0duration actual: 51000.0\"},\"xaxis\":{\"range\":[\"1970-01-01T00:00:00\",\"1970-01-01T16:25:10\"],\"title\":{\"font\":{\"color\":\"#7f7f7f\",\"family\":\"Courier New, monospace\",\"size\":18},\"text\":\"Time\"}},\"yaxis\":{\"title\":{\"font\":{\"color\":\"#7f7f7f\",\"family\":\"Courier New, monospace\",\"size\":18},\"text\":\"vesels\"}}},                        {\"responsive\": true}                    ).then(function(){\n",
       "                            \n",
       "var gd = document.getElementById('df2e6e3a-602e-453e-9a02-6b78d690658f');\n",
       "var x = new MutationObserver(function (mutations, observer) {{\n",
       "        var display = window.getComputedStyle(gd).display;\n",
       "        if (!display || display === 'none') {{\n",
       "            console.log([gd, 'removed!']);\n",
       "            Plotly.purge(gd);\n",
       "            observer.disconnect();\n",
       "        }}\n",
       "}});\n",
       "\n",
       "// Listen for the removal of the full notebook cells\n",
       "var notebookContainer = gd.closest('#notebook-container');\n",
       "if (notebookContainer) {{\n",
       "    x.observe(notebookContainer, {childList: true});\n",
       "}}\n",
       "\n",
       "// Listen for the clearing of the current output cell\n",
       "var outputEl = gd.closest('.output');\n",
       "if (outputEl) {{\n",
       "    x.observe(outputEl, {childList: true});\n",
       "}}\n",
       "\n",
       "                        })                };                });            </script>        </div>"
      ]
     },
     "metadata": {},
     "output_type": "display_data"
    }
   ],
   "source": [
    "i = scenario_index\n",
    "vessels = results[i]['vessels']\n",
    "activities = results[i]['activities']\n",
    "sites = results[i]['sites']\n",
    "  \n",
    "my_objects = list(vessels.values()) + list(sites.values())\n",
    "my_activities = list(activities.values())\n",
    "my_log = CpLog(list_objects=my_objects, list_activities=my_activities)\n",
    "dependencies = my_log.get_dependencies_model_based()\n",
    "# dependencies = my_log.get_dependencies_log_based()\n",
    "cp = my_log.mark_critical_activities(dependencies)\n",
    "occupancy = occupancy_analysis(vessels, cutter_name, total_amount, vessel_cost)\n",
    "\n",
    "t = f'{cutter_name} occupancy: ' + str(occupancy.loc[cutter_name]['occupancy [%]']) + f'duration actual: ' +\\\n",
    "     str(occupancy.loc[cutter_name]['duration actual'])\n",
    "fig = get_gantt_chart(concepts=my_objects, critical_path=cp, id_map=activities, title=t, legend=False, ylabel='vesels')"
   ]
  },
  {
   "cell_type": "code",
   "execution_count": 18,
   "id": "e274588c",
   "metadata": {},
   "outputs": [
    {
     "data": {
      "text/html": [
       "<div>\n",
       "<style scoped>\n",
       "    .dataframe tbody tr th:only-of-type {\n",
       "        vertical-align: middle;\n",
       "    }\n",
       "\n",
       "    .dataframe tbody tr th {\n",
       "        vertical-align: top;\n",
       "    }\n",
       "\n",
       "    .dataframe thead th {\n",
       "        text-align: right;\n",
       "    }\n",
       "</style>\n",
       "<table border=\"1\" class=\"dataframe\">\n",
       "  <thead>\n",
       "    <tr style=\"text-align: right;\">\n",
       "      <th></th>\n",
       "      <th># trips</th>\n",
       "      <th>start</th>\n",
       "      <th>finish</th>\n",
       "      <th>amount sum</th>\n",
       "      <th>duration actual</th>\n",
       "      <th>duration theory</th>\n",
       "      <th>cost actual</th>\n",
       "      <th>production actual</th>\n",
       "      <th>production theory</th>\n",
       "      <th>occupancy [%]</th>\n",
       "    </tr>\n",
       "    <tr>\n",
       "      <th>name</th>\n",
       "      <th></th>\n",
       "      <th></th>\n",
       "      <th></th>\n",
       "      <th></th>\n",
       "      <th></th>\n",
       "      <th></th>\n",
       "      <th></th>\n",
       "      <th></th>\n",
       "      <th></th>\n",
       "      <th></th>\n",
       "    </tr>\n",
       "  </thead>\n",
       "  <tbody>\n",
       "    <tr>\n",
       "      <th>Cutter T</th>\n",
       "      <td>5</td>\n",
       "      <td>1970-01-01 00:35:32</td>\n",
       "      <td>1970-01-01 14:45:32</td>\n",
       "      <td>100.0</td>\n",
       "      <td>51000.0</td>\n",
       "      <td>51000.0</td>\n",
       "      <td>14757.0</td>\n",
       "      <td>0.009804</td>\n",
       "      <td>0.009804</td>\n",
       "      <td>100.0</td>\n",
       "    </tr>\n",
       "    <tr>\n",
       "      <th>Carrier C</th>\n",
       "      <td>5</td>\n",
       "      <td>1970-01-01 00:00:00</td>\n",
       "      <td>1970-01-01 14:08:16</td>\n",
       "      <td>25.0</td>\n",
       "      <td>50896.0</td>\n",
       "      <td>44480.0</td>\n",
       "      <td>3534.0</td>\n",
       "      <td>0.002456</td>\n",
       "      <td>0.002810</td>\n",
       "      <td>87.4</td>\n",
       "    </tr>\n",
       "    <tr>\n",
       "      <th>Barge II</th>\n",
       "      <td>5</td>\n",
       "      <td>1970-01-01 00:00:00</td>\n",
       "      <td>1970-01-01 15:23:22</td>\n",
       "      <td>25.0</td>\n",
       "      <td>55402.0</td>\n",
       "      <td>44525.0</td>\n",
       "      <td>3206.0</td>\n",
       "      <td>0.002256</td>\n",
       "      <td>0.002807</td>\n",
       "      <td>80.4</td>\n",
       "    </tr>\n",
       "    <tr>\n",
       "      <th>Carrier B</th>\n",
       "      <td>5</td>\n",
       "      <td>1970-01-01 00:00:00</td>\n",
       "      <td>1970-01-01 14:41:38</td>\n",
       "      <td>20.0</td>\n",
       "      <td>52898.0</td>\n",
       "      <td>41995.0</td>\n",
       "      <td>3673.0</td>\n",
       "      <td>0.001890</td>\n",
       "      <td>0.002381</td>\n",
       "      <td>79.4</td>\n",
       "    </tr>\n",
       "    <tr>\n",
       "      <th>Barge I</th>\n",
       "      <td>4</td>\n",
       "      <td>1970-01-01 00:00:00</td>\n",
       "      <td>1970-01-01 13:33:08</td>\n",
       "      <td>16.0</td>\n",
       "      <td>48788.0</td>\n",
       "      <td>35936.0</td>\n",
       "      <td>2823.0</td>\n",
       "      <td>0.001312</td>\n",
       "      <td>0.001781</td>\n",
       "      <td>73.7</td>\n",
       "    </tr>\n",
       "    <tr>\n",
       "      <th>Carrier A</th>\n",
       "      <td>4</td>\n",
       "      <td>1970-01-01 00:00:00</td>\n",
       "      <td>1970-01-01 16:25:10</td>\n",
       "      <td>14.0</td>\n",
       "      <td>59110.0</td>\n",
       "      <td>43868.0</td>\n",
       "      <td>4105.0</td>\n",
       "      <td>0.000947</td>\n",
       "      <td>0.001277</td>\n",
       "      <td>74.2</td>\n",
       "    </tr>\n",
       "  </tbody>\n",
       "</table>\n",
       "</div>"
      ],
      "text/plain": [
       "           # trips               start              finish  amount sum  \\\n",
       "name                                                                     \n",
       "Cutter T         5 1970-01-01 00:35:32 1970-01-01 14:45:32       100.0   \n",
       "Carrier C        5 1970-01-01 00:00:00 1970-01-01 14:08:16        25.0   \n",
       "Barge II         5 1970-01-01 00:00:00 1970-01-01 15:23:22        25.0   \n",
       "Carrier B        5 1970-01-01 00:00:00 1970-01-01 14:41:38        20.0   \n",
       "Barge I          4 1970-01-01 00:00:00 1970-01-01 13:33:08        16.0   \n",
       "Carrier A        4 1970-01-01 00:00:00 1970-01-01 16:25:10        14.0   \n",
       "\n",
       "           duration actual  duration theory  cost actual  production actual  \\\n",
       "name                                                                          \n",
       "Cutter T           51000.0          51000.0      14757.0           0.009804   \n",
       "Carrier C          50896.0          44480.0       3534.0           0.002456   \n",
       "Barge II           55402.0          44525.0       3206.0           0.002256   \n",
       "Carrier B          52898.0          41995.0       3673.0           0.001890   \n",
       "Barge I            48788.0          35936.0       2823.0           0.001312   \n",
       "Carrier A          59110.0          43868.0       4105.0           0.000947   \n",
       "\n",
       "           production theory  occupancy [%]  \n",
       "name                                         \n",
       "Cutter T            0.009804          100.0  \n",
       "Carrier C           0.002810           87.4  \n",
       "Barge II            0.002807           80.4  \n",
       "Carrier B           0.002381           79.4  \n",
       "Barge I             0.001781           73.7  \n",
       "Carrier A           0.001277           74.2  "
      ]
     },
     "execution_count": 18,
     "metadata": {},
     "output_type": "execute_result"
    }
   ],
   "source": [
    "occupancy"
   ]
  },
  {
   "cell_type": "code",
   "execution_count": null,
   "id": "2bd3b9e8",
   "metadata": {},
   "outputs": [],
   "source": []
  }
 ],
 "metadata": {
  "kernelspec": {
   "display_name": "Python 3 (ipykernel)",
   "language": "python",
   "name": "python3"
  },
  "language_info": {
   "codemirror_mode": {
    "name": "ipython",
    "version": 3
   },
   "file_extension": ".py",
   "mimetype": "text/x-python",
   "name": "python",
   "nbconvert_exporter": "python",
   "pygments_lexer": "ipython3",
   "version": "3.9.16"
  }
 },
 "nbformat": 4,
 "nbformat_minor": 5
}
