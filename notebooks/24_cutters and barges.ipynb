{
 "cells": [
  {
   "cell_type": "markdown",
   "id": "384a3d39",
   "metadata": {},
   "source": [
    "# Feeder concept: cutter + barges\n",
    "\n",
    "This notebook shows how to implement a basic feeder concept for a cutter suction dredge working with multiple barges."
   ]
  },
  {
   "cell_type": "code",
   "execution_count": 1,
   "id": "b6580ad4",
   "metadata": {},
   "outputs": [],
   "source": [
    "import datetime, time\n",
    "import simpy\n",
    "\n",
    "import shapely.geometry\n",
    "import pandas as pd\n",
    "\n",
    "import openclsim.core as core\n",
    "import openclsim.model as model\n",
    "from openclsim.utils import flatten, export_concepts, export_activities, export_activity_log, export_activity_resources\n",
    "from openclsim.plot import get_step_chart, get_gantt_chart, get_log_dataframe, get_ranges_dataframe\n",
    "import numpy as np"
   ]
  },
  {
   "cell_type": "markdown",
   "id": "ad0c2928",
   "metadata": {},
   "source": [
    "## Define a range of barge scenarios"
   ]
  },
  {
   "cell_type": "code",
   "execution_count": 2,
   "id": "5d93d662",
   "metadata": {},
   "outputs": [],
   "source": [
    "cutter_name    = 'Cutter T'\n",
    "barge_names    = ['Carrier A','Carrier B','Carrier C',\n",
    "                  'Barge I','Barge II','Barge III',\n",
    "                  'Extra 1', 'Extra 2', 'Extra 3']\n",
    "vessel_cost     = {'Carrier A':6000,'Carrier B':6000,'Carrier C':6000,\n",
    "                  'Barge I':5000,'Barge II':5000,'Barge III':5000,\n",
    "                  'Extra 1':4000, 'Extra 2':4000, 'Extra 3':4000,\n",
    "                  'Cutter T':25000} # EUR/day\n",
    "\n",
    "# vessel_amount and vessel_durations are random within a range,\n",
    "# to mimic respectively material density variations\n",
    "# and metocean workability conditions and traffic density.\n",
    "\n",
    "amount_range = [4,6]\n",
    "duration_range = [2000,3000]\n",
    "\n",
    "from_site_name = 'Trench'\n",
    "to_site_name   = 'Reclamation'\n",
    "\n",
    "nbarges = len(barge_names)\n",
    "assert len(set(barge_names))==len(barge_names), 'barge_names need to be unique'\n",
    "total_amount = 100\n",
    "simulation_start = 0"
   ]
  },
  {
   "cell_type": "code",
   "execution_count": 3,
   "id": "102a1c18",
   "metadata": {},
   "outputs": [],
   "source": [
    "Site = type(\n",
    "    \"Site\",\n",
    "    (\n",
    "        core.Identifiable,\n",
    "        core.Log,\n",
    "        core.Locatable,\n",
    "        core.HasContainer,\n",
    "        core.HasResource,\n",
    "    ),\n",
    "    {},\n",
    ")\n",
    "TransportProcessingResource = type(\n",
    "    \"TransportProcessingResource\",\n",
    "    (\n",
    "        core.Identifiable,\n",
    "        core.Log,\n",
    "        core.ContainerDependentMovable,\n",
    "        core.Processor,\n",
    "        core.HasResource,\n",
    "    ),\n",
    "    {},\n",
    ")"
   ]
  },
  {
   "cell_type": "code",
   "execution_count": 4,
   "id": "cef14598",
   "metadata": {},
   "outputs": [],
   "source": [
    "def run(NR_BARGES, total_amount, simulation_start=0):\n",
    "    my_env = simpy.Environment(initial_time=simulation_start)\n",
    "    registry = {}\n",
    "\n",
    "    location_from_site = shapely.geometry.Point(4.18055556, 52.18664444)\n",
    "    location_to_site = shapely.geometry.Point(4.25222222, 52.11428333)\n",
    "    \n",
    "    sites = {}\n",
    "\n",
    "    data_from_site = {\"env\": my_env,\n",
    "                      \"name\": from_site_name,\n",
    "                      \"geometry\": location_from_site,\n",
    "                      \"capacity\": total_amount,\n",
    "                      \"level\": total_amount,\n",
    "                      \"nr_resources\":1\n",
    "                     }\n",
    "    from_site =  Site(**data_from_site)\n",
    "    sites[from_site_name] = from_site\n",
    "\n",
    "\n",
    "    location_to_site = shapely.geometry.Point(4.25222222, 52.11428333)\n",
    "    data_to_site = {\"env\": my_env,\n",
    "                    \"name\": to_site_name,\n",
    "                    \"geometry\": location_to_site,\n",
    "                    \"capacity\": total_amount,\n",
    "                    \"level\": 0,\n",
    "                    \"nr_resources\":4\n",
    "                   }\n",
    "    to_site = Site(**data_to_site)\n",
    "    sites[to_site_name] = to_site\n",
    "\n",
    "    vessels = {}\n",
    "\n",
    "    for i in range(NR_BARGES):\n",
    "        vessel_name = barge_names[i]\n",
    "        vessels[vessel_name] = TransportProcessingResource(\n",
    "            env=my_env,\n",
    "            name=vessel_name,\n",
    "            geometry=location_from_site, \n",
    "            capacity=10,\n",
    "            compute_v=lambda x: 10\n",
    "        )\n",
    "    cutter = TransportProcessingResource(\n",
    "        env=my_env,\n",
    "        name=cutter_name,\n",
    "        geometry=location_from_site, \n",
    "        capacity=10,\n",
    "        compute_v=lambda x: 10\n",
    "    )\n",
    "    vessels[cutter_name] = cutter\n",
    "    \n",
    "\n",
    "    activities = {}\n",
    "    for i in range(NR_BARGES):\n",
    "        vessel_name = barge_names[i]\n",
    "        amount = np.random.randint(amount_range[0], amount_range[1]) # handle loading\n",
    "        duration=np.random.randint(duration_range[0], duration_range[1]) # sailing and unloading\n",
    "\n",
    "        requested_resources={}\n",
    "        activities[f\"activity{i}\"] = model.WhileActivity(\n",
    "            env=my_env,\n",
    "            name=f\"while_sequential_activity_subcycle {vessel_name}\",\n",
    "            registry=registry,\n",
    "            sub_processes=[model.SequentialActivity(\n",
    "                env=my_env,\n",
    "                name=f\"sequential_activity_subcycle {vessel_name}\",\n",
    "                registry=registry,\n",
    "                sub_processes=[\n",
    "# cannot be linked to a vessel as it is neither mover, processor, origin or destination\n",
    "#                     model.BasicActivity(\n",
    "#                         env=my_env,\n",
    "#                         name=f\"basic activity:\"+vessels[vessel_name].name,\n",
    "#                         registry=registry,\n",
    "#                         duration=duration,\n",
    "#                         additional_logs=[vessels[vessel_name]],\n",
    "#                     ),\n",
    "                    model.MoveActivity(\n",
    "                        env=my_env,\n",
    "                        name=f\"sailing empty:\"+vessels[vessel_name].name,\n",
    "                        registry=registry,\n",
    "                        mover=vessels[vessel_name],\n",
    "                        destination=from_site,\n",
    "                        duration=duration,\n",
    "                    ),\n",
    "                    model.ShiftAmountActivity(\n",
    "                        env=my_env,\n",
    "                        name=f\"loading:\"+vessels[vessel_name].name,\n",
    "                        registry=registry,\n",
    "                        processor=cutter,\n",
    "                        origin=from_site,\n",
    "                        destination=vessels[vessel_name],\n",
    "                        amount=amount,\n",
    "                        duration=500*amount,\n",
    "                        requested_resources=requested_resources,\n",
    "                    ),\n",
    "                    model.MoveActivity(\n",
    "                        env=my_env,\n",
    "                        name=f\"sailing full:\"+vessels[vessel_name].name,\n",
    "                        registry=registry,\n",
    "                        mover=vessels[vessel_name],\n",
    "                        destination=to_site,\n",
    "                        duration=duration,\n",
    "                    ),\n",
    "                    model.ShiftAmountActivity(\n",
    "                        env=my_env,\n",
    "                        name=f\"unloading:\"+vessels[vessel_name].name,\n",
    "                        registry=registry,\n",
    "                        processor=vessels[vessel_name],\n",
    "                        origin=vessels[vessel_name],\n",
    "                        destination=to_site,\n",
    "                        amount=amount,\n",
    "                        duration=duration,\n",
    "                        requested_resources=requested_resources,\n",
    "                    ),\n",
    "                ],\n",
    "            )],\n",
    "            condition_event=[\n",
    "                {\n",
    "                    \"type\": \"container\", \n",
    "                    \"concept\": to_site, \n",
    "                    \"state\": \"full\",\n",
    "                    \"id_\":\"default_reservations\"\n",
    "                }\n",
    "            ],\n",
    "        )\n",
    "\n",
    "    model.register_processes(list(activities.values()))\n",
    "    my_env.run()\n",
    "    \n",
    "    return {\n",
    "        \"vessels\": vessels,\n",
    "        \"activities\":activities,\n",
    "        \"sites\":sites\n",
    "    }\n"
   ]
  },
  {
   "cell_type": "markdown",
   "id": "4e7485d8",
   "metadata": {},
   "source": [
    "## Simulate multiple barge scenarios, compare and select optimal one"
   ]
  },
  {
   "cell_type": "code",
   "execution_count": 5,
   "id": "075f63bf",
   "metadata": {},
   "outputs": [],
   "source": [
    "def occupancy_analysis(vessels, cutter_name, total_amount, vessel_cost):\n",
    "    \"\"\"Model specific calculation of vessel occupancy.\n",
    "    \n",
    "    Assumes\n",
    "    * 1 cutter servicing many barges, 1 at a time. The cutter processes same as sum of all barges.\n",
    "    * all vessels arrive JIT when they need to start\n",
    "    * al vessels leave immediately when they are done (so different demob times)\n",
    "    This is an overestimation of actual occupancy, a mob/demob, initial waiting, \n",
    "    and final waiting are considered gratis.\n",
    "    \n",
    "    \"\"\"\n",
    "    \n",
    "    data = []\n",
    "    \n",
    "    for i, vessel_name in enumerate(vessels):\n",
    "        vessel = vessels[vessel_name]\n",
    "\n",
    "        log = get_ranges_dataframe(vessel)\n",
    "        \n",
    "        duration_theory = log.TimestampDt.sum()\n",
    "\n",
    "        \n",
    "        duration_actual = (log.TimestampStop.max() - log.TimestampStart.min()).total_seconds()\n",
    "        nr_trips = len(log.groupby('trip'))\n",
    "        \n",
    "        if vessel.name==cutter_name:\n",
    "            amount = total_amount\n",
    "        else:\n",
    "            amount = sum(log.groupby('trip')['ContainerLevelStop'].max())\n",
    "        \n",
    "        data.append({\n",
    "            'name':vessel.name, \n",
    "            '# trips':nr_trips, \n",
    "            'start': log.TimestampStart.min(),\n",
    "            'finish': log.TimestampStop.max(),\n",
    "            'amount sum': amount,\n",
    "            'duration actual': duration_actual,\n",
    "            'duration theory':duration_theory,\n",
    "            'cost actual':round(duration_actual*vessel_cost[vessel_name]/3600/24,0),\n",
    "            'production actual':(nr_trips * amount) / (duration_actual),\n",
    "            'production theory':(nr_trips * amount / (duration_theory)),\n",
    "        })\n",
    "\n",
    "    df = pd.DataFrame(data).sort_values(by=['production actual'],ascending=False)\n",
    "    df['occupancy [%]'] = [round(x,1) for x in 100*df['production actual']/df['production theory']]\n",
    "    df.set_index('name', inplace=True)\n",
    "\n",
    "    if df['amount sum'].sum()-total_amount!=total_amount:\n",
    "        print('ERROR: material imbalance')\n",
    "    \n",
    "    return df"
   ]
  },
  {
   "cell_type": "code",
   "execution_count": 6,
   "id": "eeb88b8d",
   "metadata": {},
   "outputs": [
    {
     "name": "stdout",
     "output_type": "stream",
     "text": [
      "CPU times: user 1.89 s, sys: 0 ns, total: 1.89 s\n",
      "Wall time: 1.88 s\n"
     ]
    },
    {
     "data": {
      "text/html": [
       "<div>\n",
       "<style scoped>\n",
       "    .dataframe tbody tr th:only-of-type {\n",
       "        vertical-align: middle;\n",
       "    }\n",
       "\n",
       "    .dataframe tbody tr th {\n",
       "        vertical-align: top;\n",
       "    }\n",
       "\n",
       "    .dataframe thead th {\n",
       "        text-align: right;\n",
       "    }\n",
       "</style>\n",
       "<table border=\"1\" class=\"dataframe\">\n",
       "  <thead>\n",
       "    <tr style=\"text-align: right;\">\n",
       "      <th></th>\n",
       "      <th># barges</th>\n",
       "      <th>cutter occupancy</th>\n",
       "      <th>total cost</th>\n",
       "      <th>total duration</th>\n",
       "    </tr>\n",
       "  </thead>\n",
       "  <tbody>\n",
       "    <tr>\n",
       "      <th>0</th>\n",
       "      <td>2</td>\n",
       "      <td>44.7</td>\n",
       "      <td>50288.0</td>\n",
       "      <td>1.424167</td>\n",
       "    </tr>\n",
       "    <tr>\n",
       "      <th>1</th>\n",
       "      <td>3</td>\n",
       "      <td>65.7</td>\n",
       "      <td>39112.0</td>\n",
       "      <td>0.994248</td>\n",
       "    </tr>\n",
       "    <tr>\n",
       "      <th>2</th>\n",
       "      <td>4</td>\n",
       "      <td>93.2</td>\n",
       "      <td>31793.0</td>\n",
       "      <td>0.725116</td>\n",
       "    </tr>\n",
       "    <tr>\n",
       "      <th>3</th>\n",
       "      <td>5</td>\n",
       "      <td>100.0</td>\n",
       "      <td>31939.0</td>\n",
       "      <td>0.666181</td>\n",
       "    </tr>\n",
       "    <tr>\n",
       "      <th>4</th>\n",
       "      <td>6</td>\n",
       "      <td>100.0</td>\n",
       "      <td>35253.0</td>\n",
       "      <td>0.683715</td>\n",
       "    </tr>\n",
       "    <tr>\n",
       "      <th>5</th>\n",
       "      <td>7</td>\n",
       "      <td>100.0</td>\n",
       "      <td>36925.0</td>\n",
       "      <td>0.681829</td>\n",
       "    </tr>\n",
       "    <tr>\n",
       "      <th>6</th>\n",
       "      <td>8</td>\n",
       "      <td>100.0</td>\n",
       "      <td>38477.0</td>\n",
       "      <td>0.679583</td>\n",
       "    </tr>\n",
       "  </tbody>\n",
       "</table>\n",
       "</div>"
      ],
      "text/plain": [
       "   # barges  cutter occupancy  total cost  total duration\n",
       "0         2              44.7     50288.0        1.424167\n",
       "1         3              65.7     39112.0        0.994248\n",
       "2         4              93.2     31793.0        0.725116\n",
       "3         5             100.0     31939.0        0.666181\n",
       "4         6             100.0     35253.0        0.683715\n",
       "5         7             100.0     36925.0        0.681829\n",
       "6         8             100.0     38477.0        0.679583"
      ]
     },
     "execution_count": 6,
     "metadata": {},
     "output_type": "execute_result"
    }
   ],
   "source": [
    "%%time\n",
    "results = []\n",
    "occupancy = []\n",
    "cost = []\n",
    "duration = []\n",
    "\n",
    "n_barges = range(2,len(barge_names)) # at least 1 barge\n",
    "for i in n_barges:\n",
    "    results.append(run(i,total_amount))\n",
    "    \n",
    "    vessels = results[-1]['vessels']\n",
    "    activities = results[-1]['activities']\n",
    "    sites = results[-1]['sites']\n",
    "    \n",
    "    cutter = vessels[cutter_name]\n",
    "    \n",
    "    df = occupancy_analysis(vessels, cutter_name, total_amount, vessel_cost)\n",
    "    occupancy.append(df.loc[cutter_name]['occupancy [%]'])\n",
    "    cost.append(df['cost actual'].sum())\n",
    "    duration.append((df['finish'].max() - df['start'].min()).total_seconds()/3600/24)\n",
    "    #     display(df)\n",
    "    \n",
    "scenarios = {'# barges':n_barges,\n",
    "             'cutter occupancy':occupancy,\n",
    "             'total cost':cost,\n",
    "             'total duration':duration}\n",
    "scenarios = pd.DataFrame.from_dict(scenarios)\n",
    "scenarios"
   ]
  },
  {
   "cell_type": "code",
   "execution_count": 7,
   "id": "9e7f3cf4",
   "metadata": {},
   "outputs": [
    {
     "data": {
      "image/png": "[encoded data removed]",
      "text/plain": [
       "<Figure size 640x480 with 3 Axes>"
      ]
     },
     "metadata": {},
     "output_type": "display_data"
    }
   ],
   "source": [
    "# plot 3 optimization criteria: cost, duration, occupancy (1/flexibility)\n",
    "%matplotlib inline\n",
    "import matplotlib.pyplot as plt\n",
    "\n",
    "fig = plt.figure()\n",
    "gs = fig.add_gridspec(3, hspace=0)\n",
    "axs = gs.subplots(sharex=True)\n",
    "\n",
    "\n",
    "axs[0].plot(scenarios['# barges'],scenarios['total cost'],'.-'), axs[0].set_ylabel('# cost [EUR]'),axs[0].grid();\n",
    "# axs[0].set_xlabel('# barges');\n",
    "\n",
    "axs[1].plot(scenarios['# barges'],scenarios['cutter occupancy'],'.-'), axs[1].set_ylabel('cutter occupancy [%]'),axs[1].grid();\n",
    "# axs[1].set_xlabel('# barges');\n",
    "axs[1].yaxis.set_label_position(\"right\")\n",
    "axs[1].yaxis.tick_right()\n",
    "\n",
    "axs[2].plot(scenarios['# barges'],scenarios['total duration'],'.-'), axs[2].set_ylabel('# time [days]'),axs[2].grid();\n",
    "\n",
    "axs[-1].set_xlabel('# barges');"
   ]
  },
  {
   "cell_type": "markdown",
   "id": "a81e634c",
   "metadata": {},
   "source": [
    "## Example plots for 1 chosen scenario"
   ]
  },
  {
   "cell_type": "code",
   "execution_count": 8,
   "id": "88c1391e",
   "metadata": {},
   "outputs": [],
   "source": [
    "# choose 1 scenario for further analysis and export\n",
    "# many barges: close to 100% cutter config, small cost, fast delivery.\n",
    "scenario_index = 2"
   ]
  },
  {
   "cell_type": "code",
   "execution_count": 9,
   "id": "9aa8b351",
   "metadata": {},
   "outputs": [
    {
     "data": {
      "text/html": [
       "<div>\n",
       "<style scoped>\n",
       "    .dataframe tbody tr th:only-of-type {\n",
       "        vertical-align: middle;\n",
       "    }\n",
       "\n",
       "    .dataframe tbody tr th {\n",
       "        vertical-align: top;\n",
       "    }\n",
       "\n",
       "    .dataframe thead th {\n",
       "        text-align: right;\n",
       "    }\n",
       "</style>\n",
       "<table border=\"1\" class=\"dataframe\">\n",
       "  <thead>\n",
       "    <tr style=\"text-align: right;\">\n",
       "      <th></th>\n",
       "      <th># barges</th>\n",
       "      <th>cutter occupancy</th>\n",
       "      <th>total cost</th>\n",
       "      <th>total duration</th>\n",
       "    </tr>\n",
       "  </thead>\n",
       "  <tbody>\n",
       "    <tr>\n",
       "      <th>2</th>\n",
       "      <td>4</td>\n",
       "      <td>93.2</td>\n",
       "      <td>31793.0</td>\n",
       "      <td>0.725116</td>\n",
       "    </tr>\n",
       "  </tbody>\n",
       "</table>\n",
       "</div>"
      ],
      "text/plain": [
       "   # barges  cutter occupancy  total cost  total duration\n",
       "2         4              93.2     31793.0        0.725116"
      ]
     },
     "execution_count": 9,
     "metadata": {},
     "output_type": "execute_result"
    }
   ],
   "source": [
    "vessels = results[scenario_index]['vessels']\n",
    "sites = results[scenario_index]['sites']\n",
    "activities = results[scenario_index]['activities']\n",
    "\n",
    "cutter = vessels[cutter_name]\n",
    "to_site = sites[to_site_name]\n",
    "from_site = sites[from_site_name]\n",
    "scenarios[scenarios.index==scenario_index]"
   ]
  },
  {
   "cell_type": "code",
   "execution_count": 10,
   "id": "78603c28",
   "metadata": {},
   "outputs": [
    {
     "data": {
      "text/html": [
       "<div>\n",
       "<style scoped>\n",
       "    .dataframe tbody tr th:only-of-type {\n",
       "        vertical-align: middle;\n",
       "    }\n",
       "\n",
       "    .dataframe tbody tr th {\n",
       "        vertical-align: top;\n",
       "    }\n",
       "\n",
       "    .dataframe thead th {\n",
       "        text-align: right;\n",
       "    }\n",
       "</style>\n",
       "<table border=\"1\" class=\"dataframe\">\n",
       "  <thead>\n",
       "    <tr style=\"text-align: right;\">\n",
       "      <th></th>\n",
       "      <th># trips</th>\n",
       "      <th>start</th>\n",
       "      <th>finish</th>\n",
       "      <th>amount sum</th>\n",
       "      <th>duration actual</th>\n",
       "      <th>duration theory</th>\n",
       "      <th>cost actual</th>\n",
       "      <th>production actual</th>\n",
       "      <th>production theory</th>\n",
       "      <th>occupancy [%]</th>\n",
       "    </tr>\n",
       "    <tr>\n",
       "      <th>name</th>\n",
       "      <th></th>\n",
       "      <th></th>\n",
       "      <th></th>\n",
       "      <th></th>\n",
       "      <th></th>\n",
       "      <th></th>\n",
       "      <th></th>\n",
       "      <th></th>\n",
       "      <th></th>\n",
       "      <th></th>\n",
       "    </tr>\n",
       "  </thead>\n",
       "  <tbody>\n",
       "    <tr>\n",
       "      <th>Barge I</th>\n",
       "      <td>6</td>\n",
       "      <td>1970-01-01 00:00:00</td>\n",
       "      <td>1970-01-01 17:24:10</td>\n",
       "      <td>26.0</td>\n",
       "      <td>62650.0</td>\n",
       "      <td>57642.0</td>\n",
       "      <td>3626.0</td>\n",
       "      <td>0.002490</td>\n",
       "      <td>0.002706</td>\n",
       "      <td>92.0</td>\n",
       "    </tr>\n",
       "    <tr>\n",
       "      <th>Carrier A</th>\n",
       "      <td>5</td>\n",
       "      <td>1970-01-01 00:00:00</td>\n",
       "      <td>1970-01-01 16:18:30</td>\n",
       "      <td>25.0</td>\n",
       "      <td>58710.0</td>\n",
       "      <td>52235.0</td>\n",
       "      <td>4077.0</td>\n",
       "      <td>0.002129</td>\n",
       "      <td>0.002393</td>\n",
       "      <td>89.0</td>\n",
       "    </tr>\n",
       "    <tr>\n",
       "      <th>Carrier B</th>\n",
       "      <td>5</td>\n",
       "      <td>1970-01-01 00:00:00</td>\n",
       "      <td>1970-01-01 15:13:15</td>\n",
       "      <td>25.0</td>\n",
       "      <td>54795.0</td>\n",
       "      <td>48725.0</td>\n",
       "      <td>3805.0</td>\n",
       "      <td>0.002281</td>\n",
       "      <td>0.002565</td>\n",
       "      <td>88.9</td>\n",
       "    </tr>\n",
       "    <tr>\n",
       "      <th>Carrier C</th>\n",
       "      <td>6</td>\n",
       "      <td>1970-01-01 00:00:00</td>\n",
       "      <td>1970-01-01 16:34:20</td>\n",
       "      <td>24.0</td>\n",
       "      <td>59660.0</td>\n",
       "      <td>50232.0</td>\n",
       "      <td>4143.0</td>\n",
       "      <td>0.002414</td>\n",
       "      <td>0.002867</td>\n",
       "      <td>84.2</td>\n",
       "    </tr>\n",
       "    <tr>\n",
       "      <th>Cutter T</th>\n",
       "      <td>6</td>\n",
       "      <td>1970-01-01 00:35:24</td>\n",
       "      <td>1970-01-01 16:05:12</td>\n",
       "      <td>100.0</td>\n",
       "      <td>55788.0</td>\n",
       "      <td>52000.0</td>\n",
       "      <td>16142.0</td>\n",
       "      <td>0.010755</td>\n",
       "      <td>0.011538</td>\n",
       "      <td>93.2</td>\n",
       "    </tr>\n",
       "  </tbody>\n",
       "</table>\n",
       "</div>"
      ],
      "text/plain": [
       "           # trips               start              finish  amount sum  \\\n",
       "name                                                                     \n",
       "Barge I          6 1970-01-01 00:00:00 1970-01-01 17:24:10        26.0   \n",
       "Carrier A        5 1970-01-01 00:00:00 1970-01-01 16:18:30        25.0   \n",
       "Carrier B        5 1970-01-01 00:00:00 1970-01-01 15:13:15        25.0   \n",
       "Carrier C        6 1970-01-01 00:00:00 1970-01-01 16:34:20        24.0   \n",
       "Cutter T         6 1970-01-01 00:35:24 1970-01-01 16:05:12       100.0   \n",
       "\n",
       "           duration actual  duration theory  cost actual  production actual  \\\n",
       "name                                                                          \n",
       "Barge I            62650.0          57642.0       3626.0           0.002490   \n",
       "Carrier A          58710.0          52235.0       4077.0           0.002129   \n",
       "Carrier B          54795.0          48725.0       3805.0           0.002281   \n",
       "Carrier C          59660.0          50232.0       4143.0           0.002414   \n",
       "Cutter T           55788.0          52000.0      16142.0           0.010755   \n",
       "\n",
       "           production theory  occupancy [%]  \n",
       "name                                         \n",
       "Barge I             0.002706           92.0  \n",
       "Carrier A           0.002393           89.0  \n",
       "Carrier B           0.002565           88.9  \n",
       "Carrier C           0.002867           84.2  \n",
       "Cutter T            0.011538           93.2  "
      ]
     },
     "execution_count": 10,
     "metadata": {},
     "output_type": "execute_result"
    }
   ],
   "source": [
    "# determine occupamncy per vessel\n",
    "\n",
    "occupancy_analysis(vessels, cutter_name, total_amount, vessel_cost).sort_values(by=[\"name\"])"
   ]
  },
  {
   "cell_type": "code",
   "execution_count": 11,
   "id": "8f993fc6",
   "metadata": {},
   "outputs": [
    {
     "data": {
      "text/html": [
       "        <script type=\"text/javascript\">\n",
       "        window.PlotlyConfig = {MathJaxConfig: 'local'};\n",
       "        if (window.MathJax && window.MathJax.Hub && window.MathJax.Hub.Config) {window.MathJax.Hub.Config({SVG: {font: \"STIX-Web\"}});}\n",
       "        if (typeof require !== 'undefined') {\n",
       "        require.undef(\"plotly\");\n",
       "        requirejs.config({\n",
       "            paths: {\n",
       "                'plotly': ['https://cdn.plot.ly/plotly-2.18.2.min']\n",
       "            }\n",
       "        });\n",
       "        require(['plotly'], function(Plotly) {\n",
       "            window._Plotly = Plotly;\n",
       "        });\n",
       "        }\n",
       "        </script>\n",
       "        "
      ]
     },
     "metadata": {},
     "output_type": "display_data"
    },
    {
     "data": {
      "application/vnd.plotly.v1+json": {
       "config": {
        "linkText": "Export to plot.ly",
        "plotlyServerURL": "https://plot.ly",
        "showLink": false
       },
       "data": [
        {
         "connectgaps": false,
         "hoverinfo": "y+name",
         "line": {
          "color": "rgb(215,96,93)",
          "width": 10
         },
         "mode": "lines",
         "name": "loading:Carrier A",
         "type": "scatter",
         "x": [
          "1970-01-01T02:32:04",
          "1970-01-01T02:32:04",
          "1970-01-01T03:13:44",
          "1970-01-01T03:13:44",
          "1970-01-01T03:13:44",
          "1970-01-01T05:26:11",
          "1970-01-01T05:26:11",
          "1970-01-01T06:07:51",
          "1970-01-01T06:07:51",
          "1970-01-01T06:07:51",
          "1970-01-01T08:20:18",
          "1970-01-01T08:20:18",
          "1970-01-01T09:01:58",
          "1970-01-01T09:01:58",
          "1970-01-01T09:01:58",
          "1970-01-01T11:14:25",
          "1970-01-01T11:14:25",
          "1970-01-01T11:56:05",
          "1970-01-01T11:56:05",
          "1970-01-01T11:56:05",
          "1970-01-01T14:08:32",
          "1970-01-01T14:08:32",
          "1970-01-01T14:50:12",
          "1970-01-01T14:50:12",
          "1970-01-01T14:50:12",
          "1970-01-01T02:32:04",
          "1970-01-01T02:32:04",
          "1970-01-01T03:13:44",
          "1970-01-01T03:13:44",
          "1970-01-01T03:13:44",
          "1970-01-01T05:26:11",
          "1970-01-01T05:26:11",
          "1970-01-01T06:07:51",
          "1970-01-01T06:07:51",
          "1970-01-01T06:07:51",
          "1970-01-01T08:20:18",
          "1970-01-01T08:20:18",
          "1970-01-01T09:01:58",
          "1970-01-01T09:01:58",
          "1970-01-01T09:01:58",
          "1970-01-01T11:14:25",
          "1970-01-01T11:14:25",
          "1970-01-01T11:56:05",
          "1970-01-01T11:56:05",
          "1970-01-01T11:56:05",
          "1970-01-01T14:08:32",
          "1970-01-01T14:08:32",
          "1970-01-01T14:50:12",
          "1970-01-01T14:50:12",
          "1970-01-01T14:50:12"
         ],
         "y": [
          "Carrier A",
          "Carrier A",
          "Carrier A",
          "Carrier A",
          null,
          "Carrier A",
          "Carrier A",
          "Carrier A",
          "Carrier A",
          null,
          "Carrier A",
          "Carrier A",
          "Carrier A",
          "Carrier A",
          null,
          "Carrier A",
          "Carrier A",
          "Carrier A",
          "Carrier A",
          null,
          "Carrier A",
          "Carrier A",
          "Carrier A",
          "Carrier A",
          null,
          "Cutter T",
          "Cutter T",
          "Cutter T",
          "Cutter T",
          null,
          "Cutter T",
          "Cutter T",
          "Cutter T",
          "Cutter T",
          null,
          "Cutter T",
          "Cutter T",
          "Cutter T",
          "Cutter T",
          null,
          "Cutter T",
          "Cutter T",
          "Cutter T",
          "Cutter T",
          null,
          "Cutter T",
          "Cutter T",
          "Cutter T",
          "Cutter T",
          null
         ]
        },
        {
         "connectgaps": false,
         "hoverinfo": "y+name",
         "line": {
          "color": "rgb(227,108,105)",
          "width": 10
         },
         "mode": "lines",
         "name": "sailing empty:Carrier A",
         "type": "scatter",
         "x": [
          "1970-01-01T00:00:00",
          "1970-01-01T00:00:00",
          "1970-01-01T00:44:09",
          "1970-01-01T00:44:09",
          "1970-01-01T00:44:09",
          "1970-01-01T04:42:02",
          "1970-01-01T04:42:02",
          "1970-01-01T05:26:11",
          "1970-01-01T05:26:11",
          "1970-01-01T05:26:11",
          "1970-01-01T07:36:09",
          "1970-01-01T07:36:09",
          "1970-01-01T08:20:18",
          "1970-01-01T08:20:18",
          "1970-01-01T08:20:18",
          "1970-01-01T10:30:16",
          "1970-01-01T10:30:16",
          "1970-01-01T11:14:25",
          "1970-01-01T11:14:25",
          "1970-01-01T11:14:25",
          "1970-01-01T13:24:23",
          "1970-01-01T13:24:23",
          "1970-01-01T14:08:32",
          "1970-01-01T14:08:32",
          "1970-01-01T14:08:32"
         ],
         "y": [
          "Carrier A",
          "Carrier A",
          "Carrier A",
          "Carrier A",
          null,
          "Carrier A",
          "Carrier A",
          "Carrier A",
          "Carrier A",
          null,
          "Carrier A",
          "Carrier A",
          "Carrier A",
          "Carrier A",
          null,
          "Carrier A",
          "Carrier A",
          "Carrier A",
          "Carrier A",
          null,
          "Carrier A",
          "Carrier A",
          "Carrier A",
          "Carrier A",
          null
         ]
        },
        {
         "connectgaps": false,
         "hoverinfo": "y+name",
         "line": {
          "color": "rgb(239,120,117)",
          "width": 10
         },
         "mode": "lines",
         "name": "unloading:Carrier A",
         "type": "scatter",
         "x": [
          "1970-01-01T03:57:53",
          "1970-01-01T03:57:53",
          "1970-01-01T04:42:02",
          "1970-01-01T04:42:02",
          "1970-01-01T04:42:02",
          "1970-01-01T06:52:00",
          "1970-01-01T06:52:00",
          "1970-01-01T07:36:09",
          "1970-01-01T07:36:09",
          "1970-01-01T07:36:09",
          "1970-01-01T09:46:07",
          "1970-01-01T09:46:07",
          "1970-01-01T10:30:16",
          "1970-01-01T10:30:16",
          "1970-01-01T10:30:16",
          "1970-01-01T12:40:14",
          "1970-01-01T12:40:14",
          "1970-01-01T13:24:23",
          "1970-01-01T13:24:23",
          "1970-01-01T13:24:23",
          "1970-01-01T15:34:21",
          "1970-01-01T15:34:21",
          "1970-01-01T16:18:30",
          "1970-01-01T16:18:30",
          "1970-01-01T16:18:30"
         ],
         "y": [
          "Carrier A",
          "Carrier A",
          "Carrier A",
          "Carrier A",
          null,
          "Carrier A",
          "Carrier A",
          "Carrier A",
          "Carrier A",
          null,
          "Carrier A",
          "Carrier A",
          "Carrier A",
          "Carrier A",
          null,
          "Carrier A",
          "Carrier A",
          "Carrier A",
          "Carrier A",
          null,
          "Carrier A",
          "Carrier A",
          "Carrier A",
          "Carrier A",
          null
         ]
        },
        {
         "connectgaps": false,
         "hoverinfo": "y+name",
         "line": {
          "color": "rgb(251,132,129)",
          "width": 10
         },
         "mode": "lines",
         "name": "sailing full:Carrier A",
         "type": "scatter",
         "x": [
          "1970-01-01T03:13:44",
          "1970-01-01T03:13:44",
          "1970-01-01T03:57:53",
          "1970-01-01T03:57:53",
          "1970-01-01T03:57:53",
          "1970-01-01T06:07:51",
          "1970-01-01T06:07:51",
          "1970-01-01T06:52:00",
          "1970-01-01T06:52:00",
          "1970-01-01T06:52:00",
          "1970-01-01T09:01:58",
          "1970-01-01T09:01:58",
          "1970-01-01T09:46:07",
          "1970-01-01T09:46:07",
          "1970-01-01T09:46:07",
          "1970-01-01T11:56:05",
          "1970-01-01T11:56:05",
          "1970-01-01T12:40:14",
          "1970-01-01T12:40:14",
          "1970-01-01T12:40:14",
          "1970-01-01T14:50:12",
          "1970-01-01T14:50:12",
          "1970-01-01T15:34:21",
          "1970-01-01T15:34:21",
          "1970-01-01T15:34:21"
         ],
         "y": [
          "Carrier A",
          "Carrier A",
          "Carrier A",
          "Carrier A",
          null,
          "Carrier A",
          "Carrier A",
          "Carrier A",
          "Carrier A",
          null,
          "Carrier A",
          "Carrier A",
          "Carrier A",
          "Carrier A",
          null,
          "Carrier A",
          "Carrier A",
          "Carrier A",
          "Carrier A",
          null,
          "Carrier A",
          "Carrier A",
          "Carrier A",
          "Carrier A",
          null
         ]
        },
        {
         "connectgaps": false,
         "hoverinfo": "y+name",
         "line": {
          "color": "rgb(7,144,141)",
          "width": 10
         },
         "mode": "lines",
         "name": "loading:Carrier B",
         "type": "scatter",
         "x": [
          "1970-01-01T01:50:24",
          "1970-01-01T01:50:24",
          "1970-01-01T02:32:04",
          "1970-01-01T02:32:04",
          "1970-01-01T02:32:04",
          "1970-01-01T04:32:49",
          "1970-01-01T04:32:49",
          "1970-01-01T05:14:29",
          "1970-01-01T05:14:29",
          "1970-01-01T05:14:29",
          "1970-01-01T07:22:51",
          "1970-01-01T07:22:51",
          "1970-01-01T08:04:31",
          "1970-01-01T08:04:31",
          "1970-01-01T08:04:31",
          "1970-01-01T10:16:58",
          "1970-01-01T10:16:58",
          "1970-01-01T10:58:38",
          "1970-01-01T10:58:38",
          "1970-01-01T10:58:38",
          "1970-01-01T13:11:05",
          "1970-01-01T13:11:05",
          "1970-01-01T13:52:45",
          "1970-01-01T13:52:45",
          "1970-01-01T13:52:45",
          "1970-01-01T01:50:24",
          "1970-01-01T01:50:24",
          "1970-01-01T02:32:04",
          "1970-01-01T02:32:04",
          "1970-01-01T02:32:04",
          "1970-01-01T04:32:49",
          "1970-01-01T04:32:49",
          "1970-01-01T05:14:29",
          "1970-01-01T05:14:29",
          "1970-01-01T05:14:29",
          "1970-01-01T07:22:51",
          "1970-01-01T07:22:51",
          "1970-01-01T08:04:31",
          "1970-01-01T08:04:31",
          "1970-01-01T08:04:31",
          "1970-01-01T10:16:58",
          "1970-01-01T10:16:58",
          "1970-01-01T10:58:38",
          "1970-01-01T10:58:38",
          "1970-01-01T10:58:38",
          "1970-01-01T13:11:05",
          "1970-01-01T13:11:05",
          "1970-01-01T13:52:45",
          "1970-01-01T13:52:45",
          "1970-01-01T13:52:45"
         ],
         "y": [
          "Carrier B",
          "Carrier B",
          "Carrier B",
          "Carrier B",
          null,
          "Carrier B",
          "Carrier B",
          "Carrier B",
          "Carrier B",
          null,
          "Carrier B",
          "Carrier B",
          "Carrier B",
          "Carrier B",
          null,
          "Carrier B",
          "Carrier B",
          "Carrier B",
          "Carrier B",
          null,
          "Carrier B",
          "Carrier B",
          "Carrier B",
          "Carrier B",
          null,
          "Cutter T",
          "Cutter T",
          "Cutter T",
          "Cutter T",
          null,
          "Cutter T",
          "Cutter T",
          "Cutter T",
          "Cutter T",
          null,
          "Cutter T",
          "Cutter T",
          "Cutter T",
          "Cutter T",
          null,
          "Cutter T",
          "Cutter T",
          "Cutter T",
          "Cutter T",
          null,
          "Cutter T",
          "Cutter T",
          "Cutter T",
          "Cutter T",
          null
         ]
        },
        {
         "connectgaps": false,
         "hoverinfo": "y+name",
         "line": {
          "color": "rgb(19,156,153)",
          "width": 10
         },
         "mode": "lines",
         "name": "sailing empty:Carrier B",
         "type": "scatter",
         "x": [
          "1970-01-01T00:00:00",
          "1970-01-01T00:00:00",
          "1970-01-01T00:40:15",
          "1970-01-01T00:40:15",
          "1970-01-01T00:40:15",
          "1970-01-01T03:52:34",
          "1970-01-01T03:52:34",
          "1970-01-01T04:32:49",
          "1970-01-01T04:32:49",
          "1970-01-01T04:32:49",
          "1970-01-01T06:34:59",
          "1970-01-01T06:34:59",
          "1970-01-01T07:15:14",
          "1970-01-01T07:15:14",
          "1970-01-01T07:15:14",
          "1970-01-01T09:25:01",
          "1970-01-01T09:25:01",
          "1970-01-01T10:05:16",
          "1970-01-01T10:05:16",
          "1970-01-01T10:05:16",
          "1970-01-01T12:19:08",
          "1970-01-01T12:19:08",
          "1970-01-01T12:59:23",
          "1970-01-01T12:59:23",
          "1970-01-01T12:59:23"
         ],
         "y": [
          "Carrier B",
          "Carrier B",
          "Carrier B",
          "Carrier B",
          null,
          "Carrier B",
          "Carrier B",
          "Carrier B",
          "Carrier B",
          null,
          "Carrier B",
          "Carrier B",
          "Carrier B",
          "Carrier B",
          null,
          "Carrier B",
          "Carrier B",
          "Carrier B",
          "Carrier B",
          null,
          "Carrier B",
          "Carrier B",
          "Carrier B",
          "Carrier B",
          null
         ]
        },
        {
         "connectgaps": false,
         "hoverinfo": "y+name",
         "line": {
          "color": "rgb(31,168,165)",
          "width": 10
         },
         "mode": "lines",
         "name": "sailing full:Carrier B",
         "type": "scatter",
         "x": [
          "1970-01-01T02:32:04",
          "1970-01-01T02:32:04",
          "1970-01-01T03:12:19",
          "1970-01-01T03:12:19",
          "1970-01-01T03:12:19",
          "1970-01-01T05:14:29",
          "1970-01-01T05:14:29",
          "1970-01-01T05:54:44",
          "1970-01-01T05:54:44",
          "1970-01-01T05:54:44",
          "1970-01-01T08:04:31",
          "1970-01-01T08:04:31",
          "1970-01-01T08:44:46",
          "1970-01-01T08:44:46",
          "1970-01-01T08:44:46",
          "1970-01-01T10:58:38",
          "1970-01-01T10:58:38",
          "1970-01-01T11:38:53",
          "1970-01-01T11:38:53",
          "1970-01-01T11:38:53",
          "1970-01-01T13:52:45",
          "1970-01-01T13:52:45",
          "1970-01-01T14:33:00",
          "1970-01-01T14:33:00",
          "1970-01-01T14:33:00"
         ],
         "y": [
          "Carrier B",
          "Carrier B",
          "Carrier B",
          "Carrier B",
          null,
          "Carrier B",
          "Carrier B",
          "Carrier B",
          "Carrier B",
          null,
          "Carrier B",
          "Carrier B",
          "Carrier B",
          "Carrier B",
          null,
          "Carrier B",
          "Carrier B",
          "Carrier B",
          "Carrier B",
          null,
          "Carrier B",
          "Carrier B",
          "Carrier B",
          "Carrier B",
          null
         ]
        },
        {
         "connectgaps": false,
         "hoverinfo": "y+name",
         "line": {
          "color": "rgb(43,180,177)",
          "width": 10
         },
         "mode": "lines",
         "name": "unloading:Carrier B",
         "type": "scatter",
         "x": [
          "1970-01-01T03:12:19",
          "1970-01-01T03:12:19",
          "1970-01-01T03:52:34",
          "1970-01-01T03:52:34",
          "1970-01-01T03:52:34",
          "1970-01-01T05:54:44",
          "1970-01-01T05:54:44",
          "1970-01-01T06:34:59",
          "1970-01-01T06:34:59",
          "1970-01-01T06:34:59",
          "1970-01-01T08:44:46",
          "1970-01-01T08:44:46",
          "1970-01-01T09:25:01",
          "1970-01-01T09:25:01",
          "1970-01-01T09:25:01",
          "1970-01-01T11:38:53",
          "1970-01-01T11:38:53",
          "1970-01-01T12:19:08",
          "1970-01-01T12:19:08",
          "1970-01-01T12:19:08",
          "1970-01-01T14:33:00",
          "1970-01-01T14:33:00",
          "1970-01-01T15:13:15",
          "1970-01-01T15:13:15",
          "1970-01-01T15:13:15"
         ],
         "y": [
          "Carrier B",
          "Carrier B",
          "Carrier B",
          "Carrier B",
          null,
          "Carrier B",
          "Carrier B",
          "Carrier B",
          "Carrier B",
          null,
          "Carrier B",
          "Carrier B",
          "Carrier B",
          "Carrier B",
          null,
          "Carrier B",
          "Carrier B",
          "Carrier B",
          "Carrier B",
          null,
          "Carrier B",
          "Carrier B",
          "Carrier B",
          "Carrier B",
          null
         ]
        },
        {
         "connectgaps": false,
         "hoverinfo": "y+name",
         "line": {
          "color": "rgb(55,192,189)",
          "width": 10
         },
         "mode": "lines",
         "name": "unloading:Carrier C",
         "type": "scatter",
         "x": [
          "1970-01-01T01:44:08",
          "1970-01-01T01:44:08",
          "1970-01-01T02:19:32",
          "1970-01-01T02:19:32",
          "1970-01-01T02:19:32",
          "1970-01-01T04:22:28",
          "1970-01-01T04:22:28",
          "1970-01-01T04:57:52",
          "1970-01-01T04:57:52",
          "1970-01-01T04:57:52",
          "1970-01-01T07:16:35",
          "1970-01-01T07:16:35",
          "1970-01-01T07:51:59",
          "1970-01-01T07:51:59",
          "1970-01-01T07:51:59",
          "1970-01-01T10:10:42",
          "1970-01-01T10:10:42",
          "1970-01-01T10:46:06",
          "1970-01-01T10:46:06",
          "1970-01-01T10:46:06",
          "1970-01-01T13:04:49",
          "1970-01-01T13:04:49",
          "1970-01-01T13:40:13",
          "1970-01-01T13:40:13",
          "1970-01-01T13:40:13",
          "1970-01-01T15:58:56",
          "1970-01-01T15:58:56",
          "1970-01-01T16:34:20",
          "1970-01-01T16:34:20",
          "1970-01-01T16:34:20"
         ],
         "y": [
          "Carrier C",
          "Carrier C",
          "Carrier C",
          "Carrier C",
          null,
          "Carrier C",
          "Carrier C",
          "Carrier C",
          "Carrier C",
          null,
          "Carrier C",
          "Carrier C",
          "Carrier C",
          "Carrier C",
          null,
          "Carrier C",
          "Carrier C",
          "Carrier C",
          "Carrier C",
          null,
          "Carrier C",
          "Carrier C",
          "Carrier C",
          "Carrier C",
          null,
          "Carrier C",
          "Carrier C",
          "Carrier C",
          "Carrier C",
          null
         ]
        },
        {
         "connectgaps": false,
         "hoverinfo": "y+name",
         "line": {
          "color": "rgb(67,204,201)",
          "width": 10
         },
         "mode": "lines",
         "name": "loading:Carrier C",
         "type": "scatter",
         "x": [
          "1970-01-01T00:35:24",
          "1970-01-01T00:35:24",
          "1970-01-01T01:08:44",
          "1970-01-01T01:08:44",
          "1970-01-01T01:08:44",
          "1970-01-01T03:13:44",
          "1970-01-01T03:13:44",
          "1970-01-01T03:47:04",
          "1970-01-01T03:47:04",
          "1970-01-01T03:47:04",
          "1970-01-01T06:07:51",
          "1970-01-01T06:07:51",
          "1970-01-01T06:41:11",
          "1970-01-01T06:41:11",
          "1970-01-01T06:41:11",
          "1970-01-01T09:01:58",
          "1970-01-01T09:01:58",
          "1970-01-01T09:35:18",
          "1970-01-01T09:35:18",
          "1970-01-01T09:35:18",
          "1970-01-01T11:56:05",
          "1970-01-01T11:56:05",
          "1970-01-01T12:29:25",
          "1970-01-01T12:29:25",
          "1970-01-01T12:29:25",
          "1970-01-01T14:50:12",
          "1970-01-01T14:50:12",
          "1970-01-01T15:23:32",
          "1970-01-01T15:23:32",
          "1970-01-01T15:23:32",
          "1970-01-01T00:35:24",
          "1970-01-01T00:35:24",
          "1970-01-01T01:08:44",
          "1970-01-01T01:08:44",
          "1970-01-01T01:08:44",
          "1970-01-01T03:13:44",
          "1970-01-01T03:13:44",
          "1970-01-01T03:47:04",
          "1970-01-01T03:47:04",
          "1970-01-01T03:47:04",
          "1970-01-01T06:07:51",
          "1970-01-01T06:07:51",
          "1970-01-01T06:41:11",
          "1970-01-01T06:41:11",
          "1970-01-01T06:41:11",
          "1970-01-01T09:01:58",
          "1970-01-01T09:01:58",
          "1970-01-01T09:35:18",
          "1970-01-01T09:35:18",
          "1970-01-01T09:35:18",
          "1970-01-01T11:56:05",
          "1970-01-01T11:56:05",
          "1970-01-01T12:29:25",
          "1970-01-01T12:29:25",
          "1970-01-01T12:29:25",
          "1970-01-01T14:50:12",
          "1970-01-01T14:50:12",
          "1970-01-01T15:23:32",
          "1970-01-01T15:23:32",
          "1970-01-01T15:23:32"
         ],
         "y": [
          "Carrier C",
          "Carrier C",
          "Carrier C",
          "Carrier C",
          null,
          "Carrier C",
          "Carrier C",
          "Carrier C",
          "Carrier C",
          null,
          "Carrier C",
          "Carrier C",
          "Carrier C",
          "Carrier C",
          null,
          "Carrier C",
          "Carrier C",
          "Carrier C",
          "Carrier C",
          null,
          "Carrier C",
          "Carrier C",
          "Carrier C",
          "Carrier C",
          null,
          "Carrier C",
          "Carrier C",
          "Carrier C",
          "Carrier C",
          null,
          "Cutter T",
          "Cutter T",
          "Cutter T",
          "Cutter T",
          null,
          "Cutter T",
          "Cutter T",
          "Cutter T",
          "Cutter T",
          null,
          "Cutter T",
          "Cutter T",
          "Cutter T",
          "Cutter T",
          null,
          "Cutter T",
          "Cutter T",
          "Cutter T",
          "Cutter T",
          null,
          "Cutter T",
          "Cutter T",
          "Cutter T",
          "Cutter T",
          null,
          "Cutter T",
          "Cutter T",
          "Cutter T",
          "Cutter T",
          null
         ]
        },
        {
         "connectgaps": false,
         "hoverinfo": "y+name",
         "line": {
          "color": "rgb(79,216,213)",
          "width": 10
         },
         "mode": "lines",
         "name": "sailing empty:Carrier C",
         "type": "scatter",
         "x": [
          "1970-01-01T00:00:00",
          "1970-01-01T00:00:00",
          "1970-01-01T00:35:24",
          "1970-01-01T00:35:24",
          "1970-01-01T00:35:24",
          "1970-01-01T02:19:32",
          "1970-01-01T02:19:32",
          "1970-01-01T02:54:56",
          "1970-01-01T02:54:56",
          "1970-01-01T02:54:56",
          "1970-01-01T04:57:52",
          "1970-01-01T04:57:52",
          "1970-01-01T05:33:16",
          "1970-01-01T05:33:16",
          "1970-01-01T05:33:16",
          "1970-01-01T07:51:59",
          "1970-01-01T07:51:59",
          "1970-01-01T08:27:23",
          "1970-01-01T08:27:23",
          "1970-01-01T08:27:23",
          "1970-01-01T10:46:06",
          "1970-01-01T10:46:06",
          "1970-01-01T11:21:30",
          "1970-01-01T11:21:30",
          "1970-01-01T11:21:30",
          "1970-01-01T13:40:13",
          "1970-01-01T13:40:13",
          "1970-01-01T14:15:37",
          "1970-01-01T14:15:37",
          "1970-01-01T14:15:37"
         ],
         "y": [
          "Carrier C",
          "Carrier C",
          "Carrier C",
          "Carrier C",
          null,
          "Carrier C",
          "Carrier C",
          "Carrier C",
          "Carrier C",
          null,
          "Carrier C",
          "Carrier C",
          "Carrier C",
          "Carrier C",
          null,
          "Carrier C",
          "Carrier C",
          "Carrier C",
          "Carrier C",
          null,
          "Carrier C",
          "Carrier C",
          "Carrier C",
          "Carrier C",
          null,
          "Carrier C",
          "Carrier C",
          "Carrier C",
          "Carrier C",
          null
         ]
        },
        {
         "connectgaps": false,
         "hoverinfo": "y+name",
         "line": {
          "color": "rgb(91,228,225)",
          "width": 10
         },
         "mode": "lines",
         "name": "sailing full:Carrier C",
         "type": "scatter",
         "x": [
          "1970-01-01T01:08:44",
          "1970-01-01T01:08:44",
          "1970-01-01T01:44:08",
          "1970-01-01T01:44:08",
          "1970-01-01T01:44:08",
          "1970-01-01T03:47:04",
          "1970-01-01T03:47:04",
          "1970-01-01T04:22:28",
          "1970-01-01T04:22:28",
          "1970-01-01T04:22:28",
          "1970-01-01T06:41:11",
          "1970-01-01T06:41:11",
          "1970-01-01T07:16:35",
          "1970-01-01T07:16:35",
          "1970-01-01T07:16:35",
          "1970-01-01T09:35:18",
          "1970-01-01T09:35:18",
          "1970-01-01T10:10:42",
          "1970-01-01T10:10:42",
          "1970-01-01T10:10:42",
          "1970-01-01T12:29:25",
          "1970-01-01T12:29:25",
          "1970-01-01T13:04:49",
          "1970-01-01T13:04:49",
          "1970-01-01T13:04:49",
          "1970-01-01T15:23:32",
          "1970-01-01T15:23:32",
          "1970-01-01T15:58:56",
          "1970-01-01T15:58:56",
          "1970-01-01T15:58:56"
         ],
         "y": [
          "Carrier C",
          "Carrier C",
          "Carrier C",
          "Carrier C",
          null,
          "Carrier C",
          "Carrier C",
          "Carrier C",
          "Carrier C",
          null,
          "Carrier C",
          "Carrier C",
          "Carrier C",
          "Carrier C",
          null,
          "Carrier C",
          "Carrier C",
          "Carrier C",
          "Carrier C",
          null,
          "Carrier C",
          "Carrier C",
          "Carrier C",
          "Carrier C",
          null,
          "Carrier C",
          "Carrier C",
          "Carrier C",
          "Carrier C",
          null
         ]
        },
        {
         "connectgaps": false,
         "hoverinfo": "y+name",
         "line": {
          "color": "rgb(103,240,237)",
          "width": 10
         },
         "mode": "lines",
         "name": "loading:Barge I",
         "type": "scatter",
         "x": [
          "1970-01-01T01:08:44",
          "1970-01-01T01:08:44",
          "1970-01-01T01:50:24",
          "1970-01-01T01:50:24",
          "1970-01-01T01:50:24",
          "1970-01-01T03:48:51",
          "1970-01-01T03:48:51",
          "1970-01-01T04:30:31",
          "1970-01-01T04:30:31",
          "1970-01-01T04:30:31",
          "1970-01-01T06:41:11",
          "1970-01-01T06:41:11",
          "1970-01-01T07:22:51",
          "1970-01-01T07:22:51",
          "1970-01-01T07:22:51",
          "1970-01-01T09:35:18",
          "1970-01-01T09:35:18",
          "1970-01-01T10:16:58",
          "1970-01-01T10:16:58",
          "1970-01-01T10:16:58",
          "1970-01-01T12:29:25",
          "1970-01-01T12:29:25",
          "1970-01-01T13:11:05",
          "1970-01-01T13:11:05",
          "1970-01-01T13:11:05",
          "1970-01-01T15:23:32",
          "1970-01-01T15:23:32",
          "1970-01-01T16:05:12",
          "1970-01-01T16:05:12",
          "1970-01-01T16:05:12",
          "1970-01-01T01:08:44",
          "1970-01-01T01:08:44",
          "1970-01-01T01:50:24",
          "1970-01-01T01:50:24",
          "1970-01-01T01:50:24",
          "1970-01-01T03:48:51",
          "1970-01-01T03:48:51",
          "1970-01-01T04:30:31",
          "1970-01-01T04:30:31",
          "1970-01-01T04:30:31",
          "1970-01-01T06:41:11",
          "1970-01-01T06:41:11",
          "1970-01-01T07:22:51",
          "1970-01-01T07:22:51",
          "1970-01-01T07:22:51",
          "1970-01-01T09:35:18",
          "1970-01-01T09:35:18",
          "1970-01-01T10:16:58",
          "1970-01-01T10:16:58",
          "1970-01-01T10:16:58",
          "1970-01-01T12:29:25",
          "1970-01-01T12:29:25",
          "1970-01-01T13:11:05",
          "1970-01-01T13:11:05",
          "1970-01-01T13:11:05",
          "1970-01-01T15:23:32",
          "1970-01-01T15:23:32",
          "1970-01-01T16:05:12",
          "1970-01-01T16:05:12",
          "1970-01-01T16:05:12"
         ],
         "y": [
          "Barge I",
          "Barge I",
          "Barge I",
          "Barge I",
          null,
          "Barge I",
          "Barge I",
          "Barge I",
          "Barge I",
          null,
          "Barge I",
          "Barge I",
          "Barge I",
          "Barge I",
          null,
          "Barge I",
          "Barge I",
          "Barge I",
          "Barge I",
          null,
          "Barge I",
          "Barge I",
          "Barge I",
          "Barge I",
          null,
          "Barge I",
          "Barge I",
          "Barge I",
          "Barge I",
          null,
          "Cutter T",
          "Cutter T",
          "Cutter T",
          "Cutter T",
          null,
          "Cutter T",
          "Cutter T",
          "Cutter T",
          "Cutter T",
          null,
          "Cutter T",
          "Cutter T",
          "Cutter T",
          "Cutter T",
          null,
          "Cutter T",
          "Cutter T",
          "Cutter T",
          "Cutter T",
          null,
          "Cutter T",
          "Cutter T",
          "Cutter T",
          "Cutter T",
          null,
          "Cutter T",
          "Cutter T",
          "Cutter T",
          "Cutter T",
          null
         ]
        },
        {
         "connectgaps": false,
         "hoverinfo": "y+name",
         "line": {
          "color": "rgb(115,252,249)",
          "width": 10
         },
         "mode": "lines",
         "name": "sailing empty:Barge I",
         "type": "scatter",
         "x": [
          "1970-01-01T00:00:00",
          "1970-01-01T00:00:00",
          "1970-01-01T00:39:29",
          "1970-01-01T00:39:29",
          "1970-01-01T00:39:29",
          "1970-01-01T03:09:22",
          "1970-01-01T03:09:22",
          "1970-01-01T03:48:51",
          "1970-01-01T03:48:51",
          "1970-01-01T03:48:51",
          "1970-01-01T05:49:29",
          "1970-01-01T05:49:29",
          "1970-01-01T06:28:58",
          "1970-01-01T06:28:58",
          "1970-01-01T06:28:58",
          "1970-01-01T08:41:49",
          "1970-01-01T08:41:49",
          "1970-01-01T09:21:18",
          "1970-01-01T09:21:18",
          "1970-01-01T09:21:18",
          "1970-01-01T11:35:56",
          "1970-01-01T11:35:56",
          "1970-01-01T12:15:25",
          "1970-01-01T12:15:25",
          "1970-01-01T12:15:25",
          "1970-01-01T14:30:03",
          "1970-01-01T14:30:03",
          "1970-01-01T15:09:32",
          "1970-01-01T15:09:32",
          "1970-01-01T15:09:32"
         ],
         "y": [
          "Barge I",
          "Barge I",
          "Barge I",
          "Barge I",
          null,
          "Barge I",
          "Barge I",
          "Barge I",
          "Barge I",
          null,
          "Barge I",
          "Barge I",
          "Barge I",
          "Barge I",
          null,
          "Barge I",
          "Barge I",
          "Barge I",
          "Barge I",
          null,
          "Barge I",
          "Barge I",
          "Barge I",
          "Barge I",
          null,
          "Barge I",
          "Barge I",
          "Barge I",
          "Barge I",
          null
         ]
        },
        {
         "connectgaps": false,
         "hoverinfo": "y+name",
         "line": {
          "color": "rgb(127,8,5)",
          "width": 10
         },
         "mode": "lines",
         "name": "unloading:Barge I",
         "type": "scatter",
         "x": [
          "1970-01-01T02:29:53",
          "1970-01-01T02:29:53",
          "1970-01-01T03:09:22",
          "1970-01-01T03:09:22",
          "1970-01-01T03:09:22",
          "1970-01-01T05:10:00",
          "1970-01-01T05:10:00",
          "1970-01-01T05:49:29",
          "1970-01-01T05:49:29",
          "1970-01-01T05:49:29",
          "1970-01-01T08:02:20",
          "1970-01-01T08:02:20",
          "1970-01-01T08:41:49",
          "1970-01-01T08:41:49",
          "1970-01-01T08:41:49",
          "1970-01-01T10:56:27",
          "1970-01-01T10:56:27",
          "1970-01-01T11:35:56",
          "1970-01-01T11:35:56",
          "1970-01-01T11:35:56",
          "1970-01-01T13:50:34",
          "1970-01-01T13:50:34",
          "1970-01-01T14:30:03",
          "1970-01-01T14:30:03",
          "1970-01-01T14:30:03",
          "1970-01-01T16:44:41",
          "1970-01-01T16:44:41",
          "1970-01-01T17:24:10",
          "1970-01-01T17:24:10",
          "1970-01-01T17:24:10"
         ],
         "y": [
          "Barge I",
          "Barge I",
          "Barge I",
          "Barge I",
          null,
          "Barge I",
          "Barge I",
          "Barge I",
          "Barge I",
          null,
          "Barge I",
          "Barge I",
          "Barge I",
          "Barge I",
          null,
          "Barge I",
          "Barge I",
          "Barge I",
          "Barge I",
          null,
          "Barge I",
          "Barge I",
          "Barge I",
          "Barge I",
          null,
          "Barge I",
          "Barge I",
          "Barge I",
          "Barge I",
          null
         ]
        },
        {
         "connectgaps": false,
         "hoverinfo": "y+name",
         "line": {
          "color": "rgb(139,20,17)",
          "width": 10
         },
         "mode": "lines",
         "name": "sailing full:Barge I",
         "type": "scatter",
         "x": [
          "1970-01-01T01:50:24",
          "1970-01-01T01:50:24",
          "1970-01-01T02:29:53",
          "1970-01-01T02:29:53",
          "1970-01-01T02:29:53",
          "1970-01-01T04:30:31",
          "1970-01-01T04:30:31",
          "1970-01-01T05:10:00",
          "1970-01-01T05:10:00",
          "1970-01-01T05:10:00",
          "1970-01-01T07:22:51",
          "1970-01-01T07:22:51",
          "1970-01-01T08:02:20",
          "1970-01-01T08:02:20",
          "1970-01-01T08:02:20",
          "1970-01-01T10:16:58",
          "1970-01-01T10:16:58",
          "1970-01-01T10:56:27",
          "1970-01-01T10:56:27",
          "1970-01-01T10:56:27",
          "1970-01-01T13:11:05",
          "1970-01-01T13:11:05",
          "1970-01-01T13:50:34",
          "1970-01-01T13:50:34",
          "1970-01-01T13:50:34",
          "1970-01-01T16:05:12",
          "1970-01-01T16:05:12",
          "1970-01-01T16:44:41",
          "1970-01-01T16:44:41",
          "1970-01-01T16:44:41"
         ],
         "y": [
          "Barge I",
          "Barge I",
          "Barge I",
          "Barge I",
          null,
          "Barge I",
          "Barge I",
          "Barge I",
          "Barge I",
          null,
          "Barge I",
          "Barge I",
          "Barge I",
          "Barge I",
          null,
          "Barge I",
          "Barge I",
          "Barge I",
          "Barge I",
          null,
          "Barge I",
          "Barge I",
          "Barge I",
          "Barge I",
          null,
          "Barge I",
          "Barge I",
          "Barge I",
          "Barge I",
          null
         ]
        },
        {
         "connectgaps": false,
         "hoverinfo": "y+name",
         "line": {
          "color": "rgb(151,32,29)",
          "width": 10
         },
         "mode": "lines",
         "name": "loading:Barge I",
         "type": "scatter",
         "x": [
          "1970-01-01T01:08:44",
          "1970-01-01T01:08:44",
          "1970-01-01T01:50:24",
          "1970-01-01T01:50:24",
          "1970-01-01T01:50:24",
          "1970-01-01T03:48:51",
          "1970-01-01T03:48:51",
          "1970-01-01T04:30:31",
          "1970-01-01T04:30:31",
          "1970-01-01T04:30:31",
          "1970-01-01T06:41:11",
          "1970-01-01T06:41:11",
          "1970-01-01T07:22:51",
          "1970-01-01T07:22:51",
          "1970-01-01T07:22:51",
          "1970-01-01T09:35:18",
          "1970-01-01T09:35:18",
          "1970-01-01T10:16:58",
          "1970-01-01T10:16:58",
          "1970-01-01T10:16:58",
          "1970-01-01T12:29:25",
          "1970-01-01T12:29:25",
          "1970-01-01T13:11:05",
          "1970-01-01T13:11:05",
          "1970-01-01T13:11:05",
          "1970-01-01T15:23:32",
          "1970-01-01T15:23:32",
          "1970-01-01T16:05:12",
          "1970-01-01T16:05:12",
          "1970-01-01T16:05:12",
          "1970-01-01T01:08:44",
          "1970-01-01T01:08:44",
          "1970-01-01T01:50:24",
          "1970-01-01T01:50:24",
          "1970-01-01T01:50:24",
          "1970-01-01T03:48:51",
          "1970-01-01T03:48:51",
          "1970-01-01T04:30:31",
          "1970-01-01T04:30:31",
          "1970-01-01T04:30:31",
          "1970-01-01T06:41:11",
          "1970-01-01T06:41:11",
          "1970-01-01T07:22:51",
          "1970-01-01T07:22:51",
          "1970-01-01T07:22:51",
          "1970-01-01T09:35:18",
          "1970-01-01T09:35:18",
          "1970-01-01T10:16:58",
          "1970-01-01T10:16:58",
          "1970-01-01T10:16:58",
          "1970-01-01T12:29:25",
          "1970-01-01T12:29:25",
          "1970-01-01T13:11:05",
          "1970-01-01T13:11:05",
          "1970-01-01T13:11:05",
          "1970-01-01T15:23:32",
          "1970-01-01T15:23:32",
          "1970-01-01T16:05:12",
          "1970-01-01T16:05:12",
          "1970-01-01T16:05:12"
         ],
         "y": [
          "Barge I",
          "Barge I",
          "Barge I",
          "Barge I",
          null,
          "Barge I",
          "Barge I",
          "Barge I",
          "Barge I",
          null,
          "Barge I",
          "Barge I",
          "Barge I",
          "Barge I",
          null,
          "Barge I",
          "Barge I",
          "Barge I",
          "Barge I",
          null,
          "Barge I",
          "Barge I",
          "Barge I",
          "Barge I",
          null,
          "Barge I",
          "Barge I",
          "Barge I",
          "Barge I",
          null,
          "Cutter T",
          "Cutter T",
          "Cutter T",
          "Cutter T",
          null,
          "Cutter T",
          "Cutter T",
          "Cutter T",
          "Cutter T",
          null,
          "Cutter T",
          "Cutter T",
          "Cutter T",
          "Cutter T",
          null,
          "Cutter T",
          "Cutter T",
          "Cutter T",
          "Cutter T",
          null,
          "Cutter T",
          "Cutter T",
          "Cutter T",
          "Cutter T",
          null,
          "Cutter T",
          "Cutter T",
          "Cutter T",
          "Cutter T",
          null
         ]
        },
        {
         "connectgaps": false,
         "hoverinfo": "y+name",
         "line": {
          "color": "rgb(163,44,41)",
          "width": 10
         },
         "mode": "lines",
         "name": "loading:Carrier B",
         "type": "scatter",
         "x": [
          "1970-01-01T01:50:24",
          "1970-01-01T01:50:24",
          "1970-01-01T02:32:04",
          "1970-01-01T02:32:04",
          "1970-01-01T02:32:04",
          "1970-01-01T04:32:49",
          "1970-01-01T04:32:49",
          "1970-01-01T05:14:29",
          "1970-01-01T05:14:29",
          "1970-01-01T05:14:29",
          "1970-01-01T07:22:51",
          "1970-01-01T07:22:51",
          "1970-01-01T08:04:31",
          "1970-01-01T08:04:31",
          "1970-01-01T08:04:31",
          "1970-01-01T10:16:58",
          "1970-01-01T10:16:58",
          "1970-01-01T10:58:38",
          "1970-01-01T10:58:38",
          "1970-01-01T10:58:38",
          "1970-01-01T13:11:05",
          "1970-01-01T13:11:05",
          "1970-01-01T13:52:45",
          "1970-01-01T13:52:45",
          "1970-01-01T13:52:45",
          "1970-01-01T01:50:24",
          "1970-01-01T01:50:24",
          "1970-01-01T02:32:04",
          "1970-01-01T02:32:04",
          "1970-01-01T02:32:04",
          "1970-01-01T04:32:49",
          "1970-01-01T04:32:49",
          "1970-01-01T05:14:29",
          "1970-01-01T05:14:29",
          "1970-01-01T05:14:29",
          "1970-01-01T07:22:51",
          "1970-01-01T07:22:51",
          "1970-01-01T08:04:31",
          "1970-01-01T08:04:31",
          "1970-01-01T08:04:31",
          "1970-01-01T10:16:58",
          "1970-01-01T10:16:58",
          "1970-01-01T10:58:38",
          "1970-01-01T10:58:38",
          "1970-01-01T10:58:38",
          "1970-01-01T13:11:05",
          "1970-01-01T13:11:05",
          "1970-01-01T13:52:45",
          "1970-01-01T13:52:45",
          "1970-01-01T13:52:45"
         ],
         "y": [
          "Carrier B",
          "Carrier B",
          "Carrier B",
          "Carrier B",
          null,
          "Carrier B",
          "Carrier B",
          "Carrier B",
          "Carrier B",
          null,
          "Carrier B",
          "Carrier B",
          "Carrier B",
          "Carrier B",
          null,
          "Carrier B",
          "Carrier B",
          "Carrier B",
          "Carrier B",
          null,
          "Carrier B",
          "Carrier B",
          "Carrier B",
          "Carrier B",
          null,
          "Cutter T",
          "Cutter T",
          "Cutter T",
          "Cutter T",
          null,
          "Cutter T",
          "Cutter T",
          "Cutter T",
          "Cutter T",
          null,
          "Cutter T",
          "Cutter T",
          "Cutter T",
          "Cutter T",
          null,
          "Cutter T",
          "Cutter T",
          "Cutter T",
          "Cutter T",
          null,
          "Cutter T",
          "Cutter T",
          "Cutter T",
          "Cutter T",
          null
         ]
        },
        {
         "connectgaps": false,
         "hoverinfo": "y+name",
         "line": {
          "color": "rgb(175,56,53)",
          "width": 10
         },
         "mode": "lines",
         "name": "loading:Carrier C",
         "type": "scatter",
         "x": [
          "1970-01-01T00:35:24",
          "1970-01-01T00:35:24",
          "1970-01-01T01:08:44",
          "1970-01-01T01:08:44",
          "1970-01-01T01:08:44",
          "1970-01-01T03:13:44",
          "1970-01-01T03:13:44",
          "1970-01-01T03:47:04",
          "1970-01-01T03:47:04",
          "1970-01-01T03:47:04",
          "1970-01-01T06:07:51",
          "1970-01-01T06:07:51",
          "1970-01-01T06:41:11",
          "1970-01-01T06:41:11",
          "1970-01-01T06:41:11",
          "1970-01-01T09:01:58",
          "1970-01-01T09:01:58",
          "1970-01-01T09:35:18",
          "1970-01-01T09:35:18",
          "1970-01-01T09:35:18",
          "1970-01-01T11:56:05",
          "1970-01-01T11:56:05",
          "1970-01-01T12:29:25",
          "1970-01-01T12:29:25",
          "1970-01-01T12:29:25",
          "1970-01-01T14:50:12",
          "1970-01-01T14:50:12",
          "1970-01-01T15:23:32",
          "1970-01-01T15:23:32",
          "1970-01-01T15:23:32",
          "1970-01-01T00:35:24",
          "1970-01-01T00:35:24",
          "1970-01-01T01:08:44",
          "1970-01-01T01:08:44",
          "1970-01-01T01:08:44",
          "1970-01-01T03:13:44",
          "1970-01-01T03:13:44",
          "1970-01-01T03:47:04",
          "1970-01-01T03:47:04",
          "1970-01-01T03:47:04",
          "1970-01-01T06:07:51",
          "1970-01-01T06:07:51",
          "1970-01-01T06:41:11",
          "1970-01-01T06:41:11",
          "1970-01-01T06:41:11",
          "1970-01-01T09:01:58",
          "1970-01-01T09:01:58",
          "1970-01-01T09:35:18",
          "1970-01-01T09:35:18",
          "1970-01-01T09:35:18",
          "1970-01-01T11:56:05",
          "1970-01-01T11:56:05",
          "1970-01-01T12:29:25",
          "1970-01-01T12:29:25",
          "1970-01-01T12:29:25",
          "1970-01-01T14:50:12",
          "1970-01-01T14:50:12",
          "1970-01-01T15:23:32",
          "1970-01-01T15:23:32",
          "1970-01-01T15:23:32"
         ],
         "y": [
          "Carrier C",
          "Carrier C",
          "Carrier C",
          "Carrier C",
          null,
          "Carrier C",
          "Carrier C",
          "Carrier C",
          "Carrier C",
          null,
          "Carrier C",
          "Carrier C",
          "Carrier C",
          "Carrier C",
          null,
          "Carrier C",
          "Carrier C",
          "Carrier C",
          "Carrier C",
          null,
          "Carrier C",
          "Carrier C",
          "Carrier C",
          "Carrier C",
          null,
          "Carrier C",
          "Carrier C",
          "Carrier C",
          "Carrier C",
          null,
          "Cutter T",
          "Cutter T",
          "Cutter T",
          "Cutter T",
          null,
          "Cutter T",
          "Cutter T",
          "Cutter T",
          "Cutter T",
          null,
          "Cutter T",
          "Cutter T",
          "Cutter T",
          "Cutter T",
          null,
          "Cutter T",
          "Cutter T",
          "Cutter T",
          "Cutter T",
          null,
          "Cutter T",
          "Cutter T",
          "Cutter T",
          "Cutter T",
          null,
          "Cutter T",
          "Cutter T",
          "Cutter T",
          "Cutter T",
          null
         ]
        },
        {
         "connectgaps": false,
         "hoverinfo": "y+name",
         "line": {
          "color": "rgb(187,68,65)",
          "width": 10
         },
         "mode": "lines",
         "name": "loading:Carrier A",
         "type": "scatter",
         "x": [
          "1970-01-01T02:32:04",
          "1970-01-01T02:32:04",
          "1970-01-01T03:13:44",
          "1970-01-01T03:13:44",
          "1970-01-01T03:13:44",
          "1970-01-01T05:26:11",
          "1970-01-01T05:26:11",
          "1970-01-01T06:07:51",
          "1970-01-01T06:07:51",
          "1970-01-01T06:07:51",
          "1970-01-01T08:20:18",
          "1970-01-01T08:20:18",
          "1970-01-01T09:01:58",
          "1970-01-01T09:01:58",
          "1970-01-01T09:01:58",
          "1970-01-01T11:14:25",
          "1970-01-01T11:14:25",
          "1970-01-01T11:56:05",
          "1970-01-01T11:56:05",
          "1970-01-01T11:56:05",
          "1970-01-01T14:08:32",
          "1970-01-01T14:08:32",
          "1970-01-01T14:50:12",
          "1970-01-01T14:50:12",
          "1970-01-01T14:50:12",
          "1970-01-01T02:32:04",
          "1970-01-01T02:32:04",
          "1970-01-01T03:13:44",
          "1970-01-01T03:13:44",
          "1970-01-01T03:13:44",
          "1970-01-01T05:26:11",
          "1970-01-01T05:26:11",
          "1970-01-01T06:07:51",
          "1970-01-01T06:07:51",
          "1970-01-01T06:07:51",
          "1970-01-01T08:20:18",
          "1970-01-01T08:20:18",
          "1970-01-01T09:01:58",
          "1970-01-01T09:01:58",
          "1970-01-01T09:01:58",
          "1970-01-01T11:14:25",
          "1970-01-01T11:14:25",
          "1970-01-01T11:56:05",
          "1970-01-01T11:56:05",
          "1970-01-01T11:56:05",
          "1970-01-01T14:08:32",
          "1970-01-01T14:08:32",
          "1970-01-01T14:50:12",
          "1970-01-01T14:50:12",
          "1970-01-01T14:50:12"
         ],
         "y": [
          "Carrier A",
          "Carrier A",
          "Carrier A",
          "Carrier A",
          null,
          "Carrier A",
          "Carrier A",
          "Carrier A",
          "Carrier A",
          null,
          "Carrier A",
          "Carrier A",
          "Carrier A",
          "Carrier A",
          null,
          "Carrier A",
          "Carrier A",
          "Carrier A",
          "Carrier A",
          null,
          "Carrier A",
          "Carrier A",
          "Carrier A",
          "Carrier A",
          null,
          "Cutter T",
          "Cutter T",
          "Cutter T",
          "Cutter T",
          null,
          "Cutter T",
          "Cutter T",
          "Cutter T",
          "Cutter T",
          null,
          "Cutter T",
          "Cutter T",
          "Cutter T",
          "Cutter T",
          null,
          "Cutter T",
          "Cutter T",
          "Cutter T",
          "Cutter T",
          null,
          "Cutter T",
          "Cutter T",
          "Cutter T",
          "Cutter T",
          null
         ]
        }
       ],
       "layout": {
        "hovermode": "closest",
        "legend": {
         "orientation": "h",
         "x": 0,
         "y": -0.2
        },
        "template": {
         "data": {
          "bar": [
           {
            "error_x": {
             "color": "#2a3f5f"
            },
            "error_y": {
             "color": "#2a3f5f"
            },
            "marker": {
             "line": {
              "color": "#E5ECF6",
              "width": 0.5
             },
             "pattern": {
              "fillmode": "overlay",
              "size": 10,
              "solidity": 0.2
             }
            },
            "type": "bar"
           }
          ],
          "barpolar": [
           {
            "marker": {
             "line": {
              "color": "#E5ECF6",
              "width": 0.5
             },
             "pattern": {
              "fillmode": "overlay",
              "size": 10,
              "solidity": 0.2
             }
            },
            "type": "barpolar"
           }
          ],
          "carpet": [
           {
            "aaxis": {
             "endlinecolor": "#2a3f5f",
             "gridcolor": "white",
             "linecolor": "white",
             "minorgridcolor": "white",
             "startlinecolor": "#2a3f5f"
            },
            "baxis": {
             "endlinecolor": "#2a3f5f",
             "gridcolor": "white",
             "linecolor": "white",
             "minorgridcolor": "white",
             "startlinecolor": "#2a3f5f"
            },
            "type": "carpet"
           }
          ],
          "choropleth": [
           {
            "colorbar": {
             "outlinewidth": 0,
             "ticks": ""
            },
            "type": "choropleth"
           }
          ],
          "contour": [
           {
            "colorbar": {
             "outlinewidth": 0,
             "ticks": ""
            },
            "colorscale": [
             [
              0,
              "#0d0887"
             ],
             [
              0.1111111111111111,
              "#46039f"
             ],
             [
              0.2222222222222222,
              "#7201a8"
             ],
             [
              0.3333333333333333,
              "#9c179e"
             ],
             [
              0.4444444444444444,
              "#bd3786"
             ],
             [
              0.5555555555555556,
              "#d8576b"
             ],
             [
              0.6666666666666666,
              "#ed7953"
             ],
             [
              0.7777777777777778,
              "#fb9f3a"
             ],
             [
              0.8888888888888888,
              "#fdca26"
             ],
             [
              1,
              "#f0f921"
             ]
            ],
            "type": "contour"
           }
          ],
          "contourcarpet": [
           {
            "colorbar": {
             "outlinewidth": 0,
             "ticks": ""
            },
            "type": "contourcarpet"
           }
          ],
          "heatmap": [
           {
            "colorbar": {
             "outlinewidth": 0,
             "ticks": ""
            },
            "colorscale": [
             [
              0,
              "#0d0887"
             ],
             [
              0.1111111111111111,
              "#46039f"
             ],
             [
              0.2222222222222222,
              "#7201a8"
             ],
             [
              0.3333333333333333,
              "#9c179e"
             ],
             [
              0.4444444444444444,
              "#bd3786"
             ],
             [
              0.5555555555555556,
              "#d8576b"
             ],
             [
              0.6666666666666666,
              "#ed7953"
             ],
             [
              0.7777777777777778,
              "#fb9f3a"
             ],
             [
              0.8888888888888888,
              "#fdca26"
             ],
             [
              1,
              "#f0f921"
             ]
            ],
            "type": "heatmap"
           }
          ],
          "heatmapgl": [
           {
            "colorbar": {
             "outlinewidth": 0,
             "ticks": ""
            },
            "colorscale": [
             [
              0,
              "#0d0887"
             ],
             [
              0.1111111111111111,
              "#46039f"
             ],
             [
              0.2222222222222222,
              "#7201a8"
             ],
             [
              0.3333333333333333,
              "#9c179e"
             ],
             [
              0.4444444444444444,
              "#bd3786"
             ],
             [
              0.5555555555555556,
              "#d8576b"
             ],
             [
              0.6666666666666666,
              "#ed7953"
             ],
             [
              0.7777777777777778,
              "#fb9f3a"
             ],
             [
              0.8888888888888888,
              "#fdca26"
             ],
             [
              1,
              "#f0f921"
             ]
            ],
            "type": "heatmapgl"
           }
          ],
          "histogram": [
           {
            "marker": {
             "pattern": {
              "fillmode": "overlay",
              "size": 10,
              "solidity": 0.2
             }
            },
            "type": "histogram"
           }
          ],
          "histogram2d": [
           {
            "colorbar": {
             "outlinewidth": 0,
             "ticks": ""
            },
            "colorscale": [
             [
              0,
              "#0d0887"
             ],
             [
              0.1111111111111111,
              "#46039f"
             ],
             [
              0.2222222222222222,
              "#7201a8"
             ],
             [
              0.3333333333333333,
              "#9c179e"
             ],
             [
              0.4444444444444444,
              "#bd3786"
             ],
             [
              0.5555555555555556,
              "#d8576b"
             ],
             [
              0.6666666666666666,
              "#ed7953"
             ],
             [
              0.7777777777777778,
              "#fb9f3a"
             ],
             [
              0.8888888888888888,
              "#fdca26"
             ],
             [
              1,
              "#f0f921"
             ]
            ],
            "type": "histogram2d"
           }
          ],
          "histogram2dcontour": [
           {
            "colorbar": {
             "outlinewidth": 0,
             "ticks": ""
            },
            "colorscale": [
             [
              0,
              "#0d0887"
             ],
             [
              0.1111111111111111,
              "#46039f"
             ],
             [
              0.2222222222222222,
              "#7201a8"
             ],
             [
              0.3333333333333333,
              "#9c179e"
             ],
             [
              0.4444444444444444,
              "#bd3786"
             ],
             [
              0.5555555555555556,
              "#d8576b"
             ],
             [
              0.6666666666666666,
              "#ed7953"
             ],
             [
              0.7777777777777778,
              "#fb9f3a"
             ],
             [
              0.8888888888888888,
              "#fdca26"
             ],
             [
              1,
              "#f0f921"
             ]
            ],
            "type": "histogram2dcontour"
           }
          ],
          "mesh3d": [
           {
            "colorbar": {
             "outlinewidth": 0,
             "ticks": ""
            },
            "type": "mesh3d"
           }
          ],
          "parcoords": [
           {
            "line": {
             "colorbar": {
              "outlinewidth": 0,
              "ticks": ""
             }
            },
            "type": "parcoords"
           }
          ],
          "pie": [
           {
            "automargin": true,
            "type": "pie"
           }
          ],
          "scatter": [
           {
            "fillpattern": {
             "fillmode": "overlay",
             "size": 10,
             "solidity": 0.2
            },
            "type": "scatter"
           }
          ],
          "scatter3d": [
           {
            "line": {
             "colorbar": {
              "outlinewidth": 0,
              "ticks": ""
             }
            },
            "marker": {
             "colorbar": {
              "outlinewidth": 0,
              "ticks": ""
             }
            },
            "type": "scatter3d"
           }
          ],
          "scattercarpet": [
           {
            "marker": {
             "colorbar": {
              "outlinewidth": 0,
              "ticks": ""
             }
            },
            "type": "scattercarpet"
           }
          ],
          "scattergeo": [
           {
            "marker": {
             "colorbar": {
              "outlinewidth": 0,
              "ticks": ""
             }
            },
            "type": "scattergeo"
           }
          ],
          "scattergl": [
           {
            "marker": {
             "colorbar": {
              "outlinewidth": 0,
              "ticks": ""
             }
            },
            "type": "scattergl"
           }
          ],
          "scattermapbox": [
           {
            "marker": {
             "colorbar": {
              "outlinewidth": 0,
              "ticks": ""
             }
            },
            "type": "scattermapbox"
           }
          ],
          "scatterpolar": [
           {
            "marker": {
             "colorbar": {
              "outlinewidth": 0,
              "ticks": ""
             }
            },
            "type": "scatterpolar"
           }
          ],
          "scatterpolargl": [
           {
            "marker": {
             "colorbar": {
              "outlinewidth": 0,
              "ticks": ""
             }
            },
            "type": "scatterpolargl"
           }
          ],
          "scatterternary": [
           {
            "marker": {
             "colorbar": {
              "outlinewidth": 0,
              "ticks": ""
             }
            },
            "type": "scatterternary"
           }
          ],
          "surface": [
           {
            "colorbar": {
             "outlinewidth": 0,
             "ticks": ""
            },
            "colorscale": [
             [
              0,
              "#0d0887"
             ],
             [
              0.1111111111111111,
              "#46039f"
             ],
             [
              0.2222222222222222,
              "#7201a8"
             ],
             [
              0.3333333333333333,
              "#9c179e"
             ],
             [
              0.4444444444444444,
              "#bd3786"
             ],
             [
              0.5555555555555556,
              "#d8576b"
             ],
             [
              0.6666666666666666,
              "#ed7953"
             ],
             [
              0.7777777777777778,
              "#fb9f3a"
             ],
             [
              0.8888888888888888,
              "#fdca26"
             ],
             [
              1,
              "#f0f921"
             ]
            ],
            "type": "surface"
           }
          ],
          "table": [
           {
            "cells": {
             "fill": {
              "color": "#EBF0F8"
             },
             "line": {
              "color": "white"
             }
            },
            "header": {
             "fill": {
              "color": "#C8D4E3"
             },
             "line": {
              "color": "white"
             }
            },
            "type": "table"
           }
          ]
         },
         "layout": {
          "annotationdefaults": {
           "arrowcolor": "#2a3f5f",
           "arrowhead": 0,
           "arrowwidth": 1
          },
          "autotypenumbers": "strict",
          "coloraxis": {
           "colorbar": {
            "outlinewidth": 0,
            "ticks": ""
           }
          },
          "colorscale": {
           "diverging": [
            [
             0,
             "#8e0152"
            ],
            [
             0.1,
             "#c51b7d"
            ],
            [
             0.2,
             "#de77ae"
            ],
            [
             0.3,
             "#f1b6da"
            ],
            [
             0.4,
             "#fde0ef"
            ],
            [
             0.5,
             "#f7f7f7"
            ],
            [
             0.6,
             "#e6f5d0"
            ],
            [
             0.7,
             "#b8e186"
            ],
            [
             0.8,
             "#7fbc41"
            ],
            [
             0.9,
             "#4d9221"
            ],
            [
             1,
             "#276419"
            ]
           ],
           "sequential": [
            [
             0,
             "#0d0887"
            ],
            [
             0.1111111111111111,
             "#46039f"
            ],
            [
             0.2222222222222222,
             "#7201a8"
            ],
            [
             0.3333333333333333,
             "#9c179e"
            ],
            [
             0.4444444444444444,
             "#bd3786"
            ],
            [
             0.5555555555555556,
             "#d8576b"
            ],
            [
             0.6666666666666666,
             "#ed7953"
            ],
            [
             0.7777777777777778,
             "#fb9f3a"
            ],
            [
             0.8888888888888888,
             "#fdca26"
            ],
            [
             1,
             "#f0f921"
            ]
           ],
           "sequentialminus": [
            [
             0,
             "#0d0887"
            ],
            [
             0.1111111111111111,
             "#46039f"
            ],
            [
             0.2222222222222222,
             "#7201a8"
            ],
            [
             0.3333333333333333,
             "#9c179e"
            ],
            [
             0.4444444444444444,
             "#bd3786"
            ],
            [
             0.5555555555555556,
             "#d8576b"
            ],
            [
             0.6666666666666666,
             "#ed7953"
            ],
            [
             0.7777777777777778,
             "#fb9f3a"
            ],
            [
             0.8888888888888888,
             "#fdca26"
            ],
            [
             1,
             "#f0f921"
            ]
           ]
          },
          "colorway": [
           "#636efa",
           "#EF553B",
           "#00cc96",
           "#ab63fa",
           "#FFA15A",
           "#19d3f3",
           "#FF6692",
           "#B6E880",
           "#FF97FF",
           "#FECB52"
          ],
          "font": {
           "color": "#2a3f5f"
          },
          "geo": {
           "bgcolor": "white",
           "lakecolor": "white",
           "landcolor": "#E5ECF6",
           "showlakes": true,
           "showland": true,
           "subunitcolor": "white"
          },
          "hoverlabel": {
           "align": "left"
          },
          "hovermode": "closest",
          "mapbox": {
           "style": "light"
          },
          "paper_bgcolor": "white",
          "plot_bgcolor": "#E5ECF6",
          "polar": {
           "angularaxis": {
            "gridcolor": "white",
            "linecolor": "white",
            "ticks": ""
           },
           "bgcolor": "#E5ECF6",
           "radialaxis": {
            "gridcolor": "white",
            "linecolor": "white",
            "ticks": ""
           }
          },
          "scene": {
           "xaxis": {
            "backgroundcolor": "#E5ECF6",
            "gridcolor": "white",
            "gridwidth": 2,
            "linecolor": "white",
            "showbackground": true,
            "ticks": "",
            "zerolinecolor": "white"
           },
           "yaxis": {
            "backgroundcolor": "#E5ECF6",
            "gridcolor": "white",
            "gridwidth": 2,
            "linecolor": "white",
            "showbackground": true,
            "ticks": "",
            "zerolinecolor": "white"
           },
           "zaxis": {
            "backgroundcolor": "#E5ECF6",
            "gridcolor": "white",
            "gridwidth": 2,
            "linecolor": "white",
            "showbackground": true,
            "ticks": "",
            "zerolinecolor": "white"
           }
          },
          "shapedefaults": {
           "line": {
            "color": "#2a3f5f"
           }
          },
          "ternary": {
           "aaxis": {
            "gridcolor": "white",
            "linecolor": "white",
            "ticks": ""
           },
           "baxis": {
            "gridcolor": "white",
            "linecolor": "white",
            "ticks": ""
           },
           "bgcolor": "#E5ECF6",
           "caxis": {
            "gridcolor": "white",
            "linecolor": "white",
            "ticks": ""
           }
          },
          "title": {
           "x": 0.05
          },
          "xaxis": {
           "automargin": true,
           "gridcolor": "white",
           "linecolor": "white",
           "ticks": "",
           "title": {
            "standoff": 15
           },
           "zerolinecolor": "white",
           "zerolinewidth": 2
          },
          "yaxis": {
           "automargin": true,
           "gridcolor": "white",
           "linecolor": "white",
           "ticks": "",
           "title": {
            "standoff": 15
           },
           "zerolinecolor": "white",
           "zerolinewidth": 2
          }
         }
        },
        "title": {
         "text": "GANTT Chart"
        },
        "xaxis": {
         "range": [
          "1970-01-01T00:00:00",
          "1970-01-01T17:24:10"
         ],
         "title": {
          "font": {
           "color": "#7f7f7f",
           "family": "Courier New, monospace",
           "size": 18
          },
          "text": "Time"
         }
        },
        "yaxis": {
         "title": {
          "font": {
           "color": "#7f7f7f",
           "family": "Courier New, monospace",
           "size": 18
          },
          "text": "Activities"
         }
        }
       }
      },
      "text/html": [
       "<div>                            <div id=\"6f2942f6-815c-436b-977a-23a5d590b327\" class=\"plotly-graph-div\" style=\"height:525px; width:100%;\"></div>            <script type=\"text/javascript\">                require([\"plotly\"], function(Plotly) {                    window.PLOTLYENV=window.PLOTLYENV || {};                                    if (document.getElementById(\"6f2942f6-815c-436b-977a-23a5d590b327\")) {                    Plotly.newPlot(                        \"6f2942f6-815c-436b-977a-23a5d590b327\",                        [{\"connectgaps\":false,\"hoverinfo\":\"y+name\",\"line\":{\"color\":\"rgb(215,96,93)\",\"width\":10},\"mode\":\"lines\",\"name\":\"loading:Carrier A\",\"x\":[\"1970-01-01T02:32:04\",\"1970-01-01T02:32:04\",\"1970-01-01T03:13:44\",\"1970-01-01T03:13:44\",\"1970-01-01T03:13:44\",\"1970-01-01T05:26:11\",\"1970-01-01T05:26:11\",\"1970-01-01T06:07:51\",\"1970-01-01T06:07:51\",\"1970-01-01T06:07:51\",\"1970-01-01T08:20:18\",\"1970-01-01T08:20:18\",\"1970-01-01T09:01:58\",\"1970-01-01T09:01:58\",\"1970-01-01T09:01:58\",\"1970-01-01T11:14:25\",\"1970-01-01T11:14:25\",\"1970-01-01T11:56:05\",\"1970-01-01T11:56:05\",\"1970-01-01T11:56:05\",\"1970-01-01T14:08:32\",\"1970-01-01T14:08:32\",\"1970-01-01T14:50:12\",\"1970-01-01T14:50:12\",\"1970-01-01T14:50:12\",\"1970-01-01T02:32:04\",\"1970-01-01T02:32:04\",\"1970-01-01T03:13:44\",\"1970-01-01T03:13:44\",\"1970-01-01T03:13:44\",\"1970-01-01T05:26:11\",\"1970-01-01T05:26:11\",\"1970-01-01T06:07:51\",\"1970-01-01T06:07:51\",\"1970-01-01T06:07:51\",\"1970-01-01T08:20:18\",\"1970-01-01T08:20:18\",\"1970-01-01T09:01:58\",\"1970-01-01T09:01:58\",\"1970-01-01T09:01:58\",\"1970-01-01T11:14:25\",\"1970-01-01T11:14:25\",\"1970-01-01T11:56:05\",\"1970-01-01T11:56:05\",\"1970-01-01T11:56:05\",\"1970-01-01T14:08:32\",\"1970-01-01T14:08:32\",\"1970-01-01T14:50:12\",\"1970-01-01T14:50:12\",\"1970-01-01T14:50:12\"],\"y\":[\"Carrier A\",\"Carrier A\",\"Carrier A\",\"Carrier A\",null,\"Carrier A\",\"Carrier A\",\"Carrier A\",\"Carrier A\",null,\"Carrier A\",\"Carrier A\",\"Carrier A\",\"Carrier A\",null,\"Carrier A\",\"Carrier A\",\"Carrier A\",\"Carrier A\",null,\"Carrier A\",\"Carrier A\",\"Carrier A\",\"Carrier A\",null,\"Cutter T\",\"Cutter T\",\"Cutter T\",\"Cutter T\",null,\"Cutter T\",\"Cutter T\",\"Cutter T\",\"Cutter T\",null,\"Cutter T\",\"Cutter T\",\"Cutter T\",\"Cutter T\",null,\"Cutter T\",\"Cutter T\",\"Cutter T\",\"Cutter T\",null,\"Cutter T\",\"Cutter T\",\"Cutter T\",\"Cutter T\",null],\"type\":\"scatter\"},{\"connectgaps\":false,\"hoverinfo\":\"y+name\",\"line\":{\"color\":\"rgb(227,108,105)\",\"width\":10},\"mode\":\"lines\",\"name\":\"sailing empty:Carrier A\",\"x\":[\"1970-01-01T00:00:00\",\"1970-01-01T00:00:00\",\"1970-01-01T00:44:09\",\"1970-01-01T00:44:09\",\"1970-01-01T00:44:09\",\"1970-01-01T04:42:02\",\"1970-01-01T04:42:02\",\"1970-01-01T05:26:11\",\"1970-01-01T05:26:11\",\"1970-01-01T05:26:11\",\"1970-01-01T07:36:09\",\"1970-01-01T07:36:09\",\"1970-01-01T08:20:18\",\"1970-01-01T08:20:18\",\"1970-01-01T08:20:18\",\"1970-01-01T10:30:16\",\"1970-01-01T10:30:16\",\"1970-01-01T11:14:25\",\"1970-01-01T11:14:25\",\"1970-01-01T11:14:25\",\"1970-01-01T13:24:23\",\"1970-01-01T13:24:23\",\"1970-01-01T14:08:32\",\"1970-01-01T14:08:32\",\"1970-01-01T14:08:32\"],\"y\":[\"Carrier A\",\"Carrier A\",\"Carrier A\",\"Carrier A\",null,\"Carrier A\",\"Carrier A\",\"Carrier A\",\"Carrier A\",null,\"Carrier A\",\"Carrier A\",\"Carrier A\",\"Carrier A\",null,\"Carrier A\",\"Carrier A\",\"Carrier A\",\"Carrier A\",null,\"Carrier A\",\"Carrier A\",\"Carrier A\",\"Carrier A\",null],\"type\":\"scatter\"},{\"connectgaps\":false,\"hoverinfo\":\"y+name\",\"line\":{\"color\":\"rgb(239,120,117)\",\"width\":10},\"mode\":\"lines\",\"name\":\"unloading:Carrier A\",\"x\":[\"1970-01-01T03:57:53\",\"1970-01-01T03:57:53\",\"1970-01-01T04:42:02\",\"1970-01-01T04:42:02\",\"1970-01-01T04:42:02\",\"1970-01-01T06:52:00\",\"1970-01-01T06:52:00\",\"1970-01-01T07:36:09\",\"1970-01-01T07:36:09\",\"1970-01-01T07:36:09\",\"1970-01-01T09:46:07\",\"1970-01-01T09:46:07\",\"1970-01-01T10:30:16\",\"1970-01-01T10:30:16\",\"1970-01-01T10:30:16\",\"1970-01-01T12:40:14\",\"1970-01-01T12:40:14\",\"1970-01-01T13:24:23\",\"1970-01-01T13:24:23\",\"1970-01-01T13:24:23\",\"1970-01-01T15:34:21\",\"1970-01-01T15:34:21\",\"1970-01-01T16:18:30\",\"1970-01-01T16:18:30\",\"1970-01-01T16:18:30\"],\"y\":[\"Carrier A\",\"Carrier A\",\"Carrier A\",\"Carrier A\",null,\"Carrier A\",\"Carrier A\",\"Carrier A\",\"Carrier A\",null,\"Carrier A\",\"Carrier A\",\"Carrier A\",\"Carrier A\",null,\"Carrier A\",\"Carrier A\",\"Carrier A\",\"Carrier A\",null,\"Carrier A\",\"Carrier A\",\"Carrier A\",\"Carrier A\",null],\"type\":\"scatter\"},{\"connectgaps\":false,\"hoverinfo\":\"y+name\",\"line\":{\"color\":\"rgb(251,132,129)\",\"width\":10},\"mode\":\"lines\",\"name\":\"sailing full:Carrier A\",\"x\":[\"1970-01-01T03:13:44\",\"1970-01-01T03:13:44\",\"1970-01-01T03:57:53\",\"1970-01-01T03:57:53\",\"1970-01-01T03:57:53\",\"1970-01-01T06:07:51\",\"1970-01-01T06:07:51\",\"1970-01-01T06:52:00\",\"1970-01-01T06:52:00\",\"1970-01-01T06:52:00\",\"1970-01-01T09:01:58\",\"1970-01-01T09:01:58\",\"1970-01-01T09:46:07\",\"1970-01-01T09:46:07\",\"1970-01-01T09:46:07\",\"1970-01-01T11:56:05\",\"1970-01-01T11:56:05\",\"1970-01-01T12:40:14\",\"1970-01-01T12:40:14\",\"1970-01-01T12:40:14\",\"1970-01-01T14:50:12\",\"1970-01-01T14:50:12\",\"1970-01-01T15:34:21\",\"1970-01-01T15:34:21\",\"1970-01-01T15:34:21\"],\"y\":[\"Carrier A\",\"Carrier A\",\"Carrier A\",\"Carrier A\",null,\"Carrier A\",\"Carrier A\",\"Carrier A\",\"Carrier A\",null,\"Carrier A\",\"Carrier A\",\"Carrier A\",\"Carrier A\",null,\"Carrier A\",\"Carrier A\",\"Carrier A\",\"Carrier A\",null,\"Carrier A\",\"Carrier A\",\"Carrier A\",\"Carrier A\",null],\"type\":\"scatter\"},{\"connectgaps\":false,\"hoverinfo\":\"y+name\",\"line\":{\"color\":\"rgb(7,144,141)\",\"width\":10},\"mode\":\"lines\",\"name\":\"loading:Carrier B\",\"x\":[\"1970-01-01T01:50:24\",\"1970-01-01T01:50:24\",\"1970-01-01T02:32:04\",\"1970-01-01T02:32:04\",\"1970-01-01T02:32:04\",\"1970-01-01T04:32:49\",\"1970-01-01T04:32:49\",\"1970-01-01T05:14:29\",\"1970-01-01T05:14:29\",\"1970-01-01T05:14:29\",\"1970-01-01T07:22:51\",\"1970-01-01T07:22:51\",\"1970-01-01T08:04:31\",\"1970-01-01T08:04:31\",\"1970-01-01T08:04:31\",\"1970-01-01T10:16:58\",\"1970-01-01T10:16:58\",\"1970-01-01T10:58:38\",\"1970-01-01T10:58:38\",\"1970-01-01T10:58:38\",\"1970-01-01T13:11:05\",\"1970-01-01T13:11:05\",\"1970-01-01T13:52:45\",\"1970-01-01T13:52:45\",\"1970-01-01T13:52:45\",\"1970-01-01T01:50:24\",\"1970-01-01T01:50:24\",\"1970-01-01T02:32:04\",\"1970-01-01T02:32:04\",\"1970-01-01T02:32:04\",\"1970-01-01T04:32:49\",\"1970-01-01T04:32:49\",\"1970-01-01T05:14:29\",\"1970-01-01T05:14:29\",\"1970-01-01T05:14:29\",\"1970-01-01T07:22:51\",\"1970-01-01T07:22:51\",\"1970-01-01T08:04:31\",\"1970-01-01T08:04:31\",\"1970-01-01T08:04:31\",\"1970-01-01T10:16:58\",\"1970-01-01T10:16:58\",\"1970-01-01T10:58:38\",\"1970-01-01T10:58:38\",\"1970-01-01T10:58:38\",\"1970-01-01T13:11:05\",\"1970-01-01T13:11:05\",\"1970-01-01T13:52:45\",\"1970-01-01T13:52:45\",\"1970-01-01T13:52:45\"],\"y\":[\"Carrier B\",\"Carrier B\",\"Carrier B\",\"Carrier B\",null,\"Carrier B\",\"Carrier B\",\"Carrier B\",\"Carrier B\",null,\"Carrier B\",\"Carrier B\",\"Carrier B\",\"Carrier B\",null,\"Carrier B\",\"Carrier B\",\"Carrier B\",\"Carrier B\",null,\"Carrier B\",\"Carrier B\",\"Carrier B\",\"Carrier B\",null,\"Cutter T\",\"Cutter T\",\"Cutter T\",\"Cutter T\",null,\"Cutter T\",\"Cutter T\",\"Cutter T\",\"Cutter T\",null,\"Cutter T\",\"Cutter T\",\"Cutter T\",\"Cutter T\",null,\"Cutter T\",\"Cutter T\",\"Cutter T\",\"Cutter T\",null,\"Cutter T\",\"Cutter T\",\"Cutter T\",\"Cutter T\",null],\"type\":\"scatter\"},{\"connectgaps\":false,\"hoverinfo\":\"y+name\",\"line\":{\"color\":\"rgb(19,156,153)\",\"width\":10},\"mode\":\"lines\",\"name\":\"sailing empty:Carrier B\",\"x\":[\"1970-01-01T00:00:00\",\"1970-01-01T00:00:00\",\"1970-01-01T00:40:15\",\"1970-01-01T00:40:15\",\"1970-01-01T00:40:15\",\"1970-01-01T03:52:34\",\"1970-01-01T03:52:34\",\"1970-01-01T04:32:49\",\"1970-01-01T04:32:49\",\"1970-01-01T04:32:49\",\"1970-01-01T06:34:59\",\"1970-01-01T06:34:59\",\"1970-01-01T07:15:14\",\"1970-01-01T07:15:14\",\"1970-01-01T07:15:14\",\"1970-01-01T09:25:01\",\"1970-01-01T09:25:01\",\"1970-01-01T10:05:16\",\"1970-01-01T10:05:16\",\"1970-01-01T10:05:16\",\"1970-01-01T12:19:08\",\"1970-01-01T12:19:08\",\"1970-01-01T12:59:23\",\"1970-01-01T12:59:23\",\"1970-01-01T12:59:23\"],\"y\":[\"Carrier B\",\"Carrier B\",\"Carrier B\",\"Carrier B\",null,\"Carrier B\",\"Carrier B\",\"Carrier B\",\"Carrier B\",null,\"Carrier B\",\"Carrier B\",\"Carrier B\",\"Carrier B\",null,\"Carrier B\",\"Carrier B\",\"Carrier B\",\"Carrier B\",null,\"Carrier B\",\"Carrier B\",\"Carrier B\",\"Carrier B\",null],\"type\":\"scatter\"},{\"connectgaps\":false,\"hoverinfo\":\"y+name\",\"line\":{\"color\":\"rgb(31,168,165)\",\"width\":10},\"mode\":\"lines\",\"name\":\"sailing full:Carrier B\",\"x\":[\"1970-01-01T02:32:04\",\"1970-01-01T02:32:04\",\"1970-01-01T03:12:19\",\"1970-01-01T03:12:19\",\"1970-01-01T03:12:19\",\"1970-01-01T05:14:29\",\"1970-01-01T05:14:29\",\"1970-01-01T05:54:44\",\"1970-01-01T05:54:44\",\"1970-01-01T05:54:44\",\"1970-01-01T08:04:31\",\"1970-01-01T08:04:31\",\"1970-01-01T08:44:46\",\"1970-01-01T08:44:46\",\"1970-01-01T08:44:46\",\"1970-01-01T10:58:38\",\"1970-01-01T10:58:38\",\"1970-01-01T11:38:53\",\"1970-01-01T11:38:53\",\"1970-01-01T11:38:53\",\"1970-01-01T13:52:45\",\"1970-01-01T13:52:45\",\"1970-01-01T14:33:00\",\"1970-01-01T14:33:00\",\"1970-01-01T14:33:00\"],\"y\":[\"Carrier B\",\"Carrier B\",\"Carrier B\",\"Carrier B\",null,\"Carrier B\",\"Carrier B\",\"Carrier B\",\"Carrier B\",null,\"Carrier B\",\"Carrier B\",\"Carrier B\",\"Carrier B\",null,\"Carrier B\",\"Carrier B\",\"Carrier B\",\"Carrier B\",null,\"Carrier B\",\"Carrier B\",\"Carrier B\",\"Carrier B\",null],\"type\":\"scatter\"},{\"connectgaps\":false,\"hoverinfo\":\"y+name\",\"line\":{\"color\":\"rgb(43,180,177)\",\"width\":10},\"mode\":\"lines\",\"name\":\"unloading:Carrier B\",\"x\":[\"1970-01-01T03:12:19\",\"1970-01-01T03:12:19\",\"1970-01-01T03:52:34\",\"1970-01-01T03:52:34\",\"1970-01-01T03:52:34\",\"1970-01-01T05:54:44\",\"1970-01-01T05:54:44\",\"1970-01-01T06:34:59\",\"1970-01-01T06:34:59\",\"1970-01-01T06:34:59\",\"1970-01-01T08:44:46\",\"1970-01-01T08:44:46\",\"1970-01-01T09:25:01\",\"1970-01-01T09:25:01\",\"1970-01-01T09:25:01\",\"1970-01-01T11:38:53\",\"1970-01-01T11:38:53\",\"1970-01-01T12:19:08\",\"1970-01-01T12:19:08\",\"1970-01-01T12:19:08\",\"1970-01-01T14:33:00\",\"1970-01-01T14:33:00\",\"1970-01-01T15:13:15\",\"1970-01-01T15:13:15\",\"1970-01-01T15:13:15\"],\"y\":[\"Carrier B\",\"Carrier B\",\"Carrier B\",\"Carrier B\",null,\"Carrier B\",\"Carrier B\",\"Carrier B\",\"Carrier B\",null,\"Carrier B\",\"Carrier B\",\"Carrier B\",\"Carrier B\",null,\"Carrier B\",\"Carrier B\",\"Carrier B\",\"Carrier B\",null,\"Carrier B\",\"Carrier B\",\"Carrier B\",\"Carrier B\",null],\"type\":\"scatter\"},{\"connectgaps\":false,\"hoverinfo\":\"y+name\",\"line\":{\"color\":\"rgb(55,192,189)\",\"width\":10},\"mode\":\"lines\",\"name\":\"unloading:Carrier C\",\"x\":[\"1970-01-01T01:44:08\",\"1970-01-01T01:44:08\",\"1970-01-01T02:19:32\",\"1970-01-01T02:19:32\",\"1970-01-01T02:19:32\",\"1970-01-01T04:22:28\",\"1970-01-01T04:22:28\",\"1970-01-01T04:57:52\",\"1970-01-01T04:57:52\",\"1970-01-01T04:57:52\",\"1970-01-01T07:16:35\",\"1970-01-01T07:16:35\",\"1970-01-01T07:51:59\",\"1970-01-01T07:51:59\",\"1970-01-01T07:51:59\",\"1970-01-01T10:10:42\",\"1970-01-01T10:10:42\",\"1970-01-01T10:46:06\",\"1970-01-01T10:46:06\",\"1970-01-01T10:46:06\",\"1970-01-01T13:04:49\",\"1970-01-01T13:04:49\",\"1970-01-01T13:40:13\",\"1970-01-01T13:40:13\",\"1970-01-01T13:40:13\",\"1970-01-01T15:58:56\",\"1970-01-01T15:58:56\",\"1970-01-01T16:34:20\",\"1970-01-01T16:34:20\",\"1970-01-01T16:34:20\"],\"y\":[\"Carrier C\",\"Carrier C\",\"Carrier C\",\"Carrier C\",null,\"Carrier C\",\"Carrier C\",\"Carrier C\",\"Carrier C\",null,\"Carrier C\",\"Carrier C\",\"Carrier C\",\"Carrier C\",null,\"Carrier C\",\"Carrier C\",\"Carrier C\",\"Carrier C\",null,\"Carrier C\",\"Carrier C\",\"Carrier C\",\"Carrier C\",null,\"Carrier C\",\"Carrier C\",\"Carrier C\",\"Carrier C\",null],\"type\":\"scatter\"},{\"connectgaps\":false,\"hoverinfo\":\"y+name\",\"line\":{\"color\":\"rgb(67,204,201)\",\"width\":10},\"mode\":\"lines\",\"name\":\"loading:Carrier C\",\"x\":[\"1970-01-01T00:35:24\",\"1970-01-01T00:35:24\",\"1970-01-01T01:08:44\",\"1970-01-01T01:08:44\",\"1970-01-01T01:08:44\",\"1970-01-01T03:13:44\",\"1970-01-01T03:13:44\",\"1970-01-01T03:47:04\",\"1970-01-01T03:47:04\",\"1970-01-01T03:47:04\",\"1970-01-01T06:07:51\",\"1970-01-01T06:07:51\",\"1970-01-01T06:41:11\",\"1970-01-01T06:41:11\",\"1970-01-01T06:41:11\",\"1970-01-01T09:01:58\",\"1970-01-01T09:01:58\",\"1970-01-01T09:35:18\",\"1970-01-01T09:35:18\",\"1970-01-01T09:35:18\",\"1970-01-01T11:56:05\",\"1970-01-01T11:56:05\",\"1970-01-01T12:29:25\",\"1970-01-01T12:29:25\",\"1970-01-01T12:29:25\",\"1970-01-01T14:50:12\",\"1970-01-01T14:50:12\",\"1970-01-01T15:23:32\",\"1970-01-01T15:23:32\",\"1970-01-01T15:23:32\",\"1970-01-01T00:35:24\",\"1970-01-01T00:35:24\",\"1970-01-01T01:08:44\",\"1970-01-01T01:08:44\",\"1970-01-01T01:08:44\",\"1970-01-01T03:13:44\",\"1970-01-01T03:13:44\",\"1970-01-01T03:47:04\",\"1970-01-01T03:47:04\",\"1970-01-01T03:47:04\",\"1970-01-01T06:07:51\",\"1970-01-01T06:07:51\",\"1970-01-01T06:41:11\",\"1970-01-01T06:41:11\",\"1970-01-01T06:41:11\",\"1970-01-01T09:01:58\",\"1970-01-01T09:01:58\",\"1970-01-01T09:35:18\",\"1970-01-01T09:35:18\",\"1970-01-01T09:35:18\",\"1970-01-01T11:56:05\",\"1970-01-01T11:56:05\",\"1970-01-01T12:29:25\",\"1970-01-01T12:29:25\",\"1970-01-01T12:29:25\",\"1970-01-01T14:50:12\",\"1970-01-01T14:50:12\",\"1970-01-01T15:23:32\",\"1970-01-01T15:23:32\",\"1970-01-01T15:23:32\"],\"y\":[\"Carrier C\",\"Carrier C\",\"Carrier C\",\"Carrier C\",null,\"Carrier C\",\"Carrier C\",\"Carrier C\",\"Carrier C\",null,\"Carrier C\",\"Carrier C\",\"Carrier C\",\"Carrier C\",null,\"Carrier C\",\"Carrier C\",\"Carrier C\",\"Carrier C\",null,\"Carrier C\",\"Carrier C\",\"Carrier C\",\"Carrier C\",null,\"Carrier C\",\"Carrier C\",\"Carrier C\",\"Carrier C\",null,\"Cutter T\",\"Cutter T\",\"Cutter T\",\"Cutter T\",null,\"Cutter T\",\"Cutter T\",\"Cutter T\",\"Cutter T\",null,\"Cutter T\",\"Cutter T\",\"Cutter T\",\"Cutter T\",null,\"Cutter T\",\"Cutter T\",\"Cutter T\",\"Cutter T\",null,\"Cutter T\",\"Cutter T\",\"Cutter T\",\"Cutter T\",null,\"Cutter T\",\"Cutter T\",\"Cutter T\",\"Cutter T\",null],\"type\":\"scatter\"},{\"connectgaps\":false,\"hoverinfo\":\"y+name\",\"line\":{\"color\":\"rgb(79,216,213)\",\"width\":10},\"mode\":\"lines\",\"name\":\"sailing empty:Carrier C\",\"x\":[\"1970-01-01T00:00:00\",\"1970-01-01T00:00:00\",\"1970-01-01T00:35:24\",\"1970-01-01T00:35:24\",\"1970-01-01T00:35:24\",\"1970-01-01T02:19:32\",\"1970-01-01T02:19:32\",\"1970-01-01T02:54:56\",\"1970-01-01T02:54:56\",\"1970-01-01T02:54:56\",\"1970-01-01T04:57:52\",\"1970-01-01T04:57:52\",\"1970-01-01T05:33:16\",\"1970-01-01T05:33:16\",\"1970-01-01T05:33:16\",\"1970-01-01T07:51:59\",\"1970-01-01T07:51:59\",\"1970-01-01T08:27:23\",\"1970-01-01T08:27:23\",\"1970-01-01T08:27:23\",\"1970-01-01T10:46:06\",\"1970-01-01T10:46:06\",\"1970-01-01T11:21:30\",\"1970-01-01T11:21:30\",\"1970-01-01T11:21:30\",\"1970-01-01T13:40:13\",\"1970-01-01T13:40:13\",\"1970-01-01T14:15:37\",\"1970-01-01T14:15:37\",\"1970-01-01T14:15:37\"],\"y\":[\"Carrier C\",\"Carrier C\",\"Carrier C\",\"Carrier C\",null,\"Carrier C\",\"Carrier C\",\"Carrier C\",\"Carrier C\",null,\"Carrier C\",\"Carrier C\",\"Carrier C\",\"Carrier C\",null,\"Carrier C\",\"Carrier C\",\"Carrier C\",\"Carrier C\",null,\"Carrier C\",\"Carrier C\",\"Carrier C\",\"Carrier C\",null,\"Carrier C\",\"Carrier C\",\"Carrier C\",\"Carrier C\",null],\"type\":\"scatter\"},{\"connectgaps\":false,\"hoverinfo\":\"y+name\",\"line\":{\"color\":\"rgb(91,228,225)\",\"width\":10},\"mode\":\"lines\",\"name\":\"sailing full:Carrier C\",\"x\":[\"1970-01-01T01:08:44\",\"1970-01-01T01:08:44\",\"1970-01-01T01:44:08\",\"1970-01-01T01:44:08\",\"1970-01-01T01:44:08\",\"1970-01-01T03:47:04\",\"1970-01-01T03:47:04\",\"1970-01-01T04:22:28\",\"1970-01-01T04:22:28\",\"1970-01-01T04:22:28\",\"1970-01-01T06:41:11\",\"1970-01-01T06:41:11\",\"1970-01-01T07:16:35\",\"1970-01-01T07:16:35\",\"1970-01-01T07:16:35\",\"1970-01-01T09:35:18\",\"1970-01-01T09:35:18\",\"1970-01-01T10:10:42\",\"1970-01-01T10:10:42\",\"1970-01-01T10:10:42\",\"1970-01-01T12:29:25\",\"1970-01-01T12:29:25\",\"1970-01-01T13:04:49\",\"1970-01-01T13:04:49\",\"1970-01-01T13:04:49\",\"1970-01-01T15:23:32\",\"1970-01-01T15:23:32\",\"1970-01-01T15:58:56\",\"1970-01-01T15:58:56\",\"1970-01-01T15:58:56\"],\"y\":[\"Carrier C\",\"Carrier C\",\"Carrier C\",\"Carrier C\",null,\"Carrier C\",\"Carrier C\",\"Carrier C\",\"Carrier C\",null,\"Carrier C\",\"Carrier C\",\"Carrier C\",\"Carrier C\",null,\"Carrier C\",\"Carrier C\",\"Carrier C\",\"Carrier C\",null,\"Carrier C\",\"Carrier C\",\"Carrier C\",\"Carrier C\",null,\"Carrier C\",\"Carrier C\",\"Carrier C\",\"Carrier C\",null],\"type\":\"scatter\"},{\"connectgaps\":false,\"hoverinfo\":\"y+name\",\"line\":{\"color\":\"rgb(103,240,237)\",\"width\":10},\"mode\":\"lines\",\"name\":\"loading:Barge I\",\"x\":[\"1970-01-01T01:08:44\",\"1970-01-01T01:08:44\",\"1970-01-01T01:50:24\",\"1970-01-01T01:50:24\",\"1970-01-01T01:50:24\",\"1970-01-01T03:48:51\",\"1970-01-01T03:48:51\",\"1970-01-01T04:30:31\",\"1970-01-01T04:30:31\",\"1970-01-01T04:30:31\",\"1970-01-01T06:41:11\",\"1970-01-01T06:41:11\",\"1970-01-01T07:22:51\",\"1970-01-01T07:22:51\",\"1970-01-01T07:22:51\",\"1970-01-01T09:35:18\",\"1970-01-01T09:35:18\",\"1970-01-01T10:16:58\",\"1970-01-01T10:16:58\",\"1970-01-01T10:16:58\",\"1970-01-01T12:29:25\",\"1970-01-01T12:29:25\",\"1970-01-01T13:11:05\",\"1970-01-01T13:11:05\",\"1970-01-01T13:11:05\",\"1970-01-01T15:23:32\",\"1970-01-01T15:23:32\",\"1970-01-01T16:05:12\",\"1970-01-01T16:05:12\",\"1970-01-01T16:05:12\",\"1970-01-01T01:08:44\",\"1970-01-01T01:08:44\",\"1970-01-01T01:50:24\",\"1970-01-01T01:50:24\",\"1970-01-01T01:50:24\",\"1970-01-01T03:48:51\",\"1970-01-01T03:48:51\",\"1970-01-01T04:30:31\",\"1970-01-01T04:30:31\",\"1970-01-01T04:30:31\",\"1970-01-01T06:41:11\",\"1970-01-01T06:41:11\",\"1970-01-01T07:22:51\",\"1970-01-01T07:22:51\",\"1970-01-01T07:22:51\",\"1970-01-01T09:35:18\",\"1970-01-01T09:35:18\",\"1970-01-01T10:16:58\",\"1970-01-01T10:16:58\",\"1970-01-01T10:16:58\",\"1970-01-01T12:29:25\",\"1970-01-01T12:29:25\",\"1970-01-01T13:11:05\",\"1970-01-01T13:11:05\",\"1970-01-01T13:11:05\",\"1970-01-01T15:23:32\",\"1970-01-01T15:23:32\",\"1970-01-01T16:05:12\",\"1970-01-01T16:05:12\",\"1970-01-01T16:05:12\"],\"y\":[\"Barge I\",\"Barge I\",\"Barge I\",\"Barge I\",null,\"Barge I\",\"Barge I\",\"Barge I\",\"Barge I\",null,\"Barge I\",\"Barge I\",\"Barge I\",\"Barge I\",null,\"Barge I\",\"Barge I\",\"Barge I\",\"Barge I\",null,\"Barge I\",\"Barge I\",\"Barge I\",\"Barge I\",null,\"Barge I\",\"Barge I\",\"Barge I\",\"Barge I\",null,\"Cutter T\",\"Cutter T\",\"Cutter T\",\"Cutter T\",null,\"Cutter T\",\"Cutter T\",\"Cutter T\",\"Cutter T\",null,\"Cutter T\",\"Cutter T\",\"Cutter T\",\"Cutter T\",null,\"Cutter T\",\"Cutter T\",\"Cutter T\",\"Cutter T\",null,\"Cutter T\",\"Cutter T\",\"Cutter T\",\"Cutter T\",null,\"Cutter T\",\"Cutter T\",\"Cutter T\",\"Cutter T\",null],\"type\":\"scatter\"},{\"connectgaps\":false,\"hoverinfo\":\"y+name\",\"line\":{\"color\":\"rgb(115,252,249)\",\"width\":10},\"mode\":\"lines\",\"name\":\"sailing empty:Barge I\",\"x\":[\"1970-01-01T00:00:00\",\"1970-01-01T00:00:00\",\"1970-01-01T00:39:29\",\"1970-01-01T00:39:29\",\"1970-01-01T00:39:29\",\"1970-01-01T03:09:22\",\"1970-01-01T03:09:22\",\"1970-01-01T03:48:51\",\"1970-01-01T03:48:51\",\"1970-01-01T03:48:51\",\"1970-01-01T05:49:29\",\"1970-01-01T05:49:29\",\"1970-01-01T06:28:58\",\"1970-01-01T06:28:58\",\"1970-01-01T06:28:58\",\"1970-01-01T08:41:49\",\"1970-01-01T08:41:49\",\"1970-01-01T09:21:18\",\"1970-01-01T09:21:18\",\"1970-01-01T09:21:18\",\"1970-01-01T11:35:56\",\"1970-01-01T11:35:56\",\"1970-01-01T12:15:25\",\"1970-01-01T12:15:25\",\"1970-01-01T12:15:25\",\"1970-01-01T14:30:03\",\"1970-01-01T14:30:03\",\"1970-01-01T15:09:32\",\"1970-01-01T15:09:32\",\"1970-01-01T15:09:32\"],\"y\":[\"Barge I\",\"Barge I\",\"Barge I\",\"Barge I\",null,\"Barge I\",\"Barge I\",\"Barge I\",\"Barge I\",null,\"Barge I\",\"Barge I\",\"Barge I\",\"Barge I\",null,\"Barge I\",\"Barge I\",\"Barge I\",\"Barge I\",null,\"Barge I\",\"Barge I\",\"Barge I\",\"Barge I\",null,\"Barge I\",\"Barge I\",\"Barge I\",\"Barge I\",null],\"type\":\"scatter\"},{\"connectgaps\":false,\"hoverinfo\":\"y+name\",\"line\":{\"color\":\"rgb(127,8,5)\",\"width\":10},\"mode\":\"lines\",\"name\":\"unloading:Barge I\",\"x\":[\"1970-01-01T02:29:53\",\"1970-01-01T02:29:53\",\"1970-01-01T03:09:22\",\"1970-01-01T03:09:22\",\"1970-01-01T03:09:22\",\"1970-01-01T05:10:00\",\"1970-01-01T05:10:00\",\"1970-01-01T05:49:29\",\"1970-01-01T05:49:29\",\"1970-01-01T05:49:29\",\"1970-01-01T08:02:20\",\"1970-01-01T08:02:20\",\"1970-01-01T08:41:49\",\"1970-01-01T08:41:49\",\"1970-01-01T08:41:49\",\"1970-01-01T10:56:27\",\"1970-01-01T10:56:27\",\"1970-01-01T11:35:56\",\"1970-01-01T11:35:56\",\"1970-01-01T11:35:56\",\"1970-01-01T13:50:34\",\"1970-01-01T13:50:34\",\"1970-01-01T14:30:03\",\"1970-01-01T14:30:03\",\"1970-01-01T14:30:03\",\"1970-01-01T16:44:41\",\"1970-01-01T16:44:41\",\"1970-01-01T17:24:10\",\"1970-01-01T17:24:10\",\"1970-01-01T17:24:10\"],\"y\":[\"Barge I\",\"Barge I\",\"Barge I\",\"Barge I\",null,\"Barge I\",\"Barge I\",\"Barge I\",\"Barge I\",null,\"Barge I\",\"Barge I\",\"Barge I\",\"Barge I\",null,\"Barge I\",\"Barge I\",\"Barge I\",\"Barge I\",null,\"Barge I\",\"Barge I\",\"Barge I\",\"Barge I\",null,\"Barge I\",\"Barge I\",\"Barge I\",\"Barge I\",null],\"type\":\"scatter\"},{\"connectgaps\":false,\"hoverinfo\":\"y+name\",\"line\":{\"color\":\"rgb(139,20,17)\",\"width\":10},\"mode\":\"lines\",\"name\":\"sailing full:Barge I\",\"x\":[\"1970-01-01T01:50:24\",\"1970-01-01T01:50:24\",\"1970-01-01T02:29:53\",\"1970-01-01T02:29:53\",\"1970-01-01T02:29:53\",\"1970-01-01T04:30:31\",\"1970-01-01T04:30:31\",\"1970-01-01T05:10:00\",\"1970-01-01T05:10:00\",\"1970-01-01T05:10:00\",\"1970-01-01T07:22:51\",\"1970-01-01T07:22:51\",\"1970-01-01T08:02:20\",\"1970-01-01T08:02:20\",\"1970-01-01T08:02:20\",\"1970-01-01T10:16:58\",\"1970-01-01T10:16:58\",\"1970-01-01T10:56:27\",\"1970-01-01T10:56:27\",\"1970-01-01T10:56:27\",\"1970-01-01T13:11:05\",\"1970-01-01T13:11:05\",\"1970-01-01T13:50:34\",\"1970-01-01T13:50:34\",\"1970-01-01T13:50:34\",\"1970-01-01T16:05:12\",\"1970-01-01T16:05:12\",\"1970-01-01T16:44:41\",\"1970-01-01T16:44:41\",\"1970-01-01T16:44:41\"],\"y\":[\"Barge I\",\"Barge I\",\"Barge I\",\"Barge I\",null,\"Barge I\",\"Barge I\",\"Barge I\",\"Barge I\",null,\"Barge I\",\"Barge I\",\"Barge I\",\"Barge I\",null,\"Barge I\",\"Barge I\",\"Barge I\",\"Barge I\",null,\"Barge I\",\"Barge I\",\"Barge I\",\"Barge I\",null,\"Barge I\",\"Barge I\",\"Barge I\",\"Barge I\",null],\"type\":\"scatter\"},{\"connectgaps\":false,\"hoverinfo\":\"y+name\",\"line\":{\"color\":\"rgb(151,32,29)\",\"width\":10},\"mode\":\"lines\",\"name\":\"loading:Barge I\",\"x\":[\"1970-01-01T01:08:44\",\"1970-01-01T01:08:44\",\"1970-01-01T01:50:24\",\"1970-01-01T01:50:24\",\"1970-01-01T01:50:24\",\"1970-01-01T03:48:51\",\"1970-01-01T03:48:51\",\"1970-01-01T04:30:31\",\"1970-01-01T04:30:31\",\"1970-01-01T04:30:31\",\"1970-01-01T06:41:11\",\"1970-01-01T06:41:11\",\"1970-01-01T07:22:51\",\"1970-01-01T07:22:51\",\"1970-01-01T07:22:51\",\"1970-01-01T09:35:18\",\"1970-01-01T09:35:18\",\"1970-01-01T10:16:58\",\"1970-01-01T10:16:58\",\"1970-01-01T10:16:58\",\"1970-01-01T12:29:25\",\"1970-01-01T12:29:25\",\"1970-01-01T13:11:05\",\"1970-01-01T13:11:05\",\"1970-01-01T13:11:05\",\"1970-01-01T15:23:32\",\"1970-01-01T15:23:32\",\"1970-01-01T16:05:12\",\"1970-01-01T16:05:12\",\"1970-01-01T16:05:12\",\"1970-01-01T01:08:44\",\"1970-01-01T01:08:44\",\"1970-01-01T01:50:24\",\"1970-01-01T01:50:24\",\"1970-01-01T01:50:24\",\"1970-01-01T03:48:51\",\"1970-01-01T03:48:51\",\"1970-01-01T04:30:31\",\"1970-01-01T04:30:31\",\"1970-01-01T04:30:31\",\"1970-01-01T06:41:11\",\"1970-01-01T06:41:11\",\"1970-01-01T07:22:51\",\"1970-01-01T07:22:51\",\"1970-01-01T07:22:51\",\"1970-01-01T09:35:18\",\"1970-01-01T09:35:18\",\"1970-01-01T10:16:58\",\"1970-01-01T10:16:58\",\"1970-01-01T10:16:58\",\"1970-01-01T12:29:25\",\"1970-01-01T12:29:25\",\"1970-01-01T13:11:05\",\"1970-01-01T13:11:05\",\"1970-01-01T13:11:05\",\"1970-01-01T15:23:32\",\"1970-01-01T15:23:32\",\"1970-01-01T16:05:12\",\"1970-01-01T16:05:12\",\"1970-01-01T16:05:12\"],\"y\":[\"Barge I\",\"Barge I\",\"Barge I\",\"Barge I\",null,\"Barge I\",\"Barge I\",\"Barge I\",\"Barge I\",null,\"Barge I\",\"Barge I\",\"Barge I\",\"Barge I\",null,\"Barge I\",\"Barge I\",\"Barge I\",\"Barge I\",null,\"Barge I\",\"Barge I\",\"Barge I\",\"Barge I\",null,\"Barge I\",\"Barge I\",\"Barge I\",\"Barge I\",null,\"Cutter T\",\"Cutter T\",\"Cutter T\",\"Cutter T\",null,\"Cutter T\",\"Cutter T\",\"Cutter T\",\"Cutter T\",null,\"Cutter T\",\"Cutter T\",\"Cutter T\",\"Cutter T\",null,\"Cutter T\",\"Cutter T\",\"Cutter T\",\"Cutter T\",null,\"Cutter T\",\"Cutter T\",\"Cutter T\",\"Cutter T\",null,\"Cutter T\",\"Cutter T\",\"Cutter T\",\"Cutter T\",null],\"type\":\"scatter\"},{\"connectgaps\":false,\"hoverinfo\":\"y+name\",\"line\":{\"color\":\"rgb(163,44,41)\",\"width\":10},\"mode\":\"lines\",\"name\":\"loading:Carrier B\",\"x\":[\"1970-01-01T01:50:24\",\"1970-01-01T01:50:24\",\"1970-01-01T02:32:04\",\"1970-01-01T02:32:04\",\"1970-01-01T02:32:04\",\"1970-01-01T04:32:49\",\"1970-01-01T04:32:49\",\"1970-01-01T05:14:29\",\"1970-01-01T05:14:29\",\"1970-01-01T05:14:29\",\"1970-01-01T07:22:51\",\"1970-01-01T07:22:51\",\"1970-01-01T08:04:31\",\"1970-01-01T08:04:31\",\"1970-01-01T08:04:31\",\"1970-01-01T10:16:58\",\"1970-01-01T10:16:58\",\"1970-01-01T10:58:38\",\"1970-01-01T10:58:38\",\"1970-01-01T10:58:38\",\"1970-01-01T13:11:05\",\"1970-01-01T13:11:05\",\"1970-01-01T13:52:45\",\"1970-01-01T13:52:45\",\"1970-01-01T13:52:45\",\"1970-01-01T01:50:24\",\"1970-01-01T01:50:24\",\"1970-01-01T02:32:04\",\"1970-01-01T02:32:04\",\"1970-01-01T02:32:04\",\"1970-01-01T04:32:49\",\"1970-01-01T04:32:49\",\"1970-01-01T05:14:29\",\"1970-01-01T05:14:29\",\"1970-01-01T05:14:29\",\"1970-01-01T07:22:51\",\"1970-01-01T07:22:51\",\"1970-01-01T08:04:31\",\"1970-01-01T08:04:31\",\"1970-01-01T08:04:31\",\"1970-01-01T10:16:58\",\"1970-01-01T10:16:58\",\"1970-01-01T10:58:38\",\"1970-01-01T10:58:38\",\"1970-01-01T10:58:38\",\"1970-01-01T13:11:05\",\"1970-01-01T13:11:05\",\"1970-01-01T13:52:45\",\"1970-01-01T13:52:45\",\"1970-01-01T13:52:45\"],\"y\":[\"Carrier B\",\"Carrier B\",\"Carrier B\",\"Carrier B\",null,\"Carrier B\",\"Carrier B\",\"Carrier B\",\"Carrier B\",null,\"Carrier B\",\"Carrier B\",\"Carrier B\",\"Carrier B\",null,\"Carrier B\",\"Carrier B\",\"Carrier B\",\"Carrier B\",null,\"Carrier B\",\"Carrier B\",\"Carrier B\",\"Carrier B\",null,\"Cutter T\",\"Cutter T\",\"Cutter T\",\"Cutter T\",null,\"Cutter T\",\"Cutter T\",\"Cutter T\",\"Cutter T\",null,\"Cutter T\",\"Cutter T\",\"Cutter T\",\"Cutter T\",null,\"Cutter T\",\"Cutter T\",\"Cutter T\",\"Cutter T\",null,\"Cutter T\",\"Cutter T\",\"Cutter T\",\"Cutter T\",null],\"type\":\"scatter\"},{\"connectgaps\":false,\"hoverinfo\":\"y+name\",\"line\":{\"color\":\"rgb(175,56,53)\",\"width\":10},\"mode\":\"lines\",\"name\":\"loading:Carrier C\",\"x\":[\"1970-01-01T00:35:24\",\"1970-01-01T00:35:24\",\"1970-01-01T01:08:44\",\"1970-01-01T01:08:44\",\"1970-01-01T01:08:44\",\"1970-01-01T03:13:44\",\"1970-01-01T03:13:44\",\"1970-01-01T03:47:04\",\"1970-01-01T03:47:04\",\"1970-01-01T03:47:04\",\"1970-01-01T06:07:51\",\"1970-01-01T06:07:51\",\"1970-01-01T06:41:11\",\"1970-01-01T06:41:11\",\"1970-01-01T06:41:11\",\"1970-01-01T09:01:58\",\"1970-01-01T09:01:58\",\"1970-01-01T09:35:18\",\"1970-01-01T09:35:18\",\"1970-01-01T09:35:18\",\"1970-01-01T11:56:05\",\"1970-01-01T11:56:05\",\"1970-01-01T12:29:25\",\"1970-01-01T12:29:25\",\"1970-01-01T12:29:25\",\"1970-01-01T14:50:12\",\"1970-01-01T14:50:12\",\"1970-01-01T15:23:32\",\"1970-01-01T15:23:32\",\"1970-01-01T15:23:32\",\"1970-01-01T00:35:24\",\"1970-01-01T00:35:24\",\"1970-01-01T01:08:44\",\"1970-01-01T01:08:44\",\"1970-01-01T01:08:44\",\"1970-01-01T03:13:44\",\"1970-01-01T03:13:44\",\"1970-01-01T03:47:04\",\"1970-01-01T03:47:04\",\"1970-01-01T03:47:04\",\"1970-01-01T06:07:51\",\"1970-01-01T06:07:51\",\"1970-01-01T06:41:11\",\"1970-01-01T06:41:11\",\"1970-01-01T06:41:11\",\"1970-01-01T09:01:58\",\"1970-01-01T09:01:58\",\"1970-01-01T09:35:18\",\"1970-01-01T09:35:18\",\"1970-01-01T09:35:18\",\"1970-01-01T11:56:05\",\"1970-01-01T11:56:05\",\"1970-01-01T12:29:25\",\"1970-01-01T12:29:25\",\"1970-01-01T12:29:25\",\"1970-01-01T14:50:12\",\"1970-01-01T14:50:12\",\"1970-01-01T15:23:32\",\"1970-01-01T15:23:32\",\"1970-01-01T15:23:32\"],\"y\":[\"Carrier C\",\"Carrier C\",\"Carrier C\",\"Carrier C\",null,\"Carrier C\",\"Carrier C\",\"Carrier C\",\"Carrier C\",null,\"Carrier C\",\"Carrier C\",\"Carrier C\",\"Carrier C\",null,\"Carrier C\",\"Carrier C\",\"Carrier C\",\"Carrier C\",null,\"Carrier C\",\"Carrier C\",\"Carrier C\",\"Carrier C\",null,\"Carrier C\",\"Carrier C\",\"Carrier C\",\"Carrier C\",null,\"Cutter T\",\"Cutter T\",\"Cutter T\",\"Cutter T\",null,\"Cutter T\",\"Cutter T\",\"Cutter T\",\"Cutter T\",null,\"Cutter T\",\"Cutter T\",\"Cutter T\",\"Cutter T\",null,\"Cutter T\",\"Cutter T\",\"Cutter T\",\"Cutter T\",null,\"Cutter T\",\"Cutter T\",\"Cutter T\",\"Cutter T\",null,\"Cutter T\",\"Cutter T\",\"Cutter T\",\"Cutter T\",null],\"type\":\"scatter\"},{\"connectgaps\":false,\"hoverinfo\":\"y+name\",\"line\":{\"color\":\"rgb(187,68,65)\",\"width\":10},\"mode\":\"lines\",\"name\":\"loading:Carrier A\",\"x\":[\"1970-01-01T02:32:04\",\"1970-01-01T02:32:04\",\"1970-01-01T03:13:44\",\"1970-01-01T03:13:44\",\"1970-01-01T03:13:44\",\"1970-01-01T05:26:11\",\"1970-01-01T05:26:11\",\"1970-01-01T06:07:51\",\"1970-01-01T06:07:51\",\"1970-01-01T06:07:51\",\"1970-01-01T08:20:18\",\"1970-01-01T08:20:18\",\"1970-01-01T09:01:58\",\"1970-01-01T09:01:58\",\"1970-01-01T09:01:58\",\"1970-01-01T11:14:25\",\"1970-01-01T11:14:25\",\"1970-01-01T11:56:05\",\"1970-01-01T11:56:05\",\"1970-01-01T11:56:05\",\"1970-01-01T14:08:32\",\"1970-01-01T14:08:32\",\"1970-01-01T14:50:12\",\"1970-01-01T14:50:12\",\"1970-01-01T14:50:12\",\"1970-01-01T02:32:04\",\"1970-01-01T02:32:04\",\"1970-01-01T03:13:44\",\"1970-01-01T03:13:44\",\"1970-01-01T03:13:44\",\"1970-01-01T05:26:11\",\"1970-01-01T05:26:11\",\"1970-01-01T06:07:51\",\"1970-01-01T06:07:51\",\"1970-01-01T06:07:51\",\"1970-01-01T08:20:18\",\"1970-01-01T08:20:18\",\"1970-01-01T09:01:58\",\"1970-01-01T09:01:58\",\"1970-01-01T09:01:58\",\"1970-01-01T11:14:25\",\"1970-01-01T11:14:25\",\"1970-01-01T11:56:05\",\"1970-01-01T11:56:05\",\"1970-01-01T11:56:05\",\"1970-01-01T14:08:32\",\"1970-01-01T14:08:32\",\"1970-01-01T14:50:12\",\"1970-01-01T14:50:12\",\"1970-01-01T14:50:12\"],\"y\":[\"Carrier A\",\"Carrier A\",\"Carrier A\",\"Carrier A\",null,\"Carrier A\",\"Carrier A\",\"Carrier A\",\"Carrier A\",null,\"Carrier A\",\"Carrier A\",\"Carrier A\",\"Carrier A\",null,\"Carrier A\",\"Carrier A\",\"Carrier A\",\"Carrier A\",null,\"Carrier A\",\"Carrier A\",\"Carrier A\",\"Carrier A\",null,\"Cutter T\",\"Cutter T\",\"Cutter T\",\"Cutter T\",null,\"Cutter T\",\"Cutter T\",\"Cutter T\",\"Cutter T\",null,\"Cutter T\",\"Cutter T\",\"Cutter T\",\"Cutter T\",null,\"Cutter T\",\"Cutter T\",\"Cutter T\",\"Cutter T\",null,\"Cutter T\",\"Cutter T\",\"Cutter T\",\"Cutter T\",null],\"type\":\"scatter\"}],                        {\"hovermode\":\"closest\",\"legend\":{\"orientation\":\"h\",\"x\":0,\"y\":-0.2},\"template\":{\"data\":{\"barpolar\":[{\"marker\":{\"line\":{\"color\":\"#E5ECF6\",\"width\":0.5},\"pattern\":{\"fillmode\":\"overlay\",\"size\":10,\"solidity\":0.2}},\"type\":\"barpolar\"}],\"bar\":[{\"error_x\":{\"color\":\"#2a3f5f\"},\"error_y\":{\"color\":\"#2a3f5f\"},\"marker\":{\"line\":{\"color\":\"#E5ECF6\",\"width\":0.5},\"pattern\":{\"fillmode\":\"overlay\",\"size\":10,\"solidity\":0.2}},\"type\":\"bar\"}],\"carpet\":[{\"aaxis\":{\"endlinecolor\":\"#2a3f5f\",\"gridcolor\":\"white\",\"linecolor\":\"white\",\"minorgridcolor\":\"white\",\"startlinecolor\":\"#2a3f5f\"},\"baxis\":{\"endlinecolor\":\"#2a3f5f\",\"gridcolor\":\"white\",\"linecolor\":\"white\",\"minorgridcolor\":\"white\",\"startlinecolor\":\"#2a3f5f\"},\"type\":\"carpet\"}],\"choropleth\":[{\"colorbar\":{\"outlinewidth\":0,\"ticks\":\"\"},\"type\":\"choropleth\"}],\"contourcarpet\":[{\"colorbar\":{\"outlinewidth\":0,\"ticks\":\"\"},\"type\":\"contourcarpet\"}],\"contour\":[{\"colorbar\":{\"outlinewidth\":0,\"ticks\":\"\"},\"colorscale\":[[0.0,\"#0d0887\"],[0.1111111111111111,\"#46039f\"],[0.2222222222222222,\"#7201a8\"],[0.3333333333333333,\"#9c179e\"],[0.4444444444444444,\"#bd3786\"],[0.5555555555555556,\"#d8576b\"],[0.6666666666666666,\"#ed7953\"],[0.7777777777777778,\"#fb9f3a\"],[0.8888888888888888,\"#fdca26\"],[1.0,\"#f0f921\"]],\"type\":\"contour\"}],\"heatmapgl\":[{\"colorbar\":{\"outlinewidth\":0,\"ticks\":\"\"},\"colorscale\":[[0.0,\"#0d0887\"],[0.1111111111111111,\"#46039f\"],[0.2222222222222222,\"#7201a8\"],[0.3333333333333333,\"#9c179e\"],[0.4444444444444444,\"#bd3786\"],[0.5555555555555556,\"#d8576b\"],[0.6666666666666666,\"#ed7953\"],[0.7777777777777778,\"#fb9f3a\"],[0.8888888888888888,\"#fdca26\"],[1.0,\"#f0f921\"]],\"type\":\"heatmapgl\"}],\"heatmap\":[{\"colorbar\":{\"outlinewidth\":0,\"ticks\":\"\"},\"colorscale\":[[0.0,\"#0d0887\"],[0.1111111111111111,\"#46039f\"],[0.2222222222222222,\"#7201a8\"],[0.3333333333333333,\"#9c179e\"],[0.4444444444444444,\"#bd3786\"],[0.5555555555555556,\"#d8576b\"],[0.6666666666666666,\"#ed7953\"],[0.7777777777777778,\"#fb9f3a\"],[0.8888888888888888,\"#fdca26\"],[1.0,\"#f0f921\"]],\"type\":\"heatmap\"}],\"histogram2dcontour\":[{\"colorbar\":{\"outlinewidth\":0,\"ticks\":\"\"},\"colorscale\":[[0.0,\"#0d0887\"],[0.1111111111111111,\"#46039f\"],[0.2222222222222222,\"#7201a8\"],[0.3333333333333333,\"#9c179e\"],[0.4444444444444444,\"#bd3786\"],[0.5555555555555556,\"#d8576b\"],[0.6666666666666666,\"#ed7953\"],[0.7777777777777778,\"#fb9f3a\"],[0.8888888888888888,\"#fdca26\"],[1.0,\"#f0f921\"]],\"type\":\"histogram2dcontour\"}],\"histogram2d\":[{\"colorbar\":{\"outlinewidth\":0,\"ticks\":\"\"},\"colorscale\":[[0.0,\"#0d0887\"],[0.1111111111111111,\"#46039f\"],[0.2222222222222222,\"#7201a8\"],[0.3333333333333333,\"#9c179e\"],[0.4444444444444444,\"#bd3786\"],[0.5555555555555556,\"#d8576b\"],[0.6666666666666666,\"#ed7953\"],[0.7777777777777778,\"#fb9f3a\"],[0.8888888888888888,\"#fdca26\"],[1.0,\"#f0f921\"]],\"type\":\"histogram2d\"}],\"histogram\":[{\"marker\":{\"pattern\":{\"fillmode\":\"overlay\",\"size\":10,\"solidity\":0.2}},\"type\":\"histogram\"}],\"mesh3d\":[{\"colorbar\":{\"outlinewidth\":0,\"ticks\":\"\"},\"type\":\"mesh3d\"}],\"parcoords\":[{\"line\":{\"colorbar\":{\"outlinewidth\":0,\"ticks\":\"\"}},\"type\":\"parcoords\"}],\"pie\":[{\"automargin\":true,\"type\":\"pie\"}],\"scatter3d\":[{\"line\":{\"colorbar\":{\"outlinewidth\":0,\"ticks\":\"\"}},\"marker\":{\"colorbar\":{\"outlinewidth\":0,\"ticks\":\"\"}},\"type\":\"scatter3d\"}],\"scattercarpet\":[{\"marker\":{\"colorbar\":{\"outlinewidth\":0,\"ticks\":\"\"}},\"type\":\"scattercarpet\"}],\"scattergeo\":[{\"marker\":{\"colorbar\":{\"outlinewidth\":0,\"ticks\":\"\"}},\"type\":\"scattergeo\"}],\"scattergl\":[{\"marker\":{\"colorbar\":{\"outlinewidth\":0,\"ticks\":\"\"}},\"type\":\"scattergl\"}],\"scattermapbox\":[{\"marker\":{\"colorbar\":{\"outlinewidth\":0,\"ticks\":\"\"}},\"type\":\"scattermapbox\"}],\"scatterpolargl\":[{\"marker\":{\"colorbar\":{\"outlinewidth\":0,\"ticks\":\"\"}},\"type\":\"scatterpolargl\"}],\"scatterpolar\":[{\"marker\":{\"colorbar\":{\"outlinewidth\":0,\"ticks\":\"\"}},\"type\":\"scatterpolar\"}],\"scatter\":[{\"fillpattern\":{\"fillmode\":\"overlay\",\"size\":10,\"solidity\":0.2},\"type\":\"scatter\"}],\"scatterternary\":[{\"marker\":{\"colorbar\":{\"outlinewidth\":0,\"ticks\":\"\"}},\"type\":\"scatterternary\"}],\"surface\":[{\"colorbar\":{\"outlinewidth\":0,\"ticks\":\"\"},\"colorscale\":[[0.0,\"#0d0887\"],[0.1111111111111111,\"#46039f\"],[0.2222222222222222,\"#7201a8\"],[0.3333333333333333,\"#9c179e\"],[0.4444444444444444,\"#bd3786\"],[0.5555555555555556,\"#d8576b\"],[0.6666666666666666,\"#ed7953\"],[0.7777777777777778,\"#fb9f3a\"],[0.8888888888888888,\"#fdca26\"],[1.0,\"#f0f921\"]],\"type\":\"surface\"}],\"table\":[{\"cells\":{\"fill\":{\"color\":\"#EBF0F8\"},\"line\":{\"color\":\"white\"}},\"header\":{\"fill\":{\"color\":\"#C8D4E3\"},\"line\":{\"color\":\"white\"}},\"type\":\"table\"}]},\"layout\":{\"annotationdefaults\":{\"arrowcolor\":\"#2a3f5f\",\"arrowhead\":0,\"arrowwidth\":1},\"autotypenumbers\":\"strict\",\"coloraxis\":{\"colorbar\":{\"outlinewidth\":0,\"ticks\":\"\"}},\"colorscale\":{\"diverging\":[[0,\"#8e0152\"],[0.1,\"#c51b7d\"],[0.2,\"#de77ae\"],[0.3,\"#f1b6da\"],[0.4,\"#fde0ef\"],[0.5,\"#f7f7f7\"],[0.6,\"#e6f5d0\"],[0.7,\"#b8e186\"],[0.8,\"#7fbc41\"],[0.9,\"#4d9221\"],[1,\"#276419\"]],\"sequential\":[[0.0,\"#0d0887\"],[0.1111111111111111,\"#46039f\"],[0.2222222222222222,\"#7201a8\"],[0.3333333333333333,\"#9c179e\"],[0.4444444444444444,\"#bd3786\"],[0.5555555555555556,\"#d8576b\"],[0.6666666666666666,\"#ed7953\"],[0.7777777777777778,\"#fb9f3a\"],[0.8888888888888888,\"#fdca26\"],[1.0,\"#f0f921\"]],\"sequentialminus\":[[0.0,\"#0d0887\"],[0.1111111111111111,\"#46039f\"],[0.2222222222222222,\"#7201a8\"],[0.3333333333333333,\"#9c179e\"],[0.4444444444444444,\"#bd3786\"],[0.5555555555555556,\"#d8576b\"],[0.6666666666666666,\"#ed7953\"],[0.7777777777777778,\"#fb9f3a\"],[0.8888888888888888,\"#fdca26\"],[1.0,\"#f0f921\"]]},\"colorway\":[\"#636efa\",\"#EF553B\",\"#00cc96\",\"#ab63fa\",\"#FFA15A\",\"#19d3f3\",\"#FF6692\",\"#B6E880\",\"#FF97FF\",\"#FECB52\"],\"font\":{\"color\":\"#2a3f5f\"},\"geo\":{\"bgcolor\":\"white\",\"lakecolor\":\"white\",\"landcolor\":\"#E5ECF6\",\"showlakes\":true,\"showland\":true,\"subunitcolor\":\"white\"},\"hoverlabel\":{\"align\":\"left\"},\"hovermode\":\"closest\",\"mapbox\":{\"style\":\"light\"},\"paper_bgcolor\":\"white\",\"plot_bgcolor\":\"#E5ECF6\",\"polar\":{\"angularaxis\":{\"gridcolor\":\"white\",\"linecolor\":\"white\",\"ticks\":\"\"},\"bgcolor\":\"#E5ECF6\",\"radialaxis\":{\"gridcolor\":\"white\",\"linecolor\":\"white\",\"ticks\":\"\"}},\"scene\":{\"xaxis\":{\"backgroundcolor\":\"#E5ECF6\",\"gridcolor\":\"white\",\"gridwidth\":2,\"linecolor\":\"white\",\"showbackground\":true,\"ticks\":\"\",\"zerolinecolor\":\"white\"},\"yaxis\":{\"backgroundcolor\":\"#E5ECF6\",\"gridcolor\":\"white\",\"gridwidth\":2,\"linecolor\":\"white\",\"showbackground\":true,\"ticks\":\"\",\"zerolinecolor\":\"white\"},\"zaxis\":{\"backgroundcolor\":\"#E5ECF6\",\"gridcolor\":\"white\",\"gridwidth\":2,\"linecolor\":\"white\",\"showbackground\":true,\"ticks\":\"\",\"zerolinecolor\":\"white\"}},\"shapedefaults\":{\"line\":{\"color\":\"#2a3f5f\"}},\"ternary\":{\"aaxis\":{\"gridcolor\":\"white\",\"linecolor\":\"white\",\"ticks\":\"\"},\"baxis\":{\"gridcolor\":\"white\",\"linecolor\":\"white\",\"ticks\":\"\"},\"bgcolor\":\"#E5ECF6\",\"caxis\":{\"gridcolor\":\"white\",\"linecolor\":\"white\",\"ticks\":\"\"}},\"title\":{\"x\":0.05},\"xaxis\":{\"automargin\":true,\"gridcolor\":\"white\",\"linecolor\":\"white\",\"ticks\":\"\",\"title\":{\"standoff\":15},\"zerolinecolor\":\"white\",\"zerolinewidth\":2},\"yaxis\":{\"automargin\":true,\"gridcolor\":\"white\",\"linecolor\":\"white\",\"ticks\":\"\",\"title\":{\"standoff\":15},\"zerolinecolor\":\"white\",\"zerolinewidth\":2}}},\"title\":{\"text\":\"GANTT Chart\"},\"xaxis\":{\"range\":[\"1970-01-01T00:00:00\",\"1970-01-01T17:24:10\"],\"title\":{\"font\":{\"color\":\"#7f7f7f\",\"family\":\"Courier New, monospace\",\"size\":18},\"text\":\"Time\"}},\"yaxis\":{\"title\":{\"font\":{\"color\":\"#7f7f7f\",\"family\":\"Courier New, monospace\",\"size\":18},\"text\":\"Activities\"}}},                        {\"responsive\": true}                    ).then(function(){\n",
       "                            \n",
       "var gd = document.getElementById('6f2942f6-815c-436b-977a-23a5d590b327');\n",
       "var x = new MutationObserver(function (mutations, observer) {{\n",
       "        var display = window.getComputedStyle(gd).display;\n",
       "        if (!display || display === 'none') {{\n",
       "            console.log([gd, 'removed!']);\n",
       "            Plotly.purge(gd);\n",
       "            observer.disconnect();\n",
       "        }}\n",
       "}});\n",
       "\n",
       "// Listen for the removal of the full notebook cells\n",
       "var notebookContainer = gd.closest('#notebook-container');\n",
       "if (notebookContainer) {{\n",
       "    x.observe(notebookContainer, {childList: true});\n",
       "}}\n",
       "\n",
       "// Listen for the clearing of the current output cell\n",
       "var outputEl = gd.closest('.output');\n",
       "if (outputEl) {{\n",
       "    x.observe(outputEl, {childList: true});\n",
       "}}\n",
       "\n",
       "                        })                };                });            </script>        </div>"
      ]
     },
     "metadata": {},
     "output_type": "display_data"
    }
   ],
   "source": [
    "# activities per vessel\n",
    "\n",
    "fig = get_gantt_chart(vessels, id_map=activities)"
   ]
  },
  {
   "cell_type": "code",
   "execution_count": 12,
   "id": "b7331bd0",
   "metadata": {},
   "outputs": [
    {
     "data": {
      "text/html": [
       "        <script type=\"text/javascript\">\n",
       "        window.PlotlyConfig = {MathJaxConfig: 'local'};\n",
       "        if (window.MathJax && window.MathJax.Hub && window.MathJax.Hub.Config) {window.MathJax.Hub.Config({SVG: {font: \"STIX-Web\"}});}\n",
       "        if (typeof require !== 'undefined') {\n",
       "        require.undef(\"plotly\");\n",
       "        requirejs.config({\n",
       "            paths: {\n",
       "                'plotly': ['https://cdn.plot.ly/plotly-2.18.2.min']\n",
       "            }\n",
       "        });\n",
       "        require(['plotly'], function(Plotly) {\n",
       "            window._Plotly = Plotly;\n",
       "        });\n",
       "        }\n",
       "        </script>\n",
       "        "
      ]
     },
     "metadata": {},
     "output_type": "display_data"
    },
    {
     "data": {
      "application/vnd.plotly.v1+json": {
       "config": {
        "linkText": "Export to plot.ly",
        "plotlyServerURL": "https://plot.ly",
        "showLink": false
       },
       "data": [
        {
         "connectgaps": false,
         "hoverinfo": "y+name",
         "line": {
          "color": "rgb(184,144,92)",
          "width": 10
         },
         "mode": "lines",
         "name": "loading:Barge I",
         "type": "scatter",
         "x": [
          "1970-01-01T01:08:44",
          "1970-01-01T01:08:44",
          "1970-01-01T01:50:24",
          "1970-01-01T01:50:24",
          "1970-01-01T01:50:24",
          "1970-01-01T03:48:51",
          "1970-01-01T03:48:51",
          "1970-01-01T04:30:31",
          "1970-01-01T04:30:31",
          "1970-01-01T04:30:31",
          "1970-01-01T06:41:11",
          "1970-01-01T06:41:11",
          "1970-01-01T07:22:51",
          "1970-01-01T07:22:51",
          "1970-01-01T07:22:51",
          "1970-01-01T09:35:18",
          "1970-01-01T09:35:18",
          "1970-01-01T10:16:58",
          "1970-01-01T10:16:58",
          "1970-01-01T10:16:58",
          "1970-01-01T12:29:25",
          "1970-01-01T12:29:25",
          "1970-01-01T13:11:05",
          "1970-01-01T13:11:05",
          "1970-01-01T13:11:05",
          "1970-01-01T15:23:32",
          "1970-01-01T15:23:32",
          "1970-01-01T16:05:12",
          "1970-01-01T16:05:12",
          "1970-01-01T16:05:12",
          "1970-01-01T01:08:44",
          "1970-01-01T01:08:44",
          "1970-01-01T01:50:24",
          "1970-01-01T01:50:24",
          "1970-01-01T01:50:24",
          "1970-01-01T03:48:51",
          "1970-01-01T03:48:51",
          "1970-01-01T04:30:31",
          "1970-01-01T04:30:31",
          "1970-01-01T04:30:31",
          "1970-01-01T06:41:11",
          "1970-01-01T06:41:11",
          "1970-01-01T07:22:51",
          "1970-01-01T07:22:51",
          "1970-01-01T07:22:51",
          "1970-01-01T09:35:18",
          "1970-01-01T09:35:18",
          "1970-01-01T10:16:58",
          "1970-01-01T10:16:58",
          "1970-01-01T10:16:58",
          "1970-01-01T12:29:25",
          "1970-01-01T12:29:25",
          "1970-01-01T13:11:05",
          "1970-01-01T13:11:05",
          "1970-01-01T13:11:05",
          "1970-01-01T15:23:32",
          "1970-01-01T15:23:32",
          "1970-01-01T16:05:12",
          "1970-01-01T16:05:12",
          "1970-01-01T16:05:12"
         ],
         "y": [
          "Trench",
          "Trench",
          "Trench",
          "Trench",
          null,
          "Trench",
          "Trench",
          "Trench",
          "Trench",
          null,
          "Trench",
          "Trench",
          "Trench",
          "Trench",
          null,
          "Trench",
          "Trench",
          "Trench",
          "Trench",
          null,
          "Trench",
          "Trench",
          "Trench",
          "Trench",
          null,
          "Trench",
          "Trench",
          "Trench",
          "Trench",
          null,
          "Cutter T",
          "Cutter T",
          "Cutter T",
          "Cutter T",
          null,
          "Cutter T",
          "Cutter T",
          "Cutter T",
          "Cutter T",
          null,
          "Cutter T",
          "Cutter T",
          "Cutter T",
          "Cutter T",
          null,
          "Cutter T",
          "Cutter T",
          "Cutter T",
          "Cutter T",
          null,
          "Cutter T",
          "Cutter T",
          "Cutter T",
          "Cutter T",
          null,
          "Cutter T",
          "Cutter T",
          "Cutter T",
          "Cutter T",
          null
         ]
        },
        {
         "connectgaps": false,
         "hoverinfo": "y+name",
         "line": {
          "color": "rgb(205,165,113)",
          "width": 10
         },
         "mode": "lines",
         "name": "loading:Carrier B",
         "type": "scatter",
         "x": [
          "1970-01-01T01:50:24",
          "1970-01-01T01:50:24",
          "1970-01-01T02:32:04",
          "1970-01-01T02:32:04",
          "1970-01-01T02:32:04",
          "1970-01-01T04:32:49",
          "1970-01-01T04:32:49",
          "1970-01-01T05:14:29",
          "1970-01-01T05:14:29",
          "1970-01-01T05:14:29",
          "1970-01-01T07:22:51",
          "1970-01-01T07:22:51",
          "1970-01-01T08:04:31",
          "1970-01-01T08:04:31",
          "1970-01-01T08:04:31",
          "1970-01-01T10:16:58",
          "1970-01-01T10:16:58",
          "1970-01-01T10:58:38",
          "1970-01-01T10:58:38",
          "1970-01-01T10:58:38",
          "1970-01-01T13:11:05",
          "1970-01-01T13:11:05",
          "1970-01-01T13:52:45",
          "1970-01-01T13:52:45",
          "1970-01-01T13:52:45",
          "1970-01-01T01:50:24",
          "1970-01-01T01:50:24",
          "1970-01-01T02:32:04",
          "1970-01-01T02:32:04",
          "1970-01-01T02:32:04",
          "1970-01-01T04:32:49",
          "1970-01-01T04:32:49",
          "1970-01-01T05:14:29",
          "1970-01-01T05:14:29",
          "1970-01-01T05:14:29",
          "1970-01-01T07:22:51",
          "1970-01-01T07:22:51",
          "1970-01-01T08:04:31",
          "1970-01-01T08:04:31",
          "1970-01-01T08:04:31",
          "1970-01-01T10:16:58",
          "1970-01-01T10:16:58",
          "1970-01-01T10:58:38",
          "1970-01-01T10:58:38",
          "1970-01-01T10:58:38",
          "1970-01-01T13:11:05",
          "1970-01-01T13:11:05",
          "1970-01-01T13:52:45",
          "1970-01-01T13:52:45",
          "1970-01-01T13:52:45"
         ],
         "y": [
          "Trench",
          "Trench",
          "Trench",
          "Trench",
          null,
          "Trench",
          "Trench",
          "Trench",
          "Trench",
          null,
          "Trench",
          "Trench",
          "Trench",
          "Trench",
          null,
          "Trench",
          "Trench",
          "Trench",
          "Trench",
          null,
          "Trench",
          "Trench",
          "Trench",
          "Trench",
          null,
          "Cutter T",
          "Cutter T",
          "Cutter T",
          "Cutter T",
          null,
          "Cutter T",
          "Cutter T",
          "Cutter T",
          "Cutter T",
          null,
          "Cutter T",
          "Cutter T",
          "Cutter T",
          "Cutter T",
          null,
          "Cutter T",
          "Cutter T",
          "Cutter T",
          "Cutter T",
          null,
          "Cutter T",
          "Cutter T",
          "Cutter T",
          "Cutter T",
          null
         ]
        },
        {
         "connectgaps": false,
         "hoverinfo": "y+name",
         "line": {
          "color": "rgb(226,186,134)",
          "width": 10
         },
         "mode": "lines",
         "name": "loading:Carrier C",
         "type": "scatter",
         "x": [
          "1970-01-01T00:35:24",
          "1970-01-01T00:35:24",
          "1970-01-01T01:08:44",
          "1970-01-01T01:08:44",
          "1970-01-01T01:08:44",
          "1970-01-01T03:13:44",
          "1970-01-01T03:13:44",
          "1970-01-01T03:47:04",
          "1970-01-01T03:47:04",
          "1970-01-01T03:47:04",
          "1970-01-01T06:07:51",
          "1970-01-01T06:07:51",
          "1970-01-01T06:41:11",
          "1970-01-01T06:41:11",
          "1970-01-01T06:41:11",
          "1970-01-01T09:01:58",
          "1970-01-01T09:01:58",
          "1970-01-01T09:35:18",
          "1970-01-01T09:35:18",
          "1970-01-01T09:35:18",
          "1970-01-01T11:56:05",
          "1970-01-01T11:56:05",
          "1970-01-01T12:29:25",
          "1970-01-01T12:29:25",
          "1970-01-01T12:29:25",
          "1970-01-01T14:50:12",
          "1970-01-01T14:50:12",
          "1970-01-01T15:23:32",
          "1970-01-01T15:23:32",
          "1970-01-01T15:23:32",
          "1970-01-01T00:35:24",
          "1970-01-01T00:35:24",
          "1970-01-01T01:08:44",
          "1970-01-01T01:08:44",
          "1970-01-01T01:08:44",
          "1970-01-01T03:13:44",
          "1970-01-01T03:13:44",
          "1970-01-01T03:47:04",
          "1970-01-01T03:47:04",
          "1970-01-01T03:47:04",
          "1970-01-01T06:07:51",
          "1970-01-01T06:07:51",
          "1970-01-01T06:41:11",
          "1970-01-01T06:41:11",
          "1970-01-01T06:41:11",
          "1970-01-01T09:01:58",
          "1970-01-01T09:01:58",
          "1970-01-01T09:35:18",
          "1970-01-01T09:35:18",
          "1970-01-01T09:35:18",
          "1970-01-01T11:56:05",
          "1970-01-01T11:56:05",
          "1970-01-01T12:29:25",
          "1970-01-01T12:29:25",
          "1970-01-01T12:29:25",
          "1970-01-01T14:50:12",
          "1970-01-01T14:50:12",
          "1970-01-01T15:23:32",
          "1970-01-01T15:23:32",
          "1970-01-01T15:23:32"
         ],
         "y": [
          "Trench",
          "Trench",
          "Trench",
          "Trench",
          null,
          "Trench",
          "Trench",
          "Trench",
          "Trench",
          null,
          "Trench",
          "Trench",
          "Trench",
          "Trench",
          null,
          "Trench",
          "Trench",
          "Trench",
          "Trench",
          null,
          "Trench",
          "Trench",
          "Trench",
          "Trench",
          null,
          "Trench",
          "Trench",
          "Trench",
          "Trench",
          null,
          "Cutter T",
          "Cutter T",
          "Cutter T",
          "Cutter T",
          null,
          "Cutter T",
          "Cutter T",
          "Cutter T",
          "Cutter T",
          null,
          "Cutter T",
          "Cutter T",
          "Cutter T",
          "Cutter T",
          null,
          "Cutter T",
          "Cutter T",
          "Cutter T",
          "Cutter T",
          null,
          "Cutter T",
          "Cutter T",
          "Cutter T",
          "Cutter T",
          null,
          "Cutter T",
          "Cutter T",
          "Cutter T",
          "Cutter T",
          null
         ]
        },
        {
         "connectgaps": false,
         "hoverinfo": "y+name",
         "line": {
          "color": "rgb(247,207,155)",
          "width": 10
         },
         "mode": "lines",
         "name": "loading:Carrier A",
         "type": "scatter",
         "x": [
          "1970-01-01T02:32:04",
          "1970-01-01T02:32:04",
          "1970-01-01T03:13:44",
          "1970-01-01T03:13:44",
          "1970-01-01T03:13:44",
          "1970-01-01T05:26:11",
          "1970-01-01T05:26:11",
          "1970-01-01T06:07:51",
          "1970-01-01T06:07:51",
          "1970-01-01T06:07:51",
          "1970-01-01T08:20:18",
          "1970-01-01T08:20:18",
          "1970-01-01T09:01:58",
          "1970-01-01T09:01:58",
          "1970-01-01T09:01:58",
          "1970-01-01T11:14:25",
          "1970-01-01T11:14:25",
          "1970-01-01T11:56:05",
          "1970-01-01T11:56:05",
          "1970-01-01T11:56:05",
          "1970-01-01T14:08:32",
          "1970-01-01T14:08:32",
          "1970-01-01T14:50:12",
          "1970-01-01T14:50:12",
          "1970-01-01T14:50:12",
          "1970-01-01T02:32:04",
          "1970-01-01T02:32:04",
          "1970-01-01T03:13:44",
          "1970-01-01T03:13:44",
          "1970-01-01T03:13:44",
          "1970-01-01T05:26:11",
          "1970-01-01T05:26:11",
          "1970-01-01T06:07:51",
          "1970-01-01T06:07:51",
          "1970-01-01T06:07:51",
          "1970-01-01T08:20:18",
          "1970-01-01T08:20:18",
          "1970-01-01T09:01:58",
          "1970-01-01T09:01:58",
          "1970-01-01T09:01:58",
          "1970-01-01T11:14:25",
          "1970-01-01T11:14:25",
          "1970-01-01T11:56:05",
          "1970-01-01T11:56:05",
          "1970-01-01T11:56:05",
          "1970-01-01T14:08:32",
          "1970-01-01T14:08:32",
          "1970-01-01T14:50:12",
          "1970-01-01T14:50:12",
          "1970-01-01T14:50:12"
         ],
         "y": [
          "Trench",
          "Trench",
          "Trench",
          "Trench",
          null,
          "Trench",
          "Trench",
          "Trench",
          "Trench",
          null,
          "Trench",
          "Trench",
          "Trench",
          "Trench",
          null,
          "Trench",
          "Trench",
          "Trench",
          "Trench",
          null,
          "Trench",
          "Trench",
          "Trench",
          "Trench",
          null,
          "Cutter T",
          "Cutter T",
          "Cutter T",
          "Cutter T",
          null,
          "Cutter T",
          "Cutter T",
          "Cutter T",
          "Cutter T",
          null,
          "Cutter T",
          "Cutter T",
          "Cutter T",
          "Cutter T",
          null,
          "Cutter T",
          "Cutter T",
          "Cutter T",
          "Cutter T",
          null,
          "Cutter T",
          "Cutter T",
          "Cutter T",
          "Cutter T",
          null
         ]
        },
        {
         "connectgaps": false,
         "hoverinfo": "y+name",
         "line": {
          "color": "rgb(12,228,176)",
          "width": 10
         },
         "mode": "lines",
         "name": "unloading:Carrier C",
         "type": "scatter",
         "x": [
          "1970-01-01T01:44:08",
          "1970-01-01T01:44:08",
          "1970-01-01T02:19:32",
          "1970-01-01T02:19:32",
          "1970-01-01T02:19:32",
          "1970-01-01T04:22:28",
          "1970-01-01T04:22:28",
          "1970-01-01T04:57:52",
          "1970-01-01T04:57:52",
          "1970-01-01T04:57:52",
          "1970-01-01T07:16:35",
          "1970-01-01T07:16:35",
          "1970-01-01T07:51:59",
          "1970-01-01T07:51:59",
          "1970-01-01T07:51:59",
          "1970-01-01T10:10:42",
          "1970-01-01T10:10:42",
          "1970-01-01T10:46:06",
          "1970-01-01T10:46:06",
          "1970-01-01T10:46:06",
          "1970-01-01T13:04:49",
          "1970-01-01T13:04:49",
          "1970-01-01T13:40:13",
          "1970-01-01T13:40:13",
          "1970-01-01T13:40:13",
          "1970-01-01T15:58:56",
          "1970-01-01T15:58:56",
          "1970-01-01T16:34:20",
          "1970-01-01T16:34:20",
          "1970-01-01T16:34:20"
         ],
         "y": [
          "Reclamation",
          "Reclamation",
          "Reclamation",
          "Reclamation",
          null,
          "Reclamation",
          "Reclamation",
          "Reclamation",
          "Reclamation",
          null,
          "Reclamation",
          "Reclamation",
          "Reclamation",
          "Reclamation",
          null,
          "Reclamation",
          "Reclamation",
          "Reclamation",
          "Reclamation",
          null,
          "Reclamation",
          "Reclamation",
          "Reclamation",
          "Reclamation",
          null,
          "Reclamation",
          "Reclamation",
          "Reclamation",
          "Reclamation",
          null
         ]
        },
        {
         "connectgaps": false,
         "hoverinfo": "y+name",
         "line": {
          "color": "rgb(33,249,197)",
          "width": 10
         },
         "mode": "lines",
         "name": "unloading:Carrier B",
         "type": "scatter",
         "x": [
          "1970-01-01T03:12:19",
          "1970-01-01T03:12:19",
          "1970-01-01T03:52:34",
          "1970-01-01T03:52:34",
          "1970-01-01T03:52:34",
          "1970-01-01T05:54:44",
          "1970-01-01T05:54:44",
          "1970-01-01T06:34:59",
          "1970-01-01T06:34:59",
          "1970-01-01T06:34:59",
          "1970-01-01T08:44:46",
          "1970-01-01T08:44:46",
          "1970-01-01T09:25:01",
          "1970-01-01T09:25:01",
          "1970-01-01T09:25:01",
          "1970-01-01T11:38:53",
          "1970-01-01T11:38:53",
          "1970-01-01T12:19:08",
          "1970-01-01T12:19:08",
          "1970-01-01T12:19:08",
          "1970-01-01T14:33:00",
          "1970-01-01T14:33:00",
          "1970-01-01T15:13:15",
          "1970-01-01T15:13:15",
          "1970-01-01T15:13:15"
         ],
         "y": [
          "Reclamation",
          "Reclamation",
          "Reclamation",
          "Reclamation",
          null,
          "Reclamation",
          "Reclamation",
          "Reclamation",
          "Reclamation",
          null,
          "Reclamation",
          "Reclamation",
          "Reclamation",
          "Reclamation",
          null,
          "Reclamation",
          "Reclamation",
          "Reclamation",
          "Reclamation",
          null,
          "Reclamation",
          "Reclamation",
          "Reclamation",
          "Reclamation",
          null
         ]
        },
        {
         "connectgaps": false,
         "hoverinfo": "y+name",
         "line": {
          "color": "rgb(54,14,218)",
          "width": 10
         },
         "mode": "lines",
         "name": "unloading:Carrier A",
         "type": "scatter",
         "x": [
          "1970-01-01T03:57:53",
          "1970-01-01T03:57:53",
          "1970-01-01T04:42:02",
          "1970-01-01T04:42:02",
          "1970-01-01T04:42:02",
          "1970-01-01T06:52:00",
          "1970-01-01T06:52:00",
          "1970-01-01T07:36:09",
          "1970-01-01T07:36:09",
          "1970-01-01T07:36:09",
          "1970-01-01T09:46:07",
          "1970-01-01T09:46:07",
          "1970-01-01T10:30:16",
          "1970-01-01T10:30:16",
          "1970-01-01T10:30:16",
          "1970-01-01T12:40:14",
          "1970-01-01T12:40:14",
          "1970-01-01T13:24:23",
          "1970-01-01T13:24:23",
          "1970-01-01T13:24:23",
          "1970-01-01T15:34:21",
          "1970-01-01T15:34:21",
          "1970-01-01T16:18:30",
          "1970-01-01T16:18:30",
          "1970-01-01T16:18:30"
         ],
         "y": [
          "Reclamation",
          "Reclamation",
          "Reclamation",
          "Reclamation",
          null,
          "Reclamation",
          "Reclamation",
          "Reclamation",
          "Reclamation",
          null,
          "Reclamation",
          "Reclamation",
          "Reclamation",
          "Reclamation",
          null,
          "Reclamation",
          "Reclamation",
          "Reclamation",
          "Reclamation",
          null,
          "Reclamation",
          "Reclamation",
          "Reclamation",
          "Reclamation",
          null
         ]
        },
        {
         "connectgaps": false,
         "hoverinfo": "y+name",
         "line": {
          "color": "rgb(75,35,239)",
          "width": 10
         },
         "mode": "lines",
         "name": "unloading:Barge I",
         "type": "scatter",
         "x": [
          "1970-01-01T02:29:53",
          "1970-01-01T02:29:53",
          "1970-01-01T03:09:22",
          "1970-01-01T03:09:22",
          "1970-01-01T03:09:22",
          "1970-01-01T05:10:00",
          "1970-01-01T05:10:00",
          "1970-01-01T05:49:29",
          "1970-01-01T05:49:29",
          "1970-01-01T05:49:29",
          "1970-01-01T08:02:20",
          "1970-01-01T08:02:20",
          "1970-01-01T08:41:49",
          "1970-01-01T08:41:49",
          "1970-01-01T08:41:49",
          "1970-01-01T10:56:27",
          "1970-01-01T10:56:27",
          "1970-01-01T11:35:56",
          "1970-01-01T11:35:56",
          "1970-01-01T11:35:56",
          "1970-01-01T13:50:34",
          "1970-01-01T13:50:34",
          "1970-01-01T14:30:03",
          "1970-01-01T14:30:03",
          "1970-01-01T14:30:03",
          "1970-01-01T16:44:41",
          "1970-01-01T16:44:41",
          "1970-01-01T17:24:10",
          "1970-01-01T17:24:10",
          "1970-01-01T17:24:10"
         ],
         "y": [
          "Reclamation",
          "Reclamation",
          "Reclamation",
          "Reclamation",
          null,
          "Reclamation",
          "Reclamation",
          "Reclamation",
          "Reclamation",
          null,
          "Reclamation",
          "Reclamation",
          "Reclamation",
          "Reclamation",
          null,
          "Reclamation",
          "Reclamation",
          "Reclamation",
          "Reclamation",
          null,
          "Reclamation",
          "Reclamation",
          "Reclamation",
          "Reclamation",
          null,
          "Reclamation",
          "Reclamation",
          "Reclamation",
          "Reclamation",
          null
         ]
        },
        {
         "connectgaps": false,
         "hoverinfo": "y+name",
         "line": {
          "color": "rgb(96,56,4)",
          "width": 10
         },
         "mode": "lines",
         "name": "loading:Barge I",
         "type": "scatter",
         "x": [
          "1970-01-01T01:08:44",
          "1970-01-01T01:08:44",
          "1970-01-01T01:50:24",
          "1970-01-01T01:50:24",
          "1970-01-01T01:50:24",
          "1970-01-01T03:48:51",
          "1970-01-01T03:48:51",
          "1970-01-01T04:30:31",
          "1970-01-01T04:30:31",
          "1970-01-01T04:30:31",
          "1970-01-01T06:41:11",
          "1970-01-01T06:41:11",
          "1970-01-01T07:22:51",
          "1970-01-01T07:22:51",
          "1970-01-01T07:22:51",
          "1970-01-01T09:35:18",
          "1970-01-01T09:35:18",
          "1970-01-01T10:16:58",
          "1970-01-01T10:16:58",
          "1970-01-01T10:16:58",
          "1970-01-01T12:29:25",
          "1970-01-01T12:29:25",
          "1970-01-01T13:11:05",
          "1970-01-01T13:11:05",
          "1970-01-01T13:11:05",
          "1970-01-01T15:23:32",
          "1970-01-01T15:23:32",
          "1970-01-01T16:05:12",
          "1970-01-01T16:05:12",
          "1970-01-01T16:05:12",
          "1970-01-01T01:08:44",
          "1970-01-01T01:08:44",
          "1970-01-01T01:50:24",
          "1970-01-01T01:50:24",
          "1970-01-01T01:50:24",
          "1970-01-01T03:48:51",
          "1970-01-01T03:48:51",
          "1970-01-01T04:30:31",
          "1970-01-01T04:30:31",
          "1970-01-01T04:30:31",
          "1970-01-01T06:41:11",
          "1970-01-01T06:41:11",
          "1970-01-01T07:22:51",
          "1970-01-01T07:22:51",
          "1970-01-01T07:22:51",
          "1970-01-01T09:35:18",
          "1970-01-01T09:35:18",
          "1970-01-01T10:16:58",
          "1970-01-01T10:16:58",
          "1970-01-01T10:16:58",
          "1970-01-01T12:29:25",
          "1970-01-01T12:29:25",
          "1970-01-01T13:11:05",
          "1970-01-01T13:11:05",
          "1970-01-01T13:11:05",
          "1970-01-01T15:23:32",
          "1970-01-01T15:23:32",
          "1970-01-01T16:05:12",
          "1970-01-01T16:05:12",
          "1970-01-01T16:05:12"
         ],
         "y": [
          "Trench",
          "Trench",
          "Trench",
          "Trench",
          null,
          "Trench",
          "Trench",
          "Trench",
          "Trench",
          null,
          "Trench",
          "Trench",
          "Trench",
          "Trench",
          null,
          "Trench",
          "Trench",
          "Trench",
          "Trench",
          null,
          "Trench",
          "Trench",
          "Trench",
          "Trench",
          null,
          "Trench",
          "Trench",
          "Trench",
          "Trench",
          null,
          "Cutter T",
          "Cutter T",
          "Cutter T",
          "Cutter T",
          null,
          "Cutter T",
          "Cutter T",
          "Cutter T",
          "Cutter T",
          null,
          "Cutter T",
          "Cutter T",
          "Cutter T",
          "Cutter T",
          null,
          "Cutter T",
          "Cutter T",
          "Cutter T",
          "Cutter T",
          null,
          "Cutter T",
          "Cutter T",
          "Cutter T",
          "Cutter T",
          null,
          "Cutter T",
          "Cutter T",
          "Cutter T",
          "Cutter T",
          null
         ]
        },
        {
         "connectgaps": false,
         "hoverinfo": "y+name",
         "line": {
          "color": "rgb(117,77,25)",
          "width": 10
         },
         "mode": "lines",
         "name": "loading:Carrier B",
         "type": "scatter",
         "x": [
          "1970-01-01T01:50:24",
          "1970-01-01T01:50:24",
          "1970-01-01T02:32:04",
          "1970-01-01T02:32:04",
          "1970-01-01T02:32:04",
          "1970-01-01T04:32:49",
          "1970-01-01T04:32:49",
          "1970-01-01T05:14:29",
          "1970-01-01T05:14:29",
          "1970-01-01T05:14:29",
          "1970-01-01T07:22:51",
          "1970-01-01T07:22:51",
          "1970-01-01T08:04:31",
          "1970-01-01T08:04:31",
          "1970-01-01T08:04:31",
          "1970-01-01T10:16:58",
          "1970-01-01T10:16:58",
          "1970-01-01T10:58:38",
          "1970-01-01T10:58:38",
          "1970-01-01T10:58:38",
          "1970-01-01T13:11:05",
          "1970-01-01T13:11:05",
          "1970-01-01T13:52:45",
          "1970-01-01T13:52:45",
          "1970-01-01T13:52:45",
          "1970-01-01T01:50:24",
          "1970-01-01T01:50:24",
          "1970-01-01T02:32:04",
          "1970-01-01T02:32:04",
          "1970-01-01T02:32:04",
          "1970-01-01T04:32:49",
          "1970-01-01T04:32:49",
          "1970-01-01T05:14:29",
          "1970-01-01T05:14:29",
          "1970-01-01T05:14:29",
          "1970-01-01T07:22:51",
          "1970-01-01T07:22:51",
          "1970-01-01T08:04:31",
          "1970-01-01T08:04:31",
          "1970-01-01T08:04:31",
          "1970-01-01T10:16:58",
          "1970-01-01T10:16:58",
          "1970-01-01T10:58:38",
          "1970-01-01T10:58:38",
          "1970-01-01T10:58:38",
          "1970-01-01T13:11:05",
          "1970-01-01T13:11:05",
          "1970-01-01T13:52:45",
          "1970-01-01T13:52:45",
          "1970-01-01T13:52:45"
         ],
         "y": [
          "Trench",
          "Trench",
          "Trench",
          "Trench",
          null,
          "Trench",
          "Trench",
          "Trench",
          "Trench",
          null,
          "Trench",
          "Trench",
          "Trench",
          "Trench",
          null,
          "Trench",
          "Trench",
          "Trench",
          "Trench",
          null,
          "Trench",
          "Trench",
          "Trench",
          "Trench",
          null,
          "Cutter T",
          "Cutter T",
          "Cutter T",
          "Cutter T",
          null,
          "Cutter T",
          "Cutter T",
          "Cutter T",
          "Cutter T",
          null,
          "Cutter T",
          "Cutter T",
          "Cutter T",
          "Cutter T",
          null,
          "Cutter T",
          "Cutter T",
          "Cutter T",
          "Cutter T",
          null,
          "Cutter T",
          "Cutter T",
          "Cutter T",
          "Cutter T",
          null
         ]
        },
        {
         "connectgaps": false,
         "hoverinfo": "y+name",
         "line": {
          "color": "rgb(138,98,46)",
          "width": 10
         },
         "mode": "lines",
         "name": "loading:Carrier C",
         "type": "scatter",
         "x": [
          "1970-01-01T00:35:24",
          "1970-01-01T00:35:24",
          "1970-01-01T01:08:44",
          "1970-01-01T01:08:44",
          "1970-01-01T01:08:44",
          "1970-01-01T03:13:44",
          "1970-01-01T03:13:44",
          "1970-01-01T03:47:04",
          "1970-01-01T03:47:04",
          "1970-01-01T03:47:04",
          "1970-01-01T06:07:51",
          "1970-01-01T06:07:51",
          "1970-01-01T06:41:11",
          "1970-01-01T06:41:11",
          "1970-01-01T06:41:11",
          "1970-01-01T09:01:58",
          "1970-01-01T09:01:58",
          "1970-01-01T09:35:18",
          "1970-01-01T09:35:18",
          "1970-01-01T09:35:18",
          "1970-01-01T11:56:05",
          "1970-01-01T11:56:05",
          "1970-01-01T12:29:25",
          "1970-01-01T12:29:25",
          "1970-01-01T12:29:25",
          "1970-01-01T14:50:12",
          "1970-01-01T14:50:12",
          "1970-01-01T15:23:32",
          "1970-01-01T15:23:32",
          "1970-01-01T15:23:32",
          "1970-01-01T00:35:24",
          "1970-01-01T00:35:24",
          "1970-01-01T01:08:44",
          "1970-01-01T01:08:44",
          "1970-01-01T01:08:44",
          "1970-01-01T03:13:44",
          "1970-01-01T03:13:44",
          "1970-01-01T03:47:04",
          "1970-01-01T03:47:04",
          "1970-01-01T03:47:04",
          "1970-01-01T06:07:51",
          "1970-01-01T06:07:51",
          "1970-01-01T06:41:11",
          "1970-01-01T06:41:11",
          "1970-01-01T06:41:11",
          "1970-01-01T09:01:58",
          "1970-01-01T09:01:58",
          "1970-01-01T09:35:18",
          "1970-01-01T09:35:18",
          "1970-01-01T09:35:18",
          "1970-01-01T11:56:05",
          "1970-01-01T11:56:05",
          "1970-01-01T12:29:25",
          "1970-01-01T12:29:25",
          "1970-01-01T12:29:25",
          "1970-01-01T14:50:12",
          "1970-01-01T14:50:12",
          "1970-01-01T15:23:32",
          "1970-01-01T15:23:32",
          "1970-01-01T15:23:32"
         ],
         "y": [
          "Trench",
          "Trench",
          "Trench",
          "Trench",
          null,
          "Trench",
          "Trench",
          "Trench",
          "Trench",
          null,
          "Trench",
          "Trench",
          "Trench",
          "Trench",
          null,
          "Trench",
          "Trench",
          "Trench",
          "Trench",
          null,
          "Trench",
          "Trench",
          "Trench",
          "Trench",
          null,
          "Trench",
          "Trench",
          "Trench",
          "Trench",
          null,
          "Cutter T",
          "Cutter T",
          "Cutter T",
          "Cutter T",
          null,
          "Cutter T",
          "Cutter T",
          "Cutter T",
          "Cutter T",
          null,
          "Cutter T",
          "Cutter T",
          "Cutter T",
          "Cutter T",
          null,
          "Cutter T",
          "Cutter T",
          "Cutter T",
          "Cutter T",
          null,
          "Cutter T",
          "Cutter T",
          "Cutter T",
          "Cutter T",
          null,
          "Cutter T",
          "Cutter T",
          "Cutter T",
          "Cutter T",
          null
         ]
        },
        {
         "connectgaps": false,
         "hoverinfo": "y+name",
         "line": {
          "color": "rgb(159,119,67)",
          "width": 10
         },
         "mode": "lines",
         "name": "loading:Carrier A",
         "type": "scatter",
         "x": [
          "1970-01-01T02:32:04",
          "1970-01-01T02:32:04",
          "1970-01-01T03:13:44",
          "1970-01-01T03:13:44",
          "1970-01-01T03:13:44",
          "1970-01-01T05:26:11",
          "1970-01-01T05:26:11",
          "1970-01-01T06:07:51",
          "1970-01-01T06:07:51",
          "1970-01-01T06:07:51",
          "1970-01-01T08:20:18",
          "1970-01-01T08:20:18",
          "1970-01-01T09:01:58",
          "1970-01-01T09:01:58",
          "1970-01-01T09:01:58",
          "1970-01-01T11:14:25",
          "1970-01-01T11:14:25",
          "1970-01-01T11:56:05",
          "1970-01-01T11:56:05",
          "1970-01-01T11:56:05",
          "1970-01-01T14:08:32",
          "1970-01-01T14:08:32",
          "1970-01-01T14:50:12",
          "1970-01-01T14:50:12",
          "1970-01-01T14:50:12",
          "1970-01-01T02:32:04",
          "1970-01-01T02:32:04",
          "1970-01-01T03:13:44",
          "1970-01-01T03:13:44",
          "1970-01-01T03:13:44",
          "1970-01-01T05:26:11",
          "1970-01-01T05:26:11",
          "1970-01-01T06:07:51",
          "1970-01-01T06:07:51",
          "1970-01-01T06:07:51",
          "1970-01-01T08:20:18",
          "1970-01-01T08:20:18",
          "1970-01-01T09:01:58",
          "1970-01-01T09:01:58",
          "1970-01-01T09:01:58",
          "1970-01-01T11:14:25",
          "1970-01-01T11:14:25",
          "1970-01-01T11:56:05",
          "1970-01-01T11:56:05",
          "1970-01-01T11:56:05",
          "1970-01-01T14:08:32",
          "1970-01-01T14:08:32",
          "1970-01-01T14:50:12",
          "1970-01-01T14:50:12",
          "1970-01-01T14:50:12"
         ],
         "y": [
          "Trench",
          "Trench",
          "Trench",
          "Trench",
          null,
          "Trench",
          "Trench",
          "Trench",
          "Trench",
          null,
          "Trench",
          "Trench",
          "Trench",
          "Trench",
          null,
          "Trench",
          "Trench",
          "Trench",
          "Trench",
          null,
          "Trench",
          "Trench",
          "Trench",
          "Trench",
          null,
          "Cutter T",
          "Cutter T",
          "Cutter T",
          "Cutter T",
          null,
          "Cutter T",
          "Cutter T",
          "Cutter T",
          "Cutter T",
          null,
          "Cutter T",
          "Cutter T",
          "Cutter T",
          "Cutter T",
          null,
          "Cutter T",
          "Cutter T",
          "Cutter T",
          "Cutter T",
          null,
          "Cutter T",
          "Cutter T",
          "Cutter T",
          "Cutter T",
          null
         ]
        }
       ],
       "layout": {
        "hovermode": "closest",
        "legend": {
         "orientation": "h",
         "x": 0,
         "y": -0.2
        },
        "template": {
         "data": {
          "bar": [
           {
            "error_x": {
             "color": "#2a3f5f"
            },
            "error_y": {
             "color": "#2a3f5f"
            },
            "marker": {
             "line": {
              "color": "#E5ECF6",
              "width": 0.5
             },
             "pattern": {
              "fillmode": "overlay",
              "size": 10,
              "solidity": 0.2
             }
            },
            "type": "bar"
           }
          ],
          "barpolar": [
           {
            "marker": {
             "line": {
              "color": "#E5ECF6",
              "width": 0.5
             },
             "pattern": {
              "fillmode": "overlay",
              "size": 10,
              "solidity": 0.2
             }
            },
            "type": "barpolar"
           }
          ],
          "carpet": [
           {
            "aaxis": {
             "endlinecolor": "#2a3f5f",
             "gridcolor": "white",
             "linecolor": "white",
             "minorgridcolor": "white",
             "startlinecolor": "#2a3f5f"
            },
            "baxis": {
             "endlinecolor": "#2a3f5f",
             "gridcolor": "white",
             "linecolor": "white",
             "minorgridcolor": "white",
             "startlinecolor": "#2a3f5f"
            },
            "type": "carpet"
           }
          ],
          "choropleth": [
           {
            "colorbar": {
             "outlinewidth": 0,
             "ticks": ""
            },
            "type": "choropleth"
           }
          ],
          "contour": [
           {
            "colorbar": {
             "outlinewidth": 0,
             "ticks": ""
            },
            "colorscale": [
             [
              0,
              "#0d0887"
             ],
             [
              0.1111111111111111,
              "#46039f"
             ],
             [
              0.2222222222222222,
              "#7201a8"
             ],
             [
              0.3333333333333333,
              "#9c179e"
             ],
             [
              0.4444444444444444,
              "#bd3786"
             ],
             [
              0.5555555555555556,
              "#d8576b"
             ],
             [
              0.6666666666666666,
              "#ed7953"
             ],
             [
              0.7777777777777778,
              "#fb9f3a"
             ],
             [
              0.8888888888888888,
              "#fdca26"
             ],
             [
              1,
              "#f0f921"
             ]
            ],
            "type": "contour"
           }
          ],
          "contourcarpet": [
           {
            "colorbar": {
             "outlinewidth": 0,
             "ticks": ""
            },
            "type": "contourcarpet"
           }
          ],
          "heatmap": [
           {
            "colorbar": {
             "outlinewidth": 0,
             "ticks": ""
            },
            "colorscale": [
             [
              0,
              "#0d0887"
             ],
             [
              0.1111111111111111,
              "#46039f"
             ],
             [
              0.2222222222222222,
              "#7201a8"
             ],
             [
              0.3333333333333333,
              "#9c179e"
             ],
             [
              0.4444444444444444,
              "#bd3786"
             ],
             [
              0.5555555555555556,
              "#d8576b"
             ],
             [
              0.6666666666666666,
              "#ed7953"
             ],
             [
              0.7777777777777778,
              "#fb9f3a"
             ],
             [
              0.8888888888888888,
              "#fdca26"
             ],
             [
              1,
              "#f0f921"
             ]
            ],
            "type": "heatmap"
           }
          ],
          "heatmapgl": [
           {
            "colorbar": {
             "outlinewidth": 0,
             "ticks": ""
            },
            "colorscale": [
             [
              0,
              "#0d0887"
             ],
             [
              0.1111111111111111,
              "#46039f"
             ],
             [
              0.2222222222222222,
              "#7201a8"
             ],
             [
              0.3333333333333333,
              "#9c179e"
             ],
             [
              0.4444444444444444,
              "#bd3786"
             ],
             [
              0.5555555555555556,
              "#d8576b"
             ],
             [
              0.6666666666666666,
              "#ed7953"
             ],
             [
              0.7777777777777778,
              "#fb9f3a"
             ],
             [
              0.8888888888888888,
              "#fdca26"
             ],
             [
              1,
              "#f0f921"
             ]
            ],
            "type": "heatmapgl"
           }
          ],
          "histogram": [
           {
            "marker": {
             "pattern": {
              "fillmode": "overlay",
              "size": 10,
              "solidity": 0.2
             }
            },
            "type": "histogram"
           }
          ],
          "histogram2d": [
           {
            "colorbar": {
             "outlinewidth": 0,
             "ticks": ""
            },
            "colorscale": [
             [
              0,
              "#0d0887"
             ],
             [
              0.1111111111111111,
              "#46039f"
             ],
             [
              0.2222222222222222,
              "#7201a8"
             ],
             [
              0.3333333333333333,
              "#9c179e"
             ],
             [
              0.4444444444444444,
              "#bd3786"
             ],
             [
              0.5555555555555556,
              "#d8576b"
             ],
             [
              0.6666666666666666,
              "#ed7953"
             ],
             [
              0.7777777777777778,
              "#fb9f3a"
             ],
             [
              0.8888888888888888,
              "#fdca26"
             ],
             [
              1,
              "#f0f921"
             ]
            ],
            "type": "histogram2d"
           }
          ],
          "histogram2dcontour": [
           {
            "colorbar": {
             "outlinewidth": 0,
             "ticks": ""
            },
            "colorscale": [
             [
              0,
              "#0d0887"
             ],
             [
              0.1111111111111111,
              "#46039f"
             ],
             [
              0.2222222222222222,
              "#7201a8"
             ],
             [
              0.3333333333333333,
              "#9c179e"
             ],
             [
              0.4444444444444444,
              "#bd3786"
             ],
             [
              0.5555555555555556,
              "#d8576b"
             ],
             [
              0.6666666666666666,
              "#ed7953"
             ],
             [
              0.7777777777777778,
              "#fb9f3a"
             ],
             [
              0.8888888888888888,
              "#fdca26"
             ],
             [
              1,
              "#f0f921"
             ]
            ],
            "type": "histogram2dcontour"
           }
          ],
          "mesh3d": [
           {
            "colorbar": {
             "outlinewidth": 0,
             "ticks": ""
            },
            "type": "mesh3d"
           }
          ],
          "parcoords": [
           {
            "line": {
             "colorbar": {
              "outlinewidth": 0,
              "ticks": ""
             }
            },
            "type": "parcoords"
           }
          ],
          "pie": [
           {
            "automargin": true,
            "type": "pie"
           }
          ],
          "scatter": [
           {
            "fillpattern": {
             "fillmode": "overlay",
             "size": 10,
             "solidity": 0.2
            },
            "type": "scatter"
           }
          ],
          "scatter3d": [
           {
            "line": {
             "colorbar": {
              "outlinewidth": 0,
              "ticks": ""
             }
            },
            "marker": {
             "colorbar": {
              "outlinewidth": 0,
              "ticks": ""
             }
            },
            "type": "scatter3d"
           }
          ],
          "scattercarpet": [
           {
            "marker": {
             "colorbar": {
              "outlinewidth": 0,
              "ticks": ""
             }
            },
            "type": "scattercarpet"
           }
          ],
          "scattergeo": [
           {
            "marker": {
             "colorbar": {
              "outlinewidth": 0,
              "ticks": ""
             }
            },
            "type": "scattergeo"
           }
          ],
          "scattergl": [
           {
            "marker": {
             "colorbar": {
              "outlinewidth": 0,
              "ticks": ""
             }
            },
            "type": "scattergl"
           }
          ],
          "scattermapbox": [
           {
            "marker": {
             "colorbar": {
              "outlinewidth": 0,
              "ticks": ""
             }
            },
            "type": "scattermapbox"
           }
          ],
          "scatterpolar": [
           {
            "marker": {
             "colorbar": {
              "outlinewidth": 0,
              "ticks": ""
             }
            },
            "type": "scatterpolar"
           }
          ],
          "scatterpolargl": [
           {
            "marker": {
             "colorbar": {
              "outlinewidth": 0,
              "ticks": ""
             }
            },
            "type": "scatterpolargl"
           }
          ],
          "scatterternary": [
           {
            "marker": {
             "colorbar": {
              "outlinewidth": 0,
              "ticks": ""
             }
            },
            "type": "scatterternary"
           }
          ],
          "surface": [
           {
            "colorbar": {
             "outlinewidth": 0,
             "ticks": ""
            },
            "colorscale": [
             [
              0,
              "#0d0887"
             ],
             [
              0.1111111111111111,
              "#46039f"
             ],
             [
              0.2222222222222222,
              "#7201a8"
             ],
             [
              0.3333333333333333,
              "#9c179e"
             ],
             [
              0.4444444444444444,
              "#bd3786"
             ],
             [
              0.5555555555555556,
              "#d8576b"
             ],
             [
              0.6666666666666666,
              "#ed7953"
             ],
             [
              0.7777777777777778,
              "#fb9f3a"
             ],
             [
              0.8888888888888888,
              "#fdca26"
             ],
             [
              1,
              "#f0f921"
             ]
            ],
            "type": "surface"
           }
          ],
          "table": [
           {
            "cells": {
             "fill": {
              "color": "#EBF0F8"
             },
             "line": {
              "color": "white"
             }
            },
            "header": {
             "fill": {
              "color": "#C8D4E3"
             },
             "line": {
              "color": "white"
             }
            },
            "type": "table"
           }
          ]
         },
         "layout": {
          "annotationdefaults": {
           "arrowcolor": "#2a3f5f",
           "arrowhead": 0,
           "arrowwidth": 1
          },
          "autotypenumbers": "strict",
          "coloraxis": {
           "colorbar": {
            "outlinewidth": 0,
            "ticks": ""
           }
          },
          "colorscale": {
           "diverging": [
            [
             0,
             "#8e0152"
            ],
            [
             0.1,
             "#c51b7d"
            ],
            [
             0.2,
             "#de77ae"
            ],
            [
             0.3,
             "#f1b6da"
            ],
            [
             0.4,
             "#fde0ef"
            ],
            [
             0.5,
             "#f7f7f7"
            ],
            [
             0.6,
             "#e6f5d0"
            ],
            [
             0.7,
             "#b8e186"
            ],
            [
             0.8,
             "#7fbc41"
            ],
            [
             0.9,
             "#4d9221"
            ],
            [
             1,
             "#276419"
            ]
           ],
           "sequential": [
            [
             0,
             "#0d0887"
            ],
            [
             0.1111111111111111,
             "#46039f"
            ],
            [
             0.2222222222222222,
             "#7201a8"
            ],
            [
             0.3333333333333333,
             "#9c179e"
            ],
            [
             0.4444444444444444,
             "#bd3786"
            ],
            [
             0.5555555555555556,
             "#d8576b"
            ],
            [
             0.6666666666666666,
             "#ed7953"
            ],
            [
             0.7777777777777778,
             "#fb9f3a"
            ],
            [
             0.8888888888888888,
             "#fdca26"
            ],
            [
             1,
             "#f0f921"
            ]
           ],
           "sequentialminus": [
            [
             0,
             "#0d0887"
            ],
            [
             0.1111111111111111,
             "#46039f"
            ],
            [
             0.2222222222222222,
             "#7201a8"
            ],
            [
             0.3333333333333333,
             "#9c179e"
            ],
            [
             0.4444444444444444,
             "#bd3786"
            ],
            [
             0.5555555555555556,
             "#d8576b"
            ],
            [
             0.6666666666666666,
             "#ed7953"
            ],
            [
             0.7777777777777778,
             "#fb9f3a"
            ],
            [
             0.8888888888888888,
             "#fdca26"
            ],
            [
             1,
             "#f0f921"
            ]
           ]
          },
          "colorway": [
           "#636efa",
           "#EF553B",
           "#00cc96",
           "#ab63fa",
           "#FFA15A",
           "#19d3f3",
           "#FF6692",
           "#B6E880",
           "#FF97FF",
           "#FECB52"
          ],
          "font": {
           "color": "#2a3f5f"
          },
          "geo": {
           "bgcolor": "white",
           "lakecolor": "white",
           "landcolor": "#E5ECF6",
           "showlakes": true,
           "showland": true,
           "subunitcolor": "white"
          },
          "hoverlabel": {
           "align": "left"
          },
          "hovermode": "closest",
          "mapbox": {
           "style": "light"
          },
          "paper_bgcolor": "white",
          "plot_bgcolor": "#E5ECF6",
          "polar": {
           "angularaxis": {
            "gridcolor": "white",
            "linecolor": "white",
            "ticks": ""
           },
           "bgcolor": "#E5ECF6",
           "radialaxis": {
            "gridcolor": "white",
            "linecolor": "white",
            "ticks": ""
           }
          },
          "scene": {
           "xaxis": {
            "backgroundcolor": "#E5ECF6",
            "gridcolor": "white",
            "gridwidth": 2,
            "linecolor": "white",
            "showbackground": true,
            "ticks": "",
            "zerolinecolor": "white"
           },
           "yaxis": {
            "backgroundcolor": "#E5ECF6",
            "gridcolor": "white",
            "gridwidth": 2,
            "linecolor": "white",
            "showbackground": true,
            "ticks": "",
            "zerolinecolor": "white"
           },
           "zaxis": {
            "backgroundcolor": "#E5ECF6",
            "gridcolor": "white",
            "gridwidth": 2,
            "linecolor": "white",
            "showbackground": true,
            "ticks": "",
            "zerolinecolor": "white"
           }
          },
          "shapedefaults": {
           "line": {
            "color": "#2a3f5f"
           }
          },
          "ternary": {
           "aaxis": {
            "gridcolor": "white",
            "linecolor": "white",
            "ticks": ""
           },
           "baxis": {
            "gridcolor": "white",
            "linecolor": "white",
            "ticks": ""
           },
           "bgcolor": "#E5ECF6",
           "caxis": {
            "gridcolor": "white",
            "linecolor": "white",
            "ticks": ""
           }
          },
          "title": {
           "x": 0.05
          },
          "xaxis": {
           "automargin": true,
           "gridcolor": "white",
           "linecolor": "white",
           "ticks": "",
           "title": {
            "standoff": 15
           },
           "zerolinecolor": "white",
           "zerolinewidth": 2
          },
          "yaxis": {
           "automargin": true,
           "gridcolor": "white",
           "linecolor": "white",
           "ticks": "",
           "title": {
            "standoff": 15
           },
           "zerolinecolor": "white",
           "zerolinewidth": 2
          }
         }
        },
        "title": {
         "text": "GANTT Chart"
        },
        "xaxis": {
         "range": [
          "1970-01-01T00:35:24",
          "1970-01-01T17:24:10"
         ],
         "title": {
          "font": {
           "color": "#7f7f7f",
           "family": "Courier New, monospace",
           "size": 18
          },
          "text": "Time"
         }
        },
        "yaxis": {
         "title": {
          "font": {
           "color": "#7f7f7f",
           "family": "Courier New, monospace",
           "size": 18
          },
          "text": "Activities"
         }
        }
       }
      },
      "text/html": [
       "<div>                            <div id=\"ca701ed2-52eb-4fc4-902a-e5d0837350d1\" class=\"plotly-graph-div\" style=\"height:525px; width:100%;\"></div>            <script type=\"text/javascript\">                require([\"plotly\"], function(Plotly) {                    window.PLOTLYENV=window.PLOTLYENV || {};                                    if (document.getElementById(\"ca701ed2-52eb-4fc4-902a-e5d0837350d1\")) {                    Plotly.newPlot(                        \"ca701ed2-52eb-4fc4-902a-e5d0837350d1\",                        [{\"connectgaps\":false,\"hoverinfo\":\"y+name\",\"line\":{\"color\":\"rgb(184,144,92)\",\"width\":10},\"mode\":\"lines\",\"name\":\"loading:Barge I\",\"x\":[\"1970-01-01T01:08:44\",\"1970-01-01T01:08:44\",\"1970-01-01T01:50:24\",\"1970-01-01T01:50:24\",\"1970-01-01T01:50:24\",\"1970-01-01T03:48:51\",\"1970-01-01T03:48:51\",\"1970-01-01T04:30:31\",\"1970-01-01T04:30:31\",\"1970-01-01T04:30:31\",\"1970-01-01T06:41:11\",\"1970-01-01T06:41:11\",\"1970-01-01T07:22:51\",\"1970-01-01T07:22:51\",\"1970-01-01T07:22:51\",\"1970-01-01T09:35:18\",\"1970-01-01T09:35:18\",\"1970-01-01T10:16:58\",\"1970-01-01T10:16:58\",\"1970-01-01T10:16:58\",\"1970-01-01T12:29:25\",\"1970-01-01T12:29:25\",\"1970-01-01T13:11:05\",\"1970-01-01T13:11:05\",\"1970-01-01T13:11:05\",\"1970-01-01T15:23:32\",\"1970-01-01T15:23:32\",\"1970-01-01T16:05:12\",\"1970-01-01T16:05:12\",\"1970-01-01T16:05:12\",\"1970-01-01T01:08:44\",\"1970-01-01T01:08:44\",\"1970-01-01T01:50:24\",\"1970-01-01T01:50:24\",\"1970-01-01T01:50:24\",\"1970-01-01T03:48:51\",\"1970-01-01T03:48:51\",\"1970-01-01T04:30:31\",\"1970-01-01T04:30:31\",\"1970-01-01T04:30:31\",\"1970-01-01T06:41:11\",\"1970-01-01T06:41:11\",\"1970-01-01T07:22:51\",\"1970-01-01T07:22:51\",\"1970-01-01T07:22:51\",\"1970-01-01T09:35:18\",\"1970-01-01T09:35:18\",\"1970-01-01T10:16:58\",\"1970-01-01T10:16:58\",\"1970-01-01T10:16:58\",\"1970-01-01T12:29:25\",\"1970-01-01T12:29:25\",\"1970-01-01T13:11:05\",\"1970-01-01T13:11:05\",\"1970-01-01T13:11:05\",\"1970-01-01T15:23:32\",\"1970-01-01T15:23:32\",\"1970-01-01T16:05:12\",\"1970-01-01T16:05:12\",\"1970-01-01T16:05:12\"],\"y\":[\"Trench\",\"Trench\",\"Trench\",\"Trench\",null,\"Trench\",\"Trench\",\"Trench\",\"Trench\",null,\"Trench\",\"Trench\",\"Trench\",\"Trench\",null,\"Trench\",\"Trench\",\"Trench\",\"Trench\",null,\"Trench\",\"Trench\",\"Trench\",\"Trench\",null,\"Trench\",\"Trench\",\"Trench\",\"Trench\",null,\"Cutter T\",\"Cutter T\",\"Cutter T\",\"Cutter T\",null,\"Cutter T\",\"Cutter T\",\"Cutter T\",\"Cutter T\",null,\"Cutter T\",\"Cutter T\",\"Cutter T\",\"Cutter T\",null,\"Cutter T\",\"Cutter T\",\"Cutter T\",\"Cutter T\",null,\"Cutter T\",\"Cutter T\",\"Cutter T\",\"Cutter T\",null,\"Cutter T\",\"Cutter T\",\"Cutter T\",\"Cutter T\",null],\"type\":\"scatter\"},{\"connectgaps\":false,\"hoverinfo\":\"y+name\",\"line\":{\"color\":\"rgb(205,165,113)\",\"width\":10},\"mode\":\"lines\",\"name\":\"loading:Carrier B\",\"x\":[\"1970-01-01T01:50:24\",\"1970-01-01T01:50:24\",\"1970-01-01T02:32:04\",\"1970-01-01T02:32:04\",\"1970-01-01T02:32:04\",\"1970-01-01T04:32:49\",\"1970-01-01T04:32:49\",\"1970-01-01T05:14:29\",\"1970-01-01T05:14:29\",\"1970-01-01T05:14:29\",\"1970-01-01T07:22:51\",\"1970-01-01T07:22:51\",\"1970-01-01T08:04:31\",\"1970-01-01T08:04:31\",\"1970-01-01T08:04:31\",\"1970-01-01T10:16:58\",\"1970-01-01T10:16:58\",\"1970-01-01T10:58:38\",\"1970-01-01T10:58:38\",\"1970-01-01T10:58:38\",\"1970-01-01T13:11:05\",\"1970-01-01T13:11:05\",\"1970-01-01T13:52:45\",\"1970-01-01T13:52:45\",\"1970-01-01T13:52:45\",\"1970-01-01T01:50:24\",\"1970-01-01T01:50:24\",\"1970-01-01T02:32:04\",\"1970-01-01T02:32:04\",\"1970-01-01T02:32:04\",\"1970-01-01T04:32:49\",\"1970-01-01T04:32:49\",\"1970-01-01T05:14:29\",\"1970-01-01T05:14:29\",\"1970-01-01T05:14:29\",\"1970-01-01T07:22:51\",\"1970-01-01T07:22:51\",\"1970-01-01T08:04:31\",\"1970-01-01T08:04:31\",\"1970-01-01T08:04:31\",\"1970-01-01T10:16:58\",\"1970-01-01T10:16:58\",\"1970-01-01T10:58:38\",\"1970-01-01T10:58:38\",\"1970-01-01T10:58:38\",\"1970-01-01T13:11:05\",\"1970-01-01T13:11:05\",\"1970-01-01T13:52:45\",\"1970-01-01T13:52:45\",\"1970-01-01T13:52:45\"],\"y\":[\"Trench\",\"Trench\",\"Trench\",\"Trench\",null,\"Trench\",\"Trench\",\"Trench\",\"Trench\",null,\"Trench\",\"Trench\",\"Trench\",\"Trench\",null,\"Trench\",\"Trench\",\"Trench\",\"Trench\",null,\"Trench\",\"Trench\",\"Trench\",\"Trench\",null,\"Cutter T\",\"Cutter T\",\"Cutter T\",\"Cutter T\",null,\"Cutter T\",\"Cutter T\",\"Cutter T\",\"Cutter T\",null,\"Cutter T\",\"Cutter T\",\"Cutter T\",\"Cutter T\",null,\"Cutter T\",\"Cutter T\",\"Cutter T\",\"Cutter T\",null,\"Cutter T\",\"Cutter T\",\"Cutter T\",\"Cutter T\",null],\"type\":\"scatter\"},{\"connectgaps\":false,\"hoverinfo\":\"y+name\",\"line\":{\"color\":\"rgb(226,186,134)\",\"width\":10},\"mode\":\"lines\",\"name\":\"loading:Carrier C\",\"x\":[\"1970-01-01T00:35:24\",\"1970-01-01T00:35:24\",\"1970-01-01T01:08:44\",\"1970-01-01T01:08:44\",\"1970-01-01T01:08:44\",\"1970-01-01T03:13:44\",\"1970-01-01T03:13:44\",\"1970-01-01T03:47:04\",\"1970-01-01T03:47:04\",\"1970-01-01T03:47:04\",\"1970-01-01T06:07:51\",\"1970-01-01T06:07:51\",\"1970-01-01T06:41:11\",\"1970-01-01T06:41:11\",\"1970-01-01T06:41:11\",\"1970-01-01T09:01:58\",\"1970-01-01T09:01:58\",\"1970-01-01T09:35:18\",\"1970-01-01T09:35:18\",\"1970-01-01T09:35:18\",\"1970-01-01T11:56:05\",\"1970-01-01T11:56:05\",\"1970-01-01T12:29:25\",\"1970-01-01T12:29:25\",\"1970-01-01T12:29:25\",\"1970-01-01T14:50:12\",\"1970-01-01T14:50:12\",\"1970-01-01T15:23:32\",\"1970-01-01T15:23:32\",\"1970-01-01T15:23:32\",\"1970-01-01T00:35:24\",\"1970-01-01T00:35:24\",\"1970-01-01T01:08:44\",\"1970-01-01T01:08:44\",\"1970-01-01T01:08:44\",\"1970-01-01T03:13:44\",\"1970-01-01T03:13:44\",\"1970-01-01T03:47:04\",\"1970-01-01T03:47:04\",\"1970-01-01T03:47:04\",\"1970-01-01T06:07:51\",\"1970-01-01T06:07:51\",\"1970-01-01T06:41:11\",\"1970-01-01T06:41:11\",\"1970-01-01T06:41:11\",\"1970-01-01T09:01:58\",\"1970-01-01T09:01:58\",\"1970-01-01T09:35:18\",\"1970-01-01T09:35:18\",\"1970-01-01T09:35:18\",\"1970-01-01T11:56:05\",\"1970-01-01T11:56:05\",\"1970-01-01T12:29:25\",\"1970-01-01T12:29:25\",\"1970-01-01T12:29:25\",\"1970-01-01T14:50:12\",\"1970-01-01T14:50:12\",\"1970-01-01T15:23:32\",\"1970-01-01T15:23:32\",\"1970-01-01T15:23:32\"],\"y\":[\"Trench\",\"Trench\",\"Trench\",\"Trench\",null,\"Trench\",\"Trench\",\"Trench\",\"Trench\",null,\"Trench\",\"Trench\",\"Trench\",\"Trench\",null,\"Trench\",\"Trench\",\"Trench\",\"Trench\",null,\"Trench\",\"Trench\",\"Trench\",\"Trench\",null,\"Trench\",\"Trench\",\"Trench\",\"Trench\",null,\"Cutter T\",\"Cutter T\",\"Cutter T\",\"Cutter T\",null,\"Cutter T\",\"Cutter T\",\"Cutter T\",\"Cutter T\",null,\"Cutter T\",\"Cutter T\",\"Cutter T\",\"Cutter T\",null,\"Cutter T\",\"Cutter T\",\"Cutter T\",\"Cutter T\",null,\"Cutter T\",\"Cutter T\",\"Cutter T\",\"Cutter T\",null,\"Cutter T\",\"Cutter T\",\"Cutter T\",\"Cutter T\",null],\"type\":\"scatter\"},{\"connectgaps\":false,\"hoverinfo\":\"y+name\",\"line\":{\"color\":\"rgb(247,207,155)\",\"width\":10},\"mode\":\"lines\",\"name\":\"loading:Carrier A\",\"x\":[\"1970-01-01T02:32:04\",\"1970-01-01T02:32:04\",\"1970-01-01T03:13:44\",\"1970-01-01T03:13:44\",\"1970-01-01T03:13:44\",\"1970-01-01T05:26:11\",\"1970-01-01T05:26:11\",\"1970-01-01T06:07:51\",\"1970-01-01T06:07:51\",\"1970-01-01T06:07:51\",\"1970-01-01T08:20:18\",\"1970-01-01T08:20:18\",\"1970-01-01T09:01:58\",\"1970-01-01T09:01:58\",\"1970-01-01T09:01:58\",\"1970-01-01T11:14:25\",\"1970-01-01T11:14:25\",\"1970-01-01T11:56:05\",\"1970-01-01T11:56:05\",\"1970-01-01T11:56:05\",\"1970-01-01T14:08:32\",\"1970-01-01T14:08:32\",\"1970-01-01T14:50:12\",\"1970-01-01T14:50:12\",\"1970-01-01T14:50:12\",\"1970-01-01T02:32:04\",\"1970-01-01T02:32:04\",\"1970-01-01T03:13:44\",\"1970-01-01T03:13:44\",\"1970-01-01T03:13:44\",\"1970-01-01T05:26:11\",\"1970-01-01T05:26:11\",\"1970-01-01T06:07:51\",\"1970-01-01T06:07:51\",\"1970-01-01T06:07:51\",\"1970-01-01T08:20:18\",\"1970-01-01T08:20:18\",\"1970-01-01T09:01:58\",\"1970-01-01T09:01:58\",\"1970-01-01T09:01:58\",\"1970-01-01T11:14:25\",\"1970-01-01T11:14:25\",\"1970-01-01T11:56:05\",\"1970-01-01T11:56:05\",\"1970-01-01T11:56:05\",\"1970-01-01T14:08:32\",\"1970-01-01T14:08:32\",\"1970-01-01T14:50:12\",\"1970-01-01T14:50:12\",\"1970-01-01T14:50:12\"],\"y\":[\"Trench\",\"Trench\",\"Trench\",\"Trench\",null,\"Trench\",\"Trench\",\"Trench\",\"Trench\",null,\"Trench\",\"Trench\",\"Trench\",\"Trench\",null,\"Trench\",\"Trench\",\"Trench\",\"Trench\",null,\"Trench\",\"Trench\",\"Trench\",\"Trench\",null,\"Cutter T\",\"Cutter T\",\"Cutter T\",\"Cutter T\",null,\"Cutter T\",\"Cutter T\",\"Cutter T\",\"Cutter T\",null,\"Cutter T\",\"Cutter T\",\"Cutter T\",\"Cutter T\",null,\"Cutter T\",\"Cutter T\",\"Cutter T\",\"Cutter T\",null,\"Cutter T\",\"Cutter T\",\"Cutter T\",\"Cutter T\",null],\"type\":\"scatter\"},{\"connectgaps\":false,\"hoverinfo\":\"y+name\",\"line\":{\"color\":\"rgb(12,228,176)\",\"width\":10},\"mode\":\"lines\",\"name\":\"unloading:Carrier C\",\"x\":[\"1970-01-01T01:44:08\",\"1970-01-01T01:44:08\",\"1970-01-01T02:19:32\",\"1970-01-01T02:19:32\",\"1970-01-01T02:19:32\",\"1970-01-01T04:22:28\",\"1970-01-01T04:22:28\",\"1970-01-01T04:57:52\",\"1970-01-01T04:57:52\",\"1970-01-01T04:57:52\",\"1970-01-01T07:16:35\",\"1970-01-01T07:16:35\",\"1970-01-01T07:51:59\",\"1970-01-01T07:51:59\",\"1970-01-01T07:51:59\",\"1970-01-01T10:10:42\",\"1970-01-01T10:10:42\",\"1970-01-01T10:46:06\",\"1970-01-01T10:46:06\",\"1970-01-01T10:46:06\",\"1970-01-01T13:04:49\",\"1970-01-01T13:04:49\",\"1970-01-01T13:40:13\",\"1970-01-01T13:40:13\",\"1970-01-01T13:40:13\",\"1970-01-01T15:58:56\",\"1970-01-01T15:58:56\",\"1970-01-01T16:34:20\",\"1970-01-01T16:34:20\",\"1970-01-01T16:34:20\"],\"y\":[\"Reclamation\",\"Reclamation\",\"Reclamation\",\"Reclamation\",null,\"Reclamation\",\"Reclamation\",\"Reclamation\",\"Reclamation\",null,\"Reclamation\",\"Reclamation\",\"Reclamation\",\"Reclamation\",null,\"Reclamation\",\"Reclamation\",\"Reclamation\",\"Reclamation\",null,\"Reclamation\",\"Reclamation\",\"Reclamation\",\"Reclamation\",null,\"Reclamation\",\"Reclamation\",\"Reclamation\",\"Reclamation\",null],\"type\":\"scatter\"},{\"connectgaps\":false,\"hoverinfo\":\"y+name\",\"line\":{\"color\":\"rgb(33,249,197)\",\"width\":10},\"mode\":\"lines\",\"name\":\"unloading:Carrier B\",\"x\":[\"1970-01-01T03:12:19\",\"1970-01-01T03:12:19\",\"1970-01-01T03:52:34\",\"1970-01-01T03:52:34\",\"1970-01-01T03:52:34\",\"1970-01-01T05:54:44\",\"1970-01-01T05:54:44\",\"1970-01-01T06:34:59\",\"1970-01-01T06:34:59\",\"1970-01-01T06:34:59\",\"1970-01-01T08:44:46\",\"1970-01-01T08:44:46\",\"1970-01-01T09:25:01\",\"1970-01-01T09:25:01\",\"1970-01-01T09:25:01\",\"1970-01-01T11:38:53\",\"1970-01-01T11:38:53\",\"1970-01-01T12:19:08\",\"1970-01-01T12:19:08\",\"1970-01-01T12:19:08\",\"1970-01-01T14:33:00\",\"1970-01-01T14:33:00\",\"1970-01-01T15:13:15\",\"1970-01-01T15:13:15\",\"1970-01-01T15:13:15\"],\"y\":[\"Reclamation\",\"Reclamation\",\"Reclamation\",\"Reclamation\",null,\"Reclamation\",\"Reclamation\",\"Reclamation\",\"Reclamation\",null,\"Reclamation\",\"Reclamation\",\"Reclamation\",\"Reclamation\",null,\"Reclamation\",\"Reclamation\",\"Reclamation\",\"Reclamation\",null,\"Reclamation\",\"Reclamation\",\"Reclamation\",\"Reclamation\",null],\"type\":\"scatter\"},{\"connectgaps\":false,\"hoverinfo\":\"y+name\",\"line\":{\"color\":\"rgb(54,14,218)\",\"width\":10},\"mode\":\"lines\",\"name\":\"unloading:Carrier A\",\"x\":[\"1970-01-01T03:57:53\",\"1970-01-01T03:57:53\",\"1970-01-01T04:42:02\",\"1970-01-01T04:42:02\",\"1970-01-01T04:42:02\",\"1970-01-01T06:52:00\",\"1970-01-01T06:52:00\",\"1970-01-01T07:36:09\",\"1970-01-01T07:36:09\",\"1970-01-01T07:36:09\",\"1970-01-01T09:46:07\",\"1970-01-01T09:46:07\",\"1970-01-01T10:30:16\",\"1970-01-01T10:30:16\",\"1970-01-01T10:30:16\",\"1970-01-01T12:40:14\",\"1970-01-01T12:40:14\",\"1970-01-01T13:24:23\",\"1970-01-01T13:24:23\",\"1970-01-01T13:24:23\",\"1970-01-01T15:34:21\",\"1970-01-01T15:34:21\",\"1970-01-01T16:18:30\",\"1970-01-01T16:18:30\",\"1970-01-01T16:18:30\"],\"y\":[\"Reclamation\",\"Reclamation\",\"Reclamation\",\"Reclamation\",null,\"Reclamation\",\"Reclamation\",\"Reclamation\",\"Reclamation\",null,\"Reclamation\",\"Reclamation\",\"Reclamation\",\"Reclamation\",null,\"Reclamation\",\"Reclamation\",\"Reclamation\",\"Reclamation\",null,\"Reclamation\",\"Reclamation\",\"Reclamation\",\"Reclamation\",null],\"type\":\"scatter\"},{\"connectgaps\":false,\"hoverinfo\":\"y+name\",\"line\":{\"color\":\"rgb(75,35,239)\",\"width\":10},\"mode\":\"lines\",\"name\":\"unloading:Barge I\",\"x\":[\"1970-01-01T02:29:53\",\"1970-01-01T02:29:53\",\"1970-01-01T03:09:22\",\"1970-01-01T03:09:22\",\"1970-01-01T03:09:22\",\"1970-01-01T05:10:00\",\"1970-01-01T05:10:00\",\"1970-01-01T05:49:29\",\"1970-01-01T05:49:29\",\"1970-01-01T05:49:29\",\"1970-01-01T08:02:20\",\"1970-01-01T08:02:20\",\"1970-01-01T08:41:49\",\"1970-01-01T08:41:49\",\"1970-01-01T08:41:49\",\"1970-01-01T10:56:27\",\"1970-01-01T10:56:27\",\"1970-01-01T11:35:56\",\"1970-01-01T11:35:56\",\"1970-01-01T11:35:56\",\"1970-01-01T13:50:34\",\"1970-01-01T13:50:34\",\"1970-01-01T14:30:03\",\"1970-01-01T14:30:03\",\"1970-01-01T14:30:03\",\"1970-01-01T16:44:41\",\"1970-01-01T16:44:41\",\"1970-01-01T17:24:10\",\"1970-01-01T17:24:10\",\"1970-01-01T17:24:10\"],\"y\":[\"Reclamation\",\"Reclamation\",\"Reclamation\",\"Reclamation\",null,\"Reclamation\",\"Reclamation\",\"Reclamation\",\"Reclamation\",null,\"Reclamation\",\"Reclamation\",\"Reclamation\",\"Reclamation\",null,\"Reclamation\",\"Reclamation\",\"Reclamation\",\"Reclamation\",null,\"Reclamation\",\"Reclamation\",\"Reclamation\",\"Reclamation\",null,\"Reclamation\",\"Reclamation\",\"Reclamation\",\"Reclamation\",null],\"type\":\"scatter\"},{\"connectgaps\":false,\"hoverinfo\":\"y+name\",\"line\":{\"color\":\"rgb(96,56,4)\",\"width\":10},\"mode\":\"lines\",\"name\":\"loading:Barge I\",\"x\":[\"1970-01-01T01:08:44\",\"1970-01-01T01:08:44\",\"1970-01-01T01:50:24\",\"1970-01-01T01:50:24\",\"1970-01-01T01:50:24\",\"1970-01-01T03:48:51\",\"1970-01-01T03:48:51\",\"1970-01-01T04:30:31\",\"1970-01-01T04:30:31\",\"1970-01-01T04:30:31\",\"1970-01-01T06:41:11\",\"1970-01-01T06:41:11\",\"1970-01-01T07:22:51\",\"1970-01-01T07:22:51\",\"1970-01-01T07:22:51\",\"1970-01-01T09:35:18\",\"1970-01-01T09:35:18\",\"1970-01-01T10:16:58\",\"1970-01-01T10:16:58\",\"1970-01-01T10:16:58\",\"1970-01-01T12:29:25\",\"1970-01-01T12:29:25\",\"1970-01-01T13:11:05\",\"1970-01-01T13:11:05\",\"1970-01-01T13:11:05\",\"1970-01-01T15:23:32\",\"1970-01-01T15:23:32\",\"1970-01-01T16:05:12\",\"1970-01-01T16:05:12\",\"1970-01-01T16:05:12\",\"1970-01-01T01:08:44\",\"1970-01-01T01:08:44\",\"1970-01-01T01:50:24\",\"1970-01-01T01:50:24\",\"1970-01-01T01:50:24\",\"1970-01-01T03:48:51\",\"1970-01-01T03:48:51\",\"1970-01-01T04:30:31\",\"1970-01-01T04:30:31\",\"1970-01-01T04:30:31\",\"1970-01-01T06:41:11\",\"1970-01-01T06:41:11\",\"1970-01-01T07:22:51\",\"1970-01-01T07:22:51\",\"1970-01-01T07:22:51\",\"1970-01-01T09:35:18\",\"1970-01-01T09:35:18\",\"1970-01-01T10:16:58\",\"1970-01-01T10:16:58\",\"1970-01-01T10:16:58\",\"1970-01-01T12:29:25\",\"1970-01-01T12:29:25\",\"1970-01-01T13:11:05\",\"1970-01-01T13:11:05\",\"1970-01-01T13:11:05\",\"1970-01-01T15:23:32\",\"1970-01-01T15:23:32\",\"1970-01-01T16:05:12\",\"1970-01-01T16:05:12\",\"1970-01-01T16:05:12\"],\"y\":[\"Trench\",\"Trench\",\"Trench\",\"Trench\",null,\"Trench\",\"Trench\",\"Trench\",\"Trench\",null,\"Trench\",\"Trench\",\"Trench\",\"Trench\",null,\"Trench\",\"Trench\",\"Trench\",\"Trench\",null,\"Trench\",\"Trench\",\"Trench\",\"Trench\",null,\"Trench\",\"Trench\",\"Trench\",\"Trench\",null,\"Cutter T\",\"Cutter T\",\"Cutter T\",\"Cutter T\",null,\"Cutter T\",\"Cutter T\",\"Cutter T\",\"Cutter T\",null,\"Cutter T\",\"Cutter T\",\"Cutter T\",\"Cutter T\",null,\"Cutter T\",\"Cutter T\",\"Cutter T\",\"Cutter T\",null,\"Cutter T\",\"Cutter T\",\"Cutter T\",\"Cutter T\",null,\"Cutter T\",\"Cutter T\",\"Cutter T\",\"Cutter T\",null],\"type\":\"scatter\"},{\"connectgaps\":false,\"hoverinfo\":\"y+name\",\"line\":{\"color\":\"rgb(117,77,25)\",\"width\":10},\"mode\":\"lines\",\"name\":\"loading:Carrier B\",\"x\":[\"1970-01-01T01:50:24\",\"1970-01-01T01:50:24\",\"1970-01-01T02:32:04\",\"1970-01-01T02:32:04\",\"1970-01-01T02:32:04\",\"1970-01-01T04:32:49\",\"1970-01-01T04:32:49\",\"1970-01-01T05:14:29\",\"1970-01-01T05:14:29\",\"1970-01-01T05:14:29\",\"1970-01-01T07:22:51\",\"1970-01-01T07:22:51\",\"1970-01-01T08:04:31\",\"1970-01-01T08:04:31\",\"1970-01-01T08:04:31\",\"1970-01-01T10:16:58\",\"1970-01-01T10:16:58\",\"1970-01-01T10:58:38\",\"1970-01-01T10:58:38\",\"1970-01-01T10:58:38\",\"1970-01-01T13:11:05\",\"1970-01-01T13:11:05\",\"1970-01-01T13:52:45\",\"1970-01-01T13:52:45\",\"1970-01-01T13:52:45\",\"1970-01-01T01:50:24\",\"1970-01-01T01:50:24\",\"1970-01-01T02:32:04\",\"1970-01-01T02:32:04\",\"1970-01-01T02:32:04\",\"1970-01-01T04:32:49\",\"1970-01-01T04:32:49\",\"1970-01-01T05:14:29\",\"1970-01-01T05:14:29\",\"1970-01-01T05:14:29\",\"1970-01-01T07:22:51\",\"1970-01-01T07:22:51\",\"1970-01-01T08:04:31\",\"1970-01-01T08:04:31\",\"1970-01-01T08:04:31\",\"1970-01-01T10:16:58\",\"1970-01-01T10:16:58\",\"1970-01-01T10:58:38\",\"1970-01-01T10:58:38\",\"1970-01-01T10:58:38\",\"1970-01-01T13:11:05\",\"1970-01-01T13:11:05\",\"1970-01-01T13:52:45\",\"1970-01-01T13:52:45\",\"1970-01-01T13:52:45\"],\"y\":[\"Trench\",\"Trench\",\"Trench\",\"Trench\",null,\"Trench\",\"Trench\",\"Trench\",\"Trench\",null,\"Trench\",\"Trench\",\"Trench\",\"Trench\",null,\"Trench\",\"Trench\",\"Trench\",\"Trench\",null,\"Trench\",\"Trench\",\"Trench\",\"Trench\",null,\"Cutter T\",\"Cutter T\",\"Cutter T\",\"Cutter T\",null,\"Cutter T\",\"Cutter T\",\"Cutter T\",\"Cutter T\",null,\"Cutter T\",\"Cutter T\",\"Cutter T\",\"Cutter T\",null,\"Cutter T\",\"Cutter T\",\"Cutter T\",\"Cutter T\",null,\"Cutter T\",\"Cutter T\",\"Cutter T\",\"Cutter T\",null],\"type\":\"scatter\"},{\"connectgaps\":false,\"hoverinfo\":\"y+name\",\"line\":{\"color\":\"rgb(138,98,46)\",\"width\":10},\"mode\":\"lines\",\"name\":\"loading:Carrier C\",\"x\":[\"1970-01-01T00:35:24\",\"1970-01-01T00:35:24\",\"1970-01-01T01:08:44\",\"1970-01-01T01:08:44\",\"1970-01-01T01:08:44\",\"1970-01-01T03:13:44\",\"1970-01-01T03:13:44\",\"1970-01-01T03:47:04\",\"1970-01-01T03:47:04\",\"1970-01-01T03:47:04\",\"1970-01-01T06:07:51\",\"1970-01-01T06:07:51\",\"1970-01-01T06:41:11\",\"1970-01-01T06:41:11\",\"1970-01-01T06:41:11\",\"1970-01-01T09:01:58\",\"1970-01-01T09:01:58\",\"1970-01-01T09:35:18\",\"1970-01-01T09:35:18\",\"1970-01-01T09:35:18\",\"1970-01-01T11:56:05\",\"1970-01-01T11:56:05\",\"1970-01-01T12:29:25\",\"1970-01-01T12:29:25\",\"1970-01-01T12:29:25\",\"1970-01-01T14:50:12\",\"1970-01-01T14:50:12\",\"1970-01-01T15:23:32\",\"1970-01-01T15:23:32\",\"1970-01-01T15:23:32\",\"1970-01-01T00:35:24\",\"1970-01-01T00:35:24\",\"1970-01-01T01:08:44\",\"1970-01-01T01:08:44\",\"1970-01-01T01:08:44\",\"1970-01-01T03:13:44\",\"1970-01-01T03:13:44\",\"1970-01-01T03:47:04\",\"1970-01-01T03:47:04\",\"1970-01-01T03:47:04\",\"1970-01-01T06:07:51\",\"1970-01-01T06:07:51\",\"1970-01-01T06:41:11\",\"1970-01-01T06:41:11\",\"1970-01-01T06:41:11\",\"1970-01-01T09:01:58\",\"1970-01-01T09:01:58\",\"1970-01-01T09:35:18\",\"1970-01-01T09:35:18\",\"1970-01-01T09:35:18\",\"1970-01-01T11:56:05\",\"1970-01-01T11:56:05\",\"1970-01-01T12:29:25\",\"1970-01-01T12:29:25\",\"1970-01-01T12:29:25\",\"1970-01-01T14:50:12\",\"1970-01-01T14:50:12\",\"1970-01-01T15:23:32\",\"1970-01-01T15:23:32\",\"1970-01-01T15:23:32\"],\"y\":[\"Trench\",\"Trench\",\"Trench\",\"Trench\",null,\"Trench\",\"Trench\",\"Trench\",\"Trench\",null,\"Trench\",\"Trench\",\"Trench\",\"Trench\",null,\"Trench\",\"Trench\",\"Trench\",\"Trench\",null,\"Trench\",\"Trench\",\"Trench\",\"Trench\",null,\"Trench\",\"Trench\",\"Trench\",\"Trench\",null,\"Cutter T\",\"Cutter T\",\"Cutter T\",\"Cutter T\",null,\"Cutter T\",\"Cutter T\",\"Cutter T\",\"Cutter T\",null,\"Cutter T\",\"Cutter T\",\"Cutter T\",\"Cutter T\",null,\"Cutter T\",\"Cutter T\",\"Cutter T\",\"Cutter T\",null,\"Cutter T\",\"Cutter T\",\"Cutter T\",\"Cutter T\",null,\"Cutter T\",\"Cutter T\",\"Cutter T\",\"Cutter T\",null],\"type\":\"scatter\"},{\"connectgaps\":false,\"hoverinfo\":\"y+name\",\"line\":{\"color\":\"rgb(159,119,67)\",\"width\":10},\"mode\":\"lines\",\"name\":\"loading:Carrier A\",\"x\":[\"1970-01-01T02:32:04\",\"1970-01-01T02:32:04\",\"1970-01-01T03:13:44\",\"1970-01-01T03:13:44\",\"1970-01-01T03:13:44\",\"1970-01-01T05:26:11\",\"1970-01-01T05:26:11\",\"1970-01-01T06:07:51\",\"1970-01-01T06:07:51\",\"1970-01-01T06:07:51\",\"1970-01-01T08:20:18\",\"1970-01-01T08:20:18\",\"1970-01-01T09:01:58\",\"1970-01-01T09:01:58\",\"1970-01-01T09:01:58\",\"1970-01-01T11:14:25\",\"1970-01-01T11:14:25\",\"1970-01-01T11:56:05\",\"1970-01-01T11:56:05\",\"1970-01-01T11:56:05\",\"1970-01-01T14:08:32\",\"1970-01-01T14:08:32\",\"1970-01-01T14:50:12\",\"1970-01-01T14:50:12\",\"1970-01-01T14:50:12\",\"1970-01-01T02:32:04\",\"1970-01-01T02:32:04\",\"1970-01-01T03:13:44\",\"1970-01-01T03:13:44\",\"1970-01-01T03:13:44\",\"1970-01-01T05:26:11\",\"1970-01-01T05:26:11\",\"1970-01-01T06:07:51\",\"1970-01-01T06:07:51\",\"1970-01-01T06:07:51\",\"1970-01-01T08:20:18\",\"1970-01-01T08:20:18\",\"1970-01-01T09:01:58\",\"1970-01-01T09:01:58\",\"1970-01-01T09:01:58\",\"1970-01-01T11:14:25\",\"1970-01-01T11:14:25\",\"1970-01-01T11:56:05\",\"1970-01-01T11:56:05\",\"1970-01-01T11:56:05\",\"1970-01-01T14:08:32\",\"1970-01-01T14:08:32\",\"1970-01-01T14:50:12\",\"1970-01-01T14:50:12\",\"1970-01-01T14:50:12\"],\"y\":[\"Trench\",\"Trench\",\"Trench\",\"Trench\",null,\"Trench\",\"Trench\",\"Trench\",\"Trench\",null,\"Trench\",\"Trench\",\"Trench\",\"Trench\",null,\"Trench\",\"Trench\",\"Trench\",\"Trench\",null,\"Trench\",\"Trench\",\"Trench\",\"Trench\",null,\"Cutter T\",\"Cutter T\",\"Cutter T\",\"Cutter T\",null,\"Cutter T\",\"Cutter T\",\"Cutter T\",\"Cutter T\",null,\"Cutter T\",\"Cutter T\",\"Cutter T\",\"Cutter T\",null,\"Cutter T\",\"Cutter T\",\"Cutter T\",\"Cutter T\",null,\"Cutter T\",\"Cutter T\",\"Cutter T\",\"Cutter T\",null],\"type\":\"scatter\"}],                        {\"hovermode\":\"closest\",\"legend\":{\"orientation\":\"h\",\"x\":0,\"y\":-0.2},\"template\":{\"data\":{\"barpolar\":[{\"marker\":{\"line\":{\"color\":\"#E5ECF6\",\"width\":0.5},\"pattern\":{\"fillmode\":\"overlay\",\"size\":10,\"solidity\":0.2}},\"type\":\"barpolar\"}],\"bar\":[{\"error_x\":{\"color\":\"#2a3f5f\"},\"error_y\":{\"color\":\"#2a3f5f\"},\"marker\":{\"line\":{\"color\":\"#E5ECF6\",\"width\":0.5},\"pattern\":{\"fillmode\":\"overlay\",\"size\":10,\"solidity\":0.2}},\"type\":\"bar\"}],\"carpet\":[{\"aaxis\":{\"endlinecolor\":\"#2a3f5f\",\"gridcolor\":\"white\",\"linecolor\":\"white\",\"minorgridcolor\":\"white\",\"startlinecolor\":\"#2a3f5f\"},\"baxis\":{\"endlinecolor\":\"#2a3f5f\",\"gridcolor\":\"white\",\"linecolor\":\"white\",\"minorgridcolor\":\"white\",\"startlinecolor\":\"#2a3f5f\"},\"type\":\"carpet\"}],\"choropleth\":[{\"colorbar\":{\"outlinewidth\":0,\"ticks\":\"\"},\"type\":\"choropleth\"}],\"contourcarpet\":[{\"colorbar\":{\"outlinewidth\":0,\"ticks\":\"\"},\"type\":\"contourcarpet\"}],\"contour\":[{\"colorbar\":{\"outlinewidth\":0,\"ticks\":\"\"},\"colorscale\":[[0.0,\"#0d0887\"],[0.1111111111111111,\"#46039f\"],[0.2222222222222222,\"#7201a8\"],[0.3333333333333333,\"#9c179e\"],[0.4444444444444444,\"#bd3786\"],[0.5555555555555556,\"#d8576b\"],[0.6666666666666666,\"#ed7953\"],[0.7777777777777778,\"#fb9f3a\"],[0.8888888888888888,\"#fdca26\"],[1.0,\"#f0f921\"]],\"type\":\"contour\"}],\"heatmapgl\":[{\"colorbar\":{\"outlinewidth\":0,\"ticks\":\"\"},\"colorscale\":[[0.0,\"#0d0887\"],[0.1111111111111111,\"#46039f\"],[0.2222222222222222,\"#7201a8\"],[0.3333333333333333,\"#9c179e\"],[0.4444444444444444,\"#bd3786\"],[0.5555555555555556,\"#d8576b\"],[0.6666666666666666,\"#ed7953\"],[0.7777777777777778,\"#fb9f3a\"],[0.8888888888888888,\"#fdca26\"],[1.0,\"#f0f921\"]],\"type\":\"heatmapgl\"}],\"heatmap\":[{\"colorbar\":{\"outlinewidth\":0,\"ticks\":\"\"},\"colorscale\":[[0.0,\"#0d0887\"],[0.1111111111111111,\"#46039f\"],[0.2222222222222222,\"#7201a8\"],[0.3333333333333333,\"#9c179e\"],[0.4444444444444444,\"#bd3786\"],[0.5555555555555556,\"#d8576b\"],[0.6666666666666666,\"#ed7953\"],[0.7777777777777778,\"#fb9f3a\"],[0.8888888888888888,\"#fdca26\"],[1.0,\"#f0f921\"]],\"type\":\"heatmap\"}],\"histogram2dcontour\":[{\"colorbar\":{\"outlinewidth\":0,\"ticks\":\"\"},\"colorscale\":[[0.0,\"#0d0887\"],[0.1111111111111111,\"#46039f\"],[0.2222222222222222,\"#7201a8\"],[0.3333333333333333,\"#9c179e\"],[0.4444444444444444,\"#bd3786\"],[0.5555555555555556,\"#d8576b\"],[0.6666666666666666,\"#ed7953\"],[0.7777777777777778,\"#fb9f3a\"],[0.8888888888888888,\"#fdca26\"],[1.0,\"#f0f921\"]],\"type\":\"histogram2dcontour\"}],\"histogram2d\":[{\"colorbar\":{\"outlinewidth\":0,\"ticks\":\"\"},\"colorscale\":[[0.0,\"#0d0887\"],[0.1111111111111111,\"#46039f\"],[0.2222222222222222,\"#7201a8\"],[0.3333333333333333,\"#9c179e\"],[0.4444444444444444,\"#bd3786\"],[0.5555555555555556,\"#d8576b\"],[0.6666666666666666,\"#ed7953\"],[0.7777777777777778,\"#fb9f3a\"],[0.8888888888888888,\"#fdca26\"],[1.0,\"#f0f921\"]],\"type\":\"histogram2d\"}],\"histogram\":[{\"marker\":{\"pattern\":{\"fillmode\":\"overlay\",\"size\":10,\"solidity\":0.2}},\"type\":\"histogram\"}],\"mesh3d\":[{\"colorbar\":{\"outlinewidth\":0,\"ticks\":\"\"},\"type\":\"mesh3d\"}],\"parcoords\":[{\"line\":{\"colorbar\":{\"outlinewidth\":0,\"ticks\":\"\"}},\"type\":\"parcoords\"}],\"pie\":[{\"automargin\":true,\"type\":\"pie\"}],\"scatter3d\":[{\"line\":{\"colorbar\":{\"outlinewidth\":0,\"ticks\":\"\"}},\"marker\":{\"colorbar\":{\"outlinewidth\":0,\"ticks\":\"\"}},\"type\":\"scatter3d\"}],\"scattercarpet\":[{\"marker\":{\"colorbar\":{\"outlinewidth\":0,\"ticks\":\"\"}},\"type\":\"scattercarpet\"}],\"scattergeo\":[{\"marker\":{\"colorbar\":{\"outlinewidth\":0,\"ticks\":\"\"}},\"type\":\"scattergeo\"}],\"scattergl\":[{\"marker\":{\"colorbar\":{\"outlinewidth\":0,\"ticks\":\"\"}},\"type\":\"scattergl\"}],\"scattermapbox\":[{\"marker\":{\"colorbar\":{\"outlinewidth\":0,\"ticks\":\"\"}},\"type\":\"scattermapbox\"}],\"scatterpolargl\":[{\"marker\":{\"colorbar\":{\"outlinewidth\":0,\"ticks\":\"\"}},\"type\":\"scatterpolargl\"}],\"scatterpolar\":[{\"marker\":{\"colorbar\":{\"outlinewidth\":0,\"ticks\":\"\"}},\"type\":\"scatterpolar\"}],\"scatter\":[{\"fillpattern\":{\"fillmode\":\"overlay\",\"size\":10,\"solidity\":0.2},\"type\":\"scatter\"}],\"scatterternary\":[{\"marker\":{\"colorbar\":{\"outlinewidth\":0,\"ticks\":\"\"}},\"type\":\"scatterternary\"}],\"surface\":[{\"colorbar\":{\"outlinewidth\":0,\"ticks\":\"\"},\"colorscale\":[[0.0,\"#0d0887\"],[0.1111111111111111,\"#46039f\"],[0.2222222222222222,\"#7201a8\"],[0.3333333333333333,\"#9c179e\"],[0.4444444444444444,\"#bd3786\"],[0.5555555555555556,\"#d8576b\"],[0.6666666666666666,\"#ed7953\"],[0.7777777777777778,\"#fb9f3a\"],[0.8888888888888888,\"#fdca26\"],[1.0,\"#f0f921\"]],\"type\":\"surface\"}],\"table\":[{\"cells\":{\"fill\":{\"color\":\"#EBF0F8\"},\"line\":{\"color\":\"white\"}},\"header\":{\"fill\":{\"color\":\"#C8D4E3\"},\"line\":{\"color\":\"white\"}},\"type\":\"table\"}]},\"layout\":{\"annotationdefaults\":{\"arrowcolor\":\"#2a3f5f\",\"arrowhead\":0,\"arrowwidth\":1},\"autotypenumbers\":\"strict\",\"coloraxis\":{\"colorbar\":{\"outlinewidth\":0,\"ticks\":\"\"}},\"colorscale\":{\"diverging\":[[0,\"#8e0152\"],[0.1,\"#c51b7d\"],[0.2,\"#de77ae\"],[0.3,\"#f1b6da\"],[0.4,\"#fde0ef\"],[0.5,\"#f7f7f7\"],[0.6,\"#e6f5d0\"],[0.7,\"#b8e186\"],[0.8,\"#7fbc41\"],[0.9,\"#4d9221\"],[1,\"#276419\"]],\"sequential\":[[0.0,\"#0d0887\"],[0.1111111111111111,\"#46039f\"],[0.2222222222222222,\"#7201a8\"],[0.3333333333333333,\"#9c179e\"],[0.4444444444444444,\"#bd3786\"],[0.5555555555555556,\"#d8576b\"],[0.6666666666666666,\"#ed7953\"],[0.7777777777777778,\"#fb9f3a\"],[0.8888888888888888,\"#fdca26\"],[1.0,\"#f0f921\"]],\"sequentialminus\":[[0.0,\"#0d0887\"],[0.1111111111111111,\"#46039f\"],[0.2222222222222222,\"#7201a8\"],[0.3333333333333333,\"#9c179e\"],[0.4444444444444444,\"#bd3786\"],[0.5555555555555556,\"#d8576b\"],[0.6666666666666666,\"#ed7953\"],[0.7777777777777778,\"#fb9f3a\"],[0.8888888888888888,\"#fdca26\"],[1.0,\"#f0f921\"]]},\"colorway\":[\"#636efa\",\"#EF553B\",\"#00cc96\",\"#ab63fa\",\"#FFA15A\",\"#19d3f3\",\"#FF6692\",\"#B6E880\",\"#FF97FF\",\"#FECB52\"],\"font\":{\"color\":\"#2a3f5f\"},\"geo\":{\"bgcolor\":\"white\",\"lakecolor\":\"white\",\"landcolor\":\"#E5ECF6\",\"showlakes\":true,\"showland\":true,\"subunitcolor\":\"white\"},\"hoverlabel\":{\"align\":\"left\"},\"hovermode\":\"closest\",\"mapbox\":{\"style\":\"light\"},\"paper_bgcolor\":\"white\",\"plot_bgcolor\":\"#E5ECF6\",\"polar\":{\"angularaxis\":{\"gridcolor\":\"white\",\"linecolor\":\"white\",\"ticks\":\"\"},\"bgcolor\":\"#E5ECF6\",\"radialaxis\":{\"gridcolor\":\"white\",\"linecolor\":\"white\",\"ticks\":\"\"}},\"scene\":{\"xaxis\":{\"backgroundcolor\":\"#E5ECF6\",\"gridcolor\":\"white\",\"gridwidth\":2,\"linecolor\":\"white\",\"showbackground\":true,\"ticks\":\"\",\"zerolinecolor\":\"white\"},\"yaxis\":{\"backgroundcolor\":\"#E5ECF6\",\"gridcolor\":\"white\",\"gridwidth\":2,\"linecolor\":\"white\",\"showbackground\":true,\"ticks\":\"\",\"zerolinecolor\":\"white\"},\"zaxis\":{\"backgroundcolor\":\"#E5ECF6\",\"gridcolor\":\"white\",\"gridwidth\":2,\"linecolor\":\"white\",\"showbackground\":true,\"ticks\":\"\",\"zerolinecolor\":\"white\"}},\"shapedefaults\":{\"line\":{\"color\":\"#2a3f5f\"}},\"ternary\":{\"aaxis\":{\"gridcolor\":\"white\",\"linecolor\":\"white\",\"ticks\":\"\"},\"baxis\":{\"gridcolor\":\"white\",\"linecolor\":\"white\",\"ticks\":\"\"},\"bgcolor\":\"#E5ECF6\",\"caxis\":{\"gridcolor\":\"white\",\"linecolor\":\"white\",\"ticks\":\"\"}},\"title\":{\"x\":0.05},\"xaxis\":{\"automargin\":true,\"gridcolor\":\"white\",\"linecolor\":\"white\",\"ticks\":\"\",\"title\":{\"standoff\":15},\"zerolinecolor\":\"white\",\"zerolinewidth\":2},\"yaxis\":{\"automargin\":true,\"gridcolor\":\"white\",\"linecolor\":\"white\",\"ticks\":\"\",\"title\":{\"standoff\":15},\"zerolinecolor\":\"white\",\"zerolinewidth\":2}}},\"title\":{\"text\":\"GANTT Chart\"},\"xaxis\":{\"range\":[\"1970-01-01T00:35:24\",\"1970-01-01T17:24:10\"],\"title\":{\"font\":{\"color\":\"#7f7f7f\",\"family\":\"Courier New, monospace\",\"size\":18},\"text\":\"Time\"}},\"yaxis\":{\"title\":{\"font\":{\"color\":\"#7f7f7f\",\"family\":\"Courier New, monospace\",\"size\":18},\"text\":\"Activities\"}}},                        {\"responsive\": true}                    ).then(function(){\n",
       "                            \n",
       "var gd = document.getElementById('ca701ed2-52eb-4fc4-902a-e5d0837350d1');\n",
       "var x = new MutationObserver(function (mutations, observer) {{\n",
       "        var display = window.getComputedStyle(gd).display;\n",
       "        if (!display || display === 'none') {{\n",
       "            console.log([gd, 'removed!']);\n",
       "            Plotly.purge(gd);\n",
       "            observer.disconnect();\n",
       "        }}\n",
       "}});\n",
       "\n",
       "// Listen for the removal of the full notebook cells\n",
       "var notebookContainer = gd.closest('#notebook-container');\n",
       "if (notebookContainer) {{\n",
       "    x.observe(notebookContainer, {childList: true});\n",
       "}}\n",
       "\n",
       "// Listen for the clearing of the current output cell\n",
       "var outputEl = gd.closest('.output');\n",
       "if (outputEl) {{\n",
       "    x.observe(outputEl, {childList: true});\n",
       "}}\n",
       "\n",
       "                        })                };                });            </script>        </div>"
      ]
     },
     "metadata": {},
     "output_type": "display_data"
    }
   ],
   "source": [
    "# activities per site and cutter\n",
    "\n",
    "fig = get_gantt_chart([from_site, to_site, cutter], id_map=activities)"
   ]
  },
  {
   "cell_type": "code",
   "execution_count": 13,
   "id": "6141ac61",
   "metadata": {},
   "outputs": [
    {
     "data": {
      "text/html": [
       "        <script type=\"text/javascript\">\n",
       "        window.PlotlyConfig = {MathJaxConfig: 'local'};\n",
       "        if (window.MathJax && window.MathJax.Hub && window.MathJax.Hub.Config) {window.MathJax.Hub.Config({SVG: {font: \"STIX-Web\"}});}\n",
       "        if (typeof require !== 'undefined') {\n",
       "        require.undef(\"plotly\");\n",
       "        requirejs.config({\n",
       "            paths: {\n",
       "                'plotly': ['https://cdn.plot.ly/plotly-2.18.2.min']\n",
       "            }\n",
       "        });\n",
       "        require(['plotly'], function(Plotly) {\n",
       "            window._Plotly = Plotly;\n",
       "        });\n",
       "        }\n",
       "        </script>\n",
       "        "
      ]
     },
     "metadata": {},
     "output_type": "display_data"
    },
    {
     "data": {
      "application/vnd.plotly.v1+json": {
       "config": {
        "linkText": "Export to plot.ly",
        "plotlyServerURL": "https://plot.ly",
        "showLink": false
       },
       "data": [
        {
         "connectgaps": false,
         "hoverinfo": "y+name",
         "line": {
          "color": "rgb(72,129,4)",
          "width": 10
         },
         "mode": "lines",
         "name": "loading:Carrier A",
         "type": "scatter",
         "x": [
          "1970-01-01T02:32:04",
          "1970-01-01T02:32:04",
          "1970-01-01T03:13:44",
          "1970-01-01T03:13:44",
          "1970-01-01T03:13:44",
          "1970-01-01T05:26:11",
          "1970-01-01T05:26:11",
          "1970-01-01T06:07:51",
          "1970-01-01T06:07:51",
          "1970-01-01T06:07:51",
          "1970-01-01T08:20:18",
          "1970-01-01T08:20:18",
          "1970-01-01T09:01:58",
          "1970-01-01T09:01:58",
          "1970-01-01T09:01:58",
          "1970-01-01T11:14:25",
          "1970-01-01T11:14:25",
          "1970-01-01T11:56:05",
          "1970-01-01T11:56:05",
          "1970-01-01T11:56:05",
          "1970-01-01T14:08:32",
          "1970-01-01T14:08:32",
          "1970-01-01T14:50:12",
          "1970-01-01T14:50:12",
          "1970-01-01T14:50:12"
         ],
         "y": [
          "loading:Carrier A",
          "loading:Carrier A",
          "loading:Carrier A",
          "loading:Carrier A",
          null,
          "loading:Carrier A",
          "loading:Carrier A",
          "loading:Carrier A",
          "loading:Carrier A",
          null,
          "loading:Carrier A",
          "loading:Carrier A",
          "loading:Carrier A",
          "loading:Carrier A",
          null,
          "loading:Carrier A",
          "loading:Carrier A",
          "loading:Carrier A",
          "loading:Carrier A",
          null,
          "loading:Carrier A",
          "loading:Carrier A",
          "loading:Carrier A",
          "loading:Carrier A",
          null
         ]
        },
        {
         "connectgaps": false,
         "hoverinfo": "y+name",
         "line": {
          "color": "rgb(136,193,68)",
          "width": 10
         },
         "mode": "lines",
         "name": "loading:Carrier B",
         "type": "scatter",
         "x": [
          "1970-01-01T01:50:24",
          "1970-01-01T01:50:24",
          "1970-01-01T02:32:04",
          "1970-01-01T02:32:04",
          "1970-01-01T02:32:04",
          "1970-01-01T04:32:49",
          "1970-01-01T04:32:49",
          "1970-01-01T05:14:29",
          "1970-01-01T05:14:29",
          "1970-01-01T05:14:29",
          "1970-01-01T07:22:51",
          "1970-01-01T07:22:51",
          "1970-01-01T08:04:31",
          "1970-01-01T08:04:31",
          "1970-01-01T08:04:31",
          "1970-01-01T10:16:58",
          "1970-01-01T10:16:58",
          "1970-01-01T10:58:38",
          "1970-01-01T10:58:38",
          "1970-01-01T10:58:38",
          "1970-01-01T13:11:05",
          "1970-01-01T13:11:05",
          "1970-01-01T13:52:45",
          "1970-01-01T13:52:45",
          "1970-01-01T13:52:45"
         ],
         "y": [
          "loading:Carrier B",
          "loading:Carrier B",
          "loading:Carrier B",
          "loading:Carrier B",
          null,
          "loading:Carrier B",
          "loading:Carrier B",
          "loading:Carrier B",
          "loading:Carrier B",
          null,
          "loading:Carrier B",
          "loading:Carrier B",
          "loading:Carrier B",
          "loading:Carrier B",
          null,
          "loading:Carrier B",
          "loading:Carrier B",
          "loading:Carrier B",
          "loading:Carrier B",
          null,
          "loading:Carrier B",
          "loading:Carrier B",
          "loading:Carrier B",
          "loading:Carrier B",
          null
         ]
        },
        {
         "connectgaps": false,
         "hoverinfo": "y+name",
         "line": {
          "color": "rgb(200,1,132)",
          "width": 10
         },
         "mode": "lines",
         "name": "loading:Carrier C",
         "type": "scatter",
         "x": [
          "1970-01-01T00:35:24",
          "1970-01-01T00:35:24",
          "1970-01-01T01:08:44",
          "1970-01-01T01:08:44",
          "1970-01-01T01:08:44",
          "1970-01-01T03:13:44",
          "1970-01-01T03:13:44",
          "1970-01-01T03:47:04",
          "1970-01-01T03:47:04",
          "1970-01-01T03:47:04",
          "1970-01-01T06:07:51",
          "1970-01-01T06:07:51",
          "1970-01-01T06:41:11",
          "1970-01-01T06:41:11",
          "1970-01-01T06:41:11",
          "1970-01-01T09:01:58",
          "1970-01-01T09:01:58",
          "1970-01-01T09:35:18",
          "1970-01-01T09:35:18",
          "1970-01-01T09:35:18",
          "1970-01-01T11:56:05",
          "1970-01-01T11:56:05",
          "1970-01-01T12:29:25",
          "1970-01-01T12:29:25",
          "1970-01-01T12:29:25",
          "1970-01-01T14:50:12",
          "1970-01-01T14:50:12",
          "1970-01-01T15:23:32",
          "1970-01-01T15:23:32",
          "1970-01-01T15:23:32"
         ],
         "y": [
          "loading:Carrier C",
          "loading:Carrier C",
          "loading:Carrier C",
          "loading:Carrier C",
          null,
          "loading:Carrier C",
          "loading:Carrier C",
          "loading:Carrier C",
          "loading:Carrier C",
          null,
          "loading:Carrier C",
          "loading:Carrier C",
          "loading:Carrier C",
          "loading:Carrier C",
          null,
          "loading:Carrier C",
          "loading:Carrier C",
          "loading:Carrier C",
          "loading:Carrier C",
          null,
          "loading:Carrier C",
          "loading:Carrier C",
          "loading:Carrier C",
          "loading:Carrier C",
          null,
          "loading:Carrier C",
          "loading:Carrier C",
          "loading:Carrier C",
          "loading:Carrier C",
          null
         ]
        },
        {
         "connectgaps": false,
         "hoverinfo": "y+name",
         "line": {
          "color": "rgb(8,65,196)",
          "width": 10
         },
         "mode": "lines",
         "name": "loading:Barge I",
         "type": "scatter",
         "x": [
          "1970-01-01T01:08:44",
          "1970-01-01T01:08:44",
          "1970-01-01T01:50:24",
          "1970-01-01T01:50:24",
          "1970-01-01T01:50:24",
          "1970-01-01T03:48:51",
          "1970-01-01T03:48:51",
          "1970-01-01T04:30:31",
          "1970-01-01T04:30:31",
          "1970-01-01T04:30:31",
          "1970-01-01T06:41:11",
          "1970-01-01T06:41:11",
          "1970-01-01T07:22:51",
          "1970-01-01T07:22:51",
          "1970-01-01T07:22:51",
          "1970-01-01T09:35:18",
          "1970-01-01T09:35:18",
          "1970-01-01T10:16:58",
          "1970-01-01T10:16:58",
          "1970-01-01T10:16:58",
          "1970-01-01T12:29:25",
          "1970-01-01T12:29:25",
          "1970-01-01T13:11:05",
          "1970-01-01T13:11:05",
          "1970-01-01T13:11:05",
          "1970-01-01T15:23:32",
          "1970-01-01T15:23:32",
          "1970-01-01T16:05:12",
          "1970-01-01T16:05:12",
          "1970-01-01T16:05:12"
         ],
         "y": [
          "loading:Barge I",
          "loading:Barge I",
          "loading:Barge I",
          "loading:Barge I",
          null,
          "loading:Barge I",
          "loading:Barge I",
          "loading:Barge I",
          "loading:Barge I",
          null,
          "loading:Barge I",
          "loading:Barge I",
          "loading:Barge I",
          "loading:Barge I",
          null,
          "loading:Barge I",
          "loading:Barge I",
          "loading:Barge I",
          "loading:Barge I",
          null,
          "loading:Barge I",
          "loading:Barge I",
          "loading:Barge I",
          "loading:Barge I",
          null,
          "loading:Barge I",
          "loading:Barge I",
          "loading:Barge I",
          "loading:Barge I",
          null
         ]
        }
       ],
       "layout": {
        "hovermode": "closest",
        "legend": {
         "orientation": "h",
         "x": 0,
         "y": -0.2
        },
        "template": {
         "data": {
          "bar": [
           {
            "error_x": {
             "color": "#2a3f5f"
            },
            "error_y": {
             "color": "#2a3f5f"
            },
            "marker": {
             "line": {
              "color": "#E5ECF6",
              "width": 0.5
             },
             "pattern": {
              "fillmode": "overlay",
              "size": 10,
              "solidity": 0.2
             }
            },
            "type": "bar"
           }
          ],
          "barpolar": [
           {
            "marker": {
             "line": {
              "color": "#E5ECF6",
              "width": 0.5
             },
             "pattern": {
              "fillmode": "overlay",
              "size": 10,
              "solidity": 0.2
             }
            },
            "type": "barpolar"
           }
          ],
          "carpet": [
           {
            "aaxis": {
             "endlinecolor": "#2a3f5f",
             "gridcolor": "white",
             "linecolor": "white",
             "minorgridcolor": "white",
             "startlinecolor": "#2a3f5f"
            },
            "baxis": {
             "endlinecolor": "#2a3f5f",
             "gridcolor": "white",
             "linecolor": "white",
             "minorgridcolor": "white",
             "startlinecolor": "#2a3f5f"
            },
            "type": "carpet"
           }
          ],
          "choropleth": [
           {
            "colorbar": {
             "outlinewidth": 0,
             "ticks": ""
            },
            "type": "choropleth"
           }
          ],
          "contour": [
           {
            "colorbar": {
             "outlinewidth": 0,
             "ticks": ""
            },
            "colorscale": [
             [
              0,
              "#0d0887"
             ],
             [
              0.1111111111111111,
              "#46039f"
             ],
             [
              0.2222222222222222,
              "#7201a8"
             ],
             [
              0.3333333333333333,
              "#9c179e"
             ],
             [
              0.4444444444444444,
              "#bd3786"
             ],
             [
              0.5555555555555556,
              "#d8576b"
             ],
             [
              0.6666666666666666,
              "#ed7953"
             ],
             [
              0.7777777777777778,
              "#fb9f3a"
             ],
             [
              0.8888888888888888,
              "#fdca26"
             ],
             [
              1,
              "#f0f921"
             ]
            ],
            "type": "contour"
           }
          ],
          "contourcarpet": [
           {
            "colorbar": {
             "outlinewidth": 0,
             "ticks": ""
            },
            "type": "contourcarpet"
           }
          ],
          "heatmap": [
           {
            "colorbar": {
             "outlinewidth": 0,
             "ticks": ""
            },
            "colorscale": [
             [
              0,
              "#0d0887"
             ],
             [
              0.1111111111111111,
              "#46039f"
             ],
             [
              0.2222222222222222,
              "#7201a8"
             ],
             [
              0.3333333333333333,
              "#9c179e"
             ],
             [
              0.4444444444444444,
              "#bd3786"
             ],
             [
              0.5555555555555556,
              "#d8576b"
             ],
             [
              0.6666666666666666,
              "#ed7953"
             ],
             [
              0.7777777777777778,
              "#fb9f3a"
             ],
             [
              0.8888888888888888,
              "#fdca26"
             ],
             [
              1,
              "#f0f921"
             ]
            ],
            "type": "heatmap"
           }
          ],
          "heatmapgl": [
           {
            "colorbar": {
             "outlinewidth": 0,
             "ticks": ""
            },
            "colorscale": [
             [
              0,
              "#0d0887"
             ],
             [
              0.1111111111111111,
              "#46039f"
             ],
             [
              0.2222222222222222,
              "#7201a8"
             ],
             [
              0.3333333333333333,
              "#9c179e"
             ],
             [
              0.4444444444444444,
              "#bd3786"
             ],
             [
              0.5555555555555556,
              "#d8576b"
             ],
             [
              0.6666666666666666,
              "#ed7953"
             ],
             [
              0.7777777777777778,
              "#fb9f3a"
             ],
             [
              0.8888888888888888,
              "#fdca26"
             ],
             [
              1,
              "#f0f921"
             ]
            ],
            "type": "heatmapgl"
           }
          ],
          "histogram": [
           {
            "marker": {
             "pattern": {
              "fillmode": "overlay",
              "size": 10,
              "solidity": 0.2
             }
            },
            "type": "histogram"
           }
          ],
          "histogram2d": [
           {
            "colorbar": {
             "outlinewidth": 0,
             "ticks": ""
            },
            "colorscale": [
             [
              0,
              "#0d0887"
             ],
             [
              0.1111111111111111,
              "#46039f"
             ],
             [
              0.2222222222222222,
              "#7201a8"
             ],
             [
              0.3333333333333333,
              "#9c179e"
             ],
             [
              0.4444444444444444,
              "#bd3786"
             ],
             [
              0.5555555555555556,
              "#d8576b"
             ],
             [
              0.6666666666666666,
              "#ed7953"
             ],
             [
              0.7777777777777778,
              "#fb9f3a"
             ],
             [
              0.8888888888888888,
              "#fdca26"
             ],
             [
              1,
              "#f0f921"
             ]
            ],
            "type": "histogram2d"
           }
          ],
          "histogram2dcontour": [
           {
            "colorbar": {
             "outlinewidth": 0,
             "ticks": ""
            },
            "colorscale": [
             [
              0,
              "#0d0887"
             ],
             [
              0.1111111111111111,
              "#46039f"
             ],
             [
              0.2222222222222222,
              "#7201a8"
             ],
             [
              0.3333333333333333,
              "#9c179e"
             ],
             [
              0.4444444444444444,
              "#bd3786"
             ],
             [
              0.5555555555555556,
              "#d8576b"
             ],
             [
              0.6666666666666666,
              "#ed7953"
             ],
             [
              0.7777777777777778,
              "#fb9f3a"
             ],
             [
              0.8888888888888888,
              "#fdca26"
             ],
             [
              1,
              "#f0f921"
             ]
            ],
            "type": "histogram2dcontour"
           }
          ],
          "mesh3d": [
           {
            "colorbar": {
             "outlinewidth": 0,
             "ticks": ""
            },
            "type": "mesh3d"
           }
          ],
          "parcoords": [
           {
            "line": {
             "colorbar": {
              "outlinewidth": 0,
              "ticks": ""
             }
            },
            "type": "parcoords"
           }
          ],
          "pie": [
           {
            "automargin": true,
            "type": "pie"
           }
          ],
          "scatter": [
           {
            "fillpattern": {
             "fillmode": "overlay",
             "size": 10,
             "solidity": 0.2
            },
            "type": "scatter"
           }
          ],
          "scatter3d": [
           {
            "line": {
             "colorbar": {
              "outlinewidth": 0,
              "ticks": ""
             }
            },
            "marker": {
             "colorbar": {
              "outlinewidth": 0,
              "ticks": ""
             }
            },
            "type": "scatter3d"
           }
          ],
          "scattercarpet": [
           {
            "marker": {
             "colorbar": {
              "outlinewidth": 0,
              "ticks": ""
             }
            },
            "type": "scattercarpet"
           }
          ],
          "scattergeo": [
           {
            "marker": {
             "colorbar": {
              "outlinewidth": 0,
              "ticks": ""
             }
            },
            "type": "scattergeo"
           }
          ],
          "scattergl": [
           {
            "marker": {
             "colorbar": {
              "outlinewidth": 0,
              "ticks": ""
             }
            },
            "type": "scattergl"
           }
          ],
          "scattermapbox": [
           {
            "marker": {
             "colorbar": {
              "outlinewidth": 0,
              "ticks": ""
             }
            },
            "type": "scattermapbox"
           }
          ],
          "scatterpolar": [
           {
            "marker": {
             "colorbar": {
              "outlinewidth": 0,
              "ticks": ""
             }
            },
            "type": "scatterpolar"
           }
          ],
          "scatterpolargl": [
           {
            "marker": {
             "colorbar": {
              "outlinewidth": 0,
              "ticks": ""
             }
            },
            "type": "scatterpolargl"
           }
          ],
          "scatterternary": [
           {
            "marker": {
             "colorbar": {
              "outlinewidth": 0,
              "ticks": ""
             }
            },
            "type": "scatterternary"
           }
          ],
          "surface": [
           {
            "colorbar": {
             "outlinewidth": 0,
             "ticks": ""
            },
            "colorscale": [
             [
              0,
              "#0d0887"
             ],
             [
              0.1111111111111111,
              "#46039f"
             ],
             [
              0.2222222222222222,
              "#7201a8"
             ],
             [
              0.3333333333333333,
              "#9c179e"
             ],
             [
              0.4444444444444444,
              "#bd3786"
             ],
             [
              0.5555555555555556,
              "#d8576b"
             ],
             [
              0.6666666666666666,
              "#ed7953"
             ],
             [
              0.7777777777777778,
              "#fb9f3a"
             ],
             [
              0.8888888888888888,
              "#fdca26"
             ],
             [
              1,
              "#f0f921"
             ]
            ],
            "type": "surface"
           }
          ],
          "table": [
           {
            "cells": {
             "fill": {
              "color": "#EBF0F8"
             },
             "line": {
              "color": "white"
             }
            },
            "header": {
             "fill": {
              "color": "#C8D4E3"
             },
             "line": {
              "color": "white"
             }
            },
            "type": "table"
           }
          ]
         },
         "layout": {
          "annotationdefaults": {
           "arrowcolor": "#2a3f5f",
           "arrowhead": 0,
           "arrowwidth": 1
          },
          "autotypenumbers": "strict",
          "coloraxis": {
           "colorbar": {
            "outlinewidth": 0,
            "ticks": ""
           }
          },
          "colorscale": {
           "diverging": [
            [
             0,
             "#8e0152"
            ],
            [
             0.1,
             "#c51b7d"
            ],
            [
             0.2,
             "#de77ae"
            ],
            [
             0.3,
             "#f1b6da"
            ],
            [
             0.4,
             "#fde0ef"
            ],
            [
             0.5,
             "#f7f7f7"
            ],
            [
             0.6,
             "#e6f5d0"
            ],
            [
             0.7,
             "#b8e186"
            ],
            [
             0.8,
             "#7fbc41"
            ],
            [
             0.9,
             "#4d9221"
            ],
            [
             1,
             "#276419"
            ]
           ],
           "sequential": [
            [
             0,
             "#0d0887"
            ],
            [
             0.1111111111111111,
             "#46039f"
            ],
            [
             0.2222222222222222,
             "#7201a8"
            ],
            [
             0.3333333333333333,
             "#9c179e"
            ],
            [
             0.4444444444444444,
             "#bd3786"
            ],
            [
             0.5555555555555556,
             "#d8576b"
            ],
            [
             0.6666666666666666,
             "#ed7953"
            ],
            [
             0.7777777777777778,
             "#fb9f3a"
            ],
            [
             0.8888888888888888,
             "#fdca26"
            ],
            [
             1,
             "#f0f921"
            ]
           ],
           "sequentialminus": [
            [
             0,
             "#0d0887"
            ],
            [
             0.1111111111111111,
             "#46039f"
            ],
            [
             0.2222222222222222,
             "#7201a8"
            ],
            [
             0.3333333333333333,
             "#9c179e"
            ],
            [
             0.4444444444444444,
             "#bd3786"
            ],
            [
             0.5555555555555556,
             "#d8576b"
            ],
            [
             0.6666666666666666,
             "#ed7953"
            ],
            [
             0.7777777777777778,
             "#fb9f3a"
            ],
            [
             0.8888888888888888,
             "#fdca26"
            ],
            [
             1,
             "#f0f921"
            ]
           ]
          },
          "colorway": [
           "#636efa",
           "#EF553B",
           "#00cc96",
           "#ab63fa",
           "#FFA15A",
           "#19d3f3",
           "#FF6692",
           "#B6E880",
           "#FF97FF",
           "#FECB52"
          ],
          "font": {
           "color": "#2a3f5f"
          },
          "geo": {
           "bgcolor": "white",
           "lakecolor": "white",
           "landcolor": "#E5ECF6",
           "showlakes": true,
           "showland": true,
           "subunitcolor": "white"
          },
          "hoverlabel": {
           "align": "left"
          },
          "hovermode": "closest",
          "mapbox": {
           "style": "light"
          },
          "paper_bgcolor": "white",
          "plot_bgcolor": "#E5ECF6",
          "polar": {
           "angularaxis": {
            "gridcolor": "white",
            "linecolor": "white",
            "ticks": ""
           },
           "bgcolor": "#E5ECF6",
           "radialaxis": {
            "gridcolor": "white",
            "linecolor": "white",
            "ticks": ""
           }
          },
          "scene": {
           "xaxis": {
            "backgroundcolor": "#E5ECF6",
            "gridcolor": "white",
            "gridwidth": 2,
            "linecolor": "white",
            "showbackground": true,
            "ticks": "",
            "zerolinecolor": "white"
           },
           "yaxis": {
            "backgroundcolor": "#E5ECF6",
            "gridcolor": "white",
            "gridwidth": 2,
            "linecolor": "white",
            "showbackground": true,
            "ticks": "",
            "zerolinecolor": "white"
           },
           "zaxis": {
            "backgroundcolor": "#E5ECF6",
            "gridcolor": "white",
            "gridwidth": 2,
            "linecolor": "white",
            "showbackground": true,
            "ticks": "",
            "zerolinecolor": "white"
           }
          },
          "shapedefaults": {
           "line": {
            "color": "#2a3f5f"
           }
          },
          "ternary": {
           "aaxis": {
            "gridcolor": "white",
            "linecolor": "white",
            "ticks": ""
           },
           "baxis": {
            "gridcolor": "white",
            "linecolor": "white",
            "ticks": ""
           },
           "bgcolor": "#E5ECF6",
           "caxis": {
            "gridcolor": "white",
            "linecolor": "white",
            "ticks": ""
           }
          },
          "title": {
           "x": 0.05
          },
          "xaxis": {
           "automargin": true,
           "gridcolor": "white",
           "linecolor": "white",
           "ticks": "",
           "title": {
            "standoff": 15
           },
           "zerolinecolor": "white",
           "zerolinewidth": 2
          },
          "yaxis": {
           "automargin": true,
           "gridcolor": "white",
           "linecolor": "white",
           "ticks": "",
           "title": {
            "standoff": 15
           },
           "zerolinecolor": "white",
           "zerolinewidth": 2
          }
         }
        },
        "title": {
         "text": "GANTT Chart"
        },
        "xaxis": {
         "range": [
          "1970-01-01T00:35:24",
          "1970-01-01T16:05:12"
         ],
         "title": {
          "font": {
           "color": "#7f7f7f",
           "family": "Courier New, monospace",
           "size": 18
          },
          "text": "Time"
         }
        },
        "yaxis": {
         "title": {
          "font": {
           "color": "#7f7f7f",
           "family": "Courier New, monospace",
           "size": 18
          },
          "text": "Activities"
         }
        }
       }
      },
      "text/html": [
       "<div>                            <div id=\"0e936eed-c45d-418d-94e1-1bede610e0c2\" class=\"plotly-graph-div\" style=\"height:525px; width:100%;\"></div>            <script type=\"text/javascript\">                require([\"plotly\"], function(Plotly) {                    window.PLOTLYENV=window.PLOTLYENV || {};                                    if (document.getElementById(\"0e936eed-c45d-418d-94e1-1bede610e0c2\")) {                    Plotly.newPlot(                        \"0e936eed-c45d-418d-94e1-1bede610e0c2\",                        [{\"connectgaps\":false,\"hoverinfo\":\"y+name\",\"line\":{\"color\":\"rgb(72,129,4)\",\"width\":10},\"mode\":\"lines\",\"name\":\"loading:Carrier A\",\"x\":[\"1970-01-01T02:32:04\",\"1970-01-01T02:32:04\",\"1970-01-01T03:13:44\",\"1970-01-01T03:13:44\",\"1970-01-01T03:13:44\",\"1970-01-01T05:26:11\",\"1970-01-01T05:26:11\",\"1970-01-01T06:07:51\",\"1970-01-01T06:07:51\",\"1970-01-01T06:07:51\",\"1970-01-01T08:20:18\",\"1970-01-01T08:20:18\",\"1970-01-01T09:01:58\",\"1970-01-01T09:01:58\",\"1970-01-01T09:01:58\",\"1970-01-01T11:14:25\",\"1970-01-01T11:14:25\",\"1970-01-01T11:56:05\",\"1970-01-01T11:56:05\",\"1970-01-01T11:56:05\",\"1970-01-01T14:08:32\",\"1970-01-01T14:08:32\",\"1970-01-01T14:50:12\",\"1970-01-01T14:50:12\",\"1970-01-01T14:50:12\"],\"y\":[\"loading:Carrier A\",\"loading:Carrier A\",\"loading:Carrier A\",\"loading:Carrier A\",null,\"loading:Carrier A\",\"loading:Carrier A\",\"loading:Carrier A\",\"loading:Carrier A\",null,\"loading:Carrier A\",\"loading:Carrier A\",\"loading:Carrier A\",\"loading:Carrier A\",null,\"loading:Carrier A\",\"loading:Carrier A\",\"loading:Carrier A\",\"loading:Carrier A\",null,\"loading:Carrier A\",\"loading:Carrier A\",\"loading:Carrier A\",\"loading:Carrier A\",null],\"type\":\"scatter\"},{\"connectgaps\":false,\"hoverinfo\":\"y+name\",\"line\":{\"color\":\"rgb(136,193,68)\",\"width\":10},\"mode\":\"lines\",\"name\":\"loading:Carrier B\",\"x\":[\"1970-01-01T01:50:24\",\"1970-01-01T01:50:24\",\"1970-01-01T02:32:04\",\"1970-01-01T02:32:04\",\"1970-01-01T02:32:04\",\"1970-01-01T04:32:49\",\"1970-01-01T04:32:49\",\"1970-01-01T05:14:29\",\"1970-01-01T05:14:29\",\"1970-01-01T05:14:29\",\"1970-01-01T07:22:51\",\"1970-01-01T07:22:51\",\"1970-01-01T08:04:31\",\"1970-01-01T08:04:31\",\"1970-01-01T08:04:31\",\"1970-01-01T10:16:58\",\"1970-01-01T10:16:58\",\"1970-01-01T10:58:38\",\"1970-01-01T10:58:38\",\"1970-01-01T10:58:38\",\"1970-01-01T13:11:05\",\"1970-01-01T13:11:05\",\"1970-01-01T13:52:45\",\"1970-01-01T13:52:45\",\"1970-01-01T13:52:45\"],\"y\":[\"loading:Carrier B\",\"loading:Carrier B\",\"loading:Carrier B\",\"loading:Carrier B\",null,\"loading:Carrier B\",\"loading:Carrier B\",\"loading:Carrier B\",\"loading:Carrier B\",null,\"loading:Carrier B\",\"loading:Carrier B\",\"loading:Carrier B\",\"loading:Carrier B\",null,\"loading:Carrier B\",\"loading:Carrier B\",\"loading:Carrier B\",\"loading:Carrier B\",null,\"loading:Carrier B\",\"loading:Carrier B\",\"loading:Carrier B\",\"loading:Carrier B\",null],\"type\":\"scatter\"},{\"connectgaps\":false,\"hoverinfo\":\"y+name\",\"line\":{\"color\":\"rgb(200,1,132)\",\"width\":10},\"mode\":\"lines\",\"name\":\"loading:Carrier C\",\"x\":[\"1970-01-01T00:35:24\",\"1970-01-01T00:35:24\",\"1970-01-01T01:08:44\",\"1970-01-01T01:08:44\",\"1970-01-01T01:08:44\",\"1970-01-01T03:13:44\",\"1970-01-01T03:13:44\",\"1970-01-01T03:47:04\",\"1970-01-01T03:47:04\",\"1970-01-01T03:47:04\",\"1970-01-01T06:07:51\",\"1970-01-01T06:07:51\",\"1970-01-01T06:41:11\",\"1970-01-01T06:41:11\",\"1970-01-01T06:41:11\",\"1970-01-01T09:01:58\",\"1970-01-01T09:01:58\",\"1970-01-01T09:35:18\",\"1970-01-01T09:35:18\",\"1970-01-01T09:35:18\",\"1970-01-01T11:56:05\",\"1970-01-01T11:56:05\",\"1970-01-01T12:29:25\",\"1970-01-01T12:29:25\",\"1970-01-01T12:29:25\",\"1970-01-01T14:50:12\",\"1970-01-01T14:50:12\",\"1970-01-01T15:23:32\",\"1970-01-01T15:23:32\",\"1970-01-01T15:23:32\"],\"y\":[\"loading:Carrier C\",\"loading:Carrier C\",\"loading:Carrier C\",\"loading:Carrier C\",null,\"loading:Carrier C\",\"loading:Carrier C\",\"loading:Carrier C\",\"loading:Carrier C\",null,\"loading:Carrier C\",\"loading:Carrier C\",\"loading:Carrier C\",\"loading:Carrier C\",null,\"loading:Carrier C\",\"loading:Carrier C\",\"loading:Carrier C\",\"loading:Carrier C\",null,\"loading:Carrier C\",\"loading:Carrier C\",\"loading:Carrier C\",\"loading:Carrier C\",null,\"loading:Carrier C\",\"loading:Carrier C\",\"loading:Carrier C\",\"loading:Carrier C\",null],\"type\":\"scatter\"},{\"connectgaps\":false,\"hoverinfo\":\"y+name\",\"line\":{\"color\":\"rgb(8,65,196)\",\"width\":10},\"mode\":\"lines\",\"name\":\"loading:Barge I\",\"x\":[\"1970-01-01T01:08:44\",\"1970-01-01T01:08:44\",\"1970-01-01T01:50:24\",\"1970-01-01T01:50:24\",\"1970-01-01T01:50:24\",\"1970-01-01T03:48:51\",\"1970-01-01T03:48:51\",\"1970-01-01T04:30:31\",\"1970-01-01T04:30:31\",\"1970-01-01T04:30:31\",\"1970-01-01T06:41:11\",\"1970-01-01T06:41:11\",\"1970-01-01T07:22:51\",\"1970-01-01T07:22:51\",\"1970-01-01T07:22:51\",\"1970-01-01T09:35:18\",\"1970-01-01T09:35:18\",\"1970-01-01T10:16:58\",\"1970-01-01T10:16:58\",\"1970-01-01T10:16:58\",\"1970-01-01T12:29:25\",\"1970-01-01T12:29:25\",\"1970-01-01T13:11:05\",\"1970-01-01T13:11:05\",\"1970-01-01T13:11:05\",\"1970-01-01T15:23:32\",\"1970-01-01T15:23:32\",\"1970-01-01T16:05:12\",\"1970-01-01T16:05:12\",\"1970-01-01T16:05:12\"],\"y\":[\"loading:Barge I\",\"loading:Barge I\",\"loading:Barge I\",\"loading:Barge I\",null,\"loading:Barge I\",\"loading:Barge I\",\"loading:Barge I\",\"loading:Barge I\",null,\"loading:Barge I\",\"loading:Barge I\",\"loading:Barge I\",\"loading:Barge I\",null,\"loading:Barge I\",\"loading:Barge I\",\"loading:Barge I\",\"loading:Barge I\",null,\"loading:Barge I\",\"loading:Barge I\",\"loading:Barge I\",\"loading:Barge I\",null,\"loading:Barge I\",\"loading:Barge I\",\"loading:Barge I\",\"loading:Barge I\",null],\"type\":\"scatter\"}],                        {\"hovermode\":\"closest\",\"legend\":{\"orientation\":\"h\",\"x\":0,\"y\":-0.2},\"template\":{\"data\":{\"barpolar\":[{\"marker\":{\"line\":{\"color\":\"#E5ECF6\",\"width\":0.5},\"pattern\":{\"fillmode\":\"overlay\",\"size\":10,\"solidity\":0.2}},\"type\":\"barpolar\"}],\"bar\":[{\"error_x\":{\"color\":\"#2a3f5f\"},\"error_y\":{\"color\":\"#2a3f5f\"},\"marker\":{\"line\":{\"color\":\"#E5ECF6\",\"width\":0.5},\"pattern\":{\"fillmode\":\"overlay\",\"size\":10,\"solidity\":0.2}},\"type\":\"bar\"}],\"carpet\":[{\"aaxis\":{\"endlinecolor\":\"#2a3f5f\",\"gridcolor\":\"white\",\"linecolor\":\"white\",\"minorgridcolor\":\"white\",\"startlinecolor\":\"#2a3f5f\"},\"baxis\":{\"endlinecolor\":\"#2a3f5f\",\"gridcolor\":\"white\",\"linecolor\":\"white\",\"minorgridcolor\":\"white\",\"startlinecolor\":\"#2a3f5f\"},\"type\":\"carpet\"}],\"choropleth\":[{\"colorbar\":{\"outlinewidth\":0,\"ticks\":\"\"},\"type\":\"choropleth\"}],\"contourcarpet\":[{\"colorbar\":{\"outlinewidth\":0,\"ticks\":\"\"},\"type\":\"contourcarpet\"}],\"contour\":[{\"colorbar\":{\"outlinewidth\":0,\"ticks\":\"\"},\"colorscale\":[[0.0,\"#0d0887\"],[0.1111111111111111,\"#46039f\"],[0.2222222222222222,\"#7201a8\"],[0.3333333333333333,\"#9c179e\"],[0.4444444444444444,\"#bd3786\"],[0.5555555555555556,\"#d8576b\"],[0.6666666666666666,\"#ed7953\"],[0.7777777777777778,\"#fb9f3a\"],[0.8888888888888888,\"#fdca26\"],[1.0,\"#f0f921\"]],\"type\":\"contour\"}],\"heatmapgl\":[{\"colorbar\":{\"outlinewidth\":0,\"ticks\":\"\"},\"colorscale\":[[0.0,\"#0d0887\"],[0.1111111111111111,\"#46039f\"],[0.2222222222222222,\"#7201a8\"],[0.3333333333333333,\"#9c179e\"],[0.4444444444444444,\"#bd3786\"],[0.5555555555555556,\"#d8576b\"],[0.6666666666666666,\"#ed7953\"],[0.7777777777777778,\"#fb9f3a\"],[0.8888888888888888,\"#fdca26\"],[1.0,\"#f0f921\"]],\"type\":\"heatmapgl\"}],\"heatmap\":[{\"colorbar\":{\"outlinewidth\":0,\"ticks\":\"\"},\"colorscale\":[[0.0,\"#0d0887\"],[0.1111111111111111,\"#46039f\"],[0.2222222222222222,\"#7201a8\"],[0.3333333333333333,\"#9c179e\"],[0.4444444444444444,\"#bd3786\"],[0.5555555555555556,\"#d8576b\"],[0.6666666666666666,\"#ed7953\"],[0.7777777777777778,\"#fb9f3a\"],[0.8888888888888888,\"#fdca26\"],[1.0,\"#f0f921\"]],\"type\":\"heatmap\"}],\"histogram2dcontour\":[{\"colorbar\":{\"outlinewidth\":0,\"ticks\":\"\"},\"colorscale\":[[0.0,\"#0d0887\"],[0.1111111111111111,\"#46039f\"],[0.2222222222222222,\"#7201a8\"],[0.3333333333333333,\"#9c179e\"],[0.4444444444444444,\"#bd3786\"],[0.5555555555555556,\"#d8576b\"],[0.6666666666666666,\"#ed7953\"],[0.7777777777777778,\"#fb9f3a\"],[0.8888888888888888,\"#fdca26\"],[1.0,\"#f0f921\"]],\"type\":\"histogram2dcontour\"}],\"histogram2d\":[{\"colorbar\":{\"outlinewidth\":0,\"ticks\":\"\"},\"colorscale\":[[0.0,\"#0d0887\"],[0.1111111111111111,\"#46039f\"],[0.2222222222222222,\"#7201a8\"],[0.3333333333333333,\"#9c179e\"],[0.4444444444444444,\"#bd3786\"],[0.5555555555555556,\"#d8576b\"],[0.6666666666666666,\"#ed7953\"],[0.7777777777777778,\"#fb9f3a\"],[0.8888888888888888,\"#fdca26\"],[1.0,\"#f0f921\"]],\"type\":\"histogram2d\"}],\"histogram\":[{\"marker\":{\"pattern\":{\"fillmode\":\"overlay\",\"size\":10,\"solidity\":0.2}},\"type\":\"histogram\"}],\"mesh3d\":[{\"colorbar\":{\"outlinewidth\":0,\"ticks\":\"\"},\"type\":\"mesh3d\"}],\"parcoords\":[{\"line\":{\"colorbar\":{\"outlinewidth\":0,\"ticks\":\"\"}},\"type\":\"parcoords\"}],\"pie\":[{\"automargin\":true,\"type\":\"pie\"}],\"scatter3d\":[{\"line\":{\"colorbar\":{\"outlinewidth\":0,\"ticks\":\"\"}},\"marker\":{\"colorbar\":{\"outlinewidth\":0,\"ticks\":\"\"}},\"type\":\"scatter3d\"}],\"scattercarpet\":[{\"marker\":{\"colorbar\":{\"outlinewidth\":0,\"ticks\":\"\"}},\"type\":\"scattercarpet\"}],\"scattergeo\":[{\"marker\":{\"colorbar\":{\"outlinewidth\":0,\"ticks\":\"\"}},\"type\":\"scattergeo\"}],\"scattergl\":[{\"marker\":{\"colorbar\":{\"outlinewidth\":0,\"ticks\":\"\"}},\"type\":\"scattergl\"}],\"scattermapbox\":[{\"marker\":{\"colorbar\":{\"outlinewidth\":0,\"ticks\":\"\"}},\"type\":\"scattermapbox\"}],\"scatterpolargl\":[{\"marker\":{\"colorbar\":{\"outlinewidth\":0,\"ticks\":\"\"}},\"type\":\"scatterpolargl\"}],\"scatterpolar\":[{\"marker\":{\"colorbar\":{\"outlinewidth\":0,\"ticks\":\"\"}},\"type\":\"scatterpolar\"}],\"scatter\":[{\"fillpattern\":{\"fillmode\":\"overlay\",\"size\":10,\"solidity\":0.2},\"type\":\"scatter\"}],\"scatterternary\":[{\"marker\":{\"colorbar\":{\"outlinewidth\":0,\"ticks\":\"\"}},\"type\":\"scatterternary\"}],\"surface\":[{\"colorbar\":{\"outlinewidth\":0,\"ticks\":\"\"},\"colorscale\":[[0.0,\"#0d0887\"],[0.1111111111111111,\"#46039f\"],[0.2222222222222222,\"#7201a8\"],[0.3333333333333333,\"#9c179e\"],[0.4444444444444444,\"#bd3786\"],[0.5555555555555556,\"#d8576b\"],[0.6666666666666666,\"#ed7953\"],[0.7777777777777778,\"#fb9f3a\"],[0.8888888888888888,\"#fdca26\"],[1.0,\"#f0f921\"]],\"type\":\"surface\"}],\"table\":[{\"cells\":{\"fill\":{\"color\":\"#EBF0F8\"},\"line\":{\"color\":\"white\"}},\"header\":{\"fill\":{\"color\":\"#C8D4E3\"},\"line\":{\"color\":\"white\"}},\"type\":\"table\"}]},\"layout\":{\"annotationdefaults\":{\"arrowcolor\":\"#2a3f5f\",\"arrowhead\":0,\"arrowwidth\":1},\"autotypenumbers\":\"strict\",\"coloraxis\":{\"colorbar\":{\"outlinewidth\":0,\"ticks\":\"\"}},\"colorscale\":{\"diverging\":[[0,\"#8e0152\"],[0.1,\"#c51b7d\"],[0.2,\"#de77ae\"],[0.3,\"#f1b6da\"],[0.4,\"#fde0ef\"],[0.5,\"#f7f7f7\"],[0.6,\"#e6f5d0\"],[0.7,\"#b8e186\"],[0.8,\"#7fbc41\"],[0.9,\"#4d9221\"],[1,\"#276419\"]],\"sequential\":[[0.0,\"#0d0887\"],[0.1111111111111111,\"#46039f\"],[0.2222222222222222,\"#7201a8\"],[0.3333333333333333,\"#9c179e\"],[0.4444444444444444,\"#bd3786\"],[0.5555555555555556,\"#d8576b\"],[0.6666666666666666,\"#ed7953\"],[0.7777777777777778,\"#fb9f3a\"],[0.8888888888888888,\"#fdca26\"],[1.0,\"#f0f921\"]],\"sequentialminus\":[[0.0,\"#0d0887\"],[0.1111111111111111,\"#46039f\"],[0.2222222222222222,\"#7201a8\"],[0.3333333333333333,\"#9c179e\"],[0.4444444444444444,\"#bd3786\"],[0.5555555555555556,\"#d8576b\"],[0.6666666666666666,\"#ed7953\"],[0.7777777777777778,\"#fb9f3a\"],[0.8888888888888888,\"#fdca26\"],[1.0,\"#f0f921\"]]},\"colorway\":[\"#636efa\",\"#EF553B\",\"#00cc96\",\"#ab63fa\",\"#FFA15A\",\"#19d3f3\",\"#FF6692\",\"#B6E880\",\"#FF97FF\",\"#FECB52\"],\"font\":{\"color\":\"#2a3f5f\"},\"geo\":{\"bgcolor\":\"white\",\"lakecolor\":\"white\",\"landcolor\":\"#E5ECF6\",\"showlakes\":true,\"showland\":true,\"subunitcolor\":\"white\"},\"hoverlabel\":{\"align\":\"left\"},\"hovermode\":\"closest\",\"mapbox\":{\"style\":\"light\"},\"paper_bgcolor\":\"white\",\"plot_bgcolor\":\"#E5ECF6\",\"polar\":{\"angularaxis\":{\"gridcolor\":\"white\",\"linecolor\":\"white\",\"ticks\":\"\"},\"bgcolor\":\"#E5ECF6\",\"radialaxis\":{\"gridcolor\":\"white\",\"linecolor\":\"white\",\"ticks\":\"\"}},\"scene\":{\"xaxis\":{\"backgroundcolor\":\"#E5ECF6\",\"gridcolor\":\"white\",\"gridwidth\":2,\"linecolor\":\"white\",\"showbackground\":true,\"ticks\":\"\",\"zerolinecolor\":\"white\"},\"yaxis\":{\"backgroundcolor\":\"#E5ECF6\",\"gridcolor\":\"white\",\"gridwidth\":2,\"linecolor\":\"white\",\"showbackground\":true,\"ticks\":\"\",\"zerolinecolor\":\"white\"},\"zaxis\":{\"backgroundcolor\":\"#E5ECF6\",\"gridcolor\":\"white\",\"gridwidth\":2,\"linecolor\":\"white\",\"showbackground\":true,\"ticks\":\"\",\"zerolinecolor\":\"white\"}},\"shapedefaults\":{\"line\":{\"color\":\"#2a3f5f\"}},\"ternary\":{\"aaxis\":{\"gridcolor\":\"white\",\"linecolor\":\"white\",\"ticks\":\"\"},\"baxis\":{\"gridcolor\":\"white\",\"linecolor\":\"white\",\"ticks\":\"\"},\"bgcolor\":\"#E5ECF6\",\"caxis\":{\"gridcolor\":\"white\",\"linecolor\":\"white\",\"ticks\":\"\"}},\"title\":{\"x\":0.05},\"xaxis\":{\"automargin\":true,\"gridcolor\":\"white\",\"linecolor\":\"white\",\"ticks\":\"\",\"title\":{\"standoff\":15},\"zerolinecolor\":\"white\",\"zerolinewidth\":2},\"yaxis\":{\"automargin\":true,\"gridcolor\":\"white\",\"linecolor\":\"white\",\"ticks\":\"\",\"title\":{\"standoff\":15},\"zerolinecolor\":\"white\",\"zerolinewidth\":2}}},\"title\":{\"text\":\"GANTT Chart\"},\"xaxis\":{\"range\":[\"1970-01-01T00:35:24\",\"1970-01-01T16:05:12\"],\"title\":{\"font\":{\"color\":\"#7f7f7f\",\"family\":\"Courier New, monospace\",\"size\":18},\"text\":\"Time\"}},\"yaxis\":{\"title\":{\"font\":{\"color\":\"#7f7f7f\",\"family\":\"Courier New, monospace\",\"size\":18},\"text\":\"Activities\"}}},                        {\"responsive\": true}                    ).then(function(){\n",
       "                            \n",
       "var gd = document.getElementById('0e936eed-c45d-418d-94e1-1bede610e0c2');\n",
       "var x = new MutationObserver(function (mutations, observer) {{\n",
       "        var display = window.getComputedStyle(gd).display;\n",
       "        if (!display || display === 'none') {{\n",
       "            console.log([gd, 'removed!']);\n",
       "            Plotly.purge(gd);\n",
       "            observer.disconnect();\n",
       "        }}\n",
       "}});\n",
       "\n",
       "// Listen for the removal of the full notebook cells\n",
       "var notebookContainer = gd.closest('#notebook-container');\n",
       "if (notebookContainer) {{\n",
       "    x.observe(notebookContainer, {childList: true});\n",
       "}}\n",
       "\n",
       "// Listen for the clearing of the current output cell\n",
       "var outputEl = gd.closest('.output');\n",
       "if (outputEl) {{\n",
       "    x.observe(outputEl, {childList: true});\n",
       "}}\n",
       "\n",
       "                        })                };                });            </script>        </div>"
      ]
     },
     "metadata": {},
     "output_type": "display_data"
    }
   ],
   "source": [
    "# Plot only activities whose namespace (first letters) matches load*: 1 activty_type\n",
    "\n",
    "flat = pd.DataFrame(flatten(activities))\n",
    "loading = list(flat[flat['ActivityName'].str.startswith('loading')]['activity'].values)\n",
    "fig = get_gantt_chart(loading)"
   ]
  },
  {
   "cell_type": "code",
   "execution_count": 14,
   "id": "406b5d85",
   "metadata": {},
   "outputs": [
    {
     "data": {
      "image/png": "[encoded data removed]",
      "text/plain": [
       "<Figure size 1400x700 with 1 Axes>"
      ]
     },
     "metadata": {},
     "output_type": "display_data"
    }
   ],
   "source": [
    "# plot overall amount s-curve\n",
    "\n",
    "fig = get_step_chart([from_site, to_site, *vessels.values()])"
   ]
  },
  {
   "cell_type": "markdown",
   "id": "3e81de2b",
   "metadata": {},
   "source": [
    "## Export data  to BI for interactive a posteriori analysis"
   ]
  },
  {
   "cell_type": "code",
   "execution_count": 15,
   "id": "87cd1b2f",
   "metadata": {},
   "outputs": [
    {
     "data": {
      "text/html": [
       "<div>\n",
       "<style scoped>\n",
       "    .dataframe tbody tr th:only-of-type {\n",
       "        vertical-align: middle;\n",
       "    }\n",
       "\n",
       "    .dataframe tbody tr th {\n",
       "        vertical-align: top;\n",
       "    }\n",
       "\n",
       "    .dataframe thead th {\n",
       "        text-align: right;\n",
       "    }\n",
       "</style>\n",
       "<table border=\"1\" class=\"dataframe\">\n",
       "  <thead>\n",
       "    <tr style=\"text-align: right;\">\n",
       "      <th></th>\n",
       "      <th>siteName</th>\n",
       "      <th>siteID</th>\n",
       "      <th>siteType</th>\n",
       "    </tr>\n",
       "  </thead>\n",
       "  <tbody>\n",
       "    <tr>\n",
       "      <th>0</th>\n",
       "      <td>Trench</td>\n",
       "      <td>05662201-fd19-4993-b9e7-45143fa67dd7</td>\n",
       "      <td>&lt;class '__main__.Site'&gt;</td>\n",
       "    </tr>\n",
       "    <tr>\n",
       "      <th>1</th>\n",
       "      <td>Reclamation</td>\n",
       "      <td>bd86fa23-b8ad-4ff4-ac37-40d2b1a69188</td>\n",
       "      <td>&lt;class '__main__.Site'&gt;</td>\n",
       "    </tr>\n",
       "  </tbody>\n",
       "</table>\n",
       "</div>"
      ],
      "text/plain": [
       "      siteName                                siteID                 siteType\n",
       "0       Trench  05662201-fd19-4993-b9e7-45143fa67dd7  <class '__main__.Site'>\n",
       "1  Reclamation  bd86fa23-b8ad-4ff4-ac37-40d2b1a69188  <class '__main__.Site'>"
      ]
     },
     "execution_count": 15,
     "metadata": {},
     "output_type": "execute_result"
    }
   ],
   "source": [
    "export_concepts(sites, 'site', 'sites.csv')"
   ]
  },
  {
   "cell_type": "code",
   "execution_count": 16,
   "id": "5e5459b1",
   "metadata": {},
   "outputs": [
    {
     "data": {
      "text/html": [
       "<div>\n",
       "<style scoped>\n",
       "    .dataframe tbody tr th:only-of-type {\n",
       "        vertical-align: middle;\n",
       "    }\n",
       "\n",
       "    .dataframe tbody tr th {\n",
       "        vertical-align: top;\n",
       "    }\n",
       "\n",
       "    .dataframe thead th {\n",
       "        text-align: right;\n",
       "    }\n",
       "</style>\n",
       "<table border=\"1\" class=\"dataframe\">\n",
       "  <thead>\n",
       "    <tr style=\"text-align: right;\">\n",
       "      <th></th>\n",
       "      <th>vesselName</th>\n",
       "      <th>vesselID</th>\n",
       "      <th>vesselType</th>\n",
       "    </tr>\n",
       "  </thead>\n",
       "  <tbody>\n",
       "    <tr>\n",
       "      <th>0</th>\n",
       "      <td>Carrier A</td>\n",
       "      <td>febb8576-850b-49e0-ba41-a1c91a09dd7d</td>\n",
       "      <td>&lt;class '__main__.TransportProcessingResource'&gt;</td>\n",
       "    </tr>\n",
       "    <tr>\n",
       "      <th>1</th>\n",
       "      <td>Carrier B</td>\n",
       "      <td>fee60757-2ed4-48be-92f2-b07898c621e2</td>\n",
       "      <td>&lt;class '__main__.TransportProcessingResource'&gt;</td>\n",
       "    </tr>\n",
       "    <tr>\n",
       "      <th>2</th>\n",
       "      <td>Carrier C</td>\n",
       "      <td>345c4b8f-b72a-40f5-9c8b-e8d8cdbccf89</td>\n",
       "      <td>&lt;class '__main__.TransportProcessingResource'&gt;</td>\n",
       "    </tr>\n",
       "    <tr>\n",
       "      <th>3</th>\n",
       "      <td>Barge I</td>\n",
       "      <td>0436a5e0-ed4f-48dc-9604-ed7c6f5aab95</td>\n",
       "      <td>&lt;class '__main__.TransportProcessingResource'&gt;</td>\n",
       "    </tr>\n",
       "    <tr>\n",
       "      <th>4</th>\n",
       "      <td>Cutter T</td>\n",
       "      <td>cd838b4e-e6b2-4d2f-b4c9-54d43fcd323d</td>\n",
       "      <td>&lt;class '__main__.TransportProcessingResource'&gt;</td>\n",
       "    </tr>\n",
       "  </tbody>\n",
       "</table>\n",
       "</div>"
      ],
      "text/plain": [
       "  vesselName                              vesselID  \\\n",
       "0  Carrier A  febb8576-850b-49e0-ba41-a1c91a09dd7d   \n",
       "1  Carrier B  fee60757-2ed4-48be-92f2-b07898c621e2   \n",
       "2  Carrier C  345c4b8f-b72a-40f5-9c8b-e8d8cdbccf89   \n",
       "3    Barge I  0436a5e0-ed4f-48dc-9604-ed7c6f5aab95   \n",
       "4   Cutter T  cd838b4e-e6b2-4d2f-b4c9-54d43fcd323d   \n",
       "\n",
       "                                       vesselType  \n",
       "0  <class '__main__.TransportProcessingResource'>  \n",
       "1  <class '__main__.TransportProcessingResource'>  \n",
       "2  <class '__main__.TransportProcessingResource'>  \n",
       "3  <class '__main__.TransportProcessingResource'>  \n",
       "4  <class '__main__.TransportProcessingResource'>  "
      ]
     },
     "execution_count": 16,
     "metadata": {},
     "output_type": "execute_result"
    }
   ],
   "source": [
    "export_concepts(vessels, 'vessel', 'vessels.csv')"
   ]
  },
  {
   "cell_type": "code",
   "execution_count": 17,
   "id": "7e17551f",
   "metadata": {},
   "outputs": [
    {
     "data": {
      "text/html": [
       "<div>\n",
       "<style scoped>\n",
       "    .dataframe tbody tr th:only-of-type {\n",
       "        vertical-align: middle;\n",
       "    }\n",
       "\n",
       "    .dataframe tbody tr th {\n",
       "        vertical-align: top;\n",
       "    }\n",
       "\n",
       "    .dataframe thead th {\n",
       "        text-align: right;\n",
       "    }\n",
       "</style>\n",
       "<table border=\"1\" class=\"dataframe\">\n",
       "  <thead>\n",
       "    <tr style=\"text-align: right;\">\n",
       "      <th></th>\n",
       "      <th>vesselName</th>\n",
       "      <th>vesselID</th>\n",
       "      <th>vesselType</th>\n",
       "    </tr>\n",
       "  </thead>\n",
       "  <tbody>\n",
       "    <tr>\n",
       "      <th>0</th>\n",
       "      <td>Carrier A</td>\n",
       "      <td>febb8576-850b-49e0-ba41-a1c91a09dd7d</td>\n",
       "      <td>&lt;class '__main__.TransportProcessingResource'&gt;</td>\n",
       "    </tr>\n",
       "    <tr>\n",
       "      <th>1</th>\n",
       "      <td>Carrier B</td>\n",
       "      <td>fee60757-2ed4-48be-92f2-b07898c621e2</td>\n",
       "      <td>&lt;class '__main__.TransportProcessingResource'&gt;</td>\n",
       "    </tr>\n",
       "    <tr>\n",
       "      <th>2</th>\n",
       "      <td>Carrier C</td>\n",
       "      <td>345c4b8f-b72a-40f5-9c8b-e8d8cdbccf89</td>\n",
       "      <td>&lt;class '__main__.TransportProcessingResource'&gt;</td>\n",
       "    </tr>\n",
       "    <tr>\n",
       "      <th>3</th>\n",
       "      <td>Barge I</td>\n",
       "      <td>0436a5e0-ed4f-48dc-9604-ed7c6f5aab95</td>\n",
       "      <td>&lt;class '__main__.TransportProcessingResource'&gt;</td>\n",
       "    </tr>\n",
       "    <tr>\n",
       "      <th>4</th>\n",
       "      <td>Cutter T</td>\n",
       "      <td>cd838b4e-e6b2-4d2f-b4c9-54d43fcd323d</td>\n",
       "      <td>&lt;class '__main__.TransportProcessingResource'&gt;</td>\n",
       "    </tr>\n",
       "  </tbody>\n",
       "</table>\n",
       "</div>"
      ],
      "text/plain": [
       "  vesselName                              vesselID  \\\n",
       "0  Carrier A  febb8576-850b-49e0-ba41-a1c91a09dd7d   \n",
       "1  Carrier B  fee60757-2ed4-48be-92f2-b07898c621e2   \n",
       "2  Carrier C  345c4b8f-b72a-40f5-9c8b-e8d8cdbccf89   \n",
       "3    Barge I  0436a5e0-ed4f-48dc-9604-ed7c6f5aab95   \n",
       "4   Cutter T  cd838b4e-e6b2-4d2f-b4c9-54d43fcd323d   \n",
       "\n",
       "                                       vesselType  \n",
       "0  <class '__main__.TransportProcessingResource'>  \n",
       "1  <class '__main__.TransportProcessingResource'>  \n",
       "2  <class '__main__.TransportProcessingResource'>  \n",
       "3  <class '__main__.TransportProcessingResource'>  \n",
       "4  <class '__main__.TransportProcessingResource'>  "
      ]
     },
     "execution_count": 17,
     "metadata": {},
     "output_type": "execute_result"
    }
   ],
   "source": [
    "export_concepts(vessels, 'vessel', 'vessels.csv')"
   ]
  },
  {
   "cell_type": "code",
   "execution_count": 18,
   "id": "149c2434",
   "metadata": {},
   "outputs": [
    {
     "data": {
      "text/plain": [
       "24"
      ]
     },
     "execution_count": 18,
     "metadata": {},
     "output_type": "execute_result"
    }
   ],
   "source": [
    "activities_flat = export_activities(activities, 'activities.csv')\n",
    "len(activities_flat)"
   ]
  },
  {
   "cell_type": "code",
   "execution_count": 19,
   "id": "e4b0ebc5",
   "metadata": {},
   "outputs": [
    {
     "data": {
      "text/plain": [
       "224"
      ]
     },
     "execution_count": 19,
     "metadata": {},
     "output_type": "execute_result"
    }
   ],
   "source": [
    "activities_log = export_activity_log(activities, 'instances.csv')\n",
    "len(activities_log)"
   ]
  },
  {
   "cell_type": "code",
   "execution_count": 20,
   "id": "38ba0f4b",
   "metadata": {},
   "outputs": [
    {
     "data": {
      "text/plain": [
       "40"
      ]
     },
     "execution_count": 20,
     "metadata": {},
     "output_type": "execute_result"
    }
   ],
   "source": [
    "activity_resources =  export_activity_resources(activities, 'resources.csv')\n",
    "len(activity_resources)"
   ]
  },
  {
   "cell_type": "markdown",
   "id": "bc385376",
   "metadata": {},
   "source": [
    "## Verification/sanity checks"
   ]
  },
  {
   "cell_type": "code",
   "execution_count": 21,
   "id": "a3e8f617",
   "metadata": {},
   "outputs": [
    {
     "data": {
      "text/plain": [
       "{'', 'Barge I', 'Carrier A', 'Carrier B', 'Carrier C'}"
      ]
     },
     "execution_count": 21,
     "metadata": {},
     "output_type": "execute_result"
    }
   ],
   "source": [
    "set(activities_flat['MoverName'])"
   ]
  },
  {
   "cell_type": "code",
   "execution_count": 22,
   "id": "acfbb1ef",
   "metadata": {},
   "outputs": [
    {
     "data": {
      "text/plain": [
       "{'', 'Barge I', 'Carrier A', 'Carrier B', 'Carrier C', 'Cutter T'}"
      ]
     },
     "execution_count": 22,
     "metadata": {},
     "output_type": "execute_result"
    }
   ],
   "source": [
    "set(activities_flat['ProcessorName'])"
   ]
  },
  {
   "cell_type": "code",
   "execution_count": 23,
   "id": "b680fb2a",
   "metadata": {},
   "outputs": [
    {
     "data": {
      "text/plain": [
       "{'', 'Barge I', 'Carrier A', 'Carrier B', 'Carrier C', 'Trench'}"
      ]
     },
     "execution_count": 23,
     "metadata": {},
     "output_type": "execute_result"
    }
   ],
   "source": [
    "set(activities_flat['OriginName'])"
   ]
  },
  {
   "cell_type": "code",
   "execution_count": 24,
   "id": "1ce51171",
   "metadata": {},
   "outputs": [
    {
     "data": {
      "text/plain": [
       "{'', 'Barge I', 'Carrier A', 'Carrier B', 'Carrier C', 'Reclamation', 'Trench'}"
      ]
     },
     "execution_count": 24,
     "metadata": {},
     "output_type": "execute_result"
    }
   ],
   "source": [
    "set(activities_flat['DestinationName'])"
   ]
  },
  {
   "cell_type": "code",
   "execution_count": 25,
   "id": "49d35cd3",
   "metadata": {},
   "outputs": [
    {
     "data": {
      "text/plain": [
       "{'MoveActivity', 'SequentialActivity', 'ShiftAmountActivity', 'WhileActivity'}"
      ]
     },
     "execution_count": 25,
     "metadata": {},
     "output_type": "execute_result"
    }
   ],
   "source": [
    "set(activities_flat['ActivityClass'])"
   ]
  },
  {
   "cell_type": "code",
   "execution_count": 26,
   "id": "70998a10",
   "metadata": {},
   "outputs": [
    {
     "data": {
      "text/plain": [
       "{'', 'Barge I', 'Carrier A', 'Carrier B', 'Carrier C', 'Trench'}"
      ]
     },
     "execution_count": 26,
     "metadata": {},
     "output_type": "execute_result"
    }
   ],
   "source": [
    "set(activities_flat['OriginName'])"
   ]
  },
  {
   "cell_type": "code",
   "execution_count": 27,
   "id": "01c977e4",
   "metadata": {},
   "outputs": [
    {
     "data": {
      "text/plain": [
       "{'destination', 'mover', 'origin', 'processor'}"
      ]
     },
     "execution_count": 27,
     "metadata": {},
     "output_type": "execute_result"
    }
   ],
   "source": [
    "set(activity_resources['ConceptMode'])"
   ]
  },
  {
   "cell_type": "markdown",
   "id": "9d132a51",
   "metadata": {},
   "source": [
    "# Visualize critical path of chosen optimal scenario"
   ]
  },
  {
   "cell_type": "code",
   "execution_count": 28,
   "id": "63db1761",
   "metadata": {},
   "outputs": [
    {
     "data": {
      "text/html": [
       "        <script type=\"text/javascript\">\n",
       "        window.PlotlyConfig = {MathJaxConfig: 'local'};\n",
       "        if (window.MathJax && window.MathJax.Hub && window.MathJax.Hub.Config) {window.MathJax.Hub.Config({SVG: {font: \"STIX-Web\"}});}\n",
       "        if (typeof require !== 'undefined') {\n",
       "        require.undef(\"plotly\");\n",
       "        requirejs.config({\n",
       "            paths: {\n",
       "                'plotly': ['https://cdn.plot.ly/plotly-2.18.2.min']\n",
       "            }\n",
       "        });\n",
       "        require(['plotly'], function(Plotly) {\n",
       "            window._Plotly = Plotly;\n",
       "        });\n",
       "        }\n",
       "        </script>\n",
       "        "
      ]
     },
     "metadata": {},
     "output_type": "display_data"
    },
    {
     "data": {
      "application/vnd.plotly.v1+json": {
       "config": {
        "linkText": "Export to plot.ly",
        "plotlyServerURL": "https://plot.ly",
        "showLink": false
       },
       "data": [
        {
         "connectgaps": false,
         "hoverinfo": "name",
         "line": {
          "color": "red",
          "width": 14
         },
         "mode": "lines",
         "name": "critical_path",
         "type": "scatter",
         "x": [
          "1970-01-01T00:00:00",
          "1970-01-01T00:35:24",
          "1970-01-01T00:35:24",
          "1970-01-01T00:35:24",
          "1970-01-01T01:08:44",
          "1970-01-01T01:08:44",
          "1970-01-01T00:35:24",
          "1970-01-01T01:08:44",
          "1970-01-01T01:08:44",
          "1970-01-01T00:35:24",
          "1970-01-01T01:08:44",
          "1970-01-01T01:08:44",
          "1970-01-01T01:08:44",
          "1970-01-01T01:50:24",
          "1970-01-01T01:50:24",
          "1970-01-01T01:08:44",
          "1970-01-01T01:50:24",
          "1970-01-01T01:50:24",
          "1970-01-01T01:08:44",
          "1970-01-01T01:50:24",
          "1970-01-01T01:50:24",
          "1970-01-01T01:50:24",
          "1970-01-01T02:32:04",
          "1970-01-01T02:32:04",
          "1970-01-01T01:50:24",
          "1970-01-01T02:32:04",
          "1970-01-01T02:32:04",
          "1970-01-01T01:50:24",
          "1970-01-01T02:32:04",
          "1970-01-01T02:32:04",
          "1970-01-01T02:32:04",
          "1970-01-01T03:13:44",
          "1970-01-01T03:13:44",
          "1970-01-01T02:32:04",
          "1970-01-01T03:13:44",
          "1970-01-01T03:13:44",
          "1970-01-01T02:32:04",
          "1970-01-01T03:13:44",
          "1970-01-01T03:13:44",
          "1970-01-01T03:13:44",
          "1970-01-01T03:57:53",
          "1970-01-01T03:57:53",
          "1970-01-01T03:57:53",
          "1970-01-01T04:42:02",
          "1970-01-01T04:42:02",
          "1970-01-01T03:57:53",
          "1970-01-01T04:42:02",
          "1970-01-01T04:42:02",
          "1970-01-01T04:42:02",
          "1970-01-01T05:26:11",
          "1970-01-01T05:26:11",
          "1970-01-01T05:26:11",
          "1970-01-01T06:07:51",
          "1970-01-01T06:07:51",
          "1970-01-01T05:26:11",
          "1970-01-01T06:07:51",
          "1970-01-01T06:07:51",
          "1970-01-01T05:26:11",
          "1970-01-01T06:07:51",
          "1970-01-01T06:07:51",
          "1970-01-01T06:07:51",
          "1970-01-01T06:52:00",
          "1970-01-01T06:52:00",
          "1970-01-01T06:52:00",
          "1970-01-01T07:36:09",
          "1970-01-01T07:36:09",
          "1970-01-01T06:52:00",
          "1970-01-01T07:36:09",
          "1970-01-01T07:36:09",
          "1970-01-01T07:36:09",
          "1970-01-01T08:20:18",
          "1970-01-01T08:20:18",
          "1970-01-01T08:20:18",
          "1970-01-01T09:01:58",
          "1970-01-01T09:01:58",
          "1970-01-01T08:20:18",
          "1970-01-01T09:01:58",
          "1970-01-01T09:01:58",
          "1970-01-01T08:20:18",
          "1970-01-01T09:01:58",
          "1970-01-01T09:01:58",
          "1970-01-01T09:01:58",
          "1970-01-01T09:46:07",
          "1970-01-01T09:46:07",
          "1970-01-01T09:46:07",
          "1970-01-01T10:30:16",
          "1970-01-01T10:30:16",
          "1970-01-01T09:46:07",
          "1970-01-01T10:30:16",
          "1970-01-01T10:30:16",
          "1970-01-01T10:30:16",
          "1970-01-01T11:14:25",
          "1970-01-01T11:14:25",
          "1970-01-01T11:14:25",
          "1970-01-01T11:56:05",
          "1970-01-01T11:56:05",
          "1970-01-01T11:14:25",
          "1970-01-01T11:56:05",
          "1970-01-01T11:56:05",
          "1970-01-01T11:14:25",
          "1970-01-01T11:56:05",
          "1970-01-01T11:56:05",
          "1970-01-01T11:56:05",
          "1970-01-01T12:40:14",
          "1970-01-01T12:40:14",
          "1970-01-01T12:40:14",
          "1970-01-01T13:24:23",
          "1970-01-01T13:24:23",
          "1970-01-01T12:40:14",
          "1970-01-01T13:24:23",
          "1970-01-01T13:24:23",
          "1970-01-01T13:24:23",
          "1970-01-01T14:08:32",
          "1970-01-01T14:08:32",
          "1970-01-01T14:08:32",
          "1970-01-01T14:50:12",
          "1970-01-01T14:50:12",
          "1970-01-01T14:08:32",
          "1970-01-01T14:50:12",
          "1970-01-01T14:50:12",
          "1970-01-01T14:08:32",
          "1970-01-01T14:50:12",
          "1970-01-01T14:50:12",
          "1970-01-01T14:50:12",
          "1970-01-01T15:23:32",
          "1970-01-01T15:23:32",
          "1970-01-01T14:50:12",
          "1970-01-01T15:23:32",
          "1970-01-01T15:23:32",
          "1970-01-01T14:50:12",
          "1970-01-01T15:23:32",
          "1970-01-01T15:23:32",
          "1970-01-01T15:23:32",
          "1970-01-01T16:05:12",
          "1970-01-01T16:05:12",
          "1970-01-01T15:23:32",
          "1970-01-01T16:05:12",
          "1970-01-01T16:05:12",
          "1970-01-01T15:23:32",
          "1970-01-01T16:05:12",
          "1970-01-01T16:05:12",
          "1970-01-01T16:05:12",
          "1970-01-01T16:44:41",
          "1970-01-01T16:44:41",
          "1970-01-01T16:44:41",
          "1970-01-01T17:24:10",
          "1970-01-01T17:24:10",
          "1970-01-01T16:44:41",
          "1970-01-01T17:24:10",
          "1970-01-01T17:24:10"
         ],
         "y": [
          "Carrier C",
          "Carrier C",
          null,
          "Carrier C",
          "Carrier C",
          null,
          "Cutter T",
          "Cutter T",
          null,
          "Trench",
          "Trench",
          null,
          "Barge I",
          "Barge I",
          null,
          "Cutter T",
          "Cutter T",
          null,
          "Trench",
          "Trench",
          null,
          "Carrier B",
          "Carrier B",
          null,
          "Cutter T",
          "Cutter T",
          null,
          "Trench",
          "Trench",
          null,
          "Carrier A",
          "Carrier A",
          null,
          "Cutter T",
          "Cutter T",
          null,
          "Trench",
          "Trench",
          null,
          "Carrier A",
          "Carrier A",
          null,
          "Carrier A",
          "Carrier A",
          null,
          "Reclamation",
          "Reclamation",
          null,
          "Carrier A",
          "Carrier A",
          null,
          "Carrier A",
          "Carrier A",
          null,
          "Cutter T",
          "Cutter T",
          null,
          "Trench",
          "Trench",
          null,
          "Carrier A",
          "Carrier A",
          null,
          "Carrier A",
          "Carrier A",
          null,
          "Reclamation",
          "Reclamation",
          null,
          "Carrier A",
          "Carrier A",
          null,
          "Carrier A",
          "Carrier A",
          null,
          "Cutter T",
          "Cutter T",
          null,
          "Trench",
          "Trench",
          null,
          "Carrier A",
          "Carrier A",
          null,
          "Carrier A",
          "Carrier A",
          null,
          "Reclamation",
          "Reclamation",
          null,
          "Carrier A",
          "Carrier A",
          null,
          "Carrier A",
          "Carrier A",
          null,
          "Cutter T",
          "Cutter T",
          null,
          "Trench",
          "Trench",
          null,
          "Carrier A",
          "Carrier A",
          null,
          "Carrier A",
          "Carrier A",
          null,
          "Reclamation",
          "Reclamation",
          null,
          "Carrier A",
          "Carrier A",
          null,
          "Carrier A",
          "Carrier A",
          null,
          "Cutter T",
          "Cutter T",
          null,
          "Trench",
          "Trench",
          null,
          "Carrier C",
          "Carrier C",
          null,
          "Cutter T",
          "Cutter T",
          null,
          "Trench",
          "Trench",
          null,
          "Barge I",
          "Barge I",
          null,
          "Cutter T",
          "Cutter T",
          null,
          "Trench",
          "Trench",
          null,
          "Barge I",
          "Barge I",
          null,
          "Barge I",
          "Barge I",
          null,
          "Reclamation",
          "Reclamation",
          null
         ]
        },
        {
         "connectgaps": false,
         "hoverinfo": "y+name",
         "line": {
          "color": "rgb(220,197,209)",
          "width": 10
         },
         "mode": "lines",
         "name": "loading:Carrier A",
         "type": "scatter",
         "x": [
          "1970-01-01T02:32:04",
          "1970-01-01T02:32:04",
          "1970-01-01T03:13:44",
          "1970-01-01T03:13:44",
          "1970-01-01T03:13:44",
          "1970-01-01T05:26:11",
          "1970-01-01T05:26:11",
          "1970-01-01T06:07:51",
          "1970-01-01T06:07:51",
          "1970-01-01T06:07:51",
          "1970-01-01T08:20:18",
          "1970-01-01T08:20:18",
          "1970-01-01T09:01:58",
          "1970-01-01T09:01:58",
          "1970-01-01T09:01:58",
          "1970-01-01T11:14:25",
          "1970-01-01T11:14:25",
          "1970-01-01T11:56:05",
          "1970-01-01T11:56:05",
          "1970-01-01T11:56:05",
          "1970-01-01T14:08:32",
          "1970-01-01T14:08:32",
          "1970-01-01T14:50:12",
          "1970-01-01T14:50:12",
          "1970-01-01T14:50:12",
          "1970-01-01T02:32:04",
          "1970-01-01T02:32:04",
          "1970-01-01T03:13:44",
          "1970-01-01T03:13:44",
          "1970-01-01T03:13:44",
          "1970-01-01T05:26:11",
          "1970-01-01T05:26:11",
          "1970-01-01T06:07:51",
          "1970-01-01T06:07:51",
          "1970-01-01T06:07:51",
          "1970-01-01T08:20:18",
          "1970-01-01T08:20:18",
          "1970-01-01T09:01:58",
          "1970-01-01T09:01:58",
          "1970-01-01T09:01:58",
          "1970-01-01T11:14:25",
          "1970-01-01T11:14:25",
          "1970-01-01T11:56:05",
          "1970-01-01T11:56:05",
          "1970-01-01T11:56:05",
          "1970-01-01T14:08:32",
          "1970-01-01T14:08:32",
          "1970-01-01T14:50:12",
          "1970-01-01T14:50:12",
          "1970-01-01T14:50:12",
          "1970-01-01T02:32:04",
          "1970-01-01T02:32:04",
          "1970-01-01T03:13:44",
          "1970-01-01T03:13:44",
          "1970-01-01T03:13:44",
          "1970-01-01T05:26:11",
          "1970-01-01T05:26:11",
          "1970-01-01T06:07:51",
          "1970-01-01T06:07:51",
          "1970-01-01T06:07:51",
          "1970-01-01T08:20:18",
          "1970-01-01T08:20:18",
          "1970-01-01T09:01:58",
          "1970-01-01T09:01:58",
          "1970-01-01T09:01:58",
          "1970-01-01T11:14:25",
          "1970-01-01T11:14:25",
          "1970-01-01T11:56:05",
          "1970-01-01T11:56:05",
          "1970-01-01T11:56:05",
          "1970-01-01T14:08:32",
          "1970-01-01T14:08:32",
          "1970-01-01T14:50:12",
          "1970-01-01T14:50:12",
          "1970-01-01T14:50:12"
         ],
         "y": [
          "Carrier A",
          "Carrier A",
          "Carrier A",
          "Carrier A",
          null,
          "Carrier A",
          "Carrier A",
          "Carrier A",
          "Carrier A",
          null,
          "Carrier A",
          "Carrier A",
          "Carrier A",
          "Carrier A",
          null,
          "Carrier A",
          "Carrier A",
          "Carrier A",
          "Carrier A",
          null,
          "Carrier A",
          "Carrier A",
          "Carrier A",
          "Carrier A",
          null,
          "Cutter T",
          "Cutter T",
          "Cutter T",
          "Cutter T",
          null,
          "Cutter T",
          "Cutter T",
          "Cutter T",
          "Cutter T",
          null,
          "Cutter T",
          "Cutter T",
          "Cutter T",
          "Cutter T",
          null,
          "Cutter T",
          "Cutter T",
          "Cutter T",
          "Cutter T",
          null,
          "Cutter T",
          "Cutter T",
          "Cutter T",
          "Cutter T",
          null,
          "Trench",
          "Trench",
          "Trench",
          "Trench",
          null,
          "Trench",
          "Trench",
          "Trench",
          "Trench",
          null,
          "Trench",
          "Trench",
          "Trench",
          "Trench",
          null,
          "Trench",
          "Trench",
          "Trench",
          "Trench",
          null,
          "Trench",
          "Trench",
          "Trench",
          "Trench",
          null
         ]
        },
        {
         "connectgaps": false,
         "hoverinfo": "y+name",
         "line": {
          "color": "rgb(229,206,218)",
          "width": 10
         },
         "mode": "lines",
         "name": "sailing empty:Carrier A",
         "type": "scatter",
         "x": [
          "1970-01-01T00:00:00",
          "1970-01-01T00:00:00",
          "1970-01-01T00:44:09",
          "1970-01-01T00:44:09",
          "1970-01-01T00:44:09",
          "1970-01-01T04:42:02",
          "1970-01-01T04:42:02",
          "1970-01-01T05:26:11",
          "1970-01-01T05:26:11",
          "1970-01-01T05:26:11",
          "1970-01-01T07:36:09",
          "1970-01-01T07:36:09",
          "1970-01-01T08:20:18",
          "1970-01-01T08:20:18",
          "1970-01-01T08:20:18",
          "1970-01-01T10:30:16",
          "1970-01-01T10:30:16",
          "1970-01-01T11:14:25",
          "1970-01-01T11:14:25",
          "1970-01-01T11:14:25",
          "1970-01-01T13:24:23",
          "1970-01-01T13:24:23",
          "1970-01-01T14:08:32",
          "1970-01-01T14:08:32",
          "1970-01-01T14:08:32"
         ],
         "y": [
          "Carrier A",
          "Carrier A",
          "Carrier A",
          "Carrier A",
          null,
          "Carrier A",
          "Carrier A",
          "Carrier A",
          "Carrier A",
          null,
          "Carrier A",
          "Carrier A",
          "Carrier A",
          "Carrier A",
          null,
          "Carrier A",
          "Carrier A",
          "Carrier A",
          "Carrier A",
          null,
          "Carrier A",
          "Carrier A",
          "Carrier A",
          "Carrier A",
          null
         ]
        },
        {
         "connectgaps": false,
         "hoverinfo": "y+name",
         "line": {
          "color": "rgb(238,215,227)",
          "width": 10
         },
         "mode": "lines",
         "name": "unloading:Carrier A",
         "type": "scatter",
         "x": [
          "1970-01-01T03:57:53",
          "1970-01-01T03:57:53",
          "1970-01-01T04:42:02",
          "1970-01-01T04:42:02",
          "1970-01-01T04:42:02",
          "1970-01-01T06:52:00",
          "1970-01-01T06:52:00",
          "1970-01-01T07:36:09",
          "1970-01-01T07:36:09",
          "1970-01-01T07:36:09",
          "1970-01-01T09:46:07",
          "1970-01-01T09:46:07",
          "1970-01-01T10:30:16",
          "1970-01-01T10:30:16",
          "1970-01-01T10:30:16",
          "1970-01-01T12:40:14",
          "1970-01-01T12:40:14",
          "1970-01-01T13:24:23",
          "1970-01-01T13:24:23",
          "1970-01-01T13:24:23",
          "1970-01-01T15:34:21",
          "1970-01-01T15:34:21",
          "1970-01-01T16:18:30",
          "1970-01-01T16:18:30",
          "1970-01-01T16:18:30",
          "1970-01-01T03:57:53",
          "1970-01-01T03:57:53",
          "1970-01-01T04:42:02",
          "1970-01-01T04:42:02",
          "1970-01-01T04:42:02",
          "1970-01-01T06:52:00",
          "1970-01-01T06:52:00",
          "1970-01-01T07:36:09",
          "1970-01-01T07:36:09",
          "1970-01-01T07:36:09",
          "1970-01-01T09:46:07",
          "1970-01-01T09:46:07",
          "1970-01-01T10:30:16",
          "1970-01-01T10:30:16",
          "1970-01-01T10:30:16",
          "1970-01-01T12:40:14",
          "1970-01-01T12:40:14",
          "1970-01-01T13:24:23",
          "1970-01-01T13:24:23",
          "1970-01-01T13:24:23",
          "1970-01-01T15:34:21",
          "1970-01-01T15:34:21",
          "1970-01-01T16:18:30",
          "1970-01-01T16:18:30",
          "1970-01-01T16:18:30"
         ],
         "y": [
          "Carrier A",
          "Carrier A",
          "Carrier A",
          "Carrier A",
          null,
          "Carrier A",
          "Carrier A",
          "Carrier A",
          "Carrier A",
          null,
          "Carrier A",
          "Carrier A",
          "Carrier A",
          "Carrier A",
          null,
          "Carrier A",
          "Carrier A",
          "Carrier A",
          "Carrier A",
          null,
          "Carrier A",
          "Carrier A",
          "Carrier A",
          "Carrier A",
          null,
          "Reclamation",
          "Reclamation",
          "Reclamation",
          "Reclamation",
          null,
          "Reclamation",
          "Reclamation",
          "Reclamation",
          "Reclamation",
          null,
          "Reclamation",
          "Reclamation",
          "Reclamation",
          "Reclamation",
          null,
          "Reclamation",
          "Reclamation",
          "Reclamation",
          "Reclamation",
          null,
          "Reclamation",
          "Reclamation",
          "Reclamation",
          "Reclamation",
          null
         ]
        },
        {
         "connectgaps": false,
         "hoverinfo": "y+name",
         "line": {
          "color": "rgb(247,224,236)",
          "width": 10
         },
         "mode": "lines",
         "name": "sailing full:Carrier A",
         "type": "scatter",
         "x": [
          "1970-01-01T03:13:44",
          "1970-01-01T03:13:44",
          "1970-01-01T03:57:53",
          "1970-01-01T03:57:53",
          "1970-01-01T03:57:53",
          "1970-01-01T06:07:51",
          "1970-01-01T06:07:51",
          "1970-01-01T06:52:00",
          "1970-01-01T06:52:00",
          "1970-01-01T06:52:00",
          "1970-01-01T09:01:58",
          "1970-01-01T09:01:58",
          "1970-01-01T09:46:07",
          "1970-01-01T09:46:07",
          "1970-01-01T09:46:07",
          "1970-01-01T11:56:05",
          "1970-01-01T11:56:05",
          "1970-01-01T12:40:14",
          "1970-01-01T12:40:14",
          "1970-01-01T12:40:14",
          "1970-01-01T14:50:12",
          "1970-01-01T14:50:12",
          "1970-01-01T15:34:21",
          "1970-01-01T15:34:21",
          "1970-01-01T15:34:21"
         ],
         "y": [
          "Carrier A",
          "Carrier A",
          "Carrier A",
          "Carrier A",
          null,
          "Carrier A",
          "Carrier A",
          "Carrier A",
          "Carrier A",
          null,
          "Carrier A",
          "Carrier A",
          "Carrier A",
          "Carrier A",
          null,
          "Carrier A",
          "Carrier A",
          "Carrier A",
          "Carrier A",
          null,
          "Carrier A",
          "Carrier A",
          "Carrier A",
          "Carrier A",
          null
         ]
        },
        {
         "connectgaps": false,
         "hoverinfo": "y+name",
         "line": {
          "color": "rgb(0,233,245)",
          "width": 10
         },
         "mode": "lines",
         "name": "loading:Carrier B",
         "type": "scatter",
         "x": [
          "1970-01-01T01:50:24",
          "1970-01-01T01:50:24",
          "1970-01-01T02:32:04",
          "1970-01-01T02:32:04",
          "1970-01-01T02:32:04",
          "1970-01-01T04:32:49",
          "1970-01-01T04:32:49",
          "1970-01-01T05:14:29",
          "1970-01-01T05:14:29",
          "1970-01-01T05:14:29",
          "1970-01-01T07:22:51",
          "1970-01-01T07:22:51",
          "1970-01-01T08:04:31",
          "1970-01-01T08:04:31",
          "1970-01-01T08:04:31",
          "1970-01-01T10:16:58",
          "1970-01-01T10:16:58",
          "1970-01-01T10:58:38",
          "1970-01-01T10:58:38",
          "1970-01-01T10:58:38",
          "1970-01-01T13:11:05",
          "1970-01-01T13:11:05",
          "1970-01-01T13:52:45",
          "1970-01-01T13:52:45",
          "1970-01-01T13:52:45",
          "1970-01-01T01:50:24",
          "1970-01-01T01:50:24",
          "1970-01-01T02:32:04",
          "1970-01-01T02:32:04",
          "1970-01-01T02:32:04",
          "1970-01-01T04:32:49",
          "1970-01-01T04:32:49",
          "1970-01-01T05:14:29",
          "1970-01-01T05:14:29",
          "1970-01-01T05:14:29",
          "1970-01-01T07:22:51",
          "1970-01-01T07:22:51",
          "1970-01-01T08:04:31",
          "1970-01-01T08:04:31",
          "1970-01-01T08:04:31",
          "1970-01-01T10:16:58",
          "1970-01-01T10:16:58",
          "1970-01-01T10:58:38",
          "1970-01-01T10:58:38",
          "1970-01-01T10:58:38",
          "1970-01-01T13:11:05",
          "1970-01-01T13:11:05",
          "1970-01-01T13:52:45",
          "1970-01-01T13:52:45",
          "1970-01-01T13:52:45",
          "1970-01-01T01:50:24",
          "1970-01-01T01:50:24",
          "1970-01-01T02:32:04",
          "1970-01-01T02:32:04",
          "1970-01-01T02:32:04",
          "1970-01-01T04:32:49",
          "1970-01-01T04:32:49",
          "1970-01-01T05:14:29",
          "1970-01-01T05:14:29",
          "1970-01-01T05:14:29",
          "1970-01-01T07:22:51",
          "1970-01-01T07:22:51",
          "1970-01-01T08:04:31",
          "1970-01-01T08:04:31",
          "1970-01-01T08:04:31",
          "1970-01-01T10:16:58",
          "1970-01-01T10:16:58",
          "1970-01-01T10:58:38",
          "1970-01-01T10:58:38",
          "1970-01-01T10:58:38",
          "1970-01-01T13:11:05",
          "1970-01-01T13:11:05",
          "1970-01-01T13:52:45",
          "1970-01-01T13:52:45",
          "1970-01-01T13:52:45"
         ],
         "y": [
          "Carrier B",
          "Carrier B",
          "Carrier B",
          "Carrier B",
          null,
          "Carrier B",
          "Carrier B",
          "Carrier B",
          "Carrier B",
          null,
          "Carrier B",
          "Carrier B",
          "Carrier B",
          "Carrier B",
          null,
          "Carrier B",
          "Carrier B",
          "Carrier B",
          "Carrier B",
          null,
          "Carrier B",
          "Carrier B",
          "Carrier B",
          "Carrier B",
          null,
          "Cutter T",
          "Cutter T",
          "Cutter T",
          "Cutter T",
          null,
          "Cutter T",
          "Cutter T",
          "Cutter T",
          "Cutter T",
          null,
          "Cutter T",
          "Cutter T",
          "Cutter T",
          "Cutter T",
          null,
          "Cutter T",
          "Cutter T",
          "Cutter T",
          "Cutter T",
          null,
          "Cutter T",
          "Cutter T",
          "Cutter T",
          "Cutter T",
          null,
          "Trench",
          "Trench",
          "Trench",
          "Trench",
          null,
          "Trench",
          "Trench",
          "Trench",
          "Trench",
          null,
          "Trench",
          "Trench",
          "Trench",
          "Trench",
          null,
          "Trench",
          "Trench",
          "Trench",
          "Trench",
          null,
          "Trench",
          "Trench",
          "Trench",
          "Trench",
          null
         ]
        },
        {
         "connectgaps": false,
         "hoverinfo": "y+name",
         "line": {
          "color": "rgb(9,242,254)",
          "width": 10
         },
         "mode": "lines",
         "name": "sailing empty:Carrier B",
         "type": "scatter",
         "x": [
          "1970-01-01T00:00:00",
          "1970-01-01T00:00:00",
          "1970-01-01T00:40:15",
          "1970-01-01T00:40:15",
          "1970-01-01T00:40:15",
          "1970-01-01T03:52:34",
          "1970-01-01T03:52:34",
          "1970-01-01T04:32:49",
          "1970-01-01T04:32:49",
          "1970-01-01T04:32:49",
          "1970-01-01T06:34:59",
          "1970-01-01T06:34:59",
          "1970-01-01T07:15:14",
          "1970-01-01T07:15:14",
          "1970-01-01T07:15:14",
          "1970-01-01T09:25:01",
          "1970-01-01T09:25:01",
          "1970-01-01T10:05:16",
          "1970-01-01T10:05:16",
          "1970-01-01T10:05:16",
          "1970-01-01T12:19:08",
          "1970-01-01T12:19:08",
          "1970-01-01T12:59:23",
          "1970-01-01T12:59:23",
          "1970-01-01T12:59:23"
         ],
         "y": [
          "Carrier B",
          "Carrier B",
          "Carrier B",
          "Carrier B",
          null,
          "Carrier B",
          "Carrier B",
          "Carrier B",
          "Carrier B",
          null,
          "Carrier B",
          "Carrier B",
          "Carrier B",
          "Carrier B",
          null,
          "Carrier B",
          "Carrier B",
          "Carrier B",
          "Carrier B",
          null,
          "Carrier B",
          "Carrier B",
          "Carrier B",
          "Carrier B",
          null
         ]
        },
        {
         "connectgaps": false,
         "hoverinfo": "y+name",
         "line": {
          "color": "rgb(18,251,7)",
          "width": 10
         },
         "mode": "lines",
         "name": "sailing full:Carrier B",
         "type": "scatter",
         "x": [
          "1970-01-01T02:32:04",
          "1970-01-01T02:32:04",
          "1970-01-01T03:12:19",
          "1970-01-01T03:12:19",
          "1970-01-01T03:12:19",
          "1970-01-01T05:14:29",
          "1970-01-01T05:14:29",
          "1970-01-01T05:54:44",
          "1970-01-01T05:54:44",
          "1970-01-01T05:54:44",
          "1970-01-01T08:04:31",
          "1970-01-01T08:04:31",
          "1970-01-01T08:44:46",
          "1970-01-01T08:44:46",
          "1970-01-01T08:44:46",
          "1970-01-01T10:58:38",
          "1970-01-01T10:58:38",
          "1970-01-01T11:38:53",
          "1970-01-01T11:38:53",
          "1970-01-01T11:38:53",
          "1970-01-01T13:52:45",
          "1970-01-01T13:52:45",
          "1970-01-01T14:33:00",
          "1970-01-01T14:33:00",
          "1970-01-01T14:33:00"
         ],
         "y": [
          "Carrier B",
          "Carrier B",
          "Carrier B",
          "Carrier B",
          null,
          "Carrier B",
          "Carrier B",
          "Carrier B",
          "Carrier B",
          null,
          "Carrier B",
          "Carrier B",
          "Carrier B",
          "Carrier B",
          null,
          "Carrier B",
          "Carrier B",
          "Carrier B",
          "Carrier B",
          null,
          "Carrier B",
          "Carrier B",
          "Carrier B",
          "Carrier B",
          null
         ]
        },
        {
         "connectgaps": false,
         "hoverinfo": "y+name",
         "line": {
          "color": "rgb(27,4,16)",
          "width": 10
         },
         "mode": "lines",
         "name": "unloading:Carrier B",
         "type": "scatter",
         "x": [
          "1970-01-01T03:12:19",
          "1970-01-01T03:12:19",
          "1970-01-01T03:52:34",
          "1970-01-01T03:52:34",
          "1970-01-01T03:52:34",
          "1970-01-01T05:54:44",
          "1970-01-01T05:54:44",
          "1970-01-01T06:34:59",
          "1970-01-01T06:34:59",
          "1970-01-01T06:34:59",
          "1970-01-01T08:44:46",
          "1970-01-01T08:44:46",
          "1970-01-01T09:25:01",
          "1970-01-01T09:25:01",
          "1970-01-01T09:25:01",
          "1970-01-01T11:38:53",
          "1970-01-01T11:38:53",
          "1970-01-01T12:19:08",
          "1970-01-01T12:19:08",
          "1970-01-01T12:19:08",
          "1970-01-01T14:33:00",
          "1970-01-01T14:33:00",
          "1970-01-01T15:13:15",
          "1970-01-01T15:13:15",
          "1970-01-01T15:13:15",
          "1970-01-01T03:12:19",
          "1970-01-01T03:12:19",
          "1970-01-01T03:52:34",
          "1970-01-01T03:52:34",
          "1970-01-01T03:52:34",
          "1970-01-01T05:54:44",
          "1970-01-01T05:54:44",
          "1970-01-01T06:34:59",
          "1970-01-01T06:34:59",
          "1970-01-01T06:34:59",
          "1970-01-01T08:44:46",
          "1970-01-01T08:44:46",
          "1970-01-01T09:25:01",
          "1970-01-01T09:25:01",
          "1970-01-01T09:25:01",
          "1970-01-01T11:38:53",
          "1970-01-01T11:38:53",
          "1970-01-01T12:19:08",
          "1970-01-01T12:19:08",
          "1970-01-01T12:19:08",
          "1970-01-01T14:33:00",
          "1970-01-01T14:33:00",
          "1970-01-01T15:13:15",
          "1970-01-01T15:13:15",
          "1970-01-01T15:13:15"
         ],
         "y": [
          "Carrier B",
          "Carrier B",
          "Carrier B",
          "Carrier B",
          null,
          "Carrier B",
          "Carrier B",
          "Carrier B",
          "Carrier B",
          null,
          "Carrier B",
          "Carrier B",
          "Carrier B",
          "Carrier B",
          null,
          "Carrier B",
          "Carrier B",
          "Carrier B",
          "Carrier B",
          null,
          "Carrier B",
          "Carrier B",
          "Carrier B",
          "Carrier B",
          null,
          "Reclamation",
          "Reclamation",
          "Reclamation",
          "Reclamation",
          null,
          "Reclamation",
          "Reclamation",
          "Reclamation",
          "Reclamation",
          null,
          "Reclamation",
          "Reclamation",
          "Reclamation",
          "Reclamation",
          null,
          "Reclamation",
          "Reclamation",
          "Reclamation",
          "Reclamation",
          null,
          "Reclamation",
          "Reclamation",
          "Reclamation",
          "Reclamation",
          null
         ]
        },
        {
         "connectgaps": false,
         "hoverinfo": "y+name",
         "line": {
          "color": "rgb(36,13,25)",
          "width": 10
         },
         "mode": "lines",
         "name": "unloading:Carrier C",
         "type": "scatter",
         "x": [
          "1970-01-01T01:44:08",
          "1970-01-01T01:44:08",
          "1970-01-01T02:19:32",
          "1970-01-01T02:19:32",
          "1970-01-01T02:19:32",
          "1970-01-01T04:22:28",
          "1970-01-01T04:22:28",
          "1970-01-01T04:57:52",
          "1970-01-01T04:57:52",
          "1970-01-01T04:57:52",
          "1970-01-01T07:16:35",
          "1970-01-01T07:16:35",
          "1970-01-01T07:51:59",
          "1970-01-01T07:51:59",
          "1970-01-01T07:51:59",
          "1970-01-01T10:10:42",
          "1970-01-01T10:10:42",
          "1970-01-01T10:46:06",
          "1970-01-01T10:46:06",
          "1970-01-01T10:46:06",
          "1970-01-01T13:04:49",
          "1970-01-01T13:04:49",
          "1970-01-01T13:40:13",
          "1970-01-01T13:40:13",
          "1970-01-01T13:40:13",
          "1970-01-01T15:58:56",
          "1970-01-01T15:58:56",
          "1970-01-01T16:34:20",
          "1970-01-01T16:34:20",
          "1970-01-01T16:34:20",
          "1970-01-01T01:44:08",
          "1970-01-01T01:44:08",
          "1970-01-01T02:19:32",
          "1970-01-01T02:19:32",
          "1970-01-01T02:19:32",
          "1970-01-01T04:22:28",
          "1970-01-01T04:22:28",
          "1970-01-01T04:57:52",
          "1970-01-01T04:57:52",
          "1970-01-01T04:57:52",
          "1970-01-01T07:16:35",
          "1970-01-01T07:16:35",
          "1970-01-01T07:51:59",
          "1970-01-01T07:51:59",
          "1970-01-01T07:51:59",
          "1970-01-01T10:10:42",
          "1970-01-01T10:10:42",
          "1970-01-01T10:46:06",
          "1970-01-01T10:46:06",
          "1970-01-01T10:46:06",
          "1970-01-01T13:04:49",
          "1970-01-01T13:04:49",
          "1970-01-01T13:40:13",
          "1970-01-01T13:40:13",
          "1970-01-01T13:40:13",
          "1970-01-01T15:58:56",
          "1970-01-01T15:58:56",
          "1970-01-01T16:34:20",
          "1970-01-01T16:34:20",
          "1970-01-01T16:34:20"
         ],
         "y": [
          "Carrier C",
          "Carrier C",
          "Carrier C",
          "Carrier C",
          null,
          "Carrier C",
          "Carrier C",
          "Carrier C",
          "Carrier C",
          null,
          "Carrier C",
          "Carrier C",
          "Carrier C",
          "Carrier C",
          null,
          "Carrier C",
          "Carrier C",
          "Carrier C",
          "Carrier C",
          null,
          "Carrier C",
          "Carrier C",
          "Carrier C",
          "Carrier C",
          null,
          "Carrier C",
          "Carrier C",
          "Carrier C",
          "Carrier C",
          null,
          "Reclamation",
          "Reclamation",
          "Reclamation",
          "Reclamation",
          null,
          "Reclamation",
          "Reclamation",
          "Reclamation",
          "Reclamation",
          null,
          "Reclamation",
          "Reclamation",
          "Reclamation",
          "Reclamation",
          null,
          "Reclamation",
          "Reclamation",
          "Reclamation",
          "Reclamation",
          null,
          "Reclamation",
          "Reclamation",
          "Reclamation",
          "Reclamation",
          null,
          "Reclamation",
          "Reclamation",
          "Reclamation",
          "Reclamation",
          null
         ]
        },
        {
         "connectgaps": false,
         "hoverinfo": "y+name",
         "line": {
          "color": "rgb(45,22,34)",
          "width": 10
         },
         "mode": "lines",
         "name": "loading:Carrier C",
         "type": "scatter",
         "x": [
          "1970-01-01T00:35:24",
          "1970-01-01T00:35:24",
          "1970-01-01T01:08:44",
          "1970-01-01T01:08:44",
          "1970-01-01T01:08:44",
          "1970-01-01T03:13:44",
          "1970-01-01T03:13:44",
          "1970-01-01T03:47:04",
          "1970-01-01T03:47:04",
          "1970-01-01T03:47:04",
          "1970-01-01T06:07:51",
          "1970-01-01T06:07:51",
          "1970-01-01T06:41:11",
          "1970-01-01T06:41:11",
          "1970-01-01T06:41:11",
          "1970-01-01T09:01:58",
          "1970-01-01T09:01:58",
          "1970-01-01T09:35:18",
          "1970-01-01T09:35:18",
          "1970-01-01T09:35:18",
          "1970-01-01T11:56:05",
          "1970-01-01T11:56:05",
          "1970-01-01T12:29:25",
          "1970-01-01T12:29:25",
          "1970-01-01T12:29:25",
          "1970-01-01T14:50:12",
          "1970-01-01T14:50:12",
          "1970-01-01T15:23:32",
          "1970-01-01T15:23:32",
          "1970-01-01T15:23:32",
          "1970-01-01T00:35:24",
          "1970-01-01T00:35:24",
          "1970-01-01T01:08:44",
          "1970-01-01T01:08:44",
          "1970-01-01T01:08:44",
          "1970-01-01T03:13:44",
          "1970-01-01T03:13:44",
          "1970-01-01T03:47:04",
          "1970-01-01T03:47:04",
          "1970-01-01T03:47:04",
          "1970-01-01T06:07:51",
          "1970-01-01T06:07:51",
          "1970-01-01T06:41:11",
          "1970-01-01T06:41:11",
          "1970-01-01T06:41:11",
          "1970-01-01T09:01:58",
          "1970-01-01T09:01:58",
          "1970-01-01T09:35:18",
          "1970-01-01T09:35:18",
          "1970-01-01T09:35:18",
          "1970-01-01T11:56:05",
          "1970-01-01T11:56:05",
          "1970-01-01T12:29:25",
          "1970-01-01T12:29:25",
          "1970-01-01T12:29:25",
          "1970-01-01T14:50:12",
          "1970-01-01T14:50:12",
          "1970-01-01T15:23:32",
          "1970-01-01T15:23:32",
          "1970-01-01T15:23:32",
          "1970-01-01T00:35:24",
          "1970-01-01T00:35:24",
          "1970-01-01T01:08:44",
          "1970-01-01T01:08:44",
          "1970-01-01T01:08:44",
          "1970-01-01T03:13:44",
          "1970-01-01T03:13:44",
          "1970-01-01T03:47:04",
          "1970-01-01T03:47:04",
          "1970-01-01T03:47:04",
          "1970-01-01T06:07:51",
          "1970-01-01T06:07:51",
          "1970-01-01T06:41:11",
          "1970-01-01T06:41:11",
          "1970-01-01T06:41:11",
          "1970-01-01T09:01:58",
          "1970-01-01T09:01:58",
          "1970-01-01T09:35:18",
          "1970-01-01T09:35:18",
          "1970-01-01T09:35:18",
          "1970-01-01T11:56:05",
          "1970-01-01T11:56:05",
          "1970-01-01T12:29:25",
          "1970-01-01T12:29:25",
          "1970-01-01T12:29:25",
          "1970-01-01T14:50:12",
          "1970-01-01T14:50:12",
          "1970-01-01T15:23:32",
          "1970-01-01T15:23:32",
          "1970-01-01T15:23:32"
         ],
         "y": [
          "Carrier C",
          "Carrier C",
          "Carrier C",
          "Carrier C",
          null,
          "Carrier C",
          "Carrier C",
          "Carrier C",
          "Carrier C",
          null,
          "Carrier C",
          "Carrier C",
          "Carrier C",
          "Carrier C",
          null,
          "Carrier C",
          "Carrier C",
          "Carrier C",
          "Carrier C",
          null,
          "Carrier C",
          "Carrier C",
          "Carrier C",
          "Carrier C",
          null,
          "Carrier C",
          "Carrier C",
          "Carrier C",
          "Carrier C",
          null,
          "Cutter T",
          "Cutter T",
          "Cutter T",
          "Cutter T",
          null,
          "Cutter T",
          "Cutter T",
          "Cutter T",
          "Cutter T",
          null,
          "Cutter T",
          "Cutter T",
          "Cutter T",
          "Cutter T",
          null,
          "Cutter T",
          "Cutter T",
          "Cutter T",
          "Cutter T",
          null,
          "Cutter T",
          "Cutter T",
          "Cutter T",
          "Cutter T",
          null,
          "Cutter T",
          "Cutter T",
          "Cutter T",
          "Cutter T",
          null,
          "Trench",
          "Trench",
          "Trench",
          "Trench",
          null,
          "Trench",
          "Trench",
          "Trench",
          "Trench",
          null,
          "Trench",
          "Trench",
          "Trench",
          "Trench",
          null,
          "Trench",
          "Trench",
          "Trench",
          "Trench",
          null,
          "Trench",
          "Trench",
          "Trench",
          "Trench",
          null,
          "Trench",
          "Trench",
          "Trench",
          "Trench",
          null
         ]
        },
        {
         "connectgaps": false,
         "hoverinfo": "y+name",
         "line": {
          "color": "rgb(54,31,43)",
          "width": 10
         },
         "mode": "lines",
         "name": "sailing empty:Carrier C",
         "type": "scatter",
         "x": [
          "1970-01-01T00:00:00",
          "1970-01-01T00:00:00",
          "1970-01-01T00:35:24",
          "1970-01-01T00:35:24",
          "1970-01-01T00:35:24",
          "1970-01-01T02:19:32",
          "1970-01-01T02:19:32",
          "1970-01-01T02:54:56",
          "1970-01-01T02:54:56",
          "1970-01-01T02:54:56",
          "1970-01-01T04:57:52",
          "1970-01-01T04:57:52",
          "1970-01-01T05:33:16",
          "1970-01-01T05:33:16",
          "1970-01-01T05:33:16",
          "1970-01-01T07:51:59",
          "1970-01-01T07:51:59",
          "1970-01-01T08:27:23",
          "1970-01-01T08:27:23",
          "1970-01-01T08:27:23",
          "1970-01-01T10:46:06",
          "1970-01-01T10:46:06",
          "1970-01-01T11:21:30",
          "1970-01-01T11:21:30",
          "1970-01-01T11:21:30",
          "1970-01-01T13:40:13",
          "1970-01-01T13:40:13",
          "1970-01-01T14:15:37",
          "1970-01-01T14:15:37",
          "1970-01-01T14:15:37"
         ],
         "y": [
          "Carrier C",
          "Carrier C",
          "Carrier C",
          "Carrier C",
          null,
          "Carrier C",
          "Carrier C",
          "Carrier C",
          "Carrier C",
          null,
          "Carrier C",
          "Carrier C",
          "Carrier C",
          "Carrier C",
          null,
          "Carrier C",
          "Carrier C",
          "Carrier C",
          "Carrier C",
          null,
          "Carrier C",
          "Carrier C",
          "Carrier C",
          "Carrier C",
          null,
          "Carrier C",
          "Carrier C",
          "Carrier C",
          "Carrier C",
          null
         ]
        },
        {
         "connectgaps": false,
         "hoverinfo": "y+name",
         "line": {
          "color": "rgb(63,40,52)",
          "width": 10
         },
         "mode": "lines",
         "name": "sailing full:Carrier C",
         "type": "scatter",
         "x": [
          "1970-01-01T01:08:44",
          "1970-01-01T01:08:44",
          "1970-01-01T01:44:08",
          "1970-01-01T01:44:08",
          "1970-01-01T01:44:08",
          "1970-01-01T03:47:04",
          "1970-01-01T03:47:04",
          "1970-01-01T04:22:28",
          "1970-01-01T04:22:28",
          "1970-01-01T04:22:28",
          "1970-01-01T06:41:11",
          "1970-01-01T06:41:11",
          "1970-01-01T07:16:35",
          "1970-01-01T07:16:35",
          "1970-01-01T07:16:35",
          "1970-01-01T09:35:18",
          "1970-01-01T09:35:18",
          "1970-01-01T10:10:42",
          "1970-01-01T10:10:42",
          "1970-01-01T10:10:42",
          "1970-01-01T12:29:25",
          "1970-01-01T12:29:25",
          "1970-01-01T13:04:49",
          "1970-01-01T13:04:49",
          "1970-01-01T13:04:49",
          "1970-01-01T15:23:32",
          "1970-01-01T15:23:32",
          "1970-01-01T15:58:56",
          "1970-01-01T15:58:56",
          "1970-01-01T15:58:56"
         ],
         "y": [
          "Carrier C",
          "Carrier C",
          "Carrier C",
          "Carrier C",
          null,
          "Carrier C",
          "Carrier C",
          "Carrier C",
          "Carrier C",
          null,
          "Carrier C",
          "Carrier C",
          "Carrier C",
          "Carrier C",
          null,
          "Carrier C",
          "Carrier C",
          "Carrier C",
          "Carrier C",
          null,
          "Carrier C",
          "Carrier C",
          "Carrier C",
          "Carrier C",
          null,
          "Carrier C",
          "Carrier C",
          "Carrier C",
          "Carrier C",
          null
         ]
        },
        {
         "connectgaps": false,
         "hoverinfo": "y+name",
         "line": {
          "color": "rgb(72,49,61)",
          "width": 10
         },
         "mode": "lines",
         "name": "loading:Barge I",
         "type": "scatter",
         "x": [
          "1970-01-01T01:08:44",
          "1970-01-01T01:08:44",
          "1970-01-01T01:50:24",
          "1970-01-01T01:50:24",
          "1970-01-01T01:50:24",
          "1970-01-01T03:48:51",
          "1970-01-01T03:48:51",
          "1970-01-01T04:30:31",
          "1970-01-01T04:30:31",
          "1970-01-01T04:30:31",
          "1970-01-01T06:41:11",
          "1970-01-01T06:41:11",
          "1970-01-01T07:22:51",
          "1970-01-01T07:22:51",
          "1970-01-01T07:22:51",
          "1970-01-01T09:35:18",
          "1970-01-01T09:35:18",
          "1970-01-01T10:16:58",
          "1970-01-01T10:16:58",
          "1970-01-01T10:16:58",
          "1970-01-01T12:29:25",
          "1970-01-01T12:29:25",
          "1970-01-01T13:11:05",
          "1970-01-01T13:11:05",
          "1970-01-01T13:11:05",
          "1970-01-01T15:23:32",
          "1970-01-01T15:23:32",
          "1970-01-01T16:05:12",
          "1970-01-01T16:05:12",
          "1970-01-01T16:05:12",
          "1970-01-01T01:08:44",
          "1970-01-01T01:08:44",
          "1970-01-01T01:50:24",
          "1970-01-01T01:50:24",
          "1970-01-01T01:50:24",
          "1970-01-01T03:48:51",
          "1970-01-01T03:48:51",
          "1970-01-01T04:30:31",
          "1970-01-01T04:30:31",
          "1970-01-01T04:30:31",
          "1970-01-01T06:41:11",
          "1970-01-01T06:41:11",
          "1970-01-01T07:22:51",
          "1970-01-01T07:22:51",
          "1970-01-01T07:22:51",
          "1970-01-01T09:35:18",
          "1970-01-01T09:35:18",
          "1970-01-01T10:16:58",
          "1970-01-01T10:16:58",
          "1970-01-01T10:16:58",
          "1970-01-01T12:29:25",
          "1970-01-01T12:29:25",
          "1970-01-01T13:11:05",
          "1970-01-01T13:11:05",
          "1970-01-01T13:11:05",
          "1970-01-01T15:23:32",
          "1970-01-01T15:23:32",
          "1970-01-01T16:05:12",
          "1970-01-01T16:05:12",
          "1970-01-01T16:05:12",
          "1970-01-01T01:08:44",
          "1970-01-01T01:08:44",
          "1970-01-01T01:50:24",
          "1970-01-01T01:50:24",
          "1970-01-01T01:50:24",
          "1970-01-01T03:48:51",
          "1970-01-01T03:48:51",
          "1970-01-01T04:30:31",
          "1970-01-01T04:30:31",
          "1970-01-01T04:30:31",
          "1970-01-01T06:41:11",
          "1970-01-01T06:41:11",
          "1970-01-01T07:22:51",
          "1970-01-01T07:22:51",
          "1970-01-01T07:22:51",
          "1970-01-01T09:35:18",
          "1970-01-01T09:35:18",
          "1970-01-01T10:16:58",
          "1970-01-01T10:16:58",
          "1970-01-01T10:16:58",
          "1970-01-01T12:29:25",
          "1970-01-01T12:29:25",
          "1970-01-01T13:11:05",
          "1970-01-01T13:11:05",
          "1970-01-01T13:11:05",
          "1970-01-01T15:23:32",
          "1970-01-01T15:23:32",
          "1970-01-01T16:05:12",
          "1970-01-01T16:05:12",
          "1970-01-01T16:05:12"
         ],
         "y": [
          "Barge I",
          "Barge I",
          "Barge I",
          "Barge I",
          null,
          "Barge I",
          "Barge I",
          "Barge I",
          "Barge I",
          null,
          "Barge I",
          "Barge I",
          "Barge I",
          "Barge I",
          null,
          "Barge I",
          "Barge I",
          "Barge I",
          "Barge I",
          null,
          "Barge I",
          "Barge I",
          "Barge I",
          "Barge I",
          null,
          "Barge I",
          "Barge I",
          "Barge I",
          "Barge I",
          null,
          "Cutter T",
          "Cutter T",
          "Cutter T",
          "Cutter T",
          null,
          "Cutter T",
          "Cutter T",
          "Cutter T",
          "Cutter T",
          null,
          "Cutter T",
          "Cutter T",
          "Cutter T",
          "Cutter T",
          null,
          "Cutter T",
          "Cutter T",
          "Cutter T",
          "Cutter T",
          null,
          "Cutter T",
          "Cutter T",
          "Cutter T",
          "Cutter T",
          null,
          "Cutter T",
          "Cutter T",
          "Cutter T",
          "Cutter T",
          null,
          "Trench",
          "Trench",
          "Trench",
          "Trench",
          null,
          "Trench",
          "Trench",
          "Trench",
          "Trench",
          null,
          "Trench",
          "Trench",
          "Trench",
          "Trench",
          null,
          "Trench",
          "Trench",
          "Trench",
          "Trench",
          null,
          "Trench",
          "Trench",
          "Trench",
          "Trench",
          null,
          "Trench",
          "Trench",
          "Trench",
          "Trench",
          null
         ]
        },
        {
         "connectgaps": false,
         "hoverinfo": "y+name",
         "line": {
          "color": "rgb(81,58,70)",
          "width": 10
         },
         "mode": "lines",
         "name": "sailing empty:Barge I",
         "type": "scatter",
         "x": [
          "1970-01-01T00:00:00",
          "1970-01-01T00:00:00",
          "1970-01-01T00:39:29",
          "1970-01-01T00:39:29",
          "1970-01-01T00:39:29",
          "1970-01-01T03:09:22",
          "1970-01-01T03:09:22",
          "1970-01-01T03:48:51",
          "1970-01-01T03:48:51",
          "1970-01-01T03:48:51",
          "1970-01-01T05:49:29",
          "1970-01-01T05:49:29",
          "1970-01-01T06:28:58",
          "1970-01-01T06:28:58",
          "1970-01-01T06:28:58",
          "1970-01-01T08:41:49",
          "1970-01-01T08:41:49",
          "1970-01-01T09:21:18",
          "1970-01-01T09:21:18",
          "1970-01-01T09:21:18",
          "1970-01-01T11:35:56",
          "1970-01-01T11:35:56",
          "1970-01-01T12:15:25",
          "1970-01-01T12:15:25",
          "1970-01-01T12:15:25",
          "1970-01-01T14:30:03",
          "1970-01-01T14:30:03",
          "1970-01-01T15:09:32",
          "1970-01-01T15:09:32",
          "1970-01-01T15:09:32"
         ],
         "y": [
          "Barge I",
          "Barge I",
          "Barge I",
          "Barge I",
          null,
          "Barge I",
          "Barge I",
          "Barge I",
          "Barge I",
          null,
          "Barge I",
          "Barge I",
          "Barge I",
          "Barge I",
          null,
          "Barge I",
          "Barge I",
          "Barge I",
          "Barge I",
          null,
          "Barge I",
          "Barge I",
          "Barge I",
          "Barge I",
          null,
          "Barge I",
          "Barge I",
          "Barge I",
          "Barge I",
          null
         ]
        },
        {
         "connectgaps": false,
         "hoverinfo": "y+name",
         "line": {
          "color": "rgb(90,67,79)",
          "width": 10
         },
         "mode": "lines",
         "name": "unloading:Barge I",
         "type": "scatter",
         "x": [
          "1970-01-01T02:29:53",
          "1970-01-01T02:29:53",
          "1970-01-01T03:09:22",
          "1970-01-01T03:09:22",
          "1970-01-01T03:09:22",
          "1970-01-01T05:10:00",
          "1970-01-01T05:10:00",
          "1970-01-01T05:49:29",
          "1970-01-01T05:49:29",
          "1970-01-01T05:49:29",
          "1970-01-01T08:02:20",
          "1970-01-01T08:02:20",
          "1970-01-01T08:41:49",
          "1970-01-01T08:41:49",
          "1970-01-01T08:41:49",
          "1970-01-01T10:56:27",
          "1970-01-01T10:56:27",
          "1970-01-01T11:35:56",
          "1970-01-01T11:35:56",
          "1970-01-01T11:35:56",
          "1970-01-01T13:50:34",
          "1970-01-01T13:50:34",
          "1970-01-01T14:30:03",
          "1970-01-01T14:30:03",
          "1970-01-01T14:30:03",
          "1970-01-01T16:44:41",
          "1970-01-01T16:44:41",
          "1970-01-01T17:24:10",
          "1970-01-01T17:24:10",
          "1970-01-01T17:24:10",
          "1970-01-01T02:29:53",
          "1970-01-01T02:29:53",
          "1970-01-01T03:09:22",
          "1970-01-01T03:09:22",
          "1970-01-01T03:09:22",
          "1970-01-01T05:10:00",
          "1970-01-01T05:10:00",
          "1970-01-01T05:49:29",
          "1970-01-01T05:49:29",
          "1970-01-01T05:49:29",
          "1970-01-01T08:02:20",
          "1970-01-01T08:02:20",
          "1970-01-01T08:41:49",
          "1970-01-01T08:41:49",
          "1970-01-01T08:41:49",
          "1970-01-01T10:56:27",
          "1970-01-01T10:56:27",
          "1970-01-01T11:35:56",
          "1970-01-01T11:35:56",
          "1970-01-01T11:35:56",
          "1970-01-01T13:50:34",
          "1970-01-01T13:50:34",
          "1970-01-01T14:30:03",
          "1970-01-01T14:30:03",
          "1970-01-01T14:30:03",
          "1970-01-01T16:44:41",
          "1970-01-01T16:44:41",
          "1970-01-01T17:24:10",
          "1970-01-01T17:24:10",
          "1970-01-01T17:24:10"
         ],
         "y": [
          "Barge I",
          "Barge I",
          "Barge I",
          "Barge I",
          null,
          "Barge I",
          "Barge I",
          "Barge I",
          "Barge I",
          null,
          "Barge I",
          "Barge I",
          "Barge I",
          "Barge I",
          null,
          "Barge I",
          "Barge I",
          "Barge I",
          "Barge I",
          null,
          "Barge I",
          "Barge I",
          "Barge I",
          "Barge I",
          null,
          "Barge I",
          "Barge I",
          "Barge I",
          "Barge I",
          null,
          "Reclamation",
          "Reclamation",
          "Reclamation",
          "Reclamation",
          null,
          "Reclamation",
          "Reclamation",
          "Reclamation",
          "Reclamation",
          null,
          "Reclamation",
          "Reclamation",
          "Reclamation",
          "Reclamation",
          null,
          "Reclamation",
          "Reclamation",
          "Reclamation",
          "Reclamation",
          null,
          "Reclamation",
          "Reclamation",
          "Reclamation",
          "Reclamation",
          null,
          "Reclamation",
          "Reclamation",
          "Reclamation",
          "Reclamation",
          null
         ]
        },
        {
         "connectgaps": false,
         "hoverinfo": "y+name",
         "line": {
          "color": "rgb(99,76,88)",
          "width": 10
         },
         "mode": "lines",
         "name": "sailing full:Barge I",
         "type": "scatter",
         "x": [
          "1970-01-01T01:50:24",
          "1970-01-01T01:50:24",
          "1970-01-01T02:29:53",
          "1970-01-01T02:29:53",
          "1970-01-01T02:29:53",
          "1970-01-01T04:30:31",
          "1970-01-01T04:30:31",
          "1970-01-01T05:10:00",
          "1970-01-01T05:10:00",
          "1970-01-01T05:10:00",
          "1970-01-01T07:22:51",
          "1970-01-01T07:22:51",
          "1970-01-01T08:02:20",
          "1970-01-01T08:02:20",
          "1970-01-01T08:02:20",
          "1970-01-01T10:16:58",
          "1970-01-01T10:16:58",
          "1970-01-01T10:56:27",
          "1970-01-01T10:56:27",
          "1970-01-01T10:56:27",
          "1970-01-01T13:11:05",
          "1970-01-01T13:11:05",
          "1970-01-01T13:50:34",
          "1970-01-01T13:50:34",
          "1970-01-01T13:50:34",
          "1970-01-01T16:05:12",
          "1970-01-01T16:05:12",
          "1970-01-01T16:44:41",
          "1970-01-01T16:44:41",
          "1970-01-01T16:44:41"
         ],
         "y": [
          "Barge I",
          "Barge I",
          "Barge I",
          "Barge I",
          null,
          "Barge I",
          "Barge I",
          "Barge I",
          "Barge I",
          null,
          "Barge I",
          "Barge I",
          "Barge I",
          "Barge I",
          null,
          "Barge I",
          "Barge I",
          "Barge I",
          "Barge I",
          null,
          "Barge I",
          "Barge I",
          "Barge I",
          "Barge I",
          null,
          "Barge I",
          "Barge I",
          "Barge I",
          "Barge I",
          null
         ]
        },
        {
         "connectgaps": false,
         "hoverinfo": "y+name",
         "line": {
          "color": "rgb(108,85,97)",
          "width": 10
         },
         "mode": "lines",
         "name": "loading:Barge I",
         "type": "scatter",
         "x": [
          "1970-01-01T01:08:44",
          "1970-01-01T01:08:44",
          "1970-01-01T01:50:24",
          "1970-01-01T01:50:24",
          "1970-01-01T01:50:24",
          "1970-01-01T03:48:51",
          "1970-01-01T03:48:51",
          "1970-01-01T04:30:31",
          "1970-01-01T04:30:31",
          "1970-01-01T04:30:31",
          "1970-01-01T06:41:11",
          "1970-01-01T06:41:11",
          "1970-01-01T07:22:51",
          "1970-01-01T07:22:51",
          "1970-01-01T07:22:51",
          "1970-01-01T09:35:18",
          "1970-01-01T09:35:18",
          "1970-01-01T10:16:58",
          "1970-01-01T10:16:58",
          "1970-01-01T10:16:58",
          "1970-01-01T12:29:25",
          "1970-01-01T12:29:25",
          "1970-01-01T13:11:05",
          "1970-01-01T13:11:05",
          "1970-01-01T13:11:05",
          "1970-01-01T15:23:32",
          "1970-01-01T15:23:32",
          "1970-01-01T16:05:12",
          "1970-01-01T16:05:12",
          "1970-01-01T16:05:12",
          "1970-01-01T01:08:44",
          "1970-01-01T01:08:44",
          "1970-01-01T01:50:24",
          "1970-01-01T01:50:24",
          "1970-01-01T01:50:24",
          "1970-01-01T03:48:51",
          "1970-01-01T03:48:51",
          "1970-01-01T04:30:31",
          "1970-01-01T04:30:31",
          "1970-01-01T04:30:31",
          "1970-01-01T06:41:11",
          "1970-01-01T06:41:11",
          "1970-01-01T07:22:51",
          "1970-01-01T07:22:51",
          "1970-01-01T07:22:51",
          "1970-01-01T09:35:18",
          "1970-01-01T09:35:18",
          "1970-01-01T10:16:58",
          "1970-01-01T10:16:58",
          "1970-01-01T10:16:58",
          "1970-01-01T12:29:25",
          "1970-01-01T12:29:25",
          "1970-01-01T13:11:05",
          "1970-01-01T13:11:05",
          "1970-01-01T13:11:05",
          "1970-01-01T15:23:32",
          "1970-01-01T15:23:32",
          "1970-01-01T16:05:12",
          "1970-01-01T16:05:12",
          "1970-01-01T16:05:12",
          "1970-01-01T01:08:44",
          "1970-01-01T01:08:44",
          "1970-01-01T01:50:24",
          "1970-01-01T01:50:24",
          "1970-01-01T01:50:24",
          "1970-01-01T03:48:51",
          "1970-01-01T03:48:51",
          "1970-01-01T04:30:31",
          "1970-01-01T04:30:31",
          "1970-01-01T04:30:31",
          "1970-01-01T06:41:11",
          "1970-01-01T06:41:11",
          "1970-01-01T07:22:51",
          "1970-01-01T07:22:51",
          "1970-01-01T07:22:51",
          "1970-01-01T09:35:18",
          "1970-01-01T09:35:18",
          "1970-01-01T10:16:58",
          "1970-01-01T10:16:58",
          "1970-01-01T10:16:58",
          "1970-01-01T12:29:25",
          "1970-01-01T12:29:25",
          "1970-01-01T13:11:05",
          "1970-01-01T13:11:05",
          "1970-01-01T13:11:05",
          "1970-01-01T15:23:32",
          "1970-01-01T15:23:32",
          "1970-01-01T16:05:12",
          "1970-01-01T16:05:12",
          "1970-01-01T16:05:12"
         ],
         "y": [
          "Barge I",
          "Barge I",
          "Barge I",
          "Barge I",
          null,
          "Barge I",
          "Barge I",
          "Barge I",
          "Barge I",
          null,
          "Barge I",
          "Barge I",
          "Barge I",
          "Barge I",
          null,
          "Barge I",
          "Barge I",
          "Barge I",
          "Barge I",
          null,
          "Barge I",
          "Barge I",
          "Barge I",
          "Barge I",
          null,
          "Barge I",
          "Barge I",
          "Barge I",
          "Barge I",
          null,
          "Cutter T",
          "Cutter T",
          "Cutter T",
          "Cutter T",
          null,
          "Cutter T",
          "Cutter T",
          "Cutter T",
          "Cutter T",
          null,
          "Cutter T",
          "Cutter T",
          "Cutter T",
          "Cutter T",
          null,
          "Cutter T",
          "Cutter T",
          "Cutter T",
          "Cutter T",
          null,
          "Cutter T",
          "Cutter T",
          "Cutter T",
          "Cutter T",
          null,
          "Cutter T",
          "Cutter T",
          "Cutter T",
          "Cutter T",
          null,
          "Trench",
          "Trench",
          "Trench",
          "Trench",
          null,
          "Trench",
          "Trench",
          "Trench",
          "Trench",
          null,
          "Trench",
          "Trench",
          "Trench",
          "Trench",
          null,
          "Trench",
          "Trench",
          "Trench",
          "Trench",
          null,
          "Trench",
          "Trench",
          "Trench",
          "Trench",
          null,
          "Trench",
          "Trench",
          "Trench",
          "Trench",
          null
         ]
        },
        {
         "connectgaps": false,
         "hoverinfo": "y+name",
         "line": {
          "color": "rgb(117,94,106)",
          "width": 10
         },
         "mode": "lines",
         "name": "loading:Carrier B",
         "type": "scatter",
         "x": [
          "1970-01-01T01:50:24",
          "1970-01-01T01:50:24",
          "1970-01-01T02:32:04",
          "1970-01-01T02:32:04",
          "1970-01-01T02:32:04",
          "1970-01-01T04:32:49",
          "1970-01-01T04:32:49",
          "1970-01-01T05:14:29",
          "1970-01-01T05:14:29",
          "1970-01-01T05:14:29",
          "1970-01-01T07:22:51",
          "1970-01-01T07:22:51",
          "1970-01-01T08:04:31",
          "1970-01-01T08:04:31",
          "1970-01-01T08:04:31",
          "1970-01-01T10:16:58",
          "1970-01-01T10:16:58",
          "1970-01-01T10:58:38",
          "1970-01-01T10:58:38",
          "1970-01-01T10:58:38",
          "1970-01-01T13:11:05",
          "1970-01-01T13:11:05",
          "1970-01-01T13:52:45",
          "1970-01-01T13:52:45",
          "1970-01-01T13:52:45",
          "1970-01-01T01:50:24",
          "1970-01-01T01:50:24",
          "1970-01-01T02:32:04",
          "1970-01-01T02:32:04",
          "1970-01-01T02:32:04",
          "1970-01-01T04:32:49",
          "1970-01-01T04:32:49",
          "1970-01-01T05:14:29",
          "1970-01-01T05:14:29",
          "1970-01-01T05:14:29",
          "1970-01-01T07:22:51",
          "1970-01-01T07:22:51",
          "1970-01-01T08:04:31",
          "1970-01-01T08:04:31",
          "1970-01-01T08:04:31",
          "1970-01-01T10:16:58",
          "1970-01-01T10:16:58",
          "1970-01-01T10:58:38",
          "1970-01-01T10:58:38",
          "1970-01-01T10:58:38",
          "1970-01-01T13:11:05",
          "1970-01-01T13:11:05",
          "1970-01-01T13:52:45",
          "1970-01-01T13:52:45",
          "1970-01-01T13:52:45",
          "1970-01-01T01:50:24",
          "1970-01-01T01:50:24",
          "1970-01-01T02:32:04",
          "1970-01-01T02:32:04",
          "1970-01-01T02:32:04",
          "1970-01-01T04:32:49",
          "1970-01-01T04:32:49",
          "1970-01-01T05:14:29",
          "1970-01-01T05:14:29",
          "1970-01-01T05:14:29",
          "1970-01-01T07:22:51",
          "1970-01-01T07:22:51",
          "1970-01-01T08:04:31",
          "1970-01-01T08:04:31",
          "1970-01-01T08:04:31",
          "1970-01-01T10:16:58",
          "1970-01-01T10:16:58",
          "1970-01-01T10:58:38",
          "1970-01-01T10:58:38",
          "1970-01-01T10:58:38",
          "1970-01-01T13:11:05",
          "1970-01-01T13:11:05",
          "1970-01-01T13:52:45",
          "1970-01-01T13:52:45",
          "1970-01-01T13:52:45"
         ],
         "y": [
          "Carrier B",
          "Carrier B",
          "Carrier B",
          "Carrier B",
          null,
          "Carrier B",
          "Carrier B",
          "Carrier B",
          "Carrier B",
          null,
          "Carrier B",
          "Carrier B",
          "Carrier B",
          "Carrier B",
          null,
          "Carrier B",
          "Carrier B",
          "Carrier B",
          "Carrier B",
          null,
          "Carrier B",
          "Carrier B",
          "Carrier B",
          "Carrier B",
          null,
          "Cutter T",
          "Cutter T",
          "Cutter T",
          "Cutter T",
          null,
          "Cutter T",
          "Cutter T",
          "Cutter T",
          "Cutter T",
          null,
          "Cutter T",
          "Cutter T",
          "Cutter T",
          "Cutter T",
          null,
          "Cutter T",
          "Cutter T",
          "Cutter T",
          "Cutter T",
          null,
          "Cutter T",
          "Cutter T",
          "Cutter T",
          "Cutter T",
          null,
          "Trench",
          "Trench",
          "Trench",
          "Trench",
          null,
          "Trench",
          "Trench",
          "Trench",
          "Trench",
          null,
          "Trench",
          "Trench",
          "Trench",
          "Trench",
          null,
          "Trench",
          "Trench",
          "Trench",
          "Trench",
          null,
          "Trench",
          "Trench",
          "Trench",
          "Trench",
          null
         ]
        },
        {
         "connectgaps": false,
         "hoverinfo": "y+name",
         "line": {
          "color": "rgb(126,103,115)",
          "width": 10
         },
         "mode": "lines",
         "name": "loading:Carrier C",
         "type": "scatter",
         "x": [
          "1970-01-01T00:35:24",
          "1970-01-01T00:35:24",
          "1970-01-01T01:08:44",
          "1970-01-01T01:08:44",
          "1970-01-01T01:08:44",
          "1970-01-01T03:13:44",
          "1970-01-01T03:13:44",
          "1970-01-01T03:47:04",
          "1970-01-01T03:47:04",
          "1970-01-01T03:47:04",
          "1970-01-01T06:07:51",
          "1970-01-01T06:07:51",
          "1970-01-01T06:41:11",
          "1970-01-01T06:41:11",
          "1970-01-01T06:41:11",
          "1970-01-01T09:01:58",
          "1970-01-01T09:01:58",
          "1970-01-01T09:35:18",
          "1970-01-01T09:35:18",
          "1970-01-01T09:35:18",
          "1970-01-01T11:56:05",
          "1970-01-01T11:56:05",
          "1970-01-01T12:29:25",
          "1970-01-01T12:29:25",
          "1970-01-01T12:29:25",
          "1970-01-01T14:50:12",
          "1970-01-01T14:50:12",
          "1970-01-01T15:23:32",
          "1970-01-01T15:23:32",
          "1970-01-01T15:23:32",
          "1970-01-01T00:35:24",
          "1970-01-01T00:35:24",
          "1970-01-01T01:08:44",
          "1970-01-01T01:08:44",
          "1970-01-01T01:08:44",
          "1970-01-01T03:13:44",
          "1970-01-01T03:13:44",
          "1970-01-01T03:47:04",
          "1970-01-01T03:47:04",
          "1970-01-01T03:47:04",
          "1970-01-01T06:07:51",
          "1970-01-01T06:07:51",
          "1970-01-01T06:41:11",
          "1970-01-01T06:41:11",
          "1970-01-01T06:41:11",
          "1970-01-01T09:01:58",
          "1970-01-01T09:01:58",
          "1970-01-01T09:35:18",
          "1970-01-01T09:35:18",
          "1970-01-01T09:35:18",
          "1970-01-01T11:56:05",
          "1970-01-01T11:56:05",
          "1970-01-01T12:29:25",
          "1970-01-01T12:29:25",
          "1970-01-01T12:29:25",
          "1970-01-01T14:50:12",
          "1970-01-01T14:50:12",
          "1970-01-01T15:23:32",
          "1970-01-01T15:23:32",
          "1970-01-01T15:23:32",
          "1970-01-01T00:35:24",
          "1970-01-01T00:35:24",
          "1970-01-01T01:08:44",
          "1970-01-01T01:08:44",
          "1970-01-01T01:08:44",
          "1970-01-01T03:13:44",
          "1970-01-01T03:13:44",
          "1970-01-01T03:47:04",
          "1970-01-01T03:47:04",
          "1970-01-01T03:47:04",
          "1970-01-01T06:07:51",
          "1970-01-01T06:07:51",
          "1970-01-01T06:41:11",
          "1970-01-01T06:41:11",
          "1970-01-01T06:41:11",
          "1970-01-01T09:01:58",
          "1970-01-01T09:01:58",
          "1970-01-01T09:35:18",
          "1970-01-01T09:35:18",
          "1970-01-01T09:35:18",
          "1970-01-01T11:56:05",
          "1970-01-01T11:56:05",
          "1970-01-01T12:29:25",
          "1970-01-01T12:29:25",
          "1970-01-01T12:29:25",
          "1970-01-01T14:50:12",
          "1970-01-01T14:50:12",
          "1970-01-01T15:23:32",
          "1970-01-01T15:23:32",
          "1970-01-01T15:23:32"
         ],
         "y": [
          "Carrier C",
          "Carrier C",
          "Carrier C",
          "Carrier C",
          null,
          "Carrier C",
          "Carrier C",
          "Carrier C",
          "Carrier C",
          null,
          "Carrier C",
          "Carrier C",
          "Carrier C",
          "Carrier C",
          null,
          "Carrier C",
          "Carrier C",
          "Carrier C",
          "Carrier C",
          null,
          "Carrier C",
          "Carrier C",
          "Carrier C",
          "Carrier C",
          null,
          "Carrier C",
          "Carrier C",
          "Carrier C",
          "Carrier C",
          null,
          "Cutter T",
          "Cutter T",
          "Cutter T",
          "Cutter T",
          null,
          "Cutter T",
          "Cutter T",
          "Cutter T",
          "Cutter T",
          null,
          "Cutter T",
          "Cutter T",
          "Cutter T",
          "Cutter T",
          null,
          "Cutter T",
          "Cutter T",
          "Cutter T",
          "Cutter T",
          null,
          "Cutter T",
          "Cutter T",
          "Cutter T",
          "Cutter T",
          null,
          "Cutter T",
          "Cutter T",
          "Cutter T",
          "Cutter T",
          null,
          "Trench",
          "Trench",
          "Trench",
          "Trench",
          null,
          "Trench",
          "Trench",
          "Trench",
          "Trench",
          null,
          "Trench",
          "Trench",
          "Trench",
          "Trench",
          null,
          "Trench",
          "Trench",
          "Trench",
          "Trench",
          null,
          "Trench",
          "Trench",
          "Trench",
          "Trench",
          null,
          "Trench",
          "Trench",
          "Trench",
          "Trench",
          null
         ]
        },
        {
         "connectgaps": false,
         "hoverinfo": "y+name",
         "line": {
          "color": "rgb(135,112,124)",
          "width": 10
         },
         "mode": "lines",
         "name": "loading:Carrier A",
         "type": "scatter",
         "x": [
          "1970-01-01T02:32:04",
          "1970-01-01T02:32:04",
          "1970-01-01T03:13:44",
          "1970-01-01T03:13:44",
          "1970-01-01T03:13:44",
          "1970-01-01T05:26:11",
          "1970-01-01T05:26:11",
          "1970-01-01T06:07:51",
          "1970-01-01T06:07:51",
          "1970-01-01T06:07:51",
          "1970-01-01T08:20:18",
          "1970-01-01T08:20:18",
          "1970-01-01T09:01:58",
          "1970-01-01T09:01:58",
          "1970-01-01T09:01:58",
          "1970-01-01T11:14:25",
          "1970-01-01T11:14:25",
          "1970-01-01T11:56:05",
          "1970-01-01T11:56:05",
          "1970-01-01T11:56:05",
          "1970-01-01T14:08:32",
          "1970-01-01T14:08:32",
          "1970-01-01T14:50:12",
          "1970-01-01T14:50:12",
          "1970-01-01T14:50:12",
          "1970-01-01T02:32:04",
          "1970-01-01T02:32:04",
          "1970-01-01T03:13:44",
          "1970-01-01T03:13:44",
          "1970-01-01T03:13:44",
          "1970-01-01T05:26:11",
          "1970-01-01T05:26:11",
          "1970-01-01T06:07:51",
          "1970-01-01T06:07:51",
          "1970-01-01T06:07:51",
          "1970-01-01T08:20:18",
          "1970-01-01T08:20:18",
          "1970-01-01T09:01:58",
          "1970-01-01T09:01:58",
          "1970-01-01T09:01:58",
          "1970-01-01T11:14:25",
          "1970-01-01T11:14:25",
          "1970-01-01T11:56:05",
          "1970-01-01T11:56:05",
          "1970-01-01T11:56:05",
          "1970-01-01T14:08:32",
          "1970-01-01T14:08:32",
          "1970-01-01T14:50:12",
          "1970-01-01T14:50:12",
          "1970-01-01T14:50:12",
          "1970-01-01T02:32:04",
          "1970-01-01T02:32:04",
          "1970-01-01T03:13:44",
          "1970-01-01T03:13:44",
          "1970-01-01T03:13:44",
          "1970-01-01T05:26:11",
          "1970-01-01T05:26:11",
          "1970-01-01T06:07:51",
          "1970-01-01T06:07:51",
          "1970-01-01T06:07:51",
          "1970-01-01T08:20:18",
          "1970-01-01T08:20:18",
          "1970-01-01T09:01:58",
          "1970-01-01T09:01:58",
          "1970-01-01T09:01:58",
          "1970-01-01T11:14:25",
          "1970-01-01T11:14:25",
          "1970-01-01T11:56:05",
          "1970-01-01T11:56:05",
          "1970-01-01T11:56:05",
          "1970-01-01T14:08:32",
          "1970-01-01T14:08:32",
          "1970-01-01T14:50:12",
          "1970-01-01T14:50:12",
          "1970-01-01T14:50:12"
         ],
         "y": [
          "Carrier A",
          "Carrier A",
          "Carrier A",
          "Carrier A",
          null,
          "Carrier A",
          "Carrier A",
          "Carrier A",
          "Carrier A",
          null,
          "Carrier A",
          "Carrier A",
          "Carrier A",
          "Carrier A",
          null,
          "Carrier A",
          "Carrier A",
          "Carrier A",
          "Carrier A",
          null,
          "Carrier A",
          "Carrier A",
          "Carrier A",
          "Carrier A",
          null,
          "Cutter T",
          "Cutter T",
          "Cutter T",
          "Cutter T",
          null,
          "Cutter T",
          "Cutter T",
          "Cutter T",
          "Cutter T",
          null,
          "Cutter T",
          "Cutter T",
          "Cutter T",
          "Cutter T",
          null,
          "Cutter T",
          "Cutter T",
          "Cutter T",
          "Cutter T",
          null,
          "Cutter T",
          "Cutter T",
          "Cutter T",
          "Cutter T",
          null,
          "Trench",
          "Trench",
          "Trench",
          "Trench",
          null,
          "Trench",
          "Trench",
          "Trench",
          "Trench",
          null,
          "Trench",
          "Trench",
          "Trench",
          "Trench",
          null,
          "Trench",
          "Trench",
          "Trench",
          "Trench",
          null,
          "Trench",
          "Trench",
          "Trench",
          "Trench",
          null
         ]
        },
        {
         "connectgaps": false,
         "hoverinfo": "y+name",
         "line": {
          "color": "rgb(144,121,133)",
          "width": 10
         },
         "mode": "lines",
         "name": "loading:Barge I",
         "type": "scatter",
         "x": [
          "1970-01-01T01:08:44",
          "1970-01-01T01:08:44",
          "1970-01-01T01:50:24",
          "1970-01-01T01:50:24",
          "1970-01-01T01:50:24",
          "1970-01-01T03:48:51",
          "1970-01-01T03:48:51",
          "1970-01-01T04:30:31",
          "1970-01-01T04:30:31",
          "1970-01-01T04:30:31",
          "1970-01-01T06:41:11",
          "1970-01-01T06:41:11",
          "1970-01-01T07:22:51",
          "1970-01-01T07:22:51",
          "1970-01-01T07:22:51",
          "1970-01-01T09:35:18",
          "1970-01-01T09:35:18",
          "1970-01-01T10:16:58",
          "1970-01-01T10:16:58",
          "1970-01-01T10:16:58",
          "1970-01-01T12:29:25",
          "1970-01-01T12:29:25",
          "1970-01-01T13:11:05",
          "1970-01-01T13:11:05",
          "1970-01-01T13:11:05",
          "1970-01-01T15:23:32",
          "1970-01-01T15:23:32",
          "1970-01-01T16:05:12",
          "1970-01-01T16:05:12",
          "1970-01-01T16:05:12",
          "1970-01-01T01:08:44",
          "1970-01-01T01:08:44",
          "1970-01-01T01:50:24",
          "1970-01-01T01:50:24",
          "1970-01-01T01:50:24",
          "1970-01-01T03:48:51",
          "1970-01-01T03:48:51",
          "1970-01-01T04:30:31",
          "1970-01-01T04:30:31",
          "1970-01-01T04:30:31",
          "1970-01-01T06:41:11",
          "1970-01-01T06:41:11",
          "1970-01-01T07:22:51",
          "1970-01-01T07:22:51",
          "1970-01-01T07:22:51",
          "1970-01-01T09:35:18",
          "1970-01-01T09:35:18",
          "1970-01-01T10:16:58",
          "1970-01-01T10:16:58",
          "1970-01-01T10:16:58",
          "1970-01-01T12:29:25",
          "1970-01-01T12:29:25",
          "1970-01-01T13:11:05",
          "1970-01-01T13:11:05",
          "1970-01-01T13:11:05",
          "1970-01-01T15:23:32",
          "1970-01-01T15:23:32",
          "1970-01-01T16:05:12",
          "1970-01-01T16:05:12",
          "1970-01-01T16:05:12",
          "1970-01-01T01:08:44",
          "1970-01-01T01:08:44",
          "1970-01-01T01:50:24",
          "1970-01-01T01:50:24",
          "1970-01-01T01:50:24",
          "1970-01-01T03:48:51",
          "1970-01-01T03:48:51",
          "1970-01-01T04:30:31",
          "1970-01-01T04:30:31",
          "1970-01-01T04:30:31",
          "1970-01-01T06:41:11",
          "1970-01-01T06:41:11",
          "1970-01-01T07:22:51",
          "1970-01-01T07:22:51",
          "1970-01-01T07:22:51",
          "1970-01-01T09:35:18",
          "1970-01-01T09:35:18",
          "1970-01-01T10:16:58",
          "1970-01-01T10:16:58",
          "1970-01-01T10:16:58",
          "1970-01-01T12:29:25",
          "1970-01-01T12:29:25",
          "1970-01-01T13:11:05",
          "1970-01-01T13:11:05",
          "1970-01-01T13:11:05",
          "1970-01-01T15:23:32",
          "1970-01-01T15:23:32",
          "1970-01-01T16:05:12",
          "1970-01-01T16:05:12",
          "1970-01-01T16:05:12"
         ],
         "y": [
          "Barge I",
          "Barge I",
          "Barge I",
          "Barge I",
          null,
          "Barge I",
          "Barge I",
          "Barge I",
          "Barge I",
          null,
          "Barge I",
          "Barge I",
          "Barge I",
          "Barge I",
          null,
          "Barge I",
          "Barge I",
          "Barge I",
          "Barge I",
          null,
          "Barge I",
          "Barge I",
          "Barge I",
          "Barge I",
          null,
          "Barge I",
          "Barge I",
          "Barge I",
          "Barge I",
          null,
          "Cutter T",
          "Cutter T",
          "Cutter T",
          "Cutter T",
          null,
          "Cutter T",
          "Cutter T",
          "Cutter T",
          "Cutter T",
          null,
          "Cutter T",
          "Cutter T",
          "Cutter T",
          "Cutter T",
          null,
          "Cutter T",
          "Cutter T",
          "Cutter T",
          "Cutter T",
          null,
          "Cutter T",
          "Cutter T",
          "Cutter T",
          "Cutter T",
          null,
          "Cutter T",
          "Cutter T",
          "Cutter T",
          "Cutter T",
          null,
          "Trench",
          "Trench",
          "Trench",
          "Trench",
          null,
          "Trench",
          "Trench",
          "Trench",
          "Trench",
          null,
          "Trench",
          "Trench",
          "Trench",
          "Trench",
          null,
          "Trench",
          "Trench",
          "Trench",
          "Trench",
          null,
          "Trench",
          "Trench",
          "Trench",
          "Trench",
          null,
          "Trench",
          "Trench",
          "Trench",
          "Trench",
          null
         ]
        },
        {
         "connectgaps": false,
         "hoverinfo": "y+name",
         "line": {
          "color": "rgb(153,130,142)",
          "width": 10
         },
         "mode": "lines",
         "name": "loading:Carrier B",
         "type": "scatter",
         "x": [
          "1970-01-01T01:50:24",
          "1970-01-01T01:50:24",
          "1970-01-01T02:32:04",
          "1970-01-01T02:32:04",
          "1970-01-01T02:32:04",
          "1970-01-01T04:32:49",
          "1970-01-01T04:32:49",
          "1970-01-01T05:14:29",
          "1970-01-01T05:14:29",
          "1970-01-01T05:14:29",
          "1970-01-01T07:22:51",
          "1970-01-01T07:22:51",
          "1970-01-01T08:04:31",
          "1970-01-01T08:04:31",
          "1970-01-01T08:04:31",
          "1970-01-01T10:16:58",
          "1970-01-01T10:16:58",
          "1970-01-01T10:58:38",
          "1970-01-01T10:58:38",
          "1970-01-01T10:58:38",
          "1970-01-01T13:11:05",
          "1970-01-01T13:11:05",
          "1970-01-01T13:52:45",
          "1970-01-01T13:52:45",
          "1970-01-01T13:52:45",
          "1970-01-01T01:50:24",
          "1970-01-01T01:50:24",
          "1970-01-01T02:32:04",
          "1970-01-01T02:32:04",
          "1970-01-01T02:32:04",
          "1970-01-01T04:32:49",
          "1970-01-01T04:32:49",
          "1970-01-01T05:14:29",
          "1970-01-01T05:14:29",
          "1970-01-01T05:14:29",
          "1970-01-01T07:22:51",
          "1970-01-01T07:22:51",
          "1970-01-01T08:04:31",
          "1970-01-01T08:04:31",
          "1970-01-01T08:04:31",
          "1970-01-01T10:16:58",
          "1970-01-01T10:16:58",
          "1970-01-01T10:58:38",
          "1970-01-01T10:58:38",
          "1970-01-01T10:58:38",
          "1970-01-01T13:11:05",
          "1970-01-01T13:11:05",
          "1970-01-01T13:52:45",
          "1970-01-01T13:52:45",
          "1970-01-01T13:52:45",
          "1970-01-01T01:50:24",
          "1970-01-01T01:50:24",
          "1970-01-01T02:32:04",
          "1970-01-01T02:32:04",
          "1970-01-01T02:32:04",
          "1970-01-01T04:32:49",
          "1970-01-01T04:32:49",
          "1970-01-01T05:14:29",
          "1970-01-01T05:14:29",
          "1970-01-01T05:14:29",
          "1970-01-01T07:22:51",
          "1970-01-01T07:22:51",
          "1970-01-01T08:04:31",
          "1970-01-01T08:04:31",
          "1970-01-01T08:04:31",
          "1970-01-01T10:16:58",
          "1970-01-01T10:16:58",
          "1970-01-01T10:58:38",
          "1970-01-01T10:58:38",
          "1970-01-01T10:58:38",
          "1970-01-01T13:11:05",
          "1970-01-01T13:11:05",
          "1970-01-01T13:52:45",
          "1970-01-01T13:52:45",
          "1970-01-01T13:52:45"
         ],
         "y": [
          "Carrier B",
          "Carrier B",
          "Carrier B",
          "Carrier B",
          null,
          "Carrier B",
          "Carrier B",
          "Carrier B",
          "Carrier B",
          null,
          "Carrier B",
          "Carrier B",
          "Carrier B",
          "Carrier B",
          null,
          "Carrier B",
          "Carrier B",
          "Carrier B",
          "Carrier B",
          null,
          "Carrier B",
          "Carrier B",
          "Carrier B",
          "Carrier B",
          null,
          "Cutter T",
          "Cutter T",
          "Cutter T",
          "Cutter T",
          null,
          "Cutter T",
          "Cutter T",
          "Cutter T",
          "Cutter T",
          null,
          "Cutter T",
          "Cutter T",
          "Cutter T",
          "Cutter T",
          null,
          "Cutter T",
          "Cutter T",
          "Cutter T",
          "Cutter T",
          null,
          "Cutter T",
          "Cutter T",
          "Cutter T",
          "Cutter T",
          null,
          "Trench",
          "Trench",
          "Trench",
          "Trench",
          null,
          "Trench",
          "Trench",
          "Trench",
          "Trench",
          null,
          "Trench",
          "Trench",
          "Trench",
          "Trench",
          null,
          "Trench",
          "Trench",
          "Trench",
          "Trench",
          null,
          "Trench",
          "Trench",
          "Trench",
          "Trench",
          null
         ]
        },
        {
         "connectgaps": false,
         "hoverinfo": "y+name",
         "line": {
          "color": "rgb(162,139,151)",
          "width": 10
         },
         "mode": "lines",
         "name": "loading:Carrier C",
         "type": "scatter",
         "x": [
          "1970-01-01T00:35:24",
          "1970-01-01T00:35:24",
          "1970-01-01T01:08:44",
          "1970-01-01T01:08:44",
          "1970-01-01T01:08:44",
          "1970-01-01T03:13:44",
          "1970-01-01T03:13:44",
          "1970-01-01T03:47:04",
          "1970-01-01T03:47:04",
          "1970-01-01T03:47:04",
          "1970-01-01T06:07:51",
          "1970-01-01T06:07:51",
          "1970-01-01T06:41:11",
          "1970-01-01T06:41:11",
          "1970-01-01T06:41:11",
          "1970-01-01T09:01:58",
          "1970-01-01T09:01:58",
          "1970-01-01T09:35:18",
          "1970-01-01T09:35:18",
          "1970-01-01T09:35:18",
          "1970-01-01T11:56:05",
          "1970-01-01T11:56:05",
          "1970-01-01T12:29:25",
          "1970-01-01T12:29:25",
          "1970-01-01T12:29:25",
          "1970-01-01T14:50:12",
          "1970-01-01T14:50:12",
          "1970-01-01T15:23:32",
          "1970-01-01T15:23:32",
          "1970-01-01T15:23:32",
          "1970-01-01T00:35:24",
          "1970-01-01T00:35:24",
          "1970-01-01T01:08:44",
          "1970-01-01T01:08:44",
          "1970-01-01T01:08:44",
          "1970-01-01T03:13:44",
          "1970-01-01T03:13:44",
          "1970-01-01T03:47:04",
          "1970-01-01T03:47:04",
          "1970-01-01T03:47:04",
          "1970-01-01T06:07:51",
          "1970-01-01T06:07:51",
          "1970-01-01T06:41:11",
          "1970-01-01T06:41:11",
          "1970-01-01T06:41:11",
          "1970-01-01T09:01:58",
          "1970-01-01T09:01:58",
          "1970-01-01T09:35:18",
          "1970-01-01T09:35:18",
          "1970-01-01T09:35:18",
          "1970-01-01T11:56:05",
          "1970-01-01T11:56:05",
          "1970-01-01T12:29:25",
          "1970-01-01T12:29:25",
          "1970-01-01T12:29:25",
          "1970-01-01T14:50:12",
          "1970-01-01T14:50:12",
          "1970-01-01T15:23:32",
          "1970-01-01T15:23:32",
          "1970-01-01T15:23:32",
          "1970-01-01T00:35:24",
          "1970-01-01T00:35:24",
          "1970-01-01T01:08:44",
          "1970-01-01T01:08:44",
          "1970-01-01T01:08:44",
          "1970-01-01T03:13:44",
          "1970-01-01T03:13:44",
          "1970-01-01T03:47:04",
          "1970-01-01T03:47:04",
          "1970-01-01T03:47:04",
          "1970-01-01T06:07:51",
          "1970-01-01T06:07:51",
          "1970-01-01T06:41:11",
          "1970-01-01T06:41:11",
          "1970-01-01T06:41:11",
          "1970-01-01T09:01:58",
          "1970-01-01T09:01:58",
          "1970-01-01T09:35:18",
          "1970-01-01T09:35:18",
          "1970-01-01T09:35:18",
          "1970-01-01T11:56:05",
          "1970-01-01T11:56:05",
          "1970-01-01T12:29:25",
          "1970-01-01T12:29:25",
          "1970-01-01T12:29:25",
          "1970-01-01T14:50:12",
          "1970-01-01T14:50:12",
          "1970-01-01T15:23:32",
          "1970-01-01T15:23:32",
          "1970-01-01T15:23:32"
         ],
         "y": [
          "Carrier C",
          "Carrier C",
          "Carrier C",
          "Carrier C",
          null,
          "Carrier C",
          "Carrier C",
          "Carrier C",
          "Carrier C",
          null,
          "Carrier C",
          "Carrier C",
          "Carrier C",
          "Carrier C",
          null,
          "Carrier C",
          "Carrier C",
          "Carrier C",
          "Carrier C",
          null,
          "Carrier C",
          "Carrier C",
          "Carrier C",
          "Carrier C",
          null,
          "Carrier C",
          "Carrier C",
          "Carrier C",
          "Carrier C",
          null,
          "Cutter T",
          "Cutter T",
          "Cutter T",
          "Cutter T",
          null,
          "Cutter T",
          "Cutter T",
          "Cutter T",
          "Cutter T",
          null,
          "Cutter T",
          "Cutter T",
          "Cutter T",
          "Cutter T",
          null,
          "Cutter T",
          "Cutter T",
          "Cutter T",
          "Cutter T",
          null,
          "Cutter T",
          "Cutter T",
          "Cutter T",
          "Cutter T",
          null,
          "Cutter T",
          "Cutter T",
          "Cutter T",
          "Cutter T",
          null,
          "Trench",
          "Trench",
          "Trench",
          "Trench",
          null,
          "Trench",
          "Trench",
          "Trench",
          "Trench",
          null,
          "Trench",
          "Trench",
          "Trench",
          "Trench",
          null,
          "Trench",
          "Trench",
          "Trench",
          "Trench",
          null,
          "Trench",
          "Trench",
          "Trench",
          "Trench",
          null,
          "Trench",
          "Trench",
          "Trench",
          "Trench",
          null
         ]
        },
        {
         "connectgaps": false,
         "hoverinfo": "y+name",
         "line": {
          "color": "rgb(171,148,160)",
          "width": 10
         },
         "mode": "lines",
         "name": "loading:Carrier A",
         "type": "scatter",
         "x": [
          "1970-01-01T02:32:04",
          "1970-01-01T02:32:04",
          "1970-01-01T03:13:44",
          "1970-01-01T03:13:44",
          "1970-01-01T03:13:44",
          "1970-01-01T05:26:11",
          "1970-01-01T05:26:11",
          "1970-01-01T06:07:51",
          "1970-01-01T06:07:51",
          "1970-01-01T06:07:51",
          "1970-01-01T08:20:18",
          "1970-01-01T08:20:18",
          "1970-01-01T09:01:58",
          "1970-01-01T09:01:58",
          "1970-01-01T09:01:58",
          "1970-01-01T11:14:25",
          "1970-01-01T11:14:25",
          "1970-01-01T11:56:05",
          "1970-01-01T11:56:05",
          "1970-01-01T11:56:05",
          "1970-01-01T14:08:32",
          "1970-01-01T14:08:32",
          "1970-01-01T14:50:12",
          "1970-01-01T14:50:12",
          "1970-01-01T14:50:12",
          "1970-01-01T02:32:04",
          "1970-01-01T02:32:04",
          "1970-01-01T03:13:44",
          "1970-01-01T03:13:44",
          "1970-01-01T03:13:44",
          "1970-01-01T05:26:11",
          "1970-01-01T05:26:11",
          "1970-01-01T06:07:51",
          "1970-01-01T06:07:51",
          "1970-01-01T06:07:51",
          "1970-01-01T08:20:18",
          "1970-01-01T08:20:18",
          "1970-01-01T09:01:58",
          "1970-01-01T09:01:58",
          "1970-01-01T09:01:58",
          "1970-01-01T11:14:25",
          "1970-01-01T11:14:25",
          "1970-01-01T11:56:05",
          "1970-01-01T11:56:05",
          "1970-01-01T11:56:05",
          "1970-01-01T14:08:32",
          "1970-01-01T14:08:32",
          "1970-01-01T14:50:12",
          "1970-01-01T14:50:12",
          "1970-01-01T14:50:12",
          "1970-01-01T02:32:04",
          "1970-01-01T02:32:04",
          "1970-01-01T03:13:44",
          "1970-01-01T03:13:44",
          "1970-01-01T03:13:44",
          "1970-01-01T05:26:11",
          "1970-01-01T05:26:11",
          "1970-01-01T06:07:51",
          "1970-01-01T06:07:51",
          "1970-01-01T06:07:51",
          "1970-01-01T08:20:18",
          "1970-01-01T08:20:18",
          "1970-01-01T09:01:58",
          "1970-01-01T09:01:58",
          "1970-01-01T09:01:58",
          "1970-01-01T11:14:25",
          "1970-01-01T11:14:25",
          "1970-01-01T11:56:05",
          "1970-01-01T11:56:05",
          "1970-01-01T11:56:05",
          "1970-01-01T14:08:32",
          "1970-01-01T14:08:32",
          "1970-01-01T14:50:12",
          "1970-01-01T14:50:12",
          "1970-01-01T14:50:12"
         ],
         "y": [
          "Carrier A",
          "Carrier A",
          "Carrier A",
          "Carrier A",
          null,
          "Carrier A",
          "Carrier A",
          "Carrier A",
          "Carrier A",
          null,
          "Carrier A",
          "Carrier A",
          "Carrier A",
          "Carrier A",
          null,
          "Carrier A",
          "Carrier A",
          "Carrier A",
          "Carrier A",
          null,
          "Carrier A",
          "Carrier A",
          "Carrier A",
          "Carrier A",
          null,
          "Cutter T",
          "Cutter T",
          "Cutter T",
          "Cutter T",
          null,
          "Cutter T",
          "Cutter T",
          "Cutter T",
          "Cutter T",
          null,
          "Cutter T",
          "Cutter T",
          "Cutter T",
          "Cutter T",
          null,
          "Cutter T",
          "Cutter T",
          "Cutter T",
          "Cutter T",
          null,
          "Cutter T",
          "Cutter T",
          "Cutter T",
          "Cutter T",
          null,
          "Trench",
          "Trench",
          "Trench",
          "Trench",
          null,
          "Trench",
          "Trench",
          "Trench",
          "Trench",
          null,
          "Trench",
          "Trench",
          "Trench",
          "Trench",
          null,
          "Trench",
          "Trench",
          "Trench",
          "Trench",
          null,
          "Trench",
          "Trench",
          "Trench",
          "Trench",
          null
         ]
        },
        {
         "connectgaps": false,
         "hoverinfo": "y+name",
         "line": {
          "color": "rgb(180,157,169)",
          "width": 10
         },
         "mode": "lines",
         "name": "unloading:Carrier C",
         "type": "scatter",
         "x": [
          "1970-01-01T01:44:08",
          "1970-01-01T01:44:08",
          "1970-01-01T02:19:32",
          "1970-01-01T02:19:32",
          "1970-01-01T02:19:32",
          "1970-01-01T04:22:28",
          "1970-01-01T04:22:28",
          "1970-01-01T04:57:52",
          "1970-01-01T04:57:52",
          "1970-01-01T04:57:52",
          "1970-01-01T07:16:35",
          "1970-01-01T07:16:35",
          "1970-01-01T07:51:59",
          "1970-01-01T07:51:59",
          "1970-01-01T07:51:59",
          "1970-01-01T10:10:42",
          "1970-01-01T10:10:42",
          "1970-01-01T10:46:06",
          "1970-01-01T10:46:06",
          "1970-01-01T10:46:06",
          "1970-01-01T13:04:49",
          "1970-01-01T13:04:49",
          "1970-01-01T13:40:13",
          "1970-01-01T13:40:13",
          "1970-01-01T13:40:13",
          "1970-01-01T15:58:56",
          "1970-01-01T15:58:56",
          "1970-01-01T16:34:20",
          "1970-01-01T16:34:20",
          "1970-01-01T16:34:20",
          "1970-01-01T01:44:08",
          "1970-01-01T01:44:08",
          "1970-01-01T02:19:32",
          "1970-01-01T02:19:32",
          "1970-01-01T02:19:32",
          "1970-01-01T04:22:28",
          "1970-01-01T04:22:28",
          "1970-01-01T04:57:52",
          "1970-01-01T04:57:52",
          "1970-01-01T04:57:52",
          "1970-01-01T07:16:35",
          "1970-01-01T07:16:35",
          "1970-01-01T07:51:59",
          "1970-01-01T07:51:59",
          "1970-01-01T07:51:59",
          "1970-01-01T10:10:42",
          "1970-01-01T10:10:42",
          "1970-01-01T10:46:06",
          "1970-01-01T10:46:06",
          "1970-01-01T10:46:06",
          "1970-01-01T13:04:49",
          "1970-01-01T13:04:49",
          "1970-01-01T13:40:13",
          "1970-01-01T13:40:13",
          "1970-01-01T13:40:13",
          "1970-01-01T15:58:56",
          "1970-01-01T15:58:56",
          "1970-01-01T16:34:20",
          "1970-01-01T16:34:20",
          "1970-01-01T16:34:20"
         ],
         "y": [
          "Carrier C",
          "Carrier C",
          "Carrier C",
          "Carrier C",
          null,
          "Carrier C",
          "Carrier C",
          "Carrier C",
          "Carrier C",
          null,
          "Carrier C",
          "Carrier C",
          "Carrier C",
          "Carrier C",
          null,
          "Carrier C",
          "Carrier C",
          "Carrier C",
          "Carrier C",
          null,
          "Carrier C",
          "Carrier C",
          "Carrier C",
          "Carrier C",
          null,
          "Carrier C",
          "Carrier C",
          "Carrier C",
          "Carrier C",
          null,
          "Reclamation",
          "Reclamation",
          "Reclamation",
          "Reclamation",
          null,
          "Reclamation",
          "Reclamation",
          "Reclamation",
          "Reclamation",
          null,
          "Reclamation",
          "Reclamation",
          "Reclamation",
          "Reclamation",
          null,
          "Reclamation",
          "Reclamation",
          "Reclamation",
          "Reclamation",
          null,
          "Reclamation",
          "Reclamation",
          "Reclamation",
          "Reclamation",
          null,
          "Reclamation",
          "Reclamation",
          "Reclamation",
          "Reclamation",
          null
         ]
        },
        {
         "connectgaps": false,
         "hoverinfo": "y+name",
         "line": {
          "color": "rgb(189,166,178)",
          "width": 10
         },
         "mode": "lines",
         "name": "unloading:Carrier B",
         "type": "scatter",
         "x": [
          "1970-01-01T03:12:19",
          "1970-01-01T03:12:19",
          "1970-01-01T03:52:34",
          "1970-01-01T03:52:34",
          "1970-01-01T03:52:34",
          "1970-01-01T05:54:44",
          "1970-01-01T05:54:44",
          "1970-01-01T06:34:59",
          "1970-01-01T06:34:59",
          "1970-01-01T06:34:59",
          "1970-01-01T08:44:46",
          "1970-01-01T08:44:46",
          "1970-01-01T09:25:01",
          "1970-01-01T09:25:01",
          "1970-01-01T09:25:01",
          "1970-01-01T11:38:53",
          "1970-01-01T11:38:53",
          "1970-01-01T12:19:08",
          "1970-01-01T12:19:08",
          "1970-01-01T12:19:08",
          "1970-01-01T14:33:00",
          "1970-01-01T14:33:00",
          "1970-01-01T15:13:15",
          "1970-01-01T15:13:15",
          "1970-01-01T15:13:15",
          "1970-01-01T03:12:19",
          "1970-01-01T03:12:19",
          "1970-01-01T03:52:34",
          "1970-01-01T03:52:34",
          "1970-01-01T03:52:34",
          "1970-01-01T05:54:44",
          "1970-01-01T05:54:44",
          "1970-01-01T06:34:59",
          "1970-01-01T06:34:59",
          "1970-01-01T06:34:59",
          "1970-01-01T08:44:46",
          "1970-01-01T08:44:46",
          "1970-01-01T09:25:01",
          "1970-01-01T09:25:01",
          "1970-01-01T09:25:01",
          "1970-01-01T11:38:53",
          "1970-01-01T11:38:53",
          "1970-01-01T12:19:08",
          "1970-01-01T12:19:08",
          "1970-01-01T12:19:08",
          "1970-01-01T14:33:00",
          "1970-01-01T14:33:00",
          "1970-01-01T15:13:15",
          "1970-01-01T15:13:15",
          "1970-01-01T15:13:15"
         ],
         "y": [
          "Carrier B",
          "Carrier B",
          "Carrier B",
          "Carrier B",
          null,
          "Carrier B",
          "Carrier B",
          "Carrier B",
          "Carrier B",
          null,
          "Carrier B",
          "Carrier B",
          "Carrier B",
          "Carrier B",
          null,
          "Carrier B",
          "Carrier B",
          "Carrier B",
          "Carrier B",
          null,
          "Carrier B",
          "Carrier B",
          "Carrier B",
          "Carrier B",
          null,
          "Reclamation",
          "Reclamation",
          "Reclamation",
          "Reclamation",
          null,
          "Reclamation",
          "Reclamation",
          "Reclamation",
          "Reclamation",
          null,
          "Reclamation",
          "Reclamation",
          "Reclamation",
          "Reclamation",
          null,
          "Reclamation",
          "Reclamation",
          "Reclamation",
          "Reclamation",
          null,
          "Reclamation",
          "Reclamation",
          "Reclamation",
          "Reclamation",
          null
         ]
        },
        {
         "connectgaps": false,
         "hoverinfo": "y+name",
         "line": {
          "color": "rgb(198,175,187)",
          "width": 10
         },
         "mode": "lines",
         "name": "unloading:Carrier A",
         "type": "scatter",
         "x": [
          "1970-01-01T03:57:53",
          "1970-01-01T03:57:53",
          "1970-01-01T04:42:02",
          "1970-01-01T04:42:02",
          "1970-01-01T04:42:02",
          "1970-01-01T06:52:00",
          "1970-01-01T06:52:00",
          "1970-01-01T07:36:09",
          "1970-01-01T07:36:09",
          "1970-01-01T07:36:09",
          "1970-01-01T09:46:07",
          "1970-01-01T09:46:07",
          "1970-01-01T10:30:16",
          "1970-01-01T10:30:16",
          "1970-01-01T10:30:16",
          "1970-01-01T12:40:14",
          "1970-01-01T12:40:14",
          "1970-01-01T13:24:23",
          "1970-01-01T13:24:23",
          "1970-01-01T13:24:23",
          "1970-01-01T15:34:21",
          "1970-01-01T15:34:21",
          "1970-01-01T16:18:30",
          "1970-01-01T16:18:30",
          "1970-01-01T16:18:30",
          "1970-01-01T03:57:53",
          "1970-01-01T03:57:53",
          "1970-01-01T04:42:02",
          "1970-01-01T04:42:02",
          "1970-01-01T04:42:02",
          "1970-01-01T06:52:00",
          "1970-01-01T06:52:00",
          "1970-01-01T07:36:09",
          "1970-01-01T07:36:09",
          "1970-01-01T07:36:09",
          "1970-01-01T09:46:07",
          "1970-01-01T09:46:07",
          "1970-01-01T10:30:16",
          "1970-01-01T10:30:16",
          "1970-01-01T10:30:16",
          "1970-01-01T12:40:14",
          "1970-01-01T12:40:14",
          "1970-01-01T13:24:23",
          "1970-01-01T13:24:23",
          "1970-01-01T13:24:23",
          "1970-01-01T15:34:21",
          "1970-01-01T15:34:21",
          "1970-01-01T16:18:30",
          "1970-01-01T16:18:30",
          "1970-01-01T16:18:30"
         ],
         "y": [
          "Carrier A",
          "Carrier A",
          "Carrier A",
          "Carrier A",
          null,
          "Carrier A",
          "Carrier A",
          "Carrier A",
          "Carrier A",
          null,
          "Carrier A",
          "Carrier A",
          "Carrier A",
          "Carrier A",
          null,
          "Carrier A",
          "Carrier A",
          "Carrier A",
          "Carrier A",
          null,
          "Carrier A",
          "Carrier A",
          "Carrier A",
          "Carrier A",
          null,
          "Reclamation",
          "Reclamation",
          "Reclamation",
          "Reclamation",
          null,
          "Reclamation",
          "Reclamation",
          "Reclamation",
          "Reclamation",
          null,
          "Reclamation",
          "Reclamation",
          "Reclamation",
          "Reclamation",
          null,
          "Reclamation",
          "Reclamation",
          "Reclamation",
          "Reclamation",
          null,
          "Reclamation",
          "Reclamation",
          "Reclamation",
          "Reclamation",
          null
         ]
        },
        {
         "connectgaps": false,
         "hoverinfo": "y+name",
         "line": {
          "color": "rgb(207,184,196)",
          "width": 10
         },
         "mode": "lines",
         "name": "unloading:Barge I",
         "type": "scatter",
         "x": [
          "1970-01-01T02:29:53",
          "1970-01-01T02:29:53",
          "1970-01-01T03:09:22",
          "1970-01-01T03:09:22",
          "1970-01-01T03:09:22",
          "1970-01-01T05:10:00",
          "1970-01-01T05:10:00",
          "1970-01-01T05:49:29",
          "1970-01-01T05:49:29",
          "1970-01-01T05:49:29",
          "1970-01-01T08:02:20",
          "1970-01-01T08:02:20",
          "1970-01-01T08:41:49",
          "1970-01-01T08:41:49",
          "1970-01-01T08:41:49",
          "1970-01-01T10:56:27",
          "1970-01-01T10:56:27",
          "1970-01-01T11:35:56",
          "1970-01-01T11:35:56",
          "1970-01-01T11:35:56",
          "1970-01-01T13:50:34",
          "1970-01-01T13:50:34",
          "1970-01-01T14:30:03",
          "1970-01-01T14:30:03",
          "1970-01-01T14:30:03",
          "1970-01-01T16:44:41",
          "1970-01-01T16:44:41",
          "1970-01-01T17:24:10",
          "1970-01-01T17:24:10",
          "1970-01-01T17:24:10",
          "1970-01-01T02:29:53",
          "1970-01-01T02:29:53",
          "1970-01-01T03:09:22",
          "1970-01-01T03:09:22",
          "1970-01-01T03:09:22",
          "1970-01-01T05:10:00",
          "1970-01-01T05:10:00",
          "1970-01-01T05:49:29",
          "1970-01-01T05:49:29",
          "1970-01-01T05:49:29",
          "1970-01-01T08:02:20",
          "1970-01-01T08:02:20",
          "1970-01-01T08:41:49",
          "1970-01-01T08:41:49",
          "1970-01-01T08:41:49",
          "1970-01-01T10:56:27",
          "1970-01-01T10:56:27",
          "1970-01-01T11:35:56",
          "1970-01-01T11:35:56",
          "1970-01-01T11:35:56",
          "1970-01-01T13:50:34",
          "1970-01-01T13:50:34",
          "1970-01-01T14:30:03",
          "1970-01-01T14:30:03",
          "1970-01-01T14:30:03",
          "1970-01-01T16:44:41",
          "1970-01-01T16:44:41",
          "1970-01-01T17:24:10",
          "1970-01-01T17:24:10",
          "1970-01-01T17:24:10"
         ],
         "y": [
          "Barge I",
          "Barge I",
          "Barge I",
          "Barge I",
          null,
          "Barge I",
          "Barge I",
          "Barge I",
          "Barge I",
          null,
          "Barge I",
          "Barge I",
          "Barge I",
          "Barge I",
          null,
          "Barge I",
          "Barge I",
          "Barge I",
          "Barge I",
          null,
          "Barge I",
          "Barge I",
          "Barge I",
          "Barge I",
          null,
          "Barge I",
          "Barge I",
          "Barge I",
          "Barge I",
          null,
          "Reclamation",
          "Reclamation",
          "Reclamation",
          "Reclamation",
          null,
          "Reclamation",
          "Reclamation",
          "Reclamation",
          "Reclamation",
          null,
          "Reclamation",
          "Reclamation",
          "Reclamation",
          "Reclamation",
          null,
          "Reclamation",
          "Reclamation",
          "Reclamation",
          "Reclamation",
          null,
          "Reclamation",
          "Reclamation",
          "Reclamation",
          "Reclamation",
          null,
          "Reclamation",
          "Reclamation",
          "Reclamation",
          "Reclamation",
          null
         ]
        }
       ],
       "layout": {
        "hovermode": "closest",
        "legend": {
         "orientation": "h",
         "x": 0,
         "y": -0.2
        },
        "showlegend": false,
        "template": {
         "data": {
          "bar": [
           {
            "error_x": {
             "color": "#2a3f5f"
            },
            "error_y": {
             "color": "#2a3f5f"
            },
            "marker": {
             "line": {
              "color": "#E5ECF6",
              "width": 0.5
             },
             "pattern": {
              "fillmode": "overlay",
              "size": 10,
              "solidity": 0.2
             }
            },
            "type": "bar"
           }
          ],
          "barpolar": [
           {
            "marker": {
             "line": {
              "color": "#E5ECF6",
              "width": 0.5
             },
             "pattern": {
              "fillmode": "overlay",
              "size": 10,
              "solidity": 0.2
             }
            },
            "type": "barpolar"
           }
          ],
          "carpet": [
           {
            "aaxis": {
             "endlinecolor": "#2a3f5f",
             "gridcolor": "white",
             "linecolor": "white",
             "minorgridcolor": "white",
             "startlinecolor": "#2a3f5f"
            },
            "baxis": {
             "endlinecolor": "#2a3f5f",
             "gridcolor": "white",
             "linecolor": "white",
             "minorgridcolor": "white",
             "startlinecolor": "#2a3f5f"
            },
            "type": "carpet"
           }
          ],
          "choropleth": [
           {
            "colorbar": {
             "outlinewidth": 0,
             "ticks": ""
            },
            "type": "choropleth"
           }
          ],
          "contour": [
           {
            "colorbar": {
             "outlinewidth": 0,
             "ticks": ""
            },
            "colorscale": [
             [
              0,
              "#0d0887"
             ],
             [
              0.1111111111111111,
              "#46039f"
             ],
             [
              0.2222222222222222,
              "#7201a8"
             ],
             [
              0.3333333333333333,
              "#9c179e"
             ],
             [
              0.4444444444444444,
              "#bd3786"
             ],
             [
              0.5555555555555556,
              "#d8576b"
             ],
             [
              0.6666666666666666,
              "#ed7953"
             ],
             [
              0.7777777777777778,
              "#fb9f3a"
             ],
             [
              0.8888888888888888,
              "#fdca26"
             ],
             [
              1,
              "#f0f921"
             ]
            ],
            "type": "contour"
           }
          ],
          "contourcarpet": [
           {
            "colorbar": {
             "outlinewidth": 0,
             "ticks": ""
            },
            "type": "contourcarpet"
           }
          ],
          "heatmap": [
           {
            "colorbar": {
             "outlinewidth": 0,
             "ticks": ""
            },
            "colorscale": [
             [
              0,
              "#0d0887"
             ],
             [
              0.1111111111111111,
              "#46039f"
             ],
             [
              0.2222222222222222,
              "#7201a8"
             ],
             [
              0.3333333333333333,
              "#9c179e"
             ],
             [
              0.4444444444444444,
              "#bd3786"
             ],
             [
              0.5555555555555556,
              "#d8576b"
             ],
             [
              0.6666666666666666,
              "#ed7953"
             ],
             [
              0.7777777777777778,
              "#fb9f3a"
             ],
             [
              0.8888888888888888,
              "#fdca26"
             ],
             [
              1,
              "#f0f921"
             ]
            ],
            "type": "heatmap"
           }
          ],
          "heatmapgl": [
           {
            "colorbar": {
             "outlinewidth": 0,
             "ticks": ""
            },
            "colorscale": [
             [
              0,
              "#0d0887"
             ],
             [
              0.1111111111111111,
              "#46039f"
             ],
             [
              0.2222222222222222,
              "#7201a8"
             ],
             [
              0.3333333333333333,
              "#9c179e"
             ],
             [
              0.4444444444444444,
              "#bd3786"
             ],
             [
              0.5555555555555556,
              "#d8576b"
             ],
             [
              0.6666666666666666,
              "#ed7953"
             ],
             [
              0.7777777777777778,
              "#fb9f3a"
             ],
             [
              0.8888888888888888,
              "#fdca26"
             ],
             [
              1,
              "#f0f921"
             ]
            ],
            "type": "heatmapgl"
           }
          ],
          "histogram": [
           {
            "marker": {
             "pattern": {
              "fillmode": "overlay",
              "size": 10,
              "solidity": 0.2
             }
            },
            "type": "histogram"
           }
          ],
          "histogram2d": [
           {
            "colorbar": {
             "outlinewidth": 0,
             "ticks": ""
            },
            "colorscale": [
             [
              0,
              "#0d0887"
             ],
             [
              0.1111111111111111,
              "#46039f"
             ],
             [
              0.2222222222222222,
              "#7201a8"
             ],
             [
              0.3333333333333333,
              "#9c179e"
             ],
             [
              0.4444444444444444,
              "#bd3786"
             ],
             [
              0.5555555555555556,
              "#d8576b"
             ],
             [
              0.6666666666666666,
              "#ed7953"
             ],
             [
              0.7777777777777778,
              "#fb9f3a"
             ],
             [
              0.8888888888888888,
              "#fdca26"
             ],
             [
              1,
              "#f0f921"
             ]
            ],
            "type": "histogram2d"
           }
          ],
          "histogram2dcontour": [
           {
            "colorbar": {
             "outlinewidth": 0,
             "ticks": ""
            },
            "colorscale": [
             [
              0,
              "#0d0887"
             ],
             [
              0.1111111111111111,
              "#46039f"
             ],
             [
              0.2222222222222222,
              "#7201a8"
             ],
             [
              0.3333333333333333,
              "#9c179e"
             ],
             [
              0.4444444444444444,
              "#bd3786"
             ],
             [
              0.5555555555555556,
              "#d8576b"
             ],
             [
              0.6666666666666666,
              "#ed7953"
             ],
             [
              0.7777777777777778,
              "#fb9f3a"
             ],
             [
              0.8888888888888888,
              "#fdca26"
             ],
             [
              1,
              "#f0f921"
             ]
            ],
            "type": "histogram2dcontour"
           }
          ],
          "mesh3d": [
           {
            "colorbar": {
             "outlinewidth": 0,
             "ticks": ""
            },
            "type": "mesh3d"
           }
          ],
          "parcoords": [
           {
            "line": {
             "colorbar": {
              "outlinewidth": 0,
              "ticks": ""
             }
            },
            "type": "parcoords"
           }
          ],
          "pie": [
           {
            "automargin": true,
            "type": "pie"
           }
          ],
          "scatter": [
           {
            "fillpattern": {
             "fillmode": "overlay",
             "size": 10,
             "solidity": 0.2
            },
            "type": "scatter"
           }
          ],
          "scatter3d": [
           {
            "line": {
             "colorbar": {
              "outlinewidth": 0,
              "ticks": ""
             }
            },
            "marker": {
             "colorbar": {
              "outlinewidth": 0,
              "ticks": ""
             }
            },
            "type": "scatter3d"
           }
          ],
          "scattercarpet": [
           {
            "marker": {
             "colorbar": {
              "outlinewidth": 0,
              "ticks": ""
             }
            },
            "type": "scattercarpet"
           }
          ],
          "scattergeo": [
           {
            "marker": {
             "colorbar": {
              "outlinewidth": 0,
              "ticks": ""
             }
            },
            "type": "scattergeo"
           }
          ],
          "scattergl": [
           {
            "marker": {
             "colorbar": {
              "outlinewidth": 0,
              "ticks": ""
             }
            },
            "type": "scattergl"
           }
          ],
          "scattermapbox": [
           {
            "marker": {
             "colorbar": {
              "outlinewidth": 0,
              "ticks": ""
             }
            },
            "type": "scattermapbox"
           }
          ],
          "scatterpolar": [
           {
            "marker": {
             "colorbar": {
              "outlinewidth": 0,
              "ticks": ""
             }
            },
            "type": "scatterpolar"
           }
          ],
          "scatterpolargl": [
           {
            "marker": {
             "colorbar": {
              "outlinewidth": 0,
              "ticks": ""
             }
            },
            "type": "scatterpolargl"
           }
          ],
          "scatterternary": [
           {
            "marker": {
             "colorbar": {
              "outlinewidth": 0,
              "ticks": ""
             }
            },
            "type": "scatterternary"
           }
          ],
          "surface": [
           {
            "colorbar": {
             "outlinewidth": 0,
             "ticks": ""
            },
            "colorscale": [
             [
              0,
              "#0d0887"
             ],
             [
              0.1111111111111111,
              "#46039f"
             ],
             [
              0.2222222222222222,
              "#7201a8"
             ],
             [
              0.3333333333333333,
              "#9c179e"
             ],
             [
              0.4444444444444444,
              "#bd3786"
             ],
             [
              0.5555555555555556,
              "#d8576b"
             ],
             [
              0.6666666666666666,
              "#ed7953"
             ],
             [
              0.7777777777777778,
              "#fb9f3a"
             ],
             [
              0.8888888888888888,
              "#fdca26"
             ],
             [
              1,
              "#f0f921"
             ]
            ],
            "type": "surface"
           }
          ],
          "table": [
           {
            "cells": {
             "fill": {
              "color": "#EBF0F8"
             },
             "line": {
              "color": "white"
             }
            },
            "header": {
             "fill": {
              "color": "#C8D4E3"
             },
             "line": {
              "color": "white"
             }
            },
            "type": "table"
           }
          ]
         },
         "layout": {
          "annotationdefaults": {
           "arrowcolor": "#2a3f5f",
           "arrowhead": 0,
           "arrowwidth": 1
          },
          "autotypenumbers": "strict",
          "coloraxis": {
           "colorbar": {
            "outlinewidth": 0,
            "ticks": ""
           }
          },
          "colorscale": {
           "diverging": [
            [
             0,
             "#8e0152"
            ],
            [
             0.1,
             "#c51b7d"
            ],
            [
             0.2,
             "#de77ae"
            ],
            [
             0.3,
             "#f1b6da"
            ],
            [
             0.4,
             "#fde0ef"
            ],
            [
             0.5,
             "#f7f7f7"
            ],
            [
             0.6,
             "#e6f5d0"
            ],
            [
             0.7,
             "#b8e186"
            ],
            [
             0.8,
             "#7fbc41"
            ],
            [
             0.9,
             "#4d9221"
            ],
            [
             1,
             "#276419"
            ]
           ],
           "sequential": [
            [
             0,
             "#0d0887"
            ],
            [
             0.1111111111111111,
             "#46039f"
            ],
            [
             0.2222222222222222,
             "#7201a8"
            ],
            [
             0.3333333333333333,
             "#9c179e"
            ],
            [
             0.4444444444444444,
             "#bd3786"
            ],
            [
             0.5555555555555556,
             "#d8576b"
            ],
            [
             0.6666666666666666,
             "#ed7953"
            ],
            [
             0.7777777777777778,
             "#fb9f3a"
            ],
            [
             0.8888888888888888,
             "#fdca26"
            ],
            [
             1,
             "#f0f921"
            ]
           ],
           "sequentialminus": [
            [
             0,
             "#0d0887"
            ],
            [
             0.1111111111111111,
             "#46039f"
            ],
            [
             0.2222222222222222,
             "#7201a8"
            ],
            [
             0.3333333333333333,
             "#9c179e"
            ],
            [
             0.4444444444444444,
             "#bd3786"
            ],
            [
             0.5555555555555556,
             "#d8576b"
            ],
            [
             0.6666666666666666,
             "#ed7953"
            ],
            [
             0.7777777777777778,
             "#fb9f3a"
            ],
            [
             0.8888888888888888,
             "#fdca26"
            ],
            [
             1,
             "#f0f921"
            ]
           ]
          },
          "colorway": [
           "#636efa",
           "#EF553B",
           "#00cc96",
           "#ab63fa",
           "#FFA15A",
           "#19d3f3",
           "#FF6692",
           "#B6E880",
           "#FF97FF",
           "#FECB52"
          ],
          "font": {
           "color": "#2a3f5f"
          },
          "geo": {
           "bgcolor": "white",
           "lakecolor": "white",
           "landcolor": "#E5ECF6",
           "showlakes": true,
           "showland": true,
           "subunitcolor": "white"
          },
          "hoverlabel": {
           "align": "left"
          },
          "hovermode": "closest",
          "mapbox": {
           "style": "light"
          },
          "paper_bgcolor": "white",
          "plot_bgcolor": "#E5ECF6",
          "polar": {
           "angularaxis": {
            "gridcolor": "white",
            "linecolor": "white",
            "ticks": ""
           },
           "bgcolor": "#E5ECF6",
           "radialaxis": {
            "gridcolor": "white",
            "linecolor": "white",
            "ticks": ""
           }
          },
          "scene": {
           "xaxis": {
            "backgroundcolor": "#E5ECF6",
            "gridcolor": "white",
            "gridwidth": 2,
            "linecolor": "white",
            "showbackground": true,
            "ticks": "",
            "zerolinecolor": "white"
           },
           "yaxis": {
            "backgroundcolor": "#E5ECF6",
            "gridcolor": "white",
            "gridwidth": 2,
            "linecolor": "white",
            "showbackground": true,
            "ticks": "",
            "zerolinecolor": "white"
           },
           "zaxis": {
            "backgroundcolor": "#E5ECF6",
            "gridcolor": "white",
            "gridwidth": 2,
            "linecolor": "white",
            "showbackground": true,
            "ticks": "",
            "zerolinecolor": "white"
           }
          },
          "shapedefaults": {
           "line": {
            "color": "#2a3f5f"
           }
          },
          "ternary": {
           "aaxis": {
            "gridcolor": "white",
            "linecolor": "white",
            "ticks": ""
           },
           "baxis": {
            "gridcolor": "white",
            "linecolor": "white",
            "ticks": ""
           },
           "bgcolor": "#E5ECF6",
           "caxis": {
            "gridcolor": "white",
            "linecolor": "white",
            "ticks": ""
           }
          },
          "title": {
           "x": 0.05
          },
          "xaxis": {
           "automargin": true,
           "gridcolor": "white",
           "linecolor": "white",
           "ticks": "",
           "title": {
            "standoff": 15
           },
           "zerolinecolor": "white",
           "zerolinewidth": 2
          },
          "yaxis": {
           "automargin": true,
           "gridcolor": "white",
           "linecolor": "white",
           "ticks": "",
           "title": {
            "standoff": 15
           },
           "zerolinecolor": "white",
           "zerolinewidth": 2
          }
         }
        },
        "title": {
         "text": "Cutter T occupancy: 93.2duration actual: 55788.0"
        },
        "xaxis": {
         "range": [
          "1970-01-01T00:00:00",
          "1970-01-01T17:24:10"
         ],
         "title": {
          "font": {
           "color": "#7f7f7f",
           "family": "Courier New, monospace",
           "size": 18
          },
          "text": "Time"
         }
        },
        "yaxis": {
         "title": {
          "font": {
           "color": "#7f7f7f",
           "family": "Courier New, monospace",
           "size": 18
          },
          "text": "vesels"
         }
        }
       }
      },
      "text/html": [
       "<div>                            <div id=\"4a5f2a9d-d44b-42a5-bdb9-824b7e8e382a\" class=\"plotly-graph-div\" style=\"height:525px; width:100%;\"></div>            <script type=\"text/javascript\">                require([\"plotly\"], function(Plotly) {                    window.PLOTLYENV=window.PLOTLYENV || {};                                    if (document.getElementById(\"4a5f2a9d-d44b-42a5-bdb9-824b7e8e382a\")) {                    Plotly.newPlot(                        \"4a5f2a9d-d44b-42a5-bdb9-824b7e8e382a\",                        [{\"connectgaps\":false,\"hoverinfo\":\"name\",\"line\":{\"color\":\"red\",\"width\":14},\"mode\":\"lines\",\"name\":\"critical_path\",\"x\":[\"1970-01-01T00:00:00\",\"1970-01-01T00:35:24\",\"1970-01-01T00:35:24\",\"1970-01-01T00:35:24\",\"1970-01-01T01:08:44\",\"1970-01-01T01:08:44\",\"1970-01-01T00:35:24\",\"1970-01-01T01:08:44\",\"1970-01-01T01:08:44\",\"1970-01-01T00:35:24\",\"1970-01-01T01:08:44\",\"1970-01-01T01:08:44\",\"1970-01-01T01:08:44\",\"1970-01-01T01:50:24\",\"1970-01-01T01:50:24\",\"1970-01-01T01:08:44\",\"1970-01-01T01:50:24\",\"1970-01-01T01:50:24\",\"1970-01-01T01:08:44\",\"1970-01-01T01:50:24\",\"1970-01-01T01:50:24\",\"1970-01-01T01:50:24\",\"1970-01-01T02:32:04\",\"1970-01-01T02:32:04\",\"1970-01-01T01:50:24\",\"1970-01-01T02:32:04\",\"1970-01-01T02:32:04\",\"1970-01-01T01:50:24\",\"1970-01-01T02:32:04\",\"1970-01-01T02:32:04\",\"1970-01-01T02:32:04\",\"1970-01-01T03:13:44\",\"1970-01-01T03:13:44\",\"1970-01-01T02:32:04\",\"1970-01-01T03:13:44\",\"1970-01-01T03:13:44\",\"1970-01-01T02:32:04\",\"1970-01-01T03:13:44\",\"1970-01-01T03:13:44\",\"1970-01-01T03:13:44\",\"1970-01-01T03:57:53\",\"1970-01-01T03:57:53\",\"1970-01-01T03:57:53\",\"1970-01-01T04:42:02\",\"1970-01-01T04:42:02\",\"1970-01-01T03:57:53\",\"1970-01-01T04:42:02\",\"1970-01-01T04:42:02\",\"1970-01-01T04:42:02\",\"1970-01-01T05:26:11\",\"1970-01-01T05:26:11\",\"1970-01-01T05:26:11\",\"1970-01-01T06:07:51\",\"1970-01-01T06:07:51\",\"1970-01-01T05:26:11\",\"1970-01-01T06:07:51\",\"1970-01-01T06:07:51\",\"1970-01-01T05:26:11\",\"1970-01-01T06:07:51\",\"1970-01-01T06:07:51\",\"1970-01-01T06:07:51\",\"1970-01-01T06:52:00\",\"1970-01-01T06:52:00\",\"1970-01-01T06:52:00\",\"1970-01-01T07:36:09\",\"1970-01-01T07:36:09\",\"1970-01-01T06:52:00\",\"1970-01-01T07:36:09\",\"1970-01-01T07:36:09\",\"1970-01-01T07:36:09\",\"1970-01-01T08:20:18\",\"1970-01-01T08:20:18\",\"1970-01-01T08:20:18\",\"1970-01-01T09:01:58\",\"1970-01-01T09:01:58\",\"1970-01-01T08:20:18\",\"1970-01-01T09:01:58\",\"1970-01-01T09:01:58\",\"1970-01-01T08:20:18\",\"1970-01-01T09:01:58\",\"1970-01-01T09:01:58\",\"1970-01-01T09:01:58\",\"1970-01-01T09:46:07\",\"1970-01-01T09:46:07\",\"1970-01-01T09:46:07\",\"1970-01-01T10:30:16\",\"1970-01-01T10:30:16\",\"1970-01-01T09:46:07\",\"1970-01-01T10:30:16\",\"1970-01-01T10:30:16\",\"1970-01-01T10:30:16\",\"1970-01-01T11:14:25\",\"1970-01-01T11:14:25\",\"1970-01-01T11:14:25\",\"1970-01-01T11:56:05\",\"1970-01-01T11:56:05\",\"1970-01-01T11:14:25\",\"1970-01-01T11:56:05\",\"1970-01-01T11:56:05\",\"1970-01-01T11:14:25\",\"1970-01-01T11:56:05\",\"1970-01-01T11:56:05\",\"1970-01-01T11:56:05\",\"1970-01-01T12:40:14\",\"1970-01-01T12:40:14\",\"1970-01-01T12:40:14\",\"1970-01-01T13:24:23\",\"1970-01-01T13:24:23\",\"1970-01-01T12:40:14\",\"1970-01-01T13:24:23\",\"1970-01-01T13:24:23\",\"1970-01-01T13:24:23\",\"1970-01-01T14:08:32\",\"1970-01-01T14:08:32\",\"1970-01-01T14:08:32\",\"1970-01-01T14:50:12\",\"1970-01-01T14:50:12\",\"1970-01-01T14:08:32\",\"1970-01-01T14:50:12\",\"1970-01-01T14:50:12\",\"1970-01-01T14:08:32\",\"1970-01-01T14:50:12\",\"1970-01-01T14:50:12\",\"1970-01-01T14:50:12\",\"1970-01-01T15:23:32\",\"1970-01-01T15:23:32\",\"1970-01-01T14:50:12\",\"1970-01-01T15:23:32\",\"1970-01-01T15:23:32\",\"1970-01-01T14:50:12\",\"1970-01-01T15:23:32\",\"1970-01-01T15:23:32\",\"1970-01-01T15:23:32\",\"1970-01-01T16:05:12\",\"1970-01-01T16:05:12\",\"1970-01-01T15:23:32\",\"1970-01-01T16:05:12\",\"1970-01-01T16:05:12\",\"1970-01-01T15:23:32\",\"1970-01-01T16:05:12\",\"1970-01-01T16:05:12\",\"1970-01-01T16:05:12\",\"1970-01-01T16:44:41\",\"1970-01-01T16:44:41\",\"1970-01-01T16:44:41\",\"1970-01-01T17:24:10\",\"1970-01-01T17:24:10\",\"1970-01-01T16:44:41\",\"1970-01-01T17:24:10\",\"1970-01-01T17:24:10\"],\"y\":[\"Carrier C\",\"Carrier C\",null,\"Carrier C\",\"Carrier C\",null,\"Cutter T\",\"Cutter T\",null,\"Trench\",\"Trench\",null,\"Barge I\",\"Barge I\",null,\"Cutter T\",\"Cutter T\",null,\"Trench\",\"Trench\",null,\"Carrier B\",\"Carrier B\",null,\"Cutter T\",\"Cutter T\",null,\"Trench\",\"Trench\",null,\"Carrier A\",\"Carrier A\",null,\"Cutter T\",\"Cutter T\",null,\"Trench\",\"Trench\",null,\"Carrier A\",\"Carrier A\",null,\"Carrier A\",\"Carrier A\",null,\"Reclamation\",\"Reclamation\",null,\"Carrier A\",\"Carrier A\",null,\"Carrier A\",\"Carrier A\",null,\"Cutter T\",\"Cutter T\",null,\"Trench\",\"Trench\",null,\"Carrier A\",\"Carrier A\",null,\"Carrier A\",\"Carrier A\",null,\"Reclamation\",\"Reclamation\",null,\"Carrier A\",\"Carrier A\",null,\"Carrier A\",\"Carrier A\",null,\"Cutter T\",\"Cutter T\",null,\"Trench\",\"Trench\",null,\"Carrier A\",\"Carrier A\",null,\"Carrier A\",\"Carrier A\",null,\"Reclamation\",\"Reclamation\",null,\"Carrier A\",\"Carrier A\",null,\"Carrier A\",\"Carrier A\",null,\"Cutter T\",\"Cutter T\",null,\"Trench\",\"Trench\",null,\"Carrier A\",\"Carrier A\",null,\"Carrier A\",\"Carrier A\",null,\"Reclamation\",\"Reclamation\",null,\"Carrier A\",\"Carrier A\",null,\"Carrier A\",\"Carrier A\",null,\"Cutter T\",\"Cutter T\",null,\"Trench\",\"Trench\",null,\"Carrier C\",\"Carrier C\",null,\"Cutter T\",\"Cutter T\",null,\"Trench\",\"Trench\",null,\"Barge I\",\"Barge I\",null,\"Cutter T\",\"Cutter T\",null,\"Trench\",\"Trench\",null,\"Barge I\",\"Barge I\",null,\"Barge I\",\"Barge I\",null,\"Reclamation\",\"Reclamation\",null],\"type\":\"scatter\"},{\"connectgaps\":false,\"hoverinfo\":\"y+name\",\"line\":{\"color\":\"rgb(220,197,209)\",\"width\":10},\"mode\":\"lines\",\"name\":\"loading:Carrier A\",\"x\":[\"1970-01-01T02:32:04\",\"1970-01-01T02:32:04\",\"1970-01-01T03:13:44\",\"1970-01-01T03:13:44\",\"1970-01-01T03:13:44\",\"1970-01-01T05:26:11\",\"1970-01-01T05:26:11\",\"1970-01-01T06:07:51\",\"1970-01-01T06:07:51\",\"1970-01-01T06:07:51\",\"1970-01-01T08:20:18\",\"1970-01-01T08:20:18\",\"1970-01-01T09:01:58\",\"1970-01-01T09:01:58\",\"1970-01-01T09:01:58\",\"1970-01-01T11:14:25\",\"1970-01-01T11:14:25\",\"1970-01-01T11:56:05\",\"1970-01-01T11:56:05\",\"1970-01-01T11:56:05\",\"1970-01-01T14:08:32\",\"1970-01-01T14:08:32\",\"1970-01-01T14:50:12\",\"1970-01-01T14:50:12\",\"1970-01-01T14:50:12\",\"1970-01-01T02:32:04\",\"1970-01-01T02:32:04\",\"1970-01-01T03:13:44\",\"1970-01-01T03:13:44\",\"1970-01-01T03:13:44\",\"1970-01-01T05:26:11\",\"1970-01-01T05:26:11\",\"1970-01-01T06:07:51\",\"1970-01-01T06:07:51\",\"1970-01-01T06:07:51\",\"1970-01-01T08:20:18\",\"1970-01-01T08:20:18\",\"1970-01-01T09:01:58\",\"1970-01-01T09:01:58\",\"1970-01-01T09:01:58\",\"1970-01-01T11:14:25\",\"1970-01-01T11:14:25\",\"1970-01-01T11:56:05\",\"1970-01-01T11:56:05\",\"1970-01-01T11:56:05\",\"1970-01-01T14:08:32\",\"1970-01-01T14:08:32\",\"1970-01-01T14:50:12\",\"1970-01-01T14:50:12\",\"1970-01-01T14:50:12\",\"1970-01-01T02:32:04\",\"1970-01-01T02:32:04\",\"1970-01-01T03:13:44\",\"1970-01-01T03:13:44\",\"1970-01-01T03:13:44\",\"1970-01-01T05:26:11\",\"1970-01-01T05:26:11\",\"1970-01-01T06:07:51\",\"1970-01-01T06:07:51\",\"1970-01-01T06:07:51\",\"1970-01-01T08:20:18\",\"1970-01-01T08:20:18\",\"1970-01-01T09:01:58\",\"1970-01-01T09:01:58\",\"1970-01-01T09:01:58\",\"1970-01-01T11:14:25\",\"1970-01-01T11:14:25\",\"1970-01-01T11:56:05\",\"1970-01-01T11:56:05\",\"1970-01-01T11:56:05\",\"1970-01-01T14:08:32\",\"1970-01-01T14:08:32\",\"1970-01-01T14:50:12\",\"1970-01-01T14:50:12\",\"1970-01-01T14:50:12\"],\"y\":[\"Carrier A\",\"Carrier A\",\"Carrier A\",\"Carrier A\",null,\"Carrier A\",\"Carrier A\",\"Carrier A\",\"Carrier A\",null,\"Carrier A\",\"Carrier A\",\"Carrier A\",\"Carrier A\",null,\"Carrier A\",\"Carrier A\",\"Carrier A\",\"Carrier A\",null,\"Carrier A\",\"Carrier A\",\"Carrier A\",\"Carrier A\",null,\"Cutter T\",\"Cutter T\",\"Cutter T\",\"Cutter T\",null,\"Cutter T\",\"Cutter T\",\"Cutter T\",\"Cutter T\",null,\"Cutter T\",\"Cutter T\",\"Cutter T\",\"Cutter T\",null,\"Cutter T\",\"Cutter T\",\"Cutter T\",\"Cutter T\",null,\"Cutter T\",\"Cutter T\",\"Cutter T\",\"Cutter T\",null,\"Trench\",\"Trench\",\"Trench\",\"Trench\",null,\"Trench\",\"Trench\",\"Trench\",\"Trench\",null,\"Trench\",\"Trench\",\"Trench\",\"Trench\",null,\"Trench\",\"Trench\",\"Trench\",\"Trench\",null,\"Trench\",\"Trench\",\"Trench\",\"Trench\",null],\"type\":\"scatter\"},{\"connectgaps\":false,\"hoverinfo\":\"y+name\",\"line\":{\"color\":\"rgb(229,206,218)\",\"width\":10},\"mode\":\"lines\",\"name\":\"sailing empty:Carrier A\",\"x\":[\"1970-01-01T00:00:00\",\"1970-01-01T00:00:00\",\"1970-01-01T00:44:09\",\"1970-01-01T00:44:09\",\"1970-01-01T00:44:09\",\"1970-01-01T04:42:02\",\"1970-01-01T04:42:02\",\"1970-01-01T05:26:11\",\"1970-01-01T05:26:11\",\"1970-01-01T05:26:11\",\"1970-01-01T07:36:09\",\"1970-01-01T07:36:09\",\"1970-01-01T08:20:18\",\"1970-01-01T08:20:18\",\"1970-01-01T08:20:18\",\"1970-01-01T10:30:16\",\"1970-01-01T10:30:16\",\"1970-01-01T11:14:25\",\"1970-01-01T11:14:25\",\"1970-01-01T11:14:25\",\"1970-01-01T13:24:23\",\"1970-01-01T13:24:23\",\"1970-01-01T14:08:32\",\"1970-01-01T14:08:32\",\"1970-01-01T14:08:32\"],\"y\":[\"Carrier A\",\"Carrier A\",\"Carrier A\",\"Carrier A\",null,\"Carrier A\",\"Carrier A\",\"Carrier A\",\"Carrier A\",null,\"Carrier A\",\"Carrier A\",\"Carrier A\",\"Carrier A\",null,\"Carrier A\",\"Carrier A\",\"Carrier A\",\"Carrier A\",null,\"Carrier A\",\"Carrier A\",\"Carrier A\",\"Carrier A\",null],\"type\":\"scatter\"},{\"connectgaps\":false,\"hoverinfo\":\"y+name\",\"line\":{\"color\":\"rgb(238,215,227)\",\"width\":10},\"mode\":\"lines\",\"name\":\"unloading:Carrier A\",\"x\":[\"1970-01-01T03:57:53\",\"1970-01-01T03:57:53\",\"1970-01-01T04:42:02\",\"1970-01-01T04:42:02\",\"1970-01-01T04:42:02\",\"1970-01-01T06:52:00\",\"1970-01-01T06:52:00\",\"1970-01-01T07:36:09\",\"1970-01-01T07:36:09\",\"1970-01-01T07:36:09\",\"1970-01-01T09:46:07\",\"1970-01-01T09:46:07\",\"1970-01-01T10:30:16\",\"1970-01-01T10:30:16\",\"1970-01-01T10:30:16\",\"1970-01-01T12:40:14\",\"1970-01-01T12:40:14\",\"1970-01-01T13:24:23\",\"1970-01-01T13:24:23\",\"1970-01-01T13:24:23\",\"1970-01-01T15:34:21\",\"1970-01-01T15:34:21\",\"1970-01-01T16:18:30\",\"1970-01-01T16:18:30\",\"1970-01-01T16:18:30\",\"1970-01-01T03:57:53\",\"1970-01-01T03:57:53\",\"1970-01-01T04:42:02\",\"1970-01-01T04:42:02\",\"1970-01-01T04:42:02\",\"1970-01-01T06:52:00\",\"1970-01-01T06:52:00\",\"1970-01-01T07:36:09\",\"1970-01-01T07:36:09\",\"1970-01-01T07:36:09\",\"1970-01-01T09:46:07\",\"1970-01-01T09:46:07\",\"1970-01-01T10:30:16\",\"1970-01-01T10:30:16\",\"1970-01-01T10:30:16\",\"1970-01-01T12:40:14\",\"1970-01-01T12:40:14\",\"1970-01-01T13:24:23\",\"1970-01-01T13:24:23\",\"1970-01-01T13:24:23\",\"1970-01-01T15:34:21\",\"1970-01-01T15:34:21\",\"1970-01-01T16:18:30\",\"1970-01-01T16:18:30\",\"1970-01-01T16:18:30\"],\"y\":[\"Carrier A\",\"Carrier A\",\"Carrier A\",\"Carrier A\",null,\"Carrier A\",\"Carrier A\",\"Carrier A\",\"Carrier A\",null,\"Carrier A\",\"Carrier A\",\"Carrier A\",\"Carrier A\",null,\"Carrier A\",\"Carrier A\",\"Carrier A\",\"Carrier A\",null,\"Carrier A\",\"Carrier A\",\"Carrier A\",\"Carrier A\",null,\"Reclamation\",\"Reclamation\",\"Reclamation\",\"Reclamation\",null,\"Reclamation\",\"Reclamation\",\"Reclamation\",\"Reclamation\",null,\"Reclamation\",\"Reclamation\",\"Reclamation\",\"Reclamation\",null,\"Reclamation\",\"Reclamation\",\"Reclamation\",\"Reclamation\",null,\"Reclamation\",\"Reclamation\",\"Reclamation\",\"Reclamation\",null],\"type\":\"scatter\"},{\"connectgaps\":false,\"hoverinfo\":\"y+name\",\"line\":{\"color\":\"rgb(247,224,236)\",\"width\":10},\"mode\":\"lines\",\"name\":\"sailing full:Carrier A\",\"x\":[\"1970-01-01T03:13:44\",\"1970-01-01T03:13:44\",\"1970-01-01T03:57:53\",\"1970-01-01T03:57:53\",\"1970-01-01T03:57:53\",\"1970-01-01T06:07:51\",\"1970-01-01T06:07:51\",\"1970-01-01T06:52:00\",\"1970-01-01T06:52:00\",\"1970-01-01T06:52:00\",\"1970-01-01T09:01:58\",\"1970-01-01T09:01:58\",\"1970-01-01T09:46:07\",\"1970-01-01T09:46:07\",\"1970-01-01T09:46:07\",\"1970-01-01T11:56:05\",\"1970-01-01T11:56:05\",\"1970-01-01T12:40:14\",\"1970-01-01T12:40:14\",\"1970-01-01T12:40:14\",\"1970-01-01T14:50:12\",\"1970-01-01T14:50:12\",\"1970-01-01T15:34:21\",\"1970-01-01T15:34:21\",\"1970-01-01T15:34:21\"],\"y\":[\"Carrier A\",\"Carrier A\",\"Carrier A\",\"Carrier A\",null,\"Carrier A\",\"Carrier A\",\"Carrier A\",\"Carrier A\",null,\"Carrier A\",\"Carrier A\",\"Carrier A\",\"Carrier A\",null,\"Carrier A\",\"Carrier A\",\"Carrier A\",\"Carrier A\",null,\"Carrier A\",\"Carrier A\",\"Carrier A\",\"Carrier A\",null],\"type\":\"scatter\"},{\"connectgaps\":false,\"hoverinfo\":\"y+name\",\"line\":{\"color\":\"rgb(0,233,245)\",\"width\":10},\"mode\":\"lines\",\"name\":\"loading:Carrier B\",\"x\":[\"1970-01-01T01:50:24\",\"1970-01-01T01:50:24\",\"1970-01-01T02:32:04\",\"1970-01-01T02:32:04\",\"1970-01-01T02:32:04\",\"1970-01-01T04:32:49\",\"1970-01-01T04:32:49\",\"1970-01-01T05:14:29\",\"1970-01-01T05:14:29\",\"1970-01-01T05:14:29\",\"1970-01-01T07:22:51\",\"1970-01-01T07:22:51\",\"1970-01-01T08:04:31\",\"1970-01-01T08:04:31\",\"1970-01-01T08:04:31\",\"1970-01-01T10:16:58\",\"1970-01-01T10:16:58\",\"1970-01-01T10:58:38\",\"1970-01-01T10:58:38\",\"1970-01-01T10:58:38\",\"1970-01-01T13:11:05\",\"1970-01-01T13:11:05\",\"1970-01-01T13:52:45\",\"1970-01-01T13:52:45\",\"1970-01-01T13:52:45\",\"1970-01-01T01:50:24\",\"1970-01-01T01:50:24\",\"1970-01-01T02:32:04\",\"1970-01-01T02:32:04\",\"1970-01-01T02:32:04\",\"1970-01-01T04:32:49\",\"1970-01-01T04:32:49\",\"1970-01-01T05:14:29\",\"1970-01-01T05:14:29\",\"1970-01-01T05:14:29\",\"1970-01-01T07:22:51\",\"1970-01-01T07:22:51\",\"1970-01-01T08:04:31\",\"1970-01-01T08:04:31\",\"1970-01-01T08:04:31\",\"1970-01-01T10:16:58\",\"1970-01-01T10:16:58\",\"1970-01-01T10:58:38\",\"1970-01-01T10:58:38\",\"1970-01-01T10:58:38\",\"1970-01-01T13:11:05\",\"1970-01-01T13:11:05\",\"1970-01-01T13:52:45\",\"1970-01-01T13:52:45\",\"1970-01-01T13:52:45\",\"1970-01-01T01:50:24\",\"1970-01-01T01:50:24\",\"1970-01-01T02:32:04\",\"1970-01-01T02:32:04\",\"1970-01-01T02:32:04\",\"1970-01-01T04:32:49\",\"1970-01-01T04:32:49\",\"1970-01-01T05:14:29\",\"1970-01-01T05:14:29\",\"1970-01-01T05:14:29\",\"1970-01-01T07:22:51\",\"1970-01-01T07:22:51\",\"1970-01-01T08:04:31\",\"1970-01-01T08:04:31\",\"1970-01-01T08:04:31\",\"1970-01-01T10:16:58\",\"1970-01-01T10:16:58\",\"1970-01-01T10:58:38\",\"1970-01-01T10:58:38\",\"1970-01-01T10:58:38\",\"1970-01-01T13:11:05\",\"1970-01-01T13:11:05\",\"1970-01-01T13:52:45\",\"1970-01-01T13:52:45\",\"1970-01-01T13:52:45\"],\"y\":[\"Carrier B\",\"Carrier B\",\"Carrier B\",\"Carrier B\",null,\"Carrier B\",\"Carrier B\",\"Carrier B\",\"Carrier B\",null,\"Carrier B\",\"Carrier B\",\"Carrier B\",\"Carrier B\",null,\"Carrier B\",\"Carrier B\",\"Carrier B\",\"Carrier B\",null,\"Carrier B\",\"Carrier B\",\"Carrier B\",\"Carrier B\",null,\"Cutter T\",\"Cutter T\",\"Cutter T\",\"Cutter T\",null,\"Cutter T\",\"Cutter T\",\"Cutter T\",\"Cutter T\",null,\"Cutter T\",\"Cutter T\",\"Cutter T\",\"Cutter T\",null,\"Cutter T\",\"Cutter T\",\"Cutter T\",\"Cutter T\",null,\"Cutter T\",\"Cutter T\",\"Cutter T\",\"Cutter T\",null,\"Trench\",\"Trench\",\"Trench\",\"Trench\",null,\"Trench\",\"Trench\",\"Trench\",\"Trench\",null,\"Trench\",\"Trench\",\"Trench\",\"Trench\",null,\"Trench\",\"Trench\",\"Trench\",\"Trench\",null,\"Trench\",\"Trench\",\"Trench\",\"Trench\",null],\"type\":\"scatter\"},{\"connectgaps\":false,\"hoverinfo\":\"y+name\",\"line\":{\"color\":\"rgb(9,242,254)\",\"width\":10},\"mode\":\"lines\",\"name\":\"sailing empty:Carrier B\",\"x\":[\"1970-01-01T00:00:00\",\"1970-01-01T00:00:00\",\"1970-01-01T00:40:15\",\"1970-01-01T00:40:15\",\"1970-01-01T00:40:15\",\"1970-01-01T03:52:34\",\"1970-01-01T03:52:34\",\"1970-01-01T04:32:49\",\"1970-01-01T04:32:49\",\"1970-01-01T04:32:49\",\"1970-01-01T06:34:59\",\"1970-01-01T06:34:59\",\"1970-01-01T07:15:14\",\"1970-01-01T07:15:14\",\"1970-01-01T07:15:14\",\"1970-01-01T09:25:01\",\"1970-01-01T09:25:01\",\"1970-01-01T10:05:16\",\"1970-01-01T10:05:16\",\"1970-01-01T10:05:16\",\"1970-01-01T12:19:08\",\"1970-01-01T12:19:08\",\"1970-01-01T12:59:23\",\"1970-01-01T12:59:23\",\"1970-01-01T12:59:23\"],\"y\":[\"Carrier B\",\"Carrier B\",\"Carrier B\",\"Carrier B\",null,\"Carrier B\",\"Carrier B\",\"Carrier B\",\"Carrier B\",null,\"Carrier B\",\"Carrier B\",\"Carrier B\",\"Carrier B\",null,\"Carrier B\",\"Carrier B\",\"Carrier B\",\"Carrier B\",null,\"Carrier B\",\"Carrier B\",\"Carrier B\",\"Carrier B\",null],\"type\":\"scatter\"},{\"connectgaps\":false,\"hoverinfo\":\"y+name\",\"line\":{\"color\":\"rgb(18,251,7)\",\"width\":10},\"mode\":\"lines\",\"name\":\"sailing full:Carrier B\",\"x\":[\"1970-01-01T02:32:04\",\"1970-01-01T02:32:04\",\"1970-01-01T03:12:19\",\"1970-01-01T03:12:19\",\"1970-01-01T03:12:19\",\"1970-01-01T05:14:29\",\"1970-01-01T05:14:29\",\"1970-01-01T05:54:44\",\"1970-01-01T05:54:44\",\"1970-01-01T05:54:44\",\"1970-01-01T08:04:31\",\"1970-01-01T08:04:31\",\"1970-01-01T08:44:46\",\"1970-01-01T08:44:46\",\"1970-01-01T08:44:46\",\"1970-01-01T10:58:38\",\"1970-01-01T10:58:38\",\"1970-01-01T11:38:53\",\"1970-01-01T11:38:53\",\"1970-01-01T11:38:53\",\"1970-01-01T13:52:45\",\"1970-01-01T13:52:45\",\"1970-01-01T14:33:00\",\"1970-01-01T14:33:00\",\"1970-01-01T14:33:00\"],\"y\":[\"Carrier B\",\"Carrier B\",\"Carrier B\",\"Carrier B\",null,\"Carrier B\",\"Carrier B\",\"Carrier B\",\"Carrier B\",null,\"Carrier B\",\"Carrier B\",\"Carrier B\",\"Carrier B\",null,\"Carrier B\",\"Carrier B\",\"Carrier B\",\"Carrier B\",null,\"Carrier B\",\"Carrier B\",\"Carrier B\",\"Carrier B\",null],\"type\":\"scatter\"},{\"connectgaps\":false,\"hoverinfo\":\"y+name\",\"line\":{\"color\":\"rgb(27,4,16)\",\"width\":10},\"mode\":\"lines\",\"name\":\"unloading:Carrier B\",\"x\":[\"1970-01-01T03:12:19\",\"1970-01-01T03:12:19\",\"1970-01-01T03:52:34\",\"1970-01-01T03:52:34\",\"1970-01-01T03:52:34\",\"1970-01-01T05:54:44\",\"1970-01-01T05:54:44\",\"1970-01-01T06:34:59\",\"1970-01-01T06:34:59\",\"1970-01-01T06:34:59\",\"1970-01-01T08:44:46\",\"1970-01-01T08:44:46\",\"1970-01-01T09:25:01\",\"1970-01-01T09:25:01\",\"1970-01-01T09:25:01\",\"1970-01-01T11:38:53\",\"1970-01-01T11:38:53\",\"1970-01-01T12:19:08\",\"1970-01-01T12:19:08\",\"1970-01-01T12:19:08\",\"1970-01-01T14:33:00\",\"1970-01-01T14:33:00\",\"1970-01-01T15:13:15\",\"1970-01-01T15:13:15\",\"1970-01-01T15:13:15\",\"1970-01-01T03:12:19\",\"1970-01-01T03:12:19\",\"1970-01-01T03:52:34\",\"1970-01-01T03:52:34\",\"1970-01-01T03:52:34\",\"1970-01-01T05:54:44\",\"1970-01-01T05:54:44\",\"1970-01-01T06:34:59\",\"1970-01-01T06:34:59\",\"1970-01-01T06:34:59\",\"1970-01-01T08:44:46\",\"1970-01-01T08:44:46\",\"1970-01-01T09:25:01\",\"1970-01-01T09:25:01\",\"1970-01-01T09:25:01\",\"1970-01-01T11:38:53\",\"1970-01-01T11:38:53\",\"1970-01-01T12:19:08\",\"1970-01-01T12:19:08\",\"1970-01-01T12:19:08\",\"1970-01-01T14:33:00\",\"1970-01-01T14:33:00\",\"1970-01-01T15:13:15\",\"1970-01-01T15:13:15\",\"1970-01-01T15:13:15\"],\"y\":[\"Carrier B\",\"Carrier B\",\"Carrier B\",\"Carrier B\",null,\"Carrier B\",\"Carrier B\",\"Carrier B\",\"Carrier B\",null,\"Carrier B\",\"Carrier B\",\"Carrier B\",\"Carrier B\",null,\"Carrier B\",\"Carrier B\",\"Carrier B\",\"Carrier B\",null,\"Carrier B\",\"Carrier B\",\"Carrier B\",\"Carrier B\",null,\"Reclamation\",\"Reclamation\",\"Reclamation\",\"Reclamation\",null,\"Reclamation\",\"Reclamation\",\"Reclamation\",\"Reclamation\",null,\"Reclamation\",\"Reclamation\",\"Reclamation\",\"Reclamation\",null,\"Reclamation\",\"Reclamation\",\"Reclamation\",\"Reclamation\",null,\"Reclamation\",\"Reclamation\",\"Reclamation\",\"Reclamation\",null],\"type\":\"scatter\"},{\"connectgaps\":false,\"hoverinfo\":\"y+name\",\"line\":{\"color\":\"rgb(36,13,25)\",\"width\":10},\"mode\":\"lines\",\"name\":\"unloading:Carrier C\",\"x\":[\"1970-01-01T01:44:08\",\"1970-01-01T01:44:08\",\"1970-01-01T02:19:32\",\"1970-01-01T02:19:32\",\"1970-01-01T02:19:32\",\"1970-01-01T04:22:28\",\"1970-01-01T04:22:28\",\"1970-01-01T04:57:52\",\"1970-01-01T04:57:52\",\"1970-01-01T04:57:52\",\"1970-01-01T07:16:35\",\"1970-01-01T07:16:35\",\"1970-01-01T07:51:59\",\"1970-01-01T07:51:59\",\"1970-01-01T07:51:59\",\"1970-01-01T10:10:42\",\"1970-01-01T10:10:42\",\"1970-01-01T10:46:06\",\"1970-01-01T10:46:06\",\"1970-01-01T10:46:06\",\"1970-01-01T13:04:49\",\"1970-01-01T13:04:49\",\"1970-01-01T13:40:13\",\"1970-01-01T13:40:13\",\"1970-01-01T13:40:13\",\"1970-01-01T15:58:56\",\"1970-01-01T15:58:56\",\"1970-01-01T16:34:20\",\"1970-01-01T16:34:20\",\"1970-01-01T16:34:20\",\"1970-01-01T01:44:08\",\"1970-01-01T01:44:08\",\"1970-01-01T02:19:32\",\"1970-01-01T02:19:32\",\"1970-01-01T02:19:32\",\"1970-01-01T04:22:28\",\"1970-01-01T04:22:28\",\"1970-01-01T04:57:52\",\"1970-01-01T04:57:52\",\"1970-01-01T04:57:52\",\"1970-01-01T07:16:35\",\"1970-01-01T07:16:35\",\"1970-01-01T07:51:59\",\"1970-01-01T07:51:59\",\"1970-01-01T07:51:59\",\"1970-01-01T10:10:42\",\"1970-01-01T10:10:42\",\"1970-01-01T10:46:06\",\"1970-01-01T10:46:06\",\"1970-01-01T10:46:06\",\"1970-01-01T13:04:49\",\"1970-01-01T13:04:49\",\"1970-01-01T13:40:13\",\"1970-01-01T13:40:13\",\"1970-01-01T13:40:13\",\"1970-01-01T15:58:56\",\"1970-01-01T15:58:56\",\"1970-01-01T16:34:20\",\"1970-01-01T16:34:20\",\"1970-01-01T16:34:20\"],\"y\":[\"Carrier C\",\"Carrier C\",\"Carrier C\",\"Carrier C\",null,\"Carrier C\",\"Carrier C\",\"Carrier C\",\"Carrier C\",null,\"Carrier C\",\"Carrier C\",\"Carrier C\",\"Carrier C\",null,\"Carrier C\",\"Carrier C\",\"Carrier C\",\"Carrier C\",null,\"Carrier C\",\"Carrier C\",\"Carrier C\",\"Carrier C\",null,\"Carrier C\",\"Carrier C\",\"Carrier C\",\"Carrier C\",null,\"Reclamation\",\"Reclamation\",\"Reclamation\",\"Reclamation\",null,\"Reclamation\",\"Reclamation\",\"Reclamation\",\"Reclamation\",null,\"Reclamation\",\"Reclamation\",\"Reclamation\",\"Reclamation\",null,\"Reclamation\",\"Reclamation\",\"Reclamation\",\"Reclamation\",null,\"Reclamation\",\"Reclamation\",\"Reclamation\",\"Reclamation\",null,\"Reclamation\",\"Reclamation\",\"Reclamation\",\"Reclamation\",null],\"type\":\"scatter\"},{\"connectgaps\":false,\"hoverinfo\":\"y+name\",\"line\":{\"color\":\"rgb(45,22,34)\",\"width\":10},\"mode\":\"lines\",\"name\":\"loading:Carrier C\",\"x\":[\"1970-01-01T00:35:24\",\"1970-01-01T00:35:24\",\"1970-01-01T01:08:44\",\"1970-01-01T01:08:44\",\"1970-01-01T01:08:44\",\"1970-01-01T03:13:44\",\"1970-01-01T03:13:44\",\"1970-01-01T03:47:04\",\"1970-01-01T03:47:04\",\"1970-01-01T03:47:04\",\"1970-01-01T06:07:51\",\"1970-01-01T06:07:51\",\"1970-01-01T06:41:11\",\"1970-01-01T06:41:11\",\"1970-01-01T06:41:11\",\"1970-01-01T09:01:58\",\"1970-01-01T09:01:58\",\"1970-01-01T09:35:18\",\"1970-01-01T09:35:18\",\"1970-01-01T09:35:18\",\"1970-01-01T11:56:05\",\"1970-01-01T11:56:05\",\"1970-01-01T12:29:25\",\"1970-01-01T12:29:25\",\"1970-01-01T12:29:25\",\"1970-01-01T14:50:12\",\"1970-01-01T14:50:12\",\"1970-01-01T15:23:32\",\"1970-01-01T15:23:32\",\"1970-01-01T15:23:32\",\"1970-01-01T00:35:24\",\"1970-01-01T00:35:24\",\"1970-01-01T01:08:44\",\"1970-01-01T01:08:44\",\"1970-01-01T01:08:44\",\"1970-01-01T03:13:44\",\"1970-01-01T03:13:44\",\"1970-01-01T03:47:04\",\"1970-01-01T03:47:04\",\"1970-01-01T03:47:04\",\"1970-01-01T06:07:51\",\"1970-01-01T06:07:51\",\"1970-01-01T06:41:11\",\"1970-01-01T06:41:11\",\"1970-01-01T06:41:11\",\"1970-01-01T09:01:58\",\"1970-01-01T09:01:58\",\"1970-01-01T09:35:18\",\"1970-01-01T09:35:18\",\"1970-01-01T09:35:18\",\"1970-01-01T11:56:05\",\"1970-01-01T11:56:05\",\"1970-01-01T12:29:25\",\"1970-01-01T12:29:25\",\"1970-01-01T12:29:25\",\"1970-01-01T14:50:12\",\"1970-01-01T14:50:12\",\"1970-01-01T15:23:32\",\"1970-01-01T15:23:32\",\"1970-01-01T15:23:32\",\"1970-01-01T00:35:24\",\"1970-01-01T00:35:24\",\"1970-01-01T01:08:44\",\"1970-01-01T01:08:44\",\"1970-01-01T01:08:44\",\"1970-01-01T03:13:44\",\"1970-01-01T03:13:44\",\"1970-01-01T03:47:04\",\"1970-01-01T03:47:04\",\"1970-01-01T03:47:04\",\"1970-01-01T06:07:51\",\"1970-01-01T06:07:51\",\"1970-01-01T06:41:11\",\"1970-01-01T06:41:11\",\"1970-01-01T06:41:11\",\"1970-01-01T09:01:58\",\"1970-01-01T09:01:58\",\"1970-01-01T09:35:18\",\"1970-01-01T09:35:18\",\"1970-01-01T09:35:18\",\"1970-01-01T11:56:05\",\"1970-01-01T11:56:05\",\"1970-01-01T12:29:25\",\"1970-01-01T12:29:25\",\"1970-01-01T12:29:25\",\"1970-01-01T14:50:12\",\"1970-01-01T14:50:12\",\"1970-01-01T15:23:32\",\"1970-01-01T15:23:32\",\"1970-01-01T15:23:32\"],\"y\":[\"Carrier C\",\"Carrier C\",\"Carrier C\",\"Carrier C\",null,\"Carrier C\",\"Carrier C\",\"Carrier C\",\"Carrier C\",null,\"Carrier C\",\"Carrier C\",\"Carrier C\",\"Carrier C\",null,\"Carrier C\",\"Carrier C\",\"Carrier C\",\"Carrier C\",null,\"Carrier C\",\"Carrier C\",\"Carrier C\",\"Carrier C\",null,\"Carrier C\",\"Carrier C\",\"Carrier C\",\"Carrier C\",null,\"Cutter T\",\"Cutter T\",\"Cutter T\",\"Cutter T\",null,\"Cutter T\",\"Cutter T\",\"Cutter T\",\"Cutter T\",null,\"Cutter T\",\"Cutter T\",\"Cutter T\",\"Cutter T\",null,\"Cutter T\",\"Cutter T\",\"Cutter T\",\"Cutter T\",null,\"Cutter T\",\"Cutter T\",\"Cutter T\",\"Cutter T\",null,\"Cutter T\",\"Cutter T\",\"Cutter T\",\"Cutter T\",null,\"Trench\",\"Trench\",\"Trench\",\"Trench\",null,\"Trench\",\"Trench\",\"Trench\",\"Trench\",null,\"Trench\",\"Trench\",\"Trench\",\"Trench\",null,\"Trench\",\"Trench\",\"Trench\",\"Trench\",null,\"Trench\",\"Trench\",\"Trench\",\"Trench\",null,\"Trench\",\"Trench\",\"Trench\",\"Trench\",null],\"type\":\"scatter\"},{\"connectgaps\":false,\"hoverinfo\":\"y+name\",\"line\":{\"color\":\"rgb(54,31,43)\",\"width\":10},\"mode\":\"lines\",\"name\":\"sailing empty:Carrier C\",\"x\":[\"1970-01-01T00:00:00\",\"1970-01-01T00:00:00\",\"1970-01-01T00:35:24\",\"1970-01-01T00:35:24\",\"1970-01-01T00:35:24\",\"1970-01-01T02:19:32\",\"1970-01-01T02:19:32\",\"1970-01-01T02:54:56\",\"1970-01-01T02:54:56\",\"1970-01-01T02:54:56\",\"1970-01-01T04:57:52\",\"1970-01-01T04:57:52\",\"1970-01-01T05:33:16\",\"1970-01-01T05:33:16\",\"1970-01-01T05:33:16\",\"1970-01-01T07:51:59\",\"1970-01-01T07:51:59\",\"1970-01-01T08:27:23\",\"1970-01-01T08:27:23\",\"1970-01-01T08:27:23\",\"1970-01-01T10:46:06\",\"1970-01-01T10:46:06\",\"1970-01-01T11:21:30\",\"1970-01-01T11:21:30\",\"1970-01-01T11:21:30\",\"1970-01-01T13:40:13\",\"1970-01-01T13:40:13\",\"1970-01-01T14:15:37\",\"1970-01-01T14:15:37\",\"1970-01-01T14:15:37\"],\"y\":[\"Carrier C\",\"Carrier C\",\"Carrier C\",\"Carrier C\",null,\"Carrier C\",\"Carrier C\",\"Carrier C\",\"Carrier C\",null,\"Carrier C\",\"Carrier C\",\"Carrier C\",\"Carrier C\",null,\"Carrier C\",\"Carrier C\",\"Carrier C\",\"Carrier C\",null,\"Carrier C\",\"Carrier C\",\"Carrier C\",\"Carrier C\",null,\"Carrier C\",\"Carrier C\",\"Carrier C\",\"Carrier C\",null],\"type\":\"scatter\"},{\"connectgaps\":false,\"hoverinfo\":\"y+name\",\"line\":{\"color\":\"rgb(63,40,52)\",\"width\":10},\"mode\":\"lines\",\"name\":\"sailing full:Carrier C\",\"x\":[\"1970-01-01T01:08:44\",\"1970-01-01T01:08:44\",\"1970-01-01T01:44:08\",\"1970-01-01T01:44:08\",\"1970-01-01T01:44:08\",\"1970-01-01T03:47:04\",\"1970-01-01T03:47:04\",\"1970-01-01T04:22:28\",\"1970-01-01T04:22:28\",\"1970-01-01T04:22:28\",\"1970-01-01T06:41:11\",\"1970-01-01T06:41:11\",\"1970-01-01T07:16:35\",\"1970-01-01T07:16:35\",\"1970-01-01T07:16:35\",\"1970-01-01T09:35:18\",\"1970-01-01T09:35:18\",\"1970-01-01T10:10:42\",\"1970-01-01T10:10:42\",\"1970-01-01T10:10:42\",\"1970-01-01T12:29:25\",\"1970-01-01T12:29:25\",\"1970-01-01T13:04:49\",\"1970-01-01T13:04:49\",\"1970-01-01T13:04:49\",\"1970-01-01T15:23:32\",\"1970-01-01T15:23:32\",\"1970-01-01T15:58:56\",\"1970-01-01T15:58:56\",\"1970-01-01T15:58:56\"],\"y\":[\"Carrier C\",\"Carrier C\",\"Carrier C\",\"Carrier C\",null,\"Carrier C\",\"Carrier C\",\"Carrier C\",\"Carrier C\",null,\"Carrier C\",\"Carrier C\",\"Carrier C\",\"Carrier C\",null,\"Carrier C\",\"Carrier C\",\"Carrier C\",\"Carrier C\",null,\"Carrier C\",\"Carrier C\",\"Carrier C\",\"Carrier C\",null,\"Carrier C\",\"Carrier C\",\"Carrier C\",\"Carrier C\",null],\"type\":\"scatter\"},{\"connectgaps\":false,\"hoverinfo\":\"y+name\",\"line\":{\"color\":\"rgb(72,49,61)\",\"width\":10},\"mode\":\"lines\",\"name\":\"loading:Barge I\",\"x\":[\"1970-01-01T01:08:44\",\"1970-01-01T01:08:44\",\"1970-01-01T01:50:24\",\"1970-01-01T01:50:24\",\"1970-01-01T01:50:24\",\"1970-01-01T03:48:51\",\"1970-01-01T03:48:51\",\"1970-01-01T04:30:31\",\"1970-01-01T04:30:31\",\"1970-01-01T04:30:31\",\"1970-01-01T06:41:11\",\"1970-01-01T06:41:11\",\"1970-01-01T07:22:51\",\"1970-01-01T07:22:51\",\"1970-01-01T07:22:51\",\"1970-01-01T09:35:18\",\"1970-01-01T09:35:18\",\"1970-01-01T10:16:58\",\"1970-01-01T10:16:58\",\"1970-01-01T10:16:58\",\"1970-01-01T12:29:25\",\"1970-01-01T12:29:25\",\"1970-01-01T13:11:05\",\"1970-01-01T13:11:05\",\"1970-01-01T13:11:05\",\"1970-01-01T15:23:32\",\"1970-01-01T15:23:32\",\"1970-01-01T16:05:12\",\"1970-01-01T16:05:12\",\"1970-01-01T16:05:12\",\"1970-01-01T01:08:44\",\"1970-01-01T01:08:44\",\"1970-01-01T01:50:24\",\"1970-01-01T01:50:24\",\"1970-01-01T01:50:24\",\"1970-01-01T03:48:51\",\"1970-01-01T03:48:51\",\"1970-01-01T04:30:31\",\"1970-01-01T04:30:31\",\"1970-01-01T04:30:31\",\"1970-01-01T06:41:11\",\"1970-01-01T06:41:11\",\"1970-01-01T07:22:51\",\"1970-01-01T07:22:51\",\"1970-01-01T07:22:51\",\"1970-01-01T09:35:18\",\"1970-01-01T09:35:18\",\"1970-01-01T10:16:58\",\"1970-01-01T10:16:58\",\"1970-01-01T10:16:58\",\"1970-01-01T12:29:25\",\"1970-01-01T12:29:25\",\"1970-01-01T13:11:05\",\"1970-01-01T13:11:05\",\"1970-01-01T13:11:05\",\"1970-01-01T15:23:32\",\"1970-01-01T15:23:32\",\"1970-01-01T16:05:12\",\"1970-01-01T16:05:12\",\"1970-01-01T16:05:12\",\"1970-01-01T01:08:44\",\"1970-01-01T01:08:44\",\"1970-01-01T01:50:24\",\"1970-01-01T01:50:24\",\"1970-01-01T01:50:24\",\"1970-01-01T03:48:51\",\"1970-01-01T03:48:51\",\"1970-01-01T04:30:31\",\"1970-01-01T04:30:31\",\"1970-01-01T04:30:31\",\"1970-01-01T06:41:11\",\"1970-01-01T06:41:11\",\"1970-01-01T07:22:51\",\"1970-01-01T07:22:51\",\"1970-01-01T07:22:51\",\"1970-01-01T09:35:18\",\"1970-01-01T09:35:18\",\"1970-01-01T10:16:58\",\"1970-01-01T10:16:58\",\"1970-01-01T10:16:58\",\"1970-01-01T12:29:25\",\"1970-01-01T12:29:25\",\"1970-01-01T13:11:05\",\"1970-01-01T13:11:05\",\"1970-01-01T13:11:05\",\"1970-01-01T15:23:32\",\"1970-01-01T15:23:32\",\"1970-01-01T16:05:12\",\"1970-01-01T16:05:12\",\"1970-01-01T16:05:12\"],\"y\":[\"Barge I\",\"Barge I\",\"Barge I\",\"Barge I\",null,\"Barge I\",\"Barge I\",\"Barge I\",\"Barge I\",null,\"Barge I\",\"Barge I\",\"Barge I\",\"Barge I\",null,\"Barge I\",\"Barge I\",\"Barge I\",\"Barge I\",null,\"Barge I\",\"Barge I\",\"Barge I\",\"Barge I\",null,\"Barge I\",\"Barge I\",\"Barge I\",\"Barge I\",null,\"Cutter T\",\"Cutter T\",\"Cutter T\",\"Cutter T\",null,\"Cutter T\",\"Cutter T\",\"Cutter T\",\"Cutter T\",null,\"Cutter T\",\"Cutter T\",\"Cutter T\",\"Cutter T\",null,\"Cutter T\",\"Cutter T\",\"Cutter T\",\"Cutter T\",null,\"Cutter T\",\"Cutter T\",\"Cutter T\",\"Cutter T\",null,\"Cutter T\",\"Cutter T\",\"Cutter T\",\"Cutter T\",null,\"Trench\",\"Trench\",\"Trench\",\"Trench\",null,\"Trench\",\"Trench\",\"Trench\",\"Trench\",null,\"Trench\",\"Trench\",\"Trench\",\"Trench\",null,\"Trench\",\"Trench\",\"Trench\",\"Trench\",null,\"Trench\",\"Trench\",\"Trench\",\"Trench\",null,\"Trench\",\"Trench\",\"Trench\",\"Trench\",null],\"type\":\"scatter\"},{\"connectgaps\":false,\"hoverinfo\":\"y+name\",\"line\":{\"color\":\"rgb(81,58,70)\",\"width\":10},\"mode\":\"lines\",\"name\":\"sailing empty:Barge I\",\"x\":[\"1970-01-01T00:00:00\",\"1970-01-01T00:00:00\",\"1970-01-01T00:39:29\",\"1970-01-01T00:39:29\",\"1970-01-01T00:39:29\",\"1970-01-01T03:09:22\",\"1970-01-01T03:09:22\",\"1970-01-01T03:48:51\",\"1970-01-01T03:48:51\",\"1970-01-01T03:48:51\",\"1970-01-01T05:49:29\",\"1970-01-01T05:49:29\",\"1970-01-01T06:28:58\",\"1970-01-01T06:28:58\",\"1970-01-01T06:28:58\",\"1970-01-01T08:41:49\",\"1970-01-01T08:41:49\",\"1970-01-01T09:21:18\",\"1970-01-01T09:21:18\",\"1970-01-01T09:21:18\",\"1970-01-01T11:35:56\",\"1970-01-01T11:35:56\",\"1970-01-01T12:15:25\",\"1970-01-01T12:15:25\",\"1970-01-01T12:15:25\",\"1970-01-01T14:30:03\",\"1970-01-01T14:30:03\",\"1970-01-01T15:09:32\",\"1970-01-01T15:09:32\",\"1970-01-01T15:09:32\"],\"y\":[\"Barge I\",\"Barge I\",\"Barge I\",\"Barge I\",null,\"Barge I\",\"Barge I\",\"Barge I\",\"Barge I\",null,\"Barge I\",\"Barge I\",\"Barge I\",\"Barge I\",null,\"Barge I\",\"Barge I\",\"Barge I\",\"Barge I\",null,\"Barge I\",\"Barge I\",\"Barge I\",\"Barge I\",null,\"Barge I\",\"Barge I\",\"Barge I\",\"Barge I\",null],\"type\":\"scatter\"},{\"connectgaps\":false,\"hoverinfo\":\"y+name\",\"line\":{\"color\":\"rgb(90,67,79)\",\"width\":10},\"mode\":\"lines\",\"name\":\"unloading:Barge I\",\"x\":[\"1970-01-01T02:29:53\",\"1970-01-01T02:29:53\",\"1970-01-01T03:09:22\",\"1970-01-01T03:09:22\",\"1970-01-01T03:09:22\",\"1970-01-01T05:10:00\",\"1970-01-01T05:10:00\",\"1970-01-01T05:49:29\",\"1970-01-01T05:49:29\",\"1970-01-01T05:49:29\",\"1970-01-01T08:02:20\",\"1970-01-01T08:02:20\",\"1970-01-01T08:41:49\",\"1970-01-01T08:41:49\",\"1970-01-01T08:41:49\",\"1970-01-01T10:56:27\",\"1970-01-01T10:56:27\",\"1970-01-01T11:35:56\",\"1970-01-01T11:35:56\",\"1970-01-01T11:35:56\",\"1970-01-01T13:50:34\",\"1970-01-01T13:50:34\",\"1970-01-01T14:30:03\",\"1970-01-01T14:30:03\",\"1970-01-01T14:30:03\",\"1970-01-01T16:44:41\",\"1970-01-01T16:44:41\",\"1970-01-01T17:24:10\",\"1970-01-01T17:24:10\",\"1970-01-01T17:24:10\",\"1970-01-01T02:29:53\",\"1970-01-01T02:29:53\",\"1970-01-01T03:09:22\",\"1970-01-01T03:09:22\",\"1970-01-01T03:09:22\",\"1970-01-01T05:10:00\",\"1970-01-01T05:10:00\",\"1970-01-01T05:49:29\",\"1970-01-01T05:49:29\",\"1970-01-01T05:49:29\",\"1970-01-01T08:02:20\",\"1970-01-01T08:02:20\",\"1970-01-01T08:41:49\",\"1970-01-01T08:41:49\",\"1970-01-01T08:41:49\",\"1970-01-01T10:56:27\",\"1970-01-01T10:56:27\",\"1970-01-01T11:35:56\",\"1970-01-01T11:35:56\",\"1970-01-01T11:35:56\",\"1970-01-01T13:50:34\",\"1970-01-01T13:50:34\",\"1970-01-01T14:30:03\",\"1970-01-01T14:30:03\",\"1970-01-01T14:30:03\",\"1970-01-01T16:44:41\",\"1970-01-01T16:44:41\",\"1970-01-01T17:24:10\",\"1970-01-01T17:24:10\",\"1970-01-01T17:24:10\"],\"y\":[\"Barge I\",\"Barge I\",\"Barge I\",\"Barge I\",null,\"Barge I\",\"Barge I\",\"Barge I\",\"Barge I\",null,\"Barge I\",\"Barge I\",\"Barge I\",\"Barge I\",null,\"Barge I\",\"Barge I\",\"Barge I\",\"Barge I\",null,\"Barge I\",\"Barge I\",\"Barge I\",\"Barge I\",null,\"Barge I\",\"Barge I\",\"Barge I\",\"Barge I\",null,\"Reclamation\",\"Reclamation\",\"Reclamation\",\"Reclamation\",null,\"Reclamation\",\"Reclamation\",\"Reclamation\",\"Reclamation\",null,\"Reclamation\",\"Reclamation\",\"Reclamation\",\"Reclamation\",null,\"Reclamation\",\"Reclamation\",\"Reclamation\",\"Reclamation\",null,\"Reclamation\",\"Reclamation\",\"Reclamation\",\"Reclamation\",null,\"Reclamation\",\"Reclamation\",\"Reclamation\",\"Reclamation\",null],\"type\":\"scatter\"},{\"connectgaps\":false,\"hoverinfo\":\"y+name\",\"line\":{\"color\":\"rgb(99,76,88)\",\"width\":10},\"mode\":\"lines\",\"name\":\"sailing full:Barge I\",\"x\":[\"1970-01-01T01:50:24\",\"1970-01-01T01:50:24\",\"1970-01-01T02:29:53\",\"1970-01-01T02:29:53\",\"1970-01-01T02:29:53\",\"1970-01-01T04:30:31\",\"1970-01-01T04:30:31\",\"1970-01-01T05:10:00\",\"1970-01-01T05:10:00\",\"1970-01-01T05:10:00\",\"1970-01-01T07:22:51\",\"1970-01-01T07:22:51\",\"1970-01-01T08:02:20\",\"1970-01-01T08:02:20\",\"1970-01-01T08:02:20\",\"1970-01-01T10:16:58\",\"1970-01-01T10:16:58\",\"1970-01-01T10:56:27\",\"1970-01-01T10:56:27\",\"1970-01-01T10:56:27\",\"1970-01-01T13:11:05\",\"1970-01-01T13:11:05\",\"1970-01-01T13:50:34\",\"1970-01-01T13:50:34\",\"1970-01-01T13:50:34\",\"1970-01-01T16:05:12\",\"1970-01-01T16:05:12\",\"1970-01-01T16:44:41\",\"1970-01-01T16:44:41\",\"1970-01-01T16:44:41\"],\"y\":[\"Barge I\",\"Barge I\",\"Barge I\",\"Barge I\",null,\"Barge I\",\"Barge I\",\"Barge I\",\"Barge I\",null,\"Barge I\",\"Barge I\",\"Barge I\",\"Barge I\",null,\"Barge I\",\"Barge I\",\"Barge I\",\"Barge I\",null,\"Barge I\",\"Barge I\",\"Barge I\",\"Barge I\",null,\"Barge I\",\"Barge I\",\"Barge I\",\"Barge I\",null],\"type\":\"scatter\"},{\"connectgaps\":false,\"hoverinfo\":\"y+name\",\"line\":{\"color\":\"rgb(108,85,97)\",\"width\":10},\"mode\":\"lines\",\"name\":\"loading:Barge I\",\"x\":[\"1970-01-01T01:08:44\",\"1970-01-01T01:08:44\",\"1970-01-01T01:50:24\",\"1970-01-01T01:50:24\",\"1970-01-01T01:50:24\",\"1970-01-01T03:48:51\",\"1970-01-01T03:48:51\",\"1970-01-01T04:30:31\",\"1970-01-01T04:30:31\",\"1970-01-01T04:30:31\",\"1970-01-01T06:41:11\",\"1970-01-01T06:41:11\",\"1970-01-01T07:22:51\",\"1970-01-01T07:22:51\",\"1970-01-01T07:22:51\",\"1970-01-01T09:35:18\",\"1970-01-01T09:35:18\",\"1970-01-01T10:16:58\",\"1970-01-01T10:16:58\",\"1970-01-01T10:16:58\",\"1970-01-01T12:29:25\",\"1970-01-01T12:29:25\",\"1970-01-01T13:11:05\",\"1970-01-01T13:11:05\",\"1970-01-01T13:11:05\",\"1970-01-01T15:23:32\",\"1970-01-01T15:23:32\",\"1970-01-01T16:05:12\",\"1970-01-01T16:05:12\",\"1970-01-01T16:05:12\",\"1970-01-01T01:08:44\",\"1970-01-01T01:08:44\",\"1970-01-01T01:50:24\",\"1970-01-01T01:50:24\",\"1970-01-01T01:50:24\",\"1970-01-01T03:48:51\",\"1970-01-01T03:48:51\",\"1970-01-01T04:30:31\",\"1970-01-01T04:30:31\",\"1970-01-01T04:30:31\",\"1970-01-01T06:41:11\",\"1970-01-01T06:41:11\",\"1970-01-01T07:22:51\",\"1970-01-01T07:22:51\",\"1970-01-01T07:22:51\",\"1970-01-01T09:35:18\",\"1970-01-01T09:35:18\",\"1970-01-01T10:16:58\",\"1970-01-01T10:16:58\",\"1970-01-01T10:16:58\",\"1970-01-01T12:29:25\",\"1970-01-01T12:29:25\",\"1970-01-01T13:11:05\",\"1970-01-01T13:11:05\",\"1970-01-01T13:11:05\",\"1970-01-01T15:23:32\",\"1970-01-01T15:23:32\",\"1970-01-01T16:05:12\",\"1970-01-01T16:05:12\",\"1970-01-01T16:05:12\",\"1970-01-01T01:08:44\",\"1970-01-01T01:08:44\",\"1970-01-01T01:50:24\",\"1970-01-01T01:50:24\",\"1970-01-01T01:50:24\",\"1970-01-01T03:48:51\",\"1970-01-01T03:48:51\",\"1970-01-01T04:30:31\",\"1970-01-01T04:30:31\",\"1970-01-01T04:30:31\",\"1970-01-01T06:41:11\",\"1970-01-01T06:41:11\",\"1970-01-01T07:22:51\",\"1970-01-01T07:22:51\",\"1970-01-01T07:22:51\",\"1970-01-01T09:35:18\",\"1970-01-01T09:35:18\",\"1970-01-01T10:16:58\",\"1970-01-01T10:16:58\",\"1970-01-01T10:16:58\",\"1970-01-01T12:29:25\",\"1970-01-01T12:29:25\",\"1970-01-01T13:11:05\",\"1970-01-01T13:11:05\",\"1970-01-01T13:11:05\",\"1970-01-01T15:23:32\",\"1970-01-01T15:23:32\",\"1970-01-01T16:05:12\",\"1970-01-01T16:05:12\",\"1970-01-01T16:05:12\"],\"y\":[\"Barge I\",\"Barge I\",\"Barge I\",\"Barge I\",null,\"Barge I\",\"Barge I\",\"Barge I\",\"Barge I\",null,\"Barge I\",\"Barge I\",\"Barge I\",\"Barge I\",null,\"Barge I\",\"Barge I\",\"Barge I\",\"Barge I\",null,\"Barge I\",\"Barge I\",\"Barge I\",\"Barge I\",null,\"Barge I\",\"Barge I\",\"Barge I\",\"Barge I\",null,\"Cutter T\",\"Cutter T\",\"Cutter T\",\"Cutter T\",null,\"Cutter T\",\"Cutter T\",\"Cutter T\",\"Cutter T\",null,\"Cutter T\",\"Cutter T\",\"Cutter T\",\"Cutter T\",null,\"Cutter T\",\"Cutter T\",\"Cutter T\",\"Cutter T\",null,\"Cutter T\",\"Cutter T\",\"Cutter T\",\"Cutter T\",null,\"Cutter T\",\"Cutter T\",\"Cutter T\",\"Cutter T\",null,\"Trench\",\"Trench\",\"Trench\",\"Trench\",null,\"Trench\",\"Trench\",\"Trench\",\"Trench\",null,\"Trench\",\"Trench\",\"Trench\",\"Trench\",null,\"Trench\",\"Trench\",\"Trench\",\"Trench\",null,\"Trench\",\"Trench\",\"Trench\",\"Trench\",null,\"Trench\",\"Trench\",\"Trench\",\"Trench\",null],\"type\":\"scatter\"},{\"connectgaps\":false,\"hoverinfo\":\"y+name\",\"line\":{\"color\":\"rgb(117,94,106)\",\"width\":10},\"mode\":\"lines\",\"name\":\"loading:Carrier B\",\"x\":[\"1970-01-01T01:50:24\",\"1970-01-01T01:50:24\",\"1970-01-01T02:32:04\",\"1970-01-01T02:32:04\",\"1970-01-01T02:32:04\",\"1970-01-01T04:32:49\",\"1970-01-01T04:32:49\",\"1970-01-01T05:14:29\",\"1970-01-01T05:14:29\",\"1970-01-01T05:14:29\",\"1970-01-01T07:22:51\",\"1970-01-01T07:22:51\",\"1970-01-01T08:04:31\",\"1970-01-01T08:04:31\",\"1970-01-01T08:04:31\",\"1970-01-01T10:16:58\",\"1970-01-01T10:16:58\",\"1970-01-01T10:58:38\",\"1970-01-01T10:58:38\",\"1970-01-01T10:58:38\",\"1970-01-01T13:11:05\",\"1970-01-01T13:11:05\",\"1970-01-01T13:52:45\",\"1970-01-01T13:52:45\",\"1970-01-01T13:52:45\",\"1970-01-01T01:50:24\",\"1970-01-01T01:50:24\",\"1970-01-01T02:32:04\",\"1970-01-01T02:32:04\",\"1970-01-01T02:32:04\",\"1970-01-01T04:32:49\",\"1970-01-01T04:32:49\",\"1970-01-01T05:14:29\",\"1970-01-01T05:14:29\",\"1970-01-01T05:14:29\",\"1970-01-01T07:22:51\",\"1970-01-01T07:22:51\",\"1970-01-01T08:04:31\",\"1970-01-01T08:04:31\",\"1970-01-01T08:04:31\",\"1970-01-01T10:16:58\",\"1970-01-01T10:16:58\",\"1970-01-01T10:58:38\",\"1970-01-01T10:58:38\",\"1970-01-01T10:58:38\",\"1970-01-01T13:11:05\",\"1970-01-01T13:11:05\",\"1970-01-01T13:52:45\",\"1970-01-01T13:52:45\",\"1970-01-01T13:52:45\",\"1970-01-01T01:50:24\",\"1970-01-01T01:50:24\",\"1970-01-01T02:32:04\",\"1970-01-01T02:32:04\",\"1970-01-01T02:32:04\",\"1970-01-01T04:32:49\",\"1970-01-01T04:32:49\",\"1970-01-01T05:14:29\",\"1970-01-01T05:14:29\",\"1970-01-01T05:14:29\",\"1970-01-01T07:22:51\",\"1970-01-01T07:22:51\",\"1970-01-01T08:04:31\",\"1970-01-01T08:04:31\",\"1970-01-01T08:04:31\",\"1970-01-01T10:16:58\",\"1970-01-01T10:16:58\",\"1970-01-01T10:58:38\",\"1970-01-01T10:58:38\",\"1970-01-01T10:58:38\",\"1970-01-01T13:11:05\",\"1970-01-01T13:11:05\",\"1970-01-01T13:52:45\",\"1970-01-01T13:52:45\",\"1970-01-01T13:52:45\"],\"y\":[\"Carrier B\",\"Carrier B\",\"Carrier B\",\"Carrier B\",null,\"Carrier B\",\"Carrier B\",\"Carrier B\",\"Carrier B\",null,\"Carrier B\",\"Carrier B\",\"Carrier B\",\"Carrier B\",null,\"Carrier B\",\"Carrier B\",\"Carrier B\",\"Carrier B\",null,\"Carrier B\",\"Carrier B\",\"Carrier B\",\"Carrier B\",null,\"Cutter T\",\"Cutter T\",\"Cutter T\",\"Cutter T\",null,\"Cutter T\",\"Cutter T\",\"Cutter T\",\"Cutter T\",null,\"Cutter T\",\"Cutter T\",\"Cutter T\",\"Cutter T\",null,\"Cutter T\",\"Cutter T\",\"Cutter T\",\"Cutter T\",null,\"Cutter T\",\"Cutter T\",\"Cutter T\",\"Cutter T\",null,\"Trench\",\"Trench\",\"Trench\",\"Trench\",null,\"Trench\",\"Trench\",\"Trench\",\"Trench\",null,\"Trench\",\"Trench\",\"Trench\",\"Trench\",null,\"Trench\",\"Trench\",\"Trench\",\"Trench\",null,\"Trench\",\"Trench\",\"Trench\",\"Trench\",null],\"type\":\"scatter\"},{\"connectgaps\":false,\"hoverinfo\":\"y+name\",\"line\":{\"color\":\"rgb(126,103,115)\",\"width\":10},\"mode\":\"lines\",\"name\":\"loading:Carrier C\",\"x\":[\"1970-01-01T00:35:24\",\"1970-01-01T00:35:24\",\"1970-01-01T01:08:44\",\"1970-01-01T01:08:44\",\"1970-01-01T01:08:44\",\"1970-01-01T03:13:44\",\"1970-01-01T03:13:44\",\"1970-01-01T03:47:04\",\"1970-01-01T03:47:04\",\"1970-01-01T03:47:04\",\"1970-01-01T06:07:51\",\"1970-01-01T06:07:51\",\"1970-01-01T06:41:11\",\"1970-01-01T06:41:11\",\"1970-01-01T06:41:11\",\"1970-01-01T09:01:58\",\"1970-01-01T09:01:58\",\"1970-01-01T09:35:18\",\"1970-01-01T09:35:18\",\"1970-01-01T09:35:18\",\"1970-01-01T11:56:05\",\"1970-01-01T11:56:05\",\"1970-01-01T12:29:25\",\"1970-01-01T12:29:25\",\"1970-01-01T12:29:25\",\"1970-01-01T14:50:12\",\"1970-01-01T14:50:12\",\"1970-01-01T15:23:32\",\"1970-01-01T15:23:32\",\"1970-01-01T15:23:32\",\"1970-01-01T00:35:24\",\"1970-01-01T00:35:24\",\"1970-01-01T01:08:44\",\"1970-01-01T01:08:44\",\"1970-01-01T01:08:44\",\"1970-01-01T03:13:44\",\"1970-01-01T03:13:44\",\"1970-01-01T03:47:04\",\"1970-01-01T03:47:04\",\"1970-01-01T03:47:04\",\"1970-01-01T06:07:51\",\"1970-01-01T06:07:51\",\"1970-01-01T06:41:11\",\"1970-01-01T06:41:11\",\"1970-01-01T06:41:11\",\"1970-01-01T09:01:58\",\"1970-01-01T09:01:58\",\"1970-01-01T09:35:18\",\"1970-01-01T09:35:18\",\"1970-01-01T09:35:18\",\"1970-01-01T11:56:05\",\"1970-01-01T11:56:05\",\"1970-01-01T12:29:25\",\"1970-01-01T12:29:25\",\"1970-01-01T12:29:25\",\"1970-01-01T14:50:12\",\"1970-01-01T14:50:12\",\"1970-01-01T15:23:32\",\"1970-01-01T15:23:32\",\"1970-01-01T15:23:32\",\"1970-01-01T00:35:24\",\"1970-01-01T00:35:24\",\"1970-01-01T01:08:44\",\"1970-01-01T01:08:44\",\"1970-01-01T01:08:44\",\"1970-01-01T03:13:44\",\"1970-01-01T03:13:44\",\"1970-01-01T03:47:04\",\"1970-01-01T03:47:04\",\"1970-01-01T03:47:04\",\"1970-01-01T06:07:51\",\"1970-01-01T06:07:51\",\"1970-01-01T06:41:11\",\"1970-01-01T06:41:11\",\"1970-01-01T06:41:11\",\"1970-01-01T09:01:58\",\"1970-01-01T09:01:58\",\"1970-01-01T09:35:18\",\"1970-01-01T09:35:18\",\"1970-01-01T09:35:18\",\"1970-01-01T11:56:05\",\"1970-01-01T11:56:05\",\"1970-01-01T12:29:25\",\"1970-01-01T12:29:25\",\"1970-01-01T12:29:25\",\"1970-01-01T14:50:12\",\"1970-01-01T14:50:12\",\"1970-01-01T15:23:32\",\"1970-01-01T15:23:32\",\"1970-01-01T15:23:32\"],\"y\":[\"Carrier C\",\"Carrier C\",\"Carrier C\",\"Carrier C\",null,\"Carrier C\",\"Carrier C\",\"Carrier C\",\"Carrier C\",null,\"Carrier C\",\"Carrier C\",\"Carrier C\",\"Carrier C\",null,\"Carrier C\",\"Carrier C\",\"Carrier C\",\"Carrier C\",null,\"Carrier C\",\"Carrier C\",\"Carrier C\",\"Carrier C\",null,\"Carrier C\",\"Carrier C\",\"Carrier C\",\"Carrier C\",null,\"Cutter T\",\"Cutter T\",\"Cutter T\",\"Cutter T\",null,\"Cutter T\",\"Cutter T\",\"Cutter T\",\"Cutter T\",null,\"Cutter T\",\"Cutter T\",\"Cutter T\",\"Cutter T\",null,\"Cutter T\",\"Cutter T\",\"Cutter T\",\"Cutter T\",null,\"Cutter T\",\"Cutter T\",\"Cutter T\",\"Cutter T\",null,\"Cutter T\",\"Cutter T\",\"Cutter T\",\"Cutter T\",null,\"Trench\",\"Trench\",\"Trench\",\"Trench\",null,\"Trench\",\"Trench\",\"Trench\",\"Trench\",null,\"Trench\",\"Trench\",\"Trench\",\"Trench\",null,\"Trench\",\"Trench\",\"Trench\",\"Trench\",null,\"Trench\",\"Trench\",\"Trench\",\"Trench\",null,\"Trench\",\"Trench\",\"Trench\",\"Trench\",null],\"type\":\"scatter\"},{\"connectgaps\":false,\"hoverinfo\":\"y+name\",\"line\":{\"color\":\"rgb(135,112,124)\",\"width\":10},\"mode\":\"lines\",\"name\":\"loading:Carrier A\",\"x\":[\"1970-01-01T02:32:04\",\"1970-01-01T02:32:04\",\"1970-01-01T03:13:44\",\"1970-01-01T03:13:44\",\"1970-01-01T03:13:44\",\"1970-01-01T05:26:11\",\"1970-01-01T05:26:11\",\"1970-01-01T06:07:51\",\"1970-01-01T06:07:51\",\"1970-01-01T06:07:51\",\"1970-01-01T08:20:18\",\"1970-01-01T08:20:18\",\"1970-01-01T09:01:58\",\"1970-01-01T09:01:58\",\"1970-01-01T09:01:58\",\"1970-01-01T11:14:25\",\"1970-01-01T11:14:25\",\"1970-01-01T11:56:05\",\"1970-01-01T11:56:05\",\"1970-01-01T11:56:05\",\"1970-01-01T14:08:32\",\"1970-01-01T14:08:32\",\"1970-01-01T14:50:12\",\"1970-01-01T14:50:12\",\"1970-01-01T14:50:12\",\"1970-01-01T02:32:04\",\"1970-01-01T02:32:04\",\"1970-01-01T03:13:44\",\"1970-01-01T03:13:44\",\"1970-01-01T03:13:44\",\"1970-01-01T05:26:11\",\"1970-01-01T05:26:11\",\"1970-01-01T06:07:51\",\"1970-01-01T06:07:51\",\"1970-01-01T06:07:51\",\"1970-01-01T08:20:18\",\"1970-01-01T08:20:18\",\"1970-01-01T09:01:58\",\"1970-01-01T09:01:58\",\"1970-01-01T09:01:58\",\"1970-01-01T11:14:25\",\"1970-01-01T11:14:25\",\"1970-01-01T11:56:05\",\"1970-01-01T11:56:05\",\"1970-01-01T11:56:05\",\"1970-01-01T14:08:32\",\"1970-01-01T14:08:32\",\"1970-01-01T14:50:12\",\"1970-01-01T14:50:12\",\"1970-01-01T14:50:12\",\"1970-01-01T02:32:04\",\"1970-01-01T02:32:04\",\"1970-01-01T03:13:44\",\"1970-01-01T03:13:44\",\"1970-01-01T03:13:44\",\"1970-01-01T05:26:11\",\"1970-01-01T05:26:11\",\"1970-01-01T06:07:51\",\"1970-01-01T06:07:51\",\"1970-01-01T06:07:51\",\"1970-01-01T08:20:18\",\"1970-01-01T08:20:18\",\"1970-01-01T09:01:58\",\"1970-01-01T09:01:58\",\"1970-01-01T09:01:58\",\"1970-01-01T11:14:25\",\"1970-01-01T11:14:25\",\"1970-01-01T11:56:05\",\"1970-01-01T11:56:05\",\"1970-01-01T11:56:05\",\"1970-01-01T14:08:32\",\"1970-01-01T14:08:32\",\"1970-01-01T14:50:12\",\"1970-01-01T14:50:12\",\"1970-01-01T14:50:12\"],\"y\":[\"Carrier A\",\"Carrier A\",\"Carrier A\",\"Carrier A\",null,\"Carrier A\",\"Carrier A\",\"Carrier A\",\"Carrier A\",null,\"Carrier A\",\"Carrier A\",\"Carrier A\",\"Carrier A\",null,\"Carrier A\",\"Carrier A\",\"Carrier A\",\"Carrier A\",null,\"Carrier A\",\"Carrier A\",\"Carrier A\",\"Carrier A\",null,\"Cutter T\",\"Cutter T\",\"Cutter T\",\"Cutter T\",null,\"Cutter T\",\"Cutter T\",\"Cutter T\",\"Cutter T\",null,\"Cutter T\",\"Cutter T\",\"Cutter T\",\"Cutter T\",null,\"Cutter T\",\"Cutter T\",\"Cutter T\",\"Cutter T\",null,\"Cutter T\",\"Cutter T\",\"Cutter T\",\"Cutter T\",null,\"Trench\",\"Trench\",\"Trench\",\"Trench\",null,\"Trench\",\"Trench\",\"Trench\",\"Trench\",null,\"Trench\",\"Trench\",\"Trench\",\"Trench\",null,\"Trench\",\"Trench\",\"Trench\",\"Trench\",null,\"Trench\",\"Trench\",\"Trench\",\"Trench\",null],\"type\":\"scatter\"},{\"connectgaps\":false,\"hoverinfo\":\"y+name\",\"line\":{\"color\":\"rgb(144,121,133)\",\"width\":10},\"mode\":\"lines\",\"name\":\"loading:Barge I\",\"x\":[\"1970-01-01T01:08:44\",\"1970-01-01T01:08:44\",\"1970-01-01T01:50:24\",\"1970-01-01T01:50:24\",\"1970-01-01T01:50:24\",\"1970-01-01T03:48:51\",\"1970-01-01T03:48:51\",\"1970-01-01T04:30:31\",\"1970-01-01T04:30:31\",\"1970-01-01T04:30:31\",\"1970-01-01T06:41:11\",\"1970-01-01T06:41:11\",\"1970-01-01T07:22:51\",\"1970-01-01T07:22:51\",\"1970-01-01T07:22:51\",\"1970-01-01T09:35:18\",\"1970-01-01T09:35:18\",\"1970-01-01T10:16:58\",\"1970-01-01T10:16:58\",\"1970-01-01T10:16:58\",\"1970-01-01T12:29:25\",\"1970-01-01T12:29:25\",\"1970-01-01T13:11:05\",\"1970-01-01T13:11:05\",\"1970-01-01T13:11:05\",\"1970-01-01T15:23:32\",\"1970-01-01T15:23:32\",\"1970-01-01T16:05:12\",\"1970-01-01T16:05:12\",\"1970-01-01T16:05:12\",\"1970-01-01T01:08:44\",\"1970-01-01T01:08:44\",\"1970-01-01T01:50:24\",\"1970-01-01T01:50:24\",\"1970-01-01T01:50:24\",\"1970-01-01T03:48:51\",\"1970-01-01T03:48:51\",\"1970-01-01T04:30:31\",\"1970-01-01T04:30:31\",\"1970-01-01T04:30:31\",\"1970-01-01T06:41:11\",\"1970-01-01T06:41:11\",\"1970-01-01T07:22:51\",\"1970-01-01T07:22:51\",\"1970-01-01T07:22:51\",\"1970-01-01T09:35:18\",\"1970-01-01T09:35:18\",\"1970-01-01T10:16:58\",\"1970-01-01T10:16:58\",\"1970-01-01T10:16:58\",\"1970-01-01T12:29:25\",\"1970-01-01T12:29:25\",\"1970-01-01T13:11:05\",\"1970-01-01T13:11:05\",\"1970-01-01T13:11:05\",\"1970-01-01T15:23:32\",\"1970-01-01T15:23:32\",\"1970-01-01T16:05:12\",\"1970-01-01T16:05:12\",\"1970-01-01T16:05:12\",\"1970-01-01T01:08:44\",\"1970-01-01T01:08:44\",\"1970-01-01T01:50:24\",\"1970-01-01T01:50:24\",\"1970-01-01T01:50:24\",\"1970-01-01T03:48:51\",\"1970-01-01T03:48:51\",\"1970-01-01T04:30:31\",\"1970-01-01T04:30:31\",\"1970-01-01T04:30:31\",\"1970-01-01T06:41:11\",\"1970-01-01T06:41:11\",\"1970-01-01T07:22:51\",\"1970-01-01T07:22:51\",\"1970-01-01T07:22:51\",\"1970-01-01T09:35:18\",\"1970-01-01T09:35:18\",\"1970-01-01T10:16:58\",\"1970-01-01T10:16:58\",\"1970-01-01T10:16:58\",\"1970-01-01T12:29:25\",\"1970-01-01T12:29:25\",\"1970-01-01T13:11:05\",\"1970-01-01T13:11:05\",\"1970-01-01T13:11:05\",\"1970-01-01T15:23:32\",\"1970-01-01T15:23:32\",\"1970-01-01T16:05:12\",\"1970-01-01T16:05:12\",\"1970-01-01T16:05:12\"],\"y\":[\"Barge I\",\"Barge I\",\"Barge I\",\"Barge I\",null,\"Barge I\",\"Barge I\",\"Barge I\",\"Barge I\",null,\"Barge I\",\"Barge I\",\"Barge I\",\"Barge I\",null,\"Barge I\",\"Barge I\",\"Barge I\",\"Barge I\",null,\"Barge I\",\"Barge I\",\"Barge I\",\"Barge I\",null,\"Barge I\",\"Barge I\",\"Barge I\",\"Barge I\",null,\"Cutter T\",\"Cutter T\",\"Cutter T\",\"Cutter T\",null,\"Cutter T\",\"Cutter T\",\"Cutter T\",\"Cutter T\",null,\"Cutter T\",\"Cutter T\",\"Cutter T\",\"Cutter T\",null,\"Cutter T\",\"Cutter T\",\"Cutter T\",\"Cutter T\",null,\"Cutter T\",\"Cutter T\",\"Cutter T\",\"Cutter T\",null,\"Cutter T\",\"Cutter T\",\"Cutter T\",\"Cutter T\",null,\"Trench\",\"Trench\",\"Trench\",\"Trench\",null,\"Trench\",\"Trench\",\"Trench\",\"Trench\",null,\"Trench\",\"Trench\",\"Trench\",\"Trench\",null,\"Trench\",\"Trench\",\"Trench\",\"Trench\",null,\"Trench\",\"Trench\",\"Trench\",\"Trench\",null,\"Trench\",\"Trench\",\"Trench\",\"Trench\",null],\"type\":\"scatter\"},{\"connectgaps\":false,\"hoverinfo\":\"y+name\",\"line\":{\"color\":\"rgb(153,130,142)\",\"width\":10},\"mode\":\"lines\",\"name\":\"loading:Carrier B\",\"x\":[\"1970-01-01T01:50:24\",\"1970-01-01T01:50:24\",\"1970-01-01T02:32:04\",\"1970-01-01T02:32:04\",\"1970-01-01T02:32:04\",\"1970-01-01T04:32:49\",\"1970-01-01T04:32:49\",\"1970-01-01T05:14:29\",\"1970-01-01T05:14:29\",\"1970-01-01T05:14:29\",\"1970-01-01T07:22:51\",\"1970-01-01T07:22:51\",\"1970-01-01T08:04:31\",\"1970-01-01T08:04:31\",\"1970-01-01T08:04:31\",\"1970-01-01T10:16:58\",\"1970-01-01T10:16:58\",\"1970-01-01T10:58:38\",\"1970-01-01T10:58:38\",\"1970-01-01T10:58:38\",\"1970-01-01T13:11:05\",\"1970-01-01T13:11:05\",\"1970-01-01T13:52:45\",\"1970-01-01T13:52:45\",\"1970-01-01T13:52:45\",\"1970-01-01T01:50:24\",\"1970-01-01T01:50:24\",\"1970-01-01T02:32:04\",\"1970-01-01T02:32:04\",\"1970-01-01T02:32:04\",\"1970-01-01T04:32:49\",\"1970-01-01T04:32:49\",\"1970-01-01T05:14:29\",\"1970-01-01T05:14:29\",\"1970-01-01T05:14:29\",\"1970-01-01T07:22:51\",\"1970-01-01T07:22:51\",\"1970-01-01T08:04:31\",\"1970-01-01T08:04:31\",\"1970-01-01T08:04:31\",\"1970-01-01T10:16:58\",\"1970-01-01T10:16:58\",\"1970-01-01T10:58:38\",\"1970-01-01T10:58:38\",\"1970-01-01T10:58:38\",\"1970-01-01T13:11:05\",\"1970-01-01T13:11:05\",\"1970-01-01T13:52:45\",\"1970-01-01T13:52:45\",\"1970-01-01T13:52:45\",\"1970-01-01T01:50:24\",\"1970-01-01T01:50:24\",\"1970-01-01T02:32:04\",\"1970-01-01T02:32:04\",\"1970-01-01T02:32:04\",\"1970-01-01T04:32:49\",\"1970-01-01T04:32:49\",\"1970-01-01T05:14:29\",\"1970-01-01T05:14:29\",\"1970-01-01T05:14:29\",\"1970-01-01T07:22:51\",\"1970-01-01T07:22:51\",\"1970-01-01T08:04:31\",\"1970-01-01T08:04:31\",\"1970-01-01T08:04:31\",\"1970-01-01T10:16:58\",\"1970-01-01T10:16:58\",\"1970-01-01T10:58:38\",\"1970-01-01T10:58:38\",\"1970-01-01T10:58:38\",\"1970-01-01T13:11:05\",\"1970-01-01T13:11:05\",\"1970-01-01T13:52:45\",\"1970-01-01T13:52:45\",\"1970-01-01T13:52:45\"],\"y\":[\"Carrier B\",\"Carrier B\",\"Carrier B\",\"Carrier B\",null,\"Carrier B\",\"Carrier B\",\"Carrier B\",\"Carrier B\",null,\"Carrier B\",\"Carrier B\",\"Carrier B\",\"Carrier B\",null,\"Carrier B\",\"Carrier B\",\"Carrier B\",\"Carrier B\",null,\"Carrier B\",\"Carrier B\",\"Carrier B\",\"Carrier B\",null,\"Cutter T\",\"Cutter T\",\"Cutter T\",\"Cutter T\",null,\"Cutter T\",\"Cutter T\",\"Cutter T\",\"Cutter T\",null,\"Cutter T\",\"Cutter T\",\"Cutter T\",\"Cutter T\",null,\"Cutter T\",\"Cutter T\",\"Cutter T\",\"Cutter T\",null,\"Cutter T\",\"Cutter T\",\"Cutter T\",\"Cutter T\",null,\"Trench\",\"Trench\",\"Trench\",\"Trench\",null,\"Trench\",\"Trench\",\"Trench\",\"Trench\",null,\"Trench\",\"Trench\",\"Trench\",\"Trench\",null,\"Trench\",\"Trench\",\"Trench\",\"Trench\",null,\"Trench\",\"Trench\",\"Trench\",\"Trench\",null],\"type\":\"scatter\"},{\"connectgaps\":false,\"hoverinfo\":\"y+name\",\"line\":{\"color\":\"rgb(162,139,151)\",\"width\":10},\"mode\":\"lines\",\"name\":\"loading:Carrier C\",\"x\":[\"1970-01-01T00:35:24\",\"1970-01-01T00:35:24\",\"1970-01-01T01:08:44\",\"1970-01-01T01:08:44\",\"1970-01-01T01:08:44\",\"1970-01-01T03:13:44\",\"1970-01-01T03:13:44\",\"1970-01-01T03:47:04\",\"1970-01-01T03:47:04\",\"1970-01-01T03:47:04\",\"1970-01-01T06:07:51\",\"1970-01-01T06:07:51\",\"1970-01-01T06:41:11\",\"1970-01-01T06:41:11\",\"1970-01-01T06:41:11\",\"1970-01-01T09:01:58\",\"1970-01-01T09:01:58\",\"1970-01-01T09:35:18\",\"1970-01-01T09:35:18\",\"1970-01-01T09:35:18\",\"1970-01-01T11:56:05\",\"1970-01-01T11:56:05\",\"1970-01-01T12:29:25\",\"1970-01-01T12:29:25\",\"1970-01-01T12:29:25\",\"1970-01-01T14:50:12\",\"1970-01-01T14:50:12\",\"1970-01-01T15:23:32\",\"1970-01-01T15:23:32\",\"1970-01-01T15:23:32\",\"1970-01-01T00:35:24\",\"1970-01-01T00:35:24\",\"1970-01-01T01:08:44\",\"1970-01-01T01:08:44\",\"1970-01-01T01:08:44\",\"1970-01-01T03:13:44\",\"1970-01-01T03:13:44\",\"1970-01-01T03:47:04\",\"1970-01-01T03:47:04\",\"1970-01-01T03:47:04\",\"1970-01-01T06:07:51\",\"1970-01-01T06:07:51\",\"1970-01-01T06:41:11\",\"1970-01-01T06:41:11\",\"1970-01-01T06:41:11\",\"1970-01-01T09:01:58\",\"1970-01-01T09:01:58\",\"1970-01-01T09:35:18\",\"1970-01-01T09:35:18\",\"1970-01-01T09:35:18\",\"1970-01-01T11:56:05\",\"1970-01-01T11:56:05\",\"1970-01-01T12:29:25\",\"1970-01-01T12:29:25\",\"1970-01-01T12:29:25\",\"1970-01-01T14:50:12\",\"1970-01-01T14:50:12\",\"1970-01-01T15:23:32\",\"1970-01-01T15:23:32\",\"1970-01-01T15:23:32\",\"1970-01-01T00:35:24\",\"1970-01-01T00:35:24\",\"1970-01-01T01:08:44\",\"1970-01-01T01:08:44\",\"1970-01-01T01:08:44\",\"1970-01-01T03:13:44\",\"1970-01-01T03:13:44\",\"1970-01-01T03:47:04\",\"1970-01-01T03:47:04\",\"1970-01-01T03:47:04\",\"1970-01-01T06:07:51\",\"1970-01-01T06:07:51\",\"1970-01-01T06:41:11\",\"1970-01-01T06:41:11\",\"1970-01-01T06:41:11\",\"1970-01-01T09:01:58\",\"1970-01-01T09:01:58\",\"1970-01-01T09:35:18\",\"1970-01-01T09:35:18\",\"1970-01-01T09:35:18\",\"1970-01-01T11:56:05\",\"1970-01-01T11:56:05\",\"1970-01-01T12:29:25\",\"1970-01-01T12:29:25\",\"1970-01-01T12:29:25\",\"1970-01-01T14:50:12\",\"1970-01-01T14:50:12\",\"1970-01-01T15:23:32\",\"1970-01-01T15:23:32\",\"1970-01-01T15:23:32\"],\"y\":[\"Carrier C\",\"Carrier C\",\"Carrier C\",\"Carrier C\",null,\"Carrier C\",\"Carrier C\",\"Carrier C\",\"Carrier C\",null,\"Carrier C\",\"Carrier C\",\"Carrier C\",\"Carrier C\",null,\"Carrier C\",\"Carrier C\",\"Carrier C\",\"Carrier C\",null,\"Carrier C\",\"Carrier C\",\"Carrier C\",\"Carrier C\",null,\"Carrier C\",\"Carrier C\",\"Carrier C\",\"Carrier C\",null,\"Cutter T\",\"Cutter T\",\"Cutter T\",\"Cutter T\",null,\"Cutter T\",\"Cutter T\",\"Cutter T\",\"Cutter T\",null,\"Cutter T\",\"Cutter T\",\"Cutter T\",\"Cutter T\",null,\"Cutter T\",\"Cutter T\",\"Cutter T\",\"Cutter T\",null,\"Cutter T\",\"Cutter T\",\"Cutter T\",\"Cutter T\",null,\"Cutter T\",\"Cutter T\",\"Cutter T\",\"Cutter T\",null,\"Trench\",\"Trench\",\"Trench\",\"Trench\",null,\"Trench\",\"Trench\",\"Trench\",\"Trench\",null,\"Trench\",\"Trench\",\"Trench\",\"Trench\",null,\"Trench\",\"Trench\",\"Trench\",\"Trench\",null,\"Trench\",\"Trench\",\"Trench\",\"Trench\",null,\"Trench\",\"Trench\",\"Trench\",\"Trench\",null],\"type\":\"scatter\"},{\"connectgaps\":false,\"hoverinfo\":\"y+name\",\"line\":{\"color\":\"rgb(171,148,160)\",\"width\":10},\"mode\":\"lines\",\"name\":\"loading:Carrier A\",\"x\":[\"1970-01-01T02:32:04\",\"1970-01-01T02:32:04\",\"1970-01-01T03:13:44\",\"1970-01-01T03:13:44\",\"1970-01-01T03:13:44\",\"1970-01-01T05:26:11\",\"1970-01-01T05:26:11\",\"1970-01-01T06:07:51\",\"1970-01-01T06:07:51\",\"1970-01-01T06:07:51\",\"1970-01-01T08:20:18\",\"1970-01-01T08:20:18\",\"1970-01-01T09:01:58\",\"1970-01-01T09:01:58\",\"1970-01-01T09:01:58\",\"1970-01-01T11:14:25\",\"1970-01-01T11:14:25\",\"1970-01-01T11:56:05\",\"1970-01-01T11:56:05\",\"1970-01-01T11:56:05\",\"1970-01-01T14:08:32\",\"1970-01-01T14:08:32\",\"1970-01-01T14:50:12\",\"1970-01-01T14:50:12\",\"1970-01-01T14:50:12\",\"1970-01-01T02:32:04\",\"1970-01-01T02:32:04\",\"1970-01-01T03:13:44\",\"1970-01-01T03:13:44\",\"1970-01-01T03:13:44\",\"1970-01-01T05:26:11\",\"1970-01-01T05:26:11\",\"1970-01-01T06:07:51\",\"1970-01-01T06:07:51\",\"1970-01-01T06:07:51\",\"1970-01-01T08:20:18\",\"1970-01-01T08:20:18\",\"1970-01-01T09:01:58\",\"1970-01-01T09:01:58\",\"1970-01-01T09:01:58\",\"1970-01-01T11:14:25\",\"1970-01-01T11:14:25\",\"1970-01-01T11:56:05\",\"1970-01-01T11:56:05\",\"1970-01-01T11:56:05\",\"1970-01-01T14:08:32\",\"1970-01-01T14:08:32\",\"1970-01-01T14:50:12\",\"1970-01-01T14:50:12\",\"1970-01-01T14:50:12\",\"1970-01-01T02:32:04\",\"1970-01-01T02:32:04\",\"1970-01-01T03:13:44\",\"1970-01-01T03:13:44\",\"1970-01-01T03:13:44\",\"1970-01-01T05:26:11\",\"1970-01-01T05:26:11\",\"1970-01-01T06:07:51\",\"1970-01-01T06:07:51\",\"1970-01-01T06:07:51\",\"1970-01-01T08:20:18\",\"1970-01-01T08:20:18\",\"1970-01-01T09:01:58\",\"1970-01-01T09:01:58\",\"1970-01-01T09:01:58\",\"1970-01-01T11:14:25\",\"1970-01-01T11:14:25\",\"1970-01-01T11:56:05\",\"1970-01-01T11:56:05\",\"1970-01-01T11:56:05\",\"1970-01-01T14:08:32\",\"1970-01-01T14:08:32\",\"1970-01-01T14:50:12\",\"1970-01-01T14:50:12\",\"1970-01-01T14:50:12\"],\"y\":[\"Carrier A\",\"Carrier A\",\"Carrier A\",\"Carrier A\",null,\"Carrier A\",\"Carrier A\",\"Carrier A\",\"Carrier A\",null,\"Carrier A\",\"Carrier A\",\"Carrier A\",\"Carrier A\",null,\"Carrier A\",\"Carrier A\",\"Carrier A\",\"Carrier A\",null,\"Carrier A\",\"Carrier A\",\"Carrier A\",\"Carrier A\",null,\"Cutter T\",\"Cutter T\",\"Cutter T\",\"Cutter T\",null,\"Cutter T\",\"Cutter T\",\"Cutter T\",\"Cutter T\",null,\"Cutter T\",\"Cutter T\",\"Cutter T\",\"Cutter T\",null,\"Cutter T\",\"Cutter T\",\"Cutter T\",\"Cutter T\",null,\"Cutter T\",\"Cutter T\",\"Cutter T\",\"Cutter T\",null,\"Trench\",\"Trench\",\"Trench\",\"Trench\",null,\"Trench\",\"Trench\",\"Trench\",\"Trench\",null,\"Trench\",\"Trench\",\"Trench\",\"Trench\",null,\"Trench\",\"Trench\",\"Trench\",\"Trench\",null,\"Trench\",\"Trench\",\"Trench\",\"Trench\",null],\"type\":\"scatter\"},{\"connectgaps\":false,\"hoverinfo\":\"y+name\",\"line\":{\"color\":\"rgb(180,157,169)\",\"width\":10},\"mode\":\"lines\",\"name\":\"unloading:Carrier C\",\"x\":[\"1970-01-01T01:44:08\",\"1970-01-01T01:44:08\",\"1970-01-01T02:19:32\",\"1970-01-01T02:19:32\",\"1970-01-01T02:19:32\",\"1970-01-01T04:22:28\",\"1970-01-01T04:22:28\",\"1970-01-01T04:57:52\",\"1970-01-01T04:57:52\",\"1970-01-01T04:57:52\",\"1970-01-01T07:16:35\",\"1970-01-01T07:16:35\",\"1970-01-01T07:51:59\",\"1970-01-01T07:51:59\",\"1970-01-01T07:51:59\",\"1970-01-01T10:10:42\",\"1970-01-01T10:10:42\",\"1970-01-01T10:46:06\",\"1970-01-01T10:46:06\",\"1970-01-01T10:46:06\",\"1970-01-01T13:04:49\",\"1970-01-01T13:04:49\",\"1970-01-01T13:40:13\",\"1970-01-01T13:40:13\",\"1970-01-01T13:40:13\",\"1970-01-01T15:58:56\",\"1970-01-01T15:58:56\",\"1970-01-01T16:34:20\",\"1970-01-01T16:34:20\",\"1970-01-01T16:34:20\",\"1970-01-01T01:44:08\",\"1970-01-01T01:44:08\",\"1970-01-01T02:19:32\",\"1970-01-01T02:19:32\",\"1970-01-01T02:19:32\",\"1970-01-01T04:22:28\",\"1970-01-01T04:22:28\",\"1970-01-01T04:57:52\",\"1970-01-01T04:57:52\",\"1970-01-01T04:57:52\",\"1970-01-01T07:16:35\",\"1970-01-01T07:16:35\",\"1970-01-01T07:51:59\",\"1970-01-01T07:51:59\",\"1970-01-01T07:51:59\",\"1970-01-01T10:10:42\",\"1970-01-01T10:10:42\",\"1970-01-01T10:46:06\",\"1970-01-01T10:46:06\",\"1970-01-01T10:46:06\",\"1970-01-01T13:04:49\",\"1970-01-01T13:04:49\",\"1970-01-01T13:40:13\",\"1970-01-01T13:40:13\",\"1970-01-01T13:40:13\",\"1970-01-01T15:58:56\",\"1970-01-01T15:58:56\",\"1970-01-01T16:34:20\",\"1970-01-01T16:34:20\",\"1970-01-01T16:34:20\"],\"y\":[\"Carrier C\",\"Carrier C\",\"Carrier C\",\"Carrier C\",null,\"Carrier C\",\"Carrier C\",\"Carrier C\",\"Carrier C\",null,\"Carrier C\",\"Carrier C\",\"Carrier C\",\"Carrier C\",null,\"Carrier C\",\"Carrier C\",\"Carrier C\",\"Carrier C\",null,\"Carrier C\",\"Carrier C\",\"Carrier C\",\"Carrier C\",null,\"Carrier C\",\"Carrier C\",\"Carrier C\",\"Carrier C\",null,\"Reclamation\",\"Reclamation\",\"Reclamation\",\"Reclamation\",null,\"Reclamation\",\"Reclamation\",\"Reclamation\",\"Reclamation\",null,\"Reclamation\",\"Reclamation\",\"Reclamation\",\"Reclamation\",null,\"Reclamation\",\"Reclamation\",\"Reclamation\",\"Reclamation\",null,\"Reclamation\",\"Reclamation\",\"Reclamation\",\"Reclamation\",null,\"Reclamation\",\"Reclamation\",\"Reclamation\",\"Reclamation\",null],\"type\":\"scatter\"},{\"connectgaps\":false,\"hoverinfo\":\"y+name\",\"line\":{\"color\":\"rgb(189,166,178)\",\"width\":10},\"mode\":\"lines\",\"name\":\"unloading:Carrier B\",\"x\":[\"1970-01-01T03:12:19\",\"1970-01-01T03:12:19\",\"1970-01-01T03:52:34\",\"1970-01-01T03:52:34\",\"1970-01-01T03:52:34\",\"1970-01-01T05:54:44\",\"1970-01-01T05:54:44\",\"1970-01-01T06:34:59\",\"1970-01-01T06:34:59\",\"1970-01-01T06:34:59\",\"1970-01-01T08:44:46\",\"1970-01-01T08:44:46\",\"1970-01-01T09:25:01\",\"1970-01-01T09:25:01\",\"1970-01-01T09:25:01\",\"1970-01-01T11:38:53\",\"1970-01-01T11:38:53\",\"1970-01-01T12:19:08\",\"1970-01-01T12:19:08\",\"1970-01-01T12:19:08\",\"1970-01-01T14:33:00\",\"1970-01-01T14:33:00\",\"1970-01-01T15:13:15\",\"1970-01-01T15:13:15\",\"1970-01-01T15:13:15\",\"1970-01-01T03:12:19\",\"1970-01-01T03:12:19\",\"1970-01-01T03:52:34\",\"1970-01-01T03:52:34\",\"1970-01-01T03:52:34\",\"1970-01-01T05:54:44\",\"1970-01-01T05:54:44\",\"1970-01-01T06:34:59\",\"1970-01-01T06:34:59\",\"1970-01-01T06:34:59\",\"1970-01-01T08:44:46\",\"1970-01-01T08:44:46\",\"1970-01-01T09:25:01\",\"1970-01-01T09:25:01\",\"1970-01-01T09:25:01\",\"1970-01-01T11:38:53\",\"1970-01-01T11:38:53\",\"1970-01-01T12:19:08\",\"1970-01-01T12:19:08\",\"1970-01-01T12:19:08\",\"1970-01-01T14:33:00\",\"1970-01-01T14:33:00\",\"1970-01-01T15:13:15\",\"1970-01-01T15:13:15\",\"1970-01-01T15:13:15\"],\"y\":[\"Carrier B\",\"Carrier B\",\"Carrier B\",\"Carrier B\",null,\"Carrier B\",\"Carrier B\",\"Carrier B\",\"Carrier B\",null,\"Carrier B\",\"Carrier B\",\"Carrier B\",\"Carrier B\",null,\"Carrier B\",\"Carrier B\",\"Carrier B\",\"Carrier B\",null,\"Carrier B\",\"Carrier B\",\"Carrier B\",\"Carrier B\",null,\"Reclamation\",\"Reclamation\",\"Reclamation\",\"Reclamation\",null,\"Reclamation\",\"Reclamation\",\"Reclamation\",\"Reclamation\",null,\"Reclamation\",\"Reclamation\",\"Reclamation\",\"Reclamation\",null,\"Reclamation\",\"Reclamation\",\"Reclamation\",\"Reclamation\",null,\"Reclamation\",\"Reclamation\",\"Reclamation\",\"Reclamation\",null],\"type\":\"scatter\"},{\"connectgaps\":false,\"hoverinfo\":\"y+name\",\"line\":{\"color\":\"rgb(198,175,187)\",\"width\":10},\"mode\":\"lines\",\"name\":\"unloading:Carrier A\",\"x\":[\"1970-01-01T03:57:53\",\"1970-01-01T03:57:53\",\"1970-01-01T04:42:02\",\"1970-01-01T04:42:02\",\"1970-01-01T04:42:02\",\"1970-01-01T06:52:00\",\"1970-01-01T06:52:00\",\"1970-01-01T07:36:09\",\"1970-01-01T07:36:09\",\"1970-01-01T07:36:09\",\"1970-01-01T09:46:07\",\"1970-01-01T09:46:07\",\"1970-01-01T10:30:16\",\"1970-01-01T10:30:16\",\"1970-01-01T10:30:16\",\"1970-01-01T12:40:14\",\"1970-01-01T12:40:14\",\"1970-01-01T13:24:23\",\"1970-01-01T13:24:23\",\"1970-01-01T13:24:23\",\"1970-01-01T15:34:21\",\"1970-01-01T15:34:21\",\"1970-01-01T16:18:30\",\"1970-01-01T16:18:30\",\"1970-01-01T16:18:30\",\"1970-01-01T03:57:53\",\"1970-01-01T03:57:53\",\"1970-01-01T04:42:02\",\"1970-01-01T04:42:02\",\"1970-01-01T04:42:02\",\"1970-01-01T06:52:00\",\"1970-01-01T06:52:00\",\"1970-01-01T07:36:09\",\"1970-01-01T07:36:09\",\"1970-01-01T07:36:09\",\"1970-01-01T09:46:07\",\"1970-01-01T09:46:07\",\"1970-01-01T10:30:16\",\"1970-01-01T10:30:16\",\"1970-01-01T10:30:16\",\"1970-01-01T12:40:14\",\"1970-01-01T12:40:14\",\"1970-01-01T13:24:23\",\"1970-01-01T13:24:23\",\"1970-01-01T13:24:23\",\"1970-01-01T15:34:21\",\"1970-01-01T15:34:21\",\"1970-01-01T16:18:30\",\"1970-01-01T16:18:30\",\"1970-01-01T16:18:30\"],\"y\":[\"Carrier A\",\"Carrier A\",\"Carrier A\",\"Carrier A\",null,\"Carrier A\",\"Carrier A\",\"Carrier A\",\"Carrier A\",null,\"Carrier A\",\"Carrier A\",\"Carrier A\",\"Carrier A\",null,\"Carrier A\",\"Carrier A\",\"Carrier A\",\"Carrier A\",null,\"Carrier A\",\"Carrier A\",\"Carrier A\",\"Carrier A\",null,\"Reclamation\",\"Reclamation\",\"Reclamation\",\"Reclamation\",null,\"Reclamation\",\"Reclamation\",\"Reclamation\",\"Reclamation\",null,\"Reclamation\",\"Reclamation\",\"Reclamation\",\"Reclamation\",null,\"Reclamation\",\"Reclamation\",\"Reclamation\",\"Reclamation\",null,\"Reclamation\",\"Reclamation\",\"Reclamation\",\"Reclamation\",null],\"type\":\"scatter\"},{\"connectgaps\":false,\"hoverinfo\":\"y+name\",\"line\":{\"color\":\"rgb(207,184,196)\",\"width\":10},\"mode\":\"lines\",\"name\":\"unloading:Barge I\",\"x\":[\"1970-01-01T02:29:53\",\"1970-01-01T02:29:53\",\"1970-01-01T03:09:22\",\"1970-01-01T03:09:22\",\"1970-01-01T03:09:22\",\"1970-01-01T05:10:00\",\"1970-01-01T05:10:00\",\"1970-01-01T05:49:29\",\"1970-01-01T05:49:29\",\"1970-01-01T05:49:29\",\"1970-01-01T08:02:20\",\"1970-01-01T08:02:20\",\"1970-01-01T08:41:49\",\"1970-01-01T08:41:49\",\"1970-01-01T08:41:49\",\"1970-01-01T10:56:27\",\"1970-01-01T10:56:27\",\"1970-01-01T11:35:56\",\"1970-01-01T11:35:56\",\"1970-01-01T11:35:56\",\"1970-01-01T13:50:34\",\"1970-01-01T13:50:34\",\"1970-01-01T14:30:03\",\"1970-01-01T14:30:03\",\"1970-01-01T14:30:03\",\"1970-01-01T16:44:41\",\"1970-01-01T16:44:41\",\"1970-01-01T17:24:10\",\"1970-01-01T17:24:10\",\"1970-01-01T17:24:10\",\"1970-01-01T02:29:53\",\"1970-01-01T02:29:53\",\"1970-01-01T03:09:22\",\"1970-01-01T03:09:22\",\"1970-01-01T03:09:22\",\"1970-01-01T05:10:00\",\"1970-01-01T05:10:00\",\"1970-01-01T05:49:29\",\"1970-01-01T05:49:29\",\"1970-01-01T05:49:29\",\"1970-01-01T08:02:20\",\"1970-01-01T08:02:20\",\"1970-01-01T08:41:49\",\"1970-01-01T08:41:49\",\"1970-01-01T08:41:49\",\"1970-01-01T10:56:27\",\"1970-01-01T10:56:27\",\"1970-01-01T11:35:56\",\"1970-01-01T11:35:56\",\"1970-01-01T11:35:56\",\"1970-01-01T13:50:34\",\"1970-01-01T13:50:34\",\"1970-01-01T14:30:03\",\"1970-01-01T14:30:03\",\"1970-01-01T14:30:03\",\"1970-01-01T16:44:41\",\"1970-01-01T16:44:41\",\"1970-01-01T17:24:10\",\"1970-01-01T17:24:10\",\"1970-01-01T17:24:10\"],\"y\":[\"Barge I\",\"Barge I\",\"Barge I\",\"Barge I\",null,\"Barge I\",\"Barge I\",\"Barge I\",\"Barge I\",null,\"Barge I\",\"Barge I\",\"Barge I\",\"Barge I\",null,\"Barge I\",\"Barge I\",\"Barge I\",\"Barge I\",null,\"Barge I\",\"Barge I\",\"Barge I\",\"Barge I\",null,\"Barge I\",\"Barge I\",\"Barge I\",\"Barge I\",null,\"Reclamation\",\"Reclamation\",\"Reclamation\",\"Reclamation\",null,\"Reclamation\",\"Reclamation\",\"Reclamation\",\"Reclamation\",null,\"Reclamation\",\"Reclamation\",\"Reclamation\",\"Reclamation\",null,\"Reclamation\",\"Reclamation\",\"Reclamation\",\"Reclamation\",null,\"Reclamation\",\"Reclamation\",\"Reclamation\",\"Reclamation\",null,\"Reclamation\",\"Reclamation\",\"Reclamation\",\"Reclamation\",null],\"type\":\"scatter\"}],                        {\"hovermode\":\"closest\",\"legend\":{\"orientation\":\"h\",\"x\":0,\"y\":-0.2},\"showlegend\":false,\"template\":{\"data\":{\"barpolar\":[{\"marker\":{\"line\":{\"color\":\"#E5ECF6\",\"width\":0.5},\"pattern\":{\"fillmode\":\"overlay\",\"size\":10,\"solidity\":0.2}},\"type\":\"barpolar\"}],\"bar\":[{\"error_x\":{\"color\":\"#2a3f5f\"},\"error_y\":{\"color\":\"#2a3f5f\"},\"marker\":{\"line\":{\"color\":\"#E5ECF6\",\"width\":0.5},\"pattern\":{\"fillmode\":\"overlay\",\"size\":10,\"solidity\":0.2}},\"type\":\"bar\"}],\"carpet\":[{\"aaxis\":{\"endlinecolor\":\"#2a3f5f\",\"gridcolor\":\"white\",\"linecolor\":\"white\",\"minorgridcolor\":\"white\",\"startlinecolor\":\"#2a3f5f\"},\"baxis\":{\"endlinecolor\":\"#2a3f5f\",\"gridcolor\":\"white\",\"linecolor\":\"white\",\"minorgridcolor\":\"white\",\"startlinecolor\":\"#2a3f5f\"},\"type\":\"carpet\"}],\"choropleth\":[{\"colorbar\":{\"outlinewidth\":0,\"ticks\":\"\"},\"type\":\"choropleth\"}],\"contourcarpet\":[{\"colorbar\":{\"outlinewidth\":0,\"ticks\":\"\"},\"type\":\"contourcarpet\"}],\"contour\":[{\"colorbar\":{\"outlinewidth\":0,\"ticks\":\"\"},\"colorscale\":[[0.0,\"#0d0887\"],[0.1111111111111111,\"#46039f\"],[0.2222222222222222,\"#7201a8\"],[0.3333333333333333,\"#9c179e\"],[0.4444444444444444,\"#bd3786\"],[0.5555555555555556,\"#d8576b\"],[0.6666666666666666,\"#ed7953\"],[0.7777777777777778,\"#fb9f3a\"],[0.8888888888888888,\"#fdca26\"],[1.0,\"#f0f921\"]],\"type\":\"contour\"}],\"heatmapgl\":[{\"colorbar\":{\"outlinewidth\":0,\"ticks\":\"\"},\"colorscale\":[[0.0,\"#0d0887\"],[0.1111111111111111,\"#46039f\"],[0.2222222222222222,\"#7201a8\"],[0.3333333333333333,\"#9c179e\"],[0.4444444444444444,\"#bd3786\"],[0.5555555555555556,\"#d8576b\"],[0.6666666666666666,\"#ed7953\"],[0.7777777777777778,\"#fb9f3a\"],[0.8888888888888888,\"#fdca26\"],[1.0,\"#f0f921\"]],\"type\":\"heatmapgl\"}],\"heatmap\":[{\"colorbar\":{\"outlinewidth\":0,\"ticks\":\"\"},\"colorscale\":[[0.0,\"#0d0887\"],[0.1111111111111111,\"#46039f\"],[0.2222222222222222,\"#7201a8\"],[0.3333333333333333,\"#9c179e\"],[0.4444444444444444,\"#bd3786\"],[0.5555555555555556,\"#d8576b\"],[0.6666666666666666,\"#ed7953\"],[0.7777777777777778,\"#fb9f3a\"],[0.8888888888888888,\"#fdca26\"],[1.0,\"#f0f921\"]],\"type\":\"heatmap\"}],\"histogram2dcontour\":[{\"colorbar\":{\"outlinewidth\":0,\"ticks\":\"\"},\"colorscale\":[[0.0,\"#0d0887\"],[0.1111111111111111,\"#46039f\"],[0.2222222222222222,\"#7201a8\"],[0.3333333333333333,\"#9c179e\"],[0.4444444444444444,\"#bd3786\"],[0.5555555555555556,\"#d8576b\"],[0.6666666666666666,\"#ed7953\"],[0.7777777777777778,\"#fb9f3a\"],[0.8888888888888888,\"#fdca26\"],[1.0,\"#f0f921\"]],\"type\":\"histogram2dcontour\"}],\"histogram2d\":[{\"colorbar\":{\"outlinewidth\":0,\"ticks\":\"\"},\"colorscale\":[[0.0,\"#0d0887\"],[0.1111111111111111,\"#46039f\"],[0.2222222222222222,\"#7201a8\"],[0.3333333333333333,\"#9c179e\"],[0.4444444444444444,\"#bd3786\"],[0.5555555555555556,\"#d8576b\"],[0.6666666666666666,\"#ed7953\"],[0.7777777777777778,\"#fb9f3a\"],[0.8888888888888888,\"#fdca26\"],[1.0,\"#f0f921\"]],\"type\":\"histogram2d\"}],\"histogram\":[{\"marker\":{\"pattern\":{\"fillmode\":\"overlay\",\"size\":10,\"solidity\":0.2}},\"type\":\"histogram\"}],\"mesh3d\":[{\"colorbar\":{\"outlinewidth\":0,\"ticks\":\"\"},\"type\":\"mesh3d\"}],\"parcoords\":[{\"line\":{\"colorbar\":{\"outlinewidth\":0,\"ticks\":\"\"}},\"type\":\"parcoords\"}],\"pie\":[{\"automargin\":true,\"type\":\"pie\"}],\"scatter3d\":[{\"line\":{\"colorbar\":{\"outlinewidth\":0,\"ticks\":\"\"}},\"marker\":{\"colorbar\":{\"outlinewidth\":0,\"ticks\":\"\"}},\"type\":\"scatter3d\"}],\"scattercarpet\":[{\"marker\":{\"colorbar\":{\"outlinewidth\":0,\"ticks\":\"\"}},\"type\":\"scattercarpet\"}],\"scattergeo\":[{\"marker\":{\"colorbar\":{\"outlinewidth\":0,\"ticks\":\"\"}},\"type\":\"scattergeo\"}],\"scattergl\":[{\"marker\":{\"colorbar\":{\"outlinewidth\":0,\"ticks\":\"\"}},\"type\":\"scattergl\"}],\"scattermapbox\":[{\"marker\":{\"colorbar\":{\"outlinewidth\":0,\"ticks\":\"\"}},\"type\":\"scattermapbox\"}],\"scatterpolargl\":[{\"marker\":{\"colorbar\":{\"outlinewidth\":0,\"ticks\":\"\"}},\"type\":\"scatterpolargl\"}],\"scatterpolar\":[{\"marker\":{\"colorbar\":{\"outlinewidth\":0,\"ticks\":\"\"}},\"type\":\"scatterpolar\"}],\"scatter\":[{\"fillpattern\":{\"fillmode\":\"overlay\",\"size\":10,\"solidity\":0.2},\"type\":\"scatter\"}],\"scatterternary\":[{\"marker\":{\"colorbar\":{\"outlinewidth\":0,\"ticks\":\"\"}},\"type\":\"scatterternary\"}],\"surface\":[{\"colorbar\":{\"outlinewidth\":0,\"ticks\":\"\"},\"colorscale\":[[0.0,\"#0d0887\"],[0.1111111111111111,\"#46039f\"],[0.2222222222222222,\"#7201a8\"],[0.3333333333333333,\"#9c179e\"],[0.4444444444444444,\"#bd3786\"],[0.5555555555555556,\"#d8576b\"],[0.6666666666666666,\"#ed7953\"],[0.7777777777777778,\"#fb9f3a\"],[0.8888888888888888,\"#fdca26\"],[1.0,\"#f0f921\"]],\"type\":\"surface\"}],\"table\":[{\"cells\":{\"fill\":{\"color\":\"#EBF0F8\"},\"line\":{\"color\":\"white\"}},\"header\":{\"fill\":{\"color\":\"#C8D4E3\"},\"line\":{\"color\":\"white\"}},\"type\":\"table\"}]},\"layout\":{\"annotationdefaults\":{\"arrowcolor\":\"#2a3f5f\",\"arrowhead\":0,\"arrowwidth\":1},\"autotypenumbers\":\"strict\",\"coloraxis\":{\"colorbar\":{\"outlinewidth\":0,\"ticks\":\"\"}},\"colorscale\":{\"diverging\":[[0,\"#8e0152\"],[0.1,\"#c51b7d\"],[0.2,\"#de77ae\"],[0.3,\"#f1b6da\"],[0.4,\"#fde0ef\"],[0.5,\"#f7f7f7\"],[0.6,\"#e6f5d0\"],[0.7,\"#b8e186\"],[0.8,\"#7fbc41\"],[0.9,\"#4d9221\"],[1,\"#276419\"]],\"sequential\":[[0.0,\"#0d0887\"],[0.1111111111111111,\"#46039f\"],[0.2222222222222222,\"#7201a8\"],[0.3333333333333333,\"#9c179e\"],[0.4444444444444444,\"#bd3786\"],[0.5555555555555556,\"#d8576b\"],[0.6666666666666666,\"#ed7953\"],[0.7777777777777778,\"#fb9f3a\"],[0.8888888888888888,\"#fdca26\"],[1.0,\"#f0f921\"]],\"sequentialminus\":[[0.0,\"#0d0887\"],[0.1111111111111111,\"#46039f\"],[0.2222222222222222,\"#7201a8\"],[0.3333333333333333,\"#9c179e\"],[0.4444444444444444,\"#bd3786\"],[0.5555555555555556,\"#d8576b\"],[0.6666666666666666,\"#ed7953\"],[0.7777777777777778,\"#fb9f3a\"],[0.8888888888888888,\"#fdca26\"],[1.0,\"#f0f921\"]]},\"colorway\":[\"#636efa\",\"#EF553B\",\"#00cc96\",\"#ab63fa\",\"#FFA15A\",\"#19d3f3\",\"#FF6692\",\"#B6E880\",\"#FF97FF\",\"#FECB52\"],\"font\":{\"color\":\"#2a3f5f\"},\"geo\":{\"bgcolor\":\"white\",\"lakecolor\":\"white\",\"landcolor\":\"#E5ECF6\",\"showlakes\":true,\"showland\":true,\"subunitcolor\":\"white\"},\"hoverlabel\":{\"align\":\"left\"},\"hovermode\":\"closest\",\"mapbox\":{\"style\":\"light\"},\"paper_bgcolor\":\"white\",\"plot_bgcolor\":\"#E5ECF6\",\"polar\":{\"angularaxis\":{\"gridcolor\":\"white\",\"linecolor\":\"white\",\"ticks\":\"\"},\"bgcolor\":\"#E5ECF6\",\"radialaxis\":{\"gridcolor\":\"white\",\"linecolor\":\"white\",\"ticks\":\"\"}},\"scene\":{\"xaxis\":{\"backgroundcolor\":\"#E5ECF6\",\"gridcolor\":\"white\",\"gridwidth\":2,\"linecolor\":\"white\",\"showbackground\":true,\"ticks\":\"\",\"zerolinecolor\":\"white\"},\"yaxis\":{\"backgroundcolor\":\"#E5ECF6\",\"gridcolor\":\"white\",\"gridwidth\":2,\"linecolor\":\"white\",\"showbackground\":true,\"ticks\":\"\",\"zerolinecolor\":\"white\"},\"zaxis\":{\"backgroundcolor\":\"#E5ECF6\",\"gridcolor\":\"white\",\"gridwidth\":2,\"linecolor\":\"white\",\"showbackground\":true,\"ticks\":\"\",\"zerolinecolor\":\"white\"}},\"shapedefaults\":{\"line\":{\"color\":\"#2a3f5f\"}},\"ternary\":{\"aaxis\":{\"gridcolor\":\"white\",\"linecolor\":\"white\",\"ticks\":\"\"},\"baxis\":{\"gridcolor\":\"white\",\"linecolor\":\"white\",\"ticks\":\"\"},\"bgcolor\":\"#E5ECF6\",\"caxis\":{\"gridcolor\":\"white\",\"linecolor\":\"white\",\"ticks\":\"\"}},\"title\":{\"x\":0.05},\"xaxis\":{\"automargin\":true,\"gridcolor\":\"white\",\"linecolor\":\"white\",\"ticks\":\"\",\"title\":{\"standoff\":15},\"zerolinecolor\":\"white\",\"zerolinewidth\":2},\"yaxis\":{\"automargin\":true,\"gridcolor\":\"white\",\"linecolor\":\"white\",\"ticks\":\"\",\"title\":{\"standoff\":15},\"zerolinecolor\":\"white\",\"zerolinewidth\":2}}},\"title\":{\"text\":\"Cutter T occupancy: 93.2duration actual: 55788.0\"},\"xaxis\":{\"range\":[\"1970-01-01T00:00:00\",\"1970-01-01T17:24:10\"],\"title\":{\"font\":{\"color\":\"#7f7f7f\",\"family\":\"Courier New, monospace\",\"size\":18},\"text\":\"Time\"}},\"yaxis\":{\"title\":{\"font\":{\"color\":\"#7f7f7f\",\"family\":\"Courier New, monospace\",\"size\":18},\"text\":\"vesels\"}}},                        {\"responsive\": true}                    ).then(function(){\n",
       "                            \n",
       "var gd = document.getElementById('4a5f2a9d-d44b-42a5-bdb9-824b7e8e382a');\n",
       "var x = new MutationObserver(function (mutations, observer) {{\n",
       "        var display = window.getComputedStyle(gd).display;\n",
       "        if (!display || display === 'none') {{\n",
       "            console.log([gd, 'removed!']);\n",
       "            Plotly.purge(gd);\n",
       "            observer.disconnect();\n",
       "        }}\n",
       "}});\n",
       "\n",
       "// Listen for the removal of the full notebook cells\n",
       "var notebookContainer = gd.closest('#notebook-container');\n",
       "if (notebookContainer) {{\n",
       "    x.observe(notebookContainer, {childList: true});\n",
       "}}\n",
       "\n",
       "// Listen for the clearing of the current output cell\n",
       "var outputEl = gd.closest('.output');\n",
       "if (outputEl) {{\n",
       "    x.observe(outputEl, {childList: true});\n",
       "}}\n",
       "\n",
       "                        })                };                });            </script>        </div>"
      ]
     },
     "metadata": {},
     "output_type": "display_data"
    }
   ],
   "source": [
    "# For explanation of Critical Path see notebook 30\n",
    "from openclsim.plot.critical_path import CpLog\n",
    "my_objects = list(vessels.values()) + list(sites.values())\n",
    "my_activities = list(activities.values())\n",
    "my_log = CpLog(list_objects=my_objects, list_activities=my_activities)\n",
    "dependencies = my_log.get_dependencies_model_based()\n",
    "# dependencies = my_log.get_dependencies_log_based()\n",
    "cp = my_log.mark_critical_activities(dependencies)\n",
    "occupancy = occupancy_analysis(vessels, cutter_name, total_amount, vessel_cost)\n",
    "\n",
    "t = f'{cutter_name} occupancy: ' + str(occupancy.loc[cutter_name]['occupancy [%]']) + f'duration actual: ' +\\\n",
    "     str(occupancy.loc[cutter_name]['duration actual'])\n",
    "fig = get_gantt_chart(concepts=my_objects, critical_path=cp, id_map=activities, title=t, legend=False, ylabel='vesels')"
   ]
  },
  {
   "cell_type": "code",
   "execution_count": null,
   "id": "f47c0ba4",
   "metadata": {},
   "outputs": [],
   "source": []
  }
 ],
 "metadata": {
  "kernelspec": {
   "display_name": "Python 3 (ipykernel)",
   "language": "python",
   "name": "python3"
  },
  "language_info": {
   "codemirror_mode": {
    "name": "ipython",
    "version": 3
   },
   "file_extension": ".py",
   "mimetype": "text/x-python",
   "name": "python",
   "nbconvert_exporter": "python",
   "pygments_lexer": "ipython3",
   "version": "3.9.16"
  }
 },
 "nbformat": 4,
 "nbformat_minor": 5
}
