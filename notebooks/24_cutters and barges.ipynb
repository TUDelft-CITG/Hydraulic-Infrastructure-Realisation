{
 "cells": [
  {
   "cell_type": "markdown",
   "id": "384a3d39",
   "metadata": {},
   "source": [
    "## feeder concept: cutter + barges\n",
    "\n",
    "This notebook shows how to implement a basic feeder concept for a cutter suction dredge working with multiple barges."
   ]
  },
  {
   "cell_type": "code",
   "execution_count": 1,
   "id": "b6580ad4",
   "metadata": {},
   "outputs": [],
   "source": [
    "import datetime, time\n",
    "import simpy\n",
    "\n",
    "import shapely.geometry\n",
    "import pandas as pd\n",
    "\n",
    "import openclsim.core as core\n",
    "import openclsim.model as model\n",
    "import openclsim.plot as plot\n",
    "import numpy as np"
   ]
  },
  {
   "cell_type": "code",
   "execution_count": 2,
   "id": "102a1c18",
   "metadata": {},
   "outputs": [],
   "source": [
    "Site = type(\n",
    "    \"Site\",\n",
    "    (\n",
    "        core.Identifiable,\n",
    "        core.Log,\n",
    "        core.Locatable,\n",
    "        core.HasContainer,\n",
    "        core.HasResource,\n",
    "    ),\n",
    "    {},\n",
    ")\n",
    "TransportProcessingResource = type(\n",
    "    \"TransportProcessingResource\",\n",
    "    (\n",
    "        core.Identifiable,\n",
    "        core.Log,\n",
    "        core.ContainerDependentMovable,\n",
    "        core.Processor,\n",
    "        core.HasResource,\n",
    "    ),\n",
    "    {},\n",
    ")"
   ]
  },
  {
   "cell_type": "code",
   "execution_count": 3,
   "id": "cef14598",
   "metadata": {},
   "outputs": [],
   "source": [
    "def run(NR_BARGES, total_amount):\n",
    "    simulation_start = 0\n",
    "    my_env = simpy.Environment(initial_time=simulation_start)\n",
    "    registry = {}\n",
    "\n",
    "    location_from_site = shapely.geometry.Point(4.18055556, 52.18664444)\n",
    "    location_to_site = shapely.geometry.Point(4.25222222, 52.11428333)\n",
    "\n",
    "    data_from_site = {\"env\": my_env,\n",
    "                      \"name\": \"from_site\",\n",
    "                      \"geometry\": location_from_site,\n",
    "                      \"capacity\": total_amount,\n",
    "                      \"level\": total_amount,\n",
    "                      \"nr_resources\":1\n",
    "                     }\n",
    "    from_site = Site(**data_from_site)\n",
    "\n",
    "    location_to_site = shapely.geometry.Point(4.25222222, 52.11428333)\n",
    "    data_to_site = {\"env\": my_env,\n",
    "                    \"name\": \"to_site\",\n",
    "                    \"geometry\": location_to_site,\n",
    "                    \"capacity\": total_amount,\n",
    "                    \"level\": 0,\n",
    "                    \"nr_resources\":4\n",
    "                   }\n",
    "    to_site = Site(**data_to_site)\n",
    "\n",
    "    vessels = {}\n",
    "\n",
    "    for i in range(NR_BARGES):\n",
    "        vessels[f\"vessel{i}\"] = TransportProcessingResource(\n",
    "            env=my_env,\n",
    "            name=f\"barge_{i}\",\n",
    "            geometry=location_from_site, \n",
    "            capacity=10,\n",
    "            compute_v=lambda x: 10\n",
    "        )\n",
    "    cutter = TransportProcessingResource(\n",
    "        env=my_env,\n",
    "        name=f\"cutter\",\n",
    "        geometry=location_from_site, \n",
    "        capacity=10,\n",
    "        compute_v=lambda x: 10\n",
    "    )\n",
    "    vessels['cutter'] = cutter\n",
    "    \n",
    "\n",
    "    activities = {}\n",
    "    for i in range(NR_BARGES):\n",
    "        amount = np.random.randint(4,6) # handle loading\n",
    "        duration=np.random.randint(2000,3000) # sailing and unloading\n",
    "\n",
    "        requested_resources={}\n",
    "        activities[f\"activity{i}\"] = model.WhileActivity(\n",
    "            env=my_env,\n",
    "            name=f\"while_sequential_activity_subcycle{i}\",\n",
    "            registry=registry,\n",
    "            sub_processes=[model.SequentialActivity(\n",
    "                env=my_env,\n",
    "                name=f\"sequential_activity_subcycle{i}\",\n",
    "                registry=registry,\n",
    "                sub_processes=[\n",
    "                    model.BasicActivity(\n",
    "                        env=my_env,\n",
    "                        name=f\"basic activity:\"+vessels[f\"vessel{i}\"].name,\n",
    "                        registry=registry,\n",
    "                        duration=duration,\n",
    "                        additional_logs=[vessels[f\"vessel{i}\"]],\n",
    "                    ),\n",
    "                    model.MoveActivity(\n",
    "                        env=my_env,\n",
    "                        name=f\"sailing empty:\"+vessels[f\"vessel{i}\"].name,\n",
    "                        registry=registry,\n",
    "                        mover=vessels[f\"vessel{i}\"],\n",
    "                        destination=from_site,\n",
    "                        duration=duration,\n",
    "                    ),\n",
    "                    model.ShiftAmountActivity(\n",
    "                        env=my_env,\n",
    "                        name=f\"loading:\"+vessels[f\"vessel{i}\"].name,\n",
    "                        registry=registry,\n",
    "                        processor=cutter,\n",
    "                        origin=from_site,\n",
    "                        destination=vessels[f\"vessel{i}\"],\n",
    "                        amount=amount,\n",
    "                        duration=500*amount,\n",
    "                        requested_resources=requested_resources,\n",
    "                    ),\n",
    "                    model.MoveActivity(\n",
    "                        env=my_env,\n",
    "                        name=f\"sailing full:\"+vessels[f\"vessel{i}\"].name,\n",
    "                        registry=registry,\n",
    "                        mover=vessels[f\"vessel{i}\"],\n",
    "                        destination=to_site,\n",
    "                        duration=duration,\n",
    "                    ),\n",
    "                    model.ShiftAmountActivity(\n",
    "                        env=my_env,\n",
    "                        name=f\"unloading:\"+vessels[f\"vessel{i}\"].name,\n",
    "                        registry=registry,\n",
    "                        processor=vessels[f\"vessel{i}\"],\n",
    "                        origin=vessels[f\"vessel{i}\"],\n",
    "                        destination=to_site,\n",
    "                        amount=amount,\n",
    "                        duration=duration,\n",
    "                        requested_resources=requested_resources,\n",
    "                    ),\n",
    "                ],\n",
    "            )],\n",
    "            condition_event=[\n",
    "                {\n",
    "                    \"type\": \"container\", \n",
    "                    \"concept\": to_site, \n",
    "                    \"state\": \"full\",\n",
    "                    \"id_\":\"default_reservations\"\n",
    "                }\n",
    "            ],\n",
    "        )\n",
    "\n",
    "    model.register_processes(list(activities.values()))\n",
    "    my_env.run()\n",
    "    \n",
    "    return {\n",
    "        \"vessels\": vessels,\n",
    "        \"activities\":activities,\n",
    "        \"from_site\":from_site,\n",
    "        \"to_site\":to_site,\n",
    "    }\n"
   ]
  },
  {
   "cell_type": "code",
   "execution_count": 4,
   "id": "9aa8b351",
   "metadata": {},
   "outputs": [
    {
     "name": "stdout",
     "output_type": "stream",
     "text": [
      "CPU times: user 77.9 ms, sys: 26.4 ms, total: 104 ms\n",
      "Wall time: 85.6 ms\n"
     ]
    }
   ],
   "source": [
    "%%time\n",
    "nbarges = 3\n",
    "total_amount = 100\n",
    "res = run(nbarges,total_amount)\n",
    "vessels = res['vessels']\n",
    "activities = res['activities']\n",
    "cutter = vessels['cutter']\n",
    "to_site = res['to_site']\n",
    "from_site = res['from_site']"
   ]
  },
  {
   "cell_type": "code",
   "execution_count": 5,
   "id": "8f993fc6",
   "metadata": {},
   "outputs": [
    {
     "data": {
      "text/html": [
       "        <script type=\"text/javascript\">\n",
       "        window.PlotlyConfig = {MathJaxConfig: 'local'};\n",
       "        if (window.MathJax && window.MathJax.Hub && window.MathJax.Hub.Config) {window.MathJax.Hub.Config({SVG: {font: \"STIX-Web\"}});}\n",
       "        if (typeof require !== 'undefined') {\n",
       "        require.undef(\"plotly\");\n",
       "        requirejs.config({\n",
       "            paths: {\n",
       "                'plotly': ['https://cdn.plot.ly/plotly-2.18.2.min']\n",
       "            }\n",
       "        });\n",
       "        require(['plotly'], function(Plotly) {\n",
       "            window._Plotly = Plotly;\n",
       "        });\n",
       "        }\n",
       "        </script>\n",
       "        "
      ]
     },
     "metadata": {},
     "output_type": "display_data"
    },
    {
     "data": {
      "application/vnd.plotly.v1+json": {
       "config": {
        "linkText": "Export to plot.ly",
        "plotlyServerURL": "https://plot.ly",
        "showLink": false
       },
       "data": [
        {
         "connectgaps": false,
         "hoverinfo": "y+name",
         "line": {
          "color": "rgb(129,156,70)",
          "width": 10
         },
         "mode": "lines",
         "name": "unloading:barge_0",
         "type": "scatter",
         "x": [
          "1970-01-01T02:33:01",
          "1970-01-01T02:33:01",
          "1970-01-01T03:10:08",
          "1970-01-01T03:10:08",
          "1970-01-01T03:10:08",
          "1970-01-01T05:43:09",
          "1970-01-01T05:43:09",
          "1970-01-01T06:20:16",
          "1970-01-01T06:20:16",
          "1970-01-01T06:20:16",
          "1970-01-01T08:53:17",
          "1970-01-01T08:53:17",
          "1970-01-01T09:30:24",
          "1970-01-01T09:30:24",
          "1970-01-01T09:30:24",
          "1970-01-01T12:03:25",
          "1970-01-01T12:03:25",
          "1970-01-01T12:40:32",
          "1970-01-01T12:40:32",
          "1970-01-01T12:40:32",
          "1970-01-01T15:40:37",
          "1970-01-01T15:40:37",
          "1970-01-01T16:17:44",
          "1970-01-01T16:17:44",
          "1970-01-01T16:17:44",
          "1970-01-01T19:21:29",
          "1970-01-01T19:21:29",
          "1970-01-01T19:58:36",
          "1970-01-01T19:58:36",
          "1970-01-01T19:58:36",
          "1970-01-01T23:02:21",
          "1970-01-01T23:02:21",
          "1970-01-01T23:39:28",
          "1970-01-01T23:39:28",
          "1970-01-01T23:39:28"
         ],
         "y": [
          "barge_0",
          "barge_0",
          "barge_0",
          "barge_0",
          null,
          "barge_0",
          "barge_0",
          "barge_0",
          "barge_0",
          null,
          "barge_0",
          "barge_0",
          "barge_0",
          "barge_0",
          null,
          "barge_0",
          "barge_0",
          "barge_0",
          "barge_0",
          null,
          "barge_0",
          "barge_0",
          "barge_0",
          "barge_0",
          null,
          "barge_0",
          "barge_0",
          "barge_0",
          "barge_0",
          null,
          "barge_0",
          "barge_0",
          "barge_0",
          "barge_0",
          null
         ]
        },
        {
         "connectgaps": false,
         "hoverinfo": "y+name",
         "line": {
          "color": "rgb(143,170,84)",
          "width": 10
         },
         "mode": "lines",
         "name": "sailing empty:barge_0",
         "type": "scatter",
         "x": [
          "1970-01-01T00:37:07",
          "1970-01-01T00:37:07",
          "1970-01-01T01:14:14",
          "1970-01-01T01:14:14",
          "1970-01-01T01:14:14",
          "1970-01-01T03:47:15",
          "1970-01-01T03:47:15",
          "1970-01-01T04:24:22",
          "1970-01-01T04:24:22",
          "1970-01-01T04:24:22",
          "1970-01-01T06:57:23",
          "1970-01-01T06:57:23",
          "1970-01-01T07:34:30",
          "1970-01-01T07:34:30",
          "1970-01-01T07:34:30",
          "1970-01-01T10:07:31",
          "1970-01-01T10:07:31",
          "1970-01-01T10:44:38",
          "1970-01-01T10:44:38",
          "1970-01-01T10:44:38",
          "1970-01-01T13:17:39",
          "1970-01-01T13:17:39",
          "1970-01-01T13:54:46",
          "1970-01-01T13:54:46",
          "1970-01-01T13:54:46",
          "1970-01-01T16:54:51",
          "1970-01-01T16:54:51",
          "1970-01-01T17:31:58",
          "1970-01-01T17:31:58",
          "1970-01-01T17:31:58",
          "1970-01-01T20:35:43",
          "1970-01-01T20:35:43",
          "1970-01-01T21:12:50",
          "1970-01-01T21:12:50",
          "1970-01-01T21:12:50"
         ],
         "y": [
          "barge_0",
          "barge_0",
          "barge_0",
          "barge_0",
          null,
          "barge_0",
          "barge_0",
          "barge_0",
          "barge_0",
          null,
          "barge_0",
          "barge_0",
          "barge_0",
          "barge_0",
          null,
          "barge_0",
          "barge_0",
          "barge_0",
          "barge_0",
          null,
          "barge_0",
          "barge_0",
          "barge_0",
          "barge_0",
          null,
          "barge_0",
          "barge_0",
          "barge_0",
          "barge_0",
          null,
          "barge_0",
          "barge_0",
          "barge_0",
          "barge_0",
          null
         ]
        },
        {
         "connectgaps": false,
         "hoverinfo": "y+name",
         "line": {
          "color": "rgb(157,184,98)",
          "width": 10
         },
         "mode": "lines",
         "name": "loading:barge_0",
         "type": "scatter",
         "x": [
          "1970-01-01T01:14:14",
          "1970-01-01T01:14:14",
          "1970-01-01T01:55:54",
          "1970-01-01T01:55:54",
          "1970-01-01T01:55:54",
          "1970-01-01T04:24:22",
          "1970-01-01T04:24:22",
          "1970-01-01T05:06:02",
          "1970-01-01T05:06:02",
          "1970-01-01T05:06:02",
          "1970-01-01T07:34:30",
          "1970-01-01T07:34:30",
          "1970-01-01T08:16:10",
          "1970-01-01T08:16:10",
          "1970-01-01T08:16:10",
          "1970-01-01T10:44:38",
          "1970-01-01T10:44:38",
          "1970-01-01T11:26:18",
          "1970-01-01T11:26:18",
          "1970-01-01T11:26:18",
          "1970-01-01T14:21:50",
          "1970-01-01T14:21:50",
          "1970-01-01T15:03:30",
          "1970-01-01T15:03:30",
          "1970-01-01T15:03:30",
          "1970-01-01T18:02:42",
          "1970-01-01T18:02:42",
          "1970-01-01T18:44:22",
          "1970-01-01T18:44:22",
          "1970-01-01T18:44:22",
          "1970-01-01T21:43:34",
          "1970-01-01T21:43:34",
          "1970-01-01T22:25:14",
          "1970-01-01T22:25:14",
          "1970-01-01T22:25:14",
          "1970-01-01T01:14:14",
          "1970-01-01T01:14:14",
          "1970-01-01T01:55:54",
          "1970-01-01T01:55:54",
          "1970-01-01T01:55:54",
          "1970-01-01T04:24:22",
          "1970-01-01T04:24:22",
          "1970-01-01T05:06:02",
          "1970-01-01T05:06:02",
          "1970-01-01T05:06:02",
          "1970-01-01T07:34:30",
          "1970-01-01T07:34:30",
          "1970-01-01T08:16:10",
          "1970-01-01T08:16:10",
          "1970-01-01T08:16:10",
          "1970-01-01T10:44:38",
          "1970-01-01T10:44:38",
          "1970-01-01T11:26:18",
          "1970-01-01T11:26:18",
          "1970-01-01T11:26:18",
          "1970-01-01T14:21:50",
          "1970-01-01T14:21:50",
          "1970-01-01T15:03:30",
          "1970-01-01T15:03:30",
          "1970-01-01T15:03:30",
          "1970-01-01T18:02:42",
          "1970-01-01T18:02:42",
          "1970-01-01T18:44:22",
          "1970-01-01T18:44:22",
          "1970-01-01T18:44:22",
          "1970-01-01T21:43:34",
          "1970-01-01T21:43:34",
          "1970-01-01T22:25:14",
          "1970-01-01T22:25:14",
          "1970-01-01T22:25:14"
         ],
         "y": [
          "barge_0",
          "barge_0",
          "barge_0",
          "barge_0",
          null,
          "barge_0",
          "barge_0",
          "barge_0",
          "barge_0",
          null,
          "barge_0",
          "barge_0",
          "barge_0",
          "barge_0",
          null,
          "barge_0",
          "barge_0",
          "barge_0",
          "barge_0",
          null,
          "barge_0",
          "barge_0",
          "barge_0",
          "barge_0",
          null,
          "barge_0",
          "barge_0",
          "barge_0",
          "barge_0",
          null,
          "barge_0",
          "barge_0",
          "barge_0",
          "barge_0",
          null,
          "cutter",
          "cutter",
          "cutter",
          "cutter",
          null,
          "cutter",
          "cutter",
          "cutter",
          "cutter",
          null,
          "cutter",
          "cutter",
          "cutter",
          "cutter",
          null,
          "cutter",
          "cutter",
          "cutter",
          "cutter",
          null,
          "cutter",
          "cutter",
          "cutter",
          "cutter",
          null,
          "cutter",
          "cutter",
          "cutter",
          "cutter",
          null,
          "cutter",
          "cutter",
          "cutter",
          "cutter",
          null
         ]
        },
        {
         "connectgaps": false,
         "hoverinfo": "y+name",
         "line": {
          "color": "rgb(171,198,112)",
          "width": 10
         },
         "mode": "lines",
         "name": "sailing full:barge_0",
         "type": "scatter",
         "x": [
          "1970-01-01T01:55:54",
          "1970-01-01T01:55:54",
          "1970-01-01T02:33:01",
          "1970-01-01T02:33:01",
          "1970-01-01T02:33:01",
          "1970-01-01T05:06:02",
          "1970-01-01T05:06:02",
          "1970-01-01T05:43:09",
          "1970-01-01T05:43:09",
          "1970-01-01T05:43:09",
          "1970-01-01T08:16:10",
          "1970-01-01T08:16:10",
          "1970-01-01T08:53:17",
          "1970-01-01T08:53:17",
          "1970-01-01T08:53:17",
          "1970-01-01T11:26:18",
          "1970-01-01T11:26:18",
          "1970-01-01T12:03:25",
          "1970-01-01T12:03:25",
          "1970-01-01T12:03:25",
          "1970-01-01T15:03:30",
          "1970-01-01T15:03:30",
          "1970-01-01T15:40:37",
          "1970-01-01T15:40:37",
          "1970-01-01T15:40:37",
          "1970-01-01T18:44:22",
          "1970-01-01T18:44:22",
          "1970-01-01T19:21:29",
          "1970-01-01T19:21:29",
          "1970-01-01T19:21:29",
          "1970-01-01T22:25:14",
          "1970-01-01T22:25:14",
          "1970-01-01T23:02:21",
          "1970-01-01T23:02:21",
          "1970-01-01T23:02:21"
         ],
         "y": [
          "barge_0",
          "barge_0",
          "barge_0",
          "barge_0",
          null,
          "barge_0",
          "barge_0",
          "barge_0",
          "barge_0",
          null,
          "barge_0",
          "barge_0",
          "barge_0",
          "barge_0",
          null,
          "barge_0",
          "barge_0",
          "barge_0",
          "barge_0",
          null,
          "barge_0",
          "barge_0",
          "barge_0",
          "barge_0",
          null,
          "barge_0",
          "barge_0",
          "barge_0",
          "barge_0",
          null,
          "barge_0",
          "barge_0",
          "barge_0",
          "barge_0",
          null
         ]
        },
        {
         "connectgaps": false,
         "hoverinfo": "y+name",
         "line": {
          "color": "rgb(185,212,126)",
          "width": 10
         },
         "mode": "lines",
         "name": "basic activity:barge_0",
         "type": "scatter",
         "x": [
          "1970-01-01T00:00:00",
          "1970-01-01T00:00:00",
          "1970-01-01T00:37:07",
          "1970-01-01T00:37:07",
          "1970-01-01T00:37:07",
          "1970-01-01T03:10:08",
          "1970-01-01T03:10:08",
          "1970-01-01T03:47:15",
          "1970-01-01T03:47:15",
          "1970-01-01T03:47:15",
          "1970-01-01T06:20:16",
          "1970-01-01T06:20:16",
          "1970-01-01T06:57:23",
          "1970-01-01T06:57:23",
          "1970-01-01T06:57:23",
          "1970-01-01T09:30:24",
          "1970-01-01T09:30:24",
          "1970-01-01T10:07:31",
          "1970-01-01T10:07:31",
          "1970-01-01T10:07:31",
          "1970-01-01T12:40:32",
          "1970-01-01T12:40:32",
          "1970-01-01T13:17:39",
          "1970-01-01T13:17:39",
          "1970-01-01T13:17:39",
          "1970-01-01T16:17:44",
          "1970-01-01T16:17:44",
          "1970-01-01T16:54:51",
          "1970-01-01T16:54:51",
          "1970-01-01T16:54:51",
          "1970-01-01T19:58:36",
          "1970-01-01T19:58:36",
          "1970-01-01T20:35:43",
          "1970-01-01T20:35:43",
          "1970-01-01T20:35:43"
         ],
         "y": [
          "barge_0",
          "barge_0",
          "barge_0",
          "barge_0",
          null,
          "barge_0",
          "barge_0",
          "barge_0",
          "barge_0",
          null,
          "barge_0",
          "barge_0",
          "barge_0",
          "barge_0",
          null,
          "barge_0",
          "barge_0",
          "barge_0",
          "barge_0",
          null,
          "barge_0",
          "barge_0",
          "barge_0",
          "barge_0",
          null,
          "barge_0",
          "barge_0",
          "barge_0",
          "barge_0",
          null,
          "barge_0",
          "barge_0",
          "barge_0",
          "barge_0",
          null
         ]
        },
        {
         "connectgaps": false,
         "hoverinfo": "y+name",
         "line": {
          "color": "rgb(199,226,140)",
          "width": 10
         },
         "mode": "lines",
         "name": "sailing full:barge_1",
         "type": "scatter",
         "x": [
          "1970-01-01T03:19:14",
          "1970-01-01T03:19:14",
          "1970-01-01T04:04:02",
          "1970-01-01T04:04:02",
          "1970-01-01T04:04:02",
          "1970-01-01T07:00:06",
          "1970-01-01T07:00:06",
          "1970-01-01T07:44:54",
          "1970-01-01T07:44:54",
          "1970-01-01T07:44:54",
          "1970-01-01T10:40:58",
          "1970-01-01T10:40:58",
          "1970-01-01T11:25:46",
          "1970-01-01T11:25:46",
          "1970-01-01T11:25:46",
          "1970-01-01T14:21:50",
          "1970-01-01T14:21:50",
          "1970-01-01T15:06:38",
          "1970-01-01T15:06:38",
          "1970-01-01T15:06:38",
          "1970-01-01T18:02:42",
          "1970-01-01T18:02:42",
          "1970-01-01T18:47:30",
          "1970-01-01T18:47:30",
          "1970-01-01T18:47:30",
          "1970-01-01T21:43:34",
          "1970-01-01T21:43:34",
          "1970-01-01T22:28:22",
          "1970-01-01T22:28:22",
          "1970-01-01T22:28:22"
         ],
         "y": [
          "barge_1",
          "barge_1",
          "barge_1",
          "barge_1",
          null,
          "barge_1",
          "barge_1",
          "barge_1",
          "barge_1",
          null,
          "barge_1",
          "barge_1",
          "barge_1",
          "barge_1",
          null,
          "barge_1",
          "barge_1",
          "barge_1",
          "barge_1",
          null,
          "barge_1",
          "barge_1",
          "barge_1",
          "barge_1",
          null,
          "barge_1",
          "barge_1",
          "barge_1",
          "barge_1",
          null
         ]
        },
        {
         "connectgaps": false,
         "hoverinfo": "y+name",
         "line": {
          "color": "rgb(213,240,154)",
          "width": 10
         },
         "mode": "lines",
         "name": "sailing empty:barge_1",
         "type": "scatter",
         "x": [
          "1970-01-01T00:44:48",
          "1970-01-01T00:44:48",
          "1970-01-01T01:29:36",
          "1970-01-01T01:29:36",
          "1970-01-01T01:29:36",
          "1970-01-01T05:33:38",
          "1970-01-01T05:33:38",
          "1970-01-01T06:18:26",
          "1970-01-01T06:18:26",
          "1970-01-01T06:18:26",
          "1970-01-01T09:14:30",
          "1970-01-01T09:14:30",
          "1970-01-01T09:59:18",
          "1970-01-01T09:59:18",
          "1970-01-01T09:59:18",
          "1970-01-01T12:55:22",
          "1970-01-01T12:55:22",
          "1970-01-01T13:40:10",
          "1970-01-01T13:40:10",
          "1970-01-01T13:40:10",
          "1970-01-01T16:36:14",
          "1970-01-01T16:36:14",
          "1970-01-01T17:21:02",
          "1970-01-01T17:21:02",
          "1970-01-01T17:21:02",
          "1970-01-01T20:17:06",
          "1970-01-01T20:17:06",
          "1970-01-01T21:01:54",
          "1970-01-01T21:01:54",
          "1970-01-01T21:01:54"
         ],
         "y": [
          "barge_1",
          "barge_1",
          "barge_1",
          "barge_1",
          null,
          "barge_1",
          "barge_1",
          "barge_1",
          "barge_1",
          null,
          "barge_1",
          "barge_1",
          "barge_1",
          "barge_1",
          null,
          "barge_1",
          "barge_1",
          "barge_1",
          "barge_1",
          null,
          "barge_1",
          "barge_1",
          "barge_1",
          "barge_1",
          null,
          "barge_1",
          "barge_1",
          "barge_1",
          "barge_1",
          null
         ]
        },
        {
         "connectgaps": false,
         "hoverinfo": "y+name",
         "line": {
          "color": "rgb(227,254,168)",
          "width": 10
         },
         "mode": "lines",
         "name": "basic activity:barge_1",
         "type": "scatter",
         "x": [
          "1970-01-01T00:00:00",
          "1970-01-01T00:00:00",
          "1970-01-01T00:44:48",
          "1970-01-01T00:44:48",
          "1970-01-01T00:44:48",
          "1970-01-01T04:48:50",
          "1970-01-01T04:48:50",
          "1970-01-01T05:33:38",
          "1970-01-01T05:33:38",
          "1970-01-01T05:33:38",
          "1970-01-01T08:29:42",
          "1970-01-01T08:29:42",
          "1970-01-01T09:14:30",
          "1970-01-01T09:14:30",
          "1970-01-01T09:14:30",
          "1970-01-01T12:10:34",
          "1970-01-01T12:10:34",
          "1970-01-01T12:55:22",
          "1970-01-01T12:55:22",
          "1970-01-01T12:55:22",
          "1970-01-01T15:51:26",
          "1970-01-01T15:51:26",
          "1970-01-01T16:36:14",
          "1970-01-01T16:36:14",
          "1970-01-01T16:36:14",
          "1970-01-01T19:32:18",
          "1970-01-01T19:32:18",
          "1970-01-01T20:17:06",
          "1970-01-01T20:17:06",
          "1970-01-01T20:17:06"
         ],
         "y": [
          "barge_1",
          "barge_1",
          "barge_1",
          "barge_1",
          null,
          "barge_1",
          "barge_1",
          "barge_1",
          "barge_1",
          null,
          "barge_1",
          "barge_1",
          "barge_1",
          "barge_1",
          null,
          "barge_1",
          "barge_1",
          "barge_1",
          "barge_1",
          null,
          "barge_1",
          "barge_1",
          "barge_1",
          "barge_1",
          null,
          "barge_1",
          "barge_1",
          "barge_1",
          "barge_1",
          null
         ]
        },
        {
         "connectgaps": false,
         "hoverinfo": "y+name",
         "line": {
          "color": "rgb(241,12,182)",
          "width": 10
         },
         "mode": "lines",
         "name": "loading:barge_1",
         "type": "scatter",
         "x": [
          "1970-01-01T02:37:34",
          "1970-01-01T02:37:34",
          "1970-01-01T03:19:14",
          "1970-01-01T03:19:14",
          "1970-01-01T03:19:14",
          "1970-01-01T06:18:26",
          "1970-01-01T06:18:26",
          "1970-01-01T07:00:06",
          "1970-01-01T07:00:06",
          "1970-01-01T07:00:06",
          "1970-01-01T09:59:18",
          "1970-01-01T09:59:18",
          "1970-01-01T10:40:58",
          "1970-01-01T10:40:58",
          "1970-01-01T10:40:58",
          "1970-01-01T13:40:10",
          "1970-01-01T13:40:10",
          "1970-01-01T14:21:50",
          "1970-01-01T14:21:50",
          "1970-01-01T14:21:50",
          "1970-01-01T17:21:02",
          "1970-01-01T17:21:02",
          "1970-01-01T18:02:42",
          "1970-01-01T18:02:42",
          "1970-01-01T18:02:42",
          "1970-01-01T21:01:54",
          "1970-01-01T21:01:54",
          "1970-01-01T21:43:34",
          "1970-01-01T21:43:34",
          "1970-01-01T21:43:34",
          "1970-01-01T02:37:34",
          "1970-01-01T02:37:34",
          "1970-01-01T03:19:14",
          "1970-01-01T03:19:14",
          "1970-01-01T03:19:14",
          "1970-01-01T06:18:26",
          "1970-01-01T06:18:26",
          "1970-01-01T07:00:06",
          "1970-01-01T07:00:06",
          "1970-01-01T07:00:06",
          "1970-01-01T09:59:18",
          "1970-01-01T09:59:18",
          "1970-01-01T10:40:58",
          "1970-01-01T10:40:58",
          "1970-01-01T10:40:58",
          "1970-01-01T13:40:10",
          "1970-01-01T13:40:10",
          "1970-01-01T14:21:50",
          "1970-01-01T14:21:50",
          "1970-01-01T14:21:50",
          "1970-01-01T17:21:02",
          "1970-01-01T17:21:02",
          "1970-01-01T18:02:42",
          "1970-01-01T18:02:42",
          "1970-01-01T18:02:42",
          "1970-01-01T21:01:54",
          "1970-01-01T21:01:54",
          "1970-01-01T21:43:34",
          "1970-01-01T21:43:34",
          "1970-01-01T21:43:34"
         ],
         "y": [
          "barge_1",
          "barge_1",
          "barge_1",
          "barge_1",
          null,
          "barge_1",
          "barge_1",
          "barge_1",
          "barge_1",
          null,
          "barge_1",
          "barge_1",
          "barge_1",
          "barge_1",
          null,
          "barge_1",
          "barge_1",
          "barge_1",
          "barge_1",
          null,
          "barge_1",
          "barge_1",
          "barge_1",
          "barge_1",
          null,
          "barge_1",
          "barge_1",
          "barge_1",
          "barge_1",
          null,
          "cutter",
          "cutter",
          "cutter",
          "cutter",
          null,
          "cutter",
          "cutter",
          "cutter",
          "cutter",
          null,
          "cutter",
          "cutter",
          "cutter",
          "cutter",
          null,
          "cutter",
          "cutter",
          "cutter",
          "cutter",
          null,
          "cutter",
          "cutter",
          "cutter",
          "cutter",
          null,
          "cutter",
          "cutter",
          "cutter",
          "cutter",
          null
         ]
        },
        {
         "connectgaps": false,
         "hoverinfo": "y+name",
         "line": {
          "color": "rgb(255,26,196)",
          "width": 10
         },
         "mode": "lines",
         "name": "unloading:barge_1",
         "type": "scatter",
         "x": [
          "1970-01-01T04:04:02",
          "1970-01-01T04:04:02",
          "1970-01-01T04:48:50",
          "1970-01-01T04:48:50",
          "1970-01-01T04:48:50",
          "1970-01-01T07:44:54",
          "1970-01-01T07:44:54",
          "1970-01-01T08:29:42",
          "1970-01-01T08:29:42",
          "1970-01-01T08:29:42",
          "1970-01-01T11:25:46",
          "1970-01-01T11:25:46",
          "1970-01-01T12:10:34",
          "1970-01-01T12:10:34",
          "1970-01-01T12:10:34",
          "1970-01-01T15:06:38",
          "1970-01-01T15:06:38",
          "1970-01-01T15:51:26",
          "1970-01-01T15:51:26",
          "1970-01-01T15:51:26",
          "1970-01-01T18:47:30",
          "1970-01-01T18:47:30",
          "1970-01-01T19:32:18",
          "1970-01-01T19:32:18",
          "1970-01-01T19:32:18",
          "1970-01-01T22:28:22",
          "1970-01-01T22:28:22",
          "1970-01-01T23:13:10",
          "1970-01-01T23:13:10",
          "1970-01-01T23:13:10"
         ],
         "y": [
          "barge_1",
          "barge_1",
          "barge_1",
          "barge_1",
          null,
          "barge_1",
          "barge_1",
          "barge_1",
          "barge_1",
          null,
          "barge_1",
          "barge_1",
          "barge_1",
          "barge_1",
          null,
          "barge_1",
          "barge_1",
          "barge_1",
          "barge_1",
          null,
          "barge_1",
          "barge_1",
          "barge_1",
          "barge_1",
          null,
          "barge_1",
          "barge_1",
          "barge_1",
          "barge_1",
          null
         ]
        },
        {
         "connectgaps": false,
         "hoverinfo": "y+name",
         "line": {
          "color": "rgb(13,40,210)",
          "width": 10
         },
         "mode": "lines",
         "name": "sailing empty:barge_2",
         "type": "scatter",
         "x": [
          "1970-01-01T00:39:06",
          "1970-01-01T00:39:06",
          "1970-01-01T01:18:12",
          "1970-01-01T01:18:12",
          "1970-01-01T01:18:12",
          "1970-01-01T04:34:52",
          "1970-01-01T04:34:52",
          "1970-01-01T05:13:58",
          "1970-01-01T05:13:58",
          "1970-01-01T05:13:58",
          "1970-01-01T07:52:56",
          "1970-01-01T07:52:56",
          "1970-01-01T08:32:02",
          "1970-01-01T08:32:02",
          "1970-01-01T08:32:02",
          "1970-01-01T11:11:00",
          "1970-01-01T11:11:00",
          "1970-01-01T11:50:06",
          "1970-01-01T11:50:06",
          "1970-01-01T11:50:06",
          "1970-01-01T14:29:04",
          "1970-01-01T14:29:04",
          "1970-01-01T15:08:10",
          "1970-01-01T15:08:10",
          "1970-01-01T15:08:10",
          "1970-01-01T17:47:08",
          "1970-01-01T17:47:08",
          "1970-01-01T18:26:14",
          "1970-01-01T18:26:14",
          "1970-01-01T18:26:14",
          "1970-01-01T21:23:20",
          "1970-01-01T21:23:20",
          "1970-01-01T22:02:26",
          "1970-01-01T22:02:26",
          "1970-01-01T22:02:26"
         ],
         "y": [
          "barge_2",
          "barge_2",
          "barge_2",
          "barge_2",
          null,
          "barge_2",
          "barge_2",
          "barge_2",
          "barge_2",
          null,
          "barge_2",
          "barge_2",
          "barge_2",
          "barge_2",
          null,
          "barge_2",
          "barge_2",
          "barge_2",
          "barge_2",
          null,
          "barge_2",
          "barge_2",
          "barge_2",
          "barge_2",
          null,
          "barge_2",
          "barge_2",
          "barge_2",
          "barge_2",
          null,
          "barge_2",
          "barge_2",
          "barge_2",
          "barge_2",
          null
         ]
        },
        {
         "connectgaps": false,
         "hoverinfo": "y+name",
         "line": {
          "color": "rgb(27,54,224)",
          "width": 10
         },
         "mode": "lines",
         "name": "unloading:barge_2",
         "type": "scatter",
         "x": [
          "1970-01-01T03:16:40",
          "1970-01-01T03:16:40",
          "1970-01-01T03:55:46",
          "1970-01-01T03:55:46",
          "1970-01-01T03:55:46",
          "1970-01-01T06:34:44",
          "1970-01-01T06:34:44",
          "1970-01-01T07:13:50",
          "1970-01-01T07:13:50",
          "1970-01-01T07:13:50",
          "1970-01-01T09:52:48",
          "1970-01-01T09:52:48",
          "1970-01-01T10:31:54",
          "1970-01-01T10:31:54",
          "1970-01-01T10:31:54",
          "1970-01-01T13:10:52",
          "1970-01-01T13:10:52",
          "1970-01-01T13:49:58",
          "1970-01-01T13:49:58",
          "1970-01-01T13:49:58",
          "1970-01-01T16:28:56",
          "1970-01-01T16:28:56",
          "1970-01-01T17:08:02",
          "1970-01-01T17:08:02",
          "1970-01-01T17:08:02",
          "1970-01-01T20:05:08",
          "1970-01-01T20:05:08",
          "1970-01-01T20:44:14",
          "1970-01-01T20:44:14",
          "1970-01-01T20:44:14",
          "1970-01-01T23:46:00",
          "1970-01-01T23:46:00",
          "1970-01-02T00:25:06",
          "1970-01-02T00:25:06",
          "1970-01-02T00:25:06"
         ],
         "y": [
          "barge_2",
          "barge_2",
          "barge_2",
          "barge_2",
          null,
          "barge_2",
          "barge_2",
          "barge_2",
          "barge_2",
          null,
          "barge_2",
          "barge_2",
          "barge_2",
          "barge_2",
          null,
          "barge_2",
          "barge_2",
          "barge_2",
          "barge_2",
          null,
          "barge_2",
          "barge_2",
          "barge_2",
          "barge_2",
          null,
          "barge_2",
          "barge_2",
          "barge_2",
          "barge_2",
          null,
          "barge_2",
          "barge_2",
          "barge_2",
          "barge_2",
          null
         ]
        },
        {
         "connectgaps": false,
         "hoverinfo": "y+name",
         "line": {
          "color": "rgb(41,68,238)",
          "width": 10
         },
         "mode": "lines",
         "name": "basic activity:barge_2",
         "type": "scatter",
         "x": [
          "1970-01-01T00:00:00",
          "1970-01-01T00:00:00",
          "1970-01-01T00:39:06",
          "1970-01-01T00:39:06",
          "1970-01-01T00:39:06",
          "1970-01-01T03:55:46",
          "1970-01-01T03:55:46",
          "1970-01-01T04:34:52",
          "1970-01-01T04:34:52",
          "1970-01-01T04:34:52",
          "1970-01-01T07:13:50",
          "1970-01-01T07:13:50",
          "1970-01-01T07:52:56",
          "1970-01-01T07:52:56",
          "1970-01-01T07:52:56",
          "1970-01-01T10:31:54",
          "1970-01-01T10:31:54",
          "1970-01-01T11:11:00",
          "1970-01-01T11:11:00",
          "1970-01-01T11:11:00",
          "1970-01-01T13:49:58",
          "1970-01-01T13:49:58",
          "1970-01-01T14:29:04",
          "1970-01-01T14:29:04",
          "1970-01-01T14:29:04",
          "1970-01-01T17:08:02",
          "1970-01-01T17:08:02",
          "1970-01-01T17:47:08",
          "1970-01-01T17:47:08",
          "1970-01-01T17:47:08",
          "1970-01-01T20:44:14",
          "1970-01-01T20:44:14",
          "1970-01-01T21:23:20",
          "1970-01-01T21:23:20",
          "1970-01-01T21:23:20"
         ],
         "y": [
          "barge_2",
          "barge_2",
          "barge_2",
          "barge_2",
          null,
          "barge_2",
          "barge_2",
          "barge_2",
          "barge_2",
          null,
          "barge_2",
          "barge_2",
          "barge_2",
          "barge_2",
          null,
          "barge_2",
          "barge_2",
          "barge_2",
          "barge_2",
          null,
          "barge_2",
          "barge_2",
          "barge_2",
          "barge_2",
          null,
          "barge_2",
          "barge_2",
          "barge_2",
          "barge_2",
          null,
          "barge_2",
          "barge_2",
          "barge_2",
          "barge_2",
          null
         ]
        },
        {
         "connectgaps": false,
         "hoverinfo": "y+name",
         "line": {
          "color": "rgb(55,82,252)",
          "width": 10
         },
         "mode": "lines",
         "name": "sailing full:barge_2",
         "type": "scatter",
         "x": [
          "1970-01-01T02:37:34",
          "1970-01-01T02:37:34",
          "1970-01-01T03:16:40",
          "1970-01-01T03:16:40",
          "1970-01-01T03:16:40",
          "1970-01-01T05:55:38",
          "1970-01-01T05:55:38",
          "1970-01-01T06:34:44",
          "1970-01-01T06:34:44",
          "1970-01-01T06:34:44",
          "1970-01-01T09:13:42",
          "1970-01-01T09:13:42",
          "1970-01-01T09:52:48",
          "1970-01-01T09:52:48",
          "1970-01-01T09:52:48",
          "1970-01-01T12:31:46",
          "1970-01-01T12:31:46",
          "1970-01-01T13:10:52",
          "1970-01-01T13:10:52",
          "1970-01-01T13:10:52",
          "1970-01-01T15:49:50",
          "1970-01-01T15:49:50",
          "1970-01-01T16:28:56",
          "1970-01-01T16:28:56",
          "1970-01-01T16:28:56",
          "1970-01-01T19:26:02",
          "1970-01-01T19:26:02",
          "1970-01-01T20:05:08",
          "1970-01-01T20:05:08",
          "1970-01-01T20:05:08",
          "1970-01-01T23:06:54",
          "1970-01-01T23:06:54",
          "1970-01-01T23:46:00",
          "1970-01-01T23:46:00",
          "1970-01-01T23:46:00"
         ],
         "y": [
          "barge_2",
          "barge_2",
          "barge_2",
          "barge_2",
          null,
          "barge_2",
          "barge_2",
          "barge_2",
          "barge_2",
          null,
          "barge_2",
          "barge_2",
          "barge_2",
          "barge_2",
          null,
          "barge_2",
          "barge_2",
          "barge_2",
          "barge_2",
          null,
          "barge_2",
          "barge_2",
          "barge_2",
          "barge_2",
          null,
          "barge_2",
          "barge_2",
          "barge_2",
          "barge_2",
          null,
          "barge_2",
          "barge_2",
          "barge_2",
          "barge_2",
          null
         ]
        },
        {
         "connectgaps": false,
         "hoverinfo": "y+name",
         "line": {
          "color": "rgb(69,96,10)",
          "width": 10
         },
         "mode": "lines",
         "name": "loading:barge_2",
         "type": "scatter",
         "x": [
          "1970-01-01T01:55:54",
          "1970-01-01T01:55:54",
          "1970-01-01T02:37:34",
          "1970-01-01T02:37:34",
          "1970-01-01T02:37:34",
          "1970-01-01T05:13:58",
          "1970-01-01T05:13:58",
          "1970-01-01T05:55:38",
          "1970-01-01T05:55:38",
          "1970-01-01T05:55:38",
          "1970-01-01T08:32:02",
          "1970-01-01T08:32:02",
          "1970-01-01T09:13:42",
          "1970-01-01T09:13:42",
          "1970-01-01T09:13:42",
          "1970-01-01T11:50:06",
          "1970-01-01T11:50:06",
          "1970-01-01T12:31:46",
          "1970-01-01T12:31:46",
          "1970-01-01T12:31:46",
          "1970-01-01T15:08:10",
          "1970-01-01T15:08:10",
          "1970-01-01T15:49:50",
          "1970-01-01T15:49:50",
          "1970-01-01T15:49:50",
          "1970-01-01T18:44:22",
          "1970-01-01T18:44:22",
          "1970-01-01T19:26:02",
          "1970-01-01T19:26:02",
          "1970-01-01T19:26:02",
          "1970-01-01T22:25:14",
          "1970-01-01T22:25:14",
          "1970-01-01T23:06:54",
          "1970-01-01T23:06:54",
          "1970-01-01T23:06:54",
          "1970-01-01T01:55:54",
          "1970-01-01T01:55:54",
          "1970-01-01T02:37:34",
          "1970-01-01T02:37:34",
          "1970-01-01T02:37:34",
          "1970-01-01T05:13:58",
          "1970-01-01T05:13:58",
          "1970-01-01T05:55:38",
          "1970-01-01T05:55:38",
          "1970-01-01T05:55:38",
          "1970-01-01T08:32:02",
          "1970-01-01T08:32:02",
          "1970-01-01T09:13:42",
          "1970-01-01T09:13:42",
          "1970-01-01T09:13:42",
          "1970-01-01T11:50:06",
          "1970-01-01T11:50:06",
          "1970-01-01T12:31:46",
          "1970-01-01T12:31:46",
          "1970-01-01T12:31:46",
          "1970-01-01T15:08:10",
          "1970-01-01T15:08:10",
          "1970-01-01T15:49:50",
          "1970-01-01T15:49:50",
          "1970-01-01T15:49:50",
          "1970-01-01T18:44:22",
          "1970-01-01T18:44:22",
          "1970-01-01T19:26:02",
          "1970-01-01T19:26:02",
          "1970-01-01T19:26:02",
          "1970-01-01T22:25:14",
          "1970-01-01T22:25:14",
          "1970-01-01T23:06:54",
          "1970-01-01T23:06:54",
          "1970-01-01T23:06:54"
         ],
         "y": [
          "barge_2",
          "barge_2",
          "barge_2",
          "barge_2",
          null,
          "barge_2",
          "barge_2",
          "barge_2",
          "barge_2",
          null,
          "barge_2",
          "barge_2",
          "barge_2",
          "barge_2",
          null,
          "barge_2",
          "barge_2",
          "barge_2",
          "barge_2",
          null,
          "barge_2",
          "barge_2",
          "barge_2",
          "barge_2",
          null,
          "barge_2",
          "barge_2",
          "barge_2",
          "barge_2",
          null,
          "barge_2",
          "barge_2",
          "barge_2",
          "barge_2",
          null,
          "cutter",
          "cutter",
          "cutter",
          "cutter",
          null,
          "cutter",
          "cutter",
          "cutter",
          "cutter",
          null,
          "cutter",
          "cutter",
          "cutter",
          "cutter",
          null,
          "cutter",
          "cutter",
          "cutter",
          "cutter",
          null,
          "cutter",
          "cutter",
          "cutter",
          "cutter",
          null,
          "cutter",
          "cutter",
          "cutter",
          "cutter",
          null,
          "cutter",
          "cutter",
          "cutter",
          "cutter",
          null
         ]
        },
        {
         "connectgaps": false,
         "hoverinfo": "y+name",
         "line": {
          "color": "rgb(83,110,24)",
          "width": 10
         },
         "mode": "lines",
         "name": "loading:barge_2",
         "type": "scatter",
         "x": [
          "1970-01-01T01:55:54",
          "1970-01-01T01:55:54",
          "1970-01-01T02:37:34",
          "1970-01-01T02:37:34",
          "1970-01-01T02:37:34",
          "1970-01-01T05:13:58",
          "1970-01-01T05:13:58",
          "1970-01-01T05:55:38",
          "1970-01-01T05:55:38",
          "1970-01-01T05:55:38",
          "1970-01-01T08:32:02",
          "1970-01-01T08:32:02",
          "1970-01-01T09:13:42",
          "1970-01-01T09:13:42",
          "1970-01-01T09:13:42",
          "1970-01-01T11:50:06",
          "1970-01-01T11:50:06",
          "1970-01-01T12:31:46",
          "1970-01-01T12:31:46",
          "1970-01-01T12:31:46",
          "1970-01-01T15:08:10",
          "1970-01-01T15:08:10",
          "1970-01-01T15:49:50",
          "1970-01-01T15:49:50",
          "1970-01-01T15:49:50",
          "1970-01-01T18:44:22",
          "1970-01-01T18:44:22",
          "1970-01-01T19:26:02",
          "1970-01-01T19:26:02",
          "1970-01-01T19:26:02",
          "1970-01-01T22:25:14",
          "1970-01-01T22:25:14",
          "1970-01-01T23:06:54",
          "1970-01-01T23:06:54",
          "1970-01-01T23:06:54",
          "1970-01-01T01:55:54",
          "1970-01-01T01:55:54",
          "1970-01-01T02:37:34",
          "1970-01-01T02:37:34",
          "1970-01-01T02:37:34",
          "1970-01-01T05:13:58",
          "1970-01-01T05:13:58",
          "1970-01-01T05:55:38",
          "1970-01-01T05:55:38",
          "1970-01-01T05:55:38",
          "1970-01-01T08:32:02",
          "1970-01-01T08:32:02",
          "1970-01-01T09:13:42",
          "1970-01-01T09:13:42",
          "1970-01-01T09:13:42",
          "1970-01-01T11:50:06",
          "1970-01-01T11:50:06",
          "1970-01-01T12:31:46",
          "1970-01-01T12:31:46",
          "1970-01-01T12:31:46",
          "1970-01-01T15:08:10",
          "1970-01-01T15:08:10",
          "1970-01-01T15:49:50",
          "1970-01-01T15:49:50",
          "1970-01-01T15:49:50",
          "1970-01-01T18:44:22",
          "1970-01-01T18:44:22",
          "1970-01-01T19:26:02",
          "1970-01-01T19:26:02",
          "1970-01-01T19:26:02",
          "1970-01-01T22:25:14",
          "1970-01-01T22:25:14",
          "1970-01-01T23:06:54",
          "1970-01-01T23:06:54",
          "1970-01-01T23:06:54"
         ],
         "y": [
          "barge_2",
          "barge_2",
          "barge_2",
          "barge_2",
          null,
          "barge_2",
          "barge_2",
          "barge_2",
          "barge_2",
          null,
          "barge_2",
          "barge_2",
          "barge_2",
          "barge_2",
          null,
          "barge_2",
          "barge_2",
          "barge_2",
          "barge_2",
          null,
          "barge_2",
          "barge_2",
          "barge_2",
          "barge_2",
          null,
          "barge_2",
          "barge_2",
          "barge_2",
          "barge_2",
          null,
          "barge_2",
          "barge_2",
          "barge_2",
          "barge_2",
          null,
          "cutter",
          "cutter",
          "cutter",
          "cutter",
          null,
          "cutter",
          "cutter",
          "cutter",
          "cutter",
          null,
          "cutter",
          "cutter",
          "cutter",
          "cutter",
          null,
          "cutter",
          "cutter",
          "cutter",
          "cutter",
          null,
          "cutter",
          "cutter",
          "cutter",
          "cutter",
          null,
          "cutter",
          "cutter",
          "cutter",
          "cutter",
          null,
          "cutter",
          "cutter",
          "cutter",
          "cutter",
          null
         ]
        },
        {
         "connectgaps": false,
         "hoverinfo": "y+name",
         "line": {
          "color": "rgb(97,124,38)",
          "width": 10
         },
         "mode": "lines",
         "name": "loading:barge_1",
         "type": "scatter",
         "x": [
          "1970-01-01T02:37:34",
          "1970-01-01T02:37:34",
          "1970-01-01T03:19:14",
          "1970-01-01T03:19:14",
          "1970-01-01T03:19:14",
          "1970-01-01T06:18:26",
          "1970-01-01T06:18:26",
          "1970-01-01T07:00:06",
          "1970-01-01T07:00:06",
          "1970-01-01T07:00:06",
          "1970-01-01T09:59:18",
          "1970-01-01T09:59:18",
          "1970-01-01T10:40:58",
          "1970-01-01T10:40:58",
          "1970-01-01T10:40:58",
          "1970-01-01T13:40:10",
          "1970-01-01T13:40:10",
          "1970-01-01T14:21:50",
          "1970-01-01T14:21:50",
          "1970-01-01T14:21:50",
          "1970-01-01T17:21:02",
          "1970-01-01T17:21:02",
          "1970-01-01T18:02:42",
          "1970-01-01T18:02:42",
          "1970-01-01T18:02:42",
          "1970-01-01T21:01:54",
          "1970-01-01T21:01:54",
          "1970-01-01T21:43:34",
          "1970-01-01T21:43:34",
          "1970-01-01T21:43:34",
          "1970-01-01T02:37:34",
          "1970-01-01T02:37:34",
          "1970-01-01T03:19:14",
          "1970-01-01T03:19:14",
          "1970-01-01T03:19:14",
          "1970-01-01T06:18:26",
          "1970-01-01T06:18:26",
          "1970-01-01T07:00:06",
          "1970-01-01T07:00:06",
          "1970-01-01T07:00:06",
          "1970-01-01T09:59:18",
          "1970-01-01T09:59:18",
          "1970-01-01T10:40:58",
          "1970-01-01T10:40:58",
          "1970-01-01T10:40:58",
          "1970-01-01T13:40:10",
          "1970-01-01T13:40:10",
          "1970-01-01T14:21:50",
          "1970-01-01T14:21:50",
          "1970-01-01T14:21:50",
          "1970-01-01T17:21:02",
          "1970-01-01T17:21:02",
          "1970-01-01T18:02:42",
          "1970-01-01T18:02:42",
          "1970-01-01T18:02:42",
          "1970-01-01T21:01:54",
          "1970-01-01T21:01:54",
          "1970-01-01T21:43:34",
          "1970-01-01T21:43:34",
          "1970-01-01T21:43:34"
         ],
         "y": [
          "barge_1",
          "barge_1",
          "barge_1",
          "barge_1",
          null,
          "barge_1",
          "barge_1",
          "barge_1",
          "barge_1",
          null,
          "barge_1",
          "barge_1",
          "barge_1",
          "barge_1",
          null,
          "barge_1",
          "barge_1",
          "barge_1",
          "barge_1",
          null,
          "barge_1",
          "barge_1",
          "barge_1",
          "barge_1",
          null,
          "barge_1",
          "barge_1",
          "barge_1",
          "barge_1",
          null,
          "cutter",
          "cutter",
          "cutter",
          "cutter",
          null,
          "cutter",
          "cutter",
          "cutter",
          "cutter",
          null,
          "cutter",
          "cutter",
          "cutter",
          "cutter",
          null,
          "cutter",
          "cutter",
          "cutter",
          "cutter",
          null,
          "cutter",
          "cutter",
          "cutter",
          "cutter",
          null,
          "cutter",
          "cutter",
          "cutter",
          "cutter",
          null
         ]
        },
        {
         "connectgaps": false,
         "hoverinfo": "y+name",
         "line": {
          "color": "rgb(111,138,52)",
          "width": 10
         },
         "mode": "lines",
         "name": "loading:barge_0",
         "type": "scatter",
         "x": [
          "1970-01-01T01:14:14",
          "1970-01-01T01:14:14",
          "1970-01-01T01:55:54",
          "1970-01-01T01:55:54",
          "1970-01-01T01:55:54",
          "1970-01-01T04:24:22",
          "1970-01-01T04:24:22",
          "1970-01-01T05:06:02",
          "1970-01-01T05:06:02",
          "1970-01-01T05:06:02",
          "1970-01-01T07:34:30",
          "1970-01-01T07:34:30",
          "1970-01-01T08:16:10",
          "1970-01-01T08:16:10",
          "1970-01-01T08:16:10",
          "1970-01-01T10:44:38",
          "1970-01-01T10:44:38",
          "1970-01-01T11:26:18",
          "1970-01-01T11:26:18",
          "1970-01-01T11:26:18",
          "1970-01-01T14:21:50",
          "1970-01-01T14:21:50",
          "1970-01-01T15:03:30",
          "1970-01-01T15:03:30",
          "1970-01-01T15:03:30",
          "1970-01-01T18:02:42",
          "1970-01-01T18:02:42",
          "1970-01-01T18:44:22",
          "1970-01-01T18:44:22",
          "1970-01-01T18:44:22",
          "1970-01-01T21:43:34",
          "1970-01-01T21:43:34",
          "1970-01-01T22:25:14",
          "1970-01-01T22:25:14",
          "1970-01-01T22:25:14",
          "1970-01-01T01:14:14",
          "1970-01-01T01:14:14",
          "1970-01-01T01:55:54",
          "1970-01-01T01:55:54",
          "1970-01-01T01:55:54",
          "1970-01-01T04:24:22",
          "1970-01-01T04:24:22",
          "1970-01-01T05:06:02",
          "1970-01-01T05:06:02",
          "1970-01-01T05:06:02",
          "1970-01-01T07:34:30",
          "1970-01-01T07:34:30",
          "1970-01-01T08:16:10",
          "1970-01-01T08:16:10",
          "1970-01-01T08:16:10",
          "1970-01-01T10:44:38",
          "1970-01-01T10:44:38",
          "1970-01-01T11:26:18",
          "1970-01-01T11:26:18",
          "1970-01-01T11:26:18",
          "1970-01-01T14:21:50",
          "1970-01-01T14:21:50",
          "1970-01-01T15:03:30",
          "1970-01-01T15:03:30",
          "1970-01-01T15:03:30",
          "1970-01-01T18:02:42",
          "1970-01-01T18:02:42",
          "1970-01-01T18:44:22",
          "1970-01-01T18:44:22",
          "1970-01-01T18:44:22",
          "1970-01-01T21:43:34",
          "1970-01-01T21:43:34",
          "1970-01-01T22:25:14",
          "1970-01-01T22:25:14",
          "1970-01-01T22:25:14"
         ],
         "y": [
          "barge_0",
          "barge_0",
          "barge_0",
          "barge_0",
          null,
          "barge_0",
          "barge_0",
          "barge_0",
          "barge_0",
          null,
          "barge_0",
          "barge_0",
          "barge_0",
          "barge_0",
          null,
          "barge_0",
          "barge_0",
          "barge_0",
          "barge_0",
          null,
          "barge_0",
          "barge_0",
          "barge_0",
          "barge_0",
          null,
          "barge_0",
          "barge_0",
          "barge_0",
          "barge_0",
          null,
          "barge_0",
          "barge_0",
          "barge_0",
          "barge_0",
          null,
          "cutter",
          "cutter",
          "cutter",
          "cutter",
          null,
          "cutter",
          "cutter",
          "cutter",
          "cutter",
          null,
          "cutter",
          "cutter",
          "cutter",
          "cutter",
          null,
          "cutter",
          "cutter",
          "cutter",
          "cutter",
          null,
          "cutter",
          "cutter",
          "cutter",
          "cutter",
          null,
          "cutter",
          "cutter",
          "cutter",
          "cutter",
          null,
          "cutter",
          "cutter",
          "cutter",
          "cutter",
          null
         ]
        }
       ],
       "layout": {
        "hovermode": "closest",
        "legend": {
         "orientation": "h",
         "x": 0,
         "y": -0.2
        },
        "template": {
         "data": {
          "bar": [
           {
            "error_x": {
             "color": "#2a3f5f"
            },
            "error_y": {
             "color": "#2a3f5f"
            },
            "marker": {
             "line": {
              "color": "#E5ECF6",
              "width": 0.5
             },
             "pattern": {
              "fillmode": "overlay",
              "size": 10,
              "solidity": 0.2
             }
            },
            "type": "bar"
           }
          ],
          "barpolar": [
           {
            "marker": {
             "line": {
              "color": "#E5ECF6",
              "width": 0.5
             },
             "pattern": {
              "fillmode": "overlay",
              "size": 10,
              "solidity": 0.2
             }
            },
            "type": "barpolar"
           }
          ],
          "carpet": [
           {
            "aaxis": {
             "endlinecolor": "#2a3f5f",
             "gridcolor": "white",
             "linecolor": "white",
             "minorgridcolor": "white",
             "startlinecolor": "#2a3f5f"
            },
            "baxis": {
             "endlinecolor": "#2a3f5f",
             "gridcolor": "white",
             "linecolor": "white",
             "minorgridcolor": "white",
             "startlinecolor": "#2a3f5f"
            },
            "type": "carpet"
           }
          ],
          "choropleth": [
           {
            "colorbar": {
             "outlinewidth": 0,
             "ticks": ""
            },
            "type": "choropleth"
           }
          ],
          "contour": [
           {
            "colorbar": {
             "outlinewidth": 0,
             "ticks": ""
            },
            "colorscale": [
             [
              0,
              "#0d0887"
             ],
             [
              0.1111111111111111,
              "#46039f"
             ],
             [
              0.2222222222222222,
              "#7201a8"
             ],
             [
              0.3333333333333333,
              "#9c179e"
             ],
             [
              0.4444444444444444,
              "#bd3786"
             ],
             [
              0.5555555555555556,
              "#d8576b"
             ],
             [
              0.6666666666666666,
              "#ed7953"
             ],
             [
              0.7777777777777778,
              "#fb9f3a"
             ],
             [
              0.8888888888888888,
              "#fdca26"
             ],
             [
              1,
              "#f0f921"
             ]
            ],
            "type": "contour"
           }
          ],
          "contourcarpet": [
           {
            "colorbar": {
             "outlinewidth": 0,
             "ticks": ""
            },
            "type": "contourcarpet"
           }
          ],
          "heatmap": [
           {
            "colorbar": {
             "outlinewidth": 0,
             "ticks": ""
            },
            "colorscale": [
             [
              0,
              "#0d0887"
             ],
             [
              0.1111111111111111,
              "#46039f"
             ],
             [
              0.2222222222222222,
              "#7201a8"
             ],
             [
              0.3333333333333333,
              "#9c179e"
             ],
             [
              0.4444444444444444,
              "#bd3786"
             ],
             [
              0.5555555555555556,
              "#d8576b"
             ],
             [
              0.6666666666666666,
              "#ed7953"
             ],
             [
              0.7777777777777778,
              "#fb9f3a"
             ],
             [
              0.8888888888888888,
              "#fdca26"
             ],
             [
              1,
              "#f0f921"
             ]
            ],
            "type": "heatmap"
           }
          ],
          "heatmapgl": [
           {
            "colorbar": {
             "outlinewidth": 0,
             "ticks": ""
            },
            "colorscale": [
             [
              0,
              "#0d0887"
             ],
             [
              0.1111111111111111,
              "#46039f"
             ],
             [
              0.2222222222222222,
              "#7201a8"
             ],
             [
              0.3333333333333333,
              "#9c179e"
             ],
             [
              0.4444444444444444,
              "#bd3786"
             ],
             [
              0.5555555555555556,
              "#d8576b"
             ],
             [
              0.6666666666666666,
              "#ed7953"
             ],
             [
              0.7777777777777778,
              "#fb9f3a"
             ],
             [
              0.8888888888888888,
              "#fdca26"
             ],
             [
              1,
              "#f0f921"
             ]
            ],
            "type": "heatmapgl"
           }
          ],
          "histogram": [
           {
            "marker": {
             "pattern": {
              "fillmode": "overlay",
              "size": 10,
              "solidity": 0.2
             }
            },
            "type": "histogram"
           }
          ],
          "histogram2d": [
           {
            "colorbar": {
             "outlinewidth": 0,
             "ticks": ""
            },
            "colorscale": [
             [
              0,
              "#0d0887"
             ],
             [
              0.1111111111111111,
              "#46039f"
             ],
             [
              0.2222222222222222,
              "#7201a8"
             ],
             [
              0.3333333333333333,
              "#9c179e"
             ],
             [
              0.4444444444444444,
              "#bd3786"
             ],
             [
              0.5555555555555556,
              "#d8576b"
             ],
             [
              0.6666666666666666,
              "#ed7953"
             ],
             [
              0.7777777777777778,
              "#fb9f3a"
             ],
             [
              0.8888888888888888,
              "#fdca26"
             ],
             [
              1,
              "#f0f921"
             ]
            ],
            "type": "histogram2d"
           }
          ],
          "histogram2dcontour": [
           {
            "colorbar": {
             "outlinewidth": 0,
             "ticks": ""
            },
            "colorscale": [
             [
              0,
              "#0d0887"
             ],
             [
              0.1111111111111111,
              "#46039f"
             ],
             [
              0.2222222222222222,
              "#7201a8"
             ],
             [
              0.3333333333333333,
              "#9c179e"
             ],
             [
              0.4444444444444444,
              "#bd3786"
             ],
             [
              0.5555555555555556,
              "#d8576b"
             ],
             [
              0.6666666666666666,
              "#ed7953"
             ],
             [
              0.7777777777777778,
              "#fb9f3a"
             ],
             [
              0.8888888888888888,
              "#fdca26"
             ],
             [
              1,
              "#f0f921"
             ]
            ],
            "type": "histogram2dcontour"
           }
          ],
          "mesh3d": [
           {
            "colorbar": {
             "outlinewidth": 0,
             "ticks": ""
            },
            "type": "mesh3d"
           }
          ],
          "parcoords": [
           {
            "line": {
             "colorbar": {
              "outlinewidth": 0,
              "ticks": ""
             }
            },
            "type": "parcoords"
           }
          ],
          "pie": [
           {
            "automargin": true,
            "type": "pie"
           }
          ],
          "scatter": [
           {
            "fillpattern": {
             "fillmode": "overlay",
             "size": 10,
             "solidity": 0.2
            },
            "type": "scatter"
           }
          ],
          "scatter3d": [
           {
            "line": {
             "colorbar": {
              "outlinewidth": 0,
              "ticks": ""
             }
            },
            "marker": {
             "colorbar": {
              "outlinewidth": 0,
              "ticks": ""
             }
            },
            "type": "scatter3d"
           }
          ],
          "scattercarpet": [
           {
            "marker": {
             "colorbar": {
              "outlinewidth": 0,
              "ticks": ""
             }
            },
            "type": "scattercarpet"
           }
          ],
          "scattergeo": [
           {
            "marker": {
             "colorbar": {
              "outlinewidth": 0,
              "ticks": ""
             }
            },
            "type": "scattergeo"
           }
          ],
          "scattergl": [
           {
            "marker": {
             "colorbar": {
              "outlinewidth": 0,
              "ticks": ""
             }
            },
            "type": "scattergl"
           }
          ],
          "scattermapbox": [
           {
            "marker": {
             "colorbar": {
              "outlinewidth": 0,
              "ticks": ""
             }
            },
            "type": "scattermapbox"
           }
          ],
          "scatterpolar": [
           {
            "marker": {
             "colorbar": {
              "outlinewidth": 0,
              "ticks": ""
             }
            },
            "type": "scatterpolar"
           }
          ],
          "scatterpolargl": [
           {
            "marker": {
             "colorbar": {
              "outlinewidth": 0,
              "ticks": ""
             }
            },
            "type": "scatterpolargl"
           }
          ],
          "scatterternary": [
           {
            "marker": {
             "colorbar": {
              "outlinewidth": 0,
              "ticks": ""
             }
            },
            "type": "scatterternary"
           }
          ],
          "surface": [
           {
            "colorbar": {
             "outlinewidth": 0,
             "ticks": ""
            },
            "colorscale": [
             [
              0,
              "#0d0887"
             ],
             [
              0.1111111111111111,
              "#46039f"
             ],
             [
              0.2222222222222222,
              "#7201a8"
             ],
             [
              0.3333333333333333,
              "#9c179e"
             ],
             [
              0.4444444444444444,
              "#bd3786"
             ],
             [
              0.5555555555555556,
              "#d8576b"
             ],
             [
              0.6666666666666666,
              "#ed7953"
             ],
             [
              0.7777777777777778,
              "#fb9f3a"
             ],
             [
              0.8888888888888888,
              "#fdca26"
             ],
             [
              1,
              "#f0f921"
             ]
            ],
            "type": "surface"
           }
          ],
          "table": [
           {
            "cells": {
             "fill": {
              "color": "#EBF0F8"
             },
             "line": {
              "color": "white"
             }
            },
            "header": {
             "fill": {
              "color": "#C8D4E3"
             },
             "line": {
              "color": "white"
             }
            },
            "type": "table"
           }
          ]
         },
         "layout": {
          "annotationdefaults": {
           "arrowcolor": "#2a3f5f",
           "arrowhead": 0,
           "arrowwidth": 1
          },
          "autotypenumbers": "strict",
          "coloraxis": {
           "colorbar": {
            "outlinewidth": 0,
            "ticks": ""
           }
          },
          "colorscale": {
           "diverging": [
            [
             0,
             "#8e0152"
            ],
            [
             0.1,
             "#c51b7d"
            ],
            [
             0.2,
             "#de77ae"
            ],
            [
             0.3,
             "#f1b6da"
            ],
            [
             0.4,
             "#fde0ef"
            ],
            [
             0.5,
             "#f7f7f7"
            ],
            [
             0.6,
             "#e6f5d0"
            ],
            [
             0.7,
             "#b8e186"
            ],
            [
             0.8,
             "#7fbc41"
            ],
            [
             0.9,
             "#4d9221"
            ],
            [
             1,
             "#276419"
            ]
           ],
           "sequential": [
            [
             0,
             "#0d0887"
            ],
            [
             0.1111111111111111,
             "#46039f"
            ],
            [
             0.2222222222222222,
             "#7201a8"
            ],
            [
             0.3333333333333333,
             "#9c179e"
            ],
            [
             0.4444444444444444,
             "#bd3786"
            ],
            [
             0.5555555555555556,
             "#d8576b"
            ],
            [
             0.6666666666666666,
             "#ed7953"
            ],
            [
             0.7777777777777778,
             "#fb9f3a"
            ],
            [
             0.8888888888888888,
             "#fdca26"
            ],
            [
             1,
             "#f0f921"
            ]
           ],
           "sequentialminus": [
            [
             0,
             "#0d0887"
            ],
            [
             0.1111111111111111,
             "#46039f"
            ],
            [
             0.2222222222222222,
             "#7201a8"
            ],
            [
             0.3333333333333333,
             "#9c179e"
            ],
            [
             0.4444444444444444,
             "#bd3786"
            ],
            [
             0.5555555555555556,
             "#d8576b"
            ],
            [
             0.6666666666666666,
             "#ed7953"
            ],
            [
             0.7777777777777778,
             "#fb9f3a"
            ],
            [
             0.8888888888888888,
             "#fdca26"
            ],
            [
             1,
             "#f0f921"
            ]
           ]
          },
          "colorway": [
           "#636efa",
           "#EF553B",
           "#00cc96",
           "#ab63fa",
           "#FFA15A",
           "#19d3f3",
           "#FF6692",
           "#B6E880",
           "#FF97FF",
           "#FECB52"
          ],
          "font": {
           "color": "#2a3f5f"
          },
          "geo": {
           "bgcolor": "white",
           "lakecolor": "white",
           "landcolor": "#E5ECF6",
           "showlakes": true,
           "showland": true,
           "subunitcolor": "white"
          },
          "hoverlabel": {
           "align": "left"
          },
          "hovermode": "closest",
          "mapbox": {
           "style": "light"
          },
          "paper_bgcolor": "white",
          "plot_bgcolor": "#E5ECF6",
          "polar": {
           "angularaxis": {
            "gridcolor": "white",
            "linecolor": "white",
            "ticks": ""
           },
           "bgcolor": "#E5ECF6",
           "radialaxis": {
            "gridcolor": "white",
            "linecolor": "white",
            "ticks": ""
           }
          },
          "scene": {
           "xaxis": {
            "backgroundcolor": "#E5ECF6",
            "gridcolor": "white",
            "gridwidth": 2,
            "linecolor": "white",
            "showbackground": true,
            "ticks": "",
            "zerolinecolor": "white"
           },
           "yaxis": {
            "backgroundcolor": "#E5ECF6",
            "gridcolor": "white",
            "gridwidth": 2,
            "linecolor": "white",
            "showbackground": true,
            "ticks": "",
            "zerolinecolor": "white"
           },
           "zaxis": {
            "backgroundcolor": "#E5ECF6",
            "gridcolor": "white",
            "gridwidth": 2,
            "linecolor": "white",
            "showbackground": true,
            "ticks": "",
            "zerolinecolor": "white"
           }
          },
          "shapedefaults": {
           "line": {
            "color": "#2a3f5f"
           }
          },
          "ternary": {
           "aaxis": {
            "gridcolor": "white",
            "linecolor": "white",
            "ticks": ""
           },
           "baxis": {
            "gridcolor": "white",
            "linecolor": "white",
            "ticks": ""
           },
           "bgcolor": "#E5ECF6",
           "caxis": {
            "gridcolor": "white",
            "linecolor": "white",
            "ticks": ""
           }
          },
          "title": {
           "x": 0.05
          },
          "xaxis": {
           "automargin": true,
           "gridcolor": "white",
           "linecolor": "white",
           "ticks": "",
           "title": {
            "standoff": 15
           },
           "zerolinecolor": "white",
           "zerolinewidth": 2
          },
          "yaxis": {
           "automargin": true,
           "gridcolor": "white",
           "linecolor": "white",
           "ticks": "",
           "title": {
            "standoff": 15
           },
           "zerolinecolor": "white",
           "zerolinewidth": 2
          }
         }
        },
        "title": {
         "text": "GANTT Chart"
        },
        "xaxis": {
         "range": [
          "1970-01-01T00:00:00",
          "1970-01-02T00:25:06"
         ],
         "title": {
          "font": {
           "color": "#7f7f7f",
           "family": "Courier New, monospace",
           "size": 18
          },
          "text": "Time"
         }
        },
        "yaxis": {
         "title": {
          "font": {
           "color": "#7f7f7f",
           "family": "Courier New, monospace",
           "size": 18
          },
          "text": "Activities"
         }
        }
       }
      },
      "text/html": [
       "<div>                            <div id=\"e3735ada-ccbe-42e1-8fa3-d227ae32ed5f\" class=\"plotly-graph-div\" style=\"height:525px; width:100%;\"></div>            <script type=\"text/javascript\">                require([\"plotly\"], function(Plotly) {                    window.PLOTLYENV=window.PLOTLYENV || {};                                    if (document.getElementById(\"e3735ada-ccbe-42e1-8fa3-d227ae32ed5f\")) {                    Plotly.newPlot(                        \"e3735ada-ccbe-42e1-8fa3-d227ae32ed5f\",                        [{\"connectgaps\":false,\"hoverinfo\":\"y+name\",\"line\":{\"color\":\"rgb(129,156,70)\",\"width\":10},\"mode\":\"lines\",\"name\":\"unloading:barge_0\",\"x\":[\"1970-01-01T02:33:01\",\"1970-01-01T02:33:01\",\"1970-01-01T03:10:08\",\"1970-01-01T03:10:08\",\"1970-01-01T03:10:08\",\"1970-01-01T05:43:09\",\"1970-01-01T05:43:09\",\"1970-01-01T06:20:16\",\"1970-01-01T06:20:16\",\"1970-01-01T06:20:16\",\"1970-01-01T08:53:17\",\"1970-01-01T08:53:17\",\"1970-01-01T09:30:24\",\"1970-01-01T09:30:24\",\"1970-01-01T09:30:24\",\"1970-01-01T12:03:25\",\"1970-01-01T12:03:25\",\"1970-01-01T12:40:32\",\"1970-01-01T12:40:32\",\"1970-01-01T12:40:32\",\"1970-01-01T15:40:37\",\"1970-01-01T15:40:37\",\"1970-01-01T16:17:44\",\"1970-01-01T16:17:44\",\"1970-01-01T16:17:44\",\"1970-01-01T19:21:29\",\"1970-01-01T19:21:29\",\"1970-01-01T19:58:36\",\"1970-01-01T19:58:36\",\"1970-01-01T19:58:36\",\"1970-01-01T23:02:21\",\"1970-01-01T23:02:21\",\"1970-01-01T23:39:28\",\"1970-01-01T23:39:28\",\"1970-01-01T23:39:28\"],\"y\":[\"barge_0\",\"barge_0\",\"barge_0\",\"barge_0\",null,\"barge_0\",\"barge_0\",\"barge_0\",\"barge_0\",null,\"barge_0\",\"barge_0\",\"barge_0\",\"barge_0\",null,\"barge_0\",\"barge_0\",\"barge_0\",\"barge_0\",null,\"barge_0\",\"barge_0\",\"barge_0\",\"barge_0\",null,\"barge_0\",\"barge_0\",\"barge_0\",\"barge_0\",null,\"barge_0\",\"barge_0\",\"barge_0\",\"barge_0\",null],\"type\":\"scatter\"},{\"connectgaps\":false,\"hoverinfo\":\"y+name\",\"line\":{\"color\":\"rgb(143,170,84)\",\"width\":10},\"mode\":\"lines\",\"name\":\"sailing empty:barge_0\",\"x\":[\"1970-01-01T00:37:07\",\"1970-01-01T00:37:07\",\"1970-01-01T01:14:14\",\"1970-01-01T01:14:14\",\"1970-01-01T01:14:14\",\"1970-01-01T03:47:15\",\"1970-01-01T03:47:15\",\"1970-01-01T04:24:22\",\"1970-01-01T04:24:22\",\"1970-01-01T04:24:22\",\"1970-01-01T06:57:23\",\"1970-01-01T06:57:23\",\"1970-01-01T07:34:30\",\"1970-01-01T07:34:30\",\"1970-01-01T07:34:30\",\"1970-01-01T10:07:31\",\"1970-01-01T10:07:31\",\"1970-01-01T10:44:38\",\"1970-01-01T10:44:38\",\"1970-01-01T10:44:38\",\"1970-01-01T13:17:39\",\"1970-01-01T13:17:39\",\"1970-01-01T13:54:46\",\"1970-01-01T13:54:46\",\"1970-01-01T13:54:46\",\"1970-01-01T16:54:51\",\"1970-01-01T16:54:51\",\"1970-01-01T17:31:58\",\"1970-01-01T17:31:58\",\"1970-01-01T17:31:58\",\"1970-01-01T20:35:43\",\"1970-01-01T20:35:43\",\"1970-01-01T21:12:50\",\"1970-01-01T21:12:50\",\"1970-01-01T21:12:50\"],\"y\":[\"barge_0\",\"barge_0\",\"barge_0\",\"barge_0\",null,\"barge_0\",\"barge_0\",\"barge_0\",\"barge_0\",null,\"barge_0\",\"barge_0\",\"barge_0\",\"barge_0\",null,\"barge_0\",\"barge_0\",\"barge_0\",\"barge_0\",null,\"barge_0\",\"barge_0\",\"barge_0\",\"barge_0\",null,\"barge_0\",\"barge_0\",\"barge_0\",\"barge_0\",null,\"barge_0\",\"barge_0\",\"barge_0\",\"barge_0\",null],\"type\":\"scatter\"},{\"connectgaps\":false,\"hoverinfo\":\"y+name\",\"line\":{\"color\":\"rgb(157,184,98)\",\"width\":10},\"mode\":\"lines\",\"name\":\"loading:barge_0\",\"x\":[\"1970-01-01T01:14:14\",\"1970-01-01T01:14:14\",\"1970-01-01T01:55:54\",\"1970-01-01T01:55:54\",\"1970-01-01T01:55:54\",\"1970-01-01T04:24:22\",\"1970-01-01T04:24:22\",\"1970-01-01T05:06:02\",\"1970-01-01T05:06:02\",\"1970-01-01T05:06:02\",\"1970-01-01T07:34:30\",\"1970-01-01T07:34:30\",\"1970-01-01T08:16:10\",\"1970-01-01T08:16:10\",\"1970-01-01T08:16:10\",\"1970-01-01T10:44:38\",\"1970-01-01T10:44:38\",\"1970-01-01T11:26:18\",\"1970-01-01T11:26:18\",\"1970-01-01T11:26:18\",\"1970-01-01T14:21:50\",\"1970-01-01T14:21:50\",\"1970-01-01T15:03:30\",\"1970-01-01T15:03:30\",\"1970-01-01T15:03:30\",\"1970-01-01T18:02:42\",\"1970-01-01T18:02:42\",\"1970-01-01T18:44:22\",\"1970-01-01T18:44:22\",\"1970-01-01T18:44:22\",\"1970-01-01T21:43:34\",\"1970-01-01T21:43:34\",\"1970-01-01T22:25:14\",\"1970-01-01T22:25:14\",\"1970-01-01T22:25:14\",\"1970-01-01T01:14:14\",\"1970-01-01T01:14:14\",\"1970-01-01T01:55:54\",\"1970-01-01T01:55:54\",\"1970-01-01T01:55:54\",\"1970-01-01T04:24:22\",\"1970-01-01T04:24:22\",\"1970-01-01T05:06:02\",\"1970-01-01T05:06:02\",\"1970-01-01T05:06:02\",\"1970-01-01T07:34:30\",\"1970-01-01T07:34:30\",\"1970-01-01T08:16:10\",\"1970-01-01T08:16:10\",\"1970-01-01T08:16:10\",\"1970-01-01T10:44:38\",\"1970-01-01T10:44:38\",\"1970-01-01T11:26:18\",\"1970-01-01T11:26:18\",\"1970-01-01T11:26:18\",\"1970-01-01T14:21:50\",\"1970-01-01T14:21:50\",\"1970-01-01T15:03:30\",\"1970-01-01T15:03:30\",\"1970-01-01T15:03:30\",\"1970-01-01T18:02:42\",\"1970-01-01T18:02:42\",\"1970-01-01T18:44:22\",\"1970-01-01T18:44:22\",\"1970-01-01T18:44:22\",\"1970-01-01T21:43:34\",\"1970-01-01T21:43:34\",\"1970-01-01T22:25:14\",\"1970-01-01T22:25:14\",\"1970-01-01T22:25:14\"],\"y\":[\"barge_0\",\"barge_0\",\"barge_0\",\"barge_0\",null,\"barge_0\",\"barge_0\",\"barge_0\",\"barge_0\",null,\"barge_0\",\"barge_0\",\"barge_0\",\"barge_0\",null,\"barge_0\",\"barge_0\",\"barge_0\",\"barge_0\",null,\"barge_0\",\"barge_0\",\"barge_0\",\"barge_0\",null,\"barge_0\",\"barge_0\",\"barge_0\",\"barge_0\",null,\"barge_0\",\"barge_0\",\"barge_0\",\"barge_0\",null,\"cutter\",\"cutter\",\"cutter\",\"cutter\",null,\"cutter\",\"cutter\",\"cutter\",\"cutter\",null,\"cutter\",\"cutter\",\"cutter\",\"cutter\",null,\"cutter\",\"cutter\",\"cutter\",\"cutter\",null,\"cutter\",\"cutter\",\"cutter\",\"cutter\",null,\"cutter\",\"cutter\",\"cutter\",\"cutter\",null,\"cutter\",\"cutter\",\"cutter\",\"cutter\",null],\"type\":\"scatter\"},{\"connectgaps\":false,\"hoverinfo\":\"y+name\",\"line\":{\"color\":\"rgb(171,198,112)\",\"width\":10},\"mode\":\"lines\",\"name\":\"sailing full:barge_0\",\"x\":[\"1970-01-01T01:55:54\",\"1970-01-01T01:55:54\",\"1970-01-01T02:33:01\",\"1970-01-01T02:33:01\",\"1970-01-01T02:33:01\",\"1970-01-01T05:06:02\",\"1970-01-01T05:06:02\",\"1970-01-01T05:43:09\",\"1970-01-01T05:43:09\",\"1970-01-01T05:43:09\",\"1970-01-01T08:16:10\",\"1970-01-01T08:16:10\",\"1970-01-01T08:53:17\",\"1970-01-01T08:53:17\",\"1970-01-01T08:53:17\",\"1970-01-01T11:26:18\",\"1970-01-01T11:26:18\",\"1970-01-01T12:03:25\",\"1970-01-01T12:03:25\",\"1970-01-01T12:03:25\",\"1970-01-01T15:03:30\",\"1970-01-01T15:03:30\",\"1970-01-01T15:40:37\",\"1970-01-01T15:40:37\",\"1970-01-01T15:40:37\",\"1970-01-01T18:44:22\",\"1970-01-01T18:44:22\",\"1970-01-01T19:21:29\",\"1970-01-01T19:21:29\",\"1970-01-01T19:21:29\",\"1970-01-01T22:25:14\",\"1970-01-01T22:25:14\",\"1970-01-01T23:02:21\",\"1970-01-01T23:02:21\",\"1970-01-01T23:02:21\"],\"y\":[\"barge_0\",\"barge_0\",\"barge_0\",\"barge_0\",null,\"barge_0\",\"barge_0\",\"barge_0\",\"barge_0\",null,\"barge_0\",\"barge_0\",\"barge_0\",\"barge_0\",null,\"barge_0\",\"barge_0\",\"barge_0\",\"barge_0\",null,\"barge_0\",\"barge_0\",\"barge_0\",\"barge_0\",null,\"barge_0\",\"barge_0\",\"barge_0\",\"barge_0\",null,\"barge_0\",\"barge_0\",\"barge_0\",\"barge_0\",null],\"type\":\"scatter\"},{\"connectgaps\":false,\"hoverinfo\":\"y+name\",\"line\":{\"color\":\"rgb(185,212,126)\",\"width\":10},\"mode\":\"lines\",\"name\":\"basic activity:barge_0\",\"x\":[\"1970-01-01T00:00:00\",\"1970-01-01T00:00:00\",\"1970-01-01T00:37:07\",\"1970-01-01T00:37:07\",\"1970-01-01T00:37:07\",\"1970-01-01T03:10:08\",\"1970-01-01T03:10:08\",\"1970-01-01T03:47:15\",\"1970-01-01T03:47:15\",\"1970-01-01T03:47:15\",\"1970-01-01T06:20:16\",\"1970-01-01T06:20:16\",\"1970-01-01T06:57:23\",\"1970-01-01T06:57:23\",\"1970-01-01T06:57:23\",\"1970-01-01T09:30:24\",\"1970-01-01T09:30:24\",\"1970-01-01T10:07:31\",\"1970-01-01T10:07:31\",\"1970-01-01T10:07:31\",\"1970-01-01T12:40:32\",\"1970-01-01T12:40:32\",\"1970-01-01T13:17:39\",\"1970-01-01T13:17:39\",\"1970-01-01T13:17:39\",\"1970-01-01T16:17:44\",\"1970-01-01T16:17:44\",\"1970-01-01T16:54:51\",\"1970-01-01T16:54:51\",\"1970-01-01T16:54:51\",\"1970-01-01T19:58:36\",\"1970-01-01T19:58:36\",\"1970-01-01T20:35:43\",\"1970-01-01T20:35:43\",\"1970-01-01T20:35:43\"],\"y\":[\"barge_0\",\"barge_0\",\"barge_0\",\"barge_0\",null,\"barge_0\",\"barge_0\",\"barge_0\",\"barge_0\",null,\"barge_0\",\"barge_0\",\"barge_0\",\"barge_0\",null,\"barge_0\",\"barge_0\",\"barge_0\",\"barge_0\",null,\"barge_0\",\"barge_0\",\"barge_0\",\"barge_0\",null,\"barge_0\",\"barge_0\",\"barge_0\",\"barge_0\",null,\"barge_0\",\"barge_0\",\"barge_0\",\"barge_0\",null],\"type\":\"scatter\"},{\"connectgaps\":false,\"hoverinfo\":\"y+name\",\"line\":{\"color\":\"rgb(199,226,140)\",\"width\":10},\"mode\":\"lines\",\"name\":\"sailing full:barge_1\",\"x\":[\"1970-01-01T03:19:14\",\"1970-01-01T03:19:14\",\"1970-01-01T04:04:02\",\"1970-01-01T04:04:02\",\"1970-01-01T04:04:02\",\"1970-01-01T07:00:06\",\"1970-01-01T07:00:06\",\"1970-01-01T07:44:54\",\"1970-01-01T07:44:54\",\"1970-01-01T07:44:54\",\"1970-01-01T10:40:58\",\"1970-01-01T10:40:58\",\"1970-01-01T11:25:46\",\"1970-01-01T11:25:46\",\"1970-01-01T11:25:46\",\"1970-01-01T14:21:50\",\"1970-01-01T14:21:50\",\"1970-01-01T15:06:38\",\"1970-01-01T15:06:38\",\"1970-01-01T15:06:38\",\"1970-01-01T18:02:42\",\"1970-01-01T18:02:42\",\"1970-01-01T18:47:30\",\"1970-01-01T18:47:30\",\"1970-01-01T18:47:30\",\"1970-01-01T21:43:34\",\"1970-01-01T21:43:34\",\"1970-01-01T22:28:22\",\"1970-01-01T22:28:22\",\"1970-01-01T22:28:22\"],\"y\":[\"barge_1\",\"barge_1\",\"barge_1\",\"barge_1\",null,\"barge_1\",\"barge_1\",\"barge_1\",\"barge_1\",null,\"barge_1\",\"barge_1\",\"barge_1\",\"barge_1\",null,\"barge_1\",\"barge_1\",\"barge_1\",\"barge_1\",null,\"barge_1\",\"barge_1\",\"barge_1\",\"barge_1\",null,\"barge_1\",\"barge_1\",\"barge_1\",\"barge_1\",null],\"type\":\"scatter\"},{\"connectgaps\":false,\"hoverinfo\":\"y+name\",\"line\":{\"color\":\"rgb(213,240,154)\",\"width\":10},\"mode\":\"lines\",\"name\":\"sailing empty:barge_1\",\"x\":[\"1970-01-01T00:44:48\",\"1970-01-01T00:44:48\",\"1970-01-01T01:29:36\",\"1970-01-01T01:29:36\",\"1970-01-01T01:29:36\",\"1970-01-01T05:33:38\",\"1970-01-01T05:33:38\",\"1970-01-01T06:18:26\",\"1970-01-01T06:18:26\",\"1970-01-01T06:18:26\",\"1970-01-01T09:14:30\",\"1970-01-01T09:14:30\",\"1970-01-01T09:59:18\",\"1970-01-01T09:59:18\",\"1970-01-01T09:59:18\",\"1970-01-01T12:55:22\",\"1970-01-01T12:55:22\",\"1970-01-01T13:40:10\",\"1970-01-01T13:40:10\",\"1970-01-01T13:40:10\",\"1970-01-01T16:36:14\",\"1970-01-01T16:36:14\",\"1970-01-01T17:21:02\",\"1970-01-01T17:21:02\",\"1970-01-01T17:21:02\",\"1970-01-01T20:17:06\",\"1970-01-01T20:17:06\",\"1970-01-01T21:01:54\",\"1970-01-01T21:01:54\",\"1970-01-01T21:01:54\"],\"y\":[\"barge_1\",\"barge_1\",\"barge_1\",\"barge_1\",null,\"barge_1\",\"barge_1\",\"barge_1\",\"barge_1\",null,\"barge_1\",\"barge_1\",\"barge_1\",\"barge_1\",null,\"barge_1\",\"barge_1\",\"barge_1\",\"barge_1\",null,\"barge_1\",\"barge_1\",\"barge_1\",\"barge_1\",null,\"barge_1\",\"barge_1\",\"barge_1\",\"barge_1\",null],\"type\":\"scatter\"},{\"connectgaps\":false,\"hoverinfo\":\"y+name\",\"line\":{\"color\":\"rgb(227,254,168)\",\"width\":10},\"mode\":\"lines\",\"name\":\"basic activity:barge_1\",\"x\":[\"1970-01-01T00:00:00\",\"1970-01-01T00:00:00\",\"1970-01-01T00:44:48\",\"1970-01-01T00:44:48\",\"1970-01-01T00:44:48\",\"1970-01-01T04:48:50\",\"1970-01-01T04:48:50\",\"1970-01-01T05:33:38\",\"1970-01-01T05:33:38\",\"1970-01-01T05:33:38\",\"1970-01-01T08:29:42\",\"1970-01-01T08:29:42\",\"1970-01-01T09:14:30\",\"1970-01-01T09:14:30\",\"1970-01-01T09:14:30\",\"1970-01-01T12:10:34\",\"1970-01-01T12:10:34\",\"1970-01-01T12:55:22\",\"1970-01-01T12:55:22\",\"1970-01-01T12:55:22\",\"1970-01-01T15:51:26\",\"1970-01-01T15:51:26\",\"1970-01-01T16:36:14\",\"1970-01-01T16:36:14\",\"1970-01-01T16:36:14\",\"1970-01-01T19:32:18\",\"1970-01-01T19:32:18\",\"1970-01-01T20:17:06\",\"1970-01-01T20:17:06\",\"1970-01-01T20:17:06\"],\"y\":[\"barge_1\",\"barge_1\",\"barge_1\",\"barge_1\",null,\"barge_1\",\"barge_1\",\"barge_1\",\"barge_1\",null,\"barge_1\",\"barge_1\",\"barge_1\",\"barge_1\",null,\"barge_1\",\"barge_1\",\"barge_1\",\"barge_1\",null,\"barge_1\",\"barge_1\",\"barge_1\",\"barge_1\",null,\"barge_1\",\"barge_1\",\"barge_1\",\"barge_1\",null],\"type\":\"scatter\"},{\"connectgaps\":false,\"hoverinfo\":\"y+name\",\"line\":{\"color\":\"rgb(241,12,182)\",\"width\":10},\"mode\":\"lines\",\"name\":\"loading:barge_1\",\"x\":[\"1970-01-01T02:37:34\",\"1970-01-01T02:37:34\",\"1970-01-01T03:19:14\",\"1970-01-01T03:19:14\",\"1970-01-01T03:19:14\",\"1970-01-01T06:18:26\",\"1970-01-01T06:18:26\",\"1970-01-01T07:00:06\",\"1970-01-01T07:00:06\",\"1970-01-01T07:00:06\",\"1970-01-01T09:59:18\",\"1970-01-01T09:59:18\",\"1970-01-01T10:40:58\",\"1970-01-01T10:40:58\",\"1970-01-01T10:40:58\",\"1970-01-01T13:40:10\",\"1970-01-01T13:40:10\",\"1970-01-01T14:21:50\",\"1970-01-01T14:21:50\",\"1970-01-01T14:21:50\",\"1970-01-01T17:21:02\",\"1970-01-01T17:21:02\",\"1970-01-01T18:02:42\",\"1970-01-01T18:02:42\",\"1970-01-01T18:02:42\",\"1970-01-01T21:01:54\",\"1970-01-01T21:01:54\",\"1970-01-01T21:43:34\",\"1970-01-01T21:43:34\",\"1970-01-01T21:43:34\",\"1970-01-01T02:37:34\",\"1970-01-01T02:37:34\",\"1970-01-01T03:19:14\",\"1970-01-01T03:19:14\",\"1970-01-01T03:19:14\",\"1970-01-01T06:18:26\",\"1970-01-01T06:18:26\",\"1970-01-01T07:00:06\",\"1970-01-01T07:00:06\",\"1970-01-01T07:00:06\",\"1970-01-01T09:59:18\",\"1970-01-01T09:59:18\",\"1970-01-01T10:40:58\",\"1970-01-01T10:40:58\",\"1970-01-01T10:40:58\",\"1970-01-01T13:40:10\",\"1970-01-01T13:40:10\",\"1970-01-01T14:21:50\",\"1970-01-01T14:21:50\",\"1970-01-01T14:21:50\",\"1970-01-01T17:21:02\",\"1970-01-01T17:21:02\",\"1970-01-01T18:02:42\",\"1970-01-01T18:02:42\",\"1970-01-01T18:02:42\",\"1970-01-01T21:01:54\",\"1970-01-01T21:01:54\",\"1970-01-01T21:43:34\",\"1970-01-01T21:43:34\",\"1970-01-01T21:43:34\"],\"y\":[\"barge_1\",\"barge_1\",\"barge_1\",\"barge_1\",null,\"barge_1\",\"barge_1\",\"barge_1\",\"barge_1\",null,\"barge_1\",\"barge_1\",\"barge_1\",\"barge_1\",null,\"barge_1\",\"barge_1\",\"barge_1\",\"barge_1\",null,\"barge_1\",\"barge_1\",\"barge_1\",\"barge_1\",null,\"barge_1\",\"barge_1\",\"barge_1\",\"barge_1\",null,\"cutter\",\"cutter\",\"cutter\",\"cutter\",null,\"cutter\",\"cutter\",\"cutter\",\"cutter\",null,\"cutter\",\"cutter\",\"cutter\",\"cutter\",null,\"cutter\",\"cutter\",\"cutter\",\"cutter\",null,\"cutter\",\"cutter\",\"cutter\",\"cutter\",null,\"cutter\",\"cutter\",\"cutter\",\"cutter\",null],\"type\":\"scatter\"},{\"connectgaps\":false,\"hoverinfo\":\"y+name\",\"line\":{\"color\":\"rgb(255,26,196)\",\"width\":10},\"mode\":\"lines\",\"name\":\"unloading:barge_1\",\"x\":[\"1970-01-01T04:04:02\",\"1970-01-01T04:04:02\",\"1970-01-01T04:48:50\",\"1970-01-01T04:48:50\",\"1970-01-01T04:48:50\",\"1970-01-01T07:44:54\",\"1970-01-01T07:44:54\",\"1970-01-01T08:29:42\",\"1970-01-01T08:29:42\",\"1970-01-01T08:29:42\",\"1970-01-01T11:25:46\",\"1970-01-01T11:25:46\",\"1970-01-01T12:10:34\",\"1970-01-01T12:10:34\",\"1970-01-01T12:10:34\",\"1970-01-01T15:06:38\",\"1970-01-01T15:06:38\",\"1970-01-01T15:51:26\",\"1970-01-01T15:51:26\",\"1970-01-01T15:51:26\",\"1970-01-01T18:47:30\",\"1970-01-01T18:47:30\",\"1970-01-01T19:32:18\",\"1970-01-01T19:32:18\",\"1970-01-01T19:32:18\",\"1970-01-01T22:28:22\",\"1970-01-01T22:28:22\",\"1970-01-01T23:13:10\",\"1970-01-01T23:13:10\",\"1970-01-01T23:13:10\"],\"y\":[\"barge_1\",\"barge_1\",\"barge_1\",\"barge_1\",null,\"barge_1\",\"barge_1\",\"barge_1\",\"barge_1\",null,\"barge_1\",\"barge_1\",\"barge_1\",\"barge_1\",null,\"barge_1\",\"barge_1\",\"barge_1\",\"barge_1\",null,\"barge_1\",\"barge_1\",\"barge_1\",\"barge_1\",null,\"barge_1\",\"barge_1\",\"barge_1\",\"barge_1\",null],\"type\":\"scatter\"},{\"connectgaps\":false,\"hoverinfo\":\"y+name\",\"line\":{\"color\":\"rgb(13,40,210)\",\"width\":10},\"mode\":\"lines\",\"name\":\"sailing empty:barge_2\",\"x\":[\"1970-01-01T00:39:06\",\"1970-01-01T00:39:06\",\"1970-01-01T01:18:12\",\"1970-01-01T01:18:12\",\"1970-01-01T01:18:12\",\"1970-01-01T04:34:52\",\"1970-01-01T04:34:52\",\"1970-01-01T05:13:58\",\"1970-01-01T05:13:58\",\"1970-01-01T05:13:58\",\"1970-01-01T07:52:56\",\"1970-01-01T07:52:56\",\"1970-01-01T08:32:02\",\"1970-01-01T08:32:02\",\"1970-01-01T08:32:02\",\"1970-01-01T11:11:00\",\"1970-01-01T11:11:00\",\"1970-01-01T11:50:06\",\"1970-01-01T11:50:06\",\"1970-01-01T11:50:06\",\"1970-01-01T14:29:04\",\"1970-01-01T14:29:04\",\"1970-01-01T15:08:10\",\"1970-01-01T15:08:10\",\"1970-01-01T15:08:10\",\"1970-01-01T17:47:08\",\"1970-01-01T17:47:08\",\"1970-01-01T18:26:14\",\"1970-01-01T18:26:14\",\"1970-01-01T18:26:14\",\"1970-01-01T21:23:20\",\"1970-01-01T21:23:20\",\"1970-01-01T22:02:26\",\"1970-01-01T22:02:26\",\"1970-01-01T22:02:26\"],\"y\":[\"barge_2\",\"barge_2\",\"barge_2\",\"barge_2\",null,\"barge_2\",\"barge_2\",\"barge_2\",\"barge_2\",null,\"barge_2\",\"barge_2\",\"barge_2\",\"barge_2\",null,\"barge_2\",\"barge_2\",\"barge_2\",\"barge_2\",null,\"barge_2\",\"barge_2\",\"barge_2\",\"barge_2\",null,\"barge_2\",\"barge_2\",\"barge_2\",\"barge_2\",null,\"barge_2\",\"barge_2\",\"barge_2\",\"barge_2\",null],\"type\":\"scatter\"},{\"connectgaps\":false,\"hoverinfo\":\"y+name\",\"line\":{\"color\":\"rgb(27,54,224)\",\"width\":10},\"mode\":\"lines\",\"name\":\"unloading:barge_2\",\"x\":[\"1970-01-01T03:16:40\",\"1970-01-01T03:16:40\",\"1970-01-01T03:55:46\",\"1970-01-01T03:55:46\",\"1970-01-01T03:55:46\",\"1970-01-01T06:34:44\",\"1970-01-01T06:34:44\",\"1970-01-01T07:13:50\",\"1970-01-01T07:13:50\",\"1970-01-01T07:13:50\",\"1970-01-01T09:52:48\",\"1970-01-01T09:52:48\",\"1970-01-01T10:31:54\",\"1970-01-01T10:31:54\",\"1970-01-01T10:31:54\",\"1970-01-01T13:10:52\",\"1970-01-01T13:10:52\",\"1970-01-01T13:49:58\",\"1970-01-01T13:49:58\",\"1970-01-01T13:49:58\",\"1970-01-01T16:28:56\",\"1970-01-01T16:28:56\",\"1970-01-01T17:08:02\",\"1970-01-01T17:08:02\",\"1970-01-01T17:08:02\",\"1970-01-01T20:05:08\",\"1970-01-01T20:05:08\",\"1970-01-01T20:44:14\",\"1970-01-01T20:44:14\",\"1970-01-01T20:44:14\",\"1970-01-01T23:46:00\",\"1970-01-01T23:46:00\",\"1970-01-02T00:25:06\",\"1970-01-02T00:25:06\",\"1970-01-02T00:25:06\"],\"y\":[\"barge_2\",\"barge_2\",\"barge_2\",\"barge_2\",null,\"barge_2\",\"barge_2\",\"barge_2\",\"barge_2\",null,\"barge_2\",\"barge_2\",\"barge_2\",\"barge_2\",null,\"barge_2\",\"barge_2\",\"barge_2\",\"barge_2\",null,\"barge_2\",\"barge_2\",\"barge_2\",\"barge_2\",null,\"barge_2\",\"barge_2\",\"barge_2\",\"barge_2\",null,\"barge_2\",\"barge_2\",\"barge_2\",\"barge_2\",null],\"type\":\"scatter\"},{\"connectgaps\":false,\"hoverinfo\":\"y+name\",\"line\":{\"color\":\"rgb(41,68,238)\",\"width\":10},\"mode\":\"lines\",\"name\":\"basic activity:barge_2\",\"x\":[\"1970-01-01T00:00:00\",\"1970-01-01T00:00:00\",\"1970-01-01T00:39:06\",\"1970-01-01T00:39:06\",\"1970-01-01T00:39:06\",\"1970-01-01T03:55:46\",\"1970-01-01T03:55:46\",\"1970-01-01T04:34:52\",\"1970-01-01T04:34:52\",\"1970-01-01T04:34:52\",\"1970-01-01T07:13:50\",\"1970-01-01T07:13:50\",\"1970-01-01T07:52:56\",\"1970-01-01T07:52:56\",\"1970-01-01T07:52:56\",\"1970-01-01T10:31:54\",\"1970-01-01T10:31:54\",\"1970-01-01T11:11:00\",\"1970-01-01T11:11:00\",\"1970-01-01T11:11:00\",\"1970-01-01T13:49:58\",\"1970-01-01T13:49:58\",\"1970-01-01T14:29:04\",\"1970-01-01T14:29:04\",\"1970-01-01T14:29:04\",\"1970-01-01T17:08:02\",\"1970-01-01T17:08:02\",\"1970-01-01T17:47:08\",\"1970-01-01T17:47:08\",\"1970-01-01T17:47:08\",\"1970-01-01T20:44:14\",\"1970-01-01T20:44:14\",\"1970-01-01T21:23:20\",\"1970-01-01T21:23:20\",\"1970-01-01T21:23:20\"],\"y\":[\"barge_2\",\"barge_2\",\"barge_2\",\"barge_2\",null,\"barge_2\",\"barge_2\",\"barge_2\",\"barge_2\",null,\"barge_2\",\"barge_2\",\"barge_2\",\"barge_2\",null,\"barge_2\",\"barge_2\",\"barge_2\",\"barge_2\",null,\"barge_2\",\"barge_2\",\"barge_2\",\"barge_2\",null,\"barge_2\",\"barge_2\",\"barge_2\",\"barge_2\",null,\"barge_2\",\"barge_2\",\"barge_2\",\"barge_2\",null],\"type\":\"scatter\"},{\"connectgaps\":false,\"hoverinfo\":\"y+name\",\"line\":{\"color\":\"rgb(55,82,252)\",\"width\":10},\"mode\":\"lines\",\"name\":\"sailing full:barge_2\",\"x\":[\"1970-01-01T02:37:34\",\"1970-01-01T02:37:34\",\"1970-01-01T03:16:40\",\"1970-01-01T03:16:40\",\"1970-01-01T03:16:40\",\"1970-01-01T05:55:38\",\"1970-01-01T05:55:38\",\"1970-01-01T06:34:44\",\"1970-01-01T06:34:44\",\"1970-01-01T06:34:44\",\"1970-01-01T09:13:42\",\"1970-01-01T09:13:42\",\"1970-01-01T09:52:48\",\"1970-01-01T09:52:48\",\"1970-01-01T09:52:48\",\"1970-01-01T12:31:46\",\"1970-01-01T12:31:46\",\"1970-01-01T13:10:52\",\"1970-01-01T13:10:52\",\"1970-01-01T13:10:52\",\"1970-01-01T15:49:50\",\"1970-01-01T15:49:50\",\"1970-01-01T16:28:56\",\"1970-01-01T16:28:56\",\"1970-01-01T16:28:56\",\"1970-01-01T19:26:02\",\"1970-01-01T19:26:02\",\"1970-01-01T20:05:08\",\"1970-01-01T20:05:08\",\"1970-01-01T20:05:08\",\"1970-01-01T23:06:54\",\"1970-01-01T23:06:54\",\"1970-01-01T23:46:00\",\"1970-01-01T23:46:00\",\"1970-01-01T23:46:00\"],\"y\":[\"barge_2\",\"barge_2\",\"barge_2\",\"barge_2\",null,\"barge_2\",\"barge_2\",\"barge_2\",\"barge_2\",null,\"barge_2\",\"barge_2\",\"barge_2\",\"barge_2\",null,\"barge_2\",\"barge_2\",\"barge_2\",\"barge_2\",null,\"barge_2\",\"barge_2\",\"barge_2\",\"barge_2\",null,\"barge_2\",\"barge_2\",\"barge_2\",\"barge_2\",null,\"barge_2\",\"barge_2\",\"barge_2\",\"barge_2\",null],\"type\":\"scatter\"},{\"connectgaps\":false,\"hoverinfo\":\"y+name\",\"line\":{\"color\":\"rgb(69,96,10)\",\"width\":10},\"mode\":\"lines\",\"name\":\"loading:barge_2\",\"x\":[\"1970-01-01T01:55:54\",\"1970-01-01T01:55:54\",\"1970-01-01T02:37:34\",\"1970-01-01T02:37:34\",\"1970-01-01T02:37:34\",\"1970-01-01T05:13:58\",\"1970-01-01T05:13:58\",\"1970-01-01T05:55:38\",\"1970-01-01T05:55:38\",\"1970-01-01T05:55:38\",\"1970-01-01T08:32:02\",\"1970-01-01T08:32:02\",\"1970-01-01T09:13:42\",\"1970-01-01T09:13:42\",\"1970-01-01T09:13:42\",\"1970-01-01T11:50:06\",\"1970-01-01T11:50:06\",\"1970-01-01T12:31:46\",\"1970-01-01T12:31:46\",\"1970-01-01T12:31:46\",\"1970-01-01T15:08:10\",\"1970-01-01T15:08:10\",\"1970-01-01T15:49:50\",\"1970-01-01T15:49:50\",\"1970-01-01T15:49:50\",\"1970-01-01T18:44:22\",\"1970-01-01T18:44:22\",\"1970-01-01T19:26:02\",\"1970-01-01T19:26:02\",\"1970-01-01T19:26:02\",\"1970-01-01T22:25:14\",\"1970-01-01T22:25:14\",\"1970-01-01T23:06:54\",\"1970-01-01T23:06:54\",\"1970-01-01T23:06:54\",\"1970-01-01T01:55:54\",\"1970-01-01T01:55:54\",\"1970-01-01T02:37:34\",\"1970-01-01T02:37:34\",\"1970-01-01T02:37:34\",\"1970-01-01T05:13:58\",\"1970-01-01T05:13:58\",\"1970-01-01T05:55:38\",\"1970-01-01T05:55:38\",\"1970-01-01T05:55:38\",\"1970-01-01T08:32:02\",\"1970-01-01T08:32:02\",\"1970-01-01T09:13:42\",\"1970-01-01T09:13:42\",\"1970-01-01T09:13:42\",\"1970-01-01T11:50:06\",\"1970-01-01T11:50:06\",\"1970-01-01T12:31:46\",\"1970-01-01T12:31:46\",\"1970-01-01T12:31:46\",\"1970-01-01T15:08:10\",\"1970-01-01T15:08:10\",\"1970-01-01T15:49:50\",\"1970-01-01T15:49:50\",\"1970-01-01T15:49:50\",\"1970-01-01T18:44:22\",\"1970-01-01T18:44:22\",\"1970-01-01T19:26:02\",\"1970-01-01T19:26:02\",\"1970-01-01T19:26:02\",\"1970-01-01T22:25:14\",\"1970-01-01T22:25:14\",\"1970-01-01T23:06:54\",\"1970-01-01T23:06:54\",\"1970-01-01T23:06:54\"],\"y\":[\"barge_2\",\"barge_2\",\"barge_2\",\"barge_2\",null,\"barge_2\",\"barge_2\",\"barge_2\",\"barge_2\",null,\"barge_2\",\"barge_2\",\"barge_2\",\"barge_2\",null,\"barge_2\",\"barge_2\",\"barge_2\",\"barge_2\",null,\"barge_2\",\"barge_2\",\"barge_2\",\"barge_2\",null,\"barge_2\",\"barge_2\",\"barge_2\",\"barge_2\",null,\"barge_2\",\"barge_2\",\"barge_2\",\"barge_2\",null,\"cutter\",\"cutter\",\"cutter\",\"cutter\",null,\"cutter\",\"cutter\",\"cutter\",\"cutter\",null,\"cutter\",\"cutter\",\"cutter\",\"cutter\",null,\"cutter\",\"cutter\",\"cutter\",\"cutter\",null,\"cutter\",\"cutter\",\"cutter\",\"cutter\",null,\"cutter\",\"cutter\",\"cutter\",\"cutter\",null,\"cutter\",\"cutter\",\"cutter\",\"cutter\",null],\"type\":\"scatter\"},{\"connectgaps\":false,\"hoverinfo\":\"y+name\",\"line\":{\"color\":\"rgb(83,110,24)\",\"width\":10},\"mode\":\"lines\",\"name\":\"loading:barge_2\",\"x\":[\"1970-01-01T01:55:54\",\"1970-01-01T01:55:54\",\"1970-01-01T02:37:34\",\"1970-01-01T02:37:34\",\"1970-01-01T02:37:34\",\"1970-01-01T05:13:58\",\"1970-01-01T05:13:58\",\"1970-01-01T05:55:38\",\"1970-01-01T05:55:38\",\"1970-01-01T05:55:38\",\"1970-01-01T08:32:02\",\"1970-01-01T08:32:02\",\"1970-01-01T09:13:42\",\"1970-01-01T09:13:42\",\"1970-01-01T09:13:42\",\"1970-01-01T11:50:06\",\"1970-01-01T11:50:06\",\"1970-01-01T12:31:46\",\"1970-01-01T12:31:46\",\"1970-01-01T12:31:46\",\"1970-01-01T15:08:10\",\"1970-01-01T15:08:10\",\"1970-01-01T15:49:50\",\"1970-01-01T15:49:50\",\"1970-01-01T15:49:50\",\"1970-01-01T18:44:22\",\"1970-01-01T18:44:22\",\"1970-01-01T19:26:02\",\"1970-01-01T19:26:02\",\"1970-01-01T19:26:02\",\"1970-01-01T22:25:14\",\"1970-01-01T22:25:14\",\"1970-01-01T23:06:54\",\"1970-01-01T23:06:54\",\"1970-01-01T23:06:54\",\"1970-01-01T01:55:54\",\"1970-01-01T01:55:54\",\"1970-01-01T02:37:34\",\"1970-01-01T02:37:34\",\"1970-01-01T02:37:34\",\"1970-01-01T05:13:58\",\"1970-01-01T05:13:58\",\"1970-01-01T05:55:38\",\"1970-01-01T05:55:38\",\"1970-01-01T05:55:38\",\"1970-01-01T08:32:02\",\"1970-01-01T08:32:02\",\"1970-01-01T09:13:42\",\"1970-01-01T09:13:42\",\"1970-01-01T09:13:42\",\"1970-01-01T11:50:06\",\"1970-01-01T11:50:06\",\"1970-01-01T12:31:46\",\"1970-01-01T12:31:46\",\"1970-01-01T12:31:46\",\"1970-01-01T15:08:10\",\"1970-01-01T15:08:10\",\"1970-01-01T15:49:50\",\"1970-01-01T15:49:50\",\"1970-01-01T15:49:50\",\"1970-01-01T18:44:22\",\"1970-01-01T18:44:22\",\"1970-01-01T19:26:02\",\"1970-01-01T19:26:02\",\"1970-01-01T19:26:02\",\"1970-01-01T22:25:14\",\"1970-01-01T22:25:14\",\"1970-01-01T23:06:54\",\"1970-01-01T23:06:54\",\"1970-01-01T23:06:54\"],\"y\":[\"barge_2\",\"barge_2\",\"barge_2\",\"barge_2\",null,\"barge_2\",\"barge_2\",\"barge_2\",\"barge_2\",null,\"barge_2\",\"barge_2\",\"barge_2\",\"barge_2\",null,\"barge_2\",\"barge_2\",\"barge_2\",\"barge_2\",null,\"barge_2\",\"barge_2\",\"barge_2\",\"barge_2\",null,\"barge_2\",\"barge_2\",\"barge_2\",\"barge_2\",null,\"barge_2\",\"barge_2\",\"barge_2\",\"barge_2\",null,\"cutter\",\"cutter\",\"cutter\",\"cutter\",null,\"cutter\",\"cutter\",\"cutter\",\"cutter\",null,\"cutter\",\"cutter\",\"cutter\",\"cutter\",null,\"cutter\",\"cutter\",\"cutter\",\"cutter\",null,\"cutter\",\"cutter\",\"cutter\",\"cutter\",null,\"cutter\",\"cutter\",\"cutter\",\"cutter\",null,\"cutter\",\"cutter\",\"cutter\",\"cutter\",null],\"type\":\"scatter\"},{\"connectgaps\":false,\"hoverinfo\":\"y+name\",\"line\":{\"color\":\"rgb(97,124,38)\",\"width\":10},\"mode\":\"lines\",\"name\":\"loading:barge_1\",\"x\":[\"1970-01-01T02:37:34\",\"1970-01-01T02:37:34\",\"1970-01-01T03:19:14\",\"1970-01-01T03:19:14\",\"1970-01-01T03:19:14\",\"1970-01-01T06:18:26\",\"1970-01-01T06:18:26\",\"1970-01-01T07:00:06\",\"1970-01-01T07:00:06\",\"1970-01-01T07:00:06\",\"1970-01-01T09:59:18\",\"1970-01-01T09:59:18\",\"1970-01-01T10:40:58\",\"1970-01-01T10:40:58\",\"1970-01-01T10:40:58\",\"1970-01-01T13:40:10\",\"1970-01-01T13:40:10\",\"1970-01-01T14:21:50\",\"1970-01-01T14:21:50\",\"1970-01-01T14:21:50\",\"1970-01-01T17:21:02\",\"1970-01-01T17:21:02\",\"1970-01-01T18:02:42\",\"1970-01-01T18:02:42\",\"1970-01-01T18:02:42\",\"1970-01-01T21:01:54\",\"1970-01-01T21:01:54\",\"1970-01-01T21:43:34\",\"1970-01-01T21:43:34\",\"1970-01-01T21:43:34\",\"1970-01-01T02:37:34\",\"1970-01-01T02:37:34\",\"1970-01-01T03:19:14\",\"1970-01-01T03:19:14\",\"1970-01-01T03:19:14\",\"1970-01-01T06:18:26\",\"1970-01-01T06:18:26\",\"1970-01-01T07:00:06\",\"1970-01-01T07:00:06\",\"1970-01-01T07:00:06\",\"1970-01-01T09:59:18\",\"1970-01-01T09:59:18\",\"1970-01-01T10:40:58\",\"1970-01-01T10:40:58\",\"1970-01-01T10:40:58\",\"1970-01-01T13:40:10\",\"1970-01-01T13:40:10\",\"1970-01-01T14:21:50\",\"1970-01-01T14:21:50\",\"1970-01-01T14:21:50\",\"1970-01-01T17:21:02\",\"1970-01-01T17:21:02\",\"1970-01-01T18:02:42\",\"1970-01-01T18:02:42\",\"1970-01-01T18:02:42\",\"1970-01-01T21:01:54\",\"1970-01-01T21:01:54\",\"1970-01-01T21:43:34\",\"1970-01-01T21:43:34\",\"1970-01-01T21:43:34\"],\"y\":[\"barge_1\",\"barge_1\",\"barge_1\",\"barge_1\",null,\"barge_1\",\"barge_1\",\"barge_1\",\"barge_1\",null,\"barge_1\",\"barge_1\",\"barge_1\",\"barge_1\",null,\"barge_1\",\"barge_1\",\"barge_1\",\"barge_1\",null,\"barge_1\",\"barge_1\",\"barge_1\",\"barge_1\",null,\"barge_1\",\"barge_1\",\"barge_1\",\"barge_1\",null,\"cutter\",\"cutter\",\"cutter\",\"cutter\",null,\"cutter\",\"cutter\",\"cutter\",\"cutter\",null,\"cutter\",\"cutter\",\"cutter\",\"cutter\",null,\"cutter\",\"cutter\",\"cutter\",\"cutter\",null,\"cutter\",\"cutter\",\"cutter\",\"cutter\",null,\"cutter\",\"cutter\",\"cutter\",\"cutter\",null],\"type\":\"scatter\"},{\"connectgaps\":false,\"hoverinfo\":\"y+name\",\"line\":{\"color\":\"rgb(111,138,52)\",\"width\":10},\"mode\":\"lines\",\"name\":\"loading:barge_0\",\"x\":[\"1970-01-01T01:14:14\",\"1970-01-01T01:14:14\",\"1970-01-01T01:55:54\",\"1970-01-01T01:55:54\",\"1970-01-01T01:55:54\",\"1970-01-01T04:24:22\",\"1970-01-01T04:24:22\",\"1970-01-01T05:06:02\",\"1970-01-01T05:06:02\",\"1970-01-01T05:06:02\",\"1970-01-01T07:34:30\",\"1970-01-01T07:34:30\",\"1970-01-01T08:16:10\",\"1970-01-01T08:16:10\",\"1970-01-01T08:16:10\",\"1970-01-01T10:44:38\",\"1970-01-01T10:44:38\",\"1970-01-01T11:26:18\",\"1970-01-01T11:26:18\",\"1970-01-01T11:26:18\",\"1970-01-01T14:21:50\",\"1970-01-01T14:21:50\",\"1970-01-01T15:03:30\",\"1970-01-01T15:03:30\",\"1970-01-01T15:03:30\",\"1970-01-01T18:02:42\",\"1970-01-01T18:02:42\",\"1970-01-01T18:44:22\",\"1970-01-01T18:44:22\",\"1970-01-01T18:44:22\",\"1970-01-01T21:43:34\",\"1970-01-01T21:43:34\",\"1970-01-01T22:25:14\",\"1970-01-01T22:25:14\",\"1970-01-01T22:25:14\",\"1970-01-01T01:14:14\",\"1970-01-01T01:14:14\",\"1970-01-01T01:55:54\",\"1970-01-01T01:55:54\",\"1970-01-01T01:55:54\",\"1970-01-01T04:24:22\",\"1970-01-01T04:24:22\",\"1970-01-01T05:06:02\",\"1970-01-01T05:06:02\",\"1970-01-01T05:06:02\",\"1970-01-01T07:34:30\",\"1970-01-01T07:34:30\",\"1970-01-01T08:16:10\",\"1970-01-01T08:16:10\",\"1970-01-01T08:16:10\",\"1970-01-01T10:44:38\",\"1970-01-01T10:44:38\",\"1970-01-01T11:26:18\",\"1970-01-01T11:26:18\",\"1970-01-01T11:26:18\",\"1970-01-01T14:21:50\",\"1970-01-01T14:21:50\",\"1970-01-01T15:03:30\",\"1970-01-01T15:03:30\",\"1970-01-01T15:03:30\",\"1970-01-01T18:02:42\",\"1970-01-01T18:02:42\",\"1970-01-01T18:44:22\",\"1970-01-01T18:44:22\",\"1970-01-01T18:44:22\",\"1970-01-01T21:43:34\",\"1970-01-01T21:43:34\",\"1970-01-01T22:25:14\",\"1970-01-01T22:25:14\",\"1970-01-01T22:25:14\"],\"y\":[\"barge_0\",\"barge_0\",\"barge_0\",\"barge_0\",null,\"barge_0\",\"barge_0\",\"barge_0\",\"barge_0\",null,\"barge_0\",\"barge_0\",\"barge_0\",\"barge_0\",null,\"barge_0\",\"barge_0\",\"barge_0\",\"barge_0\",null,\"barge_0\",\"barge_0\",\"barge_0\",\"barge_0\",null,\"barge_0\",\"barge_0\",\"barge_0\",\"barge_0\",null,\"barge_0\",\"barge_0\",\"barge_0\",\"barge_0\",null,\"cutter\",\"cutter\",\"cutter\",\"cutter\",null,\"cutter\",\"cutter\",\"cutter\",\"cutter\",null,\"cutter\",\"cutter\",\"cutter\",\"cutter\",null,\"cutter\",\"cutter\",\"cutter\",\"cutter\",null,\"cutter\",\"cutter\",\"cutter\",\"cutter\",null,\"cutter\",\"cutter\",\"cutter\",\"cutter\",null,\"cutter\",\"cutter\",\"cutter\",\"cutter\",null],\"type\":\"scatter\"}],                        {\"hovermode\":\"closest\",\"legend\":{\"orientation\":\"h\",\"x\":0,\"y\":-0.2},\"template\":{\"data\":{\"barpolar\":[{\"marker\":{\"line\":{\"color\":\"#E5ECF6\",\"width\":0.5},\"pattern\":{\"fillmode\":\"overlay\",\"size\":10,\"solidity\":0.2}},\"type\":\"barpolar\"}],\"bar\":[{\"error_x\":{\"color\":\"#2a3f5f\"},\"error_y\":{\"color\":\"#2a3f5f\"},\"marker\":{\"line\":{\"color\":\"#E5ECF6\",\"width\":0.5},\"pattern\":{\"fillmode\":\"overlay\",\"size\":10,\"solidity\":0.2}},\"type\":\"bar\"}],\"carpet\":[{\"aaxis\":{\"endlinecolor\":\"#2a3f5f\",\"gridcolor\":\"white\",\"linecolor\":\"white\",\"minorgridcolor\":\"white\",\"startlinecolor\":\"#2a3f5f\"},\"baxis\":{\"endlinecolor\":\"#2a3f5f\",\"gridcolor\":\"white\",\"linecolor\":\"white\",\"minorgridcolor\":\"white\",\"startlinecolor\":\"#2a3f5f\"},\"type\":\"carpet\"}],\"choropleth\":[{\"colorbar\":{\"outlinewidth\":0,\"ticks\":\"\"},\"type\":\"choropleth\"}],\"contourcarpet\":[{\"colorbar\":{\"outlinewidth\":0,\"ticks\":\"\"},\"type\":\"contourcarpet\"}],\"contour\":[{\"colorbar\":{\"outlinewidth\":0,\"ticks\":\"\"},\"colorscale\":[[0.0,\"#0d0887\"],[0.1111111111111111,\"#46039f\"],[0.2222222222222222,\"#7201a8\"],[0.3333333333333333,\"#9c179e\"],[0.4444444444444444,\"#bd3786\"],[0.5555555555555556,\"#d8576b\"],[0.6666666666666666,\"#ed7953\"],[0.7777777777777778,\"#fb9f3a\"],[0.8888888888888888,\"#fdca26\"],[1.0,\"#f0f921\"]],\"type\":\"contour\"}],\"heatmapgl\":[{\"colorbar\":{\"outlinewidth\":0,\"ticks\":\"\"},\"colorscale\":[[0.0,\"#0d0887\"],[0.1111111111111111,\"#46039f\"],[0.2222222222222222,\"#7201a8\"],[0.3333333333333333,\"#9c179e\"],[0.4444444444444444,\"#bd3786\"],[0.5555555555555556,\"#d8576b\"],[0.6666666666666666,\"#ed7953\"],[0.7777777777777778,\"#fb9f3a\"],[0.8888888888888888,\"#fdca26\"],[1.0,\"#f0f921\"]],\"type\":\"heatmapgl\"}],\"heatmap\":[{\"colorbar\":{\"outlinewidth\":0,\"ticks\":\"\"},\"colorscale\":[[0.0,\"#0d0887\"],[0.1111111111111111,\"#46039f\"],[0.2222222222222222,\"#7201a8\"],[0.3333333333333333,\"#9c179e\"],[0.4444444444444444,\"#bd3786\"],[0.5555555555555556,\"#d8576b\"],[0.6666666666666666,\"#ed7953\"],[0.7777777777777778,\"#fb9f3a\"],[0.8888888888888888,\"#fdca26\"],[1.0,\"#f0f921\"]],\"type\":\"heatmap\"}],\"histogram2dcontour\":[{\"colorbar\":{\"outlinewidth\":0,\"ticks\":\"\"},\"colorscale\":[[0.0,\"#0d0887\"],[0.1111111111111111,\"#46039f\"],[0.2222222222222222,\"#7201a8\"],[0.3333333333333333,\"#9c179e\"],[0.4444444444444444,\"#bd3786\"],[0.5555555555555556,\"#d8576b\"],[0.6666666666666666,\"#ed7953\"],[0.7777777777777778,\"#fb9f3a\"],[0.8888888888888888,\"#fdca26\"],[1.0,\"#f0f921\"]],\"type\":\"histogram2dcontour\"}],\"histogram2d\":[{\"colorbar\":{\"outlinewidth\":0,\"ticks\":\"\"},\"colorscale\":[[0.0,\"#0d0887\"],[0.1111111111111111,\"#46039f\"],[0.2222222222222222,\"#7201a8\"],[0.3333333333333333,\"#9c179e\"],[0.4444444444444444,\"#bd3786\"],[0.5555555555555556,\"#d8576b\"],[0.6666666666666666,\"#ed7953\"],[0.7777777777777778,\"#fb9f3a\"],[0.8888888888888888,\"#fdca26\"],[1.0,\"#f0f921\"]],\"type\":\"histogram2d\"}],\"histogram\":[{\"marker\":{\"pattern\":{\"fillmode\":\"overlay\",\"size\":10,\"solidity\":0.2}},\"type\":\"histogram\"}],\"mesh3d\":[{\"colorbar\":{\"outlinewidth\":0,\"ticks\":\"\"},\"type\":\"mesh3d\"}],\"parcoords\":[{\"line\":{\"colorbar\":{\"outlinewidth\":0,\"ticks\":\"\"}},\"type\":\"parcoords\"}],\"pie\":[{\"automargin\":true,\"type\":\"pie\"}],\"scatter3d\":[{\"line\":{\"colorbar\":{\"outlinewidth\":0,\"ticks\":\"\"}},\"marker\":{\"colorbar\":{\"outlinewidth\":0,\"ticks\":\"\"}},\"type\":\"scatter3d\"}],\"scattercarpet\":[{\"marker\":{\"colorbar\":{\"outlinewidth\":0,\"ticks\":\"\"}},\"type\":\"scattercarpet\"}],\"scattergeo\":[{\"marker\":{\"colorbar\":{\"outlinewidth\":0,\"ticks\":\"\"}},\"type\":\"scattergeo\"}],\"scattergl\":[{\"marker\":{\"colorbar\":{\"outlinewidth\":0,\"ticks\":\"\"}},\"type\":\"scattergl\"}],\"scattermapbox\":[{\"marker\":{\"colorbar\":{\"outlinewidth\":0,\"ticks\":\"\"}},\"type\":\"scattermapbox\"}],\"scatterpolargl\":[{\"marker\":{\"colorbar\":{\"outlinewidth\":0,\"ticks\":\"\"}},\"type\":\"scatterpolargl\"}],\"scatterpolar\":[{\"marker\":{\"colorbar\":{\"outlinewidth\":0,\"ticks\":\"\"}},\"type\":\"scatterpolar\"}],\"scatter\":[{\"fillpattern\":{\"fillmode\":\"overlay\",\"size\":10,\"solidity\":0.2},\"type\":\"scatter\"}],\"scatterternary\":[{\"marker\":{\"colorbar\":{\"outlinewidth\":0,\"ticks\":\"\"}},\"type\":\"scatterternary\"}],\"surface\":[{\"colorbar\":{\"outlinewidth\":0,\"ticks\":\"\"},\"colorscale\":[[0.0,\"#0d0887\"],[0.1111111111111111,\"#46039f\"],[0.2222222222222222,\"#7201a8\"],[0.3333333333333333,\"#9c179e\"],[0.4444444444444444,\"#bd3786\"],[0.5555555555555556,\"#d8576b\"],[0.6666666666666666,\"#ed7953\"],[0.7777777777777778,\"#fb9f3a\"],[0.8888888888888888,\"#fdca26\"],[1.0,\"#f0f921\"]],\"type\":\"surface\"}],\"table\":[{\"cells\":{\"fill\":{\"color\":\"#EBF0F8\"},\"line\":{\"color\":\"white\"}},\"header\":{\"fill\":{\"color\":\"#C8D4E3\"},\"line\":{\"color\":\"white\"}},\"type\":\"table\"}]},\"layout\":{\"annotationdefaults\":{\"arrowcolor\":\"#2a3f5f\",\"arrowhead\":0,\"arrowwidth\":1},\"autotypenumbers\":\"strict\",\"coloraxis\":{\"colorbar\":{\"outlinewidth\":0,\"ticks\":\"\"}},\"colorscale\":{\"diverging\":[[0,\"#8e0152\"],[0.1,\"#c51b7d\"],[0.2,\"#de77ae\"],[0.3,\"#f1b6da\"],[0.4,\"#fde0ef\"],[0.5,\"#f7f7f7\"],[0.6,\"#e6f5d0\"],[0.7,\"#b8e186\"],[0.8,\"#7fbc41\"],[0.9,\"#4d9221\"],[1,\"#276419\"]],\"sequential\":[[0.0,\"#0d0887\"],[0.1111111111111111,\"#46039f\"],[0.2222222222222222,\"#7201a8\"],[0.3333333333333333,\"#9c179e\"],[0.4444444444444444,\"#bd3786\"],[0.5555555555555556,\"#d8576b\"],[0.6666666666666666,\"#ed7953\"],[0.7777777777777778,\"#fb9f3a\"],[0.8888888888888888,\"#fdca26\"],[1.0,\"#f0f921\"]],\"sequentialminus\":[[0.0,\"#0d0887\"],[0.1111111111111111,\"#46039f\"],[0.2222222222222222,\"#7201a8\"],[0.3333333333333333,\"#9c179e\"],[0.4444444444444444,\"#bd3786\"],[0.5555555555555556,\"#d8576b\"],[0.6666666666666666,\"#ed7953\"],[0.7777777777777778,\"#fb9f3a\"],[0.8888888888888888,\"#fdca26\"],[1.0,\"#f0f921\"]]},\"colorway\":[\"#636efa\",\"#EF553B\",\"#00cc96\",\"#ab63fa\",\"#FFA15A\",\"#19d3f3\",\"#FF6692\",\"#B6E880\",\"#FF97FF\",\"#FECB52\"],\"font\":{\"color\":\"#2a3f5f\"},\"geo\":{\"bgcolor\":\"white\",\"lakecolor\":\"white\",\"landcolor\":\"#E5ECF6\",\"showlakes\":true,\"showland\":true,\"subunitcolor\":\"white\"},\"hoverlabel\":{\"align\":\"left\"},\"hovermode\":\"closest\",\"mapbox\":{\"style\":\"light\"},\"paper_bgcolor\":\"white\",\"plot_bgcolor\":\"#E5ECF6\",\"polar\":{\"angularaxis\":{\"gridcolor\":\"white\",\"linecolor\":\"white\",\"ticks\":\"\"},\"bgcolor\":\"#E5ECF6\",\"radialaxis\":{\"gridcolor\":\"white\",\"linecolor\":\"white\",\"ticks\":\"\"}},\"scene\":{\"xaxis\":{\"backgroundcolor\":\"#E5ECF6\",\"gridcolor\":\"white\",\"gridwidth\":2,\"linecolor\":\"white\",\"showbackground\":true,\"ticks\":\"\",\"zerolinecolor\":\"white\"},\"yaxis\":{\"backgroundcolor\":\"#E5ECF6\",\"gridcolor\":\"white\",\"gridwidth\":2,\"linecolor\":\"white\",\"showbackground\":true,\"ticks\":\"\",\"zerolinecolor\":\"white\"},\"zaxis\":{\"backgroundcolor\":\"#E5ECF6\",\"gridcolor\":\"white\",\"gridwidth\":2,\"linecolor\":\"white\",\"showbackground\":true,\"ticks\":\"\",\"zerolinecolor\":\"white\"}},\"shapedefaults\":{\"line\":{\"color\":\"#2a3f5f\"}},\"ternary\":{\"aaxis\":{\"gridcolor\":\"white\",\"linecolor\":\"white\",\"ticks\":\"\"},\"baxis\":{\"gridcolor\":\"white\",\"linecolor\":\"white\",\"ticks\":\"\"},\"bgcolor\":\"#E5ECF6\",\"caxis\":{\"gridcolor\":\"white\",\"linecolor\":\"white\",\"ticks\":\"\"}},\"title\":{\"x\":0.05},\"xaxis\":{\"automargin\":true,\"gridcolor\":\"white\",\"linecolor\":\"white\",\"ticks\":\"\",\"title\":{\"standoff\":15},\"zerolinecolor\":\"white\",\"zerolinewidth\":2},\"yaxis\":{\"automargin\":true,\"gridcolor\":\"white\",\"linecolor\":\"white\",\"ticks\":\"\",\"title\":{\"standoff\":15},\"zerolinecolor\":\"white\",\"zerolinewidth\":2}}},\"title\":{\"text\":\"GANTT Chart\"},\"xaxis\":{\"range\":[\"1970-01-01T00:00:00\",\"1970-01-02T00:25:06\"],\"title\":{\"font\":{\"color\":\"#7f7f7f\",\"family\":\"Courier New, monospace\",\"size\":18},\"text\":\"Time\"}},\"yaxis\":{\"title\":{\"font\":{\"color\":\"#7f7f7f\",\"family\":\"Courier New, monospace\",\"size\":18},\"text\":\"Activities\"}}},                        {\"responsive\": true}                    ).then(function(){\n",
       "                            \n",
       "var gd = document.getElementById('e3735ada-ccbe-42e1-8fa3-d227ae32ed5f');\n",
       "var x = new MutationObserver(function (mutations, observer) {{\n",
       "        var display = window.getComputedStyle(gd).display;\n",
       "        if (!display || display === 'none') {{\n",
       "            console.log([gd, 'removed!']);\n",
       "            Plotly.purge(gd);\n",
       "            observer.disconnect();\n",
       "        }}\n",
       "}});\n",
       "\n",
       "// Listen for the removal of the full notebook cells\n",
       "var notebookContainer = gd.closest('#notebook-container');\n",
       "if (notebookContainer) {{\n",
       "    x.observe(notebookContainer, {childList: true});\n",
       "}}\n",
       "\n",
       "// Listen for the clearing of the current output cell\n",
       "var outputEl = gd.closest('.output');\n",
       "if (outputEl) {{\n",
       "    x.observe(outputEl, {childList: true});\n",
       "}}\n",
       "\n",
       "                        })                };                });            </script>        </div>"
      ]
     },
     "metadata": {},
     "output_type": "display_data"
    }
   ],
   "source": [
    "fig = plot.get_gantt_chart(vessels, id_map=activities)"
   ]
  },
  {
   "cell_type": "code",
   "execution_count": 6,
   "id": "b7331bd0",
   "metadata": {},
   "outputs": [
    {
     "data": {
      "text/html": [
       "        <script type=\"text/javascript\">\n",
       "        window.PlotlyConfig = {MathJaxConfig: 'local'};\n",
       "        if (window.MathJax && window.MathJax.Hub && window.MathJax.Hub.Config) {window.MathJax.Hub.Config({SVG: {font: \"STIX-Web\"}});}\n",
       "        if (typeof require !== 'undefined') {\n",
       "        require.undef(\"plotly\");\n",
       "        requirejs.config({\n",
       "            paths: {\n",
       "                'plotly': ['https://cdn.plot.ly/plotly-2.18.2.min']\n",
       "            }\n",
       "        });\n",
       "        require(['plotly'], function(Plotly) {\n",
       "            window._Plotly = Plotly;\n",
       "        });\n",
       "        }\n",
       "        </script>\n",
       "        "
      ]
     },
     "metadata": {},
     "output_type": "display_data"
    },
    {
     "data": {
      "application/vnd.plotly.v1+json": {
       "config": {
        "linkText": "Export to plot.ly",
        "plotlyServerURL": "https://plot.ly",
        "showLink": false
       },
       "data": [
        {
         "connectgaps": false,
         "hoverinfo": "y+name",
         "line": {
          "color": "rgb(166,118,110)",
          "width": 10
         },
         "mode": "lines",
         "name": "loading:barge_2",
         "type": "scatter",
         "x": [
          "1970-01-01T01:55:54",
          "1970-01-01T01:55:54",
          "1970-01-01T02:37:34",
          "1970-01-01T02:37:34",
          "1970-01-01T02:37:34",
          "1970-01-01T05:13:58",
          "1970-01-01T05:13:58",
          "1970-01-01T05:55:38",
          "1970-01-01T05:55:38",
          "1970-01-01T05:55:38",
          "1970-01-01T08:32:02",
          "1970-01-01T08:32:02",
          "1970-01-01T09:13:42",
          "1970-01-01T09:13:42",
          "1970-01-01T09:13:42",
          "1970-01-01T11:50:06",
          "1970-01-01T11:50:06",
          "1970-01-01T12:31:46",
          "1970-01-01T12:31:46",
          "1970-01-01T12:31:46",
          "1970-01-01T15:08:10",
          "1970-01-01T15:08:10",
          "1970-01-01T15:49:50",
          "1970-01-01T15:49:50",
          "1970-01-01T15:49:50",
          "1970-01-01T18:44:22",
          "1970-01-01T18:44:22",
          "1970-01-01T19:26:02",
          "1970-01-01T19:26:02",
          "1970-01-01T19:26:02",
          "1970-01-01T22:25:14",
          "1970-01-01T22:25:14",
          "1970-01-01T23:06:54",
          "1970-01-01T23:06:54",
          "1970-01-01T23:06:54",
          "1970-01-01T01:55:54",
          "1970-01-01T01:55:54",
          "1970-01-01T02:37:34",
          "1970-01-01T02:37:34",
          "1970-01-01T02:37:34",
          "1970-01-01T05:13:58",
          "1970-01-01T05:13:58",
          "1970-01-01T05:55:38",
          "1970-01-01T05:55:38",
          "1970-01-01T05:55:38",
          "1970-01-01T08:32:02",
          "1970-01-01T08:32:02",
          "1970-01-01T09:13:42",
          "1970-01-01T09:13:42",
          "1970-01-01T09:13:42",
          "1970-01-01T11:50:06",
          "1970-01-01T11:50:06",
          "1970-01-01T12:31:46",
          "1970-01-01T12:31:46",
          "1970-01-01T12:31:46",
          "1970-01-01T15:08:10",
          "1970-01-01T15:08:10",
          "1970-01-01T15:49:50",
          "1970-01-01T15:49:50",
          "1970-01-01T15:49:50",
          "1970-01-01T18:44:22",
          "1970-01-01T18:44:22",
          "1970-01-01T19:26:02",
          "1970-01-01T19:26:02",
          "1970-01-01T19:26:02",
          "1970-01-01T22:25:14",
          "1970-01-01T22:25:14",
          "1970-01-01T23:06:54",
          "1970-01-01T23:06:54",
          "1970-01-01T23:06:54"
         ],
         "y": [
          "from_site",
          "from_site",
          "from_site",
          "from_site",
          null,
          "from_site",
          "from_site",
          "from_site",
          "from_site",
          null,
          "from_site",
          "from_site",
          "from_site",
          "from_site",
          null,
          "from_site",
          "from_site",
          "from_site",
          "from_site",
          null,
          "from_site",
          "from_site",
          "from_site",
          "from_site",
          null,
          "from_site",
          "from_site",
          "from_site",
          "from_site",
          null,
          "from_site",
          "from_site",
          "from_site",
          "from_site",
          null,
          "cutter",
          "cutter",
          "cutter",
          "cutter",
          null,
          "cutter",
          "cutter",
          "cutter",
          "cutter",
          null,
          "cutter",
          "cutter",
          "cutter",
          "cutter",
          null,
          "cutter",
          "cutter",
          "cutter",
          "cutter",
          null,
          "cutter",
          "cutter",
          "cutter",
          "cutter",
          null,
          "cutter",
          "cutter",
          "cutter",
          "cutter",
          null,
          "cutter",
          "cutter",
          "cutter",
          "cutter",
          null
         ]
        },
        {
         "connectgaps": false,
         "hoverinfo": "y+name",
         "line": {
          "color": "rgb(194,146,138)",
          "width": 10
         },
         "mode": "lines",
         "name": "loading:barge_1",
         "type": "scatter",
         "x": [
          "1970-01-01T02:37:34",
          "1970-01-01T02:37:34",
          "1970-01-01T03:19:14",
          "1970-01-01T03:19:14",
          "1970-01-01T03:19:14",
          "1970-01-01T06:18:26",
          "1970-01-01T06:18:26",
          "1970-01-01T07:00:06",
          "1970-01-01T07:00:06",
          "1970-01-01T07:00:06",
          "1970-01-01T09:59:18",
          "1970-01-01T09:59:18",
          "1970-01-01T10:40:58",
          "1970-01-01T10:40:58",
          "1970-01-01T10:40:58",
          "1970-01-01T13:40:10",
          "1970-01-01T13:40:10",
          "1970-01-01T14:21:50",
          "1970-01-01T14:21:50",
          "1970-01-01T14:21:50",
          "1970-01-01T17:21:02",
          "1970-01-01T17:21:02",
          "1970-01-01T18:02:42",
          "1970-01-01T18:02:42",
          "1970-01-01T18:02:42",
          "1970-01-01T21:01:54",
          "1970-01-01T21:01:54",
          "1970-01-01T21:43:34",
          "1970-01-01T21:43:34",
          "1970-01-01T21:43:34",
          "1970-01-01T02:37:34",
          "1970-01-01T02:37:34",
          "1970-01-01T03:19:14",
          "1970-01-01T03:19:14",
          "1970-01-01T03:19:14",
          "1970-01-01T06:18:26",
          "1970-01-01T06:18:26",
          "1970-01-01T07:00:06",
          "1970-01-01T07:00:06",
          "1970-01-01T07:00:06",
          "1970-01-01T09:59:18",
          "1970-01-01T09:59:18",
          "1970-01-01T10:40:58",
          "1970-01-01T10:40:58",
          "1970-01-01T10:40:58",
          "1970-01-01T13:40:10",
          "1970-01-01T13:40:10",
          "1970-01-01T14:21:50",
          "1970-01-01T14:21:50",
          "1970-01-01T14:21:50",
          "1970-01-01T17:21:02",
          "1970-01-01T17:21:02",
          "1970-01-01T18:02:42",
          "1970-01-01T18:02:42",
          "1970-01-01T18:02:42",
          "1970-01-01T21:01:54",
          "1970-01-01T21:01:54",
          "1970-01-01T21:43:34",
          "1970-01-01T21:43:34",
          "1970-01-01T21:43:34"
         ],
         "y": [
          "from_site",
          "from_site",
          "from_site",
          "from_site",
          null,
          "from_site",
          "from_site",
          "from_site",
          "from_site",
          null,
          "from_site",
          "from_site",
          "from_site",
          "from_site",
          null,
          "from_site",
          "from_site",
          "from_site",
          "from_site",
          null,
          "from_site",
          "from_site",
          "from_site",
          "from_site",
          null,
          "from_site",
          "from_site",
          "from_site",
          "from_site",
          null,
          "cutter",
          "cutter",
          "cutter",
          "cutter",
          null,
          "cutter",
          "cutter",
          "cutter",
          "cutter",
          null,
          "cutter",
          "cutter",
          "cutter",
          "cutter",
          null,
          "cutter",
          "cutter",
          "cutter",
          "cutter",
          null,
          "cutter",
          "cutter",
          "cutter",
          "cutter",
          null,
          "cutter",
          "cutter",
          "cutter",
          "cutter",
          null
         ]
        },
        {
         "connectgaps": false,
         "hoverinfo": "y+name",
         "line": {
          "color": "rgb(222,174,166)",
          "width": 10
         },
         "mode": "lines",
         "name": "loading:barge_0",
         "type": "scatter",
         "x": [
          "1970-01-01T01:14:14",
          "1970-01-01T01:14:14",
          "1970-01-01T01:55:54",
          "1970-01-01T01:55:54",
          "1970-01-01T01:55:54",
          "1970-01-01T04:24:22",
          "1970-01-01T04:24:22",
          "1970-01-01T05:06:02",
          "1970-01-01T05:06:02",
          "1970-01-01T05:06:02",
          "1970-01-01T07:34:30",
          "1970-01-01T07:34:30",
          "1970-01-01T08:16:10",
          "1970-01-01T08:16:10",
          "1970-01-01T08:16:10",
          "1970-01-01T10:44:38",
          "1970-01-01T10:44:38",
          "1970-01-01T11:26:18",
          "1970-01-01T11:26:18",
          "1970-01-01T11:26:18",
          "1970-01-01T14:21:50",
          "1970-01-01T14:21:50",
          "1970-01-01T15:03:30",
          "1970-01-01T15:03:30",
          "1970-01-01T15:03:30",
          "1970-01-01T18:02:42",
          "1970-01-01T18:02:42",
          "1970-01-01T18:44:22",
          "1970-01-01T18:44:22",
          "1970-01-01T18:44:22",
          "1970-01-01T21:43:34",
          "1970-01-01T21:43:34",
          "1970-01-01T22:25:14",
          "1970-01-01T22:25:14",
          "1970-01-01T22:25:14",
          "1970-01-01T01:14:14",
          "1970-01-01T01:14:14",
          "1970-01-01T01:55:54",
          "1970-01-01T01:55:54",
          "1970-01-01T01:55:54",
          "1970-01-01T04:24:22",
          "1970-01-01T04:24:22",
          "1970-01-01T05:06:02",
          "1970-01-01T05:06:02",
          "1970-01-01T05:06:02",
          "1970-01-01T07:34:30",
          "1970-01-01T07:34:30",
          "1970-01-01T08:16:10",
          "1970-01-01T08:16:10",
          "1970-01-01T08:16:10",
          "1970-01-01T10:44:38",
          "1970-01-01T10:44:38",
          "1970-01-01T11:26:18",
          "1970-01-01T11:26:18",
          "1970-01-01T11:26:18",
          "1970-01-01T14:21:50",
          "1970-01-01T14:21:50",
          "1970-01-01T15:03:30",
          "1970-01-01T15:03:30",
          "1970-01-01T15:03:30",
          "1970-01-01T18:02:42",
          "1970-01-01T18:02:42",
          "1970-01-01T18:44:22",
          "1970-01-01T18:44:22",
          "1970-01-01T18:44:22",
          "1970-01-01T21:43:34",
          "1970-01-01T21:43:34",
          "1970-01-01T22:25:14",
          "1970-01-01T22:25:14",
          "1970-01-01T22:25:14"
         ],
         "y": [
          "from_site",
          "from_site",
          "from_site",
          "from_site",
          null,
          "from_site",
          "from_site",
          "from_site",
          "from_site",
          null,
          "from_site",
          "from_site",
          "from_site",
          "from_site",
          null,
          "from_site",
          "from_site",
          "from_site",
          "from_site",
          null,
          "from_site",
          "from_site",
          "from_site",
          "from_site",
          null,
          "from_site",
          "from_site",
          "from_site",
          "from_site",
          null,
          "from_site",
          "from_site",
          "from_site",
          "from_site",
          null,
          "cutter",
          "cutter",
          "cutter",
          "cutter",
          null,
          "cutter",
          "cutter",
          "cutter",
          "cutter",
          null,
          "cutter",
          "cutter",
          "cutter",
          "cutter",
          null,
          "cutter",
          "cutter",
          "cutter",
          "cutter",
          null,
          "cutter",
          "cutter",
          "cutter",
          "cutter",
          null,
          "cutter",
          "cutter",
          "cutter",
          "cutter",
          null,
          "cutter",
          "cutter",
          "cutter",
          "cutter",
          null
         ]
        },
        {
         "connectgaps": false,
         "hoverinfo": "y+name",
         "line": {
          "color": "rgb(250,202,194)",
          "width": 10
         },
         "mode": "lines",
         "name": "unloading:barge_0",
         "type": "scatter",
         "x": [
          "1970-01-01T02:33:01",
          "1970-01-01T02:33:01",
          "1970-01-01T03:10:08",
          "1970-01-01T03:10:08",
          "1970-01-01T03:10:08",
          "1970-01-01T05:43:09",
          "1970-01-01T05:43:09",
          "1970-01-01T06:20:16",
          "1970-01-01T06:20:16",
          "1970-01-01T06:20:16",
          "1970-01-01T08:53:17",
          "1970-01-01T08:53:17",
          "1970-01-01T09:30:24",
          "1970-01-01T09:30:24",
          "1970-01-01T09:30:24",
          "1970-01-01T12:03:25",
          "1970-01-01T12:03:25",
          "1970-01-01T12:40:32",
          "1970-01-01T12:40:32",
          "1970-01-01T12:40:32",
          "1970-01-01T15:40:37",
          "1970-01-01T15:40:37",
          "1970-01-01T16:17:44",
          "1970-01-01T16:17:44",
          "1970-01-01T16:17:44",
          "1970-01-01T19:21:29",
          "1970-01-01T19:21:29",
          "1970-01-01T19:58:36",
          "1970-01-01T19:58:36",
          "1970-01-01T19:58:36",
          "1970-01-01T23:02:21",
          "1970-01-01T23:02:21",
          "1970-01-01T23:39:28",
          "1970-01-01T23:39:28",
          "1970-01-01T23:39:28"
         ],
         "y": [
          "to_site",
          "to_site",
          "to_site",
          "to_site",
          null,
          "to_site",
          "to_site",
          "to_site",
          "to_site",
          null,
          "to_site",
          "to_site",
          "to_site",
          "to_site",
          null,
          "to_site",
          "to_site",
          "to_site",
          "to_site",
          null,
          "to_site",
          "to_site",
          "to_site",
          "to_site",
          null,
          "to_site",
          "to_site",
          "to_site",
          "to_site",
          null,
          "to_site",
          "to_site",
          "to_site",
          "to_site",
          null
         ]
        },
        {
         "connectgaps": false,
         "hoverinfo": "y+name",
         "line": {
          "color": "rgb(22,230,222)",
          "width": 10
         },
         "mode": "lines",
         "name": "unloading:barge_2",
         "type": "scatter",
         "x": [
          "1970-01-01T03:16:40",
          "1970-01-01T03:16:40",
          "1970-01-01T03:55:46",
          "1970-01-01T03:55:46",
          "1970-01-01T03:55:46",
          "1970-01-01T06:34:44",
          "1970-01-01T06:34:44",
          "1970-01-01T07:13:50",
          "1970-01-01T07:13:50",
          "1970-01-01T07:13:50",
          "1970-01-01T09:52:48",
          "1970-01-01T09:52:48",
          "1970-01-01T10:31:54",
          "1970-01-01T10:31:54",
          "1970-01-01T10:31:54",
          "1970-01-01T13:10:52",
          "1970-01-01T13:10:52",
          "1970-01-01T13:49:58",
          "1970-01-01T13:49:58",
          "1970-01-01T13:49:58",
          "1970-01-01T16:28:56",
          "1970-01-01T16:28:56",
          "1970-01-01T17:08:02",
          "1970-01-01T17:08:02",
          "1970-01-01T17:08:02",
          "1970-01-01T20:05:08",
          "1970-01-01T20:05:08",
          "1970-01-01T20:44:14",
          "1970-01-01T20:44:14",
          "1970-01-01T20:44:14",
          "1970-01-01T23:46:00",
          "1970-01-01T23:46:00",
          "1970-01-02T00:25:06",
          "1970-01-02T00:25:06",
          "1970-01-02T00:25:06"
         ],
         "y": [
          "to_site",
          "to_site",
          "to_site",
          "to_site",
          null,
          "to_site",
          "to_site",
          "to_site",
          "to_site",
          null,
          "to_site",
          "to_site",
          "to_site",
          "to_site",
          null,
          "to_site",
          "to_site",
          "to_site",
          "to_site",
          null,
          "to_site",
          "to_site",
          "to_site",
          "to_site",
          null,
          "to_site",
          "to_site",
          "to_site",
          "to_site",
          null,
          "to_site",
          "to_site",
          "to_site",
          "to_site",
          null
         ]
        },
        {
         "connectgaps": false,
         "hoverinfo": "y+name",
         "line": {
          "color": "rgb(50,2,250)",
          "width": 10
         },
         "mode": "lines",
         "name": "unloading:barge_1",
         "type": "scatter",
         "x": [
          "1970-01-01T04:04:02",
          "1970-01-01T04:04:02",
          "1970-01-01T04:48:50",
          "1970-01-01T04:48:50",
          "1970-01-01T04:48:50",
          "1970-01-01T07:44:54",
          "1970-01-01T07:44:54",
          "1970-01-01T08:29:42",
          "1970-01-01T08:29:42",
          "1970-01-01T08:29:42",
          "1970-01-01T11:25:46",
          "1970-01-01T11:25:46",
          "1970-01-01T12:10:34",
          "1970-01-01T12:10:34",
          "1970-01-01T12:10:34",
          "1970-01-01T15:06:38",
          "1970-01-01T15:06:38",
          "1970-01-01T15:51:26",
          "1970-01-01T15:51:26",
          "1970-01-01T15:51:26",
          "1970-01-01T18:47:30",
          "1970-01-01T18:47:30",
          "1970-01-01T19:32:18",
          "1970-01-01T19:32:18",
          "1970-01-01T19:32:18",
          "1970-01-01T22:28:22",
          "1970-01-01T22:28:22",
          "1970-01-01T23:13:10",
          "1970-01-01T23:13:10",
          "1970-01-01T23:13:10"
         ],
         "y": [
          "to_site",
          "to_site",
          "to_site",
          "to_site",
          null,
          "to_site",
          "to_site",
          "to_site",
          "to_site",
          null,
          "to_site",
          "to_site",
          "to_site",
          "to_site",
          null,
          "to_site",
          "to_site",
          "to_site",
          "to_site",
          null,
          "to_site",
          "to_site",
          "to_site",
          "to_site",
          null,
          "to_site",
          "to_site",
          "to_site",
          "to_site",
          null
         ]
        },
        {
         "connectgaps": false,
         "hoverinfo": "y+name",
         "line": {
          "color": "rgb(78,30,22)",
          "width": 10
         },
         "mode": "lines",
         "name": "loading:barge_2",
         "type": "scatter",
         "x": [
          "1970-01-01T01:55:54",
          "1970-01-01T01:55:54",
          "1970-01-01T02:37:34",
          "1970-01-01T02:37:34",
          "1970-01-01T02:37:34",
          "1970-01-01T05:13:58",
          "1970-01-01T05:13:58",
          "1970-01-01T05:55:38",
          "1970-01-01T05:55:38",
          "1970-01-01T05:55:38",
          "1970-01-01T08:32:02",
          "1970-01-01T08:32:02",
          "1970-01-01T09:13:42",
          "1970-01-01T09:13:42",
          "1970-01-01T09:13:42",
          "1970-01-01T11:50:06",
          "1970-01-01T11:50:06",
          "1970-01-01T12:31:46",
          "1970-01-01T12:31:46",
          "1970-01-01T12:31:46",
          "1970-01-01T15:08:10",
          "1970-01-01T15:08:10",
          "1970-01-01T15:49:50",
          "1970-01-01T15:49:50",
          "1970-01-01T15:49:50",
          "1970-01-01T18:44:22",
          "1970-01-01T18:44:22",
          "1970-01-01T19:26:02",
          "1970-01-01T19:26:02",
          "1970-01-01T19:26:02",
          "1970-01-01T22:25:14",
          "1970-01-01T22:25:14",
          "1970-01-01T23:06:54",
          "1970-01-01T23:06:54",
          "1970-01-01T23:06:54",
          "1970-01-01T01:55:54",
          "1970-01-01T01:55:54",
          "1970-01-01T02:37:34",
          "1970-01-01T02:37:34",
          "1970-01-01T02:37:34",
          "1970-01-01T05:13:58",
          "1970-01-01T05:13:58",
          "1970-01-01T05:55:38",
          "1970-01-01T05:55:38",
          "1970-01-01T05:55:38",
          "1970-01-01T08:32:02",
          "1970-01-01T08:32:02",
          "1970-01-01T09:13:42",
          "1970-01-01T09:13:42",
          "1970-01-01T09:13:42",
          "1970-01-01T11:50:06",
          "1970-01-01T11:50:06",
          "1970-01-01T12:31:46",
          "1970-01-01T12:31:46",
          "1970-01-01T12:31:46",
          "1970-01-01T15:08:10",
          "1970-01-01T15:08:10",
          "1970-01-01T15:49:50",
          "1970-01-01T15:49:50",
          "1970-01-01T15:49:50",
          "1970-01-01T18:44:22",
          "1970-01-01T18:44:22",
          "1970-01-01T19:26:02",
          "1970-01-01T19:26:02",
          "1970-01-01T19:26:02",
          "1970-01-01T22:25:14",
          "1970-01-01T22:25:14",
          "1970-01-01T23:06:54",
          "1970-01-01T23:06:54",
          "1970-01-01T23:06:54"
         ],
         "y": [
          "from_site",
          "from_site",
          "from_site",
          "from_site",
          null,
          "from_site",
          "from_site",
          "from_site",
          "from_site",
          null,
          "from_site",
          "from_site",
          "from_site",
          "from_site",
          null,
          "from_site",
          "from_site",
          "from_site",
          "from_site",
          null,
          "from_site",
          "from_site",
          "from_site",
          "from_site",
          null,
          "from_site",
          "from_site",
          "from_site",
          "from_site",
          null,
          "from_site",
          "from_site",
          "from_site",
          "from_site",
          null,
          "cutter",
          "cutter",
          "cutter",
          "cutter",
          null,
          "cutter",
          "cutter",
          "cutter",
          "cutter",
          null,
          "cutter",
          "cutter",
          "cutter",
          "cutter",
          null,
          "cutter",
          "cutter",
          "cutter",
          "cutter",
          null,
          "cutter",
          "cutter",
          "cutter",
          "cutter",
          null,
          "cutter",
          "cutter",
          "cutter",
          "cutter",
          null,
          "cutter",
          "cutter",
          "cutter",
          "cutter",
          null
         ]
        },
        {
         "connectgaps": false,
         "hoverinfo": "y+name",
         "line": {
          "color": "rgb(106,58,50)",
          "width": 10
         },
         "mode": "lines",
         "name": "loading:barge_1",
         "type": "scatter",
         "x": [
          "1970-01-01T02:37:34",
          "1970-01-01T02:37:34",
          "1970-01-01T03:19:14",
          "1970-01-01T03:19:14",
          "1970-01-01T03:19:14",
          "1970-01-01T06:18:26",
          "1970-01-01T06:18:26",
          "1970-01-01T07:00:06",
          "1970-01-01T07:00:06",
          "1970-01-01T07:00:06",
          "1970-01-01T09:59:18",
          "1970-01-01T09:59:18",
          "1970-01-01T10:40:58",
          "1970-01-01T10:40:58",
          "1970-01-01T10:40:58",
          "1970-01-01T13:40:10",
          "1970-01-01T13:40:10",
          "1970-01-01T14:21:50",
          "1970-01-01T14:21:50",
          "1970-01-01T14:21:50",
          "1970-01-01T17:21:02",
          "1970-01-01T17:21:02",
          "1970-01-01T18:02:42",
          "1970-01-01T18:02:42",
          "1970-01-01T18:02:42",
          "1970-01-01T21:01:54",
          "1970-01-01T21:01:54",
          "1970-01-01T21:43:34",
          "1970-01-01T21:43:34",
          "1970-01-01T21:43:34",
          "1970-01-01T02:37:34",
          "1970-01-01T02:37:34",
          "1970-01-01T03:19:14",
          "1970-01-01T03:19:14",
          "1970-01-01T03:19:14",
          "1970-01-01T06:18:26",
          "1970-01-01T06:18:26",
          "1970-01-01T07:00:06",
          "1970-01-01T07:00:06",
          "1970-01-01T07:00:06",
          "1970-01-01T09:59:18",
          "1970-01-01T09:59:18",
          "1970-01-01T10:40:58",
          "1970-01-01T10:40:58",
          "1970-01-01T10:40:58",
          "1970-01-01T13:40:10",
          "1970-01-01T13:40:10",
          "1970-01-01T14:21:50",
          "1970-01-01T14:21:50",
          "1970-01-01T14:21:50",
          "1970-01-01T17:21:02",
          "1970-01-01T17:21:02",
          "1970-01-01T18:02:42",
          "1970-01-01T18:02:42",
          "1970-01-01T18:02:42",
          "1970-01-01T21:01:54",
          "1970-01-01T21:01:54",
          "1970-01-01T21:43:34",
          "1970-01-01T21:43:34",
          "1970-01-01T21:43:34"
         ],
         "y": [
          "from_site",
          "from_site",
          "from_site",
          "from_site",
          null,
          "from_site",
          "from_site",
          "from_site",
          "from_site",
          null,
          "from_site",
          "from_site",
          "from_site",
          "from_site",
          null,
          "from_site",
          "from_site",
          "from_site",
          "from_site",
          null,
          "from_site",
          "from_site",
          "from_site",
          "from_site",
          null,
          "from_site",
          "from_site",
          "from_site",
          "from_site",
          null,
          "cutter",
          "cutter",
          "cutter",
          "cutter",
          null,
          "cutter",
          "cutter",
          "cutter",
          "cutter",
          null,
          "cutter",
          "cutter",
          "cutter",
          "cutter",
          null,
          "cutter",
          "cutter",
          "cutter",
          "cutter",
          null,
          "cutter",
          "cutter",
          "cutter",
          "cutter",
          null,
          "cutter",
          "cutter",
          "cutter",
          "cutter",
          null
         ]
        },
        {
         "connectgaps": false,
         "hoverinfo": "y+name",
         "line": {
          "color": "rgb(134,86,78)",
          "width": 10
         },
         "mode": "lines",
         "name": "loading:barge_0",
         "type": "scatter",
         "x": [
          "1970-01-01T01:14:14",
          "1970-01-01T01:14:14",
          "1970-01-01T01:55:54",
          "1970-01-01T01:55:54",
          "1970-01-01T01:55:54",
          "1970-01-01T04:24:22",
          "1970-01-01T04:24:22",
          "1970-01-01T05:06:02",
          "1970-01-01T05:06:02",
          "1970-01-01T05:06:02",
          "1970-01-01T07:34:30",
          "1970-01-01T07:34:30",
          "1970-01-01T08:16:10",
          "1970-01-01T08:16:10",
          "1970-01-01T08:16:10",
          "1970-01-01T10:44:38",
          "1970-01-01T10:44:38",
          "1970-01-01T11:26:18",
          "1970-01-01T11:26:18",
          "1970-01-01T11:26:18",
          "1970-01-01T14:21:50",
          "1970-01-01T14:21:50",
          "1970-01-01T15:03:30",
          "1970-01-01T15:03:30",
          "1970-01-01T15:03:30",
          "1970-01-01T18:02:42",
          "1970-01-01T18:02:42",
          "1970-01-01T18:44:22",
          "1970-01-01T18:44:22",
          "1970-01-01T18:44:22",
          "1970-01-01T21:43:34",
          "1970-01-01T21:43:34",
          "1970-01-01T22:25:14",
          "1970-01-01T22:25:14",
          "1970-01-01T22:25:14",
          "1970-01-01T01:14:14",
          "1970-01-01T01:14:14",
          "1970-01-01T01:55:54",
          "1970-01-01T01:55:54",
          "1970-01-01T01:55:54",
          "1970-01-01T04:24:22",
          "1970-01-01T04:24:22",
          "1970-01-01T05:06:02",
          "1970-01-01T05:06:02",
          "1970-01-01T05:06:02",
          "1970-01-01T07:34:30",
          "1970-01-01T07:34:30",
          "1970-01-01T08:16:10",
          "1970-01-01T08:16:10",
          "1970-01-01T08:16:10",
          "1970-01-01T10:44:38",
          "1970-01-01T10:44:38",
          "1970-01-01T11:26:18",
          "1970-01-01T11:26:18",
          "1970-01-01T11:26:18",
          "1970-01-01T14:21:50",
          "1970-01-01T14:21:50",
          "1970-01-01T15:03:30",
          "1970-01-01T15:03:30",
          "1970-01-01T15:03:30",
          "1970-01-01T18:02:42",
          "1970-01-01T18:02:42",
          "1970-01-01T18:44:22",
          "1970-01-01T18:44:22",
          "1970-01-01T18:44:22",
          "1970-01-01T21:43:34",
          "1970-01-01T21:43:34",
          "1970-01-01T22:25:14",
          "1970-01-01T22:25:14",
          "1970-01-01T22:25:14"
         ],
         "y": [
          "from_site",
          "from_site",
          "from_site",
          "from_site",
          null,
          "from_site",
          "from_site",
          "from_site",
          "from_site",
          null,
          "from_site",
          "from_site",
          "from_site",
          "from_site",
          null,
          "from_site",
          "from_site",
          "from_site",
          "from_site",
          null,
          "from_site",
          "from_site",
          "from_site",
          "from_site",
          null,
          "from_site",
          "from_site",
          "from_site",
          "from_site",
          null,
          "from_site",
          "from_site",
          "from_site",
          "from_site",
          null,
          "cutter",
          "cutter",
          "cutter",
          "cutter",
          null,
          "cutter",
          "cutter",
          "cutter",
          "cutter",
          null,
          "cutter",
          "cutter",
          "cutter",
          "cutter",
          null,
          "cutter",
          "cutter",
          "cutter",
          "cutter",
          null,
          "cutter",
          "cutter",
          "cutter",
          "cutter",
          null,
          "cutter",
          "cutter",
          "cutter",
          "cutter",
          null,
          "cutter",
          "cutter",
          "cutter",
          "cutter",
          null
         ]
        }
       ],
       "layout": {
        "hovermode": "closest",
        "legend": {
         "orientation": "h",
         "x": 0,
         "y": -0.2
        },
        "template": {
         "data": {
          "bar": [
           {
            "error_x": {
             "color": "#2a3f5f"
            },
            "error_y": {
             "color": "#2a3f5f"
            },
            "marker": {
             "line": {
              "color": "#E5ECF6",
              "width": 0.5
             },
             "pattern": {
              "fillmode": "overlay",
              "size": 10,
              "solidity": 0.2
             }
            },
            "type": "bar"
           }
          ],
          "barpolar": [
           {
            "marker": {
             "line": {
              "color": "#E5ECF6",
              "width": 0.5
             },
             "pattern": {
              "fillmode": "overlay",
              "size": 10,
              "solidity": 0.2
             }
            },
            "type": "barpolar"
           }
          ],
          "carpet": [
           {
            "aaxis": {
             "endlinecolor": "#2a3f5f",
             "gridcolor": "white",
             "linecolor": "white",
             "minorgridcolor": "white",
             "startlinecolor": "#2a3f5f"
            },
            "baxis": {
             "endlinecolor": "#2a3f5f",
             "gridcolor": "white",
             "linecolor": "white",
             "minorgridcolor": "white",
             "startlinecolor": "#2a3f5f"
            },
            "type": "carpet"
           }
          ],
          "choropleth": [
           {
            "colorbar": {
             "outlinewidth": 0,
             "ticks": ""
            },
            "type": "choropleth"
           }
          ],
          "contour": [
           {
            "colorbar": {
             "outlinewidth": 0,
             "ticks": ""
            },
            "colorscale": [
             [
              0,
              "#0d0887"
             ],
             [
              0.1111111111111111,
              "#46039f"
             ],
             [
              0.2222222222222222,
              "#7201a8"
             ],
             [
              0.3333333333333333,
              "#9c179e"
             ],
             [
              0.4444444444444444,
              "#bd3786"
             ],
             [
              0.5555555555555556,
              "#d8576b"
             ],
             [
              0.6666666666666666,
              "#ed7953"
             ],
             [
              0.7777777777777778,
              "#fb9f3a"
             ],
             [
              0.8888888888888888,
              "#fdca26"
             ],
             [
              1,
              "#f0f921"
             ]
            ],
            "type": "contour"
           }
          ],
          "contourcarpet": [
           {
            "colorbar": {
             "outlinewidth": 0,
             "ticks": ""
            },
            "type": "contourcarpet"
           }
          ],
          "heatmap": [
           {
            "colorbar": {
             "outlinewidth": 0,
             "ticks": ""
            },
            "colorscale": [
             [
              0,
              "#0d0887"
             ],
             [
              0.1111111111111111,
              "#46039f"
             ],
             [
              0.2222222222222222,
              "#7201a8"
             ],
             [
              0.3333333333333333,
              "#9c179e"
             ],
             [
              0.4444444444444444,
              "#bd3786"
             ],
             [
              0.5555555555555556,
              "#d8576b"
             ],
             [
              0.6666666666666666,
              "#ed7953"
             ],
             [
              0.7777777777777778,
              "#fb9f3a"
             ],
             [
              0.8888888888888888,
              "#fdca26"
             ],
             [
              1,
              "#f0f921"
             ]
            ],
            "type": "heatmap"
           }
          ],
          "heatmapgl": [
           {
            "colorbar": {
             "outlinewidth": 0,
             "ticks": ""
            },
            "colorscale": [
             [
              0,
              "#0d0887"
             ],
             [
              0.1111111111111111,
              "#46039f"
             ],
             [
              0.2222222222222222,
              "#7201a8"
             ],
             [
              0.3333333333333333,
              "#9c179e"
             ],
             [
              0.4444444444444444,
              "#bd3786"
             ],
             [
              0.5555555555555556,
              "#d8576b"
             ],
             [
              0.6666666666666666,
              "#ed7953"
             ],
             [
              0.7777777777777778,
              "#fb9f3a"
             ],
             [
              0.8888888888888888,
              "#fdca26"
             ],
             [
              1,
              "#f0f921"
             ]
            ],
            "type": "heatmapgl"
           }
          ],
          "histogram": [
           {
            "marker": {
             "pattern": {
              "fillmode": "overlay",
              "size": 10,
              "solidity": 0.2
             }
            },
            "type": "histogram"
           }
          ],
          "histogram2d": [
           {
            "colorbar": {
             "outlinewidth": 0,
             "ticks": ""
            },
            "colorscale": [
             [
              0,
              "#0d0887"
             ],
             [
              0.1111111111111111,
              "#46039f"
             ],
             [
              0.2222222222222222,
              "#7201a8"
             ],
             [
              0.3333333333333333,
              "#9c179e"
             ],
             [
              0.4444444444444444,
              "#bd3786"
             ],
             [
              0.5555555555555556,
              "#d8576b"
             ],
             [
              0.6666666666666666,
              "#ed7953"
             ],
             [
              0.7777777777777778,
              "#fb9f3a"
             ],
             [
              0.8888888888888888,
              "#fdca26"
             ],
             [
              1,
              "#f0f921"
             ]
            ],
            "type": "histogram2d"
           }
          ],
          "histogram2dcontour": [
           {
            "colorbar": {
             "outlinewidth": 0,
             "ticks": ""
            },
            "colorscale": [
             [
              0,
              "#0d0887"
             ],
             [
              0.1111111111111111,
              "#46039f"
             ],
             [
              0.2222222222222222,
              "#7201a8"
             ],
             [
              0.3333333333333333,
              "#9c179e"
             ],
             [
              0.4444444444444444,
              "#bd3786"
             ],
             [
              0.5555555555555556,
              "#d8576b"
             ],
             [
              0.6666666666666666,
              "#ed7953"
             ],
             [
              0.7777777777777778,
              "#fb9f3a"
             ],
             [
              0.8888888888888888,
              "#fdca26"
             ],
             [
              1,
              "#f0f921"
             ]
            ],
            "type": "histogram2dcontour"
           }
          ],
          "mesh3d": [
           {
            "colorbar": {
             "outlinewidth": 0,
             "ticks": ""
            },
            "type": "mesh3d"
           }
          ],
          "parcoords": [
           {
            "line": {
             "colorbar": {
              "outlinewidth": 0,
              "ticks": ""
             }
            },
            "type": "parcoords"
           }
          ],
          "pie": [
           {
            "automargin": true,
            "type": "pie"
           }
          ],
          "scatter": [
           {
            "fillpattern": {
             "fillmode": "overlay",
             "size": 10,
             "solidity": 0.2
            },
            "type": "scatter"
           }
          ],
          "scatter3d": [
           {
            "line": {
             "colorbar": {
              "outlinewidth": 0,
              "ticks": ""
             }
            },
            "marker": {
             "colorbar": {
              "outlinewidth": 0,
              "ticks": ""
             }
            },
            "type": "scatter3d"
           }
          ],
          "scattercarpet": [
           {
            "marker": {
             "colorbar": {
              "outlinewidth": 0,
              "ticks": ""
             }
            },
            "type": "scattercarpet"
           }
          ],
          "scattergeo": [
           {
            "marker": {
             "colorbar": {
              "outlinewidth": 0,
              "ticks": ""
             }
            },
            "type": "scattergeo"
           }
          ],
          "scattergl": [
           {
            "marker": {
             "colorbar": {
              "outlinewidth": 0,
              "ticks": ""
             }
            },
            "type": "scattergl"
           }
          ],
          "scattermapbox": [
           {
            "marker": {
             "colorbar": {
              "outlinewidth": 0,
              "ticks": ""
             }
            },
            "type": "scattermapbox"
           }
          ],
          "scatterpolar": [
           {
            "marker": {
             "colorbar": {
              "outlinewidth": 0,
              "ticks": ""
             }
            },
            "type": "scatterpolar"
           }
          ],
          "scatterpolargl": [
           {
            "marker": {
             "colorbar": {
              "outlinewidth": 0,
              "ticks": ""
             }
            },
            "type": "scatterpolargl"
           }
          ],
          "scatterternary": [
           {
            "marker": {
             "colorbar": {
              "outlinewidth": 0,
              "ticks": ""
             }
            },
            "type": "scatterternary"
           }
          ],
          "surface": [
           {
            "colorbar": {
             "outlinewidth": 0,
             "ticks": ""
            },
            "colorscale": [
             [
              0,
              "#0d0887"
             ],
             [
              0.1111111111111111,
              "#46039f"
             ],
             [
              0.2222222222222222,
              "#7201a8"
             ],
             [
              0.3333333333333333,
              "#9c179e"
             ],
             [
              0.4444444444444444,
              "#bd3786"
             ],
             [
              0.5555555555555556,
              "#d8576b"
             ],
             [
              0.6666666666666666,
              "#ed7953"
             ],
             [
              0.7777777777777778,
              "#fb9f3a"
             ],
             [
              0.8888888888888888,
              "#fdca26"
             ],
             [
              1,
              "#f0f921"
             ]
            ],
            "type": "surface"
           }
          ],
          "table": [
           {
            "cells": {
             "fill": {
              "color": "#EBF0F8"
             },
             "line": {
              "color": "white"
             }
            },
            "header": {
             "fill": {
              "color": "#C8D4E3"
             },
             "line": {
              "color": "white"
             }
            },
            "type": "table"
           }
          ]
         },
         "layout": {
          "annotationdefaults": {
           "arrowcolor": "#2a3f5f",
           "arrowhead": 0,
           "arrowwidth": 1
          },
          "autotypenumbers": "strict",
          "coloraxis": {
           "colorbar": {
            "outlinewidth": 0,
            "ticks": ""
           }
          },
          "colorscale": {
           "diverging": [
            [
             0,
             "#8e0152"
            ],
            [
             0.1,
             "#c51b7d"
            ],
            [
             0.2,
             "#de77ae"
            ],
            [
             0.3,
             "#f1b6da"
            ],
            [
             0.4,
             "#fde0ef"
            ],
            [
             0.5,
             "#f7f7f7"
            ],
            [
             0.6,
             "#e6f5d0"
            ],
            [
             0.7,
             "#b8e186"
            ],
            [
             0.8,
             "#7fbc41"
            ],
            [
             0.9,
             "#4d9221"
            ],
            [
             1,
             "#276419"
            ]
           ],
           "sequential": [
            [
             0,
             "#0d0887"
            ],
            [
             0.1111111111111111,
             "#46039f"
            ],
            [
             0.2222222222222222,
             "#7201a8"
            ],
            [
             0.3333333333333333,
             "#9c179e"
            ],
            [
             0.4444444444444444,
             "#bd3786"
            ],
            [
             0.5555555555555556,
             "#d8576b"
            ],
            [
             0.6666666666666666,
             "#ed7953"
            ],
            [
             0.7777777777777778,
             "#fb9f3a"
            ],
            [
             0.8888888888888888,
             "#fdca26"
            ],
            [
             1,
             "#f0f921"
            ]
           ],
           "sequentialminus": [
            [
             0,
             "#0d0887"
            ],
            [
             0.1111111111111111,
             "#46039f"
            ],
            [
             0.2222222222222222,
             "#7201a8"
            ],
            [
             0.3333333333333333,
             "#9c179e"
            ],
            [
             0.4444444444444444,
             "#bd3786"
            ],
            [
             0.5555555555555556,
             "#d8576b"
            ],
            [
             0.6666666666666666,
             "#ed7953"
            ],
            [
             0.7777777777777778,
             "#fb9f3a"
            ],
            [
             0.8888888888888888,
             "#fdca26"
            ],
            [
             1,
             "#f0f921"
            ]
           ]
          },
          "colorway": [
           "#636efa",
           "#EF553B",
           "#00cc96",
           "#ab63fa",
           "#FFA15A",
           "#19d3f3",
           "#FF6692",
           "#B6E880",
           "#FF97FF",
           "#FECB52"
          ],
          "font": {
           "color": "#2a3f5f"
          },
          "geo": {
           "bgcolor": "white",
           "lakecolor": "white",
           "landcolor": "#E5ECF6",
           "showlakes": true,
           "showland": true,
           "subunitcolor": "white"
          },
          "hoverlabel": {
           "align": "left"
          },
          "hovermode": "closest",
          "mapbox": {
           "style": "light"
          },
          "paper_bgcolor": "white",
          "plot_bgcolor": "#E5ECF6",
          "polar": {
           "angularaxis": {
            "gridcolor": "white",
            "linecolor": "white",
            "ticks": ""
           },
           "bgcolor": "#E5ECF6",
           "radialaxis": {
            "gridcolor": "white",
            "linecolor": "white",
            "ticks": ""
           }
          },
          "scene": {
           "xaxis": {
            "backgroundcolor": "#E5ECF6",
            "gridcolor": "white",
            "gridwidth": 2,
            "linecolor": "white",
            "showbackground": true,
            "ticks": "",
            "zerolinecolor": "white"
           },
           "yaxis": {
            "backgroundcolor": "#E5ECF6",
            "gridcolor": "white",
            "gridwidth": 2,
            "linecolor": "white",
            "showbackground": true,
            "ticks": "",
            "zerolinecolor": "white"
           },
           "zaxis": {
            "backgroundcolor": "#E5ECF6",
            "gridcolor": "white",
            "gridwidth": 2,
            "linecolor": "white",
            "showbackground": true,
            "ticks": "",
            "zerolinecolor": "white"
           }
          },
          "shapedefaults": {
           "line": {
            "color": "#2a3f5f"
           }
          },
          "ternary": {
           "aaxis": {
            "gridcolor": "white",
            "linecolor": "white",
            "ticks": ""
           },
           "baxis": {
            "gridcolor": "white",
            "linecolor": "white",
            "ticks": ""
           },
           "bgcolor": "#E5ECF6",
           "caxis": {
            "gridcolor": "white",
            "linecolor": "white",
            "ticks": ""
           }
          },
          "title": {
           "x": 0.05
          },
          "xaxis": {
           "automargin": true,
           "gridcolor": "white",
           "linecolor": "white",
           "ticks": "",
           "title": {
            "standoff": 15
           },
           "zerolinecolor": "white",
           "zerolinewidth": 2
          },
          "yaxis": {
           "automargin": true,
           "gridcolor": "white",
           "linecolor": "white",
           "ticks": "",
           "title": {
            "standoff": 15
           },
           "zerolinecolor": "white",
           "zerolinewidth": 2
          }
         }
        },
        "title": {
         "text": "GANTT Chart"
        },
        "xaxis": {
         "range": [
          "1970-01-01T01:14:14",
          "1970-01-02T00:25:06"
         ],
         "title": {
          "font": {
           "color": "#7f7f7f",
           "family": "Courier New, monospace",
           "size": 18
          },
          "text": "Time"
         }
        },
        "yaxis": {
         "title": {
          "font": {
           "color": "#7f7f7f",
           "family": "Courier New, monospace",
           "size": 18
          },
          "text": "Activities"
         }
        }
       }
      },
      "text/html": [
       "<div>                            <div id=\"546d6b5e-571c-4082-be86-e8527a1582c8\" class=\"plotly-graph-div\" style=\"height:525px; width:100%;\"></div>            <script type=\"text/javascript\">                require([\"plotly\"], function(Plotly) {                    window.PLOTLYENV=window.PLOTLYENV || {};                                    if (document.getElementById(\"546d6b5e-571c-4082-be86-e8527a1582c8\")) {                    Plotly.newPlot(                        \"546d6b5e-571c-4082-be86-e8527a1582c8\",                        [{\"connectgaps\":false,\"hoverinfo\":\"y+name\",\"line\":{\"color\":\"rgb(166,118,110)\",\"width\":10},\"mode\":\"lines\",\"name\":\"loading:barge_2\",\"x\":[\"1970-01-01T01:55:54\",\"1970-01-01T01:55:54\",\"1970-01-01T02:37:34\",\"1970-01-01T02:37:34\",\"1970-01-01T02:37:34\",\"1970-01-01T05:13:58\",\"1970-01-01T05:13:58\",\"1970-01-01T05:55:38\",\"1970-01-01T05:55:38\",\"1970-01-01T05:55:38\",\"1970-01-01T08:32:02\",\"1970-01-01T08:32:02\",\"1970-01-01T09:13:42\",\"1970-01-01T09:13:42\",\"1970-01-01T09:13:42\",\"1970-01-01T11:50:06\",\"1970-01-01T11:50:06\",\"1970-01-01T12:31:46\",\"1970-01-01T12:31:46\",\"1970-01-01T12:31:46\",\"1970-01-01T15:08:10\",\"1970-01-01T15:08:10\",\"1970-01-01T15:49:50\",\"1970-01-01T15:49:50\",\"1970-01-01T15:49:50\",\"1970-01-01T18:44:22\",\"1970-01-01T18:44:22\",\"1970-01-01T19:26:02\",\"1970-01-01T19:26:02\",\"1970-01-01T19:26:02\",\"1970-01-01T22:25:14\",\"1970-01-01T22:25:14\",\"1970-01-01T23:06:54\",\"1970-01-01T23:06:54\",\"1970-01-01T23:06:54\",\"1970-01-01T01:55:54\",\"1970-01-01T01:55:54\",\"1970-01-01T02:37:34\",\"1970-01-01T02:37:34\",\"1970-01-01T02:37:34\",\"1970-01-01T05:13:58\",\"1970-01-01T05:13:58\",\"1970-01-01T05:55:38\",\"1970-01-01T05:55:38\",\"1970-01-01T05:55:38\",\"1970-01-01T08:32:02\",\"1970-01-01T08:32:02\",\"1970-01-01T09:13:42\",\"1970-01-01T09:13:42\",\"1970-01-01T09:13:42\",\"1970-01-01T11:50:06\",\"1970-01-01T11:50:06\",\"1970-01-01T12:31:46\",\"1970-01-01T12:31:46\",\"1970-01-01T12:31:46\",\"1970-01-01T15:08:10\",\"1970-01-01T15:08:10\",\"1970-01-01T15:49:50\",\"1970-01-01T15:49:50\",\"1970-01-01T15:49:50\",\"1970-01-01T18:44:22\",\"1970-01-01T18:44:22\",\"1970-01-01T19:26:02\",\"1970-01-01T19:26:02\",\"1970-01-01T19:26:02\",\"1970-01-01T22:25:14\",\"1970-01-01T22:25:14\",\"1970-01-01T23:06:54\",\"1970-01-01T23:06:54\",\"1970-01-01T23:06:54\"],\"y\":[\"from_site\",\"from_site\",\"from_site\",\"from_site\",null,\"from_site\",\"from_site\",\"from_site\",\"from_site\",null,\"from_site\",\"from_site\",\"from_site\",\"from_site\",null,\"from_site\",\"from_site\",\"from_site\",\"from_site\",null,\"from_site\",\"from_site\",\"from_site\",\"from_site\",null,\"from_site\",\"from_site\",\"from_site\",\"from_site\",null,\"from_site\",\"from_site\",\"from_site\",\"from_site\",null,\"cutter\",\"cutter\",\"cutter\",\"cutter\",null,\"cutter\",\"cutter\",\"cutter\",\"cutter\",null,\"cutter\",\"cutter\",\"cutter\",\"cutter\",null,\"cutter\",\"cutter\",\"cutter\",\"cutter\",null,\"cutter\",\"cutter\",\"cutter\",\"cutter\",null,\"cutter\",\"cutter\",\"cutter\",\"cutter\",null,\"cutter\",\"cutter\",\"cutter\",\"cutter\",null],\"type\":\"scatter\"},{\"connectgaps\":false,\"hoverinfo\":\"y+name\",\"line\":{\"color\":\"rgb(194,146,138)\",\"width\":10},\"mode\":\"lines\",\"name\":\"loading:barge_1\",\"x\":[\"1970-01-01T02:37:34\",\"1970-01-01T02:37:34\",\"1970-01-01T03:19:14\",\"1970-01-01T03:19:14\",\"1970-01-01T03:19:14\",\"1970-01-01T06:18:26\",\"1970-01-01T06:18:26\",\"1970-01-01T07:00:06\",\"1970-01-01T07:00:06\",\"1970-01-01T07:00:06\",\"1970-01-01T09:59:18\",\"1970-01-01T09:59:18\",\"1970-01-01T10:40:58\",\"1970-01-01T10:40:58\",\"1970-01-01T10:40:58\",\"1970-01-01T13:40:10\",\"1970-01-01T13:40:10\",\"1970-01-01T14:21:50\",\"1970-01-01T14:21:50\",\"1970-01-01T14:21:50\",\"1970-01-01T17:21:02\",\"1970-01-01T17:21:02\",\"1970-01-01T18:02:42\",\"1970-01-01T18:02:42\",\"1970-01-01T18:02:42\",\"1970-01-01T21:01:54\",\"1970-01-01T21:01:54\",\"1970-01-01T21:43:34\",\"1970-01-01T21:43:34\",\"1970-01-01T21:43:34\",\"1970-01-01T02:37:34\",\"1970-01-01T02:37:34\",\"1970-01-01T03:19:14\",\"1970-01-01T03:19:14\",\"1970-01-01T03:19:14\",\"1970-01-01T06:18:26\",\"1970-01-01T06:18:26\",\"1970-01-01T07:00:06\",\"1970-01-01T07:00:06\",\"1970-01-01T07:00:06\",\"1970-01-01T09:59:18\",\"1970-01-01T09:59:18\",\"1970-01-01T10:40:58\",\"1970-01-01T10:40:58\",\"1970-01-01T10:40:58\",\"1970-01-01T13:40:10\",\"1970-01-01T13:40:10\",\"1970-01-01T14:21:50\",\"1970-01-01T14:21:50\",\"1970-01-01T14:21:50\",\"1970-01-01T17:21:02\",\"1970-01-01T17:21:02\",\"1970-01-01T18:02:42\",\"1970-01-01T18:02:42\",\"1970-01-01T18:02:42\",\"1970-01-01T21:01:54\",\"1970-01-01T21:01:54\",\"1970-01-01T21:43:34\",\"1970-01-01T21:43:34\",\"1970-01-01T21:43:34\"],\"y\":[\"from_site\",\"from_site\",\"from_site\",\"from_site\",null,\"from_site\",\"from_site\",\"from_site\",\"from_site\",null,\"from_site\",\"from_site\",\"from_site\",\"from_site\",null,\"from_site\",\"from_site\",\"from_site\",\"from_site\",null,\"from_site\",\"from_site\",\"from_site\",\"from_site\",null,\"from_site\",\"from_site\",\"from_site\",\"from_site\",null,\"cutter\",\"cutter\",\"cutter\",\"cutter\",null,\"cutter\",\"cutter\",\"cutter\",\"cutter\",null,\"cutter\",\"cutter\",\"cutter\",\"cutter\",null,\"cutter\",\"cutter\",\"cutter\",\"cutter\",null,\"cutter\",\"cutter\",\"cutter\",\"cutter\",null,\"cutter\",\"cutter\",\"cutter\",\"cutter\",null],\"type\":\"scatter\"},{\"connectgaps\":false,\"hoverinfo\":\"y+name\",\"line\":{\"color\":\"rgb(222,174,166)\",\"width\":10},\"mode\":\"lines\",\"name\":\"loading:barge_0\",\"x\":[\"1970-01-01T01:14:14\",\"1970-01-01T01:14:14\",\"1970-01-01T01:55:54\",\"1970-01-01T01:55:54\",\"1970-01-01T01:55:54\",\"1970-01-01T04:24:22\",\"1970-01-01T04:24:22\",\"1970-01-01T05:06:02\",\"1970-01-01T05:06:02\",\"1970-01-01T05:06:02\",\"1970-01-01T07:34:30\",\"1970-01-01T07:34:30\",\"1970-01-01T08:16:10\",\"1970-01-01T08:16:10\",\"1970-01-01T08:16:10\",\"1970-01-01T10:44:38\",\"1970-01-01T10:44:38\",\"1970-01-01T11:26:18\",\"1970-01-01T11:26:18\",\"1970-01-01T11:26:18\",\"1970-01-01T14:21:50\",\"1970-01-01T14:21:50\",\"1970-01-01T15:03:30\",\"1970-01-01T15:03:30\",\"1970-01-01T15:03:30\",\"1970-01-01T18:02:42\",\"1970-01-01T18:02:42\",\"1970-01-01T18:44:22\",\"1970-01-01T18:44:22\",\"1970-01-01T18:44:22\",\"1970-01-01T21:43:34\",\"1970-01-01T21:43:34\",\"1970-01-01T22:25:14\",\"1970-01-01T22:25:14\",\"1970-01-01T22:25:14\",\"1970-01-01T01:14:14\",\"1970-01-01T01:14:14\",\"1970-01-01T01:55:54\",\"1970-01-01T01:55:54\",\"1970-01-01T01:55:54\",\"1970-01-01T04:24:22\",\"1970-01-01T04:24:22\",\"1970-01-01T05:06:02\",\"1970-01-01T05:06:02\",\"1970-01-01T05:06:02\",\"1970-01-01T07:34:30\",\"1970-01-01T07:34:30\",\"1970-01-01T08:16:10\",\"1970-01-01T08:16:10\",\"1970-01-01T08:16:10\",\"1970-01-01T10:44:38\",\"1970-01-01T10:44:38\",\"1970-01-01T11:26:18\",\"1970-01-01T11:26:18\",\"1970-01-01T11:26:18\",\"1970-01-01T14:21:50\",\"1970-01-01T14:21:50\",\"1970-01-01T15:03:30\",\"1970-01-01T15:03:30\",\"1970-01-01T15:03:30\",\"1970-01-01T18:02:42\",\"1970-01-01T18:02:42\",\"1970-01-01T18:44:22\",\"1970-01-01T18:44:22\",\"1970-01-01T18:44:22\",\"1970-01-01T21:43:34\",\"1970-01-01T21:43:34\",\"1970-01-01T22:25:14\",\"1970-01-01T22:25:14\",\"1970-01-01T22:25:14\"],\"y\":[\"from_site\",\"from_site\",\"from_site\",\"from_site\",null,\"from_site\",\"from_site\",\"from_site\",\"from_site\",null,\"from_site\",\"from_site\",\"from_site\",\"from_site\",null,\"from_site\",\"from_site\",\"from_site\",\"from_site\",null,\"from_site\",\"from_site\",\"from_site\",\"from_site\",null,\"from_site\",\"from_site\",\"from_site\",\"from_site\",null,\"from_site\",\"from_site\",\"from_site\",\"from_site\",null,\"cutter\",\"cutter\",\"cutter\",\"cutter\",null,\"cutter\",\"cutter\",\"cutter\",\"cutter\",null,\"cutter\",\"cutter\",\"cutter\",\"cutter\",null,\"cutter\",\"cutter\",\"cutter\",\"cutter\",null,\"cutter\",\"cutter\",\"cutter\",\"cutter\",null,\"cutter\",\"cutter\",\"cutter\",\"cutter\",null,\"cutter\",\"cutter\",\"cutter\",\"cutter\",null],\"type\":\"scatter\"},{\"connectgaps\":false,\"hoverinfo\":\"y+name\",\"line\":{\"color\":\"rgb(250,202,194)\",\"width\":10},\"mode\":\"lines\",\"name\":\"unloading:barge_0\",\"x\":[\"1970-01-01T02:33:01\",\"1970-01-01T02:33:01\",\"1970-01-01T03:10:08\",\"1970-01-01T03:10:08\",\"1970-01-01T03:10:08\",\"1970-01-01T05:43:09\",\"1970-01-01T05:43:09\",\"1970-01-01T06:20:16\",\"1970-01-01T06:20:16\",\"1970-01-01T06:20:16\",\"1970-01-01T08:53:17\",\"1970-01-01T08:53:17\",\"1970-01-01T09:30:24\",\"1970-01-01T09:30:24\",\"1970-01-01T09:30:24\",\"1970-01-01T12:03:25\",\"1970-01-01T12:03:25\",\"1970-01-01T12:40:32\",\"1970-01-01T12:40:32\",\"1970-01-01T12:40:32\",\"1970-01-01T15:40:37\",\"1970-01-01T15:40:37\",\"1970-01-01T16:17:44\",\"1970-01-01T16:17:44\",\"1970-01-01T16:17:44\",\"1970-01-01T19:21:29\",\"1970-01-01T19:21:29\",\"1970-01-01T19:58:36\",\"1970-01-01T19:58:36\",\"1970-01-01T19:58:36\",\"1970-01-01T23:02:21\",\"1970-01-01T23:02:21\",\"1970-01-01T23:39:28\",\"1970-01-01T23:39:28\",\"1970-01-01T23:39:28\"],\"y\":[\"to_site\",\"to_site\",\"to_site\",\"to_site\",null,\"to_site\",\"to_site\",\"to_site\",\"to_site\",null,\"to_site\",\"to_site\",\"to_site\",\"to_site\",null,\"to_site\",\"to_site\",\"to_site\",\"to_site\",null,\"to_site\",\"to_site\",\"to_site\",\"to_site\",null,\"to_site\",\"to_site\",\"to_site\",\"to_site\",null,\"to_site\",\"to_site\",\"to_site\",\"to_site\",null],\"type\":\"scatter\"},{\"connectgaps\":false,\"hoverinfo\":\"y+name\",\"line\":{\"color\":\"rgb(22,230,222)\",\"width\":10},\"mode\":\"lines\",\"name\":\"unloading:barge_2\",\"x\":[\"1970-01-01T03:16:40\",\"1970-01-01T03:16:40\",\"1970-01-01T03:55:46\",\"1970-01-01T03:55:46\",\"1970-01-01T03:55:46\",\"1970-01-01T06:34:44\",\"1970-01-01T06:34:44\",\"1970-01-01T07:13:50\",\"1970-01-01T07:13:50\",\"1970-01-01T07:13:50\",\"1970-01-01T09:52:48\",\"1970-01-01T09:52:48\",\"1970-01-01T10:31:54\",\"1970-01-01T10:31:54\",\"1970-01-01T10:31:54\",\"1970-01-01T13:10:52\",\"1970-01-01T13:10:52\",\"1970-01-01T13:49:58\",\"1970-01-01T13:49:58\",\"1970-01-01T13:49:58\",\"1970-01-01T16:28:56\",\"1970-01-01T16:28:56\",\"1970-01-01T17:08:02\",\"1970-01-01T17:08:02\",\"1970-01-01T17:08:02\",\"1970-01-01T20:05:08\",\"1970-01-01T20:05:08\",\"1970-01-01T20:44:14\",\"1970-01-01T20:44:14\",\"1970-01-01T20:44:14\",\"1970-01-01T23:46:00\",\"1970-01-01T23:46:00\",\"1970-01-02T00:25:06\",\"1970-01-02T00:25:06\",\"1970-01-02T00:25:06\"],\"y\":[\"to_site\",\"to_site\",\"to_site\",\"to_site\",null,\"to_site\",\"to_site\",\"to_site\",\"to_site\",null,\"to_site\",\"to_site\",\"to_site\",\"to_site\",null,\"to_site\",\"to_site\",\"to_site\",\"to_site\",null,\"to_site\",\"to_site\",\"to_site\",\"to_site\",null,\"to_site\",\"to_site\",\"to_site\",\"to_site\",null,\"to_site\",\"to_site\",\"to_site\",\"to_site\",null],\"type\":\"scatter\"},{\"connectgaps\":false,\"hoverinfo\":\"y+name\",\"line\":{\"color\":\"rgb(50,2,250)\",\"width\":10},\"mode\":\"lines\",\"name\":\"unloading:barge_1\",\"x\":[\"1970-01-01T04:04:02\",\"1970-01-01T04:04:02\",\"1970-01-01T04:48:50\",\"1970-01-01T04:48:50\",\"1970-01-01T04:48:50\",\"1970-01-01T07:44:54\",\"1970-01-01T07:44:54\",\"1970-01-01T08:29:42\",\"1970-01-01T08:29:42\",\"1970-01-01T08:29:42\",\"1970-01-01T11:25:46\",\"1970-01-01T11:25:46\",\"1970-01-01T12:10:34\",\"1970-01-01T12:10:34\",\"1970-01-01T12:10:34\",\"1970-01-01T15:06:38\",\"1970-01-01T15:06:38\",\"1970-01-01T15:51:26\",\"1970-01-01T15:51:26\",\"1970-01-01T15:51:26\",\"1970-01-01T18:47:30\",\"1970-01-01T18:47:30\",\"1970-01-01T19:32:18\",\"1970-01-01T19:32:18\",\"1970-01-01T19:32:18\",\"1970-01-01T22:28:22\",\"1970-01-01T22:28:22\",\"1970-01-01T23:13:10\",\"1970-01-01T23:13:10\",\"1970-01-01T23:13:10\"],\"y\":[\"to_site\",\"to_site\",\"to_site\",\"to_site\",null,\"to_site\",\"to_site\",\"to_site\",\"to_site\",null,\"to_site\",\"to_site\",\"to_site\",\"to_site\",null,\"to_site\",\"to_site\",\"to_site\",\"to_site\",null,\"to_site\",\"to_site\",\"to_site\",\"to_site\",null,\"to_site\",\"to_site\",\"to_site\",\"to_site\",null],\"type\":\"scatter\"},{\"connectgaps\":false,\"hoverinfo\":\"y+name\",\"line\":{\"color\":\"rgb(78,30,22)\",\"width\":10},\"mode\":\"lines\",\"name\":\"loading:barge_2\",\"x\":[\"1970-01-01T01:55:54\",\"1970-01-01T01:55:54\",\"1970-01-01T02:37:34\",\"1970-01-01T02:37:34\",\"1970-01-01T02:37:34\",\"1970-01-01T05:13:58\",\"1970-01-01T05:13:58\",\"1970-01-01T05:55:38\",\"1970-01-01T05:55:38\",\"1970-01-01T05:55:38\",\"1970-01-01T08:32:02\",\"1970-01-01T08:32:02\",\"1970-01-01T09:13:42\",\"1970-01-01T09:13:42\",\"1970-01-01T09:13:42\",\"1970-01-01T11:50:06\",\"1970-01-01T11:50:06\",\"1970-01-01T12:31:46\",\"1970-01-01T12:31:46\",\"1970-01-01T12:31:46\",\"1970-01-01T15:08:10\",\"1970-01-01T15:08:10\",\"1970-01-01T15:49:50\",\"1970-01-01T15:49:50\",\"1970-01-01T15:49:50\",\"1970-01-01T18:44:22\",\"1970-01-01T18:44:22\",\"1970-01-01T19:26:02\",\"1970-01-01T19:26:02\",\"1970-01-01T19:26:02\",\"1970-01-01T22:25:14\",\"1970-01-01T22:25:14\",\"1970-01-01T23:06:54\",\"1970-01-01T23:06:54\",\"1970-01-01T23:06:54\",\"1970-01-01T01:55:54\",\"1970-01-01T01:55:54\",\"1970-01-01T02:37:34\",\"1970-01-01T02:37:34\",\"1970-01-01T02:37:34\",\"1970-01-01T05:13:58\",\"1970-01-01T05:13:58\",\"1970-01-01T05:55:38\",\"1970-01-01T05:55:38\",\"1970-01-01T05:55:38\",\"1970-01-01T08:32:02\",\"1970-01-01T08:32:02\",\"1970-01-01T09:13:42\",\"1970-01-01T09:13:42\",\"1970-01-01T09:13:42\",\"1970-01-01T11:50:06\",\"1970-01-01T11:50:06\",\"1970-01-01T12:31:46\",\"1970-01-01T12:31:46\",\"1970-01-01T12:31:46\",\"1970-01-01T15:08:10\",\"1970-01-01T15:08:10\",\"1970-01-01T15:49:50\",\"1970-01-01T15:49:50\",\"1970-01-01T15:49:50\",\"1970-01-01T18:44:22\",\"1970-01-01T18:44:22\",\"1970-01-01T19:26:02\",\"1970-01-01T19:26:02\",\"1970-01-01T19:26:02\",\"1970-01-01T22:25:14\",\"1970-01-01T22:25:14\",\"1970-01-01T23:06:54\",\"1970-01-01T23:06:54\",\"1970-01-01T23:06:54\"],\"y\":[\"from_site\",\"from_site\",\"from_site\",\"from_site\",null,\"from_site\",\"from_site\",\"from_site\",\"from_site\",null,\"from_site\",\"from_site\",\"from_site\",\"from_site\",null,\"from_site\",\"from_site\",\"from_site\",\"from_site\",null,\"from_site\",\"from_site\",\"from_site\",\"from_site\",null,\"from_site\",\"from_site\",\"from_site\",\"from_site\",null,\"from_site\",\"from_site\",\"from_site\",\"from_site\",null,\"cutter\",\"cutter\",\"cutter\",\"cutter\",null,\"cutter\",\"cutter\",\"cutter\",\"cutter\",null,\"cutter\",\"cutter\",\"cutter\",\"cutter\",null,\"cutter\",\"cutter\",\"cutter\",\"cutter\",null,\"cutter\",\"cutter\",\"cutter\",\"cutter\",null,\"cutter\",\"cutter\",\"cutter\",\"cutter\",null,\"cutter\",\"cutter\",\"cutter\",\"cutter\",null],\"type\":\"scatter\"},{\"connectgaps\":false,\"hoverinfo\":\"y+name\",\"line\":{\"color\":\"rgb(106,58,50)\",\"width\":10},\"mode\":\"lines\",\"name\":\"loading:barge_1\",\"x\":[\"1970-01-01T02:37:34\",\"1970-01-01T02:37:34\",\"1970-01-01T03:19:14\",\"1970-01-01T03:19:14\",\"1970-01-01T03:19:14\",\"1970-01-01T06:18:26\",\"1970-01-01T06:18:26\",\"1970-01-01T07:00:06\",\"1970-01-01T07:00:06\",\"1970-01-01T07:00:06\",\"1970-01-01T09:59:18\",\"1970-01-01T09:59:18\",\"1970-01-01T10:40:58\",\"1970-01-01T10:40:58\",\"1970-01-01T10:40:58\",\"1970-01-01T13:40:10\",\"1970-01-01T13:40:10\",\"1970-01-01T14:21:50\",\"1970-01-01T14:21:50\",\"1970-01-01T14:21:50\",\"1970-01-01T17:21:02\",\"1970-01-01T17:21:02\",\"1970-01-01T18:02:42\",\"1970-01-01T18:02:42\",\"1970-01-01T18:02:42\",\"1970-01-01T21:01:54\",\"1970-01-01T21:01:54\",\"1970-01-01T21:43:34\",\"1970-01-01T21:43:34\",\"1970-01-01T21:43:34\",\"1970-01-01T02:37:34\",\"1970-01-01T02:37:34\",\"1970-01-01T03:19:14\",\"1970-01-01T03:19:14\",\"1970-01-01T03:19:14\",\"1970-01-01T06:18:26\",\"1970-01-01T06:18:26\",\"1970-01-01T07:00:06\",\"1970-01-01T07:00:06\",\"1970-01-01T07:00:06\",\"1970-01-01T09:59:18\",\"1970-01-01T09:59:18\",\"1970-01-01T10:40:58\",\"1970-01-01T10:40:58\",\"1970-01-01T10:40:58\",\"1970-01-01T13:40:10\",\"1970-01-01T13:40:10\",\"1970-01-01T14:21:50\",\"1970-01-01T14:21:50\",\"1970-01-01T14:21:50\",\"1970-01-01T17:21:02\",\"1970-01-01T17:21:02\",\"1970-01-01T18:02:42\",\"1970-01-01T18:02:42\",\"1970-01-01T18:02:42\",\"1970-01-01T21:01:54\",\"1970-01-01T21:01:54\",\"1970-01-01T21:43:34\",\"1970-01-01T21:43:34\",\"1970-01-01T21:43:34\"],\"y\":[\"from_site\",\"from_site\",\"from_site\",\"from_site\",null,\"from_site\",\"from_site\",\"from_site\",\"from_site\",null,\"from_site\",\"from_site\",\"from_site\",\"from_site\",null,\"from_site\",\"from_site\",\"from_site\",\"from_site\",null,\"from_site\",\"from_site\",\"from_site\",\"from_site\",null,\"from_site\",\"from_site\",\"from_site\",\"from_site\",null,\"cutter\",\"cutter\",\"cutter\",\"cutter\",null,\"cutter\",\"cutter\",\"cutter\",\"cutter\",null,\"cutter\",\"cutter\",\"cutter\",\"cutter\",null,\"cutter\",\"cutter\",\"cutter\",\"cutter\",null,\"cutter\",\"cutter\",\"cutter\",\"cutter\",null,\"cutter\",\"cutter\",\"cutter\",\"cutter\",null],\"type\":\"scatter\"},{\"connectgaps\":false,\"hoverinfo\":\"y+name\",\"line\":{\"color\":\"rgb(134,86,78)\",\"width\":10},\"mode\":\"lines\",\"name\":\"loading:barge_0\",\"x\":[\"1970-01-01T01:14:14\",\"1970-01-01T01:14:14\",\"1970-01-01T01:55:54\",\"1970-01-01T01:55:54\",\"1970-01-01T01:55:54\",\"1970-01-01T04:24:22\",\"1970-01-01T04:24:22\",\"1970-01-01T05:06:02\",\"1970-01-01T05:06:02\",\"1970-01-01T05:06:02\",\"1970-01-01T07:34:30\",\"1970-01-01T07:34:30\",\"1970-01-01T08:16:10\",\"1970-01-01T08:16:10\",\"1970-01-01T08:16:10\",\"1970-01-01T10:44:38\",\"1970-01-01T10:44:38\",\"1970-01-01T11:26:18\",\"1970-01-01T11:26:18\",\"1970-01-01T11:26:18\",\"1970-01-01T14:21:50\",\"1970-01-01T14:21:50\",\"1970-01-01T15:03:30\",\"1970-01-01T15:03:30\",\"1970-01-01T15:03:30\",\"1970-01-01T18:02:42\",\"1970-01-01T18:02:42\",\"1970-01-01T18:44:22\",\"1970-01-01T18:44:22\",\"1970-01-01T18:44:22\",\"1970-01-01T21:43:34\",\"1970-01-01T21:43:34\",\"1970-01-01T22:25:14\",\"1970-01-01T22:25:14\",\"1970-01-01T22:25:14\",\"1970-01-01T01:14:14\",\"1970-01-01T01:14:14\",\"1970-01-01T01:55:54\",\"1970-01-01T01:55:54\",\"1970-01-01T01:55:54\",\"1970-01-01T04:24:22\",\"1970-01-01T04:24:22\",\"1970-01-01T05:06:02\",\"1970-01-01T05:06:02\",\"1970-01-01T05:06:02\",\"1970-01-01T07:34:30\",\"1970-01-01T07:34:30\",\"1970-01-01T08:16:10\",\"1970-01-01T08:16:10\",\"1970-01-01T08:16:10\",\"1970-01-01T10:44:38\",\"1970-01-01T10:44:38\",\"1970-01-01T11:26:18\",\"1970-01-01T11:26:18\",\"1970-01-01T11:26:18\",\"1970-01-01T14:21:50\",\"1970-01-01T14:21:50\",\"1970-01-01T15:03:30\",\"1970-01-01T15:03:30\",\"1970-01-01T15:03:30\",\"1970-01-01T18:02:42\",\"1970-01-01T18:02:42\",\"1970-01-01T18:44:22\",\"1970-01-01T18:44:22\",\"1970-01-01T18:44:22\",\"1970-01-01T21:43:34\",\"1970-01-01T21:43:34\",\"1970-01-01T22:25:14\",\"1970-01-01T22:25:14\",\"1970-01-01T22:25:14\"],\"y\":[\"from_site\",\"from_site\",\"from_site\",\"from_site\",null,\"from_site\",\"from_site\",\"from_site\",\"from_site\",null,\"from_site\",\"from_site\",\"from_site\",\"from_site\",null,\"from_site\",\"from_site\",\"from_site\",\"from_site\",null,\"from_site\",\"from_site\",\"from_site\",\"from_site\",null,\"from_site\",\"from_site\",\"from_site\",\"from_site\",null,\"from_site\",\"from_site\",\"from_site\",\"from_site\",null,\"cutter\",\"cutter\",\"cutter\",\"cutter\",null,\"cutter\",\"cutter\",\"cutter\",\"cutter\",null,\"cutter\",\"cutter\",\"cutter\",\"cutter\",null,\"cutter\",\"cutter\",\"cutter\",\"cutter\",null,\"cutter\",\"cutter\",\"cutter\",\"cutter\",null,\"cutter\",\"cutter\",\"cutter\",\"cutter\",null,\"cutter\",\"cutter\",\"cutter\",\"cutter\",null],\"type\":\"scatter\"}],                        {\"hovermode\":\"closest\",\"legend\":{\"orientation\":\"h\",\"x\":0,\"y\":-0.2},\"template\":{\"data\":{\"barpolar\":[{\"marker\":{\"line\":{\"color\":\"#E5ECF6\",\"width\":0.5},\"pattern\":{\"fillmode\":\"overlay\",\"size\":10,\"solidity\":0.2}},\"type\":\"barpolar\"}],\"bar\":[{\"error_x\":{\"color\":\"#2a3f5f\"},\"error_y\":{\"color\":\"#2a3f5f\"},\"marker\":{\"line\":{\"color\":\"#E5ECF6\",\"width\":0.5},\"pattern\":{\"fillmode\":\"overlay\",\"size\":10,\"solidity\":0.2}},\"type\":\"bar\"}],\"carpet\":[{\"aaxis\":{\"endlinecolor\":\"#2a3f5f\",\"gridcolor\":\"white\",\"linecolor\":\"white\",\"minorgridcolor\":\"white\",\"startlinecolor\":\"#2a3f5f\"},\"baxis\":{\"endlinecolor\":\"#2a3f5f\",\"gridcolor\":\"white\",\"linecolor\":\"white\",\"minorgridcolor\":\"white\",\"startlinecolor\":\"#2a3f5f\"},\"type\":\"carpet\"}],\"choropleth\":[{\"colorbar\":{\"outlinewidth\":0,\"ticks\":\"\"},\"type\":\"choropleth\"}],\"contourcarpet\":[{\"colorbar\":{\"outlinewidth\":0,\"ticks\":\"\"},\"type\":\"contourcarpet\"}],\"contour\":[{\"colorbar\":{\"outlinewidth\":0,\"ticks\":\"\"},\"colorscale\":[[0.0,\"#0d0887\"],[0.1111111111111111,\"#46039f\"],[0.2222222222222222,\"#7201a8\"],[0.3333333333333333,\"#9c179e\"],[0.4444444444444444,\"#bd3786\"],[0.5555555555555556,\"#d8576b\"],[0.6666666666666666,\"#ed7953\"],[0.7777777777777778,\"#fb9f3a\"],[0.8888888888888888,\"#fdca26\"],[1.0,\"#f0f921\"]],\"type\":\"contour\"}],\"heatmapgl\":[{\"colorbar\":{\"outlinewidth\":0,\"ticks\":\"\"},\"colorscale\":[[0.0,\"#0d0887\"],[0.1111111111111111,\"#46039f\"],[0.2222222222222222,\"#7201a8\"],[0.3333333333333333,\"#9c179e\"],[0.4444444444444444,\"#bd3786\"],[0.5555555555555556,\"#d8576b\"],[0.6666666666666666,\"#ed7953\"],[0.7777777777777778,\"#fb9f3a\"],[0.8888888888888888,\"#fdca26\"],[1.0,\"#f0f921\"]],\"type\":\"heatmapgl\"}],\"heatmap\":[{\"colorbar\":{\"outlinewidth\":0,\"ticks\":\"\"},\"colorscale\":[[0.0,\"#0d0887\"],[0.1111111111111111,\"#46039f\"],[0.2222222222222222,\"#7201a8\"],[0.3333333333333333,\"#9c179e\"],[0.4444444444444444,\"#bd3786\"],[0.5555555555555556,\"#d8576b\"],[0.6666666666666666,\"#ed7953\"],[0.7777777777777778,\"#fb9f3a\"],[0.8888888888888888,\"#fdca26\"],[1.0,\"#f0f921\"]],\"type\":\"heatmap\"}],\"histogram2dcontour\":[{\"colorbar\":{\"outlinewidth\":0,\"ticks\":\"\"},\"colorscale\":[[0.0,\"#0d0887\"],[0.1111111111111111,\"#46039f\"],[0.2222222222222222,\"#7201a8\"],[0.3333333333333333,\"#9c179e\"],[0.4444444444444444,\"#bd3786\"],[0.5555555555555556,\"#d8576b\"],[0.6666666666666666,\"#ed7953\"],[0.7777777777777778,\"#fb9f3a\"],[0.8888888888888888,\"#fdca26\"],[1.0,\"#f0f921\"]],\"type\":\"histogram2dcontour\"}],\"histogram2d\":[{\"colorbar\":{\"outlinewidth\":0,\"ticks\":\"\"},\"colorscale\":[[0.0,\"#0d0887\"],[0.1111111111111111,\"#46039f\"],[0.2222222222222222,\"#7201a8\"],[0.3333333333333333,\"#9c179e\"],[0.4444444444444444,\"#bd3786\"],[0.5555555555555556,\"#d8576b\"],[0.6666666666666666,\"#ed7953\"],[0.7777777777777778,\"#fb9f3a\"],[0.8888888888888888,\"#fdca26\"],[1.0,\"#f0f921\"]],\"type\":\"histogram2d\"}],\"histogram\":[{\"marker\":{\"pattern\":{\"fillmode\":\"overlay\",\"size\":10,\"solidity\":0.2}},\"type\":\"histogram\"}],\"mesh3d\":[{\"colorbar\":{\"outlinewidth\":0,\"ticks\":\"\"},\"type\":\"mesh3d\"}],\"parcoords\":[{\"line\":{\"colorbar\":{\"outlinewidth\":0,\"ticks\":\"\"}},\"type\":\"parcoords\"}],\"pie\":[{\"automargin\":true,\"type\":\"pie\"}],\"scatter3d\":[{\"line\":{\"colorbar\":{\"outlinewidth\":0,\"ticks\":\"\"}},\"marker\":{\"colorbar\":{\"outlinewidth\":0,\"ticks\":\"\"}},\"type\":\"scatter3d\"}],\"scattercarpet\":[{\"marker\":{\"colorbar\":{\"outlinewidth\":0,\"ticks\":\"\"}},\"type\":\"scattercarpet\"}],\"scattergeo\":[{\"marker\":{\"colorbar\":{\"outlinewidth\":0,\"ticks\":\"\"}},\"type\":\"scattergeo\"}],\"scattergl\":[{\"marker\":{\"colorbar\":{\"outlinewidth\":0,\"ticks\":\"\"}},\"type\":\"scattergl\"}],\"scattermapbox\":[{\"marker\":{\"colorbar\":{\"outlinewidth\":0,\"ticks\":\"\"}},\"type\":\"scattermapbox\"}],\"scatterpolargl\":[{\"marker\":{\"colorbar\":{\"outlinewidth\":0,\"ticks\":\"\"}},\"type\":\"scatterpolargl\"}],\"scatterpolar\":[{\"marker\":{\"colorbar\":{\"outlinewidth\":0,\"ticks\":\"\"}},\"type\":\"scatterpolar\"}],\"scatter\":[{\"fillpattern\":{\"fillmode\":\"overlay\",\"size\":10,\"solidity\":0.2},\"type\":\"scatter\"}],\"scatterternary\":[{\"marker\":{\"colorbar\":{\"outlinewidth\":0,\"ticks\":\"\"}},\"type\":\"scatterternary\"}],\"surface\":[{\"colorbar\":{\"outlinewidth\":0,\"ticks\":\"\"},\"colorscale\":[[0.0,\"#0d0887\"],[0.1111111111111111,\"#46039f\"],[0.2222222222222222,\"#7201a8\"],[0.3333333333333333,\"#9c179e\"],[0.4444444444444444,\"#bd3786\"],[0.5555555555555556,\"#d8576b\"],[0.6666666666666666,\"#ed7953\"],[0.7777777777777778,\"#fb9f3a\"],[0.8888888888888888,\"#fdca26\"],[1.0,\"#f0f921\"]],\"type\":\"surface\"}],\"table\":[{\"cells\":{\"fill\":{\"color\":\"#EBF0F8\"},\"line\":{\"color\":\"white\"}},\"header\":{\"fill\":{\"color\":\"#C8D4E3\"},\"line\":{\"color\":\"white\"}},\"type\":\"table\"}]},\"layout\":{\"annotationdefaults\":{\"arrowcolor\":\"#2a3f5f\",\"arrowhead\":0,\"arrowwidth\":1},\"autotypenumbers\":\"strict\",\"coloraxis\":{\"colorbar\":{\"outlinewidth\":0,\"ticks\":\"\"}},\"colorscale\":{\"diverging\":[[0,\"#8e0152\"],[0.1,\"#c51b7d\"],[0.2,\"#de77ae\"],[0.3,\"#f1b6da\"],[0.4,\"#fde0ef\"],[0.5,\"#f7f7f7\"],[0.6,\"#e6f5d0\"],[0.7,\"#b8e186\"],[0.8,\"#7fbc41\"],[0.9,\"#4d9221\"],[1,\"#276419\"]],\"sequential\":[[0.0,\"#0d0887\"],[0.1111111111111111,\"#46039f\"],[0.2222222222222222,\"#7201a8\"],[0.3333333333333333,\"#9c179e\"],[0.4444444444444444,\"#bd3786\"],[0.5555555555555556,\"#d8576b\"],[0.6666666666666666,\"#ed7953\"],[0.7777777777777778,\"#fb9f3a\"],[0.8888888888888888,\"#fdca26\"],[1.0,\"#f0f921\"]],\"sequentialminus\":[[0.0,\"#0d0887\"],[0.1111111111111111,\"#46039f\"],[0.2222222222222222,\"#7201a8\"],[0.3333333333333333,\"#9c179e\"],[0.4444444444444444,\"#bd3786\"],[0.5555555555555556,\"#d8576b\"],[0.6666666666666666,\"#ed7953\"],[0.7777777777777778,\"#fb9f3a\"],[0.8888888888888888,\"#fdca26\"],[1.0,\"#f0f921\"]]},\"colorway\":[\"#636efa\",\"#EF553B\",\"#00cc96\",\"#ab63fa\",\"#FFA15A\",\"#19d3f3\",\"#FF6692\",\"#B6E880\",\"#FF97FF\",\"#FECB52\"],\"font\":{\"color\":\"#2a3f5f\"},\"geo\":{\"bgcolor\":\"white\",\"lakecolor\":\"white\",\"landcolor\":\"#E5ECF6\",\"showlakes\":true,\"showland\":true,\"subunitcolor\":\"white\"},\"hoverlabel\":{\"align\":\"left\"},\"hovermode\":\"closest\",\"mapbox\":{\"style\":\"light\"},\"paper_bgcolor\":\"white\",\"plot_bgcolor\":\"#E5ECF6\",\"polar\":{\"angularaxis\":{\"gridcolor\":\"white\",\"linecolor\":\"white\",\"ticks\":\"\"},\"bgcolor\":\"#E5ECF6\",\"radialaxis\":{\"gridcolor\":\"white\",\"linecolor\":\"white\",\"ticks\":\"\"}},\"scene\":{\"xaxis\":{\"backgroundcolor\":\"#E5ECF6\",\"gridcolor\":\"white\",\"gridwidth\":2,\"linecolor\":\"white\",\"showbackground\":true,\"ticks\":\"\",\"zerolinecolor\":\"white\"},\"yaxis\":{\"backgroundcolor\":\"#E5ECF6\",\"gridcolor\":\"white\",\"gridwidth\":2,\"linecolor\":\"white\",\"showbackground\":true,\"ticks\":\"\",\"zerolinecolor\":\"white\"},\"zaxis\":{\"backgroundcolor\":\"#E5ECF6\",\"gridcolor\":\"white\",\"gridwidth\":2,\"linecolor\":\"white\",\"showbackground\":true,\"ticks\":\"\",\"zerolinecolor\":\"white\"}},\"shapedefaults\":{\"line\":{\"color\":\"#2a3f5f\"}},\"ternary\":{\"aaxis\":{\"gridcolor\":\"white\",\"linecolor\":\"white\",\"ticks\":\"\"},\"baxis\":{\"gridcolor\":\"white\",\"linecolor\":\"white\",\"ticks\":\"\"},\"bgcolor\":\"#E5ECF6\",\"caxis\":{\"gridcolor\":\"white\",\"linecolor\":\"white\",\"ticks\":\"\"}},\"title\":{\"x\":0.05},\"xaxis\":{\"automargin\":true,\"gridcolor\":\"white\",\"linecolor\":\"white\",\"ticks\":\"\",\"title\":{\"standoff\":15},\"zerolinecolor\":\"white\",\"zerolinewidth\":2},\"yaxis\":{\"automargin\":true,\"gridcolor\":\"white\",\"linecolor\":\"white\",\"ticks\":\"\",\"title\":{\"standoff\":15},\"zerolinecolor\":\"white\",\"zerolinewidth\":2}}},\"title\":{\"text\":\"GANTT Chart\"},\"xaxis\":{\"range\":[\"1970-01-01T01:14:14\",\"1970-01-02T00:25:06\"],\"title\":{\"font\":{\"color\":\"#7f7f7f\",\"family\":\"Courier New, monospace\",\"size\":18},\"text\":\"Time\"}},\"yaxis\":{\"title\":{\"font\":{\"color\":\"#7f7f7f\",\"family\":\"Courier New, monospace\",\"size\":18},\"text\":\"Activities\"}}},                        {\"responsive\": true}                    ).then(function(){\n",
       "                            \n",
       "var gd = document.getElementById('546d6b5e-571c-4082-be86-e8527a1582c8');\n",
       "var x = new MutationObserver(function (mutations, observer) {{\n",
       "        var display = window.getComputedStyle(gd).display;\n",
       "        if (!display || display === 'none') {{\n",
       "            console.log([gd, 'removed!']);\n",
       "            Plotly.purge(gd);\n",
       "            observer.disconnect();\n",
       "        }}\n",
       "}});\n",
       "\n",
       "// Listen for the removal of the full notebook cells\n",
       "var notebookContainer = gd.closest('#notebook-container');\n",
       "if (notebookContainer) {{\n",
       "    x.observe(notebookContainer, {childList: true});\n",
       "}}\n",
       "\n",
       "// Listen for the clearing of the current output cell\n",
       "var outputEl = gd.closest('.output');\n",
       "if (outputEl) {{\n",
       "    x.observe(outputEl, {childList: true});\n",
       "}}\n",
       "\n",
       "                        })                };                });            </script>        </div>"
      ]
     },
     "metadata": {},
     "output_type": "display_data"
    }
   ],
   "source": [
    "fig = plot.get_gantt_chart([from_site, to_site, cutter], id_map=activities)"
   ]
  },
  {
   "cell_type": "markdown",
   "id": "9d68aee1",
   "metadata": {},
   "source": [
    "Plot only activities whose namespace (first letters) matches load*"
   ]
  },
  {
   "cell_type": "code",
   "execution_count": 7,
   "id": "6141ac61",
   "metadata": {},
   "outputs": [
    {
     "data": {
      "text/html": [
       "        <script type=\"text/javascript\">\n",
       "        window.PlotlyConfig = {MathJaxConfig: 'local'};\n",
       "        if (window.MathJax && window.MathJax.Hub && window.MathJax.Hub.Config) {window.MathJax.Hub.Config({SVG: {font: \"STIX-Web\"}});}\n",
       "        if (typeof require !== 'undefined') {\n",
       "        require.undef(\"plotly\");\n",
       "        requirejs.config({\n",
       "            paths: {\n",
       "                'plotly': ['https://cdn.plot.ly/plotly-2.18.2.min']\n",
       "            }\n",
       "        });\n",
       "        require(['plotly'], function(Plotly) {\n",
       "            window._Plotly = Plotly;\n",
       "        });\n",
       "        }\n",
       "        </script>\n",
       "        "
      ]
     },
     "metadata": {},
     "output_type": "display_data"
    },
    {
     "data": {
      "application/vnd.plotly.v1+json": {
       "config": {
        "linkText": "Export to plot.ly",
        "plotlyServerURL": "https://plot.ly",
        "showLink": false
       },
       "data": [
        {
         "connectgaps": false,
         "hoverinfo": "y+name",
         "line": {
          "color": "rgb(80,121,0)",
          "width": 10
         },
         "mode": "lines",
         "name": "loading:barge_0",
         "type": "scatter",
         "x": [
          "1970-01-01T01:14:14",
          "1970-01-01T01:14:14",
          "1970-01-01T01:55:54",
          "1970-01-01T01:55:54",
          "1970-01-01T01:55:54",
          "1970-01-01T04:24:22",
          "1970-01-01T04:24:22",
          "1970-01-01T05:06:02",
          "1970-01-01T05:06:02",
          "1970-01-01T05:06:02",
          "1970-01-01T07:34:30",
          "1970-01-01T07:34:30",
          "1970-01-01T08:16:10",
          "1970-01-01T08:16:10",
          "1970-01-01T08:16:10",
          "1970-01-01T10:44:38",
          "1970-01-01T10:44:38",
          "1970-01-01T11:26:18",
          "1970-01-01T11:26:18",
          "1970-01-01T11:26:18",
          "1970-01-01T14:21:50",
          "1970-01-01T14:21:50",
          "1970-01-01T15:03:30",
          "1970-01-01T15:03:30",
          "1970-01-01T15:03:30",
          "1970-01-01T18:02:42",
          "1970-01-01T18:02:42",
          "1970-01-01T18:44:22",
          "1970-01-01T18:44:22",
          "1970-01-01T18:44:22",
          "1970-01-01T21:43:34",
          "1970-01-01T21:43:34",
          "1970-01-01T22:25:14",
          "1970-01-01T22:25:14",
          "1970-01-01T22:25:14",
          "1970-01-01T01:14:14",
          "1970-01-01T01:14:14",
          "1970-01-01T01:55:54",
          "1970-01-01T01:55:54",
          "1970-01-01T01:55:54",
          "1970-01-01T04:24:22",
          "1970-01-01T04:24:22",
          "1970-01-01T05:06:02",
          "1970-01-01T05:06:02",
          "1970-01-01T05:06:02",
          "1970-01-01T07:34:30",
          "1970-01-01T07:34:30",
          "1970-01-01T08:16:10",
          "1970-01-01T08:16:10",
          "1970-01-01T08:16:10",
          "1970-01-01T10:44:38",
          "1970-01-01T10:44:38",
          "1970-01-01T11:26:18",
          "1970-01-01T11:26:18",
          "1970-01-01T11:26:18",
          "1970-01-01T14:21:50",
          "1970-01-01T14:21:50",
          "1970-01-01T15:03:30",
          "1970-01-01T15:03:30",
          "1970-01-01T15:03:30",
          "1970-01-01T18:02:42",
          "1970-01-01T18:02:42",
          "1970-01-01T18:44:22",
          "1970-01-01T18:44:22",
          "1970-01-01T18:44:22",
          "1970-01-01T21:43:34",
          "1970-01-01T21:43:34",
          "1970-01-01T22:25:14",
          "1970-01-01T22:25:14",
          "1970-01-01T22:25:14"
         ],
         "y": [
          "loading:barge_0",
          "loading:barge_0",
          "loading:barge_0",
          "loading:barge_0",
          null,
          "loading:barge_0",
          "loading:barge_0",
          "loading:barge_0",
          "loading:barge_0",
          null,
          "loading:barge_0",
          "loading:barge_0",
          "loading:barge_0",
          "loading:barge_0",
          null,
          "loading:barge_0",
          "loading:barge_0",
          "loading:barge_0",
          "loading:barge_0",
          null,
          "loading:barge_0",
          "loading:barge_0",
          "loading:barge_0",
          "loading:barge_0",
          null,
          "loading:barge_0",
          "loading:barge_0",
          "loading:barge_0",
          "loading:barge_0",
          null,
          "loading:barge_0",
          "loading:barge_0",
          "loading:barge_0",
          "loading:barge_0",
          null,
          "loading:barge_0",
          "loading:barge_0",
          "loading:barge_0",
          "loading:barge_0",
          null,
          "loading:barge_0",
          "loading:barge_0",
          "loading:barge_0",
          "loading:barge_0",
          null,
          "loading:barge_0",
          "loading:barge_0",
          "loading:barge_0",
          "loading:barge_0",
          null,
          "loading:barge_0",
          "loading:barge_0",
          "loading:barge_0",
          "loading:barge_0",
          null,
          "loading:barge_0",
          "loading:barge_0",
          "loading:barge_0",
          "loading:barge_0",
          null,
          "loading:barge_0",
          "loading:barge_0",
          "loading:barge_0",
          "loading:barge_0",
          null,
          "loading:barge_0",
          "loading:barge_0",
          "loading:barge_0",
          "loading:barge_0",
          null
         ]
        },
        {
         "connectgaps": false,
         "hoverinfo": "y+name",
         "line": {
          "color": "rgb(122,163,42)",
          "width": 10
         },
         "mode": "lines",
         "name": "loading:barge_0",
         "type": "scatter",
         "x": [
          "1970-01-01T01:14:14",
          "1970-01-01T01:14:14",
          "1970-01-01T01:55:54",
          "1970-01-01T01:55:54",
          "1970-01-01T01:55:54",
          "1970-01-01T04:24:22",
          "1970-01-01T04:24:22",
          "1970-01-01T05:06:02",
          "1970-01-01T05:06:02",
          "1970-01-01T05:06:02",
          "1970-01-01T07:34:30",
          "1970-01-01T07:34:30",
          "1970-01-01T08:16:10",
          "1970-01-01T08:16:10",
          "1970-01-01T08:16:10",
          "1970-01-01T10:44:38",
          "1970-01-01T10:44:38",
          "1970-01-01T11:26:18",
          "1970-01-01T11:26:18",
          "1970-01-01T11:26:18",
          "1970-01-01T14:21:50",
          "1970-01-01T14:21:50",
          "1970-01-01T15:03:30",
          "1970-01-01T15:03:30",
          "1970-01-01T15:03:30",
          "1970-01-01T18:02:42",
          "1970-01-01T18:02:42",
          "1970-01-01T18:44:22",
          "1970-01-01T18:44:22",
          "1970-01-01T18:44:22",
          "1970-01-01T21:43:34",
          "1970-01-01T21:43:34",
          "1970-01-01T22:25:14",
          "1970-01-01T22:25:14",
          "1970-01-01T22:25:14",
          "1970-01-01T01:14:14",
          "1970-01-01T01:14:14",
          "1970-01-01T01:55:54",
          "1970-01-01T01:55:54",
          "1970-01-01T01:55:54",
          "1970-01-01T04:24:22",
          "1970-01-01T04:24:22",
          "1970-01-01T05:06:02",
          "1970-01-01T05:06:02",
          "1970-01-01T05:06:02",
          "1970-01-01T07:34:30",
          "1970-01-01T07:34:30",
          "1970-01-01T08:16:10",
          "1970-01-01T08:16:10",
          "1970-01-01T08:16:10",
          "1970-01-01T10:44:38",
          "1970-01-01T10:44:38",
          "1970-01-01T11:26:18",
          "1970-01-01T11:26:18",
          "1970-01-01T11:26:18",
          "1970-01-01T14:21:50",
          "1970-01-01T14:21:50",
          "1970-01-01T15:03:30",
          "1970-01-01T15:03:30",
          "1970-01-01T15:03:30",
          "1970-01-01T18:02:42",
          "1970-01-01T18:02:42",
          "1970-01-01T18:44:22",
          "1970-01-01T18:44:22",
          "1970-01-01T18:44:22",
          "1970-01-01T21:43:34",
          "1970-01-01T21:43:34",
          "1970-01-01T22:25:14",
          "1970-01-01T22:25:14",
          "1970-01-01T22:25:14"
         ],
         "y": [
          "loading:barge_0",
          "loading:barge_0",
          "loading:barge_0",
          "loading:barge_0",
          null,
          "loading:barge_0",
          "loading:barge_0",
          "loading:barge_0",
          "loading:barge_0",
          null,
          "loading:barge_0",
          "loading:barge_0",
          "loading:barge_0",
          "loading:barge_0",
          null,
          "loading:barge_0",
          "loading:barge_0",
          "loading:barge_0",
          "loading:barge_0",
          null,
          "loading:barge_0",
          "loading:barge_0",
          "loading:barge_0",
          "loading:barge_0",
          null,
          "loading:barge_0",
          "loading:barge_0",
          "loading:barge_0",
          "loading:barge_0",
          null,
          "loading:barge_0",
          "loading:barge_0",
          "loading:barge_0",
          "loading:barge_0",
          null,
          "loading:barge_0",
          "loading:barge_0",
          "loading:barge_0",
          "loading:barge_0",
          null,
          "loading:barge_0",
          "loading:barge_0",
          "loading:barge_0",
          "loading:barge_0",
          null,
          "loading:barge_0",
          "loading:barge_0",
          "loading:barge_0",
          "loading:barge_0",
          null,
          "loading:barge_0",
          "loading:barge_0",
          "loading:barge_0",
          "loading:barge_0",
          null,
          "loading:barge_0",
          "loading:barge_0",
          "loading:barge_0",
          "loading:barge_0",
          null,
          "loading:barge_0",
          "loading:barge_0",
          "loading:barge_0",
          "loading:barge_0",
          null,
          "loading:barge_0",
          "loading:barge_0",
          "loading:barge_0",
          "loading:barge_0",
          null
         ]
        },
        {
         "connectgaps": false,
         "hoverinfo": "y+name",
         "line": {
          "color": "rgb(164,205,84)",
          "width": 10
         },
         "mode": "lines",
         "name": "loading:barge_1",
         "type": "scatter",
         "x": [
          "1970-01-01T02:37:34",
          "1970-01-01T02:37:34",
          "1970-01-01T03:19:14",
          "1970-01-01T03:19:14",
          "1970-01-01T03:19:14",
          "1970-01-01T06:18:26",
          "1970-01-01T06:18:26",
          "1970-01-01T07:00:06",
          "1970-01-01T07:00:06",
          "1970-01-01T07:00:06",
          "1970-01-01T09:59:18",
          "1970-01-01T09:59:18",
          "1970-01-01T10:40:58",
          "1970-01-01T10:40:58",
          "1970-01-01T10:40:58",
          "1970-01-01T13:40:10",
          "1970-01-01T13:40:10",
          "1970-01-01T14:21:50",
          "1970-01-01T14:21:50",
          "1970-01-01T14:21:50",
          "1970-01-01T17:21:02",
          "1970-01-01T17:21:02",
          "1970-01-01T18:02:42",
          "1970-01-01T18:02:42",
          "1970-01-01T18:02:42",
          "1970-01-01T21:01:54",
          "1970-01-01T21:01:54",
          "1970-01-01T21:43:34",
          "1970-01-01T21:43:34",
          "1970-01-01T21:43:34",
          "1970-01-01T02:37:34",
          "1970-01-01T02:37:34",
          "1970-01-01T03:19:14",
          "1970-01-01T03:19:14",
          "1970-01-01T03:19:14",
          "1970-01-01T06:18:26",
          "1970-01-01T06:18:26",
          "1970-01-01T07:00:06",
          "1970-01-01T07:00:06",
          "1970-01-01T07:00:06",
          "1970-01-01T09:59:18",
          "1970-01-01T09:59:18",
          "1970-01-01T10:40:58",
          "1970-01-01T10:40:58",
          "1970-01-01T10:40:58",
          "1970-01-01T13:40:10",
          "1970-01-01T13:40:10",
          "1970-01-01T14:21:50",
          "1970-01-01T14:21:50",
          "1970-01-01T14:21:50",
          "1970-01-01T17:21:02",
          "1970-01-01T17:21:02",
          "1970-01-01T18:02:42",
          "1970-01-01T18:02:42",
          "1970-01-01T18:02:42",
          "1970-01-01T21:01:54",
          "1970-01-01T21:01:54",
          "1970-01-01T21:43:34",
          "1970-01-01T21:43:34",
          "1970-01-01T21:43:34"
         ],
         "y": [
          "loading:barge_1",
          "loading:barge_1",
          "loading:barge_1",
          "loading:barge_1",
          null,
          "loading:barge_1",
          "loading:barge_1",
          "loading:barge_1",
          "loading:barge_1",
          null,
          "loading:barge_1",
          "loading:barge_1",
          "loading:barge_1",
          "loading:barge_1",
          null,
          "loading:barge_1",
          "loading:barge_1",
          "loading:barge_1",
          "loading:barge_1",
          null,
          "loading:barge_1",
          "loading:barge_1",
          "loading:barge_1",
          "loading:barge_1",
          null,
          "loading:barge_1",
          "loading:barge_1",
          "loading:barge_1",
          "loading:barge_1",
          null,
          "loading:barge_1",
          "loading:barge_1",
          "loading:barge_1",
          "loading:barge_1",
          null,
          "loading:barge_1",
          "loading:barge_1",
          "loading:barge_1",
          "loading:barge_1",
          null,
          "loading:barge_1",
          "loading:barge_1",
          "loading:barge_1",
          "loading:barge_1",
          null,
          "loading:barge_1",
          "loading:barge_1",
          "loading:barge_1",
          "loading:barge_1",
          null,
          "loading:barge_1",
          "loading:barge_1",
          "loading:barge_1",
          "loading:barge_1",
          null,
          "loading:barge_1",
          "loading:barge_1",
          "loading:barge_1",
          "loading:barge_1",
          null
         ]
        },
        {
         "connectgaps": false,
         "hoverinfo": "y+name",
         "line": {
          "color": "rgb(206,247,126)",
          "width": 10
         },
         "mode": "lines",
         "name": "loading:barge_1",
         "type": "scatter",
         "x": [
          "1970-01-01T02:37:34",
          "1970-01-01T02:37:34",
          "1970-01-01T03:19:14",
          "1970-01-01T03:19:14",
          "1970-01-01T03:19:14",
          "1970-01-01T06:18:26",
          "1970-01-01T06:18:26",
          "1970-01-01T07:00:06",
          "1970-01-01T07:00:06",
          "1970-01-01T07:00:06",
          "1970-01-01T09:59:18",
          "1970-01-01T09:59:18",
          "1970-01-01T10:40:58",
          "1970-01-01T10:40:58",
          "1970-01-01T10:40:58",
          "1970-01-01T13:40:10",
          "1970-01-01T13:40:10",
          "1970-01-01T14:21:50",
          "1970-01-01T14:21:50",
          "1970-01-01T14:21:50",
          "1970-01-01T17:21:02",
          "1970-01-01T17:21:02",
          "1970-01-01T18:02:42",
          "1970-01-01T18:02:42",
          "1970-01-01T18:02:42",
          "1970-01-01T21:01:54",
          "1970-01-01T21:01:54",
          "1970-01-01T21:43:34",
          "1970-01-01T21:43:34",
          "1970-01-01T21:43:34",
          "1970-01-01T02:37:34",
          "1970-01-01T02:37:34",
          "1970-01-01T03:19:14",
          "1970-01-01T03:19:14",
          "1970-01-01T03:19:14",
          "1970-01-01T06:18:26",
          "1970-01-01T06:18:26",
          "1970-01-01T07:00:06",
          "1970-01-01T07:00:06",
          "1970-01-01T07:00:06",
          "1970-01-01T09:59:18",
          "1970-01-01T09:59:18",
          "1970-01-01T10:40:58",
          "1970-01-01T10:40:58",
          "1970-01-01T10:40:58",
          "1970-01-01T13:40:10",
          "1970-01-01T13:40:10",
          "1970-01-01T14:21:50",
          "1970-01-01T14:21:50",
          "1970-01-01T14:21:50",
          "1970-01-01T17:21:02",
          "1970-01-01T17:21:02",
          "1970-01-01T18:02:42",
          "1970-01-01T18:02:42",
          "1970-01-01T18:02:42",
          "1970-01-01T21:01:54",
          "1970-01-01T21:01:54",
          "1970-01-01T21:43:34",
          "1970-01-01T21:43:34",
          "1970-01-01T21:43:34"
         ],
         "y": [
          "loading:barge_1",
          "loading:barge_1",
          "loading:barge_1",
          "loading:barge_1",
          null,
          "loading:barge_1",
          "loading:barge_1",
          "loading:barge_1",
          "loading:barge_1",
          null,
          "loading:barge_1",
          "loading:barge_1",
          "loading:barge_1",
          "loading:barge_1",
          null,
          "loading:barge_1",
          "loading:barge_1",
          "loading:barge_1",
          "loading:barge_1",
          null,
          "loading:barge_1",
          "loading:barge_1",
          "loading:barge_1",
          "loading:barge_1",
          null,
          "loading:barge_1",
          "loading:barge_1",
          "loading:barge_1",
          "loading:barge_1",
          null,
          "loading:barge_1",
          "loading:barge_1",
          "loading:barge_1",
          "loading:barge_1",
          null,
          "loading:barge_1",
          "loading:barge_1",
          "loading:barge_1",
          "loading:barge_1",
          null,
          "loading:barge_1",
          "loading:barge_1",
          "loading:barge_1",
          "loading:barge_1",
          null,
          "loading:barge_1",
          "loading:barge_1",
          "loading:barge_1",
          "loading:barge_1",
          null,
          "loading:barge_1",
          "loading:barge_1",
          "loading:barge_1",
          "loading:barge_1",
          null,
          "loading:barge_1",
          "loading:barge_1",
          "loading:barge_1",
          "loading:barge_1",
          null
         ]
        },
        {
         "connectgaps": false,
         "hoverinfo": "y+name",
         "line": {
          "color": "rgb(248,33,168)",
          "width": 10
         },
         "mode": "lines",
         "name": "loading:barge_2",
         "type": "scatter",
         "x": [
          "1970-01-01T01:55:54",
          "1970-01-01T01:55:54",
          "1970-01-01T02:37:34",
          "1970-01-01T02:37:34",
          "1970-01-01T02:37:34",
          "1970-01-01T05:13:58",
          "1970-01-01T05:13:58",
          "1970-01-01T05:55:38",
          "1970-01-01T05:55:38",
          "1970-01-01T05:55:38",
          "1970-01-01T08:32:02",
          "1970-01-01T08:32:02",
          "1970-01-01T09:13:42",
          "1970-01-01T09:13:42",
          "1970-01-01T09:13:42",
          "1970-01-01T11:50:06",
          "1970-01-01T11:50:06",
          "1970-01-01T12:31:46",
          "1970-01-01T12:31:46",
          "1970-01-01T12:31:46",
          "1970-01-01T15:08:10",
          "1970-01-01T15:08:10",
          "1970-01-01T15:49:50",
          "1970-01-01T15:49:50",
          "1970-01-01T15:49:50",
          "1970-01-01T18:44:22",
          "1970-01-01T18:44:22",
          "1970-01-01T19:26:02",
          "1970-01-01T19:26:02",
          "1970-01-01T19:26:02",
          "1970-01-01T22:25:14",
          "1970-01-01T22:25:14",
          "1970-01-01T23:06:54",
          "1970-01-01T23:06:54",
          "1970-01-01T23:06:54",
          "1970-01-01T01:55:54",
          "1970-01-01T01:55:54",
          "1970-01-01T02:37:34",
          "1970-01-01T02:37:34",
          "1970-01-01T02:37:34",
          "1970-01-01T05:13:58",
          "1970-01-01T05:13:58",
          "1970-01-01T05:55:38",
          "1970-01-01T05:55:38",
          "1970-01-01T05:55:38",
          "1970-01-01T08:32:02",
          "1970-01-01T08:32:02",
          "1970-01-01T09:13:42",
          "1970-01-01T09:13:42",
          "1970-01-01T09:13:42",
          "1970-01-01T11:50:06",
          "1970-01-01T11:50:06",
          "1970-01-01T12:31:46",
          "1970-01-01T12:31:46",
          "1970-01-01T12:31:46",
          "1970-01-01T15:08:10",
          "1970-01-01T15:08:10",
          "1970-01-01T15:49:50",
          "1970-01-01T15:49:50",
          "1970-01-01T15:49:50",
          "1970-01-01T18:44:22",
          "1970-01-01T18:44:22",
          "1970-01-01T19:26:02",
          "1970-01-01T19:26:02",
          "1970-01-01T19:26:02",
          "1970-01-01T22:25:14",
          "1970-01-01T22:25:14",
          "1970-01-01T23:06:54",
          "1970-01-01T23:06:54",
          "1970-01-01T23:06:54"
         ],
         "y": [
          "loading:barge_2",
          "loading:barge_2",
          "loading:barge_2",
          "loading:barge_2",
          null,
          "loading:barge_2",
          "loading:barge_2",
          "loading:barge_2",
          "loading:barge_2",
          null,
          "loading:barge_2",
          "loading:barge_2",
          "loading:barge_2",
          "loading:barge_2",
          null,
          "loading:barge_2",
          "loading:barge_2",
          "loading:barge_2",
          "loading:barge_2",
          null,
          "loading:barge_2",
          "loading:barge_2",
          "loading:barge_2",
          "loading:barge_2",
          null,
          "loading:barge_2",
          "loading:barge_2",
          "loading:barge_2",
          "loading:barge_2",
          null,
          "loading:barge_2",
          "loading:barge_2",
          "loading:barge_2",
          "loading:barge_2",
          null,
          "loading:barge_2",
          "loading:barge_2",
          "loading:barge_2",
          "loading:barge_2",
          null,
          "loading:barge_2",
          "loading:barge_2",
          "loading:barge_2",
          "loading:barge_2",
          null,
          "loading:barge_2",
          "loading:barge_2",
          "loading:barge_2",
          "loading:barge_2",
          null,
          "loading:barge_2",
          "loading:barge_2",
          "loading:barge_2",
          "loading:barge_2",
          null,
          "loading:barge_2",
          "loading:barge_2",
          "loading:barge_2",
          "loading:barge_2",
          null,
          "loading:barge_2",
          "loading:barge_2",
          "loading:barge_2",
          "loading:barge_2",
          null,
          "loading:barge_2",
          "loading:barge_2",
          "loading:barge_2",
          "loading:barge_2",
          null
         ]
        },
        {
         "connectgaps": false,
         "hoverinfo": "y+name",
         "line": {
          "color": "rgb(34,75,210)",
          "width": 10
         },
         "mode": "lines",
         "name": "loading:barge_2",
         "type": "scatter",
         "x": [
          "1970-01-01T01:55:54",
          "1970-01-01T01:55:54",
          "1970-01-01T02:37:34",
          "1970-01-01T02:37:34",
          "1970-01-01T02:37:34",
          "1970-01-01T05:13:58",
          "1970-01-01T05:13:58",
          "1970-01-01T05:55:38",
          "1970-01-01T05:55:38",
          "1970-01-01T05:55:38",
          "1970-01-01T08:32:02",
          "1970-01-01T08:32:02",
          "1970-01-01T09:13:42",
          "1970-01-01T09:13:42",
          "1970-01-01T09:13:42",
          "1970-01-01T11:50:06",
          "1970-01-01T11:50:06",
          "1970-01-01T12:31:46",
          "1970-01-01T12:31:46",
          "1970-01-01T12:31:46",
          "1970-01-01T15:08:10",
          "1970-01-01T15:08:10",
          "1970-01-01T15:49:50",
          "1970-01-01T15:49:50",
          "1970-01-01T15:49:50",
          "1970-01-01T18:44:22",
          "1970-01-01T18:44:22",
          "1970-01-01T19:26:02",
          "1970-01-01T19:26:02",
          "1970-01-01T19:26:02",
          "1970-01-01T22:25:14",
          "1970-01-01T22:25:14",
          "1970-01-01T23:06:54",
          "1970-01-01T23:06:54",
          "1970-01-01T23:06:54",
          "1970-01-01T01:55:54",
          "1970-01-01T01:55:54",
          "1970-01-01T02:37:34",
          "1970-01-01T02:37:34",
          "1970-01-01T02:37:34",
          "1970-01-01T05:13:58",
          "1970-01-01T05:13:58",
          "1970-01-01T05:55:38",
          "1970-01-01T05:55:38",
          "1970-01-01T05:55:38",
          "1970-01-01T08:32:02",
          "1970-01-01T08:32:02",
          "1970-01-01T09:13:42",
          "1970-01-01T09:13:42",
          "1970-01-01T09:13:42",
          "1970-01-01T11:50:06",
          "1970-01-01T11:50:06",
          "1970-01-01T12:31:46",
          "1970-01-01T12:31:46",
          "1970-01-01T12:31:46",
          "1970-01-01T15:08:10",
          "1970-01-01T15:08:10",
          "1970-01-01T15:49:50",
          "1970-01-01T15:49:50",
          "1970-01-01T15:49:50",
          "1970-01-01T18:44:22",
          "1970-01-01T18:44:22",
          "1970-01-01T19:26:02",
          "1970-01-01T19:26:02",
          "1970-01-01T19:26:02",
          "1970-01-01T22:25:14",
          "1970-01-01T22:25:14",
          "1970-01-01T23:06:54",
          "1970-01-01T23:06:54",
          "1970-01-01T23:06:54"
         ],
         "y": [
          "loading:barge_2",
          "loading:barge_2",
          "loading:barge_2",
          "loading:barge_2",
          null,
          "loading:barge_2",
          "loading:barge_2",
          "loading:barge_2",
          "loading:barge_2",
          null,
          "loading:barge_2",
          "loading:barge_2",
          "loading:barge_2",
          "loading:barge_2",
          null,
          "loading:barge_2",
          "loading:barge_2",
          "loading:barge_2",
          "loading:barge_2",
          null,
          "loading:barge_2",
          "loading:barge_2",
          "loading:barge_2",
          "loading:barge_2",
          null,
          "loading:barge_2",
          "loading:barge_2",
          "loading:barge_2",
          "loading:barge_2",
          null,
          "loading:barge_2",
          "loading:barge_2",
          "loading:barge_2",
          "loading:barge_2",
          null,
          "loading:barge_2",
          "loading:barge_2",
          "loading:barge_2",
          "loading:barge_2",
          null,
          "loading:barge_2",
          "loading:barge_2",
          "loading:barge_2",
          "loading:barge_2",
          null,
          "loading:barge_2",
          "loading:barge_2",
          "loading:barge_2",
          "loading:barge_2",
          null,
          "loading:barge_2",
          "loading:barge_2",
          "loading:barge_2",
          "loading:barge_2",
          null,
          "loading:barge_2",
          "loading:barge_2",
          "loading:barge_2",
          "loading:barge_2",
          null,
          "loading:barge_2",
          "loading:barge_2",
          "loading:barge_2",
          "loading:barge_2",
          null,
          "loading:barge_2",
          "loading:barge_2",
          "loading:barge_2",
          "loading:barge_2",
          null
         ]
        }
       ],
       "layout": {
        "hovermode": "closest",
        "legend": {
         "orientation": "h",
         "x": 0,
         "y": -0.2
        },
        "template": {
         "data": {
          "bar": [
           {
            "error_x": {
             "color": "#2a3f5f"
            },
            "error_y": {
             "color": "#2a3f5f"
            },
            "marker": {
             "line": {
              "color": "#E5ECF6",
              "width": 0.5
             },
             "pattern": {
              "fillmode": "overlay",
              "size": 10,
              "solidity": 0.2
             }
            },
            "type": "bar"
           }
          ],
          "barpolar": [
           {
            "marker": {
             "line": {
              "color": "#E5ECF6",
              "width": 0.5
             },
             "pattern": {
              "fillmode": "overlay",
              "size": 10,
              "solidity": 0.2
             }
            },
            "type": "barpolar"
           }
          ],
          "carpet": [
           {
            "aaxis": {
             "endlinecolor": "#2a3f5f",
             "gridcolor": "white",
             "linecolor": "white",
             "minorgridcolor": "white",
             "startlinecolor": "#2a3f5f"
            },
            "baxis": {
             "endlinecolor": "#2a3f5f",
             "gridcolor": "white",
             "linecolor": "white",
             "minorgridcolor": "white",
             "startlinecolor": "#2a3f5f"
            },
            "type": "carpet"
           }
          ],
          "choropleth": [
           {
            "colorbar": {
             "outlinewidth": 0,
             "ticks": ""
            },
            "type": "choropleth"
           }
          ],
          "contour": [
           {
            "colorbar": {
             "outlinewidth": 0,
             "ticks": ""
            },
            "colorscale": [
             [
              0,
              "#0d0887"
             ],
             [
              0.1111111111111111,
              "#46039f"
             ],
             [
              0.2222222222222222,
              "#7201a8"
             ],
             [
              0.3333333333333333,
              "#9c179e"
             ],
             [
              0.4444444444444444,
              "#bd3786"
             ],
             [
              0.5555555555555556,
              "#d8576b"
             ],
             [
              0.6666666666666666,
              "#ed7953"
             ],
             [
              0.7777777777777778,
              "#fb9f3a"
             ],
             [
              0.8888888888888888,
              "#fdca26"
             ],
             [
              1,
              "#f0f921"
             ]
            ],
            "type": "contour"
           }
          ],
          "contourcarpet": [
           {
            "colorbar": {
             "outlinewidth": 0,
             "ticks": ""
            },
            "type": "contourcarpet"
           }
          ],
          "heatmap": [
           {
            "colorbar": {
             "outlinewidth": 0,
             "ticks": ""
            },
            "colorscale": [
             [
              0,
              "#0d0887"
             ],
             [
              0.1111111111111111,
              "#46039f"
             ],
             [
              0.2222222222222222,
              "#7201a8"
             ],
             [
              0.3333333333333333,
              "#9c179e"
             ],
             [
              0.4444444444444444,
              "#bd3786"
             ],
             [
              0.5555555555555556,
              "#d8576b"
             ],
             [
              0.6666666666666666,
              "#ed7953"
             ],
             [
              0.7777777777777778,
              "#fb9f3a"
             ],
             [
              0.8888888888888888,
              "#fdca26"
             ],
             [
              1,
              "#f0f921"
             ]
            ],
            "type": "heatmap"
           }
          ],
          "heatmapgl": [
           {
            "colorbar": {
             "outlinewidth": 0,
             "ticks": ""
            },
            "colorscale": [
             [
              0,
              "#0d0887"
             ],
             [
              0.1111111111111111,
              "#46039f"
             ],
             [
              0.2222222222222222,
              "#7201a8"
             ],
             [
              0.3333333333333333,
              "#9c179e"
             ],
             [
              0.4444444444444444,
              "#bd3786"
             ],
             [
              0.5555555555555556,
              "#d8576b"
             ],
             [
              0.6666666666666666,
              "#ed7953"
             ],
             [
              0.7777777777777778,
              "#fb9f3a"
             ],
             [
              0.8888888888888888,
              "#fdca26"
             ],
             [
              1,
              "#f0f921"
             ]
            ],
            "type": "heatmapgl"
           }
          ],
          "histogram": [
           {
            "marker": {
             "pattern": {
              "fillmode": "overlay",
              "size": 10,
              "solidity": 0.2
             }
            },
            "type": "histogram"
           }
          ],
          "histogram2d": [
           {
            "colorbar": {
             "outlinewidth": 0,
             "ticks": ""
            },
            "colorscale": [
             [
              0,
              "#0d0887"
             ],
             [
              0.1111111111111111,
              "#46039f"
             ],
             [
              0.2222222222222222,
              "#7201a8"
             ],
             [
              0.3333333333333333,
              "#9c179e"
             ],
             [
              0.4444444444444444,
              "#bd3786"
             ],
             [
              0.5555555555555556,
              "#d8576b"
             ],
             [
              0.6666666666666666,
              "#ed7953"
             ],
             [
              0.7777777777777778,
              "#fb9f3a"
             ],
             [
              0.8888888888888888,
              "#fdca26"
             ],
             [
              1,
              "#f0f921"
             ]
            ],
            "type": "histogram2d"
           }
          ],
          "histogram2dcontour": [
           {
            "colorbar": {
             "outlinewidth": 0,
             "ticks": ""
            },
            "colorscale": [
             [
              0,
              "#0d0887"
             ],
             [
              0.1111111111111111,
              "#46039f"
             ],
             [
              0.2222222222222222,
              "#7201a8"
             ],
             [
              0.3333333333333333,
              "#9c179e"
             ],
             [
              0.4444444444444444,
              "#bd3786"
             ],
             [
              0.5555555555555556,
              "#d8576b"
             ],
             [
              0.6666666666666666,
              "#ed7953"
             ],
             [
              0.7777777777777778,
              "#fb9f3a"
             ],
             [
              0.8888888888888888,
              "#fdca26"
             ],
             [
              1,
              "#f0f921"
             ]
            ],
            "type": "histogram2dcontour"
           }
          ],
          "mesh3d": [
           {
            "colorbar": {
             "outlinewidth": 0,
             "ticks": ""
            },
            "type": "mesh3d"
           }
          ],
          "parcoords": [
           {
            "line": {
             "colorbar": {
              "outlinewidth": 0,
              "ticks": ""
             }
            },
            "type": "parcoords"
           }
          ],
          "pie": [
           {
            "automargin": true,
            "type": "pie"
           }
          ],
          "scatter": [
           {
            "fillpattern": {
             "fillmode": "overlay",
             "size": 10,
             "solidity": 0.2
            },
            "type": "scatter"
           }
          ],
          "scatter3d": [
           {
            "line": {
             "colorbar": {
              "outlinewidth": 0,
              "ticks": ""
             }
            },
            "marker": {
             "colorbar": {
              "outlinewidth": 0,
              "ticks": ""
             }
            },
            "type": "scatter3d"
           }
          ],
          "scattercarpet": [
           {
            "marker": {
             "colorbar": {
              "outlinewidth": 0,
              "ticks": ""
             }
            },
            "type": "scattercarpet"
           }
          ],
          "scattergeo": [
           {
            "marker": {
             "colorbar": {
              "outlinewidth": 0,
              "ticks": ""
             }
            },
            "type": "scattergeo"
           }
          ],
          "scattergl": [
           {
            "marker": {
             "colorbar": {
              "outlinewidth": 0,
              "ticks": ""
             }
            },
            "type": "scattergl"
           }
          ],
          "scattermapbox": [
           {
            "marker": {
             "colorbar": {
              "outlinewidth": 0,
              "ticks": ""
             }
            },
            "type": "scattermapbox"
           }
          ],
          "scatterpolar": [
           {
            "marker": {
             "colorbar": {
              "outlinewidth": 0,
              "ticks": ""
             }
            },
            "type": "scatterpolar"
           }
          ],
          "scatterpolargl": [
           {
            "marker": {
             "colorbar": {
              "outlinewidth": 0,
              "ticks": ""
             }
            },
            "type": "scatterpolargl"
           }
          ],
          "scatterternary": [
           {
            "marker": {
             "colorbar": {
              "outlinewidth": 0,
              "ticks": ""
             }
            },
            "type": "scatterternary"
           }
          ],
          "surface": [
           {
            "colorbar": {
             "outlinewidth": 0,
             "ticks": ""
            },
            "colorscale": [
             [
              0,
              "#0d0887"
             ],
             [
              0.1111111111111111,
              "#46039f"
             ],
             [
              0.2222222222222222,
              "#7201a8"
             ],
             [
              0.3333333333333333,
              "#9c179e"
             ],
             [
              0.4444444444444444,
              "#bd3786"
             ],
             [
              0.5555555555555556,
              "#d8576b"
             ],
             [
              0.6666666666666666,
              "#ed7953"
             ],
             [
              0.7777777777777778,
              "#fb9f3a"
             ],
             [
              0.8888888888888888,
              "#fdca26"
             ],
             [
              1,
              "#f0f921"
             ]
            ],
            "type": "surface"
           }
          ],
          "table": [
           {
            "cells": {
             "fill": {
              "color": "#EBF0F8"
             },
             "line": {
              "color": "white"
             }
            },
            "header": {
             "fill": {
              "color": "#C8D4E3"
             },
             "line": {
              "color": "white"
             }
            },
            "type": "table"
           }
          ]
         },
         "layout": {
          "annotationdefaults": {
           "arrowcolor": "#2a3f5f",
           "arrowhead": 0,
           "arrowwidth": 1
          },
          "autotypenumbers": "strict",
          "coloraxis": {
           "colorbar": {
            "outlinewidth": 0,
            "ticks": ""
           }
          },
          "colorscale": {
           "diverging": [
            [
             0,
             "#8e0152"
            ],
            [
             0.1,
             "#c51b7d"
            ],
            [
             0.2,
             "#de77ae"
            ],
            [
             0.3,
             "#f1b6da"
            ],
            [
             0.4,
             "#fde0ef"
            ],
            [
             0.5,
             "#f7f7f7"
            ],
            [
             0.6,
             "#e6f5d0"
            ],
            [
             0.7,
             "#b8e186"
            ],
            [
             0.8,
             "#7fbc41"
            ],
            [
             0.9,
             "#4d9221"
            ],
            [
             1,
             "#276419"
            ]
           ],
           "sequential": [
            [
             0,
             "#0d0887"
            ],
            [
             0.1111111111111111,
             "#46039f"
            ],
            [
             0.2222222222222222,
             "#7201a8"
            ],
            [
             0.3333333333333333,
             "#9c179e"
            ],
            [
             0.4444444444444444,
             "#bd3786"
            ],
            [
             0.5555555555555556,
             "#d8576b"
            ],
            [
             0.6666666666666666,
             "#ed7953"
            ],
            [
             0.7777777777777778,
             "#fb9f3a"
            ],
            [
             0.8888888888888888,
             "#fdca26"
            ],
            [
             1,
             "#f0f921"
            ]
           ],
           "sequentialminus": [
            [
             0,
             "#0d0887"
            ],
            [
             0.1111111111111111,
             "#46039f"
            ],
            [
             0.2222222222222222,
             "#7201a8"
            ],
            [
             0.3333333333333333,
             "#9c179e"
            ],
            [
             0.4444444444444444,
             "#bd3786"
            ],
            [
             0.5555555555555556,
             "#d8576b"
            ],
            [
             0.6666666666666666,
             "#ed7953"
            ],
            [
             0.7777777777777778,
             "#fb9f3a"
            ],
            [
             0.8888888888888888,
             "#fdca26"
            ],
            [
             1,
             "#f0f921"
            ]
           ]
          },
          "colorway": [
           "#636efa",
           "#EF553B",
           "#00cc96",
           "#ab63fa",
           "#FFA15A",
           "#19d3f3",
           "#FF6692",
           "#B6E880",
           "#FF97FF",
           "#FECB52"
          ],
          "font": {
           "color": "#2a3f5f"
          },
          "geo": {
           "bgcolor": "white",
           "lakecolor": "white",
           "landcolor": "#E5ECF6",
           "showlakes": true,
           "showland": true,
           "subunitcolor": "white"
          },
          "hoverlabel": {
           "align": "left"
          },
          "hovermode": "closest",
          "mapbox": {
           "style": "light"
          },
          "paper_bgcolor": "white",
          "plot_bgcolor": "#E5ECF6",
          "polar": {
           "angularaxis": {
            "gridcolor": "white",
            "linecolor": "white",
            "ticks": ""
           },
           "bgcolor": "#E5ECF6",
           "radialaxis": {
            "gridcolor": "white",
            "linecolor": "white",
            "ticks": ""
           }
          },
          "scene": {
           "xaxis": {
            "backgroundcolor": "#E5ECF6",
            "gridcolor": "white",
            "gridwidth": 2,
            "linecolor": "white",
            "showbackground": true,
            "ticks": "",
            "zerolinecolor": "white"
           },
           "yaxis": {
            "backgroundcolor": "#E5ECF6",
            "gridcolor": "white",
            "gridwidth": 2,
            "linecolor": "white",
            "showbackground": true,
            "ticks": "",
            "zerolinecolor": "white"
           },
           "zaxis": {
            "backgroundcolor": "#E5ECF6",
            "gridcolor": "white",
            "gridwidth": 2,
            "linecolor": "white",
            "showbackground": true,
            "ticks": "",
            "zerolinecolor": "white"
           }
          },
          "shapedefaults": {
           "line": {
            "color": "#2a3f5f"
           }
          },
          "ternary": {
           "aaxis": {
            "gridcolor": "white",
            "linecolor": "white",
            "ticks": ""
           },
           "baxis": {
            "gridcolor": "white",
            "linecolor": "white",
            "ticks": ""
           },
           "bgcolor": "#E5ECF6",
           "caxis": {
            "gridcolor": "white",
            "linecolor": "white",
            "ticks": ""
           }
          },
          "title": {
           "x": 0.05
          },
          "xaxis": {
           "automargin": true,
           "gridcolor": "white",
           "linecolor": "white",
           "ticks": "",
           "title": {
            "standoff": 15
           },
           "zerolinecolor": "white",
           "zerolinewidth": 2
          },
          "yaxis": {
           "automargin": true,
           "gridcolor": "white",
           "linecolor": "white",
           "ticks": "",
           "title": {
            "standoff": 15
           },
           "zerolinecolor": "white",
           "zerolinewidth": 2
          }
         }
        },
        "title": {
         "text": "GANTT Chart"
        },
        "xaxis": {
         "range": [
          "1970-01-01T01:14:14",
          "1970-01-01T23:06:54"
         ],
         "title": {
          "font": {
           "color": "#7f7f7f",
           "family": "Courier New, monospace",
           "size": 18
          },
          "text": "Time"
         }
        },
        "yaxis": {
         "title": {
          "font": {
           "color": "#7f7f7f",
           "family": "Courier New, monospace",
           "size": 18
          },
          "text": "Activities"
         }
        }
       }
      },
      "text/html": [
       "<div>                            <div id=\"b9478b0f-befb-489b-9b10-bb69abb10d14\" class=\"plotly-graph-div\" style=\"height:525px; width:100%;\"></div>            <script type=\"text/javascript\">                require([\"plotly\"], function(Plotly) {                    window.PLOTLYENV=window.PLOTLYENV || {};                                    if (document.getElementById(\"b9478b0f-befb-489b-9b10-bb69abb10d14\")) {                    Plotly.newPlot(                        \"b9478b0f-befb-489b-9b10-bb69abb10d14\",                        [{\"connectgaps\":false,\"hoverinfo\":\"y+name\",\"line\":{\"color\":\"rgb(80,121,0)\",\"width\":10},\"mode\":\"lines\",\"name\":\"loading:barge_0\",\"x\":[\"1970-01-01T01:14:14\",\"1970-01-01T01:14:14\",\"1970-01-01T01:55:54\",\"1970-01-01T01:55:54\",\"1970-01-01T01:55:54\",\"1970-01-01T04:24:22\",\"1970-01-01T04:24:22\",\"1970-01-01T05:06:02\",\"1970-01-01T05:06:02\",\"1970-01-01T05:06:02\",\"1970-01-01T07:34:30\",\"1970-01-01T07:34:30\",\"1970-01-01T08:16:10\",\"1970-01-01T08:16:10\",\"1970-01-01T08:16:10\",\"1970-01-01T10:44:38\",\"1970-01-01T10:44:38\",\"1970-01-01T11:26:18\",\"1970-01-01T11:26:18\",\"1970-01-01T11:26:18\",\"1970-01-01T14:21:50\",\"1970-01-01T14:21:50\",\"1970-01-01T15:03:30\",\"1970-01-01T15:03:30\",\"1970-01-01T15:03:30\",\"1970-01-01T18:02:42\",\"1970-01-01T18:02:42\",\"1970-01-01T18:44:22\",\"1970-01-01T18:44:22\",\"1970-01-01T18:44:22\",\"1970-01-01T21:43:34\",\"1970-01-01T21:43:34\",\"1970-01-01T22:25:14\",\"1970-01-01T22:25:14\",\"1970-01-01T22:25:14\",\"1970-01-01T01:14:14\",\"1970-01-01T01:14:14\",\"1970-01-01T01:55:54\",\"1970-01-01T01:55:54\",\"1970-01-01T01:55:54\",\"1970-01-01T04:24:22\",\"1970-01-01T04:24:22\",\"1970-01-01T05:06:02\",\"1970-01-01T05:06:02\",\"1970-01-01T05:06:02\",\"1970-01-01T07:34:30\",\"1970-01-01T07:34:30\",\"1970-01-01T08:16:10\",\"1970-01-01T08:16:10\",\"1970-01-01T08:16:10\",\"1970-01-01T10:44:38\",\"1970-01-01T10:44:38\",\"1970-01-01T11:26:18\",\"1970-01-01T11:26:18\",\"1970-01-01T11:26:18\",\"1970-01-01T14:21:50\",\"1970-01-01T14:21:50\",\"1970-01-01T15:03:30\",\"1970-01-01T15:03:30\",\"1970-01-01T15:03:30\",\"1970-01-01T18:02:42\",\"1970-01-01T18:02:42\",\"1970-01-01T18:44:22\",\"1970-01-01T18:44:22\",\"1970-01-01T18:44:22\",\"1970-01-01T21:43:34\",\"1970-01-01T21:43:34\",\"1970-01-01T22:25:14\",\"1970-01-01T22:25:14\",\"1970-01-01T22:25:14\"],\"y\":[\"loading:barge_0\",\"loading:barge_0\",\"loading:barge_0\",\"loading:barge_0\",null,\"loading:barge_0\",\"loading:barge_0\",\"loading:barge_0\",\"loading:barge_0\",null,\"loading:barge_0\",\"loading:barge_0\",\"loading:barge_0\",\"loading:barge_0\",null,\"loading:barge_0\",\"loading:barge_0\",\"loading:barge_0\",\"loading:barge_0\",null,\"loading:barge_0\",\"loading:barge_0\",\"loading:barge_0\",\"loading:barge_0\",null,\"loading:barge_0\",\"loading:barge_0\",\"loading:barge_0\",\"loading:barge_0\",null,\"loading:barge_0\",\"loading:barge_0\",\"loading:barge_0\",\"loading:barge_0\",null,\"loading:barge_0\",\"loading:barge_0\",\"loading:barge_0\",\"loading:barge_0\",null,\"loading:barge_0\",\"loading:barge_0\",\"loading:barge_0\",\"loading:barge_0\",null,\"loading:barge_0\",\"loading:barge_0\",\"loading:barge_0\",\"loading:barge_0\",null,\"loading:barge_0\",\"loading:barge_0\",\"loading:barge_0\",\"loading:barge_0\",null,\"loading:barge_0\",\"loading:barge_0\",\"loading:barge_0\",\"loading:barge_0\",null,\"loading:barge_0\",\"loading:barge_0\",\"loading:barge_0\",\"loading:barge_0\",null,\"loading:barge_0\",\"loading:barge_0\",\"loading:barge_0\",\"loading:barge_0\",null],\"type\":\"scatter\"},{\"connectgaps\":false,\"hoverinfo\":\"y+name\",\"line\":{\"color\":\"rgb(122,163,42)\",\"width\":10},\"mode\":\"lines\",\"name\":\"loading:barge_0\",\"x\":[\"1970-01-01T01:14:14\",\"1970-01-01T01:14:14\",\"1970-01-01T01:55:54\",\"1970-01-01T01:55:54\",\"1970-01-01T01:55:54\",\"1970-01-01T04:24:22\",\"1970-01-01T04:24:22\",\"1970-01-01T05:06:02\",\"1970-01-01T05:06:02\",\"1970-01-01T05:06:02\",\"1970-01-01T07:34:30\",\"1970-01-01T07:34:30\",\"1970-01-01T08:16:10\",\"1970-01-01T08:16:10\",\"1970-01-01T08:16:10\",\"1970-01-01T10:44:38\",\"1970-01-01T10:44:38\",\"1970-01-01T11:26:18\",\"1970-01-01T11:26:18\",\"1970-01-01T11:26:18\",\"1970-01-01T14:21:50\",\"1970-01-01T14:21:50\",\"1970-01-01T15:03:30\",\"1970-01-01T15:03:30\",\"1970-01-01T15:03:30\",\"1970-01-01T18:02:42\",\"1970-01-01T18:02:42\",\"1970-01-01T18:44:22\",\"1970-01-01T18:44:22\",\"1970-01-01T18:44:22\",\"1970-01-01T21:43:34\",\"1970-01-01T21:43:34\",\"1970-01-01T22:25:14\",\"1970-01-01T22:25:14\",\"1970-01-01T22:25:14\",\"1970-01-01T01:14:14\",\"1970-01-01T01:14:14\",\"1970-01-01T01:55:54\",\"1970-01-01T01:55:54\",\"1970-01-01T01:55:54\",\"1970-01-01T04:24:22\",\"1970-01-01T04:24:22\",\"1970-01-01T05:06:02\",\"1970-01-01T05:06:02\",\"1970-01-01T05:06:02\",\"1970-01-01T07:34:30\",\"1970-01-01T07:34:30\",\"1970-01-01T08:16:10\",\"1970-01-01T08:16:10\",\"1970-01-01T08:16:10\",\"1970-01-01T10:44:38\",\"1970-01-01T10:44:38\",\"1970-01-01T11:26:18\",\"1970-01-01T11:26:18\",\"1970-01-01T11:26:18\",\"1970-01-01T14:21:50\",\"1970-01-01T14:21:50\",\"1970-01-01T15:03:30\",\"1970-01-01T15:03:30\",\"1970-01-01T15:03:30\",\"1970-01-01T18:02:42\",\"1970-01-01T18:02:42\",\"1970-01-01T18:44:22\",\"1970-01-01T18:44:22\",\"1970-01-01T18:44:22\",\"1970-01-01T21:43:34\",\"1970-01-01T21:43:34\",\"1970-01-01T22:25:14\",\"1970-01-01T22:25:14\",\"1970-01-01T22:25:14\"],\"y\":[\"loading:barge_0\",\"loading:barge_0\",\"loading:barge_0\",\"loading:barge_0\",null,\"loading:barge_0\",\"loading:barge_0\",\"loading:barge_0\",\"loading:barge_0\",null,\"loading:barge_0\",\"loading:barge_0\",\"loading:barge_0\",\"loading:barge_0\",null,\"loading:barge_0\",\"loading:barge_0\",\"loading:barge_0\",\"loading:barge_0\",null,\"loading:barge_0\",\"loading:barge_0\",\"loading:barge_0\",\"loading:barge_0\",null,\"loading:barge_0\",\"loading:barge_0\",\"loading:barge_0\",\"loading:barge_0\",null,\"loading:barge_0\",\"loading:barge_0\",\"loading:barge_0\",\"loading:barge_0\",null,\"loading:barge_0\",\"loading:barge_0\",\"loading:barge_0\",\"loading:barge_0\",null,\"loading:barge_0\",\"loading:barge_0\",\"loading:barge_0\",\"loading:barge_0\",null,\"loading:barge_0\",\"loading:barge_0\",\"loading:barge_0\",\"loading:barge_0\",null,\"loading:barge_0\",\"loading:barge_0\",\"loading:barge_0\",\"loading:barge_0\",null,\"loading:barge_0\",\"loading:barge_0\",\"loading:barge_0\",\"loading:barge_0\",null,\"loading:barge_0\",\"loading:barge_0\",\"loading:barge_0\",\"loading:barge_0\",null,\"loading:barge_0\",\"loading:barge_0\",\"loading:barge_0\",\"loading:barge_0\",null],\"type\":\"scatter\"},{\"connectgaps\":false,\"hoverinfo\":\"y+name\",\"line\":{\"color\":\"rgb(164,205,84)\",\"width\":10},\"mode\":\"lines\",\"name\":\"loading:barge_1\",\"x\":[\"1970-01-01T02:37:34\",\"1970-01-01T02:37:34\",\"1970-01-01T03:19:14\",\"1970-01-01T03:19:14\",\"1970-01-01T03:19:14\",\"1970-01-01T06:18:26\",\"1970-01-01T06:18:26\",\"1970-01-01T07:00:06\",\"1970-01-01T07:00:06\",\"1970-01-01T07:00:06\",\"1970-01-01T09:59:18\",\"1970-01-01T09:59:18\",\"1970-01-01T10:40:58\",\"1970-01-01T10:40:58\",\"1970-01-01T10:40:58\",\"1970-01-01T13:40:10\",\"1970-01-01T13:40:10\",\"1970-01-01T14:21:50\",\"1970-01-01T14:21:50\",\"1970-01-01T14:21:50\",\"1970-01-01T17:21:02\",\"1970-01-01T17:21:02\",\"1970-01-01T18:02:42\",\"1970-01-01T18:02:42\",\"1970-01-01T18:02:42\",\"1970-01-01T21:01:54\",\"1970-01-01T21:01:54\",\"1970-01-01T21:43:34\",\"1970-01-01T21:43:34\",\"1970-01-01T21:43:34\",\"1970-01-01T02:37:34\",\"1970-01-01T02:37:34\",\"1970-01-01T03:19:14\",\"1970-01-01T03:19:14\",\"1970-01-01T03:19:14\",\"1970-01-01T06:18:26\",\"1970-01-01T06:18:26\",\"1970-01-01T07:00:06\",\"1970-01-01T07:00:06\",\"1970-01-01T07:00:06\",\"1970-01-01T09:59:18\",\"1970-01-01T09:59:18\",\"1970-01-01T10:40:58\",\"1970-01-01T10:40:58\",\"1970-01-01T10:40:58\",\"1970-01-01T13:40:10\",\"1970-01-01T13:40:10\",\"1970-01-01T14:21:50\",\"1970-01-01T14:21:50\",\"1970-01-01T14:21:50\",\"1970-01-01T17:21:02\",\"1970-01-01T17:21:02\",\"1970-01-01T18:02:42\",\"1970-01-01T18:02:42\",\"1970-01-01T18:02:42\",\"1970-01-01T21:01:54\",\"1970-01-01T21:01:54\",\"1970-01-01T21:43:34\",\"1970-01-01T21:43:34\",\"1970-01-01T21:43:34\"],\"y\":[\"loading:barge_1\",\"loading:barge_1\",\"loading:barge_1\",\"loading:barge_1\",null,\"loading:barge_1\",\"loading:barge_1\",\"loading:barge_1\",\"loading:barge_1\",null,\"loading:barge_1\",\"loading:barge_1\",\"loading:barge_1\",\"loading:barge_1\",null,\"loading:barge_1\",\"loading:barge_1\",\"loading:barge_1\",\"loading:barge_1\",null,\"loading:barge_1\",\"loading:barge_1\",\"loading:barge_1\",\"loading:barge_1\",null,\"loading:barge_1\",\"loading:barge_1\",\"loading:barge_1\",\"loading:barge_1\",null,\"loading:barge_1\",\"loading:barge_1\",\"loading:barge_1\",\"loading:barge_1\",null,\"loading:barge_1\",\"loading:barge_1\",\"loading:barge_1\",\"loading:barge_1\",null,\"loading:barge_1\",\"loading:barge_1\",\"loading:barge_1\",\"loading:barge_1\",null,\"loading:barge_1\",\"loading:barge_1\",\"loading:barge_1\",\"loading:barge_1\",null,\"loading:barge_1\",\"loading:barge_1\",\"loading:barge_1\",\"loading:barge_1\",null,\"loading:barge_1\",\"loading:barge_1\",\"loading:barge_1\",\"loading:barge_1\",null],\"type\":\"scatter\"},{\"connectgaps\":false,\"hoverinfo\":\"y+name\",\"line\":{\"color\":\"rgb(206,247,126)\",\"width\":10},\"mode\":\"lines\",\"name\":\"loading:barge_1\",\"x\":[\"1970-01-01T02:37:34\",\"1970-01-01T02:37:34\",\"1970-01-01T03:19:14\",\"1970-01-01T03:19:14\",\"1970-01-01T03:19:14\",\"1970-01-01T06:18:26\",\"1970-01-01T06:18:26\",\"1970-01-01T07:00:06\",\"1970-01-01T07:00:06\",\"1970-01-01T07:00:06\",\"1970-01-01T09:59:18\",\"1970-01-01T09:59:18\",\"1970-01-01T10:40:58\",\"1970-01-01T10:40:58\",\"1970-01-01T10:40:58\",\"1970-01-01T13:40:10\",\"1970-01-01T13:40:10\",\"1970-01-01T14:21:50\",\"1970-01-01T14:21:50\",\"1970-01-01T14:21:50\",\"1970-01-01T17:21:02\",\"1970-01-01T17:21:02\",\"1970-01-01T18:02:42\",\"1970-01-01T18:02:42\",\"1970-01-01T18:02:42\",\"1970-01-01T21:01:54\",\"1970-01-01T21:01:54\",\"1970-01-01T21:43:34\",\"1970-01-01T21:43:34\",\"1970-01-01T21:43:34\",\"1970-01-01T02:37:34\",\"1970-01-01T02:37:34\",\"1970-01-01T03:19:14\",\"1970-01-01T03:19:14\",\"1970-01-01T03:19:14\",\"1970-01-01T06:18:26\",\"1970-01-01T06:18:26\",\"1970-01-01T07:00:06\",\"1970-01-01T07:00:06\",\"1970-01-01T07:00:06\",\"1970-01-01T09:59:18\",\"1970-01-01T09:59:18\",\"1970-01-01T10:40:58\",\"1970-01-01T10:40:58\",\"1970-01-01T10:40:58\",\"1970-01-01T13:40:10\",\"1970-01-01T13:40:10\",\"1970-01-01T14:21:50\",\"1970-01-01T14:21:50\",\"1970-01-01T14:21:50\",\"1970-01-01T17:21:02\",\"1970-01-01T17:21:02\",\"1970-01-01T18:02:42\",\"1970-01-01T18:02:42\",\"1970-01-01T18:02:42\",\"1970-01-01T21:01:54\",\"1970-01-01T21:01:54\",\"1970-01-01T21:43:34\",\"1970-01-01T21:43:34\",\"1970-01-01T21:43:34\"],\"y\":[\"loading:barge_1\",\"loading:barge_1\",\"loading:barge_1\",\"loading:barge_1\",null,\"loading:barge_1\",\"loading:barge_1\",\"loading:barge_1\",\"loading:barge_1\",null,\"loading:barge_1\",\"loading:barge_1\",\"loading:barge_1\",\"loading:barge_1\",null,\"loading:barge_1\",\"loading:barge_1\",\"loading:barge_1\",\"loading:barge_1\",null,\"loading:barge_1\",\"loading:barge_1\",\"loading:barge_1\",\"loading:barge_1\",null,\"loading:barge_1\",\"loading:barge_1\",\"loading:barge_1\",\"loading:barge_1\",null,\"loading:barge_1\",\"loading:barge_1\",\"loading:barge_1\",\"loading:barge_1\",null,\"loading:barge_1\",\"loading:barge_1\",\"loading:barge_1\",\"loading:barge_1\",null,\"loading:barge_1\",\"loading:barge_1\",\"loading:barge_1\",\"loading:barge_1\",null,\"loading:barge_1\",\"loading:barge_1\",\"loading:barge_1\",\"loading:barge_1\",null,\"loading:barge_1\",\"loading:barge_1\",\"loading:barge_1\",\"loading:barge_1\",null,\"loading:barge_1\",\"loading:barge_1\",\"loading:barge_1\",\"loading:barge_1\",null],\"type\":\"scatter\"},{\"connectgaps\":false,\"hoverinfo\":\"y+name\",\"line\":{\"color\":\"rgb(248,33,168)\",\"width\":10},\"mode\":\"lines\",\"name\":\"loading:barge_2\",\"x\":[\"1970-01-01T01:55:54\",\"1970-01-01T01:55:54\",\"1970-01-01T02:37:34\",\"1970-01-01T02:37:34\",\"1970-01-01T02:37:34\",\"1970-01-01T05:13:58\",\"1970-01-01T05:13:58\",\"1970-01-01T05:55:38\",\"1970-01-01T05:55:38\",\"1970-01-01T05:55:38\",\"1970-01-01T08:32:02\",\"1970-01-01T08:32:02\",\"1970-01-01T09:13:42\",\"1970-01-01T09:13:42\",\"1970-01-01T09:13:42\",\"1970-01-01T11:50:06\",\"1970-01-01T11:50:06\",\"1970-01-01T12:31:46\",\"1970-01-01T12:31:46\",\"1970-01-01T12:31:46\",\"1970-01-01T15:08:10\",\"1970-01-01T15:08:10\",\"1970-01-01T15:49:50\",\"1970-01-01T15:49:50\",\"1970-01-01T15:49:50\",\"1970-01-01T18:44:22\",\"1970-01-01T18:44:22\",\"1970-01-01T19:26:02\",\"1970-01-01T19:26:02\",\"1970-01-01T19:26:02\",\"1970-01-01T22:25:14\",\"1970-01-01T22:25:14\",\"1970-01-01T23:06:54\",\"1970-01-01T23:06:54\",\"1970-01-01T23:06:54\",\"1970-01-01T01:55:54\",\"1970-01-01T01:55:54\",\"1970-01-01T02:37:34\",\"1970-01-01T02:37:34\",\"1970-01-01T02:37:34\",\"1970-01-01T05:13:58\",\"1970-01-01T05:13:58\",\"1970-01-01T05:55:38\",\"1970-01-01T05:55:38\",\"1970-01-01T05:55:38\",\"1970-01-01T08:32:02\",\"1970-01-01T08:32:02\",\"1970-01-01T09:13:42\",\"1970-01-01T09:13:42\",\"1970-01-01T09:13:42\",\"1970-01-01T11:50:06\",\"1970-01-01T11:50:06\",\"1970-01-01T12:31:46\",\"1970-01-01T12:31:46\",\"1970-01-01T12:31:46\",\"1970-01-01T15:08:10\",\"1970-01-01T15:08:10\",\"1970-01-01T15:49:50\",\"1970-01-01T15:49:50\",\"1970-01-01T15:49:50\",\"1970-01-01T18:44:22\",\"1970-01-01T18:44:22\",\"1970-01-01T19:26:02\",\"1970-01-01T19:26:02\",\"1970-01-01T19:26:02\",\"1970-01-01T22:25:14\",\"1970-01-01T22:25:14\",\"1970-01-01T23:06:54\",\"1970-01-01T23:06:54\",\"1970-01-01T23:06:54\"],\"y\":[\"loading:barge_2\",\"loading:barge_2\",\"loading:barge_2\",\"loading:barge_2\",null,\"loading:barge_2\",\"loading:barge_2\",\"loading:barge_2\",\"loading:barge_2\",null,\"loading:barge_2\",\"loading:barge_2\",\"loading:barge_2\",\"loading:barge_2\",null,\"loading:barge_2\",\"loading:barge_2\",\"loading:barge_2\",\"loading:barge_2\",null,\"loading:barge_2\",\"loading:barge_2\",\"loading:barge_2\",\"loading:barge_2\",null,\"loading:barge_2\",\"loading:barge_2\",\"loading:barge_2\",\"loading:barge_2\",null,\"loading:barge_2\",\"loading:barge_2\",\"loading:barge_2\",\"loading:barge_2\",null,\"loading:barge_2\",\"loading:barge_2\",\"loading:barge_2\",\"loading:barge_2\",null,\"loading:barge_2\",\"loading:barge_2\",\"loading:barge_2\",\"loading:barge_2\",null,\"loading:barge_2\",\"loading:barge_2\",\"loading:barge_2\",\"loading:barge_2\",null,\"loading:barge_2\",\"loading:barge_2\",\"loading:barge_2\",\"loading:barge_2\",null,\"loading:barge_2\",\"loading:barge_2\",\"loading:barge_2\",\"loading:barge_2\",null,\"loading:barge_2\",\"loading:barge_2\",\"loading:barge_2\",\"loading:barge_2\",null,\"loading:barge_2\",\"loading:barge_2\",\"loading:barge_2\",\"loading:barge_2\",null],\"type\":\"scatter\"},{\"connectgaps\":false,\"hoverinfo\":\"y+name\",\"line\":{\"color\":\"rgb(34,75,210)\",\"width\":10},\"mode\":\"lines\",\"name\":\"loading:barge_2\",\"x\":[\"1970-01-01T01:55:54\",\"1970-01-01T01:55:54\",\"1970-01-01T02:37:34\",\"1970-01-01T02:37:34\",\"1970-01-01T02:37:34\",\"1970-01-01T05:13:58\",\"1970-01-01T05:13:58\",\"1970-01-01T05:55:38\",\"1970-01-01T05:55:38\",\"1970-01-01T05:55:38\",\"1970-01-01T08:32:02\",\"1970-01-01T08:32:02\",\"1970-01-01T09:13:42\",\"1970-01-01T09:13:42\",\"1970-01-01T09:13:42\",\"1970-01-01T11:50:06\",\"1970-01-01T11:50:06\",\"1970-01-01T12:31:46\",\"1970-01-01T12:31:46\",\"1970-01-01T12:31:46\",\"1970-01-01T15:08:10\",\"1970-01-01T15:08:10\",\"1970-01-01T15:49:50\",\"1970-01-01T15:49:50\",\"1970-01-01T15:49:50\",\"1970-01-01T18:44:22\",\"1970-01-01T18:44:22\",\"1970-01-01T19:26:02\",\"1970-01-01T19:26:02\",\"1970-01-01T19:26:02\",\"1970-01-01T22:25:14\",\"1970-01-01T22:25:14\",\"1970-01-01T23:06:54\",\"1970-01-01T23:06:54\",\"1970-01-01T23:06:54\",\"1970-01-01T01:55:54\",\"1970-01-01T01:55:54\",\"1970-01-01T02:37:34\",\"1970-01-01T02:37:34\",\"1970-01-01T02:37:34\",\"1970-01-01T05:13:58\",\"1970-01-01T05:13:58\",\"1970-01-01T05:55:38\",\"1970-01-01T05:55:38\",\"1970-01-01T05:55:38\",\"1970-01-01T08:32:02\",\"1970-01-01T08:32:02\",\"1970-01-01T09:13:42\",\"1970-01-01T09:13:42\",\"1970-01-01T09:13:42\",\"1970-01-01T11:50:06\",\"1970-01-01T11:50:06\",\"1970-01-01T12:31:46\",\"1970-01-01T12:31:46\",\"1970-01-01T12:31:46\",\"1970-01-01T15:08:10\",\"1970-01-01T15:08:10\",\"1970-01-01T15:49:50\",\"1970-01-01T15:49:50\",\"1970-01-01T15:49:50\",\"1970-01-01T18:44:22\",\"1970-01-01T18:44:22\",\"1970-01-01T19:26:02\",\"1970-01-01T19:26:02\",\"1970-01-01T19:26:02\",\"1970-01-01T22:25:14\",\"1970-01-01T22:25:14\",\"1970-01-01T23:06:54\",\"1970-01-01T23:06:54\",\"1970-01-01T23:06:54\"],\"y\":[\"loading:barge_2\",\"loading:barge_2\",\"loading:barge_2\",\"loading:barge_2\",null,\"loading:barge_2\",\"loading:barge_2\",\"loading:barge_2\",\"loading:barge_2\",null,\"loading:barge_2\",\"loading:barge_2\",\"loading:barge_2\",\"loading:barge_2\",null,\"loading:barge_2\",\"loading:barge_2\",\"loading:barge_2\",\"loading:barge_2\",null,\"loading:barge_2\",\"loading:barge_2\",\"loading:barge_2\",\"loading:barge_2\",null,\"loading:barge_2\",\"loading:barge_2\",\"loading:barge_2\",\"loading:barge_2\",null,\"loading:barge_2\",\"loading:barge_2\",\"loading:barge_2\",\"loading:barge_2\",null,\"loading:barge_2\",\"loading:barge_2\",\"loading:barge_2\",\"loading:barge_2\",null,\"loading:barge_2\",\"loading:barge_2\",\"loading:barge_2\",\"loading:barge_2\",null,\"loading:barge_2\",\"loading:barge_2\",\"loading:barge_2\",\"loading:barge_2\",null,\"loading:barge_2\",\"loading:barge_2\",\"loading:barge_2\",\"loading:barge_2\",null,\"loading:barge_2\",\"loading:barge_2\",\"loading:barge_2\",\"loading:barge_2\",null,\"loading:barge_2\",\"loading:barge_2\",\"loading:barge_2\",\"loading:barge_2\",null,\"loading:barge_2\",\"loading:barge_2\",\"loading:barge_2\",\"loading:barge_2\",null],\"type\":\"scatter\"}],                        {\"hovermode\":\"closest\",\"legend\":{\"orientation\":\"h\",\"x\":0,\"y\":-0.2},\"template\":{\"data\":{\"barpolar\":[{\"marker\":{\"line\":{\"color\":\"#E5ECF6\",\"width\":0.5},\"pattern\":{\"fillmode\":\"overlay\",\"size\":10,\"solidity\":0.2}},\"type\":\"barpolar\"}],\"bar\":[{\"error_x\":{\"color\":\"#2a3f5f\"},\"error_y\":{\"color\":\"#2a3f5f\"},\"marker\":{\"line\":{\"color\":\"#E5ECF6\",\"width\":0.5},\"pattern\":{\"fillmode\":\"overlay\",\"size\":10,\"solidity\":0.2}},\"type\":\"bar\"}],\"carpet\":[{\"aaxis\":{\"endlinecolor\":\"#2a3f5f\",\"gridcolor\":\"white\",\"linecolor\":\"white\",\"minorgridcolor\":\"white\",\"startlinecolor\":\"#2a3f5f\"},\"baxis\":{\"endlinecolor\":\"#2a3f5f\",\"gridcolor\":\"white\",\"linecolor\":\"white\",\"minorgridcolor\":\"white\",\"startlinecolor\":\"#2a3f5f\"},\"type\":\"carpet\"}],\"choropleth\":[{\"colorbar\":{\"outlinewidth\":0,\"ticks\":\"\"},\"type\":\"choropleth\"}],\"contourcarpet\":[{\"colorbar\":{\"outlinewidth\":0,\"ticks\":\"\"},\"type\":\"contourcarpet\"}],\"contour\":[{\"colorbar\":{\"outlinewidth\":0,\"ticks\":\"\"},\"colorscale\":[[0.0,\"#0d0887\"],[0.1111111111111111,\"#46039f\"],[0.2222222222222222,\"#7201a8\"],[0.3333333333333333,\"#9c179e\"],[0.4444444444444444,\"#bd3786\"],[0.5555555555555556,\"#d8576b\"],[0.6666666666666666,\"#ed7953\"],[0.7777777777777778,\"#fb9f3a\"],[0.8888888888888888,\"#fdca26\"],[1.0,\"#f0f921\"]],\"type\":\"contour\"}],\"heatmapgl\":[{\"colorbar\":{\"outlinewidth\":0,\"ticks\":\"\"},\"colorscale\":[[0.0,\"#0d0887\"],[0.1111111111111111,\"#46039f\"],[0.2222222222222222,\"#7201a8\"],[0.3333333333333333,\"#9c179e\"],[0.4444444444444444,\"#bd3786\"],[0.5555555555555556,\"#d8576b\"],[0.6666666666666666,\"#ed7953\"],[0.7777777777777778,\"#fb9f3a\"],[0.8888888888888888,\"#fdca26\"],[1.0,\"#f0f921\"]],\"type\":\"heatmapgl\"}],\"heatmap\":[{\"colorbar\":{\"outlinewidth\":0,\"ticks\":\"\"},\"colorscale\":[[0.0,\"#0d0887\"],[0.1111111111111111,\"#46039f\"],[0.2222222222222222,\"#7201a8\"],[0.3333333333333333,\"#9c179e\"],[0.4444444444444444,\"#bd3786\"],[0.5555555555555556,\"#d8576b\"],[0.6666666666666666,\"#ed7953\"],[0.7777777777777778,\"#fb9f3a\"],[0.8888888888888888,\"#fdca26\"],[1.0,\"#f0f921\"]],\"type\":\"heatmap\"}],\"histogram2dcontour\":[{\"colorbar\":{\"outlinewidth\":0,\"ticks\":\"\"},\"colorscale\":[[0.0,\"#0d0887\"],[0.1111111111111111,\"#46039f\"],[0.2222222222222222,\"#7201a8\"],[0.3333333333333333,\"#9c179e\"],[0.4444444444444444,\"#bd3786\"],[0.5555555555555556,\"#d8576b\"],[0.6666666666666666,\"#ed7953\"],[0.7777777777777778,\"#fb9f3a\"],[0.8888888888888888,\"#fdca26\"],[1.0,\"#f0f921\"]],\"type\":\"histogram2dcontour\"}],\"histogram2d\":[{\"colorbar\":{\"outlinewidth\":0,\"ticks\":\"\"},\"colorscale\":[[0.0,\"#0d0887\"],[0.1111111111111111,\"#46039f\"],[0.2222222222222222,\"#7201a8\"],[0.3333333333333333,\"#9c179e\"],[0.4444444444444444,\"#bd3786\"],[0.5555555555555556,\"#d8576b\"],[0.6666666666666666,\"#ed7953\"],[0.7777777777777778,\"#fb9f3a\"],[0.8888888888888888,\"#fdca26\"],[1.0,\"#f0f921\"]],\"type\":\"histogram2d\"}],\"histogram\":[{\"marker\":{\"pattern\":{\"fillmode\":\"overlay\",\"size\":10,\"solidity\":0.2}},\"type\":\"histogram\"}],\"mesh3d\":[{\"colorbar\":{\"outlinewidth\":0,\"ticks\":\"\"},\"type\":\"mesh3d\"}],\"parcoords\":[{\"line\":{\"colorbar\":{\"outlinewidth\":0,\"ticks\":\"\"}},\"type\":\"parcoords\"}],\"pie\":[{\"automargin\":true,\"type\":\"pie\"}],\"scatter3d\":[{\"line\":{\"colorbar\":{\"outlinewidth\":0,\"ticks\":\"\"}},\"marker\":{\"colorbar\":{\"outlinewidth\":0,\"ticks\":\"\"}},\"type\":\"scatter3d\"}],\"scattercarpet\":[{\"marker\":{\"colorbar\":{\"outlinewidth\":0,\"ticks\":\"\"}},\"type\":\"scattercarpet\"}],\"scattergeo\":[{\"marker\":{\"colorbar\":{\"outlinewidth\":0,\"ticks\":\"\"}},\"type\":\"scattergeo\"}],\"scattergl\":[{\"marker\":{\"colorbar\":{\"outlinewidth\":0,\"ticks\":\"\"}},\"type\":\"scattergl\"}],\"scattermapbox\":[{\"marker\":{\"colorbar\":{\"outlinewidth\":0,\"ticks\":\"\"}},\"type\":\"scattermapbox\"}],\"scatterpolargl\":[{\"marker\":{\"colorbar\":{\"outlinewidth\":0,\"ticks\":\"\"}},\"type\":\"scatterpolargl\"}],\"scatterpolar\":[{\"marker\":{\"colorbar\":{\"outlinewidth\":0,\"ticks\":\"\"}},\"type\":\"scatterpolar\"}],\"scatter\":[{\"fillpattern\":{\"fillmode\":\"overlay\",\"size\":10,\"solidity\":0.2},\"type\":\"scatter\"}],\"scatterternary\":[{\"marker\":{\"colorbar\":{\"outlinewidth\":0,\"ticks\":\"\"}},\"type\":\"scatterternary\"}],\"surface\":[{\"colorbar\":{\"outlinewidth\":0,\"ticks\":\"\"},\"colorscale\":[[0.0,\"#0d0887\"],[0.1111111111111111,\"#46039f\"],[0.2222222222222222,\"#7201a8\"],[0.3333333333333333,\"#9c179e\"],[0.4444444444444444,\"#bd3786\"],[0.5555555555555556,\"#d8576b\"],[0.6666666666666666,\"#ed7953\"],[0.7777777777777778,\"#fb9f3a\"],[0.8888888888888888,\"#fdca26\"],[1.0,\"#f0f921\"]],\"type\":\"surface\"}],\"table\":[{\"cells\":{\"fill\":{\"color\":\"#EBF0F8\"},\"line\":{\"color\":\"white\"}},\"header\":{\"fill\":{\"color\":\"#C8D4E3\"},\"line\":{\"color\":\"white\"}},\"type\":\"table\"}]},\"layout\":{\"annotationdefaults\":{\"arrowcolor\":\"#2a3f5f\",\"arrowhead\":0,\"arrowwidth\":1},\"autotypenumbers\":\"strict\",\"coloraxis\":{\"colorbar\":{\"outlinewidth\":0,\"ticks\":\"\"}},\"colorscale\":{\"diverging\":[[0,\"#8e0152\"],[0.1,\"#c51b7d\"],[0.2,\"#de77ae\"],[0.3,\"#f1b6da\"],[0.4,\"#fde0ef\"],[0.5,\"#f7f7f7\"],[0.6,\"#e6f5d0\"],[0.7,\"#b8e186\"],[0.8,\"#7fbc41\"],[0.9,\"#4d9221\"],[1,\"#276419\"]],\"sequential\":[[0.0,\"#0d0887\"],[0.1111111111111111,\"#46039f\"],[0.2222222222222222,\"#7201a8\"],[0.3333333333333333,\"#9c179e\"],[0.4444444444444444,\"#bd3786\"],[0.5555555555555556,\"#d8576b\"],[0.6666666666666666,\"#ed7953\"],[0.7777777777777778,\"#fb9f3a\"],[0.8888888888888888,\"#fdca26\"],[1.0,\"#f0f921\"]],\"sequentialminus\":[[0.0,\"#0d0887\"],[0.1111111111111111,\"#46039f\"],[0.2222222222222222,\"#7201a8\"],[0.3333333333333333,\"#9c179e\"],[0.4444444444444444,\"#bd3786\"],[0.5555555555555556,\"#d8576b\"],[0.6666666666666666,\"#ed7953\"],[0.7777777777777778,\"#fb9f3a\"],[0.8888888888888888,\"#fdca26\"],[1.0,\"#f0f921\"]]},\"colorway\":[\"#636efa\",\"#EF553B\",\"#00cc96\",\"#ab63fa\",\"#FFA15A\",\"#19d3f3\",\"#FF6692\",\"#B6E880\",\"#FF97FF\",\"#FECB52\"],\"font\":{\"color\":\"#2a3f5f\"},\"geo\":{\"bgcolor\":\"white\",\"lakecolor\":\"white\",\"landcolor\":\"#E5ECF6\",\"showlakes\":true,\"showland\":true,\"subunitcolor\":\"white\"},\"hoverlabel\":{\"align\":\"left\"},\"hovermode\":\"closest\",\"mapbox\":{\"style\":\"light\"},\"paper_bgcolor\":\"white\",\"plot_bgcolor\":\"#E5ECF6\",\"polar\":{\"angularaxis\":{\"gridcolor\":\"white\",\"linecolor\":\"white\",\"ticks\":\"\"},\"bgcolor\":\"#E5ECF6\",\"radialaxis\":{\"gridcolor\":\"white\",\"linecolor\":\"white\",\"ticks\":\"\"}},\"scene\":{\"xaxis\":{\"backgroundcolor\":\"#E5ECF6\",\"gridcolor\":\"white\",\"gridwidth\":2,\"linecolor\":\"white\",\"showbackground\":true,\"ticks\":\"\",\"zerolinecolor\":\"white\"},\"yaxis\":{\"backgroundcolor\":\"#E5ECF6\",\"gridcolor\":\"white\",\"gridwidth\":2,\"linecolor\":\"white\",\"showbackground\":true,\"ticks\":\"\",\"zerolinecolor\":\"white\"},\"zaxis\":{\"backgroundcolor\":\"#E5ECF6\",\"gridcolor\":\"white\",\"gridwidth\":2,\"linecolor\":\"white\",\"showbackground\":true,\"ticks\":\"\",\"zerolinecolor\":\"white\"}},\"shapedefaults\":{\"line\":{\"color\":\"#2a3f5f\"}},\"ternary\":{\"aaxis\":{\"gridcolor\":\"white\",\"linecolor\":\"white\",\"ticks\":\"\"},\"baxis\":{\"gridcolor\":\"white\",\"linecolor\":\"white\",\"ticks\":\"\"},\"bgcolor\":\"#E5ECF6\",\"caxis\":{\"gridcolor\":\"white\",\"linecolor\":\"white\",\"ticks\":\"\"}},\"title\":{\"x\":0.05},\"xaxis\":{\"automargin\":true,\"gridcolor\":\"white\",\"linecolor\":\"white\",\"ticks\":\"\",\"title\":{\"standoff\":15},\"zerolinecolor\":\"white\",\"zerolinewidth\":2},\"yaxis\":{\"automargin\":true,\"gridcolor\":\"white\",\"linecolor\":\"white\",\"ticks\":\"\",\"title\":{\"standoff\":15},\"zerolinecolor\":\"white\",\"zerolinewidth\":2}}},\"title\":{\"text\":\"GANTT Chart\"},\"xaxis\":{\"range\":[\"1970-01-01T01:14:14\",\"1970-01-01T23:06:54\"],\"title\":{\"font\":{\"color\":\"#7f7f7f\",\"family\":\"Courier New, monospace\",\"size\":18},\"text\":\"Time\"}},\"yaxis\":{\"title\":{\"font\":{\"color\":\"#7f7f7f\",\"family\":\"Courier New, monospace\",\"size\":18},\"text\":\"Activities\"}}},                        {\"responsive\": true}                    ).then(function(){\n",
       "                            \n",
       "var gd = document.getElementById('b9478b0f-befb-489b-9b10-bb69abb10d14');\n",
       "var x = new MutationObserver(function (mutations, observer) {{\n",
       "        var display = window.getComputedStyle(gd).display;\n",
       "        if (!display || display === 'none') {{\n",
       "            console.log([gd, 'removed!']);\n",
       "            Plotly.purge(gd);\n",
       "            observer.disconnect();\n",
       "        }}\n",
       "}});\n",
       "\n",
       "// Listen for the removal of the full notebook cells\n",
       "var notebookContainer = gd.closest('#notebook-container');\n",
       "if (notebookContainer) {{\n",
       "    x.observe(notebookContainer, {childList: true});\n",
       "}}\n",
       "\n",
       "// Listen for the clearing of the current output cell\n",
       "var outputEl = gd.closest('.output');\n",
       "if (outputEl) {{\n",
       "    x.observe(outputEl, {childList: true});\n",
       "}}\n",
       "\n",
       "                        })                };                });            </script>        </div>"
      ]
     },
     "metadata": {},
     "output_type": "display_data"
    }
   ],
   "source": [
    "def expand(a, namespace):\n",
    "    n = len(namespace)\n",
    "    sa = []\n",
    "    if a.name[0:n]==namespace:\n",
    "        sa.append(a)\n",
    "    if hasattr(a, \"sub_processes\"):\n",
    "        for s in a.sub_processes:\n",
    "            if s.name[0:n]==namespace:\n",
    "                sa.append(s)\n",
    "            sa+=expand(s,namespace)\n",
    "    return sa\n",
    "all_activities = []\n",
    "for a in [*activities]:\n",
    "    all_activities+=expand(activities[a],'load')\n",
    "all_activities\n",
    "fig = plot.get_gantt_chart(all_activities)"
   ]
  },
  {
   "cell_type": "code",
   "execution_count": 8,
   "id": "283667b8",
   "metadata": {},
   "outputs": [
    {
     "data": {
      "image/png": "[encoded data removed]",
      "text/plain": [
       "<Figure size 1400x700 with 1 Axes>"
      ]
     },
     "metadata": {},
     "output_type": "display_data"
    }
   ],
   "source": [
    "fig = plot.get_step_chart([from_site, to_site, *vessels.values()])"
   ]
  },
  {
   "cell_type": "code",
   "execution_count": 14,
   "id": "a7def889",
   "metadata": {},
   "outputs": [
    {
     "data": {
      "text/html": [
       "<div>\n",
       "<style scoped>\n",
       "    .dataframe tbody tr th:only-of-type {\n",
       "        vertical-align: middle;\n",
       "    }\n",
       "\n",
       "    .dataframe tbody tr th {\n",
       "        vertical-align: top;\n",
       "    }\n",
       "\n",
       "    .dataframe thead th {\n",
       "        text-align: right;\n",
       "    }\n",
       "</style>\n",
       "<table border=\"1\" class=\"dataframe\">\n",
       "  <thead>\n",
       "    <tr style=\"text-align: right;\">\n",
       "      <th></th>\n",
       "      <th>name</th>\n",
       "      <th># trips</th>\n",
       "      <th>production actual</th>\n",
       "      <th>production theory</th>\n",
       "      <th>occupancy [%]</th>\n",
       "    </tr>\n",
       "  </thead>\n",
       "  <tbody>\n",
       "    <tr>\n",
       "      <th>3</th>\n",
       "      <td>cutter</td>\n",
       "      <td>20</td>\n",
       "      <td>0.001270</td>\n",
       "      <td>0.002063</td>\n",
       "      <td>61.6%</td>\n",
       "    </tr>\n",
       "    <tr>\n",
       "      <th>0</th>\n",
       "      <td>barge_0</td>\n",
       "      <td>7</td>\n",
       "      <td>0.000411</td>\n",
       "      <td>0.000438</td>\n",
       "      <td>93.8%</td>\n",
       "    </tr>\n",
       "    <tr>\n",
       "      <th>2</th>\n",
       "      <td>barge_2</td>\n",
       "      <td>7</td>\n",
       "      <td>0.000398</td>\n",
       "      <td>0.000421</td>\n",
       "      <td>94.6%</td>\n",
       "    </tr>\n",
       "    <tr>\n",
       "      <th>1</th>\n",
       "      <td>barge_1</td>\n",
       "      <td>6</td>\n",
       "      <td>0.000359</td>\n",
       "      <td>0.000377</td>\n",
       "      <td>95.1%</td>\n",
       "    </tr>\n",
       "  </tbody>\n",
       "</table>\n",
       "</div>"
      ],
      "text/plain": [
       "      name  # trips  production actual  production theory occupancy [%]\n",
       "3   cutter       20           0.001270           0.002063         61.6%\n",
       "0  barge_0        7           0.000411           0.000438         93.8%\n",
       "2  barge_2        7           0.000398           0.000421         94.6%\n",
       "1  barge_1        6           0.000359           0.000377         95.1%"
      ]
     },
     "execution_count": 14,
     "metadata": {},
     "output_type": "execute_result"
    }
   ],
   "source": [
    "data = []\n",
    "duration_theory_cutter = 0\n",
    "nr_trips_cutter = 0\n",
    "\n",
    "# barges\n",
    "for i in range(len(vessels.values()) - 1):\n",
    "    vessel = vessels[f'vessel{i}']\n",
    "    activity = activities[f'activity{i}']\n",
    "    sub_act = activity.sub_processes[0].sub_processes[-1] # loading (joint cutter-barge act)\n",
    "    duration_theory_cutter += sub_act.duration*nr_trips\n",
    "    \n",
    "    log = pd.DataFrame(vessel.log)\n",
    "    nr_trips = len(log[(log.ActivityID == sub_act.id) & (log.ActivityState == \"START\")])\n",
    "    nr_trips_cutter += nr_trips\n",
    "    \n",
    "    # duration_theory = 4*sub_act.duration+ 5*sub_act.amount # ??????\n",
    "    duration_theory = 0\n",
    "    for sub_act in activity.sub_processes[0].sub_processes:\n",
    "        duration_theory+=sub_act.duration\n",
    "    \n",
    "    duration_actual = (log.Timestamp.max() - log.Timestamp.min()).total_seconds()\n",
    "    data.append({\n",
    "        'name':vessel.name, \n",
    "        '# trips':nr_trips, \n",
    "        'production actual':(nr_trips * sub_act.amount) / (duration_actual),\n",
    "        'production theory': (sub_act.amount / (duration_theory)),\n",
    "    })\n",
    "    \n",
    "# cutter\n",
    "log = pd.DataFrame(cutter.log)\n",
    "duration_actual_cutter = (log.Timestamp.max() - log.Timestamp.min()).total_seconds()\n",
    "data.append({\n",
    "    'name':'cutter', \n",
    "    '# trips':nr_trips_cutter, \n",
    "    'production actual':(total_amount) / (duration_actual_cutter),\n",
    "    'production theory':(total_amount) / (duration_theory_cutter),\n",
    "})\n",
    "    \n",
    "df = pd.DataFrame(data).sort_values(by=['production actual'],ascending=False)\n",
    "df['occupancy [%]'] = [f'{x:.1f}%' for x in 100*df['production actual']/df['production theory']]\n",
    "df"
   ]
  },
  {
   "cell_type": "code",
   "execution_count": null,
   "id": "d25fc937",
   "metadata": {},
   "outputs": [],
   "source": []
  },
  {
   "cell_type": "code",
   "execution_count": null,
   "id": "c2163a56",
   "metadata": {},
   "outputs": [],
   "source": []
  }
 ],
 "metadata": {
  "kernelspec": {
   "display_name": "Python 3 (ipykernel)",
   "language": "python",
   "name": "python3"
  },
  "language_info": {
   "codemirror_mode": {
    "name": "ipython",
    "version": 3
   },
   "file_extension": ".py",
   "mimetype": "text/x-python",
   "name": "python",
   "nbconvert_exporter": "python",
   "pygments_lexer": "ipython3",
   "version": "3.9.16"
  }
 },
 "nbformat": 4,
 "nbformat_minor": 5
}
