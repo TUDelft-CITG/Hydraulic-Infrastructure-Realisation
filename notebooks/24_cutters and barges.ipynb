{
 "cells": [
  {
   "cell_type": "code",
   "execution_count": 1,
   "id": "c25d8267",
   "metadata": {},
   "outputs": [],
   "source": [
    "import datetime, time\n",
    "import numpy as np\n",
    "import simpy\n",
    "import sys\n",
    "import shapely.geometry\n",
    "import pandas as pd\n",
    "from IPython.display import display\n",
    "\n",
    "sys.path.append(r\"D:\\repos\\opencl_sim\\src\")\n",
    "import openclsim.core as core\n",
    "import openclsim.model as model\n",
    "import openclsim.plot as plot\n",
    "from openclsim.plot.superlog import get_superlog_with_critical_path, SuperLog\n"
   ]
  },
  {
   "cell_type": "code",
   "execution_count": 2,
   "id": "eaf0faa3",
   "metadata": {},
   "outputs": [],
   "source": [
    "Site = type(\n",
    "    \"Site\",\n",
    "    (\n",
    "        core.Identifiable,\n",
    "        core.Log,\n",
    "        core.Locatable,\n",
    "        core.HasContainer,\n",
    "        core.HasResource,\n",
    "    ),\n",
    "    {},\n",
    ")\n",
    "TransportProcessingResource = type(\n",
    "    \"TransportProcessingResource\",\n",
    "    (\n",
    "        core.Identifiable,\n",
    "        core.Log,\n",
    "        core.ContainerDependentMovable,\n",
    "        core.Processor,\n",
    "        core.HasResource,\n",
    "    ),\n",
    "    {},\n",
    ")"
   ]
  },
  {
   "cell_type": "code",
   "execution_count": 3,
   "id": "aaacdd9a",
   "metadata": {},
   "outputs": [],
   "source": [
    "def run(NR_BARGES, total_amount):\n",
    "    simulation_start = 0\n",
    "    my_env = simpy.Environment(initial_time=simulation_start)\n",
    "    registry = {}\n",
    "\n",
    "    location_from_site = shapely.geometry.Point(4.18055556, 52.18664444)\n",
    "    location_to_site = shapely.geometry.Point(4.25222222, 52.11428333)\n",
    "\n",
    "    data_from_site = {\"env\": my_env,\n",
    "                      \"name\": \"from_site\",\n",
    "                      \"geometry\": location_from_site,\n",
    "                      \"capacity\": total_amount,\n",
    "                      \"level\": total_amount,\n",
    "                      \"nr_resources\":1\n",
    "                     }\n",
    "    from_site = Site(**data_from_site)\n",
    "\n",
    "    location_to_site = shapely.geometry.Point(4.25222222, 52.11428333)\n",
    "    data_to_site = {\"env\": my_env,\n",
    "                    \"name\": \"to_site\",\n",
    "                    \"geometry\": location_to_site,\n",
    "                    \"capacity\": total_amount,\n",
    "                    \"level\": 0,\n",
    "                    \"nr_resources\":4\n",
    "                   }\n",
    "    to_site = Site(**data_to_site)\n",
    "\n",
    "    vessels = {}\n",
    "\n",
    "    for i in range(NR_BARGES):\n",
    "        vessels[f\"vessel{i}\"] = TransportProcessingResource(\n",
    "            env=my_env,\n",
    "            name=f\"barge_{i}\",\n",
    "            geometry=location_from_site, \n",
    "            capacity=10,\n",
    "            compute_v=lambda x: 10\n",
    "        )\n",
    "    cutter = TransportProcessingResource(\n",
    "        env=my_env,\n",
    "        name=f\"cutter\",\n",
    "        geometry=location_from_site, \n",
    "        capacity=10,\n",
    "        compute_v=lambda x: 10\n",
    "    )\n",
    "    vessels['cutter'] = cutter\n",
    "    \n",
    "\n",
    "    activities = {}\n",
    "    for i in range(NR_BARGES):\n",
    "        amount = np.random.randint(4,6) # handle loading\n",
    "        duration=np.random.randint(2000,3000) # sailing and unloading\n",
    "\n",
    "        requested_resources={}\n",
    "        activities[f\"activity{i}\"] = model.WhileActivity(\n",
    "            env=my_env,\n",
    "            name=f\"while_sequential_activity_subcycle{i}\",\n",
    "            registry=registry,\n",
    "            sub_processes=[model.SequentialActivity(\n",
    "                env=my_env,\n",
    "                name=f\"sequential_activity_subcycle{i}\",\n",
    "                registry=registry,\n",
    "                sub_processes=[\n",
    "                    model.BasicActivity(\n",
    "                        env=my_env,\n",
    "                        name=f\"basic activity:\"+vessels[f\"vessel{i}\"].name,\n",
    "                        registry=registry,\n",
    "                        duration=duration,\n",
    "                        additional_logs=[vessels[f\"vessel{i}\"]],\n",
    "                    ),\n",
    "                    model.MoveActivity(\n",
    "                        env=my_env,\n",
    "                        name=f\"sailing empty:\"+vessels[f\"vessel{i}\"].name,\n",
    "                        registry=registry,\n",
    "                        mover=vessels[f\"vessel{i}\"],\n",
    "                        destination=from_site,\n",
    "                        duration=duration,\n",
    "                    ),\n",
    "                    model.ShiftAmountActivity(\n",
    "                        env=my_env,\n",
    "                        name=f\"loading:\"+vessels[f\"vessel{i}\"].name,\n",
    "                        registry=registry,\n",
    "                        processor=cutter,\n",
    "                        origin=from_site,\n",
    "                        destination=vessels[f\"vessel{i}\"],\n",
    "                        amount=amount,\n",
    "                        duration=500*amount,\n",
    "                        requested_resources=requested_resources,\n",
    "                    ),\n",
    "                    model.MoveActivity(\n",
    "                        env=my_env,\n",
    "                        name=f\"sailing full:\"+vessels[f\"vessel{i}\"].name,\n",
    "                        registry=registry,\n",
    "                        mover=vessels[f\"vessel{i}\"],\n",
    "                        destination=to_site,\n",
    "                        duration=duration,\n",
    "                    ),\n",
    "                    model.ShiftAmountActivity(\n",
    "                        env=my_env,\n",
    "                        name=f\"unloading:\"+vessels[f\"vessel{i}\"].name,\n",
    "                        registry=registry,\n",
    "                        processor=vessels[f\"vessel{i}\"],\n",
    "                        origin=vessels[f\"vessel{i}\"],\n",
    "                        destination=to_site,\n",
    "                        amount=amount,\n",
    "                        duration=duration,\n",
    "                        requested_resources=requested_resources,\n",
    "                    ),\n",
    "                ],\n",
    "            )],\n",
    "            condition_event=[\n",
    "                {\n",
    "                    \"type\": \"container\", \n",
    "                    \"concept\": to_site, \n",
    "                    \"state\": \"full\",\n",
    "                    \"id_\":\"default_reservations\"\n",
    "                }\n",
    "            ],\n",
    "        )\n",
    "\n",
    "    model.register_processes(list(activities.values()))\n",
    "    my_env.run()\n",
    "    \n",
    "    return {\n",
    "        \"vessels\": vessels,\n",
    "        \"activities\":activities,\n",
    "        \"from_site\":from_site,\n",
    "        \"to_site\":to_site,\n",
    "    }\n"
   ]
  },
  {
   "cell_type": "code",
   "execution_count": 4,
   "id": "bc743d9f",
   "metadata": {},
   "outputs": [
    {
     "name": "stdout",
     "output_type": "stream",
     "text": [
      "CPU times: total: 78.1 ms\n",
      "Wall time: 71 ms\n"
     ]
    }
   ],
   "source": [
    "%%time\n",
    "\n",
    "res = run(3,100)\n",
    "vessels = res['vessels']\n",
    "activities = res['activities']\n",
    "cutter = vessels['cutter']\n",
    "to_site = res['to_site']\n",
    "from_site = res['from_site']"
   ]
  },
  {
   "cell_type": "code",
   "execution_count": 5,
   "id": "b76db75b",
   "metadata": {},
   "outputs": [
    {
     "data": {
      "text/html": [
       "        <script type=\"text/javascript\">\n",
       "        window.PlotlyConfig = {MathJaxConfig: 'local'};\n",
       "        if (window.MathJax) {MathJax.Hub.Config({SVG: {font: \"STIX-Web\"}});}\n",
       "        if (typeof require !== 'undefined') {\n",
       "        require.undef(\"plotly\");\n",
       "        requirejs.config({\n",
       "            paths: {\n",
       "                'plotly': ['https://cdn.plot.ly/plotly-2.11.1.min']\n",
       "            }\n",
       "        });\n",
       "        require(['plotly'], function(Plotly) {\n",
       "            window._Plotly = Plotly;\n",
       "        });\n",
       "        }\n",
       "        </script>\n",
       "        "
      ]
     },
     "metadata": {},
     "output_type": "display_data"
    },
    {
     "data": {
      "application/vnd.plotly.v1+json": {
       "config": {
        "linkText": "Export to plot.ly",
        "plotlyServerURL": "https://plot.ly",
        "showLink": false
       },
       "data": [
        {
         "connectgaps": false,
         "hoverinfo": "y+name",
         "line": {
          "color": "rgb(187,131,53)",
          "width": 10
         },
         "mode": "lines",
         "name": "loading:barge_0",
         "type": "scatter",
         "x": [
          "1970-01-01T01:48:06",
          "1970-01-01T01:48:06",
          "1970-01-01T02:21:26",
          "1970-01-01T02:21:26",
          "1970-01-01T02:21:26",
          "1970-01-01T05:15:54",
          "1970-01-01T05:15:54",
          "1970-01-01T05:49:14",
          "1970-01-01T05:49:14",
          "1970-01-01T05:49:14",
          "1970-01-01T08:43:42",
          "1970-01-01T08:43:42",
          "1970-01-01T09:17:02",
          "1970-01-01T09:17:02",
          "1970-01-01T09:17:02",
          "1970-01-01T12:11:30",
          "1970-01-01T12:11:30",
          "1970-01-01T12:44:50",
          "1970-01-01T12:44:50",
          "1970-01-01T12:44:50",
          "1970-01-01T15:39:18",
          "1970-01-01T15:39:18",
          "1970-01-01T16:12:38",
          "1970-01-01T16:12:38",
          "1970-01-01T16:12:38",
          "1970-01-01T19:07:06",
          "1970-01-01T19:07:06",
          "1970-01-01T19:40:26",
          "1970-01-01T19:40:26",
          "1970-01-01T19:40:26",
          "1970-01-01T22:34:54",
          "1970-01-01T22:34:54",
          "1970-01-01T23:08:14",
          "1970-01-01T23:08:14",
          "1970-01-01T23:08:14",
          "1970-01-02T02:02:42",
          "1970-01-02T02:02:42",
          "1970-01-02T02:36:02",
          "1970-01-02T02:36:02",
          "1970-01-02T02:36:02",
          "1970-01-01T01:48:06",
          "1970-01-01T01:48:06",
          "1970-01-01T02:21:26",
          "1970-01-01T02:21:26",
          "1970-01-01T02:21:26",
          "1970-01-01T05:15:54",
          "1970-01-01T05:15:54",
          "1970-01-01T05:49:14",
          "1970-01-01T05:49:14",
          "1970-01-01T05:49:14",
          "1970-01-01T08:43:42",
          "1970-01-01T08:43:42",
          "1970-01-01T09:17:02",
          "1970-01-01T09:17:02",
          "1970-01-01T09:17:02",
          "1970-01-01T12:11:30",
          "1970-01-01T12:11:30",
          "1970-01-01T12:44:50",
          "1970-01-01T12:44:50",
          "1970-01-01T12:44:50",
          "1970-01-01T15:39:18",
          "1970-01-01T15:39:18",
          "1970-01-01T16:12:38",
          "1970-01-01T16:12:38",
          "1970-01-01T16:12:38",
          "1970-01-01T19:07:06",
          "1970-01-01T19:07:06",
          "1970-01-01T19:40:26",
          "1970-01-01T19:40:26",
          "1970-01-01T19:40:26",
          "1970-01-01T22:34:54",
          "1970-01-01T22:34:54",
          "1970-01-01T23:08:14",
          "1970-01-01T23:08:14",
          "1970-01-01T23:08:14",
          "1970-01-02T02:02:42",
          "1970-01-02T02:02:42",
          "1970-01-02T02:36:02",
          "1970-01-02T02:36:02",
          "1970-01-02T02:36:02"
         ],
         "y": [
          "barge_0",
          "barge_0",
          "barge_0",
          "barge_0",
          null,
          "barge_0",
          "barge_0",
          "barge_0",
          "barge_0",
          null,
          "barge_0",
          "barge_0",
          "barge_0",
          "barge_0",
          null,
          "barge_0",
          "barge_0",
          "barge_0",
          "barge_0",
          null,
          "barge_0",
          "barge_0",
          "barge_0",
          "barge_0",
          null,
          "barge_0",
          "barge_0",
          "barge_0",
          "barge_0",
          null,
          "barge_0",
          "barge_0",
          "barge_0",
          "barge_0",
          null,
          "barge_0",
          "barge_0",
          "barge_0",
          "barge_0",
          null,
          "cutter",
          "cutter",
          "cutter",
          "cutter",
          null,
          "cutter",
          "cutter",
          "cutter",
          "cutter",
          null,
          "cutter",
          "cutter",
          "cutter",
          "cutter",
          null,
          "cutter",
          "cutter",
          "cutter",
          "cutter",
          null,
          "cutter",
          "cutter",
          "cutter",
          "cutter",
          null,
          "cutter",
          "cutter",
          "cutter",
          "cutter",
          null,
          "cutter",
          "cutter",
          "cutter",
          "cutter",
          null,
          "cutter",
          "cutter",
          "cutter",
          "cutter",
          null
         ]
        },
        {
         "connectgaps": false,
         "hoverinfo": "y+name",
         "line": {
          "color": "rgb(199,143,65)",
          "width": 10
         },
         "mode": "lines",
         "name": "unloading:barge_0",
         "type": "scatter",
         "x": [
          "1970-01-01T03:05:03",
          "1970-01-01T03:05:03",
          "1970-01-01T03:48:40",
          "1970-01-01T03:48:40",
          "1970-01-01T03:48:40",
          "1970-01-01T06:32:51",
          "1970-01-01T06:32:51",
          "1970-01-01T07:16:28",
          "1970-01-01T07:16:28",
          "1970-01-01T07:16:28",
          "1970-01-01T10:00:39",
          "1970-01-01T10:00:39",
          "1970-01-01T10:44:16",
          "1970-01-01T10:44:16",
          "1970-01-01T10:44:16",
          "1970-01-01T13:28:27",
          "1970-01-01T13:28:27",
          "1970-01-01T14:12:04",
          "1970-01-01T14:12:04",
          "1970-01-01T14:12:04",
          "1970-01-01T16:56:15",
          "1970-01-01T16:56:15",
          "1970-01-01T17:39:52",
          "1970-01-01T17:39:52",
          "1970-01-01T17:39:52",
          "1970-01-01T20:24:03",
          "1970-01-01T20:24:03",
          "1970-01-01T21:07:40",
          "1970-01-01T21:07:40",
          "1970-01-01T21:07:40",
          "1970-01-01T23:51:51",
          "1970-01-01T23:51:51",
          "1970-01-02T00:35:28",
          "1970-01-02T00:35:28",
          "1970-01-02T00:35:28",
          "1970-01-02T03:19:39",
          "1970-01-02T03:19:39",
          "1970-01-02T04:03:16",
          "1970-01-02T04:03:16",
          "1970-01-02T04:03:16",
          "1970-01-01T03:05:03",
          "1970-01-01T03:05:03",
          "1970-01-01T03:48:40",
          "1970-01-01T03:48:40",
          "1970-01-01T03:48:40",
          "1970-01-01T06:32:51",
          "1970-01-01T06:32:51",
          "1970-01-01T07:16:28",
          "1970-01-01T07:16:28",
          "1970-01-01T07:16:28",
          "1970-01-01T10:00:39",
          "1970-01-01T10:00:39",
          "1970-01-01T10:44:16",
          "1970-01-01T10:44:16",
          "1970-01-01T10:44:16",
          "1970-01-01T13:28:27",
          "1970-01-01T13:28:27",
          "1970-01-01T14:12:04",
          "1970-01-01T14:12:04",
          "1970-01-01T14:12:04",
          "1970-01-01T16:56:15",
          "1970-01-01T16:56:15",
          "1970-01-01T17:39:52",
          "1970-01-01T17:39:52",
          "1970-01-01T17:39:52",
          "1970-01-01T20:24:03",
          "1970-01-01T20:24:03",
          "1970-01-01T21:07:40",
          "1970-01-01T21:07:40",
          "1970-01-01T21:07:40",
          "1970-01-01T23:51:51",
          "1970-01-01T23:51:51",
          "1970-01-02T00:35:28",
          "1970-01-02T00:35:28",
          "1970-01-02T00:35:28",
          "1970-01-02T03:19:39",
          "1970-01-02T03:19:39",
          "1970-01-02T04:03:16",
          "1970-01-02T04:03:16",
          "1970-01-02T04:03:16"
         ],
         "y": [
          "barge_0",
          "barge_0",
          "barge_0",
          "barge_0",
          null,
          "barge_0",
          "barge_0",
          "barge_0",
          "barge_0",
          null,
          "barge_0",
          "barge_0",
          "barge_0",
          "barge_0",
          null,
          "barge_0",
          "barge_0",
          "barge_0",
          "barge_0",
          null,
          "barge_0",
          "barge_0",
          "barge_0",
          "barge_0",
          null,
          "barge_0",
          "barge_0",
          "barge_0",
          "barge_0",
          null,
          "barge_0",
          "barge_0",
          "barge_0",
          "barge_0",
          null,
          "barge_0",
          "barge_0",
          "barge_0",
          "barge_0",
          null,
          "to_site",
          "to_site",
          "to_site",
          "to_site",
          null,
          "to_site",
          "to_site",
          "to_site",
          "to_site",
          null,
          "to_site",
          "to_site",
          "to_site",
          "to_site",
          null,
          "to_site",
          "to_site",
          "to_site",
          "to_site",
          null,
          "to_site",
          "to_site",
          "to_site",
          "to_site",
          null,
          "to_site",
          "to_site",
          "to_site",
          "to_site",
          null,
          "to_site",
          "to_site",
          "to_site",
          "to_site",
          null,
          "to_site",
          "to_site",
          "to_site",
          "to_site",
          null
         ]
        },
        {
         "connectgaps": false,
         "hoverinfo": "y+name",
         "line": {
          "color": "rgb(211,155,77)",
          "width": 10
         },
         "mode": "lines",
         "name": "basic activity:barge_0",
         "type": "scatter",
         "x": [
          "1970-01-01T00:00:00",
          "1970-01-01T00:00:00",
          "1970-01-01T00:43:37",
          "1970-01-01T00:43:37",
          "1970-01-01T00:43:37",
          "1970-01-01T03:48:40",
          "1970-01-01T03:48:40",
          "1970-01-01T04:32:17",
          "1970-01-01T04:32:17",
          "1970-01-01T04:32:17",
          "1970-01-01T07:16:28",
          "1970-01-01T07:16:28",
          "1970-01-01T08:00:05",
          "1970-01-01T08:00:05",
          "1970-01-01T08:00:05",
          "1970-01-01T10:44:16",
          "1970-01-01T10:44:16",
          "1970-01-01T11:27:53",
          "1970-01-01T11:27:53",
          "1970-01-01T11:27:53",
          "1970-01-01T14:12:04",
          "1970-01-01T14:12:04",
          "1970-01-01T14:55:41",
          "1970-01-01T14:55:41",
          "1970-01-01T14:55:41",
          "1970-01-01T17:39:52",
          "1970-01-01T17:39:52",
          "1970-01-01T18:23:29",
          "1970-01-01T18:23:29",
          "1970-01-01T18:23:29",
          "1970-01-01T21:07:40",
          "1970-01-01T21:07:40",
          "1970-01-01T21:51:17",
          "1970-01-01T21:51:17",
          "1970-01-01T21:51:17",
          "1970-01-02T00:35:28",
          "1970-01-02T00:35:28",
          "1970-01-02T01:19:05",
          "1970-01-02T01:19:05",
          "1970-01-02T01:19:05"
         ],
         "y": [
          "barge_0",
          "barge_0",
          "barge_0",
          "barge_0",
          null,
          "barge_0",
          "barge_0",
          "barge_0",
          "barge_0",
          null,
          "barge_0",
          "barge_0",
          "barge_0",
          "barge_0",
          null,
          "barge_0",
          "barge_0",
          "barge_0",
          "barge_0",
          null,
          "barge_0",
          "barge_0",
          "barge_0",
          "barge_0",
          null,
          "barge_0",
          "barge_0",
          "barge_0",
          "barge_0",
          null,
          "barge_0",
          "barge_0",
          "barge_0",
          "barge_0",
          null,
          "barge_0",
          "barge_0",
          "barge_0",
          "barge_0",
          null
         ]
        },
        {
         "connectgaps": false,
         "hoverinfo": "y+name",
         "line": {
          "color": "rgb(223,167,89)",
          "width": 10
         },
         "mode": "lines",
         "name": "sailing full:barge_0",
         "type": "scatter",
         "x": [
          "1970-01-01T02:21:26",
          "1970-01-01T02:21:26",
          "1970-01-01T03:05:03",
          "1970-01-01T03:05:03",
          "1970-01-01T03:05:03",
          "1970-01-01T05:49:14",
          "1970-01-01T05:49:14",
          "1970-01-01T06:32:51",
          "1970-01-01T06:32:51",
          "1970-01-01T06:32:51",
          "1970-01-01T09:17:02",
          "1970-01-01T09:17:02",
          "1970-01-01T10:00:39",
          "1970-01-01T10:00:39",
          "1970-01-01T10:00:39",
          "1970-01-01T12:44:50",
          "1970-01-01T12:44:50",
          "1970-01-01T13:28:27",
          "1970-01-01T13:28:27",
          "1970-01-01T13:28:27",
          "1970-01-01T16:12:38",
          "1970-01-01T16:12:38",
          "1970-01-01T16:56:15",
          "1970-01-01T16:56:15",
          "1970-01-01T16:56:15",
          "1970-01-01T19:40:26",
          "1970-01-01T19:40:26",
          "1970-01-01T20:24:03",
          "1970-01-01T20:24:03",
          "1970-01-01T20:24:03",
          "1970-01-01T23:08:14",
          "1970-01-01T23:08:14",
          "1970-01-01T23:51:51",
          "1970-01-01T23:51:51",
          "1970-01-01T23:51:51",
          "1970-01-02T02:36:02",
          "1970-01-02T02:36:02",
          "1970-01-02T03:19:39",
          "1970-01-02T03:19:39",
          "1970-01-02T03:19:39"
         ],
         "y": [
          "barge_0",
          "barge_0",
          "barge_0",
          "barge_0",
          null,
          "barge_0",
          "barge_0",
          "barge_0",
          "barge_0",
          null,
          "barge_0",
          "barge_0",
          "barge_0",
          "barge_0",
          null,
          "barge_0",
          "barge_0",
          "barge_0",
          "barge_0",
          null,
          "barge_0",
          "barge_0",
          "barge_0",
          "barge_0",
          null,
          "barge_0",
          "barge_0",
          "barge_0",
          "barge_0",
          null,
          "barge_0",
          "barge_0",
          "barge_0",
          "barge_0",
          null,
          "barge_0",
          "barge_0",
          "barge_0",
          "barge_0",
          null
         ]
        },
        {
         "connectgaps": false,
         "hoverinfo": "y+name",
         "line": {
          "color": "rgb(235,179,101)",
          "width": 10
         },
         "mode": "lines",
         "name": "sailing empty:barge_0",
         "type": "scatter",
         "x": [
          "1970-01-01T00:43:37",
          "1970-01-01T00:43:37",
          "1970-01-01T01:27:14",
          "1970-01-01T01:27:14",
          "1970-01-01T01:27:14",
          "1970-01-01T04:32:17",
          "1970-01-01T04:32:17",
          "1970-01-01T05:15:54",
          "1970-01-01T05:15:54",
          "1970-01-01T05:15:54",
          "1970-01-01T08:00:05",
          "1970-01-01T08:00:05",
          "1970-01-01T08:43:42",
          "1970-01-01T08:43:42",
          "1970-01-01T08:43:42",
          "1970-01-01T11:27:53",
          "1970-01-01T11:27:53",
          "1970-01-01T12:11:30",
          "1970-01-01T12:11:30",
          "1970-01-01T12:11:30",
          "1970-01-01T14:55:41",
          "1970-01-01T14:55:41",
          "1970-01-01T15:39:18",
          "1970-01-01T15:39:18",
          "1970-01-01T15:39:18",
          "1970-01-01T18:23:29",
          "1970-01-01T18:23:29",
          "1970-01-01T19:07:06",
          "1970-01-01T19:07:06",
          "1970-01-01T19:07:06",
          "1970-01-01T21:51:17",
          "1970-01-01T21:51:17",
          "1970-01-01T22:34:54",
          "1970-01-01T22:34:54",
          "1970-01-01T22:34:54",
          "1970-01-02T01:19:05",
          "1970-01-02T01:19:05",
          "1970-01-02T02:02:42",
          "1970-01-02T02:02:42",
          "1970-01-02T02:02:42"
         ],
         "y": [
          "barge_0",
          "barge_0",
          "barge_0",
          "barge_0",
          null,
          "barge_0",
          "barge_0",
          "barge_0",
          "barge_0",
          null,
          "barge_0",
          "barge_0",
          "barge_0",
          "barge_0",
          null,
          "barge_0",
          "barge_0",
          "barge_0",
          "barge_0",
          null,
          "barge_0",
          "barge_0",
          "barge_0",
          "barge_0",
          null,
          "barge_0",
          "barge_0",
          "barge_0",
          "barge_0",
          null,
          "barge_0",
          "barge_0",
          "barge_0",
          "barge_0",
          null,
          "barge_0",
          "barge_0",
          "barge_0",
          "barge_0",
          null
         ]
        },
        {
         "connectgaps": false,
         "hoverinfo": "y+name",
         "line": {
          "color": "rgb(247,191,113)",
          "width": 10
         },
         "mode": "lines",
         "name": "loading:barge_1",
         "type": "scatter",
         "x": [
          "1970-01-01T01:14:46",
          "1970-01-01T01:14:46",
          "1970-01-01T01:48:06",
          "1970-01-01T01:48:06",
          "1970-01-01T01:48:06",
          "1970-01-01T04:17:38",
          "1970-01-01T04:17:38",
          "1970-01-01T04:50:58",
          "1970-01-01T04:50:58",
          "1970-01-01T04:50:58",
          "1970-01-01T07:20:30",
          "1970-01-01T07:20:30",
          "1970-01-01T07:53:50",
          "1970-01-01T07:53:50",
          "1970-01-01T07:53:50",
          "1970-01-01T10:23:22",
          "1970-01-01T10:23:22",
          "1970-01-01T10:56:42",
          "1970-01-01T10:56:42",
          "1970-01-01T10:56:42",
          "1970-01-01T13:26:14",
          "1970-01-01T13:26:14",
          "1970-01-01T13:59:34",
          "1970-01-01T13:59:34",
          "1970-01-01T13:59:34",
          "1970-01-01T16:29:06",
          "1970-01-01T16:29:06",
          "1970-01-01T17:02:26",
          "1970-01-01T17:02:26",
          "1970-01-01T17:02:26",
          "1970-01-01T19:40:26",
          "1970-01-01T19:40:26",
          "1970-01-01T20:13:46",
          "1970-01-01T20:13:46",
          "1970-01-01T20:13:46",
          "1970-01-01T23:08:14",
          "1970-01-01T23:08:14",
          "1970-01-01T23:41:34",
          "1970-01-01T23:41:34",
          "1970-01-01T23:41:34",
          "1970-01-02T02:36:02",
          "1970-01-02T02:36:02",
          "1970-01-02T03:09:22",
          "1970-01-02T03:09:22",
          "1970-01-02T03:09:22",
          "1970-01-01T01:14:46",
          "1970-01-01T01:14:46",
          "1970-01-01T01:48:06",
          "1970-01-01T01:48:06",
          "1970-01-01T01:48:06",
          "1970-01-01T04:17:38",
          "1970-01-01T04:17:38",
          "1970-01-01T04:50:58",
          "1970-01-01T04:50:58",
          "1970-01-01T04:50:58",
          "1970-01-01T07:20:30",
          "1970-01-01T07:20:30",
          "1970-01-01T07:53:50",
          "1970-01-01T07:53:50",
          "1970-01-01T07:53:50",
          "1970-01-01T10:23:22",
          "1970-01-01T10:23:22",
          "1970-01-01T10:56:42",
          "1970-01-01T10:56:42",
          "1970-01-01T10:56:42",
          "1970-01-01T13:26:14",
          "1970-01-01T13:26:14",
          "1970-01-01T13:59:34",
          "1970-01-01T13:59:34",
          "1970-01-01T13:59:34",
          "1970-01-01T16:29:06",
          "1970-01-01T16:29:06",
          "1970-01-01T17:02:26",
          "1970-01-01T17:02:26",
          "1970-01-01T17:02:26",
          "1970-01-01T19:40:26",
          "1970-01-01T19:40:26",
          "1970-01-01T20:13:46",
          "1970-01-01T20:13:46",
          "1970-01-01T20:13:46",
          "1970-01-01T23:08:14",
          "1970-01-01T23:08:14",
          "1970-01-01T23:41:34",
          "1970-01-01T23:41:34",
          "1970-01-01T23:41:34",
          "1970-01-02T02:36:02",
          "1970-01-02T02:36:02",
          "1970-01-02T03:09:22",
          "1970-01-02T03:09:22",
          "1970-01-02T03:09:22"
         ],
         "y": [
          "barge_1",
          "barge_1",
          "barge_1",
          "barge_1",
          null,
          "barge_1",
          "barge_1",
          "barge_1",
          "barge_1",
          null,
          "barge_1",
          "barge_1",
          "barge_1",
          "barge_1",
          null,
          "barge_1",
          "barge_1",
          "barge_1",
          "barge_1",
          null,
          "barge_1",
          "barge_1",
          "barge_1",
          "barge_1",
          null,
          "barge_1",
          "barge_1",
          "barge_1",
          "barge_1",
          null,
          "barge_1",
          "barge_1",
          "barge_1",
          "barge_1",
          null,
          "barge_1",
          "barge_1",
          "barge_1",
          "barge_1",
          null,
          "barge_1",
          "barge_1",
          "barge_1",
          "barge_1",
          null,
          "cutter",
          "cutter",
          "cutter",
          "cutter",
          null,
          "cutter",
          "cutter",
          "cutter",
          "cutter",
          null,
          "cutter",
          "cutter",
          "cutter",
          "cutter",
          null,
          "cutter",
          "cutter",
          "cutter",
          "cutter",
          null,
          "cutter",
          "cutter",
          "cutter",
          "cutter",
          null,
          "cutter",
          "cutter",
          "cutter",
          "cutter",
          null,
          "cutter",
          "cutter",
          "cutter",
          "cutter",
          null,
          "cutter",
          "cutter",
          "cutter",
          "cutter",
          null,
          "cutter",
          "cutter",
          "cutter",
          "cutter",
          null
         ]
        },
        {
         "connectgaps": false,
         "hoverinfo": "y+name",
         "line": {
          "color": "rgb(3,203,125)",
          "width": 10
         },
         "mode": "lines",
         "name": "unloading:barge_1",
         "type": "scatter",
         "x": [
          "1970-01-01T02:25:29",
          "1970-01-01T02:25:29",
          "1970-01-01T03:02:52",
          "1970-01-01T03:02:52",
          "1970-01-01T03:02:52",
          "1970-01-01T05:28:21",
          "1970-01-01T05:28:21",
          "1970-01-01T06:05:44",
          "1970-01-01T06:05:44",
          "1970-01-01T06:05:44",
          "1970-01-01T08:31:13",
          "1970-01-01T08:31:13",
          "1970-01-01T09:08:36",
          "1970-01-01T09:08:36",
          "1970-01-01T09:08:36",
          "1970-01-01T11:34:05",
          "1970-01-01T11:34:05",
          "1970-01-01T12:11:28",
          "1970-01-01T12:11:28",
          "1970-01-01T12:11:28",
          "1970-01-01T14:36:57",
          "1970-01-01T14:36:57",
          "1970-01-01T15:14:20",
          "1970-01-01T15:14:20",
          "1970-01-01T15:14:20",
          "1970-01-01T17:39:49",
          "1970-01-01T17:39:49",
          "1970-01-01T18:17:12",
          "1970-01-01T18:17:12",
          "1970-01-01T18:17:12",
          "1970-01-01T20:51:09",
          "1970-01-01T20:51:09",
          "1970-01-01T21:28:32",
          "1970-01-01T21:28:32",
          "1970-01-01T21:28:32",
          "1970-01-02T00:18:57",
          "1970-01-02T00:18:57",
          "1970-01-02T00:56:20",
          "1970-01-02T00:56:20",
          "1970-01-02T00:56:20",
          "1970-01-02T03:46:45",
          "1970-01-02T03:46:45",
          "1970-01-02T04:24:08",
          "1970-01-02T04:24:08",
          "1970-01-02T04:24:08",
          "1970-01-01T02:25:29",
          "1970-01-01T02:25:29",
          "1970-01-01T03:02:52",
          "1970-01-01T03:02:52",
          "1970-01-01T03:02:52",
          "1970-01-01T05:28:21",
          "1970-01-01T05:28:21",
          "1970-01-01T06:05:44",
          "1970-01-01T06:05:44",
          "1970-01-01T06:05:44",
          "1970-01-01T08:31:13",
          "1970-01-01T08:31:13",
          "1970-01-01T09:08:36",
          "1970-01-01T09:08:36",
          "1970-01-01T09:08:36",
          "1970-01-01T11:34:05",
          "1970-01-01T11:34:05",
          "1970-01-01T12:11:28",
          "1970-01-01T12:11:28",
          "1970-01-01T12:11:28",
          "1970-01-01T14:36:57",
          "1970-01-01T14:36:57",
          "1970-01-01T15:14:20",
          "1970-01-01T15:14:20",
          "1970-01-01T15:14:20",
          "1970-01-01T17:39:49",
          "1970-01-01T17:39:49",
          "1970-01-01T18:17:12",
          "1970-01-01T18:17:12",
          "1970-01-01T18:17:12",
          "1970-01-01T20:51:09",
          "1970-01-01T20:51:09",
          "1970-01-01T21:28:32",
          "1970-01-01T21:28:32",
          "1970-01-01T21:28:32",
          "1970-01-02T00:18:57",
          "1970-01-02T00:18:57",
          "1970-01-02T00:56:20",
          "1970-01-02T00:56:20",
          "1970-01-02T00:56:20",
          "1970-01-02T03:46:45",
          "1970-01-02T03:46:45",
          "1970-01-02T04:24:08",
          "1970-01-02T04:24:08",
          "1970-01-02T04:24:08"
         ],
         "y": [
          "barge_1",
          "barge_1",
          "barge_1",
          "barge_1",
          null,
          "barge_1",
          "barge_1",
          "barge_1",
          "barge_1",
          null,
          "barge_1",
          "barge_1",
          "barge_1",
          "barge_1",
          null,
          "barge_1",
          "barge_1",
          "barge_1",
          "barge_1",
          null,
          "barge_1",
          "barge_1",
          "barge_1",
          "barge_1",
          null,
          "barge_1",
          "barge_1",
          "barge_1",
          "barge_1",
          null,
          "barge_1",
          "barge_1",
          "barge_1",
          "barge_1",
          null,
          "barge_1",
          "barge_1",
          "barge_1",
          "barge_1",
          null,
          "barge_1",
          "barge_1",
          "barge_1",
          "barge_1",
          null,
          "to_site",
          "to_site",
          "to_site",
          "to_site",
          null,
          "to_site",
          "to_site",
          "to_site",
          "to_site",
          null,
          "to_site",
          "to_site",
          "to_site",
          "to_site",
          null,
          "to_site",
          "to_site",
          "to_site",
          "to_site",
          null,
          "to_site",
          "to_site",
          "to_site",
          "to_site",
          null,
          "to_site",
          "to_site",
          "to_site",
          "to_site",
          null,
          "to_site",
          "to_site",
          "to_site",
          "to_site",
          null,
          "to_site",
          "to_site",
          "to_site",
          "to_site",
          null,
          "to_site",
          "to_site",
          "to_site",
          "to_site",
          null
         ]
        },
        {
         "connectgaps": false,
         "hoverinfo": "y+name",
         "line": {
          "color": "rgb(15,215,137)",
          "width": 10
         },
         "mode": "lines",
         "name": "basic activity:barge_1",
         "type": "scatter",
         "x": [
          "1970-01-01T00:00:00",
          "1970-01-01T00:00:00",
          "1970-01-01T00:37:23",
          "1970-01-01T00:37:23",
          "1970-01-01T00:37:23",
          "1970-01-01T03:02:52",
          "1970-01-01T03:02:52",
          "1970-01-01T03:40:15",
          "1970-01-01T03:40:15",
          "1970-01-01T03:40:15",
          "1970-01-01T06:05:44",
          "1970-01-01T06:05:44",
          "1970-01-01T06:43:07",
          "1970-01-01T06:43:07",
          "1970-01-01T06:43:07",
          "1970-01-01T09:08:36",
          "1970-01-01T09:08:36",
          "1970-01-01T09:45:59",
          "1970-01-01T09:45:59",
          "1970-01-01T09:45:59",
          "1970-01-01T12:11:28",
          "1970-01-01T12:11:28",
          "1970-01-01T12:48:51",
          "1970-01-01T12:48:51",
          "1970-01-01T12:48:51",
          "1970-01-01T15:14:20",
          "1970-01-01T15:14:20",
          "1970-01-01T15:51:43",
          "1970-01-01T15:51:43",
          "1970-01-01T15:51:43",
          "1970-01-01T18:17:12",
          "1970-01-01T18:17:12",
          "1970-01-01T18:54:35",
          "1970-01-01T18:54:35",
          "1970-01-01T18:54:35",
          "1970-01-01T21:28:32",
          "1970-01-01T21:28:32",
          "1970-01-01T22:05:55",
          "1970-01-01T22:05:55",
          "1970-01-01T22:05:55",
          "1970-01-02T00:56:20",
          "1970-01-02T00:56:20",
          "1970-01-02T01:33:43",
          "1970-01-02T01:33:43",
          "1970-01-02T01:33:43"
         ],
         "y": [
          "barge_1",
          "barge_1",
          "barge_1",
          "barge_1",
          null,
          "barge_1",
          "barge_1",
          "barge_1",
          "barge_1",
          null,
          "barge_1",
          "barge_1",
          "barge_1",
          "barge_1",
          null,
          "barge_1",
          "barge_1",
          "barge_1",
          "barge_1",
          null,
          "barge_1",
          "barge_1",
          "barge_1",
          "barge_1",
          null,
          "barge_1",
          "barge_1",
          "barge_1",
          "barge_1",
          null,
          "barge_1",
          "barge_1",
          "barge_1",
          "barge_1",
          null,
          "barge_1",
          "barge_1",
          "barge_1",
          "barge_1",
          null,
          "barge_1",
          "barge_1",
          "barge_1",
          "barge_1",
          null
         ]
        },
        {
         "connectgaps": false,
         "hoverinfo": "y+name",
         "line": {
          "color": "rgb(27,227,149)",
          "width": 10
         },
         "mode": "lines",
         "name": "sailing empty:barge_1",
         "type": "scatter",
         "x": [
          "1970-01-01T00:37:23",
          "1970-01-01T00:37:23",
          "1970-01-01T01:14:46",
          "1970-01-01T01:14:46",
          "1970-01-01T01:14:46",
          "1970-01-01T03:40:15",
          "1970-01-01T03:40:15",
          "1970-01-01T04:17:38",
          "1970-01-01T04:17:38",
          "1970-01-01T04:17:38",
          "1970-01-01T06:43:07",
          "1970-01-01T06:43:07",
          "1970-01-01T07:20:30",
          "1970-01-01T07:20:30",
          "1970-01-01T07:20:30",
          "1970-01-01T09:45:59",
          "1970-01-01T09:45:59",
          "1970-01-01T10:23:22",
          "1970-01-01T10:23:22",
          "1970-01-01T10:23:22",
          "1970-01-01T12:48:51",
          "1970-01-01T12:48:51",
          "1970-01-01T13:26:14",
          "1970-01-01T13:26:14",
          "1970-01-01T13:26:14",
          "1970-01-01T15:51:43",
          "1970-01-01T15:51:43",
          "1970-01-01T16:29:06",
          "1970-01-01T16:29:06",
          "1970-01-01T16:29:06",
          "1970-01-01T18:54:35",
          "1970-01-01T18:54:35",
          "1970-01-01T19:31:58",
          "1970-01-01T19:31:58",
          "1970-01-01T19:31:58",
          "1970-01-01T22:05:55",
          "1970-01-01T22:05:55",
          "1970-01-01T22:43:18",
          "1970-01-01T22:43:18",
          "1970-01-01T22:43:18",
          "1970-01-02T01:33:43",
          "1970-01-02T01:33:43",
          "1970-01-02T02:11:06",
          "1970-01-02T02:11:06",
          "1970-01-02T02:11:06"
         ],
         "y": [
          "barge_1",
          "barge_1",
          "barge_1",
          "barge_1",
          null,
          "barge_1",
          "barge_1",
          "barge_1",
          "barge_1",
          null,
          "barge_1",
          "barge_1",
          "barge_1",
          "barge_1",
          null,
          "barge_1",
          "barge_1",
          "barge_1",
          "barge_1",
          null,
          "barge_1",
          "barge_1",
          "barge_1",
          "barge_1",
          null,
          "barge_1",
          "barge_1",
          "barge_1",
          "barge_1",
          null,
          "barge_1",
          "barge_1",
          "barge_1",
          "barge_1",
          null,
          "barge_1",
          "barge_1",
          "barge_1",
          "barge_1",
          null,
          "barge_1",
          "barge_1",
          "barge_1",
          "barge_1",
          null
         ]
        },
        {
         "connectgaps": false,
         "hoverinfo": "y+name",
         "line": {
          "color": "rgb(39,239,161)",
          "width": 10
         },
         "mode": "lines",
         "name": "sailing full:barge_1",
         "type": "scatter",
         "x": [
          "1970-01-01T01:48:06",
          "1970-01-01T01:48:06",
          "1970-01-01T02:25:29",
          "1970-01-01T02:25:29",
          "1970-01-01T02:25:29",
          "1970-01-01T04:50:58",
          "1970-01-01T04:50:58",
          "1970-01-01T05:28:21",
          "1970-01-01T05:28:21",
          "1970-01-01T05:28:21",
          "1970-01-01T07:53:50",
          "1970-01-01T07:53:50",
          "1970-01-01T08:31:13",
          "1970-01-01T08:31:13",
          "1970-01-01T08:31:13",
          "1970-01-01T10:56:42",
          "1970-01-01T10:56:42",
          "1970-01-01T11:34:05",
          "1970-01-01T11:34:05",
          "1970-01-01T11:34:05",
          "1970-01-01T13:59:34",
          "1970-01-01T13:59:34",
          "1970-01-01T14:36:57",
          "1970-01-01T14:36:57",
          "1970-01-01T14:36:57",
          "1970-01-01T17:02:26",
          "1970-01-01T17:02:26",
          "1970-01-01T17:39:49",
          "1970-01-01T17:39:49",
          "1970-01-01T17:39:49",
          "1970-01-01T20:13:46",
          "1970-01-01T20:13:46",
          "1970-01-01T20:51:09",
          "1970-01-01T20:51:09",
          "1970-01-01T20:51:09",
          "1970-01-01T23:41:34",
          "1970-01-01T23:41:34",
          "1970-01-02T00:18:57",
          "1970-01-02T00:18:57",
          "1970-01-02T00:18:57",
          "1970-01-02T03:09:22",
          "1970-01-02T03:09:22",
          "1970-01-02T03:46:45",
          "1970-01-02T03:46:45",
          "1970-01-02T03:46:45"
         ],
         "y": [
          "barge_1",
          "barge_1",
          "barge_1",
          "barge_1",
          null,
          "barge_1",
          "barge_1",
          "barge_1",
          "barge_1",
          null,
          "barge_1",
          "barge_1",
          "barge_1",
          "barge_1",
          null,
          "barge_1",
          "barge_1",
          "barge_1",
          "barge_1",
          null,
          "barge_1",
          "barge_1",
          "barge_1",
          "barge_1",
          null,
          "barge_1",
          "barge_1",
          "barge_1",
          "barge_1",
          null,
          "barge_1",
          "barge_1",
          "barge_1",
          "barge_1",
          null,
          "barge_1",
          "barge_1",
          "barge_1",
          "barge_1",
          null,
          "barge_1",
          "barge_1",
          "barge_1",
          "barge_1",
          null
         ]
        },
        {
         "connectgaps": false,
         "hoverinfo": "y+name",
         "line": {
          "color": "rgb(51,251,173)",
          "width": 10
         },
         "mode": "lines",
         "name": "sailing empty:barge_2",
         "type": "scatter",
         "x": [
          "1970-01-01T00:47:21",
          "1970-01-01T00:47:21",
          "1970-01-01T01:34:42",
          "1970-01-01T01:34:42",
          "1970-01-01T01:34:42",
          "1970-01-01T05:16:49",
          "1970-01-01T05:16:49",
          "1970-01-01T06:04:10",
          "1970-01-01T06:04:10",
          "1970-01-01T06:04:10",
          "1970-01-01T08:59:33",
          "1970-01-01T08:59:33",
          "1970-01-01T09:46:54",
          "1970-01-01T09:46:54",
          "1970-01-01T09:46:54",
          "1970-01-01T12:42:17",
          "1970-01-01T12:42:17",
          "1970-01-01T13:29:38",
          "1970-01-01T13:29:38",
          "1970-01-01T13:29:38",
          "1970-01-01T16:54:57",
          "1970-01-01T16:54:57",
          "1970-01-01T17:42:18",
          "1970-01-01T17:42:18",
          "1970-01-01T17:42:18",
          "1970-01-01T20:37:41",
          "1970-01-01T20:37:41",
          "1970-01-01T21:25:02",
          "1970-01-01T21:25:02",
          "1970-01-01T21:25:02",
          "1970-01-02T00:20:25",
          "1970-01-02T00:20:25",
          "1970-01-02T01:07:46",
          "1970-01-02T01:07:46",
          "1970-01-02T01:07:46",
          "1970-01-02T04:03:09",
          "1970-01-02T04:03:09",
          "1970-01-02T04:50:30",
          "1970-01-02T04:50:30",
          "1970-01-02T04:50:30"
         ],
         "y": [
          "barge_2",
          "barge_2",
          "barge_2",
          "barge_2",
          null,
          "barge_2",
          "barge_2",
          "barge_2",
          "barge_2",
          null,
          "barge_2",
          "barge_2",
          "barge_2",
          "barge_2",
          null,
          "barge_2",
          "barge_2",
          "barge_2",
          "barge_2",
          null,
          "barge_2",
          "barge_2",
          "barge_2",
          "barge_2",
          null,
          "barge_2",
          "barge_2",
          "barge_2",
          "barge_2",
          null,
          "barge_2",
          "barge_2",
          "barge_2",
          "barge_2",
          null,
          "barge_2",
          "barge_2",
          "barge_2",
          "barge_2",
          null
         ]
        },
        {
         "connectgaps": false,
         "hoverinfo": "y+name",
         "line": {
          "color": "rgb(63,7,185)",
          "width": 10
         },
         "mode": "lines",
         "name": "sailing full:barge_2",
         "type": "scatter",
         "x": [
          "1970-01-01T02:54:46",
          "1970-01-01T02:54:46",
          "1970-01-01T03:42:07",
          "1970-01-01T03:42:07",
          "1970-01-01T03:42:07",
          "1970-01-01T06:37:30",
          "1970-01-01T06:37:30",
          "1970-01-01T07:24:51",
          "1970-01-01T07:24:51",
          "1970-01-01T07:24:51",
          "1970-01-01T10:20:14",
          "1970-01-01T10:20:14",
          "1970-01-01T11:07:35",
          "1970-01-01T11:07:35",
          "1970-01-01T11:07:35",
          "1970-01-01T14:32:54",
          "1970-01-01T14:32:54",
          "1970-01-01T15:20:15",
          "1970-01-01T15:20:15",
          "1970-01-01T15:20:15",
          "1970-01-01T18:15:38",
          "1970-01-01T18:15:38",
          "1970-01-01T19:02:59",
          "1970-01-01T19:02:59",
          "1970-01-01T19:02:59",
          "1970-01-01T21:58:22",
          "1970-01-01T21:58:22",
          "1970-01-01T22:45:43",
          "1970-01-01T22:45:43",
          "1970-01-01T22:45:43",
          "1970-01-02T01:41:06",
          "1970-01-02T01:41:06",
          "1970-01-02T02:28:27",
          "1970-01-02T02:28:27",
          "1970-01-02T02:28:27",
          "1970-01-02T05:23:50",
          "1970-01-02T05:23:50",
          "1970-01-02T06:11:11",
          "1970-01-02T06:11:11",
          "1970-01-02T06:11:11"
         ],
         "y": [
          "barge_2",
          "barge_2",
          "barge_2",
          "barge_2",
          null,
          "barge_2",
          "barge_2",
          "barge_2",
          "barge_2",
          null,
          "barge_2",
          "barge_2",
          "barge_2",
          "barge_2",
          null,
          "barge_2",
          "barge_2",
          "barge_2",
          "barge_2",
          null,
          "barge_2",
          "barge_2",
          "barge_2",
          "barge_2",
          null,
          "barge_2",
          "barge_2",
          "barge_2",
          "barge_2",
          null,
          "barge_2",
          "barge_2",
          "barge_2",
          "barge_2",
          null,
          "barge_2",
          "barge_2",
          "barge_2",
          "barge_2",
          null
         ]
        },
        {
         "connectgaps": false,
         "hoverinfo": "y+name",
         "line": {
          "color": "rgb(75,19,197)",
          "width": 10
         },
         "mode": "lines",
         "name": "unloading:barge_2",
         "type": "scatter",
         "x": [
          "1970-01-01T03:42:07",
          "1970-01-01T03:42:07",
          "1970-01-01T04:29:28",
          "1970-01-01T04:29:28",
          "1970-01-01T04:29:28",
          "1970-01-01T07:24:51",
          "1970-01-01T07:24:51",
          "1970-01-01T08:12:12",
          "1970-01-01T08:12:12",
          "1970-01-01T08:12:12",
          "1970-01-01T11:07:35",
          "1970-01-01T11:07:35",
          "1970-01-01T11:54:56",
          "1970-01-01T11:54:56",
          "1970-01-01T11:54:56",
          "1970-01-01T15:20:15",
          "1970-01-01T15:20:15",
          "1970-01-01T16:07:36",
          "1970-01-01T16:07:36",
          "1970-01-01T16:07:36",
          "1970-01-01T19:02:59",
          "1970-01-01T19:02:59",
          "1970-01-01T19:50:20",
          "1970-01-01T19:50:20",
          "1970-01-01T19:50:20",
          "1970-01-01T22:45:43",
          "1970-01-01T22:45:43",
          "1970-01-01T23:33:04",
          "1970-01-01T23:33:04",
          "1970-01-01T23:33:04",
          "1970-01-02T02:28:27",
          "1970-01-02T02:28:27",
          "1970-01-02T03:15:48",
          "1970-01-02T03:15:48",
          "1970-01-02T03:15:48",
          "1970-01-02T06:11:11",
          "1970-01-02T06:11:11",
          "1970-01-02T06:58:32",
          "1970-01-02T06:58:32",
          "1970-01-02T06:58:32",
          "1970-01-01T03:42:07",
          "1970-01-01T03:42:07",
          "1970-01-01T04:29:28",
          "1970-01-01T04:29:28",
          "1970-01-01T04:29:28",
          "1970-01-01T07:24:51",
          "1970-01-01T07:24:51",
          "1970-01-01T08:12:12",
          "1970-01-01T08:12:12",
          "1970-01-01T08:12:12",
          "1970-01-01T11:07:35",
          "1970-01-01T11:07:35",
          "1970-01-01T11:54:56",
          "1970-01-01T11:54:56",
          "1970-01-01T11:54:56",
          "1970-01-01T15:20:15",
          "1970-01-01T15:20:15",
          "1970-01-01T16:07:36",
          "1970-01-01T16:07:36",
          "1970-01-01T16:07:36",
          "1970-01-01T19:02:59",
          "1970-01-01T19:02:59",
          "1970-01-01T19:50:20",
          "1970-01-01T19:50:20",
          "1970-01-01T19:50:20",
          "1970-01-01T22:45:43",
          "1970-01-01T22:45:43",
          "1970-01-01T23:33:04",
          "1970-01-01T23:33:04",
          "1970-01-01T23:33:04",
          "1970-01-02T02:28:27",
          "1970-01-02T02:28:27",
          "1970-01-02T03:15:48",
          "1970-01-02T03:15:48",
          "1970-01-02T03:15:48",
          "1970-01-02T06:11:11",
          "1970-01-02T06:11:11",
          "1970-01-02T06:58:32",
          "1970-01-02T06:58:32",
          "1970-01-02T06:58:32"
         ],
         "y": [
          "barge_2",
          "barge_2",
          "barge_2",
          "barge_2",
          null,
          "barge_2",
          "barge_2",
          "barge_2",
          "barge_2",
          null,
          "barge_2",
          "barge_2",
          "barge_2",
          "barge_2",
          null,
          "barge_2",
          "barge_2",
          "barge_2",
          "barge_2",
          null,
          "barge_2",
          "barge_2",
          "barge_2",
          "barge_2",
          null,
          "barge_2",
          "barge_2",
          "barge_2",
          "barge_2",
          null,
          "barge_2",
          "barge_2",
          "barge_2",
          "barge_2",
          null,
          "barge_2",
          "barge_2",
          "barge_2",
          "barge_2",
          null,
          "to_site",
          "to_site",
          "to_site",
          "to_site",
          null,
          "to_site",
          "to_site",
          "to_site",
          "to_site",
          null,
          "to_site",
          "to_site",
          "to_site",
          "to_site",
          null,
          "to_site",
          "to_site",
          "to_site",
          "to_site",
          null,
          "to_site",
          "to_site",
          "to_site",
          "to_site",
          null,
          "to_site",
          "to_site",
          "to_site",
          "to_site",
          null,
          "to_site",
          "to_site",
          "to_site",
          "to_site",
          null,
          "to_site",
          "to_site",
          "to_site",
          "to_site",
          null
         ]
        },
        {
         "connectgaps": false,
         "hoverinfo": "y+name",
         "line": {
          "color": "rgb(87,31,209)",
          "width": 10
         },
         "mode": "lines",
         "name": "basic activity:barge_2",
         "type": "scatter",
         "x": [
          "1970-01-01T00:00:00",
          "1970-01-01T00:00:00",
          "1970-01-01T00:47:21",
          "1970-01-01T00:47:21",
          "1970-01-01T00:47:21",
          "1970-01-01T04:29:28",
          "1970-01-01T04:29:28",
          "1970-01-01T05:16:49",
          "1970-01-01T05:16:49",
          "1970-01-01T05:16:49",
          "1970-01-01T08:12:12",
          "1970-01-01T08:12:12",
          "1970-01-01T08:59:33",
          "1970-01-01T08:59:33",
          "1970-01-01T08:59:33",
          "1970-01-01T11:54:56",
          "1970-01-01T11:54:56",
          "1970-01-01T12:42:17",
          "1970-01-01T12:42:17",
          "1970-01-01T12:42:17",
          "1970-01-01T16:07:36",
          "1970-01-01T16:07:36",
          "1970-01-01T16:54:57",
          "1970-01-01T16:54:57",
          "1970-01-01T16:54:57",
          "1970-01-01T19:50:20",
          "1970-01-01T19:50:20",
          "1970-01-01T20:37:41",
          "1970-01-01T20:37:41",
          "1970-01-01T20:37:41",
          "1970-01-01T23:33:04",
          "1970-01-01T23:33:04",
          "1970-01-02T00:20:25",
          "1970-01-02T00:20:25",
          "1970-01-02T00:20:25",
          "1970-01-02T03:15:48",
          "1970-01-02T03:15:48",
          "1970-01-02T04:03:09",
          "1970-01-02T04:03:09",
          "1970-01-02T04:03:09"
         ],
         "y": [
          "barge_2",
          "barge_2",
          "barge_2",
          "barge_2",
          null,
          "barge_2",
          "barge_2",
          "barge_2",
          "barge_2",
          null,
          "barge_2",
          "barge_2",
          "barge_2",
          "barge_2",
          null,
          "barge_2",
          "barge_2",
          "barge_2",
          "barge_2",
          null,
          "barge_2",
          "barge_2",
          "barge_2",
          "barge_2",
          null,
          "barge_2",
          "barge_2",
          "barge_2",
          "barge_2",
          null,
          "barge_2",
          "barge_2",
          "barge_2",
          "barge_2",
          null,
          "barge_2",
          "barge_2",
          "barge_2",
          "barge_2",
          null
         ]
        },
        {
         "connectgaps": false,
         "hoverinfo": "y+name",
         "line": {
          "color": "rgb(99,43,221)",
          "width": 10
         },
         "mode": "lines",
         "name": "loading:barge_2",
         "type": "scatter",
         "x": [
          "1970-01-01T02:21:26",
          "1970-01-01T02:21:26",
          "1970-01-01T02:54:46",
          "1970-01-01T02:54:46",
          "1970-01-01T02:54:46",
          "1970-01-01T06:04:10",
          "1970-01-01T06:04:10",
          "1970-01-01T06:37:30",
          "1970-01-01T06:37:30",
          "1970-01-01T06:37:30",
          "1970-01-01T09:46:54",
          "1970-01-01T09:46:54",
          "1970-01-01T10:20:14",
          "1970-01-01T10:20:14",
          "1970-01-01T10:20:14",
          "1970-01-01T13:59:34",
          "1970-01-01T13:59:34",
          "1970-01-01T14:32:54",
          "1970-01-01T14:32:54",
          "1970-01-01T14:32:54",
          "1970-01-01T17:42:18",
          "1970-01-01T17:42:18",
          "1970-01-01T18:15:38",
          "1970-01-01T18:15:38",
          "1970-01-01T18:15:38",
          "1970-01-01T21:25:02",
          "1970-01-01T21:25:02",
          "1970-01-01T21:58:22",
          "1970-01-01T21:58:22",
          "1970-01-01T21:58:22",
          "1970-01-02T01:07:46",
          "1970-01-02T01:07:46",
          "1970-01-02T01:41:06",
          "1970-01-02T01:41:06",
          "1970-01-02T01:41:06",
          "1970-01-02T04:50:30",
          "1970-01-02T04:50:30",
          "1970-01-02T05:23:50",
          "1970-01-02T05:23:50",
          "1970-01-02T05:23:50",
          "1970-01-01T02:21:26",
          "1970-01-01T02:21:26",
          "1970-01-01T02:54:46",
          "1970-01-01T02:54:46",
          "1970-01-01T02:54:46",
          "1970-01-01T06:04:10",
          "1970-01-01T06:04:10",
          "1970-01-01T06:37:30",
          "1970-01-01T06:37:30",
          "1970-01-01T06:37:30",
          "1970-01-01T09:46:54",
          "1970-01-01T09:46:54",
          "1970-01-01T10:20:14",
          "1970-01-01T10:20:14",
          "1970-01-01T10:20:14",
          "1970-01-01T13:59:34",
          "1970-01-01T13:59:34",
          "1970-01-01T14:32:54",
          "1970-01-01T14:32:54",
          "1970-01-01T14:32:54",
          "1970-01-01T17:42:18",
          "1970-01-01T17:42:18",
          "1970-01-01T18:15:38",
          "1970-01-01T18:15:38",
          "1970-01-01T18:15:38",
          "1970-01-01T21:25:02",
          "1970-01-01T21:25:02",
          "1970-01-01T21:58:22",
          "1970-01-01T21:58:22",
          "1970-01-01T21:58:22",
          "1970-01-02T01:07:46",
          "1970-01-02T01:07:46",
          "1970-01-02T01:41:06",
          "1970-01-02T01:41:06",
          "1970-01-02T01:41:06",
          "1970-01-02T04:50:30",
          "1970-01-02T04:50:30",
          "1970-01-02T05:23:50",
          "1970-01-02T05:23:50",
          "1970-01-02T05:23:50"
         ],
         "y": [
          "barge_2",
          "barge_2",
          "barge_2",
          "barge_2",
          null,
          "barge_2",
          "barge_2",
          "barge_2",
          "barge_2",
          null,
          "barge_2",
          "barge_2",
          "barge_2",
          "barge_2",
          null,
          "barge_2",
          "barge_2",
          "barge_2",
          "barge_2",
          null,
          "barge_2",
          "barge_2",
          "barge_2",
          "barge_2",
          null,
          "barge_2",
          "barge_2",
          "barge_2",
          "barge_2",
          null,
          "barge_2",
          "barge_2",
          "barge_2",
          "barge_2",
          null,
          "barge_2",
          "barge_2",
          "barge_2",
          "barge_2",
          null,
          "cutter",
          "cutter",
          "cutter",
          "cutter",
          null,
          "cutter",
          "cutter",
          "cutter",
          "cutter",
          null,
          "cutter",
          "cutter",
          "cutter",
          "cutter",
          null,
          "cutter",
          "cutter",
          "cutter",
          "cutter",
          null,
          "cutter",
          "cutter",
          "cutter",
          "cutter",
          null,
          "cutter",
          "cutter",
          "cutter",
          "cutter",
          null,
          "cutter",
          "cutter",
          "cutter",
          "cutter",
          null,
          "cutter",
          "cutter",
          "cutter",
          "cutter",
          null
         ]
        },
        {
         "connectgaps": false,
         "hoverinfo": "y+name",
         "line": {
          "color": "rgb(111,55,233)",
          "width": 10
         },
         "mode": "lines",
         "name": "loading:barge_1",
         "type": "scatter",
         "x": [
          "1970-01-01T01:14:46",
          "1970-01-01T01:14:46",
          "1970-01-01T01:48:06",
          "1970-01-01T01:48:06",
          "1970-01-01T01:48:06",
          "1970-01-01T04:17:38",
          "1970-01-01T04:17:38",
          "1970-01-01T04:50:58",
          "1970-01-01T04:50:58",
          "1970-01-01T04:50:58",
          "1970-01-01T07:20:30",
          "1970-01-01T07:20:30",
          "1970-01-01T07:53:50",
          "1970-01-01T07:53:50",
          "1970-01-01T07:53:50",
          "1970-01-01T10:23:22",
          "1970-01-01T10:23:22",
          "1970-01-01T10:56:42",
          "1970-01-01T10:56:42",
          "1970-01-01T10:56:42",
          "1970-01-01T13:26:14",
          "1970-01-01T13:26:14",
          "1970-01-01T13:59:34",
          "1970-01-01T13:59:34",
          "1970-01-01T13:59:34",
          "1970-01-01T16:29:06",
          "1970-01-01T16:29:06",
          "1970-01-01T17:02:26",
          "1970-01-01T17:02:26",
          "1970-01-01T17:02:26",
          "1970-01-01T19:40:26",
          "1970-01-01T19:40:26",
          "1970-01-01T20:13:46",
          "1970-01-01T20:13:46",
          "1970-01-01T20:13:46",
          "1970-01-01T23:08:14",
          "1970-01-01T23:08:14",
          "1970-01-01T23:41:34",
          "1970-01-01T23:41:34",
          "1970-01-01T23:41:34",
          "1970-01-02T02:36:02",
          "1970-01-02T02:36:02",
          "1970-01-02T03:09:22",
          "1970-01-02T03:09:22",
          "1970-01-02T03:09:22",
          "1970-01-01T01:14:46",
          "1970-01-01T01:14:46",
          "1970-01-01T01:48:06",
          "1970-01-01T01:48:06",
          "1970-01-01T01:48:06",
          "1970-01-01T04:17:38",
          "1970-01-01T04:17:38",
          "1970-01-01T04:50:58",
          "1970-01-01T04:50:58",
          "1970-01-01T04:50:58",
          "1970-01-01T07:20:30",
          "1970-01-01T07:20:30",
          "1970-01-01T07:53:50",
          "1970-01-01T07:53:50",
          "1970-01-01T07:53:50",
          "1970-01-01T10:23:22",
          "1970-01-01T10:23:22",
          "1970-01-01T10:56:42",
          "1970-01-01T10:56:42",
          "1970-01-01T10:56:42",
          "1970-01-01T13:26:14",
          "1970-01-01T13:26:14",
          "1970-01-01T13:59:34",
          "1970-01-01T13:59:34",
          "1970-01-01T13:59:34",
          "1970-01-01T16:29:06",
          "1970-01-01T16:29:06",
          "1970-01-01T17:02:26",
          "1970-01-01T17:02:26",
          "1970-01-01T17:02:26",
          "1970-01-01T19:40:26",
          "1970-01-01T19:40:26",
          "1970-01-01T20:13:46",
          "1970-01-01T20:13:46",
          "1970-01-01T20:13:46",
          "1970-01-01T23:08:14",
          "1970-01-01T23:08:14",
          "1970-01-01T23:41:34",
          "1970-01-01T23:41:34",
          "1970-01-01T23:41:34",
          "1970-01-02T02:36:02",
          "1970-01-02T02:36:02",
          "1970-01-02T03:09:22",
          "1970-01-02T03:09:22",
          "1970-01-02T03:09:22"
         ],
         "y": [
          "barge_1",
          "barge_1",
          "barge_1",
          "barge_1",
          null,
          "barge_1",
          "barge_1",
          "barge_1",
          "barge_1",
          null,
          "barge_1",
          "barge_1",
          "barge_1",
          "barge_1",
          null,
          "barge_1",
          "barge_1",
          "barge_1",
          "barge_1",
          null,
          "barge_1",
          "barge_1",
          "barge_1",
          "barge_1",
          null,
          "barge_1",
          "barge_1",
          "barge_1",
          "barge_1",
          null,
          "barge_1",
          "barge_1",
          "barge_1",
          "barge_1",
          null,
          "barge_1",
          "barge_1",
          "barge_1",
          "barge_1",
          null,
          "barge_1",
          "barge_1",
          "barge_1",
          "barge_1",
          null,
          "cutter",
          "cutter",
          "cutter",
          "cutter",
          null,
          "cutter",
          "cutter",
          "cutter",
          "cutter",
          null,
          "cutter",
          "cutter",
          "cutter",
          "cutter",
          null,
          "cutter",
          "cutter",
          "cutter",
          "cutter",
          null,
          "cutter",
          "cutter",
          "cutter",
          "cutter",
          null,
          "cutter",
          "cutter",
          "cutter",
          "cutter",
          null,
          "cutter",
          "cutter",
          "cutter",
          "cutter",
          null,
          "cutter",
          "cutter",
          "cutter",
          "cutter",
          null,
          "cutter",
          "cutter",
          "cutter",
          "cutter",
          null
         ]
        },
        {
         "connectgaps": false,
         "hoverinfo": "y+name",
         "line": {
          "color": "rgb(123,67,245)",
          "width": 10
         },
         "mode": "lines",
         "name": "loading:barge_0",
         "type": "scatter",
         "x": [
          "1970-01-01T01:48:06",
          "1970-01-01T01:48:06",
          "1970-01-01T02:21:26",
          "1970-01-01T02:21:26",
          "1970-01-01T02:21:26",
          "1970-01-01T05:15:54",
          "1970-01-01T05:15:54",
          "1970-01-01T05:49:14",
          "1970-01-01T05:49:14",
          "1970-01-01T05:49:14",
          "1970-01-01T08:43:42",
          "1970-01-01T08:43:42",
          "1970-01-01T09:17:02",
          "1970-01-01T09:17:02",
          "1970-01-01T09:17:02",
          "1970-01-01T12:11:30",
          "1970-01-01T12:11:30",
          "1970-01-01T12:44:50",
          "1970-01-01T12:44:50",
          "1970-01-01T12:44:50",
          "1970-01-01T15:39:18",
          "1970-01-01T15:39:18",
          "1970-01-01T16:12:38",
          "1970-01-01T16:12:38",
          "1970-01-01T16:12:38",
          "1970-01-01T19:07:06",
          "1970-01-01T19:07:06",
          "1970-01-01T19:40:26",
          "1970-01-01T19:40:26",
          "1970-01-01T19:40:26",
          "1970-01-01T22:34:54",
          "1970-01-01T22:34:54",
          "1970-01-01T23:08:14",
          "1970-01-01T23:08:14",
          "1970-01-01T23:08:14",
          "1970-01-02T02:02:42",
          "1970-01-02T02:02:42",
          "1970-01-02T02:36:02",
          "1970-01-02T02:36:02",
          "1970-01-02T02:36:02",
          "1970-01-01T01:48:06",
          "1970-01-01T01:48:06",
          "1970-01-01T02:21:26",
          "1970-01-01T02:21:26",
          "1970-01-01T02:21:26",
          "1970-01-01T05:15:54",
          "1970-01-01T05:15:54",
          "1970-01-01T05:49:14",
          "1970-01-01T05:49:14",
          "1970-01-01T05:49:14",
          "1970-01-01T08:43:42",
          "1970-01-01T08:43:42",
          "1970-01-01T09:17:02",
          "1970-01-01T09:17:02",
          "1970-01-01T09:17:02",
          "1970-01-01T12:11:30",
          "1970-01-01T12:11:30",
          "1970-01-01T12:44:50",
          "1970-01-01T12:44:50",
          "1970-01-01T12:44:50",
          "1970-01-01T15:39:18",
          "1970-01-01T15:39:18",
          "1970-01-01T16:12:38",
          "1970-01-01T16:12:38",
          "1970-01-01T16:12:38",
          "1970-01-01T19:07:06",
          "1970-01-01T19:07:06",
          "1970-01-01T19:40:26",
          "1970-01-01T19:40:26",
          "1970-01-01T19:40:26",
          "1970-01-01T22:34:54",
          "1970-01-01T22:34:54",
          "1970-01-01T23:08:14",
          "1970-01-01T23:08:14",
          "1970-01-01T23:08:14",
          "1970-01-02T02:02:42",
          "1970-01-02T02:02:42",
          "1970-01-02T02:36:02",
          "1970-01-02T02:36:02",
          "1970-01-02T02:36:02"
         ],
         "y": [
          "barge_0",
          "barge_0",
          "barge_0",
          "barge_0",
          null,
          "barge_0",
          "barge_0",
          "barge_0",
          "barge_0",
          null,
          "barge_0",
          "barge_0",
          "barge_0",
          "barge_0",
          null,
          "barge_0",
          "barge_0",
          "barge_0",
          "barge_0",
          null,
          "barge_0",
          "barge_0",
          "barge_0",
          "barge_0",
          null,
          "barge_0",
          "barge_0",
          "barge_0",
          "barge_0",
          null,
          "barge_0",
          "barge_0",
          "barge_0",
          "barge_0",
          null,
          "barge_0",
          "barge_0",
          "barge_0",
          "barge_0",
          null,
          "cutter",
          "cutter",
          "cutter",
          "cutter",
          null,
          "cutter",
          "cutter",
          "cutter",
          "cutter",
          null,
          "cutter",
          "cutter",
          "cutter",
          "cutter",
          null,
          "cutter",
          "cutter",
          "cutter",
          "cutter",
          null,
          "cutter",
          "cutter",
          "cutter",
          "cutter",
          null,
          "cutter",
          "cutter",
          "cutter",
          "cutter",
          null,
          "cutter",
          "cutter",
          "cutter",
          "cutter",
          null,
          "cutter",
          "cutter",
          "cutter",
          "cutter",
          null
         ]
        },
        {
         "connectgaps": false,
         "hoverinfo": "y+name",
         "line": {
          "color": "rgb(135,79,1)",
          "width": 10
         },
         "mode": "lines",
         "name": "loading:barge_2",
         "type": "scatter",
         "x": [
          "1970-01-01T02:21:26",
          "1970-01-01T02:21:26",
          "1970-01-01T02:54:46",
          "1970-01-01T02:54:46",
          "1970-01-01T02:54:46",
          "1970-01-01T06:04:10",
          "1970-01-01T06:04:10",
          "1970-01-01T06:37:30",
          "1970-01-01T06:37:30",
          "1970-01-01T06:37:30",
          "1970-01-01T09:46:54",
          "1970-01-01T09:46:54",
          "1970-01-01T10:20:14",
          "1970-01-01T10:20:14",
          "1970-01-01T10:20:14",
          "1970-01-01T13:59:34",
          "1970-01-01T13:59:34",
          "1970-01-01T14:32:54",
          "1970-01-01T14:32:54",
          "1970-01-01T14:32:54",
          "1970-01-01T17:42:18",
          "1970-01-01T17:42:18",
          "1970-01-01T18:15:38",
          "1970-01-01T18:15:38",
          "1970-01-01T18:15:38",
          "1970-01-01T21:25:02",
          "1970-01-01T21:25:02",
          "1970-01-01T21:58:22",
          "1970-01-01T21:58:22",
          "1970-01-01T21:58:22",
          "1970-01-02T01:07:46",
          "1970-01-02T01:07:46",
          "1970-01-02T01:41:06",
          "1970-01-02T01:41:06",
          "1970-01-02T01:41:06",
          "1970-01-02T04:50:30",
          "1970-01-02T04:50:30",
          "1970-01-02T05:23:50",
          "1970-01-02T05:23:50",
          "1970-01-02T05:23:50",
          "1970-01-01T02:21:26",
          "1970-01-01T02:21:26",
          "1970-01-01T02:54:46",
          "1970-01-01T02:54:46",
          "1970-01-01T02:54:46",
          "1970-01-01T06:04:10",
          "1970-01-01T06:04:10",
          "1970-01-01T06:37:30",
          "1970-01-01T06:37:30",
          "1970-01-01T06:37:30",
          "1970-01-01T09:46:54",
          "1970-01-01T09:46:54",
          "1970-01-01T10:20:14",
          "1970-01-01T10:20:14",
          "1970-01-01T10:20:14",
          "1970-01-01T13:59:34",
          "1970-01-01T13:59:34",
          "1970-01-01T14:32:54",
          "1970-01-01T14:32:54",
          "1970-01-01T14:32:54",
          "1970-01-01T17:42:18",
          "1970-01-01T17:42:18",
          "1970-01-01T18:15:38",
          "1970-01-01T18:15:38",
          "1970-01-01T18:15:38",
          "1970-01-01T21:25:02",
          "1970-01-01T21:25:02",
          "1970-01-01T21:58:22",
          "1970-01-01T21:58:22",
          "1970-01-01T21:58:22",
          "1970-01-02T01:07:46",
          "1970-01-02T01:07:46",
          "1970-01-02T01:41:06",
          "1970-01-02T01:41:06",
          "1970-01-02T01:41:06",
          "1970-01-02T04:50:30",
          "1970-01-02T04:50:30",
          "1970-01-02T05:23:50",
          "1970-01-02T05:23:50",
          "1970-01-02T05:23:50"
         ],
         "y": [
          "barge_2",
          "barge_2",
          "barge_2",
          "barge_2",
          null,
          "barge_2",
          "barge_2",
          "barge_2",
          "barge_2",
          null,
          "barge_2",
          "barge_2",
          "barge_2",
          "barge_2",
          null,
          "barge_2",
          "barge_2",
          "barge_2",
          "barge_2",
          null,
          "barge_2",
          "barge_2",
          "barge_2",
          "barge_2",
          null,
          "barge_2",
          "barge_2",
          "barge_2",
          "barge_2",
          null,
          "barge_2",
          "barge_2",
          "barge_2",
          "barge_2",
          null,
          "barge_2",
          "barge_2",
          "barge_2",
          "barge_2",
          null,
          "cutter",
          "cutter",
          "cutter",
          "cutter",
          null,
          "cutter",
          "cutter",
          "cutter",
          "cutter",
          null,
          "cutter",
          "cutter",
          "cutter",
          "cutter",
          null,
          "cutter",
          "cutter",
          "cutter",
          "cutter",
          null,
          "cutter",
          "cutter",
          "cutter",
          "cutter",
          null,
          "cutter",
          "cutter",
          "cutter",
          "cutter",
          null,
          "cutter",
          "cutter",
          "cutter",
          "cutter",
          null,
          "cutter",
          "cutter",
          "cutter",
          "cutter",
          null
         ]
        },
        {
         "connectgaps": false,
         "hoverinfo": "y+name",
         "line": {
          "color": "rgb(147,91,13)",
          "width": 10
         },
         "mode": "lines",
         "name": "unloading:barge_1",
         "type": "scatter",
         "x": [
          "1970-01-01T02:25:29",
          "1970-01-01T02:25:29",
          "1970-01-01T03:02:52",
          "1970-01-01T03:02:52",
          "1970-01-01T03:02:52",
          "1970-01-01T05:28:21",
          "1970-01-01T05:28:21",
          "1970-01-01T06:05:44",
          "1970-01-01T06:05:44",
          "1970-01-01T06:05:44",
          "1970-01-01T08:31:13",
          "1970-01-01T08:31:13",
          "1970-01-01T09:08:36",
          "1970-01-01T09:08:36",
          "1970-01-01T09:08:36",
          "1970-01-01T11:34:05",
          "1970-01-01T11:34:05",
          "1970-01-01T12:11:28",
          "1970-01-01T12:11:28",
          "1970-01-01T12:11:28",
          "1970-01-01T14:36:57",
          "1970-01-01T14:36:57",
          "1970-01-01T15:14:20",
          "1970-01-01T15:14:20",
          "1970-01-01T15:14:20",
          "1970-01-01T17:39:49",
          "1970-01-01T17:39:49",
          "1970-01-01T18:17:12",
          "1970-01-01T18:17:12",
          "1970-01-01T18:17:12",
          "1970-01-01T20:51:09",
          "1970-01-01T20:51:09",
          "1970-01-01T21:28:32",
          "1970-01-01T21:28:32",
          "1970-01-01T21:28:32",
          "1970-01-02T00:18:57",
          "1970-01-02T00:18:57",
          "1970-01-02T00:56:20",
          "1970-01-02T00:56:20",
          "1970-01-02T00:56:20",
          "1970-01-02T03:46:45",
          "1970-01-02T03:46:45",
          "1970-01-02T04:24:08",
          "1970-01-02T04:24:08",
          "1970-01-02T04:24:08",
          "1970-01-01T02:25:29",
          "1970-01-01T02:25:29",
          "1970-01-01T03:02:52",
          "1970-01-01T03:02:52",
          "1970-01-01T03:02:52",
          "1970-01-01T05:28:21",
          "1970-01-01T05:28:21",
          "1970-01-01T06:05:44",
          "1970-01-01T06:05:44",
          "1970-01-01T06:05:44",
          "1970-01-01T08:31:13",
          "1970-01-01T08:31:13",
          "1970-01-01T09:08:36",
          "1970-01-01T09:08:36",
          "1970-01-01T09:08:36",
          "1970-01-01T11:34:05",
          "1970-01-01T11:34:05",
          "1970-01-01T12:11:28",
          "1970-01-01T12:11:28",
          "1970-01-01T12:11:28",
          "1970-01-01T14:36:57",
          "1970-01-01T14:36:57",
          "1970-01-01T15:14:20",
          "1970-01-01T15:14:20",
          "1970-01-01T15:14:20",
          "1970-01-01T17:39:49",
          "1970-01-01T17:39:49",
          "1970-01-01T18:17:12",
          "1970-01-01T18:17:12",
          "1970-01-01T18:17:12",
          "1970-01-01T20:51:09",
          "1970-01-01T20:51:09",
          "1970-01-01T21:28:32",
          "1970-01-01T21:28:32",
          "1970-01-01T21:28:32",
          "1970-01-02T00:18:57",
          "1970-01-02T00:18:57",
          "1970-01-02T00:56:20",
          "1970-01-02T00:56:20",
          "1970-01-02T00:56:20",
          "1970-01-02T03:46:45",
          "1970-01-02T03:46:45",
          "1970-01-02T04:24:08",
          "1970-01-02T04:24:08",
          "1970-01-02T04:24:08"
         ],
         "y": [
          "barge_1",
          "barge_1",
          "barge_1",
          "barge_1",
          null,
          "barge_1",
          "barge_1",
          "barge_1",
          "barge_1",
          null,
          "barge_1",
          "barge_1",
          "barge_1",
          "barge_1",
          null,
          "barge_1",
          "barge_1",
          "barge_1",
          "barge_1",
          null,
          "barge_1",
          "barge_1",
          "barge_1",
          "barge_1",
          null,
          "barge_1",
          "barge_1",
          "barge_1",
          "barge_1",
          null,
          "barge_1",
          "barge_1",
          "barge_1",
          "barge_1",
          null,
          "barge_1",
          "barge_1",
          "barge_1",
          "barge_1",
          null,
          "barge_1",
          "barge_1",
          "barge_1",
          "barge_1",
          null,
          "to_site",
          "to_site",
          "to_site",
          "to_site",
          null,
          "to_site",
          "to_site",
          "to_site",
          "to_site",
          null,
          "to_site",
          "to_site",
          "to_site",
          "to_site",
          null,
          "to_site",
          "to_site",
          "to_site",
          "to_site",
          null,
          "to_site",
          "to_site",
          "to_site",
          "to_site",
          null,
          "to_site",
          "to_site",
          "to_site",
          "to_site",
          null,
          "to_site",
          "to_site",
          "to_site",
          "to_site",
          null,
          "to_site",
          "to_site",
          "to_site",
          "to_site",
          null,
          "to_site",
          "to_site",
          "to_site",
          "to_site",
          null
         ]
        },
        {
         "connectgaps": false,
         "hoverinfo": "y+name",
         "line": {
          "color": "rgb(159,103,25)",
          "width": 10
         },
         "mode": "lines",
         "name": "unloading:barge_2",
         "type": "scatter",
         "x": [
          "1970-01-01T03:42:07",
          "1970-01-01T03:42:07",
          "1970-01-01T04:29:28",
          "1970-01-01T04:29:28",
          "1970-01-01T04:29:28",
          "1970-01-01T07:24:51",
          "1970-01-01T07:24:51",
          "1970-01-01T08:12:12",
          "1970-01-01T08:12:12",
          "1970-01-01T08:12:12",
          "1970-01-01T11:07:35",
          "1970-01-01T11:07:35",
          "1970-01-01T11:54:56",
          "1970-01-01T11:54:56",
          "1970-01-01T11:54:56",
          "1970-01-01T15:20:15",
          "1970-01-01T15:20:15",
          "1970-01-01T16:07:36",
          "1970-01-01T16:07:36",
          "1970-01-01T16:07:36",
          "1970-01-01T19:02:59",
          "1970-01-01T19:02:59",
          "1970-01-01T19:50:20",
          "1970-01-01T19:50:20",
          "1970-01-01T19:50:20",
          "1970-01-01T22:45:43",
          "1970-01-01T22:45:43",
          "1970-01-01T23:33:04",
          "1970-01-01T23:33:04",
          "1970-01-01T23:33:04",
          "1970-01-02T02:28:27",
          "1970-01-02T02:28:27",
          "1970-01-02T03:15:48",
          "1970-01-02T03:15:48",
          "1970-01-02T03:15:48",
          "1970-01-02T06:11:11",
          "1970-01-02T06:11:11",
          "1970-01-02T06:58:32",
          "1970-01-02T06:58:32",
          "1970-01-02T06:58:32",
          "1970-01-01T03:42:07",
          "1970-01-01T03:42:07",
          "1970-01-01T04:29:28",
          "1970-01-01T04:29:28",
          "1970-01-01T04:29:28",
          "1970-01-01T07:24:51",
          "1970-01-01T07:24:51",
          "1970-01-01T08:12:12",
          "1970-01-01T08:12:12",
          "1970-01-01T08:12:12",
          "1970-01-01T11:07:35",
          "1970-01-01T11:07:35",
          "1970-01-01T11:54:56",
          "1970-01-01T11:54:56",
          "1970-01-01T11:54:56",
          "1970-01-01T15:20:15",
          "1970-01-01T15:20:15",
          "1970-01-01T16:07:36",
          "1970-01-01T16:07:36",
          "1970-01-01T16:07:36",
          "1970-01-01T19:02:59",
          "1970-01-01T19:02:59",
          "1970-01-01T19:50:20",
          "1970-01-01T19:50:20",
          "1970-01-01T19:50:20",
          "1970-01-01T22:45:43",
          "1970-01-01T22:45:43",
          "1970-01-01T23:33:04",
          "1970-01-01T23:33:04",
          "1970-01-01T23:33:04",
          "1970-01-02T02:28:27",
          "1970-01-02T02:28:27",
          "1970-01-02T03:15:48",
          "1970-01-02T03:15:48",
          "1970-01-02T03:15:48",
          "1970-01-02T06:11:11",
          "1970-01-02T06:11:11",
          "1970-01-02T06:58:32",
          "1970-01-02T06:58:32",
          "1970-01-02T06:58:32"
         ],
         "y": [
          "barge_2",
          "barge_2",
          "barge_2",
          "barge_2",
          null,
          "barge_2",
          "barge_2",
          "barge_2",
          "barge_2",
          null,
          "barge_2",
          "barge_2",
          "barge_2",
          "barge_2",
          null,
          "barge_2",
          "barge_2",
          "barge_2",
          "barge_2",
          null,
          "barge_2",
          "barge_2",
          "barge_2",
          "barge_2",
          null,
          "barge_2",
          "barge_2",
          "barge_2",
          "barge_2",
          null,
          "barge_2",
          "barge_2",
          "barge_2",
          "barge_2",
          null,
          "barge_2",
          "barge_2",
          "barge_2",
          "barge_2",
          null,
          "to_site",
          "to_site",
          "to_site",
          "to_site",
          null,
          "to_site",
          "to_site",
          "to_site",
          "to_site",
          null,
          "to_site",
          "to_site",
          "to_site",
          "to_site",
          null,
          "to_site",
          "to_site",
          "to_site",
          "to_site",
          null,
          "to_site",
          "to_site",
          "to_site",
          "to_site",
          null,
          "to_site",
          "to_site",
          "to_site",
          "to_site",
          null,
          "to_site",
          "to_site",
          "to_site",
          "to_site",
          null,
          "to_site",
          "to_site",
          "to_site",
          "to_site",
          null
         ]
        },
        {
         "connectgaps": false,
         "hoverinfo": "y+name",
         "line": {
          "color": "rgb(171,115,37)",
          "width": 10
         },
         "mode": "lines",
         "name": "unloading:barge_0",
         "type": "scatter",
         "x": [
          "1970-01-01T03:05:03",
          "1970-01-01T03:05:03",
          "1970-01-01T03:48:40",
          "1970-01-01T03:48:40",
          "1970-01-01T03:48:40",
          "1970-01-01T06:32:51",
          "1970-01-01T06:32:51",
          "1970-01-01T07:16:28",
          "1970-01-01T07:16:28",
          "1970-01-01T07:16:28",
          "1970-01-01T10:00:39",
          "1970-01-01T10:00:39",
          "1970-01-01T10:44:16",
          "1970-01-01T10:44:16",
          "1970-01-01T10:44:16",
          "1970-01-01T13:28:27",
          "1970-01-01T13:28:27",
          "1970-01-01T14:12:04",
          "1970-01-01T14:12:04",
          "1970-01-01T14:12:04",
          "1970-01-01T16:56:15",
          "1970-01-01T16:56:15",
          "1970-01-01T17:39:52",
          "1970-01-01T17:39:52",
          "1970-01-01T17:39:52",
          "1970-01-01T20:24:03",
          "1970-01-01T20:24:03",
          "1970-01-01T21:07:40",
          "1970-01-01T21:07:40",
          "1970-01-01T21:07:40",
          "1970-01-01T23:51:51",
          "1970-01-01T23:51:51",
          "1970-01-02T00:35:28",
          "1970-01-02T00:35:28",
          "1970-01-02T00:35:28",
          "1970-01-02T03:19:39",
          "1970-01-02T03:19:39",
          "1970-01-02T04:03:16",
          "1970-01-02T04:03:16",
          "1970-01-02T04:03:16",
          "1970-01-01T03:05:03",
          "1970-01-01T03:05:03",
          "1970-01-01T03:48:40",
          "1970-01-01T03:48:40",
          "1970-01-01T03:48:40",
          "1970-01-01T06:32:51",
          "1970-01-01T06:32:51",
          "1970-01-01T07:16:28",
          "1970-01-01T07:16:28",
          "1970-01-01T07:16:28",
          "1970-01-01T10:00:39",
          "1970-01-01T10:00:39",
          "1970-01-01T10:44:16",
          "1970-01-01T10:44:16",
          "1970-01-01T10:44:16",
          "1970-01-01T13:28:27",
          "1970-01-01T13:28:27",
          "1970-01-01T14:12:04",
          "1970-01-01T14:12:04",
          "1970-01-01T14:12:04",
          "1970-01-01T16:56:15",
          "1970-01-01T16:56:15",
          "1970-01-01T17:39:52",
          "1970-01-01T17:39:52",
          "1970-01-01T17:39:52",
          "1970-01-01T20:24:03",
          "1970-01-01T20:24:03",
          "1970-01-01T21:07:40",
          "1970-01-01T21:07:40",
          "1970-01-01T21:07:40",
          "1970-01-01T23:51:51",
          "1970-01-01T23:51:51",
          "1970-01-02T00:35:28",
          "1970-01-02T00:35:28",
          "1970-01-02T00:35:28",
          "1970-01-02T03:19:39",
          "1970-01-02T03:19:39",
          "1970-01-02T04:03:16",
          "1970-01-02T04:03:16",
          "1970-01-02T04:03:16"
         ],
         "y": [
          "barge_0",
          "barge_0",
          "barge_0",
          "barge_0",
          null,
          "barge_0",
          "barge_0",
          "barge_0",
          "barge_0",
          null,
          "barge_0",
          "barge_0",
          "barge_0",
          "barge_0",
          null,
          "barge_0",
          "barge_0",
          "barge_0",
          "barge_0",
          null,
          "barge_0",
          "barge_0",
          "barge_0",
          "barge_0",
          null,
          "barge_0",
          "barge_0",
          "barge_0",
          "barge_0",
          null,
          "barge_0",
          "barge_0",
          "barge_0",
          "barge_0",
          null,
          "barge_0",
          "barge_0",
          "barge_0",
          "barge_0",
          null,
          "to_site",
          "to_site",
          "to_site",
          "to_site",
          null,
          "to_site",
          "to_site",
          "to_site",
          "to_site",
          null,
          "to_site",
          "to_site",
          "to_site",
          "to_site",
          null,
          "to_site",
          "to_site",
          "to_site",
          "to_site",
          null,
          "to_site",
          "to_site",
          "to_site",
          "to_site",
          null,
          "to_site",
          "to_site",
          "to_site",
          "to_site",
          null,
          "to_site",
          "to_site",
          "to_site",
          "to_site",
          null,
          "to_site",
          "to_site",
          "to_site",
          "to_site",
          null
         ]
        }
       ],
       "layout": {
        "hovermode": "closest",
        "legend": {
         "orientation": "h",
         "x": 0,
         "y": -0.2
        },
        "template": {
         "data": {
          "bar": [
           {
            "error_x": {
             "color": "#2a3f5f"
            },
            "error_y": {
             "color": "#2a3f5f"
            },
            "marker": {
             "line": {
              "color": "#E5ECF6",
              "width": 0.5
             },
             "pattern": {
              "fillmode": "overlay",
              "size": 10,
              "solidity": 0.2
             }
            },
            "type": "bar"
           }
          ],
          "barpolar": [
           {
            "marker": {
             "line": {
              "color": "#E5ECF6",
              "width": 0.5
             },
             "pattern": {
              "fillmode": "overlay",
              "size": 10,
              "solidity": 0.2
             }
            },
            "type": "barpolar"
           }
          ],
          "carpet": [
           {
            "aaxis": {
             "endlinecolor": "#2a3f5f",
             "gridcolor": "white",
             "linecolor": "white",
             "minorgridcolor": "white",
             "startlinecolor": "#2a3f5f"
            },
            "baxis": {
             "endlinecolor": "#2a3f5f",
             "gridcolor": "white",
             "linecolor": "white",
             "minorgridcolor": "white",
             "startlinecolor": "#2a3f5f"
            },
            "type": "carpet"
           }
          ],
          "choropleth": [
           {
            "colorbar": {
             "outlinewidth": 0,
             "ticks": ""
            },
            "type": "choropleth"
           }
          ],
          "contour": [
           {
            "colorbar": {
             "outlinewidth": 0,
             "ticks": ""
            },
            "colorscale": [
             [
              0,
              "#0d0887"
             ],
             [
              0.1111111111111111,
              "#46039f"
             ],
             [
              0.2222222222222222,
              "#7201a8"
             ],
             [
              0.3333333333333333,
              "#9c179e"
             ],
             [
              0.4444444444444444,
              "#bd3786"
             ],
             [
              0.5555555555555556,
              "#d8576b"
             ],
             [
              0.6666666666666666,
              "#ed7953"
             ],
             [
              0.7777777777777778,
              "#fb9f3a"
             ],
             [
              0.8888888888888888,
              "#fdca26"
             ],
             [
              1,
              "#f0f921"
             ]
            ],
            "type": "contour"
           }
          ],
          "contourcarpet": [
           {
            "colorbar": {
             "outlinewidth": 0,
             "ticks": ""
            },
            "type": "contourcarpet"
           }
          ],
          "heatmap": [
           {
            "colorbar": {
             "outlinewidth": 0,
             "ticks": ""
            },
            "colorscale": [
             [
              0,
              "#0d0887"
             ],
             [
              0.1111111111111111,
              "#46039f"
             ],
             [
              0.2222222222222222,
              "#7201a8"
             ],
             [
              0.3333333333333333,
              "#9c179e"
             ],
             [
              0.4444444444444444,
              "#bd3786"
             ],
             [
              0.5555555555555556,
              "#d8576b"
             ],
             [
              0.6666666666666666,
              "#ed7953"
             ],
             [
              0.7777777777777778,
              "#fb9f3a"
             ],
             [
              0.8888888888888888,
              "#fdca26"
             ],
             [
              1,
              "#f0f921"
             ]
            ],
            "type": "heatmap"
           }
          ],
          "heatmapgl": [
           {
            "colorbar": {
             "outlinewidth": 0,
             "ticks": ""
            },
            "colorscale": [
             [
              0,
              "#0d0887"
             ],
             [
              0.1111111111111111,
              "#46039f"
             ],
             [
              0.2222222222222222,
              "#7201a8"
             ],
             [
              0.3333333333333333,
              "#9c179e"
             ],
             [
              0.4444444444444444,
              "#bd3786"
             ],
             [
              0.5555555555555556,
              "#d8576b"
             ],
             [
              0.6666666666666666,
              "#ed7953"
             ],
             [
              0.7777777777777778,
              "#fb9f3a"
             ],
             [
              0.8888888888888888,
              "#fdca26"
             ],
             [
              1,
              "#f0f921"
             ]
            ],
            "type": "heatmapgl"
           }
          ],
          "histogram": [
           {
            "marker": {
             "pattern": {
              "fillmode": "overlay",
              "size": 10,
              "solidity": 0.2
             }
            },
            "type": "histogram"
           }
          ],
          "histogram2d": [
           {
            "colorbar": {
             "outlinewidth": 0,
             "ticks": ""
            },
            "colorscale": [
             [
              0,
              "#0d0887"
             ],
             [
              0.1111111111111111,
              "#46039f"
             ],
             [
              0.2222222222222222,
              "#7201a8"
             ],
             [
              0.3333333333333333,
              "#9c179e"
             ],
             [
              0.4444444444444444,
              "#bd3786"
             ],
             [
              0.5555555555555556,
              "#d8576b"
             ],
             [
              0.6666666666666666,
              "#ed7953"
             ],
             [
              0.7777777777777778,
              "#fb9f3a"
             ],
             [
              0.8888888888888888,
              "#fdca26"
             ],
             [
              1,
              "#f0f921"
             ]
            ],
            "type": "histogram2d"
           }
          ],
          "histogram2dcontour": [
           {
            "colorbar": {
             "outlinewidth": 0,
             "ticks": ""
            },
            "colorscale": [
             [
              0,
              "#0d0887"
             ],
             [
              0.1111111111111111,
              "#46039f"
             ],
             [
              0.2222222222222222,
              "#7201a8"
             ],
             [
              0.3333333333333333,
              "#9c179e"
             ],
             [
              0.4444444444444444,
              "#bd3786"
             ],
             [
              0.5555555555555556,
              "#d8576b"
             ],
             [
              0.6666666666666666,
              "#ed7953"
             ],
             [
              0.7777777777777778,
              "#fb9f3a"
             ],
             [
              0.8888888888888888,
              "#fdca26"
             ],
             [
              1,
              "#f0f921"
             ]
            ],
            "type": "histogram2dcontour"
           }
          ],
          "mesh3d": [
           {
            "colorbar": {
             "outlinewidth": 0,
             "ticks": ""
            },
            "type": "mesh3d"
           }
          ],
          "parcoords": [
           {
            "line": {
             "colorbar": {
              "outlinewidth": 0,
              "ticks": ""
             }
            },
            "type": "parcoords"
           }
          ],
          "pie": [
           {
            "automargin": true,
            "type": "pie"
           }
          ],
          "scatter": [
           {
            "fillpattern": {
             "fillmode": "overlay",
             "size": 10,
             "solidity": 0.2
            },
            "type": "scatter"
           }
          ],
          "scatter3d": [
           {
            "line": {
             "colorbar": {
              "outlinewidth": 0,
              "ticks": ""
             }
            },
            "marker": {
             "colorbar": {
              "outlinewidth": 0,
              "ticks": ""
             }
            },
            "type": "scatter3d"
           }
          ],
          "scattercarpet": [
           {
            "marker": {
             "colorbar": {
              "outlinewidth": 0,
              "ticks": ""
             }
            },
            "type": "scattercarpet"
           }
          ],
          "scattergeo": [
           {
            "marker": {
             "colorbar": {
              "outlinewidth": 0,
              "ticks": ""
             }
            },
            "type": "scattergeo"
           }
          ],
          "scattergl": [
           {
            "marker": {
             "colorbar": {
              "outlinewidth": 0,
              "ticks": ""
             }
            },
            "type": "scattergl"
           }
          ],
          "scattermapbox": [
           {
            "marker": {
             "colorbar": {
              "outlinewidth": 0,
              "ticks": ""
             }
            },
            "type": "scattermapbox"
           }
          ],
          "scatterpolar": [
           {
            "marker": {
             "colorbar": {
              "outlinewidth": 0,
              "ticks": ""
             }
            },
            "type": "scatterpolar"
           }
          ],
          "scatterpolargl": [
           {
            "marker": {
             "colorbar": {
              "outlinewidth": 0,
              "ticks": ""
             }
            },
            "type": "scatterpolargl"
           }
          ],
          "scatterternary": [
           {
            "marker": {
             "colorbar": {
              "outlinewidth": 0,
              "ticks": ""
             }
            },
            "type": "scatterternary"
           }
          ],
          "surface": [
           {
            "colorbar": {
             "outlinewidth": 0,
             "ticks": ""
            },
            "colorscale": [
             [
              0,
              "#0d0887"
             ],
             [
              0.1111111111111111,
              "#46039f"
             ],
             [
              0.2222222222222222,
              "#7201a8"
             ],
             [
              0.3333333333333333,
              "#9c179e"
             ],
             [
              0.4444444444444444,
              "#bd3786"
             ],
             [
              0.5555555555555556,
              "#d8576b"
             ],
             [
              0.6666666666666666,
              "#ed7953"
             ],
             [
              0.7777777777777778,
              "#fb9f3a"
             ],
             [
              0.8888888888888888,
              "#fdca26"
             ],
             [
              1,
              "#f0f921"
             ]
            ],
            "type": "surface"
           }
          ],
          "table": [
           {
            "cells": {
             "fill": {
              "color": "#EBF0F8"
             },
             "line": {
              "color": "white"
             }
            },
            "header": {
             "fill": {
              "color": "#C8D4E3"
             },
             "line": {
              "color": "white"
             }
            },
            "type": "table"
           }
          ]
         },
         "layout": {
          "annotationdefaults": {
           "arrowcolor": "#2a3f5f",
           "arrowhead": 0,
           "arrowwidth": 1
          },
          "autotypenumbers": "strict",
          "coloraxis": {
           "colorbar": {
            "outlinewidth": 0,
            "ticks": ""
           }
          },
          "colorscale": {
           "diverging": [
            [
             0,
             "#8e0152"
            ],
            [
             0.1,
             "#c51b7d"
            ],
            [
             0.2,
             "#de77ae"
            ],
            [
             0.3,
             "#f1b6da"
            ],
            [
             0.4,
             "#fde0ef"
            ],
            [
             0.5,
             "#f7f7f7"
            ],
            [
             0.6,
             "#e6f5d0"
            ],
            [
             0.7,
             "#b8e186"
            ],
            [
             0.8,
             "#7fbc41"
            ],
            [
             0.9,
             "#4d9221"
            ],
            [
             1,
             "#276419"
            ]
           ],
           "sequential": [
            [
             0,
             "#0d0887"
            ],
            [
             0.1111111111111111,
             "#46039f"
            ],
            [
             0.2222222222222222,
             "#7201a8"
            ],
            [
             0.3333333333333333,
             "#9c179e"
            ],
            [
             0.4444444444444444,
             "#bd3786"
            ],
            [
             0.5555555555555556,
             "#d8576b"
            ],
            [
             0.6666666666666666,
             "#ed7953"
            ],
            [
             0.7777777777777778,
             "#fb9f3a"
            ],
            [
             0.8888888888888888,
             "#fdca26"
            ],
            [
             1,
             "#f0f921"
            ]
           ],
           "sequentialminus": [
            [
             0,
             "#0d0887"
            ],
            [
             0.1111111111111111,
             "#46039f"
            ],
            [
             0.2222222222222222,
             "#7201a8"
            ],
            [
             0.3333333333333333,
             "#9c179e"
            ],
            [
             0.4444444444444444,
             "#bd3786"
            ],
            [
             0.5555555555555556,
             "#d8576b"
            ],
            [
             0.6666666666666666,
             "#ed7953"
            ],
            [
             0.7777777777777778,
             "#fb9f3a"
            ],
            [
             0.8888888888888888,
             "#fdca26"
            ],
            [
             1,
             "#f0f921"
            ]
           ]
          },
          "colorway": [
           "#636efa",
           "#EF553B",
           "#00cc96",
           "#ab63fa",
           "#FFA15A",
           "#19d3f3",
           "#FF6692",
           "#B6E880",
           "#FF97FF",
           "#FECB52"
          ],
          "font": {
           "color": "#2a3f5f"
          },
          "geo": {
           "bgcolor": "white",
           "lakecolor": "white",
           "landcolor": "#E5ECF6",
           "showlakes": true,
           "showland": true,
           "subunitcolor": "white"
          },
          "hoverlabel": {
           "align": "left"
          },
          "hovermode": "closest",
          "mapbox": {
           "style": "light"
          },
          "paper_bgcolor": "white",
          "plot_bgcolor": "#E5ECF6",
          "polar": {
           "angularaxis": {
            "gridcolor": "white",
            "linecolor": "white",
            "ticks": ""
           },
           "bgcolor": "#E5ECF6",
           "radialaxis": {
            "gridcolor": "white",
            "linecolor": "white",
            "ticks": ""
           }
          },
          "scene": {
           "xaxis": {
            "backgroundcolor": "#E5ECF6",
            "gridcolor": "white",
            "gridwidth": 2,
            "linecolor": "white",
            "showbackground": true,
            "ticks": "",
            "zerolinecolor": "white"
           },
           "yaxis": {
            "backgroundcolor": "#E5ECF6",
            "gridcolor": "white",
            "gridwidth": 2,
            "linecolor": "white",
            "showbackground": true,
            "ticks": "",
            "zerolinecolor": "white"
           },
           "zaxis": {
            "backgroundcolor": "#E5ECF6",
            "gridcolor": "white",
            "gridwidth": 2,
            "linecolor": "white",
            "showbackground": true,
            "ticks": "",
            "zerolinecolor": "white"
           }
          },
          "shapedefaults": {
           "line": {
            "color": "#2a3f5f"
           }
          },
          "ternary": {
           "aaxis": {
            "gridcolor": "white",
            "linecolor": "white",
            "ticks": ""
           },
           "baxis": {
            "gridcolor": "white",
            "linecolor": "white",
            "ticks": ""
           },
           "bgcolor": "#E5ECF6",
           "caxis": {
            "gridcolor": "white",
            "linecolor": "white",
            "ticks": ""
           }
          },
          "title": {
           "x": 0.05
          },
          "xaxis": {
           "automargin": true,
           "gridcolor": "white",
           "linecolor": "white",
           "ticks": "",
           "title": {
            "standoff": 15
           },
           "zerolinecolor": "white",
           "zerolinewidth": 2
          },
          "yaxis": {
           "automargin": true,
           "gridcolor": "white",
           "linecolor": "white",
           "ticks": "",
           "title": {
            "standoff": 15
           },
           "zerolinecolor": "white",
           "zerolinewidth": 2
          }
         }
        },
        "title": {
         "text": "GANTT Chart"
        },
        "xaxis": {
         "range": [
          "1970-01-01T00:00:00",
          "1970-01-02T06:58:32"
         ],
         "title": {
          "font": {
           "color": "#7f7f7f",
           "family": "Courier New, monospace",
           "size": 18
          },
          "text": "Time"
         }
        },
        "yaxis": {
         "title": {
          "font": {
           "color": "#7f7f7f",
           "family": "Courier New, monospace",
           "size": 18
          },
          "text": "Activities"
         }
        }
       }
      },
      "text/html": [
       "<div>                            <div id=\"43d9a273-565c-4457-960f-c5327edfd5df\" class=\"plotly-graph-div\" style=\"height:525px; width:100%;\"></div>            <script type=\"text/javascript\">                require([\"plotly\"], function(Plotly) {                    window.PLOTLYENV=window.PLOTLYENV || {};                                    if (document.getElementById(\"43d9a273-565c-4457-960f-c5327edfd5df\")) {                    Plotly.newPlot(                        \"43d9a273-565c-4457-960f-c5327edfd5df\",                        [{\"connectgaps\":false,\"hoverinfo\":\"y+name\",\"line\":{\"color\":\"rgb(187,131,53)\",\"width\":10},\"mode\":\"lines\",\"name\":\"loading:barge_0\",\"x\":[\"1970-01-01T01:48:06\",\"1970-01-01T01:48:06\",\"1970-01-01T02:21:26\",\"1970-01-01T02:21:26\",\"1970-01-01T02:21:26\",\"1970-01-01T05:15:54\",\"1970-01-01T05:15:54\",\"1970-01-01T05:49:14\",\"1970-01-01T05:49:14\",\"1970-01-01T05:49:14\",\"1970-01-01T08:43:42\",\"1970-01-01T08:43:42\",\"1970-01-01T09:17:02\",\"1970-01-01T09:17:02\",\"1970-01-01T09:17:02\",\"1970-01-01T12:11:30\",\"1970-01-01T12:11:30\",\"1970-01-01T12:44:50\",\"1970-01-01T12:44:50\",\"1970-01-01T12:44:50\",\"1970-01-01T15:39:18\",\"1970-01-01T15:39:18\",\"1970-01-01T16:12:38\",\"1970-01-01T16:12:38\",\"1970-01-01T16:12:38\",\"1970-01-01T19:07:06\",\"1970-01-01T19:07:06\",\"1970-01-01T19:40:26\",\"1970-01-01T19:40:26\",\"1970-01-01T19:40:26\",\"1970-01-01T22:34:54\",\"1970-01-01T22:34:54\",\"1970-01-01T23:08:14\",\"1970-01-01T23:08:14\",\"1970-01-01T23:08:14\",\"1970-01-02T02:02:42\",\"1970-01-02T02:02:42\",\"1970-01-02T02:36:02\",\"1970-01-02T02:36:02\",\"1970-01-02T02:36:02\",\"1970-01-01T01:48:06\",\"1970-01-01T01:48:06\",\"1970-01-01T02:21:26\",\"1970-01-01T02:21:26\",\"1970-01-01T02:21:26\",\"1970-01-01T05:15:54\",\"1970-01-01T05:15:54\",\"1970-01-01T05:49:14\",\"1970-01-01T05:49:14\",\"1970-01-01T05:49:14\",\"1970-01-01T08:43:42\",\"1970-01-01T08:43:42\",\"1970-01-01T09:17:02\",\"1970-01-01T09:17:02\",\"1970-01-01T09:17:02\",\"1970-01-01T12:11:30\",\"1970-01-01T12:11:30\",\"1970-01-01T12:44:50\",\"1970-01-01T12:44:50\",\"1970-01-01T12:44:50\",\"1970-01-01T15:39:18\",\"1970-01-01T15:39:18\",\"1970-01-01T16:12:38\",\"1970-01-01T16:12:38\",\"1970-01-01T16:12:38\",\"1970-01-01T19:07:06\",\"1970-01-01T19:07:06\",\"1970-01-01T19:40:26\",\"1970-01-01T19:40:26\",\"1970-01-01T19:40:26\",\"1970-01-01T22:34:54\",\"1970-01-01T22:34:54\",\"1970-01-01T23:08:14\",\"1970-01-01T23:08:14\",\"1970-01-01T23:08:14\",\"1970-01-02T02:02:42\",\"1970-01-02T02:02:42\",\"1970-01-02T02:36:02\",\"1970-01-02T02:36:02\",\"1970-01-02T02:36:02\"],\"y\":[\"barge_0\",\"barge_0\",\"barge_0\",\"barge_0\",null,\"barge_0\",\"barge_0\",\"barge_0\",\"barge_0\",null,\"barge_0\",\"barge_0\",\"barge_0\",\"barge_0\",null,\"barge_0\",\"barge_0\",\"barge_0\",\"barge_0\",null,\"barge_0\",\"barge_0\",\"barge_0\",\"barge_0\",null,\"barge_0\",\"barge_0\",\"barge_0\",\"barge_0\",null,\"barge_0\",\"barge_0\",\"barge_0\",\"barge_0\",null,\"barge_0\",\"barge_0\",\"barge_0\",\"barge_0\",null,\"cutter\",\"cutter\",\"cutter\",\"cutter\",null,\"cutter\",\"cutter\",\"cutter\",\"cutter\",null,\"cutter\",\"cutter\",\"cutter\",\"cutter\",null,\"cutter\",\"cutter\",\"cutter\",\"cutter\",null,\"cutter\",\"cutter\",\"cutter\",\"cutter\",null,\"cutter\",\"cutter\",\"cutter\",\"cutter\",null,\"cutter\",\"cutter\",\"cutter\",\"cutter\",null,\"cutter\",\"cutter\",\"cutter\",\"cutter\",null],\"type\":\"scatter\"},{\"connectgaps\":false,\"hoverinfo\":\"y+name\",\"line\":{\"color\":\"rgb(199,143,65)\",\"width\":10},\"mode\":\"lines\",\"name\":\"unloading:barge_0\",\"x\":[\"1970-01-01T03:05:03\",\"1970-01-01T03:05:03\",\"1970-01-01T03:48:40\",\"1970-01-01T03:48:40\",\"1970-01-01T03:48:40\",\"1970-01-01T06:32:51\",\"1970-01-01T06:32:51\",\"1970-01-01T07:16:28\",\"1970-01-01T07:16:28\",\"1970-01-01T07:16:28\",\"1970-01-01T10:00:39\",\"1970-01-01T10:00:39\",\"1970-01-01T10:44:16\",\"1970-01-01T10:44:16\",\"1970-01-01T10:44:16\",\"1970-01-01T13:28:27\",\"1970-01-01T13:28:27\",\"1970-01-01T14:12:04\",\"1970-01-01T14:12:04\",\"1970-01-01T14:12:04\",\"1970-01-01T16:56:15\",\"1970-01-01T16:56:15\",\"1970-01-01T17:39:52\",\"1970-01-01T17:39:52\",\"1970-01-01T17:39:52\",\"1970-01-01T20:24:03\",\"1970-01-01T20:24:03\",\"1970-01-01T21:07:40\",\"1970-01-01T21:07:40\",\"1970-01-01T21:07:40\",\"1970-01-01T23:51:51\",\"1970-01-01T23:51:51\",\"1970-01-02T00:35:28\",\"1970-01-02T00:35:28\",\"1970-01-02T00:35:28\",\"1970-01-02T03:19:39\",\"1970-01-02T03:19:39\",\"1970-01-02T04:03:16\",\"1970-01-02T04:03:16\",\"1970-01-02T04:03:16\",\"1970-01-01T03:05:03\",\"1970-01-01T03:05:03\",\"1970-01-01T03:48:40\",\"1970-01-01T03:48:40\",\"1970-01-01T03:48:40\",\"1970-01-01T06:32:51\",\"1970-01-01T06:32:51\",\"1970-01-01T07:16:28\",\"1970-01-01T07:16:28\",\"1970-01-01T07:16:28\",\"1970-01-01T10:00:39\",\"1970-01-01T10:00:39\",\"1970-01-01T10:44:16\",\"1970-01-01T10:44:16\",\"1970-01-01T10:44:16\",\"1970-01-01T13:28:27\",\"1970-01-01T13:28:27\",\"1970-01-01T14:12:04\",\"1970-01-01T14:12:04\",\"1970-01-01T14:12:04\",\"1970-01-01T16:56:15\",\"1970-01-01T16:56:15\",\"1970-01-01T17:39:52\",\"1970-01-01T17:39:52\",\"1970-01-01T17:39:52\",\"1970-01-01T20:24:03\",\"1970-01-01T20:24:03\",\"1970-01-01T21:07:40\",\"1970-01-01T21:07:40\",\"1970-01-01T21:07:40\",\"1970-01-01T23:51:51\",\"1970-01-01T23:51:51\",\"1970-01-02T00:35:28\",\"1970-01-02T00:35:28\",\"1970-01-02T00:35:28\",\"1970-01-02T03:19:39\",\"1970-01-02T03:19:39\",\"1970-01-02T04:03:16\",\"1970-01-02T04:03:16\",\"1970-01-02T04:03:16\"],\"y\":[\"barge_0\",\"barge_0\",\"barge_0\",\"barge_0\",null,\"barge_0\",\"barge_0\",\"barge_0\",\"barge_0\",null,\"barge_0\",\"barge_0\",\"barge_0\",\"barge_0\",null,\"barge_0\",\"barge_0\",\"barge_0\",\"barge_0\",null,\"barge_0\",\"barge_0\",\"barge_0\",\"barge_0\",null,\"barge_0\",\"barge_0\",\"barge_0\",\"barge_0\",null,\"barge_0\",\"barge_0\",\"barge_0\",\"barge_0\",null,\"barge_0\",\"barge_0\",\"barge_0\",\"barge_0\",null,\"to_site\",\"to_site\",\"to_site\",\"to_site\",null,\"to_site\",\"to_site\",\"to_site\",\"to_site\",null,\"to_site\",\"to_site\",\"to_site\",\"to_site\",null,\"to_site\",\"to_site\",\"to_site\",\"to_site\",null,\"to_site\",\"to_site\",\"to_site\",\"to_site\",null,\"to_site\",\"to_site\",\"to_site\",\"to_site\",null,\"to_site\",\"to_site\",\"to_site\",\"to_site\",null,\"to_site\",\"to_site\",\"to_site\",\"to_site\",null],\"type\":\"scatter\"},{\"connectgaps\":false,\"hoverinfo\":\"y+name\",\"line\":{\"color\":\"rgb(211,155,77)\",\"width\":10},\"mode\":\"lines\",\"name\":\"basic activity:barge_0\",\"x\":[\"1970-01-01T00:00:00\",\"1970-01-01T00:00:00\",\"1970-01-01T00:43:37\",\"1970-01-01T00:43:37\",\"1970-01-01T00:43:37\",\"1970-01-01T03:48:40\",\"1970-01-01T03:48:40\",\"1970-01-01T04:32:17\",\"1970-01-01T04:32:17\",\"1970-01-01T04:32:17\",\"1970-01-01T07:16:28\",\"1970-01-01T07:16:28\",\"1970-01-01T08:00:05\",\"1970-01-01T08:00:05\",\"1970-01-01T08:00:05\",\"1970-01-01T10:44:16\",\"1970-01-01T10:44:16\",\"1970-01-01T11:27:53\",\"1970-01-01T11:27:53\",\"1970-01-01T11:27:53\",\"1970-01-01T14:12:04\",\"1970-01-01T14:12:04\",\"1970-01-01T14:55:41\",\"1970-01-01T14:55:41\",\"1970-01-01T14:55:41\",\"1970-01-01T17:39:52\",\"1970-01-01T17:39:52\",\"1970-01-01T18:23:29\",\"1970-01-01T18:23:29\",\"1970-01-01T18:23:29\",\"1970-01-01T21:07:40\",\"1970-01-01T21:07:40\",\"1970-01-01T21:51:17\",\"1970-01-01T21:51:17\",\"1970-01-01T21:51:17\",\"1970-01-02T00:35:28\",\"1970-01-02T00:35:28\",\"1970-01-02T01:19:05\",\"1970-01-02T01:19:05\",\"1970-01-02T01:19:05\"],\"y\":[\"barge_0\",\"barge_0\",\"barge_0\",\"barge_0\",null,\"barge_0\",\"barge_0\",\"barge_0\",\"barge_0\",null,\"barge_0\",\"barge_0\",\"barge_0\",\"barge_0\",null,\"barge_0\",\"barge_0\",\"barge_0\",\"barge_0\",null,\"barge_0\",\"barge_0\",\"barge_0\",\"barge_0\",null,\"barge_0\",\"barge_0\",\"barge_0\",\"barge_0\",null,\"barge_0\",\"barge_0\",\"barge_0\",\"barge_0\",null,\"barge_0\",\"barge_0\",\"barge_0\",\"barge_0\",null],\"type\":\"scatter\"},{\"connectgaps\":false,\"hoverinfo\":\"y+name\",\"line\":{\"color\":\"rgb(223,167,89)\",\"width\":10},\"mode\":\"lines\",\"name\":\"sailing full:barge_0\",\"x\":[\"1970-01-01T02:21:26\",\"1970-01-01T02:21:26\",\"1970-01-01T03:05:03\",\"1970-01-01T03:05:03\",\"1970-01-01T03:05:03\",\"1970-01-01T05:49:14\",\"1970-01-01T05:49:14\",\"1970-01-01T06:32:51\",\"1970-01-01T06:32:51\",\"1970-01-01T06:32:51\",\"1970-01-01T09:17:02\",\"1970-01-01T09:17:02\",\"1970-01-01T10:00:39\",\"1970-01-01T10:00:39\",\"1970-01-01T10:00:39\",\"1970-01-01T12:44:50\",\"1970-01-01T12:44:50\",\"1970-01-01T13:28:27\",\"1970-01-01T13:28:27\",\"1970-01-01T13:28:27\",\"1970-01-01T16:12:38\",\"1970-01-01T16:12:38\",\"1970-01-01T16:56:15\",\"1970-01-01T16:56:15\",\"1970-01-01T16:56:15\",\"1970-01-01T19:40:26\",\"1970-01-01T19:40:26\",\"1970-01-01T20:24:03\",\"1970-01-01T20:24:03\",\"1970-01-01T20:24:03\",\"1970-01-01T23:08:14\",\"1970-01-01T23:08:14\",\"1970-01-01T23:51:51\",\"1970-01-01T23:51:51\",\"1970-01-01T23:51:51\",\"1970-01-02T02:36:02\",\"1970-01-02T02:36:02\",\"1970-01-02T03:19:39\",\"1970-01-02T03:19:39\",\"1970-01-02T03:19:39\"],\"y\":[\"barge_0\",\"barge_0\",\"barge_0\",\"barge_0\",null,\"barge_0\",\"barge_0\",\"barge_0\",\"barge_0\",null,\"barge_0\",\"barge_0\",\"barge_0\",\"barge_0\",null,\"barge_0\",\"barge_0\",\"barge_0\",\"barge_0\",null,\"barge_0\",\"barge_0\",\"barge_0\",\"barge_0\",null,\"barge_0\",\"barge_0\",\"barge_0\",\"barge_0\",null,\"barge_0\",\"barge_0\",\"barge_0\",\"barge_0\",null,\"barge_0\",\"barge_0\",\"barge_0\",\"barge_0\",null],\"type\":\"scatter\"},{\"connectgaps\":false,\"hoverinfo\":\"y+name\",\"line\":{\"color\":\"rgb(235,179,101)\",\"width\":10},\"mode\":\"lines\",\"name\":\"sailing empty:barge_0\",\"x\":[\"1970-01-01T00:43:37\",\"1970-01-01T00:43:37\",\"1970-01-01T01:27:14\",\"1970-01-01T01:27:14\",\"1970-01-01T01:27:14\",\"1970-01-01T04:32:17\",\"1970-01-01T04:32:17\",\"1970-01-01T05:15:54\",\"1970-01-01T05:15:54\",\"1970-01-01T05:15:54\",\"1970-01-01T08:00:05\",\"1970-01-01T08:00:05\",\"1970-01-01T08:43:42\",\"1970-01-01T08:43:42\",\"1970-01-01T08:43:42\",\"1970-01-01T11:27:53\",\"1970-01-01T11:27:53\",\"1970-01-01T12:11:30\",\"1970-01-01T12:11:30\",\"1970-01-01T12:11:30\",\"1970-01-01T14:55:41\",\"1970-01-01T14:55:41\",\"1970-01-01T15:39:18\",\"1970-01-01T15:39:18\",\"1970-01-01T15:39:18\",\"1970-01-01T18:23:29\",\"1970-01-01T18:23:29\",\"1970-01-01T19:07:06\",\"1970-01-01T19:07:06\",\"1970-01-01T19:07:06\",\"1970-01-01T21:51:17\",\"1970-01-01T21:51:17\",\"1970-01-01T22:34:54\",\"1970-01-01T22:34:54\",\"1970-01-01T22:34:54\",\"1970-01-02T01:19:05\",\"1970-01-02T01:19:05\",\"1970-01-02T02:02:42\",\"1970-01-02T02:02:42\",\"1970-01-02T02:02:42\"],\"y\":[\"barge_0\",\"barge_0\",\"barge_0\",\"barge_0\",null,\"barge_0\",\"barge_0\",\"barge_0\",\"barge_0\",null,\"barge_0\",\"barge_0\",\"barge_0\",\"barge_0\",null,\"barge_0\",\"barge_0\",\"barge_0\",\"barge_0\",null,\"barge_0\",\"barge_0\",\"barge_0\",\"barge_0\",null,\"barge_0\",\"barge_0\",\"barge_0\",\"barge_0\",null,\"barge_0\",\"barge_0\",\"barge_0\",\"barge_0\",null,\"barge_0\",\"barge_0\",\"barge_0\",\"barge_0\",null],\"type\":\"scatter\"},{\"connectgaps\":false,\"hoverinfo\":\"y+name\",\"line\":{\"color\":\"rgb(247,191,113)\",\"width\":10},\"mode\":\"lines\",\"name\":\"loading:barge_1\",\"x\":[\"1970-01-01T01:14:46\",\"1970-01-01T01:14:46\",\"1970-01-01T01:48:06\",\"1970-01-01T01:48:06\",\"1970-01-01T01:48:06\",\"1970-01-01T04:17:38\",\"1970-01-01T04:17:38\",\"1970-01-01T04:50:58\",\"1970-01-01T04:50:58\",\"1970-01-01T04:50:58\",\"1970-01-01T07:20:30\",\"1970-01-01T07:20:30\",\"1970-01-01T07:53:50\",\"1970-01-01T07:53:50\",\"1970-01-01T07:53:50\",\"1970-01-01T10:23:22\",\"1970-01-01T10:23:22\",\"1970-01-01T10:56:42\",\"1970-01-01T10:56:42\",\"1970-01-01T10:56:42\",\"1970-01-01T13:26:14\",\"1970-01-01T13:26:14\",\"1970-01-01T13:59:34\",\"1970-01-01T13:59:34\",\"1970-01-01T13:59:34\",\"1970-01-01T16:29:06\",\"1970-01-01T16:29:06\",\"1970-01-01T17:02:26\",\"1970-01-01T17:02:26\",\"1970-01-01T17:02:26\",\"1970-01-01T19:40:26\",\"1970-01-01T19:40:26\",\"1970-01-01T20:13:46\",\"1970-01-01T20:13:46\",\"1970-01-01T20:13:46\",\"1970-01-01T23:08:14\",\"1970-01-01T23:08:14\",\"1970-01-01T23:41:34\",\"1970-01-01T23:41:34\",\"1970-01-01T23:41:34\",\"1970-01-02T02:36:02\",\"1970-01-02T02:36:02\",\"1970-01-02T03:09:22\",\"1970-01-02T03:09:22\",\"1970-01-02T03:09:22\",\"1970-01-01T01:14:46\",\"1970-01-01T01:14:46\",\"1970-01-01T01:48:06\",\"1970-01-01T01:48:06\",\"1970-01-01T01:48:06\",\"1970-01-01T04:17:38\",\"1970-01-01T04:17:38\",\"1970-01-01T04:50:58\",\"1970-01-01T04:50:58\",\"1970-01-01T04:50:58\",\"1970-01-01T07:20:30\",\"1970-01-01T07:20:30\",\"1970-01-01T07:53:50\",\"1970-01-01T07:53:50\",\"1970-01-01T07:53:50\",\"1970-01-01T10:23:22\",\"1970-01-01T10:23:22\",\"1970-01-01T10:56:42\",\"1970-01-01T10:56:42\",\"1970-01-01T10:56:42\",\"1970-01-01T13:26:14\",\"1970-01-01T13:26:14\",\"1970-01-01T13:59:34\",\"1970-01-01T13:59:34\",\"1970-01-01T13:59:34\",\"1970-01-01T16:29:06\",\"1970-01-01T16:29:06\",\"1970-01-01T17:02:26\",\"1970-01-01T17:02:26\",\"1970-01-01T17:02:26\",\"1970-01-01T19:40:26\",\"1970-01-01T19:40:26\",\"1970-01-01T20:13:46\",\"1970-01-01T20:13:46\",\"1970-01-01T20:13:46\",\"1970-01-01T23:08:14\",\"1970-01-01T23:08:14\",\"1970-01-01T23:41:34\",\"1970-01-01T23:41:34\",\"1970-01-01T23:41:34\",\"1970-01-02T02:36:02\",\"1970-01-02T02:36:02\",\"1970-01-02T03:09:22\",\"1970-01-02T03:09:22\",\"1970-01-02T03:09:22\"],\"y\":[\"barge_1\",\"barge_1\",\"barge_1\",\"barge_1\",null,\"barge_1\",\"barge_1\",\"barge_1\",\"barge_1\",null,\"barge_1\",\"barge_1\",\"barge_1\",\"barge_1\",null,\"barge_1\",\"barge_1\",\"barge_1\",\"barge_1\",null,\"barge_1\",\"barge_1\",\"barge_1\",\"barge_1\",null,\"barge_1\",\"barge_1\",\"barge_1\",\"barge_1\",null,\"barge_1\",\"barge_1\",\"barge_1\",\"barge_1\",null,\"barge_1\",\"barge_1\",\"barge_1\",\"barge_1\",null,\"barge_1\",\"barge_1\",\"barge_1\",\"barge_1\",null,\"cutter\",\"cutter\",\"cutter\",\"cutter\",null,\"cutter\",\"cutter\",\"cutter\",\"cutter\",null,\"cutter\",\"cutter\",\"cutter\",\"cutter\",null,\"cutter\",\"cutter\",\"cutter\",\"cutter\",null,\"cutter\",\"cutter\",\"cutter\",\"cutter\",null,\"cutter\",\"cutter\",\"cutter\",\"cutter\",null,\"cutter\",\"cutter\",\"cutter\",\"cutter\",null,\"cutter\",\"cutter\",\"cutter\",\"cutter\",null,\"cutter\",\"cutter\",\"cutter\",\"cutter\",null],\"type\":\"scatter\"},{\"connectgaps\":false,\"hoverinfo\":\"y+name\",\"line\":{\"color\":\"rgb(3,203,125)\",\"width\":10},\"mode\":\"lines\",\"name\":\"unloading:barge_1\",\"x\":[\"1970-01-01T02:25:29\",\"1970-01-01T02:25:29\",\"1970-01-01T03:02:52\",\"1970-01-01T03:02:52\",\"1970-01-01T03:02:52\",\"1970-01-01T05:28:21\",\"1970-01-01T05:28:21\",\"1970-01-01T06:05:44\",\"1970-01-01T06:05:44\",\"1970-01-01T06:05:44\",\"1970-01-01T08:31:13\",\"1970-01-01T08:31:13\",\"1970-01-01T09:08:36\",\"1970-01-01T09:08:36\",\"1970-01-01T09:08:36\",\"1970-01-01T11:34:05\",\"1970-01-01T11:34:05\",\"1970-01-01T12:11:28\",\"1970-01-01T12:11:28\",\"1970-01-01T12:11:28\",\"1970-01-01T14:36:57\",\"1970-01-01T14:36:57\",\"1970-01-01T15:14:20\",\"1970-01-01T15:14:20\",\"1970-01-01T15:14:20\",\"1970-01-01T17:39:49\",\"1970-01-01T17:39:49\",\"1970-01-01T18:17:12\",\"1970-01-01T18:17:12\",\"1970-01-01T18:17:12\",\"1970-01-01T20:51:09\",\"1970-01-01T20:51:09\",\"1970-01-01T21:28:32\",\"1970-01-01T21:28:32\",\"1970-01-01T21:28:32\",\"1970-01-02T00:18:57\",\"1970-01-02T00:18:57\",\"1970-01-02T00:56:20\",\"1970-01-02T00:56:20\",\"1970-01-02T00:56:20\",\"1970-01-02T03:46:45\",\"1970-01-02T03:46:45\",\"1970-01-02T04:24:08\",\"1970-01-02T04:24:08\",\"1970-01-02T04:24:08\",\"1970-01-01T02:25:29\",\"1970-01-01T02:25:29\",\"1970-01-01T03:02:52\",\"1970-01-01T03:02:52\",\"1970-01-01T03:02:52\",\"1970-01-01T05:28:21\",\"1970-01-01T05:28:21\",\"1970-01-01T06:05:44\",\"1970-01-01T06:05:44\",\"1970-01-01T06:05:44\",\"1970-01-01T08:31:13\",\"1970-01-01T08:31:13\",\"1970-01-01T09:08:36\",\"1970-01-01T09:08:36\",\"1970-01-01T09:08:36\",\"1970-01-01T11:34:05\",\"1970-01-01T11:34:05\",\"1970-01-01T12:11:28\",\"1970-01-01T12:11:28\",\"1970-01-01T12:11:28\",\"1970-01-01T14:36:57\",\"1970-01-01T14:36:57\",\"1970-01-01T15:14:20\",\"1970-01-01T15:14:20\",\"1970-01-01T15:14:20\",\"1970-01-01T17:39:49\",\"1970-01-01T17:39:49\",\"1970-01-01T18:17:12\",\"1970-01-01T18:17:12\",\"1970-01-01T18:17:12\",\"1970-01-01T20:51:09\",\"1970-01-01T20:51:09\",\"1970-01-01T21:28:32\",\"1970-01-01T21:28:32\",\"1970-01-01T21:28:32\",\"1970-01-02T00:18:57\",\"1970-01-02T00:18:57\",\"1970-01-02T00:56:20\",\"1970-01-02T00:56:20\",\"1970-01-02T00:56:20\",\"1970-01-02T03:46:45\",\"1970-01-02T03:46:45\",\"1970-01-02T04:24:08\",\"1970-01-02T04:24:08\",\"1970-01-02T04:24:08\"],\"y\":[\"barge_1\",\"barge_1\",\"barge_1\",\"barge_1\",null,\"barge_1\",\"barge_1\",\"barge_1\",\"barge_1\",null,\"barge_1\",\"barge_1\",\"barge_1\",\"barge_1\",null,\"barge_1\",\"barge_1\",\"barge_1\",\"barge_1\",null,\"barge_1\",\"barge_1\",\"barge_1\",\"barge_1\",null,\"barge_1\",\"barge_1\",\"barge_1\",\"barge_1\",null,\"barge_1\",\"barge_1\",\"barge_1\",\"barge_1\",null,\"barge_1\",\"barge_1\",\"barge_1\",\"barge_1\",null,\"barge_1\",\"barge_1\",\"barge_1\",\"barge_1\",null,\"to_site\",\"to_site\",\"to_site\",\"to_site\",null,\"to_site\",\"to_site\",\"to_site\",\"to_site\",null,\"to_site\",\"to_site\",\"to_site\",\"to_site\",null,\"to_site\",\"to_site\",\"to_site\",\"to_site\",null,\"to_site\",\"to_site\",\"to_site\",\"to_site\",null,\"to_site\",\"to_site\",\"to_site\",\"to_site\",null,\"to_site\",\"to_site\",\"to_site\",\"to_site\",null,\"to_site\",\"to_site\",\"to_site\",\"to_site\",null,\"to_site\",\"to_site\",\"to_site\",\"to_site\",null],\"type\":\"scatter\"},{\"connectgaps\":false,\"hoverinfo\":\"y+name\",\"line\":{\"color\":\"rgb(15,215,137)\",\"width\":10},\"mode\":\"lines\",\"name\":\"basic activity:barge_1\",\"x\":[\"1970-01-01T00:00:00\",\"1970-01-01T00:00:00\",\"1970-01-01T00:37:23\",\"1970-01-01T00:37:23\",\"1970-01-01T00:37:23\",\"1970-01-01T03:02:52\",\"1970-01-01T03:02:52\",\"1970-01-01T03:40:15\",\"1970-01-01T03:40:15\",\"1970-01-01T03:40:15\",\"1970-01-01T06:05:44\",\"1970-01-01T06:05:44\",\"1970-01-01T06:43:07\",\"1970-01-01T06:43:07\",\"1970-01-01T06:43:07\",\"1970-01-01T09:08:36\",\"1970-01-01T09:08:36\",\"1970-01-01T09:45:59\",\"1970-01-01T09:45:59\",\"1970-01-01T09:45:59\",\"1970-01-01T12:11:28\",\"1970-01-01T12:11:28\",\"1970-01-01T12:48:51\",\"1970-01-01T12:48:51\",\"1970-01-01T12:48:51\",\"1970-01-01T15:14:20\",\"1970-01-01T15:14:20\",\"1970-01-01T15:51:43\",\"1970-01-01T15:51:43\",\"1970-01-01T15:51:43\",\"1970-01-01T18:17:12\",\"1970-01-01T18:17:12\",\"1970-01-01T18:54:35\",\"1970-01-01T18:54:35\",\"1970-01-01T18:54:35\",\"1970-01-01T21:28:32\",\"1970-01-01T21:28:32\",\"1970-01-01T22:05:55\",\"1970-01-01T22:05:55\",\"1970-01-01T22:05:55\",\"1970-01-02T00:56:20\",\"1970-01-02T00:56:20\",\"1970-01-02T01:33:43\",\"1970-01-02T01:33:43\",\"1970-01-02T01:33:43\"],\"y\":[\"barge_1\",\"barge_1\",\"barge_1\",\"barge_1\",null,\"barge_1\",\"barge_1\",\"barge_1\",\"barge_1\",null,\"barge_1\",\"barge_1\",\"barge_1\",\"barge_1\",null,\"barge_1\",\"barge_1\",\"barge_1\",\"barge_1\",null,\"barge_1\",\"barge_1\",\"barge_1\",\"barge_1\",null,\"barge_1\",\"barge_1\",\"barge_1\",\"barge_1\",null,\"barge_1\",\"barge_1\",\"barge_1\",\"barge_1\",null,\"barge_1\",\"barge_1\",\"barge_1\",\"barge_1\",null,\"barge_1\",\"barge_1\",\"barge_1\",\"barge_1\",null],\"type\":\"scatter\"},{\"connectgaps\":false,\"hoverinfo\":\"y+name\",\"line\":{\"color\":\"rgb(27,227,149)\",\"width\":10},\"mode\":\"lines\",\"name\":\"sailing empty:barge_1\",\"x\":[\"1970-01-01T00:37:23\",\"1970-01-01T00:37:23\",\"1970-01-01T01:14:46\",\"1970-01-01T01:14:46\",\"1970-01-01T01:14:46\",\"1970-01-01T03:40:15\",\"1970-01-01T03:40:15\",\"1970-01-01T04:17:38\",\"1970-01-01T04:17:38\",\"1970-01-01T04:17:38\",\"1970-01-01T06:43:07\",\"1970-01-01T06:43:07\",\"1970-01-01T07:20:30\",\"1970-01-01T07:20:30\",\"1970-01-01T07:20:30\",\"1970-01-01T09:45:59\",\"1970-01-01T09:45:59\",\"1970-01-01T10:23:22\",\"1970-01-01T10:23:22\",\"1970-01-01T10:23:22\",\"1970-01-01T12:48:51\",\"1970-01-01T12:48:51\",\"1970-01-01T13:26:14\",\"1970-01-01T13:26:14\",\"1970-01-01T13:26:14\",\"1970-01-01T15:51:43\",\"1970-01-01T15:51:43\",\"1970-01-01T16:29:06\",\"1970-01-01T16:29:06\",\"1970-01-01T16:29:06\",\"1970-01-01T18:54:35\",\"1970-01-01T18:54:35\",\"1970-01-01T19:31:58\",\"1970-01-01T19:31:58\",\"1970-01-01T19:31:58\",\"1970-01-01T22:05:55\",\"1970-01-01T22:05:55\",\"1970-01-01T22:43:18\",\"1970-01-01T22:43:18\",\"1970-01-01T22:43:18\",\"1970-01-02T01:33:43\",\"1970-01-02T01:33:43\",\"1970-01-02T02:11:06\",\"1970-01-02T02:11:06\",\"1970-01-02T02:11:06\"],\"y\":[\"barge_1\",\"barge_1\",\"barge_1\",\"barge_1\",null,\"barge_1\",\"barge_1\",\"barge_1\",\"barge_1\",null,\"barge_1\",\"barge_1\",\"barge_1\",\"barge_1\",null,\"barge_1\",\"barge_1\",\"barge_1\",\"barge_1\",null,\"barge_1\",\"barge_1\",\"barge_1\",\"barge_1\",null,\"barge_1\",\"barge_1\",\"barge_1\",\"barge_1\",null,\"barge_1\",\"barge_1\",\"barge_1\",\"barge_1\",null,\"barge_1\",\"barge_1\",\"barge_1\",\"barge_1\",null,\"barge_1\",\"barge_1\",\"barge_1\",\"barge_1\",null],\"type\":\"scatter\"},{\"connectgaps\":false,\"hoverinfo\":\"y+name\",\"line\":{\"color\":\"rgb(39,239,161)\",\"width\":10},\"mode\":\"lines\",\"name\":\"sailing full:barge_1\",\"x\":[\"1970-01-01T01:48:06\",\"1970-01-01T01:48:06\",\"1970-01-01T02:25:29\",\"1970-01-01T02:25:29\",\"1970-01-01T02:25:29\",\"1970-01-01T04:50:58\",\"1970-01-01T04:50:58\",\"1970-01-01T05:28:21\",\"1970-01-01T05:28:21\",\"1970-01-01T05:28:21\",\"1970-01-01T07:53:50\",\"1970-01-01T07:53:50\",\"1970-01-01T08:31:13\",\"1970-01-01T08:31:13\",\"1970-01-01T08:31:13\",\"1970-01-01T10:56:42\",\"1970-01-01T10:56:42\",\"1970-01-01T11:34:05\",\"1970-01-01T11:34:05\",\"1970-01-01T11:34:05\",\"1970-01-01T13:59:34\",\"1970-01-01T13:59:34\",\"1970-01-01T14:36:57\",\"1970-01-01T14:36:57\",\"1970-01-01T14:36:57\",\"1970-01-01T17:02:26\",\"1970-01-01T17:02:26\",\"1970-01-01T17:39:49\",\"1970-01-01T17:39:49\",\"1970-01-01T17:39:49\",\"1970-01-01T20:13:46\",\"1970-01-01T20:13:46\",\"1970-01-01T20:51:09\",\"1970-01-01T20:51:09\",\"1970-01-01T20:51:09\",\"1970-01-01T23:41:34\",\"1970-01-01T23:41:34\",\"1970-01-02T00:18:57\",\"1970-01-02T00:18:57\",\"1970-01-02T00:18:57\",\"1970-01-02T03:09:22\",\"1970-01-02T03:09:22\",\"1970-01-02T03:46:45\",\"1970-01-02T03:46:45\",\"1970-01-02T03:46:45\"],\"y\":[\"barge_1\",\"barge_1\",\"barge_1\",\"barge_1\",null,\"barge_1\",\"barge_1\",\"barge_1\",\"barge_1\",null,\"barge_1\",\"barge_1\",\"barge_1\",\"barge_1\",null,\"barge_1\",\"barge_1\",\"barge_1\",\"barge_1\",null,\"barge_1\",\"barge_1\",\"barge_1\",\"barge_1\",null,\"barge_1\",\"barge_1\",\"barge_1\",\"barge_1\",null,\"barge_1\",\"barge_1\",\"barge_1\",\"barge_1\",null,\"barge_1\",\"barge_1\",\"barge_1\",\"barge_1\",null,\"barge_1\",\"barge_1\",\"barge_1\",\"barge_1\",null],\"type\":\"scatter\"},{\"connectgaps\":false,\"hoverinfo\":\"y+name\",\"line\":{\"color\":\"rgb(51,251,173)\",\"width\":10},\"mode\":\"lines\",\"name\":\"sailing empty:barge_2\",\"x\":[\"1970-01-01T00:47:21\",\"1970-01-01T00:47:21\",\"1970-01-01T01:34:42\",\"1970-01-01T01:34:42\",\"1970-01-01T01:34:42\",\"1970-01-01T05:16:49\",\"1970-01-01T05:16:49\",\"1970-01-01T06:04:10\",\"1970-01-01T06:04:10\",\"1970-01-01T06:04:10\",\"1970-01-01T08:59:33\",\"1970-01-01T08:59:33\",\"1970-01-01T09:46:54\",\"1970-01-01T09:46:54\",\"1970-01-01T09:46:54\",\"1970-01-01T12:42:17\",\"1970-01-01T12:42:17\",\"1970-01-01T13:29:38\",\"1970-01-01T13:29:38\",\"1970-01-01T13:29:38\",\"1970-01-01T16:54:57\",\"1970-01-01T16:54:57\",\"1970-01-01T17:42:18\",\"1970-01-01T17:42:18\",\"1970-01-01T17:42:18\",\"1970-01-01T20:37:41\",\"1970-01-01T20:37:41\",\"1970-01-01T21:25:02\",\"1970-01-01T21:25:02\",\"1970-01-01T21:25:02\",\"1970-01-02T00:20:25\",\"1970-01-02T00:20:25\",\"1970-01-02T01:07:46\",\"1970-01-02T01:07:46\",\"1970-01-02T01:07:46\",\"1970-01-02T04:03:09\",\"1970-01-02T04:03:09\",\"1970-01-02T04:50:30\",\"1970-01-02T04:50:30\",\"1970-01-02T04:50:30\"],\"y\":[\"barge_2\",\"barge_2\",\"barge_2\",\"barge_2\",null,\"barge_2\",\"barge_2\",\"barge_2\",\"barge_2\",null,\"barge_2\",\"barge_2\",\"barge_2\",\"barge_2\",null,\"barge_2\",\"barge_2\",\"barge_2\",\"barge_2\",null,\"barge_2\",\"barge_2\",\"barge_2\",\"barge_2\",null,\"barge_2\",\"barge_2\",\"barge_2\",\"barge_2\",null,\"barge_2\",\"barge_2\",\"barge_2\",\"barge_2\",null,\"barge_2\",\"barge_2\",\"barge_2\",\"barge_2\",null],\"type\":\"scatter\"},{\"connectgaps\":false,\"hoverinfo\":\"y+name\",\"line\":{\"color\":\"rgb(63,7,185)\",\"width\":10},\"mode\":\"lines\",\"name\":\"sailing full:barge_2\",\"x\":[\"1970-01-01T02:54:46\",\"1970-01-01T02:54:46\",\"1970-01-01T03:42:07\",\"1970-01-01T03:42:07\",\"1970-01-01T03:42:07\",\"1970-01-01T06:37:30\",\"1970-01-01T06:37:30\",\"1970-01-01T07:24:51\",\"1970-01-01T07:24:51\",\"1970-01-01T07:24:51\",\"1970-01-01T10:20:14\",\"1970-01-01T10:20:14\",\"1970-01-01T11:07:35\",\"1970-01-01T11:07:35\",\"1970-01-01T11:07:35\",\"1970-01-01T14:32:54\",\"1970-01-01T14:32:54\",\"1970-01-01T15:20:15\",\"1970-01-01T15:20:15\",\"1970-01-01T15:20:15\",\"1970-01-01T18:15:38\",\"1970-01-01T18:15:38\",\"1970-01-01T19:02:59\",\"1970-01-01T19:02:59\",\"1970-01-01T19:02:59\",\"1970-01-01T21:58:22\",\"1970-01-01T21:58:22\",\"1970-01-01T22:45:43\",\"1970-01-01T22:45:43\",\"1970-01-01T22:45:43\",\"1970-01-02T01:41:06\",\"1970-01-02T01:41:06\",\"1970-01-02T02:28:27\",\"1970-01-02T02:28:27\",\"1970-01-02T02:28:27\",\"1970-01-02T05:23:50\",\"1970-01-02T05:23:50\",\"1970-01-02T06:11:11\",\"1970-01-02T06:11:11\",\"1970-01-02T06:11:11\"],\"y\":[\"barge_2\",\"barge_2\",\"barge_2\",\"barge_2\",null,\"barge_2\",\"barge_2\",\"barge_2\",\"barge_2\",null,\"barge_2\",\"barge_2\",\"barge_2\",\"barge_2\",null,\"barge_2\",\"barge_2\",\"barge_2\",\"barge_2\",null,\"barge_2\",\"barge_2\",\"barge_2\",\"barge_2\",null,\"barge_2\",\"barge_2\",\"barge_2\",\"barge_2\",null,\"barge_2\",\"barge_2\",\"barge_2\",\"barge_2\",null,\"barge_2\",\"barge_2\",\"barge_2\",\"barge_2\",null],\"type\":\"scatter\"},{\"connectgaps\":false,\"hoverinfo\":\"y+name\",\"line\":{\"color\":\"rgb(75,19,197)\",\"width\":10},\"mode\":\"lines\",\"name\":\"unloading:barge_2\",\"x\":[\"1970-01-01T03:42:07\",\"1970-01-01T03:42:07\",\"1970-01-01T04:29:28\",\"1970-01-01T04:29:28\",\"1970-01-01T04:29:28\",\"1970-01-01T07:24:51\",\"1970-01-01T07:24:51\",\"1970-01-01T08:12:12\",\"1970-01-01T08:12:12\",\"1970-01-01T08:12:12\",\"1970-01-01T11:07:35\",\"1970-01-01T11:07:35\",\"1970-01-01T11:54:56\",\"1970-01-01T11:54:56\",\"1970-01-01T11:54:56\",\"1970-01-01T15:20:15\",\"1970-01-01T15:20:15\",\"1970-01-01T16:07:36\",\"1970-01-01T16:07:36\",\"1970-01-01T16:07:36\",\"1970-01-01T19:02:59\",\"1970-01-01T19:02:59\",\"1970-01-01T19:50:20\",\"1970-01-01T19:50:20\",\"1970-01-01T19:50:20\",\"1970-01-01T22:45:43\",\"1970-01-01T22:45:43\",\"1970-01-01T23:33:04\",\"1970-01-01T23:33:04\",\"1970-01-01T23:33:04\",\"1970-01-02T02:28:27\",\"1970-01-02T02:28:27\",\"1970-01-02T03:15:48\",\"1970-01-02T03:15:48\",\"1970-01-02T03:15:48\",\"1970-01-02T06:11:11\",\"1970-01-02T06:11:11\",\"1970-01-02T06:58:32\",\"1970-01-02T06:58:32\",\"1970-01-02T06:58:32\",\"1970-01-01T03:42:07\",\"1970-01-01T03:42:07\",\"1970-01-01T04:29:28\",\"1970-01-01T04:29:28\",\"1970-01-01T04:29:28\",\"1970-01-01T07:24:51\",\"1970-01-01T07:24:51\",\"1970-01-01T08:12:12\",\"1970-01-01T08:12:12\",\"1970-01-01T08:12:12\",\"1970-01-01T11:07:35\",\"1970-01-01T11:07:35\",\"1970-01-01T11:54:56\",\"1970-01-01T11:54:56\",\"1970-01-01T11:54:56\",\"1970-01-01T15:20:15\",\"1970-01-01T15:20:15\",\"1970-01-01T16:07:36\",\"1970-01-01T16:07:36\",\"1970-01-01T16:07:36\",\"1970-01-01T19:02:59\",\"1970-01-01T19:02:59\",\"1970-01-01T19:50:20\",\"1970-01-01T19:50:20\",\"1970-01-01T19:50:20\",\"1970-01-01T22:45:43\",\"1970-01-01T22:45:43\",\"1970-01-01T23:33:04\",\"1970-01-01T23:33:04\",\"1970-01-01T23:33:04\",\"1970-01-02T02:28:27\",\"1970-01-02T02:28:27\",\"1970-01-02T03:15:48\",\"1970-01-02T03:15:48\",\"1970-01-02T03:15:48\",\"1970-01-02T06:11:11\",\"1970-01-02T06:11:11\",\"1970-01-02T06:58:32\",\"1970-01-02T06:58:32\",\"1970-01-02T06:58:32\"],\"y\":[\"barge_2\",\"barge_2\",\"barge_2\",\"barge_2\",null,\"barge_2\",\"barge_2\",\"barge_2\",\"barge_2\",null,\"barge_2\",\"barge_2\",\"barge_2\",\"barge_2\",null,\"barge_2\",\"barge_2\",\"barge_2\",\"barge_2\",null,\"barge_2\",\"barge_2\",\"barge_2\",\"barge_2\",null,\"barge_2\",\"barge_2\",\"barge_2\",\"barge_2\",null,\"barge_2\",\"barge_2\",\"barge_2\",\"barge_2\",null,\"barge_2\",\"barge_2\",\"barge_2\",\"barge_2\",null,\"to_site\",\"to_site\",\"to_site\",\"to_site\",null,\"to_site\",\"to_site\",\"to_site\",\"to_site\",null,\"to_site\",\"to_site\",\"to_site\",\"to_site\",null,\"to_site\",\"to_site\",\"to_site\",\"to_site\",null,\"to_site\",\"to_site\",\"to_site\",\"to_site\",null,\"to_site\",\"to_site\",\"to_site\",\"to_site\",null,\"to_site\",\"to_site\",\"to_site\",\"to_site\",null,\"to_site\",\"to_site\",\"to_site\",\"to_site\",null],\"type\":\"scatter\"},{\"connectgaps\":false,\"hoverinfo\":\"y+name\",\"line\":{\"color\":\"rgb(87,31,209)\",\"width\":10},\"mode\":\"lines\",\"name\":\"basic activity:barge_2\",\"x\":[\"1970-01-01T00:00:00\",\"1970-01-01T00:00:00\",\"1970-01-01T00:47:21\",\"1970-01-01T00:47:21\",\"1970-01-01T00:47:21\",\"1970-01-01T04:29:28\",\"1970-01-01T04:29:28\",\"1970-01-01T05:16:49\",\"1970-01-01T05:16:49\",\"1970-01-01T05:16:49\",\"1970-01-01T08:12:12\",\"1970-01-01T08:12:12\",\"1970-01-01T08:59:33\",\"1970-01-01T08:59:33\",\"1970-01-01T08:59:33\",\"1970-01-01T11:54:56\",\"1970-01-01T11:54:56\",\"1970-01-01T12:42:17\",\"1970-01-01T12:42:17\",\"1970-01-01T12:42:17\",\"1970-01-01T16:07:36\",\"1970-01-01T16:07:36\",\"1970-01-01T16:54:57\",\"1970-01-01T16:54:57\",\"1970-01-01T16:54:57\",\"1970-01-01T19:50:20\",\"1970-01-01T19:50:20\",\"1970-01-01T20:37:41\",\"1970-01-01T20:37:41\",\"1970-01-01T20:37:41\",\"1970-01-01T23:33:04\",\"1970-01-01T23:33:04\",\"1970-01-02T00:20:25\",\"1970-01-02T00:20:25\",\"1970-01-02T00:20:25\",\"1970-01-02T03:15:48\",\"1970-01-02T03:15:48\",\"1970-01-02T04:03:09\",\"1970-01-02T04:03:09\",\"1970-01-02T04:03:09\"],\"y\":[\"barge_2\",\"barge_2\",\"barge_2\",\"barge_2\",null,\"barge_2\",\"barge_2\",\"barge_2\",\"barge_2\",null,\"barge_2\",\"barge_2\",\"barge_2\",\"barge_2\",null,\"barge_2\",\"barge_2\",\"barge_2\",\"barge_2\",null,\"barge_2\",\"barge_2\",\"barge_2\",\"barge_2\",null,\"barge_2\",\"barge_2\",\"barge_2\",\"barge_2\",null,\"barge_2\",\"barge_2\",\"barge_2\",\"barge_2\",null,\"barge_2\",\"barge_2\",\"barge_2\",\"barge_2\",null],\"type\":\"scatter\"},{\"connectgaps\":false,\"hoverinfo\":\"y+name\",\"line\":{\"color\":\"rgb(99,43,221)\",\"width\":10},\"mode\":\"lines\",\"name\":\"loading:barge_2\",\"x\":[\"1970-01-01T02:21:26\",\"1970-01-01T02:21:26\",\"1970-01-01T02:54:46\",\"1970-01-01T02:54:46\",\"1970-01-01T02:54:46\",\"1970-01-01T06:04:10\",\"1970-01-01T06:04:10\",\"1970-01-01T06:37:30\",\"1970-01-01T06:37:30\",\"1970-01-01T06:37:30\",\"1970-01-01T09:46:54\",\"1970-01-01T09:46:54\",\"1970-01-01T10:20:14\",\"1970-01-01T10:20:14\",\"1970-01-01T10:20:14\",\"1970-01-01T13:59:34\",\"1970-01-01T13:59:34\",\"1970-01-01T14:32:54\",\"1970-01-01T14:32:54\",\"1970-01-01T14:32:54\",\"1970-01-01T17:42:18\",\"1970-01-01T17:42:18\",\"1970-01-01T18:15:38\",\"1970-01-01T18:15:38\",\"1970-01-01T18:15:38\",\"1970-01-01T21:25:02\",\"1970-01-01T21:25:02\",\"1970-01-01T21:58:22\",\"1970-01-01T21:58:22\",\"1970-01-01T21:58:22\",\"1970-01-02T01:07:46\",\"1970-01-02T01:07:46\",\"1970-01-02T01:41:06\",\"1970-01-02T01:41:06\",\"1970-01-02T01:41:06\",\"1970-01-02T04:50:30\",\"1970-01-02T04:50:30\",\"1970-01-02T05:23:50\",\"1970-01-02T05:23:50\",\"1970-01-02T05:23:50\",\"1970-01-01T02:21:26\",\"1970-01-01T02:21:26\",\"1970-01-01T02:54:46\",\"1970-01-01T02:54:46\",\"1970-01-01T02:54:46\",\"1970-01-01T06:04:10\",\"1970-01-01T06:04:10\",\"1970-01-01T06:37:30\",\"1970-01-01T06:37:30\",\"1970-01-01T06:37:30\",\"1970-01-01T09:46:54\",\"1970-01-01T09:46:54\",\"1970-01-01T10:20:14\",\"1970-01-01T10:20:14\",\"1970-01-01T10:20:14\",\"1970-01-01T13:59:34\",\"1970-01-01T13:59:34\",\"1970-01-01T14:32:54\",\"1970-01-01T14:32:54\",\"1970-01-01T14:32:54\",\"1970-01-01T17:42:18\",\"1970-01-01T17:42:18\",\"1970-01-01T18:15:38\",\"1970-01-01T18:15:38\",\"1970-01-01T18:15:38\",\"1970-01-01T21:25:02\",\"1970-01-01T21:25:02\",\"1970-01-01T21:58:22\",\"1970-01-01T21:58:22\",\"1970-01-01T21:58:22\",\"1970-01-02T01:07:46\",\"1970-01-02T01:07:46\",\"1970-01-02T01:41:06\",\"1970-01-02T01:41:06\",\"1970-01-02T01:41:06\",\"1970-01-02T04:50:30\",\"1970-01-02T04:50:30\",\"1970-01-02T05:23:50\",\"1970-01-02T05:23:50\",\"1970-01-02T05:23:50\"],\"y\":[\"barge_2\",\"barge_2\",\"barge_2\",\"barge_2\",null,\"barge_2\",\"barge_2\",\"barge_2\",\"barge_2\",null,\"barge_2\",\"barge_2\",\"barge_2\",\"barge_2\",null,\"barge_2\",\"barge_2\",\"barge_2\",\"barge_2\",null,\"barge_2\",\"barge_2\",\"barge_2\",\"barge_2\",null,\"barge_2\",\"barge_2\",\"barge_2\",\"barge_2\",null,\"barge_2\",\"barge_2\",\"barge_2\",\"barge_2\",null,\"barge_2\",\"barge_2\",\"barge_2\",\"barge_2\",null,\"cutter\",\"cutter\",\"cutter\",\"cutter\",null,\"cutter\",\"cutter\",\"cutter\",\"cutter\",null,\"cutter\",\"cutter\",\"cutter\",\"cutter\",null,\"cutter\",\"cutter\",\"cutter\",\"cutter\",null,\"cutter\",\"cutter\",\"cutter\",\"cutter\",null,\"cutter\",\"cutter\",\"cutter\",\"cutter\",null,\"cutter\",\"cutter\",\"cutter\",\"cutter\",null,\"cutter\",\"cutter\",\"cutter\",\"cutter\",null],\"type\":\"scatter\"},{\"connectgaps\":false,\"hoverinfo\":\"y+name\",\"line\":{\"color\":\"rgb(111,55,233)\",\"width\":10},\"mode\":\"lines\",\"name\":\"loading:barge_1\",\"x\":[\"1970-01-01T01:14:46\",\"1970-01-01T01:14:46\",\"1970-01-01T01:48:06\",\"1970-01-01T01:48:06\",\"1970-01-01T01:48:06\",\"1970-01-01T04:17:38\",\"1970-01-01T04:17:38\",\"1970-01-01T04:50:58\",\"1970-01-01T04:50:58\",\"1970-01-01T04:50:58\",\"1970-01-01T07:20:30\",\"1970-01-01T07:20:30\",\"1970-01-01T07:53:50\",\"1970-01-01T07:53:50\",\"1970-01-01T07:53:50\",\"1970-01-01T10:23:22\",\"1970-01-01T10:23:22\",\"1970-01-01T10:56:42\",\"1970-01-01T10:56:42\",\"1970-01-01T10:56:42\",\"1970-01-01T13:26:14\",\"1970-01-01T13:26:14\",\"1970-01-01T13:59:34\",\"1970-01-01T13:59:34\",\"1970-01-01T13:59:34\",\"1970-01-01T16:29:06\",\"1970-01-01T16:29:06\",\"1970-01-01T17:02:26\",\"1970-01-01T17:02:26\",\"1970-01-01T17:02:26\",\"1970-01-01T19:40:26\",\"1970-01-01T19:40:26\",\"1970-01-01T20:13:46\",\"1970-01-01T20:13:46\",\"1970-01-01T20:13:46\",\"1970-01-01T23:08:14\",\"1970-01-01T23:08:14\",\"1970-01-01T23:41:34\",\"1970-01-01T23:41:34\",\"1970-01-01T23:41:34\",\"1970-01-02T02:36:02\",\"1970-01-02T02:36:02\",\"1970-01-02T03:09:22\",\"1970-01-02T03:09:22\",\"1970-01-02T03:09:22\",\"1970-01-01T01:14:46\",\"1970-01-01T01:14:46\",\"1970-01-01T01:48:06\",\"1970-01-01T01:48:06\",\"1970-01-01T01:48:06\",\"1970-01-01T04:17:38\",\"1970-01-01T04:17:38\",\"1970-01-01T04:50:58\",\"1970-01-01T04:50:58\",\"1970-01-01T04:50:58\",\"1970-01-01T07:20:30\",\"1970-01-01T07:20:30\",\"1970-01-01T07:53:50\",\"1970-01-01T07:53:50\",\"1970-01-01T07:53:50\",\"1970-01-01T10:23:22\",\"1970-01-01T10:23:22\",\"1970-01-01T10:56:42\",\"1970-01-01T10:56:42\",\"1970-01-01T10:56:42\",\"1970-01-01T13:26:14\",\"1970-01-01T13:26:14\",\"1970-01-01T13:59:34\",\"1970-01-01T13:59:34\",\"1970-01-01T13:59:34\",\"1970-01-01T16:29:06\",\"1970-01-01T16:29:06\",\"1970-01-01T17:02:26\",\"1970-01-01T17:02:26\",\"1970-01-01T17:02:26\",\"1970-01-01T19:40:26\",\"1970-01-01T19:40:26\",\"1970-01-01T20:13:46\",\"1970-01-01T20:13:46\",\"1970-01-01T20:13:46\",\"1970-01-01T23:08:14\",\"1970-01-01T23:08:14\",\"1970-01-01T23:41:34\",\"1970-01-01T23:41:34\",\"1970-01-01T23:41:34\",\"1970-01-02T02:36:02\",\"1970-01-02T02:36:02\",\"1970-01-02T03:09:22\",\"1970-01-02T03:09:22\",\"1970-01-02T03:09:22\"],\"y\":[\"barge_1\",\"barge_1\",\"barge_1\",\"barge_1\",null,\"barge_1\",\"barge_1\",\"barge_1\",\"barge_1\",null,\"barge_1\",\"barge_1\",\"barge_1\",\"barge_1\",null,\"barge_1\",\"barge_1\",\"barge_1\",\"barge_1\",null,\"barge_1\",\"barge_1\",\"barge_1\",\"barge_1\",null,\"barge_1\",\"barge_1\",\"barge_1\",\"barge_1\",null,\"barge_1\",\"barge_1\",\"barge_1\",\"barge_1\",null,\"barge_1\",\"barge_1\",\"barge_1\",\"barge_1\",null,\"barge_1\",\"barge_1\",\"barge_1\",\"barge_1\",null,\"cutter\",\"cutter\",\"cutter\",\"cutter\",null,\"cutter\",\"cutter\",\"cutter\",\"cutter\",null,\"cutter\",\"cutter\",\"cutter\",\"cutter\",null,\"cutter\",\"cutter\",\"cutter\",\"cutter\",null,\"cutter\",\"cutter\",\"cutter\",\"cutter\",null,\"cutter\",\"cutter\",\"cutter\",\"cutter\",null,\"cutter\",\"cutter\",\"cutter\",\"cutter\",null,\"cutter\",\"cutter\",\"cutter\",\"cutter\",null,\"cutter\",\"cutter\",\"cutter\",\"cutter\",null],\"type\":\"scatter\"},{\"connectgaps\":false,\"hoverinfo\":\"y+name\",\"line\":{\"color\":\"rgb(123,67,245)\",\"width\":10},\"mode\":\"lines\",\"name\":\"loading:barge_0\",\"x\":[\"1970-01-01T01:48:06\",\"1970-01-01T01:48:06\",\"1970-01-01T02:21:26\",\"1970-01-01T02:21:26\",\"1970-01-01T02:21:26\",\"1970-01-01T05:15:54\",\"1970-01-01T05:15:54\",\"1970-01-01T05:49:14\",\"1970-01-01T05:49:14\",\"1970-01-01T05:49:14\",\"1970-01-01T08:43:42\",\"1970-01-01T08:43:42\",\"1970-01-01T09:17:02\",\"1970-01-01T09:17:02\",\"1970-01-01T09:17:02\",\"1970-01-01T12:11:30\",\"1970-01-01T12:11:30\",\"1970-01-01T12:44:50\",\"1970-01-01T12:44:50\",\"1970-01-01T12:44:50\",\"1970-01-01T15:39:18\",\"1970-01-01T15:39:18\",\"1970-01-01T16:12:38\",\"1970-01-01T16:12:38\",\"1970-01-01T16:12:38\",\"1970-01-01T19:07:06\",\"1970-01-01T19:07:06\",\"1970-01-01T19:40:26\",\"1970-01-01T19:40:26\",\"1970-01-01T19:40:26\",\"1970-01-01T22:34:54\",\"1970-01-01T22:34:54\",\"1970-01-01T23:08:14\",\"1970-01-01T23:08:14\",\"1970-01-01T23:08:14\",\"1970-01-02T02:02:42\",\"1970-01-02T02:02:42\",\"1970-01-02T02:36:02\",\"1970-01-02T02:36:02\",\"1970-01-02T02:36:02\",\"1970-01-01T01:48:06\",\"1970-01-01T01:48:06\",\"1970-01-01T02:21:26\",\"1970-01-01T02:21:26\",\"1970-01-01T02:21:26\",\"1970-01-01T05:15:54\",\"1970-01-01T05:15:54\",\"1970-01-01T05:49:14\",\"1970-01-01T05:49:14\",\"1970-01-01T05:49:14\",\"1970-01-01T08:43:42\",\"1970-01-01T08:43:42\",\"1970-01-01T09:17:02\",\"1970-01-01T09:17:02\",\"1970-01-01T09:17:02\",\"1970-01-01T12:11:30\",\"1970-01-01T12:11:30\",\"1970-01-01T12:44:50\",\"1970-01-01T12:44:50\",\"1970-01-01T12:44:50\",\"1970-01-01T15:39:18\",\"1970-01-01T15:39:18\",\"1970-01-01T16:12:38\",\"1970-01-01T16:12:38\",\"1970-01-01T16:12:38\",\"1970-01-01T19:07:06\",\"1970-01-01T19:07:06\",\"1970-01-01T19:40:26\",\"1970-01-01T19:40:26\",\"1970-01-01T19:40:26\",\"1970-01-01T22:34:54\",\"1970-01-01T22:34:54\",\"1970-01-01T23:08:14\",\"1970-01-01T23:08:14\",\"1970-01-01T23:08:14\",\"1970-01-02T02:02:42\",\"1970-01-02T02:02:42\",\"1970-01-02T02:36:02\",\"1970-01-02T02:36:02\",\"1970-01-02T02:36:02\"],\"y\":[\"barge_0\",\"barge_0\",\"barge_0\",\"barge_0\",null,\"barge_0\",\"barge_0\",\"barge_0\",\"barge_0\",null,\"barge_0\",\"barge_0\",\"barge_0\",\"barge_0\",null,\"barge_0\",\"barge_0\",\"barge_0\",\"barge_0\",null,\"barge_0\",\"barge_0\",\"barge_0\",\"barge_0\",null,\"barge_0\",\"barge_0\",\"barge_0\",\"barge_0\",null,\"barge_0\",\"barge_0\",\"barge_0\",\"barge_0\",null,\"barge_0\",\"barge_0\",\"barge_0\",\"barge_0\",null,\"cutter\",\"cutter\",\"cutter\",\"cutter\",null,\"cutter\",\"cutter\",\"cutter\",\"cutter\",null,\"cutter\",\"cutter\",\"cutter\",\"cutter\",null,\"cutter\",\"cutter\",\"cutter\",\"cutter\",null,\"cutter\",\"cutter\",\"cutter\",\"cutter\",null,\"cutter\",\"cutter\",\"cutter\",\"cutter\",null,\"cutter\",\"cutter\",\"cutter\",\"cutter\",null,\"cutter\",\"cutter\",\"cutter\",\"cutter\",null],\"type\":\"scatter\"},{\"connectgaps\":false,\"hoverinfo\":\"y+name\",\"line\":{\"color\":\"rgb(135,79,1)\",\"width\":10},\"mode\":\"lines\",\"name\":\"loading:barge_2\",\"x\":[\"1970-01-01T02:21:26\",\"1970-01-01T02:21:26\",\"1970-01-01T02:54:46\",\"1970-01-01T02:54:46\",\"1970-01-01T02:54:46\",\"1970-01-01T06:04:10\",\"1970-01-01T06:04:10\",\"1970-01-01T06:37:30\",\"1970-01-01T06:37:30\",\"1970-01-01T06:37:30\",\"1970-01-01T09:46:54\",\"1970-01-01T09:46:54\",\"1970-01-01T10:20:14\",\"1970-01-01T10:20:14\",\"1970-01-01T10:20:14\",\"1970-01-01T13:59:34\",\"1970-01-01T13:59:34\",\"1970-01-01T14:32:54\",\"1970-01-01T14:32:54\",\"1970-01-01T14:32:54\",\"1970-01-01T17:42:18\",\"1970-01-01T17:42:18\",\"1970-01-01T18:15:38\",\"1970-01-01T18:15:38\",\"1970-01-01T18:15:38\",\"1970-01-01T21:25:02\",\"1970-01-01T21:25:02\",\"1970-01-01T21:58:22\",\"1970-01-01T21:58:22\",\"1970-01-01T21:58:22\",\"1970-01-02T01:07:46\",\"1970-01-02T01:07:46\",\"1970-01-02T01:41:06\",\"1970-01-02T01:41:06\",\"1970-01-02T01:41:06\",\"1970-01-02T04:50:30\",\"1970-01-02T04:50:30\",\"1970-01-02T05:23:50\",\"1970-01-02T05:23:50\",\"1970-01-02T05:23:50\",\"1970-01-01T02:21:26\",\"1970-01-01T02:21:26\",\"1970-01-01T02:54:46\",\"1970-01-01T02:54:46\",\"1970-01-01T02:54:46\",\"1970-01-01T06:04:10\",\"1970-01-01T06:04:10\",\"1970-01-01T06:37:30\",\"1970-01-01T06:37:30\",\"1970-01-01T06:37:30\",\"1970-01-01T09:46:54\",\"1970-01-01T09:46:54\",\"1970-01-01T10:20:14\",\"1970-01-01T10:20:14\",\"1970-01-01T10:20:14\",\"1970-01-01T13:59:34\",\"1970-01-01T13:59:34\",\"1970-01-01T14:32:54\",\"1970-01-01T14:32:54\",\"1970-01-01T14:32:54\",\"1970-01-01T17:42:18\",\"1970-01-01T17:42:18\",\"1970-01-01T18:15:38\",\"1970-01-01T18:15:38\",\"1970-01-01T18:15:38\",\"1970-01-01T21:25:02\",\"1970-01-01T21:25:02\",\"1970-01-01T21:58:22\",\"1970-01-01T21:58:22\",\"1970-01-01T21:58:22\",\"1970-01-02T01:07:46\",\"1970-01-02T01:07:46\",\"1970-01-02T01:41:06\",\"1970-01-02T01:41:06\",\"1970-01-02T01:41:06\",\"1970-01-02T04:50:30\",\"1970-01-02T04:50:30\",\"1970-01-02T05:23:50\",\"1970-01-02T05:23:50\",\"1970-01-02T05:23:50\"],\"y\":[\"barge_2\",\"barge_2\",\"barge_2\",\"barge_2\",null,\"barge_2\",\"barge_2\",\"barge_2\",\"barge_2\",null,\"barge_2\",\"barge_2\",\"barge_2\",\"barge_2\",null,\"barge_2\",\"barge_2\",\"barge_2\",\"barge_2\",null,\"barge_2\",\"barge_2\",\"barge_2\",\"barge_2\",null,\"barge_2\",\"barge_2\",\"barge_2\",\"barge_2\",null,\"barge_2\",\"barge_2\",\"barge_2\",\"barge_2\",null,\"barge_2\",\"barge_2\",\"barge_2\",\"barge_2\",null,\"cutter\",\"cutter\",\"cutter\",\"cutter\",null,\"cutter\",\"cutter\",\"cutter\",\"cutter\",null,\"cutter\",\"cutter\",\"cutter\",\"cutter\",null,\"cutter\",\"cutter\",\"cutter\",\"cutter\",null,\"cutter\",\"cutter\",\"cutter\",\"cutter\",null,\"cutter\",\"cutter\",\"cutter\",\"cutter\",null,\"cutter\",\"cutter\",\"cutter\",\"cutter\",null,\"cutter\",\"cutter\",\"cutter\",\"cutter\",null],\"type\":\"scatter\"},{\"connectgaps\":false,\"hoverinfo\":\"y+name\",\"line\":{\"color\":\"rgb(147,91,13)\",\"width\":10},\"mode\":\"lines\",\"name\":\"unloading:barge_1\",\"x\":[\"1970-01-01T02:25:29\",\"1970-01-01T02:25:29\",\"1970-01-01T03:02:52\",\"1970-01-01T03:02:52\",\"1970-01-01T03:02:52\",\"1970-01-01T05:28:21\",\"1970-01-01T05:28:21\",\"1970-01-01T06:05:44\",\"1970-01-01T06:05:44\",\"1970-01-01T06:05:44\",\"1970-01-01T08:31:13\",\"1970-01-01T08:31:13\",\"1970-01-01T09:08:36\",\"1970-01-01T09:08:36\",\"1970-01-01T09:08:36\",\"1970-01-01T11:34:05\",\"1970-01-01T11:34:05\",\"1970-01-01T12:11:28\",\"1970-01-01T12:11:28\",\"1970-01-01T12:11:28\",\"1970-01-01T14:36:57\",\"1970-01-01T14:36:57\",\"1970-01-01T15:14:20\",\"1970-01-01T15:14:20\",\"1970-01-01T15:14:20\",\"1970-01-01T17:39:49\",\"1970-01-01T17:39:49\",\"1970-01-01T18:17:12\",\"1970-01-01T18:17:12\",\"1970-01-01T18:17:12\",\"1970-01-01T20:51:09\",\"1970-01-01T20:51:09\",\"1970-01-01T21:28:32\",\"1970-01-01T21:28:32\",\"1970-01-01T21:28:32\",\"1970-01-02T00:18:57\",\"1970-01-02T00:18:57\",\"1970-01-02T00:56:20\",\"1970-01-02T00:56:20\",\"1970-01-02T00:56:20\",\"1970-01-02T03:46:45\",\"1970-01-02T03:46:45\",\"1970-01-02T04:24:08\",\"1970-01-02T04:24:08\",\"1970-01-02T04:24:08\",\"1970-01-01T02:25:29\",\"1970-01-01T02:25:29\",\"1970-01-01T03:02:52\",\"1970-01-01T03:02:52\",\"1970-01-01T03:02:52\",\"1970-01-01T05:28:21\",\"1970-01-01T05:28:21\",\"1970-01-01T06:05:44\",\"1970-01-01T06:05:44\",\"1970-01-01T06:05:44\",\"1970-01-01T08:31:13\",\"1970-01-01T08:31:13\",\"1970-01-01T09:08:36\",\"1970-01-01T09:08:36\",\"1970-01-01T09:08:36\",\"1970-01-01T11:34:05\",\"1970-01-01T11:34:05\",\"1970-01-01T12:11:28\",\"1970-01-01T12:11:28\",\"1970-01-01T12:11:28\",\"1970-01-01T14:36:57\",\"1970-01-01T14:36:57\",\"1970-01-01T15:14:20\",\"1970-01-01T15:14:20\",\"1970-01-01T15:14:20\",\"1970-01-01T17:39:49\",\"1970-01-01T17:39:49\",\"1970-01-01T18:17:12\",\"1970-01-01T18:17:12\",\"1970-01-01T18:17:12\",\"1970-01-01T20:51:09\",\"1970-01-01T20:51:09\",\"1970-01-01T21:28:32\",\"1970-01-01T21:28:32\",\"1970-01-01T21:28:32\",\"1970-01-02T00:18:57\",\"1970-01-02T00:18:57\",\"1970-01-02T00:56:20\",\"1970-01-02T00:56:20\",\"1970-01-02T00:56:20\",\"1970-01-02T03:46:45\",\"1970-01-02T03:46:45\",\"1970-01-02T04:24:08\",\"1970-01-02T04:24:08\",\"1970-01-02T04:24:08\"],\"y\":[\"barge_1\",\"barge_1\",\"barge_1\",\"barge_1\",null,\"barge_1\",\"barge_1\",\"barge_1\",\"barge_1\",null,\"barge_1\",\"barge_1\",\"barge_1\",\"barge_1\",null,\"barge_1\",\"barge_1\",\"barge_1\",\"barge_1\",null,\"barge_1\",\"barge_1\",\"barge_1\",\"barge_1\",null,\"barge_1\",\"barge_1\",\"barge_1\",\"barge_1\",null,\"barge_1\",\"barge_1\",\"barge_1\",\"barge_1\",null,\"barge_1\",\"barge_1\",\"barge_1\",\"barge_1\",null,\"barge_1\",\"barge_1\",\"barge_1\",\"barge_1\",null,\"to_site\",\"to_site\",\"to_site\",\"to_site\",null,\"to_site\",\"to_site\",\"to_site\",\"to_site\",null,\"to_site\",\"to_site\",\"to_site\",\"to_site\",null,\"to_site\",\"to_site\",\"to_site\",\"to_site\",null,\"to_site\",\"to_site\",\"to_site\",\"to_site\",null,\"to_site\",\"to_site\",\"to_site\",\"to_site\",null,\"to_site\",\"to_site\",\"to_site\",\"to_site\",null,\"to_site\",\"to_site\",\"to_site\",\"to_site\",null,\"to_site\",\"to_site\",\"to_site\",\"to_site\",null],\"type\":\"scatter\"},{\"connectgaps\":false,\"hoverinfo\":\"y+name\",\"line\":{\"color\":\"rgb(159,103,25)\",\"width\":10},\"mode\":\"lines\",\"name\":\"unloading:barge_2\",\"x\":[\"1970-01-01T03:42:07\",\"1970-01-01T03:42:07\",\"1970-01-01T04:29:28\",\"1970-01-01T04:29:28\",\"1970-01-01T04:29:28\",\"1970-01-01T07:24:51\",\"1970-01-01T07:24:51\",\"1970-01-01T08:12:12\",\"1970-01-01T08:12:12\",\"1970-01-01T08:12:12\",\"1970-01-01T11:07:35\",\"1970-01-01T11:07:35\",\"1970-01-01T11:54:56\",\"1970-01-01T11:54:56\",\"1970-01-01T11:54:56\",\"1970-01-01T15:20:15\",\"1970-01-01T15:20:15\",\"1970-01-01T16:07:36\",\"1970-01-01T16:07:36\",\"1970-01-01T16:07:36\",\"1970-01-01T19:02:59\",\"1970-01-01T19:02:59\",\"1970-01-01T19:50:20\",\"1970-01-01T19:50:20\",\"1970-01-01T19:50:20\",\"1970-01-01T22:45:43\",\"1970-01-01T22:45:43\",\"1970-01-01T23:33:04\",\"1970-01-01T23:33:04\",\"1970-01-01T23:33:04\",\"1970-01-02T02:28:27\",\"1970-01-02T02:28:27\",\"1970-01-02T03:15:48\",\"1970-01-02T03:15:48\",\"1970-01-02T03:15:48\",\"1970-01-02T06:11:11\",\"1970-01-02T06:11:11\",\"1970-01-02T06:58:32\",\"1970-01-02T06:58:32\",\"1970-01-02T06:58:32\",\"1970-01-01T03:42:07\",\"1970-01-01T03:42:07\",\"1970-01-01T04:29:28\",\"1970-01-01T04:29:28\",\"1970-01-01T04:29:28\",\"1970-01-01T07:24:51\",\"1970-01-01T07:24:51\",\"1970-01-01T08:12:12\",\"1970-01-01T08:12:12\",\"1970-01-01T08:12:12\",\"1970-01-01T11:07:35\",\"1970-01-01T11:07:35\",\"1970-01-01T11:54:56\",\"1970-01-01T11:54:56\",\"1970-01-01T11:54:56\",\"1970-01-01T15:20:15\",\"1970-01-01T15:20:15\",\"1970-01-01T16:07:36\",\"1970-01-01T16:07:36\",\"1970-01-01T16:07:36\",\"1970-01-01T19:02:59\",\"1970-01-01T19:02:59\",\"1970-01-01T19:50:20\",\"1970-01-01T19:50:20\",\"1970-01-01T19:50:20\",\"1970-01-01T22:45:43\",\"1970-01-01T22:45:43\",\"1970-01-01T23:33:04\",\"1970-01-01T23:33:04\",\"1970-01-01T23:33:04\",\"1970-01-02T02:28:27\",\"1970-01-02T02:28:27\",\"1970-01-02T03:15:48\",\"1970-01-02T03:15:48\",\"1970-01-02T03:15:48\",\"1970-01-02T06:11:11\",\"1970-01-02T06:11:11\",\"1970-01-02T06:58:32\",\"1970-01-02T06:58:32\",\"1970-01-02T06:58:32\"],\"y\":[\"barge_2\",\"barge_2\",\"barge_2\",\"barge_2\",null,\"barge_2\",\"barge_2\",\"barge_2\",\"barge_2\",null,\"barge_2\",\"barge_2\",\"barge_2\",\"barge_2\",null,\"barge_2\",\"barge_2\",\"barge_2\",\"barge_2\",null,\"barge_2\",\"barge_2\",\"barge_2\",\"barge_2\",null,\"barge_2\",\"barge_2\",\"barge_2\",\"barge_2\",null,\"barge_2\",\"barge_2\",\"barge_2\",\"barge_2\",null,\"barge_2\",\"barge_2\",\"barge_2\",\"barge_2\",null,\"to_site\",\"to_site\",\"to_site\",\"to_site\",null,\"to_site\",\"to_site\",\"to_site\",\"to_site\",null,\"to_site\",\"to_site\",\"to_site\",\"to_site\",null,\"to_site\",\"to_site\",\"to_site\",\"to_site\",null,\"to_site\",\"to_site\",\"to_site\",\"to_site\",null,\"to_site\",\"to_site\",\"to_site\",\"to_site\",null,\"to_site\",\"to_site\",\"to_site\",\"to_site\",null,\"to_site\",\"to_site\",\"to_site\",\"to_site\",null],\"type\":\"scatter\"},{\"connectgaps\":false,\"hoverinfo\":\"y+name\",\"line\":{\"color\":\"rgb(171,115,37)\",\"width\":10},\"mode\":\"lines\",\"name\":\"unloading:barge_0\",\"x\":[\"1970-01-01T03:05:03\",\"1970-01-01T03:05:03\",\"1970-01-01T03:48:40\",\"1970-01-01T03:48:40\",\"1970-01-01T03:48:40\",\"1970-01-01T06:32:51\",\"1970-01-01T06:32:51\",\"1970-01-01T07:16:28\",\"1970-01-01T07:16:28\",\"1970-01-01T07:16:28\",\"1970-01-01T10:00:39\",\"1970-01-01T10:00:39\",\"1970-01-01T10:44:16\",\"1970-01-01T10:44:16\",\"1970-01-01T10:44:16\",\"1970-01-01T13:28:27\",\"1970-01-01T13:28:27\",\"1970-01-01T14:12:04\",\"1970-01-01T14:12:04\",\"1970-01-01T14:12:04\",\"1970-01-01T16:56:15\",\"1970-01-01T16:56:15\",\"1970-01-01T17:39:52\",\"1970-01-01T17:39:52\",\"1970-01-01T17:39:52\",\"1970-01-01T20:24:03\",\"1970-01-01T20:24:03\",\"1970-01-01T21:07:40\",\"1970-01-01T21:07:40\",\"1970-01-01T21:07:40\",\"1970-01-01T23:51:51\",\"1970-01-01T23:51:51\",\"1970-01-02T00:35:28\",\"1970-01-02T00:35:28\",\"1970-01-02T00:35:28\",\"1970-01-02T03:19:39\",\"1970-01-02T03:19:39\",\"1970-01-02T04:03:16\",\"1970-01-02T04:03:16\",\"1970-01-02T04:03:16\",\"1970-01-01T03:05:03\",\"1970-01-01T03:05:03\",\"1970-01-01T03:48:40\",\"1970-01-01T03:48:40\",\"1970-01-01T03:48:40\",\"1970-01-01T06:32:51\",\"1970-01-01T06:32:51\",\"1970-01-01T07:16:28\",\"1970-01-01T07:16:28\",\"1970-01-01T07:16:28\",\"1970-01-01T10:00:39\",\"1970-01-01T10:00:39\",\"1970-01-01T10:44:16\",\"1970-01-01T10:44:16\",\"1970-01-01T10:44:16\",\"1970-01-01T13:28:27\",\"1970-01-01T13:28:27\",\"1970-01-01T14:12:04\",\"1970-01-01T14:12:04\",\"1970-01-01T14:12:04\",\"1970-01-01T16:56:15\",\"1970-01-01T16:56:15\",\"1970-01-01T17:39:52\",\"1970-01-01T17:39:52\",\"1970-01-01T17:39:52\",\"1970-01-01T20:24:03\",\"1970-01-01T20:24:03\",\"1970-01-01T21:07:40\",\"1970-01-01T21:07:40\",\"1970-01-01T21:07:40\",\"1970-01-01T23:51:51\",\"1970-01-01T23:51:51\",\"1970-01-02T00:35:28\",\"1970-01-02T00:35:28\",\"1970-01-02T00:35:28\",\"1970-01-02T03:19:39\",\"1970-01-02T03:19:39\",\"1970-01-02T04:03:16\",\"1970-01-02T04:03:16\",\"1970-01-02T04:03:16\"],\"y\":[\"barge_0\",\"barge_0\",\"barge_0\",\"barge_0\",null,\"barge_0\",\"barge_0\",\"barge_0\",\"barge_0\",null,\"barge_0\",\"barge_0\",\"barge_0\",\"barge_0\",null,\"barge_0\",\"barge_0\",\"barge_0\",\"barge_0\",null,\"barge_0\",\"barge_0\",\"barge_0\",\"barge_0\",null,\"barge_0\",\"barge_0\",\"barge_0\",\"barge_0\",null,\"barge_0\",\"barge_0\",\"barge_0\",\"barge_0\",null,\"barge_0\",\"barge_0\",\"barge_0\",\"barge_0\",null,\"to_site\",\"to_site\",\"to_site\",\"to_site\",null,\"to_site\",\"to_site\",\"to_site\",\"to_site\",null,\"to_site\",\"to_site\",\"to_site\",\"to_site\",null,\"to_site\",\"to_site\",\"to_site\",\"to_site\",null,\"to_site\",\"to_site\",\"to_site\",\"to_site\",null,\"to_site\",\"to_site\",\"to_site\",\"to_site\",null,\"to_site\",\"to_site\",\"to_site\",\"to_site\",null,\"to_site\",\"to_site\",\"to_site\",\"to_site\",null],\"type\":\"scatter\"}],                        {\"hovermode\":\"closest\",\"legend\":{\"orientation\":\"h\",\"x\":0,\"y\":-0.2},\"template\":{\"data\":{\"barpolar\":[{\"marker\":{\"line\":{\"color\":\"#E5ECF6\",\"width\":0.5},\"pattern\":{\"fillmode\":\"overlay\",\"size\":10,\"solidity\":0.2}},\"type\":\"barpolar\"}],\"bar\":[{\"error_x\":{\"color\":\"#2a3f5f\"},\"error_y\":{\"color\":\"#2a3f5f\"},\"marker\":{\"line\":{\"color\":\"#E5ECF6\",\"width\":0.5},\"pattern\":{\"fillmode\":\"overlay\",\"size\":10,\"solidity\":0.2}},\"type\":\"bar\"}],\"carpet\":[{\"aaxis\":{\"endlinecolor\":\"#2a3f5f\",\"gridcolor\":\"white\",\"linecolor\":\"white\",\"minorgridcolor\":\"white\",\"startlinecolor\":\"#2a3f5f\"},\"baxis\":{\"endlinecolor\":\"#2a3f5f\",\"gridcolor\":\"white\",\"linecolor\":\"white\",\"minorgridcolor\":\"white\",\"startlinecolor\":\"#2a3f5f\"},\"type\":\"carpet\"}],\"choropleth\":[{\"colorbar\":{\"outlinewidth\":0,\"ticks\":\"\"},\"type\":\"choropleth\"}],\"contourcarpet\":[{\"colorbar\":{\"outlinewidth\":0,\"ticks\":\"\"},\"type\":\"contourcarpet\"}],\"contour\":[{\"colorbar\":{\"outlinewidth\":0,\"ticks\":\"\"},\"colorscale\":[[0.0,\"#0d0887\"],[0.1111111111111111,\"#46039f\"],[0.2222222222222222,\"#7201a8\"],[0.3333333333333333,\"#9c179e\"],[0.4444444444444444,\"#bd3786\"],[0.5555555555555556,\"#d8576b\"],[0.6666666666666666,\"#ed7953\"],[0.7777777777777778,\"#fb9f3a\"],[0.8888888888888888,\"#fdca26\"],[1.0,\"#f0f921\"]],\"type\":\"contour\"}],\"heatmapgl\":[{\"colorbar\":{\"outlinewidth\":0,\"ticks\":\"\"},\"colorscale\":[[0.0,\"#0d0887\"],[0.1111111111111111,\"#46039f\"],[0.2222222222222222,\"#7201a8\"],[0.3333333333333333,\"#9c179e\"],[0.4444444444444444,\"#bd3786\"],[0.5555555555555556,\"#d8576b\"],[0.6666666666666666,\"#ed7953\"],[0.7777777777777778,\"#fb9f3a\"],[0.8888888888888888,\"#fdca26\"],[1.0,\"#f0f921\"]],\"type\":\"heatmapgl\"}],\"heatmap\":[{\"colorbar\":{\"outlinewidth\":0,\"ticks\":\"\"},\"colorscale\":[[0.0,\"#0d0887\"],[0.1111111111111111,\"#46039f\"],[0.2222222222222222,\"#7201a8\"],[0.3333333333333333,\"#9c179e\"],[0.4444444444444444,\"#bd3786\"],[0.5555555555555556,\"#d8576b\"],[0.6666666666666666,\"#ed7953\"],[0.7777777777777778,\"#fb9f3a\"],[0.8888888888888888,\"#fdca26\"],[1.0,\"#f0f921\"]],\"type\":\"heatmap\"}],\"histogram2dcontour\":[{\"colorbar\":{\"outlinewidth\":0,\"ticks\":\"\"},\"colorscale\":[[0.0,\"#0d0887\"],[0.1111111111111111,\"#46039f\"],[0.2222222222222222,\"#7201a8\"],[0.3333333333333333,\"#9c179e\"],[0.4444444444444444,\"#bd3786\"],[0.5555555555555556,\"#d8576b\"],[0.6666666666666666,\"#ed7953\"],[0.7777777777777778,\"#fb9f3a\"],[0.8888888888888888,\"#fdca26\"],[1.0,\"#f0f921\"]],\"type\":\"histogram2dcontour\"}],\"histogram2d\":[{\"colorbar\":{\"outlinewidth\":0,\"ticks\":\"\"},\"colorscale\":[[0.0,\"#0d0887\"],[0.1111111111111111,\"#46039f\"],[0.2222222222222222,\"#7201a8\"],[0.3333333333333333,\"#9c179e\"],[0.4444444444444444,\"#bd3786\"],[0.5555555555555556,\"#d8576b\"],[0.6666666666666666,\"#ed7953\"],[0.7777777777777778,\"#fb9f3a\"],[0.8888888888888888,\"#fdca26\"],[1.0,\"#f0f921\"]],\"type\":\"histogram2d\"}],\"histogram\":[{\"marker\":{\"pattern\":{\"fillmode\":\"overlay\",\"size\":10,\"solidity\":0.2}},\"type\":\"histogram\"}],\"mesh3d\":[{\"colorbar\":{\"outlinewidth\":0,\"ticks\":\"\"},\"type\":\"mesh3d\"}],\"parcoords\":[{\"line\":{\"colorbar\":{\"outlinewidth\":0,\"ticks\":\"\"}},\"type\":\"parcoords\"}],\"pie\":[{\"automargin\":true,\"type\":\"pie\"}],\"scatter3d\":[{\"line\":{\"colorbar\":{\"outlinewidth\":0,\"ticks\":\"\"}},\"marker\":{\"colorbar\":{\"outlinewidth\":0,\"ticks\":\"\"}},\"type\":\"scatter3d\"}],\"scattercarpet\":[{\"marker\":{\"colorbar\":{\"outlinewidth\":0,\"ticks\":\"\"}},\"type\":\"scattercarpet\"}],\"scattergeo\":[{\"marker\":{\"colorbar\":{\"outlinewidth\":0,\"ticks\":\"\"}},\"type\":\"scattergeo\"}],\"scattergl\":[{\"marker\":{\"colorbar\":{\"outlinewidth\":0,\"ticks\":\"\"}},\"type\":\"scattergl\"}],\"scattermapbox\":[{\"marker\":{\"colorbar\":{\"outlinewidth\":0,\"ticks\":\"\"}},\"type\":\"scattermapbox\"}],\"scatterpolargl\":[{\"marker\":{\"colorbar\":{\"outlinewidth\":0,\"ticks\":\"\"}},\"type\":\"scatterpolargl\"}],\"scatterpolar\":[{\"marker\":{\"colorbar\":{\"outlinewidth\":0,\"ticks\":\"\"}},\"type\":\"scatterpolar\"}],\"scatter\":[{\"fillpattern\":{\"fillmode\":\"overlay\",\"size\":10,\"solidity\":0.2},\"type\":\"scatter\"}],\"scatterternary\":[{\"marker\":{\"colorbar\":{\"outlinewidth\":0,\"ticks\":\"\"}},\"type\":\"scatterternary\"}],\"surface\":[{\"colorbar\":{\"outlinewidth\":0,\"ticks\":\"\"},\"colorscale\":[[0.0,\"#0d0887\"],[0.1111111111111111,\"#46039f\"],[0.2222222222222222,\"#7201a8\"],[0.3333333333333333,\"#9c179e\"],[0.4444444444444444,\"#bd3786\"],[0.5555555555555556,\"#d8576b\"],[0.6666666666666666,\"#ed7953\"],[0.7777777777777778,\"#fb9f3a\"],[0.8888888888888888,\"#fdca26\"],[1.0,\"#f0f921\"]],\"type\":\"surface\"}],\"table\":[{\"cells\":{\"fill\":{\"color\":\"#EBF0F8\"},\"line\":{\"color\":\"white\"}},\"header\":{\"fill\":{\"color\":\"#C8D4E3\"},\"line\":{\"color\":\"white\"}},\"type\":\"table\"}]},\"layout\":{\"annotationdefaults\":{\"arrowcolor\":\"#2a3f5f\",\"arrowhead\":0,\"arrowwidth\":1},\"autotypenumbers\":\"strict\",\"coloraxis\":{\"colorbar\":{\"outlinewidth\":0,\"ticks\":\"\"}},\"colorscale\":{\"diverging\":[[0,\"#8e0152\"],[0.1,\"#c51b7d\"],[0.2,\"#de77ae\"],[0.3,\"#f1b6da\"],[0.4,\"#fde0ef\"],[0.5,\"#f7f7f7\"],[0.6,\"#e6f5d0\"],[0.7,\"#b8e186\"],[0.8,\"#7fbc41\"],[0.9,\"#4d9221\"],[1,\"#276419\"]],\"sequential\":[[0.0,\"#0d0887\"],[0.1111111111111111,\"#46039f\"],[0.2222222222222222,\"#7201a8\"],[0.3333333333333333,\"#9c179e\"],[0.4444444444444444,\"#bd3786\"],[0.5555555555555556,\"#d8576b\"],[0.6666666666666666,\"#ed7953\"],[0.7777777777777778,\"#fb9f3a\"],[0.8888888888888888,\"#fdca26\"],[1.0,\"#f0f921\"]],\"sequentialminus\":[[0.0,\"#0d0887\"],[0.1111111111111111,\"#46039f\"],[0.2222222222222222,\"#7201a8\"],[0.3333333333333333,\"#9c179e\"],[0.4444444444444444,\"#bd3786\"],[0.5555555555555556,\"#d8576b\"],[0.6666666666666666,\"#ed7953\"],[0.7777777777777778,\"#fb9f3a\"],[0.8888888888888888,\"#fdca26\"],[1.0,\"#f0f921\"]]},\"colorway\":[\"#636efa\",\"#EF553B\",\"#00cc96\",\"#ab63fa\",\"#FFA15A\",\"#19d3f3\",\"#FF6692\",\"#B6E880\",\"#FF97FF\",\"#FECB52\"],\"font\":{\"color\":\"#2a3f5f\"},\"geo\":{\"bgcolor\":\"white\",\"lakecolor\":\"white\",\"landcolor\":\"#E5ECF6\",\"showlakes\":true,\"showland\":true,\"subunitcolor\":\"white\"},\"hoverlabel\":{\"align\":\"left\"},\"hovermode\":\"closest\",\"mapbox\":{\"style\":\"light\"},\"paper_bgcolor\":\"white\",\"plot_bgcolor\":\"#E5ECF6\",\"polar\":{\"angularaxis\":{\"gridcolor\":\"white\",\"linecolor\":\"white\",\"ticks\":\"\"},\"bgcolor\":\"#E5ECF6\",\"radialaxis\":{\"gridcolor\":\"white\",\"linecolor\":\"white\",\"ticks\":\"\"}},\"scene\":{\"xaxis\":{\"backgroundcolor\":\"#E5ECF6\",\"gridcolor\":\"white\",\"gridwidth\":2,\"linecolor\":\"white\",\"showbackground\":true,\"ticks\":\"\",\"zerolinecolor\":\"white\"},\"yaxis\":{\"backgroundcolor\":\"#E5ECF6\",\"gridcolor\":\"white\",\"gridwidth\":2,\"linecolor\":\"white\",\"showbackground\":true,\"ticks\":\"\",\"zerolinecolor\":\"white\"},\"zaxis\":{\"backgroundcolor\":\"#E5ECF6\",\"gridcolor\":\"white\",\"gridwidth\":2,\"linecolor\":\"white\",\"showbackground\":true,\"ticks\":\"\",\"zerolinecolor\":\"white\"}},\"shapedefaults\":{\"line\":{\"color\":\"#2a3f5f\"}},\"ternary\":{\"aaxis\":{\"gridcolor\":\"white\",\"linecolor\":\"white\",\"ticks\":\"\"},\"baxis\":{\"gridcolor\":\"white\",\"linecolor\":\"white\",\"ticks\":\"\"},\"bgcolor\":\"#E5ECF6\",\"caxis\":{\"gridcolor\":\"white\",\"linecolor\":\"white\",\"ticks\":\"\"}},\"title\":{\"x\":0.05},\"xaxis\":{\"automargin\":true,\"gridcolor\":\"white\",\"linecolor\":\"white\",\"ticks\":\"\",\"title\":{\"standoff\":15},\"zerolinecolor\":\"white\",\"zerolinewidth\":2},\"yaxis\":{\"automargin\":true,\"gridcolor\":\"white\",\"linecolor\":\"white\",\"ticks\":\"\",\"title\":{\"standoff\":15},\"zerolinecolor\":\"white\",\"zerolinewidth\":2}}},\"title\":{\"text\":\"GANTT Chart\"},\"xaxis\":{\"range\":[\"1970-01-01T00:00:00\",\"1970-01-02T06:58:32\"],\"title\":{\"font\":{\"color\":\"#7f7f7f\",\"family\":\"Courier New, monospace\",\"size\":18},\"text\":\"Time\"}},\"yaxis\":{\"title\":{\"font\":{\"color\":\"#7f7f7f\",\"family\":\"Courier New, monospace\",\"size\":18},\"text\":\"Activities\"}}},                        {\"responsive\": true}                    ).then(function(){\n",
       "                            \n",
       "var gd = document.getElementById('43d9a273-565c-4457-960f-c5327edfd5df');\n",
       "var x = new MutationObserver(function (mutations, observer) {{\n",
       "        var display = window.getComputedStyle(gd).display;\n",
       "        if (!display || display === 'none') {{\n",
       "            console.log([gd, 'removed!']);\n",
       "            Plotly.purge(gd);\n",
       "            observer.disconnect();\n",
       "        }}\n",
       "}});\n",
       "\n",
       "// Listen for the removal of the full notebook cells\n",
       "var notebookContainer = gd.closest('#notebook-container');\n",
       "if (notebookContainer) {{\n",
       "    x.observe(notebookContainer, {childList: true});\n",
       "}}\n",
       "\n",
       "// Listen for the clearing of the current output cell\n",
       "var outputEl = gd.closest('.output');\n",
       "if (outputEl) {{\n",
       "    x.observe(outputEl, {childList: true});\n",
       "}}\n",
       "\n",
       "                        })                };                });            </script>        </div>"
      ]
     },
     "metadata": {},
     "output_type": "display_data"
    }
   ],
   "source": [
    "fig = plot.get_gantt_chart([*vessels.values(), to_site], id_map=[activities[x] for x in activities])"
   ]
  },
  {
   "cell_type": "code",
   "execution_count": 6,
   "id": "c0e34b11",
   "metadata": {},
   "outputs": [
    {
     "data": {
      "text/html": [
       "        <script type=\"text/javascript\">\n",
       "        window.PlotlyConfig = {MathJaxConfig: 'local'};\n",
       "        if (window.MathJax) {MathJax.Hub.Config({SVG: {font: \"STIX-Web\"}});}\n",
       "        if (typeof require !== 'undefined') {\n",
       "        require.undef(\"plotly\");\n",
       "        requirejs.config({\n",
       "            paths: {\n",
       "                'plotly': ['https://cdn.plot.ly/plotly-2.11.1.min']\n",
       "            }\n",
       "        });\n",
       "        require(['plotly'], function(Plotly) {\n",
       "            window._Plotly = Plotly;\n",
       "        });\n",
       "        }\n",
       "        </script>\n",
       "        "
      ]
     },
     "metadata": {},
     "output_type": "display_data"
    },
    {
     "data": {
      "application/vnd.plotly.v1+json": {
       "config": {
        "linkText": "Export to plot.ly",
        "plotlyServerURL": "https://plot.ly",
        "showLink": false
       },
       "data": [
        {
         "connectgaps": false,
         "hoverinfo": "y+name",
         "line": {
          "color": "rgb(77,57,217)",
          "width": 10
         },
         "mode": "lines",
         "name": "loading:barge_1",
         "type": "scatter",
         "x": [
          "1970-01-01T01:14:46",
          "1970-01-01T01:14:46",
          "1970-01-01T01:48:06",
          "1970-01-01T01:48:06",
          "1970-01-01T01:48:06",
          "1970-01-01T04:17:38",
          "1970-01-01T04:17:38",
          "1970-01-01T04:50:58",
          "1970-01-01T04:50:58",
          "1970-01-01T04:50:58",
          "1970-01-01T07:20:30",
          "1970-01-01T07:20:30",
          "1970-01-01T07:53:50",
          "1970-01-01T07:53:50",
          "1970-01-01T07:53:50",
          "1970-01-01T10:23:22",
          "1970-01-01T10:23:22",
          "1970-01-01T10:56:42",
          "1970-01-01T10:56:42",
          "1970-01-01T10:56:42",
          "1970-01-01T13:26:14",
          "1970-01-01T13:26:14",
          "1970-01-01T13:59:34",
          "1970-01-01T13:59:34",
          "1970-01-01T13:59:34",
          "1970-01-01T16:29:06",
          "1970-01-01T16:29:06",
          "1970-01-01T17:02:26",
          "1970-01-01T17:02:26",
          "1970-01-01T17:02:26",
          "1970-01-01T19:40:26",
          "1970-01-01T19:40:26",
          "1970-01-01T20:13:46",
          "1970-01-01T20:13:46",
          "1970-01-01T20:13:46",
          "1970-01-01T23:08:14",
          "1970-01-01T23:08:14",
          "1970-01-01T23:41:34",
          "1970-01-01T23:41:34",
          "1970-01-01T23:41:34",
          "1970-01-02T02:36:02",
          "1970-01-02T02:36:02",
          "1970-01-02T03:09:22",
          "1970-01-02T03:09:22",
          "1970-01-02T03:09:22",
          "1970-01-01T01:14:46",
          "1970-01-01T01:14:46",
          "1970-01-01T01:48:06",
          "1970-01-01T01:48:06",
          "1970-01-01T01:48:06",
          "1970-01-01T04:17:38",
          "1970-01-01T04:17:38",
          "1970-01-01T04:50:58",
          "1970-01-01T04:50:58",
          "1970-01-01T04:50:58",
          "1970-01-01T07:20:30",
          "1970-01-01T07:20:30",
          "1970-01-01T07:53:50",
          "1970-01-01T07:53:50",
          "1970-01-01T07:53:50",
          "1970-01-01T10:23:22",
          "1970-01-01T10:23:22",
          "1970-01-01T10:56:42",
          "1970-01-01T10:56:42",
          "1970-01-01T10:56:42",
          "1970-01-01T13:26:14",
          "1970-01-01T13:26:14",
          "1970-01-01T13:59:34",
          "1970-01-01T13:59:34",
          "1970-01-01T13:59:34",
          "1970-01-01T16:29:06",
          "1970-01-01T16:29:06",
          "1970-01-01T17:02:26",
          "1970-01-01T17:02:26",
          "1970-01-01T17:02:26",
          "1970-01-01T19:40:26",
          "1970-01-01T19:40:26",
          "1970-01-01T20:13:46",
          "1970-01-01T20:13:46",
          "1970-01-01T20:13:46",
          "1970-01-01T23:08:14",
          "1970-01-01T23:08:14",
          "1970-01-01T23:41:34",
          "1970-01-01T23:41:34",
          "1970-01-01T23:41:34",
          "1970-01-02T02:36:02",
          "1970-01-02T02:36:02",
          "1970-01-02T03:09:22",
          "1970-01-02T03:09:22",
          "1970-01-02T03:09:22"
         ],
         "y": [
          "from_site",
          "from_site",
          "from_site",
          "from_site",
          null,
          "from_site",
          "from_site",
          "from_site",
          "from_site",
          null,
          "from_site",
          "from_site",
          "from_site",
          "from_site",
          null,
          "from_site",
          "from_site",
          "from_site",
          "from_site",
          null,
          "from_site",
          "from_site",
          "from_site",
          "from_site",
          null,
          "from_site",
          "from_site",
          "from_site",
          "from_site",
          null,
          "from_site",
          "from_site",
          "from_site",
          "from_site",
          null,
          "from_site",
          "from_site",
          "from_site",
          "from_site",
          null,
          "from_site",
          "from_site",
          "from_site",
          "from_site",
          null,
          "cutter",
          "cutter",
          "cutter",
          "cutter",
          null,
          "cutter",
          "cutter",
          "cutter",
          "cutter",
          null,
          "cutter",
          "cutter",
          "cutter",
          "cutter",
          null,
          "cutter",
          "cutter",
          "cutter",
          "cutter",
          null,
          "cutter",
          "cutter",
          "cutter",
          "cutter",
          null,
          "cutter",
          "cutter",
          "cutter",
          "cutter",
          null,
          "cutter",
          "cutter",
          "cutter",
          "cutter",
          null,
          "cutter",
          "cutter",
          "cutter",
          "cutter",
          null,
          "cutter",
          "cutter",
          "cutter",
          "cutter",
          null
         ]
        },
        {
         "connectgaps": false,
         "hoverinfo": "y+name",
         "line": {
          "color": "rgb(105,85,245)",
          "width": 10
         },
         "mode": "lines",
         "name": "loading:barge_0",
         "type": "scatter",
         "x": [
          "1970-01-01T01:48:06",
          "1970-01-01T01:48:06",
          "1970-01-01T02:21:26",
          "1970-01-01T02:21:26",
          "1970-01-01T02:21:26",
          "1970-01-01T05:15:54",
          "1970-01-01T05:15:54",
          "1970-01-01T05:49:14",
          "1970-01-01T05:49:14",
          "1970-01-01T05:49:14",
          "1970-01-01T08:43:42",
          "1970-01-01T08:43:42",
          "1970-01-01T09:17:02",
          "1970-01-01T09:17:02",
          "1970-01-01T09:17:02",
          "1970-01-01T12:11:30",
          "1970-01-01T12:11:30",
          "1970-01-01T12:44:50",
          "1970-01-01T12:44:50",
          "1970-01-01T12:44:50",
          "1970-01-01T15:39:18",
          "1970-01-01T15:39:18",
          "1970-01-01T16:12:38",
          "1970-01-01T16:12:38",
          "1970-01-01T16:12:38",
          "1970-01-01T19:07:06",
          "1970-01-01T19:07:06",
          "1970-01-01T19:40:26",
          "1970-01-01T19:40:26",
          "1970-01-01T19:40:26",
          "1970-01-01T22:34:54",
          "1970-01-01T22:34:54",
          "1970-01-01T23:08:14",
          "1970-01-01T23:08:14",
          "1970-01-01T23:08:14",
          "1970-01-02T02:02:42",
          "1970-01-02T02:02:42",
          "1970-01-02T02:36:02",
          "1970-01-02T02:36:02",
          "1970-01-02T02:36:02",
          "1970-01-01T01:48:06",
          "1970-01-01T01:48:06",
          "1970-01-01T02:21:26",
          "1970-01-01T02:21:26",
          "1970-01-01T02:21:26",
          "1970-01-01T05:15:54",
          "1970-01-01T05:15:54",
          "1970-01-01T05:49:14",
          "1970-01-01T05:49:14",
          "1970-01-01T05:49:14",
          "1970-01-01T08:43:42",
          "1970-01-01T08:43:42",
          "1970-01-01T09:17:02",
          "1970-01-01T09:17:02",
          "1970-01-01T09:17:02",
          "1970-01-01T12:11:30",
          "1970-01-01T12:11:30",
          "1970-01-01T12:44:50",
          "1970-01-01T12:44:50",
          "1970-01-01T12:44:50",
          "1970-01-01T15:39:18",
          "1970-01-01T15:39:18",
          "1970-01-01T16:12:38",
          "1970-01-01T16:12:38",
          "1970-01-01T16:12:38",
          "1970-01-01T19:07:06",
          "1970-01-01T19:07:06",
          "1970-01-01T19:40:26",
          "1970-01-01T19:40:26",
          "1970-01-01T19:40:26",
          "1970-01-01T22:34:54",
          "1970-01-01T22:34:54",
          "1970-01-01T23:08:14",
          "1970-01-01T23:08:14",
          "1970-01-01T23:08:14",
          "1970-01-02T02:02:42",
          "1970-01-02T02:02:42",
          "1970-01-02T02:36:02",
          "1970-01-02T02:36:02",
          "1970-01-02T02:36:02"
         ],
         "y": [
          "from_site",
          "from_site",
          "from_site",
          "from_site",
          null,
          "from_site",
          "from_site",
          "from_site",
          "from_site",
          null,
          "from_site",
          "from_site",
          "from_site",
          "from_site",
          null,
          "from_site",
          "from_site",
          "from_site",
          "from_site",
          null,
          "from_site",
          "from_site",
          "from_site",
          "from_site",
          null,
          "from_site",
          "from_site",
          "from_site",
          "from_site",
          null,
          "from_site",
          "from_site",
          "from_site",
          "from_site",
          null,
          "from_site",
          "from_site",
          "from_site",
          "from_site",
          null,
          "cutter",
          "cutter",
          "cutter",
          "cutter",
          null,
          "cutter",
          "cutter",
          "cutter",
          "cutter",
          null,
          "cutter",
          "cutter",
          "cutter",
          "cutter",
          null,
          "cutter",
          "cutter",
          "cutter",
          "cutter",
          null,
          "cutter",
          "cutter",
          "cutter",
          "cutter",
          null,
          "cutter",
          "cutter",
          "cutter",
          "cutter",
          null,
          "cutter",
          "cutter",
          "cutter",
          "cutter",
          null,
          "cutter",
          "cutter",
          "cutter",
          "cutter",
          null
         ]
        },
        {
         "connectgaps": false,
         "hoverinfo": "y+name",
         "line": {
          "color": "rgb(133,113,17)",
          "width": 10
         },
         "mode": "lines",
         "name": "loading:barge_2",
         "type": "scatter",
         "x": [
          "1970-01-01T02:21:26",
          "1970-01-01T02:21:26",
          "1970-01-01T02:54:46",
          "1970-01-01T02:54:46",
          "1970-01-01T02:54:46",
          "1970-01-01T06:04:10",
          "1970-01-01T06:04:10",
          "1970-01-01T06:37:30",
          "1970-01-01T06:37:30",
          "1970-01-01T06:37:30",
          "1970-01-01T09:46:54",
          "1970-01-01T09:46:54",
          "1970-01-01T10:20:14",
          "1970-01-01T10:20:14",
          "1970-01-01T10:20:14",
          "1970-01-01T13:59:34",
          "1970-01-01T13:59:34",
          "1970-01-01T14:32:54",
          "1970-01-01T14:32:54",
          "1970-01-01T14:32:54",
          "1970-01-01T17:42:18",
          "1970-01-01T17:42:18",
          "1970-01-01T18:15:38",
          "1970-01-01T18:15:38",
          "1970-01-01T18:15:38",
          "1970-01-01T21:25:02",
          "1970-01-01T21:25:02",
          "1970-01-01T21:58:22",
          "1970-01-01T21:58:22",
          "1970-01-01T21:58:22",
          "1970-01-02T01:07:46",
          "1970-01-02T01:07:46",
          "1970-01-02T01:41:06",
          "1970-01-02T01:41:06",
          "1970-01-02T01:41:06",
          "1970-01-02T04:50:30",
          "1970-01-02T04:50:30",
          "1970-01-02T05:23:50",
          "1970-01-02T05:23:50",
          "1970-01-02T05:23:50",
          "1970-01-01T02:21:26",
          "1970-01-01T02:21:26",
          "1970-01-01T02:54:46",
          "1970-01-01T02:54:46",
          "1970-01-01T02:54:46",
          "1970-01-01T06:04:10",
          "1970-01-01T06:04:10",
          "1970-01-01T06:37:30",
          "1970-01-01T06:37:30",
          "1970-01-01T06:37:30",
          "1970-01-01T09:46:54",
          "1970-01-01T09:46:54",
          "1970-01-01T10:20:14",
          "1970-01-01T10:20:14",
          "1970-01-01T10:20:14",
          "1970-01-01T13:59:34",
          "1970-01-01T13:59:34",
          "1970-01-01T14:32:54",
          "1970-01-01T14:32:54",
          "1970-01-01T14:32:54",
          "1970-01-01T17:42:18",
          "1970-01-01T17:42:18",
          "1970-01-01T18:15:38",
          "1970-01-01T18:15:38",
          "1970-01-01T18:15:38",
          "1970-01-01T21:25:02",
          "1970-01-01T21:25:02",
          "1970-01-01T21:58:22",
          "1970-01-01T21:58:22",
          "1970-01-01T21:58:22",
          "1970-01-02T01:07:46",
          "1970-01-02T01:07:46",
          "1970-01-02T01:41:06",
          "1970-01-02T01:41:06",
          "1970-01-02T01:41:06",
          "1970-01-02T04:50:30",
          "1970-01-02T04:50:30",
          "1970-01-02T05:23:50",
          "1970-01-02T05:23:50",
          "1970-01-02T05:23:50"
         ],
         "y": [
          "from_site",
          "from_site",
          "from_site",
          "from_site",
          null,
          "from_site",
          "from_site",
          "from_site",
          "from_site",
          null,
          "from_site",
          "from_site",
          "from_site",
          "from_site",
          null,
          "from_site",
          "from_site",
          "from_site",
          "from_site",
          null,
          "from_site",
          "from_site",
          "from_site",
          "from_site",
          null,
          "from_site",
          "from_site",
          "from_site",
          "from_site",
          null,
          "from_site",
          "from_site",
          "from_site",
          "from_site",
          null,
          "from_site",
          "from_site",
          "from_site",
          "from_site",
          null,
          "cutter",
          "cutter",
          "cutter",
          "cutter",
          null,
          "cutter",
          "cutter",
          "cutter",
          "cutter",
          null,
          "cutter",
          "cutter",
          "cutter",
          "cutter",
          null,
          "cutter",
          "cutter",
          "cutter",
          "cutter",
          null,
          "cutter",
          "cutter",
          "cutter",
          "cutter",
          null,
          "cutter",
          "cutter",
          "cutter",
          "cutter",
          null,
          "cutter",
          "cutter",
          "cutter",
          "cutter",
          null,
          "cutter",
          "cutter",
          "cutter",
          "cutter",
          null
         ]
        },
        {
         "connectgaps": false,
         "hoverinfo": "y+name",
         "line": {
          "color": "rgb(161,141,45)",
          "width": 10
         },
         "mode": "lines",
         "name": "unloading:barge_1",
         "type": "scatter",
         "x": [
          "1970-01-01T02:25:29",
          "1970-01-01T02:25:29",
          "1970-01-01T03:02:52",
          "1970-01-01T03:02:52",
          "1970-01-01T03:02:52",
          "1970-01-01T05:28:21",
          "1970-01-01T05:28:21",
          "1970-01-01T06:05:44",
          "1970-01-01T06:05:44",
          "1970-01-01T06:05:44",
          "1970-01-01T08:31:13",
          "1970-01-01T08:31:13",
          "1970-01-01T09:08:36",
          "1970-01-01T09:08:36",
          "1970-01-01T09:08:36",
          "1970-01-01T11:34:05",
          "1970-01-01T11:34:05",
          "1970-01-01T12:11:28",
          "1970-01-01T12:11:28",
          "1970-01-01T12:11:28",
          "1970-01-01T14:36:57",
          "1970-01-01T14:36:57",
          "1970-01-01T15:14:20",
          "1970-01-01T15:14:20",
          "1970-01-01T15:14:20",
          "1970-01-01T17:39:49",
          "1970-01-01T17:39:49",
          "1970-01-01T18:17:12",
          "1970-01-01T18:17:12",
          "1970-01-01T18:17:12",
          "1970-01-01T20:51:09",
          "1970-01-01T20:51:09",
          "1970-01-01T21:28:32",
          "1970-01-01T21:28:32",
          "1970-01-01T21:28:32",
          "1970-01-02T00:18:57",
          "1970-01-02T00:18:57",
          "1970-01-02T00:56:20",
          "1970-01-02T00:56:20",
          "1970-01-02T00:56:20",
          "1970-01-02T03:46:45",
          "1970-01-02T03:46:45",
          "1970-01-02T04:24:08",
          "1970-01-02T04:24:08",
          "1970-01-02T04:24:08"
         ],
         "y": [
          "to_site",
          "to_site",
          "to_site",
          "to_site",
          null,
          "to_site",
          "to_site",
          "to_site",
          "to_site",
          null,
          "to_site",
          "to_site",
          "to_site",
          "to_site",
          null,
          "to_site",
          "to_site",
          "to_site",
          "to_site",
          null,
          "to_site",
          "to_site",
          "to_site",
          "to_site",
          null,
          "to_site",
          "to_site",
          "to_site",
          "to_site",
          null,
          "to_site",
          "to_site",
          "to_site",
          "to_site",
          null,
          "to_site",
          "to_site",
          "to_site",
          "to_site",
          null,
          "to_site",
          "to_site",
          "to_site",
          "to_site",
          null
         ]
        },
        {
         "connectgaps": false,
         "hoverinfo": "y+name",
         "line": {
          "color": "rgb(189,169,73)",
          "width": 10
         },
         "mode": "lines",
         "name": "unloading:barge_2",
         "type": "scatter",
         "x": [
          "1970-01-01T03:42:07",
          "1970-01-01T03:42:07",
          "1970-01-01T04:29:28",
          "1970-01-01T04:29:28",
          "1970-01-01T04:29:28",
          "1970-01-01T07:24:51",
          "1970-01-01T07:24:51",
          "1970-01-01T08:12:12",
          "1970-01-01T08:12:12",
          "1970-01-01T08:12:12",
          "1970-01-01T11:07:35",
          "1970-01-01T11:07:35",
          "1970-01-01T11:54:56",
          "1970-01-01T11:54:56",
          "1970-01-01T11:54:56",
          "1970-01-01T15:20:15",
          "1970-01-01T15:20:15",
          "1970-01-01T16:07:36",
          "1970-01-01T16:07:36",
          "1970-01-01T16:07:36",
          "1970-01-01T19:02:59",
          "1970-01-01T19:02:59",
          "1970-01-01T19:50:20",
          "1970-01-01T19:50:20",
          "1970-01-01T19:50:20",
          "1970-01-01T22:45:43",
          "1970-01-01T22:45:43",
          "1970-01-01T23:33:04",
          "1970-01-01T23:33:04",
          "1970-01-01T23:33:04",
          "1970-01-02T02:28:27",
          "1970-01-02T02:28:27",
          "1970-01-02T03:15:48",
          "1970-01-02T03:15:48",
          "1970-01-02T03:15:48",
          "1970-01-02T06:11:11",
          "1970-01-02T06:11:11",
          "1970-01-02T06:58:32",
          "1970-01-02T06:58:32",
          "1970-01-02T06:58:32"
         ],
         "y": [
          "to_site",
          "to_site",
          "to_site",
          "to_site",
          null,
          "to_site",
          "to_site",
          "to_site",
          "to_site",
          null,
          "to_site",
          "to_site",
          "to_site",
          "to_site",
          null,
          "to_site",
          "to_site",
          "to_site",
          "to_site",
          null,
          "to_site",
          "to_site",
          "to_site",
          "to_site",
          null,
          "to_site",
          "to_site",
          "to_site",
          "to_site",
          null,
          "to_site",
          "to_site",
          "to_site",
          "to_site",
          null,
          "to_site",
          "to_site",
          "to_site",
          "to_site",
          null
         ]
        },
        {
         "connectgaps": false,
         "hoverinfo": "y+name",
         "line": {
          "color": "rgb(217,197,101)",
          "width": 10
         },
         "mode": "lines",
         "name": "unloading:barge_0",
         "type": "scatter",
         "x": [
          "1970-01-01T03:05:03",
          "1970-01-01T03:05:03",
          "1970-01-01T03:48:40",
          "1970-01-01T03:48:40",
          "1970-01-01T03:48:40",
          "1970-01-01T06:32:51",
          "1970-01-01T06:32:51",
          "1970-01-01T07:16:28",
          "1970-01-01T07:16:28",
          "1970-01-01T07:16:28",
          "1970-01-01T10:00:39",
          "1970-01-01T10:00:39",
          "1970-01-01T10:44:16",
          "1970-01-01T10:44:16",
          "1970-01-01T10:44:16",
          "1970-01-01T13:28:27",
          "1970-01-01T13:28:27",
          "1970-01-01T14:12:04",
          "1970-01-01T14:12:04",
          "1970-01-01T14:12:04",
          "1970-01-01T16:56:15",
          "1970-01-01T16:56:15",
          "1970-01-01T17:39:52",
          "1970-01-01T17:39:52",
          "1970-01-01T17:39:52",
          "1970-01-01T20:24:03",
          "1970-01-01T20:24:03",
          "1970-01-01T21:07:40",
          "1970-01-01T21:07:40",
          "1970-01-01T21:07:40",
          "1970-01-01T23:51:51",
          "1970-01-01T23:51:51",
          "1970-01-02T00:35:28",
          "1970-01-02T00:35:28",
          "1970-01-02T00:35:28",
          "1970-01-02T03:19:39",
          "1970-01-02T03:19:39",
          "1970-01-02T04:03:16",
          "1970-01-02T04:03:16",
          "1970-01-02T04:03:16"
         ],
         "y": [
          "to_site",
          "to_site",
          "to_site",
          "to_site",
          null,
          "to_site",
          "to_site",
          "to_site",
          "to_site",
          null,
          "to_site",
          "to_site",
          "to_site",
          "to_site",
          null,
          "to_site",
          "to_site",
          "to_site",
          "to_site",
          null,
          "to_site",
          "to_site",
          "to_site",
          "to_site",
          null,
          "to_site",
          "to_site",
          "to_site",
          "to_site",
          null,
          "to_site",
          "to_site",
          "to_site",
          "to_site",
          null,
          "to_site",
          "to_site",
          "to_site",
          "to_site",
          null
         ]
        },
        {
         "connectgaps": false,
         "hoverinfo": "y+name",
         "line": {
          "color": "rgb(245,225,129)",
          "width": 10
         },
         "mode": "lines",
         "name": "loading:barge_1",
         "type": "scatter",
         "x": [
          "1970-01-01T01:14:46",
          "1970-01-01T01:14:46",
          "1970-01-01T01:48:06",
          "1970-01-01T01:48:06",
          "1970-01-01T01:48:06",
          "1970-01-01T04:17:38",
          "1970-01-01T04:17:38",
          "1970-01-01T04:50:58",
          "1970-01-01T04:50:58",
          "1970-01-01T04:50:58",
          "1970-01-01T07:20:30",
          "1970-01-01T07:20:30",
          "1970-01-01T07:53:50",
          "1970-01-01T07:53:50",
          "1970-01-01T07:53:50",
          "1970-01-01T10:23:22",
          "1970-01-01T10:23:22",
          "1970-01-01T10:56:42",
          "1970-01-01T10:56:42",
          "1970-01-01T10:56:42",
          "1970-01-01T13:26:14",
          "1970-01-01T13:26:14",
          "1970-01-01T13:59:34",
          "1970-01-01T13:59:34",
          "1970-01-01T13:59:34",
          "1970-01-01T16:29:06",
          "1970-01-01T16:29:06",
          "1970-01-01T17:02:26",
          "1970-01-01T17:02:26",
          "1970-01-01T17:02:26",
          "1970-01-01T19:40:26",
          "1970-01-01T19:40:26",
          "1970-01-01T20:13:46",
          "1970-01-01T20:13:46",
          "1970-01-01T20:13:46",
          "1970-01-01T23:08:14",
          "1970-01-01T23:08:14",
          "1970-01-01T23:41:34",
          "1970-01-01T23:41:34",
          "1970-01-01T23:41:34",
          "1970-01-02T02:36:02",
          "1970-01-02T02:36:02",
          "1970-01-02T03:09:22",
          "1970-01-02T03:09:22",
          "1970-01-02T03:09:22",
          "1970-01-01T01:14:46",
          "1970-01-01T01:14:46",
          "1970-01-01T01:48:06",
          "1970-01-01T01:48:06",
          "1970-01-01T01:48:06",
          "1970-01-01T04:17:38",
          "1970-01-01T04:17:38",
          "1970-01-01T04:50:58",
          "1970-01-01T04:50:58",
          "1970-01-01T04:50:58",
          "1970-01-01T07:20:30",
          "1970-01-01T07:20:30",
          "1970-01-01T07:53:50",
          "1970-01-01T07:53:50",
          "1970-01-01T07:53:50",
          "1970-01-01T10:23:22",
          "1970-01-01T10:23:22",
          "1970-01-01T10:56:42",
          "1970-01-01T10:56:42",
          "1970-01-01T10:56:42",
          "1970-01-01T13:26:14",
          "1970-01-01T13:26:14",
          "1970-01-01T13:59:34",
          "1970-01-01T13:59:34",
          "1970-01-01T13:59:34",
          "1970-01-01T16:29:06",
          "1970-01-01T16:29:06",
          "1970-01-01T17:02:26",
          "1970-01-01T17:02:26",
          "1970-01-01T17:02:26",
          "1970-01-01T19:40:26",
          "1970-01-01T19:40:26",
          "1970-01-01T20:13:46",
          "1970-01-01T20:13:46",
          "1970-01-01T20:13:46",
          "1970-01-01T23:08:14",
          "1970-01-01T23:08:14",
          "1970-01-01T23:41:34",
          "1970-01-01T23:41:34",
          "1970-01-01T23:41:34",
          "1970-01-02T02:36:02",
          "1970-01-02T02:36:02",
          "1970-01-02T03:09:22",
          "1970-01-02T03:09:22",
          "1970-01-02T03:09:22"
         ],
         "y": [
          "from_site",
          "from_site",
          "from_site",
          "from_site",
          null,
          "from_site",
          "from_site",
          "from_site",
          "from_site",
          null,
          "from_site",
          "from_site",
          "from_site",
          "from_site",
          null,
          "from_site",
          "from_site",
          "from_site",
          "from_site",
          null,
          "from_site",
          "from_site",
          "from_site",
          "from_site",
          null,
          "from_site",
          "from_site",
          "from_site",
          "from_site",
          null,
          "from_site",
          "from_site",
          "from_site",
          "from_site",
          null,
          "from_site",
          "from_site",
          "from_site",
          "from_site",
          null,
          "from_site",
          "from_site",
          "from_site",
          "from_site",
          null,
          "cutter",
          "cutter",
          "cutter",
          "cutter",
          null,
          "cutter",
          "cutter",
          "cutter",
          "cutter",
          null,
          "cutter",
          "cutter",
          "cutter",
          "cutter",
          null,
          "cutter",
          "cutter",
          "cutter",
          "cutter",
          null,
          "cutter",
          "cutter",
          "cutter",
          "cutter",
          null,
          "cutter",
          "cutter",
          "cutter",
          "cutter",
          null,
          "cutter",
          "cutter",
          "cutter",
          "cutter",
          null,
          "cutter",
          "cutter",
          "cutter",
          "cutter",
          null,
          "cutter",
          "cutter",
          "cutter",
          "cutter",
          null
         ]
        },
        {
         "connectgaps": false,
         "hoverinfo": "y+name",
         "line": {
          "color": "rgb(17,253,157)",
          "width": 10
         },
         "mode": "lines",
         "name": "loading:barge_0",
         "type": "scatter",
         "x": [
          "1970-01-01T01:48:06",
          "1970-01-01T01:48:06",
          "1970-01-01T02:21:26",
          "1970-01-01T02:21:26",
          "1970-01-01T02:21:26",
          "1970-01-01T05:15:54",
          "1970-01-01T05:15:54",
          "1970-01-01T05:49:14",
          "1970-01-01T05:49:14",
          "1970-01-01T05:49:14",
          "1970-01-01T08:43:42",
          "1970-01-01T08:43:42",
          "1970-01-01T09:17:02",
          "1970-01-01T09:17:02",
          "1970-01-01T09:17:02",
          "1970-01-01T12:11:30",
          "1970-01-01T12:11:30",
          "1970-01-01T12:44:50",
          "1970-01-01T12:44:50",
          "1970-01-01T12:44:50",
          "1970-01-01T15:39:18",
          "1970-01-01T15:39:18",
          "1970-01-01T16:12:38",
          "1970-01-01T16:12:38",
          "1970-01-01T16:12:38",
          "1970-01-01T19:07:06",
          "1970-01-01T19:07:06",
          "1970-01-01T19:40:26",
          "1970-01-01T19:40:26",
          "1970-01-01T19:40:26",
          "1970-01-01T22:34:54",
          "1970-01-01T22:34:54",
          "1970-01-01T23:08:14",
          "1970-01-01T23:08:14",
          "1970-01-01T23:08:14",
          "1970-01-02T02:02:42",
          "1970-01-02T02:02:42",
          "1970-01-02T02:36:02",
          "1970-01-02T02:36:02",
          "1970-01-02T02:36:02",
          "1970-01-01T01:48:06",
          "1970-01-01T01:48:06",
          "1970-01-01T02:21:26",
          "1970-01-01T02:21:26",
          "1970-01-01T02:21:26",
          "1970-01-01T05:15:54",
          "1970-01-01T05:15:54",
          "1970-01-01T05:49:14",
          "1970-01-01T05:49:14",
          "1970-01-01T05:49:14",
          "1970-01-01T08:43:42",
          "1970-01-01T08:43:42",
          "1970-01-01T09:17:02",
          "1970-01-01T09:17:02",
          "1970-01-01T09:17:02",
          "1970-01-01T12:11:30",
          "1970-01-01T12:11:30",
          "1970-01-01T12:44:50",
          "1970-01-01T12:44:50",
          "1970-01-01T12:44:50",
          "1970-01-01T15:39:18",
          "1970-01-01T15:39:18",
          "1970-01-01T16:12:38",
          "1970-01-01T16:12:38",
          "1970-01-01T16:12:38",
          "1970-01-01T19:07:06",
          "1970-01-01T19:07:06",
          "1970-01-01T19:40:26",
          "1970-01-01T19:40:26",
          "1970-01-01T19:40:26",
          "1970-01-01T22:34:54",
          "1970-01-01T22:34:54",
          "1970-01-01T23:08:14",
          "1970-01-01T23:08:14",
          "1970-01-01T23:08:14",
          "1970-01-02T02:02:42",
          "1970-01-02T02:02:42",
          "1970-01-02T02:36:02",
          "1970-01-02T02:36:02",
          "1970-01-02T02:36:02"
         ],
         "y": [
          "from_site",
          "from_site",
          "from_site",
          "from_site",
          null,
          "from_site",
          "from_site",
          "from_site",
          "from_site",
          null,
          "from_site",
          "from_site",
          "from_site",
          "from_site",
          null,
          "from_site",
          "from_site",
          "from_site",
          "from_site",
          null,
          "from_site",
          "from_site",
          "from_site",
          "from_site",
          null,
          "from_site",
          "from_site",
          "from_site",
          "from_site",
          null,
          "from_site",
          "from_site",
          "from_site",
          "from_site",
          null,
          "from_site",
          "from_site",
          "from_site",
          "from_site",
          null,
          "cutter",
          "cutter",
          "cutter",
          "cutter",
          null,
          "cutter",
          "cutter",
          "cutter",
          "cutter",
          null,
          "cutter",
          "cutter",
          "cutter",
          "cutter",
          null,
          "cutter",
          "cutter",
          "cutter",
          "cutter",
          null,
          "cutter",
          "cutter",
          "cutter",
          "cutter",
          null,
          "cutter",
          "cutter",
          "cutter",
          "cutter",
          null,
          "cutter",
          "cutter",
          "cutter",
          "cutter",
          null,
          "cutter",
          "cutter",
          "cutter",
          "cutter",
          null
         ]
        },
        {
         "connectgaps": false,
         "hoverinfo": "y+name",
         "line": {
          "color": "rgb(45,25,185)",
          "width": 10
         },
         "mode": "lines",
         "name": "loading:barge_2",
         "type": "scatter",
         "x": [
          "1970-01-01T02:21:26",
          "1970-01-01T02:21:26",
          "1970-01-01T02:54:46",
          "1970-01-01T02:54:46",
          "1970-01-01T02:54:46",
          "1970-01-01T06:04:10",
          "1970-01-01T06:04:10",
          "1970-01-01T06:37:30",
          "1970-01-01T06:37:30",
          "1970-01-01T06:37:30",
          "1970-01-01T09:46:54",
          "1970-01-01T09:46:54",
          "1970-01-01T10:20:14",
          "1970-01-01T10:20:14",
          "1970-01-01T10:20:14",
          "1970-01-01T13:59:34",
          "1970-01-01T13:59:34",
          "1970-01-01T14:32:54",
          "1970-01-01T14:32:54",
          "1970-01-01T14:32:54",
          "1970-01-01T17:42:18",
          "1970-01-01T17:42:18",
          "1970-01-01T18:15:38",
          "1970-01-01T18:15:38",
          "1970-01-01T18:15:38",
          "1970-01-01T21:25:02",
          "1970-01-01T21:25:02",
          "1970-01-01T21:58:22",
          "1970-01-01T21:58:22",
          "1970-01-01T21:58:22",
          "1970-01-02T01:07:46",
          "1970-01-02T01:07:46",
          "1970-01-02T01:41:06",
          "1970-01-02T01:41:06",
          "1970-01-02T01:41:06",
          "1970-01-02T04:50:30",
          "1970-01-02T04:50:30",
          "1970-01-02T05:23:50",
          "1970-01-02T05:23:50",
          "1970-01-02T05:23:50",
          "1970-01-01T02:21:26",
          "1970-01-01T02:21:26",
          "1970-01-01T02:54:46",
          "1970-01-01T02:54:46",
          "1970-01-01T02:54:46",
          "1970-01-01T06:04:10",
          "1970-01-01T06:04:10",
          "1970-01-01T06:37:30",
          "1970-01-01T06:37:30",
          "1970-01-01T06:37:30",
          "1970-01-01T09:46:54",
          "1970-01-01T09:46:54",
          "1970-01-01T10:20:14",
          "1970-01-01T10:20:14",
          "1970-01-01T10:20:14",
          "1970-01-01T13:59:34",
          "1970-01-01T13:59:34",
          "1970-01-01T14:32:54",
          "1970-01-01T14:32:54",
          "1970-01-01T14:32:54",
          "1970-01-01T17:42:18",
          "1970-01-01T17:42:18",
          "1970-01-01T18:15:38",
          "1970-01-01T18:15:38",
          "1970-01-01T18:15:38",
          "1970-01-01T21:25:02",
          "1970-01-01T21:25:02",
          "1970-01-01T21:58:22",
          "1970-01-01T21:58:22",
          "1970-01-01T21:58:22",
          "1970-01-02T01:07:46",
          "1970-01-02T01:07:46",
          "1970-01-02T01:41:06",
          "1970-01-02T01:41:06",
          "1970-01-02T01:41:06",
          "1970-01-02T04:50:30",
          "1970-01-02T04:50:30",
          "1970-01-02T05:23:50",
          "1970-01-02T05:23:50",
          "1970-01-02T05:23:50"
         ],
         "y": [
          "from_site",
          "from_site",
          "from_site",
          "from_site",
          null,
          "from_site",
          "from_site",
          "from_site",
          "from_site",
          null,
          "from_site",
          "from_site",
          "from_site",
          "from_site",
          null,
          "from_site",
          "from_site",
          "from_site",
          "from_site",
          null,
          "from_site",
          "from_site",
          "from_site",
          "from_site",
          null,
          "from_site",
          "from_site",
          "from_site",
          "from_site",
          null,
          "from_site",
          "from_site",
          "from_site",
          "from_site",
          null,
          "from_site",
          "from_site",
          "from_site",
          "from_site",
          null,
          "cutter",
          "cutter",
          "cutter",
          "cutter",
          null,
          "cutter",
          "cutter",
          "cutter",
          "cutter",
          null,
          "cutter",
          "cutter",
          "cutter",
          "cutter",
          null,
          "cutter",
          "cutter",
          "cutter",
          "cutter",
          null,
          "cutter",
          "cutter",
          "cutter",
          "cutter",
          null,
          "cutter",
          "cutter",
          "cutter",
          "cutter",
          null,
          "cutter",
          "cutter",
          "cutter",
          "cutter",
          null,
          "cutter",
          "cutter",
          "cutter",
          "cutter",
          null
         ]
        }
       ],
       "layout": {
        "hovermode": "closest",
        "legend": {
         "orientation": "h",
         "x": 0,
         "y": -0.2
        },
        "template": {
         "data": {
          "bar": [
           {
            "error_x": {
             "color": "#2a3f5f"
            },
            "error_y": {
             "color": "#2a3f5f"
            },
            "marker": {
             "line": {
              "color": "#E5ECF6",
              "width": 0.5
             },
             "pattern": {
              "fillmode": "overlay",
              "size": 10,
              "solidity": 0.2
             }
            },
            "type": "bar"
           }
          ],
          "barpolar": [
           {
            "marker": {
             "line": {
              "color": "#E5ECF6",
              "width": 0.5
             },
             "pattern": {
              "fillmode": "overlay",
              "size": 10,
              "solidity": 0.2
             }
            },
            "type": "barpolar"
           }
          ],
          "carpet": [
           {
            "aaxis": {
             "endlinecolor": "#2a3f5f",
             "gridcolor": "white",
             "linecolor": "white",
             "minorgridcolor": "white",
             "startlinecolor": "#2a3f5f"
            },
            "baxis": {
             "endlinecolor": "#2a3f5f",
             "gridcolor": "white",
             "linecolor": "white",
             "minorgridcolor": "white",
             "startlinecolor": "#2a3f5f"
            },
            "type": "carpet"
           }
          ],
          "choropleth": [
           {
            "colorbar": {
             "outlinewidth": 0,
             "ticks": ""
            },
            "type": "choropleth"
           }
          ],
          "contour": [
           {
            "colorbar": {
             "outlinewidth": 0,
             "ticks": ""
            },
            "colorscale": [
             [
              0,
              "#0d0887"
             ],
             [
              0.1111111111111111,
              "#46039f"
             ],
             [
              0.2222222222222222,
              "#7201a8"
             ],
             [
              0.3333333333333333,
              "#9c179e"
             ],
             [
              0.4444444444444444,
              "#bd3786"
             ],
             [
              0.5555555555555556,
              "#d8576b"
             ],
             [
              0.6666666666666666,
              "#ed7953"
             ],
             [
              0.7777777777777778,
              "#fb9f3a"
             ],
             [
              0.8888888888888888,
              "#fdca26"
             ],
             [
              1,
              "#f0f921"
             ]
            ],
            "type": "contour"
           }
          ],
          "contourcarpet": [
           {
            "colorbar": {
             "outlinewidth": 0,
             "ticks": ""
            },
            "type": "contourcarpet"
           }
          ],
          "heatmap": [
           {
            "colorbar": {
             "outlinewidth": 0,
             "ticks": ""
            },
            "colorscale": [
             [
              0,
              "#0d0887"
             ],
             [
              0.1111111111111111,
              "#46039f"
             ],
             [
              0.2222222222222222,
              "#7201a8"
             ],
             [
              0.3333333333333333,
              "#9c179e"
             ],
             [
              0.4444444444444444,
              "#bd3786"
             ],
             [
              0.5555555555555556,
              "#d8576b"
             ],
             [
              0.6666666666666666,
              "#ed7953"
             ],
             [
              0.7777777777777778,
              "#fb9f3a"
             ],
             [
              0.8888888888888888,
              "#fdca26"
             ],
             [
              1,
              "#f0f921"
             ]
            ],
            "type": "heatmap"
           }
          ],
          "heatmapgl": [
           {
            "colorbar": {
             "outlinewidth": 0,
             "ticks": ""
            },
            "colorscale": [
             [
              0,
              "#0d0887"
             ],
             [
              0.1111111111111111,
              "#46039f"
             ],
             [
              0.2222222222222222,
              "#7201a8"
             ],
             [
              0.3333333333333333,
              "#9c179e"
             ],
             [
              0.4444444444444444,
              "#bd3786"
             ],
             [
              0.5555555555555556,
              "#d8576b"
             ],
             [
              0.6666666666666666,
              "#ed7953"
             ],
             [
              0.7777777777777778,
              "#fb9f3a"
             ],
             [
              0.8888888888888888,
              "#fdca26"
             ],
             [
              1,
              "#f0f921"
             ]
            ],
            "type": "heatmapgl"
           }
          ],
          "histogram": [
           {
            "marker": {
             "pattern": {
              "fillmode": "overlay",
              "size": 10,
              "solidity": 0.2
             }
            },
            "type": "histogram"
           }
          ],
          "histogram2d": [
           {
            "colorbar": {
             "outlinewidth": 0,
             "ticks": ""
            },
            "colorscale": [
             [
              0,
              "#0d0887"
             ],
             [
              0.1111111111111111,
              "#46039f"
             ],
             [
              0.2222222222222222,
              "#7201a8"
             ],
             [
              0.3333333333333333,
              "#9c179e"
             ],
             [
              0.4444444444444444,
              "#bd3786"
             ],
             [
              0.5555555555555556,
              "#d8576b"
             ],
             [
              0.6666666666666666,
              "#ed7953"
             ],
             [
              0.7777777777777778,
              "#fb9f3a"
             ],
             [
              0.8888888888888888,
              "#fdca26"
             ],
             [
              1,
              "#f0f921"
             ]
            ],
            "type": "histogram2d"
           }
          ],
          "histogram2dcontour": [
           {
            "colorbar": {
             "outlinewidth": 0,
             "ticks": ""
            },
            "colorscale": [
             [
              0,
              "#0d0887"
             ],
             [
              0.1111111111111111,
              "#46039f"
             ],
             [
              0.2222222222222222,
              "#7201a8"
             ],
             [
              0.3333333333333333,
              "#9c179e"
             ],
             [
              0.4444444444444444,
              "#bd3786"
             ],
             [
              0.5555555555555556,
              "#d8576b"
             ],
             [
              0.6666666666666666,
              "#ed7953"
             ],
             [
              0.7777777777777778,
              "#fb9f3a"
             ],
             [
              0.8888888888888888,
              "#fdca26"
             ],
             [
              1,
              "#f0f921"
             ]
            ],
            "type": "histogram2dcontour"
           }
          ],
          "mesh3d": [
           {
            "colorbar": {
             "outlinewidth": 0,
             "ticks": ""
            },
            "type": "mesh3d"
           }
          ],
          "parcoords": [
           {
            "line": {
             "colorbar": {
              "outlinewidth": 0,
              "ticks": ""
             }
            },
            "type": "parcoords"
           }
          ],
          "pie": [
           {
            "automargin": true,
            "type": "pie"
           }
          ],
          "scatter": [
           {
            "fillpattern": {
             "fillmode": "overlay",
             "size": 10,
             "solidity": 0.2
            },
            "type": "scatter"
           }
          ],
          "scatter3d": [
           {
            "line": {
             "colorbar": {
              "outlinewidth": 0,
              "ticks": ""
             }
            },
            "marker": {
             "colorbar": {
              "outlinewidth": 0,
              "ticks": ""
             }
            },
            "type": "scatter3d"
           }
          ],
          "scattercarpet": [
           {
            "marker": {
             "colorbar": {
              "outlinewidth": 0,
              "ticks": ""
             }
            },
            "type": "scattercarpet"
           }
          ],
          "scattergeo": [
           {
            "marker": {
             "colorbar": {
              "outlinewidth": 0,
              "ticks": ""
             }
            },
            "type": "scattergeo"
           }
          ],
          "scattergl": [
           {
            "marker": {
             "colorbar": {
              "outlinewidth": 0,
              "ticks": ""
             }
            },
            "type": "scattergl"
           }
          ],
          "scattermapbox": [
           {
            "marker": {
             "colorbar": {
              "outlinewidth": 0,
              "ticks": ""
             }
            },
            "type": "scattermapbox"
           }
          ],
          "scatterpolar": [
           {
            "marker": {
             "colorbar": {
              "outlinewidth": 0,
              "ticks": ""
             }
            },
            "type": "scatterpolar"
           }
          ],
          "scatterpolargl": [
           {
            "marker": {
             "colorbar": {
              "outlinewidth": 0,
              "ticks": ""
             }
            },
            "type": "scatterpolargl"
           }
          ],
          "scatterternary": [
           {
            "marker": {
             "colorbar": {
              "outlinewidth": 0,
              "ticks": ""
             }
            },
            "type": "scatterternary"
           }
          ],
          "surface": [
           {
            "colorbar": {
             "outlinewidth": 0,
             "ticks": ""
            },
            "colorscale": [
             [
              0,
              "#0d0887"
             ],
             [
              0.1111111111111111,
              "#46039f"
             ],
             [
              0.2222222222222222,
              "#7201a8"
             ],
             [
              0.3333333333333333,
              "#9c179e"
             ],
             [
              0.4444444444444444,
              "#bd3786"
             ],
             [
              0.5555555555555556,
              "#d8576b"
             ],
             [
              0.6666666666666666,
              "#ed7953"
             ],
             [
              0.7777777777777778,
              "#fb9f3a"
             ],
             [
              0.8888888888888888,
              "#fdca26"
             ],
             [
              1,
              "#f0f921"
             ]
            ],
            "type": "surface"
           }
          ],
          "table": [
           {
            "cells": {
             "fill": {
              "color": "#EBF0F8"
             },
             "line": {
              "color": "white"
             }
            },
            "header": {
             "fill": {
              "color": "#C8D4E3"
             },
             "line": {
              "color": "white"
             }
            },
            "type": "table"
           }
          ]
         },
         "layout": {
          "annotationdefaults": {
           "arrowcolor": "#2a3f5f",
           "arrowhead": 0,
           "arrowwidth": 1
          },
          "autotypenumbers": "strict",
          "coloraxis": {
           "colorbar": {
            "outlinewidth": 0,
            "ticks": ""
           }
          },
          "colorscale": {
           "diverging": [
            [
             0,
             "#8e0152"
            ],
            [
             0.1,
             "#c51b7d"
            ],
            [
             0.2,
             "#de77ae"
            ],
            [
             0.3,
             "#f1b6da"
            ],
            [
             0.4,
             "#fde0ef"
            ],
            [
             0.5,
             "#f7f7f7"
            ],
            [
             0.6,
             "#e6f5d0"
            ],
            [
             0.7,
             "#b8e186"
            ],
            [
             0.8,
             "#7fbc41"
            ],
            [
             0.9,
             "#4d9221"
            ],
            [
             1,
             "#276419"
            ]
           ],
           "sequential": [
            [
             0,
             "#0d0887"
            ],
            [
             0.1111111111111111,
             "#46039f"
            ],
            [
             0.2222222222222222,
             "#7201a8"
            ],
            [
             0.3333333333333333,
             "#9c179e"
            ],
            [
             0.4444444444444444,
             "#bd3786"
            ],
            [
             0.5555555555555556,
             "#d8576b"
            ],
            [
             0.6666666666666666,
             "#ed7953"
            ],
            [
             0.7777777777777778,
             "#fb9f3a"
            ],
            [
             0.8888888888888888,
             "#fdca26"
            ],
            [
             1,
             "#f0f921"
            ]
           ],
           "sequentialminus": [
            [
             0,
             "#0d0887"
            ],
            [
             0.1111111111111111,
             "#46039f"
            ],
            [
             0.2222222222222222,
             "#7201a8"
            ],
            [
             0.3333333333333333,
             "#9c179e"
            ],
            [
             0.4444444444444444,
             "#bd3786"
            ],
            [
             0.5555555555555556,
             "#d8576b"
            ],
            [
             0.6666666666666666,
             "#ed7953"
            ],
            [
             0.7777777777777778,
             "#fb9f3a"
            ],
            [
             0.8888888888888888,
             "#fdca26"
            ],
            [
             1,
             "#f0f921"
            ]
           ]
          },
          "colorway": [
           "#636efa",
           "#EF553B",
           "#00cc96",
           "#ab63fa",
           "#FFA15A",
           "#19d3f3",
           "#FF6692",
           "#B6E880",
           "#FF97FF",
           "#FECB52"
          ],
          "font": {
           "color": "#2a3f5f"
          },
          "geo": {
           "bgcolor": "white",
           "lakecolor": "white",
           "landcolor": "#E5ECF6",
           "showlakes": true,
           "showland": true,
           "subunitcolor": "white"
          },
          "hoverlabel": {
           "align": "left"
          },
          "hovermode": "closest",
          "mapbox": {
           "style": "light"
          },
          "paper_bgcolor": "white",
          "plot_bgcolor": "#E5ECF6",
          "polar": {
           "angularaxis": {
            "gridcolor": "white",
            "linecolor": "white",
            "ticks": ""
           },
           "bgcolor": "#E5ECF6",
           "radialaxis": {
            "gridcolor": "white",
            "linecolor": "white",
            "ticks": ""
           }
          },
          "scene": {
           "xaxis": {
            "backgroundcolor": "#E5ECF6",
            "gridcolor": "white",
            "gridwidth": 2,
            "linecolor": "white",
            "showbackground": true,
            "ticks": "",
            "zerolinecolor": "white"
           },
           "yaxis": {
            "backgroundcolor": "#E5ECF6",
            "gridcolor": "white",
            "gridwidth": 2,
            "linecolor": "white",
            "showbackground": true,
            "ticks": "",
            "zerolinecolor": "white"
           },
           "zaxis": {
            "backgroundcolor": "#E5ECF6",
            "gridcolor": "white",
            "gridwidth": 2,
            "linecolor": "white",
            "showbackground": true,
            "ticks": "",
            "zerolinecolor": "white"
           }
          },
          "shapedefaults": {
           "line": {
            "color": "#2a3f5f"
           }
          },
          "ternary": {
           "aaxis": {
            "gridcolor": "white",
            "linecolor": "white",
            "ticks": ""
           },
           "baxis": {
            "gridcolor": "white",
            "linecolor": "white",
            "ticks": ""
           },
           "bgcolor": "#E5ECF6",
           "caxis": {
            "gridcolor": "white",
            "linecolor": "white",
            "ticks": ""
           }
          },
          "title": {
           "x": 0.05
          },
          "xaxis": {
           "automargin": true,
           "gridcolor": "white",
           "linecolor": "white",
           "ticks": "",
           "title": {
            "standoff": 15
           },
           "zerolinecolor": "white",
           "zerolinewidth": 2
          },
          "yaxis": {
           "automargin": true,
           "gridcolor": "white",
           "linecolor": "white",
           "ticks": "",
           "title": {
            "standoff": 15
           },
           "zerolinecolor": "white",
           "zerolinewidth": 2
          }
         }
        },
        "title": {
         "text": "GANTT Chart"
        },
        "xaxis": {
         "range": [
          "1970-01-01T01:14:46",
          "1970-01-02T06:58:32"
         ],
         "title": {
          "font": {
           "color": "#7f7f7f",
           "family": "Courier New, monospace",
           "size": 18
          },
          "text": "Time"
         }
        },
        "yaxis": {
         "title": {
          "font": {
           "color": "#7f7f7f",
           "family": "Courier New, monospace",
           "size": 18
          },
          "text": "Activities"
         }
        }
       }
      },
      "text/html": [
       "<div>                            <div id=\"92d23cce-b98f-473f-ba00-35aabfc1e1eb\" class=\"plotly-graph-div\" style=\"height:525px; width:100%;\"></div>            <script type=\"text/javascript\">                require([\"plotly\"], function(Plotly) {                    window.PLOTLYENV=window.PLOTLYENV || {};                                    if (document.getElementById(\"92d23cce-b98f-473f-ba00-35aabfc1e1eb\")) {                    Plotly.newPlot(                        \"92d23cce-b98f-473f-ba00-35aabfc1e1eb\",                        [{\"connectgaps\":false,\"hoverinfo\":\"y+name\",\"line\":{\"color\":\"rgb(77,57,217)\",\"width\":10},\"mode\":\"lines\",\"name\":\"loading:barge_1\",\"x\":[\"1970-01-01T01:14:46\",\"1970-01-01T01:14:46\",\"1970-01-01T01:48:06\",\"1970-01-01T01:48:06\",\"1970-01-01T01:48:06\",\"1970-01-01T04:17:38\",\"1970-01-01T04:17:38\",\"1970-01-01T04:50:58\",\"1970-01-01T04:50:58\",\"1970-01-01T04:50:58\",\"1970-01-01T07:20:30\",\"1970-01-01T07:20:30\",\"1970-01-01T07:53:50\",\"1970-01-01T07:53:50\",\"1970-01-01T07:53:50\",\"1970-01-01T10:23:22\",\"1970-01-01T10:23:22\",\"1970-01-01T10:56:42\",\"1970-01-01T10:56:42\",\"1970-01-01T10:56:42\",\"1970-01-01T13:26:14\",\"1970-01-01T13:26:14\",\"1970-01-01T13:59:34\",\"1970-01-01T13:59:34\",\"1970-01-01T13:59:34\",\"1970-01-01T16:29:06\",\"1970-01-01T16:29:06\",\"1970-01-01T17:02:26\",\"1970-01-01T17:02:26\",\"1970-01-01T17:02:26\",\"1970-01-01T19:40:26\",\"1970-01-01T19:40:26\",\"1970-01-01T20:13:46\",\"1970-01-01T20:13:46\",\"1970-01-01T20:13:46\",\"1970-01-01T23:08:14\",\"1970-01-01T23:08:14\",\"1970-01-01T23:41:34\",\"1970-01-01T23:41:34\",\"1970-01-01T23:41:34\",\"1970-01-02T02:36:02\",\"1970-01-02T02:36:02\",\"1970-01-02T03:09:22\",\"1970-01-02T03:09:22\",\"1970-01-02T03:09:22\",\"1970-01-01T01:14:46\",\"1970-01-01T01:14:46\",\"1970-01-01T01:48:06\",\"1970-01-01T01:48:06\",\"1970-01-01T01:48:06\",\"1970-01-01T04:17:38\",\"1970-01-01T04:17:38\",\"1970-01-01T04:50:58\",\"1970-01-01T04:50:58\",\"1970-01-01T04:50:58\",\"1970-01-01T07:20:30\",\"1970-01-01T07:20:30\",\"1970-01-01T07:53:50\",\"1970-01-01T07:53:50\",\"1970-01-01T07:53:50\",\"1970-01-01T10:23:22\",\"1970-01-01T10:23:22\",\"1970-01-01T10:56:42\",\"1970-01-01T10:56:42\",\"1970-01-01T10:56:42\",\"1970-01-01T13:26:14\",\"1970-01-01T13:26:14\",\"1970-01-01T13:59:34\",\"1970-01-01T13:59:34\",\"1970-01-01T13:59:34\",\"1970-01-01T16:29:06\",\"1970-01-01T16:29:06\",\"1970-01-01T17:02:26\",\"1970-01-01T17:02:26\",\"1970-01-01T17:02:26\",\"1970-01-01T19:40:26\",\"1970-01-01T19:40:26\",\"1970-01-01T20:13:46\",\"1970-01-01T20:13:46\",\"1970-01-01T20:13:46\",\"1970-01-01T23:08:14\",\"1970-01-01T23:08:14\",\"1970-01-01T23:41:34\",\"1970-01-01T23:41:34\",\"1970-01-01T23:41:34\",\"1970-01-02T02:36:02\",\"1970-01-02T02:36:02\",\"1970-01-02T03:09:22\",\"1970-01-02T03:09:22\",\"1970-01-02T03:09:22\"],\"y\":[\"from_site\",\"from_site\",\"from_site\",\"from_site\",null,\"from_site\",\"from_site\",\"from_site\",\"from_site\",null,\"from_site\",\"from_site\",\"from_site\",\"from_site\",null,\"from_site\",\"from_site\",\"from_site\",\"from_site\",null,\"from_site\",\"from_site\",\"from_site\",\"from_site\",null,\"from_site\",\"from_site\",\"from_site\",\"from_site\",null,\"from_site\",\"from_site\",\"from_site\",\"from_site\",null,\"from_site\",\"from_site\",\"from_site\",\"from_site\",null,\"from_site\",\"from_site\",\"from_site\",\"from_site\",null,\"cutter\",\"cutter\",\"cutter\",\"cutter\",null,\"cutter\",\"cutter\",\"cutter\",\"cutter\",null,\"cutter\",\"cutter\",\"cutter\",\"cutter\",null,\"cutter\",\"cutter\",\"cutter\",\"cutter\",null,\"cutter\",\"cutter\",\"cutter\",\"cutter\",null,\"cutter\",\"cutter\",\"cutter\",\"cutter\",null,\"cutter\",\"cutter\",\"cutter\",\"cutter\",null,\"cutter\",\"cutter\",\"cutter\",\"cutter\",null,\"cutter\",\"cutter\",\"cutter\",\"cutter\",null],\"type\":\"scatter\"},{\"connectgaps\":false,\"hoverinfo\":\"y+name\",\"line\":{\"color\":\"rgb(105,85,245)\",\"width\":10},\"mode\":\"lines\",\"name\":\"loading:barge_0\",\"x\":[\"1970-01-01T01:48:06\",\"1970-01-01T01:48:06\",\"1970-01-01T02:21:26\",\"1970-01-01T02:21:26\",\"1970-01-01T02:21:26\",\"1970-01-01T05:15:54\",\"1970-01-01T05:15:54\",\"1970-01-01T05:49:14\",\"1970-01-01T05:49:14\",\"1970-01-01T05:49:14\",\"1970-01-01T08:43:42\",\"1970-01-01T08:43:42\",\"1970-01-01T09:17:02\",\"1970-01-01T09:17:02\",\"1970-01-01T09:17:02\",\"1970-01-01T12:11:30\",\"1970-01-01T12:11:30\",\"1970-01-01T12:44:50\",\"1970-01-01T12:44:50\",\"1970-01-01T12:44:50\",\"1970-01-01T15:39:18\",\"1970-01-01T15:39:18\",\"1970-01-01T16:12:38\",\"1970-01-01T16:12:38\",\"1970-01-01T16:12:38\",\"1970-01-01T19:07:06\",\"1970-01-01T19:07:06\",\"1970-01-01T19:40:26\",\"1970-01-01T19:40:26\",\"1970-01-01T19:40:26\",\"1970-01-01T22:34:54\",\"1970-01-01T22:34:54\",\"1970-01-01T23:08:14\",\"1970-01-01T23:08:14\",\"1970-01-01T23:08:14\",\"1970-01-02T02:02:42\",\"1970-01-02T02:02:42\",\"1970-01-02T02:36:02\",\"1970-01-02T02:36:02\",\"1970-01-02T02:36:02\",\"1970-01-01T01:48:06\",\"1970-01-01T01:48:06\",\"1970-01-01T02:21:26\",\"1970-01-01T02:21:26\",\"1970-01-01T02:21:26\",\"1970-01-01T05:15:54\",\"1970-01-01T05:15:54\",\"1970-01-01T05:49:14\",\"1970-01-01T05:49:14\",\"1970-01-01T05:49:14\",\"1970-01-01T08:43:42\",\"1970-01-01T08:43:42\",\"1970-01-01T09:17:02\",\"1970-01-01T09:17:02\",\"1970-01-01T09:17:02\",\"1970-01-01T12:11:30\",\"1970-01-01T12:11:30\",\"1970-01-01T12:44:50\",\"1970-01-01T12:44:50\",\"1970-01-01T12:44:50\",\"1970-01-01T15:39:18\",\"1970-01-01T15:39:18\",\"1970-01-01T16:12:38\",\"1970-01-01T16:12:38\",\"1970-01-01T16:12:38\",\"1970-01-01T19:07:06\",\"1970-01-01T19:07:06\",\"1970-01-01T19:40:26\",\"1970-01-01T19:40:26\",\"1970-01-01T19:40:26\",\"1970-01-01T22:34:54\",\"1970-01-01T22:34:54\",\"1970-01-01T23:08:14\",\"1970-01-01T23:08:14\",\"1970-01-01T23:08:14\",\"1970-01-02T02:02:42\",\"1970-01-02T02:02:42\",\"1970-01-02T02:36:02\",\"1970-01-02T02:36:02\",\"1970-01-02T02:36:02\"],\"y\":[\"from_site\",\"from_site\",\"from_site\",\"from_site\",null,\"from_site\",\"from_site\",\"from_site\",\"from_site\",null,\"from_site\",\"from_site\",\"from_site\",\"from_site\",null,\"from_site\",\"from_site\",\"from_site\",\"from_site\",null,\"from_site\",\"from_site\",\"from_site\",\"from_site\",null,\"from_site\",\"from_site\",\"from_site\",\"from_site\",null,\"from_site\",\"from_site\",\"from_site\",\"from_site\",null,\"from_site\",\"from_site\",\"from_site\",\"from_site\",null,\"cutter\",\"cutter\",\"cutter\",\"cutter\",null,\"cutter\",\"cutter\",\"cutter\",\"cutter\",null,\"cutter\",\"cutter\",\"cutter\",\"cutter\",null,\"cutter\",\"cutter\",\"cutter\",\"cutter\",null,\"cutter\",\"cutter\",\"cutter\",\"cutter\",null,\"cutter\",\"cutter\",\"cutter\",\"cutter\",null,\"cutter\",\"cutter\",\"cutter\",\"cutter\",null,\"cutter\",\"cutter\",\"cutter\",\"cutter\",null],\"type\":\"scatter\"},{\"connectgaps\":false,\"hoverinfo\":\"y+name\",\"line\":{\"color\":\"rgb(133,113,17)\",\"width\":10},\"mode\":\"lines\",\"name\":\"loading:barge_2\",\"x\":[\"1970-01-01T02:21:26\",\"1970-01-01T02:21:26\",\"1970-01-01T02:54:46\",\"1970-01-01T02:54:46\",\"1970-01-01T02:54:46\",\"1970-01-01T06:04:10\",\"1970-01-01T06:04:10\",\"1970-01-01T06:37:30\",\"1970-01-01T06:37:30\",\"1970-01-01T06:37:30\",\"1970-01-01T09:46:54\",\"1970-01-01T09:46:54\",\"1970-01-01T10:20:14\",\"1970-01-01T10:20:14\",\"1970-01-01T10:20:14\",\"1970-01-01T13:59:34\",\"1970-01-01T13:59:34\",\"1970-01-01T14:32:54\",\"1970-01-01T14:32:54\",\"1970-01-01T14:32:54\",\"1970-01-01T17:42:18\",\"1970-01-01T17:42:18\",\"1970-01-01T18:15:38\",\"1970-01-01T18:15:38\",\"1970-01-01T18:15:38\",\"1970-01-01T21:25:02\",\"1970-01-01T21:25:02\",\"1970-01-01T21:58:22\",\"1970-01-01T21:58:22\",\"1970-01-01T21:58:22\",\"1970-01-02T01:07:46\",\"1970-01-02T01:07:46\",\"1970-01-02T01:41:06\",\"1970-01-02T01:41:06\",\"1970-01-02T01:41:06\",\"1970-01-02T04:50:30\",\"1970-01-02T04:50:30\",\"1970-01-02T05:23:50\",\"1970-01-02T05:23:50\",\"1970-01-02T05:23:50\",\"1970-01-01T02:21:26\",\"1970-01-01T02:21:26\",\"1970-01-01T02:54:46\",\"1970-01-01T02:54:46\",\"1970-01-01T02:54:46\",\"1970-01-01T06:04:10\",\"1970-01-01T06:04:10\",\"1970-01-01T06:37:30\",\"1970-01-01T06:37:30\",\"1970-01-01T06:37:30\",\"1970-01-01T09:46:54\",\"1970-01-01T09:46:54\",\"1970-01-01T10:20:14\",\"1970-01-01T10:20:14\",\"1970-01-01T10:20:14\",\"1970-01-01T13:59:34\",\"1970-01-01T13:59:34\",\"1970-01-01T14:32:54\",\"1970-01-01T14:32:54\",\"1970-01-01T14:32:54\",\"1970-01-01T17:42:18\",\"1970-01-01T17:42:18\",\"1970-01-01T18:15:38\",\"1970-01-01T18:15:38\",\"1970-01-01T18:15:38\",\"1970-01-01T21:25:02\",\"1970-01-01T21:25:02\",\"1970-01-01T21:58:22\",\"1970-01-01T21:58:22\",\"1970-01-01T21:58:22\",\"1970-01-02T01:07:46\",\"1970-01-02T01:07:46\",\"1970-01-02T01:41:06\",\"1970-01-02T01:41:06\",\"1970-01-02T01:41:06\",\"1970-01-02T04:50:30\",\"1970-01-02T04:50:30\",\"1970-01-02T05:23:50\",\"1970-01-02T05:23:50\",\"1970-01-02T05:23:50\"],\"y\":[\"from_site\",\"from_site\",\"from_site\",\"from_site\",null,\"from_site\",\"from_site\",\"from_site\",\"from_site\",null,\"from_site\",\"from_site\",\"from_site\",\"from_site\",null,\"from_site\",\"from_site\",\"from_site\",\"from_site\",null,\"from_site\",\"from_site\",\"from_site\",\"from_site\",null,\"from_site\",\"from_site\",\"from_site\",\"from_site\",null,\"from_site\",\"from_site\",\"from_site\",\"from_site\",null,\"from_site\",\"from_site\",\"from_site\",\"from_site\",null,\"cutter\",\"cutter\",\"cutter\",\"cutter\",null,\"cutter\",\"cutter\",\"cutter\",\"cutter\",null,\"cutter\",\"cutter\",\"cutter\",\"cutter\",null,\"cutter\",\"cutter\",\"cutter\",\"cutter\",null,\"cutter\",\"cutter\",\"cutter\",\"cutter\",null,\"cutter\",\"cutter\",\"cutter\",\"cutter\",null,\"cutter\",\"cutter\",\"cutter\",\"cutter\",null,\"cutter\",\"cutter\",\"cutter\",\"cutter\",null],\"type\":\"scatter\"},{\"connectgaps\":false,\"hoverinfo\":\"y+name\",\"line\":{\"color\":\"rgb(161,141,45)\",\"width\":10},\"mode\":\"lines\",\"name\":\"unloading:barge_1\",\"x\":[\"1970-01-01T02:25:29\",\"1970-01-01T02:25:29\",\"1970-01-01T03:02:52\",\"1970-01-01T03:02:52\",\"1970-01-01T03:02:52\",\"1970-01-01T05:28:21\",\"1970-01-01T05:28:21\",\"1970-01-01T06:05:44\",\"1970-01-01T06:05:44\",\"1970-01-01T06:05:44\",\"1970-01-01T08:31:13\",\"1970-01-01T08:31:13\",\"1970-01-01T09:08:36\",\"1970-01-01T09:08:36\",\"1970-01-01T09:08:36\",\"1970-01-01T11:34:05\",\"1970-01-01T11:34:05\",\"1970-01-01T12:11:28\",\"1970-01-01T12:11:28\",\"1970-01-01T12:11:28\",\"1970-01-01T14:36:57\",\"1970-01-01T14:36:57\",\"1970-01-01T15:14:20\",\"1970-01-01T15:14:20\",\"1970-01-01T15:14:20\",\"1970-01-01T17:39:49\",\"1970-01-01T17:39:49\",\"1970-01-01T18:17:12\",\"1970-01-01T18:17:12\",\"1970-01-01T18:17:12\",\"1970-01-01T20:51:09\",\"1970-01-01T20:51:09\",\"1970-01-01T21:28:32\",\"1970-01-01T21:28:32\",\"1970-01-01T21:28:32\",\"1970-01-02T00:18:57\",\"1970-01-02T00:18:57\",\"1970-01-02T00:56:20\",\"1970-01-02T00:56:20\",\"1970-01-02T00:56:20\",\"1970-01-02T03:46:45\",\"1970-01-02T03:46:45\",\"1970-01-02T04:24:08\",\"1970-01-02T04:24:08\",\"1970-01-02T04:24:08\"],\"y\":[\"to_site\",\"to_site\",\"to_site\",\"to_site\",null,\"to_site\",\"to_site\",\"to_site\",\"to_site\",null,\"to_site\",\"to_site\",\"to_site\",\"to_site\",null,\"to_site\",\"to_site\",\"to_site\",\"to_site\",null,\"to_site\",\"to_site\",\"to_site\",\"to_site\",null,\"to_site\",\"to_site\",\"to_site\",\"to_site\",null,\"to_site\",\"to_site\",\"to_site\",\"to_site\",null,\"to_site\",\"to_site\",\"to_site\",\"to_site\",null,\"to_site\",\"to_site\",\"to_site\",\"to_site\",null],\"type\":\"scatter\"},{\"connectgaps\":false,\"hoverinfo\":\"y+name\",\"line\":{\"color\":\"rgb(189,169,73)\",\"width\":10},\"mode\":\"lines\",\"name\":\"unloading:barge_2\",\"x\":[\"1970-01-01T03:42:07\",\"1970-01-01T03:42:07\",\"1970-01-01T04:29:28\",\"1970-01-01T04:29:28\",\"1970-01-01T04:29:28\",\"1970-01-01T07:24:51\",\"1970-01-01T07:24:51\",\"1970-01-01T08:12:12\",\"1970-01-01T08:12:12\",\"1970-01-01T08:12:12\",\"1970-01-01T11:07:35\",\"1970-01-01T11:07:35\",\"1970-01-01T11:54:56\",\"1970-01-01T11:54:56\",\"1970-01-01T11:54:56\",\"1970-01-01T15:20:15\",\"1970-01-01T15:20:15\",\"1970-01-01T16:07:36\",\"1970-01-01T16:07:36\",\"1970-01-01T16:07:36\",\"1970-01-01T19:02:59\",\"1970-01-01T19:02:59\",\"1970-01-01T19:50:20\",\"1970-01-01T19:50:20\",\"1970-01-01T19:50:20\",\"1970-01-01T22:45:43\",\"1970-01-01T22:45:43\",\"1970-01-01T23:33:04\",\"1970-01-01T23:33:04\",\"1970-01-01T23:33:04\",\"1970-01-02T02:28:27\",\"1970-01-02T02:28:27\",\"1970-01-02T03:15:48\",\"1970-01-02T03:15:48\",\"1970-01-02T03:15:48\",\"1970-01-02T06:11:11\",\"1970-01-02T06:11:11\",\"1970-01-02T06:58:32\",\"1970-01-02T06:58:32\",\"1970-01-02T06:58:32\"],\"y\":[\"to_site\",\"to_site\",\"to_site\",\"to_site\",null,\"to_site\",\"to_site\",\"to_site\",\"to_site\",null,\"to_site\",\"to_site\",\"to_site\",\"to_site\",null,\"to_site\",\"to_site\",\"to_site\",\"to_site\",null,\"to_site\",\"to_site\",\"to_site\",\"to_site\",null,\"to_site\",\"to_site\",\"to_site\",\"to_site\",null,\"to_site\",\"to_site\",\"to_site\",\"to_site\",null,\"to_site\",\"to_site\",\"to_site\",\"to_site\",null],\"type\":\"scatter\"},{\"connectgaps\":false,\"hoverinfo\":\"y+name\",\"line\":{\"color\":\"rgb(217,197,101)\",\"width\":10},\"mode\":\"lines\",\"name\":\"unloading:barge_0\",\"x\":[\"1970-01-01T03:05:03\",\"1970-01-01T03:05:03\",\"1970-01-01T03:48:40\",\"1970-01-01T03:48:40\",\"1970-01-01T03:48:40\",\"1970-01-01T06:32:51\",\"1970-01-01T06:32:51\",\"1970-01-01T07:16:28\",\"1970-01-01T07:16:28\",\"1970-01-01T07:16:28\",\"1970-01-01T10:00:39\",\"1970-01-01T10:00:39\",\"1970-01-01T10:44:16\",\"1970-01-01T10:44:16\",\"1970-01-01T10:44:16\",\"1970-01-01T13:28:27\",\"1970-01-01T13:28:27\",\"1970-01-01T14:12:04\",\"1970-01-01T14:12:04\",\"1970-01-01T14:12:04\",\"1970-01-01T16:56:15\",\"1970-01-01T16:56:15\",\"1970-01-01T17:39:52\",\"1970-01-01T17:39:52\",\"1970-01-01T17:39:52\",\"1970-01-01T20:24:03\",\"1970-01-01T20:24:03\",\"1970-01-01T21:07:40\",\"1970-01-01T21:07:40\",\"1970-01-01T21:07:40\",\"1970-01-01T23:51:51\",\"1970-01-01T23:51:51\",\"1970-01-02T00:35:28\",\"1970-01-02T00:35:28\",\"1970-01-02T00:35:28\",\"1970-01-02T03:19:39\",\"1970-01-02T03:19:39\",\"1970-01-02T04:03:16\",\"1970-01-02T04:03:16\",\"1970-01-02T04:03:16\"],\"y\":[\"to_site\",\"to_site\",\"to_site\",\"to_site\",null,\"to_site\",\"to_site\",\"to_site\",\"to_site\",null,\"to_site\",\"to_site\",\"to_site\",\"to_site\",null,\"to_site\",\"to_site\",\"to_site\",\"to_site\",null,\"to_site\",\"to_site\",\"to_site\",\"to_site\",null,\"to_site\",\"to_site\",\"to_site\",\"to_site\",null,\"to_site\",\"to_site\",\"to_site\",\"to_site\",null,\"to_site\",\"to_site\",\"to_site\",\"to_site\",null],\"type\":\"scatter\"},{\"connectgaps\":false,\"hoverinfo\":\"y+name\",\"line\":{\"color\":\"rgb(245,225,129)\",\"width\":10},\"mode\":\"lines\",\"name\":\"loading:barge_1\",\"x\":[\"1970-01-01T01:14:46\",\"1970-01-01T01:14:46\",\"1970-01-01T01:48:06\",\"1970-01-01T01:48:06\",\"1970-01-01T01:48:06\",\"1970-01-01T04:17:38\",\"1970-01-01T04:17:38\",\"1970-01-01T04:50:58\",\"1970-01-01T04:50:58\",\"1970-01-01T04:50:58\",\"1970-01-01T07:20:30\",\"1970-01-01T07:20:30\",\"1970-01-01T07:53:50\",\"1970-01-01T07:53:50\",\"1970-01-01T07:53:50\",\"1970-01-01T10:23:22\",\"1970-01-01T10:23:22\",\"1970-01-01T10:56:42\",\"1970-01-01T10:56:42\",\"1970-01-01T10:56:42\",\"1970-01-01T13:26:14\",\"1970-01-01T13:26:14\",\"1970-01-01T13:59:34\",\"1970-01-01T13:59:34\",\"1970-01-01T13:59:34\",\"1970-01-01T16:29:06\",\"1970-01-01T16:29:06\",\"1970-01-01T17:02:26\",\"1970-01-01T17:02:26\",\"1970-01-01T17:02:26\",\"1970-01-01T19:40:26\",\"1970-01-01T19:40:26\",\"1970-01-01T20:13:46\",\"1970-01-01T20:13:46\",\"1970-01-01T20:13:46\",\"1970-01-01T23:08:14\",\"1970-01-01T23:08:14\",\"1970-01-01T23:41:34\",\"1970-01-01T23:41:34\",\"1970-01-01T23:41:34\",\"1970-01-02T02:36:02\",\"1970-01-02T02:36:02\",\"1970-01-02T03:09:22\",\"1970-01-02T03:09:22\",\"1970-01-02T03:09:22\",\"1970-01-01T01:14:46\",\"1970-01-01T01:14:46\",\"1970-01-01T01:48:06\",\"1970-01-01T01:48:06\",\"1970-01-01T01:48:06\",\"1970-01-01T04:17:38\",\"1970-01-01T04:17:38\",\"1970-01-01T04:50:58\",\"1970-01-01T04:50:58\",\"1970-01-01T04:50:58\",\"1970-01-01T07:20:30\",\"1970-01-01T07:20:30\",\"1970-01-01T07:53:50\",\"1970-01-01T07:53:50\",\"1970-01-01T07:53:50\",\"1970-01-01T10:23:22\",\"1970-01-01T10:23:22\",\"1970-01-01T10:56:42\",\"1970-01-01T10:56:42\",\"1970-01-01T10:56:42\",\"1970-01-01T13:26:14\",\"1970-01-01T13:26:14\",\"1970-01-01T13:59:34\",\"1970-01-01T13:59:34\",\"1970-01-01T13:59:34\",\"1970-01-01T16:29:06\",\"1970-01-01T16:29:06\",\"1970-01-01T17:02:26\",\"1970-01-01T17:02:26\",\"1970-01-01T17:02:26\",\"1970-01-01T19:40:26\",\"1970-01-01T19:40:26\",\"1970-01-01T20:13:46\",\"1970-01-01T20:13:46\",\"1970-01-01T20:13:46\",\"1970-01-01T23:08:14\",\"1970-01-01T23:08:14\",\"1970-01-01T23:41:34\",\"1970-01-01T23:41:34\",\"1970-01-01T23:41:34\",\"1970-01-02T02:36:02\",\"1970-01-02T02:36:02\",\"1970-01-02T03:09:22\",\"1970-01-02T03:09:22\",\"1970-01-02T03:09:22\"],\"y\":[\"from_site\",\"from_site\",\"from_site\",\"from_site\",null,\"from_site\",\"from_site\",\"from_site\",\"from_site\",null,\"from_site\",\"from_site\",\"from_site\",\"from_site\",null,\"from_site\",\"from_site\",\"from_site\",\"from_site\",null,\"from_site\",\"from_site\",\"from_site\",\"from_site\",null,\"from_site\",\"from_site\",\"from_site\",\"from_site\",null,\"from_site\",\"from_site\",\"from_site\",\"from_site\",null,\"from_site\",\"from_site\",\"from_site\",\"from_site\",null,\"from_site\",\"from_site\",\"from_site\",\"from_site\",null,\"cutter\",\"cutter\",\"cutter\",\"cutter\",null,\"cutter\",\"cutter\",\"cutter\",\"cutter\",null,\"cutter\",\"cutter\",\"cutter\",\"cutter\",null,\"cutter\",\"cutter\",\"cutter\",\"cutter\",null,\"cutter\",\"cutter\",\"cutter\",\"cutter\",null,\"cutter\",\"cutter\",\"cutter\",\"cutter\",null,\"cutter\",\"cutter\",\"cutter\",\"cutter\",null,\"cutter\",\"cutter\",\"cutter\",\"cutter\",null,\"cutter\",\"cutter\",\"cutter\",\"cutter\",null],\"type\":\"scatter\"},{\"connectgaps\":false,\"hoverinfo\":\"y+name\",\"line\":{\"color\":\"rgb(17,253,157)\",\"width\":10},\"mode\":\"lines\",\"name\":\"loading:barge_0\",\"x\":[\"1970-01-01T01:48:06\",\"1970-01-01T01:48:06\",\"1970-01-01T02:21:26\",\"1970-01-01T02:21:26\",\"1970-01-01T02:21:26\",\"1970-01-01T05:15:54\",\"1970-01-01T05:15:54\",\"1970-01-01T05:49:14\",\"1970-01-01T05:49:14\",\"1970-01-01T05:49:14\",\"1970-01-01T08:43:42\",\"1970-01-01T08:43:42\",\"1970-01-01T09:17:02\",\"1970-01-01T09:17:02\",\"1970-01-01T09:17:02\",\"1970-01-01T12:11:30\",\"1970-01-01T12:11:30\",\"1970-01-01T12:44:50\",\"1970-01-01T12:44:50\",\"1970-01-01T12:44:50\",\"1970-01-01T15:39:18\",\"1970-01-01T15:39:18\",\"1970-01-01T16:12:38\",\"1970-01-01T16:12:38\",\"1970-01-01T16:12:38\",\"1970-01-01T19:07:06\",\"1970-01-01T19:07:06\",\"1970-01-01T19:40:26\",\"1970-01-01T19:40:26\",\"1970-01-01T19:40:26\",\"1970-01-01T22:34:54\",\"1970-01-01T22:34:54\",\"1970-01-01T23:08:14\",\"1970-01-01T23:08:14\",\"1970-01-01T23:08:14\",\"1970-01-02T02:02:42\",\"1970-01-02T02:02:42\",\"1970-01-02T02:36:02\",\"1970-01-02T02:36:02\",\"1970-01-02T02:36:02\",\"1970-01-01T01:48:06\",\"1970-01-01T01:48:06\",\"1970-01-01T02:21:26\",\"1970-01-01T02:21:26\",\"1970-01-01T02:21:26\",\"1970-01-01T05:15:54\",\"1970-01-01T05:15:54\",\"1970-01-01T05:49:14\",\"1970-01-01T05:49:14\",\"1970-01-01T05:49:14\",\"1970-01-01T08:43:42\",\"1970-01-01T08:43:42\",\"1970-01-01T09:17:02\",\"1970-01-01T09:17:02\",\"1970-01-01T09:17:02\",\"1970-01-01T12:11:30\",\"1970-01-01T12:11:30\",\"1970-01-01T12:44:50\",\"1970-01-01T12:44:50\",\"1970-01-01T12:44:50\",\"1970-01-01T15:39:18\",\"1970-01-01T15:39:18\",\"1970-01-01T16:12:38\",\"1970-01-01T16:12:38\",\"1970-01-01T16:12:38\",\"1970-01-01T19:07:06\",\"1970-01-01T19:07:06\",\"1970-01-01T19:40:26\",\"1970-01-01T19:40:26\",\"1970-01-01T19:40:26\",\"1970-01-01T22:34:54\",\"1970-01-01T22:34:54\",\"1970-01-01T23:08:14\",\"1970-01-01T23:08:14\",\"1970-01-01T23:08:14\",\"1970-01-02T02:02:42\",\"1970-01-02T02:02:42\",\"1970-01-02T02:36:02\",\"1970-01-02T02:36:02\",\"1970-01-02T02:36:02\"],\"y\":[\"from_site\",\"from_site\",\"from_site\",\"from_site\",null,\"from_site\",\"from_site\",\"from_site\",\"from_site\",null,\"from_site\",\"from_site\",\"from_site\",\"from_site\",null,\"from_site\",\"from_site\",\"from_site\",\"from_site\",null,\"from_site\",\"from_site\",\"from_site\",\"from_site\",null,\"from_site\",\"from_site\",\"from_site\",\"from_site\",null,\"from_site\",\"from_site\",\"from_site\",\"from_site\",null,\"from_site\",\"from_site\",\"from_site\",\"from_site\",null,\"cutter\",\"cutter\",\"cutter\",\"cutter\",null,\"cutter\",\"cutter\",\"cutter\",\"cutter\",null,\"cutter\",\"cutter\",\"cutter\",\"cutter\",null,\"cutter\",\"cutter\",\"cutter\",\"cutter\",null,\"cutter\",\"cutter\",\"cutter\",\"cutter\",null,\"cutter\",\"cutter\",\"cutter\",\"cutter\",null,\"cutter\",\"cutter\",\"cutter\",\"cutter\",null,\"cutter\",\"cutter\",\"cutter\",\"cutter\",null],\"type\":\"scatter\"},{\"connectgaps\":false,\"hoverinfo\":\"y+name\",\"line\":{\"color\":\"rgb(45,25,185)\",\"width\":10},\"mode\":\"lines\",\"name\":\"loading:barge_2\",\"x\":[\"1970-01-01T02:21:26\",\"1970-01-01T02:21:26\",\"1970-01-01T02:54:46\",\"1970-01-01T02:54:46\",\"1970-01-01T02:54:46\",\"1970-01-01T06:04:10\",\"1970-01-01T06:04:10\",\"1970-01-01T06:37:30\",\"1970-01-01T06:37:30\",\"1970-01-01T06:37:30\",\"1970-01-01T09:46:54\",\"1970-01-01T09:46:54\",\"1970-01-01T10:20:14\",\"1970-01-01T10:20:14\",\"1970-01-01T10:20:14\",\"1970-01-01T13:59:34\",\"1970-01-01T13:59:34\",\"1970-01-01T14:32:54\",\"1970-01-01T14:32:54\",\"1970-01-01T14:32:54\",\"1970-01-01T17:42:18\",\"1970-01-01T17:42:18\",\"1970-01-01T18:15:38\",\"1970-01-01T18:15:38\",\"1970-01-01T18:15:38\",\"1970-01-01T21:25:02\",\"1970-01-01T21:25:02\",\"1970-01-01T21:58:22\",\"1970-01-01T21:58:22\",\"1970-01-01T21:58:22\",\"1970-01-02T01:07:46\",\"1970-01-02T01:07:46\",\"1970-01-02T01:41:06\",\"1970-01-02T01:41:06\",\"1970-01-02T01:41:06\",\"1970-01-02T04:50:30\",\"1970-01-02T04:50:30\",\"1970-01-02T05:23:50\",\"1970-01-02T05:23:50\",\"1970-01-02T05:23:50\",\"1970-01-01T02:21:26\",\"1970-01-01T02:21:26\",\"1970-01-01T02:54:46\",\"1970-01-01T02:54:46\",\"1970-01-01T02:54:46\",\"1970-01-01T06:04:10\",\"1970-01-01T06:04:10\",\"1970-01-01T06:37:30\",\"1970-01-01T06:37:30\",\"1970-01-01T06:37:30\",\"1970-01-01T09:46:54\",\"1970-01-01T09:46:54\",\"1970-01-01T10:20:14\",\"1970-01-01T10:20:14\",\"1970-01-01T10:20:14\",\"1970-01-01T13:59:34\",\"1970-01-01T13:59:34\",\"1970-01-01T14:32:54\",\"1970-01-01T14:32:54\",\"1970-01-01T14:32:54\",\"1970-01-01T17:42:18\",\"1970-01-01T17:42:18\",\"1970-01-01T18:15:38\",\"1970-01-01T18:15:38\",\"1970-01-01T18:15:38\",\"1970-01-01T21:25:02\",\"1970-01-01T21:25:02\",\"1970-01-01T21:58:22\",\"1970-01-01T21:58:22\",\"1970-01-01T21:58:22\",\"1970-01-02T01:07:46\",\"1970-01-02T01:07:46\",\"1970-01-02T01:41:06\",\"1970-01-02T01:41:06\",\"1970-01-02T01:41:06\",\"1970-01-02T04:50:30\",\"1970-01-02T04:50:30\",\"1970-01-02T05:23:50\",\"1970-01-02T05:23:50\",\"1970-01-02T05:23:50\"],\"y\":[\"from_site\",\"from_site\",\"from_site\",\"from_site\",null,\"from_site\",\"from_site\",\"from_site\",\"from_site\",null,\"from_site\",\"from_site\",\"from_site\",\"from_site\",null,\"from_site\",\"from_site\",\"from_site\",\"from_site\",null,\"from_site\",\"from_site\",\"from_site\",\"from_site\",null,\"from_site\",\"from_site\",\"from_site\",\"from_site\",null,\"from_site\",\"from_site\",\"from_site\",\"from_site\",null,\"from_site\",\"from_site\",\"from_site\",\"from_site\",null,\"cutter\",\"cutter\",\"cutter\",\"cutter\",null,\"cutter\",\"cutter\",\"cutter\",\"cutter\",null,\"cutter\",\"cutter\",\"cutter\",\"cutter\",null,\"cutter\",\"cutter\",\"cutter\",\"cutter\",null,\"cutter\",\"cutter\",\"cutter\",\"cutter\",null,\"cutter\",\"cutter\",\"cutter\",\"cutter\",null,\"cutter\",\"cutter\",\"cutter\",\"cutter\",null,\"cutter\",\"cutter\",\"cutter\",\"cutter\",null],\"type\":\"scatter\"}],                        {\"hovermode\":\"closest\",\"legend\":{\"orientation\":\"h\",\"x\":0,\"y\":-0.2},\"template\":{\"data\":{\"barpolar\":[{\"marker\":{\"line\":{\"color\":\"#E5ECF6\",\"width\":0.5},\"pattern\":{\"fillmode\":\"overlay\",\"size\":10,\"solidity\":0.2}},\"type\":\"barpolar\"}],\"bar\":[{\"error_x\":{\"color\":\"#2a3f5f\"},\"error_y\":{\"color\":\"#2a3f5f\"},\"marker\":{\"line\":{\"color\":\"#E5ECF6\",\"width\":0.5},\"pattern\":{\"fillmode\":\"overlay\",\"size\":10,\"solidity\":0.2}},\"type\":\"bar\"}],\"carpet\":[{\"aaxis\":{\"endlinecolor\":\"#2a3f5f\",\"gridcolor\":\"white\",\"linecolor\":\"white\",\"minorgridcolor\":\"white\",\"startlinecolor\":\"#2a3f5f\"},\"baxis\":{\"endlinecolor\":\"#2a3f5f\",\"gridcolor\":\"white\",\"linecolor\":\"white\",\"minorgridcolor\":\"white\",\"startlinecolor\":\"#2a3f5f\"},\"type\":\"carpet\"}],\"choropleth\":[{\"colorbar\":{\"outlinewidth\":0,\"ticks\":\"\"},\"type\":\"choropleth\"}],\"contourcarpet\":[{\"colorbar\":{\"outlinewidth\":0,\"ticks\":\"\"},\"type\":\"contourcarpet\"}],\"contour\":[{\"colorbar\":{\"outlinewidth\":0,\"ticks\":\"\"},\"colorscale\":[[0.0,\"#0d0887\"],[0.1111111111111111,\"#46039f\"],[0.2222222222222222,\"#7201a8\"],[0.3333333333333333,\"#9c179e\"],[0.4444444444444444,\"#bd3786\"],[0.5555555555555556,\"#d8576b\"],[0.6666666666666666,\"#ed7953\"],[0.7777777777777778,\"#fb9f3a\"],[0.8888888888888888,\"#fdca26\"],[1.0,\"#f0f921\"]],\"type\":\"contour\"}],\"heatmapgl\":[{\"colorbar\":{\"outlinewidth\":0,\"ticks\":\"\"},\"colorscale\":[[0.0,\"#0d0887\"],[0.1111111111111111,\"#46039f\"],[0.2222222222222222,\"#7201a8\"],[0.3333333333333333,\"#9c179e\"],[0.4444444444444444,\"#bd3786\"],[0.5555555555555556,\"#d8576b\"],[0.6666666666666666,\"#ed7953\"],[0.7777777777777778,\"#fb9f3a\"],[0.8888888888888888,\"#fdca26\"],[1.0,\"#f0f921\"]],\"type\":\"heatmapgl\"}],\"heatmap\":[{\"colorbar\":{\"outlinewidth\":0,\"ticks\":\"\"},\"colorscale\":[[0.0,\"#0d0887\"],[0.1111111111111111,\"#46039f\"],[0.2222222222222222,\"#7201a8\"],[0.3333333333333333,\"#9c179e\"],[0.4444444444444444,\"#bd3786\"],[0.5555555555555556,\"#d8576b\"],[0.6666666666666666,\"#ed7953\"],[0.7777777777777778,\"#fb9f3a\"],[0.8888888888888888,\"#fdca26\"],[1.0,\"#f0f921\"]],\"type\":\"heatmap\"}],\"histogram2dcontour\":[{\"colorbar\":{\"outlinewidth\":0,\"ticks\":\"\"},\"colorscale\":[[0.0,\"#0d0887\"],[0.1111111111111111,\"#46039f\"],[0.2222222222222222,\"#7201a8\"],[0.3333333333333333,\"#9c179e\"],[0.4444444444444444,\"#bd3786\"],[0.5555555555555556,\"#d8576b\"],[0.6666666666666666,\"#ed7953\"],[0.7777777777777778,\"#fb9f3a\"],[0.8888888888888888,\"#fdca26\"],[1.0,\"#f0f921\"]],\"type\":\"histogram2dcontour\"}],\"histogram2d\":[{\"colorbar\":{\"outlinewidth\":0,\"ticks\":\"\"},\"colorscale\":[[0.0,\"#0d0887\"],[0.1111111111111111,\"#46039f\"],[0.2222222222222222,\"#7201a8\"],[0.3333333333333333,\"#9c179e\"],[0.4444444444444444,\"#bd3786\"],[0.5555555555555556,\"#d8576b\"],[0.6666666666666666,\"#ed7953\"],[0.7777777777777778,\"#fb9f3a\"],[0.8888888888888888,\"#fdca26\"],[1.0,\"#f0f921\"]],\"type\":\"histogram2d\"}],\"histogram\":[{\"marker\":{\"pattern\":{\"fillmode\":\"overlay\",\"size\":10,\"solidity\":0.2}},\"type\":\"histogram\"}],\"mesh3d\":[{\"colorbar\":{\"outlinewidth\":0,\"ticks\":\"\"},\"type\":\"mesh3d\"}],\"parcoords\":[{\"line\":{\"colorbar\":{\"outlinewidth\":0,\"ticks\":\"\"}},\"type\":\"parcoords\"}],\"pie\":[{\"automargin\":true,\"type\":\"pie\"}],\"scatter3d\":[{\"line\":{\"colorbar\":{\"outlinewidth\":0,\"ticks\":\"\"}},\"marker\":{\"colorbar\":{\"outlinewidth\":0,\"ticks\":\"\"}},\"type\":\"scatter3d\"}],\"scattercarpet\":[{\"marker\":{\"colorbar\":{\"outlinewidth\":0,\"ticks\":\"\"}},\"type\":\"scattercarpet\"}],\"scattergeo\":[{\"marker\":{\"colorbar\":{\"outlinewidth\":0,\"ticks\":\"\"}},\"type\":\"scattergeo\"}],\"scattergl\":[{\"marker\":{\"colorbar\":{\"outlinewidth\":0,\"ticks\":\"\"}},\"type\":\"scattergl\"}],\"scattermapbox\":[{\"marker\":{\"colorbar\":{\"outlinewidth\":0,\"ticks\":\"\"}},\"type\":\"scattermapbox\"}],\"scatterpolargl\":[{\"marker\":{\"colorbar\":{\"outlinewidth\":0,\"ticks\":\"\"}},\"type\":\"scatterpolargl\"}],\"scatterpolar\":[{\"marker\":{\"colorbar\":{\"outlinewidth\":0,\"ticks\":\"\"}},\"type\":\"scatterpolar\"}],\"scatter\":[{\"fillpattern\":{\"fillmode\":\"overlay\",\"size\":10,\"solidity\":0.2},\"type\":\"scatter\"}],\"scatterternary\":[{\"marker\":{\"colorbar\":{\"outlinewidth\":0,\"ticks\":\"\"}},\"type\":\"scatterternary\"}],\"surface\":[{\"colorbar\":{\"outlinewidth\":0,\"ticks\":\"\"},\"colorscale\":[[0.0,\"#0d0887\"],[0.1111111111111111,\"#46039f\"],[0.2222222222222222,\"#7201a8\"],[0.3333333333333333,\"#9c179e\"],[0.4444444444444444,\"#bd3786\"],[0.5555555555555556,\"#d8576b\"],[0.6666666666666666,\"#ed7953\"],[0.7777777777777778,\"#fb9f3a\"],[0.8888888888888888,\"#fdca26\"],[1.0,\"#f0f921\"]],\"type\":\"surface\"}],\"table\":[{\"cells\":{\"fill\":{\"color\":\"#EBF0F8\"},\"line\":{\"color\":\"white\"}},\"header\":{\"fill\":{\"color\":\"#C8D4E3\"},\"line\":{\"color\":\"white\"}},\"type\":\"table\"}]},\"layout\":{\"annotationdefaults\":{\"arrowcolor\":\"#2a3f5f\",\"arrowhead\":0,\"arrowwidth\":1},\"autotypenumbers\":\"strict\",\"coloraxis\":{\"colorbar\":{\"outlinewidth\":0,\"ticks\":\"\"}},\"colorscale\":{\"diverging\":[[0,\"#8e0152\"],[0.1,\"#c51b7d\"],[0.2,\"#de77ae\"],[0.3,\"#f1b6da\"],[0.4,\"#fde0ef\"],[0.5,\"#f7f7f7\"],[0.6,\"#e6f5d0\"],[0.7,\"#b8e186\"],[0.8,\"#7fbc41\"],[0.9,\"#4d9221\"],[1,\"#276419\"]],\"sequential\":[[0.0,\"#0d0887\"],[0.1111111111111111,\"#46039f\"],[0.2222222222222222,\"#7201a8\"],[0.3333333333333333,\"#9c179e\"],[0.4444444444444444,\"#bd3786\"],[0.5555555555555556,\"#d8576b\"],[0.6666666666666666,\"#ed7953\"],[0.7777777777777778,\"#fb9f3a\"],[0.8888888888888888,\"#fdca26\"],[1.0,\"#f0f921\"]],\"sequentialminus\":[[0.0,\"#0d0887\"],[0.1111111111111111,\"#46039f\"],[0.2222222222222222,\"#7201a8\"],[0.3333333333333333,\"#9c179e\"],[0.4444444444444444,\"#bd3786\"],[0.5555555555555556,\"#d8576b\"],[0.6666666666666666,\"#ed7953\"],[0.7777777777777778,\"#fb9f3a\"],[0.8888888888888888,\"#fdca26\"],[1.0,\"#f0f921\"]]},\"colorway\":[\"#636efa\",\"#EF553B\",\"#00cc96\",\"#ab63fa\",\"#FFA15A\",\"#19d3f3\",\"#FF6692\",\"#B6E880\",\"#FF97FF\",\"#FECB52\"],\"font\":{\"color\":\"#2a3f5f\"},\"geo\":{\"bgcolor\":\"white\",\"lakecolor\":\"white\",\"landcolor\":\"#E5ECF6\",\"showlakes\":true,\"showland\":true,\"subunitcolor\":\"white\"},\"hoverlabel\":{\"align\":\"left\"},\"hovermode\":\"closest\",\"mapbox\":{\"style\":\"light\"},\"paper_bgcolor\":\"white\",\"plot_bgcolor\":\"#E5ECF6\",\"polar\":{\"angularaxis\":{\"gridcolor\":\"white\",\"linecolor\":\"white\",\"ticks\":\"\"},\"bgcolor\":\"#E5ECF6\",\"radialaxis\":{\"gridcolor\":\"white\",\"linecolor\":\"white\",\"ticks\":\"\"}},\"scene\":{\"xaxis\":{\"backgroundcolor\":\"#E5ECF6\",\"gridcolor\":\"white\",\"gridwidth\":2,\"linecolor\":\"white\",\"showbackground\":true,\"ticks\":\"\",\"zerolinecolor\":\"white\"},\"yaxis\":{\"backgroundcolor\":\"#E5ECF6\",\"gridcolor\":\"white\",\"gridwidth\":2,\"linecolor\":\"white\",\"showbackground\":true,\"ticks\":\"\",\"zerolinecolor\":\"white\"},\"zaxis\":{\"backgroundcolor\":\"#E5ECF6\",\"gridcolor\":\"white\",\"gridwidth\":2,\"linecolor\":\"white\",\"showbackground\":true,\"ticks\":\"\",\"zerolinecolor\":\"white\"}},\"shapedefaults\":{\"line\":{\"color\":\"#2a3f5f\"}},\"ternary\":{\"aaxis\":{\"gridcolor\":\"white\",\"linecolor\":\"white\",\"ticks\":\"\"},\"baxis\":{\"gridcolor\":\"white\",\"linecolor\":\"white\",\"ticks\":\"\"},\"bgcolor\":\"#E5ECF6\",\"caxis\":{\"gridcolor\":\"white\",\"linecolor\":\"white\",\"ticks\":\"\"}},\"title\":{\"x\":0.05},\"xaxis\":{\"automargin\":true,\"gridcolor\":\"white\",\"linecolor\":\"white\",\"ticks\":\"\",\"title\":{\"standoff\":15},\"zerolinecolor\":\"white\",\"zerolinewidth\":2},\"yaxis\":{\"automargin\":true,\"gridcolor\":\"white\",\"linecolor\":\"white\",\"ticks\":\"\",\"title\":{\"standoff\":15},\"zerolinecolor\":\"white\",\"zerolinewidth\":2}}},\"title\":{\"text\":\"GANTT Chart\"},\"xaxis\":{\"range\":[\"1970-01-01T01:14:46\",\"1970-01-02T06:58:32\"],\"title\":{\"font\":{\"color\":\"#7f7f7f\",\"family\":\"Courier New, monospace\",\"size\":18},\"text\":\"Time\"}},\"yaxis\":{\"title\":{\"font\":{\"color\":\"#7f7f7f\",\"family\":\"Courier New, monospace\",\"size\":18},\"text\":\"Activities\"}}},                        {\"responsive\": true}                    ).then(function(){\n",
       "                            \n",
       "var gd = document.getElementById('92d23cce-b98f-473f-ba00-35aabfc1e1eb');\n",
       "var x = new MutationObserver(function (mutations, observer) {{\n",
       "        var display = window.getComputedStyle(gd).display;\n",
       "        if (!display || display === 'none') {{\n",
       "            console.log([gd, 'removed!']);\n",
       "            Plotly.purge(gd);\n",
       "            observer.disconnect();\n",
       "        }}\n",
       "}});\n",
       "\n",
       "// Listen for the removal of the full notebook cells\n",
       "var notebookContainer = gd.closest('#notebook-container');\n",
       "if (notebookContainer) {{\n",
       "    x.observe(notebookContainer, {childList: true});\n",
       "}}\n",
       "\n",
       "// Listen for the clearing of the current output cell\n",
       "var outputEl = gd.closest('.output');\n",
       "if (outputEl) {{\n",
       "    x.observe(outputEl, {childList: true});\n",
       "}}\n",
       "\n",
       "                        })                };                });            </script>        </div>"
      ]
     },
     "metadata": {},
     "output_type": "display_data"
    }
   ],
   "source": [
    "fig = plot.get_gantt_chart([from_site, to_site, cutter], id_map=[activities[x] for x in activities])"
   ]
  },
  {
   "cell_type": "markdown",
   "id": "e1024059",
   "metadata": {},
   "source": [
    "Plot only activities whose namespace (firt letters) matches load*"
   ]
  },
  {
   "cell_type": "code",
   "execution_count": 7,
   "id": "8658c58f",
   "metadata": {},
   "outputs": [
    {
     "data": {
      "text/html": [
       "        <script type=\"text/javascript\">\n",
       "        window.PlotlyConfig = {MathJaxConfig: 'local'};\n",
       "        if (window.MathJax) {MathJax.Hub.Config({SVG: {font: \"STIX-Web\"}});}\n",
       "        if (typeof require !== 'undefined') {\n",
       "        require.undef(\"plotly\");\n",
       "        requirejs.config({\n",
       "            paths: {\n",
       "                'plotly': ['https://cdn.plot.ly/plotly-2.11.1.min']\n",
       "            }\n",
       "        });\n",
       "        require(['plotly'], function(Plotly) {\n",
       "            window._Plotly = Plotly;\n",
       "        });\n",
       "        }\n",
       "        </script>\n",
       "        "
      ]
     },
     "metadata": {},
     "output_type": "display_data"
    },
    {
     "data": {
      "application/vnd.plotly.v1+json": {
       "config": {
        "linkText": "Export to plot.ly",
        "plotlyServerURL": "https://plot.ly",
        "showLink": false
       },
       "data": [
        {
         "connectgaps": false,
         "hoverinfo": "y+name",
         "line": {
          "color": "rgb(128,223,251)",
          "width": 10
         },
         "mode": "lines",
         "name": "loading:barge_0",
         "type": "scatter",
         "x": [
          "1970-01-01T01:48:06",
          "1970-01-01T01:48:06",
          "1970-01-01T02:21:26",
          "1970-01-01T02:21:26",
          "1970-01-01T02:21:26",
          "1970-01-01T05:15:54",
          "1970-01-01T05:15:54",
          "1970-01-01T05:49:14",
          "1970-01-01T05:49:14",
          "1970-01-01T05:49:14",
          "1970-01-01T08:43:42",
          "1970-01-01T08:43:42",
          "1970-01-01T09:17:02",
          "1970-01-01T09:17:02",
          "1970-01-01T09:17:02",
          "1970-01-01T12:11:30",
          "1970-01-01T12:11:30",
          "1970-01-01T12:44:50",
          "1970-01-01T12:44:50",
          "1970-01-01T12:44:50",
          "1970-01-01T15:39:18",
          "1970-01-01T15:39:18",
          "1970-01-01T16:12:38",
          "1970-01-01T16:12:38",
          "1970-01-01T16:12:38",
          "1970-01-01T19:07:06",
          "1970-01-01T19:07:06",
          "1970-01-01T19:40:26",
          "1970-01-01T19:40:26",
          "1970-01-01T19:40:26",
          "1970-01-01T22:34:54",
          "1970-01-01T22:34:54",
          "1970-01-01T23:08:14",
          "1970-01-01T23:08:14",
          "1970-01-01T23:08:14",
          "1970-01-02T02:02:42",
          "1970-01-02T02:02:42",
          "1970-01-02T02:36:02",
          "1970-01-02T02:36:02",
          "1970-01-02T02:36:02",
          "1970-01-01T01:48:06",
          "1970-01-01T01:48:06",
          "1970-01-01T02:21:26",
          "1970-01-01T02:21:26",
          "1970-01-01T02:21:26",
          "1970-01-01T05:15:54",
          "1970-01-01T05:15:54",
          "1970-01-01T05:49:14",
          "1970-01-01T05:49:14",
          "1970-01-01T05:49:14",
          "1970-01-01T08:43:42",
          "1970-01-01T08:43:42",
          "1970-01-01T09:17:02",
          "1970-01-01T09:17:02",
          "1970-01-01T09:17:02",
          "1970-01-01T12:11:30",
          "1970-01-01T12:11:30",
          "1970-01-01T12:44:50",
          "1970-01-01T12:44:50",
          "1970-01-01T12:44:50",
          "1970-01-01T15:39:18",
          "1970-01-01T15:39:18",
          "1970-01-01T16:12:38",
          "1970-01-01T16:12:38",
          "1970-01-01T16:12:38",
          "1970-01-01T19:07:06",
          "1970-01-01T19:07:06",
          "1970-01-01T19:40:26",
          "1970-01-01T19:40:26",
          "1970-01-01T19:40:26",
          "1970-01-01T22:34:54",
          "1970-01-01T22:34:54",
          "1970-01-01T23:08:14",
          "1970-01-01T23:08:14",
          "1970-01-01T23:08:14",
          "1970-01-02T02:02:42",
          "1970-01-02T02:02:42",
          "1970-01-02T02:36:02",
          "1970-01-02T02:36:02",
          "1970-01-02T02:36:02"
         ],
         "y": [
          "loading:barge_0",
          "loading:barge_0",
          "loading:barge_0",
          "loading:barge_0",
          null,
          "loading:barge_0",
          "loading:barge_0",
          "loading:barge_0",
          "loading:barge_0",
          null,
          "loading:barge_0",
          "loading:barge_0",
          "loading:barge_0",
          "loading:barge_0",
          null,
          "loading:barge_0",
          "loading:barge_0",
          "loading:barge_0",
          "loading:barge_0",
          null,
          "loading:barge_0",
          "loading:barge_0",
          "loading:barge_0",
          "loading:barge_0",
          null,
          "loading:barge_0",
          "loading:barge_0",
          "loading:barge_0",
          "loading:barge_0",
          null,
          "loading:barge_0",
          "loading:barge_0",
          "loading:barge_0",
          "loading:barge_0",
          null,
          "loading:barge_0",
          "loading:barge_0",
          "loading:barge_0",
          "loading:barge_0",
          null,
          "loading:barge_0",
          "loading:barge_0",
          "loading:barge_0",
          "loading:barge_0",
          null,
          "loading:barge_0",
          "loading:barge_0",
          "loading:barge_0",
          "loading:barge_0",
          null,
          "loading:barge_0",
          "loading:barge_0",
          "loading:barge_0",
          "loading:barge_0",
          null,
          "loading:barge_0",
          "loading:barge_0",
          "loading:barge_0",
          "loading:barge_0",
          null,
          "loading:barge_0",
          "loading:barge_0",
          "loading:barge_0",
          "loading:barge_0",
          null,
          "loading:barge_0",
          "loading:barge_0",
          "loading:barge_0",
          "loading:barge_0",
          null,
          "loading:barge_0",
          "loading:barge_0",
          "loading:barge_0",
          "loading:barge_0",
          null,
          "loading:barge_0",
          "loading:barge_0",
          "loading:barge_0",
          "loading:barge_0",
          null
         ]
        },
        {
         "connectgaps": false,
         "hoverinfo": "y+name",
         "line": {
          "color": "rgb(170,9,37)",
          "width": 10
         },
         "mode": "lines",
         "name": "loading:barge_0",
         "type": "scatter",
         "x": [
          "1970-01-01T01:48:06",
          "1970-01-01T01:48:06",
          "1970-01-01T02:21:26",
          "1970-01-01T02:21:26",
          "1970-01-01T02:21:26",
          "1970-01-01T05:15:54",
          "1970-01-01T05:15:54",
          "1970-01-01T05:49:14",
          "1970-01-01T05:49:14",
          "1970-01-01T05:49:14",
          "1970-01-01T08:43:42",
          "1970-01-01T08:43:42",
          "1970-01-01T09:17:02",
          "1970-01-01T09:17:02",
          "1970-01-01T09:17:02",
          "1970-01-01T12:11:30",
          "1970-01-01T12:11:30",
          "1970-01-01T12:44:50",
          "1970-01-01T12:44:50",
          "1970-01-01T12:44:50",
          "1970-01-01T15:39:18",
          "1970-01-01T15:39:18",
          "1970-01-01T16:12:38",
          "1970-01-01T16:12:38",
          "1970-01-01T16:12:38",
          "1970-01-01T19:07:06",
          "1970-01-01T19:07:06",
          "1970-01-01T19:40:26",
          "1970-01-01T19:40:26",
          "1970-01-01T19:40:26",
          "1970-01-01T22:34:54",
          "1970-01-01T22:34:54",
          "1970-01-01T23:08:14",
          "1970-01-01T23:08:14",
          "1970-01-01T23:08:14",
          "1970-01-02T02:02:42",
          "1970-01-02T02:02:42",
          "1970-01-02T02:36:02",
          "1970-01-02T02:36:02",
          "1970-01-02T02:36:02",
          "1970-01-01T01:48:06",
          "1970-01-01T01:48:06",
          "1970-01-01T02:21:26",
          "1970-01-01T02:21:26",
          "1970-01-01T02:21:26",
          "1970-01-01T05:15:54",
          "1970-01-01T05:15:54",
          "1970-01-01T05:49:14",
          "1970-01-01T05:49:14",
          "1970-01-01T05:49:14",
          "1970-01-01T08:43:42",
          "1970-01-01T08:43:42",
          "1970-01-01T09:17:02",
          "1970-01-01T09:17:02",
          "1970-01-01T09:17:02",
          "1970-01-01T12:11:30",
          "1970-01-01T12:11:30",
          "1970-01-01T12:44:50",
          "1970-01-01T12:44:50",
          "1970-01-01T12:44:50",
          "1970-01-01T15:39:18",
          "1970-01-01T15:39:18",
          "1970-01-01T16:12:38",
          "1970-01-01T16:12:38",
          "1970-01-01T16:12:38",
          "1970-01-01T19:07:06",
          "1970-01-01T19:07:06",
          "1970-01-01T19:40:26",
          "1970-01-01T19:40:26",
          "1970-01-01T19:40:26",
          "1970-01-01T22:34:54",
          "1970-01-01T22:34:54",
          "1970-01-01T23:08:14",
          "1970-01-01T23:08:14",
          "1970-01-01T23:08:14",
          "1970-01-02T02:02:42",
          "1970-01-02T02:02:42",
          "1970-01-02T02:36:02",
          "1970-01-02T02:36:02",
          "1970-01-02T02:36:02"
         ],
         "y": [
          "loading:barge_0",
          "loading:barge_0",
          "loading:barge_0",
          "loading:barge_0",
          null,
          "loading:barge_0",
          "loading:barge_0",
          "loading:barge_0",
          "loading:barge_0",
          null,
          "loading:barge_0",
          "loading:barge_0",
          "loading:barge_0",
          "loading:barge_0",
          null,
          "loading:barge_0",
          "loading:barge_0",
          "loading:barge_0",
          "loading:barge_0",
          null,
          "loading:barge_0",
          "loading:barge_0",
          "loading:barge_0",
          "loading:barge_0",
          null,
          "loading:barge_0",
          "loading:barge_0",
          "loading:barge_0",
          "loading:barge_0",
          null,
          "loading:barge_0",
          "loading:barge_0",
          "loading:barge_0",
          "loading:barge_0",
          null,
          "loading:barge_0",
          "loading:barge_0",
          "loading:barge_0",
          "loading:barge_0",
          null,
          "loading:barge_0",
          "loading:barge_0",
          "loading:barge_0",
          "loading:barge_0",
          null,
          "loading:barge_0",
          "loading:barge_0",
          "loading:barge_0",
          "loading:barge_0",
          null,
          "loading:barge_0",
          "loading:barge_0",
          "loading:barge_0",
          "loading:barge_0",
          null,
          "loading:barge_0",
          "loading:barge_0",
          "loading:barge_0",
          "loading:barge_0",
          null,
          "loading:barge_0",
          "loading:barge_0",
          "loading:barge_0",
          "loading:barge_0",
          null,
          "loading:barge_0",
          "loading:barge_0",
          "loading:barge_0",
          "loading:barge_0",
          null,
          "loading:barge_0",
          "loading:barge_0",
          "loading:barge_0",
          "loading:barge_0",
          null,
          "loading:barge_0",
          "loading:barge_0",
          "loading:barge_0",
          "loading:barge_0",
          null
         ]
        },
        {
         "connectgaps": false,
         "hoverinfo": "y+name",
         "line": {
          "color": "rgb(212,51,79)",
          "width": 10
         },
         "mode": "lines",
         "name": "loading:barge_1",
         "type": "scatter",
         "x": [
          "1970-01-01T01:14:46",
          "1970-01-01T01:14:46",
          "1970-01-01T01:48:06",
          "1970-01-01T01:48:06",
          "1970-01-01T01:48:06",
          "1970-01-01T04:17:38",
          "1970-01-01T04:17:38",
          "1970-01-01T04:50:58",
          "1970-01-01T04:50:58",
          "1970-01-01T04:50:58",
          "1970-01-01T07:20:30",
          "1970-01-01T07:20:30",
          "1970-01-01T07:53:50",
          "1970-01-01T07:53:50",
          "1970-01-01T07:53:50",
          "1970-01-01T10:23:22",
          "1970-01-01T10:23:22",
          "1970-01-01T10:56:42",
          "1970-01-01T10:56:42",
          "1970-01-01T10:56:42",
          "1970-01-01T13:26:14",
          "1970-01-01T13:26:14",
          "1970-01-01T13:59:34",
          "1970-01-01T13:59:34",
          "1970-01-01T13:59:34",
          "1970-01-01T16:29:06",
          "1970-01-01T16:29:06",
          "1970-01-01T17:02:26",
          "1970-01-01T17:02:26",
          "1970-01-01T17:02:26",
          "1970-01-01T19:40:26",
          "1970-01-01T19:40:26",
          "1970-01-01T20:13:46",
          "1970-01-01T20:13:46",
          "1970-01-01T20:13:46",
          "1970-01-01T23:08:14",
          "1970-01-01T23:08:14",
          "1970-01-01T23:41:34",
          "1970-01-01T23:41:34",
          "1970-01-01T23:41:34",
          "1970-01-02T02:36:02",
          "1970-01-02T02:36:02",
          "1970-01-02T03:09:22",
          "1970-01-02T03:09:22",
          "1970-01-02T03:09:22",
          "1970-01-01T01:14:46",
          "1970-01-01T01:14:46",
          "1970-01-01T01:48:06",
          "1970-01-01T01:48:06",
          "1970-01-01T01:48:06",
          "1970-01-01T04:17:38",
          "1970-01-01T04:17:38",
          "1970-01-01T04:50:58",
          "1970-01-01T04:50:58",
          "1970-01-01T04:50:58",
          "1970-01-01T07:20:30",
          "1970-01-01T07:20:30",
          "1970-01-01T07:53:50",
          "1970-01-01T07:53:50",
          "1970-01-01T07:53:50",
          "1970-01-01T10:23:22",
          "1970-01-01T10:23:22",
          "1970-01-01T10:56:42",
          "1970-01-01T10:56:42",
          "1970-01-01T10:56:42",
          "1970-01-01T13:26:14",
          "1970-01-01T13:26:14",
          "1970-01-01T13:59:34",
          "1970-01-01T13:59:34",
          "1970-01-01T13:59:34",
          "1970-01-01T16:29:06",
          "1970-01-01T16:29:06",
          "1970-01-01T17:02:26",
          "1970-01-01T17:02:26",
          "1970-01-01T17:02:26",
          "1970-01-01T19:40:26",
          "1970-01-01T19:40:26",
          "1970-01-01T20:13:46",
          "1970-01-01T20:13:46",
          "1970-01-01T20:13:46",
          "1970-01-01T23:08:14",
          "1970-01-01T23:08:14",
          "1970-01-01T23:41:34",
          "1970-01-01T23:41:34",
          "1970-01-01T23:41:34",
          "1970-01-02T02:36:02",
          "1970-01-02T02:36:02",
          "1970-01-02T03:09:22",
          "1970-01-02T03:09:22",
          "1970-01-02T03:09:22"
         ],
         "y": [
          "loading:barge_1",
          "loading:barge_1",
          "loading:barge_1",
          "loading:barge_1",
          null,
          "loading:barge_1",
          "loading:barge_1",
          "loading:barge_1",
          "loading:barge_1",
          null,
          "loading:barge_1",
          "loading:barge_1",
          "loading:barge_1",
          "loading:barge_1",
          null,
          "loading:barge_1",
          "loading:barge_1",
          "loading:barge_1",
          "loading:barge_1",
          null,
          "loading:barge_1",
          "loading:barge_1",
          "loading:barge_1",
          "loading:barge_1",
          null,
          "loading:barge_1",
          "loading:barge_1",
          "loading:barge_1",
          "loading:barge_1",
          null,
          "loading:barge_1",
          "loading:barge_1",
          "loading:barge_1",
          "loading:barge_1",
          null,
          "loading:barge_1",
          "loading:barge_1",
          "loading:barge_1",
          "loading:barge_1",
          null,
          "loading:barge_1",
          "loading:barge_1",
          "loading:barge_1",
          "loading:barge_1",
          null,
          "loading:barge_1",
          "loading:barge_1",
          "loading:barge_1",
          "loading:barge_1",
          null,
          "loading:barge_1",
          "loading:barge_1",
          "loading:barge_1",
          "loading:barge_1",
          null,
          "loading:barge_1",
          "loading:barge_1",
          "loading:barge_1",
          "loading:barge_1",
          null,
          "loading:barge_1",
          "loading:barge_1",
          "loading:barge_1",
          "loading:barge_1",
          null,
          "loading:barge_1",
          "loading:barge_1",
          "loading:barge_1",
          "loading:barge_1",
          null,
          "loading:barge_1",
          "loading:barge_1",
          "loading:barge_1",
          "loading:barge_1",
          null,
          "loading:barge_1",
          "loading:barge_1",
          "loading:barge_1",
          "loading:barge_1",
          null,
          "loading:barge_1",
          "loading:barge_1",
          "loading:barge_1",
          "loading:barge_1",
          null,
          "loading:barge_1",
          "loading:barge_1",
          "loading:barge_1",
          "loading:barge_1",
          null
         ]
        },
        {
         "connectgaps": false,
         "hoverinfo": "y+name",
         "line": {
          "color": "rgb(254,93,121)",
          "width": 10
         },
         "mode": "lines",
         "name": "loading:barge_1",
         "type": "scatter",
         "x": [
          "1970-01-01T01:14:46",
          "1970-01-01T01:14:46",
          "1970-01-01T01:48:06",
          "1970-01-01T01:48:06",
          "1970-01-01T01:48:06",
          "1970-01-01T04:17:38",
          "1970-01-01T04:17:38",
          "1970-01-01T04:50:58",
          "1970-01-01T04:50:58",
          "1970-01-01T04:50:58",
          "1970-01-01T07:20:30",
          "1970-01-01T07:20:30",
          "1970-01-01T07:53:50",
          "1970-01-01T07:53:50",
          "1970-01-01T07:53:50",
          "1970-01-01T10:23:22",
          "1970-01-01T10:23:22",
          "1970-01-01T10:56:42",
          "1970-01-01T10:56:42",
          "1970-01-01T10:56:42",
          "1970-01-01T13:26:14",
          "1970-01-01T13:26:14",
          "1970-01-01T13:59:34",
          "1970-01-01T13:59:34",
          "1970-01-01T13:59:34",
          "1970-01-01T16:29:06",
          "1970-01-01T16:29:06",
          "1970-01-01T17:02:26",
          "1970-01-01T17:02:26",
          "1970-01-01T17:02:26",
          "1970-01-01T19:40:26",
          "1970-01-01T19:40:26",
          "1970-01-01T20:13:46",
          "1970-01-01T20:13:46",
          "1970-01-01T20:13:46",
          "1970-01-01T23:08:14",
          "1970-01-01T23:08:14",
          "1970-01-01T23:41:34",
          "1970-01-01T23:41:34",
          "1970-01-01T23:41:34",
          "1970-01-02T02:36:02",
          "1970-01-02T02:36:02",
          "1970-01-02T03:09:22",
          "1970-01-02T03:09:22",
          "1970-01-02T03:09:22",
          "1970-01-01T01:14:46",
          "1970-01-01T01:14:46",
          "1970-01-01T01:48:06",
          "1970-01-01T01:48:06",
          "1970-01-01T01:48:06",
          "1970-01-01T04:17:38",
          "1970-01-01T04:17:38",
          "1970-01-01T04:50:58",
          "1970-01-01T04:50:58",
          "1970-01-01T04:50:58",
          "1970-01-01T07:20:30",
          "1970-01-01T07:20:30",
          "1970-01-01T07:53:50",
          "1970-01-01T07:53:50",
          "1970-01-01T07:53:50",
          "1970-01-01T10:23:22",
          "1970-01-01T10:23:22",
          "1970-01-01T10:56:42",
          "1970-01-01T10:56:42",
          "1970-01-01T10:56:42",
          "1970-01-01T13:26:14",
          "1970-01-01T13:26:14",
          "1970-01-01T13:59:34",
          "1970-01-01T13:59:34",
          "1970-01-01T13:59:34",
          "1970-01-01T16:29:06",
          "1970-01-01T16:29:06",
          "1970-01-01T17:02:26",
          "1970-01-01T17:02:26",
          "1970-01-01T17:02:26",
          "1970-01-01T19:40:26",
          "1970-01-01T19:40:26",
          "1970-01-01T20:13:46",
          "1970-01-01T20:13:46",
          "1970-01-01T20:13:46",
          "1970-01-01T23:08:14",
          "1970-01-01T23:08:14",
          "1970-01-01T23:41:34",
          "1970-01-01T23:41:34",
          "1970-01-01T23:41:34",
          "1970-01-02T02:36:02",
          "1970-01-02T02:36:02",
          "1970-01-02T03:09:22",
          "1970-01-02T03:09:22",
          "1970-01-02T03:09:22"
         ],
         "y": [
          "loading:barge_1",
          "loading:barge_1",
          "loading:barge_1",
          "loading:barge_1",
          null,
          "loading:barge_1",
          "loading:barge_1",
          "loading:barge_1",
          "loading:barge_1",
          null,
          "loading:barge_1",
          "loading:barge_1",
          "loading:barge_1",
          "loading:barge_1",
          null,
          "loading:barge_1",
          "loading:barge_1",
          "loading:barge_1",
          "loading:barge_1",
          null,
          "loading:barge_1",
          "loading:barge_1",
          "loading:barge_1",
          "loading:barge_1",
          null,
          "loading:barge_1",
          "loading:barge_1",
          "loading:barge_1",
          "loading:barge_1",
          null,
          "loading:barge_1",
          "loading:barge_1",
          "loading:barge_1",
          "loading:barge_1",
          null,
          "loading:barge_1",
          "loading:barge_1",
          "loading:barge_1",
          "loading:barge_1",
          null,
          "loading:barge_1",
          "loading:barge_1",
          "loading:barge_1",
          "loading:barge_1",
          null,
          "loading:barge_1",
          "loading:barge_1",
          "loading:barge_1",
          "loading:barge_1",
          null,
          "loading:barge_1",
          "loading:barge_1",
          "loading:barge_1",
          "loading:barge_1",
          null,
          "loading:barge_1",
          "loading:barge_1",
          "loading:barge_1",
          "loading:barge_1",
          null,
          "loading:barge_1",
          "loading:barge_1",
          "loading:barge_1",
          "loading:barge_1",
          null,
          "loading:barge_1",
          "loading:barge_1",
          "loading:barge_1",
          "loading:barge_1",
          null,
          "loading:barge_1",
          "loading:barge_1",
          "loading:barge_1",
          "loading:barge_1",
          null,
          "loading:barge_1",
          "loading:barge_1",
          "loading:barge_1",
          "loading:barge_1",
          null,
          "loading:barge_1",
          "loading:barge_1",
          "loading:barge_1",
          "loading:barge_1",
          null,
          "loading:barge_1",
          "loading:barge_1",
          "loading:barge_1",
          "loading:barge_1",
          null
         ]
        },
        {
         "connectgaps": false,
         "hoverinfo": "y+name",
         "line": {
          "color": "rgb(40,135,163)",
          "width": 10
         },
         "mode": "lines",
         "name": "loading:barge_2",
         "type": "scatter",
         "x": [
          "1970-01-01T02:21:26",
          "1970-01-01T02:21:26",
          "1970-01-01T02:54:46",
          "1970-01-01T02:54:46",
          "1970-01-01T02:54:46",
          "1970-01-01T06:04:10",
          "1970-01-01T06:04:10",
          "1970-01-01T06:37:30",
          "1970-01-01T06:37:30",
          "1970-01-01T06:37:30",
          "1970-01-01T09:46:54",
          "1970-01-01T09:46:54",
          "1970-01-01T10:20:14",
          "1970-01-01T10:20:14",
          "1970-01-01T10:20:14",
          "1970-01-01T13:59:34",
          "1970-01-01T13:59:34",
          "1970-01-01T14:32:54",
          "1970-01-01T14:32:54",
          "1970-01-01T14:32:54",
          "1970-01-01T17:42:18",
          "1970-01-01T17:42:18",
          "1970-01-01T18:15:38",
          "1970-01-01T18:15:38",
          "1970-01-01T18:15:38",
          "1970-01-01T21:25:02",
          "1970-01-01T21:25:02",
          "1970-01-01T21:58:22",
          "1970-01-01T21:58:22",
          "1970-01-01T21:58:22",
          "1970-01-02T01:07:46",
          "1970-01-02T01:07:46",
          "1970-01-02T01:41:06",
          "1970-01-02T01:41:06",
          "1970-01-02T01:41:06",
          "1970-01-02T04:50:30",
          "1970-01-02T04:50:30",
          "1970-01-02T05:23:50",
          "1970-01-02T05:23:50",
          "1970-01-02T05:23:50",
          "1970-01-01T02:21:26",
          "1970-01-01T02:21:26",
          "1970-01-01T02:54:46",
          "1970-01-01T02:54:46",
          "1970-01-01T02:54:46",
          "1970-01-01T06:04:10",
          "1970-01-01T06:04:10",
          "1970-01-01T06:37:30",
          "1970-01-01T06:37:30",
          "1970-01-01T06:37:30",
          "1970-01-01T09:46:54",
          "1970-01-01T09:46:54",
          "1970-01-01T10:20:14",
          "1970-01-01T10:20:14",
          "1970-01-01T10:20:14",
          "1970-01-01T13:59:34",
          "1970-01-01T13:59:34",
          "1970-01-01T14:32:54",
          "1970-01-01T14:32:54",
          "1970-01-01T14:32:54",
          "1970-01-01T17:42:18",
          "1970-01-01T17:42:18",
          "1970-01-01T18:15:38",
          "1970-01-01T18:15:38",
          "1970-01-01T18:15:38",
          "1970-01-01T21:25:02",
          "1970-01-01T21:25:02",
          "1970-01-01T21:58:22",
          "1970-01-01T21:58:22",
          "1970-01-01T21:58:22",
          "1970-01-02T01:07:46",
          "1970-01-02T01:07:46",
          "1970-01-02T01:41:06",
          "1970-01-02T01:41:06",
          "1970-01-02T01:41:06",
          "1970-01-02T04:50:30",
          "1970-01-02T04:50:30",
          "1970-01-02T05:23:50",
          "1970-01-02T05:23:50",
          "1970-01-02T05:23:50"
         ],
         "y": [
          "loading:barge_2",
          "loading:barge_2",
          "loading:barge_2",
          "loading:barge_2",
          null,
          "loading:barge_2",
          "loading:barge_2",
          "loading:barge_2",
          "loading:barge_2",
          null,
          "loading:barge_2",
          "loading:barge_2",
          "loading:barge_2",
          "loading:barge_2",
          null,
          "loading:barge_2",
          "loading:barge_2",
          "loading:barge_2",
          "loading:barge_2",
          null,
          "loading:barge_2",
          "loading:barge_2",
          "loading:barge_2",
          "loading:barge_2",
          null,
          "loading:barge_2",
          "loading:barge_2",
          "loading:barge_2",
          "loading:barge_2",
          null,
          "loading:barge_2",
          "loading:barge_2",
          "loading:barge_2",
          "loading:barge_2",
          null,
          "loading:barge_2",
          "loading:barge_2",
          "loading:barge_2",
          "loading:barge_2",
          null,
          "loading:barge_2",
          "loading:barge_2",
          "loading:barge_2",
          "loading:barge_2",
          null,
          "loading:barge_2",
          "loading:barge_2",
          "loading:barge_2",
          "loading:barge_2",
          null,
          "loading:barge_2",
          "loading:barge_2",
          "loading:barge_2",
          "loading:barge_2",
          null,
          "loading:barge_2",
          "loading:barge_2",
          "loading:barge_2",
          "loading:barge_2",
          null,
          "loading:barge_2",
          "loading:barge_2",
          "loading:barge_2",
          "loading:barge_2",
          null,
          "loading:barge_2",
          "loading:barge_2",
          "loading:barge_2",
          "loading:barge_2",
          null,
          "loading:barge_2",
          "loading:barge_2",
          "loading:barge_2",
          "loading:barge_2",
          null,
          "loading:barge_2",
          "loading:barge_2",
          "loading:barge_2",
          "loading:barge_2",
          null
         ]
        },
        {
         "connectgaps": false,
         "hoverinfo": "y+name",
         "line": {
          "color": "rgb(82,177,205)",
          "width": 10
         },
         "mode": "lines",
         "name": "loading:barge_2",
         "type": "scatter",
         "x": [
          "1970-01-01T02:21:26",
          "1970-01-01T02:21:26",
          "1970-01-01T02:54:46",
          "1970-01-01T02:54:46",
          "1970-01-01T02:54:46",
          "1970-01-01T06:04:10",
          "1970-01-01T06:04:10",
          "1970-01-01T06:37:30",
          "1970-01-01T06:37:30",
          "1970-01-01T06:37:30",
          "1970-01-01T09:46:54",
          "1970-01-01T09:46:54",
          "1970-01-01T10:20:14",
          "1970-01-01T10:20:14",
          "1970-01-01T10:20:14",
          "1970-01-01T13:59:34",
          "1970-01-01T13:59:34",
          "1970-01-01T14:32:54",
          "1970-01-01T14:32:54",
          "1970-01-01T14:32:54",
          "1970-01-01T17:42:18",
          "1970-01-01T17:42:18",
          "1970-01-01T18:15:38",
          "1970-01-01T18:15:38",
          "1970-01-01T18:15:38",
          "1970-01-01T21:25:02",
          "1970-01-01T21:25:02",
          "1970-01-01T21:58:22",
          "1970-01-01T21:58:22",
          "1970-01-01T21:58:22",
          "1970-01-02T01:07:46",
          "1970-01-02T01:07:46",
          "1970-01-02T01:41:06",
          "1970-01-02T01:41:06",
          "1970-01-02T01:41:06",
          "1970-01-02T04:50:30",
          "1970-01-02T04:50:30",
          "1970-01-02T05:23:50",
          "1970-01-02T05:23:50",
          "1970-01-02T05:23:50",
          "1970-01-01T02:21:26",
          "1970-01-01T02:21:26",
          "1970-01-01T02:54:46",
          "1970-01-01T02:54:46",
          "1970-01-01T02:54:46",
          "1970-01-01T06:04:10",
          "1970-01-01T06:04:10",
          "1970-01-01T06:37:30",
          "1970-01-01T06:37:30",
          "1970-01-01T06:37:30",
          "1970-01-01T09:46:54",
          "1970-01-01T09:46:54",
          "1970-01-01T10:20:14",
          "1970-01-01T10:20:14",
          "1970-01-01T10:20:14",
          "1970-01-01T13:59:34",
          "1970-01-01T13:59:34",
          "1970-01-01T14:32:54",
          "1970-01-01T14:32:54",
          "1970-01-01T14:32:54",
          "1970-01-01T17:42:18",
          "1970-01-01T17:42:18",
          "1970-01-01T18:15:38",
          "1970-01-01T18:15:38",
          "1970-01-01T18:15:38",
          "1970-01-01T21:25:02",
          "1970-01-01T21:25:02",
          "1970-01-01T21:58:22",
          "1970-01-01T21:58:22",
          "1970-01-01T21:58:22",
          "1970-01-02T01:07:46",
          "1970-01-02T01:07:46",
          "1970-01-02T01:41:06",
          "1970-01-02T01:41:06",
          "1970-01-02T01:41:06",
          "1970-01-02T04:50:30",
          "1970-01-02T04:50:30",
          "1970-01-02T05:23:50",
          "1970-01-02T05:23:50",
          "1970-01-02T05:23:50"
         ],
         "y": [
          "loading:barge_2",
          "loading:barge_2",
          "loading:barge_2",
          "loading:barge_2",
          null,
          "loading:barge_2",
          "loading:barge_2",
          "loading:barge_2",
          "loading:barge_2",
          null,
          "loading:barge_2",
          "loading:barge_2",
          "loading:barge_2",
          "loading:barge_2",
          null,
          "loading:barge_2",
          "loading:barge_2",
          "loading:barge_2",
          "loading:barge_2",
          null,
          "loading:barge_2",
          "loading:barge_2",
          "loading:barge_2",
          "loading:barge_2",
          null,
          "loading:barge_2",
          "loading:barge_2",
          "loading:barge_2",
          "loading:barge_2",
          null,
          "loading:barge_2",
          "loading:barge_2",
          "loading:barge_2",
          "loading:barge_2",
          null,
          "loading:barge_2",
          "loading:barge_2",
          "loading:barge_2",
          "loading:barge_2",
          null,
          "loading:barge_2",
          "loading:barge_2",
          "loading:barge_2",
          "loading:barge_2",
          null,
          "loading:barge_2",
          "loading:barge_2",
          "loading:barge_2",
          "loading:barge_2",
          null,
          "loading:barge_2",
          "loading:barge_2",
          "loading:barge_2",
          "loading:barge_2",
          null,
          "loading:barge_2",
          "loading:barge_2",
          "loading:barge_2",
          "loading:barge_2",
          null,
          "loading:barge_2",
          "loading:barge_2",
          "loading:barge_2",
          "loading:barge_2",
          null,
          "loading:barge_2",
          "loading:barge_2",
          "loading:barge_2",
          "loading:barge_2",
          null,
          "loading:barge_2",
          "loading:barge_2",
          "loading:barge_2",
          "loading:barge_2",
          null,
          "loading:barge_2",
          "loading:barge_2",
          "loading:barge_2",
          "loading:barge_2",
          null
         ]
        }
       ],
       "layout": {
        "hovermode": "closest",
        "legend": {
         "orientation": "h",
         "x": 0,
         "y": -0.2
        },
        "template": {
         "data": {
          "bar": [
           {
            "error_x": {
             "color": "#2a3f5f"
            },
            "error_y": {
             "color": "#2a3f5f"
            },
            "marker": {
             "line": {
              "color": "#E5ECF6",
              "width": 0.5
             },
             "pattern": {
              "fillmode": "overlay",
              "size": 10,
              "solidity": 0.2
             }
            },
            "type": "bar"
           }
          ],
          "barpolar": [
           {
            "marker": {
             "line": {
              "color": "#E5ECF6",
              "width": 0.5
             },
             "pattern": {
              "fillmode": "overlay",
              "size": 10,
              "solidity": 0.2
             }
            },
            "type": "barpolar"
           }
          ],
          "carpet": [
           {
            "aaxis": {
             "endlinecolor": "#2a3f5f",
             "gridcolor": "white",
             "linecolor": "white",
             "minorgridcolor": "white",
             "startlinecolor": "#2a3f5f"
            },
            "baxis": {
             "endlinecolor": "#2a3f5f",
             "gridcolor": "white",
             "linecolor": "white",
             "minorgridcolor": "white",
             "startlinecolor": "#2a3f5f"
            },
            "type": "carpet"
           }
          ],
          "choropleth": [
           {
            "colorbar": {
             "outlinewidth": 0,
             "ticks": ""
            },
            "type": "choropleth"
           }
          ],
          "contour": [
           {
            "colorbar": {
             "outlinewidth": 0,
             "ticks": ""
            },
            "colorscale": [
             [
              0,
              "#0d0887"
             ],
             [
              0.1111111111111111,
              "#46039f"
             ],
             [
              0.2222222222222222,
              "#7201a8"
             ],
             [
              0.3333333333333333,
              "#9c179e"
             ],
             [
              0.4444444444444444,
              "#bd3786"
             ],
             [
              0.5555555555555556,
              "#d8576b"
             ],
             [
              0.6666666666666666,
              "#ed7953"
             ],
             [
              0.7777777777777778,
              "#fb9f3a"
             ],
             [
              0.8888888888888888,
              "#fdca26"
             ],
             [
              1,
              "#f0f921"
             ]
            ],
            "type": "contour"
           }
          ],
          "contourcarpet": [
           {
            "colorbar": {
             "outlinewidth": 0,
             "ticks": ""
            },
            "type": "contourcarpet"
           }
          ],
          "heatmap": [
           {
            "colorbar": {
             "outlinewidth": 0,
             "ticks": ""
            },
            "colorscale": [
             [
              0,
              "#0d0887"
             ],
             [
              0.1111111111111111,
              "#46039f"
             ],
             [
              0.2222222222222222,
              "#7201a8"
             ],
             [
              0.3333333333333333,
              "#9c179e"
             ],
             [
              0.4444444444444444,
              "#bd3786"
             ],
             [
              0.5555555555555556,
              "#d8576b"
             ],
             [
              0.6666666666666666,
              "#ed7953"
             ],
             [
              0.7777777777777778,
              "#fb9f3a"
             ],
             [
              0.8888888888888888,
              "#fdca26"
             ],
             [
              1,
              "#f0f921"
             ]
            ],
            "type": "heatmap"
           }
          ],
          "heatmapgl": [
           {
            "colorbar": {
             "outlinewidth": 0,
             "ticks": ""
            },
            "colorscale": [
             [
              0,
              "#0d0887"
             ],
             [
              0.1111111111111111,
              "#46039f"
             ],
             [
              0.2222222222222222,
              "#7201a8"
             ],
             [
              0.3333333333333333,
              "#9c179e"
             ],
             [
              0.4444444444444444,
              "#bd3786"
             ],
             [
              0.5555555555555556,
              "#d8576b"
             ],
             [
              0.6666666666666666,
              "#ed7953"
             ],
             [
              0.7777777777777778,
              "#fb9f3a"
             ],
             [
              0.8888888888888888,
              "#fdca26"
             ],
             [
              1,
              "#f0f921"
             ]
            ],
            "type": "heatmapgl"
           }
          ],
          "histogram": [
           {
            "marker": {
             "pattern": {
              "fillmode": "overlay",
              "size": 10,
              "solidity": 0.2
             }
            },
            "type": "histogram"
           }
          ],
          "histogram2d": [
           {
            "colorbar": {
             "outlinewidth": 0,
             "ticks": ""
            },
            "colorscale": [
             [
              0,
              "#0d0887"
             ],
             [
              0.1111111111111111,
              "#46039f"
             ],
             [
              0.2222222222222222,
              "#7201a8"
             ],
             [
              0.3333333333333333,
              "#9c179e"
             ],
             [
              0.4444444444444444,
              "#bd3786"
             ],
             [
              0.5555555555555556,
              "#d8576b"
             ],
             [
              0.6666666666666666,
              "#ed7953"
             ],
             [
              0.7777777777777778,
              "#fb9f3a"
             ],
             [
              0.8888888888888888,
              "#fdca26"
             ],
             [
              1,
              "#f0f921"
             ]
            ],
            "type": "histogram2d"
           }
          ],
          "histogram2dcontour": [
           {
            "colorbar": {
             "outlinewidth": 0,
             "ticks": ""
            },
            "colorscale": [
             [
              0,
              "#0d0887"
             ],
             [
              0.1111111111111111,
              "#46039f"
             ],
             [
              0.2222222222222222,
              "#7201a8"
             ],
             [
              0.3333333333333333,
              "#9c179e"
             ],
             [
              0.4444444444444444,
              "#bd3786"
             ],
             [
              0.5555555555555556,
              "#d8576b"
             ],
             [
              0.6666666666666666,
              "#ed7953"
             ],
             [
              0.7777777777777778,
              "#fb9f3a"
             ],
             [
              0.8888888888888888,
              "#fdca26"
             ],
             [
              1,
              "#f0f921"
             ]
            ],
            "type": "histogram2dcontour"
           }
          ],
          "mesh3d": [
           {
            "colorbar": {
             "outlinewidth": 0,
             "ticks": ""
            },
            "type": "mesh3d"
           }
          ],
          "parcoords": [
           {
            "line": {
             "colorbar": {
              "outlinewidth": 0,
              "ticks": ""
             }
            },
            "type": "parcoords"
           }
          ],
          "pie": [
           {
            "automargin": true,
            "type": "pie"
           }
          ],
          "scatter": [
           {
            "fillpattern": {
             "fillmode": "overlay",
             "size": 10,
             "solidity": 0.2
            },
            "type": "scatter"
           }
          ],
          "scatter3d": [
           {
            "line": {
             "colorbar": {
              "outlinewidth": 0,
              "ticks": ""
             }
            },
            "marker": {
             "colorbar": {
              "outlinewidth": 0,
              "ticks": ""
             }
            },
            "type": "scatter3d"
           }
          ],
          "scattercarpet": [
           {
            "marker": {
             "colorbar": {
              "outlinewidth": 0,
              "ticks": ""
             }
            },
            "type": "scattercarpet"
           }
          ],
          "scattergeo": [
           {
            "marker": {
             "colorbar": {
              "outlinewidth": 0,
              "ticks": ""
             }
            },
            "type": "scattergeo"
           }
          ],
          "scattergl": [
           {
            "marker": {
             "colorbar": {
              "outlinewidth": 0,
              "ticks": ""
             }
            },
            "type": "scattergl"
           }
          ],
          "scattermapbox": [
           {
            "marker": {
             "colorbar": {
              "outlinewidth": 0,
              "ticks": ""
             }
            },
            "type": "scattermapbox"
           }
          ],
          "scatterpolar": [
           {
            "marker": {
             "colorbar": {
              "outlinewidth": 0,
              "ticks": ""
             }
            },
            "type": "scatterpolar"
           }
          ],
          "scatterpolargl": [
           {
            "marker": {
             "colorbar": {
              "outlinewidth": 0,
              "ticks": ""
             }
            },
            "type": "scatterpolargl"
           }
          ],
          "scatterternary": [
           {
            "marker": {
             "colorbar": {
              "outlinewidth": 0,
              "ticks": ""
             }
            },
            "type": "scatterternary"
           }
          ],
          "surface": [
           {
            "colorbar": {
             "outlinewidth": 0,
             "ticks": ""
            },
            "colorscale": [
             [
              0,
              "#0d0887"
             ],
             [
              0.1111111111111111,
              "#46039f"
             ],
             [
              0.2222222222222222,
              "#7201a8"
             ],
             [
              0.3333333333333333,
              "#9c179e"
             ],
             [
              0.4444444444444444,
              "#bd3786"
             ],
             [
              0.5555555555555556,
              "#d8576b"
             ],
             [
              0.6666666666666666,
              "#ed7953"
             ],
             [
              0.7777777777777778,
              "#fb9f3a"
             ],
             [
              0.8888888888888888,
              "#fdca26"
             ],
             [
              1,
              "#f0f921"
             ]
            ],
            "type": "surface"
           }
          ],
          "table": [
           {
            "cells": {
             "fill": {
              "color": "#EBF0F8"
             },
             "line": {
              "color": "white"
             }
            },
            "header": {
             "fill": {
              "color": "#C8D4E3"
             },
             "line": {
              "color": "white"
             }
            },
            "type": "table"
           }
          ]
         },
         "layout": {
          "annotationdefaults": {
           "arrowcolor": "#2a3f5f",
           "arrowhead": 0,
           "arrowwidth": 1
          },
          "autotypenumbers": "strict",
          "coloraxis": {
           "colorbar": {
            "outlinewidth": 0,
            "ticks": ""
           }
          },
          "colorscale": {
           "diverging": [
            [
             0,
             "#8e0152"
            ],
            [
             0.1,
             "#c51b7d"
            ],
            [
             0.2,
             "#de77ae"
            ],
            [
             0.3,
             "#f1b6da"
            ],
            [
             0.4,
             "#fde0ef"
            ],
            [
             0.5,
             "#f7f7f7"
            ],
            [
             0.6,
             "#e6f5d0"
            ],
            [
             0.7,
             "#b8e186"
            ],
            [
             0.8,
             "#7fbc41"
            ],
            [
             0.9,
             "#4d9221"
            ],
            [
             1,
             "#276419"
            ]
           ],
           "sequential": [
            [
             0,
             "#0d0887"
            ],
            [
             0.1111111111111111,
             "#46039f"
            ],
            [
             0.2222222222222222,
             "#7201a8"
            ],
            [
             0.3333333333333333,
             "#9c179e"
            ],
            [
             0.4444444444444444,
             "#bd3786"
            ],
            [
             0.5555555555555556,
             "#d8576b"
            ],
            [
             0.6666666666666666,
             "#ed7953"
            ],
            [
             0.7777777777777778,
             "#fb9f3a"
            ],
            [
             0.8888888888888888,
             "#fdca26"
            ],
            [
             1,
             "#f0f921"
            ]
           ],
           "sequentialminus": [
            [
             0,
             "#0d0887"
            ],
            [
             0.1111111111111111,
             "#46039f"
            ],
            [
             0.2222222222222222,
             "#7201a8"
            ],
            [
             0.3333333333333333,
             "#9c179e"
            ],
            [
             0.4444444444444444,
             "#bd3786"
            ],
            [
             0.5555555555555556,
             "#d8576b"
            ],
            [
             0.6666666666666666,
             "#ed7953"
            ],
            [
             0.7777777777777778,
             "#fb9f3a"
            ],
            [
             0.8888888888888888,
             "#fdca26"
            ],
            [
             1,
             "#f0f921"
            ]
           ]
          },
          "colorway": [
           "#636efa",
           "#EF553B",
           "#00cc96",
           "#ab63fa",
           "#FFA15A",
           "#19d3f3",
           "#FF6692",
           "#B6E880",
           "#FF97FF",
           "#FECB52"
          ],
          "font": {
           "color": "#2a3f5f"
          },
          "geo": {
           "bgcolor": "white",
           "lakecolor": "white",
           "landcolor": "#E5ECF6",
           "showlakes": true,
           "showland": true,
           "subunitcolor": "white"
          },
          "hoverlabel": {
           "align": "left"
          },
          "hovermode": "closest",
          "mapbox": {
           "style": "light"
          },
          "paper_bgcolor": "white",
          "plot_bgcolor": "#E5ECF6",
          "polar": {
           "angularaxis": {
            "gridcolor": "white",
            "linecolor": "white",
            "ticks": ""
           },
           "bgcolor": "#E5ECF6",
           "radialaxis": {
            "gridcolor": "white",
            "linecolor": "white",
            "ticks": ""
           }
          },
          "scene": {
           "xaxis": {
            "backgroundcolor": "#E5ECF6",
            "gridcolor": "white",
            "gridwidth": 2,
            "linecolor": "white",
            "showbackground": true,
            "ticks": "",
            "zerolinecolor": "white"
           },
           "yaxis": {
            "backgroundcolor": "#E5ECF6",
            "gridcolor": "white",
            "gridwidth": 2,
            "linecolor": "white",
            "showbackground": true,
            "ticks": "",
            "zerolinecolor": "white"
           },
           "zaxis": {
            "backgroundcolor": "#E5ECF6",
            "gridcolor": "white",
            "gridwidth": 2,
            "linecolor": "white",
            "showbackground": true,
            "ticks": "",
            "zerolinecolor": "white"
           }
          },
          "shapedefaults": {
           "line": {
            "color": "#2a3f5f"
           }
          },
          "ternary": {
           "aaxis": {
            "gridcolor": "white",
            "linecolor": "white",
            "ticks": ""
           },
           "baxis": {
            "gridcolor": "white",
            "linecolor": "white",
            "ticks": ""
           },
           "bgcolor": "#E5ECF6",
           "caxis": {
            "gridcolor": "white",
            "linecolor": "white",
            "ticks": ""
           }
          },
          "title": {
           "x": 0.05
          },
          "xaxis": {
           "automargin": true,
           "gridcolor": "white",
           "linecolor": "white",
           "ticks": "",
           "title": {
            "standoff": 15
           },
           "zerolinecolor": "white",
           "zerolinewidth": 2
          },
          "yaxis": {
           "automargin": true,
           "gridcolor": "white",
           "linecolor": "white",
           "ticks": "",
           "title": {
            "standoff": 15
           },
           "zerolinecolor": "white",
           "zerolinewidth": 2
          }
         }
        },
        "title": {
         "text": "GANTT Chart"
        },
        "xaxis": {
         "range": [
          "1970-01-01T01:14:46",
          "1970-01-02T05:23:50"
         ],
         "title": {
          "font": {
           "color": "#7f7f7f",
           "family": "Courier New, monospace",
           "size": 18
          },
          "text": "Time"
         }
        },
        "yaxis": {
         "title": {
          "font": {
           "color": "#7f7f7f",
           "family": "Courier New, monospace",
           "size": 18
          },
          "text": "Activities"
         }
        }
       }
      },
      "text/html": [
       "<div>                            <div id=\"1de50c2d-f916-4463-ac0e-ec17ea4b7e5c\" class=\"plotly-graph-div\" style=\"height:525px; width:100%;\"></div>            <script type=\"text/javascript\">                require([\"plotly\"], function(Plotly) {                    window.PLOTLYENV=window.PLOTLYENV || {};                                    if (document.getElementById(\"1de50c2d-f916-4463-ac0e-ec17ea4b7e5c\")) {                    Plotly.newPlot(                        \"1de50c2d-f916-4463-ac0e-ec17ea4b7e5c\",                        [{\"connectgaps\":false,\"hoverinfo\":\"y+name\",\"line\":{\"color\":\"rgb(128,223,251)\",\"width\":10},\"mode\":\"lines\",\"name\":\"loading:barge_0\",\"x\":[\"1970-01-01T01:48:06\",\"1970-01-01T01:48:06\",\"1970-01-01T02:21:26\",\"1970-01-01T02:21:26\",\"1970-01-01T02:21:26\",\"1970-01-01T05:15:54\",\"1970-01-01T05:15:54\",\"1970-01-01T05:49:14\",\"1970-01-01T05:49:14\",\"1970-01-01T05:49:14\",\"1970-01-01T08:43:42\",\"1970-01-01T08:43:42\",\"1970-01-01T09:17:02\",\"1970-01-01T09:17:02\",\"1970-01-01T09:17:02\",\"1970-01-01T12:11:30\",\"1970-01-01T12:11:30\",\"1970-01-01T12:44:50\",\"1970-01-01T12:44:50\",\"1970-01-01T12:44:50\",\"1970-01-01T15:39:18\",\"1970-01-01T15:39:18\",\"1970-01-01T16:12:38\",\"1970-01-01T16:12:38\",\"1970-01-01T16:12:38\",\"1970-01-01T19:07:06\",\"1970-01-01T19:07:06\",\"1970-01-01T19:40:26\",\"1970-01-01T19:40:26\",\"1970-01-01T19:40:26\",\"1970-01-01T22:34:54\",\"1970-01-01T22:34:54\",\"1970-01-01T23:08:14\",\"1970-01-01T23:08:14\",\"1970-01-01T23:08:14\",\"1970-01-02T02:02:42\",\"1970-01-02T02:02:42\",\"1970-01-02T02:36:02\",\"1970-01-02T02:36:02\",\"1970-01-02T02:36:02\",\"1970-01-01T01:48:06\",\"1970-01-01T01:48:06\",\"1970-01-01T02:21:26\",\"1970-01-01T02:21:26\",\"1970-01-01T02:21:26\",\"1970-01-01T05:15:54\",\"1970-01-01T05:15:54\",\"1970-01-01T05:49:14\",\"1970-01-01T05:49:14\",\"1970-01-01T05:49:14\",\"1970-01-01T08:43:42\",\"1970-01-01T08:43:42\",\"1970-01-01T09:17:02\",\"1970-01-01T09:17:02\",\"1970-01-01T09:17:02\",\"1970-01-01T12:11:30\",\"1970-01-01T12:11:30\",\"1970-01-01T12:44:50\",\"1970-01-01T12:44:50\",\"1970-01-01T12:44:50\",\"1970-01-01T15:39:18\",\"1970-01-01T15:39:18\",\"1970-01-01T16:12:38\",\"1970-01-01T16:12:38\",\"1970-01-01T16:12:38\",\"1970-01-01T19:07:06\",\"1970-01-01T19:07:06\",\"1970-01-01T19:40:26\",\"1970-01-01T19:40:26\",\"1970-01-01T19:40:26\",\"1970-01-01T22:34:54\",\"1970-01-01T22:34:54\",\"1970-01-01T23:08:14\",\"1970-01-01T23:08:14\",\"1970-01-01T23:08:14\",\"1970-01-02T02:02:42\",\"1970-01-02T02:02:42\",\"1970-01-02T02:36:02\",\"1970-01-02T02:36:02\",\"1970-01-02T02:36:02\"],\"y\":[\"loading:barge_0\",\"loading:barge_0\",\"loading:barge_0\",\"loading:barge_0\",null,\"loading:barge_0\",\"loading:barge_0\",\"loading:barge_0\",\"loading:barge_0\",null,\"loading:barge_0\",\"loading:barge_0\",\"loading:barge_0\",\"loading:barge_0\",null,\"loading:barge_0\",\"loading:barge_0\",\"loading:barge_0\",\"loading:barge_0\",null,\"loading:barge_0\",\"loading:barge_0\",\"loading:barge_0\",\"loading:barge_0\",null,\"loading:barge_0\",\"loading:barge_0\",\"loading:barge_0\",\"loading:barge_0\",null,\"loading:barge_0\",\"loading:barge_0\",\"loading:barge_0\",\"loading:barge_0\",null,\"loading:barge_0\",\"loading:barge_0\",\"loading:barge_0\",\"loading:barge_0\",null,\"loading:barge_0\",\"loading:barge_0\",\"loading:barge_0\",\"loading:barge_0\",null,\"loading:barge_0\",\"loading:barge_0\",\"loading:barge_0\",\"loading:barge_0\",null,\"loading:barge_0\",\"loading:barge_0\",\"loading:barge_0\",\"loading:barge_0\",null,\"loading:barge_0\",\"loading:barge_0\",\"loading:barge_0\",\"loading:barge_0\",null,\"loading:barge_0\",\"loading:barge_0\",\"loading:barge_0\",\"loading:barge_0\",null,\"loading:barge_0\",\"loading:barge_0\",\"loading:barge_0\",\"loading:barge_0\",null,\"loading:barge_0\",\"loading:barge_0\",\"loading:barge_0\",\"loading:barge_0\",null,\"loading:barge_0\",\"loading:barge_0\",\"loading:barge_0\",\"loading:barge_0\",null],\"type\":\"scatter\"},{\"connectgaps\":false,\"hoverinfo\":\"y+name\",\"line\":{\"color\":\"rgb(170,9,37)\",\"width\":10},\"mode\":\"lines\",\"name\":\"loading:barge_0\",\"x\":[\"1970-01-01T01:48:06\",\"1970-01-01T01:48:06\",\"1970-01-01T02:21:26\",\"1970-01-01T02:21:26\",\"1970-01-01T02:21:26\",\"1970-01-01T05:15:54\",\"1970-01-01T05:15:54\",\"1970-01-01T05:49:14\",\"1970-01-01T05:49:14\",\"1970-01-01T05:49:14\",\"1970-01-01T08:43:42\",\"1970-01-01T08:43:42\",\"1970-01-01T09:17:02\",\"1970-01-01T09:17:02\",\"1970-01-01T09:17:02\",\"1970-01-01T12:11:30\",\"1970-01-01T12:11:30\",\"1970-01-01T12:44:50\",\"1970-01-01T12:44:50\",\"1970-01-01T12:44:50\",\"1970-01-01T15:39:18\",\"1970-01-01T15:39:18\",\"1970-01-01T16:12:38\",\"1970-01-01T16:12:38\",\"1970-01-01T16:12:38\",\"1970-01-01T19:07:06\",\"1970-01-01T19:07:06\",\"1970-01-01T19:40:26\",\"1970-01-01T19:40:26\",\"1970-01-01T19:40:26\",\"1970-01-01T22:34:54\",\"1970-01-01T22:34:54\",\"1970-01-01T23:08:14\",\"1970-01-01T23:08:14\",\"1970-01-01T23:08:14\",\"1970-01-02T02:02:42\",\"1970-01-02T02:02:42\",\"1970-01-02T02:36:02\",\"1970-01-02T02:36:02\",\"1970-01-02T02:36:02\",\"1970-01-01T01:48:06\",\"1970-01-01T01:48:06\",\"1970-01-01T02:21:26\",\"1970-01-01T02:21:26\",\"1970-01-01T02:21:26\",\"1970-01-01T05:15:54\",\"1970-01-01T05:15:54\",\"1970-01-01T05:49:14\",\"1970-01-01T05:49:14\",\"1970-01-01T05:49:14\",\"1970-01-01T08:43:42\",\"1970-01-01T08:43:42\",\"1970-01-01T09:17:02\",\"1970-01-01T09:17:02\",\"1970-01-01T09:17:02\",\"1970-01-01T12:11:30\",\"1970-01-01T12:11:30\",\"1970-01-01T12:44:50\",\"1970-01-01T12:44:50\",\"1970-01-01T12:44:50\",\"1970-01-01T15:39:18\",\"1970-01-01T15:39:18\",\"1970-01-01T16:12:38\",\"1970-01-01T16:12:38\",\"1970-01-01T16:12:38\",\"1970-01-01T19:07:06\",\"1970-01-01T19:07:06\",\"1970-01-01T19:40:26\",\"1970-01-01T19:40:26\",\"1970-01-01T19:40:26\",\"1970-01-01T22:34:54\",\"1970-01-01T22:34:54\",\"1970-01-01T23:08:14\",\"1970-01-01T23:08:14\",\"1970-01-01T23:08:14\",\"1970-01-02T02:02:42\",\"1970-01-02T02:02:42\",\"1970-01-02T02:36:02\",\"1970-01-02T02:36:02\",\"1970-01-02T02:36:02\"],\"y\":[\"loading:barge_0\",\"loading:barge_0\",\"loading:barge_0\",\"loading:barge_0\",null,\"loading:barge_0\",\"loading:barge_0\",\"loading:barge_0\",\"loading:barge_0\",null,\"loading:barge_0\",\"loading:barge_0\",\"loading:barge_0\",\"loading:barge_0\",null,\"loading:barge_0\",\"loading:barge_0\",\"loading:barge_0\",\"loading:barge_0\",null,\"loading:barge_0\",\"loading:barge_0\",\"loading:barge_0\",\"loading:barge_0\",null,\"loading:barge_0\",\"loading:barge_0\",\"loading:barge_0\",\"loading:barge_0\",null,\"loading:barge_0\",\"loading:barge_0\",\"loading:barge_0\",\"loading:barge_0\",null,\"loading:barge_0\",\"loading:barge_0\",\"loading:barge_0\",\"loading:barge_0\",null,\"loading:barge_0\",\"loading:barge_0\",\"loading:barge_0\",\"loading:barge_0\",null,\"loading:barge_0\",\"loading:barge_0\",\"loading:barge_0\",\"loading:barge_0\",null,\"loading:barge_0\",\"loading:barge_0\",\"loading:barge_0\",\"loading:barge_0\",null,\"loading:barge_0\",\"loading:barge_0\",\"loading:barge_0\",\"loading:barge_0\",null,\"loading:barge_0\",\"loading:barge_0\",\"loading:barge_0\",\"loading:barge_0\",null,\"loading:barge_0\",\"loading:barge_0\",\"loading:barge_0\",\"loading:barge_0\",null,\"loading:barge_0\",\"loading:barge_0\",\"loading:barge_0\",\"loading:barge_0\",null,\"loading:barge_0\",\"loading:barge_0\",\"loading:barge_0\",\"loading:barge_0\",null],\"type\":\"scatter\"},{\"connectgaps\":false,\"hoverinfo\":\"y+name\",\"line\":{\"color\":\"rgb(212,51,79)\",\"width\":10},\"mode\":\"lines\",\"name\":\"loading:barge_1\",\"x\":[\"1970-01-01T01:14:46\",\"1970-01-01T01:14:46\",\"1970-01-01T01:48:06\",\"1970-01-01T01:48:06\",\"1970-01-01T01:48:06\",\"1970-01-01T04:17:38\",\"1970-01-01T04:17:38\",\"1970-01-01T04:50:58\",\"1970-01-01T04:50:58\",\"1970-01-01T04:50:58\",\"1970-01-01T07:20:30\",\"1970-01-01T07:20:30\",\"1970-01-01T07:53:50\",\"1970-01-01T07:53:50\",\"1970-01-01T07:53:50\",\"1970-01-01T10:23:22\",\"1970-01-01T10:23:22\",\"1970-01-01T10:56:42\",\"1970-01-01T10:56:42\",\"1970-01-01T10:56:42\",\"1970-01-01T13:26:14\",\"1970-01-01T13:26:14\",\"1970-01-01T13:59:34\",\"1970-01-01T13:59:34\",\"1970-01-01T13:59:34\",\"1970-01-01T16:29:06\",\"1970-01-01T16:29:06\",\"1970-01-01T17:02:26\",\"1970-01-01T17:02:26\",\"1970-01-01T17:02:26\",\"1970-01-01T19:40:26\",\"1970-01-01T19:40:26\",\"1970-01-01T20:13:46\",\"1970-01-01T20:13:46\",\"1970-01-01T20:13:46\",\"1970-01-01T23:08:14\",\"1970-01-01T23:08:14\",\"1970-01-01T23:41:34\",\"1970-01-01T23:41:34\",\"1970-01-01T23:41:34\",\"1970-01-02T02:36:02\",\"1970-01-02T02:36:02\",\"1970-01-02T03:09:22\",\"1970-01-02T03:09:22\",\"1970-01-02T03:09:22\",\"1970-01-01T01:14:46\",\"1970-01-01T01:14:46\",\"1970-01-01T01:48:06\",\"1970-01-01T01:48:06\",\"1970-01-01T01:48:06\",\"1970-01-01T04:17:38\",\"1970-01-01T04:17:38\",\"1970-01-01T04:50:58\",\"1970-01-01T04:50:58\",\"1970-01-01T04:50:58\",\"1970-01-01T07:20:30\",\"1970-01-01T07:20:30\",\"1970-01-01T07:53:50\",\"1970-01-01T07:53:50\",\"1970-01-01T07:53:50\",\"1970-01-01T10:23:22\",\"1970-01-01T10:23:22\",\"1970-01-01T10:56:42\",\"1970-01-01T10:56:42\",\"1970-01-01T10:56:42\",\"1970-01-01T13:26:14\",\"1970-01-01T13:26:14\",\"1970-01-01T13:59:34\",\"1970-01-01T13:59:34\",\"1970-01-01T13:59:34\",\"1970-01-01T16:29:06\",\"1970-01-01T16:29:06\",\"1970-01-01T17:02:26\",\"1970-01-01T17:02:26\",\"1970-01-01T17:02:26\",\"1970-01-01T19:40:26\",\"1970-01-01T19:40:26\",\"1970-01-01T20:13:46\",\"1970-01-01T20:13:46\",\"1970-01-01T20:13:46\",\"1970-01-01T23:08:14\",\"1970-01-01T23:08:14\",\"1970-01-01T23:41:34\",\"1970-01-01T23:41:34\",\"1970-01-01T23:41:34\",\"1970-01-02T02:36:02\",\"1970-01-02T02:36:02\",\"1970-01-02T03:09:22\",\"1970-01-02T03:09:22\",\"1970-01-02T03:09:22\"],\"y\":[\"loading:barge_1\",\"loading:barge_1\",\"loading:barge_1\",\"loading:barge_1\",null,\"loading:barge_1\",\"loading:barge_1\",\"loading:barge_1\",\"loading:barge_1\",null,\"loading:barge_1\",\"loading:barge_1\",\"loading:barge_1\",\"loading:barge_1\",null,\"loading:barge_1\",\"loading:barge_1\",\"loading:barge_1\",\"loading:barge_1\",null,\"loading:barge_1\",\"loading:barge_1\",\"loading:barge_1\",\"loading:barge_1\",null,\"loading:barge_1\",\"loading:barge_1\",\"loading:barge_1\",\"loading:barge_1\",null,\"loading:barge_1\",\"loading:barge_1\",\"loading:barge_1\",\"loading:barge_1\",null,\"loading:barge_1\",\"loading:barge_1\",\"loading:barge_1\",\"loading:barge_1\",null,\"loading:barge_1\",\"loading:barge_1\",\"loading:barge_1\",\"loading:barge_1\",null,\"loading:barge_1\",\"loading:barge_1\",\"loading:barge_1\",\"loading:barge_1\",null,\"loading:barge_1\",\"loading:barge_1\",\"loading:barge_1\",\"loading:barge_1\",null,\"loading:barge_1\",\"loading:barge_1\",\"loading:barge_1\",\"loading:barge_1\",null,\"loading:barge_1\",\"loading:barge_1\",\"loading:barge_1\",\"loading:barge_1\",null,\"loading:barge_1\",\"loading:barge_1\",\"loading:barge_1\",\"loading:barge_1\",null,\"loading:barge_1\",\"loading:barge_1\",\"loading:barge_1\",\"loading:barge_1\",null,\"loading:barge_1\",\"loading:barge_1\",\"loading:barge_1\",\"loading:barge_1\",null,\"loading:barge_1\",\"loading:barge_1\",\"loading:barge_1\",\"loading:barge_1\",null,\"loading:barge_1\",\"loading:barge_1\",\"loading:barge_1\",\"loading:barge_1\",null],\"type\":\"scatter\"},{\"connectgaps\":false,\"hoverinfo\":\"y+name\",\"line\":{\"color\":\"rgb(254,93,121)\",\"width\":10},\"mode\":\"lines\",\"name\":\"loading:barge_1\",\"x\":[\"1970-01-01T01:14:46\",\"1970-01-01T01:14:46\",\"1970-01-01T01:48:06\",\"1970-01-01T01:48:06\",\"1970-01-01T01:48:06\",\"1970-01-01T04:17:38\",\"1970-01-01T04:17:38\",\"1970-01-01T04:50:58\",\"1970-01-01T04:50:58\",\"1970-01-01T04:50:58\",\"1970-01-01T07:20:30\",\"1970-01-01T07:20:30\",\"1970-01-01T07:53:50\",\"1970-01-01T07:53:50\",\"1970-01-01T07:53:50\",\"1970-01-01T10:23:22\",\"1970-01-01T10:23:22\",\"1970-01-01T10:56:42\",\"1970-01-01T10:56:42\",\"1970-01-01T10:56:42\",\"1970-01-01T13:26:14\",\"1970-01-01T13:26:14\",\"1970-01-01T13:59:34\",\"1970-01-01T13:59:34\",\"1970-01-01T13:59:34\",\"1970-01-01T16:29:06\",\"1970-01-01T16:29:06\",\"1970-01-01T17:02:26\",\"1970-01-01T17:02:26\",\"1970-01-01T17:02:26\",\"1970-01-01T19:40:26\",\"1970-01-01T19:40:26\",\"1970-01-01T20:13:46\",\"1970-01-01T20:13:46\",\"1970-01-01T20:13:46\",\"1970-01-01T23:08:14\",\"1970-01-01T23:08:14\",\"1970-01-01T23:41:34\",\"1970-01-01T23:41:34\",\"1970-01-01T23:41:34\",\"1970-01-02T02:36:02\",\"1970-01-02T02:36:02\",\"1970-01-02T03:09:22\",\"1970-01-02T03:09:22\",\"1970-01-02T03:09:22\",\"1970-01-01T01:14:46\",\"1970-01-01T01:14:46\",\"1970-01-01T01:48:06\",\"1970-01-01T01:48:06\",\"1970-01-01T01:48:06\",\"1970-01-01T04:17:38\",\"1970-01-01T04:17:38\",\"1970-01-01T04:50:58\",\"1970-01-01T04:50:58\",\"1970-01-01T04:50:58\",\"1970-01-01T07:20:30\",\"1970-01-01T07:20:30\",\"1970-01-01T07:53:50\",\"1970-01-01T07:53:50\",\"1970-01-01T07:53:50\",\"1970-01-01T10:23:22\",\"1970-01-01T10:23:22\",\"1970-01-01T10:56:42\",\"1970-01-01T10:56:42\",\"1970-01-01T10:56:42\",\"1970-01-01T13:26:14\",\"1970-01-01T13:26:14\",\"1970-01-01T13:59:34\",\"1970-01-01T13:59:34\",\"1970-01-01T13:59:34\",\"1970-01-01T16:29:06\",\"1970-01-01T16:29:06\",\"1970-01-01T17:02:26\",\"1970-01-01T17:02:26\",\"1970-01-01T17:02:26\",\"1970-01-01T19:40:26\",\"1970-01-01T19:40:26\",\"1970-01-01T20:13:46\",\"1970-01-01T20:13:46\",\"1970-01-01T20:13:46\",\"1970-01-01T23:08:14\",\"1970-01-01T23:08:14\",\"1970-01-01T23:41:34\",\"1970-01-01T23:41:34\",\"1970-01-01T23:41:34\",\"1970-01-02T02:36:02\",\"1970-01-02T02:36:02\",\"1970-01-02T03:09:22\",\"1970-01-02T03:09:22\",\"1970-01-02T03:09:22\"],\"y\":[\"loading:barge_1\",\"loading:barge_1\",\"loading:barge_1\",\"loading:barge_1\",null,\"loading:barge_1\",\"loading:barge_1\",\"loading:barge_1\",\"loading:barge_1\",null,\"loading:barge_1\",\"loading:barge_1\",\"loading:barge_1\",\"loading:barge_1\",null,\"loading:barge_1\",\"loading:barge_1\",\"loading:barge_1\",\"loading:barge_1\",null,\"loading:barge_1\",\"loading:barge_1\",\"loading:barge_1\",\"loading:barge_1\",null,\"loading:barge_1\",\"loading:barge_1\",\"loading:barge_1\",\"loading:barge_1\",null,\"loading:barge_1\",\"loading:barge_1\",\"loading:barge_1\",\"loading:barge_1\",null,\"loading:barge_1\",\"loading:barge_1\",\"loading:barge_1\",\"loading:barge_1\",null,\"loading:barge_1\",\"loading:barge_1\",\"loading:barge_1\",\"loading:barge_1\",null,\"loading:barge_1\",\"loading:barge_1\",\"loading:barge_1\",\"loading:barge_1\",null,\"loading:barge_1\",\"loading:barge_1\",\"loading:barge_1\",\"loading:barge_1\",null,\"loading:barge_1\",\"loading:barge_1\",\"loading:barge_1\",\"loading:barge_1\",null,\"loading:barge_1\",\"loading:barge_1\",\"loading:barge_1\",\"loading:barge_1\",null,\"loading:barge_1\",\"loading:barge_1\",\"loading:barge_1\",\"loading:barge_1\",null,\"loading:barge_1\",\"loading:barge_1\",\"loading:barge_1\",\"loading:barge_1\",null,\"loading:barge_1\",\"loading:barge_1\",\"loading:barge_1\",\"loading:barge_1\",null,\"loading:barge_1\",\"loading:barge_1\",\"loading:barge_1\",\"loading:barge_1\",null,\"loading:barge_1\",\"loading:barge_1\",\"loading:barge_1\",\"loading:barge_1\",null],\"type\":\"scatter\"},{\"connectgaps\":false,\"hoverinfo\":\"y+name\",\"line\":{\"color\":\"rgb(40,135,163)\",\"width\":10},\"mode\":\"lines\",\"name\":\"loading:barge_2\",\"x\":[\"1970-01-01T02:21:26\",\"1970-01-01T02:21:26\",\"1970-01-01T02:54:46\",\"1970-01-01T02:54:46\",\"1970-01-01T02:54:46\",\"1970-01-01T06:04:10\",\"1970-01-01T06:04:10\",\"1970-01-01T06:37:30\",\"1970-01-01T06:37:30\",\"1970-01-01T06:37:30\",\"1970-01-01T09:46:54\",\"1970-01-01T09:46:54\",\"1970-01-01T10:20:14\",\"1970-01-01T10:20:14\",\"1970-01-01T10:20:14\",\"1970-01-01T13:59:34\",\"1970-01-01T13:59:34\",\"1970-01-01T14:32:54\",\"1970-01-01T14:32:54\",\"1970-01-01T14:32:54\",\"1970-01-01T17:42:18\",\"1970-01-01T17:42:18\",\"1970-01-01T18:15:38\",\"1970-01-01T18:15:38\",\"1970-01-01T18:15:38\",\"1970-01-01T21:25:02\",\"1970-01-01T21:25:02\",\"1970-01-01T21:58:22\",\"1970-01-01T21:58:22\",\"1970-01-01T21:58:22\",\"1970-01-02T01:07:46\",\"1970-01-02T01:07:46\",\"1970-01-02T01:41:06\",\"1970-01-02T01:41:06\",\"1970-01-02T01:41:06\",\"1970-01-02T04:50:30\",\"1970-01-02T04:50:30\",\"1970-01-02T05:23:50\",\"1970-01-02T05:23:50\",\"1970-01-02T05:23:50\",\"1970-01-01T02:21:26\",\"1970-01-01T02:21:26\",\"1970-01-01T02:54:46\",\"1970-01-01T02:54:46\",\"1970-01-01T02:54:46\",\"1970-01-01T06:04:10\",\"1970-01-01T06:04:10\",\"1970-01-01T06:37:30\",\"1970-01-01T06:37:30\",\"1970-01-01T06:37:30\",\"1970-01-01T09:46:54\",\"1970-01-01T09:46:54\",\"1970-01-01T10:20:14\",\"1970-01-01T10:20:14\",\"1970-01-01T10:20:14\",\"1970-01-01T13:59:34\",\"1970-01-01T13:59:34\",\"1970-01-01T14:32:54\",\"1970-01-01T14:32:54\",\"1970-01-01T14:32:54\",\"1970-01-01T17:42:18\",\"1970-01-01T17:42:18\",\"1970-01-01T18:15:38\",\"1970-01-01T18:15:38\",\"1970-01-01T18:15:38\",\"1970-01-01T21:25:02\",\"1970-01-01T21:25:02\",\"1970-01-01T21:58:22\",\"1970-01-01T21:58:22\",\"1970-01-01T21:58:22\",\"1970-01-02T01:07:46\",\"1970-01-02T01:07:46\",\"1970-01-02T01:41:06\",\"1970-01-02T01:41:06\",\"1970-01-02T01:41:06\",\"1970-01-02T04:50:30\",\"1970-01-02T04:50:30\",\"1970-01-02T05:23:50\",\"1970-01-02T05:23:50\",\"1970-01-02T05:23:50\"],\"y\":[\"loading:barge_2\",\"loading:barge_2\",\"loading:barge_2\",\"loading:barge_2\",null,\"loading:barge_2\",\"loading:barge_2\",\"loading:barge_2\",\"loading:barge_2\",null,\"loading:barge_2\",\"loading:barge_2\",\"loading:barge_2\",\"loading:barge_2\",null,\"loading:barge_2\",\"loading:barge_2\",\"loading:barge_2\",\"loading:barge_2\",null,\"loading:barge_2\",\"loading:barge_2\",\"loading:barge_2\",\"loading:barge_2\",null,\"loading:barge_2\",\"loading:barge_2\",\"loading:barge_2\",\"loading:barge_2\",null,\"loading:barge_2\",\"loading:barge_2\",\"loading:barge_2\",\"loading:barge_2\",null,\"loading:barge_2\",\"loading:barge_2\",\"loading:barge_2\",\"loading:barge_2\",null,\"loading:barge_2\",\"loading:barge_2\",\"loading:barge_2\",\"loading:barge_2\",null,\"loading:barge_2\",\"loading:barge_2\",\"loading:barge_2\",\"loading:barge_2\",null,\"loading:barge_2\",\"loading:barge_2\",\"loading:barge_2\",\"loading:barge_2\",null,\"loading:barge_2\",\"loading:barge_2\",\"loading:barge_2\",\"loading:barge_2\",null,\"loading:barge_2\",\"loading:barge_2\",\"loading:barge_2\",\"loading:barge_2\",null,\"loading:barge_2\",\"loading:barge_2\",\"loading:barge_2\",\"loading:barge_2\",null,\"loading:barge_2\",\"loading:barge_2\",\"loading:barge_2\",\"loading:barge_2\",null,\"loading:barge_2\",\"loading:barge_2\",\"loading:barge_2\",\"loading:barge_2\",null],\"type\":\"scatter\"},{\"connectgaps\":false,\"hoverinfo\":\"y+name\",\"line\":{\"color\":\"rgb(82,177,205)\",\"width\":10},\"mode\":\"lines\",\"name\":\"loading:barge_2\",\"x\":[\"1970-01-01T02:21:26\",\"1970-01-01T02:21:26\",\"1970-01-01T02:54:46\",\"1970-01-01T02:54:46\",\"1970-01-01T02:54:46\",\"1970-01-01T06:04:10\",\"1970-01-01T06:04:10\",\"1970-01-01T06:37:30\",\"1970-01-01T06:37:30\",\"1970-01-01T06:37:30\",\"1970-01-01T09:46:54\",\"1970-01-01T09:46:54\",\"1970-01-01T10:20:14\",\"1970-01-01T10:20:14\",\"1970-01-01T10:20:14\",\"1970-01-01T13:59:34\",\"1970-01-01T13:59:34\",\"1970-01-01T14:32:54\",\"1970-01-01T14:32:54\",\"1970-01-01T14:32:54\",\"1970-01-01T17:42:18\",\"1970-01-01T17:42:18\",\"1970-01-01T18:15:38\",\"1970-01-01T18:15:38\",\"1970-01-01T18:15:38\",\"1970-01-01T21:25:02\",\"1970-01-01T21:25:02\",\"1970-01-01T21:58:22\",\"1970-01-01T21:58:22\",\"1970-01-01T21:58:22\",\"1970-01-02T01:07:46\",\"1970-01-02T01:07:46\",\"1970-01-02T01:41:06\",\"1970-01-02T01:41:06\",\"1970-01-02T01:41:06\",\"1970-01-02T04:50:30\",\"1970-01-02T04:50:30\",\"1970-01-02T05:23:50\",\"1970-01-02T05:23:50\",\"1970-01-02T05:23:50\",\"1970-01-01T02:21:26\",\"1970-01-01T02:21:26\",\"1970-01-01T02:54:46\",\"1970-01-01T02:54:46\",\"1970-01-01T02:54:46\",\"1970-01-01T06:04:10\",\"1970-01-01T06:04:10\",\"1970-01-01T06:37:30\",\"1970-01-01T06:37:30\",\"1970-01-01T06:37:30\",\"1970-01-01T09:46:54\",\"1970-01-01T09:46:54\",\"1970-01-01T10:20:14\",\"1970-01-01T10:20:14\",\"1970-01-01T10:20:14\",\"1970-01-01T13:59:34\",\"1970-01-01T13:59:34\",\"1970-01-01T14:32:54\",\"1970-01-01T14:32:54\",\"1970-01-01T14:32:54\",\"1970-01-01T17:42:18\",\"1970-01-01T17:42:18\",\"1970-01-01T18:15:38\",\"1970-01-01T18:15:38\",\"1970-01-01T18:15:38\",\"1970-01-01T21:25:02\",\"1970-01-01T21:25:02\",\"1970-01-01T21:58:22\",\"1970-01-01T21:58:22\",\"1970-01-01T21:58:22\",\"1970-01-02T01:07:46\",\"1970-01-02T01:07:46\",\"1970-01-02T01:41:06\",\"1970-01-02T01:41:06\",\"1970-01-02T01:41:06\",\"1970-01-02T04:50:30\",\"1970-01-02T04:50:30\",\"1970-01-02T05:23:50\",\"1970-01-02T05:23:50\",\"1970-01-02T05:23:50\"],\"y\":[\"loading:barge_2\",\"loading:barge_2\",\"loading:barge_2\",\"loading:barge_2\",null,\"loading:barge_2\",\"loading:barge_2\",\"loading:barge_2\",\"loading:barge_2\",null,\"loading:barge_2\",\"loading:barge_2\",\"loading:barge_2\",\"loading:barge_2\",null,\"loading:barge_2\",\"loading:barge_2\",\"loading:barge_2\",\"loading:barge_2\",null,\"loading:barge_2\",\"loading:barge_2\",\"loading:barge_2\",\"loading:barge_2\",null,\"loading:barge_2\",\"loading:barge_2\",\"loading:barge_2\",\"loading:barge_2\",null,\"loading:barge_2\",\"loading:barge_2\",\"loading:barge_2\",\"loading:barge_2\",null,\"loading:barge_2\",\"loading:barge_2\",\"loading:barge_2\",\"loading:barge_2\",null,\"loading:barge_2\",\"loading:barge_2\",\"loading:barge_2\",\"loading:barge_2\",null,\"loading:barge_2\",\"loading:barge_2\",\"loading:barge_2\",\"loading:barge_2\",null,\"loading:barge_2\",\"loading:barge_2\",\"loading:barge_2\",\"loading:barge_2\",null,\"loading:barge_2\",\"loading:barge_2\",\"loading:barge_2\",\"loading:barge_2\",null,\"loading:barge_2\",\"loading:barge_2\",\"loading:barge_2\",\"loading:barge_2\",null,\"loading:barge_2\",\"loading:barge_2\",\"loading:barge_2\",\"loading:barge_2\",null,\"loading:barge_2\",\"loading:barge_2\",\"loading:barge_2\",\"loading:barge_2\",null,\"loading:barge_2\",\"loading:barge_2\",\"loading:barge_2\",\"loading:barge_2\",null],\"type\":\"scatter\"}],                        {\"hovermode\":\"closest\",\"legend\":{\"orientation\":\"h\",\"x\":0,\"y\":-0.2},\"template\":{\"data\":{\"barpolar\":[{\"marker\":{\"line\":{\"color\":\"#E5ECF6\",\"width\":0.5},\"pattern\":{\"fillmode\":\"overlay\",\"size\":10,\"solidity\":0.2}},\"type\":\"barpolar\"}],\"bar\":[{\"error_x\":{\"color\":\"#2a3f5f\"},\"error_y\":{\"color\":\"#2a3f5f\"},\"marker\":{\"line\":{\"color\":\"#E5ECF6\",\"width\":0.5},\"pattern\":{\"fillmode\":\"overlay\",\"size\":10,\"solidity\":0.2}},\"type\":\"bar\"}],\"carpet\":[{\"aaxis\":{\"endlinecolor\":\"#2a3f5f\",\"gridcolor\":\"white\",\"linecolor\":\"white\",\"minorgridcolor\":\"white\",\"startlinecolor\":\"#2a3f5f\"},\"baxis\":{\"endlinecolor\":\"#2a3f5f\",\"gridcolor\":\"white\",\"linecolor\":\"white\",\"minorgridcolor\":\"white\",\"startlinecolor\":\"#2a3f5f\"},\"type\":\"carpet\"}],\"choropleth\":[{\"colorbar\":{\"outlinewidth\":0,\"ticks\":\"\"},\"type\":\"choropleth\"}],\"contourcarpet\":[{\"colorbar\":{\"outlinewidth\":0,\"ticks\":\"\"},\"type\":\"contourcarpet\"}],\"contour\":[{\"colorbar\":{\"outlinewidth\":0,\"ticks\":\"\"},\"colorscale\":[[0.0,\"#0d0887\"],[0.1111111111111111,\"#46039f\"],[0.2222222222222222,\"#7201a8\"],[0.3333333333333333,\"#9c179e\"],[0.4444444444444444,\"#bd3786\"],[0.5555555555555556,\"#d8576b\"],[0.6666666666666666,\"#ed7953\"],[0.7777777777777778,\"#fb9f3a\"],[0.8888888888888888,\"#fdca26\"],[1.0,\"#f0f921\"]],\"type\":\"contour\"}],\"heatmapgl\":[{\"colorbar\":{\"outlinewidth\":0,\"ticks\":\"\"},\"colorscale\":[[0.0,\"#0d0887\"],[0.1111111111111111,\"#46039f\"],[0.2222222222222222,\"#7201a8\"],[0.3333333333333333,\"#9c179e\"],[0.4444444444444444,\"#bd3786\"],[0.5555555555555556,\"#d8576b\"],[0.6666666666666666,\"#ed7953\"],[0.7777777777777778,\"#fb9f3a\"],[0.8888888888888888,\"#fdca26\"],[1.0,\"#f0f921\"]],\"type\":\"heatmapgl\"}],\"heatmap\":[{\"colorbar\":{\"outlinewidth\":0,\"ticks\":\"\"},\"colorscale\":[[0.0,\"#0d0887\"],[0.1111111111111111,\"#46039f\"],[0.2222222222222222,\"#7201a8\"],[0.3333333333333333,\"#9c179e\"],[0.4444444444444444,\"#bd3786\"],[0.5555555555555556,\"#d8576b\"],[0.6666666666666666,\"#ed7953\"],[0.7777777777777778,\"#fb9f3a\"],[0.8888888888888888,\"#fdca26\"],[1.0,\"#f0f921\"]],\"type\":\"heatmap\"}],\"histogram2dcontour\":[{\"colorbar\":{\"outlinewidth\":0,\"ticks\":\"\"},\"colorscale\":[[0.0,\"#0d0887\"],[0.1111111111111111,\"#46039f\"],[0.2222222222222222,\"#7201a8\"],[0.3333333333333333,\"#9c179e\"],[0.4444444444444444,\"#bd3786\"],[0.5555555555555556,\"#d8576b\"],[0.6666666666666666,\"#ed7953\"],[0.7777777777777778,\"#fb9f3a\"],[0.8888888888888888,\"#fdca26\"],[1.0,\"#f0f921\"]],\"type\":\"histogram2dcontour\"}],\"histogram2d\":[{\"colorbar\":{\"outlinewidth\":0,\"ticks\":\"\"},\"colorscale\":[[0.0,\"#0d0887\"],[0.1111111111111111,\"#46039f\"],[0.2222222222222222,\"#7201a8\"],[0.3333333333333333,\"#9c179e\"],[0.4444444444444444,\"#bd3786\"],[0.5555555555555556,\"#d8576b\"],[0.6666666666666666,\"#ed7953\"],[0.7777777777777778,\"#fb9f3a\"],[0.8888888888888888,\"#fdca26\"],[1.0,\"#f0f921\"]],\"type\":\"histogram2d\"}],\"histogram\":[{\"marker\":{\"pattern\":{\"fillmode\":\"overlay\",\"size\":10,\"solidity\":0.2}},\"type\":\"histogram\"}],\"mesh3d\":[{\"colorbar\":{\"outlinewidth\":0,\"ticks\":\"\"},\"type\":\"mesh3d\"}],\"parcoords\":[{\"line\":{\"colorbar\":{\"outlinewidth\":0,\"ticks\":\"\"}},\"type\":\"parcoords\"}],\"pie\":[{\"automargin\":true,\"type\":\"pie\"}],\"scatter3d\":[{\"line\":{\"colorbar\":{\"outlinewidth\":0,\"ticks\":\"\"}},\"marker\":{\"colorbar\":{\"outlinewidth\":0,\"ticks\":\"\"}},\"type\":\"scatter3d\"}],\"scattercarpet\":[{\"marker\":{\"colorbar\":{\"outlinewidth\":0,\"ticks\":\"\"}},\"type\":\"scattercarpet\"}],\"scattergeo\":[{\"marker\":{\"colorbar\":{\"outlinewidth\":0,\"ticks\":\"\"}},\"type\":\"scattergeo\"}],\"scattergl\":[{\"marker\":{\"colorbar\":{\"outlinewidth\":0,\"ticks\":\"\"}},\"type\":\"scattergl\"}],\"scattermapbox\":[{\"marker\":{\"colorbar\":{\"outlinewidth\":0,\"ticks\":\"\"}},\"type\":\"scattermapbox\"}],\"scatterpolargl\":[{\"marker\":{\"colorbar\":{\"outlinewidth\":0,\"ticks\":\"\"}},\"type\":\"scatterpolargl\"}],\"scatterpolar\":[{\"marker\":{\"colorbar\":{\"outlinewidth\":0,\"ticks\":\"\"}},\"type\":\"scatterpolar\"}],\"scatter\":[{\"fillpattern\":{\"fillmode\":\"overlay\",\"size\":10,\"solidity\":0.2},\"type\":\"scatter\"}],\"scatterternary\":[{\"marker\":{\"colorbar\":{\"outlinewidth\":0,\"ticks\":\"\"}},\"type\":\"scatterternary\"}],\"surface\":[{\"colorbar\":{\"outlinewidth\":0,\"ticks\":\"\"},\"colorscale\":[[0.0,\"#0d0887\"],[0.1111111111111111,\"#46039f\"],[0.2222222222222222,\"#7201a8\"],[0.3333333333333333,\"#9c179e\"],[0.4444444444444444,\"#bd3786\"],[0.5555555555555556,\"#d8576b\"],[0.6666666666666666,\"#ed7953\"],[0.7777777777777778,\"#fb9f3a\"],[0.8888888888888888,\"#fdca26\"],[1.0,\"#f0f921\"]],\"type\":\"surface\"}],\"table\":[{\"cells\":{\"fill\":{\"color\":\"#EBF0F8\"},\"line\":{\"color\":\"white\"}},\"header\":{\"fill\":{\"color\":\"#C8D4E3\"},\"line\":{\"color\":\"white\"}},\"type\":\"table\"}]},\"layout\":{\"annotationdefaults\":{\"arrowcolor\":\"#2a3f5f\",\"arrowhead\":0,\"arrowwidth\":1},\"autotypenumbers\":\"strict\",\"coloraxis\":{\"colorbar\":{\"outlinewidth\":0,\"ticks\":\"\"}},\"colorscale\":{\"diverging\":[[0,\"#8e0152\"],[0.1,\"#c51b7d\"],[0.2,\"#de77ae\"],[0.3,\"#f1b6da\"],[0.4,\"#fde0ef\"],[0.5,\"#f7f7f7\"],[0.6,\"#e6f5d0\"],[0.7,\"#b8e186\"],[0.8,\"#7fbc41\"],[0.9,\"#4d9221\"],[1,\"#276419\"]],\"sequential\":[[0.0,\"#0d0887\"],[0.1111111111111111,\"#46039f\"],[0.2222222222222222,\"#7201a8\"],[0.3333333333333333,\"#9c179e\"],[0.4444444444444444,\"#bd3786\"],[0.5555555555555556,\"#d8576b\"],[0.6666666666666666,\"#ed7953\"],[0.7777777777777778,\"#fb9f3a\"],[0.8888888888888888,\"#fdca26\"],[1.0,\"#f0f921\"]],\"sequentialminus\":[[0.0,\"#0d0887\"],[0.1111111111111111,\"#46039f\"],[0.2222222222222222,\"#7201a8\"],[0.3333333333333333,\"#9c179e\"],[0.4444444444444444,\"#bd3786\"],[0.5555555555555556,\"#d8576b\"],[0.6666666666666666,\"#ed7953\"],[0.7777777777777778,\"#fb9f3a\"],[0.8888888888888888,\"#fdca26\"],[1.0,\"#f0f921\"]]},\"colorway\":[\"#636efa\",\"#EF553B\",\"#00cc96\",\"#ab63fa\",\"#FFA15A\",\"#19d3f3\",\"#FF6692\",\"#B6E880\",\"#FF97FF\",\"#FECB52\"],\"font\":{\"color\":\"#2a3f5f\"},\"geo\":{\"bgcolor\":\"white\",\"lakecolor\":\"white\",\"landcolor\":\"#E5ECF6\",\"showlakes\":true,\"showland\":true,\"subunitcolor\":\"white\"},\"hoverlabel\":{\"align\":\"left\"},\"hovermode\":\"closest\",\"mapbox\":{\"style\":\"light\"},\"paper_bgcolor\":\"white\",\"plot_bgcolor\":\"#E5ECF6\",\"polar\":{\"angularaxis\":{\"gridcolor\":\"white\",\"linecolor\":\"white\",\"ticks\":\"\"},\"bgcolor\":\"#E5ECF6\",\"radialaxis\":{\"gridcolor\":\"white\",\"linecolor\":\"white\",\"ticks\":\"\"}},\"scene\":{\"xaxis\":{\"backgroundcolor\":\"#E5ECF6\",\"gridcolor\":\"white\",\"gridwidth\":2,\"linecolor\":\"white\",\"showbackground\":true,\"ticks\":\"\",\"zerolinecolor\":\"white\"},\"yaxis\":{\"backgroundcolor\":\"#E5ECF6\",\"gridcolor\":\"white\",\"gridwidth\":2,\"linecolor\":\"white\",\"showbackground\":true,\"ticks\":\"\",\"zerolinecolor\":\"white\"},\"zaxis\":{\"backgroundcolor\":\"#E5ECF6\",\"gridcolor\":\"white\",\"gridwidth\":2,\"linecolor\":\"white\",\"showbackground\":true,\"ticks\":\"\",\"zerolinecolor\":\"white\"}},\"shapedefaults\":{\"line\":{\"color\":\"#2a3f5f\"}},\"ternary\":{\"aaxis\":{\"gridcolor\":\"white\",\"linecolor\":\"white\",\"ticks\":\"\"},\"baxis\":{\"gridcolor\":\"white\",\"linecolor\":\"white\",\"ticks\":\"\"},\"bgcolor\":\"#E5ECF6\",\"caxis\":{\"gridcolor\":\"white\",\"linecolor\":\"white\",\"ticks\":\"\"}},\"title\":{\"x\":0.05},\"xaxis\":{\"automargin\":true,\"gridcolor\":\"white\",\"linecolor\":\"white\",\"ticks\":\"\",\"title\":{\"standoff\":15},\"zerolinecolor\":\"white\",\"zerolinewidth\":2},\"yaxis\":{\"automargin\":true,\"gridcolor\":\"white\",\"linecolor\":\"white\",\"ticks\":\"\",\"title\":{\"standoff\":15},\"zerolinecolor\":\"white\",\"zerolinewidth\":2}}},\"title\":{\"text\":\"GANTT Chart\"},\"xaxis\":{\"range\":[\"1970-01-01T01:14:46\",\"1970-01-02T05:23:50\"],\"title\":{\"font\":{\"color\":\"#7f7f7f\",\"family\":\"Courier New, monospace\",\"size\":18},\"text\":\"Time\"}},\"yaxis\":{\"title\":{\"font\":{\"color\":\"#7f7f7f\",\"family\":\"Courier New, monospace\",\"size\":18},\"text\":\"Activities\"}}},                        {\"responsive\": true}                    ).then(function(){\n",
       "                            \n",
       "var gd = document.getElementById('1de50c2d-f916-4463-ac0e-ec17ea4b7e5c');\n",
       "var x = new MutationObserver(function (mutations, observer) {{\n",
       "        var display = window.getComputedStyle(gd).display;\n",
       "        if (!display || display === 'none') {{\n",
       "            console.log([gd, 'removed!']);\n",
       "            Plotly.purge(gd);\n",
       "            observer.disconnect();\n",
       "        }}\n",
       "}});\n",
       "\n",
       "// Listen for the removal of the full notebook cells\n",
       "var notebookContainer = gd.closest('#notebook-container');\n",
       "if (notebookContainer) {{\n",
       "    x.observe(notebookContainer, {childList: true});\n",
       "}}\n",
       "\n",
       "// Listen for the clearing of the current output cell\n",
       "var outputEl = gd.closest('.output');\n",
       "if (outputEl) {{\n",
       "    x.observe(outputEl, {childList: true});\n",
       "}}\n",
       "\n",
       "                        })                };                });            </script>        </div>"
      ]
     },
     "metadata": {},
     "output_type": "display_data"
    }
   ],
   "source": [
    "def expand(a, namespace):\n",
    "    n = len(namespace)\n",
    "    sa = []\n",
    "    if a.name[0:n]==namespace:\n",
    "        sa.append(a)\n",
    "    if hasattr(a, \"sub_processes\"):\n",
    "        for s in a.sub_processes:\n",
    "            if s.name[0:n]==namespace:\n",
    "                sa.append(s)\n",
    "            sa+=expand(s,namespace)\n",
    "    return sa\n",
    "all_activities = []\n",
    "for a in [*activities]:\n",
    "    all_activities+=expand(activities[a],'load')\n",
    "all_activities\n",
    "fig = plot.get_gantt_chart(all_activities)"
   ]
  },
  {
   "cell_type": "code",
   "execution_count": 8,
   "id": "ffb89ae7",
   "metadata": {},
   "outputs": [
    {
     "data": {
      "image/png": "[encoded data removed]",
      "text/plain": [
       "<Figure size 1008x504 with 1 Axes>"
      ]
     },
     "metadata": {
      "needs_background": "light"
     },
     "output_type": "display_data"
    }
   ],
   "source": [
    "fig = plot.get_step_chart([from_site, to_site, *vessels.values()])"
   ]
  },
  {
   "cell_type": "code",
   "execution_count": 9,
   "id": "9ab8c6b5",
   "metadata": {},
   "outputs": [
    {
     "data": {
      "text/html": [
       "<div>\n",
       "<style scoped>\n",
       "    .dataframe tbody tr th:only-of-type {\n",
       "        vertical-align: middle;\n",
       "    }\n",
       "\n",
       "    .dataframe tbody tr th {\n",
       "        vertical-align: top;\n",
       "    }\n",
       "\n",
       "    .dataframe thead th {\n",
       "        text-align: right;\n",
       "    }\n",
       "</style>\n",
       "<table border=\"1\" class=\"dataframe\">\n",
       "  <thead>\n",
       "    <tr style=\"text-align: right;\">\n",
       "      <th></th>\n",
       "      <th>name</th>\n",
       "      <th>trips</th>\n",
       "      <th>theoretical production</th>\n",
       "      <th>production</th>\n",
       "    </tr>\n",
       "  </thead>\n",
       "  <tbody>\n",
       "    <tr>\n",
       "      <th>1</th>\n",
       "      <td>barge_1</td>\n",
       "      <td>9</td>\n",
       "      <td>0.000445</td>\n",
       "      <td>0.000352</td>\n",
       "    </tr>\n",
       "    <tr>\n",
       "      <th>0</th>\n",
       "      <td>barge_0</td>\n",
       "      <td>8</td>\n",
       "      <td>0.000381</td>\n",
       "      <td>0.000317</td>\n",
       "    </tr>\n",
       "    <tr>\n",
       "      <th>2</th>\n",
       "      <td>barge_2</td>\n",
       "      <td>8</td>\n",
       "      <td>0.000351</td>\n",
       "      <td>0.000287</td>\n",
       "    </tr>\n",
       "  </tbody>\n",
       "</table>\n",
       "</div>"
      ],
      "text/plain": [
       "      name  trips  theoretical production  production\n",
       "1  barge_1      9                0.000445    0.000352\n",
       "0  barge_0      8                0.000381    0.000317\n",
       "2  barge_2      8                0.000351    0.000287"
      ]
     },
     "execution_count": 9,
     "metadata": {},
     "output_type": "execute_result"
    }
   ],
   "source": [
    "data = []\n",
    "for i in range(len(vessels.values()) - 1):\n",
    "    vessel = vessels[f'vessel{i}']\n",
    "    activity = activities[f'activity{i}']\n",
    "    sub_act = activity.sub_processes[0].sub_processes[-1]\n",
    "    log = pd.DataFrame(vessel.log)\n",
    "    nr_trips = len(log[(log.ActivityID == sub_act.id) & (log.ActivityState == \"START\")])\n",
    "    data.append({\n",
    "        'name':vessel.name, \n",
    "        'trips':nr_trips, \n",
    "        'theoretical production': (sub_act.amount / (4*sub_act.duration+ 5*sub_act.amount)),\n",
    "        'production':(nr_trips * sub_act.amount) / ((log.Timestamp.max() - log.Timestamp.min()).total_seconds()),\n",
    "    })\n",
    "df = pd.DataFrame(data).sort_values(by=['production'],ascending=False)\n",
    "df"
   ]
  },
  {
   "cell_type": "markdown",
   "id": "9b007353",
   "metadata": {},
   "source": [
    "Plot with critical path"
   ]
  },
  {
   "cell_type": "code",
   "execution_count": 10,
   "id": "d759779f",
   "metadata": {},
   "outputs": [
    {
     "name": "stdout",
     "output_type": "stream",
     "text": [
      "-- total elapsed time 0.1490309238433838 seconds\n"
     ]
    },
    {
     "data": {
      "text/html": [
       "<div>\n",
       "<style scoped>\n",
       "    .dataframe tbody tr th:only-of-type {\n",
       "        vertical-align: middle;\n",
       "    }\n",
       "\n",
       "    .dataframe tbody tr th {\n",
       "        vertical-align: top;\n",
       "    }\n",
       "\n",
       "    .dataframe thead th {\n",
       "        text-align: right;\n",
       "    }\n",
       "</style>\n",
       "<table border=\"1\" class=\"dataframe\">\n",
       "  <thead>\n",
       "    <tr style=\"text-align: right;\">\n",
       "      <th></th>\n",
       "      <th>Activity</th>\n",
       "      <th>SourceObject</th>\n",
       "      <th>start_time</th>\n",
       "      <th>state</th>\n",
       "      <th>duration</th>\n",
       "      <th>end_time</th>\n",
       "      <th>cp_activity_id</th>\n",
       "      <th>is_critical</th>\n",
       "    </tr>\n",
       "  </thead>\n",
       "  <tbody>\n",
       "    <tr>\n",
       "      <th>0</th>\n",
       "      <td>basic activity:barge_0</td>\n",
       "      <td>barge_0</td>\n",
       "      <td>1970-01-01 00:00:00</td>\n",
       "      <td>ACTIVE</td>\n",
       "      <td>0 days 00:43:37</td>\n",
       "      <td>1970-01-01 00:43:37</td>\n",
       "      <td>cp_activity_1</td>\n",
       "      <td>False</td>\n",
       "    </tr>\n",
       "    <tr>\n",
       "      <th>1</th>\n",
       "      <td>basic activity:barge_1</td>\n",
       "      <td>barge_1</td>\n",
       "      <td>1970-01-01 00:00:00</td>\n",
       "      <td>ACTIVE</td>\n",
       "      <td>0 days 00:37:23</td>\n",
       "      <td>1970-01-01 00:37:23</td>\n",
       "      <td>cp_activity_9</td>\n",
       "      <td>True</td>\n",
       "    </tr>\n",
       "    <tr>\n",
       "      <th>2</th>\n",
       "      <td>basic activity:barge_2</td>\n",
       "      <td>barge_2</td>\n",
       "      <td>1970-01-01 00:00:00</td>\n",
       "      <td>ACTIVE</td>\n",
       "      <td>0 days 00:47:21</td>\n",
       "      <td>1970-01-01 00:47:21</td>\n",
       "      <td>cp_activity_18</td>\n",
       "      <td>False</td>\n",
       "    </tr>\n",
       "    <tr>\n",
       "      <th>3</th>\n",
       "      <td>sailing empty:barge_1</td>\n",
       "      <td>barge_1</td>\n",
       "      <td>1970-01-01 00:37:23</td>\n",
       "      <td>ACTIVE</td>\n",
       "      <td>0 days 00:37:23</td>\n",
       "      <td>1970-01-01 01:14:46</td>\n",
       "      <td>cp_activity_59</td>\n",
       "      <td>True</td>\n",
       "    </tr>\n",
       "    <tr>\n",
       "      <th>4</th>\n",
       "      <td>sailing empty:barge_0</td>\n",
       "      <td>barge_0</td>\n",
       "      <td>1970-01-01 00:43:37</td>\n",
       "      <td>ACTIVE</td>\n",
       "      <td>0 days 00:43:37</td>\n",
       "      <td>1970-01-01 01:27:14</td>\n",
       "      <td>cp_activity_51</td>\n",
       "      <td>False</td>\n",
       "    </tr>\n",
       "    <tr>\n",
       "      <th>...</th>\n",
       "      <td>...</td>\n",
       "      <td>...</td>\n",
       "      <td>...</td>\n",
       "      <td>...</td>\n",
       "      <td>...</td>\n",
       "      <td>...</td>\n",
       "      <td>...</td>\n",
       "      <td>...</td>\n",
       "    </tr>\n",
       "    <tr>\n",
       "      <th>195</th>\n",
       "      <td>loading:barge_2</td>\n",
       "      <td>cutter</td>\n",
       "      <td>1970-01-02 04:50:30</td>\n",
       "      <td>ACTIVE</td>\n",
       "      <td>0 days 00:33:20</td>\n",
       "      <td>1970-01-02 05:23:50</td>\n",
       "      <td>cp_activity_50</td>\n",
       "      <td>True</td>\n",
       "    </tr>\n",
       "    <tr>\n",
       "      <th>196</th>\n",
       "      <td>loading:barge_2</td>\n",
       "      <td>from_site</td>\n",
       "      <td>1970-01-02 04:50:30</td>\n",
       "      <td>ACTIVE</td>\n",
       "      <td>0 days 00:33:20</td>\n",
       "      <td>1970-01-02 05:23:50</td>\n",
       "      <td>cp_activity_50</td>\n",
       "      <td>True</td>\n",
       "    </tr>\n",
       "    <tr>\n",
       "      <th>197</th>\n",
       "      <td>sailing full:barge_2</td>\n",
       "      <td>barge_2</td>\n",
       "      <td>1970-01-02 05:23:50</td>\n",
       "      <td>ACTIVE</td>\n",
       "      <td>0 days 00:47:21</td>\n",
       "      <td>1970-01-02 06:11:11</td>\n",
       "      <td>cp_activity_100</td>\n",
       "      <td>True</td>\n",
       "    </tr>\n",
       "    <tr>\n",
       "      <th>198</th>\n",
       "      <td>unloading:barge_2</td>\n",
       "      <td>barge_2</td>\n",
       "      <td>1970-01-02 06:11:11</td>\n",
       "      <td>ACTIVE</td>\n",
       "      <td>0 days 00:47:21</td>\n",
       "      <td>1970-01-02 06:58:32</td>\n",
       "      <td>cp_activity_125</td>\n",
       "      <td>True</td>\n",
       "    </tr>\n",
       "    <tr>\n",
       "      <th>199</th>\n",
       "      <td>unloading:barge_2</td>\n",
       "      <td>to_site</td>\n",
       "      <td>1970-01-02 06:11:11</td>\n",
       "      <td>ACTIVE</td>\n",
       "      <td>0 days 00:47:21</td>\n",
       "      <td>1970-01-02 06:58:32</td>\n",
       "      <td>cp_activity_125</td>\n",
       "      <td>True</td>\n",
       "    </tr>\n",
       "  </tbody>\n",
       "</table>\n",
       "<p>200 rows × 8 columns</p>\n",
       "</div>"
      ],
      "text/plain": [
       "                   Activity SourceObject          start_time   state  \\\n",
       "0    basic activity:barge_0      barge_0 1970-01-01 00:00:00  ACTIVE   \n",
       "1    basic activity:barge_1      barge_1 1970-01-01 00:00:00  ACTIVE   \n",
       "2    basic activity:barge_2      barge_2 1970-01-01 00:00:00  ACTIVE   \n",
       "3     sailing empty:barge_1      barge_1 1970-01-01 00:37:23  ACTIVE   \n",
       "4     sailing empty:barge_0      barge_0 1970-01-01 00:43:37  ACTIVE   \n",
       "..                      ...          ...                 ...     ...   \n",
       "195         loading:barge_2       cutter 1970-01-02 04:50:30  ACTIVE   \n",
       "196         loading:barge_2    from_site 1970-01-02 04:50:30  ACTIVE   \n",
       "197    sailing full:barge_2      barge_2 1970-01-02 05:23:50  ACTIVE   \n",
       "198       unloading:barge_2      barge_2 1970-01-02 06:11:11  ACTIVE   \n",
       "199       unloading:barge_2      to_site 1970-01-02 06:11:11  ACTIVE   \n",
       "\n",
       "           duration            end_time   cp_activity_id  is_critical  \n",
       "0   0 days 00:43:37 1970-01-01 00:43:37    cp_activity_1        False  \n",
       "1   0 days 00:37:23 1970-01-01 00:37:23    cp_activity_9         True  \n",
       "2   0 days 00:47:21 1970-01-01 00:47:21   cp_activity_18        False  \n",
       "3   0 days 00:37:23 1970-01-01 01:14:46   cp_activity_59         True  \n",
       "4   0 days 00:43:37 1970-01-01 01:27:14   cp_activity_51        False  \n",
       "..              ...                 ...              ...          ...  \n",
       "195 0 days 00:33:20 1970-01-02 05:23:50   cp_activity_50         True  \n",
       "196 0 days 00:33:20 1970-01-02 05:23:50   cp_activity_50         True  \n",
       "197 0 days 00:47:21 1970-01-02 06:11:11  cp_activity_100         True  \n",
       "198 0 days 00:47:21 1970-01-02 06:58:32  cp_activity_125         True  \n",
       "199 0 days 00:47:21 1970-01-02 06:58:32  cp_activity_125         True  \n",
       "\n",
       "[200 rows x 8 columns]"
      ]
     },
     "metadata": {},
     "output_type": "display_data"
    }
   ],
   "source": [
    " # %% run simulation and process output\n",
    "df_superlog = get_superlog_with_critical_path([*vessels.values(), from_site, to_site],\n",
    "                                              id_map=[activities[x] for x in activities])\n",
    "display(df_superlog)"
   ]
  },
  {
   "cell_type": "code",
   "execution_count": 11,
   "id": "36e1728e",
   "metadata": {},
   "outputs": [
    {
     "data": {
      "text/html": [
       "        <script type=\"text/javascript\">\n",
       "        window.PlotlyConfig = {MathJaxConfig: 'local'};\n",
       "        if (window.MathJax) {MathJax.Hub.Config({SVG: {font: \"STIX-Web\"}});}\n",
       "        if (typeof require !== 'undefined') {\n",
       "        require.undef(\"plotly\");\n",
       "        requirejs.config({\n",
       "            paths: {\n",
       "                'plotly': ['https://cdn.plot.ly/plotly-2.11.1.min']\n",
       "            }\n",
       "        });\n",
       "        require(['plotly'], function(Plotly) {\n",
       "            window._Plotly = Plotly;\n",
       "        });\n",
       "        }\n",
       "        </script>\n",
       "        "
      ]
     },
     "metadata": {},
     "output_type": "display_data"
    },
    {
     "data": {
      "application/vnd.plotly.v1+json": {
       "config": {
        "linkText": "Export to plot.ly",
        "plotlyServerURL": "https://plot.ly",
        "showLink": false
       },
       "data": [
        {
         "connectgaps": false,
         "hoverinfo": "y+name",
         "line": {
          "color": "#ff0000",
          "width": 10
         },
         "mode": "lines",
         "name": "basic activity:barge_0",
         "type": "scatter",
         "x": [
          "1970-01-01T00:00:00",
          "1970-01-01T00:43:37",
          "1970-01-01T00:43:37",
          "1970-01-01T03:48:40",
          "1970-01-01T04:32:17",
          "1970-01-01T04:32:17",
          "1970-01-01T07:16:28",
          "1970-01-01T08:00:05",
          "1970-01-01T08:00:05",
          "1970-01-01T10:44:16",
          "1970-01-01T11:27:53",
          "1970-01-01T11:27:53",
          "1970-01-01T14:12:04",
          "1970-01-01T14:55:41",
          "1970-01-01T14:55:41",
          "1970-01-01T17:39:52",
          "1970-01-01T18:23:29",
          "1970-01-01T18:23:29",
          "1970-01-01T21:07:40",
          "1970-01-01T21:51:17",
          "1970-01-01T21:51:17",
          "1970-01-02T00:35:28",
          "1970-01-02T01:19:05",
          "1970-01-02T01:19:05"
         ],
         "y": [
          "barge_0",
          "barge_0",
          null,
          "barge_0",
          "barge_0",
          null,
          "barge_0",
          "barge_0",
          null,
          "barge_0",
          "barge_0",
          null,
          "barge_0",
          "barge_0",
          null,
          "barge_0",
          "barge_0",
          null,
          "barge_0",
          "barge_0",
          null,
          "barge_0",
          "barge_0",
          null,
          "barge_0",
          "barge_0",
          null,
          "barge_0",
          "barge_0",
          null,
          "barge_0",
          "barge_0",
          null,
          "barge_0",
          "barge_0",
          null,
          "barge_0",
          "barge_0",
          null,
          "barge_0",
          "barge_0",
          null,
          "barge_0",
          "barge_0",
          null,
          "barge_0",
          "barge_0",
          null,
          "barge_0",
          "barge_0",
          null,
          "barge_0",
          "barge_0",
          null,
          "barge_0",
          "barge_0",
          null,
          "barge_0",
          "barge_0",
          null,
          "barge_0",
          "barge_0",
          null,
          "barge_0",
          "barge_0",
          null,
          "barge_0",
          "barge_0",
          null,
          "barge_0",
          "barge_0",
          null
         ]
        },
        {
         "connectgaps": false,
         "hoverinfo": "y+name",
         "line": {
          "color": "#bfbfbf",
          "width": 10
         },
         "mode": "lines",
         "name": "sailing empty:barge_0",
         "type": "scatter",
         "x": [
          "1970-01-01T00:43:37",
          "1970-01-01T01:27:14",
          "1970-01-01T01:27:14",
          "1970-01-01T04:32:17",
          "1970-01-01T05:15:54",
          "1970-01-01T05:15:54",
          "1970-01-01T08:00:05",
          "1970-01-01T08:43:42",
          "1970-01-01T08:43:42",
          "1970-01-01T11:27:53",
          "1970-01-01T12:11:30",
          "1970-01-01T12:11:30",
          "1970-01-01T14:55:41",
          "1970-01-01T15:39:18",
          "1970-01-01T15:39:18",
          "1970-01-01T18:23:29",
          "1970-01-01T19:07:06",
          "1970-01-01T19:07:06",
          "1970-01-01T21:51:17",
          "1970-01-01T22:34:54",
          "1970-01-01T22:34:54",
          "1970-01-02T01:19:05",
          "1970-01-02T02:02:42",
          "1970-01-02T02:02:42"
         ],
         "y": [
          "barge_0",
          "barge_0",
          null,
          "barge_0",
          "barge_0",
          null,
          "barge_0",
          "barge_0",
          null,
          "barge_0",
          "barge_0",
          null,
          "barge_0",
          "barge_0",
          null,
          "barge_0",
          "barge_0",
          null,
          "barge_0",
          "barge_0",
          null,
          "barge_0",
          "barge_0",
          null,
          "barge_0",
          "barge_0",
          null,
          "barge_0",
          "barge_0",
          null,
          "barge_0",
          "barge_0",
          null,
          "barge_0",
          "barge_0",
          null,
          "barge_0",
          "barge_0",
          null,
          "barge_0",
          "barge_0",
          null,
          "barge_0",
          "barge_0",
          null,
          "barge_0",
          "barge_0",
          null,
          "barge_0",
          "barge_0",
          null,
          "barge_0",
          "barge_0",
          null,
          "barge_0",
          "barge_0",
          null,
          "barge_0",
          "barge_0",
          null,
          "barge_0",
          "barge_0",
          null,
          "barge_0",
          "barge_0",
          null,
          "barge_0",
          "barge_0",
          null,
          "barge_0",
          "barge_0",
          null
         ]
        },
        {
         "connectgaps": false,
         "hoverinfo": "y+name",
         "line": {
          "color": "#305496",
          "width": 10
         },
         "mode": "lines",
         "name": "loading:barge_0",
         "type": "scatter",
         "x": [
          "1970-01-01T01:48:06",
          "1970-01-01T02:21:26",
          "1970-01-01T02:21:26",
          "1970-01-01T05:15:54",
          "1970-01-01T05:49:14",
          "1970-01-01T05:49:14",
          "1970-01-01T08:43:42",
          "1970-01-01T09:17:02",
          "1970-01-01T09:17:02",
          "1970-01-01T12:11:30",
          "1970-01-01T12:44:50",
          "1970-01-01T12:44:50",
          "1970-01-01T15:39:18",
          "1970-01-01T16:12:38",
          "1970-01-01T16:12:38",
          "1970-01-01T19:07:06",
          "1970-01-01T19:40:26",
          "1970-01-01T19:40:26",
          "1970-01-01T22:34:54",
          "1970-01-01T23:08:14",
          "1970-01-01T23:08:14",
          "1970-01-02T02:02:42",
          "1970-01-02T02:36:02",
          "1970-01-02T02:36:02"
         ],
         "y": [
          "barge_0",
          "barge_0",
          null,
          "barge_0",
          "barge_0",
          null,
          "barge_0",
          "barge_0",
          null,
          "barge_0",
          "barge_0",
          null,
          "barge_0",
          "barge_0",
          null,
          "barge_0",
          "barge_0",
          null,
          "barge_0",
          "barge_0",
          null,
          "barge_0",
          "barge_0",
          null,
          "barge_0",
          "barge_0",
          null,
          "barge_0",
          "barge_0",
          null,
          "barge_0",
          "barge_0",
          null,
          "barge_0",
          "barge_0",
          null,
          "barge_0",
          "barge_0",
          null,
          "barge_0",
          "barge_0",
          null,
          "barge_0",
          "barge_0",
          null,
          "barge_0",
          "barge_0",
          null,
          "barge_0",
          "barge_0",
          null,
          "barge_0",
          "barge_0",
          null,
          "barge_0",
          "barge_0",
          null,
          "barge_0",
          "barge_0",
          null,
          "barge_0",
          "barge_0",
          null,
          "barge_0",
          "barge_0",
          null,
          "barge_0",
          "barge_0",
          null,
          "barge_0",
          "barge_0",
          null
         ]
        },
        {
         "connectgaps": false,
         "hoverinfo": "y+name",
         "line": {
          "color": "#00b0f0",
          "width": 10
         },
         "mode": "lines",
         "name": "sailing full:barge_0",
         "type": "scatter",
         "x": [
          "1970-01-01T02:21:26",
          "1970-01-01T03:05:03",
          "1970-01-01T03:05:03",
          "1970-01-01T05:49:14",
          "1970-01-01T06:32:51",
          "1970-01-01T06:32:51",
          "1970-01-01T09:17:02",
          "1970-01-01T10:00:39",
          "1970-01-01T10:00:39",
          "1970-01-01T12:44:50",
          "1970-01-01T13:28:27",
          "1970-01-01T13:28:27",
          "1970-01-01T16:12:38",
          "1970-01-01T16:56:15",
          "1970-01-01T16:56:15",
          "1970-01-01T19:40:26",
          "1970-01-01T20:24:03",
          "1970-01-01T20:24:03",
          "1970-01-01T23:08:14",
          "1970-01-01T23:51:51",
          "1970-01-01T23:51:51",
          "1970-01-02T02:36:02",
          "1970-01-02T03:19:39",
          "1970-01-02T03:19:39"
         ],
         "y": [
          "barge_0",
          "barge_0",
          null,
          "barge_0",
          "barge_0",
          null,
          "barge_0",
          "barge_0",
          null,
          "barge_0",
          "barge_0",
          null,
          "barge_0",
          "barge_0",
          null,
          "barge_0",
          "barge_0",
          null,
          "barge_0",
          "barge_0",
          null,
          "barge_0",
          "barge_0",
          null,
          "barge_0",
          "barge_0",
          null,
          "barge_0",
          "barge_0",
          null,
          "barge_0",
          "barge_0",
          null,
          "barge_0",
          "barge_0",
          null,
          "barge_0",
          "barge_0",
          null,
          "barge_0",
          "barge_0",
          null,
          "barge_0",
          "barge_0",
          null,
          "barge_0",
          "barge_0",
          null,
          "barge_0",
          "barge_0",
          null,
          "barge_0",
          "barge_0",
          null,
          "barge_0",
          "barge_0",
          null,
          "barge_0",
          "barge_0",
          null,
          "barge_0",
          "barge_0",
          null,
          "barge_0",
          "barge_0",
          null,
          "barge_0",
          "barge_0",
          null,
          "barge_0",
          "barge_0",
          null
         ]
        },
        {
         "connectgaps": false,
         "hoverinfo": "y+name",
         "line": {
          "color": "#ffff00",
          "width": 10
         },
         "mode": "lines",
         "name": "unloading:barge_0",
         "type": "scatter",
         "x": [
          "1970-01-01T03:05:03",
          "1970-01-01T03:48:40",
          "1970-01-01T03:48:40",
          "1970-01-01T06:32:51",
          "1970-01-01T07:16:28",
          "1970-01-01T07:16:28",
          "1970-01-01T10:00:39",
          "1970-01-01T10:44:16",
          "1970-01-01T10:44:16",
          "1970-01-01T13:28:27",
          "1970-01-01T14:12:04",
          "1970-01-01T14:12:04",
          "1970-01-01T16:56:15",
          "1970-01-01T17:39:52",
          "1970-01-01T17:39:52",
          "1970-01-01T20:24:03",
          "1970-01-01T21:07:40",
          "1970-01-01T21:07:40",
          "1970-01-01T23:51:51",
          "1970-01-02T00:35:28",
          "1970-01-02T00:35:28",
          "1970-01-02T03:19:39",
          "1970-01-02T04:03:16",
          "1970-01-02T04:03:16"
         ],
         "y": [
          "barge_0",
          "barge_0",
          null,
          "barge_0",
          "barge_0",
          null,
          "barge_0",
          "barge_0",
          null,
          "barge_0",
          "barge_0",
          null,
          "barge_0",
          "barge_0",
          null,
          "barge_0",
          "barge_0",
          null,
          "barge_0",
          "barge_0",
          null,
          "barge_0",
          "barge_0",
          null,
          "barge_0",
          "barge_0",
          null,
          "barge_0",
          "barge_0",
          null,
          "barge_0",
          "barge_0",
          null,
          "barge_0",
          "barge_0",
          null,
          "barge_0",
          "barge_0",
          null,
          "barge_0",
          "barge_0",
          null,
          "barge_0",
          "barge_0",
          null,
          "barge_0",
          "barge_0",
          null,
          "barge_0",
          "barge_0",
          null,
          "barge_0",
          "barge_0",
          null,
          "barge_0",
          "barge_0",
          null,
          "barge_0",
          "barge_0",
          null,
          "barge_0",
          "barge_0",
          null,
          "barge_0",
          "barge_0",
          null,
          "barge_0",
          "barge_0",
          null,
          "barge_0",
          "barge_0",
          null
         ]
        },
        {
         "connectgaps": false,
         "hoverinfo": "y+name",
         "line": {
          "color": "#00b050",
          "width": 10
         },
         "mode": "lines",
         "name": "basic activity:barge_1",
         "type": "scatter",
         "x": [
          "1970-01-01T00:00:00",
          "1970-01-01T00:37:23",
          "1970-01-01T00:37:23",
          "1970-01-01T03:02:52",
          "1970-01-01T03:40:15",
          "1970-01-01T03:40:15",
          "1970-01-01T06:05:44",
          "1970-01-01T06:43:07",
          "1970-01-01T06:43:07",
          "1970-01-01T09:08:36",
          "1970-01-01T09:45:59",
          "1970-01-01T09:45:59",
          "1970-01-01T12:11:28",
          "1970-01-01T12:48:51",
          "1970-01-01T12:48:51",
          "1970-01-01T15:14:20",
          "1970-01-01T15:51:43",
          "1970-01-01T15:51:43",
          "1970-01-01T18:17:12",
          "1970-01-01T18:54:35",
          "1970-01-01T18:54:35",
          "1970-01-01T21:28:32",
          "1970-01-01T22:05:55",
          "1970-01-01T22:05:55",
          "1970-01-02T00:56:20",
          "1970-01-02T01:33:43",
          "1970-01-02T01:33:43"
         ],
         "y": [
          "barge_1",
          "barge_1",
          null,
          "barge_1",
          "barge_1",
          null,
          "barge_1",
          "barge_1",
          null,
          "barge_1",
          "barge_1",
          null,
          "barge_1",
          "barge_1",
          null,
          "barge_1",
          "barge_1",
          null,
          "barge_1",
          "barge_1",
          null,
          "barge_1",
          "barge_1",
          null,
          "barge_1",
          "barge_1",
          null,
          "barge_1",
          "barge_1",
          null,
          "barge_1",
          "barge_1",
          null,
          "barge_1",
          "barge_1",
          null,
          "barge_1",
          "barge_1",
          null,
          "barge_1",
          "barge_1",
          null,
          "barge_1",
          "barge_1",
          null,
          "barge_1",
          "barge_1",
          null,
          "barge_1",
          "barge_1",
          null,
          "barge_1",
          "barge_1",
          null,
          "barge_1",
          "barge_1",
          null,
          "barge_1",
          "barge_1",
          null,
          "barge_1",
          "barge_1",
          null,
          "barge_1",
          "barge_1",
          null,
          "barge_1",
          "barge_1",
          null,
          "barge_1",
          "barge_1",
          null,
          "barge_1",
          "barge_1",
          null,
          "barge_1",
          "barge_1",
          null,
          "barge_1",
          "barge_1",
          null
         ]
        },
        {
         "connectgaps": false,
         "hoverinfo": "y+name",
         "line": {
          "color": "#990101",
          "width": 10
         },
         "mode": "lines",
         "name": "sailing empty:barge_1",
         "type": "scatter",
         "x": [
          "1970-01-01T00:37:23",
          "1970-01-01T01:14:46",
          "1970-01-01T01:14:46",
          "1970-01-01T03:40:15",
          "1970-01-01T04:17:38",
          "1970-01-01T04:17:38",
          "1970-01-01T06:43:07",
          "1970-01-01T07:20:30",
          "1970-01-01T07:20:30",
          "1970-01-01T09:45:59",
          "1970-01-01T10:23:22",
          "1970-01-01T10:23:22",
          "1970-01-01T12:48:51",
          "1970-01-01T13:26:14",
          "1970-01-01T13:26:14",
          "1970-01-01T15:51:43",
          "1970-01-01T16:29:06",
          "1970-01-01T16:29:06",
          "1970-01-01T18:54:35",
          "1970-01-01T19:31:58",
          "1970-01-01T19:31:58",
          "1970-01-01T22:05:55",
          "1970-01-01T22:43:18",
          "1970-01-01T22:43:18",
          "1970-01-02T01:33:43",
          "1970-01-02T02:11:06",
          "1970-01-02T02:11:06"
         ],
         "y": [
          "barge_1",
          "barge_1",
          null,
          "barge_1",
          "barge_1",
          null,
          "barge_1",
          "barge_1",
          null,
          "barge_1",
          "barge_1",
          null,
          "barge_1",
          "barge_1",
          null,
          "barge_1",
          "barge_1",
          null,
          "barge_1",
          "barge_1",
          null,
          "barge_1",
          "barge_1",
          null,
          "barge_1",
          "barge_1",
          null,
          "barge_1",
          "barge_1",
          null,
          "barge_1",
          "barge_1",
          null,
          "barge_1",
          "barge_1",
          null,
          "barge_1",
          "barge_1",
          null,
          "barge_1",
          "barge_1",
          null,
          "barge_1",
          "barge_1",
          null,
          "barge_1",
          "barge_1",
          null,
          "barge_1",
          "barge_1",
          null,
          "barge_1",
          "barge_1",
          null,
          "barge_1",
          "barge_1",
          null,
          "barge_1",
          "barge_1",
          null,
          "barge_1",
          "barge_1",
          null,
          "barge_1",
          "barge_1",
          null,
          "barge_1",
          "barge_1",
          null,
          "barge_1",
          "barge_1",
          null,
          "barge_1",
          "barge_1",
          null,
          "barge_1",
          "barge_1",
          null,
          "barge_1",
          "barge_1",
          null
         ]
        },
        {
         "connectgaps": false,
         "hoverinfo": "y+name",
         "line": {
          "color": "#ED7D31",
          "width": 10
         },
         "mode": "lines",
         "name": "loading:barge_1",
         "type": "scatter",
         "x": [
          "1970-01-01T01:14:46",
          "1970-01-01T01:48:06",
          "1970-01-01T01:48:06",
          "1970-01-01T04:17:38",
          "1970-01-01T04:50:58",
          "1970-01-01T04:50:58",
          "1970-01-01T07:20:30",
          "1970-01-01T07:53:50",
          "1970-01-01T07:53:50",
          "1970-01-01T10:23:22",
          "1970-01-01T10:56:42",
          "1970-01-01T10:56:42",
          "1970-01-01T13:26:14",
          "1970-01-01T13:59:34",
          "1970-01-01T13:59:34",
          "1970-01-01T16:29:06",
          "1970-01-01T17:02:26",
          "1970-01-01T17:02:26",
          "1970-01-01T19:40:26",
          "1970-01-01T20:13:46",
          "1970-01-01T20:13:46",
          "1970-01-01T23:08:14",
          "1970-01-01T23:41:34",
          "1970-01-01T23:41:34",
          "1970-01-02T02:36:02",
          "1970-01-02T03:09:22",
          "1970-01-02T03:09:22"
         ],
         "y": [
          "barge_1",
          "barge_1",
          null,
          "barge_1",
          "barge_1",
          null,
          "barge_1",
          "barge_1",
          null,
          "barge_1",
          "barge_1",
          null,
          "barge_1",
          "barge_1",
          null,
          "barge_1",
          "barge_1",
          null,
          "barge_1",
          "barge_1",
          null,
          "barge_1",
          "barge_1",
          null,
          "barge_1",
          "barge_1",
          null,
          "barge_1",
          "barge_1",
          null,
          "barge_1",
          "barge_1",
          null,
          "barge_1",
          "barge_1",
          null,
          "barge_1",
          "barge_1",
          null,
          "barge_1",
          "barge_1",
          null,
          "barge_1",
          "barge_1",
          null,
          "barge_1",
          "barge_1",
          null,
          "barge_1",
          "barge_1",
          null,
          "barge_1",
          "barge_1",
          null,
          "barge_1",
          "barge_1",
          null,
          "barge_1",
          "barge_1",
          null,
          "barge_1",
          "barge_1",
          null,
          "barge_1",
          "barge_1",
          null,
          "barge_1",
          "barge_1",
          null,
          "barge_1",
          "barge_1",
          null,
          "barge_1",
          "barge_1",
          null,
          "barge_1",
          "barge_1",
          null,
          "barge_1",
          "barge_1",
          null
         ]
        },
        {
         "connectgaps": false,
         "hoverinfo": "y+name",
         "line": {
          "color": "#7030A0",
          "width": 10
         },
         "mode": "lines",
         "name": "sailing full:barge_1",
         "type": "scatter",
         "x": [
          "1970-01-01T01:48:06",
          "1970-01-01T02:25:29",
          "1970-01-01T02:25:29",
          "1970-01-01T04:50:58",
          "1970-01-01T05:28:21",
          "1970-01-01T05:28:21",
          "1970-01-01T07:53:50",
          "1970-01-01T08:31:13",
          "1970-01-01T08:31:13",
          "1970-01-01T10:56:42",
          "1970-01-01T11:34:05",
          "1970-01-01T11:34:05",
          "1970-01-01T13:59:34",
          "1970-01-01T14:36:57",
          "1970-01-01T14:36:57",
          "1970-01-01T17:02:26",
          "1970-01-01T17:39:49",
          "1970-01-01T17:39:49",
          "1970-01-01T20:13:46",
          "1970-01-01T20:51:09",
          "1970-01-01T20:51:09",
          "1970-01-01T23:41:34",
          "1970-01-02T00:18:57",
          "1970-01-02T00:18:57",
          "1970-01-02T03:09:22",
          "1970-01-02T03:46:45",
          "1970-01-02T03:46:45"
         ],
         "y": [
          "barge_1",
          "barge_1",
          null,
          "barge_1",
          "barge_1",
          null,
          "barge_1",
          "barge_1",
          null,
          "barge_1",
          "barge_1",
          null,
          "barge_1",
          "barge_1",
          null,
          "barge_1",
          "barge_1",
          null,
          "barge_1",
          "barge_1",
          null,
          "barge_1",
          "barge_1",
          null,
          "barge_1",
          "barge_1",
          null,
          "barge_1",
          "barge_1",
          null,
          "barge_1",
          "barge_1",
          null,
          "barge_1",
          "barge_1",
          null,
          "barge_1",
          "barge_1",
          null,
          "barge_1",
          "barge_1",
          null,
          "barge_1",
          "barge_1",
          null,
          "barge_1",
          "barge_1",
          null,
          "barge_1",
          "barge_1",
          null,
          "barge_1",
          "barge_1",
          null,
          "barge_1",
          "barge_1",
          null,
          "barge_1",
          "barge_1",
          null,
          "barge_1",
          "barge_1",
          null,
          "barge_1",
          "barge_1",
          null,
          "barge_1",
          "barge_1",
          null,
          "barge_1",
          "barge_1",
          null,
          "barge_1",
          "barge_1",
          null,
          "barge_1",
          "barge_1",
          null,
          "barge_1",
          "barge_1",
          null
         ]
        },
        {
         "connectgaps": false,
         "hoverinfo": "y+name",
         "line": {
          "color": "#1EB299",
          "width": 10
         },
         "mode": "lines",
         "name": "unloading:barge_1",
         "type": "scatter",
         "x": [
          "1970-01-01T02:25:29",
          "1970-01-01T03:02:52",
          "1970-01-01T03:02:52",
          "1970-01-01T05:28:21",
          "1970-01-01T06:05:44",
          "1970-01-01T06:05:44",
          "1970-01-01T08:31:13",
          "1970-01-01T09:08:36",
          "1970-01-01T09:08:36",
          "1970-01-01T11:34:05",
          "1970-01-01T12:11:28",
          "1970-01-01T12:11:28",
          "1970-01-01T14:36:57",
          "1970-01-01T15:14:20",
          "1970-01-01T15:14:20",
          "1970-01-01T17:39:49",
          "1970-01-01T18:17:12",
          "1970-01-01T18:17:12",
          "1970-01-01T20:51:09",
          "1970-01-01T21:28:32",
          "1970-01-01T21:28:32",
          "1970-01-02T00:18:57",
          "1970-01-02T00:56:20",
          "1970-01-02T00:56:20",
          "1970-01-02T03:46:45",
          "1970-01-02T04:24:08",
          "1970-01-02T04:24:08"
         ],
         "y": [
          "barge_1",
          "barge_1",
          null,
          "barge_1",
          "barge_1",
          null,
          "barge_1",
          "barge_1",
          null,
          "barge_1",
          "barge_1",
          null,
          "barge_1",
          "barge_1",
          null,
          "barge_1",
          "barge_1",
          null,
          "barge_1",
          "barge_1",
          null,
          "barge_1",
          "barge_1",
          null,
          "barge_1",
          "barge_1",
          null,
          "barge_1",
          "barge_1",
          null,
          "barge_1",
          "barge_1",
          null,
          "barge_1",
          "barge_1",
          null,
          "barge_1",
          "barge_1",
          null,
          "barge_1",
          "barge_1",
          null,
          "barge_1",
          "barge_1",
          null,
          "barge_1",
          "barge_1",
          null,
          "barge_1",
          "barge_1",
          null,
          "barge_1",
          "barge_1",
          null,
          "barge_1",
          "barge_1",
          null,
          "barge_1",
          "barge_1",
          null,
          "barge_1",
          "barge_1",
          null,
          "barge_1",
          "barge_1",
          null,
          "barge_1",
          "barge_1",
          null,
          "barge_1",
          "barge_1",
          null,
          "barge_1",
          "barge_1",
          null,
          "barge_1",
          "barge_1",
          null,
          "barge_1",
          "barge_1",
          null
         ]
        },
        {
         "connectgaps": false,
         "hoverinfo": "y+name",
         "line": {
          "color": "#483700",
          "width": 10
         },
         "mode": "lines",
         "name": "basic activity:barge_2",
         "type": "scatter",
         "x": [
          "1970-01-01T00:00:00",
          "1970-01-01T00:47:21",
          "1970-01-01T00:47:21",
          "1970-01-01T04:29:28",
          "1970-01-01T05:16:49",
          "1970-01-01T05:16:49",
          "1970-01-01T08:12:12",
          "1970-01-01T08:59:33",
          "1970-01-01T08:59:33",
          "1970-01-01T11:54:56",
          "1970-01-01T12:42:17",
          "1970-01-01T12:42:17",
          "1970-01-01T16:07:36",
          "1970-01-01T16:54:57",
          "1970-01-01T16:54:57",
          "1970-01-01T19:50:20",
          "1970-01-01T20:37:41",
          "1970-01-01T20:37:41",
          "1970-01-01T23:33:04",
          "1970-01-02T00:20:25",
          "1970-01-02T00:20:25",
          "1970-01-02T03:15:48",
          "1970-01-02T04:03:09",
          "1970-01-02T04:03:09"
         ],
         "y": [
          "barge_2",
          "barge_2",
          null,
          "barge_2",
          "barge_2",
          null,
          "barge_2",
          "barge_2",
          null,
          "barge_2",
          "barge_2",
          null,
          "barge_2",
          "barge_2",
          null,
          "barge_2",
          "barge_2",
          null,
          "barge_2",
          "barge_2",
          null,
          "barge_2",
          "barge_2",
          null,
          "barge_2",
          "barge_2",
          null,
          "barge_2",
          "barge_2",
          null,
          "barge_2",
          "barge_2",
          null,
          "barge_2",
          "barge_2",
          null,
          "barge_2",
          "barge_2",
          null,
          "barge_2",
          "barge_2",
          null,
          "barge_2",
          "barge_2",
          null,
          "barge_2",
          "barge_2",
          null,
          "barge_2",
          "barge_2",
          null,
          "barge_2",
          "barge_2",
          null,
          "barge_2",
          "barge_2",
          null,
          "barge_2",
          "barge_2",
          null,
          "barge_2",
          "barge_2",
          null,
          "barge_2",
          "barge_2",
          null,
          "barge_2",
          "barge_2",
          null,
          "barge_2",
          "barge_2",
          null
         ]
        },
        {
         "connectgaps": false,
         "hoverinfo": "y+name",
         "line": {
          "color": "#CCECFF",
          "width": 10
         },
         "mode": "lines",
         "name": "sailing empty:barge_2",
         "type": "scatter",
         "x": [
          "1970-01-01T00:47:21",
          "1970-01-01T01:34:42",
          "1970-01-01T01:34:42",
          "1970-01-01T05:16:49",
          "1970-01-01T06:04:10",
          "1970-01-01T06:04:10",
          "1970-01-01T08:59:33",
          "1970-01-01T09:46:54",
          "1970-01-01T09:46:54",
          "1970-01-01T12:42:17",
          "1970-01-01T13:29:38",
          "1970-01-01T13:29:38",
          "1970-01-01T16:54:57",
          "1970-01-01T17:42:18",
          "1970-01-01T17:42:18",
          "1970-01-01T20:37:41",
          "1970-01-01T21:25:02",
          "1970-01-01T21:25:02",
          "1970-01-02T00:20:25",
          "1970-01-02T01:07:46",
          "1970-01-02T01:07:46",
          "1970-01-02T04:03:09",
          "1970-01-02T04:50:30",
          "1970-01-02T04:50:30"
         ],
         "y": [
          "barge_2",
          "barge_2",
          null,
          "barge_2",
          "barge_2",
          null,
          "barge_2",
          "barge_2",
          null,
          "barge_2",
          "barge_2",
          null,
          "barge_2",
          "barge_2",
          null,
          "barge_2",
          "barge_2",
          null,
          "barge_2",
          "barge_2",
          null,
          "barge_2",
          "barge_2",
          null,
          "barge_2",
          "barge_2",
          null,
          "barge_2",
          "barge_2",
          null,
          "barge_2",
          "barge_2",
          null,
          "barge_2",
          "barge_2",
          null,
          "barge_2",
          "barge_2",
          null,
          "barge_2",
          "barge_2",
          null,
          "barge_2",
          "barge_2",
          null,
          "barge_2",
          "barge_2",
          null,
          "barge_2",
          "barge_2",
          null,
          "barge_2",
          "barge_2",
          null,
          "barge_2",
          "barge_2",
          null,
          "barge_2",
          "barge_2",
          null,
          "barge_2",
          "barge_2",
          null,
          "barge_2",
          "barge_2",
          null,
          "barge_2",
          "barge_2",
          null,
          "barge_2",
          "barge_2",
          null
         ]
        },
        {
         "connectgaps": false,
         "hoverinfo": "y+name",
         "line": {
          "color": "#c6e0b4",
          "width": 10
         },
         "mode": "lines",
         "name": "loading:barge_2",
         "type": "scatter",
         "x": [
          "1970-01-01T02:21:26",
          "1970-01-01T02:54:46",
          "1970-01-01T02:54:46",
          "1970-01-01T06:04:10",
          "1970-01-01T06:37:30",
          "1970-01-01T06:37:30",
          "1970-01-01T09:46:54",
          "1970-01-01T10:20:14",
          "1970-01-01T10:20:14",
          "1970-01-01T13:59:34",
          "1970-01-01T14:32:54",
          "1970-01-01T14:32:54",
          "1970-01-01T17:42:18",
          "1970-01-01T18:15:38",
          "1970-01-01T18:15:38",
          "1970-01-01T21:25:02",
          "1970-01-01T21:58:22",
          "1970-01-01T21:58:22",
          "1970-01-02T01:07:46",
          "1970-01-02T01:41:06",
          "1970-01-02T01:41:06",
          "1970-01-02T04:50:30",
          "1970-01-02T05:23:50",
          "1970-01-02T05:23:50"
         ],
         "y": [
          "barge_2",
          "barge_2",
          null,
          "barge_2",
          "barge_2",
          null,
          "barge_2",
          "barge_2",
          null,
          "barge_2",
          "barge_2",
          null,
          "barge_2",
          "barge_2",
          null,
          "barge_2",
          "barge_2",
          null,
          "barge_2",
          "barge_2",
          null,
          "barge_2",
          "barge_2",
          null,
          "barge_2",
          "barge_2",
          null,
          "barge_2",
          "barge_2",
          null,
          "barge_2",
          "barge_2",
          null,
          "barge_2",
          "barge_2",
          null,
          "barge_2",
          "barge_2",
          null,
          "barge_2",
          "barge_2",
          null,
          "barge_2",
          "barge_2",
          null,
          "barge_2",
          "barge_2",
          null,
          "barge_2",
          "barge_2",
          null,
          "barge_2",
          "barge_2",
          null,
          "barge_2",
          "barge_2",
          null,
          "barge_2",
          "barge_2",
          null,
          "barge_2",
          "barge_2",
          null,
          "barge_2",
          "barge_2",
          null,
          "barge_2",
          "barge_2",
          null,
          "barge_2",
          "barge_2",
          null
         ]
        },
        {
         "connectgaps": false,
         "hoverinfo": "y+name",
         "line": {
          "color": "#525252",
          "width": 10
         },
         "mode": "lines",
         "name": "sailing full:barge_2",
         "type": "scatter",
         "x": [
          "1970-01-01T02:54:46",
          "1970-01-01T03:42:07",
          "1970-01-01T03:42:07",
          "1970-01-01T06:37:30",
          "1970-01-01T07:24:51",
          "1970-01-01T07:24:51",
          "1970-01-01T10:20:14",
          "1970-01-01T11:07:35",
          "1970-01-01T11:07:35",
          "1970-01-01T14:32:54",
          "1970-01-01T15:20:15",
          "1970-01-01T15:20:15",
          "1970-01-01T18:15:38",
          "1970-01-01T19:02:59",
          "1970-01-01T19:02:59",
          "1970-01-01T21:58:22",
          "1970-01-01T22:45:43",
          "1970-01-01T22:45:43",
          "1970-01-02T01:41:06",
          "1970-01-02T02:28:27",
          "1970-01-02T02:28:27",
          "1970-01-02T05:23:50",
          "1970-01-02T06:11:11",
          "1970-01-02T06:11:11"
         ],
         "y": [
          "barge_2",
          "barge_2",
          null,
          "barge_2",
          "barge_2",
          null,
          "barge_2",
          "barge_2",
          null,
          "barge_2",
          "barge_2",
          null,
          "barge_2",
          "barge_2",
          null,
          "barge_2",
          "barge_2",
          null,
          "barge_2",
          "barge_2",
          null,
          "barge_2",
          "barge_2",
          null,
          "barge_2",
          "barge_2",
          null,
          "barge_2",
          "barge_2",
          null,
          "barge_2",
          "barge_2",
          null,
          "barge_2",
          "barge_2",
          null,
          "barge_2",
          "barge_2",
          null,
          "barge_2",
          "barge_2",
          null,
          "barge_2",
          "barge_2",
          null,
          "barge_2",
          "barge_2",
          null,
          "barge_2",
          "barge_2",
          null,
          "barge_2",
          "barge_2",
          null,
          "barge_2",
          "barge_2",
          null,
          "barge_2",
          "barge_2",
          null,
          "barge_2",
          "barge_2",
          null,
          "barge_2",
          "barge_2",
          null,
          "barge_2",
          "barge_2",
          null,
          "barge_2",
          "barge_2",
          null
         ]
        },
        {
         "connectgaps": false,
         "hoverinfo": "y+name",
         "line": {
          "color": "#f8cbad",
          "width": 10
         },
         "mode": "lines",
         "name": "unloading:barge_2",
         "type": "scatter",
         "x": [
          "1970-01-01T03:42:07",
          "1970-01-01T04:29:28",
          "1970-01-01T04:29:28",
          "1970-01-01T07:24:51",
          "1970-01-01T08:12:12",
          "1970-01-01T08:12:12",
          "1970-01-01T11:07:35",
          "1970-01-01T11:54:56",
          "1970-01-01T11:54:56",
          "1970-01-01T15:20:15",
          "1970-01-01T16:07:36",
          "1970-01-01T16:07:36",
          "1970-01-01T19:02:59",
          "1970-01-01T19:50:20",
          "1970-01-01T19:50:20",
          "1970-01-01T22:45:43",
          "1970-01-01T23:33:04",
          "1970-01-01T23:33:04",
          "1970-01-02T02:28:27",
          "1970-01-02T03:15:48",
          "1970-01-02T03:15:48",
          "1970-01-02T06:11:11",
          "1970-01-02T06:58:32",
          "1970-01-02T06:58:32"
         ],
         "y": [
          "barge_2",
          "barge_2",
          null,
          "barge_2",
          "barge_2",
          null,
          "barge_2",
          "barge_2",
          null,
          "barge_2",
          "barge_2",
          null,
          "barge_2",
          "barge_2",
          null,
          "barge_2",
          "barge_2",
          null,
          "barge_2",
          "barge_2",
          null,
          "barge_2",
          "barge_2",
          null,
          "barge_2",
          "barge_2",
          null,
          "barge_2",
          "barge_2",
          null,
          "barge_2",
          "barge_2",
          null,
          "barge_2",
          "barge_2",
          null,
          "barge_2",
          "barge_2",
          null,
          "barge_2",
          "barge_2",
          null,
          "barge_2",
          "barge_2",
          null,
          "barge_2",
          "barge_2",
          null,
          "barge_2",
          "barge_2",
          null,
          "barge_2",
          "barge_2",
          null,
          "barge_2",
          "barge_2",
          null,
          "barge_2",
          "barge_2",
          null,
          "barge_2",
          "barge_2",
          null,
          "barge_2",
          "barge_2",
          null,
          "barge_2",
          "barge_2",
          null,
          "barge_2",
          "barge_2",
          null
         ]
        },
        {
         "connectgaps": false,
         "hoverinfo": "y+name",
         "line": {
          "color": "#bf95df",
          "width": 10
         },
         "mode": "lines",
         "name": "loading:barge_1",
         "type": "scatter",
         "x": [
          "1970-01-01T01:14:46",
          "1970-01-01T01:48:06",
          "1970-01-01T01:48:06",
          "1970-01-01T04:17:38",
          "1970-01-01T04:50:58",
          "1970-01-01T04:50:58",
          "1970-01-01T07:20:30",
          "1970-01-01T07:53:50",
          "1970-01-01T07:53:50",
          "1970-01-01T10:23:22",
          "1970-01-01T10:56:42",
          "1970-01-01T10:56:42",
          "1970-01-01T13:26:14",
          "1970-01-01T13:59:34",
          "1970-01-01T13:59:34",
          "1970-01-01T16:29:06",
          "1970-01-01T17:02:26",
          "1970-01-01T17:02:26",
          "1970-01-01T19:40:26",
          "1970-01-01T20:13:46",
          "1970-01-01T20:13:46",
          "1970-01-01T23:08:14",
          "1970-01-01T23:41:34",
          "1970-01-01T23:41:34",
          "1970-01-02T02:36:02",
          "1970-01-02T03:09:22",
          "1970-01-02T03:09:22"
         ],
         "y": [
          "cutter",
          "cutter",
          null,
          "cutter",
          "cutter",
          null,
          "cutter",
          "cutter",
          null,
          "cutter",
          "cutter",
          null,
          "cutter",
          "cutter",
          null,
          "cutter",
          "cutter",
          null,
          "cutter",
          "cutter",
          null,
          "cutter",
          "cutter",
          null,
          "cutter",
          "cutter",
          null,
          "cutter",
          "cutter",
          null,
          "cutter",
          "cutter",
          null,
          "cutter",
          "cutter",
          null,
          "cutter",
          "cutter",
          null,
          "cutter",
          "cutter",
          null,
          "cutter",
          "cutter",
          null,
          "cutter",
          "cutter",
          null,
          "cutter",
          "cutter",
          null,
          "cutter",
          "cutter",
          null,
          "cutter",
          "cutter",
          null,
          "cutter",
          "cutter",
          null,
          "cutter",
          "cutter",
          null,
          "cutter",
          "cutter",
          null,
          "cutter",
          "cutter",
          null,
          "cutter",
          "cutter",
          null,
          "cutter",
          "cutter",
          null,
          "cutter",
          "cutter",
          null,
          "cutter",
          "cutter",
          null
         ]
        },
        {
         "connectgaps": false,
         "hoverinfo": "y+name",
         "line": {
          "color": "darkred",
          "width": 10
         },
         "mode": "lines",
         "name": "loading:barge_0",
         "type": "scatter",
         "x": [
          "1970-01-01T01:48:06",
          "1970-01-01T02:21:26",
          "1970-01-01T02:21:26",
          "1970-01-01T05:15:54",
          "1970-01-01T05:49:14",
          "1970-01-01T05:49:14",
          "1970-01-01T08:43:42",
          "1970-01-01T09:17:02",
          "1970-01-01T09:17:02",
          "1970-01-01T12:11:30",
          "1970-01-01T12:44:50",
          "1970-01-01T12:44:50",
          "1970-01-01T15:39:18",
          "1970-01-01T16:12:38",
          "1970-01-01T16:12:38",
          "1970-01-01T19:07:06",
          "1970-01-01T19:40:26",
          "1970-01-01T19:40:26",
          "1970-01-01T22:34:54",
          "1970-01-01T23:08:14",
          "1970-01-01T23:08:14",
          "1970-01-02T02:02:42",
          "1970-01-02T02:36:02",
          "1970-01-02T02:36:02"
         ],
         "y": [
          "cutter",
          "cutter",
          null,
          "cutter",
          "cutter",
          null,
          "cutter",
          "cutter",
          null,
          "cutter",
          "cutter",
          null,
          "cutter",
          "cutter",
          null,
          "cutter",
          "cutter",
          null,
          "cutter",
          "cutter",
          null,
          "cutter",
          "cutter",
          null,
          "cutter",
          "cutter",
          null,
          "cutter",
          "cutter",
          null,
          "cutter",
          "cutter",
          null,
          "cutter",
          "cutter",
          null,
          "cutter",
          "cutter",
          null,
          "cutter",
          "cutter",
          null,
          "cutter",
          "cutter",
          null,
          "cutter",
          "cutter",
          null,
          "cutter",
          "cutter",
          null,
          "cutter",
          "cutter",
          null,
          "cutter",
          "cutter",
          null,
          "cutter",
          "cutter",
          null,
          "cutter",
          "cutter",
          null,
          "cutter",
          "cutter",
          null,
          "cutter",
          "cutter",
          null,
          "cutter",
          "cutter",
          null
         ]
        },
        {
         "connectgaps": false,
         "hoverinfo": "y+name",
         "line": {
          "color": "magenta",
          "width": 10
         },
         "mode": "lines",
         "name": "loading:barge_2",
         "type": "scatter",
         "x": [
          "1970-01-01T02:21:26",
          "1970-01-01T02:54:46",
          "1970-01-01T02:54:46",
          "1970-01-01T06:04:10",
          "1970-01-01T06:37:30",
          "1970-01-01T06:37:30",
          "1970-01-01T09:46:54",
          "1970-01-01T10:20:14",
          "1970-01-01T10:20:14",
          "1970-01-01T13:59:34",
          "1970-01-01T14:32:54",
          "1970-01-01T14:32:54",
          "1970-01-01T17:42:18",
          "1970-01-01T18:15:38",
          "1970-01-01T18:15:38",
          "1970-01-01T21:25:02",
          "1970-01-01T21:58:22",
          "1970-01-01T21:58:22",
          "1970-01-02T01:07:46",
          "1970-01-02T01:41:06",
          "1970-01-02T01:41:06",
          "1970-01-02T04:50:30",
          "1970-01-02T05:23:50",
          "1970-01-02T05:23:50"
         ],
         "y": [
          "cutter",
          "cutter",
          null,
          "cutter",
          "cutter",
          null,
          "cutter",
          "cutter",
          null,
          "cutter",
          "cutter",
          null,
          "cutter",
          "cutter",
          null,
          "cutter",
          "cutter",
          null,
          "cutter",
          "cutter",
          null,
          "cutter",
          "cutter",
          null,
          "cutter",
          "cutter",
          null,
          "cutter",
          "cutter",
          null,
          "cutter",
          "cutter",
          null,
          "cutter",
          "cutter",
          null,
          "cutter",
          "cutter",
          null,
          "cutter",
          "cutter",
          null,
          "cutter",
          "cutter",
          null,
          "cutter",
          "cutter",
          null,
          "cutter",
          "cutter",
          null,
          "cutter",
          "cutter",
          null,
          "cutter",
          "cutter",
          null,
          "cutter",
          "cutter",
          null,
          "cutter",
          "cutter",
          null,
          "cutter",
          "cutter",
          null,
          "cutter",
          "cutter",
          null,
          "cutter",
          "cutter",
          null
         ]
        },
        {
         "connectgaps": false,
         "hoverinfo": "y+name",
         "line": {
          "color": "cyan",
          "width": 10
         },
         "mode": "lines",
         "name": "loading:barge_1",
         "type": "scatter",
         "x": [
          "1970-01-01T01:14:46",
          "1970-01-01T01:48:06",
          "1970-01-01T01:48:06",
          "1970-01-01T04:17:38",
          "1970-01-01T04:50:58",
          "1970-01-01T04:50:58",
          "1970-01-01T07:20:30",
          "1970-01-01T07:53:50",
          "1970-01-01T07:53:50",
          "1970-01-01T10:23:22",
          "1970-01-01T10:56:42",
          "1970-01-01T10:56:42",
          "1970-01-01T13:26:14",
          "1970-01-01T13:59:34",
          "1970-01-01T13:59:34",
          "1970-01-01T16:29:06",
          "1970-01-01T17:02:26",
          "1970-01-01T17:02:26",
          "1970-01-01T19:40:26",
          "1970-01-01T20:13:46",
          "1970-01-01T20:13:46",
          "1970-01-01T23:08:14",
          "1970-01-01T23:41:34",
          "1970-01-01T23:41:34",
          "1970-01-02T02:36:02",
          "1970-01-02T03:09:22",
          "1970-01-02T03:09:22"
         ],
         "y": [
          "from_site",
          "from_site",
          null,
          "from_site",
          "from_site",
          null,
          "from_site",
          "from_site",
          null,
          "from_site",
          "from_site",
          null,
          "from_site",
          "from_site",
          null,
          "from_site",
          "from_site",
          null,
          "from_site",
          "from_site",
          null,
          "from_site",
          "from_site",
          null,
          "from_site",
          "from_site",
          null,
          "from_site",
          "from_site",
          null,
          "from_site",
          "from_site",
          null,
          "from_site",
          "from_site",
          null,
          "from_site",
          "from_site",
          null,
          "from_site",
          "from_site",
          null,
          "from_site",
          "from_site",
          null,
          "from_site",
          "from_site",
          null,
          "from_site",
          "from_site",
          null,
          "from_site",
          "from_site",
          null,
          "from_site",
          "from_site",
          null,
          "from_site",
          "from_site",
          null,
          "from_site",
          "from_site",
          null,
          "from_site",
          "from_site",
          null,
          "from_site",
          "from_site",
          null,
          "from_site",
          "from_site",
          null,
          "from_site",
          "from_site",
          null,
          "from_site",
          "from_site",
          null,
          "from_site",
          "from_site",
          null
         ]
        },
        {
         "connectgaps": false,
         "hoverinfo": "y+name",
         "line": {
          "color": "orange",
          "width": 10
         },
         "mode": "lines",
         "name": "loading:barge_0",
         "type": "scatter",
         "x": [
          "1970-01-01T01:48:06",
          "1970-01-01T02:21:26",
          "1970-01-01T02:21:26",
          "1970-01-01T05:15:54",
          "1970-01-01T05:49:14",
          "1970-01-01T05:49:14",
          "1970-01-01T08:43:42",
          "1970-01-01T09:17:02",
          "1970-01-01T09:17:02",
          "1970-01-01T12:11:30",
          "1970-01-01T12:44:50",
          "1970-01-01T12:44:50",
          "1970-01-01T15:39:18",
          "1970-01-01T16:12:38",
          "1970-01-01T16:12:38",
          "1970-01-01T19:07:06",
          "1970-01-01T19:40:26",
          "1970-01-01T19:40:26",
          "1970-01-01T22:34:54",
          "1970-01-01T23:08:14",
          "1970-01-01T23:08:14",
          "1970-01-02T02:02:42",
          "1970-01-02T02:36:02",
          "1970-01-02T02:36:02"
         ],
         "y": [
          "from_site",
          "from_site",
          null,
          "from_site",
          "from_site",
          null,
          "from_site",
          "from_site",
          null,
          "from_site",
          "from_site",
          null,
          "from_site",
          "from_site",
          null,
          "from_site",
          "from_site",
          null,
          "from_site",
          "from_site",
          null,
          "from_site",
          "from_site",
          null,
          "from_site",
          "from_site",
          null,
          "from_site",
          "from_site",
          null,
          "from_site",
          "from_site",
          null,
          "from_site",
          "from_site",
          null,
          "from_site",
          "from_site",
          null,
          "from_site",
          "from_site",
          null,
          "from_site",
          "from_site",
          null,
          "from_site",
          "from_site",
          null,
          "from_site",
          "from_site",
          null,
          "from_site",
          "from_site",
          null,
          "from_site",
          "from_site",
          null,
          "from_site",
          "from_site",
          null,
          "from_site",
          "from_site",
          null,
          "from_site",
          "from_site",
          null,
          "from_site",
          "from_site",
          null,
          "from_site",
          "from_site",
          null
         ]
        },
        {
         "connectgaps": false,
         "hoverinfo": "y+name",
         "line": {
          "color": "#ff0000",
          "width": 10
         },
         "mode": "lines",
         "name": "loading:barge_2",
         "type": "scatter",
         "x": [
          "1970-01-01T02:21:26",
          "1970-01-01T02:54:46",
          "1970-01-01T02:54:46",
          "1970-01-01T06:04:10",
          "1970-01-01T06:37:30",
          "1970-01-01T06:37:30",
          "1970-01-01T09:46:54",
          "1970-01-01T10:20:14",
          "1970-01-01T10:20:14",
          "1970-01-01T13:59:34",
          "1970-01-01T14:32:54",
          "1970-01-01T14:32:54",
          "1970-01-01T17:42:18",
          "1970-01-01T18:15:38",
          "1970-01-01T18:15:38",
          "1970-01-01T21:25:02",
          "1970-01-01T21:58:22",
          "1970-01-01T21:58:22",
          "1970-01-02T01:07:46",
          "1970-01-02T01:41:06",
          "1970-01-02T01:41:06",
          "1970-01-02T04:50:30",
          "1970-01-02T05:23:50",
          "1970-01-02T05:23:50"
         ],
         "y": [
          "from_site",
          "from_site",
          null,
          "from_site",
          "from_site",
          null,
          "from_site",
          "from_site",
          null,
          "from_site",
          "from_site",
          null,
          "from_site",
          "from_site",
          null,
          "from_site",
          "from_site",
          null,
          "from_site",
          "from_site",
          null,
          "from_site",
          "from_site",
          null,
          "from_site",
          "from_site",
          null,
          "from_site",
          "from_site",
          null,
          "from_site",
          "from_site",
          null,
          "from_site",
          "from_site",
          null,
          "from_site",
          "from_site",
          null,
          "from_site",
          "from_site",
          null,
          "from_site",
          "from_site",
          null,
          "from_site",
          "from_site",
          null,
          "from_site",
          "from_site",
          null,
          "from_site",
          "from_site",
          null,
          "from_site",
          "from_site",
          null,
          "from_site",
          "from_site",
          null,
          "from_site",
          "from_site",
          null,
          "from_site",
          "from_site",
          null,
          "from_site",
          "from_site",
          null,
          "from_site",
          "from_site",
          null
         ]
        },
        {
         "connectgaps": false,
         "hoverinfo": "y+name",
         "line": {
          "color": "#bfbfbf",
          "width": 10
         },
         "mode": "lines",
         "name": "unloading:barge_1",
         "type": "scatter",
         "x": [
          "1970-01-01T02:25:29",
          "1970-01-01T03:02:52",
          "1970-01-01T03:02:52",
          "1970-01-01T05:28:21",
          "1970-01-01T06:05:44",
          "1970-01-01T06:05:44",
          "1970-01-01T08:31:13",
          "1970-01-01T09:08:36",
          "1970-01-01T09:08:36",
          "1970-01-01T11:34:05",
          "1970-01-01T12:11:28",
          "1970-01-01T12:11:28",
          "1970-01-01T14:36:57",
          "1970-01-01T15:14:20",
          "1970-01-01T15:14:20",
          "1970-01-01T17:39:49",
          "1970-01-01T18:17:12",
          "1970-01-01T18:17:12",
          "1970-01-01T20:51:09",
          "1970-01-01T21:28:32",
          "1970-01-01T21:28:32",
          "1970-01-02T00:18:57",
          "1970-01-02T00:56:20",
          "1970-01-02T00:56:20",
          "1970-01-02T03:46:45",
          "1970-01-02T04:24:08",
          "1970-01-02T04:24:08"
         ],
         "y": [
          "to_site",
          "to_site",
          null,
          "to_site",
          "to_site",
          null,
          "to_site",
          "to_site",
          null,
          "to_site",
          "to_site",
          null,
          "to_site",
          "to_site",
          null,
          "to_site",
          "to_site",
          null,
          "to_site",
          "to_site",
          null,
          "to_site",
          "to_site",
          null,
          "to_site",
          "to_site",
          null,
          "to_site",
          "to_site",
          null,
          "to_site",
          "to_site",
          null,
          "to_site",
          "to_site",
          null,
          "to_site",
          "to_site",
          null,
          "to_site",
          "to_site",
          null,
          "to_site",
          "to_site",
          null,
          "to_site",
          "to_site",
          null,
          "to_site",
          "to_site",
          null,
          "to_site",
          "to_site",
          null,
          "to_site",
          "to_site",
          null,
          "to_site",
          "to_site",
          null,
          "to_site",
          "to_site",
          null,
          "to_site",
          "to_site",
          null,
          "to_site",
          "to_site",
          null,
          "to_site",
          "to_site",
          null,
          "to_site",
          "to_site",
          null,
          "to_site",
          "to_site",
          null,
          "to_site",
          "to_site",
          null
         ]
        },
        {
         "connectgaps": false,
         "hoverinfo": "y+name",
         "line": {
          "color": "#305496",
          "width": 10
         },
         "mode": "lines",
         "name": "unloading:barge_0",
         "type": "scatter",
         "x": [
          "1970-01-01T03:05:03",
          "1970-01-01T03:48:40",
          "1970-01-01T03:48:40",
          "1970-01-01T06:32:51",
          "1970-01-01T07:16:28",
          "1970-01-01T07:16:28",
          "1970-01-01T10:00:39",
          "1970-01-01T10:44:16",
          "1970-01-01T10:44:16",
          "1970-01-01T13:28:27",
          "1970-01-01T14:12:04",
          "1970-01-01T14:12:04",
          "1970-01-01T16:56:15",
          "1970-01-01T17:39:52",
          "1970-01-01T17:39:52",
          "1970-01-01T20:24:03",
          "1970-01-01T21:07:40",
          "1970-01-01T21:07:40",
          "1970-01-01T23:51:51",
          "1970-01-02T00:35:28",
          "1970-01-02T00:35:28",
          "1970-01-02T03:19:39",
          "1970-01-02T04:03:16",
          "1970-01-02T04:03:16"
         ],
         "y": [
          "to_site",
          "to_site",
          null,
          "to_site",
          "to_site",
          null,
          "to_site",
          "to_site",
          null,
          "to_site",
          "to_site",
          null,
          "to_site",
          "to_site",
          null,
          "to_site",
          "to_site",
          null,
          "to_site",
          "to_site",
          null,
          "to_site",
          "to_site",
          null,
          "to_site",
          "to_site",
          null,
          "to_site",
          "to_site",
          null,
          "to_site",
          "to_site",
          null,
          "to_site",
          "to_site",
          null,
          "to_site",
          "to_site",
          null,
          "to_site",
          "to_site",
          null,
          "to_site",
          "to_site",
          null,
          "to_site",
          "to_site",
          null,
          "to_site",
          "to_site",
          null,
          "to_site",
          "to_site",
          null,
          "to_site",
          "to_site",
          null,
          "to_site",
          "to_site",
          null,
          "to_site",
          "to_site",
          null,
          "to_site",
          "to_site",
          null,
          "to_site",
          "to_site",
          null,
          "to_site",
          "to_site",
          null
         ]
        },
        {
         "connectgaps": false,
         "hoverinfo": "y+name",
         "line": {
          "color": "#00b0f0",
          "width": 10
         },
         "mode": "lines",
         "name": "unloading:barge_2",
         "type": "scatter",
         "x": [
          "1970-01-01T03:42:07",
          "1970-01-01T04:29:28",
          "1970-01-01T04:29:28",
          "1970-01-01T07:24:51",
          "1970-01-01T08:12:12",
          "1970-01-01T08:12:12",
          "1970-01-01T11:07:35",
          "1970-01-01T11:54:56",
          "1970-01-01T11:54:56",
          "1970-01-01T15:20:15",
          "1970-01-01T16:07:36",
          "1970-01-01T16:07:36",
          "1970-01-01T19:02:59",
          "1970-01-01T19:50:20",
          "1970-01-01T19:50:20",
          "1970-01-01T22:45:43",
          "1970-01-01T23:33:04",
          "1970-01-01T23:33:04",
          "1970-01-02T02:28:27",
          "1970-01-02T03:15:48",
          "1970-01-02T03:15:48",
          "1970-01-02T06:11:11",
          "1970-01-02T06:58:32",
          "1970-01-02T06:58:32"
         ],
         "y": [
          "to_site",
          "to_site",
          null,
          "to_site",
          "to_site",
          null,
          "to_site",
          "to_site",
          null,
          "to_site",
          "to_site",
          null,
          "to_site",
          "to_site",
          null,
          "to_site",
          "to_site",
          null,
          "to_site",
          "to_site",
          null,
          "to_site",
          "to_site",
          null,
          "to_site",
          "to_site",
          null,
          "to_site",
          "to_site",
          null,
          "to_site",
          "to_site",
          null,
          "to_site",
          "to_site",
          null,
          "to_site",
          "to_site",
          null,
          "to_site",
          "to_site",
          null,
          "to_site",
          "to_site",
          null,
          "to_site",
          "to_site",
          null,
          "to_site",
          "to_site",
          null,
          "to_site",
          "to_site",
          null,
          "to_site",
          "to_site",
          null,
          "to_site",
          "to_site",
          null,
          "to_site",
          "to_site",
          null,
          "to_site",
          "to_site",
          null,
          "to_site",
          "to_site",
          null,
          "to_site",
          "to_site",
          null
         ]
        },
        {
         "connectgaps": false,
         "hoverinfo": "name",
         "line": {
          "color": "Black",
          "width": 5
         },
         "mode": "markers",
         "name": "critical_path",
         "type": "scatter",
         "x": [
          "1970-01-01T00:00:00",
          "1970-01-01T00:37:23",
          "1970-01-01T01:14:46",
          "1970-01-01T01:14:46",
          "1970-01-01T01:14:46",
          "1970-01-01T01:48:06",
          "1970-01-01T02:25:29",
          "1970-01-01T02:25:29",
          "1970-01-01T03:02:52",
          "1970-01-01T03:40:15",
          "1970-01-01T04:17:38",
          "1970-01-01T04:17:38",
          "1970-01-01T04:17:38",
          "1970-01-01T04:50:58",
          "1970-01-01T05:28:21",
          "1970-01-01T05:28:21",
          "1970-01-01T06:05:44",
          "1970-01-01T06:43:07",
          "1970-01-01T07:20:30",
          "1970-01-01T07:20:30",
          "1970-01-01T07:20:30",
          "1970-01-01T07:53:50",
          "1970-01-01T08:31:13",
          "1970-01-01T08:31:13",
          "1970-01-01T09:08:36",
          "1970-01-01T09:45:59",
          "1970-01-01T10:23:22",
          "1970-01-01T10:23:22",
          "1970-01-01T10:23:22",
          "1970-01-01T10:56:42",
          "1970-01-01T11:34:05",
          "1970-01-01T11:34:05",
          "1970-01-01T12:11:28",
          "1970-01-01T12:48:51",
          "1970-01-01T13:26:14",
          "1970-01-01T13:26:14",
          "1970-01-01T13:26:14",
          "1970-01-01T13:59:34",
          "1970-01-01T13:59:34",
          "1970-01-01T13:59:34",
          "1970-01-01T14:32:54",
          "1970-01-01T15:20:15",
          "1970-01-01T15:20:15",
          "1970-01-01T16:07:36",
          "1970-01-01T16:54:57",
          "1970-01-01T17:42:18",
          "1970-01-01T17:42:18",
          "1970-01-01T17:42:18",
          "1970-01-01T18:15:38",
          "1970-01-01T19:02:59",
          "1970-01-01T19:02:59",
          "1970-01-01T19:50:20",
          "1970-01-01T20:37:41",
          "1970-01-01T21:25:02",
          "1970-01-01T21:25:02",
          "1970-01-01T21:25:02",
          "1970-01-01T21:58:22",
          "1970-01-01T22:45:43",
          "1970-01-01T22:45:43",
          "1970-01-01T23:33:04",
          "1970-01-02T00:20:25",
          "1970-01-02T01:07:46",
          "1970-01-02T01:07:46",
          "1970-01-02T01:07:46",
          "1970-01-02T01:41:06",
          "1970-01-02T02:28:27",
          "1970-01-02T02:28:27",
          "1970-01-02T03:15:48",
          "1970-01-02T04:03:09",
          "1970-01-02T04:50:30",
          "1970-01-02T04:50:30",
          "1970-01-02T04:50:30",
          "1970-01-02T05:23:50",
          "1970-01-02T06:11:11",
          "1970-01-02T06:11:11"
         ],
         "y": [
          "barge_1",
          "barge_1",
          "barge_1",
          "cutter",
          "from_site",
          "barge_1",
          "barge_1",
          "to_site",
          "barge_1",
          "barge_1",
          "barge_1",
          "cutter",
          "from_site",
          "barge_1",
          "barge_1",
          "to_site",
          "barge_1",
          "barge_1",
          "barge_1",
          "cutter",
          "from_site",
          "barge_1",
          "barge_1",
          "to_site",
          "barge_1",
          "barge_1",
          "barge_1",
          "cutter",
          "from_site",
          "barge_1",
          "barge_1",
          "to_site",
          "barge_1",
          "barge_1",
          "barge_1",
          "cutter",
          "from_site",
          "barge_2",
          "cutter",
          "from_site",
          "barge_2",
          "barge_2",
          "to_site",
          "barge_2",
          "barge_2",
          "barge_2",
          "cutter",
          "from_site",
          "barge_2",
          "barge_2",
          "to_site",
          "barge_2",
          "barge_2",
          "barge_2",
          "cutter",
          "from_site",
          "barge_2",
          "barge_2",
          "to_site",
          "barge_2",
          "barge_2",
          "barge_2",
          "cutter",
          "from_site",
          "barge_2",
          "barge_2",
          "to_site",
          "barge_2",
          "barge_2",
          "barge_2",
          "cutter",
          "from_site",
          "barge_2",
          "barge_2",
          "to_site"
         ]
        }
       ],
       "layout": {
        "hovermode": "closest",
        "legend": {
         "orientation": "h",
         "x": 0,
         "y": -0.2
        },
        "template": {
         "data": {
          "bar": [
           {
            "error_x": {
             "color": "#2a3f5f"
            },
            "error_y": {
             "color": "#2a3f5f"
            },
            "marker": {
             "line": {
              "color": "#E5ECF6",
              "width": 0.5
             },
             "pattern": {
              "fillmode": "overlay",
              "size": 10,
              "solidity": 0.2
             }
            },
            "type": "bar"
           }
          ],
          "barpolar": [
           {
            "marker": {
             "line": {
              "color": "#E5ECF6",
              "width": 0.5
             },
             "pattern": {
              "fillmode": "overlay",
              "size": 10,
              "solidity": 0.2
             }
            },
            "type": "barpolar"
           }
          ],
          "carpet": [
           {
            "aaxis": {
             "endlinecolor": "#2a3f5f",
             "gridcolor": "white",
             "linecolor": "white",
             "minorgridcolor": "white",
             "startlinecolor": "#2a3f5f"
            },
            "baxis": {
             "endlinecolor": "#2a3f5f",
             "gridcolor": "white",
             "linecolor": "white",
             "minorgridcolor": "white",
             "startlinecolor": "#2a3f5f"
            },
            "type": "carpet"
           }
          ],
          "choropleth": [
           {
            "colorbar": {
             "outlinewidth": 0,
             "ticks": ""
            },
            "type": "choropleth"
           }
          ],
          "contour": [
           {
            "colorbar": {
             "outlinewidth": 0,
             "ticks": ""
            },
            "colorscale": [
             [
              0,
              "#0d0887"
             ],
             [
              0.1111111111111111,
              "#46039f"
             ],
             [
              0.2222222222222222,
              "#7201a8"
             ],
             [
              0.3333333333333333,
              "#9c179e"
             ],
             [
              0.4444444444444444,
              "#bd3786"
             ],
             [
              0.5555555555555556,
              "#d8576b"
             ],
             [
              0.6666666666666666,
              "#ed7953"
             ],
             [
              0.7777777777777778,
              "#fb9f3a"
             ],
             [
              0.8888888888888888,
              "#fdca26"
             ],
             [
              1,
              "#f0f921"
             ]
            ],
            "type": "contour"
           }
          ],
          "contourcarpet": [
           {
            "colorbar": {
             "outlinewidth": 0,
             "ticks": ""
            },
            "type": "contourcarpet"
           }
          ],
          "heatmap": [
           {
            "colorbar": {
             "outlinewidth": 0,
             "ticks": ""
            },
            "colorscale": [
             [
              0,
              "#0d0887"
             ],
             [
              0.1111111111111111,
              "#46039f"
             ],
             [
              0.2222222222222222,
              "#7201a8"
             ],
             [
              0.3333333333333333,
              "#9c179e"
             ],
             [
              0.4444444444444444,
              "#bd3786"
             ],
             [
              0.5555555555555556,
              "#d8576b"
             ],
             [
              0.6666666666666666,
              "#ed7953"
             ],
             [
              0.7777777777777778,
              "#fb9f3a"
             ],
             [
              0.8888888888888888,
              "#fdca26"
             ],
             [
              1,
              "#f0f921"
             ]
            ],
            "type": "heatmap"
           }
          ],
          "heatmapgl": [
           {
            "colorbar": {
             "outlinewidth": 0,
             "ticks": ""
            },
            "colorscale": [
             [
              0,
              "#0d0887"
             ],
             [
              0.1111111111111111,
              "#46039f"
             ],
             [
              0.2222222222222222,
              "#7201a8"
             ],
             [
              0.3333333333333333,
              "#9c179e"
             ],
             [
              0.4444444444444444,
              "#bd3786"
             ],
             [
              0.5555555555555556,
              "#d8576b"
             ],
             [
              0.6666666666666666,
              "#ed7953"
             ],
             [
              0.7777777777777778,
              "#fb9f3a"
             ],
             [
              0.8888888888888888,
              "#fdca26"
             ],
             [
              1,
              "#f0f921"
             ]
            ],
            "type": "heatmapgl"
           }
          ],
          "histogram": [
           {
            "marker": {
             "pattern": {
              "fillmode": "overlay",
              "size": 10,
              "solidity": 0.2
             }
            },
            "type": "histogram"
           }
          ],
          "histogram2d": [
           {
            "colorbar": {
             "outlinewidth": 0,
             "ticks": ""
            },
            "colorscale": [
             [
              0,
              "#0d0887"
             ],
             [
              0.1111111111111111,
              "#46039f"
             ],
             [
              0.2222222222222222,
              "#7201a8"
             ],
             [
              0.3333333333333333,
              "#9c179e"
             ],
             [
              0.4444444444444444,
              "#bd3786"
             ],
             [
              0.5555555555555556,
              "#d8576b"
             ],
             [
              0.6666666666666666,
              "#ed7953"
             ],
             [
              0.7777777777777778,
              "#fb9f3a"
             ],
             [
              0.8888888888888888,
              "#fdca26"
             ],
             [
              1,
              "#f0f921"
             ]
            ],
            "type": "histogram2d"
           }
          ],
          "histogram2dcontour": [
           {
            "colorbar": {
             "outlinewidth": 0,
             "ticks": ""
            },
            "colorscale": [
             [
              0,
              "#0d0887"
             ],
             [
              0.1111111111111111,
              "#46039f"
             ],
             [
              0.2222222222222222,
              "#7201a8"
             ],
             [
              0.3333333333333333,
              "#9c179e"
             ],
             [
              0.4444444444444444,
              "#bd3786"
             ],
             [
              0.5555555555555556,
              "#d8576b"
             ],
             [
              0.6666666666666666,
              "#ed7953"
             ],
             [
              0.7777777777777778,
              "#fb9f3a"
             ],
             [
              0.8888888888888888,
              "#fdca26"
             ],
             [
              1,
              "#f0f921"
             ]
            ],
            "type": "histogram2dcontour"
           }
          ],
          "mesh3d": [
           {
            "colorbar": {
             "outlinewidth": 0,
             "ticks": ""
            },
            "type": "mesh3d"
           }
          ],
          "parcoords": [
           {
            "line": {
             "colorbar": {
              "outlinewidth": 0,
              "ticks": ""
             }
            },
            "type": "parcoords"
           }
          ],
          "pie": [
           {
            "automargin": true,
            "type": "pie"
           }
          ],
          "scatter": [
           {
            "fillpattern": {
             "fillmode": "overlay",
             "size": 10,
             "solidity": 0.2
            },
            "type": "scatter"
           }
          ],
          "scatter3d": [
           {
            "line": {
             "colorbar": {
              "outlinewidth": 0,
              "ticks": ""
             }
            },
            "marker": {
             "colorbar": {
              "outlinewidth": 0,
              "ticks": ""
             }
            },
            "type": "scatter3d"
           }
          ],
          "scattercarpet": [
           {
            "marker": {
             "colorbar": {
              "outlinewidth": 0,
              "ticks": ""
             }
            },
            "type": "scattercarpet"
           }
          ],
          "scattergeo": [
           {
            "marker": {
             "colorbar": {
              "outlinewidth": 0,
              "ticks": ""
             }
            },
            "type": "scattergeo"
           }
          ],
          "scattergl": [
           {
            "marker": {
             "colorbar": {
              "outlinewidth": 0,
              "ticks": ""
             }
            },
            "type": "scattergl"
           }
          ],
          "scattermapbox": [
           {
            "marker": {
             "colorbar": {
              "outlinewidth": 0,
              "ticks": ""
             }
            },
            "type": "scattermapbox"
           }
          ],
          "scatterpolar": [
           {
            "marker": {
             "colorbar": {
              "outlinewidth": 0,
              "ticks": ""
             }
            },
            "type": "scatterpolar"
           }
          ],
          "scatterpolargl": [
           {
            "marker": {
             "colorbar": {
              "outlinewidth": 0,
              "ticks": ""
             }
            },
            "type": "scatterpolargl"
           }
          ],
          "scatterternary": [
           {
            "marker": {
             "colorbar": {
              "outlinewidth": 0,
              "ticks": ""
             }
            },
            "type": "scatterternary"
           }
          ],
          "surface": [
           {
            "colorbar": {
             "outlinewidth": 0,
             "ticks": ""
            },
            "colorscale": [
             [
              0,
              "#0d0887"
             ],
             [
              0.1111111111111111,
              "#46039f"
             ],
             [
              0.2222222222222222,
              "#7201a8"
             ],
             [
              0.3333333333333333,
              "#9c179e"
             ],
             [
              0.4444444444444444,
              "#bd3786"
             ],
             [
              0.5555555555555556,
              "#d8576b"
             ],
             [
              0.6666666666666666,
              "#ed7953"
             ],
             [
              0.7777777777777778,
              "#fb9f3a"
             ],
             [
              0.8888888888888888,
              "#fdca26"
             ],
             [
              1,
              "#f0f921"
             ]
            ],
            "type": "surface"
           }
          ],
          "table": [
           {
            "cells": {
             "fill": {
              "color": "#EBF0F8"
             },
             "line": {
              "color": "white"
             }
            },
            "header": {
             "fill": {
              "color": "#C8D4E3"
             },
             "line": {
              "color": "white"
             }
            },
            "type": "table"
           }
          ]
         },
         "layout": {
          "annotationdefaults": {
           "arrowcolor": "#2a3f5f",
           "arrowhead": 0,
           "arrowwidth": 1
          },
          "autotypenumbers": "strict",
          "coloraxis": {
           "colorbar": {
            "outlinewidth": 0,
            "ticks": ""
           }
          },
          "colorscale": {
           "diverging": [
            [
             0,
             "#8e0152"
            ],
            [
             0.1,
             "#c51b7d"
            ],
            [
             0.2,
             "#de77ae"
            ],
            [
             0.3,
             "#f1b6da"
            ],
            [
             0.4,
             "#fde0ef"
            ],
            [
             0.5,
             "#f7f7f7"
            ],
            [
             0.6,
             "#e6f5d0"
            ],
            [
             0.7,
             "#b8e186"
            ],
            [
             0.8,
             "#7fbc41"
            ],
            [
             0.9,
             "#4d9221"
            ],
            [
             1,
             "#276419"
            ]
           ],
           "sequential": [
            [
             0,
             "#0d0887"
            ],
            [
             0.1111111111111111,
             "#46039f"
            ],
            [
             0.2222222222222222,
             "#7201a8"
            ],
            [
             0.3333333333333333,
             "#9c179e"
            ],
            [
             0.4444444444444444,
             "#bd3786"
            ],
            [
             0.5555555555555556,
             "#d8576b"
            ],
            [
             0.6666666666666666,
             "#ed7953"
            ],
            [
             0.7777777777777778,
             "#fb9f3a"
            ],
            [
             0.8888888888888888,
             "#fdca26"
            ],
            [
             1,
             "#f0f921"
            ]
           ],
           "sequentialminus": [
            [
             0,
             "#0d0887"
            ],
            [
             0.1111111111111111,
             "#46039f"
            ],
            [
             0.2222222222222222,
             "#7201a8"
            ],
            [
             0.3333333333333333,
             "#9c179e"
            ],
            [
             0.4444444444444444,
             "#bd3786"
            ],
            [
             0.5555555555555556,
             "#d8576b"
            ],
            [
             0.6666666666666666,
             "#ed7953"
            ],
            [
             0.7777777777777778,
             "#fb9f3a"
            ],
            [
             0.8888888888888888,
             "#fdca26"
            ],
            [
             1,
             "#f0f921"
            ]
           ]
          },
          "colorway": [
           "#636efa",
           "#EF553B",
           "#00cc96",
           "#ab63fa",
           "#FFA15A",
           "#19d3f3",
           "#FF6692",
           "#B6E880",
           "#FF97FF",
           "#FECB52"
          ],
          "font": {
           "color": "#2a3f5f"
          },
          "geo": {
           "bgcolor": "white",
           "lakecolor": "white",
           "landcolor": "#E5ECF6",
           "showlakes": true,
           "showland": true,
           "subunitcolor": "white"
          },
          "hoverlabel": {
           "align": "left"
          },
          "hovermode": "closest",
          "mapbox": {
           "style": "light"
          },
          "paper_bgcolor": "white",
          "plot_bgcolor": "#E5ECF6",
          "polar": {
           "angularaxis": {
            "gridcolor": "white",
            "linecolor": "white",
            "ticks": ""
           },
           "bgcolor": "#E5ECF6",
           "radialaxis": {
            "gridcolor": "white",
            "linecolor": "white",
            "ticks": ""
           }
          },
          "scene": {
           "xaxis": {
            "backgroundcolor": "#E5ECF6",
            "gridcolor": "white",
            "gridwidth": 2,
            "linecolor": "white",
            "showbackground": true,
            "ticks": "",
            "zerolinecolor": "white"
           },
           "yaxis": {
            "backgroundcolor": "#E5ECF6",
            "gridcolor": "white",
            "gridwidth": 2,
            "linecolor": "white",
            "showbackground": true,
            "ticks": "",
            "zerolinecolor": "white"
           },
           "zaxis": {
            "backgroundcolor": "#E5ECF6",
            "gridcolor": "white",
            "gridwidth": 2,
            "linecolor": "white",
            "showbackground": true,
            "ticks": "",
            "zerolinecolor": "white"
           }
          },
          "shapedefaults": {
           "line": {
            "color": "#2a3f5f"
           }
          },
          "ternary": {
           "aaxis": {
            "gridcolor": "white",
            "linecolor": "white",
            "ticks": ""
           },
           "baxis": {
            "gridcolor": "white",
            "linecolor": "white",
            "ticks": ""
           },
           "bgcolor": "#E5ECF6",
           "caxis": {
            "gridcolor": "white",
            "linecolor": "white",
            "ticks": ""
           }
          },
          "title": {
           "x": 0.05
          },
          "xaxis": {
           "automargin": true,
           "gridcolor": "white",
           "linecolor": "white",
           "ticks": "",
           "title": {
            "standoff": 15
           },
           "zerolinecolor": "white",
           "zerolinewidth": 2
          },
          "yaxis": {
           "automargin": true,
           "gridcolor": "white",
           "linecolor": "white",
           "ticks": "",
           "title": {
            "standoff": 15
           },
           "zerolinecolor": "white",
           "zerolinewidth": 2
          }
         }
        },
        "title": {
         "text": "GANTT Chart"
        },
        "xaxis": {
         "range": [
          "1970-01-01T00:00:00",
          "1970-01-02T06:58:32"
         ],
         "title": {
          "font": {
           "color": "#7f7f7f",
           "family": "Courier New, monospace",
           "size": 18
          },
          "text": "Time"
         }
        },
        "yaxis": {
         "title": {
          "font": {
           "color": "#7f7f7f",
           "family": "Courier New, monospace",
           "size": 18
          },
          "text": "Activities"
         }
        }
       }
      },
      "text/html": [
       "<div>                            <div id=\"4e6ff319-a02e-4e8a-9b7a-d47a2d0f32db\" class=\"plotly-graph-div\" style=\"height:525px; width:100%;\"></div>            <script type=\"text/javascript\">                require([\"plotly\"], function(Plotly) {                    window.PLOTLYENV=window.PLOTLYENV || {};                                    if (document.getElementById(\"4e6ff319-a02e-4e8a-9b7a-d47a2d0f32db\")) {                    Plotly.newPlot(                        \"4e6ff319-a02e-4e8a-9b7a-d47a2d0f32db\",                        [{\"connectgaps\":false,\"hoverinfo\":\"y+name\",\"line\":{\"color\":\"#ff0000\",\"width\":10},\"mode\":\"lines\",\"name\":\"basic activity:barge_0\",\"x\":[\"1970-01-01T00:00:00\",\"1970-01-01T00:43:37\",\"1970-01-01T00:43:37\",\"1970-01-01T03:48:40\",\"1970-01-01T04:32:17\",\"1970-01-01T04:32:17\",\"1970-01-01T07:16:28\",\"1970-01-01T08:00:05\",\"1970-01-01T08:00:05\",\"1970-01-01T10:44:16\",\"1970-01-01T11:27:53\",\"1970-01-01T11:27:53\",\"1970-01-01T14:12:04\",\"1970-01-01T14:55:41\",\"1970-01-01T14:55:41\",\"1970-01-01T17:39:52\",\"1970-01-01T18:23:29\",\"1970-01-01T18:23:29\",\"1970-01-01T21:07:40\",\"1970-01-01T21:51:17\",\"1970-01-01T21:51:17\",\"1970-01-02T00:35:28\",\"1970-01-02T01:19:05\",\"1970-01-02T01:19:05\"],\"y\":[\"barge_0\",\"barge_0\",null,\"barge_0\",\"barge_0\",null,\"barge_0\",\"barge_0\",null,\"barge_0\",\"barge_0\",null,\"barge_0\",\"barge_0\",null,\"barge_0\",\"barge_0\",null,\"barge_0\",\"barge_0\",null,\"barge_0\",\"barge_0\",null,\"barge_0\",\"barge_0\",null,\"barge_0\",\"barge_0\",null,\"barge_0\",\"barge_0\",null,\"barge_0\",\"barge_0\",null,\"barge_0\",\"barge_0\",null,\"barge_0\",\"barge_0\",null,\"barge_0\",\"barge_0\",null,\"barge_0\",\"barge_0\",null,\"barge_0\",\"barge_0\",null,\"barge_0\",\"barge_0\",null,\"barge_0\",\"barge_0\",null,\"barge_0\",\"barge_0\",null,\"barge_0\",\"barge_0\",null,\"barge_0\",\"barge_0\",null,\"barge_0\",\"barge_0\",null,\"barge_0\",\"barge_0\",null],\"type\":\"scatter\"},{\"connectgaps\":false,\"hoverinfo\":\"y+name\",\"line\":{\"color\":\"#bfbfbf\",\"width\":10},\"mode\":\"lines\",\"name\":\"sailing empty:barge_0\",\"x\":[\"1970-01-01T00:43:37\",\"1970-01-01T01:27:14\",\"1970-01-01T01:27:14\",\"1970-01-01T04:32:17\",\"1970-01-01T05:15:54\",\"1970-01-01T05:15:54\",\"1970-01-01T08:00:05\",\"1970-01-01T08:43:42\",\"1970-01-01T08:43:42\",\"1970-01-01T11:27:53\",\"1970-01-01T12:11:30\",\"1970-01-01T12:11:30\",\"1970-01-01T14:55:41\",\"1970-01-01T15:39:18\",\"1970-01-01T15:39:18\",\"1970-01-01T18:23:29\",\"1970-01-01T19:07:06\",\"1970-01-01T19:07:06\",\"1970-01-01T21:51:17\",\"1970-01-01T22:34:54\",\"1970-01-01T22:34:54\",\"1970-01-02T01:19:05\",\"1970-01-02T02:02:42\",\"1970-01-02T02:02:42\"],\"y\":[\"barge_0\",\"barge_0\",null,\"barge_0\",\"barge_0\",null,\"barge_0\",\"barge_0\",null,\"barge_0\",\"barge_0\",null,\"barge_0\",\"barge_0\",null,\"barge_0\",\"barge_0\",null,\"barge_0\",\"barge_0\",null,\"barge_0\",\"barge_0\",null,\"barge_0\",\"barge_0\",null,\"barge_0\",\"barge_0\",null,\"barge_0\",\"barge_0\",null,\"barge_0\",\"barge_0\",null,\"barge_0\",\"barge_0\",null,\"barge_0\",\"barge_0\",null,\"barge_0\",\"barge_0\",null,\"barge_0\",\"barge_0\",null,\"barge_0\",\"barge_0\",null,\"barge_0\",\"barge_0\",null,\"barge_0\",\"barge_0\",null,\"barge_0\",\"barge_0\",null,\"barge_0\",\"barge_0\",null,\"barge_0\",\"barge_0\",null,\"barge_0\",\"barge_0\",null,\"barge_0\",\"barge_0\",null],\"type\":\"scatter\"},{\"connectgaps\":false,\"hoverinfo\":\"y+name\",\"line\":{\"color\":\"#305496\",\"width\":10},\"mode\":\"lines\",\"name\":\"loading:barge_0\",\"x\":[\"1970-01-01T01:48:06\",\"1970-01-01T02:21:26\",\"1970-01-01T02:21:26\",\"1970-01-01T05:15:54\",\"1970-01-01T05:49:14\",\"1970-01-01T05:49:14\",\"1970-01-01T08:43:42\",\"1970-01-01T09:17:02\",\"1970-01-01T09:17:02\",\"1970-01-01T12:11:30\",\"1970-01-01T12:44:50\",\"1970-01-01T12:44:50\",\"1970-01-01T15:39:18\",\"1970-01-01T16:12:38\",\"1970-01-01T16:12:38\",\"1970-01-01T19:07:06\",\"1970-01-01T19:40:26\",\"1970-01-01T19:40:26\",\"1970-01-01T22:34:54\",\"1970-01-01T23:08:14\",\"1970-01-01T23:08:14\",\"1970-01-02T02:02:42\",\"1970-01-02T02:36:02\",\"1970-01-02T02:36:02\"],\"y\":[\"barge_0\",\"barge_0\",null,\"barge_0\",\"barge_0\",null,\"barge_0\",\"barge_0\",null,\"barge_0\",\"barge_0\",null,\"barge_0\",\"barge_0\",null,\"barge_0\",\"barge_0\",null,\"barge_0\",\"barge_0\",null,\"barge_0\",\"barge_0\",null,\"barge_0\",\"barge_0\",null,\"barge_0\",\"barge_0\",null,\"barge_0\",\"barge_0\",null,\"barge_0\",\"barge_0\",null,\"barge_0\",\"barge_0\",null,\"barge_0\",\"barge_0\",null,\"barge_0\",\"barge_0\",null,\"barge_0\",\"barge_0\",null,\"barge_0\",\"barge_0\",null,\"barge_0\",\"barge_0\",null,\"barge_0\",\"barge_0\",null,\"barge_0\",\"barge_0\",null,\"barge_0\",\"barge_0\",null,\"barge_0\",\"barge_0\",null,\"barge_0\",\"barge_0\",null,\"barge_0\",\"barge_0\",null],\"type\":\"scatter\"},{\"connectgaps\":false,\"hoverinfo\":\"y+name\",\"line\":{\"color\":\"#00b0f0\",\"width\":10},\"mode\":\"lines\",\"name\":\"sailing full:barge_0\",\"x\":[\"1970-01-01T02:21:26\",\"1970-01-01T03:05:03\",\"1970-01-01T03:05:03\",\"1970-01-01T05:49:14\",\"1970-01-01T06:32:51\",\"1970-01-01T06:32:51\",\"1970-01-01T09:17:02\",\"1970-01-01T10:00:39\",\"1970-01-01T10:00:39\",\"1970-01-01T12:44:50\",\"1970-01-01T13:28:27\",\"1970-01-01T13:28:27\",\"1970-01-01T16:12:38\",\"1970-01-01T16:56:15\",\"1970-01-01T16:56:15\",\"1970-01-01T19:40:26\",\"1970-01-01T20:24:03\",\"1970-01-01T20:24:03\",\"1970-01-01T23:08:14\",\"1970-01-01T23:51:51\",\"1970-01-01T23:51:51\",\"1970-01-02T02:36:02\",\"1970-01-02T03:19:39\",\"1970-01-02T03:19:39\"],\"y\":[\"barge_0\",\"barge_0\",null,\"barge_0\",\"barge_0\",null,\"barge_0\",\"barge_0\",null,\"barge_0\",\"barge_0\",null,\"barge_0\",\"barge_0\",null,\"barge_0\",\"barge_0\",null,\"barge_0\",\"barge_0\",null,\"barge_0\",\"barge_0\",null,\"barge_0\",\"barge_0\",null,\"barge_0\",\"barge_0\",null,\"barge_0\",\"barge_0\",null,\"barge_0\",\"barge_0\",null,\"barge_0\",\"barge_0\",null,\"barge_0\",\"barge_0\",null,\"barge_0\",\"barge_0\",null,\"barge_0\",\"barge_0\",null,\"barge_0\",\"barge_0\",null,\"barge_0\",\"barge_0\",null,\"barge_0\",\"barge_0\",null,\"barge_0\",\"barge_0\",null,\"barge_0\",\"barge_0\",null,\"barge_0\",\"barge_0\",null,\"barge_0\",\"barge_0\",null,\"barge_0\",\"barge_0\",null],\"type\":\"scatter\"},{\"connectgaps\":false,\"hoverinfo\":\"y+name\",\"line\":{\"color\":\"#ffff00\",\"width\":10},\"mode\":\"lines\",\"name\":\"unloading:barge_0\",\"x\":[\"1970-01-01T03:05:03\",\"1970-01-01T03:48:40\",\"1970-01-01T03:48:40\",\"1970-01-01T06:32:51\",\"1970-01-01T07:16:28\",\"1970-01-01T07:16:28\",\"1970-01-01T10:00:39\",\"1970-01-01T10:44:16\",\"1970-01-01T10:44:16\",\"1970-01-01T13:28:27\",\"1970-01-01T14:12:04\",\"1970-01-01T14:12:04\",\"1970-01-01T16:56:15\",\"1970-01-01T17:39:52\",\"1970-01-01T17:39:52\",\"1970-01-01T20:24:03\",\"1970-01-01T21:07:40\",\"1970-01-01T21:07:40\",\"1970-01-01T23:51:51\",\"1970-01-02T00:35:28\",\"1970-01-02T00:35:28\",\"1970-01-02T03:19:39\",\"1970-01-02T04:03:16\",\"1970-01-02T04:03:16\"],\"y\":[\"barge_0\",\"barge_0\",null,\"barge_0\",\"barge_0\",null,\"barge_0\",\"barge_0\",null,\"barge_0\",\"barge_0\",null,\"barge_0\",\"barge_0\",null,\"barge_0\",\"barge_0\",null,\"barge_0\",\"barge_0\",null,\"barge_0\",\"barge_0\",null,\"barge_0\",\"barge_0\",null,\"barge_0\",\"barge_0\",null,\"barge_0\",\"barge_0\",null,\"barge_0\",\"barge_0\",null,\"barge_0\",\"barge_0\",null,\"barge_0\",\"barge_0\",null,\"barge_0\",\"barge_0\",null,\"barge_0\",\"barge_0\",null,\"barge_0\",\"barge_0\",null,\"barge_0\",\"barge_0\",null,\"barge_0\",\"barge_0\",null,\"barge_0\",\"barge_0\",null,\"barge_0\",\"barge_0\",null,\"barge_0\",\"barge_0\",null,\"barge_0\",\"barge_0\",null,\"barge_0\",\"barge_0\",null],\"type\":\"scatter\"},{\"connectgaps\":false,\"hoverinfo\":\"y+name\",\"line\":{\"color\":\"#00b050\",\"width\":10},\"mode\":\"lines\",\"name\":\"basic activity:barge_1\",\"x\":[\"1970-01-01T00:00:00\",\"1970-01-01T00:37:23\",\"1970-01-01T00:37:23\",\"1970-01-01T03:02:52\",\"1970-01-01T03:40:15\",\"1970-01-01T03:40:15\",\"1970-01-01T06:05:44\",\"1970-01-01T06:43:07\",\"1970-01-01T06:43:07\",\"1970-01-01T09:08:36\",\"1970-01-01T09:45:59\",\"1970-01-01T09:45:59\",\"1970-01-01T12:11:28\",\"1970-01-01T12:48:51\",\"1970-01-01T12:48:51\",\"1970-01-01T15:14:20\",\"1970-01-01T15:51:43\",\"1970-01-01T15:51:43\",\"1970-01-01T18:17:12\",\"1970-01-01T18:54:35\",\"1970-01-01T18:54:35\",\"1970-01-01T21:28:32\",\"1970-01-01T22:05:55\",\"1970-01-01T22:05:55\",\"1970-01-02T00:56:20\",\"1970-01-02T01:33:43\",\"1970-01-02T01:33:43\"],\"y\":[\"barge_1\",\"barge_1\",null,\"barge_1\",\"barge_1\",null,\"barge_1\",\"barge_1\",null,\"barge_1\",\"barge_1\",null,\"barge_1\",\"barge_1\",null,\"barge_1\",\"barge_1\",null,\"barge_1\",\"barge_1\",null,\"barge_1\",\"barge_1\",null,\"barge_1\",\"barge_1\",null,\"barge_1\",\"barge_1\",null,\"barge_1\",\"barge_1\",null,\"barge_1\",\"barge_1\",null,\"barge_1\",\"barge_1\",null,\"barge_1\",\"barge_1\",null,\"barge_1\",\"barge_1\",null,\"barge_1\",\"barge_1\",null,\"barge_1\",\"barge_1\",null,\"barge_1\",\"barge_1\",null,\"barge_1\",\"barge_1\",null,\"barge_1\",\"barge_1\",null,\"barge_1\",\"barge_1\",null,\"barge_1\",\"barge_1\",null,\"barge_1\",\"barge_1\",null,\"barge_1\",\"barge_1\",null,\"barge_1\",\"barge_1\",null,\"barge_1\",\"barge_1\",null,\"barge_1\",\"barge_1\",null],\"type\":\"scatter\"},{\"connectgaps\":false,\"hoverinfo\":\"y+name\",\"line\":{\"color\":\"#990101\",\"width\":10},\"mode\":\"lines\",\"name\":\"sailing empty:barge_1\",\"x\":[\"1970-01-01T00:37:23\",\"1970-01-01T01:14:46\",\"1970-01-01T01:14:46\",\"1970-01-01T03:40:15\",\"1970-01-01T04:17:38\",\"1970-01-01T04:17:38\",\"1970-01-01T06:43:07\",\"1970-01-01T07:20:30\",\"1970-01-01T07:20:30\",\"1970-01-01T09:45:59\",\"1970-01-01T10:23:22\",\"1970-01-01T10:23:22\",\"1970-01-01T12:48:51\",\"1970-01-01T13:26:14\",\"1970-01-01T13:26:14\",\"1970-01-01T15:51:43\",\"1970-01-01T16:29:06\",\"1970-01-01T16:29:06\",\"1970-01-01T18:54:35\",\"1970-01-01T19:31:58\",\"1970-01-01T19:31:58\",\"1970-01-01T22:05:55\",\"1970-01-01T22:43:18\",\"1970-01-01T22:43:18\",\"1970-01-02T01:33:43\",\"1970-01-02T02:11:06\",\"1970-01-02T02:11:06\"],\"y\":[\"barge_1\",\"barge_1\",null,\"barge_1\",\"barge_1\",null,\"barge_1\",\"barge_1\",null,\"barge_1\",\"barge_1\",null,\"barge_1\",\"barge_1\",null,\"barge_1\",\"barge_1\",null,\"barge_1\",\"barge_1\",null,\"barge_1\",\"barge_1\",null,\"barge_1\",\"barge_1\",null,\"barge_1\",\"barge_1\",null,\"barge_1\",\"barge_1\",null,\"barge_1\",\"barge_1\",null,\"barge_1\",\"barge_1\",null,\"barge_1\",\"barge_1\",null,\"barge_1\",\"barge_1\",null,\"barge_1\",\"barge_1\",null,\"barge_1\",\"barge_1\",null,\"barge_1\",\"barge_1\",null,\"barge_1\",\"barge_1\",null,\"barge_1\",\"barge_1\",null,\"barge_1\",\"barge_1\",null,\"barge_1\",\"barge_1\",null,\"barge_1\",\"barge_1\",null,\"barge_1\",\"barge_1\",null,\"barge_1\",\"barge_1\",null,\"barge_1\",\"barge_1\",null,\"barge_1\",\"barge_1\",null],\"type\":\"scatter\"},{\"connectgaps\":false,\"hoverinfo\":\"y+name\",\"line\":{\"color\":\"#ED7D31\",\"width\":10},\"mode\":\"lines\",\"name\":\"loading:barge_1\",\"x\":[\"1970-01-01T01:14:46\",\"1970-01-01T01:48:06\",\"1970-01-01T01:48:06\",\"1970-01-01T04:17:38\",\"1970-01-01T04:50:58\",\"1970-01-01T04:50:58\",\"1970-01-01T07:20:30\",\"1970-01-01T07:53:50\",\"1970-01-01T07:53:50\",\"1970-01-01T10:23:22\",\"1970-01-01T10:56:42\",\"1970-01-01T10:56:42\",\"1970-01-01T13:26:14\",\"1970-01-01T13:59:34\",\"1970-01-01T13:59:34\",\"1970-01-01T16:29:06\",\"1970-01-01T17:02:26\",\"1970-01-01T17:02:26\",\"1970-01-01T19:40:26\",\"1970-01-01T20:13:46\",\"1970-01-01T20:13:46\",\"1970-01-01T23:08:14\",\"1970-01-01T23:41:34\",\"1970-01-01T23:41:34\",\"1970-01-02T02:36:02\",\"1970-01-02T03:09:22\",\"1970-01-02T03:09:22\"],\"y\":[\"barge_1\",\"barge_1\",null,\"barge_1\",\"barge_1\",null,\"barge_1\",\"barge_1\",null,\"barge_1\",\"barge_1\",null,\"barge_1\",\"barge_1\",null,\"barge_1\",\"barge_1\",null,\"barge_1\",\"barge_1\",null,\"barge_1\",\"barge_1\",null,\"barge_1\",\"barge_1\",null,\"barge_1\",\"barge_1\",null,\"barge_1\",\"barge_1\",null,\"barge_1\",\"barge_1\",null,\"barge_1\",\"barge_1\",null,\"barge_1\",\"barge_1\",null,\"barge_1\",\"barge_1\",null,\"barge_1\",\"barge_1\",null,\"barge_1\",\"barge_1\",null,\"barge_1\",\"barge_1\",null,\"barge_1\",\"barge_1\",null,\"barge_1\",\"barge_1\",null,\"barge_1\",\"barge_1\",null,\"barge_1\",\"barge_1\",null,\"barge_1\",\"barge_1\",null,\"barge_1\",\"barge_1\",null,\"barge_1\",\"barge_1\",null,\"barge_1\",\"barge_1\",null,\"barge_1\",\"barge_1\",null],\"type\":\"scatter\"},{\"connectgaps\":false,\"hoverinfo\":\"y+name\",\"line\":{\"color\":\"#7030A0\",\"width\":10},\"mode\":\"lines\",\"name\":\"sailing full:barge_1\",\"x\":[\"1970-01-01T01:48:06\",\"1970-01-01T02:25:29\",\"1970-01-01T02:25:29\",\"1970-01-01T04:50:58\",\"1970-01-01T05:28:21\",\"1970-01-01T05:28:21\",\"1970-01-01T07:53:50\",\"1970-01-01T08:31:13\",\"1970-01-01T08:31:13\",\"1970-01-01T10:56:42\",\"1970-01-01T11:34:05\",\"1970-01-01T11:34:05\",\"1970-01-01T13:59:34\",\"1970-01-01T14:36:57\",\"1970-01-01T14:36:57\",\"1970-01-01T17:02:26\",\"1970-01-01T17:39:49\",\"1970-01-01T17:39:49\",\"1970-01-01T20:13:46\",\"1970-01-01T20:51:09\",\"1970-01-01T20:51:09\",\"1970-01-01T23:41:34\",\"1970-01-02T00:18:57\",\"1970-01-02T00:18:57\",\"1970-01-02T03:09:22\",\"1970-01-02T03:46:45\",\"1970-01-02T03:46:45\"],\"y\":[\"barge_1\",\"barge_1\",null,\"barge_1\",\"barge_1\",null,\"barge_1\",\"barge_1\",null,\"barge_1\",\"barge_1\",null,\"barge_1\",\"barge_1\",null,\"barge_1\",\"barge_1\",null,\"barge_1\",\"barge_1\",null,\"barge_1\",\"barge_1\",null,\"barge_1\",\"barge_1\",null,\"barge_1\",\"barge_1\",null,\"barge_1\",\"barge_1\",null,\"barge_1\",\"barge_1\",null,\"barge_1\",\"barge_1\",null,\"barge_1\",\"barge_1\",null,\"barge_1\",\"barge_1\",null,\"barge_1\",\"barge_1\",null,\"barge_1\",\"barge_1\",null,\"barge_1\",\"barge_1\",null,\"barge_1\",\"barge_1\",null,\"barge_1\",\"barge_1\",null,\"barge_1\",\"barge_1\",null,\"barge_1\",\"barge_1\",null,\"barge_1\",\"barge_1\",null,\"barge_1\",\"barge_1\",null,\"barge_1\",\"barge_1\",null,\"barge_1\",\"barge_1\",null,\"barge_1\",\"barge_1\",null],\"type\":\"scatter\"},{\"connectgaps\":false,\"hoverinfo\":\"y+name\",\"line\":{\"color\":\"#1EB299\",\"width\":10},\"mode\":\"lines\",\"name\":\"unloading:barge_1\",\"x\":[\"1970-01-01T02:25:29\",\"1970-01-01T03:02:52\",\"1970-01-01T03:02:52\",\"1970-01-01T05:28:21\",\"1970-01-01T06:05:44\",\"1970-01-01T06:05:44\",\"1970-01-01T08:31:13\",\"1970-01-01T09:08:36\",\"1970-01-01T09:08:36\",\"1970-01-01T11:34:05\",\"1970-01-01T12:11:28\",\"1970-01-01T12:11:28\",\"1970-01-01T14:36:57\",\"1970-01-01T15:14:20\",\"1970-01-01T15:14:20\",\"1970-01-01T17:39:49\",\"1970-01-01T18:17:12\",\"1970-01-01T18:17:12\",\"1970-01-01T20:51:09\",\"1970-01-01T21:28:32\",\"1970-01-01T21:28:32\",\"1970-01-02T00:18:57\",\"1970-01-02T00:56:20\",\"1970-01-02T00:56:20\",\"1970-01-02T03:46:45\",\"1970-01-02T04:24:08\",\"1970-01-02T04:24:08\"],\"y\":[\"barge_1\",\"barge_1\",null,\"barge_1\",\"barge_1\",null,\"barge_1\",\"barge_1\",null,\"barge_1\",\"barge_1\",null,\"barge_1\",\"barge_1\",null,\"barge_1\",\"barge_1\",null,\"barge_1\",\"barge_1\",null,\"barge_1\",\"barge_1\",null,\"barge_1\",\"barge_1\",null,\"barge_1\",\"barge_1\",null,\"barge_1\",\"barge_1\",null,\"barge_1\",\"barge_1\",null,\"barge_1\",\"barge_1\",null,\"barge_1\",\"barge_1\",null,\"barge_1\",\"barge_1\",null,\"barge_1\",\"barge_1\",null,\"barge_1\",\"barge_1\",null,\"barge_1\",\"barge_1\",null,\"barge_1\",\"barge_1\",null,\"barge_1\",\"barge_1\",null,\"barge_1\",\"barge_1\",null,\"barge_1\",\"barge_1\",null,\"barge_1\",\"barge_1\",null,\"barge_1\",\"barge_1\",null,\"barge_1\",\"barge_1\",null,\"barge_1\",\"barge_1\",null,\"barge_1\",\"barge_1\",null],\"type\":\"scatter\"},{\"connectgaps\":false,\"hoverinfo\":\"y+name\",\"line\":{\"color\":\"#483700\",\"width\":10},\"mode\":\"lines\",\"name\":\"basic activity:barge_2\",\"x\":[\"1970-01-01T00:00:00\",\"1970-01-01T00:47:21\",\"1970-01-01T00:47:21\",\"1970-01-01T04:29:28\",\"1970-01-01T05:16:49\",\"1970-01-01T05:16:49\",\"1970-01-01T08:12:12\",\"1970-01-01T08:59:33\",\"1970-01-01T08:59:33\",\"1970-01-01T11:54:56\",\"1970-01-01T12:42:17\",\"1970-01-01T12:42:17\",\"1970-01-01T16:07:36\",\"1970-01-01T16:54:57\",\"1970-01-01T16:54:57\",\"1970-01-01T19:50:20\",\"1970-01-01T20:37:41\",\"1970-01-01T20:37:41\",\"1970-01-01T23:33:04\",\"1970-01-02T00:20:25\",\"1970-01-02T00:20:25\",\"1970-01-02T03:15:48\",\"1970-01-02T04:03:09\",\"1970-01-02T04:03:09\"],\"y\":[\"barge_2\",\"barge_2\",null,\"barge_2\",\"barge_2\",null,\"barge_2\",\"barge_2\",null,\"barge_2\",\"barge_2\",null,\"barge_2\",\"barge_2\",null,\"barge_2\",\"barge_2\",null,\"barge_2\",\"barge_2\",null,\"barge_2\",\"barge_2\",null,\"barge_2\",\"barge_2\",null,\"barge_2\",\"barge_2\",null,\"barge_2\",\"barge_2\",null,\"barge_2\",\"barge_2\",null,\"barge_2\",\"barge_2\",null,\"barge_2\",\"barge_2\",null,\"barge_2\",\"barge_2\",null,\"barge_2\",\"barge_2\",null,\"barge_2\",\"barge_2\",null,\"barge_2\",\"barge_2\",null,\"barge_2\",\"barge_2\",null,\"barge_2\",\"barge_2\",null,\"barge_2\",\"barge_2\",null,\"barge_2\",\"barge_2\",null,\"barge_2\",\"barge_2\",null,\"barge_2\",\"barge_2\",null],\"type\":\"scatter\"},{\"connectgaps\":false,\"hoverinfo\":\"y+name\",\"line\":{\"color\":\"#CCECFF\",\"width\":10},\"mode\":\"lines\",\"name\":\"sailing empty:barge_2\",\"x\":[\"1970-01-01T00:47:21\",\"1970-01-01T01:34:42\",\"1970-01-01T01:34:42\",\"1970-01-01T05:16:49\",\"1970-01-01T06:04:10\",\"1970-01-01T06:04:10\",\"1970-01-01T08:59:33\",\"1970-01-01T09:46:54\",\"1970-01-01T09:46:54\",\"1970-01-01T12:42:17\",\"1970-01-01T13:29:38\",\"1970-01-01T13:29:38\",\"1970-01-01T16:54:57\",\"1970-01-01T17:42:18\",\"1970-01-01T17:42:18\",\"1970-01-01T20:37:41\",\"1970-01-01T21:25:02\",\"1970-01-01T21:25:02\",\"1970-01-02T00:20:25\",\"1970-01-02T01:07:46\",\"1970-01-02T01:07:46\",\"1970-01-02T04:03:09\",\"1970-01-02T04:50:30\",\"1970-01-02T04:50:30\"],\"y\":[\"barge_2\",\"barge_2\",null,\"barge_2\",\"barge_2\",null,\"barge_2\",\"barge_2\",null,\"barge_2\",\"barge_2\",null,\"barge_2\",\"barge_2\",null,\"barge_2\",\"barge_2\",null,\"barge_2\",\"barge_2\",null,\"barge_2\",\"barge_2\",null,\"barge_2\",\"barge_2\",null,\"barge_2\",\"barge_2\",null,\"barge_2\",\"barge_2\",null,\"barge_2\",\"barge_2\",null,\"barge_2\",\"barge_2\",null,\"barge_2\",\"barge_2\",null,\"barge_2\",\"barge_2\",null,\"barge_2\",\"barge_2\",null,\"barge_2\",\"barge_2\",null,\"barge_2\",\"barge_2\",null,\"barge_2\",\"barge_2\",null,\"barge_2\",\"barge_2\",null,\"barge_2\",\"barge_2\",null,\"barge_2\",\"barge_2\",null,\"barge_2\",\"barge_2\",null,\"barge_2\",\"barge_2\",null],\"type\":\"scatter\"},{\"connectgaps\":false,\"hoverinfo\":\"y+name\",\"line\":{\"color\":\"#c6e0b4\",\"width\":10},\"mode\":\"lines\",\"name\":\"loading:barge_2\",\"x\":[\"1970-01-01T02:21:26\",\"1970-01-01T02:54:46\",\"1970-01-01T02:54:46\",\"1970-01-01T06:04:10\",\"1970-01-01T06:37:30\",\"1970-01-01T06:37:30\",\"1970-01-01T09:46:54\",\"1970-01-01T10:20:14\",\"1970-01-01T10:20:14\",\"1970-01-01T13:59:34\",\"1970-01-01T14:32:54\",\"1970-01-01T14:32:54\",\"1970-01-01T17:42:18\",\"1970-01-01T18:15:38\",\"1970-01-01T18:15:38\",\"1970-01-01T21:25:02\",\"1970-01-01T21:58:22\",\"1970-01-01T21:58:22\",\"1970-01-02T01:07:46\",\"1970-01-02T01:41:06\",\"1970-01-02T01:41:06\",\"1970-01-02T04:50:30\",\"1970-01-02T05:23:50\",\"1970-01-02T05:23:50\"],\"y\":[\"barge_2\",\"barge_2\",null,\"barge_2\",\"barge_2\",null,\"barge_2\",\"barge_2\",null,\"barge_2\",\"barge_2\",null,\"barge_2\",\"barge_2\",null,\"barge_2\",\"barge_2\",null,\"barge_2\",\"barge_2\",null,\"barge_2\",\"barge_2\",null,\"barge_2\",\"barge_2\",null,\"barge_2\",\"barge_2\",null,\"barge_2\",\"barge_2\",null,\"barge_2\",\"barge_2\",null,\"barge_2\",\"barge_2\",null,\"barge_2\",\"barge_2\",null,\"barge_2\",\"barge_2\",null,\"barge_2\",\"barge_2\",null,\"barge_2\",\"barge_2\",null,\"barge_2\",\"barge_2\",null,\"barge_2\",\"barge_2\",null,\"barge_2\",\"barge_2\",null,\"barge_2\",\"barge_2\",null,\"barge_2\",\"barge_2\",null,\"barge_2\",\"barge_2\",null,\"barge_2\",\"barge_2\",null],\"type\":\"scatter\"},{\"connectgaps\":false,\"hoverinfo\":\"y+name\",\"line\":{\"color\":\"#525252\",\"width\":10},\"mode\":\"lines\",\"name\":\"sailing full:barge_2\",\"x\":[\"1970-01-01T02:54:46\",\"1970-01-01T03:42:07\",\"1970-01-01T03:42:07\",\"1970-01-01T06:37:30\",\"1970-01-01T07:24:51\",\"1970-01-01T07:24:51\",\"1970-01-01T10:20:14\",\"1970-01-01T11:07:35\",\"1970-01-01T11:07:35\",\"1970-01-01T14:32:54\",\"1970-01-01T15:20:15\",\"1970-01-01T15:20:15\",\"1970-01-01T18:15:38\",\"1970-01-01T19:02:59\",\"1970-01-01T19:02:59\",\"1970-01-01T21:58:22\",\"1970-01-01T22:45:43\",\"1970-01-01T22:45:43\",\"1970-01-02T01:41:06\",\"1970-01-02T02:28:27\",\"1970-01-02T02:28:27\",\"1970-01-02T05:23:50\",\"1970-01-02T06:11:11\",\"1970-01-02T06:11:11\"],\"y\":[\"barge_2\",\"barge_2\",null,\"barge_2\",\"barge_2\",null,\"barge_2\",\"barge_2\",null,\"barge_2\",\"barge_2\",null,\"barge_2\",\"barge_2\",null,\"barge_2\",\"barge_2\",null,\"barge_2\",\"barge_2\",null,\"barge_2\",\"barge_2\",null,\"barge_2\",\"barge_2\",null,\"barge_2\",\"barge_2\",null,\"barge_2\",\"barge_2\",null,\"barge_2\",\"barge_2\",null,\"barge_2\",\"barge_2\",null,\"barge_2\",\"barge_2\",null,\"barge_2\",\"barge_2\",null,\"barge_2\",\"barge_2\",null,\"barge_2\",\"barge_2\",null,\"barge_2\",\"barge_2\",null,\"barge_2\",\"barge_2\",null,\"barge_2\",\"barge_2\",null,\"barge_2\",\"barge_2\",null,\"barge_2\",\"barge_2\",null,\"barge_2\",\"barge_2\",null,\"barge_2\",\"barge_2\",null],\"type\":\"scatter\"},{\"connectgaps\":false,\"hoverinfo\":\"y+name\",\"line\":{\"color\":\"#f8cbad\",\"width\":10},\"mode\":\"lines\",\"name\":\"unloading:barge_2\",\"x\":[\"1970-01-01T03:42:07\",\"1970-01-01T04:29:28\",\"1970-01-01T04:29:28\",\"1970-01-01T07:24:51\",\"1970-01-01T08:12:12\",\"1970-01-01T08:12:12\",\"1970-01-01T11:07:35\",\"1970-01-01T11:54:56\",\"1970-01-01T11:54:56\",\"1970-01-01T15:20:15\",\"1970-01-01T16:07:36\",\"1970-01-01T16:07:36\",\"1970-01-01T19:02:59\",\"1970-01-01T19:50:20\",\"1970-01-01T19:50:20\",\"1970-01-01T22:45:43\",\"1970-01-01T23:33:04\",\"1970-01-01T23:33:04\",\"1970-01-02T02:28:27\",\"1970-01-02T03:15:48\",\"1970-01-02T03:15:48\",\"1970-01-02T06:11:11\",\"1970-01-02T06:58:32\",\"1970-01-02T06:58:32\"],\"y\":[\"barge_2\",\"barge_2\",null,\"barge_2\",\"barge_2\",null,\"barge_2\",\"barge_2\",null,\"barge_2\",\"barge_2\",null,\"barge_2\",\"barge_2\",null,\"barge_2\",\"barge_2\",null,\"barge_2\",\"barge_2\",null,\"barge_2\",\"barge_2\",null,\"barge_2\",\"barge_2\",null,\"barge_2\",\"barge_2\",null,\"barge_2\",\"barge_2\",null,\"barge_2\",\"barge_2\",null,\"barge_2\",\"barge_2\",null,\"barge_2\",\"barge_2\",null,\"barge_2\",\"barge_2\",null,\"barge_2\",\"barge_2\",null,\"barge_2\",\"barge_2\",null,\"barge_2\",\"barge_2\",null,\"barge_2\",\"barge_2\",null,\"barge_2\",\"barge_2\",null,\"barge_2\",\"barge_2\",null,\"barge_2\",\"barge_2\",null,\"barge_2\",\"barge_2\",null,\"barge_2\",\"barge_2\",null],\"type\":\"scatter\"},{\"connectgaps\":false,\"hoverinfo\":\"y+name\",\"line\":{\"color\":\"#bf95df\",\"width\":10},\"mode\":\"lines\",\"name\":\"loading:barge_1\",\"x\":[\"1970-01-01T01:14:46\",\"1970-01-01T01:48:06\",\"1970-01-01T01:48:06\",\"1970-01-01T04:17:38\",\"1970-01-01T04:50:58\",\"1970-01-01T04:50:58\",\"1970-01-01T07:20:30\",\"1970-01-01T07:53:50\",\"1970-01-01T07:53:50\",\"1970-01-01T10:23:22\",\"1970-01-01T10:56:42\",\"1970-01-01T10:56:42\",\"1970-01-01T13:26:14\",\"1970-01-01T13:59:34\",\"1970-01-01T13:59:34\",\"1970-01-01T16:29:06\",\"1970-01-01T17:02:26\",\"1970-01-01T17:02:26\",\"1970-01-01T19:40:26\",\"1970-01-01T20:13:46\",\"1970-01-01T20:13:46\",\"1970-01-01T23:08:14\",\"1970-01-01T23:41:34\",\"1970-01-01T23:41:34\",\"1970-01-02T02:36:02\",\"1970-01-02T03:09:22\",\"1970-01-02T03:09:22\"],\"y\":[\"cutter\",\"cutter\",null,\"cutter\",\"cutter\",null,\"cutter\",\"cutter\",null,\"cutter\",\"cutter\",null,\"cutter\",\"cutter\",null,\"cutter\",\"cutter\",null,\"cutter\",\"cutter\",null,\"cutter\",\"cutter\",null,\"cutter\",\"cutter\",null,\"cutter\",\"cutter\",null,\"cutter\",\"cutter\",null,\"cutter\",\"cutter\",null,\"cutter\",\"cutter\",null,\"cutter\",\"cutter\",null,\"cutter\",\"cutter\",null,\"cutter\",\"cutter\",null,\"cutter\",\"cutter\",null,\"cutter\",\"cutter\",null,\"cutter\",\"cutter\",null,\"cutter\",\"cutter\",null,\"cutter\",\"cutter\",null,\"cutter\",\"cutter\",null,\"cutter\",\"cutter\",null,\"cutter\",\"cutter\",null,\"cutter\",\"cutter\",null,\"cutter\",\"cutter\",null,\"cutter\",\"cutter\",null],\"type\":\"scatter\"},{\"connectgaps\":false,\"hoverinfo\":\"y+name\",\"line\":{\"color\":\"darkred\",\"width\":10},\"mode\":\"lines\",\"name\":\"loading:barge_0\",\"x\":[\"1970-01-01T01:48:06\",\"1970-01-01T02:21:26\",\"1970-01-01T02:21:26\",\"1970-01-01T05:15:54\",\"1970-01-01T05:49:14\",\"1970-01-01T05:49:14\",\"1970-01-01T08:43:42\",\"1970-01-01T09:17:02\",\"1970-01-01T09:17:02\",\"1970-01-01T12:11:30\",\"1970-01-01T12:44:50\",\"1970-01-01T12:44:50\",\"1970-01-01T15:39:18\",\"1970-01-01T16:12:38\",\"1970-01-01T16:12:38\",\"1970-01-01T19:07:06\",\"1970-01-01T19:40:26\",\"1970-01-01T19:40:26\",\"1970-01-01T22:34:54\",\"1970-01-01T23:08:14\",\"1970-01-01T23:08:14\",\"1970-01-02T02:02:42\",\"1970-01-02T02:36:02\",\"1970-01-02T02:36:02\"],\"y\":[\"cutter\",\"cutter\",null,\"cutter\",\"cutter\",null,\"cutter\",\"cutter\",null,\"cutter\",\"cutter\",null,\"cutter\",\"cutter\",null,\"cutter\",\"cutter\",null,\"cutter\",\"cutter\",null,\"cutter\",\"cutter\",null,\"cutter\",\"cutter\",null,\"cutter\",\"cutter\",null,\"cutter\",\"cutter\",null,\"cutter\",\"cutter\",null,\"cutter\",\"cutter\",null,\"cutter\",\"cutter\",null,\"cutter\",\"cutter\",null,\"cutter\",\"cutter\",null,\"cutter\",\"cutter\",null,\"cutter\",\"cutter\",null,\"cutter\",\"cutter\",null,\"cutter\",\"cutter\",null,\"cutter\",\"cutter\",null,\"cutter\",\"cutter\",null,\"cutter\",\"cutter\",null,\"cutter\",\"cutter\",null],\"type\":\"scatter\"},{\"connectgaps\":false,\"hoverinfo\":\"y+name\",\"line\":{\"color\":\"magenta\",\"width\":10},\"mode\":\"lines\",\"name\":\"loading:barge_2\",\"x\":[\"1970-01-01T02:21:26\",\"1970-01-01T02:54:46\",\"1970-01-01T02:54:46\",\"1970-01-01T06:04:10\",\"1970-01-01T06:37:30\",\"1970-01-01T06:37:30\",\"1970-01-01T09:46:54\",\"1970-01-01T10:20:14\",\"1970-01-01T10:20:14\",\"1970-01-01T13:59:34\",\"1970-01-01T14:32:54\",\"1970-01-01T14:32:54\",\"1970-01-01T17:42:18\",\"1970-01-01T18:15:38\",\"1970-01-01T18:15:38\",\"1970-01-01T21:25:02\",\"1970-01-01T21:58:22\",\"1970-01-01T21:58:22\",\"1970-01-02T01:07:46\",\"1970-01-02T01:41:06\",\"1970-01-02T01:41:06\",\"1970-01-02T04:50:30\",\"1970-01-02T05:23:50\",\"1970-01-02T05:23:50\"],\"y\":[\"cutter\",\"cutter\",null,\"cutter\",\"cutter\",null,\"cutter\",\"cutter\",null,\"cutter\",\"cutter\",null,\"cutter\",\"cutter\",null,\"cutter\",\"cutter\",null,\"cutter\",\"cutter\",null,\"cutter\",\"cutter\",null,\"cutter\",\"cutter\",null,\"cutter\",\"cutter\",null,\"cutter\",\"cutter\",null,\"cutter\",\"cutter\",null,\"cutter\",\"cutter\",null,\"cutter\",\"cutter\",null,\"cutter\",\"cutter\",null,\"cutter\",\"cutter\",null,\"cutter\",\"cutter\",null,\"cutter\",\"cutter\",null,\"cutter\",\"cutter\",null,\"cutter\",\"cutter\",null,\"cutter\",\"cutter\",null,\"cutter\",\"cutter\",null,\"cutter\",\"cutter\",null,\"cutter\",\"cutter\",null],\"type\":\"scatter\"},{\"connectgaps\":false,\"hoverinfo\":\"y+name\",\"line\":{\"color\":\"cyan\",\"width\":10},\"mode\":\"lines\",\"name\":\"loading:barge_1\",\"x\":[\"1970-01-01T01:14:46\",\"1970-01-01T01:48:06\",\"1970-01-01T01:48:06\",\"1970-01-01T04:17:38\",\"1970-01-01T04:50:58\",\"1970-01-01T04:50:58\",\"1970-01-01T07:20:30\",\"1970-01-01T07:53:50\",\"1970-01-01T07:53:50\",\"1970-01-01T10:23:22\",\"1970-01-01T10:56:42\",\"1970-01-01T10:56:42\",\"1970-01-01T13:26:14\",\"1970-01-01T13:59:34\",\"1970-01-01T13:59:34\",\"1970-01-01T16:29:06\",\"1970-01-01T17:02:26\",\"1970-01-01T17:02:26\",\"1970-01-01T19:40:26\",\"1970-01-01T20:13:46\",\"1970-01-01T20:13:46\",\"1970-01-01T23:08:14\",\"1970-01-01T23:41:34\",\"1970-01-01T23:41:34\",\"1970-01-02T02:36:02\",\"1970-01-02T03:09:22\",\"1970-01-02T03:09:22\"],\"y\":[\"from_site\",\"from_site\",null,\"from_site\",\"from_site\",null,\"from_site\",\"from_site\",null,\"from_site\",\"from_site\",null,\"from_site\",\"from_site\",null,\"from_site\",\"from_site\",null,\"from_site\",\"from_site\",null,\"from_site\",\"from_site\",null,\"from_site\",\"from_site\",null,\"from_site\",\"from_site\",null,\"from_site\",\"from_site\",null,\"from_site\",\"from_site\",null,\"from_site\",\"from_site\",null,\"from_site\",\"from_site\",null,\"from_site\",\"from_site\",null,\"from_site\",\"from_site\",null,\"from_site\",\"from_site\",null,\"from_site\",\"from_site\",null,\"from_site\",\"from_site\",null,\"from_site\",\"from_site\",null,\"from_site\",\"from_site\",null,\"from_site\",\"from_site\",null,\"from_site\",\"from_site\",null,\"from_site\",\"from_site\",null,\"from_site\",\"from_site\",null,\"from_site\",\"from_site\",null,\"from_site\",\"from_site\",null],\"type\":\"scatter\"},{\"connectgaps\":false,\"hoverinfo\":\"y+name\",\"line\":{\"color\":\"orange\",\"width\":10},\"mode\":\"lines\",\"name\":\"loading:barge_0\",\"x\":[\"1970-01-01T01:48:06\",\"1970-01-01T02:21:26\",\"1970-01-01T02:21:26\",\"1970-01-01T05:15:54\",\"1970-01-01T05:49:14\",\"1970-01-01T05:49:14\",\"1970-01-01T08:43:42\",\"1970-01-01T09:17:02\",\"1970-01-01T09:17:02\",\"1970-01-01T12:11:30\",\"1970-01-01T12:44:50\",\"1970-01-01T12:44:50\",\"1970-01-01T15:39:18\",\"1970-01-01T16:12:38\",\"1970-01-01T16:12:38\",\"1970-01-01T19:07:06\",\"1970-01-01T19:40:26\",\"1970-01-01T19:40:26\",\"1970-01-01T22:34:54\",\"1970-01-01T23:08:14\",\"1970-01-01T23:08:14\",\"1970-01-02T02:02:42\",\"1970-01-02T02:36:02\",\"1970-01-02T02:36:02\"],\"y\":[\"from_site\",\"from_site\",null,\"from_site\",\"from_site\",null,\"from_site\",\"from_site\",null,\"from_site\",\"from_site\",null,\"from_site\",\"from_site\",null,\"from_site\",\"from_site\",null,\"from_site\",\"from_site\",null,\"from_site\",\"from_site\",null,\"from_site\",\"from_site\",null,\"from_site\",\"from_site\",null,\"from_site\",\"from_site\",null,\"from_site\",\"from_site\",null,\"from_site\",\"from_site\",null,\"from_site\",\"from_site\",null,\"from_site\",\"from_site\",null,\"from_site\",\"from_site\",null,\"from_site\",\"from_site\",null,\"from_site\",\"from_site\",null,\"from_site\",\"from_site\",null,\"from_site\",\"from_site\",null,\"from_site\",\"from_site\",null,\"from_site\",\"from_site\",null,\"from_site\",\"from_site\",null,\"from_site\",\"from_site\",null],\"type\":\"scatter\"},{\"connectgaps\":false,\"hoverinfo\":\"y+name\",\"line\":{\"color\":\"#ff0000\",\"width\":10},\"mode\":\"lines\",\"name\":\"loading:barge_2\",\"x\":[\"1970-01-01T02:21:26\",\"1970-01-01T02:54:46\",\"1970-01-01T02:54:46\",\"1970-01-01T06:04:10\",\"1970-01-01T06:37:30\",\"1970-01-01T06:37:30\",\"1970-01-01T09:46:54\",\"1970-01-01T10:20:14\",\"1970-01-01T10:20:14\",\"1970-01-01T13:59:34\",\"1970-01-01T14:32:54\",\"1970-01-01T14:32:54\",\"1970-01-01T17:42:18\",\"1970-01-01T18:15:38\",\"1970-01-01T18:15:38\",\"1970-01-01T21:25:02\",\"1970-01-01T21:58:22\",\"1970-01-01T21:58:22\",\"1970-01-02T01:07:46\",\"1970-01-02T01:41:06\",\"1970-01-02T01:41:06\",\"1970-01-02T04:50:30\",\"1970-01-02T05:23:50\",\"1970-01-02T05:23:50\"],\"y\":[\"from_site\",\"from_site\",null,\"from_site\",\"from_site\",null,\"from_site\",\"from_site\",null,\"from_site\",\"from_site\",null,\"from_site\",\"from_site\",null,\"from_site\",\"from_site\",null,\"from_site\",\"from_site\",null,\"from_site\",\"from_site\",null,\"from_site\",\"from_site\",null,\"from_site\",\"from_site\",null,\"from_site\",\"from_site\",null,\"from_site\",\"from_site\",null,\"from_site\",\"from_site\",null,\"from_site\",\"from_site\",null,\"from_site\",\"from_site\",null,\"from_site\",\"from_site\",null,\"from_site\",\"from_site\",null,\"from_site\",\"from_site\",null,\"from_site\",\"from_site\",null,\"from_site\",\"from_site\",null,\"from_site\",\"from_site\",null,\"from_site\",\"from_site\",null,\"from_site\",\"from_site\",null,\"from_site\",\"from_site\",null],\"type\":\"scatter\"},{\"connectgaps\":false,\"hoverinfo\":\"y+name\",\"line\":{\"color\":\"#bfbfbf\",\"width\":10},\"mode\":\"lines\",\"name\":\"unloading:barge_1\",\"x\":[\"1970-01-01T02:25:29\",\"1970-01-01T03:02:52\",\"1970-01-01T03:02:52\",\"1970-01-01T05:28:21\",\"1970-01-01T06:05:44\",\"1970-01-01T06:05:44\",\"1970-01-01T08:31:13\",\"1970-01-01T09:08:36\",\"1970-01-01T09:08:36\",\"1970-01-01T11:34:05\",\"1970-01-01T12:11:28\",\"1970-01-01T12:11:28\",\"1970-01-01T14:36:57\",\"1970-01-01T15:14:20\",\"1970-01-01T15:14:20\",\"1970-01-01T17:39:49\",\"1970-01-01T18:17:12\",\"1970-01-01T18:17:12\",\"1970-01-01T20:51:09\",\"1970-01-01T21:28:32\",\"1970-01-01T21:28:32\",\"1970-01-02T00:18:57\",\"1970-01-02T00:56:20\",\"1970-01-02T00:56:20\",\"1970-01-02T03:46:45\",\"1970-01-02T04:24:08\",\"1970-01-02T04:24:08\"],\"y\":[\"to_site\",\"to_site\",null,\"to_site\",\"to_site\",null,\"to_site\",\"to_site\",null,\"to_site\",\"to_site\",null,\"to_site\",\"to_site\",null,\"to_site\",\"to_site\",null,\"to_site\",\"to_site\",null,\"to_site\",\"to_site\",null,\"to_site\",\"to_site\",null,\"to_site\",\"to_site\",null,\"to_site\",\"to_site\",null,\"to_site\",\"to_site\",null,\"to_site\",\"to_site\",null,\"to_site\",\"to_site\",null,\"to_site\",\"to_site\",null,\"to_site\",\"to_site\",null,\"to_site\",\"to_site\",null,\"to_site\",\"to_site\",null,\"to_site\",\"to_site\",null,\"to_site\",\"to_site\",null,\"to_site\",\"to_site\",null,\"to_site\",\"to_site\",null,\"to_site\",\"to_site\",null,\"to_site\",\"to_site\",null,\"to_site\",\"to_site\",null,\"to_site\",\"to_site\",null,\"to_site\",\"to_site\",null],\"type\":\"scatter\"},{\"connectgaps\":false,\"hoverinfo\":\"y+name\",\"line\":{\"color\":\"#305496\",\"width\":10},\"mode\":\"lines\",\"name\":\"unloading:barge_0\",\"x\":[\"1970-01-01T03:05:03\",\"1970-01-01T03:48:40\",\"1970-01-01T03:48:40\",\"1970-01-01T06:32:51\",\"1970-01-01T07:16:28\",\"1970-01-01T07:16:28\",\"1970-01-01T10:00:39\",\"1970-01-01T10:44:16\",\"1970-01-01T10:44:16\",\"1970-01-01T13:28:27\",\"1970-01-01T14:12:04\",\"1970-01-01T14:12:04\",\"1970-01-01T16:56:15\",\"1970-01-01T17:39:52\",\"1970-01-01T17:39:52\",\"1970-01-01T20:24:03\",\"1970-01-01T21:07:40\",\"1970-01-01T21:07:40\",\"1970-01-01T23:51:51\",\"1970-01-02T00:35:28\",\"1970-01-02T00:35:28\",\"1970-01-02T03:19:39\",\"1970-01-02T04:03:16\",\"1970-01-02T04:03:16\"],\"y\":[\"to_site\",\"to_site\",null,\"to_site\",\"to_site\",null,\"to_site\",\"to_site\",null,\"to_site\",\"to_site\",null,\"to_site\",\"to_site\",null,\"to_site\",\"to_site\",null,\"to_site\",\"to_site\",null,\"to_site\",\"to_site\",null,\"to_site\",\"to_site\",null,\"to_site\",\"to_site\",null,\"to_site\",\"to_site\",null,\"to_site\",\"to_site\",null,\"to_site\",\"to_site\",null,\"to_site\",\"to_site\",null,\"to_site\",\"to_site\",null,\"to_site\",\"to_site\",null,\"to_site\",\"to_site\",null,\"to_site\",\"to_site\",null,\"to_site\",\"to_site\",null,\"to_site\",\"to_site\",null,\"to_site\",\"to_site\",null,\"to_site\",\"to_site\",null,\"to_site\",\"to_site\",null,\"to_site\",\"to_site\",null],\"type\":\"scatter\"},{\"connectgaps\":false,\"hoverinfo\":\"y+name\",\"line\":{\"color\":\"#00b0f0\",\"width\":10},\"mode\":\"lines\",\"name\":\"unloading:barge_2\",\"x\":[\"1970-01-01T03:42:07\",\"1970-01-01T04:29:28\",\"1970-01-01T04:29:28\",\"1970-01-01T07:24:51\",\"1970-01-01T08:12:12\",\"1970-01-01T08:12:12\",\"1970-01-01T11:07:35\",\"1970-01-01T11:54:56\",\"1970-01-01T11:54:56\",\"1970-01-01T15:20:15\",\"1970-01-01T16:07:36\",\"1970-01-01T16:07:36\",\"1970-01-01T19:02:59\",\"1970-01-01T19:50:20\",\"1970-01-01T19:50:20\",\"1970-01-01T22:45:43\",\"1970-01-01T23:33:04\",\"1970-01-01T23:33:04\",\"1970-01-02T02:28:27\",\"1970-01-02T03:15:48\",\"1970-01-02T03:15:48\",\"1970-01-02T06:11:11\",\"1970-01-02T06:58:32\",\"1970-01-02T06:58:32\"],\"y\":[\"to_site\",\"to_site\",null,\"to_site\",\"to_site\",null,\"to_site\",\"to_site\",null,\"to_site\",\"to_site\",null,\"to_site\",\"to_site\",null,\"to_site\",\"to_site\",null,\"to_site\",\"to_site\",null,\"to_site\",\"to_site\",null,\"to_site\",\"to_site\",null,\"to_site\",\"to_site\",null,\"to_site\",\"to_site\",null,\"to_site\",\"to_site\",null,\"to_site\",\"to_site\",null,\"to_site\",\"to_site\",null,\"to_site\",\"to_site\",null,\"to_site\",\"to_site\",null,\"to_site\",\"to_site\",null,\"to_site\",\"to_site\",null,\"to_site\",\"to_site\",null,\"to_site\",\"to_site\",null,\"to_site\",\"to_site\",null,\"to_site\",\"to_site\",null,\"to_site\",\"to_site\",null,\"to_site\",\"to_site\",null],\"type\":\"scatter\"},{\"connectgaps\":false,\"hoverinfo\":\"name\",\"line\":{\"color\":\"Black\",\"width\":5},\"mode\":\"markers\",\"name\":\"critical_path\",\"x\":[\"1970-01-01T00:00:00\",\"1970-01-01T00:37:23\",\"1970-01-01T01:14:46\",\"1970-01-01T01:14:46\",\"1970-01-01T01:14:46\",\"1970-01-01T01:48:06\",\"1970-01-01T02:25:29\",\"1970-01-01T02:25:29\",\"1970-01-01T03:02:52\",\"1970-01-01T03:40:15\",\"1970-01-01T04:17:38\",\"1970-01-01T04:17:38\",\"1970-01-01T04:17:38\",\"1970-01-01T04:50:58\",\"1970-01-01T05:28:21\",\"1970-01-01T05:28:21\",\"1970-01-01T06:05:44\",\"1970-01-01T06:43:07\",\"1970-01-01T07:20:30\",\"1970-01-01T07:20:30\",\"1970-01-01T07:20:30\",\"1970-01-01T07:53:50\",\"1970-01-01T08:31:13\",\"1970-01-01T08:31:13\",\"1970-01-01T09:08:36\",\"1970-01-01T09:45:59\",\"1970-01-01T10:23:22\",\"1970-01-01T10:23:22\",\"1970-01-01T10:23:22\",\"1970-01-01T10:56:42\",\"1970-01-01T11:34:05\",\"1970-01-01T11:34:05\",\"1970-01-01T12:11:28\",\"1970-01-01T12:48:51\",\"1970-01-01T13:26:14\",\"1970-01-01T13:26:14\",\"1970-01-01T13:26:14\",\"1970-01-01T13:59:34\",\"1970-01-01T13:59:34\",\"1970-01-01T13:59:34\",\"1970-01-01T14:32:54\",\"1970-01-01T15:20:15\",\"1970-01-01T15:20:15\",\"1970-01-01T16:07:36\",\"1970-01-01T16:54:57\",\"1970-01-01T17:42:18\",\"1970-01-01T17:42:18\",\"1970-01-01T17:42:18\",\"1970-01-01T18:15:38\",\"1970-01-01T19:02:59\",\"1970-01-01T19:02:59\",\"1970-01-01T19:50:20\",\"1970-01-01T20:37:41\",\"1970-01-01T21:25:02\",\"1970-01-01T21:25:02\",\"1970-01-01T21:25:02\",\"1970-01-01T21:58:22\",\"1970-01-01T22:45:43\",\"1970-01-01T22:45:43\",\"1970-01-01T23:33:04\",\"1970-01-02T00:20:25\",\"1970-01-02T01:07:46\",\"1970-01-02T01:07:46\",\"1970-01-02T01:07:46\",\"1970-01-02T01:41:06\",\"1970-01-02T02:28:27\",\"1970-01-02T02:28:27\",\"1970-01-02T03:15:48\",\"1970-01-02T04:03:09\",\"1970-01-02T04:50:30\",\"1970-01-02T04:50:30\",\"1970-01-02T04:50:30\",\"1970-01-02T05:23:50\",\"1970-01-02T06:11:11\",\"1970-01-02T06:11:11\"],\"y\":[\"barge_1\",\"barge_1\",\"barge_1\",\"cutter\",\"from_site\",\"barge_1\",\"barge_1\",\"to_site\",\"barge_1\",\"barge_1\",\"barge_1\",\"cutter\",\"from_site\",\"barge_1\",\"barge_1\",\"to_site\",\"barge_1\",\"barge_1\",\"barge_1\",\"cutter\",\"from_site\",\"barge_1\",\"barge_1\",\"to_site\",\"barge_1\",\"barge_1\",\"barge_1\",\"cutter\",\"from_site\",\"barge_1\",\"barge_1\",\"to_site\",\"barge_1\",\"barge_1\",\"barge_1\",\"cutter\",\"from_site\",\"barge_2\",\"cutter\",\"from_site\",\"barge_2\",\"barge_2\",\"to_site\",\"barge_2\",\"barge_2\",\"barge_2\",\"cutter\",\"from_site\",\"barge_2\",\"barge_2\",\"to_site\",\"barge_2\",\"barge_2\",\"barge_2\",\"cutter\",\"from_site\",\"barge_2\",\"barge_2\",\"to_site\",\"barge_2\",\"barge_2\",\"barge_2\",\"cutter\",\"from_site\",\"barge_2\",\"barge_2\",\"to_site\",\"barge_2\",\"barge_2\",\"barge_2\",\"cutter\",\"from_site\",\"barge_2\",\"barge_2\",\"to_site\"],\"type\":\"scatter\"}],                        {\"hovermode\":\"closest\",\"legend\":{\"orientation\":\"h\",\"x\":0,\"y\":-0.2},\"template\":{\"data\":{\"barpolar\":[{\"marker\":{\"line\":{\"color\":\"#E5ECF6\",\"width\":0.5},\"pattern\":{\"fillmode\":\"overlay\",\"size\":10,\"solidity\":0.2}},\"type\":\"barpolar\"}],\"bar\":[{\"error_x\":{\"color\":\"#2a3f5f\"},\"error_y\":{\"color\":\"#2a3f5f\"},\"marker\":{\"line\":{\"color\":\"#E5ECF6\",\"width\":0.5},\"pattern\":{\"fillmode\":\"overlay\",\"size\":10,\"solidity\":0.2}},\"type\":\"bar\"}],\"carpet\":[{\"aaxis\":{\"endlinecolor\":\"#2a3f5f\",\"gridcolor\":\"white\",\"linecolor\":\"white\",\"minorgridcolor\":\"white\",\"startlinecolor\":\"#2a3f5f\"},\"baxis\":{\"endlinecolor\":\"#2a3f5f\",\"gridcolor\":\"white\",\"linecolor\":\"white\",\"minorgridcolor\":\"white\",\"startlinecolor\":\"#2a3f5f\"},\"type\":\"carpet\"}],\"choropleth\":[{\"colorbar\":{\"outlinewidth\":0,\"ticks\":\"\"},\"type\":\"choropleth\"}],\"contourcarpet\":[{\"colorbar\":{\"outlinewidth\":0,\"ticks\":\"\"},\"type\":\"contourcarpet\"}],\"contour\":[{\"colorbar\":{\"outlinewidth\":0,\"ticks\":\"\"},\"colorscale\":[[0.0,\"#0d0887\"],[0.1111111111111111,\"#46039f\"],[0.2222222222222222,\"#7201a8\"],[0.3333333333333333,\"#9c179e\"],[0.4444444444444444,\"#bd3786\"],[0.5555555555555556,\"#d8576b\"],[0.6666666666666666,\"#ed7953\"],[0.7777777777777778,\"#fb9f3a\"],[0.8888888888888888,\"#fdca26\"],[1.0,\"#f0f921\"]],\"type\":\"contour\"}],\"heatmapgl\":[{\"colorbar\":{\"outlinewidth\":0,\"ticks\":\"\"},\"colorscale\":[[0.0,\"#0d0887\"],[0.1111111111111111,\"#46039f\"],[0.2222222222222222,\"#7201a8\"],[0.3333333333333333,\"#9c179e\"],[0.4444444444444444,\"#bd3786\"],[0.5555555555555556,\"#d8576b\"],[0.6666666666666666,\"#ed7953\"],[0.7777777777777778,\"#fb9f3a\"],[0.8888888888888888,\"#fdca26\"],[1.0,\"#f0f921\"]],\"type\":\"heatmapgl\"}],\"heatmap\":[{\"colorbar\":{\"outlinewidth\":0,\"ticks\":\"\"},\"colorscale\":[[0.0,\"#0d0887\"],[0.1111111111111111,\"#46039f\"],[0.2222222222222222,\"#7201a8\"],[0.3333333333333333,\"#9c179e\"],[0.4444444444444444,\"#bd3786\"],[0.5555555555555556,\"#d8576b\"],[0.6666666666666666,\"#ed7953\"],[0.7777777777777778,\"#fb9f3a\"],[0.8888888888888888,\"#fdca26\"],[1.0,\"#f0f921\"]],\"type\":\"heatmap\"}],\"histogram2dcontour\":[{\"colorbar\":{\"outlinewidth\":0,\"ticks\":\"\"},\"colorscale\":[[0.0,\"#0d0887\"],[0.1111111111111111,\"#46039f\"],[0.2222222222222222,\"#7201a8\"],[0.3333333333333333,\"#9c179e\"],[0.4444444444444444,\"#bd3786\"],[0.5555555555555556,\"#d8576b\"],[0.6666666666666666,\"#ed7953\"],[0.7777777777777778,\"#fb9f3a\"],[0.8888888888888888,\"#fdca26\"],[1.0,\"#f0f921\"]],\"type\":\"histogram2dcontour\"}],\"histogram2d\":[{\"colorbar\":{\"outlinewidth\":0,\"ticks\":\"\"},\"colorscale\":[[0.0,\"#0d0887\"],[0.1111111111111111,\"#46039f\"],[0.2222222222222222,\"#7201a8\"],[0.3333333333333333,\"#9c179e\"],[0.4444444444444444,\"#bd3786\"],[0.5555555555555556,\"#d8576b\"],[0.6666666666666666,\"#ed7953\"],[0.7777777777777778,\"#fb9f3a\"],[0.8888888888888888,\"#fdca26\"],[1.0,\"#f0f921\"]],\"type\":\"histogram2d\"}],\"histogram\":[{\"marker\":{\"pattern\":{\"fillmode\":\"overlay\",\"size\":10,\"solidity\":0.2}},\"type\":\"histogram\"}],\"mesh3d\":[{\"colorbar\":{\"outlinewidth\":0,\"ticks\":\"\"},\"type\":\"mesh3d\"}],\"parcoords\":[{\"line\":{\"colorbar\":{\"outlinewidth\":0,\"ticks\":\"\"}},\"type\":\"parcoords\"}],\"pie\":[{\"automargin\":true,\"type\":\"pie\"}],\"scatter3d\":[{\"line\":{\"colorbar\":{\"outlinewidth\":0,\"ticks\":\"\"}},\"marker\":{\"colorbar\":{\"outlinewidth\":0,\"ticks\":\"\"}},\"type\":\"scatter3d\"}],\"scattercarpet\":[{\"marker\":{\"colorbar\":{\"outlinewidth\":0,\"ticks\":\"\"}},\"type\":\"scattercarpet\"}],\"scattergeo\":[{\"marker\":{\"colorbar\":{\"outlinewidth\":0,\"ticks\":\"\"}},\"type\":\"scattergeo\"}],\"scattergl\":[{\"marker\":{\"colorbar\":{\"outlinewidth\":0,\"ticks\":\"\"}},\"type\":\"scattergl\"}],\"scattermapbox\":[{\"marker\":{\"colorbar\":{\"outlinewidth\":0,\"ticks\":\"\"}},\"type\":\"scattermapbox\"}],\"scatterpolargl\":[{\"marker\":{\"colorbar\":{\"outlinewidth\":0,\"ticks\":\"\"}},\"type\":\"scatterpolargl\"}],\"scatterpolar\":[{\"marker\":{\"colorbar\":{\"outlinewidth\":0,\"ticks\":\"\"}},\"type\":\"scatterpolar\"}],\"scatter\":[{\"fillpattern\":{\"fillmode\":\"overlay\",\"size\":10,\"solidity\":0.2},\"type\":\"scatter\"}],\"scatterternary\":[{\"marker\":{\"colorbar\":{\"outlinewidth\":0,\"ticks\":\"\"}},\"type\":\"scatterternary\"}],\"surface\":[{\"colorbar\":{\"outlinewidth\":0,\"ticks\":\"\"},\"colorscale\":[[0.0,\"#0d0887\"],[0.1111111111111111,\"#46039f\"],[0.2222222222222222,\"#7201a8\"],[0.3333333333333333,\"#9c179e\"],[0.4444444444444444,\"#bd3786\"],[0.5555555555555556,\"#d8576b\"],[0.6666666666666666,\"#ed7953\"],[0.7777777777777778,\"#fb9f3a\"],[0.8888888888888888,\"#fdca26\"],[1.0,\"#f0f921\"]],\"type\":\"surface\"}],\"table\":[{\"cells\":{\"fill\":{\"color\":\"#EBF0F8\"},\"line\":{\"color\":\"white\"}},\"header\":{\"fill\":{\"color\":\"#C8D4E3\"},\"line\":{\"color\":\"white\"}},\"type\":\"table\"}]},\"layout\":{\"annotationdefaults\":{\"arrowcolor\":\"#2a3f5f\",\"arrowhead\":0,\"arrowwidth\":1},\"autotypenumbers\":\"strict\",\"coloraxis\":{\"colorbar\":{\"outlinewidth\":0,\"ticks\":\"\"}},\"colorscale\":{\"diverging\":[[0,\"#8e0152\"],[0.1,\"#c51b7d\"],[0.2,\"#de77ae\"],[0.3,\"#f1b6da\"],[0.4,\"#fde0ef\"],[0.5,\"#f7f7f7\"],[0.6,\"#e6f5d0\"],[0.7,\"#b8e186\"],[0.8,\"#7fbc41\"],[0.9,\"#4d9221\"],[1,\"#276419\"]],\"sequential\":[[0.0,\"#0d0887\"],[0.1111111111111111,\"#46039f\"],[0.2222222222222222,\"#7201a8\"],[0.3333333333333333,\"#9c179e\"],[0.4444444444444444,\"#bd3786\"],[0.5555555555555556,\"#d8576b\"],[0.6666666666666666,\"#ed7953\"],[0.7777777777777778,\"#fb9f3a\"],[0.8888888888888888,\"#fdca26\"],[1.0,\"#f0f921\"]],\"sequentialminus\":[[0.0,\"#0d0887\"],[0.1111111111111111,\"#46039f\"],[0.2222222222222222,\"#7201a8\"],[0.3333333333333333,\"#9c179e\"],[0.4444444444444444,\"#bd3786\"],[0.5555555555555556,\"#d8576b\"],[0.6666666666666666,\"#ed7953\"],[0.7777777777777778,\"#fb9f3a\"],[0.8888888888888888,\"#fdca26\"],[1.0,\"#f0f921\"]]},\"colorway\":[\"#636efa\",\"#EF553B\",\"#00cc96\",\"#ab63fa\",\"#FFA15A\",\"#19d3f3\",\"#FF6692\",\"#B6E880\",\"#FF97FF\",\"#FECB52\"],\"font\":{\"color\":\"#2a3f5f\"},\"geo\":{\"bgcolor\":\"white\",\"lakecolor\":\"white\",\"landcolor\":\"#E5ECF6\",\"showlakes\":true,\"showland\":true,\"subunitcolor\":\"white\"},\"hoverlabel\":{\"align\":\"left\"},\"hovermode\":\"closest\",\"mapbox\":{\"style\":\"light\"},\"paper_bgcolor\":\"white\",\"plot_bgcolor\":\"#E5ECF6\",\"polar\":{\"angularaxis\":{\"gridcolor\":\"white\",\"linecolor\":\"white\",\"ticks\":\"\"},\"bgcolor\":\"#E5ECF6\",\"radialaxis\":{\"gridcolor\":\"white\",\"linecolor\":\"white\",\"ticks\":\"\"}},\"scene\":{\"xaxis\":{\"backgroundcolor\":\"#E5ECF6\",\"gridcolor\":\"white\",\"gridwidth\":2,\"linecolor\":\"white\",\"showbackground\":true,\"ticks\":\"\",\"zerolinecolor\":\"white\"},\"yaxis\":{\"backgroundcolor\":\"#E5ECF6\",\"gridcolor\":\"white\",\"gridwidth\":2,\"linecolor\":\"white\",\"showbackground\":true,\"ticks\":\"\",\"zerolinecolor\":\"white\"},\"zaxis\":{\"backgroundcolor\":\"#E5ECF6\",\"gridcolor\":\"white\",\"gridwidth\":2,\"linecolor\":\"white\",\"showbackground\":true,\"ticks\":\"\",\"zerolinecolor\":\"white\"}},\"shapedefaults\":{\"line\":{\"color\":\"#2a3f5f\"}},\"ternary\":{\"aaxis\":{\"gridcolor\":\"white\",\"linecolor\":\"white\",\"ticks\":\"\"},\"baxis\":{\"gridcolor\":\"white\",\"linecolor\":\"white\",\"ticks\":\"\"},\"bgcolor\":\"#E5ECF6\",\"caxis\":{\"gridcolor\":\"white\",\"linecolor\":\"white\",\"ticks\":\"\"}},\"title\":{\"x\":0.05},\"xaxis\":{\"automargin\":true,\"gridcolor\":\"white\",\"linecolor\":\"white\",\"ticks\":\"\",\"title\":{\"standoff\":15},\"zerolinecolor\":\"white\",\"zerolinewidth\":2},\"yaxis\":{\"automargin\":true,\"gridcolor\":\"white\",\"linecolor\":\"white\",\"ticks\":\"\",\"title\":{\"standoff\":15},\"zerolinecolor\":\"white\",\"zerolinewidth\":2}}},\"title\":{\"text\":\"GANTT Chart\"},\"xaxis\":{\"range\":[\"1970-01-01T00:00:00\",\"1970-01-02T06:58:32\"],\"title\":{\"font\":{\"color\":\"#7f7f7f\",\"family\":\"Courier New, monospace\",\"size\":18},\"text\":\"Time\"}},\"yaxis\":{\"title\":{\"font\":{\"color\":\"#7f7f7f\",\"family\":\"Courier New, monospace\",\"size\":18},\"text\":\"Activities\"}}},                        {\"responsive\": true}                    ).then(function(){\n",
       "                            \n",
       "var gd = document.getElementById('4e6ff319-a02e-4e8a-9b7a-d47a2d0f32db');\n",
       "var x = new MutationObserver(function (mutations, observer) {{\n",
       "        var display = window.getComputedStyle(gd).display;\n",
       "        if (!display || display === 'none') {{\n",
       "            console.log([gd, 'removed!']);\n",
       "            Plotly.purge(gd);\n",
       "            observer.disconnect();\n",
       "        }}\n",
       "}});\n",
       "\n",
       "// Listen for the removal of the full notebook cells\n",
       "var notebookContainer = gd.closest('#notebook-container');\n",
       "if (notebookContainer) {{\n",
       "    x.observe(notebookContainer, {childList: true});\n",
       "}}\n",
       "\n",
       "// Listen for the clearing of the current output cell\n",
       "var outputEl = gd.closest('.output');\n",
       "if (outputEl) {{\n",
       "    x.observe(outputEl, {childList: true});\n",
       "}}\n",
       "\n",
       "                        })                };                });            </script>        </div>"
      ]
     },
     "metadata": {},
     "output_type": "display_data"
    }
   ],
   "source": [
    "# and plot(ly)\n",
    "my_log_object = SuperLog(df_superlog)\n",
    "my_log_object.make_gantt_plotly()"
   ]
  },
  {
   "cell_type": "code",
   "execution_count": 12,
   "id": "3a0b5722",
   "metadata": {},
   "outputs": [
    {
     "name": "stdout",
     "output_type": "stream",
     "text": [
      "-- total elapsed time 0.11700010299682617 seconds\n"
     ]
    },
    {
     "data": {
      "text/html": [
       "<div>\n",
       "<style scoped>\n",
       "    .dataframe tbody tr th:only-of-type {\n",
       "        vertical-align: middle;\n",
       "    }\n",
       "\n",
       "    .dataframe tbody tr th {\n",
       "        vertical-align: top;\n",
       "    }\n",
       "\n",
       "    .dataframe thead th {\n",
       "        text-align: right;\n",
       "    }\n",
       "</style>\n",
       "<table border=\"1\" class=\"dataframe\">\n",
       "  <thead>\n",
       "    <tr style=\"text-align: right;\">\n",
       "      <th></th>\n",
       "      <th>Activity</th>\n",
       "      <th>SourceObject</th>\n",
       "      <th>start_time</th>\n",
       "      <th>state</th>\n",
       "      <th>duration</th>\n",
       "      <th>end_time</th>\n",
       "      <th>cp_activity_id</th>\n",
       "      <th>is_critical</th>\n",
       "    </tr>\n",
       "  </thead>\n",
       "  <tbody>\n",
       "    <tr>\n",
       "      <th>0</th>\n",
       "      <td>basic activity:barge_0</td>\n",
       "      <td>barge_0</td>\n",
       "      <td>1970-01-01 00:00:00</td>\n",
       "      <td>ACTIVE</td>\n",
       "      <td>0 days 00:33:33</td>\n",
       "      <td>1970-01-01 00:33:33</td>\n",
       "      <td>cp_activity_1</td>\n",
       "      <td>True</td>\n",
       "    </tr>\n",
       "    <tr>\n",
       "      <th>1</th>\n",
       "      <td>basic activity:barge_1</td>\n",
       "      <td>barge_1</td>\n",
       "      <td>1970-01-01 00:00:00</td>\n",
       "      <td>ACTIVE</td>\n",
       "      <td>0 days 00:37:46</td>\n",
       "      <td>1970-01-01 00:37:46</td>\n",
       "      <td>cp_activity_7</td>\n",
       "      <td>False</td>\n",
       "    </tr>\n",
       "    <tr>\n",
       "      <th>2</th>\n",
       "      <td>basic activity:barge_2</td>\n",
       "      <td>barge_2</td>\n",
       "      <td>1970-01-01 00:00:00</td>\n",
       "      <td>ACTIVE</td>\n",
       "      <td>0 days 00:49:33</td>\n",
       "      <td>1970-01-01 00:49:33</td>\n",
       "      <td>cp_activity_13</td>\n",
       "      <td>False</td>\n",
       "    </tr>\n",
       "    <tr>\n",
       "      <th>3</th>\n",
       "      <td>basic activity:barge_3</td>\n",
       "      <td>barge_3</td>\n",
       "      <td>1970-01-01 00:00:00</td>\n",
       "      <td>ACTIVE</td>\n",
       "      <td>0 days 00:39:40</td>\n",
       "      <td>1970-01-01 00:39:40</td>\n",
       "      <td>cp_activity_18</td>\n",
       "      <td>False</td>\n",
       "    </tr>\n",
       "    <tr>\n",
       "      <th>4</th>\n",
       "      <td>sailing empty:barge_0</td>\n",
       "      <td>barge_0</td>\n",
       "      <td>1970-01-01 00:33:33</td>\n",
       "      <td>ACTIVE</td>\n",
       "      <td>0 days 00:33:33</td>\n",
       "      <td>1970-01-01 01:07:06</td>\n",
       "      <td>cp_activity_47</td>\n",
       "      <td>True</td>\n",
       "    </tr>\n",
       "    <tr>\n",
       "      <th>...</th>\n",
       "      <td>...</td>\n",
       "      <td>...</td>\n",
       "      <td>...</td>\n",
       "      <td>...</td>\n",
       "      <td>...</td>\n",
       "      <td>...</td>\n",
       "      <td>...</td>\n",
       "      <td>...</td>\n",
       "    </tr>\n",
       "    <tr>\n",
       "      <th>179</th>\n",
       "      <td>sailing full:barge_3</td>\n",
       "      <td>barge_3</td>\n",
       "      <td>1970-01-01 20:57:58</td>\n",
       "      <td>ACTIVE</td>\n",
       "      <td>0 days 00:39:40</td>\n",
       "      <td>1970-01-01 21:37:38</td>\n",
       "      <td>cp_activity_92</td>\n",
       "      <td>True</td>\n",
       "    </tr>\n",
       "    <tr>\n",
       "      <th>180</th>\n",
       "      <td>unloading:barge_2</td>\n",
       "      <td>barge_2</td>\n",
       "      <td>1970-01-01 21:05:51</td>\n",
       "      <td>ACTIVE</td>\n",
       "      <td>0 days 00:49:33</td>\n",
       "      <td>1970-01-01 21:55:24</td>\n",
       "      <td>cp_activity_109</td>\n",
       "      <td>False</td>\n",
       "    </tr>\n",
       "    <tr>\n",
       "      <th>181</th>\n",
       "      <td>unloading:barge_2</td>\n",
       "      <td>to_site</td>\n",
       "      <td>1970-01-01 21:05:51</td>\n",
       "      <td>ACTIVE</td>\n",
       "      <td>0 days 00:49:33</td>\n",
       "      <td>1970-01-01 21:55:24</td>\n",
       "      <td>cp_activity_109</td>\n",
       "      <td>False</td>\n",
       "    </tr>\n",
       "    <tr>\n",
       "      <th>182</th>\n",
       "      <td>unloading:barge_3</td>\n",
       "      <td>barge_3</td>\n",
       "      <td>1970-01-01 21:37:38</td>\n",
       "      <td>ACTIVE</td>\n",
       "      <td>0 days 00:39:40</td>\n",
       "      <td>1970-01-01 22:17:18</td>\n",
       "      <td>cp_activity_115</td>\n",
       "      <td>True</td>\n",
       "    </tr>\n",
       "    <tr>\n",
       "      <th>183</th>\n",
       "      <td>unloading:barge_3</td>\n",
       "      <td>to_site</td>\n",
       "      <td>1970-01-01 21:37:38</td>\n",
       "      <td>ACTIVE</td>\n",
       "      <td>0 days 00:39:40</td>\n",
       "      <td>1970-01-01 22:17:18</td>\n",
       "      <td>cp_activity_115</td>\n",
       "      <td>True</td>\n",
       "    </tr>\n",
       "  </tbody>\n",
       "</table>\n",
       "<p>184 rows × 8 columns</p>\n",
       "</div>"
      ],
      "text/plain": [
       "                   Activity SourceObject          start_time   state  \\\n",
       "0    basic activity:barge_0      barge_0 1970-01-01 00:00:00  ACTIVE   \n",
       "1    basic activity:barge_1      barge_1 1970-01-01 00:00:00  ACTIVE   \n",
       "2    basic activity:barge_2      barge_2 1970-01-01 00:00:00  ACTIVE   \n",
       "3    basic activity:barge_3      barge_3 1970-01-01 00:00:00  ACTIVE   \n",
       "4     sailing empty:barge_0      barge_0 1970-01-01 00:33:33  ACTIVE   \n",
       "..                      ...          ...                 ...     ...   \n",
       "179    sailing full:barge_3      barge_3 1970-01-01 20:57:58  ACTIVE   \n",
       "180       unloading:barge_2      barge_2 1970-01-01 21:05:51  ACTIVE   \n",
       "181       unloading:barge_2      to_site 1970-01-01 21:05:51  ACTIVE   \n",
       "182       unloading:barge_3      barge_3 1970-01-01 21:37:38  ACTIVE   \n",
       "183       unloading:barge_3      to_site 1970-01-01 21:37:38  ACTIVE   \n",
       "\n",
       "           duration            end_time   cp_activity_id  is_critical  \n",
       "0   0 days 00:33:33 1970-01-01 00:33:33    cp_activity_1         True  \n",
       "1   0 days 00:37:46 1970-01-01 00:37:46    cp_activity_7        False  \n",
       "2   0 days 00:49:33 1970-01-01 00:49:33   cp_activity_13        False  \n",
       "3   0 days 00:39:40 1970-01-01 00:39:40   cp_activity_18        False  \n",
       "4   0 days 00:33:33 1970-01-01 01:07:06   cp_activity_47         True  \n",
       "..              ...                 ...              ...          ...  \n",
       "179 0 days 00:39:40 1970-01-01 21:37:38   cp_activity_92         True  \n",
       "180 0 days 00:49:33 1970-01-01 21:55:24  cp_activity_109        False  \n",
       "181 0 days 00:49:33 1970-01-01 21:55:24  cp_activity_109        False  \n",
       "182 0 days 00:39:40 1970-01-01 22:17:18  cp_activity_115         True  \n",
       "183 0 days 00:39:40 1970-01-01 22:17:18  cp_activity_115         True  \n",
       "\n",
       "[184 rows x 8 columns]"
      ]
     },
     "metadata": {},
     "output_type": "display_data"
    },
    {
     "data": {
      "text/html": [
       "        <script type=\"text/javascript\">\n",
       "        window.PlotlyConfig = {MathJaxConfig: 'local'};\n",
       "        if (window.MathJax) {MathJax.Hub.Config({SVG: {font: \"STIX-Web\"}});}\n",
       "        if (typeof require !== 'undefined') {\n",
       "        require.undef(\"plotly\");\n",
       "        requirejs.config({\n",
       "            paths: {\n",
       "                'plotly': ['https://cdn.plot.ly/plotly-2.11.1.min']\n",
       "            }\n",
       "        });\n",
       "        require(['plotly'], function(Plotly) {\n",
       "            window._Plotly = Plotly;\n",
       "        });\n",
       "        }\n",
       "        </script>\n",
       "        "
      ]
     },
     "metadata": {},
     "output_type": "display_data"
    },
    {
     "data": {
      "application/vnd.plotly.v1+json": {
       "config": {
        "linkText": "Export to plot.ly",
        "plotlyServerURL": "https://plot.ly",
        "showLink": false
       },
       "data": [
        {
         "connectgaps": false,
         "hoverinfo": "y+name",
         "line": {
          "color": "#ff0000",
          "width": 10
         },
         "mode": "lines",
         "name": "basic activity:barge_0",
         "type": "scatter",
         "x": [
          "1970-01-01T00:00:00",
          "1970-01-01T00:33:33",
          "1970-01-01T00:33:33",
          "1970-01-01T02:47:32",
          "1970-01-01T03:21:05",
          "1970-01-01T03:21:05",
          "1970-01-01T05:35:04",
          "1970-01-01T06:08:37",
          "1970-01-01T06:08:37",
          "1970-01-01T08:22:36",
          "1970-01-01T08:56:09",
          "1970-01-01T08:56:09",
          "1970-01-01T11:16:32",
          "1970-01-01T11:50:05",
          "1970-01-01T11:50:05",
          "1970-01-01T14:38:40",
          "1970-01-01T15:12:13",
          "1970-01-01T15:12:13"
         ],
         "y": [
          "barge_0",
          "barge_0",
          null,
          "barge_0",
          "barge_0",
          null,
          "barge_0",
          "barge_0",
          null,
          "barge_0",
          "barge_0",
          null,
          "barge_0",
          "barge_0",
          null,
          "barge_0",
          "barge_0",
          null,
          "barge_0",
          "barge_0",
          null,
          "barge_0",
          "barge_0",
          null,
          "barge_0",
          "barge_0",
          null,
          "barge_0",
          "barge_0",
          null,
          "barge_0",
          "barge_0",
          null,
          "barge_0",
          "barge_0",
          null,
          "barge_0",
          "barge_0",
          null,
          "barge_0",
          "barge_0",
          null,
          "barge_0",
          "barge_0",
          null,
          "barge_0",
          "barge_0",
          null,
          "barge_0",
          "barge_0",
          null,
          "barge_0",
          "barge_0",
          null
         ]
        },
        {
         "connectgaps": false,
         "hoverinfo": "y+name",
         "line": {
          "color": "#bfbfbf",
          "width": 10
         },
         "mode": "lines",
         "name": "sailing empty:barge_0",
         "type": "scatter",
         "x": [
          "1970-01-01T00:33:33",
          "1970-01-01T01:07:06",
          "1970-01-01T01:07:06",
          "1970-01-01T03:21:05",
          "1970-01-01T03:54:38",
          "1970-01-01T03:54:38",
          "1970-01-01T06:08:37",
          "1970-01-01T06:42:10",
          "1970-01-01T06:42:10",
          "1970-01-01T08:56:09",
          "1970-01-01T09:29:42",
          "1970-01-01T09:29:42",
          "1970-01-01T11:50:05",
          "1970-01-01T12:23:38",
          "1970-01-01T12:23:38",
          "1970-01-01T15:12:13",
          "1970-01-01T15:45:46",
          "1970-01-01T15:45:46"
         ],
         "y": [
          "barge_0",
          "barge_0",
          null,
          "barge_0",
          "barge_0",
          null,
          "barge_0",
          "barge_0",
          null,
          "barge_0",
          "barge_0",
          null,
          "barge_0",
          "barge_0",
          null,
          "barge_0",
          "barge_0",
          null,
          "barge_0",
          "barge_0",
          null,
          "barge_0",
          "barge_0",
          null,
          "barge_0",
          "barge_0",
          null,
          "barge_0",
          "barge_0",
          null,
          "barge_0",
          "barge_0",
          null,
          "barge_0",
          "barge_0",
          null,
          "barge_0",
          "barge_0",
          null,
          "barge_0",
          "barge_0",
          null,
          "barge_0",
          "barge_0",
          null,
          "barge_0",
          "barge_0",
          null,
          "barge_0",
          "barge_0",
          null,
          "barge_0",
          "barge_0",
          null
         ]
        },
        {
         "connectgaps": false,
         "hoverinfo": "y+name",
         "line": {
          "color": "#305496",
          "width": 10
         },
         "mode": "lines",
         "name": "loading:barge_0",
         "type": "scatter",
         "x": [
          "1970-01-01T01:07:06",
          "1970-01-01T01:40:26",
          "1970-01-01T01:40:26",
          "1970-01-01T03:54:38",
          "1970-01-01T04:27:58",
          "1970-01-01T04:27:58",
          "1970-01-01T06:42:10",
          "1970-01-01T07:15:30",
          "1970-01-01T07:15:30",
          "1970-01-01T09:36:06",
          "1970-01-01T10:09:26",
          "1970-01-01T10:09:26",
          "1970-01-01T12:58:14",
          "1970-01-01T13:31:34",
          "1970-01-01T13:31:34",
          "1970-01-01T16:58:06",
          "1970-01-01T17:31:26",
          "1970-01-01T17:31:26"
         ],
         "y": [
          "barge_0",
          "barge_0",
          null,
          "barge_0",
          "barge_0",
          null,
          "barge_0",
          "barge_0",
          null,
          "barge_0",
          "barge_0",
          null,
          "barge_0",
          "barge_0",
          null,
          "barge_0",
          "barge_0",
          null,
          "barge_0",
          "barge_0",
          null,
          "barge_0",
          "barge_0",
          null,
          "barge_0",
          "barge_0",
          null,
          "barge_0",
          "barge_0",
          null,
          "barge_0",
          "barge_0",
          null,
          "barge_0",
          "barge_0",
          null,
          "barge_0",
          "barge_0",
          null,
          "barge_0",
          "barge_0",
          null,
          "barge_0",
          "barge_0",
          null,
          "barge_0",
          "barge_0",
          null,
          "barge_0",
          "barge_0",
          null,
          "barge_0",
          "barge_0",
          null
         ]
        },
        {
         "connectgaps": false,
         "hoverinfo": "y+name",
         "line": {
          "color": "#00b0f0",
          "width": 10
         },
         "mode": "lines",
         "name": "sailing full:barge_0",
         "type": "scatter",
         "x": [
          "1970-01-01T01:40:26",
          "1970-01-01T02:13:59",
          "1970-01-01T02:13:59",
          "1970-01-01T04:27:58",
          "1970-01-01T05:01:31",
          "1970-01-01T05:01:31",
          "1970-01-01T07:15:30",
          "1970-01-01T07:49:03",
          "1970-01-01T07:49:03",
          "1970-01-01T10:09:26",
          "1970-01-01T10:42:59",
          "1970-01-01T10:42:59",
          "1970-01-01T13:31:34",
          "1970-01-01T14:05:07",
          "1970-01-01T14:05:07",
          "1970-01-01T17:31:26",
          "1970-01-01T18:04:59",
          "1970-01-01T18:04:59"
         ],
         "y": [
          "barge_0",
          "barge_0",
          null,
          "barge_0",
          "barge_0",
          null,
          "barge_0",
          "barge_0",
          null,
          "barge_0",
          "barge_0",
          null,
          "barge_0",
          "barge_0",
          null,
          "barge_0",
          "barge_0",
          null,
          "barge_0",
          "barge_0",
          null,
          "barge_0",
          "barge_0",
          null,
          "barge_0",
          "barge_0",
          null,
          "barge_0",
          "barge_0",
          null,
          "barge_0",
          "barge_0",
          null,
          "barge_0",
          "barge_0",
          null,
          "barge_0",
          "barge_0",
          null,
          "barge_0",
          "barge_0",
          null,
          "barge_0",
          "barge_0",
          null,
          "barge_0",
          "barge_0",
          null,
          "barge_0",
          "barge_0",
          null,
          "barge_0",
          "barge_0",
          null
         ]
        },
        {
         "connectgaps": false,
         "hoverinfo": "y+name",
         "line": {
          "color": "#ffff00",
          "width": 10
         },
         "mode": "lines",
         "name": "unloading:barge_0",
         "type": "scatter",
         "x": [
          "1970-01-01T02:13:59",
          "1970-01-01T02:47:32",
          "1970-01-01T02:47:32",
          "1970-01-01T05:01:31",
          "1970-01-01T05:35:04",
          "1970-01-01T05:35:04",
          "1970-01-01T07:49:03",
          "1970-01-01T08:22:36",
          "1970-01-01T08:22:36",
          "1970-01-01T10:42:59",
          "1970-01-01T11:16:32",
          "1970-01-01T11:16:32",
          "1970-01-01T14:05:07",
          "1970-01-01T14:38:40",
          "1970-01-01T14:38:40",
          "1970-01-01T18:04:59",
          "1970-01-01T18:38:32",
          "1970-01-01T18:38:32"
         ],
         "y": [
          "barge_0",
          "barge_0",
          null,
          "barge_0",
          "barge_0",
          null,
          "barge_0",
          "barge_0",
          null,
          "barge_0",
          "barge_0",
          null,
          "barge_0",
          "barge_0",
          null,
          "barge_0",
          "barge_0",
          null,
          "barge_0",
          "barge_0",
          null,
          "barge_0",
          "barge_0",
          null,
          "barge_0",
          "barge_0",
          null,
          "barge_0",
          "barge_0",
          null,
          "barge_0",
          "barge_0",
          null,
          "barge_0",
          "barge_0",
          null,
          "barge_0",
          "barge_0",
          null,
          "barge_0",
          "barge_0",
          null,
          "barge_0",
          "barge_0",
          null,
          "barge_0",
          "barge_0",
          null,
          "barge_0",
          "barge_0",
          null,
          "barge_0",
          "barge_0",
          null
         ]
        },
        {
         "connectgaps": false,
         "hoverinfo": "y+name",
         "line": {
          "color": "#00b050",
          "width": 10
         },
         "mode": "lines",
         "name": "basic activity:barge_1",
         "type": "scatter",
         "x": [
          "1970-01-01T00:00:00",
          "1970-01-01T00:37:46",
          "1970-01-01T00:37:46",
          "1970-01-01T03:29:18",
          "1970-01-01T04:07:04",
          "1970-01-01T04:07:04",
          "1970-01-01T06:33:42",
          "1970-01-01T07:11:28",
          "1970-01-01T07:11:28",
          "1970-01-01T09:46:02",
          "1970-01-01T10:23:48",
          "1970-01-01T10:23:48",
          "1970-01-01T12:50:26",
          "1970-01-01T13:28:12",
          "1970-01-01T13:28:12",
          "1970-01-01T15:54:50",
          "1970-01-01T16:32:36",
          "1970-01-01T16:32:36"
         ],
         "y": [
          "barge_1",
          "barge_1",
          null,
          "barge_1",
          "barge_1",
          null,
          "barge_1",
          "barge_1",
          null,
          "barge_1",
          "barge_1",
          null,
          "barge_1",
          "barge_1",
          null,
          "barge_1",
          "barge_1",
          null,
          "barge_1",
          "barge_1",
          null,
          "barge_1",
          "barge_1",
          null,
          "barge_1",
          "barge_1",
          null,
          "barge_1",
          "barge_1",
          null,
          "barge_1",
          "barge_1",
          null,
          "barge_1",
          "barge_1",
          null,
          "barge_1",
          "barge_1",
          null,
          "barge_1",
          "barge_1",
          null,
          "barge_1",
          "barge_1",
          null,
          "barge_1",
          "barge_1",
          null,
          "barge_1",
          "barge_1",
          null,
          "barge_1",
          "barge_1",
          null
         ]
        },
        {
         "connectgaps": false,
         "hoverinfo": "y+name",
         "line": {
          "color": "#990101",
          "width": 10
         },
         "mode": "lines",
         "name": "sailing empty:barge_1",
         "type": "scatter",
         "x": [
          "1970-01-01T00:37:46",
          "1970-01-01T01:15:32",
          "1970-01-01T01:15:32",
          "1970-01-01T04:07:04",
          "1970-01-01T04:44:50",
          "1970-01-01T04:44:50",
          "1970-01-01T07:11:28",
          "1970-01-01T07:49:14",
          "1970-01-01T07:49:14",
          "1970-01-01T10:23:48",
          "1970-01-01T11:01:34",
          "1970-01-01T11:01:34",
          "1970-01-01T13:28:12",
          "1970-01-01T14:05:58",
          "1970-01-01T14:05:58",
          "1970-01-01T16:32:36",
          "1970-01-01T17:10:22",
          "1970-01-01T17:10:22"
         ],
         "y": [
          "barge_1",
          "barge_1",
          null,
          "barge_1",
          "barge_1",
          null,
          "barge_1",
          "barge_1",
          null,
          "barge_1",
          "barge_1",
          null,
          "barge_1",
          "barge_1",
          null,
          "barge_1",
          "barge_1",
          null,
          "barge_1",
          "barge_1",
          null,
          "barge_1",
          "barge_1",
          null,
          "barge_1",
          "barge_1",
          null,
          "barge_1",
          "barge_1",
          null,
          "barge_1",
          "barge_1",
          null,
          "barge_1",
          "barge_1",
          null,
          "barge_1",
          "barge_1",
          null,
          "barge_1",
          "barge_1",
          null,
          "barge_1",
          "barge_1",
          null,
          "barge_1",
          "barge_1",
          null,
          "barge_1",
          "barge_1",
          null,
          "barge_1",
          "barge_1",
          null
         ]
        },
        {
         "connectgaps": false,
         "hoverinfo": "y+name",
         "line": {
          "color": "#ED7D31",
          "width": 10
         },
         "mode": "lines",
         "name": "loading:barge_1",
         "type": "scatter",
         "x": [
          "1970-01-01T01:40:26",
          "1970-01-01T02:13:46",
          "1970-01-01T02:13:46",
          "1970-01-01T04:44:50",
          "1970-01-01T05:18:10",
          "1970-01-01T05:18:10",
          "1970-01-01T07:57:10",
          "1970-01-01T08:30:30",
          "1970-01-01T08:30:30",
          "1970-01-01T11:01:34",
          "1970-01-01T11:34:54",
          "1970-01-01T11:34:54",
          "1970-01-01T14:05:58",
          "1970-01-01T14:39:18",
          "1970-01-01T14:39:18",
          "1970-01-01T17:31:26",
          "1970-01-01T18:04:46",
          "1970-01-01T18:04:46"
         ],
         "y": [
          "barge_1",
          "barge_1",
          null,
          "barge_1",
          "barge_1",
          null,
          "barge_1",
          "barge_1",
          null,
          "barge_1",
          "barge_1",
          null,
          "barge_1",
          "barge_1",
          null,
          "barge_1",
          "barge_1",
          null,
          "barge_1",
          "barge_1",
          null,
          "barge_1",
          "barge_1",
          null,
          "barge_1",
          "barge_1",
          null,
          "barge_1",
          "barge_1",
          null,
          "barge_1",
          "barge_1",
          null,
          "barge_1",
          "barge_1",
          null,
          "barge_1",
          "barge_1",
          null,
          "barge_1",
          "barge_1",
          null,
          "barge_1",
          "barge_1",
          null,
          "barge_1",
          "barge_1",
          null,
          "barge_1",
          "barge_1",
          null,
          "barge_1",
          "barge_1",
          null
         ]
        },
        {
         "connectgaps": false,
         "hoverinfo": "y+name",
         "line": {
          "color": "#7030A0",
          "width": 10
         },
         "mode": "lines",
         "name": "sailing full:barge_1",
         "type": "scatter",
         "x": [
          "1970-01-01T02:13:46",
          "1970-01-01T02:51:32",
          "1970-01-01T02:51:32",
          "1970-01-01T05:18:10",
          "1970-01-01T05:55:56",
          "1970-01-01T05:55:56",
          "1970-01-01T08:30:30",
          "1970-01-01T09:08:16",
          "1970-01-01T09:08:16",
          "1970-01-01T11:34:54",
          "1970-01-01T12:12:40",
          "1970-01-01T12:12:40",
          "1970-01-01T14:39:18",
          "1970-01-01T15:17:04",
          "1970-01-01T15:17:04",
          "1970-01-01T18:04:46",
          "1970-01-01T18:42:32",
          "1970-01-01T18:42:32"
         ],
         "y": [
          "barge_1",
          "barge_1",
          null,
          "barge_1",
          "barge_1",
          null,
          "barge_1",
          "barge_1",
          null,
          "barge_1",
          "barge_1",
          null,
          "barge_1",
          "barge_1",
          null,
          "barge_1",
          "barge_1",
          null,
          "barge_1",
          "barge_1",
          null,
          "barge_1",
          "barge_1",
          null,
          "barge_1",
          "barge_1",
          null,
          "barge_1",
          "barge_1",
          null,
          "barge_1",
          "barge_1",
          null,
          "barge_1",
          "barge_1",
          null,
          "barge_1",
          "barge_1",
          null,
          "barge_1",
          "barge_1",
          null,
          "barge_1",
          "barge_1",
          null,
          "barge_1",
          "barge_1",
          null,
          "barge_1",
          "barge_1",
          null,
          "barge_1",
          "barge_1",
          null
         ]
        },
        {
         "connectgaps": false,
         "hoverinfo": "y+name",
         "line": {
          "color": "#1EB299",
          "width": 10
         },
         "mode": "lines",
         "name": "unloading:barge_1",
         "type": "scatter",
         "x": [
          "1970-01-01T02:51:32",
          "1970-01-01T03:29:18",
          "1970-01-01T03:29:18",
          "1970-01-01T05:55:56",
          "1970-01-01T06:33:42",
          "1970-01-01T06:33:42",
          "1970-01-01T09:08:16",
          "1970-01-01T09:46:02",
          "1970-01-01T09:46:02",
          "1970-01-01T12:12:40",
          "1970-01-01T12:50:26",
          "1970-01-01T12:50:26",
          "1970-01-01T15:17:04",
          "1970-01-01T15:54:50",
          "1970-01-01T15:54:50",
          "1970-01-01T18:42:32",
          "1970-01-01T19:20:18",
          "1970-01-01T19:20:18"
         ],
         "y": [
          "barge_1",
          "barge_1",
          null,
          "barge_1",
          "barge_1",
          null,
          "barge_1",
          "barge_1",
          null,
          "barge_1",
          "barge_1",
          null,
          "barge_1",
          "barge_1",
          null,
          "barge_1",
          "barge_1",
          null,
          "barge_1",
          "barge_1",
          null,
          "barge_1",
          "barge_1",
          null,
          "barge_1",
          "barge_1",
          null,
          "barge_1",
          "barge_1",
          null,
          "barge_1",
          "barge_1",
          null,
          "barge_1",
          "barge_1",
          null,
          "barge_1",
          "barge_1",
          null,
          "barge_1",
          "barge_1",
          null,
          "barge_1",
          "barge_1",
          null,
          "barge_1",
          "barge_1",
          null,
          "barge_1",
          "barge_1",
          null,
          "barge_1",
          "barge_1",
          null
         ]
        },
        {
         "connectgaps": false,
         "hoverinfo": "y+name",
         "line": {
          "color": "#483700",
          "width": 10
         },
         "mode": "lines",
         "name": "basic activity:barge_2",
         "type": "scatter",
         "x": [
          "1970-01-01T00:00:00",
          "1970-01-01T00:49:33",
          "1970-01-01T00:49:33",
          "1970-01-01T05:16:12",
          "1970-01-01T06:05:45",
          "1970-01-01T06:05:45",
          "1970-01-01T09:36:16",
          "1970-01-01T10:25:49",
          "1970-01-01T10:25:49",
          "1970-01-01T13:55:40",
          "1970-01-01T14:45:13",
          "1970-01-01T14:45:13",
          "1970-01-01T17:55:32",
          "1970-01-01T18:45:05",
          "1970-01-01T18:45:05"
         ],
         "y": [
          "barge_2",
          "barge_2",
          null,
          "barge_2",
          "barge_2",
          null,
          "barge_2",
          "barge_2",
          null,
          "barge_2",
          "barge_2",
          null,
          "barge_2",
          "barge_2",
          null,
          "barge_2",
          "barge_2",
          null,
          "barge_2",
          "barge_2",
          null,
          "barge_2",
          "barge_2",
          null,
          "barge_2",
          "barge_2",
          null,
          "barge_2",
          "barge_2",
          null,
          "barge_2",
          "barge_2",
          null,
          "barge_2",
          "barge_2",
          null,
          "barge_2",
          "barge_2",
          null,
          "barge_2",
          "barge_2",
          null,
          "barge_2",
          "barge_2",
          null
         ]
        },
        {
         "connectgaps": false,
         "hoverinfo": "y+name",
         "line": {
          "color": "#CCECFF",
          "width": 10
         },
         "mode": "lines",
         "name": "sailing empty:barge_2",
         "type": "scatter",
         "x": [
          "1970-01-01T00:49:33",
          "1970-01-01T01:39:06",
          "1970-01-01T01:39:06",
          "1970-01-01T06:05:45",
          "1970-01-01T06:55:18",
          "1970-01-01T06:55:18",
          "1970-01-01T10:25:49",
          "1970-01-01T11:15:22",
          "1970-01-01T11:15:22",
          "1970-01-01T14:45:13",
          "1970-01-01T15:34:46",
          "1970-01-01T15:34:46",
          "1970-01-01T18:45:05",
          "1970-01-01T19:34:38",
          "1970-01-01T19:34:38"
         ],
         "y": [
          "barge_2",
          "barge_2",
          null,
          "barge_2",
          "barge_2",
          null,
          "barge_2",
          "barge_2",
          null,
          "barge_2",
          "barge_2",
          null,
          "barge_2",
          "barge_2",
          null,
          "barge_2",
          "barge_2",
          null,
          "barge_2",
          "barge_2",
          null,
          "barge_2",
          "barge_2",
          null,
          "barge_2",
          "barge_2",
          null,
          "barge_2",
          "barge_2",
          null,
          "barge_2",
          "barge_2",
          null,
          "barge_2",
          "barge_2",
          null,
          "barge_2",
          "barge_2",
          null,
          "barge_2",
          "barge_2",
          null,
          "barge_2",
          "barge_2",
          null
         ]
        },
        {
         "connectgaps": false,
         "hoverinfo": "y+name",
         "line": {
          "color": "#c6e0b4",
          "width": 10
         },
         "mode": "lines",
         "name": "loading:barge_2",
         "type": "scatter",
         "x": [
          "1970-01-01T02:55:26",
          "1970-01-01T03:37:06",
          "1970-01-01T03:37:06",
          "1970-01-01T07:15:30",
          "1970-01-01T07:57:10",
          "1970-01-01T07:57:10",
          "1970-01-01T11:34:54",
          "1970-01-01T12:16:34",
          "1970-01-01T12:16:34",
          "1970-01-01T15:34:46",
          "1970-01-01T16:16:26",
          "1970-01-01T16:16:26",
          "1970-01-01T19:34:38",
          "1970-01-01T20:16:18",
          "1970-01-01T20:16:18"
         ],
         "y": [
          "barge_2",
          "barge_2",
          null,
          "barge_2",
          "barge_2",
          null,
          "barge_2",
          "barge_2",
          null,
          "barge_2",
          "barge_2",
          null,
          "barge_2",
          "barge_2",
          null,
          "barge_2",
          "barge_2",
          null,
          "barge_2",
          "barge_2",
          null,
          "barge_2",
          "barge_2",
          null,
          "barge_2",
          "barge_2",
          null,
          "barge_2",
          "barge_2",
          null,
          "barge_2",
          "barge_2",
          null,
          "barge_2",
          "barge_2",
          null,
          "barge_2",
          "barge_2",
          null,
          "barge_2",
          "barge_2",
          null,
          "barge_2",
          "barge_2",
          null
         ]
        },
        {
         "connectgaps": false,
         "hoverinfo": "y+name",
         "line": {
          "color": "#525252",
          "width": 10
         },
         "mode": "lines",
         "name": "sailing full:barge_2",
         "type": "scatter",
         "x": [
          "1970-01-01T03:37:06",
          "1970-01-01T04:26:39",
          "1970-01-01T04:26:39",
          "1970-01-01T07:57:10",
          "1970-01-01T08:46:43",
          "1970-01-01T08:46:43",
          "1970-01-01T12:16:34",
          "1970-01-01T13:06:07",
          "1970-01-01T13:06:07",
          "1970-01-01T16:16:26",
          "1970-01-01T17:05:59",
          "1970-01-01T17:05:59",
          "1970-01-01T20:16:18",
          "1970-01-01T21:05:51",
          "1970-01-01T21:05:51"
         ],
         "y": [
          "barge_2",
          "barge_2",
          null,
          "barge_2",
          "barge_2",
          null,
          "barge_2",
          "barge_2",
          null,
          "barge_2",
          "barge_2",
          null,
          "barge_2",
          "barge_2",
          null,
          "barge_2",
          "barge_2",
          null,
          "barge_2",
          "barge_2",
          null,
          "barge_2",
          "barge_2",
          null,
          "barge_2",
          "barge_2",
          null,
          "barge_2",
          "barge_2",
          null,
          "barge_2",
          "barge_2",
          null,
          "barge_2",
          "barge_2",
          null,
          "barge_2",
          "barge_2",
          null,
          "barge_2",
          "barge_2",
          null,
          "barge_2",
          "barge_2",
          null
         ]
        },
        {
         "connectgaps": false,
         "hoverinfo": "y+name",
         "line": {
          "color": "#f8cbad",
          "width": 10
         },
         "mode": "lines",
         "name": "unloading:barge_2",
         "type": "scatter",
         "x": [
          "1970-01-01T04:26:39",
          "1970-01-01T05:16:12",
          "1970-01-01T05:16:12",
          "1970-01-01T08:46:43",
          "1970-01-01T09:36:16",
          "1970-01-01T09:36:16",
          "1970-01-01T13:06:07",
          "1970-01-01T13:55:40",
          "1970-01-01T13:55:40",
          "1970-01-01T17:05:59",
          "1970-01-01T17:55:32",
          "1970-01-01T17:55:32",
          "1970-01-01T21:05:51",
          "1970-01-01T21:55:24",
          "1970-01-01T21:55:24"
         ],
         "y": [
          "barge_2",
          "barge_2",
          null,
          "barge_2",
          "barge_2",
          null,
          "barge_2",
          "barge_2",
          null,
          "barge_2",
          "barge_2",
          null,
          "barge_2",
          "barge_2",
          null,
          "barge_2",
          "barge_2",
          null,
          "barge_2",
          "barge_2",
          null,
          "barge_2",
          "barge_2",
          null,
          "barge_2",
          "barge_2",
          null,
          "barge_2",
          "barge_2",
          null,
          "barge_2",
          "barge_2",
          null,
          "barge_2",
          "barge_2",
          null,
          "barge_2",
          "barge_2",
          null,
          "barge_2",
          "barge_2",
          null,
          "barge_2",
          "barge_2",
          null
         ]
        },
        {
         "connectgaps": false,
         "hoverinfo": "y+name",
         "line": {
          "color": "#bf95df",
          "width": 10
         },
         "mode": "lines",
         "name": "basic activity:barge_3",
         "type": "scatter",
         "x": [
          "1970-01-01T00:00:00",
          "1970-01-01T00:39:40",
          "1970-01-01T00:39:40",
          "1970-01-01T04:14:46",
          "1970-01-01T04:54:26",
          "1970-01-01T04:54:26",
          "1970-01-01T07:35:06",
          "1970-01-01T08:14:46",
          "1970-01-01T08:14:46",
          "1970-01-01T10:55:26",
          "1970-01-01T11:35:06",
          "1970-01-01T11:35:06",
          "1970-01-01T14:17:34",
          "1970-01-01T14:57:14",
          "1970-01-01T14:57:14",
          "1970-01-01T18:17:26",
          "1970-01-01T18:57:06",
          "1970-01-01T18:57:06"
         ],
         "y": [
          "barge_3",
          "barge_3",
          null,
          "barge_3",
          "barge_3",
          null,
          "barge_3",
          "barge_3",
          null,
          "barge_3",
          "barge_3",
          null,
          "barge_3",
          "barge_3",
          null,
          "barge_3",
          "barge_3",
          null,
          "barge_3",
          "barge_3",
          null,
          "barge_3",
          "barge_3",
          null,
          "barge_3",
          "barge_3",
          null,
          "barge_3",
          "barge_3",
          null,
          "barge_3",
          "barge_3",
          null,
          "barge_3",
          "barge_3",
          null,
          "barge_3",
          "barge_3",
          null,
          "barge_3",
          "barge_3",
          null,
          "barge_3",
          "barge_3",
          null,
          "barge_3",
          "barge_3",
          null,
          "barge_3",
          "barge_3",
          null,
          "barge_3",
          "barge_3",
          null
         ]
        },
        {
         "connectgaps": false,
         "hoverinfo": "y+name",
         "line": {
          "color": "darkred",
          "width": 10
         },
         "mode": "lines",
         "name": "sailing empty:barge_3",
         "type": "scatter",
         "x": [
          "1970-01-01T00:39:40",
          "1970-01-01T01:19:20",
          "1970-01-01T01:19:20",
          "1970-01-01T04:54:26",
          "1970-01-01T05:34:06",
          "1970-01-01T05:34:06",
          "1970-01-01T08:14:46",
          "1970-01-01T08:54:26",
          "1970-01-01T08:54:26",
          "1970-01-01T11:35:06",
          "1970-01-01T12:14:46",
          "1970-01-01T12:14:46",
          "1970-01-01T14:57:14",
          "1970-01-01T15:36:54",
          "1970-01-01T15:36:54",
          "1970-01-01T18:57:06",
          "1970-01-01T19:36:46",
          "1970-01-01T19:36:46"
         ],
         "y": [
          "barge_3",
          "barge_3",
          null,
          "barge_3",
          "barge_3",
          null,
          "barge_3",
          "barge_3",
          null,
          "barge_3",
          "barge_3",
          null,
          "barge_3",
          "barge_3",
          null,
          "barge_3",
          "barge_3",
          null,
          "barge_3",
          "barge_3",
          null,
          "barge_3",
          "barge_3",
          null,
          "barge_3",
          "barge_3",
          null,
          "barge_3",
          "barge_3",
          null,
          "barge_3",
          "barge_3",
          null,
          "barge_3",
          "barge_3",
          null,
          "barge_3",
          "barge_3",
          null,
          "barge_3",
          "barge_3",
          null,
          "barge_3",
          "barge_3",
          null,
          "barge_3",
          "barge_3",
          null,
          "barge_3",
          "barge_3",
          null,
          "barge_3",
          "barge_3",
          null
         ]
        },
        {
         "connectgaps": false,
         "hoverinfo": "y+name",
         "line": {
          "color": "magenta",
          "width": 10
         },
         "mode": "lines",
         "name": "loading:barge_3",
         "type": "scatter",
         "x": [
          "1970-01-01T02:13:46",
          "1970-01-01T02:55:26",
          "1970-01-01T02:55:26",
          "1970-01-01T05:34:06",
          "1970-01-01T06:15:46",
          "1970-01-01T06:15:46",
          "1970-01-01T08:54:26",
          "1970-01-01T09:36:06",
          "1970-01-01T09:36:06",
          "1970-01-01T12:16:34",
          "1970-01-01T12:58:14",
          "1970-01-01T12:58:14",
          "1970-01-01T16:16:26",
          "1970-01-01T16:58:06",
          "1970-01-01T16:58:06",
          "1970-01-01T20:16:18",
          "1970-01-01T20:57:58",
          "1970-01-01T20:57:58"
         ],
         "y": [
          "barge_3",
          "barge_3",
          null,
          "barge_3",
          "barge_3",
          null,
          "barge_3",
          "barge_3",
          null,
          "barge_3",
          "barge_3",
          null,
          "barge_3",
          "barge_3",
          null,
          "barge_3",
          "barge_3",
          null,
          "barge_3",
          "barge_3",
          null,
          "barge_3",
          "barge_3",
          null,
          "barge_3",
          "barge_3",
          null,
          "barge_3",
          "barge_3",
          null,
          "barge_3",
          "barge_3",
          null,
          "barge_3",
          "barge_3",
          null,
          "barge_3",
          "barge_3",
          null,
          "barge_3",
          "barge_3",
          null,
          "barge_3",
          "barge_3",
          null,
          "barge_3",
          "barge_3",
          null,
          "barge_3",
          "barge_3",
          null,
          "barge_3",
          "barge_3",
          null
         ]
        },
        {
         "connectgaps": false,
         "hoverinfo": "y+name",
         "line": {
          "color": "cyan",
          "width": 10
         },
         "mode": "lines",
         "name": "sailing full:barge_3",
         "type": "scatter",
         "x": [
          "1970-01-01T02:55:26",
          "1970-01-01T03:35:06",
          "1970-01-01T03:35:06",
          "1970-01-01T06:15:46",
          "1970-01-01T06:55:26",
          "1970-01-01T06:55:26",
          "1970-01-01T09:36:06",
          "1970-01-01T10:15:46",
          "1970-01-01T10:15:46",
          "1970-01-01T12:58:14",
          "1970-01-01T13:37:54",
          "1970-01-01T13:37:54",
          "1970-01-01T16:58:06",
          "1970-01-01T17:37:46",
          "1970-01-01T17:37:46",
          "1970-01-01T20:57:58",
          "1970-01-01T21:37:38",
          "1970-01-01T21:37:38"
         ],
         "y": [
          "barge_3",
          "barge_3",
          null,
          "barge_3",
          "barge_3",
          null,
          "barge_3",
          "barge_3",
          null,
          "barge_3",
          "barge_3",
          null,
          "barge_3",
          "barge_3",
          null,
          "barge_3",
          "barge_3",
          null,
          "barge_3",
          "barge_3",
          null,
          "barge_3",
          "barge_3",
          null,
          "barge_3",
          "barge_3",
          null,
          "barge_3",
          "barge_3",
          null,
          "barge_3",
          "barge_3",
          null,
          "barge_3",
          "barge_3",
          null,
          "barge_3",
          "barge_3",
          null,
          "barge_3",
          "barge_3",
          null,
          "barge_3",
          "barge_3",
          null,
          "barge_3",
          "barge_3",
          null,
          "barge_3",
          "barge_3",
          null,
          "barge_3",
          "barge_3",
          null
         ]
        },
        {
         "connectgaps": false,
         "hoverinfo": "y+name",
         "line": {
          "color": "orange",
          "width": 10
         },
         "mode": "lines",
         "name": "unloading:barge_3",
         "type": "scatter",
         "x": [
          "1970-01-01T03:35:06",
          "1970-01-01T04:14:46",
          "1970-01-01T04:14:46",
          "1970-01-01T06:55:26",
          "1970-01-01T07:35:06",
          "1970-01-01T07:35:06",
          "1970-01-01T10:15:46",
          "1970-01-01T10:55:26",
          "1970-01-01T10:55:26",
          "1970-01-01T13:37:54",
          "1970-01-01T14:17:34",
          "1970-01-01T14:17:34",
          "1970-01-01T17:37:46",
          "1970-01-01T18:17:26",
          "1970-01-01T18:17:26",
          "1970-01-01T21:37:38",
          "1970-01-01T22:17:18",
          "1970-01-01T22:17:18"
         ],
         "y": [
          "barge_3",
          "barge_3",
          null,
          "barge_3",
          "barge_3",
          null,
          "barge_3",
          "barge_3",
          null,
          "barge_3",
          "barge_3",
          null,
          "barge_3",
          "barge_3",
          null,
          "barge_3",
          "barge_3",
          null,
          "barge_3",
          "barge_3",
          null,
          "barge_3",
          "barge_3",
          null,
          "barge_3",
          "barge_3",
          null,
          "barge_3",
          "barge_3",
          null,
          "barge_3",
          "barge_3",
          null,
          "barge_3",
          "barge_3",
          null,
          "barge_3",
          "barge_3",
          null,
          "barge_3",
          "barge_3",
          null,
          "barge_3",
          "barge_3",
          null,
          "barge_3",
          "barge_3",
          null,
          "barge_3",
          "barge_3",
          null,
          "barge_3",
          "barge_3",
          null
         ]
        },
        {
         "connectgaps": false,
         "hoverinfo": "y+name",
         "line": {
          "color": "#ff0000",
          "width": 10
         },
         "mode": "lines",
         "name": "loading:barge_0",
         "type": "scatter",
         "x": [
          "1970-01-01T01:07:06",
          "1970-01-01T01:40:26",
          "1970-01-01T01:40:26",
          "1970-01-01T03:54:38",
          "1970-01-01T04:27:58",
          "1970-01-01T04:27:58",
          "1970-01-01T06:42:10",
          "1970-01-01T07:15:30",
          "1970-01-01T07:15:30",
          "1970-01-01T09:36:06",
          "1970-01-01T10:09:26",
          "1970-01-01T10:09:26",
          "1970-01-01T12:58:14",
          "1970-01-01T13:31:34",
          "1970-01-01T13:31:34",
          "1970-01-01T16:58:06",
          "1970-01-01T17:31:26",
          "1970-01-01T17:31:26"
         ],
         "y": [
          "cutter",
          "cutter",
          null,
          "cutter",
          "cutter",
          null,
          "cutter",
          "cutter",
          null,
          "cutter",
          "cutter",
          null,
          "cutter",
          "cutter",
          null,
          "cutter",
          "cutter",
          null,
          "cutter",
          "cutter",
          null,
          "cutter",
          "cutter",
          null,
          "cutter",
          "cutter",
          null,
          "cutter",
          "cutter",
          null,
          "cutter",
          "cutter",
          null,
          "cutter",
          "cutter",
          null,
          "cutter",
          "cutter",
          null,
          "cutter",
          "cutter",
          null,
          "cutter",
          "cutter",
          null,
          "cutter",
          "cutter",
          null,
          "cutter",
          "cutter",
          null,
          "cutter",
          "cutter",
          null
         ]
        },
        {
         "connectgaps": false,
         "hoverinfo": "y+name",
         "line": {
          "color": "#bfbfbf",
          "width": 10
         },
         "mode": "lines",
         "name": "loading:barge_1",
         "type": "scatter",
         "x": [
          "1970-01-01T01:40:26",
          "1970-01-01T02:13:46",
          "1970-01-01T02:13:46",
          "1970-01-01T04:44:50",
          "1970-01-01T05:18:10",
          "1970-01-01T05:18:10",
          "1970-01-01T07:57:10",
          "1970-01-01T08:30:30",
          "1970-01-01T08:30:30",
          "1970-01-01T11:01:34",
          "1970-01-01T11:34:54",
          "1970-01-01T11:34:54",
          "1970-01-01T14:05:58",
          "1970-01-01T14:39:18",
          "1970-01-01T14:39:18",
          "1970-01-01T17:31:26",
          "1970-01-01T18:04:46",
          "1970-01-01T18:04:46"
         ],
         "y": [
          "cutter",
          "cutter",
          null,
          "cutter",
          "cutter",
          null,
          "cutter",
          "cutter",
          null,
          "cutter",
          "cutter",
          null,
          "cutter",
          "cutter",
          null,
          "cutter",
          "cutter",
          null,
          "cutter",
          "cutter",
          null,
          "cutter",
          "cutter",
          null,
          "cutter",
          "cutter",
          null,
          "cutter",
          "cutter",
          null,
          "cutter",
          "cutter",
          null,
          "cutter",
          "cutter",
          null,
          "cutter",
          "cutter",
          null,
          "cutter",
          "cutter",
          null,
          "cutter",
          "cutter",
          null,
          "cutter",
          "cutter",
          null,
          "cutter",
          "cutter",
          null,
          "cutter",
          "cutter",
          null
         ]
        },
        {
         "connectgaps": false,
         "hoverinfo": "y+name",
         "line": {
          "color": "#305496",
          "width": 10
         },
         "mode": "lines",
         "name": "loading:barge_3",
         "type": "scatter",
         "x": [
          "1970-01-01T02:13:46",
          "1970-01-01T02:55:26",
          "1970-01-01T02:55:26",
          "1970-01-01T05:34:06",
          "1970-01-01T06:15:46",
          "1970-01-01T06:15:46",
          "1970-01-01T08:54:26",
          "1970-01-01T09:36:06",
          "1970-01-01T09:36:06",
          "1970-01-01T12:16:34",
          "1970-01-01T12:58:14",
          "1970-01-01T12:58:14",
          "1970-01-01T16:16:26",
          "1970-01-01T16:58:06",
          "1970-01-01T16:58:06",
          "1970-01-01T20:16:18",
          "1970-01-01T20:57:58",
          "1970-01-01T20:57:58"
         ],
         "y": [
          "cutter",
          "cutter",
          null,
          "cutter",
          "cutter",
          null,
          "cutter",
          "cutter",
          null,
          "cutter",
          "cutter",
          null,
          "cutter",
          "cutter",
          null,
          "cutter",
          "cutter",
          null,
          "cutter",
          "cutter",
          null,
          "cutter",
          "cutter",
          null,
          "cutter",
          "cutter",
          null,
          "cutter",
          "cutter",
          null,
          "cutter",
          "cutter",
          null,
          "cutter",
          "cutter",
          null,
          "cutter",
          "cutter",
          null,
          "cutter",
          "cutter",
          null,
          "cutter",
          "cutter",
          null,
          "cutter",
          "cutter",
          null,
          "cutter",
          "cutter",
          null,
          "cutter",
          "cutter",
          null
         ]
        },
        {
         "connectgaps": false,
         "hoverinfo": "y+name",
         "line": {
          "color": "#00b0f0",
          "width": 10
         },
         "mode": "lines",
         "name": "loading:barge_2",
         "type": "scatter",
         "x": [
          "1970-01-01T02:55:26",
          "1970-01-01T03:37:06",
          "1970-01-01T03:37:06",
          "1970-01-01T07:15:30",
          "1970-01-01T07:57:10",
          "1970-01-01T07:57:10",
          "1970-01-01T11:34:54",
          "1970-01-01T12:16:34",
          "1970-01-01T12:16:34",
          "1970-01-01T15:34:46",
          "1970-01-01T16:16:26",
          "1970-01-01T16:16:26",
          "1970-01-01T19:34:38",
          "1970-01-01T20:16:18",
          "1970-01-01T20:16:18"
         ],
         "y": [
          "cutter",
          "cutter",
          null,
          "cutter",
          "cutter",
          null,
          "cutter",
          "cutter",
          null,
          "cutter",
          "cutter",
          null,
          "cutter",
          "cutter",
          null,
          "cutter",
          "cutter",
          null,
          "cutter",
          "cutter",
          null,
          "cutter",
          "cutter",
          null,
          "cutter",
          "cutter",
          null,
          "cutter",
          "cutter",
          null,
          "cutter",
          "cutter",
          null,
          "cutter",
          "cutter",
          null,
          "cutter",
          "cutter",
          null,
          "cutter",
          "cutter",
          null,
          "cutter",
          "cutter",
          null
         ]
        },
        {
         "connectgaps": false,
         "hoverinfo": "y+name",
         "line": {
          "color": "#ffff00",
          "width": 10
         },
         "mode": "lines",
         "name": "loading:barge_0",
         "type": "scatter",
         "x": [
          "1970-01-01T01:07:06",
          "1970-01-01T01:40:26",
          "1970-01-01T01:40:26",
          "1970-01-01T03:54:38",
          "1970-01-01T04:27:58",
          "1970-01-01T04:27:58",
          "1970-01-01T06:42:10",
          "1970-01-01T07:15:30",
          "1970-01-01T07:15:30",
          "1970-01-01T09:36:06",
          "1970-01-01T10:09:26",
          "1970-01-01T10:09:26",
          "1970-01-01T12:58:14",
          "1970-01-01T13:31:34",
          "1970-01-01T13:31:34",
          "1970-01-01T16:58:06",
          "1970-01-01T17:31:26",
          "1970-01-01T17:31:26"
         ],
         "y": [
          "from_site",
          "from_site",
          null,
          "from_site",
          "from_site",
          null,
          "from_site",
          "from_site",
          null,
          "from_site",
          "from_site",
          null,
          "from_site",
          "from_site",
          null,
          "from_site",
          "from_site",
          null,
          "from_site",
          "from_site",
          null,
          "from_site",
          "from_site",
          null,
          "from_site",
          "from_site",
          null,
          "from_site",
          "from_site",
          null,
          "from_site",
          "from_site",
          null,
          "from_site",
          "from_site",
          null,
          "from_site",
          "from_site",
          null,
          "from_site",
          "from_site",
          null,
          "from_site",
          "from_site",
          null,
          "from_site",
          "from_site",
          null,
          "from_site",
          "from_site",
          null,
          "from_site",
          "from_site",
          null
         ]
        },
        {
         "connectgaps": false,
         "hoverinfo": "y+name",
         "line": {
          "color": "#00b050",
          "width": 10
         },
         "mode": "lines",
         "name": "loading:barge_1",
         "type": "scatter",
         "x": [
          "1970-01-01T01:40:26",
          "1970-01-01T02:13:46",
          "1970-01-01T02:13:46",
          "1970-01-01T04:44:50",
          "1970-01-01T05:18:10",
          "1970-01-01T05:18:10",
          "1970-01-01T07:57:10",
          "1970-01-01T08:30:30",
          "1970-01-01T08:30:30",
          "1970-01-01T11:01:34",
          "1970-01-01T11:34:54",
          "1970-01-01T11:34:54",
          "1970-01-01T14:05:58",
          "1970-01-01T14:39:18",
          "1970-01-01T14:39:18",
          "1970-01-01T17:31:26",
          "1970-01-01T18:04:46",
          "1970-01-01T18:04:46"
         ],
         "y": [
          "from_site",
          "from_site",
          null,
          "from_site",
          "from_site",
          null,
          "from_site",
          "from_site",
          null,
          "from_site",
          "from_site",
          null,
          "from_site",
          "from_site",
          null,
          "from_site",
          "from_site",
          null,
          "from_site",
          "from_site",
          null,
          "from_site",
          "from_site",
          null,
          "from_site",
          "from_site",
          null,
          "from_site",
          "from_site",
          null,
          "from_site",
          "from_site",
          null,
          "from_site",
          "from_site",
          null,
          "from_site",
          "from_site",
          null,
          "from_site",
          "from_site",
          null,
          "from_site",
          "from_site",
          null,
          "from_site",
          "from_site",
          null,
          "from_site",
          "from_site",
          null,
          "from_site",
          "from_site",
          null
         ]
        },
        {
         "connectgaps": false,
         "hoverinfo": "y+name",
         "line": {
          "color": "#990101",
          "width": 10
         },
         "mode": "lines",
         "name": "loading:barge_3",
         "type": "scatter",
         "x": [
          "1970-01-01T02:13:46",
          "1970-01-01T02:55:26",
          "1970-01-01T02:55:26",
          "1970-01-01T05:34:06",
          "1970-01-01T06:15:46",
          "1970-01-01T06:15:46",
          "1970-01-01T08:54:26",
          "1970-01-01T09:36:06",
          "1970-01-01T09:36:06",
          "1970-01-01T12:16:34",
          "1970-01-01T12:58:14",
          "1970-01-01T12:58:14",
          "1970-01-01T16:16:26",
          "1970-01-01T16:58:06",
          "1970-01-01T16:58:06",
          "1970-01-01T20:16:18",
          "1970-01-01T20:57:58",
          "1970-01-01T20:57:58"
         ],
         "y": [
          "from_site",
          "from_site",
          null,
          "from_site",
          "from_site",
          null,
          "from_site",
          "from_site",
          null,
          "from_site",
          "from_site",
          null,
          "from_site",
          "from_site",
          null,
          "from_site",
          "from_site",
          null,
          "from_site",
          "from_site",
          null,
          "from_site",
          "from_site",
          null,
          "from_site",
          "from_site",
          null,
          "from_site",
          "from_site",
          null,
          "from_site",
          "from_site",
          null,
          "from_site",
          "from_site",
          null,
          "from_site",
          "from_site",
          null,
          "from_site",
          "from_site",
          null,
          "from_site",
          "from_site",
          null,
          "from_site",
          "from_site",
          null,
          "from_site",
          "from_site",
          null,
          "from_site",
          "from_site",
          null
         ]
        },
        {
         "connectgaps": false,
         "hoverinfo": "y+name",
         "line": {
          "color": "#ED7D31",
          "width": 10
         },
         "mode": "lines",
         "name": "loading:barge_2",
         "type": "scatter",
         "x": [
          "1970-01-01T02:55:26",
          "1970-01-01T03:37:06",
          "1970-01-01T03:37:06",
          "1970-01-01T07:15:30",
          "1970-01-01T07:57:10",
          "1970-01-01T07:57:10",
          "1970-01-01T11:34:54",
          "1970-01-01T12:16:34",
          "1970-01-01T12:16:34",
          "1970-01-01T15:34:46",
          "1970-01-01T16:16:26",
          "1970-01-01T16:16:26",
          "1970-01-01T19:34:38",
          "1970-01-01T20:16:18",
          "1970-01-01T20:16:18"
         ],
         "y": [
          "from_site",
          "from_site",
          null,
          "from_site",
          "from_site",
          null,
          "from_site",
          "from_site",
          null,
          "from_site",
          "from_site",
          null,
          "from_site",
          "from_site",
          null,
          "from_site",
          "from_site",
          null,
          "from_site",
          "from_site",
          null,
          "from_site",
          "from_site",
          null,
          "from_site",
          "from_site",
          null,
          "from_site",
          "from_site",
          null,
          "from_site",
          "from_site",
          null,
          "from_site",
          "from_site",
          null,
          "from_site",
          "from_site",
          null,
          "from_site",
          "from_site",
          null,
          "from_site",
          "from_site",
          null
         ]
        },
        {
         "connectgaps": false,
         "hoverinfo": "y+name",
         "line": {
          "color": "#7030A0",
          "width": 10
         },
         "mode": "lines",
         "name": "unloading:barge_0",
         "type": "scatter",
         "x": [
          "1970-01-01T02:13:59",
          "1970-01-01T02:47:32",
          "1970-01-01T02:47:32",
          "1970-01-01T05:01:31",
          "1970-01-01T05:35:04",
          "1970-01-01T05:35:04",
          "1970-01-01T07:49:03",
          "1970-01-01T08:22:36",
          "1970-01-01T08:22:36",
          "1970-01-01T10:42:59",
          "1970-01-01T11:16:32",
          "1970-01-01T11:16:32",
          "1970-01-01T14:05:07",
          "1970-01-01T14:38:40",
          "1970-01-01T14:38:40",
          "1970-01-01T18:04:59",
          "1970-01-01T18:38:32",
          "1970-01-01T18:38:32"
         ],
         "y": [
          "to_site",
          "to_site",
          null,
          "to_site",
          "to_site",
          null,
          "to_site",
          "to_site",
          null,
          "to_site",
          "to_site",
          null,
          "to_site",
          "to_site",
          null,
          "to_site",
          "to_site",
          null,
          "to_site",
          "to_site",
          null,
          "to_site",
          "to_site",
          null,
          "to_site",
          "to_site",
          null,
          "to_site",
          "to_site",
          null,
          "to_site",
          "to_site",
          null,
          "to_site",
          "to_site",
          null,
          "to_site",
          "to_site",
          null,
          "to_site",
          "to_site",
          null,
          "to_site",
          "to_site",
          null,
          "to_site",
          "to_site",
          null,
          "to_site",
          "to_site",
          null,
          "to_site",
          "to_site",
          null
         ]
        },
        {
         "connectgaps": false,
         "hoverinfo": "y+name",
         "line": {
          "color": "#1EB299",
          "width": 10
         },
         "mode": "lines",
         "name": "unloading:barge_1",
         "type": "scatter",
         "x": [
          "1970-01-01T02:51:32",
          "1970-01-01T03:29:18",
          "1970-01-01T03:29:18",
          "1970-01-01T05:55:56",
          "1970-01-01T06:33:42",
          "1970-01-01T06:33:42",
          "1970-01-01T09:08:16",
          "1970-01-01T09:46:02",
          "1970-01-01T09:46:02",
          "1970-01-01T12:12:40",
          "1970-01-01T12:50:26",
          "1970-01-01T12:50:26",
          "1970-01-01T15:17:04",
          "1970-01-01T15:54:50",
          "1970-01-01T15:54:50",
          "1970-01-01T18:42:32",
          "1970-01-01T19:20:18",
          "1970-01-01T19:20:18"
         ],
         "y": [
          "to_site",
          "to_site",
          null,
          "to_site",
          "to_site",
          null,
          "to_site",
          "to_site",
          null,
          "to_site",
          "to_site",
          null,
          "to_site",
          "to_site",
          null,
          "to_site",
          "to_site",
          null,
          "to_site",
          "to_site",
          null,
          "to_site",
          "to_site",
          null,
          "to_site",
          "to_site",
          null,
          "to_site",
          "to_site",
          null,
          "to_site",
          "to_site",
          null,
          "to_site",
          "to_site",
          null,
          "to_site",
          "to_site",
          null,
          "to_site",
          "to_site",
          null,
          "to_site",
          "to_site",
          null,
          "to_site",
          "to_site",
          null,
          "to_site",
          "to_site",
          null,
          "to_site",
          "to_site",
          null
         ]
        },
        {
         "connectgaps": false,
         "hoverinfo": "y+name",
         "line": {
          "color": "#483700",
          "width": 10
         },
         "mode": "lines",
         "name": "unloading:barge_3",
         "type": "scatter",
         "x": [
          "1970-01-01T03:35:06",
          "1970-01-01T04:14:46",
          "1970-01-01T04:14:46",
          "1970-01-01T06:55:26",
          "1970-01-01T07:35:06",
          "1970-01-01T07:35:06",
          "1970-01-01T10:15:46",
          "1970-01-01T10:55:26",
          "1970-01-01T10:55:26",
          "1970-01-01T13:37:54",
          "1970-01-01T14:17:34",
          "1970-01-01T14:17:34",
          "1970-01-01T17:37:46",
          "1970-01-01T18:17:26",
          "1970-01-01T18:17:26",
          "1970-01-01T21:37:38",
          "1970-01-01T22:17:18",
          "1970-01-01T22:17:18"
         ],
         "y": [
          "to_site",
          "to_site",
          null,
          "to_site",
          "to_site",
          null,
          "to_site",
          "to_site",
          null,
          "to_site",
          "to_site",
          null,
          "to_site",
          "to_site",
          null,
          "to_site",
          "to_site",
          null,
          "to_site",
          "to_site",
          null,
          "to_site",
          "to_site",
          null,
          "to_site",
          "to_site",
          null,
          "to_site",
          "to_site",
          null,
          "to_site",
          "to_site",
          null,
          "to_site",
          "to_site",
          null,
          "to_site",
          "to_site",
          null,
          "to_site",
          "to_site",
          null,
          "to_site",
          "to_site",
          null,
          "to_site",
          "to_site",
          null,
          "to_site",
          "to_site",
          null,
          "to_site",
          "to_site",
          null
         ]
        },
        {
         "connectgaps": false,
         "hoverinfo": "y+name",
         "line": {
          "color": "#CCECFF",
          "width": 10
         },
         "mode": "lines",
         "name": "unloading:barge_2",
         "type": "scatter",
         "x": [
          "1970-01-01T04:26:39",
          "1970-01-01T05:16:12",
          "1970-01-01T05:16:12",
          "1970-01-01T08:46:43",
          "1970-01-01T09:36:16",
          "1970-01-01T09:36:16",
          "1970-01-01T13:06:07",
          "1970-01-01T13:55:40",
          "1970-01-01T13:55:40",
          "1970-01-01T17:05:59",
          "1970-01-01T17:55:32",
          "1970-01-01T17:55:32",
          "1970-01-01T21:05:51",
          "1970-01-01T21:55:24",
          "1970-01-01T21:55:24"
         ],
         "y": [
          "to_site",
          "to_site",
          null,
          "to_site",
          "to_site",
          null,
          "to_site",
          "to_site",
          null,
          "to_site",
          "to_site",
          null,
          "to_site",
          "to_site",
          null,
          "to_site",
          "to_site",
          null,
          "to_site",
          "to_site",
          null,
          "to_site",
          "to_site",
          null,
          "to_site",
          "to_site",
          null,
          "to_site",
          "to_site",
          null,
          "to_site",
          "to_site",
          null,
          "to_site",
          "to_site",
          null,
          "to_site",
          "to_site",
          null,
          "to_site",
          "to_site",
          null,
          "to_site",
          "to_site",
          null
         ]
        },
        {
         "connectgaps": false,
         "hoverinfo": "name",
         "line": {
          "color": "Black",
          "width": 5
         },
         "mode": "markers",
         "name": "critical_path",
         "type": "scatter",
         "x": [
          "1970-01-01T00:00:00",
          "1970-01-01T00:33:33",
          "1970-01-01T01:07:06",
          "1970-01-01T01:07:06",
          "1970-01-01T01:07:06",
          "1970-01-01T01:40:26",
          "1970-01-01T02:13:59",
          "1970-01-01T02:13:59",
          "1970-01-01T02:47:32",
          "1970-01-01T03:21:05",
          "1970-01-01T03:54:38",
          "1970-01-01T03:54:38",
          "1970-01-01T03:54:38",
          "1970-01-01T04:27:58",
          "1970-01-01T05:01:31",
          "1970-01-01T05:01:31",
          "1970-01-01T05:35:04",
          "1970-01-01T06:08:37",
          "1970-01-01T06:42:10",
          "1970-01-01T06:42:10",
          "1970-01-01T06:42:10",
          "1970-01-01T07:15:30",
          "1970-01-01T07:15:30",
          "1970-01-01T07:15:30",
          "1970-01-01T07:57:10",
          "1970-01-01T07:57:10",
          "1970-01-01T07:57:10",
          "1970-01-01T08:30:30",
          "1970-01-01T09:08:16",
          "1970-01-01T09:08:16",
          "1970-01-01T09:46:02",
          "1970-01-01T10:23:48",
          "1970-01-01T11:01:34",
          "1970-01-01T11:01:34",
          "1970-01-01T11:01:34",
          "1970-01-01T11:34:54",
          "1970-01-01T11:34:54",
          "1970-01-01T11:34:54",
          "1970-01-01T12:16:34",
          "1970-01-01T13:06:07",
          "1970-01-01T13:06:07",
          "1970-01-01T13:55:40",
          "1970-01-01T14:45:13",
          "1970-01-01T15:34:46",
          "1970-01-01T15:34:46",
          "1970-01-01T15:34:46",
          "1970-01-01T16:16:26",
          "1970-01-01T17:05:59",
          "1970-01-01T17:05:59",
          "1970-01-01T17:55:32",
          "1970-01-01T18:45:05",
          "1970-01-01T19:34:38",
          "1970-01-01T19:34:38",
          "1970-01-01T19:34:38",
          "1970-01-01T20:16:18",
          "1970-01-01T20:16:18",
          "1970-01-01T20:16:18",
          "1970-01-01T20:57:58",
          "1970-01-01T21:37:38",
          "1970-01-01T21:37:38"
         ],
         "y": [
          "barge_0",
          "barge_0",
          "barge_0",
          "cutter",
          "from_site",
          "barge_0",
          "barge_0",
          "to_site",
          "barge_0",
          "barge_0",
          "barge_0",
          "cutter",
          "from_site",
          "barge_0",
          "barge_0",
          "to_site",
          "barge_0",
          "barge_0",
          "barge_0",
          "cutter",
          "from_site",
          "barge_2",
          "cutter",
          "from_site",
          "barge_1",
          "cutter",
          "from_site",
          "barge_1",
          "barge_1",
          "to_site",
          "barge_1",
          "barge_1",
          "barge_1",
          "cutter",
          "from_site",
          "barge_2",
          "cutter",
          "from_site",
          "barge_2",
          "barge_2",
          "to_site",
          "barge_2",
          "barge_2",
          "barge_2",
          "cutter",
          "from_site",
          "barge_2",
          "barge_2",
          "to_site",
          "barge_2",
          "barge_2",
          "barge_2",
          "cutter",
          "from_site",
          "barge_3",
          "cutter",
          "from_site",
          "barge_3",
          "barge_3",
          "to_site"
         ]
        }
       ],
       "layout": {
        "hovermode": "closest",
        "legend": {
         "orientation": "h",
         "x": 0,
         "y": -0.2
        },
        "template": {
         "data": {
          "bar": [
           {
            "error_x": {
             "color": "#2a3f5f"
            },
            "error_y": {
             "color": "#2a3f5f"
            },
            "marker": {
             "line": {
              "color": "#E5ECF6",
              "width": 0.5
             },
             "pattern": {
              "fillmode": "overlay",
              "size": 10,
              "solidity": 0.2
             }
            },
            "type": "bar"
           }
          ],
          "barpolar": [
           {
            "marker": {
             "line": {
              "color": "#E5ECF6",
              "width": 0.5
             },
             "pattern": {
              "fillmode": "overlay",
              "size": 10,
              "solidity": 0.2
             }
            },
            "type": "barpolar"
           }
          ],
          "carpet": [
           {
            "aaxis": {
             "endlinecolor": "#2a3f5f",
             "gridcolor": "white",
             "linecolor": "white",
             "minorgridcolor": "white",
             "startlinecolor": "#2a3f5f"
            },
            "baxis": {
             "endlinecolor": "#2a3f5f",
             "gridcolor": "white",
             "linecolor": "white",
             "minorgridcolor": "white",
             "startlinecolor": "#2a3f5f"
            },
            "type": "carpet"
           }
          ],
          "choropleth": [
           {
            "colorbar": {
             "outlinewidth": 0,
             "ticks": ""
            },
            "type": "choropleth"
           }
          ],
          "contour": [
           {
            "colorbar": {
             "outlinewidth": 0,
             "ticks": ""
            },
            "colorscale": [
             [
              0,
              "#0d0887"
             ],
             [
              0.1111111111111111,
              "#46039f"
             ],
             [
              0.2222222222222222,
              "#7201a8"
             ],
             [
              0.3333333333333333,
              "#9c179e"
             ],
             [
              0.4444444444444444,
              "#bd3786"
             ],
             [
              0.5555555555555556,
              "#d8576b"
             ],
             [
              0.6666666666666666,
              "#ed7953"
             ],
             [
              0.7777777777777778,
              "#fb9f3a"
             ],
             [
              0.8888888888888888,
              "#fdca26"
             ],
             [
              1,
              "#f0f921"
             ]
            ],
            "type": "contour"
           }
          ],
          "contourcarpet": [
           {
            "colorbar": {
             "outlinewidth": 0,
             "ticks": ""
            },
            "type": "contourcarpet"
           }
          ],
          "heatmap": [
           {
            "colorbar": {
             "outlinewidth": 0,
             "ticks": ""
            },
            "colorscale": [
             [
              0,
              "#0d0887"
             ],
             [
              0.1111111111111111,
              "#46039f"
             ],
             [
              0.2222222222222222,
              "#7201a8"
             ],
             [
              0.3333333333333333,
              "#9c179e"
             ],
             [
              0.4444444444444444,
              "#bd3786"
             ],
             [
              0.5555555555555556,
              "#d8576b"
             ],
             [
              0.6666666666666666,
              "#ed7953"
             ],
             [
              0.7777777777777778,
              "#fb9f3a"
             ],
             [
              0.8888888888888888,
              "#fdca26"
             ],
             [
              1,
              "#f0f921"
             ]
            ],
            "type": "heatmap"
           }
          ],
          "heatmapgl": [
           {
            "colorbar": {
             "outlinewidth": 0,
             "ticks": ""
            },
            "colorscale": [
             [
              0,
              "#0d0887"
             ],
             [
              0.1111111111111111,
              "#46039f"
             ],
             [
              0.2222222222222222,
              "#7201a8"
             ],
             [
              0.3333333333333333,
              "#9c179e"
             ],
             [
              0.4444444444444444,
              "#bd3786"
             ],
             [
              0.5555555555555556,
              "#d8576b"
             ],
             [
              0.6666666666666666,
              "#ed7953"
             ],
             [
              0.7777777777777778,
              "#fb9f3a"
             ],
             [
              0.8888888888888888,
              "#fdca26"
             ],
             [
              1,
              "#f0f921"
             ]
            ],
            "type": "heatmapgl"
           }
          ],
          "histogram": [
           {
            "marker": {
             "pattern": {
              "fillmode": "overlay",
              "size": 10,
              "solidity": 0.2
             }
            },
            "type": "histogram"
           }
          ],
          "histogram2d": [
           {
            "colorbar": {
             "outlinewidth": 0,
             "ticks": ""
            },
            "colorscale": [
             [
              0,
              "#0d0887"
             ],
             [
              0.1111111111111111,
              "#46039f"
             ],
             [
              0.2222222222222222,
              "#7201a8"
             ],
             [
              0.3333333333333333,
              "#9c179e"
             ],
             [
              0.4444444444444444,
              "#bd3786"
             ],
             [
              0.5555555555555556,
              "#d8576b"
             ],
             [
              0.6666666666666666,
              "#ed7953"
             ],
             [
              0.7777777777777778,
              "#fb9f3a"
             ],
             [
              0.8888888888888888,
              "#fdca26"
             ],
             [
              1,
              "#f0f921"
             ]
            ],
            "type": "histogram2d"
           }
          ],
          "histogram2dcontour": [
           {
            "colorbar": {
             "outlinewidth": 0,
             "ticks": ""
            },
            "colorscale": [
             [
              0,
              "#0d0887"
             ],
             [
              0.1111111111111111,
              "#46039f"
             ],
             [
              0.2222222222222222,
              "#7201a8"
             ],
             [
              0.3333333333333333,
              "#9c179e"
             ],
             [
              0.4444444444444444,
              "#bd3786"
             ],
             [
              0.5555555555555556,
              "#d8576b"
             ],
             [
              0.6666666666666666,
              "#ed7953"
             ],
             [
              0.7777777777777778,
              "#fb9f3a"
             ],
             [
              0.8888888888888888,
              "#fdca26"
             ],
             [
              1,
              "#f0f921"
             ]
            ],
            "type": "histogram2dcontour"
           }
          ],
          "mesh3d": [
           {
            "colorbar": {
             "outlinewidth": 0,
             "ticks": ""
            },
            "type": "mesh3d"
           }
          ],
          "parcoords": [
           {
            "line": {
             "colorbar": {
              "outlinewidth": 0,
              "ticks": ""
             }
            },
            "type": "parcoords"
           }
          ],
          "pie": [
           {
            "automargin": true,
            "type": "pie"
           }
          ],
          "scatter": [
           {
            "fillpattern": {
             "fillmode": "overlay",
             "size": 10,
             "solidity": 0.2
            },
            "type": "scatter"
           }
          ],
          "scatter3d": [
           {
            "line": {
             "colorbar": {
              "outlinewidth": 0,
              "ticks": ""
             }
            },
            "marker": {
             "colorbar": {
              "outlinewidth": 0,
              "ticks": ""
             }
            },
            "type": "scatter3d"
           }
          ],
          "scattercarpet": [
           {
            "marker": {
             "colorbar": {
              "outlinewidth": 0,
              "ticks": ""
             }
            },
            "type": "scattercarpet"
           }
          ],
          "scattergeo": [
           {
            "marker": {
             "colorbar": {
              "outlinewidth": 0,
              "ticks": ""
             }
            },
            "type": "scattergeo"
           }
          ],
          "scattergl": [
           {
            "marker": {
             "colorbar": {
              "outlinewidth": 0,
              "ticks": ""
             }
            },
            "type": "scattergl"
           }
          ],
          "scattermapbox": [
           {
            "marker": {
             "colorbar": {
              "outlinewidth": 0,
              "ticks": ""
             }
            },
            "type": "scattermapbox"
           }
          ],
          "scatterpolar": [
           {
            "marker": {
             "colorbar": {
              "outlinewidth": 0,
              "ticks": ""
             }
            },
            "type": "scatterpolar"
           }
          ],
          "scatterpolargl": [
           {
            "marker": {
             "colorbar": {
              "outlinewidth": 0,
              "ticks": ""
             }
            },
            "type": "scatterpolargl"
           }
          ],
          "scatterternary": [
           {
            "marker": {
             "colorbar": {
              "outlinewidth": 0,
              "ticks": ""
             }
            },
            "type": "scatterternary"
           }
          ],
          "surface": [
           {
            "colorbar": {
             "outlinewidth": 0,
             "ticks": ""
            },
            "colorscale": [
             [
              0,
              "#0d0887"
             ],
             [
              0.1111111111111111,
              "#46039f"
             ],
             [
              0.2222222222222222,
              "#7201a8"
             ],
             [
              0.3333333333333333,
              "#9c179e"
             ],
             [
              0.4444444444444444,
              "#bd3786"
             ],
             [
              0.5555555555555556,
              "#d8576b"
             ],
             [
              0.6666666666666666,
              "#ed7953"
             ],
             [
              0.7777777777777778,
              "#fb9f3a"
             ],
             [
              0.8888888888888888,
              "#fdca26"
             ],
             [
              1,
              "#f0f921"
             ]
            ],
            "type": "surface"
           }
          ],
          "table": [
           {
            "cells": {
             "fill": {
              "color": "#EBF0F8"
             },
             "line": {
              "color": "white"
             }
            },
            "header": {
             "fill": {
              "color": "#C8D4E3"
             },
             "line": {
              "color": "white"
             }
            },
            "type": "table"
           }
          ]
         },
         "layout": {
          "annotationdefaults": {
           "arrowcolor": "#2a3f5f",
           "arrowhead": 0,
           "arrowwidth": 1
          },
          "autotypenumbers": "strict",
          "coloraxis": {
           "colorbar": {
            "outlinewidth": 0,
            "ticks": ""
           }
          },
          "colorscale": {
           "diverging": [
            [
             0,
             "#8e0152"
            ],
            [
             0.1,
             "#c51b7d"
            ],
            [
             0.2,
             "#de77ae"
            ],
            [
             0.3,
             "#f1b6da"
            ],
            [
             0.4,
             "#fde0ef"
            ],
            [
             0.5,
             "#f7f7f7"
            ],
            [
             0.6,
             "#e6f5d0"
            ],
            [
             0.7,
             "#b8e186"
            ],
            [
             0.8,
             "#7fbc41"
            ],
            [
             0.9,
             "#4d9221"
            ],
            [
             1,
             "#276419"
            ]
           ],
           "sequential": [
            [
             0,
             "#0d0887"
            ],
            [
             0.1111111111111111,
             "#46039f"
            ],
            [
             0.2222222222222222,
             "#7201a8"
            ],
            [
             0.3333333333333333,
             "#9c179e"
            ],
            [
             0.4444444444444444,
             "#bd3786"
            ],
            [
             0.5555555555555556,
             "#d8576b"
            ],
            [
             0.6666666666666666,
             "#ed7953"
            ],
            [
             0.7777777777777778,
             "#fb9f3a"
            ],
            [
             0.8888888888888888,
             "#fdca26"
            ],
            [
             1,
             "#f0f921"
            ]
           ],
           "sequentialminus": [
            [
             0,
             "#0d0887"
            ],
            [
             0.1111111111111111,
             "#46039f"
            ],
            [
             0.2222222222222222,
             "#7201a8"
            ],
            [
             0.3333333333333333,
             "#9c179e"
            ],
            [
             0.4444444444444444,
             "#bd3786"
            ],
            [
             0.5555555555555556,
             "#d8576b"
            ],
            [
             0.6666666666666666,
             "#ed7953"
            ],
            [
             0.7777777777777778,
             "#fb9f3a"
            ],
            [
             0.8888888888888888,
             "#fdca26"
            ],
            [
             1,
             "#f0f921"
            ]
           ]
          },
          "colorway": [
           "#636efa",
           "#EF553B",
           "#00cc96",
           "#ab63fa",
           "#FFA15A",
           "#19d3f3",
           "#FF6692",
           "#B6E880",
           "#FF97FF",
           "#FECB52"
          ],
          "font": {
           "color": "#2a3f5f"
          },
          "geo": {
           "bgcolor": "white",
           "lakecolor": "white",
           "landcolor": "#E5ECF6",
           "showlakes": true,
           "showland": true,
           "subunitcolor": "white"
          },
          "hoverlabel": {
           "align": "left"
          },
          "hovermode": "closest",
          "mapbox": {
           "style": "light"
          },
          "paper_bgcolor": "white",
          "plot_bgcolor": "#E5ECF6",
          "polar": {
           "angularaxis": {
            "gridcolor": "white",
            "linecolor": "white",
            "ticks": ""
           },
           "bgcolor": "#E5ECF6",
           "radialaxis": {
            "gridcolor": "white",
            "linecolor": "white",
            "ticks": ""
           }
          },
          "scene": {
           "xaxis": {
            "backgroundcolor": "#E5ECF6",
            "gridcolor": "white",
            "gridwidth": 2,
            "linecolor": "white",
            "showbackground": true,
            "ticks": "",
            "zerolinecolor": "white"
           },
           "yaxis": {
            "backgroundcolor": "#E5ECF6",
            "gridcolor": "white",
            "gridwidth": 2,
            "linecolor": "white",
            "showbackground": true,
            "ticks": "",
            "zerolinecolor": "white"
           },
           "zaxis": {
            "backgroundcolor": "#E5ECF6",
            "gridcolor": "white",
            "gridwidth": 2,
            "linecolor": "white",
            "showbackground": true,
            "ticks": "",
            "zerolinecolor": "white"
           }
          },
          "shapedefaults": {
           "line": {
            "color": "#2a3f5f"
           }
          },
          "ternary": {
           "aaxis": {
            "gridcolor": "white",
            "linecolor": "white",
            "ticks": ""
           },
           "baxis": {
            "gridcolor": "white",
            "linecolor": "white",
            "ticks": ""
           },
           "bgcolor": "#E5ECF6",
           "caxis": {
            "gridcolor": "white",
            "linecolor": "white",
            "ticks": ""
           }
          },
          "title": {
           "x": 0.05
          },
          "xaxis": {
           "automargin": true,
           "gridcolor": "white",
           "linecolor": "white",
           "ticks": "",
           "title": {
            "standoff": 15
           },
           "zerolinecolor": "white",
           "zerolinewidth": 2
          },
          "yaxis": {
           "automargin": true,
           "gridcolor": "white",
           "linecolor": "white",
           "ticks": "",
           "title": {
            "standoff": 15
           },
           "zerolinecolor": "white",
           "zerolinewidth": 2
          }
         }
        },
        "title": {
         "text": "GANTT Chart"
        },
        "xaxis": {
         "range": [
          "1970-01-01T00:00:00",
          "1970-01-01T22:17:18"
         ],
         "title": {
          "font": {
           "color": "#7f7f7f",
           "family": "Courier New, monospace",
           "size": 18
          },
          "text": "Time"
         }
        },
        "yaxis": {
         "title": {
          "font": {
           "color": "#7f7f7f",
           "family": "Courier New, monospace",
           "size": 18
          },
          "text": "Activities"
         }
        }
       }
      },
      "text/html": [
       "<div>                            <div id=\"0321146d-cb0d-4db4-b0c6-9ec81d802541\" class=\"plotly-graph-div\" style=\"height:525px; width:100%;\"></div>            <script type=\"text/javascript\">                require([\"plotly\"], function(Plotly) {                    window.PLOTLYENV=window.PLOTLYENV || {};                                    if (document.getElementById(\"0321146d-cb0d-4db4-b0c6-9ec81d802541\")) {                    Plotly.newPlot(                        \"0321146d-cb0d-4db4-b0c6-9ec81d802541\",                        [{\"connectgaps\":false,\"hoverinfo\":\"y+name\",\"line\":{\"color\":\"#ff0000\",\"width\":10},\"mode\":\"lines\",\"name\":\"basic activity:barge_0\",\"x\":[\"1970-01-01T00:00:00\",\"1970-01-01T00:33:33\",\"1970-01-01T00:33:33\",\"1970-01-01T02:47:32\",\"1970-01-01T03:21:05\",\"1970-01-01T03:21:05\",\"1970-01-01T05:35:04\",\"1970-01-01T06:08:37\",\"1970-01-01T06:08:37\",\"1970-01-01T08:22:36\",\"1970-01-01T08:56:09\",\"1970-01-01T08:56:09\",\"1970-01-01T11:16:32\",\"1970-01-01T11:50:05\",\"1970-01-01T11:50:05\",\"1970-01-01T14:38:40\",\"1970-01-01T15:12:13\",\"1970-01-01T15:12:13\"],\"y\":[\"barge_0\",\"barge_0\",null,\"barge_0\",\"barge_0\",null,\"barge_0\",\"barge_0\",null,\"barge_0\",\"barge_0\",null,\"barge_0\",\"barge_0\",null,\"barge_0\",\"barge_0\",null,\"barge_0\",\"barge_0\",null,\"barge_0\",\"barge_0\",null,\"barge_0\",\"barge_0\",null,\"barge_0\",\"barge_0\",null,\"barge_0\",\"barge_0\",null,\"barge_0\",\"barge_0\",null,\"barge_0\",\"barge_0\",null,\"barge_0\",\"barge_0\",null,\"barge_0\",\"barge_0\",null,\"barge_0\",\"barge_0\",null,\"barge_0\",\"barge_0\",null,\"barge_0\",\"barge_0\",null],\"type\":\"scatter\"},{\"connectgaps\":false,\"hoverinfo\":\"y+name\",\"line\":{\"color\":\"#bfbfbf\",\"width\":10},\"mode\":\"lines\",\"name\":\"sailing empty:barge_0\",\"x\":[\"1970-01-01T00:33:33\",\"1970-01-01T01:07:06\",\"1970-01-01T01:07:06\",\"1970-01-01T03:21:05\",\"1970-01-01T03:54:38\",\"1970-01-01T03:54:38\",\"1970-01-01T06:08:37\",\"1970-01-01T06:42:10\",\"1970-01-01T06:42:10\",\"1970-01-01T08:56:09\",\"1970-01-01T09:29:42\",\"1970-01-01T09:29:42\",\"1970-01-01T11:50:05\",\"1970-01-01T12:23:38\",\"1970-01-01T12:23:38\",\"1970-01-01T15:12:13\",\"1970-01-01T15:45:46\",\"1970-01-01T15:45:46\"],\"y\":[\"barge_0\",\"barge_0\",null,\"barge_0\",\"barge_0\",null,\"barge_0\",\"barge_0\",null,\"barge_0\",\"barge_0\",null,\"barge_0\",\"barge_0\",null,\"barge_0\",\"barge_0\",null,\"barge_0\",\"barge_0\",null,\"barge_0\",\"barge_0\",null,\"barge_0\",\"barge_0\",null,\"barge_0\",\"barge_0\",null,\"barge_0\",\"barge_0\",null,\"barge_0\",\"barge_0\",null,\"barge_0\",\"barge_0\",null,\"barge_0\",\"barge_0\",null,\"barge_0\",\"barge_0\",null,\"barge_0\",\"barge_0\",null,\"barge_0\",\"barge_0\",null,\"barge_0\",\"barge_0\",null],\"type\":\"scatter\"},{\"connectgaps\":false,\"hoverinfo\":\"y+name\",\"line\":{\"color\":\"#305496\",\"width\":10},\"mode\":\"lines\",\"name\":\"loading:barge_0\",\"x\":[\"1970-01-01T01:07:06\",\"1970-01-01T01:40:26\",\"1970-01-01T01:40:26\",\"1970-01-01T03:54:38\",\"1970-01-01T04:27:58\",\"1970-01-01T04:27:58\",\"1970-01-01T06:42:10\",\"1970-01-01T07:15:30\",\"1970-01-01T07:15:30\",\"1970-01-01T09:36:06\",\"1970-01-01T10:09:26\",\"1970-01-01T10:09:26\",\"1970-01-01T12:58:14\",\"1970-01-01T13:31:34\",\"1970-01-01T13:31:34\",\"1970-01-01T16:58:06\",\"1970-01-01T17:31:26\",\"1970-01-01T17:31:26\"],\"y\":[\"barge_0\",\"barge_0\",null,\"barge_0\",\"barge_0\",null,\"barge_0\",\"barge_0\",null,\"barge_0\",\"barge_0\",null,\"barge_0\",\"barge_0\",null,\"barge_0\",\"barge_0\",null,\"barge_0\",\"barge_0\",null,\"barge_0\",\"barge_0\",null,\"barge_0\",\"barge_0\",null,\"barge_0\",\"barge_0\",null,\"barge_0\",\"barge_0\",null,\"barge_0\",\"barge_0\",null,\"barge_0\",\"barge_0\",null,\"barge_0\",\"barge_0\",null,\"barge_0\",\"barge_0\",null,\"barge_0\",\"barge_0\",null,\"barge_0\",\"barge_0\",null,\"barge_0\",\"barge_0\",null],\"type\":\"scatter\"},{\"connectgaps\":false,\"hoverinfo\":\"y+name\",\"line\":{\"color\":\"#00b0f0\",\"width\":10},\"mode\":\"lines\",\"name\":\"sailing full:barge_0\",\"x\":[\"1970-01-01T01:40:26\",\"1970-01-01T02:13:59\",\"1970-01-01T02:13:59\",\"1970-01-01T04:27:58\",\"1970-01-01T05:01:31\",\"1970-01-01T05:01:31\",\"1970-01-01T07:15:30\",\"1970-01-01T07:49:03\",\"1970-01-01T07:49:03\",\"1970-01-01T10:09:26\",\"1970-01-01T10:42:59\",\"1970-01-01T10:42:59\",\"1970-01-01T13:31:34\",\"1970-01-01T14:05:07\",\"1970-01-01T14:05:07\",\"1970-01-01T17:31:26\",\"1970-01-01T18:04:59\",\"1970-01-01T18:04:59\"],\"y\":[\"barge_0\",\"barge_0\",null,\"barge_0\",\"barge_0\",null,\"barge_0\",\"barge_0\",null,\"barge_0\",\"barge_0\",null,\"barge_0\",\"barge_0\",null,\"barge_0\",\"barge_0\",null,\"barge_0\",\"barge_0\",null,\"barge_0\",\"barge_0\",null,\"barge_0\",\"barge_0\",null,\"barge_0\",\"barge_0\",null,\"barge_0\",\"barge_0\",null,\"barge_0\",\"barge_0\",null,\"barge_0\",\"barge_0\",null,\"barge_0\",\"barge_0\",null,\"barge_0\",\"barge_0\",null,\"barge_0\",\"barge_0\",null,\"barge_0\",\"barge_0\",null,\"barge_0\",\"barge_0\",null],\"type\":\"scatter\"},{\"connectgaps\":false,\"hoverinfo\":\"y+name\",\"line\":{\"color\":\"#ffff00\",\"width\":10},\"mode\":\"lines\",\"name\":\"unloading:barge_0\",\"x\":[\"1970-01-01T02:13:59\",\"1970-01-01T02:47:32\",\"1970-01-01T02:47:32\",\"1970-01-01T05:01:31\",\"1970-01-01T05:35:04\",\"1970-01-01T05:35:04\",\"1970-01-01T07:49:03\",\"1970-01-01T08:22:36\",\"1970-01-01T08:22:36\",\"1970-01-01T10:42:59\",\"1970-01-01T11:16:32\",\"1970-01-01T11:16:32\",\"1970-01-01T14:05:07\",\"1970-01-01T14:38:40\",\"1970-01-01T14:38:40\",\"1970-01-01T18:04:59\",\"1970-01-01T18:38:32\",\"1970-01-01T18:38:32\"],\"y\":[\"barge_0\",\"barge_0\",null,\"barge_0\",\"barge_0\",null,\"barge_0\",\"barge_0\",null,\"barge_0\",\"barge_0\",null,\"barge_0\",\"barge_0\",null,\"barge_0\",\"barge_0\",null,\"barge_0\",\"barge_0\",null,\"barge_0\",\"barge_0\",null,\"barge_0\",\"barge_0\",null,\"barge_0\",\"barge_0\",null,\"barge_0\",\"barge_0\",null,\"barge_0\",\"barge_0\",null,\"barge_0\",\"barge_0\",null,\"barge_0\",\"barge_0\",null,\"barge_0\",\"barge_0\",null,\"barge_0\",\"barge_0\",null,\"barge_0\",\"barge_0\",null,\"barge_0\",\"barge_0\",null],\"type\":\"scatter\"},{\"connectgaps\":false,\"hoverinfo\":\"y+name\",\"line\":{\"color\":\"#00b050\",\"width\":10},\"mode\":\"lines\",\"name\":\"basic activity:barge_1\",\"x\":[\"1970-01-01T00:00:00\",\"1970-01-01T00:37:46\",\"1970-01-01T00:37:46\",\"1970-01-01T03:29:18\",\"1970-01-01T04:07:04\",\"1970-01-01T04:07:04\",\"1970-01-01T06:33:42\",\"1970-01-01T07:11:28\",\"1970-01-01T07:11:28\",\"1970-01-01T09:46:02\",\"1970-01-01T10:23:48\",\"1970-01-01T10:23:48\",\"1970-01-01T12:50:26\",\"1970-01-01T13:28:12\",\"1970-01-01T13:28:12\",\"1970-01-01T15:54:50\",\"1970-01-01T16:32:36\",\"1970-01-01T16:32:36\"],\"y\":[\"barge_1\",\"barge_1\",null,\"barge_1\",\"barge_1\",null,\"barge_1\",\"barge_1\",null,\"barge_1\",\"barge_1\",null,\"barge_1\",\"barge_1\",null,\"barge_1\",\"barge_1\",null,\"barge_1\",\"barge_1\",null,\"barge_1\",\"barge_1\",null,\"barge_1\",\"barge_1\",null,\"barge_1\",\"barge_1\",null,\"barge_1\",\"barge_1\",null,\"barge_1\",\"barge_1\",null,\"barge_1\",\"barge_1\",null,\"barge_1\",\"barge_1\",null,\"barge_1\",\"barge_1\",null,\"barge_1\",\"barge_1\",null,\"barge_1\",\"barge_1\",null,\"barge_1\",\"barge_1\",null],\"type\":\"scatter\"},{\"connectgaps\":false,\"hoverinfo\":\"y+name\",\"line\":{\"color\":\"#990101\",\"width\":10},\"mode\":\"lines\",\"name\":\"sailing empty:barge_1\",\"x\":[\"1970-01-01T00:37:46\",\"1970-01-01T01:15:32\",\"1970-01-01T01:15:32\",\"1970-01-01T04:07:04\",\"1970-01-01T04:44:50\",\"1970-01-01T04:44:50\",\"1970-01-01T07:11:28\",\"1970-01-01T07:49:14\",\"1970-01-01T07:49:14\",\"1970-01-01T10:23:48\",\"1970-01-01T11:01:34\",\"1970-01-01T11:01:34\",\"1970-01-01T13:28:12\",\"1970-01-01T14:05:58\",\"1970-01-01T14:05:58\",\"1970-01-01T16:32:36\",\"1970-01-01T17:10:22\",\"1970-01-01T17:10:22\"],\"y\":[\"barge_1\",\"barge_1\",null,\"barge_1\",\"barge_1\",null,\"barge_1\",\"barge_1\",null,\"barge_1\",\"barge_1\",null,\"barge_1\",\"barge_1\",null,\"barge_1\",\"barge_1\",null,\"barge_1\",\"barge_1\",null,\"barge_1\",\"barge_1\",null,\"barge_1\",\"barge_1\",null,\"barge_1\",\"barge_1\",null,\"barge_1\",\"barge_1\",null,\"barge_1\",\"barge_1\",null,\"barge_1\",\"barge_1\",null,\"barge_1\",\"barge_1\",null,\"barge_1\",\"barge_1\",null,\"barge_1\",\"barge_1\",null,\"barge_1\",\"barge_1\",null,\"barge_1\",\"barge_1\",null],\"type\":\"scatter\"},{\"connectgaps\":false,\"hoverinfo\":\"y+name\",\"line\":{\"color\":\"#ED7D31\",\"width\":10},\"mode\":\"lines\",\"name\":\"loading:barge_1\",\"x\":[\"1970-01-01T01:40:26\",\"1970-01-01T02:13:46\",\"1970-01-01T02:13:46\",\"1970-01-01T04:44:50\",\"1970-01-01T05:18:10\",\"1970-01-01T05:18:10\",\"1970-01-01T07:57:10\",\"1970-01-01T08:30:30\",\"1970-01-01T08:30:30\",\"1970-01-01T11:01:34\",\"1970-01-01T11:34:54\",\"1970-01-01T11:34:54\",\"1970-01-01T14:05:58\",\"1970-01-01T14:39:18\",\"1970-01-01T14:39:18\",\"1970-01-01T17:31:26\",\"1970-01-01T18:04:46\",\"1970-01-01T18:04:46\"],\"y\":[\"barge_1\",\"barge_1\",null,\"barge_1\",\"barge_1\",null,\"barge_1\",\"barge_1\",null,\"barge_1\",\"barge_1\",null,\"barge_1\",\"barge_1\",null,\"barge_1\",\"barge_1\",null,\"barge_1\",\"barge_1\",null,\"barge_1\",\"barge_1\",null,\"barge_1\",\"barge_1\",null,\"barge_1\",\"barge_1\",null,\"barge_1\",\"barge_1\",null,\"barge_1\",\"barge_1\",null,\"barge_1\",\"barge_1\",null,\"barge_1\",\"barge_1\",null,\"barge_1\",\"barge_1\",null,\"barge_1\",\"barge_1\",null,\"barge_1\",\"barge_1\",null,\"barge_1\",\"barge_1\",null],\"type\":\"scatter\"},{\"connectgaps\":false,\"hoverinfo\":\"y+name\",\"line\":{\"color\":\"#7030A0\",\"width\":10},\"mode\":\"lines\",\"name\":\"sailing full:barge_1\",\"x\":[\"1970-01-01T02:13:46\",\"1970-01-01T02:51:32\",\"1970-01-01T02:51:32\",\"1970-01-01T05:18:10\",\"1970-01-01T05:55:56\",\"1970-01-01T05:55:56\",\"1970-01-01T08:30:30\",\"1970-01-01T09:08:16\",\"1970-01-01T09:08:16\",\"1970-01-01T11:34:54\",\"1970-01-01T12:12:40\",\"1970-01-01T12:12:40\",\"1970-01-01T14:39:18\",\"1970-01-01T15:17:04\",\"1970-01-01T15:17:04\",\"1970-01-01T18:04:46\",\"1970-01-01T18:42:32\",\"1970-01-01T18:42:32\"],\"y\":[\"barge_1\",\"barge_1\",null,\"barge_1\",\"barge_1\",null,\"barge_1\",\"barge_1\",null,\"barge_1\",\"barge_1\",null,\"barge_1\",\"barge_1\",null,\"barge_1\",\"barge_1\",null,\"barge_1\",\"barge_1\",null,\"barge_1\",\"barge_1\",null,\"barge_1\",\"barge_1\",null,\"barge_1\",\"barge_1\",null,\"barge_1\",\"barge_1\",null,\"barge_1\",\"barge_1\",null,\"barge_1\",\"barge_1\",null,\"barge_1\",\"barge_1\",null,\"barge_1\",\"barge_1\",null,\"barge_1\",\"barge_1\",null,\"barge_1\",\"barge_1\",null,\"barge_1\",\"barge_1\",null],\"type\":\"scatter\"},{\"connectgaps\":false,\"hoverinfo\":\"y+name\",\"line\":{\"color\":\"#1EB299\",\"width\":10},\"mode\":\"lines\",\"name\":\"unloading:barge_1\",\"x\":[\"1970-01-01T02:51:32\",\"1970-01-01T03:29:18\",\"1970-01-01T03:29:18\",\"1970-01-01T05:55:56\",\"1970-01-01T06:33:42\",\"1970-01-01T06:33:42\",\"1970-01-01T09:08:16\",\"1970-01-01T09:46:02\",\"1970-01-01T09:46:02\",\"1970-01-01T12:12:40\",\"1970-01-01T12:50:26\",\"1970-01-01T12:50:26\",\"1970-01-01T15:17:04\",\"1970-01-01T15:54:50\",\"1970-01-01T15:54:50\",\"1970-01-01T18:42:32\",\"1970-01-01T19:20:18\",\"1970-01-01T19:20:18\"],\"y\":[\"barge_1\",\"barge_1\",null,\"barge_1\",\"barge_1\",null,\"barge_1\",\"barge_1\",null,\"barge_1\",\"barge_1\",null,\"barge_1\",\"barge_1\",null,\"barge_1\",\"barge_1\",null,\"barge_1\",\"barge_1\",null,\"barge_1\",\"barge_1\",null,\"barge_1\",\"barge_1\",null,\"barge_1\",\"barge_1\",null,\"barge_1\",\"barge_1\",null,\"barge_1\",\"barge_1\",null,\"barge_1\",\"barge_1\",null,\"barge_1\",\"barge_1\",null,\"barge_1\",\"barge_1\",null,\"barge_1\",\"barge_1\",null,\"barge_1\",\"barge_1\",null,\"barge_1\",\"barge_1\",null],\"type\":\"scatter\"},{\"connectgaps\":false,\"hoverinfo\":\"y+name\",\"line\":{\"color\":\"#483700\",\"width\":10},\"mode\":\"lines\",\"name\":\"basic activity:barge_2\",\"x\":[\"1970-01-01T00:00:00\",\"1970-01-01T00:49:33\",\"1970-01-01T00:49:33\",\"1970-01-01T05:16:12\",\"1970-01-01T06:05:45\",\"1970-01-01T06:05:45\",\"1970-01-01T09:36:16\",\"1970-01-01T10:25:49\",\"1970-01-01T10:25:49\",\"1970-01-01T13:55:40\",\"1970-01-01T14:45:13\",\"1970-01-01T14:45:13\",\"1970-01-01T17:55:32\",\"1970-01-01T18:45:05\",\"1970-01-01T18:45:05\"],\"y\":[\"barge_2\",\"barge_2\",null,\"barge_2\",\"barge_2\",null,\"barge_2\",\"barge_2\",null,\"barge_2\",\"barge_2\",null,\"barge_2\",\"barge_2\",null,\"barge_2\",\"barge_2\",null,\"barge_2\",\"barge_2\",null,\"barge_2\",\"barge_2\",null,\"barge_2\",\"barge_2\",null,\"barge_2\",\"barge_2\",null,\"barge_2\",\"barge_2\",null,\"barge_2\",\"barge_2\",null,\"barge_2\",\"barge_2\",null,\"barge_2\",\"barge_2\",null,\"barge_2\",\"barge_2\",null],\"type\":\"scatter\"},{\"connectgaps\":false,\"hoverinfo\":\"y+name\",\"line\":{\"color\":\"#CCECFF\",\"width\":10},\"mode\":\"lines\",\"name\":\"sailing empty:barge_2\",\"x\":[\"1970-01-01T00:49:33\",\"1970-01-01T01:39:06\",\"1970-01-01T01:39:06\",\"1970-01-01T06:05:45\",\"1970-01-01T06:55:18\",\"1970-01-01T06:55:18\",\"1970-01-01T10:25:49\",\"1970-01-01T11:15:22\",\"1970-01-01T11:15:22\",\"1970-01-01T14:45:13\",\"1970-01-01T15:34:46\",\"1970-01-01T15:34:46\",\"1970-01-01T18:45:05\",\"1970-01-01T19:34:38\",\"1970-01-01T19:34:38\"],\"y\":[\"barge_2\",\"barge_2\",null,\"barge_2\",\"barge_2\",null,\"barge_2\",\"barge_2\",null,\"barge_2\",\"barge_2\",null,\"barge_2\",\"barge_2\",null,\"barge_2\",\"barge_2\",null,\"barge_2\",\"barge_2\",null,\"barge_2\",\"barge_2\",null,\"barge_2\",\"barge_2\",null,\"barge_2\",\"barge_2\",null,\"barge_2\",\"barge_2\",null,\"barge_2\",\"barge_2\",null,\"barge_2\",\"barge_2\",null,\"barge_2\",\"barge_2\",null,\"barge_2\",\"barge_2\",null],\"type\":\"scatter\"},{\"connectgaps\":false,\"hoverinfo\":\"y+name\",\"line\":{\"color\":\"#c6e0b4\",\"width\":10},\"mode\":\"lines\",\"name\":\"loading:barge_2\",\"x\":[\"1970-01-01T02:55:26\",\"1970-01-01T03:37:06\",\"1970-01-01T03:37:06\",\"1970-01-01T07:15:30\",\"1970-01-01T07:57:10\",\"1970-01-01T07:57:10\",\"1970-01-01T11:34:54\",\"1970-01-01T12:16:34\",\"1970-01-01T12:16:34\",\"1970-01-01T15:34:46\",\"1970-01-01T16:16:26\",\"1970-01-01T16:16:26\",\"1970-01-01T19:34:38\",\"1970-01-01T20:16:18\",\"1970-01-01T20:16:18\"],\"y\":[\"barge_2\",\"barge_2\",null,\"barge_2\",\"barge_2\",null,\"barge_2\",\"barge_2\",null,\"barge_2\",\"barge_2\",null,\"barge_2\",\"barge_2\",null,\"barge_2\",\"barge_2\",null,\"barge_2\",\"barge_2\",null,\"barge_2\",\"barge_2\",null,\"barge_2\",\"barge_2\",null,\"barge_2\",\"barge_2\",null,\"barge_2\",\"barge_2\",null,\"barge_2\",\"barge_2\",null,\"barge_2\",\"barge_2\",null,\"barge_2\",\"barge_2\",null,\"barge_2\",\"barge_2\",null],\"type\":\"scatter\"},{\"connectgaps\":false,\"hoverinfo\":\"y+name\",\"line\":{\"color\":\"#525252\",\"width\":10},\"mode\":\"lines\",\"name\":\"sailing full:barge_2\",\"x\":[\"1970-01-01T03:37:06\",\"1970-01-01T04:26:39\",\"1970-01-01T04:26:39\",\"1970-01-01T07:57:10\",\"1970-01-01T08:46:43\",\"1970-01-01T08:46:43\",\"1970-01-01T12:16:34\",\"1970-01-01T13:06:07\",\"1970-01-01T13:06:07\",\"1970-01-01T16:16:26\",\"1970-01-01T17:05:59\",\"1970-01-01T17:05:59\",\"1970-01-01T20:16:18\",\"1970-01-01T21:05:51\",\"1970-01-01T21:05:51\"],\"y\":[\"barge_2\",\"barge_2\",null,\"barge_2\",\"barge_2\",null,\"barge_2\",\"barge_2\",null,\"barge_2\",\"barge_2\",null,\"barge_2\",\"barge_2\",null,\"barge_2\",\"barge_2\",null,\"barge_2\",\"barge_2\",null,\"barge_2\",\"barge_2\",null,\"barge_2\",\"barge_2\",null,\"barge_2\",\"barge_2\",null,\"barge_2\",\"barge_2\",null,\"barge_2\",\"barge_2\",null,\"barge_2\",\"barge_2\",null,\"barge_2\",\"barge_2\",null,\"barge_2\",\"barge_2\",null],\"type\":\"scatter\"},{\"connectgaps\":false,\"hoverinfo\":\"y+name\",\"line\":{\"color\":\"#f8cbad\",\"width\":10},\"mode\":\"lines\",\"name\":\"unloading:barge_2\",\"x\":[\"1970-01-01T04:26:39\",\"1970-01-01T05:16:12\",\"1970-01-01T05:16:12\",\"1970-01-01T08:46:43\",\"1970-01-01T09:36:16\",\"1970-01-01T09:36:16\",\"1970-01-01T13:06:07\",\"1970-01-01T13:55:40\",\"1970-01-01T13:55:40\",\"1970-01-01T17:05:59\",\"1970-01-01T17:55:32\",\"1970-01-01T17:55:32\",\"1970-01-01T21:05:51\",\"1970-01-01T21:55:24\",\"1970-01-01T21:55:24\"],\"y\":[\"barge_2\",\"barge_2\",null,\"barge_2\",\"barge_2\",null,\"barge_2\",\"barge_2\",null,\"barge_2\",\"barge_2\",null,\"barge_2\",\"barge_2\",null,\"barge_2\",\"barge_2\",null,\"barge_2\",\"barge_2\",null,\"barge_2\",\"barge_2\",null,\"barge_2\",\"barge_2\",null,\"barge_2\",\"barge_2\",null,\"barge_2\",\"barge_2\",null,\"barge_2\",\"barge_2\",null,\"barge_2\",\"barge_2\",null,\"barge_2\",\"barge_2\",null,\"barge_2\",\"barge_2\",null],\"type\":\"scatter\"},{\"connectgaps\":false,\"hoverinfo\":\"y+name\",\"line\":{\"color\":\"#bf95df\",\"width\":10},\"mode\":\"lines\",\"name\":\"basic activity:barge_3\",\"x\":[\"1970-01-01T00:00:00\",\"1970-01-01T00:39:40\",\"1970-01-01T00:39:40\",\"1970-01-01T04:14:46\",\"1970-01-01T04:54:26\",\"1970-01-01T04:54:26\",\"1970-01-01T07:35:06\",\"1970-01-01T08:14:46\",\"1970-01-01T08:14:46\",\"1970-01-01T10:55:26\",\"1970-01-01T11:35:06\",\"1970-01-01T11:35:06\",\"1970-01-01T14:17:34\",\"1970-01-01T14:57:14\",\"1970-01-01T14:57:14\",\"1970-01-01T18:17:26\",\"1970-01-01T18:57:06\",\"1970-01-01T18:57:06\"],\"y\":[\"barge_3\",\"barge_3\",null,\"barge_3\",\"barge_3\",null,\"barge_3\",\"barge_3\",null,\"barge_3\",\"barge_3\",null,\"barge_3\",\"barge_3\",null,\"barge_3\",\"barge_3\",null,\"barge_3\",\"barge_3\",null,\"barge_3\",\"barge_3\",null,\"barge_3\",\"barge_3\",null,\"barge_3\",\"barge_3\",null,\"barge_3\",\"barge_3\",null,\"barge_3\",\"barge_3\",null,\"barge_3\",\"barge_3\",null,\"barge_3\",\"barge_3\",null,\"barge_3\",\"barge_3\",null,\"barge_3\",\"barge_3\",null,\"barge_3\",\"barge_3\",null,\"barge_3\",\"barge_3\",null],\"type\":\"scatter\"},{\"connectgaps\":false,\"hoverinfo\":\"y+name\",\"line\":{\"color\":\"darkred\",\"width\":10},\"mode\":\"lines\",\"name\":\"sailing empty:barge_3\",\"x\":[\"1970-01-01T00:39:40\",\"1970-01-01T01:19:20\",\"1970-01-01T01:19:20\",\"1970-01-01T04:54:26\",\"1970-01-01T05:34:06\",\"1970-01-01T05:34:06\",\"1970-01-01T08:14:46\",\"1970-01-01T08:54:26\",\"1970-01-01T08:54:26\",\"1970-01-01T11:35:06\",\"1970-01-01T12:14:46\",\"1970-01-01T12:14:46\",\"1970-01-01T14:57:14\",\"1970-01-01T15:36:54\",\"1970-01-01T15:36:54\",\"1970-01-01T18:57:06\",\"1970-01-01T19:36:46\",\"1970-01-01T19:36:46\"],\"y\":[\"barge_3\",\"barge_3\",null,\"barge_3\",\"barge_3\",null,\"barge_3\",\"barge_3\",null,\"barge_3\",\"barge_3\",null,\"barge_3\",\"barge_3\",null,\"barge_3\",\"barge_3\",null,\"barge_3\",\"barge_3\",null,\"barge_3\",\"barge_3\",null,\"barge_3\",\"barge_3\",null,\"barge_3\",\"barge_3\",null,\"barge_3\",\"barge_3\",null,\"barge_3\",\"barge_3\",null,\"barge_3\",\"barge_3\",null,\"barge_3\",\"barge_3\",null,\"barge_3\",\"barge_3\",null,\"barge_3\",\"barge_3\",null,\"barge_3\",\"barge_3\",null,\"barge_3\",\"barge_3\",null],\"type\":\"scatter\"},{\"connectgaps\":false,\"hoverinfo\":\"y+name\",\"line\":{\"color\":\"magenta\",\"width\":10},\"mode\":\"lines\",\"name\":\"loading:barge_3\",\"x\":[\"1970-01-01T02:13:46\",\"1970-01-01T02:55:26\",\"1970-01-01T02:55:26\",\"1970-01-01T05:34:06\",\"1970-01-01T06:15:46\",\"1970-01-01T06:15:46\",\"1970-01-01T08:54:26\",\"1970-01-01T09:36:06\",\"1970-01-01T09:36:06\",\"1970-01-01T12:16:34\",\"1970-01-01T12:58:14\",\"1970-01-01T12:58:14\",\"1970-01-01T16:16:26\",\"1970-01-01T16:58:06\",\"1970-01-01T16:58:06\",\"1970-01-01T20:16:18\",\"1970-01-01T20:57:58\",\"1970-01-01T20:57:58\"],\"y\":[\"barge_3\",\"barge_3\",null,\"barge_3\",\"barge_3\",null,\"barge_3\",\"barge_3\",null,\"barge_3\",\"barge_3\",null,\"barge_3\",\"barge_3\",null,\"barge_3\",\"barge_3\",null,\"barge_3\",\"barge_3\",null,\"barge_3\",\"barge_3\",null,\"barge_3\",\"barge_3\",null,\"barge_3\",\"barge_3\",null,\"barge_3\",\"barge_3\",null,\"barge_3\",\"barge_3\",null,\"barge_3\",\"barge_3\",null,\"barge_3\",\"barge_3\",null,\"barge_3\",\"barge_3\",null,\"barge_3\",\"barge_3\",null,\"barge_3\",\"barge_3\",null,\"barge_3\",\"barge_3\",null],\"type\":\"scatter\"},{\"connectgaps\":false,\"hoverinfo\":\"y+name\",\"line\":{\"color\":\"cyan\",\"width\":10},\"mode\":\"lines\",\"name\":\"sailing full:barge_3\",\"x\":[\"1970-01-01T02:55:26\",\"1970-01-01T03:35:06\",\"1970-01-01T03:35:06\",\"1970-01-01T06:15:46\",\"1970-01-01T06:55:26\",\"1970-01-01T06:55:26\",\"1970-01-01T09:36:06\",\"1970-01-01T10:15:46\",\"1970-01-01T10:15:46\",\"1970-01-01T12:58:14\",\"1970-01-01T13:37:54\",\"1970-01-01T13:37:54\",\"1970-01-01T16:58:06\",\"1970-01-01T17:37:46\",\"1970-01-01T17:37:46\",\"1970-01-01T20:57:58\",\"1970-01-01T21:37:38\",\"1970-01-01T21:37:38\"],\"y\":[\"barge_3\",\"barge_3\",null,\"barge_3\",\"barge_3\",null,\"barge_3\",\"barge_3\",null,\"barge_3\",\"barge_3\",null,\"barge_3\",\"barge_3\",null,\"barge_3\",\"barge_3\",null,\"barge_3\",\"barge_3\",null,\"barge_3\",\"barge_3\",null,\"barge_3\",\"barge_3\",null,\"barge_3\",\"barge_3\",null,\"barge_3\",\"barge_3\",null,\"barge_3\",\"barge_3\",null,\"barge_3\",\"barge_3\",null,\"barge_3\",\"barge_3\",null,\"barge_3\",\"barge_3\",null,\"barge_3\",\"barge_3\",null,\"barge_3\",\"barge_3\",null,\"barge_3\",\"barge_3\",null],\"type\":\"scatter\"},{\"connectgaps\":false,\"hoverinfo\":\"y+name\",\"line\":{\"color\":\"orange\",\"width\":10},\"mode\":\"lines\",\"name\":\"unloading:barge_3\",\"x\":[\"1970-01-01T03:35:06\",\"1970-01-01T04:14:46\",\"1970-01-01T04:14:46\",\"1970-01-01T06:55:26\",\"1970-01-01T07:35:06\",\"1970-01-01T07:35:06\",\"1970-01-01T10:15:46\",\"1970-01-01T10:55:26\",\"1970-01-01T10:55:26\",\"1970-01-01T13:37:54\",\"1970-01-01T14:17:34\",\"1970-01-01T14:17:34\",\"1970-01-01T17:37:46\",\"1970-01-01T18:17:26\",\"1970-01-01T18:17:26\",\"1970-01-01T21:37:38\",\"1970-01-01T22:17:18\",\"1970-01-01T22:17:18\"],\"y\":[\"barge_3\",\"barge_3\",null,\"barge_3\",\"barge_3\",null,\"barge_3\",\"barge_3\",null,\"barge_3\",\"barge_3\",null,\"barge_3\",\"barge_3\",null,\"barge_3\",\"barge_3\",null,\"barge_3\",\"barge_3\",null,\"barge_3\",\"barge_3\",null,\"barge_3\",\"barge_3\",null,\"barge_3\",\"barge_3\",null,\"barge_3\",\"barge_3\",null,\"barge_3\",\"barge_3\",null,\"barge_3\",\"barge_3\",null,\"barge_3\",\"barge_3\",null,\"barge_3\",\"barge_3\",null,\"barge_3\",\"barge_3\",null,\"barge_3\",\"barge_3\",null,\"barge_3\",\"barge_3\",null],\"type\":\"scatter\"},{\"connectgaps\":false,\"hoverinfo\":\"y+name\",\"line\":{\"color\":\"#ff0000\",\"width\":10},\"mode\":\"lines\",\"name\":\"loading:barge_0\",\"x\":[\"1970-01-01T01:07:06\",\"1970-01-01T01:40:26\",\"1970-01-01T01:40:26\",\"1970-01-01T03:54:38\",\"1970-01-01T04:27:58\",\"1970-01-01T04:27:58\",\"1970-01-01T06:42:10\",\"1970-01-01T07:15:30\",\"1970-01-01T07:15:30\",\"1970-01-01T09:36:06\",\"1970-01-01T10:09:26\",\"1970-01-01T10:09:26\",\"1970-01-01T12:58:14\",\"1970-01-01T13:31:34\",\"1970-01-01T13:31:34\",\"1970-01-01T16:58:06\",\"1970-01-01T17:31:26\",\"1970-01-01T17:31:26\"],\"y\":[\"cutter\",\"cutter\",null,\"cutter\",\"cutter\",null,\"cutter\",\"cutter\",null,\"cutter\",\"cutter\",null,\"cutter\",\"cutter\",null,\"cutter\",\"cutter\",null,\"cutter\",\"cutter\",null,\"cutter\",\"cutter\",null,\"cutter\",\"cutter\",null,\"cutter\",\"cutter\",null,\"cutter\",\"cutter\",null,\"cutter\",\"cutter\",null,\"cutter\",\"cutter\",null,\"cutter\",\"cutter\",null,\"cutter\",\"cutter\",null,\"cutter\",\"cutter\",null,\"cutter\",\"cutter\",null,\"cutter\",\"cutter\",null],\"type\":\"scatter\"},{\"connectgaps\":false,\"hoverinfo\":\"y+name\",\"line\":{\"color\":\"#bfbfbf\",\"width\":10},\"mode\":\"lines\",\"name\":\"loading:barge_1\",\"x\":[\"1970-01-01T01:40:26\",\"1970-01-01T02:13:46\",\"1970-01-01T02:13:46\",\"1970-01-01T04:44:50\",\"1970-01-01T05:18:10\",\"1970-01-01T05:18:10\",\"1970-01-01T07:57:10\",\"1970-01-01T08:30:30\",\"1970-01-01T08:30:30\",\"1970-01-01T11:01:34\",\"1970-01-01T11:34:54\",\"1970-01-01T11:34:54\",\"1970-01-01T14:05:58\",\"1970-01-01T14:39:18\",\"1970-01-01T14:39:18\",\"1970-01-01T17:31:26\",\"1970-01-01T18:04:46\",\"1970-01-01T18:04:46\"],\"y\":[\"cutter\",\"cutter\",null,\"cutter\",\"cutter\",null,\"cutter\",\"cutter\",null,\"cutter\",\"cutter\",null,\"cutter\",\"cutter\",null,\"cutter\",\"cutter\",null,\"cutter\",\"cutter\",null,\"cutter\",\"cutter\",null,\"cutter\",\"cutter\",null,\"cutter\",\"cutter\",null,\"cutter\",\"cutter\",null,\"cutter\",\"cutter\",null,\"cutter\",\"cutter\",null,\"cutter\",\"cutter\",null,\"cutter\",\"cutter\",null,\"cutter\",\"cutter\",null,\"cutter\",\"cutter\",null,\"cutter\",\"cutter\",null],\"type\":\"scatter\"},{\"connectgaps\":false,\"hoverinfo\":\"y+name\",\"line\":{\"color\":\"#305496\",\"width\":10},\"mode\":\"lines\",\"name\":\"loading:barge_3\",\"x\":[\"1970-01-01T02:13:46\",\"1970-01-01T02:55:26\",\"1970-01-01T02:55:26\",\"1970-01-01T05:34:06\",\"1970-01-01T06:15:46\",\"1970-01-01T06:15:46\",\"1970-01-01T08:54:26\",\"1970-01-01T09:36:06\",\"1970-01-01T09:36:06\",\"1970-01-01T12:16:34\",\"1970-01-01T12:58:14\",\"1970-01-01T12:58:14\",\"1970-01-01T16:16:26\",\"1970-01-01T16:58:06\",\"1970-01-01T16:58:06\",\"1970-01-01T20:16:18\",\"1970-01-01T20:57:58\",\"1970-01-01T20:57:58\"],\"y\":[\"cutter\",\"cutter\",null,\"cutter\",\"cutter\",null,\"cutter\",\"cutter\",null,\"cutter\",\"cutter\",null,\"cutter\",\"cutter\",null,\"cutter\",\"cutter\",null,\"cutter\",\"cutter\",null,\"cutter\",\"cutter\",null,\"cutter\",\"cutter\",null,\"cutter\",\"cutter\",null,\"cutter\",\"cutter\",null,\"cutter\",\"cutter\",null,\"cutter\",\"cutter\",null,\"cutter\",\"cutter\",null,\"cutter\",\"cutter\",null,\"cutter\",\"cutter\",null,\"cutter\",\"cutter\",null,\"cutter\",\"cutter\",null],\"type\":\"scatter\"},{\"connectgaps\":false,\"hoverinfo\":\"y+name\",\"line\":{\"color\":\"#00b0f0\",\"width\":10},\"mode\":\"lines\",\"name\":\"loading:barge_2\",\"x\":[\"1970-01-01T02:55:26\",\"1970-01-01T03:37:06\",\"1970-01-01T03:37:06\",\"1970-01-01T07:15:30\",\"1970-01-01T07:57:10\",\"1970-01-01T07:57:10\",\"1970-01-01T11:34:54\",\"1970-01-01T12:16:34\",\"1970-01-01T12:16:34\",\"1970-01-01T15:34:46\",\"1970-01-01T16:16:26\",\"1970-01-01T16:16:26\",\"1970-01-01T19:34:38\",\"1970-01-01T20:16:18\",\"1970-01-01T20:16:18\"],\"y\":[\"cutter\",\"cutter\",null,\"cutter\",\"cutter\",null,\"cutter\",\"cutter\",null,\"cutter\",\"cutter\",null,\"cutter\",\"cutter\",null,\"cutter\",\"cutter\",null,\"cutter\",\"cutter\",null,\"cutter\",\"cutter\",null,\"cutter\",\"cutter\",null,\"cutter\",\"cutter\",null,\"cutter\",\"cutter\",null,\"cutter\",\"cutter\",null,\"cutter\",\"cutter\",null,\"cutter\",\"cutter\",null,\"cutter\",\"cutter\",null],\"type\":\"scatter\"},{\"connectgaps\":false,\"hoverinfo\":\"y+name\",\"line\":{\"color\":\"#ffff00\",\"width\":10},\"mode\":\"lines\",\"name\":\"loading:barge_0\",\"x\":[\"1970-01-01T01:07:06\",\"1970-01-01T01:40:26\",\"1970-01-01T01:40:26\",\"1970-01-01T03:54:38\",\"1970-01-01T04:27:58\",\"1970-01-01T04:27:58\",\"1970-01-01T06:42:10\",\"1970-01-01T07:15:30\",\"1970-01-01T07:15:30\",\"1970-01-01T09:36:06\",\"1970-01-01T10:09:26\",\"1970-01-01T10:09:26\",\"1970-01-01T12:58:14\",\"1970-01-01T13:31:34\",\"1970-01-01T13:31:34\",\"1970-01-01T16:58:06\",\"1970-01-01T17:31:26\",\"1970-01-01T17:31:26\"],\"y\":[\"from_site\",\"from_site\",null,\"from_site\",\"from_site\",null,\"from_site\",\"from_site\",null,\"from_site\",\"from_site\",null,\"from_site\",\"from_site\",null,\"from_site\",\"from_site\",null,\"from_site\",\"from_site\",null,\"from_site\",\"from_site\",null,\"from_site\",\"from_site\",null,\"from_site\",\"from_site\",null,\"from_site\",\"from_site\",null,\"from_site\",\"from_site\",null,\"from_site\",\"from_site\",null,\"from_site\",\"from_site\",null,\"from_site\",\"from_site\",null,\"from_site\",\"from_site\",null,\"from_site\",\"from_site\",null,\"from_site\",\"from_site\",null],\"type\":\"scatter\"},{\"connectgaps\":false,\"hoverinfo\":\"y+name\",\"line\":{\"color\":\"#00b050\",\"width\":10},\"mode\":\"lines\",\"name\":\"loading:barge_1\",\"x\":[\"1970-01-01T01:40:26\",\"1970-01-01T02:13:46\",\"1970-01-01T02:13:46\",\"1970-01-01T04:44:50\",\"1970-01-01T05:18:10\",\"1970-01-01T05:18:10\",\"1970-01-01T07:57:10\",\"1970-01-01T08:30:30\",\"1970-01-01T08:30:30\",\"1970-01-01T11:01:34\",\"1970-01-01T11:34:54\",\"1970-01-01T11:34:54\",\"1970-01-01T14:05:58\",\"1970-01-01T14:39:18\",\"1970-01-01T14:39:18\",\"1970-01-01T17:31:26\",\"1970-01-01T18:04:46\",\"1970-01-01T18:04:46\"],\"y\":[\"from_site\",\"from_site\",null,\"from_site\",\"from_site\",null,\"from_site\",\"from_site\",null,\"from_site\",\"from_site\",null,\"from_site\",\"from_site\",null,\"from_site\",\"from_site\",null,\"from_site\",\"from_site\",null,\"from_site\",\"from_site\",null,\"from_site\",\"from_site\",null,\"from_site\",\"from_site\",null,\"from_site\",\"from_site\",null,\"from_site\",\"from_site\",null,\"from_site\",\"from_site\",null,\"from_site\",\"from_site\",null,\"from_site\",\"from_site\",null,\"from_site\",\"from_site\",null,\"from_site\",\"from_site\",null,\"from_site\",\"from_site\",null],\"type\":\"scatter\"},{\"connectgaps\":false,\"hoverinfo\":\"y+name\",\"line\":{\"color\":\"#990101\",\"width\":10},\"mode\":\"lines\",\"name\":\"loading:barge_3\",\"x\":[\"1970-01-01T02:13:46\",\"1970-01-01T02:55:26\",\"1970-01-01T02:55:26\",\"1970-01-01T05:34:06\",\"1970-01-01T06:15:46\",\"1970-01-01T06:15:46\",\"1970-01-01T08:54:26\",\"1970-01-01T09:36:06\",\"1970-01-01T09:36:06\",\"1970-01-01T12:16:34\",\"1970-01-01T12:58:14\",\"1970-01-01T12:58:14\",\"1970-01-01T16:16:26\",\"1970-01-01T16:58:06\",\"1970-01-01T16:58:06\",\"1970-01-01T20:16:18\",\"1970-01-01T20:57:58\",\"1970-01-01T20:57:58\"],\"y\":[\"from_site\",\"from_site\",null,\"from_site\",\"from_site\",null,\"from_site\",\"from_site\",null,\"from_site\",\"from_site\",null,\"from_site\",\"from_site\",null,\"from_site\",\"from_site\",null,\"from_site\",\"from_site\",null,\"from_site\",\"from_site\",null,\"from_site\",\"from_site\",null,\"from_site\",\"from_site\",null,\"from_site\",\"from_site\",null,\"from_site\",\"from_site\",null,\"from_site\",\"from_site\",null,\"from_site\",\"from_site\",null,\"from_site\",\"from_site\",null,\"from_site\",\"from_site\",null,\"from_site\",\"from_site\",null,\"from_site\",\"from_site\",null],\"type\":\"scatter\"},{\"connectgaps\":false,\"hoverinfo\":\"y+name\",\"line\":{\"color\":\"#ED7D31\",\"width\":10},\"mode\":\"lines\",\"name\":\"loading:barge_2\",\"x\":[\"1970-01-01T02:55:26\",\"1970-01-01T03:37:06\",\"1970-01-01T03:37:06\",\"1970-01-01T07:15:30\",\"1970-01-01T07:57:10\",\"1970-01-01T07:57:10\",\"1970-01-01T11:34:54\",\"1970-01-01T12:16:34\",\"1970-01-01T12:16:34\",\"1970-01-01T15:34:46\",\"1970-01-01T16:16:26\",\"1970-01-01T16:16:26\",\"1970-01-01T19:34:38\",\"1970-01-01T20:16:18\",\"1970-01-01T20:16:18\"],\"y\":[\"from_site\",\"from_site\",null,\"from_site\",\"from_site\",null,\"from_site\",\"from_site\",null,\"from_site\",\"from_site\",null,\"from_site\",\"from_site\",null,\"from_site\",\"from_site\",null,\"from_site\",\"from_site\",null,\"from_site\",\"from_site\",null,\"from_site\",\"from_site\",null,\"from_site\",\"from_site\",null,\"from_site\",\"from_site\",null,\"from_site\",\"from_site\",null,\"from_site\",\"from_site\",null,\"from_site\",\"from_site\",null,\"from_site\",\"from_site\",null],\"type\":\"scatter\"},{\"connectgaps\":false,\"hoverinfo\":\"y+name\",\"line\":{\"color\":\"#7030A0\",\"width\":10},\"mode\":\"lines\",\"name\":\"unloading:barge_0\",\"x\":[\"1970-01-01T02:13:59\",\"1970-01-01T02:47:32\",\"1970-01-01T02:47:32\",\"1970-01-01T05:01:31\",\"1970-01-01T05:35:04\",\"1970-01-01T05:35:04\",\"1970-01-01T07:49:03\",\"1970-01-01T08:22:36\",\"1970-01-01T08:22:36\",\"1970-01-01T10:42:59\",\"1970-01-01T11:16:32\",\"1970-01-01T11:16:32\",\"1970-01-01T14:05:07\",\"1970-01-01T14:38:40\",\"1970-01-01T14:38:40\",\"1970-01-01T18:04:59\",\"1970-01-01T18:38:32\",\"1970-01-01T18:38:32\"],\"y\":[\"to_site\",\"to_site\",null,\"to_site\",\"to_site\",null,\"to_site\",\"to_site\",null,\"to_site\",\"to_site\",null,\"to_site\",\"to_site\",null,\"to_site\",\"to_site\",null,\"to_site\",\"to_site\",null,\"to_site\",\"to_site\",null,\"to_site\",\"to_site\",null,\"to_site\",\"to_site\",null,\"to_site\",\"to_site\",null,\"to_site\",\"to_site\",null,\"to_site\",\"to_site\",null,\"to_site\",\"to_site\",null,\"to_site\",\"to_site\",null,\"to_site\",\"to_site\",null,\"to_site\",\"to_site\",null,\"to_site\",\"to_site\",null],\"type\":\"scatter\"},{\"connectgaps\":false,\"hoverinfo\":\"y+name\",\"line\":{\"color\":\"#1EB299\",\"width\":10},\"mode\":\"lines\",\"name\":\"unloading:barge_1\",\"x\":[\"1970-01-01T02:51:32\",\"1970-01-01T03:29:18\",\"1970-01-01T03:29:18\",\"1970-01-01T05:55:56\",\"1970-01-01T06:33:42\",\"1970-01-01T06:33:42\",\"1970-01-01T09:08:16\",\"1970-01-01T09:46:02\",\"1970-01-01T09:46:02\",\"1970-01-01T12:12:40\",\"1970-01-01T12:50:26\",\"1970-01-01T12:50:26\",\"1970-01-01T15:17:04\",\"1970-01-01T15:54:50\",\"1970-01-01T15:54:50\",\"1970-01-01T18:42:32\",\"1970-01-01T19:20:18\",\"1970-01-01T19:20:18\"],\"y\":[\"to_site\",\"to_site\",null,\"to_site\",\"to_site\",null,\"to_site\",\"to_site\",null,\"to_site\",\"to_site\",null,\"to_site\",\"to_site\",null,\"to_site\",\"to_site\",null,\"to_site\",\"to_site\",null,\"to_site\",\"to_site\",null,\"to_site\",\"to_site\",null,\"to_site\",\"to_site\",null,\"to_site\",\"to_site\",null,\"to_site\",\"to_site\",null,\"to_site\",\"to_site\",null,\"to_site\",\"to_site\",null,\"to_site\",\"to_site\",null,\"to_site\",\"to_site\",null,\"to_site\",\"to_site\",null,\"to_site\",\"to_site\",null],\"type\":\"scatter\"},{\"connectgaps\":false,\"hoverinfo\":\"y+name\",\"line\":{\"color\":\"#483700\",\"width\":10},\"mode\":\"lines\",\"name\":\"unloading:barge_3\",\"x\":[\"1970-01-01T03:35:06\",\"1970-01-01T04:14:46\",\"1970-01-01T04:14:46\",\"1970-01-01T06:55:26\",\"1970-01-01T07:35:06\",\"1970-01-01T07:35:06\",\"1970-01-01T10:15:46\",\"1970-01-01T10:55:26\",\"1970-01-01T10:55:26\",\"1970-01-01T13:37:54\",\"1970-01-01T14:17:34\",\"1970-01-01T14:17:34\",\"1970-01-01T17:37:46\",\"1970-01-01T18:17:26\",\"1970-01-01T18:17:26\",\"1970-01-01T21:37:38\",\"1970-01-01T22:17:18\",\"1970-01-01T22:17:18\"],\"y\":[\"to_site\",\"to_site\",null,\"to_site\",\"to_site\",null,\"to_site\",\"to_site\",null,\"to_site\",\"to_site\",null,\"to_site\",\"to_site\",null,\"to_site\",\"to_site\",null,\"to_site\",\"to_site\",null,\"to_site\",\"to_site\",null,\"to_site\",\"to_site\",null,\"to_site\",\"to_site\",null,\"to_site\",\"to_site\",null,\"to_site\",\"to_site\",null,\"to_site\",\"to_site\",null,\"to_site\",\"to_site\",null,\"to_site\",\"to_site\",null,\"to_site\",\"to_site\",null,\"to_site\",\"to_site\",null,\"to_site\",\"to_site\",null],\"type\":\"scatter\"},{\"connectgaps\":false,\"hoverinfo\":\"y+name\",\"line\":{\"color\":\"#CCECFF\",\"width\":10},\"mode\":\"lines\",\"name\":\"unloading:barge_2\",\"x\":[\"1970-01-01T04:26:39\",\"1970-01-01T05:16:12\",\"1970-01-01T05:16:12\",\"1970-01-01T08:46:43\",\"1970-01-01T09:36:16\",\"1970-01-01T09:36:16\",\"1970-01-01T13:06:07\",\"1970-01-01T13:55:40\",\"1970-01-01T13:55:40\",\"1970-01-01T17:05:59\",\"1970-01-01T17:55:32\",\"1970-01-01T17:55:32\",\"1970-01-01T21:05:51\",\"1970-01-01T21:55:24\",\"1970-01-01T21:55:24\"],\"y\":[\"to_site\",\"to_site\",null,\"to_site\",\"to_site\",null,\"to_site\",\"to_site\",null,\"to_site\",\"to_site\",null,\"to_site\",\"to_site\",null,\"to_site\",\"to_site\",null,\"to_site\",\"to_site\",null,\"to_site\",\"to_site\",null,\"to_site\",\"to_site\",null,\"to_site\",\"to_site\",null,\"to_site\",\"to_site\",null,\"to_site\",\"to_site\",null,\"to_site\",\"to_site\",null,\"to_site\",\"to_site\",null,\"to_site\",\"to_site\",null],\"type\":\"scatter\"},{\"connectgaps\":false,\"hoverinfo\":\"name\",\"line\":{\"color\":\"Black\",\"width\":5},\"mode\":\"markers\",\"name\":\"critical_path\",\"x\":[\"1970-01-01T00:00:00\",\"1970-01-01T00:33:33\",\"1970-01-01T01:07:06\",\"1970-01-01T01:07:06\",\"1970-01-01T01:07:06\",\"1970-01-01T01:40:26\",\"1970-01-01T02:13:59\",\"1970-01-01T02:13:59\",\"1970-01-01T02:47:32\",\"1970-01-01T03:21:05\",\"1970-01-01T03:54:38\",\"1970-01-01T03:54:38\",\"1970-01-01T03:54:38\",\"1970-01-01T04:27:58\",\"1970-01-01T05:01:31\",\"1970-01-01T05:01:31\",\"1970-01-01T05:35:04\",\"1970-01-01T06:08:37\",\"1970-01-01T06:42:10\",\"1970-01-01T06:42:10\",\"1970-01-01T06:42:10\",\"1970-01-01T07:15:30\",\"1970-01-01T07:15:30\",\"1970-01-01T07:15:30\",\"1970-01-01T07:57:10\",\"1970-01-01T07:57:10\",\"1970-01-01T07:57:10\",\"1970-01-01T08:30:30\",\"1970-01-01T09:08:16\",\"1970-01-01T09:08:16\",\"1970-01-01T09:46:02\",\"1970-01-01T10:23:48\",\"1970-01-01T11:01:34\",\"1970-01-01T11:01:34\",\"1970-01-01T11:01:34\",\"1970-01-01T11:34:54\",\"1970-01-01T11:34:54\",\"1970-01-01T11:34:54\",\"1970-01-01T12:16:34\",\"1970-01-01T13:06:07\",\"1970-01-01T13:06:07\",\"1970-01-01T13:55:40\",\"1970-01-01T14:45:13\",\"1970-01-01T15:34:46\",\"1970-01-01T15:34:46\",\"1970-01-01T15:34:46\",\"1970-01-01T16:16:26\",\"1970-01-01T17:05:59\",\"1970-01-01T17:05:59\",\"1970-01-01T17:55:32\",\"1970-01-01T18:45:05\",\"1970-01-01T19:34:38\",\"1970-01-01T19:34:38\",\"1970-01-01T19:34:38\",\"1970-01-01T20:16:18\",\"1970-01-01T20:16:18\",\"1970-01-01T20:16:18\",\"1970-01-01T20:57:58\",\"1970-01-01T21:37:38\",\"1970-01-01T21:37:38\"],\"y\":[\"barge_0\",\"barge_0\",\"barge_0\",\"cutter\",\"from_site\",\"barge_0\",\"barge_0\",\"to_site\",\"barge_0\",\"barge_0\",\"barge_0\",\"cutter\",\"from_site\",\"barge_0\",\"barge_0\",\"to_site\",\"barge_0\",\"barge_0\",\"barge_0\",\"cutter\",\"from_site\",\"barge_2\",\"cutter\",\"from_site\",\"barge_1\",\"cutter\",\"from_site\",\"barge_1\",\"barge_1\",\"to_site\",\"barge_1\",\"barge_1\",\"barge_1\",\"cutter\",\"from_site\",\"barge_2\",\"cutter\",\"from_site\",\"barge_2\",\"barge_2\",\"to_site\",\"barge_2\",\"barge_2\",\"barge_2\",\"cutter\",\"from_site\",\"barge_2\",\"barge_2\",\"to_site\",\"barge_2\",\"barge_2\",\"barge_2\",\"cutter\",\"from_site\",\"barge_3\",\"cutter\",\"from_site\",\"barge_3\",\"barge_3\",\"to_site\"],\"type\":\"scatter\"}],                        {\"hovermode\":\"closest\",\"legend\":{\"orientation\":\"h\",\"x\":0,\"y\":-0.2},\"template\":{\"data\":{\"barpolar\":[{\"marker\":{\"line\":{\"color\":\"#E5ECF6\",\"width\":0.5},\"pattern\":{\"fillmode\":\"overlay\",\"size\":10,\"solidity\":0.2}},\"type\":\"barpolar\"}],\"bar\":[{\"error_x\":{\"color\":\"#2a3f5f\"},\"error_y\":{\"color\":\"#2a3f5f\"},\"marker\":{\"line\":{\"color\":\"#E5ECF6\",\"width\":0.5},\"pattern\":{\"fillmode\":\"overlay\",\"size\":10,\"solidity\":0.2}},\"type\":\"bar\"}],\"carpet\":[{\"aaxis\":{\"endlinecolor\":\"#2a3f5f\",\"gridcolor\":\"white\",\"linecolor\":\"white\",\"minorgridcolor\":\"white\",\"startlinecolor\":\"#2a3f5f\"},\"baxis\":{\"endlinecolor\":\"#2a3f5f\",\"gridcolor\":\"white\",\"linecolor\":\"white\",\"minorgridcolor\":\"white\",\"startlinecolor\":\"#2a3f5f\"},\"type\":\"carpet\"}],\"choropleth\":[{\"colorbar\":{\"outlinewidth\":0,\"ticks\":\"\"},\"type\":\"choropleth\"}],\"contourcarpet\":[{\"colorbar\":{\"outlinewidth\":0,\"ticks\":\"\"},\"type\":\"contourcarpet\"}],\"contour\":[{\"colorbar\":{\"outlinewidth\":0,\"ticks\":\"\"},\"colorscale\":[[0.0,\"#0d0887\"],[0.1111111111111111,\"#46039f\"],[0.2222222222222222,\"#7201a8\"],[0.3333333333333333,\"#9c179e\"],[0.4444444444444444,\"#bd3786\"],[0.5555555555555556,\"#d8576b\"],[0.6666666666666666,\"#ed7953\"],[0.7777777777777778,\"#fb9f3a\"],[0.8888888888888888,\"#fdca26\"],[1.0,\"#f0f921\"]],\"type\":\"contour\"}],\"heatmapgl\":[{\"colorbar\":{\"outlinewidth\":0,\"ticks\":\"\"},\"colorscale\":[[0.0,\"#0d0887\"],[0.1111111111111111,\"#46039f\"],[0.2222222222222222,\"#7201a8\"],[0.3333333333333333,\"#9c179e\"],[0.4444444444444444,\"#bd3786\"],[0.5555555555555556,\"#d8576b\"],[0.6666666666666666,\"#ed7953\"],[0.7777777777777778,\"#fb9f3a\"],[0.8888888888888888,\"#fdca26\"],[1.0,\"#f0f921\"]],\"type\":\"heatmapgl\"}],\"heatmap\":[{\"colorbar\":{\"outlinewidth\":0,\"ticks\":\"\"},\"colorscale\":[[0.0,\"#0d0887\"],[0.1111111111111111,\"#46039f\"],[0.2222222222222222,\"#7201a8\"],[0.3333333333333333,\"#9c179e\"],[0.4444444444444444,\"#bd3786\"],[0.5555555555555556,\"#d8576b\"],[0.6666666666666666,\"#ed7953\"],[0.7777777777777778,\"#fb9f3a\"],[0.8888888888888888,\"#fdca26\"],[1.0,\"#f0f921\"]],\"type\":\"heatmap\"}],\"histogram2dcontour\":[{\"colorbar\":{\"outlinewidth\":0,\"ticks\":\"\"},\"colorscale\":[[0.0,\"#0d0887\"],[0.1111111111111111,\"#46039f\"],[0.2222222222222222,\"#7201a8\"],[0.3333333333333333,\"#9c179e\"],[0.4444444444444444,\"#bd3786\"],[0.5555555555555556,\"#d8576b\"],[0.6666666666666666,\"#ed7953\"],[0.7777777777777778,\"#fb9f3a\"],[0.8888888888888888,\"#fdca26\"],[1.0,\"#f0f921\"]],\"type\":\"histogram2dcontour\"}],\"histogram2d\":[{\"colorbar\":{\"outlinewidth\":0,\"ticks\":\"\"},\"colorscale\":[[0.0,\"#0d0887\"],[0.1111111111111111,\"#46039f\"],[0.2222222222222222,\"#7201a8\"],[0.3333333333333333,\"#9c179e\"],[0.4444444444444444,\"#bd3786\"],[0.5555555555555556,\"#d8576b\"],[0.6666666666666666,\"#ed7953\"],[0.7777777777777778,\"#fb9f3a\"],[0.8888888888888888,\"#fdca26\"],[1.0,\"#f0f921\"]],\"type\":\"histogram2d\"}],\"histogram\":[{\"marker\":{\"pattern\":{\"fillmode\":\"overlay\",\"size\":10,\"solidity\":0.2}},\"type\":\"histogram\"}],\"mesh3d\":[{\"colorbar\":{\"outlinewidth\":0,\"ticks\":\"\"},\"type\":\"mesh3d\"}],\"parcoords\":[{\"line\":{\"colorbar\":{\"outlinewidth\":0,\"ticks\":\"\"}},\"type\":\"parcoords\"}],\"pie\":[{\"automargin\":true,\"type\":\"pie\"}],\"scatter3d\":[{\"line\":{\"colorbar\":{\"outlinewidth\":0,\"ticks\":\"\"}},\"marker\":{\"colorbar\":{\"outlinewidth\":0,\"ticks\":\"\"}},\"type\":\"scatter3d\"}],\"scattercarpet\":[{\"marker\":{\"colorbar\":{\"outlinewidth\":0,\"ticks\":\"\"}},\"type\":\"scattercarpet\"}],\"scattergeo\":[{\"marker\":{\"colorbar\":{\"outlinewidth\":0,\"ticks\":\"\"}},\"type\":\"scattergeo\"}],\"scattergl\":[{\"marker\":{\"colorbar\":{\"outlinewidth\":0,\"ticks\":\"\"}},\"type\":\"scattergl\"}],\"scattermapbox\":[{\"marker\":{\"colorbar\":{\"outlinewidth\":0,\"ticks\":\"\"}},\"type\":\"scattermapbox\"}],\"scatterpolargl\":[{\"marker\":{\"colorbar\":{\"outlinewidth\":0,\"ticks\":\"\"}},\"type\":\"scatterpolargl\"}],\"scatterpolar\":[{\"marker\":{\"colorbar\":{\"outlinewidth\":0,\"ticks\":\"\"}},\"type\":\"scatterpolar\"}],\"scatter\":[{\"fillpattern\":{\"fillmode\":\"overlay\",\"size\":10,\"solidity\":0.2},\"type\":\"scatter\"}],\"scatterternary\":[{\"marker\":{\"colorbar\":{\"outlinewidth\":0,\"ticks\":\"\"}},\"type\":\"scatterternary\"}],\"surface\":[{\"colorbar\":{\"outlinewidth\":0,\"ticks\":\"\"},\"colorscale\":[[0.0,\"#0d0887\"],[0.1111111111111111,\"#46039f\"],[0.2222222222222222,\"#7201a8\"],[0.3333333333333333,\"#9c179e\"],[0.4444444444444444,\"#bd3786\"],[0.5555555555555556,\"#d8576b\"],[0.6666666666666666,\"#ed7953\"],[0.7777777777777778,\"#fb9f3a\"],[0.8888888888888888,\"#fdca26\"],[1.0,\"#f0f921\"]],\"type\":\"surface\"}],\"table\":[{\"cells\":{\"fill\":{\"color\":\"#EBF0F8\"},\"line\":{\"color\":\"white\"}},\"header\":{\"fill\":{\"color\":\"#C8D4E3\"},\"line\":{\"color\":\"white\"}},\"type\":\"table\"}]},\"layout\":{\"annotationdefaults\":{\"arrowcolor\":\"#2a3f5f\",\"arrowhead\":0,\"arrowwidth\":1},\"autotypenumbers\":\"strict\",\"coloraxis\":{\"colorbar\":{\"outlinewidth\":0,\"ticks\":\"\"}},\"colorscale\":{\"diverging\":[[0,\"#8e0152\"],[0.1,\"#c51b7d\"],[0.2,\"#de77ae\"],[0.3,\"#f1b6da\"],[0.4,\"#fde0ef\"],[0.5,\"#f7f7f7\"],[0.6,\"#e6f5d0\"],[0.7,\"#b8e186\"],[0.8,\"#7fbc41\"],[0.9,\"#4d9221\"],[1,\"#276419\"]],\"sequential\":[[0.0,\"#0d0887\"],[0.1111111111111111,\"#46039f\"],[0.2222222222222222,\"#7201a8\"],[0.3333333333333333,\"#9c179e\"],[0.4444444444444444,\"#bd3786\"],[0.5555555555555556,\"#d8576b\"],[0.6666666666666666,\"#ed7953\"],[0.7777777777777778,\"#fb9f3a\"],[0.8888888888888888,\"#fdca26\"],[1.0,\"#f0f921\"]],\"sequentialminus\":[[0.0,\"#0d0887\"],[0.1111111111111111,\"#46039f\"],[0.2222222222222222,\"#7201a8\"],[0.3333333333333333,\"#9c179e\"],[0.4444444444444444,\"#bd3786\"],[0.5555555555555556,\"#d8576b\"],[0.6666666666666666,\"#ed7953\"],[0.7777777777777778,\"#fb9f3a\"],[0.8888888888888888,\"#fdca26\"],[1.0,\"#f0f921\"]]},\"colorway\":[\"#636efa\",\"#EF553B\",\"#00cc96\",\"#ab63fa\",\"#FFA15A\",\"#19d3f3\",\"#FF6692\",\"#B6E880\",\"#FF97FF\",\"#FECB52\"],\"font\":{\"color\":\"#2a3f5f\"},\"geo\":{\"bgcolor\":\"white\",\"lakecolor\":\"white\",\"landcolor\":\"#E5ECF6\",\"showlakes\":true,\"showland\":true,\"subunitcolor\":\"white\"},\"hoverlabel\":{\"align\":\"left\"},\"hovermode\":\"closest\",\"mapbox\":{\"style\":\"light\"},\"paper_bgcolor\":\"white\",\"plot_bgcolor\":\"#E5ECF6\",\"polar\":{\"angularaxis\":{\"gridcolor\":\"white\",\"linecolor\":\"white\",\"ticks\":\"\"},\"bgcolor\":\"#E5ECF6\",\"radialaxis\":{\"gridcolor\":\"white\",\"linecolor\":\"white\",\"ticks\":\"\"}},\"scene\":{\"xaxis\":{\"backgroundcolor\":\"#E5ECF6\",\"gridcolor\":\"white\",\"gridwidth\":2,\"linecolor\":\"white\",\"showbackground\":true,\"ticks\":\"\",\"zerolinecolor\":\"white\"},\"yaxis\":{\"backgroundcolor\":\"#E5ECF6\",\"gridcolor\":\"white\",\"gridwidth\":2,\"linecolor\":\"white\",\"showbackground\":true,\"ticks\":\"\",\"zerolinecolor\":\"white\"},\"zaxis\":{\"backgroundcolor\":\"#E5ECF6\",\"gridcolor\":\"white\",\"gridwidth\":2,\"linecolor\":\"white\",\"showbackground\":true,\"ticks\":\"\",\"zerolinecolor\":\"white\"}},\"shapedefaults\":{\"line\":{\"color\":\"#2a3f5f\"}},\"ternary\":{\"aaxis\":{\"gridcolor\":\"white\",\"linecolor\":\"white\",\"ticks\":\"\"},\"baxis\":{\"gridcolor\":\"white\",\"linecolor\":\"white\",\"ticks\":\"\"},\"bgcolor\":\"#E5ECF6\",\"caxis\":{\"gridcolor\":\"white\",\"linecolor\":\"white\",\"ticks\":\"\"}},\"title\":{\"x\":0.05},\"xaxis\":{\"automargin\":true,\"gridcolor\":\"white\",\"linecolor\":\"white\",\"ticks\":\"\",\"title\":{\"standoff\":15},\"zerolinecolor\":\"white\",\"zerolinewidth\":2},\"yaxis\":{\"automargin\":true,\"gridcolor\":\"white\",\"linecolor\":\"white\",\"ticks\":\"\",\"title\":{\"standoff\":15},\"zerolinecolor\":\"white\",\"zerolinewidth\":2}}},\"title\":{\"text\":\"GANTT Chart\"},\"xaxis\":{\"range\":[\"1970-01-01T00:00:00\",\"1970-01-01T22:17:18\"],\"title\":{\"font\":{\"color\":\"#7f7f7f\",\"family\":\"Courier New, monospace\",\"size\":18},\"text\":\"Time\"}},\"yaxis\":{\"title\":{\"font\":{\"color\":\"#7f7f7f\",\"family\":\"Courier New, monospace\",\"size\":18},\"text\":\"Activities\"}}},                        {\"responsive\": true}                    ).then(function(){\n",
       "                            \n",
       "var gd = document.getElementById('0321146d-cb0d-4db4-b0c6-9ec81d802541');\n",
       "var x = new MutationObserver(function (mutations, observer) {{\n",
       "        var display = window.getComputedStyle(gd).display;\n",
       "        if (!display || display === 'none') {{\n",
       "            console.log([gd, 'removed!']);\n",
       "            Plotly.purge(gd);\n",
       "            observer.disconnect();\n",
       "        }}\n",
       "}});\n",
       "\n",
       "// Listen for the removal of the full notebook cells\n",
       "var notebookContainer = gd.closest('#notebook-container');\n",
       "if (notebookContainer) {{\n",
       "    x.observe(notebookContainer, {childList: true});\n",
       "}}\n",
       "\n",
       "// Listen for the clearing of the current output cell\n",
       "var outputEl = gd.closest('.output');\n",
       "if (outputEl) {{\n",
       "    x.observe(outputEl, {childList: true});\n",
       "}}\n",
       "\n",
       "                        })                };                });            </script>        </div>"
      ]
     },
     "metadata": {},
     "output_type": "display_data"
    }
   ],
   "source": [
    "# different setting\n",
    "res = run(4,100)\n",
    "vessels = res['vessels']\n",
    "activities = res['activities']\n",
    "cutter = vessels['cutter']\n",
    "to_site = res['to_site']\n",
    "from_site = res['from_site']\n",
    " # %% run simulation and process output\n",
    "df_superlog = get_superlog_with_critical_path([*vessels.values(), from_site, to_site],\n",
    "                                              id_map=[activities[x] for x in activities])\n",
    "display(df_superlog)\n",
    "# and plot(ly)\n",
    "my_log_object = SuperLog(df_superlog)\n",
    "my_log_object.make_gantt_plotly()"
   ]
  },
  {
   "cell_type": "code",
   "execution_count": null,
   "id": "8a16b080",
   "metadata": {},
   "outputs": [],
   "source": []
  }
 ],
 "metadata": {
  "kernelspec": {
   "display_name": "Python 3 (ipykernel)",
   "language": "python",
   "name": "python3"
  },
  "language_info": {
   "codemirror_mode": {
    "name": "ipython",
    "version": 3
   },
   "file_extension": ".py",
   "mimetype": "text/x-python",
   "name": "python",
   "nbconvert_exporter": "python",
   "pygments_lexer": "ipython3",
   "version": "3.9.12"
  }
 },
 "nbformat": 4,
 "nbformat_minor": 5
}
