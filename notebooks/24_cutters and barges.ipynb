{
 "cells": [
  {
   "cell_type": "markdown",
   "id": "384a3d39",
   "metadata": {},
   "source": [
    "## feeder concept: cutter + barges\n",
    "\n",
    "This notebook shows how to implement a basic feeder concept for a cutter suction dredge working with multiple barges."
   ]
  },
  {
   "cell_type": "code",
   "execution_count": 1,
   "id": "b6580ad4",
   "metadata": {},
   "outputs": [],
   "source": [
    "import datetime, time\n",
    "import simpy\n",
    "\n",
    "import shapely.geometry\n",
    "import pandas as pd\n",
    "\n",
    "import openclsim.core as core\n",
    "import openclsim.model as model\n",
    "from openclsim.plot import get_step_chart, get_gantt_chart\n",
    "import numpy as np"
   ]
  },
  {
   "cell_type": "code",
   "execution_count": 2,
   "id": "5d93d662",
   "metadata": {},
   "outputs": [],
   "source": [
    "cutter_name    = 'Cutter T'\n",
    "barge_names    = ['Carrier A','Carrier B','Carrier C',\n",
    "                  'Barge I','Barge II','Barge III',\n",
    "                  'Extra 1', 'Extra 2', 'Extra 3']\n",
    "vessel_cost     = {'Carrier A':6000,'Carrier B':6000,'Carrier C':6000,\n",
    "                  'Barge I':5000,'Barge II':5000,'Barge III':5000,\n",
    "                  'Extra 1':4000, 'Extra 2':4000, 'Extra 3':4000,\n",
    "                  'Cutter T':25000} # EUR/day\n",
    "# vessel_amount and vessel_durations are random within a range,\n",
    "# to mimic respectively material density variations\n",
    "# and metocean workability conditions and traffic density.\n",
    "\n",
    "amount_range = [4,6]\n",
    "duration_range = [2000,3000]\n",
    "\n",
    "from_site_name = 'Trench'\n",
    "to_site_name   = 'Reclamation'"
   ]
  },
  {
   "cell_type": "code",
   "execution_count": 3,
   "id": "102a1c18",
   "metadata": {},
   "outputs": [],
   "source": [
    "Site = type(\n",
    "    \"Site\",\n",
    "    (\n",
    "        core.Identifiable,\n",
    "        core.Log,\n",
    "        core.Locatable,\n",
    "        core.HasContainer,\n",
    "        core.HasResource,\n",
    "    ),\n",
    "    {},\n",
    ")\n",
    "TransportProcessingResource = type(\n",
    "    \"TransportProcessingResource\",\n",
    "    (\n",
    "        core.Identifiable,\n",
    "        core.Log,\n",
    "        core.ContainerDependentMovable,\n",
    "        core.Processor,\n",
    "        core.HasResource,\n",
    "    ),\n",
    "    {},\n",
    ")"
   ]
  },
  {
   "cell_type": "code",
   "execution_count": 4,
   "id": "cef14598",
   "metadata": {},
   "outputs": [],
   "source": [
    "def run(NR_BARGES, total_amount):\n",
    "    simulation_start = 0\n",
    "    my_env = simpy.Environment(initial_time=simulation_start)\n",
    "    registry = {}\n",
    "\n",
    "    location_from_site = shapely.geometry.Point(4.18055556, 52.18664444)\n",
    "    location_to_site = shapely.geometry.Point(4.25222222, 52.11428333)\n",
    "\n",
    "    data_from_site = {\"env\": my_env,\n",
    "                      \"name\": from_site_name,\n",
    "                      \"geometry\": location_from_site,\n",
    "                      \"capacity\": total_amount,\n",
    "                      \"level\": total_amount,\n",
    "                      \"nr_resources\":1\n",
    "                     }\n",
    "    from_site = Site(**data_from_site)\n",
    "\n",
    "    location_to_site = shapely.geometry.Point(4.25222222, 52.11428333)\n",
    "    data_to_site = {\"env\": my_env,\n",
    "                    \"name\": to_site_name,\n",
    "                    \"geometry\": location_to_site,\n",
    "                    \"capacity\": total_amount,\n",
    "                    \"level\": 0,\n",
    "                    \"nr_resources\":4\n",
    "                   }\n",
    "    to_site = Site(**data_to_site)\n",
    "\n",
    "    vessels = {}\n",
    "\n",
    "    for i in range(NR_BARGES):\n",
    "        vessel_name = barge_names[i]\n",
    "        vessels[vessel_name] = TransportProcessingResource(\n",
    "            env=my_env,\n",
    "            name=vessel_name,\n",
    "            geometry=location_from_site, \n",
    "            capacity=10,\n",
    "            compute_v=lambda x: 10\n",
    "        )\n",
    "    cutter = TransportProcessingResource(\n",
    "        env=my_env,\n",
    "        name=cutter_name,\n",
    "        geometry=location_from_site, \n",
    "        capacity=10,\n",
    "        compute_v=lambda x: 10\n",
    "    )\n",
    "    vessels[cutter_name] = cutter\n",
    "    \n",
    "\n",
    "    activities = {}\n",
    "    for i in range(NR_BARGES):\n",
    "        vessel_name = barge_names[i]\n",
    "        amount = np.random.randint(amount_range[0], amount_range[1]) # handle loading\n",
    "        duration=np.random.randint(duration_range[0], duration_range[1]) # sailing and unloading\n",
    "\n",
    "        requested_resources={}\n",
    "        activities[f\"activity{i}\"] = model.WhileActivity(\n",
    "            env=my_env,\n",
    "            name=f\"while_sequential_activity_subcycle {vessel_name}\",\n",
    "            registry=registry,\n",
    "            sub_processes=[model.SequentialActivity(\n",
    "                env=my_env,\n",
    "                name=f\"sequential_activity_subcycle {vessel_name}\",\n",
    "                registry=registry,\n",
    "                sub_processes=[\n",
    "                    model.BasicActivity(\n",
    "                        env=my_env,\n",
    "                        name=f\"basic activity:\"+vessels[vessel_name].name,\n",
    "                        registry=registry,\n",
    "                        duration=duration,\n",
    "                        additional_logs=[vessels[vessel_name]],\n",
    "                    ),\n",
    "                    model.MoveActivity(\n",
    "                        env=my_env,\n",
    "                        name=f\"sailing empty:\"+vessels[vessel_name].name,\n",
    "                        registry=registry,\n",
    "                        mover=vessels[vessel_name],\n",
    "                        destination=from_site,\n",
    "                        duration=duration,\n",
    "                    ),\n",
    "                    model.ShiftAmountActivity(\n",
    "                        env=my_env,\n",
    "                        name=f\"loading:\"+vessels[vessel_name].name,\n",
    "                        registry=registry,\n",
    "                        processor=cutter,\n",
    "                        origin=from_site,\n",
    "                        destination=vessels[vessel_name],\n",
    "                        amount=amount,\n",
    "                        duration=500*amount,\n",
    "                        requested_resources=requested_resources,\n",
    "                    ),\n",
    "                    model.MoveActivity(\n",
    "                        env=my_env,\n",
    "                        name=f\"sailing full:\"+vessels[vessel_name].name,\n",
    "                        registry=registry,\n",
    "                        mover=vessels[vessel_name],\n",
    "                        destination=to_site,\n",
    "                        duration=duration,\n",
    "                    ),\n",
    "                    model.ShiftAmountActivity(\n",
    "                        env=my_env,\n",
    "                        name=f\"unloading:\"+vessels[vessel_name].name,\n",
    "                        registry=registry,\n",
    "                        processor=vessels[vessel_name],\n",
    "                        origin=vessels[vessel_name],\n",
    "                        destination=to_site,\n",
    "                        amount=amount,\n",
    "                        duration=duration,\n",
    "                        requested_resources=requested_resources,\n",
    "                    ),\n",
    "                ],\n",
    "            )],\n",
    "            condition_event=[\n",
    "                {\n",
    "                    \"type\": \"container\", \n",
    "                    \"concept\": to_site, \n",
    "                    \"state\": \"full\",\n",
    "                    \"id_\":\"default_reservations\"\n",
    "                }\n",
    "            ],\n",
    "        )\n",
    "\n",
    "    model.register_processes(list(activities.values()))\n",
    "    my_env.run()\n",
    "    \n",
    "    return {\n",
    "        \"vessels\": vessels,\n",
    "        \"activities\":activities,\n",
    "        from_site_name:from_site,\n",
    "        to_site_name:to_site,\n",
    "    }\n"
   ]
  },
  {
   "cell_type": "code",
   "execution_count": 5,
   "id": "9aa8b351",
   "metadata": {},
   "outputs": [
    {
     "name": "stdout",
     "output_type": "stream",
     "text": [
      "CPU times: user 83.8 ms, sys: 11.4 ms, total: 95.2 ms\n",
      "Wall time: 79 ms\n"
     ]
    }
   ],
   "source": [
    "%%time\n",
    "nbarges = len(barge_names)\n",
    "assert len(set(barge_names))==len(barge_names), 'barge_names need to be unique'\n",
    "total_amount = 100\n",
    "res = run(3,total_amount)\n",
    "vessels = res['vessels']\n",
    "activities = res['activities']\n",
    "cutter = vessels[cutter_name]\n",
    "to_site = res[to_site_name]\n",
    "from_site = res[from_site_name]"
   ]
  },
  {
   "cell_type": "code",
   "execution_count": 27,
   "id": "8f993fc6",
   "metadata": {},
   "outputs": [
    {
     "data": {
      "text/html": [
       "        <script type=\"text/javascript\">\n",
       "        window.PlotlyConfig = {MathJaxConfig: 'local'};\n",
       "        if (window.MathJax && window.MathJax.Hub && window.MathJax.Hub.Config) {window.MathJax.Hub.Config({SVG: {font: \"STIX-Web\"}});}\n",
       "        if (typeof require !== 'undefined') {\n",
       "        require.undef(\"plotly\");\n",
       "        requirejs.config({\n",
       "            paths: {\n",
       "                'plotly': ['https://cdn.plot.ly/plotly-2.18.2.min']\n",
       "            }\n",
       "        });\n",
       "        require(['plotly'], function(Plotly) {\n",
       "            window._Plotly = Plotly;\n",
       "        });\n",
       "        }\n",
       "        </script>\n",
       "        "
      ]
     },
     "metadata": {},
     "output_type": "display_data"
    },
    {
     "data": {
      "application/vnd.plotly.v1+json": {
       "config": {
        "linkText": "Export to plot.ly",
        "plotlyServerURL": "https://plot.ly",
        "showLink": false
       },
       "data": [
        {
         "connectgaps": false,
         "hoverinfo": "y+name",
         "line": {
          "color": "rgb(240,84,64)",
          "width": 10
         },
         "mode": "lines",
         "name": "loading:Carrier A",
         "type": "scatter",
         "x": [
          "1970-01-01T03:37:20",
          "1970-01-01T03:37:20",
          "1970-01-01T04:19:00",
          "1970-01-01T04:19:00",
          "1970-01-01T04:19:00",
          "1970-01-01T08:54:00",
          "1970-01-01T08:54:00",
          "1970-01-01T09:35:40",
          "1970-01-01T09:35:40",
          "1970-01-01T09:35:40",
          "1970-01-01T14:10:40",
          "1970-01-01T14:10:40",
          "1970-01-01T14:52:20",
          "1970-01-01T14:52:20",
          "1970-01-01T14:52:20",
          "1970-01-01T03:37:20",
          "1970-01-01T03:37:20",
          "1970-01-01T04:19:00",
          "1970-01-01T04:19:00",
          "1970-01-01T04:19:00",
          "1970-01-01T08:54:00",
          "1970-01-01T08:54:00",
          "1970-01-01T09:35:40",
          "1970-01-01T09:35:40",
          "1970-01-01T09:35:40",
          "1970-01-01T14:10:40",
          "1970-01-01T14:10:40",
          "1970-01-01T14:52:20",
          "1970-01-01T14:52:20",
          "1970-01-01T14:52:20"
         ],
         "y": [
          "Carrier A",
          "Carrier A",
          "Carrier A",
          "Carrier A",
          null,
          "Carrier A",
          "Carrier A",
          "Carrier A",
          "Carrier A",
          null,
          "Carrier A",
          "Carrier A",
          "Carrier A",
          "Carrier A",
          null,
          "Cutter T",
          "Cutter T",
          "Cutter T",
          "Cutter T",
          null,
          "Cutter T",
          "Cutter T",
          "Cutter T",
          "Cutter T",
          null,
          "Cutter T",
          "Cutter T",
          "Cutter T",
          "Cutter T",
          null
         ]
        },
        {
         "connectgaps": false,
         "hoverinfo": "y+name",
         "line": {
          "color": "rgb(245,89,69)",
          "width": 10
         },
         "mode": "lines",
         "name": "sailing full:Carrier A",
         "type": "scatter",
         "x": [
          "1970-01-01T04:19:00",
          "1970-01-01T04:19:00",
          "1970-01-01T05:04:27",
          "1970-01-01T05:04:27",
          "1970-01-01T05:04:27",
          "1970-01-01T09:35:40",
          "1970-01-01T09:35:40",
          "1970-01-01T10:21:07",
          "1970-01-01T10:21:07",
          "1970-01-01T10:21:07",
          "1970-01-01T14:52:20",
          "1970-01-01T14:52:20",
          "1970-01-01T15:37:47",
          "1970-01-01T15:37:47",
          "1970-01-01T15:37:47"
         ],
         "y": [
          "Carrier A",
          "Carrier A",
          "Carrier A",
          "Carrier A",
          null,
          "Carrier A",
          "Carrier A",
          "Carrier A",
          "Carrier A",
          null,
          "Carrier A",
          "Carrier A",
          "Carrier A",
          "Carrier A",
          null
         ]
        },
        {
         "connectgaps": false,
         "hoverinfo": "y+name",
         "line": {
          "color": "rgb(250,94,74)",
          "width": 10
         },
         "mode": "lines",
         "name": "sailing empty:Carrier A",
         "type": "scatter",
         "x": [
          "1970-01-01T00:45:27",
          "1970-01-01T00:45:27",
          "1970-01-01T01:30:54",
          "1970-01-01T01:30:54",
          "1970-01-01T01:30:54",
          "1970-01-01T06:35:21",
          "1970-01-01T06:35:21",
          "1970-01-01T07:20:48",
          "1970-01-01T07:20:48",
          "1970-01-01T07:20:48",
          "1970-01-01T11:52:01",
          "1970-01-01T11:52:01",
          "1970-01-01T12:37:28",
          "1970-01-01T12:37:28",
          "1970-01-01T12:37:28"
         ],
         "y": [
          "Carrier A",
          "Carrier A",
          "Carrier A",
          "Carrier A",
          null,
          "Carrier A",
          "Carrier A",
          "Carrier A",
          "Carrier A",
          null,
          "Carrier A",
          "Carrier A",
          "Carrier A",
          "Carrier A",
          null
         ]
        },
        {
         "connectgaps": false,
         "hoverinfo": "y+name",
         "line": {
          "color": "rgb(255,99,79)",
          "width": 10
         },
         "mode": "lines",
         "name": "unloading:Carrier A",
         "type": "scatter",
         "x": [
          "1970-01-01T05:04:27",
          "1970-01-01T05:04:27",
          "1970-01-01T05:49:54",
          "1970-01-01T05:49:54",
          "1970-01-01T05:49:54",
          "1970-01-01T10:21:07",
          "1970-01-01T10:21:07",
          "1970-01-01T11:06:34",
          "1970-01-01T11:06:34",
          "1970-01-01T11:06:34",
          "1970-01-01T15:37:47",
          "1970-01-01T15:37:47",
          "1970-01-01T16:23:14",
          "1970-01-01T16:23:14",
          "1970-01-01T16:23:14"
         ],
         "y": [
          "Carrier A",
          "Carrier A",
          "Carrier A",
          "Carrier A",
          null,
          "Carrier A",
          "Carrier A",
          "Carrier A",
          "Carrier A",
          null,
          "Carrier A",
          "Carrier A",
          "Carrier A",
          "Carrier A",
          null
         ]
        },
        {
         "connectgaps": false,
         "hoverinfo": "y+name",
         "line": {
          "color": "rgb(4,104,84)",
          "width": 10
         },
         "mode": "lines",
         "name": "basic activity:Carrier A",
         "type": "scatter",
         "x": [
          "1970-01-01T00:00:00",
          "1970-01-01T00:00:00",
          "1970-01-01T00:45:27",
          "1970-01-01T00:45:27",
          "1970-01-01T00:45:27",
          "1970-01-01T05:49:54",
          "1970-01-01T05:49:54",
          "1970-01-01T06:35:21",
          "1970-01-01T06:35:21",
          "1970-01-01T06:35:21",
          "1970-01-01T11:06:34",
          "1970-01-01T11:06:34",
          "1970-01-01T11:52:01",
          "1970-01-01T11:52:01",
          "1970-01-01T11:52:01"
         ],
         "y": [
          "Carrier A",
          "Carrier A",
          "Carrier A",
          "Carrier A",
          null,
          "Carrier A",
          "Carrier A",
          "Carrier A",
          "Carrier A",
          null,
          "Carrier A",
          "Carrier A",
          "Carrier A",
          "Carrier A",
          null
         ]
        },
        {
         "connectgaps": false,
         "hoverinfo": "y+name",
         "line": {
          "color": "rgb(9,109,89)",
          "width": 10
         },
         "mode": "lines",
         "name": "unloading:Carrier B",
         "type": "scatter",
         "x": [
          "1970-01-01T02:14:20",
          "1970-01-01T02:14:20",
          "1970-01-01T02:48:00",
          "1970-01-01T02:48:00",
          "1970-01-01T02:48:00",
          "1970-01-01T07:31:00",
          "1970-01-01T07:31:00",
          "1970-01-01T08:04:40",
          "1970-01-01T08:04:40",
          "1970-01-01T08:04:40",
          "1970-01-01T12:06:00",
          "1970-01-01T12:06:00",
          "1970-01-01T12:39:40",
          "1970-01-01T12:39:40",
          "1970-01-01T12:39:40"
         ],
         "y": [
          "Carrier B",
          "Carrier B",
          "Carrier B",
          "Carrier B",
          null,
          "Carrier B",
          "Carrier B",
          "Carrier B",
          "Carrier B",
          null,
          "Carrier B",
          "Carrier B",
          "Carrier B",
          "Carrier B",
          null
         ]
        },
        {
         "connectgaps": false,
         "hoverinfo": "y+name",
         "line": {
          "color": "rgb(14,114,94)",
          "width": 10
         },
         "mode": "lines",
         "name": "basic activity:Carrier B",
         "type": "scatter",
         "x": [
          "1970-01-01T00:00:00",
          "1970-01-01T00:00:00",
          "1970-01-01T00:33:40",
          "1970-01-01T00:33:40",
          "1970-01-01T00:33:40",
          "1970-01-01T02:48:00",
          "1970-01-01T02:48:00",
          "1970-01-01T03:21:40",
          "1970-01-01T03:21:40",
          "1970-01-01T03:21:40",
          "1970-01-01T08:04:40",
          "1970-01-01T08:04:40",
          "1970-01-01T08:38:20",
          "1970-01-01T08:38:20",
          "1970-01-01T08:38:20"
         ],
         "y": [
          "Carrier B",
          "Carrier B",
          "Carrier B",
          "Carrier B",
          null,
          "Carrier B",
          "Carrier B",
          "Carrier B",
          "Carrier B",
          null,
          "Carrier B",
          "Carrier B",
          "Carrier B",
          "Carrier B",
          null
         ]
        },
        {
         "connectgaps": false,
         "hoverinfo": "y+name",
         "line": {
          "color": "rgb(19,119,99)",
          "width": 10
         },
         "mode": "lines",
         "name": "sailing empty:Carrier B",
         "type": "scatter",
         "x": [
          "1970-01-01T00:33:40",
          "1970-01-01T00:33:40",
          "1970-01-01T01:07:20",
          "1970-01-01T01:07:20",
          "1970-01-01T01:07:20",
          "1970-01-01T03:21:40",
          "1970-01-01T03:21:40",
          "1970-01-01T03:55:20",
          "1970-01-01T03:55:20",
          "1970-01-01T03:55:20",
          "1970-01-01T08:38:20",
          "1970-01-01T08:38:20",
          "1970-01-01T09:12:00",
          "1970-01-01T09:12:00",
          "1970-01-01T09:12:00"
         ],
         "y": [
          "Carrier B",
          "Carrier B",
          "Carrier B",
          "Carrier B",
          null,
          "Carrier B",
          "Carrier B",
          "Carrier B",
          "Carrier B",
          null,
          "Carrier B",
          "Carrier B",
          "Carrier B",
          "Carrier B",
          null
         ]
        },
        {
         "connectgaps": false,
         "hoverinfo": "y+name",
         "line": {
          "color": "rgb(24,124,104)",
          "width": 10
         },
         "mode": "lines",
         "name": "loading:Carrier B",
         "type": "scatter",
         "x": [
          "1970-01-01T01:07:20",
          "1970-01-01T01:07:20",
          "1970-01-01T01:40:40",
          "1970-01-01T01:40:40",
          "1970-01-01T01:40:40",
          "1970-01-01T06:24:00",
          "1970-01-01T06:24:00",
          "1970-01-01T06:57:20",
          "1970-01-01T06:57:20",
          "1970-01-01T06:57:20",
          "1970-01-01T10:59:00",
          "1970-01-01T10:59:00",
          "1970-01-01T11:32:20",
          "1970-01-01T11:32:20",
          "1970-01-01T11:32:20",
          "1970-01-01T01:07:20",
          "1970-01-01T01:07:20",
          "1970-01-01T01:40:40",
          "1970-01-01T01:40:40",
          "1970-01-01T01:40:40",
          "1970-01-01T06:24:00",
          "1970-01-01T06:24:00",
          "1970-01-01T06:57:20",
          "1970-01-01T06:57:20",
          "1970-01-01T06:57:20",
          "1970-01-01T10:59:00",
          "1970-01-01T10:59:00",
          "1970-01-01T11:32:20",
          "1970-01-01T11:32:20",
          "1970-01-01T11:32:20"
         ],
         "y": [
          "Carrier B",
          "Carrier B",
          "Carrier B",
          "Carrier B",
          null,
          "Carrier B",
          "Carrier B",
          "Carrier B",
          "Carrier B",
          null,
          "Carrier B",
          "Carrier B",
          "Carrier B",
          "Carrier B",
          null,
          "Cutter T",
          "Cutter T",
          "Cutter T",
          "Cutter T",
          null,
          "Cutter T",
          "Cutter T",
          "Cutter T",
          "Cutter T",
          null,
          "Cutter T",
          "Cutter T",
          "Cutter T",
          "Cutter T",
          null
         ]
        },
        {
         "connectgaps": false,
         "hoverinfo": "y+name",
         "line": {
          "color": "rgb(29,129,109)",
          "width": 10
         },
         "mode": "lines",
         "name": "sailing full:Carrier B",
         "type": "scatter",
         "x": [
          "1970-01-01T01:40:40",
          "1970-01-01T01:40:40",
          "1970-01-01T02:14:20",
          "1970-01-01T02:14:20",
          "1970-01-01T02:14:20",
          "1970-01-01T06:57:20",
          "1970-01-01T06:57:20",
          "1970-01-01T07:31:00",
          "1970-01-01T07:31:00",
          "1970-01-01T07:31:00",
          "1970-01-01T11:32:20",
          "1970-01-01T11:32:20",
          "1970-01-01T12:06:00",
          "1970-01-01T12:06:00",
          "1970-01-01T12:06:00"
         ],
         "y": [
          "Carrier B",
          "Carrier B",
          "Carrier B",
          "Carrier B",
          null,
          "Carrier B",
          "Carrier B",
          "Carrier B",
          "Carrier B",
          null,
          "Carrier B",
          "Carrier B",
          "Carrier B",
          "Carrier B",
          null
         ]
        },
        {
         "connectgaps": false,
         "hoverinfo": "y+name",
         "line": {
          "color": "rgb(34,134,114)",
          "width": 10
         },
         "mode": "lines",
         "name": "sailing empty:Carrier C",
         "type": "scatter",
         "x": [
          "1970-01-01T00:37:50",
          "1970-01-01T00:37:50",
          "1970-01-01T01:15:40",
          "1970-01-01T01:15:40",
          "1970-01-01T01:15:40",
          "1970-01-01T04:07:30",
          "1970-01-01T04:07:30",
          "1970-01-01T04:45:20",
          "1970-01-01T04:45:20",
          "1970-01-01T04:45:20",
          "1970-01-01T09:24:10",
          "1970-01-01T09:24:10",
          "1970-01-01T10:02:00",
          "1970-01-01T10:02:00",
          "1970-01-01T10:02:00"
         ],
         "y": [
          "Carrier C",
          "Carrier C",
          "Carrier C",
          "Carrier C",
          null,
          "Carrier C",
          "Carrier C",
          "Carrier C",
          "Carrier C",
          null,
          "Carrier C",
          "Carrier C",
          "Carrier C",
          "Carrier C",
          null
         ]
        },
        {
         "connectgaps": false,
         "hoverinfo": "y+name",
         "line": {
          "color": "rgb(39,139,119)",
          "width": 10
         },
         "mode": "lines",
         "name": "loading:Carrier C",
         "type": "scatter",
         "x": [
          "1970-01-01T01:40:40",
          "1970-01-01T01:40:40",
          "1970-01-01T02:14:00",
          "1970-01-01T02:14:00",
          "1970-01-01T02:14:00",
          "1970-01-01T06:57:20",
          "1970-01-01T06:57:20",
          "1970-01-01T07:30:40",
          "1970-01-01T07:30:40",
          "1970-01-01T07:30:40",
          "1970-01-01T12:14:00",
          "1970-01-01T12:14:00",
          "1970-01-01T12:47:20",
          "1970-01-01T12:47:20",
          "1970-01-01T12:47:20",
          "1970-01-01T01:40:40",
          "1970-01-01T01:40:40",
          "1970-01-01T02:14:00",
          "1970-01-01T02:14:00",
          "1970-01-01T02:14:00",
          "1970-01-01T06:57:20",
          "1970-01-01T06:57:20",
          "1970-01-01T07:30:40",
          "1970-01-01T07:30:40",
          "1970-01-01T07:30:40",
          "1970-01-01T12:14:00",
          "1970-01-01T12:14:00",
          "1970-01-01T12:47:20",
          "1970-01-01T12:47:20",
          "1970-01-01T12:47:20"
         ],
         "y": [
          "Carrier C",
          "Carrier C",
          "Carrier C",
          "Carrier C",
          null,
          "Carrier C",
          "Carrier C",
          "Carrier C",
          "Carrier C",
          null,
          "Carrier C",
          "Carrier C",
          "Carrier C",
          "Carrier C",
          null,
          "Cutter T",
          "Cutter T",
          "Cutter T",
          "Cutter T",
          null,
          "Cutter T",
          "Cutter T",
          "Cutter T",
          "Cutter T",
          null,
          "Cutter T",
          "Cutter T",
          "Cutter T",
          "Cutter T",
          null
         ]
        },
        {
         "connectgaps": false,
         "hoverinfo": "y+name",
         "line": {
          "color": "rgb(44,144,124)",
          "width": 10
         },
         "mode": "lines",
         "name": "unloading:Carrier C",
         "type": "scatter",
         "x": [
          "1970-01-01T02:51:50",
          "1970-01-01T02:51:50",
          "1970-01-01T03:29:40",
          "1970-01-01T03:29:40",
          "1970-01-01T03:29:40",
          "1970-01-01T08:08:30",
          "1970-01-01T08:08:30",
          "1970-01-01T08:46:20",
          "1970-01-01T08:46:20",
          "1970-01-01T08:46:20",
          "1970-01-01T13:25:10",
          "1970-01-01T13:25:10",
          "1970-01-01T14:03:00",
          "1970-01-01T14:03:00",
          "1970-01-01T14:03:00"
         ],
         "y": [
          "Carrier C",
          "Carrier C",
          "Carrier C",
          "Carrier C",
          null,
          "Carrier C",
          "Carrier C",
          "Carrier C",
          "Carrier C",
          null,
          "Carrier C",
          "Carrier C",
          "Carrier C",
          "Carrier C",
          null
         ]
        },
        {
         "connectgaps": false,
         "hoverinfo": "y+name",
         "line": {
          "color": "rgb(49,149,129)",
          "width": 10
         },
         "mode": "lines",
         "name": "basic activity:Carrier C",
         "type": "scatter",
         "x": [
          "1970-01-01T00:00:00",
          "1970-01-01T00:00:00",
          "1970-01-01T00:37:50",
          "1970-01-01T00:37:50",
          "1970-01-01T00:37:50",
          "1970-01-01T03:29:40",
          "1970-01-01T03:29:40",
          "1970-01-01T04:07:30",
          "1970-01-01T04:07:30",
          "1970-01-01T04:07:30",
          "1970-01-01T08:46:20",
          "1970-01-01T08:46:20",
          "1970-01-01T09:24:10",
          "1970-01-01T09:24:10",
          "1970-01-01T09:24:10"
         ],
         "y": [
          "Carrier C",
          "Carrier C",
          "Carrier C",
          "Carrier C",
          null,
          "Carrier C",
          "Carrier C",
          "Carrier C",
          "Carrier C",
          null,
          "Carrier C",
          "Carrier C",
          "Carrier C",
          "Carrier C",
          null
         ]
        },
        {
         "connectgaps": false,
         "hoverinfo": "y+name",
         "line": {
          "color": "rgb(54,154,134)",
          "width": 10
         },
         "mode": "lines",
         "name": "sailing full:Carrier C",
         "type": "scatter",
         "x": [
          "1970-01-01T02:14:00",
          "1970-01-01T02:14:00",
          "1970-01-01T02:51:50",
          "1970-01-01T02:51:50",
          "1970-01-01T02:51:50",
          "1970-01-01T07:30:40",
          "1970-01-01T07:30:40",
          "1970-01-01T08:08:30",
          "1970-01-01T08:08:30",
          "1970-01-01T08:08:30",
          "1970-01-01T12:47:20",
          "1970-01-01T12:47:20",
          "1970-01-01T13:25:10",
          "1970-01-01T13:25:10",
          "1970-01-01T13:25:10"
         ],
         "y": [
          "Carrier C",
          "Carrier C",
          "Carrier C",
          "Carrier C",
          null,
          "Carrier C",
          "Carrier C",
          "Carrier C",
          "Carrier C",
          null,
          "Carrier C",
          "Carrier C",
          "Carrier C",
          "Carrier C",
          null
         ]
        },
        {
         "connectgaps": false,
         "hoverinfo": "y+name",
         "line": {
          "color": "rgb(59,159,139)",
          "width": 10
         },
         "mode": "lines",
         "name": "loading:Barge I",
         "type": "scatter",
         "x": [
          "1970-01-01T05:42:20",
          "1970-01-01T05:42:20",
          "1970-01-01T06:24:00",
          "1970-01-01T06:24:00",
          "1970-01-01T06:24:00",
          "1970-01-01T11:32:20",
          "1970-01-01T11:32:20",
          "1970-01-01T12:14:00",
          "1970-01-01T12:14:00",
          "1970-01-01T12:14:00",
          "1970-01-01T05:42:20",
          "1970-01-01T05:42:20",
          "1970-01-01T06:24:00",
          "1970-01-01T06:24:00",
          "1970-01-01T06:24:00",
          "1970-01-01T11:32:20",
          "1970-01-01T11:32:20",
          "1970-01-01T12:14:00",
          "1970-01-01T12:14:00",
          "1970-01-01T12:14:00"
         ],
         "y": [
          "Barge I",
          "Barge I",
          "Barge I",
          "Barge I",
          null,
          "Barge I",
          "Barge I",
          "Barge I",
          "Barge I",
          null,
          "Cutter T",
          "Cutter T",
          "Cutter T",
          "Cutter T",
          null,
          "Cutter T",
          "Cutter T",
          "Cutter T",
          "Cutter T",
          null
         ]
        },
        {
         "connectgaps": false,
         "hoverinfo": "y+name",
         "line": {
          "color": "rgb(64,164,144)",
          "width": 10
         },
         "mode": "lines",
         "name": "sailing full:Barge I",
         "type": "scatter",
         "x": [
          "1970-01-01T06:24:00",
          "1970-01-01T06:24:00",
          "1970-01-01T07:13:01",
          "1970-01-01T07:13:01",
          "1970-01-01T07:13:01",
          "1970-01-01T12:14:00",
          "1970-01-01T12:14:00",
          "1970-01-01T13:03:01",
          "1970-01-01T13:03:01",
          "1970-01-01T13:03:01"
         ],
         "y": [
          "Barge I",
          "Barge I",
          "Barge I",
          "Barge I",
          null,
          "Barge I",
          "Barge I",
          "Barge I",
          "Barge I",
          null
         ]
        },
        {
         "connectgaps": false,
         "hoverinfo": "y+name",
         "line": {
          "color": "rgb(69,169,149)",
          "width": 10
         },
         "mode": "lines",
         "name": "unloading:Barge I",
         "type": "scatter",
         "x": [
          "1970-01-01T07:13:01",
          "1970-01-01T07:13:01",
          "1970-01-01T08:02:02",
          "1970-01-01T08:02:02",
          "1970-01-01T08:02:02",
          "1970-01-01T13:03:01",
          "1970-01-01T13:03:01",
          "1970-01-01T13:52:02",
          "1970-01-01T13:52:02",
          "1970-01-01T13:52:02"
         ],
         "y": [
          "Barge I",
          "Barge I",
          "Barge I",
          "Barge I",
          null,
          "Barge I",
          "Barge I",
          "Barge I",
          "Barge I",
          null
         ]
        },
        {
         "connectgaps": false,
         "hoverinfo": "y+name",
         "line": {
          "color": "rgb(74,174,154)",
          "width": 10
         },
         "mode": "lines",
         "name": "basic activity:Barge I",
         "type": "scatter",
         "x": [
          "1970-01-01T00:00:00",
          "1970-01-01T00:00:00",
          "1970-01-01T00:49:01",
          "1970-01-01T00:49:01",
          "1970-01-01T00:49:01",
          "1970-01-01T08:02:02",
          "1970-01-01T08:02:02",
          "1970-01-01T08:51:03",
          "1970-01-01T08:51:03",
          "1970-01-01T08:51:03"
         ],
         "y": [
          "Barge I",
          "Barge I",
          "Barge I",
          "Barge I",
          null,
          "Barge I",
          "Barge I",
          "Barge I",
          "Barge I",
          null
         ]
        },
        {
         "connectgaps": false,
         "hoverinfo": "y+name",
         "line": {
          "color": "rgb(79,179,159)",
          "width": 10
         },
         "mode": "lines",
         "name": "sailing empty:Barge I",
         "type": "scatter",
         "x": [
          "1970-01-01T00:49:01",
          "1970-01-01T00:49:01",
          "1970-01-01T01:38:02",
          "1970-01-01T01:38:02",
          "1970-01-01T01:38:02",
          "1970-01-01T08:51:03",
          "1970-01-01T08:51:03",
          "1970-01-01T09:40:04",
          "1970-01-01T09:40:04",
          "1970-01-01T09:40:04"
         ],
         "y": [
          "Barge I",
          "Barge I",
          "Barge I",
          "Barge I",
          null,
          "Barge I",
          "Barge I",
          "Barge I",
          "Barge I",
          null
         ]
        },
        {
         "connectgaps": false,
         "hoverinfo": "y+name",
         "line": {
          "color": "rgb(84,184,164)",
          "width": 10
         },
         "mode": "lines",
         "name": "loading:Barge II",
         "type": "scatter",
         "x": [
          "1970-01-01T04:19:00",
          "1970-01-01T04:19:00",
          "1970-01-01T05:00:40",
          "1970-01-01T05:00:40",
          "1970-01-01T05:00:40",
          "1970-01-01T09:35:40",
          "1970-01-01T09:35:40",
          "1970-01-01T10:17:20",
          "1970-01-01T10:17:20",
          "1970-01-01T10:17:20",
          "1970-01-01T14:52:20",
          "1970-01-01T14:52:20",
          "1970-01-01T15:34:00",
          "1970-01-01T15:34:00",
          "1970-01-01T15:34:00",
          "1970-01-01T04:19:00",
          "1970-01-01T04:19:00",
          "1970-01-01T05:00:40",
          "1970-01-01T05:00:40",
          "1970-01-01T05:00:40",
          "1970-01-01T09:35:40",
          "1970-01-01T09:35:40",
          "1970-01-01T10:17:20",
          "1970-01-01T10:17:20",
          "1970-01-01T10:17:20",
          "1970-01-01T14:52:20",
          "1970-01-01T14:52:20",
          "1970-01-01T15:34:00",
          "1970-01-01T15:34:00",
          "1970-01-01T15:34:00"
         ],
         "y": [
          "Barge II",
          "Barge II",
          "Barge II",
          "Barge II",
          null,
          "Barge II",
          "Barge II",
          "Barge II",
          "Barge II",
          null,
          "Barge II",
          "Barge II",
          "Barge II",
          "Barge II",
          null,
          "Cutter T",
          "Cutter T",
          "Cutter T",
          "Cutter T",
          null,
          "Cutter T",
          "Cutter T",
          "Cutter T",
          "Cutter T",
          null,
          "Cutter T",
          "Cutter T",
          "Cutter T",
          "Cutter T",
          null
         ]
        },
        {
         "connectgaps": false,
         "hoverinfo": "y+name",
         "line": {
          "color": "rgb(89,189,169)",
          "width": 10
         },
         "mode": "lines",
         "name": "sailing full:Barge II",
         "type": "scatter",
         "x": [
          "1970-01-01T05:00:40",
          "1970-01-01T05:00:40",
          "1970-01-01T05:47:46",
          "1970-01-01T05:47:46",
          "1970-01-01T05:47:46",
          "1970-01-01T10:17:20",
          "1970-01-01T10:17:20",
          "1970-01-01T11:04:26",
          "1970-01-01T11:04:26",
          "1970-01-01T11:04:26",
          "1970-01-01T15:34:00",
          "1970-01-01T15:34:00",
          "1970-01-01T16:21:06",
          "1970-01-01T16:21:06",
          "1970-01-01T16:21:06"
         ],
         "y": [
          "Barge II",
          "Barge II",
          "Barge II",
          "Barge II",
          null,
          "Barge II",
          "Barge II",
          "Barge II",
          "Barge II",
          null,
          "Barge II",
          "Barge II",
          "Barge II",
          "Barge II",
          null
         ]
        },
        {
         "connectgaps": false,
         "hoverinfo": "y+name",
         "line": {
          "color": "rgb(94,194,174)",
          "width": 10
         },
         "mode": "lines",
         "name": "sailing empty:Barge II",
         "type": "scatter",
         "x": [
          "1970-01-01T00:47:06",
          "1970-01-01T00:47:06",
          "1970-01-01T01:34:12",
          "1970-01-01T01:34:12",
          "1970-01-01T01:34:12",
          "1970-01-01T07:21:58",
          "1970-01-01T07:21:58",
          "1970-01-01T08:09:04",
          "1970-01-01T08:09:04",
          "1970-01-01T08:09:04",
          "1970-01-01T12:38:38",
          "1970-01-01T12:38:38",
          "1970-01-01T13:25:44",
          "1970-01-01T13:25:44",
          "1970-01-01T13:25:44"
         ],
         "y": [
          "Barge II",
          "Barge II",
          "Barge II",
          "Barge II",
          null,
          "Barge II",
          "Barge II",
          "Barge II",
          "Barge II",
          null,
          "Barge II",
          "Barge II",
          "Barge II",
          "Barge II",
          null
         ]
        },
        {
         "connectgaps": false,
         "hoverinfo": "y+name",
         "line": {
          "color": "rgb(99,199,179)",
          "width": 10
         },
         "mode": "lines",
         "name": "basic activity:Barge II",
         "type": "scatter",
         "x": [
          "1970-01-01T00:00:00",
          "1970-01-01T00:00:00",
          "1970-01-01T00:47:06",
          "1970-01-01T00:47:06",
          "1970-01-01T00:47:06",
          "1970-01-01T06:34:52",
          "1970-01-01T06:34:52",
          "1970-01-01T07:21:58",
          "1970-01-01T07:21:58",
          "1970-01-01T07:21:58",
          "1970-01-01T11:51:32",
          "1970-01-01T11:51:32",
          "1970-01-01T12:38:38",
          "1970-01-01T12:38:38",
          "1970-01-01T12:38:38"
         ],
         "y": [
          "Barge II",
          "Barge II",
          "Barge II",
          "Barge II",
          null,
          "Barge II",
          "Barge II",
          "Barge II",
          "Barge II",
          null,
          "Barge II",
          "Barge II",
          "Barge II",
          "Barge II",
          null
         ]
        },
        {
         "connectgaps": false,
         "hoverinfo": "y+name",
         "line": {
          "color": "rgb(104,204,184)",
          "width": 10
         },
         "mode": "lines",
         "name": "unloading:Barge II",
         "type": "scatter",
         "x": [
          "1970-01-01T05:47:46",
          "1970-01-01T05:47:46",
          "1970-01-01T06:34:52",
          "1970-01-01T06:34:52",
          "1970-01-01T06:34:52",
          "1970-01-01T11:04:26",
          "1970-01-01T11:04:26",
          "1970-01-01T11:51:32",
          "1970-01-01T11:51:32",
          "1970-01-01T11:51:32",
          "1970-01-01T16:21:06",
          "1970-01-01T16:21:06",
          "1970-01-01T17:08:12",
          "1970-01-01T17:08:12",
          "1970-01-01T17:08:12"
         ],
         "y": [
          "Barge II",
          "Barge II",
          "Barge II",
          "Barge II",
          null,
          "Barge II",
          "Barge II",
          "Barge II",
          "Barge II",
          null,
          "Barge II",
          "Barge II",
          "Barge II",
          "Barge II",
          null
         ]
        },
        {
         "connectgaps": false,
         "hoverinfo": "y+name",
         "line": {
          "color": "rgb(109,209,189)",
          "width": 10
         },
         "mode": "lines",
         "name": "loading:Barge III",
         "type": "scatter",
         "x": [
          "1970-01-01T05:00:40",
          "1970-01-01T05:00:40",
          "1970-01-01T05:42:20",
          "1970-01-01T05:42:20",
          "1970-01-01T05:42:20",
          "1970-01-01T10:17:20",
          "1970-01-01T10:17:20",
          "1970-01-01T10:59:00",
          "1970-01-01T10:59:00",
          "1970-01-01T10:59:00",
          "1970-01-01T05:00:40",
          "1970-01-01T05:00:40",
          "1970-01-01T05:42:20",
          "1970-01-01T05:42:20",
          "1970-01-01T05:42:20",
          "1970-01-01T10:17:20",
          "1970-01-01T10:17:20",
          "1970-01-01T10:59:00",
          "1970-01-01T10:59:00",
          "1970-01-01T10:59:00"
         ],
         "y": [
          "Barge III",
          "Barge III",
          "Barge III",
          "Barge III",
          null,
          "Barge III",
          "Barge III",
          "Barge III",
          "Barge III",
          null,
          "Cutter T",
          "Cutter T",
          "Cutter T",
          "Cutter T",
          null,
          "Cutter T",
          "Cutter T",
          "Cutter T",
          "Cutter T",
          null
         ]
        },
        {
         "connectgaps": false,
         "hoverinfo": "y+name",
         "line": {
          "color": "rgb(114,214,194)",
          "width": 10
         },
         "mode": "lines",
         "name": "unloading:Barge III",
         "type": "scatter",
         "x": [
          "1970-01-01T06:30:37",
          "1970-01-01T06:30:37",
          "1970-01-01T07:18:54",
          "1970-01-01T07:18:54",
          "1970-01-01T07:18:54",
          "1970-01-01T11:47:17",
          "1970-01-01T11:47:17",
          "1970-01-01T12:35:34",
          "1970-01-01T12:35:34",
          "1970-01-01T12:35:34"
         ],
         "y": [
          "Barge III",
          "Barge III",
          "Barge III",
          "Barge III",
          null,
          "Barge III",
          "Barge III",
          "Barge III",
          "Barge III",
          null
         ]
        },
        {
         "connectgaps": false,
         "hoverinfo": "y+name",
         "line": {
          "color": "rgb(119,219,199)",
          "width": 10
         },
         "mode": "lines",
         "name": "sailing empty:Barge III",
         "type": "scatter",
         "x": [
          "1970-01-01T00:48:17",
          "1970-01-01T00:48:17",
          "1970-01-01T01:36:34",
          "1970-01-01T01:36:34",
          "1970-01-01T01:36:34",
          "1970-01-01T08:07:11",
          "1970-01-01T08:07:11",
          "1970-01-01T08:55:28",
          "1970-01-01T08:55:28",
          "1970-01-01T08:55:28"
         ],
         "y": [
          "Barge III",
          "Barge III",
          "Barge III",
          "Barge III",
          null,
          "Barge III",
          "Barge III",
          "Barge III",
          "Barge III",
          null
         ]
        },
        {
         "connectgaps": false,
         "hoverinfo": "y+name",
         "line": {
          "color": "rgb(124,224,204)",
          "width": 10
         },
         "mode": "lines",
         "name": "basic activity:Barge III",
         "type": "scatter",
         "x": [
          "1970-01-01T00:00:00",
          "1970-01-01T00:00:00",
          "1970-01-01T00:48:17",
          "1970-01-01T00:48:17",
          "1970-01-01T00:48:17",
          "1970-01-01T07:18:54",
          "1970-01-01T07:18:54",
          "1970-01-01T08:07:11",
          "1970-01-01T08:07:11",
          "1970-01-01T08:07:11"
         ],
         "y": [
          "Barge III",
          "Barge III",
          "Barge III",
          "Barge III",
          null,
          "Barge III",
          "Barge III",
          "Barge III",
          "Barge III",
          null
         ]
        },
        {
         "connectgaps": false,
         "hoverinfo": "y+name",
         "line": {
          "color": "rgb(129,229,209)",
          "width": 10
         },
         "mode": "lines",
         "name": "sailing full:Barge III",
         "type": "scatter",
         "x": [
          "1970-01-01T05:42:20",
          "1970-01-01T05:42:20",
          "1970-01-01T06:30:37",
          "1970-01-01T06:30:37",
          "1970-01-01T06:30:37",
          "1970-01-01T10:59:00",
          "1970-01-01T10:59:00",
          "1970-01-01T11:47:17",
          "1970-01-01T11:47:17",
          "1970-01-01T11:47:17"
         ],
         "y": [
          "Barge III",
          "Barge III",
          "Barge III",
          "Barge III",
          null,
          "Barge III",
          "Barge III",
          "Barge III",
          "Barge III",
          null
         ]
        },
        {
         "connectgaps": false,
         "hoverinfo": "y+name",
         "line": {
          "color": "rgb(134,234,214)",
          "width": 10
         },
         "mode": "lines",
         "name": "loading:Extra 1",
         "type": "scatter",
         "x": [
          "1970-01-01T02:14:00",
          "1970-01-01T02:14:00",
          "1970-01-01T02:55:40",
          "1970-01-01T02:55:40",
          "1970-01-01T02:55:40",
          "1970-01-01T07:30:40",
          "1970-01-01T07:30:40",
          "1970-01-01T08:12:20",
          "1970-01-01T08:12:20",
          "1970-01-01T08:12:20",
          "1970-01-01T12:47:20",
          "1970-01-01T12:47:20",
          "1970-01-01T13:29:00",
          "1970-01-01T13:29:00",
          "1970-01-01T13:29:00",
          "1970-01-01T02:14:00",
          "1970-01-01T02:14:00",
          "1970-01-01T02:55:40",
          "1970-01-01T02:55:40",
          "1970-01-01T02:55:40",
          "1970-01-01T07:30:40",
          "1970-01-01T07:30:40",
          "1970-01-01T08:12:20",
          "1970-01-01T08:12:20",
          "1970-01-01T08:12:20",
          "1970-01-01T12:47:20",
          "1970-01-01T12:47:20",
          "1970-01-01T13:29:00",
          "1970-01-01T13:29:00",
          "1970-01-01T13:29:00"
         ],
         "y": [
          "Extra 1",
          "Extra 1",
          "Extra 1",
          "Extra 1",
          null,
          "Extra 1",
          "Extra 1",
          "Extra 1",
          "Extra 1",
          null,
          "Extra 1",
          "Extra 1",
          "Extra 1",
          "Extra 1",
          null,
          "Cutter T",
          "Cutter T",
          "Cutter T",
          "Cutter T",
          null,
          "Cutter T",
          "Cutter T",
          "Cutter T",
          "Cutter T",
          null,
          "Cutter T",
          "Cutter T",
          "Cutter T",
          "Cutter T",
          null
         ]
        },
        {
         "connectgaps": false,
         "hoverinfo": "y+name",
         "line": {
          "color": "rgb(139,239,219)",
          "width": 10
         },
         "mode": "lines",
         "name": "sailing empty:Extra 1",
         "type": "scatter",
         "x": [
          "1970-01-01T00:40:35",
          "1970-01-01T00:40:35",
          "1970-01-01T01:21:10",
          "1970-01-01T01:21:10",
          "1970-01-01T01:21:10",
          "1970-01-01T04:57:25",
          "1970-01-01T04:57:25",
          "1970-01-01T05:38:00",
          "1970-01-01T05:38:00",
          "1970-01-01T05:38:00",
          "1970-01-01T10:14:05",
          "1970-01-01T10:14:05",
          "1970-01-01T10:54:40",
          "1970-01-01T10:54:40",
          "1970-01-01T10:54:40"
         ],
         "y": [
          "Extra 1",
          "Extra 1",
          "Extra 1",
          "Extra 1",
          null,
          "Extra 1",
          "Extra 1",
          "Extra 1",
          "Extra 1",
          null,
          "Extra 1",
          "Extra 1",
          "Extra 1",
          "Extra 1",
          null
         ]
        },
        {
         "connectgaps": false,
         "hoverinfo": "y+name",
         "line": {
          "color": "rgb(144,244,224)",
          "width": 10
         },
         "mode": "lines",
         "name": "unloading:Extra 1",
         "type": "scatter",
         "x": [
          "1970-01-01T03:36:15",
          "1970-01-01T03:36:15",
          "1970-01-01T04:16:50",
          "1970-01-01T04:16:50",
          "1970-01-01T04:16:50",
          "1970-01-01T08:52:55",
          "1970-01-01T08:52:55",
          "1970-01-01T09:33:30",
          "1970-01-01T09:33:30",
          "1970-01-01T09:33:30",
          "1970-01-01T14:09:35",
          "1970-01-01T14:09:35",
          "1970-01-01T14:50:10",
          "1970-01-01T14:50:10",
          "1970-01-01T14:50:10"
         ],
         "y": [
          "Extra 1",
          "Extra 1",
          "Extra 1",
          "Extra 1",
          null,
          "Extra 1",
          "Extra 1",
          "Extra 1",
          "Extra 1",
          null,
          "Extra 1",
          "Extra 1",
          "Extra 1",
          "Extra 1",
          null
         ]
        },
        {
         "connectgaps": false,
         "hoverinfo": "y+name",
         "line": {
          "color": "rgb(149,249,229)",
          "width": 10
         },
         "mode": "lines",
         "name": "sailing full:Extra 1",
         "type": "scatter",
         "x": [
          "1970-01-01T02:55:40",
          "1970-01-01T02:55:40",
          "1970-01-01T03:36:15",
          "1970-01-01T03:36:15",
          "1970-01-01T03:36:15",
          "1970-01-01T08:12:20",
          "1970-01-01T08:12:20",
          "1970-01-01T08:52:55",
          "1970-01-01T08:52:55",
          "1970-01-01T08:52:55",
          "1970-01-01T13:29:00",
          "1970-01-01T13:29:00",
          "1970-01-01T14:09:35",
          "1970-01-01T14:09:35",
          "1970-01-01T14:09:35"
         ],
         "y": [
          "Extra 1",
          "Extra 1",
          "Extra 1",
          "Extra 1",
          null,
          "Extra 1",
          "Extra 1",
          "Extra 1",
          "Extra 1",
          null,
          "Extra 1",
          "Extra 1",
          "Extra 1",
          "Extra 1",
          null
         ]
        },
        {
         "connectgaps": false,
         "hoverinfo": "y+name",
         "line": {
          "color": "rgb(154,254,234)",
          "width": 10
         },
         "mode": "lines",
         "name": "basic activity:Extra 1",
         "type": "scatter",
         "x": [
          "1970-01-01T00:00:00",
          "1970-01-01T00:00:00",
          "1970-01-01T00:40:35",
          "1970-01-01T00:40:35",
          "1970-01-01T00:40:35",
          "1970-01-01T04:16:50",
          "1970-01-01T04:16:50",
          "1970-01-01T04:57:25",
          "1970-01-01T04:57:25",
          "1970-01-01T04:57:25",
          "1970-01-01T09:33:30",
          "1970-01-01T09:33:30",
          "1970-01-01T10:14:05",
          "1970-01-01T10:14:05",
          "1970-01-01T10:14:05"
         ],
         "y": [
          "Extra 1",
          "Extra 1",
          "Extra 1",
          "Extra 1",
          null,
          "Extra 1",
          "Extra 1",
          "Extra 1",
          "Extra 1",
          null,
          "Extra 1",
          "Extra 1",
          "Extra 1",
          "Extra 1",
          null
         ]
        },
        {
         "connectgaps": false,
         "hoverinfo": "y+name",
         "line": {
          "color": "rgb(159,3,239)",
          "width": 10
         },
         "mode": "lines",
         "name": "sailing empty:Extra 2",
         "type": "scatter",
         "x": [
          "1970-01-01T00:44:48",
          "1970-01-01T00:44:48",
          "1970-01-01T01:29:36",
          "1970-01-01T01:29:36",
          "1970-01-01T01:29:36",
          "1970-01-01T05:51:44",
          "1970-01-01T05:51:44",
          "1970-01-01T06:36:32",
          "1970-01-01T06:36:32",
          "1970-01-01T06:36:32",
          "1970-01-01T11:08:24",
          "1970-01-01T11:08:24",
          "1970-01-01T11:53:12",
          "1970-01-01T11:53:12",
          "1970-01-01T11:53:12"
         ],
         "y": [
          "Extra 2",
          "Extra 2",
          "Extra 2",
          "Extra 2",
          null,
          "Extra 2",
          "Extra 2",
          "Extra 2",
          "Extra 2",
          null,
          "Extra 2",
          "Extra 2",
          "Extra 2",
          "Extra 2",
          null
         ]
        },
        {
         "connectgaps": false,
         "hoverinfo": "y+name",
         "line": {
          "color": "rgb(164,8,244)",
          "width": 10
         },
         "mode": "lines",
         "name": "sailing full:Extra 2",
         "type": "scatter",
         "x": [
          "1970-01-01T03:37:20",
          "1970-01-01T03:37:20",
          "1970-01-01T04:22:08",
          "1970-01-01T04:22:08",
          "1970-01-01T04:22:08",
          "1970-01-01T08:54:00",
          "1970-01-01T08:54:00",
          "1970-01-01T09:38:48",
          "1970-01-01T09:38:48",
          "1970-01-01T09:38:48",
          "1970-01-01T14:10:40",
          "1970-01-01T14:10:40",
          "1970-01-01T14:55:28",
          "1970-01-01T14:55:28",
          "1970-01-01T14:55:28"
         ],
         "y": [
          "Extra 2",
          "Extra 2",
          "Extra 2",
          "Extra 2",
          null,
          "Extra 2",
          "Extra 2",
          "Extra 2",
          "Extra 2",
          null,
          "Extra 2",
          "Extra 2",
          "Extra 2",
          "Extra 2",
          null
         ]
        },
        {
         "connectgaps": false,
         "hoverinfo": "y+name",
         "line": {
          "color": "rgb(169,13,249)",
          "width": 10
         },
         "mode": "lines",
         "name": "basic activity:Extra 2",
         "type": "scatter",
         "x": [
          "1970-01-01T00:00:00",
          "1970-01-01T00:00:00",
          "1970-01-01T00:44:48",
          "1970-01-01T00:44:48",
          "1970-01-01T00:44:48",
          "1970-01-01T05:06:56",
          "1970-01-01T05:06:56",
          "1970-01-01T05:51:44",
          "1970-01-01T05:51:44",
          "1970-01-01T05:51:44",
          "1970-01-01T10:23:36",
          "1970-01-01T10:23:36",
          "1970-01-01T11:08:24",
          "1970-01-01T11:08:24",
          "1970-01-01T11:08:24"
         ],
         "y": [
          "Extra 2",
          "Extra 2",
          "Extra 2",
          "Extra 2",
          null,
          "Extra 2",
          "Extra 2",
          "Extra 2",
          "Extra 2",
          null,
          "Extra 2",
          "Extra 2",
          "Extra 2",
          "Extra 2",
          null
         ]
        },
        {
         "connectgaps": false,
         "hoverinfo": "y+name",
         "line": {
          "color": "rgb(174,18,254)",
          "width": 10
         },
         "mode": "lines",
         "name": "unloading:Extra 2",
         "type": "scatter",
         "x": [
          "1970-01-01T04:22:08",
          "1970-01-01T04:22:08",
          "1970-01-01T05:06:56",
          "1970-01-01T05:06:56",
          "1970-01-01T05:06:56",
          "1970-01-01T09:38:48",
          "1970-01-01T09:38:48",
          "1970-01-01T10:23:36",
          "1970-01-01T10:23:36",
          "1970-01-01T10:23:36",
          "1970-01-01T14:55:28",
          "1970-01-01T14:55:28",
          "1970-01-01T15:40:16",
          "1970-01-01T15:40:16",
          "1970-01-01T15:40:16"
         ],
         "y": [
          "Extra 2",
          "Extra 2",
          "Extra 2",
          "Extra 2",
          null,
          "Extra 2",
          "Extra 2",
          "Extra 2",
          "Extra 2",
          null,
          "Extra 2",
          "Extra 2",
          "Extra 2",
          "Extra 2",
          null
         ]
        },
        {
         "connectgaps": false,
         "hoverinfo": "y+name",
         "line": {
          "color": "rgb(179,23,3)",
          "width": 10
         },
         "mode": "lines",
         "name": "loading:Extra 2",
         "type": "scatter",
         "x": [
          "1970-01-01T02:55:40",
          "1970-01-01T02:55:40",
          "1970-01-01T03:37:20",
          "1970-01-01T03:37:20",
          "1970-01-01T03:37:20",
          "1970-01-01T08:12:20",
          "1970-01-01T08:12:20",
          "1970-01-01T08:54:00",
          "1970-01-01T08:54:00",
          "1970-01-01T08:54:00",
          "1970-01-01T13:29:00",
          "1970-01-01T13:29:00",
          "1970-01-01T14:10:40",
          "1970-01-01T14:10:40",
          "1970-01-01T14:10:40",
          "1970-01-01T02:55:40",
          "1970-01-01T02:55:40",
          "1970-01-01T03:37:20",
          "1970-01-01T03:37:20",
          "1970-01-01T03:37:20",
          "1970-01-01T08:12:20",
          "1970-01-01T08:12:20",
          "1970-01-01T08:54:00",
          "1970-01-01T08:54:00",
          "1970-01-01T08:54:00",
          "1970-01-01T13:29:00",
          "1970-01-01T13:29:00",
          "1970-01-01T14:10:40",
          "1970-01-01T14:10:40",
          "1970-01-01T14:10:40"
         ],
         "y": [
          "Extra 2",
          "Extra 2",
          "Extra 2",
          "Extra 2",
          null,
          "Extra 2",
          "Extra 2",
          "Extra 2",
          "Extra 2",
          null,
          "Extra 2",
          "Extra 2",
          "Extra 2",
          "Extra 2",
          null,
          "Cutter T",
          "Cutter T",
          "Cutter T",
          "Cutter T",
          null,
          "Cutter T",
          "Cutter T",
          "Cutter T",
          "Cutter T",
          null,
          "Cutter T",
          "Cutter T",
          "Cutter T",
          "Cutter T",
          null
         ]
        },
        {
         "connectgaps": false,
         "hoverinfo": "y+name",
         "line": {
          "color": "rgb(184,28,8)",
          "width": 10
         },
         "mode": "lines",
         "name": "loading:Barge I",
         "type": "scatter",
         "x": [
          "1970-01-01T05:42:20",
          "1970-01-01T05:42:20",
          "1970-01-01T06:24:00",
          "1970-01-01T06:24:00",
          "1970-01-01T06:24:00",
          "1970-01-01T11:32:20",
          "1970-01-01T11:32:20",
          "1970-01-01T12:14:00",
          "1970-01-01T12:14:00",
          "1970-01-01T12:14:00",
          "1970-01-01T05:42:20",
          "1970-01-01T05:42:20",
          "1970-01-01T06:24:00",
          "1970-01-01T06:24:00",
          "1970-01-01T06:24:00",
          "1970-01-01T11:32:20",
          "1970-01-01T11:32:20",
          "1970-01-01T12:14:00",
          "1970-01-01T12:14:00",
          "1970-01-01T12:14:00"
         ],
         "y": [
          "Barge I",
          "Barge I",
          "Barge I",
          "Barge I",
          null,
          "Barge I",
          "Barge I",
          "Barge I",
          "Barge I",
          null,
          "Cutter T",
          "Cutter T",
          "Cutter T",
          "Cutter T",
          null,
          "Cutter T",
          "Cutter T",
          "Cutter T",
          "Cutter T",
          null
         ]
        },
        {
         "connectgaps": false,
         "hoverinfo": "y+name",
         "line": {
          "color": "rgb(189,33,13)",
          "width": 10
         },
         "mode": "lines",
         "name": "loading:Extra 1",
         "type": "scatter",
         "x": [
          "1970-01-01T02:14:00",
          "1970-01-01T02:14:00",
          "1970-01-01T02:55:40",
          "1970-01-01T02:55:40",
          "1970-01-01T02:55:40",
          "1970-01-01T07:30:40",
          "1970-01-01T07:30:40",
          "1970-01-01T08:12:20",
          "1970-01-01T08:12:20",
          "1970-01-01T08:12:20",
          "1970-01-01T12:47:20",
          "1970-01-01T12:47:20",
          "1970-01-01T13:29:00",
          "1970-01-01T13:29:00",
          "1970-01-01T13:29:00",
          "1970-01-01T02:14:00",
          "1970-01-01T02:14:00",
          "1970-01-01T02:55:40",
          "1970-01-01T02:55:40",
          "1970-01-01T02:55:40",
          "1970-01-01T07:30:40",
          "1970-01-01T07:30:40",
          "1970-01-01T08:12:20",
          "1970-01-01T08:12:20",
          "1970-01-01T08:12:20",
          "1970-01-01T12:47:20",
          "1970-01-01T12:47:20",
          "1970-01-01T13:29:00",
          "1970-01-01T13:29:00",
          "1970-01-01T13:29:00"
         ],
         "y": [
          "Extra 1",
          "Extra 1",
          "Extra 1",
          "Extra 1",
          null,
          "Extra 1",
          "Extra 1",
          "Extra 1",
          "Extra 1",
          null,
          "Extra 1",
          "Extra 1",
          "Extra 1",
          "Extra 1",
          null,
          "Cutter T",
          "Cutter T",
          "Cutter T",
          "Cutter T",
          null,
          "Cutter T",
          "Cutter T",
          "Cutter T",
          "Cutter T",
          null,
          "Cutter T",
          "Cutter T",
          "Cutter T",
          "Cutter T",
          null
         ]
        },
        {
         "connectgaps": false,
         "hoverinfo": "y+name",
         "line": {
          "color": "rgb(194,38,18)",
          "width": 10
         },
         "mode": "lines",
         "name": "loading:Carrier C",
         "type": "scatter",
         "x": [
          "1970-01-01T01:40:40",
          "1970-01-01T01:40:40",
          "1970-01-01T02:14:00",
          "1970-01-01T02:14:00",
          "1970-01-01T02:14:00",
          "1970-01-01T06:57:20",
          "1970-01-01T06:57:20",
          "1970-01-01T07:30:40",
          "1970-01-01T07:30:40",
          "1970-01-01T07:30:40",
          "1970-01-01T12:14:00",
          "1970-01-01T12:14:00",
          "1970-01-01T12:47:20",
          "1970-01-01T12:47:20",
          "1970-01-01T12:47:20",
          "1970-01-01T01:40:40",
          "1970-01-01T01:40:40",
          "1970-01-01T02:14:00",
          "1970-01-01T02:14:00",
          "1970-01-01T02:14:00",
          "1970-01-01T06:57:20",
          "1970-01-01T06:57:20",
          "1970-01-01T07:30:40",
          "1970-01-01T07:30:40",
          "1970-01-01T07:30:40",
          "1970-01-01T12:14:00",
          "1970-01-01T12:14:00",
          "1970-01-01T12:47:20",
          "1970-01-01T12:47:20",
          "1970-01-01T12:47:20"
         ],
         "y": [
          "Carrier C",
          "Carrier C",
          "Carrier C",
          "Carrier C",
          null,
          "Carrier C",
          "Carrier C",
          "Carrier C",
          "Carrier C",
          null,
          "Carrier C",
          "Carrier C",
          "Carrier C",
          "Carrier C",
          null,
          "Cutter T",
          "Cutter T",
          "Cutter T",
          "Cutter T",
          null,
          "Cutter T",
          "Cutter T",
          "Cutter T",
          "Cutter T",
          null,
          "Cutter T",
          "Cutter T",
          "Cutter T",
          "Cutter T",
          null
         ]
        },
        {
         "connectgaps": false,
         "hoverinfo": "y+name",
         "line": {
          "color": "rgb(199,43,23)",
          "width": 10
         },
         "mode": "lines",
         "name": "loading:Carrier A",
         "type": "scatter",
         "x": [
          "1970-01-01T03:37:20",
          "1970-01-01T03:37:20",
          "1970-01-01T04:19:00",
          "1970-01-01T04:19:00",
          "1970-01-01T04:19:00",
          "1970-01-01T08:54:00",
          "1970-01-01T08:54:00",
          "1970-01-01T09:35:40",
          "1970-01-01T09:35:40",
          "1970-01-01T09:35:40",
          "1970-01-01T14:10:40",
          "1970-01-01T14:10:40",
          "1970-01-01T14:52:20",
          "1970-01-01T14:52:20",
          "1970-01-01T14:52:20",
          "1970-01-01T03:37:20",
          "1970-01-01T03:37:20",
          "1970-01-01T04:19:00",
          "1970-01-01T04:19:00",
          "1970-01-01T04:19:00",
          "1970-01-01T08:54:00",
          "1970-01-01T08:54:00",
          "1970-01-01T09:35:40",
          "1970-01-01T09:35:40",
          "1970-01-01T09:35:40",
          "1970-01-01T14:10:40",
          "1970-01-01T14:10:40",
          "1970-01-01T14:52:20",
          "1970-01-01T14:52:20",
          "1970-01-01T14:52:20"
         ],
         "y": [
          "Carrier A",
          "Carrier A",
          "Carrier A",
          "Carrier A",
          null,
          "Carrier A",
          "Carrier A",
          "Carrier A",
          "Carrier A",
          null,
          "Carrier A",
          "Carrier A",
          "Carrier A",
          "Carrier A",
          null,
          "Cutter T",
          "Cutter T",
          "Cutter T",
          "Cutter T",
          null,
          "Cutter T",
          "Cutter T",
          "Cutter T",
          "Cutter T",
          null,
          "Cutter T",
          "Cutter T",
          "Cutter T",
          "Cutter T",
          null
         ]
        },
        {
         "connectgaps": false,
         "hoverinfo": "y+name",
         "line": {
          "color": "rgb(204,48,28)",
          "width": 10
         },
         "mode": "lines",
         "name": "loading:Barge II",
         "type": "scatter",
         "x": [
          "1970-01-01T04:19:00",
          "1970-01-01T04:19:00",
          "1970-01-01T05:00:40",
          "1970-01-01T05:00:40",
          "1970-01-01T05:00:40",
          "1970-01-01T09:35:40",
          "1970-01-01T09:35:40",
          "1970-01-01T10:17:20",
          "1970-01-01T10:17:20",
          "1970-01-01T10:17:20",
          "1970-01-01T14:52:20",
          "1970-01-01T14:52:20",
          "1970-01-01T15:34:00",
          "1970-01-01T15:34:00",
          "1970-01-01T15:34:00",
          "1970-01-01T04:19:00",
          "1970-01-01T04:19:00",
          "1970-01-01T05:00:40",
          "1970-01-01T05:00:40",
          "1970-01-01T05:00:40",
          "1970-01-01T09:35:40",
          "1970-01-01T09:35:40",
          "1970-01-01T10:17:20",
          "1970-01-01T10:17:20",
          "1970-01-01T10:17:20",
          "1970-01-01T14:52:20",
          "1970-01-01T14:52:20",
          "1970-01-01T15:34:00",
          "1970-01-01T15:34:00",
          "1970-01-01T15:34:00"
         ],
         "y": [
          "Barge II",
          "Barge II",
          "Barge II",
          "Barge II",
          null,
          "Barge II",
          "Barge II",
          "Barge II",
          "Barge II",
          null,
          "Barge II",
          "Barge II",
          "Barge II",
          "Barge II",
          null,
          "Cutter T",
          "Cutter T",
          "Cutter T",
          "Cutter T",
          null,
          "Cutter T",
          "Cutter T",
          "Cutter T",
          "Cutter T",
          null,
          "Cutter T",
          "Cutter T",
          "Cutter T",
          "Cutter T",
          null
         ]
        },
        {
         "connectgaps": false,
         "hoverinfo": "y+name",
         "line": {
          "color": "rgb(209,53,33)",
          "width": 10
         },
         "mode": "lines",
         "name": "loading:Barge III",
         "type": "scatter",
         "x": [
          "1970-01-01T05:00:40",
          "1970-01-01T05:00:40",
          "1970-01-01T05:42:20",
          "1970-01-01T05:42:20",
          "1970-01-01T05:42:20",
          "1970-01-01T10:17:20",
          "1970-01-01T10:17:20",
          "1970-01-01T10:59:00",
          "1970-01-01T10:59:00",
          "1970-01-01T10:59:00",
          "1970-01-01T05:00:40",
          "1970-01-01T05:00:40",
          "1970-01-01T05:42:20",
          "1970-01-01T05:42:20",
          "1970-01-01T05:42:20",
          "1970-01-01T10:17:20",
          "1970-01-01T10:17:20",
          "1970-01-01T10:59:00",
          "1970-01-01T10:59:00",
          "1970-01-01T10:59:00"
         ],
         "y": [
          "Barge III",
          "Barge III",
          "Barge III",
          "Barge III",
          null,
          "Barge III",
          "Barge III",
          "Barge III",
          "Barge III",
          null,
          "Cutter T",
          "Cutter T",
          "Cutter T",
          "Cutter T",
          null,
          "Cutter T",
          "Cutter T",
          "Cutter T",
          "Cutter T",
          null
         ]
        },
        {
         "connectgaps": false,
         "hoverinfo": "y+name",
         "line": {
          "color": "rgb(214,58,38)",
          "width": 10
         },
         "mode": "lines",
         "name": "loading:Carrier B",
         "type": "scatter",
         "x": [
          "1970-01-01T01:07:20",
          "1970-01-01T01:07:20",
          "1970-01-01T01:40:40",
          "1970-01-01T01:40:40",
          "1970-01-01T01:40:40",
          "1970-01-01T06:24:00",
          "1970-01-01T06:24:00",
          "1970-01-01T06:57:20",
          "1970-01-01T06:57:20",
          "1970-01-01T06:57:20",
          "1970-01-01T10:59:00",
          "1970-01-01T10:59:00",
          "1970-01-01T11:32:20",
          "1970-01-01T11:32:20",
          "1970-01-01T11:32:20",
          "1970-01-01T01:07:20",
          "1970-01-01T01:07:20",
          "1970-01-01T01:40:40",
          "1970-01-01T01:40:40",
          "1970-01-01T01:40:40",
          "1970-01-01T06:24:00",
          "1970-01-01T06:24:00",
          "1970-01-01T06:57:20",
          "1970-01-01T06:57:20",
          "1970-01-01T06:57:20",
          "1970-01-01T10:59:00",
          "1970-01-01T10:59:00",
          "1970-01-01T11:32:20",
          "1970-01-01T11:32:20",
          "1970-01-01T11:32:20"
         ],
         "y": [
          "Carrier B",
          "Carrier B",
          "Carrier B",
          "Carrier B",
          null,
          "Carrier B",
          "Carrier B",
          "Carrier B",
          "Carrier B",
          null,
          "Carrier B",
          "Carrier B",
          "Carrier B",
          "Carrier B",
          null,
          "Cutter T",
          "Cutter T",
          "Cutter T",
          "Cutter T",
          null,
          "Cutter T",
          "Cutter T",
          "Cutter T",
          "Cutter T",
          null,
          "Cutter T",
          "Cutter T",
          "Cutter T",
          "Cutter T",
          null
         ]
        },
        {
         "connectgaps": false,
         "hoverinfo": "y+name",
         "line": {
          "color": "rgb(219,63,43)",
          "width": 10
         },
         "mode": "lines",
         "name": "loading:Extra 2",
         "type": "scatter",
         "x": [
          "1970-01-01T02:55:40",
          "1970-01-01T02:55:40",
          "1970-01-01T03:37:20",
          "1970-01-01T03:37:20",
          "1970-01-01T03:37:20",
          "1970-01-01T08:12:20",
          "1970-01-01T08:12:20",
          "1970-01-01T08:54:00",
          "1970-01-01T08:54:00",
          "1970-01-01T08:54:00",
          "1970-01-01T13:29:00",
          "1970-01-01T13:29:00",
          "1970-01-01T14:10:40",
          "1970-01-01T14:10:40",
          "1970-01-01T14:10:40",
          "1970-01-01T02:55:40",
          "1970-01-01T02:55:40",
          "1970-01-01T03:37:20",
          "1970-01-01T03:37:20",
          "1970-01-01T03:37:20",
          "1970-01-01T08:12:20",
          "1970-01-01T08:12:20",
          "1970-01-01T08:54:00",
          "1970-01-01T08:54:00",
          "1970-01-01T08:54:00",
          "1970-01-01T13:29:00",
          "1970-01-01T13:29:00",
          "1970-01-01T14:10:40",
          "1970-01-01T14:10:40",
          "1970-01-01T14:10:40"
         ],
         "y": [
          "Extra 2",
          "Extra 2",
          "Extra 2",
          "Extra 2",
          null,
          "Extra 2",
          "Extra 2",
          "Extra 2",
          "Extra 2",
          null,
          "Extra 2",
          "Extra 2",
          "Extra 2",
          "Extra 2",
          null,
          "Cutter T",
          "Cutter T",
          "Cutter T",
          "Cutter T",
          null,
          "Cutter T",
          "Cutter T",
          "Cutter T",
          "Cutter T",
          null,
          "Cutter T",
          "Cutter T",
          "Cutter T",
          "Cutter T",
          null
         ]
        }
       ],
       "layout": {
        "hovermode": "closest",
        "legend": {
         "orientation": "h",
         "x": 0,
         "y": -0.2
        },
        "template": {
         "data": {
          "bar": [
           {
            "error_x": {
             "color": "#2a3f5f"
            },
            "error_y": {
             "color": "#2a3f5f"
            },
            "marker": {
             "line": {
              "color": "#E5ECF6",
              "width": 0.5
             },
             "pattern": {
              "fillmode": "overlay",
              "size": 10,
              "solidity": 0.2
             }
            },
            "type": "bar"
           }
          ],
          "barpolar": [
           {
            "marker": {
             "line": {
              "color": "#E5ECF6",
              "width": 0.5
             },
             "pattern": {
              "fillmode": "overlay",
              "size": 10,
              "solidity": 0.2
             }
            },
            "type": "barpolar"
           }
          ],
          "carpet": [
           {
            "aaxis": {
             "endlinecolor": "#2a3f5f",
             "gridcolor": "white",
             "linecolor": "white",
             "minorgridcolor": "white",
             "startlinecolor": "#2a3f5f"
            },
            "baxis": {
             "endlinecolor": "#2a3f5f",
             "gridcolor": "white",
             "linecolor": "white",
             "minorgridcolor": "white",
             "startlinecolor": "#2a3f5f"
            },
            "type": "carpet"
           }
          ],
          "choropleth": [
           {
            "colorbar": {
             "outlinewidth": 0,
             "ticks": ""
            },
            "type": "choropleth"
           }
          ],
          "contour": [
           {
            "colorbar": {
             "outlinewidth": 0,
             "ticks": ""
            },
            "colorscale": [
             [
              0,
              "#0d0887"
             ],
             [
              0.1111111111111111,
              "#46039f"
             ],
             [
              0.2222222222222222,
              "#7201a8"
             ],
             [
              0.3333333333333333,
              "#9c179e"
             ],
             [
              0.4444444444444444,
              "#bd3786"
             ],
             [
              0.5555555555555556,
              "#d8576b"
             ],
             [
              0.6666666666666666,
              "#ed7953"
             ],
             [
              0.7777777777777778,
              "#fb9f3a"
             ],
             [
              0.8888888888888888,
              "#fdca26"
             ],
             [
              1,
              "#f0f921"
             ]
            ],
            "type": "contour"
           }
          ],
          "contourcarpet": [
           {
            "colorbar": {
             "outlinewidth": 0,
             "ticks": ""
            },
            "type": "contourcarpet"
           }
          ],
          "heatmap": [
           {
            "colorbar": {
             "outlinewidth": 0,
             "ticks": ""
            },
            "colorscale": [
             [
              0,
              "#0d0887"
             ],
             [
              0.1111111111111111,
              "#46039f"
             ],
             [
              0.2222222222222222,
              "#7201a8"
             ],
             [
              0.3333333333333333,
              "#9c179e"
             ],
             [
              0.4444444444444444,
              "#bd3786"
             ],
             [
              0.5555555555555556,
              "#d8576b"
             ],
             [
              0.6666666666666666,
              "#ed7953"
             ],
             [
              0.7777777777777778,
              "#fb9f3a"
             ],
             [
              0.8888888888888888,
              "#fdca26"
             ],
             [
              1,
              "#f0f921"
             ]
            ],
            "type": "heatmap"
           }
          ],
          "heatmapgl": [
           {
            "colorbar": {
             "outlinewidth": 0,
             "ticks": ""
            },
            "colorscale": [
             [
              0,
              "#0d0887"
             ],
             [
              0.1111111111111111,
              "#46039f"
             ],
             [
              0.2222222222222222,
              "#7201a8"
             ],
             [
              0.3333333333333333,
              "#9c179e"
             ],
             [
              0.4444444444444444,
              "#bd3786"
             ],
             [
              0.5555555555555556,
              "#d8576b"
             ],
             [
              0.6666666666666666,
              "#ed7953"
             ],
             [
              0.7777777777777778,
              "#fb9f3a"
             ],
             [
              0.8888888888888888,
              "#fdca26"
             ],
             [
              1,
              "#f0f921"
             ]
            ],
            "type": "heatmapgl"
           }
          ],
          "histogram": [
           {
            "marker": {
             "pattern": {
              "fillmode": "overlay",
              "size": 10,
              "solidity": 0.2
             }
            },
            "type": "histogram"
           }
          ],
          "histogram2d": [
           {
            "colorbar": {
             "outlinewidth": 0,
             "ticks": ""
            },
            "colorscale": [
             [
              0,
              "#0d0887"
             ],
             [
              0.1111111111111111,
              "#46039f"
             ],
             [
              0.2222222222222222,
              "#7201a8"
             ],
             [
              0.3333333333333333,
              "#9c179e"
             ],
             [
              0.4444444444444444,
              "#bd3786"
             ],
             [
              0.5555555555555556,
              "#d8576b"
             ],
             [
              0.6666666666666666,
              "#ed7953"
             ],
             [
              0.7777777777777778,
              "#fb9f3a"
             ],
             [
              0.8888888888888888,
              "#fdca26"
             ],
             [
              1,
              "#f0f921"
             ]
            ],
            "type": "histogram2d"
           }
          ],
          "histogram2dcontour": [
           {
            "colorbar": {
             "outlinewidth": 0,
             "ticks": ""
            },
            "colorscale": [
             [
              0,
              "#0d0887"
             ],
             [
              0.1111111111111111,
              "#46039f"
             ],
             [
              0.2222222222222222,
              "#7201a8"
             ],
             [
              0.3333333333333333,
              "#9c179e"
             ],
             [
              0.4444444444444444,
              "#bd3786"
             ],
             [
              0.5555555555555556,
              "#d8576b"
             ],
             [
              0.6666666666666666,
              "#ed7953"
             ],
             [
              0.7777777777777778,
              "#fb9f3a"
             ],
             [
              0.8888888888888888,
              "#fdca26"
             ],
             [
              1,
              "#f0f921"
             ]
            ],
            "type": "histogram2dcontour"
           }
          ],
          "mesh3d": [
           {
            "colorbar": {
             "outlinewidth": 0,
             "ticks": ""
            },
            "type": "mesh3d"
           }
          ],
          "parcoords": [
           {
            "line": {
             "colorbar": {
              "outlinewidth": 0,
              "ticks": ""
             }
            },
            "type": "parcoords"
           }
          ],
          "pie": [
           {
            "automargin": true,
            "type": "pie"
           }
          ],
          "scatter": [
           {
            "fillpattern": {
             "fillmode": "overlay",
             "size": 10,
             "solidity": 0.2
            },
            "type": "scatter"
           }
          ],
          "scatter3d": [
           {
            "line": {
             "colorbar": {
              "outlinewidth": 0,
              "ticks": ""
             }
            },
            "marker": {
             "colorbar": {
              "outlinewidth": 0,
              "ticks": ""
             }
            },
            "type": "scatter3d"
           }
          ],
          "scattercarpet": [
           {
            "marker": {
             "colorbar": {
              "outlinewidth": 0,
              "ticks": ""
             }
            },
            "type": "scattercarpet"
           }
          ],
          "scattergeo": [
           {
            "marker": {
             "colorbar": {
              "outlinewidth": 0,
              "ticks": ""
             }
            },
            "type": "scattergeo"
           }
          ],
          "scattergl": [
           {
            "marker": {
             "colorbar": {
              "outlinewidth": 0,
              "ticks": ""
             }
            },
            "type": "scattergl"
           }
          ],
          "scattermapbox": [
           {
            "marker": {
             "colorbar": {
              "outlinewidth": 0,
              "ticks": ""
             }
            },
            "type": "scattermapbox"
           }
          ],
          "scatterpolar": [
           {
            "marker": {
             "colorbar": {
              "outlinewidth": 0,
              "ticks": ""
             }
            },
            "type": "scatterpolar"
           }
          ],
          "scatterpolargl": [
           {
            "marker": {
             "colorbar": {
              "outlinewidth": 0,
              "ticks": ""
             }
            },
            "type": "scatterpolargl"
           }
          ],
          "scatterternary": [
           {
            "marker": {
             "colorbar": {
              "outlinewidth": 0,
              "ticks": ""
             }
            },
            "type": "scatterternary"
           }
          ],
          "surface": [
           {
            "colorbar": {
             "outlinewidth": 0,
             "ticks": ""
            },
            "colorscale": [
             [
              0,
              "#0d0887"
             ],
             [
              0.1111111111111111,
              "#46039f"
             ],
             [
              0.2222222222222222,
              "#7201a8"
             ],
             [
              0.3333333333333333,
              "#9c179e"
             ],
             [
              0.4444444444444444,
              "#bd3786"
             ],
             [
              0.5555555555555556,
              "#d8576b"
             ],
             [
              0.6666666666666666,
              "#ed7953"
             ],
             [
              0.7777777777777778,
              "#fb9f3a"
             ],
             [
              0.8888888888888888,
              "#fdca26"
             ],
             [
              1,
              "#f0f921"
             ]
            ],
            "type": "surface"
           }
          ],
          "table": [
           {
            "cells": {
             "fill": {
              "color": "#EBF0F8"
             },
             "line": {
              "color": "white"
             }
            },
            "header": {
             "fill": {
              "color": "#C8D4E3"
             },
             "line": {
              "color": "white"
             }
            },
            "type": "table"
           }
          ]
         },
         "layout": {
          "annotationdefaults": {
           "arrowcolor": "#2a3f5f",
           "arrowhead": 0,
           "arrowwidth": 1
          },
          "autotypenumbers": "strict",
          "coloraxis": {
           "colorbar": {
            "outlinewidth": 0,
            "ticks": ""
           }
          },
          "colorscale": {
           "diverging": [
            [
             0,
             "#8e0152"
            ],
            [
             0.1,
             "#c51b7d"
            ],
            [
             0.2,
             "#de77ae"
            ],
            [
             0.3,
             "#f1b6da"
            ],
            [
             0.4,
             "#fde0ef"
            ],
            [
             0.5,
             "#f7f7f7"
            ],
            [
             0.6,
             "#e6f5d0"
            ],
            [
             0.7,
             "#b8e186"
            ],
            [
             0.8,
             "#7fbc41"
            ],
            [
             0.9,
             "#4d9221"
            ],
            [
             1,
             "#276419"
            ]
           ],
           "sequential": [
            [
             0,
             "#0d0887"
            ],
            [
             0.1111111111111111,
             "#46039f"
            ],
            [
             0.2222222222222222,
             "#7201a8"
            ],
            [
             0.3333333333333333,
             "#9c179e"
            ],
            [
             0.4444444444444444,
             "#bd3786"
            ],
            [
             0.5555555555555556,
             "#d8576b"
            ],
            [
             0.6666666666666666,
             "#ed7953"
            ],
            [
             0.7777777777777778,
             "#fb9f3a"
            ],
            [
             0.8888888888888888,
             "#fdca26"
            ],
            [
             1,
             "#f0f921"
            ]
           ],
           "sequentialminus": [
            [
             0,
             "#0d0887"
            ],
            [
             0.1111111111111111,
             "#46039f"
            ],
            [
             0.2222222222222222,
             "#7201a8"
            ],
            [
             0.3333333333333333,
             "#9c179e"
            ],
            [
             0.4444444444444444,
             "#bd3786"
            ],
            [
             0.5555555555555556,
             "#d8576b"
            ],
            [
             0.6666666666666666,
             "#ed7953"
            ],
            [
             0.7777777777777778,
             "#fb9f3a"
            ],
            [
             0.8888888888888888,
             "#fdca26"
            ],
            [
             1,
             "#f0f921"
            ]
           ]
          },
          "colorway": [
           "#636efa",
           "#EF553B",
           "#00cc96",
           "#ab63fa",
           "#FFA15A",
           "#19d3f3",
           "#FF6692",
           "#B6E880",
           "#FF97FF",
           "#FECB52"
          ],
          "font": {
           "color": "#2a3f5f"
          },
          "geo": {
           "bgcolor": "white",
           "lakecolor": "white",
           "landcolor": "#E5ECF6",
           "showlakes": true,
           "showland": true,
           "subunitcolor": "white"
          },
          "hoverlabel": {
           "align": "left"
          },
          "hovermode": "closest",
          "mapbox": {
           "style": "light"
          },
          "paper_bgcolor": "white",
          "plot_bgcolor": "#E5ECF6",
          "polar": {
           "angularaxis": {
            "gridcolor": "white",
            "linecolor": "white",
            "ticks": ""
           },
           "bgcolor": "#E5ECF6",
           "radialaxis": {
            "gridcolor": "white",
            "linecolor": "white",
            "ticks": ""
           }
          },
          "scene": {
           "xaxis": {
            "backgroundcolor": "#E5ECF6",
            "gridcolor": "white",
            "gridwidth": 2,
            "linecolor": "white",
            "showbackground": true,
            "ticks": "",
            "zerolinecolor": "white"
           },
           "yaxis": {
            "backgroundcolor": "#E5ECF6",
            "gridcolor": "white",
            "gridwidth": 2,
            "linecolor": "white",
            "showbackground": true,
            "ticks": "",
            "zerolinecolor": "white"
           },
           "zaxis": {
            "backgroundcolor": "#E5ECF6",
            "gridcolor": "white",
            "gridwidth": 2,
            "linecolor": "white",
            "showbackground": true,
            "ticks": "",
            "zerolinecolor": "white"
           }
          },
          "shapedefaults": {
           "line": {
            "color": "#2a3f5f"
           }
          },
          "ternary": {
           "aaxis": {
            "gridcolor": "white",
            "linecolor": "white",
            "ticks": ""
           },
           "baxis": {
            "gridcolor": "white",
            "linecolor": "white",
            "ticks": ""
           },
           "bgcolor": "#E5ECF6",
           "caxis": {
            "gridcolor": "white",
            "linecolor": "white",
            "ticks": ""
           }
          },
          "title": {
           "x": 0.05
          },
          "xaxis": {
           "automargin": true,
           "gridcolor": "white",
           "linecolor": "white",
           "ticks": "",
           "title": {
            "standoff": 15
           },
           "zerolinecolor": "white",
           "zerolinewidth": 2
          },
          "yaxis": {
           "automargin": true,
           "gridcolor": "white",
           "linecolor": "white",
           "ticks": "",
           "title": {
            "standoff": 15
           },
           "zerolinecolor": "white",
           "zerolinewidth": 2
          }
         }
        },
        "title": {
         "text": "GANTT Chart"
        },
        "xaxis": {
         "range": [
          "1970-01-01T00:00:00",
          "1970-01-01T17:08:12"
         ],
         "title": {
          "font": {
           "color": "#7f7f7f",
           "family": "Courier New, monospace",
           "size": 18
          },
          "text": "Time"
         }
        },
        "yaxis": {
         "title": {
          "font": {
           "color": "#7f7f7f",
           "family": "Courier New, monospace",
           "size": 18
          },
          "text": "Activities"
         }
        }
       }
      },
      "text/html": [
       "<div>                            <div id=\"bead9491-800f-48c4-92e7-459960e66b55\" class=\"plotly-graph-div\" style=\"height:525px; width:100%;\"></div>            <script type=\"text/javascript\">                require([\"plotly\"], function(Plotly) {                    window.PLOTLYENV=window.PLOTLYENV || {};                                    if (document.getElementById(\"bead9491-800f-48c4-92e7-459960e66b55\")) {                    Plotly.newPlot(                        \"bead9491-800f-48c4-92e7-459960e66b55\",                        [{\"connectgaps\":false,\"hoverinfo\":\"y+name\",\"line\":{\"color\":\"rgb(240,84,64)\",\"width\":10},\"mode\":\"lines\",\"name\":\"loading:Carrier A\",\"x\":[\"1970-01-01T03:37:20\",\"1970-01-01T03:37:20\",\"1970-01-01T04:19:00\",\"1970-01-01T04:19:00\",\"1970-01-01T04:19:00\",\"1970-01-01T08:54:00\",\"1970-01-01T08:54:00\",\"1970-01-01T09:35:40\",\"1970-01-01T09:35:40\",\"1970-01-01T09:35:40\",\"1970-01-01T14:10:40\",\"1970-01-01T14:10:40\",\"1970-01-01T14:52:20\",\"1970-01-01T14:52:20\",\"1970-01-01T14:52:20\",\"1970-01-01T03:37:20\",\"1970-01-01T03:37:20\",\"1970-01-01T04:19:00\",\"1970-01-01T04:19:00\",\"1970-01-01T04:19:00\",\"1970-01-01T08:54:00\",\"1970-01-01T08:54:00\",\"1970-01-01T09:35:40\",\"1970-01-01T09:35:40\",\"1970-01-01T09:35:40\",\"1970-01-01T14:10:40\",\"1970-01-01T14:10:40\",\"1970-01-01T14:52:20\",\"1970-01-01T14:52:20\",\"1970-01-01T14:52:20\"],\"y\":[\"Carrier A\",\"Carrier A\",\"Carrier A\",\"Carrier A\",null,\"Carrier A\",\"Carrier A\",\"Carrier A\",\"Carrier A\",null,\"Carrier A\",\"Carrier A\",\"Carrier A\",\"Carrier A\",null,\"Cutter T\",\"Cutter T\",\"Cutter T\",\"Cutter T\",null,\"Cutter T\",\"Cutter T\",\"Cutter T\",\"Cutter T\",null,\"Cutter T\",\"Cutter T\",\"Cutter T\",\"Cutter T\",null],\"type\":\"scatter\"},{\"connectgaps\":false,\"hoverinfo\":\"y+name\",\"line\":{\"color\":\"rgb(245,89,69)\",\"width\":10},\"mode\":\"lines\",\"name\":\"sailing full:Carrier A\",\"x\":[\"1970-01-01T04:19:00\",\"1970-01-01T04:19:00\",\"1970-01-01T05:04:27\",\"1970-01-01T05:04:27\",\"1970-01-01T05:04:27\",\"1970-01-01T09:35:40\",\"1970-01-01T09:35:40\",\"1970-01-01T10:21:07\",\"1970-01-01T10:21:07\",\"1970-01-01T10:21:07\",\"1970-01-01T14:52:20\",\"1970-01-01T14:52:20\",\"1970-01-01T15:37:47\",\"1970-01-01T15:37:47\",\"1970-01-01T15:37:47\"],\"y\":[\"Carrier A\",\"Carrier A\",\"Carrier A\",\"Carrier A\",null,\"Carrier A\",\"Carrier A\",\"Carrier A\",\"Carrier A\",null,\"Carrier A\",\"Carrier A\",\"Carrier A\",\"Carrier A\",null],\"type\":\"scatter\"},{\"connectgaps\":false,\"hoverinfo\":\"y+name\",\"line\":{\"color\":\"rgb(250,94,74)\",\"width\":10},\"mode\":\"lines\",\"name\":\"sailing empty:Carrier A\",\"x\":[\"1970-01-01T00:45:27\",\"1970-01-01T00:45:27\",\"1970-01-01T01:30:54\",\"1970-01-01T01:30:54\",\"1970-01-01T01:30:54\",\"1970-01-01T06:35:21\",\"1970-01-01T06:35:21\",\"1970-01-01T07:20:48\",\"1970-01-01T07:20:48\",\"1970-01-01T07:20:48\",\"1970-01-01T11:52:01\",\"1970-01-01T11:52:01\",\"1970-01-01T12:37:28\",\"1970-01-01T12:37:28\",\"1970-01-01T12:37:28\"],\"y\":[\"Carrier A\",\"Carrier A\",\"Carrier A\",\"Carrier A\",null,\"Carrier A\",\"Carrier A\",\"Carrier A\",\"Carrier A\",null,\"Carrier A\",\"Carrier A\",\"Carrier A\",\"Carrier A\",null],\"type\":\"scatter\"},{\"connectgaps\":false,\"hoverinfo\":\"y+name\",\"line\":{\"color\":\"rgb(255,99,79)\",\"width\":10},\"mode\":\"lines\",\"name\":\"unloading:Carrier A\",\"x\":[\"1970-01-01T05:04:27\",\"1970-01-01T05:04:27\",\"1970-01-01T05:49:54\",\"1970-01-01T05:49:54\",\"1970-01-01T05:49:54\",\"1970-01-01T10:21:07\",\"1970-01-01T10:21:07\",\"1970-01-01T11:06:34\",\"1970-01-01T11:06:34\",\"1970-01-01T11:06:34\",\"1970-01-01T15:37:47\",\"1970-01-01T15:37:47\",\"1970-01-01T16:23:14\",\"1970-01-01T16:23:14\",\"1970-01-01T16:23:14\"],\"y\":[\"Carrier A\",\"Carrier A\",\"Carrier A\",\"Carrier A\",null,\"Carrier A\",\"Carrier A\",\"Carrier A\",\"Carrier A\",null,\"Carrier A\",\"Carrier A\",\"Carrier A\",\"Carrier A\",null],\"type\":\"scatter\"},{\"connectgaps\":false,\"hoverinfo\":\"y+name\",\"line\":{\"color\":\"rgb(4,104,84)\",\"width\":10},\"mode\":\"lines\",\"name\":\"basic activity:Carrier A\",\"x\":[\"1970-01-01T00:00:00\",\"1970-01-01T00:00:00\",\"1970-01-01T00:45:27\",\"1970-01-01T00:45:27\",\"1970-01-01T00:45:27\",\"1970-01-01T05:49:54\",\"1970-01-01T05:49:54\",\"1970-01-01T06:35:21\",\"1970-01-01T06:35:21\",\"1970-01-01T06:35:21\",\"1970-01-01T11:06:34\",\"1970-01-01T11:06:34\",\"1970-01-01T11:52:01\",\"1970-01-01T11:52:01\",\"1970-01-01T11:52:01\"],\"y\":[\"Carrier A\",\"Carrier A\",\"Carrier A\",\"Carrier A\",null,\"Carrier A\",\"Carrier A\",\"Carrier A\",\"Carrier A\",null,\"Carrier A\",\"Carrier A\",\"Carrier A\",\"Carrier A\",null],\"type\":\"scatter\"},{\"connectgaps\":false,\"hoverinfo\":\"y+name\",\"line\":{\"color\":\"rgb(9,109,89)\",\"width\":10},\"mode\":\"lines\",\"name\":\"unloading:Carrier B\",\"x\":[\"1970-01-01T02:14:20\",\"1970-01-01T02:14:20\",\"1970-01-01T02:48:00\",\"1970-01-01T02:48:00\",\"1970-01-01T02:48:00\",\"1970-01-01T07:31:00\",\"1970-01-01T07:31:00\",\"1970-01-01T08:04:40\",\"1970-01-01T08:04:40\",\"1970-01-01T08:04:40\",\"1970-01-01T12:06:00\",\"1970-01-01T12:06:00\",\"1970-01-01T12:39:40\",\"1970-01-01T12:39:40\",\"1970-01-01T12:39:40\"],\"y\":[\"Carrier B\",\"Carrier B\",\"Carrier B\",\"Carrier B\",null,\"Carrier B\",\"Carrier B\",\"Carrier B\",\"Carrier B\",null,\"Carrier B\",\"Carrier B\",\"Carrier B\",\"Carrier B\",null],\"type\":\"scatter\"},{\"connectgaps\":false,\"hoverinfo\":\"y+name\",\"line\":{\"color\":\"rgb(14,114,94)\",\"width\":10},\"mode\":\"lines\",\"name\":\"basic activity:Carrier B\",\"x\":[\"1970-01-01T00:00:00\",\"1970-01-01T00:00:00\",\"1970-01-01T00:33:40\",\"1970-01-01T00:33:40\",\"1970-01-01T00:33:40\",\"1970-01-01T02:48:00\",\"1970-01-01T02:48:00\",\"1970-01-01T03:21:40\",\"1970-01-01T03:21:40\",\"1970-01-01T03:21:40\",\"1970-01-01T08:04:40\",\"1970-01-01T08:04:40\",\"1970-01-01T08:38:20\",\"1970-01-01T08:38:20\",\"1970-01-01T08:38:20\"],\"y\":[\"Carrier B\",\"Carrier B\",\"Carrier B\",\"Carrier B\",null,\"Carrier B\",\"Carrier B\",\"Carrier B\",\"Carrier B\",null,\"Carrier B\",\"Carrier B\",\"Carrier B\",\"Carrier B\",null],\"type\":\"scatter\"},{\"connectgaps\":false,\"hoverinfo\":\"y+name\",\"line\":{\"color\":\"rgb(19,119,99)\",\"width\":10},\"mode\":\"lines\",\"name\":\"sailing empty:Carrier B\",\"x\":[\"1970-01-01T00:33:40\",\"1970-01-01T00:33:40\",\"1970-01-01T01:07:20\",\"1970-01-01T01:07:20\",\"1970-01-01T01:07:20\",\"1970-01-01T03:21:40\",\"1970-01-01T03:21:40\",\"1970-01-01T03:55:20\",\"1970-01-01T03:55:20\",\"1970-01-01T03:55:20\",\"1970-01-01T08:38:20\",\"1970-01-01T08:38:20\",\"1970-01-01T09:12:00\",\"1970-01-01T09:12:00\",\"1970-01-01T09:12:00\"],\"y\":[\"Carrier B\",\"Carrier B\",\"Carrier B\",\"Carrier B\",null,\"Carrier B\",\"Carrier B\",\"Carrier B\",\"Carrier B\",null,\"Carrier B\",\"Carrier B\",\"Carrier B\",\"Carrier B\",null],\"type\":\"scatter\"},{\"connectgaps\":false,\"hoverinfo\":\"y+name\",\"line\":{\"color\":\"rgb(24,124,104)\",\"width\":10},\"mode\":\"lines\",\"name\":\"loading:Carrier B\",\"x\":[\"1970-01-01T01:07:20\",\"1970-01-01T01:07:20\",\"1970-01-01T01:40:40\",\"1970-01-01T01:40:40\",\"1970-01-01T01:40:40\",\"1970-01-01T06:24:00\",\"1970-01-01T06:24:00\",\"1970-01-01T06:57:20\",\"1970-01-01T06:57:20\",\"1970-01-01T06:57:20\",\"1970-01-01T10:59:00\",\"1970-01-01T10:59:00\",\"1970-01-01T11:32:20\",\"1970-01-01T11:32:20\",\"1970-01-01T11:32:20\",\"1970-01-01T01:07:20\",\"1970-01-01T01:07:20\",\"1970-01-01T01:40:40\",\"1970-01-01T01:40:40\",\"1970-01-01T01:40:40\",\"1970-01-01T06:24:00\",\"1970-01-01T06:24:00\",\"1970-01-01T06:57:20\",\"1970-01-01T06:57:20\",\"1970-01-01T06:57:20\",\"1970-01-01T10:59:00\",\"1970-01-01T10:59:00\",\"1970-01-01T11:32:20\",\"1970-01-01T11:32:20\",\"1970-01-01T11:32:20\"],\"y\":[\"Carrier B\",\"Carrier B\",\"Carrier B\",\"Carrier B\",null,\"Carrier B\",\"Carrier B\",\"Carrier B\",\"Carrier B\",null,\"Carrier B\",\"Carrier B\",\"Carrier B\",\"Carrier B\",null,\"Cutter T\",\"Cutter T\",\"Cutter T\",\"Cutter T\",null,\"Cutter T\",\"Cutter T\",\"Cutter T\",\"Cutter T\",null,\"Cutter T\",\"Cutter T\",\"Cutter T\",\"Cutter T\",null],\"type\":\"scatter\"},{\"connectgaps\":false,\"hoverinfo\":\"y+name\",\"line\":{\"color\":\"rgb(29,129,109)\",\"width\":10},\"mode\":\"lines\",\"name\":\"sailing full:Carrier B\",\"x\":[\"1970-01-01T01:40:40\",\"1970-01-01T01:40:40\",\"1970-01-01T02:14:20\",\"1970-01-01T02:14:20\",\"1970-01-01T02:14:20\",\"1970-01-01T06:57:20\",\"1970-01-01T06:57:20\",\"1970-01-01T07:31:00\",\"1970-01-01T07:31:00\",\"1970-01-01T07:31:00\",\"1970-01-01T11:32:20\",\"1970-01-01T11:32:20\",\"1970-01-01T12:06:00\",\"1970-01-01T12:06:00\",\"1970-01-01T12:06:00\"],\"y\":[\"Carrier B\",\"Carrier B\",\"Carrier B\",\"Carrier B\",null,\"Carrier B\",\"Carrier B\",\"Carrier B\",\"Carrier B\",null,\"Carrier B\",\"Carrier B\",\"Carrier B\",\"Carrier B\",null],\"type\":\"scatter\"},{\"connectgaps\":false,\"hoverinfo\":\"y+name\",\"line\":{\"color\":\"rgb(34,134,114)\",\"width\":10},\"mode\":\"lines\",\"name\":\"sailing empty:Carrier C\",\"x\":[\"1970-01-01T00:37:50\",\"1970-01-01T00:37:50\",\"1970-01-01T01:15:40\",\"1970-01-01T01:15:40\",\"1970-01-01T01:15:40\",\"1970-01-01T04:07:30\",\"1970-01-01T04:07:30\",\"1970-01-01T04:45:20\",\"1970-01-01T04:45:20\",\"1970-01-01T04:45:20\",\"1970-01-01T09:24:10\",\"1970-01-01T09:24:10\",\"1970-01-01T10:02:00\",\"1970-01-01T10:02:00\",\"1970-01-01T10:02:00\"],\"y\":[\"Carrier C\",\"Carrier C\",\"Carrier C\",\"Carrier C\",null,\"Carrier C\",\"Carrier C\",\"Carrier C\",\"Carrier C\",null,\"Carrier C\",\"Carrier C\",\"Carrier C\",\"Carrier C\",null],\"type\":\"scatter\"},{\"connectgaps\":false,\"hoverinfo\":\"y+name\",\"line\":{\"color\":\"rgb(39,139,119)\",\"width\":10},\"mode\":\"lines\",\"name\":\"loading:Carrier C\",\"x\":[\"1970-01-01T01:40:40\",\"1970-01-01T01:40:40\",\"1970-01-01T02:14:00\",\"1970-01-01T02:14:00\",\"1970-01-01T02:14:00\",\"1970-01-01T06:57:20\",\"1970-01-01T06:57:20\",\"1970-01-01T07:30:40\",\"1970-01-01T07:30:40\",\"1970-01-01T07:30:40\",\"1970-01-01T12:14:00\",\"1970-01-01T12:14:00\",\"1970-01-01T12:47:20\",\"1970-01-01T12:47:20\",\"1970-01-01T12:47:20\",\"1970-01-01T01:40:40\",\"1970-01-01T01:40:40\",\"1970-01-01T02:14:00\",\"1970-01-01T02:14:00\",\"1970-01-01T02:14:00\",\"1970-01-01T06:57:20\",\"1970-01-01T06:57:20\",\"1970-01-01T07:30:40\",\"1970-01-01T07:30:40\",\"1970-01-01T07:30:40\",\"1970-01-01T12:14:00\",\"1970-01-01T12:14:00\",\"1970-01-01T12:47:20\",\"1970-01-01T12:47:20\",\"1970-01-01T12:47:20\"],\"y\":[\"Carrier C\",\"Carrier C\",\"Carrier C\",\"Carrier C\",null,\"Carrier C\",\"Carrier C\",\"Carrier C\",\"Carrier C\",null,\"Carrier C\",\"Carrier C\",\"Carrier C\",\"Carrier C\",null,\"Cutter T\",\"Cutter T\",\"Cutter T\",\"Cutter T\",null,\"Cutter T\",\"Cutter T\",\"Cutter T\",\"Cutter T\",null,\"Cutter T\",\"Cutter T\",\"Cutter T\",\"Cutter T\",null],\"type\":\"scatter\"},{\"connectgaps\":false,\"hoverinfo\":\"y+name\",\"line\":{\"color\":\"rgb(44,144,124)\",\"width\":10},\"mode\":\"lines\",\"name\":\"unloading:Carrier C\",\"x\":[\"1970-01-01T02:51:50\",\"1970-01-01T02:51:50\",\"1970-01-01T03:29:40\",\"1970-01-01T03:29:40\",\"1970-01-01T03:29:40\",\"1970-01-01T08:08:30\",\"1970-01-01T08:08:30\",\"1970-01-01T08:46:20\",\"1970-01-01T08:46:20\",\"1970-01-01T08:46:20\",\"1970-01-01T13:25:10\",\"1970-01-01T13:25:10\",\"1970-01-01T14:03:00\",\"1970-01-01T14:03:00\",\"1970-01-01T14:03:00\"],\"y\":[\"Carrier C\",\"Carrier C\",\"Carrier C\",\"Carrier C\",null,\"Carrier C\",\"Carrier C\",\"Carrier C\",\"Carrier C\",null,\"Carrier C\",\"Carrier C\",\"Carrier C\",\"Carrier C\",null],\"type\":\"scatter\"},{\"connectgaps\":false,\"hoverinfo\":\"y+name\",\"line\":{\"color\":\"rgb(49,149,129)\",\"width\":10},\"mode\":\"lines\",\"name\":\"basic activity:Carrier C\",\"x\":[\"1970-01-01T00:00:00\",\"1970-01-01T00:00:00\",\"1970-01-01T00:37:50\",\"1970-01-01T00:37:50\",\"1970-01-01T00:37:50\",\"1970-01-01T03:29:40\",\"1970-01-01T03:29:40\",\"1970-01-01T04:07:30\",\"1970-01-01T04:07:30\",\"1970-01-01T04:07:30\",\"1970-01-01T08:46:20\",\"1970-01-01T08:46:20\",\"1970-01-01T09:24:10\",\"1970-01-01T09:24:10\",\"1970-01-01T09:24:10\"],\"y\":[\"Carrier C\",\"Carrier C\",\"Carrier C\",\"Carrier C\",null,\"Carrier C\",\"Carrier C\",\"Carrier C\",\"Carrier C\",null,\"Carrier C\",\"Carrier C\",\"Carrier C\",\"Carrier C\",null],\"type\":\"scatter\"},{\"connectgaps\":false,\"hoverinfo\":\"y+name\",\"line\":{\"color\":\"rgb(54,154,134)\",\"width\":10},\"mode\":\"lines\",\"name\":\"sailing full:Carrier C\",\"x\":[\"1970-01-01T02:14:00\",\"1970-01-01T02:14:00\",\"1970-01-01T02:51:50\",\"1970-01-01T02:51:50\",\"1970-01-01T02:51:50\",\"1970-01-01T07:30:40\",\"1970-01-01T07:30:40\",\"1970-01-01T08:08:30\",\"1970-01-01T08:08:30\",\"1970-01-01T08:08:30\",\"1970-01-01T12:47:20\",\"1970-01-01T12:47:20\",\"1970-01-01T13:25:10\",\"1970-01-01T13:25:10\",\"1970-01-01T13:25:10\"],\"y\":[\"Carrier C\",\"Carrier C\",\"Carrier C\",\"Carrier C\",null,\"Carrier C\",\"Carrier C\",\"Carrier C\",\"Carrier C\",null,\"Carrier C\",\"Carrier C\",\"Carrier C\",\"Carrier C\",null],\"type\":\"scatter\"},{\"connectgaps\":false,\"hoverinfo\":\"y+name\",\"line\":{\"color\":\"rgb(59,159,139)\",\"width\":10},\"mode\":\"lines\",\"name\":\"loading:Barge I\",\"x\":[\"1970-01-01T05:42:20\",\"1970-01-01T05:42:20\",\"1970-01-01T06:24:00\",\"1970-01-01T06:24:00\",\"1970-01-01T06:24:00\",\"1970-01-01T11:32:20\",\"1970-01-01T11:32:20\",\"1970-01-01T12:14:00\",\"1970-01-01T12:14:00\",\"1970-01-01T12:14:00\",\"1970-01-01T05:42:20\",\"1970-01-01T05:42:20\",\"1970-01-01T06:24:00\",\"1970-01-01T06:24:00\",\"1970-01-01T06:24:00\",\"1970-01-01T11:32:20\",\"1970-01-01T11:32:20\",\"1970-01-01T12:14:00\",\"1970-01-01T12:14:00\",\"1970-01-01T12:14:00\"],\"y\":[\"Barge I\",\"Barge I\",\"Barge I\",\"Barge I\",null,\"Barge I\",\"Barge I\",\"Barge I\",\"Barge I\",null,\"Cutter T\",\"Cutter T\",\"Cutter T\",\"Cutter T\",null,\"Cutter T\",\"Cutter T\",\"Cutter T\",\"Cutter T\",null],\"type\":\"scatter\"},{\"connectgaps\":false,\"hoverinfo\":\"y+name\",\"line\":{\"color\":\"rgb(64,164,144)\",\"width\":10},\"mode\":\"lines\",\"name\":\"sailing full:Barge I\",\"x\":[\"1970-01-01T06:24:00\",\"1970-01-01T06:24:00\",\"1970-01-01T07:13:01\",\"1970-01-01T07:13:01\",\"1970-01-01T07:13:01\",\"1970-01-01T12:14:00\",\"1970-01-01T12:14:00\",\"1970-01-01T13:03:01\",\"1970-01-01T13:03:01\",\"1970-01-01T13:03:01\"],\"y\":[\"Barge I\",\"Barge I\",\"Barge I\",\"Barge I\",null,\"Barge I\",\"Barge I\",\"Barge I\",\"Barge I\",null],\"type\":\"scatter\"},{\"connectgaps\":false,\"hoverinfo\":\"y+name\",\"line\":{\"color\":\"rgb(69,169,149)\",\"width\":10},\"mode\":\"lines\",\"name\":\"unloading:Barge I\",\"x\":[\"1970-01-01T07:13:01\",\"1970-01-01T07:13:01\",\"1970-01-01T08:02:02\",\"1970-01-01T08:02:02\",\"1970-01-01T08:02:02\",\"1970-01-01T13:03:01\",\"1970-01-01T13:03:01\",\"1970-01-01T13:52:02\",\"1970-01-01T13:52:02\",\"1970-01-01T13:52:02\"],\"y\":[\"Barge I\",\"Barge I\",\"Barge I\",\"Barge I\",null,\"Barge I\",\"Barge I\",\"Barge I\",\"Barge I\",null],\"type\":\"scatter\"},{\"connectgaps\":false,\"hoverinfo\":\"y+name\",\"line\":{\"color\":\"rgb(74,174,154)\",\"width\":10},\"mode\":\"lines\",\"name\":\"basic activity:Barge I\",\"x\":[\"1970-01-01T00:00:00\",\"1970-01-01T00:00:00\",\"1970-01-01T00:49:01\",\"1970-01-01T00:49:01\",\"1970-01-01T00:49:01\",\"1970-01-01T08:02:02\",\"1970-01-01T08:02:02\",\"1970-01-01T08:51:03\",\"1970-01-01T08:51:03\",\"1970-01-01T08:51:03\"],\"y\":[\"Barge I\",\"Barge I\",\"Barge I\",\"Barge I\",null,\"Barge I\",\"Barge I\",\"Barge I\",\"Barge I\",null],\"type\":\"scatter\"},{\"connectgaps\":false,\"hoverinfo\":\"y+name\",\"line\":{\"color\":\"rgb(79,179,159)\",\"width\":10},\"mode\":\"lines\",\"name\":\"sailing empty:Barge I\",\"x\":[\"1970-01-01T00:49:01\",\"1970-01-01T00:49:01\",\"1970-01-01T01:38:02\",\"1970-01-01T01:38:02\",\"1970-01-01T01:38:02\",\"1970-01-01T08:51:03\",\"1970-01-01T08:51:03\",\"1970-01-01T09:40:04\",\"1970-01-01T09:40:04\",\"1970-01-01T09:40:04\"],\"y\":[\"Barge I\",\"Barge I\",\"Barge I\",\"Barge I\",null,\"Barge I\",\"Barge I\",\"Barge I\",\"Barge I\",null],\"type\":\"scatter\"},{\"connectgaps\":false,\"hoverinfo\":\"y+name\",\"line\":{\"color\":\"rgb(84,184,164)\",\"width\":10},\"mode\":\"lines\",\"name\":\"loading:Barge II\",\"x\":[\"1970-01-01T04:19:00\",\"1970-01-01T04:19:00\",\"1970-01-01T05:00:40\",\"1970-01-01T05:00:40\",\"1970-01-01T05:00:40\",\"1970-01-01T09:35:40\",\"1970-01-01T09:35:40\",\"1970-01-01T10:17:20\",\"1970-01-01T10:17:20\",\"1970-01-01T10:17:20\",\"1970-01-01T14:52:20\",\"1970-01-01T14:52:20\",\"1970-01-01T15:34:00\",\"1970-01-01T15:34:00\",\"1970-01-01T15:34:00\",\"1970-01-01T04:19:00\",\"1970-01-01T04:19:00\",\"1970-01-01T05:00:40\",\"1970-01-01T05:00:40\",\"1970-01-01T05:00:40\",\"1970-01-01T09:35:40\",\"1970-01-01T09:35:40\",\"1970-01-01T10:17:20\",\"1970-01-01T10:17:20\",\"1970-01-01T10:17:20\",\"1970-01-01T14:52:20\",\"1970-01-01T14:52:20\",\"1970-01-01T15:34:00\",\"1970-01-01T15:34:00\",\"1970-01-01T15:34:00\"],\"y\":[\"Barge II\",\"Barge II\",\"Barge II\",\"Barge II\",null,\"Barge II\",\"Barge II\",\"Barge II\",\"Barge II\",null,\"Barge II\",\"Barge II\",\"Barge II\",\"Barge II\",null,\"Cutter T\",\"Cutter T\",\"Cutter T\",\"Cutter T\",null,\"Cutter T\",\"Cutter T\",\"Cutter T\",\"Cutter T\",null,\"Cutter T\",\"Cutter T\",\"Cutter T\",\"Cutter T\",null],\"type\":\"scatter\"},{\"connectgaps\":false,\"hoverinfo\":\"y+name\",\"line\":{\"color\":\"rgb(89,189,169)\",\"width\":10},\"mode\":\"lines\",\"name\":\"sailing full:Barge II\",\"x\":[\"1970-01-01T05:00:40\",\"1970-01-01T05:00:40\",\"1970-01-01T05:47:46\",\"1970-01-01T05:47:46\",\"1970-01-01T05:47:46\",\"1970-01-01T10:17:20\",\"1970-01-01T10:17:20\",\"1970-01-01T11:04:26\",\"1970-01-01T11:04:26\",\"1970-01-01T11:04:26\",\"1970-01-01T15:34:00\",\"1970-01-01T15:34:00\",\"1970-01-01T16:21:06\",\"1970-01-01T16:21:06\",\"1970-01-01T16:21:06\"],\"y\":[\"Barge II\",\"Barge II\",\"Barge II\",\"Barge II\",null,\"Barge II\",\"Barge II\",\"Barge II\",\"Barge II\",null,\"Barge II\",\"Barge II\",\"Barge II\",\"Barge II\",null],\"type\":\"scatter\"},{\"connectgaps\":false,\"hoverinfo\":\"y+name\",\"line\":{\"color\":\"rgb(94,194,174)\",\"width\":10},\"mode\":\"lines\",\"name\":\"sailing empty:Barge II\",\"x\":[\"1970-01-01T00:47:06\",\"1970-01-01T00:47:06\",\"1970-01-01T01:34:12\",\"1970-01-01T01:34:12\",\"1970-01-01T01:34:12\",\"1970-01-01T07:21:58\",\"1970-01-01T07:21:58\",\"1970-01-01T08:09:04\",\"1970-01-01T08:09:04\",\"1970-01-01T08:09:04\",\"1970-01-01T12:38:38\",\"1970-01-01T12:38:38\",\"1970-01-01T13:25:44\",\"1970-01-01T13:25:44\",\"1970-01-01T13:25:44\"],\"y\":[\"Barge II\",\"Barge II\",\"Barge II\",\"Barge II\",null,\"Barge II\",\"Barge II\",\"Barge II\",\"Barge II\",null,\"Barge II\",\"Barge II\",\"Barge II\",\"Barge II\",null],\"type\":\"scatter\"},{\"connectgaps\":false,\"hoverinfo\":\"y+name\",\"line\":{\"color\":\"rgb(99,199,179)\",\"width\":10},\"mode\":\"lines\",\"name\":\"basic activity:Barge II\",\"x\":[\"1970-01-01T00:00:00\",\"1970-01-01T00:00:00\",\"1970-01-01T00:47:06\",\"1970-01-01T00:47:06\",\"1970-01-01T00:47:06\",\"1970-01-01T06:34:52\",\"1970-01-01T06:34:52\",\"1970-01-01T07:21:58\",\"1970-01-01T07:21:58\",\"1970-01-01T07:21:58\",\"1970-01-01T11:51:32\",\"1970-01-01T11:51:32\",\"1970-01-01T12:38:38\",\"1970-01-01T12:38:38\",\"1970-01-01T12:38:38\"],\"y\":[\"Barge II\",\"Barge II\",\"Barge II\",\"Barge II\",null,\"Barge II\",\"Barge II\",\"Barge II\",\"Barge II\",null,\"Barge II\",\"Barge II\",\"Barge II\",\"Barge II\",null],\"type\":\"scatter\"},{\"connectgaps\":false,\"hoverinfo\":\"y+name\",\"line\":{\"color\":\"rgb(104,204,184)\",\"width\":10},\"mode\":\"lines\",\"name\":\"unloading:Barge II\",\"x\":[\"1970-01-01T05:47:46\",\"1970-01-01T05:47:46\",\"1970-01-01T06:34:52\",\"1970-01-01T06:34:52\",\"1970-01-01T06:34:52\",\"1970-01-01T11:04:26\",\"1970-01-01T11:04:26\",\"1970-01-01T11:51:32\",\"1970-01-01T11:51:32\",\"1970-01-01T11:51:32\",\"1970-01-01T16:21:06\",\"1970-01-01T16:21:06\",\"1970-01-01T17:08:12\",\"1970-01-01T17:08:12\",\"1970-01-01T17:08:12\"],\"y\":[\"Barge II\",\"Barge II\",\"Barge II\",\"Barge II\",null,\"Barge II\",\"Barge II\",\"Barge II\",\"Barge II\",null,\"Barge II\",\"Barge II\",\"Barge II\",\"Barge II\",null],\"type\":\"scatter\"},{\"connectgaps\":false,\"hoverinfo\":\"y+name\",\"line\":{\"color\":\"rgb(109,209,189)\",\"width\":10},\"mode\":\"lines\",\"name\":\"loading:Barge III\",\"x\":[\"1970-01-01T05:00:40\",\"1970-01-01T05:00:40\",\"1970-01-01T05:42:20\",\"1970-01-01T05:42:20\",\"1970-01-01T05:42:20\",\"1970-01-01T10:17:20\",\"1970-01-01T10:17:20\",\"1970-01-01T10:59:00\",\"1970-01-01T10:59:00\",\"1970-01-01T10:59:00\",\"1970-01-01T05:00:40\",\"1970-01-01T05:00:40\",\"1970-01-01T05:42:20\",\"1970-01-01T05:42:20\",\"1970-01-01T05:42:20\",\"1970-01-01T10:17:20\",\"1970-01-01T10:17:20\",\"1970-01-01T10:59:00\",\"1970-01-01T10:59:00\",\"1970-01-01T10:59:00\"],\"y\":[\"Barge III\",\"Barge III\",\"Barge III\",\"Barge III\",null,\"Barge III\",\"Barge III\",\"Barge III\",\"Barge III\",null,\"Cutter T\",\"Cutter T\",\"Cutter T\",\"Cutter T\",null,\"Cutter T\",\"Cutter T\",\"Cutter T\",\"Cutter T\",null],\"type\":\"scatter\"},{\"connectgaps\":false,\"hoverinfo\":\"y+name\",\"line\":{\"color\":\"rgb(114,214,194)\",\"width\":10},\"mode\":\"lines\",\"name\":\"unloading:Barge III\",\"x\":[\"1970-01-01T06:30:37\",\"1970-01-01T06:30:37\",\"1970-01-01T07:18:54\",\"1970-01-01T07:18:54\",\"1970-01-01T07:18:54\",\"1970-01-01T11:47:17\",\"1970-01-01T11:47:17\",\"1970-01-01T12:35:34\",\"1970-01-01T12:35:34\",\"1970-01-01T12:35:34\"],\"y\":[\"Barge III\",\"Barge III\",\"Barge III\",\"Barge III\",null,\"Barge III\",\"Barge III\",\"Barge III\",\"Barge III\",null],\"type\":\"scatter\"},{\"connectgaps\":false,\"hoverinfo\":\"y+name\",\"line\":{\"color\":\"rgb(119,219,199)\",\"width\":10},\"mode\":\"lines\",\"name\":\"sailing empty:Barge III\",\"x\":[\"1970-01-01T00:48:17\",\"1970-01-01T00:48:17\",\"1970-01-01T01:36:34\",\"1970-01-01T01:36:34\",\"1970-01-01T01:36:34\",\"1970-01-01T08:07:11\",\"1970-01-01T08:07:11\",\"1970-01-01T08:55:28\",\"1970-01-01T08:55:28\",\"1970-01-01T08:55:28\"],\"y\":[\"Barge III\",\"Barge III\",\"Barge III\",\"Barge III\",null,\"Barge III\",\"Barge III\",\"Barge III\",\"Barge III\",null],\"type\":\"scatter\"},{\"connectgaps\":false,\"hoverinfo\":\"y+name\",\"line\":{\"color\":\"rgb(124,224,204)\",\"width\":10},\"mode\":\"lines\",\"name\":\"basic activity:Barge III\",\"x\":[\"1970-01-01T00:00:00\",\"1970-01-01T00:00:00\",\"1970-01-01T00:48:17\",\"1970-01-01T00:48:17\",\"1970-01-01T00:48:17\",\"1970-01-01T07:18:54\",\"1970-01-01T07:18:54\",\"1970-01-01T08:07:11\",\"1970-01-01T08:07:11\",\"1970-01-01T08:07:11\"],\"y\":[\"Barge III\",\"Barge III\",\"Barge III\",\"Barge III\",null,\"Barge III\",\"Barge III\",\"Barge III\",\"Barge III\",null],\"type\":\"scatter\"},{\"connectgaps\":false,\"hoverinfo\":\"y+name\",\"line\":{\"color\":\"rgb(129,229,209)\",\"width\":10},\"mode\":\"lines\",\"name\":\"sailing full:Barge III\",\"x\":[\"1970-01-01T05:42:20\",\"1970-01-01T05:42:20\",\"1970-01-01T06:30:37\",\"1970-01-01T06:30:37\",\"1970-01-01T06:30:37\",\"1970-01-01T10:59:00\",\"1970-01-01T10:59:00\",\"1970-01-01T11:47:17\",\"1970-01-01T11:47:17\",\"1970-01-01T11:47:17\"],\"y\":[\"Barge III\",\"Barge III\",\"Barge III\",\"Barge III\",null,\"Barge III\",\"Barge III\",\"Barge III\",\"Barge III\",null],\"type\":\"scatter\"},{\"connectgaps\":false,\"hoverinfo\":\"y+name\",\"line\":{\"color\":\"rgb(134,234,214)\",\"width\":10},\"mode\":\"lines\",\"name\":\"loading:Extra 1\",\"x\":[\"1970-01-01T02:14:00\",\"1970-01-01T02:14:00\",\"1970-01-01T02:55:40\",\"1970-01-01T02:55:40\",\"1970-01-01T02:55:40\",\"1970-01-01T07:30:40\",\"1970-01-01T07:30:40\",\"1970-01-01T08:12:20\",\"1970-01-01T08:12:20\",\"1970-01-01T08:12:20\",\"1970-01-01T12:47:20\",\"1970-01-01T12:47:20\",\"1970-01-01T13:29:00\",\"1970-01-01T13:29:00\",\"1970-01-01T13:29:00\",\"1970-01-01T02:14:00\",\"1970-01-01T02:14:00\",\"1970-01-01T02:55:40\",\"1970-01-01T02:55:40\",\"1970-01-01T02:55:40\",\"1970-01-01T07:30:40\",\"1970-01-01T07:30:40\",\"1970-01-01T08:12:20\",\"1970-01-01T08:12:20\",\"1970-01-01T08:12:20\",\"1970-01-01T12:47:20\",\"1970-01-01T12:47:20\",\"1970-01-01T13:29:00\",\"1970-01-01T13:29:00\",\"1970-01-01T13:29:00\"],\"y\":[\"Extra 1\",\"Extra 1\",\"Extra 1\",\"Extra 1\",null,\"Extra 1\",\"Extra 1\",\"Extra 1\",\"Extra 1\",null,\"Extra 1\",\"Extra 1\",\"Extra 1\",\"Extra 1\",null,\"Cutter T\",\"Cutter T\",\"Cutter T\",\"Cutter T\",null,\"Cutter T\",\"Cutter T\",\"Cutter T\",\"Cutter T\",null,\"Cutter T\",\"Cutter T\",\"Cutter T\",\"Cutter T\",null],\"type\":\"scatter\"},{\"connectgaps\":false,\"hoverinfo\":\"y+name\",\"line\":{\"color\":\"rgb(139,239,219)\",\"width\":10},\"mode\":\"lines\",\"name\":\"sailing empty:Extra 1\",\"x\":[\"1970-01-01T00:40:35\",\"1970-01-01T00:40:35\",\"1970-01-01T01:21:10\",\"1970-01-01T01:21:10\",\"1970-01-01T01:21:10\",\"1970-01-01T04:57:25\",\"1970-01-01T04:57:25\",\"1970-01-01T05:38:00\",\"1970-01-01T05:38:00\",\"1970-01-01T05:38:00\",\"1970-01-01T10:14:05\",\"1970-01-01T10:14:05\",\"1970-01-01T10:54:40\",\"1970-01-01T10:54:40\",\"1970-01-01T10:54:40\"],\"y\":[\"Extra 1\",\"Extra 1\",\"Extra 1\",\"Extra 1\",null,\"Extra 1\",\"Extra 1\",\"Extra 1\",\"Extra 1\",null,\"Extra 1\",\"Extra 1\",\"Extra 1\",\"Extra 1\",null],\"type\":\"scatter\"},{\"connectgaps\":false,\"hoverinfo\":\"y+name\",\"line\":{\"color\":\"rgb(144,244,224)\",\"width\":10},\"mode\":\"lines\",\"name\":\"unloading:Extra 1\",\"x\":[\"1970-01-01T03:36:15\",\"1970-01-01T03:36:15\",\"1970-01-01T04:16:50\",\"1970-01-01T04:16:50\",\"1970-01-01T04:16:50\",\"1970-01-01T08:52:55\",\"1970-01-01T08:52:55\",\"1970-01-01T09:33:30\",\"1970-01-01T09:33:30\",\"1970-01-01T09:33:30\",\"1970-01-01T14:09:35\",\"1970-01-01T14:09:35\",\"1970-01-01T14:50:10\",\"1970-01-01T14:50:10\",\"1970-01-01T14:50:10\"],\"y\":[\"Extra 1\",\"Extra 1\",\"Extra 1\",\"Extra 1\",null,\"Extra 1\",\"Extra 1\",\"Extra 1\",\"Extra 1\",null,\"Extra 1\",\"Extra 1\",\"Extra 1\",\"Extra 1\",null],\"type\":\"scatter\"},{\"connectgaps\":false,\"hoverinfo\":\"y+name\",\"line\":{\"color\":\"rgb(149,249,229)\",\"width\":10},\"mode\":\"lines\",\"name\":\"sailing full:Extra 1\",\"x\":[\"1970-01-01T02:55:40\",\"1970-01-01T02:55:40\",\"1970-01-01T03:36:15\",\"1970-01-01T03:36:15\",\"1970-01-01T03:36:15\",\"1970-01-01T08:12:20\",\"1970-01-01T08:12:20\",\"1970-01-01T08:52:55\",\"1970-01-01T08:52:55\",\"1970-01-01T08:52:55\",\"1970-01-01T13:29:00\",\"1970-01-01T13:29:00\",\"1970-01-01T14:09:35\",\"1970-01-01T14:09:35\",\"1970-01-01T14:09:35\"],\"y\":[\"Extra 1\",\"Extra 1\",\"Extra 1\",\"Extra 1\",null,\"Extra 1\",\"Extra 1\",\"Extra 1\",\"Extra 1\",null,\"Extra 1\",\"Extra 1\",\"Extra 1\",\"Extra 1\",null],\"type\":\"scatter\"},{\"connectgaps\":false,\"hoverinfo\":\"y+name\",\"line\":{\"color\":\"rgb(154,254,234)\",\"width\":10},\"mode\":\"lines\",\"name\":\"basic activity:Extra 1\",\"x\":[\"1970-01-01T00:00:00\",\"1970-01-01T00:00:00\",\"1970-01-01T00:40:35\",\"1970-01-01T00:40:35\",\"1970-01-01T00:40:35\",\"1970-01-01T04:16:50\",\"1970-01-01T04:16:50\",\"1970-01-01T04:57:25\",\"1970-01-01T04:57:25\",\"1970-01-01T04:57:25\",\"1970-01-01T09:33:30\",\"1970-01-01T09:33:30\",\"1970-01-01T10:14:05\",\"1970-01-01T10:14:05\",\"1970-01-01T10:14:05\"],\"y\":[\"Extra 1\",\"Extra 1\",\"Extra 1\",\"Extra 1\",null,\"Extra 1\",\"Extra 1\",\"Extra 1\",\"Extra 1\",null,\"Extra 1\",\"Extra 1\",\"Extra 1\",\"Extra 1\",null],\"type\":\"scatter\"},{\"connectgaps\":false,\"hoverinfo\":\"y+name\",\"line\":{\"color\":\"rgb(159,3,239)\",\"width\":10},\"mode\":\"lines\",\"name\":\"sailing empty:Extra 2\",\"x\":[\"1970-01-01T00:44:48\",\"1970-01-01T00:44:48\",\"1970-01-01T01:29:36\",\"1970-01-01T01:29:36\",\"1970-01-01T01:29:36\",\"1970-01-01T05:51:44\",\"1970-01-01T05:51:44\",\"1970-01-01T06:36:32\",\"1970-01-01T06:36:32\",\"1970-01-01T06:36:32\",\"1970-01-01T11:08:24\",\"1970-01-01T11:08:24\",\"1970-01-01T11:53:12\",\"1970-01-01T11:53:12\",\"1970-01-01T11:53:12\"],\"y\":[\"Extra 2\",\"Extra 2\",\"Extra 2\",\"Extra 2\",null,\"Extra 2\",\"Extra 2\",\"Extra 2\",\"Extra 2\",null,\"Extra 2\",\"Extra 2\",\"Extra 2\",\"Extra 2\",null],\"type\":\"scatter\"},{\"connectgaps\":false,\"hoverinfo\":\"y+name\",\"line\":{\"color\":\"rgb(164,8,244)\",\"width\":10},\"mode\":\"lines\",\"name\":\"sailing full:Extra 2\",\"x\":[\"1970-01-01T03:37:20\",\"1970-01-01T03:37:20\",\"1970-01-01T04:22:08\",\"1970-01-01T04:22:08\",\"1970-01-01T04:22:08\",\"1970-01-01T08:54:00\",\"1970-01-01T08:54:00\",\"1970-01-01T09:38:48\",\"1970-01-01T09:38:48\",\"1970-01-01T09:38:48\",\"1970-01-01T14:10:40\",\"1970-01-01T14:10:40\",\"1970-01-01T14:55:28\",\"1970-01-01T14:55:28\",\"1970-01-01T14:55:28\"],\"y\":[\"Extra 2\",\"Extra 2\",\"Extra 2\",\"Extra 2\",null,\"Extra 2\",\"Extra 2\",\"Extra 2\",\"Extra 2\",null,\"Extra 2\",\"Extra 2\",\"Extra 2\",\"Extra 2\",null],\"type\":\"scatter\"},{\"connectgaps\":false,\"hoverinfo\":\"y+name\",\"line\":{\"color\":\"rgb(169,13,249)\",\"width\":10},\"mode\":\"lines\",\"name\":\"basic activity:Extra 2\",\"x\":[\"1970-01-01T00:00:00\",\"1970-01-01T00:00:00\",\"1970-01-01T00:44:48\",\"1970-01-01T00:44:48\",\"1970-01-01T00:44:48\",\"1970-01-01T05:06:56\",\"1970-01-01T05:06:56\",\"1970-01-01T05:51:44\",\"1970-01-01T05:51:44\",\"1970-01-01T05:51:44\",\"1970-01-01T10:23:36\",\"1970-01-01T10:23:36\",\"1970-01-01T11:08:24\",\"1970-01-01T11:08:24\",\"1970-01-01T11:08:24\"],\"y\":[\"Extra 2\",\"Extra 2\",\"Extra 2\",\"Extra 2\",null,\"Extra 2\",\"Extra 2\",\"Extra 2\",\"Extra 2\",null,\"Extra 2\",\"Extra 2\",\"Extra 2\",\"Extra 2\",null],\"type\":\"scatter\"},{\"connectgaps\":false,\"hoverinfo\":\"y+name\",\"line\":{\"color\":\"rgb(174,18,254)\",\"width\":10},\"mode\":\"lines\",\"name\":\"unloading:Extra 2\",\"x\":[\"1970-01-01T04:22:08\",\"1970-01-01T04:22:08\",\"1970-01-01T05:06:56\",\"1970-01-01T05:06:56\",\"1970-01-01T05:06:56\",\"1970-01-01T09:38:48\",\"1970-01-01T09:38:48\",\"1970-01-01T10:23:36\",\"1970-01-01T10:23:36\",\"1970-01-01T10:23:36\",\"1970-01-01T14:55:28\",\"1970-01-01T14:55:28\",\"1970-01-01T15:40:16\",\"1970-01-01T15:40:16\",\"1970-01-01T15:40:16\"],\"y\":[\"Extra 2\",\"Extra 2\",\"Extra 2\",\"Extra 2\",null,\"Extra 2\",\"Extra 2\",\"Extra 2\",\"Extra 2\",null,\"Extra 2\",\"Extra 2\",\"Extra 2\",\"Extra 2\",null],\"type\":\"scatter\"},{\"connectgaps\":false,\"hoverinfo\":\"y+name\",\"line\":{\"color\":\"rgb(179,23,3)\",\"width\":10},\"mode\":\"lines\",\"name\":\"loading:Extra 2\",\"x\":[\"1970-01-01T02:55:40\",\"1970-01-01T02:55:40\",\"1970-01-01T03:37:20\",\"1970-01-01T03:37:20\",\"1970-01-01T03:37:20\",\"1970-01-01T08:12:20\",\"1970-01-01T08:12:20\",\"1970-01-01T08:54:00\",\"1970-01-01T08:54:00\",\"1970-01-01T08:54:00\",\"1970-01-01T13:29:00\",\"1970-01-01T13:29:00\",\"1970-01-01T14:10:40\",\"1970-01-01T14:10:40\",\"1970-01-01T14:10:40\",\"1970-01-01T02:55:40\",\"1970-01-01T02:55:40\",\"1970-01-01T03:37:20\",\"1970-01-01T03:37:20\",\"1970-01-01T03:37:20\",\"1970-01-01T08:12:20\",\"1970-01-01T08:12:20\",\"1970-01-01T08:54:00\",\"1970-01-01T08:54:00\",\"1970-01-01T08:54:00\",\"1970-01-01T13:29:00\",\"1970-01-01T13:29:00\",\"1970-01-01T14:10:40\",\"1970-01-01T14:10:40\",\"1970-01-01T14:10:40\"],\"y\":[\"Extra 2\",\"Extra 2\",\"Extra 2\",\"Extra 2\",null,\"Extra 2\",\"Extra 2\",\"Extra 2\",\"Extra 2\",null,\"Extra 2\",\"Extra 2\",\"Extra 2\",\"Extra 2\",null,\"Cutter T\",\"Cutter T\",\"Cutter T\",\"Cutter T\",null,\"Cutter T\",\"Cutter T\",\"Cutter T\",\"Cutter T\",null,\"Cutter T\",\"Cutter T\",\"Cutter T\",\"Cutter T\",null],\"type\":\"scatter\"},{\"connectgaps\":false,\"hoverinfo\":\"y+name\",\"line\":{\"color\":\"rgb(184,28,8)\",\"width\":10},\"mode\":\"lines\",\"name\":\"loading:Barge I\",\"x\":[\"1970-01-01T05:42:20\",\"1970-01-01T05:42:20\",\"1970-01-01T06:24:00\",\"1970-01-01T06:24:00\",\"1970-01-01T06:24:00\",\"1970-01-01T11:32:20\",\"1970-01-01T11:32:20\",\"1970-01-01T12:14:00\",\"1970-01-01T12:14:00\",\"1970-01-01T12:14:00\",\"1970-01-01T05:42:20\",\"1970-01-01T05:42:20\",\"1970-01-01T06:24:00\",\"1970-01-01T06:24:00\",\"1970-01-01T06:24:00\",\"1970-01-01T11:32:20\",\"1970-01-01T11:32:20\",\"1970-01-01T12:14:00\",\"1970-01-01T12:14:00\",\"1970-01-01T12:14:00\"],\"y\":[\"Barge I\",\"Barge I\",\"Barge I\",\"Barge I\",null,\"Barge I\",\"Barge I\",\"Barge I\",\"Barge I\",null,\"Cutter T\",\"Cutter T\",\"Cutter T\",\"Cutter T\",null,\"Cutter T\",\"Cutter T\",\"Cutter T\",\"Cutter T\",null],\"type\":\"scatter\"},{\"connectgaps\":false,\"hoverinfo\":\"y+name\",\"line\":{\"color\":\"rgb(189,33,13)\",\"width\":10},\"mode\":\"lines\",\"name\":\"loading:Extra 1\",\"x\":[\"1970-01-01T02:14:00\",\"1970-01-01T02:14:00\",\"1970-01-01T02:55:40\",\"1970-01-01T02:55:40\",\"1970-01-01T02:55:40\",\"1970-01-01T07:30:40\",\"1970-01-01T07:30:40\",\"1970-01-01T08:12:20\",\"1970-01-01T08:12:20\",\"1970-01-01T08:12:20\",\"1970-01-01T12:47:20\",\"1970-01-01T12:47:20\",\"1970-01-01T13:29:00\",\"1970-01-01T13:29:00\",\"1970-01-01T13:29:00\",\"1970-01-01T02:14:00\",\"1970-01-01T02:14:00\",\"1970-01-01T02:55:40\",\"1970-01-01T02:55:40\",\"1970-01-01T02:55:40\",\"1970-01-01T07:30:40\",\"1970-01-01T07:30:40\",\"1970-01-01T08:12:20\",\"1970-01-01T08:12:20\",\"1970-01-01T08:12:20\",\"1970-01-01T12:47:20\",\"1970-01-01T12:47:20\",\"1970-01-01T13:29:00\",\"1970-01-01T13:29:00\",\"1970-01-01T13:29:00\"],\"y\":[\"Extra 1\",\"Extra 1\",\"Extra 1\",\"Extra 1\",null,\"Extra 1\",\"Extra 1\",\"Extra 1\",\"Extra 1\",null,\"Extra 1\",\"Extra 1\",\"Extra 1\",\"Extra 1\",null,\"Cutter T\",\"Cutter T\",\"Cutter T\",\"Cutter T\",null,\"Cutter T\",\"Cutter T\",\"Cutter T\",\"Cutter T\",null,\"Cutter T\",\"Cutter T\",\"Cutter T\",\"Cutter T\",null],\"type\":\"scatter\"},{\"connectgaps\":false,\"hoverinfo\":\"y+name\",\"line\":{\"color\":\"rgb(194,38,18)\",\"width\":10},\"mode\":\"lines\",\"name\":\"loading:Carrier C\",\"x\":[\"1970-01-01T01:40:40\",\"1970-01-01T01:40:40\",\"1970-01-01T02:14:00\",\"1970-01-01T02:14:00\",\"1970-01-01T02:14:00\",\"1970-01-01T06:57:20\",\"1970-01-01T06:57:20\",\"1970-01-01T07:30:40\",\"1970-01-01T07:30:40\",\"1970-01-01T07:30:40\",\"1970-01-01T12:14:00\",\"1970-01-01T12:14:00\",\"1970-01-01T12:47:20\",\"1970-01-01T12:47:20\",\"1970-01-01T12:47:20\",\"1970-01-01T01:40:40\",\"1970-01-01T01:40:40\",\"1970-01-01T02:14:00\",\"1970-01-01T02:14:00\",\"1970-01-01T02:14:00\",\"1970-01-01T06:57:20\",\"1970-01-01T06:57:20\",\"1970-01-01T07:30:40\",\"1970-01-01T07:30:40\",\"1970-01-01T07:30:40\",\"1970-01-01T12:14:00\",\"1970-01-01T12:14:00\",\"1970-01-01T12:47:20\",\"1970-01-01T12:47:20\",\"1970-01-01T12:47:20\"],\"y\":[\"Carrier C\",\"Carrier C\",\"Carrier C\",\"Carrier C\",null,\"Carrier C\",\"Carrier C\",\"Carrier C\",\"Carrier C\",null,\"Carrier C\",\"Carrier C\",\"Carrier C\",\"Carrier C\",null,\"Cutter T\",\"Cutter T\",\"Cutter T\",\"Cutter T\",null,\"Cutter T\",\"Cutter T\",\"Cutter T\",\"Cutter T\",null,\"Cutter T\",\"Cutter T\",\"Cutter T\",\"Cutter T\",null],\"type\":\"scatter\"},{\"connectgaps\":false,\"hoverinfo\":\"y+name\",\"line\":{\"color\":\"rgb(199,43,23)\",\"width\":10},\"mode\":\"lines\",\"name\":\"loading:Carrier A\",\"x\":[\"1970-01-01T03:37:20\",\"1970-01-01T03:37:20\",\"1970-01-01T04:19:00\",\"1970-01-01T04:19:00\",\"1970-01-01T04:19:00\",\"1970-01-01T08:54:00\",\"1970-01-01T08:54:00\",\"1970-01-01T09:35:40\",\"1970-01-01T09:35:40\",\"1970-01-01T09:35:40\",\"1970-01-01T14:10:40\",\"1970-01-01T14:10:40\",\"1970-01-01T14:52:20\",\"1970-01-01T14:52:20\",\"1970-01-01T14:52:20\",\"1970-01-01T03:37:20\",\"1970-01-01T03:37:20\",\"1970-01-01T04:19:00\",\"1970-01-01T04:19:00\",\"1970-01-01T04:19:00\",\"1970-01-01T08:54:00\",\"1970-01-01T08:54:00\",\"1970-01-01T09:35:40\",\"1970-01-01T09:35:40\",\"1970-01-01T09:35:40\",\"1970-01-01T14:10:40\",\"1970-01-01T14:10:40\",\"1970-01-01T14:52:20\",\"1970-01-01T14:52:20\",\"1970-01-01T14:52:20\"],\"y\":[\"Carrier A\",\"Carrier A\",\"Carrier A\",\"Carrier A\",null,\"Carrier A\",\"Carrier A\",\"Carrier A\",\"Carrier A\",null,\"Carrier A\",\"Carrier A\",\"Carrier A\",\"Carrier A\",null,\"Cutter T\",\"Cutter T\",\"Cutter T\",\"Cutter T\",null,\"Cutter T\",\"Cutter T\",\"Cutter T\",\"Cutter T\",null,\"Cutter T\",\"Cutter T\",\"Cutter T\",\"Cutter T\",null],\"type\":\"scatter\"},{\"connectgaps\":false,\"hoverinfo\":\"y+name\",\"line\":{\"color\":\"rgb(204,48,28)\",\"width\":10},\"mode\":\"lines\",\"name\":\"loading:Barge II\",\"x\":[\"1970-01-01T04:19:00\",\"1970-01-01T04:19:00\",\"1970-01-01T05:00:40\",\"1970-01-01T05:00:40\",\"1970-01-01T05:00:40\",\"1970-01-01T09:35:40\",\"1970-01-01T09:35:40\",\"1970-01-01T10:17:20\",\"1970-01-01T10:17:20\",\"1970-01-01T10:17:20\",\"1970-01-01T14:52:20\",\"1970-01-01T14:52:20\",\"1970-01-01T15:34:00\",\"1970-01-01T15:34:00\",\"1970-01-01T15:34:00\",\"1970-01-01T04:19:00\",\"1970-01-01T04:19:00\",\"1970-01-01T05:00:40\",\"1970-01-01T05:00:40\",\"1970-01-01T05:00:40\",\"1970-01-01T09:35:40\",\"1970-01-01T09:35:40\",\"1970-01-01T10:17:20\",\"1970-01-01T10:17:20\",\"1970-01-01T10:17:20\",\"1970-01-01T14:52:20\",\"1970-01-01T14:52:20\",\"1970-01-01T15:34:00\",\"1970-01-01T15:34:00\",\"1970-01-01T15:34:00\"],\"y\":[\"Barge II\",\"Barge II\",\"Barge II\",\"Barge II\",null,\"Barge II\",\"Barge II\",\"Barge II\",\"Barge II\",null,\"Barge II\",\"Barge II\",\"Barge II\",\"Barge II\",null,\"Cutter T\",\"Cutter T\",\"Cutter T\",\"Cutter T\",null,\"Cutter T\",\"Cutter T\",\"Cutter T\",\"Cutter T\",null,\"Cutter T\",\"Cutter T\",\"Cutter T\",\"Cutter T\",null],\"type\":\"scatter\"},{\"connectgaps\":false,\"hoverinfo\":\"y+name\",\"line\":{\"color\":\"rgb(209,53,33)\",\"width\":10},\"mode\":\"lines\",\"name\":\"loading:Barge III\",\"x\":[\"1970-01-01T05:00:40\",\"1970-01-01T05:00:40\",\"1970-01-01T05:42:20\",\"1970-01-01T05:42:20\",\"1970-01-01T05:42:20\",\"1970-01-01T10:17:20\",\"1970-01-01T10:17:20\",\"1970-01-01T10:59:00\",\"1970-01-01T10:59:00\",\"1970-01-01T10:59:00\",\"1970-01-01T05:00:40\",\"1970-01-01T05:00:40\",\"1970-01-01T05:42:20\",\"1970-01-01T05:42:20\",\"1970-01-01T05:42:20\",\"1970-01-01T10:17:20\",\"1970-01-01T10:17:20\",\"1970-01-01T10:59:00\",\"1970-01-01T10:59:00\",\"1970-01-01T10:59:00\"],\"y\":[\"Barge III\",\"Barge III\",\"Barge III\",\"Barge III\",null,\"Barge III\",\"Barge III\",\"Barge III\",\"Barge III\",null,\"Cutter T\",\"Cutter T\",\"Cutter T\",\"Cutter T\",null,\"Cutter T\",\"Cutter T\",\"Cutter T\",\"Cutter T\",null],\"type\":\"scatter\"},{\"connectgaps\":false,\"hoverinfo\":\"y+name\",\"line\":{\"color\":\"rgb(214,58,38)\",\"width\":10},\"mode\":\"lines\",\"name\":\"loading:Carrier B\",\"x\":[\"1970-01-01T01:07:20\",\"1970-01-01T01:07:20\",\"1970-01-01T01:40:40\",\"1970-01-01T01:40:40\",\"1970-01-01T01:40:40\",\"1970-01-01T06:24:00\",\"1970-01-01T06:24:00\",\"1970-01-01T06:57:20\",\"1970-01-01T06:57:20\",\"1970-01-01T06:57:20\",\"1970-01-01T10:59:00\",\"1970-01-01T10:59:00\",\"1970-01-01T11:32:20\",\"1970-01-01T11:32:20\",\"1970-01-01T11:32:20\",\"1970-01-01T01:07:20\",\"1970-01-01T01:07:20\",\"1970-01-01T01:40:40\",\"1970-01-01T01:40:40\",\"1970-01-01T01:40:40\",\"1970-01-01T06:24:00\",\"1970-01-01T06:24:00\",\"1970-01-01T06:57:20\",\"1970-01-01T06:57:20\",\"1970-01-01T06:57:20\",\"1970-01-01T10:59:00\",\"1970-01-01T10:59:00\",\"1970-01-01T11:32:20\",\"1970-01-01T11:32:20\",\"1970-01-01T11:32:20\"],\"y\":[\"Carrier B\",\"Carrier B\",\"Carrier B\",\"Carrier B\",null,\"Carrier B\",\"Carrier B\",\"Carrier B\",\"Carrier B\",null,\"Carrier B\",\"Carrier B\",\"Carrier B\",\"Carrier B\",null,\"Cutter T\",\"Cutter T\",\"Cutter T\",\"Cutter T\",null,\"Cutter T\",\"Cutter T\",\"Cutter T\",\"Cutter T\",null,\"Cutter T\",\"Cutter T\",\"Cutter T\",\"Cutter T\",null],\"type\":\"scatter\"},{\"connectgaps\":false,\"hoverinfo\":\"y+name\",\"line\":{\"color\":\"rgb(219,63,43)\",\"width\":10},\"mode\":\"lines\",\"name\":\"loading:Extra 2\",\"x\":[\"1970-01-01T02:55:40\",\"1970-01-01T02:55:40\",\"1970-01-01T03:37:20\",\"1970-01-01T03:37:20\",\"1970-01-01T03:37:20\",\"1970-01-01T08:12:20\",\"1970-01-01T08:12:20\",\"1970-01-01T08:54:00\",\"1970-01-01T08:54:00\",\"1970-01-01T08:54:00\",\"1970-01-01T13:29:00\",\"1970-01-01T13:29:00\",\"1970-01-01T14:10:40\",\"1970-01-01T14:10:40\",\"1970-01-01T14:10:40\",\"1970-01-01T02:55:40\",\"1970-01-01T02:55:40\",\"1970-01-01T03:37:20\",\"1970-01-01T03:37:20\",\"1970-01-01T03:37:20\",\"1970-01-01T08:12:20\",\"1970-01-01T08:12:20\",\"1970-01-01T08:54:00\",\"1970-01-01T08:54:00\",\"1970-01-01T08:54:00\",\"1970-01-01T13:29:00\",\"1970-01-01T13:29:00\",\"1970-01-01T14:10:40\",\"1970-01-01T14:10:40\",\"1970-01-01T14:10:40\"],\"y\":[\"Extra 2\",\"Extra 2\",\"Extra 2\",\"Extra 2\",null,\"Extra 2\",\"Extra 2\",\"Extra 2\",\"Extra 2\",null,\"Extra 2\",\"Extra 2\",\"Extra 2\",\"Extra 2\",null,\"Cutter T\",\"Cutter T\",\"Cutter T\",\"Cutter T\",null,\"Cutter T\",\"Cutter T\",\"Cutter T\",\"Cutter T\",null,\"Cutter T\",\"Cutter T\",\"Cutter T\",\"Cutter T\",null],\"type\":\"scatter\"}],                        {\"hovermode\":\"closest\",\"legend\":{\"orientation\":\"h\",\"x\":0,\"y\":-0.2},\"template\":{\"data\":{\"barpolar\":[{\"marker\":{\"line\":{\"color\":\"#E5ECF6\",\"width\":0.5},\"pattern\":{\"fillmode\":\"overlay\",\"size\":10,\"solidity\":0.2}},\"type\":\"barpolar\"}],\"bar\":[{\"error_x\":{\"color\":\"#2a3f5f\"},\"error_y\":{\"color\":\"#2a3f5f\"},\"marker\":{\"line\":{\"color\":\"#E5ECF6\",\"width\":0.5},\"pattern\":{\"fillmode\":\"overlay\",\"size\":10,\"solidity\":0.2}},\"type\":\"bar\"}],\"carpet\":[{\"aaxis\":{\"endlinecolor\":\"#2a3f5f\",\"gridcolor\":\"white\",\"linecolor\":\"white\",\"minorgridcolor\":\"white\",\"startlinecolor\":\"#2a3f5f\"},\"baxis\":{\"endlinecolor\":\"#2a3f5f\",\"gridcolor\":\"white\",\"linecolor\":\"white\",\"minorgridcolor\":\"white\",\"startlinecolor\":\"#2a3f5f\"},\"type\":\"carpet\"}],\"choropleth\":[{\"colorbar\":{\"outlinewidth\":0,\"ticks\":\"\"},\"type\":\"choropleth\"}],\"contourcarpet\":[{\"colorbar\":{\"outlinewidth\":0,\"ticks\":\"\"},\"type\":\"contourcarpet\"}],\"contour\":[{\"colorbar\":{\"outlinewidth\":0,\"ticks\":\"\"},\"colorscale\":[[0.0,\"#0d0887\"],[0.1111111111111111,\"#46039f\"],[0.2222222222222222,\"#7201a8\"],[0.3333333333333333,\"#9c179e\"],[0.4444444444444444,\"#bd3786\"],[0.5555555555555556,\"#d8576b\"],[0.6666666666666666,\"#ed7953\"],[0.7777777777777778,\"#fb9f3a\"],[0.8888888888888888,\"#fdca26\"],[1.0,\"#f0f921\"]],\"type\":\"contour\"}],\"heatmapgl\":[{\"colorbar\":{\"outlinewidth\":0,\"ticks\":\"\"},\"colorscale\":[[0.0,\"#0d0887\"],[0.1111111111111111,\"#46039f\"],[0.2222222222222222,\"#7201a8\"],[0.3333333333333333,\"#9c179e\"],[0.4444444444444444,\"#bd3786\"],[0.5555555555555556,\"#d8576b\"],[0.6666666666666666,\"#ed7953\"],[0.7777777777777778,\"#fb9f3a\"],[0.8888888888888888,\"#fdca26\"],[1.0,\"#f0f921\"]],\"type\":\"heatmapgl\"}],\"heatmap\":[{\"colorbar\":{\"outlinewidth\":0,\"ticks\":\"\"},\"colorscale\":[[0.0,\"#0d0887\"],[0.1111111111111111,\"#46039f\"],[0.2222222222222222,\"#7201a8\"],[0.3333333333333333,\"#9c179e\"],[0.4444444444444444,\"#bd3786\"],[0.5555555555555556,\"#d8576b\"],[0.6666666666666666,\"#ed7953\"],[0.7777777777777778,\"#fb9f3a\"],[0.8888888888888888,\"#fdca26\"],[1.0,\"#f0f921\"]],\"type\":\"heatmap\"}],\"histogram2dcontour\":[{\"colorbar\":{\"outlinewidth\":0,\"ticks\":\"\"},\"colorscale\":[[0.0,\"#0d0887\"],[0.1111111111111111,\"#46039f\"],[0.2222222222222222,\"#7201a8\"],[0.3333333333333333,\"#9c179e\"],[0.4444444444444444,\"#bd3786\"],[0.5555555555555556,\"#d8576b\"],[0.6666666666666666,\"#ed7953\"],[0.7777777777777778,\"#fb9f3a\"],[0.8888888888888888,\"#fdca26\"],[1.0,\"#f0f921\"]],\"type\":\"histogram2dcontour\"}],\"histogram2d\":[{\"colorbar\":{\"outlinewidth\":0,\"ticks\":\"\"},\"colorscale\":[[0.0,\"#0d0887\"],[0.1111111111111111,\"#46039f\"],[0.2222222222222222,\"#7201a8\"],[0.3333333333333333,\"#9c179e\"],[0.4444444444444444,\"#bd3786\"],[0.5555555555555556,\"#d8576b\"],[0.6666666666666666,\"#ed7953\"],[0.7777777777777778,\"#fb9f3a\"],[0.8888888888888888,\"#fdca26\"],[1.0,\"#f0f921\"]],\"type\":\"histogram2d\"}],\"histogram\":[{\"marker\":{\"pattern\":{\"fillmode\":\"overlay\",\"size\":10,\"solidity\":0.2}},\"type\":\"histogram\"}],\"mesh3d\":[{\"colorbar\":{\"outlinewidth\":0,\"ticks\":\"\"},\"type\":\"mesh3d\"}],\"parcoords\":[{\"line\":{\"colorbar\":{\"outlinewidth\":0,\"ticks\":\"\"}},\"type\":\"parcoords\"}],\"pie\":[{\"automargin\":true,\"type\":\"pie\"}],\"scatter3d\":[{\"line\":{\"colorbar\":{\"outlinewidth\":0,\"ticks\":\"\"}},\"marker\":{\"colorbar\":{\"outlinewidth\":0,\"ticks\":\"\"}},\"type\":\"scatter3d\"}],\"scattercarpet\":[{\"marker\":{\"colorbar\":{\"outlinewidth\":0,\"ticks\":\"\"}},\"type\":\"scattercarpet\"}],\"scattergeo\":[{\"marker\":{\"colorbar\":{\"outlinewidth\":0,\"ticks\":\"\"}},\"type\":\"scattergeo\"}],\"scattergl\":[{\"marker\":{\"colorbar\":{\"outlinewidth\":0,\"ticks\":\"\"}},\"type\":\"scattergl\"}],\"scattermapbox\":[{\"marker\":{\"colorbar\":{\"outlinewidth\":0,\"ticks\":\"\"}},\"type\":\"scattermapbox\"}],\"scatterpolargl\":[{\"marker\":{\"colorbar\":{\"outlinewidth\":0,\"ticks\":\"\"}},\"type\":\"scatterpolargl\"}],\"scatterpolar\":[{\"marker\":{\"colorbar\":{\"outlinewidth\":0,\"ticks\":\"\"}},\"type\":\"scatterpolar\"}],\"scatter\":[{\"fillpattern\":{\"fillmode\":\"overlay\",\"size\":10,\"solidity\":0.2},\"type\":\"scatter\"}],\"scatterternary\":[{\"marker\":{\"colorbar\":{\"outlinewidth\":0,\"ticks\":\"\"}},\"type\":\"scatterternary\"}],\"surface\":[{\"colorbar\":{\"outlinewidth\":0,\"ticks\":\"\"},\"colorscale\":[[0.0,\"#0d0887\"],[0.1111111111111111,\"#46039f\"],[0.2222222222222222,\"#7201a8\"],[0.3333333333333333,\"#9c179e\"],[0.4444444444444444,\"#bd3786\"],[0.5555555555555556,\"#d8576b\"],[0.6666666666666666,\"#ed7953\"],[0.7777777777777778,\"#fb9f3a\"],[0.8888888888888888,\"#fdca26\"],[1.0,\"#f0f921\"]],\"type\":\"surface\"}],\"table\":[{\"cells\":{\"fill\":{\"color\":\"#EBF0F8\"},\"line\":{\"color\":\"white\"}},\"header\":{\"fill\":{\"color\":\"#C8D4E3\"},\"line\":{\"color\":\"white\"}},\"type\":\"table\"}]},\"layout\":{\"annotationdefaults\":{\"arrowcolor\":\"#2a3f5f\",\"arrowhead\":0,\"arrowwidth\":1},\"autotypenumbers\":\"strict\",\"coloraxis\":{\"colorbar\":{\"outlinewidth\":0,\"ticks\":\"\"}},\"colorscale\":{\"diverging\":[[0,\"#8e0152\"],[0.1,\"#c51b7d\"],[0.2,\"#de77ae\"],[0.3,\"#f1b6da\"],[0.4,\"#fde0ef\"],[0.5,\"#f7f7f7\"],[0.6,\"#e6f5d0\"],[0.7,\"#b8e186\"],[0.8,\"#7fbc41\"],[0.9,\"#4d9221\"],[1,\"#276419\"]],\"sequential\":[[0.0,\"#0d0887\"],[0.1111111111111111,\"#46039f\"],[0.2222222222222222,\"#7201a8\"],[0.3333333333333333,\"#9c179e\"],[0.4444444444444444,\"#bd3786\"],[0.5555555555555556,\"#d8576b\"],[0.6666666666666666,\"#ed7953\"],[0.7777777777777778,\"#fb9f3a\"],[0.8888888888888888,\"#fdca26\"],[1.0,\"#f0f921\"]],\"sequentialminus\":[[0.0,\"#0d0887\"],[0.1111111111111111,\"#46039f\"],[0.2222222222222222,\"#7201a8\"],[0.3333333333333333,\"#9c179e\"],[0.4444444444444444,\"#bd3786\"],[0.5555555555555556,\"#d8576b\"],[0.6666666666666666,\"#ed7953\"],[0.7777777777777778,\"#fb9f3a\"],[0.8888888888888888,\"#fdca26\"],[1.0,\"#f0f921\"]]},\"colorway\":[\"#636efa\",\"#EF553B\",\"#00cc96\",\"#ab63fa\",\"#FFA15A\",\"#19d3f3\",\"#FF6692\",\"#B6E880\",\"#FF97FF\",\"#FECB52\"],\"font\":{\"color\":\"#2a3f5f\"},\"geo\":{\"bgcolor\":\"white\",\"lakecolor\":\"white\",\"landcolor\":\"#E5ECF6\",\"showlakes\":true,\"showland\":true,\"subunitcolor\":\"white\"},\"hoverlabel\":{\"align\":\"left\"},\"hovermode\":\"closest\",\"mapbox\":{\"style\":\"light\"},\"paper_bgcolor\":\"white\",\"plot_bgcolor\":\"#E5ECF6\",\"polar\":{\"angularaxis\":{\"gridcolor\":\"white\",\"linecolor\":\"white\",\"ticks\":\"\"},\"bgcolor\":\"#E5ECF6\",\"radialaxis\":{\"gridcolor\":\"white\",\"linecolor\":\"white\",\"ticks\":\"\"}},\"scene\":{\"xaxis\":{\"backgroundcolor\":\"#E5ECF6\",\"gridcolor\":\"white\",\"gridwidth\":2,\"linecolor\":\"white\",\"showbackground\":true,\"ticks\":\"\",\"zerolinecolor\":\"white\"},\"yaxis\":{\"backgroundcolor\":\"#E5ECF6\",\"gridcolor\":\"white\",\"gridwidth\":2,\"linecolor\":\"white\",\"showbackground\":true,\"ticks\":\"\",\"zerolinecolor\":\"white\"},\"zaxis\":{\"backgroundcolor\":\"#E5ECF6\",\"gridcolor\":\"white\",\"gridwidth\":2,\"linecolor\":\"white\",\"showbackground\":true,\"ticks\":\"\",\"zerolinecolor\":\"white\"}},\"shapedefaults\":{\"line\":{\"color\":\"#2a3f5f\"}},\"ternary\":{\"aaxis\":{\"gridcolor\":\"white\",\"linecolor\":\"white\",\"ticks\":\"\"},\"baxis\":{\"gridcolor\":\"white\",\"linecolor\":\"white\",\"ticks\":\"\"},\"bgcolor\":\"#E5ECF6\",\"caxis\":{\"gridcolor\":\"white\",\"linecolor\":\"white\",\"ticks\":\"\"}},\"title\":{\"x\":0.05},\"xaxis\":{\"automargin\":true,\"gridcolor\":\"white\",\"linecolor\":\"white\",\"ticks\":\"\",\"title\":{\"standoff\":15},\"zerolinecolor\":\"white\",\"zerolinewidth\":2},\"yaxis\":{\"automargin\":true,\"gridcolor\":\"white\",\"linecolor\":\"white\",\"ticks\":\"\",\"title\":{\"standoff\":15},\"zerolinecolor\":\"white\",\"zerolinewidth\":2}}},\"title\":{\"text\":\"GANTT Chart\"},\"xaxis\":{\"range\":[\"1970-01-01T00:00:00\",\"1970-01-01T17:08:12\"],\"title\":{\"font\":{\"color\":\"#7f7f7f\",\"family\":\"Courier New, monospace\",\"size\":18},\"text\":\"Time\"}},\"yaxis\":{\"title\":{\"font\":{\"color\":\"#7f7f7f\",\"family\":\"Courier New, monospace\",\"size\":18},\"text\":\"Activities\"}}},                        {\"responsive\": true}                    ).then(function(){\n",
       "                            \n",
       "var gd = document.getElementById('bead9491-800f-48c4-92e7-459960e66b55');\n",
       "var x = new MutationObserver(function (mutations, observer) {{\n",
       "        var display = window.getComputedStyle(gd).display;\n",
       "        if (!display || display === 'none') {{\n",
       "            console.log([gd, 'removed!']);\n",
       "            Plotly.purge(gd);\n",
       "            observer.disconnect();\n",
       "        }}\n",
       "}});\n",
       "\n",
       "// Listen for the removal of the full notebook cells\n",
       "var notebookContainer = gd.closest('#notebook-container');\n",
       "if (notebookContainer) {{\n",
       "    x.observe(notebookContainer, {childList: true});\n",
       "}}\n",
       "\n",
       "// Listen for the clearing of the current output cell\n",
       "var outputEl = gd.closest('.output');\n",
       "if (outputEl) {{\n",
       "    x.observe(outputEl, {childList: true});\n",
       "}}\n",
       "\n",
       "                        })                };                });            </script>        </div>"
      ]
     },
     "metadata": {},
     "output_type": "display_data"
    }
   ],
   "source": [
    "fig = get_gantt_chart(vessels, id_map=activities)\n"
   ]
  },
  {
   "cell_type": "code",
   "execution_count": 16,
   "id": "b7331bd0",
   "metadata": {},
   "outputs": [
    {
     "data": {
      "text/html": [
       "        <script type=\"text/javascript\">\n",
       "        window.PlotlyConfig = {MathJaxConfig: 'local'};\n",
       "        if (window.MathJax && window.MathJax.Hub && window.MathJax.Hub.Config) {window.MathJax.Hub.Config({SVG: {font: \"STIX-Web\"}});}\n",
       "        if (typeof require !== 'undefined') {\n",
       "        require.undef(\"plotly\");\n",
       "        requirejs.config({\n",
       "            paths: {\n",
       "                'plotly': ['https://cdn.plot.ly/plotly-2.18.2.min']\n",
       "            }\n",
       "        });\n",
       "        require(['plotly'], function(Plotly) {\n",
       "            window._Plotly = Plotly;\n",
       "        });\n",
       "        }\n",
       "        </script>\n",
       "        "
      ]
     },
     "metadata": {},
     "output_type": "display_data"
    },
    {
     "data": {
      "application/vnd.plotly.v1+json": {
       "config": {
        "linkText": "Export to plot.ly",
        "plotlyServerURL": "https://plot.ly",
        "showLink": false
       },
       "data": [
        {
         "connectgaps": false,
         "hoverinfo": "y+name",
         "line": {
          "color": "rgb(112,25,125)",
          "width": 10
         },
         "mode": "lines",
         "name": "loading:Barge II",
         "type": "scatter",
         "x": [
          "1970-01-01T01:49:26",
          "1970-01-01T01:49:26",
          "1970-01-01T02:22:46",
          "1970-01-01T02:22:46",
          "1970-01-01T02:22:46",
          "1970-01-01T06:49:26",
          "1970-01-01T06:49:26",
          "1970-01-01T07:22:46",
          "1970-01-01T07:22:46",
          "1970-01-01T07:22:46",
          "1970-01-01T11:49:26",
          "1970-01-01T11:49:26",
          "1970-01-01T12:22:46",
          "1970-01-01T12:22:46",
          "1970-01-01T12:22:46",
          "1970-01-01T01:49:26",
          "1970-01-01T01:49:26",
          "1970-01-01T02:22:46",
          "1970-01-01T02:22:46",
          "1970-01-01T02:22:46",
          "1970-01-01T06:49:26",
          "1970-01-01T06:49:26",
          "1970-01-01T07:22:46",
          "1970-01-01T07:22:46",
          "1970-01-01T07:22:46",
          "1970-01-01T11:49:26",
          "1970-01-01T11:49:26",
          "1970-01-01T12:22:46",
          "1970-01-01T12:22:46",
          "1970-01-01T12:22:46"
         ],
         "y": [
          "Trench",
          "Trench",
          "Trench",
          "Trench",
          null,
          "Trench",
          "Trench",
          "Trench",
          "Trench",
          null,
          "Trench",
          "Trench",
          "Trench",
          "Trench",
          null,
          "Cutter T",
          "Cutter T",
          "Cutter T",
          "Cutter T",
          null,
          "Cutter T",
          "Cutter T",
          "Cutter T",
          "Cutter T",
          null,
          "Cutter T",
          "Cutter T",
          "Cutter T",
          "Cutter T",
          null
         ]
        },
        {
         "connectgaps": false,
         "hoverinfo": "y+name",
         "line": {
          "color": "rgb(122,35,135)",
          "width": 10
         },
         "mode": "lines",
         "name": "loading:Barge III",
         "type": "scatter",
         "x": [
          "1970-01-01T04:19:26",
          "1970-01-01T04:19:26",
          "1970-01-01T05:01:06",
          "1970-01-01T05:01:06",
          "1970-01-01T05:01:06",
          "1970-01-01T09:19:26",
          "1970-01-01T09:19:26",
          "1970-01-01T10:01:06",
          "1970-01-01T10:01:06",
          "1970-01-01T10:01:06",
          "1970-01-01T14:19:26",
          "1970-01-01T14:19:26",
          "1970-01-01T15:01:06",
          "1970-01-01T15:01:06",
          "1970-01-01T15:01:06",
          "1970-01-01T04:19:26",
          "1970-01-01T04:19:26",
          "1970-01-01T05:01:06",
          "1970-01-01T05:01:06",
          "1970-01-01T05:01:06",
          "1970-01-01T09:19:26",
          "1970-01-01T09:19:26",
          "1970-01-01T10:01:06",
          "1970-01-01T10:01:06",
          "1970-01-01T10:01:06",
          "1970-01-01T14:19:26",
          "1970-01-01T14:19:26",
          "1970-01-01T15:01:06",
          "1970-01-01T15:01:06",
          "1970-01-01T15:01:06"
         ],
         "y": [
          "Trench",
          "Trench",
          "Trench",
          "Trench",
          null,
          "Trench",
          "Trench",
          "Trench",
          "Trench",
          null,
          "Trench",
          "Trench",
          "Trench",
          "Trench",
          null,
          "Cutter T",
          "Cutter T",
          "Cutter T",
          "Cutter T",
          null,
          "Cutter T",
          "Cutter T",
          "Cutter T",
          "Cutter T",
          null,
          "Cutter T",
          "Cutter T",
          "Cutter T",
          "Cutter T",
          null
         ]
        },
        {
         "connectgaps": false,
         "hoverinfo": "y+name",
         "line": {
          "color": "rgb(132,45,145)",
          "width": 10
         },
         "mode": "lines",
         "name": "loading:Carrier A",
         "type": "scatter",
         "x": [
          "1970-01-01T02:22:46",
          "1970-01-01T02:22:46",
          "1970-01-01T03:04:26",
          "1970-01-01T03:04:26",
          "1970-01-01T03:04:26",
          "1970-01-01T07:22:46",
          "1970-01-01T07:22:46",
          "1970-01-01T08:04:26",
          "1970-01-01T08:04:26",
          "1970-01-01T08:04:26",
          "1970-01-01T12:22:46",
          "1970-01-01T12:22:46",
          "1970-01-01T13:04:26",
          "1970-01-01T13:04:26",
          "1970-01-01T13:04:26",
          "1970-01-01T02:22:46",
          "1970-01-01T02:22:46",
          "1970-01-01T03:04:26",
          "1970-01-01T03:04:26",
          "1970-01-01T03:04:26",
          "1970-01-01T07:22:46",
          "1970-01-01T07:22:46",
          "1970-01-01T08:04:26",
          "1970-01-01T08:04:26",
          "1970-01-01T08:04:26",
          "1970-01-01T12:22:46",
          "1970-01-01T12:22:46",
          "1970-01-01T13:04:26",
          "1970-01-01T13:04:26",
          "1970-01-01T13:04:26"
         ],
         "y": [
          "Trench",
          "Trench",
          "Trench",
          "Trench",
          null,
          "Trench",
          "Trench",
          "Trench",
          "Trench",
          null,
          "Trench",
          "Trench",
          "Trench",
          "Trench",
          null,
          "Cutter T",
          "Cutter T",
          "Cutter T",
          "Cutter T",
          null,
          "Cutter T",
          "Cutter T",
          "Cutter T",
          "Cutter T",
          null,
          "Cutter T",
          "Cutter T",
          "Cutter T",
          "Cutter T",
          null
         ]
        },
        {
         "connectgaps": false,
         "hoverinfo": "y+name",
         "line": {
          "color": "rgb(142,55,155)",
          "width": 10
         },
         "mode": "lines",
         "name": "loading:Carrier C",
         "type": "scatter",
         "x": [
          "1970-01-01T05:01:06",
          "1970-01-01T05:01:06",
          "1970-01-01T05:34:26",
          "1970-01-01T05:34:26",
          "1970-01-01T05:34:26",
          "1970-01-01T10:01:06",
          "1970-01-01T10:01:06",
          "1970-01-01T10:34:26",
          "1970-01-01T10:34:26",
          "1970-01-01T10:34:26",
          "1970-01-01T05:01:06",
          "1970-01-01T05:01:06",
          "1970-01-01T05:34:26",
          "1970-01-01T05:34:26",
          "1970-01-01T05:34:26",
          "1970-01-01T10:01:06",
          "1970-01-01T10:01:06",
          "1970-01-01T10:34:26",
          "1970-01-01T10:34:26",
          "1970-01-01T10:34:26"
         ],
         "y": [
          "Trench",
          "Trench",
          "Trench",
          "Trench",
          null,
          "Trench",
          "Trench",
          "Trench",
          "Trench",
          null,
          "Cutter T",
          "Cutter T",
          "Cutter T",
          "Cutter T",
          null,
          "Cutter T",
          "Cutter T",
          "Cutter T",
          "Cutter T",
          null
         ]
        },
        {
         "connectgaps": false,
         "hoverinfo": "y+name",
         "line": {
          "color": "rgb(152,65,165)",
          "width": 10
         },
         "mode": "lines",
         "name": "loading:Carrier B",
         "type": "scatter",
         "x": [
          "1970-01-01T01:07:46",
          "1970-01-01T01:07:46",
          "1970-01-01T01:49:26",
          "1970-01-01T01:49:26",
          "1970-01-01T01:49:26",
          "1970-01-01T06:07:46",
          "1970-01-01T06:07:46",
          "1970-01-01T06:49:26",
          "1970-01-01T06:49:26",
          "1970-01-01T06:49:26",
          "1970-01-01T10:34:26",
          "1970-01-01T10:34:26",
          "1970-01-01T11:16:06",
          "1970-01-01T11:16:06",
          "1970-01-01T11:16:06",
          "1970-01-01T01:07:46",
          "1970-01-01T01:07:46",
          "1970-01-01T01:49:26",
          "1970-01-01T01:49:26",
          "1970-01-01T01:49:26",
          "1970-01-01T06:07:46",
          "1970-01-01T06:07:46",
          "1970-01-01T06:49:26",
          "1970-01-01T06:49:26",
          "1970-01-01T06:49:26",
          "1970-01-01T10:34:26",
          "1970-01-01T10:34:26",
          "1970-01-01T11:16:06",
          "1970-01-01T11:16:06",
          "1970-01-01T11:16:06"
         ],
         "y": [
          "Trench",
          "Trench",
          "Trench",
          "Trench",
          null,
          "Trench",
          "Trench",
          "Trench",
          "Trench",
          null,
          "Trench",
          "Trench",
          "Trench",
          "Trench",
          null,
          "Cutter T",
          "Cutter T",
          "Cutter T",
          "Cutter T",
          null,
          "Cutter T",
          "Cutter T",
          "Cutter T",
          "Cutter T",
          null,
          "Cutter T",
          "Cutter T",
          "Cutter T",
          "Cutter T",
          null
         ]
        },
        {
         "connectgaps": false,
         "hoverinfo": "y+name",
         "line": {
          "color": "rgb(162,75,175)",
          "width": 10
         },
         "mode": "lines",
         "name": "loading:Barge I",
         "type": "scatter",
         "x": [
          "1970-01-01T05:34:26",
          "1970-01-01T05:34:26",
          "1970-01-01T06:07:46",
          "1970-01-01T06:07:46",
          "1970-01-01T06:07:46",
          "1970-01-01T11:16:06",
          "1970-01-01T11:16:06",
          "1970-01-01T11:49:26",
          "1970-01-01T11:49:26",
          "1970-01-01T11:49:26",
          "1970-01-01T05:34:26",
          "1970-01-01T05:34:26",
          "1970-01-01T06:07:46",
          "1970-01-01T06:07:46",
          "1970-01-01T06:07:46",
          "1970-01-01T11:16:06",
          "1970-01-01T11:16:06",
          "1970-01-01T11:49:26",
          "1970-01-01T11:49:26",
          "1970-01-01T11:49:26"
         ],
         "y": [
          "Trench",
          "Trench",
          "Trench",
          "Trench",
          null,
          "Trench",
          "Trench",
          "Trench",
          "Trench",
          null,
          "Cutter T",
          "Cutter T",
          "Cutter T",
          "Cutter T",
          null,
          "Cutter T",
          "Cutter T",
          "Cutter T",
          "Cutter T",
          null
         ]
        },
        {
         "connectgaps": false,
         "hoverinfo": "y+name",
         "line": {
          "color": "rgb(172,85,185)",
          "width": 10
         },
         "mode": "lines",
         "name": "loading:Extra 2",
         "type": "scatter",
         "x": [
          "1970-01-01T03:04:26",
          "1970-01-01T03:04:26",
          "1970-01-01T03:37:46",
          "1970-01-01T03:37:46",
          "1970-01-01T03:37:46",
          "1970-01-01T08:04:26",
          "1970-01-01T08:04:26",
          "1970-01-01T08:37:46",
          "1970-01-01T08:37:46",
          "1970-01-01T08:37:46",
          "1970-01-01T13:04:26",
          "1970-01-01T13:04:26",
          "1970-01-01T13:37:46",
          "1970-01-01T13:37:46",
          "1970-01-01T13:37:46",
          "1970-01-01T03:04:26",
          "1970-01-01T03:04:26",
          "1970-01-01T03:37:46",
          "1970-01-01T03:37:46",
          "1970-01-01T03:37:46",
          "1970-01-01T08:04:26",
          "1970-01-01T08:04:26",
          "1970-01-01T08:37:46",
          "1970-01-01T08:37:46",
          "1970-01-01T08:37:46",
          "1970-01-01T13:04:26",
          "1970-01-01T13:04:26",
          "1970-01-01T13:37:46",
          "1970-01-01T13:37:46",
          "1970-01-01T13:37:46"
         ],
         "y": [
          "Trench",
          "Trench",
          "Trench",
          "Trench",
          null,
          "Trench",
          "Trench",
          "Trench",
          "Trench",
          null,
          "Trench",
          "Trench",
          "Trench",
          "Trench",
          null,
          "Cutter T",
          "Cutter T",
          "Cutter T",
          "Cutter T",
          null,
          "Cutter T",
          "Cutter T",
          "Cutter T",
          "Cutter T",
          null,
          "Cutter T",
          "Cutter T",
          "Cutter T",
          "Cutter T",
          null
         ]
        },
        {
         "connectgaps": false,
         "hoverinfo": "y+name",
         "line": {
          "color": "rgb(182,95,195)",
          "width": 10
         },
         "mode": "lines",
         "name": "loading:Extra 1",
         "type": "scatter",
         "x": [
          "1970-01-01T03:37:46",
          "1970-01-01T03:37:46",
          "1970-01-01T04:19:26",
          "1970-01-01T04:19:26",
          "1970-01-01T04:19:26",
          "1970-01-01T08:37:46",
          "1970-01-01T08:37:46",
          "1970-01-01T09:19:26",
          "1970-01-01T09:19:26",
          "1970-01-01T09:19:26",
          "1970-01-01T13:37:46",
          "1970-01-01T13:37:46",
          "1970-01-01T14:19:26",
          "1970-01-01T14:19:26",
          "1970-01-01T14:19:26",
          "1970-01-01T03:37:46",
          "1970-01-01T03:37:46",
          "1970-01-01T04:19:26",
          "1970-01-01T04:19:26",
          "1970-01-01T04:19:26",
          "1970-01-01T08:37:46",
          "1970-01-01T08:37:46",
          "1970-01-01T09:19:26",
          "1970-01-01T09:19:26",
          "1970-01-01T09:19:26",
          "1970-01-01T13:37:46",
          "1970-01-01T13:37:46",
          "1970-01-01T14:19:26",
          "1970-01-01T14:19:26",
          "1970-01-01T14:19:26"
         ],
         "y": [
          "Trench",
          "Trench",
          "Trench",
          "Trench",
          null,
          "Trench",
          "Trench",
          "Trench",
          "Trench",
          null,
          "Trench",
          "Trench",
          "Trench",
          "Trench",
          null,
          "Cutter T",
          "Cutter T",
          "Cutter T",
          "Cutter T",
          null,
          "Cutter T",
          "Cutter T",
          "Cutter T",
          "Cutter T",
          null,
          "Cutter T",
          "Cutter T",
          "Cutter T",
          "Cutter T",
          null
         ]
        },
        {
         "connectgaps": false,
         "hoverinfo": "y+name",
         "line": {
          "color": "rgb(192,105,205)",
          "width": 10
         },
         "mode": "lines",
         "name": "unloading:Extra 1",
         "type": "scatter",
         "x": [
          "1970-01-01T05:00:55",
          "1970-01-01T05:00:55",
          "1970-01-01T05:42:24",
          "1970-01-01T05:42:24",
          "1970-01-01T05:42:24",
          "1970-01-01T10:00:55",
          "1970-01-01T10:00:55",
          "1970-01-01T10:42:24",
          "1970-01-01T10:42:24",
          "1970-01-01T10:42:24",
          "1970-01-01T15:00:55",
          "1970-01-01T15:00:55",
          "1970-01-01T15:42:24",
          "1970-01-01T15:42:24",
          "1970-01-01T15:42:24"
         ],
         "y": [
          "Reclamation",
          "Reclamation",
          "Reclamation",
          "Reclamation",
          null,
          "Reclamation",
          "Reclamation",
          "Reclamation",
          "Reclamation",
          null,
          "Reclamation",
          "Reclamation",
          "Reclamation",
          "Reclamation",
          null
         ]
        },
        {
         "connectgaps": false,
         "hoverinfo": "y+name",
         "line": {
          "color": "rgb(202,115,215)",
          "width": 10
         },
         "mode": "lines",
         "name": "unloading:Carrier B",
         "type": "scatter",
         "x": [
          "1970-01-01T02:23:19",
          "1970-01-01T02:23:19",
          "1970-01-01T02:57:12",
          "1970-01-01T02:57:12",
          "1970-01-01T02:57:12",
          "1970-01-01T07:23:19",
          "1970-01-01T07:23:19",
          "1970-01-01T07:57:12",
          "1970-01-01T07:57:12",
          "1970-01-01T07:57:12",
          "1970-01-01T11:49:59",
          "1970-01-01T11:49:59",
          "1970-01-01T12:23:52",
          "1970-01-01T12:23:52",
          "1970-01-01T12:23:52"
         ],
         "y": [
          "Reclamation",
          "Reclamation",
          "Reclamation",
          "Reclamation",
          null,
          "Reclamation",
          "Reclamation",
          "Reclamation",
          "Reclamation",
          null,
          "Reclamation",
          "Reclamation",
          "Reclamation",
          "Reclamation",
          null
         ]
        },
        {
         "connectgaps": false,
         "hoverinfo": "y+name",
         "line": {
          "color": "rgb(212,125,225)",
          "width": 10
         },
         "mode": "lines",
         "name": "unloading:Barge III",
         "type": "scatter",
         "x": [
          "1970-01-01T05:43:38",
          "1970-01-01T05:43:38",
          "1970-01-01T06:26:10",
          "1970-01-01T06:26:10",
          "1970-01-01T06:26:10",
          "1970-01-01T10:43:38",
          "1970-01-01T10:43:38",
          "1970-01-01T11:26:10",
          "1970-01-01T11:26:10",
          "1970-01-01T11:26:10",
          "1970-01-01T15:43:38",
          "1970-01-01T15:43:38",
          "1970-01-01T16:26:10",
          "1970-01-01T16:26:10",
          "1970-01-01T16:26:10"
         ],
         "y": [
          "Reclamation",
          "Reclamation",
          "Reclamation",
          "Reclamation",
          null,
          "Reclamation",
          "Reclamation",
          "Reclamation",
          "Reclamation",
          null,
          "Reclamation",
          "Reclamation",
          "Reclamation",
          "Reclamation",
          null
         ]
        },
        {
         "connectgaps": false,
         "hoverinfo": "y+name",
         "line": {
          "color": "rgb(222,135,235)",
          "width": 10
         },
         "mode": "lines",
         "name": "unloading:Barge II",
         "type": "scatter",
         "x": [
          "1970-01-01T02:57:41",
          "1970-01-01T02:57:41",
          "1970-01-01T03:32:36",
          "1970-01-01T03:32:36",
          "1970-01-01T03:32:36",
          "1970-01-01T07:57:41",
          "1970-01-01T07:57:41",
          "1970-01-01T08:32:36",
          "1970-01-01T08:32:36",
          "1970-01-01T08:32:36",
          "1970-01-01T12:57:41",
          "1970-01-01T12:57:41",
          "1970-01-01T13:32:36",
          "1970-01-01T13:32:36",
          "1970-01-01T13:32:36"
         ],
         "y": [
          "Reclamation",
          "Reclamation",
          "Reclamation",
          "Reclamation",
          null,
          "Reclamation",
          "Reclamation",
          "Reclamation",
          "Reclamation",
          null,
          "Reclamation",
          "Reclamation",
          "Reclamation",
          "Reclamation",
          null
         ]
        },
        {
         "connectgaps": false,
         "hoverinfo": "y+name",
         "line": {
          "color": "rgb(232,145,245)",
          "width": 10
         },
         "mode": "lines",
         "name": "unloading:Barge I",
         "type": "scatter",
         "x": [
          "1970-01-01T06:56:10",
          "1970-01-01T06:56:10",
          "1970-01-01T07:44:34",
          "1970-01-01T07:44:34",
          "1970-01-01T07:44:34",
          "1970-01-01T12:37:50",
          "1970-01-01T12:37:50",
          "1970-01-01T13:26:14",
          "1970-01-01T13:26:14",
          "1970-01-01T13:26:14"
         ],
         "y": [
          "Reclamation",
          "Reclamation",
          "Reclamation",
          "Reclamation",
          null,
          "Reclamation",
          "Reclamation",
          "Reclamation",
          "Reclamation",
          null
         ]
        },
        {
         "connectgaps": false,
         "hoverinfo": "y+name",
         "line": {
          "color": "rgb(242,155,255)",
          "width": 10
         },
         "mode": "lines",
         "name": "unloading:Carrier C",
         "type": "scatter",
         "x": [
          "1970-01-01T06:21:51",
          "1970-01-01T06:21:51",
          "1970-01-01T07:09:16",
          "1970-01-01T07:09:16",
          "1970-01-01T07:09:16",
          "1970-01-01T11:21:51",
          "1970-01-01T11:21:51",
          "1970-01-01T12:09:16",
          "1970-01-01T12:09:16",
          "1970-01-01T12:09:16"
         ],
         "y": [
          "Reclamation",
          "Reclamation",
          "Reclamation",
          "Reclamation",
          null,
          "Reclamation",
          "Reclamation",
          "Reclamation",
          "Reclamation",
          null
         ]
        },
        {
         "connectgaps": false,
         "hoverinfo": "y+name",
         "line": {
          "color": "rgb(252,165,9)",
          "width": 10
         },
         "mode": "lines",
         "name": "unloading:Carrier A",
         "type": "scatter",
         "x": [
          "1970-01-01T03:43:11",
          "1970-01-01T03:43:11",
          "1970-01-01T04:21:56",
          "1970-01-01T04:21:56",
          "1970-01-01T04:21:56",
          "1970-01-01T08:43:11",
          "1970-01-01T08:43:11",
          "1970-01-01T09:21:56",
          "1970-01-01T09:21:56",
          "1970-01-01T09:21:56",
          "1970-01-01T13:43:11",
          "1970-01-01T13:43:11",
          "1970-01-01T14:21:56",
          "1970-01-01T14:21:56",
          "1970-01-01T14:21:56"
         ],
         "y": [
          "Reclamation",
          "Reclamation",
          "Reclamation",
          "Reclamation",
          null,
          "Reclamation",
          "Reclamation",
          "Reclamation",
          "Reclamation",
          null,
          "Reclamation",
          "Reclamation",
          "Reclamation",
          "Reclamation",
          null
         ]
        },
        {
         "connectgaps": false,
         "hoverinfo": "y+name",
         "line": {
          "color": "rgb(6,175,19)",
          "width": 10
         },
         "mode": "lines",
         "name": "unloading:Extra 2",
         "type": "scatter",
         "x": [
          "1970-01-01T04:17:00",
          "1970-01-01T04:17:00",
          "1970-01-01T04:56:14",
          "1970-01-01T04:56:14",
          "1970-01-01T04:56:14",
          "1970-01-01T09:17:00",
          "1970-01-01T09:17:00",
          "1970-01-01T09:56:14",
          "1970-01-01T09:56:14",
          "1970-01-01T09:56:14",
          "1970-01-01T14:17:00",
          "1970-01-01T14:17:00",
          "1970-01-01T14:56:14",
          "1970-01-01T14:56:14",
          "1970-01-01T14:56:14"
         ],
         "y": [
          "Reclamation",
          "Reclamation",
          "Reclamation",
          "Reclamation",
          null,
          "Reclamation",
          "Reclamation",
          "Reclamation",
          "Reclamation",
          null,
          "Reclamation",
          "Reclamation",
          "Reclamation",
          "Reclamation",
          null
         ]
        },
        {
         "connectgaps": false,
         "hoverinfo": "y+name",
         "line": {
          "color": "rgb(16,185,29)",
          "width": 10
         },
         "mode": "lines",
         "name": "loading:Barge II",
         "type": "scatter",
         "x": [
          "1970-01-01T01:49:26",
          "1970-01-01T01:49:26",
          "1970-01-01T02:22:46",
          "1970-01-01T02:22:46",
          "1970-01-01T02:22:46",
          "1970-01-01T06:49:26",
          "1970-01-01T06:49:26",
          "1970-01-01T07:22:46",
          "1970-01-01T07:22:46",
          "1970-01-01T07:22:46",
          "1970-01-01T11:49:26",
          "1970-01-01T11:49:26",
          "1970-01-01T12:22:46",
          "1970-01-01T12:22:46",
          "1970-01-01T12:22:46",
          "1970-01-01T01:49:26",
          "1970-01-01T01:49:26",
          "1970-01-01T02:22:46",
          "1970-01-01T02:22:46",
          "1970-01-01T02:22:46",
          "1970-01-01T06:49:26",
          "1970-01-01T06:49:26",
          "1970-01-01T07:22:46",
          "1970-01-01T07:22:46",
          "1970-01-01T07:22:46",
          "1970-01-01T11:49:26",
          "1970-01-01T11:49:26",
          "1970-01-01T12:22:46",
          "1970-01-01T12:22:46",
          "1970-01-01T12:22:46"
         ],
         "y": [
          "Trench",
          "Trench",
          "Trench",
          "Trench",
          null,
          "Trench",
          "Trench",
          "Trench",
          "Trench",
          null,
          "Trench",
          "Trench",
          "Trench",
          "Trench",
          null,
          "Cutter T",
          "Cutter T",
          "Cutter T",
          "Cutter T",
          null,
          "Cutter T",
          "Cutter T",
          "Cutter T",
          "Cutter T",
          null,
          "Cutter T",
          "Cutter T",
          "Cutter T",
          "Cutter T",
          null
         ]
        },
        {
         "connectgaps": false,
         "hoverinfo": "y+name",
         "line": {
          "color": "rgb(26,195,39)",
          "width": 10
         },
         "mode": "lines",
         "name": "loading:Barge III",
         "type": "scatter",
         "x": [
          "1970-01-01T04:19:26",
          "1970-01-01T04:19:26",
          "1970-01-01T05:01:06",
          "1970-01-01T05:01:06",
          "1970-01-01T05:01:06",
          "1970-01-01T09:19:26",
          "1970-01-01T09:19:26",
          "1970-01-01T10:01:06",
          "1970-01-01T10:01:06",
          "1970-01-01T10:01:06",
          "1970-01-01T14:19:26",
          "1970-01-01T14:19:26",
          "1970-01-01T15:01:06",
          "1970-01-01T15:01:06",
          "1970-01-01T15:01:06",
          "1970-01-01T04:19:26",
          "1970-01-01T04:19:26",
          "1970-01-01T05:01:06",
          "1970-01-01T05:01:06",
          "1970-01-01T05:01:06",
          "1970-01-01T09:19:26",
          "1970-01-01T09:19:26",
          "1970-01-01T10:01:06",
          "1970-01-01T10:01:06",
          "1970-01-01T10:01:06",
          "1970-01-01T14:19:26",
          "1970-01-01T14:19:26",
          "1970-01-01T15:01:06",
          "1970-01-01T15:01:06",
          "1970-01-01T15:01:06"
         ],
         "y": [
          "Trench",
          "Trench",
          "Trench",
          "Trench",
          null,
          "Trench",
          "Trench",
          "Trench",
          "Trench",
          null,
          "Trench",
          "Trench",
          "Trench",
          "Trench",
          null,
          "Cutter T",
          "Cutter T",
          "Cutter T",
          "Cutter T",
          null,
          "Cutter T",
          "Cutter T",
          "Cutter T",
          "Cutter T",
          null,
          "Cutter T",
          "Cutter T",
          "Cutter T",
          "Cutter T",
          null
         ]
        },
        {
         "connectgaps": false,
         "hoverinfo": "y+name",
         "line": {
          "color": "rgb(36,205,49)",
          "width": 10
         },
         "mode": "lines",
         "name": "loading:Carrier A",
         "type": "scatter",
         "x": [
          "1970-01-01T02:22:46",
          "1970-01-01T02:22:46",
          "1970-01-01T03:04:26",
          "1970-01-01T03:04:26",
          "1970-01-01T03:04:26",
          "1970-01-01T07:22:46",
          "1970-01-01T07:22:46",
          "1970-01-01T08:04:26",
          "1970-01-01T08:04:26",
          "1970-01-01T08:04:26",
          "1970-01-01T12:22:46",
          "1970-01-01T12:22:46",
          "1970-01-01T13:04:26",
          "1970-01-01T13:04:26",
          "1970-01-01T13:04:26",
          "1970-01-01T02:22:46",
          "1970-01-01T02:22:46",
          "1970-01-01T03:04:26",
          "1970-01-01T03:04:26",
          "1970-01-01T03:04:26",
          "1970-01-01T07:22:46",
          "1970-01-01T07:22:46",
          "1970-01-01T08:04:26",
          "1970-01-01T08:04:26",
          "1970-01-01T08:04:26",
          "1970-01-01T12:22:46",
          "1970-01-01T12:22:46",
          "1970-01-01T13:04:26",
          "1970-01-01T13:04:26",
          "1970-01-01T13:04:26"
         ],
         "y": [
          "Trench",
          "Trench",
          "Trench",
          "Trench",
          null,
          "Trench",
          "Trench",
          "Trench",
          "Trench",
          null,
          "Trench",
          "Trench",
          "Trench",
          "Trench",
          null,
          "Cutter T",
          "Cutter T",
          "Cutter T",
          "Cutter T",
          null,
          "Cutter T",
          "Cutter T",
          "Cutter T",
          "Cutter T",
          null,
          "Cutter T",
          "Cutter T",
          "Cutter T",
          "Cutter T",
          null
         ]
        },
        {
         "connectgaps": false,
         "hoverinfo": "y+name",
         "line": {
          "color": "rgb(46,215,59)",
          "width": 10
         },
         "mode": "lines",
         "name": "loading:Carrier C",
         "type": "scatter",
         "x": [
          "1970-01-01T05:01:06",
          "1970-01-01T05:01:06",
          "1970-01-01T05:34:26",
          "1970-01-01T05:34:26",
          "1970-01-01T05:34:26",
          "1970-01-01T10:01:06",
          "1970-01-01T10:01:06",
          "1970-01-01T10:34:26",
          "1970-01-01T10:34:26",
          "1970-01-01T10:34:26",
          "1970-01-01T05:01:06",
          "1970-01-01T05:01:06",
          "1970-01-01T05:34:26",
          "1970-01-01T05:34:26",
          "1970-01-01T05:34:26",
          "1970-01-01T10:01:06",
          "1970-01-01T10:01:06",
          "1970-01-01T10:34:26",
          "1970-01-01T10:34:26",
          "1970-01-01T10:34:26"
         ],
         "y": [
          "Trench",
          "Trench",
          "Trench",
          "Trench",
          null,
          "Trench",
          "Trench",
          "Trench",
          "Trench",
          null,
          "Cutter T",
          "Cutter T",
          "Cutter T",
          "Cutter T",
          null,
          "Cutter T",
          "Cutter T",
          "Cutter T",
          "Cutter T",
          null
         ]
        },
        {
         "connectgaps": false,
         "hoverinfo": "y+name",
         "line": {
          "color": "rgb(56,225,69)",
          "width": 10
         },
         "mode": "lines",
         "name": "loading:Carrier B",
         "type": "scatter",
         "x": [
          "1970-01-01T01:07:46",
          "1970-01-01T01:07:46",
          "1970-01-01T01:49:26",
          "1970-01-01T01:49:26",
          "1970-01-01T01:49:26",
          "1970-01-01T06:07:46",
          "1970-01-01T06:07:46",
          "1970-01-01T06:49:26",
          "1970-01-01T06:49:26",
          "1970-01-01T06:49:26",
          "1970-01-01T10:34:26",
          "1970-01-01T10:34:26",
          "1970-01-01T11:16:06",
          "1970-01-01T11:16:06",
          "1970-01-01T11:16:06",
          "1970-01-01T01:07:46",
          "1970-01-01T01:07:46",
          "1970-01-01T01:49:26",
          "1970-01-01T01:49:26",
          "1970-01-01T01:49:26",
          "1970-01-01T06:07:46",
          "1970-01-01T06:07:46",
          "1970-01-01T06:49:26",
          "1970-01-01T06:49:26",
          "1970-01-01T06:49:26",
          "1970-01-01T10:34:26",
          "1970-01-01T10:34:26",
          "1970-01-01T11:16:06",
          "1970-01-01T11:16:06",
          "1970-01-01T11:16:06"
         ],
         "y": [
          "Trench",
          "Trench",
          "Trench",
          "Trench",
          null,
          "Trench",
          "Trench",
          "Trench",
          "Trench",
          null,
          "Trench",
          "Trench",
          "Trench",
          "Trench",
          null,
          "Cutter T",
          "Cutter T",
          "Cutter T",
          "Cutter T",
          null,
          "Cutter T",
          "Cutter T",
          "Cutter T",
          "Cutter T",
          null,
          "Cutter T",
          "Cutter T",
          "Cutter T",
          "Cutter T",
          null
         ]
        },
        {
         "connectgaps": false,
         "hoverinfo": "y+name",
         "line": {
          "color": "rgb(66,235,79)",
          "width": 10
         },
         "mode": "lines",
         "name": "loading:Barge I",
         "type": "scatter",
         "x": [
          "1970-01-01T05:34:26",
          "1970-01-01T05:34:26",
          "1970-01-01T06:07:46",
          "1970-01-01T06:07:46",
          "1970-01-01T06:07:46",
          "1970-01-01T11:16:06",
          "1970-01-01T11:16:06",
          "1970-01-01T11:49:26",
          "1970-01-01T11:49:26",
          "1970-01-01T11:49:26",
          "1970-01-01T05:34:26",
          "1970-01-01T05:34:26",
          "1970-01-01T06:07:46",
          "1970-01-01T06:07:46",
          "1970-01-01T06:07:46",
          "1970-01-01T11:16:06",
          "1970-01-01T11:16:06",
          "1970-01-01T11:49:26",
          "1970-01-01T11:49:26",
          "1970-01-01T11:49:26"
         ],
         "y": [
          "Trench",
          "Trench",
          "Trench",
          "Trench",
          null,
          "Trench",
          "Trench",
          "Trench",
          "Trench",
          null,
          "Cutter T",
          "Cutter T",
          "Cutter T",
          "Cutter T",
          null,
          "Cutter T",
          "Cutter T",
          "Cutter T",
          "Cutter T",
          null
         ]
        },
        {
         "connectgaps": false,
         "hoverinfo": "y+name",
         "line": {
          "color": "rgb(76,245,89)",
          "width": 10
         },
         "mode": "lines",
         "name": "loading:Extra 2",
         "type": "scatter",
         "x": [
          "1970-01-01T03:04:26",
          "1970-01-01T03:04:26",
          "1970-01-01T03:37:46",
          "1970-01-01T03:37:46",
          "1970-01-01T03:37:46",
          "1970-01-01T08:04:26",
          "1970-01-01T08:04:26",
          "1970-01-01T08:37:46",
          "1970-01-01T08:37:46",
          "1970-01-01T08:37:46",
          "1970-01-01T13:04:26",
          "1970-01-01T13:04:26",
          "1970-01-01T13:37:46",
          "1970-01-01T13:37:46",
          "1970-01-01T13:37:46",
          "1970-01-01T03:04:26",
          "1970-01-01T03:04:26",
          "1970-01-01T03:37:46",
          "1970-01-01T03:37:46",
          "1970-01-01T03:37:46",
          "1970-01-01T08:04:26",
          "1970-01-01T08:04:26",
          "1970-01-01T08:37:46",
          "1970-01-01T08:37:46",
          "1970-01-01T08:37:46",
          "1970-01-01T13:04:26",
          "1970-01-01T13:04:26",
          "1970-01-01T13:37:46",
          "1970-01-01T13:37:46",
          "1970-01-01T13:37:46"
         ],
         "y": [
          "Trench",
          "Trench",
          "Trench",
          "Trench",
          null,
          "Trench",
          "Trench",
          "Trench",
          "Trench",
          null,
          "Trench",
          "Trench",
          "Trench",
          "Trench",
          null,
          "Cutter T",
          "Cutter T",
          "Cutter T",
          "Cutter T",
          null,
          "Cutter T",
          "Cutter T",
          "Cutter T",
          "Cutter T",
          null,
          "Cutter T",
          "Cutter T",
          "Cutter T",
          "Cutter T",
          null
         ]
        },
        {
         "connectgaps": false,
         "hoverinfo": "y+name",
         "line": {
          "color": "rgb(86,255,99)",
          "width": 10
         },
         "mode": "lines",
         "name": "loading:Extra 1",
         "type": "scatter",
         "x": [
          "1970-01-01T03:37:46",
          "1970-01-01T03:37:46",
          "1970-01-01T04:19:26",
          "1970-01-01T04:19:26",
          "1970-01-01T04:19:26",
          "1970-01-01T08:37:46",
          "1970-01-01T08:37:46",
          "1970-01-01T09:19:26",
          "1970-01-01T09:19:26",
          "1970-01-01T09:19:26",
          "1970-01-01T13:37:46",
          "1970-01-01T13:37:46",
          "1970-01-01T14:19:26",
          "1970-01-01T14:19:26",
          "1970-01-01T14:19:26",
          "1970-01-01T03:37:46",
          "1970-01-01T03:37:46",
          "1970-01-01T04:19:26",
          "1970-01-01T04:19:26",
          "1970-01-01T04:19:26",
          "1970-01-01T08:37:46",
          "1970-01-01T08:37:46",
          "1970-01-01T09:19:26",
          "1970-01-01T09:19:26",
          "1970-01-01T09:19:26",
          "1970-01-01T13:37:46",
          "1970-01-01T13:37:46",
          "1970-01-01T14:19:26",
          "1970-01-01T14:19:26",
          "1970-01-01T14:19:26"
         ],
         "y": [
          "Trench",
          "Trench",
          "Trench",
          "Trench",
          null,
          "Trench",
          "Trench",
          "Trench",
          "Trench",
          null,
          "Trench",
          "Trench",
          "Trench",
          "Trench",
          null,
          "Cutter T",
          "Cutter T",
          "Cutter T",
          "Cutter T",
          null,
          "Cutter T",
          "Cutter T",
          "Cutter T",
          "Cutter T",
          null,
          "Cutter T",
          "Cutter T",
          "Cutter T",
          "Cutter T",
          null
         ]
        }
       ],
       "layout": {
        "hovermode": "closest",
        "legend": {
         "orientation": "h",
         "x": 0,
         "y": -0.2
        },
        "template": {
         "data": {
          "bar": [
           {
            "error_x": {
             "color": "#2a3f5f"
            },
            "error_y": {
             "color": "#2a3f5f"
            },
            "marker": {
             "line": {
              "color": "#E5ECF6",
              "width": 0.5
             },
             "pattern": {
              "fillmode": "overlay",
              "size": 10,
              "solidity": 0.2
             }
            },
            "type": "bar"
           }
          ],
          "barpolar": [
           {
            "marker": {
             "line": {
              "color": "#E5ECF6",
              "width": 0.5
             },
             "pattern": {
              "fillmode": "overlay",
              "size": 10,
              "solidity": 0.2
             }
            },
            "type": "barpolar"
           }
          ],
          "carpet": [
           {
            "aaxis": {
             "endlinecolor": "#2a3f5f",
             "gridcolor": "white",
             "linecolor": "white",
             "minorgridcolor": "white",
             "startlinecolor": "#2a3f5f"
            },
            "baxis": {
             "endlinecolor": "#2a3f5f",
             "gridcolor": "white",
             "linecolor": "white",
             "minorgridcolor": "white",
             "startlinecolor": "#2a3f5f"
            },
            "type": "carpet"
           }
          ],
          "choropleth": [
           {
            "colorbar": {
             "outlinewidth": 0,
             "ticks": ""
            },
            "type": "choropleth"
           }
          ],
          "contour": [
           {
            "colorbar": {
             "outlinewidth": 0,
             "ticks": ""
            },
            "colorscale": [
             [
              0,
              "#0d0887"
             ],
             [
              0.1111111111111111,
              "#46039f"
             ],
             [
              0.2222222222222222,
              "#7201a8"
             ],
             [
              0.3333333333333333,
              "#9c179e"
             ],
             [
              0.4444444444444444,
              "#bd3786"
             ],
             [
              0.5555555555555556,
              "#d8576b"
             ],
             [
              0.6666666666666666,
              "#ed7953"
             ],
             [
              0.7777777777777778,
              "#fb9f3a"
             ],
             [
              0.8888888888888888,
              "#fdca26"
             ],
             [
              1,
              "#f0f921"
             ]
            ],
            "type": "contour"
           }
          ],
          "contourcarpet": [
           {
            "colorbar": {
             "outlinewidth": 0,
             "ticks": ""
            },
            "type": "contourcarpet"
           }
          ],
          "heatmap": [
           {
            "colorbar": {
             "outlinewidth": 0,
             "ticks": ""
            },
            "colorscale": [
             [
              0,
              "#0d0887"
             ],
             [
              0.1111111111111111,
              "#46039f"
             ],
             [
              0.2222222222222222,
              "#7201a8"
             ],
             [
              0.3333333333333333,
              "#9c179e"
             ],
             [
              0.4444444444444444,
              "#bd3786"
             ],
             [
              0.5555555555555556,
              "#d8576b"
             ],
             [
              0.6666666666666666,
              "#ed7953"
             ],
             [
              0.7777777777777778,
              "#fb9f3a"
             ],
             [
              0.8888888888888888,
              "#fdca26"
             ],
             [
              1,
              "#f0f921"
             ]
            ],
            "type": "heatmap"
           }
          ],
          "heatmapgl": [
           {
            "colorbar": {
             "outlinewidth": 0,
             "ticks": ""
            },
            "colorscale": [
             [
              0,
              "#0d0887"
             ],
             [
              0.1111111111111111,
              "#46039f"
             ],
             [
              0.2222222222222222,
              "#7201a8"
             ],
             [
              0.3333333333333333,
              "#9c179e"
             ],
             [
              0.4444444444444444,
              "#bd3786"
             ],
             [
              0.5555555555555556,
              "#d8576b"
             ],
             [
              0.6666666666666666,
              "#ed7953"
             ],
             [
              0.7777777777777778,
              "#fb9f3a"
             ],
             [
              0.8888888888888888,
              "#fdca26"
             ],
             [
              1,
              "#f0f921"
             ]
            ],
            "type": "heatmapgl"
           }
          ],
          "histogram": [
           {
            "marker": {
             "pattern": {
              "fillmode": "overlay",
              "size": 10,
              "solidity": 0.2
             }
            },
            "type": "histogram"
           }
          ],
          "histogram2d": [
           {
            "colorbar": {
             "outlinewidth": 0,
             "ticks": ""
            },
            "colorscale": [
             [
              0,
              "#0d0887"
             ],
             [
              0.1111111111111111,
              "#46039f"
             ],
             [
              0.2222222222222222,
              "#7201a8"
             ],
             [
              0.3333333333333333,
              "#9c179e"
             ],
             [
              0.4444444444444444,
              "#bd3786"
             ],
             [
              0.5555555555555556,
              "#d8576b"
             ],
             [
              0.6666666666666666,
              "#ed7953"
             ],
             [
              0.7777777777777778,
              "#fb9f3a"
             ],
             [
              0.8888888888888888,
              "#fdca26"
             ],
             [
              1,
              "#f0f921"
             ]
            ],
            "type": "histogram2d"
           }
          ],
          "histogram2dcontour": [
           {
            "colorbar": {
             "outlinewidth": 0,
             "ticks": ""
            },
            "colorscale": [
             [
              0,
              "#0d0887"
             ],
             [
              0.1111111111111111,
              "#46039f"
             ],
             [
              0.2222222222222222,
              "#7201a8"
             ],
             [
              0.3333333333333333,
              "#9c179e"
             ],
             [
              0.4444444444444444,
              "#bd3786"
             ],
             [
              0.5555555555555556,
              "#d8576b"
             ],
             [
              0.6666666666666666,
              "#ed7953"
             ],
             [
              0.7777777777777778,
              "#fb9f3a"
             ],
             [
              0.8888888888888888,
              "#fdca26"
             ],
             [
              1,
              "#f0f921"
             ]
            ],
            "type": "histogram2dcontour"
           }
          ],
          "mesh3d": [
           {
            "colorbar": {
             "outlinewidth": 0,
             "ticks": ""
            },
            "type": "mesh3d"
           }
          ],
          "parcoords": [
           {
            "line": {
             "colorbar": {
              "outlinewidth": 0,
              "ticks": ""
             }
            },
            "type": "parcoords"
           }
          ],
          "pie": [
           {
            "automargin": true,
            "type": "pie"
           }
          ],
          "scatter": [
           {
            "fillpattern": {
             "fillmode": "overlay",
             "size": 10,
             "solidity": 0.2
            },
            "type": "scatter"
           }
          ],
          "scatter3d": [
           {
            "line": {
             "colorbar": {
              "outlinewidth": 0,
              "ticks": ""
             }
            },
            "marker": {
             "colorbar": {
              "outlinewidth": 0,
              "ticks": ""
             }
            },
            "type": "scatter3d"
           }
          ],
          "scattercarpet": [
           {
            "marker": {
             "colorbar": {
              "outlinewidth": 0,
              "ticks": ""
             }
            },
            "type": "scattercarpet"
           }
          ],
          "scattergeo": [
           {
            "marker": {
             "colorbar": {
              "outlinewidth": 0,
              "ticks": ""
             }
            },
            "type": "scattergeo"
           }
          ],
          "scattergl": [
           {
            "marker": {
             "colorbar": {
              "outlinewidth": 0,
              "ticks": ""
             }
            },
            "type": "scattergl"
           }
          ],
          "scattermapbox": [
           {
            "marker": {
             "colorbar": {
              "outlinewidth": 0,
              "ticks": ""
             }
            },
            "type": "scattermapbox"
           }
          ],
          "scatterpolar": [
           {
            "marker": {
             "colorbar": {
              "outlinewidth": 0,
              "ticks": ""
             }
            },
            "type": "scatterpolar"
           }
          ],
          "scatterpolargl": [
           {
            "marker": {
             "colorbar": {
              "outlinewidth": 0,
              "ticks": ""
             }
            },
            "type": "scatterpolargl"
           }
          ],
          "scatterternary": [
           {
            "marker": {
             "colorbar": {
              "outlinewidth": 0,
              "ticks": ""
             }
            },
            "type": "scatterternary"
           }
          ],
          "surface": [
           {
            "colorbar": {
             "outlinewidth": 0,
             "ticks": ""
            },
            "colorscale": [
             [
              0,
              "#0d0887"
             ],
             [
              0.1111111111111111,
              "#46039f"
             ],
             [
              0.2222222222222222,
              "#7201a8"
             ],
             [
              0.3333333333333333,
              "#9c179e"
             ],
             [
              0.4444444444444444,
              "#bd3786"
             ],
             [
              0.5555555555555556,
              "#d8576b"
             ],
             [
              0.6666666666666666,
              "#ed7953"
             ],
             [
              0.7777777777777778,
              "#fb9f3a"
             ],
             [
              0.8888888888888888,
              "#fdca26"
             ],
             [
              1,
              "#f0f921"
             ]
            ],
            "type": "surface"
           }
          ],
          "table": [
           {
            "cells": {
             "fill": {
              "color": "#EBF0F8"
             },
             "line": {
              "color": "white"
             }
            },
            "header": {
             "fill": {
              "color": "#C8D4E3"
             },
             "line": {
              "color": "white"
             }
            },
            "type": "table"
           }
          ]
         },
         "layout": {
          "annotationdefaults": {
           "arrowcolor": "#2a3f5f",
           "arrowhead": 0,
           "arrowwidth": 1
          },
          "autotypenumbers": "strict",
          "coloraxis": {
           "colorbar": {
            "outlinewidth": 0,
            "ticks": ""
           }
          },
          "colorscale": {
           "diverging": [
            [
             0,
             "#8e0152"
            ],
            [
             0.1,
             "#c51b7d"
            ],
            [
             0.2,
             "#de77ae"
            ],
            [
             0.3,
             "#f1b6da"
            ],
            [
             0.4,
             "#fde0ef"
            ],
            [
             0.5,
             "#f7f7f7"
            ],
            [
             0.6,
             "#e6f5d0"
            ],
            [
             0.7,
             "#b8e186"
            ],
            [
             0.8,
             "#7fbc41"
            ],
            [
             0.9,
             "#4d9221"
            ],
            [
             1,
             "#276419"
            ]
           ],
           "sequential": [
            [
             0,
             "#0d0887"
            ],
            [
             0.1111111111111111,
             "#46039f"
            ],
            [
             0.2222222222222222,
             "#7201a8"
            ],
            [
             0.3333333333333333,
             "#9c179e"
            ],
            [
             0.4444444444444444,
             "#bd3786"
            ],
            [
             0.5555555555555556,
             "#d8576b"
            ],
            [
             0.6666666666666666,
             "#ed7953"
            ],
            [
             0.7777777777777778,
             "#fb9f3a"
            ],
            [
             0.8888888888888888,
             "#fdca26"
            ],
            [
             1,
             "#f0f921"
            ]
           ],
           "sequentialminus": [
            [
             0,
             "#0d0887"
            ],
            [
             0.1111111111111111,
             "#46039f"
            ],
            [
             0.2222222222222222,
             "#7201a8"
            ],
            [
             0.3333333333333333,
             "#9c179e"
            ],
            [
             0.4444444444444444,
             "#bd3786"
            ],
            [
             0.5555555555555556,
             "#d8576b"
            ],
            [
             0.6666666666666666,
             "#ed7953"
            ],
            [
             0.7777777777777778,
             "#fb9f3a"
            ],
            [
             0.8888888888888888,
             "#fdca26"
            ],
            [
             1,
             "#f0f921"
            ]
           ]
          },
          "colorway": [
           "#636efa",
           "#EF553B",
           "#00cc96",
           "#ab63fa",
           "#FFA15A",
           "#19d3f3",
           "#FF6692",
           "#B6E880",
           "#FF97FF",
           "#FECB52"
          ],
          "font": {
           "color": "#2a3f5f"
          },
          "geo": {
           "bgcolor": "white",
           "lakecolor": "white",
           "landcolor": "#E5ECF6",
           "showlakes": true,
           "showland": true,
           "subunitcolor": "white"
          },
          "hoverlabel": {
           "align": "left"
          },
          "hovermode": "closest",
          "mapbox": {
           "style": "light"
          },
          "paper_bgcolor": "white",
          "plot_bgcolor": "#E5ECF6",
          "polar": {
           "angularaxis": {
            "gridcolor": "white",
            "linecolor": "white",
            "ticks": ""
           },
           "bgcolor": "#E5ECF6",
           "radialaxis": {
            "gridcolor": "white",
            "linecolor": "white",
            "ticks": ""
           }
          },
          "scene": {
           "xaxis": {
            "backgroundcolor": "#E5ECF6",
            "gridcolor": "white",
            "gridwidth": 2,
            "linecolor": "white",
            "showbackground": true,
            "ticks": "",
            "zerolinecolor": "white"
           },
           "yaxis": {
            "backgroundcolor": "#E5ECF6",
            "gridcolor": "white",
            "gridwidth": 2,
            "linecolor": "white",
            "showbackground": true,
            "ticks": "",
            "zerolinecolor": "white"
           },
           "zaxis": {
            "backgroundcolor": "#E5ECF6",
            "gridcolor": "white",
            "gridwidth": 2,
            "linecolor": "white",
            "showbackground": true,
            "ticks": "",
            "zerolinecolor": "white"
           }
          },
          "shapedefaults": {
           "line": {
            "color": "#2a3f5f"
           }
          },
          "ternary": {
           "aaxis": {
            "gridcolor": "white",
            "linecolor": "white",
            "ticks": ""
           },
           "baxis": {
            "gridcolor": "white",
            "linecolor": "white",
            "ticks": ""
           },
           "bgcolor": "#E5ECF6",
           "caxis": {
            "gridcolor": "white",
            "linecolor": "white",
            "ticks": ""
           }
          },
          "title": {
           "x": 0.05
          },
          "xaxis": {
           "automargin": true,
           "gridcolor": "white",
           "linecolor": "white",
           "ticks": "",
           "title": {
            "standoff": 15
           },
           "zerolinecolor": "white",
           "zerolinewidth": 2
          },
          "yaxis": {
           "automargin": true,
           "gridcolor": "white",
           "linecolor": "white",
           "ticks": "",
           "title": {
            "standoff": 15
           },
           "zerolinecolor": "white",
           "zerolinewidth": 2
          }
         }
        },
        "title": {
         "text": "GANTT Chart"
        },
        "xaxis": {
         "range": [
          "1970-01-01T01:07:46",
          "1970-01-01T16:26:10"
         ],
         "title": {
          "font": {
           "color": "#7f7f7f",
           "family": "Courier New, monospace",
           "size": 18
          },
          "text": "Time"
         }
        },
        "yaxis": {
         "title": {
          "font": {
           "color": "#7f7f7f",
           "family": "Courier New, monospace",
           "size": 18
          },
          "text": "Activities"
         }
        }
       }
      },
      "text/html": [
       "<div>                            <div id=\"7a69d326-d7af-4e2f-906f-8f7697abb099\" class=\"plotly-graph-div\" style=\"height:525px; width:100%;\"></div>            <script type=\"text/javascript\">                require([\"plotly\"], function(Plotly) {                    window.PLOTLYENV=window.PLOTLYENV || {};                                    if (document.getElementById(\"7a69d326-d7af-4e2f-906f-8f7697abb099\")) {                    Plotly.newPlot(                        \"7a69d326-d7af-4e2f-906f-8f7697abb099\",                        [{\"connectgaps\":false,\"hoverinfo\":\"y+name\",\"line\":{\"color\":\"rgb(112,25,125)\",\"width\":10},\"mode\":\"lines\",\"name\":\"loading:Barge II\",\"x\":[\"1970-01-01T01:49:26\",\"1970-01-01T01:49:26\",\"1970-01-01T02:22:46\",\"1970-01-01T02:22:46\",\"1970-01-01T02:22:46\",\"1970-01-01T06:49:26\",\"1970-01-01T06:49:26\",\"1970-01-01T07:22:46\",\"1970-01-01T07:22:46\",\"1970-01-01T07:22:46\",\"1970-01-01T11:49:26\",\"1970-01-01T11:49:26\",\"1970-01-01T12:22:46\",\"1970-01-01T12:22:46\",\"1970-01-01T12:22:46\",\"1970-01-01T01:49:26\",\"1970-01-01T01:49:26\",\"1970-01-01T02:22:46\",\"1970-01-01T02:22:46\",\"1970-01-01T02:22:46\",\"1970-01-01T06:49:26\",\"1970-01-01T06:49:26\",\"1970-01-01T07:22:46\",\"1970-01-01T07:22:46\",\"1970-01-01T07:22:46\",\"1970-01-01T11:49:26\",\"1970-01-01T11:49:26\",\"1970-01-01T12:22:46\",\"1970-01-01T12:22:46\",\"1970-01-01T12:22:46\"],\"y\":[\"Trench\",\"Trench\",\"Trench\",\"Trench\",null,\"Trench\",\"Trench\",\"Trench\",\"Trench\",null,\"Trench\",\"Trench\",\"Trench\",\"Trench\",null,\"Cutter T\",\"Cutter T\",\"Cutter T\",\"Cutter T\",null,\"Cutter T\",\"Cutter T\",\"Cutter T\",\"Cutter T\",null,\"Cutter T\",\"Cutter T\",\"Cutter T\",\"Cutter T\",null],\"type\":\"scatter\"},{\"connectgaps\":false,\"hoverinfo\":\"y+name\",\"line\":{\"color\":\"rgb(122,35,135)\",\"width\":10},\"mode\":\"lines\",\"name\":\"loading:Barge III\",\"x\":[\"1970-01-01T04:19:26\",\"1970-01-01T04:19:26\",\"1970-01-01T05:01:06\",\"1970-01-01T05:01:06\",\"1970-01-01T05:01:06\",\"1970-01-01T09:19:26\",\"1970-01-01T09:19:26\",\"1970-01-01T10:01:06\",\"1970-01-01T10:01:06\",\"1970-01-01T10:01:06\",\"1970-01-01T14:19:26\",\"1970-01-01T14:19:26\",\"1970-01-01T15:01:06\",\"1970-01-01T15:01:06\",\"1970-01-01T15:01:06\",\"1970-01-01T04:19:26\",\"1970-01-01T04:19:26\",\"1970-01-01T05:01:06\",\"1970-01-01T05:01:06\",\"1970-01-01T05:01:06\",\"1970-01-01T09:19:26\",\"1970-01-01T09:19:26\",\"1970-01-01T10:01:06\",\"1970-01-01T10:01:06\",\"1970-01-01T10:01:06\",\"1970-01-01T14:19:26\",\"1970-01-01T14:19:26\",\"1970-01-01T15:01:06\",\"1970-01-01T15:01:06\",\"1970-01-01T15:01:06\"],\"y\":[\"Trench\",\"Trench\",\"Trench\",\"Trench\",null,\"Trench\",\"Trench\",\"Trench\",\"Trench\",null,\"Trench\",\"Trench\",\"Trench\",\"Trench\",null,\"Cutter T\",\"Cutter T\",\"Cutter T\",\"Cutter T\",null,\"Cutter T\",\"Cutter T\",\"Cutter T\",\"Cutter T\",null,\"Cutter T\",\"Cutter T\",\"Cutter T\",\"Cutter T\",null],\"type\":\"scatter\"},{\"connectgaps\":false,\"hoverinfo\":\"y+name\",\"line\":{\"color\":\"rgb(132,45,145)\",\"width\":10},\"mode\":\"lines\",\"name\":\"loading:Carrier A\",\"x\":[\"1970-01-01T02:22:46\",\"1970-01-01T02:22:46\",\"1970-01-01T03:04:26\",\"1970-01-01T03:04:26\",\"1970-01-01T03:04:26\",\"1970-01-01T07:22:46\",\"1970-01-01T07:22:46\",\"1970-01-01T08:04:26\",\"1970-01-01T08:04:26\",\"1970-01-01T08:04:26\",\"1970-01-01T12:22:46\",\"1970-01-01T12:22:46\",\"1970-01-01T13:04:26\",\"1970-01-01T13:04:26\",\"1970-01-01T13:04:26\",\"1970-01-01T02:22:46\",\"1970-01-01T02:22:46\",\"1970-01-01T03:04:26\",\"1970-01-01T03:04:26\",\"1970-01-01T03:04:26\",\"1970-01-01T07:22:46\",\"1970-01-01T07:22:46\",\"1970-01-01T08:04:26\",\"1970-01-01T08:04:26\",\"1970-01-01T08:04:26\",\"1970-01-01T12:22:46\",\"1970-01-01T12:22:46\",\"1970-01-01T13:04:26\",\"1970-01-01T13:04:26\",\"1970-01-01T13:04:26\"],\"y\":[\"Trench\",\"Trench\",\"Trench\",\"Trench\",null,\"Trench\",\"Trench\",\"Trench\",\"Trench\",null,\"Trench\",\"Trench\",\"Trench\",\"Trench\",null,\"Cutter T\",\"Cutter T\",\"Cutter T\",\"Cutter T\",null,\"Cutter T\",\"Cutter T\",\"Cutter T\",\"Cutter T\",null,\"Cutter T\",\"Cutter T\",\"Cutter T\",\"Cutter T\",null],\"type\":\"scatter\"},{\"connectgaps\":false,\"hoverinfo\":\"y+name\",\"line\":{\"color\":\"rgb(142,55,155)\",\"width\":10},\"mode\":\"lines\",\"name\":\"loading:Carrier C\",\"x\":[\"1970-01-01T05:01:06\",\"1970-01-01T05:01:06\",\"1970-01-01T05:34:26\",\"1970-01-01T05:34:26\",\"1970-01-01T05:34:26\",\"1970-01-01T10:01:06\",\"1970-01-01T10:01:06\",\"1970-01-01T10:34:26\",\"1970-01-01T10:34:26\",\"1970-01-01T10:34:26\",\"1970-01-01T05:01:06\",\"1970-01-01T05:01:06\",\"1970-01-01T05:34:26\",\"1970-01-01T05:34:26\",\"1970-01-01T05:34:26\",\"1970-01-01T10:01:06\",\"1970-01-01T10:01:06\",\"1970-01-01T10:34:26\",\"1970-01-01T10:34:26\",\"1970-01-01T10:34:26\"],\"y\":[\"Trench\",\"Trench\",\"Trench\",\"Trench\",null,\"Trench\",\"Trench\",\"Trench\",\"Trench\",null,\"Cutter T\",\"Cutter T\",\"Cutter T\",\"Cutter T\",null,\"Cutter T\",\"Cutter T\",\"Cutter T\",\"Cutter T\",null],\"type\":\"scatter\"},{\"connectgaps\":false,\"hoverinfo\":\"y+name\",\"line\":{\"color\":\"rgb(152,65,165)\",\"width\":10},\"mode\":\"lines\",\"name\":\"loading:Carrier B\",\"x\":[\"1970-01-01T01:07:46\",\"1970-01-01T01:07:46\",\"1970-01-01T01:49:26\",\"1970-01-01T01:49:26\",\"1970-01-01T01:49:26\",\"1970-01-01T06:07:46\",\"1970-01-01T06:07:46\",\"1970-01-01T06:49:26\",\"1970-01-01T06:49:26\",\"1970-01-01T06:49:26\",\"1970-01-01T10:34:26\",\"1970-01-01T10:34:26\",\"1970-01-01T11:16:06\",\"1970-01-01T11:16:06\",\"1970-01-01T11:16:06\",\"1970-01-01T01:07:46\",\"1970-01-01T01:07:46\",\"1970-01-01T01:49:26\",\"1970-01-01T01:49:26\",\"1970-01-01T01:49:26\",\"1970-01-01T06:07:46\",\"1970-01-01T06:07:46\",\"1970-01-01T06:49:26\",\"1970-01-01T06:49:26\",\"1970-01-01T06:49:26\",\"1970-01-01T10:34:26\",\"1970-01-01T10:34:26\",\"1970-01-01T11:16:06\",\"1970-01-01T11:16:06\",\"1970-01-01T11:16:06\"],\"y\":[\"Trench\",\"Trench\",\"Trench\",\"Trench\",null,\"Trench\",\"Trench\",\"Trench\",\"Trench\",null,\"Trench\",\"Trench\",\"Trench\",\"Trench\",null,\"Cutter T\",\"Cutter T\",\"Cutter T\",\"Cutter T\",null,\"Cutter T\",\"Cutter T\",\"Cutter T\",\"Cutter T\",null,\"Cutter T\",\"Cutter T\",\"Cutter T\",\"Cutter T\",null],\"type\":\"scatter\"},{\"connectgaps\":false,\"hoverinfo\":\"y+name\",\"line\":{\"color\":\"rgb(162,75,175)\",\"width\":10},\"mode\":\"lines\",\"name\":\"loading:Barge I\",\"x\":[\"1970-01-01T05:34:26\",\"1970-01-01T05:34:26\",\"1970-01-01T06:07:46\",\"1970-01-01T06:07:46\",\"1970-01-01T06:07:46\",\"1970-01-01T11:16:06\",\"1970-01-01T11:16:06\",\"1970-01-01T11:49:26\",\"1970-01-01T11:49:26\",\"1970-01-01T11:49:26\",\"1970-01-01T05:34:26\",\"1970-01-01T05:34:26\",\"1970-01-01T06:07:46\",\"1970-01-01T06:07:46\",\"1970-01-01T06:07:46\",\"1970-01-01T11:16:06\",\"1970-01-01T11:16:06\",\"1970-01-01T11:49:26\",\"1970-01-01T11:49:26\",\"1970-01-01T11:49:26\"],\"y\":[\"Trench\",\"Trench\",\"Trench\",\"Trench\",null,\"Trench\",\"Trench\",\"Trench\",\"Trench\",null,\"Cutter T\",\"Cutter T\",\"Cutter T\",\"Cutter T\",null,\"Cutter T\",\"Cutter T\",\"Cutter T\",\"Cutter T\",null],\"type\":\"scatter\"},{\"connectgaps\":false,\"hoverinfo\":\"y+name\",\"line\":{\"color\":\"rgb(172,85,185)\",\"width\":10},\"mode\":\"lines\",\"name\":\"loading:Extra 2\",\"x\":[\"1970-01-01T03:04:26\",\"1970-01-01T03:04:26\",\"1970-01-01T03:37:46\",\"1970-01-01T03:37:46\",\"1970-01-01T03:37:46\",\"1970-01-01T08:04:26\",\"1970-01-01T08:04:26\",\"1970-01-01T08:37:46\",\"1970-01-01T08:37:46\",\"1970-01-01T08:37:46\",\"1970-01-01T13:04:26\",\"1970-01-01T13:04:26\",\"1970-01-01T13:37:46\",\"1970-01-01T13:37:46\",\"1970-01-01T13:37:46\",\"1970-01-01T03:04:26\",\"1970-01-01T03:04:26\",\"1970-01-01T03:37:46\",\"1970-01-01T03:37:46\",\"1970-01-01T03:37:46\",\"1970-01-01T08:04:26\",\"1970-01-01T08:04:26\",\"1970-01-01T08:37:46\",\"1970-01-01T08:37:46\",\"1970-01-01T08:37:46\",\"1970-01-01T13:04:26\",\"1970-01-01T13:04:26\",\"1970-01-01T13:37:46\",\"1970-01-01T13:37:46\",\"1970-01-01T13:37:46\"],\"y\":[\"Trench\",\"Trench\",\"Trench\",\"Trench\",null,\"Trench\",\"Trench\",\"Trench\",\"Trench\",null,\"Trench\",\"Trench\",\"Trench\",\"Trench\",null,\"Cutter T\",\"Cutter T\",\"Cutter T\",\"Cutter T\",null,\"Cutter T\",\"Cutter T\",\"Cutter T\",\"Cutter T\",null,\"Cutter T\",\"Cutter T\",\"Cutter T\",\"Cutter T\",null],\"type\":\"scatter\"},{\"connectgaps\":false,\"hoverinfo\":\"y+name\",\"line\":{\"color\":\"rgb(182,95,195)\",\"width\":10},\"mode\":\"lines\",\"name\":\"loading:Extra 1\",\"x\":[\"1970-01-01T03:37:46\",\"1970-01-01T03:37:46\",\"1970-01-01T04:19:26\",\"1970-01-01T04:19:26\",\"1970-01-01T04:19:26\",\"1970-01-01T08:37:46\",\"1970-01-01T08:37:46\",\"1970-01-01T09:19:26\",\"1970-01-01T09:19:26\",\"1970-01-01T09:19:26\",\"1970-01-01T13:37:46\",\"1970-01-01T13:37:46\",\"1970-01-01T14:19:26\",\"1970-01-01T14:19:26\",\"1970-01-01T14:19:26\",\"1970-01-01T03:37:46\",\"1970-01-01T03:37:46\",\"1970-01-01T04:19:26\",\"1970-01-01T04:19:26\",\"1970-01-01T04:19:26\",\"1970-01-01T08:37:46\",\"1970-01-01T08:37:46\",\"1970-01-01T09:19:26\",\"1970-01-01T09:19:26\",\"1970-01-01T09:19:26\",\"1970-01-01T13:37:46\",\"1970-01-01T13:37:46\",\"1970-01-01T14:19:26\",\"1970-01-01T14:19:26\",\"1970-01-01T14:19:26\"],\"y\":[\"Trench\",\"Trench\",\"Trench\",\"Trench\",null,\"Trench\",\"Trench\",\"Trench\",\"Trench\",null,\"Trench\",\"Trench\",\"Trench\",\"Trench\",null,\"Cutter T\",\"Cutter T\",\"Cutter T\",\"Cutter T\",null,\"Cutter T\",\"Cutter T\",\"Cutter T\",\"Cutter T\",null,\"Cutter T\",\"Cutter T\",\"Cutter T\",\"Cutter T\",null],\"type\":\"scatter\"},{\"connectgaps\":false,\"hoverinfo\":\"y+name\",\"line\":{\"color\":\"rgb(192,105,205)\",\"width\":10},\"mode\":\"lines\",\"name\":\"unloading:Extra 1\",\"x\":[\"1970-01-01T05:00:55\",\"1970-01-01T05:00:55\",\"1970-01-01T05:42:24\",\"1970-01-01T05:42:24\",\"1970-01-01T05:42:24\",\"1970-01-01T10:00:55\",\"1970-01-01T10:00:55\",\"1970-01-01T10:42:24\",\"1970-01-01T10:42:24\",\"1970-01-01T10:42:24\",\"1970-01-01T15:00:55\",\"1970-01-01T15:00:55\",\"1970-01-01T15:42:24\",\"1970-01-01T15:42:24\",\"1970-01-01T15:42:24\"],\"y\":[\"Reclamation\",\"Reclamation\",\"Reclamation\",\"Reclamation\",null,\"Reclamation\",\"Reclamation\",\"Reclamation\",\"Reclamation\",null,\"Reclamation\",\"Reclamation\",\"Reclamation\",\"Reclamation\",null],\"type\":\"scatter\"},{\"connectgaps\":false,\"hoverinfo\":\"y+name\",\"line\":{\"color\":\"rgb(202,115,215)\",\"width\":10},\"mode\":\"lines\",\"name\":\"unloading:Carrier B\",\"x\":[\"1970-01-01T02:23:19\",\"1970-01-01T02:23:19\",\"1970-01-01T02:57:12\",\"1970-01-01T02:57:12\",\"1970-01-01T02:57:12\",\"1970-01-01T07:23:19\",\"1970-01-01T07:23:19\",\"1970-01-01T07:57:12\",\"1970-01-01T07:57:12\",\"1970-01-01T07:57:12\",\"1970-01-01T11:49:59\",\"1970-01-01T11:49:59\",\"1970-01-01T12:23:52\",\"1970-01-01T12:23:52\",\"1970-01-01T12:23:52\"],\"y\":[\"Reclamation\",\"Reclamation\",\"Reclamation\",\"Reclamation\",null,\"Reclamation\",\"Reclamation\",\"Reclamation\",\"Reclamation\",null,\"Reclamation\",\"Reclamation\",\"Reclamation\",\"Reclamation\",null],\"type\":\"scatter\"},{\"connectgaps\":false,\"hoverinfo\":\"y+name\",\"line\":{\"color\":\"rgb(212,125,225)\",\"width\":10},\"mode\":\"lines\",\"name\":\"unloading:Barge III\",\"x\":[\"1970-01-01T05:43:38\",\"1970-01-01T05:43:38\",\"1970-01-01T06:26:10\",\"1970-01-01T06:26:10\",\"1970-01-01T06:26:10\",\"1970-01-01T10:43:38\",\"1970-01-01T10:43:38\",\"1970-01-01T11:26:10\",\"1970-01-01T11:26:10\",\"1970-01-01T11:26:10\",\"1970-01-01T15:43:38\",\"1970-01-01T15:43:38\",\"1970-01-01T16:26:10\",\"1970-01-01T16:26:10\",\"1970-01-01T16:26:10\"],\"y\":[\"Reclamation\",\"Reclamation\",\"Reclamation\",\"Reclamation\",null,\"Reclamation\",\"Reclamation\",\"Reclamation\",\"Reclamation\",null,\"Reclamation\",\"Reclamation\",\"Reclamation\",\"Reclamation\",null],\"type\":\"scatter\"},{\"connectgaps\":false,\"hoverinfo\":\"y+name\",\"line\":{\"color\":\"rgb(222,135,235)\",\"width\":10},\"mode\":\"lines\",\"name\":\"unloading:Barge II\",\"x\":[\"1970-01-01T02:57:41\",\"1970-01-01T02:57:41\",\"1970-01-01T03:32:36\",\"1970-01-01T03:32:36\",\"1970-01-01T03:32:36\",\"1970-01-01T07:57:41\",\"1970-01-01T07:57:41\",\"1970-01-01T08:32:36\",\"1970-01-01T08:32:36\",\"1970-01-01T08:32:36\",\"1970-01-01T12:57:41\",\"1970-01-01T12:57:41\",\"1970-01-01T13:32:36\",\"1970-01-01T13:32:36\",\"1970-01-01T13:32:36\"],\"y\":[\"Reclamation\",\"Reclamation\",\"Reclamation\",\"Reclamation\",null,\"Reclamation\",\"Reclamation\",\"Reclamation\",\"Reclamation\",null,\"Reclamation\",\"Reclamation\",\"Reclamation\",\"Reclamation\",null],\"type\":\"scatter\"},{\"connectgaps\":false,\"hoverinfo\":\"y+name\",\"line\":{\"color\":\"rgb(232,145,245)\",\"width\":10},\"mode\":\"lines\",\"name\":\"unloading:Barge I\",\"x\":[\"1970-01-01T06:56:10\",\"1970-01-01T06:56:10\",\"1970-01-01T07:44:34\",\"1970-01-01T07:44:34\",\"1970-01-01T07:44:34\",\"1970-01-01T12:37:50\",\"1970-01-01T12:37:50\",\"1970-01-01T13:26:14\",\"1970-01-01T13:26:14\",\"1970-01-01T13:26:14\"],\"y\":[\"Reclamation\",\"Reclamation\",\"Reclamation\",\"Reclamation\",null,\"Reclamation\",\"Reclamation\",\"Reclamation\",\"Reclamation\",null],\"type\":\"scatter\"},{\"connectgaps\":false,\"hoverinfo\":\"y+name\",\"line\":{\"color\":\"rgb(242,155,255)\",\"width\":10},\"mode\":\"lines\",\"name\":\"unloading:Carrier C\",\"x\":[\"1970-01-01T06:21:51\",\"1970-01-01T06:21:51\",\"1970-01-01T07:09:16\",\"1970-01-01T07:09:16\",\"1970-01-01T07:09:16\",\"1970-01-01T11:21:51\",\"1970-01-01T11:21:51\",\"1970-01-01T12:09:16\",\"1970-01-01T12:09:16\",\"1970-01-01T12:09:16\"],\"y\":[\"Reclamation\",\"Reclamation\",\"Reclamation\",\"Reclamation\",null,\"Reclamation\",\"Reclamation\",\"Reclamation\",\"Reclamation\",null],\"type\":\"scatter\"},{\"connectgaps\":false,\"hoverinfo\":\"y+name\",\"line\":{\"color\":\"rgb(252,165,9)\",\"width\":10},\"mode\":\"lines\",\"name\":\"unloading:Carrier A\",\"x\":[\"1970-01-01T03:43:11\",\"1970-01-01T03:43:11\",\"1970-01-01T04:21:56\",\"1970-01-01T04:21:56\",\"1970-01-01T04:21:56\",\"1970-01-01T08:43:11\",\"1970-01-01T08:43:11\",\"1970-01-01T09:21:56\",\"1970-01-01T09:21:56\",\"1970-01-01T09:21:56\",\"1970-01-01T13:43:11\",\"1970-01-01T13:43:11\",\"1970-01-01T14:21:56\",\"1970-01-01T14:21:56\",\"1970-01-01T14:21:56\"],\"y\":[\"Reclamation\",\"Reclamation\",\"Reclamation\",\"Reclamation\",null,\"Reclamation\",\"Reclamation\",\"Reclamation\",\"Reclamation\",null,\"Reclamation\",\"Reclamation\",\"Reclamation\",\"Reclamation\",null],\"type\":\"scatter\"},{\"connectgaps\":false,\"hoverinfo\":\"y+name\",\"line\":{\"color\":\"rgb(6,175,19)\",\"width\":10},\"mode\":\"lines\",\"name\":\"unloading:Extra 2\",\"x\":[\"1970-01-01T04:17:00\",\"1970-01-01T04:17:00\",\"1970-01-01T04:56:14\",\"1970-01-01T04:56:14\",\"1970-01-01T04:56:14\",\"1970-01-01T09:17:00\",\"1970-01-01T09:17:00\",\"1970-01-01T09:56:14\",\"1970-01-01T09:56:14\",\"1970-01-01T09:56:14\",\"1970-01-01T14:17:00\",\"1970-01-01T14:17:00\",\"1970-01-01T14:56:14\",\"1970-01-01T14:56:14\",\"1970-01-01T14:56:14\"],\"y\":[\"Reclamation\",\"Reclamation\",\"Reclamation\",\"Reclamation\",null,\"Reclamation\",\"Reclamation\",\"Reclamation\",\"Reclamation\",null,\"Reclamation\",\"Reclamation\",\"Reclamation\",\"Reclamation\",null],\"type\":\"scatter\"},{\"connectgaps\":false,\"hoverinfo\":\"y+name\",\"line\":{\"color\":\"rgb(16,185,29)\",\"width\":10},\"mode\":\"lines\",\"name\":\"loading:Barge II\",\"x\":[\"1970-01-01T01:49:26\",\"1970-01-01T01:49:26\",\"1970-01-01T02:22:46\",\"1970-01-01T02:22:46\",\"1970-01-01T02:22:46\",\"1970-01-01T06:49:26\",\"1970-01-01T06:49:26\",\"1970-01-01T07:22:46\",\"1970-01-01T07:22:46\",\"1970-01-01T07:22:46\",\"1970-01-01T11:49:26\",\"1970-01-01T11:49:26\",\"1970-01-01T12:22:46\",\"1970-01-01T12:22:46\",\"1970-01-01T12:22:46\",\"1970-01-01T01:49:26\",\"1970-01-01T01:49:26\",\"1970-01-01T02:22:46\",\"1970-01-01T02:22:46\",\"1970-01-01T02:22:46\",\"1970-01-01T06:49:26\",\"1970-01-01T06:49:26\",\"1970-01-01T07:22:46\",\"1970-01-01T07:22:46\",\"1970-01-01T07:22:46\",\"1970-01-01T11:49:26\",\"1970-01-01T11:49:26\",\"1970-01-01T12:22:46\",\"1970-01-01T12:22:46\",\"1970-01-01T12:22:46\"],\"y\":[\"Trench\",\"Trench\",\"Trench\",\"Trench\",null,\"Trench\",\"Trench\",\"Trench\",\"Trench\",null,\"Trench\",\"Trench\",\"Trench\",\"Trench\",null,\"Cutter T\",\"Cutter T\",\"Cutter T\",\"Cutter T\",null,\"Cutter T\",\"Cutter T\",\"Cutter T\",\"Cutter T\",null,\"Cutter T\",\"Cutter T\",\"Cutter T\",\"Cutter T\",null],\"type\":\"scatter\"},{\"connectgaps\":false,\"hoverinfo\":\"y+name\",\"line\":{\"color\":\"rgb(26,195,39)\",\"width\":10},\"mode\":\"lines\",\"name\":\"loading:Barge III\",\"x\":[\"1970-01-01T04:19:26\",\"1970-01-01T04:19:26\",\"1970-01-01T05:01:06\",\"1970-01-01T05:01:06\",\"1970-01-01T05:01:06\",\"1970-01-01T09:19:26\",\"1970-01-01T09:19:26\",\"1970-01-01T10:01:06\",\"1970-01-01T10:01:06\",\"1970-01-01T10:01:06\",\"1970-01-01T14:19:26\",\"1970-01-01T14:19:26\",\"1970-01-01T15:01:06\",\"1970-01-01T15:01:06\",\"1970-01-01T15:01:06\",\"1970-01-01T04:19:26\",\"1970-01-01T04:19:26\",\"1970-01-01T05:01:06\",\"1970-01-01T05:01:06\",\"1970-01-01T05:01:06\",\"1970-01-01T09:19:26\",\"1970-01-01T09:19:26\",\"1970-01-01T10:01:06\",\"1970-01-01T10:01:06\",\"1970-01-01T10:01:06\",\"1970-01-01T14:19:26\",\"1970-01-01T14:19:26\",\"1970-01-01T15:01:06\",\"1970-01-01T15:01:06\",\"1970-01-01T15:01:06\"],\"y\":[\"Trench\",\"Trench\",\"Trench\",\"Trench\",null,\"Trench\",\"Trench\",\"Trench\",\"Trench\",null,\"Trench\",\"Trench\",\"Trench\",\"Trench\",null,\"Cutter T\",\"Cutter T\",\"Cutter T\",\"Cutter T\",null,\"Cutter T\",\"Cutter T\",\"Cutter T\",\"Cutter T\",null,\"Cutter T\",\"Cutter T\",\"Cutter T\",\"Cutter T\",null],\"type\":\"scatter\"},{\"connectgaps\":false,\"hoverinfo\":\"y+name\",\"line\":{\"color\":\"rgb(36,205,49)\",\"width\":10},\"mode\":\"lines\",\"name\":\"loading:Carrier A\",\"x\":[\"1970-01-01T02:22:46\",\"1970-01-01T02:22:46\",\"1970-01-01T03:04:26\",\"1970-01-01T03:04:26\",\"1970-01-01T03:04:26\",\"1970-01-01T07:22:46\",\"1970-01-01T07:22:46\",\"1970-01-01T08:04:26\",\"1970-01-01T08:04:26\",\"1970-01-01T08:04:26\",\"1970-01-01T12:22:46\",\"1970-01-01T12:22:46\",\"1970-01-01T13:04:26\",\"1970-01-01T13:04:26\",\"1970-01-01T13:04:26\",\"1970-01-01T02:22:46\",\"1970-01-01T02:22:46\",\"1970-01-01T03:04:26\",\"1970-01-01T03:04:26\",\"1970-01-01T03:04:26\",\"1970-01-01T07:22:46\",\"1970-01-01T07:22:46\",\"1970-01-01T08:04:26\",\"1970-01-01T08:04:26\",\"1970-01-01T08:04:26\",\"1970-01-01T12:22:46\",\"1970-01-01T12:22:46\",\"1970-01-01T13:04:26\",\"1970-01-01T13:04:26\",\"1970-01-01T13:04:26\"],\"y\":[\"Trench\",\"Trench\",\"Trench\",\"Trench\",null,\"Trench\",\"Trench\",\"Trench\",\"Trench\",null,\"Trench\",\"Trench\",\"Trench\",\"Trench\",null,\"Cutter T\",\"Cutter T\",\"Cutter T\",\"Cutter T\",null,\"Cutter T\",\"Cutter T\",\"Cutter T\",\"Cutter T\",null,\"Cutter T\",\"Cutter T\",\"Cutter T\",\"Cutter T\",null],\"type\":\"scatter\"},{\"connectgaps\":false,\"hoverinfo\":\"y+name\",\"line\":{\"color\":\"rgb(46,215,59)\",\"width\":10},\"mode\":\"lines\",\"name\":\"loading:Carrier C\",\"x\":[\"1970-01-01T05:01:06\",\"1970-01-01T05:01:06\",\"1970-01-01T05:34:26\",\"1970-01-01T05:34:26\",\"1970-01-01T05:34:26\",\"1970-01-01T10:01:06\",\"1970-01-01T10:01:06\",\"1970-01-01T10:34:26\",\"1970-01-01T10:34:26\",\"1970-01-01T10:34:26\",\"1970-01-01T05:01:06\",\"1970-01-01T05:01:06\",\"1970-01-01T05:34:26\",\"1970-01-01T05:34:26\",\"1970-01-01T05:34:26\",\"1970-01-01T10:01:06\",\"1970-01-01T10:01:06\",\"1970-01-01T10:34:26\",\"1970-01-01T10:34:26\",\"1970-01-01T10:34:26\"],\"y\":[\"Trench\",\"Trench\",\"Trench\",\"Trench\",null,\"Trench\",\"Trench\",\"Trench\",\"Trench\",null,\"Cutter T\",\"Cutter T\",\"Cutter T\",\"Cutter T\",null,\"Cutter T\",\"Cutter T\",\"Cutter T\",\"Cutter T\",null],\"type\":\"scatter\"},{\"connectgaps\":false,\"hoverinfo\":\"y+name\",\"line\":{\"color\":\"rgb(56,225,69)\",\"width\":10},\"mode\":\"lines\",\"name\":\"loading:Carrier B\",\"x\":[\"1970-01-01T01:07:46\",\"1970-01-01T01:07:46\",\"1970-01-01T01:49:26\",\"1970-01-01T01:49:26\",\"1970-01-01T01:49:26\",\"1970-01-01T06:07:46\",\"1970-01-01T06:07:46\",\"1970-01-01T06:49:26\",\"1970-01-01T06:49:26\",\"1970-01-01T06:49:26\",\"1970-01-01T10:34:26\",\"1970-01-01T10:34:26\",\"1970-01-01T11:16:06\",\"1970-01-01T11:16:06\",\"1970-01-01T11:16:06\",\"1970-01-01T01:07:46\",\"1970-01-01T01:07:46\",\"1970-01-01T01:49:26\",\"1970-01-01T01:49:26\",\"1970-01-01T01:49:26\",\"1970-01-01T06:07:46\",\"1970-01-01T06:07:46\",\"1970-01-01T06:49:26\",\"1970-01-01T06:49:26\",\"1970-01-01T06:49:26\",\"1970-01-01T10:34:26\",\"1970-01-01T10:34:26\",\"1970-01-01T11:16:06\",\"1970-01-01T11:16:06\",\"1970-01-01T11:16:06\"],\"y\":[\"Trench\",\"Trench\",\"Trench\",\"Trench\",null,\"Trench\",\"Trench\",\"Trench\",\"Trench\",null,\"Trench\",\"Trench\",\"Trench\",\"Trench\",null,\"Cutter T\",\"Cutter T\",\"Cutter T\",\"Cutter T\",null,\"Cutter T\",\"Cutter T\",\"Cutter T\",\"Cutter T\",null,\"Cutter T\",\"Cutter T\",\"Cutter T\",\"Cutter T\",null],\"type\":\"scatter\"},{\"connectgaps\":false,\"hoverinfo\":\"y+name\",\"line\":{\"color\":\"rgb(66,235,79)\",\"width\":10},\"mode\":\"lines\",\"name\":\"loading:Barge I\",\"x\":[\"1970-01-01T05:34:26\",\"1970-01-01T05:34:26\",\"1970-01-01T06:07:46\",\"1970-01-01T06:07:46\",\"1970-01-01T06:07:46\",\"1970-01-01T11:16:06\",\"1970-01-01T11:16:06\",\"1970-01-01T11:49:26\",\"1970-01-01T11:49:26\",\"1970-01-01T11:49:26\",\"1970-01-01T05:34:26\",\"1970-01-01T05:34:26\",\"1970-01-01T06:07:46\",\"1970-01-01T06:07:46\",\"1970-01-01T06:07:46\",\"1970-01-01T11:16:06\",\"1970-01-01T11:16:06\",\"1970-01-01T11:49:26\",\"1970-01-01T11:49:26\",\"1970-01-01T11:49:26\"],\"y\":[\"Trench\",\"Trench\",\"Trench\",\"Trench\",null,\"Trench\",\"Trench\",\"Trench\",\"Trench\",null,\"Cutter T\",\"Cutter T\",\"Cutter T\",\"Cutter T\",null,\"Cutter T\",\"Cutter T\",\"Cutter T\",\"Cutter T\",null],\"type\":\"scatter\"},{\"connectgaps\":false,\"hoverinfo\":\"y+name\",\"line\":{\"color\":\"rgb(76,245,89)\",\"width\":10},\"mode\":\"lines\",\"name\":\"loading:Extra 2\",\"x\":[\"1970-01-01T03:04:26\",\"1970-01-01T03:04:26\",\"1970-01-01T03:37:46\",\"1970-01-01T03:37:46\",\"1970-01-01T03:37:46\",\"1970-01-01T08:04:26\",\"1970-01-01T08:04:26\",\"1970-01-01T08:37:46\",\"1970-01-01T08:37:46\",\"1970-01-01T08:37:46\",\"1970-01-01T13:04:26\",\"1970-01-01T13:04:26\",\"1970-01-01T13:37:46\",\"1970-01-01T13:37:46\",\"1970-01-01T13:37:46\",\"1970-01-01T03:04:26\",\"1970-01-01T03:04:26\",\"1970-01-01T03:37:46\",\"1970-01-01T03:37:46\",\"1970-01-01T03:37:46\",\"1970-01-01T08:04:26\",\"1970-01-01T08:04:26\",\"1970-01-01T08:37:46\",\"1970-01-01T08:37:46\",\"1970-01-01T08:37:46\",\"1970-01-01T13:04:26\",\"1970-01-01T13:04:26\",\"1970-01-01T13:37:46\",\"1970-01-01T13:37:46\",\"1970-01-01T13:37:46\"],\"y\":[\"Trench\",\"Trench\",\"Trench\",\"Trench\",null,\"Trench\",\"Trench\",\"Trench\",\"Trench\",null,\"Trench\",\"Trench\",\"Trench\",\"Trench\",null,\"Cutter T\",\"Cutter T\",\"Cutter T\",\"Cutter T\",null,\"Cutter T\",\"Cutter T\",\"Cutter T\",\"Cutter T\",null,\"Cutter T\",\"Cutter T\",\"Cutter T\",\"Cutter T\",null],\"type\":\"scatter\"},{\"connectgaps\":false,\"hoverinfo\":\"y+name\",\"line\":{\"color\":\"rgb(86,255,99)\",\"width\":10},\"mode\":\"lines\",\"name\":\"loading:Extra 1\",\"x\":[\"1970-01-01T03:37:46\",\"1970-01-01T03:37:46\",\"1970-01-01T04:19:26\",\"1970-01-01T04:19:26\",\"1970-01-01T04:19:26\",\"1970-01-01T08:37:46\",\"1970-01-01T08:37:46\",\"1970-01-01T09:19:26\",\"1970-01-01T09:19:26\",\"1970-01-01T09:19:26\",\"1970-01-01T13:37:46\",\"1970-01-01T13:37:46\",\"1970-01-01T14:19:26\",\"1970-01-01T14:19:26\",\"1970-01-01T14:19:26\",\"1970-01-01T03:37:46\",\"1970-01-01T03:37:46\",\"1970-01-01T04:19:26\",\"1970-01-01T04:19:26\",\"1970-01-01T04:19:26\",\"1970-01-01T08:37:46\",\"1970-01-01T08:37:46\",\"1970-01-01T09:19:26\",\"1970-01-01T09:19:26\",\"1970-01-01T09:19:26\",\"1970-01-01T13:37:46\",\"1970-01-01T13:37:46\",\"1970-01-01T14:19:26\",\"1970-01-01T14:19:26\",\"1970-01-01T14:19:26\"],\"y\":[\"Trench\",\"Trench\",\"Trench\",\"Trench\",null,\"Trench\",\"Trench\",\"Trench\",\"Trench\",null,\"Trench\",\"Trench\",\"Trench\",\"Trench\",null,\"Cutter T\",\"Cutter T\",\"Cutter T\",\"Cutter T\",null,\"Cutter T\",\"Cutter T\",\"Cutter T\",\"Cutter T\",null,\"Cutter T\",\"Cutter T\",\"Cutter T\",\"Cutter T\",null],\"type\":\"scatter\"}],                        {\"hovermode\":\"closest\",\"legend\":{\"orientation\":\"h\",\"x\":0,\"y\":-0.2},\"template\":{\"data\":{\"barpolar\":[{\"marker\":{\"line\":{\"color\":\"#E5ECF6\",\"width\":0.5},\"pattern\":{\"fillmode\":\"overlay\",\"size\":10,\"solidity\":0.2}},\"type\":\"barpolar\"}],\"bar\":[{\"error_x\":{\"color\":\"#2a3f5f\"},\"error_y\":{\"color\":\"#2a3f5f\"},\"marker\":{\"line\":{\"color\":\"#E5ECF6\",\"width\":0.5},\"pattern\":{\"fillmode\":\"overlay\",\"size\":10,\"solidity\":0.2}},\"type\":\"bar\"}],\"carpet\":[{\"aaxis\":{\"endlinecolor\":\"#2a3f5f\",\"gridcolor\":\"white\",\"linecolor\":\"white\",\"minorgridcolor\":\"white\",\"startlinecolor\":\"#2a3f5f\"},\"baxis\":{\"endlinecolor\":\"#2a3f5f\",\"gridcolor\":\"white\",\"linecolor\":\"white\",\"minorgridcolor\":\"white\",\"startlinecolor\":\"#2a3f5f\"},\"type\":\"carpet\"}],\"choropleth\":[{\"colorbar\":{\"outlinewidth\":0,\"ticks\":\"\"},\"type\":\"choropleth\"}],\"contourcarpet\":[{\"colorbar\":{\"outlinewidth\":0,\"ticks\":\"\"},\"type\":\"contourcarpet\"}],\"contour\":[{\"colorbar\":{\"outlinewidth\":0,\"ticks\":\"\"},\"colorscale\":[[0.0,\"#0d0887\"],[0.1111111111111111,\"#46039f\"],[0.2222222222222222,\"#7201a8\"],[0.3333333333333333,\"#9c179e\"],[0.4444444444444444,\"#bd3786\"],[0.5555555555555556,\"#d8576b\"],[0.6666666666666666,\"#ed7953\"],[0.7777777777777778,\"#fb9f3a\"],[0.8888888888888888,\"#fdca26\"],[1.0,\"#f0f921\"]],\"type\":\"contour\"}],\"heatmapgl\":[{\"colorbar\":{\"outlinewidth\":0,\"ticks\":\"\"},\"colorscale\":[[0.0,\"#0d0887\"],[0.1111111111111111,\"#46039f\"],[0.2222222222222222,\"#7201a8\"],[0.3333333333333333,\"#9c179e\"],[0.4444444444444444,\"#bd3786\"],[0.5555555555555556,\"#d8576b\"],[0.6666666666666666,\"#ed7953\"],[0.7777777777777778,\"#fb9f3a\"],[0.8888888888888888,\"#fdca26\"],[1.0,\"#f0f921\"]],\"type\":\"heatmapgl\"}],\"heatmap\":[{\"colorbar\":{\"outlinewidth\":0,\"ticks\":\"\"},\"colorscale\":[[0.0,\"#0d0887\"],[0.1111111111111111,\"#46039f\"],[0.2222222222222222,\"#7201a8\"],[0.3333333333333333,\"#9c179e\"],[0.4444444444444444,\"#bd3786\"],[0.5555555555555556,\"#d8576b\"],[0.6666666666666666,\"#ed7953\"],[0.7777777777777778,\"#fb9f3a\"],[0.8888888888888888,\"#fdca26\"],[1.0,\"#f0f921\"]],\"type\":\"heatmap\"}],\"histogram2dcontour\":[{\"colorbar\":{\"outlinewidth\":0,\"ticks\":\"\"},\"colorscale\":[[0.0,\"#0d0887\"],[0.1111111111111111,\"#46039f\"],[0.2222222222222222,\"#7201a8\"],[0.3333333333333333,\"#9c179e\"],[0.4444444444444444,\"#bd3786\"],[0.5555555555555556,\"#d8576b\"],[0.6666666666666666,\"#ed7953\"],[0.7777777777777778,\"#fb9f3a\"],[0.8888888888888888,\"#fdca26\"],[1.0,\"#f0f921\"]],\"type\":\"histogram2dcontour\"}],\"histogram2d\":[{\"colorbar\":{\"outlinewidth\":0,\"ticks\":\"\"},\"colorscale\":[[0.0,\"#0d0887\"],[0.1111111111111111,\"#46039f\"],[0.2222222222222222,\"#7201a8\"],[0.3333333333333333,\"#9c179e\"],[0.4444444444444444,\"#bd3786\"],[0.5555555555555556,\"#d8576b\"],[0.6666666666666666,\"#ed7953\"],[0.7777777777777778,\"#fb9f3a\"],[0.8888888888888888,\"#fdca26\"],[1.0,\"#f0f921\"]],\"type\":\"histogram2d\"}],\"histogram\":[{\"marker\":{\"pattern\":{\"fillmode\":\"overlay\",\"size\":10,\"solidity\":0.2}},\"type\":\"histogram\"}],\"mesh3d\":[{\"colorbar\":{\"outlinewidth\":0,\"ticks\":\"\"},\"type\":\"mesh3d\"}],\"parcoords\":[{\"line\":{\"colorbar\":{\"outlinewidth\":0,\"ticks\":\"\"}},\"type\":\"parcoords\"}],\"pie\":[{\"automargin\":true,\"type\":\"pie\"}],\"scatter3d\":[{\"line\":{\"colorbar\":{\"outlinewidth\":0,\"ticks\":\"\"}},\"marker\":{\"colorbar\":{\"outlinewidth\":0,\"ticks\":\"\"}},\"type\":\"scatter3d\"}],\"scattercarpet\":[{\"marker\":{\"colorbar\":{\"outlinewidth\":0,\"ticks\":\"\"}},\"type\":\"scattercarpet\"}],\"scattergeo\":[{\"marker\":{\"colorbar\":{\"outlinewidth\":0,\"ticks\":\"\"}},\"type\":\"scattergeo\"}],\"scattergl\":[{\"marker\":{\"colorbar\":{\"outlinewidth\":0,\"ticks\":\"\"}},\"type\":\"scattergl\"}],\"scattermapbox\":[{\"marker\":{\"colorbar\":{\"outlinewidth\":0,\"ticks\":\"\"}},\"type\":\"scattermapbox\"}],\"scatterpolargl\":[{\"marker\":{\"colorbar\":{\"outlinewidth\":0,\"ticks\":\"\"}},\"type\":\"scatterpolargl\"}],\"scatterpolar\":[{\"marker\":{\"colorbar\":{\"outlinewidth\":0,\"ticks\":\"\"}},\"type\":\"scatterpolar\"}],\"scatter\":[{\"fillpattern\":{\"fillmode\":\"overlay\",\"size\":10,\"solidity\":0.2},\"type\":\"scatter\"}],\"scatterternary\":[{\"marker\":{\"colorbar\":{\"outlinewidth\":0,\"ticks\":\"\"}},\"type\":\"scatterternary\"}],\"surface\":[{\"colorbar\":{\"outlinewidth\":0,\"ticks\":\"\"},\"colorscale\":[[0.0,\"#0d0887\"],[0.1111111111111111,\"#46039f\"],[0.2222222222222222,\"#7201a8\"],[0.3333333333333333,\"#9c179e\"],[0.4444444444444444,\"#bd3786\"],[0.5555555555555556,\"#d8576b\"],[0.6666666666666666,\"#ed7953\"],[0.7777777777777778,\"#fb9f3a\"],[0.8888888888888888,\"#fdca26\"],[1.0,\"#f0f921\"]],\"type\":\"surface\"}],\"table\":[{\"cells\":{\"fill\":{\"color\":\"#EBF0F8\"},\"line\":{\"color\":\"white\"}},\"header\":{\"fill\":{\"color\":\"#C8D4E3\"},\"line\":{\"color\":\"white\"}},\"type\":\"table\"}]},\"layout\":{\"annotationdefaults\":{\"arrowcolor\":\"#2a3f5f\",\"arrowhead\":0,\"arrowwidth\":1},\"autotypenumbers\":\"strict\",\"coloraxis\":{\"colorbar\":{\"outlinewidth\":0,\"ticks\":\"\"}},\"colorscale\":{\"diverging\":[[0,\"#8e0152\"],[0.1,\"#c51b7d\"],[0.2,\"#de77ae\"],[0.3,\"#f1b6da\"],[0.4,\"#fde0ef\"],[0.5,\"#f7f7f7\"],[0.6,\"#e6f5d0\"],[0.7,\"#b8e186\"],[0.8,\"#7fbc41\"],[0.9,\"#4d9221\"],[1,\"#276419\"]],\"sequential\":[[0.0,\"#0d0887\"],[0.1111111111111111,\"#46039f\"],[0.2222222222222222,\"#7201a8\"],[0.3333333333333333,\"#9c179e\"],[0.4444444444444444,\"#bd3786\"],[0.5555555555555556,\"#d8576b\"],[0.6666666666666666,\"#ed7953\"],[0.7777777777777778,\"#fb9f3a\"],[0.8888888888888888,\"#fdca26\"],[1.0,\"#f0f921\"]],\"sequentialminus\":[[0.0,\"#0d0887\"],[0.1111111111111111,\"#46039f\"],[0.2222222222222222,\"#7201a8\"],[0.3333333333333333,\"#9c179e\"],[0.4444444444444444,\"#bd3786\"],[0.5555555555555556,\"#d8576b\"],[0.6666666666666666,\"#ed7953\"],[0.7777777777777778,\"#fb9f3a\"],[0.8888888888888888,\"#fdca26\"],[1.0,\"#f0f921\"]]},\"colorway\":[\"#636efa\",\"#EF553B\",\"#00cc96\",\"#ab63fa\",\"#FFA15A\",\"#19d3f3\",\"#FF6692\",\"#B6E880\",\"#FF97FF\",\"#FECB52\"],\"font\":{\"color\":\"#2a3f5f\"},\"geo\":{\"bgcolor\":\"white\",\"lakecolor\":\"white\",\"landcolor\":\"#E5ECF6\",\"showlakes\":true,\"showland\":true,\"subunitcolor\":\"white\"},\"hoverlabel\":{\"align\":\"left\"},\"hovermode\":\"closest\",\"mapbox\":{\"style\":\"light\"},\"paper_bgcolor\":\"white\",\"plot_bgcolor\":\"#E5ECF6\",\"polar\":{\"angularaxis\":{\"gridcolor\":\"white\",\"linecolor\":\"white\",\"ticks\":\"\"},\"bgcolor\":\"#E5ECF6\",\"radialaxis\":{\"gridcolor\":\"white\",\"linecolor\":\"white\",\"ticks\":\"\"}},\"scene\":{\"xaxis\":{\"backgroundcolor\":\"#E5ECF6\",\"gridcolor\":\"white\",\"gridwidth\":2,\"linecolor\":\"white\",\"showbackground\":true,\"ticks\":\"\",\"zerolinecolor\":\"white\"},\"yaxis\":{\"backgroundcolor\":\"#E5ECF6\",\"gridcolor\":\"white\",\"gridwidth\":2,\"linecolor\":\"white\",\"showbackground\":true,\"ticks\":\"\",\"zerolinecolor\":\"white\"},\"zaxis\":{\"backgroundcolor\":\"#E5ECF6\",\"gridcolor\":\"white\",\"gridwidth\":2,\"linecolor\":\"white\",\"showbackground\":true,\"ticks\":\"\",\"zerolinecolor\":\"white\"}},\"shapedefaults\":{\"line\":{\"color\":\"#2a3f5f\"}},\"ternary\":{\"aaxis\":{\"gridcolor\":\"white\",\"linecolor\":\"white\",\"ticks\":\"\"},\"baxis\":{\"gridcolor\":\"white\",\"linecolor\":\"white\",\"ticks\":\"\"},\"bgcolor\":\"#E5ECF6\",\"caxis\":{\"gridcolor\":\"white\",\"linecolor\":\"white\",\"ticks\":\"\"}},\"title\":{\"x\":0.05},\"xaxis\":{\"automargin\":true,\"gridcolor\":\"white\",\"linecolor\":\"white\",\"ticks\":\"\",\"title\":{\"standoff\":15},\"zerolinecolor\":\"white\",\"zerolinewidth\":2},\"yaxis\":{\"automargin\":true,\"gridcolor\":\"white\",\"linecolor\":\"white\",\"ticks\":\"\",\"title\":{\"standoff\":15},\"zerolinecolor\":\"white\",\"zerolinewidth\":2}}},\"title\":{\"text\":\"GANTT Chart\"},\"xaxis\":{\"range\":[\"1970-01-01T01:07:46\",\"1970-01-01T16:26:10\"],\"title\":{\"font\":{\"color\":\"#7f7f7f\",\"family\":\"Courier New, monospace\",\"size\":18},\"text\":\"Time\"}},\"yaxis\":{\"title\":{\"font\":{\"color\":\"#7f7f7f\",\"family\":\"Courier New, monospace\",\"size\":18},\"text\":\"Activities\"}}},                        {\"responsive\": true}                    ).then(function(){\n",
       "                            \n",
       "var gd = document.getElementById('7a69d326-d7af-4e2f-906f-8f7697abb099');\n",
       "var x = new MutationObserver(function (mutations, observer) {{\n",
       "        var display = window.getComputedStyle(gd).display;\n",
       "        if (!display || display === 'none') {{\n",
       "            console.log([gd, 'removed!']);\n",
       "            Plotly.purge(gd);\n",
       "            observer.disconnect();\n",
       "        }}\n",
       "}});\n",
       "\n",
       "// Listen for the removal of the full notebook cells\n",
       "var notebookContainer = gd.closest('#notebook-container');\n",
       "if (notebookContainer) {{\n",
       "    x.observe(notebookContainer, {childList: true});\n",
       "}}\n",
       "\n",
       "// Listen for the clearing of the current output cell\n",
       "var outputEl = gd.closest('.output');\n",
       "if (outputEl) {{\n",
       "    x.observe(outputEl, {childList: true});\n",
       "}}\n",
       "\n",
       "                        })                };                });            </script>        </div>"
      ]
     },
     "metadata": {},
     "output_type": "display_data"
    }
   ],
   "source": [
    "fig = get_gantt_chart([from_site, to_site, cutter], id_map=activities)"
   ]
  },
  {
   "cell_type": "markdown",
   "id": "9d68aee1",
   "metadata": {},
   "source": [
    "Plot only activities whose namespace (first letters) matches load*"
   ]
  },
  {
   "cell_type": "code",
   "execution_count": 29,
   "id": "6141ac61",
   "metadata": {},
   "outputs": [
    {
     "data": {
      "text/html": [
       "        <script type=\"text/javascript\">\n",
       "        window.PlotlyConfig = {MathJaxConfig: 'local'};\n",
       "        if (window.MathJax && window.MathJax.Hub && window.MathJax.Hub.Config) {window.MathJax.Hub.Config({SVG: {font: \"STIX-Web\"}});}\n",
       "        if (typeof require !== 'undefined') {\n",
       "        require.undef(\"plotly\");\n",
       "        requirejs.config({\n",
       "            paths: {\n",
       "                'plotly': ['https://cdn.plot.ly/plotly-2.18.2.min']\n",
       "            }\n",
       "        });\n",
       "        require(['plotly'], function(Plotly) {\n",
       "            window._Plotly = Plotly;\n",
       "        });\n",
       "        }\n",
       "        </script>\n",
       "        "
      ]
     },
     "metadata": {},
     "output_type": "display_data"
    },
    {
     "data": {
      "application/vnd.plotly.v1+json": {
       "config": {
        "linkText": "Export to plot.ly",
        "plotlyServerURL": "https://plot.ly",
        "showLink": false
       },
       "data": [
        {
         "connectgaps": false,
         "hoverinfo": "y+name",
         "line": {
          "color": "rgb(75,157,138)",
          "width": 10
         },
         "mode": "lines",
         "name": "loading:Carrier A",
         "type": "scatter",
         "x": [
          "1970-01-01T04:07:20",
          "1970-01-01T04:07:20",
          "1970-01-01T04:49:00",
          "1970-01-01T04:49:00",
          "1970-01-01T04:49:00",
          "1970-01-01T08:25:40",
          "1970-01-01T08:25:40",
          "1970-01-01T09:07:20",
          "1970-01-01T09:07:20",
          "1970-01-01T09:07:20",
          "1970-01-01T13:17:20",
          "1970-01-01T13:17:20",
          "1970-01-01T13:59:00",
          "1970-01-01T13:59:00",
          "1970-01-01T13:59:00",
          "1970-01-01T04:07:20",
          "1970-01-01T04:07:20",
          "1970-01-01T04:49:00",
          "1970-01-01T04:49:00",
          "1970-01-01T04:49:00",
          "1970-01-01T08:25:40",
          "1970-01-01T08:25:40",
          "1970-01-01T09:07:20",
          "1970-01-01T09:07:20",
          "1970-01-01T09:07:20",
          "1970-01-01T13:17:20",
          "1970-01-01T13:17:20",
          "1970-01-01T13:59:00",
          "1970-01-01T13:59:00",
          "1970-01-01T13:59:00"
         ],
         "y": [
          "loading:Carrier A",
          "loading:Carrier A",
          "loading:Carrier A",
          "loading:Carrier A",
          null,
          "loading:Carrier A",
          "loading:Carrier A",
          "loading:Carrier A",
          "loading:Carrier A",
          null,
          "loading:Carrier A",
          "loading:Carrier A",
          "loading:Carrier A",
          "loading:Carrier A",
          null,
          "loading:Carrier A",
          "loading:Carrier A",
          "loading:Carrier A",
          "loading:Carrier A",
          null,
          "loading:Carrier A",
          "loading:Carrier A",
          "loading:Carrier A",
          "loading:Carrier A",
          null,
          "loading:Carrier A",
          "loading:Carrier A",
          "loading:Carrier A",
          "loading:Carrier A",
          null
         ]
        },
        {
         "connectgaps": false,
         "hoverinfo": "y+name",
         "line": {
          "color": "rgb(93,175,156)",
          "width": 10
         },
         "mode": "lines",
         "name": "loading:Carrier A",
         "type": "scatter",
         "x": [
          "1970-01-01T04:07:20",
          "1970-01-01T04:07:20",
          "1970-01-01T04:49:00",
          "1970-01-01T04:49:00",
          "1970-01-01T04:49:00",
          "1970-01-01T08:25:40",
          "1970-01-01T08:25:40",
          "1970-01-01T09:07:20",
          "1970-01-01T09:07:20",
          "1970-01-01T09:07:20",
          "1970-01-01T13:17:20",
          "1970-01-01T13:17:20",
          "1970-01-01T13:59:00",
          "1970-01-01T13:59:00",
          "1970-01-01T13:59:00",
          "1970-01-01T04:07:20",
          "1970-01-01T04:07:20",
          "1970-01-01T04:49:00",
          "1970-01-01T04:49:00",
          "1970-01-01T04:49:00",
          "1970-01-01T08:25:40",
          "1970-01-01T08:25:40",
          "1970-01-01T09:07:20",
          "1970-01-01T09:07:20",
          "1970-01-01T09:07:20",
          "1970-01-01T13:17:20",
          "1970-01-01T13:17:20",
          "1970-01-01T13:59:00",
          "1970-01-01T13:59:00",
          "1970-01-01T13:59:00"
         ],
         "y": [
          "loading:Carrier A",
          "loading:Carrier A",
          "loading:Carrier A",
          "loading:Carrier A",
          null,
          "loading:Carrier A",
          "loading:Carrier A",
          "loading:Carrier A",
          "loading:Carrier A",
          null,
          "loading:Carrier A",
          "loading:Carrier A",
          "loading:Carrier A",
          "loading:Carrier A",
          null,
          "loading:Carrier A",
          "loading:Carrier A",
          "loading:Carrier A",
          "loading:Carrier A",
          null,
          "loading:Carrier A",
          "loading:Carrier A",
          "loading:Carrier A",
          "loading:Carrier A",
          null,
          "loading:Carrier A",
          "loading:Carrier A",
          "loading:Carrier A",
          "loading:Carrier A",
          null
         ]
        },
        {
         "connectgaps": false,
         "hoverinfo": "y+name",
         "line": {
          "color": "rgb(111,193,174)",
          "width": 10
         },
         "mode": "lines",
         "name": "loading:Carrier B",
         "type": "scatter",
         "x": [
          "1970-01-01T03:00:40",
          "1970-01-01T03:00:40",
          "1970-01-01T03:34:00",
          "1970-01-01T03:34:00",
          "1970-01-01T03:34:00",
          "1970-01-01T07:19:00",
          "1970-01-01T07:19:00",
          "1970-01-01T07:52:20",
          "1970-01-01T07:52:20",
          "1970-01-01T07:52:20",
          "1970-01-01T11:37:20",
          "1970-01-01T11:37:20",
          "1970-01-01T12:10:40",
          "1970-01-01T12:10:40",
          "1970-01-01T12:10:40",
          "1970-01-01T03:00:40",
          "1970-01-01T03:00:40",
          "1970-01-01T03:34:00",
          "1970-01-01T03:34:00",
          "1970-01-01T03:34:00",
          "1970-01-01T07:19:00",
          "1970-01-01T07:19:00",
          "1970-01-01T07:52:20",
          "1970-01-01T07:52:20",
          "1970-01-01T07:52:20",
          "1970-01-01T11:37:20",
          "1970-01-01T11:37:20",
          "1970-01-01T12:10:40",
          "1970-01-01T12:10:40",
          "1970-01-01T12:10:40"
         ],
         "y": [
          "loading:Carrier B",
          "loading:Carrier B",
          "loading:Carrier B",
          "loading:Carrier B",
          null,
          "loading:Carrier B",
          "loading:Carrier B",
          "loading:Carrier B",
          "loading:Carrier B",
          null,
          "loading:Carrier B",
          "loading:Carrier B",
          "loading:Carrier B",
          "loading:Carrier B",
          null,
          "loading:Carrier B",
          "loading:Carrier B",
          "loading:Carrier B",
          "loading:Carrier B",
          null,
          "loading:Carrier B",
          "loading:Carrier B",
          "loading:Carrier B",
          "loading:Carrier B",
          null,
          "loading:Carrier B",
          "loading:Carrier B",
          "loading:Carrier B",
          "loading:Carrier B",
          null
         ]
        },
        {
         "connectgaps": false,
         "hoverinfo": "y+name",
         "line": {
          "color": "rgb(129,211,192)",
          "width": 10
         },
         "mode": "lines",
         "name": "loading:Carrier B",
         "type": "scatter",
         "x": [
          "1970-01-01T03:00:40",
          "1970-01-01T03:00:40",
          "1970-01-01T03:34:00",
          "1970-01-01T03:34:00",
          "1970-01-01T03:34:00",
          "1970-01-01T07:19:00",
          "1970-01-01T07:19:00",
          "1970-01-01T07:52:20",
          "1970-01-01T07:52:20",
          "1970-01-01T07:52:20",
          "1970-01-01T11:37:20",
          "1970-01-01T11:37:20",
          "1970-01-01T12:10:40",
          "1970-01-01T12:10:40",
          "1970-01-01T12:10:40",
          "1970-01-01T03:00:40",
          "1970-01-01T03:00:40",
          "1970-01-01T03:34:00",
          "1970-01-01T03:34:00",
          "1970-01-01T03:34:00",
          "1970-01-01T07:19:00",
          "1970-01-01T07:19:00",
          "1970-01-01T07:52:20",
          "1970-01-01T07:52:20",
          "1970-01-01T07:52:20",
          "1970-01-01T11:37:20",
          "1970-01-01T11:37:20",
          "1970-01-01T12:10:40",
          "1970-01-01T12:10:40",
          "1970-01-01T12:10:40"
         ],
         "y": [
          "loading:Carrier B",
          "loading:Carrier B",
          "loading:Carrier B",
          "loading:Carrier B",
          null,
          "loading:Carrier B",
          "loading:Carrier B",
          "loading:Carrier B",
          "loading:Carrier B",
          null,
          "loading:Carrier B",
          "loading:Carrier B",
          "loading:Carrier B",
          "loading:Carrier B",
          null,
          "loading:Carrier B",
          "loading:Carrier B",
          "loading:Carrier B",
          "loading:Carrier B",
          null,
          "loading:Carrier B",
          "loading:Carrier B",
          "loading:Carrier B",
          "loading:Carrier B",
          null,
          "loading:Carrier B",
          "loading:Carrier B",
          "loading:Carrier B",
          "loading:Carrier B",
          null
         ]
        },
        {
         "connectgaps": false,
         "hoverinfo": "y+name",
         "line": {
          "color": "rgb(147,229,210)",
          "width": 10
         },
         "mode": "lines",
         "name": "loading:Carrier C",
         "type": "scatter",
         "x": [
          "1970-01-01T01:45:40",
          "1970-01-01T01:45:40",
          "1970-01-01T02:19:00",
          "1970-01-01T02:19:00",
          "1970-01-01T02:19:00",
          "1970-01-01T06:04:00",
          "1970-01-01T06:04:00",
          "1970-01-01T06:37:20",
          "1970-01-01T06:37:20",
          "1970-01-01T06:37:20",
          "1970-01-01T10:22:20",
          "1970-01-01T10:22:20",
          "1970-01-01T10:55:40",
          "1970-01-01T10:55:40",
          "1970-01-01T10:55:40",
          "1970-01-01T13:59:00",
          "1970-01-01T13:59:00",
          "1970-01-01T14:32:20",
          "1970-01-01T14:32:20",
          "1970-01-01T14:32:20",
          "1970-01-01T01:45:40",
          "1970-01-01T01:45:40",
          "1970-01-01T02:19:00",
          "1970-01-01T02:19:00",
          "1970-01-01T02:19:00",
          "1970-01-01T06:04:00",
          "1970-01-01T06:04:00",
          "1970-01-01T06:37:20",
          "1970-01-01T06:37:20",
          "1970-01-01T06:37:20",
          "1970-01-01T10:22:20",
          "1970-01-01T10:22:20",
          "1970-01-01T10:55:40",
          "1970-01-01T10:55:40",
          "1970-01-01T10:55:40",
          "1970-01-01T13:59:00",
          "1970-01-01T13:59:00",
          "1970-01-01T14:32:20",
          "1970-01-01T14:32:20",
          "1970-01-01T14:32:20"
         ],
         "y": [
          "loading:Carrier C",
          "loading:Carrier C",
          "loading:Carrier C",
          "loading:Carrier C",
          null,
          "loading:Carrier C",
          "loading:Carrier C",
          "loading:Carrier C",
          "loading:Carrier C",
          null,
          "loading:Carrier C",
          "loading:Carrier C",
          "loading:Carrier C",
          "loading:Carrier C",
          null,
          "loading:Carrier C",
          "loading:Carrier C",
          "loading:Carrier C",
          "loading:Carrier C",
          null,
          "loading:Carrier C",
          "loading:Carrier C",
          "loading:Carrier C",
          "loading:Carrier C",
          null,
          "loading:Carrier C",
          "loading:Carrier C",
          "loading:Carrier C",
          "loading:Carrier C",
          null,
          "loading:Carrier C",
          "loading:Carrier C",
          "loading:Carrier C",
          "loading:Carrier C",
          null,
          "loading:Carrier C",
          "loading:Carrier C",
          "loading:Carrier C",
          "loading:Carrier C",
          null
         ]
        },
        {
         "connectgaps": false,
         "hoverinfo": "y+name",
         "line": {
          "color": "rgb(165,247,228)",
          "width": 10
         },
         "mode": "lines",
         "name": "loading:Carrier C",
         "type": "scatter",
         "x": [
          "1970-01-01T01:45:40",
          "1970-01-01T01:45:40",
          "1970-01-01T02:19:00",
          "1970-01-01T02:19:00",
          "1970-01-01T02:19:00",
          "1970-01-01T06:04:00",
          "1970-01-01T06:04:00",
          "1970-01-01T06:37:20",
          "1970-01-01T06:37:20",
          "1970-01-01T06:37:20",
          "1970-01-01T10:22:20",
          "1970-01-01T10:22:20",
          "1970-01-01T10:55:40",
          "1970-01-01T10:55:40",
          "1970-01-01T10:55:40",
          "1970-01-01T13:59:00",
          "1970-01-01T13:59:00",
          "1970-01-01T14:32:20",
          "1970-01-01T14:32:20",
          "1970-01-01T14:32:20",
          "1970-01-01T01:45:40",
          "1970-01-01T01:45:40",
          "1970-01-01T02:19:00",
          "1970-01-01T02:19:00",
          "1970-01-01T02:19:00",
          "1970-01-01T06:04:00",
          "1970-01-01T06:04:00",
          "1970-01-01T06:37:20",
          "1970-01-01T06:37:20",
          "1970-01-01T06:37:20",
          "1970-01-01T10:22:20",
          "1970-01-01T10:22:20",
          "1970-01-01T10:55:40",
          "1970-01-01T10:55:40",
          "1970-01-01T10:55:40",
          "1970-01-01T13:59:00",
          "1970-01-01T13:59:00",
          "1970-01-01T14:32:20",
          "1970-01-01T14:32:20",
          "1970-01-01T14:32:20"
         ],
         "y": [
          "loading:Carrier C",
          "loading:Carrier C",
          "loading:Carrier C",
          "loading:Carrier C",
          null,
          "loading:Carrier C",
          "loading:Carrier C",
          "loading:Carrier C",
          "loading:Carrier C",
          null,
          "loading:Carrier C",
          "loading:Carrier C",
          "loading:Carrier C",
          "loading:Carrier C",
          null,
          "loading:Carrier C",
          "loading:Carrier C",
          "loading:Carrier C",
          "loading:Carrier C",
          null,
          "loading:Carrier C",
          "loading:Carrier C",
          "loading:Carrier C",
          "loading:Carrier C",
          null,
          "loading:Carrier C",
          "loading:Carrier C",
          "loading:Carrier C",
          "loading:Carrier C",
          null,
          "loading:Carrier C",
          "loading:Carrier C",
          "loading:Carrier C",
          "loading:Carrier C",
          null,
          "loading:Carrier C",
          "loading:Carrier C",
          "loading:Carrier C",
          "loading:Carrier C",
          null
         ]
        },
        {
         "connectgaps": false,
         "hoverinfo": "y+name",
         "line": {
          "color": "rgb(183,9,246)",
          "width": 10
         },
         "mode": "lines",
         "name": "loading:Barge I",
         "type": "scatter",
         "x": [
          "1970-01-01T02:19:00",
          "1970-01-01T02:19:00",
          "1970-01-01T03:00:40",
          "1970-01-01T03:00:40",
          "1970-01-01T03:00:40",
          "1970-01-01T06:37:20",
          "1970-01-01T06:37:20",
          "1970-01-01T07:19:00",
          "1970-01-01T07:19:00",
          "1970-01-01T07:19:00",
          "1970-01-01T10:55:40",
          "1970-01-01T10:55:40",
          "1970-01-01T11:37:20",
          "1970-01-01T11:37:20",
          "1970-01-01T11:37:20",
          "1970-01-01T02:19:00",
          "1970-01-01T02:19:00",
          "1970-01-01T03:00:40",
          "1970-01-01T03:00:40",
          "1970-01-01T03:00:40",
          "1970-01-01T06:37:20",
          "1970-01-01T06:37:20",
          "1970-01-01T07:19:00",
          "1970-01-01T07:19:00",
          "1970-01-01T07:19:00",
          "1970-01-01T10:55:40",
          "1970-01-01T10:55:40",
          "1970-01-01T11:37:20",
          "1970-01-01T11:37:20",
          "1970-01-01T11:37:20"
         ],
         "y": [
          "loading:Barge I",
          "loading:Barge I",
          "loading:Barge I",
          "loading:Barge I",
          null,
          "loading:Barge I",
          "loading:Barge I",
          "loading:Barge I",
          "loading:Barge I",
          null,
          "loading:Barge I",
          "loading:Barge I",
          "loading:Barge I",
          "loading:Barge I",
          null,
          "loading:Barge I",
          "loading:Barge I",
          "loading:Barge I",
          "loading:Barge I",
          null,
          "loading:Barge I",
          "loading:Barge I",
          "loading:Barge I",
          "loading:Barge I",
          null,
          "loading:Barge I",
          "loading:Barge I",
          "loading:Barge I",
          "loading:Barge I",
          null
         ]
        },
        {
         "connectgaps": false,
         "hoverinfo": "y+name",
         "line": {
          "color": "rgb(201,27,8)",
          "width": 10
         },
         "mode": "lines",
         "name": "loading:Barge I",
         "type": "scatter",
         "x": [
          "1970-01-01T02:19:00",
          "1970-01-01T02:19:00",
          "1970-01-01T03:00:40",
          "1970-01-01T03:00:40",
          "1970-01-01T03:00:40",
          "1970-01-01T06:37:20",
          "1970-01-01T06:37:20",
          "1970-01-01T07:19:00",
          "1970-01-01T07:19:00",
          "1970-01-01T07:19:00",
          "1970-01-01T10:55:40",
          "1970-01-01T10:55:40",
          "1970-01-01T11:37:20",
          "1970-01-01T11:37:20",
          "1970-01-01T11:37:20",
          "1970-01-01T02:19:00",
          "1970-01-01T02:19:00",
          "1970-01-01T03:00:40",
          "1970-01-01T03:00:40",
          "1970-01-01T03:00:40",
          "1970-01-01T06:37:20",
          "1970-01-01T06:37:20",
          "1970-01-01T07:19:00",
          "1970-01-01T07:19:00",
          "1970-01-01T07:19:00",
          "1970-01-01T10:55:40",
          "1970-01-01T10:55:40",
          "1970-01-01T11:37:20",
          "1970-01-01T11:37:20",
          "1970-01-01T11:37:20"
         ],
         "y": [
          "loading:Barge I",
          "loading:Barge I",
          "loading:Barge I",
          "loading:Barge I",
          null,
          "loading:Barge I",
          "loading:Barge I",
          "loading:Barge I",
          "loading:Barge I",
          null,
          "loading:Barge I",
          "loading:Barge I",
          "loading:Barge I",
          "loading:Barge I",
          null,
          "loading:Barge I",
          "loading:Barge I",
          "loading:Barge I",
          "loading:Barge I",
          null,
          "loading:Barge I",
          "loading:Barge I",
          "loading:Barge I",
          "loading:Barge I",
          null,
          "loading:Barge I",
          "loading:Barge I",
          "loading:Barge I",
          "loading:Barge I",
          null
         ]
        },
        {
         "connectgaps": false,
         "hoverinfo": "y+name",
         "line": {
          "color": "rgb(219,45,26)",
          "width": 10
         },
         "mode": "lines",
         "name": "loading:Barge II",
         "type": "scatter",
         "x": [
          "1970-01-01T04:49:00",
          "1970-01-01T04:49:00",
          "1970-01-01T05:30:40",
          "1970-01-01T05:30:40",
          "1970-01-01T05:30:40",
          "1970-01-01T09:40:40",
          "1970-01-01T09:40:40",
          "1970-01-01T10:22:20",
          "1970-01-01T10:22:20",
          "1970-01-01T10:22:20",
          "1970-01-01T14:32:20",
          "1970-01-01T14:32:20",
          "1970-01-01T15:14:00",
          "1970-01-01T15:14:00",
          "1970-01-01T15:14:00",
          "1970-01-01T04:49:00",
          "1970-01-01T04:49:00",
          "1970-01-01T05:30:40",
          "1970-01-01T05:30:40",
          "1970-01-01T05:30:40",
          "1970-01-01T09:40:40",
          "1970-01-01T09:40:40",
          "1970-01-01T10:22:20",
          "1970-01-01T10:22:20",
          "1970-01-01T10:22:20",
          "1970-01-01T14:32:20",
          "1970-01-01T14:32:20",
          "1970-01-01T15:14:00",
          "1970-01-01T15:14:00",
          "1970-01-01T15:14:00"
         ],
         "y": [
          "loading:Barge II",
          "loading:Barge II",
          "loading:Barge II",
          "loading:Barge II",
          null,
          "loading:Barge II",
          "loading:Barge II",
          "loading:Barge II",
          "loading:Barge II",
          null,
          "loading:Barge II",
          "loading:Barge II",
          "loading:Barge II",
          "loading:Barge II",
          null,
          "loading:Barge II",
          "loading:Barge II",
          "loading:Barge II",
          "loading:Barge II",
          null,
          "loading:Barge II",
          "loading:Barge II",
          "loading:Barge II",
          "loading:Barge II",
          null,
          "loading:Barge II",
          "loading:Barge II",
          "loading:Barge II",
          "loading:Barge II",
          null
         ]
        },
        {
         "connectgaps": false,
         "hoverinfo": "y+name",
         "line": {
          "color": "rgb(237,63,44)",
          "width": 10
         },
         "mode": "lines",
         "name": "loading:Barge II",
         "type": "scatter",
         "x": [
          "1970-01-01T04:49:00",
          "1970-01-01T04:49:00",
          "1970-01-01T05:30:40",
          "1970-01-01T05:30:40",
          "1970-01-01T05:30:40",
          "1970-01-01T09:40:40",
          "1970-01-01T09:40:40",
          "1970-01-01T10:22:20",
          "1970-01-01T10:22:20",
          "1970-01-01T10:22:20",
          "1970-01-01T14:32:20",
          "1970-01-01T14:32:20",
          "1970-01-01T15:14:00",
          "1970-01-01T15:14:00",
          "1970-01-01T15:14:00",
          "1970-01-01T04:49:00",
          "1970-01-01T04:49:00",
          "1970-01-01T05:30:40",
          "1970-01-01T05:30:40",
          "1970-01-01T05:30:40",
          "1970-01-01T09:40:40",
          "1970-01-01T09:40:40",
          "1970-01-01T10:22:20",
          "1970-01-01T10:22:20",
          "1970-01-01T10:22:20",
          "1970-01-01T14:32:20",
          "1970-01-01T14:32:20",
          "1970-01-01T15:14:00",
          "1970-01-01T15:14:00",
          "1970-01-01T15:14:00"
         ],
         "y": [
          "loading:Barge II",
          "loading:Barge II",
          "loading:Barge II",
          "loading:Barge II",
          null,
          "loading:Barge II",
          "loading:Barge II",
          "loading:Barge II",
          "loading:Barge II",
          null,
          "loading:Barge II",
          "loading:Barge II",
          "loading:Barge II",
          "loading:Barge II",
          null,
          "loading:Barge II",
          "loading:Barge II",
          "loading:Barge II",
          "loading:Barge II",
          null,
          "loading:Barge II",
          "loading:Barge II",
          "loading:Barge II",
          "loading:Barge II",
          null,
          "loading:Barge II",
          "loading:Barge II",
          "loading:Barge II",
          "loading:Barge II",
          null
         ]
        },
        {
         "connectgaps": false,
         "hoverinfo": "y+name",
         "line": {
          "color": "rgb(255,81,62)",
          "width": 10
         },
         "mode": "lines",
         "name": "loading:Barge III",
         "type": "scatter",
         "x": [
          "1970-01-01T01:12:20",
          "1970-01-01T01:12:20",
          "1970-01-01T01:45:40",
          "1970-01-01T01:45:40",
          "1970-01-01T01:45:40",
          "1970-01-01T05:30:40",
          "1970-01-01T05:30:40",
          "1970-01-01T06:04:00",
          "1970-01-01T06:04:00",
          "1970-01-01T06:04:00",
          "1970-01-01T09:07:20",
          "1970-01-01T09:07:20",
          "1970-01-01T09:40:40",
          "1970-01-01T09:40:40",
          "1970-01-01T09:40:40",
          "1970-01-01T12:44:00",
          "1970-01-01T12:44:00",
          "1970-01-01T13:17:20",
          "1970-01-01T13:17:20",
          "1970-01-01T13:17:20",
          "1970-01-01T01:12:20",
          "1970-01-01T01:12:20",
          "1970-01-01T01:45:40",
          "1970-01-01T01:45:40",
          "1970-01-01T01:45:40",
          "1970-01-01T05:30:40",
          "1970-01-01T05:30:40",
          "1970-01-01T06:04:00",
          "1970-01-01T06:04:00",
          "1970-01-01T06:04:00",
          "1970-01-01T09:07:20",
          "1970-01-01T09:07:20",
          "1970-01-01T09:40:40",
          "1970-01-01T09:40:40",
          "1970-01-01T09:40:40",
          "1970-01-01T12:44:00",
          "1970-01-01T12:44:00",
          "1970-01-01T13:17:20",
          "1970-01-01T13:17:20",
          "1970-01-01T13:17:20"
         ],
         "y": [
          "loading:Barge III",
          "loading:Barge III",
          "loading:Barge III",
          "loading:Barge III",
          null,
          "loading:Barge III",
          "loading:Barge III",
          "loading:Barge III",
          "loading:Barge III",
          null,
          "loading:Barge III",
          "loading:Barge III",
          "loading:Barge III",
          "loading:Barge III",
          null,
          "loading:Barge III",
          "loading:Barge III",
          "loading:Barge III",
          "loading:Barge III",
          null,
          "loading:Barge III",
          "loading:Barge III",
          "loading:Barge III",
          "loading:Barge III",
          null,
          "loading:Barge III",
          "loading:Barge III",
          "loading:Barge III",
          "loading:Barge III",
          null,
          "loading:Barge III",
          "loading:Barge III",
          "loading:Barge III",
          "loading:Barge III",
          null,
          "loading:Barge III",
          "loading:Barge III",
          "loading:Barge III",
          "loading:Barge III",
          null
         ]
        },
        {
         "connectgaps": false,
         "hoverinfo": "y+name",
         "line": {
          "color": "rgb(17,99,80)",
          "width": 10
         },
         "mode": "lines",
         "name": "loading:Barge III",
         "type": "scatter",
         "x": [
          "1970-01-01T01:12:20",
          "1970-01-01T01:12:20",
          "1970-01-01T01:45:40",
          "1970-01-01T01:45:40",
          "1970-01-01T01:45:40",
          "1970-01-01T05:30:40",
          "1970-01-01T05:30:40",
          "1970-01-01T06:04:00",
          "1970-01-01T06:04:00",
          "1970-01-01T06:04:00",
          "1970-01-01T09:07:20",
          "1970-01-01T09:07:20",
          "1970-01-01T09:40:40",
          "1970-01-01T09:40:40",
          "1970-01-01T09:40:40",
          "1970-01-01T12:44:00",
          "1970-01-01T12:44:00",
          "1970-01-01T13:17:20",
          "1970-01-01T13:17:20",
          "1970-01-01T13:17:20",
          "1970-01-01T01:12:20",
          "1970-01-01T01:12:20",
          "1970-01-01T01:45:40",
          "1970-01-01T01:45:40",
          "1970-01-01T01:45:40",
          "1970-01-01T05:30:40",
          "1970-01-01T05:30:40",
          "1970-01-01T06:04:00",
          "1970-01-01T06:04:00",
          "1970-01-01T06:04:00",
          "1970-01-01T09:07:20",
          "1970-01-01T09:07:20",
          "1970-01-01T09:40:40",
          "1970-01-01T09:40:40",
          "1970-01-01T09:40:40",
          "1970-01-01T12:44:00",
          "1970-01-01T12:44:00",
          "1970-01-01T13:17:20",
          "1970-01-01T13:17:20",
          "1970-01-01T13:17:20"
         ],
         "y": [
          "loading:Barge III",
          "loading:Barge III",
          "loading:Barge III",
          "loading:Barge III",
          null,
          "loading:Barge III",
          "loading:Barge III",
          "loading:Barge III",
          "loading:Barge III",
          null,
          "loading:Barge III",
          "loading:Barge III",
          "loading:Barge III",
          "loading:Barge III",
          null,
          "loading:Barge III",
          "loading:Barge III",
          "loading:Barge III",
          "loading:Barge III",
          null,
          "loading:Barge III",
          "loading:Barge III",
          "loading:Barge III",
          "loading:Barge III",
          null,
          "loading:Barge III",
          "loading:Barge III",
          "loading:Barge III",
          "loading:Barge III",
          null,
          "loading:Barge III",
          "loading:Barge III",
          "loading:Barge III",
          "loading:Barge III",
          null,
          "loading:Barge III",
          "loading:Barge III",
          "loading:Barge III",
          "loading:Barge III",
          null
         ]
        },
        {
         "connectgaps": false,
         "hoverinfo": "y+name",
         "line": {
          "color": "rgb(35,117,98)",
          "width": 10
         },
         "mode": "lines",
         "name": "loading:Extra 1",
         "type": "scatter",
         "x": [
          "1970-01-01T03:34:00",
          "1970-01-01T03:34:00",
          "1970-01-01T04:07:20",
          "1970-01-01T04:07:20",
          "1970-01-01T04:07:20",
          "1970-01-01T07:52:20",
          "1970-01-01T07:52:20",
          "1970-01-01T08:25:40",
          "1970-01-01T08:25:40",
          "1970-01-01T08:25:40",
          "1970-01-01T12:10:40",
          "1970-01-01T12:10:40",
          "1970-01-01T12:44:00",
          "1970-01-01T12:44:00",
          "1970-01-01T12:44:00",
          "1970-01-01T03:34:00",
          "1970-01-01T03:34:00",
          "1970-01-01T04:07:20",
          "1970-01-01T04:07:20",
          "1970-01-01T04:07:20",
          "1970-01-01T07:52:20",
          "1970-01-01T07:52:20",
          "1970-01-01T08:25:40",
          "1970-01-01T08:25:40",
          "1970-01-01T08:25:40",
          "1970-01-01T12:10:40",
          "1970-01-01T12:10:40",
          "1970-01-01T12:44:00",
          "1970-01-01T12:44:00",
          "1970-01-01T12:44:00"
         ],
         "y": [
          "loading:Extra 1",
          "loading:Extra 1",
          "loading:Extra 1",
          "loading:Extra 1",
          null,
          "loading:Extra 1",
          "loading:Extra 1",
          "loading:Extra 1",
          "loading:Extra 1",
          null,
          "loading:Extra 1",
          "loading:Extra 1",
          "loading:Extra 1",
          "loading:Extra 1",
          null,
          "loading:Extra 1",
          "loading:Extra 1",
          "loading:Extra 1",
          "loading:Extra 1",
          null,
          "loading:Extra 1",
          "loading:Extra 1",
          "loading:Extra 1",
          "loading:Extra 1",
          null,
          "loading:Extra 1",
          "loading:Extra 1",
          "loading:Extra 1",
          "loading:Extra 1",
          null
         ]
        },
        {
         "connectgaps": false,
         "hoverinfo": "y+name",
         "line": {
          "color": "rgb(53,135,116)",
          "width": 10
         },
         "mode": "lines",
         "name": "loading:Extra 1",
         "type": "scatter",
         "x": [
          "1970-01-01T03:34:00",
          "1970-01-01T03:34:00",
          "1970-01-01T04:07:20",
          "1970-01-01T04:07:20",
          "1970-01-01T04:07:20",
          "1970-01-01T07:52:20",
          "1970-01-01T07:52:20",
          "1970-01-01T08:25:40",
          "1970-01-01T08:25:40",
          "1970-01-01T08:25:40",
          "1970-01-01T12:10:40",
          "1970-01-01T12:10:40",
          "1970-01-01T12:44:00",
          "1970-01-01T12:44:00",
          "1970-01-01T12:44:00",
          "1970-01-01T03:34:00",
          "1970-01-01T03:34:00",
          "1970-01-01T04:07:20",
          "1970-01-01T04:07:20",
          "1970-01-01T04:07:20",
          "1970-01-01T07:52:20",
          "1970-01-01T07:52:20",
          "1970-01-01T08:25:40",
          "1970-01-01T08:25:40",
          "1970-01-01T08:25:40",
          "1970-01-01T12:10:40",
          "1970-01-01T12:10:40",
          "1970-01-01T12:44:00",
          "1970-01-01T12:44:00",
          "1970-01-01T12:44:00"
         ],
         "y": [
          "loading:Extra 1",
          "loading:Extra 1",
          "loading:Extra 1",
          "loading:Extra 1",
          null,
          "loading:Extra 1",
          "loading:Extra 1",
          "loading:Extra 1",
          "loading:Extra 1",
          null,
          "loading:Extra 1",
          "loading:Extra 1",
          "loading:Extra 1",
          "loading:Extra 1",
          null,
          "loading:Extra 1",
          "loading:Extra 1",
          "loading:Extra 1",
          "loading:Extra 1",
          null,
          "loading:Extra 1",
          "loading:Extra 1",
          "loading:Extra 1",
          "loading:Extra 1",
          null,
          "loading:Extra 1",
          "loading:Extra 1",
          "loading:Extra 1",
          "loading:Extra 1",
          null
         ]
        }
       ],
       "layout": {
        "hovermode": "closest",
        "legend": {
         "orientation": "h",
         "x": 0,
         "y": -0.2
        },
        "template": {
         "data": {
          "bar": [
           {
            "error_x": {
             "color": "#2a3f5f"
            },
            "error_y": {
             "color": "#2a3f5f"
            },
            "marker": {
             "line": {
              "color": "#E5ECF6",
              "width": 0.5
             },
             "pattern": {
              "fillmode": "overlay",
              "size": 10,
              "solidity": 0.2
             }
            },
            "type": "bar"
           }
          ],
          "barpolar": [
           {
            "marker": {
             "line": {
              "color": "#E5ECF6",
              "width": 0.5
             },
             "pattern": {
              "fillmode": "overlay",
              "size": 10,
              "solidity": 0.2
             }
            },
            "type": "barpolar"
           }
          ],
          "carpet": [
           {
            "aaxis": {
             "endlinecolor": "#2a3f5f",
             "gridcolor": "white",
             "linecolor": "white",
             "minorgridcolor": "white",
             "startlinecolor": "#2a3f5f"
            },
            "baxis": {
             "endlinecolor": "#2a3f5f",
             "gridcolor": "white",
             "linecolor": "white",
             "minorgridcolor": "white",
             "startlinecolor": "#2a3f5f"
            },
            "type": "carpet"
           }
          ],
          "choropleth": [
           {
            "colorbar": {
             "outlinewidth": 0,
             "ticks": ""
            },
            "type": "choropleth"
           }
          ],
          "contour": [
           {
            "colorbar": {
             "outlinewidth": 0,
             "ticks": ""
            },
            "colorscale": [
             [
              0,
              "#0d0887"
             ],
             [
              0.1111111111111111,
              "#46039f"
             ],
             [
              0.2222222222222222,
              "#7201a8"
             ],
             [
              0.3333333333333333,
              "#9c179e"
             ],
             [
              0.4444444444444444,
              "#bd3786"
             ],
             [
              0.5555555555555556,
              "#d8576b"
             ],
             [
              0.6666666666666666,
              "#ed7953"
             ],
             [
              0.7777777777777778,
              "#fb9f3a"
             ],
             [
              0.8888888888888888,
              "#fdca26"
             ],
             [
              1,
              "#f0f921"
             ]
            ],
            "type": "contour"
           }
          ],
          "contourcarpet": [
           {
            "colorbar": {
             "outlinewidth": 0,
             "ticks": ""
            },
            "type": "contourcarpet"
           }
          ],
          "heatmap": [
           {
            "colorbar": {
             "outlinewidth": 0,
             "ticks": ""
            },
            "colorscale": [
             [
              0,
              "#0d0887"
             ],
             [
              0.1111111111111111,
              "#46039f"
             ],
             [
              0.2222222222222222,
              "#7201a8"
             ],
             [
              0.3333333333333333,
              "#9c179e"
             ],
             [
              0.4444444444444444,
              "#bd3786"
             ],
             [
              0.5555555555555556,
              "#d8576b"
             ],
             [
              0.6666666666666666,
              "#ed7953"
             ],
             [
              0.7777777777777778,
              "#fb9f3a"
             ],
             [
              0.8888888888888888,
              "#fdca26"
             ],
             [
              1,
              "#f0f921"
             ]
            ],
            "type": "heatmap"
           }
          ],
          "heatmapgl": [
           {
            "colorbar": {
             "outlinewidth": 0,
             "ticks": ""
            },
            "colorscale": [
             [
              0,
              "#0d0887"
             ],
             [
              0.1111111111111111,
              "#46039f"
             ],
             [
              0.2222222222222222,
              "#7201a8"
             ],
             [
              0.3333333333333333,
              "#9c179e"
             ],
             [
              0.4444444444444444,
              "#bd3786"
             ],
             [
              0.5555555555555556,
              "#d8576b"
             ],
             [
              0.6666666666666666,
              "#ed7953"
             ],
             [
              0.7777777777777778,
              "#fb9f3a"
             ],
             [
              0.8888888888888888,
              "#fdca26"
             ],
             [
              1,
              "#f0f921"
             ]
            ],
            "type": "heatmapgl"
           }
          ],
          "histogram": [
           {
            "marker": {
             "pattern": {
              "fillmode": "overlay",
              "size": 10,
              "solidity": 0.2
             }
            },
            "type": "histogram"
           }
          ],
          "histogram2d": [
           {
            "colorbar": {
             "outlinewidth": 0,
             "ticks": ""
            },
            "colorscale": [
             [
              0,
              "#0d0887"
             ],
             [
              0.1111111111111111,
              "#46039f"
             ],
             [
              0.2222222222222222,
              "#7201a8"
             ],
             [
              0.3333333333333333,
              "#9c179e"
             ],
             [
              0.4444444444444444,
              "#bd3786"
             ],
             [
              0.5555555555555556,
              "#d8576b"
             ],
             [
              0.6666666666666666,
              "#ed7953"
             ],
             [
              0.7777777777777778,
              "#fb9f3a"
             ],
             [
              0.8888888888888888,
              "#fdca26"
             ],
             [
              1,
              "#f0f921"
             ]
            ],
            "type": "histogram2d"
           }
          ],
          "histogram2dcontour": [
           {
            "colorbar": {
             "outlinewidth": 0,
             "ticks": ""
            },
            "colorscale": [
             [
              0,
              "#0d0887"
             ],
             [
              0.1111111111111111,
              "#46039f"
             ],
             [
              0.2222222222222222,
              "#7201a8"
             ],
             [
              0.3333333333333333,
              "#9c179e"
             ],
             [
              0.4444444444444444,
              "#bd3786"
             ],
             [
              0.5555555555555556,
              "#d8576b"
             ],
             [
              0.6666666666666666,
              "#ed7953"
             ],
             [
              0.7777777777777778,
              "#fb9f3a"
             ],
             [
              0.8888888888888888,
              "#fdca26"
             ],
             [
              1,
              "#f0f921"
             ]
            ],
            "type": "histogram2dcontour"
           }
          ],
          "mesh3d": [
           {
            "colorbar": {
             "outlinewidth": 0,
             "ticks": ""
            },
            "type": "mesh3d"
           }
          ],
          "parcoords": [
           {
            "line": {
             "colorbar": {
              "outlinewidth": 0,
              "ticks": ""
             }
            },
            "type": "parcoords"
           }
          ],
          "pie": [
           {
            "automargin": true,
            "type": "pie"
           }
          ],
          "scatter": [
           {
            "fillpattern": {
             "fillmode": "overlay",
             "size": 10,
             "solidity": 0.2
            },
            "type": "scatter"
           }
          ],
          "scatter3d": [
           {
            "line": {
             "colorbar": {
              "outlinewidth": 0,
              "ticks": ""
             }
            },
            "marker": {
             "colorbar": {
              "outlinewidth": 0,
              "ticks": ""
             }
            },
            "type": "scatter3d"
           }
          ],
          "scattercarpet": [
           {
            "marker": {
             "colorbar": {
              "outlinewidth": 0,
              "ticks": ""
             }
            },
            "type": "scattercarpet"
           }
          ],
          "scattergeo": [
           {
            "marker": {
             "colorbar": {
              "outlinewidth": 0,
              "ticks": ""
             }
            },
            "type": "scattergeo"
           }
          ],
          "scattergl": [
           {
            "marker": {
             "colorbar": {
              "outlinewidth": 0,
              "ticks": ""
             }
            },
            "type": "scattergl"
           }
          ],
          "scattermapbox": [
           {
            "marker": {
             "colorbar": {
              "outlinewidth": 0,
              "ticks": ""
             }
            },
            "type": "scattermapbox"
           }
          ],
          "scatterpolar": [
           {
            "marker": {
             "colorbar": {
              "outlinewidth": 0,
              "ticks": ""
             }
            },
            "type": "scatterpolar"
           }
          ],
          "scatterpolargl": [
           {
            "marker": {
             "colorbar": {
              "outlinewidth": 0,
              "ticks": ""
             }
            },
            "type": "scatterpolargl"
           }
          ],
          "scatterternary": [
           {
            "marker": {
             "colorbar": {
              "outlinewidth": 0,
              "ticks": ""
             }
            },
            "type": "scatterternary"
           }
          ],
          "surface": [
           {
            "colorbar": {
             "outlinewidth": 0,
             "ticks": ""
            },
            "colorscale": [
             [
              0,
              "#0d0887"
             ],
             [
              0.1111111111111111,
              "#46039f"
             ],
             [
              0.2222222222222222,
              "#7201a8"
             ],
             [
              0.3333333333333333,
              "#9c179e"
             ],
             [
              0.4444444444444444,
              "#bd3786"
             ],
             [
              0.5555555555555556,
              "#d8576b"
             ],
             [
              0.6666666666666666,
              "#ed7953"
             ],
             [
              0.7777777777777778,
              "#fb9f3a"
             ],
             [
              0.8888888888888888,
              "#fdca26"
             ],
             [
              1,
              "#f0f921"
             ]
            ],
            "type": "surface"
           }
          ],
          "table": [
           {
            "cells": {
             "fill": {
              "color": "#EBF0F8"
             },
             "line": {
              "color": "white"
             }
            },
            "header": {
             "fill": {
              "color": "#C8D4E3"
             },
             "line": {
              "color": "white"
             }
            },
            "type": "table"
           }
          ]
         },
         "layout": {
          "annotationdefaults": {
           "arrowcolor": "#2a3f5f",
           "arrowhead": 0,
           "arrowwidth": 1
          },
          "autotypenumbers": "strict",
          "coloraxis": {
           "colorbar": {
            "outlinewidth": 0,
            "ticks": ""
           }
          },
          "colorscale": {
           "diverging": [
            [
             0,
             "#8e0152"
            ],
            [
             0.1,
             "#c51b7d"
            ],
            [
             0.2,
             "#de77ae"
            ],
            [
             0.3,
             "#f1b6da"
            ],
            [
             0.4,
             "#fde0ef"
            ],
            [
             0.5,
             "#f7f7f7"
            ],
            [
             0.6,
             "#e6f5d0"
            ],
            [
             0.7,
             "#b8e186"
            ],
            [
             0.8,
             "#7fbc41"
            ],
            [
             0.9,
             "#4d9221"
            ],
            [
             1,
             "#276419"
            ]
           ],
           "sequential": [
            [
             0,
             "#0d0887"
            ],
            [
             0.1111111111111111,
             "#46039f"
            ],
            [
             0.2222222222222222,
             "#7201a8"
            ],
            [
             0.3333333333333333,
             "#9c179e"
            ],
            [
             0.4444444444444444,
             "#bd3786"
            ],
            [
             0.5555555555555556,
             "#d8576b"
            ],
            [
             0.6666666666666666,
             "#ed7953"
            ],
            [
             0.7777777777777778,
             "#fb9f3a"
            ],
            [
             0.8888888888888888,
             "#fdca26"
            ],
            [
             1,
             "#f0f921"
            ]
           ],
           "sequentialminus": [
            [
             0,
             "#0d0887"
            ],
            [
             0.1111111111111111,
             "#46039f"
            ],
            [
             0.2222222222222222,
             "#7201a8"
            ],
            [
             0.3333333333333333,
             "#9c179e"
            ],
            [
             0.4444444444444444,
             "#bd3786"
            ],
            [
             0.5555555555555556,
             "#d8576b"
            ],
            [
             0.6666666666666666,
             "#ed7953"
            ],
            [
             0.7777777777777778,
             "#fb9f3a"
            ],
            [
             0.8888888888888888,
             "#fdca26"
            ],
            [
             1,
             "#f0f921"
            ]
           ]
          },
          "colorway": [
           "#636efa",
           "#EF553B",
           "#00cc96",
           "#ab63fa",
           "#FFA15A",
           "#19d3f3",
           "#FF6692",
           "#B6E880",
           "#FF97FF",
           "#FECB52"
          ],
          "font": {
           "color": "#2a3f5f"
          },
          "geo": {
           "bgcolor": "white",
           "lakecolor": "white",
           "landcolor": "#E5ECF6",
           "showlakes": true,
           "showland": true,
           "subunitcolor": "white"
          },
          "hoverlabel": {
           "align": "left"
          },
          "hovermode": "closest",
          "mapbox": {
           "style": "light"
          },
          "paper_bgcolor": "white",
          "plot_bgcolor": "#E5ECF6",
          "polar": {
           "angularaxis": {
            "gridcolor": "white",
            "linecolor": "white",
            "ticks": ""
           },
           "bgcolor": "#E5ECF6",
           "radialaxis": {
            "gridcolor": "white",
            "linecolor": "white",
            "ticks": ""
           }
          },
          "scene": {
           "xaxis": {
            "backgroundcolor": "#E5ECF6",
            "gridcolor": "white",
            "gridwidth": 2,
            "linecolor": "white",
            "showbackground": true,
            "ticks": "",
            "zerolinecolor": "white"
           },
           "yaxis": {
            "backgroundcolor": "#E5ECF6",
            "gridcolor": "white",
            "gridwidth": 2,
            "linecolor": "white",
            "showbackground": true,
            "ticks": "",
            "zerolinecolor": "white"
           },
           "zaxis": {
            "backgroundcolor": "#E5ECF6",
            "gridcolor": "white",
            "gridwidth": 2,
            "linecolor": "white",
            "showbackground": true,
            "ticks": "",
            "zerolinecolor": "white"
           }
          },
          "shapedefaults": {
           "line": {
            "color": "#2a3f5f"
           }
          },
          "ternary": {
           "aaxis": {
            "gridcolor": "white",
            "linecolor": "white",
            "ticks": ""
           },
           "baxis": {
            "gridcolor": "white",
            "linecolor": "white",
            "ticks": ""
           },
           "bgcolor": "#E5ECF6",
           "caxis": {
            "gridcolor": "white",
            "linecolor": "white",
            "ticks": ""
           }
          },
          "title": {
           "x": 0.05
          },
          "xaxis": {
           "automargin": true,
           "gridcolor": "white",
           "linecolor": "white",
           "ticks": "",
           "title": {
            "standoff": 15
           },
           "zerolinecolor": "white",
           "zerolinewidth": 2
          },
          "yaxis": {
           "automargin": true,
           "gridcolor": "white",
           "linecolor": "white",
           "ticks": "",
           "title": {
            "standoff": 15
           },
           "zerolinecolor": "white",
           "zerolinewidth": 2
          }
         }
        },
        "title": {
         "text": "GANTT Chart"
        },
        "xaxis": {
         "range": [
          "1970-01-01T01:12:20",
          "1970-01-01T15:14:00"
         ],
         "title": {
          "font": {
           "color": "#7f7f7f",
           "family": "Courier New, monospace",
           "size": 18
          },
          "text": "Time"
         }
        },
        "yaxis": {
         "title": {
          "font": {
           "color": "#7f7f7f",
           "family": "Courier New, monospace",
           "size": 18
          },
          "text": "Activities"
         }
        }
       }
      },
      "text/html": [
       "<div>                            <div id=\"d5555b7d-06c0-4932-90c4-2b98b2a9c1e4\" class=\"plotly-graph-div\" style=\"height:525px; width:100%;\"></div>            <script type=\"text/javascript\">                require([\"plotly\"], function(Plotly) {                    window.PLOTLYENV=window.PLOTLYENV || {};                                    if (document.getElementById(\"d5555b7d-06c0-4932-90c4-2b98b2a9c1e4\")) {                    Plotly.newPlot(                        \"d5555b7d-06c0-4932-90c4-2b98b2a9c1e4\",                        [{\"connectgaps\":false,\"hoverinfo\":\"y+name\",\"line\":{\"color\":\"rgb(75,157,138)\",\"width\":10},\"mode\":\"lines\",\"name\":\"loading:Carrier A\",\"x\":[\"1970-01-01T04:07:20\",\"1970-01-01T04:07:20\",\"1970-01-01T04:49:00\",\"1970-01-01T04:49:00\",\"1970-01-01T04:49:00\",\"1970-01-01T08:25:40\",\"1970-01-01T08:25:40\",\"1970-01-01T09:07:20\",\"1970-01-01T09:07:20\",\"1970-01-01T09:07:20\",\"1970-01-01T13:17:20\",\"1970-01-01T13:17:20\",\"1970-01-01T13:59:00\",\"1970-01-01T13:59:00\",\"1970-01-01T13:59:00\",\"1970-01-01T04:07:20\",\"1970-01-01T04:07:20\",\"1970-01-01T04:49:00\",\"1970-01-01T04:49:00\",\"1970-01-01T04:49:00\",\"1970-01-01T08:25:40\",\"1970-01-01T08:25:40\",\"1970-01-01T09:07:20\",\"1970-01-01T09:07:20\",\"1970-01-01T09:07:20\",\"1970-01-01T13:17:20\",\"1970-01-01T13:17:20\",\"1970-01-01T13:59:00\",\"1970-01-01T13:59:00\",\"1970-01-01T13:59:00\"],\"y\":[\"loading:Carrier A\",\"loading:Carrier A\",\"loading:Carrier A\",\"loading:Carrier A\",null,\"loading:Carrier A\",\"loading:Carrier A\",\"loading:Carrier A\",\"loading:Carrier A\",null,\"loading:Carrier A\",\"loading:Carrier A\",\"loading:Carrier A\",\"loading:Carrier A\",null,\"loading:Carrier A\",\"loading:Carrier A\",\"loading:Carrier A\",\"loading:Carrier A\",null,\"loading:Carrier A\",\"loading:Carrier A\",\"loading:Carrier A\",\"loading:Carrier A\",null,\"loading:Carrier A\",\"loading:Carrier A\",\"loading:Carrier A\",\"loading:Carrier A\",null],\"type\":\"scatter\"},{\"connectgaps\":false,\"hoverinfo\":\"y+name\",\"line\":{\"color\":\"rgb(93,175,156)\",\"width\":10},\"mode\":\"lines\",\"name\":\"loading:Carrier A\",\"x\":[\"1970-01-01T04:07:20\",\"1970-01-01T04:07:20\",\"1970-01-01T04:49:00\",\"1970-01-01T04:49:00\",\"1970-01-01T04:49:00\",\"1970-01-01T08:25:40\",\"1970-01-01T08:25:40\",\"1970-01-01T09:07:20\",\"1970-01-01T09:07:20\",\"1970-01-01T09:07:20\",\"1970-01-01T13:17:20\",\"1970-01-01T13:17:20\",\"1970-01-01T13:59:00\",\"1970-01-01T13:59:00\",\"1970-01-01T13:59:00\",\"1970-01-01T04:07:20\",\"1970-01-01T04:07:20\",\"1970-01-01T04:49:00\",\"1970-01-01T04:49:00\",\"1970-01-01T04:49:00\",\"1970-01-01T08:25:40\",\"1970-01-01T08:25:40\",\"1970-01-01T09:07:20\",\"1970-01-01T09:07:20\",\"1970-01-01T09:07:20\",\"1970-01-01T13:17:20\",\"1970-01-01T13:17:20\",\"1970-01-01T13:59:00\",\"1970-01-01T13:59:00\",\"1970-01-01T13:59:00\"],\"y\":[\"loading:Carrier A\",\"loading:Carrier A\",\"loading:Carrier A\",\"loading:Carrier A\",null,\"loading:Carrier A\",\"loading:Carrier A\",\"loading:Carrier A\",\"loading:Carrier A\",null,\"loading:Carrier A\",\"loading:Carrier A\",\"loading:Carrier A\",\"loading:Carrier A\",null,\"loading:Carrier A\",\"loading:Carrier A\",\"loading:Carrier A\",\"loading:Carrier A\",null,\"loading:Carrier A\",\"loading:Carrier A\",\"loading:Carrier A\",\"loading:Carrier A\",null,\"loading:Carrier A\",\"loading:Carrier A\",\"loading:Carrier A\",\"loading:Carrier A\",null],\"type\":\"scatter\"},{\"connectgaps\":false,\"hoverinfo\":\"y+name\",\"line\":{\"color\":\"rgb(111,193,174)\",\"width\":10},\"mode\":\"lines\",\"name\":\"loading:Carrier B\",\"x\":[\"1970-01-01T03:00:40\",\"1970-01-01T03:00:40\",\"1970-01-01T03:34:00\",\"1970-01-01T03:34:00\",\"1970-01-01T03:34:00\",\"1970-01-01T07:19:00\",\"1970-01-01T07:19:00\",\"1970-01-01T07:52:20\",\"1970-01-01T07:52:20\",\"1970-01-01T07:52:20\",\"1970-01-01T11:37:20\",\"1970-01-01T11:37:20\",\"1970-01-01T12:10:40\",\"1970-01-01T12:10:40\",\"1970-01-01T12:10:40\",\"1970-01-01T03:00:40\",\"1970-01-01T03:00:40\",\"1970-01-01T03:34:00\",\"1970-01-01T03:34:00\",\"1970-01-01T03:34:00\",\"1970-01-01T07:19:00\",\"1970-01-01T07:19:00\",\"1970-01-01T07:52:20\",\"1970-01-01T07:52:20\",\"1970-01-01T07:52:20\",\"1970-01-01T11:37:20\",\"1970-01-01T11:37:20\",\"1970-01-01T12:10:40\",\"1970-01-01T12:10:40\",\"1970-01-01T12:10:40\"],\"y\":[\"loading:Carrier B\",\"loading:Carrier B\",\"loading:Carrier B\",\"loading:Carrier B\",null,\"loading:Carrier B\",\"loading:Carrier B\",\"loading:Carrier B\",\"loading:Carrier B\",null,\"loading:Carrier B\",\"loading:Carrier B\",\"loading:Carrier B\",\"loading:Carrier B\",null,\"loading:Carrier B\",\"loading:Carrier B\",\"loading:Carrier B\",\"loading:Carrier B\",null,\"loading:Carrier B\",\"loading:Carrier B\",\"loading:Carrier B\",\"loading:Carrier B\",null,\"loading:Carrier B\",\"loading:Carrier B\",\"loading:Carrier B\",\"loading:Carrier B\",null],\"type\":\"scatter\"},{\"connectgaps\":false,\"hoverinfo\":\"y+name\",\"line\":{\"color\":\"rgb(129,211,192)\",\"width\":10},\"mode\":\"lines\",\"name\":\"loading:Carrier B\",\"x\":[\"1970-01-01T03:00:40\",\"1970-01-01T03:00:40\",\"1970-01-01T03:34:00\",\"1970-01-01T03:34:00\",\"1970-01-01T03:34:00\",\"1970-01-01T07:19:00\",\"1970-01-01T07:19:00\",\"1970-01-01T07:52:20\",\"1970-01-01T07:52:20\",\"1970-01-01T07:52:20\",\"1970-01-01T11:37:20\",\"1970-01-01T11:37:20\",\"1970-01-01T12:10:40\",\"1970-01-01T12:10:40\",\"1970-01-01T12:10:40\",\"1970-01-01T03:00:40\",\"1970-01-01T03:00:40\",\"1970-01-01T03:34:00\",\"1970-01-01T03:34:00\",\"1970-01-01T03:34:00\",\"1970-01-01T07:19:00\",\"1970-01-01T07:19:00\",\"1970-01-01T07:52:20\",\"1970-01-01T07:52:20\",\"1970-01-01T07:52:20\",\"1970-01-01T11:37:20\",\"1970-01-01T11:37:20\",\"1970-01-01T12:10:40\",\"1970-01-01T12:10:40\",\"1970-01-01T12:10:40\"],\"y\":[\"loading:Carrier B\",\"loading:Carrier B\",\"loading:Carrier B\",\"loading:Carrier B\",null,\"loading:Carrier B\",\"loading:Carrier B\",\"loading:Carrier B\",\"loading:Carrier B\",null,\"loading:Carrier B\",\"loading:Carrier B\",\"loading:Carrier B\",\"loading:Carrier B\",null,\"loading:Carrier B\",\"loading:Carrier B\",\"loading:Carrier B\",\"loading:Carrier B\",null,\"loading:Carrier B\",\"loading:Carrier B\",\"loading:Carrier B\",\"loading:Carrier B\",null,\"loading:Carrier B\",\"loading:Carrier B\",\"loading:Carrier B\",\"loading:Carrier B\",null],\"type\":\"scatter\"},{\"connectgaps\":false,\"hoverinfo\":\"y+name\",\"line\":{\"color\":\"rgb(147,229,210)\",\"width\":10},\"mode\":\"lines\",\"name\":\"loading:Carrier C\",\"x\":[\"1970-01-01T01:45:40\",\"1970-01-01T01:45:40\",\"1970-01-01T02:19:00\",\"1970-01-01T02:19:00\",\"1970-01-01T02:19:00\",\"1970-01-01T06:04:00\",\"1970-01-01T06:04:00\",\"1970-01-01T06:37:20\",\"1970-01-01T06:37:20\",\"1970-01-01T06:37:20\",\"1970-01-01T10:22:20\",\"1970-01-01T10:22:20\",\"1970-01-01T10:55:40\",\"1970-01-01T10:55:40\",\"1970-01-01T10:55:40\",\"1970-01-01T13:59:00\",\"1970-01-01T13:59:00\",\"1970-01-01T14:32:20\",\"1970-01-01T14:32:20\",\"1970-01-01T14:32:20\",\"1970-01-01T01:45:40\",\"1970-01-01T01:45:40\",\"1970-01-01T02:19:00\",\"1970-01-01T02:19:00\",\"1970-01-01T02:19:00\",\"1970-01-01T06:04:00\",\"1970-01-01T06:04:00\",\"1970-01-01T06:37:20\",\"1970-01-01T06:37:20\",\"1970-01-01T06:37:20\",\"1970-01-01T10:22:20\",\"1970-01-01T10:22:20\",\"1970-01-01T10:55:40\",\"1970-01-01T10:55:40\",\"1970-01-01T10:55:40\",\"1970-01-01T13:59:00\",\"1970-01-01T13:59:00\",\"1970-01-01T14:32:20\",\"1970-01-01T14:32:20\",\"1970-01-01T14:32:20\"],\"y\":[\"loading:Carrier C\",\"loading:Carrier C\",\"loading:Carrier C\",\"loading:Carrier C\",null,\"loading:Carrier C\",\"loading:Carrier C\",\"loading:Carrier C\",\"loading:Carrier C\",null,\"loading:Carrier C\",\"loading:Carrier C\",\"loading:Carrier C\",\"loading:Carrier C\",null,\"loading:Carrier C\",\"loading:Carrier C\",\"loading:Carrier C\",\"loading:Carrier C\",null,\"loading:Carrier C\",\"loading:Carrier C\",\"loading:Carrier C\",\"loading:Carrier C\",null,\"loading:Carrier C\",\"loading:Carrier C\",\"loading:Carrier C\",\"loading:Carrier C\",null,\"loading:Carrier C\",\"loading:Carrier C\",\"loading:Carrier C\",\"loading:Carrier C\",null,\"loading:Carrier C\",\"loading:Carrier C\",\"loading:Carrier C\",\"loading:Carrier C\",null],\"type\":\"scatter\"},{\"connectgaps\":false,\"hoverinfo\":\"y+name\",\"line\":{\"color\":\"rgb(165,247,228)\",\"width\":10},\"mode\":\"lines\",\"name\":\"loading:Carrier C\",\"x\":[\"1970-01-01T01:45:40\",\"1970-01-01T01:45:40\",\"1970-01-01T02:19:00\",\"1970-01-01T02:19:00\",\"1970-01-01T02:19:00\",\"1970-01-01T06:04:00\",\"1970-01-01T06:04:00\",\"1970-01-01T06:37:20\",\"1970-01-01T06:37:20\",\"1970-01-01T06:37:20\",\"1970-01-01T10:22:20\",\"1970-01-01T10:22:20\",\"1970-01-01T10:55:40\",\"1970-01-01T10:55:40\",\"1970-01-01T10:55:40\",\"1970-01-01T13:59:00\",\"1970-01-01T13:59:00\",\"1970-01-01T14:32:20\",\"1970-01-01T14:32:20\",\"1970-01-01T14:32:20\",\"1970-01-01T01:45:40\",\"1970-01-01T01:45:40\",\"1970-01-01T02:19:00\",\"1970-01-01T02:19:00\",\"1970-01-01T02:19:00\",\"1970-01-01T06:04:00\",\"1970-01-01T06:04:00\",\"1970-01-01T06:37:20\",\"1970-01-01T06:37:20\",\"1970-01-01T06:37:20\",\"1970-01-01T10:22:20\",\"1970-01-01T10:22:20\",\"1970-01-01T10:55:40\",\"1970-01-01T10:55:40\",\"1970-01-01T10:55:40\",\"1970-01-01T13:59:00\",\"1970-01-01T13:59:00\",\"1970-01-01T14:32:20\",\"1970-01-01T14:32:20\",\"1970-01-01T14:32:20\"],\"y\":[\"loading:Carrier C\",\"loading:Carrier C\",\"loading:Carrier C\",\"loading:Carrier C\",null,\"loading:Carrier C\",\"loading:Carrier C\",\"loading:Carrier C\",\"loading:Carrier C\",null,\"loading:Carrier C\",\"loading:Carrier C\",\"loading:Carrier C\",\"loading:Carrier C\",null,\"loading:Carrier C\",\"loading:Carrier C\",\"loading:Carrier C\",\"loading:Carrier C\",null,\"loading:Carrier C\",\"loading:Carrier C\",\"loading:Carrier C\",\"loading:Carrier C\",null,\"loading:Carrier C\",\"loading:Carrier C\",\"loading:Carrier C\",\"loading:Carrier C\",null,\"loading:Carrier C\",\"loading:Carrier C\",\"loading:Carrier C\",\"loading:Carrier C\",null,\"loading:Carrier C\",\"loading:Carrier C\",\"loading:Carrier C\",\"loading:Carrier C\",null],\"type\":\"scatter\"},{\"connectgaps\":false,\"hoverinfo\":\"y+name\",\"line\":{\"color\":\"rgb(183,9,246)\",\"width\":10},\"mode\":\"lines\",\"name\":\"loading:Barge I\",\"x\":[\"1970-01-01T02:19:00\",\"1970-01-01T02:19:00\",\"1970-01-01T03:00:40\",\"1970-01-01T03:00:40\",\"1970-01-01T03:00:40\",\"1970-01-01T06:37:20\",\"1970-01-01T06:37:20\",\"1970-01-01T07:19:00\",\"1970-01-01T07:19:00\",\"1970-01-01T07:19:00\",\"1970-01-01T10:55:40\",\"1970-01-01T10:55:40\",\"1970-01-01T11:37:20\",\"1970-01-01T11:37:20\",\"1970-01-01T11:37:20\",\"1970-01-01T02:19:00\",\"1970-01-01T02:19:00\",\"1970-01-01T03:00:40\",\"1970-01-01T03:00:40\",\"1970-01-01T03:00:40\",\"1970-01-01T06:37:20\",\"1970-01-01T06:37:20\",\"1970-01-01T07:19:00\",\"1970-01-01T07:19:00\",\"1970-01-01T07:19:00\",\"1970-01-01T10:55:40\",\"1970-01-01T10:55:40\",\"1970-01-01T11:37:20\",\"1970-01-01T11:37:20\",\"1970-01-01T11:37:20\"],\"y\":[\"loading:Barge I\",\"loading:Barge I\",\"loading:Barge I\",\"loading:Barge I\",null,\"loading:Barge I\",\"loading:Barge I\",\"loading:Barge I\",\"loading:Barge I\",null,\"loading:Barge I\",\"loading:Barge I\",\"loading:Barge I\",\"loading:Barge I\",null,\"loading:Barge I\",\"loading:Barge I\",\"loading:Barge I\",\"loading:Barge I\",null,\"loading:Barge I\",\"loading:Barge I\",\"loading:Barge I\",\"loading:Barge I\",null,\"loading:Barge I\",\"loading:Barge I\",\"loading:Barge I\",\"loading:Barge I\",null],\"type\":\"scatter\"},{\"connectgaps\":false,\"hoverinfo\":\"y+name\",\"line\":{\"color\":\"rgb(201,27,8)\",\"width\":10},\"mode\":\"lines\",\"name\":\"loading:Barge I\",\"x\":[\"1970-01-01T02:19:00\",\"1970-01-01T02:19:00\",\"1970-01-01T03:00:40\",\"1970-01-01T03:00:40\",\"1970-01-01T03:00:40\",\"1970-01-01T06:37:20\",\"1970-01-01T06:37:20\",\"1970-01-01T07:19:00\",\"1970-01-01T07:19:00\",\"1970-01-01T07:19:00\",\"1970-01-01T10:55:40\",\"1970-01-01T10:55:40\",\"1970-01-01T11:37:20\",\"1970-01-01T11:37:20\",\"1970-01-01T11:37:20\",\"1970-01-01T02:19:00\",\"1970-01-01T02:19:00\",\"1970-01-01T03:00:40\",\"1970-01-01T03:00:40\",\"1970-01-01T03:00:40\",\"1970-01-01T06:37:20\",\"1970-01-01T06:37:20\",\"1970-01-01T07:19:00\",\"1970-01-01T07:19:00\",\"1970-01-01T07:19:00\",\"1970-01-01T10:55:40\",\"1970-01-01T10:55:40\",\"1970-01-01T11:37:20\",\"1970-01-01T11:37:20\",\"1970-01-01T11:37:20\"],\"y\":[\"loading:Barge I\",\"loading:Barge I\",\"loading:Barge I\",\"loading:Barge I\",null,\"loading:Barge I\",\"loading:Barge I\",\"loading:Barge I\",\"loading:Barge I\",null,\"loading:Barge I\",\"loading:Barge I\",\"loading:Barge I\",\"loading:Barge I\",null,\"loading:Barge I\",\"loading:Barge I\",\"loading:Barge I\",\"loading:Barge I\",null,\"loading:Barge I\",\"loading:Barge I\",\"loading:Barge I\",\"loading:Barge I\",null,\"loading:Barge I\",\"loading:Barge I\",\"loading:Barge I\",\"loading:Barge I\",null],\"type\":\"scatter\"},{\"connectgaps\":false,\"hoverinfo\":\"y+name\",\"line\":{\"color\":\"rgb(219,45,26)\",\"width\":10},\"mode\":\"lines\",\"name\":\"loading:Barge II\",\"x\":[\"1970-01-01T04:49:00\",\"1970-01-01T04:49:00\",\"1970-01-01T05:30:40\",\"1970-01-01T05:30:40\",\"1970-01-01T05:30:40\",\"1970-01-01T09:40:40\",\"1970-01-01T09:40:40\",\"1970-01-01T10:22:20\",\"1970-01-01T10:22:20\",\"1970-01-01T10:22:20\",\"1970-01-01T14:32:20\",\"1970-01-01T14:32:20\",\"1970-01-01T15:14:00\",\"1970-01-01T15:14:00\",\"1970-01-01T15:14:00\",\"1970-01-01T04:49:00\",\"1970-01-01T04:49:00\",\"1970-01-01T05:30:40\",\"1970-01-01T05:30:40\",\"1970-01-01T05:30:40\",\"1970-01-01T09:40:40\",\"1970-01-01T09:40:40\",\"1970-01-01T10:22:20\",\"1970-01-01T10:22:20\",\"1970-01-01T10:22:20\",\"1970-01-01T14:32:20\",\"1970-01-01T14:32:20\",\"1970-01-01T15:14:00\",\"1970-01-01T15:14:00\",\"1970-01-01T15:14:00\"],\"y\":[\"loading:Barge II\",\"loading:Barge II\",\"loading:Barge II\",\"loading:Barge II\",null,\"loading:Barge II\",\"loading:Barge II\",\"loading:Barge II\",\"loading:Barge II\",null,\"loading:Barge II\",\"loading:Barge II\",\"loading:Barge II\",\"loading:Barge II\",null,\"loading:Barge II\",\"loading:Barge II\",\"loading:Barge II\",\"loading:Barge II\",null,\"loading:Barge II\",\"loading:Barge II\",\"loading:Barge II\",\"loading:Barge II\",null,\"loading:Barge II\",\"loading:Barge II\",\"loading:Barge II\",\"loading:Barge II\",null],\"type\":\"scatter\"},{\"connectgaps\":false,\"hoverinfo\":\"y+name\",\"line\":{\"color\":\"rgb(237,63,44)\",\"width\":10},\"mode\":\"lines\",\"name\":\"loading:Barge II\",\"x\":[\"1970-01-01T04:49:00\",\"1970-01-01T04:49:00\",\"1970-01-01T05:30:40\",\"1970-01-01T05:30:40\",\"1970-01-01T05:30:40\",\"1970-01-01T09:40:40\",\"1970-01-01T09:40:40\",\"1970-01-01T10:22:20\",\"1970-01-01T10:22:20\",\"1970-01-01T10:22:20\",\"1970-01-01T14:32:20\",\"1970-01-01T14:32:20\",\"1970-01-01T15:14:00\",\"1970-01-01T15:14:00\",\"1970-01-01T15:14:00\",\"1970-01-01T04:49:00\",\"1970-01-01T04:49:00\",\"1970-01-01T05:30:40\",\"1970-01-01T05:30:40\",\"1970-01-01T05:30:40\",\"1970-01-01T09:40:40\",\"1970-01-01T09:40:40\",\"1970-01-01T10:22:20\",\"1970-01-01T10:22:20\",\"1970-01-01T10:22:20\",\"1970-01-01T14:32:20\",\"1970-01-01T14:32:20\",\"1970-01-01T15:14:00\",\"1970-01-01T15:14:00\",\"1970-01-01T15:14:00\"],\"y\":[\"loading:Barge II\",\"loading:Barge II\",\"loading:Barge II\",\"loading:Barge II\",null,\"loading:Barge II\",\"loading:Barge II\",\"loading:Barge II\",\"loading:Barge II\",null,\"loading:Barge II\",\"loading:Barge II\",\"loading:Barge II\",\"loading:Barge II\",null,\"loading:Barge II\",\"loading:Barge II\",\"loading:Barge II\",\"loading:Barge II\",null,\"loading:Barge II\",\"loading:Barge II\",\"loading:Barge II\",\"loading:Barge II\",null,\"loading:Barge II\",\"loading:Barge II\",\"loading:Barge II\",\"loading:Barge II\",null],\"type\":\"scatter\"},{\"connectgaps\":false,\"hoverinfo\":\"y+name\",\"line\":{\"color\":\"rgb(255,81,62)\",\"width\":10},\"mode\":\"lines\",\"name\":\"loading:Barge III\",\"x\":[\"1970-01-01T01:12:20\",\"1970-01-01T01:12:20\",\"1970-01-01T01:45:40\",\"1970-01-01T01:45:40\",\"1970-01-01T01:45:40\",\"1970-01-01T05:30:40\",\"1970-01-01T05:30:40\",\"1970-01-01T06:04:00\",\"1970-01-01T06:04:00\",\"1970-01-01T06:04:00\",\"1970-01-01T09:07:20\",\"1970-01-01T09:07:20\",\"1970-01-01T09:40:40\",\"1970-01-01T09:40:40\",\"1970-01-01T09:40:40\",\"1970-01-01T12:44:00\",\"1970-01-01T12:44:00\",\"1970-01-01T13:17:20\",\"1970-01-01T13:17:20\",\"1970-01-01T13:17:20\",\"1970-01-01T01:12:20\",\"1970-01-01T01:12:20\",\"1970-01-01T01:45:40\",\"1970-01-01T01:45:40\",\"1970-01-01T01:45:40\",\"1970-01-01T05:30:40\",\"1970-01-01T05:30:40\",\"1970-01-01T06:04:00\",\"1970-01-01T06:04:00\",\"1970-01-01T06:04:00\",\"1970-01-01T09:07:20\",\"1970-01-01T09:07:20\",\"1970-01-01T09:40:40\",\"1970-01-01T09:40:40\",\"1970-01-01T09:40:40\",\"1970-01-01T12:44:00\",\"1970-01-01T12:44:00\",\"1970-01-01T13:17:20\",\"1970-01-01T13:17:20\",\"1970-01-01T13:17:20\"],\"y\":[\"loading:Barge III\",\"loading:Barge III\",\"loading:Barge III\",\"loading:Barge III\",null,\"loading:Barge III\",\"loading:Barge III\",\"loading:Barge III\",\"loading:Barge III\",null,\"loading:Barge III\",\"loading:Barge III\",\"loading:Barge III\",\"loading:Barge III\",null,\"loading:Barge III\",\"loading:Barge III\",\"loading:Barge III\",\"loading:Barge III\",null,\"loading:Barge III\",\"loading:Barge III\",\"loading:Barge III\",\"loading:Barge III\",null,\"loading:Barge III\",\"loading:Barge III\",\"loading:Barge III\",\"loading:Barge III\",null,\"loading:Barge III\",\"loading:Barge III\",\"loading:Barge III\",\"loading:Barge III\",null,\"loading:Barge III\",\"loading:Barge III\",\"loading:Barge III\",\"loading:Barge III\",null],\"type\":\"scatter\"},{\"connectgaps\":false,\"hoverinfo\":\"y+name\",\"line\":{\"color\":\"rgb(17,99,80)\",\"width\":10},\"mode\":\"lines\",\"name\":\"loading:Barge III\",\"x\":[\"1970-01-01T01:12:20\",\"1970-01-01T01:12:20\",\"1970-01-01T01:45:40\",\"1970-01-01T01:45:40\",\"1970-01-01T01:45:40\",\"1970-01-01T05:30:40\",\"1970-01-01T05:30:40\",\"1970-01-01T06:04:00\",\"1970-01-01T06:04:00\",\"1970-01-01T06:04:00\",\"1970-01-01T09:07:20\",\"1970-01-01T09:07:20\",\"1970-01-01T09:40:40\",\"1970-01-01T09:40:40\",\"1970-01-01T09:40:40\",\"1970-01-01T12:44:00\",\"1970-01-01T12:44:00\",\"1970-01-01T13:17:20\",\"1970-01-01T13:17:20\",\"1970-01-01T13:17:20\",\"1970-01-01T01:12:20\",\"1970-01-01T01:12:20\",\"1970-01-01T01:45:40\",\"1970-01-01T01:45:40\",\"1970-01-01T01:45:40\",\"1970-01-01T05:30:40\",\"1970-01-01T05:30:40\",\"1970-01-01T06:04:00\",\"1970-01-01T06:04:00\",\"1970-01-01T06:04:00\",\"1970-01-01T09:07:20\",\"1970-01-01T09:07:20\",\"1970-01-01T09:40:40\",\"1970-01-01T09:40:40\",\"1970-01-01T09:40:40\",\"1970-01-01T12:44:00\",\"1970-01-01T12:44:00\",\"1970-01-01T13:17:20\",\"1970-01-01T13:17:20\",\"1970-01-01T13:17:20\"],\"y\":[\"loading:Barge III\",\"loading:Barge III\",\"loading:Barge III\",\"loading:Barge III\",null,\"loading:Barge III\",\"loading:Barge III\",\"loading:Barge III\",\"loading:Barge III\",null,\"loading:Barge III\",\"loading:Barge III\",\"loading:Barge III\",\"loading:Barge III\",null,\"loading:Barge III\",\"loading:Barge III\",\"loading:Barge III\",\"loading:Barge III\",null,\"loading:Barge III\",\"loading:Barge III\",\"loading:Barge III\",\"loading:Barge III\",null,\"loading:Barge III\",\"loading:Barge III\",\"loading:Barge III\",\"loading:Barge III\",null,\"loading:Barge III\",\"loading:Barge III\",\"loading:Barge III\",\"loading:Barge III\",null,\"loading:Barge III\",\"loading:Barge III\",\"loading:Barge III\",\"loading:Barge III\",null],\"type\":\"scatter\"},{\"connectgaps\":false,\"hoverinfo\":\"y+name\",\"line\":{\"color\":\"rgb(35,117,98)\",\"width\":10},\"mode\":\"lines\",\"name\":\"loading:Extra 1\",\"x\":[\"1970-01-01T03:34:00\",\"1970-01-01T03:34:00\",\"1970-01-01T04:07:20\",\"1970-01-01T04:07:20\",\"1970-01-01T04:07:20\",\"1970-01-01T07:52:20\",\"1970-01-01T07:52:20\",\"1970-01-01T08:25:40\",\"1970-01-01T08:25:40\",\"1970-01-01T08:25:40\",\"1970-01-01T12:10:40\",\"1970-01-01T12:10:40\",\"1970-01-01T12:44:00\",\"1970-01-01T12:44:00\",\"1970-01-01T12:44:00\",\"1970-01-01T03:34:00\",\"1970-01-01T03:34:00\",\"1970-01-01T04:07:20\",\"1970-01-01T04:07:20\",\"1970-01-01T04:07:20\",\"1970-01-01T07:52:20\",\"1970-01-01T07:52:20\",\"1970-01-01T08:25:40\",\"1970-01-01T08:25:40\",\"1970-01-01T08:25:40\",\"1970-01-01T12:10:40\",\"1970-01-01T12:10:40\",\"1970-01-01T12:44:00\",\"1970-01-01T12:44:00\",\"1970-01-01T12:44:00\"],\"y\":[\"loading:Extra 1\",\"loading:Extra 1\",\"loading:Extra 1\",\"loading:Extra 1\",null,\"loading:Extra 1\",\"loading:Extra 1\",\"loading:Extra 1\",\"loading:Extra 1\",null,\"loading:Extra 1\",\"loading:Extra 1\",\"loading:Extra 1\",\"loading:Extra 1\",null,\"loading:Extra 1\",\"loading:Extra 1\",\"loading:Extra 1\",\"loading:Extra 1\",null,\"loading:Extra 1\",\"loading:Extra 1\",\"loading:Extra 1\",\"loading:Extra 1\",null,\"loading:Extra 1\",\"loading:Extra 1\",\"loading:Extra 1\",\"loading:Extra 1\",null],\"type\":\"scatter\"},{\"connectgaps\":false,\"hoverinfo\":\"y+name\",\"line\":{\"color\":\"rgb(53,135,116)\",\"width\":10},\"mode\":\"lines\",\"name\":\"loading:Extra 1\",\"x\":[\"1970-01-01T03:34:00\",\"1970-01-01T03:34:00\",\"1970-01-01T04:07:20\",\"1970-01-01T04:07:20\",\"1970-01-01T04:07:20\",\"1970-01-01T07:52:20\",\"1970-01-01T07:52:20\",\"1970-01-01T08:25:40\",\"1970-01-01T08:25:40\",\"1970-01-01T08:25:40\",\"1970-01-01T12:10:40\",\"1970-01-01T12:10:40\",\"1970-01-01T12:44:00\",\"1970-01-01T12:44:00\",\"1970-01-01T12:44:00\",\"1970-01-01T03:34:00\",\"1970-01-01T03:34:00\",\"1970-01-01T04:07:20\",\"1970-01-01T04:07:20\",\"1970-01-01T04:07:20\",\"1970-01-01T07:52:20\",\"1970-01-01T07:52:20\",\"1970-01-01T08:25:40\",\"1970-01-01T08:25:40\",\"1970-01-01T08:25:40\",\"1970-01-01T12:10:40\",\"1970-01-01T12:10:40\",\"1970-01-01T12:44:00\",\"1970-01-01T12:44:00\",\"1970-01-01T12:44:00\"],\"y\":[\"loading:Extra 1\",\"loading:Extra 1\",\"loading:Extra 1\",\"loading:Extra 1\",null,\"loading:Extra 1\",\"loading:Extra 1\",\"loading:Extra 1\",\"loading:Extra 1\",null,\"loading:Extra 1\",\"loading:Extra 1\",\"loading:Extra 1\",\"loading:Extra 1\",null,\"loading:Extra 1\",\"loading:Extra 1\",\"loading:Extra 1\",\"loading:Extra 1\",null,\"loading:Extra 1\",\"loading:Extra 1\",\"loading:Extra 1\",\"loading:Extra 1\",null,\"loading:Extra 1\",\"loading:Extra 1\",\"loading:Extra 1\",\"loading:Extra 1\",null],\"type\":\"scatter\"}],                        {\"hovermode\":\"closest\",\"legend\":{\"orientation\":\"h\",\"x\":0,\"y\":-0.2},\"template\":{\"data\":{\"barpolar\":[{\"marker\":{\"line\":{\"color\":\"#E5ECF6\",\"width\":0.5},\"pattern\":{\"fillmode\":\"overlay\",\"size\":10,\"solidity\":0.2}},\"type\":\"barpolar\"}],\"bar\":[{\"error_x\":{\"color\":\"#2a3f5f\"},\"error_y\":{\"color\":\"#2a3f5f\"},\"marker\":{\"line\":{\"color\":\"#E5ECF6\",\"width\":0.5},\"pattern\":{\"fillmode\":\"overlay\",\"size\":10,\"solidity\":0.2}},\"type\":\"bar\"}],\"carpet\":[{\"aaxis\":{\"endlinecolor\":\"#2a3f5f\",\"gridcolor\":\"white\",\"linecolor\":\"white\",\"minorgridcolor\":\"white\",\"startlinecolor\":\"#2a3f5f\"},\"baxis\":{\"endlinecolor\":\"#2a3f5f\",\"gridcolor\":\"white\",\"linecolor\":\"white\",\"minorgridcolor\":\"white\",\"startlinecolor\":\"#2a3f5f\"},\"type\":\"carpet\"}],\"choropleth\":[{\"colorbar\":{\"outlinewidth\":0,\"ticks\":\"\"},\"type\":\"choropleth\"}],\"contourcarpet\":[{\"colorbar\":{\"outlinewidth\":0,\"ticks\":\"\"},\"type\":\"contourcarpet\"}],\"contour\":[{\"colorbar\":{\"outlinewidth\":0,\"ticks\":\"\"},\"colorscale\":[[0.0,\"#0d0887\"],[0.1111111111111111,\"#46039f\"],[0.2222222222222222,\"#7201a8\"],[0.3333333333333333,\"#9c179e\"],[0.4444444444444444,\"#bd3786\"],[0.5555555555555556,\"#d8576b\"],[0.6666666666666666,\"#ed7953\"],[0.7777777777777778,\"#fb9f3a\"],[0.8888888888888888,\"#fdca26\"],[1.0,\"#f0f921\"]],\"type\":\"contour\"}],\"heatmapgl\":[{\"colorbar\":{\"outlinewidth\":0,\"ticks\":\"\"},\"colorscale\":[[0.0,\"#0d0887\"],[0.1111111111111111,\"#46039f\"],[0.2222222222222222,\"#7201a8\"],[0.3333333333333333,\"#9c179e\"],[0.4444444444444444,\"#bd3786\"],[0.5555555555555556,\"#d8576b\"],[0.6666666666666666,\"#ed7953\"],[0.7777777777777778,\"#fb9f3a\"],[0.8888888888888888,\"#fdca26\"],[1.0,\"#f0f921\"]],\"type\":\"heatmapgl\"}],\"heatmap\":[{\"colorbar\":{\"outlinewidth\":0,\"ticks\":\"\"},\"colorscale\":[[0.0,\"#0d0887\"],[0.1111111111111111,\"#46039f\"],[0.2222222222222222,\"#7201a8\"],[0.3333333333333333,\"#9c179e\"],[0.4444444444444444,\"#bd3786\"],[0.5555555555555556,\"#d8576b\"],[0.6666666666666666,\"#ed7953\"],[0.7777777777777778,\"#fb9f3a\"],[0.8888888888888888,\"#fdca26\"],[1.0,\"#f0f921\"]],\"type\":\"heatmap\"}],\"histogram2dcontour\":[{\"colorbar\":{\"outlinewidth\":0,\"ticks\":\"\"},\"colorscale\":[[0.0,\"#0d0887\"],[0.1111111111111111,\"#46039f\"],[0.2222222222222222,\"#7201a8\"],[0.3333333333333333,\"#9c179e\"],[0.4444444444444444,\"#bd3786\"],[0.5555555555555556,\"#d8576b\"],[0.6666666666666666,\"#ed7953\"],[0.7777777777777778,\"#fb9f3a\"],[0.8888888888888888,\"#fdca26\"],[1.0,\"#f0f921\"]],\"type\":\"histogram2dcontour\"}],\"histogram2d\":[{\"colorbar\":{\"outlinewidth\":0,\"ticks\":\"\"},\"colorscale\":[[0.0,\"#0d0887\"],[0.1111111111111111,\"#46039f\"],[0.2222222222222222,\"#7201a8\"],[0.3333333333333333,\"#9c179e\"],[0.4444444444444444,\"#bd3786\"],[0.5555555555555556,\"#d8576b\"],[0.6666666666666666,\"#ed7953\"],[0.7777777777777778,\"#fb9f3a\"],[0.8888888888888888,\"#fdca26\"],[1.0,\"#f0f921\"]],\"type\":\"histogram2d\"}],\"histogram\":[{\"marker\":{\"pattern\":{\"fillmode\":\"overlay\",\"size\":10,\"solidity\":0.2}},\"type\":\"histogram\"}],\"mesh3d\":[{\"colorbar\":{\"outlinewidth\":0,\"ticks\":\"\"},\"type\":\"mesh3d\"}],\"parcoords\":[{\"line\":{\"colorbar\":{\"outlinewidth\":0,\"ticks\":\"\"}},\"type\":\"parcoords\"}],\"pie\":[{\"automargin\":true,\"type\":\"pie\"}],\"scatter3d\":[{\"line\":{\"colorbar\":{\"outlinewidth\":0,\"ticks\":\"\"}},\"marker\":{\"colorbar\":{\"outlinewidth\":0,\"ticks\":\"\"}},\"type\":\"scatter3d\"}],\"scattercarpet\":[{\"marker\":{\"colorbar\":{\"outlinewidth\":0,\"ticks\":\"\"}},\"type\":\"scattercarpet\"}],\"scattergeo\":[{\"marker\":{\"colorbar\":{\"outlinewidth\":0,\"ticks\":\"\"}},\"type\":\"scattergeo\"}],\"scattergl\":[{\"marker\":{\"colorbar\":{\"outlinewidth\":0,\"ticks\":\"\"}},\"type\":\"scattergl\"}],\"scattermapbox\":[{\"marker\":{\"colorbar\":{\"outlinewidth\":0,\"ticks\":\"\"}},\"type\":\"scattermapbox\"}],\"scatterpolargl\":[{\"marker\":{\"colorbar\":{\"outlinewidth\":0,\"ticks\":\"\"}},\"type\":\"scatterpolargl\"}],\"scatterpolar\":[{\"marker\":{\"colorbar\":{\"outlinewidth\":0,\"ticks\":\"\"}},\"type\":\"scatterpolar\"}],\"scatter\":[{\"fillpattern\":{\"fillmode\":\"overlay\",\"size\":10,\"solidity\":0.2},\"type\":\"scatter\"}],\"scatterternary\":[{\"marker\":{\"colorbar\":{\"outlinewidth\":0,\"ticks\":\"\"}},\"type\":\"scatterternary\"}],\"surface\":[{\"colorbar\":{\"outlinewidth\":0,\"ticks\":\"\"},\"colorscale\":[[0.0,\"#0d0887\"],[0.1111111111111111,\"#46039f\"],[0.2222222222222222,\"#7201a8\"],[0.3333333333333333,\"#9c179e\"],[0.4444444444444444,\"#bd3786\"],[0.5555555555555556,\"#d8576b\"],[0.6666666666666666,\"#ed7953\"],[0.7777777777777778,\"#fb9f3a\"],[0.8888888888888888,\"#fdca26\"],[1.0,\"#f0f921\"]],\"type\":\"surface\"}],\"table\":[{\"cells\":{\"fill\":{\"color\":\"#EBF0F8\"},\"line\":{\"color\":\"white\"}},\"header\":{\"fill\":{\"color\":\"#C8D4E3\"},\"line\":{\"color\":\"white\"}},\"type\":\"table\"}]},\"layout\":{\"annotationdefaults\":{\"arrowcolor\":\"#2a3f5f\",\"arrowhead\":0,\"arrowwidth\":1},\"autotypenumbers\":\"strict\",\"coloraxis\":{\"colorbar\":{\"outlinewidth\":0,\"ticks\":\"\"}},\"colorscale\":{\"diverging\":[[0,\"#8e0152\"],[0.1,\"#c51b7d\"],[0.2,\"#de77ae\"],[0.3,\"#f1b6da\"],[0.4,\"#fde0ef\"],[0.5,\"#f7f7f7\"],[0.6,\"#e6f5d0\"],[0.7,\"#b8e186\"],[0.8,\"#7fbc41\"],[0.9,\"#4d9221\"],[1,\"#276419\"]],\"sequential\":[[0.0,\"#0d0887\"],[0.1111111111111111,\"#46039f\"],[0.2222222222222222,\"#7201a8\"],[0.3333333333333333,\"#9c179e\"],[0.4444444444444444,\"#bd3786\"],[0.5555555555555556,\"#d8576b\"],[0.6666666666666666,\"#ed7953\"],[0.7777777777777778,\"#fb9f3a\"],[0.8888888888888888,\"#fdca26\"],[1.0,\"#f0f921\"]],\"sequentialminus\":[[0.0,\"#0d0887\"],[0.1111111111111111,\"#46039f\"],[0.2222222222222222,\"#7201a8\"],[0.3333333333333333,\"#9c179e\"],[0.4444444444444444,\"#bd3786\"],[0.5555555555555556,\"#d8576b\"],[0.6666666666666666,\"#ed7953\"],[0.7777777777777778,\"#fb9f3a\"],[0.8888888888888888,\"#fdca26\"],[1.0,\"#f0f921\"]]},\"colorway\":[\"#636efa\",\"#EF553B\",\"#00cc96\",\"#ab63fa\",\"#FFA15A\",\"#19d3f3\",\"#FF6692\",\"#B6E880\",\"#FF97FF\",\"#FECB52\"],\"font\":{\"color\":\"#2a3f5f\"},\"geo\":{\"bgcolor\":\"white\",\"lakecolor\":\"white\",\"landcolor\":\"#E5ECF6\",\"showlakes\":true,\"showland\":true,\"subunitcolor\":\"white\"},\"hoverlabel\":{\"align\":\"left\"},\"hovermode\":\"closest\",\"mapbox\":{\"style\":\"light\"},\"paper_bgcolor\":\"white\",\"plot_bgcolor\":\"#E5ECF6\",\"polar\":{\"angularaxis\":{\"gridcolor\":\"white\",\"linecolor\":\"white\",\"ticks\":\"\"},\"bgcolor\":\"#E5ECF6\",\"radialaxis\":{\"gridcolor\":\"white\",\"linecolor\":\"white\",\"ticks\":\"\"}},\"scene\":{\"xaxis\":{\"backgroundcolor\":\"#E5ECF6\",\"gridcolor\":\"white\",\"gridwidth\":2,\"linecolor\":\"white\",\"showbackground\":true,\"ticks\":\"\",\"zerolinecolor\":\"white\"},\"yaxis\":{\"backgroundcolor\":\"#E5ECF6\",\"gridcolor\":\"white\",\"gridwidth\":2,\"linecolor\":\"white\",\"showbackground\":true,\"ticks\":\"\",\"zerolinecolor\":\"white\"},\"zaxis\":{\"backgroundcolor\":\"#E5ECF6\",\"gridcolor\":\"white\",\"gridwidth\":2,\"linecolor\":\"white\",\"showbackground\":true,\"ticks\":\"\",\"zerolinecolor\":\"white\"}},\"shapedefaults\":{\"line\":{\"color\":\"#2a3f5f\"}},\"ternary\":{\"aaxis\":{\"gridcolor\":\"white\",\"linecolor\":\"white\",\"ticks\":\"\"},\"baxis\":{\"gridcolor\":\"white\",\"linecolor\":\"white\",\"ticks\":\"\"},\"bgcolor\":\"#E5ECF6\",\"caxis\":{\"gridcolor\":\"white\",\"linecolor\":\"white\",\"ticks\":\"\"}},\"title\":{\"x\":0.05},\"xaxis\":{\"automargin\":true,\"gridcolor\":\"white\",\"linecolor\":\"white\",\"ticks\":\"\",\"title\":{\"standoff\":15},\"zerolinecolor\":\"white\",\"zerolinewidth\":2},\"yaxis\":{\"automargin\":true,\"gridcolor\":\"white\",\"linecolor\":\"white\",\"ticks\":\"\",\"title\":{\"standoff\":15},\"zerolinecolor\":\"white\",\"zerolinewidth\":2}}},\"title\":{\"text\":\"GANTT Chart\"},\"xaxis\":{\"range\":[\"1970-01-01T01:12:20\",\"1970-01-01T15:14:00\"],\"title\":{\"font\":{\"color\":\"#7f7f7f\",\"family\":\"Courier New, monospace\",\"size\":18},\"text\":\"Time\"}},\"yaxis\":{\"title\":{\"font\":{\"color\":\"#7f7f7f\",\"family\":\"Courier New, monospace\",\"size\":18},\"text\":\"Activities\"}}},                        {\"responsive\": true}                    ).then(function(){\n",
       "                            \n",
       "var gd = document.getElementById('d5555b7d-06c0-4932-90c4-2b98b2a9c1e4');\n",
       "var x = new MutationObserver(function (mutations, observer) {{\n",
       "        var display = window.getComputedStyle(gd).display;\n",
       "        if (!display || display === 'none') {{\n",
       "            console.log([gd, 'removed!']);\n",
       "            Plotly.purge(gd);\n",
       "            observer.disconnect();\n",
       "        }}\n",
       "}});\n",
       "\n",
       "// Listen for the removal of the full notebook cells\n",
       "var notebookContainer = gd.closest('#notebook-container');\n",
       "if (notebookContainer) {{\n",
       "    x.observe(notebookContainer, {childList: true});\n",
       "}}\n",
       "\n",
       "// Listen for the clearing of the current output cell\n",
       "var outputEl = gd.closest('.output');\n",
       "if (outputEl) {{\n",
       "    x.observe(outputEl, {childList: true});\n",
       "}}\n",
       "\n",
       "                        })                };                });            </script>        </div>"
      ]
     },
     "metadata": {},
     "output_type": "display_data"
    }
   ],
   "source": [
    "def expand(a, namespace):\n",
    "    n = len(namespace)\n",
    "    sa = []\n",
    "    if a.name[0:n]==namespace:\n",
    "        sa.append(a)\n",
    "    if hasattr(a, \"sub_processes\"):\n",
    "        for s in a.sub_processes:\n",
    "            if s.name[0:n]==namespace:\n",
    "                sa.append(s)\n",
    "            sa+=expand(s,namespace)\n",
    "    return sa\n",
    "all_activities = []\n",
    "for a in [*activities]:\n",
    "    all_activities+=expand(activities[a],'load')\n",
    "all_activities\n",
    "fig = get_gantt_chart(all_activities)"
   ]
  },
  {
   "cell_type": "code",
   "execution_count": 26,
   "id": "f5c04500",
   "metadata": {},
   "outputs": [
    {
     "data": {
      "image/png": "[encoded data removed]",
      "text/plain": [
       "<Figure size 1400x700 with 1 Axes>"
      ]
     },
     "metadata": {},
     "output_type": "display_data"
    }
   ],
   "source": [
    "fig = get_step_chart([from_site, to_site, *vessels.values()])"
   ]
  },
  {
   "cell_type": "code",
   "execution_count": 22,
   "id": "a7def889",
   "metadata": {},
   "outputs": [],
   "source": [
    "def occupancy_analysis(vessels, cutter, activities, vessel_cost):\n",
    "    data = []\n",
    "    duration_theory_cutter = 0\n",
    "    nr_trips_cutter = 0\n",
    "\n",
    "    # barges\n",
    "    for i, vessel_name in enumerate(vessels):\n",
    "        if vessel_name!=cutter_name:\n",
    "            vessel = vessels[vessel_name]\n",
    "            activity = activities[f'activity{i}']\n",
    "\n",
    "            log = pd.DataFrame(vessel.log)\n",
    "            sub_act = activity.sub_processes[0].sub_processes[-1] # last phase of SequentialActivity ..\n",
    "            nr_trips = len(log[(log.ActivityID == sub_act.id) & (log.ActivityState == \"STOP\")]) # .. ended\n",
    "            nr_trips_cutter += nr_trips\n",
    "\n",
    "            duration_theory = 0\n",
    "            for sub_act in activity.sub_processes[0].sub_processes:\n",
    "                duration_theory+=sub_act.duration\n",
    "                if hasattr(sub_act,'processor'):\n",
    "                    if sub_act.processor.name==cutter_name:\n",
    "                        duration_theory_cutter += sub_act.duration*nr_trips\n",
    "\n",
    "            duration_actual = (log.Timestamp.max() - log.Timestamp.min()).total_seconds()\n",
    "            data.append({\n",
    "                'name':vessel.name, \n",
    "                '# trips':nr_trips, \n",
    "                'start': log.Timestamp.min(),\n",
    "                'finish': log.Timestamp.max(),\n",
    "                'duration actual': duration_actual,\n",
    "                'cost':duration_actual*vessel_cost[vessel_name]/3600/24,\n",
    "                'production actual':(nr_trips * sub_act.amount) / (duration_actual),\n",
    "                'production theory': (sub_act.amount / (duration_theory)),\n",
    "            })\n",
    "\n",
    "    # cutter\n",
    "    log = pd.DataFrame(cutter.log)\n",
    "    duration_actual_cutter = (log.Timestamp.max() - log.Timestamp.min()).total_seconds()\n",
    "    data.append({\n",
    "        'name':cutter_name, \n",
    "        '# trips':nr_trips_cutter, \n",
    "        'start': log.Timestamp.min(),\n",
    "        'finish': log.Timestamp.max(),\n",
    "        'duration actual': duration_actual_cutter,\n",
    "        'cost':duration_actual_cutter*vessel_cost[cutter_name]/3600/24,\n",
    "        'production actual':(total_amount) / (duration_actual_cutter),\n",
    "        'production theory':(total_amount) / (duration_theory_cutter),\n",
    "    })\n",
    "\n",
    "    df = pd.DataFrame(data).sort_values(by=['production actual'],ascending=False)\n",
    "    df['occupancy [%]'] = [round(x,1) for x in 100*df['production actual']/df['production theory']]\n",
    "    df.set_index('name', inplace=True)\n",
    "    \n",
    "    print(f'Occupancy \"{cutter_name}\":', df.loc[cutter_name]['occupancy [%]'],'% Total cost',round(df['cost'].sum(),0))\n",
    "    \n",
    "    return df"
   ]
  },
  {
   "cell_type": "code",
   "execution_count": 24,
   "id": "eeb88b8d",
   "metadata": {},
   "outputs": [
    {
     "name": "stdout",
     "output_type": "stream",
     "text": [
      "Occupancy \"Cutter T\": 37.0 % Total cost 60774.0\n"
     ]
    },
    {
     "data": {
      "text/html": [
       "<div>\n",
       "<style scoped>\n",
       "    .dataframe tbody tr th:only-of-type {\n",
       "        vertical-align: middle;\n",
       "    }\n",
       "\n",
       "    .dataframe tbody tr th {\n",
       "        vertical-align: top;\n",
       "    }\n",
       "\n",
       "    .dataframe thead th {\n",
       "        text-align: right;\n",
       "    }\n",
       "</style>\n",
       "<table border=\"1\" class=\"dataframe\">\n",
       "  <thead>\n",
       "    <tr style=\"text-align: right;\">\n",
       "      <th></th>\n",
       "      <th># trips</th>\n",
       "      <th>start</th>\n",
       "      <th>finish</th>\n",
       "      <th>duration actual</th>\n",
       "      <th>cost</th>\n",
       "      <th>production actual</th>\n",
       "      <th>production theory</th>\n",
       "      <th>occupancy [%]</th>\n",
       "    </tr>\n",
       "    <tr>\n",
       "      <th>name</th>\n",
       "      <th></th>\n",
       "      <th></th>\n",
       "      <th></th>\n",
       "      <th></th>\n",
       "      <th></th>\n",
       "      <th></th>\n",
       "      <th></th>\n",
       "      <th></th>\n",
       "    </tr>\n",
       "  </thead>\n",
       "  <tbody>\n",
       "    <tr>\n",
       "      <th>Cutter T</th>\n",
       "      <td>23</td>\n",
       "      <td>1970-01-01 01:19:02</td>\n",
       "      <td>1970-01-02 15:56:42</td>\n",
       "      <td>139060.0</td>\n",
       "      <td>40237.268519</td>\n",
       "      <td>0.000719</td>\n",
       "      <td>0.001942</td>\n",
       "      <td>37.0</td>\n",
       "    </tr>\n",
       "    <tr>\n",
       "      <th>Carrier B</th>\n",
       "      <td>11</td>\n",
       "      <td>1970-01-01 00:00:00</td>\n",
       "      <td>1970-01-02 16:53:00</td>\n",
       "      <td>147180.0</td>\n",
       "      <td>10220.833333</td>\n",
       "      <td>0.000374</td>\n",
       "      <td>0.000377</td>\n",
       "      <td>99.1</td>\n",
       "    </tr>\n",
       "    <tr>\n",
       "      <th>Carrier A</th>\n",
       "      <td>12</td>\n",
       "      <td>1970-01-01 00:00:00</td>\n",
       "      <td>1970-01-02 17:15:44</td>\n",
       "      <td>148544.0</td>\n",
       "      <td>10315.555556</td>\n",
       "      <td>0.000323</td>\n",
       "      <td>0.000348</td>\n",
       "      <td>92.8</td>\n",
       "    </tr>\n",
       "  </tbody>\n",
       "</table>\n",
       "</div>"
      ],
      "text/plain": [
       "           # trips               start              finish  duration actual  \\\n",
       "name                                                                          \n",
       "Cutter T        23 1970-01-01 01:19:02 1970-01-02 15:56:42         139060.0   \n",
       "Carrier B       11 1970-01-01 00:00:00 1970-01-02 16:53:00         147180.0   \n",
       "Carrier A       12 1970-01-01 00:00:00 1970-01-02 17:15:44         148544.0   \n",
       "\n",
       "                   cost  production actual  production theory  occupancy [%]  \n",
       "name                                                                          \n",
       "Cutter T   40237.268519           0.000719           0.001942           37.0  \n",
       "Carrier B  10220.833333           0.000374           0.000377           99.1  \n",
       "Carrier A  10315.555556           0.000323           0.000348           92.8  "
      ]
     },
     "metadata": {},
     "output_type": "display_data"
    },
    {
     "name": "stdout",
     "output_type": "stream",
     "text": [
      "Occupancy \"Cutter T\": 56.7 % Total cost 45800.0\n"
     ]
    },
    {
     "data": {
      "text/html": [
       "<div>\n",
       "<style scoped>\n",
       "    .dataframe tbody tr th:only-of-type {\n",
       "        vertical-align: middle;\n",
       "    }\n",
       "\n",
       "    .dataframe tbody tr th {\n",
       "        vertical-align: top;\n",
       "    }\n",
       "\n",
       "    .dataframe thead th {\n",
       "        text-align: right;\n",
       "    }\n",
       "</style>\n",
       "<table border=\"1\" class=\"dataframe\">\n",
       "  <thead>\n",
       "    <tr style=\"text-align: right;\">\n",
       "      <th></th>\n",
       "      <th># trips</th>\n",
       "      <th>start</th>\n",
       "      <th>finish</th>\n",
       "      <th>duration actual</th>\n",
       "      <th>cost</th>\n",
       "      <th>production actual</th>\n",
       "      <th>production theory</th>\n",
       "      <th>occupancy [%]</th>\n",
       "    </tr>\n",
       "    <tr>\n",
       "      <th>name</th>\n",
       "      <th></th>\n",
       "      <th></th>\n",
       "      <th></th>\n",
       "      <th></th>\n",
       "      <th></th>\n",
       "      <th></th>\n",
       "      <th></th>\n",
       "      <th></th>\n",
       "    </tr>\n",
       "  </thead>\n",
       "  <tbody>\n",
       "    <tr>\n",
       "      <th>Cutter T</th>\n",
       "      <td>22</td>\n",
       "      <td>1970-01-01 01:15:28</td>\n",
       "      <td>1970-01-02 02:13:52</td>\n",
       "      <td>89904.0</td>\n",
       "      <td>26013.888889</td>\n",
       "      <td>0.001112</td>\n",
       "      <td>0.001961</td>\n",
       "      <td>56.7</td>\n",
       "    </tr>\n",
       "    <tr>\n",
       "      <th>Carrier C</th>\n",
       "      <td>7</td>\n",
       "      <td>1970-01-01 00:00:00</td>\n",
       "      <td>1970-01-02 00:27:16</td>\n",
       "      <td>88036.0</td>\n",
       "      <td>6113.611111</td>\n",
       "      <td>0.000398</td>\n",
       "      <td>0.000428</td>\n",
       "      <td>92.8</td>\n",
       "    </tr>\n",
       "    <tr>\n",
       "      <th>Carrier A</th>\n",
       "      <td>7</td>\n",
       "      <td>1970-01-01 00:00:00</td>\n",
       "      <td>1970-01-02 03:12:04</td>\n",
       "      <td>97924.0</td>\n",
       "      <td>6800.277778</td>\n",
       "      <td>0.000357</td>\n",
       "      <td>0.000371</td>\n",
       "      <td>96.4</td>\n",
       "    </tr>\n",
       "    <tr>\n",
       "      <th>Carrier B</th>\n",
       "      <td>8</td>\n",
       "      <td>1970-01-01 00:00:00</td>\n",
       "      <td>1970-01-02 03:29:20</td>\n",
       "      <td>98960.0</td>\n",
       "      <td>6872.222222</td>\n",
       "      <td>0.000323</td>\n",
       "      <td>0.000362</td>\n",
       "      <td>89.4</td>\n",
       "    </tr>\n",
       "  </tbody>\n",
       "</table>\n",
       "</div>"
      ],
      "text/plain": [
       "           # trips               start              finish  duration actual  \\\n",
       "name                                                                          \n",
       "Cutter T        22 1970-01-01 01:15:28 1970-01-02 02:13:52          89904.0   \n",
       "Carrier C        7 1970-01-01 00:00:00 1970-01-02 00:27:16          88036.0   \n",
       "Carrier A        7 1970-01-01 00:00:00 1970-01-02 03:12:04          97924.0   \n",
       "Carrier B        8 1970-01-01 00:00:00 1970-01-02 03:29:20          98960.0   \n",
       "\n",
       "                   cost  production actual  production theory  occupancy [%]  \n",
       "name                                                                          \n",
       "Cutter T   26013.888889           0.001112           0.001961           56.7  \n",
       "Carrier C   6113.611111           0.000398           0.000428           92.8  \n",
       "Carrier A   6800.277778           0.000357           0.000371           96.4  \n",
       "Carrier B   6872.222222           0.000323           0.000362           89.4  "
      ]
     },
     "metadata": {},
     "output_type": "display_data"
    },
    {
     "name": "stdout",
     "output_type": "stream",
     "text": [
      "Occupancy \"Cutter T\": 64.2 % Total cost 43935.0\n"
     ]
    },
    {
     "data": {
      "text/html": [
       "<div>\n",
       "<style scoped>\n",
       "    .dataframe tbody tr th:only-of-type {\n",
       "        vertical-align: middle;\n",
       "    }\n",
       "\n",
       "    .dataframe tbody tr th {\n",
       "        vertical-align: top;\n",
       "    }\n",
       "\n",
       "    .dataframe thead th {\n",
       "        text-align: right;\n",
       "    }\n",
       "</style>\n",
       "<table border=\"1\" class=\"dataframe\">\n",
       "  <thead>\n",
       "    <tr style=\"text-align: right;\">\n",
       "      <th></th>\n",
       "      <th># trips</th>\n",
       "      <th>start</th>\n",
       "      <th>finish</th>\n",
       "      <th>duration actual</th>\n",
       "      <th>cost</th>\n",
       "      <th>production actual</th>\n",
       "      <th>production theory</th>\n",
       "      <th>occupancy [%]</th>\n",
       "    </tr>\n",
       "    <tr>\n",
       "      <th>name</th>\n",
       "      <th></th>\n",
       "      <th></th>\n",
       "      <th></th>\n",
       "      <th></th>\n",
       "      <th></th>\n",
       "      <th></th>\n",
       "      <th></th>\n",
       "      <th></th>\n",
       "    </tr>\n",
       "  </thead>\n",
       "  <tbody>\n",
       "    <tr>\n",
       "      <th>Cutter T</th>\n",
       "      <td>25</td>\n",
       "      <td>1970-01-01 01:07:58</td>\n",
       "      <td>1970-01-01 22:45:34</td>\n",
       "      <td>77856.0</td>\n",
       "      <td>22527.777778</td>\n",
       "      <td>0.001284</td>\n",
       "      <td>0.002000</td>\n",
       "      <td>64.2</td>\n",
       "    </tr>\n",
       "    <tr>\n",
       "      <th>Carrier A</th>\n",
       "      <td>7</td>\n",
       "      <td>1970-01-01 00:00:00</td>\n",
       "      <td>1970-01-01 20:36:52</td>\n",
       "      <td>74212.0</td>\n",
       "      <td>5153.611111</td>\n",
       "      <td>0.000377</td>\n",
       "      <td>0.000394</td>\n",
       "      <td>95.8</td>\n",
       "    </tr>\n",
       "    <tr>\n",
       "      <th>Carrier C</th>\n",
       "      <td>6</td>\n",
       "      <td>1970-01-01 00:00:00</td>\n",
       "      <td>1970-01-01 21:27:28</td>\n",
       "      <td>77248.0</td>\n",
       "      <td>5364.444444</td>\n",
       "      <td>0.000311</td>\n",
       "      <td>0.000327</td>\n",
       "      <td>95.0</td>\n",
       "    </tr>\n",
       "    <tr>\n",
       "      <th>Barge I</th>\n",
       "      <td>6</td>\n",
       "      <td>1970-01-01 00:00:00</td>\n",
       "      <td>1970-01-01 22:59:20</td>\n",
       "      <td>82760.0</td>\n",
       "      <td>4789.351852</td>\n",
       "      <td>0.000290</td>\n",
       "      <td>0.000302</td>\n",
       "      <td>95.9</td>\n",
       "    </tr>\n",
       "    <tr>\n",
       "      <th>Carrier B</th>\n",
       "      <td>6</td>\n",
       "      <td>1970-01-01 00:00:00</td>\n",
       "      <td>1970-01-02 00:23:54</td>\n",
       "      <td>87834.0</td>\n",
       "      <td>6099.583333</td>\n",
       "      <td>0.000273</td>\n",
       "      <td>0.000290</td>\n",
       "      <td>94.3</td>\n",
       "    </tr>\n",
       "  </tbody>\n",
       "</table>\n",
       "</div>"
      ],
      "text/plain": [
       "           # trips               start              finish  duration actual  \\\n",
       "name                                                                          \n",
       "Cutter T        25 1970-01-01 01:07:58 1970-01-01 22:45:34          77856.0   \n",
       "Carrier A        7 1970-01-01 00:00:00 1970-01-01 20:36:52          74212.0   \n",
       "Carrier C        6 1970-01-01 00:00:00 1970-01-01 21:27:28          77248.0   \n",
       "Barge I          6 1970-01-01 00:00:00 1970-01-01 22:59:20          82760.0   \n",
       "Carrier B        6 1970-01-01 00:00:00 1970-01-02 00:23:54          87834.0   \n",
       "\n",
       "                   cost  production actual  production theory  occupancy [%]  \n",
       "name                                                                          \n",
       "Cutter T   22527.777778           0.001284           0.002000           64.2  \n",
       "Carrier A   5153.611111           0.000377           0.000394           95.8  \n",
       "Carrier C   5364.444444           0.000311           0.000327           95.0  \n",
       "Barge I     4789.351852           0.000290           0.000302           95.9  \n",
       "Carrier B   6099.583333           0.000273           0.000290           94.3  "
      ]
     },
     "metadata": {},
     "output_type": "display_data"
    },
    {
     "name": "stdout",
     "output_type": "stream",
     "text": [
      "Occupancy \"Cutter T\": 96.3 % Total cost 33146.0\n"
     ]
    },
    {
     "data": {
      "text/html": [
       "<div>\n",
       "<style scoped>\n",
       "    .dataframe tbody tr th:only-of-type {\n",
       "        vertical-align: middle;\n",
       "    }\n",
       "\n",
       "    .dataframe tbody tr th {\n",
       "        vertical-align: top;\n",
       "    }\n",
       "\n",
       "    .dataframe thead th {\n",
       "        text-align: right;\n",
       "    }\n",
       "</style>\n",
       "<table border=\"1\" class=\"dataframe\">\n",
       "  <thead>\n",
       "    <tr style=\"text-align: right;\">\n",
       "      <th></th>\n",
       "      <th># trips</th>\n",
       "      <th>start</th>\n",
       "      <th>finish</th>\n",
       "      <th>duration actual</th>\n",
       "      <th>cost</th>\n",
       "      <th>production actual</th>\n",
       "      <th>production theory</th>\n",
       "      <th>occupancy [%]</th>\n",
       "    </tr>\n",
       "    <tr>\n",
       "      <th>name</th>\n",
       "      <th></th>\n",
       "      <th></th>\n",
       "      <th></th>\n",
       "      <th></th>\n",
       "      <th></th>\n",
       "      <th></th>\n",
       "      <th></th>\n",
       "      <th></th>\n",
       "    </tr>\n",
       "  </thead>\n",
       "  <tbody>\n",
       "    <tr>\n",
       "      <th>Cutter T</th>\n",
       "      <td>20</td>\n",
       "      <td>1970-01-01 01:08:32</td>\n",
       "      <td>1970-01-01 15:33:40</td>\n",
       "      <td>51908.0</td>\n",
       "      <td>15019.675926</td>\n",
       "      <td>0.001926</td>\n",
       "      <td>0.002000</td>\n",
       "      <td>96.3</td>\n",
       "    </tr>\n",
       "    <tr>\n",
       "      <th>Carrier B</th>\n",
       "      <td>5</td>\n",
       "      <td>1970-01-01 00:00:00</td>\n",
       "      <td>1970-01-01 16:42:12</td>\n",
       "      <td>60132.0</td>\n",
       "      <td>4175.833333</td>\n",
       "      <td>0.000416</td>\n",
       "      <td>0.000466</td>\n",
       "      <td>89.2</td>\n",
       "    </tr>\n",
       "    <tr>\n",
       "      <th>Barge II</th>\n",
       "      <td>4</td>\n",
       "      <td>1970-01-01 00:00:00</td>\n",
       "      <td>1970-01-01 13:48:16</td>\n",
       "      <td>49696.0</td>\n",
       "      <td>2875.925926</td>\n",
       "      <td>0.000402</td>\n",
       "      <td>0.000466</td>\n",
       "      <td>86.4</td>\n",
       "    </tr>\n",
       "    <tr>\n",
       "      <th>Carrier A</th>\n",
       "      <td>4</td>\n",
       "      <td>1970-01-01 00:00:00</td>\n",
       "      <td>1970-01-01 15:28:22</td>\n",
       "      <td>55702.0</td>\n",
       "      <td>3868.194444</td>\n",
       "      <td>0.000359</td>\n",
       "      <td>0.000392</td>\n",
       "      <td>91.6</td>\n",
       "    </tr>\n",
       "    <tr>\n",
       "      <th>Carrier C</th>\n",
       "      <td>4</td>\n",
       "      <td>1970-01-01 00:00:00</td>\n",
       "      <td>1970-01-01 16:20:38</td>\n",
       "      <td>58838.0</td>\n",
       "      <td>4085.972222</td>\n",
       "      <td>0.000340</td>\n",
       "      <td>0.000381</td>\n",
       "      <td>89.3</td>\n",
       "    </tr>\n",
       "    <tr>\n",
       "      <th>Barge I</th>\n",
       "      <td>3</td>\n",
       "      <td>1970-01-01 00:00:00</td>\n",
       "      <td>1970-01-01 14:58:46</td>\n",
       "      <td>53926.0</td>\n",
       "      <td>3120.717593</td>\n",
       "      <td>0.000278</td>\n",
       "      <td>0.000352</td>\n",
       "      <td>79.0</td>\n",
       "    </tr>\n",
       "  </tbody>\n",
       "</table>\n",
       "</div>"
      ],
      "text/plain": [
       "           # trips               start              finish  duration actual  \\\n",
       "name                                                                          \n",
       "Cutter T        20 1970-01-01 01:08:32 1970-01-01 15:33:40          51908.0   \n",
       "Carrier B        5 1970-01-01 00:00:00 1970-01-01 16:42:12          60132.0   \n",
       "Barge II         4 1970-01-01 00:00:00 1970-01-01 13:48:16          49696.0   \n",
       "Carrier A        4 1970-01-01 00:00:00 1970-01-01 15:28:22          55702.0   \n",
       "Carrier C        4 1970-01-01 00:00:00 1970-01-01 16:20:38          58838.0   \n",
       "Barge I          3 1970-01-01 00:00:00 1970-01-01 14:58:46          53926.0   \n",
       "\n",
       "                   cost  production actual  production theory  occupancy [%]  \n",
       "name                                                                          \n",
       "Cutter T   15019.675926           0.001926           0.002000           96.3  \n",
       "Carrier B   4175.833333           0.000416           0.000466           89.2  \n",
       "Barge II    2875.925926           0.000402           0.000466           86.4  \n",
       "Carrier A   3868.194444           0.000359           0.000392           91.6  \n",
       "Carrier C   4085.972222           0.000340           0.000381           89.3  \n",
       "Barge I     3120.717593           0.000278           0.000352           79.0  "
      ]
     },
     "metadata": {},
     "output_type": "display_data"
    },
    {
     "name": "stdout",
     "output_type": "stream",
     "text": [
      "Occupancy \"Cutter T\": 97.4 % Total cost 35774.0\n"
     ]
    },
    {
     "data": {
      "text/html": [
       "<div>\n",
       "<style scoped>\n",
       "    .dataframe tbody tr th:only-of-type {\n",
       "        vertical-align: middle;\n",
       "    }\n",
       "\n",
       "    .dataframe tbody tr th {\n",
       "        vertical-align: top;\n",
       "    }\n",
       "\n",
       "    .dataframe thead th {\n",
       "        text-align: right;\n",
       "    }\n",
       "</style>\n",
       "<table border=\"1\" class=\"dataframe\">\n",
       "  <thead>\n",
       "    <tr style=\"text-align: right;\">\n",
       "      <th></th>\n",
       "      <th># trips</th>\n",
       "      <th>start</th>\n",
       "      <th>finish</th>\n",
       "      <th>duration actual</th>\n",
       "      <th>cost</th>\n",
       "      <th>production actual</th>\n",
       "      <th>production theory</th>\n",
       "      <th>occupancy [%]</th>\n",
       "    </tr>\n",
       "    <tr>\n",
       "      <th>name</th>\n",
       "      <th></th>\n",
       "      <th></th>\n",
       "      <th></th>\n",
       "      <th></th>\n",
       "      <th></th>\n",
       "      <th></th>\n",
       "      <th></th>\n",
       "      <th></th>\n",
       "    </tr>\n",
       "  </thead>\n",
       "  <tbody>\n",
       "    <tr>\n",
       "      <th>Cutter T</th>\n",
       "      <td>23</td>\n",
       "      <td>1970-01-01 01:11:46</td>\n",
       "      <td>1970-01-01 15:27:42</td>\n",
       "      <td>51356.0</td>\n",
       "      <td>14859.953704</td>\n",
       "      <td>0.001947</td>\n",
       "      <td>0.002000</td>\n",
       "      <td>97.4</td>\n",
       "    </tr>\n",
       "    <tr>\n",
       "      <th>Carrier B</th>\n",
       "      <td>4</td>\n",
       "      <td>1970-01-01 00:00:00</td>\n",
       "      <td>1970-01-01 13:36:56</td>\n",
       "      <td>49016.0</td>\n",
       "      <td>3403.888889</td>\n",
       "      <td>0.000408</td>\n",
       "      <td>0.000450</td>\n",
       "      <td>90.7</td>\n",
       "    </tr>\n",
       "    <tr>\n",
       "      <th>Barge III</th>\n",
       "      <td>4</td>\n",
       "      <td>1970-01-01 00:00:00</td>\n",
       "      <td>1970-01-01 16:58:58</td>\n",
       "      <td>61138.0</td>\n",
       "      <td>3538.078704</td>\n",
       "      <td>0.000327</td>\n",
       "      <td>0.000372</td>\n",
       "      <td>88.0</td>\n",
       "    </tr>\n",
       "    <tr>\n",
       "      <th>Barge II</th>\n",
       "      <td>4</td>\n",
       "      <td>1970-01-01 00:00:00</td>\n",
       "      <td>1970-01-01 14:11:18</td>\n",
       "      <td>51078.0</td>\n",
       "      <td>2955.902778</td>\n",
       "      <td>0.000313</td>\n",
       "      <td>0.000373</td>\n",
       "      <td>84.1</td>\n",
       "    </tr>\n",
       "    <tr>\n",
       "      <th>Carrier A</th>\n",
       "      <td>4</td>\n",
       "      <td>1970-01-01 00:00:00</td>\n",
       "      <td>1970-01-01 15:26:28</td>\n",
       "      <td>55588.0</td>\n",
       "      <td>3860.277778</td>\n",
       "      <td>0.000288</td>\n",
       "      <td>0.000340</td>\n",
       "      <td>84.6</td>\n",
       "    </tr>\n",
       "    <tr>\n",
       "      <th>Carrier C</th>\n",
       "      <td>4</td>\n",
       "      <td>1970-01-01 00:00:00</td>\n",
       "      <td>1970-01-01 15:59:56</td>\n",
       "      <td>57596.0</td>\n",
       "      <td>3999.722222</td>\n",
       "      <td>0.000278</td>\n",
       "      <td>0.000340</td>\n",
       "      <td>81.8</td>\n",
       "    </tr>\n",
       "    <tr>\n",
       "      <th>Barge I</th>\n",
       "      <td>3</td>\n",
       "      <td>1970-01-01 00:00:00</td>\n",
       "      <td>1970-01-01 15:08:54</td>\n",
       "      <td>54534.0</td>\n",
       "      <td>3155.902778</td>\n",
       "      <td>0.000220</td>\n",
       "      <td>0.000293</td>\n",
       "      <td>75.1</td>\n",
       "    </tr>\n",
       "  </tbody>\n",
       "</table>\n",
       "</div>"
      ],
      "text/plain": [
       "           # trips               start              finish  duration actual  \\\n",
       "name                                                                          \n",
       "Cutter T        23 1970-01-01 01:11:46 1970-01-01 15:27:42          51356.0   \n",
       "Carrier B        4 1970-01-01 00:00:00 1970-01-01 13:36:56          49016.0   \n",
       "Barge III        4 1970-01-01 00:00:00 1970-01-01 16:58:58          61138.0   \n",
       "Barge II         4 1970-01-01 00:00:00 1970-01-01 14:11:18          51078.0   \n",
       "Carrier A        4 1970-01-01 00:00:00 1970-01-01 15:26:28          55588.0   \n",
       "Carrier C        4 1970-01-01 00:00:00 1970-01-01 15:59:56          57596.0   \n",
       "Barge I          3 1970-01-01 00:00:00 1970-01-01 15:08:54          54534.0   \n",
       "\n",
       "                   cost  production actual  production theory  occupancy [%]  \n",
       "name                                                                          \n",
       "Cutter T   14859.953704           0.001947           0.002000           97.4  \n",
       "Carrier B   3403.888889           0.000408           0.000450           90.7  \n",
       "Barge III   3538.078704           0.000327           0.000372           88.0  \n",
       "Barge II    2955.902778           0.000313           0.000373           84.1  \n",
       "Carrier A   3860.277778           0.000288           0.000340           84.6  \n",
       "Carrier C   3999.722222           0.000278           0.000340           81.8  \n",
       "Barge I     3155.902778           0.000220           0.000293           75.1  "
      ]
     },
     "metadata": {},
     "output_type": "display_data"
    },
    {
     "name": "stdout",
     "output_type": "stream",
     "text": [
      "Occupancy \"Cutter T\": 100.0 % Total cost 37380.0\n"
     ]
    },
    {
     "data": {
      "text/html": [
       "<div>\n",
       "<style scoped>\n",
       "    .dataframe tbody tr th:only-of-type {\n",
       "        vertical-align: middle;\n",
       "    }\n",
       "\n",
       "    .dataframe tbody tr th {\n",
       "        vertical-align: top;\n",
       "    }\n",
       "\n",
       "    .dataframe thead th {\n",
       "        text-align: right;\n",
       "    }\n",
       "</style>\n",
       "<table border=\"1\" class=\"dataframe\">\n",
       "  <thead>\n",
       "    <tr style=\"text-align: right;\">\n",
       "      <th></th>\n",
       "      <th># trips</th>\n",
       "      <th>start</th>\n",
       "      <th>finish</th>\n",
       "      <th>duration actual</th>\n",
       "      <th>cost</th>\n",
       "      <th>production actual</th>\n",
       "      <th>production theory</th>\n",
       "      <th>occupancy [%]</th>\n",
       "    </tr>\n",
       "    <tr>\n",
       "      <th>name</th>\n",
       "      <th></th>\n",
       "      <th></th>\n",
       "      <th></th>\n",
       "      <th></th>\n",
       "      <th></th>\n",
       "      <th></th>\n",
       "      <th></th>\n",
       "      <th></th>\n",
       "    </tr>\n",
       "  </thead>\n",
       "  <tbody>\n",
       "    <tr>\n",
       "      <th>Cutter T</th>\n",
       "      <td>23</td>\n",
       "      <td>1970-01-01 01:12:20</td>\n",
       "      <td>1970-01-01 15:14:00</td>\n",
       "      <td>50500.0</td>\n",
       "      <td>14612.268519</td>\n",
       "      <td>0.001980</td>\n",
       "      <td>0.001980</td>\n",
       "      <td>100.0</td>\n",
       "    </tr>\n",
       "    <tr>\n",
       "      <th>Barge I</th>\n",
       "      <td>3</td>\n",
       "      <td>1970-01-01 00:00:00</td>\n",
       "      <td>1970-01-01 12:54:16</td>\n",
       "      <td>46456.0</td>\n",
       "      <td>2688.425926</td>\n",
       "      <td>0.000323</td>\n",
       "      <td>0.000426</td>\n",
       "      <td>75.8</td>\n",
       "    </tr>\n",
       "    <tr>\n",
       "      <th>Barge III</th>\n",
       "      <td>4</td>\n",
       "      <td>1970-01-01 00:00:00</td>\n",
       "      <td>1970-01-01 14:29:40</td>\n",
       "      <td>52180.0</td>\n",
       "      <td>3019.675926</td>\n",
       "      <td>0.000307</td>\n",
       "      <td>0.000375</td>\n",
       "      <td>81.9</td>\n",
       "    </tr>\n",
       "    <tr>\n",
       "      <th>Carrier C</th>\n",
       "      <td>4</td>\n",
       "      <td>1970-01-01 00:00:00</td>\n",
       "      <td>1970-01-01 15:46:16</td>\n",
       "      <td>56776.0</td>\n",
       "      <td>3942.777778</td>\n",
       "      <td>0.000282</td>\n",
       "      <td>0.000368</td>\n",
       "      <td>76.6</td>\n",
       "    </tr>\n",
       "    <tr>\n",
       "      <th>Carrier A</th>\n",
       "      <td>3</td>\n",
       "      <td>1970-01-01 00:00:00</td>\n",
       "      <td>1970-01-01 15:31:24</td>\n",
       "      <td>55884.0</td>\n",
       "      <td>3880.833333</td>\n",
       "      <td>0.000268</td>\n",
       "      <td>0.000368</td>\n",
       "      <td>72.9</td>\n",
       "    </tr>\n",
       "    <tr>\n",
       "      <th>Barge II</th>\n",
       "      <td>3</td>\n",
       "      <td>1970-01-01 00:00:00</td>\n",
       "      <td>1970-01-01 16:50:02</td>\n",
       "      <td>60602.0</td>\n",
       "      <td>3507.060185</td>\n",
       "      <td>0.000248</td>\n",
       "      <td>0.000357</td>\n",
       "      <td>69.4</td>\n",
       "    </tr>\n",
       "    <tr>\n",
       "      <th>Carrier B</th>\n",
       "      <td>3</td>\n",
       "      <td>1970-01-01 00:00:00</td>\n",
       "      <td>1970-01-01 13:31:12</td>\n",
       "      <td>48672.0</td>\n",
       "      <td>3380.000000</td>\n",
       "      <td>0.000247</td>\n",
       "      <td>0.000343</td>\n",
       "      <td>71.9</td>\n",
       "    </tr>\n",
       "    <tr>\n",
       "      <th>Extra 1</th>\n",
       "      <td>3</td>\n",
       "      <td>1970-01-01 00:00:00</td>\n",
       "      <td>1970-01-01 14:05:32</td>\n",
       "      <td>50732.0</td>\n",
       "      <td>2348.703704</td>\n",
       "      <td>0.000237</td>\n",
       "      <td>0.000339</td>\n",
       "      <td>69.7</td>\n",
       "    </tr>\n",
       "  </tbody>\n",
       "</table>\n",
       "</div>"
      ],
      "text/plain": [
       "           # trips               start              finish  duration actual  \\\n",
       "name                                                                          \n",
       "Cutter T        23 1970-01-01 01:12:20 1970-01-01 15:14:00          50500.0   \n",
       "Barge I          3 1970-01-01 00:00:00 1970-01-01 12:54:16          46456.0   \n",
       "Barge III        4 1970-01-01 00:00:00 1970-01-01 14:29:40          52180.0   \n",
       "Carrier C        4 1970-01-01 00:00:00 1970-01-01 15:46:16          56776.0   \n",
       "Carrier A        3 1970-01-01 00:00:00 1970-01-01 15:31:24          55884.0   \n",
       "Barge II         3 1970-01-01 00:00:00 1970-01-01 16:50:02          60602.0   \n",
       "Carrier B        3 1970-01-01 00:00:00 1970-01-01 13:31:12          48672.0   \n",
       "Extra 1          3 1970-01-01 00:00:00 1970-01-01 14:05:32          50732.0   \n",
       "\n",
       "                   cost  production actual  production theory  occupancy [%]  \n",
       "name                                                                          \n",
       "Cutter T   14612.268519           0.001980           0.001980          100.0  \n",
       "Barge I     2688.425926           0.000323           0.000426           75.8  \n",
       "Barge III   3019.675926           0.000307           0.000375           81.9  \n",
       "Carrier C   3942.777778           0.000282           0.000368           76.6  \n",
       "Carrier A   3880.833333           0.000268           0.000368           72.9  \n",
       "Barge II    3507.060185           0.000248           0.000357           69.4  \n",
       "Carrier B   3380.000000           0.000247           0.000343           71.9  \n",
       "Extra 1     2348.703704           0.000237           0.000339           69.7  "
      ]
     },
     "metadata": {},
     "output_type": "display_data"
    },
    {
     "name": "stdout",
     "output_type": "stream",
     "text": [
      "Occupancy \"Cutter T\": 100.0 % Total cost 39988.0\n"
     ]
    },
    {
     "data": {
      "text/html": [
       "<div>\n",
       "<style scoped>\n",
       "    .dataframe tbody tr th:only-of-type {\n",
       "        vertical-align: middle;\n",
       "    }\n",
       "\n",
       "    .dataframe tbody tr th {\n",
       "        vertical-align: top;\n",
       "    }\n",
       "\n",
       "    .dataframe thead th {\n",
       "        text-align: right;\n",
       "    }\n",
       "</style>\n",
       "<table border=\"1\" class=\"dataframe\">\n",
       "  <thead>\n",
       "    <tr style=\"text-align: right;\">\n",
       "      <th></th>\n",
       "      <th># trips</th>\n",
       "      <th>start</th>\n",
       "      <th>finish</th>\n",
       "      <th>duration actual</th>\n",
       "      <th>cost</th>\n",
       "      <th>production actual</th>\n",
       "      <th>production theory</th>\n",
       "      <th>occupancy [%]</th>\n",
       "    </tr>\n",
       "    <tr>\n",
       "      <th>name</th>\n",
       "      <th></th>\n",
       "      <th></th>\n",
       "      <th></th>\n",
       "      <th></th>\n",
       "      <th></th>\n",
       "      <th></th>\n",
       "      <th></th>\n",
       "      <th></th>\n",
       "    </tr>\n",
       "  </thead>\n",
       "  <tbody>\n",
       "    <tr>\n",
       "      <th>Cutter T</th>\n",
       "      <td>22</td>\n",
       "      <td>1970-01-01 01:07:20</td>\n",
       "      <td>1970-01-01 15:34:00</td>\n",
       "      <td>52000.0</td>\n",
       "      <td>15046.296296</td>\n",
       "      <td>0.001923</td>\n",
       "      <td>0.001923</td>\n",
       "      <td>100.0</td>\n",
       "    </tr>\n",
       "    <tr>\n",
       "      <th>Extra 1</th>\n",
       "      <td>3</td>\n",
       "      <td>1970-01-01 00:00:00</td>\n",
       "      <td>1970-01-01 14:50:10</td>\n",
       "      <td>53410.0</td>\n",
       "      <td>2472.685185</td>\n",
       "      <td>0.000281</td>\n",
       "      <td>0.000408</td>\n",
       "      <td>68.8</td>\n",
       "    </tr>\n",
       "    <tr>\n",
       "      <th>Extra 2</th>\n",
       "      <td>3</td>\n",
       "      <td>1970-01-01 00:00:00</td>\n",
       "      <td>1970-01-01 15:40:16</td>\n",
       "      <td>56416.0</td>\n",
       "      <td>2611.851852</td>\n",
       "      <td>0.000266</td>\n",
       "      <td>0.000377</td>\n",
       "      <td>70.5</td>\n",
       "    </tr>\n",
       "    <tr>\n",
       "      <th>Carrier B</th>\n",
       "      <td>3</td>\n",
       "      <td>1970-01-01 00:00:00</td>\n",
       "      <td>1970-01-01 12:39:40</td>\n",
       "      <td>45580.0</td>\n",
       "      <td>3165.277778</td>\n",
       "      <td>0.000263</td>\n",
       "      <td>0.000397</td>\n",
       "      <td>66.3</td>\n",
       "    </tr>\n",
       "    <tr>\n",
       "      <th>Carrier A</th>\n",
       "      <td>3</td>\n",
       "      <td>1970-01-01 00:00:00</td>\n",
       "      <td>1970-01-01 16:23:14</td>\n",
       "      <td>58994.0</td>\n",
       "      <td>4096.805556</td>\n",
       "      <td>0.000254</td>\n",
       "      <td>0.000373</td>\n",
       "      <td>68.2</td>\n",
       "    </tr>\n",
       "    <tr>\n",
       "      <th>Barge II</th>\n",
       "      <td>3</td>\n",
       "      <td>1970-01-01 00:00:00</td>\n",
       "      <td>1970-01-01 17:08:12</td>\n",
       "      <td>61692.0</td>\n",
       "      <td>3570.138889</td>\n",
       "      <td>0.000243</td>\n",
       "      <td>0.000362</td>\n",
       "      <td>67.1</td>\n",
       "    </tr>\n",
       "    <tr>\n",
       "      <th>Carrier C</th>\n",
       "      <td>3</td>\n",
       "      <td>1970-01-01 00:00:00</td>\n",
       "      <td>1970-01-01 14:03:00</td>\n",
       "      <td>50580.0</td>\n",
       "      <td>3512.500000</td>\n",
       "      <td>0.000237</td>\n",
       "      <td>0.000361</td>\n",
       "      <td>65.7</td>\n",
       "    </tr>\n",
       "    <tr>\n",
       "      <th>Barge III</th>\n",
       "      <td>2</td>\n",
       "      <td>1970-01-01 00:00:00</td>\n",
       "      <td>1970-01-01 12:35:34</td>\n",
       "      <td>45334.0</td>\n",
       "      <td>2623.495370</td>\n",
       "      <td>0.000221</td>\n",
       "      <td>0.000355</td>\n",
       "      <td>62.2</td>\n",
       "    </tr>\n",
       "    <tr>\n",
       "      <th>Barge I</th>\n",
       "      <td>2</td>\n",
       "      <td>1970-01-01 00:00:00</td>\n",
       "      <td>1970-01-01 13:52:02</td>\n",
       "      <td>49922.0</td>\n",
       "      <td>2889.004630</td>\n",
       "      <td>0.000200</td>\n",
       "      <td>0.000351</td>\n",
       "      <td>57.1</td>\n",
       "    </tr>\n",
       "  </tbody>\n",
       "</table>\n",
       "</div>"
      ],
      "text/plain": [
       "           # trips               start              finish  duration actual  \\\n",
       "name                                                                          \n",
       "Cutter T        22 1970-01-01 01:07:20 1970-01-01 15:34:00          52000.0   \n",
       "Extra 1          3 1970-01-01 00:00:00 1970-01-01 14:50:10          53410.0   \n",
       "Extra 2          3 1970-01-01 00:00:00 1970-01-01 15:40:16          56416.0   \n",
       "Carrier B        3 1970-01-01 00:00:00 1970-01-01 12:39:40          45580.0   \n",
       "Carrier A        3 1970-01-01 00:00:00 1970-01-01 16:23:14          58994.0   \n",
       "Barge II         3 1970-01-01 00:00:00 1970-01-01 17:08:12          61692.0   \n",
       "Carrier C        3 1970-01-01 00:00:00 1970-01-01 14:03:00          50580.0   \n",
       "Barge III        2 1970-01-01 00:00:00 1970-01-01 12:35:34          45334.0   \n",
       "Barge I          2 1970-01-01 00:00:00 1970-01-01 13:52:02          49922.0   \n",
       "\n",
       "                   cost  production actual  production theory  occupancy [%]  \n",
       "name                                                                          \n",
       "Cutter T   15046.296296           0.001923           0.001923          100.0  \n",
       "Extra 1     2472.685185           0.000281           0.000408           68.8  \n",
       "Extra 2     2611.851852           0.000266           0.000377           70.5  \n",
       "Carrier B   3165.277778           0.000263           0.000397           66.3  \n",
       "Carrier A   4096.805556           0.000254           0.000373           68.2  \n",
       "Barge II    3570.138889           0.000243           0.000362           67.1  \n",
       "Carrier C   3512.500000           0.000237           0.000361           65.7  \n",
       "Barge III   2623.495370           0.000221           0.000355           62.2  \n",
       "Barge I     2889.004630           0.000200           0.000351           57.1  "
      ]
     },
     "metadata": {},
     "output_type": "display_data"
    }
   ],
   "source": [
    "results = []\n",
    "occupancy = []\n",
    "cost = []\n",
    "finish, duration = [], []\n",
    "n_barges = range(2,len(barge_names)) # +1 at least 1 barge\n",
    "for i in n_barges:\n",
    "    results.append(run(i,total_amount))\n",
    "    vessels = results[-1]['vessels']\n",
    "    activities = results[-1]['activities']\n",
    "    cutter = vessels[cutter_name]\n",
    "    to_site = results[-1][to_site_name]\n",
    "    from_site = results[-1][from_site_name]\n",
    "    df = occupancy_analysis(vessels, cutter, activities,vessel_cost)\n",
    "    occupancy.append(df.loc[cutter_name]['occupancy [%]'])\n",
    "    cost.append(df['cost'].sum())\n",
    "    finish.append(df['finish'].max())\n",
    "    duration.append((df['finish'].max() - df['start'].min()).total_seconds()/3600/24)\n",
    "    display(df)"
   ]
  },
  {
   "cell_type": "code",
   "execution_count": 25,
   "id": "9e7f3cf4",
   "metadata": {},
   "outputs": [
    {
     "data": {
      "image/png": "[encoded data removed]",
      "text/plain": [
       "<Figure size 640x480 with 3 Axes>"
      ]
     },
     "metadata": {},
     "output_type": "display_data"
    }
   ],
   "source": [
    "%matplotlib inline\n",
    "import matplotlib.pyplot as plt\n",
    "\n",
    "fig = plt.figure()\n",
    "gs = fig.add_gridspec(3, hspace=0)\n",
    "axs = gs.subplots(sharex=True)\n",
    "\n",
    "\n",
    "axs[0].plot(n_barges,cost,'.-'), axs[0].set_ylabel('# cost [EUR]'),axs[0].grid();\n",
    "# axs[0].set_xlabel('# barges');\n",
    "\n",
    "axs[1].plot(n_barges,occupancy,'.-'), axs[1].set_ylabel('cutter occupancy [%]'),axs[1].grid();\n",
    "# axs[1].set_xlabel('# barges');\n",
    "axs[1].yaxis.set_label_position(\"right\")\n",
    "axs[1].yaxis.tick_right()\n",
    "\n",
    "axs[2].plot(n_barges,duration,'.-'), axs[2].set_ylabel('# time [days]'),axs[2].grid();\n",
    "\n",
    "axs[-1].set_xlabel('# barges');"
   ]
  },
  {
   "cell_type": "markdown",
   "id": "9d132a51",
   "metadata": {},
   "source": [
    "## Visualize critical path of best scneario"
   ]
  },
  {
   "cell_type": "markdown",
   "id": "70e77f68",
   "metadata": {},
   "source": [
    "For explanation of Critical Path see notebook 30"
   ]
  },
  {
   "cell_type": "code",
   "execution_count": 13,
   "id": "0f21208b",
   "metadata": {},
   "outputs": [],
   "source": [
    "from openclsim.plot.critical_path import CpLog"
   ]
  },
  {
   "cell_type": "code",
   "execution_count": 28,
   "id": "3308f0de",
   "metadata": {},
   "outputs": [
    {
     "name": "stdout",
     "output_type": "stream",
     "text": [
      "Occupancy \"Cutter T\": 100.0 % Total cost 37380.0\n"
     ]
    },
    {
     "data": {
      "text/html": [
       "        <script type=\"text/javascript\">\n",
       "        window.PlotlyConfig = {MathJaxConfig: 'local'};\n",
       "        if (window.MathJax && window.MathJax.Hub && window.MathJax.Hub.Config) {window.MathJax.Hub.Config({SVG: {font: \"STIX-Web\"}});}\n",
       "        if (typeof require !== 'undefined') {\n",
       "        require.undef(\"plotly\");\n",
       "        requirejs.config({\n",
       "            paths: {\n",
       "                'plotly': ['https://cdn.plot.ly/plotly-2.18.2.min']\n",
       "            }\n",
       "        });\n",
       "        require(['plotly'], function(Plotly) {\n",
       "            window._Plotly = Plotly;\n",
       "        });\n",
       "        }\n",
       "        </script>\n",
       "        "
      ]
     },
     "metadata": {},
     "output_type": "display_data"
    },
    {
     "data": {
      "application/vnd.plotly.v1+json": {
       "config": {
        "linkText": "Export to plot.ly",
        "plotlyServerURL": "https://plot.ly",
        "showLink": false
       },
       "data": [
        {
         "connectgaps": false,
         "hoverinfo": "name",
         "line": {
          "color": "red",
          "width": 14
         },
         "mode": "lines",
         "name": "critical_path",
         "type": "scatter",
         "x": [
          "1970-01-01T00:00:00",
          "1970-01-01T00:36:10",
          "1970-01-01T00:36:10",
          "1970-01-01T00:36:10",
          "1970-01-01T01:12:20",
          "1970-01-01T01:12:20",
          "1970-01-01T01:12:20",
          "1970-01-01T01:45:40",
          "1970-01-01T01:45:40",
          "1970-01-01T01:12:20",
          "1970-01-01T01:45:40",
          "1970-01-01T01:45:40",
          "1970-01-01T01:12:20",
          "1970-01-01T01:45:40",
          "1970-01-01T01:45:40",
          "1970-01-01T01:45:40",
          "1970-01-01T02:19:00",
          "1970-01-01T02:19:00",
          "1970-01-01T01:45:40",
          "1970-01-01T02:19:00",
          "1970-01-01T02:19:00",
          "1970-01-01T01:45:40",
          "1970-01-01T02:19:00",
          "1970-01-01T02:19:00",
          "1970-01-01T02:19:00",
          "1970-01-01T03:00:40",
          "1970-01-01T03:00:40",
          "1970-01-01T02:19:00",
          "1970-01-01T03:00:40",
          "1970-01-01T03:00:40",
          "1970-01-01T02:19:00",
          "1970-01-01T03:00:40",
          "1970-01-01T03:00:40",
          "1970-01-01T03:00:40",
          "1970-01-01T03:34:00",
          "1970-01-01T03:34:00",
          "1970-01-01T03:00:40",
          "1970-01-01T03:34:00",
          "1970-01-01T03:34:00",
          "1970-01-01T03:00:40",
          "1970-01-01T03:34:00",
          "1970-01-01T03:34:00",
          "1970-01-01T03:34:00",
          "1970-01-01T04:07:20",
          "1970-01-01T04:07:20",
          "1970-01-01T03:34:00",
          "1970-01-01T04:07:20",
          "1970-01-01T04:07:20",
          "1970-01-01T03:34:00",
          "1970-01-01T04:07:20",
          "1970-01-01T04:07:20",
          "1970-01-01T04:07:20",
          "1970-01-01T04:49:00",
          "1970-01-01T04:49:00",
          "1970-01-01T04:07:20",
          "1970-01-01T04:49:00",
          "1970-01-01T04:49:00",
          "1970-01-01T04:07:20",
          "1970-01-01T04:49:00",
          "1970-01-01T04:49:00",
          "1970-01-01T04:49:00",
          "1970-01-01T05:30:40",
          "1970-01-01T05:30:40",
          "1970-01-01T04:49:00",
          "1970-01-01T05:30:40",
          "1970-01-01T05:30:40",
          "1970-01-01T04:49:00",
          "1970-01-01T05:30:40",
          "1970-01-01T05:30:40",
          "1970-01-01T05:30:40",
          "1970-01-01T06:04:00",
          "1970-01-01T06:04:00",
          "1970-01-01T05:30:40",
          "1970-01-01T06:04:00",
          "1970-01-01T06:04:00",
          "1970-01-01T05:30:40",
          "1970-01-01T06:04:00",
          "1970-01-01T06:04:00",
          "1970-01-01T06:04:00",
          "1970-01-01T06:37:20",
          "1970-01-01T06:37:20",
          "1970-01-01T06:04:00",
          "1970-01-01T06:37:20",
          "1970-01-01T06:37:20",
          "1970-01-01T06:04:00",
          "1970-01-01T06:37:20",
          "1970-01-01T06:37:20",
          "1970-01-01T06:37:20",
          "1970-01-01T07:19:00",
          "1970-01-01T07:19:00",
          "1970-01-01T06:37:20",
          "1970-01-01T07:19:00",
          "1970-01-01T07:19:00",
          "1970-01-01T06:37:20",
          "1970-01-01T07:19:00",
          "1970-01-01T07:19:00",
          "1970-01-01T07:19:00",
          "1970-01-01T07:52:20",
          "1970-01-01T07:52:20",
          "1970-01-01T07:19:00",
          "1970-01-01T07:52:20",
          "1970-01-01T07:52:20",
          "1970-01-01T07:19:00",
          "1970-01-01T07:52:20",
          "1970-01-01T07:52:20",
          "1970-01-01T07:52:20",
          "1970-01-01T08:25:40",
          "1970-01-01T08:25:40",
          "1970-01-01T07:52:20",
          "1970-01-01T08:25:40",
          "1970-01-01T08:25:40",
          "1970-01-01T07:52:20",
          "1970-01-01T08:25:40",
          "1970-01-01T08:25:40",
          "1970-01-01T08:25:40",
          "1970-01-01T09:07:20",
          "1970-01-01T09:07:20",
          "1970-01-01T08:25:40",
          "1970-01-01T09:07:20",
          "1970-01-01T09:07:20",
          "1970-01-01T08:25:40",
          "1970-01-01T09:07:20",
          "1970-01-01T09:07:20",
          "1970-01-01T09:07:20",
          "1970-01-01T09:40:40",
          "1970-01-01T09:40:40",
          "1970-01-01T09:07:20",
          "1970-01-01T09:40:40",
          "1970-01-01T09:40:40",
          "1970-01-01T09:07:20",
          "1970-01-01T09:40:40",
          "1970-01-01T09:40:40",
          "1970-01-01T09:40:40",
          "1970-01-01T10:22:20",
          "1970-01-01T10:22:20",
          "1970-01-01T09:40:40",
          "1970-01-01T10:22:20",
          "1970-01-01T10:22:20",
          "1970-01-01T09:40:40",
          "1970-01-01T10:22:20",
          "1970-01-01T10:22:20",
          "1970-01-01T10:22:20",
          "1970-01-01T10:55:40",
          "1970-01-01T10:55:40",
          "1970-01-01T10:22:20",
          "1970-01-01T10:55:40",
          "1970-01-01T10:55:40",
          "1970-01-01T10:22:20",
          "1970-01-01T10:55:40",
          "1970-01-01T10:55:40",
          "1970-01-01T10:55:40",
          "1970-01-01T11:37:20",
          "1970-01-01T11:37:20",
          "1970-01-01T10:55:40",
          "1970-01-01T11:37:20",
          "1970-01-01T11:37:20",
          "1970-01-01T10:55:40",
          "1970-01-01T11:37:20",
          "1970-01-01T11:37:20",
          "1970-01-01T11:37:20",
          "1970-01-01T12:10:40",
          "1970-01-01T12:10:40",
          "1970-01-01T11:37:20",
          "1970-01-01T12:10:40",
          "1970-01-01T12:10:40",
          "1970-01-01T11:37:20",
          "1970-01-01T12:10:40",
          "1970-01-01T12:10:40",
          "1970-01-01T12:10:40",
          "1970-01-01T12:44:00",
          "1970-01-01T12:44:00",
          "1970-01-01T12:10:40",
          "1970-01-01T12:44:00",
          "1970-01-01T12:44:00",
          "1970-01-01T12:10:40",
          "1970-01-01T12:44:00",
          "1970-01-01T12:44:00",
          "1970-01-01T12:44:00",
          "1970-01-01T13:17:20",
          "1970-01-01T13:17:20",
          "1970-01-01T12:44:00",
          "1970-01-01T13:17:20",
          "1970-01-01T13:17:20",
          "1970-01-01T12:44:00",
          "1970-01-01T13:17:20",
          "1970-01-01T13:17:20",
          "1970-01-01T13:17:20",
          "1970-01-01T13:59:00",
          "1970-01-01T13:59:00",
          "1970-01-01T13:17:20",
          "1970-01-01T13:59:00",
          "1970-01-01T13:59:00",
          "1970-01-01T13:17:20",
          "1970-01-01T13:59:00",
          "1970-01-01T13:59:00",
          "1970-01-01T13:59:00",
          "1970-01-01T14:32:20",
          "1970-01-01T14:32:20",
          "1970-01-01T13:59:00",
          "1970-01-01T14:32:20",
          "1970-01-01T14:32:20",
          "1970-01-01T13:59:00",
          "1970-01-01T14:32:20",
          "1970-01-01T14:32:20",
          "1970-01-01T14:32:20",
          "1970-01-01T15:14:00",
          "1970-01-01T15:14:00",
          "1970-01-01T14:32:20",
          "1970-01-01T15:14:00",
          "1970-01-01T15:14:00",
          "1970-01-01T14:32:20",
          "1970-01-01T15:14:00",
          "1970-01-01T15:14:00",
          "1970-01-01T15:14:00",
          "1970-01-01T16:02:01",
          "1970-01-01T16:02:01",
          "1970-01-01T16:02:01",
          "1970-01-01T16:50:02",
          "1970-01-01T16:50:02",
          "1970-01-01T16:02:01",
          "1970-01-01T16:50:02",
          "1970-01-01T16:50:02"
         ],
         "y": [
          "Barge III",
          "Barge III",
          null,
          "Barge III",
          "Barge III",
          null,
          "Barge III",
          "Barge III",
          null,
          "Cutter T",
          "Cutter T",
          null,
          "Trench",
          "Trench",
          null,
          "Carrier C",
          "Carrier C",
          null,
          "Cutter T",
          "Cutter T",
          null,
          "Trench",
          "Trench",
          null,
          "Barge I",
          "Barge I",
          null,
          "Cutter T",
          "Cutter T",
          null,
          "Trench",
          "Trench",
          null,
          "Carrier B",
          "Carrier B",
          null,
          "Cutter T",
          "Cutter T",
          null,
          "Trench",
          "Trench",
          null,
          "Cutter T",
          "Cutter T",
          null,
          "Extra 1",
          "Extra 1",
          null,
          "Trench",
          "Trench",
          null,
          "Carrier A",
          "Carrier A",
          null,
          "Cutter T",
          "Cutter T",
          null,
          "Trench",
          "Trench",
          null,
          "Barge II",
          "Barge II",
          null,
          "Cutter T",
          "Cutter T",
          null,
          "Trench",
          "Trench",
          null,
          "Barge III",
          "Barge III",
          null,
          "Cutter T",
          "Cutter T",
          null,
          "Trench",
          "Trench",
          null,
          "Carrier C",
          "Carrier C",
          null,
          "Cutter T",
          "Cutter T",
          null,
          "Trench",
          "Trench",
          null,
          "Barge I",
          "Barge I",
          null,
          "Cutter T",
          "Cutter T",
          null,
          "Trench",
          "Trench",
          null,
          "Carrier B",
          "Carrier B",
          null,
          "Cutter T",
          "Cutter T",
          null,
          "Trench",
          "Trench",
          null,
          "Cutter T",
          "Cutter T",
          null,
          "Extra 1",
          "Extra 1",
          null,
          "Trench",
          "Trench",
          null,
          "Carrier A",
          "Carrier A",
          null,
          "Cutter T",
          "Cutter T",
          null,
          "Trench",
          "Trench",
          null,
          "Barge III",
          "Barge III",
          null,
          "Cutter T",
          "Cutter T",
          null,
          "Trench",
          "Trench",
          null,
          "Barge II",
          "Barge II",
          null,
          "Cutter T",
          "Cutter T",
          null,
          "Trench",
          "Trench",
          null,
          "Carrier C",
          "Carrier C",
          null,
          "Cutter T",
          "Cutter T",
          null,
          "Trench",
          "Trench",
          null,
          "Barge I",
          "Barge I",
          null,
          "Cutter T",
          "Cutter T",
          null,
          "Trench",
          "Trench",
          null,
          "Carrier B",
          "Carrier B",
          null,
          "Cutter T",
          "Cutter T",
          null,
          "Trench",
          "Trench",
          null,
          "Cutter T",
          "Cutter T",
          null,
          "Extra 1",
          "Extra 1",
          null,
          "Trench",
          "Trench",
          null,
          "Barge III",
          "Barge III",
          null,
          "Cutter T",
          "Cutter T",
          null,
          "Trench",
          "Trench",
          null,
          "Carrier A",
          "Carrier A",
          null,
          "Cutter T",
          "Cutter T",
          null,
          "Trench",
          "Trench",
          null,
          "Carrier C",
          "Carrier C",
          null,
          "Cutter T",
          "Cutter T",
          null,
          "Trench",
          "Trench",
          null,
          "Barge II",
          "Barge II",
          null,
          "Cutter T",
          "Cutter T",
          null,
          "Trench",
          "Trench",
          null,
          "Barge II",
          "Barge II",
          null,
          "Barge II",
          "Barge II",
          null,
          "Reclamation",
          "Reclamation",
          null
         ]
        },
        {
         "connectgaps": false,
         "hoverinfo": "y+name",
         "line": {
          "color": "rgb(237,246,98)",
          "width": 10
         },
         "mode": "lines",
         "name": "unloading:Carrier A",
         "type": "scatter",
         "x": [
          "1970-01-01T05:35:12",
          "1970-01-01T05:35:12",
          "1970-01-01T06:21:24",
          "1970-01-01T06:21:24",
          "1970-01-01T06:21:24",
          "1970-01-01T09:53:32",
          "1970-01-01T09:53:32",
          "1970-01-01T10:39:44",
          "1970-01-01T10:39:44",
          "1970-01-01T10:39:44",
          "1970-01-01T14:45:12",
          "1970-01-01T14:45:12",
          "1970-01-01T15:31:24",
          "1970-01-01T15:31:24",
          "1970-01-01T15:31:24",
          "1970-01-01T05:35:12",
          "1970-01-01T05:35:12",
          "1970-01-01T06:21:24",
          "1970-01-01T06:21:24",
          "1970-01-01T06:21:24",
          "1970-01-01T09:53:32",
          "1970-01-01T09:53:32",
          "1970-01-01T10:39:44",
          "1970-01-01T10:39:44",
          "1970-01-01T10:39:44",
          "1970-01-01T14:45:12",
          "1970-01-01T14:45:12",
          "1970-01-01T15:31:24",
          "1970-01-01T15:31:24",
          "1970-01-01T15:31:24"
         ],
         "y": [
          "Carrier A",
          "Carrier A",
          "Carrier A",
          "Carrier A",
          null,
          "Carrier A",
          "Carrier A",
          "Carrier A",
          "Carrier A",
          null,
          "Carrier A",
          "Carrier A",
          "Carrier A",
          "Carrier A",
          null,
          "Reclamation",
          "Reclamation",
          "Reclamation",
          "Reclamation",
          null,
          "Reclamation",
          "Reclamation",
          "Reclamation",
          "Reclamation",
          null,
          "Reclamation",
          "Reclamation",
          "Reclamation",
          "Reclamation",
          null
         ]
        },
        {
         "connectgaps": false,
         "hoverinfo": "y+name",
         "line": {
          "color": "rgb(241,250,102)",
          "width": 10
         },
         "mode": "lines",
         "name": "sailing empty:Carrier A",
         "type": "scatter",
         "x": [
          "1970-01-01T00:46:12",
          "1970-01-01T00:46:12",
          "1970-01-01T01:32:24",
          "1970-01-01T01:32:24",
          "1970-01-01T01:32:24",
          "1970-01-01T07:07:36",
          "1970-01-01T07:07:36",
          "1970-01-01T07:53:48",
          "1970-01-01T07:53:48",
          "1970-01-01T07:53:48",
          "1970-01-01T11:25:56",
          "1970-01-01T11:25:56",
          "1970-01-01T12:12:08",
          "1970-01-01T12:12:08",
          "1970-01-01T12:12:08"
         ],
         "y": [
          "Carrier A",
          "Carrier A",
          "Carrier A",
          "Carrier A",
          null,
          "Carrier A",
          "Carrier A",
          "Carrier A",
          "Carrier A",
          null,
          "Carrier A",
          "Carrier A",
          "Carrier A",
          "Carrier A",
          null
         ]
        },
        {
         "connectgaps": false,
         "hoverinfo": "y+name",
         "line": {
          "color": "rgb(245,254,106)",
          "width": 10
         },
         "mode": "lines",
         "name": "loading:Carrier A",
         "type": "scatter",
         "x": [
          "1970-01-01T04:07:20",
          "1970-01-01T04:07:20",
          "1970-01-01T04:49:00",
          "1970-01-01T04:49:00",
          "1970-01-01T04:49:00",
          "1970-01-01T08:25:40",
          "1970-01-01T08:25:40",
          "1970-01-01T09:07:20",
          "1970-01-01T09:07:20",
          "1970-01-01T09:07:20",
          "1970-01-01T13:17:20",
          "1970-01-01T13:17:20",
          "1970-01-01T13:59:00",
          "1970-01-01T13:59:00",
          "1970-01-01T13:59:00",
          "1970-01-01T04:07:20",
          "1970-01-01T04:07:20",
          "1970-01-01T04:49:00",
          "1970-01-01T04:49:00",
          "1970-01-01T04:49:00",
          "1970-01-01T08:25:40",
          "1970-01-01T08:25:40",
          "1970-01-01T09:07:20",
          "1970-01-01T09:07:20",
          "1970-01-01T09:07:20",
          "1970-01-01T13:17:20",
          "1970-01-01T13:17:20",
          "1970-01-01T13:59:00",
          "1970-01-01T13:59:00",
          "1970-01-01T13:59:00",
          "1970-01-01T04:07:20",
          "1970-01-01T04:07:20",
          "1970-01-01T04:49:00",
          "1970-01-01T04:49:00",
          "1970-01-01T04:49:00",
          "1970-01-01T08:25:40",
          "1970-01-01T08:25:40",
          "1970-01-01T09:07:20",
          "1970-01-01T09:07:20",
          "1970-01-01T09:07:20",
          "1970-01-01T13:17:20",
          "1970-01-01T13:17:20",
          "1970-01-01T13:59:00",
          "1970-01-01T13:59:00",
          "1970-01-01T13:59:00"
         ],
         "y": [
          "Carrier A",
          "Carrier A",
          "Carrier A",
          "Carrier A",
          null,
          "Carrier A",
          "Carrier A",
          "Carrier A",
          "Carrier A",
          null,
          "Carrier A",
          "Carrier A",
          "Carrier A",
          "Carrier A",
          null,
          "Cutter T",
          "Cutter T",
          "Cutter T",
          "Cutter T",
          null,
          "Cutter T",
          "Cutter T",
          "Cutter T",
          "Cutter T",
          null,
          "Cutter T",
          "Cutter T",
          "Cutter T",
          "Cutter T",
          null,
          "Trench",
          "Trench",
          "Trench",
          "Trench",
          null,
          "Trench",
          "Trench",
          "Trench",
          "Trench",
          null,
          "Trench",
          "Trench",
          "Trench",
          "Trench",
          null
         ]
        },
        {
         "connectgaps": false,
         "hoverinfo": "y+name",
         "line": {
          "color": "rgb(249,2,110)",
          "width": 10
         },
         "mode": "lines",
         "name": "basic activity:Carrier A",
         "type": "scatter",
         "x": [
          "1970-01-01T00:00:00",
          "1970-01-01T00:00:00",
          "1970-01-01T00:46:12",
          "1970-01-01T00:46:12",
          "1970-01-01T00:46:12",
          "1970-01-01T06:21:24",
          "1970-01-01T06:21:24",
          "1970-01-01T07:07:36",
          "1970-01-01T07:07:36",
          "1970-01-01T07:07:36",
          "1970-01-01T10:39:44",
          "1970-01-01T10:39:44",
          "1970-01-01T11:25:56",
          "1970-01-01T11:25:56",
          "1970-01-01T11:25:56"
         ],
         "y": [
          "Carrier A",
          "Carrier A",
          "Carrier A",
          "Carrier A",
          null,
          "Carrier A",
          "Carrier A",
          "Carrier A",
          "Carrier A",
          null,
          "Carrier A",
          "Carrier A",
          "Carrier A",
          "Carrier A",
          null
         ]
        },
        {
         "connectgaps": false,
         "hoverinfo": "y+name",
         "line": {
          "color": "rgb(253,6,114)",
          "width": 10
         },
         "mode": "lines",
         "name": "sailing full:Carrier A",
         "type": "scatter",
         "x": [
          "1970-01-01T04:49:00",
          "1970-01-01T04:49:00",
          "1970-01-01T05:35:12",
          "1970-01-01T05:35:12",
          "1970-01-01T05:35:12",
          "1970-01-01T09:07:20",
          "1970-01-01T09:07:20",
          "1970-01-01T09:53:32",
          "1970-01-01T09:53:32",
          "1970-01-01T09:53:32",
          "1970-01-01T13:59:00",
          "1970-01-01T13:59:00",
          "1970-01-01T14:45:12",
          "1970-01-01T14:45:12",
          "1970-01-01T14:45:12"
         ],
         "y": [
          "Carrier A",
          "Carrier A",
          "Carrier A",
          "Carrier A",
          null,
          "Carrier A",
          "Carrier A",
          "Carrier A",
          "Carrier A",
          null,
          "Carrier A",
          "Carrier A",
          "Carrier A",
          "Carrier A",
          null
         ]
        },
        {
         "connectgaps": false,
         "hoverinfo": "y+name",
         "line": {
          "color": "rgb(1,10,118)",
          "width": 10
         },
         "mode": "lines",
         "name": "sailing empty:Carrier B",
         "type": "scatter",
         "x": [
          "1970-01-01T00:40:16",
          "1970-01-01T00:40:16",
          "1970-01-01T01:20:32",
          "1970-01-01T01:20:32",
          "1970-01-01T01:20:32",
          "1970-01-01T05:34:48",
          "1970-01-01T05:34:48",
          "1970-01-01T06:15:04",
          "1970-01-01T06:15:04",
          "1970-01-01T06:15:04",
          "1970-01-01T09:53:08",
          "1970-01-01T09:53:08",
          "1970-01-01T10:33:24",
          "1970-01-01T10:33:24",
          "1970-01-01T10:33:24"
         ],
         "y": [
          "Carrier B",
          "Carrier B",
          "Carrier B",
          "Carrier B",
          null,
          "Carrier B",
          "Carrier B",
          "Carrier B",
          "Carrier B",
          null,
          "Carrier B",
          "Carrier B",
          "Carrier B",
          "Carrier B",
          null
         ]
        },
        {
         "connectgaps": false,
         "hoverinfo": "y+name",
         "line": {
          "color": "rgb(5,14,122)",
          "width": 10
         },
         "mode": "lines",
         "name": "sailing full:Carrier B",
         "type": "scatter",
         "x": [
          "1970-01-01T03:34:00",
          "1970-01-01T03:34:00",
          "1970-01-01T04:14:16",
          "1970-01-01T04:14:16",
          "1970-01-01T04:14:16",
          "1970-01-01T07:52:20",
          "1970-01-01T07:52:20",
          "1970-01-01T08:32:36",
          "1970-01-01T08:32:36",
          "1970-01-01T08:32:36",
          "1970-01-01T12:10:40",
          "1970-01-01T12:10:40",
          "1970-01-01T12:50:56",
          "1970-01-01T12:50:56",
          "1970-01-01T12:50:56"
         ],
         "y": [
          "Carrier B",
          "Carrier B",
          "Carrier B",
          "Carrier B",
          null,
          "Carrier B",
          "Carrier B",
          "Carrier B",
          "Carrier B",
          null,
          "Carrier B",
          "Carrier B",
          "Carrier B",
          "Carrier B",
          null
         ]
        },
        {
         "connectgaps": false,
         "hoverinfo": "y+name",
         "line": {
          "color": "rgb(9,18,126)",
          "width": 10
         },
         "mode": "lines",
         "name": "basic activity:Carrier B",
         "type": "scatter",
         "x": [
          "1970-01-01T00:00:00",
          "1970-01-01T00:00:00",
          "1970-01-01T00:40:16",
          "1970-01-01T00:40:16",
          "1970-01-01T00:40:16",
          "1970-01-01T04:54:32",
          "1970-01-01T04:54:32",
          "1970-01-01T05:34:48",
          "1970-01-01T05:34:48",
          "1970-01-01T05:34:48",
          "1970-01-01T09:12:52",
          "1970-01-01T09:12:52",
          "1970-01-01T09:53:08",
          "1970-01-01T09:53:08",
          "1970-01-01T09:53:08"
         ],
         "y": [
          "Carrier B",
          "Carrier B",
          "Carrier B",
          "Carrier B",
          null,
          "Carrier B",
          "Carrier B",
          "Carrier B",
          "Carrier B",
          null,
          "Carrier B",
          "Carrier B",
          "Carrier B",
          "Carrier B",
          null
         ]
        },
        {
         "connectgaps": false,
         "hoverinfo": "y+name",
         "line": {
          "color": "rgb(13,22,130)",
          "width": 10
         },
         "mode": "lines",
         "name": "loading:Carrier B",
         "type": "scatter",
         "x": [
          "1970-01-01T03:00:40",
          "1970-01-01T03:00:40",
          "1970-01-01T03:34:00",
          "1970-01-01T03:34:00",
          "1970-01-01T03:34:00",
          "1970-01-01T07:19:00",
          "1970-01-01T07:19:00",
          "1970-01-01T07:52:20",
          "1970-01-01T07:52:20",
          "1970-01-01T07:52:20",
          "1970-01-01T11:37:20",
          "1970-01-01T11:37:20",
          "1970-01-01T12:10:40",
          "1970-01-01T12:10:40",
          "1970-01-01T12:10:40",
          "1970-01-01T03:00:40",
          "1970-01-01T03:00:40",
          "1970-01-01T03:34:00",
          "1970-01-01T03:34:00",
          "1970-01-01T03:34:00",
          "1970-01-01T07:19:00",
          "1970-01-01T07:19:00",
          "1970-01-01T07:52:20",
          "1970-01-01T07:52:20",
          "1970-01-01T07:52:20",
          "1970-01-01T11:37:20",
          "1970-01-01T11:37:20",
          "1970-01-01T12:10:40",
          "1970-01-01T12:10:40",
          "1970-01-01T12:10:40",
          "1970-01-01T03:00:40",
          "1970-01-01T03:00:40",
          "1970-01-01T03:34:00",
          "1970-01-01T03:34:00",
          "1970-01-01T03:34:00",
          "1970-01-01T07:19:00",
          "1970-01-01T07:19:00",
          "1970-01-01T07:52:20",
          "1970-01-01T07:52:20",
          "1970-01-01T07:52:20",
          "1970-01-01T11:37:20",
          "1970-01-01T11:37:20",
          "1970-01-01T12:10:40",
          "1970-01-01T12:10:40",
          "1970-01-01T12:10:40"
         ],
         "y": [
          "Carrier B",
          "Carrier B",
          "Carrier B",
          "Carrier B",
          null,
          "Carrier B",
          "Carrier B",
          "Carrier B",
          "Carrier B",
          null,
          "Carrier B",
          "Carrier B",
          "Carrier B",
          "Carrier B",
          null,
          "Cutter T",
          "Cutter T",
          "Cutter T",
          "Cutter T",
          null,
          "Cutter T",
          "Cutter T",
          "Cutter T",
          "Cutter T",
          null,
          "Cutter T",
          "Cutter T",
          "Cutter T",
          "Cutter T",
          null,
          "Trench",
          "Trench",
          "Trench",
          "Trench",
          null,
          "Trench",
          "Trench",
          "Trench",
          "Trench",
          null,
          "Trench",
          "Trench",
          "Trench",
          "Trench",
          null
         ]
        },
        {
         "connectgaps": false,
         "hoverinfo": "y+name",
         "line": {
          "color": "rgb(17,26,134)",
          "width": 10
         },
         "mode": "lines",
         "name": "unloading:Carrier B",
         "type": "scatter",
         "x": [
          "1970-01-01T04:14:16",
          "1970-01-01T04:14:16",
          "1970-01-01T04:54:32",
          "1970-01-01T04:54:32",
          "1970-01-01T04:54:32",
          "1970-01-01T08:32:36",
          "1970-01-01T08:32:36",
          "1970-01-01T09:12:52",
          "1970-01-01T09:12:52",
          "1970-01-01T09:12:52",
          "1970-01-01T12:50:56",
          "1970-01-01T12:50:56",
          "1970-01-01T13:31:12",
          "1970-01-01T13:31:12",
          "1970-01-01T13:31:12",
          "1970-01-01T04:14:16",
          "1970-01-01T04:14:16",
          "1970-01-01T04:54:32",
          "1970-01-01T04:54:32",
          "1970-01-01T04:54:32",
          "1970-01-01T08:32:36",
          "1970-01-01T08:32:36",
          "1970-01-01T09:12:52",
          "1970-01-01T09:12:52",
          "1970-01-01T09:12:52",
          "1970-01-01T12:50:56",
          "1970-01-01T12:50:56",
          "1970-01-01T13:31:12",
          "1970-01-01T13:31:12",
          "1970-01-01T13:31:12"
         ],
         "y": [
          "Carrier B",
          "Carrier B",
          "Carrier B",
          "Carrier B",
          null,
          "Carrier B",
          "Carrier B",
          "Carrier B",
          "Carrier B",
          null,
          "Carrier B",
          "Carrier B",
          "Carrier B",
          "Carrier B",
          null,
          "Reclamation",
          "Reclamation",
          "Reclamation",
          "Reclamation",
          null,
          "Reclamation",
          "Reclamation",
          "Reclamation",
          "Reclamation",
          null,
          "Reclamation",
          "Reclamation",
          "Reclamation",
          "Reclamation",
          null
         ]
        },
        {
         "connectgaps": false,
         "hoverinfo": "y+name",
         "line": {
          "color": "rgb(21,30,138)",
          "width": 10
         },
         "mode": "lines",
         "name": "loading:Carrier C",
         "type": "scatter",
         "x": [
          "1970-01-01T01:45:40",
          "1970-01-01T01:45:40",
          "1970-01-01T02:19:00",
          "1970-01-01T02:19:00",
          "1970-01-01T02:19:00",
          "1970-01-01T06:04:00",
          "1970-01-01T06:04:00",
          "1970-01-01T06:37:20",
          "1970-01-01T06:37:20",
          "1970-01-01T06:37:20",
          "1970-01-01T10:22:20",
          "1970-01-01T10:22:20",
          "1970-01-01T10:55:40",
          "1970-01-01T10:55:40",
          "1970-01-01T10:55:40",
          "1970-01-01T13:59:00",
          "1970-01-01T13:59:00",
          "1970-01-01T14:32:20",
          "1970-01-01T14:32:20",
          "1970-01-01T14:32:20",
          "1970-01-01T01:45:40",
          "1970-01-01T01:45:40",
          "1970-01-01T02:19:00",
          "1970-01-01T02:19:00",
          "1970-01-01T02:19:00",
          "1970-01-01T06:04:00",
          "1970-01-01T06:04:00",
          "1970-01-01T06:37:20",
          "1970-01-01T06:37:20",
          "1970-01-01T06:37:20",
          "1970-01-01T10:22:20",
          "1970-01-01T10:22:20",
          "1970-01-01T10:55:40",
          "1970-01-01T10:55:40",
          "1970-01-01T10:55:40",
          "1970-01-01T13:59:00",
          "1970-01-01T13:59:00",
          "1970-01-01T14:32:20",
          "1970-01-01T14:32:20",
          "1970-01-01T14:32:20",
          "1970-01-01T01:45:40",
          "1970-01-01T01:45:40",
          "1970-01-01T02:19:00",
          "1970-01-01T02:19:00",
          "1970-01-01T02:19:00",
          "1970-01-01T06:04:00",
          "1970-01-01T06:04:00",
          "1970-01-01T06:37:20",
          "1970-01-01T06:37:20",
          "1970-01-01T06:37:20",
          "1970-01-01T10:22:20",
          "1970-01-01T10:22:20",
          "1970-01-01T10:55:40",
          "1970-01-01T10:55:40",
          "1970-01-01T10:55:40",
          "1970-01-01T13:59:00",
          "1970-01-01T13:59:00",
          "1970-01-01T14:32:20",
          "1970-01-01T14:32:20",
          "1970-01-01T14:32:20"
         ],
         "y": [
          "Carrier C",
          "Carrier C",
          "Carrier C",
          "Carrier C",
          null,
          "Carrier C",
          "Carrier C",
          "Carrier C",
          "Carrier C",
          null,
          "Carrier C",
          "Carrier C",
          "Carrier C",
          "Carrier C",
          null,
          "Carrier C",
          "Carrier C",
          "Carrier C",
          "Carrier C",
          null,
          "Cutter T",
          "Cutter T",
          "Cutter T",
          "Cutter T",
          null,
          "Cutter T",
          "Cutter T",
          "Cutter T",
          "Cutter T",
          null,
          "Cutter T",
          "Cutter T",
          "Cutter T",
          "Cutter T",
          null,
          "Cutter T",
          "Cutter T",
          "Cutter T",
          "Cutter T",
          null,
          "Trench",
          "Trench",
          "Trench",
          "Trench",
          null,
          "Trench",
          "Trench",
          "Trench",
          "Trench",
          null,
          "Trench",
          "Trench",
          "Trench",
          "Trench",
          null,
          "Trench",
          "Trench",
          "Trench",
          "Trench",
          null
         ]
        },
        {
         "connectgaps": false,
         "hoverinfo": "y+name",
         "line": {
          "color": "rgb(25,34,142)",
          "width": 10
         },
         "mode": "lines",
         "name": "sailing full:Carrier C",
         "type": "scatter",
         "x": [
          "1970-01-01T02:19:00",
          "1970-01-01T02:19:00",
          "1970-01-01T02:55:58",
          "1970-01-01T02:55:58",
          "1970-01-01T02:55:58",
          "1970-01-01T06:37:20",
          "1970-01-01T06:37:20",
          "1970-01-01T07:14:18",
          "1970-01-01T07:14:18",
          "1970-01-01T07:14:18",
          "1970-01-01T10:55:40",
          "1970-01-01T10:55:40",
          "1970-01-01T11:32:38",
          "1970-01-01T11:32:38",
          "1970-01-01T11:32:38",
          "1970-01-01T14:32:20",
          "1970-01-01T14:32:20",
          "1970-01-01T15:09:18",
          "1970-01-01T15:09:18",
          "1970-01-01T15:09:18"
         ],
         "y": [
          "Carrier C",
          "Carrier C",
          "Carrier C",
          "Carrier C",
          null,
          "Carrier C",
          "Carrier C",
          "Carrier C",
          "Carrier C",
          null,
          "Carrier C",
          "Carrier C",
          "Carrier C",
          "Carrier C",
          null,
          "Carrier C",
          "Carrier C",
          "Carrier C",
          "Carrier C",
          null
         ]
        },
        {
         "connectgaps": false,
         "hoverinfo": "y+name",
         "line": {
          "color": "rgb(29,38,146)",
          "width": 10
         },
         "mode": "lines",
         "name": "sailing empty:Carrier C",
         "type": "scatter",
         "x": [
          "1970-01-01T00:36:58",
          "1970-01-01T00:36:58",
          "1970-01-01T01:13:56",
          "1970-01-01T01:13:56",
          "1970-01-01T01:13:56",
          "1970-01-01T04:09:54",
          "1970-01-01T04:09:54",
          "1970-01-01T04:46:52",
          "1970-01-01T04:46:52",
          "1970-01-01T04:46:52",
          "1970-01-01T08:28:14",
          "1970-01-01T08:28:14",
          "1970-01-01T09:05:12",
          "1970-01-01T09:05:12",
          "1970-01-01T09:05:12",
          "1970-01-01T12:46:34",
          "1970-01-01T12:46:34",
          "1970-01-01T13:23:32",
          "1970-01-01T13:23:32",
          "1970-01-01T13:23:32"
         ],
         "y": [
          "Carrier C",
          "Carrier C",
          "Carrier C",
          "Carrier C",
          null,
          "Carrier C",
          "Carrier C",
          "Carrier C",
          "Carrier C",
          null,
          "Carrier C",
          "Carrier C",
          "Carrier C",
          "Carrier C",
          null,
          "Carrier C",
          "Carrier C",
          "Carrier C",
          "Carrier C",
          null
         ]
        },
        {
         "connectgaps": false,
         "hoverinfo": "y+name",
         "line": {
          "color": "rgb(33,42,150)",
          "width": 10
         },
         "mode": "lines",
         "name": "basic activity:Carrier C",
         "type": "scatter",
         "x": [
          "1970-01-01T00:00:00",
          "1970-01-01T00:00:00",
          "1970-01-01T00:36:58",
          "1970-01-01T00:36:58",
          "1970-01-01T00:36:58",
          "1970-01-01T03:32:56",
          "1970-01-01T03:32:56",
          "1970-01-01T04:09:54",
          "1970-01-01T04:09:54",
          "1970-01-01T04:09:54",
          "1970-01-01T07:51:16",
          "1970-01-01T07:51:16",
          "1970-01-01T08:28:14",
          "1970-01-01T08:28:14",
          "1970-01-01T08:28:14",
          "1970-01-01T12:09:36",
          "1970-01-01T12:09:36",
          "1970-01-01T12:46:34",
          "1970-01-01T12:46:34",
          "1970-01-01T12:46:34"
         ],
         "y": [
          "Carrier C",
          "Carrier C",
          "Carrier C",
          "Carrier C",
          null,
          "Carrier C",
          "Carrier C",
          "Carrier C",
          "Carrier C",
          null,
          "Carrier C",
          "Carrier C",
          "Carrier C",
          "Carrier C",
          null,
          "Carrier C",
          "Carrier C",
          "Carrier C",
          "Carrier C",
          null
         ]
        },
        {
         "connectgaps": false,
         "hoverinfo": "y+name",
         "line": {
          "color": "rgb(37,46,154)",
          "width": 10
         },
         "mode": "lines",
         "name": "unloading:Carrier C",
         "type": "scatter",
         "x": [
          "1970-01-01T02:55:58",
          "1970-01-01T02:55:58",
          "1970-01-01T03:32:56",
          "1970-01-01T03:32:56",
          "1970-01-01T03:32:56",
          "1970-01-01T07:14:18",
          "1970-01-01T07:14:18",
          "1970-01-01T07:51:16",
          "1970-01-01T07:51:16",
          "1970-01-01T07:51:16",
          "1970-01-01T11:32:38",
          "1970-01-01T11:32:38",
          "1970-01-01T12:09:36",
          "1970-01-01T12:09:36",
          "1970-01-01T12:09:36",
          "1970-01-01T15:09:18",
          "1970-01-01T15:09:18",
          "1970-01-01T15:46:16",
          "1970-01-01T15:46:16",
          "1970-01-01T15:46:16",
          "1970-01-01T02:55:58",
          "1970-01-01T02:55:58",
          "1970-01-01T03:32:56",
          "1970-01-01T03:32:56",
          "1970-01-01T03:32:56",
          "1970-01-01T07:14:18",
          "1970-01-01T07:14:18",
          "1970-01-01T07:51:16",
          "1970-01-01T07:51:16",
          "1970-01-01T07:51:16",
          "1970-01-01T11:32:38",
          "1970-01-01T11:32:38",
          "1970-01-01T12:09:36",
          "1970-01-01T12:09:36",
          "1970-01-01T12:09:36",
          "1970-01-01T15:09:18",
          "1970-01-01T15:09:18",
          "1970-01-01T15:46:16",
          "1970-01-01T15:46:16",
          "1970-01-01T15:46:16"
         ],
         "y": [
          "Carrier C",
          "Carrier C",
          "Carrier C",
          "Carrier C",
          null,
          "Carrier C",
          "Carrier C",
          "Carrier C",
          "Carrier C",
          null,
          "Carrier C",
          "Carrier C",
          "Carrier C",
          "Carrier C",
          null,
          "Carrier C",
          "Carrier C",
          "Carrier C",
          "Carrier C",
          null,
          "Reclamation",
          "Reclamation",
          "Reclamation",
          "Reclamation",
          null,
          "Reclamation",
          "Reclamation",
          "Reclamation",
          "Reclamation",
          null,
          "Reclamation",
          "Reclamation",
          "Reclamation",
          "Reclamation",
          null,
          "Reclamation",
          "Reclamation",
          "Reclamation",
          "Reclamation",
          null
         ]
        },
        {
         "connectgaps": false,
         "hoverinfo": "y+name",
         "line": {
          "color": "rgb(41,50,158)",
          "width": 10
         },
         "mode": "lines",
         "name": "sailing empty:Barge I",
         "type": "scatter",
         "x": [
          "1970-01-01T00:38:28",
          "1970-01-01T00:38:28",
          "1970-01-01T01:16:56",
          "1970-01-01T01:16:56",
          "1970-01-01T01:16:56",
          "1970-01-01T04:56:04",
          "1970-01-01T04:56:04",
          "1970-01-01T05:34:32",
          "1970-01-01T05:34:32",
          "1970-01-01T05:34:32",
          "1970-01-01T09:14:24",
          "1970-01-01T09:14:24",
          "1970-01-01T09:52:52",
          "1970-01-01T09:52:52",
          "1970-01-01T09:52:52"
         ],
         "y": [
          "Barge I",
          "Barge I",
          "Barge I",
          "Barge I",
          null,
          "Barge I",
          "Barge I",
          "Barge I",
          "Barge I",
          null,
          "Barge I",
          "Barge I",
          "Barge I",
          "Barge I",
          null
         ]
        },
        {
         "connectgaps": false,
         "hoverinfo": "y+name",
         "line": {
          "color": "rgb(45,54,162)",
          "width": 10
         },
         "mode": "lines",
         "name": "unloading:Barge I",
         "type": "scatter",
         "x": [
          "1970-01-01T03:39:08",
          "1970-01-01T03:39:08",
          "1970-01-01T04:17:36",
          "1970-01-01T04:17:36",
          "1970-01-01T04:17:36",
          "1970-01-01T07:57:28",
          "1970-01-01T07:57:28",
          "1970-01-01T08:35:56",
          "1970-01-01T08:35:56",
          "1970-01-01T08:35:56",
          "1970-01-01T12:15:48",
          "1970-01-01T12:15:48",
          "1970-01-01T12:54:16",
          "1970-01-01T12:54:16",
          "1970-01-01T12:54:16",
          "1970-01-01T03:39:08",
          "1970-01-01T03:39:08",
          "1970-01-01T04:17:36",
          "1970-01-01T04:17:36",
          "1970-01-01T04:17:36",
          "1970-01-01T07:57:28",
          "1970-01-01T07:57:28",
          "1970-01-01T08:35:56",
          "1970-01-01T08:35:56",
          "1970-01-01T08:35:56",
          "1970-01-01T12:15:48",
          "1970-01-01T12:15:48",
          "1970-01-01T12:54:16",
          "1970-01-01T12:54:16",
          "1970-01-01T12:54:16"
         ],
         "y": [
          "Barge I",
          "Barge I",
          "Barge I",
          "Barge I",
          null,
          "Barge I",
          "Barge I",
          "Barge I",
          "Barge I",
          null,
          "Barge I",
          "Barge I",
          "Barge I",
          "Barge I",
          null,
          "Reclamation",
          "Reclamation",
          "Reclamation",
          "Reclamation",
          null,
          "Reclamation",
          "Reclamation",
          "Reclamation",
          "Reclamation",
          null,
          "Reclamation",
          "Reclamation",
          "Reclamation",
          "Reclamation",
          null
         ]
        },
        {
         "connectgaps": false,
         "hoverinfo": "y+name",
         "line": {
          "color": "rgb(49,58,166)",
          "width": 10
         },
         "mode": "lines",
         "name": "sailing full:Barge I",
         "type": "scatter",
         "x": [
          "1970-01-01T03:00:40",
          "1970-01-01T03:00:40",
          "1970-01-01T03:39:08",
          "1970-01-01T03:39:08",
          "1970-01-01T03:39:08",
          "1970-01-01T07:19:00",
          "1970-01-01T07:19:00",
          "1970-01-01T07:57:28",
          "1970-01-01T07:57:28",
          "1970-01-01T07:57:28",
          "1970-01-01T11:37:20",
          "1970-01-01T11:37:20",
          "1970-01-01T12:15:48",
          "1970-01-01T12:15:48",
          "1970-01-01T12:15:48"
         ],
         "y": [
          "Barge I",
          "Barge I",
          "Barge I",
          "Barge I",
          null,
          "Barge I",
          "Barge I",
          "Barge I",
          "Barge I",
          null,
          "Barge I",
          "Barge I",
          "Barge I",
          "Barge I",
          null
         ]
        },
        {
         "connectgaps": false,
         "hoverinfo": "y+name",
         "line": {
          "color": "rgb(53,62,170)",
          "width": 10
         },
         "mode": "lines",
         "name": "loading:Barge I",
         "type": "scatter",
         "x": [
          "1970-01-01T02:19:00",
          "1970-01-01T02:19:00",
          "1970-01-01T03:00:40",
          "1970-01-01T03:00:40",
          "1970-01-01T03:00:40",
          "1970-01-01T06:37:20",
          "1970-01-01T06:37:20",
          "1970-01-01T07:19:00",
          "1970-01-01T07:19:00",
          "1970-01-01T07:19:00",
          "1970-01-01T10:55:40",
          "1970-01-01T10:55:40",
          "1970-01-01T11:37:20",
          "1970-01-01T11:37:20",
          "1970-01-01T11:37:20",
          "1970-01-01T02:19:00",
          "1970-01-01T02:19:00",
          "1970-01-01T03:00:40",
          "1970-01-01T03:00:40",
          "1970-01-01T03:00:40",
          "1970-01-01T06:37:20",
          "1970-01-01T06:37:20",
          "1970-01-01T07:19:00",
          "1970-01-01T07:19:00",
          "1970-01-01T07:19:00",
          "1970-01-01T10:55:40",
          "1970-01-01T10:55:40",
          "1970-01-01T11:37:20",
          "1970-01-01T11:37:20",
          "1970-01-01T11:37:20",
          "1970-01-01T02:19:00",
          "1970-01-01T02:19:00",
          "1970-01-01T03:00:40",
          "1970-01-01T03:00:40",
          "1970-01-01T03:00:40",
          "1970-01-01T06:37:20",
          "1970-01-01T06:37:20",
          "1970-01-01T07:19:00",
          "1970-01-01T07:19:00",
          "1970-01-01T07:19:00",
          "1970-01-01T10:55:40",
          "1970-01-01T10:55:40",
          "1970-01-01T11:37:20",
          "1970-01-01T11:37:20",
          "1970-01-01T11:37:20"
         ],
         "y": [
          "Barge I",
          "Barge I",
          "Barge I",
          "Barge I",
          null,
          "Barge I",
          "Barge I",
          "Barge I",
          "Barge I",
          null,
          "Barge I",
          "Barge I",
          "Barge I",
          "Barge I",
          null,
          "Cutter T",
          "Cutter T",
          "Cutter T",
          "Cutter T",
          null,
          "Cutter T",
          "Cutter T",
          "Cutter T",
          "Cutter T",
          null,
          "Cutter T",
          "Cutter T",
          "Cutter T",
          "Cutter T",
          null,
          "Trench",
          "Trench",
          "Trench",
          "Trench",
          null,
          "Trench",
          "Trench",
          "Trench",
          "Trench",
          null,
          "Trench",
          "Trench",
          "Trench",
          "Trench",
          null
         ]
        },
        {
         "connectgaps": false,
         "hoverinfo": "y+name",
         "line": {
          "color": "rgb(57,66,174)",
          "width": 10
         },
         "mode": "lines",
         "name": "basic activity:Barge I",
         "type": "scatter",
         "x": [
          "1970-01-01T00:00:00",
          "1970-01-01T00:00:00",
          "1970-01-01T00:38:28",
          "1970-01-01T00:38:28",
          "1970-01-01T00:38:28",
          "1970-01-01T04:17:36",
          "1970-01-01T04:17:36",
          "1970-01-01T04:56:04",
          "1970-01-01T04:56:04",
          "1970-01-01T04:56:04",
          "1970-01-01T08:35:56",
          "1970-01-01T08:35:56",
          "1970-01-01T09:14:24",
          "1970-01-01T09:14:24",
          "1970-01-01T09:14:24"
         ],
         "y": [
          "Barge I",
          "Barge I",
          "Barge I",
          "Barge I",
          null,
          "Barge I",
          "Barge I",
          "Barge I",
          "Barge I",
          null,
          "Barge I",
          "Barge I",
          "Barge I",
          "Barge I",
          null
         ]
        },
        {
         "connectgaps": false,
         "hoverinfo": "y+name",
         "line": {
          "color": "rgb(61,70,178)",
          "width": 10
         },
         "mode": "lines",
         "name": "loading:Barge II",
         "type": "scatter",
         "x": [
          "1970-01-01T04:49:00",
          "1970-01-01T04:49:00",
          "1970-01-01T05:30:40",
          "1970-01-01T05:30:40",
          "1970-01-01T05:30:40",
          "1970-01-01T09:40:40",
          "1970-01-01T09:40:40",
          "1970-01-01T10:22:20",
          "1970-01-01T10:22:20",
          "1970-01-01T10:22:20",
          "1970-01-01T14:32:20",
          "1970-01-01T14:32:20",
          "1970-01-01T15:14:00",
          "1970-01-01T15:14:00",
          "1970-01-01T15:14:00",
          "1970-01-01T04:49:00",
          "1970-01-01T04:49:00",
          "1970-01-01T05:30:40",
          "1970-01-01T05:30:40",
          "1970-01-01T05:30:40",
          "1970-01-01T09:40:40",
          "1970-01-01T09:40:40",
          "1970-01-01T10:22:20",
          "1970-01-01T10:22:20",
          "1970-01-01T10:22:20",
          "1970-01-01T14:32:20",
          "1970-01-01T14:32:20",
          "1970-01-01T15:14:00",
          "1970-01-01T15:14:00",
          "1970-01-01T15:14:00",
          "1970-01-01T04:49:00",
          "1970-01-01T04:49:00",
          "1970-01-01T05:30:40",
          "1970-01-01T05:30:40",
          "1970-01-01T05:30:40",
          "1970-01-01T09:40:40",
          "1970-01-01T09:40:40",
          "1970-01-01T10:22:20",
          "1970-01-01T10:22:20",
          "1970-01-01T10:22:20",
          "1970-01-01T14:32:20",
          "1970-01-01T14:32:20",
          "1970-01-01T15:14:00",
          "1970-01-01T15:14:00",
          "1970-01-01T15:14:00"
         ],
         "y": [
          "Barge II",
          "Barge II",
          "Barge II",
          "Barge II",
          null,
          "Barge II",
          "Barge II",
          "Barge II",
          "Barge II",
          null,
          "Barge II",
          "Barge II",
          "Barge II",
          "Barge II",
          null,
          "Cutter T",
          "Cutter T",
          "Cutter T",
          "Cutter T",
          null,
          "Cutter T",
          "Cutter T",
          "Cutter T",
          "Cutter T",
          null,
          "Cutter T",
          "Cutter T",
          "Cutter T",
          "Cutter T",
          null,
          "Trench",
          "Trench",
          "Trench",
          "Trench",
          null,
          "Trench",
          "Trench",
          "Trench",
          "Trench",
          null,
          "Trench",
          "Trench",
          "Trench",
          "Trench",
          null
         ]
        },
        {
         "connectgaps": false,
         "hoverinfo": "y+name",
         "line": {
          "color": "rgb(65,74,182)",
          "width": 10
         },
         "mode": "lines",
         "name": "sailing full:Barge II",
         "type": "scatter",
         "x": [
          "1970-01-01T05:30:40",
          "1970-01-01T05:30:40",
          "1970-01-01T06:18:41",
          "1970-01-01T06:18:41",
          "1970-01-01T06:18:41",
          "1970-01-01T10:22:20",
          "1970-01-01T10:22:20",
          "1970-01-01T11:10:21",
          "1970-01-01T11:10:21",
          "1970-01-01T11:10:21",
          "1970-01-01T15:14:00",
          "1970-01-01T15:14:00",
          "1970-01-01T16:02:01",
          "1970-01-01T16:02:01",
          "1970-01-01T16:02:01"
         ],
         "y": [
          "Barge II",
          "Barge II",
          "Barge II",
          "Barge II",
          null,
          "Barge II",
          "Barge II",
          "Barge II",
          "Barge II",
          null,
          "Barge II",
          "Barge II",
          "Barge II",
          "Barge II",
          null
         ]
        },
        {
         "connectgaps": false,
         "hoverinfo": "y+name",
         "line": {
          "color": "rgb(69,78,186)",
          "width": 10
         },
         "mode": "lines",
         "name": "sailing empty:Barge II",
         "type": "scatter",
         "x": [
          "1970-01-01T00:48:01",
          "1970-01-01T00:48:01",
          "1970-01-01T01:36:02",
          "1970-01-01T01:36:02",
          "1970-01-01T01:36:02",
          "1970-01-01T07:54:43",
          "1970-01-01T07:54:43",
          "1970-01-01T08:42:44",
          "1970-01-01T08:42:44",
          "1970-01-01T08:42:44",
          "1970-01-01T12:46:23",
          "1970-01-01T12:46:23",
          "1970-01-01T13:34:24",
          "1970-01-01T13:34:24",
          "1970-01-01T13:34:24"
         ],
         "y": [
          "Barge II",
          "Barge II",
          "Barge II",
          "Barge II",
          null,
          "Barge II",
          "Barge II",
          "Barge II",
          "Barge II",
          null,
          "Barge II",
          "Barge II",
          "Barge II",
          "Barge II",
          null
         ]
        },
        {
         "connectgaps": false,
         "hoverinfo": "y+name",
         "line": {
          "color": "rgb(73,82,190)",
          "width": 10
         },
         "mode": "lines",
         "name": "basic activity:Barge II",
         "type": "scatter",
         "x": [
          "1970-01-01T00:00:00",
          "1970-01-01T00:00:00",
          "1970-01-01T00:48:01",
          "1970-01-01T00:48:01",
          "1970-01-01T00:48:01",
          "1970-01-01T07:06:42",
          "1970-01-01T07:06:42",
          "1970-01-01T07:54:43",
          "1970-01-01T07:54:43",
          "1970-01-01T07:54:43",
          "1970-01-01T11:58:22",
          "1970-01-01T11:58:22",
          "1970-01-01T12:46:23",
          "1970-01-01T12:46:23",
          "1970-01-01T12:46:23"
         ],
         "y": [
          "Barge II",
          "Barge II",
          "Barge II",
          "Barge II",
          null,
          "Barge II",
          "Barge II",
          "Barge II",
          "Barge II",
          null,
          "Barge II",
          "Barge II",
          "Barge II",
          "Barge II",
          null
         ]
        },
        {
         "connectgaps": false,
         "hoverinfo": "y+name",
         "line": {
          "color": "rgb(77,86,194)",
          "width": 10
         },
         "mode": "lines",
         "name": "unloading:Barge II",
         "type": "scatter",
         "x": [
          "1970-01-01T06:18:41",
          "1970-01-01T06:18:41",
          "1970-01-01T07:06:42",
          "1970-01-01T07:06:42",
          "1970-01-01T07:06:42",
          "1970-01-01T11:10:21",
          "1970-01-01T11:10:21",
          "1970-01-01T11:58:22",
          "1970-01-01T11:58:22",
          "1970-01-01T11:58:22",
          "1970-01-01T16:02:01",
          "1970-01-01T16:02:01",
          "1970-01-01T16:50:02",
          "1970-01-01T16:50:02",
          "1970-01-01T16:50:02",
          "1970-01-01T06:18:41",
          "1970-01-01T06:18:41",
          "1970-01-01T07:06:42",
          "1970-01-01T07:06:42",
          "1970-01-01T07:06:42",
          "1970-01-01T11:10:21",
          "1970-01-01T11:10:21",
          "1970-01-01T11:58:22",
          "1970-01-01T11:58:22",
          "1970-01-01T11:58:22",
          "1970-01-01T16:02:01",
          "1970-01-01T16:02:01",
          "1970-01-01T16:50:02",
          "1970-01-01T16:50:02",
          "1970-01-01T16:50:02"
         ],
         "y": [
          "Barge II",
          "Barge II",
          "Barge II",
          "Barge II",
          null,
          "Barge II",
          "Barge II",
          "Barge II",
          "Barge II",
          null,
          "Barge II",
          "Barge II",
          "Barge II",
          "Barge II",
          null,
          "Reclamation",
          "Reclamation",
          "Reclamation",
          "Reclamation",
          null,
          "Reclamation",
          "Reclamation",
          "Reclamation",
          "Reclamation",
          null,
          "Reclamation",
          "Reclamation",
          "Reclamation",
          "Reclamation",
          null
         ]
        },
        {
         "connectgaps": false,
         "hoverinfo": "y+name",
         "line": {
          "color": "rgb(81,90,198)",
          "width": 10
         },
         "mode": "lines",
         "name": "sailing full:Barge III",
         "type": "scatter",
         "x": [
          "1970-01-01T01:45:40",
          "1970-01-01T01:45:40",
          "1970-01-01T02:21:50",
          "1970-01-01T02:21:50",
          "1970-01-01T02:21:50",
          "1970-01-01T06:04:00",
          "1970-01-01T06:04:00",
          "1970-01-01T06:40:10",
          "1970-01-01T06:40:10",
          "1970-01-01T06:40:10",
          "1970-01-01T09:40:40",
          "1970-01-01T09:40:40",
          "1970-01-01T10:16:50",
          "1970-01-01T10:16:50",
          "1970-01-01T10:16:50",
          "1970-01-01T13:17:20",
          "1970-01-01T13:17:20",
          "1970-01-01T13:53:30",
          "1970-01-01T13:53:30",
          "1970-01-01T13:53:30"
         ],
         "y": [
          "Barge III",
          "Barge III",
          "Barge III",
          "Barge III",
          null,
          "Barge III",
          "Barge III",
          "Barge III",
          "Barge III",
          null,
          "Barge III",
          "Barge III",
          "Barge III",
          "Barge III",
          null,
          "Barge III",
          "Barge III",
          "Barge III",
          "Barge III",
          null
         ]
        },
        {
         "connectgaps": false,
         "hoverinfo": "y+name",
         "line": {
          "color": "rgb(85,94,202)",
          "width": 10
         },
         "mode": "lines",
         "name": "sailing empty:Barge III",
         "type": "scatter",
         "x": [
          "1970-01-01T00:36:10",
          "1970-01-01T00:36:10",
          "1970-01-01T01:12:20",
          "1970-01-01T01:12:20",
          "1970-01-01T01:12:20",
          "1970-01-01T03:34:10",
          "1970-01-01T03:34:10",
          "1970-01-01T04:10:20",
          "1970-01-01T04:10:20",
          "1970-01-01T04:10:20",
          "1970-01-01T07:52:30",
          "1970-01-01T07:52:30",
          "1970-01-01T08:28:40",
          "1970-01-01T08:28:40",
          "1970-01-01T08:28:40",
          "1970-01-01T11:29:10",
          "1970-01-01T11:29:10",
          "1970-01-01T12:05:20",
          "1970-01-01T12:05:20",
          "1970-01-01T12:05:20"
         ],
         "y": [
          "Barge III",
          "Barge III",
          "Barge III",
          "Barge III",
          null,
          "Barge III",
          "Barge III",
          "Barge III",
          "Barge III",
          null,
          "Barge III",
          "Barge III",
          "Barge III",
          "Barge III",
          null,
          "Barge III",
          "Barge III",
          "Barge III",
          "Barge III",
          null
         ]
        },
        {
         "connectgaps": false,
         "hoverinfo": "y+name",
         "line": {
          "color": "rgb(89,98,206)",
          "width": 10
         },
         "mode": "lines",
         "name": "unloading:Barge III",
         "type": "scatter",
         "x": [
          "1970-01-01T02:21:50",
          "1970-01-01T02:21:50",
          "1970-01-01T02:58:00",
          "1970-01-01T02:58:00",
          "1970-01-01T02:58:00",
          "1970-01-01T06:40:10",
          "1970-01-01T06:40:10",
          "1970-01-01T07:16:20",
          "1970-01-01T07:16:20",
          "1970-01-01T07:16:20",
          "1970-01-01T10:16:50",
          "1970-01-01T10:16:50",
          "1970-01-01T10:53:00",
          "1970-01-01T10:53:00",
          "1970-01-01T10:53:00",
          "1970-01-01T13:53:30",
          "1970-01-01T13:53:30",
          "1970-01-01T14:29:40",
          "1970-01-01T14:29:40",
          "1970-01-01T14:29:40",
          "1970-01-01T02:21:50",
          "1970-01-01T02:21:50",
          "1970-01-01T02:58:00",
          "1970-01-01T02:58:00",
          "1970-01-01T02:58:00",
          "1970-01-01T06:40:10",
          "1970-01-01T06:40:10",
          "1970-01-01T07:16:20",
          "1970-01-01T07:16:20",
          "1970-01-01T07:16:20",
          "1970-01-01T10:16:50",
          "1970-01-01T10:16:50",
          "1970-01-01T10:53:00",
          "1970-01-01T10:53:00",
          "1970-01-01T10:53:00",
          "1970-01-01T13:53:30",
          "1970-01-01T13:53:30",
          "1970-01-01T14:29:40",
          "1970-01-01T14:29:40",
          "1970-01-01T14:29:40"
         ],
         "y": [
          "Barge III",
          "Barge III",
          "Barge III",
          "Barge III",
          null,
          "Barge III",
          "Barge III",
          "Barge III",
          "Barge III",
          null,
          "Barge III",
          "Barge III",
          "Barge III",
          "Barge III",
          null,
          "Barge III",
          "Barge III",
          "Barge III",
          "Barge III",
          null,
          "Reclamation",
          "Reclamation",
          "Reclamation",
          "Reclamation",
          null,
          "Reclamation",
          "Reclamation",
          "Reclamation",
          "Reclamation",
          null,
          "Reclamation",
          "Reclamation",
          "Reclamation",
          "Reclamation",
          null,
          "Reclamation",
          "Reclamation",
          "Reclamation",
          "Reclamation",
          null
         ]
        },
        {
         "connectgaps": false,
         "hoverinfo": "y+name",
         "line": {
          "color": "rgb(93,102,210)",
          "width": 10
         },
         "mode": "lines",
         "name": "basic activity:Barge III",
         "type": "scatter",
         "x": [
          "1970-01-01T00:00:00",
          "1970-01-01T00:00:00",
          "1970-01-01T00:36:10",
          "1970-01-01T00:36:10",
          "1970-01-01T00:36:10",
          "1970-01-01T02:58:00",
          "1970-01-01T02:58:00",
          "1970-01-01T03:34:10",
          "1970-01-01T03:34:10",
          "1970-01-01T03:34:10",
          "1970-01-01T07:16:20",
          "1970-01-01T07:16:20",
          "1970-01-01T07:52:30",
          "1970-01-01T07:52:30",
          "1970-01-01T07:52:30",
          "1970-01-01T10:53:00",
          "1970-01-01T10:53:00",
          "1970-01-01T11:29:10",
          "1970-01-01T11:29:10",
          "1970-01-01T11:29:10"
         ],
         "y": [
          "Barge III",
          "Barge III",
          "Barge III",
          "Barge III",
          null,
          "Barge III",
          "Barge III",
          "Barge III",
          "Barge III",
          null,
          "Barge III",
          "Barge III",
          "Barge III",
          "Barge III",
          null,
          "Barge III",
          "Barge III",
          "Barge III",
          "Barge III",
          null
         ]
        },
        {
         "connectgaps": false,
         "hoverinfo": "y+name",
         "line": {
          "color": "rgb(97,106,214)",
          "width": 10
         },
         "mode": "lines",
         "name": "loading:Barge III",
         "type": "scatter",
         "x": [
          "1970-01-01T01:12:20",
          "1970-01-01T01:12:20",
          "1970-01-01T01:45:40",
          "1970-01-01T01:45:40",
          "1970-01-01T01:45:40",
          "1970-01-01T05:30:40",
          "1970-01-01T05:30:40",
          "1970-01-01T06:04:00",
          "1970-01-01T06:04:00",
          "1970-01-01T06:04:00",
          "1970-01-01T09:07:20",
          "1970-01-01T09:07:20",
          "1970-01-01T09:40:40",
          "1970-01-01T09:40:40",
          "1970-01-01T09:40:40",
          "1970-01-01T12:44:00",
          "1970-01-01T12:44:00",
          "1970-01-01T13:17:20",
          "1970-01-01T13:17:20",
          "1970-01-01T13:17:20",
          "1970-01-01T01:12:20",
          "1970-01-01T01:12:20",
          "1970-01-01T01:45:40",
          "1970-01-01T01:45:40",
          "1970-01-01T01:45:40",
          "1970-01-01T05:30:40",
          "1970-01-01T05:30:40",
          "1970-01-01T06:04:00",
          "1970-01-01T06:04:00",
          "1970-01-01T06:04:00",
          "1970-01-01T09:07:20",
          "1970-01-01T09:07:20",
          "1970-01-01T09:40:40",
          "1970-01-01T09:40:40",
          "1970-01-01T09:40:40",
          "1970-01-01T12:44:00",
          "1970-01-01T12:44:00",
          "1970-01-01T13:17:20",
          "1970-01-01T13:17:20",
          "1970-01-01T13:17:20",
          "1970-01-01T01:12:20",
          "1970-01-01T01:12:20",
          "1970-01-01T01:45:40",
          "1970-01-01T01:45:40",
          "1970-01-01T01:45:40",
          "1970-01-01T05:30:40",
          "1970-01-01T05:30:40",
          "1970-01-01T06:04:00",
          "1970-01-01T06:04:00",
          "1970-01-01T06:04:00",
          "1970-01-01T09:07:20",
          "1970-01-01T09:07:20",
          "1970-01-01T09:40:40",
          "1970-01-01T09:40:40",
          "1970-01-01T09:40:40",
          "1970-01-01T12:44:00",
          "1970-01-01T12:44:00",
          "1970-01-01T13:17:20",
          "1970-01-01T13:17:20",
          "1970-01-01T13:17:20"
         ],
         "y": [
          "Barge III",
          "Barge III",
          "Barge III",
          "Barge III",
          null,
          "Barge III",
          "Barge III",
          "Barge III",
          "Barge III",
          null,
          "Barge III",
          "Barge III",
          "Barge III",
          "Barge III",
          null,
          "Barge III",
          "Barge III",
          "Barge III",
          "Barge III",
          null,
          "Cutter T",
          "Cutter T",
          "Cutter T",
          "Cutter T",
          null,
          "Cutter T",
          "Cutter T",
          "Cutter T",
          "Cutter T",
          null,
          "Cutter T",
          "Cutter T",
          "Cutter T",
          "Cutter T",
          null,
          "Cutter T",
          "Cutter T",
          "Cutter T",
          "Cutter T",
          null,
          "Trench",
          "Trench",
          "Trench",
          "Trench",
          null,
          "Trench",
          "Trench",
          "Trench",
          "Trench",
          null,
          "Trench",
          "Trench",
          "Trench",
          "Trench",
          null,
          "Trench",
          "Trench",
          "Trench",
          "Trench",
          null
         ]
        },
        {
         "connectgaps": false,
         "hoverinfo": "y+name",
         "line": {
          "color": "rgb(101,110,218)",
          "width": 10
         },
         "mode": "lines",
         "name": "basic activity:Extra 1",
         "type": "scatter",
         "x": [
          "1970-01-01T00:00:00",
          "1970-01-01T00:00:00",
          "1970-01-01T00:40:46",
          "1970-01-01T00:40:46",
          "1970-01-01T00:40:46",
          "1970-01-01T05:28:52",
          "1970-01-01T05:28:52",
          "1970-01-01T06:09:38",
          "1970-01-01T06:09:38",
          "1970-01-01T06:09:38",
          "1970-01-01T09:47:12",
          "1970-01-01T09:47:12",
          "1970-01-01T10:27:58",
          "1970-01-01T10:27:58",
          "1970-01-01T10:27:58"
         ],
         "y": [
          "Extra 1",
          "Extra 1",
          "Extra 1",
          "Extra 1",
          null,
          "Extra 1",
          "Extra 1",
          "Extra 1",
          "Extra 1",
          null,
          "Extra 1",
          "Extra 1",
          "Extra 1",
          "Extra 1",
          null
         ]
        },
        {
         "connectgaps": false,
         "hoverinfo": "y+name",
         "line": {
          "color": "rgb(105,114,222)",
          "width": 10
         },
         "mode": "lines",
         "name": "loading:Extra 1",
         "type": "scatter",
         "x": [
          "1970-01-01T03:34:00",
          "1970-01-01T03:34:00",
          "1970-01-01T04:07:20",
          "1970-01-01T04:07:20",
          "1970-01-01T04:07:20",
          "1970-01-01T07:52:20",
          "1970-01-01T07:52:20",
          "1970-01-01T08:25:40",
          "1970-01-01T08:25:40",
          "1970-01-01T08:25:40",
          "1970-01-01T12:10:40",
          "1970-01-01T12:10:40",
          "1970-01-01T12:44:00",
          "1970-01-01T12:44:00",
          "1970-01-01T12:44:00",
          "1970-01-01T03:34:00",
          "1970-01-01T03:34:00",
          "1970-01-01T04:07:20",
          "1970-01-01T04:07:20",
          "1970-01-01T04:07:20",
          "1970-01-01T07:52:20",
          "1970-01-01T07:52:20",
          "1970-01-01T08:25:40",
          "1970-01-01T08:25:40",
          "1970-01-01T08:25:40",
          "1970-01-01T12:10:40",
          "1970-01-01T12:10:40",
          "1970-01-01T12:44:00",
          "1970-01-01T12:44:00",
          "1970-01-01T12:44:00",
          "1970-01-01T03:34:00",
          "1970-01-01T03:34:00",
          "1970-01-01T04:07:20",
          "1970-01-01T04:07:20",
          "1970-01-01T04:07:20",
          "1970-01-01T07:52:20",
          "1970-01-01T07:52:20",
          "1970-01-01T08:25:40",
          "1970-01-01T08:25:40",
          "1970-01-01T08:25:40",
          "1970-01-01T12:10:40",
          "1970-01-01T12:10:40",
          "1970-01-01T12:44:00",
          "1970-01-01T12:44:00",
          "1970-01-01T12:44:00"
         ],
         "y": [
          "Extra 1",
          "Extra 1",
          "Extra 1",
          "Extra 1",
          null,
          "Extra 1",
          "Extra 1",
          "Extra 1",
          "Extra 1",
          null,
          "Extra 1",
          "Extra 1",
          "Extra 1",
          "Extra 1",
          null,
          "Cutter T",
          "Cutter T",
          "Cutter T",
          "Cutter T",
          null,
          "Cutter T",
          "Cutter T",
          "Cutter T",
          "Cutter T",
          null,
          "Cutter T",
          "Cutter T",
          "Cutter T",
          "Cutter T",
          null,
          "Trench",
          "Trench",
          "Trench",
          "Trench",
          null,
          "Trench",
          "Trench",
          "Trench",
          "Trench",
          null,
          "Trench",
          "Trench",
          "Trench",
          "Trench",
          null
         ]
        },
        {
         "connectgaps": false,
         "hoverinfo": "y+name",
         "line": {
          "color": "rgb(109,118,226)",
          "width": 10
         },
         "mode": "lines",
         "name": "unloading:Extra 1",
         "type": "scatter",
         "x": [
          "1970-01-01T04:48:06",
          "1970-01-01T04:48:06",
          "1970-01-01T05:28:52",
          "1970-01-01T05:28:52",
          "1970-01-01T05:28:52",
          "1970-01-01T09:06:26",
          "1970-01-01T09:06:26",
          "1970-01-01T09:47:12",
          "1970-01-01T09:47:12",
          "1970-01-01T09:47:12",
          "1970-01-01T13:24:46",
          "1970-01-01T13:24:46",
          "1970-01-01T14:05:32",
          "1970-01-01T14:05:32",
          "1970-01-01T14:05:32",
          "1970-01-01T04:48:06",
          "1970-01-01T04:48:06",
          "1970-01-01T05:28:52",
          "1970-01-01T05:28:52",
          "1970-01-01T05:28:52",
          "1970-01-01T09:06:26",
          "1970-01-01T09:06:26",
          "1970-01-01T09:47:12",
          "1970-01-01T09:47:12",
          "1970-01-01T09:47:12",
          "1970-01-01T13:24:46",
          "1970-01-01T13:24:46",
          "1970-01-01T14:05:32",
          "1970-01-01T14:05:32",
          "1970-01-01T14:05:32"
         ],
         "y": [
          "Extra 1",
          "Extra 1",
          "Extra 1",
          "Extra 1",
          null,
          "Extra 1",
          "Extra 1",
          "Extra 1",
          "Extra 1",
          null,
          "Extra 1",
          "Extra 1",
          "Extra 1",
          "Extra 1",
          null,
          "Reclamation",
          "Reclamation",
          "Reclamation",
          "Reclamation",
          null,
          "Reclamation",
          "Reclamation",
          "Reclamation",
          "Reclamation",
          null,
          "Reclamation",
          "Reclamation",
          "Reclamation",
          "Reclamation",
          null
         ]
        },
        {
         "connectgaps": false,
         "hoverinfo": "y+name",
         "line": {
          "color": "rgb(113,122,230)",
          "width": 10
         },
         "mode": "lines",
         "name": "sailing empty:Extra 1",
         "type": "scatter",
         "x": [
          "1970-01-01T00:40:46",
          "1970-01-01T00:40:46",
          "1970-01-01T01:21:32",
          "1970-01-01T01:21:32",
          "1970-01-01T01:21:32",
          "1970-01-01T06:09:38",
          "1970-01-01T06:09:38",
          "1970-01-01T06:50:24",
          "1970-01-01T06:50:24",
          "1970-01-01T06:50:24",
          "1970-01-01T10:27:58",
          "1970-01-01T10:27:58",
          "1970-01-01T11:08:44",
          "1970-01-01T11:08:44",
          "1970-01-01T11:08:44"
         ],
         "y": [
          "Extra 1",
          "Extra 1",
          "Extra 1",
          "Extra 1",
          null,
          "Extra 1",
          "Extra 1",
          "Extra 1",
          "Extra 1",
          null,
          "Extra 1",
          "Extra 1",
          "Extra 1",
          "Extra 1",
          null
         ]
        },
        {
         "connectgaps": false,
         "hoverinfo": "y+name",
         "line": {
          "color": "rgb(117,126,234)",
          "width": 10
         },
         "mode": "lines",
         "name": "sailing full:Extra 1",
         "type": "scatter",
         "x": [
          "1970-01-01T04:07:20",
          "1970-01-01T04:07:20",
          "1970-01-01T04:48:06",
          "1970-01-01T04:48:06",
          "1970-01-01T04:48:06",
          "1970-01-01T08:25:40",
          "1970-01-01T08:25:40",
          "1970-01-01T09:06:26",
          "1970-01-01T09:06:26",
          "1970-01-01T09:06:26",
          "1970-01-01T12:44:00",
          "1970-01-01T12:44:00",
          "1970-01-01T13:24:46",
          "1970-01-01T13:24:46",
          "1970-01-01T13:24:46"
         ],
         "y": [
          "Extra 1",
          "Extra 1",
          "Extra 1",
          "Extra 1",
          null,
          "Extra 1",
          "Extra 1",
          "Extra 1",
          "Extra 1",
          null,
          "Extra 1",
          "Extra 1",
          "Extra 1",
          "Extra 1",
          null
         ]
        },
        {
         "connectgaps": false,
         "hoverinfo": "y+name",
         "line": {
          "color": "rgb(121,130,238)",
          "width": 10
         },
         "mode": "lines",
         "name": "loading:Barge II",
         "type": "scatter",
         "x": [
          "1970-01-01T04:49:00",
          "1970-01-01T04:49:00",
          "1970-01-01T05:30:40",
          "1970-01-01T05:30:40",
          "1970-01-01T05:30:40",
          "1970-01-01T09:40:40",
          "1970-01-01T09:40:40",
          "1970-01-01T10:22:20",
          "1970-01-01T10:22:20",
          "1970-01-01T10:22:20",
          "1970-01-01T14:32:20",
          "1970-01-01T14:32:20",
          "1970-01-01T15:14:00",
          "1970-01-01T15:14:00",
          "1970-01-01T15:14:00",
          "1970-01-01T04:49:00",
          "1970-01-01T04:49:00",
          "1970-01-01T05:30:40",
          "1970-01-01T05:30:40",
          "1970-01-01T05:30:40",
          "1970-01-01T09:40:40",
          "1970-01-01T09:40:40",
          "1970-01-01T10:22:20",
          "1970-01-01T10:22:20",
          "1970-01-01T10:22:20",
          "1970-01-01T14:32:20",
          "1970-01-01T14:32:20",
          "1970-01-01T15:14:00",
          "1970-01-01T15:14:00",
          "1970-01-01T15:14:00",
          "1970-01-01T04:49:00",
          "1970-01-01T04:49:00",
          "1970-01-01T05:30:40",
          "1970-01-01T05:30:40",
          "1970-01-01T05:30:40",
          "1970-01-01T09:40:40",
          "1970-01-01T09:40:40",
          "1970-01-01T10:22:20",
          "1970-01-01T10:22:20",
          "1970-01-01T10:22:20",
          "1970-01-01T14:32:20",
          "1970-01-01T14:32:20",
          "1970-01-01T15:14:00",
          "1970-01-01T15:14:00",
          "1970-01-01T15:14:00"
         ],
         "y": [
          "Barge II",
          "Barge II",
          "Barge II",
          "Barge II",
          null,
          "Barge II",
          "Barge II",
          "Barge II",
          "Barge II",
          null,
          "Barge II",
          "Barge II",
          "Barge II",
          "Barge II",
          null,
          "Cutter T",
          "Cutter T",
          "Cutter T",
          "Cutter T",
          null,
          "Cutter T",
          "Cutter T",
          "Cutter T",
          "Cutter T",
          null,
          "Cutter T",
          "Cutter T",
          "Cutter T",
          "Cutter T",
          null,
          "Trench",
          "Trench",
          "Trench",
          "Trench",
          null,
          "Trench",
          "Trench",
          "Trench",
          "Trench",
          null,
          "Trench",
          "Trench",
          "Trench",
          "Trench",
          null
         ]
        },
        {
         "connectgaps": false,
         "hoverinfo": "y+name",
         "line": {
          "color": "rgb(125,134,242)",
          "width": 10
         },
         "mode": "lines",
         "name": "loading:Carrier C",
         "type": "scatter",
         "x": [
          "1970-01-01T01:45:40",
          "1970-01-01T01:45:40",
          "1970-01-01T02:19:00",
          "1970-01-01T02:19:00",
          "1970-01-01T02:19:00",
          "1970-01-01T06:04:00",
          "1970-01-01T06:04:00",
          "1970-01-01T06:37:20",
          "1970-01-01T06:37:20",
          "1970-01-01T06:37:20",
          "1970-01-01T10:22:20",
          "1970-01-01T10:22:20",
          "1970-01-01T10:55:40",
          "1970-01-01T10:55:40",
          "1970-01-01T10:55:40",
          "1970-01-01T13:59:00",
          "1970-01-01T13:59:00",
          "1970-01-01T14:32:20",
          "1970-01-01T14:32:20",
          "1970-01-01T14:32:20",
          "1970-01-01T01:45:40",
          "1970-01-01T01:45:40",
          "1970-01-01T02:19:00",
          "1970-01-01T02:19:00",
          "1970-01-01T02:19:00",
          "1970-01-01T06:04:00",
          "1970-01-01T06:04:00",
          "1970-01-01T06:37:20",
          "1970-01-01T06:37:20",
          "1970-01-01T06:37:20",
          "1970-01-01T10:22:20",
          "1970-01-01T10:22:20",
          "1970-01-01T10:55:40",
          "1970-01-01T10:55:40",
          "1970-01-01T10:55:40",
          "1970-01-01T13:59:00",
          "1970-01-01T13:59:00",
          "1970-01-01T14:32:20",
          "1970-01-01T14:32:20",
          "1970-01-01T14:32:20",
          "1970-01-01T01:45:40",
          "1970-01-01T01:45:40",
          "1970-01-01T02:19:00",
          "1970-01-01T02:19:00",
          "1970-01-01T02:19:00",
          "1970-01-01T06:04:00",
          "1970-01-01T06:04:00",
          "1970-01-01T06:37:20",
          "1970-01-01T06:37:20",
          "1970-01-01T06:37:20",
          "1970-01-01T10:22:20",
          "1970-01-01T10:22:20",
          "1970-01-01T10:55:40",
          "1970-01-01T10:55:40",
          "1970-01-01T10:55:40",
          "1970-01-01T13:59:00",
          "1970-01-01T13:59:00",
          "1970-01-01T14:32:20",
          "1970-01-01T14:32:20",
          "1970-01-01T14:32:20"
         ],
         "y": [
          "Carrier C",
          "Carrier C",
          "Carrier C",
          "Carrier C",
          null,
          "Carrier C",
          "Carrier C",
          "Carrier C",
          "Carrier C",
          null,
          "Carrier C",
          "Carrier C",
          "Carrier C",
          "Carrier C",
          null,
          "Carrier C",
          "Carrier C",
          "Carrier C",
          "Carrier C",
          null,
          "Cutter T",
          "Cutter T",
          "Cutter T",
          "Cutter T",
          null,
          "Cutter T",
          "Cutter T",
          "Cutter T",
          "Cutter T",
          null,
          "Cutter T",
          "Cutter T",
          "Cutter T",
          "Cutter T",
          null,
          "Cutter T",
          "Cutter T",
          "Cutter T",
          "Cutter T",
          null,
          "Trench",
          "Trench",
          "Trench",
          "Trench",
          null,
          "Trench",
          "Trench",
          "Trench",
          "Trench",
          null,
          "Trench",
          "Trench",
          "Trench",
          "Trench",
          null,
          "Trench",
          "Trench",
          "Trench",
          "Trench",
          null
         ]
        },
        {
         "connectgaps": false,
         "hoverinfo": "y+name",
         "line": {
          "color": "rgb(129,138,246)",
          "width": 10
         },
         "mode": "lines",
         "name": "loading:Carrier A",
         "type": "scatter",
         "x": [
          "1970-01-01T04:07:20",
          "1970-01-01T04:07:20",
          "1970-01-01T04:49:00",
          "1970-01-01T04:49:00",
          "1970-01-01T04:49:00",
          "1970-01-01T08:25:40",
          "1970-01-01T08:25:40",
          "1970-01-01T09:07:20",
          "1970-01-01T09:07:20",
          "1970-01-01T09:07:20",
          "1970-01-01T13:17:20",
          "1970-01-01T13:17:20",
          "1970-01-01T13:59:00",
          "1970-01-01T13:59:00",
          "1970-01-01T13:59:00",
          "1970-01-01T04:07:20",
          "1970-01-01T04:07:20",
          "1970-01-01T04:49:00",
          "1970-01-01T04:49:00",
          "1970-01-01T04:49:00",
          "1970-01-01T08:25:40",
          "1970-01-01T08:25:40",
          "1970-01-01T09:07:20",
          "1970-01-01T09:07:20",
          "1970-01-01T09:07:20",
          "1970-01-01T13:17:20",
          "1970-01-01T13:17:20",
          "1970-01-01T13:59:00",
          "1970-01-01T13:59:00",
          "1970-01-01T13:59:00",
          "1970-01-01T04:07:20",
          "1970-01-01T04:07:20",
          "1970-01-01T04:49:00",
          "1970-01-01T04:49:00",
          "1970-01-01T04:49:00",
          "1970-01-01T08:25:40",
          "1970-01-01T08:25:40",
          "1970-01-01T09:07:20",
          "1970-01-01T09:07:20",
          "1970-01-01T09:07:20",
          "1970-01-01T13:17:20",
          "1970-01-01T13:17:20",
          "1970-01-01T13:59:00",
          "1970-01-01T13:59:00",
          "1970-01-01T13:59:00"
         ],
         "y": [
          "Carrier A",
          "Carrier A",
          "Carrier A",
          "Carrier A",
          null,
          "Carrier A",
          "Carrier A",
          "Carrier A",
          "Carrier A",
          null,
          "Carrier A",
          "Carrier A",
          "Carrier A",
          "Carrier A",
          null,
          "Cutter T",
          "Cutter T",
          "Cutter T",
          "Cutter T",
          null,
          "Cutter T",
          "Cutter T",
          "Cutter T",
          "Cutter T",
          null,
          "Cutter T",
          "Cutter T",
          "Cutter T",
          "Cutter T",
          null,
          "Trench",
          "Trench",
          "Trench",
          "Trench",
          null,
          "Trench",
          "Trench",
          "Trench",
          "Trench",
          null,
          "Trench",
          "Trench",
          "Trench",
          "Trench",
          null
         ]
        },
        {
         "connectgaps": false,
         "hoverinfo": "y+name",
         "line": {
          "color": "rgb(133,142,250)",
          "width": 10
         },
         "mode": "lines",
         "name": "loading:Barge I",
         "type": "scatter",
         "x": [
          "1970-01-01T02:19:00",
          "1970-01-01T02:19:00",
          "1970-01-01T03:00:40",
          "1970-01-01T03:00:40",
          "1970-01-01T03:00:40",
          "1970-01-01T06:37:20",
          "1970-01-01T06:37:20",
          "1970-01-01T07:19:00",
          "1970-01-01T07:19:00",
          "1970-01-01T07:19:00",
          "1970-01-01T10:55:40",
          "1970-01-01T10:55:40",
          "1970-01-01T11:37:20",
          "1970-01-01T11:37:20",
          "1970-01-01T11:37:20",
          "1970-01-01T02:19:00",
          "1970-01-01T02:19:00",
          "1970-01-01T03:00:40",
          "1970-01-01T03:00:40",
          "1970-01-01T03:00:40",
          "1970-01-01T06:37:20",
          "1970-01-01T06:37:20",
          "1970-01-01T07:19:00",
          "1970-01-01T07:19:00",
          "1970-01-01T07:19:00",
          "1970-01-01T10:55:40",
          "1970-01-01T10:55:40",
          "1970-01-01T11:37:20",
          "1970-01-01T11:37:20",
          "1970-01-01T11:37:20",
          "1970-01-01T02:19:00",
          "1970-01-01T02:19:00",
          "1970-01-01T03:00:40",
          "1970-01-01T03:00:40",
          "1970-01-01T03:00:40",
          "1970-01-01T06:37:20",
          "1970-01-01T06:37:20",
          "1970-01-01T07:19:00",
          "1970-01-01T07:19:00",
          "1970-01-01T07:19:00",
          "1970-01-01T10:55:40",
          "1970-01-01T10:55:40",
          "1970-01-01T11:37:20",
          "1970-01-01T11:37:20",
          "1970-01-01T11:37:20"
         ],
         "y": [
          "Barge I",
          "Barge I",
          "Barge I",
          "Barge I",
          null,
          "Barge I",
          "Barge I",
          "Barge I",
          "Barge I",
          null,
          "Barge I",
          "Barge I",
          "Barge I",
          "Barge I",
          null,
          "Cutter T",
          "Cutter T",
          "Cutter T",
          "Cutter T",
          null,
          "Cutter T",
          "Cutter T",
          "Cutter T",
          "Cutter T",
          null,
          "Cutter T",
          "Cutter T",
          "Cutter T",
          "Cutter T",
          null,
          "Trench",
          "Trench",
          "Trench",
          "Trench",
          null,
          "Trench",
          "Trench",
          "Trench",
          "Trench",
          null,
          "Trench",
          "Trench",
          "Trench",
          "Trench",
          null
         ]
        },
        {
         "connectgaps": false,
         "hoverinfo": "y+name",
         "line": {
          "color": "rgb(137,146,254)",
          "width": 10
         },
         "mode": "lines",
         "name": "loading:Barge III",
         "type": "scatter",
         "x": [
          "1970-01-01T01:12:20",
          "1970-01-01T01:12:20",
          "1970-01-01T01:45:40",
          "1970-01-01T01:45:40",
          "1970-01-01T01:45:40",
          "1970-01-01T05:30:40",
          "1970-01-01T05:30:40",
          "1970-01-01T06:04:00",
          "1970-01-01T06:04:00",
          "1970-01-01T06:04:00",
          "1970-01-01T09:07:20",
          "1970-01-01T09:07:20",
          "1970-01-01T09:40:40",
          "1970-01-01T09:40:40",
          "1970-01-01T09:40:40",
          "1970-01-01T12:44:00",
          "1970-01-01T12:44:00",
          "1970-01-01T13:17:20",
          "1970-01-01T13:17:20",
          "1970-01-01T13:17:20",
          "1970-01-01T01:12:20",
          "1970-01-01T01:12:20",
          "1970-01-01T01:45:40",
          "1970-01-01T01:45:40",
          "1970-01-01T01:45:40",
          "1970-01-01T05:30:40",
          "1970-01-01T05:30:40",
          "1970-01-01T06:04:00",
          "1970-01-01T06:04:00",
          "1970-01-01T06:04:00",
          "1970-01-01T09:07:20",
          "1970-01-01T09:07:20",
          "1970-01-01T09:40:40",
          "1970-01-01T09:40:40",
          "1970-01-01T09:40:40",
          "1970-01-01T12:44:00",
          "1970-01-01T12:44:00",
          "1970-01-01T13:17:20",
          "1970-01-01T13:17:20",
          "1970-01-01T13:17:20",
          "1970-01-01T01:12:20",
          "1970-01-01T01:12:20",
          "1970-01-01T01:45:40",
          "1970-01-01T01:45:40",
          "1970-01-01T01:45:40",
          "1970-01-01T05:30:40",
          "1970-01-01T05:30:40",
          "1970-01-01T06:04:00",
          "1970-01-01T06:04:00",
          "1970-01-01T06:04:00",
          "1970-01-01T09:07:20",
          "1970-01-01T09:07:20",
          "1970-01-01T09:40:40",
          "1970-01-01T09:40:40",
          "1970-01-01T09:40:40",
          "1970-01-01T12:44:00",
          "1970-01-01T12:44:00",
          "1970-01-01T13:17:20",
          "1970-01-01T13:17:20",
          "1970-01-01T13:17:20"
         ],
         "y": [
          "Barge III",
          "Barge III",
          "Barge III",
          "Barge III",
          null,
          "Barge III",
          "Barge III",
          "Barge III",
          "Barge III",
          null,
          "Barge III",
          "Barge III",
          "Barge III",
          "Barge III",
          null,
          "Barge III",
          "Barge III",
          "Barge III",
          "Barge III",
          null,
          "Cutter T",
          "Cutter T",
          "Cutter T",
          "Cutter T",
          null,
          "Cutter T",
          "Cutter T",
          "Cutter T",
          "Cutter T",
          null,
          "Cutter T",
          "Cutter T",
          "Cutter T",
          "Cutter T",
          null,
          "Cutter T",
          "Cutter T",
          "Cutter T",
          "Cutter T",
          null,
          "Trench",
          "Trench",
          "Trench",
          "Trench",
          null,
          "Trench",
          "Trench",
          "Trench",
          "Trench",
          null,
          "Trench",
          "Trench",
          "Trench",
          "Trench",
          null,
          "Trench",
          "Trench",
          "Trench",
          "Trench",
          null
         ]
        },
        {
         "connectgaps": false,
         "hoverinfo": "y+name",
         "line": {
          "color": "rgb(141,150,2)",
          "width": 10
         },
         "mode": "lines",
         "name": "loading:Extra 1",
         "type": "scatter",
         "x": [
          "1970-01-01T03:34:00",
          "1970-01-01T03:34:00",
          "1970-01-01T04:07:20",
          "1970-01-01T04:07:20",
          "1970-01-01T04:07:20",
          "1970-01-01T07:52:20",
          "1970-01-01T07:52:20",
          "1970-01-01T08:25:40",
          "1970-01-01T08:25:40",
          "1970-01-01T08:25:40",
          "1970-01-01T12:10:40",
          "1970-01-01T12:10:40",
          "1970-01-01T12:44:00",
          "1970-01-01T12:44:00",
          "1970-01-01T12:44:00",
          "1970-01-01T03:34:00",
          "1970-01-01T03:34:00",
          "1970-01-01T04:07:20",
          "1970-01-01T04:07:20",
          "1970-01-01T04:07:20",
          "1970-01-01T07:52:20",
          "1970-01-01T07:52:20",
          "1970-01-01T08:25:40",
          "1970-01-01T08:25:40",
          "1970-01-01T08:25:40",
          "1970-01-01T12:10:40",
          "1970-01-01T12:10:40",
          "1970-01-01T12:44:00",
          "1970-01-01T12:44:00",
          "1970-01-01T12:44:00",
          "1970-01-01T03:34:00",
          "1970-01-01T03:34:00",
          "1970-01-01T04:07:20",
          "1970-01-01T04:07:20",
          "1970-01-01T04:07:20",
          "1970-01-01T07:52:20",
          "1970-01-01T07:52:20",
          "1970-01-01T08:25:40",
          "1970-01-01T08:25:40",
          "1970-01-01T08:25:40",
          "1970-01-01T12:10:40",
          "1970-01-01T12:10:40",
          "1970-01-01T12:44:00",
          "1970-01-01T12:44:00",
          "1970-01-01T12:44:00"
         ],
         "y": [
          "Extra 1",
          "Extra 1",
          "Extra 1",
          "Extra 1",
          null,
          "Extra 1",
          "Extra 1",
          "Extra 1",
          "Extra 1",
          null,
          "Extra 1",
          "Extra 1",
          "Extra 1",
          "Extra 1",
          null,
          "Cutter T",
          "Cutter T",
          "Cutter T",
          "Cutter T",
          null,
          "Cutter T",
          "Cutter T",
          "Cutter T",
          "Cutter T",
          null,
          "Cutter T",
          "Cutter T",
          "Cutter T",
          "Cutter T",
          null,
          "Trench",
          "Trench",
          "Trench",
          "Trench",
          null,
          "Trench",
          "Trench",
          "Trench",
          "Trench",
          null,
          "Trench",
          "Trench",
          "Trench",
          "Trench",
          null
         ]
        },
        {
         "connectgaps": false,
         "hoverinfo": "y+name",
         "line": {
          "color": "rgb(145,154,6)",
          "width": 10
         },
         "mode": "lines",
         "name": "loading:Carrier B",
         "type": "scatter",
         "x": [
          "1970-01-01T03:00:40",
          "1970-01-01T03:00:40",
          "1970-01-01T03:34:00",
          "1970-01-01T03:34:00",
          "1970-01-01T03:34:00",
          "1970-01-01T07:19:00",
          "1970-01-01T07:19:00",
          "1970-01-01T07:52:20",
          "1970-01-01T07:52:20",
          "1970-01-01T07:52:20",
          "1970-01-01T11:37:20",
          "1970-01-01T11:37:20",
          "1970-01-01T12:10:40",
          "1970-01-01T12:10:40",
          "1970-01-01T12:10:40",
          "1970-01-01T03:00:40",
          "1970-01-01T03:00:40",
          "1970-01-01T03:34:00",
          "1970-01-01T03:34:00",
          "1970-01-01T03:34:00",
          "1970-01-01T07:19:00",
          "1970-01-01T07:19:00",
          "1970-01-01T07:52:20",
          "1970-01-01T07:52:20",
          "1970-01-01T07:52:20",
          "1970-01-01T11:37:20",
          "1970-01-01T11:37:20",
          "1970-01-01T12:10:40",
          "1970-01-01T12:10:40",
          "1970-01-01T12:10:40",
          "1970-01-01T03:00:40",
          "1970-01-01T03:00:40",
          "1970-01-01T03:34:00",
          "1970-01-01T03:34:00",
          "1970-01-01T03:34:00",
          "1970-01-01T07:19:00",
          "1970-01-01T07:19:00",
          "1970-01-01T07:52:20",
          "1970-01-01T07:52:20",
          "1970-01-01T07:52:20",
          "1970-01-01T11:37:20",
          "1970-01-01T11:37:20",
          "1970-01-01T12:10:40",
          "1970-01-01T12:10:40",
          "1970-01-01T12:10:40"
         ],
         "y": [
          "Carrier B",
          "Carrier B",
          "Carrier B",
          "Carrier B",
          null,
          "Carrier B",
          "Carrier B",
          "Carrier B",
          "Carrier B",
          null,
          "Carrier B",
          "Carrier B",
          "Carrier B",
          "Carrier B",
          null,
          "Cutter T",
          "Cutter T",
          "Cutter T",
          "Cutter T",
          null,
          "Cutter T",
          "Cutter T",
          "Cutter T",
          "Cutter T",
          null,
          "Cutter T",
          "Cutter T",
          "Cutter T",
          "Cutter T",
          null,
          "Trench",
          "Trench",
          "Trench",
          "Trench",
          null,
          "Trench",
          "Trench",
          "Trench",
          "Trench",
          null,
          "Trench",
          "Trench",
          "Trench",
          "Trench",
          null
         ]
        },
        {
         "connectgaps": false,
         "hoverinfo": "y+name",
         "line": {
          "color": "rgb(149,158,10)",
          "width": 10
         },
         "mode": "lines",
         "name": "loading:Barge II",
         "type": "scatter",
         "x": [
          "1970-01-01T04:49:00",
          "1970-01-01T04:49:00",
          "1970-01-01T05:30:40",
          "1970-01-01T05:30:40",
          "1970-01-01T05:30:40",
          "1970-01-01T09:40:40",
          "1970-01-01T09:40:40",
          "1970-01-01T10:22:20",
          "1970-01-01T10:22:20",
          "1970-01-01T10:22:20",
          "1970-01-01T14:32:20",
          "1970-01-01T14:32:20",
          "1970-01-01T15:14:00",
          "1970-01-01T15:14:00",
          "1970-01-01T15:14:00",
          "1970-01-01T04:49:00",
          "1970-01-01T04:49:00",
          "1970-01-01T05:30:40",
          "1970-01-01T05:30:40",
          "1970-01-01T05:30:40",
          "1970-01-01T09:40:40",
          "1970-01-01T09:40:40",
          "1970-01-01T10:22:20",
          "1970-01-01T10:22:20",
          "1970-01-01T10:22:20",
          "1970-01-01T14:32:20",
          "1970-01-01T14:32:20",
          "1970-01-01T15:14:00",
          "1970-01-01T15:14:00",
          "1970-01-01T15:14:00",
          "1970-01-01T04:49:00",
          "1970-01-01T04:49:00",
          "1970-01-01T05:30:40",
          "1970-01-01T05:30:40",
          "1970-01-01T05:30:40",
          "1970-01-01T09:40:40",
          "1970-01-01T09:40:40",
          "1970-01-01T10:22:20",
          "1970-01-01T10:22:20",
          "1970-01-01T10:22:20",
          "1970-01-01T14:32:20",
          "1970-01-01T14:32:20",
          "1970-01-01T15:14:00",
          "1970-01-01T15:14:00",
          "1970-01-01T15:14:00"
         ],
         "y": [
          "Barge II",
          "Barge II",
          "Barge II",
          "Barge II",
          null,
          "Barge II",
          "Barge II",
          "Barge II",
          "Barge II",
          null,
          "Barge II",
          "Barge II",
          "Barge II",
          "Barge II",
          null,
          "Cutter T",
          "Cutter T",
          "Cutter T",
          "Cutter T",
          null,
          "Cutter T",
          "Cutter T",
          "Cutter T",
          "Cutter T",
          null,
          "Cutter T",
          "Cutter T",
          "Cutter T",
          "Cutter T",
          null,
          "Trench",
          "Trench",
          "Trench",
          "Trench",
          null,
          "Trench",
          "Trench",
          "Trench",
          "Trench",
          null,
          "Trench",
          "Trench",
          "Trench",
          "Trench",
          null
         ]
        },
        {
         "connectgaps": false,
         "hoverinfo": "y+name",
         "line": {
          "color": "rgb(153,162,14)",
          "width": 10
         },
         "mode": "lines",
         "name": "loading:Carrier C",
         "type": "scatter",
         "x": [
          "1970-01-01T01:45:40",
          "1970-01-01T01:45:40",
          "1970-01-01T02:19:00",
          "1970-01-01T02:19:00",
          "1970-01-01T02:19:00",
          "1970-01-01T06:04:00",
          "1970-01-01T06:04:00",
          "1970-01-01T06:37:20",
          "1970-01-01T06:37:20",
          "1970-01-01T06:37:20",
          "1970-01-01T10:22:20",
          "1970-01-01T10:22:20",
          "1970-01-01T10:55:40",
          "1970-01-01T10:55:40",
          "1970-01-01T10:55:40",
          "1970-01-01T13:59:00",
          "1970-01-01T13:59:00",
          "1970-01-01T14:32:20",
          "1970-01-01T14:32:20",
          "1970-01-01T14:32:20",
          "1970-01-01T01:45:40",
          "1970-01-01T01:45:40",
          "1970-01-01T02:19:00",
          "1970-01-01T02:19:00",
          "1970-01-01T02:19:00",
          "1970-01-01T06:04:00",
          "1970-01-01T06:04:00",
          "1970-01-01T06:37:20",
          "1970-01-01T06:37:20",
          "1970-01-01T06:37:20",
          "1970-01-01T10:22:20",
          "1970-01-01T10:22:20",
          "1970-01-01T10:55:40",
          "1970-01-01T10:55:40",
          "1970-01-01T10:55:40",
          "1970-01-01T13:59:00",
          "1970-01-01T13:59:00",
          "1970-01-01T14:32:20",
          "1970-01-01T14:32:20",
          "1970-01-01T14:32:20",
          "1970-01-01T01:45:40",
          "1970-01-01T01:45:40",
          "1970-01-01T02:19:00",
          "1970-01-01T02:19:00",
          "1970-01-01T02:19:00",
          "1970-01-01T06:04:00",
          "1970-01-01T06:04:00",
          "1970-01-01T06:37:20",
          "1970-01-01T06:37:20",
          "1970-01-01T06:37:20",
          "1970-01-01T10:22:20",
          "1970-01-01T10:22:20",
          "1970-01-01T10:55:40",
          "1970-01-01T10:55:40",
          "1970-01-01T10:55:40",
          "1970-01-01T13:59:00",
          "1970-01-01T13:59:00",
          "1970-01-01T14:32:20",
          "1970-01-01T14:32:20",
          "1970-01-01T14:32:20"
         ],
         "y": [
          "Carrier C",
          "Carrier C",
          "Carrier C",
          "Carrier C",
          null,
          "Carrier C",
          "Carrier C",
          "Carrier C",
          "Carrier C",
          null,
          "Carrier C",
          "Carrier C",
          "Carrier C",
          "Carrier C",
          null,
          "Carrier C",
          "Carrier C",
          "Carrier C",
          "Carrier C",
          null,
          "Cutter T",
          "Cutter T",
          "Cutter T",
          "Cutter T",
          null,
          "Cutter T",
          "Cutter T",
          "Cutter T",
          "Cutter T",
          null,
          "Cutter T",
          "Cutter T",
          "Cutter T",
          "Cutter T",
          null,
          "Cutter T",
          "Cutter T",
          "Cutter T",
          "Cutter T",
          null,
          "Trench",
          "Trench",
          "Trench",
          "Trench",
          null,
          "Trench",
          "Trench",
          "Trench",
          "Trench",
          null,
          "Trench",
          "Trench",
          "Trench",
          "Trench",
          null,
          "Trench",
          "Trench",
          "Trench",
          "Trench",
          null
         ]
        },
        {
         "connectgaps": false,
         "hoverinfo": "y+name",
         "line": {
          "color": "rgb(157,166,18)",
          "width": 10
         },
         "mode": "lines",
         "name": "loading:Carrier A",
         "type": "scatter",
         "x": [
          "1970-01-01T04:07:20",
          "1970-01-01T04:07:20",
          "1970-01-01T04:49:00",
          "1970-01-01T04:49:00",
          "1970-01-01T04:49:00",
          "1970-01-01T08:25:40",
          "1970-01-01T08:25:40",
          "1970-01-01T09:07:20",
          "1970-01-01T09:07:20",
          "1970-01-01T09:07:20",
          "1970-01-01T13:17:20",
          "1970-01-01T13:17:20",
          "1970-01-01T13:59:00",
          "1970-01-01T13:59:00",
          "1970-01-01T13:59:00",
          "1970-01-01T04:07:20",
          "1970-01-01T04:07:20",
          "1970-01-01T04:49:00",
          "1970-01-01T04:49:00",
          "1970-01-01T04:49:00",
          "1970-01-01T08:25:40",
          "1970-01-01T08:25:40",
          "1970-01-01T09:07:20",
          "1970-01-01T09:07:20",
          "1970-01-01T09:07:20",
          "1970-01-01T13:17:20",
          "1970-01-01T13:17:20",
          "1970-01-01T13:59:00",
          "1970-01-01T13:59:00",
          "1970-01-01T13:59:00",
          "1970-01-01T04:07:20",
          "1970-01-01T04:07:20",
          "1970-01-01T04:49:00",
          "1970-01-01T04:49:00",
          "1970-01-01T04:49:00",
          "1970-01-01T08:25:40",
          "1970-01-01T08:25:40",
          "1970-01-01T09:07:20",
          "1970-01-01T09:07:20",
          "1970-01-01T09:07:20",
          "1970-01-01T13:17:20",
          "1970-01-01T13:17:20",
          "1970-01-01T13:59:00",
          "1970-01-01T13:59:00",
          "1970-01-01T13:59:00"
         ],
         "y": [
          "Carrier A",
          "Carrier A",
          "Carrier A",
          "Carrier A",
          null,
          "Carrier A",
          "Carrier A",
          "Carrier A",
          "Carrier A",
          null,
          "Carrier A",
          "Carrier A",
          "Carrier A",
          "Carrier A",
          null,
          "Cutter T",
          "Cutter T",
          "Cutter T",
          "Cutter T",
          null,
          "Cutter T",
          "Cutter T",
          "Cutter T",
          "Cutter T",
          null,
          "Cutter T",
          "Cutter T",
          "Cutter T",
          "Cutter T",
          null,
          "Trench",
          "Trench",
          "Trench",
          "Trench",
          null,
          "Trench",
          "Trench",
          "Trench",
          "Trench",
          null,
          "Trench",
          "Trench",
          "Trench",
          "Trench",
          null
         ]
        },
        {
         "connectgaps": false,
         "hoverinfo": "y+name",
         "line": {
          "color": "rgb(161,170,22)",
          "width": 10
         },
         "mode": "lines",
         "name": "loading:Barge I",
         "type": "scatter",
         "x": [
          "1970-01-01T02:19:00",
          "1970-01-01T02:19:00",
          "1970-01-01T03:00:40",
          "1970-01-01T03:00:40",
          "1970-01-01T03:00:40",
          "1970-01-01T06:37:20",
          "1970-01-01T06:37:20",
          "1970-01-01T07:19:00",
          "1970-01-01T07:19:00",
          "1970-01-01T07:19:00",
          "1970-01-01T10:55:40",
          "1970-01-01T10:55:40",
          "1970-01-01T11:37:20",
          "1970-01-01T11:37:20",
          "1970-01-01T11:37:20",
          "1970-01-01T02:19:00",
          "1970-01-01T02:19:00",
          "1970-01-01T03:00:40",
          "1970-01-01T03:00:40",
          "1970-01-01T03:00:40",
          "1970-01-01T06:37:20",
          "1970-01-01T06:37:20",
          "1970-01-01T07:19:00",
          "1970-01-01T07:19:00",
          "1970-01-01T07:19:00",
          "1970-01-01T10:55:40",
          "1970-01-01T10:55:40",
          "1970-01-01T11:37:20",
          "1970-01-01T11:37:20",
          "1970-01-01T11:37:20",
          "1970-01-01T02:19:00",
          "1970-01-01T02:19:00",
          "1970-01-01T03:00:40",
          "1970-01-01T03:00:40",
          "1970-01-01T03:00:40",
          "1970-01-01T06:37:20",
          "1970-01-01T06:37:20",
          "1970-01-01T07:19:00",
          "1970-01-01T07:19:00",
          "1970-01-01T07:19:00",
          "1970-01-01T10:55:40",
          "1970-01-01T10:55:40",
          "1970-01-01T11:37:20",
          "1970-01-01T11:37:20",
          "1970-01-01T11:37:20"
         ],
         "y": [
          "Barge I",
          "Barge I",
          "Barge I",
          "Barge I",
          null,
          "Barge I",
          "Barge I",
          "Barge I",
          "Barge I",
          null,
          "Barge I",
          "Barge I",
          "Barge I",
          "Barge I",
          null,
          "Cutter T",
          "Cutter T",
          "Cutter T",
          "Cutter T",
          null,
          "Cutter T",
          "Cutter T",
          "Cutter T",
          "Cutter T",
          null,
          "Cutter T",
          "Cutter T",
          "Cutter T",
          "Cutter T",
          null,
          "Trench",
          "Trench",
          "Trench",
          "Trench",
          null,
          "Trench",
          "Trench",
          "Trench",
          "Trench",
          null,
          "Trench",
          "Trench",
          "Trench",
          "Trench",
          null
         ]
        },
        {
         "connectgaps": false,
         "hoverinfo": "y+name",
         "line": {
          "color": "rgb(165,174,26)",
          "width": 10
         },
         "mode": "lines",
         "name": "loading:Barge III",
         "type": "scatter",
         "x": [
          "1970-01-01T01:12:20",
          "1970-01-01T01:12:20",
          "1970-01-01T01:45:40",
          "1970-01-01T01:45:40",
          "1970-01-01T01:45:40",
          "1970-01-01T05:30:40",
          "1970-01-01T05:30:40",
          "1970-01-01T06:04:00",
          "1970-01-01T06:04:00",
          "1970-01-01T06:04:00",
          "1970-01-01T09:07:20",
          "1970-01-01T09:07:20",
          "1970-01-01T09:40:40",
          "1970-01-01T09:40:40",
          "1970-01-01T09:40:40",
          "1970-01-01T12:44:00",
          "1970-01-01T12:44:00",
          "1970-01-01T13:17:20",
          "1970-01-01T13:17:20",
          "1970-01-01T13:17:20",
          "1970-01-01T01:12:20",
          "1970-01-01T01:12:20",
          "1970-01-01T01:45:40",
          "1970-01-01T01:45:40",
          "1970-01-01T01:45:40",
          "1970-01-01T05:30:40",
          "1970-01-01T05:30:40",
          "1970-01-01T06:04:00",
          "1970-01-01T06:04:00",
          "1970-01-01T06:04:00",
          "1970-01-01T09:07:20",
          "1970-01-01T09:07:20",
          "1970-01-01T09:40:40",
          "1970-01-01T09:40:40",
          "1970-01-01T09:40:40",
          "1970-01-01T12:44:00",
          "1970-01-01T12:44:00",
          "1970-01-01T13:17:20",
          "1970-01-01T13:17:20",
          "1970-01-01T13:17:20",
          "1970-01-01T01:12:20",
          "1970-01-01T01:12:20",
          "1970-01-01T01:45:40",
          "1970-01-01T01:45:40",
          "1970-01-01T01:45:40",
          "1970-01-01T05:30:40",
          "1970-01-01T05:30:40",
          "1970-01-01T06:04:00",
          "1970-01-01T06:04:00",
          "1970-01-01T06:04:00",
          "1970-01-01T09:07:20",
          "1970-01-01T09:07:20",
          "1970-01-01T09:40:40",
          "1970-01-01T09:40:40",
          "1970-01-01T09:40:40",
          "1970-01-01T12:44:00",
          "1970-01-01T12:44:00",
          "1970-01-01T13:17:20",
          "1970-01-01T13:17:20",
          "1970-01-01T13:17:20"
         ],
         "y": [
          "Barge III",
          "Barge III",
          "Barge III",
          "Barge III",
          null,
          "Barge III",
          "Barge III",
          "Barge III",
          "Barge III",
          null,
          "Barge III",
          "Barge III",
          "Barge III",
          "Barge III",
          null,
          "Barge III",
          "Barge III",
          "Barge III",
          "Barge III",
          null,
          "Cutter T",
          "Cutter T",
          "Cutter T",
          "Cutter T",
          null,
          "Cutter T",
          "Cutter T",
          "Cutter T",
          "Cutter T",
          null,
          "Cutter T",
          "Cutter T",
          "Cutter T",
          "Cutter T",
          null,
          "Cutter T",
          "Cutter T",
          "Cutter T",
          "Cutter T",
          null,
          "Trench",
          "Trench",
          "Trench",
          "Trench",
          null,
          "Trench",
          "Trench",
          "Trench",
          "Trench",
          null,
          "Trench",
          "Trench",
          "Trench",
          "Trench",
          null,
          "Trench",
          "Trench",
          "Trench",
          "Trench",
          null
         ]
        },
        {
         "connectgaps": false,
         "hoverinfo": "y+name",
         "line": {
          "color": "rgb(169,178,30)",
          "width": 10
         },
         "mode": "lines",
         "name": "loading:Extra 1",
         "type": "scatter",
         "x": [
          "1970-01-01T03:34:00",
          "1970-01-01T03:34:00",
          "1970-01-01T04:07:20",
          "1970-01-01T04:07:20",
          "1970-01-01T04:07:20",
          "1970-01-01T07:52:20",
          "1970-01-01T07:52:20",
          "1970-01-01T08:25:40",
          "1970-01-01T08:25:40",
          "1970-01-01T08:25:40",
          "1970-01-01T12:10:40",
          "1970-01-01T12:10:40",
          "1970-01-01T12:44:00",
          "1970-01-01T12:44:00",
          "1970-01-01T12:44:00",
          "1970-01-01T03:34:00",
          "1970-01-01T03:34:00",
          "1970-01-01T04:07:20",
          "1970-01-01T04:07:20",
          "1970-01-01T04:07:20",
          "1970-01-01T07:52:20",
          "1970-01-01T07:52:20",
          "1970-01-01T08:25:40",
          "1970-01-01T08:25:40",
          "1970-01-01T08:25:40",
          "1970-01-01T12:10:40",
          "1970-01-01T12:10:40",
          "1970-01-01T12:44:00",
          "1970-01-01T12:44:00",
          "1970-01-01T12:44:00",
          "1970-01-01T03:34:00",
          "1970-01-01T03:34:00",
          "1970-01-01T04:07:20",
          "1970-01-01T04:07:20",
          "1970-01-01T04:07:20",
          "1970-01-01T07:52:20",
          "1970-01-01T07:52:20",
          "1970-01-01T08:25:40",
          "1970-01-01T08:25:40",
          "1970-01-01T08:25:40",
          "1970-01-01T12:10:40",
          "1970-01-01T12:10:40",
          "1970-01-01T12:44:00",
          "1970-01-01T12:44:00",
          "1970-01-01T12:44:00"
         ],
         "y": [
          "Extra 1",
          "Extra 1",
          "Extra 1",
          "Extra 1",
          null,
          "Extra 1",
          "Extra 1",
          "Extra 1",
          "Extra 1",
          null,
          "Extra 1",
          "Extra 1",
          "Extra 1",
          "Extra 1",
          null,
          "Cutter T",
          "Cutter T",
          "Cutter T",
          "Cutter T",
          null,
          "Cutter T",
          "Cutter T",
          "Cutter T",
          "Cutter T",
          null,
          "Cutter T",
          "Cutter T",
          "Cutter T",
          "Cutter T",
          null,
          "Trench",
          "Trench",
          "Trench",
          "Trench",
          null,
          "Trench",
          "Trench",
          "Trench",
          "Trench",
          null,
          "Trench",
          "Trench",
          "Trench",
          "Trench",
          null
         ]
        },
        {
         "connectgaps": false,
         "hoverinfo": "y+name",
         "line": {
          "color": "rgb(173,182,34)",
          "width": 10
         },
         "mode": "lines",
         "name": "loading:Carrier B",
         "type": "scatter",
         "x": [
          "1970-01-01T03:00:40",
          "1970-01-01T03:00:40",
          "1970-01-01T03:34:00",
          "1970-01-01T03:34:00",
          "1970-01-01T03:34:00",
          "1970-01-01T07:19:00",
          "1970-01-01T07:19:00",
          "1970-01-01T07:52:20",
          "1970-01-01T07:52:20",
          "1970-01-01T07:52:20",
          "1970-01-01T11:37:20",
          "1970-01-01T11:37:20",
          "1970-01-01T12:10:40",
          "1970-01-01T12:10:40",
          "1970-01-01T12:10:40",
          "1970-01-01T03:00:40",
          "1970-01-01T03:00:40",
          "1970-01-01T03:34:00",
          "1970-01-01T03:34:00",
          "1970-01-01T03:34:00",
          "1970-01-01T07:19:00",
          "1970-01-01T07:19:00",
          "1970-01-01T07:52:20",
          "1970-01-01T07:52:20",
          "1970-01-01T07:52:20",
          "1970-01-01T11:37:20",
          "1970-01-01T11:37:20",
          "1970-01-01T12:10:40",
          "1970-01-01T12:10:40",
          "1970-01-01T12:10:40",
          "1970-01-01T03:00:40",
          "1970-01-01T03:00:40",
          "1970-01-01T03:34:00",
          "1970-01-01T03:34:00",
          "1970-01-01T03:34:00",
          "1970-01-01T07:19:00",
          "1970-01-01T07:19:00",
          "1970-01-01T07:52:20",
          "1970-01-01T07:52:20",
          "1970-01-01T07:52:20",
          "1970-01-01T11:37:20",
          "1970-01-01T11:37:20",
          "1970-01-01T12:10:40",
          "1970-01-01T12:10:40",
          "1970-01-01T12:10:40"
         ],
         "y": [
          "Carrier B",
          "Carrier B",
          "Carrier B",
          "Carrier B",
          null,
          "Carrier B",
          "Carrier B",
          "Carrier B",
          "Carrier B",
          null,
          "Carrier B",
          "Carrier B",
          "Carrier B",
          "Carrier B",
          null,
          "Cutter T",
          "Cutter T",
          "Cutter T",
          "Cutter T",
          null,
          "Cutter T",
          "Cutter T",
          "Cutter T",
          "Cutter T",
          null,
          "Cutter T",
          "Cutter T",
          "Cutter T",
          "Cutter T",
          null,
          "Trench",
          "Trench",
          "Trench",
          "Trench",
          null,
          "Trench",
          "Trench",
          "Trench",
          "Trench",
          null,
          "Trench",
          "Trench",
          "Trench",
          "Trench",
          null
         ]
        },
        {
         "connectgaps": false,
         "hoverinfo": "y+name",
         "line": {
          "color": "rgb(177,186,38)",
          "width": 10
         },
         "mode": "lines",
         "name": "unloading:Carrier A",
         "type": "scatter",
         "x": [
          "1970-01-01T05:35:12",
          "1970-01-01T05:35:12",
          "1970-01-01T06:21:24",
          "1970-01-01T06:21:24",
          "1970-01-01T06:21:24",
          "1970-01-01T09:53:32",
          "1970-01-01T09:53:32",
          "1970-01-01T10:39:44",
          "1970-01-01T10:39:44",
          "1970-01-01T10:39:44",
          "1970-01-01T14:45:12",
          "1970-01-01T14:45:12",
          "1970-01-01T15:31:24",
          "1970-01-01T15:31:24",
          "1970-01-01T15:31:24",
          "1970-01-01T05:35:12",
          "1970-01-01T05:35:12",
          "1970-01-01T06:21:24",
          "1970-01-01T06:21:24",
          "1970-01-01T06:21:24",
          "1970-01-01T09:53:32",
          "1970-01-01T09:53:32",
          "1970-01-01T10:39:44",
          "1970-01-01T10:39:44",
          "1970-01-01T10:39:44",
          "1970-01-01T14:45:12",
          "1970-01-01T14:45:12",
          "1970-01-01T15:31:24",
          "1970-01-01T15:31:24",
          "1970-01-01T15:31:24"
         ],
         "y": [
          "Carrier A",
          "Carrier A",
          "Carrier A",
          "Carrier A",
          null,
          "Carrier A",
          "Carrier A",
          "Carrier A",
          "Carrier A",
          null,
          "Carrier A",
          "Carrier A",
          "Carrier A",
          "Carrier A",
          null,
          "Reclamation",
          "Reclamation",
          "Reclamation",
          "Reclamation",
          null,
          "Reclamation",
          "Reclamation",
          "Reclamation",
          "Reclamation",
          null,
          "Reclamation",
          "Reclamation",
          "Reclamation",
          "Reclamation",
          null
         ]
        },
        {
         "connectgaps": false,
         "hoverinfo": "y+name",
         "line": {
          "color": "rgb(181,190,42)",
          "width": 10
         },
         "mode": "lines",
         "name": "unloading:Barge I",
         "type": "scatter",
         "x": [
          "1970-01-01T03:39:08",
          "1970-01-01T03:39:08",
          "1970-01-01T04:17:36",
          "1970-01-01T04:17:36",
          "1970-01-01T04:17:36",
          "1970-01-01T07:57:28",
          "1970-01-01T07:57:28",
          "1970-01-01T08:35:56",
          "1970-01-01T08:35:56",
          "1970-01-01T08:35:56",
          "1970-01-01T12:15:48",
          "1970-01-01T12:15:48",
          "1970-01-01T12:54:16",
          "1970-01-01T12:54:16",
          "1970-01-01T12:54:16",
          "1970-01-01T03:39:08",
          "1970-01-01T03:39:08",
          "1970-01-01T04:17:36",
          "1970-01-01T04:17:36",
          "1970-01-01T04:17:36",
          "1970-01-01T07:57:28",
          "1970-01-01T07:57:28",
          "1970-01-01T08:35:56",
          "1970-01-01T08:35:56",
          "1970-01-01T08:35:56",
          "1970-01-01T12:15:48",
          "1970-01-01T12:15:48",
          "1970-01-01T12:54:16",
          "1970-01-01T12:54:16",
          "1970-01-01T12:54:16"
         ],
         "y": [
          "Barge I",
          "Barge I",
          "Barge I",
          "Barge I",
          null,
          "Barge I",
          "Barge I",
          "Barge I",
          "Barge I",
          null,
          "Barge I",
          "Barge I",
          "Barge I",
          "Barge I",
          null,
          "Reclamation",
          "Reclamation",
          "Reclamation",
          "Reclamation",
          null,
          "Reclamation",
          "Reclamation",
          "Reclamation",
          "Reclamation",
          null,
          "Reclamation",
          "Reclamation",
          "Reclamation",
          "Reclamation",
          null
         ]
        },
        {
         "connectgaps": false,
         "hoverinfo": "y+name",
         "line": {
          "color": "rgb(185,194,46)",
          "width": 10
         },
         "mode": "lines",
         "name": "unloading:Barge III",
         "type": "scatter",
         "x": [
          "1970-01-01T02:21:50",
          "1970-01-01T02:21:50",
          "1970-01-01T02:58:00",
          "1970-01-01T02:58:00",
          "1970-01-01T02:58:00",
          "1970-01-01T06:40:10",
          "1970-01-01T06:40:10",
          "1970-01-01T07:16:20",
          "1970-01-01T07:16:20",
          "1970-01-01T07:16:20",
          "1970-01-01T10:16:50",
          "1970-01-01T10:16:50",
          "1970-01-01T10:53:00",
          "1970-01-01T10:53:00",
          "1970-01-01T10:53:00",
          "1970-01-01T13:53:30",
          "1970-01-01T13:53:30",
          "1970-01-01T14:29:40",
          "1970-01-01T14:29:40",
          "1970-01-01T14:29:40",
          "1970-01-01T02:21:50",
          "1970-01-01T02:21:50",
          "1970-01-01T02:58:00",
          "1970-01-01T02:58:00",
          "1970-01-01T02:58:00",
          "1970-01-01T06:40:10",
          "1970-01-01T06:40:10",
          "1970-01-01T07:16:20",
          "1970-01-01T07:16:20",
          "1970-01-01T07:16:20",
          "1970-01-01T10:16:50",
          "1970-01-01T10:16:50",
          "1970-01-01T10:53:00",
          "1970-01-01T10:53:00",
          "1970-01-01T10:53:00",
          "1970-01-01T13:53:30",
          "1970-01-01T13:53:30",
          "1970-01-01T14:29:40",
          "1970-01-01T14:29:40",
          "1970-01-01T14:29:40"
         ],
         "y": [
          "Barge III",
          "Barge III",
          "Barge III",
          "Barge III",
          null,
          "Barge III",
          "Barge III",
          "Barge III",
          "Barge III",
          null,
          "Barge III",
          "Barge III",
          "Barge III",
          "Barge III",
          null,
          "Barge III",
          "Barge III",
          "Barge III",
          "Barge III",
          null,
          "Reclamation",
          "Reclamation",
          "Reclamation",
          "Reclamation",
          null,
          "Reclamation",
          "Reclamation",
          "Reclamation",
          "Reclamation",
          null,
          "Reclamation",
          "Reclamation",
          "Reclamation",
          "Reclamation",
          null,
          "Reclamation",
          "Reclamation",
          "Reclamation",
          "Reclamation",
          null
         ]
        },
        {
         "connectgaps": false,
         "hoverinfo": "y+name",
         "line": {
          "color": "rgb(189,198,50)",
          "width": 10
         },
         "mode": "lines",
         "name": "unloading:Barge II",
         "type": "scatter",
         "x": [
          "1970-01-01T06:18:41",
          "1970-01-01T06:18:41",
          "1970-01-01T07:06:42",
          "1970-01-01T07:06:42",
          "1970-01-01T07:06:42",
          "1970-01-01T11:10:21",
          "1970-01-01T11:10:21",
          "1970-01-01T11:58:22",
          "1970-01-01T11:58:22",
          "1970-01-01T11:58:22",
          "1970-01-01T16:02:01",
          "1970-01-01T16:02:01",
          "1970-01-01T16:50:02",
          "1970-01-01T16:50:02",
          "1970-01-01T16:50:02",
          "1970-01-01T06:18:41",
          "1970-01-01T06:18:41",
          "1970-01-01T07:06:42",
          "1970-01-01T07:06:42",
          "1970-01-01T07:06:42",
          "1970-01-01T11:10:21",
          "1970-01-01T11:10:21",
          "1970-01-01T11:58:22",
          "1970-01-01T11:58:22",
          "1970-01-01T11:58:22",
          "1970-01-01T16:02:01",
          "1970-01-01T16:02:01",
          "1970-01-01T16:50:02",
          "1970-01-01T16:50:02",
          "1970-01-01T16:50:02"
         ],
         "y": [
          "Barge II",
          "Barge II",
          "Barge II",
          "Barge II",
          null,
          "Barge II",
          "Barge II",
          "Barge II",
          "Barge II",
          null,
          "Barge II",
          "Barge II",
          "Barge II",
          "Barge II",
          null,
          "Reclamation",
          "Reclamation",
          "Reclamation",
          "Reclamation",
          null,
          "Reclamation",
          "Reclamation",
          "Reclamation",
          "Reclamation",
          null,
          "Reclamation",
          "Reclamation",
          "Reclamation",
          "Reclamation",
          null
         ]
        },
        {
         "connectgaps": false,
         "hoverinfo": "y+name",
         "line": {
          "color": "rgb(193,202,54)",
          "width": 10
         },
         "mode": "lines",
         "name": "unloading:Extra 1",
         "type": "scatter",
         "x": [
          "1970-01-01T04:48:06",
          "1970-01-01T04:48:06",
          "1970-01-01T05:28:52",
          "1970-01-01T05:28:52",
          "1970-01-01T05:28:52",
          "1970-01-01T09:06:26",
          "1970-01-01T09:06:26",
          "1970-01-01T09:47:12",
          "1970-01-01T09:47:12",
          "1970-01-01T09:47:12",
          "1970-01-01T13:24:46",
          "1970-01-01T13:24:46",
          "1970-01-01T14:05:32",
          "1970-01-01T14:05:32",
          "1970-01-01T14:05:32",
          "1970-01-01T04:48:06",
          "1970-01-01T04:48:06",
          "1970-01-01T05:28:52",
          "1970-01-01T05:28:52",
          "1970-01-01T05:28:52",
          "1970-01-01T09:06:26",
          "1970-01-01T09:06:26",
          "1970-01-01T09:47:12",
          "1970-01-01T09:47:12",
          "1970-01-01T09:47:12",
          "1970-01-01T13:24:46",
          "1970-01-01T13:24:46",
          "1970-01-01T14:05:32",
          "1970-01-01T14:05:32",
          "1970-01-01T14:05:32"
         ],
         "y": [
          "Extra 1",
          "Extra 1",
          "Extra 1",
          "Extra 1",
          null,
          "Extra 1",
          "Extra 1",
          "Extra 1",
          "Extra 1",
          null,
          "Extra 1",
          "Extra 1",
          "Extra 1",
          "Extra 1",
          null,
          "Reclamation",
          "Reclamation",
          "Reclamation",
          "Reclamation",
          null,
          "Reclamation",
          "Reclamation",
          "Reclamation",
          "Reclamation",
          null,
          "Reclamation",
          "Reclamation",
          "Reclamation",
          "Reclamation",
          null
         ]
        },
        {
         "connectgaps": false,
         "hoverinfo": "y+name",
         "line": {
          "color": "rgb(197,206,58)",
          "width": 10
         },
         "mode": "lines",
         "name": "unloading:Carrier C",
         "type": "scatter",
         "x": [
          "1970-01-01T02:55:58",
          "1970-01-01T02:55:58",
          "1970-01-01T03:32:56",
          "1970-01-01T03:32:56",
          "1970-01-01T03:32:56",
          "1970-01-01T07:14:18",
          "1970-01-01T07:14:18",
          "1970-01-01T07:51:16",
          "1970-01-01T07:51:16",
          "1970-01-01T07:51:16",
          "1970-01-01T11:32:38",
          "1970-01-01T11:32:38",
          "1970-01-01T12:09:36",
          "1970-01-01T12:09:36",
          "1970-01-01T12:09:36",
          "1970-01-01T15:09:18",
          "1970-01-01T15:09:18",
          "1970-01-01T15:46:16",
          "1970-01-01T15:46:16",
          "1970-01-01T15:46:16",
          "1970-01-01T02:55:58",
          "1970-01-01T02:55:58",
          "1970-01-01T03:32:56",
          "1970-01-01T03:32:56",
          "1970-01-01T03:32:56",
          "1970-01-01T07:14:18",
          "1970-01-01T07:14:18",
          "1970-01-01T07:51:16",
          "1970-01-01T07:51:16",
          "1970-01-01T07:51:16",
          "1970-01-01T11:32:38",
          "1970-01-01T11:32:38",
          "1970-01-01T12:09:36",
          "1970-01-01T12:09:36",
          "1970-01-01T12:09:36",
          "1970-01-01T15:09:18",
          "1970-01-01T15:09:18",
          "1970-01-01T15:46:16",
          "1970-01-01T15:46:16",
          "1970-01-01T15:46:16"
         ],
         "y": [
          "Carrier C",
          "Carrier C",
          "Carrier C",
          "Carrier C",
          null,
          "Carrier C",
          "Carrier C",
          "Carrier C",
          "Carrier C",
          null,
          "Carrier C",
          "Carrier C",
          "Carrier C",
          "Carrier C",
          null,
          "Carrier C",
          "Carrier C",
          "Carrier C",
          "Carrier C",
          null,
          "Reclamation",
          "Reclamation",
          "Reclamation",
          "Reclamation",
          null,
          "Reclamation",
          "Reclamation",
          "Reclamation",
          "Reclamation",
          null,
          "Reclamation",
          "Reclamation",
          "Reclamation",
          "Reclamation",
          null,
          "Reclamation",
          "Reclamation",
          "Reclamation",
          "Reclamation",
          null
         ]
        },
        {
         "connectgaps": false,
         "hoverinfo": "y+name",
         "line": {
          "color": "rgb(201,210,62)",
          "width": 10
         },
         "mode": "lines",
         "name": "unloading:Carrier B",
         "type": "scatter",
         "x": [
          "1970-01-01T04:14:16",
          "1970-01-01T04:14:16",
          "1970-01-01T04:54:32",
          "1970-01-01T04:54:32",
          "1970-01-01T04:54:32",
          "1970-01-01T08:32:36",
          "1970-01-01T08:32:36",
          "1970-01-01T09:12:52",
          "1970-01-01T09:12:52",
          "1970-01-01T09:12:52",
          "1970-01-01T12:50:56",
          "1970-01-01T12:50:56",
          "1970-01-01T13:31:12",
          "1970-01-01T13:31:12",
          "1970-01-01T13:31:12",
          "1970-01-01T04:14:16",
          "1970-01-01T04:14:16",
          "1970-01-01T04:54:32",
          "1970-01-01T04:54:32",
          "1970-01-01T04:54:32",
          "1970-01-01T08:32:36",
          "1970-01-01T08:32:36",
          "1970-01-01T09:12:52",
          "1970-01-01T09:12:52",
          "1970-01-01T09:12:52",
          "1970-01-01T12:50:56",
          "1970-01-01T12:50:56",
          "1970-01-01T13:31:12",
          "1970-01-01T13:31:12",
          "1970-01-01T13:31:12"
         ],
         "y": [
          "Carrier B",
          "Carrier B",
          "Carrier B",
          "Carrier B",
          null,
          "Carrier B",
          "Carrier B",
          "Carrier B",
          "Carrier B",
          null,
          "Carrier B",
          "Carrier B",
          "Carrier B",
          "Carrier B",
          null,
          "Reclamation",
          "Reclamation",
          "Reclamation",
          "Reclamation",
          null,
          "Reclamation",
          "Reclamation",
          "Reclamation",
          "Reclamation",
          null,
          "Reclamation",
          "Reclamation",
          "Reclamation",
          "Reclamation",
          null
         ]
        }
       ],
       "layout": {
        "hovermode": "closest",
        "legend": {
         "orientation": "h",
         "x": 0,
         "y": -0.2
        },
        "template": {
         "data": {
          "bar": [
           {
            "error_x": {
             "color": "#2a3f5f"
            },
            "error_y": {
             "color": "#2a3f5f"
            },
            "marker": {
             "line": {
              "color": "#E5ECF6",
              "width": 0.5
             },
             "pattern": {
              "fillmode": "overlay",
              "size": 10,
              "solidity": 0.2
             }
            },
            "type": "bar"
           }
          ],
          "barpolar": [
           {
            "marker": {
             "line": {
              "color": "#E5ECF6",
              "width": 0.5
             },
             "pattern": {
              "fillmode": "overlay",
              "size": 10,
              "solidity": 0.2
             }
            },
            "type": "barpolar"
           }
          ],
          "carpet": [
           {
            "aaxis": {
             "endlinecolor": "#2a3f5f",
             "gridcolor": "white",
             "linecolor": "white",
             "minorgridcolor": "white",
             "startlinecolor": "#2a3f5f"
            },
            "baxis": {
             "endlinecolor": "#2a3f5f",
             "gridcolor": "white",
             "linecolor": "white",
             "minorgridcolor": "white",
             "startlinecolor": "#2a3f5f"
            },
            "type": "carpet"
           }
          ],
          "choropleth": [
           {
            "colorbar": {
             "outlinewidth": 0,
             "ticks": ""
            },
            "type": "choropleth"
           }
          ],
          "contour": [
           {
            "colorbar": {
             "outlinewidth": 0,
             "ticks": ""
            },
            "colorscale": [
             [
              0,
              "#0d0887"
             ],
             [
              0.1111111111111111,
              "#46039f"
             ],
             [
              0.2222222222222222,
              "#7201a8"
             ],
             [
              0.3333333333333333,
              "#9c179e"
             ],
             [
              0.4444444444444444,
              "#bd3786"
             ],
             [
              0.5555555555555556,
              "#d8576b"
             ],
             [
              0.6666666666666666,
              "#ed7953"
             ],
             [
              0.7777777777777778,
              "#fb9f3a"
             ],
             [
              0.8888888888888888,
              "#fdca26"
             ],
             [
              1,
              "#f0f921"
             ]
            ],
            "type": "contour"
           }
          ],
          "contourcarpet": [
           {
            "colorbar": {
             "outlinewidth": 0,
             "ticks": ""
            },
            "type": "contourcarpet"
           }
          ],
          "heatmap": [
           {
            "colorbar": {
             "outlinewidth": 0,
             "ticks": ""
            },
            "colorscale": [
             [
              0,
              "#0d0887"
             ],
             [
              0.1111111111111111,
              "#46039f"
             ],
             [
              0.2222222222222222,
              "#7201a8"
             ],
             [
              0.3333333333333333,
              "#9c179e"
             ],
             [
              0.4444444444444444,
              "#bd3786"
             ],
             [
              0.5555555555555556,
              "#d8576b"
             ],
             [
              0.6666666666666666,
              "#ed7953"
             ],
             [
              0.7777777777777778,
              "#fb9f3a"
             ],
             [
              0.8888888888888888,
              "#fdca26"
             ],
             [
              1,
              "#f0f921"
             ]
            ],
            "type": "heatmap"
           }
          ],
          "heatmapgl": [
           {
            "colorbar": {
             "outlinewidth": 0,
             "ticks": ""
            },
            "colorscale": [
             [
              0,
              "#0d0887"
             ],
             [
              0.1111111111111111,
              "#46039f"
             ],
             [
              0.2222222222222222,
              "#7201a8"
             ],
             [
              0.3333333333333333,
              "#9c179e"
             ],
             [
              0.4444444444444444,
              "#bd3786"
             ],
             [
              0.5555555555555556,
              "#d8576b"
             ],
             [
              0.6666666666666666,
              "#ed7953"
             ],
             [
              0.7777777777777778,
              "#fb9f3a"
             ],
             [
              0.8888888888888888,
              "#fdca26"
             ],
             [
              1,
              "#f0f921"
             ]
            ],
            "type": "heatmapgl"
           }
          ],
          "histogram": [
           {
            "marker": {
             "pattern": {
              "fillmode": "overlay",
              "size": 10,
              "solidity": 0.2
             }
            },
            "type": "histogram"
           }
          ],
          "histogram2d": [
           {
            "colorbar": {
             "outlinewidth": 0,
             "ticks": ""
            },
            "colorscale": [
             [
              0,
              "#0d0887"
             ],
             [
              0.1111111111111111,
              "#46039f"
             ],
             [
              0.2222222222222222,
              "#7201a8"
             ],
             [
              0.3333333333333333,
              "#9c179e"
             ],
             [
              0.4444444444444444,
              "#bd3786"
             ],
             [
              0.5555555555555556,
              "#d8576b"
             ],
             [
              0.6666666666666666,
              "#ed7953"
             ],
             [
              0.7777777777777778,
              "#fb9f3a"
             ],
             [
              0.8888888888888888,
              "#fdca26"
             ],
             [
              1,
              "#f0f921"
             ]
            ],
            "type": "histogram2d"
           }
          ],
          "histogram2dcontour": [
           {
            "colorbar": {
             "outlinewidth": 0,
             "ticks": ""
            },
            "colorscale": [
             [
              0,
              "#0d0887"
             ],
             [
              0.1111111111111111,
              "#46039f"
             ],
             [
              0.2222222222222222,
              "#7201a8"
             ],
             [
              0.3333333333333333,
              "#9c179e"
             ],
             [
              0.4444444444444444,
              "#bd3786"
             ],
             [
              0.5555555555555556,
              "#d8576b"
             ],
             [
              0.6666666666666666,
              "#ed7953"
             ],
             [
              0.7777777777777778,
              "#fb9f3a"
             ],
             [
              0.8888888888888888,
              "#fdca26"
             ],
             [
              1,
              "#f0f921"
             ]
            ],
            "type": "histogram2dcontour"
           }
          ],
          "mesh3d": [
           {
            "colorbar": {
             "outlinewidth": 0,
             "ticks": ""
            },
            "type": "mesh3d"
           }
          ],
          "parcoords": [
           {
            "line": {
             "colorbar": {
              "outlinewidth": 0,
              "ticks": ""
             }
            },
            "type": "parcoords"
           }
          ],
          "pie": [
           {
            "automargin": true,
            "type": "pie"
           }
          ],
          "scatter": [
           {
            "fillpattern": {
             "fillmode": "overlay",
             "size": 10,
             "solidity": 0.2
            },
            "type": "scatter"
           }
          ],
          "scatter3d": [
           {
            "line": {
             "colorbar": {
              "outlinewidth": 0,
              "ticks": ""
             }
            },
            "marker": {
             "colorbar": {
              "outlinewidth": 0,
              "ticks": ""
             }
            },
            "type": "scatter3d"
           }
          ],
          "scattercarpet": [
           {
            "marker": {
             "colorbar": {
              "outlinewidth": 0,
              "ticks": ""
             }
            },
            "type": "scattercarpet"
           }
          ],
          "scattergeo": [
           {
            "marker": {
             "colorbar": {
              "outlinewidth": 0,
              "ticks": ""
             }
            },
            "type": "scattergeo"
           }
          ],
          "scattergl": [
           {
            "marker": {
             "colorbar": {
              "outlinewidth": 0,
              "ticks": ""
             }
            },
            "type": "scattergl"
           }
          ],
          "scattermapbox": [
           {
            "marker": {
             "colorbar": {
              "outlinewidth": 0,
              "ticks": ""
             }
            },
            "type": "scattermapbox"
           }
          ],
          "scatterpolar": [
           {
            "marker": {
             "colorbar": {
              "outlinewidth": 0,
              "ticks": ""
             }
            },
            "type": "scatterpolar"
           }
          ],
          "scatterpolargl": [
           {
            "marker": {
             "colorbar": {
              "outlinewidth": 0,
              "ticks": ""
             }
            },
            "type": "scatterpolargl"
           }
          ],
          "scatterternary": [
           {
            "marker": {
             "colorbar": {
              "outlinewidth": 0,
              "ticks": ""
             }
            },
            "type": "scatterternary"
           }
          ],
          "surface": [
           {
            "colorbar": {
             "outlinewidth": 0,
             "ticks": ""
            },
            "colorscale": [
             [
              0,
              "#0d0887"
             ],
             [
              0.1111111111111111,
              "#46039f"
             ],
             [
              0.2222222222222222,
              "#7201a8"
             ],
             [
              0.3333333333333333,
              "#9c179e"
             ],
             [
              0.4444444444444444,
              "#bd3786"
             ],
             [
              0.5555555555555556,
              "#d8576b"
             ],
             [
              0.6666666666666666,
              "#ed7953"
             ],
             [
              0.7777777777777778,
              "#fb9f3a"
             ],
             [
              0.8888888888888888,
              "#fdca26"
             ],
             [
              1,
              "#f0f921"
             ]
            ],
            "type": "surface"
           }
          ],
          "table": [
           {
            "cells": {
             "fill": {
              "color": "#EBF0F8"
             },
             "line": {
              "color": "white"
             }
            },
            "header": {
             "fill": {
              "color": "#C8D4E3"
             },
             "line": {
              "color": "white"
             }
            },
            "type": "table"
           }
          ]
         },
         "layout": {
          "annotationdefaults": {
           "arrowcolor": "#2a3f5f",
           "arrowhead": 0,
           "arrowwidth": 1
          },
          "autotypenumbers": "strict",
          "coloraxis": {
           "colorbar": {
            "outlinewidth": 0,
            "ticks": ""
           }
          },
          "colorscale": {
           "diverging": [
            [
             0,
             "#8e0152"
            ],
            [
             0.1,
             "#c51b7d"
            ],
            [
             0.2,
             "#de77ae"
            ],
            [
             0.3,
             "#f1b6da"
            ],
            [
             0.4,
             "#fde0ef"
            ],
            [
             0.5,
             "#f7f7f7"
            ],
            [
             0.6,
             "#e6f5d0"
            ],
            [
             0.7,
             "#b8e186"
            ],
            [
             0.8,
             "#7fbc41"
            ],
            [
             0.9,
             "#4d9221"
            ],
            [
             1,
             "#276419"
            ]
           ],
           "sequential": [
            [
             0,
             "#0d0887"
            ],
            [
             0.1111111111111111,
             "#46039f"
            ],
            [
             0.2222222222222222,
             "#7201a8"
            ],
            [
             0.3333333333333333,
             "#9c179e"
            ],
            [
             0.4444444444444444,
             "#bd3786"
            ],
            [
             0.5555555555555556,
             "#d8576b"
            ],
            [
             0.6666666666666666,
             "#ed7953"
            ],
            [
             0.7777777777777778,
             "#fb9f3a"
            ],
            [
             0.8888888888888888,
             "#fdca26"
            ],
            [
             1,
             "#f0f921"
            ]
           ],
           "sequentialminus": [
            [
             0,
             "#0d0887"
            ],
            [
             0.1111111111111111,
             "#46039f"
            ],
            [
             0.2222222222222222,
             "#7201a8"
            ],
            [
             0.3333333333333333,
             "#9c179e"
            ],
            [
             0.4444444444444444,
             "#bd3786"
            ],
            [
             0.5555555555555556,
             "#d8576b"
            ],
            [
             0.6666666666666666,
             "#ed7953"
            ],
            [
             0.7777777777777778,
             "#fb9f3a"
            ],
            [
             0.8888888888888888,
             "#fdca26"
            ],
            [
             1,
             "#f0f921"
            ]
           ]
          },
          "colorway": [
           "#636efa",
           "#EF553B",
           "#00cc96",
           "#ab63fa",
           "#FFA15A",
           "#19d3f3",
           "#FF6692",
           "#B6E880",
           "#FF97FF",
           "#FECB52"
          ],
          "font": {
           "color": "#2a3f5f"
          },
          "geo": {
           "bgcolor": "white",
           "lakecolor": "white",
           "landcolor": "#E5ECF6",
           "showlakes": true,
           "showland": true,
           "subunitcolor": "white"
          },
          "hoverlabel": {
           "align": "left"
          },
          "hovermode": "closest",
          "mapbox": {
           "style": "light"
          },
          "paper_bgcolor": "white",
          "plot_bgcolor": "#E5ECF6",
          "polar": {
           "angularaxis": {
            "gridcolor": "white",
            "linecolor": "white",
            "ticks": ""
           },
           "bgcolor": "#E5ECF6",
           "radialaxis": {
            "gridcolor": "white",
            "linecolor": "white",
            "ticks": ""
           }
          },
          "scene": {
           "xaxis": {
            "backgroundcolor": "#E5ECF6",
            "gridcolor": "white",
            "gridwidth": 2,
            "linecolor": "white",
            "showbackground": true,
            "ticks": "",
            "zerolinecolor": "white"
           },
           "yaxis": {
            "backgroundcolor": "#E5ECF6",
            "gridcolor": "white",
            "gridwidth": 2,
            "linecolor": "white",
            "showbackground": true,
            "ticks": "",
            "zerolinecolor": "white"
           },
           "zaxis": {
            "backgroundcolor": "#E5ECF6",
            "gridcolor": "white",
            "gridwidth": 2,
            "linecolor": "white",
            "showbackground": true,
            "ticks": "",
            "zerolinecolor": "white"
           }
          },
          "shapedefaults": {
           "line": {
            "color": "#2a3f5f"
           }
          },
          "ternary": {
           "aaxis": {
            "gridcolor": "white",
            "linecolor": "white",
            "ticks": ""
           },
           "baxis": {
            "gridcolor": "white",
            "linecolor": "white",
            "ticks": ""
           },
           "bgcolor": "#E5ECF6",
           "caxis": {
            "gridcolor": "white",
            "linecolor": "white",
            "ticks": ""
           }
          },
          "title": {
           "x": 0.05
          },
          "xaxis": {
           "automargin": true,
           "gridcolor": "white",
           "linecolor": "white",
           "ticks": "",
           "title": {
            "standoff": 15
           },
           "zerolinecolor": "white",
           "zerolinewidth": 2
          },
          "yaxis": {
           "automargin": true,
           "gridcolor": "white",
           "linecolor": "white",
           "ticks": "",
           "title": {
            "standoff": 15
           },
           "zerolinecolor": "white",
           "zerolinewidth": 2
          }
         }
        },
        "title": {
         "text": "Cutter T occupancy: 100.0"
        },
        "xaxis": {
         "range": [
          "1970-01-01T00:00:00",
          "1970-01-01T16:50:02"
         ],
         "title": {
          "font": {
           "color": "#7f7f7f",
           "family": "Courier New, monospace",
           "size": 18
          },
          "text": "Time"
         }
        },
        "yaxis": {
         "title": {
          "font": {
           "color": "#7f7f7f",
           "family": "Courier New, monospace",
           "size": 18
          },
          "text": "Activities"
         }
        }
       }
      },
      "text/html": [
       "<div>                            <div id=\"d6d52dc9-ad5d-4071-bc36-85cc3aa6ae97\" class=\"plotly-graph-div\" style=\"height:525px; width:100%;\"></div>            <script type=\"text/javascript\">                require([\"plotly\"], function(Plotly) {                    window.PLOTLYENV=window.PLOTLYENV || {};                                    if (document.getElementById(\"d6d52dc9-ad5d-4071-bc36-85cc3aa6ae97\")) {                    Plotly.newPlot(                        \"d6d52dc9-ad5d-4071-bc36-85cc3aa6ae97\",                        [{\"connectgaps\":false,\"hoverinfo\":\"name\",\"line\":{\"color\":\"red\",\"width\":14},\"mode\":\"lines\",\"name\":\"critical_path\",\"x\":[\"1970-01-01T00:00:00\",\"1970-01-01T00:36:10\",\"1970-01-01T00:36:10\",\"1970-01-01T00:36:10\",\"1970-01-01T01:12:20\",\"1970-01-01T01:12:20\",\"1970-01-01T01:12:20\",\"1970-01-01T01:45:40\",\"1970-01-01T01:45:40\",\"1970-01-01T01:12:20\",\"1970-01-01T01:45:40\",\"1970-01-01T01:45:40\",\"1970-01-01T01:12:20\",\"1970-01-01T01:45:40\",\"1970-01-01T01:45:40\",\"1970-01-01T01:45:40\",\"1970-01-01T02:19:00\",\"1970-01-01T02:19:00\",\"1970-01-01T01:45:40\",\"1970-01-01T02:19:00\",\"1970-01-01T02:19:00\",\"1970-01-01T01:45:40\",\"1970-01-01T02:19:00\",\"1970-01-01T02:19:00\",\"1970-01-01T02:19:00\",\"1970-01-01T03:00:40\",\"1970-01-01T03:00:40\",\"1970-01-01T02:19:00\",\"1970-01-01T03:00:40\",\"1970-01-01T03:00:40\",\"1970-01-01T02:19:00\",\"1970-01-01T03:00:40\",\"1970-01-01T03:00:40\",\"1970-01-01T03:00:40\",\"1970-01-01T03:34:00\",\"1970-01-01T03:34:00\",\"1970-01-01T03:00:40\",\"1970-01-01T03:34:00\",\"1970-01-01T03:34:00\",\"1970-01-01T03:00:40\",\"1970-01-01T03:34:00\",\"1970-01-01T03:34:00\",\"1970-01-01T03:34:00\",\"1970-01-01T04:07:20\",\"1970-01-01T04:07:20\",\"1970-01-01T03:34:00\",\"1970-01-01T04:07:20\",\"1970-01-01T04:07:20\",\"1970-01-01T03:34:00\",\"1970-01-01T04:07:20\",\"1970-01-01T04:07:20\",\"1970-01-01T04:07:20\",\"1970-01-01T04:49:00\",\"1970-01-01T04:49:00\",\"1970-01-01T04:07:20\",\"1970-01-01T04:49:00\",\"1970-01-01T04:49:00\",\"1970-01-01T04:07:20\",\"1970-01-01T04:49:00\",\"1970-01-01T04:49:00\",\"1970-01-01T04:49:00\",\"1970-01-01T05:30:40\",\"1970-01-01T05:30:40\",\"1970-01-01T04:49:00\",\"1970-01-01T05:30:40\",\"1970-01-01T05:30:40\",\"1970-01-01T04:49:00\",\"1970-01-01T05:30:40\",\"1970-01-01T05:30:40\",\"1970-01-01T05:30:40\",\"1970-01-01T06:04:00\",\"1970-01-01T06:04:00\",\"1970-01-01T05:30:40\",\"1970-01-01T06:04:00\",\"1970-01-01T06:04:00\",\"1970-01-01T05:30:40\",\"1970-01-01T06:04:00\",\"1970-01-01T06:04:00\",\"1970-01-01T06:04:00\",\"1970-01-01T06:37:20\",\"1970-01-01T06:37:20\",\"1970-01-01T06:04:00\",\"1970-01-01T06:37:20\",\"1970-01-01T06:37:20\",\"1970-01-01T06:04:00\",\"1970-01-01T06:37:20\",\"1970-01-01T06:37:20\",\"1970-01-01T06:37:20\",\"1970-01-01T07:19:00\",\"1970-01-01T07:19:00\",\"1970-01-01T06:37:20\",\"1970-01-01T07:19:00\",\"1970-01-01T07:19:00\",\"1970-01-01T06:37:20\",\"1970-01-01T07:19:00\",\"1970-01-01T07:19:00\",\"1970-01-01T07:19:00\",\"1970-01-01T07:52:20\",\"1970-01-01T07:52:20\",\"1970-01-01T07:19:00\",\"1970-01-01T07:52:20\",\"1970-01-01T07:52:20\",\"1970-01-01T07:19:00\",\"1970-01-01T07:52:20\",\"1970-01-01T07:52:20\",\"1970-01-01T07:52:20\",\"1970-01-01T08:25:40\",\"1970-01-01T08:25:40\",\"1970-01-01T07:52:20\",\"1970-01-01T08:25:40\",\"1970-01-01T08:25:40\",\"1970-01-01T07:52:20\",\"1970-01-01T08:25:40\",\"1970-01-01T08:25:40\",\"1970-01-01T08:25:40\",\"1970-01-01T09:07:20\",\"1970-01-01T09:07:20\",\"1970-01-01T08:25:40\",\"1970-01-01T09:07:20\",\"1970-01-01T09:07:20\",\"1970-01-01T08:25:40\",\"1970-01-01T09:07:20\",\"1970-01-01T09:07:20\",\"1970-01-01T09:07:20\",\"1970-01-01T09:40:40\",\"1970-01-01T09:40:40\",\"1970-01-01T09:07:20\",\"1970-01-01T09:40:40\",\"1970-01-01T09:40:40\",\"1970-01-01T09:07:20\",\"1970-01-01T09:40:40\",\"1970-01-01T09:40:40\",\"1970-01-01T09:40:40\",\"1970-01-01T10:22:20\",\"1970-01-01T10:22:20\",\"1970-01-01T09:40:40\",\"1970-01-01T10:22:20\",\"1970-01-01T10:22:20\",\"1970-01-01T09:40:40\",\"1970-01-01T10:22:20\",\"1970-01-01T10:22:20\",\"1970-01-01T10:22:20\",\"1970-01-01T10:55:40\",\"1970-01-01T10:55:40\",\"1970-01-01T10:22:20\",\"1970-01-01T10:55:40\",\"1970-01-01T10:55:40\",\"1970-01-01T10:22:20\",\"1970-01-01T10:55:40\",\"1970-01-01T10:55:40\",\"1970-01-01T10:55:40\",\"1970-01-01T11:37:20\",\"1970-01-01T11:37:20\",\"1970-01-01T10:55:40\",\"1970-01-01T11:37:20\",\"1970-01-01T11:37:20\",\"1970-01-01T10:55:40\",\"1970-01-01T11:37:20\",\"1970-01-01T11:37:20\",\"1970-01-01T11:37:20\",\"1970-01-01T12:10:40\",\"1970-01-01T12:10:40\",\"1970-01-01T11:37:20\",\"1970-01-01T12:10:40\",\"1970-01-01T12:10:40\",\"1970-01-01T11:37:20\",\"1970-01-01T12:10:40\",\"1970-01-01T12:10:40\",\"1970-01-01T12:10:40\",\"1970-01-01T12:44:00\",\"1970-01-01T12:44:00\",\"1970-01-01T12:10:40\",\"1970-01-01T12:44:00\",\"1970-01-01T12:44:00\",\"1970-01-01T12:10:40\",\"1970-01-01T12:44:00\",\"1970-01-01T12:44:00\",\"1970-01-01T12:44:00\",\"1970-01-01T13:17:20\",\"1970-01-01T13:17:20\",\"1970-01-01T12:44:00\",\"1970-01-01T13:17:20\",\"1970-01-01T13:17:20\",\"1970-01-01T12:44:00\",\"1970-01-01T13:17:20\",\"1970-01-01T13:17:20\",\"1970-01-01T13:17:20\",\"1970-01-01T13:59:00\",\"1970-01-01T13:59:00\",\"1970-01-01T13:17:20\",\"1970-01-01T13:59:00\",\"1970-01-01T13:59:00\",\"1970-01-01T13:17:20\",\"1970-01-01T13:59:00\",\"1970-01-01T13:59:00\",\"1970-01-01T13:59:00\",\"1970-01-01T14:32:20\",\"1970-01-01T14:32:20\",\"1970-01-01T13:59:00\",\"1970-01-01T14:32:20\",\"1970-01-01T14:32:20\",\"1970-01-01T13:59:00\",\"1970-01-01T14:32:20\",\"1970-01-01T14:32:20\",\"1970-01-01T14:32:20\",\"1970-01-01T15:14:00\",\"1970-01-01T15:14:00\",\"1970-01-01T14:32:20\",\"1970-01-01T15:14:00\",\"1970-01-01T15:14:00\",\"1970-01-01T14:32:20\",\"1970-01-01T15:14:00\",\"1970-01-01T15:14:00\",\"1970-01-01T15:14:00\",\"1970-01-01T16:02:01\",\"1970-01-01T16:02:01\",\"1970-01-01T16:02:01\",\"1970-01-01T16:50:02\",\"1970-01-01T16:50:02\",\"1970-01-01T16:02:01\",\"1970-01-01T16:50:02\",\"1970-01-01T16:50:02\"],\"y\":[\"Barge III\",\"Barge III\",null,\"Barge III\",\"Barge III\",null,\"Barge III\",\"Barge III\",null,\"Cutter T\",\"Cutter T\",null,\"Trench\",\"Trench\",null,\"Carrier C\",\"Carrier C\",null,\"Cutter T\",\"Cutter T\",null,\"Trench\",\"Trench\",null,\"Barge I\",\"Barge I\",null,\"Cutter T\",\"Cutter T\",null,\"Trench\",\"Trench\",null,\"Carrier B\",\"Carrier B\",null,\"Cutter T\",\"Cutter T\",null,\"Trench\",\"Trench\",null,\"Cutter T\",\"Cutter T\",null,\"Extra 1\",\"Extra 1\",null,\"Trench\",\"Trench\",null,\"Carrier A\",\"Carrier A\",null,\"Cutter T\",\"Cutter T\",null,\"Trench\",\"Trench\",null,\"Barge II\",\"Barge II\",null,\"Cutter T\",\"Cutter T\",null,\"Trench\",\"Trench\",null,\"Barge III\",\"Barge III\",null,\"Cutter T\",\"Cutter T\",null,\"Trench\",\"Trench\",null,\"Carrier C\",\"Carrier C\",null,\"Cutter T\",\"Cutter T\",null,\"Trench\",\"Trench\",null,\"Barge I\",\"Barge I\",null,\"Cutter T\",\"Cutter T\",null,\"Trench\",\"Trench\",null,\"Carrier B\",\"Carrier B\",null,\"Cutter T\",\"Cutter T\",null,\"Trench\",\"Trench\",null,\"Cutter T\",\"Cutter T\",null,\"Extra 1\",\"Extra 1\",null,\"Trench\",\"Trench\",null,\"Carrier A\",\"Carrier A\",null,\"Cutter T\",\"Cutter T\",null,\"Trench\",\"Trench\",null,\"Barge III\",\"Barge III\",null,\"Cutter T\",\"Cutter T\",null,\"Trench\",\"Trench\",null,\"Barge II\",\"Barge II\",null,\"Cutter T\",\"Cutter T\",null,\"Trench\",\"Trench\",null,\"Carrier C\",\"Carrier C\",null,\"Cutter T\",\"Cutter T\",null,\"Trench\",\"Trench\",null,\"Barge I\",\"Barge I\",null,\"Cutter T\",\"Cutter T\",null,\"Trench\",\"Trench\",null,\"Carrier B\",\"Carrier B\",null,\"Cutter T\",\"Cutter T\",null,\"Trench\",\"Trench\",null,\"Cutter T\",\"Cutter T\",null,\"Extra 1\",\"Extra 1\",null,\"Trench\",\"Trench\",null,\"Barge III\",\"Barge III\",null,\"Cutter T\",\"Cutter T\",null,\"Trench\",\"Trench\",null,\"Carrier A\",\"Carrier A\",null,\"Cutter T\",\"Cutter T\",null,\"Trench\",\"Trench\",null,\"Carrier C\",\"Carrier C\",null,\"Cutter T\",\"Cutter T\",null,\"Trench\",\"Trench\",null,\"Barge II\",\"Barge II\",null,\"Cutter T\",\"Cutter T\",null,\"Trench\",\"Trench\",null,\"Barge II\",\"Barge II\",null,\"Barge II\",\"Barge II\",null,\"Reclamation\",\"Reclamation\",null],\"type\":\"scatter\"},{\"connectgaps\":false,\"hoverinfo\":\"y+name\",\"line\":{\"color\":\"rgb(237,246,98)\",\"width\":10},\"mode\":\"lines\",\"name\":\"unloading:Carrier A\",\"x\":[\"1970-01-01T05:35:12\",\"1970-01-01T05:35:12\",\"1970-01-01T06:21:24\",\"1970-01-01T06:21:24\",\"1970-01-01T06:21:24\",\"1970-01-01T09:53:32\",\"1970-01-01T09:53:32\",\"1970-01-01T10:39:44\",\"1970-01-01T10:39:44\",\"1970-01-01T10:39:44\",\"1970-01-01T14:45:12\",\"1970-01-01T14:45:12\",\"1970-01-01T15:31:24\",\"1970-01-01T15:31:24\",\"1970-01-01T15:31:24\",\"1970-01-01T05:35:12\",\"1970-01-01T05:35:12\",\"1970-01-01T06:21:24\",\"1970-01-01T06:21:24\",\"1970-01-01T06:21:24\",\"1970-01-01T09:53:32\",\"1970-01-01T09:53:32\",\"1970-01-01T10:39:44\",\"1970-01-01T10:39:44\",\"1970-01-01T10:39:44\",\"1970-01-01T14:45:12\",\"1970-01-01T14:45:12\",\"1970-01-01T15:31:24\",\"1970-01-01T15:31:24\",\"1970-01-01T15:31:24\"],\"y\":[\"Carrier A\",\"Carrier A\",\"Carrier A\",\"Carrier A\",null,\"Carrier A\",\"Carrier A\",\"Carrier A\",\"Carrier A\",null,\"Carrier A\",\"Carrier A\",\"Carrier A\",\"Carrier A\",null,\"Reclamation\",\"Reclamation\",\"Reclamation\",\"Reclamation\",null,\"Reclamation\",\"Reclamation\",\"Reclamation\",\"Reclamation\",null,\"Reclamation\",\"Reclamation\",\"Reclamation\",\"Reclamation\",null],\"type\":\"scatter\"},{\"connectgaps\":false,\"hoverinfo\":\"y+name\",\"line\":{\"color\":\"rgb(241,250,102)\",\"width\":10},\"mode\":\"lines\",\"name\":\"sailing empty:Carrier A\",\"x\":[\"1970-01-01T00:46:12\",\"1970-01-01T00:46:12\",\"1970-01-01T01:32:24\",\"1970-01-01T01:32:24\",\"1970-01-01T01:32:24\",\"1970-01-01T07:07:36\",\"1970-01-01T07:07:36\",\"1970-01-01T07:53:48\",\"1970-01-01T07:53:48\",\"1970-01-01T07:53:48\",\"1970-01-01T11:25:56\",\"1970-01-01T11:25:56\",\"1970-01-01T12:12:08\",\"1970-01-01T12:12:08\",\"1970-01-01T12:12:08\"],\"y\":[\"Carrier A\",\"Carrier A\",\"Carrier A\",\"Carrier A\",null,\"Carrier A\",\"Carrier A\",\"Carrier A\",\"Carrier A\",null,\"Carrier A\",\"Carrier A\",\"Carrier A\",\"Carrier A\",null],\"type\":\"scatter\"},{\"connectgaps\":false,\"hoverinfo\":\"y+name\",\"line\":{\"color\":\"rgb(245,254,106)\",\"width\":10},\"mode\":\"lines\",\"name\":\"loading:Carrier A\",\"x\":[\"1970-01-01T04:07:20\",\"1970-01-01T04:07:20\",\"1970-01-01T04:49:00\",\"1970-01-01T04:49:00\",\"1970-01-01T04:49:00\",\"1970-01-01T08:25:40\",\"1970-01-01T08:25:40\",\"1970-01-01T09:07:20\",\"1970-01-01T09:07:20\",\"1970-01-01T09:07:20\",\"1970-01-01T13:17:20\",\"1970-01-01T13:17:20\",\"1970-01-01T13:59:00\",\"1970-01-01T13:59:00\",\"1970-01-01T13:59:00\",\"1970-01-01T04:07:20\",\"1970-01-01T04:07:20\",\"1970-01-01T04:49:00\",\"1970-01-01T04:49:00\",\"1970-01-01T04:49:00\",\"1970-01-01T08:25:40\",\"1970-01-01T08:25:40\",\"1970-01-01T09:07:20\",\"1970-01-01T09:07:20\",\"1970-01-01T09:07:20\",\"1970-01-01T13:17:20\",\"1970-01-01T13:17:20\",\"1970-01-01T13:59:00\",\"1970-01-01T13:59:00\",\"1970-01-01T13:59:00\",\"1970-01-01T04:07:20\",\"1970-01-01T04:07:20\",\"1970-01-01T04:49:00\",\"1970-01-01T04:49:00\",\"1970-01-01T04:49:00\",\"1970-01-01T08:25:40\",\"1970-01-01T08:25:40\",\"1970-01-01T09:07:20\",\"1970-01-01T09:07:20\",\"1970-01-01T09:07:20\",\"1970-01-01T13:17:20\",\"1970-01-01T13:17:20\",\"1970-01-01T13:59:00\",\"1970-01-01T13:59:00\",\"1970-01-01T13:59:00\"],\"y\":[\"Carrier A\",\"Carrier A\",\"Carrier A\",\"Carrier A\",null,\"Carrier A\",\"Carrier A\",\"Carrier A\",\"Carrier A\",null,\"Carrier A\",\"Carrier A\",\"Carrier A\",\"Carrier A\",null,\"Cutter T\",\"Cutter T\",\"Cutter T\",\"Cutter T\",null,\"Cutter T\",\"Cutter T\",\"Cutter T\",\"Cutter T\",null,\"Cutter T\",\"Cutter T\",\"Cutter T\",\"Cutter T\",null,\"Trench\",\"Trench\",\"Trench\",\"Trench\",null,\"Trench\",\"Trench\",\"Trench\",\"Trench\",null,\"Trench\",\"Trench\",\"Trench\",\"Trench\",null],\"type\":\"scatter\"},{\"connectgaps\":false,\"hoverinfo\":\"y+name\",\"line\":{\"color\":\"rgb(249,2,110)\",\"width\":10},\"mode\":\"lines\",\"name\":\"basic activity:Carrier A\",\"x\":[\"1970-01-01T00:00:00\",\"1970-01-01T00:00:00\",\"1970-01-01T00:46:12\",\"1970-01-01T00:46:12\",\"1970-01-01T00:46:12\",\"1970-01-01T06:21:24\",\"1970-01-01T06:21:24\",\"1970-01-01T07:07:36\",\"1970-01-01T07:07:36\",\"1970-01-01T07:07:36\",\"1970-01-01T10:39:44\",\"1970-01-01T10:39:44\",\"1970-01-01T11:25:56\",\"1970-01-01T11:25:56\",\"1970-01-01T11:25:56\"],\"y\":[\"Carrier A\",\"Carrier A\",\"Carrier A\",\"Carrier A\",null,\"Carrier A\",\"Carrier A\",\"Carrier A\",\"Carrier A\",null,\"Carrier A\",\"Carrier A\",\"Carrier A\",\"Carrier A\",null],\"type\":\"scatter\"},{\"connectgaps\":false,\"hoverinfo\":\"y+name\",\"line\":{\"color\":\"rgb(253,6,114)\",\"width\":10},\"mode\":\"lines\",\"name\":\"sailing full:Carrier A\",\"x\":[\"1970-01-01T04:49:00\",\"1970-01-01T04:49:00\",\"1970-01-01T05:35:12\",\"1970-01-01T05:35:12\",\"1970-01-01T05:35:12\",\"1970-01-01T09:07:20\",\"1970-01-01T09:07:20\",\"1970-01-01T09:53:32\",\"1970-01-01T09:53:32\",\"1970-01-01T09:53:32\",\"1970-01-01T13:59:00\",\"1970-01-01T13:59:00\",\"1970-01-01T14:45:12\",\"1970-01-01T14:45:12\",\"1970-01-01T14:45:12\"],\"y\":[\"Carrier A\",\"Carrier A\",\"Carrier A\",\"Carrier A\",null,\"Carrier A\",\"Carrier A\",\"Carrier A\",\"Carrier A\",null,\"Carrier A\",\"Carrier A\",\"Carrier A\",\"Carrier A\",null],\"type\":\"scatter\"},{\"connectgaps\":false,\"hoverinfo\":\"y+name\",\"line\":{\"color\":\"rgb(1,10,118)\",\"width\":10},\"mode\":\"lines\",\"name\":\"sailing empty:Carrier B\",\"x\":[\"1970-01-01T00:40:16\",\"1970-01-01T00:40:16\",\"1970-01-01T01:20:32\",\"1970-01-01T01:20:32\",\"1970-01-01T01:20:32\",\"1970-01-01T05:34:48\",\"1970-01-01T05:34:48\",\"1970-01-01T06:15:04\",\"1970-01-01T06:15:04\",\"1970-01-01T06:15:04\",\"1970-01-01T09:53:08\",\"1970-01-01T09:53:08\",\"1970-01-01T10:33:24\",\"1970-01-01T10:33:24\",\"1970-01-01T10:33:24\"],\"y\":[\"Carrier B\",\"Carrier B\",\"Carrier B\",\"Carrier B\",null,\"Carrier B\",\"Carrier B\",\"Carrier B\",\"Carrier B\",null,\"Carrier B\",\"Carrier B\",\"Carrier B\",\"Carrier B\",null],\"type\":\"scatter\"},{\"connectgaps\":false,\"hoverinfo\":\"y+name\",\"line\":{\"color\":\"rgb(5,14,122)\",\"width\":10},\"mode\":\"lines\",\"name\":\"sailing full:Carrier B\",\"x\":[\"1970-01-01T03:34:00\",\"1970-01-01T03:34:00\",\"1970-01-01T04:14:16\",\"1970-01-01T04:14:16\",\"1970-01-01T04:14:16\",\"1970-01-01T07:52:20\",\"1970-01-01T07:52:20\",\"1970-01-01T08:32:36\",\"1970-01-01T08:32:36\",\"1970-01-01T08:32:36\",\"1970-01-01T12:10:40\",\"1970-01-01T12:10:40\",\"1970-01-01T12:50:56\",\"1970-01-01T12:50:56\",\"1970-01-01T12:50:56\"],\"y\":[\"Carrier B\",\"Carrier B\",\"Carrier B\",\"Carrier B\",null,\"Carrier B\",\"Carrier B\",\"Carrier B\",\"Carrier B\",null,\"Carrier B\",\"Carrier B\",\"Carrier B\",\"Carrier B\",null],\"type\":\"scatter\"},{\"connectgaps\":false,\"hoverinfo\":\"y+name\",\"line\":{\"color\":\"rgb(9,18,126)\",\"width\":10},\"mode\":\"lines\",\"name\":\"basic activity:Carrier B\",\"x\":[\"1970-01-01T00:00:00\",\"1970-01-01T00:00:00\",\"1970-01-01T00:40:16\",\"1970-01-01T00:40:16\",\"1970-01-01T00:40:16\",\"1970-01-01T04:54:32\",\"1970-01-01T04:54:32\",\"1970-01-01T05:34:48\",\"1970-01-01T05:34:48\",\"1970-01-01T05:34:48\",\"1970-01-01T09:12:52\",\"1970-01-01T09:12:52\",\"1970-01-01T09:53:08\",\"1970-01-01T09:53:08\",\"1970-01-01T09:53:08\"],\"y\":[\"Carrier B\",\"Carrier B\",\"Carrier B\",\"Carrier B\",null,\"Carrier B\",\"Carrier B\",\"Carrier B\",\"Carrier B\",null,\"Carrier B\",\"Carrier B\",\"Carrier B\",\"Carrier B\",null],\"type\":\"scatter\"},{\"connectgaps\":false,\"hoverinfo\":\"y+name\",\"line\":{\"color\":\"rgb(13,22,130)\",\"width\":10},\"mode\":\"lines\",\"name\":\"loading:Carrier B\",\"x\":[\"1970-01-01T03:00:40\",\"1970-01-01T03:00:40\",\"1970-01-01T03:34:00\",\"1970-01-01T03:34:00\",\"1970-01-01T03:34:00\",\"1970-01-01T07:19:00\",\"1970-01-01T07:19:00\",\"1970-01-01T07:52:20\",\"1970-01-01T07:52:20\",\"1970-01-01T07:52:20\",\"1970-01-01T11:37:20\",\"1970-01-01T11:37:20\",\"1970-01-01T12:10:40\",\"1970-01-01T12:10:40\",\"1970-01-01T12:10:40\",\"1970-01-01T03:00:40\",\"1970-01-01T03:00:40\",\"1970-01-01T03:34:00\",\"1970-01-01T03:34:00\",\"1970-01-01T03:34:00\",\"1970-01-01T07:19:00\",\"1970-01-01T07:19:00\",\"1970-01-01T07:52:20\",\"1970-01-01T07:52:20\",\"1970-01-01T07:52:20\",\"1970-01-01T11:37:20\",\"1970-01-01T11:37:20\",\"1970-01-01T12:10:40\",\"1970-01-01T12:10:40\",\"1970-01-01T12:10:40\",\"1970-01-01T03:00:40\",\"1970-01-01T03:00:40\",\"1970-01-01T03:34:00\",\"1970-01-01T03:34:00\",\"1970-01-01T03:34:00\",\"1970-01-01T07:19:00\",\"1970-01-01T07:19:00\",\"1970-01-01T07:52:20\",\"1970-01-01T07:52:20\",\"1970-01-01T07:52:20\",\"1970-01-01T11:37:20\",\"1970-01-01T11:37:20\",\"1970-01-01T12:10:40\",\"1970-01-01T12:10:40\",\"1970-01-01T12:10:40\"],\"y\":[\"Carrier B\",\"Carrier B\",\"Carrier B\",\"Carrier B\",null,\"Carrier B\",\"Carrier B\",\"Carrier B\",\"Carrier B\",null,\"Carrier B\",\"Carrier B\",\"Carrier B\",\"Carrier B\",null,\"Cutter T\",\"Cutter T\",\"Cutter T\",\"Cutter T\",null,\"Cutter T\",\"Cutter T\",\"Cutter T\",\"Cutter T\",null,\"Cutter T\",\"Cutter T\",\"Cutter T\",\"Cutter T\",null,\"Trench\",\"Trench\",\"Trench\",\"Trench\",null,\"Trench\",\"Trench\",\"Trench\",\"Trench\",null,\"Trench\",\"Trench\",\"Trench\",\"Trench\",null],\"type\":\"scatter\"},{\"connectgaps\":false,\"hoverinfo\":\"y+name\",\"line\":{\"color\":\"rgb(17,26,134)\",\"width\":10},\"mode\":\"lines\",\"name\":\"unloading:Carrier B\",\"x\":[\"1970-01-01T04:14:16\",\"1970-01-01T04:14:16\",\"1970-01-01T04:54:32\",\"1970-01-01T04:54:32\",\"1970-01-01T04:54:32\",\"1970-01-01T08:32:36\",\"1970-01-01T08:32:36\",\"1970-01-01T09:12:52\",\"1970-01-01T09:12:52\",\"1970-01-01T09:12:52\",\"1970-01-01T12:50:56\",\"1970-01-01T12:50:56\",\"1970-01-01T13:31:12\",\"1970-01-01T13:31:12\",\"1970-01-01T13:31:12\",\"1970-01-01T04:14:16\",\"1970-01-01T04:14:16\",\"1970-01-01T04:54:32\",\"1970-01-01T04:54:32\",\"1970-01-01T04:54:32\",\"1970-01-01T08:32:36\",\"1970-01-01T08:32:36\",\"1970-01-01T09:12:52\",\"1970-01-01T09:12:52\",\"1970-01-01T09:12:52\",\"1970-01-01T12:50:56\",\"1970-01-01T12:50:56\",\"1970-01-01T13:31:12\",\"1970-01-01T13:31:12\",\"1970-01-01T13:31:12\"],\"y\":[\"Carrier B\",\"Carrier B\",\"Carrier B\",\"Carrier B\",null,\"Carrier B\",\"Carrier B\",\"Carrier B\",\"Carrier B\",null,\"Carrier B\",\"Carrier B\",\"Carrier B\",\"Carrier B\",null,\"Reclamation\",\"Reclamation\",\"Reclamation\",\"Reclamation\",null,\"Reclamation\",\"Reclamation\",\"Reclamation\",\"Reclamation\",null,\"Reclamation\",\"Reclamation\",\"Reclamation\",\"Reclamation\",null],\"type\":\"scatter\"},{\"connectgaps\":false,\"hoverinfo\":\"y+name\",\"line\":{\"color\":\"rgb(21,30,138)\",\"width\":10},\"mode\":\"lines\",\"name\":\"loading:Carrier C\",\"x\":[\"1970-01-01T01:45:40\",\"1970-01-01T01:45:40\",\"1970-01-01T02:19:00\",\"1970-01-01T02:19:00\",\"1970-01-01T02:19:00\",\"1970-01-01T06:04:00\",\"1970-01-01T06:04:00\",\"1970-01-01T06:37:20\",\"1970-01-01T06:37:20\",\"1970-01-01T06:37:20\",\"1970-01-01T10:22:20\",\"1970-01-01T10:22:20\",\"1970-01-01T10:55:40\",\"1970-01-01T10:55:40\",\"1970-01-01T10:55:40\",\"1970-01-01T13:59:00\",\"1970-01-01T13:59:00\",\"1970-01-01T14:32:20\",\"1970-01-01T14:32:20\",\"1970-01-01T14:32:20\",\"1970-01-01T01:45:40\",\"1970-01-01T01:45:40\",\"1970-01-01T02:19:00\",\"1970-01-01T02:19:00\",\"1970-01-01T02:19:00\",\"1970-01-01T06:04:00\",\"1970-01-01T06:04:00\",\"1970-01-01T06:37:20\",\"1970-01-01T06:37:20\",\"1970-01-01T06:37:20\",\"1970-01-01T10:22:20\",\"1970-01-01T10:22:20\",\"1970-01-01T10:55:40\",\"1970-01-01T10:55:40\",\"1970-01-01T10:55:40\",\"1970-01-01T13:59:00\",\"1970-01-01T13:59:00\",\"1970-01-01T14:32:20\",\"1970-01-01T14:32:20\",\"1970-01-01T14:32:20\",\"1970-01-01T01:45:40\",\"1970-01-01T01:45:40\",\"1970-01-01T02:19:00\",\"1970-01-01T02:19:00\",\"1970-01-01T02:19:00\",\"1970-01-01T06:04:00\",\"1970-01-01T06:04:00\",\"1970-01-01T06:37:20\",\"1970-01-01T06:37:20\",\"1970-01-01T06:37:20\",\"1970-01-01T10:22:20\",\"1970-01-01T10:22:20\",\"1970-01-01T10:55:40\",\"1970-01-01T10:55:40\",\"1970-01-01T10:55:40\",\"1970-01-01T13:59:00\",\"1970-01-01T13:59:00\",\"1970-01-01T14:32:20\",\"1970-01-01T14:32:20\",\"1970-01-01T14:32:20\"],\"y\":[\"Carrier C\",\"Carrier C\",\"Carrier C\",\"Carrier C\",null,\"Carrier C\",\"Carrier C\",\"Carrier C\",\"Carrier C\",null,\"Carrier C\",\"Carrier C\",\"Carrier C\",\"Carrier C\",null,\"Carrier C\",\"Carrier C\",\"Carrier C\",\"Carrier C\",null,\"Cutter T\",\"Cutter T\",\"Cutter T\",\"Cutter T\",null,\"Cutter T\",\"Cutter T\",\"Cutter T\",\"Cutter T\",null,\"Cutter T\",\"Cutter T\",\"Cutter T\",\"Cutter T\",null,\"Cutter T\",\"Cutter T\",\"Cutter T\",\"Cutter T\",null,\"Trench\",\"Trench\",\"Trench\",\"Trench\",null,\"Trench\",\"Trench\",\"Trench\",\"Trench\",null,\"Trench\",\"Trench\",\"Trench\",\"Trench\",null,\"Trench\",\"Trench\",\"Trench\",\"Trench\",null],\"type\":\"scatter\"},{\"connectgaps\":false,\"hoverinfo\":\"y+name\",\"line\":{\"color\":\"rgb(25,34,142)\",\"width\":10},\"mode\":\"lines\",\"name\":\"sailing full:Carrier C\",\"x\":[\"1970-01-01T02:19:00\",\"1970-01-01T02:19:00\",\"1970-01-01T02:55:58\",\"1970-01-01T02:55:58\",\"1970-01-01T02:55:58\",\"1970-01-01T06:37:20\",\"1970-01-01T06:37:20\",\"1970-01-01T07:14:18\",\"1970-01-01T07:14:18\",\"1970-01-01T07:14:18\",\"1970-01-01T10:55:40\",\"1970-01-01T10:55:40\",\"1970-01-01T11:32:38\",\"1970-01-01T11:32:38\",\"1970-01-01T11:32:38\",\"1970-01-01T14:32:20\",\"1970-01-01T14:32:20\",\"1970-01-01T15:09:18\",\"1970-01-01T15:09:18\",\"1970-01-01T15:09:18\"],\"y\":[\"Carrier C\",\"Carrier C\",\"Carrier C\",\"Carrier C\",null,\"Carrier C\",\"Carrier C\",\"Carrier C\",\"Carrier C\",null,\"Carrier C\",\"Carrier C\",\"Carrier C\",\"Carrier C\",null,\"Carrier C\",\"Carrier C\",\"Carrier C\",\"Carrier C\",null],\"type\":\"scatter\"},{\"connectgaps\":false,\"hoverinfo\":\"y+name\",\"line\":{\"color\":\"rgb(29,38,146)\",\"width\":10},\"mode\":\"lines\",\"name\":\"sailing empty:Carrier C\",\"x\":[\"1970-01-01T00:36:58\",\"1970-01-01T00:36:58\",\"1970-01-01T01:13:56\",\"1970-01-01T01:13:56\",\"1970-01-01T01:13:56\",\"1970-01-01T04:09:54\",\"1970-01-01T04:09:54\",\"1970-01-01T04:46:52\",\"1970-01-01T04:46:52\",\"1970-01-01T04:46:52\",\"1970-01-01T08:28:14\",\"1970-01-01T08:28:14\",\"1970-01-01T09:05:12\",\"1970-01-01T09:05:12\",\"1970-01-01T09:05:12\",\"1970-01-01T12:46:34\",\"1970-01-01T12:46:34\",\"1970-01-01T13:23:32\",\"1970-01-01T13:23:32\",\"1970-01-01T13:23:32\"],\"y\":[\"Carrier C\",\"Carrier C\",\"Carrier C\",\"Carrier C\",null,\"Carrier C\",\"Carrier C\",\"Carrier C\",\"Carrier C\",null,\"Carrier C\",\"Carrier C\",\"Carrier C\",\"Carrier C\",null,\"Carrier C\",\"Carrier C\",\"Carrier C\",\"Carrier C\",null],\"type\":\"scatter\"},{\"connectgaps\":false,\"hoverinfo\":\"y+name\",\"line\":{\"color\":\"rgb(33,42,150)\",\"width\":10},\"mode\":\"lines\",\"name\":\"basic activity:Carrier C\",\"x\":[\"1970-01-01T00:00:00\",\"1970-01-01T00:00:00\",\"1970-01-01T00:36:58\",\"1970-01-01T00:36:58\",\"1970-01-01T00:36:58\",\"1970-01-01T03:32:56\",\"1970-01-01T03:32:56\",\"1970-01-01T04:09:54\",\"1970-01-01T04:09:54\",\"1970-01-01T04:09:54\",\"1970-01-01T07:51:16\",\"1970-01-01T07:51:16\",\"1970-01-01T08:28:14\",\"1970-01-01T08:28:14\",\"1970-01-01T08:28:14\",\"1970-01-01T12:09:36\",\"1970-01-01T12:09:36\",\"1970-01-01T12:46:34\",\"1970-01-01T12:46:34\",\"1970-01-01T12:46:34\"],\"y\":[\"Carrier C\",\"Carrier C\",\"Carrier C\",\"Carrier C\",null,\"Carrier C\",\"Carrier C\",\"Carrier C\",\"Carrier C\",null,\"Carrier C\",\"Carrier C\",\"Carrier C\",\"Carrier C\",null,\"Carrier C\",\"Carrier C\",\"Carrier C\",\"Carrier C\",null],\"type\":\"scatter\"},{\"connectgaps\":false,\"hoverinfo\":\"y+name\",\"line\":{\"color\":\"rgb(37,46,154)\",\"width\":10},\"mode\":\"lines\",\"name\":\"unloading:Carrier C\",\"x\":[\"1970-01-01T02:55:58\",\"1970-01-01T02:55:58\",\"1970-01-01T03:32:56\",\"1970-01-01T03:32:56\",\"1970-01-01T03:32:56\",\"1970-01-01T07:14:18\",\"1970-01-01T07:14:18\",\"1970-01-01T07:51:16\",\"1970-01-01T07:51:16\",\"1970-01-01T07:51:16\",\"1970-01-01T11:32:38\",\"1970-01-01T11:32:38\",\"1970-01-01T12:09:36\",\"1970-01-01T12:09:36\",\"1970-01-01T12:09:36\",\"1970-01-01T15:09:18\",\"1970-01-01T15:09:18\",\"1970-01-01T15:46:16\",\"1970-01-01T15:46:16\",\"1970-01-01T15:46:16\",\"1970-01-01T02:55:58\",\"1970-01-01T02:55:58\",\"1970-01-01T03:32:56\",\"1970-01-01T03:32:56\",\"1970-01-01T03:32:56\",\"1970-01-01T07:14:18\",\"1970-01-01T07:14:18\",\"1970-01-01T07:51:16\",\"1970-01-01T07:51:16\",\"1970-01-01T07:51:16\",\"1970-01-01T11:32:38\",\"1970-01-01T11:32:38\",\"1970-01-01T12:09:36\",\"1970-01-01T12:09:36\",\"1970-01-01T12:09:36\",\"1970-01-01T15:09:18\",\"1970-01-01T15:09:18\",\"1970-01-01T15:46:16\",\"1970-01-01T15:46:16\",\"1970-01-01T15:46:16\"],\"y\":[\"Carrier C\",\"Carrier C\",\"Carrier C\",\"Carrier C\",null,\"Carrier C\",\"Carrier C\",\"Carrier C\",\"Carrier C\",null,\"Carrier C\",\"Carrier C\",\"Carrier C\",\"Carrier C\",null,\"Carrier C\",\"Carrier C\",\"Carrier C\",\"Carrier C\",null,\"Reclamation\",\"Reclamation\",\"Reclamation\",\"Reclamation\",null,\"Reclamation\",\"Reclamation\",\"Reclamation\",\"Reclamation\",null,\"Reclamation\",\"Reclamation\",\"Reclamation\",\"Reclamation\",null,\"Reclamation\",\"Reclamation\",\"Reclamation\",\"Reclamation\",null],\"type\":\"scatter\"},{\"connectgaps\":false,\"hoverinfo\":\"y+name\",\"line\":{\"color\":\"rgb(41,50,158)\",\"width\":10},\"mode\":\"lines\",\"name\":\"sailing empty:Barge I\",\"x\":[\"1970-01-01T00:38:28\",\"1970-01-01T00:38:28\",\"1970-01-01T01:16:56\",\"1970-01-01T01:16:56\",\"1970-01-01T01:16:56\",\"1970-01-01T04:56:04\",\"1970-01-01T04:56:04\",\"1970-01-01T05:34:32\",\"1970-01-01T05:34:32\",\"1970-01-01T05:34:32\",\"1970-01-01T09:14:24\",\"1970-01-01T09:14:24\",\"1970-01-01T09:52:52\",\"1970-01-01T09:52:52\",\"1970-01-01T09:52:52\"],\"y\":[\"Barge I\",\"Barge I\",\"Barge I\",\"Barge I\",null,\"Barge I\",\"Barge I\",\"Barge I\",\"Barge I\",null,\"Barge I\",\"Barge I\",\"Barge I\",\"Barge I\",null],\"type\":\"scatter\"},{\"connectgaps\":false,\"hoverinfo\":\"y+name\",\"line\":{\"color\":\"rgb(45,54,162)\",\"width\":10},\"mode\":\"lines\",\"name\":\"unloading:Barge I\",\"x\":[\"1970-01-01T03:39:08\",\"1970-01-01T03:39:08\",\"1970-01-01T04:17:36\",\"1970-01-01T04:17:36\",\"1970-01-01T04:17:36\",\"1970-01-01T07:57:28\",\"1970-01-01T07:57:28\",\"1970-01-01T08:35:56\",\"1970-01-01T08:35:56\",\"1970-01-01T08:35:56\",\"1970-01-01T12:15:48\",\"1970-01-01T12:15:48\",\"1970-01-01T12:54:16\",\"1970-01-01T12:54:16\",\"1970-01-01T12:54:16\",\"1970-01-01T03:39:08\",\"1970-01-01T03:39:08\",\"1970-01-01T04:17:36\",\"1970-01-01T04:17:36\",\"1970-01-01T04:17:36\",\"1970-01-01T07:57:28\",\"1970-01-01T07:57:28\",\"1970-01-01T08:35:56\",\"1970-01-01T08:35:56\",\"1970-01-01T08:35:56\",\"1970-01-01T12:15:48\",\"1970-01-01T12:15:48\",\"1970-01-01T12:54:16\",\"1970-01-01T12:54:16\",\"1970-01-01T12:54:16\"],\"y\":[\"Barge I\",\"Barge I\",\"Barge I\",\"Barge I\",null,\"Barge I\",\"Barge I\",\"Barge I\",\"Barge I\",null,\"Barge I\",\"Barge I\",\"Barge I\",\"Barge I\",null,\"Reclamation\",\"Reclamation\",\"Reclamation\",\"Reclamation\",null,\"Reclamation\",\"Reclamation\",\"Reclamation\",\"Reclamation\",null,\"Reclamation\",\"Reclamation\",\"Reclamation\",\"Reclamation\",null],\"type\":\"scatter\"},{\"connectgaps\":false,\"hoverinfo\":\"y+name\",\"line\":{\"color\":\"rgb(49,58,166)\",\"width\":10},\"mode\":\"lines\",\"name\":\"sailing full:Barge I\",\"x\":[\"1970-01-01T03:00:40\",\"1970-01-01T03:00:40\",\"1970-01-01T03:39:08\",\"1970-01-01T03:39:08\",\"1970-01-01T03:39:08\",\"1970-01-01T07:19:00\",\"1970-01-01T07:19:00\",\"1970-01-01T07:57:28\",\"1970-01-01T07:57:28\",\"1970-01-01T07:57:28\",\"1970-01-01T11:37:20\",\"1970-01-01T11:37:20\",\"1970-01-01T12:15:48\",\"1970-01-01T12:15:48\",\"1970-01-01T12:15:48\"],\"y\":[\"Barge I\",\"Barge I\",\"Barge I\",\"Barge I\",null,\"Barge I\",\"Barge I\",\"Barge I\",\"Barge I\",null,\"Barge I\",\"Barge I\",\"Barge I\",\"Barge I\",null],\"type\":\"scatter\"},{\"connectgaps\":false,\"hoverinfo\":\"y+name\",\"line\":{\"color\":\"rgb(53,62,170)\",\"width\":10},\"mode\":\"lines\",\"name\":\"loading:Barge I\",\"x\":[\"1970-01-01T02:19:00\",\"1970-01-01T02:19:00\",\"1970-01-01T03:00:40\",\"1970-01-01T03:00:40\",\"1970-01-01T03:00:40\",\"1970-01-01T06:37:20\",\"1970-01-01T06:37:20\",\"1970-01-01T07:19:00\",\"1970-01-01T07:19:00\",\"1970-01-01T07:19:00\",\"1970-01-01T10:55:40\",\"1970-01-01T10:55:40\",\"1970-01-01T11:37:20\",\"1970-01-01T11:37:20\",\"1970-01-01T11:37:20\",\"1970-01-01T02:19:00\",\"1970-01-01T02:19:00\",\"1970-01-01T03:00:40\",\"1970-01-01T03:00:40\",\"1970-01-01T03:00:40\",\"1970-01-01T06:37:20\",\"1970-01-01T06:37:20\",\"1970-01-01T07:19:00\",\"1970-01-01T07:19:00\",\"1970-01-01T07:19:00\",\"1970-01-01T10:55:40\",\"1970-01-01T10:55:40\",\"1970-01-01T11:37:20\",\"1970-01-01T11:37:20\",\"1970-01-01T11:37:20\",\"1970-01-01T02:19:00\",\"1970-01-01T02:19:00\",\"1970-01-01T03:00:40\",\"1970-01-01T03:00:40\",\"1970-01-01T03:00:40\",\"1970-01-01T06:37:20\",\"1970-01-01T06:37:20\",\"1970-01-01T07:19:00\",\"1970-01-01T07:19:00\",\"1970-01-01T07:19:00\",\"1970-01-01T10:55:40\",\"1970-01-01T10:55:40\",\"1970-01-01T11:37:20\",\"1970-01-01T11:37:20\",\"1970-01-01T11:37:20\"],\"y\":[\"Barge I\",\"Barge I\",\"Barge I\",\"Barge I\",null,\"Barge I\",\"Barge I\",\"Barge I\",\"Barge I\",null,\"Barge I\",\"Barge I\",\"Barge I\",\"Barge I\",null,\"Cutter T\",\"Cutter T\",\"Cutter T\",\"Cutter T\",null,\"Cutter T\",\"Cutter T\",\"Cutter T\",\"Cutter T\",null,\"Cutter T\",\"Cutter T\",\"Cutter T\",\"Cutter T\",null,\"Trench\",\"Trench\",\"Trench\",\"Trench\",null,\"Trench\",\"Trench\",\"Trench\",\"Trench\",null,\"Trench\",\"Trench\",\"Trench\",\"Trench\",null],\"type\":\"scatter\"},{\"connectgaps\":false,\"hoverinfo\":\"y+name\",\"line\":{\"color\":\"rgb(57,66,174)\",\"width\":10},\"mode\":\"lines\",\"name\":\"basic activity:Barge I\",\"x\":[\"1970-01-01T00:00:00\",\"1970-01-01T00:00:00\",\"1970-01-01T00:38:28\",\"1970-01-01T00:38:28\",\"1970-01-01T00:38:28\",\"1970-01-01T04:17:36\",\"1970-01-01T04:17:36\",\"1970-01-01T04:56:04\",\"1970-01-01T04:56:04\",\"1970-01-01T04:56:04\",\"1970-01-01T08:35:56\",\"1970-01-01T08:35:56\",\"1970-01-01T09:14:24\",\"1970-01-01T09:14:24\",\"1970-01-01T09:14:24\"],\"y\":[\"Barge I\",\"Barge I\",\"Barge I\",\"Barge I\",null,\"Barge I\",\"Barge I\",\"Barge I\",\"Barge I\",null,\"Barge I\",\"Barge I\",\"Barge I\",\"Barge I\",null],\"type\":\"scatter\"},{\"connectgaps\":false,\"hoverinfo\":\"y+name\",\"line\":{\"color\":\"rgb(61,70,178)\",\"width\":10},\"mode\":\"lines\",\"name\":\"loading:Barge II\",\"x\":[\"1970-01-01T04:49:00\",\"1970-01-01T04:49:00\",\"1970-01-01T05:30:40\",\"1970-01-01T05:30:40\",\"1970-01-01T05:30:40\",\"1970-01-01T09:40:40\",\"1970-01-01T09:40:40\",\"1970-01-01T10:22:20\",\"1970-01-01T10:22:20\",\"1970-01-01T10:22:20\",\"1970-01-01T14:32:20\",\"1970-01-01T14:32:20\",\"1970-01-01T15:14:00\",\"1970-01-01T15:14:00\",\"1970-01-01T15:14:00\",\"1970-01-01T04:49:00\",\"1970-01-01T04:49:00\",\"1970-01-01T05:30:40\",\"1970-01-01T05:30:40\",\"1970-01-01T05:30:40\",\"1970-01-01T09:40:40\",\"1970-01-01T09:40:40\",\"1970-01-01T10:22:20\",\"1970-01-01T10:22:20\",\"1970-01-01T10:22:20\",\"1970-01-01T14:32:20\",\"1970-01-01T14:32:20\",\"1970-01-01T15:14:00\",\"1970-01-01T15:14:00\",\"1970-01-01T15:14:00\",\"1970-01-01T04:49:00\",\"1970-01-01T04:49:00\",\"1970-01-01T05:30:40\",\"1970-01-01T05:30:40\",\"1970-01-01T05:30:40\",\"1970-01-01T09:40:40\",\"1970-01-01T09:40:40\",\"1970-01-01T10:22:20\",\"1970-01-01T10:22:20\",\"1970-01-01T10:22:20\",\"1970-01-01T14:32:20\",\"1970-01-01T14:32:20\",\"1970-01-01T15:14:00\",\"1970-01-01T15:14:00\",\"1970-01-01T15:14:00\"],\"y\":[\"Barge II\",\"Barge II\",\"Barge II\",\"Barge II\",null,\"Barge II\",\"Barge II\",\"Barge II\",\"Barge II\",null,\"Barge II\",\"Barge II\",\"Barge II\",\"Barge II\",null,\"Cutter T\",\"Cutter T\",\"Cutter T\",\"Cutter T\",null,\"Cutter T\",\"Cutter T\",\"Cutter T\",\"Cutter T\",null,\"Cutter T\",\"Cutter T\",\"Cutter T\",\"Cutter T\",null,\"Trench\",\"Trench\",\"Trench\",\"Trench\",null,\"Trench\",\"Trench\",\"Trench\",\"Trench\",null,\"Trench\",\"Trench\",\"Trench\",\"Trench\",null],\"type\":\"scatter\"},{\"connectgaps\":false,\"hoverinfo\":\"y+name\",\"line\":{\"color\":\"rgb(65,74,182)\",\"width\":10},\"mode\":\"lines\",\"name\":\"sailing full:Barge II\",\"x\":[\"1970-01-01T05:30:40\",\"1970-01-01T05:30:40\",\"1970-01-01T06:18:41\",\"1970-01-01T06:18:41\",\"1970-01-01T06:18:41\",\"1970-01-01T10:22:20\",\"1970-01-01T10:22:20\",\"1970-01-01T11:10:21\",\"1970-01-01T11:10:21\",\"1970-01-01T11:10:21\",\"1970-01-01T15:14:00\",\"1970-01-01T15:14:00\",\"1970-01-01T16:02:01\",\"1970-01-01T16:02:01\",\"1970-01-01T16:02:01\"],\"y\":[\"Barge II\",\"Barge II\",\"Barge II\",\"Barge II\",null,\"Barge II\",\"Barge II\",\"Barge II\",\"Barge II\",null,\"Barge II\",\"Barge II\",\"Barge II\",\"Barge II\",null],\"type\":\"scatter\"},{\"connectgaps\":false,\"hoverinfo\":\"y+name\",\"line\":{\"color\":\"rgb(69,78,186)\",\"width\":10},\"mode\":\"lines\",\"name\":\"sailing empty:Barge II\",\"x\":[\"1970-01-01T00:48:01\",\"1970-01-01T00:48:01\",\"1970-01-01T01:36:02\",\"1970-01-01T01:36:02\",\"1970-01-01T01:36:02\",\"1970-01-01T07:54:43\",\"1970-01-01T07:54:43\",\"1970-01-01T08:42:44\",\"1970-01-01T08:42:44\",\"1970-01-01T08:42:44\",\"1970-01-01T12:46:23\",\"1970-01-01T12:46:23\",\"1970-01-01T13:34:24\",\"1970-01-01T13:34:24\",\"1970-01-01T13:34:24\"],\"y\":[\"Barge II\",\"Barge II\",\"Barge II\",\"Barge II\",null,\"Barge II\",\"Barge II\",\"Barge II\",\"Barge II\",null,\"Barge II\",\"Barge II\",\"Barge II\",\"Barge II\",null],\"type\":\"scatter\"},{\"connectgaps\":false,\"hoverinfo\":\"y+name\",\"line\":{\"color\":\"rgb(73,82,190)\",\"width\":10},\"mode\":\"lines\",\"name\":\"basic activity:Barge II\",\"x\":[\"1970-01-01T00:00:00\",\"1970-01-01T00:00:00\",\"1970-01-01T00:48:01\",\"1970-01-01T00:48:01\",\"1970-01-01T00:48:01\",\"1970-01-01T07:06:42\",\"1970-01-01T07:06:42\",\"1970-01-01T07:54:43\",\"1970-01-01T07:54:43\",\"1970-01-01T07:54:43\",\"1970-01-01T11:58:22\",\"1970-01-01T11:58:22\",\"1970-01-01T12:46:23\",\"1970-01-01T12:46:23\",\"1970-01-01T12:46:23\"],\"y\":[\"Barge II\",\"Barge II\",\"Barge II\",\"Barge II\",null,\"Barge II\",\"Barge II\",\"Barge II\",\"Barge II\",null,\"Barge II\",\"Barge II\",\"Barge II\",\"Barge II\",null],\"type\":\"scatter\"},{\"connectgaps\":false,\"hoverinfo\":\"y+name\",\"line\":{\"color\":\"rgb(77,86,194)\",\"width\":10},\"mode\":\"lines\",\"name\":\"unloading:Barge II\",\"x\":[\"1970-01-01T06:18:41\",\"1970-01-01T06:18:41\",\"1970-01-01T07:06:42\",\"1970-01-01T07:06:42\",\"1970-01-01T07:06:42\",\"1970-01-01T11:10:21\",\"1970-01-01T11:10:21\",\"1970-01-01T11:58:22\",\"1970-01-01T11:58:22\",\"1970-01-01T11:58:22\",\"1970-01-01T16:02:01\",\"1970-01-01T16:02:01\",\"1970-01-01T16:50:02\",\"1970-01-01T16:50:02\",\"1970-01-01T16:50:02\",\"1970-01-01T06:18:41\",\"1970-01-01T06:18:41\",\"1970-01-01T07:06:42\",\"1970-01-01T07:06:42\",\"1970-01-01T07:06:42\",\"1970-01-01T11:10:21\",\"1970-01-01T11:10:21\",\"1970-01-01T11:58:22\",\"1970-01-01T11:58:22\",\"1970-01-01T11:58:22\",\"1970-01-01T16:02:01\",\"1970-01-01T16:02:01\",\"1970-01-01T16:50:02\",\"1970-01-01T16:50:02\",\"1970-01-01T16:50:02\"],\"y\":[\"Barge II\",\"Barge II\",\"Barge II\",\"Barge II\",null,\"Barge II\",\"Barge II\",\"Barge II\",\"Barge II\",null,\"Barge II\",\"Barge II\",\"Barge II\",\"Barge II\",null,\"Reclamation\",\"Reclamation\",\"Reclamation\",\"Reclamation\",null,\"Reclamation\",\"Reclamation\",\"Reclamation\",\"Reclamation\",null,\"Reclamation\",\"Reclamation\",\"Reclamation\",\"Reclamation\",null],\"type\":\"scatter\"},{\"connectgaps\":false,\"hoverinfo\":\"y+name\",\"line\":{\"color\":\"rgb(81,90,198)\",\"width\":10},\"mode\":\"lines\",\"name\":\"sailing full:Barge III\",\"x\":[\"1970-01-01T01:45:40\",\"1970-01-01T01:45:40\",\"1970-01-01T02:21:50\",\"1970-01-01T02:21:50\",\"1970-01-01T02:21:50\",\"1970-01-01T06:04:00\",\"1970-01-01T06:04:00\",\"1970-01-01T06:40:10\",\"1970-01-01T06:40:10\",\"1970-01-01T06:40:10\",\"1970-01-01T09:40:40\",\"1970-01-01T09:40:40\",\"1970-01-01T10:16:50\",\"1970-01-01T10:16:50\",\"1970-01-01T10:16:50\",\"1970-01-01T13:17:20\",\"1970-01-01T13:17:20\",\"1970-01-01T13:53:30\",\"1970-01-01T13:53:30\",\"1970-01-01T13:53:30\"],\"y\":[\"Barge III\",\"Barge III\",\"Barge III\",\"Barge III\",null,\"Barge III\",\"Barge III\",\"Barge III\",\"Barge III\",null,\"Barge III\",\"Barge III\",\"Barge III\",\"Barge III\",null,\"Barge III\",\"Barge III\",\"Barge III\",\"Barge III\",null],\"type\":\"scatter\"},{\"connectgaps\":false,\"hoverinfo\":\"y+name\",\"line\":{\"color\":\"rgb(85,94,202)\",\"width\":10},\"mode\":\"lines\",\"name\":\"sailing empty:Barge III\",\"x\":[\"1970-01-01T00:36:10\",\"1970-01-01T00:36:10\",\"1970-01-01T01:12:20\",\"1970-01-01T01:12:20\",\"1970-01-01T01:12:20\",\"1970-01-01T03:34:10\",\"1970-01-01T03:34:10\",\"1970-01-01T04:10:20\",\"1970-01-01T04:10:20\",\"1970-01-01T04:10:20\",\"1970-01-01T07:52:30\",\"1970-01-01T07:52:30\",\"1970-01-01T08:28:40\",\"1970-01-01T08:28:40\",\"1970-01-01T08:28:40\",\"1970-01-01T11:29:10\",\"1970-01-01T11:29:10\",\"1970-01-01T12:05:20\",\"1970-01-01T12:05:20\",\"1970-01-01T12:05:20\"],\"y\":[\"Barge III\",\"Barge III\",\"Barge III\",\"Barge III\",null,\"Barge III\",\"Barge III\",\"Barge III\",\"Barge III\",null,\"Barge III\",\"Barge III\",\"Barge III\",\"Barge III\",null,\"Barge III\",\"Barge III\",\"Barge III\",\"Barge III\",null],\"type\":\"scatter\"},{\"connectgaps\":false,\"hoverinfo\":\"y+name\",\"line\":{\"color\":\"rgb(89,98,206)\",\"width\":10},\"mode\":\"lines\",\"name\":\"unloading:Barge III\",\"x\":[\"1970-01-01T02:21:50\",\"1970-01-01T02:21:50\",\"1970-01-01T02:58:00\",\"1970-01-01T02:58:00\",\"1970-01-01T02:58:00\",\"1970-01-01T06:40:10\",\"1970-01-01T06:40:10\",\"1970-01-01T07:16:20\",\"1970-01-01T07:16:20\",\"1970-01-01T07:16:20\",\"1970-01-01T10:16:50\",\"1970-01-01T10:16:50\",\"1970-01-01T10:53:00\",\"1970-01-01T10:53:00\",\"1970-01-01T10:53:00\",\"1970-01-01T13:53:30\",\"1970-01-01T13:53:30\",\"1970-01-01T14:29:40\",\"1970-01-01T14:29:40\",\"1970-01-01T14:29:40\",\"1970-01-01T02:21:50\",\"1970-01-01T02:21:50\",\"1970-01-01T02:58:00\",\"1970-01-01T02:58:00\",\"1970-01-01T02:58:00\",\"1970-01-01T06:40:10\",\"1970-01-01T06:40:10\",\"1970-01-01T07:16:20\",\"1970-01-01T07:16:20\",\"1970-01-01T07:16:20\",\"1970-01-01T10:16:50\",\"1970-01-01T10:16:50\",\"1970-01-01T10:53:00\",\"1970-01-01T10:53:00\",\"1970-01-01T10:53:00\",\"1970-01-01T13:53:30\",\"1970-01-01T13:53:30\",\"1970-01-01T14:29:40\",\"1970-01-01T14:29:40\",\"1970-01-01T14:29:40\"],\"y\":[\"Barge III\",\"Barge III\",\"Barge III\",\"Barge III\",null,\"Barge III\",\"Barge III\",\"Barge III\",\"Barge III\",null,\"Barge III\",\"Barge III\",\"Barge III\",\"Barge III\",null,\"Barge III\",\"Barge III\",\"Barge III\",\"Barge III\",null,\"Reclamation\",\"Reclamation\",\"Reclamation\",\"Reclamation\",null,\"Reclamation\",\"Reclamation\",\"Reclamation\",\"Reclamation\",null,\"Reclamation\",\"Reclamation\",\"Reclamation\",\"Reclamation\",null,\"Reclamation\",\"Reclamation\",\"Reclamation\",\"Reclamation\",null],\"type\":\"scatter\"},{\"connectgaps\":false,\"hoverinfo\":\"y+name\",\"line\":{\"color\":\"rgb(93,102,210)\",\"width\":10},\"mode\":\"lines\",\"name\":\"basic activity:Barge III\",\"x\":[\"1970-01-01T00:00:00\",\"1970-01-01T00:00:00\",\"1970-01-01T00:36:10\",\"1970-01-01T00:36:10\",\"1970-01-01T00:36:10\",\"1970-01-01T02:58:00\",\"1970-01-01T02:58:00\",\"1970-01-01T03:34:10\",\"1970-01-01T03:34:10\",\"1970-01-01T03:34:10\",\"1970-01-01T07:16:20\",\"1970-01-01T07:16:20\",\"1970-01-01T07:52:30\",\"1970-01-01T07:52:30\",\"1970-01-01T07:52:30\",\"1970-01-01T10:53:00\",\"1970-01-01T10:53:00\",\"1970-01-01T11:29:10\",\"1970-01-01T11:29:10\",\"1970-01-01T11:29:10\"],\"y\":[\"Barge III\",\"Barge III\",\"Barge III\",\"Barge III\",null,\"Barge III\",\"Barge III\",\"Barge III\",\"Barge III\",null,\"Barge III\",\"Barge III\",\"Barge III\",\"Barge III\",null,\"Barge III\",\"Barge III\",\"Barge III\",\"Barge III\",null],\"type\":\"scatter\"},{\"connectgaps\":false,\"hoverinfo\":\"y+name\",\"line\":{\"color\":\"rgb(97,106,214)\",\"width\":10},\"mode\":\"lines\",\"name\":\"loading:Barge III\",\"x\":[\"1970-01-01T01:12:20\",\"1970-01-01T01:12:20\",\"1970-01-01T01:45:40\",\"1970-01-01T01:45:40\",\"1970-01-01T01:45:40\",\"1970-01-01T05:30:40\",\"1970-01-01T05:30:40\",\"1970-01-01T06:04:00\",\"1970-01-01T06:04:00\",\"1970-01-01T06:04:00\",\"1970-01-01T09:07:20\",\"1970-01-01T09:07:20\",\"1970-01-01T09:40:40\",\"1970-01-01T09:40:40\",\"1970-01-01T09:40:40\",\"1970-01-01T12:44:00\",\"1970-01-01T12:44:00\",\"1970-01-01T13:17:20\",\"1970-01-01T13:17:20\",\"1970-01-01T13:17:20\",\"1970-01-01T01:12:20\",\"1970-01-01T01:12:20\",\"1970-01-01T01:45:40\",\"1970-01-01T01:45:40\",\"1970-01-01T01:45:40\",\"1970-01-01T05:30:40\",\"1970-01-01T05:30:40\",\"1970-01-01T06:04:00\",\"1970-01-01T06:04:00\",\"1970-01-01T06:04:00\",\"1970-01-01T09:07:20\",\"1970-01-01T09:07:20\",\"1970-01-01T09:40:40\",\"1970-01-01T09:40:40\",\"1970-01-01T09:40:40\",\"1970-01-01T12:44:00\",\"1970-01-01T12:44:00\",\"1970-01-01T13:17:20\",\"1970-01-01T13:17:20\",\"1970-01-01T13:17:20\",\"1970-01-01T01:12:20\",\"1970-01-01T01:12:20\",\"1970-01-01T01:45:40\",\"1970-01-01T01:45:40\",\"1970-01-01T01:45:40\",\"1970-01-01T05:30:40\",\"1970-01-01T05:30:40\",\"1970-01-01T06:04:00\",\"1970-01-01T06:04:00\",\"1970-01-01T06:04:00\",\"1970-01-01T09:07:20\",\"1970-01-01T09:07:20\",\"1970-01-01T09:40:40\",\"1970-01-01T09:40:40\",\"1970-01-01T09:40:40\",\"1970-01-01T12:44:00\",\"1970-01-01T12:44:00\",\"1970-01-01T13:17:20\",\"1970-01-01T13:17:20\",\"1970-01-01T13:17:20\"],\"y\":[\"Barge III\",\"Barge III\",\"Barge III\",\"Barge III\",null,\"Barge III\",\"Barge III\",\"Barge III\",\"Barge III\",null,\"Barge III\",\"Barge III\",\"Barge III\",\"Barge III\",null,\"Barge III\",\"Barge III\",\"Barge III\",\"Barge III\",null,\"Cutter T\",\"Cutter T\",\"Cutter T\",\"Cutter T\",null,\"Cutter T\",\"Cutter T\",\"Cutter T\",\"Cutter T\",null,\"Cutter T\",\"Cutter T\",\"Cutter T\",\"Cutter T\",null,\"Cutter T\",\"Cutter T\",\"Cutter T\",\"Cutter T\",null,\"Trench\",\"Trench\",\"Trench\",\"Trench\",null,\"Trench\",\"Trench\",\"Trench\",\"Trench\",null,\"Trench\",\"Trench\",\"Trench\",\"Trench\",null,\"Trench\",\"Trench\",\"Trench\",\"Trench\",null],\"type\":\"scatter\"},{\"connectgaps\":false,\"hoverinfo\":\"y+name\",\"line\":{\"color\":\"rgb(101,110,218)\",\"width\":10},\"mode\":\"lines\",\"name\":\"basic activity:Extra 1\",\"x\":[\"1970-01-01T00:00:00\",\"1970-01-01T00:00:00\",\"1970-01-01T00:40:46\",\"1970-01-01T00:40:46\",\"1970-01-01T00:40:46\",\"1970-01-01T05:28:52\",\"1970-01-01T05:28:52\",\"1970-01-01T06:09:38\",\"1970-01-01T06:09:38\",\"1970-01-01T06:09:38\",\"1970-01-01T09:47:12\",\"1970-01-01T09:47:12\",\"1970-01-01T10:27:58\",\"1970-01-01T10:27:58\",\"1970-01-01T10:27:58\"],\"y\":[\"Extra 1\",\"Extra 1\",\"Extra 1\",\"Extra 1\",null,\"Extra 1\",\"Extra 1\",\"Extra 1\",\"Extra 1\",null,\"Extra 1\",\"Extra 1\",\"Extra 1\",\"Extra 1\",null],\"type\":\"scatter\"},{\"connectgaps\":false,\"hoverinfo\":\"y+name\",\"line\":{\"color\":\"rgb(105,114,222)\",\"width\":10},\"mode\":\"lines\",\"name\":\"loading:Extra 1\",\"x\":[\"1970-01-01T03:34:00\",\"1970-01-01T03:34:00\",\"1970-01-01T04:07:20\",\"1970-01-01T04:07:20\",\"1970-01-01T04:07:20\",\"1970-01-01T07:52:20\",\"1970-01-01T07:52:20\",\"1970-01-01T08:25:40\",\"1970-01-01T08:25:40\",\"1970-01-01T08:25:40\",\"1970-01-01T12:10:40\",\"1970-01-01T12:10:40\",\"1970-01-01T12:44:00\",\"1970-01-01T12:44:00\",\"1970-01-01T12:44:00\",\"1970-01-01T03:34:00\",\"1970-01-01T03:34:00\",\"1970-01-01T04:07:20\",\"1970-01-01T04:07:20\",\"1970-01-01T04:07:20\",\"1970-01-01T07:52:20\",\"1970-01-01T07:52:20\",\"1970-01-01T08:25:40\",\"1970-01-01T08:25:40\",\"1970-01-01T08:25:40\",\"1970-01-01T12:10:40\",\"1970-01-01T12:10:40\",\"1970-01-01T12:44:00\",\"1970-01-01T12:44:00\",\"1970-01-01T12:44:00\",\"1970-01-01T03:34:00\",\"1970-01-01T03:34:00\",\"1970-01-01T04:07:20\",\"1970-01-01T04:07:20\",\"1970-01-01T04:07:20\",\"1970-01-01T07:52:20\",\"1970-01-01T07:52:20\",\"1970-01-01T08:25:40\",\"1970-01-01T08:25:40\",\"1970-01-01T08:25:40\",\"1970-01-01T12:10:40\",\"1970-01-01T12:10:40\",\"1970-01-01T12:44:00\",\"1970-01-01T12:44:00\",\"1970-01-01T12:44:00\"],\"y\":[\"Extra 1\",\"Extra 1\",\"Extra 1\",\"Extra 1\",null,\"Extra 1\",\"Extra 1\",\"Extra 1\",\"Extra 1\",null,\"Extra 1\",\"Extra 1\",\"Extra 1\",\"Extra 1\",null,\"Cutter T\",\"Cutter T\",\"Cutter T\",\"Cutter T\",null,\"Cutter T\",\"Cutter T\",\"Cutter T\",\"Cutter T\",null,\"Cutter T\",\"Cutter T\",\"Cutter T\",\"Cutter T\",null,\"Trench\",\"Trench\",\"Trench\",\"Trench\",null,\"Trench\",\"Trench\",\"Trench\",\"Trench\",null,\"Trench\",\"Trench\",\"Trench\",\"Trench\",null],\"type\":\"scatter\"},{\"connectgaps\":false,\"hoverinfo\":\"y+name\",\"line\":{\"color\":\"rgb(109,118,226)\",\"width\":10},\"mode\":\"lines\",\"name\":\"unloading:Extra 1\",\"x\":[\"1970-01-01T04:48:06\",\"1970-01-01T04:48:06\",\"1970-01-01T05:28:52\",\"1970-01-01T05:28:52\",\"1970-01-01T05:28:52\",\"1970-01-01T09:06:26\",\"1970-01-01T09:06:26\",\"1970-01-01T09:47:12\",\"1970-01-01T09:47:12\",\"1970-01-01T09:47:12\",\"1970-01-01T13:24:46\",\"1970-01-01T13:24:46\",\"1970-01-01T14:05:32\",\"1970-01-01T14:05:32\",\"1970-01-01T14:05:32\",\"1970-01-01T04:48:06\",\"1970-01-01T04:48:06\",\"1970-01-01T05:28:52\",\"1970-01-01T05:28:52\",\"1970-01-01T05:28:52\",\"1970-01-01T09:06:26\",\"1970-01-01T09:06:26\",\"1970-01-01T09:47:12\",\"1970-01-01T09:47:12\",\"1970-01-01T09:47:12\",\"1970-01-01T13:24:46\",\"1970-01-01T13:24:46\",\"1970-01-01T14:05:32\",\"1970-01-01T14:05:32\",\"1970-01-01T14:05:32\"],\"y\":[\"Extra 1\",\"Extra 1\",\"Extra 1\",\"Extra 1\",null,\"Extra 1\",\"Extra 1\",\"Extra 1\",\"Extra 1\",null,\"Extra 1\",\"Extra 1\",\"Extra 1\",\"Extra 1\",null,\"Reclamation\",\"Reclamation\",\"Reclamation\",\"Reclamation\",null,\"Reclamation\",\"Reclamation\",\"Reclamation\",\"Reclamation\",null,\"Reclamation\",\"Reclamation\",\"Reclamation\",\"Reclamation\",null],\"type\":\"scatter\"},{\"connectgaps\":false,\"hoverinfo\":\"y+name\",\"line\":{\"color\":\"rgb(113,122,230)\",\"width\":10},\"mode\":\"lines\",\"name\":\"sailing empty:Extra 1\",\"x\":[\"1970-01-01T00:40:46\",\"1970-01-01T00:40:46\",\"1970-01-01T01:21:32\",\"1970-01-01T01:21:32\",\"1970-01-01T01:21:32\",\"1970-01-01T06:09:38\",\"1970-01-01T06:09:38\",\"1970-01-01T06:50:24\",\"1970-01-01T06:50:24\",\"1970-01-01T06:50:24\",\"1970-01-01T10:27:58\",\"1970-01-01T10:27:58\",\"1970-01-01T11:08:44\",\"1970-01-01T11:08:44\",\"1970-01-01T11:08:44\"],\"y\":[\"Extra 1\",\"Extra 1\",\"Extra 1\",\"Extra 1\",null,\"Extra 1\",\"Extra 1\",\"Extra 1\",\"Extra 1\",null,\"Extra 1\",\"Extra 1\",\"Extra 1\",\"Extra 1\",null],\"type\":\"scatter\"},{\"connectgaps\":false,\"hoverinfo\":\"y+name\",\"line\":{\"color\":\"rgb(117,126,234)\",\"width\":10},\"mode\":\"lines\",\"name\":\"sailing full:Extra 1\",\"x\":[\"1970-01-01T04:07:20\",\"1970-01-01T04:07:20\",\"1970-01-01T04:48:06\",\"1970-01-01T04:48:06\",\"1970-01-01T04:48:06\",\"1970-01-01T08:25:40\",\"1970-01-01T08:25:40\",\"1970-01-01T09:06:26\",\"1970-01-01T09:06:26\",\"1970-01-01T09:06:26\",\"1970-01-01T12:44:00\",\"1970-01-01T12:44:00\",\"1970-01-01T13:24:46\",\"1970-01-01T13:24:46\",\"1970-01-01T13:24:46\"],\"y\":[\"Extra 1\",\"Extra 1\",\"Extra 1\",\"Extra 1\",null,\"Extra 1\",\"Extra 1\",\"Extra 1\",\"Extra 1\",null,\"Extra 1\",\"Extra 1\",\"Extra 1\",\"Extra 1\",null],\"type\":\"scatter\"},{\"connectgaps\":false,\"hoverinfo\":\"y+name\",\"line\":{\"color\":\"rgb(121,130,238)\",\"width\":10},\"mode\":\"lines\",\"name\":\"loading:Barge II\",\"x\":[\"1970-01-01T04:49:00\",\"1970-01-01T04:49:00\",\"1970-01-01T05:30:40\",\"1970-01-01T05:30:40\",\"1970-01-01T05:30:40\",\"1970-01-01T09:40:40\",\"1970-01-01T09:40:40\",\"1970-01-01T10:22:20\",\"1970-01-01T10:22:20\",\"1970-01-01T10:22:20\",\"1970-01-01T14:32:20\",\"1970-01-01T14:32:20\",\"1970-01-01T15:14:00\",\"1970-01-01T15:14:00\",\"1970-01-01T15:14:00\",\"1970-01-01T04:49:00\",\"1970-01-01T04:49:00\",\"1970-01-01T05:30:40\",\"1970-01-01T05:30:40\",\"1970-01-01T05:30:40\",\"1970-01-01T09:40:40\",\"1970-01-01T09:40:40\",\"1970-01-01T10:22:20\",\"1970-01-01T10:22:20\",\"1970-01-01T10:22:20\",\"1970-01-01T14:32:20\",\"1970-01-01T14:32:20\",\"1970-01-01T15:14:00\",\"1970-01-01T15:14:00\",\"1970-01-01T15:14:00\",\"1970-01-01T04:49:00\",\"1970-01-01T04:49:00\",\"1970-01-01T05:30:40\",\"1970-01-01T05:30:40\",\"1970-01-01T05:30:40\",\"1970-01-01T09:40:40\",\"1970-01-01T09:40:40\",\"1970-01-01T10:22:20\",\"1970-01-01T10:22:20\",\"1970-01-01T10:22:20\",\"1970-01-01T14:32:20\",\"1970-01-01T14:32:20\",\"1970-01-01T15:14:00\",\"1970-01-01T15:14:00\",\"1970-01-01T15:14:00\"],\"y\":[\"Barge II\",\"Barge II\",\"Barge II\",\"Barge II\",null,\"Barge II\",\"Barge II\",\"Barge II\",\"Barge II\",null,\"Barge II\",\"Barge II\",\"Barge II\",\"Barge II\",null,\"Cutter T\",\"Cutter T\",\"Cutter T\",\"Cutter T\",null,\"Cutter T\",\"Cutter T\",\"Cutter T\",\"Cutter T\",null,\"Cutter T\",\"Cutter T\",\"Cutter T\",\"Cutter T\",null,\"Trench\",\"Trench\",\"Trench\",\"Trench\",null,\"Trench\",\"Trench\",\"Trench\",\"Trench\",null,\"Trench\",\"Trench\",\"Trench\",\"Trench\",null],\"type\":\"scatter\"},{\"connectgaps\":false,\"hoverinfo\":\"y+name\",\"line\":{\"color\":\"rgb(125,134,242)\",\"width\":10},\"mode\":\"lines\",\"name\":\"loading:Carrier C\",\"x\":[\"1970-01-01T01:45:40\",\"1970-01-01T01:45:40\",\"1970-01-01T02:19:00\",\"1970-01-01T02:19:00\",\"1970-01-01T02:19:00\",\"1970-01-01T06:04:00\",\"1970-01-01T06:04:00\",\"1970-01-01T06:37:20\",\"1970-01-01T06:37:20\",\"1970-01-01T06:37:20\",\"1970-01-01T10:22:20\",\"1970-01-01T10:22:20\",\"1970-01-01T10:55:40\",\"1970-01-01T10:55:40\",\"1970-01-01T10:55:40\",\"1970-01-01T13:59:00\",\"1970-01-01T13:59:00\",\"1970-01-01T14:32:20\",\"1970-01-01T14:32:20\",\"1970-01-01T14:32:20\",\"1970-01-01T01:45:40\",\"1970-01-01T01:45:40\",\"1970-01-01T02:19:00\",\"1970-01-01T02:19:00\",\"1970-01-01T02:19:00\",\"1970-01-01T06:04:00\",\"1970-01-01T06:04:00\",\"1970-01-01T06:37:20\",\"1970-01-01T06:37:20\",\"1970-01-01T06:37:20\",\"1970-01-01T10:22:20\",\"1970-01-01T10:22:20\",\"1970-01-01T10:55:40\",\"1970-01-01T10:55:40\",\"1970-01-01T10:55:40\",\"1970-01-01T13:59:00\",\"1970-01-01T13:59:00\",\"1970-01-01T14:32:20\",\"1970-01-01T14:32:20\",\"1970-01-01T14:32:20\",\"1970-01-01T01:45:40\",\"1970-01-01T01:45:40\",\"1970-01-01T02:19:00\",\"1970-01-01T02:19:00\",\"1970-01-01T02:19:00\",\"1970-01-01T06:04:00\",\"1970-01-01T06:04:00\",\"1970-01-01T06:37:20\",\"1970-01-01T06:37:20\",\"1970-01-01T06:37:20\",\"1970-01-01T10:22:20\",\"1970-01-01T10:22:20\",\"1970-01-01T10:55:40\",\"1970-01-01T10:55:40\",\"1970-01-01T10:55:40\",\"1970-01-01T13:59:00\",\"1970-01-01T13:59:00\",\"1970-01-01T14:32:20\",\"1970-01-01T14:32:20\",\"1970-01-01T14:32:20\"],\"y\":[\"Carrier C\",\"Carrier C\",\"Carrier C\",\"Carrier C\",null,\"Carrier C\",\"Carrier C\",\"Carrier C\",\"Carrier C\",null,\"Carrier C\",\"Carrier C\",\"Carrier C\",\"Carrier C\",null,\"Carrier C\",\"Carrier C\",\"Carrier C\",\"Carrier C\",null,\"Cutter T\",\"Cutter T\",\"Cutter T\",\"Cutter T\",null,\"Cutter T\",\"Cutter T\",\"Cutter T\",\"Cutter T\",null,\"Cutter T\",\"Cutter T\",\"Cutter T\",\"Cutter T\",null,\"Cutter T\",\"Cutter T\",\"Cutter T\",\"Cutter T\",null,\"Trench\",\"Trench\",\"Trench\",\"Trench\",null,\"Trench\",\"Trench\",\"Trench\",\"Trench\",null,\"Trench\",\"Trench\",\"Trench\",\"Trench\",null,\"Trench\",\"Trench\",\"Trench\",\"Trench\",null],\"type\":\"scatter\"},{\"connectgaps\":false,\"hoverinfo\":\"y+name\",\"line\":{\"color\":\"rgb(129,138,246)\",\"width\":10},\"mode\":\"lines\",\"name\":\"loading:Carrier A\",\"x\":[\"1970-01-01T04:07:20\",\"1970-01-01T04:07:20\",\"1970-01-01T04:49:00\",\"1970-01-01T04:49:00\",\"1970-01-01T04:49:00\",\"1970-01-01T08:25:40\",\"1970-01-01T08:25:40\",\"1970-01-01T09:07:20\",\"1970-01-01T09:07:20\",\"1970-01-01T09:07:20\",\"1970-01-01T13:17:20\",\"1970-01-01T13:17:20\",\"1970-01-01T13:59:00\",\"1970-01-01T13:59:00\",\"1970-01-01T13:59:00\",\"1970-01-01T04:07:20\",\"1970-01-01T04:07:20\",\"1970-01-01T04:49:00\",\"1970-01-01T04:49:00\",\"1970-01-01T04:49:00\",\"1970-01-01T08:25:40\",\"1970-01-01T08:25:40\",\"1970-01-01T09:07:20\",\"1970-01-01T09:07:20\",\"1970-01-01T09:07:20\",\"1970-01-01T13:17:20\",\"1970-01-01T13:17:20\",\"1970-01-01T13:59:00\",\"1970-01-01T13:59:00\",\"1970-01-01T13:59:00\",\"1970-01-01T04:07:20\",\"1970-01-01T04:07:20\",\"1970-01-01T04:49:00\",\"1970-01-01T04:49:00\",\"1970-01-01T04:49:00\",\"1970-01-01T08:25:40\",\"1970-01-01T08:25:40\",\"1970-01-01T09:07:20\",\"1970-01-01T09:07:20\",\"1970-01-01T09:07:20\",\"1970-01-01T13:17:20\",\"1970-01-01T13:17:20\",\"1970-01-01T13:59:00\",\"1970-01-01T13:59:00\",\"1970-01-01T13:59:00\"],\"y\":[\"Carrier A\",\"Carrier A\",\"Carrier A\",\"Carrier A\",null,\"Carrier A\",\"Carrier A\",\"Carrier A\",\"Carrier A\",null,\"Carrier A\",\"Carrier A\",\"Carrier A\",\"Carrier A\",null,\"Cutter T\",\"Cutter T\",\"Cutter T\",\"Cutter T\",null,\"Cutter T\",\"Cutter T\",\"Cutter T\",\"Cutter T\",null,\"Cutter T\",\"Cutter T\",\"Cutter T\",\"Cutter T\",null,\"Trench\",\"Trench\",\"Trench\",\"Trench\",null,\"Trench\",\"Trench\",\"Trench\",\"Trench\",null,\"Trench\",\"Trench\",\"Trench\",\"Trench\",null],\"type\":\"scatter\"},{\"connectgaps\":false,\"hoverinfo\":\"y+name\",\"line\":{\"color\":\"rgb(133,142,250)\",\"width\":10},\"mode\":\"lines\",\"name\":\"loading:Barge I\",\"x\":[\"1970-01-01T02:19:00\",\"1970-01-01T02:19:00\",\"1970-01-01T03:00:40\",\"1970-01-01T03:00:40\",\"1970-01-01T03:00:40\",\"1970-01-01T06:37:20\",\"1970-01-01T06:37:20\",\"1970-01-01T07:19:00\",\"1970-01-01T07:19:00\",\"1970-01-01T07:19:00\",\"1970-01-01T10:55:40\",\"1970-01-01T10:55:40\",\"1970-01-01T11:37:20\",\"1970-01-01T11:37:20\",\"1970-01-01T11:37:20\",\"1970-01-01T02:19:00\",\"1970-01-01T02:19:00\",\"1970-01-01T03:00:40\",\"1970-01-01T03:00:40\",\"1970-01-01T03:00:40\",\"1970-01-01T06:37:20\",\"1970-01-01T06:37:20\",\"1970-01-01T07:19:00\",\"1970-01-01T07:19:00\",\"1970-01-01T07:19:00\",\"1970-01-01T10:55:40\",\"1970-01-01T10:55:40\",\"1970-01-01T11:37:20\",\"1970-01-01T11:37:20\",\"1970-01-01T11:37:20\",\"1970-01-01T02:19:00\",\"1970-01-01T02:19:00\",\"1970-01-01T03:00:40\",\"1970-01-01T03:00:40\",\"1970-01-01T03:00:40\",\"1970-01-01T06:37:20\",\"1970-01-01T06:37:20\",\"1970-01-01T07:19:00\",\"1970-01-01T07:19:00\",\"1970-01-01T07:19:00\",\"1970-01-01T10:55:40\",\"1970-01-01T10:55:40\",\"1970-01-01T11:37:20\",\"1970-01-01T11:37:20\",\"1970-01-01T11:37:20\"],\"y\":[\"Barge I\",\"Barge I\",\"Barge I\",\"Barge I\",null,\"Barge I\",\"Barge I\",\"Barge I\",\"Barge I\",null,\"Barge I\",\"Barge I\",\"Barge I\",\"Barge I\",null,\"Cutter T\",\"Cutter T\",\"Cutter T\",\"Cutter T\",null,\"Cutter T\",\"Cutter T\",\"Cutter T\",\"Cutter T\",null,\"Cutter T\",\"Cutter T\",\"Cutter T\",\"Cutter T\",null,\"Trench\",\"Trench\",\"Trench\",\"Trench\",null,\"Trench\",\"Trench\",\"Trench\",\"Trench\",null,\"Trench\",\"Trench\",\"Trench\",\"Trench\",null],\"type\":\"scatter\"},{\"connectgaps\":false,\"hoverinfo\":\"y+name\",\"line\":{\"color\":\"rgb(137,146,254)\",\"width\":10},\"mode\":\"lines\",\"name\":\"loading:Barge III\",\"x\":[\"1970-01-01T01:12:20\",\"1970-01-01T01:12:20\",\"1970-01-01T01:45:40\",\"1970-01-01T01:45:40\",\"1970-01-01T01:45:40\",\"1970-01-01T05:30:40\",\"1970-01-01T05:30:40\",\"1970-01-01T06:04:00\",\"1970-01-01T06:04:00\",\"1970-01-01T06:04:00\",\"1970-01-01T09:07:20\",\"1970-01-01T09:07:20\",\"1970-01-01T09:40:40\",\"1970-01-01T09:40:40\",\"1970-01-01T09:40:40\",\"1970-01-01T12:44:00\",\"1970-01-01T12:44:00\",\"1970-01-01T13:17:20\",\"1970-01-01T13:17:20\",\"1970-01-01T13:17:20\",\"1970-01-01T01:12:20\",\"1970-01-01T01:12:20\",\"1970-01-01T01:45:40\",\"1970-01-01T01:45:40\",\"1970-01-01T01:45:40\",\"1970-01-01T05:30:40\",\"1970-01-01T05:30:40\",\"1970-01-01T06:04:00\",\"1970-01-01T06:04:00\",\"1970-01-01T06:04:00\",\"1970-01-01T09:07:20\",\"1970-01-01T09:07:20\",\"1970-01-01T09:40:40\",\"1970-01-01T09:40:40\",\"1970-01-01T09:40:40\",\"1970-01-01T12:44:00\",\"1970-01-01T12:44:00\",\"1970-01-01T13:17:20\",\"1970-01-01T13:17:20\",\"1970-01-01T13:17:20\",\"1970-01-01T01:12:20\",\"1970-01-01T01:12:20\",\"1970-01-01T01:45:40\",\"1970-01-01T01:45:40\",\"1970-01-01T01:45:40\",\"1970-01-01T05:30:40\",\"1970-01-01T05:30:40\",\"1970-01-01T06:04:00\",\"1970-01-01T06:04:00\",\"1970-01-01T06:04:00\",\"1970-01-01T09:07:20\",\"1970-01-01T09:07:20\",\"1970-01-01T09:40:40\",\"1970-01-01T09:40:40\",\"1970-01-01T09:40:40\",\"1970-01-01T12:44:00\",\"1970-01-01T12:44:00\",\"1970-01-01T13:17:20\",\"1970-01-01T13:17:20\",\"1970-01-01T13:17:20\"],\"y\":[\"Barge III\",\"Barge III\",\"Barge III\",\"Barge III\",null,\"Barge III\",\"Barge III\",\"Barge III\",\"Barge III\",null,\"Barge III\",\"Barge III\",\"Barge III\",\"Barge III\",null,\"Barge III\",\"Barge III\",\"Barge III\",\"Barge III\",null,\"Cutter T\",\"Cutter T\",\"Cutter T\",\"Cutter T\",null,\"Cutter T\",\"Cutter T\",\"Cutter T\",\"Cutter T\",null,\"Cutter T\",\"Cutter T\",\"Cutter T\",\"Cutter T\",null,\"Cutter T\",\"Cutter T\",\"Cutter T\",\"Cutter T\",null,\"Trench\",\"Trench\",\"Trench\",\"Trench\",null,\"Trench\",\"Trench\",\"Trench\",\"Trench\",null,\"Trench\",\"Trench\",\"Trench\",\"Trench\",null,\"Trench\",\"Trench\",\"Trench\",\"Trench\",null],\"type\":\"scatter\"},{\"connectgaps\":false,\"hoverinfo\":\"y+name\",\"line\":{\"color\":\"rgb(141,150,2)\",\"width\":10},\"mode\":\"lines\",\"name\":\"loading:Extra 1\",\"x\":[\"1970-01-01T03:34:00\",\"1970-01-01T03:34:00\",\"1970-01-01T04:07:20\",\"1970-01-01T04:07:20\",\"1970-01-01T04:07:20\",\"1970-01-01T07:52:20\",\"1970-01-01T07:52:20\",\"1970-01-01T08:25:40\",\"1970-01-01T08:25:40\",\"1970-01-01T08:25:40\",\"1970-01-01T12:10:40\",\"1970-01-01T12:10:40\",\"1970-01-01T12:44:00\",\"1970-01-01T12:44:00\",\"1970-01-01T12:44:00\",\"1970-01-01T03:34:00\",\"1970-01-01T03:34:00\",\"1970-01-01T04:07:20\",\"1970-01-01T04:07:20\",\"1970-01-01T04:07:20\",\"1970-01-01T07:52:20\",\"1970-01-01T07:52:20\",\"1970-01-01T08:25:40\",\"1970-01-01T08:25:40\",\"1970-01-01T08:25:40\",\"1970-01-01T12:10:40\",\"1970-01-01T12:10:40\",\"1970-01-01T12:44:00\",\"1970-01-01T12:44:00\",\"1970-01-01T12:44:00\",\"1970-01-01T03:34:00\",\"1970-01-01T03:34:00\",\"1970-01-01T04:07:20\",\"1970-01-01T04:07:20\",\"1970-01-01T04:07:20\",\"1970-01-01T07:52:20\",\"1970-01-01T07:52:20\",\"1970-01-01T08:25:40\",\"1970-01-01T08:25:40\",\"1970-01-01T08:25:40\",\"1970-01-01T12:10:40\",\"1970-01-01T12:10:40\",\"1970-01-01T12:44:00\",\"1970-01-01T12:44:00\",\"1970-01-01T12:44:00\"],\"y\":[\"Extra 1\",\"Extra 1\",\"Extra 1\",\"Extra 1\",null,\"Extra 1\",\"Extra 1\",\"Extra 1\",\"Extra 1\",null,\"Extra 1\",\"Extra 1\",\"Extra 1\",\"Extra 1\",null,\"Cutter T\",\"Cutter T\",\"Cutter T\",\"Cutter T\",null,\"Cutter T\",\"Cutter T\",\"Cutter T\",\"Cutter T\",null,\"Cutter T\",\"Cutter T\",\"Cutter T\",\"Cutter T\",null,\"Trench\",\"Trench\",\"Trench\",\"Trench\",null,\"Trench\",\"Trench\",\"Trench\",\"Trench\",null,\"Trench\",\"Trench\",\"Trench\",\"Trench\",null],\"type\":\"scatter\"},{\"connectgaps\":false,\"hoverinfo\":\"y+name\",\"line\":{\"color\":\"rgb(145,154,6)\",\"width\":10},\"mode\":\"lines\",\"name\":\"loading:Carrier B\",\"x\":[\"1970-01-01T03:00:40\",\"1970-01-01T03:00:40\",\"1970-01-01T03:34:00\",\"1970-01-01T03:34:00\",\"1970-01-01T03:34:00\",\"1970-01-01T07:19:00\",\"1970-01-01T07:19:00\",\"1970-01-01T07:52:20\",\"1970-01-01T07:52:20\",\"1970-01-01T07:52:20\",\"1970-01-01T11:37:20\",\"1970-01-01T11:37:20\",\"1970-01-01T12:10:40\",\"1970-01-01T12:10:40\",\"1970-01-01T12:10:40\",\"1970-01-01T03:00:40\",\"1970-01-01T03:00:40\",\"1970-01-01T03:34:00\",\"1970-01-01T03:34:00\",\"1970-01-01T03:34:00\",\"1970-01-01T07:19:00\",\"1970-01-01T07:19:00\",\"1970-01-01T07:52:20\",\"1970-01-01T07:52:20\",\"1970-01-01T07:52:20\",\"1970-01-01T11:37:20\",\"1970-01-01T11:37:20\",\"1970-01-01T12:10:40\",\"1970-01-01T12:10:40\",\"1970-01-01T12:10:40\",\"1970-01-01T03:00:40\",\"1970-01-01T03:00:40\",\"1970-01-01T03:34:00\",\"1970-01-01T03:34:00\",\"1970-01-01T03:34:00\",\"1970-01-01T07:19:00\",\"1970-01-01T07:19:00\",\"1970-01-01T07:52:20\",\"1970-01-01T07:52:20\",\"1970-01-01T07:52:20\",\"1970-01-01T11:37:20\",\"1970-01-01T11:37:20\",\"1970-01-01T12:10:40\",\"1970-01-01T12:10:40\",\"1970-01-01T12:10:40\"],\"y\":[\"Carrier B\",\"Carrier B\",\"Carrier B\",\"Carrier B\",null,\"Carrier B\",\"Carrier B\",\"Carrier B\",\"Carrier B\",null,\"Carrier B\",\"Carrier B\",\"Carrier B\",\"Carrier B\",null,\"Cutter T\",\"Cutter T\",\"Cutter T\",\"Cutter T\",null,\"Cutter T\",\"Cutter T\",\"Cutter T\",\"Cutter T\",null,\"Cutter T\",\"Cutter T\",\"Cutter T\",\"Cutter T\",null,\"Trench\",\"Trench\",\"Trench\",\"Trench\",null,\"Trench\",\"Trench\",\"Trench\",\"Trench\",null,\"Trench\",\"Trench\",\"Trench\",\"Trench\",null],\"type\":\"scatter\"},{\"connectgaps\":false,\"hoverinfo\":\"y+name\",\"line\":{\"color\":\"rgb(149,158,10)\",\"width\":10},\"mode\":\"lines\",\"name\":\"loading:Barge II\",\"x\":[\"1970-01-01T04:49:00\",\"1970-01-01T04:49:00\",\"1970-01-01T05:30:40\",\"1970-01-01T05:30:40\",\"1970-01-01T05:30:40\",\"1970-01-01T09:40:40\",\"1970-01-01T09:40:40\",\"1970-01-01T10:22:20\",\"1970-01-01T10:22:20\",\"1970-01-01T10:22:20\",\"1970-01-01T14:32:20\",\"1970-01-01T14:32:20\",\"1970-01-01T15:14:00\",\"1970-01-01T15:14:00\",\"1970-01-01T15:14:00\",\"1970-01-01T04:49:00\",\"1970-01-01T04:49:00\",\"1970-01-01T05:30:40\",\"1970-01-01T05:30:40\",\"1970-01-01T05:30:40\",\"1970-01-01T09:40:40\",\"1970-01-01T09:40:40\",\"1970-01-01T10:22:20\",\"1970-01-01T10:22:20\",\"1970-01-01T10:22:20\",\"1970-01-01T14:32:20\",\"1970-01-01T14:32:20\",\"1970-01-01T15:14:00\",\"1970-01-01T15:14:00\",\"1970-01-01T15:14:00\",\"1970-01-01T04:49:00\",\"1970-01-01T04:49:00\",\"1970-01-01T05:30:40\",\"1970-01-01T05:30:40\",\"1970-01-01T05:30:40\",\"1970-01-01T09:40:40\",\"1970-01-01T09:40:40\",\"1970-01-01T10:22:20\",\"1970-01-01T10:22:20\",\"1970-01-01T10:22:20\",\"1970-01-01T14:32:20\",\"1970-01-01T14:32:20\",\"1970-01-01T15:14:00\",\"1970-01-01T15:14:00\",\"1970-01-01T15:14:00\"],\"y\":[\"Barge II\",\"Barge II\",\"Barge II\",\"Barge II\",null,\"Barge II\",\"Barge II\",\"Barge II\",\"Barge II\",null,\"Barge II\",\"Barge II\",\"Barge II\",\"Barge II\",null,\"Cutter T\",\"Cutter T\",\"Cutter T\",\"Cutter T\",null,\"Cutter T\",\"Cutter T\",\"Cutter T\",\"Cutter T\",null,\"Cutter T\",\"Cutter T\",\"Cutter T\",\"Cutter T\",null,\"Trench\",\"Trench\",\"Trench\",\"Trench\",null,\"Trench\",\"Trench\",\"Trench\",\"Trench\",null,\"Trench\",\"Trench\",\"Trench\",\"Trench\",null],\"type\":\"scatter\"},{\"connectgaps\":false,\"hoverinfo\":\"y+name\",\"line\":{\"color\":\"rgb(153,162,14)\",\"width\":10},\"mode\":\"lines\",\"name\":\"loading:Carrier C\",\"x\":[\"1970-01-01T01:45:40\",\"1970-01-01T01:45:40\",\"1970-01-01T02:19:00\",\"1970-01-01T02:19:00\",\"1970-01-01T02:19:00\",\"1970-01-01T06:04:00\",\"1970-01-01T06:04:00\",\"1970-01-01T06:37:20\",\"1970-01-01T06:37:20\",\"1970-01-01T06:37:20\",\"1970-01-01T10:22:20\",\"1970-01-01T10:22:20\",\"1970-01-01T10:55:40\",\"1970-01-01T10:55:40\",\"1970-01-01T10:55:40\",\"1970-01-01T13:59:00\",\"1970-01-01T13:59:00\",\"1970-01-01T14:32:20\",\"1970-01-01T14:32:20\",\"1970-01-01T14:32:20\",\"1970-01-01T01:45:40\",\"1970-01-01T01:45:40\",\"1970-01-01T02:19:00\",\"1970-01-01T02:19:00\",\"1970-01-01T02:19:00\",\"1970-01-01T06:04:00\",\"1970-01-01T06:04:00\",\"1970-01-01T06:37:20\",\"1970-01-01T06:37:20\",\"1970-01-01T06:37:20\",\"1970-01-01T10:22:20\",\"1970-01-01T10:22:20\",\"1970-01-01T10:55:40\",\"1970-01-01T10:55:40\",\"1970-01-01T10:55:40\",\"1970-01-01T13:59:00\",\"1970-01-01T13:59:00\",\"1970-01-01T14:32:20\",\"1970-01-01T14:32:20\",\"1970-01-01T14:32:20\",\"1970-01-01T01:45:40\",\"1970-01-01T01:45:40\",\"1970-01-01T02:19:00\",\"1970-01-01T02:19:00\",\"1970-01-01T02:19:00\",\"1970-01-01T06:04:00\",\"1970-01-01T06:04:00\",\"1970-01-01T06:37:20\",\"1970-01-01T06:37:20\",\"1970-01-01T06:37:20\",\"1970-01-01T10:22:20\",\"1970-01-01T10:22:20\",\"1970-01-01T10:55:40\",\"1970-01-01T10:55:40\",\"1970-01-01T10:55:40\",\"1970-01-01T13:59:00\",\"1970-01-01T13:59:00\",\"1970-01-01T14:32:20\",\"1970-01-01T14:32:20\",\"1970-01-01T14:32:20\"],\"y\":[\"Carrier C\",\"Carrier C\",\"Carrier C\",\"Carrier C\",null,\"Carrier C\",\"Carrier C\",\"Carrier C\",\"Carrier C\",null,\"Carrier C\",\"Carrier C\",\"Carrier C\",\"Carrier C\",null,\"Carrier C\",\"Carrier C\",\"Carrier C\",\"Carrier C\",null,\"Cutter T\",\"Cutter T\",\"Cutter T\",\"Cutter T\",null,\"Cutter T\",\"Cutter T\",\"Cutter T\",\"Cutter T\",null,\"Cutter T\",\"Cutter T\",\"Cutter T\",\"Cutter T\",null,\"Cutter T\",\"Cutter T\",\"Cutter T\",\"Cutter T\",null,\"Trench\",\"Trench\",\"Trench\",\"Trench\",null,\"Trench\",\"Trench\",\"Trench\",\"Trench\",null,\"Trench\",\"Trench\",\"Trench\",\"Trench\",null,\"Trench\",\"Trench\",\"Trench\",\"Trench\",null],\"type\":\"scatter\"},{\"connectgaps\":false,\"hoverinfo\":\"y+name\",\"line\":{\"color\":\"rgb(157,166,18)\",\"width\":10},\"mode\":\"lines\",\"name\":\"loading:Carrier A\",\"x\":[\"1970-01-01T04:07:20\",\"1970-01-01T04:07:20\",\"1970-01-01T04:49:00\",\"1970-01-01T04:49:00\",\"1970-01-01T04:49:00\",\"1970-01-01T08:25:40\",\"1970-01-01T08:25:40\",\"1970-01-01T09:07:20\",\"1970-01-01T09:07:20\",\"1970-01-01T09:07:20\",\"1970-01-01T13:17:20\",\"1970-01-01T13:17:20\",\"1970-01-01T13:59:00\",\"1970-01-01T13:59:00\",\"1970-01-01T13:59:00\",\"1970-01-01T04:07:20\",\"1970-01-01T04:07:20\",\"1970-01-01T04:49:00\",\"1970-01-01T04:49:00\",\"1970-01-01T04:49:00\",\"1970-01-01T08:25:40\",\"1970-01-01T08:25:40\",\"1970-01-01T09:07:20\",\"1970-01-01T09:07:20\",\"1970-01-01T09:07:20\",\"1970-01-01T13:17:20\",\"1970-01-01T13:17:20\",\"1970-01-01T13:59:00\",\"1970-01-01T13:59:00\",\"1970-01-01T13:59:00\",\"1970-01-01T04:07:20\",\"1970-01-01T04:07:20\",\"1970-01-01T04:49:00\",\"1970-01-01T04:49:00\",\"1970-01-01T04:49:00\",\"1970-01-01T08:25:40\",\"1970-01-01T08:25:40\",\"1970-01-01T09:07:20\",\"1970-01-01T09:07:20\",\"1970-01-01T09:07:20\",\"1970-01-01T13:17:20\",\"1970-01-01T13:17:20\",\"1970-01-01T13:59:00\",\"1970-01-01T13:59:00\",\"1970-01-01T13:59:00\"],\"y\":[\"Carrier A\",\"Carrier A\",\"Carrier A\",\"Carrier A\",null,\"Carrier A\",\"Carrier A\",\"Carrier A\",\"Carrier A\",null,\"Carrier A\",\"Carrier A\",\"Carrier A\",\"Carrier A\",null,\"Cutter T\",\"Cutter T\",\"Cutter T\",\"Cutter T\",null,\"Cutter T\",\"Cutter T\",\"Cutter T\",\"Cutter T\",null,\"Cutter T\",\"Cutter T\",\"Cutter T\",\"Cutter T\",null,\"Trench\",\"Trench\",\"Trench\",\"Trench\",null,\"Trench\",\"Trench\",\"Trench\",\"Trench\",null,\"Trench\",\"Trench\",\"Trench\",\"Trench\",null],\"type\":\"scatter\"},{\"connectgaps\":false,\"hoverinfo\":\"y+name\",\"line\":{\"color\":\"rgb(161,170,22)\",\"width\":10},\"mode\":\"lines\",\"name\":\"loading:Barge I\",\"x\":[\"1970-01-01T02:19:00\",\"1970-01-01T02:19:00\",\"1970-01-01T03:00:40\",\"1970-01-01T03:00:40\",\"1970-01-01T03:00:40\",\"1970-01-01T06:37:20\",\"1970-01-01T06:37:20\",\"1970-01-01T07:19:00\",\"1970-01-01T07:19:00\",\"1970-01-01T07:19:00\",\"1970-01-01T10:55:40\",\"1970-01-01T10:55:40\",\"1970-01-01T11:37:20\",\"1970-01-01T11:37:20\",\"1970-01-01T11:37:20\",\"1970-01-01T02:19:00\",\"1970-01-01T02:19:00\",\"1970-01-01T03:00:40\",\"1970-01-01T03:00:40\",\"1970-01-01T03:00:40\",\"1970-01-01T06:37:20\",\"1970-01-01T06:37:20\",\"1970-01-01T07:19:00\",\"1970-01-01T07:19:00\",\"1970-01-01T07:19:00\",\"1970-01-01T10:55:40\",\"1970-01-01T10:55:40\",\"1970-01-01T11:37:20\",\"1970-01-01T11:37:20\",\"1970-01-01T11:37:20\",\"1970-01-01T02:19:00\",\"1970-01-01T02:19:00\",\"1970-01-01T03:00:40\",\"1970-01-01T03:00:40\",\"1970-01-01T03:00:40\",\"1970-01-01T06:37:20\",\"1970-01-01T06:37:20\",\"1970-01-01T07:19:00\",\"1970-01-01T07:19:00\",\"1970-01-01T07:19:00\",\"1970-01-01T10:55:40\",\"1970-01-01T10:55:40\",\"1970-01-01T11:37:20\",\"1970-01-01T11:37:20\",\"1970-01-01T11:37:20\"],\"y\":[\"Barge I\",\"Barge I\",\"Barge I\",\"Barge I\",null,\"Barge I\",\"Barge I\",\"Barge I\",\"Barge I\",null,\"Barge I\",\"Barge I\",\"Barge I\",\"Barge I\",null,\"Cutter T\",\"Cutter T\",\"Cutter T\",\"Cutter T\",null,\"Cutter T\",\"Cutter T\",\"Cutter T\",\"Cutter T\",null,\"Cutter T\",\"Cutter T\",\"Cutter T\",\"Cutter T\",null,\"Trench\",\"Trench\",\"Trench\",\"Trench\",null,\"Trench\",\"Trench\",\"Trench\",\"Trench\",null,\"Trench\",\"Trench\",\"Trench\",\"Trench\",null],\"type\":\"scatter\"},{\"connectgaps\":false,\"hoverinfo\":\"y+name\",\"line\":{\"color\":\"rgb(165,174,26)\",\"width\":10},\"mode\":\"lines\",\"name\":\"loading:Barge III\",\"x\":[\"1970-01-01T01:12:20\",\"1970-01-01T01:12:20\",\"1970-01-01T01:45:40\",\"1970-01-01T01:45:40\",\"1970-01-01T01:45:40\",\"1970-01-01T05:30:40\",\"1970-01-01T05:30:40\",\"1970-01-01T06:04:00\",\"1970-01-01T06:04:00\",\"1970-01-01T06:04:00\",\"1970-01-01T09:07:20\",\"1970-01-01T09:07:20\",\"1970-01-01T09:40:40\",\"1970-01-01T09:40:40\",\"1970-01-01T09:40:40\",\"1970-01-01T12:44:00\",\"1970-01-01T12:44:00\",\"1970-01-01T13:17:20\",\"1970-01-01T13:17:20\",\"1970-01-01T13:17:20\",\"1970-01-01T01:12:20\",\"1970-01-01T01:12:20\",\"1970-01-01T01:45:40\",\"1970-01-01T01:45:40\",\"1970-01-01T01:45:40\",\"1970-01-01T05:30:40\",\"1970-01-01T05:30:40\",\"1970-01-01T06:04:00\",\"1970-01-01T06:04:00\",\"1970-01-01T06:04:00\",\"1970-01-01T09:07:20\",\"1970-01-01T09:07:20\",\"1970-01-01T09:40:40\",\"1970-01-01T09:40:40\",\"1970-01-01T09:40:40\",\"1970-01-01T12:44:00\",\"1970-01-01T12:44:00\",\"1970-01-01T13:17:20\",\"1970-01-01T13:17:20\",\"1970-01-01T13:17:20\",\"1970-01-01T01:12:20\",\"1970-01-01T01:12:20\",\"1970-01-01T01:45:40\",\"1970-01-01T01:45:40\",\"1970-01-01T01:45:40\",\"1970-01-01T05:30:40\",\"1970-01-01T05:30:40\",\"1970-01-01T06:04:00\",\"1970-01-01T06:04:00\",\"1970-01-01T06:04:00\",\"1970-01-01T09:07:20\",\"1970-01-01T09:07:20\",\"1970-01-01T09:40:40\",\"1970-01-01T09:40:40\",\"1970-01-01T09:40:40\",\"1970-01-01T12:44:00\",\"1970-01-01T12:44:00\",\"1970-01-01T13:17:20\",\"1970-01-01T13:17:20\",\"1970-01-01T13:17:20\"],\"y\":[\"Barge III\",\"Barge III\",\"Barge III\",\"Barge III\",null,\"Barge III\",\"Barge III\",\"Barge III\",\"Barge III\",null,\"Barge III\",\"Barge III\",\"Barge III\",\"Barge III\",null,\"Barge III\",\"Barge III\",\"Barge III\",\"Barge III\",null,\"Cutter T\",\"Cutter T\",\"Cutter T\",\"Cutter T\",null,\"Cutter T\",\"Cutter T\",\"Cutter T\",\"Cutter T\",null,\"Cutter T\",\"Cutter T\",\"Cutter T\",\"Cutter T\",null,\"Cutter T\",\"Cutter T\",\"Cutter T\",\"Cutter T\",null,\"Trench\",\"Trench\",\"Trench\",\"Trench\",null,\"Trench\",\"Trench\",\"Trench\",\"Trench\",null,\"Trench\",\"Trench\",\"Trench\",\"Trench\",null,\"Trench\",\"Trench\",\"Trench\",\"Trench\",null],\"type\":\"scatter\"},{\"connectgaps\":false,\"hoverinfo\":\"y+name\",\"line\":{\"color\":\"rgb(169,178,30)\",\"width\":10},\"mode\":\"lines\",\"name\":\"loading:Extra 1\",\"x\":[\"1970-01-01T03:34:00\",\"1970-01-01T03:34:00\",\"1970-01-01T04:07:20\",\"1970-01-01T04:07:20\",\"1970-01-01T04:07:20\",\"1970-01-01T07:52:20\",\"1970-01-01T07:52:20\",\"1970-01-01T08:25:40\",\"1970-01-01T08:25:40\",\"1970-01-01T08:25:40\",\"1970-01-01T12:10:40\",\"1970-01-01T12:10:40\",\"1970-01-01T12:44:00\",\"1970-01-01T12:44:00\",\"1970-01-01T12:44:00\",\"1970-01-01T03:34:00\",\"1970-01-01T03:34:00\",\"1970-01-01T04:07:20\",\"1970-01-01T04:07:20\",\"1970-01-01T04:07:20\",\"1970-01-01T07:52:20\",\"1970-01-01T07:52:20\",\"1970-01-01T08:25:40\",\"1970-01-01T08:25:40\",\"1970-01-01T08:25:40\",\"1970-01-01T12:10:40\",\"1970-01-01T12:10:40\",\"1970-01-01T12:44:00\",\"1970-01-01T12:44:00\",\"1970-01-01T12:44:00\",\"1970-01-01T03:34:00\",\"1970-01-01T03:34:00\",\"1970-01-01T04:07:20\",\"1970-01-01T04:07:20\",\"1970-01-01T04:07:20\",\"1970-01-01T07:52:20\",\"1970-01-01T07:52:20\",\"1970-01-01T08:25:40\",\"1970-01-01T08:25:40\",\"1970-01-01T08:25:40\",\"1970-01-01T12:10:40\",\"1970-01-01T12:10:40\",\"1970-01-01T12:44:00\",\"1970-01-01T12:44:00\",\"1970-01-01T12:44:00\"],\"y\":[\"Extra 1\",\"Extra 1\",\"Extra 1\",\"Extra 1\",null,\"Extra 1\",\"Extra 1\",\"Extra 1\",\"Extra 1\",null,\"Extra 1\",\"Extra 1\",\"Extra 1\",\"Extra 1\",null,\"Cutter T\",\"Cutter T\",\"Cutter T\",\"Cutter T\",null,\"Cutter T\",\"Cutter T\",\"Cutter T\",\"Cutter T\",null,\"Cutter T\",\"Cutter T\",\"Cutter T\",\"Cutter T\",null,\"Trench\",\"Trench\",\"Trench\",\"Trench\",null,\"Trench\",\"Trench\",\"Trench\",\"Trench\",null,\"Trench\",\"Trench\",\"Trench\",\"Trench\",null],\"type\":\"scatter\"},{\"connectgaps\":false,\"hoverinfo\":\"y+name\",\"line\":{\"color\":\"rgb(173,182,34)\",\"width\":10},\"mode\":\"lines\",\"name\":\"loading:Carrier B\",\"x\":[\"1970-01-01T03:00:40\",\"1970-01-01T03:00:40\",\"1970-01-01T03:34:00\",\"1970-01-01T03:34:00\",\"1970-01-01T03:34:00\",\"1970-01-01T07:19:00\",\"1970-01-01T07:19:00\",\"1970-01-01T07:52:20\",\"1970-01-01T07:52:20\",\"1970-01-01T07:52:20\",\"1970-01-01T11:37:20\",\"1970-01-01T11:37:20\",\"1970-01-01T12:10:40\",\"1970-01-01T12:10:40\",\"1970-01-01T12:10:40\",\"1970-01-01T03:00:40\",\"1970-01-01T03:00:40\",\"1970-01-01T03:34:00\",\"1970-01-01T03:34:00\",\"1970-01-01T03:34:00\",\"1970-01-01T07:19:00\",\"1970-01-01T07:19:00\",\"1970-01-01T07:52:20\",\"1970-01-01T07:52:20\",\"1970-01-01T07:52:20\",\"1970-01-01T11:37:20\",\"1970-01-01T11:37:20\",\"1970-01-01T12:10:40\",\"1970-01-01T12:10:40\",\"1970-01-01T12:10:40\",\"1970-01-01T03:00:40\",\"1970-01-01T03:00:40\",\"1970-01-01T03:34:00\",\"1970-01-01T03:34:00\",\"1970-01-01T03:34:00\",\"1970-01-01T07:19:00\",\"1970-01-01T07:19:00\",\"1970-01-01T07:52:20\",\"1970-01-01T07:52:20\",\"1970-01-01T07:52:20\",\"1970-01-01T11:37:20\",\"1970-01-01T11:37:20\",\"1970-01-01T12:10:40\",\"1970-01-01T12:10:40\",\"1970-01-01T12:10:40\"],\"y\":[\"Carrier B\",\"Carrier B\",\"Carrier B\",\"Carrier B\",null,\"Carrier B\",\"Carrier B\",\"Carrier B\",\"Carrier B\",null,\"Carrier B\",\"Carrier B\",\"Carrier B\",\"Carrier B\",null,\"Cutter T\",\"Cutter T\",\"Cutter T\",\"Cutter T\",null,\"Cutter T\",\"Cutter T\",\"Cutter T\",\"Cutter T\",null,\"Cutter T\",\"Cutter T\",\"Cutter T\",\"Cutter T\",null,\"Trench\",\"Trench\",\"Trench\",\"Trench\",null,\"Trench\",\"Trench\",\"Trench\",\"Trench\",null,\"Trench\",\"Trench\",\"Trench\",\"Trench\",null],\"type\":\"scatter\"},{\"connectgaps\":false,\"hoverinfo\":\"y+name\",\"line\":{\"color\":\"rgb(177,186,38)\",\"width\":10},\"mode\":\"lines\",\"name\":\"unloading:Carrier A\",\"x\":[\"1970-01-01T05:35:12\",\"1970-01-01T05:35:12\",\"1970-01-01T06:21:24\",\"1970-01-01T06:21:24\",\"1970-01-01T06:21:24\",\"1970-01-01T09:53:32\",\"1970-01-01T09:53:32\",\"1970-01-01T10:39:44\",\"1970-01-01T10:39:44\",\"1970-01-01T10:39:44\",\"1970-01-01T14:45:12\",\"1970-01-01T14:45:12\",\"1970-01-01T15:31:24\",\"1970-01-01T15:31:24\",\"1970-01-01T15:31:24\",\"1970-01-01T05:35:12\",\"1970-01-01T05:35:12\",\"1970-01-01T06:21:24\",\"1970-01-01T06:21:24\",\"1970-01-01T06:21:24\",\"1970-01-01T09:53:32\",\"1970-01-01T09:53:32\",\"1970-01-01T10:39:44\",\"1970-01-01T10:39:44\",\"1970-01-01T10:39:44\",\"1970-01-01T14:45:12\",\"1970-01-01T14:45:12\",\"1970-01-01T15:31:24\",\"1970-01-01T15:31:24\",\"1970-01-01T15:31:24\"],\"y\":[\"Carrier A\",\"Carrier A\",\"Carrier A\",\"Carrier A\",null,\"Carrier A\",\"Carrier A\",\"Carrier A\",\"Carrier A\",null,\"Carrier A\",\"Carrier A\",\"Carrier A\",\"Carrier A\",null,\"Reclamation\",\"Reclamation\",\"Reclamation\",\"Reclamation\",null,\"Reclamation\",\"Reclamation\",\"Reclamation\",\"Reclamation\",null,\"Reclamation\",\"Reclamation\",\"Reclamation\",\"Reclamation\",null],\"type\":\"scatter\"},{\"connectgaps\":false,\"hoverinfo\":\"y+name\",\"line\":{\"color\":\"rgb(181,190,42)\",\"width\":10},\"mode\":\"lines\",\"name\":\"unloading:Barge I\",\"x\":[\"1970-01-01T03:39:08\",\"1970-01-01T03:39:08\",\"1970-01-01T04:17:36\",\"1970-01-01T04:17:36\",\"1970-01-01T04:17:36\",\"1970-01-01T07:57:28\",\"1970-01-01T07:57:28\",\"1970-01-01T08:35:56\",\"1970-01-01T08:35:56\",\"1970-01-01T08:35:56\",\"1970-01-01T12:15:48\",\"1970-01-01T12:15:48\",\"1970-01-01T12:54:16\",\"1970-01-01T12:54:16\",\"1970-01-01T12:54:16\",\"1970-01-01T03:39:08\",\"1970-01-01T03:39:08\",\"1970-01-01T04:17:36\",\"1970-01-01T04:17:36\",\"1970-01-01T04:17:36\",\"1970-01-01T07:57:28\",\"1970-01-01T07:57:28\",\"1970-01-01T08:35:56\",\"1970-01-01T08:35:56\",\"1970-01-01T08:35:56\",\"1970-01-01T12:15:48\",\"1970-01-01T12:15:48\",\"1970-01-01T12:54:16\",\"1970-01-01T12:54:16\",\"1970-01-01T12:54:16\"],\"y\":[\"Barge I\",\"Barge I\",\"Barge I\",\"Barge I\",null,\"Barge I\",\"Barge I\",\"Barge I\",\"Barge I\",null,\"Barge I\",\"Barge I\",\"Barge I\",\"Barge I\",null,\"Reclamation\",\"Reclamation\",\"Reclamation\",\"Reclamation\",null,\"Reclamation\",\"Reclamation\",\"Reclamation\",\"Reclamation\",null,\"Reclamation\",\"Reclamation\",\"Reclamation\",\"Reclamation\",null],\"type\":\"scatter\"},{\"connectgaps\":false,\"hoverinfo\":\"y+name\",\"line\":{\"color\":\"rgb(185,194,46)\",\"width\":10},\"mode\":\"lines\",\"name\":\"unloading:Barge III\",\"x\":[\"1970-01-01T02:21:50\",\"1970-01-01T02:21:50\",\"1970-01-01T02:58:00\",\"1970-01-01T02:58:00\",\"1970-01-01T02:58:00\",\"1970-01-01T06:40:10\",\"1970-01-01T06:40:10\",\"1970-01-01T07:16:20\",\"1970-01-01T07:16:20\",\"1970-01-01T07:16:20\",\"1970-01-01T10:16:50\",\"1970-01-01T10:16:50\",\"1970-01-01T10:53:00\",\"1970-01-01T10:53:00\",\"1970-01-01T10:53:00\",\"1970-01-01T13:53:30\",\"1970-01-01T13:53:30\",\"1970-01-01T14:29:40\",\"1970-01-01T14:29:40\",\"1970-01-01T14:29:40\",\"1970-01-01T02:21:50\",\"1970-01-01T02:21:50\",\"1970-01-01T02:58:00\",\"1970-01-01T02:58:00\",\"1970-01-01T02:58:00\",\"1970-01-01T06:40:10\",\"1970-01-01T06:40:10\",\"1970-01-01T07:16:20\",\"1970-01-01T07:16:20\",\"1970-01-01T07:16:20\",\"1970-01-01T10:16:50\",\"1970-01-01T10:16:50\",\"1970-01-01T10:53:00\",\"1970-01-01T10:53:00\",\"1970-01-01T10:53:00\",\"1970-01-01T13:53:30\",\"1970-01-01T13:53:30\",\"1970-01-01T14:29:40\",\"1970-01-01T14:29:40\",\"1970-01-01T14:29:40\"],\"y\":[\"Barge III\",\"Barge III\",\"Barge III\",\"Barge III\",null,\"Barge III\",\"Barge III\",\"Barge III\",\"Barge III\",null,\"Barge III\",\"Barge III\",\"Barge III\",\"Barge III\",null,\"Barge III\",\"Barge III\",\"Barge III\",\"Barge III\",null,\"Reclamation\",\"Reclamation\",\"Reclamation\",\"Reclamation\",null,\"Reclamation\",\"Reclamation\",\"Reclamation\",\"Reclamation\",null,\"Reclamation\",\"Reclamation\",\"Reclamation\",\"Reclamation\",null,\"Reclamation\",\"Reclamation\",\"Reclamation\",\"Reclamation\",null],\"type\":\"scatter\"},{\"connectgaps\":false,\"hoverinfo\":\"y+name\",\"line\":{\"color\":\"rgb(189,198,50)\",\"width\":10},\"mode\":\"lines\",\"name\":\"unloading:Barge II\",\"x\":[\"1970-01-01T06:18:41\",\"1970-01-01T06:18:41\",\"1970-01-01T07:06:42\",\"1970-01-01T07:06:42\",\"1970-01-01T07:06:42\",\"1970-01-01T11:10:21\",\"1970-01-01T11:10:21\",\"1970-01-01T11:58:22\",\"1970-01-01T11:58:22\",\"1970-01-01T11:58:22\",\"1970-01-01T16:02:01\",\"1970-01-01T16:02:01\",\"1970-01-01T16:50:02\",\"1970-01-01T16:50:02\",\"1970-01-01T16:50:02\",\"1970-01-01T06:18:41\",\"1970-01-01T06:18:41\",\"1970-01-01T07:06:42\",\"1970-01-01T07:06:42\",\"1970-01-01T07:06:42\",\"1970-01-01T11:10:21\",\"1970-01-01T11:10:21\",\"1970-01-01T11:58:22\",\"1970-01-01T11:58:22\",\"1970-01-01T11:58:22\",\"1970-01-01T16:02:01\",\"1970-01-01T16:02:01\",\"1970-01-01T16:50:02\",\"1970-01-01T16:50:02\",\"1970-01-01T16:50:02\"],\"y\":[\"Barge II\",\"Barge II\",\"Barge II\",\"Barge II\",null,\"Barge II\",\"Barge II\",\"Barge II\",\"Barge II\",null,\"Barge II\",\"Barge II\",\"Barge II\",\"Barge II\",null,\"Reclamation\",\"Reclamation\",\"Reclamation\",\"Reclamation\",null,\"Reclamation\",\"Reclamation\",\"Reclamation\",\"Reclamation\",null,\"Reclamation\",\"Reclamation\",\"Reclamation\",\"Reclamation\",null],\"type\":\"scatter\"},{\"connectgaps\":false,\"hoverinfo\":\"y+name\",\"line\":{\"color\":\"rgb(193,202,54)\",\"width\":10},\"mode\":\"lines\",\"name\":\"unloading:Extra 1\",\"x\":[\"1970-01-01T04:48:06\",\"1970-01-01T04:48:06\",\"1970-01-01T05:28:52\",\"1970-01-01T05:28:52\",\"1970-01-01T05:28:52\",\"1970-01-01T09:06:26\",\"1970-01-01T09:06:26\",\"1970-01-01T09:47:12\",\"1970-01-01T09:47:12\",\"1970-01-01T09:47:12\",\"1970-01-01T13:24:46\",\"1970-01-01T13:24:46\",\"1970-01-01T14:05:32\",\"1970-01-01T14:05:32\",\"1970-01-01T14:05:32\",\"1970-01-01T04:48:06\",\"1970-01-01T04:48:06\",\"1970-01-01T05:28:52\",\"1970-01-01T05:28:52\",\"1970-01-01T05:28:52\",\"1970-01-01T09:06:26\",\"1970-01-01T09:06:26\",\"1970-01-01T09:47:12\",\"1970-01-01T09:47:12\",\"1970-01-01T09:47:12\",\"1970-01-01T13:24:46\",\"1970-01-01T13:24:46\",\"1970-01-01T14:05:32\",\"1970-01-01T14:05:32\",\"1970-01-01T14:05:32\"],\"y\":[\"Extra 1\",\"Extra 1\",\"Extra 1\",\"Extra 1\",null,\"Extra 1\",\"Extra 1\",\"Extra 1\",\"Extra 1\",null,\"Extra 1\",\"Extra 1\",\"Extra 1\",\"Extra 1\",null,\"Reclamation\",\"Reclamation\",\"Reclamation\",\"Reclamation\",null,\"Reclamation\",\"Reclamation\",\"Reclamation\",\"Reclamation\",null,\"Reclamation\",\"Reclamation\",\"Reclamation\",\"Reclamation\",null],\"type\":\"scatter\"},{\"connectgaps\":false,\"hoverinfo\":\"y+name\",\"line\":{\"color\":\"rgb(197,206,58)\",\"width\":10},\"mode\":\"lines\",\"name\":\"unloading:Carrier C\",\"x\":[\"1970-01-01T02:55:58\",\"1970-01-01T02:55:58\",\"1970-01-01T03:32:56\",\"1970-01-01T03:32:56\",\"1970-01-01T03:32:56\",\"1970-01-01T07:14:18\",\"1970-01-01T07:14:18\",\"1970-01-01T07:51:16\",\"1970-01-01T07:51:16\",\"1970-01-01T07:51:16\",\"1970-01-01T11:32:38\",\"1970-01-01T11:32:38\",\"1970-01-01T12:09:36\",\"1970-01-01T12:09:36\",\"1970-01-01T12:09:36\",\"1970-01-01T15:09:18\",\"1970-01-01T15:09:18\",\"1970-01-01T15:46:16\",\"1970-01-01T15:46:16\",\"1970-01-01T15:46:16\",\"1970-01-01T02:55:58\",\"1970-01-01T02:55:58\",\"1970-01-01T03:32:56\",\"1970-01-01T03:32:56\",\"1970-01-01T03:32:56\",\"1970-01-01T07:14:18\",\"1970-01-01T07:14:18\",\"1970-01-01T07:51:16\",\"1970-01-01T07:51:16\",\"1970-01-01T07:51:16\",\"1970-01-01T11:32:38\",\"1970-01-01T11:32:38\",\"1970-01-01T12:09:36\",\"1970-01-01T12:09:36\",\"1970-01-01T12:09:36\",\"1970-01-01T15:09:18\",\"1970-01-01T15:09:18\",\"1970-01-01T15:46:16\",\"1970-01-01T15:46:16\",\"1970-01-01T15:46:16\"],\"y\":[\"Carrier C\",\"Carrier C\",\"Carrier C\",\"Carrier C\",null,\"Carrier C\",\"Carrier C\",\"Carrier C\",\"Carrier C\",null,\"Carrier C\",\"Carrier C\",\"Carrier C\",\"Carrier C\",null,\"Carrier C\",\"Carrier C\",\"Carrier C\",\"Carrier C\",null,\"Reclamation\",\"Reclamation\",\"Reclamation\",\"Reclamation\",null,\"Reclamation\",\"Reclamation\",\"Reclamation\",\"Reclamation\",null,\"Reclamation\",\"Reclamation\",\"Reclamation\",\"Reclamation\",null,\"Reclamation\",\"Reclamation\",\"Reclamation\",\"Reclamation\",null],\"type\":\"scatter\"},{\"connectgaps\":false,\"hoverinfo\":\"y+name\",\"line\":{\"color\":\"rgb(201,210,62)\",\"width\":10},\"mode\":\"lines\",\"name\":\"unloading:Carrier B\",\"x\":[\"1970-01-01T04:14:16\",\"1970-01-01T04:14:16\",\"1970-01-01T04:54:32\",\"1970-01-01T04:54:32\",\"1970-01-01T04:54:32\",\"1970-01-01T08:32:36\",\"1970-01-01T08:32:36\",\"1970-01-01T09:12:52\",\"1970-01-01T09:12:52\",\"1970-01-01T09:12:52\",\"1970-01-01T12:50:56\",\"1970-01-01T12:50:56\",\"1970-01-01T13:31:12\",\"1970-01-01T13:31:12\",\"1970-01-01T13:31:12\",\"1970-01-01T04:14:16\",\"1970-01-01T04:14:16\",\"1970-01-01T04:54:32\",\"1970-01-01T04:54:32\",\"1970-01-01T04:54:32\",\"1970-01-01T08:32:36\",\"1970-01-01T08:32:36\",\"1970-01-01T09:12:52\",\"1970-01-01T09:12:52\",\"1970-01-01T09:12:52\",\"1970-01-01T12:50:56\",\"1970-01-01T12:50:56\",\"1970-01-01T13:31:12\",\"1970-01-01T13:31:12\",\"1970-01-01T13:31:12\"],\"y\":[\"Carrier B\",\"Carrier B\",\"Carrier B\",\"Carrier B\",null,\"Carrier B\",\"Carrier B\",\"Carrier B\",\"Carrier B\",null,\"Carrier B\",\"Carrier B\",\"Carrier B\",\"Carrier B\",null,\"Reclamation\",\"Reclamation\",\"Reclamation\",\"Reclamation\",null,\"Reclamation\",\"Reclamation\",\"Reclamation\",\"Reclamation\",null,\"Reclamation\",\"Reclamation\",\"Reclamation\",\"Reclamation\",null],\"type\":\"scatter\"}],                        {\"hovermode\":\"closest\",\"legend\":{\"orientation\":\"h\",\"x\":0,\"y\":-0.2},\"template\":{\"data\":{\"barpolar\":[{\"marker\":{\"line\":{\"color\":\"#E5ECF6\",\"width\":0.5},\"pattern\":{\"fillmode\":\"overlay\",\"size\":10,\"solidity\":0.2}},\"type\":\"barpolar\"}],\"bar\":[{\"error_x\":{\"color\":\"#2a3f5f\"},\"error_y\":{\"color\":\"#2a3f5f\"},\"marker\":{\"line\":{\"color\":\"#E5ECF6\",\"width\":0.5},\"pattern\":{\"fillmode\":\"overlay\",\"size\":10,\"solidity\":0.2}},\"type\":\"bar\"}],\"carpet\":[{\"aaxis\":{\"endlinecolor\":\"#2a3f5f\",\"gridcolor\":\"white\",\"linecolor\":\"white\",\"minorgridcolor\":\"white\",\"startlinecolor\":\"#2a3f5f\"},\"baxis\":{\"endlinecolor\":\"#2a3f5f\",\"gridcolor\":\"white\",\"linecolor\":\"white\",\"minorgridcolor\":\"white\",\"startlinecolor\":\"#2a3f5f\"},\"type\":\"carpet\"}],\"choropleth\":[{\"colorbar\":{\"outlinewidth\":0,\"ticks\":\"\"},\"type\":\"choropleth\"}],\"contourcarpet\":[{\"colorbar\":{\"outlinewidth\":0,\"ticks\":\"\"},\"type\":\"contourcarpet\"}],\"contour\":[{\"colorbar\":{\"outlinewidth\":0,\"ticks\":\"\"},\"colorscale\":[[0.0,\"#0d0887\"],[0.1111111111111111,\"#46039f\"],[0.2222222222222222,\"#7201a8\"],[0.3333333333333333,\"#9c179e\"],[0.4444444444444444,\"#bd3786\"],[0.5555555555555556,\"#d8576b\"],[0.6666666666666666,\"#ed7953\"],[0.7777777777777778,\"#fb9f3a\"],[0.8888888888888888,\"#fdca26\"],[1.0,\"#f0f921\"]],\"type\":\"contour\"}],\"heatmapgl\":[{\"colorbar\":{\"outlinewidth\":0,\"ticks\":\"\"},\"colorscale\":[[0.0,\"#0d0887\"],[0.1111111111111111,\"#46039f\"],[0.2222222222222222,\"#7201a8\"],[0.3333333333333333,\"#9c179e\"],[0.4444444444444444,\"#bd3786\"],[0.5555555555555556,\"#d8576b\"],[0.6666666666666666,\"#ed7953\"],[0.7777777777777778,\"#fb9f3a\"],[0.8888888888888888,\"#fdca26\"],[1.0,\"#f0f921\"]],\"type\":\"heatmapgl\"}],\"heatmap\":[{\"colorbar\":{\"outlinewidth\":0,\"ticks\":\"\"},\"colorscale\":[[0.0,\"#0d0887\"],[0.1111111111111111,\"#46039f\"],[0.2222222222222222,\"#7201a8\"],[0.3333333333333333,\"#9c179e\"],[0.4444444444444444,\"#bd3786\"],[0.5555555555555556,\"#d8576b\"],[0.6666666666666666,\"#ed7953\"],[0.7777777777777778,\"#fb9f3a\"],[0.8888888888888888,\"#fdca26\"],[1.0,\"#f0f921\"]],\"type\":\"heatmap\"}],\"histogram2dcontour\":[{\"colorbar\":{\"outlinewidth\":0,\"ticks\":\"\"},\"colorscale\":[[0.0,\"#0d0887\"],[0.1111111111111111,\"#46039f\"],[0.2222222222222222,\"#7201a8\"],[0.3333333333333333,\"#9c179e\"],[0.4444444444444444,\"#bd3786\"],[0.5555555555555556,\"#d8576b\"],[0.6666666666666666,\"#ed7953\"],[0.7777777777777778,\"#fb9f3a\"],[0.8888888888888888,\"#fdca26\"],[1.0,\"#f0f921\"]],\"type\":\"histogram2dcontour\"}],\"histogram2d\":[{\"colorbar\":{\"outlinewidth\":0,\"ticks\":\"\"},\"colorscale\":[[0.0,\"#0d0887\"],[0.1111111111111111,\"#46039f\"],[0.2222222222222222,\"#7201a8\"],[0.3333333333333333,\"#9c179e\"],[0.4444444444444444,\"#bd3786\"],[0.5555555555555556,\"#d8576b\"],[0.6666666666666666,\"#ed7953\"],[0.7777777777777778,\"#fb9f3a\"],[0.8888888888888888,\"#fdca26\"],[1.0,\"#f0f921\"]],\"type\":\"histogram2d\"}],\"histogram\":[{\"marker\":{\"pattern\":{\"fillmode\":\"overlay\",\"size\":10,\"solidity\":0.2}},\"type\":\"histogram\"}],\"mesh3d\":[{\"colorbar\":{\"outlinewidth\":0,\"ticks\":\"\"},\"type\":\"mesh3d\"}],\"parcoords\":[{\"line\":{\"colorbar\":{\"outlinewidth\":0,\"ticks\":\"\"}},\"type\":\"parcoords\"}],\"pie\":[{\"automargin\":true,\"type\":\"pie\"}],\"scatter3d\":[{\"line\":{\"colorbar\":{\"outlinewidth\":0,\"ticks\":\"\"}},\"marker\":{\"colorbar\":{\"outlinewidth\":0,\"ticks\":\"\"}},\"type\":\"scatter3d\"}],\"scattercarpet\":[{\"marker\":{\"colorbar\":{\"outlinewidth\":0,\"ticks\":\"\"}},\"type\":\"scattercarpet\"}],\"scattergeo\":[{\"marker\":{\"colorbar\":{\"outlinewidth\":0,\"ticks\":\"\"}},\"type\":\"scattergeo\"}],\"scattergl\":[{\"marker\":{\"colorbar\":{\"outlinewidth\":0,\"ticks\":\"\"}},\"type\":\"scattergl\"}],\"scattermapbox\":[{\"marker\":{\"colorbar\":{\"outlinewidth\":0,\"ticks\":\"\"}},\"type\":\"scattermapbox\"}],\"scatterpolargl\":[{\"marker\":{\"colorbar\":{\"outlinewidth\":0,\"ticks\":\"\"}},\"type\":\"scatterpolargl\"}],\"scatterpolar\":[{\"marker\":{\"colorbar\":{\"outlinewidth\":0,\"ticks\":\"\"}},\"type\":\"scatterpolar\"}],\"scatter\":[{\"fillpattern\":{\"fillmode\":\"overlay\",\"size\":10,\"solidity\":0.2},\"type\":\"scatter\"}],\"scatterternary\":[{\"marker\":{\"colorbar\":{\"outlinewidth\":0,\"ticks\":\"\"}},\"type\":\"scatterternary\"}],\"surface\":[{\"colorbar\":{\"outlinewidth\":0,\"ticks\":\"\"},\"colorscale\":[[0.0,\"#0d0887\"],[0.1111111111111111,\"#46039f\"],[0.2222222222222222,\"#7201a8\"],[0.3333333333333333,\"#9c179e\"],[0.4444444444444444,\"#bd3786\"],[0.5555555555555556,\"#d8576b\"],[0.6666666666666666,\"#ed7953\"],[0.7777777777777778,\"#fb9f3a\"],[0.8888888888888888,\"#fdca26\"],[1.0,\"#f0f921\"]],\"type\":\"surface\"}],\"table\":[{\"cells\":{\"fill\":{\"color\":\"#EBF0F8\"},\"line\":{\"color\":\"white\"}},\"header\":{\"fill\":{\"color\":\"#C8D4E3\"},\"line\":{\"color\":\"white\"}},\"type\":\"table\"}]},\"layout\":{\"annotationdefaults\":{\"arrowcolor\":\"#2a3f5f\",\"arrowhead\":0,\"arrowwidth\":1},\"autotypenumbers\":\"strict\",\"coloraxis\":{\"colorbar\":{\"outlinewidth\":0,\"ticks\":\"\"}},\"colorscale\":{\"diverging\":[[0,\"#8e0152\"],[0.1,\"#c51b7d\"],[0.2,\"#de77ae\"],[0.3,\"#f1b6da\"],[0.4,\"#fde0ef\"],[0.5,\"#f7f7f7\"],[0.6,\"#e6f5d0\"],[0.7,\"#b8e186\"],[0.8,\"#7fbc41\"],[0.9,\"#4d9221\"],[1,\"#276419\"]],\"sequential\":[[0.0,\"#0d0887\"],[0.1111111111111111,\"#46039f\"],[0.2222222222222222,\"#7201a8\"],[0.3333333333333333,\"#9c179e\"],[0.4444444444444444,\"#bd3786\"],[0.5555555555555556,\"#d8576b\"],[0.6666666666666666,\"#ed7953\"],[0.7777777777777778,\"#fb9f3a\"],[0.8888888888888888,\"#fdca26\"],[1.0,\"#f0f921\"]],\"sequentialminus\":[[0.0,\"#0d0887\"],[0.1111111111111111,\"#46039f\"],[0.2222222222222222,\"#7201a8\"],[0.3333333333333333,\"#9c179e\"],[0.4444444444444444,\"#bd3786\"],[0.5555555555555556,\"#d8576b\"],[0.6666666666666666,\"#ed7953\"],[0.7777777777777778,\"#fb9f3a\"],[0.8888888888888888,\"#fdca26\"],[1.0,\"#f0f921\"]]},\"colorway\":[\"#636efa\",\"#EF553B\",\"#00cc96\",\"#ab63fa\",\"#FFA15A\",\"#19d3f3\",\"#FF6692\",\"#B6E880\",\"#FF97FF\",\"#FECB52\"],\"font\":{\"color\":\"#2a3f5f\"},\"geo\":{\"bgcolor\":\"white\",\"lakecolor\":\"white\",\"landcolor\":\"#E5ECF6\",\"showlakes\":true,\"showland\":true,\"subunitcolor\":\"white\"},\"hoverlabel\":{\"align\":\"left\"},\"hovermode\":\"closest\",\"mapbox\":{\"style\":\"light\"},\"paper_bgcolor\":\"white\",\"plot_bgcolor\":\"#E5ECF6\",\"polar\":{\"angularaxis\":{\"gridcolor\":\"white\",\"linecolor\":\"white\",\"ticks\":\"\"},\"bgcolor\":\"#E5ECF6\",\"radialaxis\":{\"gridcolor\":\"white\",\"linecolor\":\"white\",\"ticks\":\"\"}},\"scene\":{\"xaxis\":{\"backgroundcolor\":\"#E5ECF6\",\"gridcolor\":\"white\",\"gridwidth\":2,\"linecolor\":\"white\",\"showbackground\":true,\"ticks\":\"\",\"zerolinecolor\":\"white\"},\"yaxis\":{\"backgroundcolor\":\"#E5ECF6\",\"gridcolor\":\"white\",\"gridwidth\":2,\"linecolor\":\"white\",\"showbackground\":true,\"ticks\":\"\",\"zerolinecolor\":\"white\"},\"zaxis\":{\"backgroundcolor\":\"#E5ECF6\",\"gridcolor\":\"white\",\"gridwidth\":2,\"linecolor\":\"white\",\"showbackground\":true,\"ticks\":\"\",\"zerolinecolor\":\"white\"}},\"shapedefaults\":{\"line\":{\"color\":\"#2a3f5f\"}},\"ternary\":{\"aaxis\":{\"gridcolor\":\"white\",\"linecolor\":\"white\",\"ticks\":\"\"},\"baxis\":{\"gridcolor\":\"white\",\"linecolor\":\"white\",\"ticks\":\"\"},\"bgcolor\":\"#E5ECF6\",\"caxis\":{\"gridcolor\":\"white\",\"linecolor\":\"white\",\"ticks\":\"\"}},\"title\":{\"x\":0.05},\"xaxis\":{\"automargin\":true,\"gridcolor\":\"white\",\"linecolor\":\"white\",\"ticks\":\"\",\"title\":{\"standoff\":15},\"zerolinecolor\":\"white\",\"zerolinewidth\":2},\"yaxis\":{\"automargin\":true,\"gridcolor\":\"white\",\"linecolor\":\"white\",\"ticks\":\"\",\"title\":{\"standoff\":15},\"zerolinecolor\":\"white\",\"zerolinewidth\":2}}},\"title\":{\"text\":\"Cutter T occupancy: 100.0\"},\"xaxis\":{\"range\":[\"1970-01-01T00:00:00\",\"1970-01-01T16:50:02\"],\"title\":{\"font\":{\"color\":\"#7f7f7f\",\"family\":\"Courier New, monospace\",\"size\":18},\"text\":\"Time\"}},\"yaxis\":{\"title\":{\"font\":{\"color\":\"#7f7f7f\",\"family\":\"Courier New, monospace\",\"size\":18},\"text\":\"Activities\"}}},                        {\"responsive\": true}                    ).then(function(){\n",
       "                            \n",
       "var gd = document.getElementById('d6d52dc9-ad5d-4071-bc36-85cc3aa6ae97');\n",
       "var x = new MutationObserver(function (mutations, observer) {{\n",
       "        var display = window.getComputedStyle(gd).display;\n",
       "        if (!display || display === 'none') {{\n",
       "            console.log([gd, 'removed!']);\n",
       "            Plotly.purge(gd);\n",
       "            observer.disconnect();\n",
       "        }}\n",
       "}});\n",
       "\n",
       "// Listen for the removal of the full notebook cells\n",
       "var notebookContainer = gd.closest('#notebook-container');\n",
       "if (notebookContainer) {{\n",
       "    x.observe(notebookContainer, {childList: true});\n",
       "}}\n",
       "\n",
       "// Listen for the clearing of the current output cell\n",
       "var outputEl = gd.closest('.output');\n",
       "if (outputEl) {{\n",
       "    x.observe(outputEl, {childList: true});\n",
       "}}\n",
       "\n",
       "                        })                };                });            </script>        </div>"
      ]
     },
     "metadata": {},
     "output_type": "display_data"
    }
   ],
   "source": [
    "i = 5 # many barges: 100% cutter config\n",
    "vessels = results[i]['vessels']\n",
    "activities = results[i]['activities']\n",
    "cutter = vessels[cutter_name]\n",
    "to_site = results[i][to_site_name]\n",
    "from_site = results[i][from_site_name]\n",
    "  \n",
    "my_objects = list(vessels.values()) + [from_site, to_site]\n",
    "my_activities = list(activities.values())\n",
    "my_log = CpLog(list_objects=my_objects, list_activities=my_activities)\n",
    "dependencies = my_log.get_dependencies_model_based()\n",
    "# dependencies = my_log.get_dependencies_log_based()\n",
    "cp = my_log.mark_critical_activities(dependencies)\n",
    "df = occupancy_analysis(vessels, cutter, activities,vessel_cost)\n",
    "t = f'{cutter_name} occupancy: ' + str(df.loc[cutter_name]['occupancy [%]'])\n",
    "fig = get_gantt_chart(concepts=my_objects, critical_path=cp, id_map=activities, title=t)"
   ]
  },
  {
   "cell_type": "code",
   "execution_count": null,
   "id": "e39ac39b",
   "metadata": {},
   "outputs": [],
   "source": []
  }
 ],
 "metadata": {
  "kernelspec": {
   "display_name": "Python 3 (ipykernel)",
   "language": "python",
   "name": "python3"
  },
  "language_info": {
   "codemirror_mode": {
    "name": "ipython",
    "version": 3
   },
   "file_extension": ".py",
   "mimetype": "text/x-python",
   "name": "python",
   "nbconvert_exporter": "python",
   "pygments_lexer": "ipython3",
   "version": "3.9.16"
  }
 },
 "nbformat": 4,
 "nbformat_minor": 5
}
