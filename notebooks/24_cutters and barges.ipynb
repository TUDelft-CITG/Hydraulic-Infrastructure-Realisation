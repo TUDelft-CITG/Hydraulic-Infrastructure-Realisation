{
 "cells": [
  {
   "cell_type": "markdown",
   "id": "384a3d39",
   "metadata": {},
   "source": [
    "## feeder concept: cutter + barges\n",
    "\n",
    "This notebook shows how to implement a basic feeder concept for a cutter suction dredge working with multiple barges."
   ]
  },
  {
   "cell_type": "code",
   "execution_count": 1,
   "id": "b6580ad4",
   "metadata": {},
   "outputs": [],
   "source": [
    "import datetime, time\n",
    "import simpy\n",
    "\n",
    "import shapely.geometry\n",
    "import pandas as pd\n",
    "\n",
    "import openclsim.core as core\n",
    "import openclsim.model as model\n",
    "from openclsim.utils import flatten, export_concepts, export_activities\n",
    "from openclsim.plot import get_step_chart, get_gantt_chart, get_log_dataframe, get_ranges_dataframe\n",
    "import numpy as np"
   ]
  },
  {
   "cell_type": "code",
   "execution_count": 2,
   "id": "5d93d662",
   "metadata": {},
   "outputs": [],
   "source": [
    "cutter_name    = 'Cutter T'\n",
    "barge_names    = ['Carrier A','Carrier B','Carrier C',\n",
    "                  'Barge I','Barge II','Barge III',\n",
    "                  'Extra 1', 'Extra 2', 'Extra 3']\n",
    "vessel_cost     = {'Carrier A':6000,'Carrier B':6000,'Carrier C':6000,\n",
    "                  'Barge I':5000,'Barge II':5000,'Barge III':5000,\n",
    "                  'Extra 1':4000, 'Extra 2':4000, 'Extra 3':4000,\n",
    "                  'Cutter T':25000} # EUR/day\n",
    "# vessel_amount and vessel_durations are random within a range,\n",
    "# to mimic respectively material density variations\n",
    "# and metocean workability conditions and traffic density.\n",
    "\n",
    "amount_range = [4,6]\n",
    "duration_range = [2000,3000]\n",
    "\n",
    "from_site_name = 'Trench'\n",
    "to_site_name   = 'Reclamation'"
   ]
  },
  {
   "cell_type": "code",
   "execution_count": 3,
   "id": "102a1c18",
   "metadata": {},
   "outputs": [],
   "source": [
    "Site = type(\n",
    "    \"Site\",\n",
    "    (\n",
    "        core.Identifiable,\n",
    "        core.Log,\n",
    "        core.Locatable,\n",
    "        core.HasContainer,\n",
    "        core.HasResource,\n",
    "    ),\n",
    "    {},\n",
    ")\n",
    "TransportProcessingResource = type(\n",
    "    \"TransportProcessingResource\",\n",
    "    (\n",
    "        core.Identifiable,\n",
    "        core.Log,\n",
    "        core.ContainerDependentMovable,\n",
    "        core.Processor,\n",
    "        core.HasResource,\n",
    "    ),\n",
    "    {},\n",
    ")"
   ]
  },
  {
   "cell_type": "code",
   "execution_count": 4,
   "id": "cef14598",
   "metadata": {},
   "outputs": [],
   "source": [
    "def run(NR_BARGES, total_amount, simulation_start=0):\n",
    "    my_env = simpy.Environment(initial_time=simulation_start)\n",
    "    registry = {}\n",
    "\n",
    "    location_from_site = shapely.geometry.Point(4.18055556, 52.18664444)\n",
    "    location_to_site = shapely.geometry.Point(4.25222222, 52.11428333)\n",
    "    \n",
    "    sites = {}\n",
    "\n",
    "    data_from_site = {\"env\": my_env,\n",
    "                      \"name\": from_site_name,\n",
    "                      \"geometry\": location_from_site,\n",
    "                      \"capacity\": total_amount,\n",
    "                      \"level\": total_amount,\n",
    "                      \"nr_resources\":1\n",
    "                     }\n",
    "    from_site =  Site(**data_from_site)\n",
    "    sites[from_site_name] = from_site\n",
    "\n",
    "\n",
    "    location_to_site = shapely.geometry.Point(4.25222222, 52.11428333)\n",
    "    data_to_site = {\"env\": my_env,\n",
    "                    \"name\": to_site_name,\n",
    "                    \"geometry\": location_to_site,\n",
    "                    \"capacity\": total_amount,\n",
    "                    \"level\": 0,\n",
    "                    \"nr_resources\":4\n",
    "                   }\n",
    "    to_site = Site(**data_to_site)\n",
    "    sites[to_site_name] = to_site\n",
    "\n",
    "    vessels = {}\n",
    "\n",
    "    for i in range(NR_BARGES):\n",
    "        vessel_name = barge_names[i]\n",
    "        vessels[vessel_name] = TransportProcessingResource(\n",
    "            env=my_env,\n",
    "            name=vessel_name,\n",
    "            geometry=location_from_site, \n",
    "            capacity=10,\n",
    "            compute_v=lambda x: 10\n",
    "        )\n",
    "    cutter = TransportProcessingResource(\n",
    "        env=my_env,\n",
    "        name=cutter_name,\n",
    "        geometry=location_from_site, \n",
    "        capacity=10,\n",
    "        compute_v=lambda x: 10\n",
    "    )\n",
    "    vessels[cutter_name] = cutter\n",
    "    \n",
    "\n",
    "    activities = {}\n",
    "    for i in range(NR_BARGES):\n",
    "        vessel_name = barge_names[i]\n",
    "        amount = np.random.randint(amount_range[0], amount_range[1]) # handle loading\n",
    "        duration=np.random.randint(duration_range[0], duration_range[1]) # sailing and unloading\n",
    "\n",
    "        requested_resources={}\n",
    "        activities[f\"activity{i}\"] = model.WhileActivity(\n",
    "            env=my_env,\n",
    "            name=f\"while_sequential_activity_subcycle {vessel_name}\",\n",
    "            registry=registry,\n",
    "            sub_processes=[model.SequentialActivity(\n",
    "                env=my_env,\n",
    "                name=f\"sequential_activity_subcycle {vessel_name}\",\n",
    "                registry=registry,\n",
    "                sub_processes=[\n",
    "# cannot be linked to a vessel as it is neither mover, processor, origin or destination\n",
    "#                     model.BasicActivity(\n",
    "#                         env=my_env,\n",
    "#                         name=f\"basic activity:\"+vessels[vessel_name].name,\n",
    "#                         registry=registry,\n",
    "#                         duration=duration,\n",
    "#                         additional_logs=[vessels[vessel_name]],\n",
    "#                     ),\n",
    "                    model.MoveActivity(\n",
    "                        env=my_env,\n",
    "                        name=f\"sailing empty:\"+vessels[vessel_name].name,\n",
    "                        registry=registry,\n",
    "                        mover=vessels[vessel_name],\n",
    "                        destination=from_site,\n",
    "                        duration=duration,\n",
    "                    ),\n",
    "                    model.ShiftAmountActivity(\n",
    "                        env=my_env,\n",
    "                        name=f\"loading:\"+vessels[vessel_name].name,\n",
    "                        registry=registry,\n",
    "                        processor=cutter,\n",
    "                        origin=from_site,\n",
    "                        destination=vessels[vessel_name],\n",
    "                        amount=amount,\n",
    "                        duration=500*amount,\n",
    "                        requested_resources=requested_resources,\n",
    "                    ),\n",
    "                    model.MoveActivity(\n",
    "                        env=my_env,\n",
    "                        name=f\"sailing full:\"+vessels[vessel_name].name,\n",
    "                        registry=registry,\n",
    "                        mover=vessels[vessel_name],\n",
    "                        destination=to_site,\n",
    "                        duration=duration,\n",
    "                    ),\n",
    "                    model.ShiftAmountActivity(\n",
    "                        env=my_env,\n",
    "                        name=f\"unloading:\"+vessels[vessel_name].name,\n",
    "                        registry=registry,\n",
    "                        processor=vessels[vessel_name],\n",
    "                        origin=vessels[vessel_name],\n",
    "                        destination=to_site,\n",
    "                        amount=amount,\n",
    "                        duration=duration,\n",
    "                        requested_resources=requested_resources,\n",
    "                    ),\n",
    "                ],\n",
    "            )],\n",
    "            condition_event=[\n",
    "                {\n",
    "                    \"type\": \"container\", \n",
    "                    \"concept\": to_site, \n",
    "                    \"state\": \"full\",\n",
    "                    \"id_\":\"default_reservations\"\n",
    "                }\n",
    "            ],\n",
    "        )\n",
    "\n",
    "    model.register_processes(list(activities.values()))\n",
    "    my_env.run()\n",
    "    \n",
    "    return {\n",
    "        \"vessels\": vessels,\n",
    "        \"activities\":activities,\n",
    "        \"sites\":sites\n",
    "    }\n"
   ]
  },
  {
   "cell_type": "markdown",
   "id": "a81e634c",
   "metadata": {},
   "source": [
    "# Example plots with 3 barges"
   ]
  },
  {
   "cell_type": "code",
   "execution_count": 5,
   "id": "9aa8b351",
   "metadata": {},
   "outputs": [
    {
     "name": "stdout",
     "output_type": "stream",
     "text": [
      "CPU times: user 40.9 ms, sys: 31.2 ms, total: 72.1 ms\n",
      "Wall time: 65 ms\n"
     ]
    }
   ],
   "source": [
    "%%time\n",
    "nbarges = len(barge_names)\n",
    "assert len(set(barge_names))==len(barge_names), 'barge_names need to be unique'\n",
    "total_amount = 100\n",
    "simulation_start = 0\n",
    "res = run(3,total_amount, simulation_start)\n",
    "\n",
    "vessels = res['vessels']\n",
    "sites = res['sites']\n",
    "activities = res['activities']\n",
    "\n",
    "cutter = vessels[cutter_name]\n",
    "to_site = sites[to_site_name]\n",
    "from_site = sites[from_site_name]"
   ]
  },
  {
   "cell_type": "code",
   "execution_count": 6,
   "id": "8f993fc6",
   "metadata": {},
   "outputs": [
    {
     "data": {
      "text/html": [
       "        <script type=\"text/javascript\">\n",
       "        window.PlotlyConfig = {MathJaxConfig: 'local'};\n",
       "        if (window.MathJax && window.MathJax.Hub && window.MathJax.Hub.Config) {window.MathJax.Hub.Config({SVG: {font: \"STIX-Web\"}});}\n",
       "        if (typeof require !== 'undefined') {\n",
       "        require.undef(\"plotly\");\n",
       "        requirejs.config({\n",
       "            paths: {\n",
       "                'plotly': ['https://cdn.plot.ly/plotly-2.18.2.min']\n",
       "            }\n",
       "        });\n",
       "        require(['plotly'], function(Plotly) {\n",
       "            window._Plotly = Plotly;\n",
       "        });\n",
       "        }\n",
       "        </script>\n",
       "        "
      ]
     },
     "metadata": {},
     "output_type": "display_data"
    },
    {
     "data": {
      "application/vnd.plotly.v1+json": {
       "config": {
        "linkText": "Export to plot.ly",
        "plotlyServerURL": "https://plot.ly",
        "showLink": false
       },
       "data": [
        {
         "connectgaps": false,
         "hoverinfo": "y+name",
         "line": {
          "color": "rgb(105,157,162)",
          "width": 10
         },
         "mode": "lines",
         "name": "unloading:Carrier A",
         "type": "scatter",
         "x": [
          "1970-01-01T03:09:00",
          "1970-01-01T03:09:00",
          "1970-01-01T03:55:21",
          "1970-01-01T03:55:21",
          "1970-01-01T03:55:21",
          "1970-01-01T06:09:43",
          "1970-01-01T06:09:43",
          "1970-01-01T06:56:04",
          "1970-01-01T06:56:04",
          "1970-01-01T06:56:04",
          "1970-01-01T09:41:00",
          "1970-01-01T09:41:00",
          "1970-01-01T10:27:21",
          "1970-01-01T10:27:21",
          "1970-01-01T10:27:21",
          "1970-01-01T12:41:43",
          "1970-01-01T12:41:43",
          "1970-01-01T13:28:04",
          "1970-01-01T13:28:04",
          "1970-01-01T13:28:04",
          "1970-01-01T15:42:26",
          "1970-01-01T15:42:26",
          "1970-01-01T16:28:47",
          "1970-01-01T16:28:47",
          "1970-01-01T16:28:47",
          "1970-01-01T18:43:09",
          "1970-01-01T18:43:09",
          "1970-01-01T19:29:30",
          "1970-01-01T19:29:30",
          "1970-01-01T19:29:30",
          "1970-01-01T21:43:52",
          "1970-01-01T21:43:52",
          "1970-01-01T22:30:13",
          "1970-01-01T22:30:13",
          "1970-01-01T22:30:13"
         ],
         "y": [
          "Carrier A",
          "Carrier A",
          "Carrier A",
          "Carrier A",
          null,
          "Carrier A",
          "Carrier A",
          "Carrier A",
          "Carrier A",
          null,
          "Carrier A",
          "Carrier A",
          "Carrier A",
          "Carrier A",
          null,
          "Carrier A",
          "Carrier A",
          "Carrier A",
          "Carrier A",
          null,
          "Carrier A",
          "Carrier A",
          "Carrier A",
          "Carrier A",
          null,
          "Carrier A",
          "Carrier A",
          "Carrier A",
          "Carrier A",
          null,
          "Carrier A",
          "Carrier A",
          "Carrier A",
          "Carrier A",
          null
         ]
        },
        {
         "connectgaps": false,
         "hoverinfo": "y+name",
         "line": {
          "color": "rgb(122,174,179)",
          "width": 10
         },
         "mode": "lines",
         "name": "loading:Carrier A",
         "type": "scatter",
         "x": [
          "1970-01-01T01:40:59",
          "1970-01-01T01:40:59",
          "1970-01-01T02:22:39",
          "1970-01-01T02:22:39",
          "1970-01-01T02:22:39",
          "1970-01-01T04:41:42",
          "1970-01-01T04:41:42",
          "1970-01-01T05:23:22",
          "1970-01-01T05:23:22",
          "1970-01-01T05:23:22",
          "1970-01-01T08:12:59",
          "1970-01-01T08:12:59",
          "1970-01-01T08:54:39",
          "1970-01-01T08:54:39",
          "1970-01-01T08:54:39",
          "1970-01-01T11:13:42",
          "1970-01-01T11:13:42",
          "1970-01-01T11:55:22",
          "1970-01-01T11:55:22",
          "1970-01-01T11:55:22",
          "1970-01-01T14:14:25",
          "1970-01-01T14:14:25",
          "1970-01-01T14:56:05",
          "1970-01-01T14:56:05",
          "1970-01-01T14:56:05",
          "1970-01-01T17:15:08",
          "1970-01-01T17:15:08",
          "1970-01-01T17:56:48",
          "1970-01-01T17:56:48",
          "1970-01-01T17:56:48",
          "1970-01-01T20:15:51",
          "1970-01-01T20:15:51",
          "1970-01-01T20:57:31",
          "1970-01-01T20:57:31",
          "1970-01-01T20:57:31",
          "1970-01-01T01:40:59",
          "1970-01-01T01:40:59",
          "1970-01-01T02:22:39",
          "1970-01-01T02:22:39",
          "1970-01-01T02:22:39",
          "1970-01-01T04:41:42",
          "1970-01-01T04:41:42",
          "1970-01-01T05:23:22",
          "1970-01-01T05:23:22",
          "1970-01-01T05:23:22",
          "1970-01-01T08:12:59",
          "1970-01-01T08:12:59",
          "1970-01-01T08:54:39",
          "1970-01-01T08:54:39",
          "1970-01-01T08:54:39",
          "1970-01-01T11:13:42",
          "1970-01-01T11:13:42",
          "1970-01-01T11:55:22",
          "1970-01-01T11:55:22",
          "1970-01-01T11:55:22",
          "1970-01-01T14:14:25",
          "1970-01-01T14:14:25",
          "1970-01-01T14:56:05",
          "1970-01-01T14:56:05",
          "1970-01-01T14:56:05",
          "1970-01-01T17:15:08",
          "1970-01-01T17:15:08",
          "1970-01-01T17:56:48",
          "1970-01-01T17:56:48",
          "1970-01-01T17:56:48",
          "1970-01-01T20:15:51",
          "1970-01-01T20:15:51",
          "1970-01-01T20:57:31",
          "1970-01-01T20:57:31",
          "1970-01-01T20:57:31"
         ],
         "y": [
          "Carrier A",
          "Carrier A",
          "Carrier A",
          "Carrier A",
          null,
          "Carrier A",
          "Carrier A",
          "Carrier A",
          "Carrier A",
          null,
          "Carrier A",
          "Carrier A",
          "Carrier A",
          "Carrier A",
          null,
          "Carrier A",
          "Carrier A",
          "Carrier A",
          "Carrier A",
          null,
          "Carrier A",
          "Carrier A",
          "Carrier A",
          "Carrier A",
          null,
          "Carrier A",
          "Carrier A",
          "Carrier A",
          "Carrier A",
          null,
          "Carrier A",
          "Carrier A",
          "Carrier A",
          "Carrier A",
          null,
          "Cutter T",
          "Cutter T",
          "Cutter T",
          "Cutter T",
          null,
          "Cutter T",
          "Cutter T",
          "Cutter T",
          "Cutter T",
          null,
          "Cutter T",
          "Cutter T",
          "Cutter T",
          "Cutter T",
          null,
          "Cutter T",
          "Cutter T",
          "Cutter T",
          "Cutter T",
          null,
          "Cutter T",
          "Cutter T",
          "Cutter T",
          "Cutter T",
          null,
          "Cutter T",
          "Cutter T",
          "Cutter T",
          "Cutter T",
          null,
          "Cutter T",
          "Cutter T",
          "Cutter T",
          "Cutter T",
          null
         ]
        },
        {
         "connectgaps": false,
         "hoverinfo": "y+name",
         "line": {
          "color": "rgb(139,191,196)",
          "width": 10
         },
         "mode": "lines",
         "name": "sailing full:Carrier A",
         "type": "scatter",
         "x": [
          "1970-01-01T02:22:39",
          "1970-01-01T02:22:39",
          "1970-01-01T03:09:00",
          "1970-01-01T03:09:00",
          "1970-01-01T03:09:00",
          "1970-01-01T05:23:22",
          "1970-01-01T05:23:22",
          "1970-01-01T06:09:43",
          "1970-01-01T06:09:43",
          "1970-01-01T06:09:43",
          "1970-01-01T08:54:39",
          "1970-01-01T08:54:39",
          "1970-01-01T09:41:00",
          "1970-01-01T09:41:00",
          "1970-01-01T09:41:00",
          "1970-01-01T11:55:22",
          "1970-01-01T11:55:22",
          "1970-01-01T12:41:43",
          "1970-01-01T12:41:43",
          "1970-01-01T12:41:43",
          "1970-01-01T14:56:05",
          "1970-01-01T14:56:05",
          "1970-01-01T15:42:26",
          "1970-01-01T15:42:26",
          "1970-01-01T15:42:26",
          "1970-01-01T17:56:48",
          "1970-01-01T17:56:48",
          "1970-01-01T18:43:09",
          "1970-01-01T18:43:09",
          "1970-01-01T18:43:09",
          "1970-01-01T20:57:31",
          "1970-01-01T20:57:31",
          "1970-01-01T21:43:52",
          "1970-01-01T21:43:52",
          "1970-01-01T21:43:52"
         ],
         "y": [
          "Carrier A",
          "Carrier A",
          "Carrier A",
          "Carrier A",
          null,
          "Carrier A",
          "Carrier A",
          "Carrier A",
          "Carrier A",
          null,
          "Carrier A",
          "Carrier A",
          "Carrier A",
          "Carrier A",
          null,
          "Carrier A",
          "Carrier A",
          "Carrier A",
          "Carrier A",
          null,
          "Carrier A",
          "Carrier A",
          "Carrier A",
          "Carrier A",
          null,
          "Carrier A",
          "Carrier A",
          "Carrier A",
          "Carrier A",
          null,
          "Carrier A",
          "Carrier A",
          "Carrier A",
          "Carrier A",
          null
         ]
        },
        {
         "connectgaps": false,
         "hoverinfo": "y+name",
         "line": {
          "color": "rgb(156,208,213)",
          "width": 10
         },
         "mode": "lines",
         "name": "sailing empty:Carrier A",
         "type": "scatter",
         "x": [
          "1970-01-01T00:00:00",
          "1970-01-01T00:00:00",
          "1970-01-01T00:46:21",
          "1970-01-01T00:46:21",
          "1970-01-01T00:46:21",
          "1970-01-01T03:55:21",
          "1970-01-01T03:55:21",
          "1970-01-01T04:41:42",
          "1970-01-01T04:41:42",
          "1970-01-01T04:41:42",
          "1970-01-01T06:56:04",
          "1970-01-01T06:56:04",
          "1970-01-01T07:42:25",
          "1970-01-01T07:42:25",
          "1970-01-01T07:42:25",
          "1970-01-01T10:27:21",
          "1970-01-01T10:27:21",
          "1970-01-01T11:13:42",
          "1970-01-01T11:13:42",
          "1970-01-01T11:13:42",
          "1970-01-01T13:28:04",
          "1970-01-01T13:28:04",
          "1970-01-01T14:14:25",
          "1970-01-01T14:14:25",
          "1970-01-01T14:14:25",
          "1970-01-01T16:28:47",
          "1970-01-01T16:28:47",
          "1970-01-01T17:15:08",
          "1970-01-01T17:15:08",
          "1970-01-01T17:15:08",
          "1970-01-01T19:29:30",
          "1970-01-01T19:29:30",
          "1970-01-01T20:15:51",
          "1970-01-01T20:15:51",
          "1970-01-01T20:15:51"
         ],
         "y": [
          "Carrier A",
          "Carrier A",
          "Carrier A",
          "Carrier A",
          null,
          "Carrier A",
          "Carrier A",
          "Carrier A",
          "Carrier A",
          null,
          "Carrier A",
          "Carrier A",
          "Carrier A",
          "Carrier A",
          null,
          "Carrier A",
          "Carrier A",
          "Carrier A",
          "Carrier A",
          null,
          "Carrier A",
          "Carrier A",
          "Carrier A",
          "Carrier A",
          null,
          "Carrier A",
          "Carrier A",
          "Carrier A",
          "Carrier A",
          null,
          "Carrier A",
          "Carrier A",
          "Carrier A",
          "Carrier A",
          null
         ]
        },
        {
         "connectgaps": false,
         "hoverinfo": "y+name",
         "line": {
          "color": "rgb(173,225,230)",
          "width": 10
         },
         "mode": "lines",
         "name": "unloading:Carrier B",
         "type": "scatter",
         "x": [
          "1970-01-01T02:21:15",
          "1970-01-01T02:21:15",
          "1970-01-01T03:01:31",
          "1970-01-01T03:01:31",
          "1970-01-01T03:01:31",
          "1970-01-01T04:55:23",
          "1970-01-01T04:55:23",
          "1970-01-01T05:35:39",
          "1970-01-01T05:35:39",
          "1970-01-01T05:35:39",
          "1970-01-01T07:29:31",
          "1970-01-01T07:29:31",
          "1970-01-01T08:09:47",
          "1970-01-01T08:09:47",
          "1970-01-01T08:09:47",
          "1970-01-01T10:08:15",
          "1970-01-01T10:08:15",
          "1970-01-01T10:48:31",
          "1970-01-01T10:48:31",
          "1970-01-01T10:48:31",
          "1970-01-01T13:08:58",
          "1970-01-01T13:08:58",
          "1970-01-01T13:49:14",
          "1970-01-01T13:49:14",
          "1970-01-01T13:49:14",
          "1970-01-01T16:09:41",
          "1970-01-01T16:09:41",
          "1970-01-01T16:49:57",
          "1970-01-01T16:49:57",
          "1970-01-01T16:49:57",
          "1970-01-01T19:10:24",
          "1970-01-01T19:10:24",
          "1970-01-01T19:50:40",
          "1970-01-01T19:50:40",
          "1970-01-01T19:50:40",
          "1970-01-01T22:11:07",
          "1970-01-01T22:11:07",
          "1970-01-01T22:51:23",
          "1970-01-01T22:51:23",
          "1970-01-01T22:51:23"
         ],
         "y": [
          "Carrier B",
          "Carrier B",
          "Carrier B",
          "Carrier B",
          null,
          "Carrier B",
          "Carrier B",
          "Carrier B",
          "Carrier B",
          null,
          "Carrier B",
          "Carrier B",
          "Carrier B",
          "Carrier B",
          null,
          "Carrier B",
          "Carrier B",
          "Carrier B",
          "Carrier B",
          null,
          "Carrier B",
          "Carrier B",
          "Carrier B",
          "Carrier B",
          null,
          "Carrier B",
          "Carrier B",
          "Carrier B",
          "Carrier B",
          null,
          "Carrier B",
          "Carrier B",
          "Carrier B",
          "Carrier B",
          null,
          "Carrier B",
          "Carrier B",
          "Carrier B",
          "Carrier B",
          null
         ]
        },
        {
         "connectgaps": false,
         "hoverinfo": "y+name",
         "line": {
          "color": "rgb(190,242,247)",
          "width": 10
         },
         "mode": "lines",
         "name": "sailing full:Carrier B",
         "type": "scatter",
         "x": [
          "1970-01-01T01:40:59",
          "1970-01-01T01:40:59",
          "1970-01-01T02:21:15",
          "1970-01-01T02:21:15",
          "1970-01-01T02:21:15",
          "1970-01-01T04:15:07",
          "1970-01-01T04:15:07",
          "1970-01-01T04:55:23",
          "1970-01-01T04:55:23",
          "1970-01-01T04:55:23",
          "1970-01-01T06:49:15",
          "1970-01-01T06:49:15",
          "1970-01-01T07:29:31",
          "1970-01-01T07:29:31",
          "1970-01-01T07:29:31",
          "1970-01-01T09:27:59",
          "1970-01-01T09:27:59",
          "1970-01-01T10:08:15",
          "1970-01-01T10:08:15",
          "1970-01-01T10:08:15",
          "1970-01-01T12:28:42",
          "1970-01-01T12:28:42",
          "1970-01-01T13:08:58",
          "1970-01-01T13:08:58",
          "1970-01-01T13:08:58",
          "1970-01-01T15:29:25",
          "1970-01-01T15:29:25",
          "1970-01-01T16:09:41",
          "1970-01-01T16:09:41",
          "1970-01-01T16:09:41",
          "1970-01-01T18:30:08",
          "1970-01-01T18:30:08",
          "1970-01-01T19:10:24",
          "1970-01-01T19:10:24",
          "1970-01-01T19:10:24",
          "1970-01-01T21:30:51",
          "1970-01-01T21:30:51",
          "1970-01-01T22:11:07",
          "1970-01-01T22:11:07",
          "1970-01-01T22:11:07"
         ],
         "y": [
          "Carrier B",
          "Carrier B",
          "Carrier B",
          "Carrier B",
          null,
          "Carrier B",
          "Carrier B",
          "Carrier B",
          "Carrier B",
          null,
          "Carrier B",
          "Carrier B",
          "Carrier B",
          "Carrier B",
          null,
          "Carrier B",
          "Carrier B",
          "Carrier B",
          "Carrier B",
          null,
          "Carrier B",
          "Carrier B",
          "Carrier B",
          "Carrier B",
          null,
          "Carrier B",
          "Carrier B",
          "Carrier B",
          "Carrier B",
          null,
          "Carrier B",
          "Carrier B",
          "Carrier B",
          "Carrier B",
          null,
          "Carrier B",
          "Carrier B",
          "Carrier B",
          "Carrier B",
          null
         ]
        },
        {
         "connectgaps": false,
         "hoverinfo": "y+name",
         "line": {
          "color": "rgb(207,3,8)",
          "width": 10
         },
         "mode": "lines",
         "name": "loading:Carrier B",
         "type": "scatter",
         "x": [
          "1970-01-01T01:07:39",
          "1970-01-01T01:07:39",
          "1970-01-01T01:40:59",
          "1970-01-01T01:40:59",
          "1970-01-01T01:40:59",
          "1970-01-01T03:41:47",
          "1970-01-01T03:41:47",
          "1970-01-01T04:15:07",
          "1970-01-01T04:15:07",
          "1970-01-01T04:15:07",
          "1970-01-01T06:15:55",
          "1970-01-01T06:15:55",
          "1970-01-01T06:49:15",
          "1970-01-01T06:49:15",
          "1970-01-01T06:49:15",
          "1970-01-01T08:54:39",
          "1970-01-01T08:54:39",
          "1970-01-01T09:27:59",
          "1970-01-01T09:27:59",
          "1970-01-01T09:27:59",
          "1970-01-01T11:55:22",
          "1970-01-01T11:55:22",
          "1970-01-01T12:28:42",
          "1970-01-01T12:28:42",
          "1970-01-01T12:28:42",
          "1970-01-01T14:56:05",
          "1970-01-01T14:56:05",
          "1970-01-01T15:29:25",
          "1970-01-01T15:29:25",
          "1970-01-01T15:29:25",
          "1970-01-01T17:56:48",
          "1970-01-01T17:56:48",
          "1970-01-01T18:30:08",
          "1970-01-01T18:30:08",
          "1970-01-01T18:30:08",
          "1970-01-01T20:57:31",
          "1970-01-01T20:57:31",
          "1970-01-01T21:30:51",
          "1970-01-01T21:30:51",
          "1970-01-01T21:30:51",
          "1970-01-01T01:07:39",
          "1970-01-01T01:07:39",
          "1970-01-01T01:40:59",
          "1970-01-01T01:40:59",
          "1970-01-01T01:40:59",
          "1970-01-01T03:41:47",
          "1970-01-01T03:41:47",
          "1970-01-01T04:15:07",
          "1970-01-01T04:15:07",
          "1970-01-01T04:15:07",
          "1970-01-01T06:15:55",
          "1970-01-01T06:15:55",
          "1970-01-01T06:49:15",
          "1970-01-01T06:49:15",
          "1970-01-01T06:49:15",
          "1970-01-01T08:54:39",
          "1970-01-01T08:54:39",
          "1970-01-01T09:27:59",
          "1970-01-01T09:27:59",
          "1970-01-01T09:27:59",
          "1970-01-01T11:55:22",
          "1970-01-01T11:55:22",
          "1970-01-01T12:28:42",
          "1970-01-01T12:28:42",
          "1970-01-01T12:28:42",
          "1970-01-01T14:56:05",
          "1970-01-01T14:56:05",
          "1970-01-01T15:29:25",
          "1970-01-01T15:29:25",
          "1970-01-01T15:29:25",
          "1970-01-01T17:56:48",
          "1970-01-01T17:56:48",
          "1970-01-01T18:30:08",
          "1970-01-01T18:30:08",
          "1970-01-01T18:30:08",
          "1970-01-01T20:57:31",
          "1970-01-01T20:57:31",
          "1970-01-01T21:30:51",
          "1970-01-01T21:30:51",
          "1970-01-01T21:30:51"
         ],
         "y": [
          "Carrier B",
          "Carrier B",
          "Carrier B",
          "Carrier B",
          null,
          "Carrier B",
          "Carrier B",
          "Carrier B",
          "Carrier B",
          null,
          "Carrier B",
          "Carrier B",
          "Carrier B",
          "Carrier B",
          null,
          "Carrier B",
          "Carrier B",
          "Carrier B",
          "Carrier B",
          null,
          "Carrier B",
          "Carrier B",
          "Carrier B",
          "Carrier B",
          null,
          "Carrier B",
          "Carrier B",
          "Carrier B",
          "Carrier B",
          null,
          "Carrier B",
          "Carrier B",
          "Carrier B",
          "Carrier B",
          null,
          "Carrier B",
          "Carrier B",
          "Carrier B",
          "Carrier B",
          null,
          "Cutter T",
          "Cutter T",
          "Cutter T",
          "Cutter T",
          null,
          "Cutter T",
          "Cutter T",
          "Cutter T",
          "Cutter T",
          null,
          "Cutter T",
          "Cutter T",
          "Cutter T",
          "Cutter T",
          null,
          "Cutter T",
          "Cutter T",
          "Cutter T",
          "Cutter T",
          null,
          "Cutter T",
          "Cutter T",
          "Cutter T",
          "Cutter T",
          null,
          "Cutter T",
          "Cutter T",
          "Cutter T",
          "Cutter T",
          null,
          "Cutter T",
          "Cutter T",
          "Cutter T",
          "Cutter T",
          null,
          "Cutter T",
          "Cutter T",
          "Cutter T",
          "Cutter T",
          null
         ]
        },
        {
         "connectgaps": false,
         "hoverinfo": "y+name",
         "line": {
          "color": "rgb(224,20,25)",
          "width": 10
         },
         "mode": "lines",
         "name": "sailing empty:Carrier B",
         "type": "scatter",
         "x": [
          "1970-01-01T00:00:00",
          "1970-01-01T00:00:00",
          "1970-01-01T00:40:16",
          "1970-01-01T00:40:16",
          "1970-01-01T00:40:16",
          "1970-01-01T03:01:31",
          "1970-01-01T03:01:31",
          "1970-01-01T03:41:47",
          "1970-01-01T03:41:47",
          "1970-01-01T03:41:47",
          "1970-01-01T05:35:39",
          "1970-01-01T05:35:39",
          "1970-01-01T06:15:55",
          "1970-01-01T06:15:55",
          "1970-01-01T06:15:55",
          "1970-01-01T08:09:47",
          "1970-01-01T08:09:47",
          "1970-01-01T08:50:03",
          "1970-01-01T08:50:03",
          "1970-01-01T08:50:03",
          "1970-01-01T10:48:31",
          "1970-01-01T10:48:31",
          "1970-01-01T11:28:47",
          "1970-01-01T11:28:47",
          "1970-01-01T11:28:47",
          "1970-01-01T13:49:14",
          "1970-01-01T13:49:14",
          "1970-01-01T14:29:30",
          "1970-01-01T14:29:30",
          "1970-01-01T14:29:30",
          "1970-01-01T16:49:57",
          "1970-01-01T16:49:57",
          "1970-01-01T17:30:13",
          "1970-01-01T17:30:13",
          "1970-01-01T17:30:13",
          "1970-01-01T19:50:40",
          "1970-01-01T19:50:40",
          "1970-01-01T20:30:56",
          "1970-01-01T20:30:56",
          "1970-01-01T20:30:56"
         ],
         "y": [
          "Carrier B",
          "Carrier B",
          "Carrier B",
          "Carrier B",
          null,
          "Carrier B",
          "Carrier B",
          "Carrier B",
          "Carrier B",
          null,
          "Carrier B",
          "Carrier B",
          "Carrier B",
          "Carrier B",
          null,
          "Carrier B",
          "Carrier B",
          "Carrier B",
          "Carrier B",
          null,
          "Carrier B",
          "Carrier B",
          "Carrier B",
          "Carrier B",
          null,
          "Carrier B",
          "Carrier B",
          "Carrier B",
          "Carrier B",
          null,
          "Carrier B",
          "Carrier B",
          "Carrier B",
          "Carrier B",
          null,
          "Carrier B",
          "Carrier B",
          "Carrier B",
          "Carrier B",
          null
         ]
        },
        {
         "connectgaps": false,
         "hoverinfo": "y+name",
         "line": {
          "color": "rgb(241,37,42)",
          "width": 10
         },
         "mode": "lines",
         "name": "unloading:Carrier C",
         "type": "scatter",
         "x": [
          "1970-01-01T01:41:58",
          "1970-01-01T01:41:58",
          "1970-01-01T02:16:17",
          "1970-01-01T02:16:17",
          "1970-01-01T02:16:17",
          "1970-01-01T03:58:15",
          "1970-01-01T03:58:15",
          "1970-01-01T04:32:34",
          "1970-01-01T04:32:34",
          "1970-01-01T04:32:34",
          "1970-01-01T06:31:01",
          "1970-01-01T06:31:01",
          "1970-01-01T07:05:20",
          "1970-01-01T07:05:20",
          "1970-01-01T07:05:20",
          "1970-01-01T08:47:18",
          "1970-01-01T08:47:18",
          "1970-01-01T09:21:37",
          "1970-01-01T09:21:37",
          "1970-01-01T09:21:37",
          "1970-01-01T11:03:35",
          "1970-01-01T11:03:35",
          "1970-01-01T11:37:54",
          "1970-01-01T11:37:54",
          "1970-01-01T11:37:54",
          "1970-01-01T13:36:21",
          "1970-01-01T13:36:21",
          "1970-01-01T14:10:40",
          "1970-01-01T14:10:40",
          "1970-01-01T14:10:40",
          "1970-01-01T16:37:04",
          "1970-01-01T16:37:04",
          "1970-01-01T17:11:23",
          "1970-01-01T17:11:23",
          "1970-01-01T17:11:23",
          "1970-01-01T19:37:47",
          "1970-01-01T19:37:47",
          "1970-01-01T20:12:06",
          "1970-01-01T20:12:06",
          "1970-01-01T20:12:06",
          "1970-01-01T22:38:30",
          "1970-01-01T22:38:30",
          "1970-01-01T23:12:49",
          "1970-01-01T23:12:49",
          "1970-01-01T23:12:49"
         ],
         "y": [
          "Carrier C",
          "Carrier C",
          "Carrier C",
          "Carrier C",
          null,
          "Carrier C",
          "Carrier C",
          "Carrier C",
          "Carrier C",
          null,
          "Carrier C",
          "Carrier C",
          "Carrier C",
          "Carrier C",
          null,
          "Carrier C",
          "Carrier C",
          "Carrier C",
          "Carrier C",
          null,
          "Carrier C",
          "Carrier C",
          "Carrier C",
          "Carrier C",
          null,
          "Carrier C",
          "Carrier C",
          "Carrier C",
          "Carrier C",
          null,
          "Carrier C",
          "Carrier C",
          "Carrier C",
          "Carrier C",
          null,
          "Carrier C",
          "Carrier C",
          "Carrier C",
          "Carrier C",
          null,
          "Carrier C",
          "Carrier C",
          "Carrier C",
          "Carrier C",
          null
         ]
        },
        {
         "connectgaps": false,
         "hoverinfo": "y+name",
         "line": {
          "color": "rgb(2,54,59)",
          "width": 10
         },
         "mode": "lines",
         "name": "sailing full:Carrier C",
         "type": "scatter",
         "x": [
          "1970-01-01T01:07:39",
          "1970-01-01T01:07:39",
          "1970-01-01T01:41:58",
          "1970-01-01T01:41:58",
          "1970-01-01T01:41:58",
          "1970-01-01T03:23:56",
          "1970-01-01T03:23:56",
          "1970-01-01T03:58:15",
          "1970-01-01T03:58:15",
          "1970-01-01T03:58:15",
          "1970-01-01T05:56:42",
          "1970-01-01T05:56:42",
          "1970-01-01T06:31:01",
          "1970-01-01T06:31:01",
          "1970-01-01T06:31:01",
          "1970-01-01T08:12:59",
          "1970-01-01T08:12:59",
          "1970-01-01T08:47:18",
          "1970-01-01T08:47:18",
          "1970-01-01T08:47:18",
          "1970-01-01T10:29:16",
          "1970-01-01T10:29:16",
          "1970-01-01T11:03:35",
          "1970-01-01T11:03:35",
          "1970-01-01T11:03:35",
          "1970-01-01T13:02:02",
          "1970-01-01T13:02:02",
          "1970-01-01T13:36:21",
          "1970-01-01T13:36:21",
          "1970-01-01T13:36:21",
          "1970-01-01T16:02:45",
          "1970-01-01T16:02:45",
          "1970-01-01T16:37:04",
          "1970-01-01T16:37:04",
          "1970-01-01T16:37:04",
          "1970-01-01T19:03:28",
          "1970-01-01T19:03:28",
          "1970-01-01T19:37:47",
          "1970-01-01T19:37:47",
          "1970-01-01T19:37:47",
          "1970-01-01T22:04:11",
          "1970-01-01T22:04:11",
          "1970-01-01T22:38:30",
          "1970-01-01T22:38:30",
          "1970-01-01T22:38:30"
         ],
         "y": [
          "Carrier C",
          "Carrier C",
          "Carrier C",
          "Carrier C",
          null,
          "Carrier C",
          "Carrier C",
          "Carrier C",
          "Carrier C",
          null,
          "Carrier C",
          "Carrier C",
          "Carrier C",
          "Carrier C",
          null,
          "Carrier C",
          "Carrier C",
          "Carrier C",
          "Carrier C",
          null,
          "Carrier C",
          "Carrier C",
          "Carrier C",
          "Carrier C",
          null,
          "Carrier C",
          "Carrier C",
          "Carrier C",
          "Carrier C",
          null,
          "Carrier C",
          "Carrier C",
          "Carrier C",
          "Carrier C",
          null,
          "Carrier C",
          "Carrier C",
          "Carrier C",
          "Carrier C",
          null,
          "Carrier C",
          "Carrier C",
          "Carrier C",
          "Carrier C",
          null
         ]
        },
        {
         "connectgaps": false,
         "hoverinfo": "y+name",
         "line": {
          "color": "rgb(19,71,76)",
          "width": 10
         },
         "mode": "lines",
         "name": "sailing empty:Carrier C",
         "type": "scatter",
         "x": [
          "1970-01-01T00:00:00",
          "1970-01-01T00:00:00",
          "1970-01-01T00:34:19",
          "1970-01-01T00:34:19",
          "1970-01-01T00:34:19",
          "1970-01-01T02:16:17",
          "1970-01-01T02:16:17",
          "1970-01-01T02:50:36",
          "1970-01-01T02:50:36",
          "1970-01-01T02:50:36",
          "1970-01-01T04:32:34",
          "1970-01-01T04:32:34",
          "1970-01-01T05:06:53",
          "1970-01-01T05:06:53",
          "1970-01-01T05:06:53",
          "1970-01-01T07:05:20",
          "1970-01-01T07:05:20",
          "1970-01-01T07:39:39",
          "1970-01-01T07:39:39",
          "1970-01-01T07:39:39",
          "1970-01-01T09:21:37",
          "1970-01-01T09:21:37",
          "1970-01-01T09:55:56",
          "1970-01-01T09:55:56",
          "1970-01-01T09:55:56",
          "1970-01-01T11:37:54",
          "1970-01-01T11:37:54",
          "1970-01-01T12:12:13",
          "1970-01-01T12:12:13",
          "1970-01-01T12:12:13",
          "1970-01-01T14:10:40",
          "1970-01-01T14:10:40",
          "1970-01-01T14:44:59",
          "1970-01-01T14:44:59",
          "1970-01-01T14:44:59",
          "1970-01-01T17:11:23",
          "1970-01-01T17:11:23",
          "1970-01-01T17:45:42",
          "1970-01-01T17:45:42",
          "1970-01-01T17:45:42",
          "1970-01-01T20:12:06",
          "1970-01-01T20:12:06",
          "1970-01-01T20:46:25",
          "1970-01-01T20:46:25",
          "1970-01-01T20:46:25"
         ],
         "y": [
          "Carrier C",
          "Carrier C",
          "Carrier C",
          "Carrier C",
          null,
          "Carrier C",
          "Carrier C",
          "Carrier C",
          "Carrier C",
          null,
          "Carrier C",
          "Carrier C",
          "Carrier C",
          "Carrier C",
          null,
          "Carrier C",
          "Carrier C",
          "Carrier C",
          "Carrier C",
          null,
          "Carrier C",
          "Carrier C",
          "Carrier C",
          "Carrier C",
          null,
          "Carrier C",
          "Carrier C",
          "Carrier C",
          "Carrier C",
          null,
          "Carrier C",
          "Carrier C",
          "Carrier C",
          "Carrier C",
          null,
          "Carrier C",
          "Carrier C",
          "Carrier C",
          "Carrier C",
          null,
          "Carrier C",
          "Carrier C",
          "Carrier C",
          "Carrier C",
          null
         ]
        },
        {
         "connectgaps": false,
         "hoverinfo": "y+name",
         "line": {
          "color": "rgb(36,88,93)",
          "width": 10
         },
         "mode": "lines",
         "name": "loading:Carrier C",
         "type": "scatter",
         "x": [
          "1970-01-01T00:34:19",
          "1970-01-01T00:34:19",
          "1970-01-01T01:07:39",
          "1970-01-01T01:07:39",
          "1970-01-01T01:07:39",
          "1970-01-01T02:50:36",
          "1970-01-01T02:50:36",
          "1970-01-01T03:23:56",
          "1970-01-01T03:23:56",
          "1970-01-01T03:23:56",
          "1970-01-01T05:23:22",
          "1970-01-01T05:23:22",
          "1970-01-01T05:56:42",
          "1970-01-01T05:56:42",
          "1970-01-01T05:56:42",
          "1970-01-01T07:39:39",
          "1970-01-01T07:39:39",
          "1970-01-01T08:12:59",
          "1970-01-01T08:12:59",
          "1970-01-01T08:12:59",
          "1970-01-01T09:55:56",
          "1970-01-01T09:55:56",
          "1970-01-01T10:29:16",
          "1970-01-01T10:29:16",
          "1970-01-01T10:29:16",
          "1970-01-01T12:28:42",
          "1970-01-01T12:28:42",
          "1970-01-01T13:02:02",
          "1970-01-01T13:02:02",
          "1970-01-01T13:02:02",
          "1970-01-01T15:29:25",
          "1970-01-01T15:29:25",
          "1970-01-01T16:02:45",
          "1970-01-01T16:02:45",
          "1970-01-01T16:02:45",
          "1970-01-01T18:30:08",
          "1970-01-01T18:30:08",
          "1970-01-01T19:03:28",
          "1970-01-01T19:03:28",
          "1970-01-01T19:03:28",
          "1970-01-01T21:30:51",
          "1970-01-01T21:30:51",
          "1970-01-01T22:04:11",
          "1970-01-01T22:04:11",
          "1970-01-01T22:04:11",
          "1970-01-01T00:34:19",
          "1970-01-01T00:34:19",
          "1970-01-01T01:07:39",
          "1970-01-01T01:07:39",
          "1970-01-01T01:07:39",
          "1970-01-01T02:50:36",
          "1970-01-01T02:50:36",
          "1970-01-01T03:23:56",
          "1970-01-01T03:23:56",
          "1970-01-01T03:23:56",
          "1970-01-01T05:23:22",
          "1970-01-01T05:23:22",
          "1970-01-01T05:56:42",
          "1970-01-01T05:56:42",
          "1970-01-01T05:56:42",
          "1970-01-01T07:39:39",
          "1970-01-01T07:39:39",
          "1970-01-01T08:12:59",
          "1970-01-01T08:12:59",
          "1970-01-01T08:12:59",
          "1970-01-01T09:55:56",
          "1970-01-01T09:55:56",
          "1970-01-01T10:29:16",
          "1970-01-01T10:29:16",
          "1970-01-01T10:29:16",
          "1970-01-01T12:28:42",
          "1970-01-01T12:28:42",
          "1970-01-01T13:02:02",
          "1970-01-01T13:02:02",
          "1970-01-01T13:02:02",
          "1970-01-01T15:29:25",
          "1970-01-01T15:29:25",
          "1970-01-01T16:02:45",
          "1970-01-01T16:02:45",
          "1970-01-01T16:02:45",
          "1970-01-01T18:30:08",
          "1970-01-01T18:30:08",
          "1970-01-01T19:03:28",
          "1970-01-01T19:03:28",
          "1970-01-01T19:03:28",
          "1970-01-01T21:30:51",
          "1970-01-01T21:30:51",
          "1970-01-01T22:04:11",
          "1970-01-01T22:04:11",
          "1970-01-01T22:04:11"
         ],
         "y": [
          "Carrier C",
          "Carrier C",
          "Carrier C",
          "Carrier C",
          null,
          "Carrier C",
          "Carrier C",
          "Carrier C",
          "Carrier C",
          null,
          "Carrier C",
          "Carrier C",
          "Carrier C",
          "Carrier C",
          null,
          "Carrier C",
          "Carrier C",
          "Carrier C",
          "Carrier C",
          null,
          "Carrier C",
          "Carrier C",
          "Carrier C",
          "Carrier C",
          null,
          "Carrier C",
          "Carrier C",
          "Carrier C",
          "Carrier C",
          null,
          "Carrier C",
          "Carrier C",
          "Carrier C",
          "Carrier C",
          null,
          "Carrier C",
          "Carrier C",
          "Carrier C",
          "Carrier C",
          null,
          "Carrier C",
          "Carrier C",
          "Carrier C",
          "Carrier C",
          null,
          "Cutter T",
          "Cutter T",
          "Cutter T",
          "Cutter T",
          null,
          "Cutter T",
          "Cutter T",
          "Cutter T",
          "Cutter T",
          null,
          "Cutter T",
          "Cutter T",
          "Cutter T",
          "Cutter T",
          null,
          "Cutter T",
          "Cutter T",
          "Cutter T",
          "Cutter T",
          null,
          "Cutter T",
          "Cutter T",
          "Cutter T",
          "Cutter T",
          null,
          "Cutter T",
          "Cutter T",
          "Cutter T",
          "Cutter T",
          null,
          "Cutter T",
          "Cutter T",
          "Cutter T",
          "Cutter T",
          null,
          "Cutter T",
          "Cutter T",
          "Cutter T",
          "Cutter T",
          null,
          "Cutter T",
          "Cutter T",
          "Cutter T",
          "Cutter T",
          null
         ]
        },
        {
         "connectgaps": false,
         "hoverinfo": "y+name",
         "line": {
          "color": "rgb(53,105,110)",
          "width": 10
         },
         "mode": "lines",
         "name": "loading:Carrier A",
         "type": "scatter",
         "x": [
          "1970-01-01T01:40:59",
          "1970-01-01T01:40:59",
          "1970-01-01T02:22:39",
          "1970-01-01T02:22:39",
          "1970-01-01T02:22:39",
          "1970-01-01T04:41:42",
          "1970-01-01T04:41:42",
          "1970-01-01T05:23:22",
          "1970-01-01T05:23:22",
          "1970-01-01T05:23:22",
          "1970-01-01T08:12:59",
          "1970-01-01T08:12:59",
          "1970-01-01T08:54:39",
          "1970-01-01T08:54:39",
          "1970-01-01T08:54:39",
          "1970-01-01T11:13:42",
          "1970-01-01T11:13:42",
          "1970-01-01T11:55:22",
          "1970-01-01T11:55:22",
          "1970-01-01T11:55:22",
          "1970-01-01T14:14:25",
          "1970-01-01T14:14:25",
          "1970-01-01T14:56:05",
          "1970-01-01T14:56:05",
          "1970-01-01T14:56:05",
          "1970-01-01T17:15:08",
          "1970-01-01T17:15:08",
          "1970-01-01T17:56:48",
          "1970-01-01T17:56:48",
          "1970-01-01T17:56:48",
          "1970-01-01T20:15:51",
          "1970-01-01T20:15:51",
          "1970-01-01T20:57:31",
          "1970-01-01T20:57:31",
          "1970-01-01T20:57:31",
          "1970-01-01T01:40:59",
          "1970-01-01T01:40:59",
          "1970-01-01T02:22:39",
          "1970-01-01T02:22:39",
          "1970-01-01T02:22:39",
          "1970-01-01T04:41:42",
          "1970-01-01T04:41:42",
          "1970-01-01T05:23:22",
          "1970-01-01T05:23:22",
          "1970-01-01T05:23:22",
          "1970-01-01T08:12:59",
          "1970-01-01T08:12:59",
          "1970-01-01T08:54:39",
          "1970-01-01T08:54:39",
          "1970-01-01T08:54:39",
          "1970-01-01T11:13:42",
          "1970-01-01T11:13:42",
          "1970-01-01T11:55:22",
          "1970-01-01T11:55:22",
          "1970-01-01T11:55:22",
          "1970-01-01T14:14:25",
          "1970-01-01T14:14:25",
          "1970-01-01T14:56:05",
          "1970-01-01T14:56:05",
          "1970-01-01T14:56:05",
          "1970-01-01T17:15:08",
          "1970-01-01T17:15:08",
          "1970-01-01T17:56:48",
          "1970-01-01T17:56:48",
          "1970-01-01T17:56:48",
          "1970-01-01T20:15:51",
          "1970-01-01T20:15:51",
          "1970-01-01T20:57:31",
          "1970-01-01T20:57:31",
          "1970-01-01T20:57:31"
         ],
         "y": [
          "Carrier A",
          "Carrier A",
          "Carrier A",
          "Carrier A",
          null,
          "Carrier A",
          "Carrier A",
          "Carrier A",
          "Carrier A",
          null,
          "Carrier A",
          "Carrier A",
          "Carrier A",
          "Carrier A",
          null,
          "Carrier A",
          "Carrier A",
          "Carrier A",
          "Carrier A",
          null,
          "Carrier A",
          "Carrier A",
          "Carrier A",
          "Carrier A",
          null,
          "Carrier A",
          "Carrier A",
          "Carrier A",
          "Carrier A",
          null,
          "Carrier A",
          "Carrier A",
          "Carrier A",
          "Carrier A",
          null,
          "Cutter T",
          "Cutter T",
          "Cutter T",
          "Cutter T",
          null,
          "Cutter T",
          "Cutter T",
          "Cutter T",
          "Cutter T",
          null,
          "Cutter T",
          "Cutter T",
          "Cutter T",
          "Cutter T",
          null,
          "Cutter T",
          "Cutter T",
          "Cutter T",
          "Cutter T",
          null,
          "Cutter T",
          "Cutter T",
          "Cutter T",
          "Cutter T",
          null,
          "Cutter T",
          "Cutter T",
          "Cutter T",
          "Cutter T",
          null,
          "Cutter T",
          "Cutter T",
          "Cutter T",
          "Cutter T",
          null
         ]
        },
        {
         "connectgaps": false,
         "hoverinfo": "y+name",
         "line": {
          "color": "rgb(70,122,127)",
          "width": 10
         },
         "mode": "lines",
         "name": "loading:Carrier B",
         "type": "scatter",
         "x": [
          "1970-01-01T01:07:39",
          "1970-01-01T01:07:39",
          "1970-01-01T01:40:59",
          "1970-01-01T01:40:59",
          "1970-01-01T01:40:59",
          "1970-01-01T03:41:47",
          "1970-01-01T03:41:47",
          "1970-01-01T04:15:07",
          "1970-01-01T04:15:07",
          "1970-01-01T04:15:07",
          "1970-01-01T06:15:55",
          "1970-01-01T06:15:55",
          "1970-01-01T06:49:15",
          "1970-01-01T06:49:15",
          "1970-01-01T06:49:15",
          "1970-01-01T08:54:39",
          "1970-01-01T08:54:39",
          "1970-01-01T09:27:59",
          "1970-01-01T09:27:59",
          "1970-01-01T09:27:59",
          "1970-01-01T11:55:22",
          "1970-01-01T11:55:22",
          "1970-01-01T12:28:42",
          "1970-01-01T12:28:42",
          "1970-01-01T12:28:42",
          "1970-01-01T14:56:05",
          "1970-01-01T14:56:05",
          "1970-01-01T15:29:25",
          "1970-01-01T15:29:25",
          "1970-01-01T15:29:25",
          "1970-01-01T17:56:48",
          "1970-01-01T17:56:48",
          "1970-01-01T18:30:08",
          "1970-01-01T18:30:08",
          "1970-01-01T18:30:08",
          "1970-01-01T20:57:31",
          "1970-01-01T20:57:31",
          "1970-01-01T21:30:51",
          "1970-01-01T21:30:51",
          "1970-01-01T21:30:51",
          "1970-01-01T01:07:39",
          "1970-01-01T01:07:39",
          "1970-01-01T01:40:59",
          "1970-01-01T01:40:59",
          "1970-01-01T01:40:59",
          "1970-01-01T03:41:47",
          "1970-01-01T03:41:47",
          "1970-01-01T04:15:07",
          "1970-01-01T04:15:07",
          "1970-01-01T04:15:07",
          "1970-01-01T06:15:55",
          "1970-01-01T06:15:55",
          "1970-01-01T06:49:15",
          "1970-01-01T06:49:15",
          "1970-01-01T06:49:15",
          "1970-01-01T08:54:39",
          "1970-01-01T08:54:39",
          "1970-01-01T09:27:59",
          "1970-01-01T09:27:59",
          "1970-01-01T09:27:59",
          "1970-01-01T11:55:22",
          "1970-01-01T11:55:22",
          "1970-01-01T12:28:42",
          "1970-01-01T12:28:42",
          "1970-01-01T12:28:42",
          "1970-01-01T14:56:05",
          "1970-01-01T14:56:05",
          "1970-01-01T15:29:25",
          "1970-01-01T15:29:25",
          "1970-01-01T15:29:25",
          "1970-01-01T17:56:48",
          "1970-01-01T17:56:48",
          "1970-01-01T18:30:08",
          "1970-01-01T18:30:08",
          "1970-01-01T18:30:08",
          "1970-01-01T20:57:31",
          "1970-01-01T20:57:31",
          "1970-01-01T21:30:51",
          "1970-01-01T21:30:51",
          "1970-01-01T21:30:51"
         ],
         "y": [
          "Carrier B",
          "Carrier B",
          "Carrier B",
          "Carrier B",
          null,
          "Carrier B",
          "Carrier B",
          "Carrier B",
          "Carrier B",
          null,
          "Carrier B",
          "Carrier B",
          "Carrier B",
          "Carrier B",
          null,
          "Carrier B",
          "Carrier B",
          "Carrier B",
          "Carrier B",
          null,
          "Carrier B",
          "Carrier B",
          "Carrier B",
          "Carrier B",
          null,
          "Carrier B",
          "Carrier B",
          "Carrier B",
          "Carrier B",
          null,
          "Carrier B",
          "Carrier B",
          "Carrier B",
          "Carrier B",
          null,
          "Carrier B",
          "Carrier B",
          "Carrier B",
          "Carrier B",
          null,
          "Cutter T",
          "Cutter T",
          "Cutter T",
          "Cutter T",
          null,
          "Cutter T",
          "Cutter T",
          "Cutter T",
          "Cutter T",
          null,
          "Cutter T",
          "Cutter T",
          "Cutter T",
          "Cutter T",
          null,
          "Cutter T",
          "Cutter T",
          "Cutter T",
          "Cutter T",
          null,
          "Cutter T",
          "Cutter T",
          "Cutter T",
          "Cutter T",
          null,
          "Cutter T",
          "Cutter T",
          "Cutter T",
          "Cutter T",
          null,
          "Cutter T",
          "Cutter T",
          "Cutter T",
          "Cutter T",
          null,
          "Cutter T",
          "Cutter T",
          "Cutter T",
          "Cutter T",
          null
         ]
        },
        {
         "connectgaps": false,
         "hoverinfo": "y+name",
         "line": {
          "color": "rgb(87,139,144)",
          "width": 10
         },
         "mode": "lines",
         "name": "loading:Carrier C",
         "type": "scatter",
         "x": [
          "1970-01-01T00:34:19",
          "1970-01-01T00:34:19",
          "1970-01-01T01:07:39",
          "1970-01-01T01:07:39",
          "1970-01-01T01:07:39",
          "1970-01-01T02:50:36",
          "1970-01-01T02:50:36",
          "1970-01-01T03:23:56",
          "1970-01-01T03:23:56",
          "1970-01-01T03:23:56",
          "1970-01-01T05:23:22",
          "1970-01-01T05:23:22",
          "1970-01-01T05:56:42",
          "1970-01-01T05:56:42",
          "1970-01-01T05:56:42",
          "1970-01-01T07:39:39",
          "1970-01-01T07:39:39",
          "1970-01-01T08:12:59",
          "1970-01-01T08:12:59",
          "1970-01-01T08:12:59",
          "1970-01-01T09:55:56",
          "1970-01-01T09:55:56",
          "1970-01-01T10:29:16",
          "1970-01-01T10:29:16",
          "1970-01-01T10:29:16",
          "1970-01-01T12:28:42",
          "1970-01-01T12:28:42",
          "1970-01-01T13:02:02",
          "1970-01-01T13:02:02",
          "1970-01-01T13:02:02",
          "1970-01-01T15:29:25",
          "1970-01-01T15:29:25",
          "1970-01-01T16:02:45",
          "1970-01-01T16:02:45",
          "1970-01-01T16:02:45",
          "1970-01-01T18:30:08",
          "1970-01-01T18:30:08",
          "1970-01-01T19:03:28",
          "1970-01-01T19:03:28",
          "1970-01-01T19:03:28",
          "1970-01-01T21:30:51",
          "1970-01-01T21:30:51",
          "1970-01-01T22:04:11",
          "1970-01-01T22:04:11",
          "1970-01-01T22:04:11",
          "1970-01-01T00:34:19",
          "1970-01-01T00:34:19",
          "1970-01-01T01:07:39",
          "1970-01-01T01:07:39",
          "1970-01-01T01:07:39",
          "1970-01-01T02:50:36",
          "1970-01-01T02:50:36",
          "1970-01-01T03:23:56",
          "1970-01-01T03:23:56",
          "1970-01-01T03:23:56",
          "1970-01-01T05:23:22",
          "1970-01-01T05:23:22",
          "1970-01-01T05:56:42",
          "1970-01-01T05:56:42",
          "1970-01-01T05:56:42",
          "1970-01-01T07:39:39",
          "1970-01-01T07:39:39",
          "1970-01-01T08:12:59",
          "1970-01-01T08:12:59",
          "1970-01-01T08:12:59",
          "1970-01-01T09:55:56",
          "1970-01-01T09:55:56",
          "1970-01-01T10:29:16",
          "1970-01-01T10:29:16",
          "1970-01-01T10:29:16",
          "1970-01-01T12:28:42",
          "1970-01-01T12:28:42",
          "1970-01-01T13:02:02",
          "1970-01-01T13:02:02",
          "1970-01-01T13:02:02",
          "1970-01-01T15:29:25",
          "1970-01-01T15:29:25",
          "1970-01-01T16:02:45",
          "1970-01-01T16:02:45",
          "1970-01-01T16:02:45",
          "1970-01-01T18:30:08",
          "1970-01-01T18:30:08",
          "1970-01-01T19:03:28",
          "1970-01-01T19:03:28",
          "1970-01-01T19:03:28",
          "1970-01-01T21:30:51",
          "1970-01-01T21:30:51",
          "1970-01-01T22:04:11",
          "1970-01-01T22:04:11",
          "1970-01-01T22:04:11"
         ],
         "y": [
          "Carrier C",
          "Carrier C",
          "Carrier C",
          "Carrier C",
          null,
          "Carrier C",
          "Carrier C",
          "Carrier C",
          "Carrier C",
          null,
          "Carrier C",
          "Carrier C",
          "Carrier C",
          "Carrier C",
          null,
          "Carrier C",
          "Carrier C",
          "Carrier C",
          "Carrier C",
          null,
          "Carrier C",
          "Carrier C",
          "Carrier C",
          "Carrier C",
          null,
          "Carrier C",
          "Carrier C",
          "Carrier C",
          "Carrier C",
          null,
          "Carrier C",
          "Carrier C",
          "Carrier C",
          "Carrier C",
          null,
          "Carrier C",
          "Carrier C",
          "Carrier C",
          "Carrier C",
          null,
          "Carrier C",
          "Carrier C",
          "Carrier C",
          "Carrier C",
          null,
          "Cutter T",
          "Cutter T",
          "Cutter T",
          "Cutter T",
          null,
          "Cutter T",
          "Cutter T",
          "Cutter T",
          "Cutter T",
          null,
          "Cutter T",
          "Cutter T",
          "Cutter T",
          "Cutter T",
          null,
          "Cutter T",
          "Cutter T",
          "Cutter T",
          "Cutter T",
          null,
          "Cutter T",
          "Cutter T",
          "Cutter T",
          "Cutter T",
          null,
          "Cutter T",
          "Cutter T",
          "Cutter T",
          "Cutter T",
          null,
          "Cutter T",
          "Cutter T",
          "Cutter T",
          "Cutter T",
          null,
          "Cutter T",
          "Cutter T",
          "Cutter T",
          "Cutter T",
          null,
          "Cutter T",
          "Cutter T",
          "Cutter T",
          "Cutter T",
          null
         ]
        }
       ],
       "layout": {
        "hovermode": "closest",
        "legend": {
         "orientation": "h",
         "x": 0,
         "y": -0.2
        },
        "template": {
         "data": {
          "bar": [
           {
            "error_x": {
             "color": "#2a3f5f"
            },
            "error_y": {
             "color": "#2a3f5f"
            },
            "marker": {
             "line": {
              "color": "#E5ECF6",
              "width": 0.5
             },
             "pattern": {
              "fillmode": "overlay",
              "size": 10,
              "solidity": 0.2
             }
            },
            "type": "bar"
           }
          ],
          "barpolar": [
           {
            "marker": {
             "line": {
              "color": "#E5ECF6",
              "width": 0.5
             },
             "pattern": {
              "fillmode": "overlay",
              "size": 10,
              "solidity": 0.2
             }
            },
            "type": "barpolar"
           }
          ],
          "carpet": [
           {
            "aaxis": {
             "endlinecolor": "#2a3f5f",
             "gridcolor": "white",
             "linecolor": "white",
             "minorgridcolor": "white",
             "startlinecolor": "#2a3f5f"
            },
            "baxis": {
             "endlinecolor": "#2a3f5f",
             "gridcolor": "white",
             "linecolor": "white",
             "minorgridcolor": "white",
             "startlinecolor": "#2a3f5f"
            },
            "type": "carpet"
           }
          ],
          "choropleth": [
           {
            "colorbar": {
             "outlinewidth": 0,
             "ticks": ""
            },
            "type": "choropleth"
           }
          ],
          "contour": [
           {
            "colorbar": {
             "outlinewidth": 0,
             "ticks": ""
            },
            "colorscale": [
             [
              0,
              "#0d0887"
             ],
             [
              0.1111111111111111,
              "#46039f"
             ],
             [
              0.2222222222222222,
              "#7201a8"
             ],
             [
              0.3333333333333333,
              "#9c179e"
             ],
             [
              0.4444444444444444,
              "#bd3786"
             ],
             [
              0.5555555555555556,
              "#d8576b"
             ],
             [
              0.6666666666666666,
              "#ed7953"
             ],
             [
              0.7777777777777778,
              "#fb9f3a"
             ],
             [
              0.8888888888888888,
              "#fdca26"
             ],
             [
              1,
              "#f0f921"
             ]
            ],
            "type": "contour"
           }
          ],
          "contourcarpet": [
           {
            "colorbar": {
             "outlinewidth": 0,
             "ticks": ""
            },
            "type": "contourcarpet"
           }
          ],
          "heatmap": [
           {
            "colorbar": {
             "outlinewidth": 0,
             "ticks": ""
            },
            "colorscale": [
             [
              0,
              "#0d0887"
             ],
             [
              0.1111111111111111,
              "#46039f"
             ],
             [
              0.2222222222222222,
              "#7201a8"
             ],
             [
              0.3333333333333333,
              "#9c179e"
             ],
             [
              0.4444444444444444,
              "#bd3786"
             ],
             [
              0.5555555555555556,
              "#d8576b"
             ],
             [
              0.6666666666666666,
              "#ed7953"
             ],
             [
              0.7777777777777778,
              "#fb9f3a"
             ],
             [
              0.8888888888888888,
              "#fdca26"
             ],
             [
              1,
              "#f0f921"
             ]
            ],
            "type": "heatmap"
           }
          ],
          "heatmapgl": [
           {
            "colorbar": {
             "outlinewidth": 0,
             "ticks": ""
            },
            "colorscale": [
             [
              0,
              "#0d0887"
             ],
             [
              0.1111111111111111,
              "#46039f"
             ],
             [
              0.2222222222222222,
              "#7201a8"
             ],
             [
              0.3333333333333333,
              "#9c179e"
             ],
             [
              0.4444444444444444,
              "#bd3786"
             ],
             [
              0.5555555555555556,
              "#d8576b"
             ],
             [
              0.6666666666666666,
              "#ed7953"
             ],
             [
              0.7777777777777778,
              "#fb9f3a"
             ],
             [
              0.8888888888888888,
              "#fdca26"
             ],
             [
              1,
              "#f0f921"
             ]
            ],
            "type": "heatmapgl"
           }
          ],
          "histogram": [
           {
            "marker": {
             "pattern": {
              "fillmode": "overlay",
              "size": 10,
              "solidity": 0.2
             }
            },
            "type": "histogram"
           }
          ],
          "histogram2d": [
           {
            "colorbar": {
             "outlinewidth": 0,
             "ticks": ""
            },
            "colorscale": [
             [
              0,
              "#0d0887"
             ],
             [
              0.1111111111111111,
              "#46039f"
             ],
             [
              0.2222222222222222,
              "#7201a8"
             ],
             [
              0.3333333333333333,
              "#9c179e"
             ],
             [
              0.4444444444444444,
              "#bd3786"
             ],
             [
              0.5555555555555556,
              "#d8576b"
             ],
             [
              0.6666666666666666,
              "#ed7953"
             ],
             [
              0.7777777777777778,
              "#fb9f3a"
             ],
             [
              0.8888888888888888,
              "#fdca26"
             ],
             [
              1,
              "#f0f921"
             ]
            ],
            "type": "histogram2d"
           }
          ],
          "histogram2dcontour": [
           {
            "colorbar": {
             "outlinewidth": 0,
             "ticks": ""
            },
            "colorscale": [
             [
              0,
              "#0d0887"
             ],
             [
              0.1111111111111111,
              "#46039f"
             ],
             [
              0.2222222222222222,
              "#7201a8"
             ],
             [
              0.3333333333333333,
              "#9c179e"
             ],
             [
              0.4444444444444444,
              "#bd3786"
             ],
             [
              0.5555555555555556,
              "#d8576b"
             ],
             [
              0.6666666666666666,
              "#ed7953"
             ],
             [
              0.7777777777777778,
              "#fb9f3a"
             ],
             [
              0.8888888888888888,
              "#fdca26"
             ],
             [
              1,
              "#f0f921"
             ]
            ],
            "type": "histogram2dcontour"
           }
          ],
          "mesh3d": [
           {
            "colorbar": {
             "outlinewidth": 0,
             "ticks": ""
            },
            "type": "mesh3d"
           }
          ],
          "parcoords": [
           {
            "line": {
             "colorbar": {
              "outlinewidth": 0,
              "ticks": ""
             }
            },
            "type": "parcoords"
           }
          ],
          "pie": [
           {
            "automargin": true,
            "type": "pie"
           }
          ],
          "scatter": [
           {
            "fillpattern": {
             "fillmode": "overlay",
             "size": 10,
             "solidity": 0.2
            },
            "type": "scatter"
           }
          ],
          "scatter3d": [
           {
            "line": {
             "colorbar": {
              "outlinewidth": 0,
              "ticks": ""
             }
            },
            "marker": {
             "colorbar": {
              "outlinewidth": 0,
              "ticks": ""
             }
            },
            "type": "scatter3d"
           }
          ],
          "scattercarpet": [
           {
            "marker": {
             "colorbar": {
              "outlinewidth": 0,
              "ticks": ""
             }
            },
            "type": "scattercarpet"
           }
          ],
          "scattergeo": [
           {
            "marker": {
             "colorbar": {
              "outlinewidth": 0,
              "ticks": ""
             }
            },
            "type": "scattergeo"
           }
          ],
          "scattergl": [
           {
            "marker": {
             "colorbar": {
              "outlinewidth": 0,
              "ticks": ""
             }
            },
            "type": "scattergl"
           }
          ],
          "scattermapbox": [
           {
            "marker": {
             "colorbar": {
              "outlinewidth": 0,
              "ticks": ""
             }
            },
            "type": "scattermapbox"
           }
          ],
          "scatterpolar": [
           {
            "marker": {
             "colorbar": {
              "outlinewidth": 0,
              "ticks": ""
             }
            },
            "type": "scatterpolar"
           }
          ],
          "scatterpolargl": [
           {
            "marker": {
             "colorbar": {
              "outlinewidth": 0,
              "ticks": ""
             }
            },
            "type": "scatterpolargl"
           }
          ],
          "scatterternary": [
           {
            "marker": {
             "colorbar": {
              "outlinewidth": 0,
              "ticks": ""
             }
            },
            "type": "scatterternary"
           }
          ],
          "surface": [
           {
            "colorbar": {
             "outlinewidth": 0,
             "ticks": ""
            },
            "colorscale": [
             [
              0,
              "#0d0887"
             ],
             [
              0.1111111111111111,
              "#46039f"
             ],
             [
              0.2222222222222222,
              "#7201a8"
             ],
             [
              0.3333333333333333,
              "#9c179e"
             ],
             [
              0.4444444444444444,
              "#bd3786"
             ],
             [
              0.5555555555555556,
              "#d8576b"
             ],
             [
              0.6666666666666666,
              "#ed7953"
             ],
             [
              0.7777777777777778,
              "#fb9f3a"
             ],
             [
              0.8888888888888888,
              "#fdca26"
             ],
             [
              1,
              "#f0f921"
             ]
            ],
            "type": "surface"
           }
          ],
          "table": [
           {
            "cells": {
             "fill": {
              "color": "#EBF0F8"
             },
             "line": {
              "color": "white"
             }
            },
            "header": {
             "fill": {
              "color": "#C8D4E3"
             },
             "line": {
              "color": "white"
             }
            },
            "type": "table"
           }
          ]
         },
         "layout": {
          "annotationdefaults": {
           "arrowcolor": "#2a3f5f",
           "arrowhead": 0,
           "arrowwidth": 1
          },
          "autotypenumbers": "strict",
          "coloraxis": {
           "colorbar": {
            "outlinewidth": 0,
            "ticks": ""
           }
          },
          "colorscale": {
           "diverging": [
            [
             0,
             "#8e0152"
            ],
            [
             0.1,
             "#c51b7d"
            ],
            [
             0.2,
             "#de77ae"
            ],
            [
             0.3,
             "#f1b6da"
            ],
            [
             0.4,
             "#fde0ef"
            ],
            [
             0.5,
             "#f7f7f7"
            ],
            [
             0.6,
             "#e6f5d0"
            ],
            [
             0.7,
             "#b8e186"
            ],
            [
             0.8,
             "#7fbc41"
            ],
            [
             0.9,
             "#4d9221"
            ],
            [
             1,
             "#276419"
            ]
           ],
           "sequential": [
            [
             0,
             "#0d0887"
            ],
            [
             0.1111111111111111,
             "#46039f"
            ],
            [
             0.2222222222222222,
             "#7201a8"
            ],
            [
             0.3333333333333333,
             "#9c179e"
            ],
            [
             0.4444444444444444,
             "#bd3786"
            ],
            [
             0.5555555555555556,
             "#d8576b"
            ],
            [
             0.6666666666666666,
             "#ed7953"
            ],
            [
             0.7777777777777778,
             "#fb9f3a"
            ],
            [
             0.8888888888888888,
             "#fdca26"
            ],
            [
             1,
             "#f0f921"
            ]
           ],
           "sequentialminus": [
            [
             0,
             "#0d0887"
            ],
            [
             0.1111111111111111,
             "#46039f"
            ],
            [
             0.2222222222222222,
             "#7201a8"
            ],
            [
             0.3333333333333333,
             "#9c179e"
            ],
            [
             0.4444444444444444,
             "#bd3786"
            ],
            [
             0.5555555555555556,
             "#d8576b"
            ],
            [
             0.6666666666666666,
             "#ed7953"
            ],
            [
             0.7777777777777778,
             "#fb9f3a"
            ],
            [
             0.8888888888888888,
             "#fdca26"
            ],
            [
             1,
             "#f0f921"
            ]
           ]
          },
          "colorway": [
           "#636efa",
           "#EF553B",
           "#00cc96",
           "#ab63fa",
           "#FFA15A",
           "#19d3f3",
           "#FF6692",
           "#B6E880",
           "#FF97FF",
           "#FECB52"
          ],
          "font": {
           "color": "#2a3f5f"
          },
          "geo": {
           "bgcolor": "white",
           "lakecolor": "white",
           "landcolor": "#E5ECF6",
           "showlakes": true,
           "showland": true,
           "subunitcolor": "white"
          },
          "hoverlabel": {
           "align": "left"
          },
          "hovermode": "closest",
          "mapbox": {
           "style": "light"
          },
          "paper_bgcolor": "white",
          "plot_bgcolor": "#E5ECF6",
          "polar": {
           "angularaxis": {
            "gridcolor": "white",
            "linecolor": "white",
            "ticks": ""
           },
           "bgcolor": "#E5ECF6",
           "radialaxis": {
            "gridcolor": "white",
            "linecolor": "white",
            "ticks": ""
           }
          },
          "scene": {
           "xaxis": {
            "backgroundcolor": "#E5ECF6",
            "gridcolor": "white",
            "gridwidth": 2,
            "linecolor": "white",
            "showbackground": true,
            "ticks": "",
            "zerolinecolor": "white"
           },
           "yaxis": {
            "backgroundcolor": "#E5ECF6",
            "gridcolor": "white",
            "gridwidth": 2,
            "linecolor": "white",
            "showbackground": true,
            "ticks": "",
            "zerolinecolor": "white"
           },
           "zaxis": {
            "backgroundcolor": "#E5ECF6",
            "gridcolor": "white",
            "gridwidth": 2,
            "linecolor": "white",
            "showbackground": true,
            "ticks": "",
            "zerolinecolor": "white"
           }
          },
          "shapedefaults": {
           "line": {
            "color": "#2a3f5f"
           }
          },
          "ternary": {
           "aaxis": {
            "gridcolor": "white",
            "linecolor": "white",
            "ticks": ""
           },
           "baxis": {
            "gridcolor": "white",
            "linecolor": "white",
            "ticks": ""
           },
           "bgcolor": "#E5ECF6",
           "caxis": {
            "gridcolor": "white",
            "linecolor": "white",
            "ticks": ""
           }
          },
          "title": {
           "x": 0.05
          },
          "xaxis": {
           "automargin": true,
           "gridcolor": "white",
           "linecolor": "white",
           "ticks": "",
           "title": {
            "standoff": 15
           },
           "zerolinecolor": "white",
           "zerolinewidth": 2
          },
          "yaxis": {
           "automargin": true,
           "gridcolor": "white",
           "linecolor": "white",
           "ticks": "",
           "title": {
            "standoff": 15
           },
           "zerolinecolor": "white",
           "zerolinewidth": 2
          }
         }
        },
        "title": {
         "text": "GANTT Chart"
        },
        "xaxis": {
         "range": [
          "1970-01-01T00:00:00",
          "1970-01-01T23:12:49"
         ],
         "title": {
          "font": {
           "color": "#7f7f7f",
           "family": "Courier New, monospace",
           "size": 18
          },
          "text": "Time"
         }
        },
        "yaxis": {
         "title": {
          "font": {
           "color": "#7f7f7f",
           "family": "Courier New, monospace",
           "size": 18
          },
          "text": "Activities"
         }
        }
       }
      },
      "text/html": [
       "<div>                            <div id=\"792ce56b-d909-438c-9848-8f552ad97ea3\" class=\"plotly-graph-div\" style=\"height:525px; width:100%;\"></div>            <script type=\"text/javascript\">                require([\"plotly\"], function(Plotly) {                    window.PLOTLYENV=window.PLOTLYENV || {};                                    if (document.getElementById(\"792ce56b-d909-438c-9848-8f552ad97ea3\")) {                    Plotly.newPlot(                        \"792ce56b-d909-438c-9848-8f552ad97ea3\",                        [{\"connectgaps\":false,\"hoverinfo\":\"y+name\",\"line\":{\"color\":\"rgb(105,157,162)\",\"width\":10},\"mode\":\"lines\",\"name\":\"unloading:Carrier A\",\"x\":[\"1970-01-01T03:09:00\",\"1970-01-01T03:09:00\",\"1970-01-01T03:55:21\",\"1970-01-01T03:55:21\",\"1970-01-01T03:55:21\",\"1970-01-01T06:09:43\",\"1970-01-01T06:09:43\",\"1970-01-01T06:56:04\",\"1970-01-01T06:56:04\",\"1970-01-01T06:56:04\",\"1970-01-01T09:41:00\",\"1970-01-01T09:41:00\",\"1970-01-01T10:27:21\",\"1970-01-01T10:27:21\",\"1970-01-01T10:27:21\",\"1970-01-01T12:41:43\",\"1970-01-01T12:41:43\",\"1970-01-01T13:28:04\",\"1970-01-01T13:28:04\",\"1970-01-01T13:28:04\",\"1970-01-01T15:42:26\",\"1970-01-01T15:42:26\",\"1970-01-01T16:28:47\",\"1970-01-01T16:28:47\",\"1970-01-01T16:28:47\",\"1970-01-01T18:43:09\",\"1970-01-01T18:43:09\",\"1970-01-01T19:29:30\",\"1970-01-01T19:29:30\",\"1970-01-01T19:29:30\",\"1970-01-01T21:43:52\",\"1970-01-01T21:43:52\",\"1970-01-01T22:30:13\",\"1970-01-01T22:30:13\",\"1970-01-01T22:30:13\"],\"y\":[\"Carrier A\",\"Carrier A\",\"Carrier A\",\"Carrier A\",null,\"Carrier A\",\"Carrier A\",\"Carrier A\",\"Carrier A\",null,\"Carrier A\",\"Carrier A\",\"Carrier A\",\"Carrier A\",null,\"Carrier A\",\"Carrier A\",\"Carrier A\",\"Carrier A\",null,\"Carrier A\",\"Carrier A\",\"Carrier A\",\"Carrier A\",null,\"Carrier A\",\"Carrier A\",\"Carrier A\",\"Carrier A\",null,\"Carrier A\",\"Carrier A\",\"Carrier A\",\"Carrier A\",null],\"type\":\"scatter\"},{\"connectgaps\":false,\"hoverinfo\":\"y+name\",\"line\":{\"color\":\"rgb(122,174,179)\",\"width\":10},\"mode\":\"lines\",\"name\":\"loading:Carrier A\",\"x\":[\"1970-01-01T01:40:59\",\"1970-01-01T01:40:59\",\"1970-01-01T02:22:39\",\"1970-01-01T02:22:39\",\"1970-01-01T02:22:39\",\"1970-01-01T04:41:42\",\"1970-01-01T04:41:42\",\"1970-01-01T05:23:22\",\"1970-01-01T05:23:22\",\"1970-01-01T05:23:22\",\"1970-01-01T08:12:59\",\"1970-01-01T08:12:59\",\"1970-01-01T08:54:39\",\"1970-01-01T08:54:39\",\"1970-01-01T08:54:39\",\"1970-01-01T11:13:42\",\"1970-01-01T11:13:42\",\"1970-01-01T11:55:22\",\"1970-01-01T11:55:22\",\"1970-01-01T11:55:22\",\"1970-01-01T14:14:25\",\"1970-01-01T14:14:25\",\"1970-01-01T14:56:05\",\"1970-01-01T14:56:05\",\"1970-01-01T14:56:05\",\"1970-01-01T17:15:08\",\"1970-01-01T17:15:08\",\"1970-01-01T17:56:48\",\"1970-01-01T17:56:48\",\"1970-01-01T17:56:48\",\"1970-01-01T20:15:51\",\"1970-01-01T20:15:51\",\"1970-01-01T20:57:31\",\"1970-01-01T20:57:31\",\"1970-01-01T20:57:31\",\"1970-01-01T01:40:59\",\"1970-01-01T01:40:59\",\"1970-01-01T02:22:39\",\"1970-01-01T02:22:39\",\"1970-01-01T02:22:39\",\"1970-01-01T04:41:42\",\"1970-01-01T04:41:42\",\"1970-01-01T05:23:22\",\"1970-01-01T05:23:22\",\"1970-01-01T05:23:22\",\"1970-01-01T08:12:59\",\"1970-01-01T08:12:59\",\"1970-01-01T08:54:39\",\"1970-01-01T08:54:39\",\"1970-01-01T08:54:39\",\"1970-01-01T11:13:42\",\"1970-01-01T11:13:42\",\"1970-01-01T11:55:22\",\"1970-01-01T11:55:22\",\"1970-01-01T11:55:22\",\"1970-01-01T14:14:25\",\"1970-01-01T14:14:25\",\"1970-01-01T14:56:05\",\"1970-01-01T14:56:05\",\"1970-01-01T14:56:05\",\"1970-01-01T17:15:08\",\"1970-01-01T17:15:08\",\"1970-01-01T17:56:48\",\"1970-01-01T17:56:48\",\"1970-01-01T17:56:48\",\"1970-01-01T20:15:51\",\"1970-01-01T20:15:51\",\"1970-01-01T20:57:31\",\"1970-01-01T20:57:31\",\"1970-01-01T20:57:31\"],\"y\":[\"Carrier A\",\"Carrier A\",\"Carrier A\",\"Carrier A\",null,\"Carrier A\",\"Carrier A\",\"Carrier A\",\"Carrier A\",null,\"Carrier A\",\"Carrier A\",\"Carrier A\",\"Carrier A\",null,\"Carrier A\",\"Carrier A\",\"Carrier A\",\"Carrier A\",null,\"Carrier A\",\"Carrier A\",\"Carrier A\",\"Carrier A\",null,\"Carrier A\",\"Carrier A\",\"Carrier A\",\"Carrier A\",null,\"Carrier A\",\"Carrier A\",\"Carrier A\",\"Carrier A\",null,\"Cutter T\",\"Cutter T\",\"Cutter T\",\"Cutter T\",null,\"Cutter T\",\"Cutter T\",\"Cutter T\",\"Cutter T\",null,\"Cutter T\",\"Cutter T\",\"Cutter T\",\"Cutter T\",null,\"Cutter T\",\"Cutter T\",\"Cutter T\",\"Cutter T\",null,\"Cutter T\",\"Cutter T\",\"Cutter T\",\"Cutter T\",null,\"Cutter T\",\"Cutter T\",\"Cutter T\",\"Cutter T\",null,\"Cutter T\",\"Cutter T\",\"Cutter T\",\"Cutter T\",null],\"type\":\"scatter\"},{\"connectgaps\":false,\"hoverinfo\":\"y+name\",\"line\":{\"color\":\"rgb(139,191,196)\",\"width\":10},\"mode\":\"lines\",\"name\":\"sailing full:Carrier A\",\"x\":[\"1970-01-01T02:22:39\",\"1970-01-01T02:22:39\",\"1970-01-01T03:09:00\",\"1970-01-01T03:09:00\",\"1970-01-01T03:09:00\",\"1970-01-01T05:23:22\",\"1970-01-01T05:23:22\",\"1970-01-01T06:09:43\",\"1970-01-01T06:09:43\",\"1970-01-01T06:09:43\",\"1970-01-01T08:54:39\",\"1970-01-01T08:54:39\",\"1970-01-01T09:41:00\",\"1970-01-01T09:41:00\",\"1970-01-01T09:41:00\",\"1970-01-01T11:55:22\",\"1970-01-01T11:55:22\",\"1970-01-01T12:41:43\",\"1970-01-01T12:41:43\",\"1970-01-01T12:41:43\",\"1970-01-01T14:56:05\",\"1970-01-01T14:56:05\",\"1970-01-01T15:42:26\",\"1970-01-01T15:42:26\",\"1970-01-01T15:42:26\",\"1970-01-01T17:56:48\",\"1970-01-01T17:56:48\",\"1970-01-01T18:43:09\",\"1970-01-01T18:43:09\",\"1970-01-01T18:43:09\",\"1970-01-01T20:57:31\",\"1970-01-01T20:57:31\",\"1970-01-01T21:43:52\",\"1970-01-01T21:43:52\",\"1970-01-01T21:43:52\"],\"y\":[\"Carrier A\",\"Carrier A\",\"Carrier A\",\"Carrier A\",null,\"Carrier A\",\"Carrier A\",\"Carrier A\",\"Carrier A\",null,\"Carrier A\",\"Carrier A\",\"Carrier A\",\"Carrier A\",null,\"Carrier A\",\"Carrier A\",\"Carrier A\",\"Carrier A\",null,\"Carrier A\",\"Carrier A\",\"Carrier A\",\"Carrier A\",null,\"Carrier A\",\"Carrier A\",\"Carrier A\",\"Carrier A\",null,\"Carrier A\",\"Carrier A\",\"Carrier A\",\"Carrier A\",null],\"type\":\"scatter\"},{\"connectgaps\":false,\"hoverinfo\":\"y+name\",\"line\":{\"color\":\"rgb(156,208,213)\",\"width\":10},\"mode\":\"lines\",\"name\":\"sailing empty:Carrier A\",\"x\":[\"1970-01-01T00:00:00\",\"1970-01-01T00:00:00\",\"1970-01-01T00:46:21\",\"1970-01-01T00:46:21\",\"1970-01-01T00:46:21\",\"1970-01-01T03:55:21\",\"1970-01-01T03:55:21\",\"1970-01-01T04:41:42\",\"1970-01-01T04:41:42\",\"1970-01-01T04:41:42\",\"1970-01-01T06:56:04\",\"1970-01-01T06:56:04\",\"1970-01-01T07:42:25\",\"1970-01-01T07:42:25\",\"1970-01-01T07:42:25\",\"1970-01-01T10:27:21\",\"1970-01-01T10:27:21\",\"1970-01-01T11:13:42\",\"1970-01-01T11:13:42\",\"1970-01-01T11:13:42\",\"1970-01-01T13:28:04\",\"1970-01-01T13:28:04\",\"1970-01-01T14:14:25\",\"1970-01-01T14:14:25\",\"1970-01-01T14:14:25\",\"1970-01-01T16:28:47\",\"1970-01-01T16:28:47\",\"1970-01-01T17:15:08\",\"1970-01-01T17:15:08\",\"1970-01-01T17:15:08\",\"1970-01-01T19:29:30\",\"1970-01-01T19:29:30\",\"1970-01-01T20:15:51\",\"1970-01-01T20:15:51\",\"1970-01-01T20:15:51\"],\"y\":[\"Carrier A\",\"Carrier A\",\"Carrier A\",\"Carrier A\",null,\"Carrier A\",\"Carrier A\",\"Carrier A\",\"Carrier A\",null,\"Carrier A\",\"Carrier A\",\"Carrier A\",\"Carrier A\",null,\"Carrier A\",\"Carrier A\",\"Carrier A\",\"Carrier A\",null,\"Carrier A\",\"Carrier A\",\"Carrier A\",\"Carrier A\",null,\"Carrier A\",\"Carrier A\",\"Carrier A\",\"Carrier A\",null,\"Carrier A\",\"Carrier A\",\"Carrier A\",\"Carrier A\",null],\"type\":\"scatter\"},{\"connectgaps\":false,\"hoverinfo\":\"y+name\",\"line\":{\"color\":\"rgb(173,225,230)\",\"width\":10},\"mode\":\"lines\",\"name\":\"unloading:Carrier B\",\"x\":[\"1970-01-01T02:21:15\",\"1970-01-01T02:21:15\",\"1970-01-01T03:01:31\",\"1970-01-01T03:01:31\",\"1970-01-01T03:01:31\",\"1970-01-01T04:55:23\",\"1970-01-01T04:55:23\",\"1970-01-01T05:35:39\",\"1970-01-01T05:35:39\",\"1970-01-01T05:35:39\",\"1970-01-01T07:29:31\",\"1970-01-01T07:29:31\",\"1970-01-01T08:09:47\",\"1970-01-01T08:09:47\",\"1970-01-01T08:09:47\",\"1970-01-01T10:08:15\",\"1970-01-01T10:08:15\",\"1970-01-01T10:48:31\",\"1970-01-01T10:48:31\",\"1970-01-01T10:48:31\",\"1970-01-01T13:08:58\",\"1970-01-01T13:08:58\",\"1970-01-01T13:49:14\",\"1970-01-01T13:49:14\",\"1970-01-01T13:49:14\",\"1970-01-01T16:09:41\",\"1970-01-01T16:09:41\",\"1970-01-01T16:49:57\",\"1970-01-01T16:49:57\",\"1970-01-01T16:49:57\",\"1970-01-01T19:10:24\",\"1970-01-01T19:10:24\",\"1970-01-01T19:50:40\",\"1970-01-01T19:50:40\",\"1970-01-01T19:50:40\",\"1970-01-01T22:11:07\",\"1970-01-01T22:11:07\",\"1970-01-01T22:51:23\",\"1970-01-01T22:51:23\",\"1970-01-01T22:51:23\"],\"y\":[\"Carrier B\",\"Carrier B\",\"Carrier B\",\"Carrier B\",null,\"Carrier B\",\"Carrier B\",\"Carrier B\",\"Carrier B\",null,\"Carrier B\",\"Carrier B\",\"Carrier B\",\"Carrier B\",null,\"Carrier B\",\"Carrier B\",\"Carrier B\",\"Carrier B\",null,\"Carrier B\",\"Carrier B\",\"Carrier B\",\"Carrier B\",null,\"Carrier B\",\"Carrier B\",\"Carrier B\",\"Carrier B\",null,\"Carrier B\",\"Carrier B\",\"Carrier B\",\"Carrier B\",null,\"Carrier B\",\"Carrier B\",\"Carrier B\",\"Carrier B\",null],\"type\":\"scatter\"},{\"connectgaps\":false,\"hoverinfo\":\"y+name\",\"line\":{\"color\":\"rgb(190,242,247)\",\"width\":10},\"mode\":\"lines\",\"name\":\"sailing full:Carrier B\",\"x\":[\"1970-01-01T01:40:59\",\"1970-01-01T01:40:59\",\"1970-01-01T02:21:15\",\"1970-01-01T02:21:15\",\"1970-01-01T02:21:15\",\"1970-01-01T04:15:07\",\"1970-01-01T04:15:07\",\"1970-01-01T04:55:23\",\"1970-01-01T04:55:23\",\"1970-01-01T04:55:23\",\"1970-01-01T06:49:15\",\"1970-01-01T06:49:15\",\"1970-01-01T07:29:31\",\"1970-01-01T07:29:31\",\"1970-01-01T07:29:31\",\"1970-01-01T09:27:59\",\"1970-01-01T09:27:59\",\"1970-01-01T10:08:15\",\"1970-01-01T10:08:15\",\"1970-01-01T10:08:15\",\"1970-01-01T12:28:42\",\"1970-01-01T12:28:42\",\"1970-01-01T13:08:58\",\"1970-01-01T13:08:58\",\"1970-01-01T13:08:58\",\"1970-01-01T15:29:25\",\"1970-01-01T15:29:25\",\"1970-01-01T16:09:41\",\"1970-01-01T16:09:41\",\"1970-01-01T16:09:41\",\"1970-01-01T18:30:08\",\"1970-01-01T18:30:08\",\"1970-01-01T19:10:24\",\"1970-01-01T19:10:24\",\"1970-01-01T19:10:24\",\"1970-01-01T21:30:51\",\"1970-01-01T21:30:51\",\"1970-01-01T22:11:07\",\"1970-01-01T22:11:07\",\"1970-01-01T22:11:07\"],\"y\":[\"Carrier B\",\"Carrier B\",\"Carrier B\",\"Carrier B\",null,\"Carrier B\",\"Carrier B\",\"Carrier B\",\"Carrier B\",null,\"Carrier B\",\"Carrier B\",\"Carrier B\",\"Carrier B\",null,\"Carrier B\",\"Carrier B\",\"Carrier B\",\"Carrier B\",null,\"Carrier B\",\"Carrier B\",\"Carrier B\",\"Carrier B\",null,\"Carrier B\",\"Carrier B\",\"Carrier B\",\"Carrier B\",null,\"Carrier B\",\"Carrier B\",\"Carrier B\",\"Carrier B\",null,\"Carrier B\",\"Carrier B\",\"Carrier B\",\"Carrier B\",null],\"type\":\"scatter\"},{\"connectgaps\":false,\"hoverinfo\":\"y+name\",\"line\":{\"color\":\"rgb(207,3,8)\",\"width\":10},\"mode\":\"lines\",\"name\":\"loading:Carrier B\",\"x\":[\"1970-01-01T01:07:39\",\"1970-01-01T01:07:39\",\"1970-01-01T01:40:59\",\"1970-01-01T01:40:59\",\"1970-01-01T01:40:59\",\"1970-01-01T03:41:47\",\"1970-01-01T03:41:47\",\"1970-01-01T04:15:07\",\"1970-01-01T04:15:07\",\"1970-01-01T04:15:07\",\"1970-01-01T06:15:55\",\"1970-01-01T06:15:55\",\"1970-01-01T06:49:15\",\"1970-01-01T06:49:15\",\"1970-01-01T06:49:15\",\"1970-01-01T08:54:39\",\"1970-01-01T08:54:39\",\"1970-01-01T09:27:59\",\"1970-01-01T09:27:59\",\"1970-01-01T09:27:59\",\"1970-01-01T11:55:22\",\"1970-01-01T11:55:22\",\"1970-01-01T12:28:42\",\"1970-01-01T12:28:42\",\"1970-01-01T12:28:42\",\"1970-01-01T14:56:05\",\"1970-01-01T14:56:05\",\"1970-01-01T15:29:25\",\"1970-01-01T15:29:25\",\"1970-01-01T15:29:25\",\"1970-01-01T17:56:48\",\"1970-01-01T17:56:48\",\"1970-01-01T18:30:08\",\"1970-01-01T18:30:08\",\"1970-01-01T18:30:08\",\"1970-01-01T20:57:31\",\"1970-01-01T20:57:31\",\"1970-01-01T21:30:51\",\"1970-01-01T21:30:51\",\"1970-01-01T21:30:51\",\"1970-01-01T01:07:39\",\"1970-01-01T01:07:39\",\"1970-01-01T01:40:59\",\"1970-01-01T01:40:59\",\"1970-01-01T01:40:59\",\"1970-01-01T03:41:47\",\"1970-01-01T03:41:47\",\"1970-01-01T04:15:07\",\"1970-01-01T04:15:07\",\"1970-01-01T04:15:07\",\"1970-01-01T06:15:55\",\"1970-01-01T06:15:55\",\"1970-01-01T06:49:15\",\"1970-01-01T06:49:15\",\"1970-01-01T06:49:15\",\"1970-01-01T08:54:39\",\"1970-01-01T08:54:39\",\"1970-01-01T09:27:59\",\"1970-01-01T09:27:59\",\"1970-01-01T09:27:59\",\"1970-01-01T11:55:22\",\"1970-01-01T11:55:22\",\"1970-01-01T12:28:42\",\"1970-01-01T12:28:42\",\"1970-01-01T12:28:42\",\"1970-01-01T14:56:05\",\"1970-01-01T14:56:05\",\"1970-01-01T15:29:25\",\"1970-01-01T15:29:25\",\"1970-01-01T15:29:25\",\"1970-01-01T17:56:48\",\"1970-01-01T17:56:48\",\"1970-01-01T18:30:08\",\"1970-01-01T18:30:08\",\"1970-01-01T18:30:08\",\"1970-01-01T20:57:31\",\"1970-01-01T20:57:31\",\"1970-01-01T21:30:51\",\"1970-01-01T21:30:51\",\"1970-01-01T21:30:51\"],\"y\":[\"Carrier B\",\"Carrier B\",\"Carrier B\",\"Carrier B\",null,\"Carrier B\",\"Carrier B\",\"Carrier B\",\"Carrier B\",null,\"Carrier B\",\"Carrier B\",\"Carrier B\",\"Carrier B\",null,\"Carrier B\",\"Carrier B\",\"Carrier B\",\"Carrier B\",null,\"Carrier B\",\"Carrier B\",\"Carrier B\",\"Carrier B\",null,\"Carrier B\",\"Carrier B\",\"Carrier B\",\"Carrier B\",null,\"Carrier B\",\"Carrier B\",\"Carrier B\",\"Carrier B\",null,\"Carrier B\",\"Carrier B\",\"Carrier B\",\"Carrier B\",null,\"Cutter T\",\"Cutter T\",\"Cutter T\",\"Cutter T\",null,\"Cutter T\",\"Cutter T\",\"Cutter T\",\"Cutter T\",null,\"Cutter T\",\"Cutter T\",\"Cutter T\",\"Cutter T\",null,\"Cutter T\",\"Cutter T\",\"Cutter T\",\"Cutter T\",null,\"Cutter T\",\"Cutter T\",\"Cutter T\",\"Cutter T\",null,\"Cutter T\",\"Cutter T\",\"Cutter T\",\"Cutter T\",null,\"Cutter T\",\"Cutter T\",\"Cutter T\",\"Cutter T\",null,\"Cutter T\",\"Cutter T\",\"Cutter T\",\"Cutter T\",null],\"type\":\"scatter\"},{\"connectgaps\":false,\"hoverinfo\":\"y+name\",\"line\":{\"color\":\"rgb(224,20,25)\",\"width\":10},\"mode\":\"lines\",\"name\":\"sailing empty:Carrier B\",\"x\":[\"1970-01-01T00:00:00\",\"1970-01-01T00:00:00\",\"1970-01-01T00:40:16\",\"1970-01-01T00:40:16\",\"1970-01-01T00:40:16\",\"1970-01-01T03:01:31\",\"1970-01-01T03:01:31\",\"1970-01-01T03:41:47\",\"1970-01-01T03:41:47\",\"1970-01-01T03:41:47\",\"1970-01-01T05:35:39\",\"1970-01-01T05:35:39\",\"1970-01-01T06:15:55\",\"1970-01-01T06:15:55\",\"1970-01-01T06:15:55\",\"1970-01-01T08:09:47\",\"1970-01-01T08:09:47\",\"1970-01-01T08:50:03\",\"1970-01-01T08:50:03\",\"1970-01-01T08:50:03\",\"1970-01-01T10:48:31\",\"1970-01-01T10:48:31\",\"1970-01-01T11:28:47\",\"1970-01-01T11:28:47\",\"1970-01-01T11:28:47\",\"1970-01-01T13:49:14\",\"1970-01-01T13:49:14\",\"1970-01-01T14:29:30\",\"1970-01-01T14:29:30\",\"1970-01-01T14:29:30\",\"1970-01-01T16:49:57\",\"1970-01-01T16:49:57\",\"1970-01-01T17:30:13\",\"1970-01-01T17:30:13\",\"1970-01-01T17:30:13\",\"1970-01-01T19:50:40\",\"1970-01-01T19:50:40\",\"1970-01-01T20:30:56\",\"1970-01-01T20:30:56\",\"1970-01-01T20:30:56\"],\"y\":[\"Carrier B\",\"Carrier B\",\"Carrier B\",\"Carrier B\",null,\"Carrier B\",\"Carrier B\",\"Carrier B\",\"Carrier B\",null,\"Carrier B\",\"Carrier B\",\"Carrier B\",\"Carrier B\",null,\"Carrier B\",\"Carrier B\",\"Carrier B\",\"Carrier B\",null,\"Carrier B\",\"Carrier B\",\"Carrier B\",\"Carrier B\",null,\"Carrier B\",\"Carrier B\",\"Carrier B\",\"Carrier B\",null,\"Carrier B\",\"Carrier B\",\"Carrier B\",\"Carrier B\",null,\"Carrier B\",\"Carrier B\",\"Carrier B\",\"Carrier B\",null],\"type\":\"scatter\"},{\"connectgaps\":false,\"hoverinfo\":\"y+name\",\"line\":{\"color\":\"rgb(241,37,42)\",\"width\":10},\"mode\":\"lines\",\"name\":\"unloading:Carrier C\",\"x\":[\"1970-01-01T01:41:58\",\"1970-01-01T01:41:58\",\"1970-01-01T02:16:17\",\"1970-01-01T02:16:17\",\"1970-01-01T02:16:17\",\"1970-01-01T03:58:15\",\"1970-01-01T03:58:15\",\"1970-01-01T04:32:34\",\"1970-01-01T04:32:34\",\"1970-01-01T04:32:34\",\"1970-01-01T06:31:01\",\"1970-01-01T06:31:01\",\"1970-01-01T07:05:20\",\"1970-01-01T07:05:20\",\"1970-01-01T07:05:20\",\"1970-01-01T08:47:18\",\"1970-01-01T08:47:18\",\"1970-01-01T09:21:37\",\"1970-01-01T09:21:37\",\"1970-01-01T09:21:37\",\"1970-01-01T11:03:35\",\"1970-01-01T11:03:35\",\"1970-01-01T11:37:54\",\"1970-01-01T11:37:54\",\"1970-01-01T11:37:54\",\"1970-01-01T13:36:21\",\"1970-01-01T13:36:21\",\"1970-01-01T14:10:40\",\"1970-01-01T14:10:40\",\"1970-01-01T14:10:40\",\"1970-01-01T16:37:04\",\"1970-01-01T16:37:04\",\"1970-01-01T17:11:23\",\"1970-01-01T17:11:23\",\"1970-01-01T17:11:23\",\"1970-01-01T19:37:47\",\"1970-01-01T19:37:47\",\"1970-01-01T20:12:06\",\"1970-01-01T20:12:06\",\"1970-01-01T20:12:06\",\"1970-01-01T22:38:30\",\"1970-01-01T22:38:30\",\"1970-01-01T23:12:49\",\"1970-01-01T23:12:49\",\"1970-01-01T23:12:49\"],\"y\":[\"Carrier C\",\"Carrier C\",\"Carrier C\",\"Carrier C\",null,\"Carrier C\",\"Carrier C\",\"Carrier C\",\"Carrier C\",null,\"Carrier C\",\"Carrier C\",\"Carrier C\",\"Carrier C\",null,\"Carrier C\",\"Carrier C\",\"Carrier C\",\"Carrier C\",null,\"Carrier C\",\"Carrier C\",\"Carrier C\",\"Carrier C\",null,\"Carrier C\",\"Carrier C\",\"Carrier C\",\"Carrier C\",null,\"Carrier C\",\"Carrier C\",\"Carrier C\",\"Carrier C\",null,\"Carrier C\",\"Carrier C\",\"Carrier C\",\"Carrier C\",null,\"Carrier C\",\"Carrier C\",\"Carrier C\",\"Carrier C\",null],\"type\":\"scatter\"},{\"connectgaps\":false,\"hoverinfo\":\"y+name\",\"line\":{\"color\":\"rgb(2,54,59)\",\"width\":10},\"mode\":\"lines\",\"name\":\"sailing full:Carrier C\",\"x\":[\"1970-01-01T01:07:39\",\"1970-01-01T01:07:39\",\"1970-01-01T01:41:58\",\"1970-01-01T01:41:58\",\"1970-01-01T01:41:58\",\"1970-01-01T03:23:56\",\"1970-01-01T03:23:56\",\"1970-01-01T03:58:15\",\"1970-01-01T03:58:15\",\"1970-01-01T03:58:15\",\"1970-01-01T05:56:42\",\"1970-01-01T05:56:42\",\"1970-01-01T06:31:01\",\"1970-01-01T06:31:01\",\"1970-01-01T06:31:01\",\"1970-01-01T08:12:59\",\"1970-01-01T08:12:59\",\"1970-01-01T08:47:18\",\"1970-01-01T08:47:18\",\"1970-01-01T08:47:18\",\"1970-01-01T10:29:16\",\"1970-01-01T10:29:16\",\"1970-01-01T11:03:35\",\"1970-01-01T11:03:35\",\"1970-01-01T11:03:35\",\"1970-01-01T13:02:02\",\"1970-01-01T13:02:02\",\"1970-01-01T13:36:21\",\"1970-01-01T13:36:21\",\"1970-01-01T13:36:21\",\"1970-01-01T16:02:45\",\"1970-01-01T16:02:45\",\"1970-01-01T16:37:04\",\"1970-01-01T16:37:04\",\"1970-01-01T16:37:04\",\"1970-01-01T19:03:28\",\"1970-01-01T19:03:28\",\"1970-01-01T19:37:47\",\"1970-01-01T19:37:47\",\"1970-01-01T19:37:47\",\"1970-01-01T22:04:11\",\"1970-01-01T22:04:11\",\"1970-01-01T22:38:30\",\"1970-01-01T22:38:30\",\"1970-01-01T22:38:30\"],\"y\":[\"Carrier C\",\"Carrier C\",\"Carrier C\",\"Carrier C\",null,\"Carrier C\",\"Carrier C\",\"Carrier C\",\"Carrier C\",null,\"Carrier C\",\"Carrier C\",\"Carrier C\",\"Carrier C\",null,\"Carrier C\",\"Carrier C\",\"Carrier C\",\"Carrier C\",null,\"Carrier C\",\"Carrier C\",\"Carrier C\",\"Carrier C\",null,\"Carrier C\",\"Carrier C\",\"Carrier C\",\"Carrier C\",null,\"Carrier C\",\"Carrier C\",\"Carrier C\",\"Carrier C\",null,\"Carrier C\",\"Carrier C\",\"Carrier C\",\"Carrier C\",null,\"Carrier C\",\"Carrier C\",\"Carrier C\",\"Carrier C\",null],\"type\":\"scatter\"},{\"connectgaps\":false,\"hoverinfo\":\"y+name\",\"line\":{\"color\":\"rgb(19,71,76)\",\"width\":10},\"mode\":\"lines\",\"name\":\"sailing empty:Carrier C\",\"x\":[\"1970-01-01T00:00:00\",\"1970-01-01T00:00:00\",\"1970-01-01T00:34:19\",\"1970-01-01T00:34:19\",\"1970-01-01T00:34:19\",\"1970-01-01T02:16:17\",\"1970-01-01T02:16:17\",\"1970-01-01T02:50:36\",\"1970-01-01T02:50:36\",\"1970-01-01T02:50:36\",\"1970-01-01T04:32:34\",\"1970-01-01T04:32:34\",\"1970-01-01T05:06:53\",\"1970-01-01T05:06:53\",\"1970-01-01T05:06:53\",\"1970-01-01T07:05:20\",\"1970-01-01T07:05:20\",\"1970-01-01T07:39:39\",\"1970-01-01T07:39:39\",\"1970-01-01T07:39:39\",\"1970-01-01T09:21:37\",\"1970-01-01T09:21:37\",\"1970-01-01T09:55:56\",\"1970-01-01T09:55:56\",\"1970-01-01T09:55:56\",\"1970-01-01T11:37:54\",\"1970-01-01T11:37:54\",\"1970-01-01T12:12:13\",\"1970-01-01T12:12:13\",\"1970-01-01T12:12:13\",\"1970-01-01T14:10:40\",\"1970-01-01T14:10:40\",\"1970-01-01T14:44:59\",\"1970-01-01T14:44:59\",\"1970-01-01T14:44:59\",\"1970-01-01T17:11:23\",\"1970-01-01T17:11:23\",\"1970-01-01T17:45:42\",\"1970-01-01T17:45:42\",\"1970-01-01T17:45:42\",\"1970-01-01T20:12:06\",\"1970-01-01T20:12:06\",\"1970-01-01T20:46:25\",\"1970-01-01T20:46:25\",\"1970-01-01T20:46:25\"],\"y\":[\"Carrier C\",\"Carrier C\",\"Carrier C\",\"Carrier C\",null,\"Carrier C\",\"Carrier C\",\"Carrier C\",\"Carrier C\",null,\"Carrier C\",\"Carrier C\",\"Carrier C\",\"Carrier C\",null,\"Carrier C\",\"Carrier C\",\"Carrier C\",\"Carrier C\",null,\"Carrier C\",\"Carrier C\",\"Carrier C\",\"Carrier C\",null,\"Carrier C\",\"Carrier C\",\"Carrier C\",\"Carrier C\",null,\"Carrier C\",\"Carrier C\",\"Carrier C\",\"Carrier C\",null,\"Carrier C\",\"Carrier C\",\"Carrier C\",\"Carrier C\",null,\"Carrier C\",\"Carrier C\",\"Carrier C\",\"Carrier C\",null],\"type\":\"scatter\"},{\"connectgaps\":false,\"hoverinfo\":\"y+name\",\"line\":{\"color\":\"rgb(36,88,93)\",\"width\":10},\"mode\":\"lines\",\"name\":\"loading:Carrier C\",\"x\":[\"1970-01-01T00:34:19\",\"1970-01-01T00:34:19\",\"1970-01-01T01:07:39\",\"1970-01-01T01:07:39\",\"1970-01-01T01:07:39\",\"1970-01-01T02:50:36\",\"1970-01-01T02:50:36\",\"1970-01-01T03:23:56\",\"1970-01-01T03:23:56\",\"1970-01-01T03:23:56\",\"1970-01-01T05:23:22\",\"1970-01-01T05:23:22\",\"1970-01-01T05:56:42\",\"1970-01-01T05:56:42\",\"1970-01-01T05:56:42\",\"1970-01-01T07:39:39\",\"1970-01-01T07:39:39\",\"1970-01-01T08:12:59\",\"1970-01-01T08:12:59\",\"1970-01-01T08:12:59\",\"1970-01-01T09:55:56\",\"1970-01-01T09:55:56\",\"1970-01-01T10:29:16\",\"1970-01-01T10:29:16\",\"1970-01-01T10:29:16\",\"1970-01-01T12:28:42\",\"1970-01-01T12:28:42\",\"1970-01-01T13:02:02\",\"1970-01-01T13:02:02\",\"1970-01-01T13:02:02\",\"1970-01-01T15:29:25\",\"1970-01-01T15:29:25\",\"1970-01-01T16:02:45\",\"1970-01-01T16:02:45\",\"1970-01-01T16:02:45\",\"1970-01-01T18:30:08\",\"1970-01-01T18:30:08\",\"1970-01-01T19:03:28\",\"1970-01-01T19:03:28\",\"1970-01-01T19:03:28\",\"1970-01-01T21:30:51\",\"1970-01-01T21:30:51\",\"1970-01-01T22:04:11\",\"1970-01-01T22:04:11\",\"1970-01-01T22:04:11\",\"1970-01-01T00:34:19\",\"1970-01-01T00:34:19\",\"1970-01-01T01:07:39\",\"1970-01-01T01:07:39\",\"1970-01-01T01:07:39\",\"1970-01-01T02:50:36\",\"1970-01-01T02:50:36\",\"1970-01-01T03:23:56\",\"1970-01-01T03:23:56\",\"1970-01-01T03:23:56\",\"1970-01-01T05:23:22\",\"1970-01-01T05:23:22\",\"1970-01-01T05:56:42\",\"1970-01-01T05:56:42\",\"1970-01-01T05:56:42\",\"1970-01-01T07:39:39\",\"1970-01-01T07:39:39\",\"1970-01-01T08:12:59\",\"1970-01-01T08:12:59\",\"1970-01-01T08:12:59\",\"1970-01-01T09:55:56\",\"1970-01-01T09:55:56\",\"1970-01-01T10:29:16\",\"1970-01-01T10:29:16\",\"1970-01-01T10:29:16\",\"1970-01-01T12:28:42\",\"1970-01-01T12:28:42\",\"1970-01-01T13:02:02\",\"1970-01-01T13:02:02\",\"1970-01-01T13:02:02\",\"1970-01-01T15:29:25\",\"1970-01-01T15:29:25\",\"1970-01-01T16:02:45\",\"1970-01-01T16:02:45\",\"1970-01-01T16:02:45\",\"1970-01-01T18:30:08\",\"1970-01-01T18:30:08\",\"1970-01-01T19:03:28\",\"1970-01-01T19:03:28\",\"1970-01-01T19:03:28\",\"1970-01-01T21:30:51\",\"1970-01-01T21:30:51\",\"1970-01-01T22:04:11\",\"1970-01-01T22:04:11\",\"1970-01-01T22:04:11\"],\"y\":[\"Carrier C\",\"Carrier C\",\"Carrier C\",\"Carrier C\",null,\"Carrier C\",\"Carrier C\",\"Carrier C\",\"Carrier C\",null,\"Carrier C\",\"Carrier C\",\"Carrier C\",\"Carrier C\",null,\"Carrier C\",\"Carrier C\",\"Carrier C\",\"Carrier C\",null,\"Carrier C\",\"Carrier C\",\"Carrier C\",\"Carrier C\",null,\"Carrier C\",\"Carrier C\",\"Carrier C\",\"Carrier C\",null,\"Carrier C\",\"Carrier C\",\"Carrier C\",\"Carrier C\",null,\"Carrier C\",\"Carrier C\",\"Carrier C\",\"Carrier C\",null,\"Carrier C\",\"Carrier C\",\"Carrier C\",\"Carrier C\",null,\"Cutter T\",\"Cutter T\",\"Cutter T\",\"Cutter T\",null,\"Cutter T\",\"Cutter T\",\"Cutter T\",\"Cutter T\",null,\"Cutter T\",\"Cutter T\",\"Cutter T\",\"Cutter T\",null,\"Cutter T\",\"Cutter T\",\"Cutter T\",\"Cutter T\",null,\"Cutter T\",\"Cutter T\",\"Cutter T\",\"Cutter T\",null,\"Cutter T\",\"Cutter T\",\"Cutter T\",\"Cutter T\",null,\"Cutter T\",\"Cutter T\",\"Cutter T\",\"Cutter T\",null,\"Cutter T\",\"Cutter T\",\"Cutter T\",\"Cutter T\",null,\"Cutter T\",\"Cutter T\",\"Cutter T\",\"Cutter T\",null],\"type\":\"scatter\"},{\"connectgaps\":false,\"hoverinfo\":\"y+name\",\"line\":{\"color\":\"rgb(53,105,110)\",\"width\":10},\"mode\":\"lines\",\"name\":\"loading:Carrier A\",\"x\":[\"1970-01-01T01:40:59\",\"1970-01-01T01:40:59\",\"1970-01-01T02:22:39\",\"1970-01-01T02:22:39\",\"1970-01-01T02:22:39\",\"1970-01-01T04:41:42\",\"1970-01-01T04:41:42\",\"1970-01-01T05:23:22\",\"1970-01-01T05:23:22\",\"1970-01-01T05:23:22\",\"1970-01-01T08:12:59\",\"1970-01-01T08:12:59\",\"1970-01-01T08:54:39\",\"1970-01-01T08:54:39\",\"1970-01-01T08:54:39\",\"1970-01-01T11:13:42\",\"1970-01-01T11:13:42\",\"1970-01-01T11:55:22\",\"1970-01-01T11:55:22\",\"1970-01-01T11:55:22\",\"1970-01-01T14:14:25\",\"1970-01-01T14:14:25\",\"1970-01-01T14:56:05\",\"1970-01-01T14:56:05\",\"1970-01-01T14:56:05\",\"1970-01-01T17:15:08\",\"1970-01-01T17:15:08\",\"1970-01-01T17:56:48\",\"1970-01-01T17:56:48\",\"1970-01-01T17:56:48\",\"1970-01-01T20:15:51\",\"1970-01-01T20:15:51\",\"1970-01-01T20:57:31\",\"1970-01-01T20:57:31\",\"1970-01-01T20:57:31\",\"1970-01-01T01:40:59\",\"1970-01-01T01:40:59\",\"1970-01-01T02:22:39\",\"1970-01-01T02:22:39\",\"1970-01-01T02:22:39\",\"1970-01-01T04:41:42\",\"1970-01-01T04:41:42\",\"1970-01-01T05:23:22\",\"1970-01-01T05:23:22\",\"1970-01-01T05:23:22\",\"1970-01-01T08:12:59\",\"1970-01-01T08:12:59\",\"1970-01-01T08:54:39\",\"1970-01-01T08:54:39\",\"1970-01-01T08:54:39\",\"1970-01-01T11:13:42\",\"1970-01-01T11:13:42\",\"1970-01-01T11:55:22\",\"1970-01-01T11:55:22\",\"1970-01-01T11:55:22\",\"1970-01-01T14:14:25\",\"1970-01-01T14:14:25\",\"1970-01-01T14:56:05\",\"1970-01-01T14:56:05\",\"1970-01-01T14:56:05\",\"1970-01-01T17:15:08\",\"1970-01-01T17:15:08\",\"1970-01-01T17:56:48\",\"1970-01-01T17:56:48\",\"1970-01-01T17:56:48\",\"1970-01-01T20:15:51\",\"1970-01-01T20:15:51\",\"1970-01-01T20:57:31\",\"1970-01-01T20:57:31\",\"1970-01-01T20:57:31\"],\"y\":[\"Carrier A\",\"Carrier A\",\"Carrier A\",\"Carrier A\",null,\"Carrier A\",\"Carrier A\",\"Carrier A\",\"Carrier A\",null,\"Carrier A\",\"Carrier A\",\"Carrier A\",\"Carrier A\",null,\"Carrier A\",\"Carrier A\",\"Carrier A\",\"Carrier A\",null,\"Carrier A\",\"Carrier A\",\"Carrier A\",\"Carrier A\",null,\"Carrier A\",\"Carrier A\",\"Carrier A\",\"Carrier A\",null,\"Carrier A\",\"Carrier A\",\"Carrier A\",\"Carrier A\",null,\"Cutter T\",\"Cutter T\",\"Cutter T\",\"Cutter T\",null,\"Cutter T\",\"Cutter T\",\"Cutter T\",\"Cutter T\",null,\"Cutter T\",\"Cutter T\",\"Cutter T\",\"Cutter T\",null,\"Cutter T\",\"Cutter T\",\"Cutter T\",\"Cutter T\",null,\"Cutter T\",\"Cutter T\",\"Cutter T\",\"Cutter T\",null,\"Cutter T\",\"Cutter T\",\"Cutter T\",\"Cutter T\",null,\"Cutter T\",\"Cutter T\",\"Cutter T\",\"Cutter T\",null],\"type\":\"scatter\"},{\"connectgaps\":false,\"hoverinfo\":\"y+name\",\"line\":{\"color\":\"rgb(70,122,127)\",\"width\":10},\"mode\":\"lines\",\"name\":\"loading:Carrier B\",\"x\":[\"1970-01-01T01:07:39\",\"1970-01-01T01:07:39\",\"1970-01-01T01:40:59\",\"1970-01-01T01:40:59\",\"1970-01-01T01:40:59\",\"1970-01-01T03:41:47\",\"1970-01-01T03:41:47\",\"1970-01-01T04:15:07\",\"1970-01-01T04:15:07\",\"1970-01-01T04:15:07\",\"1970-01-01T06:15:55\",\"1970-01-01T06:15:55\",\"1970-01-01T06:49:15\",\"1970-01-01T06:49:15\",\"1970-01-01T06:49:15\",\"1970-01-01T08:54:39\",\"1970-01-01T08:54:39\",\"1970-01-01T09:27:59\",\"1970-01-01T09:27:59\",\"1970-01-01T09:27:59\",\"1970-01-01T11:55:22\",\"1970-01-01T11:55:22\",\"1970-01-01T12:28:42\",\"1970-01-01T12:28:42\",\"1970-01-01T12:28:42\",\"1970-01-01T14:56:05\",\"1970-01-01T14:56:05\",\"1970-01-01T15:29:25\",\"1970-01-01T15:29:25\",\"1970-01-01T15:29:25\",\"1970-01-01T17:56:48\",\"1970-01-01T17:56:48\",\"1970-01-01T18:30:08\",\"1970-01-01T18:30:08\",\"1970-01-01T18:30:08\",\"1970-01-01T20:57:31\",\"1970-01-01T20:57:31\",\"1970-01-01T21:30:51\",\"1970-01-01T21:30:51\",\"1970-01-01T21:30:51\",\"1970-01-01T01:07:39\",\"1970-01-01T01:07:39\",\"1970-01-01T01:40:59\",\"1970-01-01T01:40:59\",\"1970-01-01T01:40:59\",\"1970-01-01T03:41:47\",\"1970-01-01T03:41:47\",\"1970-01-01T04:15:07\",\"1970-01-01T04:15:07\",\"1970-01-01T04:15:07\",\"1970-01-01T06:15:55\",\"1970-01-01T06:15:55\",\"1970-01-01T06:49:15\",\"1970-01-01T06:49:15\",\"1970-01-01T06:49:15\",\"1970-01-01T08:54:39\",\"1970-01-01T08:54:39\",\"1970-01-01T09:27:59\",\"1970-01-01T09:27:59\",\"1970-01-01T09:27:59\",\"1970-01-01T11:55:22\",\"1970-01-01T11:55:22\",\"1970-01-01T12:28:42\",\"1970-01-01T12:28:42\",\"1970-01-01T12:28:42\",\"1970-01-01T14:56:05\",\"1970-01-01T14:56:05\",\"1970-01-01T15:29:25\",\"1970-01-01T15:29:25\",\"1970-01-01T15:29:25\",\"1970-01-01T17:56:48\",\"1970-01-01T17:56:48\",\"1970-01-01T18:30:08\",\"1970-01-01T18:30:08\",\"1970-01-01T18:30:08\",\"1970-01-01T20:57:31\",\"1970-01-01T20:57:31\",\"1970-01-01T21:30:51\",\"1970-01-01T21:30:51\",\"1970-01-01T21:30:51\"],\"y\":[\"Carrier B\",\"Carrier B\",\"Carrier B\",\"Carrier B\",null,\"Carrier B\",\"Carrier B\",\"Carrier B\",\"Carrier B\",null,\"Carrier B\",\"Carrier B\",\"Carrier B\",\"Carrier B\",null,\"Carrier B\",\"Carrier B\",\"Carrier B\",\"Carrier B\",null,\"Carrier B\",\"Carrier B\",\"Carrier B\",\"Carrier B\",null,\"Carrier B\",\"Carrier B\",\"Carrier B\",\"Carrier B\",null,\"Carrier B\",\"Carrier B\",\"Carrier B\",\"Carrier B\",null,\"Carrier B\",\"Carrier B\",\"Carrier B\",\"Carrier B\",null,\"Cutter T\",\"Cutter T\",\"Cutter T\",\"Cutter T\",null,\"Cutter T\",\"Cutter T\",\"Cutter T\",\"Cutter T\",null,\"Cutter T\",\"Cutter T\",\"Cutter T\",\"Cutter T\",null,\"Cutter T\",\"Cutter T\",\"Cutter T\",\"Cutter T\",null,\"Cutter T\",\"Cutter T\",\"Cutter T\",\"Cutter T\",null,\"Cutter T\",\"Cutter T\",\"Cutter T\",\"Cutter T\",null,\"Cutter T\",\"Cutter T\",\"Cutter T\",\"Cutter T\",null,\"Cutter T\",\"Cutter T\",\"Cutter T\",\"Cutter T\",null],\"type\":\"scatter\"},{\"connectgaps\":false,\"hoverinfo\":\"y+name\",\"line\":{\"color\":\"rgb(87,139,144)\",\"width\":10},\"mode\":\"lines\",\"name\":\"loading:Carrier C\",\"x\":[\"1970-01-01T00:34:19\",\"1970-01-01T00:34:19\",\"1970-01-01T01:07:39\",\"1970-01-01T01:07:39\",\"1970-01-01T01:07:39\",\"1970-01-01T02:50:36\",\"1970-01-01T02:50:36\",\"1970-01-01T03:23:56\",\"1970-01-01T03:23:56\",\"1970-01-01T03:23:56\",\"1970-01-01T05:23:22\",\"1970-01-01T05:23:22\",\"1970-01-01T05:56:42\",\"1970-01-01T05:56:42\",\"1970-01-01T05:56:42\",\"1970-01-01T07:39:39\",\"1970-01-01T07:39:39\",\"1970-01-01T08:12:59\",\"1970-01-01T08:12:59\",\"1970-01-01T08:12:59\",\"1970-01-01T09:55:56\",\"1970-01-01T09:55:56\",\"1970-01-01T10:29:16\",\"1970-01-01T10:29:16\",\"1970-01-01T10:29:16\",\"1970-01-01T12:28:42\",\"1970-01-01T12:28:42\",\"1970-01-01T13:02:02\",\"1970-01-01T13:02:02\",\"1970-01-01T13:02:02\",\"1970-01-01T15:29:25\",\"1970-01-01T15:29:25\",\"1970-01-01T16:02:45\",\"1970-01-01T16:02:45\",\"1970-01-01T16:02:45\",\"1970-01-01T18:30:08\",\"1970-01-01T18:30:08\",\"1970-01-01T19:03:28\",\"1970-01-01T19:03:28\",\"1970-01-01T19:03:28\",\"1970-01-01T21:30:51\",\"1970-01-01T21:30:51\",\"1970-01-01T22:04:11\",\"1970-01-01T22:04:11\",\"1970-01-01T22:04:11\",\"1970-01-01T00:34:19\",\"1970-01-01T00:34:19\",\"1970-01-01T01:07:39\",\"1970-01-01T01:07:39\",\"1970-01-01T01:07:39\",\"1970-01-01T02:50:36\",\"1970-01-01T02:50:36\",\"1970-01-01T03:23:56\",\"1970-01-01T03:23:56\",\"1970-01-01T03:23:56\",\"1970-01-01T05:23:22\",\"1970-01-01T05:23:22\",\"1970-01-01T05:56:42\",\"1970-01-01T05:56:42\",\"1970-01-01T05:56:42\",\"1970-01-01T07:39:39\",\"1970-01-01T07:39:39\",\"1970-01-01T08:12:59\",\"1970-01-01T08:12:59\",\"1970-01-01T08:12:59\",\"1970-01-01T09:55:56\",\"1970-01-01T09:55:56\",\"1970-01-01T10:29:16\",\"1970-01-01T10:29:16\",\"1970-01-01T10:29:16\",\"1970-01-01T12:28:42\",\"1970-01-01T12:28:42\",\"1970-01-01T13:02:02\",\"1970-01-01T13:02:02\",\"1970-01-01T13:02:02\",\"1970-01-01T15:29:25\",\"1970-01-01T15:29:25\",\"1970-01-01T16:02:45\",\"1970-01-01T16:02:45\",\"1970-01-01T16:02:45\",\"1970-01-01T18:30:08\",\"1970-01-01T18:30:08\",\"1970-01-01T19:03:28\",\"1970-01-01T19:03:28\",\"1970-01-01T19:03:28\",\"1970-01-01T21:30:51\",\"1970-01-01T21:30:51\",\"1970-01-01T22:04:11\",\"1970-01-01T22:04:11\",\"1970-01-01T22:04:11\"],\"y\":[\"Carrier C\",\"Carrier C\",\"Carrier C\",\"Carrier C\",null,\"Carrier C\",\"Carrier C\",\"Carrier C\",\"Carrier C\",null,\"Carrier C\",\"Carrier C\",\"Carrier C\",\"Carrier C\",null,\"Carrier C\",\"Carrier C\",\"Carrier C\",\"Carrier C\",null,\"Carrier C\",\"Carrier C\",\"Carrier C\",\"Carrier C\",null,\"Carrier C\",\"Carrier C\",\"Carrier C\",\"Carrier C\",null,\"Carrier C\",\"Carrier C\",\"Carrier C\",\"Carrier C\",null,\"Carrier C\",\"Carrier C\",\"Carrier C\",\"Carrier C\",null,\"Carrier C\",\"Carrier C\",\"Carrier C\",\"Carrier C\",null,\"Cutter T\",\"Cutter T\",\"Cutter T\",\"Cutter T\",null,\"Cutter T\",\"Cutter T\",\"Cutter T\",\"Cutter T\",null,\"Cutter T\",\"Cutter T\",\"Cutter T\",\"Cutter T\",null,\"Cutter T\",\"Cutter T\",\"Cutter T\",\"Cutter T\",null,\"Cutter T\",\"Cutter T\",\"Cutter T\",\"Cutter T\",null,\"Cutter T\",\"Cutter T\",\"Cutter T\",\"Cutter T\",null,\"Cutter T\",\"Cutter T\",\"Cutter T\",\"Cutter T\",null,\"Cutter T\",\"Cutter T\",\"Cutter T\",\"Cutter T\",null,\"Cutter T\",\"Cutter T\",\"Cutter T\",\"Cutter T\",null],\"type\":\"scatter\"}],                        {\"hovermode\":\"closest\",\"legend\":{\"orientation\":\"h\",\"x\":0,\"y\":-0.2},\"template\":{\"data\":{\"barpolar\":[{\"marker\":{\"line\":{\"color\":\"#E5ECF6\",\"width\":0.5},\"pattern\":{\"fillmode\":\"overlay\",\"size\":10,\"solidity\":0.2}},\"type\":\"barpolar\"}],\"bar\":[{\"error_x\":{\"color\":\"#2a3f5f\"},\"error_y\":{\"color\":\"#2a3f5f\"},\"marker\":{\"line\":{\"color\":\"#E5ECF6\",\"width\":0.5},\"pattern\":{\"fillmode\":\"overlay\",\"size\":10,\"solidity\":0.2}},\"type\":\"bar\"}],\"carpet\":[{\"aaxis\":{\"endlinecolor\":\"#2a3f5f\",\"gridcolor\":\"white\",\"linecolor\":\"white\",\"minorgridcolor\":\"white\",\"startlinecolor\":\"#2a3f5f\"},\"baxis\":{\"endlinecolor\":\"#2a3f5f\",\"gridcolor\":\"white\",\"linecolor\":\"white\",\"minorgridcolor\":\"white\",\"startlinecolor\":\"#2a3f5f\"},\"type\":\"carpet\"}],\"choropleth\":[{\"colorbar\":{\"outlinewidth\":0,\"ticks\":\"\"},\"type\":\"choropleth\"}],\"contourcarpet\":[{\"colorbar\":{\"outlinewidth\":0,\"ticks\":\"\"},\"type\":\"contourcarpet\"}],\"contour\":[{\"colorbar\":{\"outlinewidth\":0,\"ticks\":\"\"},\"colorscale\":[[0.0,\"#0d0887\"],[0.1111111111111111,\"#46039f\"],[0.2222222222222222,\"#7201a8\"],[0.3333333333333333,\"#9c179e\"],[0.4444444444444444,\"#bd3786\"],[0.5555555555555556,\"#d8576b\"],[0.6666666666666666,\"#ed7953\"],[0.7777777777777778,\"#fb9f3a\"],[0.8888888888888888,\"#fdca26\"],[1.0,\"#f0f921\"]],\"type\":\"contour\"}],\"heatmapgl\":[{\"colorbar\":{\"outlinewidth\":0,\"ticks\":\"\"},\"colorscale\":[[0.0,\"#0d0887\"],[0.1111111111111111,\"#46039f\"],[0.2222222222222222,\"#7201a8\"],[0.3333333333333333,\"#9c179e\"],[0.4444444444444444,\"#bd3786\"],[0.5555555555555556,\"#d8576b\"],[0.6666666666666666,\"#ed7953\"],[0.7777777777777778,\"#fb9f3a\"],[0.8888888888888888,\"#fdca26\"],[1.0,\"#f0f921\"]],\"type\":\"heatmapgl\"}],\"heatmap\":[{\"colorbar\":{\"outlinewidth\":0,\"ticks\":\"\"},\"colorscale\":[[0.0,\"#0d0887\"],[0.1111111111111111,\"#46039f\"],[0.2222222222222222,\"#7201a8\"],[0.3333333333333333,\"#9c179e\"],[0.4444444444444444,\"#bd3786\"],[0.5555555555555556,\"#d8576b\"],[0.6666666666666666,\"#ed7953\"],[0.7777777777777778,\"#fb9f3a\"],[0.8888888888888888,\"#fdca26\"],[1.0,\"#f0f921\"]],\"type\":\"heatmap\"}],\"histogram2dcontour\":[{\"colorbar\":{\"outlinewidth\":0,\"ticks\":\"\"},\"colorscale\":[[0.0,\"#0d0887\"],[0.1111111111111111,\"#46039f\"],[0.2222222222222222,\"#7201a8\"],[0.3333333333333333,\"#9c179e\"],[0.4444444444444444,\"#bd3786\"],[0.5555555555555556,\"#d8576b\"],[0.6666666666666666,\"#ed7953\"],[0.7777777777777778,\"#fb9f3a\"],[0.8888888888888888,\"#fdca26\"],[1.0,\"#f0f921\"]],\"type\":\"histogram2dcontour\"}],\"histogram2d\":[{\"colorbar\":{\"outlinewidth\":0,\"ticks\":\"\"},\"colorscale\":[[0.0,\"#0d0887\"],[0.1111111111111111,\"#46039f\"],[0.2222222222222222,\"#7201a8\"],[0.3333333333333333,\"#9c179e\"],[0.4444444444444444,\"#bd3786\"],[0.5555555555555556,\"#d8576b\"],[0.6666666666666666,\"#ed7953\"],[0.7777777777777778,\"#fb9f3a\"],[0.8888888888888888,\"#fdca26\"],[1.0,\"#f0f921\"]],\"type\":\"histogram2d\"}],\"histogram\":[{\"marker\":{\"pattern\":{\"fillmode\":\"overlay\",\"size\":10,\"solidity\":0.2}},\"type\":\"histogram\"}],\"mesh3d\":[{\"colorbar\":{\"outlinewidth\":0,\"ticks\":\"\"},\"type\":\"mesh3d\"}],\"parcoords\":[{\"line\":{\"colorbar\":{\"outlinewidth\":0,\"ticks\":\"\"}},\"type\":\"parcoords\"}],\"pie\":[{\"automargin\":true,\"type\":\"pie\"}],\"scatter3d\":[{\"line\":{\"colorbar\":{\"outlinewidth\":0,\"ticks\":\"\"}},\"marker\":{\"colorbar\":{\"outlinewidth\":0,\"ticks\":\"\"}},\"type\":\"scatter3d\"}],\"scattercarpet\":[{\"marker\":{\"colorbar\":{\"outlinewidth\":0,\"ticks\":\"\"}},\"type\":\"scattercarpet\"}],\"scattergeo\":[{\"marker\":{\"colorbar\":{\"outlinewidth\":0,\"ticks\":\"\"}},\"type\":\"scattergeo\"}],\"scattergl\":[{\"marker\":{\"colorbar\":{\"outlinewidth\":0,\"ticks\":\"\"}},\"type\":\"scattergl\"}],\"scattermapbox\":[{\"marker\":{\"colorbar\":{\"outlinewidth\":0,\"ticks\":\"\"}},\"type\":\"scattermapbox\"}],\"scatterpolargl\":[{\"marker\":{\"colorbar\":{\"outlinewidth\":0,\"ticks\":\"\"}},\"type\":\"scatterpolargl\"}],\"scatterpolar\":[{\"marker\":{\"colorbar\":{\"outlinewidth\":0,\"ticks\":\"\"}},\"type\":\"scatterpolar\"}],\"scatter\":[{\"fillpattern\":{\"fillmode\":\"overlay\",\"size\":10,\"solidity\":0.2},\"type\":\"scatter\"}],\"scatterternary\":[{\"marker\":{\"colorbar\":{\"outlinewidth\":0,\"ticks\":\"\"}},\"type\":\"scatterternary\"}],\"surface\":[{\"colorbar\":{\"outlinewidth\":0,\"ticks\":\"\"},\"colorscale\":[[0.0,\"#0d0887\"],[0.1111111111111111,\"#46039f\"],[0.2222222222222222,\"#7201a8\"],[0.3333333333333333,\"#9c179e\"],[0.4444444444444444,\"#bd3786\"],[0.5555555555555556,\"#d8576b\"],[0.6666666666666666,\"#ed7953\"],[0.7777777777777778,\"#fb9f3a\"],[0.8888888888888888,\"#fdca26\"],[1.0,\"#f0f921\"]],\"type\":\"surface\"}],\"table\":[{\"cells\":{\"fill\":{\"color\":\"#EBF0F8\"},\"line\":{\"color\":\"white\"}},\"header\":{\"fill\":{\"color\":\"#C8D4E3\"},\"line\":{\"color\":\"white\"}},\"type\":\"table\"}]},\"layout\":{\"annotationdefaults\":{\"arrowcolor\":\"#2a3f5f\",\"arrowhead\":0,\"arrowwidth\":1},\"autotypenumbers\":\"strict\",\"coloraxis\":{\"colorbar\":{\"outlinewidth\":0,\"ticks\":\"\"}},\"colorscale\":{\"diverging\":[[0,\"#8e0152\"],[0.1,\"#c51b7d\"],[0.2,\"#de77ae\"],[0.3,\"#f1b6da\"],[0.4,\"#fde0ef\"],[0.5,\"#f7f7f7\"],[0.6,\"#e6f5d0\"],[0.7,\"#b8e186\"],[0.8,\"#7fbc41\"],[0.9,\"#4d9221\"],[1,\"#276419\"]],\"sequential\":[[0.0,\"#0d0887\"],[0.1111111111111111,\"#46039f\"],[0.2222222222222222,\"#7201a8\"],[0.3333333333333333,\"#9c179e\"],[0.4444444444444444,\"#bd3786\"],[0.5555555555555556,\"#d8576b\"],[0.6666666666666666,\"#ed7953\"],[0.7777777777777778,\"#fb9f3a\"],[0.8888888888888888,\"#fdca26\"],[1.0,\"#f0f921\"]],\"sequentialminus\":[[0.0,\"#0d0887\"],[0.1111111111111111,\"#46039f\"],[0.2222222222222222,\"#7201a8\"],[0.3333333333333333,\"#9c179e\"],[0.4444444444444444,\"#bd3786\"],[0.5555555555555556,\"#d8576b\"],[0.6666666666666666,\"#ed7953\"],[0.7777777777777778,\"#fb9f3a\"],[0.8888888888888888,\"#fdca26\"],[1.0,\"#f0f921\"]]},\"colorway\":[\"#636efa\",\"#EF553B\",\"#00cc96\",\"#ab63fa\",\"#FFA15A\",\"#19d3f3\",\"#FF6692\",\"#B6E880\",\"#FF97FF\",\"#FECB52\"],\"font\":{\"color\":\"#2a3f5f\"},\"geo\":{\"bgcolor\":\"white\",\"lakecolor\":\"white\",\"landcolor\":\"#E5ECF6\",\"showlakes\":true,\"showland\":true,\"subunitcolor\":\"white\"},\"hoverlabel\":{\"align\":\"left\"},\"hovermode\":\"closest\",\"mapbox\":{\"style\":\"light\"},\"paper_bgcolor\":\"white\",\"plot_bgcolor\":\"#E5ECF6\",\"polar\":{\"angularaxis\":{\"gridcolor\":\"white\",\"linecolor\":\"white\",\"ticks\":\"\"},\"bgcolor\":\"#E5ECF6\",\"radialaxis\":{\"gridcolor\":\"white\",\"linecolor\":\"white\",\"ticks\":\"\"}},\"scene\":{\"xaxis\":{\"backgroundcolor\":\"#E5ECF6\",\"gridcolor\":\"white\",\"gridwidth\":2,\"linecolor\":\"white\",\"showbackground\":true,\"ticks\":\"\",\"zerolinecolor\":\"white\"},\"yaxis\":{\"backgroundcolor\":\"#E5ECF6\",\"gridcolor\":\"white\",\"gridwidth\":2,\"linecolor\":\"white\",\"showbackground\":true,\"ticks\":\"\",\"zerolinecolor\":\"white\"},\"zaxis\":{\"backgroundcolor\":\"#E5ECF6\",\"gridcolor\":\"white\",\"gridwidth\":2,\"linecolor\":\"white\",\"showbackground\":true,\"ticks\":\"\",\"zerolinecolor\":\"white\"}},\"shapedefaults\":{\"line\":{\"color\":\"#2a3f5f\"}},\"ternary\":{\"aaxis\":{\"gridcolor\":\"white\",\"linecolor\":\"white\",\"ticks\":\"\"},\"baxis\":{\"gridcolor\":\"white\",\"linecolor\":\"white\",\"ticks\":\"\"},\"bgcolor\":\"#E5ECF6\",\"caxis\":{\"gridcolor\":\"white\",\"linecolor\":\"white\",\"ticks\":\"\"}},\"title\":{\"x\":0.05},\"xaxis\":{\"automargin\":true,\"gridcolor\":\"white\",\"linecolor\":\"white\",\"ticks\":\"\",\"title\":{\"standoff\":15},\"zerolinecolor\":\"white\",\"zerolinewidth\":2},\"yaxis\":{\"automargin\":true,\"gridcolor\":\"white\",\"linecolor\":\"white\",\"ticks\":\"\",\"title\":{\"standoff\":15},\"zerolinecolor\":\"white\",\"zerolinewidth\":2}}},\"title\":{\"text\":\"GANTT Chart\"},\"xaxis\":{\"range\":[\"1970-01-01T00:00:00\",\"1970-01-01T23:12:49\"],\"title\":{\"font\":{\"color\":\"#7f7f7f\",\"family\":\"Courier New, monospace\",\"size\":18},\"text\":\"Time\"}},\"yaxis\":{\"title\":{\"font\":{\"color\":\"#7f7f7f\",\"family\":\"Courier New, monospace\",\"size\":18},\"text\":\"Activities\"}}},                        {\"responsive\": true}                    ).then(function(){\n",
       "                            \n",
       "var gd = document.getElementById('792ce56b-d909-438c-9848-8f552ad97ea3');\n",
       "var x = new MutationObserver(function (mutations, observer) {{\n",
       "        var display = window.getComputedStyle(gd).display;\n",
       "        if (!display || display === 'none') {{\n",
       "            console.log([gd, 'removed!']);\n",
       "            Plotly.purge(gd);\n",
       "            observer.disconnect();\n",
       "        }}\n",
       "}});\n",
       "\n",
       "// Listen for the removal of the full notebook cells\n",
       "var notebookContainer = gd.closest('#notebook-container');\n",
       "if (notebookContainer) {{\n",
       "    x.observe(notebookContainer, {childList: true});\n",
       "}}\n",
       "\n",
       "// Listen for the clearing of the current output cell\n",
       "var outputEl = gd.closest('.output');\n",
       "if (outputEl) {{\n",
       "    x.observe(outputEl, {childList: true});\n",
       "}}\n",
       "\n",
       "                        })                };                });            </script>        </div>"
      ]
     },
     "metadata": {},
     "output_type": "display_data"
    }
   ],
   "source": [
    "fig = get_gantt_chart(vessels, id_map=activities)"
   ]
  },
  {
   "cell_type": "code",
   "execution_count": 7,
   "id": "b7331bd0",
   "metadata": {},
   "outputs": [
    {
     "data": {
      "text/html": [
       "        <script type=\"text/javascript\">\n",
       "        window.PlotlyConfig = {MathJaxConfig: 'local'};\n",
       "        if (window.MathJax && window.MathJax.Hub && window.MathJax.Hub.Config) {window.MathJax.Hub.Config({SVG: {font: \"STIX-Web\"}});}\n",
       "        if (typeof require !== 'undefined') {\n",
       "        require.undef(\"plotly\");\n",
       "        requirejs.config({\n",
       "            paths: {\n",
       "                'plotly': ['https://cdn.plot.ly/plotly-2.18.2.min']\n",
       "            }\n",
       "        });\n",
       "        require(['plotly'], function(Plotly) {\n",
       "            window._Plotly = Plotly;\n",
       "        });\n",
       "        }\n",
       "        </script>\n",
       "        "
      ]
     },
     "metadata": {},
     "output_type": "display_data"
    },
    {
     "data": {
      "application/vnd.plotly.v1+json": {
       "config": {
        "linkText": "Export to plot.ly",
        "plotlyServerURL": "https://plot.ly",
        "showLink": false
       },
       "data": [
        {
         "connectgaps": false,
         "hoverinfo": "y+name",
         "line": {
          "color": "rgb(163,28,57)",
          "width": 10
         },
         "mode": "lines",
         "name": "loading:Carrier A",
         "type": "scatter",
         "x": [
          "1970-01-01T01:40:59",
          "1970-01-01T01:40:59",
          "1970-01-01T02:22:39",
          "1970-01-01T02:22:39",
          "1970-01-01T02:22:39",
          "1970-01-01T04:41:42",
          "1970-01-01T04:41:42",
          "1970-01-01T05:23:22",
          "1970-01-01T05:23:22",
          "1970-01-01T05:23:22",
          "1970-01-01T08:12:59",
          "1970-01-01T08:12:59",
          "1970-01-01T08:54:39",
          "1970-01-01T08:54:39",
          "1970-01-01T08:54:39",
          "1970-01-01T11:13:42",
          "1970-01-01T11:13:42",
          "1970-01-01T11:55:22",
          "1970-01-01T11:55:22",
          "1970-01-01T11:55:22",
          "1970-01-01T14:14:25",
          "1970-01-01T14:14:25",
          "1970-01-01T14:56:05",
          "1970-01-01T14:56:05",
          "1970-01-01T14:56:05",
          "1970-01-01T17:15:08",
          "1970-01-01T17:15:08",
          "1970-01-01T17:56:48",
          "1970-01-01T17:56:48",
          "1970-01-01T17:56:48",
          "1970-01-01T20:15:51",
          "1970-01-01T20:15:51",
          "1970-01-01T20:57:31",
          "1970-01-01T20:57:31",
          "1970-01-01T20:57:31",
          "1970-01-01T01:40:59",
          "1970-01-01T01:40:59",
          "1970-01-01T02:22:39",
          "1970-01-01T02:22:39",
          "1970-01-01T02:22:39",
          "1970-01-01T04:41:42",
          "1970-01-01T04:41:42",
          "1970-01-01T05:23:22",
          "1970-01-01T05:23:22",
          "1970-01-01T05:23:22",
          "1970-01-01T08:12:59",
          "1970-01-01T08:12:59",
          "1970-01-01T08:54:39",
          "1970-01-01T08:54:39",
          "1970-01-01T08:54:39",
          "1970-01-01T11:13:42",
          "1970-01-01T11:13:42",
          "1970-01-01T11:55:22",
          "1970-01-01T11:55:22",
          "1970-01-01T11:55:22",
          "1970-01-01T14:14:25",
          "1970-01-01T14:14:25",
          "1970-01-01T14:56:05",
          "1970-01-01T14:56:05",
          "1970-01-01T14:56:05",
          "1970-01-01T17:15:08",
          "1970-01-01T17:15:08",
          "1970-01-01T17:56:48",
          "1970-01-01T17:56:48",
          "1970-01-01T17:56:48",
          "1970-01-01T20:15:51",
          "1970-01-01T20:15:51",
          "1970-01-01T20:57:31",
          "1970-01-01T20:57:31",
          "1970-01-01T20:57:31"
         ],
         "y": [
          "Trench",
          "Trench",
          "Trench",
          "Trench",
          null,
          "Trench",
          "Trench",
          "Trench",
          "Trench",
          null,
          "Trench",
          "Trench",
          "Trench",
          "Trench",
          null,
          "Trench",
          "Trench",
          "Trench",
          "Trench",
          null,
          "Trench",
          "Trench",
          "Trench",
          "Trench",
          null,
          "Trench",
          "Trench",
          "Trench",
          "Trench",
          null,
          "Trench",
          "Trench",
          "Trench",
          "Trench",
          null,
          "Cutter T",
          "Cutter T",
          "Cutter T",
          "Cutter T",
          null,
          "Cutter T",
          "Cutter T",
          "Cutter T",
          "Cutter T",
          null,
          "Cutter T",
          "Cutter T",
          "Cutter T",
          "Cutter T",
          null,
          "Cutter T",
          "Cutter T",
          "Cutter T",
          "Cutter T",
          null,
          "Cutter T",
          "Cutter T",
          "Cutter T",
          "Cutter T",
          null,
          "Cutter T",
          "Cutter T",
          "Cutter T",
          "Cutter T",
          null,
          "Cutter T",
          "Cutter T",
          "Cutter T",
          "Cutter T",
          null
         ]
        },
        {
         "connectgaps": false,
         "hoverinfo": "y+name",
         "line": {
          "color": "rgb(191,56,85)",
          "width": 10
         },
         "mode": "lines",
         "name": "loading:Carrier B",
         "type": "scatter",
         "x": [
          "1970-01-01T01:07:39",
          "1970-01-01T01:07:39",
          "1970-01-01T01:40:59",
          "1970-01-01T01:40:59",
          "1970-01-01T01:40:59",
          "1970-01-01T03:41:47",
          "1970-01-01T03:41:47",
          "1970-01-01T04:15:07",
          "1970-01-01T04:15:07",
          "1970-01-01T04:15:07",
          "1970-01-01T06:15:55",
          "1970-01-01T06:15:55",
          "1970-01-01T06:49:15",
          "1970-01-01T06:49:15",
          "1970-01-01T06:49:15",
          "1970-01-01T08:54:39",
          "1970-01-01T08:54:39",
          "1970-01-01T09:27:59",
          "1970-01-01T09:27:59",
          "1970-01-01T09:27:59",
          "1970-01-01T11:55:22",
          "1970-01-01T11:55:22",
          "1970-01-01T12:28:42",
          "1970-01-01T12:28:42",
          "1970-01-01T12:28:42",
          "1970-01-01T14:56:05",
          "1970-01-01T14:56:05",
          "1970-01-01T15:29:25",
          "1970-01-01T15:29:25",
          "1970-01-01T15:29:25",
          "1970-01-01T17:56:48",
          "1970-01-01T17:56:48",
          "1970-01-01T18:30:08",
          "1970-01-01T18:30:08",
          "1970-01-01T18:30:08",
          "1970-01-01T20:57:31",
          "1970-01-01T20:57:31",
          "1970-01-01T21:30:51",
          "1970-01-01T21:30:51",
          "1970-01-01T21:30:51",
          "1970-01-01T01:07:39",
          "1970-01-01T01:07:39",
          "1970-01-01T01:40:59",
          "1970-01-01T01:40:59",
          "1970-01-01T01:40:59",
          "1970-01-01T03:41:47",
          "1970-01-01T03:41:47",
          "1970-01-01T04:15:07",
          "1970-01-01T04:15:07",
          "1970-01-01T04:15:07",
          "1970-01-01T06:15:55",
          "1970-01-01T06:15:55",
          "1970-01-01T06:49:15",
          "1970-01-01T06:49:15",
          "1970-01-01T06:49:15",
          "1970-01-01T08:54:39",
          "1970-01-01T08:54:39",
          "1970-01-01T09:27:59",
          "1970-01-01T09:27:59",
          "1970-01-01T09:27:59",
          "1970-01-01T11:55:22",
          "1970-01-01T11:55:22",
          "1970-01-01T12:28:42",
          "1970-01-01T12:28:42",
          "1970-01-01T12:28:42",
          "1970-01-01T14:56:05",
          "1970-01-01T14:56:05",
          "1970-01-01T15:29:25",
          "1970-01-01T15:29:25",
          "1970-01-01T15:29:25",
          "1970-01-01T17:56:48",
          "1970-01-01T17:56:48",
          "1970-01-01T18:30:08",
          "1970-01-01T18:30:08",
          "1970-01-01T18:30:08",
          "1970-01-01T20:57:31",
          "1970-01-01T20:57:31",
          "1970-01-01T21:30:51",
          "1970-01-01T21:30:51",
          "1970-01-01T21:30:51"
         ],
         "y": [
          "Trench",
          "Trench",
          "Trench",
          "Trench",
          null,
          "Trench",
          "Trench",
          "Trench",
          "Trench",
          null,
          "Trench",
          "Trench",
          "Trench",
          "Trench",
          null,
          "Trench",
          "Trench",
          "Trench",
          "Trench",
          null,
          "Trench",
          "Trench",
          "Trench",
          "Trench",
          null,
          "Trench",
          "Trench",
          "Trench",
          "Trench",
          null,
          "Trench",
          "Trench",
          "Trench",
          "Trench",
          null,
          "Trench",
          "Trench",
          "Trench",
          "Trench",
          null,
          "Cutter T",
          "Cutter T",
          "Cutter T",
          "Cutter T",
          null,
          "Cutter T",
          "Cutter T",
          "Cutter T",
          "Cutter T",
          null,
          "Cutter T",
          "Cutter T",
          "Cutter T",
          "Cutter T",
          null,
          "Cutter T",
          "Cutter T",
          "Cutter T",
          "Cutter T",
          null,
          "Cutter T",
          "Cutter T",
          "Cutter T",
          "Cutter T",
          null,
          "Cutter T",
          "Cutter T",
          "Cutter T",
          "Cutter T",
          null,
          "Cutter T",
          "Cutter T",
          "Cutter T",
          "Cutter T",
          null,
          "Cutter T",
          "Cutter T",
          "Cutter T",
          "Cutter T",
          null
         ]
        },
        {
         "connectgaps": false,
         "hoverinfo": "y+name",
         "line": {
          "color": "rgb(219,84,113)",
          "width": 10
         },
         "mode": "lines",
         "name": "loading:Carrier C",
         "type": "scatter",
         "x": [
          "1970-01-01T00:34:19",
          "1970-01-01T00:34:19",
          "1970-01-01T01:07:39",
          "1970-01-01T01:07:39",
          "1970-01-01T01:07:39",
          "1970-01-01T02:50:36",
          "1970-01-01T02:50:36",
          "1970-01-01T03:23:56",
          "1970-01-01T03:23:56",
          "1970-01-01T03:23:56",
          "1970-01-01T05:23:22",
          "1970-01-01T05:23:22",
          "1970-01-01T05:56:42",
          "1970-01-01T05:56:42",
          "1970-01-01T05:56:42",
          "1970-01-01T07:39:39",
          "1970-01-01T07:39:39",
          "1970-01-01T08:12:59",
          "1970-01-01T08:12:59",
          "1970-01-01T08:12:59",
          "1970-01-01T09:55:56",
          "1970-01-01T09:55:56",
          "1970-01-01T10:29:16",
          "1970-01-01T10:29:16",
          "1970-01-01T10:29:16",
          "1970-01-01T12:28:42",
          "1970-01-01T12:28:42",
          "1970-01-01T13:02:02",
          "1970-01-01T13:02:02",
          "1970-01-01T13:02:02",
          "1970-01-01T15:29:25",
          "1970-01-01T15:29:25",
          "1970-01-01T16:02:45",
          "1970-01-01T16:02:45",
          "1970-01-01T16:02:45",
          "1970-01-01T18:30:08",
          "1970-01-01T18:30:08",
          "1970-01-01T19:03:28",
          "1970-01-01T19:03:28",
          "1970-01-01T19:03:28",
          "1970-01-01T21:30:51",
          "1970-01-01T21:30:51",
          "1970-01-01T22:04:11",
          "1970-01-01T22:04:11",
          "1970-01-01T22:04:11",
          "1970-01-01T00:34:19",
          "1970-01-01T00:34:19",
          "1970-01-01T01:07:39",
          "1970-01-01T01:07:39",
          "1970-01-01T01:07:39",
          "1970-01-01T02:50:36",
          "1970-01-01T02:50:36",
          "1970-01-01T03:23:56",
          "1970-01-01T03:23:56",
          "1970-01-01T03:23:56",
          "1970-01-01T05:23:22",
          "1970-01-01T05:23:22",
          "1970-01-01T05:56:42",
          "1970-01-01T05:56:42",
          "1970-01-01T05:56:42",
          "1970-01-01T07:39:39",
          "1970-01-01T07:39:39",
          "1970-01-01T08:12:59",
          "1970-01-01T08:12:59",
          "1970-01-01T08:12:59",
          "1970-01-01T09:55:56",
          "1970-01-01T09:55:56",
          "1970-01-01T10:29:16",
          "1970-01-01T10:29:16",
          "1970-01-01T10:29:16",
          "1970-01-01T12:28:42",
          "1970-01-01T12:28:42",
          "1970-01-01T13:02:02",
          "1970-01-01T13:02:02",
          "1970-01-01T13:02:02",
          "1970-01-01T15:29:25",
          "1970-01-01T15:29:25",
          "1970-01-01T16:02:45",
          "1970-01-01T16:02:45",
          "1970-01-01T16:02:45",
          "1970-01-01T18:30:08",
          "1970-01-01T18:30:08",
          "1970-01-01T19:03:28",
          "1970-01-01T19:03:28",
          "1970-01-01T19:03:28",
          "1970-01-01T21:30:51",
          "1970-01-01T21:30:51",
          "1970-01-01T22:04:11",
          "1970-01-01T22:04:11",
          "1970-01-01T22:04:11"
         ],
         "y": [
          "Trench",
          "Trench",
          "Trench",
          "Trench",
          null,
          "Trench",
          "Trench",
          "Trench",
          "Trench",
          null,
          "Trench",
          "Trench",
          "Trench",
          "Trench",
          null,
          "Trench",
          "Trench",
          "Trench",
          "Trench",
          null,
          "Trench",
          "Trench",
          "Trench",
          "Trench",
          null,
          "Trench",
          "Trench",
          "Trench",
          "Trench",
          null,
          "Trench",
          "Trench",
          "Trench",
          "Trench",
          null,
          "Trench",
          "Trench",
          "Trench",
          "Trench",
          null,
          "Trench",
          "Trench",
          "Trench",
          "Trench",
          null,
          "Cutter T",
          "Cutter T",
          "Cutter T",
          "Cutter T",
          null,
          "Cutter T",
          "Cutter T",
          "Cutter T",
          "Cutter T",
          null,
          "Cutter T",
          "Cutter T",
          "Cutter T",
          "Cutter T",
          null,
          "Cutter T",
          "Cutter T",
          "Cutter T",
          "Cutter T",
          null,
          "Cutter T",
          "Cutter T",
          "Cutter T",
          "Cutter T",
          null,
          "Cutter T",
          "Cutter T",
          "Cutter T",
          "Cutter T",
          null,
          "Cutter T",
          "Cutter T",
          "Cutter T",
          "Cutter T",
          null,
          "Cutter T",
          "Cutter T",
          "Cutter T",
          "Cutter T",
          null,
          "Cutter T",
          "Cutter T",
          "Cutter T",
          "Cutter T",
          null
         ]
        },
        {
         "connectgaps": false,
         "hoverinfo": "y+name",
         "line": {
          "color": "rgb(247,112,141)",
          "width": 10
         },
         "mode": "lines",
         "name": "unloading:Carrier C",
         "type": "scatter",
         "x": [
          "1970-01-01T01:41:58",
          "1970-01-01T01:41:58",
          "1970-01-01T02:16:17",
          "1970-01-01T02:16:17",
          "1970-01-01T02:16:17",
          "1970-01-01T03:58:15",
          "1970-01-01T03:58:15",
          "1970-01-01T04:32:34",
          "1970-01-01T04:32:34",
          "1970-01-01T04:32:34",
          "1970-01-01T06:31:01",
          "1970-01-01T06:31:01",
          "1970-01-01T07:05:20",
          "1970-01-01T07:05:20",
          "1970-01-01T07:05:20",
          "1970-01-01T08:47:18",
          "1970-01-01T08:47:18",
          "1970-01-01T09:21:37",
          "1970-01-01T09:21:37",
          "1970-01-01T09:21:37",
          "1970-01-01T11:03:35",
          "1970-01-01T11:03:35",
          "1970-01-01T11:37:54",
          "1970-01-01T11:37:54",
          "1970-01-01T11:37:54",
          "1970-01-01T13:36:21",
          "1970-01-01T13:36:21",
          "1970-01-01T14:10:40",
          "1970-01-01T14:10:40",
          "1970-01-01T14:10:40",
          "1970-01-01T16:37:04",
          "1970-01-01T16:37:04",
          "1970-01-01T17:11:23",
          "1970-01-01T17:11:23",
          "1970-01-01T17:11:23",
          "1970-01-01T19:37:47",
          "1970-01-01T19:37:47",
          "1970-01-01T20:12:06",
          "1970-01-01T20:12:06",
          "1970-01-01T20:12:06",
          "1970-01-01T22:38:30",
          "1970-01-01T22:38:30",
          "1970-01-01T23:12:49",
          "1970-01-01T23:12:49",
          "1970-01-01T23:12:49"
         ],
         "y": [
          "Reclamation",
          "Reclamation",
          "Reclamation",
          "Reclamation",
          null,
          "Reclamation",
          "Reclamation",
          "Reclamation",
          "Reclamation",
          null,
          "Reclamation",
          "Reclamation",
          "Reclamation",
          "Reclamation",
          null,
          "Reclamation",
          "Reclamation",
          "Reclamation",
          "Reclamation",
          null,
          "Reclamation",
          "Reclamation",
          "Reclamation",
          "Reclamation",
          null,
          "Reclamation",
          "Reclamation",
          "Reclamation",
          "Reclamation",
          null,
          "Reclamation",
          "Reclamation",
          "Reclamation",
          "Reclamation",
          null,
          "Reclamation",
          "Reclamation",
          "Reclamation",
          "Reclamation",
          null,
          "Reclamation",
          "Reclamation",
          "Reclamation",
          "Reclamation",
          null
         ]
        },
        {
         "connectgaps": false,
         "hoverinfo": "y+name",
         "line": {
          "color": "rgb(19,140,169)",
          "width": 10
         },
         "mode": "lines",
         "name": "unloading:Carrier A",
         "type": "scatter",
         "x": [
          "1970-01-01T03:09:00",
          "1970-01-01T03:09:00",
          "1970-01-01T03:55:21",
          "1970-01-01T03:55:21",
          "1970-01-01T03:55:21",
          "1970-01-01T06:09:43",
          "1970-01-01T06:09:43",
          "1970-01-01T06:56:04",
          "1970-01-01T06:56:04",
          "1970-01-01T06:56:04",
          "1970-01-01T09:41:00",
          "1970-01-01T09:41:00",
          "1970-01-01T10:27:21",
          "1970-01-01T10:27:21",
          "1970-01-01T10:27:21",
          "1970-01-01T12:41:43",
          "1970-01-01T12:41:43",
          "1970-01-01T13:28:04",
          "1970-01-01T13:28:04",
          "1970-01-01T13:28:04",
          "1970-01-01T15:42:26",
          "1970-01-01T15:42:26",
          "1970-01-01T16:28:47",
          "1970-01-01T16:28:47",
          "1970-01-01T16:28:47",
          "1970-01-01T18:43:09",
          "1970-01-01T18:43:09",
          "1970-01-01T19:29:30",
          "1970-01-01T19:29:30",
          "1970-01-01T19:29:30",
          "1970-01-01T21:43:52",
          "1970-01-01T21:43:52",
          "1970-01-01T22:30:13",
          "1970-01-01T22:30:13",
          "1970-01-01T22:30:13"
         ],
         "y": [
          "Reclamation",
          "Reclamation",
          "Reclamation",
          "Reclamation",
          null,
          "Reclamation",
          "Reclamation",
          "Reclamation",
          "Reclamation",
          null,
          "Reclamation",
          "Reclamation",
          "Reclamation",
          "Reclamation",
          null,
          "Reclamation",
          "Reclamation",
          "Reclamation",
          "Reclamation",
          null,
          "Reclamation",
          "Reclamation",
          "Reclamation",
          "Reclamation",
          null,
          "Reclamation",
          "Reclamation",
          "Reclamation",
          "Reclamation",
          null,
          "Reclamation",
          "Reclamation",
          "Reclamation",
          "Reclamation",
          null
         ]
        },
        {
         "connectgaps": false,
         "hoverinfo": "y+name",
         "line": {
          "color": "rgb(47,168,197)",
          "width": 10
         },
         "mode": "lines",
         "name": "unloading:Carrier B",
         "type": "scatter",
         "x": [
          "1970-01-01T02:21:15",
          "1970-01-01T02:21:15",
          "1970-01-01T03:01:31",
          "1970-01-01T03:01:31",
          "1970-01-01T03:01:31",
          "1970-01-01T04:55:23",
          "1970-01-01T04:55:23",
          "1970-01-01T05:35:39",
          "1970-01-01T05:35:39",
          "1970-01-01T05:35:39",
          "1970-01-01T07:29:31",
          "1970-01-01T07:29:31",
          "1970-01-01T08:09:47",
          "1970-01-01T08:09:47",
          "1970-01-01T08:09:47",
          "1970-01-01T10:08:15",
          "1970-01-01T10:08:15",
          "1970-01-01T10:48:31",
          "1970-01-01T10:48:31",
          "1970-01-01T10:48:31",
          "1970-01-01T13:08:58",
          "1970-01-01T13:08:58",
          "1970-01-01T13:49:14",
          "1970-01-01T13:49:14",
          "1970-01-01T13:49:14",
          "1970-01-01T16:09:41",
          "1970-01-01T16:09:41",
          "1970-01-01T16:49:57",
          "1970-01-01T16:49:57",
          "1970-01-01T16:49:57",
          "1970-01-01T19:10:24",
          "1970-01-01T19:10:24",
          "1970-01-01T19:50:40",
          "1970-01-01T19:50:40",
          "1970-01-01T19:50:40",
          "1970-01-01T22:11:07",
          "1970-01-01T22:11:07",
          "1970-01-01T22:51:23",
          "1970-01-01T22:51:23",
          "1970-01-01T22:51:23"
         ],
         "y": [
          "Reclamation",
          "Reclamation",
          "Reclamation",
          "Reclamation",
          null,
          "Reclamation",
          "Reclamation",
          "Reclamation",
          "Reclamation",
          null,
          "Reclamation",
          "Reclamation",
          "Reclamation",
          "Reclamation",
          null,
          "Reclamation",
          "Reclamation",
          "Reclamation",
          "Reclamation",
          null,
          "Reclamation",
          "Reclamation",
          "Reclamation",
          "Reclamation",
          null,
          "Reclamation",
          "Reclamation",
          "Reclamation",
          "Reclamation",
          null,
          "Reclamation",
          "Reclamation",
          "Reclamation",
          "Reclamation",
          null,
          "Reclamation",
          "Reclamation",
          "Reclamation",
          "Reclamation",
          null
         ]
        },
        {
         "connectgaps": false,
         "hoverinfo": "y+name",
         "line": {
          "color": "rgb(75,196,225)",
          "width": 10
         },
         "mode": "lines",
         "name": "loading:Carrier A",
         "type": "scatter",
         "x": [
          "1970-01-01T01:40:59",
          "1970-01-01T01:40:59",
          "1970-01-01T02:22:39",
          "1970-01-01T02:22:39",
          "1970-01-01T02:22:39",
          "1970-01-01T04:41:42",
          "1970-01-01T04:41:42",
          "1970-01-01T05:23:22",
          "1970-01-01T05:23:22",
          "1970-01-01T05:23:22",
          "1970-01-01T08:12:59",
          "1970-01-01T08:12:59",
          "1970-01-01T08:54:39",
          "1970-01-01T08:54:39",
          "1970-01-01T08:54:39",
          "1970-01-01T11:13:42",
          "1970-01-01T11:13:42",
          "1970-01-01T11:55:22",
          "1970-01-01T11:55:22",
          "1970-01-01T11:55:22",
          "1970-01-01T14:14:25",
          "1970-01-01T14:14:25",
          "1970-01-01T14:56:05",
          "1970-01-01T14:56:05",
          "1970-01-01T14:56:05",
          "1970-01-01T17:15:08",
          "1970-01-01T17:15:08",
          "1970-01-01T17:56:48",
          "1970-01-01T17:56:48",
          "1970-01-01T17:56:48",
          "1970-01-01T20:15:51",
          "1970-01-01T20:15:51",
          "1970-01-01T20:57:31",
          "1970-01-01T20:57:31",
          "1970-01-01T20:57:31",
          "1970-01-01T01:40:59",
          "1970-01-01T01:40:59",
          "1970-01-01T02:22:39",
          "1970-01-01T02:22:39",
          "1970-01-01T02:22:39",
          "1970-01-01T04:41:42",
          "1970-01-01T04:41:42",
          "1970-01-01T05:23:22",
          "1970-01-01T05:23:22",
          "1970-01-01T05:23:22",
          "1970-01-01T08:12:59",
          "1970-01-01T08:12:59",
          "1970-01-01T08:54:39",
          "1970-01-01T08:54:39",
          "1970-01-01T08:54:39",
          "1970-01-01T11:13:42",
          "1970-01-01T11:13:42",
          "1970-01-01T11:55:22",
          "1970-01-01T11:55:22",
          "1970-01-01T11:55:22",
          "1970-01-01T14:14:25",
          "1970-01-01T14:14:25",
          "1970-01-01T14:56:05",
          "1970-01-01T14:56:05",
          "1970-01-01T14:56:05",
          "1970-01-01T17:15:08",
          "1970-01-01T17:15:08",
          "1970-01-01T17:56:48",
          "1970-01-01T17:56:48",
          "1970-01-01T17:56:48",
          "1970-01-01T20:15:51",
          "1970-01-01T20:15:51",
          "1970-01-01T20:57:31",
          "1970-01-01T20:57:31",
          "1970-01-01T20:57:31"
         ],
         "y": [
          "Trench",
          "Trench",
          "Trench",
          "Trench",
          null,
          "Trench",
          "Trench",
          "Trench",
          "Trench",
          null,
          "Trench",
          "Trench",
          "Trench",
          "Trench",
          null,
          "Trench",
          "Trench",
          "Trench",
          "Trench",
          null,
          "Trench",
          "Trench",
          "Trench",
          "Trench",
          null,
          "Trench",
          "Trench",
          "Trench",
          "Trench",
          null,
          "Trench",
          "Trench",
          "Trench",
          "Trench",
          null,
          "Cutter T",
          "Cutter T",
          "Cutter T",
          "Cutter T",
          null,
          "Cutter T",
          "Cutter T",
          "Cutter T",
          "Cutter T",
          null,
          "Cutter T",
          "Cutter T",
          "Cutter T",
          "Cutter T",
          null,
          "Cutter T",
          "Cutter T",
          "Cutter T",
          "Cutter T",
          null,
          "Cutter T",
          "Cutter T",
          "Cutter T",
          "Cutter T",
          null,
          "Cutter T",
          "Cutter T",
          "Cutter T",
          "Cutter T",
          null,
          "Cutter T",
          "Cutter T",
          "Cutter T",
          "Cutter T",
          null
         ]
        },
        {
         "connectgaps": false,
         "hoverinfo": "y+name",
         "line": {
          "color": "rgb(103,224,253)",
          "width": 10
         },
         "mode": "lines",
         "name": "loading:Carrier B",
         "type": "scatter",
         "x": [
          "1970-01-01T01:07:39",
          "1970-01-01T01:07:39",
          "1970-01-01T01:40:59",
          "1970-01-01T01:40:59",
          "1970-01-01T01:40:59",
          "1970-01-01T03:41:47",
          "1970-01-01T03:41:47",
          "1970-01-01T04:15:07",
          "1970-01-01T04:15:07",
          "1970-01-01T04:15:07",
          "1970-01-01T06:15:55",
          "1970-01-01T06:15:55",
          "1970-01-01T06:49:15",
          "1970-01-01T06:49:15",
          "1970-01-01T06:49:15",
          "1970-01-01T08:54:39",
          "1970-01-01T08:54:39",
          "1970-01-01T09:27:59",
          "1970-01-01T09:27:59",
          "1970-01-01T09:27:59",
          "1970-01-01T11:55:22",
          "1970-01-01T11:55:22",
          "1970-01-01T12:28:42",
          "1970-01-01T12:28:42",
          "1970-01-01T12:28:42",
          "1970-01-01T14:56:05",
          "1970-01-01T14:56:05",
          "1970-01-01T15:29:25",
          "1970-01-01T15:29:25",
          "1970-01-01T15:29:25",
          "1970-01-01T17:56:48",
          "1970-01-01T17:56:48",
          "1970-01-01T18:30:08",
          "1970-01-01T18:30:08",
          "1970-01-01T18:30:08",
          "1970-01-01T20:57:31",
          "1970-01-01T20:57:31",
          "1970-01-01T21:30:51",
          "1970-01-01T21:30:51",
          "1970-01-01T21:30:51",
          "1970-01-01T01:07:39",
          "1970-01-01T01:07:39",
          "1970-01-01T01:40:59",
          "1970-01-01T01:40:59",
          "1970-01-01T01:40:59",
          "1970-01-01T03:41:47",
          "1970-01-01T03:41:47",
          "1970-01-01T04:15:07",
          "1970-01-01T04:15:07",
          "1970-01-01T04:15:07",
          "1970-01-01T06:15:55",
          "1970-01-01T06:15:55",
          "1970-01-01T06:49:15",
          "1970-01-01T06:49:15",
          "1970-01-01T06:49:15",
          "1970-01-01T08:54:39",
          "1970-01-01T08:54:39",
          "1970-01-01T09:27:59",
          "1970-01-01T09:27:59",
          "1970-01-01T09:27:59",
          "1970-01-01T11:55:22",
          "1970-01-01T11:55:22",
          "1970-01-01T12:28:42",
          "1970-01-01T12:28:42",
          "1970-01-01T12:28:42",
          "1970-01-01T14:56:05",
          "1970-01-01T14:56:05",
          "1970-01-01T15:29:25",
          "1970-01-01T15:29:25",
          "1970-01-01T15:29:25",
          "1970-01-01T17:56:48",
          "1970-01-01T17:56:48",
          "1970-01-01T18:30:08",
          "1970-01-01T18:30:08",
          "1970-01-01T18:30:08",
          "1970-01-01T20:57:31",
          "1970-01-01T20:57:31",
          "1970-01-01T21:30:51",
          "1970-01-01T21:30:51",
          "1970-01-01T21:30:51"
         ],
         "y": [
          "Trench",
          "Trench",
          "Trench",
          "Trench",
          null,
          "Trench",
          "Trench",
          "Trench",
          "Trench",
          null,
          "Trench",
          "Trench",
          "Trench",
          "Trench",
          null,
          "Trench",
          "Trench",
          "Trench",
          "Trench",
          null,
          "Trench",
          "Trench",
          "Trench",
          "Trench",
          null,
          "Trench",
          "Trench",
          "Trench",
          "Trench",
          null,
          "Trench",
          "Trench",
          "Trench",
          "Trench",
          null,
          "Trench",
          "Trench",
          "Trench",
          "Trench",
          null,
          "Cutter T",
          "Cutter T",
          "Cutter T",
          "Cutter T",
          null,
          "Cutter T",
          "Cutter T",
          "Cutter T",
          "Cutter T",
          null,
          "Cutter T",
          "Cutter T",
          "Cutter T",
          "Cutter T",
          null,
          "Cutter T",
          "Cutter T",
          "Cutter T",
          "Cutter T",
          null,
          "Cutter T",
          "Cutter T",
          "Cutter T",
          "Cutter T",
          null,
          "Cutter T",
          "Cutter T",
          "Cutter T",
          "Cutter T",
          null,
          "Cutter T",
          "Cutter T",
          "Cutter T",
          "Cutter T",
          null,
          "Cutter T",
          "Cutter T",
          "Cutter T",
          "Cutter T",
          null
         ]
        },
        {
         "connectgaps": false,
         "hoverinfo": "y+name",
         "line": {
          "color": "rgb(131,252,25)",
          "width": 10
         },
         "mode": "lines",
         "name": "loading:Carrier C",
         "type": "scatter",
         "x": [
          "1970-01-01T00:34:19",
          "1970-01-01T00:34:19",
          "1970-01-01T01:07:39",
          "1970-01-01T01:07:39",
          "1970-01-01T01:07:39",
          "1970-01-01T02:50:36",
          "1970-01-01T02:50:36",
          "1970-01-01T03:23:56",
          "1970-01-01T03:23:56",
          "1970-01-01T03:23:56",
          "1970-01-01T05:23:22",
          "1970-01-01T05:23:22",
          "1970-01-01T05:56:42",
          "1970-01-01T05:56:42",
          "1970-01-01T05:56:42",
          "1970-01-01T07:39:39",
          "1970-01-01T07:39:39",
          "1970-01-01T08:12:59",
          "1970-01-01T08:12:59",
          "1970-01-01T08:12:59",
          "1970-01-01T09:55:56",
          "1970-01-01T09:55:56",
          "1970-01-01T10:29:16",
          "1970-01-01T10:29:16",
          "1970-01-01T10:29:16",
          "1970-01-01T12:28:42",
          "1970-01-01T12:28:42",
          "1970-01-01T13:02:02",
          "1970-01-01T13:02:02",
          "1970-01-01T13:02:02",
          "1970-01-01T15:29:25",
          "1970-01-01T15:29:25",
          "1970-01-01T16:02:45",
          "1970-01-01T16:02:45",
          "1970-01-01T16:02:45",
          "1970-01-01T18:30:08",
          "1970-01-01T18:30:08",
          "1970-01-01T19:03:28",
          "1970-01-01T19:03:28",
          "1970-01-01T19:03:28",
          "1970-01-01T21:30:51",
          "1970-01-01T21:30:51",
          "1970-01-01T22:04:11",
          "1970-01-01T22:04:11",
          "1970-01-01T22:04:11",
          "1970-01-01T00:34:19",
          "1970-01-01T00:34:19",
          "1970-01-01T01:07:39",
          "1970-01-01T01:07:39",
          "1970-01-01T01:07:39",
          "1970-01-01T02:50:36",
          "1970-01-01T02:50:36",
          "1970-01-01T03:23:56",
          "1970-01-01T03:23:56",
          "1970-01-01T03:23:56",
          "1970-01-01T05:23:22",
          "1970-01-01T05:23:22",
          "1970-01-01T05:56:42",
          "1970-01-01T05:56:42",
          "1970-01-01T05:56:42",
          "1970-01-01T07:39:39",
          "1970-01-01T07:39:39",
          "1970-01-01T08:12:59",
          "1970-01-01T08:12:59",
          "1970-01-01T08:12:59",
          "1970-01-01T09:55:56",
          "1970-01-01T09:55:56",
          "1970-01-01T10:29:16",
          "1970-01-01T10:29:16",
          "1970-01-01T10:29:16",
          "1970-01-01T12:28:42",
          "1970-01-01T12:28:42",
          "1970-01-01T13:02:02",
          "1970-01-01T13:02:02",
          "1970-01-01T13:02:02",
          "1970-01-01T15:29:25",
          "1970-01-01T15:29:25",
          "1970-01-01T16:02:45",
          "1970-01-01T16:02:45",
          "1970-01-01T16:02:45",
          "1970-01-01T18:30:08",
          "1970-01-01T18:30:08",
          "1970-01-01T19:03:28",
          "1970-01-01T19:03:28",
          "1970-01-01T19:03:28",
          "1970-01-01T21:30:51",
          "1970-01-01T21:30:51",
          "1970-01-01T22:04:11",
          "1970-01-01T22:04:11",
          "1970-01-01T22:04:11"
         ],
         "y": [
          "Trench",
          "Trench",
          "Trench",
          "Trench",
          null,
          "Trench",
          "Trench",
          "Trench",
          "Trench",
          null,
          "Trench",
          "Trench",
          "Trench",
          "Trench",
          null,
          "Trench",
          "Trench",
          "Trench",
          "Trench",
          null,
          "Trench",
          "Trench",
          "Trench",
          "Trench",
          null,
          "Trench",
          "Trench",
          "Trench",
          "Trench",
          null,
          "Trench",
          "Trench",
          "Trench",
          "Trench",
          null,
          "Trench",
          "Trench",
          "Trench",
          "Trench",
          null,
          "Trench",
          "Trench",
          "Trench",
          "Trench",
          null,
          "Cutter T",
          "Cutter T",
          "Cutter T",
          "Cutter T",
          null,
          "Cutter T",
          "Cutter T",
          "Cutter T",
          "Cutter T",
          null,
          "Cutter T",
          "Cutter T",
          "Cutter T",
          "Cutter T",
          null,
          "Cutter T",
          "Cutter T",
          "Cutter T",
          "Cutter T",
          null,
          "Cutter T",
          "Cutter T",
          "Cutter T",
          "Cutter T",
          null,
          "Cutter T",
          "Cutter T",
          "Cutter T",
          "Cutter T",
          null,
          "Cutter T",
          "Cutter T",
          "Cutter T",
          "Cutter T",
          null,
          "Cutter T",
          "Cutter T",
          "Cutter T",
          "Cutter T",
          null,
          "Cutter T",
          "Cutter T",
          "Cutter T",
          "Cutter T",
          null
         ]
        }
       ],
       "layout": {
        "hovermode": "closest",
        "legend": {
         "orientation": "h",
         "x": 0,
         "y": -0.2
        },
        "template": {
         "data": {
          "bar": [
           {
            "error_x": {
             "color": "#2a3f5f"
            },
            "error_y": {
             "color": "#2a3f5f"
            },
            "marker": {
             "line": {
              "color": "#E5ECF6",
              "width": 0.5
             },
             "pattern": {
              "fillmode": "overlay",
              "size": 10,
              "solidity": 0.2
             }
            },
            "type": "bar"
           }
          ],
          "barpolar": [
           {
            "marker": {
             "line": {
              "color": "#E5ECF6",
              "width": 0.5
             },
             "pattern": {
              "fillmode": "overlay",
              "size": 10,
              "solidity": 0.2
             }
            },
            "type": "barpolar"
           }
          ],
          "carpet": [
           {
            "aaxis": {
             "endlinecolor": "#2a3f5f",
             "gridcolor": "white",
             "linecolor": "white",
             "minorgridcolor": "white",
             "startlinecolor": "#2a3f5f"
            },
            "baxis": {
             "endlinecolor": "#2a3f5f",
             "gridcolor": "white",
             "linecolor": "white",
             "minorgridcolor": "white",
             "startlinecolor": "#2a3f5f"
            },
            "type": "carpet"
           }
          ],
          "choropleth": [
           {
            "colorbar": {
             "outlinewidth": 0,
             "ticks": ""
            },
            "type": "choropleth"
           }
          ],
          "contour": [
           {
            "colorbar": {
             "outlinewidth": 0,
             "ticks": ""
            },
            "colorscale": [
             [
              0,
              "#0d0887"
             ],
             [
              0.1111111111111111,
              "#46039f"
             ],
             [
              0.2222222222222222,
              "#7201a8"
             ],
             [
              0.3333333333333333,
              "#9c179e"
             ],
             [
              0.4444444444444444,
              "#bd3786"
             ],
             [
              0.5555555555555556,
              "#d8576b"
             ],
             [
              0.6666666666666666,
              "#ed7953"
             ],
             [
              0.7777777777777778,
              "#fb9f3a"
             ],
             [
              0.8888888888888888,
              "#fdca26"
             ],
             [
              1,
              "#f0f921"
             ]
            ],
            "type": "contour"
           }
          ],
          "contourcarpet": [
           {
            "colorbar": {
             "outlinewidth": 0,
             "ticks": ""
            },
            "type": "contourcarpet"
           }
          ],
          "heatmap": [
           {
            "colorbar": {
             "outlinewidth": 0,
             "ticks": ""
            },
            "colorscale": [
             [
              0,
              "#0d0887"
             ],
             [
              0.1111111111111111,
              "#46039f"
             ],
             [
              0.2222222222222222,
              "#7201a8"
             ],
             [
              0.3333333333333333,
              "#9c179e"
             ],
             [
              0.4444444444444444,
              "#bd3786"
             ],
             [
              0.5555555555555556,
              "#d8576b"
             ],
             [
              0.6666666666666666,
              "#ed7953"
             ],
             [
              0.7777777777777778,
              "#fb9f3a"
             ],
             [
              0.8888888888888888,
              "#fdca26"
             ],
             [
              1,
              "#f0f921"
             ]
            ],
            "type": "heatmap"
           }
          ],
          "heatmapgl": [
           {
            "colorbar": {
             "outlinewidth": 0,
             "ticks": ""
            },
            "colorscale": [
             [
              0,
              "#0d0887"
             ],
             [
              0.1111111111111111,
              "#46039f"
             ],
             [
              0.2222222222222222,
              "#7201a8"
             ],
             [
              0.3333333333333333,
              "#9c179e"
             ],
             [
              0.4444444444444444,
              "#bd3786"
             ],
             [
              0.5555555555555556,
              "#d8576b"
             ],
             [
              0.6666666666666666,
              "#ed7953"
             ],
             [
              0.7777777777777778,
              "#fb9f3a"
             ],
             [
              0.8888888888888888,
              "#fdca26"
             ],
             [
              1,
              "#f0f921"
             ]
            ],
            "type": "heatmapgl"
           }
          ],
          "histogram": [
           {
            "marker": {
             "pattern": {
              "fillmode": "overlay",
              "size": 10,
              "solidity": 0.2
             }
            },
            "type": "histogram"
           }
          ],
          "histogram2d": [
           {
            "colorbar": {
             "outlinewidth": 0,
             "ticks": ""
            },
            "colorscale": [
             [
              0,
              "#0d0887"
             ],
             [
              0.1111111111111111,
              "#46039f"
             ],
             [
              0.2222222222222222,
              "#7201a8"
             ],
             [
              0.3333333333333333,
              "#9c179e"
             ],
             [
              0.4444444444444444,
              "#bd3786"
             ],
             [
              0.5555555555555556,
              "#d8576b"
             ],
             [
              0.6666666666666666,
              "#ed7953"
             ],
             [
              0.7777777777777778,
              "#fb9f3a"
             ],
             [
              0.8888888888888888,
              "#fdca26"
             ],
             [
              1,
              "#f0f921"
             ]
            ],
            "type": "histogram2d"
           }
          ],
          "histogram2dcontour": [
           {
            "colorbar": {
             "outlinewidth": 0,
             "ticks": ""
            },
            "colorscale": [
             [
              0,
              "#0d0887"
             ],
             [
              0.1111111111111111,
              "#46039f"
             ],
             [
              0.2222222222222222,
              "#7201a8"
             ],
             [
              0.3333333333333333,
              "#9c179e"
             ],
             [
              0.4444444444444444,
              "#bd3786"
             ],
             [
              0.5555555555555556,
              "#d8576b"
             ],
             [
              0.6666666666666666,
              "#ed7953"
             ],
             [
              0.7777777777777778,
              "#fb9f3a"
             ],
             [
              0.8888888888888888,
              "#fdca26"
             ],
             [
              1,
              "#f0f921"
             ]
            ],
            "type": "histogram2dcontour"
           }
          ],
          "mesh3d": [
           {
            "colorbar": {
             "outlinewidth": 0,
             "ticks": ""
            },
            "type": "mesh3d"
           }
          ],
          "parcoords": [
           {
            "line": {
             "colorbar": {
              "outlinewidth": 0,
              "ticks": ""
             }
            },
            "type": "parcoords"
           }
          ],
          "pie": [
           {
            "automargin": true,
            "type": "pie"
           }
          ],
          "scatter": [
           {
            "fillpattern": {
             "fillmode": "overlay",
             "size": 10,
             "solidity": 0.2
            },
            "type": "scatter"
           }
          ],
          "scatter3d": [
           {
            "line": {
             "colorbar": {
              "outlinewidth": 0,
              "ticks": ""
             }
            },
            "marker": {
             "colorbar": {
              "outlinewidth": 0,
              "ticks": ""
             }
            },
            "type": "scatter3d"
           }
          ],
          "scattercarpet": [
           {
            "marker": {
             "colorbar": {
              "outlinewidth": 0,
              "ticks": ""
             }
            },
            "type": "scattercarpet"
           }
          ],
          "scattergeo": [
           {
            "marker": {
             "colorbar": {
              "outlinewidth": 0,
              "ticks": ""
             }
            },
            "type": "scattergeo"
           }
          ],
          "scattergl": [
           {
            "marker": {
             "colorbar": {
              "outlinewidth": 0,
              "ticks": ""
             }
            },
            "type": "scattergl"
           }
          ],
          "scattermapbox": [
           {
            "marker": {
             "colorbar": {
              "outlinewidth": 0,
              "ticks": ""
             }
            },
            "type": "scattermapbox"
           }
          ],
          "scatterpolar": [
           {
            "marker": {
             "colorbar": {
              "outlinewidth": 0,
              "ticks": ""
             }
            },
            "type": "scatterpolar"
           }
          ],
          "scatterpolargl": [
           {
            "marker": {
             "colorbar": {
              "outlinewidth": 0,
              "ticks": ""
             }
            },
            "type": "scatterpolargl"
           }
          ],
          "scatterternary": [
           {
            "marker": {
             "colorbar": {
              "outlinewidth": 0,
              "ticks": ""
             }
            },
            "type": "scatterternary"
           }
          ],
          "surface": [
           {
            "colorbar": {
             "outlinewidth": 0,
             "ticks": ""
            },
            "colorscale": [
             [
              0,
              "#0d0887"
             ],
             [
              0.1111111111111111,
              "#46039f"
             ],
             [
              0.2222222222222222,
              "#7201a8"
             ],
             [
              0.3333333333333333,
              "#9c179e"
             ],
             [
              0.4444444444444444,
              "#bd3786"
             ],
             [
              0.5555555555555556,
              "#d8576b"
             ],
             [
              0.6666666666666666,
              "#ed7953"
             ],
             [
              0.7777777777777778,
              "#fb9f3a"
             ],
             [
              0.8888888888888888,
              "#fdca26"
             ],
             [
              1,
              "#f0f921"
             ]
            ],
            "type": "surface"
           }
          ],
          "table": [
           {
            "cells": {
             "fill": {
              "color": "#EBF0F8"
             },
             "line": {
              "color": "white"
             }
            },
            "header": {
             "fill": {
              "color": "#C8D4E3"
             },
             "line": {
              "color": "white"
             }
            },
            "type": "table"
           }
          ]
         },
         "layout": {
          "annotationdefaults": {
           "arrowcolor": "#2a3f5f",
           "arrowhead": 0,
           "arrowwidth": 1
          },
          "autotypenumbers": "strict",
          "coloraxis": {
           "colorbar": {
            "outlinewidth": 0,
            "ticks": ""
           }
          },
          "colorscale": {
           "diverging": [
            [
             0,
             "#8e0152"
            ],
            [
             0.1,
             "#c51b7d"
            ],
            [
             0.2,
             "#de77ae"
            ],
            [
             0.3,
             "#f1b6da"
            ],
            [
             0.4,
             "#fde0ef"
            ],
            [
             0.5,
             "#f7f7f7"
            ],
            [
             0.6,
             "#e6f5d0"
            ],
            [
             0.7,
             "#b8e186"
            ],
            [
             0.8,
             "#7fbc41"
            ],
            [
             0.9,
             "#4d9221"
            ],
            [
             1,
             "#276419"
            ]
           ],
           "sequential": [
            [
             0,
             "#0d0887"
            ],
            [
             0.1111111111111111,
             "#46039f"
            ],
            [
             0.2222222222222222,
             "#7201a8"
            ],
            [
             0.3333333333333333,
             "#9c179e"
            ],
            [
             0.4444444444444444,
             "#bd3786"
            ],
            [
             0.5555555555555556,
             "#d8576b"
            ],
            [
             0.6666666666666666,
             "#ed7953"
            ],
            [
             0.7777777777777778,
             "#fb9f3a"
            ],
            [
             0.8888888888888888,
             "#fdca26"
            ],
            [
             1,
             "#f0f921"
            ]
           ],
           "sequentialminus": [
            [
             0,
             "#0d0887"
            ],
            [
             0.1111111111111111,
             "#46039f"
            ],
            [
             0.2222222222222222,
             "#7201a8"
            ],
            [
             0.3333333333333333,
             "#9c179e"
            ],
            [
             0.4444444444444444,
             "#bd3786"
            ],
            [
             0.5555555555555556,
             "#d8576b"
            ],
            [
             0.6666666666666666,
             "#ed7953"
            ],
            [
             0.7777777777777778,
             "#fb9f3a"
            ],
            [
             0.8888888888888888,
             "#fdca26"
            ],
            [
             1,
             "#f0f921"
            ]
           ]
          },
          "colorway": [
           "#636efa",
           "#EF553B",
           "#00cc96",
           "#ab63fa",
           "#FFA15A",
           "#19d3f3",
           "#FF6692",
           "#B6E880",
           "#FF97FF",
           "#FECB52"
          ],
          "font": {
           "color": "#2a3f5f"
          },
          "geo": {
           "bgcolor": "white",
           "lakecolor": "white",
           "landcolor": "#E5ECF6",
           "showlakes": true,
           "showland": true,
           "subunitcolor": "white"
          },
          "hoverlabel": {
           "align": "left"
          },
          "hovermode": "closest",
          "mapbox": {
           "style": "light"
          },
          "paper_bgcolor": "white",
          "plot_bgcolor": "#E5ECF6",
          "polar": {
           "angularaxis": {
            "gridcolor": "white",
            "linecolor": "white",
            "ticks": ""
           },
           "bgcolor": "#E5ECF6",
           "radialaxis": {
            "gridcolor": "white",
            "linecolor": "white",
            "ticks": ""
           }
          },
          "scene": {
           "xaxis": {
            "backgroundcolor": "#E5ECF6",
            "gridcolor": "white",
            "gridwidth": 2,
            "linecolor": "white",
            "showbackground": true,
            "ticks": "",
            "zerolinecolor": "white"
           },
           "yaxis": {
            "backgroundcolor": "#E5ECF6",
            "gridcolor": "white",
            "gridwidth": 2,
            "linecolor": "white",
            "showbackground": true,
            "ticks": "",
            "zerolinecolor": "white"
           },
           "zaxis": {
            "backgroundcolor": "#E5ECF6",
            "gridcolor": "white",
            "gridwidth": 2,
            "linecolor": "white",
            "showbackground": true,
            "ticks": "",
            "zerolinecolor": "white"
           }
          },
          "shapedefaults": {
           "line": {
            "color": "#2a3f5f"
           }
          },
          "ternary": {
           "aaxis": {
            "gridcolor": "white",
            "linecolor": "white",
            "ticks": ""
           },
           "baxis": {
            "gridcolor": "white",
            "linecolor": "white",
            "ticks": ""
           },
           "bgcolor": "#E5ECF6",
           "caxis": {
            "gridcolor": "white",
            "linecolor": "white",
            "ticks": ""
           }
          },
          "title": {
           "x": 0.05
          },
          "xaxis": {
           "automargin": true,
           "gridcolor": "white",
           "linecolor": "white",
           "ticks": "",
           "title": {
            "standoff": 15
           },
           "zerolinecolor": "white",
           "zerolinewidth": 2
          },
          "yaxis": {
           "automargin": true,
           "gridcolor": "white",
           "linecolor": "white",
           "ticks": "",
           "title": {
            "standoff": 15
           },
           "zerolinecolor": "white",
           "zerolinewidth": 2
          }
         }
        },
        "title": {
         "text": "GANTT Chart"
        },
        "xaxis": {
         "range": [
          "1970-01-01T00:34:19",
          "1970-01-01T23:12:49"
         ],
         "title": {
          "font": {
           "color": "#7f7f7f",
           "family": "Courier New, monospace",
           "size": 18
          },
          "text": "Time"
         }
        },
        "yaxis": {
         "title": {
          "font": {
           "color": "#7f7f7f",
           "family": "Courier New, monospace",
           "size": 18
          },
          "text": "Activities"
         }
        }
       }
      },
      "text/html": [
       "<div>                            <div id=\"c499ca05-d01a-4cc6-a0c6-51467f25ac9b\" class=\"plotly-graph-div\" style=\"height:525px; width:100%;\"></div>            <script type=\"text/javascript\">                require([\"plotly\"], function(Plotly) {                    window.PLOTLYENV=window.PLOTLYENV || {};                                    if (document.getElementById(\"c499ca05-d01a-4cc6-a0c6-51467f25ac9b\")) {                    Plotly.newPlot(                        \"c499ca05-d01a-4cc6-a0c6-51467f25ac9b\",                        [{\"connectgaps\":false,\"hoverinfo\":\"y+name\",\"line\":{\"color\":\"rgb(163,28,57)\",\"width\":10},\"mode\":\"lines\",\"name\":\"loading:Carrier A\",\"x\":[\"1970-01-01T01:40:59\",\"1970-01-01T01:40:59\",\"1970-01-01T02:22:39\",\"1970-01-01T02:22:39\",\"1970-01-01T02:22:39\",\"1970-01-01T04:41:42\",\"1970-01-01T04:41:42\",\"1970-01-01T05:23:22\",\"1970-01-01T05:23:22\",\"1970-01-01T05:23:22\",\"1970-01-01T08:12:59\",\"1970-01-01T08:12:59\",\"1970-01-01T08:54:39\",\"1970-01-01T08:54:39\",\"1970-01-01T08:54:39\",\"1970-01-01T11:13:42\",\"1970-01-01T11:13:42\",\"1970-01-01T11:55:22\",\"1970-01-01T11:55:22\",\"1970-01-01T11:55:22\",\"1970-01-01T14:14:25\",\"1970-01-01T14:14:25\",\"1970-01-01T14:56:05\",\"1970-01-01T14:56:05\",\"1970-01-01T14:56:05\",\"1970-01-01T17:15:08\",\"1970-01-01T17:15:08\",\"1970-01-01T17:56:48\",\"1970-01-01T17:56:48\",\"1970-01-01T17:56:48\",\"1970-01-01T20:15:51\",\"1970-01-01T20:15:51\",\"1970-01-01T20:57:31\",\"1970-01-01T20:57:31\",\"1970-01-01T20:57:31\",\"1970-01-01T01:40:59\",\"1970-01-01T01:40:59\",\"1970-01-01T02:22:39\",\"1970-01-01T02:22:39\",\"1970-01-01T02:22:39\",\"1970-01-01T04:41:42\",\"1970-01-01T04:41:42\",\"1970-01-01T05:23:22\",\"1970-01-01T05:23:22\",\"1970-01-01T05:23:22\",\"1970-01-01T08:12:59\",\"1970-01-01T08:12:59\",\"1970-01-01T08:54:39\",\"1970-01-01T08:54:39\",\"1970-01-01T08:54:39\",\"1970-01-01T11:13:42\",\"1970-01-01T11:13:42\",\"1970-01-01T11:55:22\",\"1970-01-01T11:55:22\",\"1970-01-01T11:55:22\",\"1970-01-01T14:14:25\",\"1970-01-01T14:14:25\",\"1970-01-01T14:56:05\",\"1970-01-01T14:56:05\",\"1970-01-01T14:56:05\",\"1970-01-01T17:15:08\",\"1970-01-01T17:15:08\",\"1970-01-01T17:56:48\",\"1970-01-01T17:56:48\",\"1970-01-01T17:56:48\",\"1970-01-01T20:15:51\",\"1970-01-01T20:15:51\",\"1970-01-01T20:57:31\",\"1970-01-01T20:57:31\",\"1970-01-01T20:57:31\"],\"y\":[\"Trench\",\"Trench\",\"Trench\",\"Trench\",null,\"Trench\",\"Trench\",\"Trench\",\"Trench\",null,\"Trench\",\"Trench\",\"Trench\",\"Trench\",null,\"Trench\",\"Trench\",\"Trench\",\"Trench\",null,\"Trench\",\"Trench\",\"Trench\",\"Trench\",null,\"Trench\",\"Trench\",\"Trench\",\"Trench\",null,\"Trench\",\"Trench\",\"Trench\",\"Trench\",null,\"Cutter T\",\"Cutter T\",\"Cutter T\",\"Cutter T\",null,\"Cutter T\",\"Cutter T\",\"Cutter T\",\"Cutter T\",null,\"Cutter T\",\"Cutter T\",\"Cutter T\",\"Cutter T\",null,\"Cutter T\",\"Cutter T\",\"Cutter T\",\"Cutter T\",null,\"Cutter T\",\"Cutter T\",\"Cutter T\",\"Cutter T\",null,\"Cutter T\",\"Cutter T\",\"Cutter T\",\"Cutter T\",null,\"Cutter T\",\"Cutter T\",\"Cutter T\",\"Cutter T\",null],\"type\":\"scatter\"},{\"connectgaps\":false,\"hoverinfo\":\"y+name\",\"line\":{\"color\":\"rgb(191,56,85)\",\"width\":10},\"mode\":\"lines\",\"name\":\"loading:Carrier B\",\"x\":[\"1970-01-01T01:07:39\",\"1970-01-01T01:07:39\",\"1970-01-01T01:40:59\",\"1970-01-01T01:40:59\",\"1970-01-01T01:40:59\",\"1970-01-01T03:41:47\",\"1970-01-01T03:41:47\",\"1970-01-01T04:15:07\",\"1970-01-01T04:15:07\",\"1970-01-01T04:15:07\",\"1970-01-01T06:15:55\",\"1970-01-01T06:15:55\",\"1970-01-01T06:49:15\",\"1970-01-01T06:49:15\",\"1970-01-01T06:49:15\",\"1970-01-01T08:54:39\",\"1970-01-01T08:54:39\",\"1970-01-01T09:27:59\",\"1970-01-01T09:27:59\",\"1970-01-01T09:27:59\",\"1970-01-01T11:55:22\",\"1970-01-01T11:55:22\",\"1970-01-01T12:28:42\",\"1970-01-01T12:28:42\",\"1970-01-01T12:28:42\",\"1970-01-01T14:56:05\",\"1970-01-01T14:56:05\",\"1970-01-01T15:29:25\",\"1970-01-01T15:29:25\",\"1970-01-01T15:29:25\",\"1970-01-01T17:56:48\",\"1970-01-01T17:56:48\",\"1970-01-01T18:30:08\",\"1970-01-01T18:30:08\",\"1970-01-01T18:30:08\",\"1970-01-01T20:57:31\",\"1970-01-01T20:57:31\",\"1970-01-01T21:30:51\",\"1970-01-01T21:30:51\",\"1970-01-01T21:30:51\",\"1970-01-01T01:07:39\",\"1970-01-01T01:07:39\",\"1970-01-01T01:40:59\",\"1970-01-01T01:40:59\",\"1970-01-01T01:40:59\",\"1970-01-01T03:41:47\",\"1970-01-01T03:41:47\",\"1970-01-01T04:15:07\",\"1970-01-01T04:15:07\",\"1970-01-01T04:15:07\",\"1970-01-01T06:15:55\",\"1970-01-01T06:15:55\",\"1970-01-01T06:49:15\",\"1970-01-01T06:49:15\",\"1970-01-01T06:49:15\",\"1970-01-01T08:54:39\",\"1970-01-01T08:54:39\",\"1970-01-01T09:27:59\",\"1970-01-01T09:27:59\",\"1970-01-01T09:27:59\",\"1970-01-01T11:55:22\",\"1970-01-01T11:55:22\",\"1970-01-01T12:28:42\",\"1970-01-01T12:28:42\",\"1970-01-01T12:28:42\",\"1970-01-01T14:56:05\",\"1970-01-01T14:56:05\",\"1970-01-01T15:29:25\",\"1970-01-01T15:29:25\",\"1970-01-01T15:29:25\",\"1970-01-01T17:56:48\",\"1970-01-01T17:56:48\",\"1970-01-01T18:30:08\",\"1970-01-01T18:30:08\",\"1970-01-01T18:30:08\",\"1970-01-01T20:57:31\",\"1970-01-01T20:57:31\",\"1970-01-01T21:30:51\",\"1970-01-01T21:30:51\",\"1970-01-01T21:30:51\"],\"y\":[\"Trench\",\"Trench\",\"Trench\",\"Trench\",null,\"Trench\",\"Trench\",\"Trench\",\"Trench\",null,\"Trench\",\"Trench\",\"Trench\",\"Trench\",null,\"Trench\",\"Trench\",\"Trench\",\"Trench\",null,\"Trench\",\"Trench\",\"Trench\",\"Trench\",null,\"Trench\",\"Trench\",\"Trench\",\"Trench\",null,\"Trench\",\"Trench\",\"Trench\",\"Trench\",null,\"Trench\",\"Trench\",\"Trench\",\"Trench\",null,\"Cutter T\",\"Cutter T\",\"Cutter T\",\"Cutter T\",null,\"Cutter T\",\"Cutter T\",\"Cutter T\",\"Cutter T\",null,\"Cutter T\",\"Cutter T\",\"Cutter T\",\"Cutter T\",null,\"Cutter T\",\"Cutter T\",\"Cutter T\",\"Cutter T\",null,\"Cutter T\",\"Cutter T\",\"Cutter T\",\"Cutter T\",null,\"Cutter T\",\"Cutter T\",\"Cutter T\",\"Cutter T\",null,\"Cutter T\",\"Cutter T\",\"Cutter T\",\"Cutter T\",null,\"Cutter T\",\"Cutter T\",\"Cutter T\",\"Cutter T\",null],\"type\":\"scatter\"},{\"connectgaps\":false,\"hoverinfo\":\"y+name\",\"line\":{\"color\":\"rgb(219,84,113)\",\"width\":10},\"mode\":\"lines\",\"name\":\"loading:Carrier C\",\"x\":[\"1970-01-01T00:34:19\",\"1970-01-01T00:34:19\",\"1970-01-01T01:07:39\",\"1970-01-01T01:07:39\",\"1970-01-01T01:07:39\",\"1970-01-01T02:50:36\",\"1970-01-01T02:50:36\",\"1970-01-01T03:23:56\",\"1970-01-01T03:23:56\",\"1970-01-01T03:23:56\",\"1970-01-01T05:23:22\",\"1970-01-01T05:23:22\",\"1970-01-01T05:56:42\",\"1970-01-01T05:56:42\",\"1970-01-01T05:56:42\",\"1970-01-01T07:39:39\",\"1970-01-01T07:39:39\",\"1970-01-01T08:12:59\",\"1970-01-01T08:12:59\",\"1970-01-01T08:12:59\",\"1970-01-01T09:55:56\",\"1970-01-01T09:55:56\",\"1970-01-01T10:29:16\",\"1970-01-01T10:29:16\",\"1970-01-01T10:29:16\",\"1970-01-01T12:28:42\",\"1970-01-01T12:28:42\",\"1970-01-01T13:02:02\",\"1970-01-01T13:02:02\",\"1970-01-01T13:02:02\",\"1970-01-01T15:29:25\",\"1970-01-01T15:29:25\",\"1970-01-01T16:02:45\",\"1970-01-01T16:02:45\",\"1970-01-01T16:02:45\",\"1970-01-01T18:30:08\",\"1970-01-01T18:30:08\",\"1970-01-01T19:03:28\",\"1970-01-01T19:03:28\",\"1970-01-01T19:03:28\",\"1970-01-01T21:30:51\",\"1970-01-01T21:30:51\",\"1970-01-01T22:04:11\",\"1970-01-01T22:04:11\",\"1970-01-01T22:04:11\",\"1970-01-01T00:34:19\",\"1970-01-01T00:34:19\",\"1970-01-01T01:07:39\",\"1970-01-01T01:07:39\",\"1970-01-01T01:07:39\",\"1970-01-01T02:50:36\",\"1970-01-01T02:50:36\",\"1970-01-01T03:23:56\",\"1970-01-01T03:23:56\",\"1970-01-01T03:23:56\",\"1970-01-01T05:23:22\",\"1970-01-01T05:23:22\",\"1970-01-01T05:56:42\",\"1970-01-01T05:56:42\",\"1970-01-01T05:56:42\",\"1970-01-01T07:39:39\",\"1970-01-01T07:39:39\",\"1970-01-01T08:12:59\",\"1970-01-01T08:12:59\",\"1970-01-01T08:12:59\",\"1970-01-01T09:55:56\",\"1970-01-01T09:55:56\",\"1970-01-01T10:29:16\",\"1970-01-01T10:29:16\",\"1970-01-01T10:29:16\",\"1970-01-01T12:28:42\",\"1970-01-01T12:28:42\",\"1970-01-01T13:02:02\",\"1970-01-01T13:02:02\",\"1970-01-01T13:02:02\",\"1970-01-01T15:29:25\",\"1970-01-01T15:29:25\",\"1970-01-01T16:02:45\",\"1970-01-01T16:02:45\",\"1970-01-01T16:02:45\",\"1970-01-01T18:30:08\",\"1970-01-01T18:30:08\",\"1970-01-01T19:03:28\",\"1970-01-01T19:03:28\",\"1970-01-01T19:03:28\",\"1970-01-01T21:30:51\",\"1970-01-01T21:30:51\",\"1970-01-01T22:04:11\",\"1970-01-01T22:04:11\",\"1970-01-01T22:04:11\"],\"y\":[\"Trench\",\"Trench\",\"Trench\",\"Trench\",null,\"Trench\",\"Trench\",\"Trench\",\"Trench\",null,\"Trench\",\"Trench\",\"Trench\",\"Trench\",null,\"Trench\",\"Trench\",\"Trench\",\"Trench\",null,\"Trench\",\"Trench\",\"Trench\",\"Trench\",null,\"Trench\",\"Trench\",\"Trench\",\"Trench\",null,\"Trench\",\"Trench\",\"Trench\",\"Trench\",null,\"Trench\",\"Trench\",\"Trench\",\"Trench\",null,\"Trench\",\"Trench\",\"Trench\",\"Trench\",null,\"Cutter T\",\"Cutter T\",\"Cutter T\",\"Cutter T\",null,\"Cutter T\",\"Cutter T\",\"Cutter T\",\"Cutter T\",null,\"Cutter T\",\"Cutter T\",\"Cutter T\",\"Cutter T\",null,\"Cutter T\",\"Cutter T\",\"Cutter T\",\"Cutter T\",null,\"Cutter T\",\"Cutter T\",\"Cutter T\",\"Cutter T\",null,\"Cutter T\",\"Cutter T\",\"Cutter T\",\"Cutter T\",null,\"Cutter T\",\"Cutter T\",\"Cutter T\",\"Cutter T\",null,\"Cutter T\",\"Cutter T\",\"Cutter T\",\"Cutter T\",null,\"Cutter T\",\"Cutter T\",\"Cutter T\",\"Cutter T\",null],\"type\":\"scatter\"},{\"connectgaps\":false,\"hoverinfo\":\"y+name\",\"line\":{\"color\":\"rgb(247,112,141)\",\"width\":10},\"mode\":\"lines\",\"name\":\"unloading:Carrier C\",\"x\":[\"1970-01-01T01:41:58\",\"1970-01-01T01:41:58\",\"1970-01-01T02:16:17\",\"1970-01-01T02:16:17\",\"1970-01-01T02:16:17\",\"1970-01-01T03:58:15\",\"1970-01-01T03:58:15\",\"1970-01-01T04:32:34\",\"1970-01-01T04:32:34\",\"1970-01-01T04:32:34\",\"1970-01-01T06:31:01\",\"1970-01-01T06:31:01\",\"1970-01-01T07:05:20\",\"1970-01-01T07:05:20\",\"1970-01-01T07:05:20\",\"1970-01-01T08:47:18\",\"1970-01-01T08:47:18\",\"1970-01-01T09:21:37\",\"1970-01-01T09:21:37\",\"1970-01-01T09:21:37\",\"1970-01-01T11:03:35\",\"1970-01-01T11:03:35\",\"1970-01-01T11:37:54\",\"1970-01-01T11:37:54\",\"1970-01-01T11:37:54\",\"1970-01-01T13:36:21\",\"1970-01-01T13:36:21\",\"1970-01-01T14:10:40\",\"1970-01-01T14:10:40\",\"1970-01-01T14:10:40\",\"1970-01-01T16:37:04\",\"1970-01-01T16:37:04\",\"1970-01-01T17:11:23\",\"1970-01-01T17:11:23\",\"1970-01-01T17:11:23\",\"1970-01-01T19:37:47\",\"1970-01-01T19:37:47\",\"1970-01-01T20:12:06\",\"1970-01-01T20:12:06\",\"1970-01-01T20:12:06\",\"1970-01-01T22:38:30\",\"1970-01-01T22:38:30\",\"1970-01-01T23:12:49\",\"1970-01-01T23:12:49\",\"1970-01-01T23:12:49\"],\"y\":[\"Reclamation\",\"Reclamation\",\"Reclamation\",\"Reclamation\",null,\"Reclamation\",\"Reclamation\",\"Reclamation\",\"Reclamation\",null,\"Reclamation\",\"Reclamation\",\"Reclamation\",\"Reclamation\",null,\"Reclamation\",\"Reclamation\",\"Reclamation\",\"Reclamation\",null,\"Reclamation\",\"Reclamation\",\"Reclamation\",\"Reclamation\",null,\"Reclamation\",\"Reclamation\",\"Reclamation\",\"Reclamation\",null,\"Reclamation\",\"Reclamation\",\"Reclamation\",\"Reclamation\",null,\"Reclamation\",\"Reclamation\",\"Reclamation\",\"Reclamation\",null,\"Reclamation\",\"Reclamation\",\"Reclamation\",\"Reclamation\",null],\"type\":\"scatter\"},{\"connectgaps\":false,\"hoverinfo\":\"y+name\",\"line\":{\"color\":\"rgb(19,140,169)\",\"width\":10},\"mode\":\"lines\",\"name\":\"unloading:Carrier A\",\"x\":[\"1970-01-01T03:09:00\",\"1970-01-01T03:09:00\",\"1970-01-01T03:55:21\",\"1970-01-01T03:55:21\",\"1970-01-01T03:55:21\",\"1970-01-01T06:09:43\",\"1970-01-01T06:09:43\",\"1970-01-01T06:56:04\",\"1970-01-01T06:56:04\",\"1970-01-01T06:56:04\",\"1970-01-01T09:41:00\",\"1970-01-01T09:41:00\",\"1970-01-01T10:27:21\",\"1970-01-01T10:27:21\",\"1970-01-01T10:27:21\",\"1970-01-01T12:41:43\",\"1970-01-01T12:41:43\",\"1970-01-01T13:28:04\",\"1970-01-01T13:28:04\",\"1970-01-01T13:28:04\",\"1970-01-01T15:42:26\",\"1970-01-01T15:42:26\",\"1970-01-01T16:28:47\",\"1970-01-01T16:28:47\",\"1970-01-01T16:28:47\",\"1970-01-01T18:43:09\",\"1970-01-01T18:43:09\",\"1970-01-01T19:29:30\",\"1970-01-01T19:29:30\",\"1970-01-01T19:29:30\",\"1970-01-01T21:43:52\",\"1970-01-01T21:43:52\",\"1970-01-01T22:30:13\",\"1970-01-01T22:30:13\",\"1970-01-01T22:30:13\"],\"y\":[\"Reclamation\",\"Reclamation\",\"Reclamation\",\"Reclamation\",null,\"Reclamation\",\"Reclamation\",\"Reclamation\",\"Reclamation\",null,\"Reclamation\",\"Reclamation\",\"Reclamation\",\"Reclamation\",null,\"Reclamation\",\"Reclamation\",\"Reclamation\",\"Reclamation\",null,\"Reclamation\",\"Reclamation\",\"Reclamation\",\"Reclamation\",null,\"Reclamation\",\"Reclamation\",\"Reclamation\",\"Reclamation\",null,\"Reclamation\",\"Reclamation\",\"Reclamation\",\"Reclamation\",null],\"type\":\"scatter\"},{\"connectgaps\":false,\"hoverinfo\":\"y+name\",\"line\":{\"color\":\"rgb(47,168,197)\",\"width\":10},\"mode\":\"lines\",\"name\":\"unloading:Carrier B\",\"x\":[\"1970-01-01T02:21:15\",\"1970-01-01T02:21:15\",\"1970-01-01T03:01:31\",\"1970-01-01T03:01:31\",\"1970-01-01T03:01:31\",\"1970-01-01T04:55:23\",\"1970-01-01T04:55:23\",\"1970-01-01T05:35:39\",\"1970-01-01T05:35:39\",\"1970-01-01T05:35:39\",\"1970-01-01T07:29:31\",\"1970-01-01T07:29:31\",\"1970-01-01T08:09:47\",\"1970-01-01T08:09:47\",\"1970-01-01T08:09:47\",\"1970-01-01T10:08:15\",\"1970-01-01T10:08:15\",\"1970-01-01T10:48:31\",\"1970-01-01T10:48:31\",\"1970-01-01T10:48:31\",\"1970-01-01T13:08:58\",\"1970-01-01T13:08:58\",\"1970-01-01T13:49:14\",\"1970-01-01T13:49:14\",\"1970-01-01T13:49:14\",\"1970-01-01T16:09:41\",\"1970-01-01T16:09:41\",\"1970-01-01T16:49:57\",\"1970-01-01T16:49:57\",\"1970-01-01T16:49:57\",\"1970-01-01T19:10:24\",\"1970-01-01T19:10:24\",\"1970-01-01T19:50:40\",\"1970-01-01T19:50:40\",\"1970-01-01T19:50:40\",\"1970-01-01T22:11:07\",\"1970-01-01T22:11:07\",\"1970-01-01T22:51:23\",\"1970-01-01T22:51:23\",\"1970-01-01T22:51:23\"],\"y\":[\"Reclamation\",\"Reclamation\",\"Reclamation\",\"Reclamation\",null,\"Reclamation\",\"Reclamation\",\"Reclamation\",\"Reclamation\",null,\"Reclamation\",\"Reclamation\",\"Reclamation\",\"Reclamation\",null,\"Reclamation\",\"Reclamation\",\"Reclamation\",\"Reclamation\",null,\"Reclamation\",\"Reclamation\",\"Reclamation\",\"Reclamation\",null,\"Reclamation\",\"Reclamation\",\"Reclamation\",\"Reclamation\",null,\"Reclamation\",\"Reclamation\",\"Reclamation\",\"Reclamation\",null,\"Reclamation\",\"Reclamation\",\"Reclamation\",\"Reclamation\",null],\"type\":\"scatter\"},{\"connectgaps\":false,\"hoverinfo\":\"y+name\",\"line\":{\"color\":\"rgb(75,196,225)\",\"width\":10},\"mode\":\"lines\",\"name\":\"loading:Carrier A\",\"x\":[\"1970-01-01T01:40:59\",\"1970-01-01T01:40:59\",\"1970-01-01T02:22:39\",\"1970-01-01T02:22:39\",\"1970-01-01T02:22:39\",\"1970-01-01T04:41:42\",\"1970-01-01T04:41:42\",\"1970-01-01T05:23:22\",\"1970-01-01T05:23:22\",\"1970-01-01T05:23:22\",\"1970-01-01T08:12:59\",\"1970-01-01T08:12:59\",\"1970-01-01T08:54:39\",\"1970-01-01T08:54:39\",\"1970-01-01T08:54:39\",\"1970-01-01T11:13:42\",\"1970-01-01T11:13:42\",\"1970-01-01T11:55:22\",\"1970-01-01T11:55:22\",\"1970-01-01T11:55:22\",\"1970-01-01T14:14:25\",\"1970-01-01T14:14:25\",\"1970-01-01T14:56:05\",\"1970-01-01T14:56:05\",\"1970-01-01T14:56:05\",\"1970-01-01T17:15:08\",\"1970-01-01T17:15:08\",\"1970-01-01T17:56:48\",\"1970-01-01T17:56:48\",\"1970-01-01T17:56:48\",\"1970-01-01T20:15:51\",\"1970-01-01T20:15:51\",\"1970-01-01T20:57:31\",\"1970-01-01T20:57:31\",\"1970-01-01T20:57:31\",\"1970-01-01T01:40:59\",\"1970-01-01T01:40:59\",\"1970-01-01T02:22:39\",\"1970-01-01T02:22:39\",\"1970-01-01T02:22:39\",\"1970-01-01T04:41:42\",\"1970-01-01T04:41:42\",\"1970-01-01T05:23:22\",\"1970-01-01T05:23:22\",\"1970-01-01T05:23:22\",\"1970-01-01T08:12:59\",\"1970-01-01T08:12:59\",\"1970-01-01T08:54:39\",\"1970-01-01T08:54:39\",\"1970-01-01T08:54:39\",\"1970-01-01T11:13:42\",\"1970-01-01T11:13:42\",\"1970-01-01T11:55:22\",\"1970-01-01T11:55:22\",\"1970-01-01T11:55:22\",\"1970-01-01T14:14:25\",\"1970-01-01T14:14:25\",\"1970-01-01T14:56:05\",\"1970-01-01T14:56:05\",\"1970-01-01T14:56:05\",\"1970-01-01T17:15:08\",\"1970-01-01T17:15:08\",\"1970-01-01T17:56:48\",\"1970-01-01T17:56:48\",\"1970-01-01T17:56:48\",\"1970-01-01T20:15:51\",\"1970-01-01T20:15:51\",\"1970-01-01T20:57:31\",\"1970-01-01T20:57:31\",\"1970-01-01T20:57:31\"],\"y\":[\"Trench\",\"Trench\",\"Trench\",\"Trench\",null,\"Trench\",\"Trench\",\"Trench\",\"Trench\",null,\"Trench\",\"Trench\",\"Trench\",\"Trench\",null,\"Trench\",\"Trench\",\"Trench\",\"Trench\",null,\"Trench\",\"Trench\",\"Trench\",\"Trench\",null,\"Trench\",\"Trench\",\"Trench\",\"Trench\",null,\"Trench\",\"Trench\",\"Trench\",\"Trench\",null,\"Cutter T\",\"Cutter T\",\"Cutter T\",\"Cutter T\",null,\"Cutter T\",\"Cutter T\",\"Cutter T\",\"Cutter T\",null,\"Cutter T\",\"Cutter T\",\"Cutter T\",\"Cutter T\",null,\"Cutter T\",\"Cutter T\",\"Cutter T\",\"Cutter T\",null,\"Cutter T\",\"Cutter T\",\"Cutter T\",\"Cutter T\",null,\"Cutter T\",\"Cutter T\",\"Cutter T\",\"Cutter T\",null,\"Cutter T\",\"Cutter T\",\"Cutter T\",\"Cutter T\",null],\"type\":\"scatter\"},{\"connectgaps\":false,\"hoverinfo\":\"y+name\",\"line\":{\"color\":\"rgb(103,224,253)\",\"width\":10},\"mode\":\"lines\",\"name\":\"loading:Carrier B\",\"x\":[\"1970-01-01T01:07:39\",\"1970-01-01T01:07:39\",\"1970-01-01T01:40:59\",\"1970-01-01T01:40:59\",\"1970-01-01T01:40:59\",\"1970-01-01T03:41:47\",\"1970-01-01T03:41:47\",\"1970-01-01T04:15:07\",\"1970-01-01T04:15:07\",\"1970-01-01T04:15:07\",\"1970-01-01T06:15:55\",\"1970-01-01T06:15:55\",\"1970-01-01T06:49:15\",\"1970-01-01T06:49:15\",\"1970-01-01T06:49:15\",\"1970-01-01T08:54:39\",\"1970-01-01T08:54:39\",\"1970-01-01T09:27:59\",\"1970-01-01T09:27:59\",\"1970-01-01T09:27:59\",\"1970-01-01T11:55:22\",\"1970-01-01T11:55:22\",\"1970-01-01T12:28:42\",\"1970-01-01T12:28:42\",\"1970-01-01T12:28:42\",\"1970-01-01T14:56:05\",\"1970-01-01T14:56:05\",\"1970-01-01T15:29:25\",\"1970-01-01T15:29:25\",\"1970-01-01T15:29:25\",\"1970-01-01T17:56:48\",\"1970-01-01T17:56:48\",\"1970-01-01T18:30:08\",\"1970-01-01T18:30:08\",\"1970-01-01T18:30:08\",\"1970-01-01T20:57:31\",\"1970-01-01T20:57:31\",\"1970-01-01T21:30:51\",\"1970-01-01T21:30:51\",\"1970-01-01T21:30:51\",\"1970-01-01T01:07:39\",\"1970-01-01T01:07:39\",\"1970-01-01T01:40:59\",\"1970-01-01T01:40:59\",\"1970-01-01T01:40:59\",\"1970-01-01T03:41:47\",\"1970-01-01T03:41:47\",\"1970-01-01T04:15:07\",\"1970-01-01T04:15:07\",\"1970-01-01T04:15:07\",\"1970-01-01T06:15:55\",\"1970-01-01T06:15:55\",\"1970-01-01T06:49:15\",\"1970-01-01T06:49:15\",\"1970-01-01T06:49:15\",\"1970-01-01T08:54:39\",\"1970-01-01T08:54:39\",\"1970-01-01T09:27:59\",\"1970-01-01T09:27:59\",\"1970-01-01T09:27:59\",\"1970-01-01T11:55:22\",\"1970-01-01T11:55:22\",\"1970-01-01T12:28:42\",\"1970-01-01T12:28:42\",\"1970-01-01T12:28:42\",\"1970-01-01T14:56:05\",\"1970-01-01T14:56:05\",\"1970-01-01T15:29:25\",\"1970-01-01T15:29:25\",\"1970-01-01T15:29:25\",\"1970-01-01T17:56:48\",\"1970-01-01T17:56:48\",\"1970-01-01T18:30:08\",\"1970-01-01T18:30:08\",\"1970-01-01T18:30:08\",\"1970-01-01T20:57:31\",\"1970-01-01T20:57:31\",\"1970-01-01T21:30:51\",\"1970-01-01T21:30:51\",\"1970-01-01T21:30:51\"],\"y\":[\"Trench\",\"Trench\",\"Trench\",\"Trench\",null,\"Trench\",\"Trench\",\"Trench\",\"Trench\",null,\"Trench\",\"Trench\",\"Trench\",\"Trench\",null,\"Trench\",\"Trench\",\"Trench\",\"Trench\",null,\"Trench\",\"Trench\",\"Trench\",\"Trench\",null,\"Trench\",\"Trench\",\"Trench\",\"Trench\",null,\"Trench\",\"Trench\",\"Trench\",\"Trench\",null,\"Trench\",\"Trench\",\"Trench\",\"Trench\",null,\"Cutter T\",\"Cutter T\",\"Cutter T\",\"Cutter T\",null,\"Cutter T\",\"Cutter T\",\"Cutter T\",\"Cutter T\",null,\"Cutter T\",\"Cutter T\",\"Cutter T\",\"Cutter T\",null,\"Cutter T\",\"Cutter T\",\"Cutter T\",\"Cutter T\",null,\"Cutter T\",\"Cutter T\",\"Cutter T\",\"Cutter T\",null,\"Cutter T\",\"Cutter T\",\"Cutter T\",\"Cutter T\",null,\"Cutter T\",\"Cutter T\",\"Cutter T\",\"Cutter T\",null,\"Cutter T\",\"Cutter T\",\"Cutter T\",\"Cutter T\",null],\"type\":\"scatter\"},{\"connectgaps\":false,\"hoverinfo\":\"y+name\",\"line\":{\"color\":\"rgb(131,252,25)\",\"width\":10},\"mode\":\"lines\",\"name\":\"loading:Carrier C\",\"x\":[\"1970-01-01T00:34:19\",\"1970-01-01T00:34:19\",\"1970-01-01T01:07:39\",\"1970-01-01T01:07:39\",\"1970-01-01T01:07:39\",\"1970-01-01T02:50:36\",\"1970-01-01T02:50:36\",\"1970-01-01T03:23:56\",\"1970-01-01T03:23:56\",\"1970-01-01T03:23:56\",\"1970-01-01T05:23:22\",\"1970-01-01T05:23:22\",\"1970-01-01T05:56:42\",\"1970-01-01T05:56:42\",\"1970-01-01T05:56:42\",\"1970-01-01T07:39:39\",\"1970-01-01T07:39:39\",\"1970-01-01T08:12:59\",\"1970-01-01T08:12:59\",\"1970-01-01T08:12:59\",\"1970-01-01T09:55:56\",\"1970-01-01T09:55:56\",\"1970-01-01T10:29:16\",\"1970-01-01T10:29:16\",\"1970-01-01T10:29:16\",\"1970-01-01T12:28:42\",\"1970-01-01T12:28:42\",\"1970-01-01T13:02:02\",\"1970-01-01T13:02:02\",\"1970-01-01T13:02:02\",\"1970-01-01T15:29:25\",\"1970-01-01T15:29:25\",\"1970-01-01T16:02:45\",\"1970-01-01T16:02:45\",\"1970-01-01T16:02:45\",\"1970-01-01T18:30:08\",\"1970-01-01T18:30:08\",\"1970-01-01T19:03:28\",\"1970-01-01T19:03:28\",\"1970-01-01T19:03:28\",\"1970-01-01T21:30:51\",\"1970-01-01T21:30:51\",\"1970-01-01T22:04:11\",\"1970-01-01T22:04:11\",\"1970-01-01T22:04:11\",\"1970-01-01T00:34:19\",\"1970-01-01T00:34:19\",\"1970-01-01T01:07:39\",\"1970-01-01T01:07:39\",\"1970-01-01T01:07:39\",\"1970-01-01T02:50:36\",\"1970-01-01T02:50:36\",\"1970-01-01T03:23:56\",\"1970-01-01T03:23:56\",\"1970-01-01T03:23:56\",\"1970-01-01T05:23:22\",\"1970-01-01T05:23:22\",\"1970-01-01T05:56:42\",\"1970-01-01T05:56:42\",\"1970-01-01T05:56:42\",\"1970-01-01T07:39:39\",\"1970-01-01T07:39:39\",\"1970-01-01T08:12:59\",\"1970-01-01T08:12:59\",\"1970-01-01T08:12:59\",\"1970-01-01T09:55:56\",\"1970-01-01T09:55:56\",\"1970-01-01T10:29:16\",\"1970-01-01T10:29:16\",\"1970-01-01T10:29:16\",\"1970-01-01T12:28:42\",\"1970-01-01T12:28:42\",\"1970-01-01T13:02:02\",\"1970-01-01T13:02:02\",\"1970-01-01T13:02:02\",\"1970-01-01T15:29:25\",\"1970-01-01T15:29:25\",\"1970-01-01T16:02:45\",\"1970-01-01T16:02:45\",\"1970-01-01T16:02:45\",\"1970-01-01T18:30:08\",\"1970-01-01T18:30:08\",\"1970-01-01T19:03:28\",\"1970-01-01T19:03:28\",\"1970-01-01T19:03:28\",\"1970-01-01T21:30:51\",\"1970-01-01T21:30:51\",\"1970-01-01T22:04:11\",\"1970-01-01T22:04:11\",\"1970-01-01T22:04:11\"],\"y\":[\"Trench\",\"Trench\",\"Trench\",\"Trench\",null,\"Trench\",\"Trench\",\"Trench\",\"Trench\",null,\"Trench\",\"Trench\",\"Trench\",\"Trench\",null,\"Trench\",\"Trench\",\"Trench\",\"Trench\",null,\"Trench\",\"Trench\",\"Trench\",\"Trench\",null,\"Trench\",\"Trench\",\"Trench\",\"Trench\",null,\"Trench\",\"Trench\",\"Trench\",\"Trench\",null,\"Trench\",\"Trench\",\"Trench\",\"Trench\",null,\"Trench\",\"Trench\",\"Trench\",\"Trench\",null,\"Cutter T\",\"Cutter T\",\"Cutter T\",\"Cutter T\",null,\"Cutter T\",\"Cutter T\",\"Cutter T\",\"Cutter T\",null,\"Cutter T\",\"Cutter T\",\"Cutter T\",\"Cutter T\",null,\"Cutter T\",\"Cutter T\",\"Cutter T\",\"Cutter T\",null,\"Cutter T\",\"Cutter T\",\"Cutter T\",\"Cutter T\",null,\"Cutter T\",\"Cutter T\",\"Cutter T\",\"Cutter T\",null,\"Cutter T\",\"Cutter T\",\"Cutter T\",\"Cutter T\",null,\"Cutter T\",\"Cutter T\",\"Cutter T\",\"Cutter T\",null,\"Cutter T\",\"Cutter T\",\"Cutter T\",\"Cutter T\",null],\"type\":\"scatter\"}],                        {\"hovermode\":\"closest\",\"legend\":{\"orientation\":\"h\",\"x\":0,\"y\":-0.2},\"template\":{\"data\":{\"barpolar\":[{\"marker\":{\"line\":{\"color\":\"#E5ECF6\",\"width\":0.5},\"pattern\":{\"fillmode\":\"overlay\",\"size\":10,\"solidity\":0.2}},\"type\":\"barpolar\"}],\"bar\":[{\"error_x\":{\"color\":\"#2a3f5f\"},\"error_y\":{\"color\":\"#2a3f5f\"},\"marker\":{\"line\":{\"color\":\"#E5ECF6\",\"width\":0.5},\"pattern\":{\"fillmode\":\"overlay\",\"size\":10,\"solidity\":0.2}},\"type\":\"bar\"}],\"carpet\":[{\"aaxis\":{\"endlinecolor\":\"#2a3f5f\",\"gridcolor\":\"white\",\"linecolor\":\"white\",\"minorgridcolor\":\"white\",\"startlinecolor\":\"#2a3f5f\"},\"baxis\":{\"endlinecolor\":\"#2a3f5f\",\"gridcolor\":\"white\",\"linecolor\":\"white\",\"minorgridcolor\":\"white\",\"startlinecolor\":\"#2a3f5f\"},\"type\":\"carpet\"}],\"choropleth\":[{\"colorbar\":{\"outlinewidth\":0,\"ticks\":\"\"},\"type\":\"choropleth\"}],\"contourcarpet\":[{\"colorbar\":{\"outlinewidth\":0,\"ticks\":\"\"},\"type\":\"contourcarpet\"}],\"contour\":[{\"colorbar\":{\"outlinewidth\":0,\"ticks\":\"\"},\"colorscale\":[[0.0,\"#0d0887\"],[0.1111111111111111,\"#46039f\"],[0.2222222222222222,\"#7201a8\"],[0.3333333333333333,\"#9c179e\"],[0.4444444444444444,\"#bd3786\"],[0.5555555555555556,\"#d8576b\"],[0.6666666666666666,\"#ed7953\"],[0.7777777777777778,\"#fb9f3a\"],[0.8888888888888888,\"#fdca26\"],[1.0,\"#f0f921\"]],\"type\":\"contour\"}],\"heatmapgl\":[{\"colorbar\":{\"outlinewidth\":0,\"ticks\":\"\"},\"colorscale\":[[0.0,\"#0d0887\"],[0.1111111111111111,\"#46039f\"],[0.2222222222222222,\"#7201a8\"],[0.3333333333333333,\"#9c179e\"],[0.4444444444444444,\"#bd3786\"],[0.5555555555555556,\"#d8576b\"],[0.6666666666666666,\"#ed7953\"],[0.7777777777777778,\"#fb9f3a\"],[0.8888888888888888,\"#fdca26\"],[1.0,\"#f0f921\"]],\"type\":\"heatmapgl\"}],\"heatmap\":[{\"colorbar\":{\"outlinewidth\":0,\"ticks\":\"\"},\"colorscale\":[[0.0,\"#0d0887\"],[0.1111111111111111,\"#46039f\"],[0.2222222222222222,\"#7201a8\"],[0.3333333333333333,\"#9c179e\"],[0.4444444444444444,\"#bd3786\"],[0.5555555555555556,\"#d8576b\"],[0.6666666666666666,\"#ed7953\"],[0.7777777777777778,\"#fb9f3a\"],[0.8888888888888888,\"#fdca26\"],[1.0,\"#f0f921\"]],\"type\":\"heatmap\"}],\"histogram2dcontour\":[{\"colorbar\":{\"outlinewidth\":0,\"ticks\":\"\"},\"colorscale\":[[0.0,\"#0d0887\"],[0.1111111111111111,\"#46039f\"],[0.2222222222222222,\"#7201a8\"],[0.3333333333333333,\"#9c179e\"],[0.4444444444444444,\"#bd3786\"],[0.5555555555555556,\"#d8576b\"],[0.6666666666666666,\"#ed7953\"],[0.7777777777777778,\"#fb9f3a\"],[0.8888888888888888,\"#fdca26\"],[1.0,\"#f0f921\"]],\"type\":\"histogram2dcontour\"}],\"histogram2d\":[{\"colorbar\":{\"outlinewidth\":0,\"ticks\":\"\"},\"colorscale\":[[0.0,\"#0d0887\"],[0.1111111111111111,\"#46039f\"],[0.2222222222222222,\"#7201a8\"],[0.3333333333333333,\"#9c179e\"],[0.4444444444444444,\"#bd3786\"],[0.5555555555555556,\"#d8576b\"],[0.6666666666666666,\"#ed7953\"],[0.7777777777777778,\"#fb9f3a\"],[0.8888888888888888,\"#fdca26\"],[1.0,\"#f0f921\"]],\"type\":\"histogram2d\"}],\"histogram\":[{\"marker\":{\"pattern\":{\"fillmode\":\"overlay\",\"size\":10,\"solidity\":0.2}},\"type\":\"histogram\"}],\"mesh3d\":[{\"colorbar\":{\"outlinewidth\":0,\"ticks\":\"\"},\"type\":\"mesh3d\"}],\"parcoords\":[{\"line\":{\"colorbar\":{\"outlinewidth\":0,\"ticks\":\"\"}},\"type\":\"parcoords\"}],\"pie\":[{\"automargin\":true,\"type\":\"pie\"}],\"scatter3d\":[{\"line\":{\"colorbar\":{\"outlinewidth\":0,\"ticks\":\"\"}},\"marker\":{\"colorbar\":{\"outlinewidth\":0,\"ticks\":\"\"}},\"type\":\"scatter3d\"}],\"scattercarpet\":[{\"marker\":{\"colorbar\":{\"outlinewidth\":0,\"ticks\":\"\"}},\"type\":\"scattercarpet\"}],\"scattergeo\":[{\"marker\":{\"colorbar\":{\"outlinewidth\":0,\"ticks\":\"\"}},\"type\":\"scattergeo\"}],\"scattergl\":[{\"marker\":{\"colorbar\":{\"outlinewidth\":0,\"ticks\":\"\"}},\"type\":\"scattergl\"}],\"scattermapbox\":[{\"marker\":{\"colorbar\":{\"outlinewidth\":0,\"ticks\":\"\"}},\"type\":\"scattermapbox\"}],\"scatterpolargl\":[{\"marker\":{\"colorbar\":{\"outlinewidth\":0,\"ticks\":\"\"}},\"type\":\"scatterpolargl\"}],\"scatterpolar\":[{\"marker\":{\"colorbar\":{\"outlinewidth\":0,\"ticks\":\"\"}},\"type\":\"scatterpolar\"}],\"scatter\":[{\"fillpattern\":{\"fillmode\":\"overlay\",\"size\":10,\"solidity\":0.2},\"type\":\"scatter\"}],\"scatterternary\":[{\"marker\":{\"colorbar\":{\"outlinewidth\":0,\"ticks\":\"\"}},\"type\":\"scatterternary\"}],\"surface\":[{\"colorbar\":{\"outlinewidth\":0,\"ticks\":\"\"},\"colorscale\":[[0.0,\"#0d0887\"],[0.1111111111111111,\"#46039f\"],[0.2222222222222222,\"#7201a8\"],[0.3333333333333333,\"#9c179e\"],[0.4444444444444444,\"#bd3786\"],[0.5555555555555556,\"#d8576b\"],[0.6666666666666666,\"#ed7953\"],[0.7777777777777778,\"#fb9f3a\"],[0.8888888888888888,\"#fdca26\"],[1.0,\"#f0f921\"]],\"type\":\"surface\"}],\"table\":[{\"cells\":{\"fill\":{\"color\":\"#EBF0F8\"},\"line\":{\"color\":\"white\"}},\"header\":{\"fill\":{\"color\":\"#C8D4E3\"},\"line\":{\"color\":\"white\"}},\"type\":\"table\"}]},\"layout\":{\"annotationdefaults\":{\"arrowcolor\":\"#2a3f5f\",\"arrowhead\":0,\"arrowwidth\":1},\"autotypenumbers\":\"strict\",\"coloraxis\":{\"colorbar\":{\"outlinewidth\":0,\"ticks\":\"\"}},\"colorscale\":{\"diverging\":[[0,\"#8e0152\"],[0.1,\"#c51b7d\"],[0.2,\"#de77ae\"],[0.3,\"#f1b6da\"],[0.4,\"#fde0ef\"],[0.5,\"#f7f7f7\"],[0.6,\"#e6f5d0\"],[0.7,\"#b8e186\"],[0.8,\"#7fbc41\"],[0.9,\"#4d9221\"],[1,\"#276419\"]],\"sequential\":[[0.0,\"#0d0887\"],[0.1111111111111111,\"#46039f\"],[0.2222222222222222,\"#7201a8\"],[0.3333333333333333,\"#9c179e\"],[0.4444444444444444,\"#bd3786\"],[0.5555555555555556,\"#d8576b\"],[0.6666666666666666,\"#ed7953\"],[0.7777777777777778,\"#fb9f3a\"],[0.8888888888888888,\"#fdca26\"],[1.0,\"#f0f921\"]],\"sequentialminus\":[[0.0,\"#0d0887\"],[0.1111111111111111,\"#46039f\"],[0.2222222222222222,\"#7201a8\"],[0.3333333333333333,\"#9c179e\"],[0.4444444444444444,\"#bd3786\"],[0.5555555555555556,\"#d8576b\"],[0.6666666666666666,\"#ed7953\"],[0.7777777777777778,\"#fb9f3a\"],[0.8888888888888888,\"#fdca26\"],[1.0,\"#f0f921\"]]},\"colorway\":[\"#636efa\",\"#EF553B\",\"#00cc96\",\"#ab63fa\",\"#FFA15A\",\"#19d3f3\",\"#FF6692\",\"#B6E880\",\"#FF97FF\",\"#FECB52\"],\"font\":{\"color\":\"#2a3f5f\"},\"geo\":{\"bgcolor\":\"white\",\"lakecolor\":\"white\",\"landcolor\":\"#E5ECF6\",\"showlakes\":true,\"showland\":true,\"subunitcolor\":\"white\"},\"hoverlabel\":{\"align\":\"left\"},\"hovermode\":\"closest\",\"mapbox\":{\"style\":\"light\"},\"paper_bgcolor\":\"white\",\"plot_bgcolor\":\"#E5ECF6\",\"polar\":{\"angularaxis\":{\"gridcolor\":\"white\",\"linecolor\":\"white\",\"ticks\":\"\"},\"bgcolor\":\"#E5ECF6\",\"radialaxis\":{\"gridcolor\":\"white\",\"linecolor\":\"white\",\"ticks\":\"\"}},\"scene\":{\"xaxis\":{\"backgroundcolor\":\"#E5ECF6\",\"gridcolor\":\"white\",\"gridwidth\":2,\"linecolor\":\"white\",\"showbackground\":true,\"ticks\":\"\",\"zerolinecolor\":\"white\"},\"yaxis\":{\"backgroundcolor\":\"#E5ECF6\",\"gridcolor\":\"white\",\"gridwidth\":2,\"linecolor\":\"white\",\"showbackground\":true,\"ticks\":\"\",\"zerolinecolor\":\"white\"},\"zaxis\":{\"backgroundcolor\":\"#E5ECF6\",\"gridcolor\":\"white\",\"gridwidth\":2,\"linecolor\":\"white\",\"showbackground\":true,\"ticks\":\"\",\"zerolinecolor\":\"white\"}},\"shapedefaults\":{\"line\":{\"color\":\"#2a3f5f\"}},\"ternary\":{\"aaxis\":{\"gridcolor\":\"white\",\"linecolor\":\"white\",\"ticks\":\"\"},\"baxis\":{\"gridcolor\":\"white\",\"linecolor\":\"white\",\"ticks\":\"\"},\"bgcolor\":\"#E5ECF6\",\"caxis\":{\"gridcolor\":\"white\",\"linecolor\":\"white\",\"ticks\":\"\"}},\"title\":{\"x\":0.05},\"xaxis\":{\"automargin\":true,\"gridcolor\":\"white\",\"linecolor\":\"white\",\"ticks\":\"\",\"title\":{\"standoff\":15},\"zerolinecolor\":\"white\",\"zerolinewidth\":2},\"yaxis\":{\"automargin\":true,\"gridcolor\":\"white\",\"linecolor\":\"white\",\"ticks\":\"\",\"title\":{\"standoff\":15},\"zerolinecolor\":\"white\",\"zerolinewidth\":2}}},\"title\":{\"text\":\"GANTT Chart\"},\"xaxis\":{\"range\":[\"1970-01-01T00:34:19\",\"1970-01-01T23:12:49\"],\"title\":{\"font\":{\"color\":\"#7f7f7f\",\"family\":\"Courier New, monospace\",\"size\":18},\"text\":\"Time\"}},\"yaxis\":{\"title\":{\"font\":{\"color\":\"#7f7f7f\",\"family\":\"Courier New, monospace\",\"size\":18},\"text\":\"Activities\"}}},                        {\"responsive\": true}                    ).then(function(){\n",
       "                            \n",
       "var gd = document.getElementById('c499ca05-d01a-4cc6-a0c6-51467f25ac9b');\n",
       "var x = new MutationObserver(function (mutations, observer) {{\n",
       "        var display = window.getComputedStyle(gd).display;\n",
       "        if (!display || display === 'none') {{\n",
       "            console.log([gd, 'removed!']);\n",
       "            Plotly.purge(gd);\n",
       "            observer.disconnect();\n",
       "        }}\n",
       "}});\n",
       "\n",
       "// Listen for the removal of the full notebook cells\n",
       "var notebookContainer = gd.closest('#notebook-container');\n",
       "if (notebookContainer) {{\n",
       "    x.observe(notebookContainer, {childList: true});\n",
       "}}\n",
       "\n",
       "// Listen for the clearing of the current output cell\n",
       "var outputEl = gd.closest('.output');\n",
       "if (outputEl) {{\n",
       "    x.observe(outputEl, {childList: true});\n",
       "}}\n",
       "\n",
       "                        })                };                });            </script>        </div>"
      ]
     },
     "metadata": {},
     "output_type": "display_data"
    }
   ],
   "source": [
    "fig = get_gantt_chart([from_site, to_site, cutter], id_map=activities)"
   ]
  },
  {
   "cell_type": "markdown",
   "id": "9d68aee1",
   "metadata": {},
   "source": [
    "Plot only activities whose namespace (first letters) matches load*"
   ]
  },
  {
   "cell_type": "code",
   "execution_count": 8,
   "id": "6141ac61",
   "metadata": {},
   "outputs": [
    {
     "data": {
      "text/html": [
       "        <script type=\"text/javascript\">\n",
       "        window.PlotlyConfig = {MathJaxConfig: 'local'};\n",
       "        if (window.MathJax && window.MathJax.Hub && window.MathJax.Hub.Config) {window.MathJax.Hub.Config({SVG: {font: \"STIX-Web\"}});}\n",
       "        if (typeof require !== 'undefined') {\n",
       "        require.undef(\"plotly\");\n",
       "        requirejs.config({\n",
       "            paths: {\n",
       "                'plotly': ['https://cdn.plot.ly/plotly-2.18.2.min']\n",
       "            }\n",
       "        });\n",
       "        require(['plotly'], function(Plotly) {\n",
       "            window._Plotly = Plotly;\n",
       "        });\n",
       "        }\n",
       "        </script>\n",
       "        "
      ]
     },
     "metadata": {},
     "output_type": "display_data"
    },
    {
     "data": {
      "application/vnd.plotly.v1+json": {
       "config": {
        "linkText": "Export to plot.ly",
        "plotlyServerURL": "https://plot.ly",
        "showLink": false
       },
       "data": [
        {
         "connectgaps": false,
         "hoverinfo": "y+name",
         "line": {
          "color": "rgb(113,150,97)",
          "width": 10
         },
         "mode": "lines",
         "name": "loading:Carrier A",
         "type": "scatter",
         "x": [
          "1970-01-01T01:40:59",
          "1970-01-01T01:40:59",
          "1970-01-01T02:22:39",
          "1970-01-01T02:22:39",
          "1970-01-01T02:22:39",
          "1970-01-01T04:41:42",
          "1970-01-01T04:41:42",
          "1970-01-01T05:23:22",
          "1970-01-01T05:23:22",
          "1970-01-01T05:23:22",
          "1970-01-01T08:12:59",
          "1970-01-01T08:12:59",
          "1970-01-01T08:54:39",
          "1970-01-01T08:54:39",
          "1970-01-01T08:54:39",
          "1970-01-01T11:13:42",
          "1970-01-01T11:13:42",
          "1970-01-01T11:55:22",
          "1970-01-01T11:55:22",
          "1970-01-01T11:55:22",
          "1970-01-01T14:14:25",
          "1970-01-01T14:14:25",
          "1970-01-01T14:56:05",
          "1970-01-01T14:56:05",
          "1970-01-01T14:56:05",
          "1970-01-01T17:15:08",
          "1970-01-01T17:15:08",
          "1970-01-01T17:56:48",
          "1970-01-01T17:56:48",
          "1970-01-01T17:56:48",
          "1970-01-01T20:15:51",
          "1970-01-01T20:15:51",
          "1970-01-01T20:57:31",
          "1970-01-01T20:57:31",
          "1970-01-01T20:57:31"
         ],
         "y": [
          "loading:Carrier A",
          "loading:Carrier A",
          "loading:Carrier A",
          "loading:Carrier A",
          null,
          "loading:Carrier A",
          "loading:Carrier A",
          "loading:Carrier A",
          "loading:Carrier A",
          null,
          "loading:Carrier A",
          "loading:Carrier A",
          "loading:Carrier A",
          "loading:Carrier A",
          null,
          "loading:Carrier A",
          "loading:Carrier A",
          "loading:Carrier A",
          "loading:Carrier A",
          null,
          "loading:Carrier A",
          "loading:Carrier A",
          "loading:Carrier A",
          "loading:Carrier A",
          null,
          "loading:Carrier A",
          "loading:Carrier A",
          "loading:Carrier A",
          "loading:Carrier A",
          null,
          "loading:Carrier A",
          "loading:Carrier A",
          "loading:Carrier A",
          "loading:Carrier A",
          null
         ]
        },
        {
         "connectgaps": false,
         "hoverinfo": "y+name",
         "line": {
          "color": "rgb(198,235,182)",
          "width": 10
         },
         "mode": "lines",
         "name": "loading:Carrier B",
         "type": "scatter",
         "x": [
          "1970-01-01T01:07:39",
          "1970-01-01T01:07:39",
          "1970-01-01T01:40:59",
          "1970-01-01T01:40:59",
          "1970-01-01T01:40:59",
          "1970-01-01T03:41:47",
          "1970-01-01T03:41:47",
          "1970-01-01T04:15:07",
          "1970-01-01T04:15:07",
          "1970-01-01T04:15:07",
          "1970-01-01T06:15:55",
          "1970-01-01T06:15:55",
          "1970-01-01T06:49:15",
          "1970-01-01T06:49:15",
          "1970-01-01T06:49:15",
          "1970-01-01T08:54:39",
          "1970-01-01T08:54:39",
          "1970-01-01T09:27:59",
          "1970-01-01T09:27:59",
          "1970-01-01T09:27:59",
          "1970-01-01T11:55:22",
          "1970-01-01T11:55:22",
          "1970-01-01T12:28:42",
          "1970-01-01T12:28:42",
          "1970-01-01T12:28:42",
          "1970-01-01T14:56:05",
          "1970-01-01T14:56:05",
          "1970-01-01T15:29:25",
          "1970-01-01T15:29:25",
          "1970-01-01T15:29:25",
          "1970-01-01T17:56:48",
          "1970-01-01T17:56:48",
          "1970-01-01T18:30:08",
          "1970-01-01T18:30:08",
          "1970-01-01T18:30:08",
          "1970-01-01T20:57:31",
          "1970-01-01T20:57:31",
          "1970-01-01T21:30:51",
          "1970-01-01T21:30:51",
          "1970-01-01T21:30:51"
         ],
         "y": [
          "loading:Carrier B",
          "loading:Carrier B",
          "loading:Carrier B",
          "loading:Carrier B",
          null,
          "loading:Carrier B",
          "loading:Carrier B",
          "loading:Carrier B",
          "loading:Carrier B",
          null,
          "loading:Carrier B",
          "loading:Carrier B",
          "loading:Carrier B",
          "loading:Carrier B",
          null,
          "loading:Carrier B",
          "loading:Carrier B",
          "loading:Carrier B",
          "loading:Carrier B",
          null,
          "loading:Carrier B",
          "loading:Carrier B",
          "loading:Carrier B",
          "loading:Carrier B",
          null,
          "loading:Carrier B",
          "loading:Carrier B",
          "loading:Carrier B",
          "loading:Carrier B",
          null,
          "loading:Carrier B",
          "loading:Carrier B",
          "loading:Carrier B",
          "loading:Carrier B",
          null,
          "loading:Carrier B",
          "loading:Carrier B",
          "loading:Carrier B",
          "loading:Carrier B",
          null
         ]
        },
        {
         "connectgaps": false,
         "hoverinfo": "y+name",
         "line": {
          "color": "rgb(27,64,11)",
          "width": 10
         },
         "mode": "lines",
         "name": "loading:Carrier C",
         "type": "scatter",
         "x": [
          "1970-01-01T00:34:19",
          "1970-01-01T00:34:19",
          "1970-01-01T01:07:39",
          "1970-01-01T01:07:39",
          "1970-01-01T01:07:39",
          "1970-01-01T02:50:36",
          "1970-01-01T02:50:36",
          "1970-01-01T03:23:56",
          "1970-01-01T03:23:56",
          "1970-01-01T03:23:56",
          "1970-01-01T05:23:22",
          "1970-01-01T05:23:22",
          "1970-01-01T05:56:42",
          "1970-01-01T05:56:42",
          "1970-01-01T05:56:42",
          "1970-01-01T07:39:39",
          "1970-01-01T07:39:39",
          "1970-01-01T08:12:59",
          "1970-01-01T08:12:59",
          "1970-01-01T08:12:59",
          "1970-01-01T09:55:56",
          "1970-01-01T09:55:56",
          "1970-01-01T10:29:16",
          "1970-01-01T10:29:16",
          "1970-01-01T10:29:16",
          "1970-01-01T12:28:42",
          "1970-01-01T12:28:42",
          "1970-01-01T13:02:02",
          "1970-01-01T13:02:02",
          "1970-01-01T13:02:02",
          "1970-01-01T15:29:25",
          "1970-01-01T15:29:25",
          "1970-01-01T16:02:45",
          "1970-01-01T16:02:45",
          "1970-01-01T16:02:45",
          "1970-01-01T18:30:08",
          "1970-01-01T18:30:08",
          "1970-01-01T19:03:28",
          "1970-01-01T19:03:28",
          "1970-01-01T19:03:28",
          "1970-01-01T21:30:51",
          "1970-01-01T21:30:51",
          "1970-01-01T22:04:11",
          "1970-01-01T22:04:11",
          "1970-01-01T22:04:11"
         ],
         "y": [
          "loading:Carrier C",
          "loading:Carrier C",
          "loading:Carrier C",
          "loading:Carrier C",
          null,
          "loading:Carrier C",
          "loading:Carrier C",
          "loading:Carrier C",
          "loading:Carrier C",
          null,
          "loading:Carrier C",
          "loading:Carrier C",
          "loading:Carrier C",
          "loading:Carrier C",
          null,
          "loading:Carrier C",
          "loading:Carrier C",
          "loading:Carrier C",
          "loading:Carrier C",
          null,
          "loading:Carrier C",
          "loading:Carrier C",
          "loading:Carrier C",
          "loading:Carrier C",
          null,
          "loading:Carrier C",
          "loading:Carrier C",
          "loading:Carrier C",
          "loading:Carrier C",
          null,
          "loading:Carrier C",
          "loading:Carrier C",
          "loading:Carrier C",
          "loading:Carrier C",
          null,
          "loading:Carrier C",
          "loading:Carrier C",
          "loading:Carrier C",
          "loading:Carrier C",
          null,
          "loading:Carrier C",
          "loading:Carrier C",
          "loading:Carrier C",
          "loading:Carrier C",
          null
         ]
        }
       ],
       "layout": {
        "hovermode": "closest",
        "legend": {
         "orientation": "h",
         "x": 0,
         "y": -0.2
        },
        "template": {
         "data": {
          "bar": [
           {
            "error_x": {
             "color": "#2a3f5f"
            },
            "error_y": {
             "color": "#2a3f5f"
            },
            "marker": {
             "line": {
              "color": "#E5ECF6",
              "width": 0.5
             },
             "pattern": {
              "fillmode": "overlay",
              "size": 10,
              "solidity": 0.2
             }
            },
            "type": "bar"
           }
          ],
          "barpolar": [
           {
            "marker": {
             "line": {
              "color": "#E5ECF6",
              "width": 0.5
             },
             "pattern": {
              "fillmode": "overlay",
              "size": 10,
              "solidity": 0.2
             }
            },
            "type": "barpolar"
           }
          ],
          "carpet": [
           {
            "aaxis": {
             "endlinecolor": "#2a3f5f",
             "gridcolor": "white",
             "linecolor": "white",
             "minorgridcolor": "white",
             "startlinecolor": "#2a3f5f"
            },
            "baxis": {
             "endlinecolor": "#2a3f5f",
             "gridcolor": "white",
             "linecolor": "white",
             "minorgridcolor": "white",
             "startlinecolor": "#2a3f5f"
            },
            "type": "carpet"
           }
          ],
          "choropleth": [
           {
            "colorbar": {
             "outlinewidth": 0,
             "ticks": ""
            },
            "type": "choropleth"
           }
          ],
          "contour": [
           {
            "colorbar": {
             "outlinewidth": 0,
             "ticks": ""
            },
            "colorscale": [
             [
              0,
              "#0d0887"
             ],
             [
              0.1111111111111111,
              "#46039f"
             ],
             [
              0.2222222222222222,
              "#7201a8"
             ],
             [
              0.3333333333333333,
              "#9c179e"
             ],
             [
              0.4444444444444444,
              "#bd3786"
             ],
             [
              0.5555555555555556,
              "#d8576b"
             ],
             [
              0.6666666666666666,
              "#ed7953"
             ],
             [
              0.7777777777777778,
              "#fb9f3a"
             ],
             [
              0.8888888888888888,
              "#fdca26"
             ],
             [
              1,
              "#f0f921"
             ]
            ],
            "type": "contour"
           }
          ],
          "contourcarpet": [
           {
            "colorbar": {
             "outlinewidth": 0,
             "ticks": ""
            },
            "type": "contourcarpet"
           }
          ],
          "heatmap": [
           {
            "colorbar": {
             "outlinewidth": 0,
             "ticks": ""
            },
            "colorscale": [
             [
              0,
              "#0d0887"
             ],
             [
              0.1111111111111111,
              "#46039f"
             ],
             [
              0.2222222222222222,
              "#7201a8"
             ],
             [
              0.3333333333333333,
              "#9c179e"
             ],
             [
              0.4444444444444444,
              "#bd3786"
             ],
             [
              0.5555555555555556,
              "#d8576b"
             ],
             [
              0.6666666666666666,
              "#ed7953"
             ],
             [
              0.7777777777777778,
              "#fb9f3a"
             ],
             [
              0.8888888888888888,
              "#fdca26"
             ],
             [
              1,
              "#f0f921"
             ]
            ],
            "type": "heatmap"
           }
          ],
          "heatmapgl": [
           {
            "colorbar": {
             "outlinewidth": 0,
             "ticks": ""
            },
            "colorscale": [
             [
              0,
              "#0d0887"
             ],
             [
              0.1111111111111111,
              "#46039f"
             ],
             [
              0.2222222222222222,
              "#7201a8"
             ],
             [
              0.3333333333333333,
              "#9c179e"
             ],
             [
              0.4444444444444444,
              "#bd3786"
             ],
             [
              0.5555555555555556,
              "#d8576b"
             ],
             [
              0.6666666666666666,
              "#ed7953"
             ],
             [
              0.7777777777777778,
              "#fb9f3a"
             ],
             [
              0.8888888888888888,
              "#fdca26"
             ],
             [
              1,
              "#f0f921"
             ]
            ],
            "type": "heatmapgl"
           }
          ],
          "histogram": [
           {
            "marker": {
             "pattern": {
              "fillmode": "overlay",
              "size": 10,
              "solidity": 0.2
             }
            },
            "type": "histogram"
           }
          ],
          "histogram2d": [
           {
            "colorbar": {
             "outlinewidth": 0,
             "ticks": ""
            },
            "colorscale": [
             [
              0,
              "#0d0887"
             ],
             [
              0.1111111111111111,
              "#46039f"
             ],
             [
              0.2222222222222222,
              "#7201a8"
             ],
             [
              0.3333333333333333,
              "#9c179e"
             ],
             [
              0.4444444444444444,
              "#bd3786"
             ],
             [
              0.5555555555555556,
              "#d8576b"
             ],
             [
              0.6666666666666666,
              "#ed7953"
             ],
             [
              0.7777777777777778,
              "#fb9f3a"
             ],
             [
              0.8888888888888888,
              "#fdca26"
             ],
             [
              1,
              "#f0f921"
             ]
            ],
            "type": "histogram2d"
           }
          ],
          "histogram2dcontour": [
           {
            "colorbar": {
             "outlinewidth": 0,
             "ticks": ""
            },
            "colorscale": [
             [
              0,
              "#0d0887"
             ],
             [
              0.1111111111111111,
              "#46039f"
             ],
             [
              0.2222222222222222,
              "#7201a8"
             ],
             [
              0.3333333333333333,
              "#9c179e"
             ],
             [
              0.4444444444444444,
              "#bd3786"
             ],
             [
              0.5555555555555556,
              "#d8576b"
             ],
             [
              0.6666666666666666,
              "#ed7953"
             ],
             [
              0.7777777777777778,
              "#fb9f3a"
             ],
             [
              0.8888888888888888,
              "#fdca26"
             ],
             [
              1,
              "#f0f921"
             ]
            ],
            "type": "histogram2dcontour"
           }
          ],
          "mesh3d": [
           {
            "colorbar": {
             "outlinewidth": 0,
             "ticks": ""
            },
            "type": "mesh3d"
           }
          ],
          "parcoords": [
           {
            "line": {
             "colorbar": {
              "outlinewidth": 0,
              "ticks": ""
             }
            },
            "type": "parcoords"
           }
          ],
          "pie": [
           {
            "automargin": true,
            "type": "pie"
           }
          ],
          "scatter": [
           {
            "fillpattern": {
             "fillmode": "overlay",
             "size": 10,
             "solidity": 0.2
            },
            "type": "scatter"
           }
          ],
          "scatter3d": [
           {
            "line": {
             "colorbar": {
              "outlinewidth": 0,
              "ticks": ""
             }
            },
            "marker": {
             "colorbar": {
              "outlinewidth": 0,
              "ticks": ""
             }
            },
            "type": "scatter3d"
           }
          ],
          "scattercarpet": [
           {
            "marker": {
             "colorbar": {
              "outlinewidth": 0,
              "ticks": ""
             }
            },
            "type": "scattercarpet"
           }
          ],
          "scattergeo": [
           {
            "marker": {
             "colorbar": {
              "outlinewidth": 0,
              "ticks": ""
             }
            },
            "type": "scattergeo"
           }
          ],
          "scattergl": [
           {
            "marker": {
             "colorbar": {
              "outlinewidth": 0,
              "ticks": ""
             }
            },
            "type": "scattergl"
           }
          ],
          "scattermapbox": [
           {
            "marker": {
             "colorbar": {
              "outlinewidth": 0,
              "ticks": ""
             }
            },
            "type": "scattermapbox"
           }
          ],
          "scatterpolar": [
           {
            "marker": {
             "colorbar": {
              "outlinewidth": 0,
              "ticks": ""
             }
            },
            "type": "scatterpolar"
           }
          ],
          "scatterpolargl": [
           {
            "marker": {
             "colorbar": {
              "outlinewidth": 0,
              "ticks": ""
             }
            },
            "type": "scatterpolargl"
           }
          ],
          "scatterternary": [
           {
            "marker": {
             "colorbar": {
              "outlinewidth": 0,
              "ticks": ""
             }
            },
            "type": "scatterternary"
           }
          ],
          "surface": [
           {
            "colorbar": {
             "outlinewidth": 0,
             "ticks": ""
            },
            "colorscale": [
             [
              0,
              "#0d0887"
             ],
             [
              0.1111111111111111,
              "#46039f"
             ],
             [
              0.2222222222222222,
              "#7201a8"
             ],
             [
              0.3333333333333333,
              "#9c179e"
             ],
             [
              0.4444444444444444,
              "#bd3786"
             ],
             [
              0.5555555555555556,
              "#d8576b"
             ],
             [
              0.6666666666666666,
              "#ed7953"
             ],
             [
              0.7777777777777778,
              "#fb9f3a"
             ],
             [
              0.8888888888888888,
              "#fdca26"
             ],
             [
              1,
              "#f0f921"
             ]
            ],
            "type": "surface"
           }
          ],
          "table": [
           {
            "cells": {
             "fill": {
              "color": "#EBF0F8"
             },
             "line": {
              "color": "white"
             }
            },
            "header": {
             "fill": {
              "color": "#C8D4E3"
             },
             "line": {
              "color": "white"
             }
            },
            "type": "table"
           }
          ]
         },
         "layout": {
          "annotationdefaults": {
           "arrowcolor": "#2a3f5f",
           "arrowhead": 0,
           "arrowwidth": 1
          },
          "autotypenumbers": "strict",
          "coloraxis": {
           "colorbar": {
            "outlinewidth": 0,
            "ticks": ""
           }
          },
          "colorscale": {
           "diverging": [
            [
             0,
             "#8e0152"
            ],
            [
             0.1,
             "#c51b7d"
            ],
            [
             0.2,
             "#de77ae"
            ],
            [
             0.3,
             "#f1b6da"
            ],
            [
             0.4,
             "#fde0ef"
            ],
            [
             0.5,
             "#f7f7f7"
            ],
            [
             0.6,
             "#e6f5d0"
            ],
            [
             0.7,
             "#b8e186"
            ],
            [
             0.8,
             "#7fbc41"
            ],
            [
             0.9,
             "#4d9221"
            ],
            [
             1,
             "#276419"
            ]
           ],
           "sequential": [
            [
             0,
             "#0d0887"
            ],
            [
             0.1111111111111111,
             "#46039f"
            ],
            [
             0.2222222222222222,
             "#7201a8"
            ],
            [
             0.3333333333333333,
             "#9c179e"
            ],
            [
             0.4444444444444444,
             "#bd3786"
            ],
            [
             0.5555555555555556,
             "#d8576b"
            ],
            [
             0.6666666666666666,
             "#ed7953"
            ],
            [
             0.7777777777777778,
             "#fb9f3a"
            ],
            [
             0.8888888888888888,
             "#fdca26"
            ],
            [
             1,
             "#f0f921"
            ]
           ],
           "sequentialminus": [
            [
             0,
             "#0d0887"
            ],
            [
             0.1111111111111111,
             "#46039f"
            ],
            [
             0.2222222222222222,
             "#7201a8"
            ],
            [
             0.3333333333333333,
             "#9c179e"
            ],
            [
             0.4444444444444444,
             "#bd3786"
            ],
            [
             0.5555555555555556,
             "#d8576b"
            ],
            [
             0.6666666666666666,
             "#ed7953"
            ],
            [
             0.7777777777777778,
             "#fb9f3a"
            ],
            [
             0.8888888888888888,
             "#fdca26"
            ],
            [
             1,
             "#f0f921"
            ]
           ]
          },
          "colorway": [
           "#636efa",
           "#EF553B",
           "#00cc96",
           "#ab63fa",
           "#FFA15A",
           "#19d3f3",
           "#FF6692",
           "#B6E880",
           "#FF97FF",
           "#FECB52"
          ],
          "font": {
           "color": "#2a3f5f"
          },
          "geo": {
           "bgcolor": "white",
           "lakecolor": "white",
           "landcolor": "#E5ECF6",
           "showlakes": true,
           "showland": true,
           "subunitcolor": "white"
          },
          "hoverlabel": {
           "align": "left"
          },
          "hovermode": "closest",
          "mapbox": {
           "style": "light"
          },
          "paper_bgcolor": "white",
          "plot_bgcolor": "#E5ECF6",
          "polar": {
           "angularaxis": {
            "gridcolor": "white",
            "linecolor": "white",
            "ticks": ""
           },
           "bgcolor": "#E5ECF6",
           "radialaxis": {
            "gridcolor": "white",
            "linecolor": "white",
            "ticks": ""
           }
          },
          "scene": {
           "xaxis": {
            "backgroundcolor": "#E5ECF6",
            "gridcolor": "white",
            "gridwidth": 2,
            "linecolor": "white",
            "showbackground": true,
            "ticks": "",
            "zerolinecolor": "white"
           },
           "yaxis": {
            "backgroundcolor": "#E5ECF6",
            "gridcolor": "white",
            "gridwidth": 2,
            "linecolor": "white",
            "showbackground": true,
            "ticks": "",
            "zerolinecolor": "white"
           },
           "zaxis": {
            "backgroundcolor": "#E5ECF6",
            "gridcolor": "white",
            "gridwidth": 2,
            "linecolor": "white",
            "showbackground": true,
            "ticks": "",
            "zerolinecolor": "white"
           }
          },
          "shapedefaults": {
           "line": {
            "color": "#2a3f5f"
           }
          },
          "ternary": {
           "aaxis": {
            "gridcolor": "white",
            "linecolor": "white",
            "ticks": ""
           },
           "baxis": {
            "gridcolor": "white",
            "linecolor": "white",
            "ticks": ""
           },
           "bgcolor": "#E5ECF6",
           "caxis": {
            "gridcolor": "white",
            "linecolor": "white",
            "ticks": ""
           }
          },
          "title": {
           "x": 0.05
          },
          "xaxis": {
           "automargin": true,
           "gridcolor": "white",
           "linecolor": "white",
           "ticks": "",
           "title": {
            "standoff": 15
           },
           "zerolinecolor": "white",
           "zerolinewidth": 2
          },
          "yaxis": {
           "automargin": true,
           "gridcolor": "white",
           "linecolor": "white",
           "ticks": "",
           "title": {
            "standoff": 15
           },
           "zerolinecolor": "white",
           "zerolinewidth": 2
          }
         }
        },
        "title": {
         "text": "GANTT Chart"
        },
        "xaxis": {
         "range": [
          "1970-01-01T00:34:19",
          "1970-01-01T22:04:11"
         ],
         "title": {
          "font": {
           "color": "#7f7f7f",
           "family": "Courier New, monospace",
           "size": 18
          },
          "text": "Time"
         }
        },
        "yaxis": {
         "title": {
          "font": {
           "color": "#7f7f7f",
           "family": "Courier New, monospace",
           "size": 18
          },
          "text": "Activities"
         }
        }
       }
      },
      "text/html": [
       "<div>                            <div id=\"ec40a1cf-7709-45ab-a791-8d8bdc6f24fb\" class=\"plotly-graph-div\" style=\"height:525px; width:100%;\"></div>            <script type=\"text/javascript\">                require([\"plotly\"], function(Plotly) {                    window.PLOTLYENV=window.PLOTLYENV || {};                                    if (document.getElementById(\"ec40a1cf-7709-45ab-a791-8d8bdc6f24fb\")) {                    Plotly.newPlot(                        \"ec40a1cf-7709-45ab-a791-8d8bdc6f24fb\",                        [{\"connectgaps\":false,\"hoverinfo\":\"y+name\",\"line\":{\"color\":\"rgb(113,150,97)\",\"width\":10},\"mode\":\"lines\",\"name\":\"loading:Carrier A\",\"x\":[\"1970-01-01T01:40:59\",\"1970-01-01T01:40:59\",\"1970-01-01T02:22:39\",\"1970-01-01T02:22:39\",\"1970-01-01T02:22:39\",\"1970-01-01T04:41:42\",\"1970-01-01T04:41:42\",\"1970-01-01T05:23:22\",\"1970-01-01T05:23:22\",\"1970-01-01T05:23:22\",\"1970-01-01T08:12:59\",\"1970-01-01T08:12:59\",\"1970-01-01T08:54:39\",\"1970-01-01T08:54:39\",\"1970-01-01T08:54:39\",\"1970-01-01T11:13:42\",\"1970-01-01T11:13:42\",\"1970-01-01T11:55:22\",\"1970-01-01T11:55:22\",\"1970-01-01T11:55:22\",\"1970-01-01T14:14:25\",\"1970-01-01T14:14:25\",\"1970-01-01T14:56:05\",\"1970-01-01T14:56:05\",\"1970-01-01T14:56:05\",\"1970-01-01T17:15:08\",\"1970-01-01T17:15:08\",\"1970-01-01T17:56:48\",\"1970-01-01T17:56:48\",\"1970-01-01T17:56:48\",\"1970-01-01T20:15:51\",\"1970-01-01T20:15:51\",\"1970-01-01T20:57:31\",\"1970-01-01T20:57:31\",\"1970-01-01T20:57:31\"],\"y\":[\"loading:Carrier A\",\"loading:Carrier A\",\"loading:Carrier A\",\"loading:Carrier A\",null,\"loading:Carrier A\",\"loading:Carrier A\",\"loading:Carrier A\",\"loading:Carrier A\",null,\"loading:Carrier A\",\"loading:Carrier A\",\"loading:Carrier A\",\"loading:Carrier A\",null,\"loading:Carrier A\",\"loading:Carrier A\",\"loading:Carrier A\",\"loading:Carrier A\",null,\"loading:Carrier A\",\"loading:Carrier A\",\"loading:Carrier A\",\"loading:Carrier A\",null,\"loading:Carrier A\",\"loading:Carrier A\",\"loading:Carrier A\",\"loading:Carrier A\",null,\"loading:Carrier A\",\"loading:Carrier A\",\"loading:Carrier A\",\"loading:Carrier A\",null],\"type\":\"scatter\"},{\"connectgaps\":false,\"hoverinfo\":\"y+name\",\"line\":{\"color\":\"rgb(198,235,182)\",\"width\":10},\"mode\":\"lines\",\"name\":\"loading:Carrier B\",\"x\":[\"1970-01-01T01:07:39\",\"1970-01-01T01:07:39\",\"1970-01-01T01:40:59\",\"1970-01-01T01:40:59\",\"1970-01-01T01:40:59\",\"1970-01-01T03:41:47\",\"1970-01-01T03:41:47\",\"1970-01-01T04:15:07\",\"1970-01-01T04:15:07\",\"1970-01-01T04:15:07\",\"1970-01-01T06:15:55\",\"1970-01-01T06:15:55\",\"1970-01-01T06:49:15\",\"1970-01-01T06:49:15\",\"1970-01-01T06:49:15\",\"1970-01-01T08:54:39\",\"1970-01-01T08:54:39\",\"1970-01-01T09:27:59\",\"1970-01-01T09:27:59\",\"1970-01-01T09:27:59\",\"1970-01-01T11:55:22\",\"1970-01-01T11:55:22\",\"1970-01-01T12:28:42\",\"1970-01-01T12:28:42\",\"1970-01-01T12:28:42\",\"1970-01-01T14:56:05\",\"1970-01-01T14:56:05\",\"1970-01-01T15:29:25\",\"1970-01-01T15:29:25\",\"1970-01-01T15:29:25\",\"1970-01-01T17:56:48\",\"1970-01-01T17:56:48\",\"1970-01-01T18:30:08\",\"1970-01-01T18:30:08\",\"1970-01-01T18:30:08\",\"1970-01-01T20:57:31\",\"1970-01-01T20:57:31\",\"1970-01-01T21:30:51\",\"1970-01-01T21:30:51\",\"1970-01-01T21:30:51\"],\"y\":[\"loading:Carrier B\",\"loading:Carrier B\",\"loading:Carrier B\",\"loading:Carrier B\",null,\"loading:Carrier B\",\"loading:Carrier B\",\"loading:Carrier B\",\"loading:Carrier B\",null,\"loading:Carrier B\",\"loading:Carrier B\",\"loading:Carrier B\",\"loading:Carrier B\",null,\"loading:Carrier B\",\"loading:Carrier B\",\"loading:Carrier B\",\"loading:Carrier B\",null,\"loading:Carrier B\",\"loading:Carrier B\",\"loading:Carrier B\",\"loading:Carrier B\",null,\"loading:Carrier B\",\"loading:Carrier B\",\"loading:Carrier B\",\"loading:Carrier B\",null,\"loading:Carrier B\",\"loading:Carrier B\",\"loading:Carrier B\",\"loading:Carrier B\",null,\"loading:Carrier B\",\"loading:Carrier B\",\"loading:Carrier B\",\"loading:Carrier B\",null],\"type\":\"scatter\"},{\"connectgaps\":false,\"hoverinfo\":\"y+name\",\"line\":{\"color\":\"rgb(27,64,11)\",\"width\":10},\"mode\":\"lines\",\"name\":\"loading:Carrier C\",\"x\":[\"1970-01-01T00:34:19\",\"1970-01-01T00:34:19\",\"1970-01-01T01:07:39\",\"1970-01-01T01:07:39\",\"1970-01-01T01:07:39\",\"1970-01-01T02:50:36\",\"1970-01-01T02:50:36\",\"1970-01-01T03:23:56\",\"1970-01-01T03:23:56\",\"1970-01-01T03:23:56\",\"1970-01-01T05:23:22\",\"1970-01-01T05:23:22\",\"1970-01-01T05:56:42\",\"1970-01-01T05:56:42\",\"1970-01-01T05:56:42\",\"1970-01-01T07:39:39\",\"1970-01-01T07:39:39\",\"1970-01-01T08:12:59\",\"1970-01-01T08:12:59\",\"1970-01-01T08:12:59\",\"1970-01-01T09:55:56\",\"1970-01-01T09:55:56\",\"1970-01-01T10:29:16\",\"1970-01-01T10:29:16\",\"1970-01-01T10:29:16\",\"1970-01-01T12:28:42\",\"1970-01-01T12:28:42\",\"1970-01-01T13:02:02\",\"1970-01-01T13:02:02\",\"1970-01-01T13:02:02\",\"1970-01-01T15:29:25\",\"1970-01-01T15:29:25\",\"1970-01-01T16:02:45\",\"1970-01-01T16:02:45\",\"1970-01-01T16:02:45\",\"1970-01-01T18:30:08\",\"1970-01-01T18:30:08\",\"1970-01-01T19:03:28\",\"1970-01-01T19:03:28\",\"1970-01-01T19:03:28\",\"1970-01-01T21:30:51\",\"1970-01-01T21:30:51\",\"1970-01-01T22:04:11\",\"1970-01-01T22:04:11\",\"1970-01-01T22:04:11\"],\"y\":[\"loading:Carrier C\",\"loading:Carrier C\",\"loading:Carrier C\",\"loading:Carrier C\",null,\"loading:Carrier C\",\"loading:Carrier C\",\"loading:Carrier C\",\"loading:Carrier C\",null,\"loading:Carrier C\",\"loading:Carrier C\",\"loading:Carrier C\",\"loading:Carrier C\",null,\"loading:Carrier C\",\"loading:Carrier C\",\"loading:Carrier C\",\"loading:Carrier C\",null,\"loading:Carrier C\",\"loading:Carrier C\",\"loading:Carrier C\",\"loading:Carrier C\",null,\"loading:Carrier C\",\"loading:Carrier C\",\"loading:Carrier C\",\"loading:Carrier C\",null,\"loading:Carrier C\",\"loading:Carrier C\",\"loading:Carrier C\",\"loading:Carrier C\",null,\"loading:Carrier C\",\"loading:Carrier C\",\"loading:Carrier C\",\"loading:Carrier C\",null,\"loading:Carrier C\",\"loading:Carrier C\",\"loading:Carrier C\",\"loading:Carrier C\",null],\"type\":\"scatter\"}],                        {\"hovermode\":\"closest\",\"legend\":{\"orientation\":\"h\",\"x\":0,\"y\":-0.2},\"template\":{\"data\":{\"barpolar\":[{\"marker\":{\"line\":{\"color\":\"#E5ECF6\",\"width\":0.5},\"pattern\":{\"fillmode\":\"overlay\",\"size\":10,\"solidity\":0.2}},\"type\":\"barpolar\"}],\"bar\":[{\"error_x\":{\"color\":\"#2a3f5f\"},\"error_y\":{\"color\":\"#2a3f5f\"},\"marker\":{\"line\":{\"color\":\"#E5ECF6\",\"width\":0.5},\"pattern\":{\"fillmode\":\"overlay\",\"size\":10,\"solidity\":0.2}},\"type\":\"bar\"}],\"carpet\":[{\"aaxis\":{\"endlinecolor\":\"#2a3f5f\",\"gridcolor\":\"white\",\"linecolor\":\"white\",\"minorgridcolor\":\"white\",\"startlinecolor\":\"#2a3f5f\"},\"baxis\":{\"endlinecolor\":\"#2a3f5f\",\"gridcolor\":\"white\",\"linecolor\":\"white\",\"minorgridcolor\":\"white\",\"startlinecolor\":\"#2a3f5f\"},\"type\":\"carpet\"}],\"choropleth\":[{\"colorbar\":{\"outlinewidth\":0,\"ticks\":\"\"},\"type\":\"choropleth\"}],\"contourcarpet\":[{\"colorbar\":{\"outlinewidth\":0,\"ticks\":\"\"},\"type\":\"contourcarpet\"}],\"contour\":[{\"colorbar\":{\"outlinewidth\":0,\"ticks\":\"\"},\"colorscale\":[[0.0,\"#0d0887\"],[0.1111111111111111,\"#46039f\"],[0.2222222222222222,\"#7201a8\"],[0.3333333333333333,\"#9c179e\"],[0.4444444444444444,\"#bd3786\"],[0.5555555555555556,\"#d8576b\"],[0.6666666666666666,\"#ed7953\"],[0.7777777777777778,\"#fb9f3a\"],[0.8888888888888888,\"#fdca26\"],[1.0,\"#f0f921\"]],\"type\":\"contour\"}],\"heatmapgl\":[{\"colorbar\":{\"outlinewidth\":0,\"ticks\":\"\"},\"colorscale\":[[0.0,\"#0d0887\"],[0.1111111111111111,\"#46039f\"],[0.2222222222222222,\"#7201a8\"],[0.3333333333333333,\"#9c179e\"],[0.4444444444444444,\"#bd3786\"],[0.5555555555555556,\"#d8576b\"],[0.6666666666666666,\"#ed7953\"],[0.7777777777777778,\"#fb9f3a\"],[0.8888888888888888,\"#fdca26\"],[1.0,\"#f0f921\"]],\"type\":\"heatmapgl\"}],\"heatmap\":[{\"colorbar\":{\"outlinewidth\":0,\"ticks\":\"\"},\"colorscale\":[[0.0,\"#0d0887\"],[0.1111111111111111,\"#46039f\"],[0.2222222222222222,\"#7201a8\"],[0.3333333333333333,\"#9c179e\"],[0.4444444444444444,\"#bd3786\"],[0.5555555555555556,\"#d8576b\"],[0.6666666666666666,\"#ed7953\"],[0.7777777777777778,\"#fb9f3a\"],[0.8888888888888888,\"#fdca26\"],[1.0,\"#f0f921\"]],\"type\":\"heatmap\"}],\"histogram2dcontour\":[{\"colorbar\":{\"outlinewidth\":0,\"ticks\":\"\"},\"colorscale\":[[0.0,\"#0d0887\"],[0.1111111111111111,\"#46039f\"],[0.2222222222222222,\"#7201a8\"],[0.3333333333333333,\"#9c179e\"],[0.4444444444444444,\"#bd3786\"],[0.5555555555555556,\"#d8576b\"],[0.6666666666666666,\"#ed7953\"],[0.7777777777777778,\"#fb9f3a\"],[0.8888888888888888,\"#fdca26\"],[1.0,\"#f0f921\"]],\"type\":\"histogram2dcontour\"}],\"histogram2d\":[{\"colorbar\":{\"outlinewidth\":0,\"ticks\":\"\"},\"colorscale\":[[0.0,\"#0d0887\"],[0.1111111111111111,\"#46039f\"],[0.2222222222222222,\"#7201a8\"],[0.3333333333333333,\"#9c179e\"],[0.4444444444444444,\"#bd3786\"],[0.5555555555555556,\"#d8576b\"],[0.6666666666666666,\"#ed7953\"],[0.7777777777777778,\"#fb9f3a\"],[0.8888888888888888,\"#fdca26\"],[1.0,\"#f0f921\"]],\"type\":\"histogram2d\"}],\"histogram\":[{\"marker\":{\"pattern\":{\"fillmode\":\"overlay\",\"size\":10,\"solidity\":0.2}},\"type\":\"histogram\"}],\"mesh3d\":[{\"colorbar\":{\"outlinewidth\":0,\"ticks\":\"\"},\"type\":\"mesh3d\"}],\"parcoords\":[{\"line\":{\"colorbar\":{\"outlinewidth\":0,\"ticks\":\"\"}},\"type\":\"parcoords\"}],\"pie\":[{\"automargin\":true,\"type\":\"pie\"}],\"scatter3d\":[{\"line\":{\"colorbar\":{\"outlinewidth\":0,\"ticks\":\"\"}},\"marker\":{\"colorbar\":{\"outlinewidth\":0,\"ticks\":\"\"}},\"type\":\"scatter3d\"}],\"scattercarpet\":[{\"marker\":{\"colorbar\":{\"outlinewidth\":0,\"ticks\":\"\"}},\"type\":\"scattercarpet\"}],\"scattergeo\":[{\"marker\":{\"colorbar\":{\"outlinewidth\":0,\"ticks\":\"\"}},\"type\":\"scattergeo\"}],\"scattergl\":[{\"marker\":{\"colorbar\":{\"outlinewidth\":0,\"ticks\":\"\"}},\"type\":\"scattergl\"}],\"scattermapbox\":[{\"marker\":{\"colorbar\":{\"outlinewidth\":0,\"ticks\":\"\"}},\"type\":\"scattermapbox\"}],\"scatterpolargl\":[{\"marker\":{\"colorbar\":{\"outlinewidth\":0,\"ticks\":\"\"}},\"type\":\"scatterpolargl\"}],\"scatterpolar\":[{\"marker\":{\"colorbar\":{\"outlinewidth\":0,\"ticks\":\"\"}},\"type\":\"scatterpolar\"}],\"scatter\":[{\"fillpattern\":{\"fillmode\":\"overlay\",\"size\":10,\"solidity\":0.2},\"type\":\"scatter\"}],\"scatterternary\":[{\"marker\":{\"colorbar\":{\"outlinewidth\":0,\"ticks\":\"\"}},\"type\":\"scatterternary\"}],\"surface\":[{\"colorbar\":{\"outlinewidth\":0,\"ticks\":\"\"},\"colorscale\":[[0.0,\"#0d0887\"],[0.1111111111111111,\"#46039f\"],[0.2222222222222222,\"#7201a8\"],[0.3333333333333333,\"#9c179e\"],[0.4444444444444444,\"#bd3786\"],[0.5555555555555556,\"#d8576b\"],[0.6666666666666666,\"#ed7953\"],[0.7777777777777778,\"#fb9f3a\"],[0.8888888888888888,\"#fdca26\"],[1.0,\"#f0f921\"]],\"type\":\"surface\"}],\"table\":[{\"cells\":{\"fill\":{\"color\":\"#EBF0F8\"},\"line\":{\"color\":\"white\"}},\"header\":{\"fill\":{\"color\":\"#C8D4E3\"},\"line\":{\"color\":\"white\"}},\"type\":\"table\"}]},\"layout\":{\"annotationdefaults\":{\"arrowcolor\":\"#2a3f5f\",\"arrowhead\":0,\"arrowwidth\":1},\"autotypenumbers\":\"strict\",\"coloraxis\":{\"colorbar\":{\"outlinewidth\":0,\"ticks\":\"\"}},\"colorscale\":{\"diverging\":[[0,\"#8e0152\"],[0.1,\"#c51b7d\"],[0.2,\"#de77ae\"],[0.3,\"#f1b6da\"],[0.4,\"#fde0ef\"],[0.5,\"#f7f7f7\"],[0.6,\"#e6f5d0\"],[0.7,\"#b8e186\"],[0.8,\"#7fbc41\"],[0.9,\"#4d9221\"],[1,\"#276419\"]],\"sequential\":[[0.0,\"#0d0887\"],[0.1111111111111111,\"#46039f\"],[0.2222222222222222,\"#7201a8\"],[0.3333333333333333,\"#9c179e\"],[0.4444444444444444,\"#bd3786\"],[0.5555555555555556,\"#d8576b\"],[0.6666666666666666,\"#ed7953\"],[0.7777777777777778,\"#fb9f3a\"],[0.8888888888888888,\"#fdca26\"],[1.0,\"#f0f921\"]],\"sequentialminus\":[[0.0,\"#0d0887\"],[0.1111111111111111,\"#46039f\"],[0.2222222222222222,\"#7201a8\"],[0.3333333333333333,\"#9c179e\"],[0.4444444444444444,\"#bd3786\"],[0.5555555555555556,\"#d8576b\"],[0.6666666666666666,\"#ed7953\"],[0.7777777777777778,\"#fb9f3a\"],[0.8888888888888888,\"#fdca26\"],[1.0,\"#f0f921\"]]},\"colorway\":[\"#636efa\",\"#EF553B\",\"#00cc96\",\"#ab63fa\",\"#FFA15A\",\"#19d3f3\",\"#FF6692\",\"#B6E880\",\"#FF97FF\",\"#FECB52\"],\"font\":{\"color\":\"#2a3f5f\"},\"geo\":{\"bgcolor\":\"white\",\"lakecolor\":\"white\",\"landcolor\":\"#E5ECF6\",\"showlakes\":true,\"showland\":true,\"subunitcolor\":\"white\"},\"hoverlabel\":{\"align\":\"left\"},\"hovermode\":\"closest\",\"mapbox\":{\"style\":\"light\"},\"paper_bgcolor\":\"white\",\"plot_bgcolor\":\"#E5ECF6\",\"polar\":{\"angularaxis\":{\"gridcolor\":\"white\",\"linecolor\":\"white\",\"ticks\":\"\"},\"bgcolor\":\"#E5ECF6\",\"radialaxis\":{\"gridcolor\":\"white\",\"linecolor\":\"white\",\"ticks\":\"\"}},\"scene\":{\"xaxis\":{\"backgroundcolor\":\"#E5ECF6\",\"gridcolor\":\"white\",\"gridwidth\":2,\"linecolor\":\"white\",\"showbackground\":true,\"ticks\":\"\",\"zerolinecolor\":\"white\"},\"yaxis\":{\"backgroundcolor\":\"#E5ECF6\",\"gridcolor\":\"white\",\"gridwidth\":2,\"linecolor\":\"white\",\"showbackground\":true,\"ticks\":\"\",\"zerolinecolor\":\"white\"},\"zaxis\":{\"backgroundcolor\":\"#E5ECF6\",\"gridcolor\":\"white\",\"gridwidth\":2,\"linecolor\":\"white\",\"showbackground\":true,\"ticks\":\"\",\"zerolinecolor\":\"white\"}},\"shapedefaults\":{\"line\":{\"color\":\"#2a3f5f\"}},\"ternary\":{\"aaxis\":{\"gridcolor\":\"white\",\"linecolor\":\"white\",\"ticks\":\"\"},\"baxis\":{\"gridcolor\":\"white\",\"linecolor\":\"white\",\"ticks\":\"\"},\"bgcolor\":\"#E5ECF6\",\"caxis\":{\"gridcolor\":\"white\",\"linecolor\":\"white\",\"ticks\":\"\"}},\"title\":{\"x\":0.05},\"xaxis\":{\"automargin\":true,\"gridcolor\":\"white\",\"linecolor\":\"white\",\"ticks\":\"\",\"title\":{\"standoff\":15},\"zerolinecolor\":\"white\",\"zerolinewidth\":2},\"yaxis\":{\"automargin\":true,\"gridcolor\":\"white\",\"linecolor\":\"white\",\"ticks\":\"\",\"title\":{\"standoff\":15},\"zerolinecolor\":\"white\",\"zerolinewidth\":2}}},\"title\":{\"text\":\"GANTT Chart\"},\"xaxis\":{\"range\":[\"1970-01-01T00:34:19\",\"1970-01-01T22:04:11\"],\"title\":{\"font\":{\"color\":\"#7f7f7f\",\"family\":\"Courier New, monospace\",\"size\":18},\"text\":\"Time\"}},\"yaxis\":{\"title\":{\"font\":{\"color\":\"#7f7f7f\",\"family\":\"Courier New, monospace\",\"size\":18},\"text\":\"Activities\"}}},                        {\"responsive\": true}                    ).then(function(){\n",
       "                            \n",
       "var gd = document.getElementById('ec40a1cf-7709-45ab-a791-8d8bdc6f24fb');\n",
       "var x = new MutationObserver(function (mutations, observer) {{\n",
       "        var display = window.getComputedStyle(gd).display;\n",
       "        if (!display || display === 'none') {{\n",
       "            console.log([gd, 'removed!']);\n",
       "            Plotly.purge(gd);\n",
       "            observer.disconnect();\n",
       "        }}\n",
       "}});\n",
       "\n",
       "// Listen for the removal of the full notebook cells\n",
       "var notebookContainer = gd.closest('#notebook-container');\n",
       "if (notebookContainer) {{\n",
       "    x.observe(notebookContainer, {childList: true});\n",
       "}}\n",
       "\n",
       "// Listen for the clearing of the current output cell\n",
       "var outputEl = gd.closest('.output');\n",
       "if (outputEl) {{\n",
       "    x.observe(outputEl, {childList: true});\n",
       "}}\n",
       "\n",
       "                        })                };                });            </script>        </div>"
      ]
     },
     "metadata": {},
     "output_type": "display_data"
    }
   ],
   "source": [
    "flat = pd.DataFrame(flatten(activities))\n",
    "loading = list(flat[flat['ActivityName'].str.startswith('loading')]['activity'].values)\n",
    "fig = get_gantt_chart(loading)"
   ]
  },
  {
   "cell_type": "code",
   "execution_count": 9,
   "id": "406b5d85",
   "metadata": {},
   "outputs": [
    {
     "data": {
      "image/png": "[encoded data removed]",
      "text/plain": [
       "<Figure size 1400x700 with 1 Axes>"
      ]
     },
     "metadata": {},
     "output_type": "display_data"
    }
   ],
   "source": [
    "fig = get_step_chart([from_site, to_site, *vessels.values()])"
   ]
  },
  {
   "cell_type": "code",
   "execution_count": 10,
   "id": "075f63bf",
   "metadata": {},
   "outputs": [],
   "source": [
    "def occupancy_analysis(vessels, cutter_name, total_amount, vessel_cost):\n",
    "    \"\"\"Model specific calculation of vessel occupancy\"\"\"\n",
    "    \n",
    "    data = []\n",
    "    \n",
    "    for i, vessel_name in enumerate(vessels):\n",
    "        vessel = vessels[vessel_name]\n",
    "\n",
    "        log = get_ranges_dataframe(vessel)\n",
    "        \n",
    "        duration_theory = log.TimestampDt.sum()\n",
    "        \n",
    "        # We assume all vessels arrive JIT when they need to start,\n",
    "        # and leaves immediately when they are done (so different demob times)\n",
    "        # this is an overestimation of actual occupancy\n",
    "        \n",
    "        duration_actual = (log.TimestampStop.max() - log.TimestampStart.min()).total_seconds()\n",
    "        nr_trips = len(log.groupby('trip'))\n",
    "        \n",
    "        if vessel.name==cutter_name:\n",
    "            amount = total_amount\n",
    "        else:\n",
    "            amount = sum(log.groupby('trip')['ContainerLevelStop'].max())\n",
    "        \n",
    "        data.append({\n",
    "            'name':vessel.name, \n",
    "            '# trips':nr_trips, \n",
    "            'start': log.TimestampStart.min(),\n",
    "            'finish': log.TimestampStop.max(),\n",
    "            'amount sum': amount,\n",
    "            'duration actual': duration_actual,\n",
    "            'duration theory':duration_theory,\n",
    "            'cost actual':round(duration_actual*vessel_cost[vessel_name]/3600/24,0),\n",
    "            'production actual':(nr_trips * amount) / (duration_actual),\n",
    "            'production theory':(nr_trips * amount / (duration_theory)),\n",
    "        })\n",
    "\n",
    "    df = pd.DataFrame(data).sort_values(by=['production actual'],ascending=False)\n",
    "    df['occupancy [%]'] = [round(x,1) for x in 100*df['production actual']/df['production theory']]\n",
    "    df.set_index('name', inplace=True)\n",
    "    \n",
    "    # cutter does amount same as all barges\n",
    "    assert df['amount sum'].sum()-total_amount==total_amount, 'material imbalance'\n",
    "    \n",
    "    return df"
   ]
  },
  {
   "cell_type": "code",
   "execution_count": 11,
   "id": "78603c28",
   "metadata": {},
   "outputs": [
    {
     "data": {
      "text/html": [
       "<div>\n",
       "<style scoped>\n",
       "    .dataframe tbody tr th:only-of-type {\n",
       "        vertical-align: middle;\n",
       "    }\n",
       "\n",
       "    .dataframe tbody tr th {\n",
       "        vertical-align: top;\n",
       "    }\n",
       "\n",
       "    .dataframe thead th {\n",
       "        text-align: right;\n",
       "    }\n",
       "</style>\n",
       "<table border=\"1\" class=\"dataframe\">\n",
       "  <thead>\n",
       "    <tr style=\"text-align: right;\">\n",
       "      <th></th>\n",
       "      <th># trips</th>\n",
       "      <th>start</th>\n",
       "      <th>finish</th>\n",
       "      <th>amount sum</th>\n",
       "      <th>duration actual</th>\n",
       "      <th>duration theory</th>\n",
       "      <th>cost actual</th>\n",
       "      <th>production actual</th>\n",
       "      <th>production theory</th>\n",
       "      <th>occupancy [%]</th>\n",
       "    </tr>\n",
       "    <tr>\n",
       "      <th>name</th>\n",
       "      <th></th>\n",
       "      <th></th>\n",
       "      <th></th>\n",
       "      <th></th>\n",
       "      <th></th>\n",
       "      <th></th>\n",
       "      <th></th>\n",
       "      <th></th>\n",
       "      <th></th>\n",
       "      <th></th>\n",
       "    </tr>\n",
       "  </thead>\n",
       "  <tbody>\n",
       "    <tr>\n",
       "      <th>Carrier A</th>\n",
       "      <td>7</td>\n",
       "      <td>1970-01-01 00:00:00</td>\n",
       "      <td>1970-01-01 22:30:13</td>\n",
       "      <td>35.0</td>\n",
       "      <td>81013.0</td>\n",
       "      <td>75901.0</td>\n",
       "      <td>5626.0</td>\n",
       "      <td>0.003024</td>\n",
       "      <td>0.003228</td>\n",
       "      <td>93.7</td>\n",
       "    </tr>\n",
       "    <tr>\n",
       "      <th>Carrier B</th>\n",
       "      <td>8</td>\n",
       "      <td>1970-01-01 00:00:00</td>\n",
       "      <td>1970-01-01 22:51:23</td>\n",
       "      <td>32.0</td>\n",
       "      <td>82283.0</td>\n",
       "      <td>73984.0</td>\n",
       "      <td>5714.0</td>\n",
       "      <td>0.003111</td>\n",
       "      <td>0.003460</td>\n",
       "      <td>89.9</td>\n",
       "    </tr>\n",
       "    <tr>\n",
       "      <th>Carrier C</th>\n",
       "      <td>9</td>\n",
       "      <td>1970-01-01 00:00:00</td>\n",
       "      <td>1970-01-01 23:12:49</td>\n",
       "      <td>33.0</td>\n",
       "      <td>83569.0</td>\n",
       "      <td>73593.0</td>\n",
       "      <td>5803.0</td>\n",
       "      <td>0.003554</td>\n",
       "      <td>0.004036</td>\n",
       "      <td>88.1</td>\n",
       "    </tr>\n",
       "    <tr>\n",
       "      <th>Cutter T</th>\n",
       "      <td>9</td>\n",
       "      <td>1970-01-01 00:34:19</td>\n",
       "      <td>1970-01-01 22:04:11</td>\n",
       "      <td>100.0</td>\n",
       "      <td>77392.0</td>\n",
       "      <td>51500.0</td>\n",
       "      <td>22394.0</td>\n",
       "      <td>0.011629</td>\n",
       "      <td>0.017476</td>\n",
       "      <td>66.5</td>\n",
       "    </tr>\n",
       "  </tbody>\n",
       "</table>\n",
       "</div>"
      ],
      "text/plain": [
       "           # trips               start              finish  amount sum  \\\n",
       "name                                                                     \n",
       "Carrier A        7 1970-01-01 00:00:00 1970-01-01 22:30:13        35.0   \n",
       "Carrier B        8 1970-01-01 00:00:00 1970-01-01 22:51:23        32.0   \n",
       "Carrier C        9 1970-01-01 00:00:00 1970-01-01 23:12:49        33.0   \n",
       "Cutter T         9 1970-01-01 00:34:19 1970-01-01 22:04:11       100.0   \n",
       "\n",
       "           duration actual  duration theory  cost actual  production actual  \\\n",
       "name                                                                          \n",
       "Carrier A          81013.0          75901.0       5626.0           0.003024   \n",
       "Carrier B          82283.0          73984.0       5714.0           0.003111   \n",
       "Carrier C          83569.0          73593.0       5803.0           0.003554   \n",
       "Cutter T           77392.0          51500.0      22394.0           0.011629   \n",
       "\n",
       "           production theory  occupancy [%]  \n",
       "name                                         \n",
       "Carrier A           0.003228           93.7  \n",
       "Carrier B           0.003460           89.9  \n",
       "Carrier C           0.004036           88.1  \n",
       "Cutter T            0.017476           66.5  "
      ]
     },
     "execution_count": 11,
     "metadata": {},
     "output_type": "execute_result"
    }
   ],
   "source": [
    "occupancy_analysis(vessels, cutter_name, total_amount, vessel_cost).sort_values(by=[\"name\"])"
   ]
  },
  {
   "cell_type": "markdown",
   "id": "4e7485d8",
   "metadata": {},
   "source": [
    "# Compare multiple barge scenarios"
   ]
  },
  {
   "cell_type": "code",
   "execution_count": 12,
   "id": "eeb88b8d",
   "metadata": {},
   "outputs": [
    {
     "data": {
      "text/html": [
       "<div>\n",
       "<style scoped>\n",
       "    .dataframe tbody tr th:only-of-type {\n",
       "        vertical-align: middle;\n",
       "    }\n",
       "\n",
       "    .dataframe tbody tr th {\n",
       "        vertical-align: top;\n",
       "    }\n",
       "\n",
       "    .dataframe thead th {\n",
       "        text-align: right;\n",
       "    }\n",
       "</style>\n",
       "<table border=\"1\" class=\"dataframe\">\n",
       "  <thead>\n",
       "    <tr style=\"text-align: right;\">\n",
       "      <th></th>\n",
       "      <th># barges</th>\n",
       "      <th>cutter occupancy</th>\n",
       "      <th>total cost</th>\n",
       "      <th>total duration</th>\n",
       "    </tr>\n",
       "  </thead>\n",
       "  <tbody>\n",
       "    <tr>\n",
       "      <th>0</th>\n",
       "      <td>2</td>\n",
       "      <td>48.3</td>\n",
       "      <td>45098.0</td>\n",
       "      <td>1.273669</td>\n",
       "    </tr>\n",
       "    <tr>\n",
       "      <th>1</th>\n",
       "      <td>3</td>\n",
       "      <td>70.2</td>\n",
       "      <td>36217.0</td>\n",
       "      <td>0.916250</td>\n",
       "    </tr>\n",
       "    <tr>\n",
       "      <th>2</th>\n",
       "      <td>4</td>\n",
       "      <td>82.1</td>\n",
       "      <td>35346.0</td>\n",
       "      <td>0.813519</td>\n",
       "    </tr>\n",
       "    <tr>\n",
       "      <th>3</th>\n",
       "      <td>5</td>\n",
       "      <td>96.2</td>\n",
       "      <td>32931.0</td>\n",
       "      <td>0.692500</td>\n",
       "    </tr>\n",
       "    <tr>\n",
       "      <th>4</th>\n",
       "      <td>6</td>\n",
       "      <td>100.0</td>\n",
       "      <td>34161.0</td>\n",
       "      <td>0.658403</td>\n",
       "    </tr>\n",
       "    <tr>\n",
       "      <th>5</th>\n",
       "      <td>7</td>\n",
       "      <td>100.0</td>\n",
       "      <td>35655.0</td>\n",
       "      <td>0.649398</td>\n",
       "    </tr>\n",
       "    <tr>\n",
       "      <th>6</th>\n",
       "      <td>8</td>\n",
       "      <td>100.0</td>\n",
       "      <td>38723.0</td>\n",
       "      <td>0.676204</td>\n",
       "    </tr>\n",
       "  </tbody>\n",
       "</table>\n",
       "</div>"
      ],
      "text/plain": [
       "   # barges  cutter occupancy  total cost  total duration\n",
       "0         2              48.3     45098.0        1.273669\n",
       "1         3              70.2     36217.0        0.916250\n",
       "2         4              82.1     35346.0        0.813519\n",
       "3         5              96.2     32931.0        0.692500\n",
       "4         6             100.0     34161.0        0.658403\n",
       "5         7             100.0     35655.0        0.649398\n",
       "6         8             100.0     38723.0        0.676204"
      ]
     },
     "execution_count": 12,
     "metadata": {},
     "output_type": "execute_result"
    }
   ],
   "source": [
    "results = []\n",
    "occupancy = []\n",
    "cost = []\n",
    "duration = []\n",
    "\n",
    "n_barges = range(2,len(barge_names)) # +1 at least 1 barge\n",
    "for i in n_barges:\n",
    "    results.append(run(i,total_amount))\n",
    "    \n",
    "    vessels = results[-1]['vessels']\n",
    "    activities = results[-1]['activities']\n",
    "    sites = results[-1]['sites']\n",
    "    \n",
    "    cutter = vessels[cutter_name]\n",
    "    \n",
    "    df = occupancy_analysis(vessels, cutter_name, total_amount, vessel_cost)\n",
    "    occupancy.append(df.loc[cutter_name]['occupancy [%]'])\n",
    "    cost.append(df['cost actual'].sum())\n",
    "    duration.append((df['finish'].max() - df['start'].min()).total_seconds()/3600/24)\n",
    "    #     display(df)\n",
    "    \n",
    "scenarios = {'# barges':n_barges,\n",
    "             'cutter occupancy':occupancy,\n",
    "             'total cost':cost,\n",
    "             'total duration':duration}\n",
    "scenarios = pd.DataFrame.from_dict(scenarios)\n",
    "scenarios"
   ]
  },
  {
   "cell_type": "code",
   "execution_count": 13,
   "id": "9e7f3cf4",
   "metadata": {},
   "outputs": [
    {
     "data": {
      "image/png": "[encoded data removed]",
      "text/plain": [
       "<Figure size 640x480 with 3 Axes>"
      ]
     },
     "metadata": {},
     "output_type": "display_data"
    }
   ],
   "source": [
    "# plot 3 optimization criteria: cost, duration, occupancy (1/flexibility)\n",
    "%matplotlib inline\n",
    "import matplotlib.pyplot as plt\n",
    "\n",
    "fig = plt.figure()\n",
    "gs = fig.add_gridspec(3, hspace=0)\n",
    "axs = gs.subplots(sharex=True)\n",
    "\n",
    "\n",
    "axs[0].plot(scenarios['# barges'],scenarios['total cost'],'.-'), axs[0].set_ylabel('# cost [EUR]'),axs[0].grid();\n",
    "# axs[0].set_xlabel('# barges');\n",
    "\n",
    "axs[1].plot(scenarios['# barges'],scenarios['cutter occupancy'],'.-'), axs[1].set_ylabel('cutter occupancy [%]'),axs[1].grid();\n",
    "# axs[1].set_xlabel('# barges');\n",
    "axs[1].yaxis.set_label_position(\"right\")\n",
    "axs[1].yaxis.tick_right()\n",
    "\n",
    "axs[2].plot(scenarios['# barges'],scenarios['total duration'],'.-'), axs[2].set_ylabel('# time [days]'),axs[2].grid();\n",
    "\n",
    "axs[-1].set_xlabel('# barges');"
   ]
  },
  {
   "cell_type": "code",
   "execution_count": 14,
   "id": "88c1391e",
   "metadata": {},
   "outputs": [],
   "source": [
    "# choose 1 scenario for further analysis and export\n",
    "# many barges: close to 100% cutter config, small cost, fast delivery.\n",
    "scenario_index = 2"
   ]
  },
  {
   "cell_type": "markdown",
   "id": "9d132a51",
   "metadata": {},
   "source": [
    "# Visualize critical path of chosen optimal scenario"
   ]
  },
  {
   "cell_type": "markdown",
   "id": "70e77f68",
   "metadata": {},
   "source": [
    "For explanation of Critical Path see notebook 30"
   ]
  },
  {
   "cell_type": "code",
   "execution_count": 15,
   "id": "0f21208b",
   "metadata": {},
   "outputs": [],
   "source": [
    "from openclsim.plot.critical_path import CpLog"
   ]
  },
  {
   "cell_type": "code",
   "execution_count": 16,
   "id": "63db1761",
   "metadata": {},
   "outputs": [
    {
     "data": {
      "text/html": [
       "        <script type=\"text/javascript\">\n",
       "        window.PlotlyConfig = {MathJaxConfig: 'local'};\n",
       "        if (window.MathJax && window.MathJax.Hub && window.MathJax.Hub.Config) {window.MathJax.Hub.Config({SVG: {font: \"STIX-Web\"}});}\n",
       "        if (typeof require !== 'undefined') {\n",
       "        require.undef(\"plotly\");\n",
       "        requirejs.config({\n",
       "            paths: {\n",
       "                'plotly': ['https://cdn.plot.ly/plotly-2.18.2.min']\n",
       "            }\n",
       "        });\n",
       "        require(['plotly'], function(Plotly) {\n",
       "            window._Plotly = Plotly;\n",
       "        });\n",
       "        }\n",
       "        </script>\n",
       "        "
      ]
     },
     "metadata": {},
     "output_type": "display_data"
    },
    {
     "data": {
      "application/vnd.plotly.v1+json": {
       "config": {
        "linkText": "Export to plot.ly",
        "plotlyServerURL": "https://plot.ly",
        "showLink": false
       },
       "data": [
        {
         "connectgaps": false,
         "hoverinfo": "name",
         "line": {
          "color": "red",
          "width": 14
         },
         "mode": "lines",
         "name": "critical_path",
         "type": "scatter",
         "x": [
          "1970-01-01T00:00:00",
          "1970-01-01T00:39:46",
          "1970-01-01T00:39:46",
          "1970-01-01T00:39:46",
          "1970-01-01T01:13:06",
          "1970-01-01T01:13:06",
          "1970-01-01T00:39:46",
          "1970-01-01T01:13:06",
          "1970-01-01T01:13:06",
          "1970-01-01T00:39:46",
          "1970-01-01T01:13:06",
          "1970-01-01T01:13:06",
          "1970-01-01T01:13:06",
          "1970-01-01T01:46:26",
          "1970-01-01T01:46:26",
          "1970-01-01T01:13:06",
          "1970-01-01T01:46:26",
          "1970-01-01T01:46:26",
          "1970-01-01T01:13:06",
          "1970-01-01T01:46:26",
          "1970-01-01T01:46:26",
          "1970-01-01T01:46:26",
          "1970-01-01T02:28:06",
          "1970-01-01T02:28:06",
          "1970-01-01T01:46:26",
          "1970-01-01T02:28:06",
          "1970-01-01T02:28:06",
          "1970-01-01T01:46:26",
          "1970-01-01T02:28:06",
          "1970-01-01T02:28:06",
          "1970-01-01T02:28:06",
          "1970-01-01T03:01:26",
          "1970-01-01T03:01:26",
          "1970-01-01T02:28:06",
          "1970-01-01T03:01:26",
          "1970-01-01T03:01:26",
          "1970-01-01T02:28:06",
          "1970-01-01T03:01:26",
          "1970-01-01T03:01:26",
          "1970-01-01T03:01:26",
          "1970-01-01T03:49:52",
          "1970-01-01T03:49:52",
          "1970-01-01T03:49:52",
          "1970-01-01T04:38:18",
          "1970-01-01T04:38:18",
          "1970-01-01T03:49:52",
          "1970-01-01T04:38:18",
          "1970-01-01T04:38:18",
          "1970-01-01T04:38:18",
          "1970-01-01T05:26:44",
          "1970-01-01T05:26:44",
          "1970-01-01T05:26:44",
          "1970-01-01T06:00:04",
          "1970-01-01T06:00:04",
          "1970-01-01T05:26:44",
          "1970-01-01T06:00:04",
          "1970-01-01T06:00:04",
          "1970-01-01T05:26:44",
          "1970-01-01T06:00:04",
          "1970-01-01T06:00:04",
          "1970-01-01T06:00:04",
          "1970-01-01T06:48:30",
          "1970-01-01T06:48:30",
          "1970-01-01T06:48:30",
          "1970-01-01T07:36:56",
          "1970-01-01T07:36:56",
          "1970-01-01T06:48:30",
          "1970-01-01T07:36:56",
          "1970-01-01T07:36:56",
          "1970-01-01T07:36:56",
          "1970-01-01T08:25:22",
          "1970-01-01T08:25:22",
          "1970-01-01T08:25:22",
          "1970-01-01T08:58:42",
          "1970-01-01T08:58:42",
          "1970-01-01T08:25:22",
          "1970-01-01T08:58:42",
          "1970-01-01T08:58:42",
          "1970-01-01T08:25:22",
          "1970-01-01T08:58:42",
          "1970-01-01T08:58:42",
          "1970-01-01T08:58:42",
          "1970-01-01T09:47:08",
          "1970-01-01T09:47:08",
          "1970-01-01T09:47:08",
          "1970-01-01T10:35:34",
          "1970-01-01T10:35:34",
          "1970-01-01T09:47:08",
          "1970-01-01T10:35:34",
          "1970-01-01T10:35:34",
          "1970-01-01T10:35:34",
          "1970-01-01T11:24:00",
          "1970-01-01T11:24:00",
          "1970-01-01T11:24:00",
          "1970-01-01T11:57:20",
          "1970-01-01T11:57:20",
          "1970-01-01T11:24:00",
          "1970-01-01T11:57:20",
          "1970-01-01T11:57:20",
          "1970-01-01T11:24:00",
          "1970-01-01T11:57:20",
          "1970-01-01T11:57:20",
          "1970-01-01T11:57:20",
          "1970-01-01T12:45:46",
          "1970-01-01T12:45:46",
          "1970-01-01T12:45:46",
          "1970-01-01T13:34:12",
          "1970-01-01T13:34:12",
          "1970-01-01T12:45:46",
          "1970-01-01T13:34:12",
          "1970-01-01T13:34:12",
          "1970-01-01T13:34:12",
          "1970-01-01T14:22:38",
          "1970-01-01T14:22:38",
          "1970-01-01T14:22:38",
          "1970-01-01T14:55:58",
          "1970-01-01T14:55:58",
          "1970-01-01T14:22:38",
          "1970-01-01T14:55:58",
          "1970-01-01T14:55:58",
          "1970-01-01T14:22:38",
          "1970-01-01T14:55:58",
          "1970-01-01T14:55:58",
          "1970-01-01T14:55:58",
          "1970-01-01T15:44:24",
          "1970-01-01T15:44:24",
          "1970-01-01T15:44:24",
          "1970-01-01T16:32:50",
          "1970-01-01T16:32:50",
          "1970-01-01T15:44:24",
          "1970-01-01T16:32:50",
          "1970-01-01T16:32:50",
          "1970-01-01T16:32:50",
          "1970-01-01T17:21:16",
          "1970-01-01T17:21:16",
          "1970-01-01T17:21:16",
          "1970-01-01T17:54:36",
          "1970-01-01T17:54:36",
          "1970-01-01T17:21:16",
          "1970-01-01T17:54:36",
          "1970-01-01T17:54:36",
          "1970-01-01T17:21:16",
          "1970-01-01T17:54:36",
          "1970-01-01T17:54:36",
          "1970-01-01T17:54:36",
          "1970-01-01T18:43:02",
          "1970-01-01T18:43:02",
          "1970-01-01T18:43:02",
          "1970-01-01T19:31:28",
          "1970-01-01T19:31:28",
          "1970-01-01T18:43:02",
          "1970-01-01T19:31:28",
          "1970-01-01T19:31:28"
         ],
         "y": [
          "Carrier A",
          "Carrier A",
          null,
          "Carrier A",
          "Carrier A",
          null,
          "Cutter T",
          "Cutter T",
          null,
          "Trench",
          "Trench",
          null,
          "Carrier B",
          "Carrier B",
          null,
          "Cutter T",
          "Cutter T",
          null,
          "Trench",
          "Trench",
          null,
          "Barge I",
          "Barge I",
          null,
          "Cutter T",
          "Cutter T",
          null,
          "Trench",
          "Trench",
          null,
          "Carrier C",
          "Carrier C",
          null,
          "Cutter T",
          "Cutter T",
          null,
          "Trench",
          "Trench",
          null,
          "Carrier C",
          "Carrier C",
          null,
          "Carrier C",
          "Carrier C",
          null,
          "Reclamation",
          "Reclamation",
          null,
          "Carrier C",
          "Carrier C",
          null,
          "Carrier C",
          "Carrier C",
          null,
          "Cutter T",
          "Cutter T",
          null,
          "Trench",
          "Trench",
          null,
          "Carrier C",
          "Carrier C",
          null,
          "Carrier C",
          "Carrier C",
          null,
          "Reclamation",
          "Reclamation",
          null,
          "Carrier C",
          "Carrier C",
          null,
          "Carrier C",
          "Carrier C",
          null,
          "Cutter T",
          "Cutter T",
          null,
          "Trench",
          "Trench",
          null,
          "Carrier C",
          "Carrier C",
          null,
          "Carrier C",
          "Carrier C",
          null,
          "Reclamation",
          "Reclamation",
          null,
          "Carrier C",
          "Carrier C",
          null,
          "Carrier C",
          "Carrier C",
          null,
          "Cutter T",
          "Cutter T",
          null,
          "Trench",
          "Trench",
          null,
          "Carrier C",
          "Carrier C",
          null,
          "Carrier C",
          "Carrier C",
          null,
          "Reclamation",
          "Reclamation",
          null,
          "Carrier C",
          "Carrier C",
          null,
          "Carrier C",
          "Carrier C",
          null,
          "Cutter T",
          "Cutter T",
          null,
          "Trench",
          "Trench",
          null,
          "Carrier C",
          "Carrier C",
          null,
          "Carrier C",
          "Carrier C",
          null,
          "Reclamation",
          "Reclamation",
          null,
          "Carrier C",
          "Carrier C",
          null,
          "Carrier C",
          "Carrier C",
          null,
          "Cutter T",
          "Cutter T",
          null,
          "Trench",
          "Trench",
          null,
          "Carrier C",
          "Carrier C",
          null,
          "Carrier C",
          "Carrier C",
          null,
          "Reclamation",
          "Reclamation",
          null
         ]
        },
        {
         "connectgaps": false,
         "hoverinfo": "y+name",
         "line": {
          "color": "rgb(164,71,47)",
          "width": 10
         },
         "mode": "lines",
         "name": "loading:Carrier A",
         "type": "scatter",
         "x": [
          "1970-01-01T00:39:46",
          "1970-01-01T00:39:46",
          "1970-01-01T01:13:06",
          "1970-01-01T01:13:06",
          "1970-01-01T01:13:06",
          "1970-01-01T03:12:24",
          "1970-01-01T03:12:24",
          "1970-01-01T03:45:44",
          "1970-01-01T03:45:44",
          "1970-01-01T03:45:44",
          "1970-01-01T06:00:04",
          "1970-01-01T06:00:04",
          "1970-01-01T06:33:24",
          "1970-01-01T06:33:24",
          "1970-01-01T06:33:24",
          "1970-01-01T08:58:42",
          "1970-01-01T08:58:42",
          "1970-01-01T09:32:02",
          "1970-01-01T09:32:02",
          "1970-01-01T09:32:02",
          "1970-01-01T11:57:20",
          "1970-01-01T11:57:20",
          "1970-01-01T12:30:40",
          "1970-01-01T12:30:40",
          "1970-01-01T12:30:40",
          "1970-01-01T14:55:58",
          "1970-01-01T14:55:58",
          "1970-01-01T15:29:18",
          "1970-01-01T15:29:18",
          "1970-01-01T15:29:18",
          "1970-01-01T00:39:46",
          "1970-01-01T00:39:46",
          "1970-01-01T01:13:06",
          "1970-01-01T01:13:06",
          "1970-01-01T01:13:06",
          "1970-01-01T03:12:24",
          "1970-01-01T03:12:24",
          "1970-01-01T03:45:44",
          "1970-01-01T03:45:44",
          "1970-01-01T03:45:44",
          "1970-01-01T06:00:04",
          "1970-01-01T06:00:04",
          "1970-01-01T06:33:24",
          "1970-01-01T06:33:24",
          "1970-01-01T06:33:24",
          "1970-01-01T08:58:42",
          "1970-01-01T08:58:42",
          "1970-01-01T09:32:02",
          "1970-01-01T09:32:02",
          "1970-01-01T09:32:02",
          "1970-01-01T11:57:20",
          "1970-01-01T11:57:20",
          "1970-01-01T12:30:40",
          "1970-01-01T12:30:40",
          "1970-01-01T12:30:40",
          "1970-01-01T14:55:58",
          "1970-01-01T14:55:58",
          "1970-01-01T15:29:18",
          "1970-01-01T15:29:18",
          "1970-01-01T15:29:18",
          "1970-01-01T00:39:46",
          "1970-01-01T00:39:46",
          "1970-01-01T01:13:06",
          "1970-01-01T01:13:06",
          "1970-01-01T01:13:06",
          "1970-01-01T03:12:24",
          "1970-01-01T03:12:24",
          "1970-01-01T03:45:44",
          "1970-01-01T03:45:44",
          "1970-01-01T03:45:44",
          "1970-01-01T06:00:04",
          "1970-01-01T06:00:04",
          "1970-01-01T06:33:24",
          "1970-01-01T06:33:24",
          "1970-01-01T06:33:24",
          "1970-01-01T08:58:42",
          "1970-01-01T08:58:42",
          "1970-01-01T09:32:02",
          "1970-01-01T09:32:02",
          "1970-01-01T09:32:02",
          "1970-01-01T11:57:20",
          "1970-01-01T11:57:20",
          "1970-01-01T12:30:40",
          "1970-01-01T12:30:40",
          "1970-01-01T12:30:40",
          "1970-01-01T14:55:58",
          "1970-01-01T14:55:58",
          "1970-01-01T15:29:18",
          "1970-01-01T15:29:18",
          "1970-01-01T15:29:18"
         ],
         "y": [
          "Carrier A",
          "Carrier A",
          "Carrier A",
          "Carrier A",
          null,
          "Carrier A",
          "Carrier A",
          "Carrier A",
          "Carrier A",
          null,
          "Carrier A",
          "Carrier A",
          "Carrier A",
          "Carrier A",
          null,
          "Carrier A",
          "Carrier A",
          "Carrier A",
          "Carrier A",
          null,
          "Carrier A",
          "Carrier A",
          "Carrier A",
          "Carrier A",
          null,
          "Carrier A",
          "Carrier A",
          "Carrier A",
          "Carrier A",
          null,
          "Cutter T",
          "Cutter T",
          "Cutter T",
          "Cutter T",
          null,
          "Cutter T",
          "Cutter T",
          "Cutter T",
          "Cutter T",
          null,
          "Cutter T",
          "Cutter T",
          "Cutter T",
          "Cutter T",
          null,
          "Cutter T",
          "Cutter T",
          "Cutter T",
          "Cutter T",
          null,
          "Cutter T",
          "Cutter T",
          "Cutter T",
          "Cutter T",
          null,
          "Cutter T",
          "Cutter T",
          "Cutter T",
          "Cutter T",
          null,
          "Trench",
          "Trench",
          "Trench",
          "Trench",
          null,
          "Trench",
          "Trench",
          "Trench",
          "Trench",
          null,
          "Trench",
          "Trench",
          "Trench",
          "Trench",
          null,
          "Trench",
          "Trench",
          "Trench",
          "Trench",
          null,
          "Trench",
          "Trench",
          "Trench",
          "Trench",
          null,
          "Trench",
          "Trench",
          "Trench",
          "Trench",
          null
         ]
        },
        {
         "connectgaps": false,
         "hoverinfo": "y+name",
         "line": {
          "color": "rgb(173,80,56)",
          "width": 10
         },
         "mode": "lines",
         "name": "unloading:Carrier A",
         "type": "scatter",
         "x": [
          "1970-01-01T01:52:52",
          "1970-01-01T01:52:52",
          "1970-01-01T02:32:38",
          "1970-01-01T02:32:38",
          "1970-01-01T02:32:38",
          "1970-01-01T04:25:30",
          "1970-01-01T04:25:30",
          "1970-01-01T05:05:16",
          "1970-01-01T05:05:16",
          "1970-01-01T05:05:16",
          "1970-01-01T07:13:10",
          "1970-01-01T07:13:10",
          "1970-01-01T07:52:56",
          "1970-01-01T07:52:56",
          "1970-01-01T07:52:56",
          "1970-01-01T10:11:48",
          "1970-01-01T10:11:48",
          "1970-01-01T10:51:34",
          "1970-01-01T10:51:34",
          "1970-01-01T10:51:34",
          "1970-01-01T13:10:26",
          "1970-01-01T13:10:26",
          "1970-01-01T13:50:12",
          "1970-01-01T13:50:12",
          "1970-01-01T13:50:12",
          "1970-01-01T16:09:04",
          "1970-01-01T16:09:04",
          "1970-01-01T16:48:50",
          "1970-01-01T16:48:50",
          "1970-01-01T16:48:50",
          "1970-01-01T01:52:52",
          "1970-01-01T01:52:52",
          "1970-01-01T02:32:38",
          "1970-01-01T02:32:38",
          "1970-01-01T02:32:38",
          "1970-01-01T04:25:30",
          "1970-01-01T04:25:30",
          "1970-01-01T05:05:16",
          "1970-01-01T05:05:16",
          "1970-01-01T05:05:16",
          "1970-01-01T07:13:10",
          "1970-01-01T07:13:10",
          "1970-01-01T07:52:56",
          "1970-01-01T07:52:56",
          "1970-01-01T07:52:56",
          "1970-01-01T10:11:48",
          "1970-01-01T10:11:48",
          "1970-01-01T10:51:34",
          "1970-01-01T10:51:34",
          "1970-01-01T10:51:34",
          "1970-01-01T13:10:26",
          "1970-01-01T13:10:26",
          "1970-01-01T13:50:12",
          "1970-01-01T13:50:12",
          "1970-01-01T13:50:12",
          "1970-01-01T16:09:04",
          "1970-01-01T16:09:04",
          "1970-01-01T16:48:50",
          "1970-01-01T16:48:50",
          "1970-01-01T16:48:50"
         ],
         "y": [
          "Carrier A",
          "Carrier A",
          "Carrier A",
          "Carrier A",
          null,
          "Carrier A",
          "Carrier A",
          "Carrier A",
          "Carrier A",
          null,
          "Carrier A",
          "Carrier A",
          "Carrier A",
          "Carrier A",
          null,
          "Carrier A",
          "Carrier A",
          "Carrier A",
          "Carrier A",
          null,
          "Carrier A",
          "Carrier A",
          "Carrier A",
          "Carrier A",
          null,
          "Carrier A",
          "Carrier A",
          "Carrier A",
          "Carrier A",
          null,
          "Reclamation",
          "Reclamation",
          "Reclamation",
          "Reclamation",
          null,
          "Reclamation",
          "Reclamation",
          "Reclamation",
          "Reclamation",
          null,
          "Reclamation",
          "Reclamation",
          "Reclamation",
          "Reclamation",
          null,
          "Reclamation",
          "Reclamation",
          "Reclamation",
          "Reclamation",
          null,
          "Reclamation",
          "Reclamation",
          "Reclamation",
          "Reclamation",
          null,
          "Reclamation",
          "Reclamation",
          "Reclamation",
          "Reclamation",
          null
         ]
        },
        {
         "connectgaps": false,
         "hoverinfo": "y+name",
         "line": {
          "color": "rgb(182,89,65)",
          "width": 10
         },
         "mode": "lines",
         "name": "sailing empty:Carrier A",
         "type": "scatter",
         "x": [
          "1970-01-01T00:00:00",
          "1970-01-01T00:00:00",
          "1970-01-01T00:39:46",
          "1970-01-01T00:39:46",
          "1970-01-01T00:39:46",
          "1970-01-01T02:32:38",
          "1970-01-01T02:32:38",
          "1970-01-01T03:12:24",
          "1970-01-01T03:12:24",
          "1970-01-01T03:12:24",
          "1970-01-01T05:05:16",
          "1970-01-01T05:05:16",
          "1970-01-01T05:45:02",
          "1970-01-01T05:45:02",
          "1970-01-01T05:45:02",
          "1970-01-01T07:52:56",
          "1970-01-01T07:52:56",
          "1970-01-01T08:32:42",
          "1970-01-01T08:32:42",
          "1970-01-01T08:32:42",
          "1970-01-01T10:51:34",
          "1970-01-01T10:51:34",
          "1970-01-01T11:31:20",
          "1970-01-01T11:31:20",
          "1970-01-01T11:31:20",
          "1970-01-01T13:50:12",
          "1970-01-01T13:50:12",
          "1970-01-01T14:29:58",
          "1970-01-01T14:29:58",
          "1970-01-01T14:29:58"
         ],
         "y": [
          "Carrier A",
          "Carrier A",
          "Carrier A",
          "Carrier A",
          null,
          "Carrier A",
          "Carrier A",
          "Carrier A",
          "Carrier A",
          null,
          "Carrier A",
          "Carrier A",
          "Carrier A",
          "Carrier A",
          null,
          "Carrier A",
          "Carrier A",
          "Carrier A",
          "Carrier A",
          null,
          "Carrier A",
          "Carrier A",
          "Carrier A",
          "Carrier A",
          null,
          "Carrier A",
          "Carrier A",
          "Carrier A",
          "Carrier A",
          null
         ]
        },
        {
         "connectgaps": false,
         "hoverinfo": "y+name",
         "line": {
          "color": "rgb(191,98,74)",
          "width": 10
         },
         "mode": "lines",
         "name": "sailing full:Carrier A",
         "type": "scatter",
         "x": [
          "1970-01-01T01:13:06",
          "1970-01-01T01:13:06",
          "1970-01-01T01:52:52",
          "1970-01-01T01:52:52",
          "1970-01-01T01:52:52",
          "1970-01-01T03:45:44",
          "1970-01-01T03:45:44",
          "1970-01-01T04:25:30",
          "1970-01-01T04:25:30",
          "1970-01-01T04:25:30",
          "1970-01-01T06:33:24",
          "1970-01-01T06:33:24",
          "1970-01-01T07:13:10",
          "1970-01-01T07:13:10",
          "1970-01-01T07:13:10",
          "1970-01-01T09:32:02",
          "1970-01-01T09:32:02",
          "1970-01-01T10:11:48",
          "1970-01-01T10:11:48",
          "1970-01-01T10:11:48",
          "1970-01-01T12:30:40",
          "1970-01-01T12:30:40",
          "1970-01-01T13:10:26",
          "1970-01-01T13:10:26",
          "1970-01-01T13:10:26",
          "1970-01-01T15:29:18",
          "1970-01-01T15:29:18",
          "1970-01-01T16:09:04",
          "1970-01-01T16:09:04",
          "1970-01-01T16:09:04"
         ],
         "y": [
          "Carrier A",
          "Carrier A",
          "Carrier A",
          "Carrier A",
          null,
          "Carrier A",
          "Carrier A",
          "Carrier A",
          "Carrier A",
          null,
          "Carrier A",
          "Carrier A",
          "Carrier A",
          "Carrier A",
          null,
          "Carrier A",
          "Carrier A",
          "Carrier A",
          "Carrier A",
          null,
          "Carrier A",
          "Carrier A",
          "Carrier A",
          "Carrier A",
          null,
          "Carrier A",
          "Carrier A",
          "Carrier A",
          "Carrier A",
          null
         ]
        },
        {
         "connectgaps": false,
         "hoverinfo": "y+name",
         "line": {
          "color": "rgb(200,107,83)",
          "width": 10
         },
         "mode": "lines",
         "name": "unloading:Carrier B",
         "type": "scatter",
         "x": [
          "1970-01-01T02:29:18",
          "1970-01-01T02:29:18",
          "1970-01-01T03:12:10",
          "1970-01-01T03:12:10",
          "1970-01-01T03:12:10",
          "1970-01-01T05:11:14",
          "1970-01-01T05:11:14",
          "1970-01-01T05:54:06",
          "1970-01-01T05:54:06",
          "1970-01-01T05:54:06",
          "1970-01-01T07:53:10",
          "1970-01-01T07:53:10",
          "1970-01-01T08:36:02",
          "1970-01-01T08:36:02",
          "1970-01-01T08:36:02",
          "1970-01-01T10:48:14",
          "1970-01-01T10:48:14",
          "1970-01-01T11:31:06",
          "1970-01-01T11:31:06",
          "1970-01-01T11:31:06",
          "1970-01-01T13:46:52",
          "1970-01-01T13:46:52",
          "1970-01-01T14:29:44",
          "1970-01-01T14:29:44",
          "1970-01-01T14:29:44",
          "1970-01-01T16:45:30",
          "1970-01-01T16:45:30",
          "1970-01-01T17:28:22",
          "1970-01-01T17:28:22",
          "1970-01-01T17:28:22",
          "1970-01-01T02:29:18",
          "1970-01-01T02:29:18",
          "1970-01-01T03:12:10",
          "1970-01-01T03:12:10",
          "1970-01-01T03:12:10",
          "1970-01-01T05:11:14",
          "1970-01-01T05:11:14",
          "1970-01-01T05:54:06",
          "1970-01-01T05:54:06",
          "1970-01-01T05:54:06",
          "1970-01-01T07:53:10",
          "1970-01-01T07:53:10",
          "1970-01-01T08:36:02",
          "1970-01-01T08:36:02",
          "1970-01-01T08:36:02",
          "1970-01-01T10:48:14",
          "1970-01-01T10:48:14",
          "1970-01-01T11:31:06",
          "1970-01-01T11:31:06",
          "1970-01-01T11:31:06",
          "1970-01-01T13:46:52",
          "1970-01-01T13:46:52",
          "1970-01-01T14:29:44",
          "1970-01-01T14:29:44",
          "1970-01-01T14:29:44",
          "1970-01-01T16:45:30",
          "1970-01-01T16:45:30",
          "1970-01-01T17:28:22",
          "1970-01-01T17:28:22",
          "1970-01-01T17:28:22"
         ],
         "y": [
          "Carrier B",
          "Carrier B",
          "Carrier B",
          "Carrier B",
          null,
          "Carrier B",
          "Carrier B",
          "Carrier B",
          "Carrier B",
          null,
          "Carrier B",
          "Carrier B",
          "Carrier B",
          "Carrier B",
          null,
          "Carrier B",
          "Carrier B",
          "Carrier B",
          "Carrier B",
          null,
          "Carrier B",
          "Carrier B",
          "Carrier B",
          "Carrier B",
          null,
          "Carrier B",
          "Carrier B",
          "Carrier B",
          "Carrier B",
          null,
          "Reclamation",
          "Reclamation",
          "Reclamation",
          "Reclamation",
          null,
          "Reclamation",
          "Reclamation",
          "Reclamation",
          "Reclamation",
          null,
          "Reclamation",
          "Reclamation",
          "Reclamation",
          "Reclamation",
          null,
          "Reclamation",
          "Reclamation",
          "Reclamation",
          "Reclamation",
          null,
          "Reclamation",
          "Reclamation",
          "Reclamation",
          "Reclamation",
          null,
          "Reclamation",
          "Reclamation",
          "Reclamation",
          "Reclamation",
          null
         ]
        },
        {
         "connectgaps": false,
         "hoverinfo": "y+name",
         "line": {
          "color": "rgb(209,116,92)",
          "width": 10
         },
         "mode": "lines",
         "name": "sailing full:Carrier B",
         "type": "scatter",
         "x": [
          "1970-01-01T01:46:26",
          "1970-01-01T01:46:26",
          "1970-01-01T02:29:18",
          "1970-01-01T02:29:18",
          "1970-01-01T02:29:18",
          "1970-01-01T04:28:22",
          "1970-01-01T04:28:22",
          "1970-01-01T05:11:14",
          "1970-01-01T05:11:14",
          "1970-01-01T05:11:14",
          "1970-01-01T07:10:18",
          "1970-01-01T07:10:18",
          "1970-01-01T07:53:10",
          "1970-01-01T07:53:10",
          "1970-01-01T07:53:10",
          "1970-01-01T10:05:22",
          "1970-01-01T10:05:22",
          "1970-01-01T10:48:14",
          "1970-01-01T10:48:14",
          "1970-01-01T10:48:14",
          "1970-01-01T13:04:00",
          "1970-01-01T13:04:00",
          "1970-01-01T13:46:52",
          "1970-01-01T13:46:52",
          "1970-01-01T13:46:52",
          "1970-01-01T16:02:38",
          "1970-01-01T16:02:38",
          "1970-01-01T16:45:30",
          "1970-01-01T16:45:30",
          "1970-01-01T16:45:30"
         ],
         "y": [
          "Carrier B",
          "Carrier B",
          "Carrier B",
          "Carrier B",
          null,
          "Carrier B",
          "Carrier B",
          "Carrier B",
          "Carrier B",
          null,
          "Carrier B",
          "Carrier B",
          "Carrier B",
          "Carrier B",
          null,
          "Carrier B",
          "Carrier B",
          "Carrier B",
          "Carrier B",
          null,
          "Carrier B",
          "Carrier B",
          "Carrier B",
          "Carrier B",
          null,
          "Carrier B",
          "Carrier B",
          "Carrier B",
          "Carrier B",
          null
         ]
        },
        {
         "connectgaps": false,
         "hoverinfo": "y+name",
         "line": {
          "color": "rgb(218,125,101)",
          "width": 10
         },
         "mode": "lines",
         "name": "loading:Carrier B",
         "type": "scatter",
         "x": [
          "1970-01-01T01:13:06",
          "1970-01-01T01:13:06",
          "1970-01-01T01:46:26",
          "1970-01-01T01:46:26",
          "1970-01-01T01:46:26",
          "1970-01-01T03:55:02",
          "1970-01-01T03:55:02",
          "1970-01-01T04:28:22",
          "1970-01-01T04:28:22",
          "1970-01-01T04:28:22",
          "1970-01-01T06:36:58",
          "1970-01-01T06:36:58",
          "1970-01-01T07:10:18",
          "1970-01-01T07:10:18",
          "1970-01-01T07:10:18",
          "1970-01-01T09:32:02",
          "1970-01-01T09:32:02",
          "1970-01-01T10:05:22",
          "1970-01-01T10:05:22",
          "1970-01-01T10:05:22",
          "1970-01-01T12:30:40",
          "1970-01-01T12:30:40",
          "1970-01-01T13:04:00",
          "1970-01-01T13:04:00",
          "1970-01-01T13:04:00",
          "1970-01-01T15:29:18",
          "1970-01-01T15:29:18",
          "1970-01-01T16:02:38",
          "1970-01-01T16:02:38",
          "1970-01-01T16:02:38",
          "1970-01-01T01:13:06",
          "1970-01-01T01:13:06",
          "1970-01-01T01:46:26",
          "1970-01-01T01:46:26",
          "1970-01-01T01:46:26",
          "1970-01-01T03:55:02",
          "1970-01-01T03:55:02",
          "1970-01-01T04:28:22",
          "1970-01-01T04:28:22",
          "1970-01-01T04:28:22",
          "1970-01-01T06:36:58",
          "1970-01-01T06:36:58",
          "1970-01-01T07:10:18",
          "1970-01-01T07:10:18",
          "1970-01-01T07:10:18",
          "1970-01-01T09:32:02",
          "1970-01-01T09:32:02",
          "1970-01-01T10:05:22",
          "1970-01-01T10:05:22",
          "1970-01-01T10:05:22",
          "1970-01-01T12:30:40",
          "1970-01-01T12:30:40",
          "1970-01-01T13:04:00",
          "1970-01-01T13:04:00",
          "1970-01-01T13:04:00",
          "1970-01-01T15:29:18",
          "1970-01-01T15:29:18",
          "1970-01-01T16:02:38",
          "1970-01-01T16:02:38",
          "1970-01-01T16:02:38",
          "1970-01-01T01:13:06",
          "1970-01-01T01:13:06",
          "1970-01-01T01:46:26",
          "1970-01-01T01:46:26",
          "1970-01-01T01:46:26",
          "1970-01-01T03:55:02",
          "1970-01-01T03:55:02",
          "1970-01-01T04:28:22",
          "1970-01-01T04:28:22",
          "1970-01-01T04:28:22",
          "1970-01-01T06:36:58",
          "1970-01-01T06:36:58",
          "1970-01-01T07:10:18",
          "1970-01-01T07:10:18",
          "1970-01-01T07:10:18",
          "1970-01-01T09:32:02",
          "1970-01-01T09:32:02",
          "1970-01-01T10:05:22",
          "1970-01-01T10:05:22",
          "1970-01-01T10:05:22",
          "1970-01-01T12:30:40",
          "1970-01-01T12:30:40",
          "1970-01-01T13:04:00",
          "1970-01-01T13:04:00",
          "1970-01-01T13:04:00",
          "1970-01-01T15:29:18",
          "1970-01-01T15:29:18",
          "1970-01-01T16:02:38",
          "1970-01-01T16:02:38",
          "1970-01-01T16:02:38"
         ],
         "y": [
          "Carrier B",
          "Carrier B",
          "Carrier B",
          "Carrier B",
          null,
          "Carrier B",
          "Carrier B",
          "Carrier B",
          "Carrier B",
          null,
          "Carrier B",
          "Carrier B",
          "Carrier B",
          "Carrier B",
          null,
          "Carrier B",
          "Carrier B",
          "Carrier B",
          "Carrier B",
          null,
          "Carrier B",
          "Carrier B",
          "Carrier B",
          "Carrier B",
          null,
          "Carrier B",
          "Carrier B",
          "Carrier B",
          "Carrier B",
          null,
          "Cutter T",
          "Cutter T",
          "Cutter T",
          "Cutter T",
          null,
          "Cutter T",
          "Cutter T",
          "Cutter T",
          "Cutter T",
          null,
          "Cutter T",
          "Cutter T",
          "Cutter T",
          "Cutter T",
          null,
          "Cutter T",
          "Cutter T",
          "Cutter T",
          "Cutter T",
          null,
          "Cutter T",
          "Cutter T",
          "Cutter T",
          "Cutter T",
          null,
          "Cutter T",
          "Cutter T",
          "Cutter T",
          "Cutter T",
          null,
          "Trench",
          "Trench",
          "Trench",
          "Trench",
          null,
          "Trench",
          "Trench",
          "Trench",
          "Trench",
          null,
          "Trench",
          "Trench",
          "Trench",
          "Trench",
          null,
          "Trench",
          "Trench",
          "Trench",
          "Trench",
          null,
          "Trench",
          "Trench",
          "Trench",
          "Trench",
          null,
          "Trench",
          "Trench",
          "Trench",
          "Trench",
          null
         ]
        },
        {
         "connectgaps": false,
         "hoverinfo": "y+name",
         "line": {
          "color": "rgb(227,134,110)",
          "width": 10
         },
         "mode": "lines",
         "name": "sailing empty:Carrier B",
         "type": "scatter",
         "x": [
          "1970-01-01T00:00:00",
          "1970-01-01T00:00:00",
          "1970-01-01T00:42:52",
          "1970-01-01T00:42:52",
          "1970-01-01T00:42:52",
          "1970-01-01T03:12:10",
          "1970-01-01T03:12:10",
          "1970-01-01T03:55:02",
          "1970-01-01T03:55:02",
          "1970-01-01T03:55:02",
          "1970-01-01T05:54:06",
          "1970-01-01T05:54:06",
          "1970-01-01T06:36:58",
          "1970-01-01T06:36:58",
          "1970-01-01T06:36:58",
          "1970-01-01T08:36:02",
          "1970-01-01T08:36:02",
          "1970-01-01T09:18:54",
          "1970-01-01T09:18:54",
          "1970-01-01T09:18:54",
          "1970-01-01T11:31:06",
          "1970-01-01T11:31:06",
          "1970-01-01T12:13:58",
          "1970-01-01T12:13:58",
          "1970-01-01T12:13:58",
          "1970-01-01T14:29:44",
          "1970-01-01T14:29:44",
          "1970-01-01T15:12:36",
          "1970-01-01T15:12:36",
          "1970-01-01T15:12:36"
         ],
         "y": [
          "Carrier B",
          "Carrier B",
          "Carrier B",
          "Carrier B",
          null,
          "Carrier B",
          "Carrier B",
          "Carrier B",
          "Carrier B",
          null,
          "Carrier B",
          "Carrier B",
          "Carrier B",
          "Carrier B",
          null,
          "Carrier B",
          "Carrier B",
          "Carrier B",
          "Carrier B",
          null,
          "Carrier B",
          "Carrier B",
          "Carrier B",
          "Carrier B",
          null,
          "Carrier B",
          "Carrier B",
          "Carrier B",
          "Carrier B",
          null
         ]
        },
        {
         "connectgaps": false,
         "hoverinfo": "y+name",
         "line": {
          "color": "rgb(236,143,119)",
          "width": 10
         },
         "mode": "lines",
         "name": "sailing empty:Carrier C",
         "type": "scatter",
         "x": [
          "1970-01-01T00:00:00",
          "1970-01-01T00:00:00",
          "1970-01-01T00:48:26",
          "1970-01-01T00:48:26",
          "1970-01-01T00:48:26",
          "1970-01-01T04:38:18",
          "1970-01-01T04:38:18",
          "1970-01-01T05:26:44",
          "1970-01-01T05:26:44",
          "1970-01-01T05:26:44",
          "1970-01-01T07:36:56",
          "1970-01-01T07:36:56",
          "1970-01-01T08:25:22",
          "1970-01-01T08:25:22",
          "1970-01-01T08:25:22",
          "1970-01-01T10:35:34",
          "1970-01-01T10:35:34",
          "1970-01-01T11:24:00",
          "1970-01-01T11:24:00",
          "1970-01-01T11:24:00",
          "1970-01-01T13:34:12",
          "1970-01-01T13:34:12",
          "1970-01-01T14:22:38",
          "1970-01-01T14:22:38",
          "1970-01-01T14:22:38",
          "1970-01-01T16:32:50",
          "1970-01-01T16:32:50",
          "1970-01-01T17:21:16",
          "1970-01-01T17:21:16",
          "1970-01-01T17:21:16"
         ],
         "y": [
          "Carrier C",
          "Carrier C",
          "Carrier C",
          "Carrier C",
          null,
          "Carrier C",
          "Carrier C",
          "Carrier C",
          "Carrier C",
          null,
          "Carrier C",
          "Carrier C",
          "Carrier C",
          "Carrier C",
          null,
          "Carrier C",
          "Carrier C",
          "Carrier C",
          "Carrier C",
          null,
          "Carrier C",
          "Carrier C",
          "Carrier C",
          "Carrier C",
          null,
          "Carrier C",
          "Carrier C",
          "Carrier C",
          "Carrier C",
          null
         ]
        },
        {
         "connectgaps": false,
         "hoverinfo": "y+name",
         "line": {
          "color": "rgb(245,152,128)",
          "width": 10
         },
         "mode": "lines",
         "name": "unloading:Carrier C",
         "type": "scatter",
         "x": [
          "1970-01-01T03:49:52",
          "1970-01-01T03:49:52",
          "1970-01-01T04:38:18",
          "1970-01-01T04:38:18",
          "1970-01-01T04:38:18",
          "1970-01-01T06:48:30",
          "1970-01-01T06:48:30",
          "1970-01-01T07:36:56",
          "1970-01-01T07:36:56",
          "1970-01-01T07:36:56",
          "1970-01-01T09:47:08",
          "1970-01-01T09:47:08",
          "1970-01-01T10:35:34",
          "1970-01-01T10:35:34",
          "1970-01-01T10:35:34",
          "1970-01-01T12:45:46",
          "1970-01-01T12:45:46",
          "1970-01-01T13:34:12",
          "1970-01-01T13:34:12",
          "1970-01-01T13:34:12",
          "1970-01-01T15:44:24",
          "1970-01-01T15:44:24",
          "1970-01-01T16:32:50",
          "1970-01-01T16:32:50",
          "1970-01-01T16:32:50",
          "1970-01-01T18:43:02",
          "1970-01-01T18:43:02",
          "1970-01-01T19:31:28",
          "1970-01-01T19:31:28",
          "1970-01-01T19:31:28",
          "1970-01-01T03:49:52",
          "1970-01-01T03:49:52",
          "1970-01-01T04:38:18",
          "1970-01-01T04:38:18",
          "1970-01-01T04:38:18",
          "1970-01-01T06:48:30",
          "1970-01-01T06:48:30",
          "1970-01-01T07:36:56",
          "1970-01-01T07:36:56",
          "1970-01-01T07:36:56",
          "1970-01-01T09:47:08",
          "1970-01-01T09:47:08",
          "1970-01-01T10:35:34",
          "1970-01-01T10:35:34",
          "1970-01-01T10:35:34",
          "1970-01-01T12:45:46",
          "1970-01-01T12:45:46",
          "1970-01-01T13:34:12",
          "1970-01-01T13:34:12",
          "1970-01-01T13:34:12",
          "1970-01-01T15:44:24",
          "1970-01-01T15:44:24",
          "1970-01-01T16:32:50",
          "1970-01-01T16:32:50",
          "1970-01-01T16:32:50",
          "1970-01-01T18:43:02",
          "1970-01-01T18:43:02",
          "1970-01-01T19:31:28",
          "1970-01-01T19:31:28",
          "1970-01-01T19:31:28"
         ],
         "y": [
          "Carrier C",
          "Carrier C",
          "Carrier C",
          "Carrier C",
          null,
          "Carrier C",
          "Carrier C",
          "Carrier C",
          "Carrier C",
          null,
          "Carrier C",
          "Carrier C",
          "Carrier C",
          "Carrier C",
          null,
          "Carrier C",
          "Carrier C",
          "Carrier C",
          "Carrier C",
          null,
          "Carrier C",
          "Carrier C",
          "Carrier C",
          "Carrier C",
          null,
          "Carrier C",
          "Carrier C",
          "Carrier C",
          "Carrier C",
          null,
          "Reclamation",
          "Reclamation",
          "Reclamation",
          "Reclamation",
          null,
          "Reclamation",
          "Reclamation",
          "Reclamation",
          "Reclamation",
          null,
          "Reclamation",
          "Reclamation",
          "Reclamation",
          "Reclamation",
          null,
          "Reclamation",
          "Reclamation",
          "Reclamation",
          "Reclamation",
          null,
          "Reclamation",
          "Reclamation",
          "Reclamation",
          "Reclamation",
          null,
          "Reclamation",
          "Reclamation",
          "Reclamation",
          "Reclamation",
          null
         ]
        },
        {
         "connectgaps": false,
         "hoverinfo": "y+name",
         "line": {
          "color": "rgb(254,161,137)",
          "width": 10
         },
         "mode": "lines",
         "name": "sailing full:Carrier C",
         "type": "scatter",
         "x": [
          "1970-01-01T03:01:26",
          "1970-01-01T03:01:26",
          "1970-01-01T03:49:52",
          "1970-01-01T03:49:52",
          "1970-01-01T03:49:52",
          "1970-01-01T06:00:04",
          "1970-01-01T06:00:04",
          "1970-01-01T06:48:30",
          "1970-01-01T06:48:30",
          "1970-01-01T06:48:30",
          "1970-01-01T08:58:42",
          "1970-01-01T08:58:42",
          "1970-01-01T09:47:08",
          "1970-01-01T09:47:08",
          "1970-01-01T09:47:08",
          "1970-01-01T11:57:20",
          "1970-01-01T11:57:20",
          "1970-01-01T12:45:46",
          "1970-01-01T12:45:46",
          "1970-01-01T12:45:46",
          "1970-01-01T14:55:58",
          "1970-01-01T14:55:58",
          "1970-01-01T15:44:24",
          "1970-01-01T15:44:24",
          "1970-01-01T15:44:24",
          "1970-01-01T17:54:36",
          "1970-01-01T17:54:36",
          "1970-01-01T18:43:02",
          "1970-01-01T18:43:02",
          "1970-01-01T18:43:02"
         ],
         "y": [
          "Carrier C",
          "Carrier C",
          "Carrier C",
          "Carrier C",
          null,
          "Carrier C",
          "Carrier C",
          "Carrier C",
          "Carrier C",
          null,
          "Carrier C",
          "Carrier C",
          "Carrier C",
          "Carrier C",
          null,
          "Carrier C",
          "Carrier C",
          "Carrier C",
          "Carrier C",
          null,
          "Carrier C",
          "Carrier C",
          "Carrier C",
          "Carrier C",
          null,
          "Carrier C",
          "Carrier C",
          "Carrier C",
          "Carrier C",
          null
         ]
        },
        {
         "connectgaps": false,
         "hoverinfo": "y+name",
         "line": {
          "color": "rgb(7,170,146)",
          "width": 10
         },
         "mode": "lines",
         "name": "loading:Carrier C",
         "type": "scatter",
         "x": [
          "1970-01-01T02:28:06",
          "1970-01-01T02:28:06",
          "1970-01-01T03:01:26",
          "1970-01-01T03:01:26",
          "1970-01-01T03:01:26",
          "1970-01-01T05:26:44",
          "1970-01-01T05:26:44",
          "1970-01-01T06:00:04",
          "1970-01-01T06:00:04",
          "1970-01-01T06:00:04",
          "1970-01-01T08:25:22",
          "1970-01-01T08:25:22",
          "1970-01-01T08:58:42",
          "1970-01-01T08:58:42",
          "1970-01-01T08:58:42",
          "1970-01-01T11:24:00",
          "1970-01-01T11:24:00",
          "1970-01-01T11:57:20",
          "1970-01-01T11:57:20",
          "1970-01-01T11:57:20",
          "1970-01-01T14:22:38",
          "1970-01-01T14:22:38",
          "1970-01-01T14:55:58",
          "1970-01-01T14:55:58",
          "1970-01-01T14:55:58",
          "1970-01-01T17:21:16",
          "1970-01-01T17:21:16",
          "1970-01-01T17:54:36",
          "1970-01-01T17:54:36",
          "1970-01-01T17:54:36",
          "1970-01-01T02:28:06",
          "1970-01-01T02:28:06",
          "1970-01-01T03:01:26",
          "1970-01-01T03:01:26",
          "1970-01-01T03:01:26",
          "1970-01-01T05:26:44",
          "1970-01-01T05:26:44",
          "1970-01-01T06:00:04",
          "1970-01-01T06:00:04",
          "1970-01-01T06:00:04",
          "1970-01-01T08:25:22",
          "1970-01-01T08:25:22",
          "1970-01-01T08:58:42",
          "1970-01-01T08:58:42",
          "1970-01-01T08:58:42",
          "1970-01-01T11:24:00",
          "1970-01-01T11:24:00",
          "1970-01-01T11:57:20",
          "1970-01-01T11:57:20",
          "1970-01-01T11:57:20",
          "1970-01-01T14:22:38",
          "1970-01-01T14:22:38",
          "1970-01-01T14:55:58",
          "1970-01-01T14:55:58",
          "1970-01-01T14:55:58",
          "1970-01-01T17:21:16",
          "1970-01-01T17:21:16",
          "1970-01-01T17:54:36",
          "1970-01-01T17:54:36",
          "1970-01-01T17:54:36",
          "1970-01-01T02:28:06",
          "1970-01-01T02:28:06",
          "1970-01-01T03:01:26",
          "1970-01-01T03:01:26",
          "1970-01-01T03:01:26",
          "1970-01-01T05:26:44",
          "1970-01-01T05:26:44",
          "1970-01-01T06:00:04",
          "1970-01-01T06:00:04",
          "1970-01-01T06:00:04",
          "1970-01-01T08:25:22",
          "1970-01-01T08:25:22",
          "1970-01-01T08:58:42",
          "1970-01-01T08:58:42",
          "1970-01-01T08:58:42",
          "1970-01-01T11:24:00",
          "1970-01-01T11:24:00",
          "1970-01-01T11:57:20",
          "1970-01-01T11:57:20",
          "1970-01-01T11:57:20",
          "1970-01-01T14:22:38",
          "1970-01-01T14:22:38",
          "1970-01-01T14:55:58",
          "1970-01-01T14:55:58",
          "1970-01-01T14:55:58",
          "1970-01-01T17:21:16",
          "1970-01-01T17:21:16",
          "1970-01-01T17:54:36",
          "1970-01-01T17:54:36",
          "1970-01-01T17:54:36"
         ],
         "y": [
          "Carrier C",
          "Carrier C",
          "Carrier C",
          "Carrier C",
          null,
          "Carrier C",
          "Carrier C",
          "Carrier C",
          "Carrier C",
          null,
          "Carrier C",
          "Carrier C",
          "Carrier C",
          "Carrier C",
          null,
          "Carrier C",
          "Carrier C",
          "Carrier C",
          "Carrier C",
          null,
          "Carrier C",
          "Carrier C",
          "Carrier C",
          "Carrier C",
          null,
          "Carrier C",
          "Carrier C",
          "Carrier C",
          "Carrier C",
          null,
          "Cutter T",
          "Cutter T",
          "Cutter T",
          "Cutter T",
          null,
          "Cutter T",
          "Cutter T",
          "Cutter T",
          "Cutter T",
          null,
          "Cutter T",
          "Cutter T",
          "Cutter T",
          "Cutter T",
          null,
          "Cutter T",
          "Cutter T",
          "Cutter T",
          "Cutter T",
          null,
          "Cutter T",
          "Cutter T",
          "Cutter T",
          "Cutter T",
          null,
          "Cutter T",
          "Cutter T",
          "Cutter T",
          "Cutter T",
          null,
          "Trench",
          "Trench",
          "Trench",
          "Trench",
          null,
          "Trench",
          "Trench",
          "Trench",
          "Trench",
          null,
          "Trench",
          "Trench",
          "Trench",
          "Trench",
          null,
          "Trench",
          "Trench",
          "Trench",
          "Trench",
          null,
          "Trench",
          "Trench",
          "Trench",
          "Trench",
          null,
          "Trench",
          "Trench",
          "Trench",
          "Trench",
          null
         ]
        },
        {
         "connectgaps": false,
         "hoverinfo": "y+name",
         "line": {
          "color": "rgb(16,179,155)",
          "width": 10
         },
         "mode": "lines",
         "name": "sailing empty:Barge I",
         "type": "scatter",
         "x": [
          "1970-01-01T00:00:00",
          "1970-01-01T00:00:00",
          "1970-01-01T00:45:35",
          "1970-01-01T00:45:35",
          "1970-01-01T00:45:35",
          "1970-01-01T03:59:16",
          "1970-01-01T03:59:16",
          "1970-01-01T04:44:51",
          "1970-01-01T04:44:51",
          "1970-01-01T04:44:51",
          "1970-01-01T06:57:41",
          "1970-01-01T06:57:41",
          "1970-01-01T07:43:16",
          "1970-01-01T07:43:16",
          "1970-01-01T07:43:16",
          "1970-01-01T09:56:06",
          "1970-01-01T09:56:06",
          "1970-01-01T10:41:41",
          "1970-01-01T10:41:41",
          "1970-01-01T10:41:41",
          "1970-01-01T12:54:31",
          "1970-01-01T12:54:31",
          "1970-01-01T13:40:06",
          "1970-01-01T13:40:06",
          "1970-01-01T13:40:06",
          "1970-01-01T15:52:56",
          "1970-01-01T15:52:56",
          "1970-01-01T16:38:31",
          "1970-01-01T16:38:31",
          "1970-01-01T16:38:31"
         ],
         "y": [
          "Barge I",
          "Barge I",
          "Barge I",
          "Barge I",
          null,
          "Barge I",
          "Barge I",
          "Barge I",
          "Barge I",
          null,
          "Barge I",
          "Barge I",
          "Barge I",
          "Barge I",
          null,
          "Barge I",
          "Barge I",
          "Barge I",
          "Barge I",
          null,
          "Barge I",
          "Barge I",
          "Barge I",
          "Barge I",
          null,
          "Barge I",
          "Barge I",
          "Barge I",
          "Barge I",
          null
         ]
        },
        {
         "connectgaps": false,
         "hoverinfo": "y+name",
         "line": {
          "color": "rgb(25,188,164)",
          "width": 10
         },
         "mode": "lines",
         "name": "loading:Barge I",
         "type": "scatter",
         "x": [
          "1970-01-01T01:46:26",
          "1970-01-01T01:46:26",
          "1970-01-01T02:28:06",
          "1970-01-01T02:28:06",
          "1970-01-01T02:28:06",
          "1970-01-01T04:44:51",
          "1970-01-01T04:44:51",
          "1970-01-01T05:26:31",
          "1970-01-01T05:26:31",
          "1970-01-01T05:26:31",
          "1970-01-01T07:43:16",
          "1970-01-01T07:43:16",
          "1970-01-01T08:24:56",
          "1970-01-01T08:24:56",
          "1970-01-01T08:24:56",
          "1970-01-01T10:41:41",
          "1970-01-01T10:41:41",
          "1970-01-01T11:23:21",
          "1970-01-01T11:23:21",
          "1970-01-01T11:23:21",
          "1970-01-01T13:40:06",
          "1970-01-01T13:40:06",
          "1970-01-01T14:21:46",
          "1970-01-01T14:21:46",
          "1970-01-01T14:21:46",
          "1970-01-01T16:38:31",
          "1970-01-01T16:38:31",
          "1970-01-01T17:20:11",
          "1970-01-01T17:20:11",
          "1970-01-01T17:20:11",
          "1970-01-01T01:46:26",
          "1970-01-01T01:46:26",
          "1970-01-01T02:28:06",
          "1970-01-01T02:28:06",
          "1970-01-01T02:28:06",
          "1970-01-01T04:44:51",
          "1970-01-01T04:44:51",
          "1970-01-01T05:26:31",
          "1970-01-01T05:26:31",
          "1970-01-01T05:26:31",
          "1970-01-01T07:43:16",
          "1970-01-01T07:43:16",
          "1970-01-01T08:24:56",
          "1970-01-01T08:24:56",
          "1970-01-01T08:24:56",
          "1970-01-01T10:41:41",
          "1970-01-01T10:41:41",
          "1970-01-01T11:23:21",
          "1970-01-01T11:23:21",
          "1970-01-01T11:23:21",
          "1970-01-01T13:40:06",
          "1970-01-01T13:40:06",
          "1970-01-01T14:21:46",
          "1970-01-01T14:21:46",
          "1970-01-01T14:21:46",
          "1970-01-01T16:38:31",
          "1970-01-01T16:38:31",
          "1970-01-01T17:20:11",
          "1970-01-01T17:20:11",
          "1970-01-01T17:20:11",
          "1970-01-01T01:46:26",
          "1970-01-01T01:46:26",
          "1970-01-01T02:28:06",
          "1970-01-01T02:28:06",
          "1970-01-01T02:28:06",
          "1970-01-01T04:44:51",
          "1970-01-01T04:44:51",
          "1970-01-01T05:26:31",
          "1970-01-01T05:26:31",
          "1970-01-01T05:26:31",
          "1970-01-01T07:43:16",
          "1970-01-01T07:43:16",
          "1970-01-01T08:24:56",
          "1970-01-01T08:24:56",
          "1970-01-01T08:24:56",
          "1970-01-01T10:41:41",
          "1970-01-01T10:41:41",
          "1970-01-01T11:23:21",
          "1970-01-01T11:23:21",
          "1970-01-01T11:23:21",
          "1970-01-01T13:40:06",
          "1970-01-01T13:40:06",
          "1970-01-01T14:21:46",
          "1970-01-01T14:21:46",
          "1970-01-01T14:21:46",
          "1970-01-01T16:38:31",
          "1970-01-01T16:38:31",
          "1970-01-01T17:20:11",
          "1970-01-01T17:20:11",
          "1970-01-01T17:20:11"
         ],
         "y": [
          "Barge I",
          "Barge I",
          "Barge I",
          "Barge I",
          null,
          "Barge I",
          "Barge I",
          "Barge I",
          "Barge I",
          null,
          "Barge I",
          "Barge I",
          "Barge I",
          "Barge I",
          null,
          "Barge I",
          "Barge I",
          "Barge I",
          "Barge I",
          null,
          "Barge I",
          "Barge I",
          "Barge I",
          "Barge I",
          null,
          "Barge I",
          "Barge I",
          "Barge I",
          "Barge I",
          null,
          "Cutter T",
          "Cutter T",
          "Cutter T",
          "Cutter T",
          null,
          "Cutter T",
          "Cutter T",
          "Cutter T",
          "Cutter T",
          null,
          "Cutter T",
          "Cutter T",
          "Cutter T",
          "Cutter T",
          null,
          "Cutter T",
          "Cutter T",
          "Cutter T",
          "Cutter T",
          null,
          "Cutter T",
          "Cutter T",
          "Cutter T",
          "Cutter T",
          null,
          "Cutter T",
          "Cutter T",
          "Cutter T",
          "Cutter T",
          null,
          "Trench",
          "Trench",
          "Trench",
          "Trench",
          null,
          "Trench",
          "Trench",
          "Trench",
          "Trench",
          null,
          "Trench",
          "Trench",
          "Trench",
          "Trench",
          null,
          "Trench",
          "Trench",
          "Trench",
          "Trench",
          null,
          "Trench",
          "Trench",
          "Trench",
          "Trench",
          null,
          "Trench",
          "Trench",
          "Trench",
          "Trench",
          null
         ]
        },
        {
         "connectgaps": false,
         "hoverinfo": "y+name",
         "line": {
          "color": "rgb(34,197,173)",
          "width": 10
         },
         "mode": "lines",
         "name": "unloading:Barge I",
         "type": "scatter",
         "x": [
          "1970-01-01T03:13:41",
          "1970-01-01T03:13:41",
          "1970-01-01T03:59:16",
          "1970-01-01T03:59:16",
          "1970-01-01T03:59:16",
          "1970-01-01T06:12:06",
          "1970-01-01T06:12:06",
          "1970-01-01T06:57:41",
          "1970-01-01T06:57:41",
          "1970-01-01T06:57:41",
          "1970-01-01T09:10:31",
          "1970-01-01T09:10:31",
          "1970-01-01T09:56:06",
          "1970-01-01T09:56:06",
          "1970-01-01T09:56:06",
          "1970-01-01T12:08:56",
          "1970-01-01T12:08:56",
          "1970-01-01T12:54:31",
          "1970-01-01T12:54:31",
          "1970-01-01T12:54:31",
          "1970-01-01T15:07:21",
          "1970-01-01T15:07:21",
          "1970-01-01T15:52:56",
          "1970-01-01T15:52:56",
          "1970-01-01T15:52:56",
          "1970-01-01T18:05:46",
          "1970-01-01T18:05:46",
          "1970-01-01T18:51:21",
          "1970-01-01T18:51:21",
          "1970-01-01T18:51:21",
          "1970-01-01T03:13:41",
          "1970-01-01T03:13:41",
          "1970-01-01T03:59:16",
          "1970-01-01T03:59:16",
          "1970-01-01T03:59:16",
          "1970-01-01T06:12:06",
          "1970-01-01T06:12:06",
          "1970-01-01T06:57:41",
          "1970-01-01T06:57:41",
          "1970-01-01T06:57:41",
          "1970-01-01T09:10:31",
          "1970-01-01T09:10:31",
          "1970-01-01T09:56:06",
          "1970-01-01T09:56:06",
          "1970-01-01T09:56:06",
          "1970-01-01T12:08:56",
          "1970-01-01T12:08:56",
          "1970-01-01T12:54:31",
          "1970-01-01T12:54:31",
          "1970-01-01T12:54:31",
          "1970-01-01T15:07:21",
          "1970-01-01T15:07:21",
          "1970-01-01T15:52:56",
          "1970-01-01T15:52:56",
          "1970-01-01T15:52:56",
          "1970-01-01T18:05:46",
          "1970-01-01T18:05:46",
          "1970-01-01T18:51:21",
          "1970-01-01T18:51:21",
          "1970-01-01T18:51:21"
         ],
         "y": [
          "Barge I",
          "Barge I",
          "Barge I",
          "Barge I",
          null,
          "Barge I",
          "Barge I",
          "Barge I",
          "Barge I",
          null,
          "Barge I",
          "Barge I",
          "Barge I",
          "Barge I",
          null,
          "Barge I",
          "Barge I",
          "Barge I",
          "Barge I",
          null,
          "Barge I",
          "Barge I",
          "Barge I",
          "Barge I",
          null,
          "Barge I",
          "Barge I",
          "Barge I",
          "Barge I",
          null,
          "Reclamation",
          "Reclamation",
          "Reclamation",
          "Reclamation",
          null,
          "Reclamation",
          "Reclamation",
          "Reclamation",
          "Reclamation",
          null,
          "Reclamation",
          "Reclamation",
          "Reclamation",
          "Reclamation",
          null,
          "Reclamation",
          "Reclamation",
          "Reclamation",
          "Reclamation",
          null,
          "Reclamation",
          "Reclamation",
          "Reclamation",
          "Reclamation",
          null,
          "Reclamation",
          "Reclamation",
          "Reclamation",
          "Reclamation",
          null
         ]
        },
        {
         "connectgaps": false,
         "hoverinfo": "y+name",
         "line": {
          "color": "rgb(43,206,182)",
          "width": 10
         },
         "mode": "lines",
         "name": "sailing full:Barge I",
         "type": "scatter",
         "x": [
          "1970-01-01T02:28:06",
          "1970-01-01T02:28:06",
          "1970-01-01T03:13:41",
          "1970-01-01T03:13:41",
          "1970-01-01T03:13:41",
          "1970-01-01T05:26:31",
          "1970-01-01T05:26:31",
          "1970-01-01T06:12:06",
          "1970-01-01T06:12:06",
          "1970-01-01T06:12:06",
          "1970-01-01T08:24:56",
          "1970-01-01T08:24:56",
          "1970-01-01T09:10:31",
          "1970-01-01T09:10:31",
          "1970-01-01T09:10:31",
          "1970-01-01T11:23:21",
          "1970-01-01T11:23:21",
          "1970-01-01T12:08:56",
          "1970-01-01T12:08:56",
          "1970-01-01T12:08:56",
          "1970-01-01T14:21:46",
          "1970-01-01T14:21:46",
          "1970-01-01T15:07:21",
          "1970-01-01T15:07:21",
          "1970-01-01T15:07:21",
          "1970-01-01T17:20:11",
          "1970-01-01T17:20:11",
          "1970-01-01T18:05:46",
          "1970-01-01T18:05:46",
          "1970-01-01T18:05:46"
         ],
         "y": [
          "Barge I",
          "Barge I",
          "Barge I",
          "Barge I",
          null,
          "Barge I",
          "Barge I",
          "Barge I",
          "Barge I",
          null,
          "Barge I",
          "Barge I",
          "Barge I",
          "Barge I",
          null,
          "Barge I",
          "Barge I",
          "Barge I",
          "Barge I",
          null,
          "Barge I",
          "Barge I",
          "Barge I",
          "Barge I",
          null,
          "Barge I",
          "Barge I",
          "Barge I",
          "Barge I",
          null
         ]
        },
        {
         "connectgaps": false,
         "hoverinfo": "y+name",
         "line": {
          "color": "rgb(52,215,191)",
          "width": 10
         },
         "mode": "lines",
         "name": "loading:Carrier C",
         "type": "scatter",
         "x": [
          "1970-01-01T02:28:06",
          "1970-01-01T02:28:06",
          "1970-01-01T03:01:26",
          "1970-01-01T03:01:26",
          "1970-01-01T03:01:26",
          "1970-01-01T05:26:44",
          "1970-01-01T05:26:44",
          "1970-01-01T06:00:04",
          "1970-01-01T06:00:04",
          "1970-01-01T06:00:04",
          "1970-01-01T08:25:22",
          "1970-01-01T08:25:22",
          "1970-01-01T08:58:42",
          "1970-01-01T08:58:42",
          "1970-01-01T08:58:42",
          "1970-01-01T11:24:00",
          "1970-01-01T11:24:00",
          "1970-01-01T11:57:20",
          "1970-01-01T11:57:20",
          "1970-01-01T11:57:20",
          "1970-01-01T14:22:38",
          "1970-01-01T14:22:38",
          "1970-01-01T14:55:58",
          "1970-01-01T14:55:58",
          "1970-01-01T14:55:58",
          "1970-01-01T17:21:16",
          "1970-01-01T17:21:16",
          "1970-01-01T17:54:36",
          "1970-01-01T17:54:36",
          "1970-01-01T17:54:36",
          "1970-01-01T02:28:06",
          "1970-01-01T02:28:06",
          "1970-01-01T03:01:26",
          "1970-01-01T03:01:26",
          "1970-01-01T03:01:26",
          "1970-01-01T05:26:44",
          "1970-01-01T05:26:44",
          "1970-01-01T06:00:04",
          "1970-01-01T06:00:04",
          "1970-01-01T06:00:04",
          "1970-01-01T08:25:22",
          "1970-01-01T08:25:22",
          "1970-01-01T08:58:42",
          "1970-01-01T08:58:42",
          "1970-01-01T08:58:42",
          "1970-01-01T11:24:00",
          "1970-01-01T11:24:00",
          "1970-01-01T11:57:20",
          "1970-01-01T11:57:20",
          "1970-01-01T11:57:20",
          "1970-01-01T14:22:38",
          "1970-01-01T14:22:38",
          "1970-01-01T14:55:58",
          "1970-01-01T14:55:58",
          "1970-01-01T14:55:58",
          "1970-01-01T17:21:16",
          "1970-01-01T17:21:16",
          "1970-01-01T17:54:36",
          "1970-01-01T17:54:36",
          "1970-01-01T17:54:36",
          "1970-01-01T02:28:06",
          "1970-01-01T02:28:06",
          "1970-01-01T03:01:26",
          "1970-01-01T03:01:26",
          "1970-01-01T03:01:26",
          "1970-01-01T05:26:44",
          "1970-01-01T05:26:44",
          "1970-01-01T06:00:04",
          "1970-01-01T06:00:04",
          "1970-01-01T06:00:04",
          "1970-01-01T08:25:22",
          "1970-01-01T08:25:22",
          "1970-01-01T08:58:42",
          "1970-01-01T08:58:42",
          "1970-01-01T08:58:42",
          "1970-01-01T11:24:00",
          "1970-01-01T11:24:00",
          "1970-01-01T11:57:20",
          "1970-01-01T11:57:20",
          "1970-01-01T11:57:20",
          "1970-01-01T14:22:38",
          "1970-01-01T14:22:38",
          "1970-01-01T14:55:58",
          "1970-01-01T14:55:58",
          "1970-01-01T14:55:58",
          "1970-01-01T17:21:16",
          "1970-01-01T17:21:16",
          "1970-01-01T17:54:36",
          "1970-01-01T17:54:36",
          "1970-01-01T17:54:36"
         ],
         "y": [
          "Carrier C",
          "Carrier C",
          "Carrier C",
          "Carrier C",
          null,
          "Carrier C",
          "Carrier C",
          "Carrier C",
          "Carrier C",
          null,
          "Carrier C",
          "Carrier C",
          "Carrier C",
          "Carrier C",
          null,
          "Carrier C",
          "Carrier C",
          "Carrier C",
          "Carrier C",
          null,
          "Carrier C",
          "Carrier C",
          "Carrier C",
          "Carrier C",
          null,
          "Carrier C",
          "Carrier C",
          "Carrier C",
          "Carrier C",
          null,
          "Cutter T",
          "Cutter T",
          "Cutter T",
          "Cutter T",
          null,
          "Cutter T",
          "Cutter T",
          "Cutter T",
          "Cutter T",
          null,
          "Cutter T",
          "Cutter T",
          "Cutter T",
          "Cutter T",
          null,
          "Cutter T",
          "Cutter T",
          "Cutter T",
          "Cutter T",
          null,
          "Cutter T",
          "Cutter T",
          "Cutter T",
          "Cutter T",
          null,
          "Cutter T",
          "Cutter T",
          "Cutter T",
          "Cutter T",
          null,
          "Trench",
          "Trench",
          "Trench",
          "Trench",
          null,
          "Trench",
          "Trench",
          "Trench",
          "Trench",
          null,
          "Trench",
          "Trench",
          "Trench",
          "Trench",
          null,
          "Trench",
          "Trench",
          "Trench",
          "Trench",
          null,
          "Trench",
          "Trench",
          "Trench",
          "Trench",
          null,
          "Trench",
          "Trench",
          "Trench",
          "Trench",
          null
         ]
        },
        {
         "connectgaps": false,
         "hoverinfo": "y+name",
         "line": {
          "color": "rgb(61,224,200)",
          "width": 10
         },
         "mode": "lines",
         "name": "loading:Carrier A",
         "type": "scatter",
         "x": [
          "1970-01-01T00:39:46",
          "1970-01-01T00:39:46",
          "1970-01-01T01:13:06",
          "1970-01-01T01:13:06",
          "1970-01-01T01:13:06",
          "1970-01-01T03:12:24",
          "1970-01-01T03:12:24",
          "1970-01-01T03:45:44",
          "1970-01-01T03:45:44",
          "1970-01-01T03:45:44",
          "1970-01-01T06:00:04",
          "1970-01-01T06:00:04",
          "1970-01-01T06:33:24",
          "1970-01-01T06:33:24",
          "1970-01-01T06:33:24",
          "1970-01-01T08:58:42",
          "1970-01-01T08:58:42",
          "1970-01-01T09:32:02",
          "1970-01-01T09:32:02",
          "1970-01-01T09:32:02",
          "1970-01-01T11:57:20",
          "1970-01-01T11:57:20",
          "1970-01-01T12:30:40",
          "1970-01-01T12:30:40",
          "1970-01-01T12:30:40",
          "1970-01-01T14:55:58",
          "1970-01-01T14:55:58",
          "1970-01-01T15:29:18",
          "1970-01-01T15:29:18",
          "1970-01-01T15:29:18",
          "1970-01-01T00:39:46",
          "1970-01-01T00:39:46",
          "1970-01-01T01:13:06",
          "1970-01-01T01:13:06",
          "1970-01-01T01:13:06",
          "1970-01-01T03:12:24",
          "1970-01-01T03:12:24",
          "1970-01-01T03:45:44",
          "1970-01-01T03:45:44",
          "1970-01-01T03:45:44",
          "1970-01-01T06:00:04",
          "1970-01-01T06:00:04",
          "1970-01-01T06:33:24",
          "1970-01-01T06:33:24",
          "1970-01-01T06:33:24",
          "1970-01-01T08:58:42",
          "1970-01-01T08:58:42",
          "1970-01-01T09:32:02",
          "1970-01-01T09:32:02",
          "1970-01-01T09:32:02",
          "1970-01-01T11:57:20",
          "1970-01-01T11:57:20",
          "1970-01-01T12:30:40",
          "1970-01-01T12:30:40",
          "1970-01-01T12:30:40",
          "1970-01-01T14:55:58",
          "1970-01-01T14:55:58",
          "1970-01-01T15:29:18",
          "1970-01-01T15:29:18",
          "1970-01-01T15:29:18",
          "1970-01-01T00:39:46",
          "1970-01-01T00:39:46",
          "1970-01-01T01:13:06",
          "1970-01-01T01:13:06",
          "1970-01-01T01:13:06",
          "1970-01-01T03:12:24",
          "1970-01-01T03:12:24",
          "1970-01-01T03:45:44",
          "1970-01-01T03:45:44",
          "1970-01-01T03:45:44",
          "1970-01-01T06:00:04",
          "1970-01-01T06:00:04",
          "1970-01-01T06:33:24",
          "1970-01-01T06:33:24",
          "1970-01-01T06:33:24",
          "1970-01-01T08:58:42",
          "1970-01-01T08:58:42",
          "1970-01-01T09:32:02",
          "1970-01-01T09:32:02",
          "1970-01-01T09:32:02",
          "1970-01-01T11:57:20",
          "1970-01-01T11:57:20",
          "1970-01-01T12:30:40",
          "1970-01-01T12:30:40",
          "1970-01-01T12:30:40",
          "1970-01-01T14:55:58",
          "1970-01-01T14:55:58",
          "1970-01-01T15:29:18",
          "1970-01-01T15:29:18",
          "1970-01-01T15:29:18"
         ],
         "y": [
          "Carrier A",
          "Carrier A",
          "Carrier A",
          "Carrier A",
          null,
          "Carrier A",
          "Carrier A",
          "Carrier A",
          "Carrier A",
          null,
          "Carrier A",
          "Carrier A",
          "Carrier A",
          "Carrier A",
          null,
          "Carrier A",
          "Carrier A",
          "Carrier A",
          "Carrier A",
          null,
          "Carrier A",
          "Carrier A",
          "Carrier A",
          "Carrier A",
          null,
          "Carrier A",
          "Carrier A",
          "Carrier A",
          "Carrier A",
          null,
          "Cutter T",
          "Cutter T",
          "Cutter T",
          "Cutter T",
          null,
          "Cutter T",
          "Cutter T",
          "Cutter T",
          "Cutter T",
          null,
          "Cutter T",
          "Cutter T",
          "Cutter T",
          "Cutter T",
          null,
          "Cutter T",
          "Cutter T",
          "Cutter T",
          "Cutter T",
          null,
          "Cutter T",
          "Cutter T",
          "Cutter T",
          "Cutter T",
          null,
          "Cutter T",
          "Cutter T",
          "Cutter T",
          "Cutter T",
          null,
          "Trench",
          "Trench",
          "Trench",
          "Trench",
          null,
          "Trench",
          "Trench",
          "Trench",
          "Trench",
          null,
          "Trench",
          "Trench",
          "Trench",
          "Trench",
          null,
          "Trench",
          "Trench",
          "Trench",
          "Trench",
          null,
          "Trench",
          "Trench",
          "Trench",
          "Trench",
          null,
          "Trench",
          "Trench",
          "Trench",
          "Trench",
          null
         ]
        },
        {
         "connectgaps": false,
         "hoverinfo": "y+name",
         "line": {
          "color": "rgb(70,233,209)",
          "width": 10
         },
         "mode": "lines",
         "name": "loading:Barge I",
         "type": "scatter",
         "x": [
          "1970-01-01T01:46:26",
          "1970-01-01T01:46:26",
          "1970-01-01T02:28:06",
          "1970-01-01T02:28:06",
          "1970-01-01T02:28:06",
          "1970-01-01T04:44:51",
          "1970-01-01T04:44:51",
          "1970-01-01T05:26:31",
          "1970-01-01T05:26:31",
          "1970-01-01T05:26:31",
          "1970-01-01T07:43:16",
          "1970-01-01T07:43:16",
          "1970-01-01T08:24:56",
          "1970-01-01T08:24:56",
          "1970-01-01T08:24:56",
          "1970-01-01T10:41:41",
          "1970-01-01T10:41:41",
          "1970-01-01T11:23:21",
          "1970-01-01T11:23:21",
          "1970-01-01T11:23:21",
          "1970-01-01T13:40:06",
          "1970-01-01T13:40:06",
          "1970-01-01T14:21:46",
          "1970-01-01T14:21:46",
          "1970-01-01T14:21:46",
          "1970-01-01T16:38:31",
          "1970-01-01T16:38:31",
          "1970-01-01T17:20:11",
          "1970-01-01T17:20:11",
          "1970-01-01T17:20:11",
          "1970-01-01T01:46:26",
          "1970-01-01T01:46:26",
          "1970-01-01T02:28:06",
          "1970-01-01T02:28:06",
          "1970-01-01T02:28:06",
          "1970-01-01T04:44:51",
          "1970-01-01T04:44:51",
          "1970-01-01T05:26:31",
          "1970-01-01T05:26:31",
          "1970-01-01T05:26:31",
          "1970-01-01T07:43:16",
          "1970-01-01T07:43:16",
          "1970-01-01T08:24:56",
          "1970-01-01T08:24:56",
          "1970-01-01T08:24:56",
          "1970-01-01T10:41:41",
          "1970-01-01T10:41:41",
          "1970-01-01T11:23:21",
          "1970-01-01T11:23:21",
          "1970-01-01T11:23:21",
          "1970-01-01T13:40:06",
          "1970-01-01T13:40:06",
          "1970-01-01T14:21:46",
          "1970-01-01T14:21:46",
          "1970-01-01T14:21:46",
          "1970-01-01T16:38:31",
          "1970-01-01T16:38:31",
          "1970-01-01T17:20:11",
          "1970-01-01T17:20:11",
          "1970-01-01T17:20:11",
          "1970-01-01T01:46:26",
          "1970-01-01T01:46:26",
          "1970-01-01T02:28:06",
          "1970-01-01T02:28:06",
          "1970-01-01T02:28:06",
          "1970-01-01T04:44:51",
          "1970-01-01T04:44:51",
          "1970-01-01T05:26:31",
          "1970-01-01T05:26:31",
          "1970-01-01T05:26:31",
          "1970-01-01T07:43:16",
          "1970-01-01T07:43:16",
          "1970-01-01T08:24:56",
          "1970-01-01T08:24:56",
          "1970-01-01T08:24:56",
          "1970-01-01T10:41:41",
          "1970-01-01T10:41:41",
          "1970-01-01T11:23:21",
          "1970-01-01T11:23:21",
          "1970-01-01T11:23:21",
          "1970-01-01T13:40:06",
          "1970-01-01T13:40:06",
          "1970-01-01T14:21:46",
          "1970-01-01T14:21:46",
          "1970-01-01T14:21:46",
          "1970-01-01T16:38:31",
          "1970-01-01T16:38:31",
          "1970-01-01T17:20:11",
          "1970-01-01T17:20:11",
          "1970-01-01T17:20:11"
         ],
         "y": [
          "Barge I",
          "Barge I",
          "Barge I",
          "Barge I",
          null,
          "Barge I",
          "Barge I",
          "Barge I",
          "Barge I",
          null,
          "Barge I",
          "Barge I",
          "Barge I",
          "Barge I",
          null,
          "Barge I",
          "Barge I",
          "Barge I",
          "Barge I",
          null,
          "Barge I",
          "Barge I",
          "Barge I",
          "Barge I",
          null,
          "Barge I",
          "Barge I",
          "Barge I",
          "Barge I",
          null,
          "Cutter T",
          "Cutter T",
          "Cutter T",
          "Cutter T",
          null,
          "Cutter T",
          "Cutter T",
          "Cutter T",
          "Cutter T",
          null,
          "Cutter T",
          "Cutter T",
          "Cutter T",
          "Cutter T",
          null,
          "Cutter T",
          "Cutter T",
          "Cutter T",
          "Cutter T",
          null,
          "Cutter T",
          "Cutter T",
          "Cutter T",
          "Cutter T",
          null,
          "Cutter T",
          "Cutter T",
          "Cutter T",
          "Cutter T",
          null,
          "Trench",
          "Trench",
          "Trench",
          "Trench",
          null,
          "Trench",
          "Trench",
          "Trench",
          "Trench",
          null,
          "Trench",
          "Trench",
          "Trench",
          "Trench",
          null,
          "Trench",
          "Trench",
          "Trench",
          "Trench",
          null,
          "Trench",
          "Trench",
          "Trench",
          "Trench",
          null,
          "Trench",
          "Trench",
          "Trench",
          "Trench",
          null
         ]
        },
        {
         "connectgaps": false,
         "hoverinfo": "y+name",
         "line": {
          "color": "rgb(79,242,218)",
          "width": 10
         },
         "mode": "lines",
         "name": "loading:Carrier B",
         "type": "scatter",
         "x": [
          "1970-01-01T01:13:06",
          "1970-01-01T01:13:06",
          "1970-01-01T01:46:26",
          "1970-01-01T01:46:26",
          "1970-01-01T01:46:26",
          "1970-01-01T03:55:02",
          "1970-01-01T03:55:02",
          "1970-01-01T04:28:22",
          "1970-01-01T04:28:22",
          "1970-01-01T04:28:22",
          "1970-01-01T06:36:58",
          "1970-01-01T06:36:58",
          "1970-01-01T07:10:18",
          "1970-01-01T07:10:18",
          "1970-01-01T07:10:18",
          "1970-01-01T09:32:02",
          "1970-01-01T09:32:02",
          "1970-01-01T10:05:22",
          "1970-01-01T10:05:22",
          "1970-01-01T10:05:22",
          "1970-01-01T12:30:40",
          "1970-01-01T12:30:40",
          "1970-01-01T13:04:00",
          "1970-01-01T13:04:00",
          "1970-01-01T13:04:00",
          "1970-01-01T15:29:18",
          "1970-01-01T15:29:18",
          "1970-01-01T16:02:38",
          "1970-01-01T16:02:38",
          "1970-01-01T16:02:38",
          "1970-01-01T01:13:06",
          "1970-01-01T01:13:06",
          "1970-01-01T01:46:26",
          "1970-01-01T01:46:26",
          "1970-01-01T01:46:26",
          "1970-01-01T03:55:02",
          "1970-01-01T03:55:02",
          "1970-01-01T04:28:22",
          "1970-01-01T04:28:22",
          "1970-01-01T04:28:22",
          "1970-01-01T06:36:58",
          "1970-01-01T06:36:58",
          "1970-01-01T07:10:18",
          "1970-01-01T07:10:18",
          "1970-01-01T07:10:18",
          "1970-01-01T09:32:02",
          "1970-01-01T09:32:02",
          "1970-01-01T10:05:22",
          "1970-01-01T10:05:22",
          "1970-01-01T10:05:22",
          "1970-01-01T12:30:40",
          "1970-01-01T12:30:40",
          "1970-01-01T13:04:00",
          "1970-01-01T13:04:00",
          "1970-01-01T13:04:00",
          "1970-01-01T15:29:18",
          "1970-01-01T15:29:18",
          "1970-01-01T16:02:38",
          "1970-01-01T16:02:38",
          "1970-01-01T16:02:38",
          "1970-01-01T01:13:06",
          "1970-01-01T01:13:06",
          "1970-01-01T01:46:26",
          "1970-01-01T01:46:26",
          "1970-01-01T01:46:26",
          "1970-01-01T03:55:02",
          "1970-01-01T03:55:02",
          "1970-01-01T04:28:22",
          "1970-01-01T04:28:22",
          "1970-01-01T04:28:22",
          "1970-01-01T06:36:58",
          "1970-01-01T06:36:58",
          "1970-01-01T07:10:18",
          "1970-01-01T07:10:18",
          "1970-01-01T07:10:18",
          "1970-01-01T09:32:02",
          "1970-01-01T09:32:02",
          "1970-01-01T10:05:22",
          "1970-01-01T10:05:22",
          "1970-01-01T10:05:22",
          "1970-01-01T12:30:40",
          "1970-01-01T12:30:40",
          "1970-01-01T13:04:00",
          "1970-01-01T13:04:00",
          "1970-01-01T13:04:00",
          "1970-01-01T15:29:18",
          "1970-01-01T15:29:18",
          "1970-01-01T16:02:38",
          "1970-01-01T16:02:38",
          "1970-01-01T16:02:38"
         ],
         "y": [
          "Carrier B",
          "Carrier B",
          "Carrier B",
          "Carrier B",
          null,
          "Carrier B",
          "Carrier B",
          "Carrier B",
          "Carrier B",
          null,
          "Carrier B",
          "Carrier B",
          "Carrier B",
          "Carrier B",
          null,
          "Carrier B",
          "Carrier B",
          "Carrier B",
          "Carrier B",
          null,
          "Carrier B",
          "Carrier B",
          "Carrier B",
          "Carrier B",
          null,
          "Carrier B",
          "Carrier B",
          "Carrier B",
          "Carrier B",
          null,
          "Cutter T",
          "Cutter T",
          "Cutter T",
          "Cutter T",
          null,
          "Cutter T",
          "Cutter T",
          "Cutter T",
          "Cutter T",
          null,
          "Cutter T",
          "Cutter T",
          "Cutter T",
          "Cutter T",
          null,
          "Cutter T",
          "Cutter T",
          "Cutter T",
          "Cutter T",
          null,
          "Cutter T",
          "Cutter T",
          "Cutter T",
          "Cutter T",
          null,
          "Cutter T",
          "Cutter T",
          "Cutter T",
          "Cutter T",
          null,
          "Trench",
          "Trench",
          "Trench",
          "Trench",
          null,
          "Trench",
          "Trench",
          "Trench",
          "Trench",
          null,
          "Trench",
          "Trench",
          "Trench",
          "Trench",
          null,
          "Trench",
          "Trench",
          "Trench",
          "Trench",
          null,
          "Trench",
          "Trench",
          "Trench",
          "Trench",
          null,
          "Trench",
          "Trench",
          "Trench",
          "Trench",
          null
         ]
        },
        {
         "connectgaps": false,
         "hoverinfo": "y+name",
         "line": {
          "color": "rgb(88,251,227)",
          "width": 10
         },
         "mode": "lines",
         "name": "loading:Carrier C",
         "type": "scatter",
         "x": [
          "1970-01-01T02:28:06",
          "1970-01-01T02:28:06",
          "1970-01-01T03:01:26",
          "1970-01-01T03:01:26",
          "1970-01-01T03:01:26",
          "1970-01-01T05:26:44",
          "1970-01-01T05:26:44",
          "1970-01-01T06:00:04",
          "1970-01-01T06:00:04",
          "1970-01-01T06:00:04",
          "1970-01-01T08:25:22",
          "1970-01-01T08:25:22",
          "1970-01-01T08:58:42",
          "1970-01-01T08:58:42",
          "1970-01-01T08:58:42",
          "1970-01-01T11:24:00",
          "1970-01-01T11:24:00",
          "1970-01-01T11:57:20",
          "1970-01-01T11:57:20",
          "1970-01-01T11:57:20",
          "1970-01-01T14:22:38",
          "1970-01-01T14:22:38",
          "1970-01-01T14:55:58",
          "1970-01-01T14:55:58",
          "1970-01-01T14:55:58",
          "1970-01-01T17:21:16",
          "1970-01-01T17:21:16",
          "1970-01-01T17:54:36",
          "1970-01-01T17:54:36",
          "1970-01-01T17:54:36",
          "1970-01-01T02:28:06",
          "1970-01-01T02:28:06",
          "1970-01-01T03:01:26",
          "1970-01-01T03:01:26",
          "1970-01-01T03:01:26",
          "1970-01-01T05:26:44",
          "1970-01-01T05:26:44",
          "1970-01-01T06:00:04",
          "1970-01-01T06:00:04",
          "1970-01-01T06:00:04",
          "1970-01-01T08:25:22",
          "1970-01-01T08:25:22",
          "1970-01-01T08:58:42",
          "1970-01-01T08:58:42",
          "1970-01-01T08:58:42",
          "1970-01-01T11:24:00",
          "1970-01-01T11:24:00",
          "1970-01-01T11:57:20",
          "1970-01-01T11:57:20",
          "1970-01-01T11:57:20",
          "1970-01-01T14:22:38",
          "1970-01-01T14:22:38",
          "1970-01-01T14:55:58",
          "1970-01-01T14:55:58",
          "1970-01-01T14:55:58",
          "1970-01-01T17:21:16",
          "1970-01-01T17:21:16",
          "1970-01-01T17:54:36",
          "1970-01-01T17:54:36",
          "1970-01-01T17:54:36",
          "1970-01-01T02:28:06",
          "1970-01-01T02:28:06",
          "1970-01-01T03:01:26",
          "1970-01-01T03:01:26",
          "1970-01-01T03:01:26",
          "1970-01-01T05:26:44",
          "1970-01-01T05:26:44",
          "1970-01-01T06:00:04",
          "1970-01-01T06:00:04",
          "1970-01-01T06:00:04",
          "1970-01-01T08:25:22",
          "1970-01-01T08:25:22",
          "1970-01-01T08:58:42",
          "1970-01-01T08:58:42",
          "1970-01-01T08:58:42",
          "1970-01-01T11:24:00",
          "1970-01-01T11:24:00",
          "1970-01-01T11:57:20",
          "1970-01-01T11:57:20",
          "1970-01-01T11:57:20",
          "1970-01-01T14:22:38",
          "1970-01-01T14:22:38",
          "1970-01-01T14:55:58",
          "1970-01-01T14:55:58",
          "1970-01-01T14:55:58",
          "1970-01-01T17:21:16",
          "1970-01-01T17:21:16",
          "1970-01-01T17:54:36",
          "1970-01-01T17:54:36",
          "1970-01-01T17:54:36"
         ],
         "y": [
          "Carrier C",
          "Carrier C",
          "Carrier C",
          "Carrier C",
          null,
          "Carrier C",
          "Carrier C",
          "Carrier C",
          "Carrier C",
          null,
          "Carrier C",
          "Carrier C",
          "Carrier C",
          "Carrier C",
          null,
          "Carrier C",
          "Carrier C",
          "Carrier C",
          "Carrier C",
          null,
          "Carrier C",
          "Carrier C",
          "Carrier C",
          "Carrier C",
          null,
          "Carrier C",
          "Carrier C",
          "Carrier C",
          "Carrier C",
          null,
          "Cutter T",
          "Cutter T",
          "Cutter T",
          "Cutter T",
          null,
          "Cutter T",
          "Cutter T",
          "Cutter T",
          "Cutter T",
          null,
          "Cutter T",
          "Cutter T",
          "Cutter T",
          "Cutter T",
          null,
          "Cutter T",
          "Cutter T",
          "Cutter T",
          "Cutter T",
          null,
          "Cutter T",
          "Cutter T",
          "Cutter T",
          "Cutter T",
          null,
          "Cutter T",
          "Cutter T",
          "Cutter T",
          "Cutter T",
          null,
          "Trench",
          "Trench",
          "Trench",
          "Trench",
          null,
          "Trench",
          "Trench",
          "Trench",
          "Trench",
          null,
          "Trench",
          "Trench",
          "Trench",
          "Trench",
          null,
          "Trench",
          "Trench",
          "Trench",
          "Trench",
          null,
          "Trench",
          "Trench",
          "Trench",
          "Trench",
          null,
          "Trench",
          "Trench",
          "Trench",
          "Trench",
          null
         ]
        },
        {
         "connectgaps": false,
         "hoverinfo": "y+name",
         "line": {
          "color": "rgb(97,4,236)",
          "width": 10
         },
         "mode": "lines",
         "name": "loading:Carrier A",
         "type": "scatter",
         "x": [
          "1970-01-01T00:39:46",
          "1970-01-01T00:39:46",
          "1970-01-01T01:13:06",
          "1970-01-01T01:13:06",
          "1970-01-01T01:13:06",
          "1970-01-01T03:12:24",
          "1970-01-01T03:12:24",
          "1970-01-01T03:45:44",
          "1970-01-01T03:45:44",
          "1970-01-01T03:45:44",
          "1970-01-01T06:00:04",
          "1970-01-01T06:00:04",
          "1970-01-01T06:33:24",
          "1970-01-01T06:33:24",
          "1970-01-01T06:33:24",
          "1970-01-01T08:58:42",
          "1970-01-01T08:58:42",
          "1970-01-01T09:32:02",
          "1970-01-01T09:32:02",
          "1970-01-01T09:32:02",
          "1970-01-01T11:57:20",
          "1970-01-01T11:57:20",
          "1970-01-01T12:30:40",
          "1970-01-01T12:30:40",
          "1970-01-01T12:30:40",
          "1970-01-01T14:55:58",
          "1970-01-01T14:55:58",
          "1970-01-01T15:29:18",
          "1970-01-01T15:29:18",
          "1970-01-01T15:29:18",
          "1970-01-01T00:39:46",
          "1970-01-01T00:39:46",
          "1970-01-01T01:13:06",
          "1970-01-01T01:13:06",
          "1970-01-01T01:13:06",
          "1970-01-01T03:12:24",
          "1970-01-01T03:12:24",
          "1970-01-01T03:45:44",
          "1970-01-01T03:45:44",
          "1970-01-01T03:45:44",
          "1970-01-01T06:00:04",
          "1970-01-01T06:00:04",
          "1970-01-01T06:33:24",
          "1970-01-01T06:33:24",
          "1970-01-01T06:33:24",
          "1970-01-01T08:58:42",
          "1970-01-01T08:58:42",
          "1970-01-01T09:32:02",
          "1970-01-01T09:32:02",
          "1970-01-01T09:32:02",
          "1970-01-01T11:57:20",
          "1970-01-01T11:57:20",
          "1970-01-01T12:30:40",
          "1970-01-01T12:30:40",
          "1970-01-01T12:30:40",
          "1970-01-01T14:55:58",
          "1970-01-01T14:55:58",
          "1970-01-01T15:29:18",
          "1970-01-01T15:29:18",
          "1970-01-01T15:29:18",
          "1970-01-01T00:39:46",
          "1970-01-01T00:39:46",
          "1970-01-01T01:13:06",
          "1970-01-01T01:13:06",
          "1970-01-01T01:13:06",
          "1970-01-01T03:12:24",
          "1970-01-01T03:12:24",
          "1970-01-01T03:45:44",
          "1970-01-01T03:45:44",
          "1970-01-01T03:45:44",
          "1970-01-01T06:00:04",
          "1970-01-01T06:00:04",
          "1970-01-01T06:33:24",
          "1970-01-01T06:33:24",
          "1970-01-01T06:33:24",
          "1970-01-01T08:58:42",
          "1970-01-01T08:58:42",
          "1970-01-01T09:32:02",
          "1970-01-01T09:32:02",
          "1970-01-01T09:32:02",
          "1970-01-01T11:57:20",
          "1970-01-01T11:57:20",
          "1970-01-01T12:30:40",
          "1970-01-01T12:30:40",
          "1970-01-01T12:30:40",
          "1970-01-01T14:55:58",
          "1970-01-01T14:55:58",
          "1970-01-01T15:29:18",
          "1970-01-01T15:29:18",
          "1970-01-01T15:29:18"
         ],
         "y": [
          "Carrier A",
          "Carrier A",
          "Carrier A",
          "Carrier A",
          null,
          "Carrier A",
          "Carrier A",
          "Carrier A",
          "Carrier A",
          null,
          "Carrier A",
          "Carrier A",
          "Carrier A",
          "Carrier A",
          null,
          "Carrier A",
          "Carrier A",
          "Carrier A",
          "Carrier A",
          null,
          "Carrier A",
          "Carrier A",
          "Carrier A",
          "Carrier A",
          null,
          "Carrier A",
          "Carrier A",
          "Carrier A",
          "Carrier A",
          null,
          "Cutter T",
          "Cutter T",
          "Cutter T",
          "Cutter T",
          null,
          "Cutter T",
          "Cutter T",
          "Cutter T",
          "Cutter T",
          null,
          "Cutter T",
          "Cutter T",
          "Cutter T",
          "Cutter T",
          null,
          "Cutter T",
          "Cutter T",
          "Cutter T",
          "Cutter T",
          null,
          "Cutter T",
          "Cutter T",
          "Cutter T",
          "Cutter T",
          null,
          "Cutter T",
          "Cutter T",
          "Cutter T",
          "Cutter T",
          null,
          "Trench",
          "Trench",
          "Trench",
          "Trench",
          null,
          "Trench",
          "Trench",
          "Trench",
          "Trench",
          null,
          "Trench",
          "Trench",
          "Trench",
          "Trench",
          null,
          "Trench",
          "Trench",
          "Trench",
          "Trench",
          null,
          "Trench",
          "Trench",
          "Trench",
          "Trench",
          null,
          "Trench",
          "Trench",
          "Trench",
          "Trench",
          null
         ]
        },
        {
         "connectgaps": false,
         "hoverinfo": "y+name",
         "line": {
          "color": "rgb(106,13,245)",
          "width": 10
         },
         "mode": "lines",
         "name": "loading:Barge I",
         "type": "scatter",
         "x": [
          "1970-01-01T01:46:26",
          "1970-01-01T01:46:26",
          "1970-01-01T02:28:06",
          "1970-01-01T02:28:06",
          "1970-01-01T02:28:06",
          "1970-01-01T04:44:51",
          "1970-01-01T04:44:51",
          "1970-01-01T05:26:31",
          "1970-01-01T05:26:31",
          "1970-01-01T05:26:31",
          "1970-01-01T07:43:16",
          "1970-01-01T07:43:16",
          "1970-01-01T08:24:56",
          "1970-01-01T08:24:56",
          "1970-01-01T08:24:56",
          "1970-01-01T10:41:41",
          "1970-01-01T10:41:41",
          "1970-01-01T11:23:21",
          "1970-01-01T11:23:21",
          "1970-01-01T11:23:21",
          "1970-01-01T13:40:06",
          "1970-01-01T13:40:06",
          "1970-01-01T14:21:46",
          "1970-01-01T14:21:46",
          "1970-01-01T14:21:46",
          "1970-01-01T16:38:31",
          "1970-01-01T16:38:31",
          "1970-01-01T17:20:11",
          "1970-01-01T17:20:11",
          "1970-01-01T17:20:11",
          "1970-01-01T01:46:26",
          "1970-01-01T01:46:26",
          "1970-01-01T02:28:06",
          "1970-01-01T02:28:06",
          "1970-01-01T02:28:06",
          "1970-01-01T04:44:51",
          "1970-01-01T04:44:51",
          "1970-01-01T05:26:31",
          "1970-01-01T05:26:31",
          "1970-01-01T05:26:31",
          "1970-01-01T07:43:16",
          "1970-01-01T07:43:16",
          "1970-01-01T08:24:56",
          "1970-01-01T08:24:56",
          "1970-01-01T08:24:56",
          "1970-01-01T10:41:41",
          "1970-01-01T10:41:41",
          "1970-01-01T11:23:21",
          "1970-01-01T11:23:21",
          "1970-01-01T11:23:21",
          "1970-01-01T13:40:06",
          "1970-01-01T13:40:06",
          "1970-01-01T14:21:46",
          "1970-01-01T14:21:46",
          "1970-01-01T14:21:46",
          "1970-01-01T16:38:31",
          "1970-01-01T16:38:31",
          "1970-01-01T17:20:11",
          "1970-01-01T17:20:11",
          "1970-01-01T17:20:11",
          "1970-01-01T01:46:26",
          "1970-01-01T01:46:26",
          "1970-01-01T02:28:06",
          "1970-01-01T02:28:06",
          "1970-01-01T02:28:06",
          "1970-01-01T04:44:51",
          "1970-01-01T04:44:51",
          "1970-01-01T05:26:31",
          "1970-01-01T05:26:31",
          "1970-01-01T05:26:31",
          "1970-01-01T07:43:16",
          "1970-01-01T07:43:16",
          "1970-01-01T08:24:56",
          "1970-01-01T08:24:56",
          "1970-01-01T08:24:56",
          "1970-01-01T10:41:41",
          "1970-01-01T10:41:41",
          "1970-01-01T11:23:21",
          "1970-01-01T11:23:21",
          "1970-01-01T11:23:21",
          "1970-01-01T13:40:06",
          "1970-01-01T13:40:06",
          "1970-01-01T14:21:46",
          "1970-01-01T14:21:46",
          "1970-01-01T14:21:46",
          "1970-01-01T16:38:31",
          "1970-01-01T16:38:31",
          "1970-01-01T17:20:11",
          "1970-01-01T17:20:11",
          "1970-01-01T17:20:11"
         ],
         "y": [
          "Barge I",
          "Barge I",
          "Barge I",
          "Barge I",
          null,
          "Barge I",
          "Barge I",
          "Barge I",
          "Barge I",
          null,
          "Barge I",
          "Barge I",
          "Barge I",
          "Barge I",
          null,
          "Barge I",
          "Barge I",
          "Barge I",
          "Barge I",
          null,
          "Barge I",
          "Barge I",
          "Barge I",
          "Barge I",
          null,
          "Barge I",
          "Barge I",
          "Barge I",
          "Barge I",
          null,
          "Cutter T",
          "Cutter T",
          "Cutter T",
          "Cutter T",
          null,
          "Cutter T",
          "Cutter T",
          "Cutter T",
          "Cutter T",
          null,
          "Cutter T",
          "Cutter T",
          "Cutter T",
          "Cutter T",
          null,
          "Cutter T",
          "Cutter T",
          "Cutter T",
          "Cutter T",
          null,
          "Cutter T",
          "Cutter T",
          "Cutter T",
          "Cutter T",
          null,
          "Cutter T",
          "Cutter T",
          "Cutter T",
          "Cutter T",
          null,
          "Trench",
          "Trench",
          "Trench",
          "Trench",
          null,
          "Trench",
          "Trench",
          "Trench",
          "Trench",
          null,
          "Trench",
          "Trench",
          "Trench",
          "Trench",
          null,
          "Trench",
          "Trench",
          "Trench",
          "Trench",
          null,
          "Trench",
          "Trench",
          "Trench",
          "Trench",
          null,
          "Trench",
          "Trench",
          "Trench",
          "Trench",
          null
         ]
        },
        {
         "connectgaps": false,
         "hoverinfo": "y+name",
         "line": {
          "color": "rgb(115,22,254)",
          "width": 10
         },
         "mode": "lines",
         "name": "loading:Carrier B",
         "type": "scatter",
         "x": [
          "1970-01-01T01:13:06",
          "1970-01-01T01:13:06",
          "1970-01-01T01:46:26",
          "1970-01-01T01:46:26",
          "1970-01-01T01:46:26",
          "1970-01-01T03:55:02",
          "1970-01-01T03:55:02",
          "1970-01-01T04:28:22",
          "1970-01-01T04:28:22",
          "1970-01-01T04:28:22",
          "1970-01-01T06:36:58",
          "1970-01-01T06:36:58",
          "1970-01-01T07:10:18",
          "1970-01-01T07:10:18",
          "1970-01-01T07:10:18",
          "1970-01-01T09:32:02",
          "1970-01-01T09:32:02",
          "1970-01-01T10:05:22",
          "1970-01-01T10:05:22",
          "1970-01-01T10:05:22",
          "1970-01-01T12:30:40",
          "1970-01-01T12:30:40",
          "1970-01-01T13:04:00",
          "1970-01-01T13:04:00",
          "1970-01-01T13:04:00",
          "1970-01-01T15:29:18",
          "1970-01-01T15:29:18",
          "1970-01-01T16:02:38",
          "1970-01-01T16:02:38",
          "1970-01-01T16:02:38",
          "1970-01-01T01:13:06",
          "1970-01-01T01:13:06",
          "1970-01-01T01:46:26",
          "1970-01-01T01:46:26",
          "1970-01-01T01:46:26",
          "1970-01-01T03:55:02",
          "1970-01-01T03:55:02",
          "1970-01-01T04:28:22",
          "1970-01-01T04:28:22",
          "1970-01-01T04:28:22",
          "1970-01-01T06:36:58",
          "1970-01-01T06:36:58",
          "1970-01-01T07:10:18",
          "1970-01-01T07:10:18",
          "1970-01-01T07:10:18",
          "1970-01-01T09:32:02",
          "1970-01-01T09:32:02",
          "1970-01-01T10:05:22",
          "1970-01-01T10:05:22",
          "1970-01-01T10:05:22",
          "1970-01-01T12:30:40",
          "1970-01-01T12:30:40",
          "1970-01-01T13:04:00",
          "1970-01-01T13:04:00",
          "1970-01-01T13:04:00",
          "1970-01-01T15:29:18",
          "1970-01-01T15:29:18",
          "1970-01-01T16:02:38",
          "1970-01-01T16:02:38",
          "1970-01-01T16:02:38",
          "1970-01-01T01:13:06",
          "1970-01-01T01:13:06",
          "1970-01-01T01:46:26",
          "1970-01-01T01:46:26",
          "1970-01-01T01:46:26",
          "1970-01-01T03:55:02",
          "1970-01-01T03:55:02",
          "1970-01-01T04:28:22",
          "1970-01-01T04:28:22",
          "1970-01-01T04:28:22",
          "1970-01-01T06:36:58",
          "1970-01-01T06:36:58",
          "1970-01-01T07:10:18",
          "1970-01-01T07:10:18",
          "1970-01-01T07:10:18",
          "1970-01-01T09:32:02",
          "1970-01-01T09:32:02",
          "1970-01-01T10:05:22",
          "1970-01-01T10:05:22",
          "1970-01-01T10:05:22",
          "1970-01-01T12:30:40",
          "1970-01-01T12:30:40",
          "1970-01-01T13:04:00",
          "1970-01-01T13:04:00",
          "1970-01-01T13:04:00",
          "1970-01-01T15:29:18",
          "1970-01-01T15:29:18",
          "1970-01-01T16:02:38",
          "1970-01-01T16:02:38",
          "1970-01-01T16:02:38"
         ],
         "y": [
          "Carrier B",
          "Carrier B",
          "Carrier B",
          "Carrier B",
          null,
          "Carrier B",
          "Carrier B",
          "Carrier B",
          "Carrier B",
          null,
          "Carrier B",
          "Carrier B",
          "Carrier B",
          "Carrier B",
          null,
          "Carrier B",
          "Carrier B",
          "Carrier B",
          "Carrier B",
          null,
          "Carrier B",
          "Carrier B",
          "Carrier B",
          "Carrier B",
          null,
          "Carrier B",
          "Carrier B",
          "Carrier B",
          "Carrier B",
          null,
          "Cutter T",
          "Cutter T",
          "Cutter T",
          "Cutter T",
          null,
          "Cutter T",
          "Cutter T",
          "Cutter T",
          "Cutter T",
          null,
          "Cutter T",
          "Cutter T",
          "Cutter T",
          "Cutter T",
          null,
          "Cutter T",
          "Cutter T",
          "Cutter T",
          "Cutter T",
          null,
          "Cutter T",
          "Cutter T",
          "Cutter T",
          "Cutter T",
          null,
          "Cutter T",
          "Cutter T",
          "Cutter T",
          "Cutter T",
          null,
          "Trench",
          "Trench",
          "Trench",
          "Trench",
          null,
          "Trench",
          "Trench",
          "Trench",
          "Trench",
          null,
          "Trench",
          "Trench",
          "Trench",
          "Trench",
          null,
          "Trench",
          "Trench",
          "Trench",
          "Trench",
          null,
          "Trench",
          "Trench",
          "Trench",
          "Trench",
          null,
          "Trench",
          "Trench",
          "Trench",
          "Trench",
          null
         ]
        },
        {
         "connectgaps": false,
         "hoverinfo": "y+name",
         "line": {
          "color": "rgb(124,31,7)",
          "width": 10
         },
         "mode": "lines",
         "name": "unloading:Carrier B",
         "type": "scatter",
         "x": [
          "1970-01-01T02:29:18",
          "1970-01-01T02:29:18",
          "1970-01-01T03:12:10",
          "1970-01-01T03:12:10",
          "1970-01-01T03:12:10",
          "1970-01-01T05:11:14",
          "1970-01-01T05:11:14",
          "1970-01-01T05:54:06",
          "1970-01-01T05:54:06",
          "1970-01-01T05:54:06",
          "1970-01-01T07:53:10",
          "1970-01-01T07:53:10",
          "1970-01-01T08:36:02",
          "1970-01-01T08:36:02",
          "1970-01-01T08:36:02",
          "1970-01-01T10:48:14",
          "1970-01-01T10:48:14",
          "1970-01-01T11:31:06",
          "1970-01-01T11:31:06",
          "1970-01-01T11:31:06",
          "1970-01-01T13:46:52",
          "1970-01-01T13:46:52",
          "1970-01-01T14:29:44",
          "1970-01-01T14:29:44",
          "1970-01-01T14:29:44",
          "1970-01-01T16:45:30",
          "1970-01-01T16:45:30",
          "1970-01-01T17:28:22",
          "1970-01-01T17:28:22",
          "1970-01-01T17:28:22",
          "1970-01-01T02:29:18",
          "1970-01-01T02:29:18",
          "1970-01-01T03:12:10",
          "1970-01-01T03:12:10",
          "1970-01-01T03:12:10",
          "1970-01-01T05:11:14",
          "1970-01-01T05:11:14",
          "1970-01-01T05:54:06",
          "1970-01-01T05:54:06",
          "1970-01-01T05:54:06",
          "1970-01-01T07:53:10",
          "1970-01-01T07:53:10",
          "1970-01-01T08:36:02",
          "1970-01-01T08:36:02",
          "1970-01-01T08:36:02",
          "1970-01-01T10:48:14",
          "1970-01-01T10:48:14",
          "1970-01-01T11:31:06",
          "1970-01-01T11:31:06",
          "1970-01-01T11:31:06",
          "1970-01-01T13:46:52",
          "1970-01-01T13:46:52",
          "1970-01-01T14:29:44",
          "1970-01-01T14:29:44",
          "1970-01-01T14:29:44",
          "1970-01-01T16:45:30",
          "1970-01-01T16:45:30",
          "1970-01-01T17:28:22",
          "1970-01-01T17:28:22",
          "1970-01-01T17:28:22"
         ],
         "y": [
          "Carrier B",
          "Carrier B",
          "Carrier B",
          "Carrier B",
          null,
          "Carrier B",
          "Carrier B",
          "Carrier B",
          "Carrier B",
          null,
          "Carrier B",
          "Carrier B",
          "Carrier B",
          "Carrier B",
          null,
          "Carrier B",
          "Carrier B",
          "Carrier B",
          "Carrier B",
          null,
          "Carrier B",
          "Carrier B",
          "Carrier B",
          "Carrier B",
          null,
          "Carrier B",
          "Carrier B",
          "Carrier B",
          "Carrier B",
          null,
          "Reclamation",
          "Reclamation",
          "Reclamation",
          "Reclamation",
          null,
          "Reclamation",
          "Reclamation",
          "Reclamation",
          "Reclamation",
          null,
          "Reclamation",
          "Reclamation",
          "Reclamation",
          "Reclamation",
          null,
          "Reclamation",
          "Reclamation",
          "Reclamation",
          "Reclamation",
          null,
          "Reclamation",
          "Reclamation",
          "Reclamation",
          "Reclamation",
          null,
          "Reclamation",
          "Reclamation",
          "Reclamation",
          "Reclamation",
          null
         ]
        },
        {
         "connectgaps": false,
         "hoverinfo": "y+name",
         "line": {
          "color": "rgb(133,40,16)",
          "width": 10
         },
         "mode": "lines",
         "name": "unloading:Carrier C",
         "type": "scatter",
         "x": [
          "1970-01-01T03:49:52",
          "1970-01-01T03:49:52",
          "1970-01-01T04:38:18",
          "1970-01-01T04:38:18",
          "1970-01-01T04:38:18",
          "1970-01-01T06:48:30",
          "1970-01-01T06:48:30",
          "1970-01-01T07:36:56",
          "1970-01-01T07:36:56",
          "1970-01-01T07:36:56",
          "1970-01-01T09:47:08",
          "1970-01-01T09:47:08",
          "1970-01-01T10:35:34",
          "1970-01-01T10:35:34",
          "1970-01-01T10:35:34",
          "1970-01-01T12:45:46",
          "1970-01-01T12:45:46",
          "1970-01-01T13:34:12",
          "1970-01-01T13:34:12",
          "1970-01-01T13:34:12",
          "1970-01-01T15:44:24",
          "1970-01-01T15:44:24",
          "1970-01-01T16:32:50",
          "1970-01-01T16:32:50",
          "1970-01-01T16:32:50",
          "1970-01-01T18:43:02",
          "1970-01-01T18:43:02",
          "1970-01-01T19:31:28",
          "1970-01-01T19:31:28",
          "1970-01-01T19:31:28",
          "1970-01-01T03:49:52",
          "1970-01-01T03:49:52",
          "1970-01-01T04:38:18",
          "1970-01-01T04:38:18",
          "1970-01-01T04:38:18",
          "1970-01-01T06:48:30",
          "1970-01-01T06:48:30",
          "1970-01-01T07:36:56",
          "1970-01-01T07:36:56",
          "1970-01-01T07:36:56",
          "1970-01-01T09:47:08",
          "1970-01-01T09:47:08",
          "1970-01-01T10:35:34",
          "1970-01-01T10:35:34",
          "1970-01-01T10:35:34",
          "1970-01-01T12:45:46",
          "1970-01-01T12:45:46",
          "1970-01-01T13:34:12",
          "1970-01-01T13:34:12",
          "1970-01-01T13:34:12",
          "1970-01-01T15:44:24",
          "1970-01-01T15:44:24",
          "1970-01-01T16:32:50",
          "1970-01-01T16:32:50",
          "1970-01-01T16:32:50",
          "1970-01-01T18:43:02",
          "1970-01-01T18:43:02",
          "1970-01-01T19:31:28",
          "1970-01-01T19:31:28",
          "1970-01-01T19:31:28"
         ],
         "y": [
          "Carrier C",
          "Carrier C",
          "Carrier C",
          "Carrier C",
          null,
          "Carrier C",
          "Carrier C",
          "Carrier C",
          "Carrier C",
          null,
          "Carrier C",
          "Carrier C",
          "Carrier C",
          "Carrier C",
          null,
          "Carrier C",
          "Carrier C",
          "Carrier C",
          "Carrier C",
          null,
          "Carrier C",
          "Carrier C",
          "Carrier C",
          "Carrier C",
          null,
          "Carrier C",
          "Carrier C",
          "Carrier C",
          "Carrier C",
          null,
          "Reclamation",
          "Reclamation",
          "Reclamation",
          "Reclamation",
          null,
          "Reclamation",
          "Reclamation",
          "Reclamation",
          "Reclamation",
          null,
          "Reclamation",
          "Reclamation",
          "Reclamation",
          "Reclamation",
          null,
          "Reclamation",
          "Reclamation",
          "Reclamation",
          "Reclamation",
          null,
          "Reclamation",
          "Reclamation",
          "Reclamation",
          "Reclamation",
          null,
          "Reclamation",
          "Reclamation",
          "Reclamation",
          "Reclamation",
          null
         ]
        },
        {
         "connectgaps": false,
         "hoverinfo": "y+name",
         "line": {
          "color": "rgb(142,49,25)",
          "width": 10
         },
         "mode": "lines",
         "name": "unloading:Carrier A",
         "type": "scatter",
         "x": [
          "1970-01-01T01:52:52",
          "1970-01-01T01:52:52",
          "1970-01-01T02:32:38",
          "1970-01-01T02:32:38",
          "1970-01-01T02:32:38",
          "1970-01-01T04:25:30",
          "1970-01-01T04:25:30",
          "1970-01-01T05:05:16",
          "1970-01-01T05:05:16",
          "1970-01-01T05:05:16",
          "1970-01-01T07:13:10",
          "1970-01-01T07:13:10",
          "1970-01-01T07:52:56",
          "1970-01-01T07:52:56",
          "1970-01-01T07:52:56",
          "1970-01-01T10:11:48",
          "1970-01-01T10:11:48",
          "1970-01-01T10:51:34",
          "1970-01-01T10:51:34",
          "1970-01-01T10:51:34",
          "1970-01-01T13:10:26",
          "1970-01-01T13:10:26",
          "1970-01-01T13:50:12",
          "1970-01-01T13:50:12",
          "1970-01-01T13:50:12",
          "1970-01-01T16:09:04",
          "1970-01-01T16:09:04",
          "1970-01-01T16:48:50",
          "1970-01-01T16:48:50",
          "1970-01-01T16:48:50",
          "1970-01-01T01:52:52",
          "1970-01-01T01:52:52",
          "1970-01-01T02:32:38",
          "1970-01-01T02:32:38",
          "1970-01-01T02:32:38",
          "1970-01-01T04:25:30",
          "1970-01-01T04:25:30",
          "1970-01-01T05:05:16",
          "1970-01-01T05:05:16",
          "1970-01-01T05:05:16",
          "1970-01-01T07:13:10",
          "1970-01-01T07:13:10",
          "1970-01-01T07:52:56",
          "1970-01-01T07:52:56",
          "1970-01-01T07:52:56",
          "1970-01-01T10:11:48",
          "1970-01-01T10:11:48",
          "1970-01-01T10:51:34",
          "1970-01-01T10:51:34",
          "1970-01-01T10:51:34",
          "1970-01-01T13:10:26",
          "1970-01-01T13:10:26",
          "1970-01-01T13:50:12",
          "1970-01-01T13:50:12",
          "1970-01-01T13:50:12",
          "1970-01-01T16:09:04",
          "1970-01-01T16:09:04",
          "1970-01-01T16:48:50",
          "1970-01-01T16:48:50",
          "1970-01-01T16:48:50"
         ],
         "y": [
          "Carrier A",
          "Carrier A",
          "Carrier A",
          "Carrier A",
          null,
          "Carrier A",
          "Carrier A",
          "Carrier A",
          "Carrier A",
          null,
          "Carrier A",
          "Carrier A",
          "Carrier A",
          "Carrier A",
          null,
          "Carrier A",
          "Carrier A",
          "Carrier A",
          "Carrier A",
          null,
          "Carrier A",
          "Carrier A",
          "Carrier A",
          "Carrier A",
          null,
          "Carrier A",
          "Carrier A",
          "Carrier A",
          "Carrier A",
          null,
          "Reclamation",
          "Reclamation",
          "Reclamation",
          "Reclamation",
          null,
          "Reclamation",
          "Reclamation",
          "Reclamation",
          "Reclamation",
          null,
          "Reclamation",
          "Reclamation",
          "Reclamation",
          "Reclamation",
          null,
          "Reclamation",
          "Reclamation",
          "Reclamation",
          "Reclamation",
          null,
          "Reclamation",
          "Reclamation",
          "Reclamation",
          "Reclamation",
          null,
          "Reclamation",
          "Reclamation",
          "Reclamation",
          "Reclamation",
          null
         ]
        },
        {
         "connectgaps": false,
         "hoverinfo": "y+name",
         "line": {
          "color": "rgb(151,58,34)",
          "width": 10
         },
         "mode": "lines",
         "name": "unloading:Barge I",
         "type": "scatter",
         "x": [
          "1970-01-01T03:13:41",
          "1970-01-01T03:13:41",
          "1970-01-01T03:59:16",
          "1970-01-01T03:59:16",
          "1970-01-01T03:59:16",
          "1970-01-01T06:12:06",
          "1970-01-01T06:12:06",
          "1970-01-01T06:57:41",
          "1970-01-01T06:57:41",
          "1970-01-01T06:57:41",
          "1970-01-01T09:10:31",
          "1970-01-01T09:10:31",
          "1970-01-01T09:56:06",
          "1970-01-01T09:56:06",
          "1970-01-01T09:56:06",
          "1970-01-01T12:08:56",
          "1970-01-01T12:08:56",
          "1970-01-01T12:54:31",
          "1970-01-01T12:54:31",
          "1970-01-01T12:54:31",
          "1970-01-01T15:07:21",
          "1970-01-01T15:07:21",
          "1970-01-01T15:52:56",
          "1970-01-01T15:52:56",
          "1970-01-01T15:52:56",
          "1970-01-01T18:05:46",
          "1970-01-01T18:05:46",
          "1970-01-01T18:51:21",
          "1970-01-01T18:51:21",
          "1970-01-01T18:51:21",
          "1970-01-01T03:13:41",
          "1970-01-01T03:13:41",
          "1970-01-01T03:59:16",
          "1970-01-01T03:59:16",
          "1970-01-01T03:59:16",
          "1970-01-01T06:12:06",
          "1970-01-01T06:12:06",
          "1970-01-01T06:57:41",
          "1970-01-01T06:57:41",
          "1970-01-01T06:57:41",
          "1970-01-01T09:10:31",
          "1970-01-01T09:10:31",
          "1970-01-01T09:56:06",
          "1970-01-01T09:56:06",
          "1970-01-01T09:56:06",
          "1970-01-01T12:08:56",
          "1970-01-01T12:08:56",
          "1970-01-01T12:54:31",
          "1970-01-01T12:54:31",
          "1970-01-01T12:54:31",
          "1970-01-01T15:07:21",
          "1970-01-01T15:07:21",
          "1970-01-01T15:52:56",
          "1970-01-01T15:52:56",
          "1970-01-01T15:52:56",
          "1970-01-01T18:05:46",
          "1970-01-01T18:05:46",
          "1970-01-01T18:51:21",
          "1970-01-01T18:51:21",
          "1970-01-01T18:51:21"
         ],
         "y": [
          "Barge I",
          "Barge I",
          "Barge I",
          "Barge I",
          null,
          "Barge I",
          "Barge I",
          "Barge I",
          "Barge I",
          null,
          "Barge I",
          "Barge I",
          "Barge I",
          "Barge I",
          null,
          "Barge I",
          "Barge I",
          "Barge I",
          "Barge I",
          null,
          "Barge I",
          "Barge I",
          "Barge I",
          "Barge I",
          null,
          "Barge I",
          "Barge I",
          "Barge I",
          "Barge I",
          null,
          "Reclamation",
          "Reclamation",
          "Reclamation",
          "Reclamation",
          null,
          "Reclamation",
          "Reclamation",
          "Reclamation",
          "Reclamation",
          null,
          "Reclamation",
          "Reclamation",
          "Reclamation",
          "Reclamation",
          null,
          "Reclamation",
          "Reclamation",
          "Reclamation",
          "Reclamation",
          null,
          "Reclamation",
          "Reclamation",
          "Reclamation",
          "Reclamation",
          null,
          "Reclamation",
          "Reclamation",
          "Reclamation",
          "Reclamation",
          null
         ]
        }
       ],
       "layout": {
        "hovermode": "closest",
        "legend": {
         "orientation": "h",
         "x": 0,
         "y": -0.2
        },
        "showlegend": false,
        "template": {
         "data": {
          "bar": [
           {
            "error_x": {
             "color": "#2a3f5f"
            },
            "error_y": {
             "color": "#2a3f5f"
            },
            "marker": {
             "line": {
              "color": "#E5ECF6",
              "width": 0.5
             },
             "pattern": {
              "fillmode": "overlay",
              "size": 10,
              "solidity": 0.2
             }
            },
            "type": "bar"
           }
          ],
          "barpolar": [
           {
            "marker": {
             "line": {
              "color": "#E5ECF6",
              "width": 0.5
             },
             "pattern": {
              "fillmode": "overlay",
              "size": 10,
              "solidity": 0.2
             }
            },
            "type": "barpolar"
           }
          ],
          "carpet": [
           {
            "aaxis": {
             "endlinecolor": "#2a3f5f",
             "gridcolor": "white",
             "linecolor": "white",
             "minorgridcolor": "white",
             "startlinecolor": "#2a3f5f"
            },
            "baxis": {
             "endlinecolor": "#2a3f5f",
             "gridcolor": "white",
             "linecolor": "white",
             "minorgridcolor": "white",
             "startlinecolor": "#2a3f5f"
            },
            "type": "carpet"
           }
          ],
          "choropleth": [
           {
            "colorbar": {
             "outlinewidth": 0,
             "ticks": ""
            },
            "type": "choropleth"
           }
          ],
          "contour": [
           {
            "colorbar": {
             "outlinewidth": 0,
             "ticks": ""
            },
            "colorscale": [
             [
              0,
              "#0d0887"
             ],
             [
              0.1111111111111111,
              "#46039f"
             ],
             [
              0.2222222222222222,
              "#7201a8"
             ],
             [
              0.3333333333333333,
              "#9c179e"
             ],
             [
              0.4444444444444444,
              "#bd3786"
             ],
             [
              0.5555555555555556,
              "#d8576b"
             ],
             [
              0.6666666666666666,
              "#ed7953"
             ],
             [
              0.7777777777777778,
              "#fb9f3a"
             ],
             [
              0.8888888888888888,
              "#fdca26"
             ],
             [
              1,
              "#f0f921"
             ]
            ],
            "type": "contour"
           }
          ],
          "contourcarpet": [
           {
            "colorbar": {
             "outlinewidth": 0,
             "ticks": ""
            },
            "type": "contourcarpet"
           }
          ],
          "heatmap": [
           {
            "colorbar": {
             "outlinewidth": 0,
             "ticks": ""
            },
            "colorscale": [
             [
              0,
              "#0d0887"
             ],
             [
              0.1111111111111111,
              "#46039f"
             ],
             [
              0.2222222222222222,
              "#7201a8"
             ],
             [
              0.3333333333333333,
              "#9c179e"
             ],
             [
              0.4444444444444444,
              "#bd3786"
             ],
             [
              0.5555555555555556,
              "#d8576b"
             ],
             [
              0.6666666666666666,
              "#ed7953"
             ],
             [
              0.7777777777777778,
              "#fb9f3a"
             ],
             [
              0.8888888888888888,
              "#fdca26"
             ],
             [
              1,
              "#f0f921"
             ]
            ],
            "type": "heatmap"
           }
          ],
          "heatmapgl": [
           {
            "colorbar": {
             "outlinewidth": 0,
             "ticks": ""
            },
            "colorscale": [
             [
              0,
              "#0d0887"
             ],
             [
              0.1111111111111111,
              "#46039f"
             ],
             [
              0.2222222222222222,
              "#7201a8"
             ],
             [
              0.3333333333333333,
              "#9c179e"
             ],
             [
              0.4444444444444444,
              "#bd3786"
             ],
             [
              0.5555555555555556,
              "#d8576b"
             ],
             [
              0.6666666666666666,
              "#ed7953"
             ],
             [
              0.7777777777777778,
              "#fb9f3a"
             ],
             [
              0.8888888888888888,
              "#fdca26"
             ],
             [
              1,
              "#f0f921"
             ]
            ],
            "type": "heatmapgl"
           }
          ],
          "histogram": [
           {
            "marker": {
             "pattern": {
              "fillmode": "overlay",
              "size": 10,
              "solidity": 0.2
             }
            },
            "type": "histogram"
           }
          ],
          "histogram2d": [
           {
            "colorbar": {
             "outlinewidth": 0,
             "ticks": ""
            },
            "colorscale": [
             [
              0,
              "#0d0887"
             ],
             [
              0.1111111111111111,
              "#46039f"
             ],
             [
              0.2222222222222222,
              "#7201a8"
             ],
             [
              0.3333333333333333,
              "#9c179e"
             ],
             [
              0.4444444444444444,
              "#bd3786"
             ],
             [
              0.5555555555555556,
              "#d8576b"
             ],
             [
              0.6666666666666666,
              "#ed7953"
             ],
             [
              0.7777777777777778,
              "#fb9f3a"
             ],
             [
              0.8888888888888888,
              "#fdca26"
             ],
             [
              1,
              "#f0f921"
             ]
            ],
            "type": "histogram2d"
           }
          ],
          "histogram2dcontour": [
           {
            "colorbar": {
             "outlinewidth": 0,
             "ticks": ""
            },
            "colorscale": [
             [
              0,
              "#0d0887"
             ],
             [
              0.1111111111111111,
              "#46039f"
             ],
             [
              0.2222222222222222,
              "#7201a8"
             ],
             [
              0.3333333333333333,
              "#9c179e"
             ],
             [
              0.4444444444444444,
              "#bd3786"
             ],
             [
              0.5555555555555556,
              "#d8576b"
             ],
             [
              0.6666666666666666,
              "#ed7953"
             ],
             [
              0.7777777777777778,
              "#fb9f3a"
             ],
             [
              0.8888888888888888,
              "#fdca26"
             ],
             [
              1,
              "#f0f921"
             ]
            ],
            "type": "histogram2dcontour"
           }
          ],
          "mesh3d": [
           {
            "colorbar": {
             "outlinewidth": 0,
             "ticks": ""
            },
            "type": "mesh3d"
           }
          ],
          "parcoords": [
           {
            "line": {
             "colorbar": {
              "outlinewidth": 0,
              "ticks": ""
             }
            },
            "type": "parcoords"
           }
          ],
          "pie": [
           {
            "automargin": true,
            "type": "pie"
           }
          ],
          "scatter": [
           {
            "fillpattern": {
             "fillmode": "overlay",
             "size": 10,
             "solidity": 0.2
            },
            "type": "scatter"
           }
          ],
          "scatter3d": [
           {
            "line": {
             "colorbar": {
              "outlinewidth": 0,
              "ticks": ""
             }
            },
            "marker": {
             "colorbar": {
              "outlinewidth": 0,
              "ticks": ""
             }
            },
            "type": "scatter3d"
           }
          ],
          "scattercarpet": [
           {
            "marker": {
             "colorbar": {
              "outlinewidth": 0,
              "ticks": ""
             }
            },
            "type": "scattercarpet"
           }
          ],
          "scattergeo": [
           {
            "marker": {
             "colorbar": {
              "outlinewidth": 0,
              "ticks": ""
             }
            },
            "type": "scattergeo"
           }
          ],
          "scattergl": [
           {
            "marker": {
             "colorbar": {
              "outlinewidth": 0,
              "ticks": ""
             }
            },
            "type": "scattergl"
           }
          ],
          "scattermapbox": [
           {
            "marker": {
             "colorbar": {
              "outlinewidth": 0,
              "ticks": ""
             }
            },
            "type": "scattermapbox"
           }
          ],
          "scatterpolar": [
           {
            "marker": {
             "colorbar": {
              "outlinewidth": 0,
              "ticks": ""
             }
            },
            "type": "scatterpolar"
           }
          ],
          "scatterpolargl": [
           {
            "marker": {
             "colorbar": {
              "outlinewidth": 0,
              "ticks": ""
             }
            },
            "type": "scatterpolargl"
           }
          ],
          "scatterternary": [
           {
            "marker": {
             "colorbar": {
              "outlinewidth": 0,
              "ticks": ""
             }
            },
            "type": "scatterternary"
           }
          ],
          "surface": [
           {
            "colorbar": {
             "outlinewidth": 0,
             "ticks": ""
            },
            "colorscale": [
             [
              0,
              "#0d0887"
             ],
             [
              0.1111111111111111,
              "#46039f"
             ],
             [
              0.2222222222222222,
              "#7201a8"
             ],
             [
              0.3333333333333333,
              "#9c179e"
             ],
             [
              0.4444444444444444,
              "#bd3786"
             ],
             [
              0.5555555555555556,
              "#d8576b"
             ],
             [
              0.6666666666666666,
              "#ed7953"
             ],
             [
              0.7777777777777778,
              "#fb9f3a"
             ],
             [
              0.8888888888888888,
              "#fdca26"
             ],
             [
              1,
              "#f0f921"
             ]
            ],
            "type": "surface"
           }
          ],
          "table": [
           {
            "cells": {
             "fill": {
              "color": "#EBF0F8"
             },
             "line": {
              "color": "white"
             }
            },
            "header": {
             "fill": {
              "color": "#C8D4E3"
             },
             "line": {
              "color": "white"
             }
            },
            "type": "table"
           }
          ]
         },
         "layout": {
          "annotationdefaults": {
           "arrowcolor": "#2a3f5f",
           "arrowhead": 0,
           "arrowwidth": 1
          },
          "autotypenumbers": "strict",
          "coloraxis": {
           "colorbar": {
            "outlinewidth": 0,
            "ticks": ""
           }
          },
          "colorscale": {
           "diverging": [
            [
             0,
             "#8e0152"
            ],
            [
             0.1,
             "#c51b7d"
            ],
            [
             0.2,
             "#de77ae"
            ],
            [
             0.3,
             "#f1b6da"
            ],
            [
             0.4,
             "#fde0ef"
            ],
            [
             0.5,
             "#f7f7f7"
            ],
            [
             0.6,
             "#e6f5d0"
            ],
            [
             0.7,
             "#b8e186"
            ],
            [
             0.8,
             "#7fbc41"
            ],
            [
             0.9,
             "#4d9221"
            ],
            [
             1,
             "#276419"
            ]
           ],
           "sequential": [
            [
             0,
             "#0d0887"
            ],
            [
             0.1111111111111111,
             "#46039f"
            ],
            [
             0.2222222222222222,
             "#7201a8"
            ],
            [
             0.3333333333333333,
             "#9c179e"
            ],
            [
             0.4444444444444444,
             "#bd3786"
            ],
            [
             0.5555555555555556,
             "#d8576b"
            ],
            [
             0.6666666666666666,
             "#ed7953"
            ],
            [
             0.7777777777777778,
             "#fb9f3a"
            ],
            [
             0.8888888888888888,
             "#fdca26"
            ],
            [
             1,
             "#f0f921"
            ]
           ],
           "sequentialminus": [
            [
             0,
             "#0d0887"
            ],
            [
             0.1111111111111111,
             "#46039f"
            ],
            [
             0.2222222222222222,
             "#7201a8"
            ],
            [
             0.3333333333333333,
             "#9c179e"
            ],
            [
             0.4444444444444444,
             "#bd3786"
            ],
            [
             0.5555555555555556,
             "#d8576b"
            ],
            [
             0.6666666666666666,
             "#ed7953"
            ],
            [
             0.7777777777777778,
             "#fb9f3a"
            ],
            [
             0.8888888888888888,
             "#fdca26"
            ],
            [
             1,
             "#f0f921"
            ]
           ]
          },
          "colorway": [
           "#636efa",
           "#EF553B",
           "#00cc96",
           "#ab63fa",
           "#FFA15A",
           "#19d3f3",
           "#FF6692",
           "#B6E880",
           "#FF97FF",
           "#FECB52"
          ],
          "font": {
           "color": "#2a3f5f"
          },
          "geo": {
           "bgcolor": "white",
           "lakecolor": "white",
           "landcolor": "#E5ECF6",
           "showlakes": true,
           "showland": true,
           "subunitcolor": "white"
          },
          "hoverlabel": {
           "align": "left"
          },
          "hovermode": "closest",
          "mapbox": {
           "style": "light"
          },
          "paper_bgcolor": "white",
          "plot_bgcolor": "#E5ECF6",
          "polar": {
           "angularaxis": {
            "gridcolor": "white",
            "linecolor": "white",
            "ticks": ""
           },
           "bgcolor": "#E5ECF6",
           "radialaxis": {
            "gridcolor": "white",
            "linecolor": "white",
            "ticks": ""
           }
          },
          "scene": {
           "xaxis": {
            "backgroundcolor": "#E5ECF6",
            "gridcolor": "white",
            "gridwidth": 2,
            "linecolor": "white",
            "showbackground": true,
            "ticks": "",
            "zerolinecolor": "white"
           },
           "yaxis": {
            "backgroundcolor": "#E5ECF6",
            "gridcolor": "white",
            "gridwidth": 2,
            "linecolor": "white",
            "showbackground": true,
            "ticks": "",
            "zerolinecolor": "white"
           },
           "zaxis": {
            "backgroundcolor": "#E5ECF6",
            "gridcolor": "white",
            "gridwidth": 2,
            "linecolor": "white",
            "showbackground": true,
            "ticks": "",
            "zerolinecolor": "white"
           }
          },
          "shapedefaults": {
           "line": {
            "color": "#2a3f5f"
           }
          },
          "ternary": {
           "aaxis": {
            "gridcolor": "white",
            "linecolor": "white",
            "ticks": ""
           },
           "baxis": {
            "gridcolor": "white",
            "linecolor": "white",
            "ticks": ""
           },
           "bgcolor": "#E5ECF6",
           "caxis": {
            "gridcolor": "white",
            "linecolor": "white",
            "ticks": ""
           }
          },
          "title": {
           "x": 0.05
          },
          "xaxis": {
           "automargin": true,
           "gridcolor": "white",
           "linecolor": "white",
           "ticks": "",
           "title": {
            "standoff": 15
           },
           "zerolinecolor": "white",
           "zerolinewidth": 2
          },
          "yaxis": {
           "automargin": true,
           "gridcolor": "white",
           "linecolor": "white",
           "ticks": "",
           "title": {
            "standoff": 15
           },
           "zerolinecolor": "white",
           "zerolinewidth": 2
          }
         }
        },
        "title": {
         "text": "Cutter T occupancy: 82.1duration actual: 62090.0"
        },
        "xaxis": {
         "range": [
          "1970-01-01T00:00:00",
          "1970-01-01T19:31:28"
         ],
         "title": {
          "font": {
           "color": "#7f7f7f",
           "family": "Courier New, monospace",
           "size": 18
          },
          "text": "Time"
         }
        },
        "yaxis": {
         "title": {
          "font": {
           "color": "#7f7f7f",
           "family": "Courier New, monospace",
           "size": 18
          },
          "text": "vesels"
         }
        }
       }
      },
      "text/html": [
       "<div>                            <div id=\"db653751-19c5-4310-a460-80bee31c34c1\" class=\"plotly-graph-div\" style=\"height:525px; width:100%;\"></div>            <script type=\"text/javascript\">                require([\"plotly\"], function(Plotly) {                    window.PLOTLYENV=window.PLOTLYENV || {};                                    if (document.getElementById(\"db653751-19c5-4310-a460-80bee31c34c1\")) {                    Plotly.newPlot(                        \"db653751-19c5-4310-a460-80bee31c34c1\",                        [{\"connectgaps\":false,\"hoverinfo\":\"name\",\"line\":{\"color\":\"red\",\"width\":14},\"mode\":\"lines\",\"name\":\"critical_path\",\"x\":[\"1970-01-01T00:00:00\",\"1970-01-01T00:39:46\",\"1970-01-01T00:39:46\",\"1970-01-01T00:39:46\",\"1970-01-01T01:13:06\",\"1970-01-01T01:13:06\",\"1970-01-01T00:39:46\",\"1970-01-01T01:13:06\",\"1970-01-01T01:13:06\",\"1970-01-01T00:39:46\",\"1970-01-01T01:13:06\",\"1970-01-01T01:13:06\",\"1970-01-01T01:13:06\",\"1970-01-01T01:46:26\",\"1970-01-01T01:46:26\",\"1970-01-01T01:13:06\",\"1970-01-01T01:46:26\",\"1970-01-01T01:46:26\",\"1970-01-01T01:13:06\",\"1970-01-01T01:46:26\",\"1970-01-01T01:46:26\",\"1970-01-01T01:46:26\",\"1970-01-01T02:28:06\",\"1970-01-01T02:28:06\",\"1970-01-01T01:46:26\",\"1970-01-01T02:28:06\",\"1970-01-01T02:28:06\",\"1970-01-01T01:46:26\",\"1970-01-01T02:28:06\",\"1970-01-01T02:28:06\",\"1970-01-01T02:28:06\",\"1970-01-01T03:01:26\",\"1970-01-01T03:01:26\",\"1970-01-01T02:28:06\",\"1970-01-01T03:01:26\",\"1970-01-01T03:01:26\",\"1970-01-01T02:28:06\",\"1970-01-01T03:01:26\",\"1970-01-01T03:01:26\",\"1970-01-01T03:01:26\",\"1970-01-01T03:49:52\",\"1970-01-01T03:49:52\",\"1970-01-01T03:49:52\",\"1970-01-01T04:38:18\",\"1970-01-01T04:38:18\",\"1970-01-01T03:49:52\",\"1970-01-01T04:38:18\",\"1970-01-01T04:38:18\",\"1970-01-01T04:38:18\",\"1970-01-01T05:26:44\",\"1970-01-01T05:26:44\",\"1970-01-01T05:26:44\",\"1970-01-01T06:00:04\",\"1970-01-01T06:00:04\",\"1970-01-01T05:26:44\",\"1970-01-01T06:00:04\",\"1970-01-01T06:00:04\",\"1970-01-01T05:26:44\",\"1970-01-01T06:00:04\",\"1970-01-01T06:00:04\",\"1970-01-01T06:00:04\",\"1970-01-01T06:48:30\",\"1970-01-01T06:48:30\",\"1970-01-01T06:48:30\",\"1970-01-01T07:36:56\",\"1970-01-01T07:36:56\",\"1970-01-01T06:48:30\",\"1970-01-01T07:36:56\",\"1970-01-01T07:36:56\",\"1970-01-01T07:36:56\",\"1970-01-01T08:25:22\",\"1970-01-01T08:25:22\",\"1970-01-01T08:25:22\",\"1970-01-01T08:58:42\",\"1970-01-01T08:58:42\",\"1970-01-01T08:25:22\",\"1970-01-01T08:58:42\",\"1970-01-01T08:58:42\",\"1970-01-01T08:25:22\",\"1970-01-01T08:58:42\",\"1970-01-01T08:58:42\",\"1970-01-01T08:58:42\",\"1970-01-01T09:47:08\",\"1970-01-01T09:47:08\",\"1970-01-01T09:47:08\",\"1970-01-01T10:35:34\",\"1970-01-01T10:35:34\",\"1970-01-01T09:47:08\",\"1970-01-01T10:35:34\",\"1970-01-01T10:35:34\",\"1970-01-01T10:35:34\",\"1970-01-01T11:24:00\",\"1970-01-01T11:24:00\",\"1970-01-01T11:24:00\",\"1970-01-01T11:57:20\",\"1970-01-01T11:57:20\",\"1970-01-01T11:24:00\",\"1970-01-01T11:57:20\",\"1970-01-01T11:57:20\",\"1970-01-01T11:24:00\",\"1970-01-01T11:57:20\",\"1970-01-01T11:57:20\",\"1970-01-01T11:57:20\",\"1970-01-01T12:45:46\",\"1970-01-01T12:45:46\",\"1970-01-01T12:45:46\",\"1970-01-01T13:34:12\",\"1970-01-01T13:34:12\",\"1970-01-01T12:45:46\",\"1970-01-01T13:34:12\",\"1970-01-01T13:34:12\",\"1970-01-01T13:34:12\",\"1970-01-01T14:22:38\",\"1970-01-01T14:22:38\",\"1970-01-01T14:22:38\",\"1970-01-01T14:55:58\",\"1970-01-01T14:55:58\",\"1970-01-01T14:22:38\",\"1970-01-01T14:55:58\",\"1970-01-01T14:55:58\",\"1970-01-01T14:22:38\",\"1970-01-01T14:55:58\",\"1970-01-01T14:55:58\",\"1970-01-01T14:55:58\",\"1970-01-01T15:44:24\",\"1970-01-01T15:44:24\",\"1970-01-01T15:44:24\",\"1970-01-01T16:32:50\",\"1970-01-01T16:32:50\",\"1970-01-01T15:44:24\",\"1970-01-01T16:32:50\",\"1970-01-01T16:32:50\",\"1970-01-01T16:32:50\",\"1970-01-01T17:21:16\",\"1970-01-01T17:21:16\",\"1970-01-01T17:21:16\",\"1970-01-01T17:54:36\",\"1970-01-01T17:54:36\",\"1970-01-01T17:21:16\",\"1970-01-01T17:54:36\",\"1970-01-01T17:54:36\",\"1970-01-01T17:21:16\",\"1970-01-01T17:54:36\",\"1970-01-01T17:54:36\",\"1970-01-01T17:54:36\",\"1970-01-01T18:43:02\",\"1970-01-01T18:43:02\",\"1970-01-01T18:43:02\",\"1970-01-01T19:31:28\",\"1970-01-01T19:31:28\",\"1970-01-01T18:43:02\",\"1970-01-01T19:31:28\",\"1970-01-01T19:31:28\"],\"y\":[\"Carrier A\",\"Carrier A\",null,\"Carrier A\",\"Carrier A\",null,\"Cutter T\",\"Cutter T\",null,\"Trench\",\"Trench\",null,\"Carrier B\",\"Carrier B\",null,\"Cutter T\",\"Cutter T\",null,\"Trench\",\"Trench\",null,\"Barge I\",\"Barge I\",null,\"Cutter T\",\"Cutter T\",null,\"Trench\",\"Trench\",null,\"Carrier C\",\"Carrier C\",null,\"Cutter T\",\"Cutter T\",null,\"Trench\",\"Trench\",null,\"Carrier C\",\"Carrier C\",null,\"Carrier C\",\"Carrier C\",null,\"Reclamation\",\"Reclamation\",null,\"Carrier C\",\"Carrier C\",null,\"Carrier C\",\"Carrier C\",null,\"Cutter T\",\"Cutter T\",null,\"Trench\",\"Trench\",null,\"Carrier C\",\"Carrier C\",null,\"Carrier C\",\"Carrier C\",null,\"Reclamation\",\"Reclamation\",null,\"Carrier C\",\"Carrier C\",null,\"Carrier C\",\"Carrier C\",null,\"Cutter T\",\"Cutter T\",null,\"Trench\",\"Trench\",null,\"Carrier C\",\"Carrier C\",null,\"Carrier C\",\"Carrier C\",null,\"Reclamation\",\"Reclamation\",null,\"Carrier C\",\"Carrier C\",null,\"Carrier C\",\"Carrier C\",null,\"Cutter T\",\"Cutter T\",null,\"Trench\",\"Trench\",null,\"Carrier C\",\"Carrier C\",null,\"Carrier C\",\"Carrier C\",null,\"Reclamation\",\"Reclamation\",null,\"Carrier C\",\"Carrier C\",null,\"Carrier C\",\"Carrier C\",null,\"Cutter T\",\"Cutter T\",null,\"Trench\",\"Trench\",null,\"Carrier C\",\"Carrier C\",null,\"Carrier C\",\"Carrier C\",null,\"Reclamation\",\"Reclamation\",null,\"Carrier C\",\"Carrier C\",null,\"Carrier C\",\"Carrier C\",null,\"Cutter T\",\"Cutter T\",null,\"Trench\",\"Trench\",null,\"Carrier C\",\"Carrier C\",null,\"Carrier C\",\"Carrier C\",null,\"Reclamation\",\"Reclamation\",null],\"type\":\"scatter\"},{\"connectgaps\":false,\"hoverinfo\":\"y+name\",\"line\":{\"color\":\"rgb(164,71,47)\",\"width\":10},\"mode\":\"lines\",\"name\":\"loading:Carrier A\",\"x\":[\"1970-01-01T00:39:46\",\"1970-01-01T00:39:46\",\"1970-01-01T01:13:06\",\"1970-01-01T01:13:06\",\"1970-01-01T01:13:06\",\"1970-01-01T03:12:24\",\"1970-01-01T03:12:24\",\"1970-01-01T03:45:44\",\"1970-01-01T03:45:44\",\"1970-01-01T03:45:44\",\"1970-01-01T06:00:04\",\"1970-01-01T06:00:04\",\"1970-01-01T06:33:24\",\"1970-01-01T06:33:24\",\"1970-01-01T06:33:24\",\"1970-01-01T08:58:42\",\"1970-01-01T08:58:42\",\"1970-01-01T09:32:02\",\"1970-01-01T09:32:02\",\"1970-01-01T09:32:02\",\"1970-01-01T11:57:20\",\"1970-01-01T11:57:20\",\"1970-01-01T12:30:40\",\"1970-01-01T12:30:40\",\"1970-01-01T12:30:40\",\"1970-01-01T14:55:58\",\"1970-01-01T14:55:58\",\"1970-01-01T15:29:18\",\"1970-01-01T15:29:18\",\"1970-01-01T15:29:18\",\"1970-01-01T00:39:46\",\"1970-01-01T00:39:46\",\"1970-01-01T01:13:06\",\"1970-01-01T01:13:06\",\"1970-01-01T01:13:06\",\"1970-01-01T03:12:24\",\"1970-01-01T03:12:24\",\"1970-01-01T03:45:44\",\"1970-01-01T03:45:44\",\"1970-01-01T03:45:44\",\"1970-01-01T06:00:04\",\"1970-01-01T06:00:04\",\"1970-01-01T06:33:24\",\"1970-01-01T06:33:24\",\"1970-01-01T06:33:24\",\"1970-01-01T08:58:42\",\"1970-01-01T08:58:42\",\"1970-01-01T09:32:02\",\"1970-01-01T09:32:02\",\"1970-01-01T09:32:02\",\"1970-01-01T11:57:20\",\"1970-01-01T11:57:20\",\"1970-01-01T12:30:40\",\"1970-01-01T12:30:40\",\"1970-01-01T12:30:40\",\"1970-01-01T14:55:58\",\"1970-01-01T14:55:58\",\"1970-01-01T15:29:18\",\"1970-01-01T15:29:18\",\"1970-01-01T15:29:18\",\"1970-01-01T00:39:46\",\"1970-01-01T00:39:46\",\"1970-01-01T01:13:06\",\"1970-01-01T01:13:06\",\"1970-01-01T01:13:06\",\"1970-01-01T03:12:24\",\"1970-01-01T03:12:24\",\"1970-01-01T03:45:44\",\"1970-01-01T03:45:44\",\"1970-01-01T03:45:44\",\"1970-01-01T06:00:04\",\"1970-01-01T06:00:04\",\"1970-01-01T06:33:24\",\"1970-01-01T06:33:24\",\"1970-01-01T06:33:24\",\"1970-01-01T08:58:42\",\"1970-01-01T08:58:42\",\"1970-01-01T09:32:02\",\"1970-01-01T09:32:02\",\"1970-01-01T09:32:02\",\"1970-01-01T11:57:20\",\"1970-01-01T11:57:20\",\"1970-01-01T12:30:40\",\"1970-01-01T12:30:40\",\"1970-01-01T12:30:40\",\"1970-01-01T14:55:58\",\"1970-01-01T14:55:58\",\"1970-01-01T15:29:18\",\"1970-01-01T15:29:18\",\"1970-01-01T15:29:18\"],\"y\":[\"Carrier A\",\"Carrier A\",\"Carrier A\",\"Carrier A\",null,\"Carrier A\",\"Carrier A\",\"Carrier A\",\"Carrier A\",null,\"Carrier A\",\"Carrier A\",\"Carrier A\",\"Carrier A\",null,\"Carrier A\",\"Carrier A\",\"Carrier A\",\"Carrier A\",null,\"Carrier A\",\"Carrier A\",\"Carrier A\",\"Carrier A\",null,\"Carrier A\",\"Carrier A\",\"Carrier A\",\"Carrier A\",null,\"Cutter T\",\"Cutter T\",\"Cutter T\",\"Cutter T\",null,\"Cutter T\",\"Cutter T\",\"Cutter T\",\"Cutter T\",null,\"Cutter T\",\"Cutter T\",\"Cutter T\",\"Cutter T\",null,\"Cutter T\",\"Cutter T\",\"Cutter T\",\"Cutter T\",null,\"Cutter T\",\"Cutter T\",\"Cutter T\",\"Cutter T\",null,\"Cutter T\",\"Cutter T\",\"Cutter T\",\"Cutter T\",null,\"Trench\",\"Trench\",\"Trench\",\"Trench\",null,\"Trench\",\"Trench\",\"Trench\",\"Trench\",null,\"Trench\",\"Trench\",\"Trench\",\"Trench\",null,\"Trench\",\"Trench\",\"Trench\",\"Trench\",null,\"Trench\",\"Trench\",\"Trench\",\"Trench\",null,\"Trench\",\"Trench\",\"Trench\",\"Trench\",null],\"type\":\"scatter\"},{\"connectgaps\":false,\"hoverinfo\":\"y+name\",\"line\":{\"color\":\"rgb(173,80,56)\",\"width\":10},\"mode\":\"lines\",\"name\":\"unloading:Carrier A\",\"x\":[\"1970-01-01T01:52:52\",\"1970-01-01T01:52:52\",\"1970-01-01T02:32:38\",\"1970-01-01T02:32:38\",\"1970-01-01T02:32:38\",\"1970-01-01T04:25:30\",\"1970-01-01T04:25:30\",\"1970-01-01T05:05:16\",\"1970-01-01T05:05:16\",\"1970-01-01T05:05:16\",\"1970-01-01T07:13:10\",\"1970-01-01T07:13:10\",\"1970-01-01T07:52:56\",\"1970-01-01T07:52:56\",\"1970-01-01T07:52:56\",\"1970-01-01T10:11:48\",\"1970-01-01T10:11:48\",\"1970-01-01T10:51:34\",\"1970-01-01T10:51:34\",\"1970-01-01T10:51:34\",\"1970-01-01T13:10:26\",\"1970-01-01T13:10:26\",\"1970-01-01T13:50:12\",\"1970-01-01T13:50:12\",\"1970-01-01T13:50:12\",\"1970-01-01T16:09:04\",\"1970-01-01T16:09:04\",\"1970-01-01T16:48:50\",\"1970-01-01T16:48:50\",\"1970-01-01T16:48:50\",\"1970-01-01T01:52:52\",\"1970-01-01T01:52:52\",\"1970-01-01T02:32:38\",\"1970-01-01T02:32:38\",\"1970-01-01T02:32:38\",\"1970-01-01T04:25:30\",\"1970-01-01T04:25:30\",\"1970-01-01T05:05:16\",\"1970-01-01T05:05:16\",\"1970-01-01T05:05:16\",\"1970-01-01T07:13:10\",\"1970-01-01T07:13:10\",\"1970-01-01T07:52:56\",\"1970-01-01T07:52:56\",\"1970-01-01T07:52:56\",\"1970-01-01T10:11:48\",\"1970-01-01T10:11:48\",\"1970-01-01T10:51:34\",\"1970-01-01T10:51:34\",\"1970-01-01T10:51:34\",\"1970-01-01T13:10:26\",\"1970-01-01T13:10:26\",\"1970-01-01T13:50:12\",\"1970-01-01T13:50:12\",\"1970-01-01T13:50:12\",\"1970-01-01T16:09:04\",\"1970-01-01T16:09:04\",\"1970-01-01T16:48:50\",\"1970-01-01T16:48:50\",\"1970-01-01T16:48:50\"],\"y\":[\"Carrier A\",\"Carrier A\",\"Carrier A\",\"Carrier A\",null,\"Carrier A\",\"Carrier A\",\"Carrier A\",\"Carrier A\",null,\"Carrier A\",\"Carrier A\",\"Carrier A\",\"Carrier A\",null,\"Carrier A\",\"Carrier A\",\"Carrier A\",\"Carrier A\",null,\"Carrier A\",\"Carrier A\",\"Carrier A\",\"Carrier A\",null,\"Carrier A\",\"Carrier A\",\"Carrier A\",\"Carrier A\",null,\"Reclamation\",\"Reclamation\",\"Reclamation\",\"Reclamation\",null,\"Reclamation\",\"Reclamation\",\"Reclamation\",\"Reclamation\",null,\"Reclamation\",\"Reclamation\",\"Reclamation\",\"Reclamation\",null,\"Reclamation\",\"Reclamation\",\"Reclamation\",\"Reclamation\",null,\"Reclamation\",\"Reclamation\",\"Reclamation\",\"Reclamation\",null,\"Reclamation\",\"Reclamation\",\"Reclamation\",\"Reclamation\",null],\"type\":\"scatter\"},{\"connectgaps\":false,\"hoverinfo\":\"y+name\",\"line\":{\"color\":\"rgb(182,89,65)\",\"width\":10},\"mode\":\"lines\",\"name\":\"sailing empty:Carrier A\",\"x\":[\"1970-01-01T00:00:00\",\"1970-01-01T00:00:00\",\"1970-01-01T00:39:46\",\"1970-01-01T00:39:46\",\"1970-01-01T00:39:46\",\"1970-01-01T02:32:38\",\"1970-01-01T02:32:38\",\"1970-01-01T03:12:24\",\"1970-01-01T03:12:24\",\"1970-01-01T03:12:24\",\"1970-01-01T05:05:16\",\"1970-01-01T05:05:16\",\"1970-01-01T05:45:02\",\"1970-01-01T05:45:02\",\"1970-01-01T05:45:02\",\"1970-01-01T07:52:56\",\"1970-01-01T07:52:56\",\"1970-01-01T08:32:42\",\"1970-01-01T08:32:42\",\"1970-01-01T08:32:42\",\"1970-01-01T10:51:34\",\"1970-01-01T10:51:34\",\"1970-01-01T11:31:20\",\"1970-01-01T11:31:20\",\"1970-01-01T11:31:20\",\"1970-01-01T13:50:12\",\"1970-01-01T13:50:12\",\"1970-01-01T14:29:58\",\"1970-01-01T14:29:58\",\"1970-01-01T14:29:58\"],\"y\":[\"Carrier A\",\"Carrier A\",\"Carrier A\",\"Carrier A\",null,\"Carrier A\",\"Carrier A\",\"Carrier A\",\"Carrier A\",null,\"Carrier A\",\"Carrier A\",\"Carrier A\",\"Carrier A\",null,\"Carrier A\",\"Carrier A\",\"Carrier A\",\"Carrier A\",null,\"Carrier A\",\"Carrier A\",\"Carrier A\",\"Carrier A\",null,\"Carrier A\",\"Carrier A\",\"Carrier A\",\"Carrier A\",null],\"type\":\"scatter\"},{\"connectgaps\":false,\"hoverinfo\":\"y+name\",\"line\":{\"color\":\"rgb(191,98,74)\",\"width\":10},\"mode\":\"lines\",\"name\":\"sailing full:Carrier A\",\"x\":[\"1970-01-01T01:13:06\",\"1970-01-01T01:13:06\",\"1970-01-01T01:52:52\",\"1970-01-01T01:52:52\",\"1970-01-01T01:52:52\",\"1970-01-01T03:45:44\",\"1970-01-01T03:45:44\",\"1970-01-01T04:25:30\",\"1970-01-01T04:25:30\",\"1970-01-01T04:25:30\",\"1970-01-01T06:33:24\",\"1970-01-01T06:33:24\",\"1970-01-01T07:13:10\",\"1970-01-01T07:13:10\",\"1970-01-01T07:13:10\",\"1970-01-01T09:32:02\",\"1970-01-01T09:32:02\",\"1970-01-01T10:11:48\",\"1970-01-01T10:11:48\",\"1970-01-01T10:11:48\",\"1970-01-01T12:30:40\",\"1970-01-01T12:30:40\",\"1970-01-01T13:10:26\",\"1970-01-01T13:10:26\",\"1970-01-01T13:10:26\",\"1970-01-01T15:29:18\",\"1970-01-01T15:29:18\",\"1970-01-01T16:09:04\",\"1970-01-01T16:09:04\",\"1970-01-01T16:09:04\"],\"y\":[\"Carrier A\",\"Carrier A\",\"Carrier A\",\"Carrier A\",null,\"Carrier A\",\"Carrier A\",\"Carrier A\",\"Carrier A\",null,\"Carrier A\",\"Carrier A\",\"Carrier A\",\"Carrier A\",null,\"Carrier A\",\"Carrier A\",\"Carrier A\",\"Carrier A\",null,\"Carrier A\",\"Carrier A\",\"Carrier A\",\"Carrier A\",null,\"Carrier A\",\"Carrier A\",\"Carrier A\",\"Carrier A\",null],\"type\":\"scatter\"},{\"connectgaps\":false,\"hoverinfo\":\"y+name\",\"line\":{\"color\":\"rgb(200,107,83)\",\"width\":10},\"mode\":\"lines\",\"name\":\"unloading:Carrier B\",\"x\":[\"1970-01-01T02:29:18\",\"1970-01-01T02:29:18\",\"1970-01-01T03:12:10\",\"1970-01-01T03:12:10\",\"1970-01-01T03:12:10\",\"1970-01-01T05:11:14\",\"1970-01-01T05:11:14\",\"1970-01-01T05:54:06\",\"1970-01-01T05:54:06\",\"1970-01-01T05:54:06\",\"1970-01-01T07:53:10\",\"1970-01-01T07:53:10\",\"1970-01-01T08:36:02\",\"1970-01-01T08:36:02\",\"1970-01-01T08:36:02\",\"1970-01-01T10:48:14\",\"1970-01-01T10:48:14\",\"1970-01-01T11:31:06\",\"1970-01-01T11:31:06\",\"1970-01-01T11:31:06\",\"1970-01-01T13:46:52\",\"1970-01-01T13:46:52\",\"1970-01-01T14:29:44\",\"1970-01-01T14:29:44\",\"1970-01-01T14:29:44\",\"1970-01-01T16:45:30\",\"1970-01-01T16:45:30\",\"1970-01-01T17:28:22\",\"1970-01-01T17:28:22\",\"1970-01-01T17:28:22\",\"1970-01-01T02:29:18\",\"1970-01-01T02:29:18\",\"1970-01-01T03:12:10\",\"1970-01-01T03:12:10\",\"1970-01-01T03:12:10\",\"1970-01-01T05:11:14\",\"1970-01-01T05:11:14\",\"1970-01-01T05:54:06\",\"1970-01-01T05:54:06\",\"1970-01-01T05:54:06\",\"1970-01-01T07:53:10\",\"1970-01-01T07:53:10\",\"1970-01-01T08:36:02\",\"1970-01-01T08:36:02\",\"1970-01-01T08:36:02\",\"1970-01-01T10:48:14\",\"1970-01-01T10:48:14\",\"1970-01-01T11:31:06\",\"1970-01-01T11:31:06\",\"1970-01-01T11:31:06\",\"1970-01-01T13:46:52\",\"1970-01-01T13:46:52\",\"1970-01-01T14:29:44\",\"1970-01-01T14:29:44\",\"1970-01-01T14:29:44\",\"1970-01-01T16:45:30\",\"1970-01-01T16:45:30\",\"1970-01-01T17:28:22\",\"1970-01-01T17:28:22\",\"1970-01-01T17:28:22\"],\"y\":[\"Carrier B\",\"Carrier B\",\"Carrier B\",\"Carrier B\",null,\"Carrier B\",\"Carrier B\",\"Carrier B\",\"Carrier B\",null,\"Carrier B\",\"Carrier B\",\"Carrier B\",\"Carrier B\",null,\"Carrier B\",\"Carrier B\",\"Carrier B\",\"Carrier B\",null,\"Carrier B\",\"Carrier B\",\"Carrier B\",\"Carrier B\",null,\"Carrier B\",\"Carrier B\",\"Carrier B\",\"Carrier B\",null,\"Reclamation\",\"Reclamation\",\"Reclamation\",\"Reclamation\",null,\"Reclamation\",\"Reclamation\",\"Reclamation\",\"Reclamation\",null,\"Reclamation\",\"Reclamation\",\"Reclamation\",\"Reclamation\",null,\"Reclamation\",\"Reclamation\",\"Reclamation\",\"Reclamation\",null,\"Reclamation\",\"Reclamation\",\"Reclamation\",\"Reclamation\",null,\"Reclamation\",\"Reclamation\",\"Reclamation\",\"Reclamation\",null],\"type\":\"scatter\"},{\"connectgaps\":false,\"hoverinfo\":\"y+name\",\"line\":{\"color\":\"rgb(209,116,92)\",\"width\":10},\"mode\":\"lines\",\"name\":\"sailing full:Carrier B\",\"x\":[\"1970-01-01T01:46:26\",\"1970-01-01T01:46:26\",\"1970-01-01T02:29:18\",\"1970-01-01T02:29:18\",\"1970-01-01T02:29:18\",\"1970-01-01T04:28:22\",\"1970-01-01T04:28:22\",\"1970-01-01T05:11:14\",\"1970-01-01T05:11:14\",\"1970-01-01T05:11:14\",\"1970-01-01T07:10:18\",\"1970-01-01T07:10:18\",\"1970-01-01T07:53:10\",\"1970-01-01T07:53:10\",\"1970-01-01T07:53:10\",\"1970-01-01T10:05:22\",\"1970-01-01T10:05:22\",\"1970-01-01T10:48:14\",\"1970-01-01T10:48:14\",\"1970-01-01T10:48:14\",\"1970-01-01T13:04:00\",\"1970-01-01T13:04:00\",\"1970-01-01T13:46:52\",\"1970-01-01T13:46:52\",\"1970-01-01T13:46:52\",\"1970-01-01T16:02:38\",\"1970-01-01T16:02:38\",\"1970-01-01T16:45:30\",\"1970-01-01T16:45:30\",\"1970-01-01T16:45:30\"],\"y\":[\"Carrier B\",\"Carrier B\",\"Carrier B\",\"Carrier B\",null,\"Carrier B\",\"Carrier B\",\"Carrier B\",\"Carrier B\",null,\"Carrier B\",\"Carrier B\",\"Carrier B\",\"Carrier B\",null,\"Carrier B\",\"Carrier B\",\"Carrier B\",\"Carrier B\",null,\"Carrier B\",\"Carrier B\",\"Carrier B\",\"Carrier B\",null,\"Carrier B\",\"Carrier B\",\"Carrier B\",\"Carrier B\",null],\"type\":\"scatter\"},{\"connectgaps\":false,\"hoverinfo\":\"y+name\",\"line\":{\"color\":\"rgb(218,125,101)\",\"width\":10},\"mode\":\"lines\",\"name\":\"loading:Carrier B\",\"x\":[\"1970-01-01T01:13:06\",\"1970-01-01T01:13:06\",\"1970-01-01T01:46:26\",\"1970-01-01T01:46:26\",\"1970-01-01T01:46:26\",\"1970-01-01T03:55:02\",\"1970-01-01T03:55:02\",\"1970-01-01T04:28:22\",\"1970-01-01T04:28:22\",\"1970-01-01T04:28:22\",\"1970-01-01T06:36:58\",\"1970-01-01T06:36:58\",\"1970-01-01T07:10:18\",\"1970-01-01T07:10:18\",\"1970-01-01T07:10:18\",\"1970-01-01T09:32:02\",\"1970-01-01T09:32:02\",\"1970-01-01T10:05:22\",\"1970-01-01T10:05:22\",\"1970-01-01T10:05:22\",\"1970-01-01T12:30:40\",\"1970-01-01T12:30:40\",\"1970-01-01T13:04:00\",\"1970-01-01T13:04:00\",\"1970-01-01T13:04:00\",\"1970-01-01T15:29:18\",\"1970-01-01T15:29:18\",\"1970-01-01T16:02:38\",\"1970-01-01T16:02:38\",\"1970-01-01T16:02:38\",\"1970-01-01T01:13:06\",\"1970-01-01T01:13:06\",\"1970-01-01T01:46:26\",\"1970-01-01T01:46:26\",\"1970-01-01T01:46:26\",\"1970-01-01T03:55:02\",\"1970-01-01T03:55:02\",\"1970-01-01T04:28:22\",\"1970-01-01T04:28:22\",\"1970-01-01T04:28:22\",\"1970-01-01T06:36:58\",\"1970-01-01T06:36:58\",\"1970-01-01T07:10:18\",\"1970-01-01T07:10:18\",\"1970-01-01T07:10:18\",\"1970-01-01T09:32:02\",\"1970-01-01T09:32:02\",\"1970-01-01T10:05:22\",\"1970-01-01T10:05:22\",\"1970-01-01T10:05:22\",\"1970-01-01T12:30:40\",\"1970-01-01T12:30:40\",\"1970-01-01T13:04:00\",\"1970-01-01T13:04:00\",\"1970-01-01T13:04:00\",\"1970-01-01T15:29:18\",\"1970-01-01T15:29:18\",\"1970-01-01T16:02:38\",\"1970-01-01T16:02:38\",\"1970-01-01T16:02:38\",\"1970-01-01T01:13:06\",\"1970-01-01T01:13:06\",\"1970-01-01T01:46:26\",\"1970-01-01T01:46:26\",\"1970-01-01T01:46:26\",\"1970-01-01T03:55:02\",\"1970-01-01T03:55:02\",\"1970-01-01T04:28:22\",\"1970-01-01T04:28:22\",\"1970-01-01T04:28:22\",\"1970-01-01T06:36:58\",\"1970-01-01T06:36:58\",\"1970-01-01T07:10:18\",\"1970-01-01T07:10:18\",\"1970-01-01T07:10:18\",\"1970-01-01T09:32:02\",\"1970-01-01T09:32:02\",\"1970-01-01T10:05:22\",\"1970-01-01T10:05:22\",\"1970-01-01T10:05:22\",\"1970-01-01T12:30:40\",\"1970-01-01T12:30:40\",\"1970-01-01T13:04:00\",\"1970-01-01T13:04:00\",\"1970-01-01T13:04:00\",\"1970-01-01T15:29:18\",\"1970-01-01T15:29:18\",\"1970-01-01T16:02:38\",\"1970-01-01T16:02:38\",\"1970-01-01T16:02:38\"],\"y\":[\"Carrier B\",\"Carrier B\",\"Carrier B\",\"Carrier B\",null,\"Carrier B\",\"Carrier B\",\"Carrier B\",\"Carrier B\",null,\"Carrier B\",\"Carrier B\",\"Carrier B\",\"Carrier B\",null,\"Carrier B\",\"Carrier B\",\"Carrier B\",\"Carrier B\",null,\"Carrier B\",\"Carrier B\",\"Carrier B\",\"Carrier B\",null,\"Carrier B\",\"Carrier B\",\"Carrier B\",\"Carrier B\",null,\"Cutter T\",\"Cutter T\",\"Cutter T\",\"Cutter T\",null,\"Cutter T\",\"Cutter T\",\"Cutter T\",\"Cutter T\",null,\"Cutter T\",\"Cutter T\",\"Cutter T\",\"Cutter T\",null,\"Cutter T\",\"Cutter T\",\"Cutter T\",\"Cutter T\",null,\"Cutter T\",\"Cutter T\",\"Cutter T\",\"Cutter T\",null,\"Cutter T\",\"Cutter T\",\"Cutter T\",\"Cutter T\",null,\"Trench\",\"Trench\",\"Trench\",\"Trench\",null,\"Trench\",\"Trench\",\"Trench\",\"Trench\",null,\"Trench\",\"Trench\",\"Trench\",\"Trench\",null,\"Trench\",\"Trench\",\"Trench\",\"Trench\",null,\"Trench\",\"Trench\",\"Trench\",\"Trench\",null,\"Trench\",\"Trench\",\"Trench\",\"Trench\",null],\"type\":\"scatter\"},{\"connectgaps\":false,\"hoverinfo\":\"y+name\",\"line\":{\"color\":\"rgb(227,134,110)\",\"width\":10},\"mode\":\"lines\",\"name\":\"sailing empty:Carrier B\",\"x\":[\"1970-01-01T00:00:00\",\"1970-01-01T00:00:00\",\"1970-01-01T00:42:52\",\"1970-01-01T00:42:52\",\"1970-01-01T00:42:52\",\"1970-01-01T03:12:10\",\"1970-01-01T03:12:10\",\"1970-01-01T03:55:02\",\"1970-01-01T03:55:02\",\"1970-01-01T03:55:02\",\"1970-01-01T05:54:06\",\"1970-01-01T05:54:06\",\"1970-01-01T06:36:58\",\"1970-01-01T06:36:58\",\"1970-01-01T06:36:58\",\"1970-01-01T08:36:02\",\"1970-01-01T08:36:02\",\"1970-01-01T09:18:54\",\"1970-01-01T09:18:54\",\"1970-01-01T09:18:54\",\"1970-01-01T11:31:06\",\"1970-01-01T11:31:06\",\"1970-01-01T12:13:58\",\"1970-01-01T12:13:58\",\"1970-01-01T12:13:58\",\"1970-01-01T14:29:44\",\"1970-01-01T14:29:44\",\"1970-01-01T15:12:36\",\"1970-01-01T15:12:36\",\"1970-01-01T15:12:36\"],\"y\":[\"Carrier B\",\"Carrier B\",\"Carrier B\",\"Carrier B\",null,\"Carrier B\",\"Carrier B\",\"Carrier B\",\"Carrier B\",null,\"Carrier B\",\"Carrier B\",\"Carrier B\",\"Carrier B\",null,\"Carrier B\",\"Carrier B\",\"Carrier B\",\"Carrier B\",null,\"Carrier B\",\"Carrier B\",\"Carrier B\",\"Carrier B\",null,\"Carrier B\",\"Carrier B\",\"Carrier B\",\"Carrier B\",null],\"type\":\"scatter\"},{\"connectgaps\":false,\"hoverinfo\":\"y+name\",\"line\":{\"color\":\"rgb(236,143,119)\",\"width\":10},\"mode\":\"lines\",\"name\":\"sailing empty:Carrier C\",\"x\":[\"1970-01-01T00:00:00\",\"1970-01-01T00:00:00\",\"1970-01-01T00:48:26\",\"1970-01-01T00:48:26\",\"1970-01-01T00:48:26\",\"1970-01-01T04:38:18\",\"1970-01-01T04:38:18\",\"1970-01-01T05:26:44\",\"1970-01-01T05:26:44\",\"1970-01-01T05:26:44\",\"1970-01-01T07:36:56\",\"1970-01-01T07:36:56\",\"1970-01-01T08:25:22\",\"1970-01-01T08:25:22\",\"1970-01-01T08:25:22\",\"1970-01-01T10:35:34\",\"1970-01-01T10:35:34\",\"1970-01-01T11:24:00\",\"1970-01-01T11:24:00\",\"1970-01-01T11:24:00\",\"1970-01-01T13:34:12\",\"1970-01-01T13:34:12\",\"1970-01-01T14:22:38\",\"1970-01-01T14:22:38\",\"1970-01-01T14:22:38\",\"1970-01-01T16:32:50\",\"1970-01-01T16:32:50\",\"1970-01-01T17:21:16\",\"1970-01-01T17:21:16\",\"1970-01-01T17:21:16\"],\"y\":[\"Carrier C\",\"Carrier C\",\"Carrier C\",\"Carrier C\",null,\"Carrier C\",\"Carrier C\",\"Carrier C\",\"Carrier C\",null,\"Carrier C\",\"Carrier C\",\"Carrier C\",\"Carrier C\",null,\"Carrier C\",\"Carrier C\",\"Carrier C\",\"Carrier C\",null,\"Carrier C\",\"Carrier C\",\"Carrier C\",\"Carrier C\",null,\"Carrier C\",\"Carrier C\",\"Carrier C\",\"Carrier C\",null],\"type\":\"scatter\"},{\"connectgaps\":false,\"hoverinfo\":\"y+name\",\"line\":{\"color\":\"rgb(245,152,128)\",\"width\":10},\"mode\":\"lines\",\"name\":\"unloading:Carrier C\",\"x\":[\"1970-01-01T03:49:52\",\"1970-01-01T03:49:52\",\"1970-01-01T04:38:18\",\"1970-01-01T04:38:18\",\"1970-01-01T04:38:18\",\"1970-01-01T06:48:30\",\"1970-01-01T06:48:30\",\"1970-01-01T07:36:56\",\"1970-01-01T07:36:56\",\"1970-01-01T07:36:56\",\"1970-01-01T09:47:08\",\"1970-01-01T09:47:08\",\"1970-01-01T10:35:34\",\"1970-01-01T10:35:34\",\"1970-01-01T10:35:34\",\"1970-01-01T12:45:46\",\"1970-01-01T12:45:46\",\"1970-01-01T13:34:12\",\"1970-01-01T13:34:12\",\"1970-01-01T13:34:12\",\"1970-01-01T15:44:24\",\"1970-01-01T15:44:24\",\"1970-01-01T16:32:50\",\"1970-01-01T16:32:50\",\"1970-01-01T16:32:50\",\"1970-01-01T18:43:02\",\"1970-01-01T18:43:02\",\"1970-01-01T19:31:28\",\"1970-01-01T19:31:28\",\"1970-01-01T19:31:28\",\"1970-01-01T03:49:52\",\"1970-01-01T03:49:52\",\"1970-01-01T04:38:18\",\"1970-01-01T04:38:18\",\"1970-01-01T04:38:18\",\"1970-01-01T06:48:30\",\"1970-01-01T06:48:30\",\"1970-01-01T07:36:56\",\"1970-01-01T07:36:56\",\"1970-01-01T07:36:56\",\"1970-01-01T09:47:08\",\"1970-01-01T09:47:08\",\"1970-01-01T10:35:34\",\"1970-01-01T10:35:34\",\"1970-01-01T10:35:34\",\"1970-01-01T12:45:46\",\"1970-01-01T12:45:46\",\"1970-01-01T13:34:12\",\"1970-01-01T13:34:12\",\"1970-01-01T13:34:12\",\"1970-01-01T15:44:24\",\"1970-01-01T15:44:24\",\"1970-01-01T16:32:50\",\"1970-01-01T16:32:50\",\"1970-01-01T16:32:50\",\"1970-01-01T18:43:02\",\"1970-01-01T18:43:02\",\"1970-01-01T19:31:28\",\"1970-01-01T19:31:28\",\"1970-01-01T19:31:28\"],\"y\":[\"Carrier C\",\"Carrier C\",\"Carrier C\",\"Carrier C\",null,\"Carrier C\",\"Carrier C\",\"Carrier C\",\"Carrier C\",null,\"Carrier C\",\"Carrier C\",\"Carrier C\",\"Carrier C\",null,\"Carrier C\",\"Carrier C\",\"Carrier C\",\"Carrier C\",null,\"Carrier C\",\"Carrier C\",\"Carrier C\",\"Carrier C\",null,\"Carrier C\",\"Carrier C\",\"Carrier C\",\"Carrier C\",null,\"Reclamation\",\"Reclamation\",\"Reclamation\",\"Reclamation\",null,\"Reclamation\",\"Reclamation\",\"Reclamation\",\"Reclamation\",null,\"Reclamation\",\"Reclamation\",\"Reclamation\",\"Reclamation\",null,\"Reclamation\",\"Reclamation\",\"Reclamation\",\"Reclamation\",null,\"Reclamation\",\"Reclamation\",\"Reclamation\",\"Reclamation\",null,\"Reclamation\",\"Reclamation\",\"Reclamation\",\"Reclamation\",null],\"type\":\"scatter\"},{\"connectgaps\":false,\"hoverinfo\":\"y+name\",\"line\":{\"color\":\"rgb(254,161,137)\",\"width\":10},\"mode\":\"lines\",\"name\":\"sailing full:Carrier C\",\"x\":[\"1970-01-01T03:01:26\",\"1970-01-01T03:01:26\",\"1970-01-01T03:49:52\",\"1970-01-01T03:49:52\",\"1970-01-01T03:49:52\",\"1970-01-01T06:00:04\",\"1970-01-01T06:00:04\",\"1970-01-01T06:48:30\",\"1970-01-01T06:48:30\",\"1970-01-01T06:48:30\",\"1970-01-01T08:58:42\",\"1970-01-01T08:58:42\",\"1970-01-01T09:47:08\",\"1970-01-01T09:47:08\",\"1970-01-01T09:47:08\",\"1970-01-01T11:57:20\",\"1970-01-01T11:57:20\",\"1970-01-01T12:45:46\",\"1970-01-01T12:45:46\",\"1970-01-01T12:45:46\",\"1970-01-01T14:55:58\",\"1970-01-01T14:55:58\",\"1970-01-01T15:44:24\",\"1970-01-01T15:44:24\",\"1970-01-01T15:44:24\",\"1970-01-01T17:54:36\",\"1970-01-01T17:54:36\",\"1970-01-01T18:43:02\",\"1970-01-01T18:43:02\",\"1970-01-01T18:43:02\"],\"y\":[\"Carrier C\",\"Carrier C\",\"Carrier C\",\"Carrier C\",null,\"Carrier C\",\"Carrier C\",\"Carrier C\",\"Carrier C\",null,\"Carrier C\",\"Carrier C\",\"Carrier C\",\"Carrier C\",null,\"Carrier C\",\"Carrier C\",\"Carrier C\",\"Carrier C\",null,\"Carrier C\",\"Carrier C\",\"Carrier C\",\"Carrier C\",null,\"Carrier C\",\"Carrier C\",\"Carrier C\",\"Carrier C\",null],\"type\":\"scatter\"},{\"connectgaps\":false,\"hoverinfo\":\"y+name\",\"line\":{\"color\":\"rgb(7,170,146)\",\"width\":10},\"mode\":\"lines\",\"name\":\"loading:Carrier C\",\"x\":[\"1970-01-01T02:28:06\",\"1970-01-01T02:28:06\",\"1970-01-01T03:01:26\",\"1970-01-01T03:01:26\",\"1970-01-01T03:01:26\",\"1970-01-01T05:26:44\",\"1970-01-01T05:26:44\",\"1970-01-01T06:00:04\",\"1970-01-01T06:00:04\",\"1970-01-01T06:00:04\",\"1970-01-01T08:25:22\",\"1970-01-01T08:25:22\",\"1970-01-01T08:58:42\",\"1970-01-01T08:58:42\",\"1970-01-01T08:58:42\",\"1970-01-01T11:24:00\",\"1970-01-01T11:24:00\",\"1970-01-01T11:57:20\",\"1970-01-01T11:57:20\",\"1970-01-01T11:57:20\",\"1970-01-01T14:22:38\",\"1970-01-01T14:22:38\",\"1970-01-01T14:55:58\",\"1970-01-01T14:55:58\",\"1970-01-01T14:55:58\",\"1970-01-01T17:21:16\",\"1970-01-01T17:21:16\",\"1970-01-01T17:54:36\",\"1970-01-01T17:54:36\",\"1970-01-01T17:54:36\",\"1970-01-01T02:28:06\",\"1970-01-01T02:28:06\",\"1970-01-01T03:01:26\",\"1970-01-01T03:01:26\",\"1970-01-01T03:01:26\",\"1970-01-01T05:26:44\",\"1970-01-01T05:26:44\",\"1970-01-01T06:00:04\",\"1970-01-01T06:00:04\",\"1970-01-01T06:00:04\",\"1970-01-01T08:25:22\",\"1970-01-01T08:25:22\",\"1970-01-01T08:58:42\",\"1970-01-01T08:58:42\",\"1970-01-01T08:58:42\",\"1970-01-01T11:24:00\",\"1970-01-01T11:24:00\",\"1970-01-01T11:57:20\",\"1970-01-01T11:57:20\",\"1970-01-01T11:57:20\",\"1970-01-01T14:22:38\",\"1970-01-01T14:22:38\",\"1970-01-01T14:55:58\",\"1970-01-01T14:55:58\",\"1970-01-01T14:55:58\",\"1970-01-01T17:21:16\",\"1970-01-01T17:21:16\",\"1970-01-01T17:54:36\",\"1970-01-01T17:54:36\",\"1970-01-01T17:54:36\",\"1970-01-01T02:28:06\",\"1970-01-01T02:28:06\",\"1970-01-01T03:01:26\",\"1970-01-01T03:01:26\",\"1970-01-01T03:01:26\",\"1970-01-01T05:26:44\",\"1970-01-01T05:26:44\",\"1970-01-01T06:00:04\",\"1970-01-01T06:00:04\",\"1970-01-01T06:00:04\",\"1970-01-01T08:25:22\",\"1970-01-01T08:25:22\",\"1970-01-01T08:58:42\",\"1970-01-01T08:58:42\",\"1970-01-01T08:58:42\",\"1970-01-01T11:24:00\",\"1970-01-01T11:24:00\",\"1970-01-01T11:57:20\",\"1970-01-01T11:57:20\",\"1970-01-01T11:57:20\",\"1970-01-01T14:22:38\",\"1970-01-01T14:22:38\",\"1970-01-01T14:55:58\",\"1970-01-01T14:55:58\",\"1970-01-01T14:55:58\",\"1970-01-01T17:21:16\",\"1970-01-01T17:21:16\",\"1970-01-01T17:54:36\",\"1970-01-01T17:54:36\",\"1970-01-01T17:54:36\"],\"y\":[\"Carrier C\",\"Carrier C\",\"Carrier C\",\"Carrier C\",null,\"Carrier C\",\"Carrier C\",\"Carrier C\",\"Carrier C\",null,\"Carrier C\",\"Carrier C\",\"Carrier C\",\"Carrier C\",null,\"Carrier C\",\"Carrier C\",\"Carrier C\",\"Carrier C\",null,\"Carrier C\",\"Carrier C\",\"Carrier C\",\"Carrier C\",null,\"Carrier C\",\"Carrier C\",\"Carrier C\",\"Carrier C\",null,\"Cutter T\",\"Cutter T\",\"Cutter T\",\"Cutter T\",null,\"Cutter T\",\"Cutter T\",\"Cutter T\",\"Cutter T\",null,\"Cutter T\",\"Cutter T\",\"Cutter T\",\"Cutter T\",null,\"Cutter T\",\"Cutter T\",\"Cutter T\",\"Cutter T\",null,\"Cutter T\",\"Cutter T\",\"Cutter T\",\"Cutter T\",null,\"Cutter T\",\"Cutter T\",\"Cutter T\",\"Cutter T\",null,\"Trench\",\"Trench\",\"Trench\",\"Trench\",null,\"Trench\",\"Trench\",\"Trench\",\"Trench\",null,\"Trench\",\"Trench\",\"Trench\",\"Trench\",null,\"Trench\",\"Trench\",\"Trench\",\"Trench\",null,\"Trench\",\"Trench\",\"Trench\",\"Trench\",null,\"Trench\",\"Trench\",\"Trench\",\"Trench\",null],\"type\":\"scatter\"},{\"connectgaps\":false,\"hoverinfo\":\"y+name\",\"line\":{\"color\":\"rgb(16,179,155)\",\"width\":10},\"mode\":\"lines\",\"name\":\"sailing empty:Barge I\",\"x\":[\"1970-01-01T00:00:00\",\"1970-01-01T00:00:00\",\"1970-01-01T00:45:35\",\"1970-01-01T00:45:35\",\"1970-01-01T00:45:35\",\"1970-01-01T03:59:16\",\"1970-01-01T03:59:16\",\"1970-01-01T04:44:51\",\"1970-01-01T04:44:51\",\"1970-01-01T04:44:51\",\"1970-01-01T06:57:41\",\"1970-01-01T06:57:41\",\"1970-01-01T07:43:16\",\"1970-01-01T07:43:16\",\"1970-01-01T07:43:16\",\"1970-01-01T09:56:06\",\"1970-01-01T09:56:06\",\"1970-01-01T10:41:41\",\"1970-01-01T10:41:41\",\"1970-01-01T10:41:41\",\"1970-01-01T12:54:31\",\"1970-01-01T12:54:31\",\"1970-01-01T13:40:06\",\"1970-01-01T13:40:06\",\"1970-01-01T13:40:06\",\"1970-01-01T15:52:56\",\"1970-01-01T15:52:56\",\"1970-01-01T16:38:31\",\"1970-01-01T16:38:31\",\"1970-01-01T16:38:31\"],\"y\":[\"Barge I\",\"Barge I\",\"Barge I\",\"Barge I\",null,\"Barge I\",\"Barge I\",\"Barge I\",\"Barge I\",null,\"Barge I\",\"Barge I\",\"Barge I\",\"Barge I\",null,\"Barge I\",\"Barge I\",\"Barge I\",\"Barge I\",null,\"Barge I\",\"Barge I\",\"Barge I\",\"Barge I\",null,\"Barge I\",\"Barge I\",\"Barge I\",\"Barge I\",null],\"type\":\"scatter\"},{\"connectgaps\":false,\"hoverinfo\":\"y+name\",\"line\":{\"color\":\"rgb(25,188,164)\",\"width\":10},\"mode\":\"lines\",\"name\":\"loading:Barge I\",\"x\":[\"1970-01-01T01:46:26\",\"1970-01-01T01:46:26\",\"1970-01-01T02:28:06\",\"1970-01-01T02:28:06\",\"1970-01-01T02:28:06\",\"1970-01-01T04:44:51\",\"1970-01-01T04:44:51\",\"1970-01-01T05:26:31\",\"1970-01-01T05:26:31\",\"1970-01-01T05:26:31\",\"1970-01-01T07:43:16\",\"1970-01-01T07:43:16\",\"1970-01-01T08:24:56\",\"1970-01-01T08:24:56\",\"1970-01-01T08:24:56\",\"1970-01-01T10:41:41\",\"1970-01-01T10:41:41\",\"1970-01-01T11:23:21\",\"1970-01-01T11:23:21\",\"1970-01-01T11:23:21\",\"1970-01-01T13:40:06\",\"1970-01-01T13:40:06\",\"1970-01-01T14:21:46\",\"1970-01-01T14:21:46\",\"1970-01-01T14:21:46\",\"1970-01-01T16:38:31\",\"1970-01-01T16:38:31\",\"1970-01-01T17:20:11\",\"1970-01-01T17:20:11\",\"1970-01-01T17:20:11\",\"1970-01-01T01:46:26\",\"1970-01-01T01:46:26\",\"1970-01-01T02:28:06\",\"1970-01-01T02:28:06\",\"1970-01-01T02:28:06\",\"1970-01-01T04:44:51\",\"1970-01-01T04:44:51\",\"1970-01-01T05:26:31\",\"1970-01-01T05:26:31\",\"1970-01-01T05:26:31\",\"1970-01-01T07:43:16\",\"1970-01-01T07:43:16\",\"1970-01-01T08:24:56\",\"1970-01-01T08:24:56\",\"1970-01-01T08:24:56\",\"1970-01-01T10:41:41\",\"1970-01-01T10:41:41\",\"1970-01-01T11:23:21\",\"1970-01-01T11:23:21\",\"1970-01-01T11:23:21\",\"1970-01-01T13:40:06\",\"1970-01-01T13:40:06\",\"1970-01-01T14:21:46\",\"1970-01-01T14:21:46\",\"1970-01-01T14:21:46\",\"1970-01-01T16:38:31\",\"1970-01-01T16:38:31\",\"1970-01-01T17:20:11\",\"1970-01-01T17:20:11\",\"1970-01-01T17:20:11\",\"1970-01-01T01:46:26\",\"1970-01-01T01:46:26\",\"1970-01-01T02:28:06\",\"1970-01-01T02:28:06\",\"1970-01-01T02:28:06\",\"1970-01-01T04:44:51\",\"1970-01-01T04:44:51\",\"1970-01-01T05:26:31\",\"1970-01-01T05:26:31\",\"1970-01-01T05:26:31\",\"1970-01-01T07:43:16\",\"1970-01-01T07:43:16\",\"1970-01-01T08:24:56\",\"1970-01-01T08:24:56\",\"1970-01-01T08:24:56\",\"1970-01-01T10:41:41\",\"1970-01-01T10:41:41\",\"1970-01-01T11:23:21\",\"1970-01-01T11:23:21\",\"1970-01-01T11:23:21\",\"1970-01-01T13:40:06\",\"1970-01-01T13:40:06\",\"1970-01-01T14:21:46\",\"1970-01-01T14:21:46\",\"1970-01-01T14:21:46\",\"1970-01-01T16:38:31\",\"1970-01-01T16:38:31\",\"1970-01-01T17:20:11\",\"1970-01-01T17:20:11\",\"1970-01-01T17:20:11\"],\"y\":[\"Barge I\",\"Barge I\",\"Barge I\",\"Barge I\",null,\"Barge I\",\"Barge I\",\"Barge I\",\"Barge I\",null,\"Barge I\",\"Barge I\",\"Barge I\",\"Barge I\",null,\"Barge I\",\"Barge I\",\"Barge I\",\"Barge I\",null,\"Barge I\",\"Barge I\",\"Barge I\",\"Barge I\",null,\"Barge I\",\"Barge I\",\"Barge I\",\"Barge I\",null,\"Cutter T\",\"Cutter T\",\"Cutter T\",\"Cutter T\",null,\"Cutter T\",\"Cutter T\",\"Cutter T\",\"Cutter T\",null,\"Cutter T\",\"Cutter T\",\"Cutter T\",\"Cutter T\",null,\"Cutter T\",\"Cutter T\",\"Cutter T\",\"Cutter T\",null,\"Cutter T\",\"Cutter T\",\"Cutter T\",\"Cutter T\",null,\"Cutter T\",\"Cutter T\",\"Cutter T\",\"Cutter T\",null,\"Trench\",\"Trench\",\"Trench\",\"Trench\",null,\"Trench\",\"Trench\",\"Trench\",\"Trench\",null,\"Trench\",\"Trench\",\"Trench\",\"Trench\",null,\"Trench\",\"Trench\",\"Trench\",\"Trench\",null,\"Trench\",\"Trench\",\"Trench\",\"Trench\",null,\"Trench\",\"Trench\",\"Trench\",\"Trench\",null],\"type\":\"scatter\"},{\"connectgaps\":false,\"hoverinfo\":\"y+name\",\"line\":{\"color\":\"rgb(34,197,173)\",\"width\":10},\"mode\":\"lines\",\"name\":\"unloading:Barge I\",\"x\":[\"1970-01-01T03:13:41\",\"1970-01-01T03:13:41\",\"1970-01-01T03:59:16\",\"1970-01-01T03:59:16\",\"1970-01-01T03:59:16\",\"1970-01-01T06:12:06\",\"1970-01-01T06:12:06\",\"1970-01-01T06:57:41\",\"1970-01-01T06:57:41\",\"1970-01-01T06:57:41\",\"1970-01-01T09:10:31\",\"1970-01-01T09:10:31\",\"1970-01-01T09:56:06\",\"1970-01-01T09:56:06\",\"1970-01-01T09:56:06\",\"1970-01-01T12:08:56\",\"1970-01-01T12:08:56\",\"1970-01-01T12:54:31\",\"1970-01-01T12:54:31\",\"1970-01-01T12:54:31\",\"1970-01-01T15:07:21\",\"1970-01-01T15:07:21\",\"1970-01-01T15:52:56\",\"1970-01-01T15:52:56\",\"1970-01-01T15:52:56\",\"1970-01-01T18:05:46\",\"1970-01-01T18:05:46\",\"1970-01-01T18:51:21\",\"1970-01-01T18:51:21\",\"1970-01-01T18:51:21\",\"1970-01-01T03:13:41\",\"1970-01-01T03:13:41\",\"1970-01-01T03:59:16\",\"1970-01-01T03:59:16\",\"1970-01-01T03:59:16\",\"1970-01-01T06:12:06\",\"1970-01-01T06:12:06\",\"1970-01-01T06:57:41\",\"1970-01-01T06:57:41\",\"1970-01-01T06:57:41\",\"1970-01-01T09:10:31\",\"1970-01-01T09:10:31\",\"1970-01-01T09:56:06\",\"1970-01-01T09:56:06\",\"1970-01-01T09:56:06\",\"1970-01-01T12:08:56\",\"1970-01-01T12:08:56\",\"1970-01-01T12:54:31\",\"1970-01-01T12:54:31\",\"1970-01-01T12:54:31\",\"1970-01-01T15:07:21\",\"1970-01-01T15:07:21\",\"1970-01-01T15:52:56\",\"1970-01-01T15:52:56\",\"1970-01-01T15:52:56\",\"1970-01-01T18:05:46\",\"1970-01-01T18:05:46\",\"1970-01-01T18:51:21\",\"1970-01-01T18:51:21\",\"1970-01-01T18:51:21\"],\"y\":[\"Barge I\",\"Barge I\",\"Barge I\",\"Barge I\",null,\"Barge I\",\"Barge I\",\"Barge I\",\"Barge I\",null,\"Barge I\",\"Barge I\",\"Barge I\",\"Barge I\",null,\"Barge I\",\"Barge I\",\"Barge I\",\"Barge I\",null,\"Barge I\",\"Barge I\",\"Barge I\",\"Barge I\",null,\"Barge I\",\"Barge I\",\"Barge I\",\"Barge I\",null,\"Reclamation\",\"Reclamation\",\"Reclamation\",\"Reclamation\",null,\"Reclamation\",\"Reclamation\",\"Reclamation\",\"Reclamation\",null,\"Reclamation\",\"Reclamation\",\"Reclamation\",\"Reclamation\",null,\"Reclamation\",\"Reclamation\",\"Reclamation\",\"Reclamation\",null,\"Reclamation\",\"Reclamation\",\"Reclamation\",\"Reclamation\",null,\"Reclamation\",\"Reclamation\",\"Reclamation\",\"Reclamation\",null],\"type\":\"scatter\"},{\"connectgaps\":false,\"hoverinfo\":\"y+name\",\"line\":{\"color\":\"rgb(43,206,182)\",\"width\":10},\"mode\":\"lines\",\"name\":\"sailing full:Barge I\",\"x\":[\"1970-01-01T02:28:06\",\"1970-01-01T02:28:06\",\"1970-01-01T03:13:41\",\"1970-01-01T03:13:41\",\"1970-01-01T03:13:41\",\"1970-01-01T05:26:31\",\"1970-01-01T05:26:31\",\"1970-01-01T06:12:06\",\"1970-01-01T06:12:06\",\"1970-01-01T06:12:06\",\"1970-01-01T08:24:56\",\"1970-01-01T08:24:56\",\"1970-01-01T09:10:31\",\"1970-01-01T09:10:31\",\"1970-01-01T09:10:31\",\"1970-01-01T11:23:21\",\"1970-01-01T11:23:21\",\"1970-01-01T12:08:56\",\"1970-01-01T12:08:56\",\"1970-01-01T12:08:56\",\"1970-01-01T14:21:46\",\"1970-01-01T14:21:46\",\"1970-01-01T15:07:21\",\"1970-01-01T15:07:21\",\"1970-01-01T15:07:21\",\"1970-01-01T17:20:11\",\"1970-01-01T17:20:11\",\"1970-01-01T18:05:46\",\"1970-01-01T18:05:46\",\"1970-01-01T18:05:46\"],\"y\":[\"Barge I\",\"Barge I\",\"Barge I\",\"Barge I\",null,\"Barge I\",\"Barge I\",\"Barge I\",\"Barge I\",null,\"Barge I\",\"Barge I\",\"Barge I\",\"Barge I\",null,\"Barge I\",\"Barge I\",\"Barge I\",\"Barge I\",null,\"Barge I\",\"Barge I\",\"Barge I\",\"Barge I\",null,\"Barge I\",\"Barge I\",\"Barge I\",\"Barge I\",null],\"type\":\"scatter\"},{\"connectgaps\":false,\"hoverinfo\":\"y+name\",\"line\":{\"color\":\"rgb(52,215,191)\",\"width\":10},\"mode\":\"lines\",\"name\":\"loading:Carrier C\",\"x\":[\"1970-01-01T02:28:06\",\"1970-01-01T02:28:06\",\"1970-01-01T03:01:26\",\"1970-01-01T03:01:26\",\"1970-01-01T03:01:26\",\"1970-01-01T05:26:44\",\"1970-01-01T05:26:44\",\"1970-01-01T06:00:04\",\"1970-01-01T06:00:04\",\"1970-01-01T06:00:04\",\"1970-01-01T08:25:22\",\"1970-01-01T08:25:22\",\"1970-01-01T08:58:42\",\"1970-01-01T08:58:42\",\"1970-01-01T08:58:42\",\"1970-01-01T11:24:00\",\"1970-01-01T11:24:00\",\"1970-01-01T11:57:20\",\"1970-01-01T11:57:20\",\"1970-01-01T11:57:20\",\"1970-01-01T14:22:38\",\"1970-01-01T14:22:38\",\"1970-01-01T14:55:58\",\"1970-01-01T14:55:58\",\"1970-01-01T14:55:58\",\"1970-01-01T17:21:16\",\"1970-01-01T17:21:16\",\"1970-01-01T17:54:36\",\"1970-01-01T17:54:36\",\"1970-01-01T17:54:36\",\"1970-01-01T02:28:06\",\"1970-01-01T02:28:06\",\"1970-01-01T03:01:26\",\"1970-01-01T03:01:26\",\"1970-01-01T03:01:26\",\"1970-01-01T05:26:44\",\"1970-01-01T05:26:44\",\"1970-01-01T06:00:04\",\"1970-01-01T06:00:04\",\"1970-01-01T06:00:04\",\"1970-01-01T08:25:22\",\"1970-01-01T08:25:22\",\"1970-01-01T08:58:42\",\"1970-01-01T08:58:42\",\"1970-01-01T08:58:42\",\"1970-01-01T11:24:00\",\"1970-01-01T11:24:00\",\"1970-01-01T11:57:20\",\"1970-01-01T11:57:20\",\"1970-01-01T11:57:20\",\"1970-01-01T14:22:38\",\"1970-01-01T14:22:38\",\"1970-01-01T14:55:58\",\"1970-01-01T14:55:58\",\"1970-01-01T14:55:58\",\"1970-01-01T17:21:16\",\"1970-01-01T17:21:16\",\"1970-01-01T17:54:36\",\"1970-01-01T17:54:36\",\"1970-01-01T17:54:36\",\"1970-01-01T02:28:06\",\"1970-01-01T02:28:06\",\"1970-01-01T03:01:26\",\"1970-01-01T03:01:26\",\"1970-01-01T03:01:26\",\"1970-01-01T05:26:44\",\"1970-01-01T05:26:44\",\"1970-01-01T06:00:04\",\"1970-01-01T06:00:04\",\"1970-01-01T06:00:04\",\"1970-01-01T08:25:22\",\"1970-01-01T08:25:22\",\"1970-01-01T08:58:42\",\"1970-01-01T08:58:42\",\"1970-01-01T08:58:42\",\"1970-01-01T11:24:00\",\"1970-01-01T11:24:00\",\"1970-01-01T11:57:20\",\"1970-01-01T11:57:20\",\"1970-01-01T11:57:20\",\"1970-01-01T14:22:38\",\"1970-01-01T14:22:38\",\"1970-01-01T14:55:58\",\"1970-01-01T14:55:58\",\"1970-01-01T14:55:58\",\"1970-01-01T17:21:16\",\"1970-01-01T17:21:16\",\"1970-01-01T17:54:36\",\"1970-01-01T17:54:36\",\"1970-01-01T17:54:36\"],\"y\":[\"Carrier C\",\"Carrier C\",\"Carrier C\",\"Carrier C\",null,\"Carrier C\",\"Carrier C\",\"Carrier C\",\"Carrier C\",null,\"Carrier C\",\"Carrier C\",\"Carrier C\",\"Carrier C\",null,\"Carrier C\",\"Carrier C\",\"Carrier C\",\"Carrier C\",null,\"Carrier C\",\"Carrier C\",\"Carrier C\",\"Carrier C\",null,\"Carrier C\",\"Carrier C\",\"Carrier C\",\"Carrier C\",null,\"Cutter T\",\"Cutter T\",\"Cutter T\",\"Cutter T\",null,\"Cutter T\",\"Cutter T\",\"Cutter T\",\"Cutter T\",null,\"Cutter T\",\"Cutter T\",\"Cutter T\",\"Cutter T\",null,\"Cutter T\",\"Cutter T\",\"Cutter T\",\"Cutter T\",null,\"Cutter T\",\"Cutter T\",\"Cutter T\",\"Cutter T\",null,\"Cutter T\",\"Cutter T\",\"Cutter T\",\"Cutter T\",null,\"Trench\",\"Trench\",\"Trench\",\"Trench\",null,\"Trench\",\"Trench\",\"Trench\",\"Trench\",null,\"Trench\",\"Trench\",\"Trench\",\"Trench\",null,\"Trench\",\"Trench\",\"Trench\",\"Trench\",null,\"Trench\",\"Trench\",\"Trench\",\"Trench\",null,\"Trench\",\"Trench\",\"Trench\",\"Trench\",null],\"type\":\"scatter\"},{\"connectgaps\":false,\"hoverinfo\":\"y+name\",\"line\":{\"color\":\"rgb(61,224,200)\",\"width\":10},\"mode\":\"lines\",\"name\":\"loading:Carrier A\",\"x\":[\"1970-01-01T00:39:46\",\"1970-01-01T00:39:46\",\"1970-01-01T01:13:06\",\"1970-01-01T01:13:06\",\"1970-01-01T01:13:06\",\"1970-01-01T03:12:24\",\"1970-01-01T03:12:24\",\"1970-01-01T03:45:44\",\"1970-01-01T03:45:44\",\"1970-01-01T03:45:44\",\"1970-01-01T06:00:04\",\"1970-01-01T06:00:04\",\"1970-01-01T06:33:24\",\"1970-01-01T06:33:24\",\"1970-01-01T06:33:24\",\"1970-01-01T08:58:42\",\"1970-01-01T08:58:42\",\"1970-01-01T09:32:02\",\"1970-01-01T09:32:02\",\"1970-01-01T09:32:02\",\"1970-01-01T11:57:20\",\"1970-01-01T11:57:20\",\"1970-01-01T12:30:40\",\"1970-01-01T12:30:40\",\"1970-01-01T12:30:40\",\"1970-01-01T14:55:58\",\"1970-01-01T14:55:58\",\"1970-01-01T15:29:18\",\"1970-01-01T15:29:18\",\"1970-01-01T15:29:18\",\"1970-01-01T00:39:46\",\"1970-01-01T00:39:46\",\"1970-01-01T01:13:06\",\"1970-01-01T01:13:06\",\"1970-01-01T01:13:06\",\"1970-01-01T03:12:24\",\"1970-01-01T03:12:24\",\"1970-01-01T03:45:44\",\"1970-01-01T03:45:44\",\"1970-01-01T03:45:44\",\"1970-01-01T06:00:04\",\"1970-01-01T06:00:04\",\"1970-01-01T06:33:24\",\"1970-01-01T06:33:24\",\"1970-01-01T06:33:24\",\"1970-01-01T08:58:42\",\"1970-01-01T08:58:42\",\"1970-01-01T09:32:02\",\"1970-01-01T09:32:02\",\"1970-01-01T09:32:02\",\"1970-01-01T11:57:20\",\"1970-01-01T11:57:20\",\"1970-01-01T12:30:40\",\"1970-01-01T12:30:40\",\"1970-01-01T12:30:40\",\"1970-01-01T14:55:58\",\"1970-01-01T14:55:58\",\"1970-01-01T15:29:18\",\"1970-01-01T15:29:18\",\"1970-01-01T15:29:18\",\"1970-01-01T00:39:46\",\"1970-01-01T00:39:46\",\"1970-01-01T01:13:06\",\"1970-01-01T01:13:06\",\"1970-01-01T01:13:06\",\"1970-01-01T03:12:24\",\"1970-01-01T03:12:24\",\"1970-01-01T03:45:44\",\"1970-01-01T03:45:44\",\"1970-01-01T03:45:44\",\"1970-01-01T06:00:04\",\"1970-01-01T06:00:04\",\"1970-01-01T06:33:24\",\"1970-01-01T06:33:24\",\"1970-01-01T06:33:24\",\"1970-01-01T08:58:42\",\"1970-01-01T08:58:42\",\"1970-01-01T09:32:02\",\"1970-01-01T09:32:02\",\"1970-01-01T09:32:02\",\"1970-01-01T11:57:20\",\"1970-01-01T11:57:20\",\"1970-01-01T12:30:40\",\"1970-01-01T12:30:40\",\"1970-01-01T12:30:40\",\"1970-01-01T14:55:58\",\"1970-01-01T14:55:58\",\"1970-01-01T15:29:18\",\"1970-01-01T15:29:18\",\"1970-01-01T15:29:18\"],\"y\":[\"Carrier A\",\"Carrier A\",\"Carrier A\",\"Carrier A\",null,\"Carrier A\",\"Carrier A\",\"Carrier A\",\"Carrier A\",null,\"Carrier A\",\"Carrier A\",\"Carrier A\",\"Carrier A\",null,\"Carrier A\",\"Carrier A\",\"Carrier A\",\"Carrier A\",null,\"Carrier A\",\"Carrier A\",\"Carrier A\",\"Carrier A\",null,\"Carrier A\",\"Carrier A\",\"Carrier A\",\"Carrier A\",null,\"Cutter T\",\"Cutter T\",\"Cutter T\",\"Cutter T\",null,\"Cutter T\",\"Cutter T\",\"Cutter T\",\"Cutter T\",null,\"Cutter T\",\"Cutter T\",\"Cutter T\",\"Cutter T\",null,\"Cutter T\",\"Cutter T\",\"Cutter T\",\"Cutter T\",null,\"Cutter T\",\"Cutter T\",\"Cutter T\",\"Cutter T\",null,\"Cutter T\",\"Cutter T\",\"Cutter T\",\"Cutter T\",null,\"Trench\",\"Trench\",\"Trench\",\"Trench\",null,\"Trench\",\"Trench\",\"Trench\",\"Trench\",null,\"Trench\",\"Trench\",\"Trench\",\"Trench\",null,\"Trench\",\"Trench\",\"Trench\",\"Trench\",null,\"Trench\",\"Trench\",\"Trench\",\"Trench\",null,\"Trench\",\"Trench\",\"Trench\",\"Trench\",null],\"type\":\"scatter\"},{\"connectgaps\":false,\"hoverinfo\":\"y+name\",\"line\":{\"color\":\"rgb(70,233,209)\",\"width\":10},\"mode\":\"lines\",\"name\":\"loading:Barge I\",\"x\":[\"1970-01-01T01:46:26\",\"1970-01-01T01:46:26\",\"1970-01-01T02:28:06\",\"1970-01-01T02:28:06\",\"1970-01-01T02:28:06\",\"1970-01-01T04:44:51\",\"1970-01-01T04:44:51\",\"1970-01-01T05:26:31\",\"1970-01-01T05:26:31\",\"1970-01-01T05:26:31\",\"1970-01-01T07:43:16\",\"1970-01-01T07:43:16\",\"1970-01-01T08:24:56\",\"1970-01-01T08:24:56\",\"1970-01-01T08:24:56\",\"1970-01-01T10:41:41\",\"1970-01-01T10:41:41\",\"1970-01-01T11:23:21\",\"1970-01-01T11:23:21\",\"1970-01-01T11:23:21\",\"1970-01-01T13:40:06\",\"1970-01-01T13:40:06\",\"1970-01-01T14:21:46\",\"1970-01-01T14:21:46\",\"1970-01-01T14:21:46\",\"1970-01-01T16:38:31\",\"1970-01-01T16:38:31\",\"1970-01-01T17:20:11\",\"1970-01-01T17:20:11\",\"1970-01-01T17:20:11\",\"1970-01-01T01:46:26\",\"1970-01-01T01:46:26\",\"1970-01-01T02:28:06\",\"1970-01-01T02:28:06\",\"1970-01-01T02:28:06\",\"1970-01-01T04:44:51\",\"1970-01-01T04:44:51\",\"1970-01-01T05:26:31\",\"1970-01-01T05:26:31\",\"1970-01-01T05:26:31\",\"1970-01-01T07:43:16\",\"1970-01-01T07:43:16\",\"1970-01-01T08:24:56\",\"1970-01-01T08:24:56\",\"1970-01-01T08:24:56\",\"1970-01-01T10:41:41\",\"1970-01-01T10:41:41\",\"1970-01-01T11:23:21\",\"1970-01-01T11:23:21\",\"1970-01-01T11:23:21\",\"1970-01-01T13:40:06\",\"1970-01-01T13:40:06\",\"1970-01-01T14:21:46\",\"1970-01-01T14:21:46\",\"1970-01-01T14:21:46\",\"1970-01-01T16:38:31\",\"1970-01-01T16:38:31\",\"1970-01-01T17:20:11\",\"1970-01-01T17:20:11\",\"1970-01-01T17:20:11\",\"1970-01-01T01:46:26\",\"1970-01-01T01:46:26\",\"1970-01-01T02:28:06\",\"1970-01-01T02:28:06\",\"1970-01-01T02:28:06\",\"1970-01-01T04:44:51\",\"1970-01-01T04:44:51\",\"1970-01-01T05:26:31\",\"1970-01-01T05:26:31\",\"1970-01-01T05:26:31\",\"1970-01-01T07:43:16\",\"1970-01-01T07:43:16\",\"1970-01-01T08:24:56\",\"1970-01-01T08:24:56\",\"1970-01-01T08:24:56\",\"1970-01-01T10:41:41\",\"1970-01-01T10:41:41\",\"1970-01-01T11:23:21\",\"1970-01-01T11:23:21\",\"1970-01-01T11:23:21\",\"1970-01-01T13:40:06\",\"1970-01-01T13:40:06\",\"1970-01-01T14:21:46\",\"1970-01-01T14:21:46\",\"1970-01-01T14:21:46\",\"1970-01-01T16:38:31\",\"1970-01-01T16:38:31\",\"1970-01-01T17:20:11\",\"1970-01-01T17:20:11\",\"1970-01-01T17:20:11\"],\"y\":[\"Barge I\",\"Barge I\",\"Barge I\",\"Barge I\",null,\"Barge I\",\"Barge I\",\"Barge I\",\"Barge I\",null,\"Barge I\",\"Barge I\",\"Barge I\",\"Barge I\",null,\"Barge I\",\"Barge I\",\"Barge I\",\"Barge I\",null,\"Barge I\",\"Barge I\",\"Barge I\",\"Barge I\",null,\"Barge I\",\"Barge I\",\"Barge I\",\"Barge I\",null,\"Cutter T\",\"Cutter T\",\"Cutter T\",\"Cutter T\",null,\"Cutter T\",\"Cutter T\",\"Cutter T\",\"Cutter T\",null,\"Cutter T\",\"Cutter T\",\"Cutter T\",\"Cutter T\",null,\"Cutter T\",\"Cutter T\",\"Cutter T\",\"Cutter T\",null,\"Cutter T\",\"Cutter T\",\"Cutter T\",\"Cutter T\",null,\"Cutter T\",\"Cutter T\",\"Cutter T\",\"Cutter T\",null,\"Trench\",\"Trench\",\"Trench\",\"Trench\",null,\"Trench\",\"Trench\",\"Trench\",\"Trench\",null,\"Trench\",\"Trench\",\"Trench\",\"Trench\",null,\"Trench\",\"Trench\",\"Trench\",\"Trench\",null,\"Trench\",\"Trench\",\"Trench\",\"Trench\",null,\"Trench\",\"Trench\",\"Trench\",\"Trench\",null],\"type\":\"scatter\"},{\"connectgaps\":false,\"hoverinfo\":\"y+name\",\"line\":{\"color\":\"rgb(79,242,218)\",\"width\":10},\"mode\":\"lines\",\"name\":\"loading:Carrier B\",\"x\":[\"1970-01-01T01:13:06\",\"1970-01-01T01:13:06\",\"1970-01-01T01:46:26\",\"1970-01-01T01:46:26\",\"1970-01-01T01:46:26\",\"1970-01-01T03:55:02\",\"1970-01-01T03:55:02\",\"1970-01-01T04:28:22\",\"1970-01-01T04:28:22\",\"1970-01-01T04:28:22\",\"1970-01-01T06:36:58\",\"1970-01-01T06:36:58\",\"1970-01-01T07:10:18\",\"1970-01-01T07:10:18\",\"1970-01-01T07:10:18\",\"1970-01-01T09:32:02\",\"1970-01-01T09:32:02\",\"1970-01-01T10:05:22\",\"1970-01-01T10:05:22\",\"1970-01-01T10:05:22\",\"1970-01-01T12:30:40\",\"1970-01-01T12:30:40\",\"1970-01-01T13:04:00\",\"1970-01-01T13:04:00\",\"1970-01-01T13:04:00\",\"1970-01-01T15:29:18\",\"1970-01-01T15:29:18\",\"1970-01-01T16:02:38\",\"1970-01-01T16:02:38\",\"1970-01-01T16:02:38\",\"1970-01-01T01:13:06\",\"1970-01-01T01:13:06\",\"1970-01-01T01:46:26\",\"1970-01-01T01:46:26\",\"1970-01-01T01:46:26\",\"1970-01-01T03:55:02\",\"1970-01-01T03:55:02\",\"1970-01-01T04:28:22\",\"1970-01-01T04:28:22\",\"1970-01-01T04:28:22\",\"1970-01-01T06:36:58\",\"1970-01-01T06:36:58\",\"1970-01-01T07:10:18\",\"1970-01-01T07:10:18\",\"1970-01-01T07:10:18\",\"1970-01-01T09:32:02\",\"1970-01-01T09:32:02\",\"1970-01-01T10:05:22\",\"1970-01-01T10:05:22\",\"1970-01-01T10:05:22\",\"1970-01-01T12:30:40\",\"1970-01-01T12:30:40\",\"1970-01-01T13:04:00\",\"1970-01-01T13:04:00\",\"1970-01-01T13:04:00\",\"1970-01-01T15:29:18\",\"1970-01-01T15:29:18\",\"1970-01-01T16:02:38\",\"1970-01-01T16:02:38\",\"1970-01-01T16:02:38\",\"1970-01-01T01:13:06\",\"1970-01-01T01:13:06\",\"1970-01-01T01:46:26\",\"1970-01-01T01:46:26\",\"1970-01-01T01:46:26\",\"1970-01-01T03:55:02\",\"1970-01-01T03:55:02\",\"1970-01-01T04:28:22\",\"1970-01-01T04:28:22\",\"1970-01-01T04:28:22\",\"1970-01-01T06:36:58\",\"1970-01-01T06:36:58\",\"1970-01-01T07:10:18\",\"1970-01-01T07:10:18\",\"1970-01-01T07:10:18\",\"1970-01-01T09:32:02\",\"1970-01-01T09:32:02\",\"1970-01-01T10:05:22\",\"1970-01-01T10:05:22\",\"1970-01-01T10:05:22\",\"1970-01-01T12:30:40\",\"1970-01-01T12:30:40\",\"1970-01-01T13:04:00\",\"1970-01-01T13:04:00\",\"1970-01-01T13:04:00\",\"1970-01-01T15:29:18\",\"1970-01-01T15:29:18\",\"1970-01-01T16:02:38\",\"1970-01-01T16:02:38\",\"1970-01-01T16:02:38\"],\"y\":[\"Carrier B\",\"Carrier B\",\"Carrier B\",\"Carrier B\",null,\"Carrier B\",\"Carrier B\",\"Carrier B\",\"Carrier B\",null,\"Carrier B\",\"Carrier B\",\"Carrier B\",\"Carrier B\",null,\"Carrier B\",\"Carrier B\",\"Carrier B\",\"Carrier B\",null,\"Carrier B\",\"Carrier B\",\"Carrier B\",\"Carrier B\",null,\"Carrier B\",\"Carrier B\",\"Carrier B\",\"Carrier B\",null,\"Cutter T\",\"Cutter T\",\"Cutter T\",\"Cutter T\",null,\"Cutter T\",\"Cutter T\",\"Cutter T\",\"Cutter T\",null,\"Cutter T\",\"Cutter T\",\"Cutter T\",\"Cutter T\",null,\"Cutter T\",\"Cutter T\",\"Cutter T\",\"Cutter T\",null,\"Cutter T\",\"Cutter T\",\"Cutter T\",\"Cutter T\",null,\"Cutter T\",\"Cutter T\",\"Cutter T\",\"Cutter T\",null,\"Trench\",\"Trench\",\"Trench\",\"Trench\",null,\"Trench\",\"Trench\",\"Trench\",\"Trench\",null,\"Trench\",\"Trench\",\"Trench\",\"Trench\",null,\"Trench\",\"Trench\",\"Trench\",\"Trench\",null,\"Trench\",\"Trench\",\"Trench\",\"Trench\",null,\"Trench\",\"Trench\",\"Trench\",\"Trench\",null],\"type\":\"scatter\"},{\"connectgaps\":false,\"hoverinfo\":\"y+name\",\"line\":{\"color\":\"rgb(88,251,227)\",\"width\":10},\"mode\":\"lines\",\"name\":\"loading:Carrier C\",\"x\":[\"1970-01-01T02:28:06\",\"1970-01-01T02:28:06\",\"1970-01-01T03:01:26\",\"1970-01-01T03:01:26\",\"1970-01-01T03:01:26\",\"1970-01-01T05:26:44\",\"1970-01-01T05:26:44\",\"1970-01-01T06:00:04\",\"1970-01-01T06:00:04\",\"1970-01-01T06:00:04\",\"1970-01-01T08:25:22\",\"1970-01-01T08:25:22\",\"1970-01-01T08:58:42\",\"1970-01-01T08:58:42\",\"1970-01-01T08:58:42\",\"1970-01-01T11:24:00\",\"1970-01-01T11:24:00\",\"1970-01-01T11:57:20\",\"1970-01-01T11:57:20\",\"1970-01-01T11:57:20\",\"1970-01-01T14:22:38\",\"1970-01-01T14:22:38\",\"1970-01-01T14:55:58\",\"1970-01-01T14:55:58\",\"1970-01-01T14:55:58\",\"1970-01-01T17:21:16\",\"1970-01-01T17:21:16\",\"1970-01-01T17:54:36\",\"1970-01-01T17:54:36\",\"1970-01-01T17:54:36\",\"1970-01-01T02:28:06\",\"1970-01-01T02:28:06\",\"1970-01-01T03:01:26\",\"1970-01-01T03:01:26\",\"1970-01-01T03:01:26\",\"1970-01-01T05:26:44\",\"1970-01-01T05:26:44\",\"1970-01-01T06:00:04\",\"1970-01-01T06:00:04\",\"1970-01-01T06:00:04\",\"1970-01-01T08:25:22\",\"1970-01-01T08:25:22\",\"1970-01-01T08:58:42\",\"1970-01-01T08:58:42\",\"1970-01-01T08:58:42\",\"1970-01-01T11:24:00\",\"1970-01-01T11:24:00\",\"1970-01-01T11:57:20\",\"1970-01-01T11:57:20\",\"1970-01-01T11:57:20\",\"1970-01-01T14:22:38\",\"1970-01-01T14:22:38\",\"1970-01-01T14:55:58\",\"1970-01-01T14:55:58\",\"1970-01-01T14:55:58\",\"1970-01-01T17:21:16\",\"1970-01-01T17:21:16\",\"1970-01-01T17:54:36\",\"1970-01-01T17:54:36\",\"1970-01-01T17:54:36\",\"1970-01-01T02:28:06\",\"1970-01-01T02:28:06\",\"1970-01-01T03:01:26\",\"1970-01-01T03:01:26\",\"1970-01-01T03:01:26\",\"1970-01-01T05:26:44\",\"1970-01-01T05:26:44\",\"1970-01-01T06:00:04\",\"1970-01-01T06:00:04\",\"1970-01-01T06:00:04\",\"1970-01-01T08:25:22\",\"1970-01-01T08:25:22\",\"1970-01-01T08:58:42\",\"1970-01-01T08:58:42\",\"1970-01-01T08:58:42\",\"1970-01-01T11:24:00\",\"1970-01-01T11:24:00\",\"1970-01-01T11:57:20\",\"1970-01-01T11:57:20\",\"1970-01-01T11:57:20\",\"1970-01-01T14:22:38\",\"1970-01-01T14:22:38\",\"1970-01-01T14:55:58\",\"1970-01-01T14:55:58\",\"1970-01-01T14:55:58\",\"1970-01-01T17:21:16\",\"1970-01-01T17:21:16\",\"1970-01-01T17:54:36\",\"1970-01-01T17:54:36\",\"1970-01-01T17:54:36\"],\"y\":[\"Carrier C\",\"Carrier C\",\"Carrier C\",\"Carrier C\",null,\"Carrier C\",\"Carrier C\",\"Carrier C\",\"Carrier C\",null,\"Carrier C\",\"Carrier C\",\"Carrier C\",\"Carrier C\",null,\"Carrier C\",\"Carrier C\",\"Carrier C\",\"Carrier C\",null,\"Carrier C\",\"Carrier C\",\"Carrier C\",\"Carrier C\",null,\"Carrier C\",\"Carrier C\",\"Carrier C\",\"Carrier C\",null,\"Cutter T\",\"Cutter T\",\"Cutter T\",\"Cutter T\",null,\"Cutter T\",\"Cutter T\",\"Cutter T\",\"Cutter T\",null,\"Cutter T\",\"Cutter T\",\"Cutter T\",\"Cutter T\",null,\"Cutter T\",\"Cutter T\",\"Cutter T\",\"Cutter T\",null,\"Cutter T\",\"Cutter T\",\"Cutter T\",\"Cutter T\",null,\"Cutter T\",\"Cutter T\",\"Cutter T\",\"Cutter T\",null,\"Trench\",\"Trench\",\"Trench\",\"Trench\",null,\"Trench\",\"Trench\",\"Trench\",\"Trench\",null,\"Trench\",\"Trench\",\"Trench\",\"Trench\",null,\"Trench\",\"Trench\",\"Trench\",\"Trench\",null,\"Trench\",\"Trench\",\"Trench\",\"Trench\",null,\"Trench\",\"Trench\",\"Trench\",\"Trench\",null],\"type\":\"scatter\"},{\"connectgaps\":false,\"hoverinfo\":\"y+name\",\"line\":{\"color\":\"rgb(97,4,236)\",\"width\":10},\"mode\":\"lines\",\"name\":\"loading:Carrier A\",\"x\":[\"1970-01-01T00:39:46\",\"1970-01-01T00:39:46\",\"1970-01-01T01:13:06\",\"1970-01-01T01:13:06\",\"1970-01-01T01:13:06\",\"1970-01-01T03:12:24\",\"1970-01-01T03:12:24\",\"1970-01-01T03:45:44\",\"1970-01-01T03:45:44\",\"1970-01-01T03:45:44\",\"1970-01-01T06:00:04\",\"1970-01-01T06:00:04\",\"1970-01-01T06:33:24\",\"1970-01-01T06:33:24\",\"1970-01-01T06:33:24\",\"1970-01-01T08:58:42\",\"1970-01-01T08:58:42\",\"1970-01-01T09:32:02\",\"1970-01-01T09:32:02\",\"1970-01-01T09:32:02\",\"1970-01-01T11:57:20\",\"1970-01-01T11:57:20\",\"1970-01-01T12:30:40\",\"1970-01-01T12:30:40\",\"1970-01-01T12:30:40\",\"1970-01-01T14:55:58\",\"1970-01-01T14:55:58\",\"1970-01-01T15:29:18\",\"1970-01-01T15:29:18\",\"1970-01-01T15:29:18\",\"1970-01-01T00:39:46\",\"1970-01-01T00:39:46\",\"1970-01-01T01:13:06\",\"1970-01-01T01:13:06\",\"1970-01-01T01:13:06\",\"1970-01-01T03:12:24\",\"1970-01-01T03:12:24\",\"1970-01-01T03:45:44\",\"1970-01-01T03:45:44\",\"1970-01-01T03:45:44\",\"1970-01-01T06:00:04\",\"1970-01-01T06:00:04\",\"1970-01-01T06:33:24\",\"1970-01-01T06:33:24\",\"1970-01-01T06:33:24\",\"1970-01-01T08:58:42\",\"1970-01-01T08:58:42\",\"1970-01-01T09:32:02\",\"1970-01-01T09:32:02\",\"1970-01-01T09:32:02\",\"1970-01-01T11:57:20\",\"1970-01-01T11:57:20\",\"1970-01-01T12:30:40\",\"1970-01-01T12:30:40\",\"1970-01-01T12:30:40\",\"1970-01-01T14:55:58\",\"1970-01-01T14:55:58\",\"1970-01-01T15:29:18\",\"1970-01-01T15:29:18\",\"1970-01-01T15:29:18\",\"1970-01-01T00:39:46\",\"1970-01-01T00:39:46\",\"1970-01-01T01:13:06\",\"1970-01-01T01:13:06\",\"1970-01-01T01:13:06\",\"1970-01-01T03:12:24\",\"1970-01-01T03:12:24\",\"1970-01-01T03:45:44\",\"1970-01-01T03:45:44\",\"1970-01-01T03:45:44\",\"1970-01-01T06:00:04\",\"1970-01-01T06:00:04\",\"1970-01-01T06:33:24\",\"1970-01-01T06:33:24\",\"1970-01-01T06:33:24\",\"1970-01-01T08:58:42\",\"1970-01-01T08:58:42\",\"1970-01-01T09:32:02\",\"1970-01-01T09:32:02\",\"1970-01-01T09:32:02\",\"1970-01-01T11:57:20\",\"1970-01-01T11:57:20\",\"1970-01-01T12:30:40\",\"1970-01-01T12:30:40\",\"1970-01-01T12:30:40\",\"1970-01-01T14:55:58\",\"1970-01-01T14:55:58\",\"1970-01-01T15:29:18\",\"1970-01-01T15:29:18\",\"1970-01-01T15:29:18\"],\"y\":[\"Carrier A\",\"Carrier A\",\"Carrier A\",\"Carrier A\",null,\"Carrier A\",\"Carrier A\",\"Carrier A\",\"Carrier A\",null,\"Carrier A\",\"Carrier A\",\"Carrier A\",\"Carrier A\",null,\"Carrier A\",\"Carrier A\",\"Carrier A\",\"Carrier A\",null,\"Carrier A\",\"Carrier A\",\"Carrier A\",\"Carrier A\",null,\"Carrier A\",\"Carrier A\",\"Carrier A\",\"Carrier A\",null,\"Cutter T\",\"Cutter T\",\"Cutter T\",\"Cutter T\",null,\"Cutter T\",\"Cutter T\",\"Cutter T\",\"Cutter T\",null,\"Cutter T\",\"Cutter T\",\"Cutter T\",\"Cutter T\",null,\"Cutter T\",\"Cutter T\",\"Cutter T\",\"Cutter T\",null,\"Cutter T\",\"Cutter T\",\"Cutter T\",\"Cutter T\",null,\"Cutter T\",\"Cutter T\",\"Cutter T\",\"Cutter T\",null,\"Trench\",\"Trench\",\"Trench\",\"Trench\",null,\"Trench\",\"Trench\",\"Trench\",\"Trench\",null,\"Trench\",\"Trench\",\"Trench\",\"Trench\",null,\"Trench\",\"Trench\",\"Trench\",\"Trench\",null,\"Trench\",\"Trench\",\"Trench\",\"Trench\",null,\"Trench\",\"Trench\",\"Trench\",\"Trench\",null],\"type\":\"scatter\"},{\"connectgaps\":false,\"hoverinfo\":\"y+name\",\"line\":{\"color\":\"rgb(106,13,245)\",\"width\":10},\"mode\":\"lines\",\"name\":\"loading:Barge I\",\"x\":[\"1970-01-01T01:46:26\",\"1970-01-01T01:46:26\",\"1970-01-01T02:28:06\",\"1970-01-01T02:28:06\",\"1970-01-01T02:28:06\",\"1970-01-01T04:44:51\",\"1970-01-01T04:44:51\",\"1970-01-01T05:26:31\",\"1970-01-01T05:26:31\",\"1970-01-01T05:26:31\",\"1970-01-01T07:43:16\",\"1970-01-01T07:43:16\",\"1970-01-01T08:24:56\",\"1970-01-01T08:24:56\",\"1970-01-01T08:24:56\",\"1970-01-01T10:41:41\",\"1970-01-01T10:41:41\",\"1970-01-01T11:23:21\",\"1970-01-01T11:23:21\",\"1970-01-01T11:23:21\",\"1970-01-01T13:40:06\",\"1970-01-01T13:40:06\",\"1970-01-01T14:21:46\",\"1970-01-01T14:21:46\",\"1970-01-01T14:21:46\",\"1970-01-01T16:38:31\",\"1970-01-01T16:38:31\",\"1970-01-01T17:20:11\",\"1970-01-01T17:20:11\",\"1970-01-01T17:20:11\",\"1970-01-01T01:46:26\",\"1970-01-01T01:46:26\",\"1970-01-01T02:28:06\",\"1970-01-01T02:28:06\",\"1970-01-01T02:28:06\",\"1970-01-01T04:44:51\",\"1970-01-01T04:44:51\",\"1970-01-01T05:26:31\",\"1970-01-01T05:26:31\",\"1970-01-01T05:26:31\",\"1970-01-01T07:43:16\",\"1970-01-01T07:43:16\",\"1970-01-01T08:24:56\",\"1970-01-01T08:24:56\",\"1970-01-01T08:24:56\",\"1970-01-01T10:41:41\",\"1970-01-01T10:41:41\",\"1970-01-01T11:23:21\",\"1970-01-01T11:23:21\",\"1970-01-01T11:23:21\",\"1970-01-01T13:40:06\",\"1970-01-01T13:40:06\",\"1970-01-01T14:21:46\",\"1970-01-01T14:21:46\",\"1970-01-01T14:21:46\",\"1970-01-01T16:38:31\",\"1970-01-01T16:38:31\",\"1970-01-01T17:20:11\",\"1970-01-01T17:20:11\",\"1970-01-01T17:20:11\",\"1970-01-01T01:46:26\",\"1970-01-01T01:46:26\",\"1970-01-01T02:28:06\",\"1970-01-01T02:28:06\",\"1970-01-01T02:28:06\",\"1970-01-01T04:44:51\",\"1970-01-01T04:44:51\",\"1970-01-01T05:26:31\",\"1970-01-01T05:26:31\",\"1970-01-01T05:26:31\",\"1970-01-01T07:43:16\",\"1970-01-01T07:43:16\",\"1970-01-01T08:24:56\",\"1970-01-01T08:24:56\",\"1970-01-01T08:24:56\",\"1970-01-01T10:41:41\",\"1970-01-01T10:41:41\",\"1970-01-01T11:23:21\",\"1970-01-01T11:23:21\",\"1970-01-01T11:23:21\",\"1970-01-01T13:40:06\",\"1970-01-01T13:40:06\",\"1970-01-01T14:21:46\",\"1970-01-01T14:21:46\",\"1970-01-01T14:21:46\",\"1970-01-01T16:38:31\",\"1970-01-01T16:38:31\",\"1970-01-01T17:20:11\",\"1970-01-01T17:20:11\",\"1970-01-01T17:20:11\"],\"y\":[\"Barge I\",\"Barge I\",\"Barge I\",\"Barge I\",null,\"Barge I\",\"Barge I\",\"Barge I\",\"Barge I\",null,\"Barge I\",\"Barge I\",\"Barge I\",\"Barge I\",null,\"Barge I\",\"Barge I\",\"Barge I\",\"Barge I\",null,\"Barge I\",\"Barge I\",\"Barge I\",\"Barge I\",null,\"Barge I\",\"Barge I\",\"Barge I\",\"Barge I\",null,\"Cutter T\",\"Cutter T\",\"Cutter T\",\"Cutter T\",null,\"Cutter T\",\"Cutter T\",\"Cutter T\",\"Cutter T\",null,\"Cutter T\",\"Cutter T\",\"Cutter T\",\"Cutter T\",null,\"Cutter T\",\"Cutter T\",\"Cutter T\",\"Cutter T\",null,\"Cutter T\",\"Cutter T\",\"Cutter T\",\"Cutter T\",null,\"Cutter T\",\"Cutter T\",\"Cutter T\",\"Cutter T\",null,\"Trench\",\"Trench\",\"Trench\",\"Trench\",null,\"Trench\",\"Trench\",\"Trench\",\"Trench\",null,\"Trench\",\"Trench\",\"Trench\",\"Trench\",null,\"Trench\",\"Trench\",\"Trench\",\"Trench\",null,\"Trench\",\"Trench\",\"Trench\",\"Trench\",null,\"Trench\",\"Trench\",\"Trench\",\"Trench\",null],\"type\":\"scatter\"},{\"connectgaps\":false,\"hoverinfo\":\"y+name\",\"line\":{\"color\":\"rgb(115,22,254)\",\"width\":10},\"mode\":\"lines\",\"name\":\"loading:Carrier B\",\"x\":[\"1970-01-01T01:13:06\",\"1970-01-01T01:13:06\",\"1970-01-01T01:46:26\",\"1970-01-01T01:46:26\",\"1970-01-01T01:46:26\",\"1970-01-01T03:55:02\",\"1970-01-01T03:55:02\",\"1970-01-01T04:28:22\",\"1970-01-01T04:28:22\",\"1970-01-01T04:28:22\",\"1970-01-01T06:36:58\",\"1970-01-01T06:36:58\",\"1970-01-01T07:10:18\",\"1970-01-01T07:10:18\",\"1970-01-01T07:10:18\",\"1970-01-01T09:32:02\",\"1970-01-01T09:32:02\",\"1970-01-01T10:05:22\",\"1970-01-01T10:05:22\",\"1970-01-01T10:05:22\",\"1970-01-01T12:30:40\",\"1970-01-01T12:30:40\",\"1970-01-01T13:04:00\",\"1970-01-01T13:04:00\",\"1970-01-01T13:04:00\",\"1970-01-01T15:29:18\",\"1970-01-01T15:29:18\",\"1970-01-01T16:02:38\",\"1970-01-01T16:02:38\",\"1970-01-01T16:02:38\",\"1970-01-01T01:13:06\",\"1970-01-01T01:13:06\",\"1970-01-01T01:46:26\",\"1970-01-01T01:46:26\",\"1970-01-01T01:46:26\",\"1970-01-01T03:55:02\",\"1970-01-01T03:55:02\",\"1970-01-01T04:28:22\",\"1970-01-01T04:28:22\",\"1970-01-01T04:28:22\",\"1970-01-01T06:36:58\",\"1970-01-01T06:36:58\",\"1970-01-01T07:10:18\",\"1970-01-01T07:10:18\",\"1970-01-01T07:10:18\",\"1970-01-01T09:32:02\",\"1970-01-01T09:32:02\",\"1970-01-01T10:05:22\",\"1970-01-01T10:05:22\",\"1970-01-01T10:05:22\",\"1970-01-01T12:30:40\",\"1970-01-01T12:30:40\",\"1970-01-01T13:04:00\",\"1970-01-01T13:04:00\",\"1970-01-01T13:04:00\",\"1970-01-01T15:29:18\",\"1970-01-01T15:29:18\",\"1970-01-01T16:02:38\",\"1970-01-01T16:02:38\",\"1970-01-01T16:02:38\",\"1970-01-01T01:13:06\",\"1970-01-01T01:13:06\",\"1970-01-01T01:46:26\",\"1970-01-01T01:46:26\",\"1970-01-01T01:46:26\",\"1970-01-01T03:55:02\",\"1970-01-01T03:55:02\",\"1970-01-01T04:28:22\",\"1970-01-01T04:28:22\",\"1970-01-01T04:28:22\",\"1970-01-01T06:36:58\",\"1970-01-01T06:36:58\",\"1970-01-01T07:10:18\",\"1970-01-01T07:10:18\",\"1970-01-01T07:10:18\",\"1970-01-01T09:32:02\",\"1970-01-01T09:32:02\",\"1970-01-01T10:05:22\",\"1970-01-01T10:05:22\",\"1970-01-01T10:05:22\",\"1970-01-01T12:30:40\",\"1970-01-01T12:30:40\",\"1970-01-01T13:04:00\",\"1970-01-01T13:04:00\",\"1970-01-01T13:04:00\",\"1970-01-01T15:29:18\",\"1970-01-01T15:29:18\",\"1970-01-01T16:02:38\",\"1970-01-01T16:02:38\",\"1970-01-01T16:02:38\"],\"y\":[\"Carrier B\",\"Carrier B\",\"Carrier B\",\"Carrier B\",null,\"Carrier B\",\"Carrier B\",\"Carrier B\",\"Carrier B\",null,\"Carrier B\",\"Carrier B\",\"Carrier B\",\"Carrier B\",null,\"Carrier B\",\"Carrier B\",\"Carrier B\",\"Carrier B\",null,\"Carrier B\",\"Carrier B\",\"Carrier B\",\"Carrier B\",null,\"Carrier B\",\"Carrier B\",\"Carrier B\",\"Carrier B\",null,\"Cutter T\",\"Cutter T\",\"Cutter T\",\"Cutter T\",null,\"Cutter T\",\"Cutter T\",\"Cutter T\",\"Cutter T\",null,\"Cutter T\",\"Cutter T\",\"Cutter T\",\"Cutter T\",null,\"Cutter T\",\"Cutter T\",\"Cutter T\",\"Cutter T\",null,\"Cutter T\",\"Cutter T\",\"Cutter T\",\"Cutter T\",null,\"Cutter T\",\"Cutter T\",\"Cutter T\",\"Cutter T\",null,\"Trench\",\"Trench\",\"Trench\",\"Trench\",null,\"Trench\",\"Trench\",\"Trench\",\"Trench\",null,\"Trench\",\"Trench\",\"Trench\",\"Trench\",null,\"Trench\",\"Trench\",\"Trench\",\"Trench\",null,\"Trench\",\"Trench\",\"Trench\",\"Trench\",null,\"Trench\",\"Trench\",\"Trench\",\"Trench\",null],\"type\":\"scatter\"},{\"connectgaps\":false,\"hoverinfo\":\"y+name\",\"line\":{\"color\":\"rgb(124,31,7)\",\"width\":10},\"mode\":\"lines\",\"name\":\"unloading:Carrier B\",\"x\":[\"1970-01-01T02:29:18\",\"1970-01-01T02:29:18\",\"1970-01-01T03:12:10\",\"1970-01-01T03:12:10\",\"1970-01-01T03:12:10\",\"1970-01-01T05:11:14\",\"1970-01-01T05:11:14\",\"1970-01-01T05:54:06\",\"1970-01-01T05:54:06\",\"1970-01-01T05:54:06\",\"1970-01-01T07:53:10\",\"1970-01-01T07:53:10\",\"1970-01-01T08:36:02\",\"1970-01-01T08:36:02\",\"1970-01-01T08:36:02\",\"1970-01-01T10:48:14\",\"1970-01-01T10:48:14\",\"1970-01-01T11:31:06\",\"1970-01-01T11:31:06\",\"1970-01-01T11:31:06\",\"1970-01-01T13:46:52\",\"1970-01-01T13:46:52\",\"1970-01-01T14:29:44\",\"1970-01-01T14:29:44\",\"1970-01-01T14:29:44\",\"1970-01-01T16:45:30\",\"1970-01-01T16:45:30\",\"1970-01-01T17:28:22\",\"1970-01-01T17:28:22\",\"1970-01-01T17:28:22\",\"1970-01-01T02:29:18\",\"1970-01-01T02:29:18\",\"1970-01-01T03:12:10\",\"1970-01-01T03:12:10\",\"1970-01-01T03:12:10\",\"1970-01-01T05:11:14\",\"1970-01-01T05:11:14\",\"1970-01-01T05:54:06\",\"1970-01-01T05:54:06\",\"1970-01-01T05:54:06\",\"1970-01-01T07:53:10\",\"1970-01-01T07:53:10\",\"1970-01-01T08:36:02\",\"1970-01-01T08:36:02\",\"1970-01-01T08:36:02\",\"1970-01-01T10:48:14\",\"1970-01-01T10:48:14\",\"1970-01-01T11:31:06\",\"1970-01-01T11:31:06\",\"1970-01-01T11:31:06\",\"1970-01-01T13:46:52\",\"1970-01-01T13:46:52\",\"1970-01-01T14:29:44\",\"1970-01-01T14:29:44\",\"1970-01-01T14:29:44\",\"1970-01-01T16:45:30\",\"1970-01-01T16:45:30\",\"1970-01-01T17:28:22\",\"1970-01-01T17:28:22\",\"1970-01-01T17:28:22\"],\"y\":[\"Carrier B\",\"Carrier B\",\"Carrier B\",\"Carrier B\",null,\"Carrier B\",\"Carrier B\",\"Carrier B\",\"Carrier B\",null,\"Carrier B\",\"Carrier B\",\"Carrier B\",\"Carrier B\",null,\"Carrier B\",\"Carrier B\",\"Carrier B\",\"Carrier B\",null,\"Carrier B\",\"Carrier B\",\"Carrier B\",\"Carrier B\",null,\"Carrier B\",\"Carrier B\",\"Carrier B\",\"Carrier B\",null,\"Reclamation\",\"Reclamation\",\"Reclamation\",\"Reclamation\",null,\"Reclamation\",\"Reclamation\",\"Reclamation\",\"Reclamation\",null,\"Reclamation\",\"Reclamation\",\"Reclamation\",\"Reclamation\",null,\"Reclamation\",\"Reclamation\",\"Reclamation\",\"Reclamation\",null,\"Reclamation\",\"Reclamation\",\"Reclamation\",\"Reclamation\",null,\"Reclamation\",\"Reclamation\",\"Reclamation\",\"Reclamation\",null],\"type\":\"scatter\"},{\"connectgaps\":false,\"hoverinfo\":\"y+name\",\"line\":{\"color\":\"rgb(133,40,16)\",\"width\":10},\"mode\":\"lines\",\"name\":\"unloading:Carrier C\",\"x\":[\"1970-01-01T03:49:52\",\"1970-01-01T03:49:52\",\"1970-01-01T04:38:18\",\"1970-01-01T04:38:18\",\"1970-01-01T04:38:18\",\"1970-01-01T06:48:30\",\"1970-01-01T06:48:30\",\"1970-01-01T07:36:56\",\"1970-01-01T07:36:56\",\"1970-01-01T07:36:56\",\"1970-01-01T09:47:08\",\"1970-01-01T09:47:08\",\"1970-01-01T10:35:34\",\"1970-01-01T10:35:34\",\"1970-01-01T10:35:34\",\"1970-01-01T12:45:46\",\"1970-01-01T12:45:46\",\"1970-01-01T13:34:12\",\"1970-01-01T13:34:12\",\"1970-01-01T13:34:12\",\"1970-01-01T15:44:24\",\"1970-01-01T15:44:24\",\"1970-01-01T16:32:50\",\"1970-01-01T16:32:50\",\"1970-01-01T16:32:50\",\"1970-01-01T18:43:02\",\"1970-01-01T18:43:02\",\"1970-01-01T19:31:28\",\"1970-01-01T19:31:28\",\"1970-01-01T19:31:28\",\"1970-01-01T03:49:52\",\"1970-01-01T03:49:52\",\"1970-01-01T04:38:18\",\"1970-01-01T04:38:18\",\"1970-01-01T04:38:18\",\"1970-01-01T06:48:30\",\"1970-01-01T06:48:30\",\"1970-01-01T07:36:56\",\"1970-01-01T07:36:56\",\"1970-01-01T07:36:56\",\"1970-01-01T09:47:08\",\"1970-01-01T09:47:08\",\"1970-01-01T10:35:34\",\"1970-01-01T10:35:34\",\"1970-01-01T10:35:34\",\"1970-01-01T12:45:46\",\"1970-01-01T12:45:46\",\"1970-01-01T13:34:12\",\"1970-01-01T13:34:12\",\"1970-01-01T13:34:12\",\"1970-01-01T15:44:24\",\"1970-01-01T15:44:24\",\"1970-01-01T16:32:50\",\"1970-01-01T16:32:50\",\"1970-01-01T16:32:50\",\"1970-01-01T18:43:02\",\"1970-01-01T18:43:02\",\"1970-01-01T19:31:28\",\"1970-01-01T19:31:28\",\"1970-01-01T19:31:28\"],\"y\":[\"Carrier C\",\"Carrier C\",\"Carrier C\",\"Carrier C\",null,\"Carrier C\",\"Carrier C\",\"Carrier C\",\"Carrier C\",null,\"Carrier C\",\"Carrier C\",\"Carrier C\",\"Carrier C\",null,\"Carrier C\",\"Carrier C\",\"Carrier C\",\"Carrier C\",null,\"Carrier C\",\"Carrier C\",\"Carrier C\",\"Carrier C\",null,\"Carrier C\",\"Carrier C\",\"Carrier C\",\"Carrier C\",null,\"Reclamation\",\"Reclamation\",\"Reclamation\",\"Reclamation\",null,\"Reclamation\",\"Reclamation\",\"Reclamation\",\"Reclamation\",null,\"Reclamation\",\"Reclamation\",\"Reclamation\",\"Reclamation\",null,\"Reclamation\",\"Reclamation\",\"Reclamation\",\"Reclamation\",null,\"Reclamation\",\"Reclamation\",\"Reclamation\",\"Reclamation\",null,\"Reclamation\",\"Reclamation\",\"Reclamation\",\"Reclamation\",null],\"type\":\"scatter\"},{\"connectgaps\":false,\"hoverinfo\":\"y+name\",\"line\":{\"color\":\"rgb(142,49,25)\",\"width\":10},\"mode\":\"lines\",\"name\":\"unloading:Carrier A\",\"x\":[\"1970-01-01T01:52:52\",\"1970-01-01T01:52:52\",\"1970-01-01T02:32:38\",\"1970-01-01T02:32:38\",\"1970-01-01T02:32:38\",\"1970-01-01T04:25:30\",\"1970-01-01T04:25:30\",\"1970-01-01T05:05:16\",\"1970-01-01T05:05:16\",\"1970-01-01T05:05:16\",\"1970-01-01T07:13:10\",\"1970-01-01T07:13:10\",\"1970-01-01T07:52:56\",\"1970-01-01T07:52:56\",\"1970-01-01T07:52:56\",\"1970-01-01T10:11:48\",\"1970-01-01T10:11:48\",\"1970-01-01T10:51:34\",\"1970-01-01T10:51:34\",\"1970-01-01T10:51:34\",\"1970-01-01T13:10:26\",\"1970-01-01T13:10:26\",\"1970-01-01T13:50:12\",\"1970-01-01T13:50:12\",\"1970-01-01T13:50:12\",\"1970-01-01T16:09:04\",\"1970-01-01T16:09:04\",\"1970-01-01T16:48:50\",\"1970-01-01T16:48:50\",\"1970-01-01T16:48:50\",\"1970-01-01T01:52:52\",\"1970-01-01T01:52:52\",\"1970-01-01T02:32:38\",\"1970-01-01T02:32:38\",\"1970-01-01T02:32:38\",\"1970-01-01T04:25:30\",\"1970-01-01T04:25:30\",\"1970-01-01T05:05:16\",\"1970-01-01T05:05:16\",\"1970-01-01T05:05:16\",\"1970-01-01T07:13:10\",\"1970-01-01T07:13:10\",\"1970-01-01T07:52:56\",\"1970-01-01T07:52:56\",\"1970-01-01T07:52:56\",\"1970-01-01T10:11:48\",\"1970-01-01T10:11:48\",\"1970-01-01T10:51:34\",\"1970-01-01T10:51:34\",\"1970-01-01T10:51:34\",\"1970-01-01T13:10:26\",\"1970-01-01T13:10:26\",\"1970-01-01T13:50:12\",\"1970-01-01T13:50:12\",\"1970-01-01T13:50:12\",\"1970-01-01T16:09:04\",\"1970-01-01T16:09:04\",\"1970-01-01T16:48:50\",\"1970-01-01T16:48:50\",\"1970-01-01T16:48:50\"],\"y\":[\"Carrier A\",\"Carrier A\",\"Carrier A\",\"Carrier A\",null,\"Carrier A\",\"Carrier A\",\"Carrier A\",\"Carrier A\",null,\"Carrier A\",\"Carrier A\",\"Carrier A\",\"Carrier A\",null,\"Carrier A\",\"Carrier A\",\"Carrier A\",\"Carrier A\",null,\"Carrier A\",\"Carrier A\",\"Carrier A\",\"Carrier A\",null,\"Carrier A\",\"Carrier A\",\"Carrier A\",\"Carrier A\",null,\"Reclamation\",\"Reclamation\",\"Reclamation\",\"Reclamation\",null,\"Reclamation\",\"Reclamation\",\"Reclamation\",\"Reclamation\",null,\"Reclamation\",\"Reclamation\",\"Reclamation\",\"Reclamation\",null,\"Reclamation\",\"Reclamation\",\"Reclamation\",\"Reclamation\",null,\"Reclamation\",\"Reclamation\",\"Reclamation\",\"Reclamation\",null,\"Reclamation\",\"Reclamation\",\"Reclamation\",\"Reclamation\",null],\"type\":\"scatter\"},{\"connectgaps\":false,\"hoverinfo\":\"y+name\",\"line\":{\"color\":\"rgb(151,58,34)\",\"width\":10},\"mode\":\"lines\",\"name\":\"unloading:Barge I\",\"x\":[\"1970-01-01T03:13:41\",\"1970-01-01T03:13:41\",\"1970-01-01T03:59:16\",\"1970-01-01T03:59:16\",\"1970-01-01T03:59:16\",\"1970-01-01T06:12:06\",\"1970-01-01T06:12:06\",\"1970-01-01T06:57:41\",\"1970-01-01T06:57:41\",\"1970-01-01T06:57:41\",\"1970-01-01T09:10:31\",\"1970-01-01T09:10:31\",\"1970-01-01T09:56:06\",\"1970-01-01T09:56:06\",\"1970-01-01T09:56:06\",\"1970-01-01T12:08:56\",\"1970-01-01T12:08:56\",\"1970-01-01T12:54:31\",\"1970-01-01T12:54:31\",\"1970-01-01T12:54:31\",\"1970-01-01T15:07:21\",\"1970-01-01T15:07:21\",\"1970-01-01T15:52:56\",\"1970-01-01T15:52:56\",\"1970-01-01T15:52:56\",\"1970-01-01T18:05:46\",\"1970-01-01T18:05:46\",\"1970-01-01T18:51:21\",\"1970-01-01T18:51:21\",\"1970-01-01T18:51:21\",\"1970-01-01T03:13:41\",\"1970-01-01T03:13:41\",\"1970-01-01T03:59:16\",\"1970-01-01T03:59:16\",\"1970-01-01T03:59:16\",\"1970-01-01T06:12:06\",\"1970-01-01T06:12:06\",\"1970-01-01T06:57:41\",\"1970-01-01T06:57:41\",\"1970-01-01T06:57:41\",\"1970-01-01T09:10:31\",\"1970-01-01T09:10:31\",\"1970-01-01T09:56:06\",\"1970-01-01T09:56:06\",\"1970-01-01T09:56:06\",\"1970-01-01T12:08:56\",\"1970-01-01T12:08:56\",\"1970-01-01T12:54:31\",\"1970-01-01T12:54:31\",\"1970-01-01T12:54:31\",\"1970-01-01T15:07:21\",\"1970-01-01T15:07:21\",\"1970-01-01T15:52:56\",\"1970-01-01T15:52:56\",\"1970-01-01T15:52:56\",\"1970-01-01T18:05:46\",\"1970-01-01T18:05:46\",\"1970-01-01T18:51:21\",\"1970-01-01T18:51:21\",\"1970-01-01T18:51:21\"],\"y\":[\"Barge I\",\"Barge I\",\"Barge I\",\"Barge I\",null,\"Barge I\",\"Barge I\",\"Barge I\",\"Barge I\",null,\"Barge I\",\"Barge I\",\"Barge I\",\"Barge I\",null,\"Barge I\",\"Barge I\",\"Barge I\",\"Barge I\",null,\"Barge I\",\"Barge I\",\"Barge I\",\"Barge I\",null,\"Barge I\",\"Barge I\",\"Barge I\",\"Barge I\",null,\"Reclamation\",\"Reclamation\",\"Reclamation\",\"Reclamation\",null,\"Reclamation\",\"Reclamation\",\"Reclamation\",\"Reclamation\",null,\"Reclamation\",\"Reclamation\",\"Reclamation\",\"Reclamation\",null,\"Reclamation\",\"Reclamation\",\"Reclamation\",\"Reclamation\",null,\"Reclamation\",\"Reclamation\",\"Reclamation\",\"Reclamation\",null,\"Reclamation\",\"Reclamation\",\"Reclamation\",\"Reclamation\",null],\"type\":\"scatter\"}],                        {\"hovermode\":\"closest\",\"legend\":{\"orientation\":\"h\",\"x\":0,\"y\":-0.2},\"showlegend\":false,\"template\":{\"data\":{\"barpolar\":[{\"marker\":{\"line\":{\"color\":\"#E5ECF6\",\"width\":0.5},\"pattern\":{\"fillmode\":\"overlay\",\"size\":10,\"solidity\":0.2}},\"type\":\"barpolar\"}],\"bar\":[{\"error_x\":{\"color\":\"#2a3f5f\"},\"error_y\":{\"color\":\"#2a3f5f\"},\"marker\":{\"line\":{\"color\":\"#E5ECF6\",\"width\":0.5},\"pattern\":{\"fillmode\":\"overlay\",\"size\":10,\"solidity\":0.2}},\"type\":\"bar\"}],\"carpet\":[{\"aaxis\":{\"endlinecolor\":\"#2a3f5f\",\"gridcolor\":\"white\",\"linecolor\":\"white\",\"minorgridcolor\":\"white\",\"startlinecolor\":\"#2a3f5f\"},\"baxis\":{\"endlinecolor\":\"#2a3f5f\",\"gridcolor\":\"white\",\"linecolor\":\"white\",\"minorgridcolor\":\"white\",\"startlinecolor\":\"#2a3f5f\"},\"type\":\"carpet\"}],\"choropleth\":[{\"colorbar\":{\"outlinewidth\":0,\"ticks\":\"\"},\"type\":\"choropleth\"}],\"contourcarpet\":[{\"colorbar\":{\"outlinewidth\":0,\"ticks\":\"\"},\"type\":\"contourcarpet\"}],\"contour\":[{\"colorbar\":{\"outlinewidth\":0,\"ticks\":\"\"},\"colorscale\":[[0.0,\"#0d0887\"],[0.1111111111111111,\"#46039f\"],[0.2222222222222222,\"#7201a8\"],[0.3333333333333333,\"#9c179e\"],[0.4444444444444444,\"#bd3786\"],[0.5555555555555556,\"#d8576b\"],[0.6666666666666666,\"#ed7953\"],[0.7777777777777778,\"#fb9f3a\"],[0.8888888888888888,\"#fdca26\"],[1.0,\"#f0f921\"]],\"type\":\"contour\"}],\"heatmapgl\":[{\"colorbar\":{\"outlinewidth\":0,\"ticks\":\"\"},\"colorscale\":[[0.0,\"#0d0887\"],[0.1111111111111111,\"#46039f\"],[0.2222222222222222,\"#7201a8\"],[0.3333333333333333,\"#9c179e\"],[0.4444444444444444,\"#bd3786\"],[0.5555555555555556,\"#d8576b\"],[0.6666666666666666,\"#ed7953\"],[0.7777777777777778,\"#fb9f3a\"],[0.8888888888888888,\"#fdca26\"],[1.0,\"#f0f921\"]],\"type\":\"heatmapgl\"}],\"heatmap\":[{\"colorbar\":{\"outlinewidth\":0,\"ticks\":\"\"},\"colorscale\":[[0.0,\"#0d0887\"],[0.1111111111111111,\"#46039f\"],[0.2222222222222222,\"#7201a8\"],[0.3333333333333333,\"#9c179e\"],[0.4444444444444444,\"#bd3786\"],[0.5555555555555556,\"#d8576b\"],[0.6666666666666666,\"#ed7953\"],[0.7777777777777778,\"#fb9f3a\"],[0.8888888888888888,\"#fdca26\"],[1.0,\"#f0f921\"]],\"type\":\"heatmap\"}],\"histogram2dcontour\":[{\"colorbar\":{\"outlinewidth\":0,\"ticks\":\"\"},\"colorscale\":[[0.0,\"#0d0887\"],[0.1111111111111111,\"#46039f\"],[0.2222222222222222,\"#7201a8\"],[0.3333333333333333,\"#9c179e\"],[0.4444444444444444,\"#bd3786\"],[0.5555555555555556,\"#d8576b\"],[0.6666666666666666,\"#ed7953\"],[0.7777777777777778,\"#fb9f3a\"],[0.8888888888888888,\"#fdca26\"],[1.0,\"#f0f921\"]],\"type\":\"histogram2dcontour\"}],\"histogram2d\":[{\"colorbar\":{\"outlinewidth\":0,\"ticks\":\"\"},\"colorscale\":[[0.0,\"#0d0887\"],[0.1111111111111111,\"#46039f\"],[0.2222222222222222,\"#7201a8\"],[0.3333333333333333,\"#9c179e\"],[0.4444444444444444,\"#bd3786\"],[0.5555555555555556,\"#d8576b\"],[0.6666666666666666,\"#ed7953\"],[0.7777777777777778,\"#fb9f3a\"],[0.8888888888888888,\"#fdca26\"],[1.0,\"#f0f921\"]],\"type\":\"histogram2d\"}],\"histogram\":[{\"marker\":{\"pattern\":{\"fillmode\":\"overlay\",\"size\":10,\"solidity\":0.2}},\"type\":\"histogram\"}],\"mesh3d\":[{\"colorbar\":{\"outlinewidth\":0,\"ticks\":\"\"},\"type\":\"mesh3d\"}],\"parcoords\":[{\"line\":{\"colorbar\":{\"outlinewidth\":0,\"ticks\":\"\"}},\"type\":\"parcoords\"}],\"pie\":[{\"automargin\":true,\"type\":\"pie\"}],\"scatter3d\":[{\"line\":{\"colorbar\":{\"outlinewidth\":0,\"ticks\":\"\"}},\"marker\":{\"colorbar\":{\"outlinewidth\":0,\"ticks\":\"\"}},\"type\":\"scatter3d\"}],\"scattercarpet\":[{\"marker\":{\"colorbar\":{\"outlinewidth\":0,\"ticks\":\"\"}},\"type\":\"scattercarpet\"}],\"scattergeo\":[{\"marker\":{\"colorbar\":{\"outlinewidth\":0,\"ticks\":\"\"}},\"type\":\"scattergeo\"}],\"scattergl\":[{\"marker\":{\"colorbar\":{\"outlinewidth\":0,\"ticks\":\"\"}},\"type\":\"scattergl\"}],\"scattermapbox\":[{\"marker\":{\"colorbar\":{\"outlinewidth\":0,\"ticks\":\"\"}},\"type\":\"scattermapbox\"}],\"scatterpolargl\":[{\"marker\":{\"colorbar\":{\"outlinewidth\":0,\"ticks\":\"\"}},\"type\":\"scatterpolargl\"}],\"scatterpolar\":[{\"marker\":{\"colorbar\":{\"outlinewidth\":0,\"ticks\":\"\"}},\"type\":\"scatterpolar\"}],\"scatter\":[{\"fillpattern\":{\"fillmode\":\"overlay\",\"size\":10,\"solidity\":0.2},\"type\":\"scatter\"}],\"scatterternary\":[{\"marker\":{\"colorbar\":{\"outlinewidth\":0,\"ticks\":\"\"}},\"type\":\"scatterternary\"}],\"surface\":[{\"colorbar\":{\"outlinewidth\":0,\"ticks\":\"\"},\"colorscale\":[[0.0,\"#0d0887\"],[0.1111111111111111,\"#46039f\"],[0.2222222222222222,\"#7201a8\"],[0.3333333333333333,\"#9c179e\"],[0.4444444444444444,\"#bd3786\"],[0.5555555555555556,\"#d8576b\"],[0.6666666666666666,\"#ed7953\"],[0.7777777777777778,\"#fb9f3a\"],[0.8888888888888888,\"#fdca26\"],[1.0,\"#f0f921\"]],\"type\":\"surface\"}],\"table\":[{\"cells\":{\"fill\":{\"color\":\"#EBF0F8\"},\"line\":{\"color\":\"white\"}},\"header\":{\"fill\":{\"color\":\"#C8D4E3\"},\"line\":{\"color\":\"white\"}},\"type\":\"table\"}]},\"layout\":{\"annotationdefaults\":{\"arrowcolor\":\"#2a3f5f\",\"arrowhead\":0,\"arrowwidth\":1},\"autotypenumbers\":\"strict\",\"coloraxis\":{\"colorbar\":{\"outlinewidth\":0,\"ticks\":\"\"}},\"colorscale\":{\"diverging\":[[0,\"#8e0152\"],[0.1,\"#c51b7d\"],[0.2,\"#de77ae\"],[0.3,\"#f1b6da\"],[0.4,\"#fde0ef\"],[0.5,\"#f7f7f7\"],[0.6,\"#e6f5d0\"],[0.7,\"#b8e186\"],[0.8,\"#7fbc41\"],[0.9,\"#4d9221\"],[1,\"#276419\"]],\"sequential\":[[0.0,\"#0d0887\"],[0.1111111111111111,\"#46039f\"],[0.2222222222222222,\"#7201a8\"],[0.3333333333333333,\"#9c179e\"],[0.4444444444444444,\"#bd3786\"],[0.5555555555555556,\"#d8576b\"],[0.6666666666666666,\"#ed7953\"],[0.7777777777777778,\"#fb9f3a\"],[0.8888888888888888,\"#fdca26\"],[1.0,\"#f0f921\"]],\"sequentialminus\":[[0.0,\"#0d0887\"],[0.1111111111111111,\"#46039f\"],[0.2222222222222222,\"#7201a8\"],[0.3333333333333333,\"#9c179e\"],[0.4444444444444444,\"#bd3786\"],[0.5555555555555556,\"#d8576b\"],[0.6666666666666666,\"#ed7953\"],[0.7777777777777778,\"#fb9f3a\"],[0.8888888888888888,\"#fdca26\"],[1.0,\"#f0f921\"]]},\"colorway\":[\"#636efa\",\"#EF553B\",\"#00cc96\",\"#ab63fa\",\"#FFA15A\",\"#19d3f3\",\"#FF6692\",\"#B6E880\",\"#FF97FF\",\"#FECB52\"],\"font\":{\"color\":\"#2a3f5f\"},\"geo\":{\"bgcolor\":\"white\",\"lakecolor\":\"white\",\"landcolor\":\"#E5ECF6\",\"showlakes\":true,\"showland\":true,\"subunitcolor\":\"white\"},\"hoverlabel\":{\"align\":\"left\"},\"hovermode\":\"closest\",\"mapbox\":{\"style\":\"light\"},\"paper_bgcolor\":\"white\",\"plot_bgcolor\":\"#E5ECF6\",\"polar\":{\"angularaxis\":{\"gridcolor\":\"white\",\"linecolor\":\"white\",\"ticks\":\"\"},\"bgcolor\":\"#E5ECF6\",\"radialaxis\":{\"gridcolor\":\"white\",\"linecolor\":\"white\",\"ticks\":\"\"}},\"scene\":{\"xaxis\":{\"backgroundcolor\":\"#E5ECF6\",\"gridcolor\":\"white\",\"gridwidth\":2,\"linecolor\":\"white\",\"showbackground\":true,\"ticks\":\"\",\"zerolinecolor\":\"white\"},\"yaxis\":{\"backgroundcolor\":\"#E5ECF6\",\"gridcolor\":\"white\",\"gridwidth\":2,\"linecolor\":\"white\",\"showbackground\":true,\"ticks\":\"\",\"zerolinecolor\":\"white\"},\"zaxis\":{\"backgroundcolor\":\"#E5ECF6\",\"gridcolor\":\"white\",\"gridwidth\":2,\"linecolor\":\"white\",\"showbackground\":true,\"ticks\":\"\",\"zerolinecolor\":\"white\"}},\"shapedefaults\":{\"line\":{\"color\":\"#2a3f5f\"}},\"ternary\":{\"aaxis\":{\"gridcolor\":\"white\",\"linecolor\":\"white\",\"ticks\":\"\"},\"baxis\":{\"gridcolor\":\"white\",\"linecolor\":\"white\",\"ticks\":\"\"},\"bgcolor\":\"#E5ECF6\",\"caxis\":{\"gridcolor\":\"white\",\"linecolor\":\"white\",\"ticks\":\"\"}},\"title\":{\"x\":0.05},\"xaxis\":{\"automargin\":true,\"gridcolor\":\"white\",\"linecolor\":\"white\",\"ticks\":\"\",\"title\":{\"standoff\":15},\"zerolinecolor\":\"white\",\"zerolinewidth\":2},\"yaxis\":{\"automargin\":true,\"gridcolor\":\"white\",\"linecolor\":\"white\",\"ticks\":\"\",\"title\":{\"standoff\":15},\"zerolinecolor\":\"white\",\"zerolinewidth\":2}}},\"title\":{\"text\":\"Cutter T occupancy: 82.1duration actual: 62090.0\"},\"xaxis\":{\"range\":[\"1970-01-01T00:00:00\",\"1970-01-01T19:31:28\"],\"title\":{\"font\":{\"color\":\"#7f7f7f\",\"family\":\"Courier New, monospace\",\"size\":18},\"text\":\"Time\"}},\"yaxis\":{\"title\":{\"font\":{\"color\":\"#7f7f7f\",\"family\":\"Courier New, monospace\",\"size\":18},\"text\":\"vesels\"}}},                        {\"responsive\": true}                    ).then(function(){\n",
       "                            \n",
       "var gd = document.getElementById('db653751-19c5-4310-a460-80bee31c34c1');\n",
       "var x = new MutationObserver(function (mutations, observer) {{\n",
       "        var display = window.getComputedStyle(gd).display;\n",
       "        if (!display || display === 'none') {{\n",
       "            console.log([gd, 'removed!']);\n",
       "            Plotly.purge(gd);\n",
       "            observer.disconnect();\n",
       "        }}\n",
       "}});\n",
       "\n",
       "// Listen for the removal of the full notebook cells\n",
       "var notebookContainer = gd.closest('#notebook-container');\n",
       "if (notebookContainer) {{\n",
       "    x.observe(notebookContainer, {childList: true});\n",
       "}}\n",
       "\n",
       "// Listen for the clearing of the current output cell\n",
       "var outputEl = gd.closest('.output');\n",
       "if (outputEl) {{\n",
       "    x.observe(outputEl, {childList: true});\n",
       "}}\n",
       "\n",
       "                        })                };                });            </script>        </div>"
      ]
     },
     "metadata": {},
     "output_type": "display_data"
    }
   ],
   "source": [
    "i = scenario_index\n",
    "vessels = results[i]['vessels']\n",
    "activities = results[i]['activities']\n",
    "sites = results[i]['sites']\n",
    "  \n",
    "my_objects = list(vessels.values()) + list(sites.values())\n",
    "my_activities = list(activities.values())\n",
    "my_log = CpLog(list_objects=my_objects, list_activities=my_activities)\n",
    "dependencies = my_log.get_dependencies_model_based()\n",
    "# dependencies = my_log.get_dependencies_log_based()\n",
    "cp = my_log.mark_critical_activities(dependencies)\n",
    "occupancy = occupancy_analysis(vessels, cutter_name, total_amount, vessel_cost)\n",
    "\n",
    "t = f'{cutter_name} occupancy: ' + str(occupancy.loc[cutter_name]['occupancy [%]']) + f'duration actual: ' +\\\n",
    "     str(occupancy.loc[cutter_name]['duration actual'])\n",
    "fig = get_gantt_chart(concepts=my_objects, critical_path=cp, id_map=activities, title=t, legend=False, ylabel='vesels')"
   ]
  },
  {
   "cell_type": "code",
   "execution_count": 17,
   "id": "e274588c",
   "metadata": {},
   "outputs": [
    {
     "data": {
      "text/html": [
       "<div>\n",
       "<style scoped>\n",
       "    .dataframe tbody tr th:only-of-type {\n",
       "        vertical-align: middle;\n",
       "    }\n",
       "\n",
       "    .dataframe tbody tr th {\n",
       "        vertical-align: top;\n",
       "    }\n",
       "\n",
       "    .dataframe thead th {\n",
       "        text-align: right;\n",
       "    }\n",
       "</style>\n",
       "<table border=\"1\" class=\"dataframe\">\n",
       "  <thead>\n",
       "    <tr style=\"text-align: right;\">\n",
       "      <th></th>\n",
       "      <th># trips</th>\n",
       "      <th>start</th>\n",
       "      <th>finish</th>\n",
       "      <th>amount sum</th>\n",
       "      <th>duration actual</th>\n",
       "      <th>duration theory</th>\n",
       "      <th>cost actual</th>\n",
       "      <th>production actual</th>\n",
       "      <th>production theory</th>\n",
       "      <th>occupancy [%]</th>\n",
       "    </tr>\n",
       "    <tr>\n",
       "      <th>name</th>\n",
       "      <th></th>\n",
       "      <th></th>\n",
       "      <th></th>\n",
       "      <th></th>\n",
       "      <th></th>\n",
       "      <th></th>\n",
       "      <th></th>\n",
       "      <th></th>\n",
       "      <th></th>\n",
       "      <th></th>\n",
       "    </tr>\n",
       "  </thead>\n",
       "  <tbody>\n",
       "    <tr>\n",
       "      <th>Cutter T</th>\n",
       "      <td>6</td>\n",
       "      <td>1970-01-01 00:39:46</td>\n",
       "      <td>1970-01-01 17:54:36</td>\n",
       "      <td>100.0</td>\n",
       "      <td>62090.0</td>\n",
       "      <td>51000.0</td>\n",
       "      <td>17966.0</td>\n",
       "      <td>0.009663</td>\n",
       "      <td>0.011765</td>\n",
       "      <td>82.1</td>\n",
       "    </tr>\n",
       "    <tr>\n",
       "      <th>Barge I</th>\n",
       "      <td>6</td>\n",
       "      <td>1970-01-01 00:00:00</td>\n",
       "      <td>1970-01-01 18:51:21</td>\n",
       "      <td>30.0</td>\n",
       "      <td>67881.0</td>\n",
       "      <td>64230.0</td>\n",
       "      <td>3928.0</td>\n",
       "      <td>0.002652</td>\n",
       "      <td>0.002802</td>\n",
       "      <td>94.6</td>\n",
       "    </tr>\n",
       "    <tr>\n",
       "      <th>Carrier A</th>\n",
       "      <td>6</td>\n",
       "      <td>1970-01-01 00:00:00</td>\n",
       "      <td>1970-01-01 16:48:50</td>\n",
       "      <td>24.0</td>\n",
       "      <td>60530.0</td>\n",
       "      <td>54948.0</td>\n",
       "      <td>4203.0</td>\n",
       "      <td>0.002379</td>\n",
       "      <td>0.002621</td>\n",
       "      <td>90.8</td>\n",
       "    </tr>\n",
       "    <tr>\n",
       "      <th>Carrier B</th>\n",
       "      <td>6</td>\n",
       "      <td>1970-01-01 00:00:00</td>\n",
       "      <td>1970-01-01 17:28:22</td>\n",
       "      <td>24.0</td>\n",
       "      <td>62902.0</td>\n",
       "      <td>58296.0</td>\n",
       "      <td>4368.0</td>\n",
       "      <td>0.002289</td>\n",
       "      <td>0.002470</td>\n",
       "      <td>92.7</td>\n",
       "    </tr>\n",
       "    <tr>\n",
       "      <th>Carrier C</th>\n",
       "      <td>6</td>\n",
       "      <td>1970-01-01 00:00:00</td>\n",
       "      <td>1970-01-01 19:31:28</td>\n",
       "      <td>22.0</td>\n",
       "      <td>70288.0</td>\n",
       "      <td>64308.0</td>\n",
       "      <td>4881.0</td>\n",
       "      <td>0.001878</td>\n",
       "      <td>0.002053</td>\n",
       "      <td>91.5</td>\n",
       "    </tr>\n",
       "  </tbody>\n",
       "</table>\n",
       "</div>"
      ],
      "text/plain": [
       "           # trips               start              finish  amount sum  \\\n",
       "name                                                                     \n",
       "Cutter T         6 1970-01-01 00:39:46 1970-01-01 17:54:36       100.0   \n",
       "Barge I          6 1970-01-01 00:00:00 1970-01-01 18:51:21        30.0   \n",
       "Carrier A        6 1970-01-01 00:00:00 1970-01-01 16:48:50        24.0   \n",
       "Carrier B        6 1970-01-01 00:00:00 1970-01-01 17:28:22        24.0   \n",
       "Carrier C        6 1970-01-01 00:00:00 1970-01-01 19:31:28        22.0   \n",
       "\n",
       "           duration actual  duration theory  cost actual  production actual  \\\n",
       "name                                                                          \n",
       "Cutter T           62090.0          51000.0      17966.0           0.009663   \n",
       "Barge I            67881.0          64230.0       3928.0           0.002652   \n",
       "Carrier A          60530.0          54948.0       4203.0           0.002379   \n",
       "Carrier B          62902.0          58296.0       4368.0           0.002289   \n",
       "Carrier C          70288.0          64308.0       4881.0           0.001878   \n",
       "\n",
       "           production theory  occupancy [%]  \n",
       "name                                         \n",
       "Cutter T            0.011765           82.1  \n",
       "Barge I             0.002802           94.6  \n",
       "Carrier A           0.002621           90.8  \n",
       "Carrier B           0.002470           92.7  \n",
       "Carrier C           0.002053           91.5  "
      ]
     },
     "execution_count": 17,
     "metadata": {},
     "output_type": "execute_result"
    }
   ],
   "source": [
    "occupancy"
   ]
  },
  {
   "cell_type": "markdown",
   "id": "3e81de2b",
   "metadata": {},
   "source": [
    "# Export data  to BI"
   ]
  },
  {
   "cell_type": "code",
   "execution_count": 18,
   "id": "87cd1b2f",
   "metadata": {},
   "outputs": [
    {
     "data": {
      "text/html": [
       "<div>\n",
       "<style scoped>\n",
       "    .dataframe tbody tr th:only-of-type {\n",
       "        vertical-align: middle;\n",
       "    }\n",
       "\n",
       "    .dataframe tbody tr th {\n",
       "        vertical-align: top;\n",
       "    }\n",
       "\n",
       "    .dataframe thead th {\n",
       "        text-align: right;\n",
       "    }\n",
       "</style>\n",
       "<table border=\"1\" class=\"dataframe\">\n",
       "  <thead>\n",
       "    <tr style=\"text-align: right;\">\n",
       "      <th></th>\n",
       "      <th>siteName</th>\n",
       "      <th>siteID</th>\n",
       "      <th>siteType</th>\n",
       "    </tr>\n",
       "  </thead>\n",
       "  <tbody>\n",
       "    <tr>\n",
       "      <th>0</th>\n",
       "      <td>Trench</td>\n",
       "      <td>2f3ebe81-c5a8-4eab-97f2-5e3660f309a9</td>\n",
       "      <td>&lt;class '__main__.Site'&gt;</td>\n",
       "    </tr>\n",
       "    <tr>\n",
       "      <th>1</th>\n",
       "      <td>Reclamation</td>\n",
       "      <td>e46799ae-1c5f-40ea-b541-b4e3caa68601</td>\n",
       "      <td>&lt;class '__main__.Site'&gt;</td>\n",
       "    </tr>\n",
       "  </tbody>\n",
       "</table>\n",
       "</div>"
      ],
      "text/plain": [
       "      siteName                                siteID                 siteType\n",
       "0       Trench  2f3ebe81-c5a8-4eab-97f2-5e3660f309a9  <class '__main__.Site'>\n",
       "1  Reclamation  e46799ae-1c5f-40ea-b541-b4e3caa68601  <class '__main__.Site'>"
      ]
     },
     "execution_count": 18,
     "metadata": {},
     "output_type": "execute_result"
    }
   ],
   "source": [
    "export_concepts(sites, 'site', 'sites.csv')"
   ]
  },
  {
   "cell_type": "code",
   "execution_count": 19,
   "id": "5e5459b1",
   "metadata": {},
   "outputs": [
    {
     "data": {
      "text/html": [
       "<div>\n",
       "<style scoped>\n",
       "    .dataframe tbody tr th:only-of-type {\n",
       "        vertical-align: middle;\n",
       "    }\n",
       "\n",
       "    .dataframe tbody tr th {\n",
       "        vertical-align: top;\n",
       "    }\n",
       "\n",
       "    .dataframe thead th {\n",
       "        text-align: right;\n",
       "    }\n",
       "</style>\n",
       "<table border=\"1\" class=\"dataframe\">\n",
       "  <thead>\n",
       "    <tr style=\"text-align: right;\">\n",
       "      <th></th>\n",
       "      <th>vesselName</th>\n",
       "      <th>vesselID</th>\n",
       "      <th>vesselType</th>\n",
       "    </tr>\n",
       "  </thead>\n",
       "  <tbody>\n",
       "    <tr>\n",
       "      <th>0</th>\n",
       "      <td>Carrier A</td>\n",
       "      <td>0f6270f9-f26d-4a4f-ab2e-f8ea9b386d84</td>\n",
       "      <td>&lt;class '__main__.TransportProcessingResource'&gt;</td>\n",
       "    </tr>\n",
       "    <tr>\n",
       "      <th>1</th>\n",
       "      <td>Carrier B</td>\n",
       "      <td>f0c96e64-dca6-4a7a-8a2b-4bd294d80d7c</td>\n",
       "      <td>&lt;class '__main__.TransportProcessingResource'&gt;</td>\n",
       "    </tr>\n",
       "    <tr>\n",
       "      <th>2</th>\n",
       "      <td>Carrier C</td>\n",
       "      <td>db94ce4f-c699-4989-b370-52b1b15aae7a</td>\n",
       "      <td>&lt;class '__main__.TransportProcessingResource'&gt;</td>\n",
       "    </tr>\n",
       "    <tr>\n",
       "      <th>3</th>\n",
       "      <td>Barge I</td>\n",
       "      <td>91afcbba-70f5-4619-8f4f-a6df010da33c</td>\n",
       "      <td>&lt;class '__main__.TransportProcessingResource'&gt;</td>\n",
       "    </tr>\n",
       "    <tr>\n",
       "      <th>4</th>\n",
       "      <td>Cutter T</td>\n",
       "      <td>659f8cc8-5791-4eb4-93b8-3622849ea169</td>\n",
       "      <td>&lt;class '__main__.TransportProcessingResource'&gt;</td>\n",
       "    </tr>\n",
       "  </tbody>\n",
       "</table>\n",
       "</div>"
      ],
      "text/plain": [
       "  vesselName                              vesselID  \\\n",
       "0  Carrier A  0f6270f9-f26d-4a4f-ab2e-f8ea9b386d84   \n",
       "1  Carrier B  f0c96e64-dca6-4a7a-8a2b-4bd294d80d7c   \n",
       "2  Carrier C  db94ce4f-c699-4989-b370-52b1b15aae7a   \n",
       "3    Barge I  91afcbba-70f5-4619-8f4f-a6df010da33c   \n",
       "4   Cutter T  659f8cc8-5791-4eb4-93b8-3622849ea169   \n",
       "\n",
       "                                       vesselType  \n",
       "0  <class '__main__.TransportProcessingResource'>  \n",
       "1  <class '__main__.TransportProcessingResource'>  \n",
       "2  <class '__main__.TransportProcessingResource'>  \n",
       "3  <class '__main__.TransportProcessingResource'>  \n",
       "4  <class '__main__.TransportProcessingResource'>  "
      ]
     },
     "execution_count": 19,
     "metadata": {},
     "output_type": "execute_result"
    }
   ],
   "source": [
    "export_concepts(vessels, 'vessel', 'vessels.csv')"
   ]
  },
  {
   "cell_type": "code",
   "execution_count": 20,
   "id": "2baa8eb9",
   "metadata": {},
   "outputs": [],
   "source": [
    "activities_flat = export_activities(activities, 'activities.csv', [*sites.values(), *vessels.values()])\n",
    "# activities_flat"
   ]
  },
  {
   "cell_type": "code",
   "execution_count": 21,
   "id": "a3e8f617",
   "metadata": {},
   "outputs": [
    {
     "data": {
      "text/plain": [
       "{'', 'Barge I', 'Carrier A', 'Carrier B', 'Carrier C'}"
      ]
     },
     "execution_count": 21,
     "metadata": {},
     "output_type": "execute_result"
    }
   ],
   "source": [
    "set(activities_flat['MoverName'])"
   ]
  },
  {
   "cell_type": "code",
   "execution_count": 22,
   "id": "acfbb1ef",
   "metadata": {},
   "outputs": [
    {
     "data": {
      "text/plain": [
       "{'', 'Barge I', 'Carrier A', 'Carrier B', 'Carrier C', 'Cutter T'}"
      ]
     },
     "execution_count": 22,
     "metadata": {},
     "output_type": "execute_result"
    }
   ],
   "source": [
    "set(activities_flat['ProcessorName'])"
   ]
  },
  {
   "cell_type": "code",
   "execution_count": 23,
   "id": "b680fb2a",
   "metadata": {},
   "outputs": [
    {
     "data": {
      "text/plain": [
       "{'', 'Barge I', 'Carrier A', 'Carrier B', 'Carrier C', 'Trench'}"
      ]
     },
     "execution_count": 23,
     "metadata": {},
     "output_type": "execute_result"
    }
   ],
   "source": [
    "set(activities_flat['OriginName'])"
   ]
  },
  {
   "cell_type": "code",
   "execution_count": 24,
   "id": "1ce51171",
   "metadata": {},
   "outputs": [
    {
     "data": {
      "text/plain": [
       "{'', 'Barge I', 'Carrier A', 'Carrier B', 'Carrier C', 'Reclamation', 'Trench'}"
      ]
     },
     "execution_count": 24,
     "metadata": {},
     "output_type": "execute_result"
    }
   ],
   "source": [
    "set(activities_flat['DestinationName'])"
   ]
  },
  {
   "cell_type": "code",
   "execution_count": 25,
   "id": "49d35cd3",
   "metadata": {},
   "outputs": [
    {
     "data": {
      "text/plain": [
       "{'MoveActivity', 'SequentialActivity', 'ShiftAmountActivity', 'WhileActivity'}"
      ]
     },
     "execution_count": 25,
     "metadata": {},
     "output_type": "execute_result"
    }
   ],
   "source": [
    "set(activities_flat['ActivityClass'])"
   ]
  },
  {
   "cell_type": "code",
   "execution_count": 26,
   "id": "70998a10",
   "metadata": {},
   "outputs": [],
   "source": [
    "# set(activities_flat['ActivityName'])"
   ]
  },
  {
   "cell_type": "markdown",
   "id": "2ec87e35",
   "metadata": {},
   "source": [
    "# Expand logged activity instances to analyse occupancy properly"
   ]
  },
  {
   "cell_type": "code",
   "execution_count": 27,
   "id": "d16c732a",
   "metadata": {},
   "outputs": [],
   "source": [
    "def export_ranges(all_act_flat, ofile = None, concept_name=None):\n",
    "    \n",
    "    if concept_name:\n",
    "        logmask = (all_act_flat['ProcessorName']==concept_name) | \\\n",
    "                  (all_act_flat['MoverName']==concept_name)  | \\\n",
    "                  (all_act_flat['OriginName']==concept_name)  | \\\n",
    "                  (all_act_flat['DestinationName']==concept_name) \n",
    "\n",
    "        all_act_flat = all_act_flat[logmask]\n",
    "    \n",
    "    li = []\n",
    "    for i, rowi in all_act_flat.iterrows():\n",
    "        log = get_ranges_dataframe(rowi['activity'])\n",
    "        log.rename(columns={'Activity':'ActivityID'}, inplace=True)\n",
    "        li.append(log)\n",
    "    ActivityRanges = pd.concat(li)\n",
    "    \n",
    "    ActivityRanges = ActivityRanges.merge(all_act_flat[['ActivityID', 'ActivityName', 'ActivityClass']], on='ActivityID', how='left')\n",
    "    \n",
    "    keys  = ['trip',\n",
    "             'ActivityID','ActivityName','ActivityClass',\n",
    "             'TimestampStart','TimestampStop','TimestampDt']\n",
    "    if concept_name:\n",
    "        ActivityRanges['ConceptName'] = concept_name\n",
    "        keys+=['ConceptName']\n",
    "        \n",
    "    if ofile:\n",
    "        ActivityRanges.to_csv(ofile, columns = keys, index=False)\n",
    "    \n",
    "    return ActivityRanges.sort_values(by=[\"TimestampStart\"])"
   ]
  },
  {
   "cell_type": "code",
   "execution_count": 28,
   "id": "e4b0ebc5",
   "metadata": {},
   "outputs": [],
   "source": [
    "VesselActivitiesLog = export_ranges(activities_flat, 'instances.csv')"
   ]
  },
  {
   "cell_type": "code",
   "execution_count": 29,
   "id": "8f7eaa5c",
   "metadata": {},
   "outputs": [
    {
     "data": {
      "text/html": [
       "<div>\n",
       "<style scoped>\n",
       "    .dataframe tbody tr th:only-of-type {\n",
       "        vertical-align: middle;\n",
       "    }\n",
       "\n",
       "    .dataframe tbody tr th {\n",
       "        vertical-align: top;\n",
       "    }\n",
       "\n",
       "    .dataframe thead th {\n",
       "        text-align: right;\n",
       "    }\n",
       "</style>\n",
       "<table border=\"1\" class=\"dataframe\">\n",
       "  <thead>\n",
       "    <tr style=\"text-align: right;\">\n",
       "      <th></th>\n",
       "      <th>TimestampStart</th>\n",
       "      <th>trip</th>\n",
       "      <th>TimestampStop</th>\n",
       "      <th>ActivityID</th>\n",
       "      <th>TimestampDt</th>\n",
       "      <th>ActivityName</th>\n",
       "      <th>ActivityClass</th>\n",
       "      <th>ConceptName</th>\n",
       "    </tr>\n",
       "  </thead>\n",
       "  <tbody>\n",
       "    <tr>\n",
       "      <th>0</th>\n",
       "      <td>1970-01-01 00:39:46</td>\n",
       "      <td>1</td>\n",
       "      <td>1970-01-01 01:13:06</td>\n",
       "      <td>a71b9fb2-969b-4c53-a4ae-3c4f4146f7f4</td>\n",
       "      <td>2000.0</td>\n",
       "      <td>loading:Carrier A</td>\n",
       "      <td>ShiftAmountActivity</td>\n",
       "      <td>Cutter T</td>\n",
       "    </tr>\n",
       "    <tr>\n",
       "      <th>6</th>\n",
       "      <td>1970-01-01 01:13:06</td>\n",
       "      <td>1</td>\n",
       "      <td>1970-01-01 01:46:26</td>\n",
       "      <td>09040c24-1887-4ae9-9f1b-d3eddf4104b0</td>\n",
       "      <td>2000.0</td>\n",
       "      <td>loading:Carrier B</td>\n",
       "      <td>ShiftAmountActivity</td>\n",
       "      <td>Cutter T</td>\n",
       "    </tr>\n",
       "    <tr>\n",
       "      <th>18</th>\n",
       "      <td>1970-01-01 01:46:26</td>\n",
       "      <td>1</td>\n",
       "      <td>1970-01-01 02:28:06</td>\n",
       "      <td>19ae16b1-5c21-42af-972f-a666a49c9f9d</td>\n",
       "      <td>2500.0</td>\n",
       "      <td>loading:Barge I</td>\n",
       "      <td>ShiftAmountActivity</td>\n",
       "      <td>Cutter T</td>\n",
       "    </tr>\n",
       "    <tr>\n",
       "      <th>12</th>\n",
       "      <td>1970-01-01 02:28:06</td>\n",
       "      <td>1</td>\n",
       "      <td>1970-01-01 03:01:26</td>\n",
       "      <td>2c37934a-bc1f-4dc6-92b5-a9ced766a773</td>\n",
       "      <td>2000.0</td>\n",
       "      <td>loading:Carrier C</td>\n",
       "      <td>ShiftAmountActivity</td>\n",
       "      <td>Cutter T</td>\n",
       "    </tr>\n",
       "    <tr>\n",
       "      <th>1</th>\n",
       "      <td>1970-01-01 03:12:24</td>\n",
       "      <td>2</td>\n",
       "      <td>1970-01-01 03:45:44</td>\n",
       "      <td>a71b9fb2-969b-4c53-a4ae-3c4f4146f7f4</td>\n",
       "      <td>2000.0</td>\n",
       "      <td>loading:Carrier A</td>\n",
       "      <td>ShiftAmountActivity</td>\n",
       "      <td>Cutter T</td>\n",
       "    </tr>\n",
       "    <tr>\n",
       "      <th>7</th>\n",
       "      <td>1970-01-01 03:55:02</td>\n",
       "      <td>2</td>\n",
       "      <td>1970-01-01 04:28:22</td>\n",
       "      <td>09040c24-1887-4ae9-9f1b-d3eddf4104b0</td>\n",
       "      <td>2000.0</td>\n",
       "      <td>loading:Carrier B</td>\n",
       "      <td>ShiftAmountActivity</td>\n",
       "      <td>Cutter T</td>\n",
       "    </tr>\n",
       "    <tr>\n",
       "      <th>19</th>\n",
       "      <td>1970-01-01 04:44:51</td>\n",
       "      <td>2</td>\n",
       "      <td>1970-01-01 05:26:31</td>\n",
       "      <td>19ae16b1-5c21-42af-972f-a666a49c9f9d</td>\n",
       "      <td>2500.0</td>\n",
       "      <td>loading:Barge I</td>\n",
       "      <td>ShiftAmountActivity</td>\n",
       "      <td>Cutter T</td>\n",
       "    </tr>\n",
       "    <tr>\n",
       "      <th>13</th>\n",
       "      <td>1970-01-01 05:26:44</td>\n",
       "      <td>2</td>\n",
       "      <td>1970-01-01 06:00:04</td>\n",
       "      <td>2c37934a-bc1f-4dc6-92b5-a9ced766a773</td>\n",
       "      <td>2000.0</td>\n",
       "      <td>loading:Carrier C</td>\n",
       "      <td>ShiftAmountActivity</td>\n",
       "      <td>Cutter T</td>\n",
       "    </tr>\n",
       "    <tr>\n",
       "      <th>2</th>\n",
       "      <td>1970-01-01 06:00:04</td>\n",
       "      <td>3</td>\n",
       "      <td>1970-01-01 06:33:24</td>\n",
       "      <td>a71b9fb2-969b-4c53-a4ae-3c4f4146f7f4</td>\n",
       "      <td>2000.0</td>\n",
       "      <td>loading:Carrier A</td>\n",
       "      <td>ShiftAmountActivity</td>\n",
       "      <td>Cutter T</td>\n",
       "    </tr>\n",
       "    <tr>\n",
       "      <th>8</th>\n",
       "      <td>1970-01-01 06:36:58</td>\n",
       "      <td>3</td>\n",
       "      <td>1970-01-01 07:10:18</td>\n",
       "      <td>09040c24-1887-4ae9-9f1b-d3eddf4104b0</td>\n",
       "      <td>2000.0</td>\n",
       "      <td>loading:Carrier B</td>\n",
       "      <td>ShiftAmountActivity</td>\n",
       "      <td>Cutter T</td>\n",
       "    </tr>\n",
       "    <tr>\n",
       "      <th>20</th>\n",
       "      <td>1970-01-01 07:43:16</td>\n",
       "      <td>3</td>\n",
       "      <td>1970-01-01 08:24:56</td>\n",
       "      <td>19ae16b1-5c21-42af-972f-a666a49c9f9d</td>\n",
       "      <td>2500.0</td>\n",
       "      <td>loading:Barge I</td>\n",
       "      <td>ShiftAmountActivity</td>\n",
       "      <td>Cutter T</td>\n",
       "    </tr>\n",
       "    <tr>\n",
       "      <th>14</th>\n",
       "      <td>1970-01-01 08:25:22</td>\n",
       "      <td>3</td>\n",
       "      <td>1970-01-01 08:58:42</td>\n",
       "      <td>2c37934a-bc1f-4dc6-92b5-a9ced766a773</td>\n",
       "      <td>2000.0</td>\n",
       "      <td>loading:Carrier C</td>\n",
       "      <td>ShiftAmountActivity</td>\n",
       "      <td>Cutter T</td>\n",
       "    </tr>\n",
       "    <tr>\n",
       "      <th>3</th>\n",
       "      <td>1970-01-01 08:58:42</td>\n",
       "      <td>4</td>\n",
       "      <td>1970-01-01 09:32:02</td>\n",
       "      <td>a71b9fb2-969b-4c53-a4ae-3c4f4146f7f4</td>\n",
       "      <td>2000.0</td>\n",
       "      <td>loading:Carrier A</td>\n",
       "      <td>ShiftAmountActivity</td>\n",
       "      <td>Cutter T</td>\n",
       "    </tr>\n",
       "    <tr>\n",
       "      <th>9</th>\n",
       "      <td>1970-01-01 09:32:02</td>\n",
       "      <td>4</td>\n",
       "      <td>1970-01-01 10:05:22</td>\n",
       "      <td>09040c24-1887-4ae9-9f1b-d3eddf4104b0</td>\n",
       "      <td>2000.0</td>\n",
       "      <td>loading:Carrier B</td>\n",
       "      <td>ShiftAmountActivity</td>\n",
       "      <td>Cutter T</td>\n",
       "    </tr>\n",
       "    <tr>\n",
       "      <th>21</th>\n",
       "      <td>1970-01-01 10:41:41</td>\n",
       "      <td>4</td>\n",
       "      <td>1970-01-01 11:23:21</td>\n",
       "      <td>19ae16b1-5c21-42af-972f-a666a49c9f9d</td>\n",
       "      <td>2500.0</td>\n",
       "      <td>loading:Barge I</td>\n",
       "      <td>ShiftAmountActivity</td>\n",
       "      <td>Cutter T</td>\n",
       "    </tr>\n",
       "    <tr>\n",
       "      <th>15</th>\n",
       "      <td>1970-01-01 11:24:00</td>\n",
       "      <td>4</td>\n",
       "      <td>1970-01-01 11:57:20</td>\n",
       "      <td>2c37934a-bc1f-4dc6-92b5-a9ced766a773</td>\n",
       "      <td>2000.0</td>\n",
       "      <td>loading:Carrier C</td>\n",
       "      <td>ShiftAmountActivity</td>\n",
       "      <td>Cutter T</td>\n",
       "    </tr>\n",
       "    <tr>\n",
       "      <th>4</th>\n",
       "      <td>1970-01-01 11:57:20</td>\n",
       "      <td>5</td>\n",
       "      <td>1970-01-01 12:30:40</td>\n",
       "      <td>a71b9fb2-969b-4c53-a4ae-3c4f4146f7f4</td>\n",
       "      <td>2000.0</td>\n",
       "      <td>loading:Carrier A</td>\n",
       "      <td>ShiftAmountActivity</td>\n",
       "      <td>Cutter T</td>\n",
       "    </tr>\n",
       "    <tr>\n",
       "      <th>10</th>\n",
       "      <td>1970-01-01 12:30:40</td>\n",
       "      <td>5</td>\n",
       "      <td>1970-01-01 13:04:00</td>\n",
       "      <td>09040c24-1887-4ae9-9f1b-d3eddf4104b0</td>\n",
       "      <td>2000.0</td>\n",
       "      <td>loading:Carrier B</td>\n",
       "      <td>ShiftAmountActivity</td>\n",
       "      <td>Cutter T</td>\n",
       "    </tr>\n",
       "    <tr>\n",
       "      <th>22</th>\n",
       "      <td>1970-01-01 13:40:06</td>\n",
       "      <td>5</td>\n",
       "      <td>1970-01-01 14:21:46</td>\n",
       "      <td>19ae16b1-5c21-42af-972f-a666a49c9f9d</td>\n",
       "      <td>2500.0</td>\n",
       "      <td>loading:Barge I</td>\n",
       "      <td>ShiftAmountActivity</td>\n",
       "      <td>Cutter T</td>\n",
       "    </tr>\n",
       "    <tr>\n",
       "      <th>16</th>\n",
       "      <td>1970-01-01 14:22:38</td>\n",
       "      <td>5</td>\n",
       "      <td>1970-01-01 14:55:58</td>\n",
       "      <td>2c37934a-bc1f-4dc6-92b5-a9ced766a773</td>\n",
       "      <td>2000.0</td>\n",
       "      <td>loading:Carrier C</td>\n",
       "      <td>ShiftAmountActivity</td>\n",
       "      <td>Cutter T</td>\n",
       "    </tr>\n",
       "    <tr>\n",
       "      <th>5</th>\n",
       "      <td>1970-01-01 14:55:58</td>\n",
       "      <td>6</td>\n",
       "      <td>1970-01-01 15:29:18</td>\n",
       "      <td>a71b9fb2-969b-4c53-a4ae-3c4f4146f7f4</td>\n",
       "      <td>2000.0</td>\n",
       "      <td>loading:Carrier A</td>\n",
       "      <td>ShiftAmountActivity</td>\n",
       "      <td>Cutter T</td>\n",
       "    </tr>\n",
       "    <tr>\n",
       "      <th>11</th>\n",
       "      <td>1970-01-01 15:29:18</td>\n",
       "      <td>6</td>\n",
       "      <td>1970-01-01 16:02:38</td>\n",
       "      <td>09040c24-1887-4ae9-9f1b-d3eddf4104b0</td>\n",
       "      <td>2000.0</td>\n",
       "      <td>loading:Carrier B</td>\n",
       "      <td>ShiftAmountActivity</td>\n",
       "      <td>Cutter T</td>\n",
       "    </tr>\n",
       "    <tr>\n",
       "      <th>23</th>\n",
       "      <td>1970-01-01 16:38:31</td>\n",
       "      <td>6</td>\n",
       "      <td>1970-01-01 17:20:11</td>\n",
       "      <td>19ae16b1-5c21-42af-972f-a666a49c9f9d</td>\n",
       "      <td>2500.0</td>\n",
       "      <td>loading:Barge I</td>\n",
       "      <td>ShiftAmountActivity</td>\n",
       "      <td>Cutter T</td>\n",
       "    </tr>\n",
       "    <tr>\n",
       "      <th>17</th>\n",
       "      <td>1970-01-01 17:21:16</td>\n",
       "      <td>6</td>\n",
       "      <td>1970-01-01 17:54:36</td>\n",
       "      <td>2c37934a-bc1f-4dc6-92b5-a9ced766a773</td>\n",
       "      <td>2000.0</td>\n",
       "      <td>loading:Carrier C</td>\n",
       "      <td>ShiftAmountActivity</td>\n",
       "      <td>Cutter T</td>\n",
       "    </tr>\n",
       "  </tbody>\n",
       "</table>\n",
       "</div>"
      ],
      "text/plain": [
       "        TimestampStart  trip       TimestampStop  \\\n",
       "0  1970-01-01 00:39:46     1 1970-01-01 01:13:06   \n",
       "6  1970-01-01 01:13:06     1 1970-01-01 01:46:26   \n",
       "18 1970-01-01 01:46:26     1 1970-01-01 02:28:06   \n",
       "12 1970-01-01 02:28:06     1 1970-01-01 03:01:26   \n",
       "1  1970-01-01 03:12:24     2 1970-01-01 03:45:44   \n",
       "7  1970-01-01 03:55:02     2 1970-01-01 04:28:22   \n",
       "19 1970-01-01 04:44:51     2 1970-01-01 05:26:31   \n",
       "13 1970-01-01 05:26:44     2 1970-01-01 06:00:04   \n",
       "2  1970-01-01 06:00:04     3 1970-01-01 06:33:24   \n",
       "8  1970-01-01 06:36:58     3 1970-01-01 07:10:18   \n",
       "20 1970-01-01 07:43:16     3 1970-01-01 08:24:56   \n",
       "14 1970-01-01 08:25:22     3 1970-01-01 08:58:42   \n",
       "3  1970-01-01 08:58:42     4 1970-01-01 09:32:02   \n",
       "9  1970-01-01 09:32:02     4 1970-01-01 10:05:22   \n",
       "21 1970-01-01 10:41:41     4 1970-01-01 11:23:21   \n",
       "15 1970-01-01 11:24:00     4 1970-01-01 11:57:20   \n",
       "4  1970-01-01 11:57:20     5 1970-01-01 12:30:40   \n",
       "10 1970-01-01 12:30:40     5 1970-01-01 13:04:00   \n",
       "22 1970-01-01 13:40:06     5 1970-01-01 14:21:46   \n",
       "16 1970-01-01 14:22:38     5 1970-01-01 14:55:58   \n",
       "5  1970-01-01 14:55:58     6 1970-01-01 15:29:18   \n",
       "11 1970-01-01 15:29:18     6 1970-01-01 16:02:38   \n",
       "23 1970-01-01 16:38:31     6 1970-01-01 17:20:11   \n",
       "17 1970-01-01 17:21:16     6 1970-01-01 17:54:36   \n",
       "\n",
       "                              ActivityID  TimestampDt       ActivityName  \\\n",
       "0   a71b9fb2-969b-4c53-a4ae-3c4f4146f7f4       2000.0  loading:Carrier A   \n",
       "6   09040c24-1887-4ae9-9f1b-d3eddf4104b0       2000.0  loading:Carrier B   \n",
       "18  19ae16b1-5c21-42af-972f-a666a49c9f9d       2500.0    loading:Barge I   \n",
       "12  2c37934a-bc1f-4dc6-92b5-a9ced766a773       2000.0  loading:Carrier C   \n",
       "1   a71b9fb2-969b-4c53-a4ae-3c4f4146f7f4       2000.0  loading:Carrier A   \n",
       "7   09040c24-1887-4ae9-9f1b-d3eddf4104b0       2000.0  loading:Carrier B   \n",
       "19  19ae16b1-5c21-42af-972f-a666a49c9f9d       2500.0    loading:Barge I   \n",
       "13  2c37934a-bc1f-4dc6-92b5-a9ced766a773       2000.0  loading:Carrier C   \n",
       "2   a71b9fb2-969b-4c53-a4ae-3c4f4146f7f4       2000.0  loading:Carrier A   \n",
       "8   09040c24-1887-4ae9-9f1b-d3eddf4104b0       2000.0  loading:Carrier B   \n",
       "20  19ae16b1-5c21-42af-972f-a666a49c9f9d       2500.0    loading:Barge I   \n",
       "14  2c37934a-bc1f-4dc6-92b5-a9ced766a773       2000.0  loading:Carrier C   \n",
       "3   a71b9fb2-969b-4c53-a4ae-3c4f4146f7f4       2000.0  loading:Carrier A   \n",
       "9   09040c24-1887-4ae9-9f1b-d3eddf4104b0       2000.0  loading:Carrier B   \n",
       "21  19ae16b1-5c21-42af-972f-a666a49c9f9d       2500.0    loading:Barge I   \n",
       "15  2c37934a-bc1f-4dc6-92b5-a9ced766a773       2000.0  loading:Carrier C   \n",
       "4   a71b9fb2-969b-4c53-a4ae-3c4f4146f7f4       2000.0  loading:Carrier A   \n",
       "10  09040c24-1887-4ae9-9f1b-d3eddf4104b0       2000.0  loading:Carrier B   \n",
       "22  19ae16b1-5c21-42af-972f-a666a49c9f9d       2500.0    loading:Barge I   \n",
       "16  2c37934a-bc1f-4dc6-92b5-a9ced766a773       2000.0  loading:Carrier C   \n",
       "5   a71b9fb2-969b-4c53-a4ae-3c4f4146f7f4       2000.0  loading:Carrier A   \n",
       "11  09040c24-1887-4ae9-9f1b-d3eddf4104b0       2000.0  loading:Carrier B   \n",
       "23  19ae16b1-5c21-42af-972f-a666a49c9f9d       2500.0    loading:Barge I   \n",
       "17  2c37934a-bc1f-4dc6-92b5-a9ced766a773       2000.0  loading:Carrier C   \n",
       "\n",
       "          ActivityClass ConceptName  \n",
       "0   ShiftAmountActivity    Cutter T  \n",
       "6   ShiftAmountActivity    Cutter T  \n",
       "18  ShiftAmountActivity    Cutter T  \n",
       "12  ShiftAmountActivity    Cutter T  \n",
       "1   ShiftAmountActivity    Cutter T  \n",
       "7   ShiftAmountActivity    Cutter T  \n",
       "19  ShiftAmountActivity    Cutter T  \n",
       "13  ShiftAmountActivity    Cutter T  \n",
       "2   ShiftAmountActivity    Cutter T  \n",
       "8   ShiftAmountActivity    Cutter T  \n",
       "20  ShiftAmountActivity    Cutter T  \n",
       "14  ShiftAmountActivity    Cutter T  \n",
       "3   ShiftAmountActivity    Cutter T  \n",
       "9   ShiftAmountActivity    Cutter T  \n",
       "21  ShiftAmountActivity    Cutter T  \n",
       "15  ShiftAmountActivity    Cutter T  \n",
       "4   ShiftAmountActivity    Cutter T  \n",
       "10  ShiftAmountActivity    Cutter T  \n",
       "22  ShiftAmountActivity    Cutter T  \n",
       "16  ShiftAmountActivity    Cutter T  \n",
       "5   ShiftAmountActivity    Cutter T  \n",
       "11  ShiftAmountActivity    Cutter T  \n",
       "23  ShiftAmountActivity    Cutter T  \n",
       "17  ShiftAmountActivity    Cutter T  "
      ]
     },
     "execution_count": 29,
     "metadata": {},
     "output_type": "execute_result"
    }
   ],
   "source": [
    "VesselActivitiesLog = export_ranges(activities_flat, 'instances_cutter.csv', cutter_name)\n",
    "VesselActivitiesLog"
   ]
  },
  {
   "cell_type": "code",
   "execution_count": 30,
   "id": "eeedd978",
   "metadata": {},
   "outputs": [
    {
     "data": {
      "text/html": [
       "        <script type=\"text/javascript\">\n",
       "        window.PlotlyConfig = {MathJaxConfig: 'local'};\n",
       "        if (window.MathJax && window.MathJax.Hub && window.MathJax.Hub.Config) {window.MathJax.Hub.Config({SVG: {font: \"STIX-Web\"}});}\n",
       "        if (typeof require !== 'undefined') {\n",
       "        require.undef(\"plotly\");\n",
       "        requirejs.config({\n",
       "            paths: {\n",
       "                'plotly': ['https://cdn.plot.ly/plotly-2.18.2.min']\n",
       "            }\n",
       "        });\n",
       "        require(['plotly'], function(Plotly) {\n",
       "            window._Plotly = Plotly;\n",
       "        });\n",
       "        }\n",
       "        </script>\n",
       "        "
      ]
     },
     "metadata": {},
     "output_type": "display_data"
    },
    {
     "data": {
      "application/vnd.plotly.v1+json": {
       "config": {
        "linkText": "Export to plot.ly",
        "plotlyServerURL": "https://plot.ly",
        "showLink": false
       },
       "data": [
        {
         "connectgaps": false,
         "hoverinfo": "y+name",
         "line": {
          "color": "rgb(54,144,62)",
          "width": 10
         },
         "mode": "lines",
         "name": "loading:Carrier A",
         "type": "scatter",
         "x": [
          "1970-01-01T00:39:46",
          "1970-01-01T00:39:46",
          "1970-01-01T01:13:06",
          "1970-01-01T01:13:06",
          "1970-01-01T01:13:06",
          "1970-01-01T03:12:24",
          "1970-01-01T03:12:24",
          "1970-01-01T03:45:44",
          "1970-01-01T03:45:44",
          "1970-01-01T03:45:44",
          "1970-01-01T06:00:04",
          "1970-01-01T06:00:04",
          "1970-01-01T06:33:24",
          "1970-01-01T06:33:24",
          "1970-01-01T06:33:24",
          "1970-01-01T08:58:42",
          "1970-01-01T08:58:42",
          "1970-01-01T09:32:02",
          "1970-01-01T09:32:02",
          "1970-01-01T09:32:02",
          "1970-01-01T11:57:20",
          "1970-01-01T11:57:20",
          "1970-01-01T12:30:40",
          "1970-01-01T12:30:40",
          "1970-01-01T12:30:40",
          "1970-01-01T14:55:58",
          "1970-01-01T14:55:58",
          "1970-01-01T15:29:18",
          "1970-01-01T15:29:18",
          "1970-01-01T15:29:18"
         ],
         "y": [
          "loading:Carrier A",
          "loading:Carrier A",
          "loading:Carrier A",
          "loading:Carrier A",
          null,
          "loading:Carrier A",
          "loading:Carrier A",
          "loading:Carrier A",
          "loading:Carrier A",
          null,
          "loading:Carrier A",
          "loading:Carrier A",
          "loading:Carrier A",
          "loading:Carrier A",
          null,
          "loading:Carrier A",
          "loading:Carrier A",
          "loading:Carrier A",
          "loading:Carrier A",
          null,
          "loading:Carrier A",
          "loading:Carrier A",
          "loading:Carrier A",
          "loading:Carrier A",
          null,
          "loading:Carrier A",
          "loading:Carrier A",
          "loading:Carrier A",
          "loading:Carrier A",
          null
         ]
        },
        {
         "connectgaps": false,
         "hoverinfo": "y+name",
         "line": {
          "color": "rgb(118,208,126)",
          "width": 10
         },
         "mode": "lines",
         "name": "loading:Carrier B",
         "type": "scatter",
         "x": [
          "1970-01-01T01:13:06",
          "1970-01-01T01:13:06",
          "1970-01-01T01:46:26",
          "1970-01-01T01:46:26",
          "1970-01-01T01:46:26",
          "1970-01-01T03:55:02",
          "1970-01-01T03:55:02",
          "1970-01-01T04:28:22",
          "1970-01-01T04:28:22",
          "1970-01-01T04:28:22",
          "1970-01-01T06:36:58",
          "1970-01-01T06:36:58",
          "1970-01-01T07:10:18",
          "1970-01-01T07:10:18",
          "1970-01-01T07:10:18",
          "1970-01-01T09:32:02",
          "1970-01-01T09:32:02",
          "1970-01-01T10:05:22",
          "1970-01-01T10:05:22",
          "1970-01-01T10:05:22",
          "1970-01-01T12:30:40",
          "1970-01-01T12:30:40",
          "1970-01-01T13:04:00",
          "1970-01-01T13:04:00",
          "1970-01-01T13:04:00",
          "1970-01-01T15:29:18",
          "1970-01-01T15:29:18",
          "1970-01-01T16:02:38",
          "1970-01-01T16:02:38",
          "1970-01-01T16:02:38"
         ],
         "y": [
          "loading:Carrier B",
          "loading:Carrier B",
          "loading:Carrier B",
          "loading:Carrier B",
          null,
          "loading:Carrier B",
          "loading:Carrier B",
          "loading:Carrier B",
          "loading:Carrier B",
          null,
          "loading:Carrier B",
          "loading:Carrier B",
          "loading:Carrier B",
          "loading:Carrier B",
          null,
          "loading:Carrier B",
          "loading:Carrier B",
          "loading:Carrier B",
          "loading:Carrier B",
          null,
          "loading:Carrier B",
          "loading:Carrier B",
          "loading:Carrier B",
          "loading:Carrier B",
          null,
          "loading:Carrier B",
          "loading:Carrier B",
          "loading:Carrier B",
          "loading:Carrier B",
          null
         ]
        },
        {
         "connectgaps": false,
         "hoverinfo": "y+name",
         "line": {
          "color": "rgb(182,16,190)",
          "width": 10
         },
         "mode": "lines",
         "name": "loading:Carrier C",
         "type": "scatter",
         "x": [
          "1970-01-01T02:28:06",
          "1970-01-01T02:28:06",
          "1970-01-01T03:01:26",
          "1970-01-01T03:01:26",
          "1970-01-01T03:01:26",
          "1970-01-01T05:26:44",
          "1970-01-01T05:26:44",
          "1970-01-01T06:00:04",
          "1970-01-01T06:00:04",
          "1970-01-01T06:00:04",
          "1970-01-01T08:25:22",
          "1970-01-01T08:25:22",
          "1970-01-01T08:58:42",
          "1970-01-01T08:58:42",
          "1970-01-01T08:58:42",
          "1970-01-01T11:24:00",
          "1970-01-01T11:24:00",
          "1970-01-01T11:57:20",
          "1970-01-01T11:57:20",
          "1970-01-01T11:57:20",
          "1970-01-01T14:22:38",
          "1970-01-01T14:22:38",
          "1970-01-01T14:55:58",
          "1970-01-01T14:55:58",
          "1970-01-01T14:55:58",
          "1970-01-01T17:21:16",
          "1970-01-01T17:21:16",
          "1970-01-01T17:54:36",
          "1970-01-01T17:54:36",
          "1970-01-01T17:54:36"
         ],
         "y": [
          "loading:Carrier C",
          "loading:Carrier C",
          "loading:Carrier C",
          "loading:Carrier C",
          null,
          "loading:Carrier C",
          "loading:Carrier C",
          "loading:Carrier C",
          "loading:Carrier C",
          null,
          "loading:Carrier C",
          "loading:Carrier C",
          "loading:Carrier C",
          "loading:Carrier C",
          null,
          "loading:Carrier C",
          "loading:Carrier C",
          "loading:Carrier C",
          "loading:Carrier C",
          null,
          "loading:Carrier C",
          "loading:Carrier C",
          "loading:Carrier C",
          "loading:Carrier C",
          null,
          "loading:Carrier C",
          "loading:Carrier C",
          "loading:Carrier C",
          "loading:Carrier C",
          null
         ]
        },
        {
         "connectgaps": false,
         "hoverinfo": "y+name",
         "line": {
          "color": "rgb(246,80,254)",
          "width": 10
         },
         "mode": "lines",
         "name": "loading:Barge I",
         "type": "scatter",
         "x": [
          "1970-01-01T01:46:26",
          "1970-01-01T01:46:26",
          "1970-01-01T02:28:06",
          "1970-01-01T02:28:06",
          "1970-01-01T02:28:06",
          "1970-01-01T04:44:51",
          "1970-01-01T04:44:51",
          "1970-01-01T05:26:31",
          "1970-01-01T05:26:31",
          "1970-01-01T05:26:31",
          "1970-01-01T07:43:16",
          "1970-01-01T07:43:16",
          "1970-01-01T08:24:56",
          "1970-01-01T08:24:56",
          "1970-01-01T08:24:56",
          "1970-01-01T10:41:41",
          "1970-01-01T10:41:41",
          "1970-01-01T11:23:21",
          "1970-01-01T11:23:21",
          "1970-01-01T11:23:21",
          "1970-01-01T13:40:06",
          "1970-01-01T13:40:06",
          "1970-01-01T14:21:46",
          "1970-01-01T14:21:46",
          "1970-01-01T14:21:46",
          "1970-01-01T16:38:31",
          "1970-01-01T16:38:31",
          "1970-01-01T17:20:11",
          "1970-01-01T17:20:11",
          "1970-01-01T17:20:11"
         ],
         "y": [
          "loading:Barge I",
          "loading:Barge I",
          "loading:Barge I",
          "loading:Barge I",
          null,
          "loading:Barge I",
          "loading:Barge I",
          "loading:Barge I",
          "loading:Barge I",
          null,
          "loading:Barge I",
          "loading:Barge I",
          "loading:Barge I",
          "loading:Barge I",
          null,
          "loading:Barge I",
          "loading:Barge I",
          "loading:Barge I",
          "loading:Barge I",
          null,
          "loading:Barge I",
          "loading:Barge I",
          "loading:Barge I",
          "loading:Barge I",
          null,
          "loading:Barge I",
          "loading:Barge I",
          "loading:Barge I",
          "loading:Barge I",
          null
         ]
        }
       ],
       "layout": {
        "hovermode": "closest",
        "legend": {
         "orientation": "h",
         "x": 0,
         "y": -0.2
        },
        "template": {
         "data": {
          "bar": [
           {
            "error_x": {
             "color": "#2a3f5f"
            },
            "error_y": {
             "color": "#2a3f5f"
            },
            "marker": {
             "line": {
              "color": "#E5ECF6",
              "width": 0.5
             },
             "pattern": {
              "fillmode": "overlay",
              "size": 10,
              "solidity": 0.2
             }
            },
            "type": "bar"
           }
          ],
          "barpolar": [
           {
            "marker": {
             "line": {
              "color": "#E5ECF6",
              "width": 0.5
             },
             "pattern": {
              "fillmode": "overlay",
              "size": 10,
              "solidity": 0.2
             }
            },
            "type": "barpolar"
           }
          ],
          "carpet": [
           {
            "aaxis": {
             "endlinecolor": "#2a3f5f",
             "gridcolor": "white",
             "linecolor": "white",
             "minorgridcolor": "white",
             "startlinecolor": "#2a3f5f"
            },
            "baxis": {
             "endlinecolor": "#2a3f5f",
             "gridcolor": "white",
             "linecolor": "white",
             "minorgridcolor": "white",
             "startlinecolor": "#2a3f5f"
            },
            "type": "carpet"
           }
          ],
          "choropleth": [
           {
            "colorbar": {
             "outlinewidth": 0,
             "ticks": ""
            },
            "type": "choropleth"
           }
          ],
          "contour": [
           {
            "colorbar": {
             "outlinewidth": 0,
             "ticks": ""
            },
            "colorscale": [
             [
              0,
              "#0d0887"
             ],
             [
              0.1111111111111111,
              "#46039f"
             ],
             [
              0.2222222222222222,
              "#7201a8"
             ],
             [
              0.3333333333333333,
              "#9c179e"
             ],
             [
              0.4444444444444444,
              "#bd3786"
             ],
             [
              0.5555555555555556,
              "#d8576b"
             ],
             [
              0.6666666666666666,
              "#ed7953"
             ],
             [
              0.7777777777777778,
              "#fb9f3a"
             ],
             [
              0.8888888888888888,
              "#fdca26"
             ],
             [
              1,
              "#f0f921"
             ]
            ],
            "type": "contour"
           }
          ],
          "contourcarpet": [
           {
            "colorbar": {
             "outlinewidth": 0,
             "ticks": ""
            },
            "type": "contourcarpet"
           }
          ],
          "heatmap": [
           {
            "colorbar": {
             "outlinewidth": 0,
             "ticks": ""
            },
            "colorscale": [
             [
              0,
              "#0d0887"
             ],
             [
              0.1111111111111111,
              "#46039f"
             ],
             [
              0.2222222222222222,
              "#7201a8"
             ],
             [
              0.3333333333333333,
              "#9c179e"
             ],
             [
              0.4444444444444444,
              "#bd3786"
             ],
             [
              0.5555555555555556,
              "#d8576b"
             ],
             [
              0.6666666666666666,
              "#ed7953"
             ],
             [
              0.7777777777777778,
              "#fb9f3a"
             ],
             [
              0.8888888888888888,
              "#fdca26"
             ],
             [
              1,
              "#f0f921"
             ]
            ],
            "type": "heatmap"
           }
          ],
          "heatmapgl": [
           {
            "colorbar": {
             "outlinewidth": 0,
             "ticks": ""
            },
            "colorscale": [
             [
              0,
              "#0d0887"
             ],
             [
              0.1111111111111111,
              "#46039f"
             ],
             [
              0.2222222222222222,
              "#7201a8"
             ],
             [
              0.3333333333333333,
              "#9c179e"
             ],
             [
              0.4444444444444444,
              "#bd3786"
             ],
             [
              0.5555555555555556,
              "#d8576b"
             ],
             [
              0.6666666666666666,
              "#ed7953"
             ],
             [
              0.7777777777777778,
              "#fb9f3a"
             ],
             [
              0.8888888888888888,
              "#fdca26"
             ],
             [
              1,
              "#f0f921"
             ]
            ],
            "type": "heatmapgl"
           }
          ],
          "histogram": [
           {
            "marker": {
             "pattern": {
              "fillmode": "overlay",
              "size": 10,
              "solidity": 0.2
             }
            },
            "type": "histogram"
           }
          ],
          "histogram2d": [
           {
            "colorbar": {
             "outlinewidth": 0,
             "ticks": ""
            },
            "colorscale": [
             [
              0,
              "#0d0887"
             ],
             [
              0.1111111111111111,
              "#46039f"
             ],
             [
              0.2222222222222222,
              "#7201a8"
             ],
             [
              0.3333333333333333,
              "#9c179e"
             ],
             [
              0.4444444444444444,
              "#bd3786"
             ],
             [
              0.5555555555555556,
              "#d8576b"
             ],
             [
              0.6666666666666666,
              "#ed7953"
             ],
             [
              0.7777777777777778,
              "#fb9f3a"
             ],
             [
              0.8888888888888888,
              "#fdca26"
             ],
             [
              1,
              "#f0f921"
             ]
            ],
            "type": "histogram2d"
           }
          ],
          "histogram2dcontour": [
           {
            "colorbar": {
             "outlinewidth": 0,
             "ticks": ""
            },
            "colorscale": [
             [
              0,
              "#0d0887"
             ],
             [
              0.1111111111111111,
              "#46039f"
             ],
             [
              0.2222222222222222,
              "#7201a8"
             ],
             [
              0.3333333333333333,
              "#9c179e"
             ],
             [
              0.4444444444444444,
              "#bd3786"
             ],
             [
              0.5555555555555556,
              "#d8576b"
             ],
             [
              0.6666666666666666,
              "#ed7953"
             ],
             [
              0.7777777777777778,
              "#fb9f3a"
             ],
             [
              0.8888888888888888,
              "#fdca26"
             ],
             [
              1,
              "#f0f921"
             ]
            ],
            "type": "histogram2dcontour"
           }
          ],
          "mesh3d": [
           {
            "colorbar": {
             "outlinewidth": 0,
             "ticks": ""
            },
            "type": "mesh3d"
           }
          ],
          "parcoords": [
           {
            "line": {
             "colorbar": {
              "outlinewidth": 0,
              "ticks": ""
             }
            },
            "type": "parcoords"
           }
          ],
          "pie": [
           {
            "automargin": true,
            "type": "pie"
           }
          ],
          "scatter": [
           {
            "fillpattern": {
             "fillmode": "overlay",
             "size": 10,
             "solidity": 0.2
            },
            "type": "scatter"
           }
          ],
          "scatter3d": [
           {
            "line": {
             "colorbar": {
              "outlinewidth": 0,
              "ticks": ""
             }
            },
            "marker": {
             "colorbar": {
              "outlinewidth": 0,
              "ticks": ""
             }
            },
            "type": "scatter3d"
           }
          ],
          "scattercarpet": [
           {
            "marker": {
             "colorbar": {
              "outlinewidth": 0,
              "ticks": ""
             }
            },
            "type": "scattercarpet"
           }
          ],
          "scattergeo": [
           {
            "marker": {
             "colorbar": {
              "outlinewidth": 0,
              "ticks": ""
             }
            },
            "type": "scattergeo"
           }
          ],
          "scattergl": [
           {
            "marker": {
             "colorbar": {
              "outlinewidth": 0,
              "ticks": ""
             }
            },
            "type": "scattergl"
           }
          ],
          "scattermapbox": [
           {
            "marker": {
             "colorbar": {
              "outlinewidth": 0,
              "ticks": ""
             }
            },
            "type": "scattermapbox"
           }
          ],
          "scatterpolar": [
           {
            "marker": {
             "colorbar": {
              "outlinewidth": 0,
              "ticks": ""
             }
            },
            "type": "scatterpolar"
           }
          ],
          "scatterpolargl": [
           {
            "marker": {
             "colorbar": {
              "outlinewidth": 0,
              "ticks": ""
             }
            },
            "type": "scatterpolargl"
           }
          ],
          "scatterternary": [
           {
            "marker": {
             "colorbar": {
              "outlinewidth": 0,
              "ticks": ""
             }
            },
            "type": "scatterternary"
           }
          ],
          "surface": [
           {
            "colorbar": {
             "outlinewidth": 0,
             "ticks": ""
            },
            "colorscale": [
             [
              0,
              "#0d0887"
             ],
             [
              0.1111111111111111,
              "#46039f"
             ],
             [
              0.2222222222222222,
              "#7201a8"
             ],
             [
              0.3333333333333333,
              "#9c179e"
             ],
             [
              0.4444444444444444,
              "#bd3786"
             ],
             [
              0.5555555555555556,
              "#d8576b"
             ],
             [
              0.6666666666666666,
              "#ed7953"
             ],
             [
              0.7777777777777778,
              "#fb9f3a"
             ],
             [
              0.8888888888888888,
              "#fdca26"
             ],
             [
              1,
              "#f0f921"
             ]
            ],
            "type": "surface"
           }
          ],
          "table": [
           {
            "cells": {
             "fill": {
              "color": "#EBF0F8"
             },
             "line": {
              "color": "white"
             }
            },
            "header": {
             "fill": {
              "color": "#C8D4E3"
             },
             "line": {
              "color": "white"
             }
            },
            "type": "table"
           }
          ]
         },
         "layout": {
          "annotationdefaults": {
           "arrowcolor": "#2a3f5f",
           "arrowhead": 0,
           "arrowwidth": 1
          },
          "autotypenumbers": "strict",
          "coloraxis": {
           "colorbar": {
            "outlinewidth": 0,
            "ticks": ""
           }
          },
          "colorscale": {
           "diverging": [
            [
             0,
             "#8e0152"
            ],
            [
             0.1,
             "#c51b7d"
            ],
            [
             0.2,
             "#de77ae"
            ],
            [
             0.3,
             "#f1b6da"
            ],
            [
             0.4,
             "#fde0ef"
            ],
            [
             0.5,
             "#f7f7f7"
            ],
            [
             0.6,
             "#e6f5d0"
            ],
            [
             0.7,
             "#b8e186"
            ],
            [
             0.8,
             "#7fbc41"
            ],
            [
             0.9,
             "#4d9221"
            ],
            [
             1,
             "#276419"
            ]
           ],
           "sequential": [
            [
             0,
             "#0d0887"
            ],
            [
             0.1111111111111111,
             "#46039f"
            ],
            [
             0.2222222222222222,
             "#7201a8"
            ],
            [
             0.3333333333333333,
             "#9c179e"
            ],
            [
             0.4444444444444444,
             "#bd3786"
            ],
            [
             0.5555555555555556,
             "#d8576b"
            ],
            [
             0.6666666666666666,
             "#ed7953"
            ],
            [
             0.7777777777777778,
             "#fb9f3a"
            ],
            [
             0.8888888888888888,
             "#fdca26"
            ],
            [
             1,
             "#f0f921"
            ]
           ],
           "sequentialminus": [
            [
             0,
             "#0d0887"
            ],
            [
             0.1111111111111111,
             "#46039f"
            ],
            [
             0.2222222222222222,
             "#7201a8"
            ],
            [
             0.3333333333333333,
             "#9c179e"
            ],
            [
             0.4444444444444444,
             "#bd3786"
            ],
            [
             0.5555555555555556,
             "#d8576b"
            ],
            [
             0.6666666666666666,
             "#ed7953"
            ],
            [
             0.7777777777777778,
             "#fb9f3a"
            ],
            [
             0.8888888888888888,
             "#fdca26"
            ],
            [
             1,
             "#f0f921"
            ]
           ]
          },
          "colorway": [
           "#636efa",
           "#EF553B",
           "#00cc96",
           "#ab63fa",
           "#FFA15A",
           "#19d3f3",
           "#FF6692",
           "#B6E880",
           "#FF97FF",
           "#FECB52"
          ],
          "font": {
           "color": "#2a3f5f"
          },
          "geo": {
           "bgcolor": "white",
           "lakecolor": "white",
           "landcolor": "#E5ECF6",
           "showlakes": true,
           "showland": true,
           "subunitcolor": "white"
          },
          "hoverlabel": {
           "align": "left"
          },
          "hovermode": "closest",
          "mapbox": {
           "style": "light"
          },
          "paper_bgcolor": "white",
          "plot_bgcolor": "#E5ECF6",
          "polar": {
           "angularaxis": {
            "gridcolor": "white",
            "linecolor": "white",
            "ticks": ""
           },
           "bgcolor": "#E5ECF6",
           "radialaxis": {
            "gridcolor": "white",
            "linecolor": "white",
            "ticks": ""
           }
          },
          "scene": {
           "xaxis": {
            "backgroundcolor": "#E5ECF6",
            "gridcolor": "white",
            "gridwidth": 2,
            "linecolor": "white",
            "showbackground": true,
            "ticks": "",
            "zerolinecolor": "white"
           },
           "yaxis": {
            "backgroundcolor": "#E5ECF6",
            "gridcolor": "white",
            "gridwidth": 2,
            "linecolor": "white",
            "showbackground": true,
            "ticks": "",
            "zerolinecolor": "white"
           },
           "zaxis": {
            "backgroundcolor": "#E5ECF6",
            "gridcolor": "white",
            "gridwidth": 2,
            "linecolor": "white",
            "showbackground": true,
            "ticks": "",
            "zerolinecolor": "white"
           }
          },
          "shapedefaults": {
           "line": {
            "color": "#2a3f5f"
           }
          },
          "ternary": {
           "aaxis": {
            "gridcolor": "white",
            "linecolor": "white",
            "ticks": ""
           },
           "baxis": {
            "gridcolor": "white",
            "linecolor": "white",
            "ticks": ""
           },
           "bgcolor": "#E5ECF6",
           "caxis": {
            "gridcolor": "white",
            "linecolor": "white",
            "ticks": ""
           }
          },
          "title": {
           "x": 0.05
          },
          "xaxis": {
           "automargin": true,
           "gridcolor": "white",
           "linecolor": "white",
           "ticks": "",
           "title": {
            "standoff": 15
           },
           "zerolinecolor": "white",
           "zerolinewidth": 2
          },
          "yaxis": {
           "automargin": true,
           "gridcolor": "white",
           "linecolor": "white",
           "ticks": "",
           "title": {
            "standoff": 15
           },
           "zerolinecolor": "white",
           "zerolinewidth": 2
          }
         }
        },
        "title": {
         "text": "GANTT Chart"
        },
        "xaxis": {
         "range": [
          "1970-01-01T00:39:46",
          "1970-01-01T17:54:36"
         ],
         "title": {
          "font": {
           "color": "#7f7f7f",
           "family": "Courier New, monospace",
           "size": 18
          },
          "text": "Time"
         }
        },
        "yaxis": {
         "title": {
          "font": {
           "color": "#7f7f7f",
           "family": "Courier New, monospace",
           "size": 18
          },
          "text": "Activities"
         }
        }
       }
      },
      "text/html": [
       "<div>                            <div id=\"7c758db2-201f-4275-911f-24908d135d5a\" class=\"plotly-graph-div\" style=\"height:525px; width:100%;\"></div>            <script type=\"text/javascript\">                require([\"plotly\"], function(Plotly) {                    window.PLOTLYENV=window.PLOTLYENV || {};                                    if (document.getElementById(\"7c758db2-201f-4275-911f-24908d135d5a\")) {                    Plotly.newPlot(                        \"7c758db2-201f-4275-911f-24908d135d5a\",                        [{\"connectgaps\":false,\"hoverinfo\":\"y+name\",\"line\":{\"color\":\"rgb(54,144,62)\",\"width\":10},\"mode\":\"lines\",\"name\":\"loading:Carrier A\",\"x\":[\"1970-01-01T00:39:46\",\"1970-01-01T00:39:46\",\"1970-01-01T01:13:06\",\"1970-01-01T01:13:06\",\"1970-01-01T01:13:06\",\"1970-01-01T03:12:24\",\"1970-01-01T03:12:24\",\"1970-01-01T03:45:44\",\"1970-01-01T03:45:44\",\"1970-01-01T03:45:44\",\"1970-01-01T06:00:04\",\"1970-01-01T06:00:04\",\"1970-01-01T06:33:24\",\"1970-01-01T06:33:24\",\"1970-01-01T06:33:24\",\"1970-01-01T08:58:42\",\"1970-01-01T08:58:42\",\"1970-01-01T09:32:02\",\"1970-01-01T09:32:02\",\"1970-01-01T09:32:02\",\"1970-01-01T11:57:20\",\"1970-01-01T11:57:20\",\"1970-01-01T12:30:40\",\"1970-01-01T12:30:40\",\"1970-01-01T12:30:40\",\"1970-01-01T14:55:58\",\"1970-01-01T14:55:58\",\"1970-01-01T15:29:18\",\"1970-01-01T15:29:18\",\"1970-01-01T15:29:18\"],\"y\":[\"loading:Carrier A\",\"loading:Carrier A\",\"loading:Carrier A\",\"loading:Carrier A\",null,\"loading:Carrier A\",\"loading:Carrier A\",\"loading:Carrier A\",\"loading:Carrier A\",null,\"loading:Carrier A\",\"loading:Carrier A\",\"loading:Carrier A\",\"loading:Carrier A\",null,\"loading:Carrier A\",\"loading:Carrier A\",\"loading:Carrier A\",\"loading:Carrier A\",null,\"loading:Carrier A\",\"loading:Carrier A\",\"loading:Carrier A\",\"loading:Carrier A\",null,\"loading:Carrier A\",\"loading:Carrier A\",\"loading:Carrier A\",\"loading:Carrier A\",null],\"type\":\"scatter\"},{\"connectgaps\":false,\"hoverinfo\":\"y+name\",\"line\":{\"color\":\"rgb(118,208,126)\",\"width\":10},\"mode\":\"lines\",\"name\":\"loading:Carrier B\",\"x\":[\"1970-01-01T01:13:06\",\"1970-01-01T01:13:06\",\"1970-01-01T01:46:26\",\"1970-01-01T01:46:26\",\"1970-01-01T01:46:26\",\"1970-01-01T03:55:02\",\"1970-01-01T03:55:02\",\"1970-01-01T04:28:22\",\"1970-01-01T04:28:22\",\"1970-01-01T04:28:22\",\"1970-01-01T06:36:58\",\"1970-01-01T06:36:58\",\"1970-01-01T07:10:18\",\"1970-01-01T07:10:18\",\"1970-01-01T07:10:18\",\"1970-01-01T09:32:02\",\"1970-01-01T09:32:02\",\"1970-01-01T10:05:22\",\"1970-01-01T10:05:22\",\"1970-01-01T10:05:22\",\"1970-01-01T12:30:40\",\"1970-01-01T12:30:40\",\"1970-01-01T13:04:00\",\"1970-01-01T13:04:00\",\"1970-01-01T13:04:00\",\"1970-01-01T15:29:18\",\"1970-01-01T15:29:18\",\"1970-01-01T16:02:38\",\"1970-01-01T16:02:38\",\"1970-01-01T16:02:38\"],\"y\":[\"loading:Carrier B\",\"loading:Carrier B\",\"loading:Carrier B\",\"loading:Carrier B\",null,\"loading:Carrier B\",\"loading:Carrier B\",\"loading:Carrier B\",\"loading:Carrier B\",null,\"loading:Carrier B\",\"loading:Carrier B\",\"loading:Carrier B\",\"loading:Carrier B\",null,\"loading:Carrier B\",\"loading:Carrier B\",\"loading:Carrier B\",\"loading:Carrier B\",null,\"loading:Carrier B\",\"loading:Carrier B\",\"loading:Carrier B\",\"loading:Carrier B\",null,\"loading:Carrier B\",\"loading:Carrier B\",\"loading:Carrier B\",\"loading:Carrier B\",null],\"type\":\"scatter\"},{\"connectgaps\":false,\"hoverinfo\":\"y+name\",\"line\":{\"color\":\"rgb(182,16,190)\",\"width\":10},\"mode\":\"lines\",\"name\":\"loading:Carrier C\",\"x\":[\"1970-01-01T02:28:06\",\"1970-01-01T02:28:06\",\"1970-01-01T03:01:26\",\"1970-01-01T03:01:26\",\"1970-01-01T03:01:26\",\"1970-01-01T05:26:44\",\"1970-01-01T05:26:44\",\"1970-01-01T06:00:04\",\"1970-01-01T06:00:04\",\"1970-01-01T06:00:04\",\"1970-01-01T08:25:22\",\"1970-01-01T08:25:22\",\"1970-01-01T08:58:42\",\"1970-01-01T08:58:42\",\"1970-01-01T08:58:42\",\"1970-01-01T11:24:00\",\"1970-01-01T11:24:00\",\"1970-01-01T11:57:20\",\"1970-01-01T11:57:20\",\"1970-01-01T11:57:20\",\"1970-01-01T14:22:38\",\"1970-01-01T14:22:38\",\"1970-01-01T14:55:58\",\"1970-01-01T14:55:58\",\"1970-01-01T14:55:58\",\"1970-01-01T17:21:16\",\"1970-01-01T17:21:16\",\"1970-01-01T17:54:36\",\"1970-01-01T17:54:36\",\"1970-01-01T17:54:36\"],\"y\":[\"loading:Carrier C\",\"loading:Carrier C\",\"loading:Carrier C\",\"loading:Carrier C\",null,\"loading:Carrier C\",\"loading:Carrier C\",\"loading:Carrier C\",\"loading:Carrier C\",null,\"loading:Carrier C\",\"loading:Carrier C\",\"loading:Carrier C\",\"loading:Carrier C\",null,\"loading:Carrier C\",\"loading:Carrier C\",\"loading:Carrier C\",\"loading:Carrier C\",null,\"loading:Carrier C\",\"loading:Carrier C\",\"loading:Carrier C\",\"loading:Carrier C\",null,\"loading:Carrier C\",\"loading:Carrier C\",\"loading:Carrier C\",\"loading:Carrier C\",null],\"type\":\"scatter\"},{\"connectgaps\":false,\"hoverinfo\":\"y+name\",\"line\":{\"color\":\"rgb(246,80,254)\",\"width\":10},\"mode\":\"lines\",\"name\":\"loading:Barge I\",\"x\":[\"1970-01-01T01:46:26\",\"1970-01-01T01:46:26\",\"1970-01-01T02:28:06\",\"1970-01-01T02:28:06\",\"1970-01-01T02:28:06\",\"1970-01-01T04:44:51\",\"1970-01-01T04:44:51\",\"1970-01-01T05:26:31\",\"1970-01-01T05:26:31\",\"1970-01-01T05:26:31\",\"1970-01-01T07:43:16\",\"1970-01-01T07:43:16\",\"1970-01-01T08:24:56\",\"1970-01-01T08:24:56\",\"1970-01-01T08:24:56\",\"1970-01-01T10:41:41\",\"1970-01-01T10:41:41\",\"1970-01-01T11:23:21\",\"1970-01-01T11:23:21\",\"1970-01-01T11:23:21\",\"1970-01-01T13:40:06\",\"1970-01-01T13:40:06\",\"1970-01-01T14:21:46\",\"1970-01-01T14:21:46\",\"1970-01-01T14:21:46\",\"1970-01-01T16:38:31\",\"1970-01-01T16:38:31\",\"1970-01-01T17:20:11\",\"1970-01-01T17:20:11\",\"1970-01-01T17:20:11\"],\"y\":[\"loading:Barge I\",\"loading:Barge I\",\"loading:Barge I\",\"loading:Barge I\",null,\"loading:Barge I\",\"loading:Barge I\",\"loading:Barge I\",\"loading:Barge I\",null,\"loading:Barge I\",\"loading:Barge I\",\"loading:Barge I\",\"loading:Barge I\",null,\"loading:Barge I\",\"loading:Barge I\",\"loading:Barge I\",\"loading:Barge I\",null,\"loading:Barge I\",\"loading:Barge I\",\"loading:Barge I\",\"loading:Barge I\",null,\"loading:Barge I\",\"loading:Barge I\",\"loading:Barge I\",\"loading:Barge I\",null],\"type\":\"scatter\"}],                        {\"hovermode\":\"closest\",\"legend\":{\"orientation\":\"h\",\"x\":0,\"y\":-0.2},\"template\":{\"data\":{\"barpolar\":[{\"marker\":{\"line\":{\"color\":\"#E5ECF6\",\"width\":0.5},\"pattern\":{\"fillmode\":\"overlay\",\"size\":10,\"solidity\":0.2}},\"type\":\"barpolar\"}],\"bar\":[{\"error_x\":{\"color\":\"#2a3f5f\"},\"error_y\":{\"color\":\"#2a3f5f\"},\"marker\":{\"line\":{\"color\":\"#E5ECF6\",\"width\":0.5},\"pattern\":{\"fillmode\":\"overlay\",\"size\":10,\"solidity\":0.2}},\"type\":\"bar\"}],\"carpet\":[{\"aaxis\":{\"endlinecolor\":\"#2a3f5f\",\"gridcolor\":\"white\",\"linecolor\":\"white\",\"minorgridcolor\":\"white\",\"startlinecolor\":\"#2a3f5f\"},\"baxis\":{\"endlinecolor\":\"#2a3f5f\",\"gridcolor\":\"white\",\"linecolor\":\"white\",\"minorgridcolor\":\"white\",\"startlinecolor\":\"#2a3f5f\"},\"type\":\"carpet\"}],\"choropleth\":[{\"colorbar\":{\"outlinewidth\":0,\"ticks\":\"\"},\"type\":\"choropleth\"}],\"contourcarpet\":[{\"colorbar\":{\"outlinewidth\":0,\"ticks\":\"\"},\"type\":\"contourcarpet\"}],\"contour\":[{\"colorbar\":{\"outlinewidth\":0,\"ticks\":\"\"},\"colorscale\":[[0.0,\"#0d0887\"],[0.1111111111111111,\"#46039f\"],[0.2222222222222222,\"#7201a8\"],[0.3333333333333333,\"#9c179e\"],[0.4444444444444444,\"#bd3786\"],[0.5555555555555556,\"#d8576b\"],[0.6666666666666666,\"#ed7953\"],[0.7777777777777778,\"#fb9f3a\"],[0.8888888888888888,\"#fdca26\"],[1.0,\"#f0f921\"]],\"type\":\"contour\"}],\"heatmapgl\":[{\"colorbar\":{\"outlinewidth\":0,\"ticks\":\"\"},\"colorscale\":[[0.0,\"#0d0887\"],[0.1111111111111111,\"#46039f\"],[0.2222222222222222,\"#7201a8\"],[0.3333333333333333,\"#9c179e\"],[0.4444444444444444,\"#bd3786\"],[0.5555555555555556,\"#d8576b\"],[0.6666666666666666,\"#ed7953\"],[0.7777777777777778,\"#fb9f3a\"],[0.8888888888888888,\"#fdca26\"],[1.0,\"#f0f921\"]],\"type\":\"heatmapgl\"}],\"heatmap\":[{\"colorbar\":{\"outlinewidth\":0,\"ticks\":\"\"},\"colorscale\":[[0.0,\"#0d0887\"],[0.1111111111111111,\"#46039f\"],[0.2222222222222222,\"#7201a8\"],[0.3333333333333333,\"#9c179e\"],[0.4444444444444444,\"#bd3786\"],[0.5555555555555556,\"#d8576b\"],[0.6666666666666666,\"#ed7953\"],[0.7777777777777778,\"#fb9f3a\"],[0.8888888888888888,\"#fdca26\"],[1.0,\"#f0f921\"]],\"type\":\"heatmap\"}],\"histogram2dcontour\":[{\"colorbar\":{\"outlinewidth\":0,\"ticks\":\"\"},\"colorscale\":[[0.0,\"#0d0887\"],[0.1111111111111111,\"#46039f\"],[0.2222222222222222,\"#7201a8\"],[0.3333333333333333,\"#9c179e\"],[0.4444444444444444,\"#bd3786\"],[0.5555555555555556,\"#d8576b\"],[0.6666666666666666,\"#ed7953\"],[0.7777777777777778,\"#fb9f3a\"],[0.8888888888888888,\"#fdca26\"],[1.0,\"#f0f921\"]],\"type\":\"histogram2dcontour\"}],\"histogram2d\":[{\"colorbar\":{\"outlinewidth\":0,\"ticks\":\"\"},\"colorscale\":[[0.0,\"#0d0887\"],[0.1111111111111111,\"#46039f\"],[0.2222222222222222,\"#7201a8\"],[0.3333333333333333,\"#9c179e\"],[0.4444444444444444,\"#bd3786\"],[0.5555555555555556,\"#d8576b\"],[0.6666666666666666,\"#ed7953\"],[0.7777777777777778,\"#fb9f3a\"],[0.8888888888888888,\"#fdca26\"],[1.0,\"#f0f921\"]],\"type\":\"histogram2d\"}],\"histogram\":[{\"marker\":{\"pattern\":{\"fillmode\":\"overlay\",\"size\":10,\"solidity\":0.2}},\"type\":\"histogram\"}],\"mesh3d\":[{\"colorbar\":{\"outlinewidth\":0,\"ticks\":\"\"},\"type\":\"mesh3d\"}],\"parcoords\":[{\"line\":{\"colorbar\":{\"outlinewidth\":0,\"ticks\":\"\"}},\"type\":\"parcoords\"}],\"pie\":[{\"automargin\":true,\"type\":\"pie\"}],\"scatter3d\":[{\"line\":{\"colorbar\":{\"outlinewidth\":0,\"ticks\":\"\"}},\"marker\":{\"colorbar\":{\"outlinewidth\":0,\"ticks\":\"\"}},\"type\":\"scatter3d\"}],\"scattercarpet\":[{\"marker\":{\"colorbar\":{\"outlinewidth\":0,\"ticks\":\"\"}},\"type\":\"scattercarpet\"}],\"scattergeo\":[{\"marker\":{\"colorbar\":{\"outlinewidth\":0,\"ticks\":\"\"}},\"type\":\"scattergeo\"}],\"scattergl\":[{\"marker\":{\"colorbar\":{\"outlinewidth\":0,\"ticks\":\"\"}},\"type\":\"scattergl\"}],\"scattermapbox\":[{\"marker\":{\"colorbar\":{\"outlinewidth\":0,\"ticks\":\"\"}},\"type\":\"scattermapbox\"}],\"scatterpolargl\":[{\"marker\":{\"colorbar\":{\"outlinewidth\":0,\"ticks\":\"\"}},\"type\":\"scatterpolargl\"}],\"scatterpolar\":[{\"marker\":{\"colorbar\":{\"outlinewidth\":0,\"ticks\":\"\"}},\"type\":\"scatterpolar\"}],\"scatter\":[{\"fillpattern\":{\"fillmode\":\"overlay\",\"size\":10,\"solidity\":0.2},\"type\":\"scatter\"}],\"scatterternary\":[{\"marker\":{\"colorbar\":{\"outlinewidth\":0,\"ticks\":\"\"}},\"type\":\"scatterternary\"}],\"surface\":[{\"colorbar\":{\"outlinewidth\":0,\"ticks\":\"\"},\"colorscale\":[[0.0,\"#0d0887\"],[0.1111111111111111,\"#46039f\"],[0.2222222222222222,\"#7201a8\"],[0.3333333333333333,\"#9c179e\"],[0.4444444444444444,\"#bd3786\"],[0.5555555555555556,\"#d8576b\"],[0.6666666666666666,\"#ed7953\"],[0.7777777777777778,\"#fb9f3a\"],[0.8888888888888888,\"#fdca26\"],[1.0,\"#f0f921\"]],\"type\":\"surface\"}],\"table\":[{\"cells\":{\"fill\":{\"color\":\"#EBF0F8\"},\"line\":{\"color\":\"white\"}},\"header\":{\"fill\":{\"color\":\"#C8D4E3\"},\"line\":{\"color\":\"white\"}},\"type\":\"table\"}]},\"layout\":{\"annotationdefaults\":{\"arrowcolor\":\"#2a3f5f\",\"arrowhead\":0,\"arrowwidth\":1},\"autotypenumbers\":\"strict\",\"coloraxis\":{\"colorbar\":{\"outlinewidth\":0,\"ticks\":\"\"}},\"colorscale\":{\"diverging\":[[0,\"#8e0152\"],[0.1,\"#c51b7d\"],[0.2,\"#de77ae\"],[0.3,\"#f1b6da\"],[0.4,\"#fde0ef\"],[0.5,\"#f7f7f7\"],[0.6,\"#e6f5d0\"],[0.7,\"#b8e186\"],[0.8,\"#7fbc41\"],[0.9,\"#4d9221\"],[1,\"#276419\"]],\"sequential\":[[0.0,\"#0d0887\"],[0.1111111111111111,\"#46039f\"],[0.2222222222222222,\"#7201a8\"],[0.3333333333333333,\"#9c179e\"],[0.4444444444444444,\"#bd3786\"],[0.5555555555555556,\"#d8576b\"],[0.6666666666666666,\"#ed7953\"],[0.7777777777777778,\"#fb9f3a\"],[0.8888888888888888,\"#fdca26\"],[1.0,\"#f0f921\"]],\"sequentialminus\":[[0.0,\"#0d0887\"],[0.1111111111111111,\"#46039f\"],[0.2222222222222222,\"#7201a8\"],[0.3333333333333333,\"#9c179e\"],[0.4444444444444444,\"#bd3786\"],[0.5555555555555556,\"#d8576b\"],[0.6666666666666666,\"#ed7953\"],[0.7777777777777778,\"#fb9f3a\"],[0.8888888888888888,\"#fdca26\"],[1.0,\"#f0f921\"]]},\"colorway\":[\"#636efa\",\"#EF553B\",\"#00cc96\",\"#ab63fa\",\"#FFA15A\",\"#19d3f3\",\"#FF6692\",\"#B6E880\",\"#FF97FF\",\"#FECB52\"],\"font\":{\"color\":\"#2a3f5f\"},\"geo\":{\"bgcolor\":\"white\",\"lakecolor\":\"white\",\"landcolor\":\"#E5ECF6\",\"showlakes\":true,\"showland\":true,\"subunitcolor\":\"white\"},\"hoverlabel\":{\"align\":\"left\"},\"hovermode\":\"closest\",\"mapbox\":{\"style\":\"light\"},\"paper_bgcolor\":\"white\",\"plot_bgcolor\":\"#E5ECF6\",\"polar\":{\"angularaxis\":{\"gridcolor\":\"white\",\"linecolor\":\"white\",\"ticks\":\"\"},\"bgcolor\":\"#E5ECF6\",\"radialaxis\":{\"gridcolor\":\"white\",\"linecolor\":\"white\",\"ticks\":\"\"}},\"scene\":{\"xaxis\":{\"backgroundcolor\":\"#E5ECF6\",\"gridcolor\":\"white\",\"gridwidth\":2,\"linecolor\":\"white\",\"showbackground\":true,\"ticks\":\"\",\"zerolinecolor\":\"white\"},\"yaxis\":{\"backgroundcolor\":\"#E5ECF6\",\"gridcolor\":\"white\",\"gridwidth\":2,\"linecolor\":\"white\",\"showbackground\":true,\"ticks\":\"\",\"zerolinecolor\":\"white\"},\"zaxis\":{\"backgroundcolor\":\"#E5ECF6\",\"gridcolor\":\"white\",\"gridwidth\":2,\"linecolor\":\"white\",\"showbackground\":true,\"ticks\":\"\",\"zerolinecolor\":\"white\"}},\"shapedefaults\":{\"line\":{\"color\":\"#2a3f5f\"}},\"ternary\":{\"aaxis\":{\"gridcolor\":\"white\",\"linecolor\":\"white\",\"ticks\":\"\"},\"baxis\":{\"gridcolor\":\"white\",\"linecolor\":\"white\",\"ticks\":\"\"},\"bgcolor\":\"#E5ECF6\",\"caxis\":{\"gridcolor\":\"white\",\"linecolor\":\"white\",\"ticks\":\"\"}},\"title\":{\"x\":0.05},\"xaxis\":{\"automargin\":true,\"gridcolor\":\"white\",\"linecolor\":\"white\",\"ticks\":\"\",\"title\":{\"standoff\":15},\"zerolinecolor\":\"white\",\"zerolinewidth\":2},\"yaxis\":{\"automargin\":true,\"gridcolor\":\"white\",\"linecolor\":\"white\",\"ticks\":\"\",\"title\":{\"standoff\":15},\"zerolinecolor\":\"white\",\"zerolinewidth\":2}}},\"title\":{\"text\":\"GANTT Chart\"},\"xaxis\":{\"range\":[\"1970-01-01T00:39:46\",\"1970-01-01T17:54:36\"],\"title\":{\"font\":{\"color\":\"#7f7f7f\",\"family\":\"Courier New, monospace\",\"size\":18},\"text\":\"Time\"}},\"yaxis\":{\"title\":{\"font\":{\"color\":\"#7f7f7f\",\"family\":\"Courier New, monospace\",\"size\":18},\"text\":\"Activities\"}}},                        {\"responsive\": true}                    ).then(function(){\n",
       "                            \n",
       "var gd = document.getElementById('7c758db2-201f-4275-911f-24908d135d5a');\n",
       "var x = new MutationObserver(function (mutations, observer) {{\n",
       "        var display = window.getComputedStyle(gd).display;\n",
       "        if (!display || display === 'none') {{\n",
       "            console.log([gd, 'removed!']);\n",
       "            Plotly.purge(gd);\n",
       "            observer.disconnect();\n",
       "        }}\n",
       "}});\n",
       "\n",
       "// Listen for the removal of the full notebook cells\n",
       "var notebookContainer = gd.closest('#notebook-container');\n",
       "if (notebookContainer) {{\n",
       "    x.observe(notebookContainer, {childList: true});\n",
       "}}\n",
       "\n",
       "// Listen for the clearing of the current output cell\n",
       "var outputEl = gd.closest('.output');\n",
       "if (outputEl) {{\n",
       "    x.observe(outputEl, {childList: true});\n",
       "}}\n",
       "\n",
       "                        })                };                });            </script>        </div>"
      ]
     },
     "metadata": {},
     "output_type": "display_data"
    }
   ],
   "source": [
    "flat = pd.DataFrame(flatten(activities))\n",
    "loading = list(flat[flat['ActivityName'].str.startswith('loading')]['activity'].values)\n",
    "fig = get_gantt_chart(loading)"
   ]
  },
  {
   "cell_type": "code",
   "execution_count": null,
   "id": "e3d5674d",
   "metadata": {},
   "outputs": [],
   "source": []
  },
  {
   "cell_type": "code",
   "execution_count": null,
   "id": "d9194da6",
   "metadata": {},
   "outputs": [],
   "source": []
  }
 ],
 "metadata": {
  "kernelspec": {
   "display_name": "Python 3 (ipykernel)",
   "language": "python",
   "name": "python3"
  },
  "language_info": {
   "codemirror_mode": {
    "name": "ipython",
    "version": 3
   },
   "file_extension": ".py",
   "mimetype": "text/x-python",
   "name": "python",
   "nbconvert_exporter": "python",
   "pygments_lexer": "ipython3",
   "version": "3.9.16"
  }
 },
 "nbformat": 4,
 "nbformat_minor": 5
}
