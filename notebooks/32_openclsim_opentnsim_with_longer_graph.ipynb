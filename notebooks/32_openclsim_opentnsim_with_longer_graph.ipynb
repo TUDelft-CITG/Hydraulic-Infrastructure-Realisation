{
 "cells": [
  {
   "cell_type": "markdown",
   "metadata": {},
   "source": [
    "## Demo: repeating a subcycle until a stop condition is triggered with energy and route\n",
    "The basic steps to set up an OpenCLSim simulation are:\n",
    "* Import libraries\n",
    "* Initialise simpy environment\n",
    "* Define object classes\n",
    "* Create objects\n",
    "  * Create sites\n",
    "  * Create vessels\n",
    "  * Create activities\n",
    "* Register processes and run simpy\n",
    "\n",
    "----\n",
    "\n",
    "This notebook provides an example of a simulation that takes a number of sub processes, grouped in a sequential activity, that is **executed while a stop condition is not yet met**.\n",
    "\n",
    "For this example we work with the following sub processes:\n",
    "* sailing empty\n",
    "* loading\n",
    "* sailing full\n",
    "* unloading"
   ]
  },
  {
   "cell_type": "markdown",
   "metadata": {},
   "source": [
    "#### 0. Import libraries"
   ]
  },
  {
   "cell_type": "code",
   "execution_count": 1,
   "metadata": {},
   "outputs": [],
   "source": [
    "import datetime, time\n",
    "import logging\n",
    "\n",
    "import simpy\n",
    "import pandas as pd\n",
    "import shapely\n",
    "import networkx as nx\n",
    "\n",
    "import openclsim\n",
    "import opentnsim\n",
    "\n",
    "# Used for making the graph to visualize our problem\n",
    "import matplotlib.pyplot as plt\n",
    "\n",
    "logger = logging.basicConfig(level=logging.INFO)\n",
    "logging.root.setLevel(level=logging.INFO)"
   ]
  },
  {
   "cell_type": "markdown",
   "metadata": {},
   "source": [
    "#### 1. Initialise simpy environment"
   ]
  },
  {
   "cell_type": "code",
   "execution_count": 2,
   "metadata": {},
   "outputs": [],
   "source": [
    "# setup environment\n",
    "simulation_start = 0\n",
    "my_env = simpy.Environment(initial_time=simulation_start)"
   ]
  },
  {
   "cell_type": "markdown",
   "metadata": {},
   "source": [
    "#### 1.1 Create graph"
   ]
  },
  {
   "cell_type": "code",
   "execution_count": 3,
   "metadata": {},
   "outputs": [],
   "source": [
    "graph = nx.Graph()\n",
    "my_env.graph = graph"
   ]
  },
  {
   "cell_type": "code",
   "execution_count": 4,
   "metadata": {},
   "outputs": [],
   "source": [
    "# specify a number of coordinate along your route (coords are: lon, lat)\n",
    "coords = [\n",
    "[4.651810765193616,53.06520633542454],\n",
    "[4.665949515416939,53.06291148049787], \n",
    "[4.678223920527591,53.06107438344198], \n",
    "[4.688183738253528,53.05974704102928], \n",
    "[4.69785320390846 ,53.05828289064841], \n",
    "[4.704381491443237,53.05728100125996], \n",
    "[4.709772259231658,53.05656711326854]] \n",
    "\n",
    "# for each edge (between above coordinates) specify the depth (m)\n",
    "depths = [20, 18, 16, 14, 11, 8]\n",
    "\n",
    "# check of nr of coords and nr of depths align\n",
    "assert len(coords) == len(depths) + 1, 'nr of depths does not correspond to nr of coords'"
   ]
  },
  {
   "cell_type": "code",
   "execution_count": 5,
   "metadata": {},
   "outputs": [],
   "source": [
    "# create a graph based on coords and depths\n",
    "nodes = []\n",
    "path = []\n",
    "positions = {}"
   ]
  },
  {
   "cell_type": "code",
   "execution_count": 6,
   "metadata": {},
   "outputs": [],
   "source": [
    "# add nodes\n",
    "for index, coord in enumerate(coords):\n",
    "    node = shapely.geometry.Point(coord[0], coord[1])\n",
    "    name = \"Node \" + str(index)\n",
    "    \n",
    "    positions[node] = (node.x, node.y)\n",
    "    nodes.append(node)\n",
    "\n",
    "    my_env.graph.add_node(node, **{\"name\": name,\n",
    "                                   \"geometry\": node})"
   ]
  },
  {
   "cell_type": "code",
   "execution_count": 7,
   "metadata": {},
   "outputs": [],
   "source": [
    "# add edges\n",
    "path = [[nodes[i], nodes[i+1]] for i in range(len(nodes)-1)]\n",
    "\n",
    "for index, edge in enumerate(path):\n",
    "    # For the energy consumption calculation we add info to the graph. We need depth info for resistance.\n",
    "    # NB: the CalculateEnergy routine expects the graph to have \"Info\" that contains \"GeneralDepth\" \n",
    "    #     this may not be very generic!\n",
    "    my_env.graph.add_edge(edge[0], edge[1], weight = 1, Info = {\"GeneralDepth\": depths[index]})\n"
   ]
  },
  {
   "cell_type": "code",
   "execution_count": 8,
   "metadata": {},
   "outputs": [],
   "source": [
    "my_env.graph = my_env.graph.to_undirected() \n",
    "my_env.graph = my_env.graph.to_directed() "
   ]
  },
  {
   "cell_type": "code",
   "execution_count": 9,
   "metadata": {},
   "outputs": [
    {
     "data": {
      "image/png": "[encoded data removed]",
      "text/plain": [
       "<Figure size 432x288 with 1 Axes>"
      ]
     },
     "metadata": {},
     "output_type": "display_data"
    }
   ],
   "source": [
    "# show graph\n",
    "nx.draw(my_env.graph, positions)\n",
    "plt.show()"
   ]
  },
  {
   "cell_type": "code",
   "execution_count": 10,
   "metadata": {},
   "outputs": [
    {
     "name": "stdout",
     "output_type": "stream",
     "text": [
      "POINT (4.651810765193616 53.06520633542454), POINT (4.665949515416939 53.06291148049787): general depth 20 m\n",
      "POINT (4.665949515416939 53.06291148049787), POINT (4.651810765193616 53.06520633542454): general depth 20 m\n",
      "POINT (4.665949515416939 53.06291148049787), POINT (4.678223920527591 53.06107438344198): general depth 18 m\n",
      "POINT (4.678223920527591 53.06107438344198), POINT (4.665949515416939 53.06291148049787): general depth 18 m\n",
      "POINT (4.678223920527591 53.06107438344198), POINT (4.688183738253528 53.05974704102928): general depth 16 m\n",
      "POINT (4.688183738253528 53.05974704102928), POINT (4.678223920527591 53.06107438344198): general depth 16 m\n",
      "POINT (4.688183738253528 53.05974704102928), POINT (4.69785320390846 53.05828289064841): general depth 14 m\n",
      "POINT (4.69785320390846 53.05828289064841), POINT (4.688183738253528 53.05974704102928): general depth 14 m\n",
      "POINT (4.69785320390846 53.05828289064841), POINT (4.704381491443237 53.05728100125996): general depth 11 m\n",
      "POINT (4.704381491443237 53.05728100125996), POINT (4.69785320390846 53.05828289064841): general depth 11 m\n",
      "POINT (4.704381491443237 53.05728100125996), POINT (4.709772259231658 53.05656711326854): general depth 8 m\n",
      "POINT (4.709772259231658 53.05656711326854), POINT (4.704381491443237 53.05728100125996): general depth 8 m\n"
     ]
    }
   ],
   "source": [
    "# inspect if properties were set correctly\n",
    "for edge in my_env.graph.edges(data = True):\n",
    "    print('{}, {}: general depth {} m'.format(edge[0], edge[1], graph.edges[(edge[0], edge[1])]['Info']['GeneralDepth']))"
   ]
  },
  {
   "cell_type": "markdown",
   "metadata": {},
   "source": [
    "#### 2. Define object classes"
   ]
  },
  {
   "cell_type": "code",
   "execution_count": 11,
   "metadata": {},
   "outputs": [],
   "source": [
    "# create a Site object based on desired mixin classes\n",
    "Site = type(\n",
    "    \"Site\",\n",
    "    (\n",
    "        openclsim.core.Identifiable,\n",
    "        openclsim.core.Log,\n",
    "        openclsim.core.Locatable,\n",
    "        openclsim.core.HasContainer,\n",
    "        openclsim.core.HasResource,\n",
    "    ),\n",
    "    {},\n",
    ")\n",
    "\n",
    "# create a TransportProcessingResource object based on desired mixin classes\n",
    "TransportProcessingResource = type(\n",
    "    \"TransportProcessingResource\",\n",
    "    (\n",
    "        opentnsim.core.Movable,      # add opentnsim Movable to allow sailing on graph\n",
    "        openclsim.core.Identifiable,\n",
    "        openclsim.core.Log,\n",
    "        openclsim.core.HasResource,\n",
    "        openclsim.core.HasContainer,\n",
    "        openclsim.core.Processor,\n",
    "        # capture extra metadata to make sure we don't have leftover arguments\n",
    "        opentnsim.core.ExtraMetadata\n",
    "    ),\n",
    "    {},\n",
    ")"
   ]
  },
  {
   "cell_type": "markdown",
   "metadata": {},
   "source": [
    "#### 3. Create objects\n",
    "##### 3.1. Create site object(s)"
   ]
  },
  {
   "cell_type": "code",
   "execution_count": 12,
   "metadata": {},
   "outputs": [],
   "source": [
    "# prepare input data for from_site\n",
    "location_from_site = list(my_env.graph.nodes)[0]\n",
    "data_from_site = {\"env\": my_env,\n",
    "                  \"name\": \"from_site\",\n",
    "                  \"geometry\": location_from_site,\n",
    "                  \"capacity\": 100,\n",
    "                  \"level\": 50\n",
    "                 }\n",
    "# instantiate from_site \n",
    "from_site = Site(**data_from_site)\n",
    "\n",
    "# prepare input data for to_site\n",
    "location_to_site = list(my_env.graph.nodes)[-1]\n",
    "data_to_site = {\"env\": my_env,\n",
    "                \"name\": \"to_site\",\n",
    "                \"geometry\": location_to_site,\n",
    "                \"capacity\": 50,\n",
    "                \"level\": 0\n",
    "               }\n",
    "# instantiate to_site \n",
    "to_site = Site(**data_to_site)"
   ]
  },
  {
   "cell_type": "markdown",
   "metadata": {},
   "source": [
    "##### 3.2. Create vessel object(s)"
   ]
  },
  {
   "cell_type": "code",
   "execution_count": 13,
   "metadata": {
    "scrolled": false
   },
   "outputs": [],
   "source": [
    "# # prepare input data for vessel_01\n",
    "# data_vessel01 = {\"env\": my_env,\n",
    "#                  \"name\": \"vessel01\",\n",
    "#                  \"capacity\": 5,\n",
    "#                  \"v\": 10,\n",
    "#                  \"geometry\": location_from_site, \n",
    "# #                  \"loading_rate\": 0.00001,\n",
    "# #                  \"unloading_rate\": 0.00001,\n",
    "# #                  \"capacity\": 4,\n",
    "# #                  \"compute_v\": lambda x: 10,\n",
    "#                  # TODO: confirm these numbers\n",
    "# #                  'v': 3.5,\n",
    "# #                  'P_installed': 2200, \n",
    "# #                  'L_w': 15, \n",
    "# #                  'C_b': 0.85, \n",
    "# #                  'current_year': 2022,  \n",
    "# #                  'c_year': 1990,\n",
    "# #                  'type': 'a',\n",
    "# #                  'B': 11,\n",
    "# #                  'L': 135,\n",
    "# #                  'T': 2.5,\n",
    "#                  'route': [location_from_site, location_to_site]\n",
    "\n",
    "                 \n",
    "#                }\n",
    "# # instantiate vessel_01 \n",
    "# vessel01 = TransportProcessingResource(**data_vessel01)"
   ]
  },
  {
   "cell_type": "code",
   "execution_count": 14,
   "metadata": {},
   "outputs": [],
   "source": [
    "# prepare input data for vessel_01\n",
    "data_vessel01 = {\n",
    "    \"env\": my_env,\n",
    "    \"name\": \"vessel01\",\n",
    "    \"geometry\": location_from_site, \n",
    "    \"capacity\": 5,\n",
    "    \"v\": 10,\n",
    "    \"route\":  nx.dijkstra_path(my_env.graph, location_from_site, location_to_site)\n",
    "}\n",
    "# instantiate vessel_01 \n",
    "vessel01 = TransportProcessingResource(**data_vessel01)\n",
    "assert not vessel01.metadata"
   ]
  },
  {
   "cell_type": "code",
   "execution_count": 15,
   "metadata": {},
   "outputs": [
    {
     "data": {
      "text/plain": [
       "{'v': 10,\n",
       " 'metadata': {},\n",
       " 'env': <simpy.core.Environment at 0x1e65aae35b0>,\n",
       " 'container': <openclsim.core.events_container.EventsContainer at 0x1e65aae3d90>,\n",
       " 'resource': <simpy.resources.resource.Resource at 0x1e65fcb6700>,\n",
       " 'log': {'Message': [], 'Timestamp': [], 'Value': [], 'Geometry': []},\n",
       " 'name': 'vessel01',\n",
       " 'id': '1965273c-284c-46cf-af31-5d2442ad22bc',\n",
       " 'route': [<POINT (4.652 53.065)>,\n",
       "  <POINT (4.666 53.063)>,\n",
       "  <POINT (4.678 53.061)>,\n",
       "  <POINT (4.688 53.06)>,\n",
       "  <POINT (4.698 53.058)>,\n",
       "  <POINT (4.704 53.057)>,\n",
       "  <POINT (4.71 53.057)>],\n",
       " 'complete_path': None,\n",
       " 'geometry': <POINT (4.652 53.065)>,\n",
       " 'node': None,\n",
       " 'wgs84': Geod(ellps='WGS84'),\n",
       " 'on_pass_edge_functions': []}"
      ]
     },
     "execution_count": 15,
     "metadata": {},
     "output_type": "execute_result"
    }
   ],
   "source": [
    "vessel01.__dict__"
   ]
  },
  {
   "cell_type": "markdown",
   "metadata": {},
   "source": [
    "##### 3.3 Create activity/activities"
   ]
  },
  {
   "cell_type": "code",
   "execution_count": 16,
   "metadata": {},
   "outputs": [],
   "source": [
    "# initialise registry\n",
    "registry = {}"
   ]
  },
  {
   "cell_type": "code",
   "execution_count": 17,
   "metadata": {},
   "outputs": [],
   "source": [
    "# activity = openclsim.model.MoveActivity(\n",
    "#     env=my_env,\n",
    "#     name=\"Move activity\",\n",
    "#     registry=registry,\n",
    "#     mover=vessel01,\n",
    "#     destination=location_to_site,\n",
    "# )"
   ]
  },
  {
   "cell_type": "code",
   "execution_count": 18,
   "metadata": {},
   "outputs": [],
   "source": [
    "# create a list of the sub processes\n",
    "sub_processes = [\n",
    "    openclsim.model.MoveActivity(\n",
    "        env=my_env,\n",
    "        name=\"sailing empty\",\n",
    "        registry=registry,\n",
    "        mover=vessel01,\n",
    "        destination=location_from_site,\n",
    "    ),\n",
    "    openclsim.model.MoveActivity(\n",
    "        env=my_env,\n",
    "        name=\"sailing full\",\n",
    "        registry=registry,\n",
    "        mover=vessel01,\n",
    "        destination=location_to_site,\n",
    "    )\n",
    "]\n",
    "\n",
    "# create a 'sequential activity' that is made up of the 'sub_processes'\n",
    "sequential_activity = openclsim.model.SequentialActivity(\n",
    "    env=my_env,\n",
    "    name=\"sequential_activity_subcycle\",\n",
    "    registry=registry,\n",
    "    sub_processes=sub_processes,\n",
    ")\n",
    "\n",
    "# # create a while activity that executes the 'sequential activity' while the stop condition is not triggered \n",
    "# while_activity = model.WhileActivity(\n",
    "#     env=my_env,\n",
    "#     name=\"while_sequential_activity_subcycle\",\n",
    "#     registry=registry,\n",
    "#     sub_processes=[sequential_activity],\n",
    "#     condition_event=[{\"type\": \"container\", \"concept\": to_site, \"state\": \"full\"}],\n",
    "# )\n",
    "\n",
    "activity = openclsim.model.RepeatActivity(\n",
    "    env=my_env,\n",
    "    name=\"repeatit\",\n",
    "    registry=registry,\n",
    "    sub_processes=[sequential_activity],\n",
    "    repetitions=2\n",
    ")"
   ]
  },
  {
   "cell_type": "markdown",
   "metadata": {},
   "source": [
    "#### 4. Register processes and run simpy"
   ]
  },
  {
   "cell_type": "code",
   "execution_count": 19,
   "metadata": {
    "scrolled": false
   },
   "outputs": [],
   "source": [
    "# initate the simpy processes defined in the 'while activity' and run simpy\n",
    "openclsim.model.register_processes([activity])\n",
    "my_env.run()"
   ]
  },
  {
   "cell_type": "markdown",
   "metadata": {},
   "source": [
    "#### 5. Inspect results\n",
    "##### 5.1 Inspect logs"
   ]
  },
  {
   "cell_type": "code",
   "execution_count": 20,
   "metadata": {
    "scrolled": false
   },
   "outputs": [
    {
     "data": {
      "text/html": [
       "<div>\n",
       "<style scoped>\n",
       "    .dataframe tbody tr th:only-of-type {\n",
       "        vertical-align: middle;\n",
       "    }\n",
       "\n",
       "    .dataframe tbody tr th {\n",
       "        vertical-align: top;\n",
       "    }\n",
       "\n",
       "    .dataframe thead th {\n",
       "        text-align: right;\n",
       "    }\n",
       "</style>\n",
       "<table border=\"1\" class=\"dataframe\">\n",
       "  <thead>\n",
       "    <tr style=\"text-align: right;\">\n",
       "      <th></th>\n",
       "      <th>Activity</th>\n",
       "      <th>Timestamp</th>\n",
       "      <th>ActivityState</th>\n",
       "      <th>type</th>\n",
       "      <th>ref</th>\n",
       "    </tr>\n",
       "  </thead>\n",
       "  <tbody>\n",
       "    <tr>\n",
       "      <th>0</th>\n",
       "      <td>sequential_activity_subcycle</td>\n",
       "      <td>1970-01-01 00:00:00.000000</td>\n",
       "      <td>START</td>\n",
       "      <td>NaN</td>\n",
       "      <td>NaN</td>\n",
       "    </tr>\n",
       "    <tr>\n",
       "      <th>1</th>\n",
       "      <td>sequential_activity_subcycle</td>\n",
       "      <td>1970-01-01 00:00:00.000000</td>\n",
       "      <td>START</td>\n",
       "      <td>subprocess</td>\n",
       "      <td>ccdd4648-8317-40cd-8445-e3c338a8563e</td>\n",
       "    </tr>\n",
       "    <tr>\n",
       "      <th>2</th>\n",
       "      <td>sequential_activity_subcycle</td>\n",
       "      <td>1970-01-01 00:06:40.364047</td>\n",
       "      <td>STOP</td>\n",
       "      <td>subprocess</td>\n",
       "      <td>ccdd4648-8317-40cd-8445-e3c338a8563e</td>\n",
       "    </tr>\n",
       "    <tr>\n",
       "      <th>3</th>\n",
       "      <td>sequential_activity_subcycle</td>\n",
       "      <td>1970-01-01 00:06:40.364047</td>\n",
       "      <td>START</td>\n",
       "      <td>subprocess</td>\n",
       "      <td>3079c380-365e-4b84-a930-8ebeda78833e</td>\n",
       "    </tr>\n",
       "    <tr>\n",
       "      <th>4</th>\n",
       "      <td>sequential_activity_subcycle</td>\n",
       "      <td>1970-01-01 00:20:01.034956</td>\n",
       "      <td>STOP</td>\n",
       "      <td>subprocess</td>\n",
       "      <td>3079c380-365e-4b84-a930-8ebeda78833e</td>\n",
       "    </tr>\n",
       "    <tr>\n",
       "      <th>5</th>\n",
       "      <td>sequential_activity_subcycle</td>\n",
       "      <td>1970-01-01 00:20:01.034956</td>\n",
       "      <td>STOP</td>\n",
       "      <td>NaN</td>\n",
       "      <td>NaN</td>\n",
       "    </tr>\n",
       "    <tr>\n",
       "      <th>6</th>\n",
       "      <td>sequential_activity_subcycle</td>\n",
       "      <td>1970-01-01 00:20:01.034956</td>\n",
       "      <td>START</td>\n",
       "      <td>NaN</td>\n",
       "      <td>NaN</td>\n",
       "    </tr>\n",
       "    <tr>\n",
       "      <th>7</th>\n",
       "      <td>sequential_activity_subcycle</td>\n",
       "      <td>1970-01-01 00:20:01.034956</td>\n",
       "      <td>START</td>\n",
       "      <td>subprocess</td>\n",
       "      <td>ccdd4648-8317-40cd-8445-e3c338a8563e</td>\n",
       "    </tr>\n",
       "    <tr>\n",
       "      <th>8</th>\n",
       "      <td>sequential_activity_subcycle</td>\n",
       "      <td>1970-01-01 00:33:21.705864</td>\n",
       "      <td>STOP</td>\n",
       "      <td>subprocess</td>\n",
       "      <td>ccdd4648-8317-40cd-8445-e3c338a8563e</td>\n",
       "    </tr>\n",
       "    <tr>\n",
       "      <th>9</th>\n",
       "      <td>sequential_activity_subcycle</td>\n",
       "      <td>1970-01-01 00:33:21.705864</td>\n",
       "      <td>START</td>\n",
       "      <td>subprocess</td>\n",
       "      <td>3079c380-365e-4b84-a930-8ebeda78833e</td>\n",
       "    </tr>\n",
       "    <tr>\n",
       "      <th>10</th>\n",
       "      <td>sequential_activity_subcycle</td>\n",
       "      <td>1970-01-01 00:46:42.376773</td>\n",
       "      <td>STOP</td>\n",
       "      <td>subprocess</td>\n",
       "      <td>3079c380-365e-4b84-a930-8ebeda78833e</td>\n",
       "    </tr>\n",
       "    <tr>\n",
       "      <th>11</th>\n",
       "      <td>sequential_activity_subcycle</td>\n",
       "      <td>1970-01-01 00:46:42.376773</td>\n",
       "      <td>STOP</td>\n",
       "      <td>NaN</td>\n",
       "      <td>NaN</td>\n",
       "    </tr>\n",
       "  </tbody>\n",
       "</table>\n",
       "</div>"
      ],
      "text/plain": [
       "                        Activity                  Timestamp ActivityState  \\\n",
       "0   sequential_activity_subcycle 1970-01-01 00:00:00.000000         START   \n",
       "1   sequential_activity_subcycle 1970-01-01 00:00:00.000000         START   \n",
       "2   sequential_activity_subcycle 1970-01-01 00:06:40.364047          STOP   \n",
       "3   sequential_activity_subcycle 1970-01-01 00:06:40.364047         START   \n",
       "4   sequential_activity_subcycle 1970-01-01 00:20:01.034956          STOP   \n",
       "5   sequential_activity_subcycle 1970-01-01 00:20:01.034956          STOP   \n",
       "6   sequential_activity_subcycle 1970-01-01 00:20:01.034956         START   \n",
       "7   sequential_activity_subcycle 1970-01-01 00:20:01.034956         START   \n",
       "8   sequential_activity_subcycle 1970-01-01 00:33:21.705864          STOP   \n",
       "9   sequential_activity_subcycle 1970-01-01 00:33:21.705864         START   \n",
       "10  sequential_activity_subcycle 1970-01-01 00:46:42.376773          STOP   \n",
       "11  sequential_activity_subcycle 1970-01-01 00:46:42.376773          STOP   \n",
       "\n",
       "          type                                   ref  \n",
       "0          NaN                                   NaN  \n",
       "1   subprocess  ccdd4648-8317-40cd-8445-e3c338a8563e  \n",
       "2   subprocess  ccdd4648-8317-40cd-8445-e3c338a8563e  \n",
       "3   subprocess  3079c380-365e-4b84-a930-8ebeda78833e  \n",
       "4   subprocess  3079c380-365e-4b84-a930-8ebeda78833e  \n",
       "5          NaN                                   NaN  \n",
       "6          NaN                                   NaN  \n",
       "7   subprocess  ccdd4648-8317-40cd-8445-e3c338a8563e  \n",
       "8   subprocess  ccdd4648-8317-40cd-8445-e3c338a8563e  \n",
       "9   subprocess  3079c380-365e-4b84-a930-8ebeda78833e  \n",
       "10  subprocess  3079c380-365e-4b84-a930-8ebeda78833e  \n",
       "11         NaN                                   NaN  "
      ]
     },
     "execution_count": 20,
     "metadata": {},
     "output_type": "execute_result"
    }
   ],
   "source": [
    "openclsim.plot.get_log_dataframe(sequential_activity, [activity, *sub_processes])"
   ]
  },
  {
   "cell_type": "code",
   "execution_count": 21,
   "metadata": {
    "scrolled": false
   },
   "outputs": [
    {
     "data": {
      "text/html": [
       "<div>\n",
       "<style scoped>\n",
       "    .dataframe tbody tr th:only-of-type {\n",
       "        vertical-align: middle;\n",
       "    }\n",
       "\n",
       "    .dataframe tbody tr th {\n",
       "        vertical-align: top;\n",
       "    }\n",
       "\n",
       "    .dataframe thead th {\n",
       "        text-align: right;\n",
       "    }\n",
       "</style>\n",
       "<table border=\"1\" class=\"dataframe\">\n",
       "  <thead>\n",
       "    <tr style=\"text-align: right;\">\n",
       "      <th></th>\n",
       "      <th>Activity</th>\n",
       "      <th>Timestamp</th>\n",
       "      <th>ActivityState</th>\n",
       "    </tr>\n",
       "  </thead>\n",
       "  <tbody>\n",
       "    <tr>\n",
       "      <th>0</th>\n",
       "      <td>sailing empty</td>\n",
       "      <td>1970-01-01 00:00:00.000000</td>\n",
       "      <td>START</td>\n",
       "    </tr>\n",
       "    <tr>\n",
       "      <th>1</th>\n",
       "      <td>sailing empty</td>\n",
       "      <td>1970-01-01 00:06:40.364047</td>\n",
       "      <td>STOP</td>\n",
       "    </tr>\n",
       "    <tr>\n",
       "      <th>2</th>\n",
       "      <td>sailing empty</td>\n",
       "      <td>1970-01-01 00:20:01.034956</td>\n",
       "      <td>START</td>\n",
       "    </tr>\n",
       "    <tr>\n",
       "      <th>3</th>\n",
       "      <td>sailing empty</td>\n",
       "      <td>1970-01-01 00:33:21.705864</td>\n",
       "      <td>STOP</td>\n",
       "    </tr>\n",
       "  </tbody>\n",
       "</table>\n",
       "</div>"
      ],
      "text/plain": [
       "        Activity                  Timestamp ActivityState\n",
       "0  sailing empty 1970-01-01 00:00:00.000000         START\n",
       "1  sailing empty 1970-01-01 00:06:40.364047          STOP\n",
       "2  sailing empty 1970-01-01 00:20:01.034956         START\n",
       "3  sailing empty 1970-01-01 00:33:21.705864          STOP"
      ]
     },
     "execution_count": 21,
     "metadata": {},
     "output_type": "execute_result"
    }
   ],
   "source": [
    "openclsim.plot.get_log_dataframe(sub_processes[0], [sequential_activity, activity])"
   ]
  },
  {
   "cell_type": "markdown",
   "metadata": {},
   "source": [
    "##### 5.2 Visualise gantt charts"
   ]
  },
  {
   "cell_type": "code",
   "execution_count": 22,
   "metadata": {},
   "outputs": [
    {
     "data": {
      "text/html": [
       "        <script type=\"text/javascript\">\n",
       "        window.PlotlyConfig = {MathJaxConfig: 'local'};\n",
       "        if (window.MathJax && window.MathJax.Hub && window.MathJax.Hub.Config) {window.MathJax.Hub.Config({SVG: {font: \"STIX-Web\"}});}\n",
       "        if (typeof require !== 'undefined') {\n",
       "        require.undef(\"plotly\");\n",
       "        requirejs.config({\n",
       "            paths: {\n",
       "                'plotly': ['https://cdn.plot.ly/plotly-2.12.1.min']\n",
       "            }\n",
       "        });\n",
       "        require(['plotly'], function(Plotly) {\n",
       "            window._Plotly = Plotly;\n",
       "        });\n",
       "        }\n",
       "        </script>\n",
       "        "
      ]
     },
     "metadata": {},
     "output_type": "display_data"
    },
    {
     "data": {
      "application/vnd.plotly.v1+json": {
       "config": {
        "linkText": "Export to plot.ly",
        "plotlyServerURL": "https://plot.ly",
        "showLink": false
       },
       "data": [
        {
         "connectgaps": false,
         "hoverinfo": "y+name",
         "line": {
          "color": "rgb(178,50,119)",
          "width": 10
         },
         "mode": "lines",
         "name": "repeatit",
         "type": "scatter",
         "x": [
          "1970-01-01T00:00:00",
          "1970-01-01T00:00:00",
          "1970-01-01T00:20:01.034956",
          "1970-01-01T00:20:01.034956",
          "1970-01-01T00:20:01.034956",
          "1970-01-01T00:20:01.034956",
          "1970-01-01T00:20:01.034956",
          "1970-01-01T00:46:42.376773",
          "1970-01-01T00:46:42.376773",
          "1970-01-01T00:46:42.376773",
          "1970-01-01T00:20:01.034956",
          "1970-01-01T00:20:01.034956",
          "1970-01-01T00:46:42.376773",
          "1970-01-01T00:46:42.376773",
          "1970-01-01T00:46:42.376773"
         ],
         "y": [
          "repeatit",
          "repeatit",
          "repeatit",
          "repeatit",
          null,
          "repeatit",
          "repeatit",
          "repeatit",
          "repeatit",
          null,
          "repeatit",
          "repeatit",
          "repeatit",
          "repeatit",
          null
         ]
        },
        {
         "connectgaps": false,
         "hoverinfo": "y+name",
         "line": {
          "color": "rgb(242,114,183)",
          "width": 10
         },
         "mode": "lines",
         "name": "sequential_activity_subcycle",
         "type": "scatter",
         "x": [
          "1970-01-01T00:00:00",
          "1970-01-01T00:00:00",
          "1970-01-01T00:06:40.364047",
          "1970-01-01T00:06:40.364047",
          "1970-01-01T00:06:40.364047",
          "1970-01-01T00:06:40.364047",
          "1970-01-01T00:06:40.364047",
          "1970-01-01T00:20:01.034956",
          "1970-01-01T00:20:01.034956",
          "1970-01-01T00:20:01.034956",
          "1970-01-01T00:06:40.364047",
          "1970-01-01T00:06:40.364047",
          "1970-01-01T00:20:01.034956",
          "1970-01-01T00:20:01.034956",
          "1970-01-01T00:20:01.034956",
          "1970-01-01T00:20:01.034956",
          "1970-01-01T00:20:01.034956",
          "1970-01-01T00:33:21.705864",
          "1970-01-01T00:33:21.705864",
          "1970-01-01T00:33:21.705864",
          "1970-01-01T00:33:21.705864",
          "1970-01-01T00:33:21.705864",
          "1970-01-01T00:46:42.376773",
          "1970-01-01T00:46:42.376773",
          "1970-01-01T00:46:42.376773",
          "1970-01-01T00:33:21.705864",
          "1970-01-01T00:33:21.705864",
          "1970-01-01T00:46:42.376773",
          "1970-01-01T00:46:42.376773",
          "1970-01-01T00:46:42.376773"
         ],
         "y": [
          "sequential_activity_subcycle",
          "sequential_activity_subcycle",
          "sequential_activity_subcycle",
          "sequential_activity_subcycle",
          null,
          "sequential_activity_subcycle",
          "sequential_activity_subcycle",
          "sequential_activity_subcycle",
          "sequential_activity_subcycle",
          null,
          "sequential_activity_subcycle",
          "sequential_activity_subcycle",
          "sequential_activity_subcycle",
          "sequential_activity_subcycle",
          null,
          "sequential_activity_subcycle",
          "sequential_activity_subcycle",
          "sequential_activity_subcycle",
          "sequential_activity_subcycle",
          null,
          "sequential_activity_subcycle",
          "sequential_activity_subcycle",
          "sequential_activity_subcycle",
          "sequential_activity_subcycle",
          null,
          "sequential_activity_subcycle",
          "sequential_activity_subcycle",
          "sequential_activity_subcycle",
          "sequential_activity_subcycle",
          null
         ]
        },
        {
         "connectgaps": false,
         "hoverinfo": "y+name",
         "line": {
          "color": "rgb(50,178,247)",
          "width": 10
         },
         "mode": "lines",
         "name": "sailing empty",
         "type": "scatter",
         "x": [
          "1970-01-01T00:00:00",
          "1970-01-01T00:00:00",
          "1970-01-01T00:06:40.364047",
          "1970-01-01T00:06:40.364047",
          "1970-01-01T00:06:40.364047",
          "1970-01-01T00:20:01.034956",
          "1970-01-01T00:20:01.034956",
          "1970-01-01T00:33:21.705864",
          "1970-01-01T00:33:21.705864",
          "1970-01-01T00:33:21.705864"
         ],
         "y": [
          "sailing empty",
          "sailing empty",
          "sailing empty",
          "sailing empty",
          null,
          "sailing empty",
          "sailing empty",
          "sailing empty",
          "sailing empty",
          null
         ]
        },
        {
         "connectgaps": false,
         "hoverinfo": "y+name",
         "line": {
          "color": "rgb(114,242,55)",
          "width": 10
         },
         "mode": "lines",
         "name": "sailing full",
         "type": "scatter",
         "x": [
          "1970-01-01T00:06:40.364047",
          "1970-01-01T00:06:40.364047",
          "1970-01-01T00:20:01.034956",
          "1970-01-01T00:20:01.034956",
          "1970-01-01T00:20:01.034956",
          "1970-01-01T00:33:21.705864",
          "1970-01-01T00:33:21.705864",
          "1970-01-01T00:46:42.376773",
          "1970-01-01T00:46:42.376773",
          "1970-01-01T00:46:42.376773"
         ],
         "y": [
          "sailing full",
          "sailing full",
          "sailing full",
          "sailing full",
          null,
          "sailing full",
          "sailing full",
          "sailing full",
          "sailing full",
          null
         ]
        }
       ],
       "layout": {
        "hovermode": "closest",
        "legend": {
         "orientation": "h",
         "x": 0,
         "y": -0.2
        },
        "template": {
         "data": {
          "bar": [
           {
            "error_x": {
             "color": "#2a3f5f"
            },
            "error_y": {
             "color": "#2a3f5f"
            },
            "marker": {
             "line": {
              "color": "#E5ECF6",
              "width": 0.5
             },
             "pattern": {
              "fillmode": "overlay",
              "size": 10,
              "solidity": 0.2
             }
            },
            "type": "bar"
           }
          ],
          "barpolar": [
           {
            "marker": {
             "line": {
              "color": "#E5ECF6",
              "width": 0.5
             },
             "pattern": {
              "fillmode": "overlay",
              "size": 10,
              "solidity": 0.2
             }
            },
            "type": "barpolar"
           }
          ],
          "carpet": [
           {
            "aaxis": {
             "endlinecolor": "#2a3f5f",
             "gridcolor": "white",
             "linecolor": "white",
             "minorgridcolor": "white",
             "startlinecolor": "#2a3f5f"
            },
            "baxis": {
             "endlinecolor": "#2a3f5f",
             "gridcolor": "white",
             "linecolor": "white",
             "minorgridcolor": "white",
             "startlinecolor": "#2a3f5f"
            },
            "type": "carpet"
           }
          ],
          "choropleth": [
           {
            "colorbar": {
             "outlinewidth": 0,
             "ticks": ""
            },
            "type": "choropleth"
           }
          ],
          "contour": [
           {
            "colorbar": {
             "outlinewidth": 0,
             "ticks": ""
            },
            "colorscale": [
             [
              0,
              "#0d0887"
             ],
             [
              0.1111111111111111,
              "#46039f"
             ],
             [
              0.2222222222222222,
              "#7201a8"
             ],
             [
              0.3333333333333333,
              "#9c179e"
             ],
             [
              0.4444444444444444,
              "#bd3786"
             ],
             [
              0.5555555555555556,
              "#d8576b"
             ],
             [
              0.6666666666666666,
              "#ed7953"
             ],
             [
              0.7777777777777778,
              "#fb9f3a"
             ],
             [
              0.8888888888888888,
              "#fdca26"
             ],
             [
              1,
              "#f0f921"
             ]
            ],
            "type": "contour"
           }
          ],
          "contourcarpet": [
           {
            "colorbar": {
             "outlinewidth": 0,
             "ticks": ""
            },
            "type": "contourcarpet"
           }
          ],
          "heatmap": [
           {
            "colorbar": {
             "outlinewidth": 0,
             "ticks": ""
            },
            "colorscale": [
             [
              0,
              "#0d0887"
             ],
             [
              0.1111111111111111,
              "#46039f"
             ],
             [
              0.2222222222222222,
              "#7201a8"
             ],
             [
              0.3333333333333333,
              "#9c179e"
             ],
             [
              0.4444444444444444,
              "#bd3786"
             ],
             [
              0.5555555555555556,
              "#d8576b"
             ],
             [
              0.6666666666666666,
              "#ed7953"
             ],
             [
              0.7777777777777778,
              "#fb9f3a"
             ],
             [
              0.8888888888888888,
              "#fdca26"
             ],
             [
              1,
              "#f0f921"
             ]
            ],
            "type": "heatmap"
           }
          ],
          "heatmapgl": [
           {
            "colorbar": {
             "outlinewidth": 0,
             "ticks": ""
            },
            "colorscale": [
             [
              0,
              "#0d0887"
             ],
             [
              0.1111111111111111,
              "#46039f"
             ],
             [
              0.2222222222222222,
              "#7201a8"
             ],
             [
              0.3333333333333333,
              "#9c179e"
             ],
             [
              0.4444444444444444,
              "#bd3786"
             ],
             [
              0.5555555555555556,
              "#d8576b"
             ],
             [
              0.6666666666666666,
              "#ed7953"
             ],
             [
              0.7777777777777778,
              "#fb9f3a"
             ],
             [
              0.8888888888888888,
              "#fdca26"
             ],
             [
              1,
              "#f0f921"
             ]
            ],
            "type": "heatmapgl"
           }
          ],
          "histogram": [
           {
            "marker": {
             "pattern": {
              "fillmode": "overlay",
              "size": 10,
              "solidity": 0.2
             }
            },
            "type": "histogram"
           }
          ],
          "histogram2d": [
           {
            "colorbar": {
             "outlinewidth": 0,
             "ticks": ""
            },
            "colorscale": [
             [
              0,
              "#0d0887"
             ],
             [
              0.1111111111111111,
              "#46039f"
             ],
             [
              0.2222222222222222,
              "#7201a8"
             ],
             [
              0.3333333333333333,
              "#9c179e"
             ],
             [
              0.4444444444444444,
              "#bd3786"
             ],
             [
              0.5555555555555556,
              "#d8576b"
             ],
             [
              0.6666666666666666,
              "#ed7953"
             ],
             [
              0.7777777777777778,
              "#fb9f3a"
             ],
             [
              0.8888888888888888,
              "#fdca26"
             ],
             [
              1,
              "#f0f921"
             ]
            ],
            "type": "histogram2d"
           }
          ],
          "histogram2dcontour": [
           {
            "colorbar": {
             "outlinewidth": 0,
             "ticks": ""
            },
            "colorscale": [
             [
              0,
              "#0d0887"
             ],
             [
              0.1111111111111111,
              "#46039f"
             ],
             [
              0.2222222222222222,
              "#7201a8"
             ],
             [
              0.3333333333333333,
              "#9c179e"
             ],
             [
              0.4444444444444444,
              "#bd3786"
             ],
             [
              0.5555555555555556,
              "#d8576b"
             ],
             [
              0.6666666666666666,
              "#ed7953"
             ],
             [
              0.7777777777777778,
              "#fb9f3a"
             ],
             [
              0.8888888888888888,
              "#fdca26"
             ],
             [
              1,
              "#f0f921"
             ]
            ],
            "type": "histogram2dcontour"
           }
          ],
          "mesh3d": [
           {
            "colorbar": {
             "outlinewidth": 0,
             "ticks": ""
            },
            "type": "mesh3d"
           }
          ],
          "parcoords": [
           {
            "line": {
             "colorbar": {
              "outlinewidth": 0,
              "ticks": ""
             }
            },
            "type": "parcoords"
           }
          ],
          "pie": [
           {
            "automargin": true,
            "type": "pie"
           }
          ],
          "scatter": [
           {
            "fillpattern": {
             "fillmode": "overlay",
             "size": 10,
             "solidity": 0.2
            },
            "type": "scatter"
           }
          ],
          "scatter3d": [
           {
            "line": {
             "colorbar": {
              "outlinewidth": 0,
              "ticks": ""
             }
            },
            "marker": {
             "colorbar": {
              "outlinewidth": 0,
              "ticks": ""
             }
            },
            "type": "scatter3d"
           }
          ],
          "scattercarpet": [
           {
            "marker": {
             "colorbar": {
              "outlinewidth": 0,
              "ticks": ""
             }
            },
            "type": "scattercarpet"
           }
          ],
          "scattergeo": [
           {
            "marker": {
             "colorbar": {
              "outlinewidth": 0,
              "ticks": ""
             }
            },
            "type": "scattergeo"
           }
          ],
          "scattergl": [
           {
            "marker": {
             "colorbar": {
              "outlinewidth": 0,
              "ticks": ""
             }
            },
            "type": "scattergl"
           }
          ],
          "scattermapbox": [
           {
            "marker": {
             "colorbar": {
              "outlinewidth": 0,
              "ticks": ""
             }
            },
            "type": "scattermapbox"
           }
          ],
          "scatterpolar": [
           {
            "marker": {
             "colorbar": {
              "outlinewidth": 0,
              "ticks": ""
             }
            },
            "type": "scatterpolar"
           }
          ],
          "scatterpolargl": [
           {
            "marker": {
             "colorbar": {
              "outlinewidth": 0,
              "ticks": ""
             }
            },
            "type": "scatterpolargl"
           }
          ],
          "scatterternary": [
           {
            "marker": {
             "colorbar": {
              "outlinewidth": 0,
              "ticks": ""
             }
            },
            "type": "scatterternary"
           }
          ],
          "surface": [
           {
            "colorbar": {
             "outlinewidth": 0,
             "ticks": ""
            },
            "colorscale": [
             [
              0,
              "#0d0887"
             ],
             [
              0.1111111111111111,
              "#46039f"
             ],
             [
              0.2222222222222222,
              "#7201a8"
             ],
             [
              0.3333333333333333,
              "#9c179e"
             ],
             [
              0.4444444444444444,
              "#bd3786"
             ],
             [
              0.5555555555555556,
              "#d8576b"
             ],
             [
              0.6666666666666666,
              "#ed7953"
             ],
             [
              0.7777777777777778,
              "#fb9f3a"
             ],
             [
              0.8888888888888888,
              "#fdca26"
             ],
             [
              1,
              "#f0f921"
             ]
            ],
            "type": "surface"
           }
          ],
          "table": [
           {
            "cells": {
             "fill": {
              "color": "#EBF0F8"
             },
             "line": {
              "color": "white"
             }
            },
            "header": {
             "fill": {
              "color": "#C8D4E3"
             },
             "line": {
              "color": "white"
             }
            },
            "type": "table"
           }
          ]
         },
         "layout": {
          "annotationdefaults": {
           "arrowcolor": "#2a3f5f",
           "arrowhead": 0,
           "arrowwidth": 1
          },
          "autotypenumbers": "strict",
          "coloraxis": {
           "colorbar": {
            "outlinewidth": 0,
            "ticks": ""
           }
          },
          "colorscale": {
           "diverging": [
            [
             0,
             "#8e0152"
            ],
            [
             0.1,
             "#c51b7d"
            ],
            [
             0.2,
             "#de77ae"
            ],
            [
             0.3,
             "#f1b6da"
            ],
            [
             0.4,
             "#fde0ef"
            ],
            [
             0.5,
             "#f7f7f7"
            ],
            [
             0.6,
             "#e6f5d0"
            ],
            [
             0.7,
             "#b8e186"
            ],
            [
             0.8,
             "#7fbc41"
            ],
            [
             0.9,
             "#4d9221"
            ],
            [
             1,
             "#276419"
            ]
           ],
           "sequential": [
            [
             0,
             "#0d0887"
            ],
            [
             0.1111111111111111,
             "#46039f"
            ],
            [
             0.2222222222222222,
             "#7201a8"
            ],
            [
             0.3333333333333333,
             "#9c179e"
            ],
            [
             0.4444444444444444,
             "#bd3786"
            ],
            [
             0.5555555555555556,
             "#d8576b"
            ],
            [
             0.6666666666666666,
             "#ed7953"
            ],
            [
             0.7777777777777778,
             "#fb9f3a"
            ],
            [
             0.8888888888888888,
             "#fdca26"
            ],
            [
             1,
             "#f0f921"
            ]
           ],
           "sequentialminus": [
            [
             0,
             "#0d0887"
            ],
            [
             0.1111111111111111,
             "#46039f"
            ],
            [
             0.2222222222222222,
             "#7201a8"
            ],
            [
             0.3333333333333333,
             "#9c179e"
            ],
            [
             0.4444444444444444,
             "#bd3786"
            ],
            [
             0.5555555555555556,
             "#d8576b"
            ],
            [
             0.6666666666666666,
             "#ed7953"
            ],
            [
             0.7777777777777778,
             "#fb9f3a"
            ],
            [
             0.8888888888888888,
             "#fdca26"
            ],
            [
             1,
             "#f0f921"
            ]
           ]
          },
          "colorway": [
           "#636efa",
           "#EF553B",
           "#00cc96",
           "#ab63fa",
           "#FFA15A",
           "#19d3f3",
           "#FF6692",
           "#B6E880",
           "#FF97FF",
           "#FECB52"
          ],
          "font": {
           "color": "#2a3f5f"
          },
          "geo": {
           "bgcolor": "white",
           "lakecolor": "white",
           "landcolor": "#E5ECF6",
           "showlakes": true,
           "showland": true,
           "subunitcolor": "white"
          },
          "hoverlabel": {
           "align": "left"
          },
          "hovermode": "closest",
          "mapbox": {
           "style": "light"
          },
          "paper_bgcolor": "white",
          "plot_bgcolor": "#E5ECF6",
          "polar": {
           "angularaxis": {
            "gridcolor": "white",
            "linecolor": "white",
            "ticks": ""
           },
           "bgcolor": "#E5ECF6",
           "radialaxis": {
            "gridcolor": "white",
            "linecolor": "white",
            "ticks": ""
           }
          },
          "scene": {
           "xaxis": {
            "backgroundcolor": "#E5ECF6",
            "gridcolor": "white",
            "gridwidth": 2,
            "linecolor": "white",
            "showbackground": true,
            "ticks": "",
            "zerolinecolor": "white"
           },
           "yaxis": {
            "backgroundcolor": "#E5ECF6",
            "gridcolor": "white",
            "gridwidth": 2,
            "linecolor": "white",
            "showbackground": true,
            "ticks": "",
            "zerolinecolor": "white"
           },
           "zaxis": {
            "backgroundcolor": "#E5ECF6",
            "gridcolor": "white",
            "gridwidth": 2,
            "linecolor": "white",
            "showbackground": true,
            "ticks": "",
            "zerolinecolor": "white"
           }
          },
          "shapedefaults": {
           "line": {
            "color": "#2a3f5f"
           }
          },
          "ternary": {
           "aaxis": {
            "gridcolor": "white",
            "linecolor": "white",
            "ticks": ""
           },
           "baxis": {
            "gridcolor": "white",
            "linecolor": "white",
            "ticks": ""
           },
           "bgcolor": "#E5ECF6",
           "caxis": {
            "gridcolor": "white",
            "linecolor": "white",
            "ticks": ""
           }
          },
          "title": {
           "x": 0.05
          },
          "xaxis": {
           "automargin": true,
           "gridcolor": "white",
           "linecolor": "white",
           "ticks": "",
           "title": {
            "standoff": 15
           },
           "zerolinecolor": "white",
           "zerolinewidth": 2
          },
          "yaxis": {
           "automargin": true,
           "gridcolor": "white",
           "linecolor": "white",
           "ticks": "",
           "title": {
            "standoff": 15
           },
           "zerolinecolor": "white",
           "zerolinewidth": 2
          }
         }
        },
        "title": {
         "text": "GANTT Chart"
        },
        "xaxis": {
         "range": [
          "1970-01-01T00:00:00",
          "1970-01-01T00:46:42.376773"
         ],
         "title": {
          "font": {
           "color": "#7f7f7f",
           "family": "Courier New, monospace",
           "size": 18
          },
          "text": "Time"
         }
        },
        "yaxis": {
         "title": {
          "font": {
           "color": "#7f7f7f",
           "family": "Courier New, monospace",
           "size": 18
          },
          "text": "Activities"
         }
        }
       }
      },
      "text/html": [
       "<div>                            <div id=\"4d214275-c7d2-49a9-8d69-442f8f388e5f\" class=\"plotly-graph-div\" style=\"height:525px; width:100%;\"></div>            <script type=\"text/javascript\">                require([\"plotly\"], function(Plotly) {                    window.PLOTLYENV=window.PLOTLYENV || {};                                    if (document.getElementById(\"4d214275-c7d2-49a9-8d69-442f8f388e5f\")) {                    Plotly.newPlot(                        \"4d214275-c7d2-49a9-8d69-442f8f388e5f\",                        [{\"connectgaps\":false,\"hoverinfo\":\"y+name\",\"line\":{\"color\":\"rgb(178,50,119)\",\"width\":10},\"mode\":\"lines\",\"name\":\"repeatit\",\"x\":[\"1970-01-01T00:00:00\",\"1970-01-01T00:00:00\",\"1970-01-01T00:20:01.034956\",\"1970-01-01T00:20:01.034956\",\"1970-01-01T00:20:01.034956\",\"1970-01-01T00:20:01.034956\",\"1970-01-01T00:20:01.034956\",\"1970-01-01T00:46:42.376773\",\"1970-01-01T00:46:42.376773\",\"1970-01-01T00:46:42.376773\",\"1970-01-01T00:20:01.034956\",\"1970-01-01T00:20:01.034956\",\"1970-01-01T00:46:42.376773\",\"1970-01-01T00:46:42.376773\",\"1970-01-01T00:46:42.376773\"],\"y\":[\"repeatit\",\"repeatit\",\"repeatit\",\"repeatit\",null,\"repeatit\",\"repeatit\",\"repeatit\",\"repeatit\",null,\"repeatit\",\"repeatit\",\"repeatit\",\"repeatit\",null],\"type\":\"scatter\"},{\"connectgaps\":false,\"hoverinfo\":\"y+name\",\"line\":{\"color\":\"rgb(242,114,183)\",\"width\":10},\"mode\":\"lines\",\"name\":\"sequential_activity_subcycle\",\"x\":[\"1970-01-01T00:00:00\",\"1970-01-01T00:00:00\",\"1970-01-01T00:06:40.364047\",\"1970-01-01T00:06:40.364047\",\"1970-01-01T00:06:40.364047\",\"1970-01-01T00:06:40.364047\",\"1970-01-01T00:06:40.364047\",\"1970-01-01T00:20:01.034956\",\"1970-01-01T00:20:01.034956\",\"1970-01-01T00:20:01.034956\",\"1970-01-01T00:06:40.364047\",\"1970-01-01T00:06:40.364047\",\"1970-01-01T00:20:01.034956\",\"1970-01-01T00:20:01.034956\",\"1970-01-01T00:20:01.034956\",\"1970-01-01T00:20:01.034956\",\"1970-01-01T00:20:01.034956\",\"1970-01-01T00:33:21.705864\",\"1970-01-01T00:33:21.705864\",\"1970-01-01T00:33:21.705864\",\"1970-01-01T00:33:21.705864\",\"1970-01-01T00:33:21.705864\",\"1970-01-01T00:46:42.376773\",\"1970-01-01T00:46:42.376773\",\"1970-01-01T00:46:42.376773\",\"1970-01-01T00:33:21.705864\",\"1970-01-01T00:33:21.705864\",\"1970-01-01T00:46:42.376773\",\"1970-01-01T00:46:42.376773\",\"1970-01-01T00:46:42.376773\"],\"y\":[\"sequential_activity_subcycle\",\"sequential_activity_subcycle\",\"sequential_activity_subcycle\",\"sequential_activity_subcycle\",null,\"sequential_activity_subcycle\",\"sequential_activity_subcycle\",\"sequential_activity_subcycle\",\"sequential_activity_subcycle\",null,\"sequential_activity_subcycle\",\"sequential_activity_subcycle\",\"sequential_activity_subcycle\",\"sequential_activity_subcycle\",null,\"sequential_activity_subcycle\",\"sequential_activity_subcycle\",\"sequential_activity_subcycle\",\"sequential_activity_subcycle\",null,\"sequential_activity_subcycle\",\"sequential_activity_subcycle\",\"sequential_activity_subcycle\",\"sequential_activity_subcycle\",null,\"sequential_activity_subcycle\",\"sequential_activity_subcycle\",\"sequential_activity_subcycle\",\"sequential_activity_subcycle\",null],\"type\":\"scatter\"},{\"connectgaps\":false,\"hoverinfo\":\"y+name\",\"line\":{\"color\":\"rgb(50,178,247)\",\"width\":10},\"mode\":\"lines\",\"name\":\"sailing empty\",\"x\":[\"1970-01-01T00:00:00\",\"1970-01-01T00:00:00\",\"1970-01-01T00:06:40.364047\",\"1970-01-01T00:06:40.364047\",\"1970-01-01T00:06:40.364047\",\"1970-01-01T00:20:01.034956\",\"1970-01-01T00:20:01.034956\",\"1970-01-01T00:33:21.705864\",\"1970-01-01T00:33:21.705864\",\"1970-01-01T00:33:21.705864\"],\"y\":[\"sailing empty\",\"sailing empty\",\"sailing empty\",\"sailing empty\",null,\"sailing empty\",\"sailing empty\",\"sailing empty\",\"sailing empty\",null],\"type\":\"scatter\"},{\"connectgaps\":false,\"hoverinfo\":\"y+name\",\"line\":{\"color\":\"rgb(114,242,55)\",\"width\":10},\"mode\":\"lines\",\"name\":\"sailing full\",\"x\":[\"1970-01-01T00:06:40.364047\",\"1970-01-01T00:06:40.364047\",\"1970-01-01T00:20:01.034956\",\"1970-01-01T00:20:01.034956\",\"1970-01-01T00:20:01.034956\",\"1970-01-01T00:33:21.705864\",\"1970-01-01T00:33:21.705864\",\"1970-01-01T00:46:42.376773\",\"1970-01-01T00:46:42.376773\",\"1970-01-01T00:46:42.376773\"],\"y\":[\"sailing full\",\"sailing full\",\"sailing full\",\"sailing full\",null,\"sailing full\",\"sailing full\",\"sailing full\",\"sailing full\",null],\"type\":\"scatter\"}],                        {\"hovermode\":\"closest\",\"legend\":{\"orientation\":\"h\",\"x\":0,\"y\":-0.2},\"template\":{\"data\":{\"barpolar\":[{\"marker\":{\"line\":{\"color\":\"#E5ECF6\",\"width\":0.5},\"pattern\":{\"fillmode\":\"overlay\",\"size\":10,\"solidity\":0.2}},\"type\":\"barpolar\"}],\"bar\":[{\"error_x\":{\"color\":\"#2a3f5f\"},\"error_y\":{\"color\":\"#2a3f5f\"},\"marker\":{\"line\":{\"color\":\"#E5ECF6\",\"width\":0.5},\"pattern\":{\"fillmode\":\"overlay\",\"size\":10,\"solidity\":0.2}},\"type\":\"bar\"}],\"carpet\":[{\"aaxis\":{\"endlinecolor\":\"#2a3f5f\",\"gridcolor\":\"white\",\"linecolor\":\"white\",\"minorgridcolor\":\"white\",\"startlinecolor\":\"#2a3f5f\"},\"baxis\":{\"endlinecolor\":\"#2a3f5f\",\"gridcolor\":\"white\",\"linecolor\":\"white\",\"minorgridcolor\":\"white\",\"startlinecolor\":\"#2a3f5f\"},\"type\":\"carpet\"}],\"choropleth\":[{\"colorbar\":{\"outlinewidth\":0,\"ticks\":\"\"},\"type\":\"choropleth\"}],\"contourcarpet\":[{\"colorbar\":{\"outlinewidth\":0,\"ticks\":\"\"},\"type\":\"contourcarpet\"}],\"contour\":[{\"colorbar\":{\"outlinewidth\":0,\"ticks\":\"\"},\"colorscale\":[[0.0,\"#0d0887\"],[0.1111111111111111,\"#46039f\"],[0.2222222222222222,\"#7201a8\"],[0.3333333333333333,\"#9c179e\"],[0.4444444444444444,\"#bd3786\"],[0.5555555555555556,\"#d8576b\"],[0.6666666666666666,\"#ed7953\"],[0.7777777777777778,\"#fb9f3a\"],[0.8888888888888888,\"#fdca26\"],[1.0,\"#f0f921\"]],\"type\":\"contour\"}],\"heatmapgl\":[{\"colorbar\":{\"outlinewidth\":0,\"ticks\":\"\"},\"colorscale\":[[0.0,\"#0d0887\"],[0.1111111111111111,\"#46039f\"],[0.2222222222222222,\"#7201a8\"],[0.3333333333333333,\"#9c179e\"],[0.4444444444444444,\"#bd3786\"],[0.5555555555555556,\"#d8576b\"],[0.6666666666666666,\"#ed7953\"],[0.7777777777777778,\"#fb9f3a\"],[0.8888888888888888,\"#fdca26\"],[1.0,\"#f0f921\"]],\"type\":\"heatmapgl\"}],\"heatmap\":[{\"colorbar\":{\"outlinewidth\":0,\"ticks\":\"\"},\"colorscale\":[[0.0,\"#0d0887\"],[0.1111111111111111,\"#46039f\"],[0.2222222222222222,\"#7201a8\"],[0.3333333333333333,\"#9c179e\"],[0.4444444444444444,\"#bd3786\"],[0.5555555555555556,\"#d8576b\"],[0.6666666666666666,\"#ed7953\"],[0.7777777777777778,\"#fb9f3a\"],[0.8888888888888888,\"#fdca26\"],[1.0,\"#f0f921\"]],\"type\":\"heatmap\"}],\"histogram2dcontour\":[{\"colorbar\":{\"outlinewidth\":0,\"ticks\":\"\"},\"colorscale\":[[0.0,\"#0d0887\"],[0.1111111111111111,\"#46039f\"],[0.2222222222222222,\"#7201a8\"],[0.3333333333333333,\"#9c179e\"],[0.4444444444444444,\"#bd3786\"],[0.5555555555555556,\"#d8576b\"],[0.6666666666666666,\"#ed7953\"],[0.7777777777777778,\"#fb9f3a\"],[0.8888888888888888,\"#fdca26\"],[1.0,\"#f0f921\"]],\"type\":\"histogram2dcontour\"}],\"histogram2d\":[{\"colorbar\":{\"outlinewidth\":0,\"ticks\":\"\"},\"colorscale\":[[0.0,\"#0d0887\"],[0.1111111111111111,\"#46039f\"],[0.2222222222222222,\"#7201a8\"],[0.3333333333333333,\"#9c179e\"],[0.4444444444444444,\"#bd3786\"],[0.5555555555555556,\"#d8576b\"],[0.6666666666666666,\"#ed7953\"],[0.7777777777777778,\"#fb9f3a\"],[0.8888888888888888,\"#fdca26\"],[1.0,\"#f0f921\"]],\"type\":\"histogram2d\"}],\"histogram\":[{\"marker\":{\"pattern\":{\"fillmode\":\"overlay\",\"size\":10,\"solidity\":0.2}},\"type\":\"histogram\"}],\"mesh3d\":[{\"colorbar\":{\"outlinewidth\":0,\"ticks\":\"\"},\"type\":\"mesh3d\"}],\"parcoords\":[{\"line\":{\"colorbar\":{\"outlinewidth\":0,\"ticks\":\"\"}},\"type\":\"parcoords\"}],\"pie\":[{\"automargin\":true,\"type\":\"pie\"}],\"scatter3d\":[{\"line\":{\"colorbar\":{\"outlinewidth\":0,\"ticks\":\"\"}},\"marker\":{\"colorbar\":{\"outlinewidth\":0,\"ticks\":\"\"}},\"type\":\"scatter3d\"}],\"scattercarpet\":[{\"marker\":{\"colorbar\":{\"outlinewidth\":0,\"ticks\":\"\"}},\"type\":\"scattercarpet\"}],\"scattergeo\":[{\"marker\":{\"colorbar\":{\"outlinewidth\":0,\"ticks\":\"\"}},\"type\":\"scattergeo\"}],\"scattergl\":[{\"marker\":{\"colorbar\":{\"outlinewidth\":0,\"ticks\":\"\"}},\"type\":\"scattergl\"}],\"scattermapbox\":[{\"marker\":{\"colorbar\":{\"outlinewidth\":0,\"ticks\":\"\"}},\"type\":\"scattermapbox\"}],\"scatterpolargl\":[{\"marker\":{\"colorbar\":{\"outlinewidth\":0,\"ticks\":\"\"}},\"type\":\"scatterpolargl\"}],\"scatterpolar\":[{\"marker\":{\"colorbar\":{\"outlinewidth\":0,\"ticks\":\"\"}},\"type\":\"scatterpolar\"}],\"scatter\":[{\"fillpattern\":{\"fillmode\":\"overlay\",\"size\":10,\"solidity\":0.2},\"type\":\"scatter\"}],\"scatterternary\":[{\"marker\":{\"colorbar\":{\"outlinewidth\":0,\"ticks\":\"\"}},\"type\":\"scatterternary\"}],\"surface\":[{\"colorbar\":{\"outlinewidth\":0,\"ticks\":\"\"},\"colorscale\":[[0.0,\"#0d0887\"],[0.1111111111111111,\"#46039f\"],[0.2222222222222222,\"#7201a8\"],[0.3333333333333333,\"#9c179e\"],[0.4444444444444444,\"#bd3786\"],[0.5555555555555556,\"#d8576b\"],[0.6666666666666666,\"#ed7953\"],[0.7777777777777778,\"#fb9f3a\"],[0.8888888888888888,\"#fdca26\"],[1.0,\"#f0f921\"]],\"type\":\"surface\"}],\"table\":[{\"cells\":{\"fill\":{\"color\":\"#EBF0F8\"},\"line\":{\"color\":\"white\"}},\"header\":{\"fill\":{\"color\":\"#C8D4E3\"},\"line\":{\"color\":\"white\"}},\"type\":\"table\"}]},\"layout\":{\"annotationdefaults\":{\"arrowcolor\":\"#2a3f5f\",\"arrowhead\":0,\"arrowwidth\":1},\"autotypenumbers\":\"strict\",\"coloraxis\":{\"colorbar\":{\"outlinewidth\":0,\"ticks\":\"\"}},\"colorscale\":{\"diverging\":[[0,\"#8e0152\"],[0.1,\"#c51b7d\"],[0.2,\"#de77ae\"],[0.3,\"#f1b6da\"],[0.4,\"#fde0ef\"],[0.5,\"#f7f7f7\"],[0.6,\"#e6f5d0\"],[0.7,\"#b8e186\"],[0.8,\"#7fbc41\"],[0.9,\"#4d9221\"],[1,\"#276419\"]],\"sequential\":[[0.0,\"#0d0887\"],[0.1111111111111111,\"#46039f\"],[0.2222222222222222,\"#7201a8\"],[0.3333333333333333,\"#9c179e\"],[0.4444444444444444,\"#bd3786\"],[0.5555555555555556,\"#d8576b\"],[0.6666666666666666,\"#ed7953\"],[0.7777777777777778,\"#fb9f3a\"],[0.8888888888888888,\"#fdca26\"],[1.0,\"#f0f921\"]],\"sequentialminus\":[[0.0,\"#0d0887\"],[0.1111111111111111,\"#46039f\"],[0.2222222222222222,\"#7201a8\"],[0.3333333333333333,\"#9c179e\"],[0.4444444444444444,\"#bd3786\"],[0.5555555555555556,\"#d8576b\"],[0.6666666666666666,\"#ed7953\"],[0.7777777777777778,\"#fb9f3a\"],[0.8888888888888888,\"#fdca26\"],[1.0,\"#f0f921\"]]},\"colorway\":[\"#636efa\",\"#EF553B\",\"#00cc96\",\"#ab63fa\",\"#FFA15A\",\"#19d3f3\",\"#FF6692\",\"#B6E880\",\"#FF97FF\",\"#FECB52\"],\"font\":{\"color\":\"#2a3f5f\"},\"geo\":{\"bgcolor\":\"white\",\"lakecolor\":\"white\",\"landcolor\":\"#E5ECF6\",\"showlakes\":true,\"showland\":true,\"subunitcolor\":\"white\"},\"hoverlabel\":{\"align\":\"left\"},\"hovermode\":\"closest\",\"mapbox\":{\"style\":\"light\"},\"paper_bgcolor\":\"white\",\"plot_bgcolor\":\"#E5ECF6\",\"polar\":{\"angularaxis\":{\"gridcolor\":\"white\",\"linecolor\":\"white\",\"ticks\":\"\"},\"bgcolor\":\"#E5ECF6\",\"radialaxis\":{\"gridcolor\":\"white\",\"linecolor\":\"white\",\"ticks\":\"\"}},\"scene\":{\"xaxis\":{\"backgroundcolor\":\"#E5ECF6\",\"gridcolor\":\"white\",\"gridwidth\":2,\"linecolor\":\"white\",\"showbackground\":true,\"ticks\":\"\",\"zerolinecolor\":\"white\"},\"yaxis\":{\"backgroundcolor\":\"#E5ECF6\",\"gridcolor\":\"white\",\"gridwidth\":2,\"linecolor\":\"white\",\"showbackground\":true,\"ticks\":\"\",\"zerolinecolor\":\"white\"},\"zaxis\":{\"backgroundcolor\":\"#E5ECF6\",\"gridcolor\":\"white\",\"gridwidth\":2,\"linecolor\":\"white\",\"showbackground\":true,\"ticks\":\"\",\"zerolinecolor\":\"white\"}},\"shapedefaults\":{\"line\":{\"color\":\"#2a3f5f\"}},\"ternary\":{\"aaxis\":{\"gridcolor\":\"white\",\"linecolor\":\"white\",\"ticks\":\"\"},\"baxis\":{\"gridcolor\":\"white\",\"linecolor\":\"white\",\"ticks\":\"\"},\"bgcolor\":\"#E5ECF6\",\"caxis\":{\"gridcolor\":\"white\",\"linecolor\":\"white\",\"ticks\":\"\"}},\"title\":{\"x\":0.05},\"xaxis\":{\"automargin\":true,\"gridcolor\":\"white\",\"linecolor\":\"white\",\"ticks\":\"\",\"title\":{\"standoff\":15},\"zerolinecolor\":\"white\",\"zerolinewidth\":2},\"yaxis\":{\"automargin\":true,\"gridcolor\":\"white\",\"linecolor\":\"white\",\"ticks\":\"\",\"title\":{\"standoff\":15},\"zerolinecolor\":\"white\",\"zerolinewidth\":2}}},\"title\":{\"text\":\"GANTT Chart\"},\"xaxis\":{\"range\":[\"1970-01-01T00:00:00\",\"1970-01-01T00:46:42.376773\"],\"title\":{\"font\":{\"color\":\"#7f7f7f\",\"family\":\"Courier New, monospace\",\"size\":18},\"text\":\"Time\"}},\"yaxis\":{\"title\":{\"font\":{\"color\":\"#7f7f7f\",\"family\":\"Courier New, monospace\",\"size\":18},\"text\":\"Activities\"}}},                        {\"responsive\": true}                    ).then(function(){\n",
       "                            \n",
       "var gd = document.getElementById('4d214275-c7d2-49a9-8d69-442f8f388e5f');\n",
       "var x = new MutationObserver(function (mutations, observer) {{\n",
       "        var display = window.getComputedStyle(gd).display;\n",
       "        if (!display || display === 'none') {{\n",
       "            console.log([gd, 'removed!']);\n",
       "            Plotly.purge(gd);\n",
       "            observer.disconnect();\n",
       "        }}\n",
       "}});\n",
       "\n",
       "// Listen for the removal of the full notebook cells\n",
       "var notebookContainer = gd.closest('#notebook-container');\n",
       "if (notebookContainer) {{\n",
       "    x.observe(notebookContainer, {childList: true});\n",
       "}}\n",
       "\n",
       "// Listen for the clearing of the current output cell\n",
       "var outputEl = gd.closest('.output');\n",
       "if (outputEl) {{\n",
       "    x.observe(outputEl, {childList: true});\n",
       "}}\n",
       "\n",
       "                        })                };                });            </script>        </div>"
      ]
     },
     "metadata": {},
     "output_type": "display_data"
    }
   ],
   "source": [
    "openclsim.plot.get_gantt_chart([activity, sequential_activity, *sub_processes])"
   ]
  },
  {
   "cell_type": "markdown",
   "metadata": {},
   "source": [
    "#### Sandbox"
   ]
  },
  {
   "cell_type": "code",
   "execution_count": 23,
   "metadata": {},
   "outputs": [
    {
     "data": {
      "text/html": [
       "<div>\n",
       "<style scoped>\n",
       "    .dataframe tbody tr th:only-of-type {\n",
       "        vertical-align: middle;\n",
       "    }\n",
       "\n",
       "    .dataframe tbody tr th {\n",
       "        vertical-align: top;\n",
       "    }\n",
       "\n",
       "    .dataframe thead th {\n",
       "        text-align: right;\n",
       "    }\n",
       "</style>\n",
       "<table border=\"1\" class=\"dataframe\">\n",
       "  <thead>\n",
       "    <tr style=\"text-align: right;\">\n",
       "      <th></th>\n",
       "      <th>Message</th>\n",
       "      <th>Timestamp</th>\n",
       "      <th>Value</th>\n",
       "      <th>Geometry</th>\n",
       "    </tr>\n",
       "  </thead>\n",
       "  <tbody>\n",
       "    <tr>\n",
       "      <th>0</th>\n",
       "      <td>Sailing from node POINT (4.651810765193616 53....</td>\n",
       "      <td>1970-01-01 01:00:00.000000</td>\n",
       "      <td>0.000000</td>\n",
       "      <td>POINT (4.651810765193616 53.06520633542454)</td>\n",
       "    </tr>\n",
       "    <tr>\n",
       "      <th>1</th>\n",
       "      <td>Sailing from node POINT (4.651810765193616 53....</td>\n",
       "      <td>1970-01-01 01:01:38.163477</td>\n",
       "      <td>0.000000</td>\n",
       "      <td>POINT (4.665949515416939 53.06291148049787)</td>\n",
       "    </tr>\n",
       "    <tr>\n",
       "      <th>2</th>\n",
       "      <td>Sailing from node POINT (4.665949515416939 53....</td>\n",
       "      <td>1970-01-01 01:01:38.163477</td>\n",
       "      <td>0.000000</td>\n",
       "      <td>POINT (4.665949515416939 53.06291148049787)</td>\n",
       "    </tr>\n",
       "    <tr>\n",
       "      <th>3</th>\n",
       "      <td>Sailing from node POINT (4.665949515416939 53....</td>\n",
       "      <td>1970-01-01 01:03:02.954035</td>\n",
       "      <td>0.000000</td>\n",
       "      <td>POINT (4.678223920527591 53.06107438344198)</td>\n",
       "    </tr>\n",
       "    <tr>\n",
       "      <th>4</th>\n",
       "      <td>Sailing from node POINT (4.678223920527591 53....</td>\n",
       "      <td>1970-01-01 01:03:02.954035</td>\n",
       "      <td>0.000000</td>\n",
       "      <td>POINT (4.678223920527591 53.06107438344198)</td>\n",
       "    </tr>\n",
       "    <tr>\n",
       "      <th>5</th>\n",
       "      <td>Sailing from node POINT (4.678223920527591 53....</td>\n",
       "      <td>1970-01-01 01:04:11.342484</td>\n",
       "      <td>0.000000</td>\n",
       "      <td>POINT (4.688183738253528 53.05974704102928)</td>\n",
       "    </tr>\n",
       "    <tr>\n",
       "      <th>6</th>\n",
       "      <td>Sailing from node POINT (4.688183738253528 53....</td>\n",
       "      <td>1970-01-01 01:04:11.342484</td>\n",
       "      <td>0.000000</td>\n",
       "      <td>POINT (4.688183738253528 53.05974704102928)</td>\n",
       "    </tr>\n",
       "    <tr>\n",
       "      <th>7</th>\n",
       "      <td>Sailing from node POINT (4.688183738253528 53....</td>\n",
       "      <td>1970-01-01 01:05:18.188357</td>\n",
       "      <td>0.000000</td>\n",
       "      <td>POINT (4.69785320390846 53.05828289064841)</td>\n",
       "    </tr>\n",
       "    <tr>\n",
       "      <th>8</th>\n",
       "      <td>Sailing from node POINT (4.69785320390846 53.0...</td>\n",
       "      <td>1970-01-01 01:05:18.188357</td>\n",
       "      <td>0.000000</td>\n",
       "      <td>POINT (4.69785320390846 53.05828289064841)</td>\n",
       "    </tr>\n",
       "    <tr>\n",
       "      <th>9</th>\n",
       "      <td>Sailing from node POINT (4.69785320390846 53.0...</td>\n",
       "      <td>1970-01-01 01:06:03.356714</td>\n",
       "      <td>0.000000</td>\n",
       "      <td>POINT (4.704381491443237 53.05728100125996)</td>\n",
       "    </tr>\n",
       "    <tr>\n",
       "      <th>10</th>\n",
       "      <td>Sailing from node POINT (4.704381491443237 53....</td>\n",
       "      <td>1970-01-01 01:06:03.356714</td>\n",
       "      <td>0.000000</td>\n",
       "      <td>POINT (4.704381491443237 53.05728100125996)</td>\n",
       "    </tr>\n",
       "    <tr>\n",
       "      <th>11</th>\n",
       "      <td>Sailing from node POINT (4.704381491443237 53....</td>\n",
       "      <td>1970-01-01 01:06:40.364047</td>\n",
       "      <td>0.000000</td>\n",
       "      <td>POINT (4.709772259231658 53.05656711326854)</td>\n",
       "    </tr>\n",
       "    <tr>\n",
       "      <th>12</th>\n",
       "      <td>Sailing to start</td>\n",
       "      <td>1970-01-01 01:13:20.670908</td>\n",
       "      <td>4003.068613</td>\n",
       "      <td>POINT (4.651810765193616 53.06520633542454)</td>\n",
       "    </tr>\n",
       "    <tr>\n",
       "      <th>13</th>\n",
       "      <td>Sailing from node POINT (4.651810765193616 53....</td>\n",
       "      <td>1970-01-01 01:13:20.670908</td>\n",
       "      <td>0.000000</td>\n",
       "      <td>POINT (4.651810765193616 53.06520633542454)</td>\n",
       "    </tr>\n",
       "    <tr>\n",
       "      <th>14</th>\n",
       "      <td>Sailing from node POINT (4.651810765193616 53....</td>\n",
       "      <td>1970-01-01 01:14:58.834386</td>\n",
       "      <td>0.000000</td>\n",
       "      <td>POINT (4.665949515416939 53.06291148049787)</td>\n",
       "    </tr>\n",
       "    <tr>\n",
       "      <th>15</th>\n",
       "      <td>Sailing from node POINT (4.665949515416939 53....</td>\n",
       "      <td>1970-01-01 01:14:58.834386</td>\n",
       "      <td>0.000000</td>\n",
       "      <td>POINT (4.665949515416939 53.06291148049787)</td>\n",
       "    </tr>\n",
       "    <tr>\n",
       "      <th>16</th>\n",
       "      <td>Sailing from node POINT (4.665949515416939 53....</td>\n",
       "      <td>1970-01-01 01:16:23.624944</td>\n",
       "      <td>0.000000</td>\n",
       "      <td>POINT (4.678223920527591 53.06107438344198)</td>\n",
       "    </tr>\n",
       "    <tr>\n",
       "      <th>17</th>\n",
       "      <td>Sailing from node POINT (4.678223920527591 53....</td>\n",
       "      <td>1970-01-01 01:16:23.624944</td>\n",
       "      <td>0.000000</td>\n",
       "      <td>POINT (4.678223920527591 53.06107438344198)</td>\n",
       "    </tr>\n",
       "    <tr>\n",
       "      <th>18</th>\n",
       "      <td>Sailing from node POINT (4.678223920527591 53....</td>\n",
       "      <td>1970-01-01 01:17:32.013392</td>\n",
       "      <td>0.000000</td>\n",
       "      <td>POINT (4.688183738253528 53.05974704102928)</td>\n",
       "    </tr>\n",
       "    <tr>\n",
       "      <th>19</th>\n",
       "      <td>Sailing from node POINT (4.688183738253528 53....</td>\n",
       "      <td>1970-01-01 01:17:32.013392</td>\n",
       "      <td>0.000000</td>\n",
       "      <td>POINT (4.688183738253528 53.05974704102928)</td>\n",
       "    </tr>\n",
       "    <tr>\n",
       "      <th>20</th>\n",
       "      <td>Sailing from node POINT (4.688183738253528 53....</td>\n",
       "      <td>1970-01-01 01:18:38.859265</td>\n",
       "      <td>0.000000</td>\n",
       "      <td>POINT (4.69785320390846 53.05828289064841)</td>\n",
       "    </tr>\n",
       "    <tr>\n",
       "      <th>21</th>\n",
       "      <td>Sailing from node POINT (4.69785320390846 53.0...</td>\n",
       "      <td>1970-01-01 01:18:38.859265</td>\n",
       "      <td>0.000000</td>\n",
       "      <td>POINT (4.69785320390846 53.05828289064841)</td>\n",
       "    </tr>\n",
       "    <tr>\n",
       "      <th>22</th>\n",
       "      <td>Sailing from node POINT (4.69785320390846 53.0...</td>\n",
       "      <td>1970-01-01 01:19:24.027622</td>\n",
       "      <td>0.000000</td>\n",
       "      <td>POINT (4.704381491443237 53.05728100125996)</td>\n",
       "    </tr>\n",
       "    <tr>\n",
       "      <th>23</th>\n",
       "      <td>Sailing from node POINT (4.704381491443237 53....</td>\n",
       "      <td>1970-01-01 01:19:24.027622</td>\n",
       "      <td>0.000000</td>\n",
       "      <td>POINT (4.704381491443237 53.05728100125996)</td>\n",
       "    </tr>\n",
       "    <tr>\n",
       "      <th>24</th>\n",
       "      <td>Sailing from node POINT (4.704381491443237 53....</td>\n",
       "      <td>1970-01-01 01:20:01.034956</td>\n",
       "      <td>0.000000</td>\n",
       "      <td>POINT (4.709772259231658 53.05656711326854)</td>\n",
       "    </tr>\n",
       "    <tr>\n",
       "      <th>25</th>\n",
       "      <td>Sailing to start</td>\n",
       "      <td>1970-01-01 01:26:41.341817</td>\n",
       "      <td>4003.068613</td>\n",
       "      <td>POINT (4.651810765193616 53.06520633542454)</td>\n",
       "    </tr>\n",
       "    <tr>\n",
       "      <th>26</th>\n",
       "      <td>Sailing from node POINT (4.651810765193616 53....</td>\n",
       "      <td>1970-01-01 01:26:41.341817</td>\n",
       "      <td>0.000000</td>\n",
       "      <td>POINT (4.651810765193616 53.06520633542454)</td>\n",
       "    </tr>\n",
       "    <tr>\n",
       "      <th>27</th>\n",
       "      <td>Sailing from node POINT (4.651810765193616 53....</td>\n",
       "      <td>1970-01-01 01:28:19.505294</td>\n",
       "      <td>0.000000</td>\n",
       "      <td>POINT (4.665949515416939 53.06291148049787)</td>\n",
       "    </tr>\n",
       "    <tr>\n",
       "      <th>28</th>\n",
       "      <td>Sailing from node POINT (4.665949515416939 53....</td>\n",
       "      <td>1970-01-01 01:28:19.505294</td>\n",
       "      <td>0.000000</td>\n",
       "      <td>POINT (4.665949515416939 53.06291148049787)</td>\n",
       "    </tr>\n",
       "    <tr>\n",
       "      <th>29</th>\n",
       "      <td>Sailing from node POINT (4.665949515416939 53....</td>\n",
       "      <td>1970-01-01 01:29:44.295852</td>\n",
       "      <td>0.000000</td>\n",
       "      <td>POINT (4.678223920527591 53.06107438344198)</td>\n",
       "    </tr>\n",
       "    <tr>\n",
       "      <th>30</th>\n",
       "      <td>Sailing from node POINT (4.678223920527591 53....</td>\n",
       "      <td>1970-01-01 01:29:44.295852</td>\n",
       "      <td>0.000000</td>\n",
       "      <td>POINT (4.678223920527591 53.06107438344198)</td>\n",
       "    </tr>\n",
       "    <tr>\n",
       "      <th>31</th>\n",
       "      <td>Sailing from node POINT (4.678223920527591 53....</td>\n",
       "      <td>1970-01-01 01:30:52.684301</td>\n",
       "      <td>0.000000</td>\n",
       "      <td>POINT (4.688183738253528 53.05974704102928)</td>\n",
       "    </tr>\n",
       "    <tr>\n",
       "      <th>32</th>\n",
       "      <td>Sailing from node POINT (4.688183738253528 53....</td>\n",
       "      <td>1970-01-01 01:30:52.684301</td>\n",
       "      <td>0.000000</td>\n",
       "      <td>POINT (4.688183738253528 53.05974704102928)</td>\n",
       "    </tr>\n",
       "    <tr>\n",
       "      <th>33</th>\n",
       "      <td>Sailing from node POINT (4.688183738253528 53....</td>\n",
       "      <td>1970-01-01 01:31:59.530174</td>\n",
       "      <td>0.000000</td>\n",
       "      <td>POINT (4.69785320390846 53.05828289064841)</td>\n",
       "    </tr>\n",
       "    <tr>\n",
       "      <th>34</th>\n",
       "      <td>Sailing from node POINT (4.69785320390846 53.0...</td>\n",
       "      <td>1970-01-01 01:31:59.530174</td>\n",
       "      <td>0.000000</td>\n",
       "      <td>POINT (4.69785320390846 53.05828289064841)</td>\n",
       "    </tr>\n",
       "    <tr>\n",
       "      <th>35</th>\n",
       "      <td>Sailing from node POINT (4.69785320390846 53.0...</td>\n",
       "      <td>1970-01-01 01:32:44.698531</td>\n",
       "      <td>0.000000</td>\n",
       "      <td>POINT (4.704381491443237 53.05728100125996)</td>\n",
       "    </tr>\n",
       "    <tr>\n",
       "      <th>36</th>\n",
       "      <td>Sailing from node POINT (4.704381491443237 53....</td>\n",
       "      <td>1970-01-01 01:32:44.698531</td>\n",
       "      <td>0.000000</td>\n",
       "      <td>POINT (4.704381491443237 53.05728100125996)</td>\n",
       "    </tr>\n",
       "    <tr>\n",
       "      <th>37</th>\n",
       "      <td>Sailing from node POINT (4.704381491443237 53....</td>\n",
       "      <td>1970-01-01 01:33:21.705864</td>\n",
       "      <td>0.000000</td>\n",
       "      <td>POINT (4.709772259231658 53.05656711326854)</td>\n",
       "    </tr>\n",
       "    <tr>\n",
       "      <th>38</th>\n",
       "      <td>Sailing to start</td>\n",
       "      <td>1970-01-01 01:40:02.012725</td>\n",
       "      <td>4003.068613</td>\n",
       "      <td>POINT (4.651810765193616 53.06520633542454)</td>\n",
       "    </tr>\n",
       "    <tr>\n",
       "      <th>39</th>\n",
       "      <td>Sailing from node POINT (4.651810765193616 53....</td>\n",
       "      <td>1970-01-01 01:40:02.012725</td>\n",
       "      <td>0.000000</td>\n",
       "      <td>POINT (4.651810765193616 53.06520633542454)</td>\n",
       "    </tr>\n",
       "    <tr>\n",
       "      <th>40</th>\n",
       "      <td>Sailing from node POINT (4.651810765193616 53....</td>\n",
       "      <td>1970-01-01 01:41:40.176202</td>\n",
       "      <td>0.000000</td>\n",
       "      <td>POINT (4.665949515416939 53.06291148049787)</td>\n",
       "    </tr>\n",
       "    <tr>\n",
       "      <th>41</th>\n",
       "      <td>Sailing from node POINT (4.665949515416939 53....</td>\n",
       "      <td>1970-01-01 01:41:40.176202</td>\n",
       "      <td>0.000000</td>\n",
       "      <td>POINT (4.665949515416939 53.06291148049787)</td>\n",
       "    </tr>\n",
       "    <tr>\n",
       "      <th>42</th>\n",
       "      <td>Sailing from node POINT (4.665949515416939 53....</td>\n",
       "      <td>1970-01-01 01:43:04.966760</td>\n",
       "      <td>0.000000</td>\n",
       "      <td>POINT (4.678223920527591 53.06107438344198)</td>\n",
       "    </tr>\n",
       "    <tr>\n",
       "      <th>43</th>\n",
       "      <td>Sailing from node POINT (4.678223920527591 53....</td>\n",
       "      <td>1970-01-01 01:43:04.966760</td>\n",
       "      <td>0.000000</td>\n",
       "      <td>POINT (4.678223920527591 53.06107438344198)</td>\n",
       "    </tr>\n",
       "    <tr>\n",
       "      <th>44</th>\n",
       "      <td>Sailing from node POINT (4.678223920527591 53....</td>\n",
       "      <td>1970-01-01 01:44:13.355209</td>\n",
       "      <td>0.000000</td>\n",
       "      <td>POINT (4.688183738253528 53.05974704102928)</td>\n",
       "    </tr>\n",
       "    <tr>\n",
       "      <th>45</th>\n",
       "      <td>Sailing from node POINT (4.688183738253528 53....</td>\n",
       "      <td>1970-01-01 01:44:13.355209</td>\n",
       "      <td>0.000000</td>\n",
       "      <td>POINT (4.688183738253528 53.05974704102928)</td>\n",
       "    </tr>\n",
       "    <tr>\n",
       "      <th>46</th>\n",
       "      <td>Sailing from node POINT (4.688183738253528 53....</td>\n",
       "      <td>1970-01-01 01:45:20.201082</td>\n",
       "      <td>0.000000</td>\n",
       "      <td>POINT (4.69785320390846 53.05828289064841)</td>\n",
       "    </tr>\n",
       "    <tr>\n",
       "      <th>47</th>\n",
       "      <td>Sailing from node POINT (4.69785320390846 53.0...</td>\n",
       "      <td>1970-01-01 01:45:20.201082</td>\n",
       "      <td>0.000000</td>\n",
       "      <td>POINT (4.69785320390846 53.05828289064841)</td>\n",
       "    </tr>\n",
       "    <tr>\n",
       "      <th>48</th>\n",
       "      <td>Sailing from node POINT (4.69785320390846 53.0...</td>\n",
       "      <td>1970-01-01 01:46:05.369439</td>\n",
       "      <td>0.000000</td>\n",
       "      <td>POINT (4.704381491443237 53.05728100125996)</td>\n",
       "    </tr>\n",
       "    <tr>\n",
       "      <th>49</th>\n",
       "      <td>Sailing from node POINT (4.704381491443237 53....</td>\n",
       "      <td>1970-01-01 01:46:05.369439</td>\n",
       "      <td>0.000000</td>\n",
       "      <td>POINT (4.704381491443237 53.05728100125996)</td>\n",
       "    </tr>\n",
       "    <tr>\n",
       "      <th>50</th>\n",
       "      <td>Sailing from node POINT (4.704381491443237 53....</td>\n",
       "      <td>1970-01-01 01:46:42.376773</td>\n",
       "      <td>0.000000</td>\n",
       "      <td>POINT (4.709772259231658 53.05656711326854)</td>\n",
       "    </tr>\n",
       "  </tbody>\n",
       "</table>\n",
       "</div>"
      ],
      "text/plain": [
       "                                              Message  \\\n",
       "0   Sailing from node POINT (4.651810765193616 53....   \n",
       "1   Sailing from node POINT (4.651810765193616 53....   \n",
       "2   Sailing from node POINT (4.665949515416939 53....   \n",
       "3   Sailing from node POINT (4.665949515416939 53....   \n",
       "4   Sailing from node POINT (4.678223920527591 53....   \n",
       "5   Sailing from node POINT (4.678223920527591 53....   \n",
       "6   Sailing from node POINT (4.688183738253528 53....   \n",
       "7   Sailing from node POINT (4.688183738253528 53....   \n",
       "8   Sailing from node POINT (4.69785320390846 53.0...   \n",
       "9   Sailing from node POINT (4.69785320390846 53.0...   \n",
       "10  Sailing from node POINT (4.704381491443237 53....   \n",
       "11  Sailing from node POINT (4.704381491443237 53....   \n",
       "12                                   Sailing to start   \n",
       "13  Sailing from node POINT (4.651810765193616 53....   \n",
       "14  Sailing from node POINT (4.651810765193616 53....   \n",
       "15  Sailing from node POINT (4.665949515416939 53....   \n",
       "16  Sailing from node POINT (4.665949515416939 53....   \n",
       "17  Sailing from node POINT (4.678223920527591 53....   \n",
       "18  Sailing from node POINT (4.678223920527591 53....   \n",
       "19  Sailing from node POINT (4.688183738253528 53....   \n",
       "20  Sailing from node POINT (4.688183738253528 53....   \n",
       "21  Sailing from node POINT (4.69785320390846 53.0...   \n",
       "22  Sailing from node POINT (4.69785320390846 53.0...   \n",
       "23  Sailing from node POINT (4.704381491443237 53....   \n",
       "24  Sailing from node POINT (4.704381491443237 53....   \n",
       "25                                   Sailing to start   \n",
       "26  Sailing from node POINT (4.651810765193616 53....   \n",
       "27  Sailing from node POINT (4.651810765193616 53....   \n",
       "28  Sailing from node POINT (4.665949515416939 53....   \n",
       "29  Sailing from node POINT (4.665949515416939 53....   \n",
       "30  Sailing from node POINT (4.678223920527591 53....   \n",
       "31  Sailing from node POINT (4.678223920527591 53....   \n",
       "32  Sailing from node POINT (4.688183738253528 53....   \n",
       "33  Sailing from node POINT (4.688183738253528 53....   \n",
       "34  Sailing from node POINT (4.69785320390846 53.0...   \n",
       "35  Sailing from node POINT (4.69785320390846 53.0...   \n",
       "36  Sailing from node POINT (4.704381491443237 53....   \n",
       "37  Sailing from node POINT (4.704381491443237 53....   \n",
       "38                                   Sailing to start   \n",
       "39  Sailing from node POINT (4.651810765193616 53....   \n",
       "40  Sailing from node POINT (4.651810765193616 53....   \n",
       "41  Sailing from node POINT (4.665949515416939 53....   \n",
       "42  Sailing from node POINT (4.665949515416939 53....   \n",
       "43  Sailing from node POINT (4.678223920527591 53....   \n",
       "44  Sailing from node POINT (4.678223920527591 53....   \n",
       "45  Sailing from node POINT (4.688183738253528 53....   \n",
       "46  Sailing from node POINT (4.688183738253528 53....   \n",
       "47  Sailing from node POINT (4.69785320390846 53.0...   \n",
       "48  Sailing from node POINT (4.69785320390846 53.0...   \n",
       "49  Sailing from node POINT (4.704381491443237 53....   \n",
       "50  Sailing from node POINT (4.704381491443237 53....   \n",
       "\n",
       "                    Timestamp        Value  \\\n",
       "0  1970-01-01 01:00:00.000000     0.000000   \n",
       "1  1970-01-01 01:01:38.163477     0.000000   \n",
       "2  1970-01-01 01:01:38.163477     0.000000   \n",
       "3  1970-01-01 01:03:02.954035     0.000000   \n",
       "4  1970-01-01 01:03:02.954035     0.000000   \n",
       "5  1970-01-01 01:04:11.342484     0.000000   \n",
       "6  1970-01-01 01:04:11.342484     0.000000   \n",
       "7  1970-01-01 01:05:18.188357     0.000000   \n",
       "8  1970-01-01 01:05:18.188357     0.000000   \n",
       "9  1970-01-01 01:06:03.356714     0.000000   \n",
       "10 1970-01-01 01:06:03.356714     0.000000   \n",
       "11 1970-01-01 01:06:40.364047     0.000000   \n",
       "12 1970-01-01 01:13:20.670908  4003.068613   \n",
       "13 1970-01-01 01:13:20.670908     0.000000   \n",
       "14 1970-01-01 01:14:58.834386     0.000000   \n",
       "15 1970-01-01 01:14:58.834386     0.000000   \n",
       "16 1970-01-01 01:16:23.624944     0.000000   \n",
       "17 1970-01-01 01:16:23.624944     0.000000   \n",
       "18 1970-01-01 01:17:32.013392     0.000000   \n",
       "19 1970-01-01 01:17:32.013392     0.000000   \n",
       "20 1970-01-01 01:18:38.859265     0.000000   \n",
       "21 1970-01-01 01:18:38.859265     0.000000   \n",
       "22 1970-01-01 01:19:24.027622     0.000000   \n",
       "23 1970-01-01 01:19:24.027622     0.000000   \n",
       "24 1970-01-01 01:20:01.034956     0.000000   \n",
       "25 1970-01-01 01:26:41.341817  4003.068613   \n",
       "26 1970-01-01 01:26:41.341817     0.000000   \n",
       "27 1970-01-01 01:28:19.505294     0.000000   \n",
       "28 1970-01-01 01:28:19.505294     0.000000   \n",
       "29 1970-01-01 01:29:44.295852     0.000000   \n",
       "30 1970-01-01 01:29:44.295852     0.000000   \n",
       "31 1970-01-01 01:30:52.684301     0.000000   \n",
       "32 1970-01-01 01:30:52.684301     0.000000   \n",
       "33 1970-01-01 01:31:59.530174     0.000000   \n",
       "34 1970-01-01 01:31:59.530174     0.000000   \n",
       "35 1970-01-01 01:32:44.698531     0.000000   \n",
       "36 1970-01-01 01:32:44.698531     0.000000   \n",
       "37 1970-01-01 01:33:21.705864     0.000000   \n",
       "38 1970-01-01 01:40:02.012725  4003.068613   \n",
       "39 1970-01-01 01:40:02.012725     0.000000   \n",
       "40 1970-01-01 01:41:40.176202     0.000000   \n",
       "41 1970-01-01 01:41:40.176202     0.000000   \n",
       "42 1970-01-01 01:43:04.966760     0.000000   \n",
       "43 1970-01-01 01:43:04.966760     0.000000   \n",
       "44 1970-01-01 01:44:13.355209     0.000000   \n",
       "45 1970-01-01 01:44:13.355209     0.000000   \n",
       "46 1970-01-01 01:45:20.201082     0.000000   \n",
       "47 1970-01-01 01:45:20.201082     0.000000   \n",
       "48 1970-01-01 01:46:05.369439     0.000000   \n",
       "49 1970-01-01 01:46:05.369439     0.000000   \n",
       "50 1970-01-01 01:46:42.376773     0.000000   \n",
       "\n",
       "                                       Geometry  \n",
       "0   POINT (4.651810765193616 53.06520633542454)  \n",
       "1   POINT (4.665949515416939 53.06291148049787)  \n",
       "2   POINT (4.665949515416939 53.06291148049787)  \n",
       "3   POINT (4.678223920527591 53.06107438344198)  \n",
       "4   POINT (4.678223920527591 53.06107438344198)  \n",
       "5   POINT (4.688183738253528 53.05974704102928)  \n",
       "6   POINT (4.688183738253528 53.05974704102928)  \n",
       "7    POINT (4.69785320390846 53.05828289064841)  \n",
       "8    POINT (4.69785320390846 53.05828289064841)  \n",
       "9   POINT (4.704381491443237 53.05728100125996)  \n",
       "10  POINT (4.704381491443237 53.05728100125996)  \n",
       "11  POINT (4.709772259231658 53.05656711326854)  \n",
       "12  POINT (4.651810765193616 53.06520633542454)  \n",
       "13  POINT (4.651810765193616 53.06520633542454)  \n",
       "14  POINT (4.665949515416939 53.06291148049787)  \n",
       "15  POINT (4.665949515416939 53.06291148049787)  \n",
       "16  POINT (4.678223920527591 53.06107438344198)  \n",
       "17  POINT (4.678223920527591 53.06107438344198)  \n",
       "18  POINT (4.688183738253528 53.05974704102928)  \n",
       "19  POINT (4.688183738253528 53.05974704102928)  \n",
       "20   POINT (4.69785320390846 53.05828289064841)  \n",
       "21   POINT (4.69785320390846 53.05828289064841)  \n",
       "22  POINT (4.704381491443237 53.05728100125996)  \n",
       "23  POINT (4.704381491443237 53.05728100125996)  \n",
       "24  POINT (4.709772259231658 53.05656711326854)  \n",
       "25  POINT (4.651810765193616 53.06520633542454)  \n",
       "26  POINT (4.651810765193616 53.06520633542454)  \n",
       "27  POINT (4.665949515416939 53.06291148049787)  \n",
       "28  POINT (4.665949515416939 53.06291148049787)  \n",
       "29  POINT (4.678223920527591 53.06107438344198)  \n",
       "30  POINT (4.678223920527591 53.06107438344198)  \n",
       "31  POINT (4.688183738253528 53.05974704102928)  \n",
       "32  POINT (4.688183738253528 53.05974704102928)  \n",
       "33   POINT (4.69785320390846 53.05828289064841)  \n",
       "34   POINT (4.69785320390846 53.05828289064841)  \n",
       "35  POINT (4.704381491443237 53.05728100125996)  \n",
       "36  POINT (4.704381491443237 53.05728100125996)  \n",
       "37  POINT (4.709772259231658 53.05656711326854)  \n",
       "38  POINT (4.651810765193616 53.06520633542454)  \n",
       "39  POINT (4.651810765193616 53.06520633542454)  \n",
       "40  POINT (4.665949515416939 53.06291148049787)  \n",
       "41  POINT (4.665949515416939 53.06291148049787)  \n",
       "42  POINT (4.678223920527591 53.06107438344198)  \n",
       "43  POINT (4.678223920527591 53.06107438344198)  \n",
       "44  POINT (4.688183738253528 53.05974704102928)  \n",
       "45  POINT (4.688183738253528 53.05974704102928)  \n",
       "46   POINT (4.69785320390846 53.05828289064841)  \n",
       "47   POINT (4.69785320390846 53.05828289064841)  \n",
       "48  POINT (4.704381491443237 53.05728100125996)  \n",
       "49  POINT (4.704381491443237 53.05728100125996)  \n",
       "50  POINT (4.709772259231658 53.05656711326854)  "
      ]
     },
     "execution_count": 23,
     "metadata": {},
     "output_type": "execute_result"
    }
   ],
   "source": [
    "pd.DataFrame.from_dict(vessel01.log)"
   ]
  },
  {
   "cell_type": "code",
   "execution_count": null,
   "metadata": {},
   "outputs": [],
   "source": []
  }
 ],
 "metadata": {
  "kernelspec": {
   "display_name": "Python 3 (ipykernel)",
   "language": "python",
   "name": "python3"
  },
  "language_info": {
   "codemirror_mode": {
    "name": "ipython",
    "version": 3
   },
   "file_extension": ".py",
   "mimetype": "text/x-python",
   "name": "python",
   "nbconvert_exporter": "python",
   "pygments_lexer": "ipython3",
   "version": "3.9.12"
  }
 },
 "nbformat": 4,
 "nbformat_minor": 2
}
