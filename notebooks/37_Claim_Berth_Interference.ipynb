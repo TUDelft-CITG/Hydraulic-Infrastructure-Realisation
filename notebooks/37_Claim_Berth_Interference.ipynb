{
 "cells": [
  {
   "cell_type": "code",
   "execution_count": 1,
   "id": "a20ee13c",
   "metadata": {},
   "outputs": [],
   "source": [
    "import networkx as nx  \n",
    "import shapely.geometry\n",
    "import pyproj\n",
    "\n",
    "\n",
    "import datetime as dt\n",
    "import time\n",
    "import simpy\n",
    "import openclsim\n",
    "import opentnsim\n",
    "\n",
    "import pandas as pd\n",
    "import numpy as np\n",
    "\n",
    "import matplotlib.pyplot as plt\n",
    "import folium"
   ]
  },
  {
   "cell_type": "code",
   "execution_count": 2,
   "id": "f6bbdaeb",
   "metadata": {},
   "outputs": [],
   "source": [
    "# setup environment\n",
    "simulation_start = 0\n",
    "my_env = simpy.Environment(initial_time=simulation_start)"
   ]
  },
  {
   "cell_type": "code",
   "execution_count": 3,
   "id": "4fe0acc4",
   "metadata": {},
   "outputs": [],
   "source": [
    "Site = type('Site',\n",
    "            (openclsim.core.Identifiable,\n",
    "             openclsim.core.Log,\n",
    "             openclsim.core.Locatable,\n",
    "             openclsim.core.HasContainer,\n",
    "             openclsim.core.HasResource,), {})\n",
    "\n",
    "Waypoint = type('Way',\n",
    "            (openclsim.core.Identifiable,\n",
    "             openclsim.core.Log,\n",
    "             openclsim.core.Locatable,), {})\n",
    "\n",
    "# create a TransportProcessingResource  object based on desired mixin classes\n",
    "TransportProcessingResource = type(\n",
    "    \"TransportProcessingResource\",\n",
    "    (\n",
    "        openclsim.core.ContainerDependentMovable,      # add opentnsim Movable to allow sailing on graph\n",
    "        openclsim.core.HasResource,\n",
    "        openclsim.core.HasContainer,\n",
    "        openclsim.core.Processor,\n",
    "        openclsim.core.Identifiable,\n",
    "        openclsim.core.Log,\n",
    "        openclsim.core.LoadingFunction,\n",
    "        openclsim.core.UnloadingFunction,\n",
    "        # capture extra metadata to make sure we don't have leftover arguments\n",
    "        opentnsim.core.ExtraMetadata\n",
    "    ),\n",
    "    {},\n",
    ")"
   ]
  },
  {
   "cell_type": "code",
   "execution_count": 4,
   "id": "73605cf2",
   "metadata": {},
   "outputs": [],
   "source": [
    "locations = []\n",
    "\n",
    "location_offshore = shapely.geometry.Point(3.637610458072877, 52.10701582514347)\n",
    "data_offshore = {\"env\": my_env,\n",
    "                 \"name\": \"offshore\",\n",
    "                 \"geometry\": location_offshore,\n",
    "                 \"capacity\": 100,\n",
    "                 \"level\": 0,\n",
    "                }\n",
    "offshore = Site(**data_offshore)\n",
    "\n",
    "location_offshore_waypoint = shapely.geometry.Point(3.86736205092947,52.02761645094746)\n",
    "data_offshore_waypoint = {\"env\": my_env,\n",
    "                 \"name\": \"offshore_waypoint\",\n",
    "                 \"geometry\": location_offshore_waypoint,\n",
    "                }\n",
    "offshore_waypoint = Waypoint(**data_offshore_waypoint)\n",
    "\n",
    "location_berth = shapely.geometry.Point(4.062705498083785,51.95909715255291)\n",
    "data_berth = {\"env\": my_env,\n",
    "              \"name\": \"berth\",\n",
    "              \"geometry\": location_berth,\n",
    "              \"capacity\": 100,\n",
    "              \"level\": 80,\n",
    "              \"nr_resources\": 1\n",
    "             }\n",
    "berth = Site(**data_berth)\n",
    "\n",
    "location_dredging_waypoint = shapely.geometry.Point(4.051396629618069,52.02445392693116)\n",
    "data_dredging_waypoint = {\"env\": my_env,\n",
    "                 \"name\": \"dredging_waypoint\",\n",
    "                 \"geometry\": location_dredging_waypoint,\n",
    "                }\n",
    "dredging_waypoint = Waypoint(**data_dredging_waypoint)\n",
    "\n",
    "location_dump = shapely.geometry.Point(4.1795229742823,52.11590591837503)\n",
    "data_dump = {\"env\": my_env,\n",
    "             \"name\": \"dump\",\n",
    "             \"geometry\": location_dump,\n",
    "             \"capacity\": 100,\n",
    "             \"level\": 0\n",
    "            }\n",
    "dump = Site(**data_dump) "
   ]
  },
  {
   "cell_type": "code",
   "execution_count": 5,
   "id": "a3628d02",
   "metadata": {},
   "outputs": [],
   "source": [
    "path = [\n",
    "    [offshore, offshore_waypoint],\n",
    "    [offshore_waypoint, berth],\n",
    "    [dump, dredging_waypoint],\n",
    "    [dredging_waypoint, berth]]"
   ]
  },
  {
   "cell_type": "code",
   "execution_count": 6,
   "id": "aa706fd2",
   "metadata": {},
   "outputs": [],
   "source": [
    "# three locations (offshore, berth, and dump) are defined to allow the vessels pass the nodes back and forth.\n",
    "# based on the mixins, more attributes are defined for each location.\n",
    "locations = []\n",
    "locations.append(offshore)\n",
    "locations.append(offshore_waypoint)\n",
    "locations.append(berth)\n",
    "locations.append(dredging_waypoint)\n",
    "locations.append(dump)"
   ]
  },
  {
   "cell_type": "code",
   "execution_count": 7,
   "id": "de44cbac",
   "metadata": {},
   "outputs": [
    {
     "name": "stdout",
     "output_type": "stream",
     "text": [
      "Number of edges is 8\n"
     ]
    },
    {
     "data": {
      "image/png": "[encoded data removed]",
      "text/plain": [
       "<Figure size 640x480 with 1 Axes>"
      ]
     },
     "metadata": {},
     "output_type": "display_data"
    }
   ],
   "source": [
    "# we start with creating a graph \n",
    "graph = nx.DiGraph()\n",
    "\n",
    "# a graph is initiated based on the name and gemometry of locations.\n",
    "# other attributes such as store_capacity and initials are not being used for drawing the graph.\n",
    "for location in locations:\n",
    "    graph.add_node(location.name,\n",
    "                geometry = location.geometry)\n",
    "     \n",
    "# add edges\n",
    "for index, edge in enumerate(path):\n",
    "    graph.add_edge(edge[0].name, edge[1].name, weight = 1)\n",
    "    \n",
    "# toggle to undirected and back to directed to make sure all edges are two way traffic\n",
    "graph = graph.to_undirected() \n",
    "graph = graph.to_directed()\n",
    "\n",
    "# create a positions dict for the purpose of plotting\n",
    "positions = {}\n",
    "for location in graph.nodes:\n",
    "    positions[location] = (graph.nodes[location]['geometry'].x, graph.nodes[location]['geometry'].y)\n",
    "    \n",
    "# collect node labels.\n",
    "labels = {}\n",
    "for location in graph.nodes:\n",
    "    labels[location] = location\n",
    "print('Number of edges is {}'.format(len(graph.edges)))\n",
    "\n",
    "# draw edges, nodes and labels.\n",
    "nx.draw_networkx_edges(graph,  pos=positions, width=3, edge_color=\"red\", alpha=1, arrowsize=40)\n",
    "nx.draw_networkx_nodes(graph,  pos=positions, node_color=\"lightblue\", node_size=1500)\n",
    "nx.draw_networkx_labels(graph, pos=positions, labels=labels, font_size=8, font_weight='bold', font_color=\"black\")\n",
    "\n",
    "plt.axis(\"off\")\n",
    "plt.show()"
   ]
  },
  {
   "cell_type": "code",
   "execution_count": 8,
   "id": "2e99c49c",
   "metadata": {},
   "outputs": [],
   "source": [
    "my_env.graph = graph"
   ]
  },
  {
   "cell_type": "code",
   "execution_count": 9,
   "id": "320f4313",
   "metadata": {},
   "outputs": [
    {
     "data": {
      "text/plain": [
       "['offshore', 'offshore_waypoint', 'berth', 'offshore_waypoint', 'offshore']"
      ]
     },
     "metadata": {},
     "output_type": "display_data"
    },
    {
     "data": {
      "text/plain": [
       "['dump', 'dredging_waypoint', 'berth', 'dredging_waypoint', 'dump']"
      ]
     },
     "metadata": {},
     "output_type": "display_data"
    }
   ],
   "source": [
    "path1 = nx.dijkstra_path(my_env.graph, 'offshore', 'berth')\n",
    "path2 = nx.dijkstra_path(my_env.graph, 'berth', 'offshore')\n",
    "path_seagoing = path1+path2[1:]\n",
    "display(path_seagoing)\n",
    "\n",
    "path3 = nx.dijkstra_path(my_env.graph, 'dump', 'berth')\n",
    "path4 = nx.dijkstra_path(my_env.graph, 'berth', 'dump')\n",
    "path_dredging = path3+path4[1:]\n",
    "display(path_dredging)"
   ]
  },
  {
   "cell_type": "code",
   "execution_count": 10,
   "id": "d721dc45",
   "metadata": {},
   "outputs": [],
   "source": [
    "start_location = \"dump\"\n",
    "data_vessel01 = {\n",
    "    \"env\": my_env,\n",
    "    \"name\": \"dredging vessel\",\n",
    "    \"geometry\": locations[[i for i, x in enumerate(locations) if x.name == start_location][0]].geometry, \n",
    "    \"capacity\": 10,\n",
    "    \"loading_rate\": 1,\n",
    "    \"unloading_rate\": 0.5,\n",
    "    \"compute_v\": lambda x: 10 + 2 * x,\n",
    "}\n",
    "# instantiate vessel_01 \n",
    "vessel01 = TransportProcessingResource(**data_vessel01)\n",
    "# assert not vessel01.metadata"
   ]
  },
  {
   "cell_type": "code",
   "execution_count": 11,
   "id": "1b3e5bb0",
   "metadata": {},
   "outputs": [],
   "source": [
    "# prepare input data for vessel_02\n",
    "start_location = \"offshore\"\n",
    "data_vessel02 = {\n",
    "    \"env\": my_env,\n",
    "    \"name\": \"seagoing vessel\",\n",
    "    \"geometry\": locations[[i for i, x in enumerate(locations) if x.name == start_location][0]].geometry, \n",
    "    \"capacity\": 10,\n",
    "    \"level\": 5,\n",
    "    \"loading_rate\": 1,\n",
    "    \"unloading_rate\": 0.5,\n",
    "    \"compute_v\": lambda x: 10 + 2 * x}\n",
    "    \n",
    "vessel02 = TransportProcessingResource(**data_vessel02)\n",
    "assert not vessel02.metadata"
   ]
  },
  {
   "cell_type": "code",
   "execution_count": 12,
   "id": "ad787b99",
   "metadata": {},
   "outputs": [],
   "source": [
    "registry = {}"
   ]
  },
  {
   "cell_type": "code",
   "execution_count": 13,
   "id": "90666ccb",
   "metadata": {},
   "outputs": [],
   "source": [
    "amount = 10\n",
    "duration = 200\n",
    "requested_resources={}\n",
    "\n",
    "a = [\n",
    "    openclsim.model.MoveActivity(\n",
    "        env=my_env,\n",
    "        name=\"sailing empty dredging vessel\",\n",
    "        registry=registry,\n",
    "        mover=vessel01,\n",
    "        destination=berth,\n",
    "        duration=duration,\n",
    "        ),\n",
    "    openclsim.model.ShiftAmountActivity(\n",
    "        env=my_env,\n",
    "        name=\"loading dredging vessel\",\n",
    "        registry=registry,\n",
    "        processor=vessel01,\n",
    "        origin=berth,\n",
    "        destination=vessel01,\n",
    "        amount=amount,\n",
    "        duration=50*amount,\n",
    "        requested_resources=requested_resources,\n",
    "        ),\n",
    "    openclsim.model.MoveActivity(\n",
    "        env=my_env,\n",
    "        name=\"sailing full dredging vessel\",\n",
    "        registry=registry,\n",
    "        mover=vessel01,\n",
    "        destination=dump,\n",
    "        duration=duration,\n",
    "        ),\n",
    "    openclsim.model.ShiftAmountActivity(\n",
    "        env=my_env,\n",
    "        name=\"unloading dredging vessel\",\n",
    "        registry=registry,\n",
    "        processor=vessel01,\n",
    "        origin=vessel01,\n",
    "        destination=dump,\n",
    "        amount=amount,\n",
    "        duration=20*amount,\n",
    "        requested_resources=requested_resources,\n",
    "        )\n",
    "]\n",
    "\n",
    "activities_dredging_vessel = openclsim.model.WhileActivity(\n",
    "            env=my_env,\n",
    "            name=\"while sequential activity dredging vessel\",\n",
    "            registry=registry,\n",
    "            sub_processes=[openclsim.model.SequentialActivity(\n",
    "                env=my_env,\n",
    "                name=f\"sequential activity subcycle dredging vessel\",\n",
    "                registry=registry,\n",
    "                sub_processes= a\n",
    "            )],\n",
    "             condition_event=[{\"type\": \"container\",\n",
    "                              \"concept\": berth,\n",
    "                              \"state\": \"empty\",\n",
    "                              \"id_\":\"default_reservations\"}\n",
    "                             ]\n",
    "        )\n",
    "\n",
    "requested_resources_b = {}\n",
    "b = [\n",
    "    openclsim.model.BasicActivity(\n",
    "        env=my_env,\n",
    "        name=\"interval time\",\n",
    "        registry=registry,\n",
    "        duration=200\n",
    "        ),\n",
    "    openclsim.model.MoveActivity(\n",
    "        env=my_env,\n",
    "        name=\"sailing full seagoing vessel\",\n",
    "        registry=registry,\n",
    "        mover=vessel02,\n",
    "        destination=berth,\n",
    "        duration=duration,\n",
    "        ),\n",
    "    openclsim.model.ShiftAmountActivity(\n",
    "        env=my_env,\n",
    "        name=\"unloading seagoing vessel\",\n",
    "        registry=registry,\n",
    "        processor=vessel02,\n",
    "        origin=vessel02,\n",
    "        destination=berth,\n",
    "        amount=amount,\n",
    "        duration=30*amount,\n",
    "        requested_resources=requested_resources_b,\n",
    "        ),\n",
    "    openclsim.model.MoveActivity(\n",
    "        env=my_env,\n",
    "        name=\"sailing empty seagoing vessel\",\n",
    "        registry=registry,\n",
    "        mover=vessel02,\n",
    "        destination=offshore,\n",
    "        duration=duration,\n",
    "        )\n",
    "]\n",
    "activities_seagoing_vessel = openclsim.model.WhileActivity(\n",
    "            env=my_env,\n",
    "            name=\"while sequential activity dredging vessel\",\n",
    "            registry=registry,\n",
    "            sub_processes= b,\n",
    "            condition_event=[{\"type\": \"container\",\n",
    "                              \"concept\": vessel02,\n",
    "                              \"state\": \"empty\",\n",
    "                              \"id_\":\"default_reservations\",\n",
    "                              }\n",
    "                             ]\n",
    "        )\n",
    "\n"
   ]
  },
  {
   "cell_type": "code",
   "execution_count": 14,
   "id": "c0600ac8",
   "metadata": {},
   "outputs": [],
   "source": [
    "openclsim.model.register_processes([activities_dredging_vessel])\n",
    "openclsim.model.register_processes([activities_seagoing_vessel])"
   ]
  },
  {
   "cell_type": "code",
   "execution_count": 15,
   "id": "e2ba0a83",
   "metadata": {},
   "outputs": [
    {
     "name": "stdout",
     "output_type": "stream",
     "text": [
      "mover dredging vessel destination berth\n",
      "updating to destination geometry POINT (4.062705498083785 51.95909715255291)\n",
      "mover seagoing vessel destination berth\n",
      "updating to destination geometry POINT (4.062705498083785 51.95909715255291)\n",
      "mover dredging vessel destination dump\n",
      "updating to destination geometry POINT (4.1795229742823 52.11590591837503)\n",
      "mover seagoing vessel destination offshore\n",
      "mover dredging vessel destination berth\n",
      "updating to destination geometry POINT (3.637610458072877 52.10701582514347)\n",
      "updating to destination geometry POINT (4.062705498083785 51.95909715255291)\n",
      "mover dredging vessel destination dump\n",
      "updating to destination geometry POINT (4.1795229742823 52.11590591837503)\n",
      "mover dredging vessel destination berth\n",
      "updating to destination geometry POINT (4.062705498083785 51.95909715255291)\n",
      "mover dredging vessel destination dump\n",
      "updating to destination geometry POINT (4.1795229742823 52.11590591837503)\n",
      "mover dredging vessel destination berth\n",
      "updating to destination geometry POINT (4.062705498083785 51.95909715255291)\n",
      "mover dredging vessel destination dump\n",
      "updating to destination geometry POINT (4.1795229742823 52.11590591837503)\n",
      "mover dredging vessel destination berth\n",
      "updating to destination geometry POINT (4.062705498083785 51.95909715255291)\n",
      "mover dredging vessel destination dump\n",
      "updating to destination geometry POINT (4.1795229742823 52.11590591837503)\n",
      "mover dredging vessel destination berth\n",
      "updating to destination geometry POINT (4.062705498083785 51.95909715255291)\n",
      "mover dredging vessel destination dump\n",
      "updating to destination geometry POINT (4.1795229742823 52.11590591837503)\n",
      "mover dredging vessel destination berth\n",
      "updating to destination geometry POINT (4.062705498083785 51.95909715255291)\n",
      "mover dredging vessel destination dump\n",
      "updating to destination geometry POINT (4.1795229742823 52.11590591837503)\n",
      "mover dredging vessel destination berth\n",
      "updating to destination geometry POINT (4.062705498083785 51.95909715255291)\n",
      "mover dredging vessel destination dump\n",
      "updating to destination geometry POINT (4.1795229742823 52.11590591837503)\n",
      "mover dredging vessel destination berth\n",
      "updating to destination geometry POINT (4.062705498083785 51.95909715255291)\n",
      "mover dredging vessel destination dump\n",
      "updating to destination geometry POINT (4.1795229742823 52.11590591837503)\n"
     ]
    }
   ],
   "source": [
    "my_env.run()"
   ]
  },
  {
   "cell_type": "code",
   "execution_count": 16,
   "id": "b27dff8c",
   "metadata": {},
   "outputs": [
    {
     "data": {
      "text/html": [
       "<div>\n",
       "<style scoped>\n",
       "    .dataframe tbody tr th:only-of-type {\n",
       "        vertical-align: middle;\n",
       "    }\n",
       "\n",
       "    .dataframe tbody tr th {\n",
       "        vertical-align: top;\n",
       "    }\n",
       "\n",
       "    .dataframe thead th {\n",
       "        text-align: right;\n",
       "    }\n",
       "</style>\n",
       "<table border=\"1\" class=\"dataframe\">\n",
       "  <thead>\n",
       "    <tr style=\"text-align: right;\">\n",
       "      <th></th>\n",
       "      <th>Activity</th>\n",
       "      <th>Timestamp</th>\n",
       "      <th>ActivityState</th>\n",
       "      <th>geometry</th>\n",
       "      <th>container level</th>\n",
       "    </tr>\n",
       "  </thead>\n",
       "  <tbody>\n",
       "    <tr>\n",
       "      <th>0</th>\n",
       "      <td>sailing full seagoing vessel</td>\n",
       "      <td>1970-01-01 00:03:20</td>\n",
       "      <td>START</td>\n",
       "      <td>POINT (3.637610458072877 52.10701582514347)</td>\n",
       "      <td>5</td>\n",
       "    </tr>\n",
       "    <tr>\n",
       "      <th>1</th>\n",
       "      <td>sailing full seagoing vessel</td>\n",
       "      <td>1970-01-01 00:06:40</td>\n",
       "      <td>STOP</td>\n",
       "      <td>POINT (4.062705498083785 51.95909715255291)</td>\n",
       "      <td>5</td>\n",
       "    </tr>\n",
       "    <tr>\n",
       "      <th>2</th>\n",
       "      <td>unloading seagoing vessel</td>\n",
       "      <td>1970-01-01 00:11:40</td>\n",
       "      <td>START</td>\n",
       "      <td>POINT (4.062705498083785 51.95909715255291)</td>\n",
       "      <td>5</td>\n",
       "    </tr>\n",
       "    <tr>\n",
       "      <th>3</th>\n",
       "      <td>unloading seagoing vessel</td>\n",
       "      <td>1970-01-01 00:16:40</td>\n",
       "      <td>STOP</td>\n",
       "      <td>POINT (4.062705498083785 51.95909715255291)</td>\n",
       "      <td>0</td>\n",
       "    </tr>\n",
       "    <tr>\n",
       "      <th>4</th>\n",
       "      <td>sailing empty seagoing vessel</td>\n",
       "      <td>1970-01-01 00:16:40</td>\n",
       "      <td>START</td>\n",
       "      <td>POINT (4.062705498083785 51.95909715255291)</td>\n",
       "      <td>0</td>\n",
       "    </tr>\n",
       "    <tr>\n",
       "      <th>5</th>\n",
       "      <td>sailing empty seagoing vessel</td>\n",
       "      <td>1970-01-01 00:20:00</td>\n",
       "      <td>STOP</td>\n",
       "      <td>POINT (3.637610458072877 52.10701582514347)</td>\n",
       "      <td>0</td>\n",
       "    </tr>\n",
       "  </tbody>\n",
       "</table>\n",
       "</div>"
      ],
      "text/plain": [
       "                        Activity           Timestamp ActivityState  \\\n",
       "0   sailing full seagoing vessel 1970-01-01 00:03:20         START   \n",
       "1   sailing full seagoing vessel 1970-01-01 00:06:40          STOP   \n",
       "2      unloading seagoing vessel 1970-01-01 00:11:40         START   \n",
       "3      unloading seagoing vessel 1970-01-01 00:16:40          STOP   \n",
       "4  sailing empty seagoing vessel 1970-01-01 00:16:40         START   \n",
       "5  sailing empty seagoing vessel 1970-01-01 00:20:00          STOP   \n",
       "\n",
       "                                      geometry  container level  \n",
       "0  POINT (3.637610458072877 52.10701582514347)                5  \n",
       "1  POINT (4.062705498083785 51.95909715255291)                5  \n",
       "2  POINT (4.062705498083785 51.95909715255291)                5  \n",
       "3  POINT (4.062705498083785 51.95909715255291)                0  \n",
       "4  POINT (4.062705498083785 51.95909715255291)                0  \n",
       "5  POINT (3.637610458072877 52.10701582514347)                0  "
      ]
     },
     "metadata": {},
     "output_type": "display_data"
    }
   ],
   "source": [
    "display(openclsim.plot.get_log_dataframe(vessel02, [activities_seagoing_vessel]))"
   ]
  },
  {
   "cell_type": "code",
   "execution_count": 17,
   "id": "bd8a22b8",
   "metadata": {},
   "outputs": [
    {
     "data": {
      "text/html": [
       "<div>\n",
       "<style scoped>\n",
       "    .dataframe tbody tr th:only-of-type {\n",
       "        vertical-align: middle;\n",
       "    }\n",
       "\n",
       "    .dataframe tbody tr th {\n",
       "        vertical-align: top;\n",
       "    }\n",
       "\n",
       "    .dataframe thead th {\n",
       "        text-align: right;\n",
       "    }\n",
       "</style>\n",
       "<table border=\"1\" class=\"dataframe\">\n",
       "  <thead>\n",
       "    <tr style=\"text-align: right;\">\n",
       "      <th></th>\n",
       "      <th>Activity</th>\n",
       "      <th>Timestamp</th>\n",
       "      <th>ActivityState</th>\n",
       "      <th>geometry</th>\n",
       "      <th>container level</th>\n",
       "    </tr>\n",
       "  </thead>\n",
       "  <tbody>\n",
       "    <tr>\n",
       "      <th>0</th>\n",
       "      <td>sailing empty dredging vessel</td>\n",
       "      <td>1970-01-01 00:00:00</td>\n",
       "      <td>START</td>\n",
       "      <td>POINT (4.1795229742823 52.11590591837503)</td>\n",
       "      <td>0.0</td>\n",
       "    </tr>\n",
       "    <tr>\n",
       "      <th>1</th>\n",
       "      <td>sailing empty dredging vessel</td>\n",
       "      <td>1970-01-01 00:03:20</td>\n",
       "      <td>STOP</td>\n",
       "      <td>POINT (4.062705498083785 51.95909715255291)</td>\n",
       "      <td>0.0</td>\n",
       "    </tr>\n",
       "    <tr>\n",
       "      <th>2</th>\n",
       "      <td>loading dredging vessel</td>\n",
       "      <td>1970-01-01 00:03:20</td>\n",
       "      <td>START</td>\n",
       "      <td>POINT (4.062705498083785 51.95909715255291)</td>\n",
       "      <td>0.0</td>\n",
       "    </tr>\n",
       "    <tr>\n",
       "      <th>3</th>\n",
       "      <td>loading dredging vessel</td>\n",
       "      <td>1970-01-01 00:11:40</td>\n",
       "      <td>STOP</td>\n",
       "      <td>POINT (4.062705498083785 51.95909715255291)</td>\n",
       "      <td>10.0</td>\n",
       "    </tr>\n",
       "    <tr>\n",
       "      <th>4</th>\n",
       "      <td>sailing full dredging vessel</td>\n",
       "      <td>1970-01-01 00:11:40</td>\n",
       "      <td>START</td>\n",
       "      <td>POINT (4.062705498083785 51.95909715255291)</td>\n",
       "      <td>10.0</td>\n",
       "    </tr>\n",
       "    <tr>\n",
       "      <th>...</th>\n",
       "      <td>...</td>\n",
       "      <td>...</td>\n",
       "      <td>...</td>\n",
       "      <td>...</td>\n",
       "      <td>...</td>\n",
       "    </tr>\n",
       "    <tr>\n",
       "      <th>67</th>\n",
       "      <td>loading dredging vessel</td>\n",
       "      <td>1970-01-01 02:38:20</td>\n",
       "      <td>STOP</td>\n",
       "      <td>POINT (4.062705498083785 51.95909715255291)</td>\n",
       "      <td>5.0</td>\n",
       "    </tr>\n",
       "    <tr>\n",
       "      <th>68</th>\n",
       "      <td>sailing full dredging vessel</td>\n",
       "      <td>1970-01-01 02:38:20</td>\n",
       "      <td>START</td>\n",
       "      <td>POINT (4.062705498083785 51.95909715255291)</td>\n",
       "      <td>5.0</td>\n",
       "    </tr>\n",
       "    <tr>\n",
       "      <th>69</th>\n",
       "      <td>sailing full dredging vessel</td>\n",
       "      <td>1970-01-01 02:41:40</td>\n",
       "      <td>STOP</td>\n",
       "      <td>POINT (4.1795229742823 52.11590591837503)</td>\n",
       "      <td>5.0</td>\n",
       "    </tr>\n",
       "    <tr>\n",
       "      <th>70</th>\n",
       "      <td>unloading dredging vessel</td>\n",
       "      <td>1970-01-01 02:41:40</td>\n",
       "      <td>START</td>\n",
       "      <td>POINT (4.1795229742823 52.11590591837503)</td>\n",
       "      <td>5.0</td>\n",
       "    </tr>\n",
       "    <tr>\n",
       "      <th>71</th>\n",
       "      <td>unloading dredging vessel</td>\n",
       "      <td>1970-01-01 02:45:00</td>\n",
       "      <td>STOP</td>\n",
       "      <td>POINT (4.1795229742823 52.11590591837503)</td>\n",
       "      <td>0.0</td>\n",
       "    </tr>\n",
       "  </tbody>\n",
       "</table>\n",
       "<p>72 rows × 5 columns</p>\n",
       "</div>"
      ],
      "text/plain": [
       "                         Activity           Timestamp ActivityState  \\\n",
       "0   sailing empty dredging vessel 1970-01-01 00:00:00         START   \n",
       "1   sailing empty dredging vessel 1970-01-01 00:03:20          STOP   \n",
       "2         loading dredging vessel 1970-01-01 00:03:20         START   \n",
       "3         loading dredging vessel 1970-01-01 00:11:40          STOP   \n",
       "4    sailing full dredging vessel 1970-01-01 00:11:40         START   \n",
       "..                            ...                 ...           ...   \n",
       "67        loading dredging vessel 1970-01-01 02:38:20          STOP   \n",
       "68   sailing full dredging vessel 1970-01-01 02:38:20         START   \n",
       "69   sailing full dredging vessel 1970-01-01 02:41:40          STOP   \n",
       "70      unloading dredging vessel 1970-01-01 02:41:40         START   \n",
       "71      unloading dredging vessel 1970-01-01 02:45:00          STOP   \n",
       "\n",
       "                                       geometry  container level  \n",
       "0     POINT (4.1795229742823 52.11590591837503)              0.0  \n",
       "1   POINT (4.062705498083785 51.95909715255291)              0.0  \n",
       "2   POINT (4.062705498083785 51.95909715255291)              0.0  \n",
       "3   POINT (4.062705498083785 51.95909715255291)             10.0  \n",
       "4   POINT (4.062705498083785 51.95909715255291)             10.0  \n",
       "..                                          ...              ...  \n",
       "67  POINT (4.062705498083785 51.95909715255291)              5.0  \n",
       "68  POINT (4.062705498083785 51.95909715255291)              5.0  \n",
       "69    POINT (4.1795229742823 52.11590591837503)              5.0  \n",
       "70    POINT (4.1795229742823 52.11590591837503)              5.0  \n",
       "71    POINT (4.1795229742823 52.11590591837503)              0.0  \n",
       "\n",
       "[72 rows x 5 columns]"
      ]
     },
     "metadata": {},
     "output_type": "display_data"
    }
   ],
   "source": [
    "display(openclsim.plot.get_log_dataframe(vessel01, [activities_dredging_vessel]))"
   ]
  },
  {
   "cell_type": "code",
   "execution_count": 18,
   "id": "8f63fc97",
   "metadata": {},
   "outputs": [
    {
     "data": {
      "text/html": [
       "        <script type=\"text/javascript\">\n",
       "        window.PlotlyConfig = {MathJaxConfig: 'local'};\n",
       "        if (window.MathJax && window.MathJax.Hub && window.MathJax.Hub.Config) {window.MathJax.Hub.Config({SVG: {font: \"STIX-Web\"}});}\n",
       "        if (typeof require !== 'undefined') {\n",
       "        require.undef(\"plotly\");\n",
       "        requirejs.config({\n",
       "            paths: {\n",
       "                'plotly': ['https://cdn.plot.ly/plotly-2.18.0.min']\n",
       "            }\n",
       "        });\n",
       "        require(['plotly'], function(Plotly) {\n",
       "            window._Plotly = Plotly;\n",
       "        });\n",
       "        }\n",
       "        </script>\n",
       "        "
      ]
     },
     "metadata": {},
     "output_type": "display_data"
    },
    {
     "data": {
      "application/vnd.plotly.v1+json": {
       "config": {
        "linkText": "Export to plot.ly",
        "plotlyServerURL": "https://plot.ly",
        "showLink": false
       },
       "data": [
        {
         "connectgaps": false,
         "hoverinfo": "y+name",
         "line": {
          "color": "rgb(98,137,199)",
          "width": 10
         },
         "mode": "lines",
         "name": "loading dredging vessel",
         "type": "scatter",
         "x": [
          "1970-01-01T00:03:20",
          "1970-01-01T00:03:20",
          "1970-01-01T00:11:40",
          "1970-01-01T00:11:40",
          "1970-01-01T00:11:40",
          "1970-01-01T00:21:40",
          "1970-01-01T00:21:40",
          "1970-01-01T00:30:00",
          "1970-01-01T00:30:00",
          "1970-01-01T00:30:00",
          "1970-01-01T00:40:00",
          "1970-01-01T00:40:00",
          "1970-01-01T00:48:20",
          "1970-01-01T00:48:20",
          "1970-01-01T00:48:20",
          "1970-01-01T00:58:20",
          "1970-01-01T00:58:20",
          "1970-01-01T01:06:40",
          "1970-01-01T01:06:40",
          "1970-01-01T01:06:40",
          "1970-01-01T01:16:40",
          "1970-01-01T01:16:40",
          "1970-01-01T01:25:00",
          "1970-01-01T01:25:00",
          "1970-01-01T01:25:00",
          "1970-01-01T01:35:00",
          "1970-01-01T01:35:00",
          "1970-01-01T01:43:20",
          "1970-01-01T01:43:20",
          "1970-01-01T01:43:20",
          "1970-01-01T01:53:20",
          "1970-01-01T01:53:20",
          "1970-01-01T02:01:40",
          "1970-01-01T02:01:40",
          "1970-01-01T02:01:40",
          "1970-01-01T02:11:40",
          "1970-01-01T02:11:40",
          "1970-01-01T02:20:00",
          "1970-01-01T02:20:00",
          "1970-01-01T02:20:00",
          "1970-01-01T02:30:00",
          "1970-01-01T02:30:00",
          "1970-01-01T02:38:20",
          "1970-01-01T02:38:20",
          "1970-01-01T02:38:20"
         ],
         "y": [
          "dredging vessel",
          "dredging vessel",
          "dredging vessel",
          "dredging vessel",
          null,
          "dredging vessel",
          "dredging vessel",
          "dredging vessel",
          "dredging vessel",
          null,
          "dredging vessel",
          "dredging vessel",
          "dredging vessel",
          "dredging vessel",
          null,
          "dredging vessel",
          "dredging vessel",
          "dredging vessel",
          "dredging vessel",
          null,
          "dredging vessel",
          "dredging vessel",
          "dredging vessel",
          "dredging vessel",
          null,
          "dredging vessel",
          "dredging vessel",
          "dredging vessel",
          "dredging vessel",
          null,
          "dredging vessel",
          "dredging vessel",
          "dredging vessel",
          "dredging vessel",
          null,
          "dredging vessel",
          "dredging vessel",
          "dredging vessel",
          "dredging vessel",
          null,
          "dredging vessel",
          "dredging vessel",
          "dredging vessel",
          "dredging vessel",
          null
         ]
        },
        {
         "connectgaps": false,
         "hoverinfo": "y+name",
         "line": {
          "color": "rgb(134,173,235)",
          "width": 10
         },
         "mode": "lines",
         "name": "sailing empty dredging vessel",
         "type": "scatter",
         "x": [
          "1970-01-01T00:00:00",
          "1970-01-01T00:00:00",
          "1970-01-01T00:03:20",
          "1970-01-01T00:03:20",
          "1970-01-01T00:03:20",
          "1970-01-01T00:18:20",
          "1970-01-01T00:18:20",
          "1970-01-01T00:21:40",
          "1970-01-01T00:21:40",
          "1970-01-01T00:21:40",
          "1970-01-01T00:36:40",
          "1970-01-01T00:36:40",
          "1970-01-01T00:40:00",
          "1970-01-01T00:40:00",
          "1970-01-01T00:40:00",
          "1970-01-01T00:55:00",
          "1970-01-01T00:55:00",
          "1970-01-01T00:58:20",
          "1970-01-01T00:58:20",
          "1970-01-01T00:58:20",
          "1970-01-01T01:13:20",
          "1970-01-01T01:13:20",
          "1970-01-01T01:16:40",
          "1970-01-01T01:16:40",
          "1970-01-01T01:16:40",
          "1970-01-01T01:31:40",
          "1970-01-01T01:31:40",
          "1970-01-01T01:35:00",
          "1970-01-01T01:35:00",
          "1970-01-01T01:35:00",
          "1970-01-01T01:50:00",
          "1970-01-01T01:50:00",
          "1970-01-01T01:53:20",
          "1970-01-01T01:53:20",
          "1970-01-01T01:53:20",
          "1970-01-01T02:08:20",
          "1970-01-01T02:08:20",
          "1970-01-01T02:11:40",
          "1970-01-01T02:11:40",
          "1970-01-01T02:11:40",
          "1970-01-01T02:26:40",
          "1970-01-01T02:26:40",
          "1970-01-01T02:30:00",
          "1970-01-01T02:30:00",
          "1970-01-01T02:30:00"
         ],
         "y": [
          "dredging vessel",
          "dredging vessel",
          "dredging vessel",
          "dredging vessel",
          null,
          "dredging vessel",
          "dredging vessel",
          "dredging vessel",
          "dredging vessel",
          null,
          "dredging vessel",
          "dredging vessel",
          "dredging vessel",
          "dredging vessel",
          null,
          "dredging vessel",
          "dredging vessel",
          "dredging vessel",
          "dredging vessel",
          null,
          "dredging vessel",
          "dredging vessel",
          "dredging vessel",
          "dredging vessel",
          null,
          "dredging vessel",
          "dredging vessel",
          "dredging vessel",
          "dredging vessel",
          null,
          "dredging vessel",
          "dredging vessel",
          "dredging vessel",
          "dredging vessel",
          null,
          "dredging vessel",
          "dredging vessel",
          "dredging vessel",
          "dredging vessel",
          null,
          "dredging vessel",
          "dredging vessel",
          "dredging vessel",
          "dredging vessel",
          null
         ]
        },
        {
         "connectgaps": false,
         "hoverinfo": "y+name",
         "line": {
          "color": "rgb(170,209,15)",
          "width": 10
         },
         "mode": "lines",
         "name": "unloading dredging vessel",
         "type": "scatter",
         "x": [
          "1970-01-01T00:15:00",
          "1970-01-01T00:15:00",
          "1970-01-01T00:18:20",
          "1970-01-01T00:18:20",
          "1970-01-01T00:18:20",
          "1970-01-01T00:33:20",
          "1970-01-01T00:33:20",
          "1970-01-01T00:36:40",
          "1970-01-01T00:36:40",
          "1970-01-01T00:36:40",
          "1970-01-01T00:51:40",
          "1970-01-01T00:51:40",
          "1970-01-01T00:55:00",
          "1970-01-01T00:55:00",
          "1970-01-01T00:55:00",
          "1970-01-01T01:10:00",
          "1970-01-01T01:10:00",
          "1970-01-01T01:13:20",
          "1970-01-01T01:13:20",
          "1970-01-01T01:13:20",
          "1970-01-01T01:28:20",
          "1970-01-01T01:28:20",
          "1970-01-01T01:31:40",
          "1970-01-01T01:31:40",
          "1970-01-01T01:31:40",
          "1970-01-01T01:46:40",
          "1970-01-01T01:46:40",
          "1970-01-01T01:50:00",
          "1970-01-01T01:50:00",
          "1970-01-01T01:50:00",
          "1970-01-01T02:05:00",
          "1970-01-01T02:05:00",
          "1970-01-01T02:08:20",
          "1970-01-01T02:08:20",
          "1970-01-01T02:08:20",
          "1970-01-01T02:23:20",
          "1970-01-01T02:23:20",
          "1970-01-01T02:26:40",
          "1970-01-01T02:26:40",
          "1970-01-01T02:26:40",
          "1970-01-01T02:41:40",
          "1970-01-01T02:41:40",
          "1970-01-01T02:45:00",
          "1970-01-01T02:45:00",
          "1970-01-01T02:45:00"
         ],
         "y": [
          "dredging vessel",
          "dredging vessel",
          "dredging vessel",
          "dredging vessel",
          null,
          "dredging vessel",
          "dredging vessel",
          "dredging vessel",
          "dredging vessel",
          null,
          "dredging vessel",
          "dredging vessel",
          "dredging vessel",
          "dredging vessel",
          null,
          "dredging vessel",
          "dredging vessel",
          "dredging vessel",
          "dredging vessel",
          null,
          "dredging vessel",
          "dredging vessel",
          "dredging vessel",
          "dredging vessel",
          null,
          "dredging vessel",
          "dredging vessel",
          "dredging vessel",
          "dredging vessel",
          null,
          "dredging vessel",
          "dredging vessel",
          "dredging vessel",
          "dredging vessel",
          null,
          "dredging vessel",
          "dredging vessel",
          "dredging vessel",
          "dredging vessel",
          null,
          "dredging vessel",
          "dredging vessel",
          "dredging vessel",
          "dredging vessel",
          null
         ]
        },
        {
         "connectgaps": false,
         "hoverinfo": "y+name",
         "line": {
          "color": "rgb(206,245,51)",
          "width": 10
         },
         "mode": "lines",
         "name": "sailing full dredging vessel",
         "type": "scatter",
         "x": [
          "1970-01-01T00:11:40",
          "1970-01-01T00:11:40",
          "1970-01-01T00:15:00",
          "1970-01-01T00:15:00",
          "1970-01-01T00:15:00",
          "1970-01-01T00:30:00",
          "1970-01-01T00:30:00",
          "1970-01-01T00:33:20",
          "1970-01-01T00:33:20",
          "1970-01-01T00:33:20",
          "1970-01-01T00:48:20",
          "1970-01-01T00:48:20",
          "1970-01-01T00:51:40",
          "1970-01-01T00:51:40",
          "1970-01-01T00:51:40",
          "1970-01-01T01:06:40",
          "1970-01-01T01:06:40",
          "1970-01-01T01:10:00",
          "1970-01-01T01:10:00",
          "1970-01-01T01:10:00",
          "1970-01-01T01:25:00",
          "1970-01-01T01:25:00",
          "1970-01-01T01:28:20",
          "1970-01-01T01:28:20",
          "1970-01-01T01:28:20",
          "1970-01-01T01:43:20",
          "1970-01-01T01:43:20",
          "1970-01-01T01:46:40",
          "1970-01-01T01:46:40",
          "1970-01-01T01:46:40",
          "1970-01-01T02:01:40",
          "1970-01-01T02:01:40",
          "1970-01-01T02:05:00",
          "1970-01-01T02:05:00",
          "1970-01-01T02:05:00",
          "1970-01-01T02:20:00",
          "1970-01-01T02:20:00",
          "1970-01-01T02:23:20",
          "1970-01-01T02:23:20",
          "1970-01-01T02:23:20",
          "1970-01-01T02:38:20",
          "1970-01-01T02:38:20",
          "1970-01-01T02:41:40",
          "1970-01-01T02:41:40",
          "1970-01-01T02:41:40"
         ],
         "y": [
          "dredging vessel",
          "dredging vessel",
          "dredging vessel",
          "dredging vessel",
          null,
          "dredging vessel",
          "dredging vessel",
          "dredging vessel",
          "dredging vessel",
          null,
          "dredging vessel",
          "dredging vessel",
          "dredging vessel",
          "dredging vessel",
          null,
          "dredging vessel",
          "dredging vessel",
          "dredging vessel",
          "dredging vessel",
          null,
          "dredging vessel",
          "dredging vessel",
          "dredging vessel",
          "dredging vessel",
          null,
          "dredging vessel",
          "dredging vessel",
          "dredging vessel",
          "dredging vessel",
          null,
          "dredging vessel",
          "dredging vessel",
          "dredging vessel",
          "dredging vessel",
          null,
          "dredging vessel",
          "dredging vessel",
          "dredging vessel",
          "dredging vessel",
          null,
          "dredging vessel",
          "dredging vessel",
          "dredging vessel",
          "dredging vessel",
          null
         ]
        },
        {
         "connectgaps": false,
         "hoverinfo": "y+name",
         "line": {
          "color": "rgb(242,25,87)",
          "width": 10
         },
         "mode": "lines",
         "name": "sailing full seagoing vessel",
         "type": "scatter",
         "x": [
          "1970-01-01T00:03:20",
          "1970-01-01T00:03:20",
          "1970-01-01T00:06:40",
          "1970-01-01T00:06:40",
          "1970-01-01T00:06:40"
         ],
         "y": [
          "seagoing vessel",
          "seagoing vessel",
          "seagoing vessel",
          "seagoing vessel",
          null
         ]
        },
        {
         "connectgaps": false,
         "hoverinfo": "y+name",
         "line": {
          "color": "rgb(22,61,123)",
          "width": 10
         },
         "mode": "lines",
         "name": "unloading seagoing vessel",
         "type": "scatter",
         "x": [
          "1970-01-01T00:11:40",
          "1970-01-01T00:11:40",
          "1970-01-01T00:16:40",
          "1970-01-01T00:16:40",
          "1970-01-01T00:16:40"
         ],
         "y": [
          "seagoing vessel",
          "seagoing vessel",
          "seagoing vessel",
          "seagoing vessel",
          null
         ]
        },
        {
         "connectgaps": false,
         "hoverinfo": "y+name",
         "line": {
          "color": "rgb(58,97,159)",
          "width": 10
         },
         "mode": "lines",
         "name": "sailing empty seagoing vessel",
         "type": "scatter",
         "x": [
          "1970-01-01T00:16:40",
          "1970-01-01T00:16:40",
          "1970-01-01T00:20:00",
          "1970-01-01T00:20:00",
          "1970-01-01T00:20:00"
         ],
         "y": [
          "seagoing vessel",
          "seagoing vessel",
          "seagoing vessel",
          "seagoing vessel",
          null
         ]
        }
       ],
       "layout": {
        "hovermode": "closest",
        "legend": {
         "orientation": "h",
         "x": 0,
         "y": -0.2
        },
        "template": {
         "data": {
          "bar": [
           {
            "error_x": {
             "color": "#2a3f5f"
            },
            "error_y": {
             "color": "#2a3f5f"
            },
            "marker": {
             "line": {
              "color": "#E5ECF6",
              "width": 0.5
             },
             "pattern": {
              "fillmode": "overlay",
              "size": 10,
              "solidity": 0.2
             }
            },
            "type": "bar"
           }
          ],
          "barpolar": [
           {
            "marker": {
             "line": {
              "color": "#E5ECF6",
              "width": 0.5
             },
             "pattern": {
              "fillmode": "overlay",
              "size": 10,
              "solidity": 0.2
             }
            },
            "type": "barpolar"
           }
          ],
          "carpet": [
           {
            "aaxis": {
             "endlinecolor": "#2a3f5f",
             "gridcolor": "white",
             "linecolor": "white",
             "minorgridcolor": "white",
             "startlinecolor": "#2a3f5f"
            },
            "baxis": {
             "endlinecolor": "#2a3f5f",
             "gridcolor": "white",
             "linecolor": "white",
             "minorgridcolor": "white",
             "startlinecolor": "#2a3f5f"
            },
            "type": "carpet"
           }
          ],
          "choropleth": [
           {
            "colorbar": {
             "outlinewidth": 0,
             "ticks": ""
            },
            "type": "choropleth"
           }
          ],
          "contour": [
           {
            "colorbar": {
             "outlinewidth": 0,
             "ticks": ""
            },
            "colorscale": [
             [
              0,
              "#0d0887"
             ],
             [
              0.1111111111111111,
              "#46039f"
             ],
             [
              0.2222222222222222,
              "#7201a8"
             ],
             [
              0.3333333333333333,
              "#9c179e"
             ],
             [
              0.4444444444444444,
              "#bd3786"
             ],
             [
              0.5555555555555556,
              "#d8576b"
             ],
             [
              0.6666666666666666,
              "#ed7953"
             ],
             [
              0.7777777777777778,
              "#fb9f3a"
             ],
             [
              0.8888888888888888,
              "#fdca26"
             ],
             [
              1,
              "#f0f921"
             ]
            ],
            "type": "contour"
           }
          ],
          "contourcarpet": [
           {
            "colorbar": {
             "outlinewidth": 0,
             "ticks": ""
            },
            "type": "contourcarpet"
           }
          ],
          "heatmap": [
           {
            "colorbar": {
             "outlinewidth": 0,
             "ticks": ""
            },
            "colorscale": [
             [
              0,
              "#0d0887"
             ],
             [
              0.1111111111111111,
              "#46039f"
             ],
             [
              0.2222222222222222,
              "#7201a8"
             ],
             [
              0.3333333333333333,
              "#9c179e"
             ],
             [
              0.4444444444444444,
              "#bd3786"
             ],
             [
              0.5555555555555556,
              "#d8576b"
             ],
             [
              0.6666666666666666,
              "#ed7953"
             ],
             [
              0.7777777777777778,
              "#fb9f3a"
             ],
             [
              0.8888888888888888,
              "#fdca26"
             ],
             [
              1,
              "#f0f921"
             ]
            ],
            "type": "heatmap"
           }
          ],
          "heatmapgl": [
           {
            "colorbar": {
             "outlinewidth": 0,
             "ticks": ""
            },
            "colorscale": [
             [
              0,
              "#0d0887"
             ],
             [
              0.1111111111111111,
              "#46039f"
             ],
             [
              0.2222222222222222,
              "#7201a8"
             ],
             [
              0.3333333333333333,
              "#9c179e"
             ],
             [
              0.4444444444444444,
              "#bd3786"
             ],
             [
              0.5555555555555556,
              "#d8576b"
             ],
             [
              0.6666666666666666,
              "#ed7953"
             ],
             [
              0.7777777777777778,
              "#fb9f3a"
             ],
             [
              0.8888888888888888,
              "#fdca26"
             ],
             [
              1,
              "#f0f921"
             ]
            ],
            "type": "heatmapgl"
           }
          ],
          "histogram": [
           {
            "marker": {
             "pattern": {
              "fillmode": "overlay",
              "size": 10,
              "solidity": 0.2
             }
            },
            "type": "histogram"
           }
          ],
          "histogram2d": [
           {
            "colorbar": {
             "outlinewidth": 0,
             "ticks": ""
            },
            "colorscale": [
             [
              0,
              "#0d0887"
             ],
             [
              0.1111111111111111,
              "#46039f"
             ],
             [
              0.2222222222222222,
              "#7201a8"
             ],
             [
              0.3333333333333333,
              "#9c179e"
             ],
             [
              0.4444444444444444,
              "#bd3786"
             ],
             [
              0.5555555555555556,
              "#d8576b"
             ],
             [
              0.6666666666666666,
              "#ed7953"
             ],
             [
              0.7777777777777778,
              "#fb9f3a"
             ],
             [
              0.8888888888888888,
              "#fdca26"
             ],
             [
              1,
              "#f0f921"
             ]
            ],
            "type": "histogram2d"
           }
          ],
          "histogram2dcontour": [
           {
            "colorbar": {
             "outlinewidth": 0,
             "ticks": ""
            },
            "colorscale": [
             [
              0,
              "#0d0887"
             ],
             [
              0.1111111111111111,
              "#46039f"
             ],
             [
              0.2222222222222222,
              "#7201a8"
             ],
             [
              0.3333333333333333,
              "#9c179e"
             ],
             [
              0.4444444444444444,
              "#bd3786"
             ],
             [
              0.5555555555555556,
              "#d8576b"
             ],
             [
              0.6666666666666666,
              "#ed7953"
             ],
             [
              0.7777777777777778,
              "#fb9f3a"
             ],
             [
              0.8888888888888888,
              "#fdca26"
             ],
             [
              1,
              "#f0f921"
             ]
            ],
            "type": "histogram2dcontour"
           }
          ],
          "mesh3d": [
           {
            "colorbar": {
             "outlinewidth": 0,
             "ticks": ""
            },
            "type": "mesh3d"
           }
          ],
          "parcoords": [
           {
            "line": {
             "colorbar": {
              "outlinewidth": 0,
              "ticks": ""
             }
            },
            "type": "parcoords"
           }
          ],
          "pie": [
           {
            "automargin": true,
            "type": "pie"
           }
          ],
          "scatter": [
           {
            "fillpattern": {
             "fillmode": "overlay",
             "size": 10,
             "solidity": 0.2
            },
            "type": "scatter"
           }
          ],
          "scatter3d": [
           {
            "line": {
             "colorbar": {
              "outlinewidth": 0,
              "ticks": ""
             }
            },
            "marker": {
             "colorbar": {
              "outlinewidth": 0,
              "ticks": ""
             }
            },
            "type": "scatter3d"
           }
          ],
          "scattercarpet": [
           {
            "marker": {
             "colorbar": {
              "outlinewidth": 0,
              "ticks": ""
             }
            },
            "type": "scattercarpet"
           }
          ],
          "scattergeo": [
           {
            "marker": {
             "colorbar": {
              "outlinewidth": 0,
              "ticks": ""
             }
            },
            "type": "scattergeo"
           }
          ],
          "scattergl": [
           {
            "marker": {
             "colorbar": {
              "outlinewidth": 0,
              "ticks": ""
             }
            },
            "type": "scattergl"
           }
          ],
          "scattermapbox": [
           {
            "marker": {
             "colorbar": {
              "outlinewidth": 0,
              "ticks": ""
             }
            },
            "type": "scattermapbox"
           }
          ],
          "scatterpolar": [
           {
            "marker": {
             "colorbar": {
              "outlinewidth": 0,
              "ticks": ""
             }
            },
            "type": "scatterpolar"
           }
          ],
          "scatterpolargl": [
           {
            "marker": {
             "colorbar": {
              "outlinewidth": 0,
              "ticks": ""
             }
            },
            "type": "scatterpolargl"
           }
          ],
          "scatterternary": [
           {
            "marker": {
             "colorbar": {
              "outlinewidth": 0,
              "ticks": ""
             }
            },
            "type": "scatterternary"
           }
          ],
          "surface": [
           {
            "colorbar": {
             "outlinewidth": 0,
             "ticks": ""
            },
            "colorscale": [
             [
              0,
              "#0d0887"
             ],
             [
              0.1111111111111111,
              "#46039f"
             ],
             [
              0.2222222222222222,
              "#7201a8"
             ],
             [
              0.3333333333333333,
              "#9c179e"
             ],
             [
              0.4444444444444444,
              "#bd3786"
             ],
             [
              0.5555555555555556,
              "#d8576b"
             ],
             [
              0.6666666666666666,
              "#ed7953"
             ],
             [
              0.7777777777777778,
              "#fb9f3a"
             ],
             [
              0.8888888888888888,
              "#fdca26"
             ],
             [
              1,
              "#f0f921"
             ]
            ],
            "type": "surface"
           }
          ],
          "table": [
           {
            "cells": {
             "fill": {
              "color": "#EBF0F8"
             },
             "line": {
              "color": "white"
             }
            },
            "header": {
             "fill": {
              "color": "#C8D4E3"
             },
             "line": {
              "color": "white"
             }
            },
            "type": "table"
           }
          ]
         },
         "layout": {
          "annotationdefaults": {
           "arrowcolor": "#2a3f5f",
           "arrowhead": 0,
           "arrowwidth": 1
          },
          "autotypenumbers": "strict",
          "coloraxis": {
           "colorbar": {
            "outlinewidth": 0,
            "ticks": ""
           }
          },
          "colorscale": {
           "diverging": [
            [
             0,
             "#8e0152"
            ],
            [
             0.1,
             "#c51b7d"
            ],
            [
             0.2,
             "#de77ae"
            ],
            [
             0.3,
             "#f1b6da"
            ],
            [
             0.4,
             "#fde0ef"
            ],
            [
             0.5,
             "#f7f7f7"
            ],
            [
             0.6,
             "#e6f5d0"
            ],
            [
             0.7,
             "#b8e186"
            ],
            [
             0.8,
             "#7fbc41"
            ],
            [
             0.9,
             "#4d9221"
            ],
            [
             1,
             "#276419"
            ]
           ],
           "sequential": [
            [
             0,
             "#0d0887"
            ],
            [
             0.1111111111111111,
             "#46039f"
            ],
            [
             0.2222222222222222,
             "#7201a8"
            ],
            [
             0.3333333333333333,
             "#9c179e"
            ],
            [
             0.4444444444444444,
             "#bd3786"
            ],
            [
             0.5555555555555556,
             "#d8576b"
            ],
            [
             0.6666666666666666,
             "#ed7953"
            ],
            [
             0.7777777777777778,
             "#fb9f3a"
            ],
            [
             0.8888888888888888,
             "#fdca26"
            ],
            [
             1,
             "#f0f921"
            ]
           ],
           "sequentialminus": [
            [
             0,
             "#0d0887"
            ],
            [
             0.1111111111111111,
             "#46039f"
            ],
            [
             0.2222222222222222,
             "#7201a8"
            ],
            [
             0.3333333333333333,
             "#9c179e"
            ],
            [
             0.4444444444444444,
             "#bd3786"
            ],
            [
             0.5555555555555556,
             "#d8576b"
            ],
            [
             0.6666666666666666,
             "#ed7953"
            ],
            [
             0.7777777777777778,
             "#fb9f3a"
            ],
            [
             0.8888888888888888,
             "#fdca26"
            ],
            [
             1,
             "#f0f921"
            ]
           ]
          },
          "colorway": [
           "#636efa",
           "#EF553B",
           "#00cc96",
           "#ab63fa",
           "#FFA15A",
           "#19d3f3",
           "#FF6692",
           "#B6E880",
           "#FF97FF",
           "#FECB52"
          ],
          "font": {
           "color": "#2a3f5f"
          },
          "geo": {
           "bgcolor": "white",
           "lakecolor": "white",
           "landcolor": "#E5ECF6",
           "showlakes": true,
           "showland": true,
           "subunitcolor": "white"
          },
          "hoverlabel": {
           "align": "left"
          },
          "hovermode": "closest",
          "mapbox": {
           "style": "light"
          },
          "paper_bgcolor": "white",
          "plot_bgcolor": "#E5ECF6",
          "polar": {
           "angularaxis": {
            "gridcolor": "white",
            "linecolor": "white",
            "ticks": ""
           },
           "bgcolor": "#E5ECF6",
           "radialaxis": {
            "gridcolor": "white",
            "linecolor": "white",
            "ticks": ""
           }
          },
          "scene": {
           "xaxis": {
            "backgroundcolor": "#E5ECF6",
            "gridcolor": "white",
            "gridwidth": 2,
            "linecolor": "white",
            "showbackground": true,
            "ticks": "",
            "zerolinecolor": "white"
           },
           "yaxis": {
            "backgroundcolor": "#E5ECF6",
            "gridcolor": "white",
            "gridwidth": 2,
            "linecolor": "white",
            "showbackground": true,
            "ticks": "",
            "zerolinecolor": "white"
           },
           "zaxis": {
            "backgroundcolor": "#E5ECF6",
            "gridcolor": "white",
            "gridwidth": 2,
            "linecolor": "white",
            "showbackground": true,
            "ticks": "",
            "zerolinecolor": "white"
           }
          },
          "shapedefaults": {
           "line": {
            "color": "#2a3f5f"
           }
          },
          "ternary": {
           "aaxis": {
            "gridcolor": "white",
            "linecolor": "white",
            "ticks": ""
           },
           "baxis": {
            "gridcolor": "white",
            "linecolor": "white",
            "ticks": ""
           },
           "bgcolor": "#E5ECF6",
           "caxis": {
            "gridcolor": "white",
            "linecolor": "white",
            "ticks": ""
           }
          },
          "title": {
           "x": 0.05
          },
          "xaxis": {
           "automargin": true,
           "gridcolor": "white",
           "linecolor": "white",
           "ticks": "",
           "title": {
            "standoff": 15
           },
           "zerolinecolor": "white",
           "zerolinewidth": 2
          },
          "yaxis": {
           "automargin": true,
           "gridcolor": "white",
           "linecolor": "white",
           "ticks": "",
           "title": {
            "standoff": 15
           },
           "zerolinecolor": "white",
           "zerolinewidth": 2
          }
         }
        },
        "title": {
         "text": "GANTT Chart"
        },
        "xaxis": {
         "range": [
          "1970-01-01T00:00:00",
          "1970-01-01T02:45:00"
         ],
         "title": {
          "font": {
           "color": "#7f7f7f",
           "family": "Courier New, monospace",
           "size": 18
          },
          "text": "Time"
         }
        },
        "yaxis": {
         "title": {
          "font": {
           "color": "#7f7f7f",
           "family": "Courier New, monospace",
           "size": 18
          },
          "text": "Activities"
         }
        }
       }
      },
      "text/html": [
       "<div>                            <div id=\"d5dcee97-98e2-46bd-83d8-c6eccd5a3eed\" class=\"plotly-graph-div\" style=\"height:525px; width:100%;\"></div>            <script type=\"text/javascript\">                require([\"plotly\"], function(Plotly) {                    window.PLOTLYENV=window.PLOTLYENV || {};                                    if (document.getElementById(\"d5dcee97-98e2-46bd-83d8-c6eccd5a3eed\")) {                    Plotly.newPlot(                        \"d5dcee97-98e2-46bd-83d8-c6eccd5a3eed\",                        [{\"connectgaps\":false,\"hoverinfo\":\"y+name\",\"line\":{\"color\":\"rgb(98,137,199)\",\"width\":10},\"mode\":\"lines\",\"name\":\"loading dredging vessel\",\"x\":[\"1970-01-01T00:03:20\",\"1970-01-01T00:03:20\",\"1970-01-01T00:11:40\",\"1970-01-01T00:11:40\",\"1970-01-01T00:11:40\",\"1970-01-01T00:21:40\",\"1970-01-01T00:21:40\",\"1970-01-01T00:30:00\",\"1970-01-01T00:30:00\",\"1970-01-01T00:30:00\",\"1970-01-01T00:40:00\",\"1970-01-01T00:40:00\",\"1970-01-01T00:48:20\",\"1970-01-01T00:48:20\",\"1970-01-01T00:48:20\",\"1970-01-01T00:58:20\",\"1970-01-01T00:58:20\",\"1970-01-01T01:06:40\",\"1970-01-01T01:06:40\",\"1970-01-01T01:06:40\",\"1970-01-01T01:16:40\",\"1970-01-01T01:16:40\",\"1970-01-01T01:25:00\",\"1970-01-01T01:25:00\",\"1970-01-01T01:25:00\",\"1970-01-01T01:35:00\",\"1970-01-01T01:35:00\",\"1970-01-01T01:43:20\",\"1970-01-01T01:43:20\",\"1970-01-01T01:43:20\",\"1970-01-01T01:53:20\",\"1970-01-01T01:53:20\",\"1970-01-01T02:01:40\",\"1970-01-01T02:01:40\",\"1970-01-01T02:01:40\",\"1970-01-01T02:11:40\",\"1970-01-01T02:11:40\",\"1970-01-01T02:20:00\",\"1970-01-01T02:20:00\",\"1970-01-01T02:20:00\",\"1970-01-01T02:30:00\",\"1970-01-01T02:30:00\",\"1970-01-01T02:38:20\",\"1970-01-01T02:38:20\",\"1970-01-01T02:38:20\"],\"y\":[\"dredging vessel\",\"dredging vessel\",\"dredging vessel\",\"dredging vessel\",null,\"dredging vessel\",\"dredging vessel\",\"dredging vessel\",\"dredging vessel\",null,\"dredging vessel\",\"dredging vessel\",\"dredging vessel\",\"dredging vessel\",null,\"dredging vessel\",\"dredging vessel\",\"dredging vessel\",\"dredging vessel\",null,\"dredging vessel\",\"dredging vessel\",\"dredging vessel\",\"dredging vessel\",null,\"dredging vessel\",\"dredging vessel\",\"dredging vessel\",\"dredging vessel\",null,\"dredging vessel\",\"dredging vessel\",\"dredging vessel\",\"dredging vessel\",null,\"dredging vessel\",\"dredging vessel\",\"dredging vessel\",\"dredging vessel\",null,\"dredging vessel\",\"dredging vessel\",\"dredging vessel\",\"dredging vessel\",null],\"type\":\"scatter\"},{\"connectgaps\":false,\"hoverinfo\":\"y+name\",\"line\":{\"color\":\"rgb(134,173,235)\",\"width\":10},\"mode\":\"lines\",\"name\":\"sailing empty dredging vessel\",\"x\":[\"1970-01-01T00:00:00\",\"1970-01-01T00:00:00\",\"1970-01-01T00:03:20\",\"1970-01-01T00:03:20\",\"1970-01-01T00:03:20\",\"1970-01-01T00:18:20\",\"1970-01-01T00:18:20\",\"1970-01-01T00:21:40\",\"1970-01-01T00:21:40\",\"1970-01-01T00:21:40\",\"1970-01-01T00:36:40\",\"1970-01-01T00:36:40\",\"1970-01-01T00:40:00\",\"1970-01-01T00:40:00\",\"1970-01-01T00:40:00\",\"1970-01-01T00:55:00\",\"1970-01-01T00:55:00\",\"1970-01-01T00:58:20\",\"1970-01-01T00:58:20\",\"1970-01-01T00:58:20\",\"1970-01-01T01:13:20\",\"1970-01-01T01:13:20\",\"1970-01-01T01:16:40\",\"1970-01-01T01:16:40\",\"1970-01-01T01:16:40\",\"1970-01-01T01:31:40\",\"1970-01-01T01:31:40\",\"1970-01-01T01:35:00\",\"1970-01-01T01:35:00\",\"1970-01-01T01:35:00\",\"1970-01-01T01:50:00\",\"1970-01-01T01:50:00\",\"1970-01-01T01:53:20\",\"1970-01-01T01:53:20\",\"1970-01-01T01:53:20\",\"1970-01-01T02:08:20\",\"1970-01-01T02:08:20\",\"1970-01-01T02:11:40\",\"1970-01-01T02:11:40\",\"1970-01-01T02:11:40\",\"1970-01-01T02:26:40\",\"1970-01-01T02:26:40\",\"1970-01-01T02:30:00\",\"1970-01-01T02:30:00\",\"1970-01-01T02:30:00\"],\"y\":[\"dredging vessel\",\"dredging vessel\",\"dredging vessel\",\"dredging vessel\",null,\"dredging vessel\",\"dredging vessel\",\"dredging vessel\",\"dredging vessel\",null,\"dredging vessel\",\"dredging vessel\",\"dredging vessel\",\"dredging vessel\",null,\"dredging vessel\",\"dredging vessel\",\"dredging vessel\",\"dredging vessel\",null,\"dredging vessel\",\"dredging vessel\",\"dredging vessel\",\"dredging vessel\",null,\"dredging vessel\",\"dredging vessel\",\"dredging vessel\",\"dredging vessel\",null,\"dredging vessel\",\"dredging vessel\",\"dredging vessel\",\"dredging vessel\",null,\"dredging vessel\",\"dredging vessel\",\"dredging vessel\",\"dredging vessel\",null,\"dredging vessel\",\"dredging vessel\",\"dredging vessel\",\"dredging vessel\",null],\"type\":\"scatter\"},{\"connectgaps\":false,\"hoverinfo\":\"y+name\",\"line\":{\"color\":\"rgb(170,209,15)\",\"width\":10},\"mode\":\"lines\",\"name\":\"unloading dredging vessel\",\"x\":[\"1970-01-01T00:15:00\",\"1970-01-01T00:15:00\",\"1970-01-01T00:18:20\",\"1970-01-01T00:18:20\",\"1970-01-01T00:18:20\",\"1970-01-01T00:33:20\",\"1970-01-01T00:33:20\",\"1970-01-01T00:36:40\",\"1970-01-01T00:36:40\",\"1970-01-01T00:36:40\",\"1970-01-01T00:51:40\",\"1970-01-01T00:51:40\",\"1970-01-01T00:55:00\",\"1970-01-01T00:55:00\",\"1970-01-01T00:55:00\",\"1970-01-01T01:10:00\",\"1970-01-01T01:10:00\",\"1970-01-01T01:13:20\",\"1970-01-01T01:13:20\",\"1970-01-01T01:13:20\",\"1970-01-01T01:28:20\",\"1970-01-01T01:28:20\",\"1970-01-01T01:31:40\",\"1970-01-01T01:31:40\",\"1970-01-01T01:31:40\",\"1970-01-01T01:46:40\",\"1970-01-01T01:46:40\",\"1970-01-01T01:50:00\",\"1970-01-01T01:50:00\",\"1970-01-01T01:50:00\",\"1970-01-01T02:05:00\",\"1970-01-01T02:05:00\",\"1970-01-01T02:08:20\",\"1970-01-01T02:08:20\",\"1970-01-01T02:08:20\",\"1970-01-01T02:23:20\",\"1970-01-01T02:23:20\",\"1970-01-01T02:26:40\",\"1970-01-01T02:26:40\",\"1970-01-01T02:26:40\",\"1970-01-01T02:41:40\",\"1970-01-01T02:41:40\",\"1970-01-01T02:45:00\",\"1970-01-01T02:45:00\",\"1970-01-01T02:45:00\"],\"y\":[\"dredging vessel\",\"dredging vessel\",\"dredging vessel\",\"dredging vessel\",null,\"dredging vessel\",\"dredging vessel\",\"dredging vessel\",\"dredging vessel\",null,\"dredging vessel\",\"dredging vessel\",\"dredging vessel\",\"dredging vessel\",null,\"dredging vessel\",\"dredging vessel\",\"dredging vessel\",\"dredging vessel\",null,\"dredging vessel\",\"dredging vessel\",\"dredging vessel\",\"dredging vessel\",null,\"dredging vessel\",\"dredging vessel\",\"dredging vessel\",\"dredging vessel\",null,\"dredging vessel\",\"dredging vessel\",\"dredging vessel\",\"dredging vessel\",null,\"dredging vessel\",\"dredging vessel\",\"dredging vessel\",\"dredging vessel\",null,\"dredging vessel\",\"dredging vessel\",\"dredging vessel\",\"dredging vessel\",null],\"type\":\"scatter\"},{\"connectgaps\":false,\"hoverinfo\":\"y+name\",\"line\":{\"color\":\"rgb(206,245,51)\",\"width\":10},\"mode\":\"lines\",\"name\":\"sailing full dredging vessel\",\"x\":[\"1970-01-01T00:11:40\",\"1970-01-01T00:11:40\",\"1970-01-01T00:15:00\",\"1970-01-01T00:15:00\",\"1970-01-01T00:15:00\",\"1970-01-01T00:30:00\",\"1970-01-01T00:30:00\",\"1970-01-01T00:33:20\",\"1970-01-01T00:33:20\",\"1970-01-01T00:33:20\",\"1970-01-01T00:48:20\",\"1970-01-01T00:48:20\",\"1970-01-01T00:51:40\",\"1970-01-01T00:51:40\",\"1970-01-01T00:51:40\",\"1970-01-01T01:06:40\",\"1970-01-01T01:06:40\",\"1970-01-01T01:10:00\",\"1970-01-01T01:10:00\",\"1970-01-01T01:10:00\",\"1970-01-01T01:25:00\",\"1970-01-01T01:25:00\",\"1970-01-01T01:28:20\",\"1970-01-01T01:28:20\",\"1970-01-01T01:28:20\",\"1970-01-01T01:43:20\",\"1970-01-01T01:43:20\",\"1970-01-01T01:46:40\",\"1970-01-01T01:46:40\",\"1970-01-01T01:46:40\",\"1970-01-01T02:01:40\",\"1970-01-01T02:01:40\",\"1970-01-01T02:05:00\",\"1970-01-01T02:05:00\",\"1970-01-01T02:05:00\",\"1970-01-01T02:20:00\",\"1970-01-01T02:20:00\",\"1970-01-01T02:23:20\",\"1970-01-01T02:23:20\",\"1970-01-01T02:23:20\",\"1970-01-01T02:38:20\",\"1970-01-01T02:38:20\",\"1970-01-01T02:41:40\",\"1970-01-01T02:41:40\",\"1970-01-01T02:41:40\"],\"y\":[\"dredging vessel\",\"dredging vessel\",\"dredging vessel\",\"dredging vessel\",null,\"dredging vessel\",\"dredging vessel\",\"dredging vessel\",\"dredging vessel\",null,\"dredging vessel\",\"dredging vessel\",\"dredging vessel\",\"dredging vessel\",null,\"dredging vessel\",\"dredging vessel\",\"dredging vessel\",\"dredging vessel\",null,\"dredging vessel\",\"dredging vessel\",\"dredging vessel\",\"dredging vessel\",null,\"dredging vessel\",\"dredging vessel\",\"dredging vessel\",\"dredging vessel\",null,\"dredging vessel\",\"dredging vessel\",\"dredging vessel\",\"dredging vessel\",null,\"dredging vessel\",\"dredging vessel\",\"dredging vessel\",\"dredging vessel\",null,\"dredging vessel\",\"dredging vessel\",\"dredging vessel\",\"dredging vessel\",null],\"type\":\"scatter\"},{\"connectgaps\":false,\"hoverinfo\":\"y+name\",\"line\":{\"color\":\"rgb(242,25,87)\",\"width\":10},\"mode\":\"lines\",\"name\":\"sailing full seagoing vessel\",\"x\":[\"1970-01-01T00:03:20\",\"1970-01-01T00:03:20\",\"1970-01-01T00:06:40\",\"1970-01-01T00:06:40\",\"1970-01-01T00:06:40\"],\"y\":[\"seagoing vessel\",\"seagoing vessel\",\"seagoing vessel\",\"seagoing vessel\",null],\"type\":\"scatter\"},{\"connectgaps\":false,\"hoverinfo\":\"y+name\",\"line\":{\"color\":\"rgb(22,61,123)\",\"width\":10},\"mode\":\"lines\",\"name\":\"unloading seagoing vessel\",\"x\":[\"1970-01-01T00:11:40\",\"1970-01-01T00:11:40\",\"1970-01-01T00:16:40\",\"1970-01-01T00:16:40\",\"1970-01-01T00:16:40\"],\"y\":[\"seagoing vessel\",\"seagoing vessel\",\"seagoing vessel\",\"seagoing vessel\",null],\"type\":\"scatter\"},{\"connectgaps\":false,\"hoverinfo\":\"y+name\",\"line\":{\"color\":\"rgb(58,97,159)\",\"width\":10},\"mode\":\"lines\",\"name\":\"sailing empty seagoing vessel\",\"x\":[\"1970-01-01T00:16:40\",\"1970-01-01T00:16:40\",\"1970-01-01T00:20:00\",\"1970-01-01T00:20:00\",\"1970-01-01T00:20:00\"],\"y\":[\"seagoing vessel\",\"seagoing vessel\",\"seagoing vessel\",\"seagoing vessel\",null],\"type\":\"scatter\"}],                        {\"hovermode\":\"closest\",\"legend\":{\"orientation\":\"h\",\"x\":0,\"y\":-0.2},\"template\":{\"data\":{\"barpolar\":[{\"marker\":{\"line\":{\"color\":\"#E5ECF6\",\"width\":0.5},\"pattern\":{\"fillmode\":\"overlay\",\"size\":10,\"solidity\":0.2}},\"type\":\"barpolar\"}],\"bar\":[{\"error_x\":{\"color\":\"#2a3f5f\"},\"error_y\":{\"color\":\"#2a3f5f\"},\"marker\":{\"line\":{\"color\":\"#E5ECF6\",\"width\":0.5},\"pattern\":{\"fillmode\":\"overlay\",\"size\":10,\"solidity\":0.2}},\"type\":\"bar\"}],\"carpet\":[{\"aaxis\":{\"endlinecolor\":\"#2a3f5f\",\"gridcolor\":\"white\",\"linecolor\":\"white\",\"minorgridcolor\":\"white\",\"startlinecolor\":\"#2a3f5f\"},\"baxis\":{\"endlinecolor\":\"#2a3f5f\",\"gridcolor\":\"white\",\"linecolor\":\"white\",\"minorgridcolor\":\"white\",\"startlinecolor\":\"#2a3f5f\"},\"type\":\"carpet\"}],\"choropleth\":[{\"colorbar\":{\"outlinewidth\":0,\"ticks\":\"\"},\"type\":\"choropleth\"}],\"contourcarpet\":[{\"colorbar\":{\"outlinewidth\":0,\"ticks\":\"\"},\"type\":\"contourcarpet\"}],\"contour\":[{\"colorbar\":{\"outlinewidth\":0,\"ticks\":\"\"},\"colorscale\":[[0.0,\"#0d0887\"],[0.1111111111111111,\"#46039f\"],[0.2222222222222222,\"#7201a8\"],[0.3333333333333333,\"#9c179e\"],[0.4444444444444444,\"#bd3786\"],[0.5555555555555556,\"#d8576b\"],[0.6666666666666666,\"#ed7953\"],[0.7777777777777778,\"#fb9f3a\"],[0.8888888888888888,\"#fdca26\"],[1.0,\"#f0f921\"]],\"type\":\"contour\"}],\"heatmapgl\":[{\"colorbar\":{\"outlinewidth\":0,\"ticks\":\"\"},\"colorscale\":[[0.0,\"#0d0887\"],[0.1111111111111111,\"#46039f\"],[0.2222222222222222,\"#7201a8\"],[0.3333333333333333,\"#9c179e\"],[0.4444444444444444,\"#bd3786\"],[0.5555555555555556,\"#d8576b\"],[0.6666666666666666,\"#ed7953\"],[0.7777777777777778,\"#fb9f3a\"],[0.8888888888888888,\"#fdca26\"],[1.0,\"#f0f921\"]],\"type\":\"heatmapgl\"}],\"heatmap\":[{\"colorbar\":{\"outlinewidth\":0,\"ticks\":\"\"},\"colorscale\":[[0.0,\"#0d0887\"],[0.1111111111111111,\"#46039f\"],[0.2222222222222222,\"#7201a8\"],[0.3333333333333333,\"#9c179e\"],[0.4444444444444444,\"#bd3786\"],[0.5555555555555556,\"#d8576b\"],[0.6666666666666666,\"#ed7953\"],[0.7777777777777778,\"#fb9f3a\"],[0.8888888888888888,\"#fdca26\"],[1.0,\"#f0f921\"]],\"type\":\"heatmap\"}],\"histogram2dcontour\":[{\"colorbar\":{\"outlinewidth\":0,\"ticks\":\"\"},\"colorscale\":[[0.0,\"#0d0887\"],[0.1111111111111111,\"#46039f\"],[0.2222222222222222,\"#7201a8\"],[0.3333333333333333,\"#9c179e\"],[0.4444444444444444,\"#bd3786\"],[0.5555555555555556,\"#d8576b\"],[0.6666666666666666,\"#ed7953\"],[0.7777777777777778,\"#fb9f3a\"],[0.8888888888888888,\"#fdca26\"],[1.0,\"#f0f921\"]],\"type\":\"histogram2dcontour\"}],\"histogram2d\":[{\"colorbar\":{\"outlinewidth\":0,\"ticks\":\"\"},\"colorscale\":[[0.0,\"#0d0887\"],[0.1111111111111111,\"#46039f\"],[0.2222222222222222,\"#7201a8\"],[0.3333333333333333,\"#9c179e\"],[0.4444444444444444,\"#bd3786\"],[0.5555555555555556,\"#d8576b\"],[0.6666666666666666,\"#ed7953\"],[0.7777777777777778,\"#fb9f3a\"],[0.8888888888888888,\"#fdca26\"],[1.0,\"#f0f921\"]],\"type\":\"histogram2d\"}],\"histogram\":[{\"marker\":{\"pattern\":{\"fillmode\":\"overlay\",\"size\":10,\"solidity\":0.2}},\"type\":\"histogram\"}],\"mesh3d\":[{\"colorbar\":{\"outlinewidth\":0,\"ticks\":\"\"},\"type\":\"mesh3d\"}],\"parcoords\":[{\"line\":{\"colorbar\":{\"outlinewidth\":0,\"ticks\":\"\"}},\"type\":\"parcoords\"}],\"pie\":[{\"automargin\":true,\"type\":\"pie\"}],\"scatter3d\":[{\"line\":{\"colorbar\":{\"outlinewidth\":0,\"ticks\":\"\"}},\"marker\":{\"colorbar\":{\"outlinewidth\":0,\"ticks\":\"\"}},\"type\":\"scatter3d\"}],\"scattercarpet\":[{\"marker\":{\"colorbar\":{\"outlinewidth\":0,\"ticks\":\"\"}},\"type\":\"scattercarpet\"}],\"scattergeo\":[{\"marker\":{\"colorbar\":{\"outlinewidth\":0,\"ticks\":\"\"}},\"type\":\"scattergeo\"}],\"scattergl\":[{\"marker\":{\"colorbar\":{\"outlinewidth\":0,\"ticks\":\"\"}},\"type\":\"scattergl\"}],\"scattermapbox\":[{\"marker\":{\"colorbar\":{\"outlinewidth\":0,\"ticks\":\"\"}},\"type\":\"scattermapbox\"}],\"scatterpolargl\":[{\"marker\":{\"colorbar\":{\"outlinewidth\":0,\"ticks\":\"\"}},\"type\":\"scatterpolargl\"}],\"scatterpolar\":[{\"marker\":{\"colorbar\":{\"outlinewidth\":0,\"ticks\":\"\"}},\"type\":\"scatterpolar\"}],\"scatter\":[{\"fillpattern\":{\"fillmode\":\"overlay\",\"size\":10,\"solidity\":0.2},\"type\":\"scatter\"}],\"scatterternary\":[{\"marker\":{\"colorbar\":{\"outlinewidth\":0,\"ticks\":\"\"}},\"type\":\"scatterternary\"}],\"surface\":[{\"colorbar\":{\"outlinewidth\":0,\"ticks\":\"\"},\"colorscale\":[[0.0,\"#0d0887\"],[0.1111111111111111,\"#46039f\"],[0.2222222222222222,\"#7201a8\"],[0.3333333333333333,\"#9c179e\"],[0.4444444444444444,\"#bd3786\"],[0.5555555555555556,\"#d8576b\"],[0.6666666666666666,\"#ed7953\"],[0.7777777777777778,\"#fb9f3a\"],[0.8888888888888888,\"#fdca26\"],[1.0,\"#f0f921\"]],\"type\":\"surface\"}],\"table\":[{\"cells\":{\"fill\":{\"color\":\"#EBF0F8\"},\"line\":{\"color\":\"white\"}},\"header\":{\"fill\":{\"color\":\"#C8D4E3\"},\"line\":{\"color\":\"white\"}},\"type\":\"table\"}]},\"layout\":{\"annotationdefaults\":{\"arrowcolor\":\"#2a3f5f\",\"arrowhead\":0,\"arrowwidth\":1},\"autotypenumbers\":\"strict\",\"coloraxis\":{\"colorbar\":{\"outlinewidth\":0,\"ticks\":\"\"}},\"colorscale\":{\"diverging\":[[0,\"#8e0152\"],[0.1,\"#c51b7d\"],[0.2,\"#de77ae\"],[0.3,\"#f1b6da\"],[0.4,\"#fde0ef\"],[0.5,\"#f7f7f7\"],[0.6,\"#e6f5d0\"],[0.7,\"#b8e186\"],[0.8,\"#7fbc41\"],[0.9,\"#4d9221\"],[1,\"#276419\"]],\"sequential\":[[0.0,\"#0d0887\"],[0.1111111111111111,\"#46039f\"],[0.2222222222222222,\"#7201a8\"],[0.3333333333333333,\"#9c179e\"],[0.4444444444444444,\"#bd3786\"],[0.5555555555555556,\"#d8576b\"],[0.6666666666666666,\"#ed7953\"],[0.7777777777777778,\"#fb9f3a\"],[0.8888888888888888,\"#fdca26\"],[1.0,\"#f0f921\"]],\"sequentialminus\":[[0.0,\"#0d0887\"],[0.1111111111111111,\"#46039f\"],[0.2222222222222222,\"#7201a8\"],[0.3333333333333333,\"#9c179e\"],[0.4444444444444444,\"#bd3786\"],[0.5555555555555556,\"#d8576b\"],[0.6666666666666666,\"#ed7953\"],[0.7777777777777778,\"#fb9f3a\"],[0.8888888888888888,\"#fdca26\"],[1.0,\"#f0f921\"]]},\"colorway\":[\"#636efa\",\"#EF553B\",\"#00cc96\",\"#ab63fa\",\"#FFA15A\",\"#19d3f3\",\"#FF6692\",\"#B6E880\",\"#FF97FF\",\"#FECB52\"],\"font\":{\"color\":\"#2a3f5f\"},\"geo\":{\"bgcolor\":\"white\",\"lakecolor\":\"white\",\"landcolor\":\"#E5ECF6\",\"showlakes\":true,\"showland\":true,\"subunitcolor\":\"white\"},\"hoverlabel\":{\"align\":\"left\"},\"hovermode\":\"closest\",\"mapbox\":{\"style\":\"light\"},\"paper_bgcolor\":\"white\",\"plot_bgcolor\":\"#E5ECF6\",\"polar\":{\"angularaxis\":{\"gridcolor\":\"white\",\"linecolor\":\"white\",\"ticks\":\"\"},\"bgcolor\":\"#E5ECF6\",\"radialaxis\":{\"gridcolor\":\"white\",\"linecolor\":\"white\",\"ticks\":\"\"}},\"scene\":{\"xaxis\":{\"backgroundcolor\":\"#E5ECF6\",\"gridcolor\":\"white\",\"gridwidth\":2,\"linecolor\":\"white\",\"showbackground\":true,\"ticks\":\"\",\"zerolinecolor\":\"white\"},\"yaxis\":{\"backgroundcolor\":\"#E5ECF6\",\"gridcolor\":\"white\",\"gridwidth\":2,\"linecolor\":\"white\",\"showbackground\":true,\"ticks\":\"\",\"zerolinecolor\":\"white\"},\"zaxis\":{\"backgroundcolor\":\"#E5ECF6\",\"gridcolor\":\"white\",\"gridwidth\":2,\"linecolor\":\"white\",\"showbackground\":true,\"ticks\":\"\",\"zerolinecolor\":\"white\"}},\"shapedefaults\":{\"line\":{\"color\":\"#2a3f5f\"}},\"ternary\":{\"aaxis\":{\"gridcolor\":\"white\",\"linecolor\":\"white\",\"ticks\":\"\"},\"baxis\":{\"gridcolor\":\"white\",\"linecolor\":\"white\",\"ticks\":\"\"},\"bgcolor\":\"#E5ECF6\",\"caxis\":{\"gridcolor\":\"white\",\"linecolor\":\"white\",\"ticks\":\"\"}},\"title\":{\"x\":0.05},\"xaxis\":{\"automargin\":true,\"gridcolor\":\"white\",\"linecolor\":\"white\",\"ticks\":\"\",\"title\":{\"standoff\":15},\"zerolinecolor\":\"white\",\"zerolinewidth\":2},\"yaxis\":{\"automargin\":true,\"gridcolor\":\"white\",\"linecolor\":\"white\",\"ticks\":\"\",\"title\":{\"standoff\":15},\"zerolinecolor\":\"white\",\"zerolinewidth\":2}}},\"title\":{\"text\":\"GANTT Chart\"},\"xaxis\":{\"range\":[\"1970-01-01T00:00:00\",\"1970-01-01T02:45:00\"],\"title\":{\"font\":{\"color\":\"#7f7f7f\",\"family\":\"Courier New, monospace\",\"size\":18},\"text\":\"Time\"}},\"yaxis\":{\"title\":{\"font\":{\"color\":\"#7f7f7f\",\"family\":\"Courier New, monospace\",\"size\":18},\"text\":\"Activities\"}}},                        {\"responsive\": true}                    ).then(function(){\n",
       "                            \n",
       "var gd = document.getElementById('d5dcee97-98e2-46bd-83d8-c6eccd5a3eed');\n",
       "var x = new MutationObserver(function (mutations, observer) {{\n",
       "        var display = window.getComputedStyle(gd).display;\n",
       "        if (!display || display === 'none') {{\n",
       "            console.log([gd, 'removed!']);\n",
       "            Plotly.purge(gd);\n",
       "            observer.disconnect();\n",
       "        }}\n",
       "}});\n",
       "\n",
       "// Listen for the removal of the full notebook cells\n",
       "var notebookContainer = gd.closest('#notebook-container');\n",
       "if (notebookContainer) {{\n",
       "    x.observe(notebookContainer, {childList: true});\n",
       "}}\n",
       "\n",
       "// Listen for the clearing of the current output cell\n",
       "var outputEl = gd.closest('.output');\n",
       "if (outputEl) {{\n",
       "    x.observe(outputEl, {childList: true});\n",
       "}}\n",
       "\n",
       "                        })                };                });            </script>        </div>"
      ]
     },
     "metadata": {},
     "output_type": "display_data"
    }
   ],
   "source": [
    "openclsim.plot.get_gantt_chart([vessel01,vessel02], id_map=[activities_dredging_vessel, activities_seagoing_vessel])"
   ]
  }
 ],
 "metadata": {
  "kernelspec": {
   "display_name": "myenv",
   "language": "python",
   "name": "myenv"
  },
  "language_info": {
   "codemirror_mode": {
    "name": "ipython",
    "version": 3
   },
   "file_extension": ".py",
   "mimetype": "text/x-python",
   "name": "python",
   "nbconvert_exporter": "python",
   "pygments_lexer": "ipython3",
   "version": "3.9.16"
  }
 },
 "nbformat": 4,
 "nbformat_minor": 5
}
