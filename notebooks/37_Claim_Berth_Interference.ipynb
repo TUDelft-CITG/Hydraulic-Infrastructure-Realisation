{
 "cells": [
  {
   "cell_type": "markdown",
   "id": "c3bb6ca2",
   "metadata": {},
   "source": [
    "### Interference of seagoing and dredging vessels\n",
    "\n",
    "This notebook focuses on the interference of a single dredging vessel and a single seagoing vessel when trying to serve a berth location. The main objective of this problem is to monitor the interferences of both seagoing and dredging operations simultaneously. This monitoring process can help researchers and practitioners to\n",
    "1. Identify the key perfromance indicators of seagoing operation (e.g. ship turnaround time, waiting time in anchorage area, etc.)\n",
    "2. Quantify trade-offs (cost, emission, energy consumption, etc.) when selecting optimal port maintenance strategies.\n",
    "\n",
    "The simulation proposed in this notebook is based on running the following activities.\n",
    "* Dredging vessel does a single run activity which is performed until the total amount of soil is dredged from the berth location\n",
    "* Seagoing vessel's subprocesses include sailing full, unloading cargo in the berth location, and sailing empty\n",
    "\n",
    "The purpose of developing this notebook is to visualize that the berth location can serve one vessel at the same time and when one of the seagoing/dredging vessels are serving the berth, the other one should wait for the berth to get empty. The output shows us how much the seagoing vessel waits for the dredging vessel before entering the berth location and minimizing this waiting time can be the next steps.\n",
    "\n",
    "The following steps are proposed to develop this notebook."
   ]
  },
  {
   "cell_type": "markdown",
   "id": "c90ad146",
   "metadata": {},
   "source": [
    "#### 0. Import libraries"
   ]
  },
  {
   "cell_type": "code",
   "execution_count": 1,
   "id": "a20ee13c",
   "metadata": {},
   "outputs": [],
   "source": [
    "import networkx as nx  \n",
    "import shapely.geometry\n",
    "import pyproj\n",
    "\n",
    "\n",
    "import datetime as dt\n",
    "import time\n",
    "import simpy\n",
    "import openclsim.core as core\n",
    "import openclsim.model as model\n",
    "import openclsim.plot as plot\n",
    "import opentnsim\n",
    "\n",
    "import pandas as pd\n",
    "import numpy as np\n",
    "\n",
    "import matplotlib.pyplot as plt\n",
    "import folium"
   ]
  },
  {
   "cell_type": "markdown",
   "id": "0b62c670",
   "metadata": {},
   "source": [
    "#### 1. Initialise simpy environment"
   ]
  },
  {
   "cell_type": "code",
   "execution_count": 2,
   "id": "f6bbdaeb",
   "metadata": {},
   "outputs": [],
   "source": [
    "# setup environment\n",
    "simulation_start = 0\n",
    "my_env = simpy.Environment(initial_time=simulation_start)"
   ]
  },
  {
   "cell_type": "markdown",
   "id": "3d9fb496",
   "metadata": {},
   "source": [
    "#### 2. Define object classes"
   ]
  },
  {
   "cell_type": "code",
   "execution_count": 3,
   "id": "4fe0acc4",
   "metadata": {},
   "outputs": [],
   "source": [
    "# create a Site object based on desired mixin classes\n",
    "Site = type('Site',\n",
    "            (core.Identifiable,\n",
    "             core.Log,\n",
    "             core.Locatable,\n",
    "             core.HasContainer,\n",
    "             core.HasResource,), {})\n",
    "\n",
    "# create a Waypoint object based on desired mixin classes\n",
    "Waypoint = type('Way',\n",
    "            (core.Identifiable,\n",
    "             core.Log,\n",
    "             core.Locatable,), {})\n",
    "\n",
    "# create a TransportProcessingResource object based on desired mixin classes\n",
    "TransportProcessingResource = type(\n",
    "    \"TransportProcessingResource\",\n",
    "    (\n",
    "        core.ContainerDependentMovable,\n",
    "        core.HasResource,\n",
    "        core.HasContainer,\n",
    "        core.Processor,\n",
    "        core.Identifiable,\n",
    "        core.Log,\n",
    "        core.LoadingFunction,\n",
    "        core.UnloadingFunction,\n",
    "        # capture extra metadata to make sure we don't have leftover arguments\n",
    "        opentnsim.core.ExtraMetadata\n",
    "    ),\n",
    "    {},\n",
    ")"
   ]
  },
  {
   "cell_type": "markdown",
   "id": "c900ac62",
   "metadata": {},
   "source": [
    "#### 3. Create objects"
   ]
  },
  {
   "cell_type": "markdown",
   "id": "a53ca26d",
   "metadata": {},
   "source": [
    "##### 3.1. Create site object(s)"
   ]
  },
  {
   "cell_type": "code",
   "execution_count": 4,
   "id": "194d87d7",
   "metadata": {},
   "outputs": [],
   "source": [
    "# prepare input data for offshore\n",
    "location_offshore = shapely.geometry.Point(3.637610458072877, 52.10701582514347)\n",
    "data_offshore = {\"env\": my_env,\n",
    "                 \"name\": \"offshore\",\n",
    "                 \"geometry\": location_offshore,\n",
    "                 \"capacity\": 100,\n",
    "                 \"level\": 0,\n",
    "                }\n",
    "offshore = Site(**data_offshore)\n",
    "\n",
    "# prepare input data for offshore waypoint\n",
    "location_offshore_waypoint = shapely.geometry.Point(3.86736205092947,52.02761645094746)\n",
    "data_offshore_waypoint = {\"env\": my_env,\n",
    "                 \"name\": \"offshore_waypoint\",\n",
    "                 \"geometry\": location_offshore_waypoint,\n",
    "                }\n",
    "offshore_waypoint = Waypoint(**data_offshore_waypoint)\n",
    "\n",
    "# prepare input data for berth\n",
    "location_berth = shapely.geometry.Point(4.062705498083785,51.95909715255291)\n",
    "data_berth = {\"env\": my_env,\n",
    "              \"name\": \"berth\",\n",
    "              \"geometry\": location_berth,\n",
    "              \"capacity\": 100,\n",
    "              \"level\": 80,\n",
    "              \"nr_resources\": 1\n",
    "             }\n",
    "berth = Site(**data_berth)\n",
    "\n",
    "# prepare input data for dredging waypoint\n",
    "location_dredging_waypoint = shapely.geometry.Point(4.051396629618069,52.02445392693116)\n",
    "data_dredging_waypoint = {\"env\": my_env,\n",
    "                 \"name\": \"dredging_waypoint\",\n",
    "                 \"geometry\": location_dredging_waypoint,\n",
    "                }\n",
    "dredging_waypoint = Waypoint(**data_dredging_waypoint)\n",
    "\n",
    "# prepare input data for dump\n",
    "location_dump = shapely.geometry.Point(4.1795229742823,52.11590591837503)\n",
    "data_dump = {\"env\": my_env,\n",
    "             \"name\": \"dump\",\n",
    "             \"geometry\": location_dump,\n",
    "             \"capacity\": 100,\n",
    "             \"level\": 0\n",
    "            }\n",
    "dump = Site(**data_dump) "
   ]
  },
  {
   "cell_type": "markdown",
   "id": "11f711d8",
   "metadata": {},
   "source": [
    "##### 3.2. Create graph object"
   ]
  },
  {
   "cell_type": "code",
   "execution_count": 5,
   "id": "d1190623",
   "metadata": {
    "scrolled": true
   },
   "outputs": [],
   "source": [
    "# define four edges in the graph\n",
    "edges = [\n",
    "    [offshore, offshore_waypoint],\n",
    "    [offshore_waypoint, berth],\n",
    "    [dump, dredging_waypoint],\n",
    "    [dredging_waypoint, berth]]\n",
    "\n",
    "# three locations (offshore, berth, and dump) are defined to allow the vessels pass the nodes back and forth.\n",
    "# based on the mixins, more attributes are defined for each location.\n",
    "nodes = []\n",
    "nodes.append(offshore)\n",
    "nodes.append(offshore_waypoint)\n",
    "nodes.append(berth)\n",
    "nodes.append(dredging_waypoint)\n",
    "nodes.append(dump)"
   ]
  },
  {
   "cell_type": "code",
   "execution_count": 6,
   "id": "0b1c3d48",
   "metadata": {
    "scrolled": false
   },
   "outputs": [
    {
     "name": "stdout",
     "output_type": "stream",
     "text": [
      "Number of edges is 8\n"
     ]
    },
    {
     "data": {
      "image/png": "[encoded data removed]",
      "text/plain": [
       "<Figure size 640x480 with 1 Axes>"
      ]
     },
     "metadata": {},
     "output_type": "display_data"
    }
   ],
   "source": [
    "# we start with creating a graph \n",
    "graph = nx.DiGraph()\n",
    "\n",
    "# a graph is initiated based on the name and gemometry of locations.\n",
    "# other attributes such as store_capacity and initials are not being used for drawing the graph.\n",
    "for node in nodes:\n",
    "    graph.add_node(node.name,\n",
    "                geometry = node.geometry)\n",
    "     \n",
    "# add edges\n",
    "for index, edge in enumerate(edges):\n",
    "    graph.add_edge(edge[0].name, edge[1].name, weight = 1)\n",
    "    \n",
    "# toggle to undirected and back to directed to make sure all edges are two way traffic\n",
    "graph = graph.to_undirected() \n",
    "graph = graph.to_directed()\n",
    "\n",
    "# create a positions dict for the purpose of plotting\n",
    "positions = {}\n",
    "for node in graph.nodes:\n",
    "    positions[node] = (graph.nodes[node]['geometry'].x, graph.nodes[node]['geometry'].y)\n",
    "    \n",
    "# collect node labels.\n",
    "labels = {}\n",
    "for node in graph.nodes:\n",
    "    labels[node] = node\n",
    "print('Number of edges is {}'.format(len(graph.edges)))\n",
    "\n",
    "# draw edges, nodes and labels.\n",
    "nx.draw_networkx_edges(graph,  pos=positions, width=3, edge_color=\"red\", alpha=1, arrowsize=40)\n",
    "nx.draw_networkx_nodes(graph,  pos=positions, node_color=\"lightblue\", node_size=1500)\n",
    "nx.draw_networkx_labels(graph, pos=positions, labels=labels, font_size=8, font_weight='bold', font_color=\"black\")\n",
    "\n",
    "plt.axis(\"off\")\n",
    "plt.show()"
   ]
  },
  {
   "cell_type": "markdown",
   "id": "176c64e8",
   "metadata": {},
   "source": [
    "##### 3.3. Create vessel object(s)"
   ]
  },
  {
   "cell_type": "code",
   "execution_count": 7,
   "id": "515a8e5f",
   "metadata": {},
   "outputs": [],
   "source": [
    "# assigning graph to the simpy environment\n",
    "my_env.graph = graph"
   ]
  },
  {
   "cell_type": "code",
   "execution_count": 8,
   "id": "d7a09966",
   "metadata": {},
   "outputs": [
    {
     "data": {
      "text/plain": [
       "['offshore', 'offshore_waypoint', 'berth', 'offshore_waypoint', 'offshore']"
      ]
     },
     "metadata": {},
     "output_type": "display_data"
    },
    {
     "data": {
      "text/plain": [
       "['dump', 'dredging_waypoint', 'berth', 'dredging_waypoint', 'dump']"
      ]
     },
     "metadata": {},
     "output_type": "display_data"
    }
   ],
   "source": [
    "# define path for seagoing vessel\n",
    "path1 = nx.dijkstra_path(my_env.graph, 'offshore', 'berth')\n",
    "path2 = nx.dijkstra_path(my_env.graph, 'berth', 'offshore')\n",
    "path_seagoing = path1+path2[1:]\n",
    "display(path_seagoing)\n",
    "\n",
    "# define path for dredging vessel\n",
    "path3 = nx.dijkstra_path(my_env.graph, 'dump', 'berth')\n",
    "path4 = nx.dijkstra_path(my_env.graph, 'berth', 'dump')\n",
    "path_dredging = path3+path4[1:]\n",
    "display(path_dredging)"
   ]
  },
  {
   "cell_type": "code",
   "execution_count": 9,
   "id": "3a93707b",
   "metadata": {},
   "outputs": [],
   "source": [
    "# prepare input data for vessel_01 (dredging vessel)\n",
    "data_vessel01 = {\n",
    "    \"env\": my_env,\n",
    "    \"name\": \"dredging vessel\",\n",
    "    \"geometry\": location_dump, \n",
    "    \"capacity\": 10,\n",
    "    \"loading_rate\": 1,\n",
    "    \"unloading_rate\": 0.5,\n",
    "    \"compute_v\": lambda x: 10 + 2 * x,\n",
    "}\n",
    "# instantiate vessel_01 \n",
    "vessel01 = TransportProcessingResource(**data_vessel01)\n",
    "# assert not vessel01.metadata\n",
    "\n",
    "\n",
    "# prepare input data for vessel_02 (seagoing vessel)\n",
    "data_vessel02 = {\n",
    "    \"env\": my_env,\n",
    "    \"name\": \"seagoing vessel\",\n",
    "    \"geometry\": location_offshore, \n",
    "    \"capacity\": 10,\n",
    "    \"level\": 5,\n",
    "    \"loading_rate\": 1,\n",
    "    \"unloading_rate\": 0.5,\n",
    "    \"compute_v\": lambda x: 15 + 2 * x,\n",
    "}\n",
    "# instantiate vessel_02\n",
    "vessel02 = TransportProcessingResource(**data_vessel02)\n",
    "assert not vessel02.metadata"
   ]
  },
  {
   "cell_type": "markdown",
   "id": "cecba605",
   "metadata": {},
   "source": [
    "##### 3.4. Create activity object(s)"
   ]
  },
  {
   "cell_type": "code",
   "execution_count": 10,
   "id": "4824e5c2",
   "metadata": {},
   "outputs": [],
   "source": [
    "# Initialise registry\n",
    "registry = {}"
   ]
  },
  {
   "cell_type": "code",
   "execution_count": 11,
   "id": "8aa0f3d5",
   "metadata": {},
   "outputs": [],
   "source": [
    "# Specify the amount of container and duration of activities\n",
    "amount = 10\n",
    "duration = 200\n",
    "\n",
    "# Specify dredging subprocesses\n",
    "dredging_subprocesses = [\n",
    "    model.MoveActivity(\n",
    "        env=my_env,\n",
    "        name=\"sailing empty dredging vessel\",\n",
    "        registry=registry,\n",
    "        mover=vessel01,\n",
    "        destination=berth,\n",
    "        ),\n",
    "   model.ShiftAmountActivity(\n",
    "        env=my_env,\n",
    "        name=\"loading dredging vessel\",\n",
    "        registry=registry,\n",
    "        processor=vessel01,\n",
    "        origin=berth,\n",
    "        destination=vessel01,\n",
    "        amount=amount,\n",
    "        duration=50*amount\n",
    "        ),\n",
    "    model.MoveActivity(\n",
    "        env=my_env,\n",
    "        name=\"sailing full dredging vessel\",\n",
    "        registry=registry,\n",
    "        mover=vessel01,\n",
    "        destination=dump,\n",
    "        ),\n",
    "    model.ShiftAmountActivity(\n",
    "        env=my_env,\n",
    "        name=\"unloading dredging vessel\",\n",
    "        registry=registry,\n",
    "        processor=vessel01,\n",
    "        origin=vessel01,\n",
    "        destination=dump,\n",
    "        amount=amount,\n",
    "        duration=20*amount\n",
    "        )\n",
    "]\n",
    "\n",
    "# Define activities of the dredging vessel\n",
    "activities_dredging_vessel = model.WhileActivity(\n",
    "            env=my_env,\n",
    "            name=\"while sequential activity dredging vessel\",\n",
    "            registry=registry,\n",
    "            sub_processes=[model.SequentialActivity(\n",
    "                env=my_env,\n",
    "                name=f\"sequential activity subcycle dredging vessel\",\n",
    "                registry=registry,\n",
    "                sub_processes= dredging_subprocesses\n",
    "            )],\n",
    "             condition_event=[{\"type\": \"container\",\n",
    "                              \"concept\": berth,\n",
    "                              \"state\": \"empty\",\n",
    "                              \"id_\":\"default_reservations\"}\n",
    "                             ]\n",
    "        )"
   ]
  },
  {
   "cell_type": "code",
   "execution_count": 12,
   "id": "a30a1ce4",
   "metadata": {},
   "outputs": [],
   "source": [
    "# Specify seagoing subprocesses\n",
    "requested_resources = {}\n",
    "seagoing_subprocesses = [\n",
    "    model.BasicActivity(\n",
    "        env=my_env,\n",
    "        name=\"interval time\",\n",
    "        registry=registry,\n",
    "        duration=200\n",
    "        ),\n",
    "    model.MoveActivity(\n",
    "        env=my_env,\n",
    "        name=\"sailing full seagoing vessel\",\n",
    "        registry=registry,\n",
    "        mover=vessel02,\n",
    "        destination=berth,\n",
    "        ),\n",
    "    model.ShiftAmountActivity(\n",
    "        env=my_env,\n",
    "        name=\"unloading seagoing vessel\",\n",
    "        registry=registry,\n",
    "        processor=vessel02,\n",
    "        origin=vessel02,\n",
    "        destination=berth,\n",
    "        amount=amount,\n",
    "        duration=30*amount,\n",
    "        requested_resources = requested_resources,\n",
    "        ),\n",
    "    model.MoveActivity(\n",
    "        env=my_env,\n",
    "        name=\"sailing empty seagoing vessel\",\n",
    "        registry=registry,\n",
    "        mover=vessel02,\n",
    "        destination=offshore,\n",
    "        )\n",
    "]\n",
    "\n",
    "# Define activities of the seagoing vessel\n",
    "activities_seagoing_vessel = model.WhileActivity(\n",
    "            env=my_env,\n",
    "            name=\"while sequential activity dredging vessel\",\n",
    "            registry=registry,\n",
    "            sub_processes= seagoing_subprocesses,\n",
    "            condition_event=[{\"type\": \"container\",\n",
    "                              \"concept\": vessel02,\n",
    "                              \"state\": \"empty\",\n",
    "                              \"id_\":\"default_reservations\",\n",
    "                              }\n",
    "                             ]\n",
    "        )"
   ]
  },
  {
   "cell_type": "markdown",
   "id": "4692b789",
   "metadata": {},
   "source": [
    "#### 4. Register activities and run simpy"
   ]
  },
  {
   "cell_type": "code",
   "execution_count": 13,
   "id": "c7bc8929",
   "metadata": {},
   "outputs": [],
   "source": [
    "# register dredging activities\n",
    "model.register_processes([activities_dredging_vessel])\n",
    "\n",
    "#register seagoing activities\n",
    "model.register_processes([activities_seagoing_vessel])"
   ]
  },
  {
   "cell_type": "code",
   "execution_count": 14,
   "id": "ca0db928",
   "metadata": {
    "scrolled": false
   },
   "outputs": [
    {
     "name": "stdout",
     "output_type": "stream",
     "text": [
      "mover dredging vessel destination berth\n",
      "mover seagoing vessel destination berth\n",
      "updating to destination geometry POINT (4.062705498083785 51.95909715255291)\n",
      "updating to destination geometry POINT (4.062705498083785 51.95909715255291)\n",
      "mover dredging vessel destination dump\n",
      "mover seagoing vessel destination offshore\n",
      "updating to destination geometry POINT (4.1795229742823 52.11590591837503)\n",
      "mover dredging vessel destination berth\n",
      "updating to destination geometry POINT (3.637610458072877 52.10701582514347)\n",
      "updating to destination geometry POINT (4.062705498083785 51.95909715255291)\n",
      "mover dredging vessel destination dump\n",
      "updating to destination geometry POINT (4.1795229742823 52.11590591837503)\n",
      "mover dredging vessel destination berth\n",
      "updating to destination geometry POINT (4.062705498083785 51.95909715255291)\n",
      "mover dredging vessel destination dump\n",
      "updating to destination geometry POINT (4.1795229742823 52.11590591837503)\n",
      "mover dredging vessel destination berth\n",
      "updating to destination geometry POINT (4.062705498083785 51.95909715255291)\n",
      "mover dredging vessel destination dump\n",
      "updating to destination geometry POINT (4.1795229742823 52.11590591837503)\n",
      "mover dredging vessel destination berth\n",
      "updating to destination geometry POINT (4.062705498083785 51.95909715255291)\n",
      "mover dredging vessel destination dump\n",
      "updating to destination geometry POINT (4.1795229742823 52.11590591837503)\n",
      "mover dredging vessel destination berth\n",
      "updating to destination geometry POINT (4.062705498083785 51.95909715255291)\n",
      "mover dredging vessel destination dump\n",
      "updating to destination geometry POINT (4.1795229742823 52.11590591837503)\n",
      "mover dredging vessel destination berth\n",
      "updating to destination geometry POINT (4.062705498083785 51.95909715255291)\n",
      "mover dredging vessel destination dump\n",
      "updating to destination geometry POINT (4.1795229742823 52.11590591837503)\n",
      "mover dredging vessel destination berth\n",
      "updating to destination geometry POINT (4.062705498083785 51.95909715255291)\n",
      "mover dredging vessel destination dump\n",
      "updating to destination geometry POINT (4.1795229742823 52.11590591837503)\n",
      "mover dredging vessel destination berth\n",
      "updating to destination geometry POINT (4.062705498083785 51.95909715255291)\n",
      "mover dredging vessel destination dump\n",
      "updating to destination geometry POINT (4.1795229742823 52.11590591837503)\n"
     ]
    }
   ],
   "source": [
    "my_env.run()"
   ]
  },
  {
   "cell_type": "markdown",
   "id": "c2b0490e",
   "metadata": {},
   "source": [
    "#### 5. Inspect Results"
   ]
  },
  {
   "cell_type": "markdown",
   "id": "cf76e6ec",
   "metadata": {},
   "source": [
    "##### 5.1. Inspect logs"
   ]
  },
  {
   "cell_type": "code",
   "execution_count": 15,
   "id": "c6f1186c",
   "metadata": {
    "scrolled": false
   },
   "outputs": [
    {
     "data": {
      "text/html": [
       "<div>\n",
       "<style scoped>\n",
       "    .dataframe tbody tr th:only-of-type {\n",
       "        vertical-align: middle;\n",
       "    }\n",
       "\n",
       "    .dataframe tbody tr th {\n",
       "        vertical-align: top;\n",
       "    }\n",
       "\n",
       "    .dataframe thead th {\n",
       "        text-align: right;\n",
       "    }\n",
       "</style>\n",
       "<table border=\"1\" class=\"dataframe\">\n",
       "  <thead>\n",
       "    <tr style=\"text-align: right;\">\n",
       "      <th></th>\n",
       "      <th>Activity</th>\n",
       "      <th>Timestamp</th>\n",
       "      <th>ActivityState</th>\n",
       "      <th>geometry</th>\n",
       "      <th>container level</th>\n",
       "    </tr>\n",
       "  </thead>\n",
       "  <tbody>\n",
       "    <tr>\n",
       "      <th>0</th>\n",
       "      <td>sailing empty dredging vessel</td>\n",
       "      <td>1970-01-01 00:00:00.000000</td>\n",
       "      <td>START</td>\n",
       "      <td>POINT (4.1795229742823 52.11590591837503)</td>\n",
       "      <td>0.0</td>\n",
       "    </tr>\n",
       "    <tr>\n",
       "      <th>1</th>\n",
       "      <td>sailing empty dredging vessel</td>\n",
       "      <td>1970-01-01 00:32:00.113018</td>\n",
       "      <td>STOP</td>\n",
       "      <td>POINT (4.062705498083785 51.95909715255291)</td>\n",
       "      <td>0.0</td>\n",
       "    </tr>\n",
       "    <tr>\n",
       "      <th>2</th>\n",
       "      <td>loading dredging vessel</td>\n",
       "      <td>1970-01-01 00:32:00.113018</td>\n",
       "      <td>START</td>\n",
       "      <td>POINT (4.062705498083785 51.95909715255291)</td>\n",
       "      <td>0.0</td>\n",
       "    </tr>\n",
       "    <tr>\n",
       "      <th>3</th>\n",
       "      <td>loading dredging vessel</td>\n",
       "      <td>1970-01-01 00:40:20.113018</td>\n",
       "      <td>STOP</td>\n",
       "      <td>POINT (4.062705498083785 51.95909715255291)</td>\n",
       "      <td>10.0</td>\n",
       "    </tr>\n",
       "    <tr>\n",
       "      <th>4</th>\n",
       "      <td>sailing full dredging vessel</td>\n",
       "      <td>1970-01-01 00:40:20.113018</td>\n",
       "      <td>START</td>\n",
       "      <td>POINT (4.062705498083785 51.95909715255291)</td>\n",
       "      <td>10.0</td>\n",
       "    </tr>\n",
       "    <tr>\n",
       "      <th>...</th>\n",
       "      <td>...</td>\n",
       "      <td>...</td>\n",
       "      <td>...</td>\n",
       "      <td>...</td>\n",
       "      <td>...</td>\n",
       "    </tr>\n",
       "    <tr>\n",
       "      <th>67</th>\n",
       "      <td>loading dredging vessel</td>\n",
       "      <td>1970-01-01 10:03:01.770622</td>\n",
       "      <td>STOP</td>\n",
       "      <td>POINT (4.062705498083785 51.95909715255291)</td>\n",
       "      <td>5.0</td>\n",
       "    </tr>\n",
       "    <tr>\n",
       "      <th>68</th>\n",
       "      <td>sailing full dredging vessel</td>\n",
       "      <td>1970-01-01 10:03:01.770622</td>\n",
       "      <td>START</td>\n",
       "      <td>POINT (4.062705498083785 51.95909715255291)</td>\n",
       "      <td>5.0</td>\n",
       "    </tr>\n",
       "    <tr>\n",
       "      <th>69</th>\n",
       "      <td>sailing full dredging vessel</td>\n",
       "      <td>1970-01-01 10:32:07.327912</td>\n",
       "      <td>STOP</td>\n",
       "      <td>POINT (4.1795229742823 52.11590591837503)</td>\n",
       "      <td>5.0</td>\n",
       "    </tr>\n",
       "    <tr>\n",
       "      <th>70</th>\n",
       "      <td>unloading dredging vessel</td>\n",
       "      <td>1970-01-01 10:32:07.327912</td>\n",
       "      <td>START</td>\n",
       "      <td>POINT (4.1795229742823 52.11590591837503)</td>\n",
       "      <td>5.0</td>\n",
       "    </tr>\n",
       "    <tr>\n",
       "      <th>71</th>\n",
       "      <td>unloading dredging vessel</td>\n",
       "      <td>1970-01-01 10:35:27.327912</td>\n",
       "      <td>STOP</td>\n",
       "      <td>POINT (4.1795229742823 52.11590591837503)</td>\n",
       "      <td>0.0</td>\n",
       "    </tr>\n",
       "  </tbody>\n",
       "</table>\n",
       "<p>72 rows × 5 columns</p>\n",
       "</div>"
      ],
      "text/plain": [
       "                         Activity                  Timestamp ActivityState  \\\n",
       "0   sailing empty dredging vessel 1970-01-01 00:00:00.000000         START   \n",
       "1   sailing empty dredging vessel 1970-01-01 00:32:00.113018          STOP   \n",
       "2         loading dredging vessel 1970-01-01 00:32:00.113018         START   \n",
       "3         loading dredging vessel 1970-01-01 00:40:20.113018          STOP   \n",
       "4    sailing full dredging vessel 1970-01-01 00:40:20.113018         START   \n",
       "..                            ...                        ...           ...   \n",
       "67        loading dredging vessel 1970-01-01 10:03:01.770622          STOP   \n",
       "68   sailing full dredging vessel 1970-01-01 10:03:01.770622         START   \n",
       "69   sailing full dredging vessel 1970-01-01 10:32:07.327912          STOP   \n",
       "70      unloading dredging vessel 1970-01-01 10:32:07.327912         START   \n",
       "71      unloading dredging vessel 1970-01-01 10:35:27.327912          STOP   \n",
       "\n",
       "                                       geometry  container level  \n",
       "0     POINT (4.1795229742823 52.11590591837503)              0.0  \n",
       "1   POINT (4.062705498083785 51.95909715255291)              0.0  \n",
       "2   POINT (4.062705498083785 51.95909715255291)              0.0  \n",
       "3   POINT (4.062705498083785 51.95909715255291)             10.0  \n",
       "4   POINT (4.062705498083785 51.95909715255291)             10.0  \n",
       "..                                          ...              ...  \n",
       "67  POINT (4.062705498083785 51.95909715255291)              5.0  \n",
       "68  POINT (4.062705498083785 51.95909715255291)              5.0  \n",
       "69    POINT (4.1795229742823 52.11590591837503)              5.0  \n",
       "70    POINT (4.1795229742823 52.11590591837503)              5.0  \n",
       "71    POINT (4.1795229742823 52.11590591837503)              0.0  \n",
       "\n",
       "[72 rows x 5 columns]"
      ]
     },
     "metadata": {},
     "output_type": "display_data"
    }
   ],
   "source": [
    "# Inspect dredging vessel log\n",
    "display(plot.get_log_dataframe(vessel01, [activities_dredging_vessel]))"
   ]
  },
  {
   "cell_type": "code",
   "execution_count": 16,
   "id": "7a12e080",
   "metadata": {},
   "outputs": [
    {
     "data": {
      "text/html": [
       "<div>\n",
       "<style scoped>\n",
       "    .dataframe tbody tr th:only-of-type {\n",
       "        vertical-align: middle;\n",
       "    }\n",
       "\n",
       "    .dataframe tbody tr th {\n",
       "        vertical-align: top;\n",
       "    }\n",
       "\n",
       "    .dataframe thead th {\n",
       "        text-align: right;\n",
       "    }\n",
       "</style>\n",
       "<table border=\"1\" class=\"dataframe\">\n",
       "  <thead>\n",
       "    <tr style=\"text-align: right;\">\n",
       "      <th></th>\n",
       "      <th>Activity</th>\n",
       "      <th>Timestamp</th>\n",
       "      <th>ActivityState</th>\n",
       "      <th>geometry</th>\n",
       "      <th>container level</th>\n",
       "    </tr>\n",
       "  </thead>\n",
       "  <tbody>\n",
       "    <tr>\n",
       "      <th>0</th>\n",
       "      <td>sailing full seagoing vessel</td>\n",
       "      <td>1970-01-01 00:03:20.000000</td>\n",
       "      <td>START</td>\n",
       "      <td>POINT (3.637610458072877 52.10701582514347)</td>\n",
       "      <td>5</td>\n",
       "    </tr>\n",
       "    <tr>\n",
       "      <th>1</th>\n",
       "      <td>sailing full seagoing vessel</td>\n",
       "      <td>1970-01-01 00:38:13.474629</td>\n",
       "      <td>STOP</td>\n",
       "      <td>POINT (4.062705498083785 51.95909715255291)</td>\n",
       "      <td>5</td>\n",
       "    </tr>\n",
       "    <tr>\n",
       "      <th>2</th>\n",
       "      <td>unloading seagoing vessel</td>\n",
       "      <td>1970-01-01 00:40:20.113018</td>\n",
       "      <td>START</td>\n",
       "      <td>POINT (4.062705498083785 51.95909715255291)</td>\n",
       "      <td>5</td>\n",
       "    </tr>\n",
       "    <tr>\n",
       "      <th>3</th>\n",
       "      <td>unloading seagoing vessel</td>\n",
       "      <td>1970-01-01 00:45:20.113018</td>\n",
       "      <td>STOP</td>\n",
       "      <td>POINT (4.062705498083785 51.95909715255291)</td>\n",
       "      <td>0</td>\n",
       "    </tr>\n",
       "    <tr>\n",
       "      <th>4</th>\n",
       "      <td>sailing empty seagoing vessel</td>\n",
       "      <td>1970-01-01 00:45:20.113018</td>\n",
       "      <td>START</td>\n",
       "      <td>POINT (4.062705498083785 51.95909715255291)</td>\n",
       "      <td>0</td>\n",
       "    </tr>\n",
       "    <tr>\n",
       "      <th>5</th>\n",
       "      <td>sailing empty seagoing vessel</td>\n",
       "      <td>1970-01-01 01:22:33.152622</td>\n",
       "      <td>STOP</td>\n",
       "      <td>POINT (3.637610458072877 52.10701582514347)</td>\n",
       "      <td>0</td>\n",
       "    </tr>\n",
       "  </tbody>\n",
       "</table>\n",
       "</div>"
      ],
      "text/plain": [
       "                        Activity                  Timestamp ActivityState  \\\n",
       "0   sailing full seagoing vessel 1970-01-01 00:03:20.000000         START   \n",
       "1   sailing full seagoing vessel 1970-01-01 00:38:13.474629          STOP   \n",
       "2      unloading seagoing vessel 1970-01-01 00:40:20.113018         START   \n",
       "3      unloading seagoing vessel 1970-01-01 00:45:20.113018          STOP   \n",
       "4  sailing empty seagoing vessel 1970-01-01 00:45:20.113018         START   \n",
       "5  sailing empty seagoing vessel 1970-01-01 01:22:33.152622          STOP   \n",
       "\n",
       "                                      geometry  container level  \n",
       "0  POINT (3.637610458072877 52.10701582514347)                5  \n",
       "1  POINT (4.062705498083785 51.95909715255291)                5  \n",
       "2  POINT (4.062705498083785 51.95909715255291)                5  \n",
       "3  POINT (4.062705498083785 51.95909715255291)                0  \n",
       "4  POINT (4.062705498083785 51.95909715255291)                0  \n",
       "5  POINT (3.637610458072877 52.10701582514347)                0  "
      ]
     },
     "metadata": {},
     "output_type": "display_data"
    }
   ],
   "source": [
    "# Inspect seagoing vessel log\n",
    "display(plot.get_log_dataframe(vessel02, [activities_seagoing_vessel]))"
   ]
  },
  {
   "cell_type": "markdown",
   "id": "890cf974",
   "metadata": {},
   "source": [
    "##### 5.2. Visualise gantt chart"
   ]
  },
  {
   "cell_type": "code",
   "execution_count": 17,
   "id": "a142a639",
   "metadata": {},
   "outputs": [
    {
     "data": {
      "text/html": [
       "        <script type=\"text/javascript\">\n",
       "        window.PlotlyConfig = {MathJaxConfig: 'local'};\n",
       "        if (window.MathJax && window.MathJax.Hub && window.MathJax.Hub.Config) {window.MathJax.Hub.Config({SVG: {font: \"STIX-Web\"}});}\n",
       "        if (typeof require !== 'undefined') {\n",
       "        require.undef(\"plotly\");\n",
       "        requirejs.config({\n",
       "            paths: {\n",
       "                'plotly': ['https://cdn.plot.ly/plotly-2.18.0.min']\n",
       "            }\n",
       "        });\n",
       "        require(['plotly'], function(Plotly) {\n",
       "            window._Plotly = Plotly;\n",
       "        });\n",
       "        }\n",
       "        </script>\n",
       "        "
      ]
     },
     "metadata": {},
     "output_type": "display_data"
    },
    {
     "data": {
      "application/vnd.plotly.v1+json": {
       "config": {
        "linkText": "Export to plot.ly",
        "plotlyServerURL": "https://plot.ly",
        "showLink": false
       },
       "data": [
        {
         "connectgaps": false,
         "hoverinfo": "y+name",
         "line": {
          "color": "rgb(201,14,28)",
          "width": 10
         },
         "mode": "lines",
         "name": "sailing full dredging vessel",
         "type": "scatter",
         "x": [
          "1970-01-01T00:40:20.113018",
          "1970-01-01T00:40:20.113018",
          "1970-01-01T01:07:00.207200",
          "1970-01-01T01:07:00.207200",
          "1970-01-01T01:07:00.207200",
          "1970-01-01T01:50:40.320219",
          "1970-01-01T01:50:40.320219",
          "1970-01-01T02:17:20.414401",
          "1970-01-01T02:17:20.414401",
          "1970-01-01T02:17:20.414401",
          "1970-01-01T03:01:00.527419",
          "1970-01-01T03:01:00.527419",
          "1970-01-01T03:27:40.621601",
          "1970-01-01T03:27:40.621601",
          "1970-01-01T03:27:40.621601",
          "1970-01-01T04:11:20.734620",
          "1970-01-01T04:11:20.734620",
          "1970-01-01T04:38:00.828802",
          "1970-01-01T04:38:00.828802",
          "1970-01-01T04:38:00.828802",
          "1970-01-01T05:21:40.941820",
          "1970-01-01T05:21:40.941820",
          "1970-01-01T05:48:21.036002",
          "1970-01-01T05:48:21.036002",
          "1970-01-01T05:48:21.036002",
          "1970-01-01T06:32:01.149021",
          "1970-01-01T06:32:01.149021",
          "1970-01-01T06:58:41.243203",
          "1970-01-01T06:58:41.243203",
          "1970-01-01T06:58:41.243203",
          "1970-01-01T07:42:21.356221",
          "1970-01-01T07:42:21.356221",
          "1970-01-01T08:09:01.450403",
          "1970-01-01T08:09:01.450403",
          "1970-01-01T08:09:01.450403",
          "1970-01-01T08:52:41.563422",
          "1970-01-01T08:52:41.563422",
          "1970-01-01T09:19:21.657604",
          "1970-01-01T09:19:21.657604",
          "1970-01-01T09:19:21.657604",
          "1970-01-01T10:03:01.770622",
          "1970-01-01T10:03:01.770622",
          "1970-01-01T10:32:07.327912",
          "1970-01-01T10:32:07.327912",
          "1970-01-01T10:32:07.327912"
         ],
         "y": [
          "dredging vessel",
          "dredging vessel",
          "dredging vessel",
          "dredging vessel",
          null,
          "dredging vessel",
          "dredging vessel",
          "dredging vessel",
          "dredging vessel",
          null,
          "dredging vessel",
          "dredging vessel",
          "dredging vessel",
          "dredging vessel",
          null,
          "dredging vessel",
          "dredging vessel",
          "dredging vessel",
          "dredging vessel",
          null,
          "dredging vessel",
          "dredging vessel",
          "dredging vessel",
          "dredging vessel",
          null,
          "dredging vessel",
          "dredging vessel",
          "dredging vessel",
          "dredging vessel",
          null,
          "dredging vessel",
          "dredging vessel",
          "dredging vessel",
          "dredging vessel",
          null,
          "dredging vessel",
          "dredging vessel",
          "dredging vessel",
          "dredging vessel",
          null,
          "dredging vessel",
          "dredging vessel",
          "dredging vessel",
          "dredging vessel",
          null
         ]
        },
        {
         "connectgaps": false,
         "hoverinfo": "y+name",
         "line": {
          "color": "rgb(237,50,64)",
          "width": 10
         },
         "mode": "lines",
         "name": "loading dredging vessel",
         "type": "scatter",
         "x": [
          "1970-01-01T00:32:00.113018",
          "1970-01-01T00:32:00.113018",
          "1970-01-01T00:40:20.113018",
          "1970-01-01T00:40:20.113018",
          "1970-01-01T00:40:20.113018",
          "1970-01-01T01:42:20.320219",
          "1970-01-01T01:42:20.320219",
          "1970-01-01T01:50:40.320219",
          "1970-01-01T01:50:40.320219",
          "1970-01-01T01:50:40.320219",
          "1970-01-01T02:52:40.527419",
          "1970-01-01T02:52:40.527419",
          "1970-01-01T03:01:00.527419",
          "1970-01-01T03:01:00.527419",
          "1970-01-01T03:01:00.527419",
          "1970-01-01T04:03:00.734620",
          "1970-01-01T04:03:00.734620",
          "1970-01-01T04:11:20.734620",
          "1970-01-01T04:11:20.734620",
          "1970-01-01T04:11:20.734620",
          "1970-01-01T05:13:20.941820",
          "1970-01-01T05:13:20.941820",
          "1970-01-01T05:21:40.941820",
          "1970-01-01T05:21:40.941820",
          "1970-01-01T05:21:40.941820",
          "1970-01-01T06:23:41.149021",
          "1970-01-01T06:23:41.149021",
          "1970-01-01T06:32:01.149021",
          "1970-01-01T06:32:01.149021",
          "1970-01-01T06:32:01.149021",
          "1970-01-01T07:34:01.356221",
          "1970-01-01T07:34:01.356221",
          "1970-01-01T07:42:21.356221",
          "1970-01-01T07:42:21.356221",
          "1970-01-01T07:42:21.356221",
          "1970-01-01T08:44:21.563422",
          "1970-01-01T08:44:21.563422",
          "1970-01-01T08:52:41.563422",
          "1970-01-01T08:52:41.563422",
          "1970-01-01T08:52:41.563422",
          "1970-01-01T09:54:41.770622",
          "1970-01-01T09:54:41.770622",
          "1970-01-01T10:03:01.770622",
          "1970-01-01T10:03:01.770622",
          "1970-01-01T10:03:01.770622"
         ],
         "y": [
          "dredging vessel",
          "dredging vessel",
          "dredging vessel",
          "dredging vessel",
          null,
          "dredging vessel",
          "dredging vessel",
          "dredging vessel",
          "dredging vessel",
          null,
          "dredging vessel",
          "dredging vessel",
          "dredging vessel",
          "dredging vessel",
          null,
          "dredging vessel",
          "dredging vessel",
          "dredging vessel",
          "dredging vessel",
          null,
          "dredging vessel",
          "dredging vessel",
          "dredging vessel",
          "dredging vessel",
          null,
          "dredging vessel",
          "dredging vessel",
          "dredging vessel",
          "dredging vessel",
          null,
          "dredging vessel",
          "dredging vessel",
          "dredging vessel",
          "dredging vessel",
          null,
          "dredging vessel",
          "dredging vessel",
          "dredging vessel",
          "dredging vessel",
          null,
          "dredging vessel",
          "dredging vessel",
          "dredging vessel",
          "dredging vessel",
          null
         ]
        },
        {
         "connectgaps": false,
         "hoverinfo": "y+name",
         "line": {
          "color": "rgb(17,86,100)",
          "width": 10
         },
         "mode": "lines",
         "name": "unloading dredging vessel",
         "type": "scatter",
         "x": [
          "1970-01-01T01:07:00.207200",
          "1970-01-01T01:07:00.207200",
          "1970-01-01T01:10:20.207200",
          "1970-01-01T01:10:20.207200",
          "1970-01-01T01:10:20.207200",
          "1970-01-01T02:17:20.414401",
          "1970-01-01T02:17:20.414401",
          "1970-01-01T02:20:40.414401",
          "1970-01-01T02:20:40.414401",
          "1970-01-01T02:20:40.414401",
          "1970-01-01T03:27:40.621601",
          "1970-01-01T03:27:40.621601",
          "1970-01-01T03:31:00.621601",
          "1970-01-01T03:31:00.621601",
          "1970-01-01T03:31:00.621601",
          "1970-01-01T04:38:00.828802",
          "1970-01-01T04:38:00.828802",
          "1970-01-01T04:41:20.828802",
          "1970-01-01T04:41:20.828802",
          "1970-01-01T04:41:20.828802",
          "1970-01-01T05:48:21.036002",
          "1970-01-01T05:48:21.036002",
          "1970-01-01T05:51:41.036002",
          "1970-01-01T05:51:41.036002",
          "1970-01-01T05:51:41.036002",
          "1970-01-01T06:58:41.243203",
          "1970-01-01T06:58:41.243203",
          "1970-01-01T07:02:01.243203",
          "1970-01-01T07:02:01.243203",
          "1970-01-01T07:02:01.243203",
          "1970-01-01T08:09:01.450403",
          "1970-01-01T08:09:01.450403",
          "1970-01-01T08:12:21.450403",
          "1970-01-01T08:12:21.450403",
          "1970-01-01T08:12:21.450403",
          "1970-01-01T09:19:21.657604",
          "1970-01-01T09:19:21.657604",
          "1970-01-01T09:22:41.657604",
          "1970-01-01T09:22:41.657604",
          "1970-01-01T09:22:41.657604",
          "1970-01-01T10:32:07.327912",
          "1970-01-01T10:32:07.327912",
          "1970-01-01T10:35:27.327912",
          "1970-01-01T10:35:27.327912",
          "1970-01-01T10:35:27.327912"
         ],
         "y": [
          "dredging vessel",
          "dredging vessel",
          "dredging vessel",
          "dredging vessel",
          null,
          "dredging vessel",
          "dredging vessel",
          "dredging vessel",
          "dredging vessel",
          null,
          "dredging vessel",
          "dredging vessel",
          "dredging vessel",
          "dredging vessel",
          null,
          "dredging vessel",
          "dredging vessel",
          "dredging vessel",
          "dredging vessel",
          null,
          "dredging vessel",
          "dredging vessel",
          "dredging vessel",
          "dredging vessel",
          null,
          "dredging vessel",
          "dredging vessel",
          "dredging vessel",
          "dredging vessel",
          null,
          "dredging vessel",
          "dredging vessel",
          "dredging vessel",
          "dredging vessel",
          null,
          "dredging vessel",
          "dredging vessel",
          "dredging vessel",
          "dredging vessel",
          null,
          "dredging vessel",
          "dredging vessel",
          "dredging vessel",
          "dredging vessel",
          null
         ]
        },
        {
         "connectgaps": false,
         "hoverinfo": "y+name",
         "line": {
          "color": "rgb(53,122,136)",
          "width": 10
         },
         "mode": "lines",
         "name": "sailing empty dredging vessel",
         "type": "scatter",
         "x": [
          "1970-01-01T00:00:00",
          "1970-01-01T00:00:00",
          "1970-01-01T00:32:00.113018",
          "1970-01-01T00:32:00.113018",
          "1970-01-01T00:32:00.113018",
          "1970-01-01T01:10:20.207200",
          "1970-01-01T01:10:20.207200",
          "1970-01-01T01:42:20.320219",
          "1970-01-01T01:42:20.320219",
          "1970-01-01T01:42:20.320219",
          "1970-01-01T02:20:40.414401",
          "1970-01-01T02:20:40.414401",
          "1970-01-01T02:52:40.527419",
          "1970-01-01T02:52:40.527419",
          "1970-01-01T02:52:40.527419",
          "1970-01-01T03:31:00.621601",
          "1970-01-01T03:31:00.621601",
          "1970-01-01T04:03:00.734620",
          "1970-01-01T04:03:00.734620",
          "1970-01-01T04:03:00.734620",
          "1970-01-01T04:41:20.828802",
          "1970-01-01T04:41:20.828802",
          "1970-01-01T05:13:20.941820",
          "1970-01-01T05:13:20.941820",
          "1970-01-01T05:13:20.941820",
          "1970-01-01T05:51:41.036002",
          "1970-01-01T05:51:41.036002",
          "1970-01-01T06:23:41.149021",
          "1970-01-01T06:23:41.149021",
          "1970-01-01T06:23:41.149021",
          "1970-01-01T07:02:01.243203",
          "1970-01-01T07:02:01.243203",
          "1970-01-01T07:34:01.356221",
          "1970-01-01T07:34:01.356221",
          "1970-01-01T07:34:01.356221",
          "1970-01-01T08:12:21.450403",
          "1970-01-01T08:12:21.450403",
          "1970-01-01T08:44:21.563422",
          "1970-01-01T08:44:21.563422",
          "1970-01-01T08:44:21.563422",
          "1970-01-01T09:22:41.657604",
          "1970-01-01T09:22:41.657604",
          "1970-01-01T09:54:41.770622",
          "1970-01-01T09:54:41.770622",
          "1970-01-01T09:54:41.770622"
         ],
         "y": [
          "dredging vessel",
          "dredging vessel",
          "dredging vessel",
          "dredging vessel",
          null,
          "dredging vessel",
          "dredging vessel",
          "dredging vessel",
          "dredging vessel",
          null,
          "dredging vessel",
          "dredging vessel",
          "dredging vessel",
          "dredging vessel",
          null,
          "dredging vessel",
          "dredging vessel",
          "dredging vessel",
          "dredging vessel",
          null,
          "dredging vessel",
          "dredging vessel",
          "dredging vessel",
          "dredging vessel",
          null,
          "dredging vessel",
          "dredging vessel",
          "dredging vessel",
          "dredging vessel",
          null,
          "dredging vessel",
          "dredging vessel",
          "dredging vessel",
          "dredging vessel",
          null,
          "dredging vessel",
          "dredging vessel",
          "dredging vessel",
          "dredging vessel",
          null,
          "dredging vessel",
          "dredging vessel",
          "dredging vessel",
          "dredging vessel",
          null
         ]
        },
        {
         "connectgaps": false,
         "hoverinfo": "y+name",
         "line": {
          "color": "rgb(89,158,172)",
          "width": 10
         },
         "mode": "lines",
         "name": "sailing full seagoing vessel",
         "type": "scatter",
         "x": [
          "1970-01-01T00:03:20",
          "1970-01-01T00:03:20",
          "1970-01-01T00:38:13.474629",
          "1970-01-01T00:38:13.474629",
          "1970-01-01T00:38:13.474629"
         ],
         "y": [
          "seagoing vessel",
          "seagoing vessel",
          "seagoing vessel",
          "seagoing vessel",
          null
         ]
        },
        {
         "connectgaps": false,
         "hoverinfo": "y+name",
         "line": {
          "color": "rgb(125,194,208)",
          "width": 10
         },
         "mode": "lines",
         "name": "sailing empty seagoing vessel",
         "type": "scatter",
         "x": [
          "1970-01-01T00:45:20.113018",
          "1970-01-01T00:45:20.113018",
          "1970-01-01T01:22:33.152622",
          "1970-01-01T01:22:33.152622",
          "1970-01-01T01:22:33.152622"
         ],
         "y": [
          "seagoing vessel",
          "seagoing vessel",
          "seagoing vessel",
          "seagoing vessel",
          null
         ]
        },
        {
         "connectgaps": false,
         "hoverinfo": "y+name",
         "line": {
          "color": "rgb(161,230,244)",
          "width": 10
         },
         "mode": "lines",
         "name": "unloading seagoing vessel",
         "type": "scatter",
         "x": [
          "1970-01-01T00:40:20.113018",
          "1970-01-01T00:40:20.113018",
          "1970-01-01T00:45:20.113018",
          "1970-01-01T00:45:20.113018",
          "1970-01-01T00:45:20.113018"
         ],
         "y": [
          "seagoing vessel",
          "seagoing vessel",
          "seagoing vessel",
          "seagoing vessel",
          null
         ]
        }
       ],
       "layout": {
        "hovermode": "closest",
        "legend": {
         "orientation": "h",
         "x": 0,
         "y": -0.2
        },
        "template": {
         "data": {
          "bar": [
           {
            "error_x": {
             "color": "#2a3f5f"
            },
            "error_y": {
             "color": "#2a3f5f"
            },
            "marker": {
             "line": {
              "color": "#E5ECF6",
              "width": 0.5
             },
             "pattern": {
              "fillmode": "overlay",
              "size": 10,
              "solidity": 0.2
             }
            },
            "type": "bar"
           }
          ],
          "barpolar": [
           {
            "marker": {
             "line": {
              "color": "#E5ECF6",
              "width": 0.5
             },
             "pattern": {
              "fillmode": "overlay",
              "size": 10,
              "solidity": 0.2
             }
            },
            "type": "barpolar"
           }
          ],
          "carpet": [
           {
            "aaxis": {
             "endlinecolor": "#2a3f5f",
             "gridcolor": "white",
             "linecolor": "white",
             "minorgridcolor": "white",
             "startlinecolor": "#2a3f5f"
            },
            "baxis": {
             "endlinecolor": "#2a3f5f",
             "gridcolor": "white",
             "linecolor": "white",
             "minorgridcolor": "white",
             "startlinecolor": "#2a3f5f"
            },
            "type": "carpet"
           }
          ],
          "choropleth": [
           {
            "colorbar": {
             "outlinewidth": 0,
             "ticks": ""
            },
            "type": "choropleth"
           }
          ],
          "contour": [
           {
            "colorbar": {
             "outlinewidth": 0,
             "ticks": ""
            },
            "colorscale": [
             [
              0,
              "#0d0887"
             ],
             [
              0.1111111111111111,
              "#46039f"
             ],
             [
              0.2222222222222222,
              "#7201a8"
             ],
             [
              0.3333333333333333,
              "#9c179e"
             ],
             [
              0.4444444444444444,
              "#bd3786"
             ],
             [
              0.5555555555555556,
              "#d8576b"
             ],
             [
              0.6666666666666666,
              "#ed7953"
             ],
             [
              0.7777777777777778,
              "#fb9f3a"
             ],
             [
              0.8888888888888888,
              "#fdca26"
             ],
             [
              1,
              "#f0f921"
             ]
            ],
            "type": "contour"
           }
          ],
          "contourcarpet": [
           {
            "colorbar": {
             "outlinewidth": 0,
             "ticks": ""
            },
            "type": "contourcarpet"
           }
          ],
          "heatmap": [
           {
            "colorbar": {
             "outlinewidth": 0,
             "ticks": ""
            },
            "colorscale": [
             [
              0,
              "#0d0887"
             ],
             [
              0.1111111111111111,
              "#46039f"
             ],
             [
              0.2222222222222222,
              "#7201a8"
             ],
             [
              0.3333333333333333,
              "#9c179e"
             ],
             [
              0.4444444444444444,
              "#bd3786"
             ],
             [
              0.5555555555555556,
              "#d8576b"
             ],
             [
              0.6666666666666666,
              "#ed7953"
             ],
             [
              0.7777777777777778,
              "#fb9f3a"
             ],
             [
              0.8888888888888888,
              "#fdca26"
             ],
             [
              1,
              "#f0f921"
             ]
            ],
            "type": "heatmap"
           }
          ],
          "heatmapgl": [
           {
            "colorbar": {
             "outlinewidth": 0,
             "ticks": ""
            },
            "colorscale": [
             [
              0,
              "#0d0887"
             ],
             [
              0.1111111111111111,
              "#46039f"
             ],
             [
              0.2222222222222222,
              "#7201a8"
             ],
             [
              0.3333333333333333,
              "#9c179e"
             ],
             [
              0.4444444444444444,
              "#bd3786"
             ],
             [
              0.5555555555555556,
              "#d8576b"
             ],
             [
              0.6666666666666666,
              "#ed7953"
             ],
             [
              0.7777777777777778,
              "#fb9f3a"
             ],
             [
              0.8888888888888888,
              "#fdca26"
             ],
             [
              1,
              "#f0f921"
             ]
            ],
            "type": "heatmapgl"
           }
          ],
          "histogram": [
           {
            "marker": {
             "pattern": {
              "fillmode": "overlay",
              "size": 10,
              "solidity": 0.2
             }
            },
            "type": "histogram"
           }
          ],
          "histogram2d": [
           {
            "colorbar": {
             "outlinewidth": 0,
             "ticks": ""
            },
            "colorscale": [
             [
              0,
              "#0d0887"
             ],
             [
              0.1111111111111111,
              "#46039f"
             ],
             [
              0.2222222222222222,
              "#7201a8"
             ],
             [
              0.3333333333333333,
              "#9c179e"
             ],
             [
              0.4444444444444444,
              "#bd3786"
             ],
             [
              0.5555555555555556,
              "#d8576b"
             ],
             [
              0.6666666666666666,
              "#ed7953"
             ],
             [
              0.7777777777777778,
              "#fb9f3a"
             ],
             [
              0.8888888888888888,
              "#fdca26"
             ],
             [
              1,
              "#f0f921"
             ]
            ],
            "type": "histogram2d"
           }
          ],
          "histogram2dcontour": [
           {
            "colorbar": {
             "outlinewidth": 0,
             "ticks": ""
            },
            "colorscale": [
             [
              0,
              "#0d0887"
             ],
             [
              0.1111111111111111,
              "#46039f"
             ],
             [
              0.2222222222222222,
              "#7201a8"
             ],
             [
              0.3333333333333333,
              "#9c179e"
             ],
             [
              0.4444444444444444,
              "#bd3786"
             ],
             [
              0.5555555555555556,
              "#d8576b"
             ],
             [
              0.6666666666666666,
              "#ed7953"
             ],
             [
              0.7777777777777778,
              "#fb9f3a"
             ],
             [
              0.8888888888888888,
              "#fdca26"
             ],
             [
              1,
              "#f0f921"
             ]
            ],
            "type": "histogram2dcontour"
           }
          ],
          "mesh3d": [
           {
            "colorbar": {
             "outlinewidth": 0,
             "ticks": ""
            },
            "type": "mesh3d"
           }
          ],
          "parcoords": [
           {
            "line": {
             "colorbar": {
              "outlinewidth": 0,
              "ticks": ""
             }
            },
            "type": "parcoords"
           }
          ],
          "pie": [
           {
            "automargin": true,
            "type": "pie"
           }
          ],
          "scatter": [
           {
            "fillpattern": {
             "fillmode": "overlay",
             "size": 10,
             "solidity": 0.2
            },
            "type": "scatter"
           }
          ],
          "scatter3d": [
           {
            "line": {
             "colorbar": {
              "outlinewidth": 0,
              "ticks": ""
             }
            },
            "marker": {
             "colorbar": {
              "outlinewidth": 0,
              "ticks": ""
             }
            },
            "type": "scatter3d"
           }
          ],
          "scattercarpet": [
           {
            "marker": {
             "colorbar": {
              "outlinewidth": 0,
              "ticks": ""
             }
            },
            "type": "scattercarpet"
           }
          ],
          "scattergeo": [
           {
            "marker": {
             "colorbar": {
              "outlinewidth": 0,
              "ticks": ""
             }
            },
            "type": "scattergeo"
           }
          ],
          "scattergl": [
           {
            "marker": {
             "colorbar": {
              "outlinewidth": 0,
              "ticks": ""
             }
            },
            "type": "scattergl"
           }
          ],
          "scattermapbox": [
           {
            "marker": {
             "colorbar": {
              "outlinewidth": 0,
              "ticks": ""
             }
            },
            "type": "scattermapbox"
           }
          ],
          "scatterpolar": [
           {
            "marker": {
             "colorbar": {
              "outlinewidth": 0,
              "ticks": ""
             }
            },
            "type": "scatterpolar"
           }
          ],
          "scatterpolargl": [
           {
            "marker": {
             "colorbar": {
              "outlinewidth": 0,
              "ticks": ""
             }
            },
            "type": "scatterpolargl"
           }
          ],
          "scatterternary": [
           {
            "marker": {
             "colorbar": {
              "outlinewidth": 0,
              "ticks": ""
             }
            },
            "type": "scatterternary"
           }
          ],
          "surface": [
           {
            "colorbar": {
             "outlinewidth": 0,
             "ticks": ""
            },
            "colorscale": [
             [
              0,
              "#0d0887"
             ],
             [
              0.1111111111111111,
              "#46039f"
             ],
             [
              0.2222222222222222,
              "#7201a8"
             ],
             [
              0.3333333333333333,
              "#9c179e"
             ],
             [
              0.4444444444444444,
              "#bd3786"
             ],
             [
              0.5555555555555556,
              "#d8576b"
             ],
             [
              0.6666666666666666,
              "#ed7953"
             ],
             [
              0.7777777777777778,
              "#fb9f3a"
             ],
             [
              0.8888888888888888,
              "#fdca26"
             ],
             [
              1,
              "#f0f921"
             ]
            ],
            "type": "surface"
           }
          ],
          "table": [
           {
            "cells": {
             "fill": {
              "color": "#EBF0F8"
             },
             "line": {
              "color": "white"
             }
            },
            "header": {
             "fill": {
              "color": "#C8D4E3"
             },
             "line": {
              "color": "white"
             }
            },
            "type": "table"
           }
          ]
         },
         "layout": {
          "annotationdefaults": {
           "arrowcolor": "#2a3f5f",
           "arrowhead": 0,
           "arrowwidth": 1
          },
          "autotypenumbers": "strict",
          "coloraxis": {
           "colorbar": {
            "outlinewidth": 0,
            "ticks": ""
           }
          },
          "colorscale": {
           "diverging": [
            [
             0,
             "#8e0152"
            ],
            [
             0.1,
             "#c51b7d"
            ],
            [
             0.2,
             "#de77ae"
            ],
            [
             0.3,
             "#f1b6da"
            ],
            [
             0.4,
             "#fde0ef"
            ],
            [
             0.5,
             "#f7f7f7"
            ],
            [
             0.6,
             "#e6f5d0"
            ],
            [
             0.7,
             "#b8e186"
            ],
            [
             0.8,
             "#7fbc41"
            ],
            [
             0.9,
             "#4d9221"
            ],
            [
             1,
             "#276419"
            ]
           ],
           "sequential": [
            [
             0,
             "#0d0887"
            ],
            [
             0.1111111111111111,
             "#46039f"
            ],
            [
             0.2222222222222222,
             "#7201a8"
            ],
            [
             0.3333333333333333,
             "#9c179e"
            ],
            [
             0.4444444444444444,
             "#bd3786"
            ],
            [
             0.5555555555555556,
             "#d8576b"
            ],
            [
             0.6666666666666666,
             "#ed7953"
            ],
            [
             0.7777777777777778,
             "#fb9f3a"
            ],
            [
             0.8888888888888888,
             "#fdca26"
            ],
            [
             1,
             "#f0f921"
            ]
           ],
           "sequentialminus": [
            [
             0,
             "#0d0887"
            ],
            [
             0.1111111111111111,
             "#46039f"
            ],
            [
             0.2222222222222222,
             "#7201a8"
            ],
            [
             0.3333333333333333,
             "#9c179e"
            ],
            [
             0.4444444444444444,
             "#bd3786"
            ],
            [
             0.5555555555555556,
             "#d8576b"
            ],
            [
             0.6666666666666666,
             "#ed7953"
            ],
            [
             0.7777777777777778,
             "#fb9f3a"
            ],
            [
             0.8888888888888888,
             "#fdca26"
            ],
            [
             1,
             "#f0f921"
            ]
           ]
          },
          "colorway": [
           "#636efa",
           "#EF553B",
           "#00cc96",
           "#ab63fa",
           "#FFA15A",
           "#19d3f3",
           "#FF6692",
           "#B6E880",
           "#FF97FF",
           "#FECB52"
          ],
          "font": {
           "color": "#2a3f5f"
          },
          "geo": {
           "bgcolor": "white",
           "lakecolor": "white",
           "landcolor": "#E5ECF6",
           "showlakes": true,
           "showland": true,
           "subunitcolor": "white"
          },
          "hoverlabel": {
           "align": "left"
          },
          "hovermode": "closest",
          "mapbox": {
           "style": "light"
          },
          "paper_bgcolor": "white",
          "plot_bgcolor": "#E5ECF6",
          "polar": {
           "angularaxis": {
            "gridcolor": "white",
            "linecolor": "white",
            "ticks": ""
           },
           "bgcolor": "#E5ECF6",
           "radialaxis": {
            "gridcolor": "white",
            "linecolor": "white",
            "ticks": ""
           }
          },
          "scene": {
           "xaxis": {
            "backgroundcolor": "#E5ECF6",
            "gridcolor": "white",
            "gridwidth": 2,
            "linecolor": "white",
            "showbackground": true,
            "ticks": "",
            "zerolinecolor": "white"
           },
           "yaxis": {
            "backgroundcolor": "#E5ECF6",
            "gridcolor": "white",
            "gridwidth": 2,
            "linecolor": "white",
            "showbackground": true,
            "ticks": "",
            "zerolinecolor": "white"
           },
           "zaxis": {
            "backgroundcolor": "#E5ECF6",
            "gridcolor": "white",
            "gridwidth": 2,
            "linecolor": "white",
            "showbackground": true,
            "ticks": "",
            "zerolinecolor": "white"
           }
          },
          "shapedefaults": {
           "line": {
            "color": "#2a3f5f"
           }
          },
          "ternary": {
           "aaxis": {
            "gridcolor": "white",
            "linecolor": "white",
            "ticks": ""
           },
           "baxis": {
            "gridcolor": "white",
            "linecolor": "white",
            "ticks": ""
           },
           "bgcolor": "#E5ECF6",
           "caxis": {
            "gridcolor": "white",
            "linecolor": "white",
            "ticks": ""
           }
          },
          "title": {
           "x": 0.05
          },
          "xaxis": {
           "automargin": true,
           "gridcolor": "white",
           "linecolor": "white",
           "ticks": "",
           "title": {
            "standoff": 15
           },
           "zerolinecolor": "white",
           "zerolinewidth": 2
          },
          "yaxis": {
           "automargin": true,
           "gridcolor": "white",
           "linecolor": "white",
           "ticks": "",
           "title": {
            "standoff": 15
           },
           "zerolinecolor": "white",
           "zerolinewidth": 2
          }
         }
        },
        "title": {
         "text": "GANTT Chart"
        },
        "xaxis": {
         "range": [
          "1970-01-01T00:00:00",
          "1970-01-01T10:35:27.327912"
         ],
         "title": {
          "font": {
           "color": "#7f7f7f",
           "family": "Courier New, monospace",
           "size": 18
          },
          "text": "Time"
         }
        },
        "yaxis": {
         "title": {
          "font": {
           "color": "#7f7f7f",
           "family": "Courier New, monospace",
           "size": 18
          },
          "text": "Activities"
         }
        }
       }
      },
      "text/html": [
       "<div>                            <div id=\"e0da8552-6d35-42fb-9e5b-ecd7c9ebe230\" class=\"plotly-graph-div\" style=\"height:525px; width:100%;\"></div>            <script type=\"text/javascript\">                require([\"plotly\"], function(Plotly) {                    window.PLOTLYENV=window.PLOTLYENV || {};                                    if (document.getElementById(\"e0da8552-6d35-42fb-9e5b-ecd7c9ebe230\")) {                    Plotly.newPlot(                        \"e0da8552-6d35-42fb-9e5b-ecd7c9ebe230\",                        [{\"connectgaps\":false,\"hoverinfo\":\"y+name\",\"line\":{\"color\":\"rgb(201,14,28)\",\"width\":10},\"mode\":\"lines\",\"name\":\"sailing full dredging vessel\",\"x\":[\"1970-01-01T00:40:20.113018\",\"1970-01-01T00:40:20.113018\",\"1970-01-01T01:07:00.207200\",\"1970-01-01T01:07:00.207200\",\"1970-01-01T01:07:00.207200\",\"1970-01-01T01:50:40.320219\",\"1970-01-01T01:50:40.320219\",\"1970-01-01T02:17:20.414401\",\"1970-01-01T02:17:20.414401\",\"1970-01-01T02:17:20.414401\",\"1970-01-01T03:01:00.527419\",\"1970-01-01T03:01:00.527419\",\"1970-01-01T03:27:40.621601\",\"1970-01-01T03:27:40.621601\",\"1970-01-01T03:27:40.621601\",\"1970-01-01T04:11:20.734620\",\"1970-01-01T04:11:20.734620\",\"1970-01-01T04:38:00.828802\",\"1970-01-01T04:38:00.828802\",\"1970-01-01T04:38:00.828802\",\"1970-01-01T05:21:40.941820\",\"1970-01-01T05:21:40.941820\",\"1970-01-01T05:48:21.036002\",\"1970-01-01T05:48:21.036002\",\"1970-01-01T05:48:21.036002\",\"1970-01-01T06:32:01.149021\",\"1970-01-01T06:32:01.149021\",\"1970-01-01T06:58:41.243203\",\"1970-01-01T06:58:41.243203\",\"1970-01-01T06:58:41.243203\",\"1970-01-01T07:42:21.356221\",\"1970-01-01T07:42:21.356221\",\"1970-01-01T08:09:01.450403\",\"1970-01-01T08:09:01.450403\",\"1970-01-01T08:09:01.450403\",\"1970-01-01T08:52:41.563422\",\"1970-01-01T08:52:41.563422\",\"1970-01-01T09:19:21.657604\",\"1970-01-01T09:19:21.657604\",\"1970-01-01T09:19:21.657604\",\"1970-01-01T10:03:01.770622\",\"1970-01-01T10:03:01.770622\",\"1970-01-01T10:32:07.327912\",\"1970-01-01T10:32:07.327912\",\"1970-01-01T10:32:07.327912\"],\"y\":[\"dredging vessel\",\"dredging vessel\",\"dredging vessel\",\"dredging vessel\",null,\"dredging vessel\",\"dredging vessel\",\"dredging vessel\",\"dredging vessel\",null,\"dredging vessel\",\"dredging vessel\",\"dredging vessel\",\"dredging vessel\",null,\"dredging vessel\",\"dredging vessel\",\"dredging vessel\",\"dredging vessel\",null,\"dredging vessel\",\"dredging vessel\",\"dredging vessel\",\"dredging vessel\",null,\"dredging vessel\",\"dredging vessel\",\"dredging vessel\",\"dredging vessel\",null,\"dredging vessel\",\"dredging vessel\",\"dredging vessel\",\"dredging vessel\",null,\"dredging vessel\",\"dredging vessel\",\"dredging vessel\",\"dredging vessel\",null,\"dredging vessel\",\"dredging vessel\",\"dredging vessel\",\"dredging vessel\",null],\"type\":\"scatter\"},{\"connectgaps\":false,\"hoverinfo\":\"y+name\",\"line\":{\"color\":\"rgb(237,50,64)\",\"width\":10},\"mode\":\"lines\",\"name\":\"loading dredging vessel\",\"x\":[\"1970-01-01T00:32:00.113018\",\"1970-01-01T00:32:00.113018\",\"1970-01-01T00:40:20.113018\",\"1970-01-01T00:40:20.113018\",\"1970-01-01T00:40:20.113018\",\"1970-01-01T01:42:20.320219\",\"1970-01-01T01:42:20.320219\",\"1970-01-01T01:50:40.320219\",\"1970-01-01T01:50:40.320219\",\"1970-01-01T01:50:40.320219\",\"1970-01-01T02:52:40.527419\",\"1970-01-01T02:52:40.527419\",\"1970-01-01T03:01:00.527419\",\"1970-01-01T03:01:00.527419\",\"1970-01-01T03:01:00.527419\",\"1970-01-01T04:03:00.734620\",\"1970-01-01T04:03:00.734620\",\"1970-01-01T04:11:20.734620\",\"1970-01-01T04:11:20.734620\",\"1970-01-01T04:11:20.734620\",\"1970-01-01T05:13:20.941820\",\"1970-01-01T05:13:20.941820\",\"1970-01-01T05:21:40.941820\",\"1970-01-01T05:21:40.941820\",\"1970-01-01T05:21:40.941820\",\"1970-01-01T06:23:41.149021\",\"1970-01-01T06:23:41.149021\",\"1970-01-01T06:32:01.149021\",\"1970-01-01T06:32:01.149021\",\"1970-01-01T06:32:01.149021\",\"1970-01-01T07:34:01.356221\",\"1970-01-01T07:34:01.356221\",\"1970-01-01T07:42:21.356221\",\"1970-01-01T07:42:21.356221\",\"1970-01-01T07:42:21.356221\",\"1970-01-01T08:44:21.563422\",\"1970-01-01T08:44:21.563422\",\"1970-01-01T08:52:41.563422\",\"1970-01-01T08:52:41.563422\",\"1970-01-01T08:52:41.563422\",\"1970-01-01T09:54:41.770622\",\"1970-01-01T09:54:41.770622\",\"1970-01-01T10:03:01.770622\",\"1970-01-01T10:03:01.770622\",\"1970-01-01T10:03:01.770622\"],\"y\":[\"dredging vessel\",\"dredging vessel\",\"dredging vessel\",\"dredging vessel\",null,\"dredging vessel\",\"dredging vessel\",\"dredging vessel\",\"dredging vessel\",null,\"dredging vessel\",\"dredging vessel\",\"dredging vessel\",\"dredging vessel\",null,\"dredging vessel\",\"dredging vessel\",\"dredging vessel\",\"dredging vessel\",null,\"dredging vessel\",\"dredging vessel\",\"dredging vessel\",\"dredging vessel\",null,\"dredging vessel\",\"dredging vessel\",\"dredging vessel\",\"dredging vessel\",null,\"dredging vessel\",\"dredging vessel\",\"dredging vessel\",\"dredging vessel\",null,\"dredging vessel\",\"dredging vessel\",\"dredging vessel\",\"dredging vessel\",null,\"dredging vessel\",\"dredging vessel\",\"dredging vessel\",\"dredging vessel\",null],\"type\":\"scatter\"},{\"connectgaps\":false,\"hoverinfo\":\"y+name\",\"line\":{\"color\":\"rgb(17,86,100)\",\"width\":10},\"mode\":\"lines\",\"name\":\"unloading dredging vessel\",\"x\":[\"1970-01-01T01:07:00.207200\",\"1970-01-01T01:07:00.207200\",\"1970-01-01T01:10:20.207200\",\"1970-01-01T01:10:20.207200\",\"1970-01-01T01:10:20.207200\",\"1970-01-01T02:17:20.414401\",\"1970-01-01T02:17:20.414401\",\"1970-01-01T02:20:40.414401\",\"1970-01-01T02:20:40.414401\",\"1970-01-01T02:20:40.414401\",\"1970-01-01T03:27:40.621601\",\"1970-01-01T03:27:40.621601\",\"1970-01-01T03:31:00.621601\",\"1970-01-01T03:31:00.621601\",\"1970-01-01T03:31:00.621601\",\"1970-01-01T04:38:00.828802\",\"1970-01-01T04:38:00.828802\",\"1970-01-01T04:41:20.828802\",\"1970-01-01T04:41:20.828802\",\"1970-01-01T04:41:20.828802\",\"1970-01-01T05:48:21.036002\",\"1970-01-01T05:48:21.036002\",\"1970-01-01T05:51:41.036002\",\"1970-01-01T05:51:41.036002\",\"1970-01-01T05:51:41.036002\",\"1970-01-01T06:58:41.243203\",\"1970-01-01T06:58:41.243203\",\"1970-01-01T07:02:01.243203\",\"1970-01-01T07:02:01.243203\",\"1970-01-01T07:02:01.243203\",\"1970-01-01T08:09:01.450403\",\"1970-01-01T08:09:01.450403\",\"1970-01-01T08:12:21.450403\",\"1970-01-01T08:12:21.450403\",\"1970-01-01T08:12:21.450403\",\"1970-01-01T09:19:21.657604\",\"1970-01-01T09:19:21.657604\",\"1970-01-01T09:22:41.657604\",\"1970-01-01T09:22:41.657604\",\"1970-01-01T09:22:41.657604\",\"1970-01-01T10:32:07.327912\",\"1970-01-01T10:32:07.327912\",\"1970-01-01T10:35:27.327912\",\"1970-01-01T10:35:27.327912\",\"1970-01-01T10:35:27.327912\"],\"y\":[\"dredging vessel\",\"dredging vessel\",\"dredging vessel\",\"dredging vessel\",null,\"dredging vessel\",\"dredging vessel\",\"dredging vessel\",\"dredging vessel\",null,\"dredging vessel\",\"dredging vessel\",\"dredging vessel\",\"dredging vessel\",null,\"dredging vessel\",\"dredging vessel\",\"dredging vessel\",\"dredging vessel\",null,\"dredging vessel\",\"dredging vessel\",\"dredging vessel\",\"dredging vessel\",null,\"dredging vessel\",\"dredging vessel\",\"dredging vessel\",\"dredging vessel\",null,\"dredging vessel\",\"dredging vessel\",\"dredging vessel\",\"dredging vessel\",null,\"dredging vessel\",\"dredging vessel\",\"dredging vessel\",\"dredging vessel\",null,\"dredging vessel\",\"dredging vessel\",\"dredging vessel\",\"dredging vessel\",null],\"type\":\"scatter\"},{\"connectgaps\":false,\"hoverinfo\":\"y+name\",\"line\":{\"color\":\"rgb(53,122,136)\",\"width\":10},\"mode\":\"lines\",\"name\":\"sailing empty dredging vessel\",\"x\":[\"1970-01-01T00:00:00\",\"1970-01-01T00:00:00\",\"1970-01-01T00:32:00.113018\",\"1970-01-01T00:32:00.113018\",\"1970-01-01T00:32:00.113018\",\"1970-01-01T01:10:20.207200\",\"1970-01-01T01:10:20.207200\",\"1970-01-01T01:42:20.320219\",\"1970-01-01T01:42:20.320219\",\"1970-01-01T01:42:20.320219\",\"1970-01-01T02:20:40.414401\",\"1970-01-01T02:20:40.414401\",\"1970-01-01T02:52:40.527419\",\"1970-01-01T02:52:40.527419\",\"1970-01-01T02:52:40.527419\",\"1970-01-01T03:31:00.621601\",\"1970-01-01T03:31:00.621601\",\"1970-01-01T04:03:00.734620\",\"1970-01-01T04:03:00.734620\",\"1970-01-01T04:03:00.734620\",\"1970-01-01T04:41:20.828802\",\"1970-01-01T04:41:20.828802\",\"1970-01-01T05:13:20.941820\",\"1970-01-01T05:13:20.941820\",\"1970-01-01T05:13:20.941820\",\"1970-01-01T05:51:41.036002\",\"1970-01-01T05:51:41.036002\",\"1970-01-01T06:23:41.149021\",\"1970-01-01T06:23:41.149021\",\"1970-01-01T06:23:41.149021\",\"1970-01-01T07:02:01.243203\",\"1970-01-01T07:02:01.243203\",\"1970-01-01T07:34:01.356221\",\"1970-01-01T07:34:01.356221\",\"1970-01-01T07:34:01.356221\",\"1970-01-01T08:12:21.450403\",\"1970-01-01T08:12:21.450403\",\"1970-01-01T08:44:21.563422\",\"1970-01-01T08:44:21.563422\",\"1970-01-01T08:44:21.563422\",\"1970-01-01T09:22:41.657604\",\"1970-01-01T09:22:41.657604\",\"1970-01-01T09:54:41.770622\",\"1970-01-01T09:54:41.770622\",\"1970-01-01T09:54:41.770622\"],\"y\":[\"dredging vessel\",\"dredging vessel\",\"dredging vessel\",\"dredging vessel\",null,\"dredging vessel\",\"dredging vessel\",\"dredging vessel\",\"dredging vessel\",null,\"dredging vessel\",\"dredging vessel\",\"dredging vessel\",\"dredging vessel\",null,\"dredging vessel\",\"dredging vessel\",\"dredging vessel\",\"dredging vessel\",null,\"dredging vessel\",\"dredging vessel\",\"dredging vessel\",\"dredging vessel\",null,\"dredging vessel\",\"dredging vessel\",\"dredging vessel\",\"dredging vessel\",null,\"dredging vessel\",\"dredging vessel\",\"dredging vessel\",\"dredging vessel\",null,\"dredging vessel\",\"dredging vessel\",\"dredging vessel\",\"dredging vessel\",null,\"dredging vessel\",\"dredging vessel\",\"dredging vessel\",\"dredging vessel\",null],\"type\":\"scatter\"},{\"connectgaps\":false,\"hoverinfo\":\"y+name\",\"line\":{\"color\":\"rgb(89,158,172)\",\"width\":10},\"mode\":\"lines\",\"name\":\"sailing full seagoing vessel\",\"x\":[\"1970-01-01T00:03:20\",\"1970-01-01T00:03:20\",\"1970-01-01T00:38:13.474629\",\"1970-01-01T00:38:13.474629\",\"1970-01-01T00:38:13.474629\"],\"y\":[\"seagoing vessel\",\"seagoing vessel\",\"seagoing vessel\",\"seagoing vessel\",null],\"type\":\"scatter\"},{\"connectgaps\":false,\"hoverinfo\":\"y+name\",\"line\":{\"color\":\"rgb(125,194,208)\",\"width\":10},\"mode\":\"lines\",\"name\":\"sailing empty seagoing vessel\",\"x\":[\"1970-01-01T00:45:20.113018\",\"1970-01-01T00:45:20.113018\",\"1970-01-01T01:22:33.152622\",\"1970-01-01T01:22:33.152622\",\"1970-01-01T01:22:33.152622\"],\"y\":[\"seagoing vessel\",\"seagoing vessel\",\"seagoing vessel\",\"seagoing vessel\",null],\"type\":\"scatter\"},{\"connectgaps\":false,\"hoverinfo\":\"y+name\",\"line\":{\"color\":\"rgb(161,230,244)\",\"width\":10},\"mode\":\"lines\",\"name\":\"unloading seagoing vessel\",\"x\":[\"1970-01-01T00:40:20.113018\",\"1970-01-01T00:40:20.113018\",\"1970-01-01T00:45:20.113018\",\"1970-01-01T00:45:20.113018\",\"1970-01-01T00:45:20.113018\"],\"y\":[\"seagoing vessel\",\"seagoing vessel\",\"seagoing vessel\",\"seagoing vessel\",null],\"type\":\"scatter\"}],                        {\"hovermode\":\"closest\",\"legend\":{\"orientation\":\"h\",\"x\":0,\"y\":-0.2},\"template\":{\"data\":{\"barpolar\":[{\"marker\":{\"line\":{\"color\":\"#E5ECF6\",\"width\":0.5},\"pattern\":{\"fillmode\":\"overlay\",\"size\":10,\"solidity\":0.2}},\"type\":\"barpolar\"}],\"bar\":[{\"error_x\":{\"color\":\"#2a3f5f\"},\"error_y\":{\"color\":\"#2a3f5f\"},\"marker\":{\"line\":{\"color\":\"#E5ECF6\",\"width\":0.5},\"pattern\":{\"fillmode\":\"overlay\",\"size\":10,\"solidity\":0.2}},\"type\":\"bar\"}],\"carpet\":[{\"aaxis\":{\"endlinecolor\":\"#2a3f5f\",\"gridcolor\":\"white\",\"linecolor\":\"white\",\"minorgridcolor\":\"white\",\"startlinecolor\":\"#2a3f5f\"},\"baxis\":{\"endlinecolor\":\"#2a3f5f\",\"gridcolor\":\"white\",\"linecolor\":\"white\",\"minorgridcolor\":\"white\",\"startlinecolor\":\"#2a3f5f\"},\"type\":\"carpet\"}],\"choropleth\":[{\"colorbar\":{\"outlinewidth\":0,\"ticks\":\"\"},\"type\":\"choropleth\"}],\"contourcarpet\":[{\"colorbar\":{\"outlinewidth\":0,\"ticks\":\"\"},\"type\":\"contourcarpet\"}],\"contour\":[{\"colorbar\":{\"outlinewidth\":0,\"ticks\":\"\"},\"colorscale\":[[0.0,\"#0d0887\"],[0.1111111111111111,\"#46039f\"],[0.2222222222222222,\"#7201a8\"],[0.3333333333333333,\"#9c179e\"],[0.4444444444444444,\"#bd3786\"],[0.5555555555555556,\"#d8576b\"],[0.6666666666666666,\"#ed7953\"],[0.7777777777777778,\"#fb9f3a\"],[0.8888888888888888,\"#fdca26\"],[1.0,\"#f0f921\"]],\"type\":\"contour\"}],\"heatmapgl\":[{\"colorbar\":{\"outlinewidth\":0,\"ticks\":\"\"},\"colorscale\":[[0.0,\"#0d0887\"],[0.1111111111111111,\"#46039f\"],[0.2222222222222222,\"#7201a8\"],[0.3333333333333333,\"#9c179e\"],[0.4444444444444444,\"#bd3786\"],[0.5555555555555556,\"#d8576b\"],[0.6666666666666666,\"#ed7953\"],[0.7777777777777778,\"#fb9f3a\"],[0.8888888888888888,\"#fdca26\"],[1.0,\"#f0f921\"]],\"type\":\"heatmapgl\"}],\"heatmap\":[{\"colorbar\":{\"outlinewidth\":0,\"ticks\":\"\"},\"colorscale\":[[0.0,\"#0d0887\"],[0.1111111111111111,\"#46039f\"],[0.2222222222222222,\"#7201a8\"],[0.3333333333333333,\"#9c179e\"],[0.4444444444444444,\"#bd3786\"],[0.5555555555555556,\"#d8576b\"],[0.6666666666666666,\"#ed7953\"],[0.7777777777777778,\"#fb9f3a\"],[0.8888888888888888,\"#fdca26\"],[1.0,\"#f0f921\"]],\"type\":\"heatmap\"}],\"histogram2dcontour\":[{\"colorbar\":{\"outlinewidth\":0,\"ticks\":\"\"},\"colorscale\":[[0.0,\"#0d0887\"],[0.1111111111111111,\"#46039f\"],[0.2222222222222222,\"#7201a8\"],[0.3333333333333333,\"#9c179e\"],[0.4444444444444444,\"#bd3786\"],[0.5555555555555556,\"#d8576b\"],[0.6666666666666666,\"#ed7953\"],[0.7777777777777778,\"#fb9f3a\"],[0.8888888888888888,\"#fdca26\"],[1.0,\"#f0f921\"]],\"type\":\"histogram2dcontour\"}],\"histogram2d\":[{\"colorbar\":{\"outlinewidth\":0,\"ticks\":\"\"},\"colorscale\":[[0.0,\"#0d0887\"],[0.1111111111111111,\"#46039f\"],[0.2222222222222222,\"#7201a8\"],[0.3333333333333333,\"#9c179e\"],[0.4444444444444444,\"#bd3786\"],[0.5555555555555556,\"#d8576b\"],[0.6666666666666666,\"#ed7953\"],[0.7777777777777778,\"#fb9f3a\"],[0.8888888888888888,\"#fdca26\"],[1.0,\"#f0f921\"]],\"type\":\"histogram2d\"}],\"histogram\":[{\"marker\":{\"pattern\":{\"fillmode\":\"overlay\",\"size\":10,\"solidity\":0.2}},\"type\":\"histogram\"}],\"mesh3d\":[{\"colorbar\":{\"outlinewidth\":0,\"ticks\":\"\"},\"type\":\"mesh3d\"}],\"parcoords\":[{\"line\":{\"colorbar\":{\"outlinewidth\":0,\"ticks\":\"\"}},\"type\":\"parcoords\"}],\"pie\":[{\"automargin\":true,\"type\":\"pie\"}],\"scatter3d\":[{\"line\":{\"colorbar\":{\"outlinewidth\":0,\"ticks\":\"\"}},\"marker\":{\"colorbar\":{\"outlinewidth\":0,\"ticks\":\"\"}},\"type\":\"scatter3d\"}],\"scattercarpet\":[{\"marker\":{\"colorbar\":{\"outlinewidth\":0,\"ticks\":\"\"}},\"type\":\"scattercarpet\"}],\"scattergeo\":[{\"marker\":{\"colorbar\":{\"outlinewidth\":0,\"ticks\":\"\"}},\"type\":\"scattergeo\"}],\"scattergl\":[{\"marker\":{\"colorbar\":{\"outlinewidth\":0,\"ticks\":\"\"}},\"type\":\"scattergl\"}],\"scattermapbox\":[{\"marker\":{\"colorbar\":{\"outlinewidth\":0,\"ticks\":\"\"}},\"type\":\"scattermapbox\"}],\"scatterpolargl\":[{\"marker\":{\"colorbar\":{\"outlinewidth\":0,\"ticks\":\"\"}},\"type\":\"scatterpolargl\"}],\"scatterpolar\":[{\"marker\":{\"colorbar\":{\"outlinewidth\":0,\"ticks\":\"\"}},\"type\":\"scatterpolar\"}],\"scatter\":[{\"fillpattern\":{\"fillmode\":\"overlay\",\"size\":10,\"solidity\":0.2},\"type\":\"scatter\"}],\"scatterternary\":[{\"marker\":{\"colorbar\":{\"outlinewidth\":0,\"ticks\":\"\"}},\"type\":\"scatterternary\"}],\"surface\":[{\"colorbar\":{\"outlinewidth\":0,\"ticks\":\"\"},\"colorscale\":[[0.0,\"#0d0887\"],[0.1111111111111111,\"#46039f\"],[0.2222222222222222,\"#7201a8\"],[0.3333333333333333,\"#9c179e\"],[0.4444444444444444,\"#bd3786\"],[0.5555555555555556,\"#d8576b\"],[0.6666666666666666,\"#ed7953\"],[0.7777777777777778,\"#fb9f3a\"],[0.8888888888888888,\"#fdca26\"],[1.0,\"#f0f921\"]],\"type\":\"surface\"}],\"table\":[{\"cells\":{\"fill\":{\"color\":\"#EBF0F8\"},\"line\":{\"color\":\"white\"}},\"header\":{\"fill\":{\"color\":\"#C8D4E3\"},\"line\":{\"color\":\"white\"}},\"type\":\"table\"}]},\"layout\":{\"annotationdefaults\":{\"arrowcolor\":\"#2a3f5f\",\"arrowhead\":0,\"arrowwidth\":1},\"autotypenumbers\":\"strict\",\"coloraxis\":{\"colorbar\":{\"outlinewidth\":0,\"ticks\":\"\"}},\"colorscale\":{\"diverging\":[[0,\"#8e0152\"],[0.1,\"#c51b7d\"],[0.2,\"#de77ae\"],[0.3,\"#f1b6da\"],[0.4,\"#fde0ef\"],[0.5,\"#f7f7f7\"],[0.6,\"#e6f5d0\"],[0.7,\"#b8e186\"],[0.8,\"#7fbc41\"],[0.9,\"#4d9221\"],[1,\"#276419\"]],\"sequential\":[[0.0,\"#0d0887\"],[0.1111111111111111,\"#46039f\"],[0.2222222222222222,\"#7201a8\"],[0.3333333333333333,\"#9c179e\"],[0.4444444444444444,\"#bd3786\"],[0.5555555555555556,\"#d8576b\"],[0.6666666666666666,\"#ed7953\"],[0.7777777777777778,\"#fb9f3a\"],[0.8888888888888888,\"#fdca26\"],[1.0,\"#f0f921\"]],\"sequentialminus\":[[0.0,\"#0d0887\"],[0.1111111111111111,\"#46039f\"],[0.2222222222222222,\"#7201a8\"],[0.3333333333333333,\"#9c179e\"],[0.4444444444444444,\"#bd3786\"],[0.5555555555555556,\"#d8576b\"],[0.6666666666666666,\"#ed7953\"],[0.7777777777777778,\"#fb9f3a\"],[0.8888888888888888,\"#fdca26\"],[1.0,\"#f0f921\"]]},\"colorway\":[\"#636efa\",\"#EF553B\",\"#00cc96\",\"#ab63fa\",\"#FFA15A\",\"#19d3f3\",\"#FF6692\",\"#B6E880\",\"#FF97FF\",\"#FECB52\"],\"font\":{\"color\":\"#2a3f5f\"},\"geo\":{\"bgcolor\":\"white\",\"lakecolor\":\"white\",\"landcolor\":\"#E5ECF6\",\"showlakes\":true,\"showland\":true,\"subunitcolor\":\"white\"},\"hoverlabel\":{\"align\":\"left\"},\"hovermode\":\"closest\",\"mapbox\":{\"style\":\"light\"},\"paper_bgcolor\":\"white\",\"plot_bgcolor\":\"#E5ECF6\",\"polar\":{\"angularaxis\":{\"gridcolor\":\"white\",\"linecolor\":\"white\",\"ticks\":\"\"},\"bgcolor\":\"#E5ECF6\",\"radialaxis\":{\"gridcolor\":\"white\",\"linecolor\":\"white\",\"ticks\":\"\"}},\"scene\":{\"xaxis\":{\"backgroundcolor\":\"#E5ECF6\",\"gridcolor\":\"white\",\"gridwidth\":2,\"linecolor\":\"white\",\"showbackground\":true,\"ticks\":\"\",\"zerolinecolor\":\"white\"},\"yaxis\":{\"backgroundcolor\":\"#E5ECF6\",\"gridcolor\":\"white\",\"gridwidth\":2,\"linecolor\":\"white\",\"showbackground\":true,\"ticks\":\"\",\"zerolinecolor\":\"white\"},\"zaxis\":{\"backgroundcolor\":\"#E5ECF6\",\"gridcolor\":\"white\",\"gridwidth\":2,\"linecolor\":\"white\",\"showbackground\":true,\"ticks\":\"\",\"zerolinecolor\":\"white\"}},\"shapedefaults\":{\"line\":{\"color\":\"#2a3f5f\"}},\"ternary\":{\"aaxis\":{\"gridcolor\":\"white\",\"linecolor\":\"white\",\"ticks\":\"\"},\"baxis\":{\"gridcolor\":\"white\",\"linecolor\":\"white\",\"ticks\":\"\"},\"bgcolor\":\"#E5ECF6\",\"caxis\":{\"gridcolor\":\"white\",\"linecolor\":\"white\",\"ticks\":\"\"}},\"title\":{\"x\":0.05},\"xaxis\":{\"automargin\":true,\"gridcolor\":\"white\",\"linecolor\":\"white\",\"ticks\":\"\",\"title\":{\"standoff\":15},\"zerolinecolor\":\"white\",\"zerolinewidth\":2},\"yaxis\":{\"automargin\":true,\"gridcolor\":\"white\",\"linecolor\":\"white\",\"ticks\":\"\",\"title\":{\"standoff\":15},\"zerolinecolor\":\"white\",\"zerolinewidth\":2}}},\"title\":{\"text\":\"GANTT Chart\"},\"xaxis\":{\"range\":[\"1970-01-01T00:00:00\",\"1970-01-01T10:35:27.327912\"],\"title\":{\"font\":{\"color\":\"#7f7f7f\",\"family\":\"Courier New, monospace\",\"size\":18},\"text\":\"Time\"}},\"yaxis\":{\"title\":{\"font\":{\"color\":\"#7f7f7f\",\"family\":\"Courier New, monospace\",\"size\":18},\"text\":\"Activities\"}}},                        {\"responsive\": true}                    ).then(function(){\n",
       "                            \n",
       "var gd = document.getElementById('e0da8552-6d35-42fb-9e5b-ecd7c9ebe230');\n",
       "var x = new MutationObserver(function (mutations, observer) {{\n",
       "        var display = window.getComputedStyle(gd).display;\n",
       "        if (!display || display === 'none') {{\n",
       "            console.log([gd, 'removed!']);\n",
       "            Plotly.purge(gd);\n",
       "            observer.disconnect();\n",
       "        }}\n",
       "}});\n",
       "\n",
       "// Listen for the removal of the full notebook cells\n",
       "var notebookContainer = gd.closest('#notebook-container');\n",
       "if (notebookContainer) {{\n",
       "    x.observe(notebookContainer, {childList: true});\n",
       "}}\n",
       "\n",
       "// Listen for the clearing of the current output cell\n",
       "var outputEl = gd.closest('.output');\n",
       "if (outputEl) {{\n",
       "    x.observe(outputEl, {childList: true});\n",
       "}}\n",
       "\n",
       "                        })                };                });            </script>        </div>"
      ]
     },
     "metadata": {},
     "output_type": "display_data"
    }
   ],
   "source": [
    "plot.get_gantt_chart([vessel01,vessel02], id_map=[activities_dredging_vessel, activities_seagoing_vessel])"
   ]
  },
  {
   "cell_type": "markdown",
   "id": "187697e1",
   "metadata": {},
   "source": [
    "##### 5.3 Visualise container volume developments"
   ]
  },
  {
   "cell_type": "code",
   "execution_count": 18,
   "id": "d1d97aae",
   "metadata": {
    "scrolled": false
   },
   "outputs": [
    {
     "data": {
      "image/png": "[encoded data removed]",
      "text/plain": [
       "<Figure size 1400x700 with 1 Axes>"
      ]
     },
     "metadata": {},
     "output_type": "display_data"
    }
   ],
   "source": [
    "fig = plot.get_step_chart([vessel01, berth, dump])"
   ]
  },
  {
   "cell_type": "code",
   "execution_count": 19,
   "id": "2081110d",
   "metadata": {},
   "outputs": [
    {
     "data": {
      "image/png": "[encoded data removed]",
      "text/plain": [
       "<Figure size 1400x700 with 1 Axes>"
      ]
     },
     "metadata": {},
     "output_type": "display_data"
    }
   ],
   "source": [
    "fig = plot.get_step_chart([vessel02, berth, offshore])"
   ]
  }
 ],
 "metadata": {
  "kernelspec": {
   "display_name": "Python 3 (ipykernel)",
   "language": "python",
   "name": "python3"
  },
  "language_info": {
   "codemirror_mode": {
    "name": "ipython",
    "version": 3
   },
   "file_extension": ".py",
   "mimetype": "text/x-python",
   "name": "python",
   "nbconvert_exporter": "python",
   "pygments_lexer": "ipython3",
   "version": "3.9.13"
  }
 },
 "nbformat": 4,
 "nbformat_minor": 5
}
