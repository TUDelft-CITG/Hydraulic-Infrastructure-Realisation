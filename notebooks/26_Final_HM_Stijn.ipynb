{
 "cells": [
  {
   "cell_type": "markdown",
   "metadata": {},
   "source": [
    "## Demo: SingleRun with HasDelayPlugin\n",
    "The basic steps to set up an OpenCLSim simulation are:\n",
    "* Import libraries\n",
    "* Initialise simpy environment\n",
    "* Define object classes\n",
    "* Create objects\n",
    "  * Create sites\n",
    "  * Create vessels\n",
    "  * Create activities\n",
    "* Register processes and run simpy\n",
    "\n",
    "----\n",
    "\n",
    "This example notebook shows how you can integrate percentual delays in your simulation. We demonstrate how you can use the HasDelayPlugin, and how you can give it a certain delay percentage."
   ]
  },
  {
   "cell_type": "markdown",
   "metadata": {},
   "source": [
    "#### 0. Import libraries"
   ]
  },
  {
   "cell_type": "code",
   "execution_count": 1,
   "metadata": {},
   "outputs": [],
   "source": [
    "import datetime, time\n",
    "import simpy\n",
    "\n",
    "import shapely.geometry\n",
    "import pandas as pd\n",
    "import numpy as np\n",
    "from matplotlib import pyplot as plt\n",
    "\n",
    "import openclsim.core as core\n",
    "import openclsim.model as model\n",
    "import openclsim.plot as plot\n",
    "import openclsim.plugins as plugins\n",
    "import opentnsim.core\n",
    "import functools\n",
    "import scipy.optimize\n",
    "\n",
    "# TO DO\n",
    "# namen van de functies moeten begrijpelijk zijn\n",
    "# v2P ipv calculate power\n",
    "\n",
    "# See chat for power to velocity\n",
    "# insert acceleration with power2v function. Better implementation for calculate power\n",
    "# One notebook for calculating velocity depending on a set power. From 0 to end. Need to know resistance over time for increasing velocity.\n",
    "# Depth integration. Varying depth over the graph -> see M v koningsveld. Might connect with opentnsim. move function -> velocity will be connected together."
   ]
  },
  {
   "cell_type": "markdown",
   "metadata": {},
   "source": [
    "# 0.1 Table of Contents"
   ]
  },
  {
   "cell_type": "code",
   "execution_count": 2,
   "metadata": {},
   "outputs": [],
   "source": [
    "# 1. Determination of Power based on set speed of the vessel by means of Holtrop Mennen\n",
    "# 2. Define Object Classes\n",
    "# 3. Create Object and set your vessel properties including the set speed\n",
    "# 4. Show results in numerical form\n",
    "# 5. Show results in form of dataframe\n",
    "# 6. Determination of Velocity based on set Power of the vessel by means of Holtrop Mennen\n",
    "# 7. Detemrination of acceleration and deceleration."
   ]
  },
  {
   "cell_type": "markdown",
   "metadata": {},
   "source": [
    "# 1. Determine P based on V"
   ]
  },
  {
   "cell_type": "code",
   "execution_count": 3,
   "metadata": {},
   "outputs": [],
   "source": [
    "# pip list\n",
    "# https://www.dredgepoint.org/dredging-database/equipment/ham-318 (L_wl = 159)"
   ]
  },
  {
   "cell_type": "code",
   "execution_count": 4,
   "metadata": {},
   "outputs": [],
   "source": [
    "def calculate_power(V_0=100, h=70,\n",
    "                    L_wl=159, B=32, T = 13.55, T_e=5.9, T_Fe = 3.29, T_Ff = 13.64, T_F = 13.55,\n",
    "                    nu=0.000001, C_b=0.85, rho=1025,\n",
    "                    c_stern = 0, one_k2=2.5, g=9.81, P_inst = 28636, P_max = 28064, V_max_e = 12, V_max_f = 10, BB = 'yes'):\n",
    "    \n",
    "    \n",
    "    #########################################################################################################################\n",
    "    \n",
    "    \n",
    "    \n",
    "    \"\"\"1) Frictional resistance\n",
    "            - 1st resistance component defined by Holtrop and Mennen (1982)\n",
    "            - A modification to the original friction line is applied, based on literature of Zeng (2018), to account for shallow water effects \"\"\"\n",
    "    C_M = 1.006 - 0.0056 * C_b ** (-3.56)  # Midship section coefficient: ratio of actual area of immersed portion of the \n",
    "#                                            ships midship section to the porduct of wdht and draft.\n",
    "    C_wp = (1 + 2 * C_b) / 3  # Waterplane coefficient : ratio of the actual area of the waterplane \n",
    "#                               to the product of the length and breadth of ship.\n",
    "    C_p = C_b / C_M  # Prismatic coefficient: ratio of volume of displacement of a ship to that of a prism\n",
    "#                       equal to lentg to tge distance between perpendicualrs of the ship and in cross-section of that of th immersed midship section.\n",
    "    C_BB = 0.2 #coefficient related to the width of the bulbous bow and the width of the ship.\n",
    "    \n",
    "    \n",
    "    # Block coefficient Cb = ratio underwater volume of ship to volume of recatngle having same overall length, breadth and depth.\n",
    "    delta = C_b * L_wl * B * T  # Water displacement\n",
    "\n",
    "    lcb = -13.5 + 19.4 * C_p  # longitudinal center of buoyancy\n",
    "    L_R = L_wl * (1 - C_p + (0.06 * C_p * lcb) / (\n",
    "                4 * C_p - 1))  # parameter reflecting the length of the run\n",
    "\n",
    "    A_T = 0.2 * B * T  # transverse area of the transom\n",
    "    \n",
    "    if BB == \"yes\":\n",
    "        A_BT = C_BB * B * T * C_M # transverse area of the bulb\n",
    "    else:\n",
    "        A_BT = 0\n",
    "   \n",
    "    # Total wet area\n",
    "    S_T = L_wl * (2 * T + B) * np.sqrt(C_M) * (\n",
    "                0.453 + 0.4425 * C_b - 0.2862 * C_M - 0.003467 * (\n",
    "                    B / T) + 0.3696 * C_wp) + 2.38 * (A_BT / C_b)\n",
    "\n",
    "    S_APP = 0.1 * S_T  # Wet area of appendages\n",
    "    S_B = L_wl * B  # Area of flat bottom\n",
    "\n",
    "    D_s = 0.7 * T  # Diameter of the screw\n",
    "\n",
    "\n",
    "    R_e = V_0 * L_wl / nu  # Reynolds number\n",
    "    D = h - T  # distance from bottom ship to the bottom of the fairway\n",
    "    \n",
    "    Cf_deep = 0.08169 / ((np.log10(R_e) - 1.717) ** 2)\n",
    "    \n",
    "    # Friction coefficient in deep water\n",
    "    Cf_0 = 0.075 / ((np.log10(R_e) - 2) ** 2)\n",
    "\n",
    "    # Friction coefficient proposed, taking into account shallow water effects\n",
    "    Cf_proposed = (0.08169 / ((np.log10(R_e) - 1.717) ** 2)) * (\n",
    "                1 + (0.003998 / (np.log10(R_e) - 4.393)) * (D / L_wl) ** (-1.083))\n",
    "\n",
    "    # 'a' is the coefficient needed to calculate the Katsui friction coefficient\n",
    "    a = 0.042612 * np.log10(R_e) + 0.56725\n",
    "    Cf_katsui = 0.0066577 / ((np.log10(R_e) - 4.3762) ** a)\n",
    "\n",
    "    # The average velocity underneath the ship, taking into account the shallow water effect\n",
    "\n",
    "    if h / T <= 4:\n",
    "        V_B = 0.4277 * V_0 * np.exp((h / T) ** (-0.07625))\n",
    "    else:\n",
    "        V_B = V_0\n",
    "\n",
    "    # cf_proposed cannot be applied directly, since a vessel also has non-horizontal wet surfaces that have to be taken\n",
    "    # into account. Therefore, the following formula for the final friction coefficient 'C_f' is defined:\n",
    "    if (h-T)/L_wl > 1:\n",
    "        C_f = Cf_0 + (Cf_deep - Cf_katsui) * (S_B/S_T)\n",
    "    else:\n",
    "        C_f = Cf_0 + (Cf_proposed - Cf_katsui) * (S_B / S_T) * (V_B / V_0) ** 2\n",
    "\n",
    "    # The total frictional resistance R_f [kN]:\n",
    "    R_f = (C_f * 0.5 * rho * (V_0 ** 2) * S_T) / 1000\n",
    "\n",
    "    ########################################################################################################################\n",
    "\n",
    "    \"\"\"2) Viscous resistance\n",
    "    - 2nd resistance component defined by Holtrop and Mennen (1982)\n",
    "    - Form factor (1 + k1) has to be multiplied by the frictional resistance R_f, to account for the effect of viscosity\"\"\"\n",
    "\n",
    "    # c_14 accounts for the specific shape of the afterbody\n",
    "    c_14 = 1 + 0.0011 * c_stern\n",
    "\n",
    "    # the form factor (1+k1) describes the viscous resistance\n",
    "    one_k1 = 0.93 + 0.487 * c_14 * ((B / L_wl) ** 1.068) * ((T / L_wl) ** 0.461) * (\n",
    "                (L_wl / L_R) ** 0.122) * (((L_wl ** 3) / delta) ** 0.365) * (\n",
    "                              (1 - C_p) ** (-0.604))\n",
    "\n",
    "    ########################################################################################################################\n",
    "\n",
    "\n",
    "    \"\"\"3) Appendage resistance\n",
    "    - 3rd resistance component defined by Holtrop and Mennen (1982)\n",
    "    - Appendages (like a rudder, shafts, skeg) result in additional frictional resistance\"\"\"\n",
    "\n",
    "    # Frictional resistance resulting from wetted area of appendages: R_APP [kN]\n",
    "    R_APP = (0.5 * rho * (V_0 ** 2) * S_APP * one_k2 * C_f) / 1000\n",
    "\n",
    "    #################################################################################################################\n",
    "\n",
    "\n",
    "    \"\"\"Intermediate calculation: Karpov\n",
    "    - The Karpov method computes a velocity correction that accounts for limited water depth (corrected velocity V2)\n",
    "    - V2 has to be implemented in the wave resistance and the residual resistance terms\"\"\"\n",
    "\n",
    "    # The Froude number used in the Karpov method is the depth related froude number F_nh\n",
    "\n",
    "    # The different alpha** curves are determined with a sixth power polynomial approximation in Excel\n",
    "    # A distinction is made between different ranges of Froude numbers, because this resulted in a better approximation of the curve\n",
    "    F_nh = V_0 / np.sqrt(g * h)\n",
    "\n",
    "    if F_nh <= 0.4:\n",
    "\n",
    "        if 0 <= h / T < 1.75:\n",
    "            alpha_xx = (-4 * 10 ** (\n",
    "                -12)) * F_nh ** 3 - 0.2143 * F_nh ** 2 - 0.0643 * F_nh + 0.9997\n",
    "        if 1.75 <= h / T < 2.25:\n",
    "            alpha_xx = -0.8333 * F_nh ** 3 + 0.25 * F_nh ** 2 - 0.0167 * F_nh + 1\n",
    "        if 2.25 <= h / T < 2.75:\n",
    "            alpha_xx = -1.25 * F_nh ** 4 + 0.5833 * F_nh ** 3 - 0.0375 * F_nh ** 2 - 0.0108 * F_nh + 1\n",
    "        if h / T >= 2.75:\n",
    "            alpha_xx = 1\n",
    "\n",
    "    if F_nh > 0.4:\n",
    "        if 0 <= h / T < 1.75:\n",
    "            alpha_xx = -0.9274 * F_nh ** 6 + 9.5953 * F_nh ** 5 - 37.197 * F_nh ** 4 + 69.666 * F_nh ** 3 - 65.391 * F_nh ** 2 + 28.025 * F_nh - 3.4143\n",
    "        if 1.75 <= h / T < 2.25:\n",
    "            alpha_xx = 2.2152 * F_nh ** 6 - 11.852 * F_nh ** 5 + 21.499 * F_nh ** 4 - 12.174 * F_nh ** 3 - 4.7873 * F_nh ** 2 + 5.8662 * F_nh - 0.2652\n",
    "        if 2.25 <= h / T < 2.75:\n",
    "            alpha_xx = 1.2205 * F_nh ** 6 - 5.4999 * F_nh ** 5 + 5.7966 * F_nh ** 4 + 6.6491 * F_nh ** 3 - 16.123 * F_nh ** 2 + 9.2016 * F_nh - 0.6342\n",
    "        if 2.75 <= h / T < 3.25:\n",
    "            alpha_xx = -0.4085 * F_nh ** 6 + 4.534 * F_nh ** 5 - 18.443 * F_nh ** 4 + 35.744 * F_nh ** 3 - 34.381 * F_nh ** 2 + 15.042 * F_nh - 1.3807\n",
    "        if 3.25 <= h / T < 3.75:\n",
    "            alpha_xx = 0.4078 * F_nh ** 6 - 0.919 * F_nh ** 5 - 3.8292 * F_nh ** 4 + 15.738 * F_nh ** 3 - 19.766 * F_nh ** 2 + 9.7466 * F_nh - 0.6409\n",
    "        if 3.75 <= h / T < 4.5:\n",
    "            alpha_xx = 0.3067 * F_nh ** 6 - 0.3404 * F_nh ** 5 - 5.0511 * F_nh ** 4 + 16.892 * F_nh ** 3 - 20.265 * F_nh ** 2 + 9.9002 * F_nh - 0.6712\n",
    "        if 4.5 <= h / T < 5.5:\n",
    "            alpha_xx = 0.3212 * F_nh ** 6 - 0.3559 * F_nh ** 5 - 5.1056 * F_nh ** 4 + 16.926 * F_nh ** 3 - 20.253 * F_nh ** 2 + 10.013 * F_nh - 0.7196\n",
    "        if 5.5 <= h / T < 6.5:\n",
    "            alpha_xx = 0.9252 * F_nh ** 6 - 4.2574 * F_nh ** 5 + 5.0363 * F_nh ** 4 + 3.3282 * F_nh ** 3 - 10.367 * F_nh ** 2 + 6.3993 * F_nh - 0.2074\n",
    "        if 6.5 <= h / T < 7.5:\n",
    "            alpha_xx = 0.8442 * F_nh ** 6 - 4.0261 * F_nh ** 5 + 5.313 * F_nh ** 4 + 1.6442 * F_nh ** 3 - 8.1848 * F_nh ** 2 + 5.3209 * F_nh - 0.0267\n",
    "        if 7.5 <= h / T < 8.5:\n",
    "            alpha_xx = 0.1211 * F_nh ** 6 + 0.628 * F_nh ** 5 - 6.5106 * F_nh ** 4 + 16.7 * F_nh ** 3 - 18.267 * F_nh ** 2 + 8.7077 * F_nh - 0.4745\n",
    "\n",
    "        if 8.5 <= h / T < 9.5:\n",
    "            if F_nh < 0.6:\n",
    "                alpha_xx = 1\n",
    "            if F_nh >= 0.6:\n",
    "                alpha_xx = -6.4069 * F_nh ** 6 + 47.308 * F_nh ** 5 - 141.93 * F_nh ** 4 + 220.23 * F_nh ** 3 - 185.05 * F_nh ** 2 + 79.25 * F_nh - 12.484\n",
    "        if h / T >= 9.5:\n",
    "            if F_nh < 0.6:\n",
    "                alpha_xx = 1\n",
    "            if F_nh >= 0.6:\n",
    "                alpha_xx = -6.0727 * F_nh ** 6 + 44.97 * F_nh ** 5 - 135.21 * F_nh ** 4 + 210.13 * F_nh ** 3 - 176.72 * F_nh ** 2 + 75.728 * F_nh - 11.893\n",
    "\n",
    "    V_2 = V_0 / alpha_xx\n",
    "\n",
    "    #################################################################################################################\n",
    "\n",
    "\n",
    "    # parameters\n",
    "    h_B = 0.2 * T_F    #Position of the centre of the transverse area [m]\n",
    "\n",
    "    F_n = V_2 / np.sqrt(g * L_wl)  # Froude number\n",
    "\n",
    "\n",
    "\n",
    "\n",
    "    \"\"\"Wave resistance\n",
    "    - 4th resistance component defined by Holtrop and Mennen (1982)\n",
    "    - When the speed or the vessel size increases, the wave making resistance increases\n",
    "    - In shallow water, the wave resistance shows an asymptotical behaviour by reaching the critical speed\n",
    "    \"\"\"\n",
    "\n",
    "    assert g >= 0, f'g should be positive: {g}'\n",
    "    assert L_wl >= 0, f'L should be positive: {L_wl}'\n",
    "    F_rL = V_2 / np.sqrt(g * L_wl)  # Froude number based on ship's speed to water and its length of waterline\n",
    "\n",
    "    # parameter c_7 is determined by the B/L ratio\n",
    "    if B / L_wl < 0.11:\n",
    "        c_7 = 0.229577 * (B / L_wl) ** 0.33333\n",
    "    if B / L_wl > 0.25:\n",
    "        c_7 = 0.5 - 0.0625 * (L_wl / B)\n",
    "    else:\n",
    "        c_7 = B / L_wl\n",
    "\n",
    "    # half angle of entrance in degrees\n",
    "    i_E = 1 + 89 * np.exp(-((L_wl / B) ** 0.80856) * ((1 - C_wp) ** 0.30484) * (\n",
    "                (1 - C_p - 0.0225 * lcb) ** 0.6367) * ((L_R / B) ** 0.34574) * (\n",
    "                                           (100 * delta / (L_wl ** 3)) ** 0.16302))\n",
    "\n",
    "    c_1 = 2223105 * (c_7 ** 3.78613) * ((T / B) ** 1.07961) * (90 - i_E) ** (-1.37165)\n",
    "    c_3 = (0.56 * A_BT**1.5)/(B * T *(0.31 * np.sqrt(A_BT)+T_F - h_B))\n",
    "    if BB == 'yes':\n",
    "        c_2 = np.exp(-1.89 * np.sqrt(c_3))\n",
    "    else:\n",
    "        c_2 = 1      # accounts for the effect of the bulbous bow, which is not present at inland ships\n",
    "#     c_2 =1\n",
    "    c_5 = 1 - (0.8 * A_T) / (\n",
    "                B * T * C_M)  # influence of the transom stern on the wave resistance\n",
    "\n",
    "    # parameter c_15 depoends on the ratio L^3 / delta\n",
    "    if (L_wl ** 3) / delta < 512:\n",
    "        c_15 = -1.69385\n",
    "    if (L_wl ** 3) / delta > 1727:\n",
    "        c_15 = 0\n",
    "    else:\n",
    "        c_15 = -1.69385 + (L_wl / (delta ** (1 / 3)) - 8) / 2.36\n",
    "\n",
    "    # parameter c_16 depends on C_P\n",
    "    if C_p < 0.8:\n",
    "        c_16 = 8.07981 * C_p - 13.8673 * (C_p ** 2) + 6.984388 * (C_p ** 3)\n",
    "    else:\n",
    "        c_16 = 1.73014 - 0.7067 * C_p\n",
    "\n",
    "    if L_wl / B < 12:\n",
    "        lmbda = 1.446 * C_p - 0.03 * (L_wl / B)\n",
    "    else:\n",
    "        lmbda = 1.446 * C_p - 0.36\n",
    "\n",
    "    m_1 = 0.0140407 * (L_wl / T) - 1.75254 * ((delta) ** (1 / 3) / L_wl) - 4.79323 * (\n",
    "                B / L_wl) - c_16\n",
    "    m_2 = c_15 * (C_p**2) *np.exp((-0.1)* (F_rL**(-2))) \n",
    "\n",
    "    R_W = c_1 * c_2 * c_5 * delta * rho * g * np.exp(m_1 * (F_rL**(-0.9)) + \n",
    "               m_2 * np.cos(lmbda * (F_rL ** (-2)))) / 1000 # kN\n",
    "\n",
    "   \n",
    "\n",
    "    #################################################################################################################\n",
    "\n",
    "    \"\"\"5) Bulbous Bow Resistance terms\n",
    "    - Extra resistance due to bulbousbow. Not for IWT, Yes for Dredging Vessels\"\"\"\n",
    "    # Only include Rb if bulbous bow is present, so make if statement\n",
    "    # R_B\n",
    "   \n",
    "    \n",
    "    \n",
    "    # Froude number based on immersoin of bulbous bow [-]\n",
    "    F_ni = (V_2/np.sqrt(g*(T_F - h_B - 0.25*np.sqrt(A_BT)+0.15*V_2**2)))\n",
    "    \n",
    "    #P_B is coefficient for the emergence of bulbous bow\n",
    "    P_B = (0.56 * np.sqrt(A_BT))/(T_F - 1.5*h_B)\n",
    "    \n",
    "    if BB == \"yes\":\n",
    "        R_B = ((0.11 * np.exp(-3* P_B**2) * F_ni**3 * A_BT**1.5 * rho * g)/(1+ F_ni**2)) /1000\n",
    "    else:\n",
    "        R_B = 0\n",
    "    \n",
    "    #################################################################################################################\n",
    "    \"\"\"6) Residual resistance terms\n",
    "    - Holtrop and Mennen (1982) defined three residual resistance terms:\n",
    "    - 1) Resistance due to the bulbous bow (not incorporated since inland ships in general don't have a bulb)\n",
    "    - 2) Resistance due to immersed transom\n",
    "    - 3) Resistance due to model-ship correlation \"\"\"\n",
    "\n",
    "    # Resistance due to immersed transom: R_TR [kN]\n",
    "    \n",
    "\n",
    "    F_nt = V_2 / np.sqrt(\n",
    "        2 * g * A_T / (B + B * C_wp))  # Froude number based on transom immersion\n",
    "\n",
    "    if F_nt < 5:\n",
    "        c_6 = 0.2 * (1- 0.2 * F_nt) # coefficient related to the Froude number and the transom immersion\n",
    "    else:\n",
    "        c_6 = 0\n",
    "\n",
    "\n",
    "    R_TR = (0.5 * rho * (V_2 ** 2) * A_T * c_6) / 1000\n",
    "        \n",
    "\n",
    "    # Model-ship correlation resistance: R_A [kN]\n",
    "        \n",
    "    if T / L_wl < 0.04:\n",
    "        c_4 = T / L_wl\n",
    "    else:\n",
    "        c_4 = 0.04\n",
    "#     if BB == 'yes':\n",
    "#         c_2 = np.exp(-1.89 * np.sqrt(c_3))\n",
    "#     else:\n",
    "#         c_2 = 1\n",
    "    c2=1\n",
    "    C_A = 0.006 * (L_wl + 100) ** (-0.16) - 0.00205 + 0.003 * np.sqrt(L_wl / 7.5) * (\n",
    "                C_b ** 4) * c_2 * (0.04 - c_4)\n",
    "\n",
    "    ####### Holtrop and Mennen in the document of Sarris, 2003 #######\n",
    "    R_A = (0.5 * rho * (V_2 ** 2) * S_T * C_A) / 1000  # kW\n",
    "    #################################################################################################################\n",
    "\n",
    "    R_tot = R_f*one_k1 + R_APP + R_W + R_B + R_TR + R_A\n",
    "    \n",
    "    P_prop = R_tot * V_0\n",
    "    P_board = 0.1 * P_inst # 10 percent for dredging vessels\n",
    "#     print('my total resistance = {:.2f} kN'.format(R_tot))\n",
    "    if P_prop+P_board > P_max:\n",
    "        P_tot = P_max\n",
    "    else:\n",
    "        P_tot = P_prop + P_board\n",
    "\n",
    "#     print('my total resistance = {:.2f} kN'.format(R_tot))\n",
    "# #     print('my rf = {:.2f} kN'.format(V_0))\n",
    "#     print('my rf = {:.2f} kN'.format(R_f * one_k1))\n",
    "#     print('my one_k1 = {:.2f} kN'.format(one_k1))\n",
    "    \n",
    "#     print('my rw = {:.2f} kN'.format(R_W))\n",
    "#     print('my app = {:.2f} kN'.format(R_APP))\n",
    "#     print('my a = {:.2f} kN'.format(R_A))\n",
    "#     print('my rb = {:.2f} kN'.format(R_B))\n",
    "#     print('my rtr = {:.2f} kN'.format(R_TR))\n",
    "\n",
    "    return P_tot"
   ]
  },
  {
   "cell_type": "code",
   "execution_count": null,
   "metadata": {},
   "outputs": [],
   "source": []
  },
  {
   "cell_type": "code",
   "execution_count": 5,
   "metadata": {},
   "outputs": [
    {
     "name": "stdout",
     "output_type": "stream",
     "text": [
      "7443.0335454976\n"
     ]
    },
    {
     "data": {
      "text/plain": [
       "Text(0, 0.5, 'Power/Resistance [kW/kN]')"
      ]
     },
     "execution_count": 5,
     "metadata": {},
     "output_type": "execute_result"
    },
    {
     "data": {
      "image/png": "[encoded data removed]",
      "text/plain": [
       "<Figure size 432x288 with 1 Axes>"
      ]
     },
     "metadata": {
      "needs_background": "light"
     },
     "output_type": "display_data"
    }
   ],
   "source": [
    "V_0 = np.linspace(0.1,9.9,100)\n",
    "Power_e = np.zeros(len(V_0)) # Power empty\n",
    "r_e = np.zeros(len(V_0)) # Resistance empty\n",
    "for i in range(len(V_0)):\n",
    "    Power_e[i]=calculate_power(V_0[i], T = 5.9, T_F = 3.29,BB='no')\n",
    "    r_e[i] =(calculate_power(V_0[i],T=5.9,T_F = 3.29, BB='no')-2863.6)/V_0[i] # vervangen in formules\n",
    "print(Power_e.mean())\n",
    "plt.plot(V_0 * 1.94384449,Power_e)\n",
    "plt.plot(8.64 * 1.94384449,28064, 'ro')\n",
    "plt.plot(V_0 * 1.94384449,r_e)\n",
    "plt.legend(['HM_e', 'VOHOP_e','R_tot_e'])\n",
    "plt.xlabel('Velocity [kts]')\n",
    "plt.ylabel('Power/Resistance [kW/kN]')\n",
    "\n",
    "\n"
   ]
  },
  {
   "cell_type": "code",
   "execution_count": 6,
   "metadata": {},
   "outputs": [
    {
     "data": {
      "image/png": "[encoded data removed]",
      "text/plain": [
       "<Figure size 432x288 with 3 Axes>"
      ]
     },
     "metadata": {
      "needs_background": "light"
     },
     "output_type": "display_data"
    }
   ],
   "source": [
    "V_0 = np.linspace(0.1,9.9,100)\n",
    "Power_e = np.zeros(len(V_0)) # Power empty\n",
    "r_e = np.zeros(len(V_0)) # Resistance empty\n",
    "for i in range(len(V_0)):\n",
    "    Power_e[i]=calculate_power(V_0[i], T = 5.9, T_F = 3.29,BB='no')\n",
    "    r_e[i] =(calculate_power(V_0[i],T=5.9,T_F = 3.29, BB = 'no')-2863.6)/V_0[i] # vervangen in formules\n",
    "# print(Power_e.mean())\n",
    "data1 = Power_e\n",
    "data2 = r_e\n",
    "fig, ax1 = plt.subplots()\n",
    "ax1.set_xlabel('Velocity [kn]')\n",
    "ax1.set_ylabel('Power [kW]')\n",
    "ax1.plot(V_0*1.94384449, data1, 'r-')\n",
    "ax1.plot(8.64 * 1.94384449,28064, 'yo')\n",
    "ax1.tick_params(axis='y', labelcolor='red')\n",
    "\n",
    "ax2 = ax1.twinx()  # instantiate a second axes that shares the same x-axis\n",
    "\n",
    "ax2.set_ylabel('Resistance [kN]', color='black')  # we already handled the x-label with ax1\n",
    "ax2.plot(V_0*1.94384449, data2/1.94384449, color='blue')\n",
    "ax2.tick_params(axis='y', labelcolor='blue')\n",
    "\n",
    "lns1 = ax1.plot(V_0*1.94384449, data1, color='r', label = 'Power')\n",
    "lns2 = ax1.plot(8.64*1.94384449, 28064, color='y', label = 'VOHOP')\n",
    "ax2 = ax1.twinx()\n",
    "lns3 = ax2.plot(V_0*1.94384449, data2/1.94384449, color='blue', label = 'Resistance')\n",
    "\n",
    "# added these three lines\n",
    "lns = lns1+lns2+lns3\n",
    "labs = [l.get_label() for l in lns]\n",
    "ax1.legend(lns, labs, loc=0)\n",
    "fig.tight_layout()  # otherwise the right y-label is slightly clipped\n",
    "\n",
    "plt.show()"
   ]
  },
  {
   "cell_type": "code",
   "execution_count": 7,
   "metadata": {},
   "outputs": [
    {
     "data": {
      "image/png": "[encoded data removed]",
      "text/plain": [
       "<Figure size 432x288 with 3 Axes>"
      ]
     },
     "metadata": {
      "needs_background": "light"
     },
     "output_type": "display_data"
    }
   ],
   "source": [
    "V_0 = np.linspace(0.1,8.8,100)\n",
    "Power_f = np.zeros(len(V_0)) # Power empty\n",
    "r_f = np.zeros(len(V_0)) # Resistance empty\n",
    "for i in range(len(V_0)):\n",
    "    Power_f[i]=calculate_power(V_0[i], T = 13.55, T_F = 13.64,BB='no')\n",
    "    r_f[i] =(calculate_power(V_0[i],T=13.55,T_F = 13.64, BB = 'no')-2863.6)/V_0[i] # vervangen in formules\n",
    "# print(Power_e.mean())\n",
    "d1 = Power_f\n",
    "d2 = r_f\n",
    "fig, ax1 = plt.subplots()\n",
    "ax1.set_xlabel('Velocity [kn]')\n",
    "ax1.set_ylabel('Power [kW]')\n",
    "ax1.plot(V_0*1.94384449, d1, 'r-')\n",
    "ax1.plot(7.92 * 1.94384449,28064, 'yo')\n",
    "ax1.tick_params(axis='y', labelcolor='red')\n",
    "\n",
    "ax2 = ax1.twinx()  # instantiate a second axes that shares the same x-axis\n",
    "\n",
    "ax2.set_ylabel('Resistance [kN]', color='black')  # we already handled the x-label with ax1\n",
    "ax2.plot(V_0*1.94384449, d2/1.94384449, color='blue')\n",
    "ax2.tick_params(axis='y', labelcolor='blue')\n",
    "\n",
    "lns1 = ax1.plot(V_0*1.94384449, d1, color='r', label = 'Power')\n",
    "lns2 = ax1.plot(7.92*1.94384449, 28064, color='y', label = 'VOHOP')\n",
    "ax2 = ax1.twinx()\n",
    "lns3 = ax2.plot(V_0*1.94384449, d2/1.94384449, color='blue', label = 'Resistance')\n",
    "\n",
    "# added these three lines\n",
    "lns = lns1+lns2+lns3\n",
    "labs = [l.get_label() for l in lns]\n",
    "ax1.legend(lns, labs, loc=0)\n",
    "fig.tight_layout()  # otherwise the right y-label is slightly clipped\n",
    "\n",
    "plt.show()"
   ]
  },
  {
   "cell_type": "code",
   "execution_count": 8,
   "metadata": {},
   "outputs": [],
   "source": [
    "class HasEnergyPlugin:\n",
    "    \"\"\"Mixin for Activity to initialize WeatherPluginActivity.\"\"\"\n",
    "    \n",
    "    def __init__(self, *args, **kwargs):\n",
    "        super().__init__(*args, **kwargs)\n",
    "\n",
    "        energy_plugin = EnergyPlugin()\n",
    "        self.register_plugin(plugin=energy_plugin, priority=3)\n",
    "\n",
    "\n",
    "class EnergyPlugin(model.AbstractPluginClass):\n",
    "    \"\"\"Mixin for all activities to add delay and downtime.\"\"\"\n",
    "\n",
    "    def __init__(self, *args, **kwargs):\n",
    "        super().__init__(*args, **kwargs)\n",
    "        \n",
    "    def pre_process(self, env, activity_log, activity, *args, **kwargs \n",
    "    ):\n",
    "        if activity.name == 'sailing empty':\n",
    "#             activity.mover.compute_v = activity.mover.compute_vf\n",
    "            if activity.mover.compute_ve(None) > activity.mover.V_max_e(None):\n",
    "                activity.mover.compute_v = activity.mover.V_max_e\n",
    "            else:\n",
    "                activity.mover.compute_v = activity.mover.compute_ve\n",
    "        else:\n",
    "#              activity.mover.compute_v = activity.mover.compute_ve\n",
    "            if activity.mover.compute_vf(None) > activity.mover.V_max_f(None):\n",
    "                activity.mover.compute_v = activity.mover.V_max_f\n",
    "            else:\n",
    "                activity.mover.compute_v = activity.mover.compute_vf  \n",
    "        return{}\n",
    "    \n",
    "    def post_process(\n",
    "        self, env, activity_log, activity, start_activity, *args, **kwargs\n",
    "    ):\n",
    "        print('')\n",
    "        print('post_process: {}, {}'.format(activity.mover.name,activity.name))\n",
    "        \n",
    "        if activity.name == 'sailing empty':\n",
    "            if activity.mover.compute_ve(None) > activity.mover.V_max_e(None):\n",
    "                V_0 = activity.mover.V_max_e(None)\n",
    "            else:\n",
    "                V_0 = activity.mover.compute_ve(None)\n",
    "        else:\n",
    "            if activity.mover.compute_vf(None) > activity.mover.V_max_f(None):\n",
    "                V_0 = activity.mover.V_max_f(None)\n",
    "            else:\n",
    "                V_0 = activity.mover.compute_vf(None)\n",
    "\n",
    "        \n",
    "        \n",
    "        if activity.name == \"sailing empty\":\n",
    "            T = activity.mover.T_e\n",
    "        else:\n",
    "            T = activity.mover.T_f\n",
    "            \n",
    "        if activity.name == \"sailing empty\":\n",
    "            T_F = activity.mover.T_Fe\n",
    "        else:\n",
    "            T_F = activity.mover.T_Ff\n",
    "            \n",
    "        self.power_empty = calculate_power(V_0=V_0,T=activity.mover.T_e, T_F = activity.mover.T_Fe)\n",
    "        self.power_full = calculate_power(V_0=V_0, T=activity.mover.T_f, T_F = activity.mover.T_Ff)\n",
    "        print('my T = {:.2f} m'.format(T))\n",
    "        if activity.name == 'sailing empty':\n",
    "            if self.power_empty > activity.mover.P_max:\n",
    "                self.power_empty = activity.mover.P_max\n",
    "            else:\n",
    "                self.power_empty = self.power_empty\n",
    "        else:\n",
    "            if self.power_full > activity.mover.P_max:\n",
    "                self.power_full = activity.mover.P_max\n",
    "            else:\n",
    "                self.power_full = self.power_full\n",
    "        \n",
    "        if activity.name == 'sailing empty':\n",
    "            power = self.power_empty\n",
    "        else:\n",
    "            power = self.power_full\n",
    "            \n",
    " \n",
    "        print('my compute_v(None) is {} m/s'.format(activity.mover.compute_v(None))) #10\n",
    "#         print('my compute_vf(None) is {} m/s'.format(activity.mover.compute_vf(None))) #8.7\n",
    "       \n",
    "        activity_duration = env.now - start_activity\n",
    "        activity.log_entry(\n",
    "            t=env.now,\n",
    "            activity_id=activity.id,\n",
    "            activity_state=core.LogState.UNKNOWN,\n",
    "            additional_state={\n",
    "                \"power\":power,\n",
    "                \"activity_duration\":activity_duration/60,\n",
    "                \"energy_used\":power*activity_duration/3600,\n",
    "            }\n",
    "        )\n",
    "        \n",
    "        return {}"
   ]
  },
  {
   "cell_type": "markdown",
   "metadata": {},
   "source": [
    "#### 1. Initialise simpy environment"
   ]
  },
  {
   "cell_type": "code",
   "execution_count": 9,
   "metadata": {},
   "outputs": [],
   "source": [
    "# setup environment (simulation time needs to match the available weather data)\n",
    "simulation_start = 0\n",
    "my_env = simpy.Environment(initial_time=simulation_start)"
   ]
  },
  {
   "cell_type": "markdown",
   "metadata": {},
   "source": [
    "#### 2. Define object classes"
   ]
  },
  {
   "cell_type": "code",
   "execution_count": 10,
   "metadata": {},
   "outputs": [
    {
     "name": "stdout",
     "output_type": "stream",
     "text": [
      "<class '__main__.TransportProcessingResource'>\n"
     ]
    }
   ],
   "source": [
    "# create a Site object based on desired mixin classes\n",
    "Site = type(\n",
    "    \"Site\",\n",
    "    (\n",
    "        core.Identifiable,\n",
    "        core.Log,\n",
    "        core.Locatable,\n",
    "        core.HasContainer,\n",
    "        core.HasResource,\n",
    "    ),\n",
    "    {},\n",
    ")\n",
    "\n",
    "# create a TransportProcessingResource object based on desired mixin classes\n",
    "TransportProcessingResource = type(\n",
    "    \"TransportProcessingResource\",\n",
    "    (\n",
    "        core.Identifiable,\n",
    "        core.Log,\n",
    "        core.ContainerDependentMovable,\n",
    "        core.Processor,\n",
    "        core.HasResource,\n",
    "        core.LoadingFunction,\n",
    "        core.UnloadingFunction,\n",
    "        opentnsim.core.VesselProperties\n",
    "    ),\n",
    "    {},\n",
    ")\n",
    "print(TransportProcessingResource)"
   ]
  },
  {
   "cell_type": "markdown",
   "metadata": {},
   "source": [
    "#### 3. Create objects\n",
    "##### 3.1. Create site object(s)"
   ]
  },
  {
   "cell_type": "code",
   "execution_count": 11,
   "metadata": {},
   "outputs": [],
   "source": [
    "# prepare input data for from_site 22.59603924999999\n",
    "# 0.8983 = 100km\n",
    "x1 = 0           # Coordinates in km\n",
    "y1 = 0           # y-coordinates must remain 0!, adjust x-coordinates\n",
    "x2 = 0.8983*18.52/100\n",
    "y2 = 0\n",
    "\n",
    "# distance = (x2-x1)* 111.3213848    #km\n",
    "location_from_site = shapely.geometry.Point(x1, y1)\n",
    "data_from_site = {\"env\": my_env,\n",
    "                  \"name\": \"from_site\",\n",
    "                  \"geometry\": location_from_site,\n",
    "                  \"capacity\": 12,\n",
    "                  \"level\": 12\n",
    "                 }\n",
    "# instantiate from_site \n",
    "from_site = Site(**data_from_site)\n",
    "\n",
    "# prepare input data for to_site\n",
    "location_to_site = shapely.geometry.Point(x2, y2) #10 nm = 18.52 km\n",
    "data_to_site = {\"env\": my_env,\n",
    "                \"name\": \"to_site\",\n",
    "                \"geometry\": location_to_site,\n",
    "                \"capacity\": 12,\n",
    "                \"level\": 0\n",
    "               }\n",
    "# instantiate to_site \n",
    "to_site = Site(**data_to_site)\n"
   ]
  },
  {
   "cell_type": "markdown",
   "metadata": {},
   "source": [
    "##### 3.2. Create vessel object(s)"
   ]
  },
  {
   "cell_type": "code",
   "execution_count": 12,
   "metadata": {},
   "outputs": [],
   "source": [
    "# prepare input data for vessel_01\n",
    "data_vessel01 = {\"env\": my_env,\n",
    "                 \"name\": \"vessel01\",\n",
    "                 \"geometry\": location_from_site, \n",
    "                 \"loading_rate\": 1,\n",
    "                 \"unloading_rate\": 1,\n",
    "                 \"capacity\": 4,\n",
    "                 \"compute_v\": lambda x: 10,\n",
    "                  \"type\":None,\n",
    "                 \"B\":32,\n",
    "                 \"L\":159,\n",
    "                 \"h_min\":70,\n",
    "                 \"T\":13.55,\n",
    "                  \n",
    "               }\n",
    "# instantiate vessel_01 \n",
    "vessel01 = TransportProcessingResource(**data_vessel01)\n",
    "# Monkeypatch with L: Data from EIS HAM318\n",
    "# Man Jiang case: 6 m waterdepth, M8 vessel at 4.0 m/s\n",
    "vessel01.h = 70      # m waterdepth \n",
    "vessel01.L_wl = 159     # m length waterline \n",
    "vessel01.L_oa = 225       #m Lentgh overall\n",
    "vessel01.B = 32    #m beam \n",
    "vessel01.T_e = 5.9 #m draft empty\n",
    "vessel01.T_f = 13.55   #m draft full\n",
    "vessel01.T_Fe = 3.29 #m forward draft empty\n",
    "vessel01.T_Ff = 13.64 #m forward draft full\n",
    "vessel01.V_max_e = lambda x: 10.16   #m/s max velocity empty vessel\n",
    "vessel01.V_max_f = lambda x: 9.6  #m/s max velocity full vessel\n",
    "vessel01.compute_ve = lambda x: 10.16  # m/s\n",
    "vessel01.compute_vf = lambda x: 9.6 # m/s\n",
    "\n",
    "\n",
    "vessel01.ukc=4   # m under keel clearance\n",
    "vessel01.P_max = 28064   # kW #check if time duration adjusts!! #If adjusting p_max -> use p2v to adjust v_max underneath 3 cells."
   ]
  },
  {
   "cell_type": "code",
   "execution_count": null,
   "metadata": {},
   "outputs": [],
   "source": []
  },
  {
   "cell_type": "markdown",
   "metadata": {},
   "source": [
    "##### 3.3 Create activity/activities"
   ]
  },
  {
   "cell_type": "code",
   "execution_count": 13,
   "metadata": {},
   "outputs": [],
   "source": [
    "# initialise registry\n",
    "registry = {}\n",
    "keep_resources = {}"
   ]
  },
  {
   "cell_type": "code",
   "execution_count": 14,
   "metadata": {},
   "outputs": [],
   "source": [
    "# create delay sequence activities\n",
    "DelaySequenceActivity =  type(\n",
    "    \"TestShiftActivity\",\n",
    "    (\n",
    "        model.SequentialActivity,  # the order is critical!\n",
    "    ),\n",
    "    {},\n",
    ")\n",
    "\n",
    "DelayWhileActivity =  type(\n",
    "    \"TestShiftActivity\",\n",
    "    (\n",
    "        model.WhileActivity,  # the order is critical!\n",
    "    ),\n",
    "    {},\n",
    ")\n",
    "\n",
    "DelayMoveActivity =  type(\n",
    "    \"TestMoveActivity\",\n",
    "    (\n",
    "        HasEnergyPlugin,\n",
    "        model.MoveActivity,  # the order is critical!\n",
    "    ),\n",
    "    {},\n",
    ")\n",
    "\n",
    "DelayShiftActivity =  type(\n",
    "    \"TestShiftActivity\",\n",
    "    (\n",
    "        model.ShiftAmountActivity,  # the order is critical!\n",
    "    ),\n",
    "    {},\n",
    ")\n",
    "\n",
    "EnergyBasicActivity =  type(\n",
    "    \"TestShiftActivity\",\n",
    "    (\n",
    "        model.BasicActivity,  # the order is critical!\n",
    "    ),\n",
    "    {},\n",
    ")"
   ]
  },
  {
   "cell_type": "code",
   "execution_count": 15,
   "metadata": {},
   "outputs": [],
   "source": [
    "# create a list of the sub processes\n",
    "sub_processes = [\n",
    "    DelayMoveActivity(\n",
    "        env=my_env,\n",
    "        name=\"sailing empty\",\n",
    "        registry=registry,\n",
    "        mover=vessel01,\n",
    "        destination=from_site,\n",
    "    ),\n",
    "    DelayShiftActivity(\n",
    "        env=my_env,\n",
    "        name=\"load cargo\",\n",
    "        registry=registry,\n",
    "        processor=vessel01,\n",
    "        origin=from_site,\n",
    "        destination=vessel01,\n",
    "        amount=4,\n",
    "        duration=3600,\n",
    "    ),\n",
    "    DelayMoveActivity(\n",
    "        env=my_env,\n",
    "        name=\"sailing full\",\n",
    "        registry=registry,\n",
    "        mover=vessel01,\n",
    "        destination=to_site,\n",
    "    ),\n",
    "    DelayShiftActivity(\n",
    "        env=my_env,\n",
    "        name=\"unload cargo\",\n",
    "        registry=registry,\n",
    "        processor=vessel01,\n",
    "        origin=vessel01,\n",
    "        destination=to_site,\n",
    "        amount=4,\n",
    "        duration=3600,\n",
    "    ),\n",
    "    EnergyBasicActivity(\n",
    "        env=my_env,\n",
    "        name=\"Basic activity\",\n",
    "        registry=registry,\n",
    "        duration=0,\n",
    "        additional_logs=[vessel01],\n",
    "    ),\n",
    "]\n",
    "\n",
    "# create a 'sequential activity' that is made up of the 'sub_processes'\n",
    "sequential_activity = DelaySequenceActivity(\n",
    "    env=my_env,\n",
    "    name=\"Single run process\",\n",
    "    registry=registry,\n",
    "    sub_processes=sub_processes,\n",
    ")\n",
    "\n",
    "# create a while activity that executes the 'sequential activity' while a stop condition is not met \n",
    "while_activity = DelayWhileActivity(\n",
    "    env=my_env,\n",
    "    name=\"While activity\",\n",
    "    registry=registry,\n",
    "    sub_processes=[sequential_activity],\n",
    "    condition_event=[{\"type\": \"container\", \"concept\": to_site, \"state\": \"full\"}],\n",
    ")"
   ]
  },
  {
   "cell_type": "code",
   "execution_count": 16,
   "metadata": {},
   "outputs": [],
   "source": [
    "# vessel01.__dict__"
   ]
  },
  {
   "cell_type": "markdown",
   "metadata": {},
   "source": [
    "#### 4. Register processes and run simpy"
   ]
  },
  {
   "cell_type": "code",
   "execution_count": 17,
   "metadata": {},
   "outputs": [
    {
     "name": "stdout",
     "output_type": "stream",
     "text": [
      "\n",
      "post_process: vessel01, sailing empty\n",
      "my T = 5.90 m\n",
      "my compute_v(None) is 10.16 m/s\n",
      "\n",
      "post_process: vessel01, sailing full\n",
      "my T = 13.55 m\n",
      "my compute_v(None) is 9.6 m/s\n",
      "\n",
      "post_process: vessel01, sailing empty\n",
      "my T = 5.90 m\n",
      "my compute_v(None) is 10.16 m/s\n",
      "\n",
      "post_process: vessel01, sailing full\n",
      "my T = 13.55 m\n",
      "my compute_v(None) is 9.6 m/s\n",
      "\n",
      "post_process: vessel01, sailing empty\n",
      "my T = 5.90 m\n",
      "my compute_v(None) is 10.16 m/s\n",
      "\n",
      "post_process: vessel01, sailing full\n",
      "my T = 13.55 m\n",
      "my compute_v(None) is 9.6 m/s\n"
     ]
    }
   ],
   "source": [
    "model.register_processes([while_activity])\n",
    "my_env.run()"
   ]
  },
  {
   "cell_type": "markdown",
   "metadata": {},
   "source": [
    "#### 5. Inspect results\n",
    "##### 5.1 Inspect logs"
   ]
  },
  {
   "cell_type": "code",
   "execution_count": 18,
   "metadata": {
    "scrolled": false
   },
   "outputs": [
    {
     "data": {
      "text/html": [
       "<div>\n",
       "<style scoped>\n",
       "    .dataframe tbody tr th:only-of-type {\n",
       "        vertical-align: middle;\n",
       "    }\n",
       "\n",
       "    .dataframe tbody tr th {\n",
       "        vertical-align: top;\n",
       "    }\n",
       "\n",
       "    .dataframe thead th {\n",
       "        text-align: right;\n",
       "    }\n",
       "</style>\n",
       "<table border=\"1\" class=\"dataframe\">\n",
       "  <thead>\n",
       "    <tr style=\"text-align: right;\">\n",
       "      <th></th>\n",
       "      <th>Activity</th>\n",
       "      <th>Timestamp</th>\n",
       "      <th>ActivityState</th>\n",
       "      <th>power</th>\n",
       "      <th>activity_duration</th>\n",
       "      <th>energy_used</th>\n",
       "    </tr>\n",
       "  </thead>\n",
       "  <tbody>\n",
       "    <tr>\n",
       "      <th>0</th>\n",
       "      <td>sailing empty</td>\n",
       "      <td>1970-01-01 00:00:00.000000</td>\n",
       "      <td>START</td>\n",
       "      <td>NaN</td>\n",
       "      <td>NaN</td>\n",
       "      <td>NaN</td>\n",
       "    </tr>\n",
       "    <tr>\n",
       "      <th>1</th>\n",
       "      <td>sailing empty</td>\n",
       "      <td>1970-01-01 00:00:00.000000</td>\n",
       "      <td>STOP</td>\n",
       "      <td>NaN</td>\n",
       "      <td>NaN</td>\n",
       "      <td>NaN</td>\n",
       "    </tr>\n",
       "    <tr>\n",
       "      <th>2</th>\n",
       "      <td>sailing empty</td>\n",
       "      <td>1970-01-01 00:00:00.000000</td>\n",
       "      <td>UNKNOWN</td>\n",
       "      <td>28064.0</td>\n",
       "      <td>0.000000</td>\n",
       "      <td>0.000000</td>\n",
       "    </tr>\n",
       "    <tr>\n",
       "      <th>0</th>\n",
       "      <td>load cargo</td>\n",
       "      <td>1970-01-01 00:00:00.000000</td>\n",
       "      <td>START</td>\n",
       "      <td>NaN</td>\n",
       "      <td>NaN</td>\n",
       "      <td>NaN</td>\n",
       "    </tr>\n",
       "    <tr>\n",
       "      <th>0</th>\n",
       "      <td>sailing full</td>\n",
       "      <td>1970-01-01 01:00:00.000000</td>\n",
       "      <td>START</td>\n",
       "      <td>NaN</td>\n",
       "      <td>NaN</td>\n",
       "      <td>NaN</td>\n",
       "    </tr>\n",
       "    <tr>\n",
       "      <th>1</th>\n",
       "      <td>load cargo</td>\n",
       "      <td>1970-01-01 01:00:00.000000</td>\n",
       "      <td>STOP</td>\n",
       "      <td>NaN</td>\n",
       "      <td>NaN</td>\n",
       "      <td>NaN</td>\n",
       "    </tr>\n",
       "    <tr>\n",
       "      <th>0</th>\n",
       "      <td>unload cargo</td>\n",
       "      <td>1970-01-01 01:32:09.133843</td>\n",
       "      <td>START</td>\n",
       "      <td>NaN</td>\n",
       "      <td>NaN</td>\n",
       "      <td>NaN</td>\n",
       "    </tr>\n",
       "    <tr>\n",
       "      <th>1</th>\n",
       "      <td>sailing full</td>\n",
       "      <td>1970-01-01 01:32:09.133843</td>\n",
       "      <td>STOP</td>\n",
       "      <td>NaN</td>\n",
       "      <td>NaN</td>\n",
       "      <td>NaN</td>\n",
       "    </tr>\n",
       "    <tr>\n",
       "      <th>2</th>\n",
       "      <td>sailing full</td>\n",
       "      <td>1970-01-01 01:32:09.133843</td>\n",
       "      <td>UNKNOWN</td>\n",
       "      <td>28064.0</td>\n",
       "      <td>32.152231</td>\n",
       "      <td>15038.670051</td>\n",
       "    </tr>\n",
       "    <tr>\n",
       "      <th>0</th>\n",
       "      <td>Basic activity</td>\n",
       "      <td>1970-01-01 02:32:09.133843</td>\n",
       "      <td>START</td>\n",
       "      <td>NaN</td>\n",
       "      <td>NaN</td>\n",
       "      <td>NaN</td>\n",
       "    </tr>\n",
       "    <tr>\n",
       "      <th>1</th>\n",
       "      <td>unload cargo</td>\n",
       "      <td>1970-01-01 02:32:09.133843</td>\n",
       "      <td>STOP</td>\n",
       "      <td>NaN</td>\n",
       "      <td>NaN</td>\n",
       "      <td>NaN</td>\n",
       "    </tr>\n",
       "    <tr>\n",
       "      <th>3</th>\n",
       "      <td>sailing empty</td>\n",
       "      <td>1970-01-01 02:32:09.133843</td>\n",
       "      <td>START</td>\n",
       "      <td>NaN</td>\n",
       "      <td>NaN</td>\n",
       "      <td>NaN</td>\n",
       "    </tr>\n",
       "    <tr>\n",
       "      <th>1</th>\n",
       "      <td>Basic activity</td>\n",
       "      <td>1970-01-01 02:32:09.133843</td>\n",
       "      <td>STOP</td>\n",
       "      <td>NaN</td>\n",
       "      <td>NaN</td>\n",
       "      <td>NaN</td>\n",
       "    </tr>\n",
       "    <tr>\n",
       "      <th>2</th>\n",
       "      <td>load cargo</td>\n",
       "      <td>1970-01-01 03:02:31.937475</td>\n",
       "      <td>START</td>\n",
       "      <td>NaN</td>\n",
       "      <td>NaN</td>\n",
       "      <td>NaN</td>\n",
       "    </tr>\n",
       "    <tr>\n",
       "      <th>5</th>\n",
       "      <td>sailing empty</td>\n",
       "      <td>1970-01-01 03:02:31.937475</td>\n",
       "      <td>UNKNOWN</td>\n",
       "      <td>28064.0</td>\n",
       "      <td>30.380061</td>\n",
       "      <td>14209.766977</td>\n",
       "    </tr>\n",
       "    <tr>\n",
       "      <th>4</th>\n",
       "      <td>sailing empty</td>\n",
       "      <td>1970-01-01 03:02:31.937475</td>\n",
       "      <td>STOP</td>\n",
       "      <td>NaN</td>\n",
       "      <td>NaN</td>\n",
       "      <td>NaN</td>\n",
       "    </tr>\n",
       "    <tr>\n",
       "      <th>3</th>\n",
       "      <td>load cargo</td>\n",
       "      <td>1970-01-01 04:02:31.937475</td>\n",
       "      <td>STOP</td>\n",
       "      <td>NaN</td>\n",
       "      <td>NaN</td>\n",
       "      <td>NaN</td>\n",
       "    </tr>\n",
       "    <tr>\n",
       "      <th>3</th>\n",
       "      <td>sailing full</td>\n",
       "      <td>1970-01-01 04:02:31.937475</td>\n",
       "      <td>START</td>\n",
       "      <td>NaN</td>\n",
       "      <td>NaN</td>\n",
       "      <td>NaN</td>\n",
       "    </tr>\n",
       "    <tr>\n",
       "      <th>2</th>\n",
       "      <td>unload cargo</td>\n",
       "      <td>1970-01-01 04:34:41.071318</td>\n",
       "      <td>START</td>\n",
       "      <td>NaN</td>\n",
       "      <td>NaN</td>\n",
       "      <td>NaN</td>\n",
       "    </tr>\n",
       "    <tr>\n",
       "      <th>5</th>\n",
       "      <td>sailing full</td>\n",
       "      <td>1970-01-01 04:34:41.071318</td>\n",
       "      <td>UNKNOWN</td>\n",
       "      <td>28064.0</td>\n",
       "      <td>32.152231</td>\n",
       "      <td>15038.670051</td>\n",
       "    </tr>\n",
       "    <tr>\n",
       "      <th>4</th>\n",
       "      <td>sailing full</td>\n",
       "      <td>1970-01-01 04:34:41.071318</td>\n",
       "      <td>STOP</td>\n",
       "      <td>NaN</td>\n",
       "      <td>NaN</td>\n",
       "      <td>NaN</td>\n",
       "    </tr>\n",
       "    <tr>\n",
       "      <th>2</th>\n",
       "      <td>Basic activity</td>\n",
       "      <td>1970-01-01 05:34:41.071318</td>\n",
       "      <td>START</td>\n",
       "      <td>NaN</td>\n",
       "      <td>NaN</td>\n",
       "      <td>NaN</td>\n",
       "    </tr>\n",
       "    <tr>\n",
       "      <th>6</th>\n",
       "      <td>sailing empty</td>\n",
       "      <td>1970-01-01 05:34:41.071318</td>\n",
       "      <td>START</td>\n",
       "      <td>NaN</td>\n",
       "      <td>NaN</td>\n",
       "      <td>NaN</td>\n",
       "    </tr>\n",
       "    <tr>\n",
       "      <th>3</th>\n",
       "      <td>unload cargo</td>\n",
       "      <td>1970-01-01 05:34:41.071318</td>\n",
       "      <td>STOP</td>\n",
       "      <td>NaN</td>\n",
       "      <td>NaN</td>\n",
       "      <td>NaN</td>\n",
       "    </tr>\n",
       "    <tr>\n",
       "      <th>3</th>\n",
       "      <td>Basic activity</td>\n",
       "      <td>1970-01-01 05:34:41.071318</td>\n",
       "      <td>STOP</td>\n",
       "      <td>NaN</td>\n",
       "      <td>NaN</td>\n",
       "      <td>NaN</td>\n",
       "    </tr>\n",
       "    <tr>\n",
       "      <th>8</th>\n",
       "      <td>sailing empty</td>\n",
       "      <td>1970-01-01 06:05:03.874950</td>\n",
       "      <td>UNKNOWN</td>\n",
       "      <td>28064.0</td>\n",
       "      <td>30.380061</td>\n",
       "      <td>14209.766977</td>\n",
       "    </tr>\n",
       "    <tr>\n",
       "      <th>4</th>\n",
       "      <td>load cargo</td>\n",
       "      <td>1970-01-01 06:05:03.874950</td>\n",
       "      <td>START</td>\n",
       "      <td>NaN</td>\n",
       "      <td>NaN</td>\n",
       "      <td>NaN</td>\n",
       "    </tr>\n",
       "    <tr>\n",
       "      <th>7</th>\n",
       "      <td>sailing empty</td>\n",
       "      <td>1970-01-01 06:05:03.874950</td>\n",
       "      <td>STOP</td>\n",
       "      <td>NaN</td>\n",
       "      <td>NaN</td>\n",
       "      <td>NaN</td>\n",
       "    </tr>\n",
       "    <tr>\n",
       "      <th>6</th>\n",
       "      <td>sailing full</td>\n",
       "      <td>1970-01-01 07:05:03.874950</td>\n",
       "      <td>START</td>\n",
       "      <td>NaN</td>\n",
       "      <td>NaN</td>\n",
       "      <td>NaN</td>\n",
       "    </tr>\n",
       "    <tr>\n",
       "      <th>5</th>\n",
       "      <td>load cargo</td>\n",
       "      <td>1970-01-01 07:05:03.874950</td>\n",
       "      <td>STOP</td>\n",
       "      <td>NaN</td>\n",
       "      <td>NaN</td>\n",
       "      <td>NaN</td>\n",
       "    </tr>\n",
       "    <tr>\n",
       "      <th>7</th>\n",
       "      <td>sailing full</td>\n",
       "      <td>1970-01-01 07:37:13.008793</td>\n",
       "      <td>STOP</td>\n",
       "      <td>NaN</td>\n",
       "      <td>NaN</td>\n",
       "      <td>NaN</td>\n",
       "    </tr>\n",
       "    <tr>\n",
       "      <th>4</th>\n",
       "      <td>unload cargo</td>\n",
       "      <td>1970-01-01 07:37:13.008793</td>\n",
       "      <td>START</td>\n",
       "      <td>NaN</td>\n",
       "      <td>NaN</td>\n",
       "      <td>NaN</td>\n",
       "    </tr>\n",
       "    <tr>\n",
       "      <th>8</th>\n",
       "      <td>sailing full</td>\n",
       "      <td>1970-01-01 07:37:13.008793</td>\n",
       "      <td>UNKNOWN</td>\n",
       "      <td>28064.0</td>\n",
       "      <td>32.152231</td>\n",
       "      <td>15038.670051</td>\n",
       "    </tr>\n",
       "    <tr>\n",
       "      <th>4</th>\n",
       "      <td>Basic activity</td>\n",
       "      <td>1970-01-01 08:37:13.008793</td>\n",
       "      <td>START</td>\n",
       "      <td>NaN</td>\n",
       "      <td>NaN</td>\n",
       "      <td>NaN</td>\n",
       "    </tr>\n",
       "    <tr>\n",
       "      <th>5</th>\n",
       "      <td>unload cargo</td>\n",
       "      <td>1970-01-01 08:37:13.008793</td>\n",
       "      <td>STOP</td>\n",
       "      <td>NaN</td>\n",
       "      <td>NaN</td>\n",
       "      <td>NaN</td>\n",
       "    </tr>\n",
       "    <tr>\n",
       "      <th>5</th>\n",
       "      <td>Basic activity</td>\n",
       "      <td>1970-01-01 08:37:13.008793</td>\n",
       "      <td>STOP</td>\n",
       "      <td>NaN</td>\n",
       "      <td>NaN</td>\n",
       "      <td>NaN</td>\n",
       "    </tr>\n",
       "  </tbody>\n",
       "</table>\n",
       "</div>"
      ],
      "text/plain": [
       "         Activity                  Timestamp ActivityState    power  \\\n",
       "0   sailing empty 1970-01-01 00:00:00.000000         START      NaN   \n",
       "1   sailing empty 1970-01-01 00:00:00.000000          STOP      NaN   \n",
       "2   sailing empty 1970-01-01 00:00:00.000000       UNKNOWN  28064.0   \n",
       "0      load cargo 1970-01-01 00:00:00.000000         START      NaN   \n",
       "0    sailing full 1970-01-01 01:00:00.000000         START      NaN   \n",
       "1      load cargo 1970-01-01 01:00:00.000000          STOP      NaN   \n",
       "0    unload cargo 1970-01-01 01:32:09.133843         START      NaN   \n",
       "1    sailing full 1970-01-01 01:32:09.133843          STOP      NaN   \n",
       "2    sailing full 1970-01-01 01:32:09.133843       UNKNOWN  28064.0   \n",
       "0  Basic activity 1970-01-01 02:32:09.133843         START      NaN   \n",
       "1    unload cargo 1970-01-01 02:32:09.133843          STOP      NaN   \n",
       "3   sailing empty 1970-01-01 02:32:09.133843         START      NaN   \n",
       "1  Basic activity 1970-01-01 02:32:09.133843          STOP      NaN   \n",
       "2      load cargo 1970-01-01 03:02:31.937475         START      NaN   \n",
       "5   sailing empty 1970-01-01 03:02:31.937475       UNKNOWN  28064.0   \n",
       "4   sailing empty 1970-01-01 03:02:31.937475          STOP      NaN   \n",
       "3      load cargo 1970-01-01 04:02:31.937475          STOP      NaN   \n",
       "3    sailing full 1970-01-01 04:02:31.937475         START      NaN   \n",
       "2    unload cargo 1970-01-01 04:34:41.071318         START      NaN   \n",
       "5    sailing full 1970-01-01 04:34:41.071318       UNKNOWN  28064.0   \n",
       "4    sailing full 1970-01-01 04:34:41.071318          STOP      NaN   \n",
       "2  Basic activity 1970-01-01 05:34:41.071318         START      NaN   \n",
       "6   sailing empty 1970-01-01 05:34:41.071318         START      NaN   \n",
       "3    unload cargo 1970-01-01 05:34:41.071318          STOP      NaN   \n",
       "3  Basic activity 1970-01-01 05:34:41.071318          STOP      NaN   \n",
       "8   sailing empty 1970-01-01 06:05:03.874950       UNKNOWN  28064.0   \n",
       "4      load cargo 1970-01-01 06:05:03.874950         START      NaN   \n",
       "7   sailing empty 1970-01-01 06:05:03.874950          STOP      NaN   \n",
       "6    sailing full 1970-01-01 07:05:03.874950         START      NaN   \n",
       "5      load cargo 1970-01-01 07:05:03.874950          STOP      NaN   \n",
       "7    sailing full 1970-01-01 07:37:13.008793          STOP      NaN   \n",
       "4    unload cargo 1970-01-01 07:37:13.008793         START      NaN   \n",
       "8    sailing full 1970-01-01 07:37:13.008793       UNKNOWN  28064.0   \n",
       "4  Basic activity 1970-01-01 08:37:13.008793         START      NaN   \n",
       "5    unload cargo 1970-01-01 08:37:13.008793          STOP      NaN   \n",
       "5  Basic activity 1970-01-01 08:37:13.008793          STOP      NaN   \n",
       "\n",
       "   activity_duration   energy_used  \n",
       "0                NaN           NaN  \n",
       "1                NaN           NaN  \n",
       "2           0.000000      0.000000  \n",
       "0                NaN           NaN  \n",
       "0                NaN           NaN  \n",
       "1                NaN           NaN  \n",
       "0                NaN           NaN  \n",
       "1                NaN           NaN  \n",
       "2          32.152231  15038.670051  \n",
       "0                NaN           NaN  \n",
       "1                NaN           NaN  \n",
       "3                NaN           NaN  \n",
       "1                NaN           NaN  \n",
       "2                NaN           NaN  \n",
       "5          30.380061  14209.766977  \n",
       "4                NaN           NaN  \n",
       "3                NaN           NaN  \n",
       "3                NaN           NaN  \n",
       "2                NaN           NaN  \n",
       "5          32.152231  15038.670051  \n",
       "4                NaN           NaN  \n",
       "2                NaN           NaN  \n",
       "6                NaN           NaN  \n",
       "3                NaN           NaN  \n",
       "3                NaN           NaN  \n",
       "8          30.380061  14209.766977  \n",
       "4                NaN           NaN  \n",
       "7                NaN           NaN  \n",
       "6                NaN           NaN  \n",
       "5                NaN           NaN  \n",
       "7                NaN           NaN  \n",
       "4                NaN           NaN  \n",
       "8          32.152231  15038.670051  \n",
       "4                NaN           NaN  \n",
       "5                NaN           NaN  \n",
       "5                NaN           NaN  "
      ]
     },
     "execution_count": 18,
     "metadata": {},
     "output_type": "execute_result"
    }
   ],
   "source": [
    "df = pd.concat(\n",
    "    [\n",
    "        plot.get_log_dataframe(act, [while_activity, sequential_activity, *sub_processes])\n",
    "        for act in sub_processes\n",
    "    ]\n",
    ").sort_values(by=['Timestamp'])\n",
    "df"
   ]
  },
  {
   "cell_type": "code",
   "execution_count": 19,
   "metadata": {},
   "outputs": [
    {
     "data": {
      "text/plain": [
       "73535.54410555252"
      ]
     },
     "execution_count": 19,
     "metadata": {},
     "output_type": "execute_result"
    }
   ],
   "source": [
    "df['energy_used'].sum()"
   ]
  },
  {
   "cell_type": "markdown",
   "metadata": {},
   "source": [
    "##### 5.2 Visualise gantt charts"
   ]
  },
  {
   "cell_type": "code",
   "execution_count": 20,
   "metadata": {},
   "outputs": [
    {
     "data": {
      "text/html": [
       "        <script type=\"text/javascript\">\n",
       "        window.PlotlyConfig = {MathJaxConfig: 'local'};\n",
       "        if (window.MathJax) {MathJax.Hub.Config({SVG: {font: \"STIX-Web\"}});}\n",
       "        if (typeof require !== 'undefined') {\n",
       "        require.undef(\"plotly\");\n",
       "        requirejs.config({\n",
       "            paths: {\n",
       "                'plotly': ['https://cdn.plot.ly/plotly-2.9.0.min']\n",
       "            }\n",
       "        });\n",
       "        require(['plotly'], function(Plotly) {\n",
       "            window._Plotly = Plotly;\n",
       "        });\n",
       "        }\n",
       "        </script>\n",
       "        "
      ]
     },
     "metadata": {},
     "output_type": "display_data"
    },
    {
     "data": {
      "application/vnd.plotly.v1+json": {
       "config": {
        "linkText": "Export to plot.ly",
        "plotlyServerURL": "https://plot.ly",
        "showLink": false
       },
       "data": [
        {
         "connectgaps": false,
         "hoverinfo": "y+name",
         "line": {
          "color": "rgb(131,118,237)",
          "width": 10
         },
         "mode": "lines",
         "name": "While activity",
         "type": "scatter",
         "x": [
          "1970-01-01T00:00:00",
          "1970-01-01T00:00:00",
          "1970-01-01T02:32:09.133843",
          "1970-01-01T02:32:09.133843",
          "1970-01-01T02:32:09.133843",
          "1970-01-01T02:32:09.133843",
          "1970-01-01T02:32:09.133843",
          "1970-01-01T05:34:41.071318",
          "1970-01-01T05:34:41.071318",
          "1970-01-01T05:34:41.071318",
          "1970-01-01T05:34:41.071318",
          "1970-01-01T05:34:41.071318",
          "1970-01-01T08:37:13.008793",
          "1970-01-01T08:37:13.008793",
          "1970-01-01T08:37:13.008793",
          "1970-01-01T05:34:41.071318",
          "1970-01-01T05:34:41.071318",
          "1970-01-01T08:37:13.008793",
          "1970-01-01T08:37:13.008793",
          "1970-01-01T08:37:13.008793"
         ],
         "y": [
          "While activity",
          "While activity",
          "While activity",
          "While activity",
          null,
          "While activity",
          "While activity",
          "While activity",
          "While activity",
          null,
          "While activity",
          "While activity",
          "While activity",
          "While activity",
          null,
          "While activity",
          "While activity",
          "While activity",
          "While activity",
          null
         ]
        },
        {
         "connectgaps": false,
         "hoverinfo": "y+name",
         "line": {
          "color": "rgb(149,136,255)",
          "width": 10
         },
         "mode": "lines",
         "name": "Single run process",
         "type": "scatter",
         "x": [
          "1970-01-01T00:00:00",
          "1970-01-01T00:00:00",
          "1970-01-01T00:00:00",
          "1970-01-01T00:00:00",
          "1970-01-01T00:00:00",
          "1970-01-01T00:00:00",
          "1970-01-01T00:00:00",
          "1970-01-01T01:00:00",
          "1970-01-01T01:00:00",
          "1970-01-01T01:00:00",
          "1970-01-01T01:00:00",
          "1970-01-01T01:00:00",
          "1970-01-01T01:32:09.133843",
          "1970-01-01T01:32:09.133843",
          "1970-01-01T01:32:09.133843",
          "1970-01-01T01:32:09.133843",
          "1970-01-01T01:32:09.133843",
          "1970-01-01T02:32:09.133843",
          "1970-01-01T02:32:09.133843",
          "1970-01-01T02:32:09.133843",
          "1970-01-01T02:32:09.133843",
          "1970-01-01T02:32:09.133843",
          "1970-01-01T02:32:09.133843",
          "1970-01-01T02:32:09.133843",
          "1970-01-01T02:32:09.133843",
          "1970-01-01T02:32:09.133843",
          "1970-01-01T02:32:09.133843",
          "1970-01-01T02:32:09.133843",
          "1970-01-01T02:32:09.133843",
          "1970-01-01T02:32:09.133843",
          "1970-01-01T02:32:09.133843",
          "1970-01-01T02:32:09.133843",
          "1970-01-01T03:02:31.937475",
          "1970-01-01T03:02:31.937475",
          "1970-01-01T03:02:31.937475",
          "1970-01-01T03:02:31.937475",
          "1970-01-01T03:02:31.937475",
          "1970-01-01T04:02:31.937475",
          "1970-01-01T04:02:31.937475",
          "1970-01-01T04:02:31.937475",
          "1970-01-01T04:02:31.937475",
          "1970-01-01T04:02:31.937475",
          "1970-01-01T04:34:41.071318",
          "1970-01-01T04:34:41.071318",
          "1970-01-01T04:34:41.071318",
          "1970-01-01T04:34:41.071318",
          "1970-01-01T04:34:41.071318",
          "1970-01-01T05:34:41.071318",
          "1970-01-01T05:34:41.071318",
          "1970-01-01T05:34:41.071318",
          "1970-01-01T05:34:41.071318",
          "1970-01-01T05:34:41.071318",
          "1970-01-01T05:34:41.071318",
          "1970-01-01T05:34:41.071318",
          "1970-01-01T05:34:41.071318",
          "1970-01-01T05:34:41.071318",
          "1970-01-01T05:34:41.071318",
          "1970-01-01T05:34:41.071318",
          "1970-01-01T05:34:41.071318",
          "1970-01-01T05:34:41.071318",
          "1970-01-01T05:34:41.071318",
          "1970-01-01T05:34:41.071318",
          "1970-01-01T06:05:03.874950",
          "1970-01-01T06:05:03.874950",
          "1970-01-01T06:05:03.874950",
          "1970-01-01T06:05:03.874950",
          "1970-01-01T06:05:03.874950",
          "1970-01-01T07:05:03.874950",
          "1970-01-01T07:05:03.874950",
          "1970-01-01T07:05:03.874950",
          "1970-01-01T07:05:03.874950",
          "1970-01-01T07:05:03.874950",
          "1970-01-01T07:37:13.008793",
          "1970-01-01T07:37:13.008793",
          "1970-01-01T07:37:13.008793",
          "1970-01-01T07:37:13.008793",
          "1970-01-01T07:37:13.008793",
          "1970-01-01T08:37:13.008793",
          "1970-01-01T08:37:13.008793",
          "1970-01-01T08:37:13.008793",
          "1970-01-01T07:37:13.008793",
          "1970-01-01T07:37:13.008793",
          "1970-01-01T08:37:13.008793",
          "1970-01-01T08:37:13.008793",
          "1970-01-01T08:37:13.008793",
          "1970-01-01T08:37:13.008793",
          "1970-01-01T08:37:13.008793",
          "1970-01-01T08:37:13.008793",
          "1970-01-01T08:37:13.008793",
          "1970-01-01T08:37:13.008793"
         ],
         "y": [
          "Single run process",
          "Single run process",
          "Single run process",
          "Single run process",
          null,
          "Single run process",
          "Single run process",
          "Single run process",
          "Single run process",
          null,
          "Single run process",
          "Single run process",
          "Single run process",
          "Single run process",
          null,
          "Single run process",
          "Single run process",
          "Single run process",
          "Single run process",
          null,
          "Single run process",
          "Single run process",
          "Single run process",
          "Single run process",
          null,
          "Single run process",
          "Single run process",
          "Single run process",
          "Single run process",
          null,
          "Single run process",
          "Single run process",
          "Single run process",
          "Single run process",
          null,
          "Single run process",
          "Single run process",
          "Single run process",
          "Single run process",
          null,
          "Single run process",
          "Single run process",
          "Single run process",
          "Single run process",
          null,
          "Single run process",
          "Single run process",
          "Single run process",
          "Single run process",
          null,
          "Single run process",
          "Single run process",
          "Single run process",
          "Single run process",
          null,
          "Single run process",
          "Single run process",
          "Single run process",
          "Single run process",
          null,
          "Single run process",
          "Single run process",
          "Single run process",
          "Single run process",
          null,
          "Single run process",
          "Single run process",
          "Single run process",
          "Single run process",
          null,
          "Single run process",
          "Single run process",
          "Single run process",
          "Single run process",
          null,
          "Single run process",
          "Single run process",
          "Single run process",
          "Single run process",
          null,
          "Single run process",
          "Single run process",
          "Single run process",
          "Single run process",
          null,
          "Single run process",
          "Single run process",
          "Single run process",
          "Single run process",
          null
         ]
        },
        {
         "connectgaps": false,
         "hoverinfo": "y+name",
         "line": {
          "color": "rgb(167,154,17)",
          "width": 10
         },
         "mode": "lines",
         "name": "sailing full",
         "type": "scatter",
         "x": [
          "1970-01-01T01:00:00",
          "1970-01-01T01:00:00",
          "1970-01-01T01:32:09.133843",
          "1970-01-01T01:32:09.133843",
          "1970-01-01T01:32:09.133843",
          "1970-01-01T04:02:31.937475",
          "1970-01-01T04:02:31.937475",
          "1970-01-01T04:34:41.071318",
          "1970-01-01T04:34:41.071318",
          "1970-01-01T04:34:41.071318",
          "1970-01-01T07:05:03.874950",
          "1970-01-01T07:05:03.874950",
          "1970-01-01T07:37:13.008793",
          "1970-01-01T07:37:13.008793",
          "1970-01-01T07:37:13.008793",
          "1970-01-01T01:00:00",
          "1970-01-01T01:00:00",
          "1970-01-01T01:32:09.133843",
          "1970-01-01T01:32:09.133843",
          "1970-01-01T01:32:09.133843",
          "1970-01-01T04:02:31.937475",
          "1970-01-01T04:02:31.937475",
          "1970-01-01T04:34:41.071318",
          "1970-01-01T04:34:41.071318",
          "1970-01-01T04:34:41.071318",
          "1970-01-01T07:05:03.874950",
          "1970-01-01T07:05:03.874950",
          "1970-01-01T07:37:13.008793",
          "1970-01-01T07:37:13.008793",
          "1970-01-01T07:37:13.008793"
         ],
         "y": [
          "vessel01",
          "vessel01",
          "vessel01",
          "vessel01",
          null,
          "vessel01",
          "vessel01",
          "vessel01",
          "vessel01",
          null,
          "vessel01",
          "vessel01",
          "vessel01",
          "vessel01",
          null,
          "sailing full",
          "sailing full",
          "sailing full",
          "sailing full",
          null,
          "sailing full",
          "sailing full",
          "sailing full",
          "sailing full",
          null,
          "sailing full",
          "sailing full",
          "sailing full",
          "sailing full",
          null
         ]
        },
        {
         "connectgaps": false,
         "hoverinfo": "y+name",
         "line": {
          "color": "rgb(185,172,35)",
          "width": 10
         },
         "mode": "lines",
         "name": "sailing empty",
         "type": "scatter",
         "x": [
          "1970-01-01T00:00:00",
          "1970-01-01T00:00:00",
          "1970-01-01T00:00:00",
          "1970-01-01T00:00:00",
          "1970-01-01T00:00:00",
          "1970-01-01T02:32:09.133843",
          "1970-01-01T02:32:09.133843",
          "1970-01-01T03:02:31.937475",
          "1970-01-01T03:02:31.937475",
          "1970-01-01T03:02:31.937475",
          "1970-01-01T05:34:41.071318",
          "1970-01-01T05:34:41.071318",
          "1970-01-01T06:05:03.874950",
          "1970-01-01T06:05:03.874950",
          "1970-01-01T06:05:03.874950",
          "1970-01-01T00:00:00",
          "1970-01-01T00:00:00",
          "1970-01-01T00:00:00",
          "1970-01-01T00:00:00",
          "1970-01-01T00:00:00",
          "1970-01-01T02:32:09.133843",
          "1970-01-01T02:32:09.133843",
          "1970-01-01T03:02:31.937475",
          "1970-01-01T03:02:31.937475",
          "1970-01-01T03:02:31.937475",
          "1970-01-01T05:34:41.071318",
          "1970-01-01T05:34:41.071318",
          "1970-01-01T06:05:03.874950",
          "1970-01-01T06:05:03.874950",
          "1970-01-01T06:05:03.874950"
         ],
         "y": [
          "vessel01",
          "vessel01",
          "vessel01",
          "vessel01",
          null,
          "vessel01",
          "vessel01",
          "vessel01",
          "vessel01",
          null,
          "vessel01",
          "vessel01",
          "vessel01",
          "vessel01",
          null,
          "sailing empty",
          "sailing empty",
          "sailing empty",
          "sailing empty",
          null,
          "sailing empty",
          "sailing empty",
          "sailing empty",
          "sailing empty",
          null,
          "sailing empty",
          "sailing empty",
          "sailing empty",
          "sailing empty",
          null
         ]
        },
        {
         "connectgaps": false,
         "hoverinfo": "y+name",
         "line": {
          "color": "rgb(203,190,53)",
          "width": 10
         },
         "mode": "lines",
         "name": "Basic activity",
         "type": "scatter",
         "x": [
          "1970-01-01T02:32:09.133843",
          "1970-01-01T02:32:09.133843",
          "1970-01-01T02:32:09.133843",
          "1970-01-01T02:32:09.133843",
          "1970-01-01T02:32:09.133843",
          "1970-01-01T05:34:41.071318",
          "1970-01-01T05:34:41.071318",
          "1970-01-01T05:34:41.071318",
          "1970-01-01T05:34:41.071318",
          "1970-01-01T05:34:41.071318",
          "1970-01-01T08:37:13.008793",
          "1970-01-01T08:37:13.008793",
          "1970-01-01T08:37:13.008793",
          "1970-01-01T08:37:13.008793",
          "1970-01-01T08:37:13.008793",
          "1970-01-01T02:32:09.133843",
          "1970-01-01T02:32:09.133843",
          "1970-01-01T02:32:09.133843",
          "1970-01-01T02:32:09.133843",
          "1970-01-01T02:32:09.133843",
          "1970-01-01T05:34:41.071318",
          "1970-01-01T05:34:41.071318",
          "1970-01-01T05:34:41.071318",
          "1970-01-01T05:34:41.071318",
          "1970-01-01T05:34:41.071318",
          "1970-01-01T08:37:13.008793",
          "1970-01-01T08:37:13.008793",
          "1970-01-01T08:37:13.008793",
          "1970-01-01T08:37:13.008793",
          "1970-01-01T08:37:13.008793"
         ],
         "y": [
          "vessel01",
          "vessel01",
          "vessel01",
          "vessel01",
          null,
          "vessel01",
          "vessel01",
          "vessel01",
          "vessel01",
          null,
          "vessel01",
          "vessel01",
          "vessel01",
          "vessel01",
          null,
          "Basic activity",
          "Basic activity",
          "Basic activity",
          "Basic activity",
          null,
          "Basic activity",
          "Basic activity",
          "Basic activity",
          "Basic activity",
          null,
          "Basic activity",
          "Basic activity",
          "Basic activity",
          "Basic activity",
          null
         ]
        },
        {
         "connectgaps": false,
         "hoverinfo": "y+name",
         "line": {
          "color": "rgb(221,208,71)",
          "width": 10
         },
         "mode": "lines",
         "name": "load cargo",
         "type": "scatter",
         "x": [
          "1970-01-01T00:00:00",
          "1970-01-01T00:00:00",
          "1970-01-01T01:00:00",
          "1970-01-01T01:00:00",
          "1970-01-01T01:00:00",
          "1970-01-01T03:02:31.937475",
          "1970-01-01T03:02:31.937475",
          "1970-01-01T04:02:31.937475",
          "1970-01-01T04:02:31.937475",
          "1970-01-01T04:02:31.937475",
          "1970-01-01T06:05:03.874950",
          "1970-01-01T06:05:03.874950",
          "1970-01-01T07:05:03.874950",
          "1970-01-01T07:05:03.874950",
          "1970-01-01T07:05:03.874950",
          "1970-01-01T00:00:00",
          "1970-01-01T00:00:00",
          "1970-01-01T01:00:00",
          "1970-01-01T01:00:00",
          "1970-01-01T01:00:00",
          "1970-01-01T03:02:31.937475",
          "1970-01-01T03:02:31.937475",
          "1970-01-01T04:02:31.937475",
          "1970-01-01T04:02:31.937475",
          "1970-01-01T04:02:31.937475",
          "1970-01-01T06:05:03.874950",
          "1970-01-01T06:05:03.874950",
          "1970-01-01T07:05:03.874950",
          "1970-01-01T07:05:03.874950",
          "1970-01-01T07:05:03.874950",
          "1970-01-01T00:00:00",
          "1970-01-01T00:00:00",
          "1970-01-01T01:00:00",
          "1970-01-01T01:00:00",
          "1970-01-01T01:00:00",
          "1970-01-01T03:02:31.937475",
          "1970-01-01T03:02:31.937475",
          "1970-01-01T04:02:31.937475",
          "1970-01-01T04:02:31.937475",
          "1970-01-01T04:02:31.937475",
          "1970-01-01T06:05:03.874950",
          "1970-01-01T06:05:03.874950",
          "1970-01-01T07:05:03.874950",
          "1970-01-01T07:05:03.874950",
          "1970-01-01T07:05:03.874950"
         ],
         "y": [
          "vessel01",
          "vessel01",
          "vessel01",
          "vessel01",
          null,
          "vessel01",
          "vessel01",
          "vessel01",
          "vessel01",
          null,
          "vessel01",
          "vessel01",
          "vessel01",
          "vessel01",
          null,
          "from_site",
          "from_site",
          "from_site",
          "from_site",
          null,
          "from_site",
          "from_site",
          "from_site",
          "from_site",
          null,
          "from_site",
          "from_site",
          "from_site",
          "from_site",
          null,
          "load cargo",
          "load cargo",
          "load cargo",
          "load cargo",
          null,
          "load cargo",
          "load cargo",
          "load cargo",
          "load cargo",
          null,
          "load cargo",
          "load cargo",
          "load cargo",
          "load cargo",
          null
         ]
        },
        {
         "connectgaps": false,
         "hoverinfo": "y+name",
         "line": {
          "color": "rgb(239,226,89)",
          "width": 10
         },
         "mode": "lines",
         "name": "unload cargo",
         "type": "scatter",
         "x": [
          "1970-01-01T01:32:09.133843",
          "1970-01-01T01:32:09.133843",
          "1970-01-01T02:32:09.133843",
          "1970-01-01T02:32:09.133843",
          "1970-01-01T02:32:09.133843",
          "1970-01-01T04:34:41.071318",
          "1970-01-01T04:34:41.071318",
          "1970-01-01T05:34:41.071318",
          "1970-01-01T05:34:41.071318",
          "1970-01-01T05:34:41.071318",
          "1970-01-01T07:37:13.008793",
          "1970-01-01T07:37:13.008793",
          "1970-01-01T08:37:13.008793",
          "1970-01-01T08:37:13.008793",
          "1970-01-01T08:37:13.008793",
          "1970-01-01T01:32:09.133843",
          "1970-01-01T01:32:09.133843",
          "1970-01-01T02:32:09.133843",
          "1970-01-01T02:32:09.133843",
          "1970-01-01T02:32:09.133843",
          "1970-01-01T04:34:41.071318",
          "1970-01-01T04:34:41.071318",
          "1970-01-01T05:34:41.071318",
          "1970-01-01T05:34:41.071318",
          "1970-01-01T05:34:41.071318",
          "1970-01-01T07:37:13.008793",
          "1970-01-01T07:37:13.008793",
          "1970-01-01T08:37:13.008793",
          "1970-01-01T08:37:13.008793",
          "1970-01-01T08:37:13.008793",
          "1970-01-01T01:32:09.133843",
          "1970-01-01T01:32:09.133843",
          "1970-01-01T02:32:09.133843",
          "1970-01-01T02:32:09.133843",
          "1970-01-01T02:32:09.133843",
          "1970-01-01T04:34:41.071318",
          "1970-01-01T04:34:41.071318",
          "1970-01-01T05:34:41.071318",
          "1970-01-01T05:34:41.071318",
          "1970-01-01T05:34:41.071318",
          "1970-01-01T07:37:13.008793",
          "1970-01-01T07:37:13.008793",
          "1970-01-01T08:37:13.008793",
          "1970-01-01T08:37:13.008793",
          "1970-01-01T08:37:13.008793"
         ],
         "y": [
          "vessel01",
          "vessel01",
          "vessel01",
          "vessel01",
          null,
          "vessel01",
          "vessel01",
          "vessel01",
          "vessel01",
          null,
          "vessel01",
          "vessel01",
          "vessel01",
          "vessel01",
          null,
          "to_site",
          "to_site",
          "to_site",
          "to_site",
          null,
          "to_site",
          "to_site",
          "to_site",
          "to_site",
          null,
          "to_site",
          "to_site",
          "to_site",
          "to_site",
          null,
          "unload cargo",
          "unload cargo",
          "unload cargo",
          "unload cargo",
          null,
          "unload cargo",
          "unload cargo",
          "unload cargo",
          "unload cargo",
          null,
          "unload cargo",
          "unload cargo",
          "unload cargo",
          "unload cargo",
          null
         ]
        },
        {
         "connectgaps": false,
         "hoverinfo": "y+name",
         "line": {
          "color": "rgb(1,244,107)",
          "width": 10
         },
         "mode": "lines",
         "name": "load cargo",
         "type": "scatter",
         "x": [
          "1970-01-01T00:00:00",
          "1970-01-01T00:00:00",
          "1970-01-01T01:00:00",
          "1970-01-01T01:00:00",
          "1970-01-01T01:00:00",
          "1970-01-01T03:02:31.937475",
          "1970-01-01T03:02:31.937475",
          "1970-01-01T04:02:31.937475",
          "1970-01-01T04:02:31.937475",
          "1970-01-01T04:02:31.937475",
          "1970-01-01T06:05:03.874950",
          "1970-01-01T06:05:03.874950",
          "1970-01-01T07:05:03.874950",
          "1970-01-01T07:05:03.874950",
          "1970-01-01T07:05:03.874950",
          "1970-01-01T00:00:00",
          "1970-01-01T00:00:00",
          "1970-01-01T01:00:00",
          "1970-01-01T01:00:00",
          "1970-01-01T01:00:00",
          "1970-01-01T03:02:31.937475",
          "1970-01-01T03:02:31.937475",
          "1970-01-01T04:02:31.937475",
          "1970-01-01T04:02:31.937475",
          "1970-01-01T04:02:31.937475",
          "1970-01-01T06:05:03.874950",
          "1970-01-01T06:05:03.874950",
          "1970-01-01T07:05:03.874950",
          "1970-01-01T07:05:03.874950",
          "1970-01-01T07:05:03.874950",
          "1970-01-01T00:00:00",
          "1970-01-01T00:00:00",
          "1970-01-01T01:00:00",
          "1970-01-01T01:00:00",
          "1970-01-01T01:00:00",
          "1970-01-01T03:02:31.937475",
          "1970-01-01T03:02:31.937475",
          "1970-01-01T04:02:31.937475",
          "1970-01-01T04:02:31.937475",
          "1970-01-01T04:02:31.937475",
          "1970-01-01T06:05:03.874950",
          "1970-01-01T06:05:03.874950",
          "1970-01-01T07:05:03.874950",
          "1970-01-01T07:05:03.874950",
          "1970-01-01T07:05:03.874950"
         ],
         "y": [
          "vessel01",
          "vessel01",
          "vessel01",
          "vessel01",
          null,
          "vessel01",
          "vessel01",
          "vessel01",
          "vessel01",
          null,
          "vessel01",
          "vessel01",
          "vessel01",
          "vessel01",
          null,
          "from_site",
          "from_site",
          "from_site",
          "from_site",
          null,
          "from_site",
          "from_site",
          "from_site",
          "from_site",
          null,
          "from_site",
          "from_site",
          "from_site",
          "from_site",
          null,
          "load cargo",
          "load cargo",
          "load cargo",
          "load cargo",
          null,
          "load cargo",
          "load cargo",
          "load cargo",
          "load cargo",
          null,
          "load cargo",
          "load cargo",
          "load cargo",
          "load cargo",
          null
         ]
        },
        {
         "connectgaps": false,
         "hoverinfo": "y+name",
         "line": {
          "color": "rgb(19,6,125)",
          "width": 10
         },
         "mode": "lines",
         "name": "unload cargo",
         "type": "scatter",
         "x": [
          "1970-01-01T01:32:09.133843",
          "1970-01-01T01:32:09.133843",
          "1970-01-01T02:32:09.133843",
          "1970-01-01T02:32:09.133843",
          "1970-01-01T02:32:09.133843",
          "1970-01-01T04:34:41.071318",
          "1970-01-01T04:34:41.071318",
          "1970-01-01T05:34:41.071318",
          "1970-01-01T05:34:41.071318",
          "1970-01-01T05:34:41.071318",
          "1970-01-01T07:37:13.008793",
          "1970-01-01T07:37:13.008793",
          "1970-01-01T08:37:13.008793",
          "1970-01-01T08:37:13.008793",
          "1970-01-01T08:37:13.008793",
          "1970-01-01T01:32:09.133843",
          "1970-01-01T01:32:09.133843",
          "1970-01-01T02:32:09.133843",
          "1970-01-01T02:32:09.133843",
          "1970-01-01T02:32:09.133843",
          "1970-01-01T04:34:41.071318",
          "1970-01-01T04:34:41.071318",
          "1970-01-01T05:34:41.071318",
          "1970-01-01T05:34:41.071318",
          "1970-01-01T05:34:41.071318",
          "1970-01-01T07:37:13.008793",
          "1970-01-01T07:37:13.008793",
          "1970-01-01T08:37:13.008793",
          "1970-01-01T08:37:13.008793",
          "1970-01-01T08:37:13.008793",
          "1970-01-01T01:32:09.133843",
          "1970-01-01T01:32:09.133843",
          "1970-01-01T02:32:09.133843",
          "1970-01-01T02:32:09.133843",
          "1970-01-01T02:32:09.133843",
          "1970-01-01T04:34:41.071318",
          "1970-01-01T04:34:41.071318",
          "1970-01-01T05:34:41.071318",
          "1970-01-01T05:34:41.071318",
          "1970-01-01T05:34:41.071318",
          "1970-01-01T07:37:13.008793",
          "1970-01-01T07:37:13.008793",
          "1970-01-01T08:37:13.008793",
          "1970-01-01T08:37:13.008793",
          "1970-01-01T08:37:13.008793"
         ],
         "y": [
          "vessel01",
          "vessel01",
          "vessel01",
          "vessel01",
          null,
          "vessel01",
          "vessel01",
          "vessel01",
          "vessel01",
          null,
          "vessel01",
          "vessel01",
          "vessel01",
          "vessel01",
          null,
          "to_site",
          "to_site",
          "to_site",
          "to_site",
          null,
          "to_site",
          "to_site",
          "to_site",
          "to_site",
          null,
          "to_site",
          "to_site",
          "to_site",
          "to_site",
          null,
          "unload cargo",
          "unload cargo",
          "unload cargo",
          "unload cargo",
          null,
          "unload cargo",
          "unload cargo",
          "unload cargo",
          "unload cargo",
          null,
          "unload cargo",
          "unload cargo",
          "unload cargo",
          "unload cargo",
          null
         ]
        },
        {
         "connectgaps": false,
         "hoverinfo": "y+name",
         "line": {
          "color": "rgb(37,24,143)",
          "width": 10
         },
         "mode": "lines",
         "name": "sailing empty",
         "type": "scatter",
         "x": [
          "1970-01-01T00:00:00",
          "1970-01-01T00:00:00",
          "1970-01-01T00:00:00",
          "1970-01-01T00:00:00",
          "1970-01-01T00:00:00",
          "1970-01-01T02:32:09.133843",
          "1970-01-01T02:32:09.133843",
          "1970-01-01T03:02:31.937475",
          "1970-01-01T03:02:31.937475",
          "1970-01-01T03:02:31.937475",
          "1970-01-01T05:34:41.071318",
          "1970-01-01T05:34:41.071318",
          "1970-01-01T06:05:03.874950",
          "1970-01-01T06:05:03.874950",
          "1970-01-01T06:05:03.874950",
          "1970-01-01T00:00:00",
          "1970-01-01T00:00:00",
          "1970-01-01T00:00:00",
          "1970-01-01T00:00:00",
          "1970-01-01T00:00:00",
          "1970-01-01T02:32:09.133843",
          "1970-01-01T02:32:09.133843",
          "1970-01-01T03:02:31.937475",
          "1970-01-01T03:02:31.937475",
          "1970-01-01T03:02:31.937475",
          "1970-01-01T05:34:41.071318",
          "1970-01-01T05:34:41.071318",
          "1970-01-01T06:05:03.874950",
          "1970-01-01T06:05:03.874950",
          "1970-01-01T06:05:03.874950"
         ],
         "y": [
          "vessel01",
          "vessel01",
          "vessel01",
          "vessel01",
          null,
          "vessel01",
          "vessel01",
          "vessel01",
          "vessel01",
          null,
          "vessel01",
          "vessel01",
          "vessel01",
          "vessel01",
          null,
          "sailing empty",
          "sailing empty",
          "sailing empty",
          "sailing empty",
          null,
          "sailing empty",
          "sailing empty",
          "sailing empty",
          "sailing empty",
          null,
          "sailing empty",
          "sailing empty",
          "sailing empty",
          "sailing empty",
          null
         ]
        },
        {
         "connectgaps": false,
         "hoverinfo": "y+name",
         "line": {
          "color": "rgb(55,42,161)",
          "width": 10
         },
         "mode": "lines",
         "name": "load cargo",
         "type": "scatter",
         "x": [
          "1970-01-01T00:00:00",
          "1970-01-01T00:00:00",
          "1970-01-01T01:00:00",
          "1970-01-01T01:00:00",
          "1970-01-01T01:00:00",
          "1970-01-01T03:02:31.937475",
          "1970-01-01T03:02:31.937475",
          "1970-01-01T04:02:31.937475",
          "1970-01-01T04:02:31.937475",
          "1970-01-01T04:02:31.937475",
          "1970-01-01T06:05:03.874950",
          "1970-01-01T06:05:03.874950",
          "1970-01-01T07:05:03.874950",
          "1970-01-01T07:05:03.874950",
          "1970-01-01T07:05:03.874950",
          "1970-01-01T00:00:00",
          "1970-01-01T00:00:00",
          "1970-01-01T01:00:00",
          "1970-01-01T01:00:00",
          "1970-01-01T01:00:00",
          "1970-01-01T03:02:31.937475",
          "1970-01-01T03:02:31.937475",
          "1970-01-01T04:02:31.937475",
          "1970-01-01T04:02:31.937475",
          "1970-01-01T04:02:31.937475",
          "1970-01-01T06:05:03.874950",
          "1970-01-01T06:05:03.874950",
          "1970-01-01T07:05:03.874950",
          "1970-01-01T07:05:03.874950",
          "1970-01-01T07:05:03.874950",
          "1970-01-01T00:00:00",
          "1970-01-01T00:00:00",
          "1970-01-01T01:00:00",
          "1970-01-01T01:00:00",
          "1970-01-01T01:00:00",
          "1970-01-01T03:02:31.937475",
          "1970-01-01T03:02:31.937475",
          "1970-01-01T04:02:31.937475",
          "1970-01-01T04:02:31.937475",
          "1970-01-01T04:02:31.937475",
          "1970-01-01T06:05:03.874950",
          "1970-01-01T06:05:03.874950",
          "1970-01-01T07:05:03.874950",
          "1970-01-01T07:05:03.874950",
          "1970-01-01T07:05:03.874950"
         ],
         "y": [
          "vessel01",
          "vessel01",
          "vessel01",
          "vessel01",
          null,
          "vessel01",
          "vessel01",
          "vessel01",
          "vessel01",
          null,
          "vessel01",
          "vessel01",
          "vessel01",
          "vessel01",
          null,
          "from_site",
          "from_site",
          "from_site",
          "from_site",
          null,
          "from_site",
          "from_site",
          "from_site",
          "from_site",
          null,
          "from_site",
          "from_site",
          "from_site",
          "from_site",
          null,
          "load cargo",
          "load cargo",
          "load cargo",
          "load cargo",
          null,
          "load cargo",
          "load cargo",
          "load cargo",
          "load cargo",
          null,
          "load cargo",
          "load cargo",
          "load cargo",
          "load cargo",
          null
         ]
        },
        {
         "connectgaps": false,
         "hoverinfo": "y+name",
         "line": {
          "color": "rgb(73,60,179)",
          "width": 10
         },
         "mode": "lines",
         "name": "sailing full",
         "type": "scatter",
         "x": [
          "1970-01-01T01:00:00",
          "1970-01-01T01:00:00",
          "1970-01-01T01:32:09.133843",
          "1970-01-01T01:32:09.133843",
          "1970-01-01T01:32:09.133843",
          "1970-01-01T04:02:31.937475",
          "1970-01-01T04:02:31.937475",
          "1970-01-01T04:34:41.071318",
          "1970-01-01T04:34:41.071318",
          "1970-01-01T04:34:41.071318",
          "1970-01-01T07:05:03.874950",
          "1970-01-01T07:05:03.874950",
          "1970-01-01T07:37:13.008793",
          "1970-01-01T07:37:13.008793",
          "1970-01-01T07:37:13.008793",
          "1970-01-01T01:00:00",
          "1970-01-01T01:00:00",
          "1970-01-01T01:32:09.133843",
          "1970-01-01T01:32:09.133843",
          "1970-01-01T01:32:09.133843",
          "1970-01-01T04:02:31.937475",
          "1970-01-01T04:02:31.937475",
          "1970-01-01T04:34:41.071318",
          "1970-01-01T04:34:41.071318",
          "1970-01-01T04:34:41.071318",
          "1970-01-01T07:05:03.874950",
          "1970-01-01T07:05:03.874950",
          "1970-01-01T07:37:13.008793",
          "1970-01-01T07:37:13.008793",
          "1970-01-01T07:37:13.008793"
         ],
         "y": [
          "vessel01",
          "vessel01",
          "vessel01",
          "vessel01",
          null,
          "vessel01",
          "vessel01",
          "vessel01",
          "vessel01",
          null,
          "vessel01",
          "vessel01",
          "vessel01",
          "vessel01",
          null,
          "sailing full",
          "sailing full",
          "sailing full",
          "sailing full",
          null,
          "sailing full",
          "sailing full",
          "sailing full",
          "sailing full",
          null,
          "sailing full",
          "sailing full",
          "sailing full",
          "sailing full",
          null
         ]
        },
        {
         "connectgaps": false,
         "hoverinfo": "y+name",
         "line": {
          "color": "rgb(91,78,197)",
          "width": 10
         },
         "mode": "lines",
         "name": "unload cargo",
         "type": "scatter",
         "x": [
          "1970-01-01T01:32:09.133843",
          "1970-01-01T01:32:09.133843",
          "1970-01-01T02:32:09.133843",
          "1970-01-01T02:32:09.133843",
          "1970-01-01T02:32:09.133843",
          "1970-01-01T04:34:41.071318",
          "1970-01-01T04:34:41.071318",
          "1970-01-01T05:34:41.071318",
          "1970-01-01T05:34:41.071318",
          "1970-01-01T05:34:41.071318",
          "1970-01-01T07:37:13.008793",
          "1970-01-01T07:37:13.008793",
          "1970-01-01T08:37:13.008793",
          "1970-01-01T08:37:13.008793",
          "1970-01-01T08:37:13.008793",
          "1970-01-01T01:32:09.133843",
          "1970-01-01T01:32:09.133843",
          "1970-01-01T02:32:09.133843",
          "1970-01-01T02:32:09.133843",
          "1970-01-01T02:32:09.133843",
          "1970-01-01T04:34:41.071318",
          "1970-01-01T04:34:41.071318",
          "1970-01-01T05:34:41.071318",
          "1970-01-01T05:34:41.071318",
          "1970-01-01T05:34:41.071318",
          "1970-01-01T07:37:13.008793",
          "1970-01-01T07:37:13.008793",
          "1970-01-01T08:37:13.008793",
          "1970-01-01T08:37:13.008793",
          "1970-01-01T08:37:13.008793",
          "1970-01-01T01:32:09.133843",
          "1970-01-01T01:32:09.133843",
          "1970-01-01T02:32:09.133843",
          "1970-01-01T02:32:09.133843",
          "1970-01-01T02:32:09.133843",
          "1970-01-01T04:34:41.071318",
          "1970-01-01T04:34:41.071318",
          "1970-01-01T05:34:41.071318",
          "1970-01-01T05:34:41.071318",
          "1970-01-01T05:34:41.071318",
          "1970-01-01T07:37:13.008793",
          "1970-01-01T07:37:13.008793",
          "1970-01-01T08:37:13.008793",
          "1970-01-01T08:37:13.008793",
          "1970-01-01T08:37:13.008793"
         ],
         "y": [
          "vessel01",
          "vessel01",
          "vessel01",
          "vessel01",
          null,
          "vessel01",
          "vessel01",
          "vessel01",
          "vessel01",
          null,
          "vessel01",
          "vessel01",
          "vessel01",
          "vessel01",
          null,
          "to_site",
          "to_site",
          "to_site",
          "to_site",
          null,
          "to_site",
          "to_site",
          "to_site",
          "to_site",
          null,
          "to_site",
          "to_site",
          "to_site",
          "to_site",
          null,
          "unload cargo",
          "unload cargo",
          "unload cargo",
          "unload cargo",
          null,
          "unload cargo",
          "unload cargo",
          "unload cargo",
          "unload cargo",
          null,
          "unload cargo",
          "unload cargo",
          "unload cargo",
          "unload cargo",
          null
         ]
        },
        {
         "connectgaps": false,
         "hoverinfo": "y+name",
         "line": {
          "color": "rgb(109,96,215)",
          "width": 10
         },
         "mode": "lines",
         "name": "Basic activity",
         "type": "scatter",
         "x": [
          "1970-01-01T02:32:09.133843",
          "1970-01-01T02:32:09.133843",
          "1970-01-01T02:32:09.133843",
          "1970-01-01T02:32:09.133843",
          "1970-01-01T02:32:09.133843",
          "1970-01-01T05:34:41.071318",
          "1970-01-01T05:34:41.071318",
          "1970-01-01T05:34:41.071318",
          "1970-01-01T05:34:41.071318",
          "1970-01-01T05:34:41.071318",
          "1970-01-01T08:37:13.008793",
          "1970-01-01T08:37:13.008793",
          "1970-01-01T08:37:13.008793",
          "1970-01-01T08:37:13.008793",
          "1970-01-01T08:37:13.008793",
          "1970-01-01T02:32:09.133843",
          "1970-01-01T02:32:09.133843",
          "1970-01-01T02:32:09.133843",
          "1970-01-01T02:32:09.133843",
          "1970-01-01T02:32:09.133843",
          "1970-01-01T05:34:41.071318",
          "1970-01-01T05:34:41.071318",
          "1970-01-01T05:34:41.071318",
          "1970-01-01T05:34:41.071318",
          "1970-01-01T05:34:41.071318",
          "1970-01-01T08:37:13.008793",
          "1970-01-01T08:37:13.008793",
          "1970-01-01T08:37:13.008793",
          "1970-01-01T08:37:13.008793",
          "1970-01-01T08:37:13.008793"
         ],
         "y": [
          "vessel01",
          "vessel01",
          "vessel01",
          "vessel01",
          null,
          "vessel01",
          "vessel01",
          "vessel01",
          "vessel01",
          null,
          "vessel01",
          "vessel01",
          "vessel01",
          "vessel01",
          null,
          "Basic activity",
          "Basic activity",
          "Basic activity",
          "Basic activity",
          null,
          "Basic activity",
          "Basic activity",
          "Basic activity",
          "Basic activity",
          null,
          "Basic activity",
          "Basic activity",
          "Basic activity",
          "Basic activity",
          null
         ]
        }
       ],
       "layout": {
        "hovermode": "closest",
        "legend": {
         "orientation": "h",
         "x": 0,
         "y": -0.2
        },
        "template": {
         "data": {
          "bar": [
           {
            "error_x": {
             "color": "#2a3f5f"
            },
            "error_y": {
             "color": "#2a3f5f"
            },
            "marker": {
             "line": {
              "color": "#E5ECF6",
              "width": 0.5
             },
             "pattern": {
              "fillmode": "overlay",
              "size": 10,
              "solidity": 0.2
             }
            },
            "type": "bar"
           }
          ],
          "barpolar": [
           {
            "marker": {
             "line": {
              "color": "#E5ECF6",
              "width": 0.5
             },
             "pattern": {
              "fillmode": "overlay",
              "size": 10,
              "solidity": 0.2
             }
            },
            "type": "barpolar"
           }
          ],
          "carpet": [
           {
            "aaxis": {
             "endlinecolor": "#2a3f5f",
             "gridcolor": "white",
             "linecolor": "white",
             "minorgridcolor": "white",
             "startlinecolor": "#2a3f5f"
            },
            "baxis": {
             "endlinecolor": "#2a3f5f",
             "gridcolor": "white",
             "linecolor": "white",
             "minorgridcolor": "white",
             "startlinecolor": "#2a3f5f"
            },
            "type": "carpet"
           }
          ],
          "choropleth": [
           {
            "colorbar": {
             "outlinewidth": 0,
             "ticks": ""
            },
            "type": "choropleth"
           }
          ],
          "contour": [
           {
            "colorbar": {
             "outlinewidth": 0,
             "ticks": ""
            },
            "colorscale": [
             [
              0,
              "#0d0887"
             ],
             [
              0.1111111111111111,
              "#46039f"
             ],
             [
              0.2222222222222222,
              "#7201a8"
             ],
             [
              0.3333333333333333,
              "#9c179e"
             ],
             [
              0.4444444444444444,
              "#bd3786"
             ],
             [
              0.5555555555555556,
              "#d8576b"
             ],
             [
              0.6666666666666666,
              "#ed7953"
             ],
             [
              0.7777777777777778,
              "#fb9f3a"
             ],
             [
              0.8888888888888888,
              "#fdca26"
             ],
             [
              1,
              "#f0f921"
             ]
            ],
            "type": "contour"
           }
          ],
          "contourcarpet": [
           {
            "colorbar": {
             "outlinewidth": 0,
             "ticks": ""
            },
            "type": "contourcarpet"
           }
          ],
          "heatmap": [
           {
            "colorbar": {
             "outlinewidth": 0,
             "ticks": ""
            },
            "colorscale": [
             [
              0,
              "#0d0887"
             ],
             [
              0.1111111111111111,
              "#46039f"
             ],
             [
              0.2222222222222222,
              "#7201a8"
             ],
             [
              0.3333333333333333,
              "#9c179e"
             ],
             [
              0.4444444444444444,
              "#bd3786"
             ],
             [
              0.5555555555555556,
              "#d8576b"
             ],
             [
              0.6666666666666666,
              "#ed7953"
             ],
             [
              0.7777777777777778,
              "#fb9f3a"
             ],
             [
              0.8888888888888888,
              "#fdca26"
             ],
             [
              1,
              "#f0f921"
             ]
            ],
            "type": "heatmap"
           }
          ],
          "heatmapgl": [
           {
            "colorbar": {
             "outlinewidth": 0,
             "ticks": ""
            },
            "colorscale": [
             [
              0,
              "#0d0887"
             ],
             [
              0.1111111111111111,
              "#46039f"
             ],
             [
              0.2222222222222222,
              "#7201a8"
             ],
             [
              0.3333333333333333,
              "#9c179e"
             ],
             [
              0.4444444444444444,
              "#bd3786"
             ],
             [
              0.5555555555555556,
              "#d8576b"
             ],
             [
              0.6666666666666666,
              "#ed7953"
             ],
             [
              0.7777777777777778,
              "#fb9f3a"
             ],
             [
              0.8888888888888888,
              "#fdca26"
             ],
             [
              1,
              "#f0f921"
             ]
            ],
            "type": "heatmapgl"
           }
          ],
          "histogram": [
           {
            "marker": {
             "pattern": {
              "fillmode": "overlay",
              "size": 10,
              "solidity": 0.2
             }
            },
            "type": "histogram"
           }
          ],
          "histogram2d": [
           {
            "colorbar": {
             "outlinewidth": 0,
             "ticks": ""
            },
            "colorscale": [
             [
              0,
              "#0d0887"
             ],
             [
              0.1111111111111111,
              "#46039f"
             ],
             [
              0.2222222222222222,
              "#7201a8"
             ],
             [
              0.3333333333333333,
              "#9c179e"
             ],
             [
              0.4444444444444444,
              "#bd3786"
             ],
             [
              0.5555555555555556,
              "#d8576b"
             ],
             [
              0.6666666666666666,
              "#ed7953"
             ],
             [
              0.7777777777777778,
              "#fb9f3a"
             ],
             [
              0.8888888888888888,
              "#fdca26"
             ],
             [
              1,
              "#f0f921"
             ]
            ],
            "type": "histogram2d"
           }
          ],
          "histogram2dcontour": [
           {
            "colorbar": {
             "outlinewidth": 0,
             "ticks": ""
            },
            "colorscale": [
             [
              0,
              "#0d0887"
             ],
             [
              0.1111111111111111,
              "#46039f"
             ],
             [
              0.2222222222222222,
              "#7201a8"
             ],
             [
              0.3333333333333333,
              "#9c179e"
             ],
             [
              0.4444444444444444,
              "#bd3786"
             ],
             [
              0.5555555555555556,
              "#d8576b"
             ],
             [
              0.6666666666666666,
              "#ed7953"
             ],
             [
              0.7777777777777778,
              "#fb9f3a"
             ],
             [
              0.8888888888888888,
              "#fdca26"
             ],
             [
              1,
              "#f0f921"
             ]
            ],
            "type": "histogram2dcontour"
           }
          ],
          "mesh3d": [
           {
            "colorbar": {
             "outlinewidth": 0,
             "ticks": ""
            },
            "type": "mesh3d"
           }
          ],
          "parcoords": [
           {
            "line": {
             "colorbar": {
              "outlinewidth": 0,
              "ticks": ""
             }
            },
            "type": "parcoords"
           }
          ],
          "pie": [
           {
            "automargin": true,
            "type": "pie"
           }
          ],
          "scatter": [
           {
            "marker": {
             "colorbar": {
              "outlinewidth": 0,
              "ticks": ""
             }
            },
            "type": "scatter"
           }
          ],
          "scatter3d": [
           {
            "line": {
             "colorbar": {
              "outlinewidth": 0,
              "ticks": ""
             }
            },
            "marker": {
             "colorbar": {
              "outlinewidth": 0,
              "ticks": ""
             }
            },
            "type": "scatter3d"
           }
          ],
          "scattercarpet": [
           {
            "marker": {
             "colorbar": {
              "outlinewidth": 0,
              "ticks": ""
             }
            },
            "type": "scattercarpet"
           }
          ],
          "scattergeo": [
           {
            "marker": {
             "colorbar": {
              "outlinewidth": 0,
              "ticks": ""
             }
            },
            "type": "scattergeo"
           }
          ],
          "scattergl": [
           {
            "marker": {
             "colorbar": {
              "outlinewidth": 0,
              "ticks": ""
             }
            },
            "type": "scattergl"
           }
          ],
          "scattermapbox": [
           {
            "marker": {
             "colorbar": {
              "outlinewidth": 0,
              "ticks": ""
             }
            },
            "type": "scattermapbox"
           }
          ],
          "scatterpolar": [
           {
            "marker": {
             "colorbar": {
              "outlinewidth": 0,
              "ticks": ""
             }
            },
            "type": "scatterpolar"
           }
          ],
          "scatterpolargl": [
           {
            "marker": {
             "colorbar": {
              "outlinewidth": 0,
              "ticks": ""
             }
            },
            "type": "scatterpolargl"
           }
          ],
          "scatterternary": [
           {
            "marker": {
             "colorbar": {
              "outlinewidth": 0,
              "ticks": ""
             }
            },
            "type": "scatterternary"
           }
          ],
          "surface": [
           {
            "colorbar": {
             "outlinewidth": 0,
             "ticks": ""
            },
            "colorscale": [
             [
              0,
              "#0d0887"
             ],
             [
              0.1111111111111111,
              "#46039f"
             ],
             [
              0.2222222222222222,
              "#7201a8"
             ],
             [
              0.3333333333333333,
              "#9c179e"
             ],
             [
              0.4444444444444444,
              "#bd3786"
             ],
             [
              0.5555555555555556,
              "#d8576b"
             ],
             [
              0.6666666666666666,
              "#ed7953"
             ],
             [
              0.7777777777777778,
              "#fb9f3a"
             ],
             [
              0.8888888888888888,
              "#fdca26"
             ],
             [
              1,
              "#f0f921"
             ]
            ],
            "type": "surface"
           }
          ],
          "table": [
           {
            "cells": {
             "fill": {
              "color": "#EBF0F8"
             },
             "line": {
              "color": "white"
             }
            },
            "header": {
             "fill": {
              "color": "#C8D4E3"
             },
             "line": {
              "color": "white"
             }
            },
            "type": "table"
           }
          ]
         },
         "layout": {
          "annotationdefaults": {
           "arrowcolor": "#2a3f5f",
           "arrowhead": 0,
           "arrowwidth": 1
          },
          "autotypenumbers": "strict",
          "coloraxis": {
           "colorbar": {
            "outlinewidth": 0,
            "ticks": ""
           }
          },
          "colorscale": {
           "diverging": [
            [
             0,
             "#8e0152"
            ],
            [
             0.1,
             "#c51b7d"
            ],
            [
             0.2,
             "#de77ae"
            ],
            [
             0.3,
             "#f1b6da"
            ],
            [
             0.4,
             "#fde0ef"
            ],
            [
             0.5,
             "#f7f7f7"
            ],
            [
             0.6,
             "#e6f5d0"
            ],
            [
             0.7,
             "#b8e186"
            ],
            [
             0.8,
             "#7fbc41"
            ],
            [
             0.9,
             "#4d9221"
            ],
            [
             1,
             "#276419"
            ]
           ],
           "sequential": [
            [
             0,
             "#0d0887"
            ],
            [
             0.1111111111111111,
             "#46039f"
            ],
            [
             0.2222222222222222,
             "#7201a8"
            ],
            [
             0.3333333333333333,
             "#9c179e"
            ],
            [
             0.4444444444444444,
             "#bd3786"
            ],
            [
             0.5555555555555556,
             "#d8576b"
            ],
            [
             0.6666666666666666,
             "#ed7953"
            ],
            [
             0.7777777777777778,
             "#fb9f3a"
            ],
            [
             0.8888888888888888,
             "#fdca26"
            ],
            [
             1,
             "#f0f921"
            ]
           ],
           "sequentialminus": [
            [
             0,
             "#0d0887"
            ],
            [
             0.1111111111111111,
             "#46039f"
            ],
            [
             0.2222222222222222,
             "#7201a8"
            ],
            [
             0.3333333333333333,
             "#9c179e"
            ],
            [
             0.4444444444444444,
             "#bd3786"
            ],
            [
             0.5555555555555556,
             "#d8576b"
            ],
            [
             0.6666666666666666,
             "#ed7953"
            ],
            [
             0.7777777777777778,
             "#fb9f3a"
            ],
            [
             0.8888888888888888,
             "#fdca26"
            ],
            [
             1,
             "#f0f921"
            ]
           ]
          },
          "colorway": [
           "#636efa",
           "#EF553B",
           "#00cc96",
           "#ab63fa",
           "#FFA15A",
           "#19d3f3",
           "#FF6692",
           "#B6E880",
           "#FF97FF",
           "#FECB52"
          ],
          "font": {
           "color": "#2a3f5f"
          },
          "geo": {
           "bgcolor": "white",
           "lakecolor": "white",
           "landcolor": "#E5ECF6",
           "showlakes": true,
           "showland": true,
           "subunitcolor": "white"
          },
          "hoverlabel": {
           "align": "left"
          },
          "hovermode": "closest",
          "mapbox": {
           "style": "light"
          },
          "paper_bgcolor": "white",
          "plot_bgcolor": "#E5ECF6",
          "polar": {
           "angularaxis": {
            "gridcolor": "white",
            "linecolor": "white",
            "ticks": ""
           },
           "bgcolor": "#E5ECF6",
           "radialaxis": {
            "gridcolor": "white",
            "linecolor": "white",
            "ticks": ""
           }
          },
          "scene": {
           "xaxis": {
            "backgroundcolor": "#E5ECF6",
            "gridcolor": "white",
            "gridwidth": 2,
            "linecolor": "white",
            "showbackground": true,
            "ticks": "",
            "zerolinecolor": "white"
           },
           "yaxis": {
            "backgroundcolor": "#E5ECF6",
            "gridcolor": "white",
            "gridwidth": 2,
            "linecolor": "white",
            "showbackground": true,
            "ticks": "",
            "zerolinecolor": "white"
           },
           "zaxis": {
            "backgroundcolor": "#E5ECF6",
            "gridcolor": "white",
            "gridwidth": 2,
            "linecolor": "white",
            "showbackground": true,
            "ticks": "",
            "zerolinecolor": "white"
           }
          },
          "shapedefaults": {
           "line": {
            "color": "#2a3f5f"
           }
          },
          "ternary": {
           "aaxis": {
            "gridcolor": "white",
            "linecolor": "white",
            "ticks": ""
           },
           "baxis": {
            "gridcolor": "white",
            "linecolor": "white",
            "ticks": ""
           },
           "bgcolor": "#E5ECF6",
           "caxis": {
            "gridcolor": "white",
            "linecolor": "white",
            "ticks": ""
           }
          },
          "title": {
           "x": 0.05
          },
          "xaxis": {
           "automargin": true,
           "gridcolor": "white",
           "linecolor": "white",
           "ticks": "",
           "title": {
            "standoff": 15
           },
           "zerolinecolor": "white",
           "zerolinewidth": 2
          },
          "yaxis": {
           "automargin": true,
           "gridcolor": "white",
           "linecolor": "white",
           "ticks": "",
           "title": {
            "standoff": 15
           },
           "zerolinecolor": "white",
           "zerolinewidth": 2
          }
         }
        },
        "title": {
         "text": "GANTT Chart"
        },
        "xaxis": {
         "range": [
          "1970-01-01T00:00:00",
          "1970-01-01T08:37:13.008793"
         ],
         "title": {
          "font": {
           "color": "#7f7f7f",
           "family": "Courier New, monospace",
           "size": 18
          },
          "text": "Time"
         }
        },
        "yaxis": {
         "title": {
          "font": {
           "color": "#7f7f7f",
           "family": "Courier New, monospace",
           "size": 18
          },
          "text": "Activities"
         }
        }
       }
      },
      "text/html": [
       "<div>                            <div id=\"e7a0207c-a0a4-4533-a1c0-e53c53b4119a\" class=\"plotly-graph-div\" style=\"height:525px; width:100%;\"></div>            <script type=\"text/javascript\">                require([\"plotly\"], function(Plotly) {                    window.PLOTLYENV=window.PLOTLYENV || {};                                    if (document.getElementById(\"e7a0207c-a0a4-4533-a1c0-e53c53b4119a\")) {                    Plotly.newPlot(                        \"e7a0207c-a0a4-4533-a1c0-e53c53b4119a\",                        [{\"connectgaps\":false,\"hoverinfo\":\"y+name\",\"line\":{\"color\":\"rgb(131,118,237)\",\"width\":10},\"mode\":\"lines\",\"name\":\"While activity\",\"x\":[\"1970-01-01T00:00:00\",\"1970-01-01T00:00:00\",\"1970-01-01T02:32:09.133843\",\"1970-01-01T02:32:09.133843\",\"1970-01-01T02:32:09.133843\",\"1970-01-01T02:32:09.133843\",\"1970-01-01T02:32:09.133843\",\"1970-01-01T05:34:41.071318\",\"1970-01-01T05:34:41.071318\",\"1970-01-01T05:34:41.071318\",\"1970-01-01T05:34:41.071318\",\"1970-01-01T05:34:41.071318\",\"1970-01-01T08:37:13.008793\",\"1970-01-01T08:37:13.008793\",\"1970-01-01T08:37:13.008793\",\"1970-01-01T05:34:41.071318\",\"1970-01-01T05:34:41.071318\",\"1970-01-01T08:37:13.008793\",\"1970-01-01T08:37:13.008793\",\"1970-01-01T08:37:13.008793\"],\"y\":[\"While activity\",\"While activity\",\"While activity\",\"While activity\",null,\"While activity\",\"While activity\",\"While activity\",\"While activity\",null,\"While activity\",\"While activity\",\"While activity\",\"While activity\",null,\"While activity\",\"While activity\",\"While activity\",\"While activity\",null],\"type\":\"scatter\"},{\"connectgaps\":false,\"hoverinfo\":\"y+name\",\"line\":{\"color\":\"rgb(149,136,255)\",\"width\":10},\"mode\":\"lines\",\"name\":\"Single run process\",\"x\":[\"1970-01-01T00:00:00\",\"1970-01-01T00:00:00\",\"1970-01-01T00:00:00\",\"1970-01-01T00:00:00\",\"1970-01-01T00:00:00\",\"1970-01-01T00:00:00\",\"1970-01-01T00:00:00\",\"1970-01-01T01:00:00\",\"1970-01-01T01:00:00\",\"1970-01-01T01:00:00\",\"1970-01-01T01:00:00\",\"1970-01-01T01:00:00\",\"1970-01-01T01:32:09.133843\",\"1970-01-01T01:32:09.133843\",\"1970-01-01T01:32:09.133843\",\"1970-01-01T01:32:09.133843\",\"1970-01-01T01:32:09.133843\",\"1970-01-01T02:32:09.133843\",\"1970-01-01T02:32:09.133843\",\"1970-01-01T02:32:09.133843\",\"1970-01-01T02:32:09.133843\",\"1970-01-01T02:32:09.133843\",\"1970-01-01T02:32:09.133843\",\"1970-01-01T02:32:09.133843\",\"1970-01-01T02:32:09.133843\",\"1970-01-01T02:32:09.133843\",\"1970-01-01T02:32:09.133843\",\"1970-01-01T02:32:09.133843\",\"1970-01-01T02:32:09.133843\",\"1970-01-01T02:32:09.133843\",\"1970-01-01T02:32:09.133843\",\"1970-01-01T02:32:09.133843\",\"1970-01-01T03:02:31.937475\",\"1970-01-01T03:02:31.937475\",\"1970-01-01T03:02:31.937475\",\"1970-01-01T03:02:31.937475\",\"1970-01-01T03:02:31.937475\",\"1970-01-01T04:02:31.937475\",\"1970-01-01T04:02:31.937475\",\"1970-01-01T04:02:31.937475\",\"1970-01-01T04:02:31.937475\",\"1970-01-01T04:02:31.937475\",\"1970-01-01T04:34:41.071318\",\"1970-01-01T04:34:41.071318\",\"1970-01-01T04:34:41.071318\",\"1970-01-01T04:34:41.071318\",\"1970-01-01T04:34:41.071318\",\"1970-01-01T05:34:41.071318\",\"1970-01-01T05:34:41.071318\",\"1970-01-01T05:34:41.071318\",\"1970-01-01T05:34:41.071318\",\"1970-01-01T05:34:41.071318\",\"1970-01-01T05:34:41.071318\",\"1970-01-01T05:34:41.071318\",\"1970-01-01T05:34:41.071318\",\"1970-01-01T05:34:41.071318\",\"1970-01-01T05:34:41.071318\",\"1970-01-01T05:34:41.071318\",\"1970-01-01T05:34:41.071318\",\"1970-01-01T05:34:41.071318\",\"1970-01-01T05:34:41.071318\",\"1970-01-01T05:34:41.071318\",\"1970-01-01T06:05:03.874950\",\"1970-01-01T06:05:03.874950\",\"1970-01-01T06:05:03.874950\",\"1970-01-01T06:05:03.874950\",\"1970-01-01T06:05:03.874950\",\"1970-01-01T07:05:03.874950\",\"1970-01-01T07:05:03.874950\",\"1970-01-01T07:05:03.874950\",\"1970-01-01T07:05:03.874950\",\"1970-01-01T07:05:03.874950\",\"1970-01-01T07:37:13.008793\",\"1970-01-01T07:37:13.008793\",\"1970-01-01T07:37:13.008793\",\"1970-01-01T07:37:13.008793\",\"1970-01-01T07:37:13.008793\",\"1970-01-01T08:37:13.008793\",\"1970-01-01T08:37:13.008793\",\"1970-01-01T08:37:13.008793\",\"1970-01-01T07:37:13.008793\",\"1970-01-01T07:37:13.008793\",\"1970-01-01T08:37:13.008793\",\"1970-01-01T08:37:13.008793\",\"1970-01-01T08:37:13.008793\",\"1970-01-01T08:37:13.008793\",\"1970-01-01T08:37:13.008793\",\"1970-01-01T08:37:13.008793\",\"1970-01-01T08:37:13.008793\",\"1970-01-01T08:37:13.008793\"],\"y\":[\"Single run process\",\"Single run process\",\"Single run process\",\"Single run process\",null,\"Single run process\",\"Single run process\",\"Single run process\",\"Single run process\",null,\"Single run process\",\"Single run process\",\"Single run process\",\"Single run process\",null,\"Single run process\",\"Single run process\",\"Single run process\",\"Single run process\",null,\"Single run process\",\"Single run process\",\"Single run process\",\"Single run process\",null,\"Single run process\",\"Single run process\",\"Single run process\",\"Single run process\",null,\"Single run process\",\"Single run process\",\"Single run process\",\"Single run process\",null,\"Single run process\",\"Single run process\",\"Single run process\",\"Single run process\",null,\"Single run process\",\"Single run process\",\"Single run process\",\"Single run process\",null,\"Single run process\",\"Single run process\",\"Single run process\",\"Single run process\",null,\"Single run process\",\"Single run process\",\"Single run process\",\"Single run process\",null,\"Single run process\",\"Single run process\",\"Single run process\",\"Single run process\",null,\"Single run process\",\"Single run process\",\"Single run process\",\"Single run process\",null,\"Single run process\",\"Single run process\",\"Single run process\",\"Single run process\",null,\"Single run process\",\"Single run process\",\"Single run process\",\"Single run process\",null,\"Single run process\",\"Single run process\",\"Single run process\",\"Single run process\",null,\"Single run process\",\"Single run process\",\"Single run process\",\"Single run process\",null,\"Single run process\",\"Single run process\",\"Single run process\",\"Single run process\",null],\"type\":\"scatter\"},{\"connectgaps\":false,\"hoverinfo\":\"y+name\",\"line\":{\"color\":\"rgb(167,154,17)\",\"width\":10},\"mode\":\"lines\",\"name\":\"sailing full\",\"x\":[\"1970-01-01T01:00:00\",\"1970-01-01T01:00:00\",\"1970-01-01T01:32:09.133843\",\"1970-01-01T01:32:09.133843\",\"1970-01-01T01:32:09.133843\",\"1970-01-01T04:02:31.937475\",\"1970-01-01T04:02:31.937475\",\"1970-01-01T04:34:41.071318\",\"1970-01-01T04:34:41.071318\",\"1970-01-01T04:34:41.071318\",\"1970-01-01T07:05:03.874950\",\"1970-01-01T07:05:03.874950\",\"1970-01-01T07:37:13.008793\",\"1970-01-01T07:37:13.008793\",\"1970-01-01T07:37:13.008793\",\"1970-01-01T01:00:00\",\"1970-01-01T01:00:00\",\"1970-01-01T01:32:09.133843\",\"1970-01-01T01:32:09.133843\",\"1970-01-01T01:32:09.133843\",\"1970-01-01T04:02:31.937475\",\"1970-01-01T04:02:31.937475\",\"1970-01-01T04:34:41.071318\",\"1970-01-01T04:34:41.071318\",\"1970-01-01T04:34:41.071318\",\"1970-01-01T07:05:03.874950\",\"1970-01-01T07:05:03.874950\",\"1970-01-01T07:37:13.008793\",\"1970-01-01T07:37:13.008793\",\"1970-01-01T07:37:13.008793\"],\"y\":[\"vessel01\",\"vessel01\",\"vessel01\",\"vessel01\",null,\"vessel01\",\"vessel01\",\"vessel01\",\"vessel01\",null,\"vessel01\",\"vessel01\",\"vessel01\",\"vessel01\",null,\"sailing full\",\"sailing full\",\"sailing full\",\"sailing full\",null,\"sailing full\",\"sailing full\",\"sailing full\",\"sailing full\",null,\"sailing full\",\"sailing full\",\"sailing full\",\"sailing full\",null],\"type\":\"scatter\"},{\"connectgaps\":false,\"hoverinfo\":\"y+name\",\"line\":{\"color\":\"rgb(185,172,35)\",\"width\":10},\"mode\":\"lines\",\"name\":\"sailing empty\",\"x\":[\"1970-01-01T00:00:00\",\"1970-01-01T00:00:00\",\"1970-01-01T00:00:00\",\"1970-01-01T00:00:00\",\"1970-01-01T00:00:00\",\"1970-01-01T02:32:09.133843\",\"1970-01-01T02:32:09.133843\",\"1970-01-01T03:02:31.937475\",\"1970-01-01T03:02:31.937475\",\"1970-01-01T03:02:31.937475\",\"1970-01-01T05:34:41.071318\",\"1970-01-01T05:34:41.071318\",\"1970-01-01T06:05:03.874950\",\"1970-01-01T06:05:03.874950\",\"1970-01-01T06:05:03.874950\",\"1970-01-01T00:00:00\",\"1970-01-01T00:00:00\",\"1970-01-01T00:00:00\",\"1970-01-01T00:00:00\",\"1970-01-01T00:00:00\",\"1970-01-01T02:32:09.133843\",\"1970-01-01T02:32:09.133843\",\"1970-01-01T03:02:31.937475\",\"1970-01-01T03:02:31.937475\",\"1970-01-01T03:02:31.937475\",\"1970-01-01T05:34:41.071318\",\"1970-01-01T05:34:41.071318\",\"1970-01-01T06:05:03.874950\",\"1970-01-01T06:05:03.874950\",\"1970-01-01T06:05:03.874950\"],\"y\":[\"vessel01\",\"vessel01\",\"vessel01\",\"vessel01\",null,\"vessel01\",\"vessel01\",\"vessel01\",\"vessel01\",null,\"vessel01\",\"vessel01\",\"vessel01\",\"vessel01\",null,\"sailing empty\",\"sailing empty\",\"sailing empty\",\"sailing empty\",null,\"sailing empty\",\"sailing empty\",\"sailing empty\",\"sailing empty\",null,\"sailing empty\",\"sailing empty\",\"sailing empty\",\"sailing empty\",null],\"type\":\"scatter\"},{\"connectgaps\":false,\"hoverinfo\":\"y+name\",\"line\":{\"color\":\"rgb(203,190,53)\",\"width\":10},\"mode\":\"lines\",\"name\":\"Basic activity\",\"x\":[\"1970-01-01T02:32:09.133843\",\"1970-01-01T02:32:09.133843\",\"1970-01-01T02:32:09.133843\",\"1970-01-01T02:32:09.133843\",\"1970-01-01T02:32:09.133843\",\"1970-01-01T05:34:41.071318\",\"1970-01-01T05:34:41.071318\",\"1970-01-01T05:34:41.071318\",\"1970-01-01T05:34:41.071318\",\"1970-01-01T05:34:41.071318\",\"1970-01-01T08:37:13.008793\",\"1970-01-01T08:37:13.008793\",\"1970-01-01T08:37:13.008793\",\"1970-01-01T08:37:13.008793\",\"1970-01-01T08:37:13.008793\",\"1970-01-01T02:32:09.133843\",\"1970-01-01T02:32:09.133843\",\"1970-01-01T02:32:09.133843\",\"1970-01-01T02:32:09.133843\",\"1970-01-01T02:32:09.133843\",\"1970-01-01T05:34:41.071318\",\"1970-01-01T05:34:41.071318\",\"1970-01-01T05:34:41.071318\",\"1970-01-01T05:34:41.071318\",\"1970-01-01T05:34:41.071318\",\"1970-01-01T08:37:13.008793\",\"1970-01-01T08:37:13.008793\",\"1970-01-01T08:37:13.008793\",\"1970-01-01T08:37:13.008793\",\"1970-01-01T08:37:13.008793\"],\"y\":[\"vessel01\",\"vessel01\",\"vessel01\",\"vessel01\",null,\"vessel01\",\"vessel01\",\"vessel01\",\"vessel01\",null,\"vessel01\",\"vessel01\",\"vessel01\",\"vessel01\",null,\"Basic activity\",\"Basic activity\",\"Basic activity\",\"Basic activity\",null,\"Basic activity\",\"Basic activity\",\"Basic activity\",\"Basic activity\",null,\"Basic activity\",\"Basic activity\",\"Basic activity\",\"Basic activity\",null],\"type\":\"scatter\"},{\"connectgaps\":false,\"hoverinfo\":\"y+name\",\"line\":{\"color\":\"rgb(221,208,71)\",\"width\":10},\"mode\":\"lines\",\"name\":\"load cargo\",\"x\":[\"1970-01-01T00:00:00\",\"1970-01-01T00:00:00\",\"1970-01-01T01:00:00\",\"1970-01-01T01:00:00\",\"1970-01-01T01:00:00\",\"1970-01-01T03:02:31.937475\",\"1970-01-01T03:02:31.937475\",\"1970-01-01T04:02:31.937475\",\"1970-01-01T04:02:31.937475\",\"1970-01-01T04:02:31.937475\",\"1970-01-01T06:05:03.874950\",\"1970-01-01T06:05:03.874950\",\"1970-01-01T07:05:03.874950\",\"1970-01-01T07:05:03.874950\",\"1970-01-01T07:05:03.874950\",\"1970-01-01T00:00:00\",\"1970-01-01T00:00:00\",\"1970-01-01T01:00:00\",\"1970-01-01T01:00:00\",\"1970-01-01T01:00:00\",\"1970-01-01T03:02:31.937475\",\"1970-01-01T03:02:31.937475\",\"1970-01-01T04:02:31.937475\",\"1970-01-01T04:02:31.937475\",\"1970-01-01T04:02:31.937475\",\"1970-01-01T06:05:03.874950\",\"1970-01-01T06:05:03.874950\",\"1970-01-01T07:05:03.874950\",\"1970-01-01T07:05:03.874950\",\"1970-01-01T07:05:03.874950\",\"1970-01-01T00:00:00\",\"1970-01-01T00:00:00\",\"1970-01-01T01:00:00\",\"1970-01-01T01:00:00\",\"1970-01-01T01:00:00\",\"1970-01-01T03:02:31.937475\",\"1970-01-01T03:02:31.937475\",\"1970-01-01T04:02:31.937475\",\"1970-01-01T04:02:31.937475\",\"1970-01-01T04:02:31.937475\",\"1970-01-01T06:05:03.874950\",\"1970-01-01T06:05:03.874950\",\"1970-01-01T07:05:03.874950\",\"1970-01-01T07:05:03.874950\",\"1970-01-01T07:05:03.874950\"],\"y\":[\"vessel01\",\"vessel01\",\"vessel01\",\"vessel01\",null,\"vessel01\",\"vessel01\",\"vessel01\",\"vessel01\",null,\"vessel01\",\"vessel01\",\"vessel01\",\"vessel01\",null,\"from_site\",\"from_site\",\"from_site\",\"from_site\",null,\"from_site\",\"from_site\",\"from_site\",\"from_site\",null,\"from_site\",\"from_site\",\"from_site\",\"from_site\",null,\"load cargo\",\"load cargo\",\"load cargo\",\"load cargo\",null,\"load cargo\",\"load cargo\",\"load cargo\",\"load cargo\",null,\"load cargo\",\"load cargo\",\"load cargo\",\"load cargo\",null],\"type\":\"scatter\"},{\"connectgaps\":false,\"hoverinfo\":\"y+name\",\"line\":{\"color\":\"rgb(239,226,89)\",\"width\":10},\"mode\":\"lines\",\"name\":\"unload cargo\",\"x\":[\"1970-01-01T01:32:09.133843\",\"1970-01-01T01:32:09.133843\",\"1970-01-01T02:32:09.133843\",\"1970-01-01T02:32:09.133843\",\"1970-01-01T02:32:09.133843\",\"1970-01-01T04:34:41.071318\",\"1970-01-01T04:34:41.071318\",\"1970-01-01T05:34:41.071318\",\"1970-01-01T05:34:41.071318\",\"1970-01-01T05:34:41.071318\",\"1970-01-01T07:37:13.008793\",\"1970-01-01T07:37:13.008793\",\"1970-01-01T08:37:13.008793\",\"1970-01-01T08:37:13.008793\",\"1970-01-01T08:37:13.008793\",\"1970-01-01T01:32:09.133843\",\"1970-01-01T01:32:09.133843\",\"1970-01-01T02:32:09.133843\",\"1970-01-01T02:32:09.133843\",\"1970-01-01T02:32:09.133843\",\"1970-01-01T04:34:41.071318\",\"1970-01-01T04:34:41.071318\",\"1970-01-01T05:34:41.071318\",\"1970-01-01T05:34:41.071318\",\"1970-01-01T05:34:41.071318\",\"1970-01-01T07:37:13.008793\",\"1970-01-01T07:37:13.008793\",\"1970-01-01T08:37:13.008793\",\"1970-01-01T08:37:13.008793\",\"1970-01-01T08:37:13.008793\",\"1970-01-01T01:32:09.133843\",\"1970-01-01T01:32:09.133843\",\"1970-01-01T02:32:09.133843\",\"1970-01-01T02:32:09.133843\",\"1970-01-01T02:32:09.133843\",\"1970-01-01T04:34:41.071318\",\"1970-01-01T04:34:41.071318\",\"1970-01-01T05:34:41.071318\",\"1970-01-01T05:34:41.071318\",\"1970-01-01T05:34:41.071318\",\"1970-01-01T07:37:13.008793\",\"1970-01-01T07:37:13.008793\",\"1970-01-01T08:37:13.008793\",\"1970-01-01T08:37:13.008793\",\"1970-01-01T08:37:13.008793\"],\"y\":[\"vessel01\",\"vessel01\",\"vessel01\",\"vessel01\",null,\"vessel01\",\"vessel01\",\"vessel01\",\"vessel01\",null,\"vessel01\",\"vessel01\",\"vessel01\",\"vessel01\",null,\"to_site\",\"to_site\",\"to_site\",\"to_site\",null,\"to_site\",\"to_site\",\"to_site\",\"to_site\",null,\"to_site\",\"to_site\",\"to_site\",\"to_site\",null,\"unload cargo\",\"unload cargo\",\"unload cargo\",\"unload cargo\",null,\"unload cargo\",\"unload cargo\",\"unload cargo\",\"unload cargo\",null,\"unload cargo\",\"unload cargo\",\"unload cargo\",\"unload cargo\",null],\"type\":\"scatter\"},{\"connectgaps\":false,\"hoverinfo\":\"y+name\",\"line\":{\"color\":\"rgb(1,244,107)\",\"width\":10},\"mode\":\"lines\",\"name\":\"load cargo\",\"x\":[\"1970-01-01T00:00:00\",\"1970-01-01T00:00:00\",\"1970-01-01T01:00:00\",\"1970-01-01T01:00:00\",\"1970-01-01T01:00:00\",\"1970-01-01T03:02:31.937475\",\"1970-01-01T03:02:31.937475\",\"1970-01-01T04:02:31.937475\",\"1970-01-01T04:02:31.937475\",\"1970-01-01T04:02:31.937475\",\"1970-01-01T06:05:03.874950\",\"1970-01-01T06:05:03.874950\",\"1970-01-01T07:05:03.874950\",\"1970-01-01T07:05:03.874950\",\"1970-01-01T07:05:03.874950\",\"1970-01-01T00:00:00\",\"1970-01-01T00:00:00\",\"1970-01-01T01:00:00\",\"1970-01-01T01:00:00\",\"1970-01-01T01:00:00\",\"1970-01-01T03:02:31.937475\",\"1970-01-01T03:02:31.937475\",\"1970-01-01T04:02:31.937475\",\"1970-01-01T04:02:31.937475\",\"1970-01-01T04:02:31.937475\",\"1970-01-01T06:05:03.874950\",\"1970-01-01T06:05:03.874950\",\"1970-01-01T07:05:03.874950\",\"1970-01-01T07:05:03.874950\",\"1970-01-01T07:05:03.874950\",\"1970-01-01T00:00:00\",\"1970-01-01T00:00:00\",\"1970-01-01T01:00:00\",\"1970-01-01T01:00:00\",\"1970-01-01T01:00:00\",\"1970-01-01T03:02:31.937475\",\"1970-01-01T03:02:31.937475\",\"1970-01-01T04:02:31.937475\",\"1970-01-01T04:02:31.937475\",\"1970-01-01T04:02:31.937475\",\"1970-01-01T06:05:03.874950\",\"1970-01-01T06:05:03.874950\",\"1970-01-01T07:05:03.874950\",\"1970-01-01T07:05:03.874950\",\"1970-01-01T07:05:03.874950\"],\"y\":[\"vessel01\",\"vessel01\",\"vessel01\",\"vessel01\",null,\"vessel01\",\"vessel01\",\"vessel01\",\"vessel01\",null,\"vessel01\",\"vessel01\",\"vessel01\",\"vessel01\",null,\"from_site\",\"from_site\",\"from_site\",\"from_site\",null,\"from_site\",\"from_site\",\"from_site\",\"from_site\",null,\"from_site\",\"from_site\",\"from_site\",\"from_site\",null,\"load cargo\",\"load cargo\",\"load cargo\",\"load cargo\",null,\"load cargo\",\"load cargo\",\"load cargo\",\"load cargo\",null,\"load cargo\",\"load cargo\",\"load cargo\",\"load cargo\",null],\"type\":\"scatter\"},{\"connectgaps\":false,\"hoverinfo\":\"y+name\",\"line\":{\"color\":\"rgb(19,6,125)\",\"width\":10},\"mode\":\"lines\",\"name\":\"unload cargo\",\"x\":[\"1970-01-01T01:32:09.133843\",\"1970-01-01T01:32:09.133843\",\"1970-01-01T02:32:09.133843\",\"1970-01-01T02:32:09.133843\",\"1970-01-01T02:32:09.133843\",\"1970-01-01T04:34:41.071318\",\"1970-01-01T04:34:41.071318\",\"1970-01-01T05:34:41.071318\",\"1970-01-01T05:34:41.071318\",\"1970-01-01T05:34:41.071318\",\"1970-01-01T07:37:13.008793\",\"1970-01-01T07:37:13.008793\",\"1970-01-01T08:37:13.008793\",\"1970-01-01T08:37:13.008793\",\"1970-01-01T08:37:13.008793\",\"1970-01-01T01:32:09.133843\",\"1970-01-01T01:32:09.133843\",\"1970-01-01T02:32:09.133843\",\"1970-01-01T02:32:09.133843\",\"1970-01-01T02:32:09.133843\",\"1970-01-01T04:34:41.071318\",\"1970-01-01T04:34:41.071318\",\"1970-01-01T05:34:41.071318\",\"1970-01-01T05:34:41.071318\",\"1970-01-01T05:34:41.071318\",\"1970-01-01T07:37:13.008793\",\"1970-01-01T07:37:13.008793\",\"1970-01-01T08:37:13.008793\",\"1970-01-01T08:37:13.008793\",\"1970-01-01T08:37:13.008793\",\"1970-01-01T01:32:09.133843\",\"1970-01-01T01:32:09.133843\",\"1970-01-01T02:32:09.133843\",\"1970-01-01T02:32:09.133843\",\"1970-01-01T02:32:09.133843\",\"1970-01-01T04:34:41.071318\",\"1970-01-01T04:34:41.071318\",\"1970-01-01T05:34:41.071318\",\"1970-01-01T05:34:41.071318\",\"1970-01-01T05:34:41.071318\",\"1970-01-01T07:37:13.008793\",\"1970-01-01T07:37:13.008793\",\"1970-01-01T08:37:13.008793\",\"1970-01-01T08:37:13.008793\",\"1970-01-01T08:37:13.008793\"],\"y\":[\"vessel01\",\"vessel01\",\"vessel01\",\"vessel01\",null,\"vessel01\",\"vessel01\",\"vessel01\",\"vessel01\",null,\"vessel01\",\"vessel01\",\"vessel01\",\"vessel01\",null,\"to_site\",\"to_site\",\"to_site\",\"to_site\",null,\"to_site\",\"to_site\",\"to_site\",\"to_site\",null,\"to_site\",\"to_site\",\"to_site\",\"to_site\",null,\"unload cargo\",\"unload cargo\",\"unload cargo\",\"unload cargo\",null,\"unload cargo\",\"unload cargo\",\"unload cargo\",\"unload cargo\",null,\"unload cargo\",\"unload cargo\",\"unload cargo\",\"unload cargo\",null],\"type\":\"scatter\"},{\"connectgaps\":false,\"hoverinfo\":\"y+name\",\"line\":{\"color\":\"rgb(37,24,143)\",\"width\":10},\"mode\":\"lines\",\"name\":\"sailing empty\",\"x\":[\"1970-01-01T00:00:00\",\"1970-01-01T00:00:00\",\"1970-01-01T00:00:00\",\"1970-01-01T00:00:00\",\"1970-01-01T00:00:00\",\"1970-01-01T02:32:09.133843\",\"1970-01-01T02:32:09.133843\",\"1970-01-01T03:02:31.937475\",\"1970-01-01T03:02:31.937475\",\"1970-01-01T03:02:31.937475\",\"1970-01-01T05:34:41.071318\",\"1970-01-01T05:34:41.071318\",\"1970-01-01T06:05:03.874950\",\"1970-01-01T06:05:03.874950\",\"1970-01-01T06:05:03.874950\",\"1970-01-01T00:00:00\",\"1970-01-01T00:00:00\",\"1970-01-01T00:00:00\",\"1970-01-01T00:00:00\",\"1970-01-01T00:00:00\",\"1970-01-01T02:32:09.133843\",\"1970-01-01T02:32:09.133843\",\"1970-01-01T03:02:31.937475\",\"1970-01-01T03:02:31.937475\",\"1970-01-01T03:02:31.937475\",\"1970-01-01T05:34:41.071318\",\"1970-01-01T05:34:41.071318\",\"1970-01-01T06:05:03.874950\",\"1970-01-01T06:05:03.874950\",\"1970-01-01T06:05:03.874950\"],\"y\":[\"vessel01\",\"vessel01\",\"vessel01\",\"vessel01\",null,\"vessel01\",\"vessel01\",\"vessel01\",\"vessel01\",null,\"vessel01\",\"vessel01\",\"vessel01\",\"vessel01\",null,\"sailing empty\",\"sailing empty\",\"sailing empty\",\"sailing empty\",null,\"sailing empty\",\"sailing empty\",\"sailing empty\",\"sailing empty\",null,\"sailing empty\",\"sailing empty\",\"sailing empty\",\"sailing empty\",null],\"type\":\"scatter\"},{\"connectgaps\":false,\"hoverinfo\":\"y+name\",\"line\":{\"color\":\"rgb(55,42,161)\",\"width\":10},\"mode\":\"lines\",\"name\":\"load cargo\",\"x\":[\"1970-01-01T00:00:00\",\"1970-01-01T00:00:00\",\"1970-01-01T01:00:00\",\"1970-01-01T01:00:00\",\"1970-01-01T01:00:00\",\"1970-01-01T03:02:31.937475\",\"1970-01-01T03:02:31.937475\",\"1970-01-01T04:02:31.937475\",\"1970-01-01T04:02:31.937475\",\"1970-01-01T04:02:31.937475\",\"1970-01-01T06:05:03.874950\",\"1970-01-01T06:05:03.874950\",\"1970-01-01T07:05:03.874950\",\"1970-01-01T07:05:03.874950\",\"1970-01-01T07:05:03.874950\",\"1970-01-01T00:00:00\",\"1970-01-01T00:00:00\",\"1970-01-01T01:00:00\",\"1970-01-01T01:00:00\",\"1970-01-01T01:00:00\",\"1970-01-01T03:02:31.937475\",\"1970-01-01T03:02:31.937475\",\"1970-01-01T04:02:31.937475\",\"1970-01-01T04:02:31.937475\",\"1970-01-01T04:02:31.937475\",\"1970-01-01T06:05:03.874950\",\"1970-01-01T06:05:03.874950\",\"1970-01-01T07:05:03.874950\",\"1970-01-01T07:05:03.874950\",\"1970-01-01T07:05:03.874950\",\"1970-01-01T00:00:00\",\"1970-01-01T00:00:00\",\"1970-01-01T01:00:00\",\"1970-01-01T01:00:00\",\"1970-01-01T01:00:00\",\"1970-01-01T03:02:31.937475\",\"1970-01-01T03:02:31.937475\",\"1970-01-01T04:02:31.937475\",\"1970-01-01T04:02:31.937475\",\"1970-01-01T04:02:31.937475\",\"1970-01-01T06:05:03.874950\",\"1970-01-01T06:05:03.874950\",\"1970-01-01T07:05:03.874950\",\"1970-01-01T07:05:03.874950\",\"1970-01-01T07:05:03.874950\"],\"y\":[\"vessel01\",\"vessel01\",\"vessel01\",\"vessel01\",null,\"vessel01\",\"vessel01\",\"vessel01\",\"vessel01\",null,\"vessel01\",\"vessel01\",\"vessel01\",\"vessel01\",null,\"from_site\",\"from_site\",\"from_site\",\"from_site\",null,\"from_site\",\"from_site\",\"from_site\",\"from_site\",null,\"from_site\",\"from_site\",\"from_site\",\"from_site\",null,\"load cargo\",\"load cargo\",\"load cargo\",\"load cargo\",null,\"load cargo\",\"load cargo\",\"load cargo\",\"load cargo\",null,\"load cargo\",\"load cargo\",\"load cargo\",\"load cargo\",null],\"type\":\"scatter\"},{\"connectgaps\":false,\"hoverinfo\":\"y+name\",\"line\":{\"color\":\"rgb(73,60,179)\",\"width\":10},\"mode\":\"lines\",\"name\":\"sailing full\",\"x\":[\"1970-01-01T01:00:00\",\"1970-01-01T01:00:00\",\"1970-01-01T01:32:09.133843\",\"1970-01-01T01:32:09.133843\",\"1970-01-01T01:32:09.133843\",\"1970-01-01T04:02:31.937475\",\"1970-01-01T04:02:31.937475\",\"1970-01-01T04:34:41.071318\",\"1970-01-01T04:34:41.071318\",\"1970-01-01T04:34:41.071318\",\"1970-01-01T07:05:03.874950\",\"1970-01-01T07:05:03.874950\",\"1970-01-01T07:37:13.008793\",\"1970-01-01T07:37:13.008793\",\"1970-01-01T07:37:13.008793\",\"1970-01-01T01:00:00\",\"1970-01-01T01:00:00\",\"1970-01-01T01:32:09.133843\",\"1970-01-01T01:32:09.133843\",\"1970-01-01T01:32:09.133843\",\"1970-01-01T04:02:31.937475\",\"1970-01-01T04:02:31.937475\",\"1970-01-01T04:34:41.071318\",\"1970-01-01T04:34:41.071318\",\"1970-01-01T04:34:41.071318\",\"1970-01-01T07:05:03.874950\",\"1970-01-01T07:05:03.874950\",\"1970-01-01T07:37:13.008793\",\"1970-01-01T07:37:13.008793\",\"1970-01-01T07:37:13.008793\"],\"y\":[\"vessel01\",\"vessel01\",\"vessel01\",\"vessel01\",null,\"vessel01\",\"vessel01\",\"vessel01\",\"vessel01\",null,\"vessel01\",\"vessel01\",\"vessel01\",\"vessel01\",null,\"sailing full\",\"sailing full\",\"sailing full\",\"sailing full\",null,\"sailing full\",\"sailing full\",\"sailing full\",\"sailing full\",null,\"sailing full\",\"sailing full\",\"sailing full\",\"sailing full\",null],\"type\":\"scatter\"},{\"connectgaps\":false,\"hoverinfo\":\"y+name\",\"line\":{\"color\":\"rgb(91,78,197)\",\"width\":10},\"mode\":\"lines\",\"name\":\"unload cargo\",\"x\":[\"1970-01-01T01:32:09.133843\",\"1970-01-01T01:32:09.133843\",\"1970-01-01T02:32:09.133843\",\"1970-01-01T02:32:09.133843\",\"1970-01-01T02:32:09.133843\",\"1970-01-01T04:34:41.071318\",\"1970-01-01T04:34:41.071318\",\"1970-01-01T05:34:41.071318\",\"1970-01-01T05:34:41.071318\",\"1970-01-01T05:34:41.071318\",\"1970-01-01T07:37:13.008793\",\"1970-01-01T07:37:13.008793\",\"1970-01-01T08:37:13.008793\",\"1970-01-01T08:37:13.008793\",\"1970-01-01T08:37:13.008793\",\"1970-01-01T01:32:09.133843\",\"1970-01-01T01:32:09.133843\",\"1970-01-01T02:32:09.133843\",\"1970-01-01T02:32:09.133843\",\"1970-01-01T02:32:09.133843\",\"1970-01-01T04:34:41.071318\",\"1970-01-01T04:34:41.071318\",\"1970-01-01T05:34:41.071318\",\"1970-01-01T05:34:41.071318\",\"1970-01-01T05:34:41.071318\",\"1970-01-01T07:37:13.008793\",\"1970-01-01T07:37:13.008793\",\"1970-01-01T08:37:13.008793\",\"1970-01-01T08:37:13.008793\",\"1970-01-01T08:37:13.008793\",\"1970-01-01T01:32:09.133843\",\"1970-01-01T01:32:09.133843\",\"1970-01-01T02:32:09.133843\",\"1970-01-01T02:32:09.133843\",\"1970-01-01T02:32:09.133843\",\"1970-01-01T04:34:41.071318\",\"1970-01-01T04:34:41.071318\",\"1970-01-01T05:34:41.071318\",\"1970-01-01T05:34:41.071318\",\"1970-01-01T05:34:41.071318\",\"1970-01-01T07:37:13.008793\",\"1970-01-01T07:37:13.008793\",\"1970-01-01T08:37:13.008793\",\"1970-01-01T08:37:13.008793\",\"1970-01-01T08:37:13.008793\"],\"y\":[\"vessel01\",\"vessel01\",\"vessel01\",\"vessel01\",null,\"vessel01\",\"vessel01\",\"vessel01\",\"vessel01\",null,\"vessel01\",\"vessel01\",\"vessel01\",\"vessel01\",null,\"to_site\",\"to_site\",\"to_site\",\"to_site\",null,\"to_site\",\"to_site\",\"to_site\",\"to_site\",null,\"to_site\",\"to_site\",\"to_site\",\"to_site\",null,\"unload cargo\",\"unload cargo\",\"unload cargo\",\"unload cargo\",null,\"unload cargo\",\"unload cargo\",\"unload cargo\",\"unload cargo\",null,\"unload cargo\",\"unload cargo\",\"unload cargo\",\"unload cargo\",null],\"type\":\"scatter\"},{\"connectgaps\":false,\"hoverinfo\":\"y+name\",\"line\":{\"color\":\"rgb(109,96,215)\",\"width\":10},\"mode\":\"lines\",\"name\":\"Basic activity\",\"x\":[\"1970-01-01T02:32:09.133843\",\"1970-01-01T02:32:09.133843\",\"1970-01-01T02:32:09.133843\",\"1970-01-01T02:32:09.133843\",\"1970-01-01T02:32:09.133843\",\"1970-01-01T05:34:41.071318\",\"1970-01-01T05:34:41.071318\",\"1970-01-01T05:34:41.071318\",\"1970-01-01T05:34:41.071318\",\"1970-01-01T05:34:41.071318\",\"1970-01-01T08:37:13.008793\",\"1970-01-01T08:37:13.008793\",\"1970-01-01T08:37:13.008793\",\"1970-01-01T08:37:13.008793\",\"1970-01-01T08:37:13.008793\",\"1970-01-01T02:32:09.133843\",\"1970-01-01T02:32:09.133843\",\"1970-01-01T02:32:09.133843\",\"1970-01-01T02:32:09.133843\",\"1970-01-01T02:32:09.133843\",\"1970-01-01T05:34:41.071318\",\"1970-01-01T05:34:41.071318\",\"1970-01-01T05:34:41.071318\",\"1970-01-01T05:34:41.071318\",\"1970-01-01T05:34:41.071318\",\"1970-01-01T08:37:13.008793\",\"1970-01-01T08:37:13.008793\",\"1970-01-01T08:37:13.008793\",\"1970-01-01T08:37:13.008793\",\"1970-01-01T08:37:13.008793\"],\"y\":[\"vessel01\",\"vessel01\",\"vessel01\",\"vessel01\",null,\"vessel01\",\"vessel01\",\"vessel01\",\"vessel01\",null,\"vessel01\",\"vessel01\",\"vessel01\",\"vessel01\",null,\"Basic activity\",\"Basic activity\",\"Basic activity\",\"Basic activity\",null,\"Basic activity\",\"Basic activity\",\"Basic activity\",\"Basic activity\",null,\"Basic activity\",\"Basic activity\",\"Basic activity\",\"Basic activity\",null],\"type\":\"scatter\"}],                        {\"hovermode\":\"closest\",\"legend\":{\"orientation\":\"h\",\"x\":0,\"y\":-0.2},\"template\":{\"data\":{\"barpolar\":[{\"marker\":{\"line\":{\"color\":\"#E5ECF6\",\"width\":0.5},\"pattern\":{\"fillmode\":\"overlay\",\"size\":10,\"solidity\":0.2}},\"type\":\"barpolar\"}],\"bar\":[{\"error_x\":{\"color\":\"#2a3f5f\"},\"error_y\":{\"color\":\"#2a3f5f\"},\"marker\":{\"line\":{\"color\":\"#E5ECF6\",\"width\":0.5},\"pattern\":{\"fillmode\":\"overlay\",\"size\":10,\"solidity\":0.2}},\"type\":\"bar\"}],\"carpet\":[{\"aaxis\":{\"endlinecolor\":\"#2a3f5f\",\"gridcolor\":\"white\",\"linecolor\":\"white\",\"minorgridcolor\":\"white\",\"startlinecolor\":\"#2a3f5f\"},\"baxis\":{\"endlinecolor\":\"#2a3f5f\",\"gridcolor\":\"white\",\"linecolor\":\"white\",\"minorgridcolor\":\"white\",\"startlinecolor\":\"#2a3f5f\"},\"type\":\"carpet\"}],\"choropleth\":[{\"colorbar\":{\"outlinewidth\":0,\"ticks\":\"\"},\"type\":\"choropleth\"}],\"contourcarpet\":[{\"colorbar\":{\"outlinewidth\":0,\"ticks\":\"\"},\"type\":\"contourcarpet\"}],\"contour\":[{\"colorbar\":{\"outlinewidth\":0,\"ticks\":\"\"},\"colorscale\":[[0.0,\"#0d0887\"],[0.1111111111111111,\"#46039f\"],[0.2222222222222222,\"#7201a8\"],[0.3333333333333333,\"#9c179e\"],[0.4444444444444444,\"#bd3786\"],[0.5555555555555556,\"#d8576b\"],[0.6666666666666666,\"#ed7953\"],[0.7777777777777778,\"#fb9f3a\"],[0.8888888888888888,\"#fdca26\"],[1.0,\"#f0f921\"]],\"type\":\"contour\"}],\"heatmapgl\":[{\"colorbar\":{\"outlinewidth\":0,\"ticks\":\"\"},\"colorscale\":[[0.0,\"#0d0887\"],[0.1111111111111111,\"#46039f\"],[0.2222222222222222,\"#7201a8\"],[0.3333333333333333,\"#9c179e\"],[0.4444444444444444,\"#bd3786\"],[0.5555555555555556,\"#d8576b\"],[0.6666666666666666,\"#ed7953\"],[0.7777777777777778,\"#fb9f3a\"],[0.8888888888888888,\"#fdca26\"],[1.0,\"#f0f921\"]],\"type\":\"heatmapgl\"}],\"heatmap\":[{\"colorbar\":{\"outlinewidth\":0,\"ticks\":\"\"},\"colorscale\":[[0.0,\"#0d0887\"],[0.1111111111111111,\"#46039f\"],[0.2222222222222222,\"#7201a8\"],[0.3333333333333333,\"#9c179e\"],[0.4444444444444444,\"#bd3786\"],[0.5555555555555556,\"#d8576b\"],[0.6666666666666666,\"#ed7953\"],[0.7777777777777778,\"#fb9f3a\"],[0.8888888888888888,\"#fdca26\"],[1.0,\"#f0f921\"]],\"type\":\"heatmap\"}],\"histogram2dcontour\":[{\"colorbar\":{\"outlinewidth\":0,\"ticks\":\"\"},\"colorscale\":[[0.0,\"#0d0887\"],[0.1111111111111111,\"#46039f\"],[0.2222222222222222,\"#7201a8\"],[0.3333333333333333,\"#9c179e\"],[0.4444444444444444,\"#bd3786\"],[0.5555555555555556,\"#d8576b\"],[0.6666666666666666,\"#ed7953\"],[0.7777777777777778,\"#fb9f3a\"],[0.8888888888888888,\"#fdca26\"],[1.0,\"#f0f921\"]],\"type\":\"histogram2dcontour\"}],\"histogram2d\":[{\"colorbar\":{\"outlinewidth\":0,\"ticks\":\"\"},\"colorscale\":[[0.0,\"#0d0887\"],[0.1111111111111111,\"#46039f\"],[0.2222222222222222,\"#7201a8\"],[0.3333333333333333,\"#9c179e\"],[0.4444444444444444,\"#bd3786\"],[0.5555555555555556,\"#d8576b\"],[0.6666666666666666,\"#ed7953\"],[0.7777777777777778,\"#fb9f3a\"],[0.8888888888888888,\"#fdca26\"],[1.0,\"#f0f921\"]],\"type\":\"histogram2d\"}],\"histogram\":[{\"marker\":{\"pattern\":{\"fillmode\":\"overlay\",\"size\":10,\"solidity\":0.2}},\"type\":\"histogram\"}],\"mesh3d\":[{\"colorbar\":{\"outlinewidth\":0,\"ticks\":\"\"},\"type\":\"mesh3d\"}],\"parcoords\":[{\"line\":{\"colorbar\":{\"outlinewidth\":0,\"ticks\":\"\"}},\"type\":\"parcoords\"}],\"pie\":[{\"automargin\":true,\"type\":\"pie\"}],\"scatter3d\":[{\"line\":{\"colorbar\":{\"outlinewidth\":0,\"ticks\":\"\"}},\"marker\":{\"colorbar\":{\"outlinewidth\":0,\"ticks\":\"\"}},\"type\":\"scatter3d\"}],\"scattercarpet\":[{\"marker\":{\"colorbar\":{\"outlinewidth\":0,\"ticks\":\"\"}},\"type\":\"scattercarpet\"}],\"scattergeo\":[{\"marker\":{\"colorbar\":{\"outlinewidth\":0,\"ticks\":\"\"}},\"type\":\"scattergeo\"}],\"scattergl\":[{\"marker\":{\"colorbar\":{\"outlinewidth\":0,\"ticks\":\"\"}},\"type\":\"scattergl\"}],\"scattermapbox\":[{\"marker\":{\"colorbar\":{\"outlinewidth\":0,\"ticks\":\"\"}},\"type\":\"scattermapbox\"}],\"scatterpolargl\":[{\"marker\":{\"colorbar\":{\"outlinewidth\":0,\"ticks\":\"\"}},\"type\":\"scatterpolargl\"}],\"scatterpolar\":[{\"marker\":{\"colorbar\":{\"outlinewidth\":0,\"ticks\":\"\"}},\"type\":\"scatterpolar\"}],\"scatter\":[{\"marker\":{\"colorbar\":{\"outlinewidth\":0,\"ticks\":\"\"}},\"type\":\"scatter\"}],\"scatterternary\":[{\"marker\":{\"colorbar\":{\"outlinewidth\":0,\"ticks\":\"\"}},\"type\":\"scatterternary\"}],\"surface\":[{\"colorbar\":{\"outlinewidth\":0,\"ticks\":\"\"},\"colorscale\":[[0.0,\"#0d0887\"],[0.1111111111111111,\"#46039f\"],[0.2222222222222222,\"#7201a8\"],[0.3333333333333333,\"#9c179e\"],[0.4444444444444444,\"#bd3786\"],[0.5555555555555556,\"#d8576b\"],[0.6666666666666666,\"#ed7953\"],[0.7777777777777778,\"#fb9f3a\"],[0.8888888888888888,\"#fdca26\"],[1.0,\"#f0f921\"]],\"type\":\"surface\"}],\"table\":[{\"cells\":{\"fill\":{\"color\":\"#EBF0F8\"},\"line\":{\"color\":\"white\"}},\"header\":{\"fill\":{\"color\":\"#C8D4E3\"},\"line\":{\"color\":\"white\"}},\"type\":\"table\"}]},\"layout\":{\"annotationdefaults\":{\"arrowcolor\":\"#2a3f5f\",\"arrowhead\":0,\"arrowwidth\":1},\"autotypenumbers\":\"strict\",\"coloraxis\":{\"colorbar\":{\"outlinewidth\":0,\"ticks\":\"\"}},\"colorscale\":{\"diverging\":[[0,\"#8e0152\"],[0.1,\"#c51b7d\"],[0.2,\"#de77ae\"],[0.3,\"#f1b6da\"],[0.4,\"#fde0ef\"],[0.5,\"#f7f7f7\"],[0.6,\"#e6f5d0\"],[0.7,\"#b8e186\"],[0.8,\"#7fbc41\"],[0.9,\"#4d9221\"],[1,\"#276419\"]],\"sequential\":[[0.0,\"#0d0887\"],[0.1111111111111111,\"#46039f\"],[0.2222222222222222,\"#7201a8\"],[0.3333333333333333,\"#9c179e\"],[0.4444444444444444,\"#bd3786\"],[0.5555555555555556,\"#d8576b\"],[0.6666666666666666,\"#ed7953\"],[0.7777777777777778,\"#fb9f3a\"],[0.8888888888888888,\"#fdca26\"],[1.0,\"#f0f921\"]],\"sequentialminus\":[[0.0,\"#0d0887\"],[0.1111111111111111,\"#46039f\"],[0.2222222222222222,\"#7201a8\"],[0.3333333333333333,\"#9c179e\"],[0.4444444444444444,\"#bd3786\"],[0.5555555555555556,\"#d8576b\"],[0.6666666666666666,\"#ed7953\"],[0.7777777777777778,\"#fb9f3a\"],[0.8888888888888888,\"#fdca26\"],[1.0,\"#f0f921\"]]},\"colorway\":[\"#636efa\",\"#EF553B\",\"#00cc96\",\"#ab63fa\",\"#FFA15A\",\"#19d3f3\",\"#FF6692\",\"#B6E880\",\"#FF97FF\",\"#FECB52\"],\"font\":{\"color\":\"#2a3f5f\"},\"geo\":{\"bgcolor\":\"white\",\"lakecolor\":\"white\",\"landcolor\":\"#E5ECF6\",\"showlakes\":true,\"showland\":true,\"subunitcolor\":\"white\"},\"hoverlabel\":{\"align\":\"left\"},\"hovermode\":\"closest\",\"mapbox\":{\"style\":\"light\"},\"paper_bgcolor\":\"white\",\"plot_bgcolor\":\"#E5ECF6\",\"polar\":{\"angularaxis\":{\"gridcolor\":\"white\",\"linecolor\":\"white\",\"ticks\":\"\"},\"bgcolor\":\"#E5ECF6\",\"radialaxis\":{\"gridcolor\":\"white\",\"linecolor\":\"white\",\"ticks\":\"\"}},\"scene\":{\"xaxis\":{\"backgroundcolor\":\"#E5ECF6\",\"gridcolor\":\"white\",\"gridwidth\":2,\"linecolor\":\"white\",\"showbackground\":true,\"ticks\":\"\",\"zerolinecolor\":\"white\"},\"yaxis\":{\"backgroundcolor\":\"#E5ECF6\",\"gridcolor\":\"white\",\"gridwidth\":2,\"linecolor\":\"white\",\"showbackground\":true,\"ticks\":\"\",\"zerolinecolor\":\"white\"},\"zaxis\":{\"backgroundcolor\":\"#E5ECF6\",\"gridcolor\":\"white\",\"gridwidth\":2,\"linecolor\":\"white\",\"showbackground\":true,\"ticks\":\"\",\"zerolinecolor\":\"white\"}},\"shapedefaults\":{\"line\":{\"color\":\"#2a3f5f\"}},\"ternary\":{\"aaxis\":{\"gridcolor\":\"white\",\"linecolor\":\"white\",\"ticks\":\"\"},\"baxis\":{\"gridcolor\":\"white\",\"linecolor\":\"white\",\"ticks\":\"\"},\"bgcolor\":\"#E5ECF6\",\"caxis\":{\"gridcolor\":\"white\",\"linecolor\":\"white\",\"ticks\":\"\"}},\"title\":{\"x\":0.05},\"xaxis\":{\"automargin\":true,\"gridcolor\":\"white\",\"linecolor\":\"white\",\"ticks\":\"\",\"title\":{\"standoff\":15},\"zerolinecolor\":\"white\",\"zerolinewidth\":2},\"yaxis\":{\"automargin\":true,\"gridcolor\":\"white\",\"linecolor\":\"white\",\"ticks\":\"\",\"title\":{\"standoff\":15},\"zerolinecolor\":\"white\",\"zerolinewidth\":2}}},\"title\":{\"text\":\"GANTT Chart\"},\"xaxis\":{\"range\":[\"1970-01-01T00:00:00\",\"1970-01-01T08:37:13.008793\"],\"title\":{\"font\":{\"color\":\"#7f7f7f\",\"family\":\"Courier New, monospace\",\"size\":18},\"text\":\"Time\"}},\"yaxis\":{\"title\":{\"font\":{\"color\":\"#7f7f7f\",\"family\":\"Courier New, monospace\",\"size\":18},\"text\":\"Activities\"}}},                        {\"responsive\": true}                    ).then(function(){\n",
       "                            \n",
       "var gd = document.getElementById('e7a0207c-a0a4-4533-a1c0-e53c53b4119a');\n",
       "var x = new MutationObserver(function (mutations, observer) {{\n",
       "        var display = window.getComputedStyle(gd).display;\n",
       "        if (!display || display === 'none') {{\n",
       "            console.log([gd, 'removed!']);\n",
       "            Plotly.purge(gd);\n",
       "            observer.disconnect();\n",
       "        }}\n",
       "}});\n",
       "\n",
       "// Listen for the removal of the full notebook cells\n",
       "var notebookContainer = gd.closest('#notebook-container');\n",
       "if (notebookContainer) {{\n",
       "    x.observe(notebookContainer, {childList: true});\n",
       "}}\n",
       "\n",
       "// Listen for the clearing of the current output cell\n",
       "var outputEl = gd.closest('.output');\n",
       "if (outputEl) {{\n",
       "    x.observe(outputEl, {childList: true});\n",
       "}}\n",
       "\n",
       "                        })                };                });            </script>        </div>"
      ]
     },
     "metadata": {},
     "output_type": "display_data"
    }
   ],
   "source": [
    "objects = [while_activity, sequential_activity, vessel01, from_site, to_site]\n",
    "objects.extend(sub_processes)\n",
    "plot.get_gantt_chart(objects)"
   ]
  },
  {
   "cell_type": "code",
   "execution_count": 21,
   "metadata": {},
   "outputs": [],
   "source": [
    "# # plotting just the vessel activities ()\n",
    "# objects = [vessel01]\n",
    "# objects.extend(sub_processes)\n",
    "# plot.get_gantt_chart(objects)"
   ]
  },
  {
   "cell_type": "markdown",
   "metadata": {},
   "source": [
    "# 6.1 P2V"
   ]
  },
  {
   "cell_type": "code",
   "execution_count": 22,
   "metadata": {},
   "outputs": [],
   "source": [
    "def power2v(vessel, h_min, bounds=(0, 210),P_max = 28064,T = 13.55, T_F = 13.64, BB = 'yes'):\n",
    "    \"\"\"Compute vessel velocity given an edge and power (P_tot_given)\n",
    "    \n",
    "    bounds is the limits where to look for a solution for the velocity [m/s]\n",
    "    returns velocity [m/s]\n",
    "    \"\"\"\n",
    "\n",
    "    def seek_v_given_power(V_0 = V_0, vessel=vessel01, h_min=70,T = T, T_F = T_F):\n",
    "        \"\"\"function to optimize\"\"\"\n",
    "\n",
    "       \n",
    "        P_given = calculate_power(V_0 = V_0, T_F= T_F, T = T, BB = BB, h=h_min)\n",
    "        if isinstance(P_given, complex):\n",
    "            raise ValueError(f\"P tot is complex: {P_given}\")\n",
    "\n",
    "        # compute difference between power setting by captain and power needed for velocity\n",
    "        diff = P_max - P_given\n",
    "        \n",
    "        return diff **2\n",
    "\n",
    "    # fill in some of the parameters that we already know\n",
    "    fun = functools.partial(seek_v_given_power, vessel=vessel, h_min = h_min)\n",
    "    # lookup a minimum\n",
    "    fit = scipy.optimize.minimize_scalar(fun, bounds=bounds, method='bounded')\n",
    "#     print(fun)\n",
    "    # check if we found a minimum\n",
    "    if not fit.success:\n",
    "        raise ValueError(fit)\n",
    "    return fit.x\n"
   ]
  },
  {
   "cell_type": "markdown",
   "metadata": {},
   "source": [
    "# Insert Cell to determine V"
   ]
  },
  {
   "cell_type": "code",
   "execution_count": 23,
   "metadata": {},
   "outputs": [
    {
     "data": {
      "text/plain": [
       "9.643316402743924"
      ]
     },
     "execution_count": 23,
     "metadata": {},
     "output_type": "execute_result"
    }
   ],
   "source": [
    "power2v(vessel=vessel01, h_min=70, bounds=(0,9.9),T = 13.55, T_F = 13.64, P_max = 28064, BB ='yes') # use this cell to determine speed at a certain power\n",
    "# Next adjust compute_ve/vf in upper cells to adjust the power and duration needed for the project"
   ]
  },
  {
   "cell_type": "markdown",
   "metadata": {},
   "source": [
    "# 6.1 Acceleration and Deceleration (given P)"
   ]
  },
  {
   "cell_type": "code",
   "execution_count": 24,
   "metadata": {},
   "outputs": [
    {
     "data": {
      "text/plain": [
       "Text(0, 0.5, 'Power')"
      ]
     },
     "execution_count": 24,
     "metadata": {},
     "output_type": "execute_result"
    },
    {
     "data": {
      "image/png": "[encoded data removed]",
      "text/plain": [
       "<Figure size 432x288 with 1 Axes>"
      ]
     },
     "metadata": {
      "needs_background": "light"
     },
     "output_type": "display_data"
    }
   ],
   "source": [
    "# Before use change Draft values in above function (empty or full)\n",
    "P = np.linspace(2870,28064,64) # Power\n",
    "v = np.zeros(len(P))\n",
    "for i in range(len(P)):\n",
    "    v[i] = power2v(vessel01,h_min=20,bounds=(0,10.2), T=5.9, T_F= 3.29,P_max=P[i])\n",
    "#     print(v[i])\n",
    "plt.plot(v,P)\n",
    "plt.legend(['power2v'])\n",
    "plt.title('Acceleration Curve')\n",
    "plt.xlabel('Velocity')\n",
    "plt.ylabel('Power')"
   ]
  },
  {
   "cell_type": "code",
   "execution_count": 25,
   "metadata": {},
   "outputs": [
    {
     "name": "stdout",
     "output_type": "stream",
     "text": [
      "[ 7.76155466  7.76155305  7.76155305  7.76155305  8.67768261  8.67768276\n",
      "  8.32983842  8.55442816  8.67767977  9.24387711  9.24387731  9.20697443\n",
      "  9.24387705  9.24387705  8.98033264  9.02761186  9.02761078  9.24387972\n",
      "  9.24387885  9.4196731   9.43719721  9.49039479  9.59380865  9.59380628\n",
      "  9.59380628  9.68323393  9.64375692  9.74677447  9.69967705  9.78364468\n",
      "  9.94373768  9.97985533  9.98975466 10.00146453 10.02065447 10.03977815\n",
      " 10.06505413 10.07738939 10.09169737 10.11274096 10.14022012 10.15330031\n",
      " 10.15999409 10.1599936  10.15999325 10.15999648 10.15999632 10.15999622\n",
      " 10.15999619 10.15999337 10.15999353 10.15999377 10.15999408 10.15999457\n",
      " 10.15999542 10.1599965  10.15999445 10.15999394 10.15999436 10.15999534\n",
      " 10.15999428 10.15999453 10.15999628 10.15999486 10.15999573 10.15999524\n",
      " 10.15999475 10.15999431 10.15999446 10.15999456 10.15999465 10.15999474\n",
      " 10.15999482 10.15999491 10.15999499 10.15999507 10.15999515 10.15999524\n",
      " 10.15999531 10.15999538 10.15999545 10.15999552 10.15999559 10.15999565\n",
      " 10.15999571 10.15999578 10.15999584 10.1599959  10.15999595 10.15999601\n",
      " 10.15999607 10.15999612 10.15999617 10.15999622 10.15999627 10.15999632\n",
      " 10.15999637 10.15999642 10.15999647 10.15999651]\n"
     ]
    },
    {
     "data": {
      "text/plain": [
       "Text(0, 0.5, 'Depth [m]')"
      ]
     },
     "execution_count": 25,
     "metadata": {},
     "output_type": "execute_result"
    },
    {
     "data": {
      "image/png": "[encoded data removed]",
      "text/plain": [
       "<Figure size 432x288 with 1 Axes>"
      ]
     },
     "metadata": {
      "needs_background": "light"
     },
     "output_type": "display_data"
    }
   ],
   "source": [
    "P = 28064\n",
    "h = np.linspace(8,70,100)\n",
    "v = np.zeros(len(h))\n",
    "for i in range(len(h)):\n",
    "    v[i] = power2v(vessel=vessel01, h_min=h[i], bounds=(0,10.16),T = 5.9, T_F = 3.29,P_max = 28064, BB='yes')\n",
    "print(v)\n",
    "plt.plot(v,h)\n",
    "plt.xlabel('Velocity [m/s]')\n",
    "plt.ylabel('Depth [m]')"
   ]
  },
  {
   "cell_type": "code",
   "execution_count": 26,
   "metadata": {},
   "outputs": [
    {
     "name": "stdout",
     "output_type": "stream",
     "text": [
      "high\n",
      "10.16\n",
      "Power consumption during acc/dec = 7008.67 kW\n",
      "Power consumption during free sailing = 28064.00 kW\n",
      "Energy consumption during acceleration = 35604.03 kWh\n",
      "Energy consumption during deceleration = 71208.06 kWh\n"
     ]
    },
    {
     "data": {
      "image/png": "[encoded data removed]",
      "text/plain": [
       "<Figure size 432x288 with 1 Axes>"
      ]
     },
     "metadata": {
      "needs_background": "light"
     },
     "output_type": "display_data"
    }
   ],
   "source": [
    "x1 = 0   # startpoint m 77.40396075000001\n",
    "x2 = 147.40396075000001 # endpoint m\n",
    "\n",
    "distance = (x2-x1)    #m\n",
    "\n",
    "def t_acc(s_tot = distance, a_acc = 2, a_dec = 1, s_free = 0):\n",
    "    \n",
    "    if distance < (vessel01.V_max_e(None)/a_dec)**2*0.5*((a_dec**2/a_acc) + a_dec):\n",
    "        t_d = np.sqrt(distance/(0.5 * ((a_dec**2/a_acc) + a_dec)))\n",
    "        s_free = 0\n",
    "        t_a = (a_dec * t_d)/a_acc\n",
    "        va = a_acc * t_a\n",
    "        vd = a_dec * t_d\n",
    "        s_d = 0.5 * a_dec * t_d**2\n",
    "        s_a = 0.5 * a_acc * t_a**2\n",
    "        s_tot = s_a + s_d + s_free\n",
    "        print('low')\n",
    "        V_0 = np.linspace(0.1,va,100)\n",
    "        S_0 = np.linspace(0.1,s_a,100)\n",
    "        S_1 = np.linspace(s_tot,s_a,100)\n",
    "        Power_ea = np.zeros(len(V_0)) # Power empty\n",
    "        Power_ed = np.zeros(len(V_0))\n",
    "        for i in range(len(V_0)):\n",
    "            Power_ea[i]=calculate_power(V_0[i], T = 5.9, T_F = 3.29)\n",
    "            Power_ed[i] = calculate_power(V_0[i], T = 5.9, T_F = 3.29)\n",
    "        plt.plot(S_0,Power_ea) #Power empty acceleration\n",
    "        plt.plot(S_1,Power_ed) # Power empty deceleration\n",
    "        plt.legend(['Accelerate', 'Decelerate'])\n",
    "        plt.xlabel('Distance [m]')\n",
    "        plt.ylabel('Power [kW]')\n",
    "        energy_a = t_a * Power_ea.mean()\n",
    "        energy_d = t_d * Power_ed.mean()\n",
    "        print('Power consumption during acc/dec = {:.2f} kW'.format(Power_ea.mean()))\n",
    "        print('energy consumption during acceleration = {:.2f} kWh'.format(energy_a))\n",
    "        print('energy consumption during deceleration = {:.2f} kWh'.format(energy_d))\n",
    "    elif distance == (vessel01.V_max_e(None)/a_dec)**2*0.5*((a_dec**2/a_acc) + a_dec):\n",
    "        s_free = 0\n",
    "        t_d = np.sqrt((s_tot-s_free)/(0.5 * ((a_dec**2/a_acc) + a_dec)))\n",
    "        t_a = (a_dec * t_d)/a_acc\n",
    "        print('middle')\n",
    "        va = a_acc * t_a\n",
    "        vd = a_dec * t_d\n",
    "        s_a = 0.5 * a_acc * t_a**2\n",
    "        s_d = 0.5 * a_dec * t_d**2\n",
    "        s_tot = s_a + s_d + s_free\n",
    "        V_0 = np.linspace(0.1,va,100)\n",
    "        S_0 = np.linspace(0.1,s_a,100)\n",
    "        S_1 = np.linspace(s_tot,s_a,100)\n",
    "        Power_e = np.zeros(len(V_0)) # Power empty\n",
    "        for i in range(len(V_0)):\n",
    "            Power_e[i]=calculate_power(V_0[i], T = 5.9, T_F = 3.29)\n",
    "        plt.plot(S_0,Power_e)\n",
    "        plt.plot(S_1,Power_e)\n",
    "#         plt.plot(8.64,28064, 'ro')\n",
    "        plt.legend(['Accelerate', 'Decelerate'])\n",
    "        plt.xlabel('Distance [m]')\n",
    "        plt.ylabel('Power [kW]')\n",
    "        energy_a = t_a * Power_e.mean()\n",
    "        energy_d = t_d * Power_e.mean()\n",
    "        print('Power consumption during acc/dec = {:.2f} kW'.format(Power_e.mean()))\n",
    "        print('energy consumption during acceleration = {:.2f} kWh'.format(energy_a))\n",
    "        print('energy consumption during deceleration = {:.2f} kWh'.format(energy_d))\n",
    "    elif distance > (vessel01.V_max_e(None)/a_dec)**2*0.5*((a_dec**2/a_acc) + a_dec):\n",
    "        s_free = s_tot - (vessel01.V_max_e(None)/a_dec)**2*0.5*((a_dec**2/a_acc) + a_dec)\n",
    "        print('high')\n",
    "        t_d = np.sqrt(((vessel01.V_max_e(None)/a_dec)**2*0.5*((a_dec**2/a_acc) + a_dec))/(0.5 * ((a_dec**2/a_acc) + a_dec)))\n",
    "        t_a = (a_dec * t_d)/a_acc\n",
    "        va = a_acc * t_a\n",
    "        vd = a_dec * t_d\n",
    "        s_d = 0.5 * a_dec * t_d**2\n",
    "        s_a = 0.5 * a_acc * t_a**2\n",
    "        s_tot = s_a + s_d + s_free\n",
    "        print(va)\n",
    "        t_free = s_free/va\n",
    "        V_0 = np.linspace(0.1,va,100)\n",
    "        S_1 = np.linspace(0.1,s_a,100)\n",
    "        S_2 = np.linspace(s_a+s_free,s_a,100)\n",
    "        S_3 = np.linspace(s_tot,s_a+s_free,100)\n",
    "        Power_e = np.zeros(len(V_0)) # Power empty\n",
    "        Power_max = np.ones(len(V_0)) * vessel01.P_max\n",
    "        for i in range(len(V_0)):\n",
    "            Power_e[i]=calculate_power(V_0[i], T = 5.9, T_F = 3.29)\n",
    "        plt.plot(S_1,Power_e)\n",
    "        plt.plot(S_2,Power_max)\n",
    "        plt.plot(S_3,Power_e)\n",
    "#         plt.plot(8.64,28064, 'ro')\n",
    "        plt.legend(['Accelerate', 'Free sailing', 'Decelerate'])\n",
    "        plt.xlabel('Distance [m]')\n",
    "        plt.ylabel('Power [kW]')\n",
    "        energy_a = t_a * Power_e.mean()\n",
    "        energy_d = t_d * Power_e.mean()\n",
    "#         energy_free = calculate_power(V_0=v, T = 5.9, T_F = 3.29) * t_free\n",
    "        print('Power consumption during acc/dec = {:.2f} kW'.format(Power_e.mean()))\n",
    "        print('Power consumption during free sailing = {:.2f} kW'.format(Power_max.mean()))\n",
    "        print('Energy consumption during acceleration = {:.2f} kWh'.format(energy_a))\n",
    "        print('Energy consumption during deceleration = {:.2f} kWh'.format(energy_d))\n",
    "#         print('Power consumption during free sailing = {:.2f} kW'.format(calculate_power(V_0=v, T = 5.9, T_F = 3.29)))\n",
    "#         print('energy consumption during free sailing = {:.2f} kWh'.format(energy_free))\n",
    "    return\n",
    "t_acc()\n"
   ]
  },
  {
   "cell_type": "code",
   "execution_count": 27,
   "metadata": {},
   "outputs": [],
   "source": [
    "\n",
    "def cp(V_0=9, h=70,\n",
    "L_wl=159, B=32, T = 13.55, T_e=5.9, T_Fe = 3.29, T_Ff = 13.64, T_F = 13.55,nu=0.000001, C_b=0.85, rho=1025,\n",
    "c_stern = 0, one_k2=2.5, g=9.81, P_inst = 28636, P_max = 28064, V_max_e = 8.925, V_max_f = 8.079, BB = 'yes'):  \n",
    "    #########################################################################################################################\n",
    "    \n",
    "    \n",
    "    \n",
    "    \"\"\"1) Frictional resistance\n",
    "            - 1st resistance component defined by Holtrop and Mennen (1982)\n",
    "            - A modification to the original friction line is applied, based on literature of Zeng (2018), to account for \n",
    "            shallow water \n",
    "            effects \"\"\"\n",
    "    C_M = 1.006 - 0.0056 * C_b ** (-3.56)  # Midship section coefficient: ratio of actual area of immersed portion of the \n",
    "#                                            ships midship section to the porduct of wdht and draft.\n",
    "    C_wp = (1 + 2 * C_b) / 3  # Waterplane coefficient : ratio of the actual area of the waterplane \n",
    "#                               to the product of the length and breadth of ship.\n",
    "    C_p = C_b / C_M  # Prismatic coefficient: ratio of volume of displacement of a ship to that of a prism\n",
    "#                       equal to lentg to tge distance between perpendicualrs of the ship and in cross-section of that of the \n",
    "#immersed midship section.\n",
    "    C_BB = 0.2 #coefficient related to the width of the bulbous bow and the width of the ship.\n",
    "    \n",
    "    \n",
    "    # Block coefficient Cb = ratio underwater volume of ship to volume of recatngle having same overall length, breadth \n",
    "    #and depth.\n",
    "    delta = C_b * L_wl * B * T  # Water displacement\n",
    "\n",
    "    lcb = -13.5 + 19.4 * C_p  # longitudinal center of buoyancy\n",
    "    L_R = L_wl * (1 - C_p + (0.06 * C_p * lcb) / (\n",
    "                4 * C_p - 1))  # parameter reflecting the length of the run\n",
    "\n",
    "    A_T = 0.2 * B * T  # transverse area of the transom\n",
    "    \n",
    "    if BB == \"yes\": #yes if vessel has a bulbous bow\n",
    "        A_BT = C_BB * B * T * C_M # transverse area of the bulb\n",
    "    else:\n",
    "        A_BT = 0\n",
    "   \n",
    "    # Total wet area\n",
    "    S_T = L_wl * (2 * T + B) * np.sqrt(C_M) * (\n",
    "                0.453 + 0.4425 * C_b - 0.2862 * C_M - 0.003467 * (\n",
    "                    B / T) + 0.3696 * C_wp) + 2.38 * (A_BT / C_b)\n",
    "\n",
    "    S_APP = 0.1 * S_T  # Wet area of appendages\n",
    "    S_B = L_wl * B  # Area of flat bottom\n",
    "\n",
    "    D_s = 0.7 * T  # Diameter of the screw\n",
    "\n",
    "\n",
    "    R_e = V_0 * L_wl / nu  # Reynolds number\n",
    "    D = h - T  # distance from bottom ship to the bottom of the fairway\n",
    "    def rf(V_0 = V_0):\n",
    "        \n",
    "        # Friction coefficient in deep water\n",
    "        Cf_0 = 0.075 / ((np.log10(R_e) - 2) ** 2)\n",
    "        \n",
    "        Cf_deep = 0.08169 / ((np.log10(R_e) - 1.717) ** 2)\n",
    "        \n",
    "        # Friction coefficient proposed, taking into account shallow water effects\n",
    "        Cf_proposed = (0.08169 / ((np.log10(R_e) - 1.717) ** 2)) * (\n",
    "                    1 + (0.003998 / (np.log10(R_e) - 4.393)) * (D / L_wl) ** (-1.083))\n",
    "\n",
    "        # 'a' is the coefficient needed to calculate the Katsui friction coefficient\n",
    "        a = 0.042612 * np.log10(R_e) + 0.56725\n",
    "        Cf_katsui = 0.0066577 / ((np.log10(R_e) - 4.3762) ** a)\n",
    "\n",
    "        # The average velocity underneath the ship, taking into account the shallow water effect\n",
    "\n",
    "        if h / T <= 4:\n",
    "            V_B = 0.4277 * V_0 * np.exp((h / T) ** (-0.07625))\n",
    "        else:\n",
    "            V_B = V_0\n",
    "\n",
    "        # cf_proposed cannot be applied directly, since a vessel also has non-horizontal wet surfaces that have to be taken\n",
    "        # into account. Therefore, the following formula for the final friction coefficient 'C_f' is defined:\n",
    "        \n",
    "        if (h-T)/L_wl > 1:\n",
    "            C_f = Cf_0 + (Cf_deep - Cf_katsui) * (S_B/S_T)\n",
    "        else:\n",
    "            C_f = Cf_0 + (Cf_proposed - Cf_katsui) * (S_B / S_T) * (V_B / V_0) ** 2\n",
    "            \n",
    "\n",
    "        # The total frictional resistance R_f [kN]:\n",
    "        R_f = (C_f * 0.5 * rho * (V_0 ** 2) * S_T) / 1000\n",
    "        return R_f\n",
    "\n",
    "    ########################################################################################################################\n",
    "\n",
    "    \"\"\"2) Viscous resistance\n",
    "    - 2nd resistance component defined by Holtrop and Mennen (1982)\n",
    "    - Form factor (1 + k1) has to be multiplied by the frictional resistance R_f, to account for the effect of viscosity\"\"\"\n",
    "    def k1(V_0=V_0):\n",
    "        \n",
    "        # c_14 accounts for the specific shape of the afterbody\n",
    "        c_14 = 1 + 0.0011 * c_stern\n",
    "\n",
    "        # the form factor (1+k1) describes the viscous resistance\n",
    "        one_k1 = 0.93 + 0.487 * c_14 * ((B / L_wl) ** 1.068) * ((T / L_wl) ** 0.461) * (\n",
    "                    (L_wl / L_R) ** 0.122) * (((L_wl ** 3) / delta) ** 0.365) * (\n",
    "                                  (1 - C_p) ** (-0.604))\n",
    "        return one_k1\n",
    "\n",
    "    ########################################################################################################################\n",
    "\n",
    "\n",
    "    \"\"\"3) Appendage resistance\n",
    "    - 3rd resistance component defined by Holtrop and Mennen (1982)\n",
    "    - Appendages (like a rudder, shafts, skeg) result in additional frictional resistance\"\"\"\n",
    "\n",
    "    # Frictional resistance resulting from wetted area of appendages: R_APP [kN]\n",
    "    def rapp(V_0 = V_0):\n",
    "        Cf_0 = 0.075 / ((np.log10(R_e) - 2) ** 2)\n",
    "\n",
    "        # Friction coefficient proposed, taking into account shallow water effects\n",
    "        Cf_proposed = (0.08169 / ((np.log10(R_e) - 1.717) ** 2)) * (\n",
    "                    1 + (0.003998 / (np.log10(R_e) - 4.393)) * (D / L_wl) ** (-1.083))\n",
    "\n",
    "        # 'a' is the coefficient needed to calculate the Katsui friction coefficient\n",
    "        a = 0.042612 * np.log10(R_e) + 0.56725\n",
    "        Cf_katsui = 0.0066577 / ((np.log10(R_e) - 4.3762) ** a)\n",
    "\n",
    "        # The average velocity underneath the ship, taking into account the shallow water effect\n",
    "\n",
    "        if h / T <= 4:\n",
    "            V_B = 0.4277 * V_0 * np.exp((h / T) ** (-0.07625))\n",
    "        else:\n",
    "            V_B = V_0\n",
    "\n",
    "        # cf_proposed cannot be applied directly, since a vessel also has non-horizontal wet surfaces that have to be taken\n",
    "        # into account. Therefore, the following formula for the final friction coefficient 'C_f' is defined:\n",
    "        C_f = Cf_0 + (Cf_proposed - Cf_katsui) * (S_B / S_T) * (V_B / V_0) ** 2\n",
    "        R_APP = (0.5 * rho * (V_0 ** 2) * S_APP * one_k2 * C_f) / 1000\n",
    "        return R_APP\n",
    "    #################################################################################################################\n",
    "\n",
    "\n",
    "    \"\"\"Intermediate calculation: Karpov\n",
    "    - The Karpov method computes a velocity correction that accounts for limited water depth (corrected velocity V2)\n",
    "    - V2 has to be implemented in the wave resistance and the residual resistance terms\"\"\"\n",
    "\n",
    "# The Froude number used in the Karpov method is the depth related froude number F_nh\n",
    "\n",
    "# The different alpha** curves are determined with a sixth power polynomial approximation in Excel\n",
    "# A distinction is made between different ranges of Froude numbers, because this resulted in a better approximation of the curve\n",
    "\n",
    "    F_nh = V_0 / np.sqrt(g * h)\n",
    "\n",
    "    if F_nh <= 0.4:\n",
    "\n",
    "        if 0 <= h / T < 1.75:\n",
    "            alpha_xx = (-4 * 10 ** (\n",
    "                -12)) * F_nh ** 3 - 0.2143 * F_nh ** 2 - 0.0643 * F_nh + 0.9997\n",
    "        if 1.75 <= h / T < 2.25:\n",
    "            alpha_xx = -0.8333 * F_nh ** 3 + 0.25 * F_nh ** 2 - 0.0167 * F_nh + 1\n",
    "        if 2.25 <= h / T < 2.75:\n",
    "            alpha_xx = -1.25 * F_nh ** 4 + 0.5833 * F_nh ** 3 - 0.0375 * F_nh ** 2 - 0.0108 * F_nh + 1\n",
    "        if h / T >= 2.75:\n",
    "            alpha_xx = 1\n",
    "\n",
    "    if F_nh > 0.4:\n",
    "        if 0 <= h / T < 1.75:\n",
    "            alpha_xx = -0.9274 * F_nh ** 6 + 9.5953 * F_nh ** 5 - 37.197 * F_nh ** 4 + 69.666 * F_nh ** 3 - 65.391 * F_nh ** 2 + 28.025 * F_nh - 3.4143\n",
    "        if 1.75 <= h / T < 2.25:\n",
    "            alpha_xx = 2.2152 * F_nh ** 6 - 11.852 * F_nh ** 5 + 21.499 * F_nh ** 4 - 12.174 * F_nh ** 3 - 4.7873 * F_nh ** 2 + 5.8662 * F_nh - 0.2652\n",
    "        if 2.25 <= h / T < 2.75:\n",
    "            alpha_xx = 1.2205 * F_nh ** 6 - 5.4999 * F_nh ** 5 + 5.7966 * F_nh ** 4 + 6.6491 * F_nh ** 3 - 16.123 * F_nh ** 2 + 9.2016 * F_nh - 0.6342\n",
    "        if 2.75 <= h / T < 3.25:\n",
    "            alpha_xx = -0.4085 * F_nh ** 6 + 4.534 * F_nh ** 5 - 18.443 * F_nh ** 4 + 35.744 * F_nh ** 3 - 34.381 * F_nh ** 2 + 15.042 * F_nh - 1.3807\n",
    "        if 3.25 <= h / T < 3.75:\n",
    "            alpha_xx = 0.4078 * F_nh ** 6 - 0.919 * F_nh ** 5 - 3.8292 * F_nh ** 4 + 15.738 * F_nh ** 3 - 19.766 * F_nh ** 2 + 9.7466 * F_nh - 0.6409\n",
    "        if 3.75 <= h / T < 4.5:\n",
    "            alpha_xx = 0.3067 * F_nh ** 6 - 0.3404 * F_nh ** 5 - 5.0511 * F_nh ** 4 + 16.892 * F_nh ** 3 - 20.265 * F_nh ** 2 + 9.9002 * F_nh - 0.6712\n",
    "        if 4.5 <= h / T < 5.5:\n",
    "            alpha_xx = 0.3212 * F_nh ** 6 - 0.3559 * F_nh ** 5 - 5.1056 * 4 + 16.926 * F_nh ** 3 - 20.253 * F_nh ** 2 + 10.013 * F_nh - 0.7196\n",
    "        if 5.5 <= h / T < 6.5:\n",
    "            alpha_xx = 0.9252 * F_nh ** 6 - 4.2574 * F_nh ** 5 + 5.0363 * F_nh ** 4 + 3.3282 * F_nh ** 3 - 10.367 * F_nh ** 2 + 6.3993 * F_nh - 0.2074\n",
    "        if 6.5 <= h / T < 7.5:\n",
    "            alpha_xx = 0.8442 * F_nh ** 6 - 4.0261 * F_nh ** 5 + 5.313 * F_nh ** 4 + 1.6442 * F_nh ** 3 - 8.1848 * F_nh ** 2 + 5.3209 * F_nh - 0.0267\n",
    "        if 7.5 <= h / T < 8.5:\n",
    "            alpha_xx = 0.1211 * F_nh ** 6 + 0.628 * F_nh ** 5 - 6.5106 * F_nh ** 4 + 16.7 * F_nh ** 3 - 18.267 * F_nh ** 2 + 8.7077 * F_nh - 0.4745\n",
    "\n",
    "        if 8.5 <= h / T < 9.5:\n",
    "            if F_nh < 0.6:\n",
    "                alpha_xx = 1\n",
    "            if F_nh >= 0.6:\n",
    "                alpha_xx = -6.4069 * F_nh ** 6 + 47.308 * F_nh ** 5 - 141.93 * F_nh ** 4 + 220.23 * F_nh ** 3 - 185.05 * F_nh ** 2 + 79.25 * F_nh - 12.484\n",
    "        if h / T >= 9.5:\n",
    "            if F_nh < 0.6:\n",
    "                alpha_xx = 1\n",
    "            if F_nh >= 0.6:\n",
    "                alpha_xx = -6.0727 * F_nh ** 6 + 44.97 * F_nh ** 5 - 135.21 * F_nh ** 4 + 210.13 * F_nh ** 3 - 176.72 * F_nh ** 2 + 75.728 * F_nh - 11.893\n",
    "\n",
    "    V_2 = V_0 / alpha_xx\n",
    "\n",
    "    #################################################################################################################\n",
    "\n",
    "\n",
    "    \"\"\"4) Wave resistance\n",
    "    - 4th resistance component defined by Holtrop and Mennen (1982)\n",
    "    - When the speed or the vessel size increases, the wave making resistance increases\n",
    "    - In shallow water, the wave resistance shows an asymptotical behaviour by reaching the critical speed\"\"\"\n",
    "\n",
    "    # parameters\n",
    "    h_B = 0.2 * T_F    #Position of the centre of the transverse area [m]\n",
    "\n",
    "    \n",
    "\n",
    "\n",
    "    \"\"\"Wave resistance\n",
    "    - 4th resistance component defined by Holtrop and Mennen (1982)\n",
    "    - When the speed or the vessel size increases, the wave making resistance increases\n",
    "    - In shallow water, the wave resistance shows an asymptotical behaviour by reaching the critical speed\n",
    "    \"\"\"\n",
    "\n",
    "    assert g >= 0, f'g should be positive: {g}'\n",
    "    assert L_wl >= 0, f'L should be positive: {L_wl}'\n",
    "    \n",
    "    def rw(V_2=V_2):\n",
    "        F_rL = V_2 / np.sqrt(g * L_wl)  # Froude number based on ship's speed to water and its length of waterline\n",
    "\n",
    "        # parameter c_7 is determined by the B/L ratio\n",
    "        if B / L_wl < 0.11:\n",
    "            c_7 = 0.229577 * (B / L_wl) ** 0.33333\n",
    "        if B / L_wl > 0.25:\n",
    "            c_7 = 0.5 - 0.0625 * (L_wl / B)\n",
    "        else:\n",
    "            c_7 = B / L_wl\n",
    "\n",
    "        # half angle of entrance in degrees\n",
    "        i_E = 1 + 89 * np.exp(-((L_wl / B) ** 0.80856) * ((1 - C_wp) ** 0.30484) * (\n",
    "                    (1 - C_p - 0.0225 * lcb) ** 0.6367) * ((L_R / B) ** 0.34574) * (\n",
    "                                               (100 * delta / (L_wl ** 3)) ** 0.16302))\n",
    "\n",
    "        c_1 = 2223105 * (c_7 ** 3.78613) * ((T / B) ** 1.07961) * (90 - i_E) ** (-1.37165)\n",
    "        c_3 = (0.56 * A_BT**1.5)/(B * T *(0.31 * np.sqrt(A_BT)+T_F - h_B))\n",
    "        if BB == 'yes':\n",
    "            c_2 = np.exp(-1.89 * np.sqrt(c_3))\n",
    "        else:\n",
    "            c_2 = 1      # accounts for the effect of the bulbous bow, which is not present at inland ships\n",
    "        c_5 = 1 - (0.8 * A_T) / (\n",
    "                    B * T * C_M)  # influence of the transom stern on the wave resistance\n",
    "\n",
    "        # parameter c_15 depoends on the ratio L^3 / delta\n",
    "        if (L_wl ** 3) / delta < 512:\n",
    "            c_15 = -1.69385\n",
    "        if (L_wl ** 3) / delta > 1727:\n",
    "            c_15 = 0\n",
    "        else:\n",
    "            c_15 = -1.69385 + (L_wl / (delta ** (1 / 3)) - 8) / 2.36\n",
    "\n",
    "        # parameter c_16 depends on C_P\n",
    "        if C_p < 0.8:\n",
    "            c_16 = 8.07981 * C_p - 13.8673 * (C_p ** 2) + 6.984388 * (C_p ** 3)\n",
    "        else:\n",
    "            c_16 = 1.73014 - 0.7067 * C_p\n",
    "\n",
    "        if L_wl / B < 12:\n",
    "            lmbda = 1.446 * C_p - 0.03 * (L_wl / B)\n",
    "        else:\n",
    "            lmbda = 1.446 * C_p - 0.36\n",
    "\n",
    "        m_1 = 0.0140407 * (L_wl / T) - 1.75254 * ((delta) ** (1 / 3) / L_wl) - 4.79323 * (\n",
    "                    B / L_wl) - c_16\n",
    "        m_2 = c_15 * (C_p**2) *np.exp((-0.1)* (F_rL**(-2))) \n",
    "\n",
    "        R_W = c_1 * c_2 * c_5 * delta * rho * g * np.exp(m_1 * (F_rL**(-0.9)) + \n",
    "                   m_2 * np.cos(lmbda * (F_rL ** (-2)))) / 1000 # kN\n",
    "        return R_W\n",
    "\n",
    "   \n",
    "\n",
    "    #################################################################################################################\n",
    "\n",
    "    \"\"\"5) Bulbous Bow Resistance terms\n",
    "    - Extra resistance due to bulbousbow. Not for IWT, Yes for Dredging Vessels\"\"\"\n",
    "    # Only include Rb if bulbous bow is present, so make if statement\n",
    "    # R_B\n",
    "   \n",
    "    def rb(V_2=V_2):\n",
    "    \n",
    "    # Froude number based on immersoin of bulbous bow [-]\n",
    "        F_ni = (V_2/np.sqrt(g*(T_F - h_B - 0.25*np.sqrt(A_BT)+0.15*V_2**2)))\n",
    "\n",
    "        #P_B is coefficient for the emergence of bulbous bow\n",
    "        P_B = (0.56 * np.sqrt(A_BT))/(T_F - 1.5*h_B)\n",
    "\n",
    "        if BB == \"yes\":\n",
    "            R_B = ((0.11 * np.exp(-3* P_B**2) * F_ni**3 * A_BT**1.5 * rho * g)/(1+ F_ni**2)) /1000\n",
    "        else:\n",
    "            R_B = 0\n",
    "        return R_B\n",
    "    #################################################################################################################\n",
    "    \"\"\"6) Residual resistance terms\n",
    "    - Holtrop and Mennen (1982) defined three residual resistance terms:\n",
    "    - 1) Resistance due to the bulbous bow (not incorporated since inland ships in general don't have a bulb)\n",
    "    - 2) Resistance due to immersed transom\n",
    "    - 3) Resistance due to model-ship correlation \"\"\"\n",
    "\n",
    "    # Resistance due to immersed transom: R_TR [kN]\n",
    "    \n",
    "    def rtr(V_2=V_2):\n",
    "        F_nt = V_2 / np.sqrt(\n",
    "            2 * g * A_T / (B + B * C_wp))  # Froude number based on transom immersion\n",
    "\n",
    "        if F_nt < 5:\n",
    "            c_6 = 0.2 * (1- 0.2 * F_nt) # coefficient related to the Froude number and the transom immersion\n",
    "        else:\n",
    "            c_6 = 0\n",
    "\n",
    "\n",
    "        R_TR = (0.5 * rho * (V_2 ** 2) * A_T * c_6) / 1000\n",
    "        return R_TR\n",
    "\n",
    "    # Model-ship correlation resistance: R_A [kN]\n",
    "    def ra(V_2=V_2):\n",
    "        \n",
    "        if T / L_wl < 0.04:\n",
    "            c_4 = T / L_wl\n",
    "        else:\n",
    "            c_4 = 0.04\n",
    "        c_2 = 1\n",
    "\n",
    "        C_A = 0.006 * (L_wl + 100) ** (-0.16) - 0.00205 + 0.003 * np.sqrt(L_wl / 7.5) * (\n",
    "                    C_b ** 4) * c_2 * (0.04 - c_4)\n",
    "\n",
    "        ####### Holtrop and Mennen in the document of Sarris, 2003 #######\n",
    "        R_A = (0.5 * rho * (V_2 ** 2) * S_T * C_A) / 1000  # kW\n",
    "        return R_A\n",
    "    \n",
    "\n",
    "    #################################################################################################################\n",
    "    def rtot(V_0=V_0):\n",
    "        R_tot = rf()*k1() + rapp() + rw() + rb() + rtr() + ra()\n",
    "        return R_tot\n",
    "    \n",
    "    P_prop = rtot() * V_0\n",
    "    P_board = 0.1 * P_inst # 10 percent for dredging vessels\n",
    "    print('my total resistance = {:.2f} kN'.format(rtot(V_0=V_0)))\n",
    "   \n",
    "    if P_prop+P_board > P_max:\n",
    "        P_tot = P_max\n",
    "    else:\n",
    "        P_tot = P_prop + P_board\n",
    "        \n",
    "        \n",
    "#     fric = ((rf() * one_k1) + rapp()) / R_tot\n",
    "#     wave = R_W / R_tot\n",
    "#     press = (R_B + R_TR + R_A)/R_tot\n",
    "    \n",
    "    \n",
    "\n",
    "#     print('my total resistance = {:.2f} kN'.format(R_tot))\n",
    "    speed = np.linspace(0.1,8.925,100)\n",
    "    frictional = np.zeros(len(speed))\n",
    "    viscous = np.zeros(len(speed))\n",
    "    wave = np.zeros(len(speed))\n",
    "    appendage = np.zeros(len(speed))\n",
    "    transom = np.zeros(len(speed))\n",
    "    bow = np.zeros(len(speed))\n",
    "    addition = np.zeros(len(speed))\n",
    "    total = np.zeros(len(speed))\n",
    "    \n",
    "    for i in range(len(speed)):\n",
    "        frictional[i] = rf(V_0 = speed[i])\n",
    "        viscous[i] = k1(V_0 = speed[i])\n",
    "        wave[i] = rw(V_2 = speed[i])\n",
    "        appendage[i] = rapp(V_0 = speed[i])\n",
    "        transom[i] = rtr(V_2 = speed[i])\n",
    "        bow[i] = rb(V_2 = speed[i])\n",
    "        addition[i] = ra(V_2 = speed[i])\n",
    "        total[i] = rf(V_0 = speed[i])*k1(V_0 = speed[i])+rw(V_2 = speed[i])+rapp(V_0 = speed[i])+rtr(V_2 = speed[i])+rb(V_2 = speed[i])+ra(V_2 = speed[i])\n",
    "\n",
    "    \n",
    "    plt.plot(speed*1.94384449,((frictional*viscous)+appendage)/total*100)\n",
    "    plt.plot(speed*1.94384449,wave/total*100)\n",
    "    plt.plot(speed*1.94384449, (transom + bow + addition)/total*100)\n",
    "    plt.legend(['Friction', 'Wave', 'Pressure', 'Total'])\n",
    "    plt.ylabel('Percentages [%]')\n",
    "    plt.xlabel('Velocity [kts]')\n",
    "    return P_tot"
   ]
  },
  {
   "cell_type": "code",
   "execution_count": 28,
   "metadata": {},
   "outputs": [
    {
     "name": "stdout",
     "output_type": "stream",
     "text": [
      "my total resistance = 2499.21 kN\n"
     ]
    },
    {
     "data": {
      "text/plain": [
       "25356.474177725475"
      ]
     },
     "execution_count": 28,
     "metadata": {},
     "output_type": "execute_result"
    },
    {
     "data": {
      "image/png": "[encoded data removed]",
      "text/plain": [
       "<Figure size 432x288 with 1 Axes>"
      ]
     },
     "metadata": {
      "needs_background": "light"
     },
     "output_type": "display_data"
    }
   ],
   "source": [
    "cp()"
   ]
  },
  {
   "cell_type": "code",
   "execution_count": 45,
   "metadata": {},
   "outputs": [
    {
     "name": "stdout",
     "output_type": "stream",
     "text": [
      "0.0\n",
      "1.0\n"
     ]
    }
   ],
   "source": []
  },
  {
   "cell_type": "markdown",
   "metadata": {},
   "source": [
    "### "
   ]
  }
 ],
 "metadata": {
  "kernelspec": {
   "display_name": "Python 3 (ipykernel)",
   "language": "python",
   "name": "python3"
  },
  "language_info": {
   "codemirror_mode": {
    "name": "ipython",
    "version": 3
   },
   "file_extension": ".py",
   "mimetype": "text/x-python",
   "name": "python",
   "nbconvert_exporter": "python",
   "pygments_lexer": "ipython3",
   "version": "3.10.2"
  }
 },
 "nbformat": 4,
 "nbformat_minor": 4
}
