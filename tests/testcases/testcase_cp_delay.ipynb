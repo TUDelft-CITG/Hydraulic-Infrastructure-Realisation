{
 "cells": [
  {
   "cell_type": "markdown",
   "id": "8c81367c",
   "metadata": {},
   "source": [
    "### Test case: Activities with delay\n",
    "\n",
    "Runs a simulation with three vessels: two barges with a delay when sailing empty and one large vessel transporting goods when to_site is full. One of the barges stops earlier.\n",
    "\n",
    "\n",
    "#### Import libraries"
   ]
  },
  {
   "cell_type": "code",
   "execution_count": 1,
   "id": "d0688686",
   "metadata": {},
   "outputs": [],
   "source": [
    "import networkx as nx\n",
    "\n",
    "from openclsim.plot import get_gantt_chart\n",
    "from openclsim.plot.graph_dependencies import DependencyGraph\n",
    "from openclsim.plot.critical_path_log import CpLog\n",
    "\n",
    "from scenario_delay import getActivitiesAndObjects \n"
   ]
  },
  {
   "cell_type": "markdown",
   "id": "b264a68a",
   "metadata": {},
   "source": [
    "#### Run the simulation"
   ]
  },
  {
   "cell_type": "code",
   "execution_count": 2,
   "id": "c6bb3f7e",
   "metadata": {},
   "outputs": [],
   "source": [
    "act, obj = getActivitiesAndObjects()"
   ]
  },
  {
   "cell_type": "markdown",
   "id": "8bca1b31",
   "metadata": {},
   "source": [
    "#### Plot the Gantt chart"
   ]
  },
  {
   "cell_type": "code",
   "execution_count": 3,
   "id": "5c521a63",
   "metadata": {
    "scrolled": false
   },
   "outputs": [
    {
     "data": {
      "text/html": [
       "        <script type=\"text/javascript\">\n",
       "        window.PlotlyConfig = {MathJaxConfig: 'local'};\n",
       "        if (window.MathJax) {MathJax.Hub.Config({SVG: {font: \"STIX-Web\"}});}\n",
       "        if (typeof require !== 'undefined') {\n",
       "        require.undef(\"plotly\");\n",
       "        requirejs.config({\n",
       "            paths: {\n",
       "                'plotly': ['https://cdn.plot.ly/plotly-2.11.1.min']\n",
       "            }\n",
       "        });\n",
       "        require(['plotly'], function(Plotly) {\n",
       "            window._Plotly = Plotly;\n",
       "        });\n",
       "        }\n",
       "        </script>\n",
       "        "
      ]
     },
     "metadata": {},
     "output_type": "display_data"
    },
    {
     "data": {
      "application/vnd.plotly.v1+json": {
       "config": {
        "linkText": "Export to plot.ly",
        "plotlyServerURL": "https://plot.ly",
        "showLink": false
       },
       "data": [
        {
         "connectgaps": false,
         "hoverinfo": "y+name",
         "line": {
          "color": "rgb(205,215,51)",
          "width": 10
         },
         "mode": "lines",
         "name": "7d3270db-0549-420f-9a5a-55ed687dd0cc",
         "type": "scatter",
         "x": [
          "1970-01-01T01:48:20",
          "1970-01-01T01:48:20",
          "1970-01-01T02:30:00",
          "1970-01-01T02:30:00",
          "1970-01-01T02:30:00",
          "1970-01-01T05:25:00",
          "1970-01-01T05:25:00",
          "1970-01-01T06:06:40",
          "1970-01-01T06:06:40",
          "1970-01-01T06:06:40",
          "1970-01-01T01:48:20",
          "1970-01-01T01:48:20",
          "1970-01-01T02:30:00",
          "1970-01-01T02:30:00",
          "1970-01-01T02:30:00",
          "1970-01-01T05:25:00",
          "1970-01-01T05:25:00",
          "1970-01-01T06:06:40",
          "1970-01-01T06:06:40",
          "1970-01-01T06:06:40"
         ],
         "y": [
          "barge1",
          "barge1",
          "barge1",
          "barge1",
          null,
          "barge1",
          "barge1",
          "barge1",
          "barge1",
          null,
          "from_site",
          "from_site",
          "from_site",
          "from_site",
          null,
          "from_site",
          "from_site",
          "from_site",
          "from_site",
          null
         ]
        },
        {
         "connectgaps": false,
         "hoverinfo": "y+name",
         "line": {
          "color": "rgb(217,227,63)",
          "width": 10
         },
         "mode": "lines",
         "name": "3f0bbe9a-cef5-4fa6-8074-202713e78a6b",
         "type": "scatter",
         "x": [
          "1970-01-01T00:00:00",
          "1970-01-01T00:00:00",
          "1970-01-01T00:33:20",
          "1970-01-01T00:33:20",
          "1970-01-01T00:33:20",
          "1970-01-01T03:36:40",
          "1970-01-01T03:36:40",
          "1970-01-01T04:10:00",
          "1970-01-01T04:10:00",
          "1970-01-01T04:10:00"
         ],
         "y": [
          "barge1",
          "barge1",
          "barge1",
          "barge1",
          null,
          "barge1",
          "barge1",
          "barge1",
          "barge1",
          null
         ]
        },
        {
         "connectgaps": false,
         "hoverinfo": "y+name",
         "line": {
          "color": "rgb(229,239,75)",
          "width": 10
         },
         "mode": "lines",
         "name": "86614d66-a3fa-4925-b3f4-5fd62e981860",
         "type": "scatter",
         "x": [
          "1970-01-01T03:03:20",
          "1970-01-01T03:03:20",
          "1970-01-01T03:36:40",
          "1970-01-01T03:36:40",
          "1970-01-01T03:36:40",
          "1970-01-01T06:40:00",
          "1970-01-01T06:40:00",
          "1970-01-01T07:13:20",
          "1970-01-01T07:13:20",
          "1970-01-01T07:13:20",
          "1970-01-01T03:03:20",
          "1970-01-01T03:03:20",
          "1970-01-01T03:36:40",
          "1970-01-01T03:36:40",
          "1970-01-01T03:36:40",
          "1970-01-01T06:40:00",
          "1970-01-01T06:40:00",
          "1970-01-01T07:13:20",
          "1970-01-01T07:13:20",
          "1970-01-01T07:13:20"
         ],
         "y": [
          "barge1",
          "barge1",
          "barge1",
          "barge1",
          null,
          "barge1",
          "barge1",
          "barge1",
          "barge1",
          null,
          "to_site",
          "to_site",
          "to_site",
          "to_site",
          null,
          "to_site",
          "to_site",
          "to_site",
          "to_site",
          null
         ]
        },
        {
         "connectgaps": false,
         "hoverinfo": "y+name",
         "line": {
          "color": "rgb(241,251,87)",
          "width": 10
         },
         "mode": "lines",
         "name": "9c141fe2-f416-4441-8622-87d1a6d8a7fb",
         "type": "scatter",
         "x": [
          "1970-01-01T02:30:00",
          "1970-01-01T02:30:00",
          "1970-01-01T03:03:20",
          "1970-01-01T03:03:20",
          "1970-01-01T03:03:20",
          "1970-01-01T06:06:40",
          "1970-01-01T06:06:40",
          "1970-01-01T06:40:00",
          "1970-01-01T06:40:00",
          "1970-01-01T06:40:00"
         ],
         "y": [
          "barge1",
          "barge1",
          "barge1",
          "barge1",
          null,
          "barge1",
          "barge1",
          "barge1",
          "barge1",
          null
         ]
        },
        {
         "connectgaps": false,
         "hoverinfo": "y+name",
         "line": {
          "color": "rgb(253,7,99)",
          "width": 10
         },
         "mode": "lines",
         "name": "e5141685-a20e-49f0-8fb0-776984f336ae",
         "type": "scatter",
         "x": [
          "1970-01-01T00:33:20",
          "1970-01-01T00:33:20",
          "1970-01-01T01:10:50",
          "1970-01-01T01:10:50",
          "1970-01-01T01:10:50",
          "1970-01-01T04:10:00",
          "1970-01-01T04:10:00",
          "1970-01-01T04:47:30",
          "1970-01-01T04:47:30",
          "1970-01-01T04:47:30"
         ],
         "y": [
          "barge1",
          "barge1",
          "barge1",
          "barge1",
          null,
          "barge1",
          "barge1",
          "barge1",
          "barge1",
          null
         ]
        },
        {
         "connectgaps": false,
         "hoverinfo": "y+name",
         "line": {
          "color": "rgb(9,19,111)",
          "width": 10
         },
         "mode": "lines",
         "name": "3a6bdaaa-d971-404d-9788-e2f1e3e516f7",
         "type": "scatter",
         "x": [
          "1970-01-01T02:30:00",
          "1970-01-01T02:30:00",
          "1970-01-01T03:03:20",
          "1970-01-01T03:03:20",
          "1970-01-01T03:03:20",
          "1970-01-01T06:06:40",
          "1970-01-01T06:06:40",
          "1970-01-01T06:40:00",
          "1970-01-01T06:40:00",
          "1970-01-01T06:40:00",
          "1970-01-01T09:43:20",
          "1970-01-01T09:43:20",
          "1970-01-01T10:16:40",
          "1970-01-01T10:16:40",
          "1970-01-01T10:16:40",
          "1970-01-01T13:20:00",
          "1970-01-01T13:20:00",
          "1970-01-01T13:53:20",
          "1970-01-01T13:53:20",
          "1970-01-01T13:53:20"
         ],
         "y": [
          "barge2",
          "barge2",
          "barge2",
          "barge2",
          null,
          "barge2",
          "barge2",
          "barge2",
          "barge2",
          null,
          "barge2",
          "barge2",
          "barge2",
          "barge2",
          null,
          "barge2",
          "barge2",
          "barge2",
          "barge2",
          null
         ]
        },
        {
         "connectgaps": false,
         "hoverinfo": "y+name",
         "line": {
          "color": "rgb(21,31,123)",
          "width": 10
         },
         "mode": "lines",
         "name": "ff518dbd-435b-4d5a-ba4a-61cba836818c",
         "type": "scatter",
         "x": [
          "1970-01-01T00:00:00",
          "1970-01-01T00:00:00",
          "1970-01-01T00:33:20",
          "1970-01-01T00:33:20",
          "1970-01-01T00:33:20",
          "1970-01-01T03:36:40",
          "1970-01-01T03:36:40",
          "1970-01-01T04:10:00",
          "1970-01-01T04:10:00",
          "1970-01-01T04:10:00",
          "1970-01-01T07:13:20",
          "1970-01-01T07:13:20",
          "1970-01-01T07:46:40",
          "1970-01-01T07:46:40",
          "1970-01-01T07:46:40",
          "1970-01-01T10:50:00",
          "1970-01-01T10:50:00",
          "1970-01-01T11:23:20",
          "1970-01-01T11:23:20",
          "1970-01-01T11:23:20"
         ],
         "y": [
          "barge2",
          "barge2",
          "barge2",
          "barge2",
          null,
          "barge2",
          "barge2",
          "barge2",
          "barge2",
          null,
          "barge2",
          "barge2",
          "barge2",
          "barge2",
          null,
          "barge2",
          "barge2",
          "barge2",
          "barge2",
          null
         ]
        },
        {
         "connectgaps": false,
         "hoverinfo": "y+name",
         "line": {
          "color": "rgb(33,43,135)",
          "width": 10
         },
         "mode": "lines",
         "name": "8c75e7b7-dfef-415c-981a-76f6a92c6084",
         "type": "scatter",
         "x": [
          "1970-01-01T01:48:20",
          "1970-01-01T01:48:20",
          "1970-01-01T02:30:00",
          "1970-01-01T02:30:00",
          "1970-01-01T02:30:00",
          "1970-01-01T05:25:00",
          "1970-01-01T05:25:00",
          "1970-01-01T06:06:40",
          "1970-01-01T06:06:40",
          "1970-01-01T06:06:40",
          "1970-01-01T09:01:40",
          "1970-01-01T09:01:40",
          "1970-01-01T09:43:20",
          "1970-01-01T09:43:20",
          "1970-01-01T09:43:20",
          "1970-01-01T12:38:20",
          "1970-01-01T12:38:20",
          "1970-01-01T13:20:00",
          "1970-01-01T13:20:00",
          "1970-01-01T13:20:00",
          "1970-01-01T01:48:20",
          "1970-01-01T01:48:20",
          "1970-01-01T02:30:00",
          "1970-01-01T02:30:00",
          "1970-01-01T02:30:00",
          "1970-01-01T05:25:00",
          "1970-01-01T05:25:00",
          "1970-01-01T06:06:40",
          "1970-01-01T06:06:40",
          "1970-01-01T06:06:40",
          "1970-01-01T09:01:40",
          "1970-01-01T09:01:40",
          "1970-01-01T09:43:20",
          "1970-01-01T09:43:20",
          "1970-01-01T09:43:20",
          "1970-01-01T12:38:20",
          "1970-01-01T12:38:20",
          "1970-01-01T13:20:00",
          "1970-01-01T13:20:00",
          "1970-01-01T13:20:00"
         ],
         "y": [
          "barge2",
          "barge2",
          "barge2",
          "barge2",
          null,
          "barge2",
          "barge2",
          "barge2",
          "barge2",
          null,
          "barge2",
          "barge2",
          "barge2",
          "barge2",
          null,
          "barge2",
          "barge2",
          "barge2",
          "barge2",
          null,
          "from_site",
          "from_site",
          "from_site",
          "from_site",
          null,
          "from_site",
          "from_site",
          "from_site",
          "from_site",
          null,
          "from_site",
          "from_site",
          "from_site",
          "from_site",
          null,
          "from_site",
          "from_site",
          "from_site",
          "from_site",
          null
         ]
        },
        {
         "connectgaps": false,
         "hoverinfo": "y+name",
         "line": {
          "color": "rgb(45,55,147)",
          "width": 10
         },
         "mode": "lines",
         "name": "3178379a-346b-428f-9b4b-0854449e2ac6",
         "type": "scatter",
         "x": [
          "1970-01-01T03:03:20",
          "1970-01-01T03:03:20",
          "1970-01-01T03:36:40",
          "1970-01-01T03:36:40",
          "1970-01-01T03:36:40",
          "1970-01-01T06:40:00",
          "1970-01-01T06:40:00",
          "1970-01-01T07:13:20",
          "1970-01-01T07:13:20",
          "1970-01-01T07:13:20",
          "1970-01-01T10:16:40",
          "1970-01-01T10:16:40",
          "1970-01-01T10:50:00",
          "1970-01-01T10:50:00",
          "1970-01-01T10:50:00",
          "1970-01-01T13:53:20",
          "1970-01-01T13:53:20",
          "1970-01-01T14:26:40",
          "1970-01-01T14:26:40",
          "1970-01-01T14:26:40",
          "1970-01-01T03:03:20",
          "1970-01-01T03:03:20",
          "1970-01-01T03:36:40",
          "1970-01-01T03:36:40",
          "1970-01-01T03:36:40",
          "1970-01-01T06:40:00",
          "1970-01-01T06:40:00",
          "1970-01-01T07:13:20",
          "1970-01-01T07:13:20",
          "1970-01-01T07:13:20",
          "1970-01-01T10:16:40",
          "1970-01-01T10:16:40",
          "1970-01-01T10:50:00",
          "1970-01-01T10:50:00",
          "1970-01-01T10:50:00",
          "1970-01-01T13:53:20",
          "1970-01-01T13:53:20",
          "1970-01-01T14:26:40",
          "1970-01-01T14:26:40",
          "1970-01-01T14:26:40"
         ],
         "y": [
          "barge2",
          "barge2",
          "barge2",
          "barge2",
          null,
          "barge2",
          "barge2",
          "barge2",
          "barge2",
          null,
          "barge2",
          "barge2",
          "barge2",
          "barge2",
          null,
          "barge2",
          "barge2",
          "barge2",
          "barge2",
          null,
          "to_site",
          "to_site",
          "to_site",
          "to_site",
          null,
          "to_site",
          "to_site",
          "to_site",
          "to_site",
          null,
          "to_site",
          "to_site",
          "to_site",
          "to_site",
          null,
          "to_site",
          "to_site",
          "to_site",
          "to_site",
          null
         ]
        },
        {
         "connectgaps": false,
         "hoverinfo": "y+name",
         "line": {
          "color": "rgb(57,67,159)",
          "width": 10
         },
         "mode": "lines",
         "name": "95d86b2a-1964-4b0d-bea8-c43acf1b9709",
         "type": "scatter",
         "x": [
          "1970-01-01T00:33:20",
          "1970-01-01T00:33:20",
          "1970-01-01T01:10:50",
          "1970-01-01T01:10:50",
          "1970-01-01T01:10:50",
          "1970-01-01T04:10:00",
          "1970-01-01T04:10:00",
          "1970-01-01T04:47:30",
          "1970-01-01T04:47:30",
          "1970-01-01T04:47:30",
          "1970-01-01T07:46:40",
          "1970-01-01T07:46:40",
          "1970-01-01T08:24:10",
          "1970-01-01T08:24:10",
          "1970-01-01T08:24:10",
          "1970-01-01T11:23:20",
          "1970-01-01T11:23:20",
          "1970-01-01T12:00:50",
          "1970-01-01T12:00:50",
          "1970-01-01T12:00:50"
         ],
         "y": [
          "barge2",
          "barge2",
          "barge2",
          "barge2",
          null,
          "barge2",
          "barge2",
          "barge2",
          "barge2",
          null,
          "barge2",
          "barge2",
          "barge2",
          "barge2",
          null,
          "barge2",
          "barge2",
          "barge2",
          "barge2",
          null
         ]
        },
        {
         "connectgaps": false,
         "hoverinfo": "y+name",
         "line": {
          "color": "rgb(69,79,171)",
          "width": 10
         },
         "mode": "lines",
         "name": "5b1fa073-4e45-42ce-ab33-8c35375aca89",
         "type": "scatter",
         "x": [
          "1970-01-01T15:11:40",
          "1970-01-01T15:11:40",
          "1970-01-01T15:13:20",
          "1970-01-01T15:13:20",
          "1970-01-01T15:13:20"
         ],
         "y": [
          "vessel_last",
          "vessel_last",
          "vessel_last",
          "vessel_last",
          null
         ]
        },
        {
         "connectgaps": false,
         "hoverinfo": "y+name",
         "line": {
          "color": "rgb(81,91,183)",
          "width": 10
         },
         "mode": "lines",
         "name": "c0e22d74-5de8-4624-ae2f-ba085746c49f",
         "type": "scatter",
         "x": [
          "1970-01-01T14:30:00",
          "1970-01-01T14:30:00",
          "1970-01-01T15:11:40",
          "1970-01-01T15:11:40",
          "1970-01-01T15:11:40",
          "1970-01-01T14:30:00",
          "1970-01-01T14:30:00",
          "1970-01-01T15:11:40",
          "1970-01-01T15:11:40",
          "1970-01-01T15:11:40"
         ],
         "y": [
          "vessel_last",
          "vessel_last",
          "vessel_last",
          "vessel_last",
          null,
          "to_site",
          "to_site",
          "to_site",
          "to_site",
          null
         ]
        },
        {
         "connectgaps": false,
         "hoverinfo": "y+name",
         "line": {
          "color": "rgb(93,103,195)",
          "width": 10
         },
         "mode": "lines",
         "name": "0f68039e-26c2-402c-8e0b-77dac7fc65d7",
         "type": "scatter",
         "x": [
          "1970-01-01T14:28:20",
          "1970-01-01T14:28:20",
          "1970-01-01T14:30:00",
          "1970-01-01T14:30:00",
          "1970-01-01T14:30:00"
         ],
         "y": [
          "vessel_last",
          "vessel_last",
          "vessel_last",
          "vessel_last",
          null
         ]
        },
        {
         "connectgaps": false,
         "hoverinfo": "y+name",
         "line": {
          "color": "rgb(105,115,207)",
          "width": 10
         },
         "mode": "lines",
         "name": "85426a10-44c8-4d13-8c68-fcf4d1d33764",
         "type": "scatter",
         "x": [
          "1970-01-01T14:26:40",
          "1970-01-01T14:26:40",
          "1970-01-01T14:28:20",
          "1970-01-01T14:28:20",
          "1970-01-01T14:28:20"
         ],
         "y": [
          "vessel_last",
          "vessel_last",
          "vessel_last",
          "vessel_last",
          null
         ]
        },
        {
         "connectgaps": false,
         "hoverinfo": "y+name",
         "line": {
          "color": "rgb(117,127,219)",
          "width": 10
         },
         "mode": "lines",
         "name": "0c7c4c14-7f78-415a-809f-15718e3e899e",
         "type": "scatter",
         "x": [
          "1970-01-01T15:13:20",
          "1970-01-01T15:13:20",
          "1970-01-01T15:15:00",
          "1970-01-01T15:15:00",
          "1970-01-01T15:15:00",
          "1970-01-01T15:13:20",
          "1970-01-01T15:13:20",
          "1970-01-01T15:15:00",
          "1970-01-01T15:15:00",
          "1970-01-01T15:15:00"
         ],
         "y": [
          "vessel_last",
          "vessel_last",
          "vessel_last",
          "vessel_last",
          null,
          "to_site2",
          "to_site2",
          "to_site2",
          "to_site2",
          null
         ]
        },
        {
         "connectgaps": false,
         "hoverinfo": "y+name",
         "line": {
          "color": "rgb(129,139,231)",
          "width": 10
         },
         "mode": "lines",
         "name": "8c75e7b7-dfef-415c-981a-76f6a92c6084",
         "type": "scatter",
         "x": [
          "1970-01-01T01:48:20",
          "1970-01-01T01:48:20",
          "1970-01-01T02:30:00",
          "1970-01-01T02:30:00",
          "1970-01-01T02:30:00",
          "1970-01-01T05:25:00",
          "1970-01-01T05:25:00",
          "1970-01-01T06:06:40",
          "1970-01-01T06:06:40",
          "1970-01-01T06:06:40",
          "1970-01-01T09:01:40",
          "1970-01-01T09:01:40",
          "1970-01-01T09:43:20",
          "1970-01-01T09:43:20",
          "1970-01-01T09:43:20",
          "1970-01-01T12:38:20",
          "1970-01-01T12:38:20",
          "1970-01-01T13:20:00",
          "1970-01-01T13:20:00",
          "1970-01-01T13:20:00",
          "1970-01-01T01:48:20",
          "1970-01-01T01:48:20",
          "1970-01-01T02:30:00",
          "1970-01-01T02:30:00",
          "1970-01-01T02:30:00",
          "1970-01-01T05:25:00",
          "1970-01-01T05:25:00",
          "1970-01-01T06:06:40",
          "1970-01-01T06:06:40",
          "1970-01-01T06:06:40",
          "1970-01-01T09:01:40",
          "1970-01-01T09:01:40",
          "1970-01-01T09:43:20",
          "1970-01-01T09:43:20",
          "1970-01-01T09:43:20",
          "1970-01-01T12:38:20",
          "1970-01-01T12:38:20",
          "1970-01-01T13:20:00",
          "1970-01-01T13:20:00",
          "1970-01-01T13:20:00"
         ],
         "y": [
          "barge2",
          "barge2",
          "barge2",
          "barge2",
          null,
          "barge2",
          "barge2",
          "barge2",
          "barge2",
          null,
          "barge2",
          "barge2",
          "barge2",
          "barge2",
          null,
          "barge2",
          "barge2",
          "barge2",
          "barge2",
          null,
          "from_site",
          "from_site",
          "from_site",
          "from_site",
          null,
          "from_site",
          "from_site",
          "from_site",
          "from_site",
          null,
          "from_site",
          "from_site",
          "from_site",
          "from_site",
          null,
          "from_site",
          "from_site",
          "from_site",
          "from_site",
          null
         ]
        },
        {
         "connectgaps": false,
         "hoverinfo": "y+name",
         "line": {
          "color": "rgb(141,151,243)",
          "width": 10
         },
         "mode": "lines",
         "name": "7d3270db-0549-420f-9a5a-55ed687dd0cc",
         "type": "scatter",
         "x": [
          "1970-01-01T01:48:20",
          "1970-01-01T01:48:20",
          "1970-01-01T02:30:00",
          "1970-01-01T02:30:00",
          "1970-01-01T02:30:00",
          "1970-01-01T05:25:00",
          "1970-01-01T05:25:00",
          "1970-01-01T06:06:40",
          "1970-01-01T06:06:40",
          "1970-01-01T06:06:40",
          "1970-01-01T01:48:20",
          "1970-01-01T01:48:20",
          "1970-01-01T02:30:00",
          "1970-01-01T02:30:00",
          "1970-01-01T02:30:00",
          "1970-01-01T05:25:00",
          "1970-01-01T05:25:00",
          "1970-01-01T06:06:40",
          "1970-01-01T06:06:40",
          "1970-01-01T06:06:40"
         ],
         "y": [
          "barge1",
          "barge1",
          "barge1",
          "barge1",
          null,
          "barge1",
          "barge1",
          "barge1",
          "barge1",
          null,
          "from_site",
          "from_site",
          "from_site",
          "from_site",
          null,
          "from_site",
          "from_site",
          "from_site",
          "from_site",
          null
         ]
        },
        {
         "connectgaps": false,
         "hoverinfo": "y+name",
         "line": {
          "color": "rgb(153,163,255)",
          "width": 10
         },
         "mode": "lines",
         "name": "86614d66-a3fa-4925-b3f4-5fd62e981860",
         "type": "scatter",
         "x": [
          "1970-01-01T03:03:20",
          "1970-01-01T03:03:20",
          "1970-01-01T03:36:40",
          "1970-01-01T03:36:40",
          "1970-01-01T03:36:40",
          "1970-01-01T06:40:00",
          "1970-01-01T06:40:00",
          "1970-01-01T07:13:20",
          "1970-01-01T07:13:20",
          "1970-01-01T07:13:20",
          "1970-01-01T03:03:20",
          "1970-01-01T03:03:20",
          "1970-01-01T03:36:40",
          "1970-01-01T03:36:40",
          "1970-01-01T03:36:40",
          "1970-01-01T06:40:00",
          "1970-01-01T06:40:00",
          "1970-01-01T07:13:20",
          "1970-01-01T07:13:20",
          "1970-01-01T07:13:20"
         ],
         "y": [
          "barge1",
          "barge1",
          "barge1",
          "barge1",
          null,
          "barge1",
          "barge1",
          "barge1",
          "barge1",
          null,
          "to_site",
          "to_site",
          "to_site",
          "to_site",
          null,
          "to_site",
          "to_site",
          "to_site",
          "to_site",
          null
         ]
        },
        {
         "connectgaps": false,
         "hoverinfo": "y+name",
         "line": {
          "color": "rgb(165,175,11)",
          "width": 10
         },
         "mode": "lines",
         "name": "3178379a-346b-428f-9b4b-0854449e2ac6",
         "type": "scatter",
         "x": [
          "1970-01-01T03:03:20",
          "1970-01-01T03:03:20",
          "1970-01-01T03:36:40",
          "1970-01-01T03:36:40",
          "1970-01-01T03:36:40",
          "1970-01-01T06:40:00",
          "1970-01-01T06:40:00",
          "1970-01-01T07:13:20",
          "1970-01-01T07:13:20",
          "1970-01-01T07:13:20",
          "1970-01-01T10:16:40",
          "1970-01-01T10:16:40",
          "1970-01-01T10:50:00",
          "1970-01-01T10:50:00",
          "1970-01-01T10:50:00",
          "1970-01-01T13:53:20",
          "1970-01-01T13:53:20",
          "1970-01-01T14:26:40",
          "1970-01-01T14:26:40",
          "1970-01-01T14:26:40",
          "1970-01-01T03:03:20",
          "1970-01-01T03:03:20",
          "1970-01-01T03:36:40",
          "1970-01-01T03:36:40",
          "1970-01-01T03:36:40",
          "1970-01-01T06:40:00",
          "1970-01-01T06:40:00",
          "1970-01-01T07:13:20",
          "1970-01-01T07:13:20",
          "1970-01-01T07:13:20",
          "1970-01-01T10:16:40",
          "1970-01-01T10:16:40",
          "1970-01-01T10:50:00",
          "1970-01-01T10:50:00",
          "1970-01-01T10:50:00",
          "1970-01-01T13:53:20",
          "1970-01-01T13:53:20",
          "1970-01-01T14:26:40",
          "1970-01-01T14:26:40",
          "1970-01-01T14:26:40"
         ],
         "y": [
          "barge2",
          "barge2",
          "barge2",
          "barge2",
          null,
          "barge2",
          "barge2",
          "barge2",
          "barge2",
          null,
          "barge2",
          "barge2",
          "barge2",
          "barge2",
          null,
          "barge2",
          "barge2",
          "barge2",
          "barge2",
          null,
          "to_site",
          "to_site",
          "to_site",
          "to_site",
          null,
          "to_site",
          "to_site",
          "to_site",
          "to_site",
          null,
          "to_site",
          "to_site",
          "to_site",
          "to_site",
          null,
          "to_site",
          "to_site",
          "to_site",
          "to_site",
          null
         ]
        },
        {
         "connectgaps": false,
         "hoverinfo": "y+name",
         "line": {
          "color": "rgb(177,187,23)",
          "width": 10
         },
         "mode": "lines",
         "name": "c0e22d74-5de8-4624-ae2f-ba085746c49f",
         "type": "scatter",
         "x": [
          "1970-01-01T14:30:00",
          "1970-01-01T14:30:00",
          "1970-01-01T15:11:40",
          "1970-01-01T15:11:40",
          "1970-01-01T15:11:40",
          "1970-01-01T14:30:00",
          "1970-01-01T14:30:00",
          "1970-01-01T15:11:40",
          "1970-01-01T15:11:40",
          "1970-01-01T15:11:40"
         ],
         "y": [
          "vessel_last",
          "vessel_last",
          "vessel_last",
          "vessel_last",
          null,
          "to_site",
          "to_site",
          "to_site",
          "to_site",
          null
         ]
        },
        {
         "connectgaps": false,
         "hoverinfo": "y+name",
         "line": {
          "color": "rgb(189,199,35)",
          "width": 10
         },
         "mode": "lines",
         "name": "0c7c4c14-7f78-415a-809f-15718e3e899e",
         "type": "scatter",
         "x": [
          "1970-01-01T15:13:20",
          "1970-01-01T15:13:20",
          "1970-01-01T15:15:00",
          "1970-01-01T15:15:00",
          "1970-01-01T15:15:00",
          "1970-01-01T15:13:20",
          "1970-01-01T15:13:20",
          "1970-01-01T15:15:00",
          "1970-01-01T15:15:00",
          "1970-01-01T15:15:00"
         ],
         "y": [
          "vessel_last",
          "vessel_last",
          "vessel_last",
          "vessel_last",
          null,
          "to_site2",
          "to_site2",
          "to_site2",
          "to_site2",
          null
         ]
        }
       ],
       "layout": {
        "hovermode": "closest",
        "legend": {
         "orientation": "h",
         "x": 0,
         "y": -0.2
        },
        "template": {
         "data": {
          "bar": [
           {
            "error_x": {
             "color": "#2a3f5f"
            },
            "error_y": {
             "color": "#2a3f5f"
            },
            "marker": {
             "line": {
              "color": "#E5ECF6",
              "width": 0.5
             },
             "pattern": {
              "fillmode": "overlay",
              "size": 10,
              "solidity": 0.2
             }
            },
            "type": "bar"
           }
          ],
          "barpolar": [
           {
            "marker": {
             "line": {
              "color": "#E5ECF6",
              "width": 0.5
             },
             "pattern": {
              "fillmode": "overlay",
              "size": 10,
              "solidity": 0.2
             }
            },
            "type": "barpolar"
           }
          ],
          "carpet": [
           {
            "aaxis": {
             "endlinecolor": "#2a3f5f",
             "gridcolor": "white",
             "linecolor": "white",
             "minorgridcolor": "white",
             "startlinecolor": "#2a3f5f"
            },
            "baxis": {
             "endlinecolor": "#2a3f5f",
             "gridcolor": "white",
             "linecolor": "white",
             "minorgridcolor": "white",
             "startlinecolor": "#2a3f5f"
            },
            "type": "carpet"
           }
          ],
          "choropleth": [
           {
            "colorbar": {
             "outlinewidth": 0,
             "ticks": ""
            },
            "type": "choropleth"
           }
          ],
          "contour": [
           {
            "colorbar": {
             "outlinewidth": 0,
             "ticks": ""
            },
            "colorscale": [
             [
              0,
              "#0d0887"
             ],
             [
              0.1111111111111111,
              "#46039f"
             ],
             [
              0.2222222222222222,
              "#7201a8"
             ],
             [
              0.3333333333333333,
              "#9c179e"
             ],
             [
              0.4444444444444444,
              "#bd3786"
             ],
             [
              0.5555555555555556,
              "#d8576b"
             ],
             [
              0.6666666666666666,
              "#ed7953"
             ],
             [
              0.7777777777777778,
              "#fb9f3a"
             ],
             [
              0.8888888888888888,
              "#fdca26"
             ],
             [
              1,
              "#f0f921"
             ]
            ],
            "type": "contour"
           }
          ],
          "contourcarpet": [
           {
            "colorbar": {
             "outlinewidth": 0,
             "ticks": ""
            },
            "type": "contourcarpet"
           }
          ],
          "heatmap": [
           {
            "colorbar": {
             "outlinewidth": 0,
             "ticks": ""
            },
            "colorscale": [
             [
              0,
              "#0d0887"
             ],
             [
              0.1111111111111111,
              "#46039f"
             ],
             [
              0.2222222222222222,
              "#7201a8"
             ],
             [
              0.3333333333333333,
              "#9c179e"
             ],
             [
              0.4444444444444444,
              "#bd3786"
             ],
             [
              0.5555555555555556,
              "#d8576b"
             ],
             [
              0.6666666666666666,
              "#ed7953"
             ],
             [
              0.7777777777777778,
              "#fb9f3a"
             ],
             [
              0.8888888888888888,
              "#fdca26"
             ],
             [
              1,
              "#f0f921"
             ]
            ],
            "type": "heatmap"
           }
          ],
          "heatmapgl": [
           {
            "colorbar": {
             "outlinewidth": 0,
             "ticks": ""
            },
            "colorscale": [
             [
              0,
              "#0d0887"
             ],
             [
              0.1111111111111111,
              "#46039f"
             ],
             [
              0.2222222222222222,
              "#7201a8"
             ],
             [
              0.3333333333333333,
              "#9c179e"
             ],
             [
              0.4444444444444444,
              "#bd3786"
             ],
             [
              0.5555555555555556,
              "#d8576b"
             ],
             [
              0.6666666666666666,
              "#ed7953"
             ],
             [
              0.7777777777777778,
              "#fb9f3a"
             ],
             [
              0.8888888888888888,
              "#fdca26"
             ],
             [
              1,
              "#f0f921"
             ]
            ],
            "type": "heatmapgl"
           }
          ],
          "histogram": [
           {
            "marker": {
             "pattern": {
              "fillmode": "overlay",
              "size": 10,
              "solidity": 0.2
             }
            },
            "type": "histogram"
           }
          ],
          "histogram2d": [
           {
            "colorbar": {
             "outlinewidth": 0,
             "ticks": ""
            },
            "colorscale": [
             [
              0,
              "#0d0887"
             ],
             [
              0.1111111111111111,
              "#46039f"
             ],
             [
              0.2222222222222222,
              "#7201a8"
             ],
             [
              0.3333333333333333,
              "#9c179e"
             ],
             [
              0.4444444444444444,
              "#bd3786"
             ],
             [
              0.5555555555555556,
              "#d8576b"
             ],
             [
              0.6666666666666666,
              "#ed7953"
             ],
             [
              0.7777777777777778,
              "#fb9f3a"
             ],
             [
              0.8888888888888888,
              "#fdca26"
             ],
             [
              1,
              "#f0f921"
             ]
            ],
            "type": "histogram2d"
           }
          ],
          "histogram2dcontour": [
           {
            "colorbar": {
             "outlinewidth": 0,
             "ticks": ""
            },
            "colorscale": [
             [
              0,
              "#0d0887"
             ],
             [
              0.1111111111111111,
              "#46039f"
             ],
             [
              0.2222222222222222,
              "#7201a8"
             ],
             [
              0.3333333333333333,
              "#9c179e"
             ],
             [
              0.4444444444444444,
              "#bd3786"
             ],
             [
              0.5555555555555556,
              "#d8576b"
             ],
             [
              0.6666666666666666,
              "#ed7953"
             ],
             [
              0.7777777777777778,
              "#fb9f3a"
             ],
             [
              0.8888888888888888,
              "#fdca26"
             ],
             [
              1,
              "#f0f921"
             ]
            ],
            "type": "histogram2dcontour"
           }
          ],
          "mesh3d": [
           {
            "colorbar": {
             "outlinewidth": 0,
             "ticks": ""
            },
            "type": "mesh3d"
           }
          ],
          "parcoords": [
           {
            "line": {
             "colorbar": {
              "outlinewidth": 0,
              "ticks": ""
             }
            },
            "type": "parcoords"
           }
          ],
          "pie": [
           {
            "automargin": true,
            "type": "pie"
           }
          ],
          "scatter": [
           {
            "fillpattern": {
             "fillmode": "overlay",
             "size": 10,
             "solidity": 0.2
            },
            "type": "scatter"
           }
          ],
          "scatter3d": [
           {
            "line": {
             "colorbar": {
              "outlinewidth": 0,
              "ticks": ""
             }
            },
            "marker": {
             "colorbar": {
              "outlinewidth": 0,
              "ticks": ""
             }
            },
            "type": "scatter3d"
           }
          ],
          "scattercarpet": [
           {
            "marker": {
             "colorbar": {
              "outlinewidth": 0,
              "ticks": ""
             }
            },
            "type": "scattercarpet"
           }
          ],
          "scattergeo": [
           {
            "marker": {
             "colorbar": {
              "outlinewidth": 0,
              "ticks": ""
             }
            },
            "type": "scattergeo"
           }
          ],
          "scattergl": [
           {
            "marker": {
             "colorbar": {
              "outlinewidth": 0,
              "ticks": ""
             }
            },
            "type": "scattergl"
           }
          ],
          "scattermapbox": [
           {
            "marker": {
             "colorbar": {
              "outlinewidth": 0,
              "ticks": ""
             }
            },
            "type": "scattermapbox"
           }
          ],
          "scatterpolar": [
           {
            "marker": {
             "colorbar": {
              "outlinewidth": 0,
              "ticks": ""
             }
            },
            "type": "scatterpolar"
           }
          ],
          "scatterpolargl": [
           {
            "marker": {
             "colorbar": {
              "outlinewidth": 0,
              "ticks": ""
             }
            },
            "type": "scatterpolargl"
           }
          ],
          "scatterternary": [
           {
            "marker": {
             "colorbar": {
              "outlinewidth": 0,
              "ticks": ""
             }
            },
            "type": "scatterternary"
           }
          ],
          "surface": [
           {
            "colorbar": {
             "outlinewidth": 0,
             "ticks": ""
            },
            "colorscale": [
             [
              0,
              "#0d0887"
             ],
             [
              0.1111111111111111,
              "#46039f"
             ],
             [
              0.2222222222222222,
              "#7201a8"
             ],
             [
              0.3333333333333333,
              "#9c179e"
             ],
             [
              0.4444444444444444,
              "#bd3786"
             ],
             [
              0.5555555555555556,
              "#d8576b"
             ],
             [
              0.6666666666666666,
              "#ed7953"
             ],
             [
              0.7777777777777778,
              "#fb9f3a"
             ],
             [
              0.8888888888888888,
              "#fdca26"
             ],
             [
              1,
              "#f0f921"
             ]
            ],
            "type": "surface"
           }
          ],
          "table": [
           {
            "cells": {
             "fill": {
              "color": "#EBF0F8"
             },
             "line": {
              "color": "white"
             }
            },
            "header": {
             "fill": {
              "color": "#C8D4E3"
             },
             "line": {
              "color": "white"
             }
            },
            "type": "table"
           }
          ]
         },
         "layout": {
          "annotationdefaults": {
           "arrowcolor": "#2a3f5f",
           "arrowhead": 0,
           "arrowwidth": 1
          },
          "autotypenumbers": "strict",
          "coloraxis": {
           "colorbar": {
            "outlinewidth": 0,
            "ticks": ""
           }
          },
          "colorscale": {
           "diverging": [
            [
             0,
             "#8e0152"
            ],
            [
             0.1,
             "#c51b7d"
            ],
            [
             0.2,
             "#de77ae"
            ],
            [
             0.3,
             "#f1b6da"
            ],
            [
             0.4,
             "#fde0ef"
            ],
            [
             0.5,
             "#f7f7f7"
            ],
            [
             0.6,
             "#e6f5d0"
            ],
            [
             0.7,
             "#b8e186"
            ],
            [
             0.8,
             "#7fbc41"
            ],
            [
             0.9,
             "#4d9221"
            ],
            [
             1,
             "#276419"
            ]
           ],
           "sequential": [
            [
             0,
             "#0d0887"
            ],
            [
             0.1111111111111111,
             "#46039f"
            ],
            [
             0.2222222222222222,
             "#7201a8"
            ],
            [
             0.3333333333333333,
             "#9c179e"
            ],
            [
             0.4444444444444444,
             "#bd3786"
            ],
            [
             0.5555555555555556,
             "#d8576b"
            ],
            [
             0.6666666666666666,
             "#ed7953"
            ],
            [
             0.7777777777777778,
             "#fb9f3a"
            ],
            [
             0.8888888888888888,
             "#fdca26"
            ],
            [
             1,
             "#f0f921"
            ]
           ],
           "sequentialminus": [
            [
             0,
             "#0d0887"
            ],
            [
             0.1111111111111111,
             "#46039f"
            ],
            [
             0.2222222222222222,
             "#7201a8"
            ],
            [
             0.3333333333333333,
             "#9c179e"
            ],
            [
             0.4444444444444444,
             "#bd3786"
            ],
            [
             0.5555555555555556,
             "#d8576b"
            ],
            [
             0.6666666666666666,
             "#ed7953"
            ],
            [
             0.7777777777777778,
             "#fb9f3a"
            ],
            [
             0.8888888888888888,
             "#fdca26"
            ],
            [
             1,
             "#f0f921"
            ]
           ]
          },
          "colorway": [
           "#636efa",
           "#EF553B",
           "#00cc96",
           "#ab63fa",
           "#FFA15A",
           "#19d3f3",
           "#FF6692",
           "#B6E880",
           "#FF97FF",
           "#FECB52"
          ],
          "font": {
           "color": "#2a3f5f"
          },
          "geo": {
           "bgcolor": "white",
           "lakecolor": "white",
           "landcolor": "#E5ECF6",
           "showlakes": true,
           "showland": true,
           "subunitcolor": "white"
          },
          "hoverlabel": {
           "align": "left"
          },
          "hovermode": "closest",
          "mapbox": {
           "style": "light"
          },
          "paper_bgcolor": "white",
          "plot_bgcolor": "#E5ECF6",
          "polar": {
           "angularaxis": {
            "gridcolor": "white",
            "linecolor": "white",
            "ticks": ""
           },
           "bgcolor": "#E5ECF6",
           "radialaxis": {
            "gridcolor": "white",
            "linecolor": "white",
            "ticks": ""
           }
          },
          "scene": {
           "xaxis": {
            "backgroundcolor": "#E5ECF6",
            "gridcolor": "white",
            "gridwidth": 2,
            "linecolor": "white",
            "showbackground": true,
            "ticks": "",
            "zerolinecolor": "white"
           },
           "yaxis": {
            "backgroundcolor": "#E5ECF6",
            "gridcolor": "white",
            "gridwidth": 2,
            "linecolor": "white",
            "showbackground": true,
            "ticks": "",
            "zerolinecolor": "white"
           },
           "zaxis": {
            "backgroundcolor": "#E5ECF6",
            "gridcolor": "white",
            "gridwidth": 2,
            "linecolor": "white",
            "showbackground": true,
            "ticks": "",
            "zerolinecolor": "white"
           }
          },
          "shapedefaults": {
           "line": {
            "color": "#2a3f5f"
           }
          },
          "ternary": {
           "aaxis": {
            "gridcolor": "white",
            "linecolor": "white",
            "ticks": ""
           },
           "baxis": {
            "gridcolor": "white",
            "linecolor": "white",
            "ticks": ""
           },
           "bgcolor": "#E5ECF6",
           "caxis": {
            "gridcolor": "white",
            "linecolor": "white",
            "ticks": ""
           }
          },
          "title": {
           "x": 0.05
          },
          "xaxis": {
           "automargin": true,
           "gridcolor": "white",
           "linecolor": "white",
           "ticks": "",
           "title": {
            "standoff": 15
           },
           "zerolinecolor": "white",
           "zerolinewidth": 2
          },
          "yaxis": {
           "automargin": true,
           "gridcolor": "white",
           "linecolor": "white",
           "ticks": "",
           "title": {
            "standoff": 15
           },
           "zerolinecolor": "white",
           "zerolinewidth": 2
          }
         }
        },
        "title": {
         "text": "GANTT Chart"
        },
        "xaxis": {
         "range": [
          "1970-01-01T00:00:00",
          "1970-01-01T15:15:00"
         ],
         "title": {
          "font": {
           "color": "#7f7f7f",
           "family": "Courier New, monospace",
           "size": 18
          },
          "text": "Time"
         }
        },
        "yaxis": {
         "title": {
          "font": {
           "color": "#7f7f7f",
           "family": "Courier New, monospace",
           "size": 18
          },
          "text": "Activities"
         }
        }
       }
      },
      "text/html": [
       "<div>                            <div id=\"2838241f-d037-42fd-8fd7-2a8a9ddd3d74\" class=\"plotly-graph-div\" style=\"height:525px; width:100%;\"></div>            <script type=\"text/javascript\">                require([\"plotly\"], function(Plotly) {                    window.PLOTLYENV=window.PLOTLYENV || {};                                    if (document.getElementById(\"2838241f-d037-42fd-8fd7-2a8a9ddd3d74\")) {                    Plotly.newPlot(                        \"2838241f-d037-42fd-8fd7-2a8a9ddd3d74\",                        [{\"connectgaps\":false,\"hoverinfo\":\"y+name\",\"line\":{\"color\":\"rgb(205,215,51)\",\"width\":10},\"mode\":\"lines\",\"name\":\"7d3270db-0549-420f-9a5a-55ed687dd0cc\",\"x\":[\"1970-01-01T01:48:20\",\"1970-01-01T01:48:20\",\"1970-01-01T02:30:00\",\"1970-01-01T02:30:00\",\"1970-01-01T02:30:00\",\"1970-01-01T05:25:00\",\"1970-01-01T05:25:00\",\"1970-01-01T06:06:40\",\"1970-01-01T06:06:40\",\"1970-01-01T06:06:40\",\"1970-01-01T01:48:20\",\"1970-01-01T01:48:20\",\"1970-01-01T02:30:00\",\"1970-01-01T02:30:00\",\"1970-01-01T02:30:00\",\"1970-01-01T05:25:00\",\"1970-01-01T05:25:00\",\"1970-01-01T06:06:40\",\"1970-01-01T06:06:40\",\"1970-01-01T06:06:40\"],\"y\":[\"barge1\",\"barge1\",\"barge1\",\"barge1\",null,\"barge1\",\"barge1\",\"barge1\",\"barge1\",null,\"from_site\",\"from_site\",\"from_site\",\"from_site\",null,\"from_site\",\"from_site\",\"from_site\",\"from_site\",null],\"type\":\"scatter\"},{\"connectgaps\":false,\"hoverinfo\":\"y+name\",\"line\":{\"color\":\"rgb(217,227,63)\",\"width\":10},\"mode\":\"lines\",\"name\":\"3f0bbe9a-cef5-4fa6-8074-202713e78a6b\",\"x\":[\"1970-01-01T00:00:00\",\"1970-01-01T00:00:00\",\"1970-01-01T00:33:20\",\"1970-01-01T00:33:20\",\"1970-01-01T00:33:20\",\"1970-01-01T03:36:40\",\"1970-01-01T03:36:40\",\"1970-01-01T04:10:00\",\"1970-01-01T04:10:00\",\"1970-01-01T04:10:00\"],\"y\":[\"barge1\",\"barge1\",\"barge1\",\"barge1\",null,\"barge1\",\"barge1\",\"barge1\",\"barge1\",null],\"type\":\"scatter\"},{\"connectgaps\":false,\"hoverinfo\":\"y+name\",\"line\":{\"color\":\"rgb(229,239,75)\",\"width\":10},\"mode\":\"lines\",\"name\":\"86614d66-a3fa-4925-b3f4-5fd62e981860\",\"x\":[\"1970-01-01T03:03:20\",\"1970-01-01T03:03:20\",\"1970-01-01T03:36:40\",\"1970-01-01T03:36:40\",\"1970-01-01T03:36:40\",\"1970-01-01T06:40:00\",\"1970-01-01T06:40:00\",\"1970-01-01T07:13:20\",\"1970-01-01T07:13:20\",\"1970-01-01T07:13:20\",\"1970-01-01T03:03:20\",\"1970-01-01T03:03:20\",\"1970-01-01T03:36:40\",\"1970-01-01T03:36:40\",\"1970-01-01T03:36:40\",\"1970-01-01T06:40:00\",\"1970-01-01T06:40:00\",\"1970-01-01T07:13:20\",\"1970-01-01T07:13:20\",\"1970-01-01T07:13:20\"],\"y\":[\"barge1\",\"barge1\",\"barge1\",\"barge1\",null,\"barge1\",\"barge1\",\"barge1\",\"barge1\",null,\"to_site\",\"to_site\",\"to_site\",\"to_site\",null,\"to_site\",\"to_site\",\"to_site\",\"to_site\",null],\"type\":\"scatter\"},{\"connectgaps\":false,\"hoverinfo\":\"y+name\",\"line\":{\"color\":\"rgb(241,251,87)\",\"width\":10},\"mode\":\"lines\",\"name\":\"9c141fe2-f416-4441-8622-87d1a6d8a7fb\",\"x\":[\"1970-01-01T02:30:00\",\"1970-01-01T02:30:00\",\"1970-01-01T03:03:20\",\"1970-01-01T03:03:20\",\"1970-01-01T03:03:20\",\"1970-01-01T06:06:40\",\"1970-01-01T06:06:40\",\"1970-01-01T06:40:00\",\"1970-01-01T06:40:00\",\"1970-01-01T06:40:00\"],\"y\":[\"barge1\",\"barge1\",\"barge1\",\"barge1\",null,\"barge1\",\"barge1\",\"barge1\",\"barge1\",null],\"type\":\"scatter\"},{\"connectgaps\":false,\"hoverinfo\":\"y+name\",\"line\":{\"color\":\"rgb(253,7,99)\",\"width\":10},\"mode\":\"lines\",\"name\":\"e5141685-a20e-49f0-8fb0-776984f336ae\",\"x\":[\"1970-01-01T00:33:20\",\"1970-01-01T00:33:20\",\"1970-01-01T01:10:50\",\"1970-01-01T01:10:50\",\"1970-01-01T01:10:50\",\"1970-01-01T04:10:00\",\"1970-01-01T04:10:00\",\"1970-01-01T04:47:30\",\"1970-01-01T04:47:30\",\"1970-01-01T04:47:30\"],\"y\":[\"barge1\",\"barge1\",\"barge1\",\"barge1\",null,\"barge1\",\"barge1\",\"barge1\",\"barge1\",null],\"type\":\"scatter\"},{\"connectgaps\":false,\"hoverinfo\":\"y+name\",\"line\":{\"color\":\"rgb(9,19,111)\",\"width\":10},\"mode\":\"lines\",\"name\":\"3a6bdaaa-d971-404d-9788-e2f1e3e516f7\",\"x\":[\"1970-01-01T02:30:00\",\"1970-01-01T02:30:00\",\"1970-01-01T03:03:20\",\"1970-01-01T03:03:20\",\"1970-01-01T03:03:20\",\"1970-01-01T06:06:40\",\"1970-01-01T06:06:40\",\"1970-01-01T06:40:00\",\"1970-01-01T06:40:00\",\"1970-01-01T06:40:00\",\"1970-01-01T09:43:20\",\"1970-01-01T09:43:20\",\"1970-01-01T10:16:40\",\"1970-01-01T10:16:40\",\"1970-01-01T10:16:40\",\"1970-01-01T13:20:00\",\"1970-01-01T13:20:00\",\"1970-01-01T13:53:20\",\"1970-01-01T13:53:20\",\"1970-01-01T13:53:20\"],\"y\":[\"barge2\",\"barge2\",\"barge2\",\"barge2\",null,\"barge2\",\"barge2\",\"barge2\",\"barge2\",null,\"barge2\",\"barge2\",\"barge2\",\"barge2\",null,\"barge2\",\"barge2\",\"barge2\",\"barge2\",null],\"type\":\"scatter\"},{\"connectgaps\":false,\"hoverinfo\":\"y+name\",\"line\":{\"color\":\"rgb(21,31,123)\",\"width\":10},\"mode\":\"lines\",\"name\":\"ff518dbd-435b-4d5a-ba4a-61cba836818c\",\"x\":[\"1970-01-01T00:00:00\",\"1970-01-01T00:00:00\",\"1970-01-01T00:33:20\",\"1970-01-01T00:33:20\",\"1970-01-01T00:33:20\",\"1970-01-01T03:36:40\",\"1970-01-01T03:36:40\",\"1970-01-01T04:10:00\",\"1970-01-01T04:10:00\",\"1970-01-01T04:10:00\",\"1970-01-01T07:13:20\",\"1970-01-01T07:13:20\",\"1970-01-01T07:46:40\",\"1970-01-01T07:46:40\",\"1970-01-01T07:46:40\",\"1970-01-01T10:50:00\",\"1970-01-01T10:50:00\",\"1970-01-01T11:23:20\",\"1970-01-01T11:23:20\",\"1970-01-01T11:23:20\"],\"y\":[\"barge2\",\"barge2\",\"barge2\",\"barge2\",null,\"barge2\",\"barge2\",\"barge2\",\"barge2\",null,\"barge2\",\"barge2\",\"barge2\",\"barge2\",null,\"barge2\",\"barge2\",\"barge2\",\"barge2\",null],\"type\":\"scatter\"},{\"connectgaps\":false,\"hoverinfo\":\"y+name\",\"line\":{\"color\":\"rgb(33,43,135)\",\"width\":10},\"mode\":\"lines\",\"name\":\"8c75e7b7-dfef-415c-981a-76f6a92c6084\",\"x\":[\"1970-01-01T01:48:20\",\"1970-01-01T01:48:20\",\"1970-01-01T02:30:00\",\"1970-01-01T02:30:00\",\"1970-01-01T02:30:00\",\"1970-01-01T05:25:00\",\"1970-01-01T05:25:00\",\"1970-01-01T06:06:40\",\"1970-01-01T06:06:40\",\"1970-01-01T06:06:40\",\"1970-01-01T09:01:40\",\"1970-01-01T09:01:40\",\"1970-01-01T09:43:20\",\"1970-01-01T09:43:20\",\"1970-01-01T09:43:20\",\"1970-01-01T12:38:20\",\"1970-01-01T12:38:20\",\"1970-01-01T13:20:00\",\"1970-01-01T13:20:00\",\"1970-01-01T13:20:00\",\"1970-01-01T01:48:20\",\"1970-01-01T01:48:20\",\"1970-01-01T02:30:00\",\"1970-01-01T02:30:00\",\"1970-01-01T02:30:00\",\"1970-01-01T05:25:00\",\"1970-01-01T05:25:00\",\"1970-01-01T06:06:40\",\"1970-01-01T06:06:40\",\"1970-01-01T06:06:40\",\"1970-01-01T09:01:40\",\"1970-01-01T09:01:40\",\"1970-01-01T09:43:20\",\"1970-01-01T09:43:20\",\"1970-01-01T09:43:20\",\"1970-01-01T12:38:20\",\"1970-01-01T12:38:20\",\"1970-01-01T13:20:00\",\"1970-01-01T13:20:00\",\"1970-01-01T13:20:00\"],\"y\":[\"barge2\",\"barge2\",\"barge2\",\"barge2\",null,\"barge2\",\"barge2\",\"barge2\",\"barge2\",null,\"barge2\",\"barge2\",\"barge2\",\"barge2\",null,\"barge2\",\"barge2\",\"barge2\",\"barge2\",null,\"from_site\",\"from_site\",\"from_site\",\"from_site\",null,\"from_site\",\"from_site\",\"from_site\",\"from_site\",null,\"from_site\",\"from_site\",\"from_site\",\"from_site\",null,\"from_site\",\"from_site\",\"from_site\",\"from_site\",null],\"type\":\"scatter\"},{\"connectgaps\":false,\"hoverinfo\":\"y+name\",\"line\":{\"color\":\"rgb(45,55,147)\",\"width\":10},\"mode\":\"lines\",\"name\":\"3178379a-346b-428f-9b4b-0854449e2ac6\",\"x\":[\"1970-01-01T03:03:20\",\"1970-01-01T03:03:20\",\"1970-01-01T03:36:40\",\"1970-01-01T03:36:40\",\"1970-01-01T03:36:40\",\"1970-01-01T06:40:00\",\"1970-01-01T06:40:00\",\"1970-01-01T07:13:20\",\"1970-01-01T07:13:20\",\"1970-01-01T07:13:20\",\"1970-01-01T10:16:40\",\"1970-01-01T10:16:40\",\"1970-01-01T10:50:00\",\"1970-01-01T10:50:00\",\"1970-01-01T10:50:00\",\"1970-01-01T13:53:20\",\"1970-01-01T13:53:20\",\"1970-01-01T14:26:40\",\"1970-01-01T14:26:40\",\"1970-01-01T14:26:40\",\"1970-01-01T03:03:20\",\"1970-01-01T03:03:20\",\"1970-01-01T03:36:40\",\"1970-01-01T03:36:40\",\"1970-01-01T03:36:40\",\"1970-01-01T06:40:00\",\"1970-01-01T06:40:00\",\"1970-01-01T07:13:20\",\"1970-01-01T07:13:20\",\"1970-01-01T07:13:20\",\"1970-01-01T10:16:40\",\"1970-01-01T10:16:40\",\"1970-01-01T10:50:00\",\"1970-01-01T10:50:00\",\"1970-01-01T10:50:00\",\"1970-01-01T13:53:20\",\"1970-01-01T13:53:20\",\"1970-01-01T14:26:40\",\"1970-01-01T14:26:40\",\"1970-01-01T14:26:40\"],\"y\":[\"barge2\",\"barge2\",\"barge2\",\"barge2\",null,\"barge2\",\"barge2\",\"barge2\",\"barge2\",null,\"barge2\",\"barge2\",\"barge2\",\"barge2\",null,\"barge2\",\"barge2\",\"barge2\",\"barge2\",null,\"to_site\",\"to_site\",\"to_site\",\"to_site\",null,\"to_site\",\"to_site\",\"to_site\",\"to_site\",null,\"to_site\",\"to_site\",\"to_site\",\"to_site\",null,\"to_site\",\"to_site\",\"to_site\",\"to_site\",null],\"type\":\"scatter\"},{\"connectgaps\":false,\"hoverinfo\":\"y+name\",\"line\":{\"color\":\"rgb(57,67,159)\",\"width\":10},\"mode\":\"lines\",\"name\":\"95d86b2a-1964-4b0d-bea8-c43acf1b9709\",\"x\":[\"1970-01-01T00:33:20\",\"1970-01-01T00:33:20\",\"1970-01-01T01:10:50\",\"1970-01-01T01:10:50\",\"1970-01-01T01:10:50\",\"1970-01-01T04:10:00\",\"1970-01-01T04:10:00\",\"1970-01-01T04:47:30\",\"1970-01-01T04:47:30\",\"1970-01-01T04:47:30\",\"1970-01-01T07:46:40\",\"1970-01-01T07:46:40\",\"1970-01-01T08:24:10\",\"1970-01-01T08:24:10\",\"1970-01-01T08:24:10\",\"1970-01-01T11:23:20\",\"1970-01-01T11:23:20\",\"1970-01-01T12:00:50\",\"1970-01-01T12:00:50\",\"1970-01-01T12:00:50\"],\"y\":[\"barge2\",\"barge2\",\"barge2\",\"barge2\",null,\"barge2\",\"barge2\",\"barge2\",\"barge2\",null,\"barge2\",\"barge2\",\"barge2\",\"barge2\",null,\"barge2\",\"barge2\",\"barge2\",\"barge2\",null],\"type\":\"scatter\"},{\"connectgaps\":false,\"hoverinfo\":\"y+name\",\"line\":{\"color\":\"rgb(69,79,171)\",\"width\":10},\"mode\":\"lines\",\"name\":\"5b1fa073-4e45-42ce-ab33-8c35375aca89\",\"x\":[\"1970-01-01T15:11:40\",\"1970-01-01T15:11:40\",\"1970-01-01T15:13:20\",\"1970-01-01T15:13:20\",\"1970-01-01T15:13:20\"],\"y\":[\"vessel_last\",\"vessel_last\",\"vessel_last\",\"vessel_last\",null],\"type\":\"scatter\"},{\"connectgaps\":false,\"hoverinfo\":\"y+name\",\"line\":{\"color\":\"rgb(81,91,183)\",\"width\":10},\"mode\":\"lines\",\"name\":\"c0e22d74-5de8-4624-ae2f-ba085746c49f\",\"x\":[\"1970-01-01T14:30:00\",\"1970-01-01T14:30:00\",\"1970-01-01T15:11:40\",\"1970-01-01T15:11:40\",\"1970-01-01T15:11:40\",\"1970-01-01T14:30:00\",\"1970-01-01T14:30:00\",\"1970-01-01T15:11:40\",\"1970-01-01T15:11:40\",\"1970-01-01T15:11:40\"],\"y\":[\"vessel_last\",\"vessel_last\",\"vessel_last\",\"vessel_last\",null,\"to_site\",\"to_site\",\"to_site\",\"to_site\",null],\"type\":\"scatter\"},{\"connectgaps\":false,\"hoverinfo\":\"y+name\",\"line\":{\"color\":\"rgb(93,103,195)\",\"width\":10},\"mode\":\"lines\",\"name\":\"0f68039e-26c2-402c-8e0b-77dac7fc65d7\",\"x\":[\"1970-01-01T14:28:20\",\"1970-01-01T14:28:20\",\"1970-01-01T14:30:00\",\"1970-01-01T14:30:00\",\"1970-01-01T14:30:00\"],\"y\":[\"vessel_last\",\"vessel_last\",\"vessel_last\",\"vessel_last\",null],\"type\":\"scatter\"},{\"connectgaps\":false,\"hoverinfo\":\"y+name\",\"line\":{\"color\":\"rgb(105,115,207)\",\"width\":10},\"mode\":\"lines\",\"name\":\"85426a10-44c8-4d13-8c68-fcf4d1d33764\",\"x\":[\"1970-01-01T14:26:40\",\"1970-01-01T14:26:40\",\"1970-01-01T14:28:20\",\"1970-01-01T14:28:20\",\"1970-01-01T14:28:20\"],\"y\":[\"vessel_last\",\"vessel_last\",\"vessel_last\",\"vessel_last\",null],\"type\":\"scatter\"},{\"connectgaps\":false,\"hoverinfo\":\"y+name\",\"line\":{\"color\":\"rgb(117,127,219)\",\"width\":10},\"mode\":\"lines\",\"name\":\"0c7c4c14-7f78-415a-809f-15718e3e899e\",\"x\":[\"1970-01-01T15:13:20\",\"1970-01-01T15:13:20\",\"1970-01-01T15:15:00\",\"1970-01-01T15:15:00\",\"1970-01-01T15:15:00\",\"1970-01-01T15:13:20\",\"1970-01-01T15:13:20\",\"1970-01-01T15:15:00\",\"1970-01-01T15:15:00\",\"1970-01-01T15:15:00\"],\"y\":[\"vessel_last\",\"vessel_last\",\"vessel_last\",\"vessel_last\",null,\"to_site2\",\"to_site2\",\"to_site2\",\"to_site2\",null],\"type\":\"scatter\"},{\"connectgaps\":false,\"hoverinfo\":\"y+name\",\"line\":{\"color\":\"rgb(129,139,231)\",\"width\":10},\"mode\":\"lines\",\"name\":\"8c75e7b7-dfef-415c-981a-76f6a92c6084\",\"x\":[\"1970-01-01T01:48:20\",\"1970-01-01T01:48:20\",\"1970-01-01T02:30:00\",\"1970-01-01T02:30:00\",\"1970-01-01T02:30:00\",\"1970-01-01T05:25:00\",\"1970-01-01T05:25:00\",\"1970-01-01T06:06:40\",\"1970-01-01T06:06:40\",\"1970-01-01T06:06:40\",\"1970-01-01T09:01:40\",\"1970-01-01T09:01:40\",\"1970-01-01T09:43:20\",\"1970-01-01T09:43:20\",\"1970-01-01T09:43:20\",\"1970-01-01T12:38:20\",\"1970-01-01T12:38:20\",\"1970-01-01T13:20:00\",\"1970-01-01T13:20:00\",\"1970-01-01T13:20:00\",\"1970-01-01T01:48:20\",\"1970-01-01T01:48:20\",\"1970-01-01T02:30:00\",\"1970-01-01T02:30:00\",\"1970-01-01T02:30:00\",\"1970-01-01T05:25:00\",\"1970-01-01T05:25:00\",\"1970-01-01T06:06:40\",\"1970-01-01T06:06:40\",\"1970-01-01T06:06:40\",\"1970-01-01T09:01:40\",\"1970-01-01T09:01:40\",\"1970-01-01T09:43:20\",\"1970-01-01T09:43:20\",\"1970-01-01T09:43:20\",\"1970-01-01T12:38:20\",\"1970-01-01T12:38:20\",\"1970-01-01T13:20:00\",\"1970-01-01T13:20:00\",\"1970-01-01T13:20:00\"],\"y\":[\"barge2\",\"barge2\",\"barge2\",\"barge2\",null,\"barge2\",\"barge2\",\"barge2\",\"barge2\",null,\"barge2\",\"barge2\",\"barge2\",\"barge2\",null,\"barge2\",\"barge2\",\"barge2\",\"barge2\",null,\"from_site\",\"from_site\",\"from_site\",\"from_site\",null,\"from_site\",\"from_site\",\"from_site\",\"from_site\",null,\"from_site\",\"from_site\",\"from_site\",\"from_site\",null,\"from_site\",\"from_site\",\"from_site\",\"from_site\",null],\"type\":\"scatter\"},{\"connectgaps\":false,\"hoverinfo\":\"y+name\",\"line\":{\"color\":\"rgb(141,151,243)\",\"width\":10},\"mode\":\"lines\",\"name\":\"7d3270db-0549-420f-9a5a-55ed687dd0cc\",\"x\":[\"1970-01-01T01:48:20\",\"1970-01-01T01:48:20\",\"1970-01-01T02:30:00\",\"1970-01-01T02:30:00\",\"1970-01-01T02:30:00\",\"1970-01-01T05:25:00\",\"1970-01-01T05:25:00\",\"1970-01-01T06:06:40\",\"1970-01-01T06:06:40\",\"1970-01-01T06:06:40\",\"1970-01-01T01:48:20\",\"1970-01-01T01:48:20\",\"1970-01-01T02:30:00\",\"1970-01-01T02:30:00\",\"1970-01-01T02:30:00\",\"1970-01-01T05:25:00\",\"1970-01-01T05:25:00\",\"1970-01-01T06:06:40\",\"1970-01-01T06:06:40\",\"1970-01-01T06:06:40\"],\"y\":[\"barge1\",\"barge1\",\"barge1\",\"barge1\",null,\"barge1\",\"barge1\",\"barge1\",\"barge1\",null,\"from_site\",\"from_site\",\"from_site\",\"from_site\",null,\"from_site\",\"from_site\",\"from_site\",\"from_site\",null],\"type\":\"scatter\"},{\"connectgaps\":false,\"hoverinfo\":\"y+name\",\"line\":{\"color\":\"rgb(153,163,255)\",\"width\":10},\"mode\":\"lines\",\"name\":\"86614d66-a3fa-4925-b3f4-5fd62e981860\",\"x\":[\"1970-01-01T03:03:20\",\"1970-01-01T03:03:20\",\"1970-01-01T03:36:40\",\"1970-01-01T03:36:40\",\"1970-01-01T03:36:40\",\"1970-01-01T06:40:00\",\"1970-01-01T06:40:00\",\"1970-01-01T07:13:20\",\"1970-01-01T07:13:20\",\"1970-01-01T07:13:20\",\"1970-01-01T03:03:20\",\"1970-01-01T03:03:20\",\"1970-01-01T03:36:40\",\"1970-01-01T03:36:40\",\"1970-01-01T03:36:40\",\"1970-01-01T06:40:00\",\"1970-01-01T06:40:00\",\"1970-01-01T07:13:20\",\"1970-01-01T07:13:20\",\"1970-01-01T07:13:20\"],\"y\":[\"barge1\",\"barge1\",\"barge1\",\"barge1\",null,\"barge1\",\"barge1\",\"barge1\",\"barge1\",null,\"to_site\",\"to_site\",\"to_site\",\"to_site\",null,\"to_site\",\"to_site\",\"to_site\",\"to_site\",null],\"type\":\"scatter\"},{\"connectgaps\":false,\"hoverinfo\":\"y+name\",\"line\":{\"color\":\"rgb(165,175,11)\",\"width\":10},\"mode\":\"lines\",\"name\":\"3178379a-346b-428f-9b4b-0854449e2ac6\",\"x\":[\"1970-01-01T03:03:20\",\"1970-01-01T03:03:20\",\"1970-01-01T03:36:40\",\"1970-01-01T03:36:40\",\"1970-01-01T03:36:40\",\"1970-01-01T06:40:00\",\"1970-01-01T06:40:00\",\"1970-01-01T07:13:20\",\"1970-01-01T07:13:20\",\"1970-01-01T07:13:20\",\"1970-01-01T10:16:40\",\"1970-01-01T10:16:40\",\"1970-01-01T10:50:00\",\"1970-01-01T10:50:00\",\"1970-01-01T10:50:00\",\"1970-01-01T13:53:20\",\"1970-01-01T13:53:20\",\"1970-01-01T14:26:40\",\"1970-01-01T14:26:40\",\"1970-01-01T14:26:40\",\"1970-01-01T03:03:20\",\"1970-01-01T03:03:20\",\"1970-01-01T03:36:40\",\"1970-01-01T03:36:40\",\"1970-01-01T03:36:40\",\"1970-01-01T06:40:00\",\"1970-01-01T06:40:00\",\"1970-01-01T07:13:20\",\"1970-01-01T07:13:20\",\"1970-01-01T07:13:20\",\"1970-01-01T10:16:40\",\"1970-01-01T10:16:40\",\"1970-01-01T10:50:00\",\"1970-01-01T10:50:00\",\"1970-01-01T10:50:00\",\"1970-01-01T13:53:20\",\"1970-01-01T13:53:20\",\"1970-01-01T14:26:40\",\"1970-01-01T14:26:40\",\"1970-01-01T14:26:40\"],\"y\":[\"barge2\",\"barge2\",\"barge2\",\"barge2\",null,\"barge2\",\"barge2\",\"barge2\",\"barge2\",null,\"barge2\",\"barge2\",\"barge2\",\"barge2\",null,\"barge2\",\"barge2\",\"barge2\",\"barge2\",null,\"to_site\",\"to_site\",\"to_site\",\"to_site\",null,\"to_site\",\"to_site\",\"to_site\",\"to_site\",null,\"to_site\",\"to_site\",\"to_site\",\"to_site\",null,\"to_site\",\"to_site\",\"to_site\",\"to_site\",null],\"type\":\"scatter\"},{\"connectgaps\":false,\"hoverinfo\":\"y+name\",\"line\":{\"color\":\"rgb(177,187,23)\",\"width\":10},\"mode\":\"lines\",\"name\":\"c0e22d74-5de8-4624-ae2f-ba085746c49f\",\"x\":[\"1970-01-01T14:30:00\",\"1970-01-01T14:30:00\",\"1970-01-01T15:11:40\",\"1970-01-01T15:11:40\",\"1970-01-01T15:11:40\",\"1970-01-01T14:30:00\",\"1970-01-01T14:30:00\",\"1970-01-01T15:11:40\",\"1970-01-01T15:11:40\",\"1970-01-01T15:11:40\"],\"y\":[\"vessel_last\",\"vessel_last\",\"vessel_last\",\"vessel_last\",null,\"to_site\",\"to_site\",\"to_site\",\"to_site\",null],\"type\":\"scatter\"},{\"connectgaps\":false,\"hoverinfo\":\"y+name\",\"line\":{\"color\":\"rgb(189,199,35)\",\"width\":10},\"mode\":\"lines\",\"name\":\"0c7c4c14-7f78-415a-809f-15718e3e899e\",\"x\":[\"1970-01-01T15:13:20\",\"1970-01-01T15:13:20\",\"1970-01-01T15:15:00\",\"1970-01-01T15:15:00\",\"1970-01-01T15:15:00\",\"1970-01-01T15:13:20\",\"1970-01-01T15:13:20\",\"1970-01-01T15:15:00\",\"1970-01-01T15:15:00\",\"1970-01-01T15:15:00\"],\"y\":[\"vessel_last\",\"vessel_last\",\"vessel_last\",\"vessel_last\",null,\"to_site2\",\"to_site2\",\"to_site2\",\"to_site2\",null],\"type\":\"scatter\"}],                        {\"hovermode\":\"closest\",\"legend\":{\"orientation\":\"h\",\"x\":0,\"y\":-0.2},\"template\":{\"data\":{\"barpolar\":[{\"marker\":{\"line\":{\"color\":\"#E5ECF6\",\"width\":0.5},\"pattern\":{\"fillmode\":\"overlay\",\"size\":10,\"solidity\":0.2}},\"type\":\"barpolar\"}],\"bar\":[{\"error_x\":{\"color\":\"#2a3f5f\"},\"error_y\":{\"color\":\"#2a3f5f\"},\"marker\":{\"line\":{\"color\":\"#E5ECF6\",\"width\":0.5},\"pattern\":{\"fillmode\":\"overlay\",\"size\":10,\"solidity\":0.2}},\"type\":\"bar\"}],\"carpet\":[{\"aaxis\":{\"endlinecolor\":\"#2a3f5f\",\"gridcolor\":\"white\",\"linecolor\":\"white\",\"minorgridcolor\":\"white\",\"startlinecolor\":\"#2a3f5f\"},\"baxis\":{\"endlinecolor\":\"#2a3f5f\",\"gridcolor\":\"white\",\"linecolor\":\"white\",\"minorgridcolor\":\"white\",\"startlinecolor\":\"#2a3f5f\"},\"type\":\"carpet\"}],\"choropleth\":[{\"colorbar\":{\"outlinewidth\":0,\"ticks\":\"\"},\"type\":\"choropleth\"}],\"contourcarpet\":[{\"colorbar\":{\"outlinewidth\":0,\"ticks\":\"\"},\"type\":\"contourcarpet\"}],\"contour\":[{\"colorbar\":{\"outlinewidth\":0,\"ticks\":\"\"},\"colorscale\":[[0.0,\"#0d0887\"],[0.1111111111111111,\"#46039f\"],[0.2222222222222222,\"#7201a8\"],[0.3333333333333333,\"#9c179e\"],[0.4444444444444444,\"#bd3786\"],[0.5555555555555556,\"#d8576b\"],[0.6666666666666666,\"#ed7953\"],[0.7777777777777778,\"#fb9f3a\"],[0.8888888888888888,\"#fdca26\"],[1.0,\"#f0f921\"]],\"type\":\"contour\"}],\"heatmapgl\":[{\"colorbar\":{\"outlinewidth\":0,\"ticks\":\"\"},\"colorscale\":[[0.0,\"#0d0887\"],[0.1111111111111111,\"#46039f\"],[0.2222222222222222,\"#7201a8\"],[0.3333333333333333,\"#9c179e\"],[0.4444444444444444,\"#bd3786\"],[0.5555555555555556,\"#d8576b\"],[0.6666666666666666,\"#ed7953\"],[0.7777777777777778,\"#fb9f3a\"],[0.8888888888888888,\"#fdca26\"],[1.0,\"#f0f921\"]],\"type\":\"heatmapgl\"}],\"heatmap\":[{\"colorbar\":{\"outlinewidth\":0,\"ticks\":\"\"},\"colorscale\":[[0.0,\"#0d0887\"],[0.1111111111111111,\"#46039f\"],[0.2222222222222222,\"#7201a8\"],[0.3333333333333333,\"#9c179e\"],[0.4444444444444444,\"#bd3786\"],[0.5555555555555556,\"#d8576b\"],[0.6666666666666666,\"#ed7953\"],[0.7777777777777778,\"#fb9f3a\"],[0.8888888888888888,\"#fdca26\"],[1.0,\"#f0f921\"]],\"type\":\"heatmap\"}],\"histogram2dcontour\":[{\"colorbar\":{\"outlinewidth\":0,\"ticks\":\"\"},\"colorscale\":[[0.0,\"#0d0887\"],[0.1111111111111111,\"#46039f\"],[0.2222222222222222,\"#7201a8\"],[0.3333333333333333,\"#9c179e\"],[0.4444444444444444,\"#bd3786\"],[0.5555555555555556,\"#d8576b\"],[0.6666666666666666,\"#ed7953\"],[0.7777777777777778,\"#fb9f3a\"],[0.8888888888888888,\"#fdca26\"],[1.0,\"#f0f921\"]],\"type\":\"histogram2dcontour\"}],\"histogram2d\":[{\"colorbar\":{\"outlinewidth\":0,\"ticks\":\"\"},\"colorscale\":[[0.0,\"#0d0887\"],[0.1111111111111111,\"#46039f\"],[0.2222222222222222,\"#7201a8\"],[0.3333333333333333,\"#9c179e\"],[0.4444444444444444,\"#bd3786\"],[0.5555555555555556,\"#d8576b\"],[0.6666666666666666,\"#ed7953\"],[0.7777777777777778,\"#fb9f3a\"],[0.8888888888888888,\"#fdca26\"],[1.0,\"#f0f921\"]],\"type\":\"histogram2d\"}],\"histogram\":[{\"marker\":{\"pattern\":{\"fillmode\":\"overlay\",\"size\":10,\"solidity\":0.2}},\"type\":\"histogram\"}],\"mesh3d\":[{\"colorbar\":{\"outlinewidth\":0,\"ticks\":\"\"},\"type\":\"mesh3d\"}],\"parcoords\":[{\"line\":{\"colorbar\":{\"outlinewidth\":0,\"ticks\":\"\"}},\"type\":\"parcoords\"}],\"pie\":[{\"automargin\":true,\"type\":\"pie\"}],\"scatter3d\":[{\"line\":{\"colorbar\":{\"outlinewidth\":0,\"ticks\":\"\"}},\"marker\":{\"colorbar\":{\"outlinewidth\":0,\"ticks\":\"\"}},\"type\":\"scatter3d\"}],\"scattercarpet\":[{\"marker\":{\"colorbar\":{\"outlinewidth\":0,\"ticks\":\"\"}},\"type\":\"scattercarpet\"}],\"scattergeo\":[{\"marker\":{\"colorbar\":{\"outlinewidth\":0,\"ticks\":\"\"}},\"type\":\"scattergeo\"}],\"scattergl\":[{\"marker\":{\"colorbar\":{\"outlinewidth\":0,\"ticks\":\"\"}},\"type\":\"scattergl\"}],\"scattermapbox\":[{\"marker\":{\"colorbar\":{\"outlinewidth\":0,\"ticks\":\"\"}},\"type\":\"scattermapbox\"}],\"scatterpolargl\":[{\"marker\":{\"colorbar\":{\"outlinewidth\":0,\"ticks\":\"\"}},\"type\":\"scatterpolargl\"}],\"scatterpolar\":[{\"marker\":{\"colorbar\":{\"outlinewidth\":0,\"ticks\":\"\"}},\"type\":\"scatterpolar\"}],\"scatter\":[{\"fillpattern\":{\"fillmode\":\"overlay\",\"size\":10,\"solidity\":0.2},\"type\":\"scatter\"}],\"scatterternary\":[{\"marker\":{\"colorbar\":{\"outlinewidth\":0,\"ticks\":\"\"}},\"type\":\"scatterternary\"}],\"surface\":[{\"colorbar\":{\"outlinewidth\":0,\"ticks\":\"\"},\"colorscale\":[[0.0,\"#0d0887\"],[0.1111111111111111,\"#46039f\"],[0.2222222222222222,\"#7201a8\"],[0.3333333333333333,\"#9c179e\"],[0.4444444444444444,\"#bd3786\"],[0.5555555555555556,\"#d8576b\"],[0.6666666666666666,\"#ed7953\"],[0.7777777777777778,\"#fb9f3a\"],[0.8888888888888888,\"#fdca26\"],[1.0,\"#f0f921\"]],\"type\":\"surface\"}],\"table\":[{\"cells\":{\"fill\":{\"color\":\"#EBF0F8\"},\"line\":{\"color\":\"white\"}},\"header\":{\"fill\":{\"color\":\"#C8D4E3\"},\"line\":{\"color\":\"white\"}},\"type\":\"table\"}]},\"layout\":{\"annotationdefaults\":{\"arrowcolor\":\"#2a3f5f\",\"arrowhead\":0,\"arrowwidth\":1},\"autotypenumbers\":\"strict\",\"coloraxis\":{\"colorbar\":{\"outlinewidth\":0,\"ticks\":\"\"}},\"colorscale\":{\"diverging\":[[0,\"#8e0152\"],[0.1,\"#c51b7d\"],[0.2,\"#de77ae\"],[0.3,\"#f1b6da\"],[0.4,\"#fde0ef\"],[0.5,\"#f7f7f7\"],[0.6,\"#e6f5d0\"],[0.7,\"#b8e186\"],[0.8,\"#7fbc41\"],[0.9,\"#4d9221\"],[1,\"#276419\"]],\"sequential\":[[0.0,\"#0d0887\"],[0.1111111111111111,\"#46039f\"],[0.2222222222222222,\"#7201a8\"],[0.3333333333333333,\"#9c179e\"],[0.4444444444444444,\"#bd3786\"],[0.5555555555555556,\"#d8576b\"],[0.6666666666666666,\"#ed7953\"],[0.7777777777777778,\"#fb9f3a\"],[0.8888888888888888,\"#fdca26\"],[1.0,\"#f0f921\"]],\"sequentialminus\":[[0.0,\"#0d0887\"],[0.1111111111111111,\"#46039f\"],[0.2222222222222222,\"#7201a8\"],[0.3333333333333333,\"#9c179e\"],[0.4444444444444444,\"#bd3786\"],[0.5555555555555556,\"#d8576b\"],[0.6666666666666666,\"#ed7953\"],[0.7777777777777778,\"#fb9f3a\"],[0.8888888888888888,\"#fdca26\"],[1.0,\"#f0f921\"]]},\"colorway\":[\"#636efa\",\"#EF553B\",\"#00cc96\",\"#ab63fa\",\"#FFA15A\",\"#19d3f3\",\"#FF6692\",\"#B6E880\",\"#FF97FF\",\"#FECB52\"],\"font\":{\"color\":\"#2a3f5f\"},\"geo\":{\"bgcolor\":\"white\",\"lakecolor\":\"white\",\"landcolor\":\"#E5ECF6\",\"showlakes\":true,\"showland\":true,\"subunitcolor\":\"white\"},\"hoverlabel\":{\"align\":\"left\"},\"hovermode\":\"closest\",\"mapbox\":{\"style\":\"light\"},\"paper_bgcolor\":\"white\",\"plot_bgcolor\":\"#E5ECF6\",\"polar\":{\"angularaxis\":{\"gridcolor\":\"white\",\"linecolor\":\"white\",\"ticks\":\"\"},\"bgcolor\":\"#E5ECF6\",\"radialaxis\":{\"gridcolor\":\"white\",\"linecolor\":\"white\",\"ticks\":\"\"}},\"scene\":{\"xaxis\":{\"backgroundcolor\":\"#E5ECF6\",\"gridcolor\":\"white\",\"gridwidth\":2,\"linecolor\":\"white\",\"showbackground\":true,\"ticks\":\"\",\"zerolinecolor\":\"white\"},\"yaxis\":{\"backgroundcolor\":\"#E5ECF6\",\"gridcolor\":\"white\",\"gridwidth\":2,\"linecolor\":\"white\",\"showbackground\":true,\"ticks\":\"\",\"zerolinecolor\":\"white\"},\"zaxis\":{\"backgroundcolor\":\"#E5ECF6\",\"gridcolor\":\"white\",\"gridwidth\":2,\"linecolor\":\"white\",\"showbackground\":true,\"ticks\":\"\",\"zerolinecolor\":\"white\"}},\"shapedefaults\":{\"line\":{\"color\":\"#2a3f5f\"}},\"ternary\":{\"aaxis\":{\"gridcolor\":\"white\",\"linecolor\":\"white\",\"ticks\":\"\"},\"baxis\":{\"gridcolor\":\"white\",\"linecolor\":\"white\",\"ticks\":\"\"},\"bgcolor\":\"#E5ECF6\",\"caxis\":{\"gridcolor\":\"white\",\"linecolor\":\"white\",\"ticks\":\"\"}},\"title\":{\"x\":0.05},\"xaxis\":{\"automargin\":true,\"gridcolor\":\"white\",\"linecolor\":\"white\",\"ticks\":\"\",\"title\":{\"standoff\":15},\"zerolinecolor\":\"white\",\"zerolinewidth\":2},\"yaxis\":{\"automargin\":true,\"gridcolor\":\"white\",\"linecolor\":\"white\",\"ticks\":\"\",\"title\":{\"standoff\":15},\"zerolinecolor\":\"white\",\"zerolinewidth\":2}}},\"title\":{\"text\":\"GANTT Chart\"},\"xaxis\":{\"range\":[\"1970-01-01T00:00:00\",\"1970-01-01T15:15:00\"],\"title\":{\"font\":{\"color\":\"#7f7f7f\",\"family\":\"Courier New, monospace\",\"size\":18},\"text\":\"Time\"}},\"yaxis\":{\"title\":{\"font\":{\"color\":\"#7f7f7f\",\"family\":\"Courier New, monospace\",\"size\":18},\"text\":\"Activities\"}}},                        {\"responsive\": true}                    ).then(function(){\n",
       "                            \n",
       "var gd = document.getElementById('2838241f-d037-42fd-8fd7-2a8a9ddd3d74');\n",
       "var x = new MutationObserver(function (mutations, observer) {{\n",
       "        var display = window.getComputedStyle(gd).display;\n",
       "        if (!display || display === 'none') {{\n",
       "            console.log([gd, 'removed!']);\n",
       "            Plotly.purge(gd);\n",
       "            observer.disconnect();\n",
       "        }}\n",
       "}});\n",
       "\n",
       "// Listen for the removal of the full notebook cells\n",
       "var notebookContainer = gd.closest('#notebook-container');\n",
       "if (notebookContainer) {{\n",
       "    x.observe(notebookContainer, {childList: true});\n",
       "}}\n",
       "\n",
       "// Listen for the clearing of the current output cell\n",
       "var outputEl = gd.closest('.output');\n",
       "if (outputEl) {{\n",
       "    x.observe(outputEl, {childList: true});\n",
       "}}\n",
       "\n",
       "                        })                };                });            </script>        </div>"
      ]
     },
     "metadata": {},
     "output_type": "display_data"
    }
   ],
   "source": [
    "fig = get_gantt_chart(obj)"
   ]
  },
  {
   "cell_type": "markdown",
   "id": "dc89aa3b",
   "metadata": {},
   "source": [
    "#### Get critical path log and dependencies"
   ]
  },
  {
   "cell_type": "code",
   "execution_count": 4,
   "id": "3e39ee4d",
   "metadata": {},
   "outputs": [
    {
     "name": "stdout",
     "output_type": "stream",
     "text": [
      "-- total elapsed time 0.011001348495483398 seconds\n"
     ]
    },
    {
     "data": {
      "text/html": [
       "        <script type=\"text/javascript\">\n",
       "        window.PlotlyConfig = {MathJaxConfig: 'local'};\n",
       "        if (window.MathJax) {MathJax.Hub.Config({SVG: {font: \"STIX-Web\"}});}\n",
       "        if (typeof require !== 'undefined') {\n",
       "        require.undef(\"plotly\");\n",
       "        requirejs.config({\n",
       "            paths: {\n",
       "                'plotly': ['https://cdn.plot.ly/plotly-2.11.1.min']\n",
       "            }\n",
       "        });\n",
       "        require(['plotly'], function(Plotly) {\n",
       "            window._Plotly = Plotly;\n",
       "        });\n",
       "        }\n",
       "        </script>\n",
       "        "
      ]
     },
     "metadata": {},
     "output_type": "display_data"
    },
    {
     "data": {
      "application/vnd.plotly.v1+json": {
       "config": {
        "linkText": "Export to plot.ly",
        "plotlyServerURL": "https://plot.ly",
        "showLink": false
       },
       "data": [
        {
         "connectgaps": false,
         "hoverinfo": "y+name",
         "line": {
          "color": "#ff0000",
          "width": 10
         },
         "mode": "lines",
         "name": "barge1: basic activity",
         "type": "scatter",
         "x": [
          "1970-01-01T00:00:00",
          "1970-01-01T00:33:20",
          "1970-01-01T00:33:20",
          "1970-01-01T03:36:40",
          "1970-01-01T04:10:00",
          "1970-01-01T04:10:00"
         ],
         "y": [
          "barge1",
          "barge1",
          null,
          "barge1",
          "barge1",
          null,
          "barge1",
          "barge1",
          null,
          "barge1",
          "barge1",
          null,
          "barge1",
          "barge1",
          null,
          "barge1",
          "barge1",
          null
         ]
        },
        {
         "connectgaps": false,
         "hoverinfo": "y+name",
         "line": {
          "color": "#bfbfbf",
          "width": 10
         },
         "mode": "lines",
         "name": "barge1: sailing empty delay",
         "type": "scatter",
         "x": [
          "1970-01-01T00:33:20",
          "1970-01-01T01:10:50",
          "1970-01-01T01:10:50",
          "1970-01-01T04:10:00",
          "1970-01-01T04:47:30",
          "1970-01-01T04:47:30"
         ],
         "y": [
          "barge1",
          "barge1",
          null,
          "barge1",
          "barge1",
          null,
          "barge1",
          "barge1",
          null,
          "barge1",
          "barge1",
          null,
          "barge1",
          "barge1",
          null,
          "barge1",
          "barge1",
          null
         ]
        },
        {
         "connectgaps": false,
         "hoverinfo": "y+name",
         "line": {
          "color": "#305496",
          "width": 10
         },
         "mode": "lines",
         "name": "barge1: loading",
         "type": "scatter",
         "x": [
          "1970-01-01T01:48:20",
          "1970-01-01T02:30:00",
          "1970-01-01T02:30:00",
          "1970-01-01T05:25:00",
          "1970-01-01T06:06:40",
          "1970-01-01T06:06:40"
         ],
         "y": [
          "barge1",
          "barge1",
          null,
          "barge1",
          "barge1",
          null,
          "barge1",
          "barge1",
          null,
          "barge1",
          "barge1",
          null,
          "barge1",
          "barge1",
          null,
          "barge1",
          "barge1",
          null
         ]
        },
        {
         "connectgaps": false,
         "hoverinfo": "y+name",
         "line": {
          "color": "#00b0f0",
          "width": 10
         },
         "mode": "lines",
         "name": "barge1: sailing full",
         "type": "scatter",
         "x": [
          "1970-01-01T02:30:00",
          "1970-01-01T03:03:20",
          "1970-01-01T03:03:20",
          "1970-01-01T06:06:40",
          "1970-01-01T06:40:00",
          "1970-01-01T06:40:00"
         ],
         "y": [
          "barge1",
          "barge1",
          null,
          "barge1",
          "barge1",
          null,
          "barge1",
          "barge1",
          null,
          "barge1",
          "barge1",
          null,
          "barge1",
          "barge1",
          null,
          "barge1",
          "barge1",
          null
         ]
        },
        {
         "connectgaps": false,
         "hoverinfo": "y+name",
         "line": {
          "color": "#ffff00",
          "width": 10
         },
         "mode": "lines",
         "name": "barge1: unloading",
         "type": "scatter",
         "x": [
          "1970-01-01T03:03:20",
          "1970-01-01T03:36:40",
          "1970-01-01T03:36:40",
          "1970-01-01T06:40:00",
          "1970-01-01T07:13:20",
          "1970-01-01T07:13:20"
         ],
         "y": [
          "barge1",
          "barge1",
          null,
          "barge1",
          "barge1",
          null,
          "barge1",
          "barge1",
          null,
          "barge1",
          "barge1",
          null,
          "barge1",
          "barge1",
          null,
          "barge1",
          "barge1",
          null
         ]
        },
        {
         "connectgaps": false,
         "hoverinfo": "y+name",
         "line": {
          "color": "#00b050",
          "width": 10
         },
         "mode": "lines",
         "name": "barge2: basic activity",
         "type": "scatter",
         "x": [
          "1970-01-01T00:00:00",
          "1970-01-01T00:33:20",
          "1970-01-01T00:33:20",
          "1970-01-01T03:36:40",
          "1970-01-01T04:10:00",
          "1970-01-01T04:10:00",
          "1970-01-01T07:13:20",
          "1970-01-01T07:46:40",
          "1970-01-01T07:46:40",
          "1970-01-01T10:50:00",
          "1970-01-01T11:23:20",
          "1970-01-01T11:23:20"
         ],
         "y": [
          "barge2",
          "barge2",
          null,
          "barge2",
          "barge2",
          null,
          "barge2",
          "barge2",
          null,
          "barge2",
          "barge2",
          null,
          "barge2",
          "barge2",
          null,
          "barge2",
          "barge2",
          null,
          "barge2",
          "barge2",
          null,
          "barge2",
          "barge2",
          null,
          "barge2",
          "barge2",
          null,
          "barge2",
          "barge2",
          null,
          "barge2",
          "barge2",
          null,
          "barge2",
          "barge2",
          null
         ]
        },
        {
         "connectgaps": false,
         "hoverinfo": "y+name",
         "line": {
          "color": "#990101",
          "width": 10
         },
         "mode": "lines",
         "name": "barge2: sailing empty delay",
         "type": "scatter",
         "x": [
          "1970-01-01T00:33:20",
          "1970-01-01T01:10:50",
          "1970-01-01T01:10:50",
          "1970-01-01T04:10:00",
          "1970-01-01T04:47:30",
          "1970-01-01T04:47:30",
          "1970-01-01T07:46:40",
          "1970-01-01T08:24:10",
          "1970-01-01T08:24:10",
          "1970-01-01T11:23:20",
          "1970-01-01T12:00:50",
          "1970-01-01T12:00:50"
         ],
         "y": [
          "barge2",
          "barge2",
          null,
          "barge2",
          "barge2",
          null,
          "barge2",
          "barge2",
          null,
          "barge2",
          "barge2",
          null,
          "barge2",
          "barge2",
          null,
          "barge2",
          "barge2",
          null,
          "barge2",
          "barge2",
          null,
          "barge2",
          "barge2",
          null,
          "barge2",
          "barge2",
          null,
          "barge2",
          "barge2",
          null,
          "barge2",
          "barge2",
          null,
          "barge2",
          "barge2",
          null
         ]
        },
        {
         "connectgaps": false,
         "hoverinfo": "y+name",
         "line": {
          "color": "#ED7D31",
          "width": 10
         },
         "mode": "lines",
         "name": "barge2: loading",
         "type": "scatter",
         "x": [
          "1970-01-01T01:48:20",
          "1970-01-01T02:30:00",
          "1970-01-01T02:30:00",
          "1970-01-01T05:25:00",
          "1970-01-01T06:06:40",
          "1970-01-01T06:06:40",
          "1970-01-01T09:01:40",
          "1970-01-01T09:43:20",
          "1970-01-01T09:43:20",
          "1970-01-01T12:38:20",
          "1970-01-01T13:20:00",
          "1970-01-01T13:20:00"
         ],
         "y": [
          "barge2",
          "barge2",
          null,
          "barge2",
          "barge2",
          null,
          "barge2",
          "barge2",
          null,
          "barge2",
          "barge2",
          null,
          "barge2",
          "barge2",
          null,
          "barge2",
          "barge2",
          null,
          "barge2",
          "barge2",
          null,
          "barge2",
          "barge2",
          null,
          "barge2",
          "barge2",
          null,
          "barge2",
          "barge2",
          null,
          "barge2",
          "barge2",
          null,
          "barge2",
          "barge2",
          null
         ]
        },
        {
         "connectgaps": false,
         "hoverinfo": "y+name",
         "line": {
          "color": "#7030A0",
          "width": 10
         },
         "mode": "lines",
         "name": "barge2: sailing full",
         "type": "scatter",
         "x": [
          "1970-01-01T02:30:00",
          "1970-01-01T03:03:20",
          "1970-01-01T03:03:20",
          "1970-01-01T06:06:40",
          "1970-01-01T06:40:00",
          "1970-01-01T06:40:00",
          "1970-01-01T09:43:20",
          "1970-01-01T10:16:40",
          "1970-01-01T10:16:40",
          "1970-01-01T13:20:00",
          "1970-01-01T13:53:20",
          "1970-01-01T13:53:20"
         ],
         "y": [
          "barge2",
          "barge2",
          null,
          "barge2",
          "barge2",
          null,
          "barge2",
          "barge2",
          null,
          "barge2",
          "barge2",
          null,
          "barge2",
          "barge2",
          null,
          "barge2",
          "barge2",
          null,
          "barge2",
          "barge2",
          null,
          "barge2",
          "barge2",
          null,
          "barge2",
          "barge2",
          null,
          "barge2",
          "barge2",
          null,
          "barge2",
          "barge2",
          null,
          "barge2",
          "barge2",
          null
         ]
        },
        {
         "connectgaps": false,
         "hoverinfo": "y+name",
         "line": {
          "color": "#1EB299",
          "width": 10
         },
         "mode": "lines",
         "name": "barge2: unloading",
         "type": "scatter",
         "x": [
          "1970-01-01T03:03:20",
          "1970-01-01T03:36:40",
          "1970-01-01T03:36:40",
          "1970-01-01T06:40:00",
          "1970-01-01T07:13:20",
          "1970-01-01T07:13:20",
          "1970-01-01T10:16:40",
          "1970-01-01T10:50:00",
          "1970-01-01T10:50:00",
          "1970-01-01T13:53:20",
          "1970-01-01T14:26:40",
          "1970-01-01T14:26:40"
         ],
         "y": [
          "barge2",
          "barge2",
          null,
          "barge2",
          "barge2",
          null,
          "barge2",
          "barge2",
          null,
          "barge2",
          "barge2",
          null,
          "barge2",
          "barge2",
          null,
          "barge2",
          "barge2",
          null,
          "barge2",
          "barge2",
          null,
          "barge2",
          "barge2",
          null,
          "barge2",
          "barge2",
          null,
          "barge2",
          "barge2",
          null,
          "barge2",
          "barge2",
          null,
          "barge2",
          "barge2",
          null
         ]
        },
        {
         "connectgaps": false,
         "hoverinfo": "y+name",
         "line": {
          "color": "#483700",
          "width": 10
         },
         "mode": "lines",
         "name": "vessel_last: basic activity",
         "type": "scatter",
         "x": [
          "1970-01-01T00:00:00",
          "1970-01-01T14:26:40",
          "1970-01-01T14:26:40",
          "1970-01-01T14:26:40",
          "1970-01-01T14:28:20",
          "1970-01-01T14:28:20"
         ],
         "y": [
          "vessel_last",
          "vessel_last",
          null,
          "vessel_last",
          "vessel_last",
          null,
          "vessel_last",
          "vessel_last",
          null,
          "vessel_last",
          "vessel_last",
          null,
          "vessel_last",
          "vessel_last",
          null,
          "vessel_last",
          "vessel_last",
          null
         ]
        },
        {
         "connectgaps": false,
         "hoverinfo": "y+name",
         "line": {
          "color": "#CCECFF",
          "width": 10
         },
         "mode": "lines",
         "name": "vessel_last: sailing empty",
         "type": "scatter",
         "x": [
          "1970-01-01T14:28:20",
          "1970-01-01T14:30:00",
          "1970-01-01T14:30:00"
         ],
         "y": [
          "vessel_last",
          "vessel_last",
          null,
          "vessel_last",
          "vessel_last",
          null,
          "vessel_last",
          "vessel_last",
          null
         ]
        },
        {
         "connectgaps": false,
         "hoverinfo": "y+name",
         "line": {
          "color": "#c6e0b4",
          "width": 10
         },
         "mode": "lines",
         "name": "vessel_last:loading",
         "type": "scatter",
         "x": [
          "1970-01-01T14:30:00",
          "1970-01-01T15:11:40",
          "1970-01-01T15:11:40"
         ],
         "y": [
          "vessel_last",
          "vessel_last",
          null,
          "vessel_last",
          "vessel_last",
          null,
          "vessel_last",
          "vessel_last",
          null
         ]
        },
        {
         "connectgaps": false,
         "hoverinfo": "y+name",
         "line": {
          "color": "#525252",
          "width": 10
         },
         "mode": "lines",
         "name": "vessel_last: sailing full",
         "type": "scatter",
         "x": [
          "1970-01-01T15:11:40",
          "1970-01-01T15:13:20",
          "1970-01-01T15:13:20"
         ],
         "y": [
          "vessel_last",
          "vessel_last",
          null,
          "vessel_last",
          "vessel_last",
          null,
          "vessel_last",
          "vessel_last",
          null
         ]
        },
        {
         "connectgaps": false,
         "hoverinfo": "y+name",
         "line": {
          "color": "#f8cbad",
          "width": 10
         },
         "mode": "lines",
         "name": "vessel_last: unloading",
         "type": "scatter",
         "x": [
          "1970-01-01T15:13:20",
          "1970-01-01T15:15:00",
          "1970-01-01T15:15:00"
         ],
         "y": [
          "vessel_last",
          "vessel_last",
          null,
          "vessel_last",
          "vessel_last",
          null,
          "vessel_last",
          "vessel_last",
          null
         ]
        },
        {
         "connectgaps": false,
         "hoverinfo": "y+name",
         "line": {
          "color": "#bf95df",
          "width": 10
         },
         "mode": "lines",
         "name": "barge2: sailing empty delay",
         "type": "scatter",
         "x": [
          "1970-01-01T01:10:50",
          "1970-01-01T01:48:20",
          "1970-01-01T01:48:20",
          "1970-01-01T04:47:30",
          "1970-01-01T05:25:00",
          "1970-01-01T05:25:00",
          "1970-01-01T08:24:10",
          "1970-01-01T09:01:40",
          "1970-01-01T09:01:40",
          "1970-01-01T12:00:50",
          "1970-01-01T12:38:20",
          "1970-01-01T12:38:20"
         ],
         "y": [
          "WAIT",
          "WAIT",
          null,
          "WAIT",
          "WAIT",
          null,
          "WAIT",
          "WAIT",
          null,
          "WAIT",
          "WAIT",
          null,
          "WAIT",
          "WAIT",
          null,
          "WAIT",
          "WAIT",
          null,
          "WAIT",
          "WAIT",
          null,
          "WAIT",
          "WAIT",
          null,
          "WAIT",
          "WAIT",
          null,
          "WAIT",
          "WAIT",
          null,
          "WAIT",
          "WAIT",
          null,
          "WAIT",
          "WAIT",
          null
         ]
        },
        {
         "connectgaps": false,
         "hoverinfo": "y+name",
         "line": {
          "color": "darkred",
          "width": 10
         },
         "mode": "lines",
         "name": "barge1: sailing empty delay",
         "type": "scatter",
         "x": [
          "1970-01-01T01:10:50",
          "1970-01-01T01:48:20",
          "1970-01-01T01:48:20",
          "1970-01-01T04:47:30",
          "1970-01-01T05:25:00",
          "1970-01-01T05:25:00"
         ],
         "y": [
          "WAIT",
          "WAIT",
          null,
          "WAIT",
          "WAIT",
          null,
          "WAIT",
          "WAIT",
          null,
          "WAIT",
          "WAIT",
          null,
          "WAIT",
          "WAIT",
          null,
          "WAIT",
          "WAIT",
          null
         ]
        },
        {
         "connectgaps": false,
         "hoverinfo": "y+name",
         "line": {
          "color": "magenta",
          "width": 10
         },
         "mode": "lines",
         "name": "barge2: loading",
         "type": "scatter",
         "x": [
          "1970-01-01T01:48:20",
          "1970-01-01T02:30:00",
          "1970-01-01T02:30:00",
          "1970-01-01T05:25:00",
          "1970-01-01T06:06:40",
          "1970-01-01T06:06:40",
          "1970-01-01T09:01:40",
          "1970-01-01T09:43:20",
          "1970-01-01T09:43:20",
          "1970-01-01T12:38:20",
          "1970-01-01T13:20:00",
          "1970-01-01T13:20:00"
         ],
         "y": [
          "from_site",
          "from_site",
          null,
          "from_site",
          "from_site",
          null,
          "from_site",
          "from_site",
          null,
          "from_site",
          "from_site",
          null,
          "from_site",
          "from_site",
          null,
          "from_site",
          "from_site",
          null,
          "from_site",
          "from_site",
          null,
          "from_site",
          "from_site",
          null,
          "from_site",
          "from_site",
          null,
          "from_site",
          "from_site",
          null,
          "from_site",
          "from_site",
          null,
          "from_site",
          "from_site",
          null
         ]
        },
        {
         "connectgaps": false,
         "hoverinfo": "y+name",
         "line": {
          "color": "cyan",
          "width": 10
         },
         "mode": "lines",
         "name": "barge1: loading",
         "type": "scatter",
         "x": [
          "1970-01-01T01:48:20",
          "1970-01-01T02:30:00",
          "1970-01-01T02:30:00",
          "1970-01-01T05:25:00",
          "1970-01-01T06:06:40",
          "1970-01-01T06:06:40"
         ],
         "y": [
          "from_site",
          "from_site",
          null,
          "from_site",
          "from_site",
          null,
          "from_site",
          "from_site",
          null,
          "from_site",
          "from_site",
          null,
          "from_site",
          "from_site",
          null,
          "from_site",
          "from_site",
          null
         ]
        },
        {
         "connectgaps": false,
         "hoverinfo": "y+name",
         "line": {
          "color": "orange",
          "width": 10
         },
         "mode": "lines",
         "name": "barge2: unloading",
         "type": "scatter",
         "x": [
          "1970-01-01T03:03:20",
          "1970-01-01T03:36:40",
          "1970-01-01T03:36:40",
          "1970-01-01T06:40:00",
          "1970-01-01T07:13:20",
          "1970-01-01T07:13:20",
          "1970-01-01T10:16:40",
          "1970-01-01T10:50:00",
          "1970-01-01T10:50:00",
          "1970-01-01T13:53:20",
          "1970-01-01T14:26:40",
          "1970-01-01T14:26:40"
         ],
         "y": [
          "to_site",
          "to_site",
          null,
          "to_site",
          "to_site",
          null,
          "to_site",
          "to_site",
          null,
          "to_site",
          "to_site",
          null,
          "to_site",
          "to_site",
          null,
          "to_site",
          "to_site",
          null,
          "to_site",
          "to_site",
          null,
          "to_site",
          "to_site",
          null,
          "to_site",
          "to_site",
          null,
          "to_site",
          "to_site",
          null,
          "to_site",
          "to_site",
          null,
          "to_site",
          "to_site",
          null
         ]
        },
        {
         "connectgaps": false,
         "hoverinfo": "y+name",
         "line": {
          "color": "#ff0000",
          "width": 10
         },
         "mode": "lines",
         "name": "barge1: unloading",
         "type": "scatter",
         "x": [
          "1970-01-01T03:03:20",
          "1970-01-01T03:36:40",
          "1970-01-01T03:36:40",
          "1970-01-01T06:40:00",
          "1970-01-01T07:13:20",
          "1970-01-01T07:13:20"
         ],
         "y": [
          "to_site",
          "to_site",
          null,
          "to_site",
          "to_site",
          null,
          "to_site",
          "to_site",
          null,
          "to_site",
          "to_site",
          null,
          "to_site",
          "to_site",
          null,
          "to_site",
          "to_site",
          null
         ]
        },
        {
         "connectgaps": false,
         "hoverinfo": "y+name",
         "line": {
          "color": "#bfbfbf",
          "width": 10
         },
         "mode": "lines",
         "name": "vessel_last:loading",
         "type": "scatter",
         "x": [
          "1970-01-01T14:30:00",
          "1970-01-01T15:11:40",
          "1970-01-01T15:11:40"
         ],
         "y": [
          "to_site",
          "to_site",
          null,
          "to_site",
          "to_site",
          null,
          "to_site",
          "to_site",
          null
         ]
        },
        {
         "connectgaps": false,
         "hoverinfo": "y+name",
         "line": {
          "color": "#305496",
          "width": 10
         },
         "mode": "lines",
         "name": "vessel_last: unloading",
         "type": "scatter",
         "x": [
          "1970-01-01T15:13:20",
          "1970-01-01T15:15:00",
          "1970-01-01T15:15:00"
         ],
         "y": [
          "to_site2",
          "to_site2",
          null,
          "to_site2",
          "to_site2",
          null,
          "to_site2",
          "to_site2",
          null
         ]
        },
        {
         "connectgaps": false,
         "hoverinfo": "name",
         "line": {
          "color": "red",
          "width": 3
         },
         "mode": "lines",
         "name": "critical_path",
         "type": "scatter",
         "x": [
          "1970-01-01T00:00:00",
          "1970-01-01T00:33:20",
          "1970-01-01T00:33:20",
          "1970-01-01T00:00:00",
          "1970-01-01T14:26:40",
          "1970-01-01T14:26:40",
          "1970-01-01T00:33:20",
          "1970-01-01T01:10:50",
          "1970-01-01T01:10:50",
          "1970-01-01T01:10:50",
          "1970-01-01T01:48:20",
          "1970-01-01T01:48:20",
          "1970-01-01T01:48:20",
          "1970-01-01T02:30:00",
          "1970-01-01T02:30:00",
          "1970-01-01T01:48:20",
          "1970-01-01T02:30:00",
          "1970-01-01T02:30:00",
          "1970-01-01T02:30:00",
          "1970-01-01T03:03:20",
          "1970-01-01T03:03:20",
          "1970-01-01T03:03:20",
          "1970-01-01T03:36:40",
          "1970-01-01T03:36:40",
          "1970-01-01T03:03:20",
          "1970-01-01T03:36:40",
          "1970-01-01T03:36:40",
          "1970-01-01T03:36:40",
          "1970-01-01T04:10:00",
          "1970-01-01T04:10:00",
          "1970-01-01T04:10:00",
          "1970-01-01T04:47:30",
          "1970-01-01T04:47:30",
          "1970-01-01T04:47:30",
          "1970-01-01T05:25:00",
          "1970-01-01T05:25:00",
          "1970-01-01T05:25:00",
          "1970-01-01T06:06:40",
          "1970-01-01T06:06:40",
          "1970-01-01T05:25:00",
          "1970-01-01T06:06:40",
          "1970-01-01T06:06:40",
          "1970-01-01T06:06:40",
          "1970-01-01T06:40:00",
          "1970-01-01T06:40:00",
          "1970-01-01T06:40:00",
          "1970-01-01T07:13:20",
          "1970-01-01T07:13:20",
          "1970-01-01T06:40:00",
          "1970-01-01T07:13:20",
          "1970-01-01T07:13:20",
          "1970-01-01T07:13:20",
          "1970-01-01T07:46:40",
          "1970-01-01T07:46:40",
          "1970-01-01T07:46:40",
          "1970-01-01T08:24:10",
          "1970-01-01T08:24:10",
          "1970-01-01T08:24:10",
          "1970-01-01T09:01:40",
          "1970-01-01T09:01:40",
          "1970-01-01T09:01:40",
          "1970-01-01T09:43:20",
          "1970-01-01T09:43:20",
          "1970-01-01T09:01:40",
          "1970-01-01T09:43:20",
          "1970-01-01T09:43:20",
          "1970-01-01T09:43:20",
          "1970-01-01T10:16:40",
          "1970-01-01T10:16:40",
          "1970-01-01T10:16:40",
          "1970-01-01T10:50:00",
          "1970-01-01T10:50:00",
          "1970-01-01T10:16:40",
          "1970-01-01T10:50:00",
          "1970-01-01T10:50:00",
          "1970-01-01T10:50:00",
          "1970-01-01T11:23:20",
          "1970-01-01T11:23:20",
          "1970-01-01T11:23:20",
          "1970-01-01T12:00:50",
          "1970-01-01T12:00:50",
          "1970-01-01T12:00:50",
          "1970-01-01T12:38:20",
          "1970-01-01T12:38:20",
          "1970-01-01T12:38:20",
          "1970-01-01T13:20:00",
          "1970-01-01T13:20:00",
          "1970-01-01T12:38:20",
          "1970-01-01T13:20:00",
          "1970-01-01T13:20:00",
          "1970-01-01T13:20:00",
          "1970-01-01T13:53:20",
          "1970-01-01T13:53:20",
          "1970-01-01T13:53:20",
          "1970-01-01T14:26:40",
          "1970-01-01T14:26:40",
          "1970-01-01T13:53:20",
          "1970-01-01T14:26:40",
          "1970-01-01T14:26:40",
          "1970-01-01T14:26:40",
          "1970-01-01T14:28:20",
          "1970-01-01T14:28:20",
          "1970-01-01T14:28:20",
          "1970-01-01T14:30:00",
          "1970-01-01T14:30:00",
          "1970-01-01T14:30:00",
          "1970-01-01T15:11:40",
          "1970-01-01T15:11:40",
          "1970-01-01T14:30:00",
          "1970-01-01T15:11:40",
          "1970-01-01T15:11:40",
          "1970-01-01T15:11:40",
          "1970-01-01T15:13:20",
          "1970-01-01T15:13:20",
          "1970-01-01T15:13:20",
          "1970-01-01T15:15:00",
          "1970-01-01T15:15:00",
          "1970-01-01T15:13:20",
          "1970-01-01T15:15:00",
          "1970-01-01T15:15:00"
         ],
         "y": [
          "barge2",
          "barge2",
          null,
          "vessel_last",
          "vessel_last",
          null,
          "barge2",
          "barge2",
          null,
          "WAIT",
          "WAIT",
          null,
          "barge2",
          "barge2",
          null,
          "from_site",
          "from_site",
          null,
          "barge2",
          "barge2",
          null,
          "barge2",
          "barge2",
          null,
          "to_site",
          "to_site",
          null,
          "barge2",
          "barge2",
          null,
          "barge2",
          "barge2",
          null,
          "WAIT",
          "WAIT",
          null,
          "barge2",
          "barge2",
          null,
          "from_site",
          "from_site",
          null,
          "barge2",
          "barge2",
          null,
          "barge2",
          "barge2",
          null,
          "to_site",
          "to_site",
          null,
          "barge2",
          "barge2",
          null,
          "barge2",
          "barge2",
          null,
          "WAIT",
          "WAIT",
          null,
          "barge2",
          "barge2",
          null,
          "from_site",
          "from_site",
          null,
          "barge2",
          "barge2",
          null,
          "barge2",
          "barge2",
          null,
          "to_site",
          "to_site",
          null,
          "barge2",
          "barge2",
          null,
          "barge2",
          "barge2",
          null,
          "WAIT",
          "WAIT",
          null,
          "barge2",
          "barge2",
          null,
          "from_site",
          "from_site",
          null,
          "barge2",
          "barge2",
          null,
          "barge2",
          "barge2",
          null,
          "to_site",
          "to_site",
          null,
          "vessel_last",
          "vessel_last",
          null,
          "vessel_last",
          "vessel_last",
          null,
          "to_site",
          "to_site",
          null,
          "vessel_last",
          "vessel_last",
          null,
          "vessel_last",
          "vessel_last",
          null,
          "to_site2",
          "to_site2",
          null,
          "vessel_last",
          "vessel_last",
          null
         ]
        }
       ],
       "layout": {
        "hovermode": "closest",
        "legend": {
         "orientation": "h",
         "x": 0,
         "y": -0.2
        },
        "template": {
         "data": {
          "bar": [
           {
            "error_x": {
             "color": "#2a3f5f"
            },
            "error_y": {
             "color": "#2a3f5f"
            },
            "marker": {
             "line": {
              "color": "#E5ECF6",
              "width": 0.5
             },
             "pattern": {
              "fillmode": "overlay",
              "size": 10,
              "solidity": 0.2
             }
            },
            "type": "bar"
           }
          ],
          "barpolar": [
           {
            "marker": {
             "line": {
              "color": "#E5ECF6",
              "width": 0.5
             },
             "pattern": {
              "fillmode": "overlay",
              "size": 10,
              "solidity": 0.2
             }
            },
            "type": "barpolar"
           }
          ],
          "carpet": [
           {
            "aaxis": {
             "endlinecolor": "#2a3f5f",
             "gridcolor": "white",
             "linecolor": "white",
             "minorgridcolor": "white",
             "startlinecolor": "#2a3f5f"
            },
            "baxis": {
             "endlinecolor": "#2a3f5f",
             "gridcolor": "white",
             "linecolor": "white",
             "minorgridcolor": "white",
             "startlinecolor": "#2a3f5f"
            },
            "type": "carpet"
           }
          ],
          "choropleth": [
           {
            "colorbar": {
             "outlinewidth": 0,
             "ticks": ""
            },
            "type": "choropleth"
           }
          ],
          "contour": [
           {
            "colorbar": {
             "outlinewidth": 0,
             "ticks": ""
            },
            "colorscale": [
             [
              0,
              "#0d0887"
             ],
             [
              0.1111111111111111,
              "#46039f"
             ],
             [
              0.2222222222222222,
              "#7201a8"
             ],
             [
              0.3333333333333333,
              "#9c179e"
             ],
             [
              0.4444444444444444,
              "#bd3786"
             ],
             [
              0.5555555555555556,
              "#d8576b"
             ],
             [
              0.6666666666666666,
              "#ed7953"
             ],
             [
              0.7777777777777778,
              "#fb9f3a"
             ],
             [
              0.8888888888888888,
              "#fdca26"
             ],
             [
              1,
              "#f0f921"
             ]
            ],
            "type": "contour"
           }
          ],
          "contourcarpet": [
           {
            "colorbar": {
             "outlinewidth": 0,
             "ticks": ""
            },
            "type": "contourcarpet"
           }
          ],
          "heatmap": [
           {
            "colorbar": {
             "outlinewidth": 0,
             "ticks": ""
            },
            "colorscale": [
             [
              0,
              "#0d0887"
             ],
             [
              0.1111111111111111,
              "#46039f"
             ],
             [
              0.2222222222222222,
              "#7201a8"
             ],
             [
              0.3333333333333333,
              "#9c179e"
             ],
             [
              0.4444444444444444,
              "#bd3786"
             ],
             [
              0.5555555555555556,
              "#d8576b"
             ],
             [
              0.6666666666666666,
              "#ed7953"
             ],
             [
              0.7777777777777778,
              "#fb9f3a"
             ],
             [
              0.8888888888888888,
              "#fdca26"
             ],
             [
              1,
              "#f0f921"
             ]
            ],
            "type": "heatmap"
           }
          ],
          "heatmapgl": [
           {
            "colorbar": {
             "outlinewidth": 0,
             "ticks": ""
            },
            "colorscale": [
             [
              0,
              "#0d0887"
             ],
             [
              0.1111111111111111,
              "#46039f"
             ],
             [
              0.2222222222222222,
              "#7201a8"
             ],
             [
              0.3333333333333333,
              "#9c179e"
             ],
             [
              0.4444444444444444,
              "#bd3786"
             ],
             [
              0.5555555555555556,
              "#d8576b"
             ],
             [
              0.6666666666666666,
              "#ed7953"
             ],
             [
              0.7777777777777778,
              "#fb9f3a"
             ],
             [
              0.8888888888888888,
              "#fdca26"
             ],
             [
              1,
              "#f0f921"
             ]
            ],
            "type": "heatmapgl"
           }
          ],
          "histogram": [
           {
            "marker": {
             "pattern": {
              "fillmode": "overlay",
              "size": 10,
              "solidity": 0.2
             }
            },
            "type": "histogram"
           }
          ],
          "histogram2d": [
           {
            "colorbar": {
             "outlinewidth": 0,
             "ticks": ""
            },
            "colorscale": [
             [
              0,
              "#0d0887"
             ],
             [
              0.1111111111111111,
              "#46039f"
             ],
             [
              0.2222222222222222,
              "#7201a8"
             ],
             [
              0.3333333333333333,
              "#9c179e"
             ],
             [
              0.4444444444444444,
              "#bd3786"
             ],
             [
              0.5555555555555556,
              "#d8576b"
             ],
             [
              0.6666666666666666,
              "#ed7953"
             ],
             [
              0.7777777777777778,
              "#fb9f3a"
             ],
             [
              0.8888888888888888,
              "#fdca26"
             ],
             [
              1,
              "#f0f921"
             ]
            ],
            "type": "histogram2d"
           }
          ],
          "histogram2dcontour": [
           {
            "colorbar": {
             "outlinewidth": 0,
             "ticks": ""
            },
            "colorscale": [
             [
              0,
              "#0d0887"
             ],
             [
              0.1111111111111111,
              "#46039f"
             ],
             [
              0.2222222222222222,
              "#7201a8"
             ],
             [
              0.3333333333333333,
              "#9c179e"
             ],
             [
              0.4444444444444444,
              "#bd3786"
             ],
             [
              0.5555555555555556,
              "#d8576b"
             ],
             [
              0.6666666666666666,
              "#ed7953"
             ],
             [
              0.7777777777777778,
              "#fb9f3a"
             ],
             [
              0.8888888888888888,
              "#fdca26"
             ],
             [
              1,
              "#f0f921"
             ]
            ],
            "type": "histogram2dcontour"
           }
          ],
          "mesh3d": [
           {
            "colorbar": {
             "outlinewidth": 0,
             "ticks": ""
            },
            "type": "mesh3d"
           }
          ],
          "parcoords": [
           {
            "line": {
             "colorbar": {
              "outlinewidth": 0,
              "ticks": ""
             }
            },
            "type": "parcoords"
           }
          ],
          "pie": [
           {
            "automargin": true,
            "type": "pie"
           }
          ],
          "scatter": [
           {
            "fillpattern": {
             "fillmode": "overlay",
             "size": 10,
             "solidity": 0.2
            },
            "type": "scatter"
           }
          ],
          "scatter3d": [
           {
            "line": {
             "colorbar": {
              "outlinewidth": 0,
              "ticks": ""
             }
            },
            "marker": {
             "colorbar": {
              "outlinewidth": 0,
              "ticks": ""
             }
            },
            "type": "scatter3d"
           }
          ],
          "scattercarpet": [
           {
            "marker": {
             "colorbar": {
              "outlinewidth": 0,
              "ticks": ""
             }
            },
            "type": "scattercarpet"
           }
          ],
          "scattergeo": [
           {
            "marker": {
             "colorbar": {
              "outlinewidth": 0,
              "ticks": ""
             }
            },
            "type": "scattergeo"
           }
          ],
          "scattergl": [
           {
            "marker": {
             "colorbar": {
              "outlinewidth": 0,
              "ticks": ""
             }
            },
            "type": "scattergl"
           }
          ],
          "scattermapbox": [
           {
            "marker": {
             "colorbar": {
              "outlinewidth": 0,
              "ticks": ""
             }
            },
            "type": "scattermapbox"
           }
          ],
          "scatterpolar": [
           {
            "marker": {
             "colorbar": {
              "outlinewidth": 0,
              "ticks": ""
             }
            },
            "type": "scatterpolar"
           }
          ],
          "scatterpolargl": [
           {
            "marker": {
             "colorbar": {
              "outlinewidth": 0,
              "ticks": ""
             }
            },
            "type": "scatterpolargl"
           }
          ],
          "scatterternary": [
           {
            "marker": {
             "colorbar": {
              "outlinewidth": 0,
              "ticks": ""
             }
            },
            "type": "scatterternary"
           }
          ],
          "surface": [
           {
            "colorbar": {
             "outlinewidth": 0,
             "ticks": ""
            },
            "colorscale": [
             [
              0,
              "#0d0887"
             ],
             [
              0.1111111111111111,
              "#46039f"
             ],
             [
              0.2222222222222222,
              "#7201a8"
             ],
             [
              0.3333333333333333,
              "#9c179e"
             ],
             [
              0.4444444444444444,
              "#bd3786"
             ],
             [
              0.5555555555555556,
              "#d8576b"
             ],
             [
              0.6666666666666666,
              "#ed7953"
             ],
             [
              0.7777777777777778,
              "#fb9f3a"
             ],
             [
              0.8888888888888888,
              "#fdca26"
             ],
             [
              1,
              "#f0f921"
             ]
            ],
            "type": "surface"
           }
          ],
          "table": [
           {
            "cells": {
             "fill": {
              "color": "#EBF0F8"
             },
             "line": {
              "color": "white"
             }
            },
            "header": {
             "fill": {
              "color": "#C8D4E3"
             },
             "line": {
              "color": "white"
             }
            },
            "type": "table"
           }
          ]
         },
         "layout": {
          "annotationdefaults": {
           "arrowcolor": "#2a3f5f",
           "arrowhead": 0,
           "arrowwidth": 1
          },
          "autotypenumbers": "strict",
          "coloraxis": {
           "colorbar": {
            "outlinewidth": 0,
            "ticks": ""
           }
          },
          "colorscale": {
           "diverging": [
            [
             0,
             "#8e0152"
            ],
            [
             0.1,
             "#c51b7d"
            ],
            [
             0.2,
             "#de77ae"
            ],
            [
             0.3,
             "#f1b6da"
            ],
            [
             0.4,
             "#fde0ef"
            ],
            [
             0.5,
             "#f7f7f7"
            ],
            [
             0.6,
             "#e6f5d0"
            ],
            [
             0.7,
             "#b8e186"
            ],
            [
             0.8,
             "#7fbc41"
            ],
            [
             0.9,
             "#4d9221"
            ],
            [
             1,
             "#276419"
            ]
           ],
           "sequential": [
            [
             0,
             "#0d0887"
            ],
            [
             0.1111111111111111,
             "#46039f"
            ],
            [
             0.2222222222222222,
             "#7201a8"
            ],
            [
             0.3333333333333333,
             "#9c179e"
            ],
            [
             0.4444444444444444,
             "#bd3786"
            ],
            [
             0.5555555555555556,
             "#d8576b"
            ],
            [
             0.6666666666666666,
             "#ed7953"
            ],
            [
             0.7777777777777778,
             "#fb9f3a"
            ],
            [
             0.8888888888888888,
             "#fdca26"
            ],
            [
             1,
             "#f0f921"
            ]
           ],
           "sequentialminus": [
            [
             0,
             "#0d0887"
            ],
            [
             0.1111111111111111,
             "#46039f"
            ],
            [
             0.2222222222222222,
             "#7201a8"
            ],
            [
             0.3333333333333333,
             "#9c179e"
            ],
            [
             0.4444444444444444,
             "#bd3786"
            ],
            [
             0.5555555555555556,
             "#d8576b"
            ],
            [
             0.6666666666666666,
             "#ed7953"
            ],
            [
             0.7777777777777778,
             "#fb9f3a"
            ],
            [
             0.8888888888888888,
             "#fdca26"
            ],
            [
             1,
             "#f0f921"
            ]
           ]
          },
          "colorway": [
           "#636efa",
           "#EF553B",
           "#00cc96",
           "#ab63fa",
           "#FFA15A",
           "#19d3f3",
           "#FF6692",
           "#B6E880",
           "#FF97FF",
           "#FECB52"
          ],
          "font": {
           "color": "#2a3f5f"
          },
          "geo": {
           "bgcolor": "white",
           "lakecolor": "white",
           "landcolor": "#E5ECF6",
           "showlakes": true,
           "showland": true,
           "subunitcolor": "white"
          },
          "hoverlabel": {
           "align": "left"
          },
          "hovermode": "closest",
          "mapbox": {
           "style": "light"
          },
          "paper_bgcolor": "white",
          "plot_bgcolor": "#E5ECF6",
          "polar": {
           "angularaxis": {
            "gridcolor": "white",
            "linecolor": "white",
            "ticks": ""
           },
           "bgcolor": "#E5ECF6",
           "radialaxis": {
            "gridcolor": "white",
            "linecolor": "white",
            "ticks": ""
           }
          },
          "scene": {
           "xaxis": {
            "backgroundcolor": "#E5ECF6",
            "gridcolor": "white",
            "gridwidth": 2,
            "linecolor": "white",
            "showbackground": true,
            "ticks": "",
            "zerolinecolor": "white"
           },
           "yaxis": {
            "backgroundcolor": "#E5ECF6",
            "gridcolor": "white",
            "gridwidth": 2,
            "linecolor": "white",
            "showbackground": true,
            "ticks": "",
            "zerolinecolor": "white"
           },
           "zaxis": {
            "backgroundcolor": "#E5ECF6",
            "gridcolor": "white",
            "gridwidth": 2,
            "linecolor": "white",
            "showbackground": true,
            "ticks": "",
            "zerolinecolor": "white"
           }
          },
          "shapedefaults": {
           "line": {
            "color": "#2a3f5f"
           }
          },
          "ternary": {
           "aaxis": {
            "gridcolor": "white",
            "linecolor": "white",
            "ticks": ""
           },
           "baxis": {
            "gridcolor": "white",
            "linecolor": "white",
            "ticks": ""
           },
           "bgcolor": "#E5ECF6",
           "caxis": {
            "gridcolor": "white",
            "linecolor": "white",
            "ticks": ""
           }
          },
          "title": {
           "x": 0.05
          },
          "xaxis": {
           "automargin": true,
           "gridcolor": "white",
           "linecolor": "white",
           "ticks": "",
           "title": {
            "standoff": 15
           },
           "zerolinecolor": "white",
           "zerolinewidth": 2
          },
          "yaxis": {
           "automargin": true,
           "gridcolor": "white",
           "linecolor": "white",
           "ticks": "",
           "title": {
            "standoff": 15
           },
           "zerolinecolor": "white",
           "zerolinewidth": 2
          }
         }
        },
        "title": {
         "text": "GANTT Chart"
        },
        "xaxis": {
         "range": [
          "1970-01-01T00:00:00",
          "1970-01-01T15:15:00"
         ],
         "title": {
          "font": {
           "color": "#7f7f7f",
           "family": "Courier New, monospace",
           "size": 18
          },
          "text": "Time"
         }
        },
        "yaxis": {
         "title": {
          "font": {
           "color": "#7f7f7f",
           "family": "Courier New, monospace",
           "size": 18
          },
          "text": "Activities"
         }
        }
       }
      },
      "text/html": [
       "<div>                            <div id=\"4d74f631-890e-410c-af3a-47fb431f527b\" class=\"plotly-graph-div\" style=\"height:525px; width:100%;\"></div>            <script type=\"text/javascript\">                require([\"plotly\"], function(Plotly) {                    window.PLOTLYENV=window.PLOTLYENV || {};                                    if (document.getElementById(\"4d74f631-890e-410c-af3a-47fb431f527b\")) {                    Plotly.newPlot(                        \"4d74f631-890e-410c-af3a-47fb431f527b\",                        [{\"connectgaps\":false,\"hoverinfo\":\"y+name\",\"line\":{\"color\":\"#ff0000\",\"width\":10},\"mode\":\"lines\",\"name\":\"barge1: basic activity\",\"x\":[\"1970-01-01T00:00:00\",\"1970-01-01T00:33:20\",\"1970-01-01T00:33:20\",\"1970-01-01T03:36:40\",\"1970-01-01T04:10:00\",\"1970-01-01T04:10:00\"],\"y\":[\"barge1\",\"barge1\",null,\"barge1\",\"barge1\",null,\"barge1\",\"barge1\",null,\"barge1\",\"barge1\",null,\"barge1\",\"barge1\",null,\"barge1\",\"barge1\",null],\"type\":\"scatter\"},{\"connectgaps\":false,\"hoverinfo\":\"y+name\",\"line\":{\"color\":\"#bfbfbf\",\"width\":10},\"mode\":\"lines\",\"name\":\"barge1: sailing empty delay\",\"x\":[\"1970-01-01T00:33:20\",\"1970-01-01T01:10:50\",\"1970-01-01T01:10:50\",\"1970-01-01T04:10:00\",\"1970-01-01T04:47:30\",\"1970-01-01T04:47:30\"],\"y\":[\"barge1\",\"barge1\",null,\"barge1\",\"barge1\",null,\"barge1\",\"barge1\",null,\"barge1\",\"barge1\",null,\"barge1\",\"barge1\",null,\"barge1\",\"barge1\",null],\"type\":\"scatter\"},{\"connectgaps\":false,\"hoverinfo\":\"y+name\",\"line\":{\"color\":\"#305496\",\"width\":10},\"mode\":\"lines\",\"name\":\"barge1: loading\",\"x\":[\"1970-01-01T01:48:20\",\"1970-01-01T02:30:00\",\"1970-01-01T02:30:00\",\"1970-01-01T05:25:00\",\"1970-01-01T06:06:40\",\"1970-01-01T06:06:40\"],\"y\":[\"barge1\",\"barge1\",null,\"barge1\",\"barge1\",null,\"barge1\",\"barge1\",null,\"barge1\",\"barge1\",null,\"barge1\",\"barge1\",null,\"barge1\",\"barge1\",null],\"type\":\"scatter\"},{\"connectgaps\":false,\"hoverinfo\":\"y+name\",\"line\":{\"color\":\"#00b0f0\",\"width\":10},\"mode\":\"lines\",\"name\":\"barge1: sailing full\",\"x\":[\"1970-01-01T02:30:00\",\"1970-01-01T03:03:20\",\"1970-01-01T03:03:20\",\"1970-01-01T06:06:40\",\"1970-01-01T06:40:00\",\"1970-01-01T06:40:00\"],\"y\":[\"barge1\",\"barge1\",null,\"barge1\",\"barge1\",null,\"barge1\",\"barge1\",null,\"barge1\",\"barge1\",null,\"barge1\",\"barge1\",null,\"barge1\",\"barge1\",null],\"type\":\"scatter\"},{\"connectgaps\":false,\"hoverinfo\":\"y+name\",\"line\":{\"color\":\"#ffff00\",\"width\":10},\"mode\":\"lines\",\"name\":\"barge1: unloading\",\"x\":[\"1970-01-01T03:03:20\",\"1970-01-01T03:36:40\",\"1970-01-01T03:36:40\",\"1970-01-01T06:40:00\",\"1970-01-01T07:13:20\",\"1970-01-01T07:13:20\"],\"y\":[\"barge1\",\"barge1\",null,\"barge1\",\"barge1\",null,\"barge1\",\"barge1\",null,\"barge1\",\"barge1\",null,\"barge1\",\"barge1\",null,\"barge1\",\"barge1\",null],\"type\":\"scatter\"},{\"connectgaps\":false,\"hoverinfo\":\"y+name\",\"line\":{\"color\":\"#00b050\",\"width\":10},\"mode\":\"lines\",\"name\":\"barge2: basic activity\",\"x\":[\"1970-01-01T00:00:00\",\"1970-01-01T00:33:20\",\"1970-01-01T00:33:20\",\"1970-01-01T03:36:40\",\"1970-01-01T04:10:00\",\"1970-01-01T04:10:00\",\"1970-01-01T07:13:20\",\"1970-01-01T07:46:40\",\"1970-01-01T07:46:40\",\"1970-01-01T10:50:00\",\"1970-01-01T11:23:20\",\"1970-01-01T11:23:20\"],\"y\":[\"barge2\",\"barge2\",null,\"barge2\",\"barge2\",null,\"barge2\",\"barge2\",null,\"barge2\",\"barge2\",null,\"barge2\",\"barge2\",null,\"barge2\",\"barge2\",null,\"barge2\",\"barge2\",null,\"barge2\",\"barge2\",null,\"barge2\",\"barge2\",null,\"barge2\",\"barge2\",null,\"barge2\",\"barge2\",null,\"barge2\",\"barge2\",null],\"type\":\"scatter\"},{\"connectgaps\":false,\"hoverinfo\":\"y+name\",\"line\":{\"color\":\"#990101\",\"width\":10},\"mode\":\"lines\",\"name\":\"barge2: sailing empty delay\",\"x\":[\"1970-01-01T00:33:20\",\"1970-01-01T01:10:50\",\"1970-01-01T01:10:50\",\"1970-01-01T04:10:00\",\"1970-01-01T04:47:30\",\"1970-01-01T04:47:30\",\"1970-01-01T07:46:40\",\"1970-01-01T08:24:10\",\"1970-01-01T08:24:10\",\"1970-01-01T11:23:20\",\"1970-01-01T12:00:50\",\"1970-01-01T12:00:50\"],\"y\":[\"barge2\",\"barge2\",null,\"barge2\",\"barge2\",null,\"barge2\",\"barge2\",null,\"barge2\",\"barge2\",null,\"barge2\",\"barge2\",null,\"barge2\",\"barge2\",null,\"barge2\",\"barge2\",null,\"barge2\",\"barge2\",null,\"barge2\",\"barge2\",null,\"barge2\",\"barge2\",null,\"barge2\",\"barge2\",null,\"barge2\",\"barge2\",null],\"type\":\"scatter\"},{\"connectgaps\":false,\"hoverinfo\":\"y+name\",\"line\":{\"color\":\"#ED7D31\",\"width\":10},\"mode\":\"lines\",\"name\":\"barge2: loading\",\"x\":[\"1970-01-01T01:48:20\",\"1970-01-01T02:30:00\",\"1970-01-01T02:30:00\",\"1970-01-01T05:25:00\",\"1970-01-01T06:06:40\",\"1970-01-01T06:06:40\",\"1970-01-01T09:01:40\",\"1970-01-01T09:43:20\",\"1970-01-01T09:43:20\",\"1970-01-01T12:38:20\",\"1970-01-01T13:20:00\",\"1970-01-01T13:20:00\"],\"y\":[\"barge2\",\"barge2\",null,\"barge2\",\"barge2\",null,\"barge2\",\"barge2\",null,\"barge2\",\"barge2\",null,\"barge2\",\"barge2\",null,\"barge2\",\"barge2\",null,\"barge2\",\"barge2\",null,\"barge2\",\"barge2\",null,\"barge2\",\"barge2\",null,\"barge2\",\"barge2\",null,\"barge2\",\"barge2\",null,\"barge2\",\"barge2\",null],\"type\":\"scatter\"},{\"connectgaps\":false,\"hoverinfo\":\"y+name\",\"line\":{\"color\":\"#7030A0\",\"width\":10},\"mode\":\"lines\",\"name\":\"barge2: sailing full\",\"x\":[\"1970-01-01T02:30:00\",\"1970-01-01T03:03:20\",\"1970-01-01T03:03:20\",\"1970-01-01T06:06:40\",\"1970-01-01T06:40:00\",\"1970-01-01T06:40:00\",\"1970-01-01T09:43:20\",\"1970-01-01T10:16:40\",\"1970-01-01T10:16:40\",\"1970-01-01T13:20:00\",\"1970-01-01T13:53:20\",\"1970-01-01T13:53:20\"],\"y\":[\"barge2\",\"barge2\",null,\"barge2\",\"barge2\",null,\"barge2\",\"barge2\",null,\"barge2\",\"barge2\",null,\"barge2\",\"barge2\",null,\"barge2\",\"barge2\",null,\"barge2\",\"barge2\",null,\"barge2\",\"barge2\",null,\"barge2\",\"barge2\",null,\"barge2\",\"barge2\",null,\"barge2\",\"barge2\",null,\"barge2\",\"barge2\",null],\"type\":\"scatter\"},{\"connectgaps\":false,\"hoverinfo\":\"y+name\",\"line\":{\"color\":\"#1EB299\",\"width\":10},\"mode\":\"lines\",\"name\":\"barge2: unloading\",\"x\":[\"1970-01-01T03:03:20\",\"1970-01-01T03:36:40\",\"1970-01-01T03:36:40\",\"1970-01-01T06:40:00\",\"1970-01-01T07:13:20\",\"1970-01-01T07:13:20\",\"1970-01-01T10:16:40\",\"1970-01-01T10:50:00\",\"1970-01-01T10:50:00\",\"1970-01-01T13:53:20\",\"1970-01-01T14:26:40\",\"1970-01-01T14:26:40\"],\"y\":[\"barge2\",\"barge2\",null,\"barge2\",\"barge2\",null,\"barge2\",\"barge2\",null,\"barge2\",\"barge2\",null,\"barge2\",\"barge2\",null,\"barge2\",\"barge2\",null,\"barge2\",\"barge2\",null,\"barge2\",\"barge2\",null,\"barge2\",\"barge2\",null,\"barge2\",\"barge2\",null,\"barge2\",\"barge2\",null,\"barge2\",\"barge2\",null],\"type\":\"scatter\"},{\"connectgaps\":false,\"hoverinfo\":\"y+name\",\"line\":{\"color\":\"#483700\",\"width\":10},\"mode\":\"lines\",\"name\":\"vessel_last: basic activity\",\"x\":[\"1970-01-01T00:00:00\",\"1970-01-01T14:26:40\",\"1970-01-01T14:26:40\",\"1970-01-01T14:26:40\",\"1970-01-01T14:28:20\",\"1970-01-01T14:28:20\"],\"y\":[\"vessel_last\",\"vessel_last\",null,\"vessel_last\",\"vessel_last\",null,\"vessel_last\",\"vessel_last\",null,\"vessel_last\",\"vessel_last\",null,\"vessel_last\",\"vessel_last\",null,\"vessel_last\",\"vessel_last\",null],\"type\":\"scatter\"},{\"connectgaps\":false,\"hoverinfo\":\"y+name\",\"line\":{\"color\":\"#CCECFF\",\"width\":10},\"mode\":\"lines\",\"name\":\"vessel_last: sailing empty\",\"x\":[\"1970-01-01T14:28:20\",\"1970-01-01T14:30:00\",\"1970-01-01T14:30:00\"],\"y\":[\"vessel_last\",\"vessel_last\",null,\"vessel_last\",\"vessel_last\",null,\"vessel_last\",\"vessel_last\",null],\"type\":\"scatter\"},{\"connectgaps\":false,\"hoverinfo\":\"y+name\",\"line\":{\"color\":\"#c6e0b4\",\"width\":10},\"mode\":\"lines\",\"name\":\"vessel_last:loading\",\"x\":[\"1970-01-01T14:30:00\",\"1970-01-01T15:11:40\",\"1970-01-01T15:11:40\"],\"y\":[\"vessel_last\",\"vessel_last\",null,\"vessel_last\",\"vessel_last\",null,\"vessel_last\",\"vessel_last\",null],\"type\":\"scatter\"},{\"connectgaps\":false,\"hoverinfo\":\"y+name\",\"line\":{\"color\":\"#525252\",\"width\":10},\"mode\":\"lines\",\"name\":\"vessel_last: sailing full\",\"x\":[\"1970-01-01T15:11:40\",\"1970-01-01T15:13:20\",\"1970-01-01T15:13:20\"],\"y\":[\"vessel_last\",\"vessel_last\",null,\"vessel_last\",\"vessel_last\",null,\"vessel_last\",\"vessel_last\",null],\"type\":\"scatter\"},{\"connectgaps\":false,\"hoverinfo\":\"y+name\",\"line\":{\"color\":\"#f8cbad\",\"width\":10},\"mode\":\"lines\",\"name\":\"vessel_last: unloading\",\"x\":[\"1970-01-01T15:13:20\",\"1970-01-01T15:15:00\",\"1970-01-01T15:15:00\"],\"y\":[\"vessel_last\",\"vessel_last\",null,\"vessel_last\",\"vessel_last\",null,\"vessel_last\",\"vessel_last\",null],\"type\":\"scatter\"},{\"connectgaps\":false,\"hoverinfo\":\"y+name\",\"line\":{\"color\":\"#bf95df\",\"width\":10},\"mode\":\"lines\",\"name\":\"barge2: sailing empty delay\",\"x\":[\"1970-01-01T01:10:50\",\"1970-01-01T01:48:20\",\"1970-01-01T01:48:20\",\"1970-01-01T04:47:30\",\"1970-01-01T05:25:00\",\"1970-01-01T05:25:00\",\"1970-01-01T08:24:10\",\"1970-01-01T09:01:40\",\"1970-01-01T09:01:40\",\"1970-01-01T12:00:50\",\"1970-01-01T12:38:20\",\"1970-01-01T12:38:20\"],\"y\":[\"WAIT\",\"WAIT\",null,\"WAIT\",\"WAIT\",null,\"WAIT\",\"WAIT\",null,\"WAIT\",\"WAIT\",null,\"WAIT\",\"WAIT\",null,\"WAIT\",\"WAIT\",null,\"WAIT\",\"WAIT\",null,\"WAIT\",\"WAIT\",null,\"WAIT\",\"WAIT\",null,\"WAIT\",\"WAIT\",null,\"WAIT\",\"WAIT\",null,\"WAIT\",\"WAIT\",null],\"type\":\"scatter\"},{\"connectgaps\":false,\"hoverinfo\":\"y+name\",\"line\":{\"color\":\"darkred\",\"width\":10},\"mode\":\"lines\",\"name\":\"barge1: sailing empty delay\",\"x\":[\"1970-01-01T01:10:50\",\"1970-01-01T01:48:20\",\"1970-01-01T01:48:20\",\"1970-01-01T04:47:30\",\"1970-01-01T05:25:00\",\"1970-01-01T05:25:00\"],\"y\":[\"WAIT\",\"WAIT\",null,\"WAIT\",\"WAIT\",null,\"WAIT\",\"WAIT\",null,\"WAIT\",\"WAIT\",null,\"WAIT\",\"WAIT\",null,\"WAIT\",\"WAIT\",null],\"type\":\"scatter\"},{\"connectgaps\":false,\"hoverinfo\":\"y+name\",\"line\":{\"color\":\"magenta\",\"width\":10},\"mode\":\"lines\",\"name\":\"barge2: loading\",\"x\":[\"1970-01-01T01:48:20\",\"1970-01-01T02:30:00\",\"1970-01-01T02:30:00\",\"1970-01-01T05:25:00\",\"1970-01-01T06:06:40\",\"1970-01-01T06:06:40\",\"1970-01-01T09:01:40\",\"1970-01-01T09:43:20\",\"1970-01-01T09:43:20\",\"1970-01-01T12:38:20\",\"1970-01-01T13:20:00\",\"1970-01-01T13:20:00\"],\"y\":[\"from_site\",\"from_site\",null,\"from_site\",\"from_site\",null,\"from_site\",\"from_site\",null,\"from_site\",\"from_site\",null,\"from_site\",\"from_site\",null,\"from_site\",\"from_site\",null,\"from_site\",\"from_site\",null,\"from_site\",\"from_site\",null,\"from_site\",\"from_site\",null,\"from_site\",\"from_site\",null,\"from_site\",\"from_site\",null,\"from_site\",\"from_site\",null],\"type\":\"scatter\"},{\"connectgaps\":false,\"hoverinfo\":\"y+name\",\"line\":{\"color\":\"cyan\",\"width\":10},\"mode\":\"lines\",\"name\":\"barge1: loading\",\"x\":[\"1970-01-01T01:48:20\",\"1970-01-01T02:30:00\",\"1970-01-01T02:30:00\",\"1970-01-01T05:25:00\",\"1970-01-01T06:06:40\",\"1970-01-01T06:06:40\"],\"y\":[\"from_site\",\"from_site\",null,\"from_site\",\"from_site\",null,\"from_site\",\"from_site\",null,\"from_site\",\"from_site\",null,\"from_site\",\"from_site\",null,\"from_site\",\"from_site\",null],\"type\":\"scatter\"},{\"connectgaps\":false,\"hoverinfo\":\"y+name\",\"line\":{\"color\":\"orange\",\"width\":10},\"mode\":\"lines\",\"name\":\"barge2: unloading\",\"x\":[\"1970-01-01T03:03:20\",\"1970-01-01T03:36:40\",\"1970-01-01T03:36:40\",\"1970-01-01T06:40:00\",\"1970-01-01T07:13:20\",\"1970-01-01T07:13:20\",\"1970-01-01T10:16:40\",\"1970-01-01T10:50:00\",\"1970-01-01T10:50:00\",\"1970-01-01T13:53:20\",\"1970-01-01T14:26:40\",\"1970-01-01T14:26:40\"],\"y\":[\"to_site\",\"to_site\",null,\"to_site\",\"to_site\",null,\"to_site\",\"to_site\",null,\"to_site\",\"to_site\",null,\"to_site\",\"to_site\",null,\"to_site\",\"to_site\",null,\"to_site\",\"to_site\",null,\"to_site\",\"to_site\",null,\"to_site\",\"to_site\",null,\"to_site\",\"to_site\",null,\"to_site\",\"to_site\",null,\"to_site\",\"to_site\",null],\"type\":\"scatter\"},{\"connectgaps\":false,\"hoverinfo\":\"y+name\",\"line\":{\"color\":\"#ff0000\",\"width\":10},\"mode\":\"lines\",\"name\":\"barge1: unloading\",\"x\":[\"1970-01-01T03:03:20\",\"1970-01-01T03:36:40\",\"1970-01-01T03:36:40\",\"1970-01-01T06:40:00\",\"1970-01-01T07:13:20\",\"1970-01-01T07:13:20\"],\"y\":[\"to_site\",\"to_site\",null,\"to_site\",\"to_site\",null,\"to_site\",\"to_site\",null,\"to_site\",\"to_site\",null,\"to_site\",\"to_site\",null,\"to_site\",\"to_site\",null],\"type\":\"scatter\"},{\"connectgaps\":false,\"hoverinfo\":\"y+name\",\"line\":{\"color\":\"#bfbfbf\",\"width\":10},\"mode\":\"lines\",\"name\":\"vessel_last:loading\",\"x\":[\"1970-01-01T14:30:00\",\"1970-01-01T15:11:40\",\"1970-01-01T15:11:40\"],\"y\":[\"to_site\",\"to_site\",null,\"to_site\",\"to_site\",null,\"to_site\",\"to_site\",null],\"type\":\"scatter\"},{\"connectgaps\":false,\"hoverinfo\":\"y+name\",\"line\":{\"color\":\"#305496\",\"width\":10},\"mode\":\"lines\",\"name\":\"vessel_last: unloading\",\"x\":[\"1970-01-01T15:13:20\",\"1970-01-01T15:15:00\",\"1970-01-01T15:15:00\"],\"y\":[\"to_site2\",\"to_site2\",null,\"to_site2\",\"to_site2\",null,\"to_site2\",\"to_site2\",null],\"type\":\"scatter\"},{\"connectgaps\":false,\"hoverinfo\":\"name\",\"line\":{\"color\":\"red\",\"width\":3},\"mode\":\"lines\",\"name\":\"critical_path\",\"x\":[\"1970-01-01T00:00:00\",\"1970-01-01T00:33:20\",\"1970-01-01T00:33:20\",\"1970-01-01T00:00:00\",\"1970-01-01T14:26:40\",\"1970-01-01T14:26:40\",\"1970-01-01T00:33:20\",\"1970-01-01T01:10:50\",\"1970-01-01T01:10:50\",\"1970-01-01T01:10:50\",\"1970-01-01T01:48:20\",\"1970-01-01T01:48:20\",\"1970-01-01T01:48:20\",\"1970-01-01T02:30:00\",\"1970-01-01T02:30:00\",\"1970-01-01T01:48:20\",\"1970-01-01T02:30:00\",\"1970-01-01T02:30:00\",\"1970-01-01T02:30:00\",\"1970-01-01T03:03:20\",\"1970-01-01T03:03:20\",\"1970-01-01T03:03:20\",\"1970-01-01T03:36:40\",\"1970-01-01T03:36:40\",\"1970-01-01T03:03:20\",\"1970-01-01T03:36:40\",\"1970-01-01T03:36:40\",\"1970-01-01T03:36:40\",\"1970-01-01T04:10:00\",\"1970-01-01T04:10:00\",\"1970-01-01T04:10:00\",\"1970-01-01T04:47:30\",\"1970-01-01T04:47:30\",\"1970-01-01T04:47:30\",\"1970-01-01T05:25:00\",\"1970-01-01T05:25:00\",\"1970-01-01T05:25:00\",\"1970-01-01T06:06:40\",\"1970-01-01T06:06:40\",\"1970-01-01T05:25:00\",\"1970-01-01T06:06:40\",\"1970-01-01T06:06:40\",\"1970-01-01T06:06:40\",\"1970-01-01T06:40:00\",\"1970-01-01T06:40:00\",\"1970-01-01T06:40:00\",\"1970-01-01T07:13:20\",\"1970-01-01T07:13:20\",\"1970-01-01T06:40:00\",\"1970-01-01T07:13:20\",\"1970-01-01T07:13:20\",\"1970-01-01T07:13:20\",\"1970-01-01T07:46:40\",\"1970-01-01T07:46:40\",\"1970-01-01T07:46:40\",\"1970-01-01T08:24:10\",\"1970-01-01T08:24:10\",\"1970-01-01T08:24:10\",\"1970-01-01T09:01:40\",\"1970-01-01T09:01:40\",\"1970-01-01T09:01:40\",\"1970-01-01T09:43:20\",\"1970-01-01T09:43:20\",\"1970-01-01T09:01:40\",\"1970-01-01T09:43:20\",\"1970-01-01T09:43:20\",\"1970-01-01T09:43:20\",\"1970-01-01T10:16:40\",\"1970-01-01T10:16:40\",\"1970-01-01T10:16:40\",\"1970-01-01T10:50:00\",\"1970-01-01T10:50:00\",\"1970-01-01T10:16:40\",\"1970-01-01T10:50:00\",\"1970-01-01T10:50:00\",\"1970-01-01T10:50:00\",\"1970-01-01T11:23:20\",\"1970-01-01T11:23:20\",\"1970-01-01T11:23:20\",\"1970-01-01T12:00:50\",\"1970-01-01T12:00:50\",\"1970-01-01T12:00:50\",\"1970-01-01T12:38:20\",\"1970-01-01T12:38:20\",\"1970-01-01T12:38:20\",\"1970-01-01T13:20:00\",\"1970-01-01T13:20:00\",\"1970-01-01T12:38:20\",\"1970-01-01T13:20:00\",\"1970-01-01T13:20:00\",\"1970-01-01T13:20:00\",\"1970-01-01T13:53:20\",\"1970-01-01T13:53:20\",\"1970-01-01T13:53:20\",\"1970-01-01T14:26:40\",\"1970-01-01T14:26:40\",\"1970-01-01T13:53:20\",\"1970-01-01T14:26:40\",\"1970-01-01T14:26:40\",\"1970-01-01T14:26:40\",\"1970-01-01T14:28:20\",\"1970-01-01T14:28:20\",\"1970-01-01T14:28:20\",\"1970-01-01T14:30:00\",\"1970-01-01T14:30:00\",\"1970-01-01T14:30:00\",\"1970-01-01T15:11:40\",\"1970-01-01T15:11:40\",\"1970-01-01T14:30:00\",\"1970-01-01T15:11:40\",\"1970-01-01T15:11:40\",\"1970-01-01T15:11:40\",\"1970-01-01T15:13:20\",\"1970-01-01T15:13:20\",\"1970-01-01T15:13:20\",\"1970-01-01T15:15:00\",\"1970-01-01T15:15:00\",\"1970-01-01T15:13:20\",\"1970-01-01T15:15:00\",\"1970-01-01T15:15:00\"],\"y\":[\"barge2\",\"barge2\",null,\"vessel_last\",\"vessel_last\",null,\"barge2\",\"barge2\",null,\"WAIT\",\"WAIT\",null,\"barge2\",\"barge2\",null,\"from_site\",\"from_site\",null,\"barge2\",\"barge2\",null,\"barge2\",\"barge2\",null,\"to_site\",\"to_site\",null,\"barge2\",\"barge2\",null,\"barge2\",\"barge2\",null,\"WAIT\",\"WAIT\",null,\"barge2\",\"barge2\",null,\"from_site\",\"from_site\",null,\"barge2\",\"barge2\",null,\"barge2\",\"barge2\",null,\"to_site\",\"to_site\",null,\"barge2\",\"barge2\",null,\"barge2\",\"barge2\",null,\"WAIT\",\"WAIT\",null,\"barge2\",\"barge2\",null,\"from_site\",\"from_site\",null,\"barge2\",\"barge2\",null,\"barge2\",\"barge2\",null,\"to_site\",\"to_site\",null,\"barge2\",\"barge2\",null,\"barge2\",\"barge2\",null,\"WAIT\",\"WAIT\",null,\"barge2\",\"barge2\",null,\"from_site\",\"from_site\",null,\"barge2\",\"barge2\",null,\"barge2\",\"barge2\",null,\"to_site\",\"to_site\",null,\"vessel_last\",\"vessel_last\",null,\"vessel_last\",\"vessel_last\",null,\"to_site\",\"to_site\",null,\"vessel_last\",\"vessel_last\",null,\"vessel_last\",\"vessel_last\",null,\"to_site2\",\"to_site2\",null,\"vessel_last\",\"vessel_last\",null],\"type\":\"scatter\"}],                        {\"hovermode\":\"closest\",\"legend\":{\"orientation\":\"h\",\"x\":0,\"y\":-0.2},\"template\":{\"data\":{\"barpolar\":[{\"marker\":{\"line\":{\"color\":\"#E5ECF6\",\"width\":0.5},\"pattern\":{\"fillmode\":\"overlay\",\"size\":10,\"solidity\":0.2}},\"type\":\"barpolar\"}],\"bar\":[{\"error_x\":{\"color\":\"#2a3f5f\"},\"error_y\":{\"color\":\"#2a3f5f\"},\"marker\":{\"line\":{\"color\":\"#E5ECF6\",\"width\":0.5},\"pattern\":{\"fillmode\":\"overlay\",\"size\":10,\"solidity\":0.2}},\"type\":\"bar\"}],\"carpet\":[{\"aaxis\":{\"endlinecolor\":\"#2a3f5f\",\"gridcolor\":\"white\",\"linecolor\":\"white\",\"minorgridcolor\":\"white\",\"startlinecolor\":\"#2a3f5f\"},\"baxis\":{\"endlinecolor\":\"#2a3f5f\",\"gridcolor\":\"white\",\"linecolor\":\"white\",\"minorgridcolor\":\"white\",\"startlinecolor\":\"#2a3f5f\"},\"type\":\"carpet\"}],\"choropleth\":[{\"colorbar\":{\"outlinewidth\":0,\"ticks\":\"\"},\"type\":\"choropleth\"}],\"contourcarpet\":[{\"colorbar\":{\"outlinewidth\":0,\"ticks\":\"\"},\"type\":\"contourcarpet\"}],\"contour\":[{\"colorbar\":{\"outlinewidth\":0,\"ticks\":\"\"},\"colorscale\":[[0.0,\"#0d0887\"],[0.1111111111111111,\"#46039f\"],[0.2222222222222222,\"#7201a8\"],[0.3333333333333333,\"#9c179e\"],[0.4444444444444444,\"#bd3786\"],[0.5555555555555556,\"#d8576b\"],[0.6666666666666666,\"#ed7953\"],[0.7777777777777778,\"#fb9f3a\"],[0.8888888888888888,\"#fdca26\"],[1.0,\"#f0f921\"]],\"type\":\"contour\"}],\"heatmapgl\":[{\"colorbar\":{\"outlinewidth\":0,\"ticks\":\"\"},\"colorscale\":[[0.0,\"#0d0887\"],[0.1111111111111111,\"#46039f\"],[0.2222222222222222,\"#7201a8\"],[0.3333333333333333,\"#9c179e\"],[0.4444444444444444,\"#bd3786\"],[0.5555555555555556,\"#d8576b\"],[0.6666666666666666,\"#ed7953\"],[0.7777777777777778,\"#fb9f3a\"],[0.8888888888888888,\"#fdca26\"],[1.0,\"#f0f921\"]],\"type\":\"heatmapgl\"}],\"heatmap\":[{\"colorbar\":{\"outlinewidth\":0,\"ticks\":\"\"},\"colorscale\":[[0.0,\"#0d0887\"],[0.1111111111111111,\"#46039f\"],[0.2222222222222222,\"#7201a8\"],[0.3333333333333333,\"#9c179e\"],[0.4444444444444444,\"#bd3786\"],[0.5555555555555556,\"#d8576b\"],[0.6666666666666666,\"#ed7953\"],[0.7777777777777778,\"#fb9f3a\"],[0.8888888888888888,\"#fdca26\"],[1.0,\"#f0f921\"]],\"type\":\"heatmap\"}],\"histogram2dcontour\":[{\"colorbar\":{\"outlinewidth\":0,\"ticks\":\"\"},\"colorscale\":[[0.0,\"#0d0887\"],[0.1111111111111111,\"#46039f\"],[0.2222222222222222,\"#7201a8\"],[0.3333333333333333,\"#9c179e\"],[0.4444444444444444,\"#bd3786\"],[0.5555555555555556,\"#d8576b\"],[0.6666666666666666,\"#ed7953\"],[0.7777777777777778,\"#fb9f3a\"],[0.8888888888888888,\"#fdca26\"],[1.0,\"#f0f921\"]],\"type\":\"histogram2dcontour\"}],\"histogram2d\":[{\"colorbar\":{\"outlinewidth\":0,\"ticks\":\"\"},\"colorscale\":[[0.0,\"#0d0887\"],[0.1111111111111111,\"#46039f\"],[0.2222222222222222,\"#7201a8\"],[0.3333333333333333,\"#9c179e\"],[0.4444444444444444,\"#bd3786\"],[0.5555555555555556,\"#d8576b\"],[0.6666666666666666,\"#ed7953\"],[0.7777777777777778,\"#fb9f3a\"],[0.8888888888888888,\"#fdca26\"],[1.0,\"#f0f921\"]],\"type\":\"histogram2d\"}],\"histogram\":[{\"marker\":{\"pattern\":{\"fillmode\":\"overlay\",\"size\":10,\"solidity\":0.2}},\"type\":\"histogram\"}],\"mesh3d\":[{\"colorbar\":{\"outlinewidth\":0,\"ticks\":\"\"},\"type\":\"mesh3d\"}],\"parcoords\":[{\"line\":{\"colorbar\":{\"outlinewidth\":0,\"ticks\":\"\"}},\"type\":\"parcoords\"}],\"pie\":[{\"automargin\":true,\"type\":\"pie\"}],\"scatter3d\":[{\"line\":{\"colorbar\":{\"outlinewidth\":0,\"ticks\":\"\"}},\"marker\":{\"colorbar\":{\"outlinewidth\":0,\"ticks\":\"\"}},\"type\":\"scatter3d\"}],\"scattercarpet\":[{\"marker\":{\"colorbar\":{\"outlinewidth\":0,\"ticks\":\"\"}},\"type\":\"scattercarpet\"}],\"scattergeo\":[{\"marker\":{\"colorbar\":{\"outlinewidth\":0,\"ticks\":\"\"}},\"type\":\"scattergeo\"}],\"scattergl\":[{\"marker\":{\"colorbar\":{\"outlinewidth\":0,\"ticks\":\"\"}},\"type\":\"scattergl\"}],\"scattermapbox\":[{\"marker\":{\"colorbar\":{\"outlinewidth\":0,\"ticks\":\"\"}},\"type\":\"scattermapbox\"}],\"scatterpolargl\":[{\"marker\":{\"colorbar\":{\"outlinewidth\":0,\"ticks\":\"\"}},\"type\":\"scatterpolargl\"}],\"scatterpolar\":[{\"marker\":{\"colorbar\":{\"outlinewidth\":0,\"ticks\":\"\"}},\"type\":\"scatterpolar\"}],\"scatter\":[{\"fillpattern\":{\"fillmode\":\"overlay\",\"size\":10,\"solidity\":0.2},\"type\":\"scatter\"}],\"scatterternary\":[{\"marker\":{\"colorbar\":{\"outlinewidth\":0,\"ticks\":\"\"}},\"type\":\"scatterternary\"}],\"surface\":[{\"colorbar\":{\"outlinewidth\":0,\"ticks\":\"\"},\"colorscale\":[[0.0,\"#0d0887\"],[0.1111111111111111,\"#46039f\"],[0.2222222222222222,\"#7201a8\"],[0.3333333333333333,\"#9c179e\"],[0.4444444444444444,\"#bd3786\"],[0.5555555555555556,\"#d8576b\"],[0.6666666666666666,\"#ed7953\"],[0.7777777777777778,\"#fb9f3a\"],[0.8888888888888888,\"#fdca26\"],[1.0,\"#f0f921\"]],\"type\":\"surface\"}],\"table\":[{\"cells\":{\"fill\":{\"color\":\"#EBF0F8\"},\"line\":{\"color\":\"white\"}},\"header\":{\"fill\":{\"color\":\"#C8D4E3\"},\"line\":{\"color\":\"white\"}},\"type\":\"table\"}]},\"layout\":{\"annotationdefaults\":{\"arrowcolor\":\"#2a3f5f\",\"arrowhead\":0,\"arrowwidth\":1},\"autotypenumbers\":\"strict\",\"coloraxis\":{\"colorbar\":{\"outlinewidth\":0,\"ticks\":\"\"}},\"colorscale\":{\"diverging\":[[0,\"#8e0152\"],[0.1,\"#c51b7d\"],[0.2,\"#de77ae\"],[0.3,\"#f1b6da\"],[0.4,\"#fde0ef\"],[0.5,\"#f7f7f7\"],[0.6,\"#e6f5d0\"],[0.7,\"#b8e186\"],[0.8,\"#7fbc41\"],[0.9,\"#4d9221\"],[1,\"#276419\"]],\"sequential\":[[0.0,\"#0d0887\"],[0.1111111111111111,\"#46039f\"],[0.2222222222222222,\"#7201a8\"],[0.3333333333333333,\"#9c179e\"],[0.4444444444444444,\"#bd3786\"],[0.5555555555555556,\"#d8576b\"],[0.6666666666666666,\"#ed7953\"],[0.7777777777777778,\"#fb9f3a\"],[0.8888888888888888,\"#fdca26\"],[1.0,\"#f0f921\"]],\"sequentialminus\":[[0.0,\"#0d0887\"],[0.1111111111111111,\"#46039f\"],[0.2222222222222222,\"#7201a8\"],[0.3333333333333333,\"#9c179e\"],[0.4444444444444444,\"#bd3786\"],[0.5555555555555556,\"#d8576b\"],[0.6666666666666666,\"#ed7953\"],[0.7777777777777778,\"#fb9f3a\"],[0.8888888888888888,\"#fdca26\"],[1.0,\"#f0f921\"]]},\"colorway\":[\"#636efa\",\"#EF553B\",\"#00cc96\",\"#ab63fa\",\"#FFA15A\",\"#19d3f3\",\"#FF6692\",\"#B6E880\",\"#FF97FF\",\"#FECB52\"],\"font\":{\"color\":\"#2a3f5f\"},\"geo\":{\"bgcolor\":\"white\",\"lakecolor\":\"white\",\"landcolor\":\"#E5ECF6\",\"showlakes\":true,\"showland\":true,\"subunitcolor\":\"white\"},\"hoverlabel\":{\"align\":\"left\"},\"hovermode\":\"closest\",\"mapbox\":{\"style\":\"light\"},\"paper_bgcolor\":\"white\",\"plot_bgcolor\":\"#E5ECF6\",\"polar\":{\"angularaxis\":{\"gridcolor\":\"white\",\"linecolor\":\"white\",\"ticks\":\"\"},\"bgcolor\":\"#E5ECF6\",\"radialaxis\":{\"gridcolor\":\"white\",\"linecolor\":\"white\",\"ticks\":\"\"}},\"scene\":{\"xaxis\":{\"backgroundcolor\":\"#E5ECF6\",\"gridcolor\":\"white\",\"gridwidth\":2,\"linecolor\":\"white\",\"showbackground\":true,\"ticks\":\"\",\"zerolinecolor\":\"white\"},\"yaxis\":{\"backgroundcolor\":\"#E5ECF6\",\"gridcolor\":\"white\",\"gridwidth\":2,\"linecolor\":\"white\",\"showbackground\":true,\"ticks\":\"\",\"zerolinecolor\":\"white\"},\"zaxis\":{\"backgroundcolor\":\"#E5ECF6\",\"gridcolor\":\"white\",\"gridwidth\":2,\"linecolor\":\"white\",\"showbackground\":true,\"ticks\":\"\",\"zerolinecolor\":\"white\"}},\"shapedefaults\":{\"line\":{\"color\":\"#2a3f5f\"}},\"ternary\":{\"aaxis\":{\"gridcolor\":\"white\",\"linecolor\":\"white\",\"ticks\":\"\"},\"baxis\":{\"gridcolor\":\"white\",\"linecolor\":\"white\",\"ticks\":\"\"},\"bgcolor\":\"#E5ECF6\",\"caxis\":{\"gridcolor\":\"white\",\"linecolor\":\"white\",\"ticks\":\"\"}},\"title\":{\"x\":0.05},\"xaxis\":{\"automargin\":true,\"gridcolor\":\"white\",\"linecolor\":\"white\",\"ticks\":\"\",\"title\":{\"standoff\":15},\"zerolinecolor\":\"white\",\"zerolinewidth\":2},\"yaxis\":{\"automargin\":true,\"gridcolor\":\"white\",\"linecolor\":\"white\",\"ticks\":\"\",\"title\":{\"standoff\":15},\"zerolinecolor\":\"white\",\"zerolinewidth\":2}}},\"title\":{\"text\":\"GANTT Chart\"},\"xaxis\":{\"range\":[\"1970-01-01T00:00:00\",\"1970-01-01T15:15:00\"],\"title\":{\"font\":{\"color\":\"#7f7f7f\",\"family\":\"Courier New, monospace\",\"size\":18},\"text\":\"Time\"}},\"yaxis\":{\"title\":{\"font\":{\"color\":\"#7f7f7f\",\"family\":\"Courier New, monospace\",\"size\":18},\"text\":\"Activities\"}}},                        {\"responsive\": true}                    ).then(function(){\n",
       "                            \n",
       "var gd = document.getElementById('4d74f631-890e-410c-af3a-47fb431f527b');\n",
       "var x = new MutationObserver(function (mutations, observer) {{\n",
       "        var display = window.getComputedStyle(gd).display;\n",
       "        if (!display || display === 'none') {{\n",
       "            console.log([gd, 'removed!']);\n",
       "            Plotly.purge(gd);\n",
       "            observer.disconnect();\n",
       "        }}\n",
       "}});\n",
       "\n",
       "// Listen for the removal of the full notebook cells\n",
       "var notebookContainer = gd.closest('#notebook-container');\n",
       "if (notebookContainer) {{\n",
       "    x.observe(notebookContainer, {childList: true});\n",
       "}}\n",
       "\n",
       "// Listen for the clearing of the current output cell\n",
       "var outputEl = gd.closest('.output');\n",
       "if (outputEl) {{\n",
       "    x.observe(outputEl, {childList: true});\n",
       "}}\n",
       "\n",
       "                        })                };                });            </script>        </div>"
      ]
     },
     "metadata": {},
     "output_type": "display_data"
    }
   ],
   "source": [
    "my_cp_log = CpLog(obj, act)\n",
    "my_cp_log.get_dependencies()\n",
    "my_cp_log.mark_critical_activities()\n",
    "#my_cp_log.make_gantt_mpl()\n",
    "my_cp_log.make_gantt_plotly()"
   ]
  },
  {
   "cell_type": "markdown",
   "id": "663cf030",
   "metadata": {},
   "source": [
    "### Full critical log and dependencies output\n",
    "If one is interested, the logging and the dependencies as used for critical path determination can be shown."
   ]
  },
  {
   "cell_type": "code",
   "execution_count": 5,
   "id": "2f00000e",
   "metadata": {},
   "outputs": [
    {
     "name": "stdout",
     "output_type": "stream",
     "text": [
      "[('cp_activity_9', 'cp_activity_11'), ('cp_activity_5', 'cp_activity_6'), ('cp_activity_17', 'cp_activity_29'), ('cp_activity_39', 'cp_activity_42'), ('cp_activity_13', 'cp_activity_21'), ('cp_activity_32', 'cp_activity_36'), ('cp_activity_35', 'cp_activity_16'), ('cp_activity_36', 'cp_activity_38'), ('cp_activity_16', 'cp_activity_27'), ('cp_activity_23', 'cp_activity_24'), ('cp_activity_19', 'cp_activity_31'), ('cp_activity_24', 'cp_activity_18'), ('cp_activity_34', 'cp_activity_15'), ('cp_activity_38', 'cp_activity_39'), ('cp_activity_2', 'cp_activity_7'), ('cp_activity_20', 'cp_activity_32'), ('cp_activity_27', 'cp_activity_28'), ('cp_activity_6', 'cp_activity_3'), ('cp_activity_42', 'cp_activity_40'), ('cp_activity_30', 'cp_activity_34'), ('cp_activity_31', 'cp_activity_35'), ('cp_activity_4', 'cp_activity_10'), ('cp_activity_29', 'cp_activity_33'), ('cp_activity_8', 'cp_activity_4'), ('cp_activity_10', 'cp_activity_12'), ('cp_activity_40', 'cp_activity_41'), ('cp_activity_28', 'cp_activity_20'), ('cp_activity_14', 'cp_activity_23'), ('cp_activity_21', 'cp_activity_22'), ('cp_activity_3', 'cp_activity_9'), ('cp_activity_33', 'cp_activity_14'), ('cp_activity_18', 'cp_activity_30'), ('cp_activity_22', 'cp_activity_17'), ('cp_activity_37', 'cp_activity_38'), ('cp_activity_1', 'cp_activity_5'), ('cp_activity_15', 'cp_activity_25'), ('cp_activity_11', 'cp_activity_2'), ('cp_activity_25', 'cp_activity_26'), ('cp_activity_26', 'cp_activity_19'), ('cp_activity_7', 'cp_activity_8')]\n"
     ]
    },
    {
     "data": {
      "text/html": [
       "<div>\n",
       "<style scoped>\n",
       "    .dataframe tbody tr th:only-of-type {\n",
       "        vertical-align: middle;\n",
       "    }\n",
       "\n",
       "    .dataframe tbody tr th {\n",
       "        vertical-align: top;\n",
       "    }\n",
       "\n",
       "    .dataframe thead th {\n",
       "        text-align: right;\n",
       "    }\n",
       "</style>\n",
       "<table border=\"1\" class=\"dataframe\">\n",
       "  <thead>\n",
       "    <tr style=\"text-align: right;\">\n",
       "      <th></th>\n",
       "      <th>Activity</th>\n",
       "      <th>ActivityID</th>\n",
       "      <th>SimulationObject</th>\n",
       "      <th>start_time</th>\n",
       "      <th>state</th>\n",
       "      <th>duration</th>\n",
       "      <th>end_time</th>\n",
       "      <th>cp_activity_id</th>\n",
       "      <th>is_critical</th>\n",
       "    </tr>\n",
       "  </thead>\n",
       "  <tbody>\n",
       "    <tr>\n",
       "      <th>0</th>\n",
       "      <td>barge1: basic activity</td>\n",
       "      <td>3f0bbe9a-cef5-4fa6-8074-202713e78a6b</td>\n",
       "      <td>barge1</td>\n",
       "      <td>1970-01-01 00:00:00</td>\n",
       "      <td>ACTIVE</td>\n",
       "      <td>0 days 00:33:20</td>\n",
       "      <td>1970-01-01 00:33:20</td>\n",
       "      <td>cp_activity_1</td>\n",
       "      <td>False</td>\n",
       "    </tr>\n",
       "    <tr>\n",
       "      <th>1</th>\n",
       "      <td>barge2: basic activity</td>\n",
       "      <td>ff518dbd-435b-4d5a-ba4a-61cba836818c</td>\n",
       "      <td>barge2</td>\n",
       "      <td>1970-01-01 00:00:00</td>\n",
       "      <td>ACTIVE</td>\n",
       "      <td>0 days 00:33:20</td>\n",
       "      <td>1970-01-01 00:33:20</td>\n",
       "      <td>cp_activity_13</td>\n",
       "      <td>True</td>\n",
       "    </tr>\n",
       "    <tr>\n",
       "      <th>2</th>\n",
       "      <td>vessel_last: basic activity</td>\n",
       "      <td>85426a10-44c8-4d13-8c68-fcf4d1d33764</td>\n",
       "      <td>vessel_last</td>\n",
       "      <td>1970-01-01 00:00:00</td>\n",
       "      <td>WAITING</td>\n",
       "      <td>0 days 14:26:40</td>\n",
       "      <td>1970-01-01 14:26:40</td>\n",
       "      <td>cp_activity_37</td>\n",
       "      <td>True</td>\n",
       "    </tr>\n",
       "    <tr>\n",
       "      <th>3</th>\n",
       "      <td>barge1: sailing empty delay</td>\n",
       "      <td>e5141685-a20e-49f0-8fb0-776984f336ae</td>\n",
       "      <td>barge1</td>\n",
       "      <td>1970-01-01 00:33:20</td>\n",
       "      <td>ACTIVE</td>\n",
       "      <td>0 days 00:37:30</td>\n",
       "      <td>1970-01-01 01:10:50</td>\n",
       "      <td>cp_activity_5</td>\n",
       "      <td>False</td>\n",
       "    </tr>\n",
       "    <tr>\n",
       "      <th>4</th>\n",
       "      <td>barge2: sailing empty delay</td>\n",
       "      <td>95d86b2a-1964-4b0d-bea8-c43acf1b9709</td>\n",
       "      <td>barge2</td>\n",
       "      <td>1970-01-01 00:33:20</td>\n",
       "      <td>ACTIVE</td>\n",
       "      <td>0 days 00:37:30</td>\n",
       "      <td>1970-01-01 01:10:50</td>\n",
       "      <td>cp_activity_21</td>\n",
       "      <td>True</td>\n",
       "    </tr>\n",
       "  </tbody>\n",
       "</table>\n",
       "</div>"
      ],
      "text/plain": [
       "                      Activity                            ActivityID  \\\n",
       "0       barge1: basic activity  3f0bbe9a-cef5-4fa6-8074-202713e78a6b   \n",
       "1       barge2: basic activity  ff518dbd-435b-4d5a-ba4a-61cba836818c   \n",
       "2  vessel_last: basic activity  85426a10-44c8-4d13-8c68-fcf4d1d33764   \n",
       "3  barge1: sailing empty delay  e5141685-a20e-49f0-8fb0-776984f336ae   \n",
       "4  barge2: sailing empty delay  95d86b2a-1964-4b0d-bea8-c43acf1b9709   \n",
       "\n",
       "  SimulationObject          start_time    state        duration  \\\n",
       "0           barge1 1970-01-01 00:00:00   ACTIVE 0 days 00:33:20   \n",
       "1           barge2 1970-01-01 00:00:00   ACTIVE 0 days 00:33:20   \n",
       "2      vessel_last 1970-01-01 00:00:00  WAITING 0 days 14:26:40   \n",
       "3           barge1 1970-01-01 00:33:20   ACTIVE 0 days 00:37:30   \n",
       "4           barge2 1970-01-01 00:33:20   ACTIVE 0 days 00:37:30   \n",
       "\n",
       "             end_time  cp_activity_id  is_critical  \n",
       "0 1970-01-01 00:33:20   cp_activity_1        False  \n",
       "1 1970-01-01 00:33:20  cp_activity_13         True  \n",
       "2 1970-01-01 14:26:40  cp_activity_37         True  \n",
       "3 1970-01-01 01:10:50   cp_activity_5        False  \n",
       "4 1970-01-01 01:10:50  cp_activity_21         True  "
      ]
     },
     "execution_count": 5,
     "metadata": {},
     "output_type": "execute_result"
    }
   ],
   "source": [
    "print(my_cp_log.all_cp_dependencies)\n",
    "my_cp_log.cp_log.head()"
   ]
  }
 ],
 "metadata": {
  "kernelspec": {
   "display_name": "Python 3 (ipykernel)",
   "language": "python",
   "name": "python3"
  },
  "language_info": {
   "codemirror_mode": {
    "name": "ipython",
    "version": 3
   },
   "file_extension": ".py",
   "mimetype": "text/x-python",
   "name": "python",
   "nbconvert_exporter": "python",
   "pygments_lexer": "ipython3",
   "version": "3.9.12"
  }
 },
 "nbformat": 4,
 "nbformat_minor": 5
}
